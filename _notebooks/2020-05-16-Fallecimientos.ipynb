{
 "cells": [
  {
   "cell_type": "markdown",
   "metadata": {},
   "source": [
    "# Fallecimientos en Chile\n",
    "> Fallecimientos en Chile\n",
    "\n",
    "- toc: true \n",
    "- badges: true\n",
    "- comments: true\n",
    "- author: Alonso Silva Allende\n",
    "- categories: [jupyter]\n",
    "- image: images/fallecimientos.png"
   ]
  },
  {
   "cell_type": "code",
   "execution_count": 1,
   "metadata": {},
   "outputs": [],
   "source": [
    "#hide\n",
    "import numpy as np\n",
    "import pandas as pd\n",
    "import altair as alt"
   ]
  },
  {
   "cell_type": "code",
   "execution_count": 2,
   "metadata": {},
   "outputs": [],
   "source": [
    "#hide\n",
    "data_raw = pd.read_csv(\n",
    "\"https://raw.githubusercontent.com/alonsosilvaallende/COVID-19/master/data/Chile-defunciones-semanales.csv\")"
   ]
  },
  {
   "cell_type": "markdown",
   "metadata": {},
   "source": [
    "# Fallecimientos semanales"
   ]
  },
  {
   "cell_type": "code",
   "execution_count": 3,
   "metadata": {},
   "outputs": [],
   "source": [
    "#hide\n",
    "data = pd.DataFrame()\n",
    "data['index'] = data_raw.T.reset_index()['index'][2:]\n",
    "for i in np.arange(len(data_raw)):\n",
    "    data[f\"{data_raw.iloc[i,0]}\"] = data_raw.iloc[i,2:].values\n",
    "data['codigo'] = np.arange(len(data))\n",
    "data = data.set_index('index')\n",
    "data = data.reset_index().melt(['index', 'codigo'], var_name='Year', value_name='Deaths')"
   ]
  },
  {
   "cell_type": "code",
   "execution_count": 4,
   "metadata": {},
   "outputs": [
    {
     "data": {
      "text/html": [
       "\n",
       "<div id=\"altair-viz-6f279c3008ea4cfe88598355bbce5076\"></div>\n",
       "<script type=\"text/javascript\">\n",
       "  (function(spec, embedOpt){\n",
       "    let outputDiv = document.currentScript.previousElementSibling;\n",
       "    if (outputDiv.id !== \"altair-viz-6f279c3008ea4cfe88598355bbce5076\") {\n",
       "      outputDiv = document.getElementById(\"altair-viz-6f279c3008ea4cfe88598355bbce5076\");\n",
       "    }\n",
       "    const paths = {\n",
       "      \"vega\": \"https://cdn.jsdelivr.net/npm//vega@5?noext\",\n",
       "      \"vega-lib\": \"https://cdn.jsdelivr.net/npm//vega-lib?noext\",\n",
       "      \"vega-lite\": \"https://cdn.jsdelivr.net/npm//vega-lite@4.8.1?noext\",\n",
       "      \"vega-embed\": \"https://cdn.jsdelivr.net/npm//vega-embed@6?noext\",\n",
       "    };\n",
       "\n",
       "    function loadScript(lib) {\n",
       "      return new Promise(function(resolve, reject) {\n",
       "        var s = document.createElement('script');\n",
       "        s.src = paths[lib];\n",
       "        s.async = true;\n",
       "        s.onload = () => resolve(paths[lib]);\n",
       "        s.onerror = () => reject(`Error loading script: ${paths[lib]}`);\n",
       "        document.getElementsByTagName(\"head\")[0].appendChild(s);\n",
       "      });\n",
       "    }\n",
       "\n",
       "    function showError(err) {\n",
       "      outputDiv.innerHTML = `<div class=\"error\" style=\"color:red;\">${err}</div>`;\n",
       "      throw err;\n",
       "    }\n",
       "\n",
       "    function displayChart(vegaEmbed) {\n",
       "      vegaEmbed(outputDiv, spec, embedOpt)\n",
       "        .catch(err => showError(`Javascript Error: ${err.message}<br>This usually means there's a typo in your chart specification. See the javascript console for the full traceback.`));\n",
       "    }\n",
       "\n",
       "    if(typeof define === \"function\" && define.amd) {\n",
       "      requirejs.config({paths});\n",
       "      require([\"vega-embed\"], displayChart, err => showError(`Error loading script: ${err.message}`));\n",
       "    } else if (typeof vegaEmbed === \"function\") {\n",
       "      displayChart(vegaEmbed);\n",
       "    } else {\n",
       "      loadScript(\"vega\")\n",
       "        .then(() => loadScript(\"vega-lite\"))\n",
       "        .then(() => loadScript(\"vega-embed\"))\n",
       "        .catch(showError)\n",
       "        .then(() => displayChart(vegaEmbed));\n",
       "    }\n",
       "  })({\"config\": {\"view\": {\"continuousWidth\": 400, \"continuousHeight\": 300}}, \"layer\": [{\"mark\": {\"type\": \"line\", \"point\": true}, \"encoding\": {\"color\": {\"type\": \"nominal\", \"field\": \"Year\", \"scale\": {\"scheme\": \"tableau20\"}}, \"order\": {\"type\": \"quantitative\", \"field\": \"codigo\"}, \"x\": {\"type\": \"nominal\", \"axis\": {\"title\": \"Semanas\"}, \"field\": \"index\", \"sort\": null}, \"y\": {\"type\": \"quantitative\", \"axis\": {\"title\": \"Muertes semanales\"}, \"field\": \"Deaths\"}}}, {\"mark\": {\"type\": \"rule\", \"color\": \"#aaa\"}, \"encoding\": {\"x\": {\"type\": \"nominal\", \"axis\": {\"title\": \"Semanas\"}, \"field\": \"index\", \"sort\": null}}, \"transform\": [{\"filter\": {\"selection\": \"selector001\"}}]}, {\"mark\": \"circle\", \"encoding\": {\"color\": {\"type\": \"nominal\", \"field\": \"Year\", \"scale\": {\"scheme\": \"tableau20\"}}, \"opacity\": {\"condition\": {\"value\": 1, \"selection\": \"selector001\"}, \"value\": 0}, \"order\": {\"type\": \"quantitative\", \"field\": \"codigo\"}, \"x\": {\"type\": \"nominal\", \"axis\": {\"title\": \"Semanas\"}, \"field\": \"index\", \"sort\": null}, \"y\": {\"type\": \"quantitative\", \"axis\": {\"title\": \"Muertes semanales\"}, \"field\": \"Deaths\"}}, \"selection\": {\"selector001\": {\"type\": \"single\", \"encodings\": [\"x\"], \"on\": \"mouseover\", \"nearest\": true, \"empty\": \"none\"}}}, {\"mark\": {\"type\": \"text\", \"align\": \"left\", \"dx\": 5, \"dy\": -5, \"stroke\": \"white\", \"strokeWidth\": 2}, \"encoding\": {\"color\": {\"type\": \"nominal\", \"field\": \"Year\", \"scale\": {\"scheme\": \"tableau20\"}}, \"order\": {\"type\": \"quantitative\", \"field\": \"codigo\"}, \"text\": {\"type\": \"quantitative\", \"field\": \"Deaths\"}, \"x\": {\"type\": \"nominal\", \"axis\": {\"title\": \"Semanas\"}, \"field\": \"index\", \"sort\": null}, \"y\": {\"type\": \"quantitative\", \"axis\": {\"title\": \"Muertes semanales\"}, \"field\": \"Deaths\"}}, \"transform\": [{\"filter\": {\"selection\": \"selector001\"}}]}, {\"mark\": {\"type\": \"text\", \"align\": \"left\", \"dx\": 5, \"dy\": -5}, \"encoding\": {\"color\": {\"type\": \"nominal\", \"field\": \"Year\", \"scale\": {\"scheme\": \"tableau20\"}}, \"order\": {\"type\": \"quantitative\", \"field\": \"codigo\"}, \"text\": {\"type\": \"quantitative\", \"field\": \"Deaths\"}, \"x\": {\"type\": \"nominal\", \"axis\": {\"title\": \"Semanas\"}, \"field\": \"index\", \"sort\": null}, \"y\": {\"type\": \"quantitative\", \"axis\": {\"title\": \"Muertes semanales\"}, \"field\": \"Deaths\"}}, \"transform\": [{\"filter\": {\"selection\": \"selector001\"}}]}], \"data\": {\"name\": \"data-aa3bc45108492604504692a83f9bc6ba\"}, \"title\": \"Fallecimientos semanales seg\\u00fan fecha de inscripci\\u00f3n\", \"width\": 600, \"$schema\": \"https://vega.github.io/schema/vega-lite/v4.8.1.json\", \"datasets\": {\"data-aa3bc45108492604504692a83f9bc6ba\": [{\"index\": \"01/03 - 07/03\", \"codigo\": 0, \"Year\": \"2010\", \"Deaths\": 1691}, {\"index\": \"08/03 - 14/03\", \"codigo\": 1, \"Year\": \"2010\", \"Deaths\": 1794}, {\"index\": \"15/3 - 21/03\", \"codigo\": 2, \"Year\": \"2010\", \"Deaths\": 1703}, {\"index\": \"22/03 - 28/03\", \"codigo\": 3, \"Year\": \"2010\", \"Deaths\": 1644}, {\"index\": \"29/03 - 04/04\", \"codigo\": 4, \"Year\": \"2010\", \"Deaths\": 1709}, {\"index\": \"05/04 - 11/04\", \"codigo\": 5, \"Year\": \"2010\", \"Deaths\": 1682}, {\"index\": \"12-04 - 18/04\", \"codigo\": 6, \"Year\": \"2010\", \"Deaths\": 1730}, {\"index\": \"19/04 - 25/04\", \"codigo\": 7, \"Year\": \"2010\", \"Deaths\": 1693}, {\"index\": \"26/04 - 02/05\", \"codigo\": 8, \"Year\": \"2010\", \"Deaths\": 1937}, {\"index\": \"03/05 - 09/05\", \"codigo\": 9, \"Year\": \"2010\", \"Deaths\": 1875}, {\"index\": \"01/03 - 07/03\", \"codigo\": 0, \"Year\": \"2011\", \"Deaths\": 1590}, {\"index\": \"08/03 - 14/03\", \"codigo\": 1, \"Year\": \"2011\", \"Deaths\": 1761}, {\"index\": \"15/3 - 21/03\", \"codigo\": 2, \"Year\": \"2011\", \"Deaths\": 1605}, {\"index\": \"22/03 - 28/03\", \"codigo\": 3, \"Year\": \"2011\", \"Deaths\": 1617}, {\"index\": \"29/03 - 04/04\", \"codigo\": 4, \"Year\": \"2011\", \"Deaths\": 1739}, {\"index\": \"05/04 - 11/04\", \"codigo\": 5, \"Year\": \"2011\", \"Deaths\": 1680}, {\"index\": \"12-04 - 18/04\", \"codigo\": 6, \"Year\": \"2011\", \"Deaths\": 1701}, {\"index\": \"19/04 - 25/04\", \"codigo\": 7, \"Year\": \"2011\", \"Deaths\": 1729}, {\"index\": \"26/04 - 02/05\", \"codigo\": 8, \"Year\": \"2011\", \"Deaths\": 1760}, {\"index\": \"03/05 - 09/05\", \"codigo\": 9, \"Year\": \"2011\", \"Deaths\": 1816}, {\"index\": \"01/03 - 07/03\", \"codigo\": 0, \"Year\": \"2012\", \"Deaths\": 1779}, {\"index\": \"08/03 - 14/03\", \"codigo\": 1, \"Year\": \"2012\", \"Deaths\": 1903}, {\"index\": \"15/3 - 21/03\", \"codigo\": 2, \"Year\": \"2012\", \"Deaths\": 1663}, {\"index\": \"22/03 - 28/03\", \"codigo\": 3, \"Year\": \"2012\", \"Deaths\": 1718}, {\"index\": \"29/03 - 04/04\", \"codigo\": 4, \"Year\": \"2012\", \"Deaths\": 1716}, {\"index\": \"05/04 - 11/04\", \"codigo\": 5, \"Year\": \"2012\", \"Deaths\": 1756}, {\"index\": \"12-04 - 18/04\", \"codigo\": 6, \"Year\": \"2012\", \"Deaths\": 1716}, {\"index\": \"19/04 - 25/04\", \"codigo\": 7, \"Year\": \"2012\", \"Deaths\": 1755}, {\"index\": \"26/04 - 02/05\", \"codigo\": 8, \"Year\": \"2012\", \"Deaths\": 1873}, {\"index\": \"03/05 - 09/05\", \"codigo\": 9, \"Year\": \"2012\", \"Deaths\": 1798}, {\"index\": \"01/03 - 07/03\", \"codigo\": 0, \"Year\": \"2013\", \"Deaths\": 1678}, {\"index\": \"08/03 - 14/03\", \"codigo\": 1, \"Year\": \"2013\", \"Deaths\": 2027}, {\"index\": \"15/3 - 21/03\", \"codigo\": 2, \"Year\": \"2013\", \"Deaths\": 1680}, {\"index\": \"22/03 - 28/03\", \"codigo\": 3, \"Year\": \"2013\", \"Deaths\": 1721}, {\"index\": \"29/03 - 04/04\", \"codigo\": 4, \"Year\": \"2013\", \"Deaths\": 1677}, {\"index\": \"05/04 - 11/04\", \"codigo\": 5, \"Year\": \"2013\", \"Deaths\": 1824}, {\"index\": \"12-04 - 18/04\", \"codigo\": 6, \"Year\": \"2013\", \"Deaths\": 1782}, {\"index\": \"19/04 - 25/04\", \"codigo\": 7, \"Year\": \"2013\", \"Deaths\": 1757}, {\"index\": \"26/04 - 02/05\", \"codigo\": 8, \"Year\": \"2013\", \"Deaths\": 1886}, {\"index\": \"03/05 - 09/05\", \"codigo\": 9, \"Year\": \"2013\", \"Deaths\": 1796}, {\"index\": \"01/03 - 07/03\", \"codigo\": 0, \"Year\": \"2014\", \"Deaths\": 1659}, {\"index\": \"08/03 - 14/03\", \"codigo\": 1, \"Year\": \"2014\", \"Deaths\": 1925}, {\"index\": \"15/3 - 21/03\", \"codigo\": 2, \"Year\": \"2014\", \"Deaths\": 1777}, {\"index\": \"22/03 - 28/03\", \"codigo\": 3, \"Year\": \"2014\", \"Deaths\": 1729}, {\"index\": \"29/03 - 04/04\", \"codigo\": 4, \"Year\": \"2014\", \"Deaths\": 1784}, {\"index\": \"05/04 - 11/04\", \"codigo\": 5, \"Year\": \"2014\", \"Deaths\": 1945}, {\"index\": \"12-04 - 18/04\", \"codigo\": 6, \"Year\": \"2014\", \"Deaths\": 1874}, {\"index\": \"19/04 - 25/04\", \"codigo\": 7, \"Year\": \"2014\", \"Deaths\": 1933}, {\"index\": \"26/04 - 02/05\", \"codigo\": 8, \"Year\": \"2014\", \"Deaths\": 1895}, {\"index\": \"03/05 - 09/05\", \"codigo\": 9, \"Year\": \"2014\", \"Deaths\": 1955}, {\"index\": \"01/03 - 07/03\", \"codigo\": 0, \"Year\": \"2015\", \"Deaths\": 1717}, {\"index\": \"08/03 - 14/03\", \"codigo\": 1, \"Year\": \"2015\", \"Deaths\": 2122}, {\"index\": \"15/3 - 21/03\", \"codigo\": 2, \"Year\": \"2015\", \"Deaths\": 1800}, {\"index\": \"22/03 - 28/03\", \"codigo\": 3, \"Year\": \"2015\", \"Deaths\": 1825}, {\"index\": \"29/03 - 04/04\", \"codigo\": 4, \"Year\": \"2015\", \"Deaths\": 1741}, {\"index\": \"05/04 - 11/04\", \"codigo\": 5, \"Year\": \"2015\", \"Deaths\": 1774}, {\"index\": \"12-04 - 18/04\", \"codigo\": 6, \"Year\": \"2015\", \"Deaths\": 1812}, {\"index\": \"19/04 - 25/04\", \"codigo\": 7, \"Year\": \"2015\", \"Deaths\": 1931}, {\"index\": \"26/04 - 02/05\", \"codigo\": 8, \"Year\": \"2015\", \"Deaths\": 1917}, {\"index\": \"03/05 - 09/05\", \"codigo\": 9, \"Year\": \"2015\", \"Deaths\": 1896}, {\"index\": \"01/03 - 07/03\", \"codigo\": 0, \"Year\": \"2016\", \"Deaths\": 1768}, {\"index\": \"08/03 - 14/03\", \"codigo\": 1, \"Year\": \"2016\", \"Deaths\": 2018}, {\"index\": \"15/3 - 21/03\", \"codigo\": 2, \"Year\": \"2016\", \"Deaths\": 1788}, {\"index\": \"22/03 - 28/03\", \"codigo\": 3, \"Year\": \"2016\", \"Deaths\": 1757}, {\"index\": \"29/03 - 04/04\", \"codigo\": 4, \"Year\": \"2016\", \"Deaths\": 1748}, {\"index\": \"05/04 - 11/04\", \"codigo\": 5, \"Year\": \"2016\", \"Deaths\": 1845}, {\"index\": \"12-04 - 18/04\", \"codigo\": 6, \"Year\": \"2016\", \"Deaths\": 1893}, {\"index\": \"19/04 - 25/04\", \"codigo\": 7, \"Year\": \"2016\", \"Deaths\": 1929}, {\"index\": \"26/04 - 02/05\", \"codigo\": 8, \"Year\": \"2016\", \"Deaths\": 1990}, {\"index\": \"03/05 - 09/05\", \"codigo\": 9, \"Year\": \"2016\", \"Deaths\": 1904}, {\"index\": \"01/03 - 07/03\", \"codigo\": 0, \"Year\": \"2017\", \"Deaths\": 1729}, {\"index\": \"08/03 - 14/03\", \"codigo\": 1, \"Year\": \"2017\", \"Deaths\": 1962}, {\"index\": \"15/3 - 21/03\", \"codigo\": 2, \"Year\": \"2017\", \"Deaths\": 1746}, {\"index\": \"22/03 - 28/03\", \"codigo\": 3, \"Year\": \"2017\", \"Deaths\": 1819}, {\"index\": \"29/03 - 04/04\", \"codigo\": 4, \"Year\": \"2017\", \"Deaths\": 1827}, {\"index\": \"05/04 - 11/04\", \"codigo\": 5, \"Year\": \"2017\", \"Deaths\": 1933}, {\"index\": \"12-04 - 18/04\", \"codigo\": 6, \"Year\": \"2017\", \"Deaths\": 1890}, {\"index\": \"19/04 - 25/04\", \"codigo\": 7, \"Year\": \"2017\", \"Deaths\": 1853}, {\"index\": \"26/04 - 02/05\", \"codigo\": 8, \"Year\": \"2017\", \"Deaths\": 1974}, {\"index\": \"03/05 - 09/05\", \"codigo\": 9, \"Year\": \"2017\", \"Deaths\": 1943}, {\"index\": \"01/03 - 07/03\", \"codigo\": 0, \"Year\": \"2018\", \"Deaths\": 1792}, {\"index\": \"08/03 - 14/03\", \"codigo\": 1, \"Year\": \"2018\", \"Deaths\": 1877}, {\"index\": \"15/3 - 21/03\", \"codigo\": 2, \"Year\": \"2018\", \"Deaths\": 1828}, {\"index\": \"22/03 - 28/03\", \"codigo\": 3, \"Year\": \"2018\", \"Deaths\": 1876}, {\"index\": \"29/03 - 04/04\", \"codigo\": 4, \"Year\": \"2018\", \"Deaths\": 1898}, {\"index\": \"05/04 - 11/04\", \"codigo\": 5, \"Year\": \"2018\", \"Deaths\": 1949}, {\"index\": \"12-04 - 18/04\", \"codigo\": 6, \"Year\": \"2018\", \"Deaths\": 1884}, {\"index\": \"19/04 - 25/04\", \"codigo\": 7, \"Year\": \"2018\", \"Deaths\": 2002}, {\"index\": \"26/04 - 02/05\", \"codigo\": 8, \"Year\": \"2018\", \"Deaths\": 1895}, {\"index\": \"03/05 - 09/05\", \"codigo\": 9, \"Year\": \"2018\", \"Deaths\": 1942}, {\"index\": \"01/03 - 07/03\", \"codigo\": 0, \"Year\": \"2019\", \"Deaths\": 1820}, {\"index\": \"08/03 - 14/03\", \"codigo\": 1, \"Year\": \"2019\", \"Deaths\": 1864}, {\"index\": \"15/3 - 21/03\", \"codigo\": 2, \"Year\": \"2019\", \"Deaths\": 1827}, {\"index\": \"22/03 - 28/03\", \"codigo\": 3, \"Year\": \"2019\", \"Deaths\": 1899}, {\"index\": \"29/03 - 04/04\", \"codigo\": 4, \"Year\": \"2019\", \"Deaths\": 1887}, {\"index\": \"05/04 - 11/04\", \"codigo\": 5, \"Year\": \"2019\", \"Deaths\": 1993}, {\"index\": \"12-04 - 18/04\", \"codigo\": 6, \"Year\": \"2019\", \"Deaths\": 2051}, {\"index\": \"19/04 - 25/04\", \"codigo\": 7, \"Year\": \"2019\", \"Deaths\": 1909}, {\"index\": \"26/04 - 02/05\", \"codigo\": 8, \"Year\": \"2019\", \"Deaths\": 2023}, {\"index\": \"03/05 - 09/05\", \"codigo\": 9, \"Year\": \"2019\", \"Deaths\": 2078}, {\"index\": \"01/03 - 07/03\", \"codigo\": 0, \"Year\": \"2020\", \"Deaths\": 1978}, {\"index\": \"08/03 - 14/03\", \"codigo\": 1, \"Year\": \"2020\", \"Deaths\": 1945}, {\"index\": \"15/3 - 21/03\", \"codigo\": 2, \"Year\": \"2020\", \"Deaths\": 1981}, {\"index\": \"22/03 - 28/03\", \"codigo\": 3, \"Year\": \"2020\", \"Deaths\": 1924}, {\"index\": \"29/03 - 04/04\", \"codigo\": 4, \"Year\": \"2020\", \"Deaths\": 2014}, {\"index\": \"05/04 - 11/04\", \"codigo\": 5, \"Year\": \"2020\", \"Deaths\": 1938}, {\"index\": \"12-04 - 18/04\", \"codigo\": 6, \"Year\": \"2020\", \"Deaths\": 2194}, {\"index\": \"19/04 - 25/04\", \"codigo\": 7, \"Year\": \"2020\", \"Deaths\": 2078}, {\"index\": \"26/04 - 02/05\", \"codigo\": 8, \"Year\": \"2020\", \"Deaths\": 1938}, {\"index\": \"03/05 - 09/05\", \"codigo\": 9, \"Year\": \"2020\", \"Deaths\": 2257}]}}, {\"mode\": \"vega-lite\"});\n",
       "</script>"
      ],
      "text/plain": [
       "alt.LayerChart(...)"
      ]
     },
     "execution_count": 4,
     "metadata": {},
     "output_type": "execute_result"
    }
   ],
   "source": [
    "#hide_input\n",
    "label = alt.selection_single(\n",
    "    encodings=['x'], # limit selection to x-axis value\n",
    "    on='mouseover',  # select on mouseover events\n",
    "    nearest=True,    # select data point nearest the cursor\n",
    "    empty='none'     # empty selection includes no data points\n",
    ")\n",
    "\n",
    "base = alt.Chart(data).mark_line(point=True).encode(\n",
    "    x = alt.X('index:N', axis=alt.Axis(title='Semanas'), sort=None),\n",
    "    y = alt.Y('Deaths:Q', axis=alt.Axis(title='Muertes semanales')),\n",
    "    color=alt.Color('Year:N', scale=alt.Scale(scheme='tableau20')),\n",
    "    order='codigo'\n",
    "    #, legend=alt.Legend(title=\"\")),#, scale=alt.Scale(\n",
    "        #range=['#d62728', '#1f77b4', '#ff7f0b', '#2ca02c', '#9467bd'])),\n",
    ")\n",
    "\n",
    "alt.layer(\n",
    "    base, # base line chart\n",
    "    \n",
    "    # add a rule mark to serve as a guide line\n",
    "    alt.Chart().mark_rule(color='#aaa').encode(\n",
    "        x = alt.X('index:N', axis=alt.Axis(title='Semanas'), sort=None)\n",
    "    ).transform_filter(label),\n",
    "    \n",
    "    # add circle marks for selected time points, hide unselected points\n",
    "    base.mark_circle().encode(\n",
    "        opacity=alt.condition(label, alt.value(1), alt.value(0))\n",
    "    ).add_selection(label),\n",
    "\n",
    "    # add white stroked text to provide a legible background for labels\n",
    "    base.mark_text(align='left', dx=5, dy=-5, stroke='white', strokeWidth=2).encode(\n",
    "        text='Deaths:Q'\n",
    "    ).transform_filter(label),\n",
    "\n",
    "    # add text labels for stock prices\n",
    "    base.mark_text(align='left', dx=5, dy=-5).encode(\n",
    "        text='Deaths:Q'\n",
    "    ).transform_filter(label),\n",
    "    \n",
    "    data=data\n",
    ").properties(\n",
    "    title = \"Fallecimientos semanales según fecha de inscripción\",\n",
    "    width=600\n",
    ")"
   ]
  },
  {
   "cell_type": "markdown",
   "metadata": {},
   "source": [
    "# Fallecimientos semanales por millón de habitantes"
   ]
  },
  {
   "cell_type": "code",
   "execution_count": 5,
   "metadata": {},
   "outputs": [],
   "source": [
    "#hide\n",
    "data = pd.DataFrame()\n",
    "data['index'] = data_raw.T.reset_index()['index'][2:]\n",
    "for i in np.arange(len(data_raw)):\n",
    "    data[f\"{data_raw.iloc[i,0]}\"] = 1000000*data_raw.iloc[i,2:].values/data_raw.iloc[i,1]\n",
    "data['codigo'] = np.arange(len(data))\n",
    "data = data.set_index('index')\n",
    "data = data.reset_index().melt(['index', 'codigo'], var_name='Year', value_name='Deaths')"
   ]
  },
  {
   "cell_type": "code",
   "execution_count": 6,
   "metadata": {},
   "outputs": [
    {
     "data": {
      "text/html": [
       "\n",
       "<div id=\"altair-viz-c96fb703544341c5ad1dcc47f9362e79\"></div>\n",
       "<script type=\"text/javascript\">\n",
       "  (function(spec, embedOpt){\n",
       "    let outputDiv = document.currentScript.previousElementSibling;\n",
       "    if (outputDiv.id !== \"altair-viz-c96fb703544341c5ad1dcc47f9362e79\") {\n",
       "      outputDiv = document.getElementById(\"altair-viz-c96fb703544341c5ad1dcc47f9362e79\");\n",
       "    }\n",
       "    const paths = {\n",
       "      \"vega\": \"https://cdn.jsdelivr.net/npm//vega@5?noext\",\n",
       "      \"vega-lib\": \"https://cdn.jsdelivr.net/npm//vega-lib?noext\",\n",
       "      \"vega-lite\": \"https://cdn.jsdelivr.net/npm//vega-lite@4.8.1?noext\",\n",
       "      \"vega-embed\": \"https://cdn.jsdelivr.net/npm//vega-embed@6?noext\",\n",
       "    };\n",
       "\n",
       "    function loadScript(lib) {\n",
       "      return new Promise(function(resolve, reject) {\n",
       "        var s = document.createElement('script');\n",
       "        s.src = paths[lib];\n",
       "        s.async = true;\n",
       "        s.onload = () => resolve(paths[lib]);\n",
       "        s.onerror = () => reject(`Error loading script: ${paths[lib]}`);\n",
       "        document.getElementsByTagName(\"head\")[0].appendChild(s);\n",
       "      });\n",
       "    }\n",
       "\n",
       "    function showError(err) {\n",
       "      outputDiv.innerHTML = `<div class=\"error\" style=\"color:red;\">${err}</div>`;\n",
       "      throw err;\n",
       "    }\n",
       "\n",
       "    function displayChart(vegaEmbed) {\n",
       "      vegaEmbed(outputDiv, spec, embedOpt)\n",
       "        .catch(err => showError(`Javascript Error: ${err.message}<br>This usually means there's a typo in your chart specification. See the javascript console for the full traceback.`));\n",
       "    }\n",
       "\n",
       "    if(typeof define === \"function\" && define.amd) {\n",
       "      requirejs.config({paths});\n",
       "      require([\"vega-embed\"], displayChart, err => showError(`Error loading script: ${err.message}`));\n",
       "    } else if (typeof vegaEmbed === \"function\") {\n",
       "      displayChart(vegaEmbed);\n",
       "    } else {\n",
       "      loadScript(\"vega\")\n",
       "        .then(() => loadScript(\"vega-lite\"))\n",
       "        .then(() => loadScript(\"vega-embed\"))\n",
       "        .catch(showError)\n",
       "        .then(() => displayChart(vegaEmbed));\n",
       "    }\n",
       "  })({\"config\": {\"view\": {\"continuousWidth\": 400, \"continuousHeight\": 300}}, \"layer\": [{\"mark\": {\"type\": \"line\", \"point\": true}, \"encoding\": {\"color\": {\"type\": \"nominal\", \"field\": \"Year\", \"scale\": {\"scheme\": \"tableau20\"}}, \"order\": {\"type\": \"quantitative\", \"field\": \"codigo\"}, \"x\": {\"type\": \"nominal\", \"axis\": {\"title\": \"Semanas\"}, \"field\": \"index\", \"sort\": null}, \"y\": {\"type\": \"quantitative\", \"axis\": {\"title\": \"Muertes semanales\"}, \"field\": \"Deaths\"}}}, {\"mark\": {\"type\": \"rule\", \"color\": \"#aaa\"}, \"encoding\": {\"x\": {\"type\": \"nominal\", \"axis\": {\"title\": \"Semanas\"}, \"field\": \"index\", \"sort\": null}}, \"transform\": [{\"filter\": {\"selection\": \"selector002\"}}]}, {\"mark\": \"circle\", \"encoding\": {\"color\": {\"type\": \"nominal\", \"field\": \"Year\", \"scale\": {\"scheme\": \"tableau20\"}}, \"opacity\": {\"condition\": {\"value\": 1, \"selection\": \"selector002\"}, \"value\": 0}, \"order\": {\"type\": \"quantitative\", \"field\": \"codigo\"}, \"x\": {\"type\": \"nominal\", \"axis\": {\"title\": \"Semanas\"}, \"field\": \"index\", \"sort\": null}, \"y\": {\"type\": \"quantitative\", \"axis\": {\"title\": \"Muertes semanales\"}, \"field\": \"Deaths\"}}, \"selection\": {\"selector002\": {\"type\": \"single\", \"encodings\": [\"x\"], \"on\": \"mouseover\", \"nearest\": true, \"empty\": \"none\"}}}, {\"mark\": {\"type\": \"text\", \"align\": \"left\", \"dx\": 5, \"dy\": -5, \"stroke\": \"white\", \"strokeWidth\": 2}, \"encoding\": {\"color\": {\"type\": \"nominal\", \"field\": \"Year\", \"scale\": {\"scheme\": \"tableau20\"}}, \"order\": {\"type\": \"quantitative\", \"field\": \"codigo\"}, \"text\": {\"type\": \"quantitative\", \"field\": \"Deaths\"}, \"x\": {\"type\": \"nominal\", \"axis\": {\"title\": \"Semanas\"}, \"field\": \"index\", \"sort\": null}, \"y\": {\"type\": \"quantitative\", \"axis\": {\"title\": \"Muertes semanales\"}, \"field\": \"Deaths\"}}, \"transform\": [{\"filter\": {\"selection\": \"selector002\"}}]}, {\"mark\": {\"type\": \"text\", \"align\": \"left\", \"dx\": 5, \"dy\": -5}, \"encoding\": {\"color\": {\"type\": \"nominal\", \"field\": \"Year\", \"scale\": {\"scheme\": \"tableau20\"}}, \"order\": {\"type\": \"quantitative\", \"field\": \"codigo\"}, \"text\": {\"type\": \"quantitative\", \"field\": \"Deaths\"}, \"x\": {\"type\": \"nominal\", \"axis\": {\"title\": \"Semanas\"}, \"field\": \"index\", \"sort\": null}, \"y\": {\"type\": \"quantitative\", \"axis\": {\"title\": \"Muertes semanales\"}, \"field\": \"Deaths\"}}, \"transform\": [{\"filter\": {\"selection\": \"selector002\"}}]}], \"data\": {\"name\": \"data-53346211fc06bb093cbe0e0d886073fd\"}, \"title\": \"Fallecimientos semanales por mill\\u00f3n de habitantes seg\\u00fan fecha de inscripci\\u00f3n\", \"width\": 600, \"$schema\": \"https://vega.github.io/schema/vega-lite/v4.8.1.json\", \"datasets\": {\"data-53346211fc06bb093cbe0e0d886073fd\": [{\"index\": \"01/03 - 07/03\", \"codigo\": 0, \"Year\": \"2010\", \"Deaths\": 99.09751523675574}, {\"index\": \"08/03 - 14/03\", \"codigo\": 1, \"Year\": \"2010\", \"Deaths\": 105.13361462728551}, {\"index\": \"15/3 - 21/03\", \"codigo\": 2, \"Year\": \"2010\", \"Deaths\": 99.80075011720581}, {\"index\": \"22/03 - 28/03\", \"codigo\": 3, \"Year\": \"2010\", \"Deaths\": 96.34317862165963}, {\"index\": \"29/03 - 04/04\", \"codigo\": 4, \"Year\": \"2010\", \"Deaths\": 100.15236755743085}, {\"index\": \"05/04 - 11/04\", \"codigo\": 5, \"Year\": \"2010\", \"Deaths\": 98.57008907641818}, {\"index\": \"12-04 - 18/04\", \"codigo\": 6, \"Year\": \"2010\", \"Deaths\": 101.38302859821847}, {\"index\": \"19/04 - 25/04\", \"codigo\": 7, \"Year\": \"2010\", \"Deaths\": 99.21472105016409}, {\"index\": \"26/04 - 02/05\", \"codigo\": 8, \"Year\": \"2010\", \"Deaths\": 113.51383028598218}, {\"index\": \"03/05 - 09/05\", \"codigo\": 9, \"Year\": \"2010\", \"Deaths\": 109.88045007032349}, {\"index\": \"01/03 - 07/03\", \"codigo\": 0, \"Year\": \"2011\", \"Deaths\": 92.15254433754491}, {\"index\": \"08/03 - 14/03\", \"codigo\": 1, \"Year\": \"2011\", \"Deaths\": 102.06328967196012}, {\"index\": \"15/3 - 21/03\", \"codigo\": 2, \"Year\": \"2011\", \"Deaths\": 93.02190796337081}, {\"index\": \"22/03 - 28/03\", \"codigo\": 3, \"Year\": \"2011\", \"Deaths\": 93.71739886403152}, {\"index\": \"29/03 - 04/04\", \"codigo\": 4, \"Year\": \"2011\", \"Deaths\": 100.78822302074882}, {\"index\": \"05/04 - 11/04\", \"codigo\": 5, \"Year\": \"2011\", \"Deaths\": 97.3687260925003}, {\"index\": \"12-04 - 18/04\", \"codigo\": 6, \"Year\": \"2011\", \"Deaths\": 98.58583516865654}, {\"index\": \"19/04 - 25/04\", \"codigo\": 7, \"Year\": \"2011\", \"Deaths\": 100.20864727019821}, {\"index\": \"26/04 - 02/05\", \"codigo\": 8, \"Year\": \"2011\", \"Deaths\": 102.00533209690506}, {\"index\": \"03/05 - 09/05\", \"codigo\": 9, \"Year\": \"2011\", \"Deaths\": 105.2509562999884}, {\"index\": \"01/03 - 07/03\", \"codigo\": 0, \"Year\": \"2012\", \"Deaths\": 101.98933669666916}, {\"index\": \"08/03 - 14/03\", \"codigo\": 1, \"Year\": \"2012\", \"Deaths\": 109.09820558390186}, {\"index\": \"15/3 - 21/03\", \"codigo\": 2, \"Year\": \"2012\", \"Deaths\": 95.33910451183856}, {\"index\": \"22/03 - 28/03\", \"codigo\": 3, \"Year\": \"2012\", \"Deaths\": 98.49223184085307}, {\"index\": \"29/03 - 04/04\", \"codigo\": 4, \"Year\": \"2012\", \"Deaths\": 98.37757266525254}, {\"index\": \"05/04 - 11/04\", \"codigo\": 5, \"Year\": \"2012\", \"Deaths\": 100.67075617726309}, {\"index\": \"12-04 - 18/04\", \"codigo\": 6, \"Year\": \"2012\", \"Deaths\": 98.37757266525254}, {\"index\": \"19/04 - 25/04\", \"codigo\": 7, \"Year\": \"2012\", \"Deaths\": 100.61342658946282}, {\"index\": \"26/04 - 02/05\", \"codigo\": 8, \"Year\": \"2012\", \"Deaths\": 107.37831794989394}, {\"index\": \"03/05 - 09/05\", \"codigo\": 9, \"Year\": \"2012\", \"Deaths\": 103.07859886487417}, {\"index\": \"01/03 - 07/03\", \"codigo\": 0, \"Year\": \"2013\", \"Deaths\": 95.2759482171247}, {\"index\": \"08/03 - 14/03\", \"codigo\": 1, \"Year\": \"2013\", \"Deaths\": 115.09198273904157}, {\"index\": \"15/3 - 21/03\", \"codigo\": 2, \"Year\": \"2013\", \"Deaths\": 95.38950715421304}, {\"index\": \"22/03 - 28/03\", \"codigo\": 3, \"Year\": \"2013\", \"Deaths\": 97.71746536452419}, {\"index\": \"29/03 - 04/04\", \"codigo\": 4, \"Year\": \"2013\", \"Deaths\": 95.21916874858051}, {\"index\": \"05/04 - 11/04\", \"codigo\": 5, \"Year\": \"2013\", \"Deaths\": 103.56575062457415}, {\"index\": \"12-04 - 18/04\", \"codigo\": 6, \"Year\": \"2013\", \"Deaths\": 101.18101294571883}, {\"index\": \"19/04 - 25/04\", \"codigo\": 7, \"Year\": \"2013\", \"Deaths\": 99.76152623211446}, {\"index\": \"26/04 - 02/05\", \"codigo\": 8, \"Year\": \"2013\", \"Deaths\": 107.08607767431297}, {\"index\": \"03/05 - 09/05\", \"codigo\": 9, \"Year\": \"2013\", \"Deaths\": 101.97592550533727}, {\"index\": \"01/03 - 07/03\", \"codigo\": 0, \"Year\": \"2014\", \"Deaths\": 93.26512255453115}, {\"index\": \"08/03 - 14/03\", \"codigo\": 1, \"Year\": \"2014\", \"Deaths\": 108.21902406116483}, {\"index\": \"15/3 - 21/03\", \"codigo\": 2, \"Year\": \"2014\", \"Deaths\": 99.89880818529346}, {\"index\": \"22/03 - 28/03\", \"codigo\": 3, \"Year\": \"2014\", \"Deaths\": 97.20035979311896}, {\"index\": \"29/03 - 04/04\", \"codigo\": 4, \"Year\": \"2014\", \"Deaths\": 100.29233190915224}, {\"index\": \"05/04 - 11/04\", \"codigo\": 5, \"Year\": \"2014\", \"Deaths\": 109.3433775579042}, {\"index\": \"12-04 - 18/04\", \"codigo\": 6, \"Year\": \"2014\", \"Deaths\": 105.35192264447943}, {\"index\": \"19/04 - 25/04\", \"codigo\": 7, \"Year\": \"2014\", \"Deaths\": 108.66876545986058}, {\"index\": \"26/04 - 02/05\", \"codigo\": 8, \"Year\": \"2014\", \"Deaths\": 106.53249381605576}, {\"index\": \"03/05 - 09/05\", \"codigo\": 9, \"Year\": \"2014\", \"Deaths\": 109.9055543062739}, {\"index\": \"01/03 - 07/03\", \"codigo\": 0, \"Year\": \"2015\", \"Deaths\": 95.54281898614434}, {\"index\": \"08/03 - 14/03\", \"codigo\": 1, \"Year\": \"2015\", \"Deaths\": 118.07912748316733}, {\"index\": \"15/3 - 21/03\", \"codigo\": 2, \"Year\": \"2015\", \"Deaths\": 100.16137109787992}, {\"index\": \"22/03 - 28/03\", \"codigo\": 3, \"Year\": \"2015\", \"Deaths\": 101.55250125201714}, {\"index\": \"29/03 - 04/04\", \"codigo\": 4, \"Year\": \"2015\", \"Deaths\": 96.87830393411608}, {\"index\": \"05/04 - 11/04\", \"codigo\": 5, \"Year\": \"2015\", \"Deaths\": 98.71459573757721}, {\"index\": \"12-04 - 18/04\", \"codigo\": 6, \"Year\": \"2015\", \"Deaths\": 100.82911357186579}, {\"index\": \"19/04 - 25/04\", \"codigo\": 7, \"Year\": \"2015\", \"Deaths\": 107.45089310555896}, {\"index\": \"26/04 - 02/05\", \"codigo\": 8, \"Year\": \"2015\", \"Deaths\": 106.6718602192421}, {\"index\": \"03/05 - 09/05\", \"codigo\": 9, \"Year\": \"2015\", \"Deaths\": 105.50331088976685}, {\"index\": \"01/03 - 07/03\", \"codigo\": 0, \"Year\": \"2016\", \"Deaths\": 97.31931524192217}, {\"index\": \"08/03 - 14/03\", \"codigo\": 1, \"Year\": \"2016\", \"Deaths\": 111.08053063246545}, {\"index\": \"15/3 - 21/03\", \"codigo\": 2, \"Year\": \"2016\", \"Deaths\": 98.42021247316563}, {\"index\": \"22/03 - 28/03\", \"codigo\": 3, \"Year\": \"2016\", \"Deaths\": 96.71382176473826}, {\"index\": \"29/03 - 04/04\", \"codigo\": 4, \"Year\": \"2016\", \"Deaths\": 96.2184180106787}, {\"index\": \"05/04 - 11/04\", \"codigo\": 5, \"Year\": \"2016\", \"Deaths\": 101.5577695822095}, {\"index\": \"12-04 - 18/04\", \"codigo\": 6, \"Year\": \"2016\", \"Deaths\": 104.19992293719382}, {\"index\": \"19/04 - 25/04\", \"codigo\": 7, \"Year\": \"2016\", \"Deaths\": 106.18153795343204}, {\"index\": \"26/04 - 02/05\", \"codigo\": 8, \"Year\": \"2016\", \"Deaths\": 109.53927450872462}, {\"index\": \"03/05 - 09/05\", \"codigo\": 9, \"Year\": \"2016\", \"Deaths\": 104.80541641437772}, {\"index\": \"01/03 - 07/03\", \"codigo\": 0, \"Year\": \"2017\", \"Deaths\": 93.87045985124057}, {\"index\": \"08/03 - 14/03\", \"codigo\": 1, \"Year\": \"2017\", \"Deaths\": 106.52044084912319}, {\"index\": \"15/3 - 21/03\", \"codigo\": 2, \"Year\": \"2017\", \"Deaths\": 94.79341983821054}, {\"index\": \"22/03 - 28/03\", \"codigo\": 3, \"Year\": \"2017\", \"Deaths\": 98.7567186057875}, {\"index\": \"29/03 - 04/04\", \"codigo\": 4, \"Year\": \"2017\", \"Deaths\": 99.19105271730278}, {\"index\": \"05/04 - 11/04\", \"codigo\": 5, \"Year\": \"2017\", \"Deaths\": 104.9459796948803}, {\"index\": \"12-04 - 18/04\", \"codigo\": 6, \"Year\": \"2017\", \"Deaths\": 102.61143384548564}, {\"index\": \"19/04 - 25/04\", \"codigo\": 7, \"Year\": \"2017\", \"Deaths\": 100.60263857972745}, {\"index\": \"26/04 - 02/05\", \"codigo\": 8, \"Year\": \"2017\", \"Deaths\": 107.17194201639612}, {\"index\": \"03/05 - 09/05\", \"codigo\": 9, \"Year\": \"2017\", \"Deaths\": 105.48889733427438}, {\"index\": \"01/03 - 07/03\", \"codigo\": 0, \"Year\": \"2018\", \"Deaths\": 95.6796781062258}, {\"index\": \"08/03 - 14/03\", \"codigo\": 1, \"Year\": \"2018\", \"Deaths\": 100.21805569496976}, {\"index\": \"15/3 - 21/03\", \"codigo\": 2, \"Year\": \"2018\", \"Deaths\": 97.60181449675265}, {\"index\": \"22/03 - 28/03\", \"codigo\": 3, \"Year\": \"2018\", \"Deaths\": 100.16466301745514}, {\"index\": \"29/03 - 04/04\", \"codigo\": 4, \"Year\": \"2018\", \"Deaths\": 101.3393019227771}, {\"index\": \"05/04 - 11/04\", \"codigo\": 5, \"Year\": \"2018\", \"Deaths\": 104.06232847602348}, {\"index\": \"12-04 - 18/04\", \"codigo\": 6, \"Year\": \"2018\", \"Deaths\": 100.59180443757221}, {\"index\": \"19/04 - 25/04\", \"codigo\": 7, \"Year\": \"2018\", \"Deaths\": 106.89214038429914}, {\"index\": \"26/04 - 02/05\", \"codigo\": 8, \"Year\": \"2018\", \"Deaths\": 101.1791238902332}, {\"index\": \"03/05 - 09/05\", \"codigo\": 9, \"Year\": \"2018\", \"Deaths\": 103.68857973342104}, {\"index\": \"01/03 - 07/03\", \"codigo\": 0, \"Year\": \"2019\", \"Deaths\": 95.25197182048917}, {\"index\": \"08/03 - 14/03\", \"codigo\": 1, \"Year\": \"2019\", \"Deaths\": 97.55476674362188}, {\"index\": \"15/3 - 21/03\", \"codigo\": 2, \"Year\": \"2019\", \"Deaths\": 95.6183255582603}, {\"index\": \"22/03 - 28/03\", \"codigo\": 3, \"Year\": \"2019\", \"Deaths\": 99.38653543247744}, {\"index\": \"29/03 - 04/04\", \"codigo\": 4, \"Year\": \"2019\", \"Deaths\": 98.75850045344126}, {\"index\": \"05/04 - 11/04\", \"codigo\": 5, \"Year\": \"2019\", \"Deaths\": 104.30614276826095}, {\"index\": \"12-04 - 18/04\", \"codigo\": 6, \"Year\": \"2019\", \"Deaths\": 107.34164516693589}, {\"index\": \"19/04 - 25/04\", \"codigo\": 7, \"Year\": \"2019\", \"Deaths\": 99.9098979150076}, {\"index\": \"26/04 - 02/05\", \"codigo\": 8, \"Year\": \"2019\", \"Deaths\": 105.87623021585144}, {\"index\": \"03/05 - 09/05\", \"codigo\": 9, \"Year\": \"2019\", \"Deaths\": 108.75472386976732}, {\"index\": \"01/03 - 07/03\", \"codigo\": 0, \"Year\": \"2020\", \"Deaths\": 101.65322682185658}, {\"index\": \"08/03 - 14/03\", \"codigo\": 1, \"Year\": \"2020\", \"Deaths\": 99.95729331067292}, {\"index\": \"15/3 - 21/03\", \"codigo\": 2, \"Year\": \"2020\", \"Deaths\": 101.80740259560055}, {\"index\": \"22/03 - 28/03\", \"codigo\": 3, \"Year\": \"2020\", \"Deaths\": 98.87806289446515}, {\"index\": \"29/03 - 04/04\", \"codigo\": 4, \"Year\": \"2020\", \"Deaths\": 103.50333610678419}, {\"index\": \"05/04 - 11/04\", \"codigo\": 5, \"Year\": \"2020\", \"Deaths\": 99.59754983860365}, {\"index\": \"12-04 - 18/04\", \"codigo\": 6, \"Year\": \"2020\", \"Deaths\": 112.7538825314223}, {\"index\": \"19/04 - 25/04\", \"codigo\": 7, \"Year\": \"2020\", \"Deaths\": 106.79241927998886}, {\"index\": \"26/04 - 02/05\", \"codigo\": 8, \"Year\": \"2020\", \"Deaths\": 99.59754983860365}, {\"index\": \"03/05 - 09/05\", \"codigo\": 9, \"Year\": \"2020\", \"Deaths\": 115.99157378004564}]}}, {\"mode\": \"vega-lite\"});\n",
       "</script>"
      ],
      "text/plain": [
       "alt.LayerChart(...)"
      ]
     },
     "execution_count": 6,
     "metadata": {},
     "output_type": "execute_result"
    }
   ],
   "source": [
    "#hide_input\n",
    "label = alt.selection_single(\n",
    "    encodings=['x'], # limit selection to x-axis value\n",
    "    on='mouseover',  # select on mouseover events\n",
    "    nearest=True,    # select data point nearest the cursor\n",
    "    empty='none'     # empty selection includes no data points\n",
    ")\n",
    "\n",
    "base = alt.Chart(data).mark_line(point=True).encode(\n",
    "    x = alt.X('index:N', axis=alt.Axis(title='Semanas'), sort=None),\n",
    "    y = alt.Y('Deaths:Q', axis=alt.Axis(title='Muertes semanales')),\n",
    "    color=alt.Color('Year:N', scale=alt.Scale(scheme='tableau20')),\n",
    "    order='codigo'\n",
    "    #, legend=alt.Legend(title=\"\")),#, scale=alt.Scale(\n",
    "        #range=['#d62728', '#1f77b4', '#ff7f0b', '#2ca02c', '#9467bd'])),\n",
    ")\n",
    "\n",
    "alt.layer(\n",
    "    base, # base line chart\n",
    "    \n",
    "    # add a rule mark to serve as a guide line\n",
    "    alt.Chart().mark_rule(color='#aaa').encode(\n",
    "        x = alt.X('index:N', axis=alt.Axis(title='Semanas'), sort=None)\n",
    "    ).transform_filter(label),\n",
    "    \n",
    "    # add circle marks for selected time points, hide unselected points\n",
    "    base.mark_circle().encode(\n",
    "        opacity=alt.condition(label, alt.value(1), alt.value(0))\n",
    "    ).add_selection(label),\n",
    "\n",
    "    # add white stroked text to provide a legible background for labels\n",
    "    base.mark_text(align='left', dx=5, dy=-5, stroke='white', strokeWidth=2).encode(\n",
    "        text='Deaths:Q'\n",
    "    ).transform_filter(label),\n",
    "\n",
    "    # add text labels for stock prices\n",
    "    base.mark_text(align='left', dx=5, dy=-5).encode(\n",
    "        text='Deaths:Q'\n",
    "    ).transform_filter(label),\n",
    "    \n",
    "    data=data\n",
    ").properties(\n",
    "    title = \"Fallecimientos semanales por millón de habitantes según fecha de inscripción\",\n",
    "    width=600\n",
    ")"
   ]
  },
  {
   "cell_type": "markdown",
   "metadata": {},
   "source": [
    "Fuentes: \n",
    "- [DEIS (Fallecimientos 2010-2017)](https://drive.google.com/file/d/1HyxZcR812KjQ1Nkb7oRti2deZd9bSTJW/view) \n",
    "- [Registro Civil (Fallecimientos 2018-2020)](https://estadisticas.sed.srcei.cl/defreg)\n",
    "- [Datos Macro (Población 2010-2018)](https://datosmacro.expansion.com/demografia/poblacion/chile)\n",
    "- INE (Población 2019-2020)"
   ]
  },
  {
   "cell_type": "code",
   "execution_count": null,
   "metadata": {},
   "outputs": [],
   "source": []
  }
 ],
 "metadata": {
  "kernelspec": {
   "display_name": "Python 3",
   "language": "python",
   "name": "python3"
  },
  "language_info": {
   "codemirror_mode": {
    "name": "ipython",
    "version": 3
   },
   "file_extension": ".py",
   "mimetype": "text/x-python",
   "name": "python",
   "nbconvert_exporter": "python",
   "pygments_lexer": "ipython3",
   "version": "3.8.2"
  }
 },
 "nbformat": 4,
 "nbformat_minor": 4
}
