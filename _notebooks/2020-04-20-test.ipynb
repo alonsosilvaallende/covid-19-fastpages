{
 "cells": [
  {
   "cell_type": "markdown",
   "metadata": {},
   "source": [
    "# COVID-19 en Chile\n",
    "> Total de casos confirmados, fallecidos confirmados, pacientes en UCI por región.\n",
    "\n",
    "- toc: true \n",
    "- badges: true\n",
    "- comments: true\n",
    "- author: Alonso Silva Allende\n",
    "- categories: [jupyter]\n",
    "- image: images/diagram.png"
   ]
  },
  {
   "cell_type": "code",
   "execution_count": 1,
   "metadata": {},
   "outputs": [],
   "source": [
    "#hide\n",
    "import numpy as np\n",
    "import matplotlib.pyplot as plt\n",
    "import pandas as pd\n",
    "import altair as alt\n",
    "plt.style.use('ggplot')"
   ]
  },
  {
   "cell_type": "code",
   "execution_count": 2,
   "metadata": {},
   "outputs": [],
   "source": [
    "#hide\n",
    "from IPython.display import display, Markdown, display_html, HTML"
   ]
  },
  {
   "cell_type": "code",
   "execution_count": 3,
   "metadata": {},
   "outputs": [
    {
     "data": {
      "text/plain": [
       "'2020-06-02'"
      ]
     },
     "execution_count": 3,
     "metadata": {},
     "output_type": "execute_result"
    }
   ],
   "source": [
    "#hide\n",
    "update_date = pd.to_datetime('today') - pd.offsets.Hour(19)\n",
    "today = update_date.strftime('%Y-%m-%d')\n",
    "today"
   ]
  },
  {
   "cell_type": "code",
   "execution_count": 4,
   "metadata": {},
   "outputs": [
    {
     "data": {
      "text/plain": [
       "'2020-05-26'"
      ]
     },
     "execution_count": 4,
     "metadata": {},
     "output_type": "execute_result"
    }
   ],
   "source": [
    "#hide\n",
    "date_one_week_ago = (update_date - pd.offsets.Day(7)).strftime('%Y-%m-%d')\n",
    "date_one_week_ago"
   ]
  },
  {
   "cell_type": "code",
   "execution_count": 5,
   "metadata": {},
   "outputs": [
    {
     "data": {
      "text/markdown": [
       "Última actualización: 02/06/2020."
      ],
      "text/plain": [
       "<IPython.core.display.Markdown object>"
      ]
     },
     "metadata": {},
     "output_type": "display_data"
    }
   ],
   "source": [
    "#hide_input\n",
    "display(Markdown(f\"Última actualización: {update_date.strftime('%d/%m/%Y')}.\"))"
   ]
  },
  {
   "cell_type": "code",
   "execution_count": 6,
   "metadata": {},
   "outputs": [],
   "source": [
    "#hide\n",
    "casos_raw = pd.read_csv(\n",
    "    \"https://raw.githubusercontent.com/MinCiencia/Datos-COVID19/master/output/producto3/CasosTotalesCumulativo.csv\",\n",
    "    index_col='Region')"
   ]
  },
  {
   "cell_type": "code",
   "execution_count": 7,
   "metadata": {},
   "outputs": [],
   "source": [
    "#hide\n",
    "s = \"https://raw.githubusercontent.com/MinCiencia/Datos-COVID19/master/output/producto4/\" \\\n",
    "+ today + \"-CasosConfirmados-totalRegional.csv\"\n",
    "deaths_raw = pd.read_csv(s, index_col='Region')"
   ]
  },
  {
   "cell_type": "code",
   "execution_count": 8,
   "metadata": {},
   "outputs": [],
   "source": [
    "#hide\n",
    "s = \"https://raw.githubusercontent.com/MinCiencia/Datos-COVID19/master/output/producto4/\" \\\n",
    "+ date_one_week_ago + \"-CasosConfirmados-totalRegional.csv\"\n",
    "deaths_one_week_ago = pd.read_csv(s, index_col='Region')"
   ]
  },
  {
   "cell_type": "code",
   "execution_count": 9,
   "metadata": {},
   "outputs": [],
   "source": [
    "#hide\n",
    "tests_raw = pd.read_csv(\n",
    "    'https://raw.githubusercontent.com/MinCiencia/Datos-COVID19/master/output/producto7/PCR.csv',\n",
    "    index_col='Region')"
   ]
  },
  {
   "cell_type": "code",
   "execution_count": 11,
   "metadata": {},
   "outputs": [
    {
     "data": {
      "text/html": [
       "<div>\n",
       "<style scoped>\n",
       "    .dataframe tbody tr th:only-of-type {\n",
       "        vertical-align: middle;\n",
       "    }\n",
       "\n",
       "    .dataframe tbody tr th {\n",
       "        vertical-align: top;\n",
       "    }\n",
       "\n",
       "    .dataframe thead th {\n",
       "        text-align: right;\n",
       "    }\n",
       "</style>\n",
       "<table border=\"1\" class=\"dataframe\">\n",
       "  <thead>\n",
       "    <tr style=\"text-align: right;\">\n",
       "      <th></th>\n",
       "      <th>Casos  totales  acumulados</th>\n",
       "      <th>Casos  nuevos  totales</th>\n",
       "      <th>Casos  nuevos  con  sintomas</th>\n",
       "      <th>Casos  nuevos  sin  sintomas*</th>\n",
       "    </tr>\n",
       "    <tr>\n",
       "      <th>Region</th>\n",
       "      <th></th>\n",
       "      <th></th>\n",
       "      <th></th>\n",
       "      <th></th>\n",
       "    </tr>\n",
       "  </thead>\n",
       "  <tbody>\n",
       "    <tr>\n",
       "      <th>Arica  y  Parinacota</th>\n",
       "      <td>654</td>\n",
       "      <td>18</td>\n",
       "      <td>18</td>\n",
       "      <td>0</td>\n",
       "    </tr>\n",
       "    <tr>\n",
       "      <th>Tarapaca</th>\n",
       "      <td>2594</td>\n",
       "      <td>68</td>\n",
       "      <td>60</td>\n",
       "      <td>8</td>\n",
       "    </tr>\n",
       "    <tr>\n",
       "      <th>Antofagasta</th>\n",
       "      <td>2649</td>\n",
       "      <td>64</td>\n",
       "      <td>58</td>\n",
       "      <td>6</td>\n",
       "    </tr>\n",
       "    <tr>\n",
       "      <th>Atacama</th>\n",
       "      <td>236</td>\n",
       "      <td>4</td>\n",
       "      <td>3</td>\n",
       "      <td>1</td>\n",
       "    </tr>\n",
       "    <tr>\n",
       "      <th>Coquimbo</th>\n",
       "      <td>687</td>\n",
       "      <td>19</td>\n",
       "      <td>17</td>\n",
       "      <td>2</td>\n",
       "    </tr>\n",
       "    <tr>\n",
       "      <th>Valparaiso</th>\n",
       "      <td>3595</td>\n",
       "      <td>247</td>\n",
       "      <td>227</td>\n",
       "      <td>20</td>\n",
       "    </tr>\n",
       "    <tr>\n",
       "      <th>Metropolitana</th>\n",
       "      <td>88194</td>\n",
       "      <td>2955</td>\n",
       "      <td>2698</td>\n",
       "      <td>257</td>\n",
       "    </tr>\n",
       "    <tr>\n",
       "      <th>O'Higgins</th>\n",
       "      <td>843</td>\n",
       "      <td>30</td>\n",
       "      <td>24</td>\n",
       "      <td>6</td>\n",
       "    </tr>\n",
       "    <tr>\n",
       "      <th>Maule</th>\n",
       "      <td>1381</td>\n",
       "      <td>40</td>\n",
       "      <td>36</td>\n",
       "      <td>4</td>\n",
       "    </tr>\n",
       "    <tr>\n",
       "      <th>Nuble</th>\n",
       "      <td>1290</td>\n",
       "      <td>0</td>\n",
       "      <td>0</td>\n",
       "      <td>0</td>\n",
       "    </tr>\n",
       "    <tr>\n",
       "      <th>Biobio</th>\n",
       "      <td>2082</td>\n",
       "      <td>12</td>\n",
       "      <td>12</td>\n",
       "      <td>0</td>\n",
       "    </tr>\n",
       "    <tr>\n",
       "      <th>Araucania</th>\n",
       "      <td>2141</td>\n",
       "      <td>30</td>\n",
       "      <td>21</td>\n",
       "      <td>9</td>\n",
       "    </tr>\n",
       "    <tr>\n",
       "      <th>Los  Rios</th>\n",
       "      <td>368</td>\n",
       "      <td>5</td>\n",
       "      <td>5</td>\n",
       "      <td>0</td>\n",
       "    </tr>\n",
       "    <tr>\n",
       "      <th>Los  Lagos</th>\n",
       "      <td>894</td>\n",
       "      <td>31</td>\n",
       "      <td>24</td>\n",
       "      <td>7</td>\n",
       "    </tr>\n",
       "    <tr>\n",
       "      <th>Aysen</th>\n",
       "      <td>18</td>\n",
       "      <td>1</td>\n",
       "      <td>0</td>\n",
       "      <td>1</td>\n",
       "    </tr>\n",
       "    <tr>\n",
       "      <th>Magallanes</th>\n",
       "      <td>1060</td>\n",
       "      <td>3</td>\n",
       "      <td>3</td>\n",
       "      <td>0</td>\n",
       "    </tr>\n",
       "    <tr>\n",
       "      <th>Total</th>\n",
       "      <td>108686</td>\n",
       "      <td>3527</td>\n",
       "      <td>3206</td>\n",
       "      <td>321</td>\n",
       "    </tr>\n",
       "  </tbody>\n",
       "</table>\n",
       "</div>"
      ],
      "text/plain": [
       "                      Casos  totales  acumulados  Casos  nuevos  totales  \\\n",
       "Region                                                                     \n",
       "Arica  y  Parinacota                         654                      18   \n",
       "Tarapaca                                    2594                      68   \n",
       "Antofagasta                                 2649                      64   \n",
       "Atacama                                      236                       4   \n",
       "Coquimbo                                     687                      19   \n",
       "Valparaiso                                  3595                     247   \n",
       "Metropolitana                              88194                    2955   \n",
       "O'Higgins                                    843                      30   \n",
       "Maule                                       1381                      40   \n",
       "Nuble                                       1290                       0   \n",
       "Biobio                                      2082                      12   \n",
       "Araucania                                   2141                      30   \n",
       "Los  Rios                                    368                       5   \n",
       "Los  Lagos                                   894                      31   \n",
       "Aysen                                         18                       1   \n",
       "Magallanes                                  1060                       3   \n",
       "Total                                     108686                    3527   \n",
       "\n",
       "                      Casos  nuevos  con  sintomas  \\\n",
       "Region                                               \n",
       "Arica  y  Parinacota                            18   \n",
       "Tarapaca                                        60   \n",
       "Antofagasta                                     58   \n",
       "Atacama                                          3   \n",
       "Coquimbo                                        17   \n",
       "Valparaiso                                     227   \n",
       "Metropolitana                                 2698   \n",
       "O'Higgins                                       24   \n",
       "Maule                                           36   \n",
       "Nuble                                            0   \n",
       "Biobio                                          12   \n",
       "Araucania                                       21   \n",
       "Los  Rios                                        5   \n",
       "Los  Lagos                                      24   \n",
       "Aysen                                            0   \n",
       "Magallanes                                       3   \n",
       "Total                                         3206   \n",
       "\n",
       "                      Casos  nuevos  sin  sintomas*  \n",
       "Region                                               \n",
       "Arica  y  Parinacota                              0  \n",
       "Tarapaca                                          8  \n",
       "Antofagasta                                       6  \n",
       "Atacama                                           1  \n",
       "Coquimbo                                          2  \n",
       "Valparaiso                                       20  \n",
       "Metropolitana                                   257  \n",
       "O'Higgins                                         6  \n",
       "Maule                                             4  \n",
       "Nuble                                             0  \n",
       "Biobio                                            0  \n",
       "Araucania                                         9  \n",
       "Los  Rios                                         0  \n",
       "Los  Lagos                                        7  \n",
       "Aysen                                             1  \n",
       "Magallanes                                        0  \n",
       "Total                                           321  "
      ]
     },
     "execution_count": 11,
     "metadata": {},
     "output_type": "execute_result"
    }
   ],
   "source": [
    "deaths_raw"
   ]
  },
  {
   "cell_type": "code",
   "execution_count": 10,
   "metadata": {},
   "outputs": [
    {
     "ename": "KeyError",
     "evalue": "'Fallecidos'",
     "output_type": "error",
     "traceback": [
      "\u001b[0;31m---------------------------------------------------------------------------\u001b[0m",
      "\u001b[0;31mKeyError\u001b[0m                                  Traceback (most recent call last)",
      "\u001b[0;32m~/opt/anaconda3/envs/fastpages/lib/python3.8/site-packages/pandas/core/indexes/base.py\u001b[0m in \u001b[0;36mget_loc\u001b[0;34m(self, key, method, tolerance)\u001b[0m\n\u001b[1;32m   2645\u001b[0m             \u001b[0;32mtry\u001b[0m\u001b[0;34m:\u001b[0m\u001b[0;34m\u001b[0m\u001b[0;34m\u001b[0m\u001b[0m\n\u001b[0;32m-> 2646\u001b[0;31m                 \u001b[0;32mreturn\u001b[0m \u001b[0mself\u001b[0m\u001b[0;34m.\u001b[0m\u001b[0m_engine\u001b[0m\u001b[0;34m.\u001b[0m\u001b[0mget_loc\u001b[0m\u001b[0;34m(\u001b[0m\u001b[0mkey\u001b[0m\u001b[0;34m)\u001b[0m\u001b[0;34m\u001b[0m\u001b[0;34m\u001b[0m\u001b[0m\n\u001b[0m\u001b[1;32m   2647\u001b[0m             \u001b[0;32mexcept\u001b[0m \u001b[0mKeyError\u001b[0m\u001b[0;34m:\u001b[0m\u001b[0;34m\u001b[0m\u001b[0;34m\u001b[0m\u001b[0m\n",
      "\u001b[0;32mpandas/_libs/index.pyx\u001b[0m in \u001b[0;36mpandas._libs.index.IndexEngine.get_loc\u001b[0;34m()\u001b[0m\n",
      "\u001b[0;32mpandas/_libs/index.pyx\u001b[0m in \u001b[0;36mpandas._libs.index.IndexEngine.get_loc\u001b[0;34m()\u001b[0m\n",
      "\u001b[0;32mpandas/_libs/hashtable_class_helper.pxi\u001b[0m in \u001b[0;36mpandas._libs.hashtable.PyObjectHashTable.get_item\u001b[0;34m()\u001b[0m\n",
      "\u001b[0;32mpandas/_libs/hashtable_class_helper.pxi\u001b[0m in \u001b[0;36mpandas._libs.hashtable.PyObjectHashTable.get_item\u001b[0;34m()\u001b[0m\n",
      "\u001b[0;31mKeyError\u001b[0m: 'Fallecidos'",
      "\nDuring handling of the above exception, another exception occurred:\n",
      "\u001b[0;31mKeyError\u001b[0m                                  Traceback (most recent call last)",
      "\u001b[0;32m<ipython-input-10-ddd6b14ae370>\u001b[0m in \u001b[0;36m<module>\u001b[0;34m\u001b[0m\n\u001b[1;32m      5\u001b[0m \u001b[0mdata_table\u001b[0m\u001b[0;34m[\u001b[0m\u001b[0;34m\"CC por 100.000 hab.\"\u001b[0m\u001b[0;34m]\u001b[0m \u001b[0;34m=\u001b[0m\u001b[0;31m \u001b[0m\u001b[0;31m\\\u001b[0m\u001b[0;34m\u001b[0m\u001b[0;34m\u001b[0m\u001b[0m\n\u001b[1;32m      6\u001b[0m \u001b[0mnp\u001b[0m\u001b[0;34m.\u001b[0m\u001b[0mround\u001b[0m\u001b[0;34m(\u001b[0m\u001b[0;36m100000\u001b[0m\u001b[0;34m*\u001b[0m\u001b[0mcasos_raw\u001b[0m\u001b[0;34m[\u001b[0m\u001b[0mtoday\u001b[0m\u001b[0;34m]\u001b[0m\u001b[0;34m.\u001b[0m\u001b[0mdrop\u001b[0m\u001b[0;34m(\u001b[0m\u001b[0;34m'Total'\u001b[0m\u001b[0;34m)\u001b[0m\u001b[0;34m/\u001b[0m\u001b[0mtests_raw\u001b[0m\u001b[0;34m[\u001b[0m\u001b[0;34m'Poblacion'\u001b[0m\u001b[0;34m]\u001b[0m\u001b[0;34m,\u001b[0m \u001b[0mdecimals\u001b[0m\u001b[0;34m=\u001b[0m\u001b[0;36m1\u001b[0m\u001b[0;34m)\u001b[0m\u001b[0;34m.\u001b[0m\u001b[0mvalues\u001b[0m\u001b[0;34m\u001b[0m\u001b[0;34m\u001b[0m\u001b[0m\n\u001b[0;32m----> 7\u001b[0;31m \u001b[0mdata_table\u001b[0m\u001b[0;34m[\u001b[0m\u001b[0;34m\"FC\"\u001b[0m\u001b[0;34m]\u001b[0m \u001b[0;34m=\u001b[0m \u001b[0mdeaths_raw\u001b[0m\u001b[0;34m[\u001b[0m\u001b[0;34m\"Fallecidos\"\u001b[0m\u001b[0;34m]\u001b[0m\u001b[0;34m.\u001b[0m\u001b[0mdrop\u001b[0m\u001b[0;34m(\u001b[0m\u001b[0;34m\"Total\"\u001b[0m\u001b[0;34m)\u001b[0m\u001b[0;34m.\u001b[0m\u001b[0mvalues\u001b[0m\u001b[0;34m\u001b[0m\u001b[0;34m\u001b[0m\u001b[0m\n\u001b[0m\u001b[1;32m      8\u001b[0m \u001b[0mdata_table\u001b[0m\u001b[0;34m[\u001b[0m\u001b[0;34m\"FC por 100.000 hab.\"\u001b[0m\u001b[0;34m]\u001b[0m \u001b[0;34m=\u001b[0m\u001b[0;31m \u001b[0m\u001b[0;31m\\\u001b[0m\u001b[0;34m\u001b[0m\u001b[0;34m\u001b[0m\u001b[0m\n\u001b[1;32m      9\u001b[0m \u001b[0mnp\u001b[0m\u001b[0;34m.\u001b[0m\u001b[0mround\u001b[0m\u001b[0;34m(\u001b[0m\u001b[0;36m100000\u001b[0m\u001b[0;34m*\u001b[0m\u001b[0mdeaths_raw\u001b[0m\u001b[0;34m[\u001b[0m\u001b[0;34m'Fallecidos'\u001b[0m\u001b[0;34m]\u001b[0m\u001b[0;34m.\u001b[0m\u001b[0mdrop\u001b[0m\u001b[0;34m(\u001b[0m\u001b[0;34m'Total'\u001b[0m\u001b[0;34m)\u001b[0m\u001b[0;34m/\u001b[0m\u001b[0;34m(\u001b[0m\u001b[0mtests_raw\u001b[0m\u001b[0;34m[\u001b[0m\u001b[0;34m'Poblacion'\u001b[0m\u001b[0;34m]\u001b[0m\u001b[0;34m.\u001b[0m\u001b[0mvalues\u001b[0m\u001b[0;34m)\u001b[0m\u001b[0;34m,\u001b[0m \u001b[0mdecimals\u001b[0m\u001b[0;34m=\u001b[0m\u001b[0;36m1\u001b[0m\u001b[0;34m)\u001b[0m\u001b[0;34m.\u001b[0m\u001b[0mvalues\u001b[0m\u001b[0;34m\u001b[0m\u001b[0;34m\u001b[0m\u001b[0m\n",
      "\u001b[0;32m~/opt/anaconda3/envs/fastpages/lib/python3.8/site-packages/pandas/core/frame.py\u001b[0m in \u001b[0;36m__getitem__\u001b[0;34m(self, key)\u001b[0m\n\u001b[1;32m   2798\u001b[0m             \u001b[0;32mif\u001b[0m \u001b[0mself\u001b[0m\u001b[0;34m.\u001b[0m\u001b[0mcolumns\u001b[0m\u001b[0;34m.\u001b[0m\u001b[0mnlevels\u001b[0m \u001b[0;34m>\u001b[0m \u001b[0;36m1\u001b[0m\u001b[0;34m:\u001b[0m\u001b[0;34m\u001b[0m\u001b[0;34m\u001b[0m\u001b[0m\n\u001b[1;32m   2799\u001b[0m                 \u001b[0;32mreturn\u001b[0m \u001b[0mself\u001b[0m\u001b[0;34m.\u001b[0m\u001b[0m_getitem_multilevel\u001b[0m\u001b[0;34m(\u001b[0m\u001b[0mkey\u001b[0m\u001b[0;34m)\u001b[0m\u001b[0;34m\u001b[0m\u001b[0;34m\u001b[0m\u001b[0m\n\u001b[0;32m-> 2800\u001b[0;31m             \u001b[0mindexer\u001b[0m \u001b[0;34m=\u001b[0m \u001b[0mself\u001b[0m\u001b[0;34m.\u001b[0m\u001b[0mcolumns\u001b[0m\u001b[0;34m.\u001b[0m\u001b[0mget_loc\u001b[0m\u001b[0;34m(\u001b[0m\u001b[0mkey\u001b[0m\u001b[0;34m)\u001b[0m\u001b[0;34m\u001b[0m\u001b[0;34m\u001b[0m\u001b[0m\n\u001b[0m\u001b[1;32m   2801\u001b[0m             \u001b[0;32mif\u001b[0m \u001b[0mis_integer\u001b[0m\u001b[0;34m(\u001b[0m\u001b[0mindexer\u001b[0m\u001b[0;34m)\u001b[0m\u001b[0;34m:\u001b[0m\u001b[0;34m\u001b[0m\u001b[0;34m\u001b[0m\u001b[0m\n\u001b[1;32m   2802\u001b[0m                 \u001b[0mindexer\u001b[0m \u001b[0;34m=\u001b[0m \u001b[0;34m[\u001b[0m\u001b[0mindexer\u001b[0m\u001b[0;34m]\u001b[0m\u001b[0;34m\u001b[0m\u001b[0;34m\u001b[0m\u001b[0m\n",
      "\u001b[0;32m~/opt/anaconda3/envs/fastpages/lib/python3.8/site-packages/pandas/core/indexes/base.py\u001b[0m in \u001b[0;36mget_loc\u001b[0;34m(self, key, method, tolerance)\u001b[0m\n\u001b[1;32m   2646\u001b[0m                 \u001b[0;32mreturn\u001b[0m \u001b[0mself\u001b[0m\u001b[0;34m.\u001b[0m\u001b[0m_engine\u001b[0m\u001b[0;34m.\u001b[0m\u001b[0mget_loc\u001b[0m\u001b[0;34m(\u001b[0m\u001b[0mkey\u001b[0m\u001b[0;34m)\u001b[0m\u001b[0;34m\u001b[0m\u001b[0;34m\u001b[0m\u001b[0m\n\u001b[1;32m   2647\u001b[0m             \u001b[0;32mexcept\u001b[0m \u001b[0mKeyError\u001b[0m\u001b[0;34m:\u001b[0m\u001b[0;34m\u001b[0m\u001b[0;34m\u001b[0m\u001b[0m\n\u001b[0;32m-> 2648\u001b[0;31m                 \u001b[0;32mreturn\u001b[0m \u001b[0mself\u001b[0m\u001b[0;34m.\u001b[0m\u001b[0m_engine\u001b[0m\u001b[0;34m.\u001b[0m\u001b[0mget_loc\u001b[0m\u001b[0;34m(\u001b[0m\u001b[0mself\u001b[0m\u001b[0;34m.\u001b[0m\u001b[0m_maybe_cast_indexer\u001b[0m\u001b[0;34m(\u001b[0m\u001b[0mkey\u001b[0m\u001b[0;34m)\u001b[0m\u001b[0;34m)\u001b[0m\u001b[0;34m\u001b[0m\u001b[0;34m\u001b[0m\u001b[0m\n\u001b[0m\u001b[1;32m   2649\u001b[0m         \u001b[0mindexer\u001b[0m \u001b[0;34m=\u001b[0m \u001b[0mself\u001b[0m\u001b[0;34m.\u001b[0m\u001b[0mget_indexer\u001b[0m\u001b[0;34m(\u001b[0m\u001b[0;34m[\u001b[0m\u001b[0mkey\u001b[0m\u001b[0;34m]\u001b[0m\u001b[0;34m,\u001b[0m \u001b[0mmethod\u001b[0m\u001b[0;34m=\u001b[0m\u001b[0mmethod\u001b[0m\u001b[0;34m,\u001b[0m \u001b[0mtolerance\u001b[0m\u001b[0;34m=\u001b[0m\u001b[0mtolerance\u001b[0m\u001b[0;34m)\u001b[0m\u001b[0;34m\u001b[0m\u001b[0;34m\u001b[0m\u001b[0m\n\u001b[1;32m   2650\u001b[0m         \u001b[0;32mif\u001b[0m \u001b[0mindexer\u001b[0m\u001b[0;34m.\u001b[0m\u001b[0mndim\u001b[0m \u001b[0;34m>\u001b[0m \u001b[0;36m1\u001b[0m \u001b[0;32mor\u001b[0m \u001b[0mindexer\u001b[0m\u001b[0;34m.\u001b[0m\u001b[0msize\u001b[0m \u001b[0;34m>\u001b[0m \u001b[0;36m1\u001b[0m\u001b[0;34m:\u001b[0m\u001b[0;34m\u001b[0m\u001b[0;34m\u001b[0m\u001b[0m\n",
      "\u001b[0;32mpandas/_libs/index.pyx\u001b[0m in \u001b[0;36mpandas._libs.index.IndexEngine.get_loc\u001b[0;34m()\u001b[0m\n",
      "\u001b[0;32mpandas/_libs/index.pyx\u001b[0m in \u001b[0;36mpandas._libs.index.IndexEngine.get_loc\u001b[0;34m()\u001b[0m\n",
      "\u001b[0;32mpandas/_libs/hashtable_class_helper.pxi\u001b[0m in \u001b[0;36mpandas._libs.hashtable.PyObjectHashTable.get_item\u001b[0;34m()\u001b[0m\n",
      "\u001b[0;32mpandas/_libs/hashtable_class_helper.pxi\u001b[0m in \u001b[0;36mpandas._libs.hashtable.PyObjectHashTable.get_item\u001b[0;34m()\u001b[0m\n",
      "\u001b[0;31mKeyError\u001b[0m: 'Fallecidos'"
     ]
    }
   ],
   "source": [
    "#hide\n",
    "data_table = pd.DataFrame()\n",
    "data_table[\"Region\"] = casos_raw[today].drop(\"Total\").reset_index()[\"Region\"]\n",
    "data_table[\"CC\"] = casos_raw[today].drop(\"Total\").reset_index()[today]\n",
    "data_table[\"CC por 100.000 hab.\"] = \\\n",
    "np.round(100000*casos_raw[today].drop('Total')/tests_raw['Poblacion'], decimals=1).values\n",
    "data_table[\"FC\"] = deaths_raw[\"Fallecidos\"].drop(\"Total\").values\n",
    "data_table[\"FC por 100.000 hab.\"] = \\\n",
    "np.round(100000*deaths_raw['Fallecidos'].drop('Total')/(tests_raw['Poblacion'].values), decimals=1).values"
   ]
  },
  {
   "cell_type": "code",
   "execution_count": null,
   "metadata": {},
   "outputs": [],
   "source": [
    "#hide\n",
    "tests_raw = tests_raw.fillna(0)"
   ]
  },
  {
   "cell_type": "code",
   "execution_count": null,
   "metadata": {},
   "outputs": [],
   "source": [
    "#hide\n",
    "tests_total = pd.Series(dtype='float64')\n",
    "for date in tests_raw.columns:\n",
    "  tests_raw[date] = tests_raw[date].apply(lambda x: 0 if x=='-' else x)\n",
    "  tests_raw[date] = tests_raw[date].astype(int)\n",
    "  tests_total[date] = np.sum(tests_raw[date])"
   ]
  },
  {
   "cell_type": "code",
   "execution_count": null,
   "metadata": {},
   "outputs": [],
   "source": [
    "#hide\n",
    "tests_raw.loc['Total'] = tests_total"
   ]
  },
  {
   "cell_type": "code",
   "execution_count": null,
   "metadata": {},
   "outputs": [],
   "source": [
    "#hide\n",
    "tests_table = pd.DataFrame()\n",
    "tests_table[\"Región\"] = tests_raw.reset_index()['Region']\n",
    "tests_table[\"Exámenes informados\"] = tests_raw.drop(columns='Poblacion').sum(axis=1).values\n",
    "tests_table[\"Exámenes informados por 100.000 habs.\"] = \\\n",
    "np.round(100000*tests_raw.drop(columns='Poblacion').sum(axis=1).values/tests_raw['Poblacion'], decimals=1).values"
   ]
  },
  {
   "cell_type": "code",
   "execution_count": null,
   "metadata": {},
   "outputs": [],
   "source": [
    "#hide\n",
    "total_confirmed = casos_raw.iloc[-1,-1]\n",
    "total_deaths = deaths_raw.loc[\"Total\", \"Fallecidos\"]"
   ]
  },
  {
   "cell_type": "code",
   "execution_count": null,
   "metadata": {},
   "outputs": [],
   "source": [
    "#hide\n",
    "total_confirmed_one_week_ago = casos_raw.iloc[-1,-8]\n",
    "total_deaths_one_week_ago = deaths_one_week_ago.loc[\"Total\", \"Fallecidos\"]"
   ]
  },
  {
   "cell_type": "code",
   "execution_count": null,
   "metadata": {},
   "outputs": [],
   "source": [
    "#hide\n",
    "diff_cases = total_confirmed-total_confirmed_one_week_ago\n",
    "diff_deaths = total_deaths-total_deaths_one_week_ago"
   ]
  },
  {
   "cell_type": "code",
   "execution_count": null,
   "metadata": {},
   "outputs": [],
   "source": [
    "#hide\n",
    "total_confirmed = '{:,}'.format(total_confirmed).replace(',', '.')\n",
    "total_deaths = '{:,}'.format(total_deaths).replace(',', '.')"
   ]
  },
  {
   "cell_type": "code",
   "execution_count": null,
   "metadata": {},
   "outputs": [],
   "source": [
    "#hide\n",
    "diff_cases = '{:,}'.format(diff_cases).replace(',', '.')\n",
    "diff_deaths = '{:,}'.format(diff_deaths).replace(',', '.')"
   ]
  },
  {
   "cell_type": "markdown",
   "metadata": {},
   "source": [
    "# Estadísticas para Chile"
   ]
  },
  {
   "cell_type": "code",
   "execution_count": null,
   "metadata": {
    "scrolled": true
   },
   "outputs": [],
   "source": [
    "#hide_input\n",
    "HTML(f'<p style=\"color:#3361ff;\"><span style=\"font-weight:bold;\">Casos confirmados:</span> {total_confirmed} (+{diff_cases} en una semana)</p><p style=\"color:#FF3F3F;\"><span style=\"font-weight:bold;\">Fallecimientos confirmados:</span> {total_deaths} (+{diff_deaths} en una semana)</p>')"
   ]
  },
  {
   "cell_type": "code",
   "execution_count": null,
   "metadata": {
    "scrolled": false
   },
   "outputs": [],
   "source": [
    "#hide_input\n",
    "(data_table.style.set_properties(**{'text-align': 'right'}).background_gradient(cmap='Reds').hide_index()).format({'CC por 100.000 hab.': \"{:.1f}\", 'FC por 100.000 hab.': \"{:.1f}\"}).set_caption('Estadísticas por región: Casos confirmados (CC) y fallecidos confirmados (FC)')"
   ]
  },
  {
   "cell_type": "code",
   "execution_count": null,
   "metadata": {},
   "outputs": [],
   "source": [
    "#hide_input\n",
    "(tests_table[:-1].style.set_properties(**{'text-align': 'right'}).background_gradient(cmap='Blues').hide_index()).format({'Exámenes informados por 100.000 habs.': \"{:.1f}\"}).set_caption('Estadísticas por región: Exámenes informados desde el 9 de abril')"
   ]
  },
  {
   "cell_type": "markdown",
   "metadata": {},
   "source": [
    "Nota: Los exámenes informados por región empezaron a informarse sólo desde el 9 de abril."
   ]
  },
  {
   "cell_type": "markdown",
   "metadata": {},
   "source": [
    "Fuente: [Ministerio de Ciencia](https://github.com/MinCiencia/Datos-COVID19)"
   ]
  },
  {
   "cell_type": "markdown",
   "metadata": {},
   "source": [
    "# Evolución de casos confirmados diarios"
   ]
  },
  {
   "cell_type": "code",
   "execution_count": null,
   "metadata": {},
   "outputs": [],
   "source": [
    "#hide\n",
    "# Window size cases\n",
    "WS_cases = 7"
   ]
  },
  {
   "cell_type": "code",
   "execution_count": null,
   "metadata": {},
   "outputs": [],
   "source": [
    "#hide\n",
    "casos_raw = pd.read_csv(\n",
    "    \"https://raw.githubusercontent.com/MinCiencia/Datos-COVID19/master/output/producto3/CasosTotalesCumulativo.csv\",\n",
    "    index_col='Region')"
   ]
  },
  {
   "cell_type": "code",
   "execution_count": null,
   "metadata": {},
   "outputs": [],
   "source": [
    "#hide\n",
    "aux1 = casos_raw.loc[\"Total\"]\n",
    "aux2 = [t - s for s, t in zip(aux1, aux1.loc['2020-03-04':])]"
   ]
  },
  {
   "cell_type": "code",
   "execution_count": null,
   "metadata": {},
   "outputs": [],
   "source": [
    "#hide\n",
    "new_cases = pd.DataFrame()\n",
    "new_cases[\"Dates\"] = casos_raw.loc[\"Total\"].reset_index()[\"index\"].iloc[1:].values\n",
    "new_cases[\"New_cases\"] = aux2\n",
    "new_cases[\"Rolling\"] = new_cases[\"New_cases\"].rolling(window=WS_cases).mean()\n",
    "new_cases[\"Casos confirmados diarios\"] = len(new_cases) * [\"Casos confirmados diarios\"]\n",
    "new_cases[\"Promedio móvil últimos 7 días\"] = len(new_cases) * [\"Promedio móvil últimos 7 días\"]"
   ]
  },
  {
   "cell_type": "code",
   "execution_count": null,
   "metadata": {},
   "outputs": [],
   "source": [
    "#hide_input\n",
    "bars = alt.Chart(new_cases).mark_bar(opacity=0.7).encode(\n",
    "    x = alt.X('Dates:N', axis=alt.Axis(title='Fecha (año-mes-día)')),\n",
    "    y = alt.Y('New_cases:Q', axis=alt.Axis(title='Casos confirmados diarios')),\n",
    "    tooltip = ['Dates', 'New_cases'],\n",
    "    opacity=alt.Opacity('Casos confirmados diarios', legend=alt.Legend(title=\"\"))\n",
    ")\n",
    "\n",
    "line = alt.Chart(new_cases).mark_line(point={\n",
    "      \"filled\": True,\n",
    "      \"fill\": \"firebrick\"\n",
    "    }, color='firebrick').encode(\n",
    "    x=alt.X('Dates:N', axis=alt.Axis(title='Fecha (año-mes-día)')),\n",
    "    y = alt.Y('Rolling:Q'),\n",
    "    shape=alt.Shape('Promedio móvil últimos 7 días', legend=alt.Legend(title=\"\"))\n",
    ")\n",
    "\n",
    "(bars + line).properties(\n",
    "    title='Covid-19 en Chile: Casos confirmados diarios',\n",
    "    width=600\n",
    ")"
   ]
  },
  {
   "cell_type": "markdown",
   "metadata": {},
   "source": [
    "Fuente: [Ministerio de Ciencia](https://github.com/MinCiencia/Datos-COVID19)"
   ]
  },
  {
   "cell_type": "markdown",
   "metadata": {
    "papermill": {
     "duration": 0.083171,
     "end_time": "2020-04-28T12:16:40.275579",
     "exception": false,
     "start_time": "2020-04-28T12:16:40.192408",
     "status": "completed"
    },
    "tags": []
   },
   "source": [
    "# Evolución de casos confirmados diarios por región"
   ]
  },
  {
   "cell_type": "code",
   "execution_count": null,
   "metadata": {
    "execution": {
     "iopub.execute_input": "2020-04-28T12:16:39.755896Z",
     "iopub.status.busy": "2020-04-28T12:16:39.755288Z",
     "iopub.status.idle": "2020-04-28T12:16:39.757523Z",
     "shell.execute_reply": "2020-04-28T12:16:39.757012Z"
    },
    "papermill": {
     "duration": 0.089843,
     "end_time": "2020-04-28T12:16:39.757630",
     "exception": false,
     "start_time": "2020-04-28T12:16:39.667787",
     "status": "completed"
    },
    "tags": []
   },
   "outputs": [],
   "source": [
    "#hide\n",
    "# Window size cases\n",
    "WS_cases = 7"
   ]
  },
  {
   "cell_type": "code",
   "execution_count": null,
   "metadata": {
    "execution": {
     "iopub.execute_input": "2020-04-28T12:16:32.630112Z",
     "iopub.status.busy": "2020-04-28T12:16:32.629494Z",
     "iopub.status.idle": "2020-04-28T12:16:32.649508Z",
     "shell.execute_reply": "2020-04-28T12:16:32.648939Z"
    },
    "papermill": {
     "duration": 0.110939,
     "end_time": "2020-04-28T12:16:32.649626",
     "exception": false,
     "start_time": "2020-04-28T12:16:32.538687",
     "status": "completed"
    },
    "tags": []
   },
   "outputs": [],
   "source": [
    "#hide\n",
    "data_raw = pd.read_csv(\n",
    "    \"https://raw.githubusercontent.com/MinCiencia/Datos-COVID19/master/output/producto3/CasosTotalesCumulativo_T.csv\",\n",
    "    index_col='Region')"
   ]
  },
  {
   "cell_type": "code",
   "execution_count": null,
   "metadata": {},
   "outputs": [],
   "source": [
    "#hide\n",
    "data_raw = data_raw.diff().fillna(0).T"
   ]
  },
  {
   "cell_type": "code",
   "execution_count": null,
   "metadata": {
    "execution": {
     "iopub.execute_input": "2020-04-28T12:16:32.819320Z",
     "iopub.status.busy": "2020-04-28T12:16:32.818663Z",
     "iopub.status.idle": "2020-04-28T12:16:32.820978Z",
     "shell.execute_reply": "2020-04-28T12:16:32.820464Z"
    },
    "papermill": {
     "duration": 0.089772,
     "end_time": "2020-04-28T12:16:32.821088",
     "exception": false,
     "start_time": "2020-04-28T12:16:32.731316",
     "status": "completed"
    },
    "tags": []
   },
   "outputs": [],
   "source": [
    "#hide\n",
    "data_raw = data_raw.drop(\"Total\")"
   ]
  },
  {
   "cell_type": "code",
   "execution_count": null,
   "metadata": {
    "execution": {
     "iopub.execute_input": "2020-04-28T12:16:32.993705Z",
     "iopub.status.busy": "2020-04-28T12:16:32.988020Z",
     "iopub.status.idle": "2020-04-28T12:16:33.523491Z",
     "shell.execute_reply": "2020-04-28T12:16:33.522359Z"
    },
    "papermill": {
     "duration": 0.619644,
     "end_time": "2020-04-28T12:16:33.523625",
     "exception": false,
     "start_time": "2020-04-28T12:16:32.903981",
     "status": "completed"
    },
    "tags": []
   },
   "outputs": [],
   "source": [
    "#hide\n",
    "data = pd.DataFrame()\n",
    "i = 0\n",
    "for date in data_raw.keys():\n",
    "    for n, region in enumerate(data_raw.index):\n",
    "        data[i] = date, region, data_raw[date].loc[region], n\n",
    "        i += 1"
   ]
  },
  {
   "cell_type": "code",
   "execution_count": null,
   "metadata": {
    "execution": {
     "iopub.execute_input": "2020-04-28T12:16:33.701677Z",
     "iopub.status.busy": "2020-04-28T12:16:33.700563Z",
     "iopub.status.idle": "2020-04-28T12:16:33.705651Z",
     "shell.execute_reply": "2020-04-28T12:16:33.706168Z"
    },
    "papermill": {
     "duration": 0.100896,
     "end_time": "2020-04-28T12:16:33.706357",
     "exception": false,
     "start_time": "2020-04-28T12:16:33.605461",
     "status": "completed"
    },
    "tags": []
   },
   "outputs": [],
   "source": [
    "#hide\n",
    "regiones = data_raw.reset_index()['index'].values\n",
    "data = data.T\n",
    "data = data.rename(columns={0: \"date\", 1: \"region\", 2: \"casos\", 3: \"codigo region\"})"
   ]
  },
  {
   "cell_type": "code",
   "execution_count": null,
   "metadata": {
    "execution": {
     "iopub.execute_input": "2020-04-28T12:16:33.876387Z",
     "iopub.status.busy": "2020-04-28T12:16:33.875759Z",
     "iopub.status.idle": "2020-04-28T12:16:33.878181Z",
     "shell.execute_reply": "2020-04-28T12:16:33.878755Z"
    },
    "papermill": {
     "duration": 0.090828,
     "end_time": "2020-04-28T12:16:33.878888",
     "exception": false,
     "start_time": "2020-04-28T12:16:33.788060",
     "status": "completed"
    },
    "tags": []
   },
   "outputs": [],
   "source": [
    "#hide\n",
    "data[\"casos\"] = data[\"casos\"].astype(int)"
   ]
  },
  {
   "cell_type": "code",
   "execution_count": null,
   "metadata": {
    "execution": {
     "iopub.execute_input": "2020-04-28T12:16:34.053128Z",
     "iopub.status.busy": "2020-04-28T12:16:34.048039Z",
     "iopub.status.idle": "2020-04-28T12:16:34.162754Z",
     "shell.execute_reply": "2020-04-28T12:16:34.163451Z"
    },
    "papermill": {
     "duration": 0.201012,
     "end_time": "2020-04-28T12:16:34.163626",
     "exception": false,
     "start_time": "2020-04-28T12:16:33.962614",
     "status": "completed"
    },
    "tags": []
   },
   "outputs": [],
   "source": [
    "#hide_input\n",
    "input_dropdown = alt.binding_select(options=data['region'].unique())\n",
    "selection1 = alt.selection_single(fields=['region'], bind=input_dropdown, name=' ')\n",
    "selection2 = alt.selection_multi(fields=['region'], on='mouseover')\n",
    "color = alt.condition(selection1 | selection2,\n",
    "                    alt.Color('region:N', scale=alt.Scale(scheme='tableau20'), legend=None),\n",
    "                    alt.value('lightgray'))\n",
    "\n",
    "chart = alt.Chart(data).mark_bar().encode(\n",
    "    x=alt.X('date:O', axis=alt.Axis(title='Fecha (año-mes-día)')),\n",
    "    y=alt.Y('casos', axis=alt.Axis(title='Casos confirmados')),\n",
    "    color=color,\n",
    "    tooltip=['date', 'region', 'casos'],\n",
    "    order=alt.Order(\n",
    "    # Sort the segments of the bars by this field\n",
    "    'codigo region',\n",
    "    sort='descending'\n",
    "    )\n",
    ").properties(\n",
    "    title='Covid-19 en Chile: Casos confirmados diarios por región'\n",
    ").add_selection(\n",
    "    selection1, selection2\n",
    ").transform_filter(\n",
    "    selection1\n",
    ")\n",
    "\n",
    "line = alt.Chart(data).mark_line(point={\n",
    "      \"filled\": True,\n",
    "      \"fill\": \"firebrick\"\n",
    "    }, color='firebrick').encode(\n",
    "    x=alt.X('date:N', axis=alt.Axis(title='Fecha (año-mes-día)')),\n",
    "    y = alt.Y('Rolling:Q'),\n",
    "    shape=alt.Shape('Promedio móvil últimos 7 días', legend=alt.Legend(title=\"\"))\n",
    ")\n",
    "\n",
    "legend = alt.Chart(data).mark_point().encode(\n",
    "    y=alt.Y('region:N', axis=alt.Axis(orient='right'), sort=regiones),\n",
    "    color=color\n",
    ").add_selection(\n",
    "    selection1, selection2\n",
    ")\n",
    "\n",
    "chart.properties(width=600, height=400) | legend"
   ]
  },
  {
   "cell_type": "markdown",
   "metadata": {},
   "source": [
    "Fuente: [Ministerio de Ciencia](https://github.com/MinCiencia/Datos-COVID19)"
   ]
  },
  {
   "cell_type": "markdown",
   "metadata": {},
   "source": [
    "# Evolución de fallecimientos confirmados diarios"
   ]
  },
  {
   "cell_type": "code",
   "execution_count": null,
   "metadata": {},
   "outputs": [],
   "source": [
    "#hide\n",
    "data = pd.DataFrame()\n",
    "data_raw = pd.read_csv(\n",
    "    \"https://raw.githubusercontent.com/MinCiencia/Datos-COVID19/master/output/producto4/2020-03-24-CasosConfirmados-totalRegional.csv\",\n",
    "    index_col='Region')\n",
    "data['2020-03-24'] = data_raw['Fallecidos']"
   ]
  },
  {
   "cell_type": "code",
   "execution_count": null,
   "metadata": {},
   "outputs": [],
   "source": [
    "#hide\n",
    "first_death_date = '2020-03-24'\n",
    "total_days = (pd.to_datetime(today)-pd.to_datetime(first_death_date)).days"
   ]
  },
  {
   "cell_type": "code",
   "execution_count": null,
   "metadata": {},
   "outputs": [],
   "source": [
    "#hide\n",
    "for i in np.arange(total_days+1):\n",
    "  date = (pd.to_datetime(first_death_date)+pd.DateOffset(i)).strftime('%Y-%m-%d')\n",
    "  s = \"https://raw.githubusercontent.com/MinCiencia/Datos-COVID19/master/output/producto4/\" + date + \"-CasosConfirmados-totalRegional.csv\"\n",
    "  data_by_date = pd.read_csv(s)\n",
    "  if 'Fallecidos' in data_by_date.columns:\n",
    "    data[date] = data_by_date[\"Fallecidos\"].values\n",
    "  elif 'Casos fallecidos' in data_by_date.columns:\n",
    "    data[date] = data_by_date[\"Casos fallecidos\"].values\n",
    "  else:\n",
    "    data[date] = data_by_date[\" Casos fallecidos\"].values"
   ]
  },
  {
   "cell_type": "code",
   "execution_count": null,
   "metadata": {},
   "outputs": [],
   "source": [
    "#hide\n",
    "aux1 = data.loc[\"Total\"]\n",
    "aux2 = [t - s for s, t in zip(aux1, aux1.loc['2020-03-25':])]"
   ]
  },
  {
   "cell_type": "code",
   "execution_count": null,
   "metadata": {},
   "outputs": [],
   "source": [
    "#hide\n",
    "WS_deaths = 7"
   ]
  },
  {
   "cell_type": "code",
   "execution_count": null,
   "metadata": {},
   "outputs": [],
   "source": [
    "#hide\n",
    "new_deaths = pd.DataFrame()\n",
    "new_deaths[\"Dates\"] = data.loc[\"Total\"].reset_index()[\"index\"].iloc[1:].values\n",
    "new_deaths[\"New_deaths\"] = aux2\n",
    "new_deaths[\"Rolling\"] = new_deaths[\"New_deaths\"].rolling(window=WS_deaths).mean()\n",
    "new_deaths[\"Fallecimientos confirmados diarios\"] = len(new_deaths) * [\"Fallecimientos confirmados diarios\"]\n",
    "new_deaths[\"Promedio móvil últimos 7 días\"] = len(new_deaths) * [\"Promedio móvil últimos 7 días\"]"
   ]
  },
  {
   "cell_type": "code",
   "execution_count": null,
   "metadata": {},
   "outputs": [],
   "source": [
    "#hide_input\n",
    "bars = alt.Chart(new_deaths).mark_bar(opacity=0.7, color='firebrick').encode(\n",
    "    x = alt.X('Dates:N', axis=alt.Axis(title='Fecha (año-mes-día)')),\n",
    "    y = alt.Y('New_deaths:Q', axis=alt.Axis(title='Fallecimientos confirmados diarios')),\n",
    "    tooltip = ['Dates', 'New_deaths'],\n",
    "    opacity=alt.Opacity('Fallecimientos confirmados diarios', legend=alt.Legend(title=\"\"))\n",
    ")\n",
    "\n",
    "line = alt.Chart(new_deaths).mark_line(point={\n",
    "      \"filled\": True,\n",
    "      \"fill\": \"firebrick\"\n",
    "    }, color='firebrick').encode(\n",
    "    x=alt.X('Dates:N', axis=alt.Axis(title='Fecha (año-mes-día)')),\n",
    "    y = alt.Y('Rolling:Q'),\n",
    "    shape=alt.Shape('Promedio móvil últimos 7 días', legend=alt.Legend(title=\"\"))\n",
    ")\n",
    "\n",
    "(bars + line).properties(\n",
    "    title='Covid-19 en Chile: Fallecimientos confirmados diarios',\n",
    "    width=600\n",
    ")"
   ]
  },
  {
   "cell_type": "markdown",
   "metadata": {},
   "source": [
    "Fuente: [Ministerio de Ciencia](https://github.com/MinCiencia/Datos-COVID19)"
   ]
  },
  {
   "cell_type": "markdown",
   "metadata": {},
   "source": [
    "# Evolución de fallecimientos confirmados diarios por región"
   ]
  },
  {
   "cell_type": "code",
   "execution_count": null,
   "metadata": {
    "execution": {
     "iopub.execute_input": "2020-04-28T12:16:34.501390Z",
     "iopub.status.busy": "2020-04-28T12:16:34.500754Z",
     "iopub.status.idle": "2020-04-28T12:16:34.607378Z",
     "shell.execute_reply": "2020-04-28T12:16:34.606437Z"
    },
    "papermill": {
     "duration": 0.194542,
     "end_time": "2020-04-28T12:16:34.607572",
     "exception": false,
     "start_time": "2020-04-28T12:16:34.413030",
     "status": "completed"
    },
    "tags": []
   },
   "outputs": [],
   "source": [
    "#hide\n",
    "data = pd.DataFrame()\n",
    "data_raw = pd.read_csv(\n",
    "    \"https://raw.githubusercontent.com/MinCiencia/Datos-COVID19/master/output/producto4/2020-03-24-CasosConfirmados-totalRegional.csv\",\n",
    "    index_col='Region')\n",
    "data['2020-03-24'] = data_raw['Fallecidos']"
   ]
  },
  {
   "cell_type": "code",
   "execution_count": null,
   "metadata": {
    "execution": {
     "iopub.execute_input": "2020-04-28T12:16:34.779550Z",
     "iopub.status.busy": "2020-04-28T12:16:34.778883Z",
     "iopub.status.idle": "2020-04-28T12:16:34.781076Z",
     "shell.execute_reply": "2020-04-28T12:16:34.780561Z"
    },
    "papermill": {
     "duration": 0.090551,
     "end_time": "2020-04-28T12:16:34.781187",
     "exception": false,
     "start_time": "2020-04-28T12:16:34.690636",
     "status": "completed"
    },
    "tags": []
   },
   "outputs": [],
   "source": [
    "#hide\n",
    "first_death_date = '2020-03-24'\n",
    "total_days = (pd.to_datetime(today)-pd.to_datetime(first_death_date)).days"
   ]
  },
  {
   "cell_type": "code",
   "execution_count": null,
   "metadata": {
    "execution": {
     "iopub.execute_input": "2020-04-28T12:16:34.955763Z",
     "iopub.status.busy": "2020-04-28T12:16:34.955128Z",
     "iopub.status.idle": "2020-04-28T12:16:38.267570Z",
     "shell.execute_reply": "2020-04-28T12:16:38.266653Z"
    },
    "papermill": {
     "duration": 3.402871,
     "end_time": "2020-04-28T12:16:38.267760",
     "exception": false,
     "start_time": "2020-04-28T12:16:34.864889",
     "status": "completed"
    },
    "tags": []
   },
   "outputs": [],
   "source": [
    "#hide\n",
    "for i in np.arange(total_days+1):\n",
    "  date = (pd.to_datetime(first_death_date)+pd.DateOffset(i)).strftime('%Y-%m-%d')\n",
    "  s = \"https://raw.githubusercontent.com/MinCiencia/Datos-COVID19/master/output/producto4/\" + date + \"-CasosConfirmados-totalRegional.csv\"\n",
    "  data_by_date = pd.read_csv(s)\n",
    "  if 'Fallecidos' in data_by_date.columns:\n",
    "    data[date] = data_by_date[\"Fallecidos\"].values\n",
    "  elif 'Casos fallecidos' in data_by_date.columns:\n",
    "    data[date] = data_by_date[\"Casos fallecidos\"].values\n",
    "  else:\n",
    "    data[date] = data_by_date[\" Casos fallecidos\"].values"
   ]
  },
  {
   "cell_type": "code",
   "execution_count": null,
   "metadata": {},
   "outputs": [],
   "source": [
    "#hide\n",
    "data = data.T.diff().fillna(0).T"
   ]
  },
  {
   "cell_type": "code",
   "execution_count": null,
   "metadata": {
    "execution": {
     "iopub.execute_input": "2020-04-28T12:16:38.444360Z",
     "iopub.status.busy": "2020-04-28T12:16:38.443550Z",
     "iopub.status.idle": "2020-04-28T12:16:38.445281Z",
     "shell.execute_reply": "2020-04-28T12:16:38.445820Z"
    },
    "papermill": {
     "duration": 0.094073,
     "end_time": "2020-04-28T12:16:38.446041",
     "exception": false,
     "start_time": "2020-04-28T12:16:38.351968",
     "status": "completed"
    },
    "tags": []
   },
   "outputs": [],
   "source": [
    "#hide\n",
    "data = data.drop(\"Total\")"
   ]
  },
  {
   "cell_type": "code",
   "execution_count": null,
   "metadata": {
    "execution": {
     "iopub.execute_input": "2020-04-28T12:16:38.623718Z",
     "iopub.status.busy": "2020-04-28T12:16:38.622846Z",
     "iopub.status.idle": "2020-04-28T12:16:38.957040Z",
     "shell.execute_reply": "2020-04-28T12:16:38.957547Z"
    },
    "papermill": {
     "duration": 0.427634,
     "end_time": "2020-04-28T12:16:38.957695",
     "exception": false,
     "start_time": "2020-04-28T12:16:38.530061",
     "status": "completed"
    },
    "tags": []
   },
   "outputs": [],
   "source": [
    "#hide\n",
    "new_data = pd.DataFrame()\n",
    "i = 0\n",
    "for date in data.keys():\n",
    "    for n, region in enumerate(data.index):\n",
    "        new_data[i] = date, region, data[date].loc[region], n\n",
    "        i += 1"
   ]
  },
  {
   "cell_type": "code",
   "execution_count": null,
   "metadata": {
    "execution": {
     "iopub.execute_input": "2020-04-28T12:16:39.139159Z",
     "iopub.status.busy": "2020-04-28T12:16:39.138494Z",
     "iopub.status.idle": "2020-04-28T12:16:39.144086Z",
     "shell.execute_reply": "2020-04-28T12:16:39.143563Z"
    },
    "papermill": {
     "duration": 0.097874,
     "end_time": "2020-04-28T12:16:39.144196",
     "exception": false,
     "start_time": "2020-04-28T12:16:39.046322",
     "status": "completed"
    },
    "tags": []
   },
   "outputs": [],
   "source": [
    "#hide\n",
    "data = data.reset_index()\n",
    "regiones = data['Region'].values\n",
    "new_data = new_data.T\n",
    "new_data = new_data.rename(columns={0: \"date\", 1: \"region\", 2: \"fallecidos\", 3: \"codigo region\"})"
   ]
  },
  {
   "cell_type": "code",
   "execution_count": null,
   "metadata": {
    "execution": {
     "iopub.execute_input": "2020-04-28T12:16:39.321415Z",
     "iopub.status.busy": "2020-04-28T12:16:39.320809Z",
     "iopub.status.idle": "2020-04-28T12:16:39.324018Z",
     "shell.execute_reply": "2020-04-28T12:16:39.323507Z"
    },
    "papermill": {
     "duration": 0.095476,
     "end_time": "2020-04-28T12:16:39.324127",
     "exception": false,
     "start_time": "2020-04-28T12:16:39.228651",
     "status": "completed"
    },
    "tags": []
   },
   "outputs": [],
   "source": [
    "#hide\n",
    "new_data[\"fallecidos\"] = new_data[\"fallecidos\"].astype(int)"
   ]
  },
  {
   "cell_type": "code",
   "execution_count": null,
   "metadata": {
    "execution": {
     "iopub.execute_input": "2020-04-28T12:16:39.522109Z",
     "iopub.status.busy": "2020-04-28T12:16:39.506652Z",
     "iopub.status.idle": "2020-04-28T12:16:39.582068Z",
     "shell.execute_reply": "2020-04-28T12:16:39.582881Z"
    },
    "papermill": {
     "duration": 0.17631,
     "end_time": "2020-04-28T12:16:39.583116",
     "exception": false,
     "start_time": "2020-04-28T12:16:39.406806",
     "status": "completed"
    },
    "tags": []
   },
   "outputs": [],
   "source": [
    "#hide_input\n",
    "\n",
    "input_dropdown = alt.binding_select(options=new_data['region'].unique())\n",
    "selection1 = alt.selection_single(fields=['region'], bind=input_dropdown, name=' ')\n",
    "selection2 = alt.selection_multi(fields=['region'], on='mouseover')\n",
    "\n",
    "color = alt.condition(selection1 | selection2,\n",
    "                    alt.Color('region:N', scale=alt.Scale(scheme='tableau20'), legend=None),\n",
    "                    alt.value('lightgray'))\n",
    "\n",
    "bars = alt.Chart(new_data).mark_bar().encode(\n",
    "    x=alt.X('date:O', axis=alt.Axis(title='Fecha (año-mes-día)')),\n",
    "    y=alt.Y('fallecidos', axis=alt.Axis(title='Fallecimientos confirmados')),\n",
    "    color=color,\n",
    "    tooltip=['date', 'region', 'fallecidos'],\n",
    "    order=alt.Order(\n",
    "    # Sort the segments of the bars by this field\n",
    "    'codigo region',\n",
    "    sort='descending'\n",
    "    )\n",
    "    ).properties(\n",
    "    title='Covid-19 en Chile: Fallecimientos confirmados diarios por región'\n",
    ").add_selection(\n",
    "    selection1, selection2\n",
    ").transform_filter(\n",
    "    selection1\n",
    ")\n",
    "\n",
    "legend = alt.Chart(new_data).mark_point().encode(\n",
    "    y=alt.Y('region:N', axis=alt.Axis(orient='right'), sort=regiones),\n",
    "    color=color\n",
    ").add_selection(\n",
    "    selection1, selection2\n",
    ")\n",
    "\n",
    "bars.properties(width=600, height=400) | legend"
   ]
  },
  {
   "cell_type": "markdown",
   "metadata": {},
   "source": [
    "Fuente: [Ministerio de Ciencia](https://github.com/MinCiencia/Datos-COVID19)"
   ]
  },
  {
   "cell_type": "markdown",
   "metadata": {},
   "source": [
    "# Evolución de casos confirmados por región"
   ]
  },
  {
   "cell_type": "code",
   "execution_count": null,
   "metadata": {},
   "outputs": [],
   "source": [
    "#hide\n",
    "data_raw = pd.read_csv(\n",
    "    \"https://raw.githubusercontent.com/MinCiencia/Datos-COVID19/master/output/producto3/CasosTotalesCumulativo.csv\",\n",
    "    index_col='Region')"
   ]
  },
  {
   "cell_type": "code",
   "execution_count": null,
   "metadata": {},
   "outputs": [],
   "source": [
    "#hide\n",
    "data_raw = data_raw.drop(\"Total\")"
   ]
  },
  {
   "cell_type": "code",
   "execution_count": null,
   "metadata": {},
   "outputs": [],
   "source": [
    "#hide\n",
    "data = pd.DataFrame()\n",
    "i = 0\n",
    "for date in data_raw.keys():\n",
    "    for n, region in enumerate(data_raw.index):\n",
    "        data[i] = date, region, data_raw[date].loc[region], n\n",
    "        i += 1"
   ]
  },
  {
   "cell_type": "code",
   "execution_count": null,
   "metadata": {},
   "outputs": [],
   "source": [
    "#hide\n",
    "data_raw = data_raw.reset_index()\n",
    "regiones = data_raw['Region'].values\n",
    "data = data.T\n",
    "data = data.rename(columns={0: \"date\", 1: \"region\", 2: \"casos\", 3: \"codigo region\"})"
   ]
  },
  {
   "cell_type": "code",
   "execution_count": null,
   "metadata": {},
   "outputs": [],
   "source": [
    "#hide\n",
    "data[\"casos\"] = data[\"casos\"].astype(int)"
   ]
  },
  {
   "cell_type": "code",
   "execution_count": null,
   "metadata": {},
   "outputs": [],
   "source": [
    "#hide_input\n",
    "input_dropdown = alt.binding_select(options=data['region'].unique())\n",
    "selection1 = alt.selection_single(fields=['region'], bind=input_dropdown, name=' ')\n",
    "selection2 = alt.selection_multi(fields=['region'], on='mouseover')\n",
    "color = alt.condition(selection1 | selection2,\n",
    "                    alt.Color('region:N', scale=alt.Scale(scheme='tableau20'), legend=None),\n",
    "                    alt.value('lightgray'))\n",
    "\n",
    "chart = alt.Chart(data).mark_bar().encode(\n",
    "    x=alt.X('date:O', axis=alt.Axis(title='Fecha (año-mes-día)')),\n",
    "    y=alt.Y('casos', axis=alt.Axis(title='Casos confirmados')),\n",
    "    color=color,\n",
    "    tooltip=['date', 'region', 'casos'],\n",
    "    order=alt.Order(\n",
    "    # Sort the segments of the bars by this field\n",
    "    'codigo region',\n",
    "    sort='descending'\n",
    "    )\n",
    ").properties(\n",
    "    title='COVID-19 en Chile: Total de casos confirmados por región'\n",
    ").add_selection(\n",
    "    selection1, selection2\n",
    ").transform_filter(\n",
    "    selection1\n",
    ")\n",
    "\n",
    "legend = alt.Chart(data).mark_point().encode(\n",
    "    y=alt.Y('region:N', axis=alt.Axis(orient='right'), sort=regiones),\n",
    "    color=color\n",
    ").add_selection(\n",
    "    selection1, selection2\n",
    ")\n",
    "\n",
    "chart.properties(width=600, height=400) | legend"
   ]
  },
  {
   "cell_type": "markdown",
   "metadata": {},
   "source": [
    "Fuente: [Ministerio de Ciencia](https://github.com/MinCiencia/Datos-COVID19)"
   ]
  },
  {
   "cell_type": "markdown",
   "metadata": {},
   "source": [
    "Inspirado del [tweet](https://twitter.com/NachoToledoR/status/1244631395781218306) de [@NachoToledoR](https://twitter.com/NachoToledoR)."
   ]
  },
  {
   "cell_type": "code",
   "execution_count": null,
   "metadata": {
    "scrolled": true
   },
   "outputs": [],
   "source": [
    "#hide_input\n",
    "selection2 = alt.selection_multi(fields=['region'], on='mouseover')\n",
    "color = alt.condition(selection2,\n",
    "                    alt.Color('region:N', scale=alt.Scale(scheme='tableau20'), legend=None),\n",
    "                    alt.value('lightgray'))\n",
    "\n",
    "chart = alt.Chart(data.iloc[176:]).mark_area().encode(\n",
    "    x=alt.X('date:O', axis=alt.Axis(title='Fecha (año-mes-día)')),\n",
    "    y=alt.Y('casos', axis=alt.Axis(title='Casos confirmados'), stack=\"normalize\"),\n",
    "    color=color,\n",
    "    tooltip=['date', 'region', 'casos'],\n",
    "    order=alt.Order(\n",
    "    # Sort the segments of the bars by this field\n",
    "    'codigo region',\n",
    "    sort='descending'\n",
    "    )\n",
    ").properties(\n",
    "    title='COVID-19 en Chile: Total de casos confirmados por región'\n",
    ").add_selection(\n",
    "    selection2\n",
    ")\n",
    "\n",
    "legend = alt.Chart(data).mark_point().encode(\n",
    "    y=alt.Y('region:N', axis=alt.Axis(orient='right'), sort=regiones),\n",
    "    color=color\n",
    ").add_selection(\n",
    "    selection2\n",
    ")\n",
    "\n",
    "chart.properties(width=600, height=400) | legend"
   ]
  },
  {
   "cell_type": "code",
   "execution_count": null,
   "metadata": {},
   "outputs": [],
   "source": [
    "#hide\n",
    "selection2 = alt.selection_multi(fields=['region'], on='mouseover')\n",
    "color = alt.condition(selection2,\n",
    "                    alt.Color('region:N', scale=alt.Scale(scheme='tableau20'), legend=None),\n",
    "                    alt.value('lightgray'))\n",
    "\n",
    "chart = alt.Chart(data.iloc[176:]).mark_area().encode(\n",
    "    x=alt.X('date:O', axis=alt.Axis(title='Fecha (año-mes-día)', domain=False, tickSize=0)),\n",
    "    y=alt.Y('casos', stack=\"center\", axis=None),\n",
    "    color=color,\n",
    "    tooltip=['date', 'region', 'casos'],\n",
    "    order=alt.Order(\n",
    "    # Sort the segments of the bars by this field\n",
    "    'codigo region',\n",
    "    sort='descending'\n",
    "    )\n",
    ").properties(\n",
    "    title='COVID-19 en Chile: Total de casos confirmados por región'\n",
    ").add_selection(\n",
    "    selection2\n",
    ")\n",
    "\n",
    "legend = alt.Chart(data).mark_point().encode(\n",
    "    y=alt.Y('region:N', axis=alt.Axis(orient='right'), sort=regiones),\n",
    "    color=color\n",
    ").add_selection(\n",
    "    selection2\n",
    ")\n",
    "\n",
    "chart.properties(width=600, height=400) | legend"
   ]
  },
  {
   "cell_type": "markdown",
   "metadata": {},
   "source": [
    "# Evolución de fallecidos confirmados por región"
   ]
  },
  {
   "cell_type": "code",
   "execution_count": null,
   "metadata": {},
   "outputs": [],
   "source": [
    "#hide\n",
    "data = pd.DataFrame()\n",
    "data_raw = pd.read_csv(\n",
    "    \"https://raw.githubusercontent.com/MinCiencia/Datos-COVID19/master/output/producto4/2020-03-24-CasosConfirmados-totalRegional.csv\",\n",
    "    index_col='Region')\n",
    "data['2020-03-24'] = data_raw['Fallecidos']"
   ]
  },
  {
   "cell_type": "code",
   "execution_count": null,
   "metadata": {},
   "outputs": [],
   "source": [
    "#hide\n",
    "first_death_date = '2020-03-24'\n",
    "total_days = (pd.to_datetime(today)-pd.to_datetime(first_death_date)).days"
   ]
  },
  {
   "cell_type": "code",
   "execution_count": null,
   "metadata": {},
   "outputs": [],
   "source": [
    "#hide\n",
    "for i in np.arange(total_days+1):\n",
    "  date = (pd.to_datetime(first_death_date)+pd.DateOffset(i)).strftime('%Y-%m-%d')\n",
    "  s = \"https://raw.githubusercontent.com/MinCiencia/Datos-COVID19/master/output/producto4/\" + date + \"-CasosConfirmados-totalRegional.csv\"\n",
    "  data_by_date = pd.read_csv(s)\n",
    "  if 'Fallecidos' in data_by_date.columns:\n",
    "    data[date] = data_by_date[\"Fallecidos\"].values\n",
    "  elif 'Casos fallecidos' in data_by_date.columns:\n",
    "    data[date] = data_by_date[\"Casos fallecidos\"].values\n",
    "  else:\n",
    "    data[date] = data_by_date[\" Casos fallecidos\"].values"
   ]
  },
  {
   "cell_type": "code",
   "execution_count": null,
   "metadata": {},
   "outputs": [],
   "source": [
    "#hide\n",
    "data = data.drop(\"Total\")"
   ]
  },
  {
   "cell_type": "code",
   "execution_count": null,
   "metadata": {},
   "outputs": [],
   "source": [
    "#hide\n",
    "new_data = pd.DataFrame()\n",
    "i = 0\n",
    "for date in data.keys():\n",
    "    for n, region in enumerate(data.index):\n",
    "        new_data[i] = date, region, data[date].loc[region], n\n",
    "        i += 1"
   ]
  },
  {
   "cell_type": "code",
   "execution_count": null,
   "metadata": {},
   "outputs": [],
   "source": [
    "#hide\n",
    "data = data.reset_index()\n",
    "regiones = data['Region'].values\n",
    "new_data = new_data.T\n",
    "new_data = new_data.rename(columns={0: \"date\", 1: \"region\", 2: \"fallecidos\", 3: \"codigo region\"})"
   ]
  },
  {
   "cell_type": "code",
   "execution_count": null,
   "metadata": {},
   "outputs": [],
   "source": [
    "#hide\n",
    "new_data[\"fallecidos\"] = new_data[\"fallecidos\"].astype(int)"
   ]
  },
  {
   "cell_type": "code",
   "execution_count": null,
   "metadata": {},
   "outputs": [],
   "source": [
    "#hide_input\n",
    "\n",
    "input_dropdown = alt.binding_select(options=new_data['region'].unique())\n",
    "selection1 = alt.selection_single(fields=['region'], bind=input_dropdown, name=' ')\n",
    "selection2 = alt.selection_multi(fields=['region'], on='mouseover')\n",
    "\n",
    "color = alt.condition(selection1 | selection2,\n",
    "                    alt.Color('region:N', scale=alt.Scale(scheme='tableau20'), legend=None),\n",
    "                    alt.value('lightgray'))\n",
    "\n",
    "bars = alt.Chart(new_data).mark_bar().encode(\n",
    "    x=alt.X('date:O', axis=alt.Axis(title='Fecha (año-mes-día)')),\n",
    "    y=alt.Y('fallecidos', axis=alt.Axis(title='Fallecidos confirmados')),\n",
    "    color=color,\n",
    "    tooltip=['date', 'region', 'fallecidos'],\n",
    "    order=alt.Order(\n",
    "    # Sort the segments of the bars by this field\n",
    "    'codigo region',\n",
    "    sort='descending'\n",
    "    )\n",
    "    ).properties(\n",
    "    title='COVID-19 en Chile: Total de fallecidos confirmados por región'\n",
    ").add_selection(\n",
    "    selection1, selection2\n",
    ").transform_filter(\n",
    "    selection1\n",
    ")\n",
    "\n",
    "legend = alt.Chart(new_data).mark_point().encode(\n",
    "    y=alt.Y('region:N', axis=alt.Axis(orient='right'), sort=regiones),\n",
    "    color=color\n",
    ").add_selection(\n",
    "    selection1, selection2\n",
    ")\n",
    "\n",
    "bars.properties(width=600, height=400) | legend"
   ]
  },
  {
   "cell_type": "code",
   "execution_count": null,
   "metadata": {},
   "outputs": [],
   "source": [
    "#hide_input\n",
    "selection2 = alt.selection_multi(fields=['region'], on='mouseover')\n",
    "\n",
    "color = alt.condition(selection2,\n",
    "                    alt.Color('region:N', scale=alt.Scale(scheme='tableau20'), legend=None),\n",
    "                    alt.value('lightgray'))\n",
    "\n",
    "bars = alt.Chart(new_data.iloc[128:]).mark_area().encode(\n",
    "    x=alt.X('date:O', axis=alt.Axis(title='Fecha (año-mes-día)')),\n",
    "    y=alt.Y('fallecidos', axis=alt.Axis(title='Fallecidos confirmados'), stack=\"normalize\"),\n",
    "    color=color,\n",
    "    tooltip=['date', 'region', 'fallecidos'],\n",
    "    order=alt.Order(\n",
    "    # Sort the segments of the bars by this field\n",
    "    'codigo region',\n",
    "    sort='descending'\n",
    "    )\n",
    "    ).properties(\n",
    "    title='COVID-19 en Chile: Total de fallecidos confirmados por región'\n",
    ").add_selection(\n",
    "    selection2\n",
    ")\n",
    "\n",
    "legend = alt.Chart(new_data).mark_point().encode(\n",
    "    y=alt.Y('region:N', axis=alt.Axis(orient='right'), sort=regiones),\n",
    "    color=color\n",
    ").add_selection(\n",
    "    selection2\n",
    ")\n",
    "\n",
    "bars.properties(width=600, height=400) | legend"
   ]
  },
  {
   "cell_type": "markdown",
   "metadata": {},
   "source": [
    "Fuente: [Ministerio de Ciencia](https://github.com/MinCiencia/Datos-COVID19)"
   ]
  },
  {
   "cell_type": "markdown",
   "metadata": {},
   "source": [
    "# Evolución de pacientes en UCI por región"
   ]
  },
  {
   "cell_type": "code",
   "execution_count": null,
   "metadata": {},
   "outputs": [],
   "source": [
    "#hide\n",
    "data_raw = pd.read_csv(\n",
    "    'https://raw.githubusercontent.com/MinCiencia/Datos-COVID19/master/output/producto8/UCI.csv',\n",
    "    index_col='Region')\n",
    "data_raw = data_raw.drop(columns='Codigo region')\n",
    "data_raw.loc['Total'] = data_raw.sum(axis=0)\n",
    "data_raw = data_raw.drop(columns='Poblacion')"
   ]
  },
  {
   "cell_type": "code",
   "execution_count": null,
   "metadata": {},
   "outputs": [],
   "source": [
    "#hide\n",
    "data_raw = data_raw.drop(\"Total\")"
   ]
  },
  {
   "cell_type": "code",
   "execution_count": null,
   "metadata": {},
   "outputs": [],
   "source": [
    "#hide\n",
    "data = pd.DataFrame()\n",
    "i = 0\n",
    "for date in data_raw.keys():\n",
    "    for n, region in enumerate(data_raw.index):\n",
    "        data[i] = date, region, data_raw[date].loc[region], n\n",
    "        i += 1"
   ]
  },
  {
   "cell_type": "code",
   "execution_count": null,
   "metadata": {},
   "outputs": [],
   "source": [
    "#hide\n",
    "data_raw = data_raw.reset_index()"
   ]
  },
  {
   "cell_type": "code",
   "execution_count": null,
   "metadata": {},
   "outputs": [],
   "source": [
    "#hide\n",
    "regiones = data_raw['Region'].values"
   ]
  },
  {
   "cell_type": "code",
   "execution_count": null,
   "metadata": {},
   "outputs": [],
   "source": [
    "#hide\n",
    "data = data.T"
   ]
  },
  {
   "cell_type": "code",
   "execution_count": null,
   "metadata": {},
   "outputs": [],
   "source": [
    "#hide\n",
    "data = data.rename(columns={0: \"date\", 1: \"region\", 2: \"pacientes\", 3: \"codigo region\"})"
   ]
  },
  {
   "cell_type": "code",
   "execution_count": null,
   "metadata": {},
   "outputs": [],
   "source": [
    "#hide\n",
    "data[\"pacientes\"] = data[\"pacientes\"].astype(int)"
   ]
  },
  {
   "cell_type": "code",
   "execution_count": null,
   "metadata": {
    "scrolled": false
   },
   "outputs": [],
   "source": [
    "#hide_input\n",
    "input_dropdown = alt.binding_select(options=data['region'].unique())\n",
    "selection1 = alt.selection_single(fields=['region'], bind=input_dropdown, name=' ')\n",
    "selection2 = alt.selection_multi(fields=['region'], on='mouseover')\n",
    "\n",
    "color = alt.condition(selection1 | selection2,\n",
    "                    alt.Color('region:N', scale=alt.Scale(scheme='tableau20'), legend=None),\n",
    "                    alt.value('lightgray'))\n",
    "\n",
    "bars = alt.Chart(data).mark_bar().encode(\n",
    "    x=alt.X('date:O', axis=alt.Axis(title='Fecha (año-mes-día)')),\n",
    "    y=alt.Y('pacientes'),\n",
    "    color=color,\n",
    "    tooltip=['date', 'region', 'pacientes'],\n",
    "    order=alt.Order(\n",
    "    # Sort the segments of the bars by this field\n",
    "    'codigo region',\n",
    "    sort='descending'\n",
    "    )\n",
    "    ).properties(\n",
    "    title=f'COVID-19 en Chile: Pacientes en UCI por región'\n",
    ").add_selection(\n",
    "    selection1, selection2\n",
    ").transform_filter(\n",
    "    selection1\n",
    ")\n",
    "\n",
    "legend = alt.Chart(new_data).mark_point().encode(\n",
    "    y=alt.Y('region:N', axis=alt.Axis(orient='right'), sort=regiones),\n",
    "    color=color\n",
    ").add_selection(\n",
    "    selection1, selection2\n",
    ")\n",
    "\n",
    "bars.properties(width=600, height=400) | legend"
   ]
  },
  {
   "cell_type": "code",
   "execution_count": null,
   "metadata": {},
   "outputs": [],
   "source": [
    "#hide_input\n",
    "selection2 = alt.selection_multi(fields=['region'], on='mouseover')\n",
    "\n",
    "color = alt.condition(selection2,\n",
    "                    alt.Color('region:N', scale=alt.Scale(scheme='tableau20'), legend=None),\n",
    "                    alt.value('lightgray'))\n",
    "\n",
    "bars = alt.Chart(data).mark_area().encode(\n",
    "    x=alt.X('date:O', axis=alt.Axis(title='Fecha (año-mes-día)')),\n",
    "    y=alt.Y('pacientes', stack=\"normalize\"),\n",
    "    color=color,\n",
    "    tooltip=['date', 'region', 'pacientes'],\n",
    "    order=alt.Order(\n",
    "    # Sort the segments of the bars by this field\n",
    "    'codigo region',\n",
    "    sort='descending'\n",
    "    )\n",
    "    ).properties(\n",
    "    title=f'COVID-19 en Chile: Pacientes en UCI por región normalizado'\n",
    ").add_selection(\n",
    "    selection2\n",
    ")\n",
    "\n",
    "legend = alt.Chart(new_data).mark_point().encode(\n",
    "    y=alt.Y('region:N', axis=alt.Axis(orient='right'), sort=regiones),\n",
    "    color=color\n",
    ").add_selection(\n",
    "    selection2\n",
    ")\n",
    "\n",
    "bars.properties(width=600, height=400) | legend"
   ]
  },
  {
   "cell_type": "markdown",
   "metadata": {},
   "source": [
    "Fuente: [Ministerio de Ciencia](https://github.com/MinCiencia/Datos-COVID19)"
   ]
  },
  {
   "cell_type": "code",
   "execution_count": null,
   "metadata": {},
   "outputs": [],
   "source": [
    "#hide\n",
    "data_raw = pd.read_csv(\n",
    "    \"https://raw.githubusercontent.com/MinCiencia/Datos-COVID19/master/output/producto3/CasosTotalesCumulativo.csv\",\n",
    "    index_col='Region')"
   ]
  },
  {
   "cell_type": "code",
   "execution_count": null,
   "metadata": {},
   "outputs": [],
   "source": [
    "#hide\n",
    "regiones = data_raw.drop('Total').reset_index()[\"Region\"].values"
   ]
  },
  {
   "cell_type": "code",
   "execution_count": null,
   "metadata": {},
   "outputs": [],
   "source": [
    "#hide\n",
    "data_raw = data_raw.reset_index()[['Region', today]]\n",
    "data_raw = data_raw.rename(columns={today: \"Casos confirmados\"})"
   ]
  },
  {
   "cell_type": "code",
   "execution_count": null,
   "metadata": {},
   "outputs": [],
   "source": [
    "#hide\n",
    "today_es_format = update_date.strftime('%d/%m/%Y')"
   ]
  },
  {
   "cell_type": "code",
   "execution_count": null,
   "metadata": {},
   "outputs": [],
   "source": [
    "#hide\n",
    "#Remove total\n",
    "data_raw = data_raw.set_index('Region').drop(\"Total\").reset_index()"
   ]
  },
  {
   "cell_type": "code",
   "execution_count": null,
   "metadata": {},
   "outputs": [],
   "source": [
    "#hide\n",
    "bars = alt.Chart(data_raw).mark_bar().encode(\n",
    "    x = alt.X(\"Casos confirmados\", axis=alt.Axis(title='Casos confirmados')),\n",
    "    y = alt.Y('Region:N', sort='-x'),\n",
    "    tooltip = \"Casos confirmados\" \n",
    ").properties(\n",
    "    title=f'COVID-19 en Chile: Casos confirmados por región al {today_es_format}'\n",
    ")\n",
    "\n",
    "text = bars.mark_text(\n",
    "    align='left',\n",
    "    baseline='middle',\n",
    "    dx=3  # Nudges text to right so it doesn't appear on top of the bar\n",
    ").encode(\n",
    "    text=\"Casos confirmados\"\n",
    ")\n",
    "\n",
    "(bars + text).properties(width=600, height=300)"
   ]
  },
  {
   "cell_type": "markdown",
   "metadata": {},
   "source": [
    "# Casos confirmados por cada 100.000 habitantes por región"
   ]
  },
  {
   "cell_type": "code",
   "execution_count": null,
   "metadata": {},
   "outputs": [],
   "source": [
    "#hide\n",
    "tests_raw = pd.read_csv(\n",
    "    'https://raw.githubusercontent.com/MinCiencia/Datos-COVID19/master/output/producto7/PCR.csv',\n",
    "    index_col='Region')"
   ]
  },
  {
   "cell_type": "code",
   "execution_count": null,
   "metadata": {},
   "outputs": [],
   "source": [
    "#hide\n",
    "data_raw[\"Poblacion\"] = tests_raw[\"Poblacion\"].values\n",
    "data_raw[\"Tasa de casos confirmados\"] = 100000*data_raw[\"Casos confirmados\"]/tests_raw[\"Poblacion\"].values"
   ]
  },
  {
   "cell_type": "code",
   "execution_count": null,
   "metadata": {
    "scrolled": false
   },
   "outputs": [],
   "source": [
    "#hide_input\n",
    "\n",
    "bars = alt.Chart(data_raw).mark_bar(opacity=0.8).encode(\n",
    "    x = alt.X('Tasa de casos confirmados:Q', axis=alt.Axis(title='Casos confirmados por cada 100.000 habitantes')),\n",
    "    y = alt.Y('Region:N', sort='-x'),\n",
    "    tooltip = ['Region', 'Casos confirmados', 'Poblacion', 'Tasa de casos confirmados'],\n",
    "    color = alt.Color('Region:N', scale=alt.Scale(scheme='tableau20'), legend=None),\n",
    ").properties(\n",
    "    title=f'COVID-19 en Chile: Casos confirmados por cada 100.000 habitantes por región al {today_es_format}'\n",
    ")\n",
    "\n",
    "text = bars.mark_text(\n",
    "    align='left',\n",
    "    baseline='middle',\n",
    "    dx=3  # Nudges text to right so it doesn't appear on top of the bar\n",
    ").encode(\n",
    "    text=alt.Text('Tasa de casos confirmados:Q', format=',.2f')\n",
    ")\n",
    "\n",
    "(bars + text).properties(width=600, height=alt.Step(30))"
   ]
  },
  {
   "cell_type": "code",
   "execution_count": null,
   "metadata": {},
   "outputs": [],
   "source": [
    "#hide\n",
    "cases = data_raw"
   ]
  },
  {
   "cell_type": "markdown",
   "metadata": {},
   "source": [
    "Fuente: [Ministerio de Ciencia](https://github.com/MinCiencia/Datos-COVID19)"
   ]
  },
  {
   "cell_type": "code",
   "execution_count": null,
   "metadata": {},
   "outputs": [],
   "source": [
    "#hide\n",
    "s = 'https://raw.githubusercontent.com/MinCiencia/Datos-COVID19/master/output/producto4/' + today +'-CasosConfirmados-totalRegional.csv'\n",
    "data_raw = pd.read_csv(s, index_col='Region')"
   ]
  },
  {
   "cell_type": "code",
   "execution_count": null,
   "metadata": {},
   "outputs": [],
   "source": [
    "#hide\n",
    "data_raw = data_raw[data_raw['Fallecidos']>0]\n",
    "data_raw = data_raw.drop('Total')"
   ]
  },
  {
   "cell_type": "code",
   "execution_count": null,
   "metadata": {},
   "outputs": [],
   "source": [
    "#hide\n",
    "bars = alt.Chart(data_raw.reset_index()).mark_bar().encode(\n",
    "    x = alt.X('Fallecidos:Q', axis=alt.Axis(title='Fallecidos confirmados')),\n",
    "    y = alt.Y('Region:N', sort='-x'),\n",
    "    tooltip = 'Fallecidos'\n",
    ").properties(\n",
    "    title=f'COVID-19 en Chile: Fallecidos confirmados por región al {today_es_format}'\n",
    ")\n",
    "\n",
    "text = bars.mark_text(\n",
    "    align='left',\n",
    "    baseline='middle',\n",
    "    dx=3  # Nudges text to right so it doesn't appear on top of the bar\n",
    ").encode(\n",
    "    text='Fallecidos:Q'\n",
    ")\n",
    "\n",
    "bars.configure_title(\n",
    "    fontSize=20,\n",
    "    font='Courier',\n",
    "    anchor='start',\n",
    "    color='gray'\n",
    ")\n",
    "\n",
    "(bars + text).properties(width=600, height=alt.Step(30))"
   ]
  },
  {
   "cell_type": "markdown",
   "metadata": {},
   "source": [
    "# Fallecidos confirmados por cada 100.000 habitantes por región"
   ]
  },
  {
   "cell_type": "code",
   "execution_count": null,
   "metadata": {},
   "outputs": [],
   "source": [
    "#hide\n",
    "s = 'https://raw.githubusercontent.com/MinCiencia/Datos-COVID19/master/output/producto4/' + today + '-CasosConfirmados-totalRegional.csv'\n",
    "data_raw = pd.read_csv(s, index_col='Region')"
   ]
  },
  {
   "cell_type": "code",
   "execution_count": null,
   "metadata": {},
   "outputs": [],
   "source": [
    "#hide\n",
    "tests_raw = pd.read_csv(\n",
    "    'https://raw.githubusercontent.com/MinCiencia/Datos-COVID19/master/output/producto7/PCR.csv',\n",
    "    index_col='Region')\n",
    "tests_raw = tests_raw.fillna(0)"
   ]
  },
  {
   "cell_type": "code",
   "execution_count": null,
   "metadata": {},
   "outputs": [],
   "source": [
    "#hide\n",
    "tests_total = pd.Series(dtype='float64')\n",
    "for date in tests_raw.columns:\n",
    "  tests_raw[date] = tests_raw[date].apply(lambda x: 0 if x=='-' else x)\n",
    "  tests_raw[date] = tests_raw[date].astype(int)\n",
    "  tests_total[date] = np.sum(tests_raw[date])"
   ]
  },
  {
   "cell_type": "code",
   "execution_count": null,
   "metadata": {},
   "outputs": [],
   "source": [
    "#hide\n",
    "tests_raw.loc['Total'] = tests_total"
   ]
  },
  {
   "cell_type": "code",
   "execution_count": null,
   "metadata": {},
   "outputs": [],
   "source": [
    "#hide\n",
    "death_rate = 100000*data_raw['Fallecidos']/tests_raw['Poblacion'].values\n",
    "death_rate = death_rate.sort_values(ascending=True)\n",
    "death_rate = death_rate[death_rate>0]"
   ]
  },
  {
   "cell_type": "code",
   "execution_count": null,
   "metadata": {},
   "outputs": [],
   "source": [
    "#hide\n",
    "death_rate = pd.DataFrame()\n",
    "death_rate['Region'] = data_raw.reset_index()['Region']\n",
    "death_rate['Fallecidos'] = data_raw['Fallecidos'].values\n",
    "death_rate['Poblacion'] = tests_raw['Poblacion'].values\n",
    "death_rate['Tasa de fallecimiento'] = 100000*data_raw['Fallecidos'].values/tests_raw['Poblacion'].values\n",
    "death_rate = death_rate.set_index('Region')"
   ]
  },
  {
   "cell_type": "code",
   "execution_count": null,
   "metadata": {},
   "outputs": [],
   "source": [
    "#hide\n",
    "death_rate = death_rate[death_rate[\"Fallecidos\"]>0]"
   ]
  },
  {
   "cell_type": "code",
   "execution_count": null,
   "metadata": {
    "scrolled": false
   },
   "outputs": [],
   "source": [
    "#hide_input\n",
    "bars = alt.Chart(death_rate.reset_index()).mark_bar(opacity=0.8).encode(\n",
    "    x = alt.X('Tasa de fallecimiento:Q', axis=alt.Axis(title='Fallecidos confirmados por cada 100.000 habitantes')),\n",
    "    y = alt.Y('Region:N', sort='-x'),\n",
    "    tooltip = ['Region', 'Fallecidos', 'Poblacion', 'Tasa de fallecimiento'],\n",
    "    color = alt.Color('Region:N', scale=alt.Scale(scheme='tableau20'), legend=None),\n",
    ").properties(\n",
    "    title=f'COVID-19 en Chile: Fallecidos confirmados por cada 100.000 habitantes por región al {today_es_format}'\n",
    ")\n",
    "\n",
    "text = bars.mark_text(\n",
    "    align='left',\n",
    "    baseline='middle',\n",
    "    dx=3  # Nudges text to right so it doesn't appear on top of the bar\n",
    ").encode(\n",
    "    text=alt.Text('Tasa de fallecimiento:Q', format=',.2f')\n",
    ")\n",
    "\n",
    "(bars + text).properties(width=600, height=alt.Step(30))"
   ]
  },
  {
   "cell_type": "markdown",
   "metadata": {},
   "source": [
    "Fuente: [Ministerio de Ciencia](https://github.com/MinCiencia/Datos-COVID19)"
   ]
  },
  {
   "cell_type": "markdown",
   "metadata": {},
   "source": [
    "# Tasa de letalidad por región\n",
    "> Tasa de letalidad = fallecidos confirmados / casos confirmados"
   ]
  },
  {
   "cell_type": "code",
   "execution_count": null,
   "metadata": {},
   "outputs": [],
   "source": [
    "#hide\n",
    "CFR = cases.drop(columns=\"Tasa de casos confirmados\")[[\"Region\", \"Poblacion\", \"Casos confirmados\"]]\n",
    "CFR[\"Fallecidos confirmados\"] = data_raw.drop(\"Total\")['Fallecidos'].values\n",
    "CFR[\"Tasa de letalidad\"] = CFR['Fallecidos confirmados']/CFR['Casos confirmados']"
   ]
  },
  {
   "cell_type": "code",
   "execution_count": null,
   "metadata": {},
   "outputs": [],
   "source": [
    "#hide\n",
    "CFR = CFR[CFR[\"Fallecidos confirmados\"]>0]"
   ]
  },
  {
   "cell_type": "code",
   "execution_count": null,
   "metadata": {},
   "outputs": [],
   "source": [
    "#hide\n",
    "CFR[\"Texto\"] = \\\n",
    "[f\"{100*CFR['Tasa de letalidad'].loc[i]:.2f}\" for i, val in CFR.iterrows()]"
   ]
  },
  {
   "cell_type": "code",
   "execution_count": null,
   "metadata": {
    "scrolled": false
   },
   "outputs": [],
   "source": [
    "#hide_input\n",
    "bars = alt.Chart(CFR).mark_bar(opacity=0.8).encode(\n",
    "    x = alt.X('Tasa de letalidad:Q', axis=alt.Axis(format='%', title='Tasa de letalidad')),\n",
    "    y = alt.Y('Region:N', sort='-x'),\n",
    "    tooltip = ['Region', 'Fallecidos confirmados', 'Casos confirmados', 'Tasa de letalidad'],\n",
    "    color = alt.Color('Region:N', scale=alt.Scale(scheme='tableau20'), legend=None)\n",
    ").properties(\n",
    "    title=f'COVID-19 en Chile: Tasa de letalidad por región al {today_es_format}'\n",
    ")\n",
    "\n",
    "text = bars.mark_text(\n",
    "    align='left',\n",
    "    baseline='middle',\n",
    "    dx=3  # Nudges text to right so it doesn't appear on top of the bar\n",
    ").encode(\n",
    "    text=alt.Text('Texto:Q')\n",
    ")\n",
    "\n",
    "(bars + text).properties(width=600, height=alt.Step(30))"
   ]
  },
  {
   "cell_type": "markdown",
   "metadata": {},
   "source": [
    "Fuente: [Ministerio de Ciencia](https://github.com/MinCiencia/Datos-COVID19)"
   ]
  },
  {
   "cell_type": "markdown",
   "metadata": {},
   "source": [
    "# Exámenes informados por región desde el 9 de abril\n",
    "Nota: sólo se dispone de los datos de exámenes informados por región desde el 9 de abril"
   ]
  },
  {
   "cell_type": "code",
   "execution_count": null,
   "metadata": {},
   "outputs": [],
   "source": [
    "#hide\n",
    "s = 'https://raw.githubusercontent.com/MinCiencia/Datos-COVID19/master/output/producto4/2020-04-08-CasosConfirmados-totalRegional.csv'\n",
    "data_20200408 = pd.read_csv(s, index_col='Region')"
   ]
  },
  {
   "cell_type": "code",
   "execution_count": null,
   "metadata": {},
   "outputs": [],
   "source": [
    "#hide\n",
    "s = 'https://raw.githubusercontent.com/MinCiencia/Datos-COVID19/master/output/producto4/' + today +'-CasosConfirmados-totalRegional.csv'\n",
    "data_update_date = pd.read_csv(s, index_col='Region')"
   ]
  },
  {
   "cell_type": "code",
   "execution_count": null,
   "metadata": {},
   "outputs": [],
   "source": [
    "#hide\n",
    "tests_raw = pd.read_csv(\n",
    "    'https://raw.githubusercontent.com/MinCiencia/Datos-COVID19/master/output/producto7/PCR.csv',\n",
    "    index_col='Region')\n",
    "tests_raw = tests_raw.fillna(0)"
   ]
  },
  {
   "cell_type": "code",
   "execution_count": null,
   "metadata": {},
   "outputs": [],
   "source": [
    "#hide\n",
    "tests_total = pd.Series(dtype='float64')\n",
    "for date in tests_raw.columns:\n",
    "  tests_raw[date] = tests_raw[date].apply(lambda x: 0 if x=='-' else x)\n",
    "  tests_raw[date] = tests_raw[date].astype(int)\n",
    "  tests_total[date] = np.sum(tests_raw[date])"
   ]
  },
  {
   "cell_type": "code",
   "execution_count": null,
   "metadata": {},
   "outputs": [],
   "source": [
    "#hide\n",
    "tests_raw.loc['Total'] = tests_total"
   ]
  },
  {
   "cell_type": "code",
   "execution_count": null,
   "metadata": {},
   "outputs": [],
   "source": [
    "#hide\n",
    "data = pd.DataFrame()\n",
    "data[\"Fallecidos\"] = data_update_date[\"Fallecidos\"]-data_20200408[\"Fallecidos\"]\n",
    "data[\"Casos\"] = data_update_date[\"Casos  totales  acumulados\"]-data_20200408[\"Casos  totales\"]\n",
    "data[\"Tests\"] = tests_raw.drop(columns='Poblacion').sum(axis=1).values"
   ]
  },
  {
   "cell_type": "code",
   "execution_count": null,
   "metadata": {},
   "outputs": [],
   "source": [
    "#hide\n",
    "data_per_capita = pd.DataFrame()\n",
    "data_per_capita[\"Fallecidos\"] = np.round(100000*data[\"Fallecidos\"]/tests_raw[\"Poblacion\"].values, decimals=1)\n",
    "data_per_capita[\"Casos\"] = np.round(100000*data[\"Casos\"]/tests_raw[\"Poblacion\"].values, decimals=1)\n",
    "data_per_capita[\"Tests\"] = np.round(100000*data[\"Tests\"]/tests_raw[\"Poblacion\"].values, decimals=1)"
   ]
  },
  {
   "cell_type": "code",
   "execution_count": null,
   "metadata": {},
   "outputs": [],
   "source": [
    "#hide\n",
    "casos_raw = pd.read_csv(\n",
    "    \"https://raw.githubusercontent.com/MinCiencia/Datos-COVID19/master/output/producto3/CasosTotalesCumulativo.csv\", \n",
    "    index_col='Region')"
   ]
  },
  {
   "cell_type": "code",
   "execution_count": null,
   "metadata": {},
   "outputs": [],
   "source": [
    "#hide\n",
    "casos_20200408 = pd.read_csv('https://raw.githubusercontent.com/MinCiencia/Datos-COVID19/master/output/producto4/2020-04-08-CasosConfirmados-totalRegional.csv', index_col='Region')"
   ]
  },
  {
   "cell_type": "code",
   "execution_count": null,
   "metadata": {},
   "outputs": [],
   "source": [
    "#hide\n",
    "s = 'https://raw.githubusercontent.com/MinCiencia/Datos-COVID19/master/output/producto4/' + today + '-CasosConfirmados-totalRegional.csv'\n",
    "casos_update_date = pd.read_csv(s, index_col='Region')"
   ]
  },
  {
   "cell_type": "code",
   "execution_count": null,
   "metadata": {},
   "outputs": [],
   "source": [
    "#hide\n",
    "positividad = 100*(casos_update_date['Casos  totales  acumulados'] - casos_20200408['Casos  totales'])/tests_raw.drop(columns='Poblacion').sum(axis=1).values"
   ]
  },
  {
   "cell_type": "code",
   "execution_count": null,
   "metadata": {},
   "outputs": [],
   "source": [
    "#hide\n",
    "tests_raw['tests informados'] = tests_raw.drop(columns='Poblacion').sum(axis=1)"
   ]
  },
  {
   "cell_type": "code",
   "execution_count": null,
   "metadata": {},
   "outputs": [],
   "source": [
    "#hide\n",
    "tests_raw['tasa de tests'] = np.round(100000*tests_raw['tests informados']/tests_raw['Poblacion'], decimals=1)"
   ]
  },
  {
   "cell_type": "code",
   "execution_count": null,
   "metadata": {},
   "outputs": [],
   "source": [
    "#hide_input\n",
    "bars = alt.Chart(tests_raw.drop('Total').reset_index()).mark_bar(opacity=0.8).encode(\n",
    "    x = alt.X('tests informados:Q', axis=alt.Axis(title='Exámenes informados')),\n",
    "    y = alt.Y('Region:N', sort='-x'),\n",
    "    tooltip = 'tests informados',\n",
    "    color = alt.Color('Region:N', scale=alt.Scale(scheme='tableau20'), legend=None)\n",
    ").properties(\n",
    "    title='COVID-19 en Chile: Total de exámenes informados por región desde el 9 de abril'\n",
    ")\n",
    "\n",
    "text = bars.mark_text(\n",
    "    align='left',\n",
    "    baseline='middle',\n",
    "    dx=3  # Nudges text to right so it doesn't appear on top of the bar\n",
    ").encode(\n",
    "    text=alt.Text('tests informados:Q', format='.0f')\n",
    ")\n",
    "\n",
    "(bars + text).properties(width=600, height=alt.Step(30))"
   ]
  },
  {
   "cell_type": "markdown",
   "metadata": {},
   "source": [
    "# Exámenes informados por región por cada 100.000 habitantes desde el 9 de abril\n",
    "Nota: sólo se dispone de los datos de exámenes informados por región desde el 9 de abril"
   ]
  },
  {
   "cell_type": "code",
   "execution_count": null,
   "metadata": {
    "scrolled": false
   },
   "outputs": [],
   "source": [
    "#hide_input\n",
    "bars = alt.Chart(tests_raw.drop('Total').reset_index()).mark_bar(opacity=0.8).encode(\n",
    "    x = alt.X('tasa de tests:Q', axis=alt.Axis(title='Exámenes informados')),\n",
    "    y = alt.Y('Region:N', sort='-x'),\n",
    "    tooltip = 'tasa de tests',\n",
    "    color = alt.Color('Region:N', scale=alt.Scale(scheme='tableau20'), legend=None)\n",
    ").properties(\n",
    "    title='COVID-19 en Chile: Exámenes informados por región por cada 100.000 habitantes desde el 9 de abril'\n",
    ")\n",
    "\n",
    "text = bars.mark_text(\n",
    "    align='left',\n",
    "    baseline='middle',\n",
    "    dx=3  # Nudges text to right so it doesn't appear on top of the bar\n",
    ").encode(\n",
    "    text=alt.Text('tasa de tests:Q', format='.1f')\n",
    ")\n",
    "\n",
    "(bars + text).properties(width=600, height=alt.Step(30))"
   ]
  },
  {
   "cell_type": "markdown",
   "metadata": {},
   "source": [
    "Fuente: [Ministerio de Ciencia](https://github.com/MinCiencia/Datos-COVID19)"
   ]
  },
  {
   "cell_type": "markdown",
   "metadata": {},
   "source": [
    "# Exámenes, casos confirmados, y fallecimientos confirmados por región desde el 9 de abril\n",
    "Nota: sólo se dispone de los datos de exámenes informados por región desde el 9 de abril"
   ]
  },
  {
   "cell_type": "code",
   "execution_count": null,
   "metadata": {},
   "outputs": [],
   "source": [
    "#hide\n",
    "data = data.sort_values(by=\"Tests\", ascending=False)\n",
    "data_per_capita = data_per_capita.sort_values(by=\"Tests\", ascending=False)"
   ]
  },
  {
   "cell_type": "code",
   "execution_count": null,
   "metadata": {
    "scrolled": true
   },
   "outputs": [],
   "source": [
    "#hide\n",
    "data[\"codigo\"]=np.arange(len(data))\n",
    "data_per_capita[\"codigo\"]=np.arange(len(data))"
   ]
  },
  {
   "cell_type": "code",
   "execution_count": null,
   "metadata": {
    "scrolled": false
   },
   "outputs": [],
   "source": [
    "#hide_input\n",
    "title1 = alt.Chart(\n",
    "    {\"values\": [{\"text\": \"Exámenes informados,\"}]}\n",
    ").mark_text(size=16, color='green').encode(\n",
    "    text=\"text:N\"\n",
    ")\n",
    "\n",
    "title2 = alt.Chart(\n",
    "    {\"values\": [{\"text\": \"casos confirmados\"}]}\n",
    ").mark_text(size=16, color='blue').encode(\n",
    "    text=\"text:N\"\n",
    ")\n",
    "\n",
    "title3 = alt.Chart(\n",
    "    {\"values\": [{\"text\": \"y fallecidos confirmados\"}]}\n",
    ").mark_text(size=16, color='red').encode(\n",
    "    text=\"text:N\"\n",
    ")\n",
    "\n",
    "title4 = alt.Chart(\n",
    "    {\"values\": [{\"text\": \"por región desde el 9 de abril\"}]}\n",
    ").mark_text(size=16).encode(\n",
    "    text=\"text:N\"\n",
    ")\n",
    "\n",
    "bar = alt.Chart(data.drop(\"Total\").reset_index()).mark_bar(size=25, opacity=0.4, color='green').encode(\n",
    "    x=alt.X('Tests:Q', axis=alt.Axis(title='')),\n",
    "    y=alt.Y('Region:N', sort=alt.EncodingSortField(field='codigo', order='ascending')),\n",
    "    tooltip = ['Region', 'Tests', 'Casos', 'Fallecidos']\n",
    ")\n",
    "\n",
    "tick0 = alt.Chart(data.drop(\"Total\").reset_index()).mark_tick(\n",
    "    color='green',\n",
    "    thickness=2,\n",
    "    size=25,  # controls width of tick.\n",
    ").encode(\n",
    "    x='Tests:Q',\n",
    "    y=alt.Y('Region:N', sort=alt.EncodingSortField(field='codigo', order='ascending')),\n",
    "    tooltip = ['Region', 'Tests', 'Casos', 'Fallecidos']\n",
    ")\n",
    "\n",
    "tick1 = alt.Chart(data.drop(\"Total\").reset_index()).mark_tick(\n",
    "    color='blue',\n",
    "    thickness=2,\n",
    "    size=25,  # controls width of tick.\n",
    ").encode(\n",
    "    x='Casos:Q',\n",
    "    y=alt.Y('Region:N', sort=alt.EncodingSortField(field='codigo', order='ascending')),\n",
    "    tooltip = ['Region', 'Tests', 'Casos', 'Fallecidos']\n",
    ")\n",
    "\n",
    "tick2 = alt.Chart(data.drop(\"Total\").reset_index()).mark_tick(\n",
    "    color='red',\n",
    "    thickness=2,\n",
    "    size=25,  # controls width of tick.\n",
    ").encode(\n",
    "    x='Fallecidos:Q',\n",
    "    y=alt.Y('Region:N', sort=alt.EncodingSortField(field='codigo', order='ascending')),\n",
    "    tooltip = ['Region', 'Tests', 'Casos', 'Fallecidos']\n",
    ")\n",
    "\n",
    "#(bar + tick0 + tick1 + tick2).properties(\n",
    "#    title='COVID-19 en Chile: Exámenes informados, casos confirmados y fallecidos confirmados por región',\n",
    "#    width=700,\n",
    "#    height=alt.Step(30)\n",
    "#)\n",
    "\n",
    "alt.vconcat(\n",
    "    alt.hconcat(title1, title2, title3, title4), \n",
    "    (bar + tick0 + tick1 + tick2).properties(\n",
    "        #title='COVID-19 en Chile: Exámenes informados, casos confirmados y fallecidos confirmados por región',\n",
    "        height=alt.Step(30),\n",
    "        width=700)\n",
    ").configure_view(\n",
    "    stroke=None\n",
    ").configure_concat(\n",
    "    spacing=1\n",
    ")"
   ]
  },
  {
   "cell_type": "markdown",
   "metadata": {},
   "source": [
    "# Exámenes, casos confirmados, y fallecimientos confirmados por región por cada 100.000 habitantes desde el 9 de abril\n",
    "Nota: sólo se dispone de los datos de exámenes informados por región desde el 9 de abril"
   ]
  },
  {
   "cell_type": "code",
   "execution_count": null,
   "metadata": {
    "scrolled": false
   },
   "outputs": [],
   "source": [
    "#hide_input\n",
    "title1 = alt.Chart(\n",
    "    {\"values\": [{\"text\": \"Exámenes informados,\"}]}\n",
    ").mark_text(size=16, color='green').encode(\n",
    "    text=\"text:N\"\n",
    ")\n",
    "\n",
    "title2 = alt.Chart(\n",
    "    {\"values\": [{\"text\": \"casos confirmados\"}]}\n",
    ").mark_text(size=16, color='blue').encode(\n",
    "    text=\"text:N\"\n",
    ")\n",
    "\n",
    "title3 = alt.Chart(\n",
    "    {\"values\": [{\"text\": \"y fallecidos confirmados\"}]}\n",
    ").mark_text(size=16, color='red').encode(\n",
    "    text=\"text:N\"\n",
    ")\n",
    "\n",
    "title4 = alt.Chart(\n",
    "    {\"values\": [{\"text\": \"por 100.000 habitantes en Chile desde el 9 de abril\"}]}\n",
    ").mark_text(size=16).encode(\n",
    "    text=\"text:N\"\n",
    ")\n",
    "\n",
    "bar = alt.Chart(data_per_capita.drop(\"Total\").reset_index()).mark_bar(size=25, opacity=0.4, color='green').encode(\n",
    "    x=alt.X('Tests:Q', axis=alt.Axis(title='')),\n",
    "    y=alt.Y('Region:N', sort=alt.EncodingSortField(field='codigo', order='ascending')),\n",
    "    tooltip = ['Region', 'Tests', 'Casos', 'Fallecidos']\n",
    ")\n",
    "\n",
    "tick0 = alt.Chart(data_per_capita.drop(\"Total\").reset_index()).mark_tick(\n",
    "    color='green',\n",
    "    thickness=2,\n",
    "    size=25,  # controls width of tick.\n",
    ").encode(\n",
    "    x='Tests:Q',\n",
    "    y=alt.Y('Region', sort=alt.EncodingSortField(field='codigo', order='ascending')),\n",
    "    tooltip = ['Region', 'Tests', 'Casos', 'Fallecidos']\n",
    ")\n",
    "\n",
    "tick1 = alt.Chart(data_per_capita.drop(\"Total\").reset_index()).mark_tick(\n",
    "    color='blue',\n",
    "    thickness=2,\n",
    "    size=25,  # controls width of tick.\n",
    ").encode(\n",
    "    x='Casos:Q',\n",
    "    y=alt.Y('Region', sort=alt.EncodingSortField(field='codigo', order='ascending')),\n",
    "    tooltip = ['Region', 'Tests', 'Casos', 'Fallecidos']\n",
    ")\n",
    "\n",
    "tick2 = alt.Chart(data_per_capita.drop(\"Total\").reset_index()).mark_tick(\n",
    "    color='red',\n",
    "    thickness=2,\n",
    "    size=25,  # controls width of tick.\n",
    ").encode(\n",
    "    x='Fallecidos:Q',\n",
    "    y=alt.Y('Region', sort=alt.EncodingSortField(field='codigo', order='ascending')),\n",
    "    tooltip = ['Region', 'Tests', 'Casos', 'Fallecidos']\n",
    ")\n",
    "\n",
    "alt.vconcat(\n",
    "    alt.hconcat(title1, title2, title3, title4), \n",
    "    (bar + tick0 + tick1 + tick2).properties(\n",
    "        height=alt.Step(30),\n",
    "        width=700)\n",
    ").configure_view(\n",
    "    stroke=None\n",
    ").configure_concat(\n",
    "    spacing=1\n",
    ")"
   ]
  },
  {
   "cell_type": "markdown",
   "metadata": {},
   "source": [
    "Fuente: [Ministerio de Ciencia](https://github.com/MinCiencia/Datos-COVID19)"
   ]
  },
  {
   "cell_type": "markdown",
   "metadata": {},
   "source": [
    "# Exámenes, casos confirmados, y fallecimientos confirmados por país de la OCDE por cada 1 millón de habitantes"
   ]
  },
  {
   "cell_type": "markdown",
   "metadata": {},
   "source": [
    "> <span style=\"color:green\">Exámenes</span>, <span style=\"color:blue\">casos confirmados</span>, y <span style=\"color:red\">fallecimientos confirmados</span> por país por cada 1 millón de habitantes"
   ]
  },
  {
   "cell_type": "code",
   "execution_count": null,
   "metadata": {},
   "outputs": [],
   "source": [
    "#hide\n",
    "test_data_raw = pd.read_csv('https://raw.githubusercontent.com/owid/covid-19-data/master/public/data/testing/covid-testing-all-observations.csv')"
   ]
  },
  {
   "cell_type": "code",
   "execution_count": null,
   "metadata": {},
   "outputs": [],
   "source": [
    "#hide\n",
    "list_OCDE = ['Australia', 'Austria', 'Belgium', 'Canada', 'Chile', 'Colombia',\n",
    "                  'Czech Republic', 'Denmark', 'Estonia', 'Finland', 'France',\n",
    "                  'Germany', 'Greece', 'Hungary', 'Iceland', 'Ireland',\n",
    "                  'Israel', 'Italy', 'Japan', 'Korea', 'Latvia',\n",
    "                  'Lithuania', 'Luxembourg', 'Mexico', 'Netherlands', 'New Zealand',\n",
    "                  'Norway', 'Poland', 'Portugal', 'Slovakia', 'Slovenia',\n",
    "                  'Spain', 'Sweden', 'Switzerland', 'Turkey', 'United Kingdom']"
   ]
  },
  {
   "cell_type": "code",
   "execution_count": null,
   "metadata": {},
   "outputs": [],
   "source": [
    "#hide\n",
    "test_data = pd.DataFrame()\n",
    "for country in list_OCDE:\n",
    "    test_data[country] = test_data_raw[test_data_raw['Entity'].str.contains(country)].iloc[-1]"
   ]
  },
  {
   "cell_type": "code",
   "execution_count": null,
   "metadata": {},
   "outputs": [],
   "source": [
    "#hide\n",
    "# United States tiene dos series. Utilizo la que tiene datos más recientes.\n",
    "test_data['United States'] = test_data_raw[test_data_raw['Entity'].str.contains('United States - inconsistent units')].iloc[-1]"
   ]
  },
  {
   "cell_type": "code",
   "execution_count": null,
   "metadata": {},
   "outputs": [],
   "source": [
    "#hide\n",
    "test_data = test_data.T"
   ]
  },
  {
   "cell_type": "code",
   "execution_count": null,
   "metadata": {},
   "outputs": [],
   "source": [
    "#hide\n",
    "data = pd.DataFrame()\n",
    "data['Tests'] = test_data['Cumulative total']"
   ]
  },
  {
   "cell_type": "code",
   "execution_count": null,
   "metadata": {},
   "outputs": [],
   "source": [
    "#hide\n",
    "list_OCDE = list_OCDE + ['United States']"
   ]
  },
  {
   "cell_type": "code",
   "execution_count": null,
   "metadata": {},
   "outputs": [],
   "source": [
    "#hide\n",
    "full_data = pd.read_csv(\"https://covid.ourworldindata.org/data/ecdc/full_data.csv\", index_col='date')"
   ]
  },
  {
   "cell_type": "code",
   "execution_count": null,
   "metadata": {},
   "outputs": [],
   "source": [
    "#hide\n",
    "cases = pd.Series(dtype='float64')\n",
    "deaths = pd.Series(dtype='float64')\n",
    "for country in list_OCDE:\n",
    "    cases[country] = full_data[full_data['location'].str.contains(country)].iloc[-1]['total_cases']\n",
    "    deaths[country] = full_data[full_data['location'].str.contains(country)].iloc[-1]['total_deaths']"
   ]
  },
  {
   "cell_type": "code",
   "execution_count": null,
   "metadata": {},
   "outputs": [],
   "source": [
    "#hide\n",
    "data['Cases'] = cases\n",
    "data['Deaths'] = deaths"
   ]
  },
  {
   "cell_type": "code",
   "execution_count": null,
   "metadata": {},
   "outputs": [],
   "source": [
    "#hide\n",
    "locations_data = pd.read_csv('https://covid.ourworldindata.org/data/ecdc/locations.csv')"
   ]
  },
  {
   "cell_type": "code",
   "execution_count": null,
   "metadata": {},
   "outputs": [],
   "source": [
    "#hide\n",
    "population = pd.Series(dtype='float64')\n",
    "for country in list_OCDE:\n",
    "    population[country] = locations_data[locations_data['location'].str.contains(country)].iloc[-1]['population']"
   ]
  },
  {
   "cell_type": "code",
   "execution_count": null,
   "metadata": {},
   "outputs": [],
   "source": [
    "#hide\n",
    "data['Population'] = population"
   ]
  },
  {
   "cell_type": "code",
   "execution_count": null,
   "metadata": {},
   "outputs": [],
   "source": [
    "#hide\n",
    "data['Tests'] = np.round(1000000*data['Tests'].astype(float)/data['Population'])\n",
    "data['Cases'] = np.round(1000000*data['Cases']/data['Population'])\n",
    "data['Deaths'] = np.round(1000000*data['Deaths']/data['Population'])"
   ]
  },
  {
   "cell_type": "code",
   "execution_count": null,
   "metadata": {},
   "outputs": [],
   "source": [
    "#hide\n",
    "data = data.sort_values(by='Tests', ascending=False)\n",
    "data['codigo'] = np.arange(len(data))"
   ]
  },
  {
   "cell_type": "code",
   "execution_count": null,
   "metadata": {},
   "outputs": [],
   "source": [
    "#hide_input\n",
    "\n",
    "title1 = alt.Chart(\n",
    "    {\"values\": [{\"text\": \"Exámenes informados,\"}]}\n",
    ").mark_text(size=15, color='green').encode(\n",
    "    text=\"text:N\"\n",
    ")\n",
    "\n",
    "title2 = alt.Chart(\n",
    "    {\"values\": [{\"text\": \"casos confirmados\"}]}\n",
    ").mark_text(size=15, color='blue').encode(\n",
    "    text=\"text:N\"\n",
    ")\n",
    "\n",
    "title3 = alt.Chart(\n",
    "    {\"values\": [{\"text\": \"y fallecidos confirmados\"}]}\n",
    ").mark_text(size=15, color='red').encode(\n",
    "    text=\"text:N\"\n",
    ")\n",
    "\n",
    "title4 = alt.Chart(\n",
    "    {\"values\": [{\"text\": \"por millón de habitantes\"}]}\n",
    ").mark_text(size=15).encode(\n",
    "    text=\"text:N\"\n",
    ")\n",
    "\n",
    "bar = alt.Chart(data.reset_index()).mark_bar(size=15, opacity=0.4, color='green').encode(\n",
    "    x=alt.X('Tests:Q', axis=alt.Axis(title='')),\n",
    "    y=alt.Y('index:N', axis=alt.Axis(title='País'), sort=alt.EncodingSortField(field='codigo', order='ascending')),\n",
    "    tooltip = ['index', 'Tests', 'Cases', 'Deaths']\n",
    ").properties(\n",
    "    width=alt.Step(70)  # controls width of bar.\n",
    ")\n",
    "\n",
    "tick0 = alt.Chart(data.reset_index()).mark_tick(\n",
    "    color='black',\n",
    "    thickness=2,\n",
    "    size=15,  # controls width of tick.\n",
    ").encode(\n",
    "    x='Tests:Q',\n",
    "    y=alt.Y('index:N', sort=alt.EncodingSortField(field='codigo', order='ascending')),\n",
    "    tooltip = ['index', 'Tests', 'Cases', 'Deaths']\n",
    ")\n",
    "\n",
    "tick1 = alt.Chart(data.reset_index()).mark_tick(\n",
    "    color='blue',\n",
    "    thickness=2,\n",
    "    size=15,  # controls width of tick.\n",
    ").encode(\n",
    "    x='Cases:Q',\n",
    "    y=alt.Y('index:N', sort=alt.EncodingSortField(field='codigo', order='ascending')),\n",
    "    tooltip = ['index', 'Tests', 'Cases', 'Deaths']\n",
    ")\n",
    "\n",
    "tick2 = alt.Chart(data.reset_index()).mark_tick(\n",
    "    color='red',\n",
    "    thickness=2,\n",
    "    size=15,  # controls width of tick.\n",
    ").encode(\n",
    "    x='Deaths:Q',\n",
    "    y=alt.Y('index:N', sort=alt.EncodingSortField(field='codigo', order='ascending')),\n",
    "    tooltip = ['index', 'Tests', 'Cases', 'Deaths']\n",
    ")\n",
    "\n",
    "# (bar + tick0 + tick1 + tick2).properties(\n",
    "#     title='COVID-19: Exámenes informados, casos confirmados y fallecidos confirmados por país por cada 1 millón de habitantes',\n",
    "#     height=alt.Step(16),\n",
    "#     width=700\n",
    "# )\n",
    "\n",
    "alt.vconcat(\n",
    "    alt.hconcat(title1, title2, title3, title4), \n",
    "    (bar + tick0 + tick1 + tick2).properties(\n",
    "        height=alt.Step(18),\n",
    "        width=700)\n",
    ").configure_view(\n",
    "    stroke=None\n",
    ").configure_concat(\n",
    "    spacing=1\n",
    ")"
   ]
  },
  {
   "cell_type": "markdown",
   "metadata": {},
   "source": [
    "Fuentes: ECDC, [Our World in Data](https://ourworldindata.org/)"
   ]
  },
  {
   "cell_type": "markdown",
   "metadata": {},
   "source": [
    "# Exámenes, casos confirmados, y fallecimientos confirmados por país de la OCDE por cada 1 millón de habitantes en los últimos 7 días"
   ]
  },
  {
   "cell_type": "code",
   "execution_count": null,
   "metadata": {},
   "outputs": [],
   "source": [
    "#hide\n",
    "data = pd.DataFrame()\n",
    "data['Tests'] = test_data['7-day smoothed daily change']"
   ]
  },
  {
   "cell_type": "code",
   "execution_count": null,
   "metadata": {},
   "outputs": [],
   "source": [
    "#hide\n",
    "cases = pd.Series(dtype='float64')\n",
    "deaths = pd.Series(dtype='float64')\n",
    "for country in list_OCDE:\n",
    "    cases[country] = full_data[full_data['location'].str.contains(country)].iloc[-7:]['new_cases'].mean()\n",
    "    deaths[country] = full_data[full_data['location'].str.contains(country)].iloc[-7:]['new_deaths'].mean()"
   ]
  },
  {
   "cell_type": "code",
   "execution_count": null,
   "metadata": {},
   "outputs": [],
   "source": [
    "#hide\n",
    "data['Cases'] = cases\n",
    "data['Deaths'] = deaths"
   ]
  },
  {
   "cell_type": "code",
   "execution_count": null,
   "metadata": {},
   "outputs": [],
   "source": [
    "#hide\n",
    "population = pd.Series(dtype='float64')\n",
    "for country in list_OCDE:\n",
    "    population[country] = locations_data[locations_data['location'].str.contains(country)].iloc[-1]['population']"
   ]
  },
  {
   "cell_type": "code",
   "execution_count": null,
   "metadata": {},
   "outputs": [],
   "source": [
    "#hide\n",
    "data['Population'] = population"
   ]
  },
  {
   "cell_type": "code",
   "execution_count": null,
   "metadata": {},
   "outputs": [],
   "source": [
    "#hide\n",
    "data['Tests'] = np.round(1000000*data['Tests'].astype(float)/data['Population'], decimals=1)\n",
    "data['Cases'] = np.round(1000000*data['Cases']/data['Population'], decimals=1)\n",
    "data['Deaths'] = np.round(1000000*data['Deaths']/data['Population'], decimals=1)"
   ]
  },
  {
   "cell_type": "code",
   "execution_count": null,
   "metadata": {},
   "outputs": [],
   "source": [
    "#hide\n",
    "data = data.dropna()"
   ]
  },
  {
   "cell_type": "code",
   "execution_count": null,
   "metadata": {},
   "outputs": [],
   "source": [
    "#hide\n",
    "data = data.sort_values(by='Tests', ascending=False)\n",
    "data['codigo'] = np.arange(len(data))"
   ]
  },
  {
   "cell_type": "code",
   "execution_count": null,
   "metadata": {},
   "outputs": [],
   "source": [
    "#hide_input\n",
    "title1 = alt.Chart(\n",
    "    {\"values\": [{\"text\": \"Exámenes informados,\"}]}\n",
    ").mark_text(size=15, color='green').encode(\n",
    "    text=\"text:N\"\n",
    ")\n",
    "\n",
    "title2 = alt.Chart(\n",
    "    {\"values\": [{\"text\": \"casos confirmados\"}]}\n",
    ").mark_text(size=15, color='blue').encode(\n",
    "    text=\"text:N\"\n",
    ")\n",
    "\n",
    "title3 = alt.Chart(\n",
    "    {\"values\": [{\"text\": \"y fallecidos confirmados\"}]}\n",
    ").mark_text(size=15, color='red').encode(\n",
    "    text=\"text:N\"\n",
    ")\n",
    "\n",
    "title4 = alt.Chart(\n",
    "    {\"values\": [{\"text\": \"por millón de habitantes (promedio últimos 7 días)\"}]}\n",
    ").mark_text(size=15).encode(\n",
    "    text=\"text:N\"\n",
    ")\n",
    "\n",
    "bar = alt.Chart(data.reset_index()).mark_bar(size=15, opacity=0.4, color='green').encode(\n",
    "    x=alt.X('Tests:Q', axis=alt.Axis(title='')),\n",
    "    y=alt.Y('index:N', axis=alt.Axis(title='País'), sort=alt.EncodingSortField(field='codigo', order='ascending')),\n",
    "    tooltip = ['index', 'Tests', 'Cases', 'Deaths']\n",
    ")\n",
    "\n",
    "tick0 = alt.Chart(data.reset_index()).mark_tick(\n",
    "    color='black',\n",
    "    thickness=2,\n",
    "    size=15,  # controls width of tick.\n",
    ").encode(\n",
    "    x='Tests:Q',\n",
    "    y=alt.Y('index:N', sort=alt.EncodingSortField(field='codigo', order='ascending')),\n",
    "    tooltip = ['index', 'Tests', 'Cases', 'Deaths']\n",
    ")\n",
    "\n",
    "tick1 = alt.Chart(data.reset_index()).mark_tick(\n",
    "    color='blue',\n",
    "    thickness=2,\n",
    "    size=15,  # controls width of tick.\n",
    ").encode(\n",
    "    x='Cases:Q',\n",
    "    y=alt.Y('index:N', sort=alt.EncodingSortField(field='codigo', order='ascending')),\n",
    "    tooltip = ['index', 'Tests', 'Cases', 'Deaths']\n",
    ")\n",
    "\n",
    "tick2 = alt.Chart(data.reset_index()).mark_tick(\n",
    "    color='red',\n",
    "    thickness=2,\n",
    "    size=15,  # controls width of tick.\n",
    ").encode(\n",
    "    x='Deaths:Q',\n",
    "    y=alt.Y('index:N', sort=alt.EncodingSortField(field='codigo', order='ascending')),\n",
    "    tooltip = ['index', 'Tests', 'Cases', 'Deaths']\n",
    ")\n",
    "\n",
    "# (bar + tick0 + tick1 + tick2).properties(\n",
    "#     title=f'COVID-19: Exámenes informados, casos confirmados y fallecidos confirmados por país por cada 1 millón de habitantes\\n(promedio de los últimos 3 días)',\n",
    "#     height=alt.Step(16),\n",
    "#     width=700\n",
    "# )\n",
    "\n",
    "alt.vconcat(\n",
    "    alt.hconcat(title1, title2, title3, title4), \n",
    "    (bar + tick0 + tick1 + tick2).properties(\n",
    "        height=alt.Step(18),\n",
    "        width=700)\n",
    ").configure_view(\n",
    "    stroke=None\n",
    ").configure_concat(\n",
    "    spacing=1\n",
    ")"
   ]
  },
  {
   "cell_type": "markdown",
   "metadata": {},
   "source": [
    "# Exámenes, casos confirmados, y fallecimientos confirmados por país de latinoamérica por cada 1 millón de habitantes"
   ]
  },
  {
   "cell_type": "markdown",
   "metadata": {},
   "source": [
    "Nota: Muchos países de latinoamérica no tienen datos disponibles."
   ]
  },
  {
   "cell_type": "code",
   "execution_count": null,
   "metadata": {},
   "outputs": [],
   "source": [
    "#hide\n",
    "list_latinoamerica = ['Argentina', 'Bolivia', 'Chile', 'Colombia',\n",
    "                     'Costa Rica', 'Cuba', 'Ecuador', 'El Salvador',\n",
    "                     'Mexico', 'Panama', 'Paraguay',\n",
    "                     'Peru', 'Uruguay']"
   ]
  },
  {
   "cell_type": "code",
   "execution_count": null,
   "metadata": {
    "scrolled": true
   },
   "outputs": [],
   "source": [
    "#hide\n",
    "test_data = pd.DataFrame()\n",
    "for country in list_latinoamerica:\n",
    "    test_data[country] = test_data_raw[test_data_raw['Entity'].str.contains(country)].iloc[-1]"
   ]
  },
  {
   "cell_type": "code",
   "execution_count": null,
   "metadata": {},
   "outputs": [],
   "source": [
    "#hide\n",
    "test_data = test_data.T"
   ]
  },
  {
   "cell_type": "code",
   "execution_count": null,
   "metadata": {},
   "outputs": [],
   "source": [
    "#hide\n",
    "data = pd.DataFrame()\n",
    "data['Tests'] = test_data['Cumulative total']"
   ]
  },
  {
   "cell_type": "code",
   "execution_count": null,
   "metadata": {},
   "outputs": [],
   "source": [
    "#hide\n",
    "cases = pd.Series(dtype='float64')\n",
    "deaths = pd.Series(dtype='float64')\n",
    "for country in list_latinoamerica:\n",
    "    cases[country] = full_data[full_data['location'].str.contains(country)].iloc[-1]['total_cases']\n",
    "    deaths[country] = full_data[full_data['location'].str.contains(country)].iloc[-1]['total_deaths']"
   ]
  },
  {
   "cell_type": "code",
   "execution_count": null,
   "metadata": {},
   "outputs": [],
   "source": [
    "#hide\n",
    "data['Cases'] = cases\n",
    "data['Deaths'] = deaths"
   ]
  },
  {
   "cell_type": "code",
   "execution_count": null,
   "metadata": {},
   "outputs": [],
   "source": [
    "#hide\n",
    "population = pd.Series(dtype='float64')\n",
    "for country in list_latinoamerica:\n",
    "    population[country] = locations_data[locations_data['location'].str.contains(country)].iloc[-1]['population']"
   ]
  },
  {
   "cell_type": "code",
   "execution_count": null,
   "metadata": {},
   "outputs": [],
   "source": [
    "#hide\n",
    "data['Population'] = population"
   ]
  },
  {
   "cell_type": "code",
   "execution_count": null,
   "metadata": {},
   "outputs": [],
   "source": [
    "#hide\n",
    "data['Tests'] = np.round(1000000*data['Tests'].astype(float)/data['Population'])\n",
    "data['Cases'] = np.round(1000000*data['Cases']/data['Population'])\n",
    "data['Deaths'] = np.round(1000000*data['Deaths']/data['Population'])"
   ]
  },
  {
   "cell_type": "code",
   "execution_count": null,
   "metadata": {},
   "outputs": [],
   "source": [
    "#hide\n",
    "data = data.sort_values(by='Tests', ascending=False)\n",
    "data['codigo'] = np.arange(len(data))"
   ]
  },
  {
   "cell_type": "code",
   "execution_count": null,
   "metadata": {},
   "outputs": [],
   "source": [
    "#hide_input\n",
    "title1 = alt.Chart(\n",
    "    {\"values\": [{\"text\": \"Exámenes informados,\"}]}\n",
    ").mark_text(size=16, color='green').encode(\n",
    "    text=\"text:N\"\n",
    ")\n",
    "\n",
    "title2 = alt.Chart(\n",
    "    {\"values\": [{\"text\": \"casos confirmados\"}]}\n",
    ").mark_text(size=16, color='blue').encode(\n",
    "    text=\"text:N\"\n",
    ")\n",
    "\n",
    "title3 = alt.Chart(\n",
    "    {\"values\": [{\"text\": \"y fallecidos confirmados\"}]}\n",
    ").mark_text(size=16, color='red').encode(\n",
    "    text=\"text:N\"\n",
    ")\n",
    "\n",
    "title4 = alt.Chart(\n",
    "    {\"values\": [{\"text\": \"por millón de habitantes\"}]}\n",
    ").mark_text(size=16).encode(\n",
    "    text=\"text:N\"\n",
    ")\n",
    "\n",
    "bar = alt.Chart(data.reset_index()).mark_bar(size=25, opacity=0.4, color='green').encode(\n",
    "    x=alt.X('Tests:Q', axis=alt.Axis(title='')),\n",
    "    y=alt.Y('index:N', axis=alt.Axis(title='País'), sort=alt.EncodingSortField(field='codigo', order='ascending')),\n",
    "    tooltip = ['index', 'Tests', 'Cases', 'Deaths']\n",
    ")\n",
    "\n",
    "tick0 = alt.Chart(data.reset_index()).mark_tick(\n",
    "    color='black',\n",
    "    thickness=2,\n",
    "    size=25,  # controls width of tick.\n",
    ").encode(\n",
    "    x='Tests:Q',\n",
    "    y=alt.Y('index:N', sort=alt.EncodingSortField(field='codigo', order='ascending')),\n",
    "    tooltip = ['index', 'Tests', 'Cases', 'Deaths']\n",
    ")\n",
    "\n",
    "tick1 = alt.Chart(data.reset_index()).mark_tick(\n",
    "    color='blue',\n",
    "    thickness=2,\n",
    "    size=25,  # controls width of tick.\n",
    ").encode(\n",
    "    x='Cases:Q',\n",
    "    y=alt.Y('index:N', sort=alt.EncodingSortField(field='codigo', order='ascending')),\n",
    "    tooltip = ['index', 'Tests', 'Cases', 'Deaths']\n",
    ")\n",
    "\n",
    "tick2 = alt.Chart(data.reset_index()).mark_tick(\n",
    "    color='red',\n",
    "    thickness=2,\n",
    "    size=25,  # controls width of tick.\n",
    ").encode(\n",
    "    x='Deaths:Q',\n",
    "    y=alt.Y('index:N', sort=alt.EncodingSortField(field='codigo', order='ascending')),\n",
    "    tooltip = ['index', 'Tests', 'Cases', 'Deaths']\n",
    ")\n",
    "\n",
    "# (bar + tick0 + tick1 + tick2).properties(\n",
    "#     title='COVID-19: Exámenes informados, casos confirmados y fallecidos confirmados por país por cada 1 millón de habitantes',\n",
    "#     height=alt.Step(30),\n",
    "#     width=700  # controls width of bar.\n",
    "# )\n",
    "\n",
    "alt.vconcat(\n",
    "    alt.hconcat(title1, title2, title3, title4), \n",
    "    (bar + tick0 + tick1 + tick2).properties(\n",
    "        height=alt.Step(30),\n",
    "        width=700)\n",
    ").configure_view(\n",
    "    stroke=None\n",
    ").configure_concat(\n",
    "    spacing=1\n",
    ")"
   ]
  },
  {
   "cell_type": "markdown",
   "metadata": {},
   "source": [
    "Fuentes: ECDC, [Our World in Data](https://ourworldindata.org/)"
   ]
  },
  {
   "cell_type": "markdown",
   "metadata": {},
   "source": [
    "# Exámenes, casos confirmados, y fallecimientos confirmados por país de latinoamérica por cada 1 millón de habitantes en los últimos 7 días"
   ]
  },
  {
   "cell_type": "markdown",
   "metadata": {},
   "source": [
    "> <span style=\"color:green\">Exámenes</span>, <span style=\"color:blue\">casos confirmados</span>, y <span style=\"color:red\">fallecimientos confirmados</span> por país por cada 1 millón de habitantes"
   ]
  },
  {
   "cell_type": "markdown",
   "metadata": {},
   "source": [
    "Nota: Muchos países de latinoamérica no tienen datos disponibles."
   ]
  },
  {
   "cell_type": "code",
   "execution_count": null,
   "metadata": {},
   "outputs": [],
   "source": [
    "#hide\n",
    "data = pd.DataFrame()\n",
    "data['Tests'] = test_data['7-day smoothed daily change']"
   ]
  },
  {
   "cell_type": "code",
   "execution_count": null,
   "metadata": {},
   "outputs": [],
   "source": [
    "#hide\n",
    "cases = pd.Series(dtype='float64')\n",
    "deaths = pd.Series(dtype='float64')\n",
    "for country in list_latinoamerica:\n",
    "    cases[country] = full_data[full_data['location'].str.contains(country)].iloc[-7:]['new_cases'].mean()\n",
    "    deaths[country] = full_data[full_data['location'].str.contains(country)].iloc[-7:]['new_deaths'].mean()"
   ]
  },
  {
   "cell_type": "code",
   "execution_count": null,
   "metadata": {},
   "outputs": [],
   "source": [
    "#hide\n",
    "data['Cases'] = cases\n",
    "data['Deaths'] = deaths"
   ]
  },
  {
   "cell_type": "code",
   "execution_count": null,
   "metadata": {},
   "outputs": [],
   "source": [
    "#hide\n",
    "population = pd.Series(dtype='float64')\n",
    "for country in list_latinoamerica:\n",
    "    population[country] = locations_data[locations_data['location'].str.contains(country)].iloc[-1]['population']"
   ]
  },
  {
   "cell_type": "code",
   "execution_count": null,
   "metadata": {},
   "outputs": [],
   "source": [
    "#hide\n",
    "data['Population'] = population"
   ]
  },
  {
   "cell_type": "code",
   "execution_count": null,
   "metadata": {},
   "outputs": [],
   "source": [
    "#hide\n",
    "data['Tests'] = np.round(1000000*data['Tests'].astype(float)/data['Population'], decimals=1)\n",
    "data['Cases'] = np.round(1000000*data['Cases']/data['Population'], decimals=1)\n",
    "data['Deaths'] = np.round(1000000*data['Deaths']/data['Population'], decimals=1)"
   ]
  },
  {
   "cell_type": "code",
   "execution_count": null,
   "metadata": {},
   "outputs": [],
   "source": [
    "#hide\n",
    "data = data.dropna()"
   ]
  },
  {
   "cell_type": "code",
   "execution_count": null,
   "metadata": {},
   "outputs": [],
   "source": [
    "#hide\n",
    "data = data.sort_values(by='Tests', ascending=False)\n",
    "data['codigo'] = np.arange(len(data))"
   ]
  },
  {
   "cell_type": "code",
   "execution_count": null,
   "metadata": {},
   "outputs": [],
   "source": [
    "#hide_input\n",
    "title1 = alt.Chart(\n",
    "    {\"values\": [{\"text\": \"Exámenes informados,\"}]}\n",
    ").mark_text(size=16, color='green').encode(\n",
    "    text=\"text:N\"\n",
    ")\n",
    "\n",
    "title2 = alt.Chart(\n",
    "    {\"values\": [{\"text\": \"casos confirmados\"}]}\n",
    ").mark_text(size=16, color='blue').encode(\n",
    "    text=\"text:N\"\n",
    ")\n",
    "\n",
    "title3 = alt.Chart(\n",
    "    {\"values\": [{\"text\": \"y fallecidos confirmados\"}]}\n",
    ").mark_text(size=16, color='red').encode(\n",
    "    text=\"text:N\"\n",
    ")\n",
    "\n",
    "title4 = alt.Chart(\n",
    "    {\"values\": [{\"text\": \"por millón de habitantes (promedio últimos 7 días)\"}]}\n",
    ").mark_text(size=16).encode(\n",
    "    text=\"text:N\"\n",
    ")\n",
    "\n",
    "bar = alt.Chart(data.reset_index()).mark_bar(size=25, opacity=0.4, color='green').encode(\n",
    "    x=alt.X('Tests:Q', axis=alt.Axis(title='')),\n",
    "    y=alt.Y('index:N', axis=alt.Axis(title='País'), sort=alt.EncodingSortField(field='codigo', order='ascending')),\n",
    "    tooltip = ['index', 'Tests', 'Cases', 'Deaths']\n",
    ")\n",
    "\n",
    "tick0 = alt.Chart(data.reset_index()).mark_tick(\n",
    "    color='black',\n",
    "    thickness=2,\n",
    "    size=25,  # controls width of tick.\n",
    ").encode(\n",
    "    x='Tests:Q',\n",
    "    y=alt.Y('index:N', sort=alt.EncodingSortField(field='codigo', order='ascending')),\n",
    "    tooltip = ['index', 'Tests', 'Cases', 'Deaths']\n",
    ")\n",
    "\n",
    "tick1 = alt.Chart(data.reset_index()).mark_tick(\n",
    "    color='blue',\n",
    "    thickness=2,\n",
    "    size=25,  # controls width of tick.\n",
    ").encode(\n",
    "    x='Cases:Q',\n",
    "    y=alt.Y('index:N', sort=alt.EncodingSortField(field='codigo', order='ascending')),\n",
    "    tooltip = ['index', 'Tests', 'Cases', 'Deaths']\n",
    ")\n",
    "\n",
    "tick2 = alt.Chart(data.reset_index()).mark_tick(\n",
    "    color='red',\n",
    "    thickness=2,\n",
    "    size=25,  # controls width of tick.\n",
    ").encode(\n",
    "    x='Deaths:Q',\n",
    "    y=alt.Y('index:N', sort=alt.EncodingSortField(field='codigo', order='ascending')),\n",
    "    tooltip = ['index', 'Tests', 'Cases', 'Deaths']\n",
    ")\n",
    "\n",
    "# (bar + tick0 + tick1 + tick2).properties(\n",
    "#     title=f'COVID-19: Exámenes informados, casos confirmados y fallecidos confirmados por país por cada 1 millón de habitantes\\n(promedio de los últimos 3 días)',\n",
    "#     height=alt.Step(30),\n",
    "#     width=700  # controls width of bar.\n",
    "# )\n",
    "\n",
    "alt.vconcat(\n",
    "    alt.hconcat(title1, title2, title3, title4), \n",
    "    (bar + tick0 + tick1 + tick2).properties(\n",
    "        height=alt.Step(30),\n",
    "        width=700)\n",
    ").configure_view(\n",
    "    stroke=None\n",
    ").configure_concat(\n",
    "    spacing=1\n",
    ")"
   ]
  },
  {
   "cell_type": "markdown",
   "metadata": {},
   "source": [
    "# Advertencia"
   ]
  },
  {
   "cell_type": "markdown",
   "metadata": {},
   "source": [
    "El número de casos confirmados/informados o fallecimientos confirmados/por o con Covid-19 no representa exactamente el número de casos/contagios o fallecimientos con Covid-19 reales. Estos últimos valores no son conocidos por límites de testeo y por dificultades en la atribución de causas de fallecimiento. Además, los casos/fallecimientos confirmados per capita/por X habitantes, dan mayores valores a regiones o países con pocos habitantes, por lo que introducen sesgos en los datos."
   ]
  }
 ],
 "metadata": {
  "kernelspec": {
   "display_name": "Python 3",
   "language": "python",
   "name": "python3"
  },
  "language_info": {
   "codemirror_mode": {
    "name": "ipython",
    "version": 3
   },
   "file_extension": ".py",
   "mimetype": "text/x-python",
   "name": "python",
   "nbconvert_exporter": "python",
   "pygments_lexer": "ipython3",
   "version": "3.8.2"
  }
 },
 "nbformat": 4,
 "nbformat_minor": 4
}
