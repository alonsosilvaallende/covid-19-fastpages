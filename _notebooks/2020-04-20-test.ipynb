{
 "cells": [
  {
   "cell_type": "markdown",
   "metadata": {},
   "source": [
    "# COVID-19 en Chile\n",
    "> Total de casos confirmados, fallecidos confirmados, pacientes en UCI por región.\n",
    "\n",
    "- toc: true \n",
    "- badges: true\n",
    "- comments: true\n",
    "- author: Alonso Silva Allende\n",
    "- categories: [jupyter]\n",
    "- image: images/chart-preview.png"
   ]
  },
  {
   "cell_type": "code",
   "execution_count": 1,
   "metadata": {},
   "outputs": [],
   "source": [
    "#hide\n",
    "import numpy as np\n",
    "import matplotlib.pyplot as plt\n",
    "import pandas as pd\n",
    "import altair as alt\n",
    "plt.style.use('ggplot')"
   ]
  },
  {
   "cell_type": "code",
   "execution_count": 2,
   "metadata": {},
   "outputs": [],
   "source": [
    "#hide\n",
    "from IPython.display import display_html, HTML"
   ]
  },
  {
   "cell_type": "code",
   "execution_count": 3,
   "metadata": {},
   "outputs": [
    {
     "data": {
      "text/plain": [
       "'2020-04-24'"
      ]
     },
     "execution_count": 3,
     "metadata": {},
     "output_type": "execute_result"
    }
   ],
   "source": [
    "#hide\n",
    "update_date = pd.to_datetime('today') - pd.offsets.Hour(19)\n",
    "today = update_date.strftime('%Y-%m-%d')\n",
    "today"
   ]
  },
  {
   "cell_type": "code",
   "execution_count": 5,
   "metadata": {},
   "outputs": [
    {
     "data": {
      "text/plain": [
       "'2020-04-17'"
      ]
     },
     "execution_count": 5,
     "metadata": {},
     "output_type": "execute_result"
    }
   ],
   "source": [
    "#hide\n",
    "date_one_week_ago = (update_date - pd.offsets.Day(7)).strftime('%Y-%m-%d')\n",
    "date_one_week_ago"
   ]
  },
  {
   "cell_type": "code",
   "execution_count": 6,
   "metadata": {},
   "outputs": [
    {
     "name": "stdout",
     "output_type": "stream",
     "text": [
      "Última actualización: 24/04/2020.\n"
     ]
    }
   ],
   "source": [
    "#hide_input\n",
    "print(f\"Última actualización: {update_date.strftime('%d/%m/%Y')}.\")"
   ]
  },
  {
   "cell_type": "code",
   "execution_count": 7,
   "metadata": {},
   "outputs": [],
   "source": [
    "#hide\n",
    "casos_raw = pd.read_csv(\n",
    "    \"https://raw.githubusercontent.com/MinCiencia/Datos-COVID19/master/output/producto3/CasosTotalesCumulativo.csv\",\n",
    "    index_col='Region')"
   ]
  },
  {
   "cell_type": "code",
   "execution_count": 8,
   "metadata": {},
   "outputs": [],
   "source": [
    "#hide\n",
    "s = \"https://raw.githubusercontent.com/MinCiencia/Datos-COVID19/master/output/producto4/\" \\\n",
    "+ today + \"-CasosConfirmados-totalRegional.csv\"\n",
    "deaths_raw = pd.read_csv(s, index_col='Region')"
   ]
  },
  {
   "cell_type": "code",
   "execution_count": 9,
   "metadata": {},
   "outputs": [],
   "source": [
    "#hide\n",
    "s = \"https://raw.githubusercontent.com/MinCiencia/Datos-COVID19/master/output/producto4/\" \\\n",
    "+ date_one_week_ago + \"-CasosConfirmados-totalRegional.csv\"\n",
    "deaths_one_week_ago = pd.read_csv(s, index_col='Region')"
   ]
  },
  {
   "cell_type": "code",
   "execution_count": 10,
   "metadata": {},
   "outputs": [],
   "source": [
    "#hide\n",
    "tests_raw = pd.read_csv(\n",
    "    'https://raw.githubusercontent.com/MinCiencia/Datos-COVID19/master/output/producto7/PCR.csv',\n",
    "    index_col='Region')"
   ]
  },
  {
   "cell_type": "code",
   "execution_count": 11,
   "metadata": {},
   "outputs": [],
   "source": [
    "#hide\n",
    "data_table = pd.DataFrame()\n",
    "data_table[\"Region\"] = casos_raw[today].drop(\"Total\").reset_index()[\"Region\"]\n",
    "data_table[\"CC\"] = casos_raw[today].drop(\"Total\").reset_index()[today]\n",
    "data_table[\"CC por 100.000 hab.\"] = np.round(100000*(casos_raw[today]/tests_raw['Poblacion']).drop('Total'), decimals=1).values\n",
    "data_table[\"FC\"] = deaths_raw[\"Fallecidos\"].drop(\"Total\").values\n",
    "data_table[\"FC por 100.000 hab.\"] = \\\n",
    "np.round(100000*deaths_raw['Fallecidos'].drop('Total')/(tests_raw['Poblacion'].values), decimals=1).values"
   ]
  },
  {
   "cell_type": "code",
   "execution_count": 12,
   "metadata": {},
   "outputs": [],
   "source": [
    "#hide\n",
    "tests_raw = tests_raw.fillna(0)"
   ]
  },
  {
   "cell_type": "code",
   "execution_count": 13,
   "metadata": {},
   "outputs": [],
   "source": [
    "#hide\n",
    "tests_total = pd.Series(dtype='float64')\n",
    "for date in tests_raw.columns:\n",
    "  tests_raw[date] = tests_raw[date].apply(lambda x: 0 if x=='-' else x)\n",
    "  tests_raw[date] = tests_raw[date].astype(int)\n",
    "  tests_total[date] = np.sum(tests_raw[date])"
   ]
  },
  {
   "cell_type": "code",
   "execution_count": 14,
   "metadata": {},
   "outputs": [],
   "source": [
    "#hide\n",
    "tests_raw.loc['Total'] = tests_total"
   ]
  },
  {
   "cell_type": "code",
   "execution_count": 15,
   "metadata": {},
   "outputs": [],
   "source": [
    "#hide\n",
    "tests_table = pd.DataFrame()\n",
    "tests_table[\"Región\"] = tests_raw.reset_index()['Region']\n",
    "tests_table[\"Exámenes informados\"] = tests_raw.drop(columns='Poblacion').sum(axis=1).values\n",
    "tests_table[\"Exámenes informados por 100.000 habs.\"] = \\\n",
    "np.round(100000*tests_raw.drop(columns='Poblacion').sum(axis=1).values/tests_raw['Poblacion'], decimals=1).values"
   ]
  },
  {
   "cell_type": "code",
   "execution_count": 16,
   "metadata": {},
   "outputs": [],
   "source": [
    "#hide\n",
    "total_confirmed = casos_raw.iloc[-1,-1]\n",
    "total_deaths = deaths_raw.iloc[-1,-1]"
   ]
  },
  {
   "cell_type": "code",
   "execution_count": 17,
   "metadata": {},
   "outputs": [],
   "source": [
    "#hide\n",
    "total_confirmed_one_week_ago = casos_raw.iloc[-1,-8]\n",
    "total_deaths_one_week_ago = deaths_one_week_ago.loc[\"Total\", \"Fallecidos\"]"
   ]
  },
  {
   "cell_type": "code",
   "execution_count": 18,
   "metadata": {},
   "outputs": [],
   "source": [
    "#hide\n",
    "diff_cases = total_confirmed-total_confirmed_one_week_ago\n",
    "diff_deaths = total_deaths-total_deaths_one_week_ago"
   ]
  },
  {
   "cell_type": "code",
   "execution_count": 19,
   "metadata": {},
   "outputs": [],
   "source": [
    "#hide\n",
    "total_confirmed = '{:,}'.format(total_confirmed).replace(',', '.')\n",
    "total_deaths = '{:,}'.format(total_deaths).replace(',', '.')"
   ]
  },
  {
   "cell_type": "code",
   "execution_count": 20,
   "metadata": {},
   "outputs": [],
   "source": [
    "#hide\n",
    "diff_cases = '{:,}'.format(diff_cases).replace(',', '.')\n",
    "diff_deaths = '{:,}'.format(diff_deaths).replace(',', '.')"
   ]
  },
  {
   "cell_type": "markdown",
   "metadata": {},
   "source": [
    "# Estadísticas para Chile"
   ]
  },
  {
   "cell_type": "code",
   "execution_count": 21,
   "metadata": {
    "scrolled": true
   },
   "outputs": [
    {
     "data": {
      "text/html": [
       "<p style=\"color:#3361ff;\"><span style=\"font-weight:bold;\">Casos confirmados:</span> 12.306 (+3.054 en una semana)</p><p style=\"color:#FF3F3F;\"><span style=\"font-weight:bold;\">Fallecimientos confirmados:</span> 174 (+58 en una semana)</p>"
      ],
      "text/plain": [
       "<IPython.core.display.HTML object>"
      ]
     },
     "execution_count": 21,
     "metadata": {},
     "output_type": "execute_result"
    }
   ],
   "source": [
    "#hide_input\n",
    "HTML(f'<p style=\"color:#3361ff;\"><span style=\"font-weight:bold;\">Casos confirmados:</span> {total_confirmed} (+{diff_cases} en una semana)</p><p style=\"color:#FF3F3F;\"><span style=\"font-weight:bold;\">Fallecimientos confirmados:</span> {total_deaths} (+{diff_deaths} en una semana)</p>')"
   ]
  },
  {
   "cell_type": "code",
   "execution_count": 22,
   "metadata": {
    "scrolled": false
   },
   "outputs": [
    {
     "data": {
      "text/html": [
       "<style  type=\"text/css\" >\n",
       "    #T_f9779566_8670_11ea_937b_60f81dc8f27arow0_col0 {\n",
       "            text-align:  right;\n",
       "        }    #T_f9779566_8670_11ea_937b_60f81dc8f27arow0_col1 {\n",
       "            text-align:  right;\n",
       "            background-color:  #fff0e8;\n",
       "            color:  #000000;\n",
       "        }    #T_f9779566_8670_11ea_937b_60f81dc8f27arow0_col2 {\n",
       "            text-align:  right;\n",
       "            background-color:  #fedecf;\n",
       "            color:  #000000;\n",
       "        }    #T_f9779566_8670_11ea_937b_60f81dc8f27arow0_col3 {\n",
       "            text-align:  right;\n",
       "            background-color:  #fff0e8;\n",
       "            color:  #000000;\n",
       "        }    #T_f9779566_8670_11ea_937b_60f81dc8f27arow0_col4 {\n",
       "            text-align:  right;\n",
       "            background-color:  #fcb69b;\n",
       "            color:  #000000;\n",
       "        }    #T_f9779566_8670_11ea_937b_60f81dc8f27arow1_col0 {\n",
       "            text-align:  right;\n",
       "        }    #T_f9779566_8670_11ea_937b_60f81dc8f27arow1_col1 {\n",
       "            text-align:  right;\n",
       "            background-color:  #fff2ec;\n",
       "            color:  #000000;\n",
       "        }    #T_f9779566_8670_11ea_937b_60f81dc8f27arow1_col2 {\n",
       "            text-align:  right;\n",
       "            background-color:  #fca486;\n",
       "            color:  #000000;\n",
       "        }    #T_f9779566_8670_11ea_937b_60f81dc8f27arow1_col3 {\n",
       "            text-align:  right;\n",
       "            background-color:  #fff5f0;\n",
       "            color:  #000000;\n",
       "        }    #T_f9779566_8670_11ea_937b_60f81dc8f27arow1_col4 {\n",
       "            text-align:  right;\n",
       "            background-color:  #fff5f0;\n",
       "            color:  #000000;\n",
       "        }    #T_f9779566_8670_11ea_937b_60f81dc8f27arow2_col0 {\n",
       "            text-align:  right;\n",
       "        }    #T_f9779566_8670_11ea_937b_60f81dc8f27arow2_col1 {\n",
       "            text-align:  right;\n",
       "            background-color:  #ffece4;\n",
       "            color:  #000000;\n",
       "        }    #T_f9779566_8670_11ea_937b_60f81dc8f27arow2_col2 {\n",
       "            text-align:  right;\n",
       "            background-color:  #fcb99f;\n",
       "            color:  #000000;\n",
       "        }    #T_f9779566_8670_11ea_937b_60f81dc8f27arow2_col3 {\n",
       "            text-align:  right;\n",
       "            background-color:  #fff2eb;\n",
       "            color:  #000000;\n",
       "        }    #T_f9779566_8670_11ea_937b_60f81dc8f27arow2_col4 {\n",
       "            text-align:  right;\n",
       "            background-color:  #feeae0;\n",
       "            color:  #000000;\n",
       "        }    #T_f9779566_8670_11ea_937b_60f81dc8f27arow3_col0 {\n",
       "            text-align:  right;\n",
       "        }    #T_f9779566_8670_11ea_937b_60f81dc8f27arow3_col1 {\n",
       "            text-align:  right;\n",
       "            background-color:  #fff5f0;\n",
       "            color:  #000000;\n",
       "        }    #T_f9779566_8670_11ea_937b_60f81dc8f27arow3_col2 {\n",
       "            text-align:  right;\n",
       "            background-color:  #fff5f0;\n",
       "            color:  #000000;\n",
       "        }    #T_f9779566_8670_11ea_937b_60f81dc8f27arow3_col3 {\n",
       "            text-align:  right;\n",
       "            background-color:  #fff5f0;\n",
       "            color:  #000000;\n",
       "        }    #T_f9779566_8670_11ea_937b_60f81dc8f27arow3_col4 {\n",
       "            text-align:  right;\n",
       "            background-color:  #fff5f0;\n",
       "            color:  #000000;\n",
       "        }    #T_f9779566_8670_11ea_937b_60f81dc8f27arow4_col0 {\n",
       "            text-align:  right;\n",
       "        }    #T_f9779566_8670_11ea_937b_60f81dc8f27arow4_col1 {\n",
       "            text-align:  right;\n",
       "            background-color:  #fff4ee;\n",
       "            color:  #000000;\n",
       "        }    #T_f9779566_8670_11ea_937b_60f81dc8f27arow4_col2 {\n",
       "            text-align:  right;\n",
       "            background-color:  #fff5f0;\n",
       "            color:  #000000;\n",
       "        }    #T_f9779566_8670_11ea_937b_60f81dc8f27arow4_col3 {\n",
       "            text-align:  right;\n",
       "            background-color:  #fff5f0;\n",
       "            color:  #000000;\n",
       "        }    #T_f9779566_8670_11ea_937b_60f81dc8f27arow4_col4 {\n",
       "            text-align:  right;\n",
       "            background-color:  #fff5f0;\n",
       "            color:  #000000;\n",
       "        }    #T_f9779566_8670_11ea_937b_60f81dc8f27arow5_col0 {\n",
       "            text-align:  right;\n",
       "        }    #T_f9779566_8670_11ea_937b_60f81dc8f27arow5_col1 {\n",
       "            text-align:  right;\n",
       "            background-color:  #feeae1;\n",
       "            color:  #000000;\n",
       "        }    #T_f9779566_8670_11ea_937b_60f81dc8f27arow5_col2 {\n",
       "            text-align:  right;\n",
       "            background-color:  #fee5d8;\n",
       "            color:  #000000;\n",
       "        }    #T_f9779566_8670_11ea_937b_60f81dc8f27arow5_col3 {\n",
       "            text-align:  right;\n",
       "            background-color:  #fee6da;\n",
       "            color:  #000000;\n",
       "        }    #T_f9779566_8670_11ea_937b_60f81dc8f27arow5_col4 {\n",
       "            text-align:  right;\n",
       "            background-color:  #fee7db;\n",
       "            color:  #000000;\n",
       "        }    #T_f9779566_8670_11ea_937b_60f81dc8f27arow6_col0 {\n",
       "            text-align:  right;\n",
       "        }    #T_f9779566_8670_11ea_937b_60f81dc8f27arow6_col1 {\n",
       "            text-align:  right;\n",
       "            background-color:  #67000d;\n",
       "            color:  #f1f1f1;\n",
       "        }    #T_f9779566_8670_11ea_937b_60f81dc8f27arow6_col2 {\n",
       "            text-align:  right;\n",
       "            background-color:  #fff4ef;\n",
       "            color:  #000000;\n",
       "        }    #T_f9779566_8670_11ea_937b_60f81dc8f27arow6_col3 {\n",
       "            text-align:  right;\n",
       "            background-color:  #67000d;\n",
       "            color:  #f1f1f1;\n",
       "        }    #T_f9779566_8670_11ea_937b_60f81dc8f27arow6_col4 {\n",
       "            text-align:  right;\n",
       "            background-color:  #fcbda4;\n",
       "            color:  #000000;\n",
       "        }    #T_f9779566_8670_11ea_937b_60f81dc8f27arow7_col0 {\n",
       "            text-align:  right;\n",
       "        }    #T_f9779566_8670_11ea_937b_60f81dc8f27arow7_col1 {\n",
       "            text-align:  right;\n",
       "            background-color:  #fff4ee;\n",
       "            color:  #000000;\n",
       "        }    #T_f9779566_8670_11ea_937b_60f81dc8f27arow7_col2 {\n",
       "            text-align:  right;\n",
       "            background-color:  #fedfd0;\n",
       "            color:  #000000;\n",
       "        }    #T_f9779566_8670_11ea_937b_60f81dc8f27arow7_col3 {\n",
       "            text-align:  right;\n",
       "            background-color:  #fff4ee;\n",
       "            color:  #000000;\n",
       "        }    #T_f9779566_8670_11ea_937b_60f81dc8f27arow7_col4 {\n",
       "            text-align:  right;\n",
       "            background-color:  #fff2eb;\n",
       "            color:  #000000;\n",
       "        }    #T_f9779566_8670_11ea_937b_60f81dc8f27arow8_col0 {\n",
       "            text-align:  right;\n",
       "        }    #T_f9779566_8670_11ea_937b_60f81dc8f27arow8_col1 {\n",
       "            text-align:  right;\n",
       "            background-color:  #ffede5;\n",
       "            color:  #000000;\n",
       "        }    #T_f9779566_8670_11ea_937b_60f81dc8f27arow8_col2 {\n",
       "            text-align:  right;\n",
       "            background-color:  #fee3d7;\n",
       "            color:  #000000;\n",
       "        }    #T_f9779566_8670_11ea_937b_60f81dc8f27arow8_col3 {\n",
       "            text-align:  right;\n",
       "            background-color:  #fee2d5;\n",
       "            color:  #000000;\n",
       "        }    #T_f9779566_8670_11ea_937b_60f81dc8f27arow8_col4 {\n",
       "            text-align:  right;\n",
       "            background-color:  #fdcab5;\n",
       "            color:  #000000;\n",
       "        }    #T_f9779566_8670_11ea_937b_60f81dc8f27arow9_col0 {\n",
       "            text-align:  right;\n",
       "        }    #T_f9779566_8670_11ea_937b_60f81dc8f27arow9_col1 {\n",
       "            text-align:  right;\n",
       "            background-color:  #fee4d8;\n",
       "            color:  #000000;\n",
       "        }    #T_f9779566_8670_11ea_937b_60f81dc8f27arow9_col2 {\n",
       "            text-align:  right;\n",
       "            background-color:  #67000d;\n",
       "            color:  #f1f1f1;\n",
       "        }    #T_f9779566_8670_11ea_937b_60f81dc8f27arow9_col3 {\n",
       "            text-align:  right;\n",
       "            background-color:  #fdd5c4;\n",
       "            color:  #000000;\n",
       "        }    #T_f9779566_8670_11ea_937b_60f81dc8f27arow9_col4 {\n",
       "            text-align:  right;\n",
       "            background-color:  #f14432;\n",
       "            color:  #f1f1f1;\n",
       "        }    #T_f9779566_8670_11ea_937b_60f81dc8f27arow10_col0 {\n",
       "            text-align:  right;\n",
       "        }    #T_f9779566_8670_11ea_937b_60f81dc8f27arow10_col1 {\n",
       "            text-align:  right;\n",
       "            background-color:  #fee5d8;\n",
       "            color:  #000000;\n",
       "        }    #T_f9779566_8670_11ea_937b_60f81dc8f27arow10_col2 {\n",
       "            text-align:  right;\n",
       "            background-color:  #fee9df;\n",
       "            color:  #000000;\n",
       "        }    #T_f9779566_8670_11ea_937b_60f81dc8f27arow10_col3 {\n",
       "            text-align:  right;\n",
       "            background-color:  #ffece3;\n",
       "            color:  #000000;\n",
       "        }    #T_f9779566_8670_11ea_937b_60f81dc8f27arow10_col4 {\n",
       "            text-align:  right;\n",
       "            background-color:  #feeae0;\n",
       "            color:  #000000;\n",
       "        }    #T_f9779566_8670_11ea_937b_60f81dc8f27arow11_col0 {\n",
       "            text-align:  right;\n",
       "        }    #T_f9779566_8670_11ea_937b_60f81dc8f27arow11_col1 {\n",
       "            text-align:  right;\n",
       "            background-color:  #fdd2bf;\n",
       "            color:  #000000;\n",
       "        }    #T_f9779566_8670_11ea_937b_60f81dc8f27arow11_col2 {\n",
       "            text-align:  right;\n",
       "            background-color:  #fcc3ab;\n",
       "            color:  #000000;\n",
       "        }    #T_f9779566_8670_11ea_937b_60f81dc8f27arow11_col3 {\n",
       "            text-align:  right;\n",
       "            background-color:  #fcaa8d;\n",
       "            color:  #000000;\n",
       "        }    #T_f9779566_8670_11ea_937b_60f81dc8f27arow11_col4 {\n",
       "            text-align:  right;\n",
       "            background-color:  #f44d38;\n",
       "            color:  #000000;\n",
       "        }    #T_f9779566_8670_11ea_937b_60f81dc8f27arow12_col0 {\n",
       "            text-align:  right;\n",
       "        }    #T_f9779566_8670_11ea_937b_60f81dc8f27arow12_col1 {\n",
       "            text-align:  right;\n",
       "            background-color:  #fff1ea;\n",
       "            color:  #000000;\n",
       "        }    #T_f9779566_8670_11ea_937b_60f81dc8f27arow12_col2 {\n",
       "            text-align:  right;\n",
       "            background-color:  #fff4ef;\n",
       "            color:  #000000;\n",
       "        }    #T_f9779566_8670_11ea_937b_60f81dc8f27arow12_col3 {\n",
       "            text-align:  right;\n",
       "            background-color:  #fff0e8;\n",
       "            color:  #000000;\n",
       "        }    #T_f9779566_8670_11ea_937b_60f81dc8f27arow12_col4 {\n",
       "            text-align:  right;\n",
       "            background-color:  #fed8c7;\n",
       "            color:  #000000;\n",
       "        }    #T_f9779566_8670_11ea_937b_60f81dc8f27arow13_col0 {\n",
       "            text-align:  right;\n",
       "        }    #T_f9779566_8670_11ea_937b_60f81dc8f27arow13_col1 {\n",
       "            text-align:  right;\n",
       "            background-color:  #feeae0;\n",
       "            color:  #000000;\n",
       "        }    #T_f9779566_8670_11ea_937b_60f81dc8f27arow13_col2 {\n",
       "            text-align:  right;\n",
       "            background-color:  #fee7dc;\n",
       "            color:  #000000;\n",
       "        }    #T_f9779566_8670_11ea_937b_60f81dc8f27arow13_col3 {\n",
       "            text-align:  right;\n",
       "            background-color:  #fee6da;\n",
       "            color:  #000000;\n",
       "        }    #T_f9779566_8670_11ea_937b_60f81dc8f27arow13_col4 {\n",
       "            text-align:  right;\n",
       "            background-color:  #fdcab5;\n",
       "            color:  #000000;\n",
       "        }    #T_f9779566_8670_11ea_937b_60f81dc8f27arow14_col0 {\n",
       "            text-align:  right;\n",
       "        }    #T_f9779566_8670_11ea_937b_60f81dc8f27arow14_col1 {\n",
       "            text-align:  right;\n",
       "            background-color:  #fff5f0;\n",
       "            color:  #000000;\n",
       "        }    #T_f9779566_8670_11ea_937b_60f81dc8f27arow14_col2 {\n",
       "            text-align:  right;\n",
       "            background-color:  #ffeee6;\n",
       "            color:  #000000;\n",
       "        }    #T_f9779566_8670_11ea_937b_60f81dc8f27arow14_col3 {\n",
       "            text-align:  right;\n",
       "            background-color:  #fff5f0;\n",
       "            color:  #000000;\n",
       "        }    #T_f9779566_8670_11ea_937b_60f81dc8f27arow14_col4 {\n",
       "            text-align:  right;\n",
       "            background-color:  #fff5f0;\n",
       "            color:  #000000;\n",
       "        }    #T_f9779566_8670_11ea_937b_60f81dc8f27arow15_col0 {\n",
       "            text-align:  right;\n",
       "        }    #T_f9779566_8670_11ea_937b_60f81dc8f27arow15_col1 {\n",
       "            text-align:  right;\n",
       "            background-color:  #fee6da;\n",
       "            color:  #000000;\n",
       "        }    #T_f9779566_8670_11ea_937b_60f81dc8f27arow15_col2 {\n",
       "            text-align:  right;\n",
       "            background-color:  #fc8e6e;\n",
       "            color:  #000000;\n",
       "        }    #T_f9779566_8670_11ea_937b_60f81dc8f27arow15_col3 {\n",
       "            text-align:  right;\n",
       "            background-color:  #fee6da;\n",
       "            color:  #000000;\n",
       "        }    #T_f9779566_8670_11ea_937b_60f81dc8f27arow15_col4 {\n",
       "            text-align:  right;\n",
       "            background-color:  #67000d;\n",
       "            color:  #f1f1f1;\n",
       "        }</style><table id=\"T_f9779566_8670_11ea_937b_60f81dc8f27a\" ><caption>Estadísticas por región: Casos confirmados (CC) y fallecidos confirmados (FC)</caption><thead>    <tr>        <th class=\"col_heading level0 col0\" >Region</th>        <th class=\"col_heading level0 col1\" >CC</th>        <th class=\"col_heading level0 col2\" >CC por 100.000 hab.</th>        <th class=\"col_heading level0 col3\" >FC</th>        <th class=\"col_heading level0 col4\" >FC por 100.000 hab.</th>    </tr></thead><tbody>\n",
       "                <tr>\n",
       "                                <td id=\"T_f9779566_8670_11ea_937b_60f81dc8f27arow0_col0\" class=\"data row0 col0\" >Arica y Parinacota</td>\n",
       "                        <td id=\"T_f9779566_8670_11ea_937b_60f81dc8f27arow0_col1\" class=\"data row0 col1\" >239</td>\n",
       "                        <td id=\"T_f9779566_8670_11ea_937b_60f81dc8f27arow0_col2\" class=\"data row0 col2\" >52.9</td>\n",
       "                        <td id=\"T_f9779566_8670_11ea_937b_60f81dc8f27arow0_col3\" class=\"data row0 col3\" >3</td>\n",
       "                        <td id=\"T_f9779566_8670_11ea_937b_60f81dc8f27arow0_col4\" class=\"data row0 col4\" >1.2</td>\n",
       "            </tr>\n",
       "            <tr>\n",
       "                                <td id=\"T_f9779566_8670_11ea_937b_60f81dc8f27arow1_col0\" class=\"data row1 col0\" >Tarapacá</td>\n",
       "                        <td id=\"T_f9779566_8670_11ea_937b_60f81dc8f27arow1_col1\" class=\"data row1 col1\" >134</td>\n",
       "                        <td id=\"T_f9779566_8670_11ea_937b_60f81dc8f27arow1_col2\" class=\"data row1 col2\" >116.7</td>\n",
       "                        <td id=\"T_f9779566_8670_11ea_937b_60f81dc8f27arow1_col3\" class=\"data row1 col3\" >0</td>\n",
       "                        <td id=\"T_f9779566_8670_11ea_937b_60f81dc8f27arow1_col4\" class=\"data row1 col4\" >0</td>\n",
       "            </tr>\n",
       "            <tr>\n",
       "                                <td id=\"T_f9779566_8670_11ea_937b_60f81dc8f27arow2_col0\" class=\"data row2 col0\" >Antofagasta</td>\n",
       "                        <td id=\"T_f9779566_8670_11ea_937b_60f81dc8f27arow2_col1\" class=\"data row2 col1\" >366</td>\n",
       "                        <td id=\"T_f9779566_8670_11ea_937b_60f81dc8f27arow2_col2\" class=\"data row2 col2\" >94.8</td>\n",
       "                        <td id=\"T_f9779566_8670_11ea_937b_60f81dc8f27arow2_col3\" class=\"data row2 col3\" >2</td>\n",
       "                        <td id=\"T_f9779566_8670_11ea_937b_60f81dc8f27arow2_col4\" class=\"data row2 col4\" >0.3</td>\n",
       "            </tr>\n",
       "            <tr>\n",
       "                                <td id=\"T_f9779566_8670_11ea_937b_60f81dc8f27arow3_col0\" class=\"data row3 col0\" >Atacama</td>\n",
       "                        <td id=\"T_f9779566_8670_11ea_937b_60f81dc8f27arow3_col1\" class=\"data row3 col1\" >21</td>\n",
       "                        <td id=\"T_f9779566_8670_11ea_937b_60f81dc8f27arow3_col2\" class=\"data row3 col2\" >6.7</td>\n",
       "                        <td id=\"T_f9779566_8670_11ea_937b_60f81dc8f27arow3_col3\" class=\"data row3 col3\" >0</td>\n",
       "                        <td id=\"T_f9779566_8670_11ea_937b_60f81dc8f27arow3_col4\" class=\"data row3 col4\" >0</td>\n",
       "            </tr>\n",
       "            <tr>\n",
       "                                <td id=\"T_f9779566_8670_11ea_937b_60f81dc8f27arow4_col0\" class=\"data row4 col0\" >Coquimbo</td>\n",
       "                        <td id=\"T_f9779566_8670_11ea_937b_60f81dc8f27arow4_col1\" class=\"data row4 col1\" >72</td>\n",
       "                        <td id=\"T_f9779566_8670_11ea_937b_60f81dc8f27arow4_col2\" class=\"data row4 col2\" >6.5</td>\n",
       "                        <td id=\"T_f9779566_8670_11ea_937b_60f81dc8f27arow4_col3\" class=\"data row4 col3\" >0</td>\n",
       "                        <td id=\"T_f9779566_8670_11ea_937b_60f81dc8f27arow4_col4\" class=\"data row4 col4\" >0</td>\n",
       "            </tr>\n",
       "            <tr>\n",
       "                                <td id=\"T_f9779566_8670_11ea_937b_60f81dc8f27arow5_col0\" class=\"data row5 col0\" >Valparaíso</td>\n",
       "                        <td id=\"T_f9779566_8670_11ea_937b_60f81dc8f27arow5_col1\" class=\"data row5 col1\" >436</td>\n",
       "                        <td id=\"T_f9779566_8670_11ea_937b_60f81dc8f27arow5_col2\" class=\"data row5 col2\" >41.1</td>\n",
       "                        <td id=\"T_f9779566_8670_11ea_937b_60f81dc8f27arow5_col3\" class=\"data row5 col3\" >8</td>\n",
       "                        <td id=\"T_f9779566_8670_11ea_937b_60f81dc8f27arow5_col4\" class=\"data row5 col4\" >0.4</td>\n",
       "            </tr>\n",
       "            <tr>\n",
       "                                <td id=\"T_f9779566_8670_11ea_937b_60f81dc8f27arow6_col0\" class=\"data row6 col0\" >Metropolitana</td>\n",
       "                        <td id=\"T_f9779566_8670_11ea_937b_60f81dc8f27arow6_col1\" class=\"data row6 col1\" >6761</td>\n",
       "                        <td id=\"T_f9779566_8670_11ea_937b_60f81dc8f27arow6_col2\" class=\"data row6 col2\" >8.6</td>\n",
       "                        <td id=\"T_f9779566_8670_11ea_937b_60f81dc8f27arow6_col3\" class=\"data row6 col3\" >86</td>\n",
       "                        <td id=\"T_f9779566_8670_11ea_937b_60f81dc8f27arow6_col4\" class=\"data row6 col4\" >1.1</td>\n",
       "            </tr>\n",
       "            <tr>\n",
       "                                <td id=\"T_f9779566_8670_11ea_937b_60f81dc8f27arow7_col0\" class=\"data row7 col0\" >O’Higgins</td>\n",
       "                        <td id=\"T_f9779566_8670_11ea_937b_60f81dc8f27arow7_col1\" class=\"data row7 col1\" >81</td>\n",
       "                        <td id=\"T_f9779566_8670_11ea_937b_60f81dc8f27arow7_col2\" class=\"data row7 col2\" >51.6</td>\n",
       "                        <td id=\"T_f9779566_8670_11ea_937b_60f81dc8f27arow7_col3\" class=\"data row7 col3\" >1</td>\n",
       "                        <td id=\"T_f9779566_8670_11ea_937b_60f81dc8f27arow7_col4\" class=\"data row7 col4\" >0.1</td>\n",
       "            </tr>\n",
       "            <tr>\n",
       "                                <td id=\"T_f9779566_8670_11ea_937b_60f81dc8f27arow8_col0\" class=\"data row8 col0\" >Maule</td>\n",
       "                        <td id=\"T_f9779566_8670_11ea_937b_60f81dc8f27arow8_col1\" class=\"data row8 col1\" >349</td>\n",
       "                        <td id=\"T_f9779566_8670_11ea_937b_60f81dc8f27arow8_col2\" class=\"data row8 col2\" >42.9</td>\n",
       "                        <td id=\"T_f9779566_8670_11ea_937b_60f81dc8f27arow8_col3\" class=\"data row8 col3\" >10</td>\n",
       "                        <td id=\"T_f9779566_8670_11ea_937b_60f81dc8f27arow8_col4\" class=\"data row8 col4\" >0.9</td>\n",
       "            </tr>\n",
       "            <tr>\n",
       "                                <td id=\"T_f9779566_8670_11ea_937b_60f81dc8f27arow9_col0\" class=\"data row9 col0\" >Ñuble</td>\n",
       "                        <td id=\"T_f9779566_8670_11ea_937b_60f81dc8f27arow9_col1\" class=\"data row9 col1\" >715</td>\n",
       "                        <td id=\"T_f9779566_8670_11ea_937b_60f81dc8f27arow9_col2\" class=\"data row9 col2\" >349.9</td>\n",
       "                        <td id=\"T_f9779566_8670_11ea_937b_60f81dc8f27arow9_col3\" class=\"data row9 col3\" >14</td>\n",
       "                        <td id=\"T_f9779566_8670_11ea_937b_60f81dc8f27arow9_col4\" class=\"data row9 col4\" >2.7</td>\n",
       "            </tr>\n",
       "            <tr>\n",
       "                                <td id=\"T_f9779566_8670_11ea_937b_60f81dc8f27arow10_col0\" class=\"data row10 col0\" >Biobío</td>\n",
       "                        <td id=\"T_f9779566_8670_11ea_937b_60f81dc8f27arow10_col1\" class=\"data row10 col1\" >683</td>\n",
       "                        <td id=\"T_f9779566_8670_11ea_937b_60f81dc8f27arow10_col2\" class=\"data row10 col2\" >30.8</td>\n",
       "                        <td id=\"T_f9779566_8670_11ea_937b_60f81dc8f27arow10_col3\" class=\"data row10 col3\" >5</td>\n",
       "                        <td id=\"T_f9779566_8670_11ea_937b_60f81dc8f27arow10_col4\" class=\"data row10 col4\" >0.3</td>\n",
       "            </tr>\n",
       "            <tr>\n",
       "                                <td id=\"T_f9779566_8670_11ea_937b_60f81dc8f27arow11_col0\" class=\"data row11 col0\" >Araucanía</td>\n",
       "                        <td id=\"T_f9779566_8670_11ea_937b_60f81dc8f27arow11_col1\" class=\"data row11 col1\" >1184</td>\n",
       "                        <td id=\"T_f9779566_8670_11ea_937b_60f81dc8f27arow11_col2\" class=\"data row11 col2\" >83.2</td>\n",
       "                        <td id=\"T_f9779566_8670_11ea_937b_60f81dc8f27arow11_col3\" class=\"data row11 col3\" >26</td>\n",
       "                        <td id=\"T_f9779566_8670_11ea_937b_60f81dc8f27arow11_col4\" class=\"data row11 col4\" >2.6</td>\n",
       "            </tr>\n",
       "            <tr>\n",
       "                                <td id=\"T_f9779566_8670_11ea_937b_60f81dc8f27arow12_col0\" class=\"data row12 col0\" >Los Ríos</td>\n",
       "                        <td id=\"T_f9779566_8670_11ea_937b_60f81dc8f27arow12_col1\" class=\"data row12 col1\" >174</td>\n",
       "                        <td id=\"T_f9779566_8670_11ea_937b_60f81dc8f27arow12_col2\" class=\"data row12 col2\" >8.2</td>\n",
       "                        <td id=\"T_f9779566_8670_11ea_937b_60f81dc8f27arow12_col3\" class=\"data row12 col3\" >3</td>\n",
       "                        <td id=\"T_f9779566_8670_11ea_937b_60f81dc8f27arow12_col4\" class=\"data row12 col4\" >0.7</td>\n",
       "            </tr>\n",
       "            <tr>\n",
       "                                <td id=\"T_f9779566_8670_11ea_937b_60f81dc8f27arow13_col0\" class=\"data row13 col0\" >Los Lagos</td>\n",
       "                        <td id=\"T_f9779566_8670_11ea_937b_60f81dc8f27arow13_col1\" class=\"data row13 col1\" >460</td>\n",
       "                        <td id=\"T_f9779566_8670_11ea_937b_60f81dc8f27arow13_col2\" class=\"data row13 col2\" >35</td>\n",
       "                        <td id=\"T_f9779566_8670_11ea_937b_60f81dc8f27arow13_col3\" class=\"data row13 col3\" >8</td>\n",
       "                        <td id=\"T_f9779566_8670_11ea_937b_60f81dc8f27arow13_col4\" class=\"data row13 col4\" >0.9</td>\n",
       "            </tr>\n",
       "            <tr>\n",
       "                                <td id=\"T_f9779566_8670_11ea_937b_60f81dc8f27arow14_col0\" class=\"data row14 col0\" >Aysén</td>\n",
       "                        <td id=\"T_f9779566_8670_11ea_937b_60f81dc8f27arow14_col1\" class=\"data row14 col1\" >7</td>\n",
       "                        <td id=\"T_f9779566_8670_11ea_937b_60f81dc8f27arow14_col2\" class=\"data row14 col2\" >22.2</td>\n",
       "                        <td id=\"T_f9779566_8670_11ea_937b_60f81dc8f27arow14_col3\" class=\"data row14 col3\" >0</td>\n",
       "                        <td id=\"T_f9779566_8670_11ea_937b_60f81dc8f27arow14_col4\" class=\"data row14 col4\" >0</td>\n",
       "            </tr>\n",
       "            <tr>\n",
       "                                <td id=\"T_f9779566_8670_11ea_937b_60f81dc8f27arow15_col0\" class=\"data row15 col0\" >Magallanes</td>\n",
       "                        <td id=\"T_f9779566_8670_11ea_937b_60f81dc8f27arow15_col1\" class=\"data row15 col1\" >624</td>\n",
       "                        <td id=\"T_f9779566_8670_11ea_937b_60f81dc8f27arow15_col2\" class=\"data row15 col2\" >139.8</td>\n",
       "                        <td id=\"T_f9779566_8670_11ea_937b_60f81dc8f27arow15_col3\" class=\"data row15 col3\" >8</td>\n",
       "                        <td id=\"T_f9779566_8670_11ea_937b_60f81dc8f27arow15_col4\" class=\"data row15 col4\" >4.5</td>\n",
       "            </tr>\n",
       "    </tbody></table>"
      ],
      "text/plain": [
       "<pandas.io.formats.style.Styler at 0x117c21890>"
      ]
     },
     "execution_count": 22,
     "metadata": {},
     "output_type": "execute_result"
    }
   ],
   "source": [
    "#hide_input\n",
    "(data_table.style.set_properties(**{'text-align': 'right'}).background_gradient(cmap='Reds').hide_index()).set_caption('Estadísticas por región: Casos confirmados (CC) y fallecidos confirmados (FC)')"
   ]
  },
  {
   "cell_type": "code",
   "execution_count": 23,
   "metadata": {},
   "outputs": [
    {
     "data": {
      "text/html": [
       "<style  type=\"text/css\" >\n",
       "    #T_ff0ad22c_8670_11ea_937b_60f81dc8f27arow0_col0 {\n",
       "            text-align:  right;\n",
       "        }    #T_ff0ad22c_8670_11ea_937b_60f81dc8f27arow0_col1 {\n",
       "            text-align:  right;\n",
       "            background-color:  #f3f8fe;\n",
       "            color:  #000000;\n",
       "        }    #T_ff0ad22c_8670_11ea_937b_60f81dc8f27arow0_col2 {\n",
       "            text-align:  right;\n",
       "            background-color:  #2f7fbc;\n",
       "            color:  #000000;\n",
       "        }    #T_ff0ad22c_8670_11ea_937b_60f81dc8f27arow1_col0 {\n",
       "            text-align:  right;\n",
       "        }    #T_ff0ad22c_8670_11ea_937b_60f81dc8f27arow1_col1 {\n",
       "            text-align:  right;\n",
       "            background-color:  #f6faff;\n",
       "            color:  #000000;\n",
       "        }    #T_ff0ad22c_8670_11ea_937b_60f81dc8f27arow1_col2 {\n",
       "            text-align:  right;\n",
       "            background-color:  #d9e8f5;\n",
       "            color:  #000000;\n",
       "        }    #T_ff0ad22c_8670_11ea_937b_60f81dc8f27arow2_col0 {\n",
       "            text-align:  right;\n",
       "        }    #T_ff0ad22c_8670_11ea_937b_60f81dc8f27arow2_col1 {\n",
       "            text-align:  right;\n",
       "            background-color:  #eff6fc;\n",
       "            color:  #000000;\n",
       "        }    #T_ff0ad22c_8670_11ea_937b_60f81dc8f27arow2_col2 {\n",
       "            text-align:  right;\n",
       "            background-color:  #68acd5;\n",
       "            color:  #000000;\n",
       "        }    #T_ff0ad22c_8670_11ea_937b_60f81dc8f27arow3_col0 {\n",
       "            text-align:  right;\n",
       "        }    #T_ff0ad22c_8670_11ea_937b_60f81dc8f27arow3_col1 {\n",
       "            text-align:  right;\n",
       "            background-color:  #f5fafe;\n",
       "            color:  #000000;\n",
       "        }    #T_ff0ad22c_8670_11ea_937b_60f81dc8f27arow3_col2 {\n",
       "            text-align:  right;\n",
       "            background-color:  #b3d3e8;\n",
       "            color:  #000000;\n",
       "        }    #T_ff0ad22c_8670_11ea_937b_60f81dc8f27arow4_col0 {\n",
       "            text-align:  right;\n",
       "        }    #T_ff0ad22c_8670_11ea_937b_60f81dc8f27arow4_col1 {\n",
       "            text-align:  right;\n",
       "            background-color:  #f7fbff;\n",
       "            color:  #000000;\n",
       "        }    #T_ff0ad22c_8670_11ea_937b_60f81dc8f27arow4_col2 {\n",
       "            text-align:  right;\n",
       "            background-color:  #f7fbff;\n",
       "            color:  #000000;\n",
       "        }    #T_ff0ad22c_8670_11ea_937b_60f81dc8f27arow5_col0 {\n",
       "            text-align:  right;\n",
       "        }    #T_ff0ad22c_8670_11ea_937b_60f81dc8f27arow5_col1 {\n",
       "            text-align:  right;\n",
       "            background-color:  #e9f2fa;\n",
       "            color:  #000000;\n",
       "        }    #T_ff0ad22c_8670_11ea_937b_60f81dc8f27arow5_col2 {\n",
       "            text-align:  right;\n",
       "            background-color:  #b9d6ea;\n",
       "            color:  #000000;\n",
       "        }    #T_ff0ad22c_8670_11ea_937b_60f81dc8f27arow6_col0 {\n",
       "            text-align:  right;\n",
       "        }    #T_ff0ad22c_8670_11ea_937b_60f81dc8f27arow6_col1 {\n",
       "            text-align:  right;\n",
       "            background-color:  #08306b;\n",
       "            color:  #f1f1f1;\n",
       "        }    #T_ff0ad22c_8670_11ea_937b_60f81dc8f27arow6_col2 {\n",
       "            text-align:  right;\n",
       "            background-color:  #08306b;\n",
       "            color:  #f1f1f1;\n",
       "        }    #T_ff0ad22c_8670_11ea_937b_60f81dc8f27arow7_col0 {\n",
       "            text-align:  right;\n",
       "        }    #T_ff0ad22c_8670_11ea_937b_60f81dc8f27arow7_col1 {\n",
       "            text-align:  right;\n",
       "            background-color:  #f5fafe;\n",
       "            color:  #000000;\n",
       "        }    #T_ff0ad22c_8670_11ea_937b_60f81dc8f27arow7_col2 {\n",
       "            text-align:  right;\n",
       "            background-color:  #e5eff9;\n",
       "            color:  #000000;\n",
       "        }    #T_ff0ad22c_8670_11ea_937b_60f81dc8f27arow8_col0 {\n",
       "            text-align:  right;\n",
       "        }    #T_ff0ad22c_8670_11ea_937b_60f81dc8f27arow8_col1 {\n",
       "            text-align:  right;\n",
       "            background-color:  #e6f0f9;\n",
       "            color:  #000000;\n",
       "        }    #T_ff0ad22c_8670_11ea_937b_60f81dc8f27arow8_col2 {\n",
       "            text-align:  right;\n",
       "            background-color:  #3c8cc3;\n",
       "            color:  #000000;\n",
       "        }    #T_ff0ad22c_8670_11ea_937b_60f81dc8f27arow9_col0 {\n",
       "            text-align:  right;\n",
       "        }    #T_ff0ad22c_8670_11ea_937b_60f81dc8f27arow9_col1 {\n",
       "            text-align:  right;\n",
       "            background-color:  #f0f6fd;\n",
       "            color:  #000000;\n",
       "        }    #T_ff0ad22c_8670_11ea_937b_60f81dc8f27arow9_col2 {\n",
       "            text-align:  right;\n",
       "            background-color:  #4a98c9;\n",
       "            color:  #000000;\n",
       "        }    #T_ff0ad22c_8670_11ea_937b_60f81dc8f27arow10_col0 {\n",
       "            text-align:  right;\n",
       "        }    #T_ff0ad22c_8670_11ea_937b_60f81dc8f27arow10_col1 {\n",
       "            text-align:  right;\n",
       "            background-color:  #e4eff9;\n",
       "            color:  #000000;\n",
       "        }    #T_ff0ad22c_8670_11ea_937b_60f81dc8f27arow10_col2 {\n",
       "            text-align:  right;\n",
       "            background-color:  #75b4d8;\n",
       "            color:  #000000;\n",
       "        }    #T_ff0ad22c_8670_11ea_937b_60f81dc8f27arow11_col0 {\n",
       "            text-align:  right;\n",
       "        }    #T_ff0ad22c_8670_11ea_937b_60f81dc8f27arow11_col1 {\n",
       "            text-align:  right;\n",
       "            background-color:  #eaf3fb;\n",
       "            color:  #000000;\n",
       "        }    #T_ff0ad22c_8670_11ea_937b_60f81dc8f27arow11_col2 {\n",
       "            text-align:  right;\n",
       "            background-color:  #68acd5;\n",
       "            color:  #000000;\n",
       "        }    #T_ff0ad22c_8670_11ea_937b_60f81dc8f27arow12_col0 {\n",
       "            text-align:  right;\n",
       "        }    #T_ff0ad22c_8670_11ea_937b_60f81dc8f27arow12_col1 {\n",
       "            text-align:  right;\n",
       "            background-color:  #f5f9fe;\n",
       "            color:  #000000;\n",
       "        }    #T_ff0ad22c_8670_11ea_937b_60f81dc8f27arow12_col2 {\n",
       "            text-align:  right;\n",
       "            background-color:  #b4d3e9;\n",
       "            color:  #000000;\n",
       "        }    #T_ff0ad22c_8670_11ea_937b_60f81dc8f27arow13_col0 {\n",
       "            text-align:  right;\n",
       "        }    #T_ff0ad22c_8670_11ea_937b_60f81dc8f27arow13_col1 {\n",
       "            text-align:  right;\n",
       "            background-color:  #ebf3fb;\n",
       "            color:  #000000;\n",
       "        }    #T_ff0ad22c_8670_11ea_937b_60f81dc8f27arow13_col2 {\n",
       "            text-align:  right;\n",
       "            background-color:  #5da5d1;\n",
       "            color:  #000000;\n",
       "        }    #T_ff0ad22c_8670_11ea_937b_60f81dc8f27arow14_col0 {\n",
       "            text-align:  right;\n",
       "        }    #T_ff0ad22c_8670_11ea_937b_60f81dc8f27arow14_col1 {\n",
       "            text-align:  right;\n",
       "            background-color:  #f7fbff;\n",
       "            color:  #000000;\n",
       "        }    #T_ff0ad22c_8670_11ea_937b_60f81dc8f27arow14_col2 {\n",
       "            text-align:  right;\n",
       "            background-color:  #ccdff1;\n",
       "            color:  #000000;\n",
       "        }    #T_ff0ad22c_8670_11ea_937b_60f81dc8f27arow15_col0 {\n",
       "            text-align:  right;\n",
       "        }    #T_ff0ad22c_8670_11ea_937b_60f81dc8f27arow15_col1 {\n",
       "            text-align:  right;\n",
       "            background-color:  #f5f9fe;\n",
       "            color:  #000000;\n",
       "        }    #T_ff0ad22c_8670_11ea_937b_60f81dc8f27arow15_col2 {\n",
       "            text-align:  right;\n",
       "            background-color:  #2070b4;\n",
       "            color:  #f1f1f1;\n",
       "        }</style><table id=\"T_ff0ad22c_8670_11ea_937b_60f81dc8f27a\" ><caption>Estadísticas por región: Exámenes informados desde el 9 de abril</caption><thead>    <tr>        <th class=\"col_heading level0 col0\" >Región</th>        <th class=\"col_heading level0 col1\" >Exámenes informados</th>        <th class=\"col_heading level0 col2\" >Exámenes informados por 100.000 habs.</th>    </tr></thead><tbody>\n",
       "                <tr>\n",
       "                                <td id=\"T_ff0ad22c_8670_11ea_937b_60f81dc8f27arow0_col0\" class=\"data row0 col0\" >Arica y Parinacota</td>\n",
       "                        <td id=\"T_ff0ad22c_8670_11ea_937b_60f81dc8f27arow0_col1\" class=\"data row0 col1\" >1143</td>\n",
       "                        <td id=\"T_ff0ad22c_8670_11ea_937b_60f81dc8f27arow0_col2\" class=\"data row0 col2\" >453.4</td>\n",
       "            </tr>\n",
       "            <tr>\n",
       "                                <td id=\"T_ff0ad22c_8670_11ea_937b_60f81dc8f27arow1_col0\" class=\"data row1 col0\" >Tarapacá</td>\n",
       "                        <td id=\"T_ff0ad22c_8670_11ea_937b_60f81dc8f27arow1_col1\" class=\"data row1 col1\" >413</td>\n",
       "                        <td id=\"T_ff0ad22c_8670_11ea_937b_60f81dc8f27arow1_col2\" class=\"data row1 col2\" >107.9</td>\n",
       "            </tr>\n",
       "            <tr>\n",
       "                                <td id=\"T_ff0ad22c_8670_11ea_937b_60f81dc8f27arow2_col0\" class=\"data row2 col0\" >Antofagasta</td>\n",
       "                        <td id=\"T_ff0ad22c_8670_11ea_937b_60f81dc8f27arow2_col1\" class=\"data row2 col1\" >2306</td>\n",
       "                        <td id=\"T_ff0ad22c_8670_11ea_937b_60f81dc8f27arow2_col2\" class=\"data row2 col2\" >333.3</td>\n",
       "            </tr>\n",
       "            <tr>\n",
       "                                <td id=\"T_ff0ad22c_8670_11ea_937b_60f81dc8f27arow3_col0\" class=\"data row3 col0\" >Atacama</td>\n",
       "                        <td id=\"T_ff0ad22c_8670_11ea_937b_60f81dc8f27arow3_col1\" class=\"data row3 col1\" >658</td>\n",
       "                        <td id=\"T_ff0ad22c_8670_11ea_937b_60f81dc8f27arow3_col2\" class=\"data row3 col2\" >209.1</td>\n",
       "            </tr>\n",
       "            <tr>\n",
       "                                <td id=\"T_ff0ad22c_8670_11ea_937b_60f81dc8f27arow4_col0\" class=\"data row4 col0\" >Coquimbo</td>\n",
       "                        <td id=\"T_ff0ad22c_8670_11ea_937b_60f81dc8f27arow4_col1\" class=\"data row4 col1\" >99</td>\n",
       "                        <td id=\"T_ff0ad22c_8670_11ea_937b_60f81dc8f27arow4_col2\" class=\"data row4 col2\" >11.8</td>\n",
       "            </tr>\n",
       "            <tr>\n",
       "                                <td id=\"T_ff0ad22c_8670_11ea_937b_60f81dc8f27arow5_col0\" class=\"data row5 col0\" >Valparaíso</td>\n",
       "                        <td id=\"T_ff0ad22c_8670_11ea_937b_60f81dc8f27arow5_col1\" class=\"data row5 col1\" >3844</td>\n",
       "                        <td id=\"T_ff0ad22c_8670_11ea_937b_60f81dc8f27arow5_col2\" class=\"data row5 col2\" >196.1</td>\n",
       "            </tr>\n",
       "            <tr>\n",
       "                                <td id=\"T_ff0ad22c_8670_11ea_937b_60f81dc8f27arow6_col0\" class=\"data row6 col0\" >Metropolitana</td>\n",
       "                        <td id=\"T_ff0ad22c_8670_11ea_937b_60f81dc8f27arow6_col1\" class=\"data row6 col1\" >52372</td>\n",
       "                        <td id=\"T_ff0ad22c_8670_11ea_937b_60f81dc8f27arow6_col2\" class=\"data row6 col2\" >644.6</td>\n",
       "            </tr>\n",
       "            <tr>\n",
       "                                <td id=\"T_ff0ad22c_8670_11ea_937b_60f81dc8f27arow7_col0\" class=\"data row7 col0\" >O’Higgins</td>\n",
       "                        <td id=\"T_ff0ad22c_8670_11ea_937b_60f81dc8f27arow7_col1\" class=\"data row7 col1\" >685</td>\n",
       "                        <td id=\"T_ff0ad22c_8670_11ea_937b_60f81dc8f27arow7_col2\" class=\"data row7 col2\" >69.1</td>\n",
       "            </tr>\n",
       "            <tr>\n",
       "                                <td id=\"T_ff0ad22c_8670_11ea_937b_60f81dc8f27arow8_col0\" class=\"data row8 col0\" >Maule</td>\n",
       "                        <td id=\"T_ff0ad22c_8670_11ea_937b_60f81dc8f27arow8_col1\" class=\"data row8 col1\" >4758</td>\n",
       "                        <td id=\"T_ff0ad22c_8670_11ea_937b_60f81dc8f27arow8_col2\" class=\"data row8 col2\" >420.3</td>\n",
       "            </tr>\n",
       "            <tr>\n",
       "                                <td id=\"T_ff0ad22c_8670_11ea_937b_60f81dc8f27arow9_col0\" class=\"data row9 col0\" >Ñuble</td>\n",
       "                        <td id=\"T_ff0ad22c_8670_11ea_937b_60f81dc8f27arow9_col1\" class=\"data row9 col1\" >1997</td>\n",
       "                        <td id=\"T_ff0ad22c_8670_11ea_937b_60f81dc8f27arow9_col2\" class=\"data row9 col2\" >390.4</td>\n",
       "            </tr>\n",
       "            <tr>\n",
       "                                <td id=\"T_ff0ad22c_8670_11ea_937b_60f81dc8f27arow10_col0\" class=\"data row10 col0\" >Biobío</td>\n",
       "                        <td id=\"T_ff0ad22c_8670_11ea_937b_60f81dc8f27arow10_col1\" class=\"data row10 col1\" >5203</td>\n",
       "                        <td id=\"T_ff0ad22c_8670_11ea_937b_60f81dc8f27arow10_col2\" class=\"data row10 col2\" >312.7</td>\n",
       "            </tr>\n",
       "            <tr>\n",
       "                                <td id=\"T_ff0ad22c_8670_11ea_937b_60f81dc8f27arow11_col0\" class=\"data row11 col0\" >Araucanía</td>\n",
       "                        <td id=\"T_ff0ad22c_8670_11ea_937b_60f81dc8f27arow11_col1\" class=\"data row11 col1\" >3380</td>\n",
       "                        <td id=\"T_ff0ad22c_8670_11ea_937b_60f81dc8f27arow11_col2\" class=\"data row11 col2\" >333.2</td>\n",
       "            </tr>\n",
       "            <tr>\n",
       "                                <td id=\"T_ff0ad22c_8670_11ea_937b_60f81dc8f27arow12_col0\" class=\"data row12 col0\" >Los Ríos</td>\n",
       "                        <td id=\"T_ff0ad22c_8670_11ea_937b_60f81dc8f27arow12_col1\" class=\"data row12 col1\" >837</td>\n",
       "                        <td id=\"T_ff0ad22c_8670_11ea_937b_60f81dc8f27arow12_col2\" class=\"data row12 col2\" >206.2</td>\n",
       "            </tr>\n",
       "            <tr>\n",
       "                                <td id=\"T_ff0ad22c_8670_11ea_937b_60f81dc8f27arow13_col0\" class=\"data row13 col0\" >Los Lagos</td>\n",
       "                        <td id=\"T_ff0ad22c_8670_11ea_937b_60f81dc8f27arow13_col1\" class=\"data row13 col1\" >3164</td>\n",
       "                        <td id=\"T_ff0ad22c_8670_11ea_937b_60f81dc8f27arow13_col2\" class=\"data row13 col2\" >354.9</td>\n",
       "            </tr>\n",
       "            <tr>\n",
       "                                <td id=\"T_ff0ad22c_8670_11ea_937b_60f81dc8f27arow14_col0\" class=\"data row14 col0\" >Aysén</td>\n",
       "                        <td id=\"T_ff0ad22c_8670_11ea_937b_60f81dc8f27arow14_col1\" class=\"data row14 col1\" >163</td>\n",
       "                        <td id=\"T_ff0ad22c_8670_11ea_937b_60f81dc8f27arow14_col2\" class=\"data row14 col2\" >151.9</td>\n",
       "            </tr>\n",
       "            <tr>\n",
       "                                <td id=\"T_ff0ad22c_8670_11ea_937b_60f81dc8f27arow15_col0\" class=\"data row15 col0\" >Magallanes</td>\n",
       "                        <td id=\"T_ff0ad22c_8670_11ea_937b_60f81dc8f27arow15_col1\" class=\"data row15 col1\" >870</td>\n",
       "                        <td id=\"T_ff0ad22c_8670_11ea_937b_60f81dc8f27arow15_col2\" class=\"data row15 col2\" >487.8</td>\n",
       "            </tr>\n",
       "    </tbody></table>"
      ],
      "text/plain": [
       "<pandas.io.formats.style.Styler at 0x1197585d0>"
      ]
     },
     "execution_count": 23,
     "metadata": {},
     "output_type": "execute_result"
    }
   ],
   "source": [
    "#hide_input\n",
    "(tests_table[:-1].style.set_properties(**{'text-align': 'right'}).background_gradient(cmap='Blues').hide_index()).set_caption('Estadísticas por región: Exámenes informados desde el 9 de abril')"
   ]
  },
  {
   "cell_type": "markdown",
   "metadata": {},
   "source": [
    "Nota: Los exámenes informados por región empezaron a informarse sólo desde el 9 de abril."
   ]
  },
  {
   "cell_type": "markdown",
   "metadata": {},
   "source": [
    "# Evolución de casos confirmados por región"
   ]
  },
  {
   "cell_type": "code",
   "execution_count": 45,
   "metadata": {},
   "outputs": [],
   "source": [
    "#hide\n",
    "data_raw = pd.read_csv(\n",
    "    \"https://raw.githubusercontent.com/MinCiencia/Datos-COVID19/master/output/producto3/CasosTotalesCumulativo.csv\",\n",
    "    index_col='Region')"
   ]
  },
  {
   "cell_type": "code",
   "execution_count": 46,
   "metadata": {},
   "outputs": [],
   "source": [
    "#hide\n",
    "data_raw = data_raw.drop(\"Total\")"
   ]
  },
  {
   "cell_type": "code",
   "execution_count": 47,
   "metadata": {},
   "outputs": [],
   "source": [
    "#hide\n",
    "data = pd.DataFrame()\n",
    "i = 0\n",
    "for date in data_raw.keys():\n",
    "    for n, region in enumerate(data_raw.index):\n",
    "        data[i] = date, region, data_raw[date].loc[region], n\n",
    "        i += 1"
   ]
  },
  {
   "cell_type": "code",
   "execution_count": 48,
   "metadata": {},
   "outputs": [],
   "source": [
    "#hide\n",
    "data_raw = data_raw.reset_index()\n",
    "regiones = data_raw['Region'].values\n",
    "data = data.T\n",
    "data = data.rename(columns={0: \"date\", 1: \"region\", 2: \"casos\", 3: \"codigo region\"})"
   ]
  },
  {
   "cell_type": "code",
   "execution_count": 49,
   "metadata": {},
   "outputs": [],
   "source": [
    "#hide\n",
    "data[\"casos\"] = data[\"casos\"].astype(int)"
   ]
  },
  {
   "cell_type": "code",
   "execution_count": 50,
   "metadata": {},
   "outputs": [
    {
     "data": {
      "text/html": [
       "\n",
       "<div id=\"altair-viz-bf5bca76801143648765da1612879892\"></div>\n",
       "<script type=\"text/javascript\">\n",
       "  (function(spec, embedOpt){\n",
       "    let outputDiv = document.currentScript.previousElementSibling;\n",
       "    if (outputDiv.id !== \"altair-viz-bf5bca76801143648765da1612879892\") {\n",
       "      outputDiv = document.getElementById(\"altair-viz-bf5bca76801143648765da1612879892\");\n",
       "    }\n",
       "    const paths = {\n",
       "      \"vega\": \"https://cdn.jsdelivr.net/npm//vega@5?noext\",\n",
       "      \"vega-lib\": \"https://cdn.jsdelivr.net/npm//vega-lib?noext\",\n",
       "      \"vega-lite\": \"https://cdn.jsdelivr.net/npm//vega-lite@4.8.1?noext\",\n",
       "      \"vega-embed\": \"https://cdn.jsdelivr.net/npm//vega-embed@6?noext\",\n",
       "    };\n",
       "\n",
       "    function loadScript(lib) {\n",
       "      return new Promise(function(resolve, reject) {\n",
       "        var s = document.createElement('script');\n",
       "        s.src = paths[lib];\n",
       "        s.async = true;\n",
       "        s.onload = () => resolve(paths[lib]);\n",
       "        s.onerror = () => reject(`Error loading script: ${paths[lib]}`);\n",
       "        document.getElementsByTagName(\"head\")[0].appendChild(s);\n",
       "      });\n",
       "    }\n",
       "\n",
       "    function showError(err) {\n",
       "      outputDiv.innerHTML = `<div class=\"error\" style=\"color:red;\">${err}</div>`;\n",
       "      throw err;\n",
       "    }\n",
       "\n",
       "    function displayChart(vegaEmbed) {\n",
       "      vegaEmbed(outputDiv, spec, embedOpt)\n",
       "        .catch(err => showError(`Javascript Error: ${err.message}<br>This usually means there's a typo in your chart specification. See the javascript console for the full traceback.`));\n",
       "    }\n",
       "\n",
       "    if(typeof define === \"function\" && define.amd) {\n",
       "      requirejs.config({paths});\n",
       "      require([\"vega-embed\"], displayChart, err => showError(`Error loading script: ${err.message}`));\n",
       "    } else if (typeof vegaEmbed === \"function\") {\n",
       "      displayChart(vegaEmbed);\n",
       "    } else {\n",
       "      loadScript(\"vega\")\n",
       "        .then(() => loadScript(\"vega-lite\"))\n",
       "        .then(() => loadScript(\"vega-embed\"))\n",
       "        .catch(showError)\n",
       "        .then(() => displayChart(vegaEmbed));\n",
       "    }\n",
       "  })({\"config\": {\"view\": {\"continuousWidth\": 400, \"continuousHeight\": 300}}, \"hconcat\": [{\"mark\": \"bar\", \"encoding\": {\"color\": {\"condition\": {\"type\": \"nominal\", \"field\": \"region\", \"legend\": null, \"selection\": {\"or\": [\" \", \"selector009\"]}}, \"value\": \"lightgray\"}, \"order\": {\"type\": \"quantitative\", \"field\": \"codigo region\", \"sort\": \"descending\"}, \"tooltip\": [{\"type\": \"nominal\", \"field\": \"date\"}, {\"type\": \"nominal\", \"field\": \"region\"}, {\"type\": \"quantitative\", \"field\": \"casos\"}], \"x\": {\"type\": \"ordinal\", \"axis\": {\"title\": \"Fecha (a\\u00f1o-mes-d\\u00eda)\"}, \"field\": \"date\"}, \"y\": {\"type\": \"quantitative\", \"axis\": {\"title\": \"Casos confirmados\"}, \"field\": \"casos\"}}, \"height\": 400, \"selection\": {\" \": {\"type\": \"single\", \"fields\": [\"region\"], \"bind\": {\"input\": \"select\", \"options\": [\"Arica y Parinacota\", \"Tarapac\\u00e1\", \"Antofagasta\", \"Atacama\", \"Coquimbo\", \"Valpara\\u00edso\", \"Metropolitana\", \"O\\u2019Higgins\", \"Maule\", \"\\u00d1uble\", \"Biob\\u00edo\", \"Araucan\\u00eda\", \"Los R\\u00edos\", \"Los Lagos\", \"Ays\\u00e9n\", \"Magallanes\"]}}, \"selector009\": {\"type\": \"multi\", \"fields\": [\"region\"], \"on\": \"mouseover\"}}, \"title\": \"COVID-19 en Chile: Total de casos confirmados por regi\\u00f3n\", \"transform\": [{\"filter\": {\"selection\": \" \"}}], \"width\": 600}, {\"mark\": \"point\", \"encoding\": {\"color\": {\"condition\": {\"type\": \"nominal\", \"field\": \"region\", \"legend\": null, \"selection\": {\"or\": [\" \", \"selector009\"]}}, \"value\": \"lightgray\"}, \"y\": {\"type\": \"nominal\", \"axis\": {\"orient\": \"right\"}, \"field\": \"region\", \"sort\": [\"Arica y Parinacota\", \"Tarapac\\u00e1\", \"Antofagasta\", \"Atacama\", \"Coquimbo\", \"Valpara\\u00edso\", \"Metropolitana\", \"O\\u2019Higgins\", \"Maule\", \"\\u00d1uble\", \"Biob\\u00edo\", \"Araucan\\u00eda\", \"Los R\\u00edos\", \"Los Lagos\", \"Ays\\u00e9n\", \"Magallanes\"]}}, \"selection\": {\" \": {\"type\": \"single\", \"fields\": [\"region\"], \"bind\": {\"input\": \"select\", \"options\": [\"Arica y Parinacota\", \"Tarapac\\u00e1\", \"Antofagasta\", \"Atacama\", \"Coquimbo\", \"Valpara\\u00edso\", \"Metropolitana\", \"O\\u2019Higgins\", \"Maule\", \"\\u00d1uble\", \"Biob\\u00edo\", \"Araucan\\u00eda\", \"Los R\\u00edos\", \"Los Lagos\", \"Ays\\u00e9n\", \"Magallanes\"]}}, \"selector009\": {\"type\": \"multi\", \"fields\": [\"region\"], \"on\": \"mouseover\"}}}], \"data\": {\"name\": \"data-4ce81be7168006e6759d2c0cebb40323\"}, \"$schema\": \"https://vega.github.io/schema/vega-lite/v4.8.1.json\", \"datasets\": {\"data-4ce81be7168006e6759d2c0cebb40323\": [{\"date\": \"2020-03-03\", \"region\": \"Arica y Parinacota\", \"casos\": 0, \"codigo region\": 0}, {\"date\": \"2020-03-03\", \"region\": \"Tarapac\\u00e1\", \"casos\": 0, \"codigo region\": 1}, {\"date\": \"2020-03-03\", \"region\": \"Antofagasta\", \"casos\": 0, \"codigo region\": 2}, {\"date\": \"2020-03-03\", \"region\": \"Atacama\", \"casos\": 0, \"codigo region\": 3}, {\"date\": \"2020-03-03\", \"region\": \"Coquimbo\", \"casos\": 0, \"codigo region\": 4}, {\"date\": \"2020-03-03\", \"region\": \"Valpara\\u00edso\", \"casos\": 0, \"codigo region\": 5}, {\"date\": \"2020-03-03\", \"region\": \"Metropolitana\", \"casos\": 0, \"codigo region\": 6}, {\"date\": \"2020-03-03\", \"region\": \"O\\u2019Higgins\", \"casos\": 0, \"codigo region\": 7}, {\"date\": \"2020-03-03\", \"region\": \"Maule\", \"casos\": 1, \"codigo region\": 8}, {\"date\": \"2020-03-03\", \"region\": \"\\u00d1uble\", \"casos\": 0, \"codigo region\": 9}, {\"date\": \"2020-03-03\", \"region\": \"Biob\\u00edo\", \"casos\": 0, \"codigo region\": 10}, {\"date\": \"2020-03-03\", \"region\": \"Araucan\\u00eda\", \"casos\": 0, \"codigo region\": 11}, {\"date\": \"2020-03-03\", \"region\": \"Los R\\u00edos\", \"casos\": 0, \"codigo region\": 12}, {\"date\": \"2020-03-03\", \"region\": \"Los Lagos\", \"casos\": 0, \"codigo region\": 13}, {\"date\": \"2020-03-03\", \"region\": \"Ays\\u00e9n\", \"casos\": 0, \"codigo region\": 14}, {\"date\": \"2020-03-03\", \"region\": \"Magallanes\", \"casos\": 0, \"codigo region\": 15}, {\"date\": \"2020-03-04\", \"region\": \"Arica y Parinacota\", \"casos\": 0, \"codigo region\": 0}, {\"date\": \"2020-03-04\", \"region\": \"Tarapac\\u00e1\", \"casos\": 0, \"codigo region\": 1}, {\"date\": \"2020-03-04\", \"region\": \"Antofagasta\", \"casos\": 0, \"codigo region\": 2}, {\"date\": \"2020-03-04\", \"region\": \"Atacama\", \"casos\": 0, \"codigo region\": 3}, {\"date\": \"2020-03-04\", \"region\": \"Coquimbo\", \"casos\": 0, \"codigo region\": 4}, {\"date\": \"2020-03-04\", \"region\": \"Valpara\\u00edso\", \"casos\": 0, \"codigo region\": 5}, {\"date\": \"2020-03-04\", \"region\": \"Metropolitana\", \"casos\": 1, \"codigo region\": 6}, {\"date\": \"2020-03-04\", \"region\": \"O\\u2019Higgins\", \"casos\": 0, \"codigo region\": 7}, {\"date\": \"2020-03-04\", \"region\": \"Maule\", \"casos\": 2, \"codigo region\": 8}, {\"date\": \"2020-03-04\", \"region\": \"\\u00d1uble\", \"casos\": 0, \"codigo region\": 9}, {\"date\": \"2020-03-04\", \"region\": \"Biob\\u00edo\", \"casos\": 0, \"codigo region\": 10}, {\"date\": \"2020-03-04\", \"region\": \"Araucan\\u00eda\", \"casos\": 0, \"codigo region\": 11}, {\"date\": \"2020-03-04\", \"region\": \"Los R\\u00edos\", \"casos\": 0, \"codigo region\": 12}, {\"date\": \"2020-03-04\", \"region\": \"Los Lagos\", \"casos\": 0, \"codigo region\": 13}, {\"date\": \"2020-03-04\", \"region\": \"Ays\\u00e9n\", \"casos\": 0, \"codigo region\": 14}, {\"date\": \"2020-03-04\", \"region\": \"Magallanes\", \"casos\": 0, \"codigo region\": 15}, {\"date\": \"2020-03-05\", \"region\": \"Arica y Parinacota\", \"casos\": 0, \"codigo region\": 0}, {\"date\": \"2020-03-05\", \"region\": \"Tarapac\\u00e1\", \"casos\": 0, \"codigo region\": 1}, {\"date\": \"2020-03-05\", \"region\": \"Antofagasta\", \"casos\": 0, \"codigo region\": 2}, {\"date\": \"2020-03-05\", \"region\": \"Atacama\", \"casos\": 0, \"codigo region\": 3}, {\"date\": \"2020-03-05\", \"region\": \"Coquimbo\", \"casos\": 0, \"codigo region\": 4}, {\"date\": \"2020-03-05\", \"region\": \"Valpara\\u00edso\", \"casos\": 0, \"codigo region\": 5}, {\"date\": \"2020-03-05\", \"region\": \"Metropolitana\", \"casos\": 2, \"codigo region\": 6}, {\"date\": \"2020-03-05\", \"region\": \"O\\u2019Higgins\", \"casos\": 0, \"codigo region\": 7}, {\"date\": \"2020-03-05\", \"region\": \"Maule\", \"casos\": 2, \"codigo region\": 8}, {\"date\": \"2020-03-05\", \"region\": \"\\u00d1uble\", \"casos\": 0, \"codigo region\": 9}, {\"date\": \"2020-03-05\", \"region\": \"Biob\\u00edo\", \"casos\": 0, \"codigo region\": 10}, {\"date\": \"2020-03-05\", \"region\": \"Araucan\\u00eda\", \"casos\": 0, \"codigo region\": 11}, {\"date\": \"2020-03-05\", \"region\": \"Los R\\u00edos\", \"casos\": 0, \"codigo region\": 12}, {\"date\": \"2020-03-05\", \"region\": \"Los Lagos\", \"casos\": 0, \"codigo region\": 13}, {\"date\": \"2020-03-05\", \"region\": \"Ays\\u00e9n\", \"casos\": 0, \"codigo region\": 14}, {\"date\": \"2020-03-05\", \"region\": \"Magallanes\", \"casos\": 0, \"codigo region\": 15}, {\"date\": \"2020-03-06\", \"region\": \"Arica y Parinacota\", \"casos\": 0, \"codigo region\": 0}, {\"date\": \"2020-03-06\", \"region\": \"Tarapac\\u00e1\", \"casos\": 0, \"codigo region\": 1}, {\"date\": \"2020-03-06\", \"region\": \"Antofagasta\", \"casos\": 0, \"codigo region\": 2}, {\"date\": \"2020-03-06\", \"region\": \"Atacama\", \"casos\": 0, \"codigo region\": 3}, {\"date\": \"2020-03-06\", \"region\": \"Coquimbo\", \"casos\": 0, \"codigo region\": 4}, {\"date\": \"2020-03-06\", \"region\": \"Valpara\\u00edso\", \"casos\": 0, \"codigo region\": 5}, {\"date\": \"2020-03-06\", \"region\": \"Metropolitana\", \"casos\": 3, \"codigo region\": 6}, {\"date\": \"2020-03-06\", \"region\": \"O\\u2019Higgins\", \"casos\": 0, \"codigo region\": 7}, {\"date\": \"2020-03-06\", \"region\": \"Maule\", \"casos\": 2, \"codigo region\": 8}, {\"date\": \"2020-03-06\", \"region\": \"\\u00d1uble\", \"casos\": 0, \"codigo region\": 9}, {\"date\": \"2020-03-06\", \"region\": \"Biob\\u00edo\", \"casos\": 0, \"codigo region\": 10}, {\"date\": \"2020-03-06\", \"region\": \"Araucan\\u00eda\", \"casos\": 0, \"codigo region\": 11}, {\"date\": \"2020-03-06\", \"region\": \"Los R\\u00edos\", \"casos\": 0, \"codigo region\": 12}, {\"date\": \"2020-03-06\", \"region\": \"Los Lagos\", \"casos\": 0, \"codigo region\": 13}, {\"date\": \"2020-03-06\", \"region\": \"Ays\\u00e9n\", \"casos\": 0, \"codigo region\": 14}, {\"date\": \"2020-03-06\", \"region\": \"Magallanes\", \"casos\": 0, \"codigo region\": 15}, {\"date\": \"2020-03-07\", \"region\": \"Arica y Parinacota\", \"casos\": 0, \"codigo region\": 0}, {\"date\": \"2020-03-07\", \"region\": \"Tarapac\\u00e1\", \"casos\": 0, \"codigo region\": 1}, {\"date\": \"2020-03-07\", \"region\": \"Antofagasta\", \"casos\": 0, \"codigo region\": 2}, {\"date\": \"2020-03-07\", \"region\": \"Atacama\", \"casos\": 0, \"codigo region\": 3}, {\"date\": \"2020-03-07\", \"region\": \"Coquimbo\", \"casos\": 0, \"codigo region\": 4}, {\"date\": \"2020-03-07\", \"region\": \"Valpara\\u00edso\", \"casos\": 0, \"codigo region\": 5}, {\"date\": \"2020-03-07\", \"region\": \"Metropolitana\", \"casos\": 4, \"codigo region\": 6}, {\"date\": \"2020-03-07\", \"region\": \"O\\u2019Higgins\", \"casos\": 0, \"codigo region\": 7}, {\"date\": \"2020-03-07\", \"region\": \"Maule\", \"casos\": 2, \"codigo region\": 8}, {\"date\": \"2020-03-07\", \"region\": \"\\u00d1uble\", \"casos\": 0, \"codigo region\": 9}, {\"date\": \"2020-03-07\", \"region\": \"Biob\\u00edo\", \"casos\": 0, \"codigo region\": 10}, {\"date\": \"2020-03-07\", \"region\": \"Araucan\\u00eda\", \"casos\": 0, \"codigo region\": 11}, {\"date\": \"2020-03-07\", \"region\": \"Los R\\u00edos\", \"casos\": 0, \"codigo region\": 12}, {\"date\": \"2020-03-07\", \"region\": \"Los Lagos\", \"casos\": 1, \"codigo region\": 13}, {\"date\": \"2020-03-07\", \"region\": \"Ays\\u00e9n\", \"casos\": 0, \"codigo region\": 14}, {\"date\": \"2020-03-07\", \"region\": \"Magallanes\", \"casos\": 0, \"codigo region\": 15}, {\"date\": \"2020-03-08\", \"region\": \"Arica y Parinacota\", \"casos\": 0, \"codigo region\": 0}, {\"date\": \"2020-03-08\", \"region\": \"Tarapac\\u00e1\", \"casos\": 0, \"codigo region\": 1}, {\"date\": \"2020-03-08\", \"region\": \"Antofagasta\", \"casos\": 0, \"codigo region\": 2}, {\"date\": \"2020-03-08\", \"region\": \"Atacama\", \"casos\": 0, \"codigo region\": 3}, {\"date\": \"2020-03-08\", \"region\": \"Coquimbo\", \"casos\": 0, \"codigo region\": 4}, {\"date\": \"2020-03-08\", \"region\": \"Valpara\\u00edso\", \"casos\": 0, \"codigo region\": 5}, {\"date\": \"2020-03-08\", \"region\": \"Metropolitana\", \"casos\": 6, \"codigo region\": 6}, {\"date\": \"2020-03-08\", \"region\": \"O\\u2019Higgins\", \"casos\": 0, \"codigo region\": 7}, {\"date\": \"2020-03-08\", \"region\": \"Maule\", \"casos\": 3, \"codigo region\": 8}, {\"date\": \"2020-03-08\", \"region\": \"\\u00d1uble\", \"casos\": 0, \"codigo region\": 9}, {\"date\": \"2020-03-08\", \"region\": \"Biob\\u00edo\", \"casos\": 0, \"codigo region\": 10}, {\"date\": \"2020-03-08\", \"region\": \"Araucan\\u00eda\", \"casos\": 0, \"codigo region\": 11}, {\"date\": \"2020-03-08\", \"region\": \"Los R\\u00edos\", \"casos\": 0, \"codigo region\": 12}, {\"date\": \"2020-03-08\", \"region\": \"Los Lagos\", \"casos\": 1, \"codigo region\": 13}, {\"date\": \"2020-03-08\", \"region\": \"Ays\\u00e9n\", \"casos\": 0, \"codigo region\": 14}, {\"date\": \"2020-03-08\", \"region\": \"Magallanes\", \"casos\": 0, \"codigo region\": 15}, {\"date\": \"2020-03-09\", \"region\": \"Arica y Parinacota\", \"casos\": 0, \"codigo region\": 0}, {\"date\": \"2020-03-09\", \"region\": \"Tarapac\\u00e1\", \"casos\": 0, \"codigo region\": 1}, {\"date\": \"2020-03-09\", \"region\": \"Antofagasta\", \"casos\": 0, \"codigo region\": 2}, {\"date\": \"2020-03-09\", \"region\": \"Atacama\", \"casos\": 0, \"codigo region\": 3}, {\"date\": \"2020-03-09\", \"region\": \"Coquimbo\", \"casos\": 0, \"codigo region\": 4}, {\"date\": \"2020-03-09\", \"region\": \"Valpara\\u00edso\", \"casos\": 0, \"codigo region\": 5}, {\"date\": \"2020-03-09\", \"region\": \"Metropolitana\", \"casos\": 9, \"codigo region\": 6}, {\"date\": \"2020-03-09\", \"region\": \"O\\u2019Higgins\", \"casos\": 0, \"codigo region\": 7}, {\"date\": \"2020-03-09\", \"region\": \"Maule\", \"casos\": 4, \"codigo region\": 8}, {\"date\": \"2020-03-09\", \"region\": \"\\u00d1uble\", \"casos\": 0, \"codigo region\": 9}, {\"date\": \"2020-03-09\", \"region\": \"Biob\\u00edo\", \"casos\": 1, \"codigo region\": 10}, {\"date\": \"2020-03-09\", \"region\": \"Araucan\\u00eda\", \"casos\": 0, \"codigo region\": 11}, {\"date\": \"2020-03-09\", \"region\": \"Los R\\u00edos\", \"casos\": 0, \"codigo region\": 12}, {\"date\": \"2020-03-09\", \"region\": \"Los Lagos\", \"casos\": 1, \"codigo region\": 13}, {\"date\": \"2020-03-09\", \"region\": \"Ays\\u00e9n\", \"casos\": 0, \"codigo region\": 14}, {\"date\": \"2020-03-09\", \"region\": \"Magallanes\", \"casos\": 0, \"codigo region\": 15}, {\"date\": \"2020-03-10\", \"region\": \"Arica y Parinacota\", \"casos\": 0, \"codigo region\": 0}, {\"date\": \"2020-03-10\", \"region\": \"Tarapac\\u00e1\", \"casos\": 0, \"codigo region\": 1}, {\"date\": \"2020-03-10\", \"region\": \"Antofagasta\", \"casos\": 0, \"codigo region\": 2}, {\"date\": \"2020-03-10\", \"region\": \"Atacama\", \"casos\": 0, \"codigo region\": 3}, {\"date\": \"2020-03-10\", \"region\": \"Coquimbo\", \"casos\": 0, \"codigo region\": 4}, {\"date\": \"2020-03-10\", \"region\": \"Valpara\\u00edso\", \"casos\": 0, \"codigo region\": 5}, {\"date\": \"2020-03-10\", \"region\": \"Metropolitana\", \"casos\": 10, \"codigo region\": 6}, {\"date\": \"2020-03-10\", \"region\": \"O\\u2019Higgins\", \"casos\": 0, \"codigo region\": 7}, {\"date\": \"2020-03-10\", \"region\": \"Maule\", \"casos\": 5, \"codigo region\": 8}, {\"date\": \"2020-03-10\", \"region\": \"\\u00d1uble\", \"casos\": 0, \"codigo region\": 9}, {\"date\": \"2020-03-10\", \"region\": \"Biob\\u00edo\", \"casos\": 1, \"codigo region\": 10}, {\"date\": \"2020-03-10\", \"region\": \"Araucan\\u00eda\", \"casos\": 0, \"codigo region\": 11}, {\"date\": \"2020-03-10\", \"region\": \"Los R\\u00edos\", \"casos\": 0, \"codigo region\": 12}, {\"date\": \"2020-03-10\", \"region\": \"Los Lagos\", \"casos\": 1, \"codigo region\": 13}, {\"date\": \"2020-03-10\", \"region\": \"Ays\\u00e9n\", \"casos\": 0, \"codigo region\": 14}, {\"date\": \"2020-03-10\", \"region\": \"Magallanes\", \"casos\": 0, \"codigo region\": 15}, {\"date\": \"2020-03-11\", \"region\": \"Arica y Parinacota\", \"casos\": 0, \"codigo region\": 0}, {\"date\": \"2020-03-11\", \"region\": \"Tarapac\\u00e1\", \"casos\": 0, \"codigo region\": 1}, {\"date\": \"2020-03-11\", \"region\": \"Antofagasta\", \"casos\": 0, \"codigo region\": 2}, {\"date\": \"2020-03-11\", \"region\": \"Atacama\", \"casos\": 0, \"codigo region\": 3}, {\"date\": \"2020-03-11\", \"region\": \"Coquimbo\", \"casos\": 0, \"codigo region\": 4}, {\"date\": \"2020-03-11\", \"region\": \"Valpara\\u00edso\", \"casos\": 0, \"codigo region\": 5}, {\"date\": \"2020-03-11\", \"region\": \"Metropolitana\", \"casos\": 14, \"codigo region\": 6}, {\"date\": \"2020-03-11\", \"region\": \"O\\u2019Higgins\", \"casos\": 0, \"codigo region\": 7}, {\"date\": \"2020-03-11\", \"region\": \"Maule\", \"casos\": 7, \"codigo region\": 8}, {\"date\": \"2020-03-11\", \"region\": \"\\u00d1uble\", \"casos\": 0, \"codigo region\": 9}, {\"date\": \"2020-03-11\", \"region\": \"Biob\\u00edo\", \"casos\": 1, \"codigo region\": 10}, {\"date\": \"2020-03-11\", \"region\": \"Araucan\\u00eda\", \"casos\": 0, \"codigo region\": 11}, {\"date\": \"2020-03-11\", \"region\": \"Los R\\u00edos\", \"casos\": 0, \"codigo region\": 12}, {\"date\": \"2020-03-11\", \"region\": \"Los Lagos\", \"casos\": 1, \"codigo region\": 13}, {\"date\": \"2020-03-11\", \"region\": \"Ays\\u00e9n\", \"casos\": 0, \"codigo region\": 14}, {\"date\": \"2020-03-11\", \"region\": \"Magallanes\", \"casos\": 0, \"codigo region\": 15}, {\"date\": \"2020-03-12\", \"region\": \"Arica y Parinacota\", \"casos\": 0, \"codigo region\": 0}, {\"date\": \"2020-03-12\", \"region\": \"Tarapac\\u00e1\", \"casos\": 0, \"codigo region\": 1}, {\"date\": \"2020-03-12\", \"region\": \"Antofagasta\", \"casos\": 0, \"codigo region\": 2}, {\"date\": \"2020-03-12\", \"region\": \"Atacama\", \"casos\": 0, \"codigo region\": 3}, {\"date\": \"2020-03-12\", \"region\": \"Coquimbo\", \"casos\": 0, \"codigo region\": 4}, {\"date\": \"2020-03-12\", \"region\": \"Valpara\\u00edso\", \"casos\": 0, \"codigo region\": 5}, {\"date\": \"2020-03-12\", \"region\": \"Metropolitana\", \"casos\": 23, \"codigo region\": 6}, {\"date\": \"2020-03-12\", \"region\": \"O\\u2019Higgins\", \"casos\": 0, \"codigo region\": 7}, {\"date\": \"2020-03-12\", \"region\": \"Maule\", \"casos\": 7, \"codigo region\": 8}, {\"date\": \"2020-03-12\", \"region\": \"\\u00d1uble\", \"casos\": 1, \"codigo region\": 9}, {\"date\": \"2020-03-12\", \"region\": \"Biob\\u00edo\", \"casos\": 1, \"codigo region\": 10}, {\"date\": \"2020-03-12\", \"region\": \"Araucan\\u00eda\", \"casos\": 0, \"codigo region\": 11}, {\"date\": \"2020-03-12\", \"region\": \"Los R\\u00edos\", \"casos\": 0, \"codigo region\": 12}, {\"date\": \"2020-03-12\", \"region\": \"Los Lagos\", \"casos\": 1, \"codigo region\": 13}, {\"date\": \"2020-03-12\", \"region\": \"Ays\\u00e9n\", \"casos\": 0, \"codigo region\": 14}, {\"date\": \"2020-03-12\", \"region\": \"Magallanes\", \"casos\": 0, \"codigo region\": 15}, {\"date\": \"2020-03-13\", \"region\": \"Arica y Parinacota\", \"casos\": 0, \"codigo region\": 0}, {\"date\": \"2020-03-13\", \"region\": \"Tarapac\\u00e1\", \"casos\": 0, \"codigo region\": 1}, {\"date\": \"2020-03-13\", \"region\": \"Antofagasta\", \"casos\": 0, \"codigo region\": 2}, {\"date\": \"2020-03-13\", \"region\": \"Atacama\", \"casos\": 0, \"codigo region\": 3}, {\"date\": \"2020-03-13\", \"region\": \"Coquimbo\", \"casos\": 0, \"codigo region\": 4}, {\"date\": \"2020-03-13\", \"region\": \"Valpara\\u00edso\", \"casos\": 0, \"codigo region\": 5}, {\"date\": \"2020-03-13\", \"region\": \"Metropolitana\", \"casos\": 29, \"codigo region\": 6}, {\"date\": \"2020-03-13\", \"region\": \"O\\u2019Higgins\", \"casos\": 0, \"codigo region\": 7}, {\"date\": \"2020-03-13\", \"region\": \"Maule\", \"casos\": 8, \"codigo region\": 8}, {\"date\": \"2020-03-13\", \"region\": \"\\u00d1uble\", \"casos\": 2, \"codigo region\": 9}, {\"date\": \"2020-03-13\", \"region\": \"Biob\\u00edo\", \"casos\": 3, \"codigo region\": 10}, {\"date\": \"2020-03-13\", \"region\": \"Araucan\\u00eda\", \"casos\": 0, \"codigo region\": 11}, {\"date\": \"2020-03-13\", \"region\": \"Los R\\u00edos\", \"casos\": 0, \"codigo region\": 12}, {\"date\": \"2020-03-13\", \"region\": \"Los Lagos\", \"casos\": 1, \"codigo region\": 13}, {\"date\": \"2020-03-13\", \"region\": \"Ays\\u00e9n\", \"casos\": 0, \"codigo region\": 14}, {\"date\": \"2020-03-13\", \"region\": \"Magallanes\", \"casos\": 0, \"codigo region\": 15}, {\"date\": \"2020-03-14\", \"region\": \"Arica y Parinacota\", \"casos\": 0, \"codigo region\": 0}, {\"date\": \"2020-03-14\", \"region\": \"Tarapac\\u00e1\", \"casos\": 0, \"codigo region\": 1}, {\"date\": \"2020-03-14\", \"region\": \"Antofagasta\", \"casos\": 2, \"codigo region\": 2}, {\"date\": \"2020-03-14\", \"region\": \"Atacama\", \"casos\": 1, \"codigo region\": 3}, {\"date\": \"2020-03-14\", \"region\": \"Coquimbo\", \"casos\": 0, \"codigo region\": 4}, {\"date\": \"2020-03-14\", \"region\": \"Valpara\\u00edso\", \"casos\": 0, \"codigo region\": 5}, {\"date\": \"2020-03-14\", \"region\": \"Metropolitana\", \"casos\": 40, \"codigo region\": 6}, {\"date\": \"2020-03-14\", \"region\": \"O\\u2019Higgins\", \"casos\": 0, \"codigo region\": 7}, {\"date\": \"2020-03-14\", \"region\": \"Maule\", \"casos\": 9, \"codigo region\": 8}, {\"date\": \"2020-03-14\", \"region\": \"\\u00d1uble\", \"casos\": 4, \"codigo region\": 9}, {\"date\": \"2020-03-14\", \"region\": \"Biob\\u00edo\", \"casos\": 3, \"codigo region\": 10}, {\"date\": \"2020-03-14\", \"region\": \"Araucan\\u00eda\", \"casos\": 0, \"codigo region\": 11}, {\"date\": \"2020-03-14\", \"region\": \"Los R\\u00edos\", \"casos\": 0, \"codigo region\": 12}, {\"date\": \"2020-03-14\", \"region\": \"Los Lagos\", \"casos\": 1, \"codigo region\": 13}, {\"date\": \"2020-03-14\", \"region\": \"Ays\\u00e9n\", \"casos\": 1, \"codigo region\": 14}, {\"date\": \"2020-03-14\", \"region\": \"Magallanes\", \"casos\": 0, \"codigo region\": 15}, {\"date\": \"2020-03-15\", \"region\": \"Arica y Parinacota\", \"casos\": 0, \"codigo region\": 0}, {\"date\": \"2020-03-15\", \"region\": \"Tarapac\\u00e1\", \"casos\": 0, \"codigo region\": 1}, {\"date\": \"2020-03-15\", \"region\": \"Antofagasta\", \"casos\": 2, \"codigo region\": 2}, {\"date\": \"2020-03-15\", \"region\": \"Atacama\", \"casos\": 1, \"codigo region\": 3}, {\"date\": \"2020-03-15\", \"region\": \"Coquimbo\", \"casos\": 0, \"codigo region\": 4}, {\"date\": \"2020-03-15\", \"region\": \"Valpara\\u00edso\", \"casos\": 0, \"codigo region\": 5}, {\"date\": \"2020-03-15\", \"region\": \"Metropolitana\", \"casos\": 54, \"codigo region\": 6}, {\"date\": \"2020-03-15\", \"region\": \"O\\u2019Higgins\", \"casos\": 0, \"codigo region\": 7}, {\"date\": \"2020-03-15\", \"region\": \"Maule\", \"casos\": 9, \"codigo region\": 8}, {\"date\": \"2020-03-15\", \"region\": \"\\u00d1uble\", \"casos\": 4, \"codigo region\": 9}, {\"date\": \"2020-03-15\", \"region\": \"Biob\\u00edo\", \"casos\": 3, \"codigo region\": 10}, {\"date\": \"2020-03-15\", \"region\": \"Araucan\\u00eda\", \"casos\": 0, \"codigo region\": 11}, {\"date\": \"2020-03-15\", \"region\": \"Los R\\u00edos\", \"casos\": 0, \"codigo region\": 12}, {\"date\": \"2020-03-15\", \"region\": \"Los Lagos\", \"casos\": 1, \"codigo region\": 13}, {\"date\": \"2020-03-15\", \"region\": \"Ays\\u00e9n\", \"casos\": 1, \"codigo region\": 14}, {\"date\": \"2020-03-15\", \"region\": \"Magallanes\", \"casos\": 0, \"codigo region\": 15}, {\"date\": \"2020-03-16\", \"region\": \"Arica y Parinacota\", \"casos\": 0, \"codigo region\": 0}, {\"date\": \"2020-03-16\", \"region\": \"Tarapac\\u00e1\", \"casos\": 0, \"codigo region\": 1}, {\"date\": \"2020-03-16\", \"region\": \"Antofagasta\", \"casos\": 2, \"codigo region\": 2}, {\"date\": \"2020-03-16\", \"region\": \"Atacama\", \"casos\": 1, \"codigo region\": 3}, {\"date\": \"2020-03-16\", \"region\": \"Coquimbo\", \"casos\": 0, \"codigo region\": 4}, {\"date\": \"2020-03-16\", \"region\": \"Valpara\\u00edso\", \"casos\": 1, \"codigo region\": 5}, {\"date\": \"2020-03-16\", \"region\": \"Metropolitana\", \"casos\": 123, \"codigo region\": 6}, {\"date\": \"2020-03-16\", \"region\": \"O\\u2019Higgins\", \"casos\": 0, \"codigo region\": 7}, {\"date\": \"2020-03-16\", \"region\": \"Maule\", \"casos\": 9, \"codigo region\": 8}, {\"date\": \"2020-03-16\", \"region\": \"\\u00d1uble\", \"casos\": 12, \"codigo region\": 9}, {\"date\": \"2020-03-16\", \"region\": \"Biob\\u00edo\", \"casos\": 4, \"codigo region\": 10}, {\"date\": \"2020-03-16\", \"region\": \"Araucan\\u00eda\", \"casos\": 1, \"codigo region\": 11}, {\"date\": \"2020-03-16\", \"region\": \"Los R\\u00edos\", \"casos\": 1, \"codigo region\": 12}, {\"date\": \"2020-03-16\", \"region\": \"Los Lagos\", \"casos\": 1, \"codigo region\": 13}, {\"date\": \"2020-03-16\", \"region\": \"Ays\\u00e9n\", \"casos\": 1, \"codigo region\": 14}, {\"date\": \"2020-03-16\", \"region\": \"Magallanes\", \"casos\": 0, \"codigo region\": 15}, {\"date\": \"2020-03-17\", \"region\": \"Arica y Parinacota\", \"casos\": 0, \"codigo region\": 0}, {\"date\": \"2020-03-17\", \"region\": \"Tarapac\\u00e1\", \"casos\": 0, \"codigo region\": 1}, {\"date\": \"2020-03-17\", \"region\": \"Antofagasta\", \"casos\": 2, \"codigo region\": 2}, {\"date\": \"2020-03-17\", \"region\": \"Atacama\", \"casos\": 1, \"codigo region\": 3}, {\"date\": \"2020-03-17\", \"region\": \"Coquimbo\", \"casos\": 0, \"codigo region\": 4}, {\"date\": \"2020-03-17\", \"region\": \"Valpara\\u00edso\", \"casos\": 1, \"codigo region\": 5}, {\"date\": \"2020-03-17\", \"region\": \"Metropolitana\", \"casos\": 152, \"codigo region\": 6}, {\"date\": \"2020-03-17\", \"region\": \"O\\u2019Higgins\", \"casos\": 0, \"codigo region\": 7}, {\"date\": \"2020-03-17\", \"region\": \"Maule\", \"casos\": 9, \"codigo region\": 8}, {\"date\": \"2020-03-17\", \"region\": \"\\u00d1uble\", \"casos\": 26, \"codigo region\": 9}, {\"date\": \"2020-03-17\", \"region\": \"Biob\\u00edo\", \"casos\": 4, \"codigo region\": 10}, {\"date\": \"2020-03-17\", \"region\": \"Araucan\\u00eda\", \"casos\": 1, \"codigo region\": 11}, {\"date\": \"2020-03-17\", \"region\": \"Los R\\u00edos\", \"casos\": 1, \"codigo region\": 12}, {\"date\": \"2020-03-17\", \"region\": \"Los Lagos\", \"casos\": 1, \"codigo region\": 13}, {\"date\": \"2020-03-17\", \"region\": \"Ays\\u00e9n\", \"casos\": 1, \"codigo region\": 14}, {\"date\": \"2020-03-17\", \"region\": \"Magallanes\", \"casos\": 2, \"codigo region\": 15}, {\"date\": \"2020-03-18\", \"region\": \"Arica y Parinacota\", \"casos\": 0, \"codigo region\": 0}, {\"date\": \"2020-03-18\", \"region\": \"Tarapac\\u00e1\", \"casos\": 0, \"codigo region\": 1}, {\"date\": \"2020-03-18\", \"region\": \"Antofagasta\", \"casos\": 2, \"codigo region\": 2}, {\"date\": \"2020-03-18\", \"region\": \"Atacama\", \"casos\": 1, \"codigo region\": 3}, {\"date\": \"2020-03-18\", \"region\": \"Coquimbo\", \"casos\": 0, \"codigo region\": 4}, {\"date\": \"2020-03-18\", \"region\": \"Valpara\\u00edso\", \"casos\": 1, \"codigo region\": 5}, {\"date\": \"2020-03-18\", \"region\": \"Metropolitana\", \"casos\": 174, \"codigo region\": 6}, {\"date\": \"2020-03-18\", \"region\": \"O\\u2019Higgins\", \"casos\": 0, \"codigo region\": 7}, {\"date\": \"2020-03-18\", \"region\": \"Maule\", \"casos\": 11, \"codigo region\": 8}, {\"date\": \"2020-03-18\", \"region\": \"\\u00d1uble\", \"casos\": 26, \"codigo region\": 9}, {\"date\": \"2020-03-18\", \"region\": \"Biob\\u00edo\", \"casos\": 7, \"codigo region\": 10}, {\"date\": \"2020-03-18\", \"region\": \"Araucan\\u00eda\", \"casos\": 4, \"codigo region\": 11}, {\"date\": \"2020-03-18\", \"region\": \"Los R\\u00edos\", \"casos\": 1, \"codigo region\": 12}, {\"date\": \"2020-03-18\", \"region\": \"Los Lagos\", \"casos\": 8, \"codigo region\": 13}, {\"date\": \"2020-03-18\", \"region\": \"Ays\\u00e9n\", \"casos\": 1, \"codigo region\": 14}, {\"date\": \"2020-03-18\", \"region\": \"Magallanes\", \"casos\": 2, \"codigo region\": 15}, {\"date\": \"2020-03-19\", \"region\": \"Arica y Parinacota\", \"casos\": 1, \"codigo region\": 0}, {\"date\": \"2020-03-19\", \"region\": \"Tarapac\\u00e1\", \"casos\": 0, \"codigo region\": 1}, {\"date\": \"2020-03-19\", \"region\": \"Antofagasta\", \"casos\": 2, \"codigo region\": 2}, {\"date\": \"2020-03-19\", \"region\": \"Atacama\", \"casos\": 1, \"codigo region\": 3}, {\"date\": \"2020-03-19\", \"region\": \"Coquimbo\", \"casos\": 2, \"codigo region\": 4}, {\"date\": \"2020-03-19\", \"region\": \"Valpara\\u00edso\", \"casos\": 4, \"codigo region\": 5}, {\"date\": \"2020-03-19\", \"region\": \"Metropolitana\", \"casos\": 247, \"codigo region\": 6}, {\"date\": \"2020-03-19\", \"region\": \"O\\u2019Higgins\", \"casos\": 2, \"codigo region\": 7}, {\"date\": \"2020-03-19\", \"region\": \"Maule\", \"casos\": 14, \"codigo region\": 8}, {\"date\": \"2020-03-19\", \"region\": \"\\u00d1uble\", \"casos\": 28, \"codigo region\": 9}, {\"date\": \"2020-03-19\", \"region\": \"Biob\\u00edo\", \"casos\": 14, \"codigo region\": 10}, {\"date\": \"2020-03-19\", \"region\": \"Araucan\\u00eda\", \"casos\": 7, \"codigo region\": 11}, {\"date\": \"2020-03-19\", \"region\": \"Los R\\u00edos\", \"casos\": 1, \"codigo region\": 12}, {\"date\": \"2020-03-19\", \"region\": \"Los Lagos\", \"casos\": 16, \"codigo region\": 13}, {\"date\": \"2020-03-19\", \"region\": \"Ays\\u00e9n\", \"casos\": 1, \"codigo region\": 14}, {\"date\": \"2020-03-19\", \"region\": \"Magallanes\", \"casos\": 2, \"codigo region\": 15}, {\"date\": \"2020-03-20\", \"region\": \"Arica y Parinacota\", \"casos\": 1, \"codigo region\": 0}, {\"date\": \"2020-03-20\", \"region\": \"Tarapac\\u00e1\", \"casos\": 0, \"codigo region\": 1}, {\"date\": \"2020-03-20\", \"region\": \"Antofagasta\", \"casos\": 6, \"codigo region\": 2}, {\"date\": \"2020-03-20\", \"region\": \"Atacama\", \"casos\": 1, \"codigo region\": 3}, {\"date\": \"2020-03-20\", \"region\": \"Coquimbo\", \"casos\": 3, \"codigo region\": 4}, {\"date\": \"2020-03-20\", \"region\": \"Valpara\\u00edso\", \"casos\": 5, \"codigo region\": 5}, {\"date\": \"2020-03-20\", \"region\": \"Metropolitana\", \"casos\": 304, \"codigo region\": 6}, {\"date\": \"2020-03-20\", \"region\": \"O\\u2019Higgins\", \"casos\": 6, \"codigo region\": 7}, {\"date\": \"2020-03-20\", \"region\": \"Maule\", \"casos\": 14, \"codigo region\": 8}, {\"date\": \"2020-03-20\", \"region\": \"\\u00d1uble\", \"casos\": 44, \"codigo region\": 9}, {\"date\": \"2020-03-20\", \"region\": \"Biob\\u00edo\", \"casos\": 19, \"codigo region\": 10}, {\"date\": \"2020-03-20\", \"region\": \"Araucan\\u00eda\", \"casos\": 9, \"codigo region\": 11}, {\"date\": \"2020-03-20\", \"region\": \"Los R\\u00edos\", \"casos\": 1, \"codigo region\": 12}, {\"date\": \"2020-03-20\", \"region\": \"Los Lagos\", \"casos\": 18, \"codigo region\": 13}, {\"date\": \"2020-03-20\", \"region\": \"Ays\\u00e9n\", \"casos\": 1, \"codigo region\": 14}, {\"date\": \"2020-03-20\", \"region\": \"Magallanes\", \"casos\": 2, \"codigo region\": 15}, {\"date\": \"2020-03-21\", \"region\": \"Arica y Parinacota\", \"casos\": 1, \"codigo region\": 0}, {\"date\": \"2020-03-21\", \"region\": \"Tarapac\\u00e1\", \"casos\": 0, \"codigo region\": 1}, {\"date\": \"2020-03-21\", \"region\": \"Antofagasta\", \"casos\": 10, \"codigo region\": 2}, {\"date\": \"2020-03-21\", \"region\": \"Atacama\", \"casos\": 1, \"codigo region\": 3}, {\"date\": \"2020-03-21\", \"region\": \"Coquimbo\", \"casos\": 3, \"codigo region\": 4}, {\"date\": \"2020-03-21\", \"region\": \"Valpara\\u00edso\", \"casos\": 13, \"codigo region\": 5}, {\"date\": \"2020-03-21\", \"region\": \"Metropolitana\", \"casos\": 359, \"codigo region\": 6}, {\"date\": \"2020-03-21\", \"region\": \"O\\u2019Higgins\", \"casos\": 7, \"codigo region\": 7}, {\"date\": \"2020-03-21\", \"region\": \"Maule\", \"casos\": 15, \"codigo region\": 8}, {\"date\": \"2020-03-21\", \"region\": \"\\u00d1uble\", \"casos\": 58, \"codigo region\": 9}, {\"date\": \"2020-03-21\", \"region\": \"Biob\\u00edo\", \"casos\": 30, \"codigo region\": 10}, {\"date\": \"2020-03-21\", \"region\": \"Araucan\\u00eda\", \"casos\": 15, \"codigo region\": 11}, {\"date\": \"2020-03-21\", \"region\": \"Los R\\u00edos\", \"casos\": 1, \"codigo region\": 12}, {\"date\": \"2020-03-21\", \"region\": \"Los Lagos\", \"casos\": 20, \"codigo region\": 13}, {\"date\": \"2020-03-21\", \"region\": \"Ays\\u00e9n\", \"casos\": 1, \"codigo region\": 14}, {\"date\": \"2020-03-21\", \"region\": \"Magallanes\", \"casos\": 3, \"codigo region\": 15}, {\"date\": \"2020-03-22\", \"region\": \"Arica y Parinacota\", \"casos\": 2, \"codigo region\": 0}, {\"date\": \"2020-03-22\", \"region\": \"Tarapac\\u00e1\", \"casos\": 0, \"codigo region\": 1}, {\"date\": \"2020-03-22\", \"region\": \"Antofagasta\", \"casos\": 11, \"codigo region\": 2}, {\"date\": \"2020-03-22\", \"region\": \"Atacama\", \"casos\": 1, \"codigo region\": 3}, {\"date\": \"2020-03-22\", \"region\": \"Coquimbo\", \"casos\": 5, \"codigo region\": 4}, {\"date\": \"2020-03-22\", \"region\": \"Valpara\\u00edso\", \"casos\": 16, \"codigo region\": 5}, {\"date\": \"2020-03-22\", \"region\": \"Metropolitana\", \"casos\": 409, \"codigo region\": 6}, {\"date\": \"2020-03-22\", \"region\": \"O\\u2019Higgins\", \"casos\": 8, \"codigo region\": 7}, {\"date\": \"2020-03-22\", \"region\": \"Maule\", \"casos\": 25, \"codigo region\": 8}, {\"date\": \"2020-03-22\", \"region\": \"\\u00d1uble\", \"casos\": 64, \"codigo region\": 9}, {\"date\": \"2020-03-22\", \"region\": \"Biob\\u00edo\", \"casos\": 35, \"codigo region\": 10}, {\"date\": \"2020-03-22\", \"region\": \"Araucan\\u00eda\", \"casos\": 27, \"codigo region\": 11}, {\"date\": \"2020-03-22\", \"region\": \"Los R\\u00edos\", \"casos\": 1, \"codigo region\": 12}, {\"date\": \"2020-03-22\", \"region\": \"Los Lagos\", \"casos\": 23, \"codigo region\": 13}, {\"date\": \"2020-03-22\", \"region\": \"Ays\\u00e9n\", \"casos\": 1, \"codigo region\": 14}, {\"date\": \"2020-03-22\", \"region\": \"Magallanes\", \"casos\": 4, \"codigo region\": 15}, {\"date\": \"2020-03-23\", \"region\": \"Arica y Parinacota\", \"casos\": 2, \"codigo region\": 0}, {\"date\": \"2020-03-23\", \"region\": \"Tarapac\\u00e1\", \"casos\": 1, \"codigo region\": 1}, {\"date\": \"2020-03-23\", \"region\": \"Antofagasta\", \"casos\": 11, \"codigo region\": 2}, {\"date\": \"2020-03-23\", \"region\": \"Atacama\", \"casos\": 1, \"codigo region\": 3}, {\"date\": \"2020-03-23\", \"region\": \"Coquimbo\", \"casos\": 6, \"codigo region\": 4}, {\"date\": \"2020-03-23\", \"region\": \"Valpara\\u00edso\", \"casos\": 19, \"codigo region\": 5}, {\"date\": \"2020-03-23\", \"region\": \"Metropolitana\", \"casos\": 459, \"codigo region\": 6}, {\"date\": \"2020-03-23\", \"region\": \"O\\u2019Higgins\", \"casos\": 8, \"codigo region\": 7}, {\"date\": \"2020-03-23\", \"region\": \"Maule\", \"casos\": 28, \"codigo region\": 8}, {\"date\": \"2020-03-23\", \"region\": \"\\u00d1uble\", \"casos\": 81, \"codigo region\": 9}, {\"date\": \"2020-03-23\", \"region\": \"Biob\\u00edo\", \"casos\": 46, \"codigo region\": 10}, {\"date\": \"2020-03-23\", \"region\": \"Araucan\\u00eda\", \"casos\": 40, \"codigo region\": 11}, {\"date\": \"2020-03-23\", \"region\": \"Los R\\u00edos\", \"casos\": 4, \"codigo region\": 12}, {\"date\": \"2020-03-23\", \"region\": \"Los Lagos\", \"casos\": 33, \"codigo region\": 13}, {\"date\": \"2020-03-23\", \"region\": \"Ays\\u00e9n\", \"casos\": 1, \"codigo region\": 14}, {\"date\": \"2020-03-23\", \"region\": \"Magallanes\", \"casos\": 6, \"codigo region\": 15}, {\"date\": \"2020-03-24\", \"region\": \"Arica y Parinacota\", \"casos\": 2, \"codigo region\": 0}, {\"date\": \"2020-03-24\", \"region\": \"Tarapac\\u00e1\", \"casos\": 4, \"codigo region\": 1}, {\"date\": \"2020-03-24\", \"region\": \"Antofagasta\", \"casos\": 13, \"codigo region\": 2}, {\"date\": \"2020-03-24\", \"region\": \"Atacama\", \"casos\": 1, \"codigo region\": 3}, {\"date\": \"2020-03-24\", \"region\": \"Coquimbo\", \"casos\": 11, \"codigo region\": 4}, {\"date\": \"2020-03-24\", \"region\": \"Valpara\\u00edso\", \"casos\": 25, \"codigo region\": 5}, {\"date\": \"2020-03-24\", \"region\": \"Metropolitana\", \"casos\": 540, \"codigo region\": 6}, {\"date\": \"2020-03-24\", \"region\": \"O\\u2019Higgins\", \"casos\": 9, \"codigo region\": 7}, {\"date\": \"2020-03-24\", \"region\": \"Maule\", \"casos\": 29, \"codigo region\": 8}, {\"date\": \"2020-03-24\", \"region\": \"\\u00d1uble\", \"casos\": 105, \"codigo region\": 9}, {\"date\": \"2020-03-24\", \"region\": \"Biob\\u00edo\", \"casos\": 73, \"codigo region\": 10}, {\"date\": \"2020-03-24\", \"region\": \"Araucan\\u00eda\", \"casos\": 59, \"codigo region\": 11}, {\"date\": \"2020-03-24\", \"region\": \"Los R\\u00edos\", \"casos\": 6, \"codigo region\": 12}, {\"date\": \"2020-03-24\", \"region\": \"Los Lagos\", \"casos\": 36, \"codigo region\": 13}, {\"date\": \"2020-03-24\", \"region\": \"Ays\\u00e9n\", \"casos\": 1, \"codigo region\": 14}, {\"date\": \"2020-03-24\", \"region\": \"Magallanes\", \"casos\": 8, \"codigo region\": 15}, {\"date\": \"2020-03-25\", \"region\": \"Arica y Parinacota\", \"casos\": 2, \"codigo region\": 0}, {\"date\": \"2020-03-25\", \"region\": \"Tarapac\\u00e1\", \"casos\": 4, \"codigo region\": 1}, {\"date\": \"2020-03-25\", \"region\": \"Antofagasta\", \"casos\": 19, \"codigo region\": 2}, {\"date\": \"2020-03-25\", \"region\": \"Atacama\", \"casos\": 1, \"codigo region\": 3}, {\"date\": \"2020-03-25\", \"region\": \"Coquimbo\", \"casos\": 12, \"codigo region\": 4}, {\"date\": \"2020-03-25\", \"region\": \"Valpara\\u00edso\", \"casos\": 32, \"codigo region\": 5}, {\"date\": \"2020-03-25\", \"region\": \"Metropolitana\", \"casos\": 682, \"codigo region\": 6}, {\"date\": \"2020-03-25\", \"region\": \"O\\u2019Higgins\", \"casos\": 11, \"codigo region\": 7}, {\"date\": \"2020-03-25\", \"region\": \"Maule\", \"casos\": 30, \"codigo region\": 8}, {\"date\": \"2020-03-25\", \"region\": \"\\u00d1uble\", \"casos\": 111, \"codigo region\": 9}, {\"date\": \"2020-03-25\", \"region\": \"Biob\\u00edo\", \"casos\": 95, \"codigo region\": 10}, {\"date\": \"2020-03-25\", \"region\": \"Araucan\\u00eda\", \"casos\": 74, \"codigo region\": 11}, {\"date\": \"2020-03-25\", \"region\": \"Los R\\u00edos\", \"casos\": 11, \"codigo region\": 12}, {\"date\": \"2020-03-25\", \"region\": \"Los Lagos\", \"casos\": 44, \"codigo region\": 13}, {\"date\": \"2020-03-25\", \"region\": \"Ays\\u00e9n\", \"casos\": 1, \"codigo region\": 14}, {\"date\": \"2020-03-25\", \"region\": \"Magallanes\", \"casos\": 13, \"codigo region\": 15}, {\"date\": \"2020-03-26\", \"region\": \"Arica y Parinacota\", \"casos\": 3, \"codigo region\": 0}, {\"date\": \"2020-03-26\", \"region\": \"Tarapac\\u00e1\", \"casos\": 5, \"codigo region\": 1}, {\"date\": \"2020-03-26\", \"region\": \"Antofagasta\", \"casos\": 20, \"codigo region\": 2}, {\"date\": \"2020-03-26\", \"region\": \"Atacama\", \"casos\": 1, \"codigo region\": 3}, {\"date\": \"2020-03-26\", \"region\": \"Coquimbo\", \"casos\": 13, \"codigo region\": 4}, {\"date\": \"2020-03-26\", \"region\": \"Valpara\\u00edso\", \"casos\": 44, \"codigo region\": 5}, {\"date\": \"2020-03-26\", \"region\": \"Metropolitana\", \"casos\": 746, \"codigo region\": 6}, {\"date\": \"2020-03-26\", \"region\": \"O\\u2019Higgins\", \"casos\": 14, \"codigo region\": 7}, {\"date\": \"2020-03-26\", \"region\": \"Maule\", \"casos\": 31, \"codigo region\": 8}, {\"date\": \"2020-03-26\", \"region\": \"\\u00d1uble\", \"casos\": 114, \"codigo region\": 9}, {\"date\": \"2020-03-26\", \"region\": \"Biob\\u00edo\", \"casos\": 109, \"codigo region\": 10}, {\"date\": \"2020-03-26\", \"region\": \"Araucan\\u00eda\", \"casos\": 111, \"codigo region\": 11}, {\"date\": \"2020-03-26\", \"region\": \"Los R\\u00edos\", \"casos\": 14, \"codigo region\": 12}, {\"date\": \"2020-03-26\", \"region\": \"Los Lagos\", \"casos\": 60, \"codigo region\": 13}, {\"date\": \"2020-03-26\", \"region\": \"Ays\\u00e9n\", \"casos\": 2, \"codigo region\": 14}, {\"date\": \"2020-03-26\", \"region\": \"Magallanes\", \"casos\": 19, \"codigo region\": 15}, {\"date\": \"2020-03-27\", \"region\": \"Arica y Parinacota\", \"casos\": 3, \"codigo region\": 0}, {\"date\": \"2020-03-27\", \"region\": \"Tarapac\\u00e1\", \"casos\": 5, \"codigo region\": 1}, {\"date\": \"2020-03-27\", \"region\": \"Antofagasta\", \"casos\": 21, \"codigo region\": 2}, {\"date\": \"2020-03-27\", \"region\": \"Atacama\", \"casos\": 1, \"codigo region\": 3}, {\"date\": \"2020-03-27\", \"region\": \"Coquimbo\", \"casos\": 14, \"codigo region\": 4}, {\"date\": \"2020-03-27\", \"region\": \"Valpara\\u00edso\", \"casos\": 49, \"codigo region\": 5}, {\"date\": \"2020-03-27\", \"region\": \"Metropolitana\", \"casos\": 938, \"codigo region\": 6}, {\"date\": \"2020-03-27\", \"region\": \"O\\u2019Higgins\", \"casos\": 16, \"codigo region\": 7}, {\"date\": \"2020-03-27\", \"region\": \"Maule\", \"casos\": 32, \"codigo region\": 8}, {\"date\": \"2020-03-27\", \"region\": \"\\u00d1uble\", \"casos\": 144, \"codigo region\": 9}, {\"date\": \"2020-03-27\", \"region\": \"Biob\\u00edo\", \"casos\": 135, \"codigo region\": 10}, {\"date\": \"2020-03-27\", \"region\": \"Araucan\\u00eda\", \"casos\": 143, \"codigo region\": 11}, {\"date\": \"2020-03-27\", \"region\": \"Los R\\u00edos\", \"casos\": 22, \"codigo region\": 12}, {\"date\": \"2020-03-27\", \"region\": \"Los Lagos\", \"casos\": 63, \"codigo region\": 13}, {\"date\": \"2020-03-27\", \"region\": \"Ays\\u00e9n\", \"casos\": 2, \"codigo region\": 14}, {\"date\": \"2020-03-27\", \"region\": \"Magallanes\", \"casos\": 22, \"codigo region\": 15}, {\"date\": \"2020-03-28\", \"region\": \"Arica y Parinacota\", \"casos\": 3, \"codigo region\": 0}, {\"date\": \"2020-03-28\", \"region\": \"Tarapac\\u00e1\", \"casos\": 5, \"codigo region\": 1}, {\"date\": \"2020-03-28\", \"region\": \"Antofagasta\", \"casos\": 25, \"codigo region\": 2}, {\"date\": \"2020-03-28\", \"region\": \"Atacama\", \"casos\": 1, \"codigo region\": 3}, {\"date\": \"2020-03-28\", \"region\": \"Coquimbo\", \"casos\": 15, \"codigo region\": 4}, {\"date\": \"2020-03-28\", \"region\": \"Valpara\\u00edso\", \"casos\": 71, \"codigo region\": 5}, {\"date\": \"2020-03-28\", \"region\": \"Metropolitana\", \"casos\": 1084, \"codigo region\": 6}, {\"date\": \"2020-03-28\", \"region\": \"O\\u2019Higgins\", \"casos\": 20, \"codigo region\": 7}, {\"date\": \"2020-03-28\", \"region\": \"Maule\", \"casos\": 37, \"codigo region\": 8}, {\"date\": \"2020-03-28\", \"region\": \"\\u00d1uble\", \"casos\": 172, \"codigo region\": 9}, {\"date\": \"2020-03-28\", \"region\": \"Biob\\u00edo\", \"casos\": 151, \"codigo region\": 10}, {\"date\": \"2020-03-28\", \"region\": \"Araucan\\u00eda\", \"casos\": 177, \"codigo region\": 11}, {\"date\": \"2020-03-28\", \"region\": \"Los R\\u00edos\", \"casos\": 27, \"codigo region\": 12}, {\"date\": \"2020-03-28\", \"region\": \"Los Lagos\", \"casos\": 93, \"codigo region\": 13}, {\"date\": \"2020-03-28\", \"region\": \"Ays\\u00e9n\", \"casos\": 2, \"codigo region\": 14}, {\"date\": \"2020-03-28\", \"region\": \"Magallanes\", \"casos\": 26, \"codigo region\": 15}, {\"date\": \"2020-03-29\", \"region\": \"Arica y Parinacota\", \"casos\": 4, \"codigo region\": 0}, {\"date\": \"2020-03-29\", \"region\": \"Tarapac\\u00e1\", \"casos\": 6, \"codigo region\": 1}, {\"date\": \"2020-03-29\", \"region\": \"Antofagasta\", \"casos\": 27, \"codigo region\": 2}, {\"date\": \"2020-03-29\", \"region\": \"Atacama\", \"casos\": 2, \"codigo region\": 3}, {\"date\": \"2020-03-29\", \"region\": \"Coquimbo\", \"casos\": 18, \"codigo region\": 4}, {\"date\": \"2020-03-29\", \"region\": \"Valpara\\u00edso\", \"casos\": 80, \"codigo region\": 5}, {\"date\": \"2020-03-29\", \"region\": \"Metropolitana\", \"casos\": 1167, \"codigo region\": 6}, {\"date\": \"2020-03-29\", \"region\": \"O\\u2019Higgins\", \"casos\": 21, \"codigo region\": 7}, {\"date\": \"2020-03-29\", \"region\": \"Maule\", \"casos\": 42, \"codigo region\": 8}, {\"date\": \"2020-03-29\", \"region\": \"\\u00d1uble\", \"casos\": 197, \"codigo region\": 9}, {\"date\": \"2020-03-29\", \"region\": \"Biob\\u00edo\", \"casos\": 185, \"codigo region\": 10}, {\"date\": \"2020-03-29\", \"region\": \"Araucan\\u00eda\", \"casos\": 205, \"codigo region\": 11}, {\"date\": \"2020-03-29\", \"region\": \"Los R\\u00edos\", \"casos\": 40, \"codigo region\": 12}, {\"date\": \"2020-03-29\", \"region\": \"Los Lagos\", \"casos\": 104, \"codigo region\": 13}, {\"date\": \"2020-03-29\", \"region\": \"Ays\\u00e9n\", \"casos\": 2, \"codigo region\": 14}, {\"date\": \"2020-03-29\", \"region\": \"Magallanes\", \"casos\": 39, \"codigo region\": 15}, {\"date\": \"2020-03-30\", \"region\": \"Arica y Parinacota\", \"casos\": 6, \"codigo region\": 0}, {\"date\": \"2020-03-30\", \"region\": \"Tarapac\\u00e1\", \"casos\": 8, \"codigo region\": 1}, {\"date\": \"2020-03-30\", \"region\": \"Antofagasta\", \"casos\": 35, \"codigo region\": 2}, {\"date\": \"2020-03-30\", \"region\": \"Atacama\", \"casos\": 2, \"codigo region\": 3}, {\"date\": \"2020-03-30\", \"region\": \"Coquimbo\", \"casos\": 27, \"codigo region\": 4}, {\"date\": \"2020-03-30\", \"region\": \"Valpara\\u00edso\", \"casos\": 108, \"codigo region\": 5}, {\"date\": \"2020-03-30\", \"region\": \"Metropolitana\", \"casos\": 1295, \"codigo region\": 6}, {\"date\": \"2020-03-30\", \"region\": \"O\\u2019Higgins\", \"casos\": 21, \"codigo region\": 7}, {\"date\": \"2020-03-30\", \"region\": \"Maule\", \"casos\": 54, \"codigo region\": 8}, {\"date\": \"2020-03-30\", \"region\": \"\\u00d1uble\", \"casos\": 229, \"codigo region\": 9}, {\"date\": \"2020-03-30\", \"region\": \"Biob\\u00edo\", \"casos\": 201, \"codigo region\": 10}, {\"date\": \"2020-03-30\", \"region\": \"Araucan\\u00eda\", \"casos\": 247, \"codigo region\": 11}, {\"date\": \"2020-03-30\", \"region\": \"Los R\\u00edos\", \"casos\": 47, \"codigo region\": 12}, {\"date\": \"2020-03-30\", \"region\": \"Los Lagos\", \"casos\": 128, \"codigo region\": 13}, {\"date\": \"2020-03-30\", \"region\": \"Ays\\u00e9n\", \"casos\": 2, \"codigo region\": 14}, {\"date\": \"2020-03-30\", \"region\": \"Magallanes\", \"casos\": 39, \"codigo region\": 15}, {\"date\": \"2020-03-31\", \"region\": \"Arica y Parinacota\", \"casos\": 6, \"codigo region\": 0}, {\"date\": \"2020-03-31\", \"region\": \"Tarapac\\u00e1\", \"casos\": 10, \"codigo region\": 1}, {\"date\": \"2020-03-31\", \"region\": \"Antofagasta\", \"casos\": 35, \"codigo region\": 2}, {\"date\": \"2020-03-31\", \"region\": \"Atacama\", \"casos\": 2, \"codigo region\": 3}, {\"date\": \"2020-03-31\", \"region\": \"Coquimbo\", \"casos\": 28, \"codigo region\": 4}, {\"date\": \"2020-03-31\", \"region\": \"Valpara\\u00edso\", \"casos\": 115, \"codigo region\": 5}, {\"date\": \"2020-03-31\", \"region\": \"Metropolitana\", \"casos\": 1420, \"codigo region\": 6}, {\"date\": \"2020-03-31\", \"region\": \"O\\u2019Higgins\", \"casos\": 23, \"codigo region\": 7}, {\"date\": \"2020-03-31\", \"region\": \"Maule\", \"casos\": 62, \"codigo region\": 8}, {\"date\": \"2020-03-31\", \"region\": \"\\u00d1uble\", \"casos\": 245, \"codigo region\": 9}, {\"date\": \"2020-03-31\", \"region\": \"Biob\\u00edo\", \"casos\": 216, \"codigo region\": 10}, {\"date\": \"2020-03-31\", \"region\": \"Araucan\\u00eda\", \"casos\": 302, \"codigo region\": 11}, {\"date\": \"2020-03-31\", \"region\": \"Los R\\u00edos\", \"casos\": 58, \"codigo region\": 12}, {\"date\": \"2020-03-31\", \"region\": \"Los Lagos\", \"casos\": 151, \"codigo region\": 13}, {\"date\": \"2020-03-31\", \"region\": \"Ays\\u00e9n\", \"casos\": 2, \"codigo region\": 14}, {\"date\": \"2020-03-31\", \"region\": \"Magallanes\", \"casos\": 63, \"codigo region\": 15}, {\"date\": \"2020-04-01\", \"region\": \"Arica y Parinacota\", \"casos\": 6, \"codigo region\": 0}, {\"date\": \"2020-04-01\", \"region\": \"Tarapac\\u00e1\", \"casos\": 10, \"codigo region\": 1}, {\"date\": \"2020-04-01\", \"region\": \"Antofagasta\", \"casos\": 39, \"codigo region\": 2}, {\"date\": \"2020-04-01\", \"region\": \"Atacama\", \"casos\": 3, \"codigo region\": 3}, {\"date\": \"2020-04-01\", \"region\": \"Coquimbo\", \"casos\": 30, \"codigo region\": 4}, {\"date\": \"2020-04-01\", \"region\": \"Valpara\\u00edso\", \"casos\": 136, \"codigo region\": 5}, {\"date\": \"2020-04-01\", \"region\": \"Metropolitana\", \"casos\": 1521, \"codigo region\": 6}, {\"date\": \"2020-04-01\", \"region\": \"O\\u2019Higgins\", \"casos\": 26, \"codigo region\": 7}, {\"date\": \"2020-04-01\", \"region\": \"Maule\", \"casos\": 71, \"codigo region\": 8}, {\"date\": \"2020-04-01\", \"region\": \"\\u00d1uble\", \"casos\": 259, \"codigo region\": 9}, {\"date\": \"2020-04-01\", \"region\": \"Biob\\u00edo\", \"casos\": 240, \"codigo region\": 10}, {\"date\": \"2020-04-01\", \"region\": \"Araucan\\u00eda\", \"casos\": 343, \"codigo region\": 11}, {\"date\": \"2020-04-01\", \"region\": \"Los R\\u00edos\", \"casos\": 64, \"codigo region\": 12}, {\"date\": \"2020-04-01\", \"region\": \"Los Lagos\", \"casos\": 181, \"codigo region\": 13}, {\"date\": \"2020-04-01\", \"region\": \"Ays\\u00e9n\", \"casos\": 3, \"codigo region\": 14}, {\"date\": \"2020-04-01\", \"region\": \"Magallanes\", \"casos\": 99, \"codigo region\": 15}, {\"date\": \"2020-04-02\", \"region\": \"Arica y Parinacota\", \"casos\": 7, \"codigo region\": 0}, {\"date\": \"2020-04-02\", \"region\": \"Tarapac\\u00e1\", \"casos\": 12, \"codigo region\": 1}, {\"date\": \"2020-04-02\", \"region\": \"Antofagasta\", \"casos\": 47, \"codigo region\": 2}, {\"date\": \"2020-04-02\", \"region\": \"Atacama\", \"casos\": 3, \"codigo region\": 3}, {\"date\": \"2020-04-02\", \"region\": \"Coquimbo\", \"casos\": 34, \"codigo region\": 4}, {\"date\": \"2020-04-02\", \"region\": \"Valpara\\u00edso\", \"casos\": 156, \"codigo region\": 5}, {\"date\": \"2020-04-02\", \"region\": \"Metropolitana\", \"casos\": 1636, \"codigo region\": 6}, {\"date\": \"2020-04-02\", \"region\": \"O\\u2019Higgins\", \"casos\": 32, \"codigo region\": 7}, {\"date\": \"2020-04-02\", \"region\": \"Maule\", \"casos\": 82, \"codigo region\": 8}, {\"date\": \"2020-04-02\", \"region\": \"\\u00d1uble\", \"casos\": 341, \"codigo region\": 9}, {\"date\": \"2020-04-02\", \"region\": \"Biob\\u00edo\", \"casos\": 275, \"codigo region\": 10}, {\"date\": \"2020-04-02\", \"region\": \"Araucan\\u00eda\", \"casos\": 389, \"codigo region\": 11}, {\"date\": \"2020-04-02\", \"region\": \"Los R\\u00edos\", \"casos\": 68, \"codigo region\": 12}, {\"date\": \"2020-04-02\", \"region\": \"Los Lagos\", \"casos\": 203, \"codigo region\": 13}, {\"date\": \"2020-04-02\", \"region\": \"Ays\\u00e9n\", \"casos\": 5, \"codigo region\": 14}, {\"date\": \"2020-04-02\", \"region\": \"Magallanes\", \"casos\": 114, \"codigo region\": 15}, {\"date\": \"2020-04-03\", \"region\": \"Arica y Parinacota\", \"casos\": 12, \"codigo region\": 0}, {\"date\": \"2020-04-03\", \"region\": \"Tarapac\\u00e1\", \"casos\": 13, \"codigo region\": 1}, {\"date\": \"2020-04-03\", \"region\": \"Antofagasta\", \"casos\": 54, \"codigo region\": 2}, {\"date\": \"2020-04-03\", \"region\": \"Atacama\", \"casos\": 5, \"codigo region\": 3}, {\"date\": \"2020-04-03\", \"region\": \"Coquimbo\", \"casos\": 35, \"codigo region\": 4}, {\"date\": \"2020-04-03\", \"region\": \"Valpara\\u00edso\", \"casos\": 176, \"codigo region\": 5}, {\"date\": \"2020-04-03\", \"region\": \"Metropolitana\", \"casos\": 1742, \"codigo region\": 6}, {\"date\": \"2020-04-03\", \"region\": \"O\\u2019Higgins\", \"casos\": 33, \"codigo region\": 7}, {\"date\": \"2020-04-03\", \"region\": \"Maule\", \"casos\": 89, \"codigo region\": 8}, {\"date\": \"2020-04-03\", \"region\": \"\\u00d1uble\", \"casos\": 370, \"codigo region\": 9}, {\"date\": \"2020-04-03\", \"region\": \"Biob\\u00edo\", \"casos\": 302, \"codigo region\": 10}, {\"date\": \"2020-04-03\", \"region\": \"Araucan\\u00eda\", \"casos\": 432, \"codigo region\": 11}, {\"date\": \"2020-04-03\", \"region\": \"Los R\\u00edos\", \"casos\": 78, \"codigo region\": 12}, {\"date\": \"2020-04-03\", \"region\": \"Los Lagos\", \"casos\": 234, \"codigo region\": 13}, {\"date\": \"2020-04-03\", \"region\": \"Ays\\u00e9n\", \"casos\": 6, \"codigo region\": 14}, {\"date\": \"2020-04-03\", \"region\": \"Magallanes\", \"casos\": 156, \"codigo region\": 15}, {\"date\": \"2020-04-04\", \"region\": \"Arica y Parinacota\", \"casos\": 12, \"codigo region\": 0}, {\"date\": \"2020-04-04\", \"region\": \"Tarapac\\u00e1\", \"casos\": 17, \"codigo region\": 1}, {\"date\": \"2020-04-04\", \"region\": \"Antofagasta\", \"casos\": 55, \"codigo region\": 2}, {\"date\": \"2020-04-04\", \"region\": \"Atacama\", \"casos\": 5, \"codigo region\": 3}, {\"date\": \"2020-04-04\", \"region\": \"Coquimbo\", \"casos\": 44, \"codigo region\": 4}, {\"date\": \"2020-04-04\", \"region\": \"Valpara\\u00edso\", \"casos\": 185, \"codigo region\": 5}, {\"date\": \"2020-04-04\", \"region\": \"Metropolitana\", \"casos\": 1957, \"codigo region\": 6}, {\"date\": \"2020-04-04\", \"region\": \"O\\u2019Higgins\", \"casos\": 38, \"codigo region\": 7}, {\"date\": \"2020-04-04\", \"region\": \"Maule\", \"casos\": 97, \"codigo region\": 8}, {\"date\": \"2020-04-04\", \"region\": \"\\u00d1uble\", \"casos\": 401, \"codigo region\": 9}, {\"date\": \"2020-04-04\", \"region\": \"Biob\\u00edo\", \"casos\": 347, \"codigo region\": 10}, {\"date\": \"2020-04-04\", \"region\": \"Araucan\\u00eda\", \"casos\": 477, \"codigo region\": 11}, {\"date\": \"2020-04-04\", \"region\": \"Los R\\u00edos\", \"casos\": 89, \"codigo region\": 12}, {\"date\": \"2020-04-04\", \"region\": \"Los Lagos\", \"casos\": 259, \"codigo region\": 13}, {\"date\": \"2020-04-04\", \"region\": \"Ays\\u00e9n\", \"casos\": 6, \"codigo region\": 14}, {\"date\": \"2020-04-04\", \"region\": \"Magallanes\", \"casos\": 172, \"codigo region\": 15}, {\"date\": \"2020-04-05\", \"region\": \"Arica y Parinacota\", \"casos\": 28, \"codigo region\": 0}, {\"date\": \"2020-04-05\", \"region\": \"Tarapac\\u00e1\", \"casos\": 20, \"codigo region\": 1}, {\"date\": \"2020-04-05\", \"region\": \"Antofagasta\", \"casos\": 60, \"codigo region\": 2}, {\"date\": \"2020-04-05\", \"region\": \"Atacama\", \"casos\": 5, \"codigo region\": 3}, {\"date\": \"2020-04-05\", \"region\": \"Coquimbo\", \"casos\": 50, \"codigo region\": 4}, {\"date\": \"2020-04-05\", \"region\": \"Valpara\\u00edso\", \"casos\": 191, \"codigo region\": 5}, {\"date\": \"2020-04-05\", \"region\": \"Metropolitana\", \"casos\": 2102, \"codigo region\": 6}, {\"date\": \"2020-04-05\", \"region\": \"O\\u2019Higgins\", \"casos\": 41, \"codigo region\": 7}, {\"date\": \"2020-04-05\", \"region\": \"Maule\", \"casos\": 103, \"codigo region\": 8}, {\"date\": \"2020-04-05\", \"region\": \"\\u00d1uble\", \"casos\": 425, \"codigo region\": 9}, {\"date\": \"2020-04-05\", \"region\": \"Biob\\u00edo\", \"casos\": 365, \"codigo region\": 10}, {\"date\": \"2020-04-05\", \"region\": \"Araucan\\u00eda\", \"casos\": 509, \"codigo region\": 11}, {\"date\": \"2020-04-05\", \"region\": \"Los R\\u00edos\", \"casos\": 99, \"codigo region\": 12}, {\"date\": \"2020-04-05\", \"region\": \"Los Lagos\", \"casos\": 276, \"codigo region\": 13}, {\"date\": \"2020-04-05\", \"region\": \"Ays\\u00e9n\", \"casos\": 7, \"codigo region\": 14}, {\"date\": \"2020-04-05\", \"region\": \"Magallanes\", \"casos\": 190, \"codigo region\": 15}, {\"date\": \"2020-04-06\", \"region\": \"Arica y Parinacota\", \"casos\": 41, \"codigo region\": 0}, {\"date\": \"2020-04-06\", \"region\": \"Tarapac\\u00e1\", \"casos\": 21, \"codigo region\": 1}, {\"date\": \"2020-04-06\", \"region\": \"Antofagasta\", \"casos\": 68, \"codigo region\": 2}, {\"date\": \"2020-04-06\", \"region\": \"Atacama\", \"casos\": 5, \"codigo region\": 3}, {\"date\": \"2020-04-06\", \"region\": \"Coquimbo\", \"casos\": 51, \"codigo region\": 4}, {\"date\": \"2020-04-06\", \"region\": \"Valpara\\u00edso\", \"casos\": 198, \"codigo region\": 5}, {\"date\": \"2020-04-06\", \"region\": \"Metropolitana\", \"casos\": 2244, \"codigo region\": 6}, {\"date\": \"2020-04-06\", \"region\": \"O\\u2019Higgins\", \"casos\": 42, \"codigo region\": 7}, {\"date\": \"2020-04-06\", \"region\": \"Maule\", \"casos\": 108, \"codigo region\": 8}, {\"date\": \"2020-04-06\", \"region\": \"\\u00d1uble\", \"casos\": 474, \"codigo region\": 9}, {\"date\": \"2020-04-06\", \"region\": \"Biob\\u00edo\", \"casos\": 383, \"codigo region\": 10}, {\"date\": \"2020-04-06\", \"region\": \"Araucan\\u00eda\", \"casos\": 562, \"codigo region\": 11}, {\"date\": \"2020-04-06\", \"region\": \"Los R\\u00edos\", \"casos\": 104, \"codigo region\": 12}, {\"date\": \"2020-04-06\", \"region\": \"Los Lagos\", \"casos\": 286, \"codigo region\": 13}, {\"date\": \"2020-04-06\", \"region\": \"Ays\\u00e9n\", \"casos\": 7, \"codigo region\": 14}, {\"date\": \"2020-04-06\", \"region\": \"Magallanes\", \"casos\": 221, \"codigo region\": 15}, {\"date\": \"2020-04-07\", \"region\": \"Arica y Parinacota\", \"casos\": 53, \"codigo region\": 0}, {\"date\": \"2020-04-07\", \"region\": \"Tarapac\\u00e1\", \"casos\": 23, \"codigo region\": 1}, {\"date\": \"2020-04-07\", \"region\": \"Antofagasta\", \"casos\": 69, \"codigo region\": 2}, {\"date\": \"2020-04-07\", \"region\": \"Atacama\", \"casos\": 6, \"codigo region\": 3}, {\"date\": \"2020-04-07\", \"region\": \"Coquimbo\", \"casos\": 52, \"codigo region\": 4}, {\"date\": \"2020-04-07\", \"region\": \"Valpara\\u00edso\", \"casos\": 214, \"codigo region\": 5}, {\"date\": \"2020-04-07\", \"region\": \"Metropolitana\", \"casos\": 2350, \"codigo region\": 6}, {\"date\": \"2020-04-07\", \"region\": \"O\\u2019Higgins\", \"casos\": 42, \"codigo region\": 7}, {\"date\": \"2020-04-07\", \"region\": \"Maule\", \"casos\": 108, \"codigo region\": 8}, {\"date\": \"2020-04-07\", \"region\": \"\\u00d1uble\", \"casos\": 522, \"codigo region\": 9}, {\"date\": \"2020-04-07\", \"region\": \"Biob\\u00edo\", \"casos\": 410, \"codigo region\": 10}, {\"date\": \"2020-04-07\", \"region\": \"Araucan\\u00eda\", \"casos\": 612, \"codigo region\": 11}, {\"date\": \"2020-04-07\", \"region\": \"Los R\\u00edos\", \"casos\": 109, \"codigo region\": 12}, {\"date\": \"2020-04-07\", \"region\": \"Los Lagos\", \"casos\": 299, \"codigo region\": 13}, {\"date\": \"2020-04-07\", \"region\": \"Ays\\u00e9n\", \"casos\": 7, \"codigo region\": 14}, {\"date\": \"2020-04-07\", \"region\": \"Magallanes\", \"casos\": 240, \"codigo region\": 15}, {\"date\": \"2020-04-08\", \"region\": \"Arica y Parinacota\", \"casos\": 63, \"codigo region\": 0}, {\"date\": \"2020-04-08\", \"region\": \"Tarapac\\u00e1\", \"casos\": 26, \"codigo region\": 1}, {\"date\": \"2020-04-08\", \"region\": \"Antofagasta\", \"casos\": 77, \"codigo region\": 2}, {\"date\": \"2020-04-08\", \"region\": \"Atacama\", \"casos\": 8, \"codigo region\": 3}, {\"date\": \"2020-04-08\", \"region\": \"Coquimbo\", \"casos\": 56, \"codigo region\": 4}, {\"date\": \"2020-04-08\", \"region\": \"Valpara\\u00edso\", \"casos\": 225, \"codigo region\": 5}, {\"date\": \"2020-04-08\", \"region\": \"Metropolitana\", \"casos\": 2548, \"codigo region\": 6}, {\"date\": \"2020-04-08\", \"region\": \"O\\u2019Higgins\", \"casos\": 43, \"codigo region\": 7}, {\"date\": \"2020-04-08\", \"region\": \"Maule\", \"casos\": 119, \"codigo region\": 8}, {\"date\": \"2020-04-08\", \"region\": \"\\u00d1uble\", \"casos\": 561, \"codigo region\": 9}, {\"date\": \"2020-04-08\", \"region\": \"Biob\\u00edo\", \"casos\": 439, \"codigo region\": 10}, {\"date\": \"2020-04-08\", \"region\": \"Araucan\\u00eda\", \"casos\": 669, \"codigo region\": 11}, {\"date\": \"2020-04-08\", \"region\": \"Los R\\u00edos\", \"casos\": 114, \"codigo region\": 12}, {\"date\": \"2020-04-08\", \"region\": \"Los Lagos\", \"casos\": 325, \"codigo region\": 13}, {\"date\": \"2020-04-08\", \"region\": \"Ays\\u00e9n\", \"casos\": 7, \"codigo region\": 14}, {\"date\": \"2020-04-08\", \"region\": \"Magallanes\", \"casos\": 266, \"codigo region\": 15}, {\"date\": \"2020-04-09\", \"region\": \"Arica y Parinacota\", \"casos\": 75, \"codigo region\": 0}, {\"date\": \"2020-04-09\", \"region\": \"Tarapac\\u00e1\", \"casos\": 29, \"codigo region\": 1}, {\"date\": \"2020-04-09\", \"region\": \"Antofagasta\", \"casos\": 92, \"codigo region\": 2}, {\"date\": \"2020-04-09\", \"region\": \"Atacama\", \"casos\": 10, \"codigo region\": 3}, {\"date\": \"2020-04-09\", \"region\": \"Coquimbo\", \"casos\": 61, \"codigo region\": 4}, {\"date\": \"2020-04-09\", \"region\": \"Valpara\\u00edso\", \"casos\": 230, \"codigo region\": 5}, {\"date\": \"2020-04-09\", \"region\": \"Metropolitana\", \"casos\": 2832, \"codigo region\": 6}, {\"date\": \"2020-04-09\", \"region\": \"O\\u2019Higgins\", \"casos\": 44, \"codigo region\": 7}, {\"date\": \"2020-04-09\", \"region\": \"Maule\", \"casos\": 128, \"codigo region\": 8}, {\"date\": \"2020-04-09\", \"region\": \"\\u00d1uble\", \"casos\": 571, \"codigo region\": 9}, {\"date\": \"2020-04-09\", \"region\": \"Biob\\u00edo\", \"casos\": 460, \"codigo region\": 10}, {\"date\": \"2020-04-09\", \"region\": \"Araucan\\u00eda\", \"casos\": 689, \"codigo region\": 11}, {\"date\": \"2020-04-09\", \"region\": \"Los R\\u00edos\", \"casos\": 118, \"codigo region\": 12}, {\"date\": \"2020-04-09\", \"region\": \"Los Lagos\", \"casos\": 340, \"codigo region\": 13}, {\"date\": \"2020-04-09\", \"region\": \"Ays\\u00e9n\", \"casos\": 7, \"codigo region\": 14}, {\"date\": \"2020-04-09\", \"region\": \"Magallanes\", \"casos\": 286, \"codigo region\": 15}, {\"date\": \"2020-04-10\", \"region\": \"Arica y Parinacota\", \"casos\": 87, \"codigo region\": 0}, {\"date\": \"2020-04-10\", \"region\": \"Tarapac\\u00e1\", \"casos\": 35, \"codigo region\": 1}, {\"date\": \"2020-04-10\", \"region\": \"Antofagasta\", \"casos\": 110, \"codigo region\": 2}, {\"date\": \"2020-04-10\", \"region\": \"Atacama\", \"casos\": 13, \"codigo region\": 3}, {\"date\": \"2020-04-10\", \"region\": \"Coquimbo\", \"casos\": 61, \"codigo region\": 4}, {\"date\": \"2020-04-10\", \"region\": \"Valpara\\u00edso\", \"casos\": 241, \"codigo region\": 5}, {\"date\": \"2020-04-10\", \"region\": \"Metropolitana\", \"casos\": 3193, \"codigo region\": 6}, {\"date\": \"2020-04-10\", \"region\": \"O\\u2019Higgins\", \"casos\": 44, \"codigo region\": 7}, {\"date\": \"2020-04-10\", \"region\": \"Maule\", \"casos\": 131, \"codigo region\": 8}, {\"date\": \"2020-04-10\", \"region\": \"\\u00d1uble\", \"casos\": 589, \"codigo region\": 9}, {\"date\": \"2020-04-10\", \"region\": \"Biob\\u00edo\", \"casos\": 474, \"codigo region\": 10}, {\"date\": \"2020-04-10\", \"region\": \"Araucan\\u00eda\", \"casos\": 712, \"codigo region\": 11}, {\"date\": \"2020-04-10\", \"region\": \"Los R\\u00edos\", \"casos\": 124, \"codigo region\": 12}, {\"date\": \"2020-04-10\", \"region\": \"Los Lagos\", \"casos\": 349, \"codigo region\": 13}, {\"date\": \"2020-04-10\", \"region\": \"Ays\\u00e9n\", \"casos\": 7, \"codigo region\": 14}, {\"date\": \"2020-04-10\", \"region\": \"Magallanes\", \"casos\": 331, \"codigo region\": 15}, {\"date\": \"2020-04-11\", \"region\": \"Arica y Parinacota\", \"casos\": 107, \"codigo region\": 0}, {\"date\": \"2020-04-11\", \"region\": \"Tarapac\\u00e1\", \"casos\": 38, \"codigo region\": 1}, {\"date\": \"2020-04-11\", \"region\": \"Antofagasta\", \"casos\": 117, \"codigo region\": 2}, {\"date\": \"2020-04-11\", \"region\": \"Atacama\", \"casos\": 13, \"codigo region\": 3}, {\"date\": \"2020-04-11\", \"region\": \"Coquimbo\", \"casos\": 64, \"codigo region\": 4}, {\"date\": \"2020-04-11\", \"region\": \"Valpara\\u00edso\", \"casos\": 248, \"codigo region\": 5}, {\"date\": \"2020-04-11\", \"region\": \"Metropolitana\", \"casos\": 3448, \"codigo region\": 6}, {\"date\": \"2020-04-11\", \"region\": \"O\\u2019Higgins\", \"casos\": 45, \"codigo region\": 7}, {\"date\": \"2020-04-11\", \"region\": \"Maule\", \"casos\": 134, \"codigo region\": 8}, {\"date\": \"2020-04-11\", \"region\": \"\\u00d1uble\", \"casos\": 606, \"codigo region\": 9}, {\"date\": \"2020-04-11\", \"region\": \"Biob\\u00edo\", \"casos\": 490, \"codigo region\": 10}, {\"date\": \"2020-04-11\", \"region\": \"Araucan\\u00eda\", \"casos\": 739, \"codigo region\": 11}, {\"date\": \"2020-04-11\", \"region\": \"Los R\\u00edos\", \"casos\": 130, \"codigo region\": 12}, {\"date\": \"2020-04-11\", \"region\": \"Los Lagos\", \"casos\": 364, \"codigo region\": 13}, {\"date\": \"2020-04-11\", \"region\": \"Ays\\u00e9n\", \"casos\": 7, \"codigo region\": 14}, {\"date\": \"2020-04-11\", \"region\": \"Magallanes\", \"casos\": 377, \"codigo region\": 15}, {\"date\": \"2020-04-12\", \"region\": \"Arica y Parinacota\", \"casos\": 115, \"codigo region\": 0}, {\"date\": \"2020-04-12\", \"region\": \"Tarapac\\u00e1\", \"casos\": 46, \"codigo region\": 1}, {\"date\": \"2020-04-12\", \"region\": \"Antofagasta\", \"casos\": 138, \"codigo region\": 2}, {\"date\": \"2020-04-12\", \"region\": \"Atacama\", \"casos\": 13, \"codigo region\": 3}, {\"date\": \"2020-04-12\", \"region\": \"Coquimbo\", \"casos\": 66, \"codigo region\": 4}, {\"date\": \"2020-04-12\", \"region\": \"Valpara\\u00edso\", \"casos\": 254, \"codigo region\": 5}, {\"date\": \"2020-04-12\", \"region\": \"Metropolitana\", \"casos\": 3599, \"codigo region\": 6}, {\"date\": \"2020-04-12\", \"region\": \"O\\u2019Higgins\", \"casos\": 46, \"codigo region\": 7}, {\"date\": \"2020-04-12\", \"region\": \"Maule\", \"casos\": 138, \"codigo region\": 8}, {\"date\": \"2020-04-12\", \"region\": \"\\u00d1uble\", \"casos\": 613, \"codigo region\": 9}, {\"date\": \"2020-04-12\", \"region\": \"Biob\\u00edo\", \"casos\": 500, \"codigo region\": 10}, {\"date\": \"2020-04-12\", \"region\": \"Araucan\\u00eda\", \"casos\": 775, \"codigo region\": 11}, {\"date\": \"2020-04-12\", \"region\": \"Los R\\u00edos\", \"casos\": 135, \"codigo region\": 12}, {\"date\": \"2020-04-12\", \"region\": \"Los Lagos\", \"casos\": 372, \"codigo region\": 13}, {\"date\": \"2020-04-12\", \"region\": \"Ays\\u00e9n\", \"casos\": 7, \"codigo region\": 14}, {\"date\": \"2020-04-12\", \"region\": \"Magallanes\", \"casos\": 396, \"codigo region\": 15}, {\"date\": \"2020-04-13\", \"region\": \"Arica y Parinacota\", \"casos\": 115, \"codigo region\": 0}, {\"date\": \"2020-04-13\", \"region\": \"Tarapac\\u00e1\", \"casos\": 52, \"codigo region\": 1}, {\"date\": \"2020-04-13\", \"region\": \"Antofagasta\", \"casos\": 149, \"codigo region\": 2}, {\"date\": \"2020-04-13\", \"region\": \"Atacama\", \"casos\": 13, \"codigo region\": 3}, {\"date\": \"2020-04-13\", \"region\": \"Coquimbo\", \"casos\": 66, \"codigo region\": 4}, {\"date\": \"2020-04-13\", \"region\": \"Valpara\\u00edso\", \"casos\": 273, \"codigo region\": 5}, {\"date\": \"2020-04-13\", \"region\": \"Metropolitana\", \"casos\": 3803, \"codigo region\": 6}, {\"date\": \"2020-04-13\", \"region\": \"O\\u2019Higgins\", \"casos\": 48, \"codigo region\": 7}, {\"date\": \"2020-04-13\", \"region\": \"Maule\", \"casos\": 141, \"codigo region\": 8}, {\"date\": \"2020-04-13\", \"region\": \"\\u00d1uble\", \"casos\": 618, \"codigo region\": 9}, {\"date\": \"2020-04-13\", \"region\": \"Biob\\u00edo\", \"casos\": 512, \"codigo region\": 10}, {\"date\": \"2020-04-13\", \"region\": \"Araucan\\u00eda\", \"casos\": 795, \"codigo region\": 11}, {\"date\": \"2020-04-13\", \"region\": \"Los R\\u00edos\", \"casos\": 138, \"codigo region\": 12}, {\"date\": \"2020-04-13\", \"region\": \"Los Lagos\", \"casos\": 380, \"codigo region\": 13}, {\"date\": \"2020-04-13\", \"region\": \"Ays\\u00e9n\", \"casos\": 7, \"codigo region\": 14}, {\"date\": \"2020-04-13\", \"region\": \"Magallanes\", \"casos\": 415, \"codigo region\": 15}, {\"date\": \"2020-04-14\", \"region\": \"Arica y Parinacota\", \"casos\": 120, \"codigo region\": 0}, {\"date\": \"2020-04-14\", \"region\": \"Tarapac\\u00e1\", \"casos\": 62, \"codigo region\": 1}, {\"date\": \"2020-04-14\", \"region\": \"Antofagasta\", \"casos\": 155, \"codigo region\": 2}, {\"date\": \"2020-04-14\", \"region\": \"Atacama\", \"casos\": 13, \"codigo region\": 3}, {\"date\": \"2020-04-14\", \"region\": \"Coquimbo\", \"casos\": 66, \"codigo region\": 4}, {\"date\": \"2020-04-14\", \"region\": \"Valpara\\u00edso\", \"casos\": 285, \"codigo region\": 5}, {\"date\": \"2020-04-14\", \"region\": \"Metropolitana\", \"casos\": 4086, \"codigo region\": 6}, {\"date\": \"2020-04-14\", \"region\": \"O\\u2019Higgins\", \"casos\": 53, \"codigo region\": 7}, {\"date\": \"2020-04-14\", \"region\": \"Maule\", \"casos\": 142, \"codigo region\": 8}, {\"date\": \"2020-04-14\", \"region\": \"\\u00d1uble\", \"casos\": 622, \"codigo region\": 9}, {\"date\": \"2020-04-14\", \"region\": \"Biob\\u00edo\", \"casos\": 528, \"codigo region\": 10}, {\"date\": \"2020-04-14\", \"region\": \"Araucan\\u00eda\", \"casos\": 816, \"codigo region\": 11}, {\"date\": \"2020-04-14\", \"region\": \"Los R\\u00edos\", \"casos\": 148, \"codigo region\": 12}, {\"date\": \"2020-04-14\", \"region\": \"Los Lagos\", \"casos\": 385, \"codigo region\": 13}, {\"date\": \"2020-04-14\", \"region\": \"Ays\\u00e9n\", \"casos\": 7, \"codigo region\": 14}, {\"date\": \"2020-04-14\", \"region\": \"Magallanes\", \"casos\": 429, \"codigo region\": 15}, {\"date\": \"2020-04-15\", \"region\": \"Arica y Parinacota\", \"casos\": 124, \"codigo region\": 0}, {\"date\": \"2020-04-15\", \"region\": \"Tarapac\\u00e1\", \"casos\": 62, \"codigo region\": 1}, {\"date\": \"2020-04-15\", \"region\": \"Antofagasta\", \"casos\": 176, \"codigo region\": 2}, {\"date\": \"2020-04-15\", \"region\": \"Atacama\", \"casos\": 13, \"codigo region\": 3}, {\"date\": \"2020-04-15\", \"region\": \"Coquimbo\", \"casos\": 66, \"codigo region\": 4}, {\"date\": \"2020-04-15\", \"region\": \"Valpara\\u00edso\", \"casos\": 299, \"codigo region\": 5}, {\"date\": \"2020-04-15\", \"region\": \"Metropolitana\", \"casos\": 4334, \"codigo region\": 6}, {\"date\": \"2020-04-15\", \"region\": \"O\\u2019Higgins\", \"casos\": 54, \"codigo region\": 7}, {\"date\": \"2020-04-15\", \"region\": \"Maule\", \"casos\": 152, \"codigo region\": 8}, {\"date\": \"2020-04-15\", \"region\": \"\\u00d1uble\", \"casos\": 634, \"codigo region\": 9}, {\"date\": \"2020-04-15\", \"region\": \"Biob\\u00edo\", \"casos\": 542, \"codigo region\": 10}, {\"date\": \"2020-04-15\", \"region\": \"Araucan\\u00eda\", \"casos\": 826, \"codigo region\": 11}, {\"date\": \"2020-04-15\", \"region\": \"Los R\\u00edos\", \"casos\": 150, \"codigo region\": 12}, {\"date\": \"2020-04-15\", \"region\": \"Los Lagos\", \"casos\": 390, \"codigo region\": 13}, {\"date\": \"2020-04-15\", \"region\": \"Ays\\u00e9n\", \"casos\": 7, \"codigo region\": 14}, {\"date\": \"2020-04-15\", \"region\": \"Magallanes\", \"casos\": 444, \"codigo region\": 15}, {\"date\": \"2020-04-16\", \"region\": \"Arica y Parinacota\", \"casos\": 129, \"codigo region\": 0}, {\"date\": \"2020-04-16\", \"region\": \"Tarapac\\u00e1\", \"casos\": 66, \"codigo region\": 1}, {\"date\": \"2020-04-16\", \"region\": \"Antofagasta\", \"casos\": 192, \"codigo region\": 2}, {\"date\": \"2020-04-16\", \"region\": \"Atacama\", \"casos\": 13, \"codigo region\": 3}, {\"date\": \"2020-04-16\", \"region\": \"Coquimbo\", \"casos\": 68, \"codigo region\": 4}, {\"date\": \"2020-04-16\", \"region\": \"Valpara\\u00edso\", \"casos\": 330, \"codigo region\": 5}, {\"date\": \"2020-04-16\", \"region\": \"Metropolitana\", \"casos\": 4682, \"codigo region\": 6}, {\"date\": \"2020-04-16\", \"region\": \"O\\u2019Higgins\", \"casos\": 54, \"codigo region\": 7}, {\"date\": \"2020-04-16\", \"region\": \"Maule\", \"casos\": 167, \"codigo region\": 8}, {\"date\": \"2020-04-16\", \"region\": \"\\u00d1uble\", \"casos\": 639, \"codigo region\": 9}, {\"date\": \"2020-04-16\", \"region\": \"Biob\\u00edo\", \"casos\": 559, \"codigo region\": 10}, {\"date\": \"2020-04-16\", \"region\": \"Araucan\\u00eda\", \"casos\": 882, \"codigo region\": 11}, {\"date\": \"2020-04-16\", \"region\": \"Los R\\u00edos\", \"casos\": 153, \"codigo region\": 12}, {\"date\": \"2020-04-16\", \"region\": \"Los Lagos\", \"casos\": 399, \"codigo region\": 13}, {\"date\": \"2020-04-16\", \"region\": \"Ays\\u00e9n\", \"casos\": 7, \"codigo region\": 14}, {\"date\": \"2020-04-16\", \"region\": \"Magallanes\", \"casos\": 467, \"codigo region\": 15}, {\"date\": \"2020-04-17\", \"region\": \"Arica y Parinacota\", \"casos\": 134, \"codigo region\": 0}, {\"date\": \"2020-04-17\", \"region\": \"Tarapac\\u00e1\", \"casos\": 73, \"codigo region\": 1}, {\"date\": \"2020-04-17\", \"region\": \"Antofagasta\", \"casos\": 211, \"codigo region\": 2}, {\"date\": \"2020-04-17\", \"region\": \"Atacama\", \"casos\": 13, \"codigo region\": 3}, {\"date\": \"2020-04-17\", \"region\": \"Coquimbo\", \"casos\": 68, \"codigo region\": 4}, {\"date\": \"2020-04-17\", \"region\": \"Valpara\\u00edso\", \"casos\": 345, \"codigo region\": 5}, {\"date\": \"2020-04-17\", \"region\": \"Metropolitana\", \"casos\": 4915, \"codigo region\": 6}, {\"date\": \"2020-04-17\", \"region\": \"O\\u2019Higgins\", \"casos\": 55, \"codigo region\": 7}, {\"date\": \"2020-04-17\", \"region\": \"Maule\", \"casos\": 223, \"codigo region\": 8}, {\"date\": \"2020-04-17\", \"region\": \"\\u00d1uble\", \"casos\": 656, \"codigo region\": 9}, {\"date\": \"2020-04-17\", \"region\": \"Biob\\u00edo\", \"casos\": 578, \"codigo region\": 10}, {\"date\": \"2020-04-17\", \"region\": \"Araucan\\u00eda\", \"casos\": 907, \"codigo region\": 11}, {\"date\": \"2020-04-17\", \"region\": \"Los R\\u00edos\", \"casos\": 154, \"codigo region\": 12}, {\"date\": \"2020-04-17\", \"region\": \"Los Lagos\", \"casos\": 412, \"codigo region\": 13}, {\"date\": \"2020-04-17\", \"region\": \"Ays\\u00e9n\", \"casos\": 7, \"codigo region\": 14}, {\"date\": \"2020-04-17\", \"region\": \"Magallanes\", \"casos\": 501, \"codigo region\": 15}, {\"date\": \"2020-04-18\", \"region\": \"Arica y Parinacota\", \"casos\": 142, \"codigo region\": 0}, {\"date\": \"2020-04-18\", \"region\": \"Tarapac\\u00e1\", \"casos\": 81, \"codigo region\": 1}, {\"date\": \"2020-04-18\", \"region\": \"Antofagasta\", \"casos\": 226, \"codigo region\": 2}, {\"date\": \"2020-04-18\", \"region\": \"Atacama\", \"casos\": 13, \"codigo region\": 3}, {\"date\": \"2020-04-18\", \"region\": \"Coquimbo\", \"casos\": 68, \"codigo region\": 4}, {\"date\": \"2020-04-18\", \"region\": \"Valpara\\u00edso\", \"casos\": 359, \"codigo region\": 5}, {\"date\": \"2020-04-18\", \"region\": \"Metropolitana\", \"casos\": 5192, \"codigo region\": 6}, {\"date\": \"2020-04-18\", \"region\": \"O\\u2019Higgins\", \"casos\": 55, \"codigo region\": 7}, {\"date\": \"2020-04-18\", \"region\": \"Maule\", \"casos\": 276, \"codigo region\": 8}, {\"date\": \"2020-04-18\", \"region\": \"\\u00d1uble\", \"casos\": 667, \"codigo region\": 9}, {\"date\": \"2020-04-18\", \"region\": \"Biob\\u00edo\", \"casos\": 606, \"codigo region\": 10}, {\"date\": \"2020-04-18\", \"region\": \"Araucan\\u00eda\", \"casos\": 944, \"codigo region\": 11}, {\"date\": \"2020-04-18\", \"region\": \"Los R\\u00edos\", \"casos\": 156, \"codigo region\": 12}, {\"date\": \"2020-04-18\", \"region\": \"Los Lagos\", \"casos\": 416, \"codigo region\": 13}, {\"date\": \"2020-04-18\", \"region\": \"Ays\\u00e9n\", \"casos\": 7, \"codigo region\": 14}, {\"date\": \"2020-04-18\", \"region\": \"Magallanes\", \"casos\": 522, \"codigo region\": 15}, {\"date\": \"2020-04-19\", \"region\": \"Arica y Parinacota\", \"casos\": 145, \"codigo region\": 0}, {\"date\": \"2020-04-19\", \"region\": \"Tarapac\\u00e1\", \"casos\": 90, \"codigo region\": 1}, {\"date\": \"2020-04-19\", \"region\": \"Antofagasta\", \"casos\": 249, \"codigo region\": 2}, {\"date\": \"2020-04-19\", \"region\": \"Atacama\", \"casos\": 13, \"codigo region\": 3}, {\"date\": \"2020-04-19\", \"region\": \"Coquimbo\", \"casos\": 68, \"codigo region\": 4}, {\"date\": \"2020-04-19\", \"region\": \"Valpara\\u00edso\", \"casos\": 381, \"codigo region\": 5}, {\"date\": \"2020-04-19\", \"region\": \"Metropolitana\", \"casos\": 5381, \"codigo region\": 6}, {\"date\": \"2020-04-19\", \"region\": \"O\\u2019Higgins\", \"casos\": 55, \"codigo region\": 7}, {\"date\": \"2020-04-19\", \"region\": \"Maule\", \"casos\": 302, \"codigo region\": 8}, {\"date\": \"2020-04-19\", \"region\": \"\\u00d1uble\", \"casos\": 678, \"codigo region\": 9}, {\"date\": \"2020-04-19\", \"region\": \"Biob\\u00edo\", \"casos\": 616, \"codigo region\": 10}, {\"date\": \"2020-04-19\", \"region\": \"Araucan\\u00eda\", \"casos\": 972, \"codigo region\": 11}, {\"date\": \"2020-04-19\", \"region\": \"Los R\\u00edos\", \"casos\": 157, \"codigo region\": 12}, {\"date\": \"2020-04-19\", \"region\": \"Los Lagos\", \"casos\": 421, \"codigo region\": 13}, {\"date\": \"2020-04-19\", \"region\": \"Ays\\u00e9n\", \"casos\": 7, \"codigo region\": 14}, {\"date\": \"2020-04-19\", \"region\": \"Magallanes\", \"casos\": 553, \"codigo region\": 15}, {\"date\": \"2020-04-20\", \"region\": \"Arica y Parinacota\", \"casos\": 161, \"codigo region\": 0}, {\"date\": \"2020-04-20\", \"region\": \"Tarapac\\u00e1\", \"casos\": 93, \"codigo region\": 1}, {\"date\": \"2020-04-20\", \"region\": \"Antofagasta\", \"casos\": 263, \"codigo region\": 2}, {\"date\": \"2020-04-20\", \"region\": \"Atacama\", \"casos\": 13, \"codigo region\": 3}, {\"date\": \"2020-04-20\", \"region\": \"Coquimbo\", \"casos\": 69, \"codigo region\": 4}, {\"date\": \"2020-04-20\", \"region\": \"Valpara\\u00edso\", \"casos\": 388, \"codigo region\": 5}, {\"date\": \"2020-04-20\", \"region\": \"Metropolitana\", \"casos\": 5643, \"codigo region\": 6}, {\"date\": \"2020-04-20\", \"region\": \"O\\u2019Higgins\", \"casos\": 56, \"codigo region\": 7}, {\"date\": \"2020-04-20\", \"region\": \"Maule\", \"casos\": 304, \"codigo region\": 8}, {\"date\": \"2020-04-20\", \"region\": \"\\u00d1uble\", \"casos\": 687, \"codigo region\": 9}, {\"date\": \"2020-04-20\", \"region\": \"Biob\\u00edo\", \"casos\": 626, \"codigo region\": 10}, {\"date\": \"2020-04-20\", \"region\": \"Araucan\\u00eda\", \"casos\": 1045, \"codigo region\": 11}, {\"date\": \"2020-04-20\", \"region\": \"Los R\\u00edos\", \"casos\": 162, \"codigo region\": 12}, {\"date\": \"2020-04-20\", \"region\": \"Los Lagos\", \"casos\": 424, \"codigo region\": 13}, {\"date\": \"2020-04-20\", \"region\": \"Ays\\u00e9n\", \"casos\": 7, \"codigo region\": 14}, {\"date\": \"2020-04-20\", \"region\": \"Magallanes\", \"casos\": 566, \"codigo region\": 15}, {\"date\": \"2020-04-21\", \"region\": \"Arica y Parinacota\", \"casos\": 170, \"codigo region\": 0}, {\"date\": \"2020-04-21\", \"region\": \"Tarapac\\u00e1\", \"casos\": 104, \"codigo region\": 1}, {\"date\": \"2020-04-21\", \"region\": \"Antofagasta\", \"casos\": 291, \"codigo region\": 2}, {\"date\": \"2020-04-21\", \"region\": \"Atacama\", \"casos\": 13, \"codigo region\": 3}, {\"date\": \"2020-04-21\", \"region\": \"Coquimbo\", \"casos\": 69, \"codigo region\": 4}, {\"date\": \"2020-04-21\", \"region\": \"Valpara\\u00edso\", \"casos\": 403, \"codigo region\": 5}, {\"date\": \"2020-04-21\", \"region\": \"Metropolitana\", \"casos\": 5788, \"codigo region\": 6}, {\"date\": \"2020-04-21\", \"region\": \"O\\u2019Higgins\", \"casos\": 57, \"codigo region\": 7}, {\"date\": \"2020-04-21\", \"region\": \"Maule\", \"casos\": 316, \"codigo region\": 8}, {\"date\": \"2020-04-21\", \"region\": \"\\u00d1uble\", \"casos\": 694, \"codigo region\": 9}, {\"date\": \"2020-04-21\", \"region\": \"Biob\\u00edo\", \"casos\": 636, \"codigo region\": 10}, {\"date\": \"2020-04-21\", \"region\": \"Araucan\\u00eda\", \"casos\": 1092, \"codigo region\": 11}, {\"date\": \"2020-04-21\", \"region\": \"Los R\\u00edos\", \"casos\": 167, \"codigo region\": 12}, {\"date\": \"2020-04-21\", \"region\": \"Los Lagos\", \"casos\": 432, \"codigo region\": 13}, {\"date\": \"2020-04-21\", \"region\": \"Ays\\u00e9n\", \"casos\": 7, \"codigo region\": 14}, {\"date\": \"2020-04-21\", \"region\": \"Magallanes\", \"casos\": 593, \"codigo region\": 15}, {\"date\": \"2020-04-22\", \"region\": \"Arica y Parinacota\", \"casos\": 180, \"codigo region\": 0}, {\"date\": \"2020-04-22\", \"region\": \"Tarapac\\u00e1\", \"casos\": 114, \"codigo region\": 1}, {\"date\": \"2020-04-22\", \"region\": \"Antofagasta\", \"casos\": 326, \"codigo region\": 2}, {\"date\": \"2020-04-22\", \"region\": \"Atacama\", \"casos\": 13, \"codigo region\": 3}, {\"date\": \"2020-04-22\", \"region\": \"Coquimbo\", \"casos\": 70, \"codigo region\": 4}, {\"date\": \"2020-04-22\", \"region\": \"Valpara\\u00edso\", \"casos\": 421, \"codigo region\": 5}, {\"date\": \"2020-04-22\", \"region\": \"Metropolitana\", \"casos\": 6083, \"codigo region\": 6}, {\"date\": \"2020-04-22\", \"region\": \"O\\u2019Higgins\", \"casos\": 59, \"codigo region\": 7}, {\"date\": \"2020-04-22\", \"region\": \"Maule\", \"casos\": 328, \"codigo region\": 8}, {\"date\": \"2020-04-22\", \"region\": \"\\u00d1uble\", \"casos\": 703, \"codigo region\": 9}, {\"date\": \"2020-04-22\", \"region\": \"Biob\\u00edo\", \"casos\": 658, \"codigo region\": 10}, {\"date\": \"2020-04-22\", \"region\": \"Araucan\\u00eda\", \"casos\": 1113, \"codigo region\": 11}, {\"date\": \"2020-04-22\", \"region\": \"Los R\\u00edos\", \"casos\": 171, \"codigo region\": 12}, {\"date\": \"2020-04-22\", \"region\": \"Los Lagos\", \"casos\": 445, \"codigo region\": 13}, {\"date\": \"2020-04-22\", \"region\": \"Ays\\u00e9n\", \"casos\": 7, \"codigo region\": 14}, {\"date\": \"2020-04-22\", \"region\": \"Magallanes\", \"casos\": 605, \"codigo region\": 15}, {\"date\": \"2020-04-23\", \"region\": \"Arica y Parinacota\", \"casos\": 210, \"codigo region\": 0}, {\"date\": \"2020-04-23\", \"region\": \"Tarapac\\u00e1\", \"casos\": 128, \"codigo region\": 1}, {\"date\": \"2020-04-23\", \"region\": \"Antofagasta\", \"casos\": 340, \"codigo region\": 2}, {\"date\": \"2020-04-23\", \"region\": \"Atacama\", \"casos\": 18, \"codigo region\": 3}, {\"date\": \"2020-04-23\", \"region\": \"Coquimbo\", \"casos\": 70, \"codigo region\": 4}, {\"date\": \"2020-04-23\", \"region\": \"Valpara\\u00edso\", \"casos\": 429, \"codigo region\": 5}, {\"date\": \"2020-04-23\", \"region\": \"Metropolitana\", \"casos\": 6434, \"codigo region\": 6}, {\"date\": \"2020-04-23\", \"region\": \"O\\u2019Higgins\", \"casos\": 76, \"codigo region\": 7}, {\"date\": \"2020-04-23\", \"region\": \"Maule\", \"casos\": 333, \"codigo region\": 8}, {\"date\": \"2020-04-23\", \"region\": \"\\u00d1uble\", \"casos\": 708, \"codigo region\": 9}, {\"date\": \"2020-04-23\", \"region\": \"Biob\\u00edo\", \"casos\": 675, \"codigo region\": 10}, {\"date\": \"2020-04-23\", \"region\": \"Araucan\\u00eda\", \"casos\": 1142, \"codigo region\": 11}, {\"date\": \"2020-04-23\", \"region\": \"Los R\\u00edos\", \"casos\": 173, \"codigo region\": 12}, {\"date\": \"2020-04-23\", \"region\": \"Los Lagos\", \"casos\": 454, \"codigo region\": 13}, {\"date\": \"2020-04-23\", \"region\": \"Ays\\u00e9n\", \"casos\": 7, \"codigo region\": 14}, {\"date\": \"2020-04-23\", \"region\": \"Magallanes\", \"casos\": 615, \"codigo region\": 15}, {\"date\": \"2020-04-24\", \"region\": \"Arica y Parinacota\", \"casos\": 239, \"codigo region\": 0}, {\"date\": \"2020-04-24\", \"region\": \"Tarapac\\u00e1\", \"casos\": 134, \"codigo region\": 1}, {\"date\": \"2020-04-24\", \"region\": \"Antofagasta\", \"casos\": 366, \"codigo region\": 2}, {\"date\": \"2020-04-24\", \"region\": \"Atacama\", \"casos\": 21, \"codigo region\": 3}, {\"date\": \"2020-04-24\", \"region\": \"Coquimbo\", \"casos\": 72, \"codigo region\": 4}, {\"date\": \"2020-04-24\", \"region\": \"Valpara\\u00edso\", \"casos\": 436, \"codigo region\": 5}, {\"date\": \"2020-04-24\", \"region\": \"Metropolitana\", \"casos\": 6761, \"codigo region\": 6}, {\"date\": \"2020-04-24\", \"region\": \"O\\u2019Higgins\", \"casos\": 81, \"codigo region\": 7}, {\"date\": \"2020-04-24\", \"region\": \"Maule\", \"casos\": 349, \"codigo region\": 8}, {\"date\": \"2020-04-24\", \"region\": \"\\u00d1uble\", \"casos\": 715, \"codigo region\": 9}, {\"date\": \"2020-04-24\", \"region\": \"Biob\\u00edo\", \"casos\": 683, \"codigo region\": 10}, {\"date\": \"2020-04-24\", \"region\": \"Araucan\\u00eda\", \"casos\": 1184, \"codigo region\": 11}, {\"date\": \"2020-04-24\", \"region\": \"Los R\\u00edos\", \"casos\": 174, \"codigo region\": 12}, {\"date\": \"2020-04-24\", \"region\": \"Los Lagos\", \"casos\": 460, \"codigo region\": 13}, {\"date\": \"2020-04-24\", \"region\": \"Ays\\u00e9n\", \"casos\": 7, \"codigo region\": 14}, {\"date\": \"2020-04-24\", \"region\": \"Magallanes\", \"casos\": 624, \"codigo region\": 15}]}}, {\"mode\": \"vega-lite\"});\n",
       "</script>"
      ],
      "text/plain": [
       "alt.HConcatChart(...)"
      ]
     },
     "execution_count": 50,
     "metadata": {},
     "output_type": "execute_result"
    }
   ],
   "source": [
    "#hide_input\n",
    "input_dropdown = alt.binding_select(options=data['region'].unique())\n",
    "selection1 = alt.selection_single(fields=['region'], bind=input_dropdown, name=' ')\n",
    "selection2 = alt.selection_multi(fields=['region'], on='mouseover')\n",
    "color = alt.condition(selection1 | selection2,\n",
    "                    alt.Color('region:N', legend=None),\n",
    "                    alt.value('lightgray'))\n",
    "\n",
    "chart = alt.Chart(data).mark_bar().encode(\n",
    "    x=alt.X('date:O', axis=alt.Axis(title='Fecha (año-mes-día)')),\n",
    "    y=alt.Y('casos', axis=alt.Axis(title='Casos confirmados')),\n",
    "    color=color,\n",
    "    tooltip=['date', 'region', 'casos'],\n",
    "    order=alt.Order(\n",
    "    # Sort the segments of the bars by this field\n",
    "    'codigo region',\n",
    "    sort='descending'\n",
    "    )\n",
    ").properties(\n",
    "    title='COVID-19 en Chile: Total de casos confirmados por región'\n",
    ").add_selection(\n",
    "    selection1, selection2\n",
    ").transform_filter(\n",
    "    selection1\n",
    ")\n",
    "\n",
    "legend = alt.Chart(data).mark_point().encode(\n",
    "    y=alt.Y('region:N', axis=alt.Axis(orient='right'), sort=regiones),\n",
    "    color=color\n",
    ").add_selection(\n",
    "    selection1, selection2\n",
    ")\n",
    "\n",
    "chart.properties(width=600, height=400) | legend"
   ]
  },
  {
   "cell_type": "markdown",
   "metadata": {},
   "source": [
    "Fuente: [Ministerio de Ciencia](https://github.com/MinCiencia/Datos-COVID19)"
   ]
  },
  {
   "cell_type": "markdown",
   "metadata": {},
   "source": [
    "Inspirado del [tweet](https://twitter.com/NachoToledoR/status/1244631395781218306) de [@NachoToledoR](https://twitter.com/NachoToledoR)."
   ]
  },
  {
   "cell_type": "markdown",
   "metadata": {},
   "source": [
    "# Evolución de fallecidos confirmados por región"
   ]
  },
  {
   "cell_type": "code",
   "execution_count": 32,
   "metadata": {},
   "outputs": [],
   "source": [
    "#hide\n",
    "data = pd.DataFrame()\n",
    "data_raw = pd.read_csv(\n",
    "    \"https://raw.githubusercontent.com/MinCiencia/Datos-COVID19/master/output/producto4/2020-03-24-CasosConfirmados-totalRegional.csv\",\n",
    "    index_col='Region')\n",
    "data['2020-03-24'] = data_raw['Fallecidos']"
   ]
  },
  {
   "cell_type": "code",
   "execution_count": 33,
   "metadata": {},
   "outputs": [],
   "source": [
    "#hide\n",
    "first_death_date = '2020-03-24'\n",
    "total_days = (pd.to_datetime(today)-pd.to_datetime(first_death_date)).days"
   ]
  },
  {
   "cell_type": "code",
   "execution_count": 34,
   "metadata": {},
   "outputs": [],
   "source": [
    "#hide\n",
    "for i in np.arange(total_days+1):\n",
    "  date = (pd.to_datetime(first_death_date)+pd.DateOffset(i)).strftime('%Y-%m-%d')\n",
    "  s = \"https://raw.githubusercontent.com/MinCiencia/Datos-COVID19/master/output/producto4/\" + date + \"-CasosConfirmados-totalRegional.csv\"\n",
    "  data_by_date = pd.read_csv(s)\n",
    "  if 'Fallecidos' in data_by_date.columns:\n",
    "    data[date] = data_by_date[\"Fallecidos\"].values\n",
    "  elif 'Casos fallecidos' in data_by_date.columns:\n",
    "    data[date] = data_by_date[\"Casos fallecidos\"].values\n",
    "  else:\n",
    "    data[date] = data_by_date[\" Casos fallecidos\"].values"
   ]
  },
  {
   "cell_type": "code",
   "execution_count": 35,
   "metadata": {},
   "outputs": [],
   "source": [
    "#hide\n",
    "data = data.drop(\"Total\")"
   ]
  },
  {
   "cell_type": "code",
   "execution_count": 36,
   "metadata": {},
   "outputs": [],
   "source": [
    "#hide\n",
    "new_data = pd.DataFrame()\n",
    "i = 0\n",
    "for date in data.keys():\n",
    "    for n, region in enumerate(data.index):\n",
    "        new_data[i] = date, region, data[date].loc[region], n\n",
    "        i += 1"
   ]
  },
  {
   "cell_type": "code",
   "execution_count": 37,
   "metadata": {},
   "outputs": [],
   "source": [
    "#hide\n",
    "data = data.reset_index()\n",
    "regiones = data['Region'].values\n",
    "new_data = new_data.T\n",
    "new_data = new_data.rename(columns={0: \"date\", 1: \"region\", 2: \"fallecidos\", 3: \"codigo region\"})"
   ]
  },
  {
   "cell_type": "code",
   "execution_count": 38,
   "metadata": {},
   "outputs": [],
   "source": [
    "#hide\n",
    "new_data[\"fallecidos\"] = new_data[\"fallecidos\"].astype(int)"
   ]
  },
  {
   "cell_type": "code",
   "execution_count": 43,
   "metadata": {},
   "outputs": [
    {
     "data": {
      "text/html": [
       "\n",
       "<div id=\"altair-viz-a406379a6f4c466eaeab2b0700715bbc\"></div>\n",
       "<script type=\"text/javascript\">\n",
       "  (function(spec, embedOpt){\n",
       "    let outputDiv = document.currentScript.previousElementSibling;\n",
       "    if (outputDiv.id !== \"altair-viz-a406379a6f4c466eaeab2b0700715bbc\") {\n",
       "      outputDiv = document.getElementById(\"altair-viz-a406379a6f4c466eaeab2b0700715bbc\");\n",
       "    }\n",
       "    const paths = {\n",
       "      \"vega\": \"https://cdn.jsdelivr.net/npm//vega@5?noext\",\n",
       "      \"vega-lib\": \"https://cdn.jsdelivr.net/npm//vega-lib?noext\",\n",
       "      \"vega-lite\": \"https://cdn.jsdelivr.net/npm//vega-lite@4.8.1?noext\",\n",
       "      \"vega-embed\": \"https://cdn.jsdelivr.net/npm//vega-embed@6?noext\",\n",
       "    };\n",
       "\n",
       "    function loadScript(lib) {\n",
       "      return new Promise(function(resolve, reject) {\n",
       "        var s = document.createElement('script');\n",
       "        s.src = paths[lib];\n",
       "        s.async = true;\n",
       "        s.onload = () => resolve(paths[lib]);\n",
       "        s.onerror = () => reject(`Error loading script: ${paths[lib]}`);\n",
       "        document.getElementsByTagName(\"head\")[0].appendChild(s);\n",
       "      });\n",
       "    }\n",
       "\n",
       "    function showError(err) {\n",
       "      outputDiv.innerHTML = `<div class=\"error\" style=\"color:red;\">${err}</div>`;\n",
       "      throw err;\n",
       "    }\n",
       "\n",
       "    function displayChart(vegaEmbed) {\n",
       "      vegaEmbed(outputDiv, spec, embedOpt)\n",
       "        .catch(err => showError(`Javascript Error: ${err.message}<br>This usually means there's a typo in your chart specification. See the javascript console for the full traceback.`));\n",
       "    }\n",
       "\n",
       "    if(typeof define === \"function\" && define.amd) {\n",
       "      requirejs.config({paths});\n",
       "      require([\"vega-embed\"], displayChart, err => showError(`Error loading script: ${err.message}`));\n",
       "    } else if (typeof vegaEmbed === \"function\") {\n",
       "      displayChart(vegaEmbed);\n",
       "    } else {\n",
       "      loadScript(\"vega\")\n",
       "        .then(() => loadScript(\"vega-lite\"))\n",
       "        .then(() => loadScript(\"vega-embed\"))\n",
       "        .catch(showError)\n",
       "        .then(() => displayChart(vegaEmbed));\n",
       "    }\n",
       "  })({\"config\": {\"view\": {\"continuousWidth\": 400, \"continuousHeight\": 300}}, \"hconcat\": [{\"mark\": \"bar\", \"encoding\": {\"color\": {\"condition\": {\"type\": \"nominal\", \"field\": \"region\", \"legend\": null, \"selection\": {\"or\": [\" \", \"selector008\"]}}, \"value\": \"lightgray\"}, \"order\": {\"type\": \"quantitative\", \"field\": \"codigo region\", \"sort\": \"descending\"}, \"tooltip\": [{\"type\": \"nominal\", \"field\": \"date\"}, {\"type\": \"nominal\", \"field\": \"region\"}, {\"type\": \"quantitative\", \"field\": \"fallecidos\"}], \"x\": {\"type\": \"ordinal\", \"axis\": {\"title\": \"Fecha (a\\u00f1o-mes-d\\u00eda)\"}, \"field\": \"date\"}, \"y\": {\"type\": \"quantitative\", \"axis\": {\"title\": \"Fallecidos confirmados\"}, \"field\": \"fallecidos\"}}, \"height\": 400, \"selection\": {\" \": {\"type\": \"single\", \"fields\": [\"region\"], \"bind\": {\"input\": \"select\", \"options\": [\"Arica y Parinacota\", \"Tarapac\\u00e1\", \"Antofagasta\", \"Atacama\", \"Coquimbo\", \"Valpara\\u00edso\", \"Metropolitana\", \"O\\u2019Higgins\", \"Maule\", \"\\u00d1uble\", \"Biob\\u00edo\", \"Araucan\\u00eda\", \"Los R\\u00edos\", \"Los Lagos\", \"Ays\\u00e9n\", \"Magallanes\"]}}, \"selector008\": {\"type\": \"multi\", \"fields\": [\"region\"], \"on\": \"mouseover\"}}, \"title\": \"COVID-19 en Chile: Total de fallecidos confirmados por regi\\u00f3n\", \"transform\": [{\"filter\": {\"selection\": \" \"}}], \"width\": 600}, {\"mark\": \"point\", \"encoding\": {\"color\": {\"condition\": {\"type\": \"nominal\", \"field\": \"region\", \"legend\": null, \"selection\": {\"or\": [\" \", \"selector008\"]}}, \"value\": \"lightgray\"}, \"y\": {\"type\": \"nominal\", \"axis\": {\"orient\": \"right\"}, \"field\": \"region\", \"sort\": [\"Arica y Parinacota\", \"Tarapac\\u00e1\", \"Antofagasta\", \"Atacama\", \"Coquimbo\", \"Valpara\\u00edso\", \"Metropolitana\", \"O\\u2019Higgins\", \"Maule\", \"\\u00d1uble\", \"Biob\\u00edo\", \"Araucan\\u00eda\", \"Los R\\u00edos\", \"Los Lagos\", \"Ays\\u00e9n\", \"Magallanes\"]}}, \"selection\": {\" \": {\"type\": \"single\", \"fields\": [\"region\"], \"bind\": {\"input\": \"select\", \"options\": [\"Arica y Parinacota\", \"Tarapac\\u00e1\", \"Antofagasta\", \"Atacama\", \"Coquimbo\", \"Valpara\\u00edso\", \"Metropolitana\", \"O\\u2019Higgins\", \"Maule\", \"\\u00d1uble\", \"Biob\\u00edo\", \"Araucan\\u00eda\", \"Los R\\u00edos\", \"Los Lagos\", \"Ays\\u00e9n\", \"Magallanes\"]}}, \"selector008\": {\"type\": \"multi\", \"fields\": [\"region\"], \"on\": \"mouseover\"}}}], \"data\": {\"name\": \"data-55e1227071c55c8408938cb79b631841\"}, \"$schema\": \"https://vega.github.io/schema/vega-lite/v4.8.1.json\", \"datasets\": {\"data-55e1227071c55c8408938cb79b631841\": [{\"date\": \"2020-03-24\", \"region\": \"Arica y Parinacota\", \"fallecidos\": 0, \"codigo region\": 0}, {\"date\": \"2020-03-24\", \"region\": \"Tarapac\\u00e1\", \"fallecidos\": 0, \"codigo region\": 1}, {\"date\": \"2020-03-24\", \"region\": \"Antofagasta\", \"fallecidos\": 0, \"codigo region\": 2}, {\"date\": \"2020-03-24\", \"region\": \"Atacama\", \"fallecidos\": 0, \"codigo region\": 3}, {\"date\": \"2020-03-24\", \"region\": \"Coquimbo\", \"fallecidos\": 0, \"codigo region\": 4}, {\"date\": \"2020-03-24\", \"region\": \"Valpara\\u00edso\", \"fallecidos\": 0, \"codigo region\": 5}, {\"date\": \"2020-03-24\", \"region\": \"Metropolitana\", \"fallecidos\": 2, \"codigo region\": 6}, {\"date\": \"2020-03-24\", \"region\": \"O\\u2019Higgins\", \"fallecidos\": 0, \"codigo region\": 7}, {\"date\": \"2020-03-24\", \"region\": \"Maule\", \"fallecidos\": 0, \"codigo region\": 8}, {\"date\": \"2020-03-24\", \"region\": \"\\u00d1uble\", \"fallecidos\": 0, \"codigo region\": 9}, {\"date\": \"2020-03-24\", \"region\": \"Biob\\u00edo\", \"fallecidos\": 0, \"codigo region\": 10}, {\"date\": \"2020-03-24\", \"region\": \"Araucan\\u00eda\", \"fallecidos\": 0, \"codigo region\": 11}, {\"date\": \"2020-03-24\", \"region\": \"Los R\\u00edos\", \"fallecidos\": 0, \"codigo region\": 12}, {\"date\": \"2020-03-24\", \"region\": \"Los Lagos\", \"fallecidos\": 0, \"codigo region\": 13}, {\"date\": \"2020-03-24\", \"region\": \"Ays\\u00e9n\", \"fallecidos\": 0, \"codigo region\": 14}, {\"date\": \"2020-03-24\", \"region\": \"Magallanes\", \"fallecidos\": 0, \"codigo region\": 15}, {\"date\": \"2020-03-25\", \"region\": \"Arica y Parinacota\", \"fallecidos\": 0, \"codigo region\": 0}, {\"date\": \"2020-03-25\", \"region\": \"Tarapac\\u00e1\", \"fallecidos\": 0, \"codigo region\": 1}, {\"date\": \"2020-03-25\", \"region\": \"Antofagasta\", \"fallecidos\": 0, \"codigo region\": 2}, {\"date\": \"2020-03-25\", \"region\": \"Atacama\", \"fallecidos\": 0, \"codigo region\": 3}, {\"date\": \"2020-03-25\", \"region\": \"Coquimbo\", \"fallecidos\": 0, \"codigo region\": 4}, {\"date\": \"2020-03-25\", \"region\": \"Valpara\\u00edso\", \"fallecidos\": 0, \"codigo region\": 5}, {\"date\": \"2020-03-25\", \"region\": \"Metropolitana\", \"fallecidos\": 2, \"codigo region\": 6}, {\"date\": \"2020-03-25\", \"region\": \"O\\u2019Higgins\", \"fallecidos\": 0, \"codigo region\": 7}, {\"date\": \"2020-03-25\", \"region\": \"Maule\", \"fallecidos\": 0, \"codigo region\": 8}, {\"date\": \"2020-03-25\", \"region\": \"\\u00d1uble\", \"fallecidos\": 0, \"codigo region\": 9}, {\"date\": \"2020-03-25\", \"region\": \"Biob\\u00edo\", \"fallecidos\": 1, \"codigo region\": 10}, {\"date\": \"2020-03-25\", \"region\": \"Araucan\\u00eda\", \"fallecidos\": 0, \"codigo region\": 11}, {\"date\": \"2020-03-25\", \"region\": \"Los R\\u00edos\", \"fallecidos\": 0, \"codigo region\": 12}, {\"date\": \"2020-03-25\", \"region\": \"Los Lagos\", \"fallecidos\": 0, \"codigo region\": 13}, {\"date\": \"2020-03-25\", \"region\": \"Ays\\u00e9n\", \"fallecidos\": 0, \"codigo region\": 14}, {\"date\": \"2020-03-25\", \"region\": \"Magallanes\", \"fallecidos\": 0, \"codigo region\": 15}, {\"date\": \"2020-03-26\", \"region\": \"Arica y Parinacota\", \"fallecidos\": 0, \"codigo region\": 0}, {\"date\": \"2020-03-26\", \"region\": \"Tarapac\\u00e1\", \"fallecidos\": 0, \"codigo region\": 1}, {\"date\": \"2020-03-26\", \"region\": \"Antofagasta\", \"fallecidos\": 0, \"codigo region\": 2}, {\"date\": \"2020-03-26\", \"region\": \"Atacama\", \"fallecidos\": 0, \"codigo region\": 3}, {\"date\": \"2020-03-26\", \"region\": \"Coquimbo\", \"fallecidos\": 0, \"codigo region\": 4}, {\"date\": \"2020-03-26\", \"region\": \"Valpara\\u00edso\", \"fallecidos\": 0, \"codigo region\": 5}, {\"date\": \"2020-03-26\", \"region\": \"Metropolitana\", \"fallecidos\": 3, \"codigo region\": 6}, {\"date\": \"2020-03-26\", \"region\": \"O\\u2019Higgins\", \"fallecidos\": 0, \"codigo region\": 7}, {\"date\": \"2020-03-26\", \"region\": \"Maule\", \"fallecidos\": 0, \"codigo region\": 8}, {\"date\": \"2020-03-26\", \"region\": \"\\u00d1uble\", \"fallecidos\": 0, \"codigo region\": 9}, {\"date\": \"2020-03-26\", \"region\": \"Biob\\u00edo\", \"fallecidos\": 1, \"codigo region\": 10}, {\"date\": \"2020-03-26\", \"region\": \"Araucan\\u00eda\", \"fallecidos\": 0, \"codigo region\": 11}, {\"date\": \"2020-03-26\", \"region\": \"Los R\\u00edos\", \"fallecidos\": 0, \"codigo region\": 12}, {\"date\": \"2020-03-26\", \"region\": \"Los Lagos\", \"fallecidos\": 0, \"codigo region\": 13}, {\"date\": \"2020-03-26\", \"region\": \"Ays\\u00e9n\", \"fallecidos\": 0, \"codigo region\": 14}, {\"date\": \"2020-03-26\", \"region\": \"Magallanes\", \"fallecidos\": 0, \"codigo region\": 15}, {\"date\": \"2020-03-27\", \"region\": \"Arica y Parinacota\", \"fallecidos\": 0, \"codigo region\": 0}, {\"date\": \"2020-03-27\", \"region\": \"Tarapac\\u00e1\", \"fallecidos\": 0, \"codigo region\": 1}, {\"date\": \"2020-03-27\", \"region\": \"Antofagasta\", \"fallecidos\": 0, \"codigo region\": 2}, {\"date\": \"2020-03-27\", \"region\": \"Atacama\", \"fallecidos\": 0, \"codigo region\": 3}, {\"date\": \"2020-03-27\", \"region\": \"Coquimbo\", \"fallecidos\": 0, \"codigo region\": 4}, {\"date\": \"2020-03-27\", \"region\": \"Valpara\\u00edso\", \"fallecidos\": 0, \"codigo region\": 5}, {\"date\": \"2020-03-27\", \"region\": \"Metropolitana\", \"fallecidos\": 3, \"codigo region\": 6}, {\"date\": \"2020-03-27\", \"region\": \"O\\u2019Higgins\", \"fallecidos\": 0, \"codigo region\": 7}, {\"date\": \"2020-03-27\", \"region\": \"Maule\", \"fallecidos\": 0, \"codigo region\": 8}, {\"date\": \"2020-03-27\", \"region\": \"\\u00d1uble\", \"fallecidos\": 0, \"codigo region\": 9}, {\"date\": \"2020-03-27\", \"region\": \"Biob\\u00edo\", \"fallecidos\": 2, \"codigo region\": 10}, {\"date\": \"2020-03-27\", \"region\": \"Araucan\\u00eda\", \"fallecidos\": 0, \"codigo region\": 11}, {\"date\": \"2020-03-27\", \"region\": \"Los R\\u00edos\", \"fallecidos\": 0, \"codigo region\": 12}, {\"date\": \"2020-03-27\", \"region\": \"Los Lagos\", \"fallecidos\": 0, \"codigo region\": 13}, {\"date\": \"2020-03-27\", \"region\": \"Ays\\u00e9n\", \"fallecidos\": 0, \"codigo region\": 14}, {\"date\": \"2020-03-27\", \"region\": \"Magallanes\", \"fallecidos\": 0, \"codigo region\": 15}, {\"date\": \"2020-03-28\", \"region\": \"Arica y Parinacota\", \"fallecidos\": 0, \"codigo region\": 0}, {\"date\": \"2020-03-28\", \"region\": \"Tarapac\\u00e1\", \"fallecidos\": 0, \"codigo region\": 1}, {\"date\": \"2020-03-28\", \"region\": \"Antofagasta\", \"fallecidos\": 0, \"codigo region\": 2}, {\"date\": \"2020-03-28\", \"region\": \"Atacama\", \"fallecidos\": 0, \"codigo region\": 3}, {\"date\": \"2020-03-28\", \"region\": \"Coquimbo\", \"fallecidos\": 0, \"codigo region\": 4}, {\"date\": \"2020-03-28\", \"region\": \"Valpara\\u00edso\", \"fallecidos\": 0, \"codigo region\": 5}, {\"date\": \"2020-03-28\", \"region\": \"Metropolitana\", \"fallecidos\": 3, \"codigo region\": 6}, {\"date\": \"2020-03-28\", \"region\": \"O\\u2019Higgins\", \"fallecidos\": 0, \"codigo region\": 7}, {\"date\": \"2020-03-28\", \"region\": \"Maule\", \"fallecidos\": 0, \"codigo region\": 8}, {\"date\": \"2020-03-28\", \"region\": \"\\u00d1uble\", \"fallecidos\": 0, \"codigo region\": 9}, {\"date\": \"2020-03-28\", \"region\": \"Biob\\u00edo\", \"fallecidos\": 2, \"codigo region\": 10}, {\"date\": \"2020-03-28\", \"region\": \"Araucan\\u00eda\", \"fallecidos\": 1, \"codigo region\": 11}, {\"date\": \"2020-03-28\", \"region\": \"Los R\\u00edos\", \"fallecidos\": 0, \"codigo region\": 12}, {\"date\": \"2020-03-28\", \"region\": \"Los Lagos\", \"fallecidos\": 0, \"codigo region\": 13}, {\"date\": \"2020-03-28\", \"region\": \"Ays\\u00e9n\", \"fallecidos\": 0, \"codigo region\": 14}, {\"date\": \"2020-03-28\", \"region\": \"Magallanes\", \"fallecidos\": 0, \"codigo region\": 15}, {\"date\": \"2020-03-29\", \"region\": \"Arica y Parinacota\", \"fallecidos\": 0, \"codigo region\": 0}, {\"date\": \"2020-03-29\", \"region\": \"Tarapac\\u00e1\", \"fallecidos\": 0, \"codigo region\": 1}, {\"date\": \"2020-03-29\", \"region\": \"Antofagasta\", \"fallecidos\": 0, \"codigo region\": 2}, {\"date\": \"2020-03-29\", \"region\": \"Atacama\", \"fallecidos\": 0, \"codigo region\": 3}, {\"date\": \"2020-03-29\", \"region\": \"Coquimbo\", \"fallecidos\": 0, \"codigo region\": 4}, {\"date\": \"2020-03-29\", \"region\": \"Valpara\\u00edso\", \"fallecidos\": 0, \"codigo region\": 5}, {\"date\": \"2020-03-29\", \"region\": \"Metropolitana\", \"fallecidos\": 3, \"codigo region\": 6}, {\"date\": \"2020-03-29\", \"region\": \"O\\u2019Higgins\", \"fallecidos\": 0, \"codigo region\": 7}, {\"date\": \"2020-03-29\", \"region\": \"Maule\", \"fallecidos\": 0, \"codigo region\": 8}, {\"date\": \"2020-03-29\", \"region\": \"\\u00d1uble\", \"fallecidos\": 0, \"codigo region\": 9}, {\"date\": \"2020-03-29\", \"region\": \"Biob\\u00edo\", \"fallecidos\": 2, \"codigo region\": 10}, {\"date\": \"2020-03-29\", \"region\": \"Araucan\\u00eda\", \"fallecidos\": 2, \"codigo region\": 11}, {\"date\": \"2020-03-29\", \"region\": \"Los R\\u00edos\", \"fallecidos\": 0, \"codigo region\": 12}, {\"date\": \"2020-03-29\", \"region\": \"Los Lagos\", \"fallecidos\": 0, \"codigo region\": 13}, {\"date\": \"2020-03-29\", \"region\": \"Ays\\u00e9n\", \"fallecidos\": 0, \"codigo region\": 14}, {\"date\": \"2020-03-29\", \"region\": \"Magallanes\", \"fallecidos\": 0, \"codigo region\": 15}, {\"date\": \"2020-03-30\", \"region\": \"Arica y Parinacota\", \"fallecidos\": 0, \"codigo region\": 0}, {\"date\": \"2020-03-30\", \"region\": \"Tarapac\\u00e1\", \"fallecidos\": 0, \"codigo region\": 1}, {\"date\": \"2020-03-30\", \"region\": \"Antofagasta\", \"fallecidos\": 0, \"codigo region\": 2}, {\"date\": \"2020-03-30\", \"region\": \"Atacama\", \"fallecidos\": 0, \"codigo region\": 3}, {\"date\": \"2020-03-30\", \"region\": \"Coquimbo\", \"fallecidos\": 0, \"codigo region\": 4}, {\"date\": \"2020-03-30\", \"region\": \"Valpara\\u00edso\", \"fallecidos\": 0, \"codigo region\": 5}, {\"date\": \"2020-03-30\", \"region\": \"Metropolitana\", \"fallecidos\": 3, \"codigo region\": 6}, {\"date\": \"2020-03-30\", \"region\": \"O\\u2019Higgins\", \"fallecidos\": 0, \"codigo region\": 7}, {\"date\": \"2020-03-30\", \"region\": \"Maule\", \"fallecidos\": 1, \"codigo region\": 8}, {\"date\": \"2020-03-30\", \"region\": \"\\u00d1uble\", \"fallecidos\": 0, \"codigo region\": 9}, {\"date\": \"2020-03-30\", \"region\": \"Biob\\u00edo\", \"fallecidos\": 2, \"codigo region\": 10}, {\"date\": \"2020-03-30\", \"region\": \"Araucan\\u00eda\", \"fallecidos\": 2, \"codigo region\": 11}, {\"date\": \"2020-03-30\", \"region\": \"Los R\\u00edos\", \"fallecidos\": 0, \"codigo region\": 12}, {\"date\": \"2020-03-30\", \"region\": \"Los Lagos\", \"fallecidos\": 0, \"codigo region\": 13}, {\"date\": \"2020-03-30\", \"region\": \"Ays\\u00e9n\", \"fallecidos\": 0, \"codigo region\": 14}, {\"date\": \"2020-03-30\", \"region\": \"Magallanes\", \"fallecidos\": 0, \"codigo region\": 15}, {\"date\": \"2020-03-31\", \"region\": \"Arica y Parinacota\", \"fallecidos\": 0, \"codigo region\": 0}, {\"date\": \"2020-03-31\", \"region\": \"Tarapac\\u00e1\", \"fallecidos\": 0, \"codigo region\": 1}, {\"date\": \"2020-03-31\", \"region\": \"Antofagasta\", \"fallecidos\": 0, \"codigo region\": 2}, {\"date\": \"2020-03-31\", \"region\": \"Atacama\", \"fallecidos\": 0, \"codigo region\": 3}, {\"date\": \"2020-03-31\", \"region\": \"Coquimbo\", \"fallecidos\": 0, \"codigo region\": 4}, {\"date\": \"2020-03-31\", \"region\": \"Valpara\\u00edso\", \"fallecidos\": 1, \"codigo region\": 5}, {\"date\": \"2020-03-31\", \"region\": \"Metropolitana\", \"fallecidos\": 4, \"codigo region\": 6}, {\"date\": \"2020-03-31\", \"region\": \"O\\u2019Higgins\", \"fallecidos\": 0, \"codigo region\": 7}, {\"date\": \"2020-03-31\", \"region\": \"Maule\", \"fallecidos\": 1, \"codigo region\": 8}, {\"date\": \"2020-03-31\", \"region\": \"\\u00d1uble\", \"fallecidos\": 0, \"codigo region\": 9}, {\"date\": \"2020-03-31\", \"region\": \"Biob\\u00edo\", \"fallecidos\": 2, \"codigo region\": 10}, {\"date\": \"2020-03-31\", \"region\": \"Araucan\\u00eda\", \"fallecidos\": 4, \"codigo region\": 11}, {\"date\": \"2020-03-31\", \"region\": \"Los R\\u00edos\", \"fallecidos\": 0, \"codigo region\": 12}, {\"date\": \"2020-03-31\", \"region\": \"Los Lagos\", \"fallecidos\": 0, \"codigo region\": 13}, {\"date\": \"2020-03-31\", \"region\": \"Ays\\u00e9n\", \"fallecidos\": 0, \"codigo region\": 14}, {\"date\": \"2020-03-31\", \"region\": \"Magallanes\", \"fallecidos\": 0, \"codigo region\": 15}, {\"date\": \"2020-04-01\", \"region\": \"Arica y Parinacota\", \"fallecidos\": 0, \"codigo region\": 0}, {\"date\": \"2020-04-01\", \"region\": \"Tarapac\\u00e1\", \"fallecidos\": 0, \"codigo region\": 1}, {\"date\": \"2020-04-01\", \"region\": \"Antofagasta\", \"fallecidos\": 0, \"codigo region\": 2}, {\"date\": \"2020-04-01\", \"region\": \"Atacama\", \"fallecidos\": 0, \"codigo region\": 3}, {\"date\": \"2020-04-01\", \"region\": \"Coquimbo\", \"fallecidos\": 0, \"codigo region\": 4}, {\"date\": \"2020-04-01\", \"region\": \"Valpara\\u00edso\", \"fallecidos\": 1, \"codigo region\": 5}, {\"date\": \"2020-04-01\", \"region\": \"Metropolitana\", \"fallecidos\": 5, \"codigo region\": 6}, {\"date\": \"2020-04-01\", \"region\": \"O\\u2019Higgins\", \"fallecidos\": 0, \"codigo region\": 7}, {\"date\": \"2020-04-01\", \"region\": \"Maule\", \"fallecidos\": 1, \"codigo region\": 8}, {\"date\": \"2020-04-01\", \"region\": \"\\u00d1uble\", \"fallecidos\": 0, \"codigo region\": 9}, {\"date\": \"2020-04-01\", \"region\": \"Biob\\u00edo\", \"fallecidos\": 2, \"codigo region\": 10}, {\"date\": \"2020-04-01\", \"region\": \"Araucan\\u00eda\", \"fallecidos\": 6, \"codigo region\": 11}, {\"date\": \"2020-04-01\", \"region\": \"Los R\\u00edos\", \"fallecidos\": 1, \"codigo region\": 12}, {\"date\": \"2020-04-01\", \"region\": \"Los Lagos\", \"fallecidos\": 0, \"codigo region\": 13}, {\"date\": \"2020-04-01\", \"region\": \"Ays\\u00e9n\", \"fallecidos\": 0, \"codigo region\": 14}, {\"date\": \"2020-04-01\", \"region\": \"Magallanes\", \"fallecidos\": 0, \"codigo region\": 15}, {\"date\": \"2020-04-02\", \"region\": \"Arica y Parinacota\", \"fallecidos\": 0, \"codigo region\": 0}, {\"date\": \"2020-04-02\", \"region\": \"Tarapac\\u00e1\", \"fallecidos\": 0, \"codigo region\": 1}, {\"date\": \"2020-04-02\", \"region\": \"Antofagasta\", \"fallecidos\": 0, \"codigo region\": 2}, {\"date\": \"2020-04-02\", \"region\": \"Atacama\", \"fallecidos\": 0, \"codigo region\": 3}, {\"date\": \"2020-04-02\", \"region\": \"Coquimbo\", \"fallecidos\": 0, \"codigo region\": 4}, {\"date\": \"2020-04-02\", \"region\": \"Valpara\\u00edso\", \"fallecidos\": 1, \"codigo region\": 5}, {\"date\": \"2020-04-02\", \"region\": \"Metropolitana\", \"fallecidos\": 6, \"codigo region\": 6}, {\"date\": \"2020-04-02\", \"region\": \"O\\u2019Higgins\", \"fallecidos\": 0, \"codigo region\": 7}, {\"date\": \"2020-04-02\", \"region\": \"Maule\", \"fallecidos\": 1, \"codigo region\": 8}, {\"date\": \"2020-04-02\", \"region\": \"\\u00d1uble\", \"fallecidos\": 0, \"codigo region\": 9}, {\"date\": \"2020-04-02\", \"region\": \"Biob\\u00edo\", \"fallecidos\": 2, \"codigo region\": 10}, {\"date\": \"2020-04-02\", \"region\": \"Araucan\\u00eda\", \"fallecidos\": 7, \"codigo region\": 11}, {\"date\": \"2020-04-02\", \"region\": \"Los R\\u00edos\", \"fallecidos\": 1, \"codigo region\": 12}, {\"date\": \"2020-04-02\", \"region\": \"Los Lagos\", \"fallecidos\": 0, \"codigo region\": 13}, {\"date\": \"2020-04-02\", \"region\": \"Ays\\u00e9n\", \"fallecidos\": 0, \"codigo region\": 14}, {\"date\": \"2020-04-02\", \"region\": \"Magallanes\", \"fallecidos\": 0, \"codigo region\": 15}, {\"date\": \"2020-04-03\", \"region\": \"Arica y Parinacota\", \"fallecidos\": 0, \"codigo region\": 0}, {\"date\": \"2020-04-03\", \"region\": \"Tarapac\\u00e1\", \"fallecidos\": 0, \"codigo region\": 1}, {\"date\": \"2020-04-03\", \"region\": \"Antofagasta\", \"fallecidos\": 0, \"codigo region\": 2}, {\"date\": \"2020-04-03\", \"region\": \"Atacama\", \"fallecidos\": 0, \"codigo region\": 3}, {\"date\": \"2020-04-03\", \"region\": \"Coquimbo\", \"fallecidos\": 0, \"codigo region\": 4}, {\"date\": \"2020-04-03\", \"region\": \"Valpara\\u00edso\", \"fallecidos\": 1, \"codigo region\": 5}, {\"date\": \"2020-04-03\", \"region\": \"Metropolitana\", \"fallecidos\": 8, \"codigo region\": 6}, {\"date\": \"2020-04-03\", \"region\": \"O\\u2019Higgins\", \"fallecidos\": 0, \"codigo region\": 7}, {\"date\": \"2020-04-03\", \"region\": \"Maule\", \"fallecidos\": 1, \"codigo region\": 8}, {\"date\": \"2020-04-03\", \"region\": \"\\u00d1uble\", \"fallecidos\": 1, \"codigo region\": 9}, {\"date\": \"2020-04-03\", \"region\": \"Biob\\u00edo\", \"fallecidos\": 2, \"codigo region\": 10}, {\"date\": \"2020-04-03\", \"region\": \"Araucan\\u00eda\", \"fallecidos\": 7, \"codigo region\": 11}, {\"date\": \"2020-04-03\", \"region\": \"Los R\\u00edos\", \"fallecidos\": 1, \"codigo region\": 12}, {\"date\": \"2020-04-03\", \"region\": \"Los Lagos\", \"fallecidos\": 0, \"codigo region\": 13}, {\"date\": \"2020-04-03\", \"region\": \"Ays\\u00e9n\", \"fallecidos\": 0, \"codigo region\": 14}, {\"date\": \"2020-04-03\", \"region\": \"Magallanes\", \"fallecidos\": 1, \"codigo region\": 15}, {\"date\": \"2020-04-04\", \"region\": \"Arica y Parinacota\", \"fallecidos\": 0, \"codigo region\": 0}, {\"date\": \"2020-04-04\", \"region\": \"Tarapac\\u00e1\", \"fallecidos\": 0, \"codigo region\": 1}, {\"date\": \"2020-04-04\", \"region\": \"Antofagasta\", \"fallecidos\": 0, \"codigo region\": 2}, {\"date\": \"2020-04-04\", \"region\": \"Atacama\", \"fallecidos\": 0, \"codigo region\": 3}, {\"date\": \"2020-04-04\", \"region\": \"Coquimbo\", \"fallecidos\": 0, \"codigo region\": 4}, {\"date\": \"2020-04-04\", \"region\": \"Valpara\\u00edso\", \"fallecidos\": 1, \"codigo region\": 5}, {\"date\": \"2020-04-04\", \"region\": \"Metropolitana\", \"fallecidos\": 9, \"codigo region\": 6}, {\"date\": \"2020-04-04\", \"region\": \"O\\u2019Higgins\", \"fallecidos\": 0, \"codigo region\": 7}, {\"date\": \"2020-04-04\", \"region\": \"Maule\", \"fallecidos\": 1, \"codigo region\": 8}, {\"date\": \"2020-04-04\", \"region\": \"\\u00d1uble\", \"fallecidos\": 2, \"codigo region\": 9}, {\"date\": \"2020-04-04\", \"region\": \"Biob\\u00edo\", \"fallecidos\": 2, \"codigo region\": 10}, {\"date\": \"2020-04-04\", \"region\": \"Araucan\\u00eda\", \"fallecidos\": 9, \"codigo region\": 11}, {\"date\": \"2020-04-04\", \"region\": \"Los R\\u00edos\", \"fallecidos\": 1, \"codigo region\": 12}, {\"date\": \"2020-04-04\", \"region\": \"Los Lagos\", \"fallecidos\": 0, \"codigo region\": 13}, {\"date\": \"2020-04-04\", \"region\": \"Ays\\u00e9n\", \"fallecidos\": 0, \"codigo region\": 14}, {\"date\": \"2020-04-04\", \"region\": \"Magallanes\", \"fallecidos\": 2, \"codigo region\": 15}, {\"date\": \"2020-04-05\", \"region\": \"Arica y Parinacota\", \"fallecidos\": 0, \"codigo region\": 0}, {\"date\": \"2020-04-05\", \"region\": \"Tarapac\\u00e1\", \"fallecidos\": 0, \"codigo region\": 1}, {\"date\": \"2020-04-05\", \"region\": \"Antofagasta\", \"fallecidos\": 0, \"codigo region\": 2}, {\"date\": \"2020-04-05\", \"region\": \"Atacama\", \"fallecidos\": 0, \"codigo region\": 3}, {\"date\": \"2020-04-05\", \"region\": \"Coquimbo\", \"fallecidos\": 0, \"codigo region\": 4}, {\"date\": \"2020-04-05\", \"region\": \"Valpara\\u00edso\", \"fallecidos\": 1, \"codigo region\": 5}, {\"date\": \"2020-04-05\", \"region\": \"Metropolitana\", \"fallecidos\": 10, \"codigo region\": 6}, {\"date\": \"2020-04-05\", \"region\": \"O\\u2019Higgins\", \"fallecidos\": 0, \"codigo region\": 7}, {\"date\": \"2020-04-05\", \"region\": \"Maule\", \"fallecidos\": 1, \"codigo region\": 8}, {\"date\": \"2020-04-05\", \"region\": \"\\u00d1uble\", \"fallecidos\": 3, \"codigo region\": 9}, {\"date\": \"2020-04-05\", \"region\": \"Biob\\u00edo\", \"fallecidos\": 2, \"codigo region\": 10}, {\"date\": \"2020-04-05\", \"region\": \"Araucan\\u00eda\", \"fallecidos\": 13, \"codigo region\": 11}, {\"date\": \"2020-04-05\", \"region\": \"Los R\\u00edos\", \"fallecidos\": 1, \"codigo region\": 12}, {\"date\": \"2020-04-05\", \"region\": \"Los Lagos\", \"fallecidos\": 1, \"codigo region\": 13}, {\"date\": \"2020-04-05\", \"region\": \"Ays\\u00e9n\", \"fallecidos\": 0, \"codigo region\": 14}, {\"date\": \"2020-04-05\", \"region\": \"Magallanes\", \"fallecidos\": 2, \"codigo region\": 15}, {\"date\": \"2020-04-06\", \"region\": \"Arica y Parinacota\", \"fallecidos\": 0, \"codigo region\": 0}, {\"date\": \"2020-04-06\", \"region\": \"Tarapac\\u00e1\", \"fallecidos\": 0, \"codigo region\": 1}, {\"date\": \"2020-04-06\", \"region\": \"Antofagasta\", \"fallecidos\": 0, \"codigo region\": 2}, {\"date\": \"2020-04-06\", \"region\": \"Atacama\", \"fallecidos\": 0, \"codigo region\": 3}, {\"date\": \"2020-04-06\", \"region\": \"Coquimbo\", \"fallecidos\": 0, \"codigo region\": 4}, {\"date\": \"2020-04-06\", \"region\": \"Valpara\\u00edso\", \"fallecidos\": 1, \"codigo region\": 5}, {\"date\": \"2020-04-06\", \"region\": \"Metropolitana\", \"fallecidos\": 10, \"codigo region\": 6}, {\"date\": \"2020-04-06\", \"region\": \"O\\u2019Higgins\", \"fallecidos\": 0, \"codigo region\": 7}, {\"date\": \"2020-04-06\", \"region\": \"Maule\", \"fallecidos\": 1, \"codigo region\": 8}, {\"date\": \"2020-04-06\", \"region\": \"\\u00d1uble\", \"fallecidos\": 4, \"codigo region\": 9}, {\"date\": \"2020-04-06\", \"region\": \"Biob\\u00edo\", \"fallecidos\": 2, \"codigo region\": 10}, {\"date\": \"2020-04-06\", \"region\": \"Araucan\\u00eda\", \"fallecidos\": 14, \"codigo region\": 11}, {\"date\": \"2020-04-06\", \"region\": \"Los R\\u00edos\", \"fallecidos\": 1, \"codigo region\": 12}, {\"date\": \"2020-04-06\", \"region\": \"Los Lagos\", \"fallecidos\": 2, \"codigo region\": 13}, {\"date\": \"2020-04-06\", \"region\": \"Ays\\u00e9n\", \"fallecidos\": 0, \"codigo region\": 14}, {\"date\": \"2020-04-06\", \"region\": \"Magallanes\", \"fallecidos\": 2, \"codigo region\": 15}, {\"date\": \"2020-04-07\", \"region\": \"Arica y Parinacota\", \"fallecidos\": 0, \"codigo region\": 0}, {\"date\": \"2020-04-07\", \"region\": \"Tarapac\\u00e1\", \"fallecidos\": 0, \"codigo region\": 1}, {\"date\": \"2020-04-07\", \"region\": \"Antofagasta\", \"fallecidos\": 1, \"codigo region\": 2}, {\"date\": \"2020-04-07\", \"region\": \"Atacama\", \"fallecidos\": 0, \"codigo region\": 3}, {\"date\": \"2020-04-07\", \"region\": \"Coquimbo\", \"fallecidos\": 0, \"codigo region\": 4}, {\"date\": \"2020-04-07\", \"region\": \"Valpara\\u00edso\", \"fallecidos\": 1, \"codigo region\": 5}, {\"date\": \"2020-04-07\", \"region\": \"Metropolitana\", \"fallecidos\": 12, \"codigo region\": 6}, {\"date\": \"2020-04-07\", \"region\": \"O\\u2019Higgins\", \"fallecidos\": 0, \"codigo region\": 7}, {\"date\": \"2020-04-07\", \"region\": \"Maule\", \"fallecidos\": 2, \"codigo region\": 8}, {\"date\": \"2020-04-07\", \"region\": \"\\u00d1uble\", \"fallecidos\": 5, \"codigo region\": 9}, {\"date\": \"2020-04-07\", \"region\": \"Biob\\u00edo\", \"fallecidos\": 2, \"codigo region\": 10}, {\"date\": \"2020-04-07\", \"region\": \"Araucan\\u00eda\", \"fallecidos\": 14, \"codigo region\": 11}, {\"date\": \"2020-04-07\", \"region\": \"Los R\\u00edos\", \"fallecidos\": 2, \"codigo region\": 12}, {\"date\": \"2020-04-07\", \"region\": \"Los Lagos\", \"fallecidos\": 2, \"codigo region\": 13}, {\"date\": \"2020-04-07\", \"region\": \"Ays\\u00e9n\", \"fallecidos\": 0, \"codigo region\": 14}, {\"date\": \"2020-04-07\", \"region\": \"Magallanes\", \"fallecidos\": 2, \"codigo region\": 15}, {\"date\": \"2020-04-08\", \"region\": \"Arica y Parinacota\", \"fallecidos\": 0, \"codigo region\": 0}, {\"date\": \"2020-04-08\", \"region\": \"Tarapac\\u00e1\", \"fallecidos\": 0, \"codigo region\": 1}, {\"date\": \"2020-04-08\", \"region\": \"Antofagasta\", \"fallecidos\": 1, \"codigo region\": 2}, {\"date\": \"2020-04-08\", \"region\": \"Atacama\", \"fallecidos\": 0, \"codigo region\": 3}, {\"date\": \"2020-04-08\", \"region\": \"Coquimbo\", \"fallecidos\": 0, \"codigo region\": 4}, {\"date\": \"2020-04-08\", \"region\": \"Valpara\\u00edso\", \"fallecidos\": 2, \"codigo region\": 5}, {\"date\": \"2020-04-08\", \"region\": \"Metropolitana\", \"fallecidos\": 14, \"codigo region\": 6}, {\"date\": \"2020-04-08\", \"region\": \"O\\u2019Higgins\", \"fallecidos\": 0, \"codigo region\": 7}, {\"date\": \"2020-04-08\", \"region\": \"Maule\", \"fallecidos\": 2, \"codigo region\": 8}, {\"date\": \"2020-04-08\", \"region\": \"\\u00d1uble\", \"fallecidos\": 5, \"codigo region\": 9}, {\"date\": \"2020-04-08\", \"region\": \"Biob\\u00edo\", \"fallecidos\": 2, \"codigo region\": 10}, {\"date\": \"2020-04-08\", \"region\": \"Araucan\\u00eda\", \"fallecidos\": 15, \"codigo region\": 11}, {\"date\": \"2020-04-08\", \"region\": \"Los R\\u00edos\", \"fallecidos\": 2, \"codigo region\": 12}, {\"date\": \"2020-04-08\", \"region\": \"Los Lagos\", \"fallecidos\": 2, \"codigo region\": 13}, {\"date\": \"2020-04-08\", \"region\": \"Ays\\u00e9n\", \"fallecidos\": 0, \"codigo region\": 14}, {\"date\": \"2020-04-08\", \"region\": \"Magallanes\", \"fallecidos\": 3, \"codigo region\": 15}, {\"date\": \"2020-04-09\", \"region\": \"Arica y Parinacota\", \"fallecidos\": 0, \"codigo region\": 0}, {\"date\": \"2020-04-09\", \"region\": \"Tarapac\\u00e1\", \"fallecidos\": 0, \"codigo region\": 1}, {\"date\": \"2020-04-09\", \"region\": \"Antofagasta\", \"fallecidos\": 1, \"codigo region\": 2}, {\"date\": \"2020-04-09\", \"region\": \"Atacama\", \"fallecidos\": 0, \"codigo region\": 3}, {\"date\": \"2020-04-09\", \"region\": \"Coquimbo\", \"fallecidos\": 0, \"codigo region\": 4}, {\"date\": \"2020-04-09\", \"region\": \"Valpara\\u00edso\", \"fallecidos\": 2, \"codigo region\": 5}, {\"date\": \"2020-04-09\", \"region\": \"Metropolitana\", \"fallecidos\": 21, \"codigo region\": 6}, {\"date\": \"2020-04-09\", \"region\": \"O\\u2019Higgins\", \"fallecidos\": 0, \"codigo region\": 7}, {\"date\": \"2020-04-09\", \"region\": \"Maule\", \"fallecidos\": 2, \"codigo region\": 8}, {\"date\": \"2020-04-09\", \"region\": \"\\u00d1uble\", \"fallecidos\": 6, \"codigo region\": 9}, {\"date\": \"2020-04-09\", \"region\": \"Biob\\u00edo\", \"fallecidos\": 2, \"codigo region\": 10}, {\"date\": \"2020-04-09\", \"region\": \"Araucan\\u00eda\", \"fallecidos\": 16, \"codigo region\": 11}, {\"date\": \"2020-04-09\", \"region\": \"Los R\\u00edos\", \"fallecidos\": 2, \"codigo region\": 12}, {\"date\": \"2020-04-09\", \"region\": \"Los Lagos\", \"fallecidos\": 2, \"codigo region\": 13}, {\"date\": \"2020-04-09\", \"region\": \"Ays\\u00e9n\", \"fallecidos\": 0, \"codigo region\": 14}, {\"date\": \"2020-04-09\", \"region\": \"Magallanes\", \"fallecidos\": 3, \"codigo region\": 15}, {\"date\": \"2020-04-10\", \"region\": \"Arica y Parinacota\", \"fallecidos\": 0, \"codigo region\": 0}, {\"date\": \"2020-04-10\", \"region\": \"Tarapac\\u00e1\", \"fallecidos\": 0, \"codigo region\": 1}, {\"date\": \"2020-04-10\", \"region\": \"Antofagasta\", \"fallecidos\": 1, \"codigo region\": 2}, {\"date\": \"2020-04-10\", \"region\": \"Atacama\", \"fallecidos\": 0, \"codigo region\": 3}, {\"date\": \"2020-04-10\", \"region\": \"Coquimbo\", \"fallecidos\": 0, \"codigo region\": 4}, {\"date\": \"2020-04-10\", \"region\": \"Valpara\\u00edso\", \"fallecidos\": 2, \"codigo region\": 5}, {\"date\": \"2020-04-10\", \"region\": \"Metropolitana\", \"fallecidos\": 29, \"codigo region\": 6}, {\"date\": \"2020-04-10\", \"region\": \"O\\u2019Higgins\", \"fallecidos\": 0, \"codigo region\": 7}, {\"date\": \"2020-04-10\", \"region\": \"Maule\", \"fallecidos\": 2, \"codigo region\": 8}, {\"date\": \"2020-04-10\", \"region\": \"\\u00d1uble\", \"fallecidos\": 6, \"codigo region\": 9}, {\"date\": \"2020-04-10\", \"region\": \"Biob\\u00edo\", \"fallecidos\": 2, \"codigo region\": 10}, {\"date\": \"2020-04-10\", \"region\": \"Araucan\\u00eda\", \"fallecidos\": 16, \"codigo region\": 11}, {\"date\": \"2020-04-10\", \"region\": \"Los R\\u00edos\", \"fallecidos\": 2, \"codigo region\": 12}, {\"date\": \"2020-04-10\", \"region\": \"Los Lagos\", \"fallecidos\": 2, \"codigo region\": 13}, {\"date\": \"2020-04-10\", \"region\": \"Ays\\u00e9n\", \"fallecidos\": 0, \"codigo region\": 14}, {\"date\": \"2020-04-10\", \"region\": \"Magallanes\", \"fallecidos\": 3, \"codigo region\": 15}, {\"date\": \"2020-04-11\", \"region\": \"Arica y Parinacota\", \"fallecidos\": 0, \"codigo region\": 0}, {\"date\": \"2020-04-11\", \"region\": \"Tarapac\\u00e1\", \"fallecidos\": 0, \"codigo region\": 1}, {\"date\": \"2020-04-11\", \"region\": \"Antofagasta\", \"fallecidos\": 1, \"codigo region\": 2}, {\"date\": \"2020-04-11\", \"region\": \"Atacama\", \"fallecidos\": 0, \"codigo region\": 3}, {\"date\": \"2020-04-11\", \"region\": \"Coquimbo\", \"fallecidos\": 0, \"codigo region\": 4}, {\"date\": \"2020-04-11\", \"region\": \"Valpara\\u00edso\", \"fallecidos\": 2, \"codigo region\": 5}, {\"date\": \"2020-04-11\", \"region\": \"Metropolitana\", \"fallecidos\": 32, \"codigo region\": 6}, {\"date\": \"2020-04-11\", \"region\": \"O\\u2019Higgins\", \"fallecidos\": 0, \"codigo region\": 7}, {\"date\": \"2020-04-11\", \"region\": \"Maule\", \"fallecidos\": 3, \"codigo region\": 8}, {\"date\": \"2020-04-11\", \"region\": \"\\u00d1uble\", \"fallecidos\": 6, \"codigo region\": 9}, {\"date\": \"2020-04-11\", \"region\": \"Biob\\u00edo\", \"fallecidos\": 2, \"codigo region\": 10}, {\"date\": \"2020-04-11\", \"region\": \"Araucan\\u00eda\", \"fallecidos\": 17, \"codigo region\": 11}, {\"date\": \"2020-04-11\", \"region\": \"Los R\\u00edos\", \"fallecidos\": 2, \"codigo region\": 12}, {\"date\": \"2020-04-11\", \"region\": \"Los Lagos\", \"fallecidos\": 5, \"codigo region\": 13}, {\"date\": \"2020-04-11\", \"region\": \"Ays\\u00e9n\", \"fallecidos\": 0, \"codigo region\": 14}, {\"date\": \"2020-04-11\", \"region\": \"Magallanes\", \"fallecidos\": 3, \"codigo region\": 15}, {\"date\": \"2020-04-12\", \"region\": \"Arica y Parinacota\", \"fallecidos\": 1, \"codigo region\": 0}, {\"date\": \"2020-04-12\", \"region\": \"Tarapac\\u00e1\", \"fallecidos\": 0, \"codigo region\": 1}, {\"date\": \"2020-04-12\", \"region\": \"Antofagasta\", \"fallecidos\": 1, \"codigo region\": 2}, {\"date\": \"2020-04-12\", \"region\": \"Atacama\", \"fallecidos\": 0, \"codigo region\": 3}, {\"date\": \"2020-04-12\", \"region\": \"Coquimbo\", \"fallecidos\": 0, \"codigo region\": 4}, {\"date\": \"2020-04-12\", \"region\": \"Valpara\\u00edso\", \"fallecidos\": 2, \"codigo region\": 5}, {\"date\": \"2020-04-12\", \"region\": \"Metropolitana\", \"fallecidos\": 35, \"codigo region\": 6}, {\"date\": \"2020-04-12\", \"region\": \"O\\u2019Higgins\", \"fallecidos\": 0, \"codigo region\": 7}, {\"date\": \"2020-04-12\", \"region\": \"Maule\", \"fallecidos\": 3, \"codigo region\": 8}, {\"date\": \"2020-04-12\", \"region\": \"\\u00d1uble\", \"fallecidos\": 7, \"codigo region\": 9}, {\"date\": \"2020-04-12\", \"region\": \"Biob\\u00edo\", \"fallecidos\": 2, \"codigo region\": 10}, {\"date\": \"2020-04-12\", \"region\": \"Araucan\\u00eda\", \"fallecidos\": 17, \"codigo region\": 11}, {\"date\": \"2020-04-12\", \"region\": \"Los R\\u00edos\", \"fallecidos\": 3, \"codigo region\": 12}, {\"date\": \"2020-04-12\", \"region\": \"Los Lagos\", \"fallecidos\": 5, \"codigo region\": 13}, {\"date\": \"2020-04-12\", \"region\": \"Ays\\u00e9n\", \"fallecidos\": 0, \"codigo region\": 14}, {\"date\": \"2020-04-12\", \"region\": \"Magallanes\", \"fallecidos\": 4, \"codigo region\": 15}, {\"date\": \"2020-04-13\", \"region\": \"Arica y Parinacota\", \"fallecidos\": 1, \"codigo region\": 0}, {\"date\": \"2020-04-13\", \"region\": \"Tarapac\\u00e1\", \"fallecidos\": 0, \"codigo region\": 1}, {\"date\": \"2020-04-13\", \"region\": \"Antofagasta\", \"fallecidos\": 1, \"codigo region\": 2}, {\"date\": \"2020-04-13\", \"region\": \"Atacama\", \"fallecidos\": 0, \"codigo region\": 3}, {\"date\": \"2020-04-13\", \"region\": \"Coquimbo\", \"fallecidos\": 0, \"codigo region\": 4}, {\"date\": \"2020-04-13\", \"region\": \"Valpara\\u00edso\", \"fallecidos\": 2, \"codigo region\": 5}, {\"date\": \"2020-04-13\", \"region\": \"Metropolitana\", \"fallecidos\": 36, \"codigo region\": 6}, {\"date\": \"2020-04-13\", \"region\": \"O\\u2019Higgins\", \"fallecidos\": 0, \"codigo region\": 7}, {\"date\": \"2020-04-13\", \"region\": \"Maule\", \"fallecidos\": 3, \"codigo region\": 8}, {\"date\": \"2020-04-13\", \"region\": \"\\u00d1uble\", \"fallecidos\": 7, \"codigo region\": 9}, {\"date\": \"2020-04-13\", \"region\": \"Biob\\u00edo\", \"fallecidos\": 2, \"codigo region\": 10}, {\"date\": \"2020-04-13\", \"region\": \"Araucan\\u00eda\", \"fallecidos\": 17, \"codigo region\": 11}, {\"date\": \"2020-04-13\", \"region\": \"Los R\\u00edos\", \"fallecidos\": 3, \"codigo region\": 12}, {\"date\": \"2020-04-13\", \"region\": \"Los Lagos\", \"fallecidos\": 5, \"codigo region\": 13}, {\"date\": \"2020-04-13\", \"region\": \"Ays\\u00e9n\", \"fallecidos\": 0, \"codigo region\": 14}, {\"date\": \"2020-04-13\", \"region\": \"Magallanes\", \"fallecidos\": 5, \"codigo region\": 15}, {\"date\": \"2020-04-14\", \"region\": \"Arica y Parinacota\", \"fallecidos\": 1, \"codigo region\": 0}, {\"date\": \"2020-04-14\", \"region\": \"Tarapac\\u00e1\", \"fallecidos\": 0, \"codigo region\": 1}, {\"date\": \"2020-04-14\", \"region\": \"Antofagasta\", \"fallecidos\": 1, \"codigo region\": 2}, {\"date\": \"2020-04-14\", \"region\": \"Atacama\", \"fallecidos\": 0, \"codigo region\": 3}, {\"date\": \"2020-04-14\", \"region\": \"Coquimbo\", \"fallecidos\": 0, \"codigo region\": 4}, {\"date\": \"2020-04-14\", \"region\": \"Valpara\\u00edso\", \"fallecidos\": 2, \"codigo region\": 5}, {\"date\": \"2020-04-14\", \"region\": \"Metropolitana\", \"fallecidos\": 40, \"codigo region\": 6}, {\"date\": \"2020-04-14\", \"region\": \"O\\u2019Higgins\", \"fallecidos\": 0, \"codigo region\": 7}, {\"date\": \"2020-04-14\", \"region\": \"Maule\", \"fallecidos\": 4, \"codigo region\": 8}, {\"date\": \"2020-04-14\", \"region\": \"\\u00d1uble\", \"fallecidos\": 8, \"codigo region\": 9}, {\"date\": \"2020-04-14\", \"region\": \"Biob\\u00edo\", \"fallecidos\": 2, \"codigo region\": 10}, {\"date\": \"2020-04-14\", \"region\": \"Araucan\\u00eda\", \"fallecidos\": 20, \"codigo region\": 11}, {\"date\": \"2020-04-14\", \"region\": \"Los R\\u00edos\", \"fallecidos\": 3, \"codigo region\": 12}, {\"date\": \"2020-04-14\", \"region\": \"Los Lagos\", \"fallecidos\": 5, \"codigo region\": 13}, {\"date\": \"2020-04-14\", \"region\": \"Ays\\u00e9n\", \"fallecidos\": 0, \"codigo region\": 14}, {\"date\": \"2020-04-14\", \"region\": \"Magallanes\", \"fallecidos\": 6, \"codigo region\": 15}, {\"date\": \"2020-04-15\", \"region\": \"Arica y Parinacota\", \"fallecidos\": 1, \"codigo region\": 0}, {\"date\": \"2020-04-15\", \"region\": \"Tarapac\\u00e1\", \"fallecidos\": 0, \"codigo region\": 1}, {\"date\": \"2020-04-15\", \"region\": \"Antofagasta\", \"fallecidos\": 1, \"codigo region\": 2}, {\"date\": \"2020-04-15\", \"region\": \"Atacama\", \"fallecidos\": 0, \"codigo region\": 3}, {\"date\": \"2020-04-15\", \"region\": \"Coquimbo\", \"fallecidos\": 0, \"codigo region\": 4}, {\"date\": \"2020-04-15\", \"region\": \"Valpara\\u00edso\", \"fallecidos\": 2, \"codigo region\": 5}, {\"date\": \"2020-04-15\", \"region\": \"Metropolitana\", \"fallecidos\": 41, \"codigo region\": 6}, {\"date\": \"2020-04-15\", \"region\": \"O\\u2019Higgins\", \"fallecidos\": 0, \"codigo region\": 7}, {\"date\": \"2020-04-15\", \"region\": \"Maule\", \"fallecidos\": 4, \"codigo region\": 8}, {\"date\": \"2020-04-15\", \"region\": \"\\u00d1uble\", \"fallecidos\": 8, \"codigo region\": 9}, {\"date\": \"2020-04-15\", \"region\": \"Biob\\u00edo\", \"fallecidos\": 2, \"codigo region\": 10}, {\"date\": \"2020-04-15\", \"region\": \"Araucan\\u00eda\", \"fallecidos\": 21, \"codigo region\": 11}, {\"date\": \"2020-04-15\", \"region\": \"Los R\\u00edos\", \"fallecidos\": 3, \"codigo region\": 12}, {\"date\": \"2020-04-15\", \"region\": \"Los Lagos\", \"fallecidos\": 5, \"codigo region\": 13}, {\"date\": \"2020-04-15\", \"region\": \"Ays\\u00e9n\", \"fallecidos\": 0, \"codigo region\": 14}, {\"date\": \"2020-04-15\", \"region\": \"Magallanes\", \"fallecidos\": 6, \"codigo region\": 15}, {\"date\": \"2020-04-16\", \"region\": \"Arica y Parinacota\", \"fallecidos\": 1, \"codigo region\": 0}, {\"date\": \"2020-04-16\", \"region\": \"Tarapac\\u00e1\", \"fallecidos\": 0, \"codigo region\": 1}, {\"date\": \"2020-04-16\", \"region\": \"Antofagasta\", \"fallecidos\": 1, \"codigo region\": 2}, {\"date\": \"2020-04-16\", \"region\": \"Atacama\", \"fallecidos\": 0, \"codigo region\": 3}, {\"date\": \"2020-04-16\", \"region\": \"Coquimbo\", \"fallecidos\": 0, \"codigo region\": 4}, {\"date\": \"2020-04-16\", \"region\": \"Valpara\\u00edso\", \"fallecidos\": 4, \"codigo region\": 5}, {\"date\": \"2020-04-16\", \"region\": \"Metropolitana\", \"fallecidos\": 48, \"codigo region\": 6}, {\"date\": \"2020-04-16\", \"region\": \"O\\u2019Higgins\", \"fallecidos\": 0, \"codigo region\": 7}, {\"date\": \"2020-04-16\", \"region\": \"Maule\", \"fallecidos\": 4, \"codigo region\": 8}, {\"date\": \"2020-04-16\", \"region\": \"\\u00d1uble\", \"fallecidos\": 10, \"codigo region\": 9}, {\"date\": \"2020-04-16\", \"region\": \"Biob\\u00edo\", \"fallecidos\": 2, \"codigo region\": 10}, {\"date\": \"2020-04-16\", \"region\": \"Araucan\\u00eda\", \"fallecidos\": 21, \"codigo region\": 11}, {\"date\": \"2020-04-16\", \"region\": \"Los R\\u00edos\", \"fallecidos\": 3, \"codigo region\": 12}, {\"date\": \"2020-04-16\", \"region\": \"Los Lagos\", \"fallecidos\": 5, \"codigo region\": 13}, {\"date\": \"2020-04-16\", \"region\": \"Ays\\u00e9n\", \"fallecidos\": 0, \"codigo region\": 14}, {\"date\": \"2020-04-16\", \"region\": \"Magallanes\", \"fallecidos\": 6, \"codigo region\": 15}, {\"date\": \"2020-04-17\", \"region\": \"Arica y Parinacota\", \"fallecidos\": 2, \"codigo region\": 0}, {\"date\": \"2020-04-17\", \"region\": \"Tarapac\\u00e1\", \"fallecidos\": 0, \"codigo region\": 1}, {\"date\": \"2020-04-17\", \"region\": \"Antofagasta\", \"fallecidos\": 1, \"codigo region\": 2}, {\"date\": \"2020-04-17\", \"region\": \"Atacama\", \"fallecidos\": 0, \"codigo region\": 3}, {\"date\": \"2020-04-17\", \"region\": \"Coquimbo\", \"fallecidos\": 0, \"codigo region\": 4}, {\"date\": \"2020-04-17\", \"region\": \"Valpara\\u00edso\", \"fallecidos\": 4, \"codigo region\": 5}, {\"date\": \"2020-04-17\", \"region\": \"Metropolitana\", \"fallecidos\": 51, \"codigo region\": 6}, {\"date\": \"2020-04-17\", \"region\": \"O\\u2019Higgins\", \"fallecidos\": 0, \"codigo region\": 7}, {\"date\": \"2020-04-17\", \"region\": \"Maule\", \"fallecidos\": 7, \"codigo region\": 8}, {\"date\": \"2020-04-17\", \"region\": \"\\u00d1uble\", \"fallecidos\": 11, \"codigo region\": 9}, {\"date\": \"2020-04-17\", \"region\": \"Biob\\u00edo\", \"fallecidos\": 3, \"codigo region\": 10}, {\"date\": \"2020-04-17\", \"region\": \"Araucan\\u00eda\", \"fallecidos\": 22, \"codigo region\": 11}, {\"date\": \"2020-04-17\", \"region\": \"Los R\\u00edos\", \"fallecidos\": 3, \"codigo region\": 12}, {\"date\": \"2020-04-17\", \"region\": \"Los Lagos\", \"fallecidos\": 6, \"codigo region\": 13}, {\"date\": \"2020-04-17\", \"region\": \"Ays\\u00e9n\", \"fallecidos\": 0, \"codigo region\": 14}, {\"date\": \"2020-04-17\", \"region\": \"Magallanes\", \"fallecidos\": 6, \"codigo region\": 15}, {\"date\": \"2020-04-18\", \"region\": \"Arica y Parinacota\", \"fallecidos\": 2, \"codigo region\": 0}, {\"date\": \"2020-04-18\", \"region\": \"Tarapac\\u00e1\", \"fallecidos\": 0, \"codigo region\": 1}, {\"date\": \"2020-04-18\", \"region\": \"Antofagasta\", \"fallecidos\": 1, \"codigo region\": 2}, {\"date\": \"2020-04-18\", \"region\": \"Atacama\", \"fallecidos\": 0, \"codigo region\": 3}, {\"date\": \"2020-04-18\", \"region\": \"Coquimbo\", \"fallecidos\": 0, \"codigo region\": 4}, {\"date\": \"2020-04-18\", \"region\": \"Valpara\\u00edso\", \"fallecidos\": 4, \"codigo region\": 5}, {\"date\": \"2020-04-18\", \"region\": \"Metropolitana\", \"fallecidos\": 58, \"codigo region\": 6}, {\"date\": \"2020-04-18\", \"region\": \"O\\u2019Higgins\", \"fallecidos\": 0, \"codigo region\": 7}, {\"date\": \"2020-04-18\", \"region\": \"Maule\", \"fallecidos\": 8, \"codigo region\": 8}, {\"date\": \"2020-04-18\", \"region\": \"\\u00d1uble\", \"fallecidos\": 12, \"codigo region\": 9}, {\"date\": \"2020-04-18\", \"region\": \"Biob\\u00edo\", \"fallecidos\": 3, \"codigo region\": 10}, {\"date\": \"2020-04-18\", \"region\": \"Araucan\\u00eda\", \"fallecidos\": 23, \"codigo region\": 11}, {\"date\": \"2020-04-18\", \"region\": \"Los R\\u00edos\", \"fallecidos\": 3, \"codigo region\": 12}, {\"date\": \"2020-04-18\", \"region\": \"Los Lagos\", \"fallecidos\": 6, \"codigo region\": 13}, {\"date\": \"2020-04-18\", \"region\": \"Ays\\u00e9n\", \"fallecidos\": 0, \"codigo region\": 14}, {\"date\": \"2020-04-18\", \"region\": \"Magallanes\", \"fallecidos\": 6, \"codigo region\": 15}, {\"date\": \"2020-04-19\", \"region\": \"Arica y Parinacota\", \"fallecidos\": 2, \"codigo region\": 0}, {\"date\": \"2020-04-19\", \"region\": \"Tarapac\\u00e1\", \"fallecidos\": 0, \"codigo region\": 1}, {\"date\": \"2020-04-19\", \"region\": \"Antofagasta\", \"fallecidos\": 1, \"codigo region\": 2}, {\"date\": \"2020-04-19\", \"region\": \"Atacama\", \"fallecidos\": 0, \"codigo region\": 3}, {\"date\": \"2020-04-19\", \"region\": \"Coquimbo\", \"fallecidos\": 0, \"codigo region\": 4}, {\"date\": \"2020-04-19\", \"region\": \"Valpara\\u00edso\", \"fallecidos\": 5, \"codigo region\": 5}, {\"date\": \"2020-04-19\", \"region\": \"Metropolitana\", \"fallecidos\": 63, \"codigo region\": 6}, {\"date\": \"2020-04-19\", \"region\": \"O\\u2019Higgins\", \"fallecidos\": 0, \"codigo region\": 7}, {\"date\": \"2020-04-19\", \"region\": \"Maule\", \"fallecidos\": 8, \"codigo region\": 8}, {\"date\": \"2020-04-19\", \"region\": \"\\u00d1uble\", \"fallecidos\": 13, \"codigo region\": 9}, {\"date\": \"2020-04-19\", \"region\": \"Biob\\u00edo\", \"fallecidos\": 3, \"codigo region\": 10}, {\"date\": \"2020-04-19\", \"region\": \"Araucan\\u00eda\", \"fallecidos\": 23, \"codigo region\": 11}, {\"date\": \"2020-04-19\", \"region\": \"Los R\\u00edos\", \"fallecidos\": 3, \"codigo region\": 12}, {\"date\": \"2020-04-19\", \"region\": \"Los Lagos\", \"fallecidos\": 6, \"codigo region\": 13}, {\"date\": \"2020-04-19\", \"region\": \"Ays\\u00e9n\", \"fallecidos\": 0, \"codigo region\": 14}, {\"date\": \"2020-04-19\", \"region\": \"Magallanes\", \"fallecidos\": 6, \"codigo region\": 15}, {\"date\": \"2020-04-20\", \"region\": \"Arica y Parinacota\", \"fallecidos\": 2, \"codigo region\": 0}, {\"date\": \"2020-04-20\", \"region\": \"Tarapac\\u00e1\", \"fallecidos\": 0, \"codigo region\": 1}, {\"date\": \"2020-04-20\", \"region\": \"Antofagasta\", \"fallecidos\": 1, \"codigo region\": 2}, {\"date\": \"2020-04-20\", \"region\": \"Atacama\", \"fallecidos\": 0, \"codigo region\": 3}, {\"date\": \"2020-04-20\", \"region\": \"Coquimbo\", \"fallecidos\": 0, \"codigo region\": 4}, {\"date\": \"2020-04-20\", \"region\": \"Valpara\\u00edso\", \"fallecidos\": 5, \"codigo region\": 5}, {\"date\": \"2020-04-20\", \"region\": \"Metropolitana\", \"fallecidos\": 67, \"codigo region\": 6}, {\"date\": \"2020-04-20\", \"region\": \"O\\u2019Higgins\", \"fallecidos\": 0, \"codigo region\": 7}, {\"date\": \"2020-04-20\", \"region\": \"Maule\", \"fallecidos\": 10, \"codigo region\": 8}, {\"date\": \"2020-04-20\", \"region\": \"\\u00d1uble\", \"fallecidos\": 13, \"codigo region\": 9}, {\"date\": \"2020-04-20\", \"region\": \"Biob\\u00edo\", \"fallecidos\": 3, \"codigo region\": 10}, {\"date\": \"2020-04-20\", \"region\": \"Araucan\\u00eda\", \"fallecidos\": 23, \"codigo region\": 11}, {\"date\": \"2020-04-20\", \"region\": \"Los R\\u00edos\", \"fallecidos\": 3, \"codigo region\": 12}, {\"date\": \"2020-04-20\", \"region\": \"Los Lagos\", \"fallecidos\": 6, \"codigo region\": 13}, {\"date\": \"2020-04-20\", \"region\": \"Ays\\u00e9n\", \"fallecidos\": 0, \"codigo region\": 14}, {\"date\": \"2020-04-20\", \"region\": \"Magallanes\", \"fallecidos\": 6, \"codigo region\": 15}, {\"date\": \"2020-04-21\", \"region\": \"Arica y Parinacota\", \"fallecidos\": 2, \"codigo region\": 0}, {\"date\": \"2020-04-21\", \"region\": \"Tarapac\\u00e1\", \"fallecidos\": 0, \"codigo region\": 1}, {\"date\": \"2020-04-21\", \"region\": \"Antofagasta\", \"fallecidos\": 1, \"codigo region\": 2}, {\"date\": \"2020-04-21\", \"region\": \"Atacama\", \"fallecidos\": 0, \"codigo region\": 3}, {\"date\": \"2020-04-21\", \"region\": \"Coquimbo\", \"fallecidos\": 0, \"codigo region\": 4}, {\"date\": \"2020-04-21\", \"region\": \"Valpara\\u00edso\", \"fallecidos\": 6, \"codigo region\": 5}, {\"date\": \"2020-04-21\", \"region\": \"Metropolitana\", \"fallecidos\": 69, \"codigo region\": 6}, {\"date\": \"2020-04-21\", \"region\": \"O\\u2019Higgins\", \"fallecidos\": 1, \"codigo region\": 7}, {\"date\": \"2020-04-21\", \"region\": \"Maule\", \"fallecidos\": 10, \"codigo region\": 8}, {\"date\": \"2020-04-21\", \"region\": \"\\u00d1uble\", \"fallecidos\": 13, \"codigo region\": 9}, {\"date\": \"2020-04-21\", \"region\": \"Biob\\u00edo\", \"fallecidos\": 4, \"codigo region\": 10}, {\"date\": \"2020-04-21\", \"region\": \"Araucan\\u00eda\", \"fallecidos\": 25, \"codigo region\": 11}, {\"date\": \"2020-04-21\", \"region\": \"Los R\\u00edos\", \"fallecidos\": 3, \"codigo region\": 12}, {\"date\": \"2020-04-21\", \"region\": \"Los Lagos\", \"fallecidos\": 6, \"codigo region\": 13}, {\"date\": \"2020-04-21\", \"region\": \"Ays\\u00e9n\", \"fallecidos\": 0, \"codigo region\": 14}, {\"date\": \"2020-04-21\", \"region\": \"Magallanes\", \"fallecidos\": 7, \"codigo region\": 15}, {\"date\": \"2020-04-22\", \"region\": \"Arica y Parinacota\", \"fallecidos\": 2, \"codigo region\": 0}, {\"date\": \"2020-04-22\", \"region\": \"Tarapac\\u00e1\", \"fallecidos\": 0, \"codigo region\": 1}, {\"date\": \"2020-04-22\", \"region\": \"Antofagasta\", \"fallecidos\": 2, \"codigo region\": 2}, {\"date\": \"2020-04-22\", \"region\": \"Atacama\", \"fallecidos\": 0, \"codigo region\": 3}, {\"date\": \"2020-04-22\", \"region\": \"Coquimbo\", \"fallecidos\": 0, \"codigo region\": 4}, {\"date\": \"2020-04-22\", \"region\": \"Valpara\\u00edso\", \"fallecidos\": 7, \"codigo region\": 5}, {\"date\": \"2020-04-22\", \"region\": \"Metropolitana\", \"fallecidos\": 78, \"codigo region\": 6}, {\"date\": \"2020-04-22\", \"region\": \"O\\u2019Higgins\", \"fallecidos\": 1, \"codigo region\": 7}, {\"date\": \"2020-04-22\", \"region\": \"Maule\", \"fallecidos\": 10, \"codigo region\": 8}, {\"date\": \"2020-04-22\", \"region\": \"\\u00d1uble\", \"fallecidos\": 13, \"codigo region\": 9}, {\"date\": \"2020-04-22\", \"region\": \"Biob\\u00edo\", \"fallecidos\": 5, \"codigo region\": 10}, {\"date\": \"2020-04-22\", \"region\": \"Araucan\\u00eda\", \"fallecidos\": 26, \"codigo region\": 11}, {\"date\": \"2020-04-22\", \"region\": \"Los R\\u00edos\", \"fallecidos\": 3, \"codigo region\": 12}, {\"date\": \"2020-04-22\", \"region\": \"Los Lagos\", \"fallecidos\": 6, \"codigo region\": 13}, {\"date\": \"2020-04-22\", \"region\": \"Ays\\u00e9n\", \"fallecidos\": 0, \"codigo region\": 14}, {\"date\": \"2020-04-22\", \"region\": \"Magallanes\", \"fallecidos\": 7, \"codigo region\": 15}, {\"date\": \"2020-04-23\", \"region\": \"Arica y Parinacota\", \"fallecidos\": 2, \"codigo region\": 0}, {\"date\": \"2020-04-23\", \"region\": \"Tarapac\\u00e1\", \"fallecidos\": 0, \"codigo region\": 1}, {\"date\": \"2020-04-23\", \"region\": \"Antofagasta\", \"fallecidos\": 2, \"codigo region\": 2}, {\"date\": \"2020-04-23\", \"region\": \"Atacama\", \"fallecidos\": 0, \"codigo region\": 3}, {\"date\": \"2020-04-23\", \"region\": \"Coquimbo\", \"fallecidos\": 0, \"codigo region\": 4}, {\"date\": \"2020-04-23\", \"region\": \"Valpara\\u00edso\", \"fallecidos\": 7, \"codigo region\": 5}, {\"date\": \"2020-04-23\", \"region\": \"Metropolitana\", \"fallecidos\": 85, \"codigo region\": 6}, {\"date\": \"2020-04-23\", \"region\": \"O\\u2019Higgins\", \"fallecidos\": 1, \"codigo region\": 7}, {\"date\": \"2020-04-23\", \"region\": \"Maule\", \"fallecidos\": 10, \"codigo region\": 8}, {\"date\": \"2020-04-23\", \"region\": \"\\u00d1uble\", \"fallecidos\": 13, \"codigo region\": 9}, {\"date\": \"2020-04-23\", \"region\": \"Biob\\u00edo\", \"fallecidos\": 5, \"codigo region\": 10}, {\"date\": \"2020-04-23\", \"region\": \"Araucan\\u00eda\", \"fallecidos\": 26, \"codigo region\": 11}, {\"date\": \"2020-04-23\", \"region\": \"Los R\\u00edos\", \"fallecidos\": 3, \"codigo region\": 12}, {\"date\": \"2020-04-23\", \"region\": \"Los Lagos\", \"fallecidos\": 7, \"codigo region\": 13}, {\"date\": \"2020-04-23\", \"region\": \"Ays\\u00e9n\", \"fallecidos\": 0, \"codigo region\": 14}, {\"date\": \"2020-04-23\", \"region\": \"Magallanes\", \"fallecidos\": 7, \"codigo region\": 15}, {\"date\": \"2020-04-24\", \"region\": \"Arica y Parinacota\", \"fallecidos\": 3, \"codigo region\": 0}, {\"date\": \"2020-04-24\", \"region\": \"Tarapac\\u00e1\", \"fallecidos\": 0, \"codigo region\": 1}, {\"date\": \"2020-04-24\", \"region\": \"Antofagasta\", \"fallecidos\": 2, \"codigo region\": 2}, {\"date\": \"2020-04-24\", \"region\": \"Atacama\", \"fallecidos\": 0, \"codigo region\": 3}, {\"date\": \"2020-04-24\", \"region\": \"Coquimbo\", \"fallecidos\": 0, \"codigo region\": 4}, {\"date\": \"2020-04-24\", \"region\": \"Valpara\\u00edso\", \"fallecidos\": 8, \"codigo region\": 5}, {\"date\": \"2020-04-24\", \"region\": \"Metropolitana\", \"fallecidos\": 86, \"codigo region\": 6}, {\"date\": \"2020-04-24\", \"region\": \"O\\u2019Higgins\", \"fallecidos\": 1, \"codigo region\": 7}, {\"date\": \"2020-04-24\", \"region\": \"Maule\", \"fallecidos\": 10, \"codigo region\": 8}, {\"date\": \"2020-04-24\", \"region\": \"\\u00d1uble\", \"fallecidos\": 14, \"codigo region\": 9}, {\"date\": \"2020-04-24\", \"region\": \"Biob\\u00edo\", \"fallecidos\": 5, \"codigo region\": 10}, {\"date\": \"2020-04-24\", \"region\": \"Araucan\\u00eda\", \"fallecidos\": 26, \"codigo region\": 11}, {\"date\": \"2020-04-24\", \"region\": \"Los R\\u00edos\", \"fallecidos\": 3, \"codigo region\": 12}, {\"date\": \"2020-04-24\", \"region\": \"Los Lagos\", \"fallecidos\": 8, \"codigo region\": 13}, {\"date\": \"2020-04-24\", \"region\": \"Ays\\u00e9n\", \"fallecidos\": 0, \"codigo region\": 14}, {\"date\": \"2020-04-24\", \"region\": \"Magallanes\", \"fallecidos\": 8, \"codigo region\": 15}]}}, {\"mode\": \"vega-lite\"});\n",
       "</script>"
      ],
      "text/plain": [
       "alt.HConcatChart(...)"
      ]
     },
     "execution_count": 43,
     "metadata": {},
     "output_type": "execute_result"
    }
   ],
   "source": [
    "#hide_input\n",
    "\n",
    "input_dropdown = alt.binding_select(options=new_data['region'].unique())\n",
    "selection1 = alt.selection_single(fields=['region'], bind=input_dropdown, name=' ')\n",
    "selection2 = alt.selection_multi(fields=['region'], on='mouseover')\n",
    "\n",
    "color = alt.condition(selection1 | selection2,\n",
    "                    alt.Color('region:N', legend=None),\n",
    "                    alt.value('lightgray'))\n",
    "\n",
    "bars = alt.Chart(new_data).mark_bar().encode(\n",
    "    x=alt.X('date:O', axis=alt.Axis(title='Fecha (año-mes-día)')),\n",
    "    y=alt.Y('fallecidos', axis=alt.Axis(title='Fallecidos confirmados')),\n",
    "    color=color,\n",
    "    tooltip=['date', 'region', 'fallecidos'],\n",
    "    order=alt.Order(\n",
    "    # Sort the segments of the bars by this field\n",
    "    'codigo region',\n",
    "    sort='descending'\n",
    "    )\n",
    "    ).properties(\n",
    "    title='COVID-19 en Chile: Total de fallecidos confirmados por región'\n",
    ").add_selection(\n",
    "    selection1, selection2\n",
    ").transform_filter(\n",
    "    selection1\n",
    ")\n",
    "\n",
    "legend = alt.Chart(new_data).mark_point().encode(\n",
    "    y=alt.Y('region:N', axis=alt.Axis(orient='right'), sort=regiones),\n",
    "    color=color\n",
    ").add_selection(\n",
    "    selection1, selection2\n",
    ")\n",
    "\n",
    "bars.properties(width=600, height=400) | legend"
   ]
  },
  {
   "cell_type": "markdown",
   "metadata": {},
   "source": [
    "Fuente: [Ministerio de Ciencia](https://github.com/MinCiencia/Datos-COVID19)"
   ]
  },
  {
   "cell_type": "markdown",
   "metadata": {},
   "source": [
    "# Evolución de pacientes en UCI por región"
   ]
  },
  {
   "cell_type": "code",
   "execution_count": 51,
   "metadata": {},
   "outputs": [],
   "source": [
    "#hide\n",
    "data_raw = pd.read_csv(\n",
    "    'https://raw.githubusercontent.com/MinCiencia/Datos-COVID19/master/output/producto8/UCI.csv',\n",
    "    index_col='Region')\n",
    "data_raw = data_raw.drop(columns='Codigo region')\n",
    "data_raw.loc['Total'] = data_raw.sum(axis=0)\n",
    "data_raw = data_raw.drop(columns='Poblacion')"
   ]
  },
  {
   "cell_type": "code",
   "execution_count": 52,
   "metadata": {},
   "outputs": [],
   "source": [
    "#hide\n",
    "data_raw = data_raw.drop(\"Total\")"
   ]
  },
  {
   "cell_type": "code",
   "execution_count": 53,
   "metadata": {},
   "outputs": [],
   "source": [
    "#hide\n",
    "data = pd.DataFrame()\n",
    "i = 0\n",
    "for date in data_raw.keys():\n",
    "    for n, region in enumerate(data_raw.index):\n",
    "        data[i] = date, region, data_raw[date].loc[region], n\n",
    "        i += 1"
   ]
  },
  {
   "cell_type": "code",
   "execution_count": 54,
   "metadata": {},
   "outputs": [],
   "source": [
    "#hide\n",
    "data_raw = data_raw.reset_index()"
   ]
  },
  {
   "cell_type": "code",
   "execution_count": 55,
   "metadata": {},
   "outputs": [],
   "source": [
    "#hide\n",
    "regiones = data_raw['Region'].values"
   ]
  },
  {
   "cell_type": "code",
   "execution_count": 56,
   "metadata": {},
   "outputs": [],
   "source": [
    "#hide\n",
    "data = data.T"
   ]
  },
  {
   "cell_type": "code",
   "execution_count": 57,
   "metadata": {},
   "outputs": [],
   "source": [
    "#hide\n",
    "data = data.rename(columns={0: \"date\", 1: \"region\", 2: \"pacientes\", 3: \"codigo region\"})"
   ]
  },
  {
   "cell_type": "code",
   "execution_count": 58,
   "metadata": {},
   "outputs": [],
   "source": [
    "#hide\n",
    "data[\"pacientes\"] = data[\"pacientes\"].astype(int)"
   ]
  },
  {
   "cell_type": "code",
   "execution_count": 60,
   "metadata": {
    "scrolled": false
   },
   "outputs": [
    {
     "data": {
      "text/html": [
       "\n",
       "<div id=\"altair-viz-9f6485171b87470aad7502a95d1a0f23\"></div>\n",
       "<script type=\"text/javascript\">\n",
       "  (function(spec, embedOpt){\n",
       "    let outputDiv = document.currentScript.previousElementSibling;\n",
       "    if (outputDiv.id !== \"altair-viz-9f6485171b87470aad7502a95d1a0f23\") {\n",
       "      outputDiv = document.getElementById(\"altair-viz-9f6485171b87470aad7502a95d1a0f23\");\n",
       "    }\n",
       "    const paths = {\n",
       "      \"vega\": \"https://cdn.jsdelivr.net/npm//vega@5?noext\",\n",
       "      \"vega-lib\": \"https://cdn.jsdelivr.net/npm//vega-lib?noext\",\n",
       "      \"vega-lite\": \"https://cdn.jsdelivr.net/npm//vega-lite@4.8.1?noext\",\n",
       "      \"vega-embed\": \"https://cdn.jsdelivr.net/npm//vega-embed@6?noext\",\n",
       "    };\n",
       "\n",
       "    function loadScript(lib) {\n",
       "      return new Promise(function(resolve, reject) {\n",
       "        var s = document.createElement('script');\n",
       "        s.src = paths[lib];\n",
       "        s.async = true;\n",
       "        s.onload = () => resolve(paths[lib]);\n",
       "        s.onerror = () => reject(`Error loading script: ${paths[lib]}`);\n",
       "        document.getElementsByTagName(\"head\")[0].appendChild(s);\n",
       "      });\n",
       "    }\n",
       "\n",
       "    function showError(err) {\n",
       "      outputDiv.innerHTML = `<div class=\"error\" style=\"color:red;\">${err}</div>`;\n",
       "      throw err;\n",
       "    }\n",
       "\n",
       "    function displayChart(vegaEmbed) {\n",
       "      vegaEmbed(outputDiv, spec, embedOpt)\n",
       "        .catch(err => showError(`Javascript Error: ${err.message}<br>This usually means there's a typo in your chart specification. See the javascript console for the full traceback.`));\n",
       "    }\n",
       "\n",
       "    if(typeof define === \"function\" && define.amd) {\n",
       "      requirejs.config({paths});\n",
       "      require([\"vega-embed\"], displayChart, err => showError(`Error loading script: ${err.message}`));\n",
       "    } else if (typeof vegaEmbed === \"function\") {\n",
       "      displayChart(vegaEmbed);\n",
       "    } else {\n",
       "      loadScript(\"vega\")\n",
       "        .then(() => loadScript(\"vega-lite\"))\n",
       "        .then(() => loadScript(\"vega-embed\"))\n",
       "        .catch(showError)\n",
       "        .then(() => displayChart(vegaEmbed));\n",
       "    }\n",
       "  })({\"config\": {\"view\": {\"continuousWidth\": 400, \"continuousHeight\": 300}}, \"hconcat\": [{\"data\": {\"name\": \"data-83017d998bf860cd776c4718978da265\"}, \"mark\": \"bar\", \"encoding\": {\"color\": {\"condition\": {\"type\": \"nominal\", \"field\": \"region\", \"legend\": null, \"selection\": {\"or\": [\" \", \"selector011\"]}}, \"value\": \"lightgray\"}, \"order\": {\"type\": \"quantitative\", \"field\": \"codigo region\", \"sort\": \"descending\"}, \"tooltip\": [{\"type\": \"nominal\", \"field\": \"date\"}, {\"type\": \"nominal\", \"field\": \"region\"}, {\"type\": \"quantitative\", \"field\": \"pacientes\"}], \"x\": {\"type\": \"ordinal\", \"axis\": {\"title\": \"Fecha (a\\u00f1o-mes-d\\u00eda)\"}, \"field\": \"date\"}, \"y\": {\"type\": \"quantitative\", \"field\": \"pacientes\"}}, \"height\": 400, \"selection\": {\" \": {\"type\": \"single\", \"fields\": [\"region\"], \"bind\": {\"input\": \"select\", \"options\": [\"Arica y Parinacota\", \"Tarapac\\u00e1\", \"Antofagasta\", \"Atacama\", \"Coquimbo\", \"Valpara\\u00edso\", \"Metropolitana\", \"O\\u2019Higgins\", \"Maule\", \"\\u00d1uble\", \"Biob\\u00edo\", \"Araucan\\u00eda\", \"Los R\\u00edos\", \"Los Lagos\", \"Ays\\u00e9n\", \"Magallanes\"]}}, \"selector011\": {\"type\": \"multi\", \"fields\": [\"region\"], \"on\": \"mouseover\"}}, \"title\": \"COVID-19 en Chile: Pacientes en UCI por regi\\u00f3n\", \"transform\": [{\"filter\": {\"selection\": \" \"}}], \"width\": 600}, {\"data\": {\"name\": \"data-55e1227071c55c8408938cb79b631841\"}, \"mark\": \"point\", \"encoding\": {\"color\": {\"condition\": {\"type\": \"nominal\", \"field\": \"region\", \"legend\": null, \"selection\": {\"or\": [\" \", \"selector011\"]}}, \"value\": \"lightgray\"}, \"y\": {\"type\": \"nominal\", \"axis\": {\"orient\": \"right\"}, \"field\": \"region\", \"sort\": [\"Arica y Parinacota\", \"Tarapac\\u00e1\", \"Antofagasta\", \"Atacama\", \"Coquimbo\", \"Valpara\\u00edso\", \"Metropolitana\", \"O\\u2019Higgins\", \"Maule\", \"\\u00d1uble\", \"Biob\\u00edo\", \"Araucan\\u00eda\", \"Los R\\u00edos\", \"Los Lagos\", \"Ays\\u00e9n\", \"Magallanes\"]}}, \"selection\": {\" \": {\"type\": \"single\", \"fields\": [\"region\"], \"bind\": {\"input\": \"select\", \"options\": [\"Arica y Parinacota\", \"Tarapac\\u00e1\", \"Antofagasta\", \"Atacama\", \"Coquimbo\", \"Valpara\\u00edso\", \"Metropolitana\", \"O\\u2019Higgins\", \"Maule\", \"\\u00d1uble\", \"Biob\\u00edo\", \"Araucan\\u00eda\", \"Los R\\u00edos\", \"Los Lagos\", \"Ays\\u00e9n\", \"Magallanes\"]}}, \"selector011\": {\"type\": \"multi\", \"fields\": [\"region\"], \"on\": \"mouseover\"}}}], \"$schema\": \"https://vega.github.io/schema/vega-lite/v4.8.1.json\", \"datasets\": {\"data-83017d998bf860cd776c4718978da265\": [{\"date\": \"2020-04-01\", \"region\": \"Arica y Parinacota\", \"pacientes\": 0, \"codigo region\": 0}, {\"date\": \"2020-04-01\", \"region\": \"Tarapac\\u00e1\", \"pacientes\": 1, \"codigo region\": 1}, {\"date\": \"2020-04-01\", \"region\": \"Antofagasta\", \"pacientes\": 3, \"codigo region\": 2}, {\"date\": \"2020-04-01\", \"region\": \"Atacama\", \"pacientes\": 0, \"codigo region\": 3}, {\"date\": \"2020-04-01\", \"region\": \"Coquimbo\", \"pacientes\": 1, \"codigo region\": 4}, {\"date\": \"2020-04-01\", \"region\": \"Valpara\\u00edso\", \"pacientes\": 14, \"codigo region\": 5}, {\"date\": \"2020-04-01\", \"region\": \"Metropolitana\", \"pacientes\": 83, \"codigo region\": 6}, {\"date\": \"2020-04-01\", \"region\": \"O\\u2019Higgins\", \"pacientes\": 5, \"codigo region\": 7}, {\"date\": \"2020-04-01\", \"region\": \"Maule\", \"pacientes\": 3, \"codigo region\": 8}, {\"date\": \"2020-04-01\", \"region\": \"\\u00d1uble\", \"pacientes\": 7, \"codigo region\": 9}, {\"date\": \"2020-04-01\", \"region\": \"Biob\\u00edo\", \"pacientes\": 14, \"codigo region\": 10}, {\"date\": \"2020-04-01\", \"region\": \"Araucan\\u00eda\", \"pacientes\": 26, \"codigo region\": 11}, {\"date\": \"2020-04-01\", \"region\": \"Los R\\u00edos\", \"pacientes\": 1, \"codigo region\": 12}, {\"date\": \"2020-04-01\", \"region\": \"Los Lagos\", \"pacientes\": 10, \"codigo region\": 13}, {\"date\": \"2020-04-01\", \"region\": \"Ays\\u00e9n\", \"pacientes\": 0, \"codigo region\": 14}, {\"date\": \"2020-04-01\", \"region\": \"Magallanes\", \"pacientes\": 5, \"codigo region\": 15}, {\"date\": \"2020-04-02\", \"region\": \"Arica y Parinacota\", \"pacientes\": 0, \"codigo region\": 0}, {\"date\": \"2020-04-02\", \"region\": \"Tarapac\\u00e1\", \"pacientes\": 1, \"codigo region\": 1}, {\"date\": \"2020-04-02\", \"region\": \"Antofagasta\", \"pacientes\": 4, \"codigo region\": 2}, {\"date\": \"2020-04-02\", \"region\": \"Atacama\", \"pacientes\": 0, \"codigo region\": 3}, {\"date\": \"2020-04-02\", \"region\": \"Coquimbo\", \"pacientes\": 1, \"codigo region\": 4}, {\"date\": \"2020-04-02\", \"region\": \"Valpara\\u00edso\", \"pacientes\": 17, \"codigo region\": 5}, {\"date\": \"2020-04-02\", \"region\": \"Metropolitana\", \"pacientes\": 90, \"codigo region\": 6}, {\"date\": \"2020-04-02\", \"region\": \"O\\u2019Higgins\", \"pacientes\": 5, \"codigo region\": 7}, {\"date\": \"2020-04-02\", \"region\": \"Maule\", \"pacientes\": 3, \"codigo region\": 8}, {\"date\": \"2020-04-02\", \"region\": \"\\u00d1uble\", \"pacientes\": 8, \"codigo region\": 9}, {\"date\": \"2020-04-02\", \"region\": \"Biob\\u00edo\", \"pacientes\": 18, \"codigo region\": 10}, {\"date\": \"2020-04-02\", \"region\": \"Araucan\\u00eda\", \"pacientes\": 29, \"codigo region\": 11}, {\"date\": \"2020-04-02\", \"region\": \"Los R\\u00edos\", \"pacientes\": 2, \"codigo region\": 12}, {\"date\": \"2020-04-02\", \"region\": \"Los Lagos\", \"pacientes\": 12, \"codigo region\": 13}, {\"date\": \"2020-04-02\", \"region\": \"Ays\\u00e9n\", \"pacientes\": 0, \"codigo region\": 14}, {\"date\": \"2020-04-02\", \"region\": \"Magallanes\", \"pacientes\": 10, \"codigo region\": 15}, {\"date\": \"2020-04-03\", \"region\": \"Arica y Parinacota\", \"pacientes\": 0, \"codigo region\": 0}, {\"date\": \"2020-04-03\", \"region\": \"Tarapac\\u00e1\", \"pacientes\": 1, \"codigo region\": 1}, {\"date\": \"2020-04-03\", \"region\": \"Antofagasta\", \"pacientes\": 3, \"codigo region\": 2}, {\"date\": \"2020-04-03\", \"region\": \"Atacama\", \"pacientes\": 0, \"codigo region\": 3}, {\"date\": \"2020-04-03\", \"region\": \"Coquimbo\", \"pacientes\": 1, \"codigo region\": 4}, {\"date\": \"2020-04-03\", \"region\": \"Valpara\\u00edso\", \"pacientes\": 18, \"codigo region\": 5}, {\"date\": \"2020-04-03\", \"region\": \"Metropolitana\", \"pacientes\": 107, \"codigo region\": 6}, {\"date\": \"2020-04-03\", \"region\": \"O\\u2019Higgins\", \"pacientes\": 5, \"codigo region\": 7}, {\"date\": \"2020-04-03\", \"region\": \"Maule\", \"pacientes\": 3, \"codigo region\": 8}, {\"date\": \"2020-04-03\", \"region\": \"\\u00d1uble\", \"pacientes\": 10, \"codigo region\": 9}, {\"date\": \"2020-04-03\", \"region\": \"Biob\\u00edo\", \"pacientes\": 21, \"codigo region\": 10}, {\"date\": \"2020-04-03\", \"region\": \"Araucan\\u00eda\", \"pacientes\": 37, \"codigo region\": 11}, {\"date\": \"2020-04-03\", \"region\": \"Los R\\u00edos\", \"pacientes\": 2, \"codigo region\": 12}, {\"date\": \"2020-04-03\", \"region\": \"Los Lagos\", \"pacientes\": 18, \"codigo region\": 13}, {\"date\": \"2020-04-03\", \"region\": \"Ays\\u00e9n\", \"pacientes\": 0, \"codigo region\": 14}, {\"date\": \"2020-04-03\", \"region\": \"Magallanes\", \"pacientes\": 11, \"codigo region\": 15}, {\"date\": \"2020-04-04\", \"region\": \"Arica y Parinacota\", \"pacientes\": 0, \"codigo region\": 0}, {\"date\": \"2020-04-04\", \"region\": \"Tarapac\\u00e1\", \"pacientes\": 1, \"codigo region\": 1}, {\"date\": \"2020-04-04\", \"region\": \"Antofagasta\", \"pacientes\": 3, \"codigo region\": 2}, {\"date\": \"2020-04-04\", \"region\": \"Atacama\", \"pacientes\": 0, \"codigo region\": 3}, {\"date\": \"2020-04-04\", \"region\": \"Coquimbo\", \"pacientes\": 2, \"codigo region\": 4}, {\"date\": \"2020-04-04\", \"region\": \"Valpara\\u00edso\", \"pacientes\": 22, \"codigo region\": 5}, {\"date\": \"2020-04-04\", \"region\": \"Metropolitana\", \"pacientes\": 129, \"codigo region\": 6}, {\"date\": \"2020-04-04\", \"region\": \"O\\u2019Higgins\", \"pacientes\": 5, \"codigo region\": 7}, {\"date\": \"2020-04-04\", \"region\": \"Maule\", \"pacientes\": 3, \"codigo region\": 8}, {\"date\": \"2020-04-04\", \"region\": \"\\u00d1uble\", \"pacientes\": 11, \"codigo region\": 9}, {\"date\": \"2020-04-04\", \"region\": \"Biob\\u00edo\", \"pacientes\": 24, \"codigo region\": 10}, {\"date\": \"2020-04-04\", \"region\": \"Araucan\\u00eda\", \"pacientes\": 44, \"codigo region\": 11}, {\"date\": \"2020-04-04\", \"region\": \"Los R\\u00edos\", \"pacientes\": 2, \"codigo region\": 12}, {\"date\": \"2020-04-04\", \"region\": \"Los Lagos\", \"pacientes\": 22, \"codigo region\": 13}, {\"date\": \"2020-04-04\", \"region\": \"Ays\\u00e9n\", \"pacientes\": 0, \"codigo region\": 14}, {\"date\": \"2020-04-04\", \"region\": \"Magallanes\", \"pacientes\": 12, \"codigo region\": 15}, {\"date\": \"2020-04-05\", \"region\": \"Arica y Parinacota\", \"pacientes\": 2, \"codigo region\": 0}, {\"date\": \"2020-04-05\", \"region\": \"Tarapac\\u00e1\", \"pacientes\": 1, \"codigo region\": 1}, {\"date\": \"2020-04-05\", \"region\": \"Antofagasta\", \"pacientes\": 3, \"codigo region\": 2}, {\"date\": \"2020-04-05\", \"region\": \"Atacama\", \"pacientes\": 0, \"codigo region\": 3}, {\"date\": \"2020-04-05\", \"region\": \"Coquimbo\", \"pacientes\": 1, \"codigo region\": 4}, {\"date\": \"2020-04-05\", \"region\": \"Valpara\\u00edso\", \"pacientes\": 27, \"codigo region\": 5}, {\"date\": \"2020-04-05\", \"region\": \"Metropolitana\", \"pacientes\": 146, \"codigo region\": 6}, {\"date\": \"2020-04-05\", \"region\": \"O\\u2019Higgins\", \"pacientes\": 5, \"codigo region\": 7}, {\"date\": \"2020-04-05\", \"region\": \"Maule\", \"pacientes\": 4, \"codigo region\": 8}, {\"date\": \"2020-04-05\", \"region\": \"\\u00d1uble\", \"pacientes\": 10, \"codigo region\": 9}, {\"date\": \"2020-04-05\", \"region\": \"Biob\\u00edo\", \"pacientes\": 26, \"codigo region\": 10}, {\"date\": \"2020-04-05\", \"region\": \"Araucan\\u00eda\", \"pacientes\": 44, \"codigo region\": 11}, {\"date\": \"2020-04-05\", \"region\": \"Los R\\u00edos\", \"pacientes\": 3, \"codigo region\": 12}, {\"date\": \"2020-04-05\", \"region\": \"Los Lagos\", \"pacientes\": 22, \"codigo region\": 13}, {\"date\": \"2020-04-05\", \"region\": \"Ays\\u00e9n\", \"pacientes\": 0, \"codigo region\": 14}, {\"date\": \"2020-04-05\", \"region\": \"Magallanes\", \"pacientes\": 13, \"codigo region\": 15}, {\"date\": \"2020-04-06\", \"region\": \"Arica y Parinacota\", \"pacientes\": 4, \"codigo region\": 0}, {\"date\": \"2020-04-06\", \"region\": \"Tarapac\\u00e1\", \"pacientes\": 2, \"codigo region\": 1}, {\"date\": \"2020-04-06\", \"region\": \"Antofagasta\", \"pacientes\": 3, \"codigo region\": 2}, {\"date\": \"2020-04-06\", \"region\": \"Atacama\", \"pacientes\": 0, \"codigo region\": 3}, {\"date\": \"2020-04-06\", \"region\": \"Coquimbo\", \"pacientes\": 1, \"codigo region\": 4}, {\"date\": \"2020-04-06\", \"region\": \"Valpara\\u00edso\", \"pacientes\": 22, \"codigo region\": 5}, {\"date\": \"2020-04-06\", \"region\": \"Metropolitana\", \"pacientes\": 161, \"codigo region\": 6}, {\"date\": \"2020-04-06\", \"region\": \"O\\u2019Higgins\", \"pacientes\": 6, \"codigo region\": 7}, {\"date\": \"2020-04-06\", \"region\": \"Maule\", \"pacientes\": 5, \"codigo region\": 8}, {\"date\": \"2020-04-06\", \"region\": \"\\u00d1uble\", \"pacientes\": 11, \"codigo region\": 9}, {\"date\": \"2020-04-06\", \"region\": \"Biob\\u00edo\", \"pacientes\": 27, \"codigo region\": 10}, {\"date\": \"2020-04-06\", \"region\": \"Araucan\\u00eda\", \"pacientes\": 46, \"codigo region\": 11}, {\"date\": \"2020-04-06\", \"region\": \"Los R\\u00edos\", \"pacientes\": 4, \"codigo region\": 12}, {\"date\": \"2020-04-06\", \"region\": \"Los Lagos\", \"pacientes\": 23, \"codigo region\": 13}, {\"date\": \"2020-04-06\", \"region\": \"Ays\\u00e9n\", \"pacientes\": 0, \"codigo region\": 14}, {\"date\": \"2020-04-06\", \"region\": \"Magallanes\", \"pacientes\": 12, \"codigo region\": 15}, {\"date\": \"2020-04-07\", \"region\": \"Arica y Parinacota\", \"pacientes\": 4, \"codigo region\": 0}, {\"date\": \"2020-04-07\", \"region\": \"Tarapac\\u00e1\", \"pacientes\": 2, \"codigo region\": 1}, {\"date\": \"2020-04-07\", \"region\": \"Antofagasta\", \"pacientes\": 2, \"codigo region\": 2}, {\"date\": \"2020-04-07\", \"region\": \"Atacama\", \"pacientes\": 0, \"codigo region\": 3}, {\"date\": \"2020-04-07\", \"region\": \"Coquimbo\", \"pacientes\": 2, \"codigo region\": 4}, {\"date\": \"2020-04-07\", \"region\": \"Valpara\\u00edso\", \"pacientes\": 21, \"codigo region\": 5}, {\"date\": \"2020-04-07\", \"region\": \"Metropolitana\", \"pacientes\": 160, \"codigo region\": 6}, {\"date\": \"2020-04-07\", \"region\": \"O\\u2019Higgins\", \"pacientes\": 6, \"codigo region\": 7}, {\"date\": \"2020-04-07\", \"region\": \"Maule\", \"pacientes\": 7, \"codigo region\": 8}, {\"date\": \"2020-04-07\", \"region\": \"\\u00d1uble\", \"pacientes\": 13, \"codigo region\": 9}, {\"date\": \"2020-04-07\", \"region\": \"Biob\\u00edo\", \"pacientes\": 32, \"codigo region\": 10}, {\"date\": \"2020-04-07\", \"region\": \"Araucan\\u00eda\", \"pacientes\": 46, \"codigo region\": 11}, {\"date\": \"2020-04-07\", \"region\": \"Los R\\u00edos\", \"pacientes\": 6, \"codigo region\": 12}, {\"date\": \"2020-04-07\", \"region\": \"Los Lagos\", \"pacientes\": 24, \"codigo region\": 13}, {\"date\": \"2020-04-07\", \"region\": \"Ays\\u00e9n\", \"pacientes\": 0, \"codigo region\": 14}, {\"date\": \"2020-04-07\", \"region\": \"Magallanes\", \"pacientes\": 12, \"codigo region\": 15}, {\"date\": \"2020-04-08\", \"region\": \"Arica y Parinacota\", \"pacientes\": 5, \"codigo region\": 0}, {\"date\": \"2020-04-08\", \"region\": \"Tarapac\\u00e1\", \"pacientes\": 2, \"codigo region\": 1}, {\"date\": \"2020-04-08\", \"region\": \"Antofagasta\", \"pacientes\": 2, \"codigo region\": 2}, {\"date\": \"2020-04-08\", \"region\": \"Atacama\", \"pacientes\": 1, \"codigo region\": 3}, {\"date\": \"2020-04-08\", \"region\": \"Coquimbo\", \"pacientes\": 1, \"codigo region\": 4}, {\"date\": \"2020-04-08\", \"region\": \"Valpara\\u00edso\", \"pacientes\": 20, \"codigo region\": 5}, {\"date\": \"2020-04-08\", \"region\": \"Metropolitana\", \"pacientes\": 174, \"codigo region\": 6}, {\"date\": \"2020-04-08\", \"region\": \"O\\u2019Higgins\", \"pacientes\": 6, \"codigo region\": 7}, {\"date\": \"2020-04-08\", \"region\": \"Maule\", \"pacientes\": 8, \"codigo region\": 8}, {\"date\": \"2020-04-08\", \"region\": \"\\u00d1uble\", \"pacientes\": 13, \"codigo region\": 9}, {\"date\": \"2020-04-08\", \"region\": \"Biob\\u00edo\", \"pacientes\": 31, \"codigo region\": 10}, {\"date\": \"2020-04-08\", \"region\": \"Araucan\\u00eda\", \"pacientes\": 54, \"codigo region\": 11}, {\"date\": \"2020-04-08\", \"region\": \"Los R\\u00edos\", \"pacientes\": 6, \"codigo region\": 12}, {\"date\": \"2020-04-08\", \"region\": \"Los Lagos\", \"pacientes\": 25, \"codigo region\": 13}, {\"date\": \"2020-04-08\", \"region\": \"Ays\\u00e9n\", \"pacientes\": 0, \"codigo region\": 14}, {\"date\": \"2020-04-08\", \"region\": \"Magallanes\", \"pacientes\": 14, \"codigo region\": 15}, {\"date\": \"2020-04-09\", \"region\": \"Arica y Parinacota\", \"pacientes\": 5, \"codigo region\": 0}, {\"date\": \"2020-04-09\", \"region\": \"Tarapac\\u00e1\", \"pacientes\": 2, \"codigo region\": 1}, {\"date\": \"2020-04-09\", \"region\": \"Antofagasta\", \"pacientes\": 2, \"codigo region\": 2}, {\"date\": \"2020-04-09\", \"region\": \"Atacama\", \"pacientes\": 1, \"codigo region\": 3}, {\"date\": \"2020-04-09\", \"region\": \"Coquimbo\", \"pacientes\": 1, \"codigo region\": 4}, {\"date\": \"2020-04-09\", \"region\": \"Valpara\\u00edso\", \"pacientes\": 22, \"codigo region\": 5}, {\"date\": \"2020-04-09\", \"region\": \"Metropolitana\", \"pacientes\": 164, \"codigo region\": 6}, {\"date\": \"2020-04-09\", \"region\": \"O\\u2019Higgins\", \"pacientes\": 6, \"codigo region\": 7}, {\"date\": \"2020-04-09\", \"region\": \"Maule\", \"pacientes\": 10, \"codigo region\": 8}, {\"date\": \"2020-04-09\", \"region\": \"\\u00d1uble\", \"pacientes\": 13, \"codigo region\": 9}, {\"date\": \"2020-04-09\", \"region\": \"Biob\\u00edo\", \"pacientes\": 33, \"codigo region\": 10}, {\"date\": \"2020-04-09\", \"region\": \"Araucan\\u00eda\", \"pacientes\": 56, \"codigo region\": 11}, {\"date\": \"2020-04-09\", \"region\": \"Los R\\u00edos\", \"pacientes\": 7, \"codigo region\": 12}, {\"date\": \"2020-04-09\", \"region\": \"Los Lagos\", \"pacientes\": 24, \"codigo region\": 13}, {\"date\": \"2020-04-09\", \"region\": \"Ays\\u00e9n\", \"pacientes\": 0, \"codigo region\": 14}, {\"date\": \"2020-04-09\", \"region\": \"Magallanes\", \"pacientes\": 14, \"codigo region\": 15}, {\"date\": \"2020-04-10\", \"region\": \"Arica y Parinacota\", \"pacientes\": 5, \"codigo region\": 0}, {\"date\": \"2020-04-10\", \"region\": \"Tarapac\\u00e1\", \"pacientes\": 3, \"codigo region\": 1}, {\"date\": \"2020-04-10\", \"region\": \"Antofagasta\", \"pacientes\": 3, \"codigo region\": 2}, {\"date\": \"2020-04-10\", \"region\": \"Atacama\", \"pacientes\": 1, \"codigo region\": 3}, {\"date\": \"2020-04-10\", \"region\": \"Coquimbo\", \"pacientes\": 2, \"codigo region\": 4}, {\"date\": \"2020-04-10\", \"region\": \"Valpara\\u00edso\", \"pacientes\": 21, \"codigo region\": 5}, {\"date\": \"2020-04-10\", \"region\": \"Metropolitana\", \"pacientes\": 181, \"codigo region\": 6}, {\"date\": \"2020-04-10\", \"region\": \"O\\u2019Higgins\", \"pacientes\": 7, \"codigo region\": 7}, {\"date\": \"2020-04-10\", \"region\": \"Maule\", \"pacientes\": 11, \"codigo region\": 8}, {\"date\": \"2020-04-10\", \"region\": \"\\u00d1uble\", \"pacientes\": 13, \"codigo region\": 9}, {\"date\": \"2020-04-10\", \"region\": \"Biob\\u00edo\", \"pacientes\": 32, \"codigo region\": 10}, {\"date\": \"2020-04-10\", \"region\": \"Araucan\\u00eda\", \"pacientes\": 57, \"codigo region\": 11}, {\"date\": \"2020-04-10\", \"region\": \"Los R\\u00edos\", \"pacientes\": 7, \"codigo region\": 12}, {\"date\": \"2020-04-10\", \"region\": \"Los Lagos\", \"pacientes\": 25, \"codigo region\": 13}, {\"date\": \"2020-04-10\", \"region\": \"Ays\\u00e9n\", \"pacientes\": 0, \"codigo region\": 14}, {\"date\": \"2020-04-10\", \"region\": \"Magallanes\", \"pacientes\": 15, \"codigo region\": 15}, {\"date\": \"2020-04-11\", \"region\": \"Arica y Parinacota\", \"pacientes\": 5, \"codigo region\": 0}, {\"date\": \"2020-04-11\", \"region\": \"Tarapac\\u00e1\", \"pacientes\": 3, \"codigo region\": 1}, {\"date\": \"2020-04-11\", \"region\": \"Antofagasta\", \"pacientes\": 2, \"codigo region\": 2}, {\"date\": \"2020-04-11\", \"region\": \"Atacama\", \"pacientes\": 1, \"codigo region\": 3}, {\"date\": \"2020-04-11\", \"region\": \"Coquimbo\", \"pacientes\": 2, \"codigo region\": 4}, {\"date\": \"2020-04-11\", \"region\": \"Valpara\\u00edso\", \"pacientes\": 22, \"codigo region\": 5}, {\"date\": \"2020-04-11\", \"region\": \"Metropolitana\", \"pacientes\": 178, \"codigo region\": 6}, {\"date\": \"2020-04-11\", \"region\": \"O\\u2019Higgins\", \"pacientes\": 7, \"codigo region\": 7}, {\"date\": \"2020-04-11\", \"region\": \"Maule\", \"pacientes\": 13, \"codigo region\": 8}, {\"date\": \"2020-04-11\", \"region\": \"\\u00d1uble\", \"pacientes\": 13, \"codigo region\": 9}, {\"date\": \"2020-04-11\", \"region\": \"Biob\\u00edo\", \"pacientes\": 33, \"codigo region\": 10}, {\"date\": \"2020-04-11\", \"region\": \"Araucan\\u00eda\", \"pacientes\": 53, \"codigo region\": 11}, {\"date\": \"2020-04-11\", \"region\": \"Los R\\u00edos\", \"pacientes\": 7, \"codigo region\": 12}, {\"date\": \"2020-04-11\", \"region\": \"Los Lagos\", \"pacientes\": 26, \"codigo region\": 13}, {\"date\": \"2020-04-11\", \"region\": \"Ays\\u00e9n\", \"pacientes\": 0, \"codigo region\": 14}, {\"date\": \"2020-04-11\", \"region\": \"Magallanes\", \"pacientes\": 18, \"codigo region\": 15}, {\"date\": \"2020-04-12\", \"region\": \"Arica y Parinacota\", \"pacientes\": 5, \"codigo region\": 0}, {\"date\": \"2020-04-12\", \"region\": \"Tarapac\\u00e1\", \"pacientes\": 2, \"codigo region\": 1}, {\"date\": \"2020-04-12\", \"region\": \"Antofagasta\", \"pacientes\": 3, \"codigo region\": 2}, {\"date\": \"2020-04-12\", \"region\": \"Atacama\", \"pacientes\": 1, \"codigo region\": 3}, {\"date\": \"2020-04-12\", \"region\": \"Coquimbo\", \"pacientes\": 1, \"codigo region\": 4}, {\"date\": \"2020-04-12\", \"region\": \"Valpara\\u00edso\", \"pacientes\": 18, \"codigo region\": 5}, {\"date\": \"2020-04-12\", \"region\": \"Metropolitana\", \"pacientes\": 185, \"codigo region\": 6}, {\"date\": \"2020-04-12\", \"region\": \"O\\u2019Higgins\", \"pacientes\": 7, \"codigo region\": 7}, {\"date\": \"2020-04-12\", \"region\": \"Maule\", \"pacientes\": 15, \"codigo region\": 8}, {\"date\": \"2020-04-12\", \"region\": \"\\u00d1uble\", \"pacientes\": 12, \"codigo region\": 9}, {\"date\": \"2020-04-12\", \"region\": \"Biob\\u00edo\", \"pacientes\": 31, \"codigo region\": 10}, {\"date\": \"2020-04-12\", \"region\": \"Araucan\\u00eda\", \"pacientes\": 56, \"codigo region\": 11}, {\"date\": \"2020-04-12\", \"region\": \"Los R\\u00edos\", \"pacientes\": 7, \"codigo region\": 12}, {\"date\": \"2020-04-12\", \"region\": \"Los Lagos\", \"pacientes\": 26, \"codigo region\": 13}, {\"date\": \"2020-04-12\", \"region\": \"Ays\\u00e9n\", \"pacientes\": 0, \"codigo region\": 14}, {\"date\": \"2020-04-12\", \"region\": \"Magallanes\", \"pacientes\": 18, \"codigo region\": 15}, {\"date\": \"2020-04-13\", \"region\": \"Arica y Parinacota\", \"pacientes\": 5, \"codigo region\": 0}, {\"date\": \"2020-04-13\", \"region\": \"Tarapac\\u00e1\", \"pacientes\": 2, \"codigo region\": 1}, {\"date\": \"2020-04-13\", \"region\": \"Antofagasta\", \"pacientes\": 4, \"codigo region\": 2}, {\"date\": \"2020-04-13\", \"region\": \"Atacama\", \"pacientes\": 1, \"codigo region\": 3}, {\"date\": \"2020-04-13\", \"region\": \"Coquimbo\", \"pacientes\": 0, \"codigo region\": 4}, {\"date\": \"2020-04-13\", \"region\": \"Valpara\\u00edso\", \"pacientes\": 16, \"codigo region\": 5}, {\"date\": \"2020-04-13\", \"region\": \"Metropolitana\", \"pacientes\": 189, \"codigo region\": 6}, {\"date\": \"2020-04-13\", \"region\": \"O\\u2019Higgins\", \"pacientes\": 7, \"codigo region\": 7}, {\"date\": \"2020-04-13\", \"region\": \"Maule\", \"pacientes\": 16, \"codigo region\": 8}, {\"date\": \"2020-04-13\", \"region\": \"\\u00d1uble\", \"pacientes\": 13, \"codigo region\": 9}, {\"date\": \"2020-04-13\", \"region\": \"Biob\\u00edo\", \"pacientes\": 35, \"codigo region\": 10}, {\"date\": \"2020-04-13\", \"region\": \"Araucan\\u00eda\", \"pacientes\": 52, \"codigo region\": 11}, {\"date\": \"2020-04-13\", \"region\": \"Los R\\u00edos\", \"pacientes\": 7, \"codigo region\": 12}, {\"date\": \"2020-04-13\", \"region\": \"Los Lagos\", \"pacientes\": 25, \"codigo region\": 13}, {\"date\": \"2020-04-13\", \"region\": \"Ays\\u00e9n\", \"pacientes\": 0, \"codigo region\": 14}, {\"date\": \"2020-04-13\", \"region\": \"Magallanes\", \"pacientes\": 15, \"codigo region\": 15}, {\"date\": \"2020-04-14\", \"region\": \"Arica y Parinacota\", \"pacientes\": 5, \"codigo region\": 0}, {\"date\": \"2020-04-14\", \"region\": \"Tarapac\\u00e1\", \"pacientes\": 1, \"codigo region\": 1}, {\"date\": \"2020-04-14\", \"region\": \"Antofagasta\", \"pacientes\": 4, \"codigo region\": 2}, {\"date\": \"2020-04-14\", \"region\": \"Atacama\", \"pacientes\": 1, \"codigo region\": 3}, {\"date\": \"2020-04-14\", \"region\": \"Coquimbo\", \"pacientes\": 1, \"codigo region\": 4}, {\"date\": \"2020-04-14\", \"region\": \"Valpara\\u00edso\", \"pacientes\": 16, \"codigo region\": 5}, {\"date\": \"2020-04-14\", \"region\": \"Metropolitana\", \"pacientes\": 190, \"codigo region\": 6}, {\"date\": \"2020-04-14\", \"region\": \"O\\u2019Higgins\", \"pacientes\": 5, \"codigo region\": 7}, {\"date\": \"2020-04-14\", \"region\": \"Maule\", \"pacientes\": 15, \"codigo region\": 8}, {\"date\": \"2020-04-14\", \"region\": \"\\u00d1uble\", \"pacientes\": 12, \"codigo region\": 9}, {\"date\": \"2020-04-14\", \"region\": \"Biob\\u00edo\", \"pacientes\": 35, \"codigo region\": 10}, {\"date\": \"2020-04-14\", \"region\": \"Araucan\\u00eda\", \"pacientes\": 46, \"codigo region\": 11}, {\"date\": \"2020-04-14\", \"region\": \"Los R\\u00edos\", \"pacientes\": 7, \"codigo region\": 12}, {\"date\": \"2020-04-14\", \"region\": \"Los Lagos\", \"pacientes\": 26, \"codigo region\": 13}, {\"date\": \"2020-04-14\", \"region\": \"Ays\\u00e9n\", \"pacientes\": 0, \"codigo region\": 14}, {\"date\": \"2020-04-14\", \"region\": \"Magallanes\", \"pacientes\": 15, \"codigo region\": 15}, {\"date\": \"2020-04-15\", \"region\": \"Arica y Parinacota\", \"pacientes\": 5, \"codigo region\": 0}, {\"date\": \"2020-04-15\", \"region\": \"Tarapac\\u00e1\", \"pacientes\": 0, \"codigo region\": 1}, {\"date\": \"2020-04-15\", \"region\": \"Antofagasta\", \"pacientes\": 5, \"codigo region\": 2}, {\"date\": \"2020-04-15\", \"region\": \"Atacama\", \"pacientes\": 1, \"codigo region\": 3}, {\"date\": \"2020-04-15\", \"region\": \"Coquimbo\", \"pacientes\": 1, \"codigo region\": 4}, {\"date\": \"2020-04-15\", \"region\": \"Valpara\\u00edso\", \"pacientes\": 16, \"codigo region\": 5}, {\"date\": \"2020-04-15\", \"region\": \"Metropolitana\", \"pacientes\": 198, \"codigo region\": 6}, {\"date\": \"2020-04-15\", \"region\": \"O\\u2019Higgins\", \"pacientes\": 6, \"codigo region\": 7}, {\"date\": \"2020-04-15\", \"region\": \"Maule\", \"pacientes\": 15, \"codigo region\": 8}, {\"date\": \"2020-04-15\", \"region\": \"\\u00d1uble\", \"pacientes\": 13, \"codigo region\": 9}, {\"date\": \"2020-04-15\", \"region\": \"Biob\\u00edo\", \"pacientes\": 35, \"codigo region\": 10}, {\"date\": \"2020-04-15\", \"region\": \"Araucan\\u00eda\", \"pacientes\": 46, \"codigo region\": 11}, {\"date\": \"2020-04-15\", \"region\": \"Los R\\u00edos\", \"pacientes\": 6, \"codigo region\": 12}, {\"date\": \"2020-04-15\", \"region\": \"Los Lagos\", \"pacientes\": 26, \"codigo region\": 13}, {\"date\": \"2020-04-15\", \"region\": \"Ays\\u00e9n\", \"pacientes\": 0, \"codigo region\": 14}, {\"date\": \"2020-04-15\", \"region\": \"Magallanes\", \"pacientes\": 16, \"codigo region\": 15}, {\"date\": \"2020-04-16\", \"region\": \"Arica y Parinacota\", \"pacientes\": 6, \"codigo region\": 0}, {\"date\": \"2020-04-16\", \"region\": \"Tarapac\\u00e1\", \"pacientes\": 0, \"codigo region\": 1}, {\"date\": \"2020-04-16\", \"region\": \"Antofagasta\", \"pacientes\": 5, \"codigo region\": 2}, {\"date\": \"2020-04-16\", \"region\": \"Atacama\", \"pacientes\": 1, \"codigo region\": 3}, {\"date\": \"2020-04-16\", \"region\": \"Coquimbo\", \"pacientes\": 0, \"codigo region\": 4}, {\"date\": \"2020-04-16\", \"region\": \"Valpara\\u00edso\", \"pacientes\": 18, \"codigo region\": 5}, {\"date\": \"2020-04-16\", \"region\": \"Metropolitana\", \"pacientes\": 196, \"codigo region\": 6}, {\"date\": \"2020-04-16\", \"region\": \"O\\u2019Higgins\", \"pacientes\": 4, \"codigo region\": 7}, {\"date\": \"2020-04-16\", \"region\": \"Maule\", \"pacientes\": 13, \"codigo region\": 8}, {\"date\": \"2020-04-16\", \"region\": \"\\u00d1uble\", \"pacientes\": 12, \"codigo region\": 9}, {\"date\": \"2020-04-16\", \"region\": \"Biob\\u00edo\", \"pacientes\": 30, \"codigo region\": 10}, {\"date\": \"2020-04-16\", \"region\": \"Araucan\\u00eda\", \"pacientes\": 47, \"codigo region\": 11}, {\"date\": \"2020-04-16\", \"region\": \"Los R\\u00edos\", \"pacientes\": 7, \"codigo region\": 12}, {\"date\": \"2020-04-16\", \"region\": \"Los Lagos\", \"pacientes\": 27, \"codigo region\": 13}, {\"date\": \"2020-04-16\", \"region\": \"Ays\\u00e9n\", \"pacientes\": 0, \"codigo region\": 14}, {\"date\": \"2020-04-16\", \"region\": \"Magallanes\", \"pacientes\": 18, \"codigo region\": 15}, {\"date\": \"2020-04-17\", \"region\": \"Arica y Parinacota\", \"pacientes\": 6, \"codigo region\": 0}, {\"date\": \"2020-04-17\", \"region\": \"Tarapac\\u00e1\", \"pacientes\": 0, \"codigo region\": 1}, {\"date\": \"2020-04-17\", \"region\": \"Antofagasta\", \"pacientes\": 6, \"codigo region\": 2}, {\"date\": \"2020-04-17\", \"region\": \"Atacama\", \"pacientes\": 1, \"codigo region\": 3}, {\"date\": \"2020-04-17\", \"region\": \"Coquimbo\", \"pacientes\": 0, \"codigo region\": 4}, {\"date\": \"2020-04-17\", \"region\": \"Valpara\\u00edso\", \"pacientes\": 18, \"codigo region\": 5}, {\"date\": \"2020-04-17\", \"region\": \"Metropolitana\", \"pacientes\": 202, \"codigo region\": 6}, {\"date\": \"2020-04-17\", \"region\": \"O\\u2019Higgins\", \"pacientes\": 4, \"codigo region\": 7}, {\"date\": \"2020-04-17\", \"region\": \"Maule\", \"pacientes\": 12, \"codigo region\": 8}, {\"date\": \"2020-04-17\", \"region\": \"\\u00d1uble\", \"pacientes\": 12, \"codigo region\": 9}, {\"date\": \"2020-04-17\", \"region\": \"Biob\\u00edo\", \"pacientes\": 27, \"codigo region\": 10}, {\"date\": \"2020-04-17\", \"region\": \"Araucan\\u00eda\", \"pacientes\": 47, \"codigo region\": 11}, {\"date\": \"2020-04-17\", \"region\": \"Los R\\u00edos\", \"pacientes\": 6, \"codigo region\": 12}, {\"date\": \"2020-04-17\", \"region\": \"Los Lagos\", \"pacientes\": 26, \"codigo region\": 13}, {\"date\": \"2020-04-17\", \"region\": \"Ays\\u00e9n\", \"pacientes\": 0, \"codigo region\": 14}, {\"date\": \"2020-04-17\", \"region\": \"Magallanes\", \"pacientes\": 18, \"codigo region\": 15}, {\"date\": \"2020-04-18\", \"region\": \"Arica y Parinacota\", \"pacientes\": 5, \"codigo region\": 0}, {\"date\": \"2020-04-18\", \"region\": \"Tarapac\\u00e1\", \"pacientes\": 0, \"codigo region\": 1}, {\"date\": \"2020-04-18\", \"region\": \"Antofagasta\", \"pacientes\": 5, \"codigo region\": 2}, {\"date\": \"2020-04-18\", \"region\": \"Atacama\", \"pacientes\": 1, \"codigo region\": 3}, {\"date\": \"2020-04-18\", \"region\": \"Coquimbo\", \"pacientes\": 0, \"codigo region\": 4}, {\"date\": \"2020-04-18\", \"region\": \"Valpara\\u00edso\", \"pacientes\": 19, \"codigo region\": 5}, {\"date\": \"2020-04-18\", \"region\": \"Metropolitana\", \"pacientes\": 181, \"codigo region\": 6}, {\"date\": \"2020-04-18\", \"region\": \"O\\u2019Higgins\", \"pacientes\": 4, \"codigo region\": 7}, {\"date\": \"2020-04-18\", \"region\": \"Maule\", \"pacientes\": 12, \"codigo region\": 8}, {\"date\": \"2020-04-18\", \"region\": \"\\u00d1uble\", \"pacientes\": 13, \"codigo region\": 9}, {\"date\": \"2020-04-18\", \"region\": \"Biob\\u00edo\", \"pacientes\": 25, \"codigo region\": 10}, {\"date\": \"2020-04-18\", \"region\": \"Araucan\\u00eda\", \"pacientes\": 46, \"codigo region\": 11}, {\"date\": \"2020-04-18\", \"region\": \"Los R\\u00edos\", \"pacientes\": 6, \"codigo region\": 12}, {\"date\": \"2020-04-18\", \"region\": \"Los Lagos\", \"pacientes\": 26, \"codigo region\": 13}, {\"date\": \"2020-04-18\", \"region\": \"Ays\\u00e9n\", \"pacientes\": 0, \"codigo region\": 14}, {\"date\": \"2020-04-18\", \"region\": \"Magallanes\", \"pacientes\": 17, \"codigo region\": 15}, {\"date\": \"2020-04-19\", \"region\": \"Arica y Parinacota\", \"pacientes\": 5, \"codigo region\": 0}, {\"date\": \"2020-04-19\", \"region\": \"Tarapac\\u00e1\", \"pacientes\": 1, \"codigo region\": 1}, {\"date\": \"2020-04-19\", \"region\": \"Antofagasta\", \"pacientes\": 5, \"codigo region\": 2}, {\"date\": \"2020-04-19\", \"region\": \"Atacama\", \"pacientes\": 1, \"codigo region\": 3}, {\"date\": \"2020-04-19\", \"region\": \"Coquimbo\", \"pacientes\": 0, \"codigo region\": 4}, {\"date\": \"2020-04-19\", \"region\": \"Valpara\\u00edso\", \"pacientes\": 22, \"codigo region\": 5}, {\"date\": \"2020-04-19\", \"region\": \"Metropolitana\", \"pacientes\": 186, \"codigo region\": 6}, {\"date\": \"2020-04-19\", \"region\": \"O\\u2019Higgins\", \"pacientes\": 4, \"codigo region\": 7}, {\"date\": \"2020-04-19\", \"region\": \"Maule\", \"pacientes\": 15, \"codigo region\": 8}, {\"date\": \"2020-04-19\", \"region\": \"\\u00d1uble\", \"pacientes\": 14, \"codigo region\": 9}, {\"date\": \"2020-04-19\", \"region\": \"Biob\\u00edo\", \"pacientes\": 26, \"codigo region\": 10}, {\"date\": \"2020-04-19\", \"region\": \"Araucan\\u00eda\", \"pacientes\": 44, \"codigo region\": 11}, {\"date\": \"2020-04-19\", \"region\": \"Los R\\u00edos\", \"pacientes\": 7, \"codigo region\": 12}, {\"date\": \"2020-04-19\", \"region\": \"Los Lagos\", \"pacientes\": 25, \"codigo region\": 13}, {\"date\": \"2020-04-19\", \"region\": \"Ays\\u00e9n\", \"pacientes\": 0, \"codigo region\": 14}, {\"date\": \"2020-04-19\", \"region\": \"Magallanes\", \"pacientes\": 18, \"codigo region\": 15}, {\"date\": \"2020-04-20\", \"region\": \"Arica y Parinacota\", \"pacientes\": 5, \"codigo region\": 0}, {\"date\": \"2020-04-20\", \"region\": \"Tarapac\\u00e1\", \"pacientes\": 1, \"codigo region\": 1}, {\"date\": \"2020-04-20\", \"region\": \"Antofagasta\", \"pacientes\": 5, \"codigo region\": 2}, {\"date\": \"2020-04-20\", \"region\": \"Atacama\", \"pacientes\": 1, \"codigo region\": 3}, {\"date\": \"2020-04-20\", \"region\": \"Coquimbo\", \"pacientes\": 0, \"codigo region\": 4}, {\"date\": \"2020-04-20\", \"region\": \"Valpara\\u00edso\", \"pacientes\": 22, \"codigo region\": 5}, {\"date\": \"2020-04-20\", \"region\": \"Metropolitana\", \"pacientes\": 194, \"codigo region\": 6}, {\"date\": \"2020-04-20\", \"region\": \"O\\u2019Higgins\", \"pacientes\": 4, \"codigo region\": 7}, {\"date\": \"2020-04-20\", \"region\": \"Maule\", \"pacientes\": 9, \"codigo region\": 8}, {\"date\": \"2020-04-20\", \"region\": \"\\u00d1uble\", \"pacientes\": 15, \"codigo region\": 9}, {\"date\": \"2020-04-20\", \"region\": \"Biob\\u00edo\", \"pacientes\": 26, \"codigo region\": 10}, {\"date\": \"2020-04-20\", \"region\": \"Araucan\\u00eda\", \"pacientes\": 45, \"codigo region\": 11}, {\"date\": \"2020-04-20\", \"region\": \"Los R\\u00edos\", \"pacientes\": 5, \"codigo region\": 12}, {\"date\": \"2020-04-20\", \"region\": \"Los Lagos\", \"pacientes\": 24, \"codigo region\": 13}, {\"date\": \"2020-04-20\", \"region\": \"Ays\\u00e9n\", \"pacientes\": 0, \"codigo region\": 14}, {\"date\": \"2020-04-20\", \"region\": \"Magallanes\", \"pacientes\": 21, \"codigo region\": 15}, {\"date\": \"2020-04-21\", \"region\": \"Arica y Parinacota\", \"pacientes\": 5, \"codigo region\": 0}, {\"date\": \"2020-04-21\", \"region\": \"Tarapac\\u00e1\", \"pacientes\": 1, \"codigo region\": 1}, {\"date\": \"2020-04-21\", \"region\": \"Antofagasta\", \"pacientes\": 7, \"codigo region\": 2}, {\"date\": \"2020-04-21\", \"region\": \"Atacama\", \"pacientes\": 1, \"codigo region\": 3}, {\"date\": \"2020-04-21\", \"region\": \"Coquimbo\", \"pacientes\": 0, \"codigo region\": 4}, {\"date\": \"2020-04-21\", \"region\": \"Valpara\\u00edso\", \"pacientes\": 22, \"codigo region\": 5}, {\"date\": \"2020-04-21\", \"region\": \"Metropolitana\", \"pacientes\": 204, \"codigo region\": 6}, {\"date\": \"2020-04-21\", \"region\": \"O\\u2019Higgins\", \"pacientes\": 3, \"codigo region\": 7}, {\"date\": \"2020-04-21\", \"region\": \"Maule\", \"pacientes\": 14, \"codigo region\": 8}, {\"date\": \"2020-04-21\", \"region\": \"\\u00d1uble\", \"pacientes\": 15, \"codigo region\": 9}, {\"date\": \"2020-04-21\", \"region\": \"Biob\\u00edo\", \"pacientes\": 25, \"codigo region\": 10}, {\"date\": \"2020-04-21\", \"region\": \"Araucan\\u00eda\", \"pacientes\": 45, \"codigo region\": 11}, {\"date\": \"2020-04-21\", \"region\": \"Los R\\u00edos\", \"pacientes\": 6, \"codigo region\": 12}, {\"date\": \"2020-04-21\", \"region\": \"Los Lagos\", \"pacientes\": 25, \"codigo region\": 13}, {\"date\": \"2020-04-21\", \"region\": \"Ays\\u00e9n\", \"pacientes\": 0, \"codigo region\": 14}, {\"date\": \"2020-04-21\", \"region\": \"Magallanes\", \"pacientes\": 19, \"codigo region\": 15}, {\"date\": \"2020-04-22\", \"region\": \"Arica y Parinacota\", \"pacientes\": 4, \"codigo region\": 0}, {\"date\": \"2020-04-22\", \"region\": \"Tarapac\\u00e1\", \"pacientes\": 2, \"codigo region\": 1}, {\"date\": \"2020-04-22\", \"region\": \"Antofagasta\", \"pacientes\": 10, \"codigo region\": 2}, {\"date\": \"2020-04-22\", \"region\": \"Atacama\", \"pacientes\": 1, \"codigo region\": 3}, {\"date\": \"2020-04-22\", \"region\": \"Coquimbo\", \"pacientes\": 0, \"codigo region\": 4}, {\"date\": \"2020-04-22\", \"region\": \"Valpara\\u00edso\", \"pacientes\": 24, \"codigo region\": 5}, {\"date\": \"2020-04-22\", \"region\": \"Metropolitana\", \"pacientes\": 213, \"codigo region\": 6}, {\"date\": \"2020-04-22\", \"region\": \"O\\u2019Higgins\", \"pacientes\": 4, \"codigo region\": 7}, {\"date\": \"2020-04-22\", \"region\": \"Maule\", \"pacientes\": 10, \"codigo region\": 8}, {\"date\": \"2020-04-22\", \"region\": \"\\u00d1uble\", \"pacientes\": 15, \"codigo region\": 9}, {\"date\": \"2020-04-22\", \"region\": \"Biob\\u00edo\", \"pacientes\": 25, \"codigo region\": 10}, {\"date\": \"2020-04-22\", \"region\": \"Araucan\\u00eda\", \"pacientes\": 43, \"codigo region\": 11}, {\"date\": \"2020-04-22\", \"region\": \"Los R\\u00edos\", \"pacientes\": 7, \"codigo region\": 12}, {\"date\": \"2020-04-22\", \"region\": \"Los Lagos\", \"pacientes\": 23, \"codigo region\": 13}, {\"date\": \"2020-04-22\", \"region\": \"Ays\\u00e9n\", \"pacientes\": 0, \"codigo region\": 14}, {\"date\": \"2020-04-22\", \"region\": \"Magallanes\", \"pacientes\": 18, \"codigo region\": 15}, {\"date\": \"2020-04-23\", \"region\": \"Arica y Parinacota\", \"pacientes\": 4, \"codigo region\": 0}, {\"date\": \"2020-04-23\", \"region\": \"Tarapac\\u00e1\", \"pacientes\": 2, \"codigo region\": 1}, {\"date\": \"2020-04-23\", \"region\": \"Antofagasta\", \"pacientes\": 14, \"codigo region\": 2}, {\"date\": \"2020-04-23\", \"region\": \"Atacama\", \"pacientes\": 1, \"codigo region\": 3}, {\"date\": \"2020-04-23\", \"region\": \"Coquimbo\", \"pacientes\": 0, \"codigo region\": 4}, {\"date\": \"2020-04-23\", \"region\": \"Valpara\\u00edso\", \"pacientes\": 20, \"codigo region\": 5}, {\"date\": \"2020-04-23\", \"region\": \"Metropolitana\", \"pacientes\": 234, \"codigo region\": 6}, {\"date\": \"2020-04-23\", \"region\": \"O\\u2019Higgins\", \"pacientes\": 4, \"codigo region\": 7}, {\"date\": \"2020-04-23\", \"region\": \"Maule\", \"pacientes\": 9, \"codigo region\": 8}, {\"date\": \"2020-04-23\", \"region\": \"\\u00d1uble\", \"pacientes\": 15, \"codigo region\": 9}, {\"date\": \"2020-04-23\", \"region\": \"Biob\\u00edo\", \"pacientes\": 25, \"codigo region\": 10}, {\"date\": \"2020-04-23\", \"region\": \"Araucan\\u00eda\", \"pacientes\": 37, \"codigo region\": 11}, {\"date\": \"2020-04-23\", \"region\": \"Los R\\u00edos\", \"pacientes\": 7, \"codigo region\": 12}, {\"date\": \"2020-04-23\", \"region\": \"Los Lagos\", \"pacientes\": 22, \"codigo region\": 13}, {\"date\": \"2020-04-23\", \"region\": \"Ays\\u00e9n\", \"pacientes\": 0, \"codigo region\": 14}, {\"date\": \"2020-04-23\", \"region\": \"Magallanes\", \"pacientes\": 17, \"codigo region\": 15}, {\"date\": \"2020-04-24\", \"region\": \"Arica y Parinacota\", \"pacientes\": 7, \"codigo region\": 0}, {\"date\": \"2020-04-24\", \"region\": \"Tarapac\\u00e1\", \"pacientes\": 2, \"codigo region\": 1}, {\"date\": \"2020-04-24\", \"region\": \"Antofagasta\", \"pacientes\": 16, \"codigo region\": 2}, {\"date\": \"2020-04-24\", \"region\": \"Atacama\", \"pacientes\": 1, \"codigo region\": 3}, {\"date\": \"2020-04-24\", \"region\": \"Coquimbo\", \"pacientes\": 0, \"codigo region\": 4}, {\"date\": \"2020-04-24\", \"region\": \"Valpara\\u00edso\", \"pacientes\": 17, \"codigo region\": 5}, {\"date\": \"2020-04-24\", \"region\": \"Metropolitana\", \"pacientes\": 242, \"codigo region\": 6}, {\"date\": \"2020-04-24\", \"region\": \"O\\u2019Higgins\", \"pacientes\": 4, \"codigo region\": 7}, {\"date\": \"2020-04-24\", \"region\": \"Maule\", \"pacientes\": 9, \"codigo region\": 8}, {\"date\": \"2020-04-24\", \"region\": \"\\u00d1uble\", \"pacientes\": 13, \"codigo region\": 9}, {\"date\": \"2020-04-24\", \"region\": \"Biob\\u00edo\", \"pacientes\": 22, \"codigo region\": 10}, {\"date\": \"2020-04-24\", \"region\": \"Araucan\\u00eda\", \"pacientes\": 38, \"codigo region\": 11}, {\"date\": \"2020-04-24\", \"region\": \"Los R\\u00edos\", \"pacientes\": 7, \"codigo region\": 12}, {\"date\": \"2020-04-24\", \"region\": \"Los Lagos\", \"pacientes\": 21, \"codigo region\": 13}, {\"date\": \"2020-04-24\", \"region\": \"Ays\\u00e9n\", \"pacientes\": 0, \"codigo region\": 14}, {\"date\": \"2020-04-24\", \"region\": \"Magallanes\", \"pacientes\": 16, \"codigo region\": 15}], \"data-55e1227071c55c8408938cb79b631841\": [{\"date\": \"2020-03-24\", \"region\": \"Arica y Parinacota\", \"fallecidos\": 0, \"codigo region\": 0}, {\"date\": \"2020-03-24\", \"region\": \"Tarapac\\u00e1\", \"fallecidos\": 0, \"codigo region\": 1}, {\"date\": \"2020-03-24\", \"region\": \"Antofagasta\", \"fallecidos\": 0, \"codigo region\": 2}, {\"date\": \"2020-03-24\", \"region\": \"Atacama\", \"fallecidos\": 0, \"codigo region\": 3}, {\"date\": \"2020-03-24\", \"region\": \"Coquimbo\", \"fallecidos\": 0, \"codigo region\": 4}, {\"date\": \"2020-03-24\", \"region\": \"Valpara\\u00edso\", \"fallecidos\": 0, \"codigo region\": 5}, {\"date\": \"2020-03-24\", \"region\": \"Metropolitana\", \"fallecidos\": 2, \"codigo region\": 6}, {\"date\": \"2020-03-24\", \"region\": \"O\\u2019Higgins\", \"fallecidos\": 0, \"codigo region\": 7}, {\"date\": \"2020-03-24\", \"region\": \"Maule\", \"fallecidos\": 0, \"codigo region\": 8}, {\"date\": \"2020-03-24\", \"region\": \"\\u00d1uble\", \"fallecidos\": 0, \"codigo region\": 9}, {\"date\": \"2020-03-24\", \"region\": \"Biob\\u00edo\", \"fallecidos\": 0, \"codigo region\": 10}, {\"date\": \"2020-03-24\", \"region\": \"Araucan\\u00eda\", \"fallecidos\": 0, \"codigo region\": 11}, {\"date\": \"2020-03-24\", \"region\": \"Los R\\u00edos\", \"fallecidos\": 0, \"codigo region\": 12}, {\"date\": \"2020-03-24\", \"region\": \"Los Lagos\", \"fallecidos\": 0, \"codigo region\": 13}, {\"date\": \"2020-03-24\", \"region\": \"Ays\\u00e9n\", \"fallecidos\": 0, \"codigo region\": 14}, {\"date\": \"2020-03-24\", \"region\": \"Magallanes\", \"fallecidos\": 0, \"codigo region\": 15}, {\"date\": \"2020-03-25\", \"region\": \"Arica y Parinacota\", \"fallecidos\": 0, \"codigo region\": 0}, {\"date\": \"2020-03-25\", \"region\": \"Tarapac\\u00e1\", \"fallecidos\": 0, \"codigo region\": 1}, {\"date\": \"2020-03-25\", \"region\": \"Antofagasta\", \"fallecidos\": 0, \"codigo region\": 2}, {\"date\": \"2020-03-25\", \"region\": \"Atacama\", \"fallecidos\": 0, \"codigo region\": 3}, {\"date\": \"2020-03-25\", \"region\": \"Coquimbo\", \"fallecidos\": 0, \"codigo region\": 4}, {\"date\": \"2020-03-25\", \"region\": \"Valpara\\u00edso\", \"fallecidos\": 0, \"codigo region\": 5}, {\"date\": \"2020-03-25\", \"region\": \"Metropolitana\", \"fallecidos\": 2, \"codigo region\": 6}, {\"date\": \"2020-03-25\", \"region\": \"O\\u2019Higgins\", \"fallecidos\": 0, \"codigo region\": 7}, {\"date\": \"2020-03-25\", \"region\": \"Maule\", \"fallecidos\": 0, \"codigo region\": 8}, {\"date\": \"2020-03-25\", \"region\": \"\\u00d1uble\", \"fallecidos\": 0, \"codigo region\": 9}, {\"date\": \"2020-03-25\", \"region\": \"Biob\\u00edo\", \"fallecidos\": 1, \"codigo region\": 10}, {\"date\": \"2020-03-25\", \"region\": \"Araucan\\u00eda\", \"fallecidos\": 0, \"codigo region\": 11}, {\"date\": \"2020-03-25\", \"region\": \"Los R\\u00edos\", \"fallecidos\": 0, \"codigo region\": 12}, {\"date\": \"2020-03-25\", \"region\": \"Los Lagos\", \"fallecidos\": 0, \"codigo region\": 13}, {\"date\": \"2020-03-25\", \"region\": \"Ays\\u00e9n\", \"fallecidos\": 0, \"codigo region\": 14}, {\"date\": \"2020-03-25\", \"region\": \"Magallanes\", \"fallecidos\": 0, \"codigo region\": 15}, {\"date\": \"2020-03-26\", \"region\": \"Arica y Parinacota\", \"fallecidos\": 0, \"codigo region\": 0}, {\"date\": \"2020-03-26\", \"region\": \"Tarapac\\u00e1\", \"fallecidos\": 0, \"codigo region\": 1}, {\"date\": \"2020-03-26\", \"region\": \"Antofagasta\", \"fallecidos\": 0, \"codigo region\": 2}, {\"date\": \"2020-03-26\", \"region\": \"Atacama\", \"fallecidos\": 0, \"codigo region\": 3}, {\"date\": \"2020-03-26\", \"region\": \"Coquimbo\", \"fallecidos\": 0, \"codigo region\": 4}, {\"date\": \"2020-03-26\", \"region\": \"Valpara\\u00edso\", \"fallecidos\": 0, \"codigo region\": 5}, {\"date\": \"2020-03-26\", \"region\": \"Metropolitana\", \"fallecidos\": 3, \"codigo region\": 6}, {\"date\": \"2020-03-26\", \"region\": \"O\\u2019Higgins\", \"fallecidos\": 0, \"codigo region\": 7}, {\"date\": \"2020-03-26\", \"region\": \"Maule\", \"fallecidos\": 0, \"codigo region\": 8}, {\"date\": \"2020-03-26\", \"region\": \"\\u00d1uble\", \"fallecidos\": 0, \"codigo region\": 9}, {\"date\": \"2020-03-26\", \"region\": \"Biob\\u00edo\", \"fallecidos\": 1, \"codigo region\": 10}, {\"date\": \"2020-03-26\", \"region\": \"Araucan\\u00eda\", \"fallecidos\": 0, \"codigo region\": 11}, {\"date\": \"2020-03-26\", \"region\": \"Los R\\u00edos\", \"fallecidos\": 0, \"codigo region\": 12}, {\"date\": \"2020-03-26\", \"region\": \"Los Lagos\", \"fallecidos\": 0, \"codigo region\": 13}, {\"date\": \"2020-03-26\", \"region\": \"Ays\\u00e9n\", \"fallecidos\": 0, \"codigo region\": 14}, {\"date\": \"2020-03-26\", \"region\": \"Magallanes\", \"fallecidos\": 0, \"codigo region\": 15}, {\"date\": \"2020-03-27\", \"region\": \"Arica y Parinacota\", \"fallecidos\": 0, \"codigo region\": 0}, {\"date\": \"2020-03-27\", \"region\": \"Tarapac\\u00e1\", \"fallecidos\": 0, \"codigo region\": 1}, {\"date\": \"2020-03-27\", \"region\": \"Antofagasta\", \"fallecidos\": 0, \"codigo region\": 2}, {\"date\": \"2020-03-27\", \"region\": \"Atacama\", \"fallecidos\": 0, \"codigo region\": 3}, {\"date\": \"2020-03-27\", \"region\": \"Coquimbo\", \"fallecidos\": 0, \"codigo region\": 4}, {\"date\": \"2020-03-27\", \"region\": \"Valpara\\u00edso\", \"fallecidos\": 0, \"codigo region\": 5}, {\"date\": \"2020-03-27\", \"region\": \"Metropolitana\", \"fallecidos\": 3, \"codigo region\": 6}, {\"date\": \"2020-03-27\", \"region\": \"O\\u2019Higgins\", \"fallecidos\": 0, \"codigo region\": 7}, {\"date\": \"2020-03-27\", \"region\": \"Maule\", \"fallecidos\": 0, \"codigo region\": 8}, {\"date\": \"2020-03-27\", \"region\": \"\\u00d1uble\", \"fallecidos\": 0, \"codigo region\": 9}, {\"date\": \"2020-03-27\", \"region\": \"Biob\\u00edo\", \"fallecidos\": 2, \"codigo region\": 10}, {\"date\": \"2020-03-27\", \"region\": \"Araucan\\u00eda\", \"fallecidos\": 0, \"codigo region\": 11}, {\"date\": \"2020-03-27\", \"region\": \"Los R\\u00edos\", \"fallecidos\": 0, \"codigo region\": 12}, {\"date\": \"2020-03-27\", \"region\": \"Los Lagos\", \"fallecidos\": 0, \"codigo region\": 13}, {\"date\": \"2020-03-27\", \"region\": \"Ays\\u00e9n\", \"fallecidos\": 0, \"codigo region\": 14}, {\"date\": \"2020-03-27\", \"region\": \"Magallanes\", \"fallecidos\": 0, \"codigo region\": 15}, {\"date\": \"2020-03-28\", \"region\": \"Arica y Parinacota\", \"fallecidos\": 0, \"codigo region\": 0}, {\"date\": \"2020-03-28\", \"region\": \"Tarapac\\u00e1\", \"fallecidos\": 0, \"codigo region\": 1}, {\"date\": \"2020-03-28\", \"region\": \"Antofagasta\", \"fallecidos\": 0, \"codigo region\": 2}, {\"date\": \"2020-03-28\", \"region\": \"Atacama\", \"fallecidos\": 0, \"codigo region\": 3}, {\"date\": \"2020-03-28\", \"region\": \"Coquimbo\", \"fallecidos\": 0, \"codigo region\": 4}, {\"date\": \"2020-03-28\", \"region\": \"Valpara\\u00edso\", \"fallecidos\": 0, \"codigo region\": 5}, {\"date\": \"2020-03-28\", \"region\": \"Metropolitana\", \"fallecidos\": 3, \"codigo region\": 6}, {\"date\": \"2020-03-28\", \"region\": \"O\\u2019Higgins\", \"fallecidos\": 0, \"codigo region\": 7}, {\"date\": \"2020-03-28\", \"region\": \"Maule\", \"fallecidos\": 0, \"codigo region\": 8}, {\"date\": \"2020-03-28\", \"region\": \"\\u00d1uble\", \"fallecidos\": 0, \"codigo region\": 9}, {\"date\": \"2020-03-28\", \"region\": \"Biob\\u00edo\", \"fallecidos\": 2, \"codigo region\": 10}, {\"date\": \"2020-03-28\", \"region\": \"Araucan\\u00eda\", \"fallecidos\": 1, \"codigo region\": 11}, {\"date\": \"2020-03-28\", \"region\": \"Los R\\u00edos\", \"fallecidos\": 0, \"codigo region\": 12}, {\"date\": \"2020-03-28\", \"region\": \"Los Lagos\", \"fallecidos\": 0, \"codigo region\": 13}, {\"date\": \"2020-03-28\", \"region\": \"Ays\\u00e9n\", \"fallecidos\": 0, \"codigo region\": 14}, {\"date\": \"2020-03-28\", \"region\": \"Magallanes\", \"fallecidos\": 0, \"codigo region\": 15}, {\"date\": \"2020-03-29\", \"region\": \"Arica y Parinacota\", \"fallecidos\": 0, \"codigo region\": 0}, {\"date\": \"2020-03-29\", \"region\": \"Tarapac\\u00e1\", \"fallecidos\": 0, \"codigo region\": 1}, {\"date\": \"2020-03-29\", \"region\": \"Antofagasta\", \"fallecidos\": 0, \"codigo region\": 2}, {\"date\": \"2020-03-29\", \"region\": \"Atacama\", \"fallecidos\": 0, \"codigo region\": 3}, {\"date\": \"2020-03-29\", \"region\": \"Coquimbo\", \"fallecidos\": 0, \"codigo region\": 4}, {\"date\": \"2020-03-29\", \"region\": \"Valpara\\u00edso\", \"fallecidos\": 0, \"codigo region\": 5}, {\"date\": \"2020-03-29\", \"region\": \"Metropolitana\", \"fallecidos\": 3, \"codigo region\": 6}, {\"date\": \"2020-03-29\", \"region\": \"O\\u2019Higgins\", \"fallecidos\": 0, \"codigo region\": 7}, {\"date\": \"2020-03-29\", \"region\": \"Maule\", \"fallecidos\": 0, \"codigo region\": 8}, {\"date\": \"2020-03-29\", \"region\": \"\\u00d1uble\", \"fallecidos\": 0, \"codigo region\": 9}, {\"date\": \"2020-03-29\", \"region\": \"Biob\\u00edo\", \"fallecidos\": 2, \"codigo region\": 10}, {\"date\": \"2020-03-29\", \"region\": \"Araucan\\u00eda\", \"fallecidos\": 2, \"codigo region\": 11}, {\"date\": \"2020-03-29\", \"region\": \"Los R\\u00edos\", \"fallecidos\": 0, \"codigo region\": 12}, {\"date\": \"2020-03-29\", \"region\": \"Los Lagos\", \"fallecidos\": 0, \"codigo region\": 13}, {\"date\": \"2020-03-29\", \"region\": \"Ays\\u00e9n\", \"fallecidos\": 0, \"codigo region\": 14}, {\"date\": \"2020-03-29\", \"region\": \"Magallanes\", \"fallecidos\": 0, \"codigo region\": 15}, {\"date\": \"2020-03-30\", \"region\": \"Arica y Parinacota\", \"fallecidos\": 0, \"codigo region\": 0}, {\"date\": \"2020-03-30\", \"region\": \"Tarapac\\u00e1\", \"fallecidos\": 0, \"codigo region\": 1}, {\"date\": \"2020-03-30\", \"region\": \"Antofagasta\", \"fallecidos\": 0, \"codigo region\": 2}, {\"date\": \"2020-03-30\", \"region\": \"Atacama\", \"fallecidos\": 0, \"codigo region\": 3}, {\"date\": \"2020-03-30\", \"region\": \"Coquimbo\", \"fallecidos\": 0, \"codigo region\": 4}, {\"date\": \"2020-03-30\", \"region\": \"Valpara\\u00edso\", \"fallecidos\": 0, \"codigo region\": 5}, {\"date\": \"2020-03-30\", \"region\": \"Metropolitana\", \"fallecidos\": 3, \"codigo region\": 6}, {\"date\": \"2020-03-30\", \"region\": \"O\\u2019Higgins\", \"fallecidos\": 0, \"codigo region\": 7}, {\"date\": \"2020-03-30\", \"region\": \"Maule\", \"fallecidos\": 1, \"codigo region\": 8}, {\"date\": \"2020-03-30\", \"region\": \"\\u00d1uble\", \"fallecidos\": 0, \"codigo region\": 9}, {\"date\": \"2020-03-30\", \"region\": \"Biob\\u00edo\", \"fallecidos\": 2, \"codigo region\": 10}, {\"date\": \"2020-03-30\", \"region\": \"Araucan\\u00eda\", \"fallecidos\": 2, \"codigo region\": 11}, {\"date\": \"2020-03-30\", \"region\": \"Los R\\u00edos\", \"fallecidos\": 0, \"codigo region\": 12}, {\"date\": \"2020-03-30\", \"region\": \"Los Lagos\", \"fallecidos\": 0, \"codigo region\": 13}, {\"date\": \"2020-03-30\", \"region\": \"Ays\\u00e9n\", \"fallecidos\": 0, \"codigo region\": 14}, {\"date\": \"2020-03-30\", \"region\": \"Magallanes\", \"fallecidos\": 0, \"codigo region\": 15}, {\"date\": \"2020-03-31\", \"region\": \"Arica y Parinacota\", \"fallecidos\": 0, \"codigo region\": 0}, {\"date\": \"2020-03-31\", \"region\": \"Tarapac\\u00e1\", \"fallecidos\": 0, \"codigo region\": 1}, {\"date\": \"2020-03-31\", \"region\": \"Antofagasta\", \"fallecidos\": 0, \"codigo region\": 2}, {\"date\": \"2020-03-31\", \"region\": \"Atacama\", \"fallecidos\": 0, \"codigo region\": 3}, {\"date\": \"2020-03-31\", \"region\": \"Coquimbo\", \"fallecidos\": 0, \"codigo region\": 4}, {\"date\": \"2020-03-31\", \"region\": \"Valpara\\u00edso\", \"fallecidos\": 1, \"codigo region\": 5}, {\"date\": \"2020-03-31\", \"region\": \"Metropolitana\", \"fallecidos\": 4, \"codigo region\": 6}, {\"date\": \"2020-03-31\", \"region\": \"O\\u2019Higgins\", \"fallecidos\": 0, \"codigo region\": 7}, {\"date\": \"2020-03-31\", \"region\": \"Maule\", \"fallecidos\": 1, \"codigo region\": 8}, {\"date\": \"2020-03-31\", \"region\": \"\\u00d1uble\", \"fallecidos\": 0, \"codigo region\": 9}, {\"date\": \"2020-03-31\", \"region\": \"Biob\\u00edo\", \"fallecidos\": 2, \"codigo region\": 10}, {\"date\": \"2020-03-31\", \"region\": \"Araucan\\u00eda\", \"fallecidos\": 4, \"codigo region\": 11}, {\"date\": \"2020-03-31\", \"region\": \"Los R\\u00edos\", \"fallecidos\": 0, \"codigo region\": 12}, {\"date\": \"2020-03-31\", \"region\": \"Los Lagos\", \"fallecidos\": 0, \"codigo region\": 13}, {\"date\": \"2020-03-31\", \"region\": \"Ays\\u00e9n\", \"fallecidos\": 0, \"codigo region\": 14}, {\"date\": \"2020-03-31\", \"region\": \"Magallanes\", \"fallecidos\": 0, \"codigo region\": 15}, {\"date\": \"2020-04-01\", \"region\": \"Arica y Parinacota\", \"fallecidos\": 0, \"codigo region\": 0}, {\"date\": \"2020-04-01\", \"region\": \"Tarapac\\u00e1\", \"fallecidos\": 0, \"codigo region\": 1}, {\"date\": \"2020-04-01\", \"region\": \"Antofagasta\", \"fallecidos\": 0, \"codigo region\": 2}, {\"date\": \"2020-04-01\", \"region\": \"Atacama\", \"fallecidos\": 0, \"codigo region\": 3}, {\"date\": \"2020-04-01\", \"region\": \"Coquimbo\", \"fallecidos\": 0, \"codigo region\": 4}, {\"date\": \"2020-04-01\", \"region\": \"Valpara\\u00edso\", \"fallecidos\": 1, \"codigo region\": 5}, {\"date\": \"2020-04-01\", \"region\": \"Metropolitana\", \"fallecidos\": 5, \"codigo region\": 6}, {\"date\": \"2020-04-01\", \"region\": \"O\\u2019Higgins\", \"fallecidos\": 0, \"codigo region\": 7}, {\"date\": \"2020-04-01\", \"region\": \"Maule\", \"fallecidos\": 1, \"codigo region\": 8}, {\"date\": \"2020-04-01\", \"region\": \"\\u00d1uble\", \"fallecidos\": 0, \"codigo region\": 9}, {\"date\": \"2020-04-01\", \"region\": \"Biob\\u00edo\", \"fallecidos\": 2, \"codigo region\": 10}, {\"date\": \"2020-04-01\", \"region\": \"Araucan\\u00eda\", \"fallecidos\": 6, \"codigo region\": 11}, {\"date\": \"2020-04-01\", \"region\": \"Los R\\u00edos\", \"fallecidos\": 1, \"codigo region\": 12}, {\"date\": \"2020-04-01\", \"region\": \"Los Lagos\", \"fallecidos\": 0, \"codigo region\": 13}, {\"date\": \"2020-04-01\", \"region\": \"Ays\\u00e9n\", \"fallecidos\": 0, \"codigo region\": 14}, {\"date\": \"2020-04-01\", \"region\": \"Magallanes\", \"fallecidos\": 0, \"codigo region\": 15}, {\"date\": \"2020-04-02\", \"region\": \"Arica y Parinacota\", \"fallecidos\": 0, \"codigo region\": 0}, {\"date\": \"2020-04-02\", \"region\": \"Tarapac\\u00e1\", \"fallecidos\": 0, \"codigo region\": 1}, {\"date\": \"2020-04-02\", \"region\": \"Antofagasta\", \"fallecidos\": 0, \"codigo region\": 2}, {\"date\": \"2020-04-02\", \"region\": \"Atacama\", \"fallecidos\": 0, \"codigo region\": 3}, {\"date\": \"2020-04-02\", \"region\": \"Coquimbo\", \"fallecidos\": 0, \"codigo region\": 4}, {\"date\": \"2020-04-02\", \"region\": \"Valpara\\u00edso\", \"fallecidos\": 1, \"codigo region\": 5}, {\"date\": \"2020-04-02\", \"region\": \"Metropolitana\", \"fallecidos\": 6, \"codigo region\": 6}, {\"date\": \"2020-04-02\", \"region\": \"O\\u2019Higgins\", \"fallecidos\": 0, \"codigo region\": 7}, {\"date\": \"2020-04-02\", \"region\": \"Maule\", \"fallecidos\": 1, \"codigo region\": 8}, {\"date\": \"2020-04-02\", \"region\": \"\\u00d1uble\", \"fallecidos\": 0, \"codigo region\": 9}, {\"date\": \"2020-04-02\", \"region\": \"Biob\\u00edo\", \"fallecidos\": 2, \"codigo region\": 10}, {\"date\": \"2020-04-02\", \"region\": \"Araucan\\u00eda\", \"fallecidos\": 7, \"codigo region\": 11}, {\"date\": \"2020-04-02\", \"region\": \"Los R\\u00edos\", \"fallecidos\": 1, \"codigo region\": 12}, {\"date\": \"2020-04-02\", \"region\": \"Los Lagos\", \"fallecidos\": 0, \"codigo region\": 13}, {\"date\": \"2020-04-02\", \"region\": \"Ays\\u00e9n\", \"fallecidos\": 0, \"codigo region\": 14}, {\"date\": \"2020-04-02\", \"region\": \"Magallanes\", \"fallecidos\": 0, \"codigo region\": 15}, {\"date\": \"2020-04-03\", \"region\": \"Arica y Parinacota\", \"fallecidos\": 0, \"codigo region\": 0}, {\"date\": \"2020-04-03\", \"region\": \"Tarapac\\u00e1\", \"fallecidos\": 0, \"codigo region\": 1}, {\"date\": \"2020-04-03\", \"region\": \"Antofagasta\", \"fallecidos\": 0, \"codigo region\": 2}, {\"date\": \"2020-04-03\", \"region\": \"Atacama\", \"fallecidos\": 0, \"codigo region\": 3}, {\"date\": \"2020-04-03\", \"region\": \"Coquimbo\", \"fallecidos\": 0, \"codigo region\": 4}, {\"date\": \"2020-04-03\", \"region\": \"Valpara\\u00edso\", \"fallecidos\": 1, \"codigo region\": 5}, {\"date\": \"2020-04-03\", \"region\": \"Metropolitana\", \"fallecidos\": 8, \"codigo region\": 6}, {\"date\": \"2020-04-03\", \"region\": \"O\\u2019Higgins\", \"fallecidos\": 0, \"codigo region\": 7}, {\"date\": \"2020-04-03\", \"region\": \"Maule\", \"fallecidos\": 1, \"codigo region\": 8}, {\"date\": \"2020-04-03\", \"region\": \"\\u00d1uble\", \"fallecidos\": 1, \"codigo region\": 9}, {\"date\": \"2020-04-03\", \"region\": \"Biob\\u00edo\", \"fallecidos\": 2, \"codigo region\": 10}, {\"date\": \"2020-04-03\", \"region\": \"Araucan\\u00eda\", \"fallecidos\": 7, \"codigo region\": 11}, {\"date\": \"2020-04-03\", \"region\": \"Los R\\u00edos\", \"fallecidos\": 1, \"codigo region\": 12}, {\"date\": \"2020-04-03\", \"region\": \"Los Lagos\", \"fallecidos\": 0, \"codigo region\": 13}, {\"date\": \"2020-04-03\", \"region\": \"Ays\\u00e9n\", \"fallecidos\": 0, \"codigo region\": 14}, {\"date\": \"2020-04-03\", \"region\": \"Magallanes\", \"fallecidos\": 1, \"codigo region\": 15}, {\"date\": \"2020-04-04\", \"region\": \"Arica y Parinacota\", \"fallecidos\": 0, \"codigo region\": 0}, {\"date\": \"2020-04-04\", \"region\": \"Tarapac\\u00e1\", \"fallecidos\": 0, \"codigo region\": 1}, {\"date\": \"2020-04-04\", \"region\": \"Antofagasta\", \"fallecidos\": 0, \"codigo region\": 2}, {\"date\": \"2020-04-04\", \"region\": \"Atacama\", \"fallecidos\": 0, \"codigo region\": 3}, {\"date\": \"2020-04-04\", \"region\": \"Coquimbo\", \"fallecidos\": 0, \"codigo region\": 4}, {\"date\": \"2020-04-04\", \"region\": \"Valpara\\u00edso\", \"fallecidos\": 1, \"codigo region\": 5}, {\"date\": \"2020-04-04\", \"region\": \"Metropolitana\", \"fallecidos\": 9, \"codigo region\": 6}, {\"date\": \"2020-04-04\", \"region\": \"O\\u2019Higgins\", \"fallecidos\": 0, \"codigo region\": 7}, {\"date\": \"2020-04-04\", \"region\": \"Maule\", \"fallecidos\": 1, \"codigo region\": 8}, {\"date\": \"2020-04-04\", \"region\": \"\\u00d1uble\", \"fallecidos\": 2, \"codigo region\": 9}, {\"date\": \"2020-04-04\", \"region\": \"Biob\\u00edo\", \"fallecidos\": 2, \"codigo region\": 10}, {\"date\": \"2020-04-04\", \"region\": \"Araucan\\u00eda\", \"fallecidos\": 9, \"codigo region\": 11}, {\"date\": \"2020-04-04\", \"region\": \"Los R\\u00edos\", \"fallecidos\": 1, \"codigo region\": 12}, {\"date\": \"2020-04-04\", \"region\": \"Los Lagos\", \"fallecidos\": 0, \"codigo region\": 13}, {\"date\": \"2020-04-04\", \"region\": \"Ays\\u00e9n\", \"fallecidos\": 0, \"codigo region\": 14}, {\"date\": \"2020-04-04\", \"region\": \"Magallanes\", \"fallecidos\": 2, \"codigo region\": 15}, {\"date\": \"2020-04-05\", \"region\": \"Arica y Parinacota\", \"fallecidos\": 0, \"codigo region\": 0}, {\"date\": \"2020-04-05\", \"region\": \"Tarapac\\u00e1\", \"fallecidos\": 0, \"codigo region\": 1}, {\"date\": \"2020-04-05\", \"region\": \"Antofagasta\", \"fallecidos\": 0, \"codigo region\": 2}, {\"date\": \"2020-04-05\", \"region\": \"Atacama\", \"fallecidos\": 0, \"codigo region\": 3}, {\"date\": \"2020-04-05\", \"region\": \"Coquimbo\", \"fallecidos\": 0, \"codigo region\": 4}, {\"date\": \"2020-04-05\", \"region\": \"Valpara\\u00edso\", \"fallecidos\": 1, \"codigo region\": 5}, {\"date\": \"2020-04-05\", \"region\": \"Metropolitana\", \"fallecidos\": 10, \"codigo region\": 6}, {\"date\": \"2020-04-05\", \"region\": \"O\\u2019Higgins\", \"fallecidos\": 0, \"codigo region\": 7}, {\"date\": \"2020-04-05\", \"region\": \"Maule\", \"fallecidos\": 1, \"codigo region\": 8}, {\"date\": \"2020-04-05\", \"region\": \"\\u00d1uble\", \"fallecidos\": 3, \"codigo region\": 9}, {\"date\": \"2020-04-05\", \"region\": \"Biob\\u00edo\", \"fallecidos\": 2, \"codigo region\": 10}, {\"date\": \"2020-04-05\", \"region\": \"Araucan\\u00eda\", \"fallecidos\": 13, \"codigo region\": 11}, {\"date\": \"2020-04-05\", \"region\": \"Los R\\u00edos\", \"fallecidos\": 1, \"codigo region\": 12}, {\"date\": \"2020-04-05\", \"region\": \"Los Lagos\", \"fallecidos\": 1, \"codigo region\": 13}, {\"date\": \"2020-04-05\", \"region\": \"Ays\\u00e9n\", \"fallecidos\": 0, \"codigo region\": 14}, {\"date\": \"2020-04-05\", \"region\": \"Magallanes\", \"fallecidos\": 2, \"codigo region\": 15}, {\"date\": \"2020-04-06\", \"region\": \"Arica y Parinacota\", \"fallecidos\": 0, \"codigo region\": 0}, {\"date\": \"2020-04-06\", \"region\": \"Tarapac\\u00e1\", \"fallecidos\": 0, \"codigo region\": 1}, {\"date\": \"2020-04-06\", \"region\": \"Antofagasta\", \"fallecidos\": 0, \"codigo region\": 2}, {\"date\": \"2020-04-06\", \"region\": \"Atacama\", \"fallecidos\": 0, \"codigo region\": 3}, {\"date\": \"2020-04-06\", \"region\": \"Coquimbo\", \"fallecidos\": 0, \"codigo region\": 4}, {\"date\": \"2020-04-06\", \"region\": \"Valpara\\u00edso\", \"fallecidos\": 1, \"codigo region\": 5}, {\"date\": \"2020-04-06\", \"region\": \"Metropolitana\", \"fallecidos\": 10, \"codigo region\": 6}, {\"date\": \"2020-04-06\", \"region\": \"O\\u2019Higgins\", \"fallecidos\": 0, \"codigo region\": 7}, {\"date\": \"2020-04-06\", \"region\": \"Maule\", \"fallecidos\": 1, \"codigo region\": 8}, {\"date\": \"2020-04-06\", \"region\": \"\\u00d1uble\", \"fallecidos\": 4, \"codigo region\": 9}, {\"date\": \"2020-04-06\", \"region\": \"Biob\\u00edo\", \"fallecidos\": 2, \"codigo region\": 10}, {\"date\": \"2020-04-06\", \"region\": \"Araucan\\u00eda\", \"fallecidos\": 14, \"codigo region\": 11}, {\"date\": \"2020-04-06\", \"region\": \"Los R\\u00edos\", \"fallecidos\": 1, \"codigo region\": 12}, {\"date\": \"2020-04-06\", \"region\": \"Los Lagos\", \"fallecidos\": 2, \"codigo region\": 13}, {\"date\": \"2020-04-06\", \"region\": \"Ays\\u00e9n\", \"fallecidos\": 0, \"codigo region\": 14}, {\"date\": \"2020-04-06\", \"region\": \"Magallanes\", \"fallecidos\": 2, \"codigo region\": 15}, {\"date\": \"2020-04-07\", \"region\": \"Arica y Parinacota\", \"fallecidos\": 0, \"codigo region\": 0}, {\"date\": \"2020-04-07\", \"region\": \"Tarapac\\u00e1\", \"fallecidos\": 0, \"codigo region\": 1}, {\"date\": \"2020-04-07\", \"region\": \"Antofagasta\", \"fallecidos\": 1, \"codigo region\": 2}, {\"date\": \"2020-04-07\", \"region\": \"Atacama\", \"fallecidos\": 0, \"codigo region\": 3}, {\"date\": \"2020-04-07\", \"region\": \"Coquimbo\", \"fallecidos\": 0, \"codigo region\": 4}, {\"date\": \"2020-04-07\", \"region\": \"Valpara\\u00edso\", \"fallecidos\": 1, \"codigo region\": 5}, {\"date\": \"2020-04-07\", \"region\": \"Metropolitana\", \"fallecidos\": 12, \"codigo region\": 6}, {\"date\": \"2020-04-07\", \"region\": \"O\\u2019Higgins\", \"fallecidos\": 0, \"codigo region\": 7}, {\"date\": \"2020-04-07\", \"region\": \"Maule\", \"fallecidos\": 2, \"codigo region\": 8}, {\"date\": \"2020-04-07\", \"region\": \"\\u00d1uble\", \"fallecidos\": 5, \"codigo region\": 9}, {\"date\": \"2020-04-07\", \"region\": \"Biob\\u00edo\", \"fallecidos\": 2, \"codigo region\": 10}, {\"date\": \"2020-04-07\", \"region\": \"Araucan\\u00eda\", \"fallecidos\": 14, \"codigo region\": 11}, {\"date\": \"2020-04-07\", \"region\": \"Los R\\u00edos\", \"fallecidos\": 2, \"codigo region\": 12}, {\"date\": \"2020-04-07\", \"region\": \"Los Lagos\", \"fallecidos\": 2, \"codigo region\": 13}, {\"date\": \"2020-04-07\", \"region\": \"Ays\\u00e9n\", \"fallecidos\": 0, \"codigo region\": 14}, {\"date\": \"2020-04-07\", \"region\": \"Magallanes\", \"fallecidos\": 2, \"codigo region\": 15}, {\"date\": \"2020-04-08\", \"region\": \"Arica y Parinacota\", \"fallecidos\": 0, \"codigo region\": 0}, {\"date\": \"2020-04-08\", \"region\": \"Tarapac\\u00e1\", \"fallecidos\": 0, \"codigo region\": 1}, {\"date\": \"2020-04-08\", \"region\": \"Antofagasta\", \"fallecidos\": 1, \"codigo region\": 2}, {\"date\": \"2020-04-08\", \"region\": \"Atacama\", \"fallecidos\": 0, \"codigo region\": 3}, {\"date\": \"2020-04-08\", \"region\": \"Coquimbo\", \"fallecidos\": 0, \"codigo region\": 4}, {\"date\": \"2020-04-08\", \"region\": \"Valpara\\u00edso\", \"fallecidos\": 2, \"codigo region\": 5}, {\"date\": \"2020-04-08\", \"region\": \"Metropolitana\", \"fallecidos\": 14, \"codigo region\": 6}, {\"date\": \"2020-04-08\", \"region\": \"O\\u2019Higgins\", \"fallecidos\": 0, \"codigo region\": 7}, {\"date\": \"2020-04-08\", \"region\": \"Maule\", \"fallecidos\": 2, \"codigo region\": 8}, {\"date\": \"2020-04-08\", \"region\": \"\\u00d1uble\", \"fallecidos\": 5, \"codigo region\": 9}, {\"date\": \"2020-04-08\", \"region\": \"Biob\\u00edo\", \"fallecidos\": 2, \"codigo region\": 10}, {\"date\": \"2020-04-08\", \"region\": \"Araucan\\u00eda\", \"fallecidos\": 15, \"codigo region\": 11}, {\"date\": \"2020-04-08\", \"region\": \"Los R\\u00edos\", \"fallecidos\": 2, \"codigo region\": 12}, {\"date\": \"2020-04-08\", \"region\": \"Los Lagos\", \"fallecidos\": 2, \"codigo region\": 13}, {\"date\": \"2020-04-08\", \"region\": \"Ays\\u00e9n\", \"fallecidos\": 0, \"codigo region\": 14}, {\"date\": \"2020-04-08\", \"region\": \"Magallanes\", \"fallecidos\": 3, \"codigo region\": 15}, {\"date\": \"2020-04-09\", \"region\": \"Arica y Parinacota\", \"fallecidos\": 0, \"codigo region\": 0}, {\"date\": \"2020-04-09\", \"region\": \"Tarapac\\u00e1\", \"fallecidos\": 0, \"codigo region\": 1}, {\"date\": \"2020-04-09\", \"region\": \"Antofagasta\", \"fallecidos\": 1, \"codigo region\": 2}, {\"date\": \"2020-04-09\", \"region\": \"Atacama\", \"fallecidos\": 0, \"codigo region\": 3}, {\"date\": \"2020-04-09\", \"region\": \"Coquimbo\", \"fallecidos\": 0, \"codigo region\": 4}, {\"date\": \"2020-04-09\", \"region\": \"Valpara\\u00edso\", \"fallecidos\": 2, \"codigo region\": 5}, {\"date\": \"2020-04-09\", \"region\": \"Metropolitana\", \"fallecidos\": 21, \"codigo region\": 6}, {\"date\": \"2020-04-09\", \"region\": \"O\\u2019Higgins\", \"fallecidos\": 0, \"codigo region\": 7}, {\"date\": \"2020-04-09\", \"region\": \"Maule\", \"fallecidos\": 2, \"codigo region\": 8}, {\"date\": \"2020-04-09\", \"region\": \"\\u00d1uble\", \"fallecidos\": 6, \"codigo region\": 9}, {\"date\": \"2020-04-09\", \"region\": \"Biob\\u00edo\", \"fallecidos\": 2, \"codigo region\": 10}, {\"date\": \"2020-04-09\", \"region\": \"Araucan\\u00eda\", \"fallecidos\": 16, \"codigo region\": 11}, {\"date\": \"2020-04-09\", \"region\": \"Los R\\u00edos\", \"fallecidos\": 2, \"codigo region\": 12}, {\"date\": \"2020-04-09\", \"region\": \"Los Lagos\", \"fallecidos\": 2, \"codigo region\": 13}, {\"date\": \"2020-04-09\", \"region\": \"Ays\\u00e9n\", \"fallecidos\": 0, \"codigo region\": 14}, {\"date\": \"2020-04-09\", \"region\": \"Magallanes\", \"fallecidos\": 3, \"codigo region\": 15}, {\"date\": \"2020-04-10\", \"region\": \"Arica y Parinacota\", \"fallecidos\": 0, \"codigo region\": 0}, {\"date\": \"2020-04-10\", \"region\": \"Tarapac\\u00e1\", \"fallecidos\": 0, \"codigo region\": 1}, {\"date\": \"2020-04-10\", \"region\": \"Antofagasta\", \"fallecidos\": 1, \"codigo region\": 2}, {\"date\": \"2020-04-10\", \"region\": \"Atacama\", \"fallecidos\": 0, \"codigo region\": 3}, {\"date\": \"2020-04-10\", \"region\": \"Coquimbo\", \"fallecidos\": 0, \"codigo region\": 4}, {\"date\": \"2020-04-10\", \"region\": \"Valpara\\u00edso\", \"fallecidos\": 2, \"codigo region\": 5}, {\"date\": \"2020-04-10\", \"region\": \"Metropolitana\", \"fallecidos\": 29, \"codigo region\": 6}, {\"date\": \"2020-04-10\", \"region\": \"O\\u2019Higgins\", \"fallecidos\": 0, \"codigo region\": 7}, {\"date\": \"2020-04-10\", \"region\": \"Maule\", \"fallecidos\": 2, \"codigo region\": 8}, {\"date\": \"2020-04-10\", \"region\": \"\\u00d1uble\", \"fallecidos\": 6, \"codigo region\": 9}, {\"date\": \"2020-04-10\", \"region\": \"Biob\\u00edo\", \"fallecidos\": 2, \"codigo region\": 10}, {\"date\": \"2020-04-10\", \"region\": \"Araucan\\u00eda\", \"fallecidos\": 16, \"codigo region\": 11}, {\"date\": \"2020-04-10\", \"region\": \"Los R\\u00edos\", \"fallecidos\": 2, \"codigo region\": 12}, {\"date\": \"2020-04-10\", \"region\": \"Los Lagos\", \"fallecidos\": 2, \"codigo region\": 13}, {\"date\": \"2020-04-10\", \"region\": \"Ays\\u00e9n\", \"fallecidos\": 0, \"codigo region\": 14}, {\"date\": \"2020-04-10\", \"region\": \"Magallanes\", \"fallecidos\": 3, \"codigo region\": 15}, {\"date\": \"2020-04-11\", \"region\": \"Arica y Parinacota\", \"fallecidos\": 0, \"codigo region\": 0}, {\"date\": \"2020-04-11\", \"region\": \"Tarapac\\u00e1\", \"fallecidos\": 0, \"codigo region\": 1}, {\"date\": \"2020-04-11\", \"region\": \"Antofagasta\", \"fallecidos\": 1, \"codigo region\": 2}, {\"date\": \"2020-04-11\", \"region\": \"Atacama\", \"fallecidos\": 0, \"codigo region\": 3}, {\"date\": \"2020-04-11\", \"region\": \"Coquimbo\", \"fallecidos\": 0, \"codigo region\": 4}, {\"date\": \"2020-04-11\", \"region\": \"Valpara\\u00edso\", \"fallecidos\": 2, \"codigo region\": 5}, {\"date\": \"2020-04-11\", \"region\": \"Metropolitana\", \"fallecidos\": 32, \"codigo region\": 6}, {\"date\": \"2020-04-11\", \"region\": \"O\\u2019Higgins\", \"fallecidos\": 0, \"codigo region\": 7}, {\"date\": \"2020-04-11\", \"region\": \"Maule\", \"fallecidos\": 3, \"codigo region\": 8}, {\"date\": \"2020-04-11\", \"region\": \"\\u00d1uble\", \"fallecidos\": 6, \"codigo region\": 9}, {\"date\": \"2020-04-11\", \"region\": \"Biob\\u00edo\", \"fallecidos\": 2, \"codigo region\": 10}, {\"date\": \"2020-04-11\", \"region\": \"Araucan\\u00eda\", \"fallecidos\": 17, \"codigo region\": 11}, {\"date\": \"2020-04-11\", \"region\": \"Los R\\u00edos\", \"fallecidos\": 2, \"codigo region\": 12}, {\"date\": \"2020-04-11\", \"region\": \"Los Lagos\", \"fallecidos\": 5, \"codigo region\": 13}, {\"date\": \"2020-04-11\", \"region\": \"Ays\\u00e9n\", \"fallecidos\": 0, \"codigo region\": 14}, {\"date\": \"2020-04-11\", \"region\": \"Magallanes\", \"fallecidos\": 3, \"codigo region\": 15}, {\"date\": \"2020-04-12\", \"region\": \"Arica y Parinacota\", \"fallecidos\": 1, \"codigo region\": 0}, {\"date\": \"2020-04-12\", \"region\": \"Tarapac\\u00e1\", \"fallecidos\": 0, \"codigo region\": 1}, {\"date\": \"2020-04-12\", \"region\": \"Antofagasta\", \"fallecidos\": 1, \"codigo region\": 2}, {\"date\": \"2020-04-12\", \"region\": \"Atacama\", \"fallecidos\": 0, \"codigo region\": 3}, {\"date\": \"2020-04-12\", \"region\": \"Coquimbo\", \"fallecidos\": 0, \"codigo region\": 4}, {\"date\": \"2020-04-12\", \"region\": \"Valpara\\u00edso\", \"fallecidos\": 2, \"codigo region\": 5}, {\"date\": \"2020-04-12\", \"region\": \"Metropolitana\", \"fallecidos\": 35, \"codigo region\": 6}, {\"date\": \"2020-04-12\", \"region\": \"O\\u2019Higgins\", \"fallecidos\": 0, \"codigo region\": 7}, {\"date\": \"2020-04-12\", \"region\": \"Maule\", \"fallecidos\": 3, \"codigo region\": 8}, {\"date\": \"2020-04-12\", \"region\": \"\\u00d1uble\", \"fallecidos\": 7, \"codigo region\": 9}, {\"date\": \"2020-04-12\", \"region\": \"Biob\\u00edo\", \"fallecidos\": 2, \"codigo region\": 10}, {\"date\": \"2020-04-12\", \"region\": \"Araucan\\u00eda\", \"fallecidos\": 17, \"codigo region\": 11}, {\"date\": \"2020-04-12\", \"region\": \"Los R\\u00edos\", \"fallecidos\": 3, \"codigo region\": 12}, {\"date\": \"2020-04-12\", \"region\": \"Los Lagos\", \"fallecidos\": 5, \"codigo region\": 13}, {\"date\": \"2020-04-12\", \"region\": \"Ays\\u00e9n\", \"fallecidos\": 0, \"codigo region\": 14}, {\"date\": \"2020-04-12\", \"region\": \"Magallanes\", \"fallecidos\": 4, \"codigo region\": 15}, {\"date\": \"2020-04-13\", \"region\": \"Arica y Parinacota\", \"fallecidos\": 1, \"codigo region\": 0}, {\"date\": \"2020-04-13\", \"region\": \"Tarapac\\u00e1\", \"fallecidos\": 0, \"codigo region\": 1}, {\"date\": \"2020-04-13\", \"region\": \"Antofagasta\", \"fallecidos\": 1, \"codigo region\": 2}, {\"date\": \"2020-04-13\", \"region\": \"Atacama\", \"fallecidos\": 0, \"codigo region\": 3}, {\"date\": \"2020-04-13\", \"region\": \"Coquimbo\", \"fallecidos\": 0, \"codigo region\": 4}, {\"date\": \"2020-04-13\", \"region\": \"Valpara\\u00edso\", \"fallecidos\": 2, \"codigo region\": 5}, {\"date\": \"2020-04-13\", \"region\": \"Metropolitana\", \"fallecidos\": 36, \"codigo region\": 6}, {\"date\": \"2020-04-13\", \"region\": \"O\\u2019Higgins\", \"fallecidos\": 0, \"codigo region\": 7}, {\"date\": \"2020-04-13\", \"region\": \"Maule\", \"fallecidos\": 3, \"codigo region\": 8}, {\"date\": \"2020-04-13\", \"region\": \"\\u00d1uble\", \"fallecidos\": 7, \"codigo region\": 9}, {\"date\": \"2020-04-13\", \"region\": \"Biob\\u00edo\", \"fallecidos\": 2, \"codigo region\": 10}, {\"date\": \"2020-04-13\", \"region\": \"Araucan\\u00eda\", \"fallecidos\": 17, \"codigo region\": 11}, {\"date\": \"2020-04-13\", \"region\": \"Los R\\u00edos\", \"fallecidos\": 3, \"codigo region\": 12}, {\"date\": \"2020-04-13\", \"region\": \"Los Lagos\", \"fallecidos\": 5, \"codigo region\": 13}, {\"date\": \"2020-04-13\", \"region\": \"Ays\\u00e9n\", \"fallecidos\": 0, \"codigo region\": 14}, {\"date\": \"2020-04-13\", \"region\": \"Magallanes\", \"fallecidos\": 5, \"codigo region\": 15}, {\"date\": \"2020-04-14\", \"region\": \"Arica y Parinacota\", \"fallecidos\": 1, \"codigo region\": 0}, {\"date\": \"2020-04-14\", \"region\": \"Tarapac\\u00e1\", \"fallecidos\": 0, \"codigo region\": 1}, {\"date\": \"2020-04-14\", \"region\": \"Antofagasta\", \"fallecidos\": 1, \"codigo region\": 2}, {\"date\": \"2020-04-14\", \"region\": \"Atacama\", \"fallecidos\": 0, \"codigo region\": 3}, {\"date\": \"2020-04-14\", \"region\": \"Coquimbo\", \"fallecidos\": 0, \"codigo region\": 4}, {\"date\": \"2020-04-14\", \"region\": \"Valpara\\u00edso\", \"fallecidos\": 2, \"codigo region\": 5}, {\"date\": \"2020-04-14\", \"region\": \"Metropolitana\", \"fallecidos\": 40, \"codigo region\": 6}, {\"date\": \"2020-04-14\", \"region\": \"O\\u2019Higgins\", \"fallecidos\": 0, \"codigo region\": 7}, {\"date\": \"2020-04-14\", \"region\": \"Maule\", \"fallecidos\": 4, \"codigo region\": 8}, {\"date\": \"2020-04-14\", \"region\": \"\\u00d1uble\", \"fallecidos\": 8, \"codigo region\": 9}, {\"date\": \"2020-04-14\", \"region\": \"Biob\\u00edo\", \"fallecidos\": 2, \"codigo region\": 10}, {\"date\": \"2020-04-14\", \"region\": \"Araucan\\u00eda\", \"fallecidos\": 20, \"codigo region\": 11}, {\"date\": \"2020-04-14\", \"region\": \"Los R\\u00edos\", \"fallecidos\": 3, \"codigo region\": 12}, {\"date\": \"2020-04-14\", \"region\": \"Los Lagos\", \"fallecidos\": 5, \"codigo region\": 13}, {\"date\": \"2020-04-14\", \"region\": \"Ays\\u00e9n\", \"fallecidos\": 0, \"codigo region\": 14}, {\"date\": \"2020-04-14\", \"region\": \"Magallanes\", \"fallecidos\": 6, \"codigo region\": 15}, {\"date\": \"2020-04-15\", \"region\": \"Arica y Parinacota\", \"fallecidos\": 1, \"codigo region\": 0}, {\"date\": \"2020-04-15\", \"region\": \"Tarapac\\u00e1\", \"fallecidos\": 0, \"codigo region\": 1}, {\"date\": \"2020-04-15\", \"region\": \"Antofagasta\", \"fallecidos\": 1, \"codigo region\": 2}, {\"date\": \"2020-04-15\", \"region\": \"Atacama\", \"fallecidos\": 0, \"codigo region\": 3}, {\"date\": \"2020-04-15\", \"region\": \"Coquimbo\", \"fallecidos\": 0, \"codigo region\": 4}, {\"date\": \"2020-04-15\", \"region\": \"Valpara\\u00edso\", \"fallecidos\": 2, \"codigo region\": 5}, {\"date\": \"2020-04-15\", \"region\": \"Metropolitana\", \"fallecidos\": 41, \"codigo region\": 6}, {\"date\": \"2020-04-15\", \"region\": \"O\\u2019Higgins\", \"fallecidos\": 0, \"codigo region\": 7}, {\"date\": \"2020-04-15\", \"region\": \"Maule\", \"fallecidos\": 4, \"codigo region\": 8}, {\"date\": \"2020-04-15\", \"region\": \"\\u00d1uble\", \"fallecidos\": 8, \"codigo region\": 9}, {\"date\": \"2020-04-15\", \"region\": \"Biob\\u00edo\", \"fallecidos\": 2, \"codigo region\": 10}, {\"date\": \"2020-04-15\", \"region\": \"Araucan\\u00eda\", \"fallecidos\": 21, \"codigo region\": 11}, {\"date\": \"2020-04-15\", \"region\": \"Los R\\u00edos\", \"fallecidos\": 3, \"codigo region\": 12}, {\"date\": \"2020-04-15\", \"region\": \"Los Lagos\", \"fallecidos\": 5, \"codigo region\": 13}, {\"date\": \"2020-04-15\", \"region\": \"Ays\\u00e9n\", \"fallecidos\": 0, \"codigo region\": 14}, {\"date\": \"2020-04-15\", \"region\": \"Magallanes\", \"fallecidos\": 6, \"codigo region\": 15}, {\"date\": \"2020-04-16\", \"region\": \"Arica y Parinacota\", \"fallecidos\": 1, \"codigo region\": 0}, {\"date\": \"2020-04-16\", \"region\": \"Tarapac\\u00e1\", \"fallecidos\": 0, \"codigo region\": 1}, {\"date\": \"2020-04-16\", \"region\": \"Antofagasta\", \"fallecidos\": 1, \"codigo region\": 2}, {\"date\": \"2020-04-16\", \"region\": \"Atacama\", \"fallecidos\": 0, \"codigo region\": 3}, {\"date\": \"2020-04-16\", \"region\": \"Coquimbo\", \"fallecidos\": 0, \"codigo region\": 4}, {\"date\": \"2020-04-16\", \"region\": \"Valpara\\u00edso\", \"fallecidos\": 4, \"codigo region\": 5}, {\"date\": \"2020-04-16\", \"region\": \"Metropolitana\", \"fallecidos\": 48, \"codigo region\": 6}, {\"date\": \"2020-04-16\", \"region\": \"O\\u2019Higgins\", \"fallecidos\": 0, \"codigo region\": 7}, {\"date\": \"2020-04-16\", \"region\": \"Maule\", \"fallecidos\": 4, \"codigo region\": 8}, {\"date\": \"2020-04-16\", \"region\": \"\\u00d1uble\", \"fallecidos\": 10, \"codigo region\": 9}, {\"date\": \"2020-04-16\", \"region\": \"Biob\\u00edo\", \"fallecidos\": 2, \"codigo region\": 10}, {\"date\": \"2020-04-16\", \"region\": \"Araucan\\u00eda\", \"fallecidos\": 21, \"codigo region\": 11}, {\"date\": \"2020-04-16\", \"region\": \"Los R\\u00edos\", \"fallecidos\": 3, \"codigo region\": 12}, {\"date\": \"2020-04-16\", \"region\": \"Los Lagos\", \"fallecidos\": 5, \"codigo region\": 13}, {\"date\": \"2020-04-16\", \"region\": \"Ays\\u00e9n\", \"fallecidos\": 0, \"codigo region\": 14}, {\"date\": \"2020-04-16\", \"region\": \"Magallanes\", \"fallecidos\": 6, \"codigo region\": 15}, {\"date\": \"2020-04-17\", \"region\": \"Arica y Parinacota\", \"fallecidos\": 2, \"codigo region\": 0}, {\"date\": \"2020-04-17\", \"region\": \"Tarapac\\u00e1\", \"fallecidos\": 0, \"codigo region\": 1}, {\"date\": \"2020-04-17\", \"region\": \"Antofagasta\", \"fallecidos\": 1, \"codigo region\": 2}, {\"date\": \"2020-04-17\", \"region\": \"Atacama\", \"fallecidos\": 0, \"codigo region\": 3}, {\"date\": \"2020-04-17\", \"region\": \"Coquimbo\", \"fallecidos\": 0, \"codigo region\": 4}, {\"date\": \"2020-04-17\", \"region\": \"Valpara\\u00edso\", \"fallecidos\": 4, \"codigo region\": 5}, {\"date\": \"2020-04-17\", \"region\": \"Metropolitana\", \"fallecidos\": 51, \"codigo region\": 6}, {\"date\": \"2020-04-17\", \"region\": \"O\\u2019Higgins\", \"fallecidos\": 0, \"codigo region\": 7}, {\"date\": \"2020-04-17\", \"region\": \"Maule\", \"fallecidos\": 7, \"codigo region\": 8}, {\"date\": \"2020-04-17\", \"region\": \"\\u00d1uble\", \"fallecidos\": 11, \"codigo region\": 9}, {\"date\": \"2020-04-17\", \"region\": \"Biob\\u00edo\", \"fallecidos\": 3, \"codigo region\": 10}, {\"date\": \"2020-04-17\", \"region\": \"Araucan\\u00eda\", \"fallecidos\": 22, \"codigo region\": 11}, {\"date\": \"2020-04-17\", \"region\": \"Los R\\u00edos\", \"fallecidos\": 3, \"codigo region\": 12}, {\"date\": \"2020-04-17\", \"region\": \"Los Lagos\", \"fallecidos\": 6, \"codigo region\": 13}, {\"date\": \"2020-04-17\", \"region\": \"Ays\\u00e9n\", \"fallecidos\": 0, \"codigo region\": 14}, {\"date\": \"2020-04-17\", \"region\": \"Magallanes\", \"fallecidos\": 6, \"codigo region\": 15}, {\"date\": \"2020-04-18\", \"region\": \"Arica y Parinacota\", \"fallecidos\": 2, \"codigo region\": 0}, {\"date\": \"2020-04-18\", \"region\": \"Tarapac\\u00e1\", \"fallecidos\": 0, \"codigo region\": 1}, {\"date\": \"2020-04-18\", \"region\": \"Antofagasta\", \"fallecidos\": 1, \"codigo region\": 2}, {\"date\": \"2020-04-18\", \"region\": \"Atacama\", \"fallecidos\": 0, \"codigo region\": 3}, {\"date\": \"2020-04-18\", \"region\": \"Coquimbo\", \"fallecidos\": 0, \"codigo region\": 4}, {\"date\": \"2020-04-18\", \"region\": \"Valpara\\u00edso\", \"fallecidos\": 4, \"codigo region\": 5}, {\"date\": \"2020-04-18\", \"region\": \"Metropolitana\", \"fallecidos\": 58, \"codigo region\": 6}, {\"date\": \"2020-04-18\", \"region\": \"O\\u2019Higgins\", \"fallecidos\": 0, \"codigo region\": 7}, {\"date\": \"2020-04-18\", \"region\": \"Maule\", \"fallecidos\": 8, \"codigo region\": 8}, {\"date\": \"2020-04-18\", \"region\": \"\\u00d1uble\", \"fallecidos\": 12, \"codigo region\": 9}, {\"date\": \"2020-04-18\", \"region\": \"Biob\\u00edo\", \"fallecidos\": 3, \"codigo region\": 10}, {\"date\": \"2020-04-18\", \"region\": \"Araucan\\u00eda\", \"fallecidos\": 23, \"codigo region\": 11}, {\"date\": \"2020-04-18\", \"region\": \"Los R\\u00edos\", \"fallecidos\": 3, \"codigo region\": 12}, {\"date\": \"2020-04-18\", \"region\": \"Los Lagos\", \"fallecidos\": 6, \"codigo region\": 13}, {\"date\": \"2020-04-18\", \"region\": \"Ays\\u00e9n\", \"fallecidos\": 0, \"codigo region\": 14}, {\"date\": \"2020-04-18\", \"region\": \"Magallanes\", \"fallecidos\": 6, \"codigo region\": 15}, {\"date\": \"2020-04-19\", \"region\": \"Arica y Parinacota\", \"fallecidos\": 2, \"codigo region\": 0}, {\"date\": \"2020-04-19\", \"region\": \"Tarapac\\u00e1\", \"fallecidos\": 0, \"codigo region\": 1}, {\"date\": \"2020-04-19\", \"region\": \"Antofagasta\", \"fallecidos\": 1, \"codigo region\": 2}, {\"date\": \"2020-04-19\", \"region\": \"Atacama\", \"fallecidos\": 0, \"codigo region\": 3}, {\"date\": \"2020-04-19\", \"region\": \"Coquimbo\", \"fallecidos\": 0, \"codigo region\": 4}, {\"date\": \"2020-04-19\", \"region\": \"Valpara\\u00edso\", \"fallecidos\": 5, \"codigo region\": 5}, {\"date\": \"2020-04-19\", \"region\": \"Metropolitana\", \"fallecidos\": 63, \"codigo region\": 6}, {\"date\": \"2020-04-19\", \"region\": \"O\\u2019Higgins\", \"fallecidos\": 0, \"codigo region\": 7}, {\"date\": \"2020-04-19\", \"region\": \"Maule\", \"fallecidos\": 8, \"codigo region\": 8}, {\"date\": \"2020-04-19\", \"region\": \"\\u00d1uble\", \"fallecidos\": 13, \"codigo region\": 9}, {\"date\": \"2020-04-19\", \"region\": \"Biob\\u00edo\", \"fallecidos\": 3, \"codigo region\": 10}, {\"date\": \"2020-04-19\", \"region\": \"Araucan\\u00eda\", \"fallecidos\": 23, \"codigo region\": 11}, {\"date\": \"2020-04-19\", \"region\": \"Los R\\u00edos\", \"fallecidos\": 3, \"codigo region\": 12}, {\"date\": \"2020-04-19\", \"region\": \"Los Lagos\", \"fallecidos\": 6, \"codigo region\": 13}, {\"date\": \"2020-04-19\", \"region\": \"Ays\\u00e9n\", \"fallecidos\": 0, \"codigo region\": 14}, {\"date\": \"2020-04-19\", \"region\": \"Magallanes\", \"fallecidos\": 6, \"codigo region\": 15}, {\"date\": \"2020-04-20\", \"region\": \"Arica y Parinacota\", \"fallecidos\": 2, \"codigo region\": 0}, {\"date\": \"2020-04-20\", \"region\": \"Tarapac\\u00e1\", \"fallecidos\": 0, \"codigo region\": 1}, {\"date\": \"2020-04-20\", \"region\": \"Antofagasta\", \"fallecidos\": 1, \"codigo region\": 2}, {\"date\": \"2020-04-20\", \"region\": \"Atacama\", \"fallecidos\": 0, \"codigo region\": 3}, {\"date\": \"2020-04-20\", \"region\": \"Coquimbo\", \"fallecidos\": 0, \"codigo region\": 4}, {\"date\": \"2020-04-20\", \"region\": \"Valpara\\u00edso\", \"fallecidos\": 5, \"codigo region\": 5}, {\"date\": \"2020-04-20\", \"region\": \"Metropolitana\", \"fallecidos\": 67, \"codigo region\": 6}, {\"date\": \"2020-04-20\", \"region\": \"O\\u2019Higgins\", \"fallecidos\": 0, \"codigo region\": 7}, {\"date\": \"2020-04-20\", \"region\": \"Maule\", \"fallecidos\": 10, \"codigo region\": 8}, {\"date\": \"2020-04-20\", \"region\": \"\\u00d1uble\", \"fallecidos\": 13, \"codigo region\": 9}, {\"date\": \"2020-04-20\", \"region\": \"Biob\\u00edo\", \"fallecidos\": 3, \"codigo region\": 10}, {\"date\": \"2020-04-20\", \"region\": \"Araucan\\u00eda\", \"fallecidos\": 23, \"codigo region\": 11}, {\"date\": \"2020-04-20\", \"region\": \"Los R\\u00edos\", \"fallecidos\": 3, \"codigo region\": 12}, {\"date\": \"2020-04-20\", \"region\": \"Los Lagos\", \"fallecidos\": 6, \"codigo region\": 13}, {\"date\": \"2020-04-20\", \"region\": \"Ays\\u00e9n\", \"fallecidos\": 0, \"codigo region\": 14}, {\"date\": \"2020-04-20\", \"region\": \"Magallanes\", \"fallecidos\": 6, \"codigo region\": 15}, {\"date\": \"2020-04-21\", \"region\": \"Arica y Parinacota\", \"fallecidos\": 2, \"codigo region\": 0}, {\"date\": \"2020-04-21\", \"region\": \"Tarapac\\u00e1\", \"fallecidos\": 0, \"codigo region\": 1}, {\"date\": \"2020-04-21\", \"region\": \"Antofagasta\", \"fallecidos\": 1, \"codigo region\": 2}, {\"date\": \"2020-04-21\", \"region\": \"Atacama\", \"fallecidos\": 0, \"codigo region\": 3}, {\"date\": \"2020-04-21\", \"region\": \"Coquimbo\", \"fallecidos\": 0, \"codigo region\": 4}, {\"date\": \"2020-04-21\", \"region\": \"Valpara\\u00edso\", \"fallecidos\": 6, \"codigo region\": 5}, {\"date\": \"2020-04-21\", \"region\": \"Metropolitana\", \"fallecidos\": 69, \"codigo region\": 6}, {\"date\": \"2020-04-21\", \"region\": \"O\\u2019Higgins\", \"fallecidos\": 1, \"codigo region\": 7}, {\"date\": \"2020-04-21\", \"region\": \"Maule\", \"fallecidos\": 10, \"codigo region\": 8}, {\"date\": \"2020-04-21\", \"region\": \"\\u00d1uble\", \"fallecidos\": 13, \"codigo region\": 9}, {\"date\": \"2020-04-21\", \"region\": \"Biob\\u00edo\", \"fallecidos\": 4, \"codigo region\": 10}, {\"date\": \"2020-04-21\", \"region\": \"Araucan\\u00eda\", \"fallecidos\": 25, \"codigo region\": 11}, {\"date\": \"2020-04-21\", \"region\": \"Los R\\u00edos\", \"fallecidos\": 3, \"codigo region\": 12}, {\"date\": \"2020-04-21\", \"region\": \"Los Lagos\", \"fallecidos\": 6, \"codigo region\": 13}, {\"date\": \"2020-04-21\", \"region\": \"Ays\\u00e9n\", \"fallecidos\": 0, \"codigo region\": 14}, {\"date\": \"2020-04-21\", \"region\": \"Magallanes\", \"fallecidos\": 7, \"codigo region\": 15}, {\"date\": \"2020-04-22\", \"region\": \"Arica y Parinacota\", \"fallecidos\": 2, \"codigo region\": 0}, {\"date\": \"2020-04-22\", \"region\": \"Tarapac\\u00e1\", \"fallecidos\": 0, \"codigo region\": 1}, {\"date\": \"2020-04-22\", \"region\": \"Antofagasta\", \"fallecidos\": 2, \"codigo region\": 2}, {\"date\": \"2020-04-22\", \"region\": \"Atacama\", \"fallecidos\": 0, \"codigo region\": 3}, {\"date\": \"2020-04-22\", \"region\": \"Coquimbo\", \"fallecidos\": 0, \"codigo region\": 4}, {\"date\": \"2020-04-22\", \"region\": \"Valpara\\u00edso\", \"fallecidos\": 7, \"codigo region\": 5}, {\"date\": \"2020-04-22\", \"region\": \"Metropolitana\", \"fallecidos\": 78, \"codigo region\": 6}, {\"date\": \"2020-04-22\", \"region\": \"O\\u2019Higgins\", \"fallecidos\": 1, \"codigo region\": 7}, {\"date\": \"2020-04-22\", \"region\": \"Maule\", \"fallecidos\": 10, \"codigo region\": 8}, {\"date\": \"2020-04-22\", \"region\": \"\\u00d1uble\", \"fallecidos\": 13, \"codigo region\": 9}, {\"date\": \"2020-04-22\", \"region\": \"Biob\\u00edo\", \"fallecidos\": 5, \"codigo region\": 10}, {\"date\": \"2020-04-22\", \"region\": \"Araucan\\u00eda\", \"fallecidos\": 26, \"codigo region\": 11}, {\"date\": \"2020-04-22\", \"region\": \"Los R\\u00edos\", \"fallecidos\": 3, \"codigo region\": 12}, {\"date\": \"2020-04-22\", \"region\": \"Los Lagos\", \"fallecidos\": 6, \"codigo region\": 13}, {\"date\": \"2020-04-22\", \"region\": \"Ays\\u00e9n\", \"fallecidos\": 0, \"codigo region\": 14}, {\"date\": \"2020-04-22\", \"region\": \"Magallanes\", \"fallecidos\": 7, \"codigo region\": 15}, {\"date\": \"2020-04-23\", \"region\": \"Arica y Parinacota\", \"fallecidos\": 2, \"codigo region\": 0}, {\"date\": \"2020-04-23\", \"region\": \"Tarapac\\u00e1\", \"fallecidos\": 0, \"codigo region\": 1}, {\"date\": \"2020-04-23\", \"region\": \"Antofagasta\", \"fallecidos\": 2, \"codigo region\": 2}, {\"date\": \"2020-04-23\", \"region\": \"Atacama\", \"fallecidos\": 0, \"codigo region\": 3}, {\"date\": \"2020-04-23\", \"region\": \"Coquimbo\", \"fallecidos\": 0, \"codigo region\": 4}, {\"date\": \"2020-04-23\", \"region\": \"Valpara\\u00edso\", \"fallecidos\": 7, \"codigo region\": 5}, {\"date\": \"2020-04-23\", \"region\": \"Metropolitana\", \"fallecidos\": 85, \"codigo region\": 6}, {\"date\": \"2020-04-23\", \"region\": \"O\\u2019Higgins\", \"fallecidos\": 1, \"codigo region\": 7}, {\"date\": \"2020-04-23\", \"region\": \"Maule\", \"fallecidos\": 10, \"codigo region\": 8}, {\"date\": \"2020-04-23\", \"region\": \"\\u00d1uble\", \"fallecidos\": 13, \"codigo region\": 9}, {\"date\": \"2020-04-23\", \"region\": \"Biob\\u00edo\", \"fallecidos\": 5, \"codigo region\": 10}, {\"date\": \"2020-04-23\", \"region\": \"Araucan\\u00eda\", \"fallecidos\": 26, \"codigo region\": 11}, {\"date\": \"2020-04-23\", \"region\": \"Los R\\u00edos\", \"fallecidos\": 3, \"codigo region\": 12}, {\"date\": \"2020-04-23\", \"region\": \"Los Lagos\", \"fallecidos\": 7, \"codigo region\": 13}, {\"date\": \"2020-04-23\", \"region\": \"Ays\\u00e9n\", \"fallecidos\": 0, \"codigo region\": 14}, {\"date\": \"2020-04-23\", \"region\": \"Magallanes\", \"fallecidos\": 7, \"codigo region\": 15}, {\"date\": \"2020-04-24\", \"region\": \"Arica y Parinacota\", \"fallecidos\": 3, \"codigo region\": 0}, {\"date\": \"2020-04-24\", \"region\": \"Tarapac\\u00e1\", \"fallecidos\": 0, \"codigo region\": 1}, {\"date\": \"2020-04-24\", \"region\": \"Antofagasta\", \"fallecidos\": 2, \"codigo region\": 2}, {\"date\": \"2020-04-24\", \"region\": \"Atacama\", \"fallecidos\": 0, \"codigo region\": 3}, {\"date\": \"2020-04-24\", \"region\": \"Coquimbo\", \"fallecidos\": 0, \"codigo region\": 4}, {\"date\": \"2020-04-24\", \"region\": \"Valpara\\u00edso\", \"fallecidos\": 8, \"codigo region\": 5}, {\"date\": \"2020-04-24\", \"region\": \"Metropolitana\", \"fallecidos\": 86, \"codigo region\": 6}, {\"date\": \"2020-04-24\", \"region\": \"O\\u2019Higgins\", \"fallecidos\": 1, \"codigo region\": 7}, {\"date\": \"2020-04-24\", \"region\": \"Maule\", \"fallecidos\": 10, \"codigo region\": 8}, {\"date\": \"2020-04-24\", \"region\": \"\\u00d1uble\", \"fallecidos\": 14, \"codigo region\": 9}, {\"date\": \"2020-04-24\", \"region\": \"Biob\\u00edo\", \"fallecidos\": 5, \"codigo region\": 10}, {\"date\": \"2020-04-24\", \"region\": \"Araucan\\u00eda\", \"fallecidos\": 26, \"codigo region\": 11}, {\"date\": \"2020-04-24\", \"region\": \"Los R\\u00edos\", \"fallecidos\": 3, \"codigo region\": 12}, {\"date\": \"2020-04-24\", \"region\": \"Los Lagos\", \"fallecidos\": 8, \"codigo region\": 13}, {\"date\": \"2020-04-24\", \"region\": \"Ays\\u00e9n\", \"fallecidos\": 0, \"codigo region\": 14}, {\"date\": \"2020-04-24\", \"region\": \"Magallanes\", \"fallecidos\": 8, \"codigo region\": 15}]}}, {\"mode\": \"vega-lite\"});\n",
       "</script>"
      ],
      "text/plain": [
       "alt.HConcatChart(...)"
      ]
     },
     "execution_count": 60,
     "metadata": {},
     "output_type": "execute_result"
    }
   ],
   "source": [
    "#hide_input\n",
    "input_dropdown = alt.binding_select(options=data['region'].unique())\n",
    "selection1 = alt.selection_single(fields=['region'], bind=input_dropdown, name=' ')\n",
    "selection2 = alt.selection_multi(fields=['region'], on='mouseover')\n",
    "\n",
    "color = alt.condition(selection1 | selection2,\n",
    "                    alt.Color('region:N', legend=None),\n",
    "                    alt.value('lightgray'))\n",
    "\n",
    "bars = alt.Chart(data).mark_bar().encode(\n",
    "    x=alt.X('date:O', axis=alt.Axis(title='Fecha (año-mes-día)')),\n",
    "    y=alt.Y('pacientes'),\n",
    "    color=color,\n",
    "    tooltip=['date', 'region', 'pacientes'],\n",
    "    order=alt.Order(\n",
    "    # Sort the segments of the bars by this field\n",
    "    'codigo region',\n",
    "    sort='descending'\n",
    "    )\n",
    "    ).properties(\n",
    "    title=f'COVID-19 en Chile: Pacientes en UCI por región'\n",
    ").add_selection(\n",
    "    selection1, selection2\n",
    ").transform_filter(\n",
    "    selection1\n",
    ")\n",
    "\n",
    "legend = alt.Chart(new_data).mark_point().encode(\n",
    "    y=alt.Y('region:N', axis=alt.Axis(orient='right'), sort=regiones),\n",
    "    color=color\n",
    ").add_selection(\n",
    "    selection1, selection2\n",
    ")\n",
    "\n",
    "bars.properties(width=600, height=400) | legend"
   ]
  },
  {
   "cell_type": "markdown",
   "metadata": {},
   "source": [
    "Fuente: [Ministerio de Ciencia](https://github.com/MinCiencia/Datos-COVID19)"
   ]
  },
  {
   "cell_type": "markdown",
   "metadata": {},
   "source": [
    "# Casos confirmados por región"
   ]
  },
  {
   "cell_type": "code",
   "execution_count": 61,
   "metadata": {},
   "outputs": [],
   "source": [
    "#hide\n",
    "data_raw = pd.read_csv(\n",
    "    \"https://raw.githubusercontent.com/MinCiencia/Datos-COVID19/master/output/producto3/CasosTotalesCumulativo.csv\",\n",
    "    index_col='Region')"
   ]
  },
  {
   "cell_type": "code",
   "execution_count": 62,
   "metadata": {},
   "outputs": [],
   "source": [
    "#hide\n",
    "data_raw = data_raw.drop('Total')\n",
    "data_raw = data_raw.reset_index()"
   ]
  },
  {
   "cell_type": "code",
   "execution_count": 63,
   "metadata": {},
   "outputs": [
    {
     "data": {
      "text/plain": [
       "array(['Arica y Parinacota', 'Tarapacá', 'Antofagasta', 'Atacama',\n",
       "       'Coquimbo', 'Valparaíso', 'Metropolitana', 'O’Higgins', 'Maule',\n",
       "       'Ñuble', 'Biobío', 'Araucanía', 'Los Ríos', 'Los Lagos', 'Aysén',\n",
       "       'Magallanes'], dtype=object)"
      ]
     },
     "execution_count": 63,
     "metadata": {},
     "output_type": "execute_result"
    }
   ],
   "source": [
    "#hide\n",
    "regiones = data_raw[\"Region\"].values\n",
    "regiones"
   ]
  },
  {
   "cell_type": "code",
   "execution_count": 64,
   "metadata": {},
   "outputs": [],
   "source": [
    "#hide\n",
    "data_raw = data_raw[['Region', today]]"
   ]
  },
  {
   "cell_type": "code",
   "execution_count": 65,
   "metadata": {},
   "outputs": [],
   "source": [
    "#hide\n",
    "today_es_format = update_date.strftime('%d/%m/%Y')"
   ]
  },
  {
   "cell_type": "code",
   "execution_count": 66,
   "metadata": {},
   "outputs": [
    {
     "data": {
      "text/html": [
       "\n",
       "<div id=\"altair-viz-91353a7242514692a04338f665ecf698\"></div>\n",
       "<script type=\"text/javascript\">\n",
       "  (function(spec, embedOpt){\n",
       "    let outputDiv = document.currentScript.previousElementSibling;\n",
       "    if (outputDiv.id !== \"altair-viz-91353a7242514692a04338f665ecf698\") {\n",
       "      outputDiv = document.getElementById(\"altair-viz-91353a7242514692a04338f665ecf698\");\n",
       "    }\n",
       "    const paths = {\n",
       "      \"vega\": \"https://cdn.jsdelivr.net/npm//vega@5?noext\",\n",
       "      \"vega-lib\": \"https://cdn.jsdelivr.net/npm//vega-lib?noext\",\n",
       "      \"vega-lite\": \"https://cdn.jsdelivr.net/npm//vega-lite@4.8.1?noext\",\n",
       "      \"vega-embed\": \"https://cdn.jsdelivr.net/npm//vega-embed@6?noext\",\n",
       "    };\n",
       "\n",
       "    function loadScript(lib) {\n",
       "      return new Promise(function(resolve, reject) {\n",
       "        var s = document.createElement('script');\n",
       "        s.src = paths[lib];\n",
       "        s.async = true;\n",
       "        s.onload = () => resolve(paths[lib]);\n",
       "        s.onerror = () => reject(`Error loading script: ${paths[lib]}`);\n",
       "        document.getElementsByTagName(\"head\")[0].appendChild(s);\n",
       "      });\n",
       "    }\n",
       "\n",
       "    function showError(err) {\n",
       "      outputDiv.innerHTML = `<div class=\"error\" style=\"color:red;\">${err}</div>`;\n",
       "      throw err;\n",
       "    }\n",
       "\n",
       "    function displayChart(vegaEmbed) {\n",
       "      vegaEmbed(outputDiv, spec, embedOpt)\n",
       "        .catch(err => showError(`Javascript Error: ${err.message}<br>This usually means there's a typo in your chart specification. See the javascript console for the full traceback.`));\n",
       "    }\n",
       "\n",
       "    if(typeof define === \"function\" && define.amd) {\n",
       "      requirejs.config({paths});\n",
       "      require([\"vega-embed\"], displayChart, err => showError(`Error loading script: ${err.message}`));\n",
       "    } else if (typeof vegaEmbed === \"function\") {\n",
       "      displayChart(vegaEmbed);\n",
       "    } else {\n",
       "      loadScript(\"vega\")\n",
       "        .then(() => loadScript(\"vega-lite\"))\n",
       "        .then(() => loadScript(\"vega-embed\"))\n",
       "        .catch(showError)\n",
       "        .then(() => displayChart(vegaEmbed));\n",
       "    }\n",
       "  })({\"config\": {\"view\": {\"continuousWidth\": 400, \"continuousHeight\": 300}}, \"layer\": [{\"mark\": \"bar\", \"encoding\": {\"tooltip\": {\"type\": \"quantitative\", \"field\": \"2020-04-24\"}, \"x\": {\"type\": \"quantitative\", \"axis\": {\"title\": \"Casos confirmados\"}, \"field\": \"2020-04-24\"}, \"y\": {\"type\": \"nominal\", \"field\": \"Region\", \"sort\": \"-x\"}}, \"title\": \"COVID-19 en Chile: Casos confirmados por regi\\u00f3n al 24/04/2020\"}, {\"mark\": {\"type\": \"text\", \"align\": \"left\", \"baseline\": \"middle\", \"dx\": 3}, \"encoding\": {\"text\": {\"type\": \"quantitative\", \"field\": \"2020-04-24\"}, \"tooltip\": {\"type\": \"quantitative\", \"field\": \"2020-04-24\"}, \"x\": {\"type\": \"quantitative\", \"axis\": {\"title\": \"Casos confirmados\"}, \"field\": \"2020-04-24\"}, \"y\": {\"type\": \"nominal\", \"field\": \"Region\", \"sort\": \"-x\"}}, \"title\": \"COVID-19 en Chile: Casos confirmados por regi\\u00f3n al 24/04/2020\"}], \"data\": {\"name\": \"data-1d99c9cc5a0e5ca5c8fd76dc94269d3b\"}, \"height\": 300, \"width\": 600, \"$schema\": \"https://vega.github.io/schema/vega-lite/v4.8.1.json\", \"datasets\": {\"data-1d99c9cc5a0e5ca5c8fd76dc94269d3b\": [{\"Region\": \"Arica y Parinacota\", \"2020-04-24\": 239}, {\"Region\": \"Tarapac\\u00e1\", \"2020-04-24\": 134}, {\"Region\": \"Antofagasta\", \"2020-04-24\": 366}, {\"Region\": \"Atacama\", \"2020-04-24\": 21}, {\"Region\": \"Coquimbo\", \"2020-04-24\": 72}, {\"Region\": \"Valpara\\u00edso\", \"2020-04-24\": 436}, {\"Region\": \"Metropolitana\", \"2020-04-24\": 6761}, {\"Region\": \"O\\u2019Higgins\", \"2020-04-24\": 81}, {\"Region\": \"Maule\", \"2020-04-24\": 349}, {\"Region\": \"\\u00d1uble\", \"2020-04-24\": 715}, {\"Region\": \"Biob\\u00edo\", \"2020-04-24\": 683}, {\"Region\": \"Araucan\\u00eda\", \"2020-04-24\": 1184}, {\"Region\": \"Los R\\u00edos\", \"2020-04-24\": 174}, {\"Region\": \"Los Lagos\", \"2020-04-24\": 460}, {\"Region\": \"Ays\\u00e9n\", \"2020-04-24\": 7}, {\"Region\": \"Magallanes\", \"2020-04-24\": 624}]}}, {\"mode\": \"vega-lite\"});\n",
       "</script>"
      ],
      "text/plain": [
       "alt.LayerChart(...)"
      ]
     },
     "execution_count": 66,
     "metadata": {},
     "output_type": "execute_result"
    }
   ],
   "source": [
    "#hide_input\n",
    "bars = alt.Chart(data_raw).mark_bar().encode(\n",
    "#     x = alt.X(today, scale=alt.Scale(domain=(0, 6500)), axis=alt.Axis(title='Casos confirmados')),\n",
    "    x = alt.X(today, axis=alt.Axis(title='Casos confirmados')),\n",
    "    y = alt.Y('Region:N', sort='-x'),\n",
    "    tooltip = today \n",
    ").properties(\n",
    "    title=f'COVID-19 en Chile: Casos confirmados por región al {today_es_format}'\n",
    ")\n",
    "\n",
    "text = bars.mark_text(\n",
    "    align='left',\n",
    "    baseline='middle',\n",
    "    dx=3  # Nudges text to right so it doesn't appear on top of the bar\n",
    ").encode(\n",
    "    text=today\n",
    ")\n",
    "\n",
    "(bars + text).properties(width=600, height=300)"
   ]
  },
  {
   "cell_type": "markdown",
   "metadata": {},
   "source": [
    "Fuente: [Ministerio de Ciencia](https://github.com/MinCiencia/Datos-COVID19)"
   ]
  },
  {
   "cell_type": "markdown",
   "metadata": {},
   "source": [
    "# Casos confirmados por región por cada 100.000 habitantes"
   ]
  },
  {
   "cell_type": "code",
   "execution_count": 67,
   "metadata": {},
   "outputs": [],
   "source": [
    "#hide\n",
    "tests_raw = pd.read_csv(\n",
    "    'https://raw.githubusercontent.com/MinCiencia/Datos-COVID19/master/output/producto7/PCR.csv',\n",
    "    index_col='Region')"
   ]
  },
  {
   "cell_type": "code",
   "execution_count": 68,
   "metadata": {},
   "outputs": [],
   "source": [
    "#hide\n",
    "data_raw[\"Tasa de casos\"] = 100000*data_raw[today]/tests_raw[\"Poblacion\"].values"
   ]
  },
  {
   "cell_type": "code",
   "execution_count": 69,
   "metadata": {},
   "outputs": [
    {
     "data": {
      "text/html": [
       "\n",
       "<div id=\"altair-viz-1f57eb8c33c9411da75d516b40b8a33c\"></div>\n",
       "<script type=\"text/javascript\">\n",
       "  (function(spec, embedOpt){\n",
       "    let outputDiv = document.currentScript.previousElementSibling;\n",
       "    if (outputDiv.id !== \"altair-viz-1f57eb8c33c9411da75d516b40b8a33c\") {\n",
       "      outputDiv = document.getElementById(\"altair-viz-1f57eb8c33c9411da75d516b40b8a33c\");\n",
       "    }\n",
       "    const paths = {\n",
       "      \"vega\": \"https://cdn.jsdelivr.net/npm//vega@5?noext\",\n",
       "      \"vega-lib\": \"https://cdn.jsdelivr.net/npm//vega-lib?noext\",\n",
       "      \"vega-lite\": \"https://cdn.jsdelivr.net/npm//vega-lite@4.8.1?noext\",\n",
       "      \"vega-embed\": \"https://cdn.jsdelivr.net/npm//vega-embed@6?noext\",\n",
       "    };\n",
       "\n",
       "    function loadScript(lib) {\n",
       "      return new Promise(function(resolve, reject) {\n",
       "        var s = document.createElement('script');\n",
       "        s.src = paths[lib];\n",
       "        s.async = true;\n",
       "        s.onload = () => resolve(paths[lib]);\n",
       "        s.onerror = () => reject(`Error loading script: ${paths[lib]}`);\n",
       "        document.getElementsByTagName(\"head\")[0].appendChild(s);\n",
       "      });\n",
       "    }\n",
       "\n",
       "    function showError(err) {\n",
       "      outputDiv.innerHTML = `<div class=\"error\" style=\"color:red;\">${err}</div>`;\n",
       "      throw err;\n",
       "    }\n",
       "\n",
       "    function displayChart(vegaEmbed) {\n",
       "      vegaEmbed(outputDiv, spec, embedOpt)\n",
       "        .catch(err => showError(`Javascript Error: ${err.message}<br>This usually means there's a typo in your chart specification. See the javascript console for the full traceback.`));\n",
       "    }\n",
       "\n",
       "    if(typeof define === \"function\" && define.amd) {\n",
       "      requirejs.config({paths});\n",
       "      require([\"vega-embed\"], displayChart, err => showError(`Error loading script: ${err.message}`));\n",
       "    } else if (typeof vegaEmbed === \"function\") {\n",
       "      displayChart(vegaEmbed);\n",
       "    } else {\n",
       "      loadScript(\"vega\")\n",
       "        .then(() => loadScript(\"vega-lite\"))\n",
       "        .then(() => loadScript(\"vega-embed\"))\n",
       "        .catch(showError)\n",
       "        .then(() => displayChart(vegaEmbed));\n",
       "    }\n",
       "  })({\"config\": {\"view\": {\"continuousWidth\": 400, \"continuousHeight\": 300}}, \"layer\": [{\"mark\": \"bar\", \"encoding\": {\"tooltip\": {\"type\": \"quantitative\", \"field\": \"Tasa de casos\"}, \"x\": {\"type\": \"quantitative\", \"axis\": {\"title\": \"Casos confirmados por cada 100.000 habitantes\"}, \"field\": \"Tasa de casos\", \"scale\": {\"domain\": [0, 340]}}, \"y\": {\"type\": \"nominal\", \"field\": \"Region\", \"sort\": \"-x\"}}, \"title\": \"COVID-19 en Chile: Casos confirmados por regi\\u00f3n por cada 100.000 habitantes al 24/04/2020\"}, {\"mark\": {\"type\": \"text\", \"align\": \"left\", \"baseline\": \"middle\", \"dx\": 3}, \"encoding\": {\"text\": {\"type\": \"quantitative\", \"field\": \"Tasa de casos\", \"format\": \",.2f\"}, \"tooltip\": {\"type\": \"quantitative\", \"field\": \"Tasa de casos\"}, \"x\": {\"type\": \"quantitative\", \"axis\": {\"title\": \"Casos confirmados por cada 100.000 habitantes\"}, \"field\": \"Tasa de casos\", \"scale\": {\"domain\": [0, 340]}}, \"y\": {\"type\": \"nominal\", \"field\": \"Region\", \"sort\": \"-x\"}}, \"title\": \"COVID-19 en Chile: Casos confirmados por regi\\u00f3n por cada 100.000 habitantes al 24/04/2020\"}], \"data\": {\"name\": \"data-07aecd5ca027ed10bae1c1678c28948b\"}, \"height\": 300, \"width\": 600, \"$schema\": \"https://vega.github.io/schema/vega-lite/v4.8.1.json\", \"datasets\": {\"data-07aecd5ca027ed10bae1c1678c28948b\": [{\"Region\": \"Arica y Parinacota\", \"2020-04-24\": 239, \"Tasa de casos\": 94.7998889373686}, {\"Region\": \"Tarapac\\u00e1\", \"2020-04-24\": 134, \"Tasa de casos\": 35.00769385510472}, {\"Region\": \"Antofagasta\", \"2020-04-24\": 366, \"Tasa de casos\": 52.901334674656795}, {\"Region\": \"Atacama\", \"2020-04-24\": 21, \"Tasa de casos\": 6.67283109157984}, {\"Region\": \"Coquimbo\", \"2020-04-24\": 72, \"Tasa de casos\": 8.611451316595224}, {\"Region\": \"Valpara\\u00edso\", \"2020-04-24\": 436, \"Tasa de casos\": 22.242968722100635}, {\"Region\": \"Metropolitana\", \"2020-04-24\": 6761, \"Tasa de casos\": 83.21157030977695}, {\"Region\": \"O\\u2019Higgins\", \"2020-04-24\": 81, \"Tasa de casos\": 8.173042480649565}, {\"Region\": \"Maule\", \"2020-04-24\": 349, \"Tasa de casos\": 30.832050136977347}, {\"Region\": \"\\u00d1uble\", \"2020-04-24\": 715, \"Tasa de casos\": 139.77101012411273}, {\"Region\": \"Biob\\u00edo\", \"2020-04-24\": 683, \"Tasa de casos\": 41.05317317586867}, {\"Region\": \"Araucan\\u00eda\", \"2020-04-24\": 1184, \"Tasa de casos\": 116.72580182443217}, {\"Region\": \"Los R\\u00edos\", \"2020-04-24\": 174, \"Tasa de casos\": 42.87456725023716}, {\"Region\": \"Los Lagos\", \"2020-04-24\": 460, \"Tasa de casos\": 51.60190253971103}, {\"Region\": \"Ays\\u00e9n\", \"2020-04-24\": 7, \"Tasa de casos\": 6.523947547461718}, {\"Region\": \"Magallanes\", \"2020-04-24\": 624, \"Tasa de casos\": 349.85030443704375}]}}, {\"mode\": \"vega-lite\"});\n",
       "</script>"
      ],
      "text/plain": [
       "alt.LayerChart(...)"
      ]
     },
     "execution_count": 69,
     "metadata": {},
     "output_type": "execute_result"
    }
   ],
   "source": [
    "#hide_input\n",
    "\n",
    "bars = alt.Chart(data_raw).mark_bar().encode(\n",
    "    x = alt.X('Tasa de casos:Q', scale=alt.Scale(domain=(0, 340)), axis=alt.Axis(title='Casos confirmados por cada 100.000 habitantes')),\n",
    "    y = alt.Y('Region:N', sort='-x'),\n",
    "    tooltip = 'Tasa de casos'\n",
    ").properties(\n",
    "    title=f'COVID-19 en Chile: Casos confirmados por región por cada 100.000 habitantes al {today_es_format}'\n",
    ")\n",
    "\n",
    "text = bars.mark_text(\n",
    "    align='left',\n",
    "    baseline='middle',\n",
    "    dx=3  # Nudges text to right so it doesn't appear on top of the bar\n",
    ").encode(\n",
    "    text=alt.Text('Tasa de casos:Q', format=',.2f')\n",
    ")\n",
    "\n",
    "# bars.configure_title(\n",
    "#     fontSize=20,\n",
    "#     font='Courier',\n",
    "#     anchor='start',\n",
    "#     color='gray'\n",
    "# )\n",
    "\n",
    "(bars + text).properties(width=600, height=300)"
   ]
  },
  {
   "cell_type": "markdown",
   "metadata": {},
   "source": [
    "Fuente: [Ministerio de Ciencia](https://github.com/MinCiencia/Datos-COVID19)"
   ]
  },
  {
   "cell_type": "markdown",
   "metadata": {},
   "source": [
    "# Fallecidos confirmados por región"
   ]
  },
  {
   "cell_type": "code",
   "execution_count": 70,
   "metadata": {},
   "outputs": [],
   "source": [
    "#hide\n",
    "s = 'https://raw.githubusercontent.com/MinCiencia/Datos-COVID19/master/output/producto4/' + today +'-CasosConfirmados-totalRegional.csv'\n",
    "data_raw = pd.read_csv(s, index_col='Region')"
   ]
  },
  {
   "cell_type": "code",
   "execution_count": 71,
   "metadata": {},
   "outputs": [],
   "source": [
    "#hide\n",
    "data_raw = data_raw[data_raw['Fallecidos']>0]\n",
    "data_raw = data_raw.drop('Total')"
   ]
  },
  {
   "cell_type": "code",
   "execution_count": 72,
   "metadata": {},
   "outputs": [
    {
     "data": {
      "text/html": [
       "\n",
       "<div id=\"altair-viz-94e1a006afd8402686700d7a0dabed33\"></div>\n",
       "<script type=\"text/javascript\">\n",
       "  (function(spec, embedOpt){\n",
       "    let outputDiv = document.currentScript.previousElementSibling;\n",
       "    if (outputDiv.id !== \"altair-viz-94e1a006afd8402686700d7a0dabed33\") {\n",
       "      outputDiv = document.getElementById(\"altair-viz-94e1a006afd8402686700d7a0dabed33\");\n",
       "    }\n",
       "    const paths = {\n",
       "      \"vega\": \"https://cdn.jsdelivr.net/npm//vega@5?noext\",\n",
       "      \"vega-lib\": \"https://cdn.jsdelivr.net/npm//vega-lib?noext\",\n",
       "      \"vega-lite\": \"https://cdn.jsdelivr.net/npm//vega-lite@4.8.1?noext\",\n",
       "      \"vega-embed\": \"https://cdn.jsdelivr.net/npm//vega-embed@6?noext\",\n",
       "    };\n",
       "\n",
       "    function loadScript(lib) {\n",
       "      return new Promise(function(resolve, reject) {\n",
       "        var s = document.createElement('script');\n",
       "        s.src = paths[lib];\n",
       "        s.async = true;\n",
       "        s.onload = () => resolve(paths[lib]);\n",
       "        s.onerror = () => reject(`Error loading script: ${paths[lib]}`);\n",
       "        document.getElementsByTagName(\"head\")[0].appendChild(s);\n",
       "      });\n",
       "    }\n",
       "\n",
       "    function showError(err) {\n",
       "      outputDiv.innerHTML = `<div class=\"error\" style=\"color:red;\">${err}</div>`;\n",
       "      throw err;\n",
       "    }\n",
       "\n",
       "    function displayChart(vegaEmbed) {\n",
       "      vegaEmbed(outputDiv, spec, embedOpt)\n",
       "        .catch(err => showError(`Javascript Error: ${err.message}<br>This usually means there's a typo in your chart specification. See the javascript console for the full traceback.`));\n",
       "    }\n",
       "\n",
       "    if(typeof define === \"function\" && define.amd) {\n",
       "      requirejs.config({paths});\n",
       "      require([\"vega-embed\"], displayChart, err => showError(`Error loading script: ${err.message}`));\n",
       "    } else if (typeof vegaEmbed === \"function\") {\n",
       "      displayChart(vegaEmbed);\n",
       "    } else {\n",
       "      loadScript(\"vega\")\n",
       "        .then(() => loadScript(\"vega-lite\"))\n",
       "        .then(() => loadScript(\"vega-embed\"))\n",
       "        .catch(showError)\n",
       "        .then(() => displayChart(vegaEmbed));\n",
       "    }\n",
       "  })({\"config\": {\"view\": {\"continuousWidth\": 400, \"continuousHeight\": 300}}, \"layer\": [{\"mark\": \"bar\", \"encoding\": {\"tooltip\": {\"type\": \"quantitative\", \"field\": \"Fallecidos\"}, \"x\": {\"type\": \"quantitative\", \"axis\": {\"title\": \"Fallecidos confirmados\"}, \"field\": \"Fallecidos\"}, \"y\": {\"type\": \"nominal\", \"field\": \"Region\", \"sort\": \"-x\"}}, \"title\": \"COVID-19 en Chile: Fallecidos confirmados por regi\\u00f3n al 24/04/2020\"}, {\"mark\": {\"type\": \"text\", \"align\": \"left\", \"baseline\": \"middle\", \"dx\": 3}, \"encoding\": {\"text\": {\"type\": \"quantitative\", \"field\": \"Fallecidos\"}, \"tooltip\": {\"type\": \"quantitative\", \"field\": \"Fallecidos\"}, \"x\": {\"type\": \"quantitative\", \"axis\": {\"title\": \"Fallecidos confirmados\"}, \"field\": \"Fallecidos\"}, \"y\": {\"type\": \"nominal\", \"field\": \"Region\", \"sort\": \"-x\"}}, \"title\": \"COVID-19 en Chile: Fallecidos confirmados por regi\\u00f3n al 24/04/2020\"}], \"data\": {\"name\": \"data-2441a627036179c3552ec0c61398821c\"}, \"height\": 300, \"width\": 600, \"$schema\": \"https://vega.github.io/schema/vega-lite/v4.8.1.json\", \"datasets\": {\"data-2441a627036179c3552ec0c61398821c\": [{\"Region\": \"Arica  y  Parinacota\", \"Casos  nuevos\": 29, \"Casos  totales\": 239, \"%  Casos  totales**\": \"1.94  %\", \"Fallecidos\": 3}, {\"Region\": \"Antofagasta\", \"Casos  nuevos\": 26, \"Casos  totales\": 366, \"%  Casos  totales**\": \"2.97  %\", \"Fallecidos\": 2}, {\"Region\": \"Valparaiso\", \"Casos  nuevos\": 7, \"Casos  totales\": 436, \"%  Casos  totales**\": \"3.54  %\", \"Fallecidos\": 8}, {\"Region\": \"Metropolitana\", \"Casos  nuevos\": 327, \"Casos  totales\": 6761, \"%  Casos  totales**\": \"54.94  %\", \"Fallecidos\": 86}, {\"Region\": \"O'Higgins\", \"Casos  nuevos\": 5, \"Casos  totales\": 81, \"%  Casos  totales**\": \"0.66  %\", \"Fallecidos\": 1}, {\"Region\": \"Maule\", \"Casos  nuevos\": 16, \"Casos  totales\": 349, \"%  Casos  totales**\": \"2.84  %\", \"Fallecidos\": 10}, {\"Region\": \"Nuble\", \"Casos  nuevos\": 7, \"Casos  totales\": 715, \"%  Casos  totales**\": \"5.81  %\", \"Fallecidos\": 14}, {\"Region\": \"Biobio\", \"Casos  nuevos\": 8, \"Casos  totales\": 683, \"%  Casos  totales**\": \"5.55  %\", \"Fallecidos\": 5}, {\"Region\": \"Araucania\", \"Casos  nuevos\": 42, \"Casos  totales\": 1184, \"%  Casos  totales**\": \"9.62  %\", \"Fallecidos\": 26}, {\"Region\": \"Los  Rios\", \"Casos  nuevos\": 1, \"Casos  totales\": 174, \"%  Casos  totales**\": \"1.41  %\", \"Fallecidos\": 3}, {\"Region\": \"Los  Lagos\", \"Casos  nuevos\": 6, \"Casos  totales\": 460, \"%  Casos  totales**\": \"3.74  %\", \"Fallecidos\": 8}, {\"Region\": \"Magallanes\", \"Casos  nuevos\": 9, \"Casos  totales\": 624, \"%  Casos  totales**\": \"5.07  %\", \"Fallecidos\": 8}]}}, {\"mode\": \"vega-lite\"});\n",
       "</script>"
      ],
      "text/plain": [
       "alt.LayerChart(...)"
      ]
     },
     "execution_count": 72,
     "metadata": {},
     "output_type": "execute_result"
    }
   ],
   "source": [
    "#hide_input\n",
    "bars = alt.Chart(data_raw.reset_index()).mark_bar().encode(\n",
    "    x = alt.X('Fallecidos:Q', axis=alt.Axis(title='Fallecidos confirmados')),\n",
    "    y = alt.Y('Region:N', sort='-x'),\n",
    "    tooltip = 'Fallecidos'\n",
    ").properties(\n",
    "    title=f'COVID-19 en Chile: Fallecidos confirmados por región al {today_es_format}'\n",
    ")\n",
    "\n",
    "text = bars.mark_text(\n",
    "    align='left',\n",
    "    baseline='middle',\n",
    "    dx=3  # Nudges text to right so it doesn't appear on top of the bar\n",
    ").encode(\n",
    "    text='Fallecidos:Q'\n",
    ")\n",
    "\n",
    "bars.configure_title(\n",
    "    fontSize=20,\n",
    "    font='Courier',\n",
    "    anchor='start',\n",
    "    color='gray'\n",
    ")\n",
    "\n",
    "(bars + text).properties(width=600, height=300)"
   ]
  },
  {
   "cell_type": "markdown",
   "metadata": {},
   "source": [
    "Fuente: [Ministerio de Ciencia](https://github.com/MinCiencia/Datos-COVID19)"
   ]
  },
  {
   "cell_type": "markdown",
   "metadata": {},
   "source": [
    "# Fallecidos confirmados por región por cada 100.000 habitantes"
   ]
  },
  {
   "cell_type": "code",
   "execution_count": 73,
   "metadata": {},
   "outputs": [],
   "source": [
    "#hide\n",
    "s = 'https://raw.githubusercontent.com/MinCiencia/Datos-COVID19/master/output/producto4/' + today + '-CasosConfirmados-totalRegional.csv'\n",
    "data_raw = pd.read_csv(s, index_col='Region')"
   ]
  },
  {
   "cell_type": "code",
   "execution_count": 74,
   "metadata": {},
   "outputs": [],
   "source": [
    "#hide\n",
    "tests_raw = pd.read_csv(\n",
    "    'https://raw.githubusercontent.com/MinCiencia/Datos-COVID19/master/output/producto7/PCR.csv',\n",
    "    index_col='Region')\n",
    "tests_raw = tests_raw.fillna(0)"
   ]
  },
  {
   "cell_type": "code",
   "execution_count": 75,
   "metadata": {},
   "outputs": [],
   "source": [
    "#hide\n",
    "tests_total = pd.Series(dtype='float64')\n",
    "for date in tests_raw.columns:\n",
    "  tests_raw[date] = tests_raw[date].apply(lambda x: 0 if x=='-' else x)\n",
    "  tests_raw[date] = tests_raw[date].astype(int)\n",
    "  tests_total[date] = np.sum(tests_raw[date])"
   ]
  },
  {
   "cell_type": "code",
   "execution_count": 76,
   "metadata": {},
   "outputs": [],
   "source": [
    "#hide\n",
    "tests_raw.loc['Total'] = tests_total"
   ]
  },
  {
   "cell_type": "code",
   "execution_count": 77,
   "metadata": {},
   "outputs": [],
   "source": [
    "#hide\n",
    "death_rate = 100000*data_raw['Fallecidos']/tests_raw['Poblacion'].values\n",
    "death_rate = death_rate.sort_values(ascending=True)\n",
    "death_rate = death_rate[death_rate>0]"
   ]
  },
  {
   "cell_type": "code",
   "execution_count": 78,
   "metadata": {
    "scrolled": false
   },
   "outputs": [
    {
     "data": {
      "text/html": [
       "\n",
       "<div id=\"altair-viz-6c30440f67ab4dc4aed7583c1489e068\"></div>\n",
       "<script type=\"text/javascript\">\n",
       "  (function(spec, embedOpt){\n",
       "    let outputDiv = document.currentScript.previousElementSibling;\n",
       "    if (outputDiv.id !== \"altair-viz-6c30440f67ab4dc4aed7583c1489e068\") {\n",
       "      outputDiv = document.getElementById(\"altair-viz-6c30440f67ab4dc4aed7583c1489e068\");\n",
       "    }\n",
       "    const paths = {\n",
       "      \"vega\": \"https://cdn.jsdelivr.net/npm//vega@5?noext\",\n",
       "      \"vega-lib\": \"https://cdn.jsdelivr.net/npm//vega-lib?noext\",\n",
       "      \"vega-lite\": \"https://cdn.jsdelivr.net/npm//vega-lite@4.8.1?noext\",\n",
       "      \"vega-embed\": \"https://cdn.jsdelivr.net/npm//vega-embed@6?noext\",\n",
       "    };\n",
       "\n",
       "    function loadScript(lib) {\n",
       "      return new Promise(function(resolve, reject) {\n",
       "        var s = document.createElement('script');\n",
       "        s.src = paths[lib];\n",
       "        s.async = true;\n",
       "        s.onload = () => resolve(paths[lib]);\n",
       "        s.onerror = () => reject(`Error loading script: ${paths[lib]}`);\n",
       "        document.getElementsByTagName(\"head\")[0].appendChild(s);\n",
       "      });\n",
       "    }\n",
       "\n",
       "    function showError(err) {\n",
       "      outputDiv.innerHTML = `<div class=\"error\" style=\"color:red;\">${err}</div>`;\n",
       "      throw err;\n",
       "    }\n",
       "\n",
       "    function displayChart(vegaEmbed) {\n",
       "      vegaEmbed(outputDiv, spec, embedOpt)\n",
       "        .catch(err => showError(`Javascript Error: ${err.message}<br>This usually means there's a typo in your chart specification. See the javascript console for the full traceback.`));\n",
       "    }\n",
       "\n",
       "    if(typeof define === \"function\" && define.amd) {\n",
       "      requirejs.config({paths});\n",
       "      require([\"vega-embed\"], displayChart, err => showError(`Error loading script: ${err.message}`));\n",
       "    } else if (typeof vegaEmbed === \"function\") {\n",
       "      displayChart(vegaEmbed);\n",
       "    } else {\n",
       "      loadScript(\"vega\")\n",
       "        .then(() => loadScript(\"vega-lite\"))\n",
       "        .then(() => loadScript(\"vega-embed\"))\n",
       "        .catch(showError)\n",
       "        .then(() => displayChart(vegaEmbed));\n",
       "    }\n",
       "  })({\"config\": {\"view\": {\"continuousWidth\": 400, \"continuousHeight\": 300}}, \"layer\": [{\"mark\": \"bar\", \"encoding\": {\"tooltip\": {\"type\": \"quantitative\", \"field\": \"Fallecidos\"}, \"x\": {\"type\": \"quantitative\", \"axis\": {\"title\": \"Fallecidos confirmados por cada 100.000 habitantes\"}, \"field\": \"Fallecidos\"}, \"y\": {\"type\": \"nominal\", \"field\": \"Region\", \"sort\": \"-x\"}}, \"title\": \"COVID-19 en Chile: Fallecidos confirmados por regi\\u00f3n por cada 100.000 habitantes al 24/04/2020\"}, {\"mark\": {\"type\": \"text\", \"align\": \"left\", \"baseline\": \"middle\", \"dx\": 3}, \"encoding\": {\"text\": {\"type\": \"quantitative\", \"field\": \"Fallecidos\", \"format\": \",.2f\"}, \"tooltip\": {\"type\": \"quantitative\", \"field\": \"Fallecidos\"}, \"x\": {\"type\": \"quantitative\", \"axis\": {\"title\": \"Fallecidos confirmados por cada 100.000 habitantes\"}, \"field\": \"Fallecidos\"}, \"y\": {\"type\": \"nominal\", \"field\": \"Region\", \"sort\": \"-x\"}}, \"title\": \"COVID-19 en Chile: Fallecidos confirmados por regi\\u00f3n por cada 100.000 habitantes al 24/04/2020\"}], \"data\": {\"name\": \"data-fce0555a0319a72ff5d346312c99e792\"}, \"height\": 300, \"width\": 600, \"$schema\": \"https://vega.github.io/schema/vega-lite/v4.8.1.json\", \"datasets\": {\"data-fce0555a0319a72ff5d346312c99e792\": [{\"Region\": \"O'Higgins\", \"Fallecidos\": 0.10090175902036501}, {\"Region\": \"Antofagasta\", \"Fallecidos\": 0.2890783315555016}, {\"Region\": \"Biobio\", \"Fallecidos\": 0.30053567478673987}, {\"Region\": \"Valparaiso\", \"Fallecidos\": 0.4081278664605621}, {\"Region\": \"Los  Rios\", \"Fallecidos\": 0.739216676728227}, {\"Region\": \"Maule\", \"Fallecidos\": 0.8834398320050816}, {\"Region\": \"Total\", \"Fallecidos\": 0.8942194877150174}, {\"Region\": \"Los  Lagos\", \"Fallecidos\": 0.8974243919949744}, {\"Region\": \"Metropolitana\", \"Fallecidos\": 1.0584521589470222}, {\"Region\": \"Arica  y  Parinacota\", \"Fallecidos\": 1.1899567649042084}, {\"Region\": \"Araucania\", \"Fallecidos\": 2.5632355130365174}, {\"Region\": \"Nuble\", \"Fallecidos\": 2.7367750234092005}, {\"Region\": \"Magallanes\", \"Fallecidos\": 4.4852603132954325}]}}, {\"mode\": \"vega-lite\"});\n",
       "</script>"
      ],
      "text/plain": [
       "alt.LayerChart(...)"
      ]
     },
     "execution_count": 78,
     "metadata": {},
     "output_type": "execute_result"
    }
   ],
   "source": [
    "#hide_input\n",
    "bars = alt.Chart(death_rate.reset_index()).mark_bar().encode(\n",
    "    x = alt.X('Fallecidos:Q', axis=alt.Axis(title='Fallecidos confirmados por cada 100.000 habitantes')),\n",
    "    y = alt.Y('Region:N', sort='-x'),\n",
    "    tooltip = 'Fallecidos'\n",
    ").properties(\n",
    "    title=f'COVID-19 en Chile: Fallecidos confirmados por región por cada 100.000 habitantes al {today_es_format}'\n",
    ")\n",
    "\n",
    "text = bars.mark_text(\n",
    "    align='left',\n",
    "    baseline='middle',\n",
    "    dx=3  # Nudges text to right so it doesn't appear on top of the bar\n",
    ").encode(\n",
    "    text=alt.Text('Fallecidos:Q', format=',.2f')\n",
    ")\n",
    "\n",
    "bars.configure_title(\n",
    "    fontSize=20,\n",
    "    font='Courier',\n",
    "    anchor='start',\n",
    "    color='gray'\n",
    ")\n",
    "\n",
    "(bars + text).properties(width=600, height=300)"
   ]
  },
  {
   "cell_type": "markdown",
   "metadata": {},
   "source": [
    "Fuente: [Ministerio de Ciencia](https://github.com/MinCiencia/Datos-COVID19)"
   ]
  },
  {
   "cell_type": "markdown",
   "metadata": {},
   "source": [
    "# Tasa de letalidad por región\n",
    "> Tasa de letalidad = fallecidos confirmados / casos confirmados (en porcentaje)"
   ]
  },
  {
   "cell_type": "code",
   "execution_count": 79,
   "metadata": {},
   "outputs": [],
   "source": [
    "#hide\n",
    "CFR = data_raw['Fallecidos']/data_raw['Casos  totales']*100\n",
    "CFR = CFR.sort_values(ascending=True)\n",
    "CFR = CFR[CFR>0]"
   ]
  },
  {
   "cell_type": "code",
   "execution_count": 80,
   "metadata": {},
   "outputs": [],
   "source": [
    "#hide\n",
    "CFR = CFR.reset_index()\n",
    "CFR['Tasa de letalidad'] = CFR[0]\n",
    "CFR = CFR.drop(columns=0)"
   ]
  },
  {
   "cell_type": "code",
   "execution_count": 81,
   "metadata": {
    "scrolled": false
   },
   "outputs": [
    {
     "data": {
      "text/html": [
       "\n",
       "<div id=\"altair-viz-b86317b1ff264cd2b9091f3c975e062a\"></div>\n",
       "<script type=\"text/javascript\">\n",
       "  (function(spec, embedOpt){\n",
       "    let outputDiv = document.currentScript.previousElementSibling;\n",
       "    if (outputDiv.id !== \"altair-viz-b86317b1ff264cd2b9091f3c975e062a\") {\n",
       "      outputDiv = document.getElementById(\"altair-viz-b86317b1ff264cd2b9091f3c975e062a\");\n",
       "    }\n",
       "    const paths = {\n",
       "      \"vega\": \"https://cdn.jsdelivr.net/npm//vega@5?noext\",\n",
       "      \"vega-lib\": \"https://cdn.jsdelivr.net/npm//vega-lib?noext\",\n",
       "      \"vega-lite\": \"https://cdn.jsdelivr.net/npm//vega-lite@4.8.1?noext\",\n",
       "      \"vega-embed\": \"https://cdn.jsdelivr.net/npm//vega-embed@6?noext\",\n",
       "    };\n",
       "\n",
       "    function loadScript(lib) {\n",
       "      return new Promise(function(resolve, reject) {\n",
       "        var s = document.createElement('script');\n",
       "        s.src = paths[lib];\n",
       "        s.async = true;\n",
       "        s.onload = () => resolve(paths[lib]);\n",
       "        s.onerror = () => reject(`Error loading script: ${paths[lib]}`);\n",
       "        document.getElementsByTagName(\"head\")[0].appendChild(s);\n",
       "      });\n",
       "    }\n",
       "\n",
       "    function showError(err) {\n",
       "      outputDiv.innerHTML = `<div class=\"error\" style=\"color:red;\">${err}</div>`;\n",
       "      throw err;\n",
       "    }\n",
       "\n",
       "    function displayChart(vegaEmbed) {\n",
       "      vegaEmbed(outputDiv, spec, embedOpt)\n",
       "        .catch(err => showError(`Javascript Error: ${err.message}<br>This usually means there's a typo in your chart specification. See the javascript console for the full traceback.`));\n",
       "    }\n",
       "\n",
       "    if(typeof define === \"function\" && define.amd) {\n",
       "      requirejs.config({paths});\n",
       "      require([\"vega-embed\"], displayChart, err => showError(`Error loading script: ${err.message}`));\n",
       "    } else if (typeof vegaEmbed === \"function\") {\n",
       "      displayChart(vegaEmbed);\n",
       "    } else {\n",
       "      loadScript(\"vega\")\n",
       "        .then(() => loadScript(\"vega-lite\"))\n",
       "        .then(() => loadScript(\"vega-embed\"))\n",
       "        .catch(showError)\n",
       "        .then(() => displayChart(vegaEmbed));\n",
       "    }\n",
       "  })({\"config\": {\"view\": {\"continuousWidth\": 400, \"continuousHeight\": 300}}, \"layer\": [{\"mark\": \"bar\", \"encoding\": {\"tooltip\": {\"type\": \"quantitative\", \"field\": \"Tasa de letalidad\"}, \"x\": {\"type\": \"quantitative\", \"axis\": {\"title\": \"Tasa de letalidad\"}, \"field\": \"Tasa de letalidad\"}, \"y\": {\"type\": \"nominal\", \"field\": \"Region\", \"sort\": \"-x\"}}, \"title\": \"COVID-19 en Chile: Tasa de letalidad por regi\\u00f3n al 24/04/2020\"}, {\"mark\": {\"type\": \"text\", \"align\": \"left\", \"baseline\": \"middle\", \"dx\": 3}, \"encoding\": {\"text\": {\"type\": \"quantitative\", \"field\": \"Tasa de letalidad\", \"format\": \",.1f\"}, \"tooltip\": {\"type\": \"quantitative\", \"field\": \"Tasa de letalidad\"}, \"x\": {\"type\": \"quantitative\", \"axis\": {\"title\": \"Tasa de letalidad\"}, \"field\": \"Tasa de letalidad\"}, \"y\": {\"type\": \"nominal\", \"field\": \"Region\", \"sort\": \"-x\"}}, \"title\": \"COVID-19 en Chile: Tasa de letalidad por regi\\u00f3n al 24/04/2020\"}], \"data\": {\"name\": \"data-5808aba8d678330a18c4044350b7ca2e\"}, \"height\": 300, \"width\": 600, \"$schema\": \"https://vega.github.io/schema/vega-lite/v4.8.1.json\", \"datasets\": {\"data-5808aba8d678330a18c4044350b7ca2e\": [{\"Region\": \"Antofagasta\", \"Tasa de letalidad\": 0.546448087431694}, {\"Region\": \"Biobio\", \"Tasa de letalidad\": 0.7320644216691069}, {\"Region\": \"O'Higgins\", \"Tasa de letalidad\": 1.2345679012345678}, {\"Region\": \"Arica  y  Parinacota\", \"Tasa de letalidad\": 1.2552301255230125}, {\"Region\": \"Metropolitana\", \"Tasa de letalidad\": 1.2720011832569147}, {\"Region\": \"Magallanes\", \"Tasa de letalidad\": 1.282051282051282}, {\"Region\": \"Total\", \"Tasa de letalidad\": 1.4139444173573867}, {\"Region\": \"Los  Rios\", \"Tasa de letalidad\": 1.7241379310344827}, {\"Region\": \"Los  Lagos\", \"Tasa de letalidad\": 1.7391304347826086}, {\"Region\": \"Valparaiso\", \"Tasa de letalidad\": 1.834862385321101}, {\"Region\": \"Nuble\", \"Tasa de letalidad\": 1.9580419580419581}, {\"Region\": \"Araucania\", \"Tasa de letalidad\": 2.195945945945946}, {\"Region\": \"Maule\", \"Tasa de letalidad\": 2.865329512893983}]}}, {\"mode\": \"vega-lite\"});\n",
       "</script>"
      ],
      "text/plain": [
       "alt.LayerChart(...)"
      ]
     },
     "execution_count": 81,
     "metadata": {},
     "output_type": "execute_result"
    }
   ],
   "source": [
    "#hide_input\n",
    "bars = alt.Chart(CFR).mark_bar().encode(\n",
    "    x = alt.X('Tasa de letalidad:Q', axis=alt.Axis(title='Tasa de letalidad')),\n",
    "    y = alt.Y('Region:N', sort='-x'),\n",
    "    tooltip = 'Tasa de letalidad'\n",
    ").properties(\n",
    "    title=f'COVID-19 en Chile: Tasa de letalidad por región al {today_es_format}'\n",
    ")\n",
    "\n",
    "text = bars.mark_text(\n",
    "    align='left',\n",
    "    baseline='middle',\n",
    "    dx=3  # Nudges text to right so it doesn't appear on top of the bar\n",
    ").encode(\n",
    "    text=alt.Text('Tasa de letalidad:Q', format=',.1f')\n",
    ")\n",
    "\n",
    "bars.configure_title(\n",
    "    fontSize=20,\n",
    "    font='Courier',\n",
    "    anchor='start',\n",
    "    color='gray'\n",
    ")\n",
    "\n",
    "(bars + text).properties(width=600, height=300)"
   ]
  },
  {
   "cell_type": "markdown",
   "metadata": {},
   "source": [
    "Fuente: [Ministerio de Ciencia](https://github.com/MinCiencia/Datos-COVID19)"
   ]
  },
  {
   "cell_type": "markdown",
   "metadata": {},
   "source": [
    "# Exámenes informados por región desde el 9 de abril\n",
    "Nota: sólo se dispone de los datos de exámenes informados por región desde el 9 de abril"
   ]
  },
  {
   "cell_type": "code",
   "execution_count": 82,
   "metadata": {},
   "outputs": [],
   "source": [
    "#hide\n",
    "s = 'https://raw.githubusercontent.com/MinCiencia/Datos-COVID19/master/output/producto4/2020-04-08-CasosConfirmados-totalRegional.csv'\n",
    "data_20200408 = pd.read_csv(s, index_col='Region')"
   ]
  },
  {
   "cell_type": "code",
   "execution_count": 83,
   "metadata": {},
   "outputs": [],
   "source": [
    "#hide\n",
    "s = 'https://raw.githubusercontent.com/MinCiencia/Datos-COVID19/master/output/producto4/' + today +'-CasosConfirmados-totalRegional.csv'\n",
    "data_update_date = pd.read_csv(s, index_col='Region')"
   ]
  },
  {
   "cell_type": "code",
   "execution_count": 84,
   "metadata": {},
   "outputs": [],
   "source": [
    "#hide\n",
    "tests_raw = pd.read_csv(\n",
    "    'https://raw.githubusercontent.com/MinCiencia/Datos-COVID19/master/output/producto7/PCR.csv',\n",
    "    index_col='Region')\n",
    "tests_raw = tests_raw.fillna(0)"
   ]
  },
  {
   "cell_type": "code",
   "execution_count": 85,
   "metadata": {},
   "outputs": [],
   "source": [
    "#hide\n",
    "tests_total = pd.Series(dtype='float64')\n",
    "for date in tests_raw.columns:\n",
    "  tests_raw[date] = tests_raw[date].apply(lambda x: 0 if x=='-' else x)\n",
    "  tests_raw[date] = tests_raw[date].astype(int)\n",
    "  tests_total[date] = np.sum(tests_raw[date])"
   ]
  },
  {
   "cell_type": "code",
   "execution_count": 86,
   "metadata": {},
   "outputs": [],
   "source": [
    "#hide\n",
    "tests_raw.loc['Total'] = tests_total"
   ]
  },
  {
   "cell_type": "code",
   "execution_count": 87,
   "metadata": {},
   "outputs": [],
   "source": [
    "#hide\n",
    "data = pd.DataFrame()\n",
    "data[\"Fallecidos\"] = data_update_date[\"Fallecidos\"]-data_20200408[\"Fallecidos\"]\n",
    "data[\"Casos\"] = data_update_date[\"Casos  totales\"]-data_20200408[\"Casos  totales\"]\n",
    "data[\"Tests\"] = tests_raw.drop(columns='Poblacion').sum(axis=1).values"
   ]
  },
  {
   "cell_type": "code",
   "execution_count": 88,
   "metadata": {},
   "outputs": [],
   "source": [
    "#hide\n",
    "data_per_capita = pd.DataFrame()\n",
    "data_per_capita[\"Fallecidos\"] = 100000*data[\"Fallecidos\"]/tests_raw[\"Poblacion\"].values\n",
    "data_per_capita[\"Casos\"] = 100000*data[\"Casos\"]/tests_raw[\"Poblacion\"].values\n",
    "data_per_capita[\"Tests\"] = 100000*data[\"Tests\"]/tests_raw[\"Poblacion\"].values"
   ]
  },
  {
   "cell_type": "code",
   "execution_count": 89,
   "metadata": {},
   "outputs": [],
   "source": [
    "#hide\n",
    "casos_raw = pd.read_csv(\n",
    "    \"https://raw.githubusercontent.com/MinCiencia/Datos-COVID19/master/output/producto3/CasosTotalesCumulativo.csv\", \n",
    "    index_col='Region')"
   ]
  },
  {
   "cell_type": "code",
   "execution_count": 90,
   "metadata": {},
   "outputs": [],
   "source": [
    "#hide\n",
    "casos_20200408 = pd.read_csv('https://raw.githubusercontent.com/MinCiencia/Datos-COVID19/master/output/producto4/2020-04-08-CasosConfirmados-totalRegional.csv', index_col='Region')"
   ]
  },
  {
   "cell_type": "code",
   "execution_count": 91,
   "metadata": {},
   "outputs": [],
   "source": [
    "#hide\n",
    "s = 'https://raw.githubusercontent.com/MinCiencia/Datos-COVID19/master/output/producto4/' + today + '-CasosConfirmados-totalRegional.csv'\n",
    "casos_update_date = pd.read_csv(s, index_col='Region')"
   ]
  },
  {
   "cell_type": "code",
   "execution_count": 92,
   "metadata": {},
   "outputs": [],
   "source": [
    "#hide\n",
    "positividad = 100*(casos_update_date['Casos  totales'] - casos_20200408['Casos  totales'])/tests_raw.drop(columns='Poblacion').sum(axis=1).values"
   ]
  },
  {
   "cell_type": "code",
   "execution_count": 93,
   "metadata": {},
   "outputs": [],
   "source": [
    "#hide\n",
    "tests_raw['tests informados'] = tests_raw.drop(columns='Poblacion').sum(axis=1)"
   ]
  },
  {
   "cell_type": "code",
   "execution_count": 94,
   "metadata": {},
   "outputs": [],
   "source": [
    "#hide\n",
    "tests_raw['tasa de tests'] = 100000*tests_raw['tests informados']/tests_raw['Poblacion']"
   ]
  },
  {
   "cell_type": "code",
   "execution_count": 95,
   "metadata": {},
   "outputs": [
    {
     "data": {
      "text/html": [
       "\n",
       "<div id=\"altair-viz-1f8d0693c22945cbb045815444f5a894\"></div>\n",
       "<script type=\"text/javascript\">\n",
       "  (function(spec, embedOpt){\n",
       "    let outputDiv = document.currentScript.previousElementSibling;\n",
       "    if (outputDiv.id !== \"altair-viz-1f8d0693c22945cbb045815444f5a894\") {\n",
       "      outputDiv = document.getElementById(\"altair-viz-1f8d0693c22945cbb045815444f5a894\");\n",
       "    }\n",
       "    const paths = {\n",
       "      \"vega\": \"https://cdn.jsdelivr.net/npm//vega@5?noext\",\n",
       "      \"vega-lib\": \"https://cdn.jsdelivr.net/npm//vega-lib?noext\",\n",
       "      \"vega-lite\": \"https://cdn.jsdelivr.net/npm//vega-lite@4.8.1?noext\",\n",
       "      \"vega-embed\": \"https://cdn.jsdelivr.net/npm//vega-embed@6?noext\",\n",
       "    };\n",
       "\n",
       "    function loadScript(lib) {\n",
       "      return new Promise(function(resolve, reject) {\n",
       "        var s = document.createElement('script');\n",
       "        s.src = paths[lib];\n",
       "        s.async = true;\n",
       "        s.onload = () => resolve(paths[lib]);\n",
       "        s.onerror = () => reject(`Error loading script: ${paths[lib]}`);\n",
       "        document.getElementsByTagName(\"head\")[0].appendChild(s);\n",
       "      });\n",
       "    }\n",
       "\n",
       "    function showError(err) {\n",
       "      outputDiv.innerHTML = `<div class=\"error\" style=\"color:red;\">${err}</div>`;\n",
       "      throw err;\n",
       "    }\n",
       "\n",
       "    function displayChart(vegaEmbed) {\n",
       "      vegaEmbed(outputDiv, spec, embedOpt)\n",
       "        .catch(err => showError(`Javascript Error: ${err.message}<br>This usually means there's a typo in your chart specification. See the javascript console for the full traceback.`));\n",
       "    }\n",
       "\n",
       "    if(typeof define === \"function\" && define.amd) {\n",
       "      requirejs.config({paths});\n",
       "      require([\"vega-embed\"], displayChart, err => showError(`Error loading script: ${err.message}`));\n",
       "    } else if (typeof vegaEmbed === \"function\") {\n",
       "      displayChart(vegaEmbed);\n",
       "    } else {\n",
       "      loadScript(\"vega\")\n",
       "        .then(() => loadScript(\"vega-lite\"))\n",
       "        .then(() => loadScript(\"vega-embed\"))\n",
       "        .catch(showError)\n",
       "        .then(() => displayChart(vegaEmbed));\n",
       "    }\n",
       "  })({\"config\": {\"view\": {\"continuousWidth\": 400, \"continuousHeight\": 300}}, \"layer\": [{\"mark\": \"bar\", \"encoding\": {\"tooltip\": {\"type\": \"quantitative\", \"field\": \"tests informados\"}, \"x\": {\"type\": \"quantitative\", \"axis\": {\"title\": \"Ex\\u00e1menes informados\"}, \"field\": \"tests informados\"}, \"y\": {\"type\": \"nominal\", \"field\": \"Region\", \"sort\": \"-x\"}}, \"title\": \"COVID-19 en Chile: Total de ex\\u00e1menes informados por regi\\u00f3n desde el 9 de abril\"}, {\"mark\": {\"type\": \"text\", \"align\": \"left\", \"baseline\": \"middle\", \"dx\": 3}, \"encoding\": {\"text\": {\"type\": \"quantitative\", \"field\": \"tests informados\", \"format\": \".0f\"}, \"tooltip\": {\"type\": \"quantitative\", \"field\": \"tests informados\"}, \"x\": {\"type\": \"quantitative\", \"axis\": {\"title\": \"Ex\\u00e1menes informados\"}, \"field\": \"tests informados\"}, \"y\": {\"type\": \"nominal\", \"field\": \"Region\", \"sort\": \"-x\"}}, \"title\": \"COVID-19 en Chile: Total de ex\\u00e1menes informados por regi\\u00f3n desde el 9 de abril\"}], \"data\": {\"name\": \"data-c1fdc4077433f91ce52eb104b3307a1f\"}, \"height\": 300, \"width\": 600, \"$schema\": \"https://vega.github.io/schema/vega-lite/v4.8.1.json\", \"datasets\": {\"data-c1fdc4077433f91ce52eb104b3307a1f\": [{\"Region\": \"Arica y Parinacota\", \"Codigo region\": 15, \"Poblacion\": 252110, \"2020-04-09\": 70, \"2020-04-10\": 0, \"2020-04-11\": 0, \"2020-04-12\": 103, \"2020-04-13\": 0, \"2020-04-14\": 93, \"2020-04-15\": 24, \"2020-04-16\": 198, \"2020-04-17\": 131, \"2020-04-18\": 0, \"2020-04-19\": 155, \"2020-04-20\": 48, \"2020-04-21\": 52, \"2020-04-22\": 0, \"2020-04-23\": 169, \"2020-04-24\": 85, \"tests informados\": 1143, \"tasa de tests\": 453.37352742850345}, {\"Region\": \"Tarapac\\u00e1\", \"Codigo region\": 1, \"Poblacion\": 382773, \"2020-04-09\": 0, \"2020-04-10\": 0, \"2020-04-11\": 0, \"2020-04-12\": 0, \"2020-04-13\": 0, \"2020-04-14\": 0, \"2020-04-15\": 0, \"2020-04-16\": 30, \"2020-04-17\": 0, \"2020-04-18\": 60, \"2020-04-19\": 0, \"2020-04-20\": 0, \"2020-04-21\": 30, \"2020-04-22\": 59, \"2020-04-23\": 30, \"2020-04-24\": 203, \"tests informados\": 413, \"tasa de tests\": 107.8968474787929}, {\"Region\": \"Antofagasta\", \"Codigo region\": 2, \"Poblacion\": 691854, \"2020-04-09\": 182, \"2020-04-10\": 128, \"2020-04-11\": 107, \"2020-04-12\": 175, \"2020-04-13\": 103, \"2020-04-14\": 95, \"2020-04-15\": 117, \"2020-04-16\": 117, \"2020-04-17\": 143, \"2020-04-18\": 200, \"2020-04-19\": 129, \"2020-04-20\": 197, \"2020-04-21\": 147, \"2020-04-22\": 152, \"2020-04-23\": 146, \"2020-04-24\": 166, \"tests informados\": 2306, \"tasa de tests\": 333.3073162834933}, {\"Region\": \"Atacama\", \"Codigo region\": 3, \"Poblacion\": 314709, \"2020-04-09\": 57, \"2020-04-10\": 52, \"2020-04-11\": 60, \"2020-04-12\": 25, \"2020-04-13\": 20, \"2020-04-14\": 22, \"2020-04-15\": 25, \"2020-04-16\": 29, \"2020-04-17\": 37, \"2020-04-18\": 50, \"2020-04-19\": 31, \"2020-04-20\": 33, \"2020-04-21\": 33, \"2020-04-22\": 47, \"2020-04-23\": 57, \"2020-04-24\": 77, \"tests informados\": 658, \"tasa de tests\": 209.08204086950167}, {\"Region\": \"Coquimbo\", \"Codigo region\": 4, \"Poblacion\": 836096, \"2020-04-09\": 0, \"2020-04-10\": 0, \"2020-04-11\": 0, \"2020-04-12\": 0, \"2020-04-13\": 0, \"2020-04-14\": 0, \"2020-04-15\": 0, \"2020-04-16\": 0, \"2020-04-17\": 0, \"2020-04-18\": 0, \"2020-04-19\": 0, \"2020-04-20\": 0, \"2020-04-21\": 0, \"2020-04-22\": 29, \"2020-04-23\": 22, \"2020-04-24\": 44, \"tests informados\": 99, \"tasa de tests\": 11.840745560318432}, {\"Region\": \"Valpara\\u00edso\", \"Codigo region\": 5, \"Poblacion\": 1960170, \"2020-04-09\": 301, \"2020-04-10\": 249, \"2020-04-11\": 248, \"2020-04-12\": 273, \"2020-04-13\": 223, \"2020-04-14\": 92, \"2020-04-15\": 385, \"2020-04-16\": 240, \"2020-04-17\": 246, \"2020-04-18\": 330, \"2020-04-19\": 166, \"2020-04-20\": 177, \"2020-04-21\": 142, \"2020-04-22\": 384, \"2020-04-23\": 90, \"2020-04-24\": 293, \"tests informados\": 3844, \"tasa de tests\": 196.10543983430009}, {\"Region\": \"Metropolitana\", \"Codigo region\": 13, \"Poblacion\": 8125072, \"2020-04-09\": 5383, \"2020-04-10\": 3158, \"2020-04-11\": 2105, \"2020-04-12\": 3861, \"2020-04-13\": 1850, \"2020-04-14\": 1656, \"2020-04-15\": 2694, \"2020-04-16\": 4356, \"2020-04-17\": 3670, \"2020-04-18\": 2744, \"2020-04-19\": 3475, \"2020-04-20\": 3276, \"2020-04-21\": 2126, \"2020-04-22\": 3917, \"2020-04-23\": 3712, \"2020-04-24\": 4376, \"tests informados\": 52372, \"tasa de tests\": 644.5727496322494}, {\"Region\": \"O\\u2019Higgins\", \"Codigo region\": 6, \"Poblacion\": 991063, \"2020-04-09\": 68, \"2020-04-10\": 0, \"2020-04-11\": 74, \"2020-04-12\": 0, \"2020-04-13\": 74, \"2020-04-14\": 30, \"2020-04-15\": 30, \"2020-04-16\": 58, \"2020-04-17\": 50, \"2020-04-18\": 0, \"2020-04-19\": 0, \"2020-04-20\": 72, \"2020-04-21\": 65, \"2020-04-22\": 0, \"2020-04-23\": 86, \"2020-04-24\": 72, \"tests informados\": 685, \"tasa de tests\": 69.11770492895003}, {\"Region\": \"Maule\", \"Codigo region\": 7, \"Poblacion\": 1131939, \"2020-04-09\": 397, \"2020-04-10\": 219, \"2020-04-11\": 0, \"2020-04-12\": 341, \"2020-04-13\": 113, \"2020-04-14\": 160, \"2020-04-15\": 0, \"2020-04-16\": 469, \"2020-04-17\": 367, \"2020-04-18\": 176, \"2020-04-19\": 0, \"2020-04-20\": 328, \"2020-04-21\": 188, \"2020-04-22\": 724, \"2020-04-23\": 663, \"2020-04-24\": 606, \"tests informados\": 4758, \"tasa de tests\": 420.3406720680178}, {\"Region\": \"\\u00d1uble\", \"Codigo region\": 16, \"Poblacion\": 511551, \"2020-04-09\": 364, \"2020-04-10\": 0, \"2020-04-11\": 259, \"2020-04-12\": 189, \"2020-04-13\": 65, \"2020-04-14\": 0, \"2020-04-15\": 0, \"2020-04-16\": 110, \"2020-04-17\": 159, \"2020-04-18\": 76, \"2020-04-19\": 127, \"2020-04-20\": 149, \"2020-04-21\": 73, \"2020-04-22\": 221, \"2020-04-23\": 189, \"2020-04-24\": 0, \"tests informados\": 1997, \"tasa de tests\": 390.38140869629814}, {\"Region\": \"Biob\\u00edo\", \"Codigo region\": 8, \"Poblacion\": 1663696, \"2020-04-09\": 592, \"2020-04-10\": 149, \"2020-04-11\": 281, \"2020-04-12\": 469, \"2020-04-13\": 0, \"2020-04-14\": 218, \"2020-04-15\": 311, \"2020-04-16\": 408, \"2020-04-17\": 80, \"2020-04-18\": 751, \"2020-04-19\": 358, \"2020-04-20\": 214, \"2020-04-21\": 216, \"2020-04-22\": 340, \"2020-04-23\": 468, \"2020-04-24\": 340, \"tests informados\": 5203, \"tasa de tests\": 312.73742318308155}, {\"Region\": \"Araucan\\u00eda\", \"Codigo region\": 9, \"Poblacion\": 1014343, \"2020-04-09\": 124, \"2020-04-10\": 148, \"2020-04-11\": 126, \"2020-04-12\": 184, \"2020-04-13\": 232, \"2020-04-14\": 148, \"2020-04-15\": 218, \"2020-04-16\": 246, \"2020-04-17\": 220, \"2020-04-18\": 169, \"2020-04-19\": 122, \"2020-04-20\": 376, \"2020-04-21\": 206, \"2020-04-22\": 176, \"2020-04-23\": 370, \"2020-04-24\": 306, \"tests informados\": 3380, \"tasa de tests\": 333.22061669474726}, {\"Region\": \"Los R\\u00edos\", \"Codigo region\": 14, \"Poblacion\": 405835, \"2020-04-09\": 0, \"2020-04-10\": 91, \"2020-04-11\": 0, \"2020-04-12\": 0, \"2020-04-13\": 0, \"2020-04-14\": 67, \"2020-04-15\": 67, \"2020-04-16\": 49, \"2020-04-17\": 71, \"2020-04-18\": 91, \"2020-04-19\": 0, \"2020-04-20\": 121, \"2020-04-21\": 58, \"2020-04-22\": 54, \"2020-04-23\": 67, \"2020-04-24\": 87, \"tests informados\": 837, \"tasa de tests\": 206.24145280717534}, {\"Region\": \"Los Lagos\", \"Codigo region\": 10, \"Poblacion\": 891440, \"2020-04-09\": 341, \"2020-04-10\": 199, \"2020-04-11\": 178, \"2020-04-12\": 225, \"2020-04-13\": 39, \"2020-04-14\": 131, \"2020-04-15\": 137, \"2020-04-16\": 139, \"2020-04-17\": 198, \"2020-04-18\": 315, \"2020-04-19\": 96, \"2020-04-20\": 139, \"2020-04-21\": 149, \"2020-04-22\": 209, \"2020-04-23\": 335, \"2020-04-24\": 324, \"tests informados\": 3164, \"tasa de tests\": 354.9313470340124}, {\"Region\": \"Ays\\u00e9n\", \"Codigo region\": 11, \"Poblacion\": 107297, \"2020-04-09\": 10, \"2020-04-10\": 0, \"2020-04-11\": 0, \"2020-04-12\": 7, \"2020-04-13\": 0, \"2020-04-14\": 12, \"2020-04-15\": 8, \"2020-04-16\": 16, \"2020-04-17\": 8, \"2020-04-18\": 8, \"2020-04-19\": 6, \"2020-04-20\": 0, \"2020-04-21\": 4, \"2020-04-22\": 4, \"2020-04-23\": 21, \"2020-04-24\": 48, \"tests informados\": 163, \"tasa de tests\": 151.91477860518}, {\"Region\": \"Magallanes\", \"Codigo region\": 12, \"Poblacion\": 178362, \"2020-04-09\": 73, \"2020-04-10\": 24, \"2020-04-11\": 46, \"2020-04-12\": 45, \"2020-04-13\": 45, \"2020-04-14\": 35, \"2020-04-15\": 63, \"2020-04-16\": 86, \"2020-04-17\": 69, \"2020-04-18\": 48, \"2020-04-19\": 93, \"2020-04-20\": 48, \"2020-04-21\": 41, \"2020-04-22\": 49, \"2020-04-23\": 0, \"2020-04-24\": 93, \"tests informados\": 870, \"tasa de tests\": 487.7720590708783}]}}, {\"mode\": \"vega-lite\"});\n",
       "</script>"
      ],
      "text/plain": [
       "alt.LayerChart(...)"
      ]
     },
     "execution_count": 95,
     "metadata": {},
     "output_type": "execute_result"
    }
   ],
   "source": [
    "#hide_input\n",
    "bars = alt.Chart(tests_raw.drop('Total').reset_index()).mark_bar().encode(\n",
    "    x = alt.X('tests informados:Q', axis=alt.Axis(title='Exámenes informados')),\n",
    "    y = alt.Y('Region:N', sort='-x'),\n",
    "    tooltip = 'tests informados'\n",
    ").properties(\n",
    "    title='COVID-19 en Chile: Total de exámenes informados por región desde el 9 de abril'\n",
    ")\n",
    "\n",
    "text = bars.mark_text(\n",
    "    align='left',\n",
    "    baseline='middle',\n",
    "    dx=3  # Nudges text to right so it doesn't appear on top of the bar\n",
    ").encode(\n",
    "    text=alt.Text('tests informados:Q', format='.0f')\n",
    ")\n",
    "\n",
    "(bars + text).properties(width=600, height=300)"
   ]
  },
  {
   "cell_type": "markdown",
   "metadata": {},
   "source": [
    "Fuente: [Ministerio de Ciencia](https://github.com/MinCiencia/Datos-COVID19)"
   ]
  },
  {
   "cell_type": "markdown",
   "metadata": {},
   "source": [
    "# Exámenes informados por región por cada 100.000 habitantes desde el 9 de abril\n",
    "Nota: sólo se dispone de los datos de exámenes informados por región desde el 9 de abril"
   ]
  },
  {
   "cell_type": "code",
   "execution_count": 96,
   "metadata": {
    "scrolled": true
   },
   "outputs": [
    {
     "data": {
      "text/html": [
       "\n",
       "<div id=\"altair-viz-050c6ff0a58848e79308e786d66d7ce9\"></div>\n",
       "<script type=\"text/javascript\">\n",
       "  (function(spec, embedOpt){\n",
       "    let outputDiv = document.currentScript.previousElementSibling;\n",
       "    if (outputDiv.id !== \"altair-viz-050c6ff0a58848e79308e786d66d7ce9\") {\n",
       "      outputDiv = document.getElementById(\"altair-viz-050c6ff0a58848e79308e786d66d7ce9\");\n",
       "    }\n",
       "    const paths = {\n",
       "      \"vega\": \"https://cdn.jsdelivr.net/npm//vega@5?noext\",\n",
       "      \"vega-lib\": \"https://cdn.jsdelivr.net/npm//vega-lib?noext\",\n",
       "      \"vega-lite\": \"https://cdn.jsdelivr.net/npm//vega-lite@4.8.1?noext\",\n",
       "      \"vega-embed\": \"https://cdn.jsdelivr.net/npm//vega-embed@6?noext\",\n",
       "    };\n",
       "\n",
       "    function loadScript(lib) {\n",
       "      return new Promise(function(resolve, reject) {\n",
       "        var s = document.createElement('script');\n",
       "        s.src = paths[lib];\n",
       "        s.async = true;\n",
       "        s.onload = () => resolve(paths[lib]);\n",
       "        s.onerror = () => reject(`Error loading script: ${paths[lib]}`);\n",
       "        document.getElementsByTagName(\"head\")[0].appendChild(s);\n",
       "      });\n",
       "    }\n",
       "\n",
       "    function showError(err) {\n",
       "      outputDiv.innerHTML = `<div class=\"error\" style=\"color:red;\">${err}</div>`;\n",
       "      throw err;\n",
       "    }\n",
       "\n",
       "    function displayChart(vegaEmbed) {\n",
       "      vegaEmbed(outputDiv, spec, embedOpt)\n",
       "        .catch(err => showError(`Javascript Error: ${err.message}<br>This usually means there's a typo in your chart specification. See the javascript console for the full traceback.`));\n",
       "    }\n",
       "\n",
       "    if(typeof define === \"function\" && define.amd) {\n",
       "      requirejs.config({paths});\n",
       "      require([\"vega-embed\"], displayChart, err => showError(`Error loading script: ${err.message}`));\n",
       "    } else if (typeof vegaEmbed === \"function\") {\n",
       "      displayChart(vegaEmbed);\n",
       "    } else {\n",
       "      loadScript(\"vega\")\n",
       "        .then(() => loadScript(\"vega-lite\"))\n",
       "        .then(() => loadScript(\"vega-embed\"))\n",
       "        .catch(showError)\n",
       "        .then(() => displayChart(vegaEmbed));\n",
       "    }\n",
       "  })({\"config\": {\"view\": {\"continuousWidth\": 400, \"continuousHeight\": 300}}, \"layer\": [{\"mark\": \"bar\", \"encoding\": {\"tooltip\": {\"type\": \"quantitative\", \"field\": \"tasa de tests\"}, \"x\": {\"type\": \"quantitative\", \"axis\": {\"title\": \"Ex\\u00e1menes informados\"}, \"field\": \"tasa de tests\"}, \"y\": {\"type\": \"nominal\", \"field\": \"Region\", \"sort\": \"-x\"}}, \"title\": \"COVID-19 en Chile: Ex\\u00e1menes informados por regi\\u00f3n por cada 100.000 habitantes desde el 9 de abril\"}, {\"mark\": {\"type\": \"text\", \"align\": \"left\", \"baseline\": \"middle\", \"dx\": 3}, \"encoding\": {\"text\": {\"type\": \"quantitative\", \"field\": \"tasa de tests\", \"format\": \".1f\"}, \"tooltip\": {\"type\": \"quantitative\", \"field\": \"tasa de tests\"}, \"x\": {\"type\": \"quantitative\", \"axis\": {\"title\": \"Ex\\u00e1menes informados\"}, \"field\": \"tasa de tests\"}, \"y\": {\"type\": \"nominal\", \"field\": \"Region\", \"sort\": \"-x\"}}, \"title\": \"COVID-19 en Chile: Ex\\u00e1menes informados por regi\\u00f3n por cada 100.000 habitantes desde el 9 de abril\"}], \"data\": {\"name\": \"data-c1fdc4077433f91ce52eb104b3307a1f\"}, \"height\": 300, \"width\": 600, \"$schema\": \"https://vega.github.io/schema/vega-lite/v4.8.1.json\", \"datasets\": {\"data-c1fdc4077433f91ce52eb104b3307a1f\": [{\"Region\": \"Arica y Parinacota\", \"Codigo region\": 15, \"Poblacion\": 252110, \"2020-04-09\": 70, \"2020-04-10\": 0, \"2020-04-11\": 0, \"2020-04-12\": 103, \"2020-04-13\": 0, \"2020-04-14\": 93, \"2020-04-15\": 24, \"2020-04-16\": 198, \"2020-04-17\": 131, \"2020-04-18\": 0, \"2020-04-19\": 155, \"2020-04-20\": 48, \"2020-04-21\": 52, \"2020-04-22\": 0, \"2020-04-23\": 169, \"2020-04-24\": 85, \"tests informados\": 1143, \"tasa de tests\": 453.37352742850345}, {\"Region\": \"Tarapac\\u00e1\", \"Codigo region\": 1, \"Poblacion\": 382773, \"2020-04-09\": 0, \"2020-04-10\": 0, \"2020-04-11\": 0, \"2020-04-12\": 0, \"2020-04-13\": 0, \"2020-04-14\": 0, \"2020-04-15\": 0, \"2020-04-16\": 30, \"2020-04-17\": 0, \"2020-04-18\": 60, \"2020-04-19\": 0, \"2020-04-20\": 0, \"2020-04-21\": 30, \"2020-04-22\": 59, \"2020-04-23\": 30, \"2020-04-24\": 203, \"tests informados\": 413, \"tasa de tests\": 107.8968474787929}, {\"Region\": \"Antofagasta\", \"Codigo region\": 2, \"Poblacion\": 691854, \"2020-04-09\": 182, \"2020-04-10\": 128, \"2020-04-11\": 107, \"2020-04-12\": 175, \"2020-04-13\": 103, \"2020-04-14\": 95, \"2020-04-15\": 117, \"2020-04-16\": 117, \"2020-04-17\": 143, \"2020-04-18\": 200, \"2020-04-19\": 129, \"2020-04-20\": 197, \"2020-04-21\": 147, \"2020-04-22\": 152, \"2020-04-23\": 146, \"2020-04-24\": 166, \"tests informados\": 2306, \"tasa de tests\": 333.3073162834933}, {\"Region\": \"Atacama\", \"Codigo region\": 3, \"Poblacion\": 314709, \"2020-04-09\": 57, \"2020-04-10\": 52, \"2020-04-11\": 60, \"2020-04-12\": 25, \"2020-04-13\": 20, \"2020-04-14\": 22, \"2020-04-15\": 25, \"2020-04-16\": 29, \"2020-04-17\": 37, \"2020-04-18\": 50, \"2020-04-19\": 31, \"2020-04-20\": 33, \"2020-04-21\": 33, \"2020-04-22\": 47, \"2020-04-23\": 57, \"2020-04-24\": 77, \"tests informados\": 658, \"tasa de tests\": 209.08204086950167}, {\"Region\": \"Coquimbo\", \"Codigo region\": 4, \"Poblacion\": 836096, \"2020-04-09\": 0, \"2020-04-10\": 0, \"2020-04-11\": 0, \"2020-04-12\": 0, \"2020-04-13\": 0, \"2020-04-14\": 0, \"2020-04-15\": 0, \"2020-04-16\": 0, \"2020-04-17\": 0, \"2020-04-18\": 0, \"2020-04-19\": 0, \"2020-04-20\": 0, \"2020-04-21\": 0, \"2020-04-22\": 29, \"2020-04-23\": 22, \"2020-04-24\": 44, \"tests informados\": 99, \"tasa de tests\": 11.840745560318432}, {\"Region\": \"Valpara\\u00edso\", \"Codigo region\": 5, \"Poblacion\": 1960170, \"2020-04-09\": 301, \"2020-04-10\": 249, \"2020-04-11\": 248, \"2020-04-12\": 273, \"2020-04-13\": 223, \"2020-04-14\": 92, \"2020-04-15\": 385, \"2020-04-16\": 240, \"2020-04-17\": 246, \"2020-04-18\": 330, \"2020-04-19\": 166, \"2020-04-20\": 177, \"2020-04-21\": 142, \"2020-04-22\": 384, \"2020-04-23\": 90, \"2020-04-24\": 293, \"tests informados\": 3844, \"tasa de tests\": 196.10543983430009}, {\"Region\": \"Metropolitana\", \"Codigo region\": 13, \"Poblacion\": 8125072, \"2020-04-09\": 5383, \"2020-04-10\": 3158, \"2020-04-11\": 2105, \"2020-04-12\": 3861, \"2020-04-13\": 1850, \"2020-04-14\": 1656, \"2020-04-15\": 2694, \"2020-04-16\": 4356, \"2020-04-17\": 3670, \"2020-04-18\": 2744, \"2020-04-19\": 3475, \"2020-04-20\": 3276, \"2020-04-21\": 2126, \"2020-04-22\": 3917, \"2020-04-23\": 3712, \"2020-04-24\": 4376, \"tests informados\": 52372, \"tasa de tests\": 644.5727496322494}, {\"Region\": \"O\\u2019Higgins\", \"Codigo region\": 6, \"Poblacion\": 991063, \"2020-04-09\": 68, \"2020-04-10\": 0, \"2020-04-11\": 74, \"2020-04-12\": 0, \"2020-04-13\": 74, \"2020-04-14\": 30, \"2020-04-15\": 30, \"2020-04-16\": 58, \"2020-04-17\": 50, \"2020-04-18\": 0, \"2020-04-19\": 0, \"2020-04-20\": 72, \"2020-04-21\": 65, \"2020-04-22\": 0, \"2020-04-23\": 86, \"2020-04-24\": 72, \"tests informados\": 685, \"tasa de tests\": 69.11770492895003}, {\"Region\": \"Maule\", \"Codigo region\": 7, \"Poblacion\": 1131939, \"2020-04-09\": 397, \"2020-04-10\": 219, \"2020-04-11\": 0, \"2020-04-12\": 341, \"2020-04-13\": 113, \"2020-04-14\": 160, \"2020-04-15\": 0, \"2020-04-16\": 469, \"2020-04-17\": 367, \"2020-04-18\": 176, \"2020-04-19\": 0, \"2020-04-20\": 328, \"2020-04-21\": 188, \"2020-04-22\": 724, \"2020-04-23\": 663, \"2020-04-24\": 606, \"tests informados\": 4758, \"tasa de tests\": 420.3406720680178}, {\"Region\": \"\\u00d1uble\", \"Codigo region\": 16, \"Poblacion\": 511551, \"2020-04-09\": 364, \"2020-04-10\": 0, \"2020-04-11\": 259, \"2020-04-12\": 189, \"2020-04-13\": 65, \"2020-04-14\": 0, \"2020-04-15\": 0, \"2020-04-16\": 110, \"2020-04-17\": 159, \"2020-04-18\": 76, \"2020-04-19\": 127, \"2020-04-20\": 149, \"2020-04-21\": 73, \"2020-04-22\": 221, \"2020-04-23\": 189, \"2020-04-24\": 0, \"tests informados\": 1997, \"tasa de tests\": 390.38140869629814}, {\"Region\": \"Biob\\u00edo\", \"Codigo region\": 8, \"Poblacion\": 1663696, \"2020-04-09\": 592, \"2020-04-10\": 149, \"2020-04-11\": 281, \"2020-04-12\": 469, \"2020-04-13\": 0, \"2020-04-14\": 218, \"2020-04-15\": 311, \"2020-04-16\": 408, \"2020-04-17\": 80, \"2020-04-18\": 751, \"2020-04-19\": 358, \"2020-04-20\": 214, \"2020-04-21\": 216, \"2020-04-22\": 340, \"2020-04-23\": 468, \"2020-04-24\": 340, \"tests informados\": 5203, \"tasa de tests\": 312.73742318308155}, {\"Region\": \"Araucan\\u00eda\", \"Codigo region\": 9, \"Poblacion\": 1014343, \"2020-04-09\": 124, \"2020-04-10\": 148, \"2020-04-11\": 126, \"2020-04-12\": 184, \"2020-04-13\": 232, \"2020-04-14\": 148, \"2020-04-15\": 218, \"2020-04-16\": 246, \"2020-04-17\": 220, \"2020-04-18\": 169, \"2020-04-19\": 122, \"2020-04-20\": 376, \"2020-04-21\": 206, \"2020-04-22\": 176, \"2020-04-23\": 370, \"2020-04-24\": 306, \"tests informados\": 3380, \"tasa de tests\": 333.22061669474726}, {\"Region\": \"Los R\\u00edos\", \"Codigo region\": 14, \"Poblacion\": 405835, \"2020-04-09\": 0, \"2020-04-10\": 91, \"2020-04-11\": 0, \"2020-04-12\": 0, \"2020-04-13\": 0, \"2020-04-14\": 67, \"2020-04-15\": 67, \"2020-04-16\": 49, \"2020-04-17\": 71, \"2020-04-18\": 91, \"2020-04-19\": 0, \"2020-04-20\": 121, \"2020-04-21\": 58, \"2020-04-22\": 54, \"2020-04-23\": 67, \"2020-04-24\": 87, \"tests informados\": 837, \"tasa de tests\": 206.24145280717534}, {\"Region\": \"Los Lagos\", \"Codigo region\": 10, \"Poblacion\": 891440, \"2020-04-09\": 341, \"2020-04-10\": 199, \"2020-04-11\": 178, \"2020-04-12\": 225, \"2020-04-13\": 39, \"2020-04-14\": 131, \"2020-04-15\": 137, \"2020-04-16\": 139, \"2020-04-17\": 198, \"2020-04-18\": 315, \"2020-04-19\": 96, \"2020-04-20\": 139, \"2020-04-21\": 149, \"2020-04-22\": 209, \"2020-04-23\": 335, \"2020-04-24\": 324, \"tests informados\": 3164, \"tasa de tests\": 354.9313470340124}, {\"Region\": \"Ays\\u00e9n\", \"Codigo region\": 11, \"Poblacion\": 107297, \"2020-04-09\": 10, \"2020-04-10\": 0, \"2020-04-11\": 0, \"2020-04-12\": 7, \"2020-04-13\": 0, \"2020-04-14\": 12, \"2020-04-15\": 8, \"2020-04-16\": 16, \"2020-04-17\": 8, \"2020-04-18\": 8, \"2020-04-19\": 6, \"2020-04-20\": 0, \"2020-04-21\": 4, \"2020-04-22\": 4, \"2020-04-23\": 21, \"2020-04-24\": 48, \"tests informados\": 163, \"tasa de tests\": 151.91477860518}, {\"Region\": \"Magallanes\", \"Codigo region\": 12, \"Poblacion\": 178362, \"2020-04-09\": 73, \"2020-04-10\": 24, \"2020-04-11\": 46, \"2020-04-12\": 45, \"2020-04-13\": 45, \"2020-04-14\": 35, \"2020-04-15\": 63, \"2020-04-16\": 86, \"2020-04-17\": 69, \"2020-04-18\": 48, \"2020-04-19\": 93, \"2020-04-20\": 48, \"2020-04-21\": 41, \"2020-04-22\": 49, \"2020-04-23\": 0, \"2020-04-24\": 93, \"tests informados\": 870, \"tasa de tests\": 487.7720590708783}]}}, {\"mode\": \"vega-lite\"});\n",
       "</script>"
      ],
      "text/plain": [
       "alt.LayerChart(...)"
      ]
     },
     "execution_count": 96,
     "metadata": {},
     "output_type": "execute_result"
    }
   ],
   "source": [
    "#hide_input\n",
    "bars = alt.Chart(tests_raw.drop('Total').reset_index()).mark_bar().encode(\n",
    "    x = alt.X('tasa de tests:Q', axis=alt.Axis(title='Exámenes informados')),\n",
    "    y = alt.Y('Region:N', sort='-x'),\n",
    "    tooltip = 'tasa de tests'\n",
    ").properties(\n",
    "    title='COVID-19 en Chile: Exámenes informados por región por cada 100.000 habitantes desde el 9 de abril'\n",
    ")\n",
    "\n",
    "text = bars.mark_text(\n",
    "    align='left',\n",
    "    baseline='middle',\n",
    "    dx=3  # Nudges text to right so it doesn't appear on top of the bar\n",
    ").encode(\n",
    "    text=alt.Text('tasa de tests:Q', format='.1f')\n",
    ")\n",
    "\n",
    "bars.configure_title(\n",
    "    fontSize=20,\n",
    "    font='Courier',\n",
    "    anchor='start',\n",
    "    color='gray'\n",
    ")\n",
    "\n",
    "(bars + text).properties(width=600, height=300)"
   ]
  },
  {
   "cell_type": "markdown",
   "metadata": {},
   "source": [
    "Fuente: [Ministerio de Ciencia](https://github.com/MinCiencia/Datos-COVID19)"
   ]
  },
  {
   "cell_type": "markdown",
   "metadata": {},
   "source": [
    "# Exámenes, casos confirmados, y fallecimientos confirmados por región  desde el 9 de abril\n",
    "Nota: sólo se dispone de los datos de exámenes informados por región desde el 9 de abril"
   ]
  },
  {
   "cell_type": "markdown",
   "metadata": {},
   "source": [
    "> <span style=\"color:green\">Exámenes</span>, <span style=\"color:blue\">casos confirmados</span>, y <span style=\"color:red\">fallecimientos confirmados</span> por región desde el 9 de abril."
   ]
  },
  {
   "cell_type": "code",
   "execution_count": 97,
   "metadata": {},
   "outputs": [],
   "source": [
    "#hide\n",
    "data = data.sort_values(by=\"Tests\", ascending=False)\n",
    "data_per_capita = data_per_capita.sort_values(by=\"Tests\", ascending=False)"
   ]
  },
  {
   "cell_type": "code",
   "execution_count": 98,
   "metadata": {
    "scrolled": true
   },
   "outputs": [],
   "source": [
    "#hide\n",
    "data[\"codigo\"]=np.arange(len(data))\n",
    "data_per_capita[\"codigo\"]=np.arange(len(data))"
   ]
  },
  {
   "cell_type": "code",
   "execution_count": 100,
   "metadata": {
    "scrolled": false
   },
   "outputs": [
    {
     "data": {
      "text/html": [
       "\n",
       "<div id=\"altair-viz-dc3073cf14fb496e8b17fb84a7c551e6\"></div>\n",
       "<script type=\"text/javascript\">\n",
       "  (function(spec, embedOpt){\n",
       "    let outputDiv = document.currentScript.previousElementSibling;\n",
       "    if (outputDiv.id !== \"altair-viz-dc3073cf14fb496e8b17fb84a7c551e6\") {\n",
       "      outputDiv = document.getElementById(\"altair-viz-dc3073cf14fb496e8b17fb84a7c551e6\");\n",
       "    }\n",
       "    const paths = {\n",
       "      \"vega\": \"https://cdn.jsdelivr.net/npm//vega@5?noext\",\n",
       "      \"vega-lib\": \"https://cdn.jsdelivr.net/npm//vega-lib?noext\",\n",
       "      \"vega-lite\": \"https://cdn.jsdelivr.net/npm//vega-lite@4.8.1?noext\",\n",
       "      \"vega-embed\": \"https://cdn.jsdelivr.net/npm//vega-embed@6?noext\",\n",
       "    };\n",
       "\n",
       "    function loadScript(lib) {\n",
       "      return new Promise(function(resolve, reject) {\n",
       "        var s = document.createElement('script');\n",
       "        s.src = paths[lib];\n",
       "        s.async = true;\n",
       "        s.onload = () => resolve(paths[lib]);\n",
       "        s.onerror = () => reject(`Error loading script: ${paths[lib]}`);\n",
       "        document.getElementsByTagName(\"head\")[0].appendChild(s);\n",
       "      });\n",
       "    }\n",
       "\n",
       "    function showError(err) {\n",
       "      outputDiv.innerHTML = `<div class=\"error\" style=\"color:red;\">${err}</div>`;\n",
       "      throw err;\n",
       "    }\n",
       "\n",
       "    function displayChart(vegaEmbed) {\n",
       "      vegaEmbed(outputDiv, spec, embedOpt)\n",
       "        .catch(err => showError(`Javascript Error: ${err.message}<br>This usually means there's a typo in your chart specification. See the javascript console for the full traceback.`));\n",
       "    }\n",
       "\n",
       "    if(typeof define === \"function\" && define.amd) {\n",
       "      requirejs.config({paths});\n",
       "      require([\"vega-embed\"], displayChart, err => showError(`Error loading script: ${err.message}`));\n",
       "    } else if (typeof vegaEmbed === \"function\") {\n",
       "      displayChart(vegaEmbed);\n",
       "    } else {\n",
       "      loadScript(\"vega\")\n",
       "        .then(() => loadScript(\"vega-lite\"))\n",
       "        .then(() => loadScript(\"vega-embed\"))\n",
       "        .catch(showError)\n",
       "        .then(() => displayChart(vegaEmbed));\n",
       "    }\n",
       "  })({\"config\": {\"view\": {\"continuousWidth\": 400, \"continuousHeight\": 300}}, \"layer\": [{\"data\": {\"name\": \"data-dffcf832645d0ca2b6751fdfebfe1541\"}, \"mark\": {\"type\": \"bar\", \"color\": \"green\", \"opacity\": 0.4}, \"encoding\": {\"tooltip\": [{\"type\": \"nominal\", \"field\": \"Region\"}, {\"type\": \"quantitative\", \"field\": \"Tests\"}, {\"type\": \"quantitative\", \"field\": \"Casos\"}, {\"type\": \"quantitative\", \"field\": \"Fallecidos\"}], \"x\": {\"type\": \"quantitative\", \"axis\": {\"title\": \"Ex\\u00e1menes informados, casos confirmados, fallecimientos confirmados\"}, \"field\": \"Tests\"}, \"y\": {\"type\": \"nominal\", \"field\": \"Region\", \"sort\": {\"field\": \"codigo\", \"order\": \"ascending\"}}}, \"title\": \"COVID-19 en Chile: Ex\\u00e1menes informados, casos confirmados y fallecidos confirmados por regi\\u00f3n\", \"width\": {\"step\": 40}}, {\"data\": {\"name\": \"data-dffcf832645d0ca2b6751fdfebfe1541\"}, \"mark\": {\"type\": \"tick\", \"color\": \"black\", \"size\": 22.0, \"thickness\": 2}, \"encoding\": {\"x\": {\"type\": \"quantitative\", \"field\": \"Tests\"}, \"y\": {\"type\": \"nominal\", \"field\": \"Region\", \"sort\": {\"field\": \"codigo\", \"order\": \"ascending\"}}}}, {\"data\": {\"name\": \"data-dffcf832645d0ca2b6751fdfebfe1541\"}, \"mark\": {\"type\": \"tick\", \"color\": \"blue\", \"size\": 22.0, \"thickness\": 2}, \"encoding\": {\"tooltip\": {\"type\": \"quantitative\", \"field\": \"Casos\"}, \"x\": {\"type\": \"quantitative\", \"field\": \"Casos\"}, \"y\": {\"type\": \"nominal\", \"field\": \"Region\", \"sort\": {\"field\": \"codigo\", \"order\": \"ascending\"}}}}, {\"data\": {\"name\": \"data-dffcf832645d0ca2b6751fdfebfe1541\"}, \"mark\": {\"type\": \"tick\", \"color\": \"red\", \"size\": 22.0, \"thickness\": 2}, \"encoding\": {\"tooltip\": {\"type\": \"quantitative\", \"field\": \"Fallecidos\"}, \"x\": {\"type\": \"quantitative\", \"field\": \"Fallecidos\"}, \"y\": {\"type\": \"nominal\", \"field\": \"Region\", \"sort\": {\"field\": \"codigo\", \"order\": \"ascending\"}}}}], \"height\": 400, \"width\": 600, \"$schema\": \"https://vega.github.io/schema/vega-lite/v4.8.1.json\", \"datasets\": {\"data-dffcf832645d0ca2b6751fdfebfe1541\": [{\"Region\": \"Metropolitana\", \"Fallecidos\": 72, \"Casos\": 4213, \"Tests\": 52372, \"codigo\": 1}, {\"Region\": \"Biobio\", \"Fallecidos\": 3, \"Casos\": 244, \"Tests\": 5203, \"codigo\": 2}, {\"Region\": \"Maule\", \"Fallecidos\": 8, \"Casos\": 230, \"Tests\": 4758, \"codigo\": 3}, {\"Region\": \"Valparaiso\", \"Fallecidos\": 6, \"Casos\": 211, \"Tests\": 3844, \"codigo\": 4}, {\"Region\": \"Araucania\", \"Fallecidos\": 11, \"Casos\": 515, \"Tests\": 3380, \"codigo\": 5}, {\"Region\": \"Los  Lagos\", \"Fallecidos\": 6, \"Casos\": 135, \"Tests\": 3164, \"codigo\": 6}, {\"Region\": \"Antofagasta\", \"Fallecidos\": 1, \"Casos\": 289, \"Tests\": 2306, \"codigo\": 7}, {\"Region\": \"Nuble\", \"Fallecidos\": 9, \"Casos\": 154, \"Tests\": 1997, \"codigo\": 8}, {\"Region\": \"Arica  y  Parinacota\", \"Fallecidos\": 3, \"Casos\": 176, \"Tests\": 1143, \"codigo\": 9}, {\"Region\": \"Magallanes\", \"Fallecidos\": 5, \"Casos\": 358, \"Tests\": 870, \"codigo\": 10}, {\"Region\": \"Los  Rios\", \"Fallecidos\": 1, \"Casos\": 60, \"Tests\": 837, \"codigo\": 11}, {\"Region\": \"O'Higgins\", \"Fallecidos\": 1, \"Casos\": 38, \"Tests\": 685, \"codigo\": 12}, {\"Region\": \"Atacama\", \"Fallecidos\": 0, \"Casos\": 13, \"Tests\": 658, \"codigo\": 13}, {\"Region\": \"Tarapaca\", \"Fallecidos\": 0, \"Casos\": 108, \"Tests\": 413, \"codigo\": 14}, {\"Region\": \"Aysen\", \"Fallecidos\": 0, \"Casos\": 0, \"Tests\": 163, \"codigo\": 15}, {\"Region\": \"Coquimbo\", \"Fallecidos\": 0, \"Casos\": 16, \"Tests\": 99, \"codigo\": 16}]}}, {\"mode\": \"vega-lite\"});\n",
       "</script>"
      ],
      "text/plain": [
       "alt.LayerChart(...)"
      ]
     },
     "execution_count": 100,
     "metadata": {},
     "output_type": "execute_result"
    }
   ],
   "source": [
    "#hide_input\n",
    "bar = alt.Chart(data.drop(\"Total\").reset_index()).mark_bar(opacity=0.4, color='green').encode(\n",
    "    x=alt.X('Tests:Q', axis=alt.Axis(title='Exámenes informados, casos confirmados, fallecimientos confirmados')),\n",
    "    y=alt.Y('Region:N', sort=alt.EncodingSortField(field='codigo', order='ascending')),\n",
    "    tooltip = ['Region', 'Tests', 'Casos', 'Fallecidos'],\n",
    ").properties(\n",
    "    title='COVID-19 en Chile: Exámenes informados, casos confirmados y fallecidos confirmados por región',\n",
    "    width=alt.Step(40)  # controls width of bar.\n",
    ")\n",
    "\n",
    "tick0 = alt.Chart(data.drop(\"Total\").reset_index()).mark_tick(\n",
    "    color='black',\n",
    "    thickness=2,\n",
    "    size=40 * 0.55,  # controls width of tick.\n",
    ").encode(\n",
    "    x='Tests:Q',\n",
    "    y=alt.Y('Region:N', sort=alt.EncodingSortField(field='codigo', order='ascending'))\n",
    ")\n",
    "\n",
    "tick1 = alt.Chart(data.drop(\"Total\").reset_index()).mark_tick(\n",
    "    color='blue',\n",
    "    thickness=2,\n",
    "    size=40 * 0.55,  # controls width of tick.\n",
    ").encode(\n",
    "    x='Casos:Q',\n",
    "    y=alt.Y('Region:N', sort=alt.EncodingSortField(field='codigo', order='ascending')),\n",
    "    tooltip = 'Casos'\n",
    ")\n",
    "\n",
    "tick2 = alt.Chart(data.drop(\"Total\").reset_index()).mark_tick(\n",
    "    color='red',\n",
    "    thickness=2,\n",
    "    size=40 * 0.55,  # controls width of tick.\n",
    ").encode(\n",
    "    x='Fallecidos:Q',\n",
    "    y=alt.Y('Region:N', sort=alt.EncodingSortField(field='codigo', order='ascending')),\n",
    "    tooltip = 'Fallecidos'\n",
    ")\n",
    "\n",
    "(bar + tick0 + tick1 + tick2).properties(width=600, height=400)"
   ]
  },
  {
   "cell_type": "markdown",
   "metadata": {},
   "source": [
    "Fuente: [Ministerio de Ciencia](https://github.com/MinCiencia/Datos-COVID19)"
   ]
  },
  {
   "cell_type": "markdown",
   "metadata": {},
   "source": [
    "# Exámenes, casos confirmados, y fallecimientos confirmados por región por cada 100.000 habitantes desde el 9 de abril\n",
    "Nota: sólo se dispone de los datos de exámenes informados por región desde el 9 de abril"
   ]
  },
  {
   "cell_type": "markdown",
   "metadata": {},
   "source": [
    "> <span style=\"color:green\">Exámenes</span>, <span style=\"color:blue\">casos confirmados</span>, y <span style=\"color:red\">fallecimientos confirmados</span> por región por cada 100.000 habitantes desde el 9 de abril"
   ]
  },
  {
   "cell_type": "code",
   "execution_count": 101,
   "metadata": {
    "scrolled": true
   },
   "outputs": [
    {
     "data": {
      "text/html": [
       "\n",
       "<div id=\"altair-viz-c13241c05e214b95b9ae3f1022f1c967\"></div>\n",
       "<script type=\"text/javascript\">\n",
       "  (function(spec, embedOpt){\n",
       "    let outputDiv = document.currentScript.previousElementSibling;\n",
       "    if (outputDiv.id !== \"altair-viz-c13241c05e214b95b9ae3f1022f1c967\") {\n",
       "      outputDiv = document.getElementById(\"altair-viz-c13241c05e214b95b9ae3f1022f1c967\");\n",
       "    }\n",
       "    const paths = {\n",
       "      \"vega\": \"https://cdn.jsdelivr.net/npm//vega@5?noext\",\n",
       "      \"vega-lib\": \"https://cdn.jsdelivr.net/npm//vega-lib?noext\",\n",
       "      \"vega-lite\": \"https://cdn.jsdelivr.net/npm//vega-lite@4.8.1?noext\",\n",
       "      \"vega-embed\": \"https://cdn.jsdelivr.net/npm//vega-embed@6?noext\",\n",
       "    };\n",
       "\n",
       "    function loadScript(lib) {\n",
       "      return new Promise(function(resolve, reject) {\n",
       "        var s = document.createElement('script');\n",
       "        s.src = paths[lib];\n",
       "        s.async = true;\n",
       "        s.onload = () => resolve(paths[lib]);\n",
       "        s.onerror = () => reject(`Error loading script: ${paths[lib]}`);\n",
       "        document.getElementsByTagName(\"head\")[0].appendChild(s);\n",
       "      });\n",
       "    }\n",
       "\n",
       "    function showError(err) {\n",
       "      outputDiv.innerHTML = `<div class=\"error\" style=\"color:red;\">${err}</div>`;\n",
       "      throw err;\n",
       "    }\n",
       "\n",
       "    function displayChart(vegaEmbed) {\n",
       "      vegaEmbed(outputDiv, spec, embedOpt)\n",
       "        .catch(err => showError(`Javascript Error: ${err.message}<br>This usually means there's a typo in your chart specification. See the javascript console for the full traceback.`));\n",
       "    }\n",
       "\n",
       "    if(typeof define === \"function\" && define.amd) {\n",
       "      requirejs.config({paths});\n",
       "      require([\"vega-embed\"], displayChart, err => showError(`Error loading script: ${err.message}`));\n",
       "    } else if (typeof vegaEmbed === \"function\") {\n",
       "      displayChart(vegaEmbed);\n",
       "    } else {\n",
       "      loadScript(\"vega\")\n",
       "        .then(() => loadScript(\"vega-lite\"))\n",
       "        .then(() => loadScript(\"vega-embed\"))\n",
       "        .catch(showError)\n",
       "        .then(() => displayChart(vegaEmbed));\n",
       "    }\n",
       "  })({\"config\": {\"view\": {\"continuousWidth\": 400, \"continuousHeight\": 300}}, \"layer\": [{\"data\": {\"name\": \"data-db8e3c639f159bc50ac35b48c65ac3cb\"}, \"mark\": {\"type\": \"bar\", \"color\": \"green\", \"opacity\": 0.4}, \"encoding\": {\"tooltip\": [{\"type\": \"nominal\", \"field\": \"Region\"}, {\"type\": \"quantitative\", \"field\": \"Tests\"}, {\"type\": \"quantitative\", \"field\": \"Casos\"}, {\"type\": \"quantitative\", \"field\": \"Fallecidos\"}], \"x\": {\"type\": \"quantitative\", \"axis\": {\"title\": \"Ex\\u00e1menes informados, casos confirmados, fallecimientos confirmados\"}, \"field\": \"Tests\"}, \"y\": {\"type\": \"nominal\", \"field\": \"Region\", \"sort\": {\"field\": \"codigo\", \"order\": \"ascending\"}}}, \"title\": \"COVID-19 en Chile: Ex\\u00e1menes informados, casos confirmados y fallecidos confirmados por regi\\u00f3n por cada 100.000 habitantes\", \"width\": {\"step\": 40}}, {\"data\": {\"name\": \"data-db8e3c639f159bc50ac35b48c65ac3cb\"}, \"mark\": {\"type\": \"tick\", \"color\": \"black\", \"size\": 22.0, \"thickness\": 2}, \"encoding\": {\"tooltip\": {\"type\": \"quantitative\", \"field\": \"Tests\"}, \"x\": {\"type\": \"quantitative\", \"field\": \"Tests\"}, \"y\": {\"type\": \"nominal\", \"field\": \"Region\", \"sort\": {\"field\": \"codigo\", \"order\": \"ascending\"}}}}, {\"data\": {\"name\": \"data-db8e3c639f159bc50ac35b48c65ac3cb\"}, \"mark\": {\"type\": \"tick\", \"color\": \"blue\", \"size\": 22.0, \"thickness\": 2}, \"encoding\": {\"tooltip\": {\"type\": \"quantitative\", \"field\": \"Casos\"}, \"x\": {\"type\": \"quantitative\", \"field\": \"Casos\"}, \"y\": {\"type\": \"nominal\", \"field\": \"Region\", \"sort\": {\"field\": \"codigo\", \"order\": \"ascending\"}}}}, {\"data\": {\"name\": \"data-db8e3c639f159bc50ac35b48c65ac3cb\"}, \"mark\": {\"type\": \"tick\", \"color\": \"red\", \"size\": 22.0, \"thickness\": 2}, \"encoding\": {\"tooltip\": {\"type\": \"quantitative\", \"field\": \"Fallecidos\"}, \"x\": {\"type\": \"quantitative\", \"field\": \"Fallecidos\"}, \"y\": {\"type\": \"nominal\", \"field\": \"Region\", \"sort\": {\"field\": \"codigo\", \"order\": \"ascending\"}}}}], \"height\": 400, \"width\": 600, \"$schema\": \"https://vega.github.io/schema/vega-lite/v4.8.1.json\", \"datasets\": {\"data-db8e3c639f159bc50ac35b48c65ac3cb\": [{\"Region\": \"Metropolitana\", \"Fallecidos\": 0.8861459935370419, \"Casos\": 51.85184820516052, \"Tests\": 644.5727496322494, \"codigo\": 0}, {\"Region\": \"Magallanes\", \"Fallecidos\": 2.8032876958096455, \"Casos\": 200.71539901997062, \"Tests\": 487.7720590708783, \"codigo\": 1}, {\"Region\": \"Arica  y  Parinacota\", \"Fallecidos\": 1.1899567649042084, \"Casos\": 69.81079687438023, \"Tests\": 453.37352742850345, \"codigo\": 2}, {\"Region\": \"Maule\", \"Fallecidos\": 0.7067518656040652, \"Casos\": 20.319116136116875, \"Tests\": 420.3406720680178, \"codigo\": 4}, {\"Region\": \"Nuble\", \"Fallecidos\": 1.759355372191629, \"Casos\": 30.10452525750121, \"Tests\": 390.38140869629814, \"codigo\": 5}, {\"Region\": \"Los  Lagos\", \"Fallecidos\": 0.6730682939962308, \"Casos\": 15.144036614915194, \"Tests\": 354.9313470340124, \"codigo\": 6}, {\"Region\": \"Antofagasta\", \"Fallecidos\": 0.1445391657777508, \"Casos\": 41.77181890976998, \"Tests\": 333.3073162834933, \"codigo\": 7}, {\"Region\": \"Araucania\", \"Fallecidos\": 1.084445793976988, \"Casos\": 50.77178035437717, \"Tests\": 333.22061669474726, \"codigo\": 8}, {\"Region\": \"Biobio\", \"Fallecidos\": 0.18032140487204393, \"Casos\": 14.666140929592906, \"Tests\": 312.73742318308155, \"codigo\": 9}, {\"Region\": \"Atacama\", \"Fallecidos\": 0.0, \"Casos\": 4.130800199549425, \"Tests\": 209.08204086950167, \"codigo\": 10}, {\"Region\": \"Los  Rios\", \"Fallecidos\": 0.246405558909409, \"Casos\": 14.78433353456454, \"Tests\": 206.24145280717534, \"codigo\": 11}, {\"Region\": \"Valparaiso\", \"Fallecidos\": 0.30609589984542157, \"Casos\": 10.764372477897325, \"Tests\": 196.10543983430009, \"codigo\": 12}, {\"Region\": \"Aysen\", \"Fallecidos\": 0.0, \"Casos\": 0.0, \"Tests\": 151.91477860518, \"codigo\": 13}, {\"Region\": \"Tarapaca\", \"Fallecidos\": 0.0, \"Casos\": 28.215156241427685, \"Tests\": 107.8968474787929, \"codigo\": 14}, {\"Region\": \"O'Higgins\", \"Fallecidos\": 0.10090175902036501, \"Casos\": 3.83426684277387, \"Tests\": 69.11770492895003, \"codigo\": 15}, {\"Region\": \"Coquimbo\", \"Fallecidos\": 0.0, \"Casos\": 1.9136558481322719, \"Tests\": 11.840745560318432, \"codigo\": 16}]}}, {\"mode\": \"vega-lite\"});\n",
       "</script>"
      ],
      "text/plain": [
       "alt.LayerChart(...)"
      ]
     },
     "execution_count": 101,
     "metadata": {},
     "output_type": "execute_result"
    }
   ],
   "source": [
    "#hide_input\n",
    "bar = alt.Chart(data_per_capita.drop(\"Total\").reset_index()).mark_bar(opacity=0.4, color='green').encode(\n",
    "    x=alt.X('Tests:Q', axis=alt.Axis(title='Exámenes informados, casos confirmados, fallecimientos confirmados')),\n",
    "    y=alt.Y('Region:N', sort=alt.EncodingSortField(field='codigo', order='ascending')),\n",
    "    tooltip = ['Region', 'Tests', 'Casos', 'Fallecidos'],\n",
    ").properties(\n",
    "    title='COVID-19 en Chile: Exámenes informados, casos confirmados y fallecidos confirmados por región por cada 100.000 habitantes',\n",
    "    width=alt.Step(40)  # controls width of bar.\n",
    ")\n",
    "\n",
    "tick0 = alt.Chart(data_per_capita.drop(\"Total\").reset_index()).mark_tick(\n",
    "    color='black',\n",
    "    thickness=2,\n",
    "    size=40 * 0.55,  # controls width of tick.\n",
    ").encode(\n",
    "    x='Tests:Q',\n",
    "    y=alt.Y('Region', sort=alt.EncodingSortField(field='codigo', order='ascending')),\n",
    "    tooltip = 'Tests'\n",
    ")\n",
    "\n",
    "tick1 = alt.Chart(data_per_capita.drop(\"Total\").reset_index()).mark_tick(\n",
    "    color='blue',\n",
    "    thickness=2,\n",
    "    size=40 * 0.55,  # controls width of tick.\n",
    ").encode(\n",
    "    x='Casos:Q',\n",
    "    y=alt.Y('Region', sort=alt.EncodingSortField(field='codigo', order='ascending')),\n",
    "    tooltip = 'Casos'\n",
    ")\n",
    "\n",
    "tick2 = alt.Chart(data_per_capita.drop(\"Total\").reset_index()).mark_tick(\n",
    "    color='red',\n",
    "    thickness=2,\n",
    "    size=40 * 0.55,  # controls width of tick.\n",
    ").encode(\n",
    "    x='Fallecidos:Q',\n",
    "    y=alt.Y('Region', sort=alt.EncodingSortField(field='codigo', order='ascending')),\n",
    "    tooltip = 'Fallecidos'\n",
    ")\n",
    "\n",
    "(bar + tick0 + tick1 + tick2).properties(width=600, height=400)"
   ]
  },
  {
   "cell_type": "markdown",
   "metadata": {},
   "source": [
    "Fuente: [Ministerio de Ciencia](https://github.com/MinCiencia/Datos-COVID19)"
   ]
  },
  {
   "cell_type": "markdown",
   "metadata": {},
   "source": [
    "# Exámenes, casos confirmados, y fallecimientos confirmados por país de la OCDE por cada 1 millón de habitantes"
   ]
  },
  {
   "cell_type": "markdown",
   "metadata": {},
   "source": [
    "> <span style=\"color:green\">Exámenes</span>, <span style=\"color:blue\">casos confirmados</span>, y <span style=\"color:red\">fallecimientos confirmados</span> por país por cada 1 millón de habitantes"
   ]
  },
  {
   "cell_type": "code",
   "execution_count": 102,
   "metadata": {},
   "outputs": [],
   "source": [
    "#hide\n",
    "test_data_raw = pd.read_csv('https://raw.githubusercontent.com/owid/covid-19-data/master/public/data/testing/covid-testing-all-observations.csv')"
   ]
  },
  {
   "cell_type": "code",
   "execution_count": 103,
   "metadata": {},
   "outputs": [],
   "source": [
    "#hide\n",
    "list_OCDE = ['Australia', 'Austria', 'Belgium', 'Canada', 'Chile', \n",
    "                  'Czech Republic', 'Denmark', 'Estonia', 'Finland', 'France',\n",
    "                  'Germany', 'Greece', 'Hungary', 'Iceland', 'Ireland',\n",
    "                  'Israel', 'Italy', 'Japan', 'Korea', 'Latvia',\n",
    "                  'Lithuania', 'Luxembourg', 'Mexico', 'Netherlands', 'New Zealand',\n",
    "                  'Norway', 'Poland', 'Portugal', 'Slovakia', 'Slovenia',\n",
    "                  'Spain', 'Sweden', 'Switzerland', 'Turkey', 'United Kingdom']"
   ]
  },
  {
   "cell_type": "code",
   "execution_count": 104,
   "metadata": {},
   "outputs": [],
   "source": [
    "#hide\n",
    "test_data = pd.DataFrame()\n",
    "for country in list_OCDE:\n",
    "    test_data[country] = test_data_raw[test_data_raw['Entity'].str.contains(country)].iloc[-1]"
   ]
  },
  {
   "cell_type": "code",
   "execution_count": 105,
   "metadata": {},
   "outputs": [],
   "source": [
    "#hide\n",
    "# United States tiene dos series. Utilizo la que tiene datos más recientes.\n",
    "test_data['United States'] = test_data_raw[test_data_raw['Entity'].str.contains('United States - inconsistent units')].iloc[-1]"
   ]
  },
  {
   "cell_type": "code",
   "execution_count": 106,
   "metadata": {},
   "outputs": [],
   "source": [
    "#hide\n",
    "test_data = test_data.T"
   ]
  },
  {
   "cell_type": "code",
   "execution_count": 107,
   "metadata": {},
   "outputs": [],
   "source": [
    "#hide\n",
    "data = pd.DataFrame()\n",
    "data['Tests'] = test_data['Cumulative total']"
   ]
  },
  {
   "cell_type": "code",
   "execution_count": 108,
   "metadata": {},
   "outputs": [],
   "source": [
    "#hide\n",
    "list_OCDE = list_OCDE + ['United States']"
   ]
  },
  {
   "cell_type": "code",
   "execution_count": 109,
   "metadata": {},
   "outputs": [],
   "source": [
    "#hide\n",
    "full_data = pd.read_csv(\"https://covid.ourworldindata.org/data/ecdc/full_data.csv\", index_col='date')"
   ]
  },
  {
   "cell_type": "code",
   "execution_count": 110,
   "metadata": {},
   "outputs": [],
   "source": [
    "#hide\n",
    "cases = pd.Series()\n",
    "deaths = pd.Series()\n",
    "for country in list_OCDE:\n",
    "    cases[country] = full_data[full_data['location'].str.contains(country)].iloc[-1]['total_cases']\n",
    "    deaths[country] = full_data[full_data['location'].str.contains(country)].iloc[-1]['total_deaths']"
   ]
  },
  {
   "cell_type": "code",
   "execution_count": 111,
   "metadata": {},
   "outputs": [],
   "source": [
    "#hide\n",
    "data['Cases'] = cases\n",
    "data['Deaths'] = deaths"
   ]
  },
  {
   "cell_type": "code",
   "execution_count": 112,
   "metadata": {},
   "outputs": [],
   "source": [
    "#hide\n",
    "locations_data = pd.read_csv('https://covid.ourworldindata.org/data/ecdc/locations.csv')"
   ]
  },
  {
   "cell_type": "code",
   "execution_count": 113,
   "metadata": {},
   "outputs": [],
   "source": [
    "#hide\n",
    "population = pd.Series()\n",
    "for country in list_OCDE:\n",
    "    population[country] = locations_data[locations_data['location'].str.contains(country)].iloc[-1]['population']"
   ]
  },
  {
   "cell_type": "code",
   "execution_count": 114,
   "metadata": {},
   "outputs": [],
   "source": [
    "#hide\n",
    "data['Population'] = population"
   ]
  },
  {
   "cell_type": "code",
   "execution_count": 115,
   "metadata": {},
   "outputs": [],
   "source": [
    "#hide\n",
    "data['Tests'] = 1000000*data['Tests']/data['Population']\n",
    "data['Cases'] = 1000000*data['Cases']/data['Population']\n",
    "data['Deaths'] = 1000000*data['Deaths']/data['Population']"
   ]
  },
  {
   "cell_type": "code",
   "execution_count": 116,
   "metadata": {},
   "outputs": [],
   "source": [
    "#hide\n",
    "data = data.sort_values(by='Tests', ascending=False)\n",
    "data['codigo'] = np.arange(len(data))"
   ]
  },
  {
   "cell_type": "code",
   "execution_count": 118,
   "metadata": {},
   "outputs": [
    {
     "data": {
      "text/html": [
       "\n",
       "<div id=\"altair-viz-23b6e0f324104a85ad6f5abf42d0e7c3\"></div>\n",
       "<script type=\"text/javascript\">\n",
       "  (function(spec, embedOpt){\n",
       "    let outputDiv = document.currentScript.previousElementSibling;\n",
       "    if (outputDiv.id !== \"altair-viz-23b6e0f324104a85ad6f5abf42d0e7c3\") {\n",
       "      outputDiv = document.getElementById(\"altair-viz-23b6e0f324104a85ad6f5abf42d0e7c3\");\n",
       "    }\n",
       "    const paths = {\n",
       "      \"vega\": \"https://cdn.jsdelivr.net/npm//vega@5?noext\",\n",
       "      \"vega-lib\": \"https://cdn.jsdelivr.net/npm//vega-lib?noext\",\n",
       "      \"vega-lite\": \"https://cdn.jsdelivr.net/npm//vega-lite@4.8.1?noext\",\n",
       "      \"vega-embed\": \"https://cdn.jsdelivr.net/npm//vega-embed@6?noext\",\n",
       "    };\n",
       "\n",
       "    function loadScript(lib) {\n",
       "      return new Promise(function(resolve, reject) {\n",
       "        var s = document.createElement('script');\n",
       "        s.src = paths[lib];\n",
       "        s.async = true;\n",
       "        s.onload = () => resolve(paths[lib]);\n",
       "        s.onerror = () => reject(`Error loading script: ${paths[lib]}`);\n",
       "        document.getElementsByTagName(\"head\")[0].appendChild(s);\n",
       "      });\n",
       "    }\n",
       "\n",
       "    function showError(err) {\n",
       "      outputDiv.innerHTML = `<div class=\"error\" style=\"color:red;\">${err}</div>`;\n",
       "      throw err;\n",
       "    }\n",
       "\n",
       "    function displayChart(vegaEmbed) {\n",
       "      vegaEmbed(outputDiv, spec, embedOpt)\n",
       "        .catch(err => showError(`Javascript Error: ${err.message}<br>This usually means there's a typo in your chart specification. See the javascript console for the full traceback.`));\n",
       "    }\n",
       "\n",
       "    if(typeof define === \"function\" && define.amd) {\n",
       "      requirejs.config({paths});\n",
       "      require([\"vega-embed\"], displayChart, err => showError(`Error loading script: ${err.message}`));\n",
       "    } else if (typeof vegaEmbed === \"function\") {\n",
       "      displayChart(vegaEmbed);\n",
       "    } else {\n",
       "      loadScript(\"vega\")\n",
       "        .then(() => loadScript(\"vega-lite\"))\n",
       "        .then(() => loadScript(\"vega-embed\"))\n",
       "        .catch(showError)\n",
       "        .then(() => displayChart(vegaEmbed));\n",
       "    }\n",
       "  })({\"config\": {\"view\": {\"continuousWidth\": 400, \"continuousHeight\": 300}}, \"layer\": [{\"data\": {\"name\": \"data-96549246f891a8968e73f415ebc1d70a\"}, \"mark\": {\"type\": \"bar\", \"color\": \"green\", \"opacity\": 0.4}, \"encoding\": {\"tooltip\": [{\"type\": \"nominal\", \"field\": \"index\"}, {\"type\": \"quantitative\", \"field\": \"Tests\"}, {\"type\": \"quantitative\", \"field\": \"Cases\"}, {\"type\": \"quantitative\", \"field\": \"Deaths\"}], \"x\": {\"type\": \"quantitative\", \"axis\": {\"title\": \"Ex\\u00e1menes informados, casos confirmados, fallecimientos confirmados por cada 1 mill\\u00f3n de habitantes\"}, \"field\": \"Tests\"}, \"y\": {\"type\": \"nominal\", \"axis\": {\"title\": \"Pa\\u00eds\"}, \"field\": \"index\", \"sort\": {\"field\": \"codigo\", \"order\": \"ascending\"}}}, \"title\": \"COVID-19: Ex\\u00e1menes informados, casos confirmados y fallecidos confirmados por pa\\u00eds por cada 1 mill\\u00f3n de habitantes\", \"width\": {\"step\": 40}}, {\"data\": {\"name\": \"data-96549246f891a8968e73f415ebc1d70a\"}, \"mark\": {\"type\": \"tick\", \"color\": \"black\", \"size\": 17.2, \"thickness\": 2}, \"encoding\": {\"tooltip\": {\"type\": \"quantitative\", \"field\": \"Tests\"}, \"x\": {\"type\": \"quantitative\", \"field\": \"Tests\"}, \"y\": {\"type\": \"nominal\", \"field\": \"index\", \"sort\": {\"field\": \"codigo\", \"order\": \"ascending\"}}}}, {\"data\": {\"name\": \"data-96549246f891a8968e73f415ebc1d70a\"}, \"mark\": {\"type\": \"tick\", \"color\": \"blue\", \"size\": 17.2, \"thickness\": 2}, \"encoding\": {\"tooltip\": {\"type\": \"quantitative\", \"field\": \"Cases\"}, \"x\": {\"type\": \"quantitative\", \"field\": \"Cases\"}, \"y\": {\"type\": \"nominal\", \"field\": \"index\", \"sort\": {\"field\": \"codigo\", \"order\": \"ascending\"}}}}, {\"data\": {\"name\": \"data-96549246f891a8968e73f415ebc1d70a\"}, \"mark\": {\"type\": \"tick\", \"color\": \"red\", \"size\": 17.2, \"thickness\": 2}, \"encoding\": {\"tooltip\": {\"type\": \"quantitative\", \"field\": \"Deaths\"}, \"x\": {\"type\": \"quantitative\", \"field\": \"Deaths\"}, \"y\": {\"type\": \"nominal\", \"field\": \"index\", \"sort\": {\"field\": \"codigo\", \"order\": \"ascending\"}}}}], \"$schema\": \"https://vega.github.io/schema/vega-lite/v4.8.1.json\", \"datasets\": {\"data-96549246f891a8968e73f415ebc1d70a\": [{\"index\": \"Iceland\", \"Tests\": 132586.08058608058, \"Cases\": 5242.490842490843, \"Deaths\": 29.304029304029303, \"Population\": 341250.0, \"codigo\": 0}, {\"index\": \"Luxembourg\", \"Tests\": 60356.94659220162, \"Cases\": 5854.857055222565, \"Deaths\": 132.59294286042916, \"Population\": 625976.0, \"codigo\": 1}, {\"index\": \"Estonia\", \"Tests\": 34888.53324327442, \"Cases\": 1200.1154885005265, \"Deaths\": 33.922862426208354, \"Population\": 1326539.0, \"codigo\": 2}, {\"index\": \"Lithuania\", \"Tests\": 33424.78816555614, \"Cases\": 517.9460976067584, \"Deaths\": 14.693506315085346, \"Population\": 2722291.0, \"codigo\": 3}, {\"index\": \"Israel\", \"Tests\": 30184.826113122217, \"Cases\": 1719.361042827941, \"Deaths\": 22.297855212054337, \"Population\": 8655541.0, \"codigo\": 4}, {\"index\": \"Norway\", \"Tests\": 28614.29170658679, \"Cases\": 1354.855584753457, \"Deaths\": 33.202723656313445, \"Population\": 5421242.0, \"codigo\": 5}, {\"index\": \"Switzerland\", \"Tests\": 27800.187137086814, \"Cases\": 3283.1027319749987, \"Deaths\": 146.39583168199914, \"Population\": 8654618.0, \"codigo\": 6}, {\"index\": \"Italy\", \"Tests\": 27163.518774192537, \"Cases\": 3142.0320272155845, \"Deaths\": 422.5641341839681, \"Population\": 60461828.0, \"codigo\": 7}, {\"index\": \"Germany\", \"Tests\": 24738.259818154896, \"Cases\": 1794.890417251181, \"Deaths\": 63.50858747460507, \"Population\": 83783945.0, \"codigo\": 8}, {\"index\": \"Austria\", \"Tests\": 23614.984899626932, \"Cases\": 1663.816841357257, \"Deaths\": 56.40433469532777, \"Population\": 9006400.0, \"codigo\": 9}, {\"index\": \"Latvia\", \"Tests\": 22839.54740796585, \"Cases\": 412.4690780732923, \"Deaths\": 5.831825011319042, \"Population\": 1886202.0, \"codigo\": 10}, {\"index\": \"Slovenia\", \"Tests\": 22616.4203542973, \"Cases\": 657.0681484531481, \"Deaths\": 38.000280913469034, \"Population\": 2078932.0, \"codigo\": 11}, {\"index\": \"Ireland\", \"Tests\": 22597.936407255384, \"Cases\": 3565.7609184340545, \"Deaths\": 160.80048669487357, \"Population\": 4937796.0, \"codigo\": 12}, {\"index\": \"New Zealand\", \"Tests\": 22445.618036291486, \"Cases\": 231.0133085647251, \"Deaths\": 3.5253377429087314, \"Population\": 4822233.0, \"codigo\": 13}, {\"index\": \"Portugal\", \"Tests\": 21871.374748730155, \"Cases\": 2192.178317960887, \"Deaths\": 80.41811930067226, \"Population\": 10196707.0, \"codigo\": 14}, {\"index\": \"Denmark\", \"Tests\": 21637.535839127184, \"Cases\": 1393.7702114376862, \"Deaths\": 68.02247780335047, \"Population\": 5792203.0, \"codigo\": 15}, {\"index\": \"Spain\", \"Tests\": 19895.93235840705, \"Cases\": 4556.196956362732, \"Deaths\": 473.8980394797255, \"Population\": 46754783.0, \"codigo\": 16}, {\"index\": \"Czech Republic\", \"Tests\": 19014.13224898501, \"Cases\": 671.2122590177106, \"Deaths\": 19.88984573883867, \"Population\": 10708982.0, \"codigo\": 17}, {\"index\": \"Australia\", \"Tests\": 18916.55886551, \"Cases\": 261.45220050242585, \"Deaths\": 2.941190196142484, \"Population\": 25499881.0, \"codigo\": 18}, {\"index\": \"Canada\", \"Tests\": 17047.197381962033, \"Cases\": 1115.4370429861758, \"Deaths\": 56.859495338329495, \"Population\": 37742157.0, \"codigo\": 19}, {\"index\": \"Belgium\", \"Tests\": 16238.329207801191, \"Cases\": 3692.702156827284, \"Deaths\": 559.9840408862555, \"Population\": 11589616.0, \"codigo\": 20}, {\"index\": \"United States\", \"Tests\": 14079.192544946627, \"Cases\": 0.1631406893250615, \"Deaths\": 0.009063371629170083, \"Population\": 331002647.0, \"codigo\": 21}, {\"index\": \"Finland\", \"Tests\": 13450.783815382772, \"Cases\": 773.1849915480268, \"Deaths\": 31.042908157390432, \"Population\": 5540718.0, \"codigo\": 22}, {\"index\": \"Korea\", \"Tests\": 11498.52534221191, \"Cases\": 208.8584091538966, \"Deaths\": 4.681174654177735, \"Population\": 51269183.0, \"codigo\": 23}, {\"index\": \"Slovakia\", \"Tests\": 11220.697030923084, \"Cases\": 242.68986085720258, \"Deaths\": 2.7474323870626707, \"Population\": 5459643.0, \"codigo\": 24}, {\"index\": \"Netherlands\", \"Tests\": 10952.34262897659, \"Cases\": 2085.16281387087, \"Deaths\": 243.77186804944512, \"Population\": 17134873.0, \"codigo\": 25}, {\"index\": \"Turkey\", \"Tests\": 9844.275370036996, \"Cases\": 1206.913991590635, \"Deaths\": 29.535541340527278, \"Population\": 84339067.0, \"codigo\": 26}, {\"index\": \"Sweden\", \"Tests\": 9386.817066976128, \"Cases\": 1659.030801236129, \"Deaths\": 200.11347354808814, \"Population\": 10099270.0, \"codigo\": 27}, {\"index\": \"France\", \"Tests\": 9117.84859990374, \"Cases\": 1850.735410100195, \"Deaths\": 334.8372001187863, \"Population\": 65273512.0, \"codigo\": 28}, {\"index\": \"United Kingdom\", \"Tests\": 9015.569689445854, \"Cases\": 2033.9685924067646, \"Deaths\": 276.02154930197395, \"Population\": 67886004.0, \"codigo\": 29}, {\"index\": \"Chile\", \"Tests\": 7442.218276646798, \"Cases\": 617.904941298769, \"Deaths\": 8.788353381154181, \"Population\": 19116209.0, \"codigo\": 30}, {\"index\": \"Poland\", \"Tests\": 7007.259964268922, \"Cases\": 277.72636409527354, \"Deaths\": 11.995791960732014, \"Population\": 37846605.0, \"codigo\": 31}, {\"index\": \"Hungary\", \"Tests\": 6029.905748756515, \"Cases\": 246.67843297603088, \"Deaths\": 25.878979540078774, \"Population\": 9660350.0, \"codigo\": 32}, {\"index\": \"Greece\", \"Tests\": 5891.458320860984, \"Cases\": 236.303057375879, \"Deaths\": 11.99264399999386, \"Population\": 10423056.0, \"codigo\": 33}, {\"index\": \"Japan\", \"Tests\": 1688.7332502622742, \"Cases\": 96.77690373017879, \"Deaths\": 2.5063953008551203, \"Population\": 126476458.0, \"codigo\": 34}, {\"index\": \"Mexico\", \"Tests\": 305.8260921489825, \"Cases\": 90.22532854782058, \"Deaths\": 8.29114383371617, \"Population\": 128932753.0, \"codigo\": 35}]}}, {\"mode\": \"vega-lite\"});\n",
       "</script>"
      ],
      "text/plain": [
       "alt.LayerChart(...)"
      ]
     },
     "execution_count": 118,
     "metadata": {},
     "output_type": "execute_result"
    }
   ],
   "source": [
    "#hide_input\n",
    "bar = alt.Chart(data.reset_index()).mark_bar(opacity=0.4, color='green').encode(\n",
    "    x=alt.X('Tests:Q', axis=alt.Axis(title='Exámenes informados, casos confirmados, fallecimientos confirmados por cada 1 millón de habitantes')),\n",
    "    y=alt.Y('index:N', axis=alt.Axis(title='País'), sort=alt.EncodingSortField(field='codigo', order='ascending')),\n",
    "    tooltip = ['index', 'Tests', 'Cases', 'Deaths'],\n",
    ").properties(\n",
    "    title='COVID-19: Exámenes informados, casos confirmados y fallecidos confirmados por país por cada 1 millón de habitantes',\n",
    "    width=alt.Step(40)  # controls width of bar.\n",
    ")\n",
    "\n",
    "tick0 = alt.Chart(data.reset_index()).mark_tick(\n",
    "    color='black',\n",
    "    thickness=2,\n",
    "    size=40 * 0.43,  # controls width of tick.\n",
    ").encode(\n",
    "    x='Tests:Q',\n",
    "    y=alt.Y('index:N', sort=alt.EncodingSortField(field='codigo', order='ascending')),\n",
    "    tooltip = 'Tests'\n",
    ")\n",
    "\n",
    "tick1 = alt.Chart(data.reset_index()).mark_tick(\n",
    "    color='blue',\n",
    "    thickness=2,\n",
    "    size=40 * 0.43,  # controls width of tick.\n",
    ").encode(\n",
    "    x='Cases:Q',\n",
    "    y=alt.Y('index:N', sort=alt.EncodingSortField(field='codigo', order='ascending')),\n",
    "    tooltip = 'Cases'\n",
    ")\n",
    "\n",
    "tick2 = alt.Chart(data.reset_index()).mark_tick(\n",
    "    color='red',\n",
    "    thickness=2,\n",
    "    size=40 * 0.43,  # controls width of tick.\n",
    ").encode(\n",
    "    x='Deaths:Q',\n",
    "    y=alt.Y('index:N', sort=alt.EncodingSortField(field='codigo', order='ascending')),\n",
    "    tooltip = 'Deaths'\n",
    ")\n",
    "\n",
    "(bar + tick0 + tick1 + tick2)"
   ]
  },
  {
   "cell_type": "markdown",
   "metadata": {},
   "source": [
    "Fuentes: ECDC, [Our World in Data](https://ourworldindata.org/)"
   ]
  },
  {
   "cell_type": "markdown",
   "metadata": {},
   "source": [
    "# Exámenes, casos confirmados, y fallecimientos confirmados por país de la OCDE por cada 1 millón de habitantes en los últimos 3 días"
   ]
  },
  {
   "cell_type": "markdown",
   "metadata": {},
   "source": [
    "> <span style=\"color:green\">Exámenes</span>, <span style=\"color:blue\">casos confirmados</span>, y <span style=\"color:red\">fallecimientos confirmados</span> por país por cada 1 millón de habitantes"
   ]
  },
  {
   "cell_type": "code",
   "execution_count": 119,
   "metadata": {},
   "outputs": [],
   "source": [
    "#hide\n",
    "data = pd.DataFrame()\n",
    "data['Tests'] = test_data['3-day rolling mean daily change']"
   ]
  },
  {
   "cell_type": "code",
   "execution_count": 120,
   "metadata": {},
   "outputs": [],
   "source": [
    "#hide\n",
    "cases = pd.Series()\n",
    "deaths = pd.Series()\n",
    "for country in list_OCDE:\n",
    "    cases[country] = full_data[full_data['location'].str.contains(country)].iloc[-3:]['new_cases'].mean()\n",
    "    deaths[country] = full_data[full_data['location'].str.contains(country)].iloc[-3:]['new_deaths'].mean()"
   ]
  },
  {
   "cell_type": "code",
   "execution_count": 121,
   "metadata": {},
   "outputs": [],
   "source": [
    "#hide\n",
    "data['Cases'] = cases\n",
    "data['Deaths'] = deaths"
   ]
  },
  {
   "cell_type": "code",
   "execution_count": 122,
   "metadata": {},
   "outputs": [],
   "source": [
    "#hide\n",
    "population = pd.Series()\n",
    "for country in list_OCDE:\n",
    "    population[country] = locations_data[locations_data['location'].str.contains(country)].iloc[-1]['population']"
   ]
  },
  {
   "cell_type": "code",
   "execution_count": 123,
   "metadata": {},
   "outputs": [],
   "source": [
    "#hide\n",
    "data['Population'] = population"
   ]
  },
  {
   "cell_type": "code",
   "execution_count": 124,
   "metadata": {},
   "outputs": [],
   "source": [
    "#hide\n",
    "data['Tests'] = 1000000*data['Tests']/data['Population']\n",
    "data['Cases'] = 1000000*data['Cases']/data['Population']\n",
    "data['Deaths'] = 1000000*data['Deaths']/data['Population']"
   ]
  },
  {
   "cell_type": "code",
   "execution_count": 125,
   "metadata": {},
   "outputs": [],
   "source": [
    "#hide\n",
    "data = data.dropna()"
   ]
  },
  {
   "cell_type": "code",
   "execution_count": 126,
   "metadata": {},
   "outputs": [],
   "source": [
    "#hide\n",
    "data = data.sort_values(by='Tests', ascending=False)\n",
    "data['codigo'] = np.arange(len(data))"
   ]
  },
  {
   "cell_type": "code",
   "execution_count": 128,
   "metadata": {},
   "outputs": [
    {
     "data": {
      "text/html": [
       "\n",
       "<div id=\"altair-viz-130b384bc53e45c596e5e068e849f411\"></div>\n",
       "<script type=\"text/javascript\">\n",
       "  (function(spec, embedOpt){\n",
       "    let outputDiv = document.currentScript.previousElementSibling;\n",
       "    if (outputDiv.id !== \"altair-viz-130b384bc53e45c596e5e068e849f411\") {\n",
       "      outputDiv = document.getElementById(\"altair-viz-130b384bc53e45c596e5e068e849f411\");\n",
       "    }\n",
       "    const paths = {\n",
       "      \"vega\": \"https://cdn.jsdelivr.net/npm//vega@5?noext\",\n",
       "      \"vega-lib\": \"https://cdn.jsdelivr.net/npm//vega-lib?noext\",\n",
       "      \"vega-lite\": \"https://cdn.jsdelivr.net/npm//vega-lite@4.8.1?noext\",\n",
       "      \"vega-embed\": \"https://cdn.jsdelivr.net/npm//vega-embed@6?noext\",\n",
       "    };\n",
       "\n",
       "    function loadScript(lib) {\n",
       "      return new Promise(function(resolve, reject) {\n",
       "        var s = document.createElement('script');\n",
       "        s.src = paths[lib];\n",
       "        s.async = true;\n",
       "        s.onload = () => resolve(paths[lib]);\n",
       "        s.onerror = () => reject(`Error loading script: ${paths[lib]}`);\n",
       "        document.getElementsByTagName(\"head\")[0].appendChild(s);\n",
       "      });\n",
       "    }\n",
       "\n",
       "    function showError(err) {\n",
       "      outputDiv.innerHTML = `<div class=\"error\" style=\"color:red;\">${err}</div>`;\n",
       "      throw err;\n",
       "    }\n",
       "\n",
       "    function displayChart(vegaEmbed) {\n",
       "      vegaEmbed(outputDiv, spec, embedOpt)\n",
       "        .catch(err => showError(`Javascript Error: ${err.message}<br>This usually means there's a typo in your chart specification. See the javascript console for the full traceback.`));\n",
       "    }\n",
       "\n",
       "    if(typeof define === \"function\" && define.amd) {\n",
       "      requirejs.config({paths});\n",
       "      require([\"vega-embed\"], displayChart, err => showError(`Error loading script: ${err.message}`));\n",
       "    } else if (typeof vegaEmbed === \"function\") {\n",
       "      displayChart(vegaEmbed);\n",
       "    } else {\n",
       "      loadScript(\"vega\")\n",
       "        .then(() => loadScript(\"vega-lite\"))\n",
       "        .then(() => loadScript(\"vega-embed\"))\n",
       "        .catch(showError)\n",
       "        .then(() => displayChart(vegaEmbed));\n",
       "    }\n",
       "  })({\"config\": {\"view\": {\"continuousWidth\": 400, \"continuousHeight\": 300}}, \"layer\": [{\"data\": {\"name\": \"data-4a4d38ff65acef3694e0ffb0941a38e6\"}, \"mark\": {\"type\": \"bar\", \"color\": \"green\", \"opacity\": 0.4}, \"encoding\": {\"tooltip\": [{\"type\": \"nominal\", \"field\": \"index\"}, {\"type\": \"quantitative\", \"field\": \"Tests\"}, {\"type\": \"quantitative\", \"field\": \"Cases\"}, {\"type\": \"quantitative\", \"field\": \"Deaths\"}], \"x\": {\"type\": \"quantitative\", \"axis\": {\"title\": \"Ex\\u00e1menes informados, casos confirmados, fallecimientos confirmados por cada 1 mill\\u00f3n de habitantes\\n(promedio de los \\u00faltimos 3 d\\u00edas)\"}, \"field\": \"Tests\"}, \"y\": {\"type\": \"nominal\", \"axis\": {\"title\": \"Pa\\u00eds\"}, \"field\": \"index\", \"sort\": {\"field\": \"codigo\", \"order\": \"ascending\"}}}, \"title\": \"COVID-19: Ex\\u00e1menes informados, casos confirmados y fallecidos confirmados por pa\\u00eds por cada 1 mill\\u00f3n de habitantes\\n(promedio de los \\u00faltimos 3 d\\u00edas)\", \"width\": {\"step\": 40}}, {\"data\": {\"name\": \"data-4a4d38ff65acef3694e0ffb0941a38e6\"}, \"mark\": {\"type\": \"tick\", \"color\": \"black\", \"size\": 17.2, \"thickness\": 2}, \"encoding\": {\"tooltip\": {\"type\": \"quantitative\", \"field\": \"Tests\"}, \"x\": {\"type\": \"quantitative\", \"field\": \"Tests\"}, \"y\": {\"type\": \"nominal\", \"field\": \"index\", \"sort\": {\"field\": \"codigo\", \"order\": \"ascending\"}}}}, {\"data\": {\"name\": \"data-4a4d38ff65acef3694e0ffb0941a38e6\"}, \"mark\": {\"type\": \"tick\", \"color\": \"blue\", \"size\": 17.2, \"thickness\": 2}, \"encoding\": {\"tooltip\": {\"type\": \"quantitative\", \"field\": \"Cases\"}, \"x\": {\"type\": \"quantitative\", \"field\": \"Cases\"}, \"y\": {\"type\": \"nominal\", \"field\": \"index\", \"sort\": {\"field\": \"codigo\", \"order\": \"ascending\"}}}}, {\"data\": {\"name\": \"data-4a4d38ff65acef3694e0ffb0941a38e6\"}, \"mark\": {\"type\": \"tick\", \"color\": \"red\", \"size\": 17.2, \"thickness\": 2}, \"encoding\": {\"tooltip\": {\"type\": \"quantitative\", \"field\": \"Deaths\"}, \"x\": {\"type\": \"quantitative\", \"field\": \"Deaths\"}, \"y\": {\"type\": \"nominal\", \"field\": \"index\", \"sort\": {\"field\": \"codigo\", \"order\": \"ascending\"}}}}], \"$schema\": \"https://vega.github.io/schema/vega-lite/v4.8.1.json\", \"datasets\": {\"data-4a4d38ff65acef3694e0ffb0941a38e6\": [{\"index\": \"Lithuania\", \"Tests\": 2478.182163479217, \"Cases\": 7.346753157542673, \"Deaths\": 0.3673376578771336, \"Population\": 2722291.0, \"codigo\": 0}, {\"index\": \"Luxembourg\", \"Tests\": 1501.6550155277519, \"Cases\": 56.977690305485616, \"Deaths\": 4.260014228447523, \"Population\": 625976.0, \"codigo\": 1}, {\"index\": \"Denmark\", \"Tests\": 1426.4002832773645, \"Cases\": 32.11213419142941, \"Deaths\": 1.7264588274962047, \"Population\": 5792203.0, \"codigo\": 2}, {\"index\": \"New Zealand\", \"Tests\": 1294.6974980263294, \"Cases\": 0.4838698862815906, \"Deaths\": 0.2764970778751946, \"Population\": 4822233.0, \"codigo\": 3}, {\"index\": \"Israel\", \"Tests\": 1256.1895322314342, \"Cases\": 45.01933116216152, \"Deaths\": 0.6161756189859574, \"Population\": 8655541.0, \"codigo\": 4}, {\"index\": \"Italy\", \"Tests\": 1059.6548122891686, \"Cases\": 48.21223731442589, \"Deaths\": 7.911327678239125, \"Population\": 60461828.0, \"codigo\": 5}, {\"index\": \"Estonia\", \"Tests\": 1024.2194160895385, \"Cases\": 14.322986357732415, \"Deaths\": 1.2564023120817909, \"Population\": 1326539.0, \"codigo\": 6}, {\"index\": \"Latvia\", \"Tests\": 902.6959996861419, \"Cases\": 6.892156831558868, \"Deaths\": 1.0603318202398258, \"Population\": 1886202.0, \"codigo\": 7}, {\"index\": \"Austria\", \"Tests\": 875.9696438088472, \"Cases\": 7.47616509741221, \"Deaths\": 1.7024930419849589, \"Population\": 9006400.0, \"codigo\": 8}, {\"index\": \"Portugal\", \"Tests\": 825.6260575105275, \"Cases\": 48.70853567398442, \"Deaths\": 2.778674853885017, \"Population\": 10196707.0, \"codigo\": 9}, {\"index\": \"Czech Republic\", \"Tests\": 778.3186114235695, \"Cases\": 8.52866624795273, \"Deaths\": 0.5291508256029067, \"Population\": 10708982.0, \"codigo\": 10}, {\"index\": \"Canada\", \"Tests\": 684.1774570541901, \"Cases\": 46.59687750932377, \"Deaths\": 4.027326790040114, \"Population\": 37742157.0, \"codigo\": 11}, {\"index\": \"United States\", \"Tests\": 660.8235160125472, \"Cases\": 0.0, \"Deaths\": 0.0, \"Population\": 331002647.0, \"codigo\": 12}, {\"index\": \"Slovenia\", \"Tests\": 648.0890187846451, \"Cases\": 4.970500878976962, \"Deaths\": 0.8016936901575745, \"Population\": 2078932.0, \"codigo\": 13}, {\"index\": \"Belgium\", \"Tests\": 641.4075323979672, \"Cases\": 80.93451931453122, \"Deaths\": 19.040032617704217, \"Population\": 11589616.0, \"codigo\": 14}, {\"index\": \"Norway\", \"Tests\": 605.3963280001151, \"Cases\": 14.264873867156885, \"Deaths\": 1.5986496575262026, \"Population\": 5421242.0, \"codigo\": 15}, {\"index\": \"Australia\", \"Tests\": 555.9241629402113, \"Cases\": 0.549022169946597, \"Deaths\": 0.05228782570919971, \"Population\": 25499881.0, \"codigo\": 16}, {\"index\": \"Switzerland\", \"Tests\": 502.4678154483537, \"Cases\": 22.64686898948053, \"Deaths\": 4.852900497745828, \"Population\": 8654618.0, \"codigo\": 17}, {\"index\": \"Turkey\", \"Tests\": 461.81840024386327, \"Cases\": 42.72436797686336, \"Deaths\": 1.387257461598431, \"Population\": 84339067.0, \"codigo\": 18}, {\"index\": \"United Kingdom\", \"Tests\": 376.5577364076401, \"Cases\": 65.47741416625436, \"Deaths\": 10.944818610917208, \"Population\": 67886004.0, \"codigo\": 19}, {\"index\": \"Poland\", \"Tests\": 359.75044525129795, \"Cases\": 8.085269471330388, \"Deaths\": 0.6517537482336042, \"Population\": 37846605.0, \"codigo\": 20}, {\"index\": \"Chile\", \"Tests\": 347.1748504109784, \"Cases\": 22.75555786191708, \"Deaths\": 0.5056790635981573, \"Population\": 19116209.0, \"codigo\": 21}, {\"index\": \"Netherlands\", \"Tests\": 316.1583397787659, \"Cases\": 45.20994504404361, \"Deaths\": 8.287193024424518, \"Population\": 17134873.0, \"codigo\": 22}, {\"index\": \"Hungary\", \"Tests\": 282.9090043321412, \"Cases\": 9.834012225229936, \"Deaths\": 1.2766963239772198, \"Population\": 9660350.0, \"codigo\": 23}, {\"index\": \"Greece\", \"Tests\": 183.59941652429, \"Cases\": 6.971723711996431, \"Deaths\": 0.28782345599985265, \"Population\": 10423056.0, \"codigo\": 24}, {\"index\": \"Korea\", \"Tests\": 120.3191983769275, \"Cases\": 0.16254078660339358, \"Deaths\": 0.01950489439240723, \"Population\": 51269183.0, \"codigo\": 25}, {\"index\": \"Japan\", \"Tests\": 59.07291458146307, \"Cases\": 2.9570720584221295, \"Deaths\": 0.34525529380864434, \"Population\": 126476458.0, \"codigo\": 26}, {\"index\": \"Mexico\", \"Tests\": 17.12262360519053, \"Cases\": 7.396620676102888, \"Deaths\": 0.9229617551096578, \"Population\": 128932753.0, \"codigo\": 27}]}}, {\"mode\": \"vega-lite\"});\n",
       "</script>"
      ],
      "text/plain": [
       "alt.LayerChart(...)"
      ]
     },
     "execution_count": 128,
     "metadata": {},
     "output_type": "execute_result"
    }
   ],
   "source": [
    "#hide_input\n",
    "bar = alt.Chart(data.reset_index()).mark_bar(opacity=0.4, color='green').encode(\n",
    "    x=alt.X('Tests:Q', axis=alt.Axis(title=f'Exámenes informados, casos confirmados, fallecimientos confirmados por cada 1 millón de habitantes\\n(promedio de los últimos 3 días)')),\n",
    "    y=alt.Y('index:N', axis=alt.Axis(title='País'), sort=alt.EncodingSortField(field='codigo', order='ascending')),\n",
    "    tooltip = ['index', 'Tests', 'Cases', 'Deaths'],\n",
    ").properties(\n",
    "    title=f'COVID-19: Exámenes informados, casos confirmados y fallecidos confirmados por país por cada 1 millón de habitantes\\n(promedio de los últimos 3 días)',\n",
    "    width=alt.Step(40)  # controls width of bar.\n",
    ")\n",
    "\n",
    "tick0 = alt.Chart(data.reset_index()).mark_tick(\n",
    "    color='black',\n",
    "    thickness=2,\n",
    "    size=40 * 0.43,  # controls width of tick.\n",
    ").encode(\n",
    "    x='Tests:Q',\n",
    "    y=alt.Y('index:N', sort=alt.EncodingSortField(field='codigo', order='ascending')),\n",
    "    tooltip = 'Tests'\n",
    ")\n",
    "\n",
    "tick1 = alt.Chart(data.reset_index()).mark_tick(\n",
    "    color='blue',\n",
    "    thickness=2,\n",
    "    size=40 * 0.43,  # controls width of tick.\n",
    ").encode(\n",
    "    x='Cases:Q',\n",
    "    y=alt.Y('index:N', sort=alt.EncodingSortField(field='codigo', order='ascending')),\n",
    "    tooltip = 'Cases'\n",
    ")\n",
    "\n",
    "tick2 = alt.Chart(data.reset_index()).mark_tick(\n",
    "    color='red',\n",
    "    thickness=2,\n",
    "    size=40 * 0.43,  # controls width of tick.\n",
    ").encode(\n",
    "    x='Deaths:Q',\n",
    "    y=alt.Y('index:N', sort=alt.EncodingSortField(field='codigo', order='ascending')),\n",
    "    tooltip = 'Deaths'\n",
    ")\n",
    "\n",
    "(bar + tick0 + tick1 + tick2)"
   ]
  },
  {
   "cell_type": "markdown",
   "metadata": {},
   "source": [
    "# Exámenes, casos confirmados, y fallecimientos confirmados por país de latinoamérica por cada 1 millón de habitantes"
   ]
  },
  {
   "cell_type": "markdown",
   "metadata": {},
   "source": [
    "> <span style=\"color:green\">Exámenes</span>, <span style=\"color:blue\">casos confirmados</span>, y <span style=\"color:red\">fallecimientos confirmados</span> por país por cada 1 millón de habitantes"
   ]
  },
  {
   "cell_type": "markdown",
   "metadata": {},
   "source": [
    "Nota: Muchos países de latinoamérica no tienen datos disponibles."
   ]
  },
  {
   "cell_type": "code",
   "execution_count": 129,
   "metadata": {},
   "outputs": [],
   "source": [
    "#hide\n",
    "list_latinoamerica = ['Argentina', 'Bolivia', 'Chile', 'Colombia',\n",
    "                     'Costa Rica', 'Cuba', 'Ecuador', 'El Salvador',\n",
    "                     'Mexico', 'Panama', 'Paraguay',\n",
    "                     'Peru', 'Uruguay']"
   ]
  },
  {
   "cell_type": "code",
   "execution_count": 130,
   "metadata": {
    "scrolled": true
   },
   "outputs": [],
   "source": [
    "#hide\n",
    "test_data = pd.DataFrame()\n",
    "for country in list_latinoamerica:\n",
    "    test_data[country] = test_data_raw[test_data_raw['Entity'].str.contains(country)].iloc[-1]"
   ]
  },
  {
   "cell_type": "code",
   "execution_count": 131,
   "metadata": {},
   "outputs": [],
   "source": [
    "#hide\n",
    "test_data = test_data.T"
   ]
  },
  {
   "cell_type": "code",
   "execution_count": 132,
   "metadata": {},
   "outputs": [],
   "source": [
    "#hide\n",
    "data = pd.DataFrame()\n",
    "data['Tests'] = test_data['Cumulative total']"
   ]
  },
  {
   "cell_type": "code",
   "execution_count": 133,
   "metadata": {},
   "outputs": [],
   "source": [
    "#hide\n",
    "cases = pd.Series()\n",
    "deaths = pd.Series()\n",
    "for country in list_latinoamerica:\n",
    "    cases[country] = full_data[full_data['location'].str.contains(country)].iloc[-1]['total_cases']\n",
    "    deaths[country] = full_data[full_data['location'].str.contains(country)].iloc[-1]['total_deaths']"
   ]
  },
  {
   "cell_type": "code",
   "execution_count": 134,
   "metadata": {},
   "outputs": [],
   "source": [
    "#hide\n",
    "data['Cases'] = cases\n",
    "data['Deaths'] = deaths"
   ]
  },
  {
   "cell_type": "code",
   "execution_count": 135,
   "metadata": {},
   "outputs": [],
   "source": [
    "#hide\n",
    "population = pd.Series()\n",
    "for country in list_latinoamerica:\n",
    "    population[country] = locations_data[locations_data['location'].str.contains(country)].iloc[-1]['population']"
   ]
  },
  {
   "cell_type": "code",
   "execution_count": 136,
   "metadata": {},
   "outputs": [],
   "source": [
    "#hide\n",
    "data['Population'] = population"
   ]
  },
  {
   "cell_type": "code",
   "execution_count": 137,
   "metadata": {},
   "outputs": [],
   "source": [
    "#hide\n",
    "data['Tests'] = 1000000*data['Tests']/data['Population']\n",
    "data['Cases'] = 1000000*data['Cases']/data['Population']\n",
    "data['Deaths'] = 1000000*data['Deaths']/data['Population']"
   ]
  },
  {
   "cell_type": "code",
   "execution_count": 138,
   "metadata": {},
   "outputs": [],
   "source": [
    "#hide\n",
    "data = data.sort_values(by='Tests', ascending=False)\n",
    "data['codigo'] = np.arange(len(data))"
   ]
  },
  {
   "cell_type": "code",
   "execution_count": 142,
   "metadata": {},
   "outputs": [
    {
     "data": {
      "text/html": [
       "\n",
       "<div id=\"altair-viz-a98e1dcef32a49bf82337921fb4b3037\"></div>\n",
       "<script type=\"text/javascript\">\n",
       "  (function(spec, embedOpt){\n",
       "    let outputDiv = document.currentScript.previousElementSibling;\n",
       "    if (outputDiv.id !== \"altair-viz-a98e1dcef32a49bf82337921fb4b3037\") {\n",
       "      outputDiv = document.getElementById(\"altair-viz-a98e1dcef32a49bf82337921fb4b3037\");\n",
       "    }\n",
       "    const paths = {\n",
       "      \"vega\": \"https://cdn.jsdelivr.net/npm//vega@5?noext\",\n",
       "      \"vega-lib\": \"https://cdn.jsdelivr.net/npm//vega-lib?noext\",\n",
       "      \"vega-lite\": \"https://cdn.jsdelivr.net/npm//vega-lite@4.8.1?noext\",\n",
       "      \"vega-embed\": \"https://cdn.jsdelivr.net/npm//vega-embed@6?noext\",\n",
       "    };\n",
       "\n",
       "    function loadScript(lib) {\n",
       "      return new Promise(function(resolve, reject) {\n",
       "        var s = document.createElement('script');\n",
       "        s.src = paths[lib];\n",
       "        s.async = true;\n",
       "        s.onload = () => resolve(paths[lib]);\n",
       "        s.onerror = () => reject(`Error loading script: ${paths[lib]}`);\n",
       "        document.getElementsByTagName(\"head\")[0].appendChild(s);\n",
       "      });\n",
       "    }\n",
       "\n",
       "    function showError(err) {\n",
       "      outputDiv.innerHTML = `<div class=\"error\" style=\"color:red;\">${err}</div>`;\n",
       "      throw err;\n",
       "    }\n",
       "\n",
       "    function displayChart(vegaEmbed) {\n",
       "      vegaEmbed(outputDiv, spec, embedOpt)\n",
       "        .catch(err => showError(`Javascript Error: ${err.message}<br>This usually means there's a typo in your chart specification. See the javascript console for the full traceback.`));\n",
       "    }\n",
       "\n",
       "    if(typeof define === \"function\" && define.amd) {\n",
       "      requirejs.config({paths});\n",
       "      require([\"vega-embed\"], displayChart, err => showError(`Error loading script: ${err.message}`));\n",
       "    } else if (typeof vegaEmbed === \"function\") {\n",
       "      displayChart(vegaEmbed);\n",
       "    } else {\n",
       "      loadScript(\"vega\")\n",
       "        .then(() => loadScript(\"vega-lite\"))\n",
       "        .then(() => loadScript(\"vega-embed\"))\n",
       "        .catch(showError)\n",
       "        .then(() => displayChart(vegaEmbed));\n",
       "    }\n",
       "  })({\"config\": {\"view\": {\"continuousWidth\": 400, \"continuousHeight\": 300}}, \"layer\": [{\"data\": {\"name\": \"data-dd556135ed0620c0251e5038bd8c6807\"}, \"mark\": {\"type\": \"bar\", \"color\": \"green\", \"opacity\": 0.4}, \"encoding\": {\"tooltip\": [{\"type\": \"nominal\", \"field\": \"index\"}, {\"type\": \"quantitative\", \"field\": \"Tests\"}, {\"type\": \"quantitative\", \"field\": \"Cases\"}, {\"type\": \"quantitative\", \"field\": \"Deaths\"}], \"x\": {\"type\": \"quantitative\", \"axis\": {\"title\": \"Ex\\u00e1menes informados, casos confirmados, fallecimientos confirmados por cada 1 mill\\u00f3n de habitantes\"}, \"field\": \"Tests\"}, \"y\": {\"type\": \"nominal\", \"axis\": {\"title\": \"Pa\\u00eds\"}, \"field\": \"index\", \"sort\": {\"field\": \"codigo\", \"order\": \"ascending\"}}}, \"title\": \"COVID-19: Ex\\u00e1menes informados, casos confirmados y fallecidos confirmados por pa\\u00eds por cada 1 mill\\u00f3n de habitantes\", \"width\": {\"step\": 40}}, {\"data\": {\"name\": \"data-dd556135ed0620c0251e5038bd8c6807\"}, \"mark\": {\"type\": \"tick\", \"color\": \"black\", \"size\": 17.2, \"thickness\": 2}, \"encoding\": {\"tooltip\": [{\"type\": \"nominal\", \"field\": \"index\"}, {\"type\": \"quantitative\", \"field\": \"Tests\"}, {\"type\": \"quantitative\", \"field\": \"Cases\"}, {\"type\": \"quantitative\", \"field\": \"Deaths\"}], \"x\": {\"type\": \"quantitative\", \"field\": \"Tests\"}, \"y\": {\"type\": \"nominal\", \"field\": \"index\", \"sort\": {\"field\": \"codigo\", \"order\": \"ascending\"}}}}, {\"data\": {\"name\": \"data-dd556135ed0620c0251e5038bd8c6807\"}, \"mark\": {\"type\": \"tick\", \"color\": \"blue\", \"size\": 17.2, \"thickness\": 2}, \"encoding\": {\"tooltip\": [{\"type\": \"nominal\", \"field\": \"index\"}, {\"type\": \"quantitative\", \"field\": \"Tests\"}, {\"type\": \"quantitative\", \"field\": \"Cases\"}, {\"type\": \"quantitative\", \"field\": \"Deaths\"}], \"x\": {\"type\": \"quantitative\", \"field\": \"Cases\"}, \"y\": {\"type\": \"nominal\", \"field\": \"index\", \"sort\": {\"field\": \"codigo\", \"order\": \"ascending\"}}}}, {\"data\": {\"name\": \"data-dd556135ed0620c0251e5038bd8c6807\"}, \"mark\": {\"type\": \"tick\", \"color\": \"red\", \"size\": 17.2, \"thickness\": 2}, \"encoding\": {\"tooltip\": [{\"type\": \"nominal\", \"field\": \"index\"}, {\"type\": \"quantitative\", \"field\": \"Tests\"}, {\"type\": \"quantitative\", \"field\": \"Cases\"}, {\"type\": \"quantitative\", \"field\": \"Deaths\"}], \"x\": {\"type\": \"quantitative\", \"field\": \"Deaths\"}, \"y\": {\"type\": \"nominal\", \"field\": \"index\", \"sort\": {\"field\": \"codigo\", \"order\": \"ascending\"}}}}], \"$schema\": \"https://vega.github.io/schema/vega-lite/v4.8.1.json\", \"datasets\": {\"data-dd556135ed0620c0251e5038bd8c6807\": [{\"index\": \"Chile\", \"Tests\": 7442.218276646798, \"Cases\": 617.904941298769, \"Deaths\": 8.788353381154181, \"Population\": 19116209.0, \"codigo\": 0}, {\"index\": \"Peru\", \"Tests\": 5618.065788612503, \"Cases\": 634.2987286790069, \"Deaths\": 17.348133920072293, \"Population\": 32971846.0, \"codigo\": 1}, {\"index\": \"Panama\", \"Tests\": 5454.290937542876, \"Cases\": 1197.283376533802, \"Deaths\": 33.83727699843885, \"Population\": 4314768.0, \"codigo\": 2}, {\"index\": \"Uruguay\", \"Tests\": 4359.00691102093, \"Cases\": 160.34650967102482, \"Deaths\": 3.454502901350624, \"Population\": 3473727.0, \"codigo\": 3}, {\"index\": \"Cuba\", \"Tests\": 3190.184959038075, \"Cases\": 109.03521404804401, \"Deaths\": 3.796367776571573, \"Population\": 11326616.0, \"codigo\": 4}, {\"index\": \"El Salvador\", \"Tests\": 2371.958562492898, \"Cases\": 38.543363056433186, \"Deaths\": 1.233387617805862, \"Population\": 6486201.0, \"codigo\": 5}, {\"index\": \"Costa Rica\", \"Tests\": 1697.4492522154, \"Cases\": 134.86152842280325, \"Deaths\": 1.1778299425572336, \"Population\": 5094114.0, \"codigo\": 6}, {\"index\": \"Colombia\", \"Tests\": 1472.4204705063494, \"Cases\": 89.63721474592518, \"Deaths\": 4.22538942564655, \"Population\": 50882884.0, \"codigo\": 7}, {\"index\": \"Ecuador\", \"Tests\": 1325.3369880281539, \"Cases\": 633.8469630551616, \"Deaths\": 31.740525736465216, \"Population\": 17643060.0, \"codigo\": 8}, {\"index\": \"Argentina\", \"Tests\": 988.0126632185127, \"Cases\": 75.7371645585383, \"Deaths\": 3.6507835676771307, \"Population\": 45195777.0, \"codigo\": 9}, {\"index\": \"Paraguay\", \"Tests\": 967.6790703999843, \"Cases\": 30.844595115618162, \"Deaths\": 1.2618243456389246, \"Population\": 7132530.0, \"codigo\": 10}, {\"index\": \"Bolivia\", \"Tests\": 427.9094997536629, \"Cases\": 60.22429996533034, \"Deaths\": 3.683705403284786, \"Population\": 11673029.0, \"codigo\": 11}, {\"index\": \"Mexico\", \"Tests\": 305.8260921489825, \"Cases\": 90.22532854782058, \"Deaths\": 8.29114383371617, \"Population\": 128932753.0, \"codigo\": 12}]}}, {\"mode\": \"vega-lite\"});\n",
       "</script>"
      ],
      "text/plain": [
       "alt.LayerChart(...)"
      ]
     },
     "execution_count": 142,
     "metadata": {},
     "output_type": "execute_result"
    }
   ],
   "source": [
    "#hide_input\n",
    "bar = alt.Chart(data.reset_index()).mark_bar(opacity=0.4, color='green').encode(\n",
    "    x=alt.X('Tests:Q', axis=alt.Axis(title='Exámenes informados, casos confirmados, fallecimientos confirmados por cada 1 millón de habitantes')),\n",
    "    y=alt.Y('index:N', axis=alt.Axis(title='País'), sort=alt.EncodingSortField(field='codigo', order='ascending')),\n",
    "    tooltip = ['index', 'Tests', 'Cases', 'Deaths']\n",
    ").properties(\n",
    "    title='COVID-19: Exámenes informados, casos confirmados y fallecidos confirmados por país por cada 1 millón de habitantes',\n",
    "    width=alt.Step(40)  # controls width of bar.\n",
    ")\n",
    "\n",
    "tick0 = alt.Chart(data.reset_index()).mark_tick(\n",
    "    color='black',\n",
    "    thickness=2,\n",
    "    size=40 * 0.43,  # controls width of tick.\n",
    ").encode(\n",
    "    x='Tests:Q',\n",
    "    y=alt.Y('index:N', sort=alt.EncodingSortField(field='codigo', order='ascending')),\n",
    "    tooltip = ['index', 'Tests', 'Cases', 'Deaths']\n",
    ")\n",
    "\n",
    "tick1 = alt.Chart(data.reset_index()).mark_tick(\n",
    "    color='blue',\n",
    "    thickness=2,\n",
    "    size=40 * 0.43,  # controls width of tick.\n",
    ").encode(\n",
    "    x='Cases:Q',\n",
    "    y=alt.Y('index:N', sort=alt.EncodingSortField(field='codigo', order='ascending')),\n",
    "    tooltip = ['index', 'Tests', 'Cases', 'Deaths']\n",
    ")\n",
    "\n",
    "tick2 = alt.Chart(data.reset_index()).mark_tick(\n",
    "    color='red',\n",
    "    thickness=2,\n",
    "    size=40 * 0.43,  # controls width of tick.\n",
    ").encode(\n",
    "    x='Deaths:Q',\n",
    "    y=alt.Y('index:N', sort=alt.EncodingSortField(field='codigo', order='ascending')),\n",
    "    tooltip = ['index', 'Tests', 'Cases', 'Deaths']\n",
    ")\n",
    "\n",
    "(bar + tick0 + tick1 + tick2)"
   ]
  },
  {
   "cell_type": "markdown",
   "metadata": {},
   "source": [
    "Fuentes: ECDC, [Our World in Data](https://ourworldindata.org/)"
   ]
  },
  {
   "cell_type": "markdown",
   "metadata": {},
   "source": [
    "# Exámenes, casos confirmados, y fallecimientos confirmados por país de latinoamérica por cada 1 millón de habitantes en los últimos 3 días"
   ]
  },
  {
   "cell_type": "markdown",
   "metadata": {},
   "source": [
    "> <span style=\"color:green\">Exámenes</span>, <span style=\"color:blue\">casos confirmados</span>, y <span style=\"color:red\">fallecimientos confirmados</span> por país por cada 1 millón de habitantes"
   ]
  },
  {
   "cell_type": "markdown",
   "metadata": {},
   "source": [
    "Nota: Muchos países de latinoamérica no tienen datos disponibles."
   ]
  },
  {
   "cell_type": "code",
   "execution_count": 143,
   "metadata": {},
   "outputs": [],
   "source": [
    "#hide\n",
    "data = pd.DataFrame()\n",
    "data['Tests'] = test_data['3-day rolling mean daily change']"
   ]
  },
  {
   "cell_type": "code",
   "execution_count": 144,
   "metadata": {},
   "outputs": [],
   "source": [
    "#hide\n",
    "cases = pd.Series()\n",
    "deaths = pd.Series()\n",
    "for country in list_latinoamerica:\n",
    "    cases[country] = full_data[full_data['location'].str.contains(country)].iloc[-3:]['new_cases'].mean()\n",
    "    deaths[country] = full_data[full_data['location'].str.contains(country)].iloc[-3:]['new_deaths'].mean()"
   ]
  },
  {
   "cell_type": "code",
   "execution_count": 145,
   "metadata": {},
   "outputs": [],
   "source": [
    "#hide\n",
    "data['Cases'] = cases\n",
    "data['Deaths'] = deaths"
   ]
  },
  {
   "cell_type": "code",
   "execution_count": 146,
   "metadata": {},
   "outputs": [],
   "source": [
    "#hide\n",
    "population = pd.Series()\n",
    "for country in list_latinoamerica:\n",
    "    population[country] = locations_data[locations_data['location'].str.contains(country)].iloc[-1]['population']"
   ]
  },
  {
   "cell_type": "code",
   "execution_count": 147,
   "metadata": {},
   "outputs": [],
   "source": [
    "#hide\n",
    "data['Population'] = population"
   ]
  },
  {
   "cell_type": "code",
   "execution_count": 148,
   "metadata": {},
   "outputs": [],
   "source": [
    "#hide\n",
    "data['Tests'] = 1000000*data['Tests']/data['Population']\n",
    "data['Cases'] = 1000000*data['Cases']/data['Population']\n",
    "data['Deaths'] = 1000000*data['Deaths']/data['Population']"
   ]
  },
  {
   "cell_type": "code",
   "execution_count": 149,
   "metadata": {},
   "outputs": [],
   "source": [
    "#hide\n",
    "data = data.dropna()"
   ]
  },
  {
   "cell_type": "code",
   "execution_count": 150,
   "metadata": {},
   "outputs": [],
   "source": [
    "#hide\n",
    "data = data.sort_values(by='Tests', ascending=False)\n",
    "data['codigo'] = np.arange(len(data))"
   ]
  },
  {
   "cell_type": "code",
   "execution_count": 155,
   "metadata": {},
   "outputs": [
    {
     "data": {
      "text/html": [
       "\n",
       "<div id=\"altair-viz-354d95d6bf5e4ef48fbc84ccabc5d9c2\"></div>\n",
       "<script type=\"text/javascript\">\n",
       "  (function(spec, embedOpt){\n",
       "    let outputDiv = document.currentScript.previousElementSibling;\n",
       "    if (outputDiv.id !== \"altair-viz-354d95d6bf5e4ef48fbc84ccabc5d9c2\") {\n",
       "      outputDiv = document.getElementById(\"altair-viz-354d95d6bf5e4ef48fbc84ccabc5d9c2\");\n",
       "    }\n",
       "    const paths = {\n",
       "      \"vega\": \"https://cdn.jsdelivr.net/npm//vega@5?noext\",\n",
       "      \"vega-lib\": \"https://cdn.jsdelivr.net/npm//vega-lib?noext\",\n",
       "      \"vega-lite\": \"https://cdn.jsdelivr.net/npm//vega-lite@4.8.1?noext\",\n",
       "      \"vega-embed\": \"https://cdn.jsdelivr.net/npm//vega-embed@6?noext\",\n",
       "    };\n",
       "\n",
       "    function loadScript(lib) {\n",
       "      return new Promise(function(resolve, reject) {\n",
       "        var s = document.createElement('script');\n",
       "        s.src = paths[lib];\n",
       "        s.async = true;\n",
       "        s.onload = () => resolve(paths[lib]);\n",
       "        s.onerror = () => reject(`Error loading script: ${paths[lib]}`);\n",
       "        document.getElementsByTagName(\"head\")[0].appendChild(s);\n",
       "      });\n",
       "    }\n",
       "\n",
       "    function showError(err) {\n",
       "      outputDiv.innerHTML = `<div class=\"error\" style=\"color:red;\">${err}</div>`;\n",
       "      throw err;\n",
       "    }\n",
       "\n",
       "    function displayChart(vegaEmbed) {\n",
       "      vegaEmbed(outputDiv, spec, embedOpt)\n",
       "        .catch(err => showError(`Javascript Error: ${err.message}<br>This usually means there's a typo in your chart specification. See the javascript console for the full traceback.`));\n",
       "    }\n",
       "\n",
       "    if(typeof define === \"function\" && define.amd) {\n",
       "      requirejs.config({paths});\n",
       "      require([\"vega-embed\"], displayChart, err => showError(`Error loading script: ${err.message}`));\n",
       "    } else if (typeof vegaEmbed === \"function\") {\n",
       "      displayChart(vegaEmbed);\n",
       "    } else {\n",
       "      loadScript(\"vega\")\n",
       "        .then(() => loadScript(\"vega-lite\"))\n",
       "        .then(() => loadScript(\"vega-embed\"))\n",
       "        .catch(showError)\n",
       "        .then(() => displayChart(vegaEmbed));\n",
       "    }\n",
       "  })({\"config\": {\"view\": {\"continuousWidth\": 400, \"continuousHeight\": 300}}, \"layer\": [{\"data\": {\"name\": \"data-81cbe7ff54b49ade03f5d18d152b40b9\"}, \"mark\": {\"type\": \"bar\", \"color\": \"green\", \"opacity\": 0.4}, \"encoding\": {\"tooltip\": [{\"type\": \"nominal\", \"field\": \"index\"}, {\"type\": \"quantitative\", \"field\": \"Tests\"}, {\"type\": \"quantitative\", \"field\": \"Cases\"}, {\"type\": \"quantitative\", \"field\": \"Deaths\"}], \"x\": {\"type\": \"quantitative\", \"axis\": {\"title\": \"Ex\\u00e1menes informados, casos confirmados, fallecimientos confirmados por cada 1 mill\\u00f3n de habitantes\\n(promedio de los \\u00faltimos 3 d\\u00edas)\"}, \"field\": \"Tests\"}, \"y\": {\"type\": \"nominal\", \"axis\": {\"title\": \"Pa\\u00eds\"}, \"field\": \"index\", \"sort\": {\"field\": \"codigo\", \"order\": \"ascending\"}}}, \"title\": \"COVID-19: Ex\\u00e1menes informados, casos confirmados y fallecidos confirmados por pa\\u00eds por cada 1 mill\\u00f3n de habitantes\\n(promedio de los \\u00faltimos 3 d\\u00edas)\", \"width\": {\"step\": 40}}, {\"data\": {\"name\": \"data-81cbe7ff54b49ade03f5d18d152b40b9\"}, \"mark\": {\"type\": \"tick\", \"color\": \"black\", \"size\": 17.2, \"thickness\": 2}, \"encoding\": {\"tooltip\": [{\"type\": \"nominal\", \"field\": \"index\"}, {\"type\": \"quantitative\", \"field\": \"Tests\"}, {\"type\": \"quantitative\", \"field\": \"Cases\"}, {\"type\": \"quantitative\", \"field\": \"Deaths\"}], \"x\": {\"type\": \"quantitative\", \"field\": \"Tests\"}, \"y\": {\"type\": \"nominal\", \"field\": \"index\", \"sort\": {\"field\": \"codigo\", \"order\": \"ascending\"}}}}, {\"data\": {\"name\": \"data-81cbe7ff54b49ade03f5d18d152b40b9\"}, \"mark\": {\"type\": \"tick\", \"color\": \"blue\", \"size\": 17.2, \"thickness\": 2}, \"encoding\": {\"tooltip\": [{\"type\": \"nominal\", \"field\": \"index\"}, {\"type\": \"quantitative\", \"field\": \"Tests\"}, {\"type\": \"quantitative\", \"field\": \"Cases\"}, {\"type\": \"quantitative\", \"field\": \"Deaths\"}], \"x\": {\"type\": \"quantitative\", \"field\": \"Cases\"}, \"y\": {\"type\": \"nominal\", \"field\": \"index\", \"sort\": {\"field\": \"codigo\", \"order\": \"ascending\"}}}}, {\"data\": {\"name\": \"data-81cbe7ff54b49ade03f5d18d152b40b9\"}, \"mark\": {\"type\": \"tick\", \"color\": \"red\", \"size\": 17.2, \"thickness\": 2}, \"encoding\": {\"tooltip\": [{\"type\": \"nominal\", \"field\": \"index\"}, {\"type\": \"quantitative\", \"field\": \"Tests\"}, {\"type\": \"quantitative\", \"field\": \"Cases\"}, {\"type\": \"quantitative\", \"field\": \"Deaths\"}], \"x\": {\"type\": \"quantitative\", \"field\": \"Deaths\"}, \"y\": {\"type\": \"nominal\", \"field\": \"index\", \"sort\": {\"field\": \"codigo\", \"order\": \"ascending\"}}}}], \"$schema\": \"https://vega.github.io/schema/vega-lite/v4.8.1.json\", \"datasets\": {\"data-81cbe7ff54b49ade03f5d18d152b40b9\": [{\"index\": \"Peru\", \"Tests\": 376.35138778702293, \"Cases\": 46.39311571049637, \"Deaths\": 1.2839236642477747, \"Population\": 32971846.0, \"codigo\": 0}, {\"index\": \"Chile\", \"Tests\": 347.1748504109784, \"Cases\": 22.75555786191708, \"Deaths\": 0.5056790635981573, \"Population\": 19116209.0, \"codigo\": 1}, {\"index\": \"Panama\", \"Tests\": 196.07079685396758, \"Cases\": 39.24506099362314, \"Deaths\": 0.772540570740613, \"Population\": 4314768.0, \"codigo\": 2}, {\"index\": \"Cuba\", \"Tests\": 168.27620888710274, \"Cases\": 4.355522720407696, \"Deaths\": 0.2060044529922559, \"Population\": 11326616.0, \"codigo\": 3}, {\"index\": \"Uruguay\", \"Tests\": 167.54339071550527, \"Cases\": 2.111085106380937, \"Deaths\": 0.19191682785281244, \"Population\": 3473727.0, \"codigo\": 4}, {\"index\": \"El Salvador\", \"Tests\": 163.16685221441645, \"Cases\": 1.6445168237411492, \"Deaths\": 0.05139115074191091, \"Population\": 6486201.0, \"codigo\": 5}, {\"index\": \"Ecuador\", \"Tests\": 66.56061930300072, \"Cases\": 19.932294435696907, \"Deaths\": 1.0013380143051527, \"Population\": 17643060.0, \"codigo\": 6}, {\"index\": \"Argentina\", \"Tests\": 59.31970148449931, \"Cases\": 2.9722540965128963, \"Deaths\": 0.16963236779105859, \"Population\": 45195777.0, \"codigo\": 7}, {\"index\": \"Costa Rica\", \"Tests\": 53.722197814968425, \"Cases\": 1.6358749202183802, \"Deaths\": 0.0, \"Population\": 5094114.0, \"codigo\": 8}, {\"index\": \"Paraguay\", \"Tests\": 48.55682345535175, \"Cases\": 0.5608108202839666, \"Deaths\": 0.046734235023663875, \"Population\": 7132530.0, \"codigo\": 9}, {\"index\": \"Mexico\", \"Tests\": 17.12262360519053, \"Cases\": 7.396620676102888, \"Deaths\": 0.9229617551096578, \"Population\": 128932753.0, \"codigo\": 10}]}}, {\"mode\": \"vega-lite\"});\n",
       "</script>"
      ],
      "text/plain": [
       "alt.LayerChart(...)"
      ]
     },
     "execution_count": 155,
     "metadata": {},
     "output_type": "execute_result"
    }
   ],
   "source": [
    "#hide_input\n",
    "bar = alt.Chart(data.reset_index()).mark_bar(opacity=0.4, color='green').encode(\n",
    "    x=alt.X('Tests:Q', axis=alt.Axis(title=f'Exámenes informados, casos confirmados, fallecimientos confirmados por cada 1 millón de habitantes\\n(promedio de los últimos 3 días)')),\n",
    "    y=alt.Y('index:N', axis=alt.Axis(title='País'), sort=alt.EncodingSortField(field='codigo', order='ascending')),\n",
    "    tooltip = ['index', 'Tests', 'Cases', 'Deaths']\n",
    ").properties(\n",
    "    title=f'COVID-19: Exámenes informados, casos confirmados y fallecidos confirmados por país por cada 1 millón de habitantes\\n(promedio de los últimos 3 días)',\n",
    "    width=alt.Step(40)  # controls width of bar.\n",
    ")\n",
    "\n",
    "tick0 = alt.Chart(data.reset_index()).mark_tick(\n",
    "    color='black',\n",
    "    thickness=2,\n",
    "    size=40 * 0.43,  # controls width of tick.\n",
    ").encode(\n",
    "    x='Tests:Q',\n",
    "    y=alt.Y('index:N', sort=alt.EncodingSortField(field='codigo', order='ascending')),\n",
    "    tooltip = ['index', 'Tests', 'Cases', 'Deaths']\n",
    ")\n",
    "\n",
    "tick1 = alt.Chart(data.reset_index()).mark_tick(\n",
    "    color='blue',\n",
    "    thickness=2,\n",
    "    size=40 * 0.43,  # controls width of tick.\n",
    ").encode(\n",
    "    x='Cases:Q',\n",
    "    y=alt.Y('index:N', sort=alt.EncodingSortField(field='codigo', order='ascending')),\n",
    "    tooltip = ['index', 'Tests', 'Cases', 'Deaths']\n",
    ")\n",
    "\n",
    "tick2 = alt.Chart(data.reset_index()).mark_tick(\n",
    "    color='red',\n",
    "    thickness=2,\n",
    "    size=40 * 0.43,  # controls width of tick.\n",
    ").encode(\n",
    "    x='Deaths:Q',\n",
    "    y=alt.Y('index:N', sort=alt.EncodingSortField(field='codigo', order='ascending')),\n",
    "    tooltip = ['index', 'Tests', 'Cases', 'Deaths']\n",
    ")\n",
    "\n",
    "(bar + tick0 + tick1 + tick2)"
   ]
  },
  {
   "cell_type": "code",
   "execution_count": null,
   "metadata": {},
   "outputs": [],
   "source": []
  }
 ],
 "metadata": {
  "kernelspec": {
   "display_name": "Python 3",
   "language": "python",
   "name": "python3"
  },
  "language_info": {
   "codemirror_mode": {
    "name": "ipython",
    "version": 3
   },
   "file_extension": ".py",
   "mimetype": "text/x-python",
   "name": "python",
   "nbconvert_exporter": "python",
   "pygments_lexer": "ipython3",
   "version": "3.7.5"
  }
 },
 "nbformat": 4,
 "nbformat_minor": 4
}
