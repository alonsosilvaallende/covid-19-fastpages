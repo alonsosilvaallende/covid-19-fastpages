{
 "cells": [
  {
   "cell_type": "markdown",
   "metadata": {},
   "source": [
    "# COVID-19 en Chile\n",
    "> Total de casos confirmados, fallecidos confirmados, pacientes en UCI por región.\n",
    "\n",
    "- toc: true \n",
    "- badges: true\n",
    "- comments: true\n",
    "- author: Alonso Silva Allende\n",
    "- categories: [jupyter]\n",
    "- image: images/diagram.png"
   ]
  },
  {
   "cell_type": "code",
   "execution_count": 1,
   "metadata": {},
   "outputs": [],
   "source": [
    "#hide\n",
    "import numpy as np\n",
    "import matplotlib.pyplot as plt\n",
    "import pandas as pd\n",
    "import altair as alt\n",
    "plt.style.use('ggplot')"
   ]
  },
  {
   "cell_type": "code",
   "execution_count": 2,
   "metadata": {},
   "outputs": [],
   "source": [
    "#hide\n",
    "from IPython.display import display_html, HTML"
   ]
  },
  {
   "cell_type": "code",
   "execution_count": 3,
   "metadata": {},
   "outputs": [
    {
     "data": {
      "text/plain": [
       "'2020-04-27'"
      ]
     },
     "execution_count": 3,
     "metadata": {},
     "output_type": "execute_result"
    }
   ],
   "source": [
    "#hide\n",
    "update_date = pd.to_datetime('today') - pd.offsets.Hour(19)\n",
    "today = update_date.strftime('%Y-%m-%d')\n",
    "today"
   ]
  },
  {
   "cell_type": "code",
   "execution_count": 4,
   "metadata": {},
   "outputs": [
    {
     "data": {
      "text/plain": [
       "'2020-04-20'"
      ]
     },
     "execution_count": 4,
     "metadata": {},
     "output_type": "execute_result"
    }
   ],
   "source": [
    "#hide\n",
    "date_one_week_ago = (update_date - pd.offsets.Day(7)).strftime('%Y-%m-%d')\n",
    "date_one_week_ago"
   ]
  },
  {
   "cell_type": "code",
   "execution_count": 5,
   "metadata": {},
   "outputs": [
    {
     "name": "stdout",
     "output_type": "stream",
     "text": [
      "Última actualización: 27/04/2020.\n"
     ]
    }
   ],
   "source": [
    "#hide_input\n",
    "print(f\"Última actualización: {update_date.strftime('%d/%m/%Y')}.\")"
   ]
  },
  {
   "cell_type": "code",
   "execution_count": 6,
   "metadata": {},
   "outputs": [],
   "source": [
    "#hide\n",
    "casos_raw = pd.read_csv(\n",
    "    \"https://raw.githubusercontent.com/MinCiencia/Datos-COVID19/master/output/producto3/CasosTotalesCumulativo.csv\",\n",
    "    index_col='Region')"
   ]
  },
  {
   "cell_type": "code",
   "execution_count": 7,
   "metadata": {},
   "outputs": [],
   "source": [
    "#hide\n",
    "s = \"https://raw.githubusercontent.com/MinCiencia/Datos-COVID19/master/output/producto4/\" \\\n",
    "+ today + \"-CasosConfirmados-totalRegional.csv\"\n",
    "deaths_raw = pd.read_csv(s, index_col='Region')"
   ]
  },
  {
   "cell_type": "code",
   "execution_count": 8,
   "metadata": {},
   "outputs": [],
   "source": [
    "#hide\n",
    "s = \"https://raw.githubusercontent.com/MinCiencia/Datos-COVID19/master/output/producto4/\" \\\n",
    "+ date_one_week_ago + \"-CasosConfirmados-totalRegional.csv\"\n",
    "deaths_one_week_ago = pd.read_csv(s, index_col='Region')"
   ]
  },
  {
   "cell_type": "code",
   "execution_count": 9,
   "metadata": {},
   "outputs": [],
   "source": [
    "#hide\n",
    "tests_raw = pd.read_csv(\n",
    "    'https://raw.githubusercontent.com/MinCiencia/Datos-COVID19/master/output/producto7/PCR.csv',\n",
    "    index_col='Region')"
   ]
  },
  {
   "cell_type": "code",
   "execution_count": 10,
   "metadata": {},
   "outputs": [],
   "source": [
    "#hide\n",
    "data_table = pd.DataFrame()\n",
    "data_table[\"Region\"] = casos_raw[today].drop(\"Total\").reset_index()[\"Region\"]\n",
    "data_table[\"CC\"] = casos_raw[today].drop(\"Total\").reset_index()[today]\n",
    "data_table[\"CC por 100.000 hab.\"] = np.round(100000*(casos_raw[today]/tests_raw['Poblacion']).drop('Total'), decimals=1).values\n",
    "data_table[\"FC\"] = deaths_raw[\"Fallecidos\"].drop(\"Total\").values\n",
    "data_table[\"FC por 100.000 hab.\"] = \\\n",
    "np.round(100000*deaths_raw['Fallecidos'].drop('Total')/(tests_raw['Poblacion'].values), decimals=1).values"
   ]
  },
  {
   "cell_type": "code",
   "execution_count": 11,
   "metadata": {},
   "outputs": [],
   "source": [
    "#hide\n",
    "tests_raw = tests_raw.fillna(0)"
   ]
  },
  {
   "cell_type": "code",
   "execution_count": 12,
   "metadata": {},
   "outputs": [],
   "source": [
    "#hide\n",
    "tests_total = pd.Series(dtype='float64')\n",
    "for date in tests_raw.columns:\n",
    "  tests_raw[date] = tests_raw[date].apply(lambda x: 0 if x=='-' else x)\n",
    "  tests_raw[date] = tests_raw[date].astype(int)\n",
    "  tests_total[date] = np.sum(tests_raw[date])"
   ]
  },
  {
   "cell_type": "code",
   "execution_count": 13,
   "metadata": {},
   "outputs": [],
   "source": [
    "#hide\n",
    "tests_raw.loc['Total'] = tests_total"
   ]
  },
  {
   "cell_type": "code",
   "execution_count": 14,
   "metadata": {},
   "outputs": [],
   "source": [
    "#hide\n",
    "tests_table = pd.DataFrame()\n",
    "tests_table[\"Región\"] = tests_raw.reset_index()['Region']\n",
    "tests_table[\"Exámenes informados\"] = tests_raw.drop(columns='Poblacion').sum(axis=1).values\n",
    "tests_table[\"Exámenes informados por 100.000 habs.\"] = \\\n",
    "np.round(100000*tests_raw.drop(columns='Poblacion').sum(axis=1).values/tests_raw['Poblacion'], decimals=1).values"
   ]
  },
  {
   "cell_type": "code",
   "execution_count": 15,
   "metadata": {},
   "outputs": [],
   "source": [
    "#hide\n",
    "total_confirmed = casos_raw.iloc[-1,-1]\n",
    "total_deaths = deaths_raw.iloc[-1,-1]"
   ]
  },
  {
   "cell_type": "code",
   "execution_count": 16,
   "metadata": {},
   "outputs": [],
   "source": [
    "#hide\n",
    "total_confirmed_one_week_ago = casos_raw.iloc[-1,-8]\n",
    "total_deaths_one_week_ago = deaths_one_week_ago.loc[\"Total\", \"Fallecidos\"]"
   ]
  },
  {
   "cell_type": "code",
   "execution_count": 17,
   "metadata": {},
   "outputs": [],
   "source": [
    "#hide\n",
    "diff_cases = total_confirmed-total_confirmed_one_week_ago\n",
    "diff_deaths = total_deaths-total_deaths_one_week_ago"
   ]
  },
  {
   "cell_type": "code",
   "execution_count": 18,
   "metadata": {},
   "outputs": [],
   "source": [
    "#hide\n",
    "total_confirmed = '{:,}'.format(total_confirmed).replace(',', '.')\n",
    "total_deaths = '{:,}'.format(total_deaths).replace(',', '.')"
   ]
  },
  {
   "cell_type": "code",
   "execution_count": 19,
   "metadata": {},
   "outputs": [],
   "source": [
    "#hide\n",
    "diff_cases = '{:,}'.format(diff_cases).replace(',', '.')\n",
    "diff_deaths = '{:,}'.format(diff_deaths).replace(',', '.')"
   ]
  },
  {
   "cell_type": "markdown",
   "metadata": {},
   "source": [
    "# Estadísticas para Chile"
   ]
  },
  {
   "cell_type": "code",
   "execution_count": 20,
   "metadata": {
    "scrolled": true
   },
   "outputs": [
    {
     "data": {
      "text/html": [
       "<p style=\"color:#3361ff;\"><span style=\"font-weight:bold;\">Casos confirmados:</span> 13.813 (+3.306 en una semana)</p><p style=\"color:#FF3F3F;\"><span style=\"font-weight:bold;\">Fallecimientos confirmados:</span> 198 (+59 en una semana)</p>"
      ],
      "text/plain": [
       "<IPython.core.display.HTML object>"
      ]
     },
     "execution_count": 20,
     "metadata": {},
     "output_type": "execute_result"
    }
   ],
   "source": [
    "#hide_input\n",
    "HTML(f'<p style=\"color:#3361ff;\"><span style=\"font-weight:bold;\">Casos confirmados:</span> {total_confirmed} (+{diff_cases} en una semana)</p><p style=\"color:#FF3F3F;\"><span style=\"font-weight:bold;\">Fallecimientos confirmados:</span> {total_deaths} (+{diff_deaths} en una semana)</p>')"
   ]
  },
  {
   "cell_type": "code",
   "execution_count": 21,
   "metadata": {
    "scrolled": false
   },
   "outputs": [
    {
     "data": {
      "text/html": [
       "<style  type=\"text/css\" >\n",
       "    #T_408dfde4_88b2_11ea_8cea_60f81dc8f27arow0_col0 {\n",
       "            text-align:  right;\n",
       "        }    #T_408dfde4_88b2_11ea_8cea_60f81dc8f27arow0_col1 {\n",
       "            text-align:  right;\n",
       "            background-color:  #fff0e8;\n",
       "            color:  #000000;\n",
       "        }    #T_408dfde4_88b2_11ea_8cea_60f81dc8f27arow0_col2 {\n",
       "            text-align:  right;\n",
       "            background-color:  #fdd5c4;\n",
       "            color:  #000000;\n",
       "        }    #T_408dfde4_88b2_11ea_8cea_60f81dc8f27arow0_col3 {\n",
       "            text-align:  right;\n",
       "            background-color:  #fff0e8;\n",
       "            color:  #000000;\n",
       "        }    #T_408dfde4_88b2_11ea_8cea_60f81dc8f27arow0_col4 {\n",
       "            text-align:  right;\n",
       "            background-color:  #fdc6b0;\n",
       "            color:  #000000;\n",
       "        }    #T_408dfde4_88b2_11ea_8cea_60f81dc8f27arow1_col0 {\n",
       "            text-align:  right;\n",
       "        }    #T_408dfde4_88b2_11ea_8cea_60f81dc8f27arow1_col1 {\n",
       "            text-align:  right;\n",
       "            background-color:  #fff2eb;\n",
       "            color:  #000000;\n",
       "        }    #T_408dfde4_88b2_11ea_8cea_60f81dc8f27arow1_col2 {\n",
       "            text-align:  right;\n",
       "            background-color:  #fca78b;\n",
       "            color:  #000000;\n",
       "        }    #T_408dfde4_88b2_11ea_8cea_60f81dc8f27arow1_col3 {\n",
       "            text-align:  right;\n",
       "            background-color:  #fff4ee;\n",
       "            color:  #000000;\n",
       "        }    #T_408dfde4_88b2_11ea_8cea_60f81dc8f27arow1_col4 {\n",
       "            text-align:  right;\n",
       "            background-color:  #ffece4;\n",
       "            color:  #000000;\n",
       "        }    #T_408dfde4_88b2_11ea_8cea_60f81dc8f27arow2_col0 {\n",
       "            text-align:  right;\n",
       "        }    #T_408dfde4_88b2_11ea_8cea_60f81dc8f27arow2_col1 {\n",
       "            text-align:  right;\n",
       "            background-color:  #ffece3;\n",
       "            color:  #000000;\n",
       "        }    #T_408dfde4_88b2_11ea_8cea_60f81dc8f27arow2_col2 {\n",
       "            text-align:  right;\n",
       "            background-color:  #fcb69b;\n",
       "            color:  #000000;\n",
       "        }    #T_408dfde4_88b2_11ea_8cea_60f81dc8f27arow2_col3 {\n",
       "            text-align:  right;\n",
       "            background-color:  #ffeee7;\n",
       "            color:  #000000;\n",
       "        }    #T_408dfde4_88b2_11ea_8cea_60f81dc8f27arow2_col4 {\n",
       "            text-align:  right;\n",
       "            background-color:  #fee3d7;\n",
       "            color:  #000000;\n",
       "        }    #T_408dfde4_88b2_11ea_8cea_60f81dc8f27arow3_col0 {\n",
       "            text-align:  right;\n",
       "        }    #T_408dfde4_88b2_11ea_8cea_60f81dc8f27arow3_col1 {\n",
       "            text-align:  right;\n",
       "            background-color:  #fff5f0;\n",
       "            color:  #000000;\n",
       "        }    #T_408dfde4_88b2_11ea_8cea_60f81dc8f27arow3_col2 {\n",
       "            text-align:  right;\n",
       "            background-color:  #fff3ed;\n",
       "            color:  #000000;\n",
       "        }    #T_408dfde4_88b2_11ea_8cea_60f81dc8f27arow3_col3 {\n",
       "            text-align:  right;\n",
       "            background-color:  #fff5f0;\n",
       "            color:  #000000;\n",
       "        }    #T_408dfde4_88b2_11ea_8cea_60f81dc8f27arow3_col4 {\n",
       "            text-align:  right;\n",
       "            background-color:  #fff5f0;\n",
       "            color:  #000000;\n",
       "        }    #T_408dfde4_88b2_11ea_8cea_60f81dc8f27arow4_col0 {\n",
       "            text-align:  right;\n",
       "        }    #T_408dfde4_88b2_11ea_8cea_60f81dc8f27arow4_col1 {\n",
       "            text-align:  right;\n",
       "            background-color:  #fff4ee;\n",
       "            color:  #000000;\n",
       "        }    #T_408dfde4_88b2_11ea_8cea_60f81dc8f27arow4_col2 {\n",
       "            text-align:  right;\n",
       "            background-color:  #fff5f0;\n",
       "            color:  #000000;\n",
       "        }    #T_408dfde4_88b2_11ea_8cea_60f81dc8f27arow4_col3 {\n",
       "            text-align:  right;\n",
       "            background-color:  #fff5f0;\n",
       "            color:  #000000;\n",
       "        }    #T_408dfde4_88b2_11ea_8cea_60f81dc8f27arow4_col4 {\n",
       "            text-align:  right;\n",
       "            background-color:  #fff5f0;\n",
       "            color:  #000000;\n",
       "        }    #T_408dfde4_88b2_11ea_8cea_60f81dc8f27arow5_col0 {\n",
       "            text-align:  right;\n",
       "        }    #T_408dfde4_88b2_11ea_8cea_60f81dc8f27arow5_col1 {\n",
       "            text-align:  right;\n",
       "            background-color:  #ffebe2;\n",
       "            color:  #000000;\n",
       "        }    #T_408dfde4_88b2_11ea_8cea_60f81dc8f27arow5_col2 {\n",
       "            text-align:  right;\n",
       "            background-color:  #fee5d9;\n",
       "            color:  #000000;\n",
       "        }    #T_408dfde4_88b2_11ea_8cea_60f81dc8f27arow5_col3 {\n",
       "            text-align:  right;\n",
       "            background-color:  #fee5d9;\n",
       "            color:  #000000;\n",
       "        }    #T_408dfde4_88b2_11ea_8cea_60f81dc8f27arow5_col4 {\n",
       "            text-align:  right;\n",
       "            background-color:  #fee7db;\n",
       "            color:  #000000;\n",
       "        }    #T_408dfde4_88b2_11ea_8cea_60f81dc8f27arow6_col0 {\n",
       "            text-align:  right;\n",
       "        }    #T_408dfde4_88b2_11ea_8cea_60f81dc8f27arow6_col1 {\n",
       "            text-align:  right;\n",
       "            background-color:  #67000d;\n",
       "            color:  #f1f1f1;\n",
       "        }    #T_408dfde4_88b2_11ea_8cea_60f81dc8f27arow6_col2 {\n",
       "            text-align:  right;\n",
       "            background-color:  #fff4ef;\n",
       "            color:  #000000;\n",
       "        }    #T_408dfde4_88b2_11ea_8cea_60f81dc8f27arow6_col3 {\n",
       "            text-align:  right;\n",
       "            background-color:  #67000d;\n",
       "            color:  #f1f1f1;\n",
       "        }    #T_408dfde4_88b2_11ea_8cea_60f81dc8f27arow6_col4 {\n",
       "            text-align:  right;\n",
       "            background-color:  #fdc6b0;\n",
       "            color:  #000000;\n",
       "        }    #T_408dfde4_88b2_11ea_8cea_60f81dc8f27arow7_col0 {\n",
       "            text-align:  right;\n",
       "        }    #T_408dfde4_88b2_11ea_8cea_60f81dc8f27arow7_col1 {\n",
       "            text-align:  right;\n",
       "            background-color:  #fff4ee;\n",
       "            color:  #000000;\n",
       "        }    #T_408dfde4_88b2_11ea_8cea_60f81dc8f27arow7_col2 {\n",
       "            text-align:  right;\n",
       "            background-color:  #fee0d2;\n",
       "            color:  #000000;\n",
       "        }    #T_408dfde4_88b2_11ea_8cea_60f81dc8f27arow7_col3 {\n",
       "            text-align:  right;\n",
       "            background-color:  #fff4ee;\n",
       "            color:  #000000;\n",
       "        }    #T_408dfde4_88b2_11ea_8cea_60f81dc8f27arow7_col4 {\n",
       "            text-align:  right;\n",
       "            background-color:  #fff2ec;\n",
       "            color:  #000000;\n",
       "        }    #T_408dfde4_88b2_11ea_8cea_60f81dc8f27arow8_col0 {\n",
       "            text-align:  right;\n",
       "        }    #T_408dfde4_88b2_11ea_8cea_60f81dc8f27arow8_col1 {\n",
       "            text-align:  right;\n",
       "            background-color:  #ffeee6;\n",
       "            color:  #000000;\n",
       "        }    #T_408dfde4_88b2_11ea_8cea_60f81dc8f27arow8_col2 {\n",
       "            text-align:  right;\n",
       "            background-color:  #fee4d8;\n",
       "            color:  #000000;\n",
       "        }    #T_408dfde4_88b2_11ea_8cea_60f81dc8f27arow8_col3 {\n",
       "            text-align:  right;\n",
       "            background-color:  #fee0d2;\n",
       "            color:  #000000;\n",
       "        }    #T_408dfde4_88b2_11ea_8cea_60f81dc8f27arow8_col4 {\n",
       "            text-align:  right;\n",
       "            background-color:  #fdcbb6;\n",
       "            color:  #000000;\n",
       "        }    #T_408dfde4_88b2_11ea_8cea_60f81dc8f27arow9_col0 {\n",
       "            text-align:  right;\n",
       "        }    #T_408dfde4_88b2_11ea_8cea_60f81dc8f27arow9_col1 {\n",
       "            text-align:  right;\n",
       "            background-color:  #fee6da;\n",
       "            color:  #000000;\n",
       "        }    #T_408dfde4_88b2_11ea_8cea_60f81dc8f27arow9_col2 {\n",
       "            text-align:  right;\n",
       "            background-color:  #67000d;\n",
       "            color:  #f1f1f1;\n",
       "        }    #T_408dfde4_88b2_11ea_8cea_60f81dc8f27arow9_col3 {\n",
       "            text-align:  right;\n",
       "            background-color:  #fedaca;\n",
       "            color:  #000000;\n",
       "        }    #T_408dfde4_88b2_11ea_8cea_60f81dc8f27arow9_col4 {\n",
       "            text-align:  right;\n",
       "            background-color:  #fb7050;\n",
       "            color:  #000000;\n",
       "        }    #T_408dfde4_88b2_11ea_8cea_60f81dc8f27arow10_col0 {\n",
       "            text-align:  right;\n",
       "        }    #T_408dfde4_88b2_11ea_8cea_60f81dc8f27arow10_col1 {\n",
       "            text-align:  right;\n",
       "            background-color:  #fee7db;\n",
       "            color:  #000000;\n",
       "        }    #T_408dfde4_88b2_11ea_8cea_60f81dc8f27arow10_col2 {\n",
       "            text-align:  right;\n",
       "            background-color:  #feeae0;\n",
       "            color:  #000000;\n",
       "        }    #T_408dfde4_88b2_11ea_8cea_60f81dc8f27arow10_col3 {\n",
       "            text-align:  right;\n",
       "            background-color:  #feeae1;\n",
       "            color:  #000000;\n",
       "        }    #T_408dfde4_88b2_11ea_8cea_60f81dc8f27arow10_col4 {\n",
       "            text-align:  right;\n",
       "            background-color:  #fee9df;\n",
       "            color:  #000000;\n",
       "        }    #T_408dfde4_88b2_11ea_8cea_60f81dc8f27arow11_col0 {\n",
       "            text-align:  right;\n",
       "        }    #T_408dfde4_88b2_11ea_8cea_60f81dc8f27arow11_col1 {\n",
       "            text-align:  right;\n",
       "            background-color:  #fdd7c6;\n",
       "            color:  #000000;\n",
       "        }    #T_408dfde4_88b2_11ea_8cea_60f81dc8f27arow11_col2 {\n",
       "            text-align:  right;\n",
       "            background-color:  #fcbda4;\n",
       "            color:  #000000;\n",
       "        }    #T_408dfde4_88b2_11ea_8cea_60f81dc8f27arow11_col3 {\n",
       "            text-align:  right;\n",
       "            background-color:  #fc9e80;\n",
       "            color:  #000000;\n",
       "        }    #T_408dfde4_88b2_11ea_8cea_60f81dc8f27arow11_col4 {\n",
       "            text-align:  right;\n",
       "            background-color:  #f44f39;\n",
       "            color:  #000000;\n",
       "        }    #T_408dfde4_88b2_11ea_8cea_60f81dc8f27arow12_col0 {\n",
       "            text-align:  right;\n",
       "        }    #T_408dfde4_88b2_11ea_8cea_60f81dc8f27arow12_col1 {\n",
       "            text-align:  right;\n",
       "            background-color:  #fff2eb;\n",
       "            color:  #000000;\n",
       "        }    #T_408dfde4_88b2_11ea_8cea_60f81dc8f27arow12_col2 {\n",
       "            text-align:  right;\n",
       "            background-color:  #fff4ee;\n",
       "            color:  #000000;\n",
       "        }    #T_408dfde4_88b2_11ea_8cea_60f81dc8f27arow12_col3 {\n",
       "            text-align:  right;\n",
       "            background-color:  #fff0e8;\n",
       "            color:  #000000;\n",
       "        }    #T_408dfde4_88b2_11ea_8cea_60f81dc8f27arow12_col4 {\n",
       "            text-align:  right;\n",
       "            background-color:  #fee0d2;\n",
       "            color:  #000000;\n",
       "        }    #T_408dfde4_88b2_11ea_8cea_60f81dc8f27arow13_col0 {\n",
       "            text-align:  right;\n",
       "        }    #T_408dfde4_88b2_11ea_8cea_60f81dc8f27arow13_col1 {\n",
       "            text-align:  right;\n",
       "            background-color:  #ffebe2;\n",
       "            color:  #000000;\n",
       "        }    #T_408dfde4_88b2_11ea_8cea_60f81dc8f27arow13_col2 {\n",
       "            text-align:  right;\n",
       "            background-color:  #fee5d8;\n",
       "            color:  #000000;\n",
       "        }    #T_408dfde4_88b2_11ea_8cea_60f81dc8f27arow13_col3 {\n",
       "            text-align:  right;\n",
       "            background-color:  #fee7dc;\n",
       "            color:  #000000;\n",
       "        }    #T_408dfde4_88b2_11ea_8cea_60f81dc8f27arow13_col4 {\n",
       "            text-align:  right;\n",
       "            background-color:  #fdd5c4;\n",
       "            color:  #000000;\n",
       "        }    #T_408dfde4_88b2_11ea_8cea_60f81dc8f27arow14_col0 {\n",
       "            text-align:  right;\n",
       "        }    #T_408dfde4_88b2_11ea_8cea_60f81dc8f27arow14_col1 {\n",
       "            text-align:  right;\n",
       "            background-color:  #fff5f0;\n",
       "            color:  #000000;\n",
       "        }    #T_408dfde4_88b2_11ea_8cea_60f81dc8f27arow14_col2 {\n",
       "            text-align:  right;\n",
       "            background-color:  #ffede5;\n",
       "            color:  #000000;\n",
       "        }    #T_408dfde4_88b2_11ea_8cea_60f81dc8f27arow14_col3 {\n",
       "            text-align:  right;\n",
       "            background-color:  #fff5f0;\n",
       "            color:  #000000;\n",
       "        }    #T_408dfde4_88b2_11ea_8cea_60f81dc8f27arow14_col4 {\n",
       "            text-align:  right;\n",
       "            background-color:  #fff5f0;\n",
       "            color:  #000000;\n",
       "        }    #T_408dfde4_88b2_11ea_8cea_60f81dc8f27arow15_col0 {\n",
       "            text-align:  right;\n",
       "        }    #T_408dfde4_88b2_11ea_8cea_60f81dc8f27arow15_col1 {\n",
       "            text-align:  right;\n",
       "            background-color:  #fee7dc;\n",
       "            color:  #000000;\n",
       "        }    #T_408dfde4_88b2_11ea_8cea_60f81dc8f27arow15_col2 {\n",
       "            text-align:  right;\n",
       "            background-color:  #fc9373;\n",
       "            color:  #000000;\n",
       "        }    #T_408dfde4_88b2_11ea_8cea_60f81dc8f27arow15_col3 {\n",
       "            text-align:  right;\n",
       "            background-color:  #fee4d8;\n",
       "            color:  #000000;\n",
       "        }    #T_408dfde4_88b2_11ea_8cea_60f81dc8f27arow15_col4 {\n",
       "            text-align:  right;\n",
       "            background-color:  #67000d;\n",
       "            color:  #f1f1f1;\n",
       "        }</style><table id=\"T_408dfde4_88b2_11ea_8cea_60f81dc8f27a\" ><caption>Estadísticas por región: Casos confirmados (CC) y fallecidos confirmados (FC)</caption><thead>    <tr>        <th class=\"col_heading level0 col0\" >Region</th>        <th class=\"col_heading level0 col1\" >CC</th>        <th class=\"col_heading level0 col2\" >CC por 100.000 hab.</th>        <th class=\"col_heading level0 col3\" >FC</th>        <th class=\"col_heading level0 col4\" >FC por 100.000 hab.</th>    </tr></thead><tbody>\n",
       "                <tr>\n",
       "                                <td id=\"T_408dfde4_88b2_11ea_8cea_60f81dc8f27arow0_col0\" class=\"data row0 col0\" >Arica y Parinacota</td>\n",
       "                        <td id=\"T_408dfde4_88b2_11ea_8cea_60f81dc8f27arow0_col1\" class=\"data row0 col1\" >265</td>\n",
       "                        <td id=\"T_408dfde4_88b2_11ea_8cea_60f81dc8f27arow0_col2\" class=\"data row0 col2\" >66.1</td>\n",
       "                        <td id=\"T_408dfde4_88b2_11ea_8cea_60f81dc8f27arow0_col3\" class=\"data row0 col3\" >3</td>\n",
       "                        <td id=\"T_408dfde4_88b2_11ea_8cea_60f81dc8f27arow0_col4\" class=\"data row0 col4\" >1.2</td>\n",
       "            </tr>\n",
       "            <tr>\n",
       "                                <td id=\"T_408dfde4_88b2_11ea_8cea_60f81dc8f27arow1_col0\" class=\"data row1 col0\" >Tarapacá</td>\n",
       "                        <td id=\"T_408dfde4_88b2_11ea_8cea_60f81dc8f27arow1_col1\" class=\"data row1 col1\" >164</td>\n",
       "                        <td id=\"T_408dfde4_88b2_11ea_8cea_60f81dc8f27arow1_col2\" class=\"data row1 col2\" >121.9</td>\n",
       "                        <td id=\"T_408dfde4_88b2_11ea_8cea_60f81dc8f27arow1_col3\" class=\"data row1 col3\" >1</td>\n",
       "                        <td id=\"T_408dfde4_88b2_11ea_8cea_60f81dc8f27arow1_col4\" class=\"data row1 col4\" >0.3</td>\n",
       "            </tr>\n",
       "            <tr>\n",
       "                                <td id=\"T_408dfde4_88b2_11ea_8cea_60f81dc8f27arow2_col0\" class=\"data row2 col0\" >Antofagasta</td>\n",
       "                        <td id=\"T_408dfde4_88b2_11ea_8cea_60f81dc8f27arow2_col1\" class=\"data row2 col1\" >457</td>\n",
       "                        <td id=\"T_408dfde4_88b2_11ea_8cea_60f81dc8f27arow2_col2\" class=\"data row2 col2\" >105.1</td>\n",
       "                        <td id=\"T_408dfde4_88b2_11ea_8cea_60f81dc8f27arow2_col3\" class=\"data row2 col3\" >4</td>\n",
       "                        <td id=\"T_408dfde4_88b2_11ea_8cea_60f81dc8f27arow2_col4\" class=\"data row2 col4\" >0.6</td>\n",
       "            </tr>\n",
       "            <tr>\n",
       "                                <td id=\"T_408dfde4_88b2_11ea_8cea_60f81dc8f27arow3_col0\" class=\"data row3 col0\" >Atacama</td>\n",
       "                        <td id=\"T_408dfde4_88b2_11ea_8cea_60f81dc8f27arow3_col1\" class=\"data row3 col1\" >35</td>\n",
       "                        <td id=\"T_408dfde4_88b2_11ea_8cea_60f81dc8f27arow3_col2\" class=\"data row3 col2\" >11.1</td>\n",
       "                        <td id=\"T_408dfde4_88b2_11ea_8cea_60f81dc8f27arow3_col3\" class=\"data row3 col3\" >0</td>\n",
       "                        <td id=\"T_408dfde4_88b2_11ea_8cea_60f81dc8f27arow3_col4\" class=\"data row3 col4\" >0</td>\n",
       "            </tr>\n",
       "            <tr>\n",
       "                                <td id=\"T_408dfde4_88b2_11ea_8cea_60f81dc8f27arow4_col0\" class=\"data row4 col0\" >Coquimbo</td>\n",
       "                        <td id=\"T_408dfde4_88b2_11ea_8cea_60f81dc8f27arow4_col1\" class=\"data row4 col1\" >74</td>\n",
       "                        <td id=\"T_408dfde4_88b2_11ea_8cea_60f81dc8f27arow4_col2\" class=\"data row4 col2\" >6.5</td>\n",
       "                        <td id=\"T_408dfde4_88b2_11ea_8cea_60f81dc8f27arow4_col3\" class=\"data row4 col3\" >0</td>\n",
       "                        <td id=\"T_408dfde4_88b2_11ea_8cea_60f81dc8f27arow4_col4\" class=\"data row4 col4\" >0</td>\n",
       "            </tr>\n",
       "            <tr>\n",
       "                                <td id=\"T_408dfde4_88b2_11ea_8cea_60f81dc8f27arow5_col0\" class=\"data row5 col0\" >Valparaíso</td>\n",
       "                        <td id=\"T_408dfde4_88b2_11ea_8cea_60f81dc8f27arow5_col1\" class=\"data row5 col1\" >485</td>\n",
       "                        <td id=\"T_408dfde4_88b2_11ea_8cea_60f81dc8f27arow5_col2\" class=\"data row5 col2\" >42.4</td>\n",
       "                        <td id=\"T_408dfde4_88b2_11ea_8cea_60f81dc8f27arow5_col3\" class=\"data row5 col3\" >9</td>\n",
       "                        <td id=\"T_408dfde4_88b2_11ea_8cea_60f81dc8f27arow5_col4\" class=\"data row5 col4\" >0.5</td>\n",
       "            </tr>\n",
       "            <tr>\n",
       "                                <td id=\"T_408dfde4_88b2_11ea_8cea_60f81dc8f27arow6_col0\" class=\"data row6 col0\" >Metropolitana</td>\n",
       "                        <td id=\"T_408dfde4_88b2_11ea_8cea_60f81dc8f27arow6_col1\" class=\"data row6 col1\" >7858</td>\n",
       "                        <td id=\"T_408dfde4_88b2_11ea_8cea_60f81dc8f27arow6_col2\" class=\"data row6 col2\" >8.9</td>\n",
       "                        <td id=\"T_408dfde4_88b2_11ea_8cea_60f81dc8f27arow6_col3\" class=\"data row6 col3\" >95</td>\n",
       "                        <td id=\"T_408dfde4_88b2_11ea_8cea_60f81dc8f27arow6_col4\" class=\"data row6 col4\" >1.2</td>\n",
       "            </tr>\n",
       "            <tr>\n",
       "                                <td id=\"T_408dfde4_88b2_11ea_8cea_60f81dc8f27arow7_col0\" class=\"data row7 col0\" >O’Higgins</td>\n",
       "                        <td id=\"T_408dfde4_88b2_11ea_8cea_60f81dc8f27arow7_col1\" class=\"data row7 col1\" >94</td>\n",
       "                        <td id=\"T_408dfde4_88b2_11ea_8cea_60f81dc8f27arow7_col2\" class=\"data row7 col2\" >53.5</td>\n",
       "                        <td id=\"T_408dfde4_88b2_11ea_8cea_60f81dc8f27arow7_col3\" class=\"data row7 col3\" >1</td>\n",
       "                        <td id=\"T_408dfde4_88b2_11ea_8cea_60f81dc8f27arow7_col4\" class=\"data row7 col4\" >0.1</td>\n",
       "            </tr>\n",
       "            <tr>\n",
       "                                <td id=\"T_408dfde4_88b2_11ea_8cea_60f81dc8f27arow8_col0\" class=\"data row8 col0\" >Maule</td>\n",
       "                        <td id=\"T_408dfde4_88b2_11ea_8cea_60f81dc8f27arow8_col1\" class=\"data row8 col1\" >363</td>\n",
       "                        <td id=\"T_408dfde4_88b2_11ea_8cea_60f81dc8f27arow8_col2\" class=\"data row8 col2\" >44.4</td>\n",
       "                        <td id=\"T_408dfde4_88b2_11ea_8cea_60f81dc8f27arow8_col3\" class=\"data row8 col3\" >12</td>\n",
       "                        <td id=\"T_408dfde4_88b2_11ea_8cea_60f81dc8f27arow8_col4\" class=\"data row8 col4\" >1.1</td>\n",
       "            </tr>\n",
       "            <tr>\n",
       "                                <td id=\"T_408dfde4_88b2_11ea_8cea_60f81dc8f27arow9_col0\" class=\"data row9 col0\" >Ñuble</td>\n",
       "                        <td id=\"T_408dfde4_88b2_11ea_8cea_60f81dc8f27arow9_col1\" class=\"data row9 col1\" >741</td>\n",
       "                        <td id=\"T_408dfde4_88b2_11ea_8cea_60f81dc8f27arow9_col2\" class=\"data row9 col2\" >376.2</td>\n",
       "                        <td id=\"T_408dfde4_88b2_11ea_8cea_60f81dc8f27arow9_col3\" class=\"data row9 col3\" >14</td>\n",
       "                        <td id=\"T_408dfde4_88b2_11ea_8cea_60f81dc8f27arow9_col4\" class=\"data row9 col4\" >2.7</td>\n",
       "            </tr>\n",
       "            <tr>\n",
       "                                <td id=\"T_408dfde4_88b2_11ea_8cea_60f81dc8f27arow10_col0\" class=\"data row10 col0\" >Biobío</td>\n",
       "                        <td id=\"T_408dfde4_88b2_11ea_8cea_60f81dc8f27arow10_col1\" class=\"data row10 col1\" >706</td>\n",
       "                        <td id=\"T_408dfde4_88b2_11ea_8cea_60f81dc8f27arow10_col2\" class=\"data row10 col2\" >32.1</td>\n",
       "                        <td id=\"T_408dfde4_88b2_11ea_8cea_60f81dc8f27arow10_col3\" class=\"data row10 col3\" >6</td>\n",
       "                        <td id=\"T_408dfde4_88b2_11ea_8cea_60f81dc8f27arow10_col4\" class=\"data row10 col4\" >0.4</td>\n",
       "            </tr>\n",
       "            <tr>\n",
       "                                <td id=\"T_408dfde4_88b2_11ea_8cea_60f81dc8f27arow11_col0\" class=\"data row11 col0\" >Araucanía</td>\n",
       "                        <td id=\"T_408dfde4_88b2_11ea_8cea_60f81dc8f27arow11_col1\" class=\"data row11 col1\" >1236</td>\n",
       "                        <td id=\"T_408dfde4_88b2_11ea_8cea_60f81dc8f27arow11_col2\" class=\"data row11 col2\" >96.7</td>\n",
       "                        <td id=\"T_408dfde4_88b2_11ea_8cea_60f81dc8f27arow11_col3\" class=\"data row11 col3\" >32</td>\n",
       "                        <td id=\"T_408dfde4_88b2_11ea_8cea_60f81dc8f27arow11_col4\" class=\"data row11 col4\" >3.2</td>\n",
       "            </tr>\n",
       "            <tr>\n",
       "                                <td id=\"T_408dfde4_88b2_11ea_8cea_60f81dc8f27arow12_col0\" class=\"data row12 col0\" >Los Ríos</td>\n",
       "                        <td id=\"T_408dfde4_88b2_11ea_8cea_60f81dc8f27arow12_col1\" class=\"data row12 col1\" >180</td>\n",
       "                        <td id=\"T_408dfde4_88b2_11ea_8cea_60f81dc8f27arow12_col2\" class=\"data row12 col2\" >9.5</td>\n",
       "                        <td id=\"T_408dfde4_88b2_11ea_8cea_60f81dc8f27arow12_col3\" class=\"data row12 col3\" >3</td>\n",
       "                        <td id=\"T_408dfde4_88b2_11ea_8cea_60f81dc8f27arow12_col4\" class=\"data row12 col4\" >0.7</td>\n",
       "            </tr>\n",
       "            <tr>\n",
       "                                <td id=\"T_408dfde4_88b2_11ea_8cea_60f81dc8f27arow13_col0\" class=\"data row13 col0\" >Los Lagos</td>\n",
       "                        <td id=\"T_408dfde4_88b2_11ea_8cea_60f81dc8f27arow13_col1\" class=\"data row13 col1\" >477</td>\n",
       "                        <td id=\"T_408dfde4_88b2_11ea_8cea_60f81dc8f27arow13_col2\" class=\"data row13 col2\" >42.8</td>\n",
       "                        <td id=\"T_408dfde4_88b2_11ea_8cea_60f81dc8f27arow13_col3\" class=\"data row13 col3\" >8</td>\n",
       "                        <td id=\"T_408dfde4_88b2_11ea_8cea_60f81dc8f27arow13_col4\" class=\"data row13 col4\" >0.9</td>\n",
       "            </tr>\n",
       "            <tr>\n",
       "                                <td id=\"T_408dfde4_88b2_11ea_8cea_60f81dc8f27arow14_col0\" class=\"data row14 col0\" >Aysén</td>\n",
       "                        <td id=\"T_408dfde4_88b2_11ea_8cea_60f81dc8f27arow14_col1\" class=\"data row14 col1\" >7</td>\n",
       "                        <td id=\"T_408dfde4_88b2_11ea_8cea_60f81dc8f27arow14_col2\" class=\"data row14 col2\" >24.7</td>\n",
       "                        <td id=\"T_408dfde4_88b2_11ea_8cea_60f81dc8f27arow14_col3\" class=\"data row14 col3\" >0</td>\n",
       "                        <td id=\"T_408dfde4_88b2_11ea_8cea_60f81dc8f27arow14_col4\" class=\"data row14 col4\" >0</td>\n",
       "            </tr>\n",
       "            <tr>\n",
       "                                <td id=\"T_408dfde4_88b2_11ea_8cea_60f81dc8f27arow15_col0\" class=\"data row15 col0\" >Magallanes</td>\n",
       "                        <td id=\"T_408dfde4_88b2_11ea_8cea_60f81dc8f27arow15_col1\" class=\"data row15 col1\" >671</td>\n",
       "                        <td id=\"T_408dfde4_88b2_11ea_8cea_60f81dc8f27arow15_col2\" class=\"data row15 col2\" >144.9</td>\n",
       "                        <td id=\"T_408dfde4_88b2_11ea_8cea_60f81dc8f27arow15_col3\" class=\"data row15 col3\" >10</td>\n",
       "                        <td id=\"T_408dfde4_88b2_11ea_8cea_60f81dc8f27arow15_col4\" class=\"data row15 col4\" >5.6</td>\n",
       "            </tr>\n",
       "    </tbody></table>"
      ],
      "text/plain": [
       "<pandas.io.formats.style.Styler at 0x12115c990>"
      ]
     },
     "execution_count": 21,
     "metadata": {},
     "output_type": "execute_result"
    }
   ],
   "source": [
    "#hide_input\n",
    "(data_table.style.set_properties(**{'text-align': 'right'}).background_gradient(cmap='Reds').hide_index()).set_caption('Estadísticas por región: Casos confirmados (CC) y fallecidos confirmados (FC)')"
   ]
  },
  {
   "cell_type": "code",
   "execution_count": 22,
   "metadata": {},
   "outputs": [
    {
     "data": {
      "text/html": [
       "<style  type=\"text/css\" >\n",
       "    #T_40966740_88b2_11ea_8cea_60f81dc8f27arow0_col0 {\n",
       "            text-align:  right;\n",
       "        }    #T_40966740_88b2_11ea_8cea_60f81dc8f27arow0_col1 {\n",
       "            text-align:  right;\n",
       "            background-color:  #f4f9fe;\n",
       "            color:  #000000;\n",
       "        }    #T_40966740_88b2_11ea_8cea_60f81dc8f27arow0_col2 {\n",
       "            text-align:  right;\n",
       "            background-color:  #2979b9;\n",
       "            color:  #000000;\n",
       "        }    #T_40966740_88b2_11ea_8cea_60f81dc8f27arow1_col0 {\n",
       "            text-align:  right;\n",
       "        }    #T_40966740_88b2_11ea_8cea_60f81dc8f27arow1_col1 {\n",
       "            text-align:  right;\n",
       "            background-color:  #f6faff;\n",
       "            color:  #000000;\n",
       "        }    #T_40966740_88b2_11ea_8cea_60f81dc8f27arow1_col2 {\n",
       "            text-align:  right;\n",
       "            background-color:  #d2e3f3;\n",
       "            color:  #000000;\n",
       "        }    #T_40966740_88b2_11ea_8cea_60f81dc8f27arow2_col0 {\n",
       "            text-align:  right;\n",
       "        }    #T_40966740_88b2_11ea_8cea_60f81dc8f27arow2_col1 {\n",
       "            text-align:  right;\n",
       "            background-color:  #eff6fc;\n",
       "            color:  #000000;\n",
       "        }    #T_40966740_88b2_11ea_8cea_60f81dc8f27arow2_col2 {\n",
       "            text-align:  right;\n",
       "            background-color:  #65aad4;\n",
       "            color:  #000000;\n",
       "        }    #T_40966740_88b2_11ea_8cea_60f81dc8f27arow3_col0 {\n",
       "            text-align:  right;\n",
       "        }    #T_40966740_88b2_11ea_8cea_60f81dc8f27arow3_col1 {\n",
       "            text-align:  right;\n",
       "            background-color:  #f5fafe;\n",
       "            color:  #000000;\n",
       "        }    #T_40966740_88b2_11ea_8cea_60f81dc8f27arow3_col2 {\n",
       "            text-align:  right;\n",
       "            background-color:  #b4d3e9;\n",
       "            color:  #000000;\n",
       "        }    #T_40966740_88b2_11ea_8cea_60f81dc8f27arow4_col0 {\n",
       "            text-align:  right;\n",
       "        }    #T_40966740_88b2_11ea_8cea_60f81dc8f27arow4_col1 {\n",
       "            text-align:  right;\n",
       "            background-color:  #f7fbff;\n",
       "            color:  #000000;\n",
       "        }    #T_40966740_88b2_11ea_8cea_60f81dc8f27arow4_col2 {\n",
       "            text-align:  right;\n",
       "            background-color:  #f7fbff;\n",
       "            color:  #000000;\n",
       "        }    #T_40966740_88b2_11ea_8cea_60f81dc8f27arow5_col0 {\n",
       "            text-align:  right;\n",
       "        }    #T_40966740_88b2_11ea_8cea_60f81dc8f27arow5_col1 {\n",
       "            text-align:  right;\n",
       "            background-color:  #eaf2fb;\n",
       "            color:  #000000;\n",
       "        }    #T_40966740_88b2_11ea_8cea_60f81dc8f27arow5_col2 {\n",
       "            text-align:  right;\n",
       "            background-color:  #c2d9ee;\n",
       "            color:  #000000;\n",
       "        }    #T_40966740_88b2_11ea_8cea_60f81dc8f27arow6_col0 {\n",
       "            text-align:  right;\n",
       "        }    #T_40966740_88b2_11ea_8cea_60f81dc8f27arow6_col1 {\n",
       "            text-align:  right;\n",
       "            background-color:  #08306b;\n",
       "            color:  #f1f1f1;\n",
       "        }    #T_40966740_88b2_11ea_8cea_60f81dc8f27arow6_col2 {\n",
       "            text-align:  right;\n",
       "            background-color:  #08306b;\n",
       "            color:  #f1f1f1;\n",
       "        }    #T_40966740_88b2_11ea_8cea_60f81dc8f27arow7_col0 {\n",
       "            text-align:  right;\n",
       "        }    #T_40966740_88b2_11ea_8cea_60f81dc8f27arow7_col1 {\n",
       "            text-align:  right;\n",
       "            background-color:  #f5fafe;\n",
       "            color:  #000000;\n",
       "        }    #T_40966740_88b2_11ea_8cea_60f81dc8f27arow7_col2 {\n",
       "            text-align:  right;\n",
       "            background-color:  #e6f0f9;\n",
       "            color:  #000000;\n",
       "        }    #T_40966740_88b2_11ea_8cea_60f81dc8f27arow8_col0 {\n",
       "            text-align:  right;\n",
       "        }    #T_40966740_88b2_11ea_8cea_60f81dc8f27arow8_col1 {\n",
       "            text-align:  right;\n",
       "            background-color:  #e6f0f9;\n",
       "            color:  #000000;\n",
       "        }    #T_40966740_88b2_11ea_8cea_60f81dc8f27arow8_col2 {\n",
       "            text-align:  right;\n",
       "            background-color:  #3c8cc3;\n",
       "            color:  #000000;\n",
       "        }    #T_40966740_88b2_11ea_8cea_60f81dc8f27arow9_col0 {\n",
       "            text-align:  right;\n",
       "        }    #T_40966740_88b2_11ea_8cea_60f81dc8f27arow9_col1 {\n",
       "            text-align:  right;\n",
       "            background-color:  #f0f6fd;\n",
       "            color:  #000000;\n",
       "        }    #T_40966740_88b2_11ea_8cea_60f81dc8f27arow9_col2 {\n",
       "            text-align:  right;\n",
       "            background-color:  #4493c7;\n",
       "            color:  #000000;\n",
       "        }    #T_40966740_88b2_11ea_8cea_60f81dc8f27arow10_col0 {\n",
       "            text-align:  right;\n",
       "        }    #T_40966740_88b2_11ea_8cea_60f81dc8f27arow10_col1 {\n",
       "            text-align:  right;\n",
       "            background-color:  #e5eff9;\n",
       "            color:  #000000;\n",
       "        }    #T_40966740_88b2_11ea_8cea_60f81dc8f27arow10_col2 {\n",
       "            text-align:  right;\n",
       "            background-color:  #81badb;\n",
       "            color:  #000000;\n",
       "        }    #T_40966740_88b2_11ea_8cea_60f81dc8f27arow11_col0 {\n",
       "            text-align:  right;\n",
       "        }    #T_40966740_88b2_11ea_8cea_60f81dc8f27arow11_col1 {\n",
       "            text-align:  right;\n",
       "            background-color:  #eaf3fb;\n",
       "            color:  #000000;\n",
       "        }    #T_40966740_88b2_11ea_8cea_60f81dc8f27arow11_col2 {\n",
       "            text-align:  right;\n",
       "            background-color:  #66abd4;\n",
       "            color:  #000000;\n",
       "        }    #T_40966740_88b2_11ea_8cea_60f81dc8f27arow12_col0 {\n",
       "            text-align:  right;\n",
       "        }    #T_40966740_88b2_11ea_8cea_60f81dc8f27arow12_col1 {\n",
       "            text-align:  right;\n",
       "            background-color:  #f5f9fe;\n",
       "            color:  #000000;\n",
       "        }    #T_40966740_88b2_11ea_8cea_60f81dc8f27arow12_col2 {\n",
       "            text-align:  right;\n",
       "            background-color:  #b3d3e8;\n",
       "            color:  #000000;\n",
       "        }    #T_40966740_88b2_11ea_8cea_60f81dc8f27arow13_col0 {\n",
       "            text-align:  right;\n",
       "        }    #T_40966740_88b2_11ea_8cea_60f81dc8f27arow13_col1 {\n",
       "            text-align:  right;\n",
       "            background-color:  #ebf3fb;\n",
       "            color:  #000000;\n",
       "        }    #T_40966740_88b2_11ea_8cea_60f81dc8f27arow13_col2 {\n",
       "            text-align:  right;\n",
       "            background-color:  #56a0ce;\n",
       "            color:  #000000;\n",
       "        }    #T_40966740_88b2_11ea_8cea_60f81dc8f27arow14_col0 {\n",
       "            text-align:  right;\n",
       "        }    #T_40966740_88b2_11ea_8cea_60f81dc8f27arow14_col1 {\n",
       "            text-align:  right;\n",
       "            background-color:  #f7fbff;\n",
       "            color:  #000000;\n",
       "        }    #T_40966740_88b2_11ea_8cea_60f81dc8f27arow14_col2 {\n",
       "            text-align:  right;\n",
       "            background-color:  #cddff1;\n",
       "            color:  #000000;\n",
       "        }    #T_40966740_88b2_11ea_8cea_60f81dc8f27arow15_col0 {\n",
       "            text-align:  right;\n",
       "        }    #T_40966740_88b2_11ea_8cea_60f81dc8f27arow15_col1 {\n",
       "            text-align:  right;\n",
       "            background-color:  #f5f9fe;\n",
       "            color:  #000000;\n",
       "        }    #T_40966740_88b2_11ea_8cea_60f81dc8f27arow15_col2 {\n",
       "            text-align:  right;\n",
       "            background-color:  #2272b6;\n",
       "            color:  #f1f1f1;\n",
       "        }</style><table id=\"T_40966740_88b2_11ea_8cea_60f81dc8f27a\" ><caption>Estadísticas por región: Exámenes informados desde el 9 de abril</caption><thead>    <tr>        <th class=\"col_heading level0 col0\" >Región</th>        <th class=\"col_heading level0 col1\" >Exámenes informados</th>        <th class=\"col_heading level0 col2\" >Exámenes informados por 100.000 habs.</th>    </tr></thead><tbody>\n",
       "                <tr>\n",
       "                                <td id=\"T_40966740_88b2_11ea_8cea_60f81dc8f27arow0_col0\" class=\"data row0 col0\" >Arica y Parinacota</td>\n",
       "                        <td id=\"T_40966740_88b2_11ea_8cea_60f81dc8f27arow0_col1\" class=\"data row0 col1\" >1452</td>\n",
       "                        <td id=\"T_40966740_88b2_11ea_8cea_60f81dc8f27arow0_col2\" class=\"data row0 col2\" >575.9</td>\n",
       "            </tr>\n",
       "            <tr>\n",
       "                                <td id=\"T_40966740_88b2_11ea_8cea_60f81dc8f27arow1_col0\" class=\"data row1 col0\" >Tarapacá</td>\n",
       "                        <td id=\"T_40966740_88b2_11ea_8cea_60f81dc8f27arow1_col1\" class=\"data row1 col1\" >647</td>\n",
       "                        <td id=\"T_40966740_88b2_11ea_8cea_60f81dc8f27arow1_col2\" class=\"data row1 col2\" >169</td>\n",
       "            </tr>\n",
       "            <tr>\n",
       "                                <td id=\"T_40966740_88b2_11ea_8cea_60f81dc8f27arow2_col0\" class=\"data row2 col0\" >Antofagasta</td>\n",
       "                        <td id=\"T_40966740_88b2_11ea_8cea_60f81dc8f27arow2_col1\" class=\"data row2 col1\" >2917</td>\n",
       "                        <td id=\"T_40966740_88b2_11ea_8cea_60f81dc8f27arow2_col2\" class=\"data row2 col2\" >421.6</td>\n",
       "            </tr>\n",
       "            <tr>\n",
       "                                <td id=\"T_40966740_88b2_11ea_8cea_60f81dc8f27arow3_col0\" class=\"data row3 col0\" >Atacama</td>\n",
       "                        <td id=\"T_40966740_88b2_11ea_8cea_60f81dc8f27arow3_col1\" class=\"data row3 col1\" >814</td>\n",
       "                        <td id=\"T_40966740_88b2_11ea_8cea_60f81dc8f27arow3_col2\" class=\"data row3 col2\" >258.7</td>\n",
       "            </tr>\n",
       "            <tr>\n",
       "                                <td id=\"T_40966740_88b2_11ea_8cea_60f81dc8f27arow4_col0\" class=\"data row4 col0\" >Coquimbo</td>\n",
       "                        <td id=\"T_40966740_88b2_11ea_8cea_60f81dc8f27arow4_col1\" class=\"data row4 col1\" >213</td>\n",
       "                        <td id=\"T_40966740_88b2_11ea_8cea_60f81dc8f27arow4_col2\" class=\"data row4 col2\" >25.5</td>\n",
       "            </tr>\n",
       "            <tr>\n",
       "                                <td id=\"T_40966740_88b2_11ea_8cea_60f81dc8f27arow5_col0\" class=\"data row5 col0\" >Valparaíso</td>\n",
       "                        <td id=\"T_40966740_88b2_11ea_8cea_60f81dc8f27arow5_col1\" class=\"data row5 col1\" >4474</td>\n",
       "                        <td id=\"T_40966740_88b2_11ea_8cea_60f81dc8f27arow5_col2\" class=\"data row5 col2\" >228.2</td>\n",
       "            </tr>\n",
       "            <tr>\n",
       "                                <td id=\"T_40966740_88b2_11ea_8cea_60f81dc8f27arow6_col0\" class=\"data row6 col0\" >Metropolitana</td>\n",
       "                        <td id=\"T_40966740_88b2_11ea_8cea_60f81dc8f27arow6_col1\" class=\"data row6 col1\" >64192</td>\n",
       "                        <td id=\"T_40966740_88b2_11ea_8cea_60f81dc8f27arow6_col2\" class=\"data row6 col2\" >790</td>\n",
       "            </tr>\n",
       "            <tr>\n",
       "                                <td id=\"T_40966740_88b2_11ea_8cea_60f81dc8f27arow7_col0\" class=\"data row7 col0\" >O’Higgins</td>\n",
       "                        <td id=\"T_40966740_88b2_11ea_8cea_60f81dc8f27arow7_col1\" class=\"data row7 col1\" >910</td>\n",
       "                        <td id=\"T_40966740_88b2_11ea_8cea_60f81dc8f27arow7_col2\" class=\"data row7 col2\" >91.8</td>\n",
       "            </tr>\n",
       "            <tr>\n",
       "                                <td id=\"T_40966740_88b2_11ea_8cea_60f81dc8f27arow8_col0\" class=\"data row8 col0\" >Maule</td>\n",
       "                        <td id=\"T_40966740_88b2_11ea_8cea_60f81dc8f27arow8_col1\" class=\"data row8 col1\" >5896</td>\n",
       "                        <td id=\"T_40966740_88b2_11ea_8cea_60f81dc8f27arow8_col2\" class=\"data row8 col2\" >520.9</td>\n",
       "            </tr>\n",
       "            <tr>\n",
       "                                <td id=\"T_40966740_88b2_11ea_8cea_60f81dc8f27arow9_col0\" class=\"data row9 col0\" >Ñuble</td>\n",
       "                        <td id=\"T_40966740_88b2_11ea_8cea_60f81dc8f27arow9_col1\" class=\"data row9 col1\" >2549</td>\n",
       "                        <td id=\"T_40966740_88b2_11ea_8cea_60f81dc8f27arow9_col2\" class=\"data row9 col2\" >498.3</td>\n",
       "            </tr>\n",
       "            <tr>\n",
       "                                <td id=\"T_40966740_88b2_11ea_8cea_60f81dc8f27arow10_col0\" class=\"data row10 col0\" >Biobío</td>\n",
       "                        <td id=\"T_40966740_88b2_11ea_8cea_60f81dc8f27arow10_col1\" class=\"data row10 col1\" >6135</td>\n",
       "                        <td id=\"T_40966740_88b2_11ea_8cea_60f81dc8f27arow10_col2\" class=\"data row10 col2\" >368.8</td>\n",
       "            </tr>\n",
       "            <tr>\n",
       "                                <td id=\"T_40966740_88b2_11ea_8cea_60f81dc8f27arow11_col0\" class=\"data row11 col0\" >Araucanía</td>\n",
       "                        <td id=\"T_40966740_88b2_11ea_8cea_60f81dc8f27arow11_col1\" class=\"data row11 col1\" >4246</td>\n",
       "                        <td id=\"T_40966740_88b2_11ea_8cea_60f81dc8f27arow11_col2\" class=\"data row11 col2\" >418.6</td>\n",
       "            </tr>\n",
       "            <tr>\n",
       "                                <td id=\"T_40966740_88b2_11ea_8cea_60f81dc8f27arow12_col0\" class=\"data row12 col0\" >Los Ríos</td>\n",
       "                        <td id=\"T_40966740_88b2_11ea_8cea_60f81dc8f27arow12_col1\" class=\"data row12 col1\" >1069</td>\n",
       "                        <td id=\"T_40966740_88b2_11ea_8cea_60f81dc8f27arow12_col2\" class=\"data row12 col2\" >263.4</td>\n",
       "            </tr>\n",
       "            <tr>\n",
       "                                <td id=\"T_40966740_88b2_11ea_8cea_60f81dc8f27arow13_col0\" class=\"data row13 col0\" >Los Lagos</td>\n",
       "                        <td id=\"T_40966740_88b2_11ea_8cea_60f81dc8f27arow13_col1\" class=\"data row13 col1\" >4079</td>\n",
       "                        <td id=\"T_40966740_88b2_11ea_8cea_60f81dc8f27arow13_col2\" class=\"data row13 col2\" >457.6</td>\n",
       "            </tr>\n",
       "            <tr>\n",
       "                                <td id=\"T_40966740_88b2_11ea_8cea_60f81dc8f27arow14_col0\" class=\"data row14 col0\" >Aysén</td>\n",
       "                        <td id=\"T_40966740_88b2_11ea_8cea_60f81dc8f27arow14_col1\" class=\"data row14 col1\" >206</td>\n",
       "                        <td id=\"T_40966740_88b2_11ea_8cea_60f81dc8f27arow14_col2\" class=\"data row14 col2\" >192</td>\n",
       "            </tr>\n",
       "            <tr>\n",
       "                                <td id=\"T_40966740_88b2_11ea_8cea_60f81dc8f27arow15_col0\" class=\"data row15 col0\" >Magallanes</td>\n",
       "                        <td id=\"T_40966740_88b2_11ea_8cea_60f81dc8f27arow15_col1\" class=\"data row15 col1\" >1061</td>\n",
       "                        <td id=\"T_40966740_88b2_11ea_8cea_60f81dc8f27arow15_col2\" class=\"data row15 col2\" >594.9</td>\n",
       "            </tr>\n",
       "    </tbody></table>"
      ],
      "text/plain": [
       "<pandas.io.formats.style.Styler at 0x121403f50>"
      ]
     },
     "execution_count": 22,
     "metadata": {},
     "output_type": "execute_result"
    }
   ],
   "source": [
    "#hide_input\n",
    "(tests_table[:-1].style.set_properties(**{'text-align': 'right'}).background_gradient(cmap='Blues').hide_index()).set_caption('Estadísticas por región: Exámenes informados desde el 9 de abril')"
   ]
  },
  {
   "cell_type": "markdown",
   "metadata": {},
   "source": [
    "Nota: Los exámenes informados por región empezaron a informarse sólo desde el 9 de abril."
   ]
  },
  {
   "cell_type": "markdown",
   "metadata": {},
   "source": [
    "# Evolución de casos confirmados diarios"
   ]
  },
  {
   "cell_type": "code",
   "execution_count": 23,
   "metadata": {},
   "outputs": [],
   "source": [
    "#hide\n",
    "# Window size cases\n",
    "WS_cases = 7"
   ]
  },
  {
   "cell_type": "code",
   "execution_count": 24,
   "metadata": {},
   "outputs": [],
   "source": [
    "#hide\n",
    "casos_raw = pd.read_csv(\n",
    "    \"https://raw.githubusercontent.com/MinCiencia/Datos-COVID19/master/output/producto3/CasosTotalesCumulativo.csv\",\n",
    "    index_col='Region')"
   ]
  },
  {
   "cell_type": "code",
   "execution_count": 25,
   "metadata": {},
   "outputs": [],
   "source": [
    "#hide\n",
    "aux1 = casos_raw.loc[\"Total\"]\n",
    "aux2 = [t - s for s, t in zip(aux1, aux1.loc['2020-03-04':])]"
   ]
  },
  {
   "cell_type": "code",
   "execution_count": 26,
   "metadata": {},
   "outputs": [],
   "source": [
    "#hide\n",
    "new_cases = pd.DataFrame()\n",
    "new_cases[\"Dates\"] = casos_raw.loc[\"Total\"].reset_index()[\"index\"].iloc[1:].values\n",
    "new_cases[\"New_cases\"] = aux2\n",
    "new_cases[\"Rolling\"] = new_cases[\"New_cases\"].rolling(window=WS_cases).mean()\n",
    "new_cases[\"Casos confirmados diarios\"] = len(new_cases) * [\"Casos confirmados diarios\"]\n",
    "new_cases[\"Promedio móvil últimos 7 días\"] = len(new_cases) * [\"Promedio móvil últimos 7 días\"]"
   ]
  },
  {
   "cell_type": "code",
   "execution_count": 27,
   "metadata": {},
   "outputs": [
    {
     "data": {
      "text/html": [
       "\n",
       "<div id=\"altair-viz-552e62007673430fb0af20f466160f7b\"></div>\n",
       "<script type=\"text/javascript\">\n",
       "  (function(spec, embedOpt){\n",
       "    let outputDiv = document.currentScript.previousElementSibling;\n",
       "    if (outputDiv.id !== \"altair-viz-552e62007673430fb0af20f466160f7b\") {\n",
       "      outputDiv = document.getElementById(\"altair-viz-552e62007673430fb0af20f466160f7b\");\n",
       "    }\n",
       "    const paths = {\n",
       "      \"vega\": \"https://cdn.jsdelivr.net/npm//vega@5?noext\",\n",
       "      \"vega-lib\": \"https://cdn.jsdelivr.net/npm//vega-lib?noext\",\n",
       "      \"vega-lite\": \"https://cdn.jsdelivr.net/npm//vega-lite@4.8.1?noext\",\n",
       "      \"vega-embed\": \"https://cdn.jsdelivr.net/npm//vega-embed@6?noext\",\n",
       "    };\n",
       "\n",
       "    function loadScript(lib) {\n",
       "      return new Promise(function(resolve, reject) {\n",
       "        var s = document.createElement('script');\n",
       "        s.src = paths[lib];\n",
       "        s.async = true;\n",
       "        s.onload = () => resolve(paths[lib]);\n",
       "        s.onerror = () => reject(`Error loading script: ${paths[lib]}`);\n",
       "        document.getElementsByTagName(\"head\")[0].appendChild(s);\n",
       "      });\n",
       "    }\n",
       "\n",
       "    function showError(err) {\n",
       "      outputDiv.innerHTML = `<div class=\"error\" style=\"color:red;\">${err}</div>`;\n",
       "      throw err;\n",
       "    }\n",
       "\n",
       "    function displayChart(vegaEmbed) {\n",
       "      vegaEmbed(outputDiv, spec, embedOpt)\n",
       "        .catch(err => showError(`Javascript Error: ${err.message}<br>This usually means there's a typo in your chart specification. See the javascript console for the full traceback.`));\n",
       "    }\n",
       "\n",
       "    if(typeof define === \"function\" && define.amd) {\n",
       "      requirejs.config({paths});\n",
       "      require([\"vega-embed\"], displayChart, err => showError(`Error loading script: ${err.message}`));\n",
       "    } else if (typeof vegaEmbed === \"function\") {\n",
       "      displayChart(vegaEmbed);\n",
       "    } else {\n",
       "      loadScript(\"vega\")\n",
       "        .then(() => loadScript(\"vega-lite\"))\n",
       "        .then(() => loadScript(\"vega-embed\"))\n",
       "        .catch(showError)\n",
       "        .then(() => displayChart(vegaEmbed));\n",
       "    }\n",
       "  })({\"config\": {\"view\": {\"continuousWidth\": 400, \"continuousHeight\": 300}}, \"layer\": [{\"mark\": {\"type\": \"bar\", \"opacity\": 0.7}, \"encoding\": {\"opacity\": {\"type\": \"nominal\", \"field\": \"Casos confirmados diarios\", \"legend\": {\"title\": \"\"}}, \"tooltip\": [{\"type\": \"nominal\", \"field\": \"Dates\"}, {\"type\": \"quantitative\", \"field\": \"New_cases\"}], \"x\": {\"type\": \"nominal\", \"axis\": {\"title\": \"Fecha (a\\u00f1o-mes-d\\u00eda)\"}, \"field\": \"Dates\"}, \"y\": {\"type\": \"quantitative\", \"axis\": {\"title\": \"Casos confirmados diarios\"}, \"field\": \"New_cases\"}}}, {\"mark\": {\"type\": \"line\", \"color\": \"firebrick\", \"point\": {\"filled\": true, \"fill\": \"firebrick\"}}, \"encoding\": {\"shape\": {\"type\": \"nominal\", \"field\": \"Promedio m\\u00f3vil \\u00faltimos 7 d\\u00edas\", \"legend\": {\"title\": \"\"}}, \"x\": {\"type\": \"nominal\", \"axis\": {\"title\": \"Fecha (a\\u00f1o-mes-d\\u00eda)\"}, \"field\": \"Dates\"}, \"y\": {\"type\": \"quantitative\", \"field\": \"Rolling\"}}}], \"data\": {\"name\": \"data-25ac89f99c560a4d4cdf506e96e2efd7\"}, \"title\": \"Covid-19 en Chile: Casos confirmados diarios\", \"width\": 600, \"$schema\": \"https://vega.github.io/schema/vega-lite/v4.8.1.json\", \"datasets\": {\"data-25ac89f99c560a4d4cdf506e96e2efd7\": [{\"Dates\": \"2020-03-04\", \"New_cases\": 2, \"Rolling\": null, \"Casos confirmados diarios\": \"Casos confirmados diarios\", \"Promedio m\\u00f3vil \\u00faltimos 7 d\\u00edas\": \"Promedio m\\u00f3vil \\u00faltimos 7 d\\u00edas\"}, {\"Dates\": \"2020-03-05\", \"New_cases\": 1, \"Rolling\": null, \"Casos confirmados diarios\": \"Casos confirmados diarios\", \"Promedio m\\u00f3vil \\u00faltimos 7 d\\u00edas\": \"Promedio m\\u00f3vil \\u00faltimos 7 d\\u00edas\"}, {\"Dates\": \"2020-03-06\", \"New_cases\": 1, \"Rolling\": null, \"Casos confirmados diarios\": \"Casos confirmados diarios\", \"Promedio m\\u00f3vil \\u00faltimos 7 d\\u00edas\": \"Promedio m\\u00f3vil \\u00faltimos 7 d\\u00edas\"}, {\"Dates\": \"2020-03-07\", \"New_cases\": 2, \"Rolling\": null, \"Casos confirmados diarios\": \"Casos confirmados diarios\", \"Promedio m\\u00f3vil \\u00faltimos 7 d\\u00edas\": \"Promedio m\\u00f3vil \\u00faltimos 7 d\\u00edas\"}, {\"Dates\": \"2020-03-08\", \"New_cases\": 3, \"Rolling\": null, \"Casos confirmados diarios\": \"Casos confirmados diarios\", \"Promedio m\\u00f3vil \\u00faltimos 7 d\\u00edas\": \"Promedio m\\u00f3vil \\u00faltimos 7 d\\u00edas\"}, {\"Dates\": \"2020-03-09\", \"New_cases\": 5, \"Rolling\": null, \"Casos confirmados diarios\": \"Casos confirmados diarios\", \"Promedio m\\u00f3vil \\u00faltimos 7 d\\u00edas\": \"Promedio m\\u00f3vil \\u00faltimos 7 d\\u00edas\"}, {\"Dates\": \"2020-03-10\", \"New_cases\": 2, \"Rolling\": 2.2857142857142856, \"Casos confirmados diarios\": \"Casos confirmados diarios\", \"Promedio m\\u00f3vil \\u00faltimos 7 d\\u00edas\": \"Promedio m\\u00f3vil \\u00faltimos 7 d\\u00edas\"}, {\"Dates\": \"2020-03-11\", \"New_cases\": 6, \"Rolling\": 2.857142857142857, \"Casos confirmados diarios\": \"Casos confirmados diarios\", \"Promedio m\\u00f3vil \\u00faltimos 7 d\\u00edas\": \"Promedio m\\u00f3vil \\u00faltimos 7 d\\u00edas\"}, {\"Dates\": \"2020-03-12\", \"New_cases\": 10, \"Rolling\": 4.142857142857143, \"Casos confirmados diarios\": \"Casos confirmados diarios\", \"Promedio m\\u00f3vil \\u00faltimos 7 d\\u00edas\": \"Promedio m\\u00f3vil \\u00faltimos 7 d\\u00edas\"}, {\"Dates\": \"2020-03-13\", \"New_cases\": 10, \"Rolling\": 5.428571428571429, \"Casos confirmados diarios\": \"Casos confirmados diarios\", \"Promedio m\\u00f3vil \\u00faltimos 7 d\\u00edas\": \"Promedio m\\u00f3vil \\u00faltimos 7 d\\u00edas\"}, {\"Dates\": \"2020-03-14\", \"New_cases\": 18, \"Rolling\": 7.714285714285714, \"Casos confirmados diarios\": \"Casos confirmados diarios\", \"Promedio m\\u00f3vil \\u00faltimos 7 d\\u00edas\": \"Promedio m\\u00f3vil \\u00faltimos 7 d\\u00edas\"}, {\"Dates\": \"2020-03-15\", \"New_cases\": 14, \"Rolling\": 9.285714285714286, \"Casos confirmados diarios\": \"Casos confirmados diarios\", \"Promedio m\\u00f3vil \\u00faltimos 7 d\\u00edas\": \"Promedio m\\u00f3vil \\u00faltimos 7 d\\u00edas\"}, {\"Dates\": \"2020-03-16\", \"New_cases\": 81, \"Rolling\": 20.142857142857142, \"Casos confirmados diarios\": \"Casos confirmados diarios\", \"Promedio m\\u00f3vil \\u00faltimos 7 d\\u00edas\": \"Promedio m\\u00f3vil \\u00faltimos 7 d\\u00edas\"}, {\"Dates\": \"2020-03-17\", \"New_cases\": 45, \"Rolling\": 26.285714285714285, \"Casos confirmados diarios\": \"Casos confirmados diarios\", \"Promedio m\\u00f3vil \\u00faltimos 7 d\\u00edas\": \"Promedio m\\u00f3vil \\u00faltimos 7 d\\u00edas\"}, {\"Dates\": \"2020-03-18\", \"New_cases\": 37, \"Rolling\": 30.714285714285715, \"Casos confirmados diarios\": \"Casos confirmados diarios\", \"Promedio m\\u00f3vil \\u00faltimos 7 d\\u00edas\": \"Promedio m\\u00f3vil \\u00faltimos 7 d\\u00edas\"}, {\"Dates\": \"2020-03-19\", \"New_cases\": 104, \"Rolling\": 44.142857142857146, \"Casos confirmados diarios\": \"Casos confirmados diarios\", \"Promedio m\\u00f3vil \\u00faltimos 7 d\\u00edas\": \"Promedio m\\u00f3vil \\u00faltimos 7 d\\u00edas\"}, {\"Dates\": \"2020-03-20\", \"New_cases\": 92, \"Rolling\": 55.857142857142854, \"Casos confirmados diarios\": \"Casos confirmados diarios\", \"Promedio m\\u00f3vil \\u00faltimos 7 d\\u00edas\": \"Promedio m\\u00f3vil \\u00faltimos 7 d\\u00edas\"}, {\"Dates\": \"2020-03-21\", \"New_cases\": 103, \"Rolling\": 68.0, \"Casos confirmados diarios\": \"Casos confirmados diarios\", \"Promedio m\\u00f3vil \\u00faltimos 7 d\\u00edas\": \"Promedio m\\u00f3vil \\u00faltimos 7 d\\u00edas\"}, {\"Dates\": \"2020-03-22\", \"New_cases\": 95, \"Rolling\": 79.57142857142857, \"Casos confirmados diarios\": \"Casos confirmados diarios\", \"Promedio m\\u00f3vil \\u00faltimos 7 d\\u00edas\": \"Promedio m\\u00f3vil \\u00faltimos 7 d\\u00edas\"}, {\"Dates\": \"2020-03-23\", \"New_cases\": 114, \"Rolling\": 84.28571428571429, \"Casos confirmados diarios\": \"Casos confirmados diarios\", \"Promedio m\\u00f3vil \\u00faltimos 7 d\\u00edas\": \"Promedio m\\u00f3vil \\u00faltimos 7 d\\u00edas\"}, {\"Dates\": \"2020-03-24\", \"New_cases\": 176, \"Rolling\": 103.0, \"Casos confirmados diarios\": \"Casos confirmados diarios\", \"Promedio m\\u00f3vil \\u00faltimos 7 d\\u00edas\": \"Promedio m\\u00f3vil \\u00faltimos 7 d\\u00edas\"}, {\"Dates\": \"2020-03-25\", \"New_cases\": 220, \"Rolling\": 129.14285714285714, \"Casos confirmados diarios\": \"Casos confirmados diarios\", \"Promedio m\\u00f3vil \\u00faltimos 7 d\\u00edas\": \"Promedio m\\u00f3vil \\u00faltimos 7 d\\u00edas\"}, {\"Dates\": \"2020-03-26\", \"New_cases\": 164, \"Rolling\": 137.71428571428572, \"Casos confirmados diarios\": \"Casos confirmados diarios\", \"Promedio m\\u00f3vil \\u00faltimos 7 d\\u00edas\": \"Promedio m\\u00f3vil \\u00faltimos 7 d\\u00edas\"}, {\"Dates\": \"2020-03-27\", \"New_cases\": 304, \"Rolling\": 168.0, \"Casos confirmados diarios\": \"Casos confirmados diarios\", \"Promedio m\\u00f3vil \\u00faltimos 7 d\\u00edas\": \"Promedio m\\u00f3vil \\u00faltimos 7 d\\u00edas\"}, {\"Dates\": \"2020-03-28\", \"New_cases\": 299, \"Rolling\": 196.0, \"Casos confirmados diarios\": \"Casos confirmados diarios\", \"Promedio m\\u00f3vil \\u00faltimos 7 d\\u00edas\": \"Promedio m\\u00f3vil \\u00faltimos 7 d\\u00edas\"}, {\"Dates\": \"2020-03-29\", \"New_cases\": 230, \"Rolling\": 215.28571428571428, \"Casos confirmados diarios\": \"Casos confirmados diarios\", \"Promedio m\\u00f3vil \\u00faltimos 7 d\\u00edas\": \"Promedio m\\u00f3vil \\u00faltimos 7 d\\u00edas\"}, {\"Dates\": \"2020-03-30\", \"New_cases\": 310, \"Rolling\": 243.28571428571428, \"Casos confirmados diarios\": \"Casos confirmados diarios\", \"Promedio m\\u00f3vil \\u00faltimos 7 d\\u00edas\": \"Promedio m\\u00f3vil \\u00faltimos 7 d\\u00edas\"}, {\"Dates\": \"2020-03-31\", \"New_cases\": 289, \"Rolling\": 259.42857142857144, \"Casos confirmados diarios\": \"Casos confirmados diarios\", \"Promedio m\\u00f3vil \\u00faltimos 7 d\\u00edas\": \"Promedio m\\u00f3vil \\u00faltimos 7 d\\u00edas\"}, {\"Dates\": \"2020-04-01\", \"New_cases\": 293, \"Rolling\": 269.85714285714283, \"Casos confirmados diarios\": \"Casos confirmados diarios\", \"Promedio m\\u00f3vil \\u00faltimos 7 d\\u00edas\": \"Promedio m\\u00f3vil \\u00faltimos 7 d\\u00edas\"}, {\"Dates\": \"2020-04-02\", \"New_cases\": 373, \"Rolling\": 299.7142857142857, \"Casos confirmados diarios\": \"Casos confirmados diarios\", \"Promedio m\\u00f3vil \\u00faltimos 7 d\\u00edas\": \"Promedio m\\u00f3vil \\u00faltimos 7 d\\u00edas\"}, {\"Dates\": \"2020-04-03\", \"New_cases\": 333, \"Rolling\": 303.85714285714283, \"Casos confirmados diarios\": \"Casos confirmados diarios\", \"Promedio m\\u00f3vil \\u00faltimos 7 d\\u00edas\": \"Promedio m\\u00f3vil \\u00faltimos 7 d\\u00edas\"}, {\"Dates\": \"2020-04-04\", \"New_cases\": 424, \"Rolling\": 321.7142857142857, \"Casos confirmados diarios\": \"Casos confirmados diarios\", \"Promedio m\\u00f3vil \\u00faltimos 7 d\\u00edas\": \"Promedio m\\u00f3vil \\u00faltimos 7 d\\u00edas\"}, {\"Dates\": \"2020-04-05\", \"New_cases\": 310, \"Rolling\": 333.14285714285717, \"Casos confirmados diarios\": \"Casos confirmados diarios\", \"Promedio m\\u00f3vil \\u00faltimos 7 d\\u00edas\": \"Promedio m\\u00f3vil \\u00faltimos 7 d\\u00edas\"}, {\"Dates\": \"2020-04-06\", \"New_cases\": 344, \"Rolling\": 338.0, \"Casos confirmados diarios\": \"Casos confirmados diarios\", \"Promedio m\\u00f3vil \\u00faltimos 7 d\\u00edas\": \"Promedio m\\u00f3vil \\u00faltimos 7 d\\u00edas\"}, {\"Dates\": \"2020-04-07\", \"New_cases\": 301, \"Rolling\": 339.7142857142857, \"Casos confirmados diarios\": \"Casos confirmados diarios\", \"Promedio m\\u00f3vil \\u00faltimos 7 d\\u00edas\": \"Promedio m\\u00f3vil \\u00faltimos 7 d\\u00edas\"}, {\"Dates\": \"2020-04-08\", \"New_cases\": 430, \"Rolling\": 359.2857142857143, \"Casos confirmados diarios\": \"Casos confirmados diarios\", \"Promedio m\\u00f3vil \\u00faltimos 7 d\\u00edas\": \"Promedio m\\u00f3vil \\u00faltimos 7 d\\u00edas\"}, {\"Dates\": \"2020-04-09\", \"New_cases\": 426, \"Rolling\": 366.85714285714283, \"Casos confirmados diarios\": \"Casos confirmados diarios\", \"Promedio m\\u00f3vil \\u00faltimos 7 d\\u00edas\": \"Promedio m\\u00f3vil \\u00faltimos 7 d\\u00edas\"}, {\"Dates\": \"2020-04-10\", \"New_cases\": 529, \"Rolling\": 394.85714285714283, \"Casos confirmados diarios\": \"Casos confirmados diarios\", \"Promedio m\\u00f3vil \\u00faltimos 7 d\\u00edas\": \"Promedio m\\u00f3vil \\u00faltimos 7 d\\u00edas\"}, {\"Dates\": \"2020-04-11\", \"New_cases\": 426, \"Rolling\": 395.14285714285717, \"Casos confirmados diarios\": \"Casos confirmados diarios\", \"Promedio m\\u00f3vil \\u00faltimos 7 d\\u00edas\": \"Promedio m\\u00f3vil \\u00faltimos 7 d\\u00edas\"}, {\"Dates\": \"2020-04-12\", \"New_cases\": 286, \"Rolling\": 391.7142857142857, \"Casos confirmados diarios\": \"Casos confirmados diarios\", \"Promedio m\\u00f3vil \\u00faltimos 7 d\\u00edas\": \"Promedio m\\u00f3vil \\u00faltimos 7 d\\u00edas\"}, {\"Dates\": \"2020-04-13\", \"New_cases\": 312, \"Rolling\": 387.14285714285717, \"Casos confirmados diarios\": \"Casos confirmados diarios\", \"Promedio m\\u00f3vil \\u00faltimos 7 d\\u00edas\": \"Promedio m\\u00f3vil \\u00faltimos 7 d\\u00edas\"}, {\"Dates\": \"2020-04-14\", \"New_cases\": 392, \"Rolling\": 400.14285714285717, \"Casos confirmados diarios\": \"Casos confirmados diarios\", \"Promedio m\\u00f3vil \\u00faltimos 7 d\\u00edas\": \"Promedio m\\u00f3vil \\u00faltimos 7 d\\u00edas\"}, {\"Dates\": \"2020-04-15\", \"New_cases\": 356, \"Rolling\": 389.57142857142856, \"Casos confirmados diarios\": \"Casos confirmados diarios\", \"Promedio m\\u00f3vil \\u00faltimos 7 d\\u00edas\": \"Promedio m\\u00f3vil \\u00faltimos 7 d\\u00edas\"}, {\"Dates\": \"2020-04-16\", \"New_cases\": 534, \"Rolling\": 405.0, \"Casos confirmados diarios\": \"Casos confirmados diarios\", \"Promedio m\\u00f3vil \\u00faltimos 7 d\\u00edas\": \"Promedio m\\u00f3vil \\u00faltimos 7 d\\u00edas\"}, {\"Dates\": \"2020-04-17\", \"New_cases\": 445, \"Rolling\": 393.0, \"Casos confirmados diarios\": \"Casos confirmados diarios\", \"Promedio m\\u00f3vil \\u00faltimos 7 d\\u00edas\": \"Promedio m\\u00f3vil \\u00faltimos 7 d\\u00edas\"}, {\"Dates\": \"2020-04-18\", \"New_cases\": 478, \"Rolling\": 400.42857142857144, \"Casos confirmados diarios\": \"Casos confirmados diarios\", \"Promedio m\\u00f3vil \\u00faltimos 7 d\\u00edas\": \"Promedio m\\u00f3vil \\u00faltimos 7 d\\u00edas\"}, {\"Dates\": \"2020-04-19\", \"New_cases\": 358, \"Rolling\": 410.7142857142857, \"Casos confirmados diarios\": \"Casos confirmados diarios\", \"Promedio m\\u00f3vil \\u00faltimos 7 d\\u00edas\": \"Promedio m\\u00f3vil \\u00faltimos 7 d\\u00edas\"}, {\"Dates\": \"2020-04-20\", \"New_cases\": 419, \"Rolling\": 426.0, \"Casos confirmados diarios\": \"Casos confirmados diarios\", \"Promedio m\\u00f3vil \\u00faltimos 7 d\\u00edas\": \"Promedio m\\u00f3vil \\u00faltimos 7 d\\u00edas\"}, {\"Dates\": \"2020-04-21\", \"New_cases\": 325, \"Rolling\": 416.42857142857144, \"Casos confirmados diarios\": \"Casos confirmados diarios\", \"Promedio m\\u00f3vil \\u00faltimos 7 d\\u00edas\": \"Promedio m\\u00f3vil \\u00faltimos 7 d\\u00edas\"}, {\"Dates\": \"2020-04-22\", \"New_cases\": 464, \"Rolling\": 431.85714285714283, \"Casos confirmados diarios\": \"Casos confirmados diarios\", \"Promedio m\\u00f3vil \\u00faltimos 7 d\\u00edas\": \"Promedio m\\u00f3vil \\u00faltimos 7 d\\u00edas\"}, {\"Dates\": \"2020-04-23\", \"New_cases\": 516, \"Rolling\": 429.2857142857143, \"Casos confirmados diarios\": \"Casos confirmados diarios\", \"Promedio m\\u00f3vil \\u00faltimos 7 d\\u00edas\": \"Promedio m\\u00f3vil \\u00faltimos 7 d\\u00edas\"}, {\"Dates\": \"2020-04-24\", \"New_cases\": 494, \"Rolling\": 436.2857142857143, \"Casos confirmados diarios\": \"Casos confirmados diarios\", \"Promedio m\\u00f3vil \\u00faltimos 7 d\\u00edas\": \"Promedio m\\u00f3vil \\u00faltimos 7 d\\u00edas\"}, {\"Dates\": \"2020-04-25\", \"New_cases\": 552, \"Rolling\": 446.85714285714283, \"Casos confirmados diarios\": \"Casos confirmados diarios\", \"Promedio m\\u00f3vil \\u00faltimos 7 d\\u00edas\": \"Promedio m\\u00f3vil \\u00faltimos 7 d\\u00edas\"}, {\"Dates\": \"2020-04-26\", \"New_cases\": 473, \"Rolling\": 463.2857142857143, \"Casos confirmados diarios\": \"Casos confirmados diarios\", \"Promedio m\\u00f3vil \\u00faltimos 7 d\\u00edas\": \"Promedio m\\u00f3vil \\u00faltimos 7 d\\u00edas\"}, {\"Dates\": \"2020-04-27\", \"New_cases\": 482, \"Rolling\": 472.2857142857143, \"Casos confirmados diarios\": \"Casos confirmados diarios\", \"Promedio m\\u00f3vil \\u00faltimos 7 d\\u00edas\": \"Promedio m\\u00f3vil \\u00faltimos 7 d\\u00edas\"}]}}, {\"mode\": \"vega-lite\"});\n",
       "</script>"
      ],
      "text/plain": [
       "alt.LayerChart(...)"
      ]
     },
     "execution_count": 27,
     "metadata": {},
     "output_type": "execute_result"
    }
   ],
   "source": [
    "#hide_input\n",
    "bars = alt.Chart(new_cases).mark_bar(opacity=0.7).encode(\n",
    "    x = alt.X('Dates:N', axis=alt.Axis(title='Fecha (año-mes-día)')),\n",
    "    y = alt.Y('New_cases:Q', axis=alt.Axis(title='Casos confirmados diarios')),\n",
    "    tooltip = ['Dates', 'New_cases'],\n",
    "    opacity=alt.Opacity('Casos confirmados diarios', legend=alt.Legend(title=\"\"))\n",
    ")\n",
    "\n",
    "line = alt.Chart(new_cases).mark_line(point={\n",
    "      \"filled\": True,\n",
    "      \"fill\": \"firebrick\"\n",
    "    }, color='firebrick').encode(\n",
    "    x=alt.X('Dates:N', axis=alt.Axis(title='Fecha (año-mes-día)')),\n",
    "    y = alt.Y('Rolling:Q'),\n",
    "    shape=alt.Shape('Promedio móvil últimos 7 días', legend=alt.Legend(title=\"\"))\n",
    ")\n",
    "\n",
    "(bars + line).properties(\n",
    "    title='Covid-19 en Chile: Casos confirmados diarios',\n",
    "    width=600\n",
    ")"
   ]
  },
  {
   "cell_type": "markdown",
   "metadata": {},
   "source": [
    "# Evolución de fallecimientos confirmados diarios"
   ]
  },
  {
   "cell_type": "code",
   "execution_count": 28,
   "metadata": {},
   "outputs": [],
   "source": [
    "#hide\n",
    "data = pd.DataFrame()\n",
    "data_raw = pd.read_csv(\n",
    "    \"https://raw.githubusercontent.com/MinCiencia/Datos-COVID19/master/output/producto4/2020-03-24-CasosConfirmados-totalRegional.csv\",\n",
    "    index_col='Region')\n",
    "data['2020-03-24'] = data_raw['Fallecidos']"
   ]
  },
  {
   "cell_type": "code",
   "execution_count": 29,
   "metadata": {},
   "outputs": [],
   "source": [
    "#hide\n",
    "first_death_date = '2020-03-24'\n",
    "total_days = (pd.to_datetime(today)-pd.to_datetime(first_death_date)).days"
   ]
  },
  {
   "cell_type": "code",
   "execution_count": 30,
   "metadata": {},
   "outputs": [],
   "source": [
    "#hide\n",
    "for i in np.arange(total_days+1):\n",
    "  date = (pd.to_datetime(first_death_date)+pd.DateOffset(i)).strftime('%Y-%m-%d')\n",
    "  s = \"https://raw.githubusercontent.com/MinCiencia/Datos-COVID19/master/output/producto4/\" + date + \"-CasosConfirmados-totalRegional.csv\"\n",
    "  data_by_date = pd.read_csv(s)\n",
    "  if 'Fallecidos' in data_by_date.columns:\n",
    "    data[date] = data_by_date[\"Fallecidos\"].values\n",
    "  elif 'Casos fallecidos' in data_by_date.columns:\n",
    "    data[date] = data_by_date[\"Casos fallecidos\"].values\n",
    "  else:\n",
    "    data[date] = data_by_date[\" Casos fallecidos\"].values"
   ]
  },
  {
   "cell_type": "code",
   "execution_count": 31,
   "metadata": {},
   "outputs": [],
   "source": [
    "#hide\n",
    "aux1 = data.loc[\"Total\"]\n",
    "aux2 = [t - s for s, t in zip(aux1, aux1.loc['2020-03-25':])]"
   ]
  },
  {
   "cell_type": "code",
   "execution_count": 32,
   "metadata": {},
   "outputs": [],
   "source": [
    "#hide\n",
    "WS_deaths = 7"
   ]
  },
  {
   "cell_type": "code",
   "execution_count": 33,
   "metadata": {},
   "outputs": [],
   "source": [
    "#hide\n",
    "new_deaths = pd.DataFrame()\n",
    "new_deaths[\"Dates\"] = data.loc[\"Total\"].reset_index()[\"index\"].iloc[1:].values\n",
    "new_deaths[\"New_deaths\"] = aux2\n",
    "new_deaths[\"Rolling\"] = new_deaths[\"New_deaths\"].rolling(window=WS_deaths).mean()\n",
    "new_deaths[\"Fallecimientos confirmados diarios\"] = len(new_deaths) * [\"Fallecimientos confirmados diarios\"]\n",
    "new_deaths[\"Promedio móvil últimos 7 días\"] = len(new_deaths) * [\"Promedio móvil últimos 7 días\"]"
   ]
  },
  {
   "cell_type": "code",
   "execution_count": 34,
   "metadata": {},
   "outputs": [
    {
     "data": {
      "text/html": [
       "\n",
       "<div id=\"altair-viz-5ceb535acc5941a4b6167e0b7ceeb555\"></div>\n",
       "<script type=\"text/javascript\">\n",
       "  (function(spec, embedOpt){\n",
       "    let outputDiv = document.currentScript.previousElementSibling;\n",
       "    if (outputDiv.id !== \"altair-viz-5ceb535acc5941a4b6167e0b7ceeb555\") {\n",
       "      outputDiv = document.getElementById(\"altair-viz-5ceb535acc5941a4b6167e0b7ceeb555\");\n",
       "    }\n",
       "    const paths = {\n",
       "      \"vega\": \"https://cdn.jsdelivr.net/npm//vega@5?noext\",\n",
       "      \"vega-lib\": \"https://cdn.jsdelivr.net/npm//vega-lib?noext\",\n",
       "      \"vega-lite\": \"https://cdn.jsdelivr.net/npm//vega-lite@4.8.1?noext\",\n",
       "      \"vega-embed\": \"https://cdn.jsdelivr.net/npm//vega-embed@6?noext\",\n",
       "    };\n",
       "\n",
       "    function loadScript(lib) {\n",
       "      return new Promise(function(resolve, reject) {\n",
       "        var s = document.createElement('script');\n",
       "        s.src = paths[lib];\n",
       "        s.async = true;\n",
       "        s.onload = () => resolve(paths[lib]);\n",
       "        s.onerror = () => reject(`Error loading script: ${paths[lib]}`);\n",
       "        document.getElementsByTagName(\"head\")[0].appendChild(s);\n",
       "      });\n",
       "    }\n",
       "\n",
       "    function showError(err) {\n",
       "      outputDiv.innerHTML = `<div class=\"error\" style=\"color:red;\">${err}</div>`;\n",
       "      throw err;\n",
       "    }\n",
       "\n",
       "    function displayChart(vegaEmbed) {\n",
       "      vegaEmbed(outputDiv, spec, embedOpt)\n",
       "        .catch(err => showError(`Javascript Error: ${err.message}<br>This usually means there's a typo in your chart specification. See the javascript console for the full traceback.`));\n",
       "    }\n",
       "\n",
       "    if(typeof define === \"function\" && define.amd) {\n",
       "      requirejs.config({paths});\n",
       "      require([\"vega-embed\"], displayChart, err => showError(`Error loading script: ${err.message}`));\n",
       "    } else if (typeof vegaEmbed === \"function\") {\n",
       "      displayChart(vegaEmbed);\n",
       "    } else {\n",
       "      loadScript(\"vega\")\n",
       "        .then(() => loadScript(\"vega-lite\"))\n",
       "        .then(() => loadScript(\"vega-embed\"))\n",
       "        .catch(showError)\n",
       "        .then(() => displayChart(vegaEmbed));\n",
       "    }\n",
       "  })({\"config\": {\"view\": {\"continuousWidth\": 400, \"continuousHeight\": 300}}, \"layer\": [{\"mark\": {\"type\": \"bar\", \"opacity\": 0.7}, \"encoding\": {\"opacity\": {\"type\": \"nominal\", \"field\": \"Fallecimientos confirmados diarios\", \"legend\": {\"title\": \"\"}}, \"tooltip\": [{\"type\": \"nominal\", \"field\": \"Dates\"}, {\"type\": \"quantitative\", \"field\": \"New_deaths\"}], \"x\": {\"type\": \"nominal\", \"axis\": {\"title\": \"Fecha (a\\u00f1o-mes-d\\u00eda)\"}, \"field\": \"Dates\"}, \"y\": {\"type\": \"quantitative\", \"axis\": {\"title\": \"Fallecimientos confirmados diarios\"}, \"field\": \"New_deaths\"}}}, {\"mark\": {\"type\": \"line\", \"color\": \"firebrick\", \"point\": {\"filled\": true, \"fill\": \"firebrick\"}}, \"encoding\": {\"shape\": {\"type\": \"nominal\", \"field\": \"Promedio m\\u00f3vil \\u00faltimos 7 d\\u00edas\", \"legend\": {\"title\": \"\"}}, \"x\": {\"type\": \"nominal\", \"axis\": {\"title\": \"Fecha (a\\u00f1o-mes-d\\u00eda)\"}, \"field\": \"Dates\"}, \"y\": {\"type\": \"quantitative\", \"field\": \"Rolling\"}}}], \"data\": {\"name\": \"data-b1f98508dff45bfe6fd15ada0334f480\"}, \"title\": \"Covid-19 en Chile: Fallecimientos confirmados diarios\", \"width\": 600, \"$schema\": \"https://vega.github.io/schema/vega-lite/v4.8.1.json\", \"datasets\": {\"data-b1f98508dff45bfe6fd15ada0334f480\": [{\"Dates\": \"2020-03-25\", \"New_deaths\": 1, \"Rolling\": null, \"Fallecimientos confirmados diarios\": \"Fallecimientos confirmados diarios\", \"Promedio m\\u00f3vil \\u00faltimos 7 d\\u00edas\": \"Promedio m\\u00f3vil \\u00faltimos 7 d\\u00edas\"}, {\"Dates\": \"2020-03-26\", \"New_deaths\": 1, \"Rolling\": null, \"Fallecimientos confirmados diarios\": \"Fallecimientos confirmados diarios\", \"Promedio m\\u00f3vil \\u00faltimos 7 d\\u00edas\": \"Promedio m\\u00f3vil \\u00faltimos 7 d\\u00edas\"}, {\"Dates\": \"2020-03-27\", \"New_deaths\": 1, \"Rolling\": null, \"Fallecimientos confirmados diarios\": \"Fallecimientos confirmados diarios\", \"Promedio m\\u00f3vil \\u00faltimos 7 d\\u00edas\": \"Promedio m\\u00f3vil \\u00faltimos 7 d\\u00edas\"}, {\"Dates\": \"2020-03-28\", \"New_deaths\": 1, \"Rolling\": null, \"Fallecimientos confirmados diarios\": \"Fallecimientos confirmados diarios\", \"Promedio m\\u00f3vil \\u00faltimos 7 d\\u00edas\": \"Promedio m\\u00f3vil \\u00faltimos 7 d\\u00edas\"}, {\"Dates\": \"2020-03-29\", \"New_deaths\": 1, \"Rolling\": null, \"Fallecimientos confirmados diarios\": \"Fallecimientos confirmados diarios\", \"Promedio m\\u00f3vil \\u00faltimos 7 d\\u00edas\": \"Promedio m\\u00f3vil \\u00faltimos 7 d\\u00edas\"}, {\"Dates\": \"2020-03-30\", \"New_deaths\": 1, \"Rolling\": null, \"Fallecimientos confirmados diarios\": \"Fallecimientos confirmados diarios\", \"Promedio m\\u00f3vil \\u00faltimos 7 d\\u00edas\": \"Promedio m\\u00f3vil \\u00faltimos 7 d\\u00edas\"}, {\"Dates\": \"2020-03-31\", \"New_deaths\": 4, \"Rolling\": 1.4285714285714286, \"Fallecimientos confirmados diarios\": \"Fallecimientos confirmados diarios\", \"Promedio m\\u00f3vil \\u00faltimos 7 d\\u00edas\": \"Promedio m\\u00f3vil \\u00faltimos 7 d\\u00edas\"}, {\"Dates\": \"2020-04-01\", \"New_deaths\": 4, \"Rolling\": 1.8571428571428572, \"Fallecimientos confirmados diarios\": \"Fallecimientos confirmados diarios\", \"Promedio m\\u00f3vil \\u00faltimos 7 d\\u00edas\": \"Promedio m\\u00f3vil \\u00faltimos 7 d\\u00edas\"}, {\"Dates\": \"2020-04-02\", \"New_deaths\": 2, \"Rolling\": 2.0, \"Fallecimientos confirmados diarios\": \"Fallecimientos confirmados diarios\", \"Promedio m\\u00f3vil \\u00faltimos 7 d\\u00edas\": \"Promedio m\\u00f3vil \\u00faltimos 7 d\\u00edas\"}, {\"Dates\": \"2020-04-03\", \"New_deaths\": 4, \"Rolling\": 2.4285714285714284, \"Fallecimientos confirmados diarios\": \"Fallecimientos confirmados diarios\", \"Promedio m\\u00f3vil \\u00faltimos 7 d\\u00edas\": \"Promedio m\\u00f3vil \\u00faltimos 7 d\\u00edas\"}, {\"Dates\": \"2020-04-04\", \"New_deaths\": 5, \"Rolling\": 3.0, \"Fallecimientos confirmados diarios\": \"Fallecimientos confirmados diarios\", \"Promedio m\\u00f3vil \\u00faltimos 7 d\\u00edas\": \"Promedio m\\u00f3vil \\u00faltimos 7 d\\u00edas\"}, {\"Dates\": \"2020-04-05\", \"New_deaths\": 7, \"Rolling\": 3.857142857142857, \"Fallecimientos confirmados diarios\": \"Fallecimientos confirmados diarios\", \"Promedio m\\u00f3vil \\u00faltimos 7 d\\u00edas\": \"Promedio m\\u00f3vil \\u00faltimos 7 d\\u00edas\"}, {\"Dates\": \"2020-04-06\", \"New_deaths\": 3, \"Rolling\": 4.142857142857143, \"Fallecimientos confirmados diarios\": \"Fallecimientos confirmados diarios\", \"Promedio m\\u00f3vil \\u00faltimos 7 d\\u00edas\": \"Promedio m\\u00f3vil \\u00faltimos 7 d\\u00edas\"}, {\"Dates\": \"2020-04-07\", \"New_deaths\": 6, \"Rolling\": 4.428571428571429, \"Fallecimientos confirmados diarios\": \"Fallecimientos confirmados diarios\", \"Promedio m\\u00f3vil \\u00faltimos 7 d\\u00edas\": \"Promedio m\\u00f3vil \\u00faltimos 7 d\\u00edas\"}, {\"Dates\": \"2020-04-08\", \"New_deaths\": 5, \"Rolling\": 4.571428571428571, \"Fallecimientos confirmados diarios\": \"Fallecimientos confirmados diarios\", \"Promedio m\\u00f3vil \\u00faltimos 7 d\\u00edas\": \"Promedio m\\u00f3vil \\u00faltimos 7 d\\u00edas\"}, {\"Dates\": \"2020-04-09\", \"New_deaths\": 9, \"Rolling\": 5.571428571428571, \"Fallecimientos confirmados diarios\": \"Fallecimientos confirmados diarios\", \"Promedio m\\u00f3vil \\u00faltimos 7 d\\u00edas\": \"Promedio m\\u00f3vil \\u00faltimos 7 d\\u00edas\"}, {\"Dates\": \"2020-04-10\", \"New_deaths\": 8, \"Rolling\": 6.142857142857143, \"Fallecimientos confirmados diarios\": \"Fallecimientos confirmados diarios\", \"Promedio m\\u00f3vil \\u00faltimos 7 d\\u00edas\": \"Promedio m\\u00f3vil \\u00faltimos 7 d\\u00edas\"}, {\"Dates\": \"2020-04-11\", \"New_deaths\": 8, \"Rolling\": 6.571428571428571, \"Fallecimientos confirmados diarios\": \"Fallecimientos confirmados diarios\", \"Promedio m\\u00f3vil \\u00faltimos 7 d\\u00edas\": \"Promedio m\\u00f3vil \\u00faltimos 7 d\\u00edas\"}, {\"Dates\": \"2020-04-12\", \"New_deaths\": 7, \"Rolling\": 6.571428571428571, \"Fallecimientos confirmados diarios\": \"Fallecimientos confirmados diarios\", \"Promedio m\\u00f3vil \\u00faltimos 7 d\\u00edas\": \"Promedio m\\u00f3vil \\u00faltimos 7 d\\u00edas\"}, {\"Dates\": \"2020-04-13\", \"New_deaths\": 2, \"Rolling\": 6.428571428571429, \"Fallecimientos confirmados diarios\": \"Fallecimientos confirmados diarios\", \"Promedio m\\u00f3vil \\u00faltimos 7 d\\u00edas\": \"Promedio m\\u00f3vil \\u00faltimos 7 d\\u00edas\"}, {\"Dates\": \"2020-04-14\", \"New_deaths\": 10, \"Rolling\": 7.0, \"Fallecimientos confirmados diarios\": \"Fallecimientos confirmados diarios\", \"Promedio m\\u00f3vil \\u00faltimos 7 d\\u00edas\": \"Promedio m\\u00f3vil \\u00faltimos 7 d\\u00edas\"}, {\"Dates\": \"2020-04-15\", \"New_deaths\": 2, \"Rolling\": 6.571428571428571, \"Fallecimientos confirmados diarios\": \"Fallecimientos confirmados diarios\", \"Promedio m\\u00f3vil \\u00faltimos 7 d\\u00edas\": \"Promedio m\\u00f3vil \\u00faltimos 7 d\\u00edas\"}, {\"Dates\": \"2020-04-16\", \"New_deaths\": 11, \"Rolling\": 6.857142857142857, \"Fallecimientos confirmados diarios\": \"Fallecimientos confirmados diarios\", \"Promedio m\\u00f3vil \\u00faltimos 7 d\\u00edas\": \"Promedio m\\u00f3vil \\u00faltimos 7 d\\u00edas\"}, {\"Dates\": \"2020-04-17\", \"New_deaths\": 11, \"Rolling\": 7.285714285714286, \"Fallecimientos confirmados diarios\": \"Fallecimientos confirmados diarios\", \"Promedio m\\u00f3vil \\u00faltimos 7 d\\u00edas\": \"Promedio m\\u00f3vil \\u00faltimos 7 d\\u00edas\"}, {\"Dates\": \"2020-04-18\", \"New_deaths\": 10, \"Rolling\": 7.571428571428571, \"Fallecimientos confirmados diarios\": \"Fallecimientos confirmados diarios\", \"Promedio m\\u00f3vil \\u00faltimos 7 d\\u00edas\": \"Promedio m\\u00f3vil \\u00faltimos 7 d\\u00edas\"}, {\"Dates\": \"2020-04-19\", \"New_deaths\": 7, \"Rolling\": 7.571428571428571, \"Fallecimientos confirmados diarios\": \"Fallecimientos confirmados diarios\", \"Promedio m\\u00f3vil \\u00faltimos 7 d\\u00edas\": \"Promedio m\\u00f3vil \\u00faltimos 7 d\\u00edas\"}, {\"Dates\": \"2020-04-20\", \"New_deaths\": 6, \"Rolling\": 8.142857142857142, \"Fallecimientos confirmados diarios\": \"Fallecimientos confirmados diarios\", \"Promedio m\\u00f3vil \\u00faltimos 7 d\\u00edas\": \"Promedio m\\u00f3vil \\u00faltimos 7 d\\u00edas\"}, {\"Dates\": \"2020-04-21\", \"New_deaths\": 8, \"Rolling\": 7.857142857142857, \"Fallecimientos confirmados diarios\": \"Fallecimientos confirmados diarios\", \"Promedio m\\u00f3vil \\u00faltimos 7 d\\u00edas\": \"Promedio m\\u00f3vil \\u00faltimos 7 d\\u00edas\"}, {\"Dates\": \"2020-04-22\", \"New_deaths\": 13, \"Rolling\": 9.428571428571429, \"Fallecimientos confirmados diarios\": \"Fallecimientos confirmados diarios\", \"Promedio m\\u00f3vil \\u00faltimos 7 d\\u00edas\": \"Promedio m\\u00f3vil \\u00faltimos 7 d\\u00edas\"}, {\"Dates\": \"2020-04-23\", \"New_deaths\": 8, \"Rolling\": 9.0, \"Fallecimientos confirmados diarios\": \"Fallecimientos confirmados diarios\", \"Promedio m\\u00f3vil \\u00faltimos 7 d\\u00edas\": \"Promedio m\\u00f3vil \\u00faltimos 7 d\\u00edas\"}, {\"Dates\": \"2020-04-24\", \"New_deaths\": 6, \"Rolling\": 8.285714285714286, \"Fallecimientos confirmados diarios\": \"Fallecimientos confirmados diarios\", \"Promedio m\\u00f3vil \\u00faltimos 7 d\\u00edas\": \"Promedio m\\u00f3vil \\u00faltimos 7 d\\u00edas\"}, {\"Dates\": \"2020-04-25\", \"New_deaths\": 7, \"Rolling\": 7.857142857142857, \"Fallecimientos confirmados diarios\": \"Fallecimientos confirmados diarios\", \"Promedio m\\u00f3vil \\u00faltimos 7 d\\u00edas\": \"Promedio m\\u00f3vil \\u00faltimos 7 d\\u00edas\"}, {\"Dates\": \"2020-04-26\", \"New_deaths\": 8, \"Rolling\": 8.0, \"Fallecimientos confirmados diarios\": \"Fallecimientos confirmados diarios\", \"Promedio m\\u00f3vil \\u00faltimos 7 d\\u00edas\": \"Promedio m\\u00f3vil \\u00faltimos 7 d\\u00edas\"}, {\"Dates\": \"2020-04-27\", \"New_deaths\": 9, \"Rolling\": 8.428571428571429, \"Fallecimientos confirmados diarios\": \"Fallecimientos confirmados diarios\", \"Promedio m\\u00f3vil \\u00faltimos 7 d\\u00edas\": \"Promedio m\\u00f3vil \\u00faltimos 7 d\\u00edas\"}]}}, {\"mode\": \"vega-lite\"});\n",
       "</script>"
      ],
      "text/plain": [
       "alt.LayerChart(...)"
      ]
     },
     "execution_count": 34,
     "metadata": {},
     "output_type": "execute_result"
    }
   ],
   "source": [
    "#hide_input\n",
    "bars = alt.Chart(new_deaths).mark_bar(opacity=0.7).encode(\n",
    "    x = alt.X('Dates:N', axis=alt.Axis(title='Fecha (año-mes-día)')),\n",
    "    y = alt.Y('New_deaths:Q', axis=alt.Axis(title='Fallecimientos confirmados diarios')),\n",
    "    tooltip = ['Dates', 'New_deaths'],\n",
    "    opacity=alt.Opacity('Fallecimientos confirmados diarios', legend=alt.Legend(title=\"\"))\n",
    ")\n",
    "\n",
    "line = alt.Chart(new_deaths).mark_line(point={\n",
    "      \"filled\": True,\n",
    "      \"fill\": \"firebrick\"\n",
    "    }, color='firebrick').encode(\n",
    "    x=alt.X('Dates:N', axis=alt.Axis(title='Fecha (año-mes-día)')),\n",
    "    y = alt.Y('Rolling:Q'),\n",
    "    shape=alt.Shape('Promedio móvil últimos 7 días', legend=alt.Legend(title=\"\"))\n",
    ")\n",
    "\n",
    "(bars + line).properties(\n",
    "    title='Covid-19 en Chile: Fallecimientos confirmados diarios',\n",
    "    width=600\n",
    ")"
   ]
  },
  {
   "cell_type": "markdown",
   "metadata": {},
   "source": [
    "# Evolución de casos confirmados por región"
   ]
  },
  {
   "cell_type": "code",
   "execution_count": 35,
   "metadata": {},
   "outputs": [],
   "source": [
    "#hide\n",
    "data_raw = pd.read_csv(\n",
    "    \"https://raw.githubusercontent.com/MinCiencia/Datos-COVID19/master/output/producto3/CasosTotalesCumulativo.csv\",\n",
    "    index_col='Region')"
   ]
  },
  {
   "cell_type": "code",
   "execution_count": 36,
   "metadata": {},
   "outputs": [],
   "source": [
    "#hide\n",
    "data_raw = data_raw.drop(\"Total\")"
   ]
  },
  {
   "cell_type": "code",
   "execution_count": 37,
   "metadata": {},
   "outputs": [],
   "source": [
    "#hide\n",
    "data = pd.DataFrame()\n",
    "i = 0\n",
    "for date in data_raw.keys():\n",
    "    for n, region in enumerate(data_raw.index):\n",
    "        data[i] = date, region, data_raw[date].loc[region], n\n",
    "        i += 1"
   ]
  },
  {
   "cell_type": "code",
   "execution_count": 38,
   "metadata": {},
   "outputs": [],
   "source": [
    "#hide\n",
    "data_raw = data_raw.reset_index()\n",
    "regiones = data_raw['Region'].values\n",
    "data = data.T\n",
    "data = data.rename(columns={0: \"date\", 1: \"region\", 2: \"casos\", 3: \"codigo region\"})"
   ]
  },
  {
   "cell_type": "code",
   "execution_count": 39,
   "metadata": {},
   "outputs": [],
   "source": [
    "#hide\n",
    "data[\"casos\"] = data[\"casos\"].astype(int)"
   ]
  },
  {
   "cell_type": "code",
   "execution_count": 40,
   "metadata": {},
   "outputs": [
    {
     "data": {
      "text/html": [
       "\n",
       "<div id=\"altair-viz-a57cfeaec0be4ea1b28e54c9295fda42\"></div>\n",
       "<script type=\"text/javascript\">\n",
       "  (function(spec, embedOpt){\n",
       "    let outputDiv = document.currentScript.previousElementSibling;\n",
       "    if (outputDiv.id !== \"altair-viz-a57cfeaec0be4ea1b28e54c9295fda42\") {\n",
       "      outputDiv = document.getElementById(\"altair-viz-a57cfeaec0be4ea1b28e54c9295fda42\");\n",
       "    }\n",
       "    const paths = {\n",
       "      \"vega\": \"https://cdn.jsdelivr.net/npm//vega@5?noext\",\n",
       "      \"vega-lib\": \"https://cdn.jsdelivr.net/npm//vega-lib?noext\",\n",
       "      \"vega-lite\": \"https://cdn.jsdelivr.net/npm//vega-lite@4.8.1?noext\",\n",
       "      \"vega-embed\": \"https://cdn.jsdelivr.net/npm//vega-embed@6?noext\",\n",
       "    };\n",
       "\n",
       "    function loadScript(lib) {\n",
       "      return new Promise(function(resolve, reject) {\n",
       "        var s = document.createElement('script');\n",
       "        s.src = paths[lib];\n",
       "        s.async = true;\n",
       "        s.onload = () => resolve(paths[lib]);\n",
       "        s.onerror = () => reject(`Error loading script: ${paths[lib]}`);\n",
       "        document.getElementsByTagName(\"head\")[0].appendChild(s);\n",
       "      });\n",
       "    }\n",
       "\n",
       "    function showError(err) {\n",
       "      outputDiv.innerHTML = `<div class=\"error\" style=\"color:red;\">${err}</div>`;\n",
       "      throw err;\n",
       "    }\n",
       "\n",
       "    function displayChart(vegaEmbed) {\n",
       "      vegaEmbed(outputDiv, spec, embedOpt)\n",
       "        .catch(err => showError(`Javascript Error: ${err.message}<br>This usually means there's a typo in your chart specification. See the javascript console for the full traceback.`));\n",
       "    }\n",
       "\n",
       "    if(typeof define === \"function\" && define.amd) {\n",
       "      requirejs.config({paths});\n",
       "      require([\"vega-embed\"], displayChart, err => showError(`Error loading script: ${err.message}`));\n",
       "    } else if (typeof vegaEmbed === \"function\") {\n",
       "      displayChart(vegaEmbed);\n",
       "    } else {\n",
       "      loadScript(\"vega\")\n",
       "        .then(() => loadScript(\"vega-lite\"))\n",
       "        .then(() => loadScript(\"vega-embed\"))\n",
       "        .catch(showError)\n",
       "        .then(() => displayChart(vegaEmbed));\n",
       "    }\n",
       "  })({\"config\": {\"view\": {\"continuousWidth\": 400, \"continuousHeight\": 300}}, \"hconcat\": [{\"mark\": \"bar\", \"encoding\": {\"color\": {\"condition\": {\"type\": \"nominal\", \"field\": \"region\", \"legend\": null, \"scale\": {\"scheme\": \"tableau20\"}, \"selection\": {\"or\": [\" \", \"selector001\"]}}, \"value\": \"lightgray\"}, \"order\": {\"type\": \"quantitative\", \"field\": \"codigo region\", \"sort\": \"descending\"}, \"tooltip\": [{\"type\": \"nominal\", \"field\": \"date\"}, {\"type\": \"nominal\", \"field\": \"region\"}, {\"type\": \"quantitative\", \"field\": \"casos\"}], \"x\": {\"type\": \"ordinal\", \"axis\": {\"title\": \"Fecha (a\\u00f1o-mes-d\\u00eda)\"}, \"field\": \"date\"}, \"y\": {\"type\": \"quantitative\", \"axis\": {\"title\": \"Casos confirmados\"}, \"field\": \"casos\"}}, \"height\": 400, \"selection\": {\" \": {\"type\": \"single\", \"fields\": [\"region\"], \"bind\": {\"input\": \"select\", \"options\": [\"Arica y Parinacota\", \"Tarapac\\u00e1\", \"Antofagasta\", \"Atacama\", \"Coquimbo\", \"Valpara\\u00edso\", \"Metropolitana\", \"O\\u2019Higgins\", \"Maule\", \"\\u00d1uble\", \"Biob\\u00edo\", \"Araucan\\u00eda\", \"Los R\\u00edos\", \"Los Lagos\", \"Ays\\u00e9n\", \"Magallanes\"]}}, \"selector001\": {\"type\": \"multi\", \"fields\": [\"region\"], \"on\": \"mouseover\"}}, \"title\": \"COVID-19 en Chile: Total de casos confirmados por regi\\u00f3n\", \"transform\": [{\"filter\": {\"selection\": \" \"}}], \"width\": 600}, {\"mark\": \"point\", \"encoding\": {\"color\": {\"condition\": {\"type\": \"nominal\", \"field\": \"region\", \"legend\": null, \"scale\": {\"scheme\": \"tableau20\"}, \"selection\": {\"or\": [\" \", \"selector001\"]}}, \"value\": \"lightgray\"}, \"y\": {\"type\": \"nominal\", \"axis\": {\"orient\": \"right\"}, \"field\": \"region\", \"sort\": [\"Arica y Parinacota\", \"Tarapac\\u00e1\", \"Antofagasta\", \"Atacama\", \"Coquimbo\", \"Valpara\\u00edso\", \"Metropolitana\", \"O\\u2019Higgins\", \"Maule\", \"\\u00d1uble\", \"Biob\\u00edo\", \"Araucan\\u00eda\", \"Los R\\u00edos\", \"Los Lagos\", \"Ays\\u00e9n\", \"Magallanes\"]}}, \"selection\": {\" \": {\"type\": \"single\", \"fields\": [\"region\"], \"bind\": {\"input\": \"select\", \"options\": [\"Arica y Parinacota\", \"Tarapac\\u00e1\", \"Antofagasta\", \"Atacama\", \"Coquimbo\", \"Valpara\\u00edso\", \"Metropolitana\", \"O\\u2019Higgins\", \"Maule\", \"\\u00d1uble\", \"Biob\\u00edo\", \"Araucan\\u00eda\", \"Los R\\u00edos\", \"Los Lagos\", \"Ays\\u00e9n\", \"Magallanes\"]}}, \"selector001\": {\"type\": \"multi\", \"fields\": [\"region\"], \"on\": \"mouseover\"}}}], \"data\": {\"name\": \"data-a72a3d8fef04e4e10e54baed0ee285c3\"}, \"$schema\": \"https://vega.github.io/schema/vega-lite/v4.8.1.json\", \"datasets\": {\"data-a72a3d8fef04e4e10e54baed0ee285c3\": [{\"date\": \"2020-03-03\", \"region\": \"Arica y Parinacota\", \"casos\": 0, \"codigo region\": 0}, {\"date\": \"2020-03-03\", \"region\": \"Tarapac\\u00e1\", \"casos\": 0, \"codigo region\": 1}, {\"date\": \"2020-03-03\", \"region\": \"Antofagasta\", \"casos\": 0, \"codigo region\": 2}, {\"date\": \"2020-03-03\", \"region\": \"Atacama\", \"casos\": 0, \"codigo region\": 3}, {\"date\": \"2020-03-03\", \"region\": \"Coquimbo\", \"casos\": 0, \"codigo region\": 4}, {\"date\": \"2020-03-03\", \"region\": \"Valpara\\u00edso\", \"casos\": 0, \"codigo region\": 5}, {\"date\": \"2020-03-03\", \"region\": \"Metropolitana\", \"casos\": 0, \"codigo region\": 6}, {\"date\": \"2020-03-03\", \"region\": \"O\\u2019Higgins\", \"casos\": 0, \"codigo region\": 7}, {\"date\": \"2020-03-03\", \"region\": \"Maule\", \"casos\": 1, \"codigo region\": 8}, {\"date\": \"2020-03-03\", \"region\": \"\\u00d1uble\", \"casos\": 0, \"codigo region\": 9}, {\"date\": \"2020-03-03\", \"region\": \"Biob\\u00edo\", \"casos\": 0, \"codigo region\": 10}, {\"date\": \"2020-03-03\", \"region\": \"Araucan\\u00eda\", \"casos\": 0, \"codigo region\": 11}, {\"date\": \"2020-03-03\", \"region\": \"Los R\\u00edos\", \"casos\": 0, \"codigo region\": 12}, {\"date\": \"2020-03-03\", \"region\": \"Los Lagos\", \"casos\": 0, \"codigo region\": 13}, {\"date\": \"2020-03-03\", \"region\": \"Ays\\u00e9n\", \"casos\": 0, \"codigo region\": 14}, {\"date\": \"2020-03-03\", \"region\": \"Magallanes\", \"casos\": 0, \"codigo region\": 15}, {\"date\": \"2020-03-04\", \"region\": \"Arica y Parinacota\", \"casos\": 0, \"codigo region\": 0}, {\"date\": \"2020-03-04\", \"region\": \"Tarapac\\u00e1\", \"casos\": 0, \"codigo region\": 1}, {\"date\": \"2020-03-04\", \"region\": \"Antofagasta\", \"casos\": 0, \"codigo region\": 2}, {\"date\": \"2020-03-04\", \"region\": \"Atacama\", \"casos\": 0, \"codigo region\": 3}, {\"date\": \"2020-03-04\", \"region\": \"Coquimbo\", \"casos\": 0, \"codigo region\": 4}, {\"date\": \"2020-03-04\", \"region\": \"Valpara\\u00edso\", \"casos\": 0, \"codigo region\": 5}, {\"date\": \"2020-03-04\", \"region\": \"Metropolitana\", \"casos\": 1, \"codigo region\": 6}, {\"date\": \"2020-03-04\", \"region\": \"O\\u2019Higgins\", \"casos\": 0, \"codigo region\": 7}, {\"date\": \"2020-03-04\", \"region\": \"Maule\", \"casos\": 2, \"codigo region\": 8}, {\"date\": \"2020-03-04\", \"region\": \"\\u00d1uble\", \"casos\": 0, \"codigo region\": 9}, {\"date\": \"2020-03-04\", \"region\": \"Biob\\u00edo\", \"casos\": 0, \"codigo region\": 10}, {\"date\": \"2020-03-04\", \"region\": \"Araucan\\u00eda\", \"casos\": 0, \"codigo region\": 11}, {\"date\": \"2020-03-04\", \"region\": \"Los R\\u00edos\", \"casos\": 0, \"codigo region\": 12}, {\"date\": \"2020-03-04\", \"region\": \"Los Lagos\", \"casos\": 0, \"codigo region\": 13}, {\"date\": \"2020-03-04\", \"region\": \"Ays\\u00e9n\", \"casos\": 0, \"codigo region\": 14}, {\"date\": \"2020-03-04\", \"region\": \"Magallanes\", \"casos\": 0, \"codigo region\": 15}, {\"date\": \"2020-03-05\", \"region\": \"Arica y Parinacota\", \"casos\": 0, \"codigo region\": 0}, {\"date\": \"2020-03-05\", \"region\": \"Tarapac\\u00e1\", \"casos\": 0, \"codigo region\": 1}, {\"date\": \"2020-03-05\", \"region\": \"Antofagasta\", \"casos\": 0, \"codigo region\": 2}, {\"date\": \"2020-03-05\", \"region\": \"Atacama\", \"casos\": 0, \"codigo region\": 3}, {\"date\": \"2020-03-05\", \"region\": \"Coquimbo\", \"casos\": 0, \"codigo region\": 4}, {\"date\": \"2020-03-05\", \"region\": \"Valpara\\u00edso\", \"casos\": 0, \"codigo region\": 5}, {\"date\": \"2020-03-05\", \"region\": \"Metropolitana\", \"casos\": 2, \"codigo region\": 6}, {\"date\": \"2020-03-05\", \"region\": \"O\\u2019Higgins\", \"casos\": 0, \"codigo region\": 7}, {\"date\": \"2020-03-05\", \"region\": \"Maule\", \"casos\": 2, \"codigo region\": 8}, {\"date\": \"2020-03-05\", \"region\": \"\\u00d1uble\", \"casos\": 0, \"codigo region\": 9}, {\"date\": \"2020-03-05\", \"region\": \"Biob\\u00edo\", \"casos\": 0, \"codigo region\": 10}, {\"date\": \"2020-03-05\", \"region\": \"Araucan\\u00eda\", \"casos\": 0, \"codigo region\": 11}, {\"date\": \"2020-03-05\", \"region\": \"Los R\\u00edos\", \"casos\": 0, \"codigo region\": 12}, {\"date\": \"2020-03-05\", \"region\": \"Los Lagos\", \"casos\": 0, \"codigo region\": 13}, {\"date\": \"2020-03-05\", \"region\": \"Ays\\u00e9n\", \"casos\": 0, \"codigo region\": 14}, {\"date\": \"2020-03-05\", \"region\": \"Magallanes\", \"casos\": 0, \"codigo region\": 15}, {\"date\": \"2020-03-06\", \"region\": \"Arica y Parinacota\", \"casos\": 0, \"codigo region\": 0}, {\"date\": \"2020-03-06\", \"region\": \"Tarapac\\u00e1\", \"casos\": 0, \"codigo region\": 1}, {\"date\": \"2020-03-06\", \"region\": \"Antofagasta\", \"casos\": 0, \"codigo region\": 2}, {\"date\": \"2020-03-06\", \"region\": \"Atacama\", \"casos\": 0, \"codigo region\": 3}, {\"date\": \"2020-03-06\", \"region\": \"Coquimbo\", \"casos\": 0, \"codigo region\": 4}, {\"date\": \"2020-03-06\", \"region\": \"Valpara\\u00edso\", \"casos\": 0, \"codigo region\": 5}, {\"date\": \"2020-03-06\", \"region\": \"Metropolitana\", \"casos\": 3, \"codigo region\": 6}, {\"date\": \"2020-03-06\", \"region\": \"O\\u2019Higgins\", \"casos\": 0, \"codigo region\": 7}, {\"date\": \"2020-03-06\", \"region\": \"Maule\", \"casos\": 2, \"codigo region\": 8}, {\"date\": \"2020-03-06\", \"region\": \"\\u00d1uble\", \"casos\": 0, \"codigo region\": 9}, {\"date\": \"2020-03-06\", \"region\": \"Biob\\u00edo\", \"casos\": 0, \"codigo region\": 10}, {\"date\": \"2020-03-06\", \"region\": \"Araucan\\u00eda\", \"casos\": 0, \"codigo region\": 11}, {\"date\": \"2020-03-06\", \"region\": \"Los R\\u00edos\", \"casos\": 0, \"codigo region\": 12}, {\"date\": \"2020-03-06\", \"region\": \"Los Lagos\", \"casos\": 0, \"codigo region\": 13}, {\"date\": \"2020-03-06\", \"region\": \"Ays\\u00e9n\", \"casos\": 0, \"codigo region\": 14}, {\"date\": \"2020-03-06\", \"region\": \"Magallanes\", \"casos\": 0, \"codigo region\": 15}, {\"date\": \"2020-03-07\", \"region\": \"Arica y Parinacota\", \"casos\": 0, \"codigo region\": 0}, {\"date\": \"2020-03-07\", \"region\": \"Tarapac\\u00e1\", \"casos\": 0, \"codigo region\": 1}, {\"date\": \"2020-03-07\", \"region\": \"Antofagasta\", \"casos\": 0, \"codigo region\": 2}, {\"date\": \"2020-03-07\", \"region\": \"Atacama\", \"casos\": 0, \"codigo region\": 3}, {\"date\": \"2020-03-07\", \"region\": \"Coquimbo\", \"casos\": 0, \"codigo region\": 4}, {\"date\": \"2020-03-07\", \"region\": \"Valpara\\u00edso\", \"casos\": 0, \"codigo region\": 5}, {\"date\": \"2020-03-07\", \"region\": \"Metropolitana\", \"casos\": 4, \"codigo region\": 6}, {\"date\": \"2020-03-07\", \"region\": \"O\\u2019Higgins\", \"casos\": 0, \"codigo region\": 7}, {\"date\": \"2020-03-07\", \"region\": \"Maule\", \"casos\": 2, \"codigo region\": 8}, {\"date\": \"2020-03-07\", \"region\": \"\\u00d1uble\", \"casos\": 0, \"codigo region\": 9}, {\"date\": \"2020-03-07\", \"region\": \"Biob\\u00edo\", \"casos\": 0, \"codigo region\": 10}, {\"date\": \"2020-03-07\", \"region\": \"Araucan\\u00eda\", \"casos\": 0, \"codigo region\": 11}, {\"date\": \"2020-03-07\", \"region\": \"Los R\\u00edos\", \"casos\": 0, \"codigo region\": 12}, {\"date\": \"2020-03-07\", \"region\": \"Los Lagos\", \"casos\": 1, \"codigo region\": 13}, {\"date\": \"2020-03-07\", \"region\": \"Ays\\u00e9n\", \"casos\": 0, \"codigo region\": 14}, {\"date\": \"2020-03-07\", \"region\": \"Magallanes\", \"casos\": 0, \"codigo region\": 15}, {\"date\": \"2020-03-08\", \"region\": \"Arica y Parinacota\", \"casos\": 0, \"codigo region\": 0}, {\"date\": \"2020-03-08\", \"region\": \"Tarapac\\u00e1\", \"casos\": 0, \"codigo region\": 1}, {\"date\": \"2020-03-08\", \"region\": \"Antofagasta\", \"casos\": 0, \"codigo region\": 2}, {\"date\": \"2020-03-08\", \"region\": \"Atacama\", \"casos\": 0, \"codigo region\": 3}, {\"date\": \"2020-03-08\", \"region\": \"Coquimbo\", \"casos\": 0, \"codigo region\": 4}, {\"date\": \"2020-03-08\", \"region\": \"Valpara\\u00edso\", \"casos\": 0, \"codigo region\": 5}, {\"date\": \"2020-03-08\", \"region\": \"Metropolitana\", \"casos\": 6, \"codigo region\": 6}, {\"date\": \"2020-03-08\", \"region\": \"O\\u2019Higgins\", \"casos\": 0, \"codigo region\": 7}, {\"date\": \"2020-03-08\", \"region\": \"Maule\", \"casos\": 3, \"codigo region\": 8}, {\"date\": \"2020-03-08\", \"region\": \"\\u00d1uble\", \"casos\": 0, \"codigo region\": 9}, {\"date\": \"2020-03-08\", \"region\": \"Biob\\u00edo\", \"casos\": 0, \"codigo region\": 10}, {\"date\": \"2020-03-08\", \"region\": \"Araucan\\u00eda\", \"casos\": 0, \"codigo region\": 11}, {\"date\": \"2020-03-08\", \"region\": \"Los R\\u00edos\", \"casos\": 0, \"codigo region\": 12}, {\"date\": \"2020-03-08\", \"region\": \"Los Lagos\", \"casos\": 1, \"codigo region\": 13}, {\"date\": \"2020-03-08\", \"region\": \"Ays\\u00e9n\", \"casos\": 0, \"codigo region\": 14}, {\"date\": \"2020-03-08\", \"region\": \"Magallanes\", \"casos\": 0, \"codigo region\": 15}, {\"date\": \"2020-03-09\", \"region\": \"Arica y Parinacota\", \"casos\": 0, \"codigo region\": 0}, {\"date\": \"2020-03-09\", \"region\": \"Tarapac\\u00e1\", \"casos\": 0, \"codigo region\": 1}, {\"date\": \"2020-03-09\", \"region\": \"Antofagasta\", \"casos\": 0, \"codigo region\": 2}, {\"date\": \"2020-03-09\", \"region\": \"Atacama\", \"casos\": 0, \"codigo region\": 3}, {\"date\": \"2020-03-09\", \"region\": \"Coquimbo\", \"casos\": 0, \"codigo region\": 4}, {\"date\": \"2020-03-09\", \"region\": \"Valpara\\u00edso\", \"casos\": 0, \"codigo region\": 5}, {\"date\": \"2020-03-09\", \"region\": \"Metropolitana\", \"casos\": 9, \"codigo region\": 6}, {\"date\": \"2020-03-09\", \"region\": \"O\\u2019Higgins\", \"casos\": 0, \"codigo region\": 7}, {\"date\": \"2020-03-09\", \"region\": \"Maule\", \"casos\": 4, \"codigo region\": 8}, {\"date\": \"2020-03-09\", \"region\": \"\\u00d1uble\", \"casos\": 0, \"codigo region\": 9}, {\"date\": \"2020-03-09\", \"region\": \"Biob\\u00edo\", \"casos\": 1, \"codigo region\": 10}, {\"date\": \"2020-03-09\", \"region\": \"Araucan\\u00eda\", \"casos\": 0, \"codigo region\": 11}, {\"date\": \"2020-03-09\", \"region\": \"Los R\\u00edos\", \"casos\": 0, \"codigo region\": 12}, {\"date\": \"2020-03-09\", \"region\": \"Los Lagos\", \"casos\": 1, \"codigo region\": 13}, {\"date\": \"2020-03-09\", \"region\": \"Ays\\u00e9n\", \"casos\": 0, \"codigo region\": 14}, {\"date\": \"2020-03-09\", \"region\": \"Magallanes\", \"casos\": 0, \"codigo region\": 15}, {\"date\": \"2020-03-10\", \"region\": \"Arica y Parinacota\", \"casos\": 0, \"codigo region\": 0}, {\"date\": \"2020-03-10\", \"region\": \"Tarapac\\u00e1\", \"casos\": 0, \"codigo region\": 1}, {\"date\": \"2020-03-10\", \"region\": \"Antofagasta\", \"casos\": 0, \"codigo region\": 2}, {\"date\": \"2020-03-10\", \"region\": \"Atacama\", \"casos\": 0, \"codigo region\": 3}, {\"date\": \"2020-03-10\", \"region\": \"Coquimbo\", \"casos\": 0, \"codigo region\": 4}, {\"date\": \"2020-03-10\", \"region\": \"Valpara\\u00edso\", \"casos\": 0, \"codigo region\": 5}, {\"date\": \"2020-03-10\", \"region\": \"Metropolitana\", \"casos\": 10, \"codigo region\": 6}, {\"date\": \"2020-03-10\", \"region\": \"O\\u2019Higgins\", \"casos\": 0, \"codigo region\": 7}, {\"date\": \"2020-03-10\", \"region\": \"Maule\", \"casos\": 5, \"codigo region\": 8}, {\"date\": \"2020-03-10\", \"region\": \"\\u00d1uble\", \"casos\": 0, \"codigo region\": 9}, {\"date\": \"2020-03-10\", \"region\": \"Biob\\u00edo\", \"casos\": 1, \"codigo region\": 10}, {\"date\": \"2020-03-10\", \"region\": \"Araucan\\u00eda\", \"casos\": 0, \"codigo region\": 11}, {\"date\": \"2020-03-10\", \"region\": \"Los R\\u00edos\", \"casos\": 0, \"codigo region\": 12}, {\"date\": \"2020-03-10\", \"region\": \"Los Lagos\", \"casos\": 1, \"codigo region\": 13}, {\"date\": \"2020-03-10\", \"region\": \"Ays\\u00e9n\", \"casos\": 0, \"codigo region\": 14}, {\"date\": \"2020-03-10\", \"region\": \"Magallanes\", \"casos\": 0, \"codigo region\": 15}, {\"date\": \"2020-03-11\", \"region\": \"Arica y Parinacota\", \"casos\": 0, \"codigo region\": 0}, {\"date\": \"2020-03-11\", \"region\": \"Tarapac\\u00e1\", \"casos\": 0, \"codigo region\": 1}, {\"date\": \"2020-03-11\", \"region\": \"Antofagasta\", \"casos\": 0, \"codigo region\": 2}, {\"date\": \"2020-03-11\", \"region\": \"Atacama\", \"casos\": 0, \"codigo region\": 3}, {\"date\": \"2020-03-11\", \"region\": \"Coquimbo\", \"casos\": 0, \"codigo region\": 4}, {\"date\": \"2020-03-11\", \"region\": \"Valpara\\u00edso\", \"casos\": 0, \"codigo region\": 5}, {\"date\": \"2020-03-11\", \"region\": \"Metropolitana\", \"casos\": 14, \"codigo region\": 6}, {\"date\": \"2020-03-11\", \"region\": \"O\\u2019Higgins\", \"casos\": 0, \"codigo region\": 7}, {\"date\": \"2020-03-11\", \"region\": \"Maule\", \"casos\": 7, \"codigo region\": 8}, {\"date\": \"2020-03-11\", \"region\": \"\\u00d1uble\", \"casos\": 0, \"codigo region\": 9}, {\"date\": \"2020-03-11\", \"region\": \"Biob\\u00edo\", \"casos\": 1, \"codigo region\": 10}, {\"date\": \"2020-03-11\", \"region\": \"Araucan\\u00eda\", \"casos\": 0, \"codigo region\": 11}, {\"date\": \"2020-03-11\", \"region\": \"Los R\\u00edos\", \"casos\": 0, \"codigo region\": 12}, {\"date\": \"2020-03-11\", \"region\": \"Los Lagos\", \"casos\": 1, \"codigo region\": 13}, {\"date\": \"2020-03-11\", \"region\": \"Ays\\u00e9n\", \"casos\": 0, \"codigo region\": 14}, {\"date\": \"2020-03-11\", \"region\": \"Magallanes\", \"casos\": 0, \"codigo region\": 15}, {\"date\": \"2020-03-12\", \"region\": \"Arica y Parinacota\", \"casos\": 0, \"codigo region\": 0}, {\"date\": \"2020-03-12\", \"region\": \"Tarapac\\u00e1\", \"casos\": 0, \"codigo region\": 1}, {\"date\": \"2020-03-12\", \"region\": \"Antofagasta\", \"casos\": 0, \"codigo region\": 2}, {\"date\": \"2020-03-12\", \"region\": \"Atacama\", \"casos\": 0, \"codigo region\": 3}, {\"date\": \"2020-03-12\", \"region\": \"Coquimbo\", \"casos\": 0, \"codigo region\": 4}, {\"date\": \"2020-03-12\", \"region\": \"Valpara\\u00edso\", \"casos\": 0, \"codigo region\": 5}, {\"date\": \"2020-03-12\", \"region\": \"Metropolitana\", \"casos\": 23, \"codigo region\": 6}, {\"date\": \"2020-03-12\", \"region\": \"O\\u2019Higgins\", \"casos\": 0, \"codigo region\": 7}, {\"date\": \"2020-03-12\", \"region\": \"Maule\", \"casos\": 7, \"codigo region\": 8}, {\"date\": \"2020-03-12\", \"region\": \"\\u00d1uble\", \"casos\": 1, \"codigo region\": 9}, {\"date\": \"2020-03-12\", \"region\": \"Biob\\u00edo\", \"casos\": 1, \"codigo region\": 10}, {\"date\": \"2020-03-12\", \"region\": \"Araucan\\u00eda\", \"casos\": 0, \"codigo region\": 11}, {\"date\": \"2020-03-12\", \"region\": \"Los R\\u00edos\", \"casos\": 0, \"codigo region\": 12}, {\"date\": \"2020-03-12\", \"region\": \"Los Lagos\", \"casos\": 1, \"codigo region\": 13}, {\"date\": \"2020-03-12\", \"region\": \"Ays\\u00e9n\", \"casos\": 0, \"codigo region\": 14}, {\"date\": \"2020-03-12\", \"region\": \"Magallanes\", \"casos\": 0, \"codigo region\": 15}, {\"date\": \"2020-03-13\", \"region\": \"Arica y Parinacota\", \"casos\": 0, \"codigo region\": 0}, {\"date\": \"2020-03-13\", \"region\": \"Tarapac\\u00e1\", \"casos\": 0, \"codigo region\": 1}, {\"date\": \"2020-03-13\", \"region\": \"Antofagasta\", \"casos\": 0, \"codigo region\": 2}, {\"date\": \"2020-03-13\", \"region\": \"Atacama\", \"casos\": 0, \"codigo region\": 3}, {\"date\": \"2020-03-13\", \"region\": \"Coquimbo\", \"casos\": 0, \"codigo region\": 4}, {\"date\": \"2020-03-13\", \"region\": \"Valpara\\u00edso\", \"casos\": 0, \"codigo region\": 5}, {\"date\": \"2020-03-13\", \"region\": \"Metropolitana\", \"casos\": 29, \"codigo region\": 6}, {\"date\": \"2020-03-13\", \"region\": \"O\\u2019Higgins\", \"casos\": 0, \"codigo region\": 7}, {\"date\": \"2020-03-13\", \"region\": \"Maule\", \"casos\": 8, \"codigo region\": 8}, {\"date\": \"2020-03-13\", \"region\": \"\\u00d1uble\", \"casos\": 2, \"codigo region\": 9}, {\"date\": \"2020-03-13\", \"region\": \"Biob\\u00edo\", \"casos\": 3, \"codigo region\": 10}, {\"date\": \"2020-03-13\", \"region\": \"Araucan\\u00eda\", \"casos\": 0, \"codigo region\": 11}, {\"date\": \"2020-03-13\", \"region\": \"Los R\\u00edos\", \"casos\": 0, \"codigo region\": 12}, {\"date\": \"2020-03-13\", \"region\": \"Los Lagos\", \"casos\": 1, \"codigo region\": 13}, {\"date\": \"2020-03-13\", \"region\": \"Ays\\u00e9n\", \"casos\": 0, \"codigo region\": 14}, {\"date\": \"2020-03-13\", \"region\": \"Magallanes\", \"casos\": 0, \"codigo region\": 15}, {\"date\": \"2020-03-14\", \"region\": \"Arica y Parinacota\", \"casos\": 0, \"codigo region\": 0}, {\"date\": \"2020-03-14\", \"region\": \"Tarapac\\u00e1\", \"casos\": 0, \"codigo region\": 1}, {\"date\": \"2020-03-14\", \"region\": \"Antofagasta\", \"casos\": 2, \"codigo region\": 2}, {\"date\": \"2020-03-14\", \"region\": \"Atacama\", \"casos\": 1, \"codigo region\": 3}, {\"date\": \"2020-03-14\", \"region\": \"Coquimbo\", \"casos\": 0, \"codigo region\": 4}, {\"date\": \"2020-03-14\", \"region\": \"Valpara\\u00edso\", \"casos\": 0, \"codigo region\": 5}, {\"date\": \"2020-03-14\", \"region\": \"Metropolitana\", \"casos\": 40, \"codigo region\": 6}, {\"date\": \"2020-03-14\", \"region\": \"O\\u2019Higgins\", \"casos\": 0, \"codigo region\": 7}, {\"date\": \"2020-03-14\", \"region\": \"Maule\", \"casos\": 9, \"codigo region\": 8}, {\"date\": \"2020-03-14\", \"region\": \"\\u00d1uble\", \"casos\": 4, \"codigo region\": 9}, {\"date\": \"2020-03-14\", \"region\": \"Biob\\u00edo\", \"casos\": 3, \"codigo region\": 10}, {\"date\": \"2020-03-14\", \"region\": \"Araucan\\u00eda\", \"casos\": 0, \"codigo region\": 11}, {\"date\": \"2020-03-14\", \"region\": \"Los R\\u00edos\", \"casos\": 0, \"codigo region\": 12}, {\"date\": \"2020-03-14\", \"region\": \"Los Lagos\", \"casos\": 1, \"codigo region\": 13}, {\"date\": \"2020-03-14\", \"region\": \"Ays\\u00e9n\", \"casos\": 1, \"codigo region\": 14}, {\"date\": \"2020-03-14\", \"region\": \"Magallanes\", \"casos\": 0, \"codigo region\": 15}, {\"date\": \"2020-03-15\", \"region\": \"Arica y Parinacota\", \"casos\": 0, \"codigo region\": 0}, {\"date\": \"2020-03-15\", \"region\": \"Tarapac\\u00e1\", \"casos\": 0, \"codigo region\": 1}, {\"date\": \"2020-03-15\", \"region\": \"Antofagasta\", \"casos\": 2, \"codigo region\": 2}, {\"date\": \"2020-03-15\", \"region\": \"Atacama\", \"casos\": 1, \"codigo region\": 3}, {\"date\": \"2020-03-15\", \"region\": \"Coquimbo\", \"casos\": 0, \"codigo region\": 4}, {\"date\": \"2020-03-15\", \"region\": \"Valpara\\u00edso\", \"casos\": 0, \"codigo region\": 5}, {\"date\": \"2020-03-15\", \"region\": \"Metropolitana\", \"casos\": 54, \"codigo region\": 6}, {\"date\": \"2020-03-15\", \"region\": \"O\\u2019Higgins\", \"casos\": 0, \"codigo region\": 7}, {\"date\": \"2020-03-15\", \"region\": \"Maule\", \"casos\": 9, \"codigo region\": 8}, {\"date\": \"2020-03-15\", \"region\": \"\\u00d1uble\", \"casos\": 4, \"codigo region\": 9}, {\"date\": \"2020-03-15\", \"region\": \"Biob\\u00edo\", \"casos\": 3, \"codigo region\": 10}, {\"date\": \"2020-03-15\", \"region\": \"Araucan\\u00eda\", \"casos\": 0, \"codigo region\": 11}, {\"date\": \"2020-03-15\", \"region\": \"Los R\\u00edos\", \"casos\": 0, \"codigo region\": 12}, {\"date\": \"2020-03-15\", \"region\": \"Los Lagos\", \"casos\": 1, \"codigo region\": 13}, {\"date\": \"2020-03-15\", \"region\": \"Ays\\u00e9n\", \"casos\": 1, \"codigo region\": 14}, {\"date\": \"2020-03-15\", \"region\": \"Magallanes\", \"casos\": 0, \"codigo region\": 15}, {\"date\": \"2020-03-16\", \"region\": \"Arica y Parinacota\", \"casos\": 0, \"codigo region\": 0}, {\"date\": \"2020-03-16\", \"region\": \"Tarapac\\u00e1\", \"casos\": 0, \"codigo region\": 1}, {\"date\": \"2020-03-16\", \"region\": \"Antofagasta\", \"casos\": 2, \"codigo region\": 2}, {\"date\": \"2020-03-16\", \"region\": \"Atacama\", \"casos\": 1, \"codigo region\": 3}, {\"date\": \"2020-03-16\", \"region\": \"Coquimbo\", \"casos\": 0, \"codigo region\": 4}, {\"date\": \"2020-03-16\", \"region\": \"Valpara\\u00edso\", \"casos\": 1, \"codigo region\": 5}, {\"date\": \"2020-03-16\", \"region\": \"Metropolitana\", \"casos\": 123, \"codigo region\": 6}, {\"date\": \"2020-03-16\", \"region\": \"O\\u2019Higgins\", \"casos\": 0, \"codigo region\": 7}, {\"date\": \"2020-03-16\", \"region\": \"Maule\", \"casos\": 9, \"codigo region\": 8}, {\"date\": \"2020-03-16\", \"region\": \"\\u00d1uble\", \"casos\": 12, \"codigo region\": 9}, {\"date\": \"2020-03-16\", \"region\": \"Biob\\u00edo\", \"casos\": 4, \"codigo region\": 10}, {\"date\": \"2020-03-16\", \"region\": \"Araucan\\u00eda\", \"casos\": 1, \"codigo region\": 11}, {\"date\": \"2020-03-16\", \"region\": \"Los R\\u00edos\", \"casos\": 1, \"codigo region\": 12}, {\"date\": \"2020-03-16\", \"region\": \"Los Lagos\", \"casos\": 1, \"codigo region\": 13}, {\"date\": \"2020-03-16\", \"region\": \"Ays\\u00e9n\", \"casos\": 1, \"codigo region\": 14}, {\"date\": \"2020-03-16\", \"region\": \"Magallanes\", \"casos\": 0, \"codigo region\": 15}, {\"date\": \"2020-03-17\", \"region\": \"Arica y Parinacota\", \"casos\": 0, \"codigo region\": 0}, {\"date\": \"2020-03-17\", \"region\": \"Tarapac\\u00e1\", \"casos\": 0, \"codigo region\": 1}, {\"date\": \"2020-03-17\", \"region\": \"Antofagasta\", \"casos\": 2, \"codigo region\": 2}, {\"date\": \"2020-03-17\", \"region\": \"Atacama\", \"casos\": 1, \"codigo region\": 3}, {\"date\": \"2020-03-17\", \"region\": \"Coquimbo\", \"casos\": 0, \"codigo region\": 4}, {\"date\": \"2020-03-17\", \"region\": \"Valpara\\u00edso\", \"casos\": 1, \"codigo region\": 5}, {\"date\": \"2020-03-17\", \"region\": \"Metropolitana\", \"casos\": 152, \"codigo region\": 6}, {\"date\": \"2020-03-17\", \"region\": \"O\\u2019Higgins\", \"casos\": 0, \"codigo region\": 7}, {\"date\": \"2020-03-17\", \"region\": \"Maule\", \"casos\": 9, \"codigo region\": 8}, {\"date\": \"2020-03-17\", \"region\": \"\\u00d1uble\", \"casos\": 26, \"codigo region\": 9}, {\"date\": \"2020-03-17\", \"region\": \"Biob\\u00edo\", \"casos\": 4, \"codigo region\": 10}, {\"date\": \"2020-03-17\", \"region\": \"Araucan\\u00eda\", \"casos\": 1, \"codigo region\": 11}, {\"date\": \"2020-03-17\", \"region\": \"Los R\\u00edos\", \"casos\": 1, \"codigo region\": 12}, {\"date\": \"2020-03-17\", \"region\": \"Los Lagos\", \"casos\": 1, \"codigo region\": 13}, {\"date\": \"2020-03-17\", \"region\": \"Ays\\u00e9n\", \"casos\": 1, \"codigo region\": 14}, {\"date\": \"2020-03-17\", \"region\": \"Magallanes\", \"casos\": 2, \"codigo region\": 15}, {\"date\": \"2020-03-18\", \"region\": \"Arica y Parinacota\", \"casos\": 0, \"codigo region\": 0}, {\"date\": \"2020-03-18\", \"region\": \"Tarapac\\u00e1\", \"casos\": 0, \"codigo region\": 1}, {\"date\": \"2020-03-18\", \"region\": \"Antofagasta\", \"casos\": 2, \"codigo region\": 2}, {\"date\": \"2020-03-18\", \"region\": \"Atacama\", \"casos\": 1, \"codigo region\": 3}, {\"date\": \"2020-03-18\", \"region\": \"Coquimbo\", \"casos\": 0, \"codigo region\": 4}, {\"date\": \"2020-03-18\", \"region\": \"Valpara\\u00edso\", \"casos\": 1, \"codigo region\": 5}, {\"date\": \"2020-03-18\", \"region\": \"Metropolitana\", \"casos\": 174, \"codigo region\": 6}, {\"date\": \"2020-03-18\", \"region\": \"O\\u2019Higgins\", \"casos\": 0, \"codigo region\": 7}, {\"date\": \"2020-03-18\", \"region\": \"Maule\", \"casos\": 11, \"codigo region\": 8}, {\"date\": \"2020-03-18\", \"region\": \"\\u00d1uble\", \"casos\": 26, \"codigo region\": 9}, {\"date\": \"2020-03-18\", \"region\": \"Biob\\u00edo\", \"casos\": 7, \"codigo region\": 10}, {\"date\": \"2020-03-18\", \"region\": \"Araucan\\u00eda\", \"casos\": 4, \"codigo region\": 11}, {\"date\": \"2020-03-18\", \"region\": \"Los R\\u00edos\", \"casos\": 1, \"codigo region\": 12}, {\"date\": \"2020-03-18\", \"region\": \"Los Lagos\", \"casos\": 8, \"codigo region\": 13}, {\"date\": \"2020-03-18\", \"region\": \"Ays\\u00e9n\", \"casos\": 1, \"codigo region\": 14}, {\"date\": \"2020-03-18\", \"region\": \"Magallanes\", \"casos\": 2, \"codigo region\": 15}, {\"date\": \"2020-03-19\", \"region\": \"Arica y Parinacota\", \"casos\": 1, \"codigo region\": 0}, {\"date\": \"2020-03-19\", \"region\": \"Tarapac\\u00e1\", \"casos\": 0, \"codigo region\": 1}, {\"date\": \"2020-03-19\", \"region\": \"Antofagasta\", \"casos\": 2, \"codigo region\": 2}, {\"date\": \"2020-03-19\", \"region\": \"Atacama\", \"casos\": 1, \"codigo region\": 3}, {\"date\": \"2020-03-19\", \"region\": \"Coquimbo\", \"casos\": 2, \"codigo region\": 4}, {\"date\": \"2020-03-19\", \"region\": \"Valpara\\u00edso\", \"casos\": 4, \"codigo region\": 5}, {\"date\": \"2020-03-19\", \"region\": \"Metropolitana\", \"casos\": 247, \"codigo region\": 6}, {\"date\": \"2020-03-19\", \"region\": \"O\\u2019Higgins\", \"casos\": 2, \"codigo region\": 7}, {\"date\": \"2020-03-19\", \"region\": \"Maule\", \"casos\": 14, \"codigo region\": 8}, {\"date\": \"2020-03-19\", \"region\": \"\\u00d1uble\", \"casos\": 28, \"codigo region\": 9}, {\"date\": \"2020-03-19\", \"region\": \"Biob\\u00edo\", \"casos\": 14, \"codigo region\": 10}, {\"date\": \"2020-03-19\", \"region\": \"Araucan\\u00eda\", \"casos\": 7, \"codigo region\": 11}, {\"date\": \"2020-03-19\", \"region\": \"Los R\\u00edos\", \"casos\": 1, \"codigo region\": 12}, {\"date\": \"2020-03-19\", \"region\": \"Los Lagos\", \"casos\": 16, \"codigo region\": 13}, {\"date\": \"2020-03-19\", \"region\": \"Ays\\u00e9n\", \"casos\": 1, \"codigo region\": 14}, {\"date\": \"2020-03-19\", \"region\": \"Magallanes\", \"casos\": 2, \"codigo region\": 15}, {\"date\": \"2020-03-20\", \"region\": \"Arica y Parinacota\", \"casos\": 1, \"codigo region\": 0}, {\"date\": \"2020-03-20\", \"region\": \"Tarapac\\u00e1\", \"casos\": 0, \"codigo region\": 1}, {\"date\": \"2020-03-20\", \"region\": \"Antofagasta\", \"casos\": 6, \"codigo region\": 2}, {\"date\": \"2020-03-20\", \"region\": \"Atacama\", \"casos\": 1, \"codigo region\": 3}, {\"date\": \"2020-03-20\", \"region\": \"Coquimbo\", \"casos\": 3, \"codigo region\": 4}, {\"date\": \"2020-03-20\", \"region\": \"Valpara\\u00edso\", \"casos\": 5, \"codigo region\": 5}, {\"date\": \"2020-03-20\", \"region\": \"Metropolitana\", \"casos\": 304, \"codigo region\": 6}, {\"date\": \"2020-03-20\", \"region\": \"O\\u2019Higgins\", \"casos\": 6, \"codigo region\": 7}, {\"date\": \"2020-03-20\", \"region\": \"Maule\", \"casos\": 14, \"codigo region\": 8}, {\"date\": \"2020-03-20\", \"region\": \"\\u00d1uble\", \"casos\": 44, \"codigo region\": 9}, {\"date\": \"2020-03-20\", \"region\": \"Biob\\u00edo\", \"casos\": 19, \"codigo region\": 10}, {\"date\": \"2020-03-20\", \"region\": \"Araucan\\u00eda\", \"casos\": 9, \"codigo region\": 11}, {\"date\": \"2020-03-20\", \"region\": \"Los R\\u00edos\", \"casos\": 1, \"codigo region\": 12}, {\"date\": \"2020-03-20\", \"region\": \"Los Lagos\", \"casos\": 18, \"codigo region\": 13}, {\"date\": \"2020-03-20\", \"region\": \"Ays\\u00e9n\", \"casos\": 1, \"codigo region\": 14}, {\"date\": \"2020-03-20\", \"region\": \"Magallanes\", \"casos\": 2, \"codigo region\": 15}, {\"date\": \"2020-03-21\", \"region\": \"Arica y Parinacota\", \"casos\": 1, \"codigo region\": 0}, {\"date\": \"2020-03-21\", \"region\": \"Tarapac\\u00e1\", \"casos\": 0, \"codigo region\": 1}, {\"date\": \"2020-03-21\", \"region\": \"Antofagasta\", \"casos\": 10, \"codigo region\": 2}, {\"date\": \"2020-03-21\", \"region\": \"Atacama\", \"casos\": 1, \"codigo region\": 3}, {\"date\": \"2020-03-21\", \"region\": \"Coquimbo\", \"casos\": 3, \"codigo region\": 4}, {\"date\": \"2020-03-21\", \"region\": \"Valpara\\u00edso\", \"casos\": 13, \"codigo region\": 5}, {\"date\": \"2020-03-21\", \"region\": \"Metropolitana\", \"casos\": 359, \"codigo region\": 6}, {\"date\": \"2020-03-21\", \"region\": \"O\\u2019Higgins\", \"casos\": 7, \"codigo region\": 7}, {\"date\": \"2020-03-21\", \"region\": \"Maule\", \"casos\": 15, \"codigo region\": 8}, {\"date\": \"2020-03-21\", \"region\": \"\\u00d1uble\", \"casos\": 58, \"codigo region\": 9}, {\"date\": \"2020-03-21\", \"region\": \"Biob\\u00edo\", \"casos\": 30, \"codigo region\": 10}, {\"date\": \"2020-03-21\", \"region\": \"Araucan\\u00eda\", \"casos\": 15, \"codigo region\": 11}, {\"date\": \"2020-03-21\", \"region\": \"Los R\\u00edos\", \"casos\": 1, \"codigo region\": 12}, {\"date\": \"2020-03-21\", \"region\": \"Los Lagos\", \"casos\": 20, \"codigo region\": 13}, {\"date\": \"2020-03-21\", \"region\": \"Ays\\u00e9n\", \"casos\": 1, \"codigo region\": 14}, {\"date\": \"2020-03-21\", \"region\": \"Magallanes\", \"casos\": 3, \"codigo region\": 15}, {\"date\": \"2020-03-22\", \"region\": \"Arica y Parinacota\", \"casos\": 2, \"codigo region\": 0}, {\"date\": \"2020-03-22\", \"region\": \"Tarapac\\u00e1\", \"casos\": 0, \"codigo region\": 1}, {\"date\": \"2020-03-22\", \"region\": \"Antofagasta\", \"casos\": 11, \"codigo region\": 2}, {\"date\": \"2020-03-22\", \"region\": \"Atacama\", \"casos\": 1, \"codigo region\": 3}, {\"date\": \"2020-03-22\", \"region\": \"Coquimbo\", \"casos\": 5, \"codigo region\": 4}, {\"date\": \"2020-03-22\", \"region\": \"Valpara\\u00edso\", \"casos\": 16, \"codigo region\": 5}, {\"date\": \"2020-03-22\", \"region\": \"Metropolitana\", \"casos\": 409, \"codigo region\": 6}, {\"date\": \"2020-03-22\", \"region\": \"O\\u2019Higgins\", \"casos\": 8, \"codigo region\": 7}, {\"date\": \"2020-03-22\", \"region\": \"Maule\", \"casos\": 25, \"codigo region\": 8}, {\"date\": \"2020-03-22\", \"region\": \"\\u00d1uble\", \"casos\": 64, \"codigo region\": 9}, {\"date\": \"2020-03-22\", \"region\": \"Biob\\u00edo\", \"casos\": 35, \"codigo region\": 10}, {\"date\": \"2020-03-22\", \"region\": \"Araucan\\u00eda\", \"casos\": 27, \"codigo region\": 11}, {\"date\": \"2020-03-22\", \"region\": \"Los R\\u00edos\", \"casos\": 1, \"codigo region\": 12}, {\"date\": \"2020-03-22\", \"region\": \"Los Lagos\", \"casos\": 23, \"codigo region\": 13}, {\"date\": \"2020-03-22\", \"region\": \"Ays\\u00e9n\", \"casos\": 1, \"codigo region\": 14}, {\"date\": \"2020-03-22\", \"region\": \"Magallanes\", \"casos\": 4, \"codigo region\": 15}, {\"date\": \"2020-03-23\", \"region\": \"Arica y Parinacota\", \"casos\": 2, \"codigo region\": 0}, {\"date\": \"2020-03-23\", \"region\": \"Tarapac\\u00e1\", \"casos\": 1, \"codigo region\": 1}, {\"date\": \"2020-03-23\", \"region\": \"Antofagasta\", \"casos\": 11, \"codigo region\": 2}, {\"date\": \"2020-03-23\", \"region\": \"Atacama\", \"casos\": 1, \"codigo region\": 3}, {\"date\": \"2020-03-23\", \"region\": \"Coquimbo\", \"casos\": 6, \"codigo region\": 4}, {\"date\": \"2020-03-23\", \"region\": \"Valpara\\u00edso\", \"casos\": 19, \"codigo region\": 5}, {\"date\": \"2020-03-23\", \"region\": \"Metropolitana\", \"casos\": 459, \"codigo region\": 6}, {\"date\": \"2020-03-23\", \"region\": \"O\\u2019Higgins\", \"casos\": 8, \"codigo region\": 7}, {\"date\": \"2020-03-23\", \"region\": \"Maule\", \"casos\": 28, \"codigo region\": 8}, {\"date\": \"2020-03-23\", \"region\": \"\\u00d1uble\", \"casos\": 81, \"codigo region\": 9}, {\"date\": \"2020-03-23\", \"region\": \"Biob\\u00edo\", \"casos\": 46, \"codigo region\": 10}, {\"date\": \"2020-03-23\", \"region\": \"Araucan\\u00eda\", \"casos\": 40, \"codigo region\": 11}, {\"date\": \"2020-03-23\", \"region\": \"Los R\\u00edos\", \"casos\": 4, \"codigo region\": 12}, {\"date\": \"2020-03-23\", \"region\": \"Los Lagos\", \"casos\": 33, \"codigo region\": 13}, {\"date\": \"2020-03-23\", \"region\": \"Ays\\u00e9n\", \"casos\": 1, \"codigo region\": 14}, {\"date\": \"2020-03-23\", \"region\": \"Magallanes\", \"casos\": 6, \"codigo region\": 15}, {\"date\": \"2020-03-24\", \"region\": \"Arica y Parinacota\", \"casos\": 2, \"codigo region\": 0}, {\"date\": \"2020-03-24\", \"region\": \"Tarapac\\u00e1\", \"casos\": 4, \"codigo region\": 1}, {\"date\": \"2020-03-24\", \"region\": \"Antofagasta\", \"casos\": 13, \"codigo region\": 2}, {\"date\": \"2020-03-24\", \"region\": \"Atacama\", \"casos\": 1, \"codigo region\": 3}, {\"date\": \"2020-03-24\", \"region\": \"Coquimbo\", \"casos\": 11, \"codigo region\": 4}, {\"date\": \"2020-03-24\", \"region\": \"Valpara\\u00edso\", \"casos\": 25, \"codigo region\": 5}, {\"date\": \"2020-03-24\", \"region\": \"Metropolitana\", \"casos\": 540, \"codigo region\": 6}, {\"date\": \"2020-03-24\", \"region\": \"O\\u2019Higgins\", \"casos\": 9, \"codigo region\": 7}, {\"date\": \"2020-03-24\", \"region\": \"Maule\", \"casos\": 29, \"codigo region\": 8}, {\"date\": \"2020-03-24\", \"region\": \"\\u00d1uble\", \"casos\": 105, \"codigo region\": 9}, {\"date\": \"2020-03-24\", \"region\": \"Biob\\u00edo\", \"casos\": 73, \"codigo region\": 10}, {\"date\": \"2020-03-24\", \"region\": \"Araucan\\u00eda\", \"casos\": 59, \"codigo region\": 11}, {\"date\": \"2020-03-24\", \"region\": \"Los R\\u00edos\", \"casos\": 6, \"codigo region\": 12}, {\"date\": \"2020-03-24\", \"region\": \"Los Lagos\", \"casos\": 36, \"codigo region\": 13}, {\"date\": \"2020-03-24\", \"region\": \"Ays\\u00e9n\", \"casos\": 1, \"codigo region\": 14}, {\"date\": \"2020-03-24\", \"region\": \"Magallanes\", \"casos\": 8, \"codigo region\": 15}, {\"date\": \"2020-03-25\", \"region\": \"Arica y Parinacota\", \"casos\": 2, \"codigo region\": 0}, {\"date\": \"2020-03-25\", \"region\": \"Tarapac\\u00e1\", \"casos\": 4, \"codigo region\": 1}, {\"date\": \"2020-03-25\", \"region\": \"Antofagasta\", \"casos\": 19, \"codigo region\": 2}, {\"date\": \"2020-03-25\", \"region\": \"Atacama\", \"casos\": 1, \"codigo region\": 3}, {\"date\": \"2020-03-25\", \"region\": \"Coquimbo\", \"casos\": 12, \"codigo region\": 4}, {\"date\": \"2020-03-25\", \"region\": \"Valpara\\u00edso\", \"casos\": 32, \"codigo region\": 5}, {\"date\": \"2020-03-25\", \"region\": \"Metropolitana\", \"casos\": 682, \"codigo region\": 6}, {\"date\": \"2020-03-25\", \"region\": \"O\\u2019Higgins\", \"casos\": 11, \"codigo region\": 7}, {\"date\": \"2020-03-25\", \"region\": \"Maule\", \"casos\": 30, \"codigo region\": 8}, {\"date\": \"2020-03-25\", \"region\": \"\\u00d1uble\", \"casos\": 111, \"codigo region\": 9}, {\"date\": \"2020-03-25\", \"region\": \"Biob\\u00edo\", \"casos\": 95, \"codigo region\": 10}, {\"date\": \"2020-03-25\", \"region\": \"Araucan\\u00eda\", \"casos\": 74, \"codigo region\": 11}, {\"date\": \"2020-03-25\", \"region\": \"Los R\\u00edos\", \"casos\": 11, \"codigo region\": 12}, {\"date\": \"2020-03-25\", \"region\": \"Los Lagos\", \"casos\": 44, \"codigo region\": 13}, {\"date\": \"2020-03-25\", \"region\": \"Ays\\u00e9n\", \"casos\": 1, \"codigo region\": 14}, {\"date\": \"2020-03-25\", \"region\": \"Magallanes\", \"casos\": 13, \"codigo region\": 15}, {\"date\": \"2020-03-26\", \"region\": \"Arica y Parinacota\", \"casos\": 3, \"codigo region\": 0}, {\"date\": \"2020-03-26\", \"region\": \"Tarapac\\u00e1\", \"casos\": 5, \"codigo region\": 1}, {\"date\": \"2020-03-26\", \"region\": \"Antofagasta\", \"casos\": 20, \"codigo region\": 2}, {\"date\": \"2020-03-26\", \"region\": \"Atacama\", \"casos\": 1, \"codigo region\": 3}, {\"date\": \"2020-03-26\", \"region\": \"Coquimbo\", \"casos\": 13, \"codigo region\": 4}, {\"date\": \"2020-03-26\", \"region\": \"Valpara\\u00edso\", \"casos\": 44, \"codigo region\": 5}, {\"date\": \"2020-03-26\", \"region\": \"Metropolitana\", \"casos\": 746, \"codigo region\": 6}, {\"date\": \"2020-03-26\", \"region\": \"O\\u2019Higgins\", \"casos\": 14, \"codigo region\": 7}, {\"date\": \"2020-03-26\", \"region\": \"Maule\", \"casos\": 31, \"codigo region\": 8}, {\"date\": \"2020-03-26\", \"region\": \"\\u00d1uble\", \"casos\": 114, \"codigo region\": 9}, {\"date\": \"2020-03-26\", \"region\": \"Biob\\u00edo\", \"casos\": 109, \"codigo region\": 10}, {\"date\": \"2020-03-26\", \"region\": \"Araucan\\u00eda\", \"casos\": 111, \"codigo region\": 11}, {\"date\": \"2020-03-26\", \"region\": \"Los R\\u00edos\", \"casos\": 14, \"codigo region\": 12}, {\"date\": \"2020-03-26\", \"region\": \"Los Lagos\", \"casos\": 60, \"codigo region\": 13}, {\"date\": \"2020-03-26\", \"region\": \"Ays\\u00e9n\", \"casos\": 2, \"codigo region\": 14}, {\"date\": \"2020-03-26\", \"region\": \"Magallanes\", \"casos\": 19, \"codigo region\": 15}, {\"date\": \"2020-03-27\", \"region\": \"Arica y Parinacota\", \"casos\": 3, \"codigo region\": 0}, {\"date\": \"2020-03-27\", \"region\": \"Tarapac\\u00e1\", \"casos\": 5, \"codigo region\": 1}, {\"date\": \"2020-03-27\", \"region\": \"Antofagasta\", \"casos\": 21, \"codigo region\": 2}, {\"date\": \"2020-03-27\", \"region\": \"Atacama\", \"casos\": 1, \"codigo region\": 3}, {\"date\": \"2020-03-27\", \"region\": \"Coquimbo\", \"casos\": 14, \"codigo region\": 4}, {\"date\": \"2020-03-27\", \"region\": \"Valpara\\u00edso\", \"casos\": 49, \"codigo region\": 5}, {\"date\": \"2020-03-27\", \"region\": \"Metropolitana\", \"casos\": 938, \"codigo region\": 6}, {\"date\": \"2020-03-27\", \"region\": \"O\\u2019Higgins\", \"casos\": 16, \"codigo region\": 7}, {\"date\": \"2020-03-27\", \"region\": \"Maule\", \"casos\": 32, \"codigo region\": 8}, {\"date\": \"2020-03-27\", \"region\": \"\\u00d1uble\", \"casos\": 144, \"codigo region\": 9}, {\"date\": \"2020-03-27\", \"region\": \"Biob\\u00edo\", \"casos\": 135, \"codigo region\": 10}, {\"date\": \"2020-03-27\", \"region\": \"Araucan\\u00eda\", \"casos\": 143, \"codigo region\": 11}, {\"date\": \"2020-03-27\", \"region\": \"Los R\\u00edos\", \"casos\": 22, \"codigo region\": 12}, {\"date\": \"2020-03-27\", \"region\": \"Los Lagos\", \"casos\": 63, \"codigo region\": 13}, {\"date\": \"2020-03-27\", \"region\": \"Ays\\u00e9n\", \"casos\": 2, \"codigo region\": 14}, {\"date\": \"2020-03-27\", \"region\": \"Magallanes\", \"casos\": 22, \"codigo region\": 15}, {\"date\": \"2020-03-28\", \"region\": \"Arica y Parinacota\", \"casos\": 3, \"codigo region\": 0}, {\"date\": \"2020-03-28\", \"region\": \"Tarapac\\u00e1\", \"casos\": 5, \"codigo region\": 1}, {\"date\": \"2020-03-28\", \"region\": \"Antofagasta\", \"casos\": 25, \"codigo region\": 2}, {\"date\": \"2020-03-28\", \"region\": \"Atacama\", \"casos\": 1, \"codigo region\": 3}, {\"date\": \"2020-03-28\", \"region\": \"Coquimbo\", \"casos\": 15, \"codigo region\": 4}, {\"date\": \"2020-03-28\", \"region\": \"Valpara\\u00edso\", \"casos\": 71, \"codigo region\": 5}, {\"date\": \"2020-03-28\", \"region\": \"Metropolitana\", \"casos\": 1084, \"codigo region\": 6}, {\"date\": \"2020-03-28\", \"region\": \"O\\u2019Higgins\", \"casos\": 20, \"codigo region\": 7}, {\"date\": \"2020-03-28\", \"region\": \"Maule\", \"casos\": 37, \"codigo region\": 8}, {\"date\": \"2020-03-28\", \"region\": \"\\u00d1uble\", \"casos\": 172, \"codigo region\": 9}, {\"date\": \"2020-03-28\", \"region\": \"Biob\\u00edo\", \"casos\": 151, \"codigo region\": 10}, {\"date\": \"2020-03-28\", \"region\": \"Araucan\\u00eda\", \"casos\": 177, \"codigo region\": 11}, {\"date\": \"2020-03-28\", \"region\": \"Los R\\u00edos\", \"casos\": 27, \"codigo region\": 12}, {\"date\": \"2020-03-28\", \"region\": \"Los Lagos\", \"casos\": 93, \"codigo region\": 13}, {\"date\": \"2020-03-28\", \"region\": \"Ays\\u00e9n\", \"casos\": 2, \"codigo region\": 14}, {\"date\": \"2020-03-28\", \"region\": \"Magallanes\", \"casos\": 26, \"codigo region\": 15}, {\"date\": \"2020-03-29\", \"region\": \"Arica y Parinacota\", \"casos\": 4, \"codigo region\": 0}, {\"date\": \"2020-03-29\", \"region\": \"Tarapac\\u00e1\", \"casos\": 6, \"codigo region\": 1}, {\"date\": \"2020-03-29\", \"region\": \"Antofagasta\", \"casos\": 27, \"codigo region\": 2}, {\"date\": \"2020-03-29\", \"region\": \"Atacama\", \"casos\": 2, \"codigo region\": 3}, {\"date\": \"2020-03-29\", \"region\": \"Coquimbo\", \"casos\": 18, \"codigo region\": 4}, {\"date\": \"2020-03-29\", \"region\": \"Valpara\\u00edso\", \"casos\": 80, \"codigo region\": 5}, {\"date\": \"2020-03-29\", \"region\": \"Metropolitana\", \"casos\": 1167, \"codigo region\": 6}, {\"date\": \"2020-03-29\", \"region\": \"O\\u2019Higgins\", \"casos\": 21, \"codigo region\": 7}, {\"date\": \"2020-03-29\", \"region\": \"Maule\", \"casos\": 42, \"codigo region\": 8}, {\"date\": \"2020-03-29\", \"region\": \"\\u00d1uble\", \"casos\": 197, \"codigo region\": 9}, {\"date\": \"2020-03-29\", \"region\": \"Biob\\u00edo\", \"casos\": 185, \"codigo region\": 10}, {\"date\": \"2020-03-29\", \"region\": \"Araucan\\u00eda\", \"casos\": 205, \"codigo region\": 11}, {\"date\": \"2020-03-29\", \"region\": \"Los R\\u00edos\", \"casos\": 40, \"codigo region\": 12}, {\"date\": \"2020-03-29\", \"region\": \"Los Lagos\", \"casos\": 104, \"codigo region\": 13}, {\"date\": \"2020-03-29\", \"region\": \"Ays\\u00e9n\", \"casos\": 2, \"codigo region\": 14}, {\"date\": \"2020-03-29\", \"region\": \"Magallanes\", \"casos\": 39, \"codigo region\": 15}, {\"date\": \"2020-03-30\", \"region\": \"Arica y Parinacota\", \"casos\": 6, \"codigo region\": 0}, {\"date\": \"2020-03-30\", \"region\": \"Tarapac\\u00e1\", \"casos\": 8, \"codigo region\": 1}, {\"date\": \"2020-03-30\", \"region\": \"Antofagasta\", \"casos\": 35, \"codigo region\": 2}, {\"date\": \"2020-03-30\", \"region\": \"Atacama\", \"casos\": 2, \"codigo region\": 3}, {\"date\": \"2020-03-30\", \"region\": \"Coquimbo\", \"casos\": 27, \"codigo region\": 4}, {\"date\": \"2020-03-30\", \"region\": \"Valpara\\u00edso\", \"casos\": 108, \"codigo region\": 5}, {\"date\": \"2020-03-30\", \"region\": \"Metropolitana\", \"casos\": 1295, \"codigo region\": 6}, {\"date\": \"2020-03-30\", \"region\": \"O\\u2019Higgins\", \"casos\": 21, \"codigo region\": 7}, {\"date\": \"2020-03-30\", \"region\": \"Maule\", \"casos\": 54, \"codigo region\": 8}, {\"date\": \"2020-03-30\", \"region\": \"\\u00d1uble\", \"casos\": 229, \"codigo region\": 9}, {\"date\": \"2020-03-30\", \"region\": \"Biob\\u00edo\", \"casos\": 201, \"codigo region\": 10}, {\"date\": \"2020-03-30\", \"region\": \"Araucan\\u00eda\", \"casos\": 247, \"codigo region\": 11}, {\"date\": \"2020-03-30\", \"region\": \"Los R\\u00edos\", \"casos\": 47, \"codigo region\": 12}, {\"date\": \"2020-03-30\", \"region\": \"Los Lagos\", \"casos\": 128, \"codigo region\": 13}, {\"date\": \"2020-03-30\", \"region\": \"Ays\\u00e9n\", \"casos\": 2, \"codigo region\": 14}, {\"date\": \"2020-03-30\", \"region\": \"Magallanes\", \"casos\": 39, \"codigo region\": 15}, {\"date\": \"2020-03-31\", \"region\": \"Arica y Parinacota\", \"casos\": 6, \"codigo region\": 0}, {\"date\": \"2020-03-31\", \"region\": \"Tarapac\\u00e1\", \"casos\": 10, \"codigo region\": 1}, {\"date\": \"2020-03-31\", \"region\": \"Antofagasta\", \"casos\": 35, \"codigo region\": 2}, {\"date\": \"2020-03-31\", \"region\": \"Atacama\", \"casos\": 2, \"codigo region\": 3}, {\"date\": \"2020-03-31\", \"region\": \"Coquimbo\", \"casos\": 28, \"codigo region\": 4}, {\"date\": \"2020-03-31\", \"region\": \"Valpara\\u00edso\", \"casos\": 115, \"codigo region\": 5}, {\"date\": \"2020-03-31\", \"region\": \"Metropolitana\", \"casos\": 1420, \"codigo region\": 6}, {\"date\": \"2020-03-31\", \"region\": \"O\\u2019Higgins\", \"casos\": 23, \"codigo region\": 7}, {\"date\": \"2020-03-31\", \"region\": \"Maule\", \"casos\": 62, \"codigo region\": 8}, {\"date\": \"2020-03-31\", \"region\": \"\\u00d1uble\", \"casos\": 245, \"codigo region\": 9}, {\"date\": \"2020-03-31\", \"region\": \"Biob\\u00edo\", \"casos\": 216, \"codigo region\": 10}, {\"date\": \"2020-03-31\", \"region\": \"Araucan\\u00eda\", \"casos\": 302, \"codigo region\": 11}, {\"date\": \"2020-03-31\", \"region\": \"Los R\\u00edos\", \"casos\": 58, \"codigo region\": 12}, {\"date\": \"2020-03-31\", \"region\": \"Los Lagos\", \"casos\": 151, \"codigo region\": 13}, {\"date\": \"2020-03-31\", \"region\": \"Ays\\u00e9n\", \"casos\": 2, \"codigo region\": 14}, {\"date\": \"2020-03-31\", \"region\": \"Magallanes\", \"casos\": 63, \"codigo region\": 15}, {\"date\": \"2020-04-01\", \"region\": \"Arica y Parinacota\", \"casos\": 6, \"codigo region\": 0}, {\"date\": \"2020-04-01\", \"region\": \"Tarapac\\u00e1\", \"casos\": 10, \"codigo region\": 1}, {\"date\": \"2020-04-01\", \"region\": \"Antofagasta\", \"casos\": 39, \"codigo region\": 2}, {\"date\": \"2020-04-01\", \"region\": \"Atacama\", \"casos\": 3, \"codigo region\": 3}, {\"date\": \"2020-04-01\", \"region\": \"Coquimbo\", \"casos\": 30, \"codigo region\": 4}, {\"date\": \"2020-04-01\", \"region\": \"Valpara\\u00edso\", \"casos\": 136, \"codigo region\": 5}, {\"date\": \"2020-04-01\", \"region\": \"Metropolitana\", \"casos\": 1521, \"codigo region\": 6}, {\"date\": \"2020-04-01\", \"region\": \"O\\u2019Higgins\", \"casos\": 26, \"codigo region\": 7}, {\"date\": \"2020-04-01\", \"region\": \"Maule\", \"casos\": 71, \"codigo region\": 8}, {\"date\": \"2020-04-01\", \"region\": \"\\u00d1uble\", \"casos\": 259, \"codigo region\": 9}, {\"date\": \"2020-04-01\", \"region\": \"Biob\\u00edo\", \"casos\": 240, \"codigo region\": 10}, {\"date\": \"2020-04-01\", \"region\": \"Araucan\\u00eda\", \"casos\": 343, \"codigo region\": 11}, {\"date\": \"2020-04-01\", \"region\": \"Los R\\u00edos\", \"casos\": 64, \"codigo region\": 12}, {\"date\": \"2020-04-01\", \"region\": \"Los Lagos\", \"casos\": 181, \"codigo region\": 13}, {\"date\": \"2020-04-01\", \"region\": \"Ays\\u00e9n\", \"casos\": 3, \"codigo region\": 14}, {\"date\": \"2020-04-01\", \"region\": \"Magallanes\", \"casos\": 99, \"codigo region\": 15}, {\"date\": \"2020-04-02\", \"region\": \"Arica y Parinacota\", \"casos\": 7, \"codigo region\": 0}, {\"date\": \"2020-04-02\", \"region\": \"Tarapac\\u00e1\", \"casos\": 12, \"codigo region\": 1}, {\"date\": \"2020-04-02\", \"region\": \"Antofagasta\", \"casos\": 47, \"codigo region\": 2}, {\"date\": \"2020-04-02\", \"region\": \"Atacama\", \"casos\": 3, \"codigo region\": 3}, {\"date\": \"2020-04-02\", \"region\": \"Coquimbo\", \"casos\": 34, \"codigo region\": 4}, {\"date\": \"2020-04-02\", \"region\": \"Valpara\\u00edso\", \"casos\": 156, \"codigo region\": 5}, {\"date\": \"2020-04-02\", \"region\": \"Metropolitana\", \"casos\": 1636, \"codigo region\": 6}, {\"date\": \"2020-04-02\", \"region\": \"O\\u2019Higgins\", \"casos\": 32, \"codigo region\": 7}, {\"date\": \"2020-04-02\", \"region\": \"Maule\", \"casos\": 82, \"codigo region\": 8}, {\"date\": \"2020-04-02\", \"region\": \"\\u00d1uble\", \"casos\": 341, \"codigo region\": 9}, {\"date\": \"2020-04-02\", \"region\": \"Biob\\u00edo\", \"casos\": 275, \"codigo region\": 10}, {\"date\": \"2020-04-02\", \"region\": \"Araucan\\u00eda\", \"casos\": 389, \"codigo region\": 11}, {\"date\": \"2020-04-02\", \"region\": \"Los R\\u00edos\", \"casos\": 68, \"codigo region\": 12}, {\"date\": \"2020-04-02\", \"region\": \"Los Lagos\", \"casos\": 203, \"codigo region\": 13}, {\"date\": \"2020-04-02\", \"region\": \"Ays\\u00e9n\", \"casos\": 5, \"codigo region\": 14}, {\"date\": \"2020-04-02\", \"region\": \"Magallanes\", \"casos\": 114, \"codigo region\": 15}, {\"date\": \"2020-04-03\", \"region\": \"Arica y Parinacota\", \"casos\": 12, \"codigo region\": 0}, {\"date\": \"2020-04-03\", \"region\": \"Tarapac\\u00e1\", \"casos\": 13, \"codigo region\": 1}, {\"date\": \"2020-04-03\", \"region\": \"Antofagasta\", \"casos\": 54, \"codigo region\": 2}, {\"date\": \"2020-04-03\", \"region\": \"Atacama\", \"casos\": 5, \"codigo region\": 3}, {\"date\": \"2020-04-03\", \"region\": \"Coquimbo\", \"casos\": 35, \"codigo region\": 4}, {\"date\": \"2020-04-03\", \"region\": \"Valpara\\u00edso\", \"casos\": 176, \"codigo region\": 5}, {\"date\": \"2020-04-03\", \"region\": \"Metropolitana\", \"casos\": 1742, \"codigo region\": 6}, {\"date\": \"2020-04-03\", \"region\": \"O\\u2019Higgins\", \"casos\": 33, \"codigo region\": 7}, {\"date\": \"2020-04-03\", \"region\": \"Maule\", \"casos\": 89, \"codigo region\": 8}, {\"date\": \"2020-04-03\", \"region\": \"\\u00d1uble\", \"casos\": 370, \"codigo region\": 9}, {\"date\": \"2020-04-03\", \"region\": \"Biob\\u00edo\", \"casos\": 302, \"codigo region\": 10}, {\"date\": \"2020-04-03\", \"region\": \"Araucan\\u00eda\", \"casos\": 432, \"codigo region\": 11}, {\"date\": \"2020-04-03\", \"region\": \"Los R\\u00edos\", \"casos\": 78, \"codigo region\": 12}, {\"date\": \"2020-04-03\", \"region\": \"Los Lagos\", \"casos\": 234, \"codigo region\": 13}, {\"date\": \"2020-04-03\", \"region\": \"Ays\\u00e9n\", \"casos\": 6, \"codigo region\": 14}, {\"date\": \"2020-04-03\", \"region\": \"Magallanes\", \"casos\": 156, \"codigo region\": 15}, {\"date\": \"2020-04-04\", \"region\": \"Arica y Parinacota\", \"casos\": 12, \"codigo region\": 0}, {\"date\": \"2020-04-04\", \"region\": \"Tarapac\\u00e1\", \"casos\": 17, \"codigo region\": 1}, {\"date\": \"2020-04-04\", \"region\": \"Antofagasta\", \"casos\": 55, \"codigo region\": 2}, {\"date\": \"2020-04-04\", \"region\": \"Atacama\", \"casos\": 5, \"codigo region\": 3}, {\"date\": \"2020-04-04\", \"region\": \"Coquimbo\", \"casos\": 44, \"codigo region\": 4}, {\"date\": \"2020-04-04\", \"region\": \"Valpara\\u00edso\", \"casos\": 185, \"codigo region\": 5}, {\"date\": \"2020-04-04\", \"region\": \"Metropolitana\", \"casos\": 1957, \"codigo region\": 6}, {\"date\": \"2020-04-04\", \"region\": \"O\\u2019Higgins\", \"casos\": 38, \"codigo region\": 7}, {\"date\": \"2020-04-04\", \"region\": \"Maule\", \"casos\": 97, \"codigo region\": 8}, {\"date\": \"2020-04-04\", \"region\": \"\\u00d1uble\", \"casos\": 401, \"codigo region\": 9}, {\"date\": \"2020-04-04\", \"region\": \"Biob\\u00edo\", \"casos\": 347, \"codigo region\": 10}, {\"date\": \"2020-04-04\", \"region\": \"Araucan\\u00eda\", \"casos\": 477, \"codigo region\": 11}, {\"date\": \"2020-04-04\", \"region\": \"Los R\\u00edos\", \"casos\": 89, \"codigo region\": 12}, {\"date\": \"2020-04-04\", \"region\": \"Los Lagos\", \"casos\": 259, \"codigo region\": 13}, {\"date\": \"2020-04-04\", \"region\": \"Ays\\u00e9n\", \"casos\": 6, \"codigo region\": 14}, {\"date\": \"2020-04-04\", \"region\": \"Magallanes\", \"casos\": 172, \"codigo region\": 15}, {\"date\": \"2020-04-05\", \"region\": \"Arica y Parinacota\", \"casos\": 28, \"codigo region\": 0}, {\"date\": \"2020-04-05\", \"region\": \"Tarapac\\u00e1\", \"casos\": 20, \"codigo region\": 1}, {\"date\": \"2020-04-05\", \"region\": \"Antofagasta\", \"casos\": 60, \"codigo region\": 2}, {\"date\": \"2020-04-05\", \"region\": \"Atacama\", \"casos\": 5, \"codigo region\": 3}, {\"date\": \"2020-04-05\", \"region\": \"Coquimbo\", \"casos\": 50, \"codigo region\": 4}, {\"date\": \"2020-04-05\", \"region\": \"Valpara\\u00edso\", \"casos\": 191, \"codigo region\": 5}, {\"date\": \"2020-04-05\", \"region\": \"Metropolitana\", \"casos\": 2102, \"codigo region\": 6}, {\"date\": \"2020-04-05\", \"region\": \"O\\u2019Higgins\", \"casos\": 41, \"codigo region\": 7}, {\"date\": \"2020-04-05\", \"region\": \"Maule\", \"casos\": 103, \"codigo region\": 8}, {\"date\": \"2020-04-05\", \"region\": \"\\u00d1uble\", \"casos\": 425, \"codigo region\": 9}, {\"date\": \"2020-04-05\", \"region\": \"Biob\\u00edo\", \"casos\": 365, \"codigo region\": 10}, {\"date\": \"2020-04-05\", \"region\": \"Araucan\\u00eda\", \"casos\": 509, \"codigo region\": 11}, {\"date\": \"2020-04-05\", \"region\": \"Los R\\u00edos\", \"casos\": 99, \"codigo region\": 12}, {\"date\": \"2020-04-05\", \"region\": \"Los Lagos\", \"casos\": 276, \"codigo region\": 13}, {\"date\": \"2020-04-05\", \"region\": \"Ays\\u00e9n\", \"casos\": 7, \"codigo region\": 14}, {\"date\": \"2020-04-05\", \"region\": \"Magallanes\", \"casos\": 190, \"codigo region\": 15}, {\"date\": \"2020-04-06\", \"region\": \"Arica y Parinacota\", \"casos\": 41, \"codigo region\": 0}, {\"date\": \"2020-04-06\", \"region\": \"Tarapac\\u00e1\", \"casos\": 21, \"codigo region\": 1}, {\"date\": \"2020-04-06\", \"region\": \"Antofagasta\", \"casos\": 68, \"codigo region\": 2}, {\"date\": \"2020-04-06\", \"region\": \"Atacama\", \"casos\": 5, \"codigo region\": 3}, {\"date\": \"2020-04-06\", \"region\": \"Coquimbo\", \"casos\": 51, \"codigo region\": 4}, {\"date\": \"2020-04-06\", \"region\": \"Valpara\\u00edso\", \"casos\": 198, \"codigo region\": 5}, {\"date\": \"2020-04-06\", \"region\": \"Metropolitana\", \"casos\": 2244, \"codigo region\": 6}, {\"date\": \"2020-04-06\", \"region\": \"O\\u2019Higgins\", \"casos\": 42, \"codigo region\": 7}, {\"date\": \"2020-04-06\", \"region\": \"Maule\", \"casos\": 108, \"codigo region\": 8}, {\"date\": \"2020-04-06\", \"region\": \"\\u00d1uble\", \"casos\": 474, \"codigo region\": 9}, {\"date\": \"2020-04-06\", \"region\": \"Biob\\u00edo\", \"casos\": 383, \"codigo region\": 10}, {\"date\": \"2020-04-06\", \"region\": \"Araucan\\u00eda\", \"casos\": 562, \"codigo region\": 11}, {\"date\": \"2020-04-06\", \"region\": \"Los R\\u00edos\", \"casos\": 104, \"codigo region\": 12}, {\"date\": \"2020-04-06\", \"region\": \"Los Lagos\", \"casos\": 286, \"codigo region\": 13}, {\"date\": \"2020-04-06\", \"region\": \"Ays\\u00e9n\", \"casos\": 7, \"codigo region\": 14}, {\"date\": \"2020-04-06\", \"region\": \"Magallanes\", \"casos\": 221, \"codigo region\": 15}, {\"date\": \"2020-04-07\", \"region\": \"Arica y Parinacota\", \"casos\": 53, \"codigo region\": 0}, {\"date\": \"2020-04-07\", \"region\": \"Tarapac\\u00e1\", \"casos\": 23, \"codigo region\": 1}, {\"date\": \"2020-04-07\", \"region\": \"Antofagasta\", \"casos\": 69, \"codigo region\": 2}, {\"date\": \"2020-04-07\", \"region\": \"Atacama\", \"casos\": 6, \"codigo region\": 3}, {\"date\": \"2020-04-07\", \"region\": \"Coquimbo\", \"casos\": 52, \"codigo region\": 4}, {\"date\": \"2020-04-07\", \"region\": \"Valpara\\u00edso\", \"casos\": 214, \"codigo region\": 5}, {\"date\": \"2020-04-07\", \"region\": \"Metropolitana\", \"casos\": 2350, \"codigo region\": 6}, {\"date\": \"2020-04-07\", \"region\": \"O\\u2019Higgins\", \"casos\": 42, \"codigo region\": 7}, {\"date\": \"2020-04-07\", \"region\": \"Maule\", \"casos\": 108, \"codigo region\": 8}, {\"date\": \"2020-04-07\", \"region\": \"\\u00d1uble\", \"casos\": 522, \"codigo region\": 9}, {\"date\": \"2020-04-07\", \"region\": \"Biob\\u00edo\", \"casos\": 410, \"codigo region\": 10}, {\"date\": \"2020-04-07\", \"region\": \"Araucan\\u00eda\", \"casos\": 612, \"codigo region\": 11}, {\"date\": \"2020-04-07\", \"region\": \"Los R\\u00edos\", \"casos\": 109, \"codigo region\": 12}, {\"date\": \"2020-04-07\", \"region\": \"Los Lagos\", \"casos\": 299, \"codigo region\": 13}, {\"date\": \"2020-04-07\", \"region\": \"Ays\\u00e9n\", \"casos\": 7, \"codigo region\": 14}, {\"date\": \"2020-04-07\", \"region\": \"Magallanes\", \"casos\": 240, \"codigo region\": 15}, {\"date\": \"2020-04-08\", \"region\": \"Arica y Parinacota\", \"casos\": 63, \"codigo region\": 0}, {\"date\": \"2020-04-08\", \"region\": \"Tarapac\\u00e1\", \"casos\": 26, \"codigo region\": 1}, {\"date\": \"2020-04-08\", \"region\": \"Antofagasta\", \"casos\": 77, \"codigo region\": 2}, {\"date\": \"2020-04-08\", \"region\": \"Atacama\", \"casos\": 8, \"codigo region\": 3}, {\"date\": \"2020-04-08\", \"region\": \"Coquimbo\", \"casos\": 56, \"codigo region\": 4}, {\"date\": \"2020-04-08\", \"region\": \"Valpara\\u00edso\", \"casos\": 225, \"codigo region\": 5}, {\"date\": \"2020-04-08\", \"region\": \"Metropolitana\", \"casos\": 2548, \"codigo region\": 6}, {\"date\": \"2020-04-08\", \"region\": \"O\\u2019Higgins\", \"casos\": 43, \"codigo region\": 7}, {\"date\": \"2020-04-08\", \"region\": \"Maule\", \"casos\": 119, \"codigo region\": 8}, {\"date\": \"2020-04-08\", \"region\": \"\\u00d1uble\", \"casos\": 561, \"codigo region\": 9}, {\"date\": \"2020-04-08\", \"region\": \"Biob\\u00edo\", \"casos\": 439, \"codigo region\": 10}, {\"date\": \"2020-04-08\", \"region\": \"Araucan\\u00eda\", \"casos\": 669, \"codigo region\": 11}, {\"date\": \"2020-04-08\", \"region\": \"Los R\\u00edos\", \"casos\": 114, \"codigo region\": 12}, {\"date\": \"2020-04-08\", \"region\": \"Los Lagos\", \"casos\": 325, \"codigo region\": 13}, {\"date\": \"2020-04-08\", \"region\": \"Ays\\u00e9n\", \"casos\": 7, \"codigo region\": 14}, {\"date\": \"2020-04-08\", \"region\": \"Magallanes\", \"casos\": 266, \"codigo region\": 15}, {\"date\": \"2020-04-09\", \"region\": \"Arica y Parinacota\", \"casos\": 75, \"codigo region\": 0}, {\"date\": \"2020-04-09\", \"region\": \"Tarapac\\u00e1\", \"casos\": 29, \"codigo region\": 1}, {\"date\": \"2020-04-09\", \"region\": \"Antofagasta\", \"casos\": 92, \"codigo region\": 2}, {\"date\": \"2020-04-09\", \"region\": \"Atacama\", \"casos\": 10, \"codigo region\": 3}, {\"date\": \"2020-04-09\", \"region\": \"Coquimbo\", \"casos\": 61, \"codigo region\": 4}, {\"date\": \"2020-04-09\", \"region\": \"Valpara\\u00edso\", \"casos\": 230, \"codigo region\": 5}, {\"date\": \"2020-04-09\", \"region\": \"Metropolitana\", \"casos\": 2832, \"codigo region\": 6}, {\"date\": \"2020-04-09\", \"region\": \"O\\u2019Higgins\", \"casos\": 44, \"codigo region\": 7}, {\"date\": \"2020-04-09\", \"region\": \"Maule\", \"casos\": 128, \"codigo region\": 8}, {\"date\": \"2020-04-09\", \"region\": \"\\u00d1uble\", \"casos\": 571, \"codigo region\": 9}, {\"date\": \"2020-04-09\", \"region\": \"Biob\\u00edo\", \"casos\": 460, \"codigo region\": 10}, {\"date\": \"2020-04-09\", \"region\": \"Araucan\\u00eda\", \"casos\": 689, \"codigo region\": 11}, {\"date\": \"2020-04-09\", \"region\": \"Los R\\u00edos\", \"casos\": 118, \"codigo region\": 12}, {\"date\": \"2020-04-09\", \"region\": \"Los Lagos\", \"casos\": 340, \"codigo region\": 13}, {\"date\": \"2020-04-09\", \"region\": \"Ays\\u00e9n\", \"casos\": 7, \"codigo region\": 14}, {\"date\": \"2020-04-09\", \"region\": \"Magallanes\", \"casos\": 286, \"codigo region\": 15}, {\"date\": \"2020-04-10\", \"region\": \"Arica y Parinacota\", \"casos\": 87, \"codigo region\": 0}, {\"date\": \"2020-04-10\", \"region\": \"Tarapac\\u00e1\", \"casos\": 35, \"codigo region\": 1}, {\"date\": \"2020-04-10\", \"region\": \"Antofagasta\", \"casos\": 110, \"codigo region\": 2}, {\"date\": \"2020-04-10\", \"region\": \"Atacama\", \"casos\": 13, \"codigo region\": 3}, {\"date\": \"2020-04-10\", \"region\": \"Coquimbo\", \"casos\": 61, \"codigo region\": 4}, {\"date\": \"2020-04-10\", \"region\": \"Valpara\\u00edso\", \"casos\": 241, \"codigo region\": 5}, {\"date\": \"2020-04-10\", \"region\": \"Metropolitana\", \"casos\": 3193, \"codigo region\": 6}, {\"date\": \"2020-04-10\", \"region\": \"O\\u2019Higgins\", \"casos\": 44, \"codigo region\": 7}, {\"date\": \"2020-04-10\", \"region\": \"Maule\", \"casos\": 131, \"codigo region\": 8}, {\"date\": \"2020-04-10\", \"region\": \"\\u00d1uble\", \"casos\": 589, \"codigo region\": 9}, {\"date\": \"2020-04-10\", \"region\": \"Biob\\u00edo\", \"casos\": 474, \"codigo region\": 10}, {\"date\": \"2020-04-10\", \"region\": \"Araucan\\u00eda\", \"casos\": 712, \"codigo region\": 11}, {\"date\": \"2020-04-10\", \"region\": \"Los R\\u00edos\", \"casos\": 124, \"codigo region\": 12}, {\"date\": \"2020-04-10\", \"region\": \"Los Lagos\", \"casos\": 349, \"codigo region\": 13}, {\"date\": \"2020-04-10\", \"region\": \"Ays\\u00e9n\", \"casos\": 7, \"codigo region\": 14}, {\"date\": \"2020-04-10\", \"region\": \"Magallanes\", \"casos\": 331, \"codigo region\": 15}, {\"date\": \"2020-04-11\", \"region\": \"Arica y Parinacota\", \"casos\": 107, \"codigo region\": 0}, {\"date\": \"2020-04-11\", \"region\": \"Tarapac\\u00e1\", \"casos\": 38, \"codigo region\": 1}, {\"date\": \"2020-04-11\", \"region\": \"Antofagasta\", \"casos\": 117, \"codigo region\": 2}, {\"date\": \"2020-04-11\", \"region\": \"Atacama\", \"casos\": 13, \"codigo region\": 3}, {\"date\": \"2020-04-11\", \"region\": \"Coquimbo\", \"casos\": 64, \"codigo region\": 4}, {\"date\": \"2020-04-11\", \"region\": \"Valpara\\u00edso\", \"casos\": 248, \"codigo region\": 5}, {\"date\": \"2020-04-11\", \"region\": \"Metropolitana\", \"casos\": 3448, \"codigo region\": 6}, {\"date\": \"2020-04-11\", \"region\": \"O\\u2019Higgins\", \"casos\": 45, \"codigo region\": 7}, {\"date\": \"2020-04-11\", \"region\": \"Maule\", \"casos\": 134, \"codigo region\": 8}, {\"date\": \"2020-04-11\", \"region\": \"\\u00d1uble\", \"casos\": 606, \"codigo region\": 9}, {\"date\": \"2020-04-11\", \"region\": \"Biob\\u00edo\", \"casos\": 490, \"codigo region\": 10}, {\"date\": \"2020-04-11\", \"region\": \"Araucan\\u00eda\", \"casos\": 739, \"codigo region\": 11}, {\"date\": \"2020-04-11\", \"region\": \"Los R\\u00edos\", \"casos\": 130, \"codigo region\": 12}, {\"date\": \"2020-04-11\", \"region\": \"Los Lagos\", \"casos\": 364, \"codigo region\": 13}, {\"date\": \"2020-04-11\", \"region\": \"Ays\\u00e9n\", \"casos\": 7, \"codigo region\": 14}, {\"date\": \"2020-04-11\", \"region\": \"Magallanes\", \"casos\": 377, \"codigo region\": 15}, {\"date\": \"2020-04-12\", \"region\": \"Arica y Parinacota\", \"casos\": 115, \"codigo region\": 0}, {\"date\": \"2020-04-12\", \"region\": \"Tarapac\\u00e1\", \"casos\": 46, \"codigo region\": 1}, {\"date\": \"2020-04-12\", \"region\": \"Antofagasta\", \"casos\": 138, \"codigo region\": 2}, {\"date\": \"2020-04-12\", \"region\": \"Atacama\", \"casos\": 13, \"codigo region\": 3}, {\"date\": \"2020-04-12\", \"region\": \"Coquimbo\", \"casos\": 66, \"codigo region\": 4}, {\"date\": \"2020-04-12\", \"region\": \"Valpara\\u00edso\", \"casos\": 254, \"codigo region\": 5}, {\"date\": \"2020-04-12\", \"region\": \"Metropolitana\", \"casos\": 3599, \"codigo region\": 6}, {\"date\": \"2020-04-12\", \"region\": \"O\\u2019Higgins\", \"casos\": 46, \"codigo region\": 7}, {\"date\": \"2020-04-12\", \"region\": \"Maule\", \"casos\": 138, \"codigo region\": 8}, {\"date\": \"2020-04-12\", \"region\": \"\\u00d1uble\", \"casos\": 613, \"codigo region\": 9}, {\"date\": \"2020-04-12\", \"region\": \"Biob\\u00edo\", \"casos\": 500, \"codigo region\": 10}, {\"date\": \"2020-04-12\", \"region\": \"Araucan\\u00eda\", \"casos\": 775, \"codigo region\": 11}, {\"date\": \"2020-04-12\", \"region\": \"Los R\\u00edos\", \"casos\": 135, \"codigo region\": 12}, {\"date\": \"2020-04-12\", \"region\": \"Los Lagos\", \"casos\": 372, \"codigo region\": 13}, {\"date\": \"2020-04-12\", \"region\": \"Ays\\u00e9n\", \"casos\": 7, \"codigo region\": 14}, {\"date\": \"2020-04-12\", \"region\": \"Magallanes\", \"casos\": 396, \"codigo region\": 15}, {\"date\": \"2020-04-13\", \"region\": \"Arica y Parinacota\", \"casos\": 115, \"codigo region\": 0}, {\"date\": \"2020-04-13\", \"region\": \"Tarapac\\u00e1\", \"casos\": 52, \"codigo region\": 1}, {\"date\": \"2020-04-13\", \"region\": \"Antofagasta\", \"casos\": 149, \"codigo region\": 2}, {\"date\": \"2020-04-13\", \"region\": \"Atacama\", \"casos\": 13, \"codigo region\": 3}, {\"date\": \"2020-04-13\", \"region\": \"Coquimbo\", \"casos\": 66, \"codigo region\": 4}, {\"date\": \"2020-04-13\", \"region\": \"Valpara\\u00edso\", \"casos\": 273, \"codigo region\": 5}, {\"date\": \"2020-04-13\", \"region\": \"Metropolitana\", \"casos\": 3803, \"codigo region\": 6}, {\"date\": \"2020-04-13\", \"region\": \"O\\u2019Higgins\", \"casos\": 48, \"codigo region\": 7}, {\"date\": \"2020-04-13\", \"region\": \"Maule\", \"casos\": 141, \"codigo region\": 8}, {\"date\": \"2020-04-13\", \"region\": \"\\u00d1uble\", \"casos\": 618, \"codigo region\": 9}, {\"date\": \"2020-04-13\", \"region\": \"Biob\\u00edo\", \"casos\": 512, \"codigo region\": 10}, {\"date\": \"2020-04-13\", \"region\": \"Araucan\\u00eda\", \"casos\": 795, \"codigo region\": 11}, {\"date\": \"2020-04-13\", \"region\": \"Los R\\u00edos\", \"casos\": 138, \"codigo region\": 12}, {\"date\": \"2020-04-13\", \"region\": \"Los Lagos\", \"casos\": 380, \"codigo region\": 13}, {\"date\": \"2020-04-13\", \"region\": \"Ays\\u00e9n\", \"casos\": 7, \"codigo region\": 14}, {\"date\": \"2020-04-13\", \"region\": \"Magallanes\", \"casos\": 415, \"codigo region\": 15}, {\"date\": \"2020-04-14\", \"region\": \"Arica y Parinacota\", \"casos\": 120, \"codigo region\": 0}, {\"date\": \"2020-04-14\", \"region\": \"Tarapac\\u00e1\", \"casos\": 62, \"codigo region\": 1}, {\"date\": \"2020-04-14\", \"region\": \"Antofagasta\", \"casos\": 155, \"codigo region\": 2}, {\"date\": \"2020-04-14\", \"region\": \"Atacama\", \"casos\": 13, \"codigo region\": 3}, {\"date\": \"2020-04-14\", \"region\": \"Coquimbo\", \"casos\": 66, \"codigo region\": 4}, {\"date\": \"2020-04-14\", \"region\": \"Valpara\\u00edso\", \"casos\": 285, \"codigo region\": 5}, {\"date\": \"2020-04-14\", \"region\": \"Metropolitana\", \"casos\": 4086, \"codigo region\": 6}, {\"date\": \"2020-04-14\", \"region\": \"O\\u2019Higgins\", \"casos\": 53, \"codigo region\": 7}, {\"date\": \"2020-04-14\", \"region\": \"Maule\", \"casos\": 142, \"codigo region\": 8}, {\"date\": \"2020-04-14\", \"region\": \"\\u00d1uble\", \"casos\": 622, \"codigo region\": 9}, {\"date\": \"2020-04-14\", \"region\": \"Biob\\u00edo\", \"casos\": 528, \"codigo region\": 10}, {\"date\": \"2020-04-14\", \"region\": \"Araucan\\u00eda\", \"casos\": 816, \"codigo region\": 11}, {\"date\": \"2020-04-14\", \"region\": \"Los R\\u00edos\", \"casos\": 148, \"codigo region\": 12}, {\"date\": \"2020-04-14\", \"region\": \"Los Lagos\", \"casos\": 385, \"codigo region\": 13}, {\"date\": \"2020-04-14\", \"region\": \"Ays\\u00e9n\", \"casos\": 7, \"codigo region\": 14}, {\"date\": \"2020-04-14\", \"region\": \"Magallanes\", \"casos\": 429, \"codigo region\": 15}, {\"date\": \"2020-04-15\", \"region\": \"Arica y Parinacota\", \"casos\": 124, \"codigo region\": 0}, {\"date\": \"2020-04-15\", \"region\": \"Tarapac\\u00e1\", \"casos\": 62, \"codigo region\": 1}, {\"date\": \"2020-04-15\", \"region\": \"Antofagasta\", \"casos\": 176, \"codigo region\": 2}, {\"date\": \"2020-04-15\", \"region\": \"Atacama\", \"casos\": 13, \"codigo region\": 3}, {\"date\": \"2020-04-15\", \"region\": \"Coquimbo\", \"casos\": 66, \"codigo region\": 4}, {\"date\": \"2020-04-15\", \"region\": \"Valpara\\u00edso\", \"casos\": 299, \"codigo region\": 5}, {\"date\": \"2020-04-15\", \"region\": \"Metropolitana\", \"casos\": 4334, \"codigo region\": 6}, {\"date\": \"2020-04-15\", \"region\": \"O\\u2019Higgins\", \"casos\": 54, \"codigo region\": 7}, {\"date\": \"2020-04-15\", \"region\": \"Maule\", \"casos\": 152, \"codigo region\": 8}, {\"date\": \"2020-04-15\", \"region\": \"\\u00d1uble\", \"casos\": 634, \"codigo region\": 9}, {\"date\": \"2020-04-15\", \"region\": \"Biob\\u00edo\", \"casos\": 542, \"codigo region\": 10}, {\"date\": \"2020-04-15\", \"region\": \"Araucan\\u00eda\", \"casos\": 826, \"codigo region\": 11}, {\"date\": \"2020-04-15\", \"region\": \"Los R\\u00edos\", \"casos\": 150, \"codigo region\": 12}, {\"date\": \"2020-04-15\", \"region\": \"Los Lagos\", \"casos\": 390, \"codigo region\": 13}, {\"date\": \"2020-04-15\", \"region\": \"Ays\\u00e9n\", \"casos\": 7, \"codigo region\": 14}, {\"date\": \"2020-04-15\", \"region\": \"Magallanes\", \"casos\": 444, \"codigo region\": 15}, {\"date\": \"2020-04-16\", \"region\": \"Arica y Parinacota\", \"casos\": 129, \"codigo region\": 0}, {\"date\": \"2020-04-16\", \"region\": \"Tarapac\\u00e1\", \"casos\": 66, \"codigo region\": 1}, {\"date\": \"2020-04-16\", \"region\": \"Antofagasta\", \"casos\": 192, \"codigo region\": 2}, {\"date\": \"2020-04-16\", \"region\": \"Atacama\", \"casos\": 13, \"codigo region\": 3}, {\"date\": \"2020-04-16\", \"region\": \"Coquimbo\", \"casos\": 68, \"codigo region\": 4}, {\"date\": \"2020-04-16\", \"region\": \"Valpara\\u00edso\", \"casos\": 330, \"codigo region\": 5}, {\"date\": \"2020-04-16\", \"region\": \"Metropolitana\", \"casos\": 4682, \"codigo region\": 6}, {\"date\": \"2020-04-16\", \"region\": \"O\\u2019Higgins\", \"casos\": 54, \"codigo region\": 7}, {\"date\": \"2020-04-16\", \"region\": \"Maule\", \"casos\": 167, \"codigo region\": 8}, {\"date\": \"2020-04-16\", \"region\": \"\\u00d1uble\", \"casos\": 639, \"codigo region\": 9}, {\"date\": \"2020-04-16\", \"region\": \"Biob\\u00edo\", \"casos\": 559, \"codigo region\": 10}, {\"date\": \"2020-04-16\", \"region\": \"Araucan\\u00eda\", \"casos\": 882, \"codigo region\": 11}, {\"date\": \"2020-04-16\", \"region\": \"Los R\\u00edos\", \"casos\": 153, \"codigo region\": 12}, {\"date\": \"2020-04-16\", \"region\": \"Los Lagos\", \"casos\": 399, \"codigo region\": 13}, {\"date\": \"2020-04-16\", \"region\": \"Ays\\u00e9n\", \"casos\": 7, \"codigo region\": 14}, {\"date\": \"2020-04-16\", \"region\": \"Magallanes\", \"casos\": 467, \"codigo region\": 15}, {\"date\": \"2020-04-17\", \"region\": \"Arica y Parinacota\", \"casos\": 134, \"codigo region\": 0}, {\"date\": \"2020-04-17\", \"region\": \"Tarapac\\u00e1\", \"casos\": 73, \"codigo region\": 1}, {\"date\": \"2020-04-17\", \"region\": \"Antofagasta\", \"casos\": 211, \"codigo region\": 2}, {\"date\": \"2020-04-17\", \"region\": \"Atacama\", \"casos\": 13, \"codigo region\": 3}, {\"date\": \"2020-04-17\", \"region\": \"Coquimbo\", \"casos\": 68, \"codigo region\": 4}, {\"date\": \"2020-04-17\", \"region\": \"Valpara\\u00edso\", \"casos\": 345, \"codigo region\": 5}, {\"date\": \"2020-04-17\", \"region\": \"Metropolitana\", \"casos\": 4915, \"codigo region\": 6}, {\"date\": \"2020-04-17\", \"region\": \"O\\u2019Higgins\", \"casos\": 55, \"codigo region\": 7}, {\"date\": \"2020-04-17\", \"region\": \"Maule\", \"casos\": 223, \"codigo region\": 8}, {\"date\": \"2020-04-17\", \"region\": \"\\u00d1uble\", \"casos\": 656, \"codigo region\": 9}, {\"date\": \"2020-04-17\", \"region\": \"Biob\\u00edo\", \"casos\": 578, \"codigo region\": 10}, {\"date\": \"2020-04-17\", \"region\": \"Araucan\\u00eda\", \"casos\": 907, \"codigo region\": 11}, {\"date\": \"2020-04-17\", \"region\": \"Los R\\u00edos\", \"casos\": 154, \"codigo region\": 12}, {\"date\": \"2020-04-17\", \"region\": \"Los Lagos\", \"casos\": 412, \"codigo region\": 13}, {\"date\": \"2020-04-17\", \"region\": \"Ays\\u00e9n\", \"casos\": 7, \"codigo region\": 14}, {\"date\": \"2020-04-17\", \"region\": \"Magallanes\", \"casos\": 501, \"codigo region\": 15}, {\"date\": \"2020-04-18\", \"region\": \"Arica y Parinacota\", \"casos\": 142, \"codigo region\": 0}, {\"date\": \"2020-04-18\", \"region\": \"Tarapac\\u00e1\", \"casos\": 81, \"codigo region\": 1}, {\"date\": \"2020-04-18\", \"region\": \"Antofagasta\", \"casos\": 226, \"codigo region\": 2}, {\"date\": \"2020-04-18\", \"region\": \"Atacama\", \"casos\": 13, \"codigo region\": 3}, {\"date\": \"2020-04-18\", \"region\": \"Coquimbo\", \"casos\": 68, \"codigo region\": 4}, {\"date\": \"2020-04-18\", \"region\": \"Valpara\\u00edso\", \"casos\": 359, \"codigo region\": 5}, {\"date\": \"2020-04-18\", \"region\": \"Metropolitana\", \"casos\": 5192, \"codigo region\": 6}, {\"date\": \"2020-04-18\", \"region\": \"O\\u2019Higgins\", \"casos\": 55, \"codigo region\": 7}, {\"date\": \"2020-04-18\", \"region\": \"Maule\", \"casos\": 276, \"codigo region\": 8}, {\"date\": \"2020-04-18\", \"region\": \"\\u00d1uble\", \"casos\": 667, \"codigo region\": 9}, {\"date\": \"2020-04-18\", \"region\": \"Biob\\u00edo\", \"casos\": 606, \"codigo region\": 10}, {\"date\": \"2020-04-18\", \"region\": \"Araucan\\u00eda\", \"casos\": 944, \"codigo region\": 11}, {\"date\": \"2020-04-18\", \"region\": \"Los R\\u00edos\", \"casos\": 156, \"codigo region\": 12}, {\"date\": \"2020-04-18\", \"region\": \"Los Lagos\", \"casos\": 416, \"codigo region\": 13}, {\"date\": \"2020-04-18\", \"region\": \"Ays\\u00e9n\", \"casos\": 7, \"codigo region\": 14}, {\"date\": \"2020-04-18\", \"region\": \"Magallanes\", \"casos\": 522, \"codigo region\": 15}, {\"date\": \"2020-04-19\", \"region\": \"Arica y Parinacota\", \"casos\": 145, \"codigo region\": 0}, {\"date\": \"2020-04-19\", \"region\": \"Tarapac\\u00e1\", \"casos\": 90, \"codigo region\": 1}, {\"date\": \"2020-04-19\", \"region\": \"Antofagasta\", \"casos\": 249, \"codigo region\": 2}, {\"date\": \"2020-04-19\", \"region\": \"Atacama\", \"casos\": 13, \"codigo region\": 3}, {\"date\": \"2020-04-19\", \"region\": \"Coquimbo\", \"casos\": 68, \"codigo region\": 4}, {\"date\": \"2020-04-19\", \"region\": \"Valpara\\u00edso\", \"casos\": 381, \"codigo region\": 5}, {\"date\": \"2020-04-19\", \"region\": \"Metropolitana\", \"casos\": 5381, \"codigo region\": 6}, {\"date\": \"2020-04-19\", \"region\": \"O\\u2019Higgins\", \"casos\": 55, \"codigo region\": 7}, {\"date\": \"2020-04-19\", \"region\": \"Maule\", \"casos\": 302, \"codigo region\": 8}, {\"date\": \"2020-04-19\", \"region\": \"\\u00d1uble\", \"casos\": 678, \"codigo region\": 9}, {\"date\": \"2020-04-19\", \"region\": \"Biob\\u00edo\", \"casos\": 616, \"codigo region\": 10}, {\"date\": \"2020-04-19\", \"region\": \"Araucan\\u00eda\", \"casos\": 972, \"codigo region\": 11}, {\"date\": \"2020-04-19\", \"region\": \"Los R\\u00edos\", \"casos\": 157, \"codigo region\": 12}, {\"date\": \"2020-04-19\", \"region\": \"Los Lagos\", \"casos\": 421, \"codigo region\": 13}, {\"date\": \"2020-04-19\", \"region\": \"Ays\\u00e9n\", \"casos\": 7, \"codigo region\": 14}, {\"date\": \"2020-04-19\", \"region\": \"Magallanes\", \"casos\": 553, \"codigo region\": 15}, {\"date\": \"2020-04-20\", \"region\": \"Arica y Parinacota\", \"casos\": 161, \"codigo region\": 0}, {\"date\": \"2020-04-20\", \"region\": \"Tarapac\\u00e1\", \"casos\": 93, \"codigo region\": 1}, {\"date\": \"2020-04-20\", \"region\": \"Antofagasta\", \"casos\": 263, \"codigo region\": 2}, {\"date\": \"2020-04-20\", \"region\": \"Atacama\", \"casos\": 13, \"codigo region\": 3}, {\"date\": \"2020-04-20\", \"region\": \"Coquimbo\", \"casos\": 69, \"codigo region\": 4}, {\"date\": \"2020-04-20\", \"region\": \"Valpara\\u00edso\", \"casos\": 388, \"codigo region\": 5}, {\"date\": \"2020-04-20\", \"region\": \"Metropolitana\", \"casos\": 5643, \"codigo region\": 6}, {\"date\": \"2020-04-20\", \"region\": \"O\\u2019Higgins\", \"casos\": 56, \"codigo region\": 7}, {\"date\": \"2020-04-20\", \"region\": \"Maule\", \"casos\": 304, \"codigo region\": 8}, {\"date\": \"2020-04-20\", \"region\": \"\\u00d1uble\", \"casos\": 687, \"codigo region\": 9}, {\"date\": \"2020-04-20\", \"region\": \"Biob\\u00edo\", \"casos\": 626, \"codigo region\": 10}, {\"date\": \"2020-04-20\", \"region\": \"Araucan\\u00eda\", \"casos\": 1045, \"codigo region\": 11}, {\"date\": \"2020-04-20\", \"region\": \"Los R\\u00edos\", \"casos\": 162, \"codigo region\": 12}, {\"date\": \"2020-04-20\", \"region\": \"Los Lagos\", \"casos\": 424, \"codigo region\": 13}, {\"date\": \"2020-04-20\", \"region\": \"Ays\\u00e9n\", \"casos\": 7, \"codigo region\": 14}, {\"date\": \"2020-04-20\", \"region\": \"Magallanes\", \"casos\": 566, \"codigo region\": 15}, {\"date\": \"2020-04-21\", \"region\": \"Arica y Parinacota\", \"casos\": 170, \"codigo region\": 0}, {\"date\": \"2020-04-21\", \"region\": \"Tarapac\\u00e1\", \"casos\": 104, \"codigo region\": 1}, {\"date\": \"2020-04-21\", \"region\": \"Antofagasta\", \"casos\": 291, \"codigo region\": 2}, {\"date\": \"2020-04-21\", \"region\": \"Atacama\", \"casos\": 13, \"codigo region\": 3}, {\"date\": \"2020-04-21\", \"region\": \"Coquimbo\", \"casos\": 69, \"codigo region\": 4}, {\"date\": \"2020-04-21\", \"region\": \"Valpara\\u00edso\", \"casos\": 403, \"codigo region\": 5}, {\"date\": \"2020-04-21\", \"region\": \"Metropolitana\", \"casos\": 5788, \"codigo region\": 6}, {\"date\": \"2020-04-21\", \"region\": \"O\\u2019Higgins\", \"casos\": 57, \"codigo region\": 7}, {\"date\": \"2020-04-21\", \"region\": \"Maule\", \"casos\": 316, \"codigo region\": 8}, {\"date\": \"2020-04-21\", \"region\": \"\\u00d1uble\", \"casos\": 694, \"codigo region\": 9}, {\"date\": \"2020-04-21\", \"region\": \"Biob\\u00edo\", \"casos\": 636, \"codigo region\": 10}, {\"date\": \"2020-04-21\", \"region\": \"Araucan\\u00eda\", \"casos\": 1092, \"codigo region\": 11}, {\"date\": \"2020-04-21\", \"region\": \"Los R\\u00edos\", \"casos\": 167, \"codigo region\": 12}, {\"date\": \"2020-04-21\", \"region\": \"Los Lagos\", \"casos\": 432, \"codigo region\": 13}, {\"date\": \"2020-04-21\", \"region\": \"Ays\\u00e9n\", \"casos\": 7, \"codigo region\": 14}, {\"date\": \"2020-04-21\", \"region\": \"Magallanes\", \"casos\": 593, \"codigo region\": 15}, {\"date\": \"2020-04-22\", \"region\": \"Arica y Parinacota\", \"casos\": 180, \"codigo region\": 0}, {\"date\": \"2020-04-22\", \"region\": \"Tarapac\\u00e1\", \"casos\": 114, \"codigo region\": 1}, {\"date\": \"2020-04-22\", \"region\": \"Antofagasta\", \"casos\": 326, \"codigo region\": 2}, {\"date\": \"2020-04-22\", \"region\": \"Atacama\", \"casos\": 13, \"codigo region\": 3}, {\"date\": \"2020-04-22\", \"region\": \"Coquimbo\", \"casos\": 70, \"codigo region\": 4}, {\"date\": \"2020-04-22\", \"region\": \"Valpara\\u00edso\", \"casos\": 421, \"codigo region\": 5}, {\"date\": \"2020-04-22\", \"region\": \"Metropolitana\", \"casos\": 6083, \"codigo region\": 6}, {\"date\": \"2020-04-22\", \"region\": \"O\\u2019Higgins\", \"casos\": 59, \"codigo region\": 7}, {\"date\": \"2020-04-22\", \"region\": \"Maule\", \"casos\": 328, \"codigo region\": 8}, {\"date\": \"2020-04-22\", \"region\": \"\\u00d1uble\", \"casos\": 703, \"codigo region\": 9}, {\"date\": \"2020-04-22\", \"region\": \"Biob\\u00edo\", \"casos\": 658, \"codigo region\": 10}, {\"date\": \"2020-04-22\", \"region\": \"Araucan\\u00eda\", \"casos\": 1113, \"codigo region\": 11}, {\"date\": \"2020-04-22\", \"region\": \"Los R\\u00edos\", \"casos\": 171, \"codigo region\": 12}, {\"date\": \"2020-04-22\", \"region\": \"Los Lagos\", \"casos\": 445, \"codigo region\": 13}, {\"date\": \"2020-04-22\", \"region\": \"Ays\\u00e9n\", \"casos\": 7, \"codigo region\": 14}, {\"date\": \"2020-04-22\", \"region\": \"Magallanes\", \"casos\": 605, \"codigo region\": 15}, {\"date\": \"2020-04-23\", \"region\": \"Arica y Parinacota\", \"casos\": 210, \"codigo region\": 0}, {\"date\": \"2020-04-23\", \"region\": \"Tarapac\\u00e1\", \"casos\": 128, \"codigo region\": 1}, {\"date\": \"2020-04-23\", \"region\": \"Antofagasta\", \"casos\": 340, \"codigo region\": 2}, {\"date\": \"2020-04-23\", \"region\": \"Atacama\", \"casos\": 18, \"codigo region\": 3}, {\"date\": \"2020-04-23\", \"region\": \"Coquimbo\", \"casos\": 70, \"codigo region\": 4}, {\"date\": \"2020-04-23\", \"region\": \"Valpara\\u00edso\", \"casos\": 429, \"codigo region\": 5}, {\"date\": \"2020-04-23\", \"region\": \"Metropolitana\", \"casos\": 6434, \"codigo region\": 6}, {\"date\": \"2020-04-23\", \"region\": \"O\\u2019Higgins\", \"casos\": 76, \"codigo region\": 7}, {\"date\": \"2020-04-23\", \"region\": \"Maule\", \"casos\": 333, \"codigo region\": 8}, {\"date\": \"2020-04-23\", \"region\": \"\\u00d1uble\", \"casos\": 708, \"codigo region\": 9}, {\"date\": \"2020-04-23\", \"region\": \"Biob\\u00edo\", \"casos\": 675, \"codigo region\": 10}, {\"date\": \"2020-04-23\", \"region\": \"Araucan\\u00eda\", \"casos\": 1142, \"codigo region\": 11}, {\"date\": \"2020-04-23\", \"region\": \"Los R\\u00edos\", \"casos\": 173, \"codigo region\": 12}, {\"date\": \"2020-04-23\", \"region\": \"Los Lagos\", \"casos\": 454, \"codigo region\": 13}, {\"date\": \"2020-04-23\", \"region\": \"Ays\\u00e9n\", \"casos\": 7, \"codigo region\": 14}, {\"date\": \"2020-04-23\", \"region\": \"Magallanes\", \"casos\": 615, \"codigo region\": 15}, {\"date\": \"2020-04-24\", \"region\": \"Arica y Parinacota\", \"casos\": 239, \"codigo region\": 0}, {\"date\": \"2020-04-24\", \"region\": \"Tarapac\\u00e1\", \"casos\": 134, \"codigo region\": 1}, {\"date\": \"2020-04-24\", \"region\": \"Antofagasta\", \"casos\": 366, \"codigo region\": 2}, {\"date\": \"2020-04-24\", \"region\": \"Atacama\", \"casos\": 21, \"codigo region\": 3}, {\"date\": \"2020-04-24\", \"region\": \"Coquimbo\", \"casos\": 72, \"codigo region\": 4}, {\"date\": \"2020-04-24\", \"region\": \"Valpara\\u00edso\", \"casos\": 436, \"codigo region\": 5}, {\"date\": \"2020-04-24\", \"region\": \"Metropolitana\", \"casos\": 6761, \"codigo region\": 6}, {\"date\": \"2020-04-24\", \"region\": \"O\\u2019Higgins\", \"casos\": 81, \"codigo region\": 7}, {\"date\": \"2020-04-24\", \"region\": \"Maule\", \"casos\": 349, \"codigo region\": 8}, {\"date\": \"2020-04-24\", \"region\": \"\\u00d1uble\", \"casos\": 715, \"codigo region\": 9}, {\"date\": \"2020-04-24\", \"region\": \"Biob\\u00edo\", \"casos\": 683, \"codigo region\": 10}, {\"date\": \"2020-04-24\", \"region\": \"Araucan\\u00eda\", \"casos\": 1184, \"codigo region\": 11}, {\"date\": \"2020-04-24\", \"region\": \"Los R\\u00edos\", \"casos\": 174, \"codigo region\": 12}, {\"date\": \"2020-04-24\", \"region\": \"Los Lagos\", \"casos\": 460, \"codigo region\": 13}, {\"date\": \"2020-04-24\", \"region\": \"Ays\\u00e9n\", \"casos\": 7, \"codigo region\": 14}, {\"date\": \"2020-04-24\", \"region\": \"Magallanes\", \"casos\": 624, \"codigo region\": 15}, {\"date\": \"2020-04-25\", \"region\": \"Arica y Parinacota\", \"casos\": 245, \"codigo region\": 0}, {\"date\": \"2020-04-25\", \"region\": \"Tarapac\\u00e1\", \"casos\": 143, \"codigo region\": 1}, {\"date\": \"2020-04-25\", \"region\": \"Antofagasta\", \"casos\": 391, \"codigo region\": 2}, {\"date\": \"2020-04-25\", \"region\": \"Atacama\", \"casos\": 24, \"codigo region\": 3}, {\"date\": \"2020-04-25\", \"region\": \"Coquimbo\", \"casos\": 73, \"codigo region\": 4}, {\"date\": \"2020-04-25\", \"region\": \"Valpara\\u00edso\", \"casos\": 454, \"codigo region\": 5}, {\"date\": \"2020-04-25\", \"region\": \"Metropolitana\", \"casos\": 7165, \"codigo region\": 6}, {\"date\": \"2020-04-25\", \"region\": \"O\\u2019Higgins\", \"casos\": 85, \"codigo region\": 7}, {\"date\": \"2020-04-25\", \"region\": \"Maule\", \"casos\": 350, \"codigo region\": 8}, {\"date\": \"2020-04-25\", \"region\": \"\\u00d1uble\", \"casos\": 725, \"codigo region\": 9}, {\"date\": \"2020-04-25\", \"region\": \"Biob\\u00edo\", \"casos\": 696, \"codigo region\": 10}, {\"date\": \"2020-04-25\", \"region\": \"Araucan\\u00eda\", \"casos\": 1203, \"codigo region\": 11}, {\"date\": \"2020-04-25\", \"region\": \"Los R\\u00edos\", \"casos\": 177, \"codigo region\": 12}, {\"date\": \"2020-04-25\", \"region\": \"Los Lagos\", \"casos\": 465, \"codigo region\": 13}, {\"date\": \"2020-04-25\", \"region\": \"Ays\\u00e9n\", \"casos\": 7, \"codigo region\": 14}, {\"date\": \"2020-04-25\", \"region\": \"Magallanes\", \"casos\": 655, \"codigo region\": 15}, {\"date\": \"2020-04-26\", \"region\": \"Arica y Parinacota\", \"casos\": 252, \"codigo region\": 0}, {\"date\": \"2020-04-26\", \"region\": \"Tarapac\\u00e1\", \"casos\": 156, \"codigo region\": 1}, {\"date\": \"2020-04-26\", \"region\": \"Antofagasta\", \"casos\": 443, \"codigo region\": 2}, {\"date\": \"2020-04-26\", \"region\": \"Atacama\", \"casos\": 29, \"codigo region\": 3}, {\"date\": \"2020-04-26\", \"region\": \"Coquimbo\", \"casos\": 73, \"codigo region\": 4}, {\"date\": \"2020-04-26\", \"region\": \"Valpara\\u00edso\", \"casos\": 460, \"codigo region\": 5}, {\"date\": \"2020-04-26\", \"region\": \"Metropolitana\", \"casos\": 7496, \"codigo region\": 6}, {\"date\": \"2020-04-26\", \"region\": \"O\\u2019Higgins\", \"casos\": 92, \"codigo region\": 7}, {\"date\": \"2020-04-26\", \"region\": \"Maule\", \"casos\": 354, \"codigo region\": 8}, {\"date\": \"2020-04-26\", \"region\": \"\\u00d1uble\", \"casos\": 731, \"codigo region\": 9}, {\"date\": \"2020-04-26\", \"region\": \"Biob\\u00edo\", \"casos\": 703, \"codigo region\": 10}, {\"date\": \"2020-04-26\", \"region\": \"Araucan\\u00eda\", \"casos\": 1216, \"codigo region\": 11}, {\"date\": \"2020-04-26\", \"region\": \"Los R\\u00edos\", \"casos\": 178, \"codigo region\": 12}, {\"date\": \"2020-04-26\", \"region\": \"Los Lagos\", \"casos\": 473, \"codigo region\": 13}, {\"date\": \"2020-04-26\", \"region\": \"Ays\\u00e9n\", \"casos\": 7, \"codigo region\": 14}, {\"date\": \"2020-04-26\", \"region\": \"Magallanes\", \"casos\": 668, \"codigo region\": 15}, {\"date\": \"2020-04-27\", \"region\": \"Arica y Parinacota\", \"casos\": 265, \"codigo region\": 0}, {\"date\": \"2020-04-27\", \"region\": \"Tarapac\\u00e1\", \"casos\": 164, \"codigo region\": 1}, {\"date\": \"2020-04-27\", \"region\": \"Antofagasta\", \"casos\": 457, \"codigo region\": 2}, {\"date\": \"2020-04-27\", \"region\": \"Atacama\", \"casos\": 35, \"codigo region\": 3}, {\"date\": \"2020-04-27\", \"region\": \"Coquimbo\", \"casos\": 74, \"codigo region\": 4}, {\"date\": \"2020-04-27\", \"region\": \"Valpara\\u00edso\", \"casos\": 485, \"codigo region\": 5}, {\"date\": \"2020-04-27\", \"region\": \"Metropolitana\", \"casos\": 7858, \"codigo region\": 6}, {\"date\": \"2020-04-27\", \"region\": \"O\\u2019Higgins\", \"casos\": 94, \"codigo region\": 7}, {\"date\": \"2020-04-27\", \"region\": \"Maule\", \"casos\": 363, \"codigo region\": 8}, {\"date\": \"2020-04-27\", \"region\": \"\\u00d1uble\", \"casos\": 741, \"codigo region\": 9}, {\"date\": \"2020-04-27\", \"region\": \"Biob\\u00edo\", \"casos\": 706, \"codigo region\": 10}, {\"date\": \"2020-04-27\", \"region\": \"Araucan\\u00eda\", \"casos\": 1236, \"codigo region\": 11}, {\"date\": \"2020-04-27\", \"region\": \"Los R\\u00edos\", \"casos\": 180, \"codigo region\": 12}, {\"date\": \"2020-04-27\", \"region\": \"Los Lagos\", \"casos\": 477, \"codigo region\": 13}, {\"date\": \"2020-04-27\", \"region\": \"Ays\\u00e9n\", \"casos\": 7, \"codigo region\": 14}, {\"date\": \"2020-04-27\", \"region\": \"Magallanes\", \"casos\": 671, \"codigo region\": 15}]}}, {\"mode\": \"vega-lite\"});\n",
       "</script>"
      ],
      "text/plain": [
       "alt.HConcatChart(...)"
      ]
     },
     "execution_count": 40,
     "metadata": {},
     "output_type": "execute_result"
    }
   ],
   "source": [
    "#hide_input\n",
    "input_dropdown = alt.binding_select(options=data['region'].unique())\n",
    "selection1 = alt.selection_single(fields=['region'], bind=input_dropdown, name=' ')\n",
    "selection2 = alt.selection_multi(fields=['region'], on='mouseover')\n",
    "color = alt.condition(selection1 | selection2,\n",
    "                    alt.Color('region:N', scale=alt.Scale(scheme='tableau20'), legend=None),\n",
    "                    alt.value('lightgray'))\n",
    "\n",
    "chart = alt.Chart(data).mark_bar().encode(\n",
    "    x=alt.X('date:O', axis=alt.Axis(title='Fecha (año-mes-día)')),\n",
    "    y=alt.Y('casos', axis=alt.Axis(title='Casos confirmados')),\n",
    "    color=color,\n",
    "    tooltip=['date', 'region', 'casos'],\n",
    "    order=alt.Order(\n",
    "    # Sort the segments of the bars by this field\n",
    "    'codigo region',\n",
    "    sort='descending'\n",
    "    )\n",
    ").properties(\n",
    "    title='COVID-19 en Chile: Total de casos confirmados por región'\n",
    ").add_selection(\n",
    "    selection1, selection2\n",
    ").transform_filter(\n",
    "    selection1\n",
    ")\n",
    "\n",
    "legend = alt.Chart(data).mark_point().encode(\n",
    "    y=alt.Y('region:N', axis=alt.Axis(orient='right'), sort=regiones),\n",
    "    color=color\n",
    ").add_selection(\n",
    "    selection1, selection2\n",
    ")\n",
    "\n",
    "chart.properties(width=600, height=400) | legend"
   ]
  },
  {
   "cell_type": "markdown",
   "metadata": {},
   "source": [
    "Fuente: [Ministerio de Ciencia](https://github.com/MinCiencia/Datos-COVID19)"
   ]
  },
  {
   "cell_type": "markdown",
   "metadata": {},
   "source": [
    "Inspirado del [tweet](https://twitter.com/NachoToledoR/status/1244631395781218306) de [@NachoToledoR](https://twitter.com/NachoToledoR)."
   ]
  },
  {
   "cell_type": "markdown",
   "metadata": {},
   "source": [
    "# Evolución de fallecidos confirmados por región"
   ]
  },
  {
   "cell_type": "code",
   "execution_count": 41,
   "metadata": {},
   "outputs": [],
   "source": [
    "#hide\n",
    "data = pd.DataFrame()\n",
    "data_raw = pd.read_csv(\n",
    "    \"https://raw.githubusercontent.com/MinCiencia/Datos-COVID19/master/output/producto4/2020-03-24-CasosConfirmados-totalRegional.csv\",\n",
    "    index_col='Region')\n",
    "data['2020-03-24'] = data_raw['Fallecidos']"
   ]
  },
  {
   "cell_type": "code",
   "execution_count": 42,
   "metadata": {},
   "outputs": [],
   "source": [
    "#hide\n",
    "first_death_date = '2020-03-24'\n",
    "total_days = (pd.to_datetime(today)-pd.to_datetime(first_death_date)).days"
   ]
  },
  {
   "cell_type": "code",
   "execution_count": 43,
   "metadata": {},
   "outputs": [],
   "source": [
    "#hide\n",
    "for i in np.arange(total_days+1):\n",
    "  date = (pd.to_datetime(first_death_date)+pd.DateOffset(i)).strftime('%Y-%m-%d')\n",
    "  s = \"https://raw.githubusercontent.com/MinCiencia/Datos-COVID19/master/output/producto4/\" + date + \"-CasosConfirmados-totalRegional.csv\"\n",
    "  data_by_date = pd.read_csv(s)\n",
    "  if 'Fallecidos' in data_by_date.columns:\n",
    "    data[date] = data_by_date[\"Fallecidos\"].values\n",
    "  elif 'Casos fallecidos' in data_by_date.columns:\n",
    "    data[date] = data_by_date[\"Casos fallecidos\"].values\n",
    "  else:\n",
    "    data[date] = data_by_date[\" Casos fallecidos\"].values"
   ]
  },
  {
   "cell_type": "code",
   "execution_count": 44,
   "metadata": {},
   "outputs": [],
   "source": [
    "#hide\n",
    "data = data.drop(\"Total\")"
   ]
  },
  {
   "cell_type": "code",
   "execution_count": 45,
   "metadata": {},
   "outputs": [],
   "source": [
    "#hide\n",
    "new_data = pd.DataFrame()\n",
    "i = 0\n",
    "for date in data.keys():\n",
    "    for n, region in enumerate(data.index):\n",
    "        new_data[i] = date, region, data[date].loc[region], n\n",
    "        i += 1"
   ]
  },
  {
   "cell_type": "code",
   "execution_count": 46,
   "metadata": {},
   "outputs": [],
   "source": [
    "#hide\n",
    "data = data.reset_index()\n",
    "regiones = data['Region'].values\n",
    "new_data = new_data.T\n",
    "new_data = new_data.rename(columns={0: \"date\", 1: \"region\", 2: \"fallecidos\", 3: \"codigo region\"})"
   ]
  },
  {
   "cell_type": "code",
   "execution_count": 47,
   "metadata": {},
   "outputs": [],
   "source": [
    "#hide\n",
    "new_data[\"fallecidos\"] = new_data[\"fallecidos\"].astype(int)"
   ]
  },
  {
   "cell_type": "code",
   "execution_count": 48,
   "metadata": {},
   "outputs": [
    {
     "data": {
      "text/html": [
       "\n",
       "<div id=\"altair-viz-4449d0d75cad4f608a4cc5cd84918373\"></div>\n",
       "<script type=\"text/javascript\">\n",
       "  (function(spec, embedOpt){\n",
       "    let outputDiv = document.currentScript.previousElementSibling;\n",
       "    if (outputDiv.id !== \"altair-viz-4449d0d75cad4f608a4cc5cd84918373\") {\n",
       "      outputDiv = document.getElementById(\"altair-viz-4449d0d75cad4f608a4cc5cd84918373\");\n",
       "    }\n",
       "    const paths = {\n",
       "      \"vega\": \"https://cdn.jsdelivr.net/npm//vega@5?noext\",\n",
       "      \"vega-lib\": \"https://cdn.jsdelivr.net/npm//vega-lib?noext\",\n",
       "      \"vega-lite\": \"https://cdn.jsdelivr.net/npm//vega-lite@4.8.1?noext\",\n",
       "      \"vega-embed\": \"https://cdn.jsdelivr.net/npm//vega-embed@6?noext\",\n",
       "    };\n",
       "\n",
       "    function loadScript(lib) {\n",
       "      return new Promise(function(resolve, reject) {\n",
       "        var s = document.createElement('script');\n",
       "        s.src = paths[lib];\n",
       "        s.async = true;\n",
       "        s.onload = () => resolve(paths[lib]);\n",
       "        s.onerror = () => reject(`Error loading script: ${paths[lib]}`);\n",
       "        document.getElementsByTagName(\"head\")[0].appendChild(s);\n",
       "      });\n",
       "    }\n",
       "\n",
       "    function showError(err) {\n",
       "      outputDiv.innerHTML = `<div class=\"error\" style=\"color:red;\">${err}</div>`;\n",
       "      throw err;\n",
       "    }\n",
       "\n",
       "    function displayChart(vegaEmbed) {\n",
       "      vegaEmbed(outputDiv, spec, embedOpt)\n",
       "        .catch(err => showError(`Javascript Error: ${err.message}<br>This usually means there's a typo in your chart specification. See the javascript console for the full traceback.`));\n",
       "    }\n",
       "\n",
       "    if(typeof define === \"function\" && define.amd) {\n",
       "      requirejs.config({paths});\n",
       "      require([\"vega-embed\"], displayChart, err => showError(`Error loading script: ${err.message}`));\n",
       "    } else if (typeof vegaEmbed === \"function\") {\n",
       "      displayChart(vegaEmbed);\n",
       "    } else {\n",
       "      loadScript(\"vega\")\n",
       "        .then(() => loadScript(\"vega-lite\"))\n",
       "        .then(() => loadScript(\"vega-embed\"))\n",
       "        .catch(showError)\n",
       "        .then(() => displayChart(vegaEmbed));\n",
       "    }\n",
       "  })({\"config\": {\"view\": {\"continuousWidth\": 400, \"continuousHeight\": 300}}, \"hconcat\": [{\"mark\": \"bar\", \"encoding\": {\"color\": {\"condition\": {\"type\": \"nominal\", \"field\": \"region\", \"legend\": null, \"scale\": {\"scheme\": \"tableau20\"}, \"selection\": {\"or\": [\" \", \"selector002\"]}}, \"value\": \"lightgray\"}, \"order\": {\"type\": \"quantitative\", \"field\": \"codigo region\", \"sort\": \"descending\"}, \"tooltip\": [{\"type\": \"nominal\", \"field\": \"date\"}, {\"type\": \"nominal\", \"field\": \"region\"}, {\"type\": \"quantitative\", \"field\": \"fallecidos\"}], \"x\": {\"type\": \"ordinal\", \"axis\": {\"title\": \"Fecha (a\\u00f1o-mes-d\\u00eda)\"}, \"field\": \"date\"}, \"y\": {\"type\": \"quantitative\", \"axis\": {\"title\": \"Fallecidos confirmados\"}, \"field\": \"fallecidos\"}}, \"height\": 400, \"selection\": {\" \": {\"type\": \"single\", \"fields\": [\"region\"], \"bind\": {\"input\": \"select\", \"options\": [\"Arica y Parinacota\", \"Tarapac\\u00e1\", \"Antofagasta\", \"Atacama\", \"Coquimbo\", \"Valpara\\u00edso\", \"Metropolitana\", \"O\\u2019Higgins\", \"Maule\", \"\\u00d1uble\", \"Biob\\u00edo\", \"Araucan\\u00eda\", \"Los R\\u00edos\", \"Los Lagos\", \"Ays\\u00e9n\", \"Magallanes\"]}}, \"selector002\": {\"type\": \"multi\", \"fields\": [\"region\"], \"on\": \"mouseover\"}}, \"title\": \"COVID-19 en Chile: Total de fallecidos confirmados por regi\\u00f3n\", \"transform\": [{\"filter\": {\"selection\": \" \"}}], \"width\": 600}, {\"mark\": \"point\", \"encoding\": {\"color\": {\"condition\": {\"type\": \"nominal\", \"field\": \"region\", \"legend\": null, \"scale\": {\"scheme\": \"tableau20\"}, \"selection\": {\"or\": [\" \", \"selector002\"]}}, \"value\": \"lightgray\"}, \"y\": {\"type\": \"nominal\", \"axis\": {\"orient\": \"right\"}, \"field\": \"region\", \"sort\": [\"Arica y Parinacota\", \"Tarapac\\u00e1\", \"Antofagasta\", \"Atacama\", \"Coquimbo\", \"Valpara\\u00edso\", \"Metropolitana\", \"O\\u2019Higgins\", \"Maule\", \"\\u00d1uble\", \"Biob\\u00edo\", \"Araucan\\u00eda\", \"Los R\\u00edos\", \"Los Lagos\", \"Ays\\u00e9n\", \"Magallanes\"]}}, \"selection\": {\" \": {\"type\": \"single\", \"fields\": [\"region\"], \"bind\": {\"input\": \"select\", \"options\": [\"Arica y Parinacota\", \"Tarapac\\u00e1\", \"Antofagasta\", \"Atacama\", \"Coquimbo\", \"Valpara\\u00edso\", \"Metropolitana\", \"O\\u2019Higgins\", \"Maule\", \"\\u00d1uble\", \"Biob\\u00edo\", \"Araucan\\u00eda\", \"Los R\\u00edos\", \"Los Lagos\", \"Ays\\u00e9n\", \"Magallanes\"]}}, \"selector002\": {\"type\": \"multi\", \"fields\": [\"region\"], \"on\": \"mouseover\"}}}], \"data\": {\"name\": \"data-82e630d691888498cfe2166e6e77d3ff\"}, \"$schema\": \"https://vega.github.io/schema/vega-lite/v4.8.1.json\", \"datasets\": {\"data-82e630d691888498cfe2166e6e77d3ff\": [{\"date\": \"2020-03-24\", \"region\": \"Arica y Parinacota\", \"fallecidos\": 0, \"codigo region\": 0}, {\"date\": \"2020-03-24\", \"region\": \"Tarapac\\u00e1\", \"fallecidos\": 0, \"codigo region\": 1}, {\"date\": \"2020-03-24\", \"region\": \"Antofagasta\", \"fallecidos\": 0, \"codigo region\": 2}, {\"date\": \"2020-03-24\", \"region\": \"Atacama\", \"fallecidos\": 0, \"codigo region\": 3}, {\"date\": \"2020-03-24\", \"region\": \"Coquimbo\", \"fallecidos\": 0, \"codigo region\": 4}, {\"date\": \"2020-03-24\", \"region\": \"Valpara\\u00edso\", \"fallecidos\": 0, \"codigo region\": 5}, {\"date\": \"2020-03-24\", \"region\": \"Metropolitana\", \"fallecidos\": 2, \"codigo region\": 6}, {\"date\": \"2020-03-24\", \"region\": \"O\\u2019Higgins\", \"fallecidos\": 0, \"codigo region\": 7}, {\"date\": \"2020-03-24\", \"region\": \"Maule\", \"fallecidos\": 0, \"codigo region\": 8}, {\"date\": \"2020-03-24\", \"region\": \"\\u00d1uble\", \"fallecidos\": 0, \"codigo region\": 9}, {\"date\": \"2020-03-24\", \"region\": \"Biob\\u00edo\", \"fallecidos\": 0, \"codigo region\": 10}, {\"date\": \"2020-03-24\", \"region\": \"Araucan\\u00eda\", \"fallecidos\": 0, \"codigo region\": 11}, {\"date\": \"2020-03-24\", \"region\": \"Los R\\u00edos\", \"fallecidos\": 0, \"codigo region\": 12}, {\"date\": \"2020-03-24\", \"region\": \"Los Lagos\", \"fallecidos\": 0, \"codigo region\": 13}, {\"date\": \"2020-03-24\", \"region\": \"Ays\\u00e9n\", \"fallecidos\": 0, \"codigo region\": 14}, {\"date\": \"2020-03-24\", \"region\": \"Magallanes\", \"fallecidos\": 0, \"codigo region\": 15}, {\"date\": \"2020-03-25\", \"region\": \"Arica y Parinacota\", \"fallecidos\": 0, \"codigo region\": 0}, {\"date\": \"2020-03-25\", \"region\": \"Tarapac\\u00e1\", \"fallecidos\": 0, \"codigo region\": 1}, {\"date\": \"2020-03-25\", \"region\": \"Antofagasta\", \"fallecidos\": 0, \"codigo region\": 2}, {\"date\": \"2020-03-25\", \"region\": \"Atacama\", \"fallecidos\": 0, \"codigo region\": 3}, {\"date\": \"2020-03-25\", \"region\": \"Coquimbo\", \"fallecidos\": 0, \"codigo region\": 4}, {\"date\": \"2020-03-25\", \"region\": \"Valpara\\u00edso\", \"fallecidos\": 0, \"codigo region\": 5}, {\"date\": \"2020-03-25\", \"region\": \"Metropolitana\", \"fallecidos\": 2, \"codigo region\": 6}, {\"date\": \"2020-03-25\", \"region\": \"O\\u2019Higgins\", \"fallecidos\": 0, \"codigo region\": 7}, {\"date\": \"2020-03-25\", \"region\": \"Maule\", \"fallecidos\": 0, \"codigo region\": 8}, {\"date\": \"2020-03-25\", \"region\": \"\\u00d1uble\", \"fallecidos\": 0, \"codigo region\": 9}, {\"date\": \"2020-03-25\", \"region\": \"Biob\\u00edo\", \"fallecidos\": 1, \"codigo region\": 10}, {\"date\": \"2020-03-25\", \"region\": \"Araucan\\u00eda\", \"fallecidos\": 0, \"codigo region\": 11}, {\"date\": \"2020-03-25\", \"region\": \"Los R\\u00edos\", \"fallecidos\": 0, \"codigo region\": 12}, {\"date\": \"2020-03-25\", \"region\": \"Los Lagos\", \"fallecidos\": 0, \"codigo region\": 13}, {\"date\": \"2020-03-25\", \"region\": \"Ays\\u00e9n\", \"fallecidos\": 0, \"codigo region\": 14}, {\"date\": \"2020-03-25\", \"region\": \"Magallanes\", \"fallecidos\": 0, \"codigo region\": 15}, {\"date\": \"2020-03-26\", \"region\": \"Arica y Parinacota\", \"fallecidos\": 0, \"codigo region\": 0}, {\"date\": \"2020-03-26\", \"region\": \"Tarapac\\u00e1\", \"fallecidos\": 0, \"codigo region\": 1}, {\"date\": \"2020-03-26\", \"region\": \"Antofagasta\", \"fallecidos\": 0, \"codigo region\": 2}, {\"date\": \"2020-03-26\", \"region\": \"Atacama\", \"fallecidos\": 0, \"codigo region\": 3}, {\"date\": \"2020-03-26\", \"region\": \"Coquimbo\", \"fallecidos\": 0, \"codigo region\": 4}, {\"date\": \"2020-03-26\", \"region\": \"Valpara\\u00edso\", \"fallecidos\": 0, \"codigo region\": 5}, {\"date\": \"2020-03-26\", \"region\": \"Metropolitana\", \"fallecidos\": 3, \"codigo region\": 6}, {\"date\": \"2020-03-26\", \"region\": \"O\\u2019Higgins\", \"fallecidos\": 0, \"codigo region\": 7}, {\"date\": \"2020-03-26\", \"region\": \"Maule\", \"fallecidos\": 0, \"codigo region\": 8}, {\"date\": \"2020-03-26\", \"region\": \"\\u00d1uble\", \"fallecidos\": 0, \"codigo region\": 9}, {\"date\": \"2020-03-26\", \"region\": \"Biob\\u00edo\", \"fallecidos\": 1, \"codigo region\": 10}, {\"date\": \"2020-03-26\", \"region\": \"Araucan\\u00eda\", \"fallecidos\": 0, \"codigo region\": 11}, {\"date\": \"2020-03-26\", \"region\": \"Los R\\u00edos\", \"fallecidos\": 0, \"codigo region\": 12}, {\"date\": \"2020-03-26\", \"region\": \"Los Lagos\", \"fallecidos\": 0, \"codigo region\": 13}, {\"date\": \"2020-03-26\", \"region\": \"Ays\\u00e9n\", \"fallecidos\": 0, \"codigo region\": 14}, {\"date\": \"2020-03-26\", \"region\": \"Magallanes\", \"fallecidos\": 0, \"codigo region\": 15}, {\"date\": \"2020-03-27\", \"region\": \"Arica y Parinacota\", \"fallecidos\": 0, \"codigo region\": 0}, {\"date\": \"2020-03-27\", \"region\": \"Tarapac\\u00e1\", \"fallecidos\": 0, \"codigo region\": 1}, {\"date\": \"2020-03-27\", \"region\": \"Antofagasta\", \"fallecidos\": 0, \"codigo region\": 2}, {\"date\": \"2020-03-27\", \"region\": \"Atacama\", \"fallecidos\": 0, \"codigo region\": 3}, {\"date\": \"2020-03-27\", \"region\": \"Coquimbo\", \"fallecidos\": 0, \"codigo region\": 4}, {\"date\": \"2020-03-27\", \"region\": \"Valpara\\u00edso\", \"fallecidos\": 0, \"codigo region\": 5}, {\"date\": \"2020-03-27\", \"region\": \"Metropolitana\", \"fallecidos\": 3, \"codigo region\": 6}, {\"date\": \"2020-03-27\", \"region\": \"O\\u2019Higgins\", \"fallecidos\": 0, \"codigo region\": 7}, {\"date\": \"2020-03-27\", \"region\": \"Maule\", \"fallecidos\": 0, \"codigo region\": 8}, {\"date\": \"2020-03-27\", \"region\": \"\\u00d1uble\", \"fallecidos\": 0, \"codigo region\": 9}, {\"date\": \"2020-03-27\", \"region\": \"Biob\\u00edo\", \"fallecidos\": 2, \"codigo region\": 10}, {\"date\": \"2020-03-27\", \"region\": \"Araucan\\u00eda\", \"fallecidos\": 0, \"codigo region\": 11}, {\"date\": \"2020-03-27\", \"region\": \"Los R\\u00edos\", \"fallecidos\": 0, \"codigo region\": 12}, {\"date\": \"2020-03-27\", \"region\": \"Los Lagos\", \"fallecidos\": 0, \"codigo region\": 13}, {\"date\": \"2020-03-27\", \"region\": \"Ays\\u00e9n\", \"fallecidos\": 0, \"codigo region\": 14}, {\"date\": \"2020-03-27\", \"region\": \"Magallanes\", \"fallecidos\": 0, \"codigo region\": 15}, {\"date\": \"2020-03-28\", \"region\": \"Arica y Parinacota\", \"fallecidos\": 0, \"codigo region\": 0}, {\"date\": \"2020-03-28\", \"region\": \"Tarapac\\u00e1\", \"fallecidos\": 0, \"codigo region\": 1}, {\"date\": \"2020-03-28\", \"region\": \"Antofagasta\", \"fallecidos\": 0, \"codigo region\": 2}, {\"date\": \"2020-03-28\", \"region\": \"Atacama\", \"fallecidos\": 0, \"codigo region\": 3}, {\"date\": \"2020-03-28\", \"region\": \"Coquimbo\", \"fallecidos\": 0, \"codigo region\": 4}, {\"date\": \"2020-03-28\", \"region\": \"Valpara\\u00edso\", \"fallecidos\": 0, \"codigo region\": 5}, {\"date\": \"2020-03-28\", \"region\": \"Metropolitana\", \"fallecidos\": 3, \"codigo region\": 6}, {\"date\": \"2020-03-28\", \"region\": \"O\\u2019Higgins\", \"fallecidos\": 0, \"codigo region\": 7}, {\"date\": \"2020-03-28\", \"region\": \"Maule\", \"fallecidos\": 0, \"codigo region\": 8}, {\"date\": \"2020-03-28\", \"region\": \"\\u00d1uble\", \"fallecidos\": 0, \"codigo region\": 9}, {\"date\": \"2020-03-28\", \"region\": \"Biob\\u00edo\", \"fallecidos\": 2, \"codigo region\": 10}, {\"date\": \"2020-03-28\", \"region\": \"Araucan\\u00eda\", \"fallecidos\": 1, \"codigo region\": 11}, {\"date\": \"2020-03-28\", \"region\": \"Los R\\u00edos\", \"fallecidos\": 0, \"codigo region\": 12}, {\"date\": \"2020-03-28\", \"region\": \"Los Lagos\", \"fallecidos\": 0, \"codigo region\": 13}, {\"date\": \"2020-03-28\", \"region\": \"Ays\\u00e9n\", \"fallecidos\": 0, \"codigo region\": 14}, {\"date\": \"2020-03-28\", \"region\": \"Magallanes\", \"fallecidos\": 0, \"codigo region\": 15}, {\"date\": \"2020-03-29\", \"region\": \"Arica y Parinacota\", \"fallecidos\": 0, \"codigo region\": 0}, {\"date\": \"2020-03-29\", \"region\": \"Tarapac\\u00e1\", \"fallecidos\": 0, \"codigo region\": 1}, {\"date\": \"2020-03-29\", \"region\": \"Antofagasta\", \"fallecidos\": 0, \"codigo region\": 2}, {\"date\": \"2020-03-29\", \"region\": \"Atacama\", \"fallecidos\": 0, \"codigo region\": 3}, {\"date\": \"2020-03-29\", \"region\": \"Coquimbo\", \"fallecidos\": 0, \"codigo region\": 4}, {\"date\": \"2020-03-29\", \"region\": \"Valpara\\u00edso\", \"fallecidos\": 0, \"codigo region\": 5}, {\"date\": \"2020-03-29\", \"region\": \"Metropolitana\", \"fallecidos\": 3, \"codigo region\": 6}, {\"date\": \"2020-03-29\", \"region\": \"O\\u2019Higgins\", \"fallecidos\": 0, \"codigo region\": 7}, {\"date\": \"2020-03-29\", \"region\": \"Maule\", \"fallecidos\": 0, \"codigo region\": 8}, {\"date\": \"2020-03-29\", \"region\": \"\\u00d1uble\", \"fallecidos\": 0, \"codigo region\": 9}, {\"date\": \"2020-03-29\", \"region\": \"Biob\\u00edo\", \"fallecidos\": 2, \"codigo region\": 10}, {\"date\": \"2020-03-29\", \"region\": \"Araucan\\u00eda\", \"fallecidos\": 2, \"codigo region\": 11}, {\"date\": \"2020-03-29\", \"region\": \"Los R\\u00edos\", \"fallecidos\": 0, \"codigo region\": 12}, {\"date\": \"2020-03-29\", \"region\": \"Los Lagos\", \"fallecidos\": 0, \"codigo region\": 13}, {\"date\": \"2020-03-29\", \"region\": \"Ays\\u00e9n\", \"fallecidos\": 0, \"codigo region\": 14}, {\"date\": \"2020-03-29\", \"region\": \"Magallanes\", \"fallecidos\": 0, \"codigo region\": 15}, {\"date\": \"2020-03-30\", \"region\": \"Arica y Parinacota\", \"fallecidos\": 0, \"codigo region\": 0}, {\"date\": \"2020-03-30\", \"region\": \"Tarapac\\u00e1\", \"fallecidos\": 0, \"codigo region\": 1}, {\"date\": \"2020-03-30\", \"region\": \"Antofagasta\", \"fallecidos\": 0, \"codigo region\": 2}, {\"date\": \"2020-03-30\", \"region\": \"Atacama\", \"fallecidos\": 0, \"codigo region\": 3}, {\"date\": \"2020-03-30\", \"region\": \"Coquimbo\", \"fallecidos\": 0, \"codigo region\": 4}, {\"date\": \"2020-03-30\", \"region\": \"Valpara\\u00edso\", \"fallecidos\": 0, \"codigo region\": 5}, {\"date\": \"2020-03-30\", \"region\": \"Metropolitana\", \"fallecidos\": 3, \"codigo region\": 6}, {\"date\": \"2020-03-30\", \"region\": \"O\\u2019Higgins\", \"fallecidos\": 0, \"codigo region\": 7}, {\"date\": \"2020-03-30\", \"region\": \"Maule\", \"fallecidos\": 1, \"codigo region\": 8}, {\"date\": \"2020-03-30\", \"region\": \"\\u00d1uble\", \"fallecidos\": 0, \"codigo region\": 9}, {\"date\": \"2020-03-30\", \"region\": \"Biob\\u00edo\", \"fallecidos\": 2, \"codigo region\": 10}, {\"date\": \"2020-03-30\", \"region\": \"Araucan\\u00eda\", \"fallecidos\": 2, \"codigo region\": 11}, {\"date\": \"2020-03-30\", \"region\": \"Los R\\u00edos\", \"fallecidos\": 0, \"codigo region\": 12}, {\"date\": \"2020-03-30\", \"region\": \"Los Lagos\", \"fallecidos\": 0, \"codigo region\": 13}, {\"date\": \"2020-03-30\", \"region\": \"Ays\\u00e9n\", \"fallecidos\": 0, \"codigo region\": 14}, {\"date\": \"2020-03-30\", \"region\": \"Magallanes\", \"fallecidos\": 0, \"codigo region\": 15}, {\"date\": \"2020-03-31\", \"region\": \"Arica y Parinacota\", \"fallecidos\": 0, \"codigo region\": 0}, {\"date\": \"2020-03-31\", \"region\": \"Tarapac\\u00e1\", \"fallecidos\": 0, \"codigo region\": 1}, {\"date\": \"2020-03-31\", \"region\": \"Antofagasta\", \"fallecidos\": 0, \"codigo region\": 2}, {\"date\": \"2020-03-31\", \"region\": \"Atacama\", \"fallecidos\": 0, \"codigo region\": 3}, {\"date\": \"2020-03-31\", \"region\": \"Coquimbo\", \"fallecidos\": 0, \"codigo region\": 4}, {\"date\": \"2020-03-31\", \"region\": \"Valpara\\u00edso\", \"fallecidos\": 1, \"codigo region\": 5}, {\"date\": \"2020-03-31\", \"region\": \"Metropolitana\", \"fallecidos\": 4, \"codigo region\": 6}, {\"date\": \"2020-03-31\", \"region\": \"O\\u2019Higgins\", \"fallecidos\": 0, \"codigo region\": 7}, {\"date\": \"2020-03-31\", \"region\": \"Maule\", \"fallecidos\": 1, \"codigo region\": 8}, {\"date\": \"2020-03-31\", \"region\": \"\\u00d1uble\", \"fallecidos\": 0, \"codigo region\": 9}, {\"date\": \"2020-03-31\", \"region\": \"Biob\\u00edo\", \"fallecidos\": 2, \"codigo region\": 10}, {\"date\": \"2020-03-31\", \"region\": \"Araucan\\u00eda\", \"fallecidos\": 4, \"codigo region\": 11}, {\"date\": \"2020-03-31\", \"region\": \"Los R\\u00edos\", \"fallecidos\": 0, \"codigo region\": 12}, {\"date\": \"2020-03-31\", \"region\": \"Los Lagos\", \"fallecidos\": 0, \"codigo region\": 13}, {\"date\": \"2020-03-31\", \"region\": \"Ays\\u00e9n\", \"fallecidos\": 0, \"codigo region\": 14}, {\"date\": \"2020-03-31\", \"region\": \"Magallanes\", \"fallecidos\": 0, \"codigo region\": 15}, {\"date\": \"2020-04-01\", \"region\": \"Arica y Parinacota\", \"fallecidos\": 0, \"codigo region\": 0}, {\"date\": \"2020-04-01\", \"region\": \"Tarapac\\u00e1\", \"fallecidos\": 0, \"codigo region\": 1}, {\"date\": \"2020-04-01\", \"region\": \"Antofagasta\", \"fallecidos\": 0, \"codigo region\": 2}, {\"date\": \"2020-04-01\", \"region\": \"Atacama\", \"fallecidos\": 0, \"codigo region\": 3}, {\"date\": \"2020-04-01\", \"region\": \"Coquimbo\", \"fallecidos\": 0, \"codigo region\": 4}, {\"date\": \"2020-04-01\", \"region\": \"Valpara\\u00edso\", \"fallecidos\": 1, \"codigo region\": 5}, {\"date\": \"2020-04-01\", \"region\": \"Metropolitana\", \"fallecidos\": 5, \"codigo region\": 6}, {\"date\": \"2020-04-01\", \"region\": \"O\\u2019Higgins\", \"fallecidos\": 0, \"codigo region\": 7}, {\"date\": \"2020-04-01\", \"region\": \"Maule\", \"fallecidos\": 1, \"codigo region\": 8}, {\"date\": \"2020-04-01\", \"region\": \"\\u00d1uble\", \"fallecidos\": 0, \"codigo region\": 9}, {\"date\": \"2020-04-01\", \"region\": \"Biob\\u00edo\", \"fallecidos\": 2, \"codigo region\": 10}, {\"date\": \"2020-04-01\", \"region\": \"Araucan\\u00eda\", \"fallecidos\": 6, \"codigo region\": 11}, {\"date\": \"2020-04-01\", \"region\": \"Los R\\u00edos\", \"fallecidos\": 1, \"codigo region\": 12}, {\"date\": \"2020-04-01\", \"region\": \"Los Lagos\", \"fallecidos\": 0, \"codigo region\": 13}, {\"date\": \"2020-04-01\", \"region\": \"Ays\\u00e9n\", \"fallecidos\": 0, \"codigo region\": 14}, {\"date\": \"2020-04-01\", \"region\": \"Magallanes\", \"fallecidos\": 0, \"codigo region\": 15}, {\"date\": \"2020-04-02\", \"region\": \"Arica y Parinacota\", \"fallecidos\": 0, \"codigo region\": 0}, {\"date\": \"2020-04-02\", \"region\": \"Tarapac\\u00e1\", \"fallecidos\": 0, \"codigo region\": 1}, {\"date\": \"2020-04-02\", \"region\": \"Antofagasta\", \"fallecidos\": 0, \"codigo region\": 2}, {\"date\": \"2020-04-02\", \"region\": \"Atacama\", \"fallecidos\": 0, \"codigo region\": 3}, {\"date\": \"2020-04-02\", \"region\": \"Coquimbo\", \"fallecidos\": 0, \"codigo region\": 4}, {\"date\": \"2020-04-02\", \"region\": \"Valpara\\u00edso\", \"fallecidos\": 1, \"codigo region\": 5}, {\"date\": \"2020-04-02\", \"region\": \"Metropolitana\", \"fallecidos\": 6, \"codigo region\": 6}, {\"date\": \"2020-04-02\", \"region\": \"O\\u2019Higgins\", \"fallecidos\": 0, \"codigo region\": 7}, {\"date\": \"2020-04-02\", \"region\": \"Maule\", \"fallecidos\": 1, \"codigo region\": 8}, {\"date\": \"2020-04-02\", \"region\": \"\\u00d1uble\", \"fallecidos\": 0, \"codigo region\": 9}, {\"date\": \"2020-04-02\", \"region\": \"Biob\\u00edo\", \"fallecidos\": 2, \"codigo region\": 10}, {\"date\": \"2020-04-02\", \"region\": \"Araucan\\u00eda\", \"fallecidos\": 7, \"codigo region\": 11}, {\"date\": \"2020-04-02\", \"region\": \"Los R\\u00edos\", \"fallecidos\": 1, \"codigo region\": 12}, {\"date\": \"2020-04-02\", \"region\": \"Los Lagos\", \"fallecidos\": 0, \"codigo region\": 13}, {\"date\": \"2020-04-02\", \"region\": \"Ays\\u00e9n\", \"fallecidos\": 0, \"codigo region\": 14}, {\"date\": \"2020-04-02\", \"region\": \"Magallanes\", \"fallecidos\": 0, \"codigo region\": 15}, {\"date\": \"2020-04-03\", \"region\": \"Arica y Parinacota\", \"fallecidos\": 0, \"codigo region\": 0}, {\"date\": \"2020-04-03\", \"region\": \"Tarapac\\u00e1\", \"fallecidos\": 0, \"codigo region\": 1}, {\"date\": \"2020-04-03\", \"region\": \"Antofagasta\", \"fallecidos\": 0, \"codigo region\": 2}, {\"date\": \"2020-04-03\", \"region\": \"Atacama\", \"fallecidos\": 0, \"codigo region\": 3}, {\"date\": \"2020-04-03\", \"region\": \"Coquimbo\", \"fallecidos\": 0, \"codigo region\": 4}, {\"date\": \"2020-04-03\", \"region\": \"Valpara\\u00edso\", \"fallecidos\": 1, \"codigo region\": 5}, {\"date\": \"2020-04-03\", \"region\": \"Metropolitana\", \"fallecidos\": 8, \"codigo region\": 6}, {\"date\": \"2020-04-03\", \"region\": \"O\\u2019Higgins\", \"fallecidos\": 0, \"codigo region\": 7}, {\"date\": \"2020-04-03\", \"region\": \"Maule\", \"fallecidos\": 1, \"codigo region\": 8}, {\"date\": \"2020-04-03\", \"region\": \"\\u00d1uble\", \"fallecidos\": 1, \"codigo region\": 9}, {\"date\": \"2020-04-03\", \"region\": \"Biob\\u00edo\", \"fallecidos\": 2, \"codigo region\": 10}, {\"date\": \"2020-04-03\", \"region\": \"Araucan\\u00eda\", \"fallecidos\": 7, \"codigo region\": 11}, {\"date\": \"2020-04-03\", \"region\": \"Los R\\u00edos\", \"fallecidos\": 1, \"codigo region\": 12}, {\"date\": \"2020-04-03\", \"region\": \"Los Lagos\", \"fallecidos\": 0, \"codigo region\": 13}, {\"date\": \"2020-04-03\", \"region\": \"Ays\\u00e9n\", \"fallecidos\": 0, \"codigo region\": 14}, {\"date\": \"2020-04-03\", \"region\": \"Magallanes\", \"fallecidos\": 1, \"codigo region\": 15}, {\"date\": \"2020-04-04\", \"region\": \"Arica y Parinacota\", \"fallecidos\": 0, \"codigo region\": 0}, {\"date\": \"2020-04-04\", \"region\": \"Tarapac\\u00e1\", \"fallecidos\": 0, \"codigo region\": 1}, {\"date\": \"2020-04-04\", \"region\": \"Antofagasta\", \"fallecidos\": 0, \"codigo region\": 2}, {\"date\": \"2020-04-04\", \"region\": \"Atacama\", \"fallecidos\": 0, \"codigo region\": 3}, {\"date\": \"2020-04-04\", \"region\": \"Coquimbo\", \"fallecidos\": 0, \"codigo region\": 4}, {\"date\": \"2020-04-04\", \"region\": \"Valpara\\u00edso\", \"fallecidos\": 1, \"codigo region\": 5}, {\"date\": \"2020-04-04\", \"region\": \"Metropolitana\", \"fallecidos\": 9, \"codigo region\": 6}, {\"date\": \"2020-04-04\", \"region\": \"O\\u2019Higgins\", \"fallecidos\": 0, \"codigo region\": 7}, {\"date\": \"2020-04-04\", \"region\": \"Maule\", \"fallecidos\": 1, \"codigo region\": 8}, {\"date\": \"2020-04-04\", \"region\": \"\\u00d1uble\", \"fallecidos\": 2, \"codigo region\": 9}, {\"date\": \"2020-04-04\", \"region\": \"Biob\\u00edo\", \"fallecidos\": 2, \"codigo region\": 10}, {\"date\": \"2020-04-04\", \"region\": \"Araucan\\u00eda\", \"fallecidos\": 9, \"codigo region\": 11}, {\"date\": \"2020-04-04\", \"region\": \"Los R\\u00edos\", \"fallecidos\": 1, \"codigo region\": 12}, {\"date\": \"2020-04-04\", \"region\": \"Los Lagos\", \"fallecidos\": 0, \"codigo region\": 13}, {\"date\": \"2020-04-04\", \"region\": \"Ays\\u00e9n\", \"fallecidos\": 0, \"codigo region\": 14}, {\"date\": \"2020-04-04\", \"region\": \"Magallanes\", \"fallecidos\": 2, \"codigo region\": 15}, {\"date\": \"2020-04-05\", \"region\": \"Arica y Parinacota\", \"fallecidos\": 0, \"codigo region\": 0}, {\"date\": \"2020-04-05\", \"region\": \"Tarapac\\u00e1\", \"fallecidos\": 0, \"codigo region\": 1}, {\"date\": \"2020-04-05\", \"region\": \"Antofagasta\", \"fallecidos\": 0, \"codigo region\": 2}, {\"date\": \"2020-04-05\", \"region\": \"Atacama\", \"fallecidos\": 0, \"codigo region\": 3}, {\"date\": \"2020-04-05\", \"region\": \"Coquimbo\", \"fallecidos\": 0, \"codigo region\": 4}, {\"date\": \"2020-04-05\", \"region\": \"Valpara\\u00edso\", \"fallecidos\": 1, \"codigo region\": 5}, {\"date\": \"2020-04-05\", \"region\": \"Metropolitana\", \"fallecidos\": 10, \"codigo region\": 6}, {\"date\": \"2020-04-05\", \"region\": \"O\\u2019Higgins\", \"fallecidos\": 0, \"codigo region\": 7}, {\"date\": \"2020-04-05\", \"region\": \"Maule\", \"fallecidos\": 1, \"codigo region\": 8}, {\"date\": \"2020-04-05\", \"region\": \"\\u00d1uble\", \"fallecidos\": 3, \"codigo region\": 9}, {\"date\": \"2020-04-05\", \"region\": \"Biob\\u00edo\", \"fallecidos\": 2, \"codigo region\": 10}, {\"date\": \"2020-04-05\", \"region\": \"Araucan\\u00eda\", \"fallecidos\": 13, \"codigo region\": 11}, {\"date\": \"2020-04-05\", \"region\": \"Los R\\u00edos\", \"fallecidos\": 1, \"codigo region\": 12}, {\"date\": \"2020-04-05\", \"region\": \"Los Lagos\", \"fallecidos\": 1, \"codigo region\": 13}, {\"date\": \"2020-04-05\", \"region\": \"Ays\\u00e9n\", \"fallecidos\": 0, \"codigo region\": 14}, {\"date\": \"2020-04-05\", \"region\": \"Magallanes\", \"fallecidos\": 2, \"codigo region\": 15}, {\"date\": \"2020-04-06\", \"region\": \"Arica y Parinacota\", \"fallecidos\": 0, \"codigo region\": 0}, {\"date\": \"2020-04-06\", \"region\": \"Tarapac\\u00e1\", \"fallecidos\": 0, \"codigo region\": 1}, {\"date\": \"2020-04-06\", \"region\": \"Antofagasta\", \"fallecidos\": 0, \"codigo region\": 2}, {\"date\": \"2020-04-06\", \"region\": \"Atacama\", \"fallecidos\": 0, \"codigo region\": 3}, {\"date\": \"2020-04-06\", \"region\": \"Coquimbo\", \"fallecidos\": 0, \"codigo region\": 4}, {\"date\": \"2020-04-06\", \"region\": \"Valpara\\u00edso\", \"fallecidos\": 1, \"codigo region\": 5}, {\"date\": \"2020-04-06\", \"region\": \"Metropolitana\", \"fallecidos\": 10, \"codigo region\": 6}, {\"date\": \"2020-04-06\", \"region\": \"O\\u2019Higgins\", \"fallecidos\": 0, \"codigo region\": 7}, {\"date\": \"2020-04-06\", \"region\": \"Maule\", \"fallecidos\": 1, \"codigo region\": 8}, {\"date\": \"2020-04-06\", \"region\": \"\\u00d1uble\", \"fallecidos\": 4, \"codigo region\": 9}, {\"date\": \"2020-04-06\", \"region\": \"Biob\\u00edo\", \"fallecidos\": 2, \"codigo region\": 10}, {\"date\": \"2020-04-06\", \"region\": \"Araucan\\u00eda\", \"fallecidos\": 14, \"codigo region\": 11}, {\"date\": \"2020-04-06\", \"region\": \"Los R\\u00edos\", \"fallecidos\": 1, \"codigo region\": 12}, {\"date\": \"2020-04-06\", \"region\": \"Los Lagos\", \"fallecidos\": 2, \"codigo region\": 13}, {\"date\": \"2020-04-06\", \"region\": \"Ays\\u00e9n\", \"fallecidos\": 0, \"codigo region\": 14}, {\"date\": \"2020-04-06\", \"region\": \"Magallanes\", \"fallecidos\": 2, \"codigo region\": 15}, {\"date\": \"2020-04-07\", \"region\": \"Arica y Parinacota\", \"fallecidos\": 0, \"codigo region\": 0}, {\"date\": \"2020-04-07\", \"region\": \"Tarapac\\u00e1\", \"fallecidos\": 0, \"codigo region\": 1}, {\"date\": \"2020-04-07\", \"region\": \"Antofagasta\", \"fallecidos\": 1, \"codigo region\": 2}, {\"date\": \"2020-04-07\", \"region\": \"Atacama\", \"fallecidos\": 0, \"codigo region\": 3}, {\"date\": \"2020-04-07\", \"region\": \"Coquimbo\", \"fallecidos\": 0, \"codigo region\": 4}, {\"date\": \"2020-04-07\", \"region\": \"Valpara\\u00edso\", \"fallecidos\": 1, \"codigo region\": 5}, {\"date\": \"2020-04-07\", \"region\": \"Metropolitana\", \"fallecidos\": 12, \"codigo region\": 6}, {\"date\": \"2020-04-07\", \"region\": \"O\\u2019Higgins\", \"fallecidos\": 0, \"codigo region\": 7}, {\"date\": \"2020-04-07\", \"region\": \"Maule\", \"fallecidos\": 2, \"codigo region\": 8}, {\"date\": \"2020-04-07\", \"region\": \"\\u00d1uble\", \"fallecidos\": 5, \"codigo region\": 9}, {\"date\": \"2020-04-07\", \"region\": \"Biob\\u00edo\", \"fallecidos\": 2, \"codigo region\": 10}, {\"date\": \"2020-04-07\", \"region\": \"Araucan\\u00eda\", \"fallecidos\": 14, \"codigo region\": 11}, {\"date\": \"2020-04-07\", \"region\": \"Los R\\u00edos\", \"fallecidos\": 2, \"codigo region\": 12}, {\"date\": \"2020-04-07\", \"region\": \"Los Lagos\", \"fallecidos\": 2, \"codigo region\": 13}, {\"date\": \"2020-04-07\", \"region\": \"Ays\\u00e9n\", \"fallecidos\": 0, \"codigo region\": 14}, {\"date\": \"2020-04-07\", \"region\": \"Magallanes\", \"fallecidos\": 2, \"codigo region\": 15}, {\"date\": \"2020-04-08\", \"region\": \"Arica y Parinacota\", \"fallecidos\": 0, \"codigo region\": 0}, {\"date\": \"2020-04-08\", \"region\": \"Tarapac\\u00e1\", \"fallecidos\": 0, \"codigo region\": 1}, {\"date\": \"2020-04-08\", \"region\": \"Antofagasta\", \"fallecidos\": 1, \"codigo region\": 2}, {\"date\": \"2020-04-08\", \"region\": \"Atacama\", \"fallecidos\": 0, \"codigo region\": 3}, {\"date\": \"2020-04-08\", \"region\": \"Coquimbo\", \"fallecidos\": 0, \"codigo region\": 4}, {\"date\": \"2020-04-08\", \"region\": \"Valpara\\u00edso\", \"fallecidos\": 2, \"codigo region\": 5}, {\"date\": \"2020-04-08\", \"region\": \"Metropolitana\", \"fallecidos\": 14, \"codigo region\": 6}, {\"date\": \"2020-04-08\", \"region\": \"O\\u2019Higgins\", \"fallecidos\": 0, \"codigo region\": 7}, {\"date\": \"2020-04-08\", \"region\": \"Maule\", \"fallecidos\": 2, \"codigo region\": 8}, {\"date\": \"2020-04-08\", \"region\": \"\\u00d1uble\", \"fallecidos\": 5, \"codigo region\": 9}, {\"date\": \"2020-04-08\", \"region\": \"Biob\\u00edo\", \"fallecidos\": 2, \"codigo region\": 10}, {\"date\": \"2020-04-08\", \"region\": \"Araucan\\u00eda\", \"fallecidos\": 15, \"codigo region\": 11}, {\"date\": \"2020-04-08\", \"region\": \"Los R\\u00edos\", \"fallecidos\": 2, \"codigo region\": 12}, {\"date\": \"2020-04-08\", \"region\": \"Los Lagos\", \"fallecidos\": 2, \"codigo region\": 13}, {\"date\": \"2020-04-08\", \"region\": \"Ays\\u00e9n\", \"fallecidos\": 0, \"codigo region\": 14}, {\"date\": \"2020-04-08\", \"region\": \"Magallanes\", \"fallecidos\": 3, \"codigo region\": 15}, {\"date\": \"2020-04-09\", \"region\": \"Arica y Parinacota\", \"fallecidos\": 0, \"codigo region\": 0}, {\"date\": \"2020-04-09\", \"region\": \"Tarapac\\u00e1\", \"fallecidos\": 0, \"codigo region\": 1}, {\"date\": \"2020-04-09\", \"region\": \"Antofagasta\", \"fallecidos\": 1, \"codigo region\": 2}, {\"date\": \"2020-04-09\", \"region\": \"Atacama\", \"fallecidos\": 0, \"codigo region\": 3}, {\"date\": \"2020-04-09\", \"region\": \"Coquimbo\", \"fallecidos\": 0, \"codigo region\": 4}, {\"date\": \"2020-04-09\", \"region\": \"Valpara\\u00edso\", \"fallecidos\": 2, \"codigo region\": 5}, {\"date\": \"2020-04-09\", \"region\": \"Metropolitana\", \"fallecidos\": 21, \"codigo region\": 6}, {\"date\": \"2020-04-09\", \"region\": \"O\\u2019Higgins\", \"fallecidos\": 0, \"codigo region\": 7}, {\"date\": \"2020-04-09\", \"region\": \"Maule\", \"fallecidos\": 2, \"codigo region\": 8}, {\"date\": \"2020-04-09\", \"region\": \"\\u00d1uble\", \"fallecidos\": 6, \"codigo region\": 9}, {\"date\": \"2020-04-09\", \"region\": \"Biob\\u00edo\", \"fallecidos\": 2, \"codigo region\": 10}, {\"date\": \"2020-04-09\", \"region\": \"Araucan\\u00eda\", \"fallecidos\": 16, \"codigo region\": 11}, {\"date\": \"2020-04-09\", \"region\": \"Los R\\u00edos\", \"fallecidos\": 2, \"codigo region\": 12}, {\"date\": \"2020-04-09\", \"region\": \"Los Lagos\", \"fallecidos\": 2, \"codigo region\": 13}, {\"date\": \"2020-04-09\", \"region\": \"Ays\\u00e9n\", \"fallecidos\": 0, \"codigo region\": 14}, {\"date\": \"2020-04-09\", \"region\": \"Magallanes\", \"fallecidos\": 3, \"codigo region\": 15}, {\"date\": \"2020-04-10\", \"region\": \"Arica y Parinacota\", \"fallecidos\": 0, \"codigo region\": 0}, {\"date\": \"2020-04-10\", \"region\": \"Tarapac\\u00e1\", \"fallecidos\": 0, \"codigo region\": 1}, {\"date\": \"2020-04-10\", \"region\": \"Antofagasta\", \"fallecidos\": 1, \"codigo region\": 2}, {\"date\": \"2020-04-10\", \"region\": \"Atacama\", \"fallecidos\": 0, \"codigo region\": 3}, {\"date\": \"2020-04-10\", \"region\": \"Coquimbo\", \"fallecidos\": 0, \"codigo region\": 4}, {\"date\": \"2020-04-10\", \"region\": \"Valpara\\u00edso\", \"fallecidos\": 2, \"codigo region\": 5}, {\"date\": \"2020-04-10\", \"region\": \"Metropolitana\", \"fallecidos\": 29, \"codigo region\": 6}, {\"date\": \"2020-04-10\", \"region\": \"O\\u2019Higgins\", \"fallecidos\": 0, \"codigo region\": 7}, {\"date\": \"2020-04-10\", \"region\": \"Maule\", \"fallecidos\": 2, \"codigo region\": 8}, {\"date\": \"2020-04-10\", \"region\": \"\\u00d1uble\", \"fallecidos\": 6, \"codigo region\": 9}, {\"date\": \"2020-04-10\", \"region\": \"Biob\\u00edo\", \"fallecidos\": 2, \"codigo region\": 10}, {\"date\": \"2020-04-10\", \"region\": \"Araucan\\u00eda\", \"fallecidos\": 16, \"codigo region\": 11}, {\"date\": \"2020-04-10\", \"region\": \"Los R\\u00edos\", \"fallecidos\": 2, \"codigo region\": 12}, {\"date\": \"2020-04-10\", \"region\": \"Los Lagos\", \"fallecidos\": 2, \"codigo region\": 13}, {\"date\": \"2020-04-10\", \"region\": \"Ays\\u00e9n\", \"fallecidos\": 0, \"codigo region\": 14}, {\"date\": \"2020-04-10\", \"region\": \"Magallanes\", \"fallecidos\": 3, \"codigo region\": 15}, {\"date\": \"2020-04-11\", \"region\": \"Arica y Parinacota\", \"fallecidos\": 0, \"codigo region\": 0}, {\"date\": \"2020-04-11\", \"region\": \"Tarapac\\u00e1\", \"fallecidos\": 0, \"codigo region\": 1}, {\"date\": \"2020-04-11\", \"region\": \"Antofagasta\", \"fallecidos\": 1, \"codigo region\": 2}, {\"date\": \"2020-04-11\", \"region\": \"Atacama\", \"fallecidos\": 0, \"codigo region\": 3}, {\"date\": \"2020-04-11\", \"region\": \"Coquimbo\", \"fallecidos\": 0, \"codigo region\": 4}, {\"date\": \"2020-04-11\", \"region\": \"Valpara\\u00edso\", \"fallecidos\": 2, \"codigo region\": 5}, {\"date\": \"2020-04-11\", \"region\": \"Metropolitana\", \"fallecidos\": 32, \"codigo region\": 6}, {\"date\": \"2020-04-11\", \"region\": \"O\\u2019Higgins\", \"fallecidos\": 0, \"codigo region\": 7}, {\"date\": \"2020-04-11\", \"region\": \"Maule\", \"fallecidos\": 3, \"codigo region\": 8}, {\"date\": \"2020-04-11\", \"region\": \"\\u00d1uble\", \"fallecidos\": 6, \"codigo region\": 9}, {\"date\": \"2020-04-11\", \"region\": \"Biob\\u00edo\", \"fallecidos\": 2, \"codigo region\": 10}, {\"date\": \"2020-04-11\", \"region\": \"Araucan\\u00eda\", \"fallecidos\": 17, \"codigo region\": 11}, {\"date\": \"2020-04-11\", \"region\": \"Los R\\u00edos\", \"fallecidos\": 2, \"codigo region\": 12}, {\"date\": \"2020-04-11\", \"region\": \"Los Lagos\", \"fallecidos\": 5, \"codigo region\": 13}, {\"date\": \"2020-04-11\", \"region\": \"Ays\\u00e9n\", \"fallecidos\": 0, \"codigo region\": 14}, {\"date\": \"2020-04-11\", \"region\": \"Magallanes\", \"fallecidos\": 3, \"codigo region\": 15}, {\"date\": \"2020-04-12\", \"region\": \"Arica y Parinacota\", \"fallecidos\": 1, \"codigo region\": 0}, {\"date\": \"2020-04-12\", \"region\": \"Tarapac\\u00e1\", \"fallecidos\": 0, \"codigo region\": 1}, {\"date\": \"2020-04-12\", \"region\": \"Antofagasta\", \"fallecidos\": 1, \"codigo region\": 2}, {\"date\": \"2020-04-12\", \"region\": \"Atacama\", \"fallecidos\": 0, \"codigo region\": 3}, {\"date\": \"2020-04-12\", \"region\": \"Coquimbo\", \"fallecidos\": 0, \"codigo region\": 4}, {\"date\": \"2020-04-12\", \"region\": \"Valpara\\u00edso\", \"fallecidos\": 2, \"codigo region\": 5}, {\"date\": \"2020-04-12\", \"region\": \"Metropolitana\", \"fallecidos\": 35, \"codigo region\": 6}, {\"date\": \"2020-04-12\", \"region\": \"O\\u2019Higgins\", \"fallecidos\": 0, \"codigo region\": 7}, {\"date\": \"2020-04-12\", \"region\": \"Maule\", \"fallecidos\": 3, \"codigo region\": 8}, {\"date\": \"2020-04-12\", \"region\": \"\\u00d1uble\", \"fallecidos\": 7, \"codigo region\": 9}, {\"date\": \"2020-04-12\", \"region\": \"Biob\\u00edo\", \"fallecidos\": 2, \"codigo region\": 10}, {\"date\": \"2020-04-12\", \"region\": \"Araucan\\u00eda\", \"fallecidos\": 17, \"codigo region\": 11}, {\"date\": \"2020-04-12\", \"region\": \"Los R\\u00edos\", \"fallecidos\": 3, \"codigo region\": 12}, {\"date\": \"2020-04-12\", \"region\": \"Los Lagos\", \"fallecidos\": 5, \"codigo region\": 13}, {\"date\": \"2020-04-12\", \"region\": \"Ays\\u00e9n\", \"fallecidos\": 0, \"codigo region\": 14}, {\"date\": \"2020-04-12\", \"region\": \"Magallanes\", \"fallecidos\": 4, \"codigo region\": 15}, {\"date\": \"2020-04-13\", \"region\": \"Arica y Parinacota\", \"fallecidos\": 1, \"codigo region\": 0}, {\"date\": \"2020-04-13\", \"region\": \"Tarapac\\u00e1\", \"fallecidos\": 0, \"codigo region\": 1}, {\"date\": \"2020-04-13\", \"region\": \"Antofagasta\", \"fallecidos\": 1, \"codigo region\": 2}, {\"date\": \"2020-04-13\", \"region\": \"Atacama\", \"fallecidos\": 0, \"codigo region\": 3}, {\"date\": \"2020-04-13\", \"region\": \"Coquimbo\", \"fallecidos\": 0, \"codigo region\": 4}, {\"date\": \"2020-04-13\", \"region\": \"Valpara\\u00edso\", \"fallecidos\": 2, \"codigo region\": 5}, {\"date\": \"2020-04-13\", \"region\": \"Metropolitana\", \"fallecidos\": 36, \"codigo region\": 6}, {\"date\": \"2020-04-13\", \"region\": \"O\\u2019Higgins\", \"fallecidos\": 0, \"codigo region\": 7}, {\"date\": \"2020-04-13\", \"region\": \"Maule\", \"fallecidos\": 3, \"codigo region\": 8}, {\"date\": \"2020-04-13\", \"region\": \"\\u00d1uble\", \"fallecidos\": 7, \"codigo region\": 9}, {\"date\": \"2020-04-13\", \"region\": \"Biob\\u00edo\", \"fallecidos\": 2, \"codigo region\": 10}, {\"date\": \"2020-04-13\", \"region\": \"Araucan\\u00eda\", \"fallecidos\": 17, \"codigo region\": 11}, {\"date\": \"2020-04-13\", \"region\": \"Los R\\u00edos\", \"fallecidos\": 3, \"codigo region\": 12}, {\"date\": \"2020-04-13\", \"region\": \"Los Lagos\", \"fallecidos\": 5, \"codigo region\": 13}, {\"date\": \"2020-04-13\", \"region\": \"Ays\\u00e9n\", \"fallecidos\": 0, \"codigo region\": 14}, {\"date\": \"2020-04-13\", \"region\": \"Magallanes\", \"fallecidos\": 5, \"codigo region\": 15}, {\"date\": \"2020-04-14\", \"region\": \"Arica y Parinacota\", \"fallecidos\": 1, \"codigo region\": 0}, {\"date\": \"2020-04-14\", \"region\": \"Tarapac\\u00e1\", \"fallecidos\": 0, \"codigo region\": 1}, {\"date\": \"2020-04-14\", \"region\": \"Antofagasta\", \"fallecidos\": 1, \"codigo region\": 2}, {\"date\": \"2020-04-14\", \"region\": \"Atacama\", \"fallecidos\": 0, \"codigo region\": 3}, {\"date\": \"2020-04-14\", \"region\": \"Coquimbo\", \"fallecidos\": 0, \"codigo region\": 4}, {\"date\": \"2020-04-14\", \"region\": \"Valpara\\u00edso\", \"fallecidos\": 2, \"codigo region\": 5}, {\"date\": \"2020-04-14\", \"region\": \"Metropolitana\", \"fallecidos\": 40, \"codigo region\": 6}, {\"date\": \"2020-04-14\", \"region\": \"O\\u2019Higgins\", \"fallecidos\": 0, \"codigo region\": 7}, {\"date\": \"2020-04-14\", \"region\": \"Maule\", \"fallecidos\": 4, \"codigo region\": 8}, {\"date\": \"2020-04-14\", \"region\": \"\\u00d1uble\", \"fallecidos\": 8, \"codigo region\": 9}, {\"date\": \"2020-04-14\", \"region\": \"Biob\\u00edo\", \"fallecidos\": 2, \"codigo region\": 10}, {\"date\": \"2020-04-14\", \"region\": \"Araucan\\u00eda\", \"fallecidos\": 20, \"codigo region\": 11}, {\"date\": \"2020-04-14\", \"region\": \"Los R\\u00edos\", \"fallecidos\": 3, \"codigo region\": 12}, {\"date\": \"2020-04-14\", \"region\": \"Los Lagos\", \"fallecidos\": 5, \"codigo region\": 13}, {\"date\": \"2020-04-14\", \"region\": \"Ays\\u00e9n\", \"fallecidos\": 0, \"codigo region\": 14}, {\"date\": \"2020-04-14\", \"region\": \"Magallanes\", \"fallecidos\": 6, \"codigo region\": 15}, {\"date\": \"2020-04-15\", \"region\": \"Arica y Parinacota\", \"fallecidos\": 1, \"codigo region\": 0}, {\"date\": \"2020-04-15\", \"region\": \"Tarapac\\u00e1\", \"fallecidos\": 0, \"codigo region\": 1}, {\"date\": \"2020-04-15\", \"region\": \"Antofagasta\", \"fallecidos\": 1, \"codigo region\": 2}, {\"date\": \"2020-04-15\", \"region\": \"Atacama\", \"fallecidos\": 0, \"codigo region\": 3}, {\"date\": \"2020-04-15\", \"region\": \"Coquimbo\", \"fallecidos\": 0, \"codigo region\": 4}, {\"date\": \"2020-04-15\", \"region\": \"Valpara\\u00edso\", \"fallecidos\": 2, \"codigo region\": 5}, {\"date\": \"2020-04-15\", \"region\": \"Metropolitana\", \"fallecidos\": 41, \"codigo region\": 6}, {\"date\": \"2020-04-15\", \"region\": \"O\\u2019Higgins\", \"fallecidos\": 0, \"codigo region\": 7}, {\"date\": \"2020-04-15\", \"region\": \"Maule\", \"fallecidos\": 4, \"codigo region\": 8}, {\"date\": \"2020-04-15\", \"region\": \"\\u00d1uble\", \"fallecidos\": 8, \"codigo region\": 9}, {\"date\": \"2020-04-15\", \"region\": \"Biob\\u00edo\", \"fallecidos\": 2, \"codigo region\": 10}, {\"date\": \"2020-04-15\", \"region\": \"Araucan\\u00eda\", \"fallecidos\": 21, \"codigo region\": 11}, {\"date\": \"2020-04-15\", \"region\": \"Los R\\u00edos\", \"fallecidos\": 3, \"codigo region\": 12}, {\"date\": \"2020-04-15\", \"region\": \"Los Lagos\", \"fallecidos\": 5, \"codigo region\": 13}, {\"date\": \"2020-04-15\", \"region\": \"Ays\\u00e9n\", \"fallecidos\": 0, \"codigo region\": 14}, {\"date\": \"2020-04-15\", \"region\": \"Magallanes\", \"fallecidos\": 6, \"codigo region\": 15}, {\"date\": \"2020-04-16\", \"region\": \"Arica y Parinacota\", \"fallecidos\": 1, \"codigo region\": 0}, {\"date\": \"2020-04-16\", \"region\": \"Tarapac\\u00e1\", \"fallecidos\": 0, \"codigo region\": 1}, {\"date\": \"2020-04-16\", \"region\": \"Antofagasta\", \"fallecidos\": 1, \"codigo region\": 2}, {\"date\": \"2020-04-16\", \"region\": \"Atacama\", \"fallecidos\": 0, \"codigo region\": 3}, {\"date\": \"2020-04-16\", \"region\": \"Coquimbo\", \"fallecidos\": 0, \"codigo region\": 4}, {\"date\": \"2020-04-16\", \"region\": \"Valpara\\u00edso\", \"fallecidos\": 4, \"codigo region\": 5}, {\"date\": \"2020-04-16\", \"region\": \"Metropolitana\", \"fallecidos\": 48, \"codigo region\": 6}, {\"date\": \"2020-04-16\", \"region\": \"O\\u2019Higgins\", \"fallecidos\": 0, \"codigo region\": 7}, {\"date\": \"2020-04-16\", \"region\": \"Maule\", \"fallecidos\": 4, \"codigo region\": 8}, {\"date\": \"2020-04-16\", \"region\": \"\\u00d1uble\", \"fallecidos\": 10, \"codigo region\": 9}, {\"date\": \"2020-04-16\", \"region\": \"Biob\\u00edo\", \"fallecidos\": 2, \"codigo region\": 10}, {\"date\": \"2020-04-16\", \"region\": \"Araucan\\u00eda\", \"fallecidos\": 21, \"codigo region\": 11}, {\"date\": \"2020-04-16\", \"region\": \"Los R\\u00edos\", \"fallecidos\": 3, \"codigo region\": 12}, {\"date\": \"2020-04-16\", \"region\": \"Los Lagos\", \"fallecidos\": 5, \"codigo region\": 13}, {\"date\": \"2020-04-16\", \"region\": \"Ays\\u00e9n\", \"fallecidos\": 0, \"codigo region\": 14}, {\"date\": \"2020-04-16\", \"region\": \"Magallanes\", \"fallecidos\": 6, \"codigo region\": 15}, {\"date\": \"2020-04-17\", \"region\": \"Arica y Parinacota\", \"fallecidos\": 2, \"codigo region\": 0}, {\"date\": \"2020-04-17\", \"region\": \"Tarapac\\u00e1\", \"fallecidos\": 0, \"codigo region\": 1}, {\"date\": \"2020-04-17\", \"region\": \"Antofagasta\", \"fallecidos\": 1, \"codigo region\": 2}, {\"date\": \"2020-04-17\", \"region\": \"Atacama\", \"fallecidos\": 0, \"codigo region\": 3}, {\"date\": \"2020-04-17\", \"region\": \"Coquimbo\", \"fallecidos\": 0, \"codigo region\": 4}, {\"date\": \"2020-04-17\", \"region\": \"Valpara\\u00edso\", \"fallecidos\": 4, \"codigo region\": 5}, {\"date\": \"2020-04-17\", \"region\": \"Metropolitana\", \"fallecidos\": 51, \"codigo region\": 6}, {\"date\": \"2020-04-17\", \"region\": \"O\\u2019Higgins\", \"fallecidos\": 0, \"codigo region\": 7}, {\"date\": \"2020-04-17\", \"region\": \"Maule\", \"fallecidos\": 7, \"codigo region\": 8}, {\"date\": \"2020-04-17\", \"region\": \"\\u00d1uble\", \"fallecidos\": 11, \"codigo region\": 9}, {\"date\": \"2020-04-17\", \"region\": \"Biob\\u00edo\", \"fallecidos\": 3, \"codigo region\": 10}, {\"date\": \"2020-04-17\", \"region\": \"Araucan\\u00eda\", \"fallecidos\": 22, \"codigo region\": 11}, {\"date\": \"2020-04-17\", \"region\": \"Los R\\u00edos\", \"fallecidos\": 3, \"codigo region\": 12}, {\"date\": \"2020-04-17\", \"region\": \"Los Lagos\", \"fallecidos\": 6, \"codigo region\": 13}, {\"date\": \"2020-04-17\", \"region\": \"Ays\\u00e9n\", \"fallecidos\": 0, \"codigo region\": 14}, {\"date\": \"2020-04-17\", \"region\": \"Magallanes\", \"fallecidos\": 6, \"codigo region\": 15}, {\"date\": \"2020-04-18\", \"region\": \"Arica y Parinacota\", \"fallecidos\": 2, \"codigo region\": 0}, {\"date\": \"2020-04-18\", \"region\": \"Tarapac\\u00e1\", \"fallecidos\": 0, \"codigo region\": 1}, {\"date\": \"2020-04-18\", \"region\": \"Antofagasta\", \"fallecidos\": 1, \"codigo region\": 2}, {\"date\": \"2020-04-18\", \"region\": \"Atacama\", \"fallecidos\": 0, \"codigo region\": 3}, {\"date\": \"2020-04-18\", \"region\": \"Coquimbo\", \"fallecidos\": 0, \"codigo region\": 4}, {\"date\": \"2020-04-18\", \"region\": \"Valpara\\u00edso\", \"fallecidos\": 4, \"codigo region\": 5}, {\"date\": \"2020-04-18\", \"region\": \"Metropolitana\", \"fallecidos\": 58, \"codigo region\": 6}, {\"date\": \"2020-04-18\", \"region\": \"O\\u2019Higgins\", \"fallecidos\": 0, \"codigo region\": 7}, {\"date\": \"2020-04-18\", \"region\": \"Maule\", \"fallecidos\": 8, \"codigo region\": 8}, {\"date\": \"2020-04-18\", \"region\": \"\\u00d1uble\", \"fallecidos\": 12, \"codigo region\": 9}, {\"date\": \"2020-04-18\", \"region\": \"Biob\\u00edo\", \"fallecidos\": 3, \"codigo region\": 10}, {\"date\": \"2020-04-18\", \"region\": \"Araucan\\u00eda\", \"fallecidos\": 23, \"codigo region\": 11}, {\"date\": \"2020-04-18\", \"region\": \"Los R\\u00edos\", \"fallecidos\": 3, \"codigo region\": 12}, {\"date\": \"2020-04-18\", \"region\": \"Los Lagos\", \"fallecidos\": 6, \"codigo region\": 13}, {\"date\": \"2020-04-18\", \"region\": \"Ays\\u00e9n\", \"fallecidos\": 0, \"codigo region\": 14}, {\"date\": \"2020-04-18\", \"region\": \"Magallanes\", \"fallecidos\": 6, \"codigo region\": 15}, {\"date\": \"2020-04-19\", \"region\": \"Arica y Parinacota\", \"fallecidos\": 2, \"codigo region\": 0}, {\"date\": \"2020-04-19\", \"region\": \"Tarapac\\u00e1\", \"fallecidos\": 0, \"codigo region\": 1}, {\"date\": \"2020-04-19\", \"region\": \"Antofagasta\", \"fallecidos\": 1, \"codigo region\": 2}, {\"date\": \"2020-04-19\", \"region\": \"Atacama\", \"fallecidos\": 0, \"codigo region\": 3}, {\"date\": \"2020-04-19\", \"region\": \"Coquimbo\", \"fallecidos\": 0, \"codigo region\": 4}, {\"date\": \"2020-04-19\", \"region\": \"Valpara\\u00edso\", \"fallecidos\": 5, \"codigo region\": 5}, {\"date\": \"2020-04-19\", \"region\": \"Metropolitana\", \"fallecidos\": 63, \"codigo region\": 6}, {\"date\": \"2020-04-19\", \"region\": \"O\\u2019Higgins\", \"fallecidos\": 0, \"codigo region\": 7}, {\"date\": \"2020-04-19\", \"region\": \"Maule\", \"fallecidos\": 8, \"codigo region\": 8}, {\"date\": \"2020-04-19\", \"region\": \"\\u00d1uble\", \"fallecidos\": 13, \"codigo region\": 9}, {\"date\": \"2020-04-19\", \"region\": \"Biob\\u00edo\", \"fallecidos\": 3, \"codigo region\": 10}, {\"date\": \"2020-04-19\", \"region\": \"Araucan\\u00eda\", \"fallecidos\": 23, \"codigo region\": 11}, {\"date\": \"2020-04-19\", \"region\": \"Los R\\u00edos\", \"fallecidos\": 3, \"codigo region\": 12}, {\"date\": \"2020-04-19\", \"region\": \"Los Lagos\", \"fallecidos\": 6, \"codigo region\": 13}, {\"date\": \"2020-04-19\", \"region\": \"Ays\\u00e9n\", \"fallecidos\": 0, \"codigo region\": 14}, {\"date\": \"2020-04-19\", \"region\": \"Magallanes\", \"fallecidos\": 6, \"codigo region\": 15}, {\"date\": \"2020-04-20\", \"region\": \"Arica y Parinacota\", \"fallecidos\": 2, \"codigo region\": 0}, {\"date\": \"2020-04-20\", \"region\": \"Tarapac\\u00e1\", \"fallecidos\": 0, \"codigo region\": 1}, {\"date\": \"2020-04-20\", \"region\": \"Antofagasta\", \"fallecidos\": 1, \"codigo region\": 2}, {\"date\": \"2020-04-20\", \"region\": \"Atacama\", \"fallecidos\": 0, \"codigo region\": 3}, {\"date\": \"2020-04-20\", \"region\": \"Coquimbo\", \"fallecidos\": 0, \"codigo region\": 4}, {\"date\": \"2020-04-20\", \"region\": \"Valpara\\u00edso\", \"fallecidos\": 5, \"codigo region\": 5}, {\"date\": \"2020-04-20\", \"region\": \"Metropolitana\", \"fallecidos\": 67, \"codigo region\": 6}, {\"date\": \"2020-04-20\", \"region\": \"O\\u2019Higgins\", \"fallecidos\": 0, \"codigo region\": 7}, {\"date\": \"2020-04-20\", \"region\": \"Maule\", \"fallecidos\": 10, \"codigo region\": 8}, {\"date\": \"2020-04-20\", \"region\": \"\\u00d1uble\", \"fallecidos\": 13, \"codigo region\": 9}, {\"date\": \"2020-04-20\", \"region\": \"Biob\\u00edo\", \"fallecidos\": 3, \"codigo region\": 10}, {\"date\": \"2020-04-20\", \"region\": \"Araucan\\u00eda\", \"fallecidos\": 23, \"codigo region\": 11}, {\"date\": \"2020-04-20\", \"region\": \"Los R\\u00edos\", \"fallecidos\": 3, \"codigo region\": 12}, {\"date\": \"2020-04-20\", \"region\": \"Los Lagos\", \"fallecidos\": 6, \"codigo region\": 13}, {\"date\": \"2020-04-20\", \"region\": \"Ays\\u00e9n\", \"fallecidos\": 0, \"codigo region\": 14}, {\"date\": \"2020-04-20\", \"region\": \"Magallanes\", \"fallecidos\": 6, \"codigo region\": 15}, {\"date\": \"2020-04-21\", \"region\": \"Arica y Parinacota\", \"fallecidos\": 2, \"codigo region\": 0}, {\"date\": \"2020-04-21\", \"region\": \"Tarapac\\u00e1\", \"fallecidos\": 0, \"codigo region\": 1}, {\"date\": \"2020-04-21\", \"region\": \"Antofagasta\", \"fallecidos\": 1, \"codigo region\": 2}, {\"date\": \"2020-04-21\", \"region\": \"Atacama\", \"fallecidos\": 0, \"codigo region\": 3}, {\"date\": \"2020-04-21\", \"region\": \"Coquimbo\", \"fallecidos\": 0, \"codigo region\": 4}, {\"date\": \"2020-04-21\", \"region\": \"Valpara\\u00edso\", \"fallecidos\": 6, \"codigo region\": 5}, {\"date\": \"2020-04-21\", \"region\": \"Metropolitana\", \"fallecidos\": 69, \"codigo region\": 6}, {\"date\": \"2020-04-21\", \"region\": \"O\\u2019Higgins\", \"fallecidos\": 1, \"codigo region\": 7}, {\"date\": \"2020-04-21\", \"region\": \"Maule\", \"fallecidos\": 10, \"codigo region\": 8}, {\"date\": \"2020-04-21\", \"region\": \"\\u00d1uble\", \"fallecidos\": 13, \"codigo region\": 9}, {\"date\": \"2020-04-21\", \"region\": \"Biob\\u00edo\", \"fallecidos\": 4, \"codigo region\": 10}, {\"date\": \"2020-04-21\", \"region\": \"Araucan\\u00eda\", \"fallecidos\": 25, \"codigo region\": 11}, {\"date\": \"2020-04-21\", \"region\": \"Los R\\u00edos\", \"fallecidos\": 3, \"codigo region\": 12}, {\"date\": \"2020-04-21\", \"region\": \"Los Lagos\", \"fallecidos\": 6, \"codigo region\": 13}, {\"date\": \"2020-04-21\", \"region\": \"Ays\\u00e9n\", \"fallecidos\": 0, \"codigo region\": 14}, {\"date\": \"2020-04-21\", \"region\": \"Magallanes\", \"fallecidos\": 7, \"codigo region\": 15}, {\"date\": \"2020-04-22\", \"region\": \"Arica y Parinacota\", \"fallecidos\": 2, \"codigo region\": 0}, {\"date\": \"2020-04-22\", \"region\": \"Tarapac\\u00e1\", \"fallecidos\": 0, \"codigo region\": 1}, {\"date\": \"2020-04-22\", \"region\": \"Antofagasta\", \"fallecidos\": 2, \"codigo region\": 2}, {\"date\": \"2020-04-22\", \"region\": \"Atacama\", \"fallecidos\": 0, \"codigo region\": 3}, {\"date\": \"2020-04-22\", \"region\": \"Coquimbo\", \"fallecidos\": 0, \"codigo region\": 4}, {\"date\": \"2020-04-22\", \"region\": \"Valpara\\u00edso\", \"fallecidos\": 7, \"codigo region\": 5}, {\"date\": \"2020-04-22\", \"region\": \"Metropolitana\", \"fallecidos\": 78, \"codigo region\": 6}, {\"date\": \"2020-04-22\", \"region\": \"O\\u2019Higgins\", \"fallecidos\": 1, \"codigo region\": 7}, {\"date\": \"2020-04-22\", \"region\": \"Maule\", \"fallecidos\": 10, \"codigo region\": 8}, {\"date\": \"2020-04-22\", \"region\": \"\\u00d1uble\", \"fallecidos\": 13, \"codigo region\": 9}, {\"date\": \"2020-04-22\", \"region\": \"Biob\\u00edo\", \"fallecidos\": 5, \"codigo region\": 10}, {\"date\": \"2020-04-22\", \"region\": \"Araucan\\u00eda\", \"fallecidos\": 26, \"codigo region\": 11}, {\"date\": \"2020-04-22\", \"region\": \"Los R\\u00edos\", \"fallecidos\": 3, \"codigo region\": 12}, {\"date\": \"2020-04-22\", \"region\": \"Los Lagos\", \"fallecidos\": 6, \"codigo region\": 13}, {\"date\": \"2020-04-22\", \"region\": \"Ays\\u00e9n\", \"fallecidos\": 0, \"codigo region\": 14}, {\"date\": \"2020-04-22\", \"region\": \"Magallanes\", \"fallecidos\": 7, \"codigo region\": 15}, {\"date\": \"2020-04-23\", \"region\": \"Arica y Parinacota\", \"fallecidos\": 2, \"codigo region\": 0}, {\"date\": \"2020-04-23\", \"region\": \"Tarapac\\u00e1\", \"fallecidos\": 0, \"codigo region\": 1}, {\"date\": \"2020-04-23\", \"region\": \"Antofagasta\", \"fallecidos\": 2, \"codigo region\": 2}, {\"date\": \"2020-04-23\", \"region\": \"Atacama\", \"fallecidos\": 0, \"codigo region\": 3}, {\"date\": \"2020-04-23\", \"region\": \"Coquimbo\", \"fallecidos\": 0, \"codigo region\": 4}, {\"date\": \"2020-04-23\", \"region\": \"Valpara\\u00edso\", \"fallecidos\": 7, \"codigo region\": 5}, {\"date\": \"2020-04-23\", \"region\": \"Metropolitana\", \"fallecidos\": 85, \"codigo region\": 6}, {\"date\": \"2020-04-23\", \"region\": \"O\\u2019Higgins\", \"fallecidos\": 1, \"codigo region\": 7}, {\"date\": \"2020-04-23\", \"region\": \"Maule\", \"fallecidos\": 10, \"codigo region\": 8}, {\"date\": \"2020-04-23\", \"region\": \"\\u00d1uble\", \"fallecidos\": 13, \"codigo region\": 9}, {\"date\": \"2020-04-23\", \"region\": \"Biob\\u00edo\", \"fallecidos\": 5, \"codigo region\": 10}, {\"date\": \"2020-04-23\", \"region\": \"Araucan\\u00eda\", \"fallecidos\": 26, \"codigo region\": 11}, {\"date\": \"2020-04-23\", \"region\": \"Los R\\u00edos\", \"fallecidos\": 3, \"codigo region\": 12}, {\"date\": \"2020-04-23\", \"region\": \"Los Lagos\", \"fallecidos\": 7, \"codigo region\": 13}, {\"date\": \"2020-04-23\", \"region\": \"Ays\\u00e9n\", \"fallecidos\": 0, \"codigo region\": 14}, {\"date\": \"2020-04-23\", \"region\": \"Magallanes\", \"fallecidos\": 7, \"codigo region\": 15}, {\"date\": \"2020-04-24\", \"region\": \"Arica y Parinacota\", \"fallecidos\": 3, \"codigo region\": 0}, {\"date\": \"2020-04-24\", \"region\": \"Tarapac\\u00e1\", \"fallecidos\": 0, \"codigo region\": 1}, {\"date\": \"2020-04-24\", \"region\": \"Antofagasta\", \"fallecidos\": 2, \"codigo region\": 2}, {\"date\": \"2020-04-24\", \"region\": \"Atacama\", \"fallecidos\": 0, \"codigo region\": 3}, {\"date\": \"2020-04-24\", \"region\": \"Coquimbo\", \"fallecidos\": 0, \"codigo region\": 4}, {\"date\": \"2020-04-24\", \"region\": \"Valpara\\u00edso\", \"fallecidos\": 8, \"codigo region\": 5}, {\"date\": \"2020-04-24\", \"region\": \"Metropolitana\", \"fallecidos\": 86, \"codigo region\": 6}, {\"date\": \"2020-04-24\", \"region\": \"O\\u2019Higgins\", \"fallecidos\": 1, \"codigo region\": 7}, {\"date\": \"2020-04-24\", \"region\": \"Maule\", \"fallecidos\": 10, \"codigo region\": 8}, {\"date\": \"2020-04-24\", \"region\": \"\\u00d1uble\", \"fallecidos\": 14, \"codigo region\": 9}, {\"date\": \"2020-04-24\", \"region\": \"Biob\\u00edo\", \"fallecidos\": 5, \"codigo region\": 10}, {\"date\": \"2020-04-24\", \"region\": \"Araucan\\u00eda\", \"fallecidos\": 26, \"codigo region\": 11}, {\"date\": \"2020-04-24\", \"region\": \"Los R\\u00edos\", \"fallecidos\": 3, \"codigo region\": 12}, {\"date\": \"2020-04-24\", \"region\": \"Los Lagos\", \"fallecidos\": 8, \"codigo region\": 13}, {\"date\": \"2020-04-24\", \"region\": \"Ays\\u00e9n\", \"fallecidos\": 0, \"codigo region\": 14}, {\"date\": \"2020-04-24\", \"region\": \"Magallanes\", \"fallecidos\": 8, \"codigo region\": 15}, {\"date\": \"2020-04-25\", \"region\": \"Arica y Parinacota\", \"fallecidos\": 3, \"codigo region\": 0}, {\"date\": \"2020-04-25\", \"region\": \"Tarapac\\u00e1\", \"fallecidos\": 1, \"codigo region\": 1}, {\"date\": \"2020-04-25\", \"region\": \"Antofagasta\", \"fallecidos\": 3, \"codigo region\": 2}, {\"date\": \"2020-04-25\", \"region\": \"Atacama\", \"fallecidos\": 0, \"codigo region\": 3}, {\"date\": \"2020-04-25\", \"region\": \"Coquimbo\", \"fallecidos\": 0, \"codigo region\": 4}, {\"date\": \"2020-04-25\", \"region\": \"Valpara\\u00edso\", \"fallecidos\": 9, \"codigo region\": 5}, {\"date\": \"2020-04-25\", \"region\": \"Metropolitana\", \"fallecidos\": 89, \"codigo region\": 6}, {\"date\": \"2020-04-25\", \"region\": \"O\\u2019Higgins\", \"fallecidos\": 1, \"codigo region\": 7}, {\"date\": \"2020-04-25\", \"region\": \"Maule\", \"fallecidos\": 10, \"codigo region\": 8}, {\"date\": \"2020-04-25\", \"region\": \"\\u00d1uble\", \"fallecidos\": 14, \"codigo region\": 9}, {\"date\": \"2020-04-25\", \"region\": \"Biob\\u00edo\", \"fallecidos\": 5, \"codigo region\": 10}, {\"date\": \"2020-04-25\", \"region\": \"Araucan\\u00eda\", \"fallecidos\": 27, \"codigo region\": 11}, {\"date\": \"2020-04-25\", \"region\": \"Los R\\u00edos\", \"fallecidos\": 3, \"codigo region\": 12}, {\"date\": \"2020-04-25\", \"region\": \"Los Lagos\", \"fallecidos\": 8, \"codigo region\": 13}, {\"date\": \"2020-04-25\", \"region\": \"Ays\\u00e9n\", \"fallecidos\": 0, \"codigo region\": 14}, {\"date\": \"2020-04-25\", \"region\": \"Magallanes\", \"fallecidos\": 8, \"codigo region\": 15}, {\"date\": \"2020-04-26\", \"region\": \"Arica y Parinacota\", \"fallecidos\": 3, \"codigo region\": 0}, {\"date\": \"2020-04-26\", \"region\": \"Tarapac\\u00e1\", \"fallecidos\": 1, \"codigo region\": 1}, {\"date\": \"2020-04-26\", \"region\": \"Antofagasta\", \"fallecidos\": 4, \"codigo region\": 2}, {\"date\": \"2020-04-26\", \"region\": \"Atacama\", \"fallecidos\": 0, \"codigo region\": 3}, {\"date\": \"2020-04-26\", \"region\": \"Coquimbo\", \"fallecidos\": 0, \"codigo region\": 4}, {\"date\": \"2020-04-26\", \"region\": \"Valpara\\u00edso\", \"fallecidos\": 9, \"codigo region\": 5}, {\"date\": \"2020-04-26\", \"region\": \"Metropolitana\", \"fallecidos\": 91, \"codigo region\": 6}, {\"date\": \"2020-04-26\", \"region\": \"O\\u2019Higgins\", \"fallecidos\": 1, \"codigo region\": 7}, {\"date\": \"2020-04-26\", \"region\": \"Maule\", \"fallecidos\": 11, \"codigo region\": 8}, {\"date\": \"2020-04-26\", \"region\": \"\\u00d1uble\", \"fallecidos\": 14, \"codigo region\": 9}, {\"date\": \"2020-04-26\", \"region\": \"Biob\\u00edo\", \"fallecidos\": 6, \"codigo region\": 10}, {\"date\": \"2020-04-26\", \"region\": \"Araucan\\u00eda\", \"fallecidos\": 29, \"codigo region\": 11}, {\"date\": \"2020-04-26\", \"region\": \"Los R\\u00edos\", \"fallecidos\": 3, \"codigo region\": 12}, {\"date\": \"2020-04-26\", \"region\": \"Los Lagos\", \"fallecidos\": 8, \"codigo region\": 13}, {\"date\": \"2020-04-26\", \"region\": \"Ays\\u00e9n\", \"fallecidos\": 0, \"codigo region\": 14}, {\"date\": \"2020-04-26\", \"region\": \"Magallanes\", \"fallecidos\": 9, \"codigo region\": 15}, {\"date\": \"2020-04-27\", \"region\": \"Arica y Parinacota\", \"fallecidos\": 3, \"codigo region\": 0}, {\"date\": \"2020-04-27\", \"region\": \"Tarapac\\u00e1\", \"fallecidos\": 1, \"codigo region\": 1}, {\"date\": \"2020-04-27\", \"region\": \"Antofagasta\", \"fallecidos\": 4, \"codigo region\": 2}, {\"date\": \"2020-04-27\", \"region\": \"Atacama\", \"fallecidos\": 0, \"codigo region\": 3}, {\"date\": \"2020-04-27\", \"region\": \"Coquimbo\", \"fallecidos\": 0, \"codigo region\": 4}, {\"date\": \"2020-04-27\", \"region\": \"Valpara\\u00edso\", \"fallecidos\": 9, \"codigo region\": 5}, {\"date\": \"2020-04-27\", \"region\": \"Metropolitana\", \"fallecidos\": 95, \"codigo region\": 6}, {\"date\": \"2020-04-27\", \"region\": \"O\\u2019Higgins\", \"fallecidos\": 1, \"codigo region\": 7}, {\"date\": \"2020-04-27\", \"region\": \"Maule\", \"fallecidos\": 12, \"codigo region\": 8}, {\"date\": \"2020-04-27\", \"region\": \"\\u00d1uble\", \"fallecidos\": 14, \"codigo region\": 9}, {\"date\": \"2020-04-27\", \"region\": \"Biob\\u00edo\", \"fallecidos\": 6, \"codigo region\": 10}, {\"date\": \"2020-04-27\", \"region\": \"Araucan\\u00eda\", \"fallecidos\": 32, \"codigo region\": 11}, {\"date\": \"2020-04-27\", \"region\": \"Los R\\u00edos\", \"fallecidos\": 3, \"codigo region\": 12}, {\"date\": \"2020-04-27\", \"region\": \"Los Lagos\", \"fallecidos\": 8, \"codigo region\": 13}, {\"date\": \"2020-04-27\", \"region\": \"Ays\\u00e9n\", \"fallecidos\": 0, \"codigo region\": 14}, {\"date\": \"2020-04-27\", \"region\": \"Magallanes\", \"fallecidos\": 10, \"codigo region\": 15}]}}, {\"mode\": \"vega-lite\"});\n",
       "</script>"
      ],
      "text/plain": [
       "alt.HConcatChart(...)"
      ]
     },
     "execution_count": 48,
     "metadata": {},
     "output_type": "execute_result"
    }
   ],
   "source": [
    "#hide_input\n",
    "\n",
    "input_dropdown = alt.binding_select(options=new_data['region'].unique())\n",
    "selection1 = alt.selection_single(fields=['region'], bind=input_dropdown, name=' ')\n",
    "selection2 = alt.selection_multi(fields=['region'], on='mouseover')\n",
    "\n",
    "color = alt.condition(selection1 | selection2,\n",
    "                    alt.Color('region:N', scale=alt.Scale(scheme='tableau20'), legend=None),\n",
    "                    alt.value('lightgray'))\n",
    "\n",
    "bars = alt.Chart(new_data).mark_bar().encode(\n",
    "    x=alt.X('date:O', axis=alt.Axis(title='Fecha (año-mes-día)')),\n",
    "    y=alt.Y('fallecidos', axis=alt.Axis(title='Fallecidos confirmados')),\n",
    "    color=color,\n",
    "    tooltip=['date', 'region', 'fallecidos'],\n",
    "    order=alt.Order(\n",
    "    # Sort the segments of the bars by this field\n",
    "    'codigo region',\n",
    "    sort='descending'\n",
    "    )\n",
    "    ).properties(\n",
    "    title='COVID-19 en Chile: Total de fallecidos confirmados por región'\n",
    ").add_selection(\n",
    "    selection1, selection2\n",
    ").transform_filter(\n",
    "    selection1\n",
    ")\n",
    "\n",
    "legend = alt.Chart(new_data).mark_point().encode(\n",
    "    y=alt.Y('region:N', axis=alt.Axis(orient='right'), sort=regiones),\n",
    "    color=color\n",
    ").add_selection(\n",
    "    selection1, selection2\n",
    ")\n",
    "\n",
    "bars.properties(width=600, height=400) | legend"
   ]
  },
  {
   "cell_type": "markdown",
   "metadata": {},
   "source": [
    "Fuente: [Ministerio de Ciencia](https://github.com/MinCiencia/Datos-COVID19)"
   ]
  },
  {
   "cell_type": "markdown",
   "metadata": {},
   "source": [
    "# Evolución de pacientes en UCI por región"
   ]
  },
  {
   "cell_type": "code",
   "execution_count": 49,
   "metadata": {},
   "outputs": [],
   "source": [
    "#hide\n",
    "data_raw = pd.read_csv(\n",
    "    'https://raw.githubusercontent.com/MinCiencia/Datos-COVID19/master/output/producto8/UCI.csv',\n",
    "    index_col='Region')\n",
    "data_raw = data_raw.drop(columns='Codigo region')\n",
    "data_raw.loc['Total'] = data_raw.sum(axis=0)\n",
    "data_raw = data_raw.drop(columns='Poblacion')"
   ]
  },
  {
   "cell_type": "code",
   "execution_count": 50,
   "metadata": {},
   "outputs": [],
   "source": [
    "#hide\n",
    "data_raw = data_raw.drop(\"Total\")"
   ]
  },
  {
   "cell_type": "code",
   "execution_count": 51,
   "metadata": {},
   "outputs": [],
   "source": [
    "#hide\n",
    "data = pd.DataFrame()\n",
    "i = 0\n",
    "for date in data_raw.keys():\n",
    "    for n, region in enumerate(data_raw.index):\n",
    "        data[i] = date, region, data_raw[date].loc[region], n\n",
    "        i += 1"
   ]
  },
  {
   "cell_type": "code",
   "execution_count": 52,
   "metadata": {},
   "outputs": [],
   "source": [
    "#hide\n",
    "data_raw = data_raw.reset_index()"
   ]
  },
  {
   "cell_type": "code",
   "execution_count": 53,
   "metadata": {},
   "outputs": [],
   "source": [
    "#hide\n",
    "regiones = data_raw['Region'].values"
   ]
  },
  {
   "cell_type": "code",
   "execution_count": 54,
   "metadata": {},
   "outputs": [],
   "source": [
    "#hide\n",
    "data = data.T"
   ]
  },
  {
   "cell_type": "code",
   "execution_count": 55,
   "metadata": {},
   "outputs": [],
   "source": [
    "#hide\n",
    "data = data.rename(columns={0: \"date\", 1: \"region\", 2: \"pacientes\", 3: \"codigo region\"})"
   ]
  },
  {
   "cell_type": "code",
   "execution_count": 56,
   "metadata": {},
   "outputs": [],
   "source": [
    "#hide\n",
    "data[\"pacientes\"] = data[\"pacientes\"].astype(int)"
   ]
  },
  {
   "cell_type": "code",
   "execution_count": 57,
   "metadata": {
    "scrolled": false
   },
   "outputs": [
    {
     "data": {
      "text/html": [
       "\n",
       "<div id=\"altair-viz-50aaea45cc604f70a224ba2e12d9c384\"></div>\n",
       "<script type=\"text/javascript\">\n",
       "  (function(spec, embedOpt){\n",
       "    let outputDiv = document.currentScript.previousElementSibling;\n",
       "    if (outputDiv.id !== \"altair-viz-50aaea45cc604f70a224ba2e12d9c384\") {\n",
       "      outputDiv = document.getElementById(\"altair-viz-50aaea45cc604f70a224ba2e12d9c384\");\n",
       "    }\n",
       "    const paths = {\n",
       "      \"vega\": \"https://cdn.jsdelivr.net/npm//vega@5?noext\",\n",
       "      \"vega-lib\": \"https://cdn.jsdelivr.net/npm//vega-lib?noext\",\n",
       "      \"vega-lite\": \"https://cdn.jsdelivr.net/npm//vega-lite@4.8.1?noext\",\n",
       "      \"vega-embed\": \"https://cdn.jsdelivr.net/npm//vega-embed@6?noext\",\n",
       "    };\n",
       "\n",
       "    function loadScript(lib) {\n",
       "      return new Promise(function(resolve, reject) {\n",
       "        var s = document.createElement('script');\n",
       "        s.src = paths[lib];\n",
       "        s.async = true;\n",
       "        s.onload = () => resolve(paths[lib]);\n",
       "        s.onerror = () => reject(`Error loading script: ${paths[lib]}`);\n",
       "        document.getElementsByTagName(\"head\")[0].appendChild(s);\n",
       "      });\n",
       "    }\n",
       "\n",
       "    function showError(err) {\n",
       "      outputDiv.innerHTML = `<div class=\"error\" style=\"color:red;\">${err}</div>`;\n",
       "      throw err;\n",
       "    }\n",
       "\n",
       "    function displayChart(vegaEmbed) {\n",
       "      vegaEmbed(outputDiv, spec, embedOpt)\n",
       "        .catch(err => showError(`Javascript Error: ${err.message}<br>This usually means there's a typo in your chart specification. See the javascript console for the full traceback.`));\n",
       "    }\n",
       "\n",
       "    if(typeof define === \"function\" && define.amd) {\n",
       "      requirejs.config({paths});\n",
       "      require([\"vega-embed\"], displayChart, err => showError(`Error loading script: ${err.message}`));\n",
       "    } else if (typeof vegaEmbed === \"function\") {\n",
       "      displayChart(vegaEmbed);\n",
       "    } else {\n",
       "      loadScript(\"vega\")\n",
       "        .then(() => loadScript(\"vega-lite\"))\n",
       "        .then(() => loadScript(\"vega-embed\"))\n",
       "        .catch(showError)\n",
       "        .then(() => displayChart(vegaEmbed));\n",
       "    }\n",
       "  })({\"config\": {\"view\": {\"continuousWidth\": 400, \"continuousHeight\": 300}}, \"hconcat\": [{\"data\": {\"name\": \"data-04c18a44bcd9fd145bcd6611642a8d1e\"}, \"mark\": \"bar\", \"encoding\": {\"color\": {\"condition\": {\"type\": \"nominal\", \"field\": \"region\", \"legend\": null, \"selection\": {\"or\": [\" \", \"selector003\"]}}, \"value\": \"lightgray\"}, \"order\": {\"type\": \"quantitative\", \"field\": \"codigo region\", \"sort\": \"descending\"}, \"tooltip\": [{\"type\": \"nominal\", \"field\": \"date\"}, {\"type\": \"nominal\", \"field\": \"region\"}, {\"type\": \"quantitative\", \"field\": \"pacientes\"}], \"x\": {\"type\": \"ordinal\", \"axis\": {\"title\": \"Fecha (a\\u00f1o-mes-d\\u00eda)\"}, \"field\": \"date\"}, \"y\": {\"type\": \"quantitative\", \"field\": \"pacientes\"}}, \"height\": 400, \"selection\": {\" \": {\"type\": \"single\", \"fields\": [\"region\"], \"bind\": {\"input\": \"select\", \"options\": [\"Arica y Parinacota\", \"Tarapac\\u00e1\", \"Antofagasta\", \"Atacama\", \"Coquimbo\", \"Valpara\\u00edso\", \"Metropolitana\", \"O\\u2019Higgins\", \"Maule\", \"\\u00d1uble\", \"Biob\\u00edo\", \"Araucan\\u00eda\", \"Los R\\u00edos\", \"Los Lagos\", \"Ays\\u00e9n\", \"Magallanes\"]}}, \"selector003\": {\"type\": \"multi\", \"fields\": [\"region\"], \"on\": \"mouseover\"}}, \"title\": \"COVID-19 en Chile: Pacientes en UCI por regi\\u00f3n\", \"transform\": [{\"filter\": {\"selection\": \" \"}}], \"width\": 600}, {\"data\": {\"name\": \"data-82e630d691888498cfe2166e6e77d3ff\"}, \"mark\": \"point\", \"encoding\": {\"color\": {\"condition\": {\"type\": \"nominal\", \"field\": \"region\", \"legend\": null, \"selection\": {\"or\": [\" \", \"selector003\"]}}, \"value\": \"lightgray\"}, \"y\": {\"type\": \"nominal\", \"axis\": {\"orient\": \"right\"}, \"field\": \"region\", \"sort\": [\"Arica y Parinacota\", \"Tarapac\\u00e1\", \"Antofagasta\", \"Atacama\", \"Coquimbo\", \"Valpara\\u00edso\", \"Metropolitana\", \"O\\u2019Higgins\", \"Maule\", \"\\u00d1uble\", \"Biob\\u00edo\", \"Araucan\\u00eda\", \"Los R\\u00edos\", \"Los Lagos\", \"Ays\\u00e9n\", \"Magallanes\"]}}, \"selection\": {\" \": {\"type\": \"single\", \"fields\": [\"region\"], \"bind\": {\"input\": \"select\", \"options\": [\"Arica y Parinacota\", \"Tarapac\\u00e1\", \"Antofagasta\", \"Atacama\", \"Coquimbo\", \"Valpara\\u00edso\", \"Metropolitana\", \"O\\u2019Higgins\", \"Maule\", \"\\u00d1uble\", \"Biob\\u00edo\", \"Araucan\\u00eda\", \"Los R\\u00edos\", \"Los Lagos\", \"Ays\\u00e9n\", \"Magallanes\"]}}, \"selector003\": {\"type\": \"multi\", \"fields\": [\"region\"], \"on\": \"mouseover\"}}}], \"$schema\": \"https://vega.github.io/schema/vega-lite/v4.8.1.json\", \"datasets\": {\"data-04c18a44bcd9fd145bcd6611642a8d1e\": [{\"date\": \"2020-04-01\", \"region\": \"Arica y Parinacota\", \"pacientes\": 0, \"codigo region\": 0}, {\"date\": \"2020-04-01\", \"region\": \"Tarapac\\u00e1\", \"pacientes\": 1, \"codigo region\": 1}, {\"date\": \"2020-04-01\", \"region\": \"Antofagasta\", \"pacientes\": 3, \"codigo region\": 2}, {\"date\": \"2020-04-01\", \"region\": \"Atacama\", \"pacientes\": 0, \"codigo region\": 3}, {\"date\": \"2020-04-01\", \"region\": \"Coquimbo\", \"pacientes\": 1, \"codigo region\": 4}, {\"date\": \"2020-04-01\", \"region\": \"Valpara\\u00edso\", \"pacientes\": 14, \"codigo region\": 5}, {\"date\": \"2020-04-01\", \"region\": \"Metropolitana\", \"pacientes\": 83, \"codigo region\": 6}, {\"date\": \"2020-04-01\", \"region\": \"O\\u2019Higgins\", \"pacientes\": 5, \"codigo region\": 7}, {\"date\": \"2020-04-01\", \"region\": \"Maule\", \"pacientes\": 3, \"codigo region\": 8}, {\"date\": \"2020-04-01\", \"region\": \"\\u00d1uble\", \"pacientes\": 7, \"codigo region\": 9}, {\"date\": \"2020-04-01\", \"region\": \"Biob\\u00edo\", \"pacientes\": 14, \"codigo region\": 10}, {\"date\": \"2020-04-01\", \"region\": \"Araucan\\u00eda\", \"pacientes\": 26, \"codigo region\": 11}, {\"date\": \"2020-04-01\", \"region\": \"Los R\\u00edos\", \"pacientes\": 1, \"codigo region\": 12}, {\"date\": \"2020-04-01\", \"region\": \"Los Lagos\", \"pacientes\": 10, \"codigo region\": 13}, {\"date\": \"2020-04-01\", \"region\": \"Ays\\u00e9n\", \"pacientes\": 0, \"codigo region\": 14}, {\"date\": \"2020-04-01\", \"region\": \"Magallanes\", \"pacientes\": 5, \"codigo region\": 15}, {\"date\": \"2020-04-02\", \"region\": \"Arica y Parinacota\", \"pacientes\": 0, \"codigo region\": 0}, {\"date\": \"2020-04-02\", \"region\": \"Tarapac\\u00e1\", \"pacientes\": 1, \"codigo region\": 1}, {\"date\": \"2020-04-02\", \"region\": \"Antofagasta\", \"pacientes\": 4, \"codigo region\": 2}, {\"date\": \"2020-04-02\", \"region\": \"Atacama\", \"pacientes\": 0, \"codigo region\": 3}, {\"date\": \"2020-04-02\", \"region\": \"Coquimbo\", \"pacientes\": 1, \"codigo region\": 4}, {\"date\": \"2020-04-02\", \"region\": \"Valpara\\u00edso\", \"pacientes\": 17, \"codigo region\": 5}, {\"date\": \"2020-04-02\", \"region\": \"Metropolitana\", \"pacientes\": 90, \"codigo region\": 6}, {\"date\": \"2020-04-02\", \"region\": \"O\\u2019Higgins\", \"pacientes\": 5, \"codigo region\": 7}, {\"date\": \"2020-04-02\", \"region\": \"Maule\", \"pacientes\": 3, \"codigo region\": 8}, {\"date\": \"2020-04-02\", \"region\": \"\\u00d1uble\", \"pacientes\": 8, \"codigo region\": 9}, {\"date\": \"2020-04-02\", \"region\": \"Biob\\u00edo\", \"pacientes\": 18, \"codigo region\": 10}, {\"date\": \"2020-04-02\", \"region\": \"Araucan\\u00eda\", \"pacientes\": 29, \"codigo region\": 11}, {\"date\": \"2020-04-02\", \"region\": \"Los R\\u00edos\", \"pacientes\": 2, \"codigo region\": 12}, {\"date\": \"2020-04-02\", \"region\": \"Los Lagos\", \"pacientes\": 12, \"codigo region\": 13}, {\"date\": \"2020-04-02\", \"region\": \"Ays\\u00e9n\", \"pacientes\": 0, \"codigo region\": 14}, {\"date\": \"2020-04-02\", \"region\": \"Magallanes\", \"pacientes\": 10, \"codigo region\": 15}, {\"date\": \"2020-04-03\", \"region\": \"Arica y Parinacota\", \"pacientes\": 0, \"codigo region\": 0}, {\"date\": \"2020-04-03\", \"region\": \"Tarapac\\u00e1\", \"pacientes\": 1, \"codigo region\": 1}, {\"date\": \"2020-04-03\", \"region\": \"Antofagasta\", \"pacientes\": 3, \"codigo region\": 2}, {\"date\": \"2020-04-03\", \"region\": \"Atacama\", \"pacientes\": 0, \"codigo region\": 3}, {\"date\": \"2020-04-03\", \"region\": \"Coquimbo\", \"pacientes\": 1, \"codigo region\": 4}, {\"date\": \"2020-04-03\", \"region\": \"Valpara\\u00edso\", \"pacientes\": 18, \"codigo region\": 5}, {\"date\": \"2020-04-03\", \"region\": \"Metropolitana\", \"pacientes\": 107, \"codigo region\": 6}, {\"date\": \"2020-04-03\", \"region\": \"O\\u2019Higgins\", \"pacientes\": 5, \"codigo region\": 7}, {\"date\": \"2020-04-03\", \"region\": \"Maule\", \"pacientes\": 3, \"codigo region\": 8}, {\"date\": \"2020-04-03\", \"region\": \"\\u00d1uble\", \"pacientes\": 10, \"codigo region\": 9}, {\"date\": \"2020-04-03\", \"region\": \"Biob\\u00edo\", \"pacientes\": 21, \"codigo region\": 10}, {\"date\": \"2020-04-03\", \"region\": \"Araucan\\u00eda\", \"pacientes\": 37, \"codigo region\": 11}, {\"date\": \"2020-04-03\", \"region\": \"Los R\\u00edos\", \"pacientes\": 2, \"codigo region\": 12}, {\"date\": \"2020-04-03\", \"region\": \"Los Lagos\", \"pacientes\": 18, \"codigo region\": 13}, {\"date\": \"2020-04-03\", \"region\": \"Ays\\u00e9n\", \"pacientes\": 0, \"codigo region\": 14}, {\"date\": \"2020-04-03\", \"region\": \"Magallanes\", \"pacientes\": 11, \"codigo region\": 15}, {\"date\": \"2020-04-04\", \"region\": \"Arica y Parinacota\", \"pacientes\": 0, \"codigo region\": 0}, {\"date\": \"2020-04-04\", \"region\": \"Tarapac\\u00e1\", \"pacientes\": 1, \"codigo region\": 1}, {\"date\": \"2020-04-04\", \"region\": \"Antofagasta\", \"pacientes\": 3, \"codigo region\": 2}, {\"date\": \"2020-04-04\", \"region\": \"Atacama\", \"pacientes\": 0, \"codigo region\": 3}, {\"date\": \"2020-04-04\", \"region\": \"Coquimbo\", \"pacientes\": 2, \"codigo region\": 4}, {\"date\": \"2020-04-04\", \"region\": \"Valpara\\u00edso\", \"pacientes\": 22, \"codigo region\": 5}, {\"date\": \"2020-04-04\", \"region\": \"Metropolitana\", \"pacientes\": 129, \"codigo region\": 6}, {\"date\": \"2020-04-04\", \"region\": \"O\\u2019Higgins\", \"pacientes\": 5, \"codigo region\": 7}, {\"date\": \"2020-04-04\", \"region\": \"Maule\", \"pacientes\": 3, \"codigo region\": 8}, {\"date\": \"2020-04-04\", \"region\": \"\\u00d1uble\", \"pacientes\": 11, \"codigo region\": 9}, {\"date\": \"2020-04-04\", \"region\": \"Biob\\u00edo\", \"pacientes\": 24, \"codigo region\": 10}, {\"date\": \"2020-04-04\", \"region\": \"Araucan\\u00eda\", \"pacientes\": 44, \"codigo region\": 11}, {\"date\": \"2020-04-04\", \"region\": \"Los R\\u00edos\", \"pacientes\": 2, \"codigo region\": 12}, {\"date\": \"2020-04-04\", \"region\": \"Los Lagos\", \"pacientes\": 22, \"codigo region\": 13}, {\"date\": \"2020-04-04\", \"region\": \"Ays\\u00e9n\", \"pacientes\": 0, \"codigo region\": 14}, {\"date\": \"2020-04-04\", \"region\": \"Magallanes\", \"pacientes\": 12, \"codigo region\": 15}, {\"date\": \"2020-04-05\", \"region\": \"Arica y Parinacota\", \"pacientes\": 2, \"codigo region\": 0}, {\"date\": \"2020-04-05\", \"region\": \"Tarapac\\u00e1\", \"pacientes\": 1, \"codigo region\": 1}, {\"date\": \"2020-04-05\", \"region\": \"Antofagasta\", \"pacientes\": 3, \"codigo region\": 2}, {\"date\": \"2020-04-05\", \"region\": \"Atacama\", \"pacientes\": 0, \"codigo region\": 3}, {\"date\": \"2020-04-05\", \"region\": \"Coquimbo\", \"pacientes\": 1, \"codigo region\": 4}, {\"date\": \"2020-04-05\", \"region\": \"Valpara\\u00edso\", \"pacientes\": 27, \"codigo region\": 5}, {\"date\": \"2020-04-05\", \"region\": \"Metropolitana\", \"pacientes\": 146, \"codigo region\": 6}, {\"date\": \"2020-04-05\", \"region\": \"O\\u2019Higgins\", \"pacientes\": 5, \"codigo region\": 7}, {\"date\": \"2020-04-05\", \"region\": \"Maule\", \"pacientes\": 4, \"codigo region\": 8}, {\"date\": \"2020-04-05\", \"region\": \"\\u00d1uble\", \"pacientes\": 10, \"codigo region\": 9}, {\"date\": \"2020-04-05\", \"region\": \"Biob\\u00edo\", \"pacientes\": 26, \"codigo region\": 10}, {\"date\": \"2020-04-05\", \"region\": \"Araucan\\u00eda\", \"pacientes\": 44, \"codigo region\": 11}, {\"date\": \"2020-04-05\", \"region\": \"Los R\\u00edos\", \"pacientes\": 3, \"codigo region\": 12}, {\"date\": \"2020-04-05\", \"region\": \"Los Lagos\", \"pacientes\": 22, \"codigo region\": 13}, {\"date\": \"2020-04-05\", \"region\": \"Ays\\u00e9n\", \"pacientes\": 0, \"codigo region\": 14}, {\"date\": \"2020-04-05\", \"region\": \"Magallanes\", \"pacientes\": 13, \"codigo region\": 15}, {\"date\": \"2020-04-06\", \"region\": \"Arica y Parinacota\", \"pacientes\": 4, \"codigo region\": 0}, {\"date\": \"2020-04-06\", \"region\": \"Tarapac\\u00e1\", \"pacientes\": 2, \"codigo region\": 1}, {\"date\": \"2020-04-06\", \"region\": \"Antofagasta\", \"pacientes\": 3, \"codigo region\": 2}, {\"date\": \"2020-04-06\", \"region\": \"Atacama\", \"pacientes\": 0, \"codigo region\": 3}, {\"date\": \"2020-04-06\", \"region\": \"Coquimbo\", \"pacientes\": 1, \"codigo region\": 4}, {\"date\": \"2020-04-06\", \"region\": \"Valpara\\u00edso\", \"pacientes\": 22, \"codigo region\": 5}, {\"date\": \"2020-04-06\", \"region\": \"Metropolitana\", \"pacientes\": 161, \"codigo region\": 6}, {\"date\": \"2020-04-06\", \"region\": \"O\\u2019Higgins\", \"pacientes\": 6, \"codigo region\": 7}, {\"date\": \"2020-04-06\", \"region\": \"Maule\", \"pacientes\": 5, \"codigo region\": 8}, {\"date\": \"2020-04-06\", \"region\": \"\\u00d1uble\", \"pacientes\": 11, \"codigo region\": 9}, {\"date\": \"2020-04-06\", \"region\": \"Biob\\u00edo\", \"pacientes\": 27, \"codigo region\": 10}, {\"date\": \"2020-04-06\", \"region\": \"Araucan\\u00eda\", \"pacientes\": 46, \"codigo region\": 11}, {\"date\": \"2020-04-06\", \"region\": \"Los R\\u00edos\", \"pacientes\": 4, \"codigo region\": 12}, {\"date\": \"2020-04-06\", \"region\": \"Los Lagos\", \"pacientes\": 23, \"codigo region\": 13}, {\"date\": \"2020-04-06\", \"region\": \"Ays\\u00e9n\", \"pacientes\": 0, \"codigo region\": 14}, {\"date\": \"2020-04-06\", \"region\": \"Magallanes\", \"pacientes\": 12, \"codigo region\": 15}, {\"date\": \"2020-04-07\", \"region\": \"Arica y Parinacota\", \"pacientes\": 4, \"codigo region\": 0}, {\"date\": \"2020-04-07\", \"region\": \"Tarapac\\u00e1\", \"pacientes\": 2, \"codigo region\": 1}, {\"date\": \"2020-04-07\", \"region\": \"Antofagasta\", \"pacientes\": 2, \"codigo region\": 2}, {\"date\": \"2020-04-07\", \"region\": \"Atacama\", \"pacientes\": 0, \"codigo region\": 3}, {\"date\": \"2020-04-07\", \"region\": \"Coquimbo\", \"pacientes\": 2, \"codigo region\": 4}, {\"date\": \"2020-04-07\", \"region\": \"Valpara\\u00edso\", \"pacientes\": 21, \"codigo region\": 5}, {\"date\": \"2020-04-07\", \"region\": \"Metropolitana\", \"pacientes\": 160, \"codigo region\": 6}, {\"date\": \"2020-04-07\", \"region\": \"O\\u2019Higgins\", \"pacientes\": 6, \"codigo region\": 7}, {\"date\": \"2020-04-07\", \"region\": \"Maule\", \"pacientes\": 7, \"codigo region\": 8}, {\"date\": \"2020-04-07\", \"region\": \"\\u00d1uble\", \"pacientes\": 13, \"codigo region\": 9}, {\"date\": \"2020-04-07\", \"region\": \"Biob\\u00edo\", \"pacientes\": 32, \"codigo region\": 10}, {\"date\": \"2020-04-07\", \"region\": \"Araucan\\u00eda\", \"pacientes\": 46, \"codigo region\": 11}, {\"date\": \"2020-04-07\", \"region\": \"Los R\\u00edos\", \"pacientes\": 6, \"codigo region\": 12}, {\"date\": \"2020-04-07\", \"region\": \"Los Lagos\", \"pacientes\": 24, \"codigo region\": 13}, {\"date\": \"2020-04-07\", \"region\": \"Ays\\u00e9n\", \"pacientes\": 0, \"codigo region\": 14}, {\"date\": \"2020-04-07\", \"region\": \"Magallanes\", \"pacientes\": 12, \"codigo region\": 15}, {\"date\": \"2020-04-08\", \"region\": \"Arica y Parinacota\", \"pacientes\": 5, \"codigo region\": 0}, {\"date\": \"2020-04-08\", \"region\": \"Tarapac\\u00e1\", \"pacientes\": 2, \"codigo region\": 1}, {\"date\": \"2020-04-08\", \"region\": \"Antofagasta\", \"pacientes\": 2, \"codigo region\": 2}, {\"date\": \"2020-04-08\", \"region\": \"Atacama\", \"pacientes\": 1, \"codigo region\": 3}, {\"date\": \"2020-04-08\", \"region\": \"Coquimbo\", \"pacientes\": 1, \"codigo region\": 4}, {\"date\": \"2020-04-08\", \"region\": \"Valpara\\u00edso\", \"pacientes\": 20, \"codigo region\": 5}, {\"date\": \"2020-04-08\", \"region\": \"Metropolitana\", \"pacientes\": 174, \"codigo region\": 6}, {\"date\": \"2020-04-08\", \"region\": \"O\\u2019Higgins\", \"pacientes\": 6, \"codigo region\": 7}, {\"date\": \"2020-04-08\", \"region\": \"Maule\", \"pacientes\": 8, \"codigo region\": 8}, {\"date\": \"2020-04-08\", \"region\": \"\\u00d1uble\", \"pacientes\": 13, \"codigo region\": 9}, {\"date\": \"2020-04-08\", \"region\": \"Biob\\u00edo\", \"pacientes\": 31, \"codigo region\": 10}, {\"date\": \"2020-04-08\", \"region\": \"Araucan\\u00eda\", \"pacientes\": 54, \"codigo region\": 11}, {\"date\": \"2020-04-08\", \"region\": \"Los R\\u00edos\", \"pacientes\": 6, \"codigo region\": 12}, {\"date\": \"2020-04-08\", \"region\": \"Los Lagos\", \"pacientes\": 25, \"codigo region\": 13}, {\"date\": \"2020-04-08\", \"region\": \"Ays\\u00e9n\", \"pacientes\": 0, \"codigo region\": 14}, {\"date\": \"2020-04-08\", \"region\": \"Magallanes\", \"pacientes\": 14, \"codigo region\": 15}, {\"date\": \"2020-04-09\", \"region\": \"Arica y Parinacota\", \"pacientes\": 5, \"codigo region\": 0}, {\"date\": \"2020-04-09\", \"region\": \"Tarapac\\u00e1\", \"pacientes\": 2, \"codigo region\": 1}, {\"date\": \"2020-04-09\", \"region\": \"Antofagasta\", \"pacientes\": 2, \"codigo region\": 2}, {\"date\": \"2020-04-09\", \"region\": \"Atacama\", \"pacientes\": 1, \"codigo region\": 3}, {\"date\": \"2020-04-09\", \"region\": \"Coquimbo\", \"pacientes\": 1, \"codigo region\": 4}, {\"date\": \"2020-04-09\", \"region\": \"Valpara\\u00edso\", \"pacientes\": 22, \"codigo region\": 5}, {\"date\": \"2020-04-09\", \"region\": \"Metropolitana\", \"pacientes\": 164, \"codigo region\": 6}, {\"date\": \"2020-04-09\", \"region\": \"O\\u2019Higgins\", \"pacientes\": 6, \"codigo region\": 7}, {\"date\": \"2020-04-09\", \"region\": \"Maule\", \"pacientes\": 10, \"codigo region\": 8}, {\"date\": \"2020-04-09\", \"region\": \"\\u00d1uble\", \"pacientes\": 13, \"codigo region\": 9}, {\"date\": \"2020-04-09\", \"region\": \"Biob\\u00edo\", \"pacientes\": 33, \"codigo region\": 10}, {\"date\": \"2020-04-09\", \"region\": \"Araucan\\u00eda\", \"pacientes\": 56, \"codigo region\": 11}, {\"date\": \"2020-04-09\", \"region\": \"Los R\\u00edos\", \"pacientes\": 7, \"codigo region\": 12}, {\"date\": \"2020-04-09\", \"region\": \"Los Lagos\", \"pacientes\": 24, \"codigo region\": 13}, {\"date\": \"2020-04-09\", \"region\": \"Ays\\u00e9n\", \"pacientes\": 0, \"codigo region\": 14}, {\"date\": \"2020-04-09\", \"region\": \"Magallanes\", \"pacientes\": 14, \"codigo region\": 15}, {\"date\": \"2020-04-10\", \"region\": \"Arica y Parinacota\", \"pacientes\": 5, \"codigo region\": 0}, {\"date\": \"2020-04-10\", \"region\": \"Tarapac\\u00e1\", \"pacientes\": 3, \"codigo region\": 1}, {\"date\": \"2020-04-10\", \"region\": \"Antofagasta\", \"pacientes\": 3, \"codigo region\": 2}, {\"date\": \"2020-04-10\", \"region\": \"Atacama\", \"pacientes\": 1, \"codigo region\": 3}, {\"date\": \"2020-04-10\", \"region\": \"Coquimbo\", \"pacientes\": 2, \"codigo region\": 4}, {\"date\": \"2020-04-10\", \"region\": \"Valpara\\u00edso\", \"pacientes\": 21, \"codigo region\": 5}, {\"date\": \"2020-04-10\", \"region\": \"Metropolitana\", \"pacientes\": 181, \"codigo region\": 6}, {\"date\": \"2020-04-10\", \"region\": \"O\\u2019Higgins\", \"pacientes\": 7, \"codigo region\": 7}, {\"date\": \"2020-04-10\", \"region\": \"Maule\", \"pacientes\": 11, \"codigo region\": 8}, {\"date\": \"2020-04-10\", \"region\": \"\\u00d1uble\", \"pacientes\": 13, \"codigo region\": 9}, {\"date\": \"2020-04-10\", \"region\": \"Biob\\u00edo\", \"pacientes\": 32, \"codigo region\": 10}, {\"date\": \"2020-04-10\", \"region\": \"Araucan\\u00eda\", \"pacientes\": 57, \"codigo region\": 11}, {\"date\": \"2020-04-10\", \"region\": \"Los R\\u00edos\", \"pacientes\": 7, \"codigo region\": 12}, {\"date\": \"2020-04-10\", \"region\": \"Los Lagos\", \"pacientes\": 25, \"codigo region\": 13}, {\"date\": \"2020-04-10\", \"region\": \"Ays\\u00e9n\", \"pacientes\": 0, \"codigo region\": 14}, {\"date\": \"2020-04-10\", \"region\": \"Magallanes\", \"pacientes\": 15, \"codigo region\": 15}, {\"date\": \"2020-04-11\", \"region\": \"Arica y Parinacota\", \"pacientes\": 5, \"codigo region\": 0}, {\"date\": \"2020-04-11\", \"region\": \"Tarapac\\u00e1\", \"pacientes\": 3, \"codigo region\": 1}, {\"date\": \"2020-04-11\", \"region\": \"Antofagasta\", \"pacientes\": 2, \"codigo region\": 2}, {\"date\": \"2020-04-11\", \"region\": \"Atacama\", \"pacientes\": 1, \"codigo region\": 3}, {\"date\": \"2020-04-11\", \"region\": \"Coquimbo\", \"pacientes\": 2, \"codigo region\": 4}, {\"date\": \"2020-04-11\", \"region\": \"Valpara\\u00edso\", \"pacientes\": 22, \"codigo region\": 5}, {\"date\": \"2020-04-11\", \"region\": \"Metropolitana\", \"pacientes\": 178, \"codigo region\": 6}, {\"date\": \"2020-04-11\", \"region\": \"O\\u2019Higgins\", \"pacientes\": 7, \"codigo region\": 7}, {\"date\": \"2020-04-11\", \"region\": \"Maule\", \"pacientes\": 13, \"codigo region\": 8}, {\"date\": \"2020-04-11\", \"region\": \"\\u00d1uble\", \"pacientes\": 13, \"codigo region\": 9}, {\"date\": \"2020-04-11\", \"region\": \"Biob\\u00edo\", \"pacientes\": 33, \"codigo region\": 10}, {\"date\": \"2020-04-11\", \"region\": \"Araucan\\u00eda\", \"pacientes\": 53, \"codigo region\": 11}, {\"date\": \"2020-04-11\", \"region\": \"Los R\\u00edos\", \"pacientes\": 7, \"codigo region\": 12}, {\"date\": \"2020-04-11\", \"region\": \"Los Lagos\", \"pacientes\": 26, \"codigo region\": 13}, {\"date\": \"2020-04-11\", \"region\": \"Ays\\u00e9n\", \"pacientes\": 0, \"codigo region\": 14}, {\"date\": \"2020-04-11\", \"region\": \"Magallanes\", \"pacientes\": 18, \"codigo region\": 15}, {\"date\": \"2020-04-12\", \"region\": \"Arica y Parinacota\", \"pacientes\": 5, \"codigo region\": 0}, {\"date\": \"2020-04-12\", \"region\": \"Tarapac\\u00e1\", \"pacientes\": 2, \"codigo region\": 1}, {\"date\": \"2020-04-12\", \"region\": \"Antofagasta\", \"pacientes\": 3, \"codigo region\": 2}, {\"date\": \"2020-04-12\", \"region\": \"Atacama\", \"pacientes\": 1, \"codigo region\": 3}, {\"date\": \"2020-04-12\", \"region\": \"Coquimbo\", \"pacientes\": 1, \"codigo region\": 4}, {\"date\": \"2020-04-12\", \"region\": \"Valpara\\u00edso\", \"pacientes\": 18, \"codigo region\": 5}, {\"date\": \"2020-04-12\", \"region\": \"Metropolitana\", \"pacientes\": 185, \"codigo region\": 6}, {\"date\": \"2020-04-12\", \"region\": \"O\\u2019Higgins\", \"pacientes\": 7, \"codigo region\": 7}, {\"date\": \"2020-04-12\", \"region\": \"Maule\", \"pacientes\": 15, \"codigo region\": 8}, {\"date\": \"2020-04-12\", \"region\": \"\\u00d1uble\", \"pacientes\": 12, \"codigo region\": 9}, {\"date\": \"2020-04-12\", \"region\": \"Biob\\u00edo\", \"pacientes\": 31, \"codigo region\": 10}, {\"date\": \"2020-04-12\", \"region\": \"Araucan\\u00eda\", \"pacientes\": 56, \"codigo region\": 11}, {\"date\": \"2020-04-12\", \"region\": \"Los R\\u00edos\", \"pacientes\": 7, \"codigo region\": 12}, {\"date\": \"2020-04-12\", \"region\": \"Los Lagos\", \"pacientes\": 26, \"codigo region\": 13}, {\"date\": \"2020-04-12\", \"region\": \"Ays\\u00e9n\", \"pacientes\": 0, \"codigo region\": 14}, {\"date\": \"2020-04-12\", \"region\": \"Magallanes\", \"pacientes\": 18, \"codigo region\": 15}, {\"date\": \"2020-04-13\", \"region\": \"Arica y Parinacota\", \"pacientes\": 5, \"codigo region\": 0}, {\"date\": \"2020-04-13\", \"region\": \"Tarapac\\u00e1\", \"pacientes\": 2, \"codigo region\": 1}, {\"date\": \"2020-04-13\", \"region\": \"Antofagasta\", \"pacientes\": 4, \"codigo region\": 2}, {\"date\": \"2020-04-13\", \"region\": \"Atacama\", \"pacientes\": 1, \"codigo region\": 3}, {\"date\": \"2020-04-13\", \"region\": \"Coquimbo\", \"pacientes\": 0, \"codigo region\": 4}, {\"date\": \"2020-04-13\", \"region\": \"Valpara\\u00edso\", \"pacientes\": 16, \"codigo region\": 5}, {\"date\": \"2020-04-13\", \"region\": \"Metropolitana\", \"pacientes\": 189, \"codigo region\": 6}, {\"date\": \"2020-04-13\", \"region\": \"O\\u2019Higgins\", \"pacientes\": 7, \"codigo region\": 7}, {\"date\": \"2020-04-13\", \"region\": \"Maule\", \"pacientes\": 16, \"codigo region\": 8}, {\"date\": \"2020-04-13\", \"region\": \"\\u00d1uble\", \"pacientes\": 13, \"codigo region\": 9}, {\"date\": \"2020-04-13\", \"region\": \"Biob\\u00edo\", \"pacientes\": 35, \"codigo region\": 10}, {\"date\": \"2020-04-13\", \"region\": \"Araucan\\u00eda\", \"pacientes\": 52, \"codigo region\": 11}, {\"date\": \"2020-04-13\", \"region\": \"Los R\\u00edos\", \"pacientes\": 7, \"codigo region\": 12}, {\"date\": \"2020-04-13\", \"region\": \"Los Lagos\", \"pacientes\": 25, \"codigo region\": 13}, {\"date\": \"2020-04-13\", \"region\": \"Ays\\u00e9n\", \"pacientes\": 0, \"codigo region\": 14}, {\"date\": \"2020-04-13\", \"region\": \"Magallanes\", \"pacientes\": 15, \"codigo region\": 15}, {\"date\": \"2020-04-14\", \"region\": \"Arica y Parinacota\", \"pacientes\": 5, \"codigo region\": 0}, {\"date\": \"2020-04-14\", \"region\": \"Tarapac\\u00e1\", \"pacientes\": 1, \"codigo region\": 1}, {\"date\": \"2020-04-14\", \"region\": \"Antofagasta\", \"pacientes\": 4, \"codigo region\": 2}, {\"date\": \"2020-04-14\", \"region\": \"Atacama\", \"pacientes\": 1, \"codigo region\": 3}, {\"date\": \"2020-04-14\", \"region\": \"Coquimbo\", \"pacientes\": 1, \"codigo region\": 4}, {\"date\": \"2020-04-14\", \"region\": \"Valpara\\u00edso\", \"pacientes\": 16, \"codigo region\": 5}, {\"date\": \"2020-04-14\", \"region\": \"Metropolitana\", \"pacientes\": 190, \"codigo region\": 6}, {\"date\": \"2020-04-14\", \"region\": \"O\\u2019Higgins\", \"pacientes\": 5, \"codigo region\": 7}, {\"date\": \"2020-04-14\", \"region\": \"Maule\", \"pacientes\": 15, \"codigo region\": 8}, {\"date\": \"2020-04-14\", \"region\": \"\\u00d1uble\", \"pacientes\": 12, \"codigo region\": 9}, {\"date\": \"2020-04-14\", \"region\": \"Biob\\u00edo\", \"pacientes\": 35, \"codigo region\": 10}, {\"date\": \"2020-04-14\", \"region\": \"Araucan\\u00eda\", \"pacientes\": 46, \"codigo region\": 11}, {\"date\": \"2020-04-14\", \"region\": \"Los R\\u00edos\", \"pacientes\": 7, \"codigo region\": 12}, {\"date\": \"2020-04-14\", \"region\": \"Los Lagos\", \"pacientes\": 26, \"codigo region\": 13}, {\"date\": \"2020-04-14\", \"region\": \"Ays\\u00e9n\", \"pacientes\": 0, \"codigo region\": 14}, {\"date\": \"2020-04-14\", \"region\": \"Magallanes\", \"pacientes\": 15, \"codigo region\": 15}, {\"date\": \"2020-04-15\", \"region\": \"Arica y Parinacota\", \"pacientes\": 5, \"codigo region\": 0}, {\"date\": \"2020-04-15\", \"region\": \"Tarapac\\u00e1\", \"pacientes\": 0, \"codigo region\": 1}, {\"date\": \"2020-04-15\", \"region\": \"Antofagasta\", \"pacientes\": 5, \"codigo region\": 2}, {\"date\": \"2020-04-15\", \"region\": \"Atacama\", \"pacientes\": 1, \"codigo region\": 3}, {\"date\": \"2020-04-15\", \"region\": \"Coquimbo\", \"pacientes\": 1, \"codigo region\": 4}, {\"date\": \"2020-04-15\", \"region\": \"Valpara\\u00edso\", \"pacientes\": 16, \"codigo region\": 5}, {\"date\": \"2020-04-15\", \"region\": \"Metropolitana\", \"pacientes\": 198, \"codigo region\": 6}, {\"date\": \"2020-04-15\", \"region\": \"O\\u2019Higgins\", \"pacientes\": 6, \"codigo region\": 7}, {\"date\": \"2020-04-15\", \"region\": \"Maule\", \"pacientes\": 15, \"codigo region\": 8}, {\"date\": \"2020-04-15\", \"region\": \"\\u00d1uble\", \"pacientes\": 13, \"codigo region\": 9}, {\"date\": \"2020-04-15\", \"region\": \"Biob\\u00edo\", \"pacientes\": 35, \"codigo region\": 10}, {\"date\": \"2020-04-15\", \"region\": \"Araucan\\u00eda\", \"pacientes\": 46, \"codigo region\": 11}, {\"date\": \"2020-04-15\", \"region\": \"Los R\\u00edos\", \"pacientes\": 6, \"codigo region\": 12}, {\"date\": \"2020-04-15\", \"region\": \"Los Lagos\", \"pacientes\": 26, \"codigo region\": 13}, {\"date\": \"2020-04-15\", \"region\": \"Ays\\u00e9n\", \"pacientes\": 0, \"codigo region\": 14}, {\"date\": \"2020-04-15\", \"region\": \"Magallanes\", \"pacientes\": 16, \"codigo region\": 15}, {\"date\": \"2020-04-16\", \"region\": \"Arica y Parinacota\", \"pacientes\": 6, \"codigo region\": 0}, {\"date\": \"2020-04-16\", \"region\": \"Tarapac\\u00e1\", \"pacientes\": 0, \"codigo region\": 1}, {\"date\": \"2020-04-16\", \"region\": \"Antofagasta\", \"pacientes\": 5, \"codigo region\": 2}, {\"date\": \"2020-04-16\", \"region\": \"Atacama\", \"pacientes\": 1, \"codigo region\": 3}, {\"date\": \"2020-04-16\", \"region\": \"Coquimbo\", \"pacientes\": 0, \"codigo region\": 4}, {\"date\": \"2020-04-16\", \"region\": \"Valpara\\u00edso\", \"pacientes\": 18, \"codigo region\": 5}, {\"date\": \"2020-04-16\", \"region\": \"Metropolitana\", \"pacientes\": 196, \"codigo region\": 6}, {\"date\": \"2020-04-16\", \"region\": \"O\\u2019Higgins\", \"pacientes\": 4, \"codigo region\": 7}, {\"date\": \"2020-04-16\", \"region\": \"Maule\", \"pacientes\": 13, \"codigo region\": 8}, {\"date\": \"2020-04-16\", \"region\": \"\\u00d1uble\", \"pacientes\": 12, \"codigo region\": 9}, {\"date\": \"2020-04-16\", \"region\": \"Biob\\u00edo\", \"pacientes\": 30, \"codigo region\": 10}, {\"date\": \"2020-04-16\", \"region\": \"Araucan\\u00eda\", \"pacientes\": 47, \"codigo region\": 11}, {\"date\": \"2020-04-16\", \"region\": \"Los R\\u00edos\", \"pacientes\": 7, \"codigo region\": 12}, {\"date\": \"2020-04-16\", \"region\": \"Los Lagos\", \"pacientes\": 27, \"codigo region\": 13}, {\"date\": \"2020-04-16\", \"region\": \"Ays\\u00e9n\", \"pacientes\": 0, \"codigo region\": 14}, {\"date\": \"2020-04-16\", \"region\": \"Magallanes\", \"pacientes\": 18, \"codigo region\": 15}, {\"date\": \"2020-04-17\", \"region\": \"Arica y Parinacota\", \"pacientes\": 6, \"codigo region\": 0}, {\"date\": \"2020-04-17\", \"region\": \"Tarapac\\u00e1\", \"pacientes\": 0, \"codigo region\": 1}, {\"date\": \"2020-04-17\", \"region\": \"Antofagasta\", \"pacientes\": 6, \"codigo region\": 2}, {\"date\": \"2020-04-17\", \"region\": \"Atacama\", \"pacientes\": 1, \"codigo region\": 3}, {\"date\": \"2020-04-17\", \"region\": \"Coquimbo\", \"pacientes\": 0, \"codigo region\": 4}, {\"date\": \"2020-04-17\", \"region\": \"Valpara\\u00edso\", \"pacientes\": 18, \"codigo region\": 5}, {\"date\": \"2020-04-17\", \"region\": \"Metropolitana\", \"pacientes\": 202, \"codigo region\": 6}, {\"date\": \"2020-04-17\", \"region\": \"O\\u2019Higgins\", \"pacientes\": 4, \"codigo region\": 7}, {\"date\": \"2020-04-17\", \"region\": \"Maule\", \"pacientes\": 12, \"codigo region\": 8}, {\"date\": \"2020-04-17\", \"region\": \"\\u00d1uble\", \"pacientes\": 12, \"codigo region\": 9}, {\"date\": \"2020-04-17\", \"region\": \"Biob\\u00edo\", \"pacientes\": 27, \"codigo region\": 10}, {\"date\": \"2020-04-17\", \"region\": \"Araucan\\u00eda\", \"pacientes\": 47, \"codigo region\": 11}, {\"date\": \"2020-04-17\", \"region\": \"Los R\\u00edos\", \"pacientes\": 6, \"codigo region\": 12}, {\"date\": \"2020-04-17\", \"region\": \"Los Lagos\", \"pacientes\": 26, \"codigo region\": 13}, {\"date\": \"2020-04-17\", \"region\": \"Ays\\u00e9n\", \"pacientes\": 0, \"codigo region\": 14}, {\"date\": \"2020-04-17\", \"region\": \"Magallanes\", \"pacientes\": 18, \"codigo region\": 15}, {\"date\": \"2020-04-18\", \"region\": \"Arica y Parinacota\", \"pacientes\": 5, \"codigo region\": 0}, {\"date\": \"2020-04-18\", \"region\": \"Tarapac\\u00e1\", \"pacientes\": 0, \"codigo region\": 1}, {\"date\": \"2020-04-18\", \"region\": \"Antofagasta\", \"pacientes\": 5, \"codigo region\": 2}, {\"date\": \"2020-04-18\", \"region\": \"Atacama\", \"pacientes\": 1, \"codigo region\": 3}, {\"date\": \"2020-04-18\", \"region\": \"Coquimbo\", \"pacientes\": 0, \"codigo region\": 4}, {\"date\": \"2020-04-18\", \"region\": \"Valpara\\u00edso\", \"pacientes\": 19, \"codigo region\": 5}, {\"date\": \"2020-04-18\", \"region\": \"Metropolitana\", \"pacientes\": 181, \"codigo region\": 6}, {\"date\": \"2020-04-18\", \"region\": \"O\\u2019Higgins\", \"pacientes\": 4, \"codigo region\": 7}, {\"date\": \"2020-04-18\", \"region\": \"Maule\", \"pacientes\": 12, \"codigo region\": 8}, {\"date\": \"2020-04-18\", \"region\": \"\\u00d1uble\", \"pacientes\": 13, \"codigo region\": 9}, {\"date\": \"2020-04-18\", \"region\": \"Biob\\u00edo\", \"pacientes\": 25, \"codigo region\": 10}, {\"date\": \"2020-04-18\", \"region\": \"Araucan\\u00eda\", \"pacientes\": 46, \"codigo region\": 11}, {\"date\": \"2020-04-18\", \"region\": \"Los R\\u00edos\", \"pacientes\": 6, \"codigo region\": 12}, {\"date\": \"2020-04-18\", \"region\": \"Los Lagos\", \"pacientes\": 26, \"codigo region\": 13}, {\"date\": \"2020-04-18\", \"region\": \"Ays\\u00e9n\", \"pacientes\": 0, \"codigo region\": 14}, {\"date\": \"2020-04-18\", \"region\": \"Magallanes\", \"pacientes\": 17, \"codigo region\": 15}, {\"date\": \"2020-04-19\", \"region\": \"Arica y Parinacota\", \"pacientes\": 5, \"codigo region\": 0}, {\"date\": \"2020-04-19\", \"region\": \"Tarapac\\u00e1\", \"pacientes\": 1, \"codigo region\": 1}, {\"date\": \"2020-04-19\", \"region\": \"Antofagasta\", \"pacientes\": 5, \"codigo region\": 2}, {\"date\": \"2020-04-19\", \"region\": \"Atacama\", \"pacientes\": 1, \"codigo region\": 3}, {\"date\": \"2020-04-19\", \"region\": \"Coquimbo\", \"pacientes\": 0, \"codigo region\": 4}, {\"date\": \"2020-04-19\", \"region\": \"Valpara\\u00edso\", \"pacientes\": 22, \"codigo region\": 5}, {\"date\": \"2020-04-19\", \"region\": \"Metropolitana\", \"pacientes\": 186, \"codigo region\": 6}, {\"date\": \"2020-04-19\", \"region\": \"O\\u2019Higgins\", \"pacientes\": 4, \"codigo region\": 7}, {\"date\": \"2020-04-19\", \"region\": \"Maule\", \"pacientes\": 15, \"codigo region\": 8}, {\"date\": \"2020-04-19\", \"region\": \"\\u00d1uble\", \"pacientes\": 14, \"codigo region\": 9}, {\"date\": \"2020-04-19\", \"region\": \"Biob\\u00edo\", \"pacientes\": 26, \"codigo region\": 10}, {\"date\": \"2020-04-19\", \"region\": \"Araucan\\u00eda\", \"pacientes\": 44, \"codigo region\": 11}, {\"date\": \"2020-04-19\", \"region\": \"Los R\\u00edos\", \"pacientes\": 7, \"codigo region\": 12}, {\"date\": \"2020-04-19\", \"region\": \"Los Lagos\", \"pacientes\": 25, \"codigo region\": 13}, {\"date\": \"2020-04-19\", \"region\": \"Ays\\u00e9n\", \"pacientes\": 0, \"codigo region\": 14}, {\"date\": \"2020-04-19\", \"region\": \"Magallanes\", \"pacientes\": 18, \"codigo region\": 15}, {\"date\": \"2020-04-20\", \"region\": \"Arica y Parinacota\", \"pacientes\": 5, \"codigo region\": 0}, {\"date\": \"2020-04-20\", \"region\": \"Tarapac\\u00e1\", \"pacientes\": 1, \"codigo region\": 1}, {\"date\": \"2020-04-20\", \"region\": \"Antofagasta\", \"pacientes\": 5, \"codigo region\": 2}, {\"date\": \"2020-04-20\", \"region\": \"Atacama\", \"pacientes\": 1, \"codigo region\": 3}, {\"date\": \"2020-04-20\", \"region\": \"Coquimbo\", \"pacientes\": 0, \"codigo region\": 4}, {\"date\": \"2020-04-20\", \"region\": \"Valpara\\u00edso\", \"pacientes\": 22, \"codigo region\": 5}, {\"date\": \"2020-04-20\", \"region\": \"Metropolitana\", \"pacientes\": 194, \"codigo region\": 6}, {\"date\": \"2020-04-20\", \"region\": \"O\\u2019Higgins\", \"pacientes\": 4, \"codigo region\": 7}, {\"date\": \"2020-04-20\", \"region\": \"Maule\", \"pacientes\": 9, \"codigo region\": 8}, {\"date\": \"2020-04-20\", \"region\": \"\\u00d1uble\", \"pacientes\": 15, \"codigo region\": 9}, {\"date\": \"2020-04-20\", \"region\": \"Biob\\u00edo\", \"pacientes\": 26, \"codigo region\": 10}, {\"date\": \"2020-04-20\", \"region\": \"Araucan\\u00eda\", \"pacientes\": 45, \"codigo region\": 11}, {\"date\": \"2020-04-20\", \"region\": \"Los R\\u00edos\", \"pacientes\": 5, \"codigo region\": 12}, {\"date\": \"2020-04-20\", \"region\": \"Los Lagos\", \"pacientes\": 24, \"codigo region\": 13}, {\"date\": \"2020-04-20\", \"region\": \"Ays\\u00e9n\", \"pacientes\": 0, \"codigo region\": 14}, {\"date\": \"2020-04-20\", \"region\": \"Magallanes\", \"pacientes\": 21, \"codigo region\": 15}, {\"date\": \"2020-04-21\", \"region\": \"Arica y Parinacota\", \"pacientes\": 5, \"codigo region\": 0}, {\"date\": \"2020-04-21\", \"region\": \"Tarapac\\u00e1\", \"pacientes\": 1, \"codigo region\": 1}, {\"date\": \"2020-04-21\", \"region\": \"Antofagasta\", \"pacientes\": 7, \"codigo region\": 2}, {\"date\": \"2020-04-21\", \"region\": \"Atacama\", \"pacientes\": 1, \"codigo region\": 3}, {\"date\": \"2020-04-21\", \"region\": \"Coquimbo\", \"pacientes\": 0, \"codigo region\": 4}, {\"date\": \"2020-04-21\", \"region\": \"Valpara\\u00edso\", \"pacientes\": 22, \"codigo region\": 5}, {\"date\": \"2020-04-21\", \"region\": \"Metropolitana\", \"pacientes\": 204, \"codigo region\": 6}, {\"date\": \"2020-04-21\", \"region\": \"O\\u2019Higgins\", \"pacientes\": 3, \"codigo region\": 7}, {\"date\": \"2020-04-21\", \"region\": \"Maule\", \"pacientes\": 14, \"codigo region\": 8}, {\"date\": \"2020-04-21\", \"region\": \"\\u00d1uble\", \"pacientes\": 15, \"codigo region\": 9}, {\"date\": \"2020-04-21\", \"region\": \"Biob\\u00edo\", \"pacientes\": 25, \"codigo region\": 10}, {\"date\": \"2020-04-21\", \"region\": \"Araucan\\u00eda\", \"pacientes\": 45, \"codigo region\": 11}, {\"date\": \"2020-04-21\", \"region\": \"Los R\\u00edos\", \"pacientes\": 6, \"codigo region\": 12}, {\"date\": \"2020-04-21\", \"region\": \"Los Lagos\", \"pacientes\": 25, \"codigo region\": 13}, {\"date\": \"2020-04-21\", \"region\": \"Ays\\u00e9n\", \"pacientes\": 0, \"codigo region\": 14}, {\"date\": \"2020-04-21\", \"region\": \"Magallanes\", \"pacientes\": 19, \"codigo region\": 15}, {\"date\": \"2020-04-22\", \"region\": \"Arica y Parinacota\", \"pacientes\": 4, \"codigo region\": 0}, {\"date\": \"2020-04-22\", \"region\": \"Tarapac\\u00e1\", \"pacientes\": 2, \"codigo region\": 1}, {\"date\": \"2020-04-22\", \"region\": \"Antofagasta\", \"pacientes\": 10, \"codigo region\": 2}, {\"date\": \"2020-04-22\", \"region\": \"Atacama\", \"pacientes\": 1, \"codigo region\": 3}, {\"date\": \"2020-04-22\", \"region\": \"Coquimbo\", \"pacientes\": 0, \"codigo region\": 4}, {\"date\": \"2020-04-22\", \"region\": \"Valpara\\u00edso\", \"pacientes\": 24, \"codigo region\": 5}, {\"date\": \"2020-04-22\", \"region\": \"Metropolitana\", \"pacientes\": 213, \"codigo region\": 6}, {\"date\": \"2020-04-22\", \"region\": \"O\\u2019Higgins\", \"pacientes\": 4, \"codigo region\": 7}, {\"date\": \"2020-04-22\", \"region\": \"Maule\", \"pacientes\": 10, \"codigo region\": 8}, {\"date\": \"2020-04-22\", \"region\": \"\\u00d1uble\", \"pacientes\": 15, \"codigo region\": 9}, {\"date\": \"2020-04-22\", \"region\": \"Biob\\u00edo\", \"pacientes\": 25, \"codigo region\": 10}, {\"date\": \"2020-04-22\", \"region\": \"Araucan\\u00eda\", \"pacientes\": 43, \"codigo region\": 11}, {\"date\": \"2020-04-22\", \"region\": \"Los R\\u00edos\", \"pacientes\": 7, \"codigo region\": 12}, {\"date\": \"2020-04-22\", \"region\": \"Los Lagos\", \"pacientes\": 23, \"codigo region\": 13}, {\"date\": \"2020-04-22\", \"region\": \"Ays\\u00e9n\", \"pacientes\": 0, \"codigo region\": 14}, {\"date\": \"2020-04-22\", \"region\": \"Magallanes\", \"pacientes\": 18, \"codigo region\": 15}, {\"date\": \"2020-04-23\", \"region\": \"Arica y Parinacota\", \"pacientes\": 4, \"codigo region\": 0}, {\"date\": \"2020-04-23\", \"region\": \"Tarapac\\u00e1\", \"pacientes\": 2, \"codigo region\": 1}, {\"date\": \"2020-04-23\", \"region\": \"Antofagasta\", \"pacientes\": 14, \"codigo region\": 2}, {\"date\": \"2020-04-23\", \"region\": \"Atacama\", \"pacientes\": 1, \"codigo region\": 3}, {\"date\": \"2020-04-23\", \"region\": \"Coquimbo\", \"pacientes\": 0, \"codigo region\": 4}, {\"date\": \"2020-04-23\", \"region\": \"Valpara\\u00edso\", \"pacientes\": 20, \"codigo region\": 5}, {\"date\": \"2020-04-23\", \"region\": \"Metropolitana\", \"pacientes\": 234, \"codigo region\": 6}, {\"date\": \"2020-04-23\", \"region\": \"O\\u2019Higgins\", \"pacientes\": 4, \"codigo region\": 7}, {\"date\": \"2020-04-23\", \"region\": \"Maule\", \"pacientes\": 9, \"codigo region\": 8}, {\"date\": \"2020-04-23\", \"region\": \"\\u00d1uble\", \"pacientes\": 15, \"codigo region\": 9}, {\"date\": \"2020-04-23\", \"region\": \"Biob\\u00edo\", \"pacientes\": 25, \"codigo region\": 10}, {\"date\": \"2020-04-23\", \"region\": \"Araucan\\u00eda\", \"pacientes\": 37, \"codigo region\": 11}, {\"date\": \"2020-04-23\", \"region\": \"Los R\\u00edos\", \"pacientes\": 7, \"codigo region\": 12}, {\"date\": \"2020-04-23\", \"region\": \"Los Lagos\", \"pacientes\": 22, \"codigo region\": 13}, {\"date\": \"2020-04-23\", \"region\": \"Ays\\u00e9n\", \"pacientes\": 0, \"codigo region\": 14}, {\"date\": \"2020-04-23\", \"region\": \"Magallanes\", \"pacientes\": 17, \"codigo region\": 15}, {\"date\": \"2020-04-24\", \"region\": \"Arica y Parinacota\", \"pacientes\": 7, \"codigo region\": 0}, {\"date\": \"2020-04-24\", \"region\": \"Tarapac\\u00e1\", \"pacientes\": 2, \"codigo region\": 1}, {\"date\": \"2020-04-24\", \"region\": \"Antofagasta\", \"pacientes\": 16, \"codigo region\": 2}, {\"date\": \"2020-04-24\", \"region\": \"Atacama\", \"pacientes\": 1, \"codigo region\": 3}, {\"date\": \"2020-04-24\", \"region\": \"Coquimbo\", \"pacientes\": 0, \"codigo region\": 4}, {\"date\": \"2020-04-24\", \"region\": \"Valpara\\u00edso\", \"pacientes\": 17, \"codigo region\": 5}, {\"date\": \"2020-04-24\", \"region\": \"Metropolitana\", \"pacientes\": 242, \"codigo region\": 6}, {\"date\": \"2020-04-24\", \"region\": \"O\\u2019Higgins\", \"pacientes\": 4, \"codigo region\": 7}, {\"date\": \"2020-04-24\", \"region\": \"Maule\", \"pacientes\": 9, \"codigo region\": 8}, {\"date\": \"2020-04-24\", \"region\": \"\\u00d1uble\", \"pacientes\": 13, \"codigo region\": 9}, {\"date\": \"2020-04-24\", \"region\": \"Biob\\u00edo\", \"pacientes\": 22, \"codigo region\": 10}, {\"date\": \"2020-04-24\", \"region\": \"Araucan\\u00eda\", \"pacientes\": 38, \"codigo region\": 11}, {\"date\": \"2020-04-24\", \"region\": \"Los R\\u00edos\", \"pacientes\": 7, \"codigo region\": 12}, {\"date\": \"2020-04-24\", \"region\": \"Los Lagos\", \"pacientes\": 21, \"codigo region\": 13}, {\"date\": \"2020-04-24\", \"region\": \"Ays\\u00e9n\", \"pacientes\": 0, \"codigo region\": 14}, {\"date\": \"2020-04-24\", \"region\": \"Magallanes\", \"pacientes\": 16, \"codigo region\": 15}, {\"date\": \"2020-04-25\", \"region\": \"Arica y Parinacota\", \"pacientes\": 8, \"codigo region\": 0}, {\"date\": \"2020-04-25\", \"region\": \"Tarapac\\u00e1\", \"pacientes\": 3, \"codigo region\": 1}, {\"date\": \"2020-04-25\", \"region\": \"Antofagasta\", \"pacientes\": 16, \"codigo region\": 2}, {\"date\": \"2020-04-25\", \"region\": \"Atacama\", \"pacientes\": 1, \"codigo region\": 3}, {\"date\": \"2020-04-25\", \"region\": \"Coquimbo\", \"pacientes\": 0, \"codigo region\": 4}, {\"date\": \"2020-04-25\", \"region\": \"Valpara\\u00edso\", \"pacientes\": 16, \"codigo region\": 5}, {\"date\": \"2020-04-25\", \"region\": \"Metropolitana\", \"pacientes\": 246, \"codigo region\": 6}, {\"date\": \"2020-04-25\", \"region\": \"O\\u2019Higgins\", \"pacientes\": 4, \"codigo region\": 7}, {\"date\": \"2020-04-25\", \"region\": \"Maule\", \"pacientes\": 8, \"codigo region\": 8}, {\"date\": \"2020-04-25\", \"region\": \"\\u00d1uble\", \"pacientes\": 10, \"codigo region\": 9}, {\"date\": \"2020-04-25\", \"region\": \"Biob\\u00edo\", \"pacientes\": 22, \"codigo region\": 10}, {\"date\": \"2020-04-25\", \"region\": \"Araucan\\u00eda\", \"pacientes\": 39, \"codigo region\": 11}, {\"date\": \"2020-04-25\", \"region\": \"Los R\\u00edos\", \"pacientes\": 7, \"codigo region\": 12}, {\"date\": \"2020-04-25\", \"region\": \"Los Lagos\", \"pacientes\": 21, \"codigo region\": 13}, {\"date\": \"2020-04-25\", \"region\": \"Ays\\u00e9n\", \"pacientes\": 0, \"codigo region\": 14}, {\"date\": \"2020-04-25\", \"region\": \"Magallanes\", \"pacientes\": 17, \"codigo region\": 15}, {\"date\": \"2020-04-26\", \"region\": \"Arica y Parinacota\", \"pacientes\": 9, \"codigo region\": 0}, {\"date\": \"2020-04-26\", \"region\": \"Tarapac\\u00e1\", \"pacientes\": 2, \"codigo region\": 1}, {\"date\": \"2020-04-26\", \"region\": \"Antofagasta\", \"pacientes\": 15, \"codigo region\": 2}, {\"date\": \"2020-04-26\", \"region\": \"Atacama\", \"pacientes\": 1, \"codigo region\": 3}, {\"date\": \"2020-04-26\", \"region\": \"Coquimbo\", \"pacientes\": 0, \"codigo region\": 4}, {\"date\": \"2020-04-26\", \"region\": \"Valpara\\u00edso\", \"pacientes\": 14, \"codigo region\": 5}, {\"date\": \"2020-04-26\", \"region\": \"Metropolitana\", \"pacientes\": 248, \"codigo region\": 6}, {\"date\": \"2020-04-26\", \"region\": \"O\\u2019Higgins\", \"pacientes\": 4, \"codigo region\": 7}, {\"date\": \"2020-04-26\", \"region\": \"Maule\", \"pacientes\": 10, \"codigo region\": 8}, {\"date\": \"2020-04-26\", \"region\": \"\\u00d1uble\", \"pacientes\": 10, \"codigo region\": 9}, {\"date\": \"2020-04-26\", \"region\": \"Biob\\u00edo\", \"pacientes\": 23, \"codigo region\": 10}, {\"date\": \"2020-04-26\", \"region\": \"Araucan\\u00eda\", \"pacientes\": 38, \"codigo region\": 11}, {\"date\": \"2020-04-26\", \"region\": \"Los R\\u00edos\", \"pacientes\": 7, \"codigo region\": 12}, {\"date\": \"2020-04-26\", \"region\": \"Los Lagos\", \"pacientes\": 17, \"codigo region\": 13}, {\"date\": \"2020-04-26\", \"region\": \"Ays\\u00e9n\", \"pacientes\": 0, \"codigo region\": 14}, {\"date\": \"2020-04-26\", \"region\": \"Magallanes\", \"pacientes\": 17, \"codigo region\": 15}, {\"date\": \"2020-04-27\", \"region\": \"Arica y Parinacota\", \"pacientes\": 10, \"codigo region\": 0}, {\"date\": \"2020-04-27\", \"region\": \"Tarapac\\u00e1\", \"pacientes\": 2, \"codigo region\": 1}, {\"date\": \"2020-04-27\", \"region\": \"Antofagasta\", \"pacientes\": 17, \"codigo region\": 2}, {\"date\": \"2020-04-27\", \"region\": \"Atacama\", \"pacientes\": 1, \"codigo region\": 3}, {\"date\": \"2020-04-27\", \"region\": \"Coquimbo\", \"pacientes\": 0, \"codigo region\": 4}, {\"date\": \"2020-04-27\", \"region\": \"Valpara\\u00edso\", \"pacientes\": 15, \"codigo region\": 5}, {\"date\": \"2020-04-27\", \"region\": \"Metropolitana\", \"pacientes\": 252, \"codigo region\": 6}, {\"date\": \"2020-04-27\", \"region\": \"O\\u2019Higgins\", \"pacientes\": 4, \"codigo region\": 7}, {\"date\": \"2020-04-27\", \"region\": \"Maule\", \"pacientes\": 10, \"codigo region\": 8}, {\"date\": \"2020-04-27\", \"region\": \"\\u00d1uble\", \"pacientes\": 10, \"codigo region\": 9}, {\"date\": \"2020-04-27\", \"region\": \"Biob\\u00edo\", \"pacientes\": 24, \"codigo region\": 10}, {\"date\": \"2020-04-27\", \"region\": \"Araucan\\u00eda\", \"pacientes\": 37, \"codigo region\": 11}, {\"date\": \"2020-04-27\", \"region\": \"Los R\\u00edos\", \"pacientes\": 6, \"codigo region\": 12}, {\"date\": \"2020-04-27\", \"region\": \"Los Lagos\", \"pacientes\": 17, \"codigo region\": 13}, {\"date\": \"2020-04-27\", \"region\": \"Ays\\u00e9n\", \"pacientes\": 0, \"codigo region\": 14}, {\"date\": \"2020-04-27\", \"region\": \"Magallanes\", \"pacientes\": 21, \"codigo region\": 15}], \"data-82e630d691888498cfe2166e6e77d3ff\": [{\"date\": \"2020-03-24\", \"region\": \"Arica y Parinacota\", \"fallecidos\": 0, \"codigo region\": 0}, {\"date\": \"2020-03-24\", \"region\": \"Tarapac\\u00e1\", \"fallecidos\": 0, \"codigo region\": 1}, {\"date\": \"2020-03-24\", \"region\": \"Antofagasta\", \"fallecidos\": 0, \"codigo region\": 2}, {\"date\": \"2020-03-24\", \"region\": \"Atacama\", \"fallecidos\": 0, \"codigo region\": 3}, {\"date\": \"2020-03-24\", \"region\": \"Coquimbo\", \"fallecidos\": 0, \"codigo region\": 4}, {\"date\": \"2020-03-24\", \"region\": \"Valpara\\u00edso\", \"fallecidos\": 0, \"codigo region\": 5}, {\"date\": \"2020-03-24\", \"region\": \"Metropolitana\", \"fallecidos\": 2, \"codigo region\": 6}, {\"date\": \"2020-03-24\", \"region\": \"O\\u2019Higgins\", \"fallecidos\": 0, \"codigo region\": 7}, {\"date\": \"2020-03-24\", \"region\": \"Maule\", \"fallecidos\": 0, \"codigo region\": 8}, {\"date\": \"2020-03-24\", \"region\": \"\\u00d1uble\", \"fallecidos\": 0, \"codigo region\": 9}, {\"date\": \"2020-03-24\", \"region\": \"Biob\\u00edo\", \"fallecidos\": 0, \"codigo region\": 10}, {\"date\": \"2020-03-24\", \"region\": \"Araucan\\u00eda\", \"fallecidos\": 0, \"codigo region\": 11}, {\"date\": \"2020-03-24\", \"region\": \"Los R\\u00edos\", \"fallecidos\": 0, \"codigo region\": 12}, {\"date\": \"2020-03-24\", \"region\": \"Los Lagos\", \"fallecidos\": 0, \"codigo region\": 13}, {\"date\": \"2020-03-24\", \"region\": \"Ays\\u00e9n\", \"fallecidos\": 0, \"codigo region\": 14}, {\"date\": \"2020-03-24\", \"region\": \"Magallanes\", \"fallecidos\": 0, \"codigo region\": 15}, {\"date\": \"2020-03-25\", \"region\": \"Arica y Parinacota\", \"fallecidos\": 0, \"codigo region\": 0}, {\"date\": \"2020-03-25\", \"region\": \"Tarapac\\u00e1\", \"fallecidos\": 0, \"codigo region\": 1}, {\"date\": \"2020-03-25\", \"region\": \"Antofagasta\", \"fallecidos\": 0, \"codigo region\": 2}, {\"date\": \"2020-03-25\", \"region\": \"Atacama\", \"fallecidos\": 0, \"codigo region\": 3}, {\"date\": \"2020-03-25\", \"region\": \"Coquimbo\", \"fallecidos\": 0, \"codigo region\": 4}, {\"date\": \"2020-03-25\", \"region\": \"Valpara\\u00edso\", \"fallecidos\": 0, \"codigo region\": 5}, {\"date\": \"2020-03-25\", \"region\": \"Metropolitana\", \"fallecidos\": 2, \"codigo region\": 6}, {\"date\": \"2020-03-25\", \"region\": \"O\\u2019Higgins\", \"fallecidos\": 0, \"codigo region\": 7}, {\"date\": \"2020-03-25\", \"region\": \"Maule\", \"fallecidos\": 0, \"codigo region\": 8}, {\"date\": \"2020-03-25\", \"region\": \"\\u00d1uble\", \"fallecidos\": 0, \"codigo region\": 9}, {\"date\": \"2020-03-25\", \"region\": \"Biob\\u00edo\", \"fallecidos\": 1, \"codigo region\": 10}, {\"date\": \"2020-03-25\", \"region\": \"Araucan\\u00eda\", \"fallecidos\": 0, \"codigo region\": 11}, {\"date\": \"2020-03-25\", \"region\": \"Los R\\u00edos\", \"fallecidos\": 0, \"codigo region\": 12}, {\"date\": \"2020-03-25\", \"region\": \"Los Lagos\", \"fallecidos\": 0, \"codigo region\": 13}, {\"date\": \"2020-03-25\", \"region\": \"Ays\\u00e9n\", \"fallecidos\": 0, \"codigo region\": 14}, {\"date\": \"2020-03-25\", \"region\": \"Magallanes\", \"fallecidos\": 0, \"codigo region\": 15}, {\"date\": \"2020-03-26\", \"region\": \"Arica y Parinacota\", \"fallecidos\": 0, \"codigo region\": 0}, {\"date\": \"2020-03-26\", \"region\": \"Tarapac\\u00e1\", \"fallecidos\": 0, \"codigo region\": 1}, {\"date\": \"2020-03-26\", \"region\": \"Antofagasta\", \"fallecidos\": 0, \"codigo region\": 2}, {\"date\": \"2020-03-26\", \"region\": \"Atacama\", \"fallecidos\": 0, \"codigo region\": 3}, {\"date\": \"2020-03-26\", \"region\": \"Coquimbo\", \"fallecidos\": 0, \"codigo region\": 4}, {\"date\": \"2020-03-26\", \"region\": \"Valpara\\u00edso\", \"fallecidos\": 0, \"codigo region\": 5}, {\"date\": \"2020-03-26\", \"region\": \"Metropolitana\", \"fallecidos\": 3, \"codigo region\": 6}, {\"date\": \"2020-03-26\", \"region\": \"O\\u2019Higgins\", \"fallecidos\": 0, \"codigo region\": 7}, {\"date\": \"2020-03-26\", \"region\": \"Maule\", \"fallecidos\": 0, \"codigo region\": 8}, {\"date\": \"2020-03-26\", \"region\": \"\\u00d1uble\", \"fallecidos\": 0, \"codigo region\": 9}, {\"date\": \"2020-03-26\", \"region\": \"Biob\\u00edo\", \"fallecidos\": 1, \"codigo region\": 10}, {\"date\": \"2020-03-26\", \"region\": \"Araucan\\u00eda\", \"fallecidos\": 0, \"codigo region\": 11}, {\"date\": \"2020-03-26\", \"region\": \"Los R\\u00edos\", \"fallecidos\": 0, \"codigo region\": 12}, {\"date\": \"2020-03-26\", \"region\": \"Los Lagos\", \"fallecidos\": 0, \"codigo region\": 13}, {\"date\": \"2020-03-26\", \"region\": \"Ays\\u00e9n\", \"fallecidos\": 0, \"codigo region\": 14}, {\"date\": \"2020-03-26\", \"region\": \"Magallanes\", \"fallecidos\": 0, \"codigo region\": 15}, {\"date\": \"2020-03-27\", \"region\": \"Arica y Parinacota\", \"fallecidos\": 0, \"codigo region\": 0}, {\"date\": \"2020-03-27\", \"region\": \"Tarapac\\u00e1\", \"fallecidos\": 0, \"codigo region\": 1}, {\"date\": \"2020-03-27\", \"region\": \"Antofagasta\", \"fallecidos\": 0, \"codigo region\": 2}, {\"date\": \"2020-03-27\", \"region\": \"Atacama\", \"fallecidos\": 0, \"codigo region\": 3}, {\"date\": \"2020-03-27\", \"region\": \"Coquimbo\", \"fallecidos\": 0, \"codigo region\": 4}, {\"date\": \"2020-03-27\", \"region\": \"Valpara\\u00edso\", \"fallecidos\": 0, \"codigo region\": 5}, {\"date\": \"2020-03-27\", \"region\": \"Metropolitana\", \"fallecidos\": 3, \"codigo region\": 6}, {\"date\": \"2020-03-27\", \"region\": \"O\\u2019Higgins\", \"fallecidos\": 0, \"codigo region\": 7}, {\"date\": \"2020-03-27\", \"region\": \"Maule\", \"fallecidos\": 0, \"codigo region\": 8}, {\"date\": \"2020-03-27\", \"region\": \"\\u00d1uble\", \"fallecidos\": 0, \"codigo region\": 9}, {\"date\": \"2020-03-27\", \"region\": \"Biob\\u00edo\", \"fallecidos\": 2, \"codigo region\": 10}, {\"date\": \"2020-03-27\", \"region\": \"Araucan\\u00eda\", \"fallecidos\": 0, \"codigo region\": 11}, {\"date\": \"2020-03-27\", \"region\": \"Los R\\u00edos\", \"fallecidos\": 0, \"codigo region\": 12}, {\"date\": \"2020-03-27\", \"region\": \"Los Lagos\", \"fallecidos\": 0, \"codigo region\": 13}, {\"date\": \"2020-03-27\", \"region\": \"Ays\\u00e9n\", \"fallecidos\": 0, \"codigo region\": 14}, {\"date\": \"2020-03-27\", \"region\": \"Magallanes\", \"fallecidos\": 0, \"codigo region\": 15}, {\"date\": \"2020-03-28\", \"region\": \"Arica y Parinacota\", \"fallecidos\": 0, \"codigo region\": 0}, {\"date\": \"2020-03-28\", \"region\": \"Tarapac\\u00e1\", \"fallecidos\": 0, \"codigo region\": 1}, {\"date\": \"2020-03-28\", \"region\": \"Antofagasta\", \"fallecidos\": 0, \"codigo region\": 2}, {\"date\": \"2020-03-28\", \"region\": \"Atacama\", \"fallecidos\": 0, \"codigo region\": 3}, {\"date\": \"2020-03-28\", \"region\": \"Coquimbo\", \"fallecidos\": 0, \"codigo region\": 4}, {\"date\": \"2020-03-28\", \"region\": \"Valpara\\u00edso\", \"fallecidos\": 0, \"codigo region\": 5}, {\"date\": \"2020-03-28\", \"region\": \"Metropolitana\", \"fallecidos\": 3, \"codigo region\": 6}, {\"date\": \"2020-03-28\", \"region\": \"O\\u2019Higgins\", \"fallecidos\": 0, \"codigo region\": 7}, {\"date\": \"2020-03-28\", \"region\": \"Maule\", \"fallecidos\": 0, \"codigo region\": 8}, {\"date\": \"2020-03-28\", \"region\": \"\\u00d1uble\", \"fallecidos\": 0, \"codigo region\": 9}, {\"date\": \"2020-03-28\", \"region\": \"Biob\\u00edo\", \"fallecidos\": 2, \"codigo region\": 10}, {\"date\": \"2020-03-28\", \"region\": \"Araucan\\u00eda\", \"fallecidos\": 1, \"codigo region\": 11}, {\"date\": \"2020-03-28\", \"region\": \"Los R\\u00edos\", \"fallecidos\": 0, \"codigo region\": 12}, {\"date\": \"2020-03-28\", \"region\": \"Los Lagos\", \"fallecidos\": 0, \"codigo region\": 13}, {\"date\": \"2020-03-28\", \"region\": \"Ays\\u00e9n\", \"fallecidos\": 0, \"codigo region\": 14}, {\"date\": \"2020-03-28\", \"region\": \"Magallanes\", \"fallecidos\": 0, \"codigo region\": 15}, {\"date\": \"2020-03-29\", \"region\": \"Arica y Parinacota\", \"fallecidos\": 0, \"codigo region\": 0}, {\"date\": \"2020-03-29\", \"region\": \"Tarapac\\u00e1\", \"fallecidos\": 0, \"codigo region\": 1}, {\"date\": \"2020-03-29\", \"region\": \"Antofagasta\", \"fallecidos\": 0, \"codigo region\": 2}, {\"date\": \"2020-03-29\", \"region\": \"Atacama\", \"fallecidos\": 0, \"codigo region\": 3}, {\"date\": \"2020-03-29\", \"region\": \"Coquimbo\", \"fallecidos\": 0, \"codigo region\": 4}, {\"date\": \"2020-03-29\", \"region\": \"Valpara\\u00edso\", \"fallecidos\": 0, \"codigo region\": 5}, {\"date\": \"2020-03-29\", \"region\": \"Metropolitana\", \"fallecidos\": 3, \"codigo region\": 6}, {\"date\": \"2020-03-29\", \"region\": \"O\\u2019Higgins\", \"fallecidos\": 0, \"codigo region\": 7}, {\"date\": \"2020-03-29\", \"region\": \"Maule\", \"fallecidos\": 0, \"codigo region\": 8}, {\"date\": \"2020-03-29\", \"region\": \"\\u00d1uble\", \"fallecidos\": 0, \"codigo region\": 9}, {\"date\": \"2020-03-29\", \"region\": \"Biob\\u00edo\", \"fallecidos\": 2, \"codigo region\": 10}, {\"date\": \"2020-03-29\", \"region\": \"Araucan\\u00eda\", \"fallecidos\": 2, \"codigo region\": 11}, {\"date\": \"2020-03-29\", \"region\": \"Los R\\u00edos\", \"fallecidos\": 0, \"codigo region\": 12}, {\"date\": \"2020-03-29\", \"region\": \"Los Lagos\", \"fallecidos\": 0, \"codigo region\": 13}, {\"date\": \"2020-03-29\", \"region\": \"Ays\\u00e9n\", \"fallecidos\": 0, \"codigo region\": 14}, {\"date\": \"2020-03-29\", \"region\": \"Magallanes\", \"fallecidos\": 0, \"codigo region\": 15}, {\"date\": \"2020-03-30\", \"region\": \"Arica y Parinacota\", \"fallecidos\": 0, \"codigo region\": 0}, {\"date\": \"2020-03-30\", \"region\": \"Tarapac\\u00e1\", \"fallecidos\": 0, \"codigo region\": 1}, {\"date\": \"2020-03-30\", \"region\": \"Antofagasta\", \"fallecidos\": 0, \"codigo region\": 2}, {\"date\": \"2020-03-30\", \"region\": \"Atacama\", \"fallecidos\": 0, \"codigo region\": 3}, {\"date\": \"2020-03-30\", \"region\": \"Coquimbo\", \"fallecidos\": 0, \"codigo region\": 4}, {\"date\": \"2020-03-30\", \"region\": \"Valpara\\u00edso\", \"fallecidos\": 0, \"codigo region\": 5}, {\"date\": \"2020-03-30\", \"region\": \"Metropolitana\", \"fallecidos\": 3, \"codigo region\": 6}, {\"date\": \"2020-03-30\", \"region\": \"O\\u2019Higgins\", \"fallecidos\": 0, \"codigo region\": 7}, {\"date\": \"2020-03-30\", \"region\": \"Maule\", \"fallecidos\": 1, \"codigo region\": 8}, {\"date\": \"2020-03-30\", \"region\": \"\\u00d1uble\", \"fallecidos\": 0, \"codigo region\": 9}, {\"date\": \"2020-03-30\", \"region\": \"Biob\\u00edo\", \"fallecidos\": 2, \"codigo region\": 10}, {\"date\": \"2020-03-30\", \"region\": \"Araucan\\u00eda\", \"fallecidos\": 2, \"codigo region\": 11}, {\"date\": \"2020-03-30\", \"region\": \"Los R\\u00edos\", \"fallecidos\": 0, \"codigo region\": 12}, {\"date\": \"2020-03-30\", \"region\": \"Los Lagos\", \"fallecidos\": 0, \"codigo region\": 13}, {\"date\": \"2020-03-30\", \"region\": \"Ays\\u00e9n\", \"fallecidos\": 0, \"codigo region\": 14}, {\"date\": \"2020-03-30\", \"region\": \"Magallanes\", \"fallecidos\": 0, \"codigo region\": 15}, {\"date\": \"2020-03-31\", \"region\": \"Arica y Parinacota\", \"fallecidos\": 0, \"codigo region\": 0}, {\"date\": \"2020-03-31\", \"region\": \"Tarapac\\u00e1\", \"fallecidos\": 0, \"codigo region\": 1}, {\"date\": \"2020-03-31\", \"region\": \"Antofagasta\", \"fallecidos\": 0, \"codigo region\": 2}, {\"date\": \"2020-03-31\", \"region\": \"Atacama\", \"fallecidos\": 0, \"codigo region\": 3}, {\"date\": \"2020-03-31\", \"region\": \"Coquimbo\", \"fallecidos\": 0, \"codigo region\": 4}, {\"date\": \"2020-03-31\", \"region\": \"Valpara\\u00edso\", \"fallecidos\": 1, \"codigo region\": 5}, {\"date\": \"2020-03-31\", \"region\": \"Metropolitana\", \"fallecidos\": 4, \"codigo region\": 6}, {\"date\": \"2020-03-31\", \"region\": \"O\\u2019Higgins\", \"fallecidos\": 0, \"codigo region\": 7}, {\"date\": \"2020-03-31\", \"region\": \"Maule\", \"fallecidos\": 1, \"codigo region\": 8}, {\"date\": \"2020-03-31\", \"region\": \"\\u00d1uble\", \"fallecidos\": 0, \"codigo region\": 9}, {\"date\": \"2020-03-31\", \"region\": \"Biob\\u00edo\", \"fallecidos\": 2, \"codigo region\": 10}, {\"date\": \"2020-03-31\", \"region\": \"Araucan\\u00eda\", \"fallecidos\": 4, \"codigo region\": 11}, {\"date\": \"2020-03-31\", \"region\": \"Los R\\u00edos\", \"fallecidos\": 0, \"codigo region\": 12}, {\"date\": \"2020-03-31\", \"region\": \"Los Lagos\", \"fallecidos\": 0, \"codigo region\": 13}, {\"date\": \"2020-03-31\", \"region\": \"Ays\\u00e9n\", \"fallecidos\": 0, \"codigo region\": 14}, {\"date\": \"2020-03-31\", \"region\": \"Magallanes\", \"fallecidos\": 0, \"codigo region\": 15}, {\"date\": \"2020-04-01\", \"region\": \"Arica y Parinacota\", \"fallecidos\": 0, \"codigo region\": 0}, {\"date\": \"2020-04-01\", \"region\": \"Tarapac\\u00e1\", \"fallecidos\": 0, \"codigo region\": 1}, {\"date\": \"2020-04-01\", \"region\": \"Antofagasta\", \"fallecidos\": 0, \"codigo region\": 2}, {\"date\": \"2020-04-01\", \"region\": \"Atacama\", \"fallecidos\": 0, \"codigo region\": 3}, {\"date\": \"2020-04-01\", \"region\": \"Coquimbo\", \"fallecidos\": 0, \"codigo region\": 4}, {\"date\": \"2020-04-01\", \"region\": \"Valpara\\u00edso\", \"fallecidos\": 1, \"codigo region\": 5}, {\"date\": \"2020-04-01\", \"region\": \"Metropolitana\", \"fallecidos\": 5, \"codigo region\": 6}, {\"date\": \"2020-04-01\", \"region\": \"O\\u2019Higgins\", \"fallecidos\": 0, \"codigo region\": 7}, {\"date\": \"2020-04-01\", \"region\": \"Maule\", \"fallecidos\": 1, \"codigo region\": 8}, {\"date\": \"2020-04-01\", \"region\": \"\\u00d1uble\", \"fallecidos\": 0, \"codigo region\": 9}, {\"date\": \"2020-04-01\", \"region\": \"Biob\\u00edo\", \"fallecidos\": 2, \"codigo region\": 10}, {\"date\": \"2020-04-01\", \"region\": \"Araucan\\u00eda\", \"fallecidos\": 6, \"codigo region\": 11}, {\"date\": \"2020-04-01\", \"region\": \"Los R\\u00edos\", \"fallecidos\": 1, \"codigo region\": 12}, {\"date\": \"2020-04-01\", \"region\": \"Los Lagos\", \"fallecidos\": 0, \"codigo region\": 13}, {\"date\": \"2020-04-01\", \"region\": \"Ays\\u00e9n\", \"fallecidos\": 0, \"codigo region\": 14}, {\"date\": \"2020-04-01\", \"region\": \"Magallanes\", \"fallecidos\": 0, \"codigo region\": 15}, {\"date\": \"2020-04-02\", \"region\": \"Arica y Parinacota\", \"fallecidos\": 0, \"codigo region\": 0}, {\"date\": \"2020-04-02\", \"region\": \"Tarapac\\u00e1\", \"fallecidos\": 0, \"codigo region\": 1}, {\"date\": \"2020-04-02\", \"region\": \"Antofagasta\", \"fallecidos\": 0, \"codigo region\": 2}, {\"date\": \"2020-04-02\", \"region\": \"Atacama\", \"fallecidos\": 0, \"codigo region\": 3}, {\"date\": \"2020-04-02\", \"region\": \"Coquimbo\", \"fallecidos\": 0, \"codigo region\": 4}, {\"date\": \"2020-04-02\", \"region\": \"Valpara\\u00edso\", \"fallecidos\": 1, \"codigo region\": 5}, {\"date\": \"2020-04-02\", \"region\": \"Metropolitana\", \"fallecidos\": 6, \"codigo region\": 6}, {\"date\": \"2020-04-02\", \"region\": \"O\\u2019Higgins\", \"fallecidos\": 0, \"codigo region\": 7}, {\"date\": \"2020-04-02\", \"region\": \"Maule\", \"fallecidos\": 1, \"codigo region\": 8}, {\"date\": \"2020-04-02\", \"region\": \"\\u00d1uble\", \"fallecidos\": 0, \"codigo region\": 9}, {\"date\": \"2020-04-02\", \"region\": \"Biob\\u00edo\", \"fallecidos\": 2, \"codigo region\": 10}, {\"date\": \"2020-04-02\", \"region\": \"Araucan\\u00eda\", \"fallecidos\": 7, \"codigo region\": 11}, {\"date\": \"2020-04-02\", \"region\": \"Los R\\u00edos\", \"fallecidos\": 1, \"codigo region\": 12}, {\"date\": \"2020-04-02\", \"region\": \"Los Lagos\", \"fallecidos\": 0, \"codigo region\": 13}, {\"date\": \"2020-04-02\", \"region\": \"Ays\\u00e9n\", \"fallecidos\": 0, \"codigo region\": 14}, {\"date\": \"2020-04-02\", \"region\": \"Magallanes\", \"fallecidos\": 0, \"codigo region\": 15}, {\"date\": \"2020-04-03\", \"region\": \"Arica y Parinacota\", \"fallecidos\": 0, \"codigo region\": 0}, {\"date\": \"2020-04-03\", \"region\": \"Tarapac\\u00e1\", \"fallecidos\": 0, \"codigo region\": 1}, {\"date\": \"2020-04-03\", \"region\": \"Antofagasta\", \"fallecidos\": 0, \"codigo region\": 2}, {\"date\": \"2020-04-03\", \"region\": \"Atacama\", \"fallecidos\": 0, \"codigo region\": 3}, {\"date\": \"2020-04-03\", \"region\": \"Coquimbo\", \"fallecidos\": 0, \"codigo region\": 4}, {\"date\": \"2020-04-03\", \"region\": \"Valpara\\u00edso\", \"fallecidos\": 1, \"codigo region\": 5}, {\"date\": \"2020-04-03\", \"region\": \"Metropolitana\", \"fallecidos\": 8, \"codigo region\": 6}, {\"date\": \"2020-04-03\", \"region\": \"O\\u2019Higgins\", \"fallecidos\": 0, \"codigo region\": 7}, {\"date\": \"2020-04-03\", \"region\": \"Maule\", \"fallecidos\": 1, \"codigo region\": 8}, {\"date\": \"2020-04-03\", \"region\": \"\\u00d1uble\", \"fallecidos\": 1, \"codigo region\": 9}, {\"date\": \"2020-04-03\", \"region\": \"Biob\\u00edo\", \"fallecidos\": 2, \"codigo region\": 10}, {\"date\": \"2020-04-03\", \"region\": \"Araucan\\u00eda\", \"fallecidos\": 7, \"codigo region\": 11}, {\"date\": \"2020-04-03\", \"region\": \"Los R\\u00edos\", \"fallecidos\": 1, \"codigo region\": 12}, {\"date\": \"2020-04-03\", \"region\": \"Los Lagos\", \"fallecidos\": 0, \"codigo region\": 13}, {\"date\": \"2020-04-03\", \"region\": \"Ays\\u00e9n\", \"fallecidos\": 0, \"codigo region\": 14}, {\"date\": \"2020-04-03\", \"region\": \"Magallanes\", \"fallecidos\": 1, \"codigo region\": 15}, {\"date\": \"2020-04-04\", \"region\": \"Arica y Parinacota\", \"fallecidos\": 0, \"codigo region\": 0}, {\"date\": \"2020-04-04\", \"region\": \"Tarapac\\u00e1\", \"fallecidos\": 0, \"codigo region\": 1}, {\"date\": \"2020-04-04\", \"region\": \"Antofagasta\", \"fallecidos\": 0, \"codigo region\": 2}, {\"date\": \"2020-04-04\", \"region\": \"Atacama\", \"fallecidos\": 0, \"codigo region\": 3}, {\"date\": \"2020-04-04\", \"region\": \"Coquimbo\", \"fallecidos\": 0, \"codigo region\": 4}, {\"date\": \"2020-04-04\", \"region\": \"Valpara\\u00edso\", \"fallecidos\": 1, \"codigo region\": 5}, {\"date\": \"2020-04-04\", \"region\": \"Metropolitana\", \"fallecidos\": 9, \"codigo region\": 6}, {\"date\": \"2020-04-04\", \"region\": \"O\\u2019Higgins\", \"fallecidos\": 0, \"codigo region\": 7}, {\"date\": \"2020-04-04\", \"region\": \"Maule\", \"fallecidos\": 1, \"codigo region\": 8}, {\"date\": \"2020-04-04\", \"region\": \"\\u00d1uble\", \"fallecidos\": 2, \"codigo region\": 9}, {\"date\": \"2020-04-04\", \"region\": \"Biob\\u00edo\", \"fallecidos\": 2, \"codigo region\": 10}, {\"date\": \"2020-04-04\", \"region\": \"Araucan\\u00eda\", \"fallecidos\": 9, \"codigo region\": 11}, {\"date\": \"2020-04-04\", \"region\": \"Los R\\u00edos\", \"fallecidos\": 1, \"codigo region\": 12}, {\"date\": \"2020-04-04\", \"region\": \"Los Lagos\", \"fallecidos\": 0, \"codigo region\": 13}, {\"date\": \"2020-04-04\", \"region\": \"Ays\\u00e9n\", \"fallecidos\": 0, \"codigo region\": 14}, {\"date\": \"2020-04-04\", \"region\": \"Magallanes\", \"fallecidos\": 2, \"codigo region\": 15}, {\"date\": \"2020-04-05\", \"region\": \"Arica y Parinacota\", \"fallecidos\": 0, \"codigo region\": 0}, {\"date\": \"2020-04-05\", \"region\": \"Tarapac\\u00e1\", \"fallecidos\": 0, \"codigo region\": 1}, {\"date\": \"2020-04-05\", \"region\": \"Antofagasta\", \"fallecidos\": 0, \"codigo region\": 2}, {\"date\": \"2020-04-05\", \"region\": \"Atacama\", \"fallecidos\": 0, \"codigo region\": 3}, {\"date\": \"2020-04-05\", \"region\": \"Coquimbo\", \"fallecidos\": 0, \"codigo region\": 4}, {\"date\": \"2020-04-05\", \"region\": \"Valpara\\u00edso\", \"fallecidos\": 1, \"codigo region\": 5}, {\"date\": \"2020-04-05\", \"region\": \"Metropolitana\", \"fallecidos\": 10, \"codigo region\": 6}, {\"date\": \"2020-04-05\", \"region\": \"O\\u2019Higgins\", \"fallecidos\": 0, \"codigo region\": 7}, {\"date\": \"2020-04-05\", \"region\": \"Maule\", \"fallecidos\": 1, \"codigo region\": 8}, {\"date\": \"2020-04-05\", \"region\": \"\\u00d1uble\", \"fallecidos\": 3, \"codigo region\": 9}, {\"date\": \"2020-04-05\", \"region\": \"Biob\\u00edo\", \"fallecidos\": 2, \"codigo region\": 10}, {\"date\": \"2020-04-05\", \"region\": \"Araucan\\u00eda\", \"fallecidos\": 13, \"codigo region\": 11}, {\"date\": \"2020-04-05\", \"region\": \"Los R\\u00edos\", \"fallecidos\": 1, \"codigo region\": 12}, {\"date\": \"2020-04-05\", \"region\": \"Los Lagos\", \"fallecidos\": 1, \"codigo region\": 13}, {\"date\": \"2020-04-05\", \"region\": \"Ays\\u00e9n\", \"fallecidos\": 0, \"codigo region\": 14}, {\"date\": \"2020-04-05\", \"region\": \"Magallanes\", \"fallecidos\": 2, \"codigo region\": 15}, {\"date\": \"2020-04-06\", \"region\": \"Arica y Parinacota\", \"fallecidos\": 0, \"codigo region\": 0}, {\"date\": \"2020-04-06\", \"region\": \"Tarapac\\u00e1\", \"fallecidos\": 0, \"codigo region\": 1}, {\"date\": \"2020-04-06\", \"region\": \"Antofagasta\", \"fallecidos\": 0, \"codigo region\": 2}, {\"date\": \"2020-04-06\", \"region\": \"Atacama\", \"fallecidos\": 0, \"codigo region\": 3}, {\"date\": \"2020-04-06\", \"region\": \"Coquimbo\", \"fallecidos\": 0, \"codigo region\": 4}, {\"date\": \"2020-04-06\", \"region\": \"Valpara\\u00edso\", \"fallecidos\": 1, \"codigo region\": 5}, {\"date\": \"2020-04-06\", \"region\": \"Metropolitana\", \"fallecidos\": 10, \"codigo region\": 6}, {\"date\": \"2020-04-06\", \"region\": \"O\\u2019Higgins\", \"fallecidos\": 0, \"codigo region\": 7}, {\"date\": \"2020-04-06\", \"region\": \"Maule\", \"fallecidos\": 1, \"codigo region\": 8}, {\"date\": \"2020-04-06\", \"region\": \"\\u00d1uble\", \"fallecidos\": 4, \"codigo region\": 9}, {\"date\": \"2020-04-06\", \"region\": \"Biob\\u00edo\", \"fallecidos\": 2, \"codigo region\": 10}, {\"date\": \"2020-04-06\", \"region\": \"Araucan\\u00eda\", \"fallecidos\": 14, \"codigo region\": 11}, {\"date\": \"2020-04-06\", \"region\": \"Los R\\u00edos\", \"fallecidos\": 1, \"codigo region\": 12}, {\"date\": \"2020-04-06\", \"region\": \"Los Lagos\", \"fallecidos\": 2, \"codigo region\": 13}, {\"date\": \"2020-04-06\", \"region\": \"Ays\\u00e9n\", \"fallecidos\": 0, \"codigo region\": 14}, {\"date\": \"2020-04-06\", \"region\": \"Magallanes\", \"fallecidos\": 2, \"codigo region\": 15}, {\"date\": \"2020-04-07\", \"region\": \"Arica y Parinacota\", \"fallecidos\": 0, \"codigo region\": 0}, {\"date\": \"2020-04-07\", \"region\": \"Tarapac\\u00e1\", \"fallecidos\": 0, \"codigo region\": 1}, {\"date\": \"2020-04-07\", \"region\": \"Antofagasta\", \"fallecidos\": 1, \"codigo region\": 2}, {\"date\": \"2020-04-07\", \"region\": \"Atacama\", \"fallecidos\": 0, \"codigo region\": 3}, {\"date\": \"2020-04-07\", \"region\": \"Coquimbo\", \"fallecidos\": 0, \"codigo region\": 4}, {\"date\": \"2020-04-07\", \"region\": \"Valpara\\u00edso\", \"fallecidos\": 1, \"codigo region\": 5}, {\"date\": \"2020-04-07\", \"region\": \"Metropolitana\", \"fallecidos\": 12, \"codigo region\": 6}, {\"date\": \"2020-04-07\", \"region\": \"O\\u2019Higgins\", \"fallecidos\": 0, \"codigo region\": 7}, {\"date\": \"2020-04-07\", \"region\": \"Maule\", \"fallecidos\": 2, \"codigo region\": 8}, {\"date\": \"2020-04-07\", \"region\": \"\\u00d1uble\", \"fallecidos\": 5, \"codigo region\": 9}, {\"date\": \"2020-04-07\", \"region\": \"Biob\\u00edo\", \"fallecidos\": 2, \"codigo region\": 10}, {\"date\": \"2020-04-07\", \"region\": \"Araucan\\u00eda\", \"fallecidos\": 14, \"codigo region\": 11}, {\"date\": \"2020-04-07\", \"region\": \"Los R\\u00edos\", \"fallecidos\": 2, \"codigo region\": 12}, {\"date\": \"2020-04-07\", \"region\": \"Los Lagos\", \"fallecidos\": 2, \"codigo region\": 13}, {\"date\": \"2020-04-07\", \"region\": \"Ays\\u00e9n\", \"fallecidos\": 0, \"codigo region\": 14}, {\"date\": \"2020-04-07\", \"region\": \"Magallanes\", \"fallecidos\": 2, \"codigo region\": 15}, {\"date\": \"2020-04-08\", \"region\": \"Arica y Parinacota\", \"fallecidos\": 0, \"codigo region\": 0}, {\"date\": \"2020-04-08\", \"region\": \"Tarapac\\u00e1\", \"fallecidos\": 0, \"codigo region\": 1}, {\"date\": \"2020-04-08\", \"region\": \"Antofagasta\", \"fallecidos\": 1, \"codigo region\": 2}, {\"date\": \"2020-04-08\", \"region\": \"Atacama\", \"fallecidos\": 0, \"codigo region\": 3}, {\"date\": \"2020-04-08\", \"region\": \"Coquimbo\", \"fallecidos\": 0, \"codigo region\": 4}, {\"date\": \"2020-04-08\", \"region\": \"Valpara\\u00edso\", \"fallecidos\": 2, \"codigo region\": 5}, {\"date\": \"2020-04-08\", \"region\": \"Metropolitana\", \"fallecidos\": 14, \"codigo region\": 6}, {\"date\": \"2020-04-08\", \"region\": \"O\\u2019Higgins\", \"fallecidos\": 0, \"codigo region\": 7}, {\"date\": \"2020-04-08\", \"region\": \"Maule\", \"fallecidos\": 2, \"codigo region\": 8}, {\"date\": \"2020-04-08\", \"region\": \"\\u00d1uble\", \"fallecidos\": 5, \"codigo region\": 9}, {\"date\": \"2020-04-08\", \"region\": \"Biob\\u00edo\", \"fallecidos\": 2, \"codigo region\": 10}, {\"date\": \"2020-04-08\", \"region\": \"Araucan\\u00eda\", \"fallecidos\": 15, \"codigo region\": 11}, {\"date\": \"2020-04-08\", \"region\": \"Los R\\u00edos\", \"fallecidos\": 2, \"codigo region\": 12}, {\"date\": \"2020-04-08\", \"region\": \"Los Lagos\", \"fallecidos\": 2, \"codigo region\": 13}, {\"date\": \"2020-04-08\", \"region\": \"Ays\\u00e9n\", \"fallecidos\": 0, \"codigo region\": 14}, {\"date\": \"2020-04-08\", \"region\": \"Magallanes\", \"fallecidos\": 3, \"codigo region\": 15}, {\"date\": \"2020-04-09\", \"region\": \"Arica y Parinacota\", \"fallecidos\": 0, \"codigo region\": 0}, {\"date\": \"2020-04-09\", \"region\": \"Tarapac\\u00e1\", \"fallecidos\": 0, \"codigo region\": 1}, {\"date\": \"2020-04-09\", \"region\": \"Antofagasta\", \"fallecidos\": 1, \"codigo region\": 2}, {\"date\": \"2020-04-09\", \"region\": \"Atacama\", \"fallecidos\": 0, \"codigo region\": 3}, {\"date\": \"2020-04-09\", \"region\": \"Coquimbo\", \"fallecidos\": 0, \"codigo region\": 4}, {\"date\": \"2020-04-09\", \"region\": \"Valpara\\u00edso\", \"fallecidos\": 2, \"codigo region\": 5}, {\"date\": \"2020-04-09\", \"region\": \"Metropolitana\", \"fallecidos\": 21, \"codigo region\": 6}, {\"date\": \"2020-04-09\", \"region\": \"O\\u2019Higgins\", \"fallecidos\": 0, \"codigo region\": 7}, {\"date\": \"2020-04-09\", \"region\": \"Maule\", \"fallecidos\": 2, \"codigo region\": 8}, {\"date\": \"2020-04-09\", \"region\": \"\\u00d1uble\", \"fallecidos\": 6, \"codigo region\": 9}, {\"date\": \"2020-04-09\", \"region\": \"Biob\\u00edo\", \"fallecidos\": 2, \"codigo region\": 10}, {\"date\": \"2020-04-09\", \"region\": \"Araucan\\u00eda\", \"fallecidos\": 16, \"codigo region\": 11}, {\"date\": \"2020-04-09\", \"region\": \"Los R\\u00edos\", \"fallecidos\": 2, \"codigo region\": 12}, {\"date\": \"2020-04-09\", \"region\": \"Los Lagos\", \"fallecidos\": 2, \"codigo region\": 13}, {\"date\": \"2020-04-09\", \"region\": \"Ays\\u00e9n\", \"fallecidos\": 0, \"codigo region\": 14}, {\"date\": \"2020-04-09\", \"region\": \"Magallanes\", \"fallecidos\": 3, \"codigo region\": 15}, {\"date\": \"2020-04-10\", \"region\": \"Arica y Parinacota\", \"fallecidos\": 0, \"codigo region\": 0}, {\"date\": \"2020-04-10\", \"region\": \"Tarapac\\u00e1\", \"fallecidos\": 0, \"codigo region\": 1}, {\"date\": \"2020-04-10\", \"region\": \"Antofagasta\", \"fallecidos\": 1, \"codigo region\": 2}, {\"date\": \"2020-04-10\", \"region\": \"Atacama\", \"fallecidos\": 0, \"codigo region\": 3}, {\"date\": \"2020-04-10\", \"region\": \"Coquimbo\", \"fallecidos\": 0, \"codigo region\": 4}, {\"date\": \"2020-04-10\", \"region\": \"Valpara\\u00edso\", \"fallecidos\": 2, \"codigo region\": 5}, {\"date\": \"2020-04-10\", \"region\": \"Metropolitana\", \"fallecidos\": 29, \"codigo region\": 6}, {\"date\": \"2020-04-10\", \"region\": \"O\\u2019Higgins\", \"fallecidos\": 0, \"codigo region\": 7}, {\"date\": \"2020-04-10\", \"region\": \"Maule\", \"fallecidos\": 2, \"codigo region\": 8}, {\"date\": \"2020-04-10\", \"region\": \"\\u00d1uble\", \"fallecidos\": 6, \"codigo region\": 9}, {\"date\": \"2020-04-10\", \"region\": \"Biob\\u00edo\", \"fallecidos\": 2, \"codigo region\": 10}, {\"date\": \"2020-04-10\", \"region\": \"Araucan\\u00eda\", \"fallecidos\": 16, \"codigo region\": 11}, {\"date\": \"2020-04-10\", \"region\": \"Los R\\u00edos\", \"fallecidos\": 2, \"codigo region\": 12}, {\"date\": \"2020-04-10\", \"region\": \"Los Lagos\", \"fallecidos\": 2, \"codigo region\": 13}, {\"date\": \"2020-04-10\", \"region\": \"Ays\\u00e9n\", \"fallecidos\": 0, \"codigo region\": 14}, {\"date\": \"2020-04-10\", \"region\": \"Magallanes\", \"fallecidos\": 3, \"codigo region\": 15}, {\"date\": \"2020-04-11\", \"region\": \"Arica y Parinacota\", \"fallecidos\": 0, \"codigo region\": 0}, {\"date\": \"2020-04-11\", \"region\": \"Tarapac\\u00e1\", \"fallecidos\": 0, \"codigo region\": 1}, {\"date\": \"2020-04-11\", \"region\": \"Antofagasta\", \"fallecidos\": 1, \"codigo region\": 2}, {\"date\": \"2020-04-11\", \"region\": \"Atacama\", \"fallecidos\": 0, \"codigo region\": 3}, {\"date\": \"2020-04-11\", \"region\": \"Coquimbo\", \"fallecidos\": 0, \"codigo region\": 4}, {\"date\": \"2020-04-11\", \"region\": \"Valpara\\u00edso\", \"fallecidos\": 2, \"codigo region\": 5}, {\"date\": \"2020-04-11\", \"region\": \"Metropolitana\", \"fallecidos\": 32, \"codigo region\": 6}, {\"date\": \"2020-04-11\", \"region\": \"O\\u2019Higgins\", \"fallecidos\": 0, \"codigo region\": 7}, {\"date\": \"2020-04-11\", \"region\": \"Maule\", \"fallecidos\": 3, \"codigo region\": 8}, {\"date\": \"2020-04-11\", \"region\": \"\\u00d1uble\", \"fallecidos\": 6, \"codigo region\": 9}, {\"date\": \"2020-04-11\", \"region\": \"Biob\\u00edo\", \"fallecidos\": 2, \"codigo region\": 10}, {\"date\": \"2020-04-11\", \"region\": \"Araucan\\u00eda\", \"fallecidos\": 17, \"codigo region\": 11}, {\"date\": \"2020-04-11\", \"region\": \"Los R\\u00edos\", \"fallecidos\": 2, \"codigo region\": 12}, {\"date\": \"2020-04-11\", \"region\": \"Los Lagos\", \"fallecidos\": 5, \"codigo region\": 13}, {\"date\": \"2020-04-11\", \"region\": \"Ays\\u00e9n\", \"fallecidos\": 0, \"codigo region\": 14}, {\"date\": \"2020-04-11\", \"region\": \"Magallanes\", \"fallecidos\": 3, \"codigo region\": 15}, {\"date\": \"2020-04-12\", \"region\": \"Arica y Parinacota\", \"fallecidos\": 1, \"codigo region\": 0}, {\"date\": \"2020-04-12\", \"region\": \"Tarapac\\u00e1\", \"fallecidos\": 0, \"codigo region\": 1}, {\"date\": \"2020-04-12\", \"region\": \"Antofagasta\", \"fallecidos\": 1, \"codigo region\": 2}, {\"date\": \"2020-04-12\", \"region\": \"Atacama\", \"fallecidos\": 0, \"codigo region\": 3}, {\"date\": \"2020-04-12\", \"region\": \"Coquimbo\", \"fallecidos\": 0, \"codigo region\": 4}, {\"date\": \"2020-04-12\", \"region\": \"Valpara\\u00edso\", \"fallecidos\": 2, \"codigo region\": 5}, {\"date\": \"2020-04-12\", \"region\": \"Metropolitana\", \"fallecidos\": 35, \"codigo region\": 6}, {\"date\": \"2020-04-12\", \"region\": \"O\\u2019Higgins\", \"fallecidos\": 0, \"codigo region\": 7}, {\"date\": \"2020-04-12\", \"region\": \"Maule\", \"fallecidos\": 3, \"codigo region\": 8}, {\"date\": \"2020-04-12\", \"region\": \"\\u00d1uble\", \"fallecidos\": 7, \"codigo region\": 9}, {\"date\": \"2020-04-12\", \"region\": \"Biob\\u00edo\", \"fallecidos\": 2, \"codigo region\": 10}, {\"date\": \"2020-04-12\", \"region\": \"Araucan\\u00eda\", \"fallecidos\": 17, \"codigo region\": 11}, {\"date\": \"2020-04-12\", \"region\": \"Los R\\u00edos\", \"fallecidos\": 3, \"codigo region\": 12}, {\"date\": \"2020-04-12\", \"region\": \"Los Lagos\", \"fallecidos\": 5, \"codigo region\": 13}, {\"date\": \"2020-04-12\", \"region\": \"Ays\\u00e9n\", \"fallecidos\": 0, \"codigo region\": 14}, {\"date\": \"2020-04-12\", \"region\": \"Magallanes\", \"fallecidos\": 4, \"codigo region\": 15}, {\"date\": \"2020-04-13\", \"region\": \"Arica y Parinacota\", \"fallecidos\": 1, \"codigo region\": 0}, {\"date\": \"2020-04-13\", \"region\": \"Tarapac\\u00e1\", \"fallecidos\": 0, \"codigo region\": 1}, {\"date\": \"2020-04-13\", \"region\": \"Antofagasta\", \"fallecidos\": 1, \"codigo region\": 2}, {\"date\": \"2020-04-13\", \"region\": \"Atacama\", \"fallecidos\": 0, \"codigo region\": 3}, {\"date\": \"2020-04-13\", \"region\": \"Coquimbo\", \"fallecidos\": 0, \"codigo region\": 4}, {\"date\": \"2020-04-13\", \"region\": \"Valpara\\u00edso\", \"fallecidos\": 2, \"codigo region\": 5}, {\"date\": \"2020-04-13\", \"region\": \"Metropolitana\", \"fallecidos\": 36, \"codigo region\": 6}, {\"date\": \"2020-04-13\", \"region\": \"O\\u2019Higgins\", \"fallecidos\": 0, \"codigo region\": 7}, {\"date\": \"2020-04-13\", \"region\": \"Maule\", \"fallecidos\": 3, \"codigo region\": 8}, {\"date\": \"2020-04-13\", \"region\": \"\\u00d1uble\", \"fallecidos\": 7, \"codigo region\": 9}, {\"date\": \"2020-04-13\", \"region\": \"Biob\\u00edo\", \"fallecidos\": 2, \"codigo region\": 10}, {\"date\": \"2020-04-13\", \"region\": \"Araucan\\u00eda\", \"fallecidos\": 17, \"codigo region\": 11}, {\"date\": \"2020-04-13\", \"region\": \"Los R\\u00edos\", \"fallecidos\": 3, \"codigo region\": 12}, {\"date\": \"2020-04-13\", \"region\": \"Los Lagos\", \"fallecidos\": 5, \"codigo region\": 13}, {\"date\": \"2020-04-13\", \"region\": \"Ays\\u00e9n\", \"fallecidos\": 0, \"codigo region\": 14}, {\"date\": \"2020-04-13\", \"region\": \"Magallanes\", \"fallecidos\": 5, \"codigo region\": 15}, {\"date\": \"2020-04-14\", \"region\": \"Arica y Parinacota\", \"fallecidos\": 1, \"codigo region\": 0}, {\"date\": \"2020-04-14\", \"region\": \"Tarapac\\u00e1\", \"fallecidos\": 0, \"codigo region\": 1}, {\"date\": \"2020-04-14\", \"region\": \"Antofagasta\", \"fallecidos\": 1, \"codigo region\": 2}, {\"date\": \"2020-04-14\", \"region\": \"Atacama\", \"fallecidos\": 0, \"codigo region\": 3}, {\"date\": \"2020-04-14\", \"region\": \"Coquimbo\", \"fallecidos\": 0, \"codigo region\": 4}, {\"date\": \"2020-04-14\", \"region\": \"Valpara\\u00edso\", \"fallecidos\": 2, \"codigo region\": 5}, {\"date\": \"2020-04-14\", \"region\": \"Metropolitana\", \"fallecidos\": 40, \"codigo region\": 6}, {\"date\": \"2020-04-14\", \"region\": \"O\\u2019Higgins\", \"fallecidos\": 0, \"codigo region\": 7}, {\"date\": \"2020-04-14\", \"region\": \"Maule\", \"fallecidos\": 4, \"codigo region\": 8}, {\"date\": \"2020-04-14\", \"region\": \"\\u00d1uble\", \"fallecidos\": 8, \"codigo region\": 9}, {\"date\": \"2020-04-14\", \"region\": \"Biob\\u00edo\", \"fallecidos\": 2, \"codigo region\": 10}, {\"date\": \"2020-04-14\", \"region\": \"Araucan\\u00eda\", \"fallecidos\": 20, \"codigo region\": 11}, {\"date\": \"2020-04-14\", \"region\": \"Los R\\u00edos\", \"fallecidos\": 3, \"codigo region\": 12}, {\"date\": \"2020-04-14\", \"region\": \"Los Lagos\", \"fallecidos\": 5, \"codigo region\": 13}, {\"date\": \"2020-04-14\", \"region\": \"Ays\\u00e9n\", \"fallecidos\": 0, \"codigo region\": 14}, {\"date\": \"2020-04-14\", \"region\": \"Magallanes\", \"fallecidos\": 6, \"codigo region\": 15}, {\"date\": \"2020-04-15\", \"region\": \"Arica y Parinacota\", \"fallecidos\": 1, \"codigo region\": 0}, {\"date\": \"2020-04-15\", \"region\": \"Tarapac\\u00e1\", \"fallecidos\": 0, \"codigo region\": 1}, {\"date\": \"2020-04-15\", \"region\": \"Antofagasta\", \"fallecidos\": 1, \"codigo region\": 2}, {\"date\": \"2020-04-15\", \"region\": \"Atacama\", \"fallecidos\": 0, \"codigo region\": 3}, {\"date\": \"2020-04-15\", \"region\": \"Coquimbo\", \"fallecidos\": 0, \"codigo region\": 4}, {\"date\": \"2020-04-15\", \"region\": \"Valpara\\u00edso\", \"fallecidos\": 2, \"codigo region\": 5}, {\"date\": \"2020-04-15\", \"region\": \"Metropolitana\", \"fallecidos\": 41, \"codigo region\": 6}, {\"date\": \"2020-04-15\", \"region\": \"O\\u2019Higgins\", \"fallecidos\": 0, \"codigo region\": 7}, {\"date\": \"2020-04-15\", \"region\": \"Maule\", \"fallecidos\": 4, \"codigo region\": 8}, {\"date\": \"2020-04-15\", \"region\": \"\\u00d1uble\", \"fallecidos\": 8, \"codigo region\": 9}, {\"date\": \"2020-04-15\", \"region\": \"Biob\\u00edo\", \"fallecidos\": 2, \"codigo region\": 10}, {\"date\": \"2020-04-15\", \"region\": \"Araucan\\u00eda\", \"fallecidos\": 21, \"codigo region\": 11}, {\"date\": \"2020-04-15\", \"region\": \"Los R\\u00edos\", \"fallecidos\": 3, \"codigo region\": 12}, {\"date\": \"2020-04-15\", \"region\": \"Los Lagos\", \"fallecidos\": 5, \"codigo region\": 13}, {\"date\": \"2020-04-15\", \"region\": \"Ays\\u00e9n\", \"fallecidos\": 0, \"codigo region\": 14}, {\"date\": \"2020-04-15\", \"region\": \"Magallanes\", \"fallecidos\": 6, \"codigo region\": 15}, {\"date\": \"2020-04-16\", \"region\": \"Arica y Parinacota\", \"fallecidos\": 1, \"codigo region\": 0}, {\"date\": \"2020-04-16\", \"region\": \"Tarapac\\u00e1\", \"fallecidos\": 0, \"codigo region\": 1}, {\"date\": \"2020-04-16\", \"region\": \"Antofagasta\", \"fallecidos\": 1, \"codigo region\": 2}, {\"date\": \"2020-04-16\", \"region\": \"Atacama\", \"fallecidos\": 0, \"codigo region\": 3}, {\"date\": \"2020-04-16\", \"region\": \"Coquimbo\", \"fallecidos\": 0, \"codigo region\": 4}, {\"date\": \"2020-04-16\", \"region\": \"Valpara\\u00edso\", \"fallecidos\": 4, \"codigo region\": 5}, {\"date\": \"2020-04-16\", \"region\": \"Metropolitana\", \"fallecidos\": 48, \"codigo region\": 6}, {\"date\": \"2020-04-16\", \"region\": \"O\\u2019Higgins\", \"fallecidos\": 0, \"codigo region\": 7}, {\"date\": \"2020-04-16\", \"region\": \"Maule\", \"fallecidos\": 4, \"codigo region\": 8}, {\"date\": \"2020-04-16\", \"region\": \"\\u00d1uble\", \"fallecidos\": 10, \"codigo region\": 9}, {\"date\": \"2020-04-16\", \"region\": \"Biob\\u00edo\", \"fallecidos\": 2, \"codigo region\": 10}, {\"date\": \"2020-04-16\", \"region\": \"Araucan\\u00eda\", \"fallecidos\": 21, \"codigo region\": 11}, {\"date\": \"2020-04-16\", \"region\": \"Los R\\u00edos\", \"fallecidos\": 3, \"codigo region\": 12}, {\"date\": \"2020-04-16\", \"region\": \"Los Lagos\", \"fallecidos\": 5, \"codigo region\": 13}, {\"date\": \"2020-04-16\", \"region\": \"Ays\\u00e9n\", \"fallecidos\": 0, \"codigo region\": 14}, {\"date\": \"2020-04-16\", \"region\": \"Magallanes\", \"fallecidos\": 6, \"codigo region\": 15}, {\"date\": \"2020-04-17\", \"region\": \"Arica y Parinacota\", \"fallecidos\": 2, \"codigo region\": 0}, {\"date\": \"2020-04-17\", \"region\": \"Tarapac\\u00e1\", \"fallecidos\": 0, \"codigo region\": 1}, {\"date\": \"2020-04-17\", \"region\": \"Antofagasta\", \"fallecidos\": 1, \"codigo region\": 2}, {\"date\": \"2020-04-17\", \"region\": \"Atacama\", \"fallecidos\": 0, \"codigo region\": 3}, {\"date\": \"2020-04-17\", \"region\": \"Coquimbo\", \"fallecidos\": 0, \"codigo region\": 4}, {\"date\": \"2020-04-17\", \"region\": \"Valpara\\u00edso\", \"fallecidos\": 4, \"codigo region\": 5}, {\"date\": \"2020-04-17\", \"region\": \"Metropolitana\", \"fallecidos\": 51, \"codigo region\": 6}, {\"date\": \"2020-04-17\", \"region\": \"O\\u2019Higgins\", \"fallecidos\": 0, \"codigo region\": 7}, {\"date\": \"2020-04-17\", \"region\": \"Maule\", \"fallecidos\": 7, \"codigo region\": 8}, {\"date\": \"2020-04-17\", \"region\": \"\\u00d1uble\", \"fallecidos\": 11, \"codigo region\": 9}, {\"date\": \"2020-04-17\", \"region\": \"Biob\\u00edo\", \"fallecidos\": 3, \"codigo region\": 10}, {\"date\": \"2020-04-17\", \"region\": \"Araucan\\u00eda\", \"fallecidos\": 22, \"codigo region\": 11}, {\"date\": \"2020-04-17\", \"region\": \"Los R\\u00edos\", \"fallecidos\": 3, \"codigo region\": 12}, {\"date\": \"2020-04-17\", \"region\": \"Los Lagos\", \"fallecidos\": 6, \"codigo region\": 13}, {\"date\": \"2020-04-17\", \"region\": \"Ays\\u00e9n\", \"fallecidos\": 0, \"codigo region\": 14}, {\"date\": \"2020-04-17\", \"region\": \"Magallanes\", \"fallecidos\": 6, \"codigo region\": 15}, {\"date\": \"2020-04-18\", \"region\": \"Arica y Parinacota\", \"fallecidos\": 2, \"codigo region\": 0}, {\"date\": \"2020-04-18\", \"region\": \"Tarapac\\u00e1\", \"fallecidos\": 0, \"codigo region\": 1}, {\"date\": \"2020-04-18\", \"region\": \"Antofagasta\", \"fallecidos\": 1, \"codigo region\": 2}, {\"date\": \"2020-04-18\", \"region\": \"Atacama\", \"fallecidos\": 0, \"codigo region\": 3}, {\"date\": \"2020-04-18\", \"region\": \"Coquimbo\", \"fallecidos\": 0, \"codigo region\": 4}, {\"date\": \"2020-04-18\", \"region\": \"Valpara\\u00edso\", \"fallecidos\": 4, \"codigo region\": 5}, {\"date\": \"2020-04-18\", \"region\": \"Metropolitana\", \"fallecidos\": 58, \"codigo region\": 6}, {\"date\": \"2020-04-18\", \"region\": \"O\\u2019Higgins\", \"fallecidos\": 0, \"codigo region\": 7}, {\"date\": \"2020-04-18\", \"region\": \"Maule\", \"fallecidos\": 8, \"codigo region\": 8}, {\"date\": \"2020-04-18\", \"region\": \"\\u00d1uble\", \"fallecidos\": 12, \"codigo region\": 9}, {\"date\": \"2020-04-18\", \"region\": \"Biob\\u00edo\", \"fallecidos\": 3, \"codigo region\": 10}, {\"date\": \"2020-04-18\", \"region\": \"Araucan\\u00eda\", \"fallecidos\": 23, \"codigo region\": 11}, {\"date\": \"2020-04-18\", \"region\": \"Los R\\u00edos\", \"fallecidos\": 3, \"codigo region\": 12}, {\"date\": \"2020-04-18\", \"region\": \"Los Lagos\", \"fallecidos\": 6, \"codigo region\": 13}, {\"date\": \"2020-04-18\", \"region\": \"Ays\\u00e9n\", \"fallecidos\": 0, \"codigo region\": 14}, {\"date\": \"2020-04-18\", \"region\": \"Magallanes\", \"fallecidos\": 6, \"codigo region\": 15}, {\"date\": \"2020-04-19\", \"region\": \"Arica y Parinacota\", \"fallecidos\": 2, \"codigo region\": 0}, {\"date\": \"2020-04-19\", \"region\": \"Tarapac\\u00e1\", \"fallecidos\": 0, \"codigo region\": 1}, {\"date\": \"2020-04-19\", \"region\": \"Antofagasta\", \"fallecidos\": 1, \"codigo region\": 2}, {\"date\": \"2020-04-19\", \"region\": \"Atacama\", \"fallecidos\": 0, \"codigo region\": 3}, {\"date\": \"2020-04-19\", \"region\": \"Coquimbo\", \"fallecidos\": 0, \"codigo region\": 4}, {\"date\": \"2020-04-19\", \"region\": \"Valpara\\u00edso\", \"fallecidos\": 5, \"codigo region\": 5}, {\"date\": \"2020-04-19\", \"region\": \"Metropolitana\", \"fallecidos\": 63, \"codigo region\": 6}, {\"date\": \"2020-04-19\", \"region\": \"O\\u2019Higgins\", \"fallecidos\": 0, \"codigo region\": 7}, {\"date\": \"2020-04-19\", \"region\": \"Maule\", \"fallecidos\": 8, \"codigo region\": 8}, {\"date\": \"2020-04-19\", \"region\": \"\\u00d1uble\", \"fallecidos\": 13, \"codigo region\": 9}, {\"date\": \"2020-04-19\", \"region\": \"Biob\\u00edo\", \"fallecidos\": 3, \"codigo region\": 10}, {\"date\": \"2020-04-19\", \"region\": \"Araucan\\u00eda\", \"fallecidos\": 23, \"codigo region\": 11}, {\"date\": \"2020-04-19\", \"region\": \"Los R\\u00edos\", \"fallecidos\": 3, \"codigo region\": 12}, {\"date\": \"2020-04-19\", \"region\": \"Los Lagos\", \"fallecidos\": 6, \"codigo region\": 13}, {\"date\": \"2020-04-19\", \"region\": \"Ays\\u00e9n\", \"fallecidos\": 0, \"codigo region\": 14}, {\"date\": \"2020-04-19\", \"region\": \"Magallanes\", \"fallecidos\": 6, \"codigo region\": 15}, {\"date\": \"2020-04-20\", \"region\": \"Arica y Parinacota\", \"fallecidos\": 2, \"codigo region\": 0}, {\"date\": \"2020-04-20\", \"region\": \"Tarapac\\u00e1\", \"fallecidos\": 0, \"codigo region\": 1}, {\"date\": \"2020-04-20\", \"region\": \"Antofagasta\", \"fallecidos\": 1, \"codigo region\": 2}, {\"date\": \"2020-04-20\", \"region\": \"Atacama\", \"fallecidos\": 0, \"codigo region\": 3}, {\"date\": \"2020-04-20\", \"region\": \"Coquimbo\", \"fallecidos\": 0, \"codigo region\": 4}, {\"date\": \"2020-04-20\", \"region\": \"Valpara\\u00edso\", \"fallecidos\": 5, \"codigo region\": 5}, {\"date\": \"2020-04-20\", \"region\": \"Metropolitana\", \"fallecidos\": 67, \"codigo region\": 6}, {\"date\": \"2020-04-20\", \"region\": \"O\\u2019Higgins\", \"fallecidos\": 0, \"codigo region\": 7}, {\"date\": \"2020-04-20\", \"region\": \"Maule\", \"fallecidos\": 10, \"codigo region\": 8}, {\"date\": \"2020-04-20\", \"region\": \"\\u00d1uble\", \"fallecidos\": 13, \"codigo region\": 9}, {\"date\": \"2020-04-20\", \"region\": \"Biob\\u00edo\", \"fallecidos\": 3, \"codigo region\": 10}, {\"date\": \"2020-04-20\", \"region\": \"Araucan\\u00eda\", \"fallecidos\": 23, \"codigo region\": 11}, {\"date\": \"2020-04-20\", \"region\": \"Los R\\u00edos\", \"fallecidos\": 3, \"codigo region\": 12}, {\"date\": \"2020-04-20\", \"region\": \"Los Lagos\", \"fallecidos\": 6, \"codigo region\": 13}, {\"date\": \"2020-04-20\", \"region\": \"Ays\\u00e9n\", \"fallecidos\": 0, \"codigo region\": 14}, {\"date\": \"2020-04-20\", \"region\": \"Magallanes\", \"fallecidos\": 6, \"codigo region\": 15}, {\"date\": \"2020-04-21\", \"region\": \"Arica y Parinacota\", \"fallecidos\": 2, \"codigo region\": 0}, {\"date\": \"2020-04-21\", \"region\": \"Tarapac\\u00e1\", \"fallecidos\": 0, \"codigo region\": 1}, {\"date\": \"2020-04-21\", \"region\": \"Antofagasta\", \"fallecidos\": 1, \"codigo region\": 2}, {\"date\": \"2020-04-21\", \"region\": \"Atacama\", \"fallecidos\": 0, \"codigo region\": 3}, {\"date\": \"2020-04-21\", \"region\": \"Coquimbo\", \"fallecidos\": 0, \"codigo region\": 4}, {\"date\": \"2020-04-21\", \"region\": \"Valpara\\u00edso\", \"fallecidos\": 6, \"codigo region\": 5}, {\"date\": \"2020-04-21\", \"region\": \"Metropolitana\", \"fallecidos\": 69, \"codigo region\": 6}, {\"date\": \"2020-04-21\", \"region\": \"O\\u2019Higgins\", \"fallecidos\": 1, \"codigo region\": 7}, {\"date\": \"2020-04-21\", \"region\": \"Maule\", \"fallecidos\": 10, \"codigo region\": 8}, {\"date\": \"2020-04-21\", \"region\": \"\\u00d1uble\", \"fallecidos\": 13, \"codigo region\": 9}, {\"date\": \"2020-04-21\", \"region\": \"Biob\\u00edo\", \"fallecidos\": 4, \"codigo region\": 10}, {\"date\": \"2020-04-21\", \"region\": \"Araucan\\u00eda\", \"fallecidos\": 25, \"codigo region\": 11}, {\"date\": \"2020-04-21\", \"region\": \"Los R\\u00edos\", \"fallecidos\": 3, \"codigo region\": 12}, {\"date\": \"2020-04-21\", \"region\": \"Los Lagos\", \"fallecidos\": 6, \"codigo region\": 13}, {\"date\": \"2020-04-21\", \"region\": \"Ays\\u00e9n\", \"fallecidos\": 0, \"codigo region\": 14}, {\"date\": \"2020-04-21\", \"region\": \"Magallanes\", \"fallecidos\": 7, \"codigo region\": 15}, {\"date\": \"2020-04-22\", \"region\": \"Arica y Parinacota\", \"fallecidos\": 2, \"codigo region\": 0}, {\"date\": \"2020-04-22\", \"region\": \"Tarapac\\u00e1\", \"fallecidos\": 0, \"codigo region\": 1}, {\"date\": \"2020-04-22\", \"region\": \"Antofagasta\", \"fallecidos\": 2, \"codigo region\": 2}, {\"date\": \"2020-04-22\", \"region\": \"Atacama\", \"fallecidos\": 0, \"codigo region\": 3}, {\"date\": \"2020-04-22\", \"region\": \"Coquimbo\", \"fallecidos\": 0, \"codigo region\": 4}, {\"date\": \"2020-04-22\", \"region\": \"Valpara\\u00edso\", \"fallecidos\": 7, \"codigo region\": 5}, {\"date\": \"2020-04-22\", \"region\": \"Metropolitana\", \"fallecidos\": 78, \"codigo region\": 6}, {\"date\": \"2020-04-22\", \"region\": \"O\\u2019Higgins\", \"fallecidos\": 1, \"codigo region\": 7}, {\"date\": \"2020-04-22\", \"region\": \"Maule\", \"fallecidos\": 10, \"codigo region\": 8}, {\"date\": \"2020-04-22\", \"region\": \"\\u00d1uble\", \"fallecidos\": 13, \"codigo region\": 9}, {\"date\": \"2020-04-22\", \"region\": \"Biob\\u00edo\", \"fallecidos\": 5, \"codigo region\": 10}, {\"date\": \"2020-04-22\", \"region\": \"Araucan\\u00eda\", \"fallecidos\": 26, \"codigo region\": 11}, {\"date\": \"2020-04-22\", \"region\": \"Los R\\u00edos\", \"fallecidos\": 3, \"codigo region\": 12}, {\"date\": \"2020-04-22\", \"region\": \"Los Lagos\", \"fallecidos\": 6, \"codigo region\": 13}, {\"date\": \"2020-04-22\", \"region\": \"Ays\\u00e9n\", \"fallecidos\": 0, \"codigo region\": 14}, {\"date\": \"2020-04-22\", \"region\": \"Magallanes\", \"fallecidos\": 7, \"codigo region\": 15}, {\"date\": \"2020-04-23\", \"region\": \"Arica y Parinacota\", \"fallecidos\": 2, \"codigo region\": 0}, {\"date\": \"2020-04-23\", \"region\": \"Tarapac\\u00e1\", \"fallecidos\": 0, \"codigo region\": 1}, {\"date\": \"2020-04-23\", \"region\": \"Antofagasta\", \"fallecidos\": 2, \"codigo region\": 2}, {\"date\": \"2020-04-23\", \"region\": \"Atacama\", \"fallecidos\": 0, \"codigo region\": 3}, {\"date\": \"2020-04-23\", \"region\": \"Coquimbo\", \"fallecidos\": 0, \"codigo region\": 4}, {\"date\": \"2020-04-23\", \"region\": \"Valpara\\u00edso\", \"fallecidos\": 7, \"codigo region\": 5}, {\"date\": \"2020-04-23\", \"region\": \"Metropolitana\", \"fallecidos\": 85, \"codigo region\": 6}, {\"date\": \"2020-04-23\", \"region\": \"O\\u2019Higgins\", \"fallecidos\": 1, \"codigo region\": 7}, {\"date\": \"2020-04-23\", \"region\": \"Maule\", \"fallecidos\": 10, \"codigo region\": 8}, {\"date\": \"2020-04-23\", \"region\": \"\\u00d1uble\", \"fallecidos\": 13, \"codigo region\": 9}, {\"date\": \"2020-04-23\", \"region\": \"Biob\\u00edo\", \"fallecidos\": 5, \"codigo region\": 10}, {\"date\": \"2020-04-23\", \"region\": \"Araucan\\u00eda\", \"fallecidos\": 26, \"codigo region\": 11}, {\"date\": \"2020-04-23\", \"region\": \"Los R\\u00edos\", \"fallecidos\": 3, \"codigo region\": 12}, {\"date\": \"2020-04-23\", \"region\": \"Los Lagos\", \"fallecidos\": 7, \"codigo region\": 13}, {\"date\": \"2020-04-23\", \"region\": \"Ays\\u00e9n\", \"fallecidos\": 0, \"codigo region\": 14}, {\"date\": \"2020-04-23\", \"region\": \"Magallanes\", \"fallecidos\": 7, \"codigo region\": 15}, {\"date\": \"2020-04-24\", \"region\": \"Arica y Parinacota\", \"fallecidos\": 3, \"codigo region\": 0}, {\"date\": \"2020-04-24\", \"region\": \"Tarapac\\u00e1\", \"fallecidos\": 0, \"codigo region\": 1}, {\"date\": \"2020-04-24\", \"region\": \"Antofagasta\", \"fallecidos\": 2, \"codigo region\": 2}, {\"date\": \"2020-04-24\", \"region\": \"Atacama\", \"fallecidos\": 0, \"codigo region\": 3}, {\"date\": \"2020-04-24\", \"region\": \"Coquimbo\", \"fallecidos\": 0, \"codigo region\": 4}, {\"date\": \"2020-04-24\", \"region\": \"Valpara\\u00edso\", \"fallecidos\": 8, \"codigo region\": 5}, {\"date\": \"2020-04-24\", \"region\": \"Metropolitana\", \"fallecidos\": 86, \"codigo region\": 6}, {\"date\": \"2020-04-24\", \"region\": \"O\\u2019Higgins\", \"fallecidos\": 1, \"codigo region\": 7}, {\"date\": \"2020-04-24\", \"region\": \"Maule\", \"fallecidos\": 10, \"codigo region\": 8}, {\"date\": \"2020-04-24\", \"region\": \"\\u00d1uble\", \"fallecidos\": 14, \"codigo region\": 9}, {\"date\": \"2020-04-24\", \"region\": \"Biob\\u00edo\", \"fallecidos\": 5, \"codigo region\": 10}, {\"date\": \"2020-04-24\", \"region\": \"Araucan\\u00eda\", \"fallecidos\": 26, \"codigo region\": 11}, {\"date\": \"2020-04-24\", \"region\": \"Los R\\u00edos\", \"fallecidos\": 3, \"codigo region\": 12}, {\"date\": \"2020-04-24\", \"region\": \"Los Lagos\", \"fallecidos\": 8, \"codigo region\": 13}, {\"date\": \"2020-04-24\", \"region\": \"Ays\\u00e9n\", \"fallecidos\": 0, \"codigo region\": 14}, {\"date\": \"2020-04-24\", \"region\": \"Magallanes\", \"fallecidos\": 8, \"codigo region\": 15}, {\"date\": \"2020-04-25\", \"region\": \"Arica y Parinacota\", \"fallecidos\": 3, \"codigo region\": 0}, {\"date\": \"2020-04-25\", \"region\": \"Tarapac\\u00e1\", \"fallecidos\": 1, \"codigo region\": 1}, {\"date\": \"2020-04-25\", \"region\": \"Antofagasta\", \"fallecidos\": 3, \"codigo region\": 2}, {\"date\": \"2020-04-25\", \"region\": \"Atacama\", \"fallecidos\": 0, \"codigo region\": 3}, {\"date\": \"2020-04-25\", \"region\": \"Coquimbo\", \"fallecidos\": 0, \"codigo region\": 4}, {\"date\": \"2020-04-25\", \"region\": \"Valpara\\u00edso\", \"fallecidos\": 9, \"codigo region\": 5}, {\"date\": \"2020-04-25\", \"region\": \"Metropolitana\", \"fallecidos\": 89, \"codigo region\": 6}, {\"date\": \"2020-04-25\", \"region\": \"O\\u2019Higgins\", \"fallecidos\": 1, \"codigo region\": 7}, {\"date\": \"2020-04-25\", \"region\": \"Maule\", \"fallecidos\": 10, \"codigo region\": 8}, {\"date\": \"2020-04-25\", \"region\": \"\\u00d1uble\", \"fallecidos\": 14, \"codigo region\": 9}, {\"date\": \"2020-04-25\", \"region\": \"Biob\\u00edo\", \"fallecidos\": 5, \"codigo region\": 10}, {\"date\": \"2020-04-25\", \"region\": \"Araucan\\u00eda\", \"fallecidos\": 27, \"codigo region\": 11}, {\"date\": \"2020-04-25\", \"region\": \"Los R\\u00edos\", \"fallecidos\": 3, \"codigo region\": 12}, {\"date\": \"2020-04-25\", \"region\": \"Los Lagos\", \"fallecidos\": 8, \"codigo region\": 13}, {\"date\": \"2020-04-25\", \"region\": \"Ays\\u00e9n\", \"fallecidos\": 0, \"codigo region\": 14}, {\"date\": \"2020-04-25\", \"region\": \"Magallanes\", \"fallecidos\": 8, \"codigo region\": 15}, {\"date\": \"2020-04-26\", \"region\": \"Arica y Parinacota\", \"fallecidos\": 3, \"codigo region\": 0}, {\"date\": \"2020-04-26\", \"region\": \"Tarapac\\u00e1\", \"fallecidos\": 1, \"codigo region\": 1}, {\"date\": \"2020-04-26\", \"region\": \"Antofagasta\", \"fallecidos\": 4, \"codigo region\": 2}, {\"date\": \"2020-04-26\", \"region\": \"Atacama\", \"fallecidos\": 0, \"codigo region\": 3}, {\"date\": \"2020-04-26\", \"region\": \"Coquimbo\", \"fallecidos\": 0, \"codigo region\": 4}, {\"date\": \"2020-04-26\", \"region\": \"Valpara\\u00edso\", \"fallecidos\": 9, \"codigo region\": 5}, {\"date\": \"2020-04-26\", \"region\": \"Metropolitana\", \"fallecidos\": 91, \"codigo region\": 6}, {\"date\": \"2020-04-26\", \"region\": \"O\\u2019Higgins\", \"fallecidos\": 1, \"codigo region\": 7}, {\"date\": \"2020-04-26\", \"region\": \"Maule\", \"fallecidos\": 11, \"codigo region\": 8}, {\"date\": \"2020-04-26\", \"region\": \"\\u00d1uble\", \"fallecidos\": 14, \"codigo region\": 9}, {\"date\": \"2020-04-26\", \"region\": \"Biob\\u00edo\", \"fallecidos\": 6, \"codigo region\": 10}, {\"date\": \"2020-04-26\", \"region\": \"Araucan\\u00eda\", \"fallecidos\": 29, \"codigo region\": 11}, {\"date\": \"2020-04-26\", \"region\": \"Los R\\u00edos\", \"fallecidos\": 3, \"codigo region\": 12}, {\"date\": \"2020-04-26\", \"region\": \"Los Lagos\", \"fallecidos\": 8, \"codigo region\": 13}, {\"date\": \"2020-04-26\", \"region\": \"Ays\\u00e9n\", \"fallecidos\": 0, \"codigo region\": 14}, {\"date\": \"2020-04-26\", \"region\": \"Magallanes\", \"fallecidos\": 9, \"codigo region\": 15}, {\"date\": \"2020-04-27\", \"region\": \"Arica y Parinacota\", \"fallecidos\": 3, \"codigo region\": 0}, {\"date\": \"2020-04-27\", \"region\": \"Tarapac\\u00e1\", \"fallecidos\": 1, \"codigo region\": 1}, {\"date\": \"2020-04-27\", \"region\": \"Antofagasta\", \"fallecidos\": 4, \"codigo region\": 2}, {\"date\": \"2020-04-27\", \"region\": \"Atacama\", \"fallecidos\": 0, \"codigo region\": 3}, {\"date\": \"2020-04-27\", \"region\": \"Coquimbo\", \"fallecidos\": 0, \"codigo region\": 4}, {\"date\": \"2020-04-27\", \"region\": \"Valpara\\u00edso\", \"fallecidos\": 9, \"codigo region\": 5}, {\"date\": \"2020-04-27\", \"region\": \"Metropolitana\", \"fallecidos\": 95, \"codigo region\": 6}, {\"date\": \"2020-04-27\", \"region\": \"O\\u2019Higgins\", \"fallecidos\": 1, \"codigo region\": 7}, {\"date\": \"2020-04-27\", \"region\": \"Maule\", \"fallecidos\": 12, \"codigo region\": 8}, {\"date\": \"2020-04-27\", \"region\": \"\\u00d1uble\", \"fallecidos\": 14, \"codigo region\": 9}, {\"date\": \"2020-04-27\", \"region\": \"Biob\\u00edo\", \"fallecidos\": 6, \"codigo region\": 10}, {\"date\": \"2020-04-27\", \"region\": \"Araucan\\u00eda\", \"fallecidos\": 32, \"codigo region\": 11}, {\"date\": \"2020-04-27\", \"region\": \"Los R\\u00edos\", \"fallecidos\": 3, \"codigo region\": 12}, {\"date\": \"2020-04-27\", \"region\": \"Los Lagos\", \"fallecidos\": 8, \"codigo region\": 13}, {\"date\": \"2020-04-27\", \"region\": \"Ays\\u00e9n\", \"fallecidos\": 0, \"codigo region\": 14}, {\"date\": \"2020-04-27\", \"region\": \"Magallanes\", \"fallecidos\": 10, \"codigo region\": 15}]}}, {\"mode\": \"vega-lite\"});\n",
       "</script>"
      ],
      "text/plain": [
       "alt.HConcatChart(...)"
      ]
     },
     "execution_count": 57,
     "metadata": {},
     "output_type": "execute_result"
    }
   ],
   "source": [
    "#hide_input\n",
    "input_dropdown = alt.binding_select(options=data['region'].unique())\n",
    "selection1 = alt.selection_single(fields=['region'], bind=input_dropdown, name=' ')\n",
    "selection2 = alt.selection_multi(fields=['region'], on='mouseover')\n",
    "\n",
    "color = alt.condition(selection1 | selection2,\n",
    "                    alt.Color('region:N', legend=None),\n",
    "                    alt.value('lightgray'))\n",
    "\n",
    "bars = alt.Chart(data).mark_bar().encode(\n",
    "    x=alt.X('date:O', axis=alt.Axis(title='Fecha (año-mes-día)')),\n",
    "    y=alt.Y('pacientes'),\n",
    "    color=color,\n",
    "    tooltip=['date', 'region', 'pacientes'],\n",
    "    order=alt.Order(\n",
    "    # Sort the segments of the bars by this field\n",
    "    'codigo region',\n",
    "    sort='descending'\n",
    "    )\n",
    "    ).properties(\n",
    "    title=f'COVID-19 en Chile: Pacientes en UCI por región'\n",
    ").add_selection(\n",
    "    selection1, selection2\n",
    ").transform_filter(\n",
    "    selection1\n",
    ")\n",
    "\n",
    "legend = alt.Chart(new_data).mark_point().encode(\n",
    "    y=alt.Y('region:N', axis=alt.Axis(orient='right'), sort=regiones),\n",
    "    color=color\n",
    ").add_selection(\n",
    "    selection1, selection2\n",
    ")\n",
    "\n",
    "bars.properties(width=600, height=400) | legend"
   ]
  },
  {
   "cell_type": "markdown",
   "metadata": {},
   "source": [
    "Fuente: [Ministerio de Ciencia](https://github.com/MinCiencia/Datos-COVID19)"
   ]
  },
  {
   "cell_type": "markdown",
   "metadata": {},
   "source": [
    "# Casos confirmados por región"
   ]
  },
  {
   "cell_type": "code",
   "execution_count": 58,
   "metadata": {},
   "outputs": [],
   "source": [
    "#hide\n",
    "data_raw = pd.read_csv(\n",
    "    \"https://raw.githubusercontent.com/MinCiencia/Datos-COVID19/master/output/producto3/CasosTotalesCumulativo.csv\",\n",
    "    index_col='Region')"
   ]
  },
  {
   "cell_type": "code",
   "execution_count": 59,
   "metadata": {},
   "outputs": [],
   "source": [
    "#hide\n",
    "data_raw = data_raw.drop('Total')\n",
    "data_raw = data_raw.reset_index()"
   ]
  },
  {
   "cell_type": "code",
   "execution_count": 60,
   "metadata": {},
   "outputs": [
    {
     "data": {
      "text/plain": [
       "array(['Arica y Parinacota', 'Tarapacá', 'Antofagasta', 'Atacama',\n",
       "       'Coquimbo', 'Valparaíso', 'Metropolitana', 'O’Higgins', 'Maule',\n",
       "       'Ñuble', 'Biobío', 'Araucanía', 'Los Ríos', 'Los Lagos', 'Aysén',\n",
       "       'Magallanes'], dtype=object)"
      ]
     },
     "execution_count": 60,
     "metadata": {},
     "output_type": "execute_result"
    }
   ],
   "source": [
    "#hide\n",
    "regiones = data_raw[\"Region\"].values\n",
    "regiones"
   ]
  },
  {
   "cell_type": "code",
   "execution_count": 61,
   "metadata": {},
   "outputs": [],
   "source": [
    "#hide\n",
    "data_raw = data_raw[['Region', today]]"
   ]
  },
  {
   "cell_type": "code",
   "execution_count": 62,
   "metadata": {},
   "outputs": [],
   "source": [
    "#hide\n",
    "today_es_format = update_date.strftime('%d/%m/%Y')"
   ]
  },
  {
   "cell_type": "code",
   "execution_count": 63,
   "metadata": {},
   "outputs": [
    {
     "data": {
      "text/html": [
       "\n",
       "<div id=\"altair-viz-1b468919e3874f8f8df43d698c189f6a\"></div>\n",
       "<script type=\"text/javascript\">\n",
       "  (function(spec, embedOpt){\n",
       "    let outputDiv = document.currentScript.previousElementSibling;\n",
       "    if (outputDiv.id !== \"altair-viz-1b468919e3874f8f8df43d698c189f6a\") {\n",
       "      outputDiv = document.getElementById(\"altair-viz-1b468919e3874f8f8df43d698c189f6a\");\n",
       "    }\n",
       "    const paths = {\n",
       "      \"vega\": \"https://cdn.jsdelivr.net/npm//vega@5?noext\",\n",
       "      \"vega-lib\": \"https://cdn.jsdelivr.net/npm//vega-lib?noext\",\n",
       "      \"vega-lite\": \"https://cdn.jsdelivr.net/npm//vega-lite@4.8.1?noext\",\n",
       "      \"vega-embed\": \"https://cdn.jsdelivr.net/npm//vega-embed@6?noext\",\n",
       "    };\n",
       "\n",
       "    function loadScript(lib) {\n",
       "      return new Promise(function(resolve, reject) {\n",
       "        var s = document.createElement('script');\n",
       "        s.src = paths[lib];\n",
       "        s.async = true;\n",
       "        s.onload = () => resolve(paths[lib]);\n",
       "        s.onerror = () => reject(`Error loading script: ${paths[lib]}`);\n",
       "        document.getElementsByTagName(\"head\")[0].appendChild(s);\n",
       "      });\n",
       "    }\n",
       "\n",
       "    function showError(err) {\n",
       "      outputDiv.innerHTML = `<div class=\"error\" style=\"color:red;\">${err}</div>`;\n",
       "      throw err;\n",
       "    }\n",
       "\n",
       "    function displayChart(vegaEmbed) {\n",
       "      vegaEmbed(outputDiv, spec, embedOpt)\n",
       "        .catch(err => showError(`Javascript Error: ${err.message}<br>This usually means there's a typo in your chart specification. See the javascript console for the full traceback.`));\n",
       "    }\n",
       "\n",
       "    if(typeof define === \"function\" && define.amd) {\n",
       "      requirejs.config({paths});\n",
       "      require([\"vega-embed\"], displayChart, err => showError(`Error loading script: ${err.message}`));\n",
       "    } else if (typeof vegaEmbed === \"function\") {\n",
       "      displayChart(vegaEmbed);\n",
       "    } else {\n",
       "      loadScript(\"vega\")\n",
       "        .then(() => loadScript(\"vega-lite\"))\n",
       "        .then(() => loadScript(\"vega-embed\"))\n",
       "        .catch(showError)\n",
       "        .then(() => displayChart(vegaEmbed));\n",
       "    }\n",
       "  })({\"config\": {\"view\": {\"continuousWidth\": 400, \"continuousHeight\": 300}}, \"layer\": [{\"mark\": \"bar\", \"encoding\": {\"tooltip\": {\"type\": \"quantitative\", \"field\": \"2020-04-27\"}, \"x\": {\"type\": \"quantitative\", \"axis\": {\"title\": \"Casos confirmados\"}, \"field\": \"2020-04-27\"}, \"y\": {\"type\": \"nominal\", \"field\": \"Region\", \"sort\": \"-x\"}}, \"title\": \"COVID-19 en Chile: Casos confirmados por regi\\u00f3n al 27/04/2020\"}, {\"mark\": {\"type\": \"text\", \"align\": \"left\", \"baseline\": \"middle\", \"dx\": 3}, \"encoding\": {\"text\": {\"type\": \"quantitative\", \"field\": \"2020-04-27\"}, \"tooltip\": {\"type\": \"quantitative\", \"field\": \"2020-04-27\"}, \"x\": {\"type\": \"quantitative\", \"axis\": {\"title\": \"Casos confirmados\"}, \"field\": \"2020-04-27\"}, \"y\": {\"type\": \"nominal\", \"field\": \"Region\", \"sort\": \"-x\"}}, \"title\": \"COVID-19 en Chile: Casos confirmados por regi\\u00f3n al 27/04/2020\"}], \"data\": {\"name\": \"data-74f107e0ec57eec7cfc90914afc6d99b\"}, \"height\": 300, \"width\": 600, \"$schema\": \"https://vega.github.io/schema/vega-lite/v4.8.1.json\", \"datasets\": {\"data-74f107e0ec57eec7cfc90914afc6d99b\": [{\"Region\": \"Arica y Parinacota\", \"2020-04-27\": 265}, {\"Region\": \"Tarapac\\u00e1\", \"2020-04-27\": 164}, {\"Region\": \"Antofagasta\", \"2020-04-27\": 457}, {\"Region\": \"Atacama\", \"2020-04-27\": 35}, {\"Region\": \"Coquimbo\", \"2020-04-27\": 74}, {\"Region\": \"Valpara\\u00edso\", \"2020-04-27\": 485}, {\"Region\": \"Metropolitana\", \"2020-04-27\": 7858}, {\"Region\": \"O\\u2019Higgins\", \"2020-04-27\": 94}, {\"Region\": \"Maule\", \"2020-04-27\": 363}, {\"Region\": \"\\u00d1uble\", \"2020-04-27\": 741}, {\"Region\": \"Biob\\u00edo\", \"2020-04-27\": 706}, {\"Region\": \"Araucan\\u00eda\", \"2020-04-27\": 1236}, {\"Region\": \"Los R\\u00edos\", \"2020-04-27\": 180}, {\"Region\": \"Los Lagos\", \"2020-04-27\": 477}, {\"Region\": \"Ays\\u00e9n\", \"2020-04-27\": 7}, {\"Region\": \"Magallanes\", \"2020-04-27\": 671}]}}, {\"mode\": \"vega-lite\"});\n",
       "</script>"
      ],
      "text/plain": [
       "alt.LayerChart(...)"
      ]
     },
     "execution_count": 63,
     "metadata": {},
     "output_type": "execute_result"
    }
   ],
   "source": [
    "#hide_input\n",
    "bars = alt.Chart(data_raw).mark_bar().encode(\n",
    "#     x = alt.X(today, scale=alt.Scale(domain=(0, 6500)), axis=alt.Axis(title='Casos confirmados')),\n",
    "    x = alt.X(today, axis=alt.Axis(title='Casos confirmados')),\n",
    "    y = alt.Y('Region:N', sort='-x'),\n",
    "    tooltip = today \n",
    ").properties(\n",
    "    title=f'COVID-19 en Chile: Casos confirmados por región al {today_es_format}'\n",
    ")\n",
    "\n",
    "text = bars.mark_text(\n",
    "    align='left',\n",
    "    baseline='middle',\n",
    "    dx=3  # Nudges text to right so it doesn't appear on top of the bar\n",
    ").encode(\n",
    "    text=today\n",
    ")\n",
    "\n",
    "(bars + text).properties(width=600, height=300)"
   ]
  },
  {
   "cell_type": "markdown",
   "metadata": {},
   "source": [
    "Fuente: [Ministerio de Ciencia](https://github.com/MinCiencia/Datos-COVID19)"
   ]
  },
  {
   "cell_type": "markdown",
   "metadata": {},
   "source": [
    "# Casos confirmados por región por cada 100.000 habitantes"
   ]
  },
  {
   "cell_type": "code",
   "execution_count": 64,
   "metadata": {},
   "outputs": [],
   "source": [
    "#hide\n",
    "tests_raw = pd.read_csv(\n",
    "    'https://raw.githubusercontent.com/MinCiencia/Datos-COVID19/master/output/producto7/PCR.csv',\n",
    "    index_col='Region')"
   ]
  },
  {
   "cell_type": "code",
   "execution_count": 65,
   "metadata": {},
   "outputs": [],
   "source": [
    "#hide\n",
    "data_raw[\"Tasa de casos\"] = 100000*data_raw[today]/tests_raw[\"Poblacion\"].values"
   ]
  },
  {
   "cell_type": "code",
   "execution_count": 66,
   "metadata": {},
   "outputs": [
    {
     "data": {
      "text/html": [
       "\n",
       "<div id=\"altair-viz-528bc3336e9a4c0bb9700e502aba4065\"></div>\n",
       "<script type=\"text/javascript\">\n",
       "  (function(spec, embedOpt){\n",
       "    let outputDiv = document.currentScript.previousElementSibling;\n",
       "    if (outputDiv.id !== \"altair-viz-528bc3336e9a4c0bb9700e502aba4065\") {\n",
       "      outputDiv = document.getElementById(\"altair-viz-528bc3336e9a4c0bb9700e502aba4065\");\n",
       "    }\n",
       "    const paths = {\n",
       "      \"vega\": \"https://cdn.jsdelivr.net/npm//vega@5?noext\",\n",
       "      \"vega-lib\": \"https://cdn.jsdelivr.net/npm//vega-lib?noext\",\n",
       "      \"vega-lite\": \"https://cdn.jsdelivr.net/npm//vega-lite@4.8.1?noext\",\n",
       "      \"vega-embed\": \"https://cdn.jsdelivr.net/npm//vega-embed@6?noext\",\n",
       "    };\n",
       "\n",
       "    function loadScript(lib) {\n",
       "      return new Promise(function(resolve, reject) {\n",
       "        var s = document.createElement('script');\n",
       "        s.src = paths[lib];\n",
       "        s.async = true;\n",
       "        s.onload = () => resolve(paths[lib]);\n",
       "        s.onerror = () => reject(`Error loading script: ${paths[lib]}`);\n",
       "        document.getElementsByTagName(\"head\")[0].appendChild(s);\n",
       "      });\n",
       "    }\n",
       "\n",
       "    function showError(err) {\n",
       "      outputDiv.innerHTML = `<div class=\"error\" style=\"color:red;\">${err}</div>`;\n",
       "      throw err;\n",
       "    }\n",
       "\n",
       "    function displayChart(vegaEmbed) {\n",
       "      vegaEmbed(outputDiv, spec, embedOpt)\n",
       "        .catch(err => showError(`Javascript Error: ${err.message}<br>This usually means there's a typo in your chart specification. See the javascript console for the full traceback.`));\n",
       "    }\n",
       "\n",
       "    if(typeof define === \"function\" && define.amd) {\n",
       "      requirejs.config({paths});\n",
       "      require([\"vega-embed\"], displayChart, err => showError(`Error loading script: ${err.message}`));\n",
       "    } else if (typeof vegaEmbed === \"function\") {\n",
       "      displayChart(vegaEmbed);\n",
       "    } else {\n",
       "      loadScript(\"vega\")\n",
       "        .then(() => loadScript(\"vega-lite\"))\n",
       "        .then(() => loadScript(\"vega-embed\"))\n",
       "        .catch(showError)\n",
       "        .then(() => displayChart(vegaEmbed));\n",
       "    }\n",
       "  })({\"config\": {\"view\": {\"continuousWidth\": 400, \"continuousHeight\": 300}}, \"layer\": [{\"mark\": \"bar\", \"encoding\": {\"tooltip\": {\"type\": \"quantitative\", \"field\": \"Tasa de casos\"}, \"x\": {\"type\": \"quantitative\", \"axis\": {\"title\": \"Casos confirmados por cada 100.000 habitantes\"}, \"field\": \"Tasa de casos\"}, \"y\": {\"type\": \"nominal\", \"field\": \"Region\", \"sort\": \"-x\"}}, \"title\": \"COVID-19 en Chile: Casos confirmados por regi\\u00f3n por cada 100.000 habitantes al 27/04/2020\"}, {\"mark\": {\"type\": \"text\", \"align\": \"left\", \"baseline\": \"middle\", \"dx\": 3}, \"encoding\": {\"text\": {\"type\": \"quantitative\", \"field\": \"Tasa de casos\", \"format\": \",.2f\"}, \"tooltip\": {\"type\": \"quantitative\", \"field\": \"Tasa de casos\"}, \"x\": {\"type\": \"quantitative\", \"axis\": {\"title\": \"Casos confirmados por cada 100.000 habitantes\"}, \"field\": \"Tasa de casos\"}, \"y\": {\"type\": \"nominal\", \"field\": \"Region\", \"sort\": \"-x\"}}, \"title\": \"COVID-19 en Chile: Casos confirmados por regi\\u00f3n por cada 100.000 habitantes al 27/04/2020\"}], \"data\": {\"name\": \"data-520d90c3e38c044696110d844b5d5eb6\"}, \"height\": 300, \"width\": 600, \"$schema\": \"https://vega.github.io/schema/vega-lite/v4.8.1.json\", \"datasets\": {\"data-520d90c3e38c044696110d844b5d5eb6\": [{\"Region\": \"Arica y Parinacota\", \"2020-04-27\": 265, \"Tasa de casos\": 105.11284756653842}, {\"Region\": \"Tarapac\\u00e1\", \"2020-04-27\": 164, \"Tasa de casos\": 42.8452372555013}, {\"Region\": \"Antofagasta\", \"2020-04-27\": 457, \"Tasa de casos\": 66.05439876043211}, {\"Region\": \"Atacama\", \"2020-04-27\": 35, \"Tasa de casos\": 11.121385152633067}, {\"Region\": \"Coquimbo\", \"2020-04-27\": 74, \"Tasa de casos\": 8.850658297611757}, {\"Region\": \"Valpara\\u00edso\", \"2020-04-27\": 485, \"Tasa de casos\": 24.742751904171577}, {\"Region\": \"Metropolitana\", \"2020-04-27\": 7858, \"Tasa de casos\": 96.71298912797326}, {\"Region\": \"O\\u2019Higgins\", \"2020-04-27\": 94, \"Tasa de casos\": 9.48476534791431}, {\"Region\": \"Maule\", \"2020-04-27\": 363, \"Tasa de casos\": 32.06886590178446}, {\"Region\": \"\\u00d1uble\", \"2020-04-27\": 741, \"Tasa de casos\": 144.85359231044413}, {\"Region\": \"Biob\\u00edo\", \"2020-04-27\": 706, \"Tasa de casos\": 42.43563727988767}, {\"Region\": \"Araucan\\u00eda\", \"2020-04-27\": 1236, \"Tasa de casos\": 121.8522728505052}, {\"Region\": \"Los R\\u00edos\", \"2020-04-27\": 180, \"Tasa de casos\": 44.35300060369362}, {\"Region\": \"Los Lagos\", \"2020-04-27\": 477, \"Tasa de casos\": 53.50892937270035}, {\"Region\": \"Ays\\u00e9n\", \"2020-04-27\": 7, \"Tasa de casos\": 6.523947547461718}, {\"Region\": \"Magallanes\", \"2020-04-27\": 671, \"Tasa de casos\": 376.2012087776544}]}}, {\"mode\": \"vega-lite\"});\n",
       "</script>"
      ],
      "text/plain": [
       "alt.LayerChart(...)"
      ]
     },
     "execution_count": 66,
     "metadata": {},
     "output_type": "execute_result"
    }
   ],
   "source": [
    "#hide_input\n",
    "\n",
    "bars = alt.Chart(data_raw).mark_bar().encode(\n",
    "    x = alt.X('Tasa de casos:Q', axis=alt.Axis(title='Casos confirmados por cada 100.000 habitantes')),\n",
    "    y = alt.Y('Region:N', sort='-x'),\n",
    "    tooltip = 'Tasa de casos'\n",
    ").properties(\n",
    "    title=f'COVID-19 en Chile: Casos confirmados por región por cada 100.000 habitantes al {today_es_format}'\n",
    ")\n",
    "\n",
    "text = bars.mark_text(\n",
    "    align='left',\n",
    "    baseline='middle',\n",
    "    dx=3  # Nudges text to right so it doesn't appear on top of the bar\n",
    ").encode(\n",
    "    text=alt.Text('Tasa de casos:Q', format=',.2f')\n",
    ")\n",
    "\n",
    "# bars.configure_title(\n",
    "#     fontSize=20,\n",
    "#     font='Courier',\n",
    "#     anchor='start',\n",
    "#     color='gray'\n",
    "# )\n",
    "\n",
    "(bars + text).properties(width=600, height=300)"
   ]
  },
  {
   "cell_type": "markdown",
   "metadata": {},
   "source": [
    "Fuente: [Ministerio de Ciencia](https://github.com/MinCiencia/Datos-COVID19)"
   ]
  },
  {
   "cell_type": "markdown",
   "metadata": {},
   "source": [
    "# Fallecidos confirmados por región"
   ]
  },
  {
   "cell_type": "code",
   "execution_count": 67,
   "metadata": {},
   "outputs": [],
   "source": [
    "#hide\n",
    "s = 'https://raw.githubusercontent.com/MinCiencia/Datos-COVID19/master/output/producto4/' + today +'-CasosConfirmados-totalRegional.csv'\n",
    "data_raw = pd.read_csv(s, index_col='Region')"
   ]
  },
  {
   "cell_type": "code",
   "execution_count": 68,
   "metadata": {},
   "outputs": [],
   "source": [
    "#hide\n",
    "data_raw = data_raw[data_raw['Fallecidos']>0]\n",
    "data_raw = data_raw.drop('Total')"
   ]
  },
  {
   "cell_type": "code",
   "execution_count": 69,
   "metadata": {},
   "outputs": [
    {
     "data": {
      "text/html": [
       "\n",
       "<div id=\"altair-viz-9a7c2360931a422bb5b1631c7cbf047d\"></div>\n",
       "<script type=\"text/javascript\">\n",
       "  (function(spec, embedOpt){\n",
       "    let outputDiv = document.currentScript.previousElementSibling;\n",
       "    if (outputDiv.id !== \"altair-viz-9a7c2360931a422bb5b1631c7cbf047d\") {\n",
       "      outputDiv = document.getElementById(\"altair-viz-9a7c2360931a422bb5b1631c7cbf047d\");\n",
       "    }\n",
       "    const paths = {\n",
       "      \"vega\": \"https://cdn.jsdelivr.net/npm//vega@5?noext\",\n",
       "      \"vega-lib\": \"https://cdn.jsdelivr.net/npm//vega-lib?noext\",\n",
       "      \"vega-lite\": \"https://cdn.jsdelivr.net/npm//vega-lite@4.8.1?noext\",\n",
       "      \"vega-embed\": \"https://cdn.jsdelivr.net/npm//vega-embed@6?noext\",\n",
       "    };\n",
       "\n",
       "    function loadScript(lib) {\n",
       "      return new Promise(function(resolve, reject) {\n",
       "        var s = document.createElement('script');\n",
       "        s.src = paths[lib];\n",
       "        s.async = true;\n",
       "        s.onload = () => resolve(paths[lib]);\n",
       "        s.onerror = () => reject(`Error loading script: ${paths[lib]}`);\n",
       "        document.getElementsByTagName(\"head\")[0].appendChild(s);\n",
       "      });\n",
       "    }\n",
       "\n",
       "    function showError(err) {\n",
       "      outputDiv.innerHTML = `<div class=\"error\" style=\"color:red;\">${err}</div>`;\n",
       "      throw err;\n",
       "    }\n",
       "\n",
       "    function displayChart(vegaEmbed) {\n",
       "      vegaEmbed(outputDiv, spec, embedOpt)\n",
       "        .catch(err => showError(`Javascript Error: ${err.message}<br>This usually means there's a typo in your chart specification. See the javascript console for the full traceback.`));\n",
       "    }\n",
       "\n",
       "    if(typeof define === \"function\" && define.amd) {\n",
       "      requirejs.config({paths});\n",
       "      require([\"vega-embed\"], displayChart, err => showError(`Error loading script: ${err.message}`));\n",
       "    } else if (typeof vegaEmbed === \"function\") {\n",
       "      displayChart(vegaEmbed);\n",
       "    } else {\n",
       "      loadScript(\"vega\")\n",
       "        .then(() => loadScript(\"vega-lite\"))\n",
       "        .then(() => loadScript(\"vega-embed\"))\n",
       "        .catch(showError)\n",
       "        .then(() => displayChart(vegaEmbed));\n",
       "    }\n",
       "  })({\"config\": {\"view\": {\"continuousWidth\": 400, \"continuousHeight\": 300}}, \"layer\": [{\"mark\": \"bar\", \"encoding\": {\"tooltip\": {\"type\": \"quantitative\", \"field\": \"Fallecidos\"}, \"x\": {\"type\": \"quantitative\", \"axis\": {\"title\": \"Fallecidos confirmados\"}, \"field\": \"Fallecidos\"}, \"y\": {\"type\": \"nominal\", \"field\": \"Region\", \"sort\": \"-x\"}}, \"title\": \"COVID-19 en Chile: Fallecidos confirmados por regi\\u00f3n al 27/04/2020\"}, {\"mark\": {\"type\": \"text\", \"align\": \"left\", \"baseline\": \"middle\", \"dx\": 3}, \"encoding\": {\"text\": {\"type\": \"quantitative\", \"field\": \"Fallecidos\"}, \"tooltip\": {\"type\": \"quantitative\", \"field\": \"Fallecidos\"}, \"x\": {\"type\": \"quantitative\", \"axis\": {\"title\": \"Fallecidos confirmados\"}, \"field\": \"Fallecidos\"}, \"y\": {\"type\": \"nominal\", \"field\": \"Region\", \"sort\": \"-x\"}}, \"title\": \"COVID-19 en Chile: Fallecidos confirmados por regi\\u00f3n al 27/04/2020\"}], \"data\": {\"name\": \"data-d3053388f0e1e6e71e2c7326ca90223b\"}, \"height\": 300, \"width\": 600, \"$schema\": \"https://vega.github.io/schema/vega-lite/v4.8.1.json\", \"datasets\": {\"data-d3053388f0e1e6e71e2c7326ca90223b\": [{\"Region\": \"Arica  y  Parinacota\", \"Casos  nuevos\": 13, \"Casos  totales\": 265, \"%  Casos  totales**\": \"1.92  %\", \"Fallecidos\": 3}, {\"Region\": \"Tarapaca\", \"Casos  nuevos\": 8, \"Casos  totales\": 164, \"%  Casos  totales**\": \"1.19  %\", \"Fallecidos\": 1}, {\"Region\": \"Antofagasta\", \"Casos  nuevos\": 14, \"Casos  totales\": 457, \"%  Casos  totales**\": \"3.31  %\", \"Fallecidos\": 4}, {\"Region\": \"Valparaiso\", \"Casos  nuevos\": 25, \"Casos  totales\": 485, \"%  Casos  totales**\": \"3.51  %\", \"Fallecidos\": 9}, {\"Region\": \"Metropolitana\", \"Casos  nuevos\": 362, \"Casos  totales\": 7858, \"%  Casos  totales**\": \"56.89  %\", \"Fallecidos\": 95}, {\"Region\": \"O'Higgins\", \"Casos  nuevos\": 2, \"Casos  totales\": 94, \"%  Casos  totales**\": \"0.68  %\", \"Fallecidos\": 1}, {\"Region\": \"Maule\", \"Casos  nuevos\": 9, \"Casos  totales\": 363, \"%  Casos  totales**\": \"2.63  %\", \"Fallecidos\": 12}, {\"Region\": \"Nuble\", \"Casos  nuevos\": 10, \"Casos  totales\": 741, \"%  Casos  totales**\": \"5.36  %\", \"Fallecidos\": 14}, {\"Region\": \"Biobio\", \"Casos  nuevos\": 3, \"Casos  totales\": 706, \"%  Casos  totales**\": \"5.11  %\", \"Fallecidos\": 6}, {\"Region\": \"Araucania\", \"Casos  nuevos\": 20, \"Casos  totales\": 1236, \"%  Casos  totales**\": \"8.95  %\", \"Fallecidos\": 32}, {\"Region\": \"Los  Rios\", \"Casos  nuevos\": 2, \"Casos  totales\": 180, \"%  Casos  totales**\": \"1.30  %\", \"Fallecidos\": 3}, {\"Region\": \"Los  Lagos\", \"Casos  nuevos\": 4, \"Casos  totales\": 477, \"%  Casos  totales**\": \"3.45  %\", \"Fallecidos\": 8}, {\"Region\": \"Magallanes\", \"Casos  nuevos\": 3, \"Casos  totales\": 671, \"%  Casos  totales**\": \"4.86  %\", \"Fallecidos\": 10}]}}, {\"mode\": \"vega-lite\"});\n",
       "</script>"
      ],
      "text/plain": [
       "alt.LayerChart(...)"
      ]
     },
     "execution_count": 69,
     "metadata": {},
     "output_type": "execute_result"
    }
   ],
   "source": [
    "#hide_input\n",
    "bars = alt.Chart(data_raw.reset_index()).mark_bar().encode(\n",
    "    x = alt.X('Fallecidos:Q', axis=alt.Axis(title='Fallecidos confirmados')),\n",
    "    y = alt.Y('Region:N', sort='-x'),\n",
    "    tooltip = 'Fallecidos'\n",
    ").properties(\n",
    "    title=f'COVID-19 en Chile: Fallecidos confirmados por región al {today_es_format}'\n",
    ")\n",
    "\n",
    "text = bars.mark_text(\n",
    "    align='left',\n",
    "    baseline='middle',\n",
    "    dx=3  # Nudges text to right so it doesn't appear on top of the bar\n",
    ").encode(\n",
    "    text='Fallecidos:Q'\n",
    ")\n",
    "\n",
    "bars.configure_title(\n",
    "    fontSize=20,\n",
    "    font='Courier',\n",
    "    anchor='start',\n",
    "    color='gray'\n",
    ")\n",
    "\n",
    "(bars + text).properties(width=600, height=300)"
   ]
  },
  {
   "cell_type": "markdown",
   "metadata": {},
   "source": [
    "Fuente: [Ministerio de Ciencia](https://github.com/MinCiencia/Datos-COVID19)"
   ]
  },
  {
   "cell_type": "markdown",
   "metadata": {},
   "source": [
    "# Fallecidos confirmados por región por cada 100.000 habitantes"
   ]
  },
  {
   "cell_type": "code",
   "execution_count": 70,
   "metadata": {},
   "outputs": [],
   "source": [
    "#hide\n",
    "s = 'https://raw.githubusercontent.com/MinCiencia/Datos-COVID19/master/output/producto4/' + today + '-CasosConfirmados-totalRegional.csv'\n",
    "data_raw = pd.read_csv(s, index_col='Region')"
   ]
  },
  {
   "cell_type": "code",
   "execution_count": 71,
   "metadata": {},
   "outputs": [],
   "source": [
    "#hide\n",
    "tests_raw = pd.read_csv(\n",
    "    'https://raw.githubusercontent.com/MinCiencia/Datos-COVID19/master/output/producto7/PCR.csv',\n",
    "    index_col='Region')\n",
    "tests_raw = tests_raw.fillna(0)"
   ]
  },
  {
   "cell_type": "code",
   "execution_count": 72,
   "metadata": {},
   "outputs": [],
   "source": [
    "#hide\n",
    "tests_total = pd.Series(dtype='float64')\n",
    "for date in tests_raw.columns:\n",
    "  tests_raw[date] = tests_raw[date].apply(lambda x: 0 if x=='-' else x)\n",
    "  tests_raw[date] = tests_raw[date].astype(int)\n",
    "  tests_total[date] = np.sum(tests_raw[date])"
   ]
  },
  {
   "cell_type": "code",
   "execution_count": 73,
   "metadata": {},
   "outputs": [],
   "source": [
    "#hide\n",
    "tests_raw.loc['Total'] = tests_total"
   ]
  },
  {
   "cell_type": "code",
   "execution_count": 74,
   "metadata": {},
   "outputs": [],
   "source": [
    "#hide\n",
    "death_rate = 100000*data_raw['Fallecidos']/tests_raw['Poblacion'].values\n",
    "death_rate = death_rate.sort_values(ascending=True)\n",
    "death_rate = death_rate[death_rate>0]"
   ]
  },
  {
   "cell_type": "code",
   "execution_count": 75,
   "metadata": {
    "scrolled": false
   },
   "outputs": [
    {
     "data": {
      "text/html": [
       "\n",
       "<div id=\"altair-viz-06fdd33c8a334c9393f7b6ceb1ca9be9\"></div>\n",
       "<script type=\"text/javascript\">\n",
       "  (function(spec, embedOpt){\n",
       "    let outputDiv = document.currentScript.previousElementSibling;\n",
       "    if (outputDiv.id !== \"altair-viz-06fdd33c8a334c9393f7b6ceb1ca9be9\") {\n",
       "      outputDiv = document.getElementById(\"altair-viz-06fdd33c8a334c9393f7b6ceb1ca9be9\");\n",
       "    }\n",
       "    const paths = {\n",
       "      \"vega\": \"https://cdn.jsdelivr.net/npm//vega@5?noext\",\n",
       "      \"vega-lib\": \"https://cdn.jsdelivr.net/npm//vega-lib?noext\",\n",
       "      \"vega-lite\": \"https://cdn.jsdelivr.net/npm//vega-lite@4.8.1?noext\",\n",
       "      \"vega-embed\": \"https://cdn.jsdelivr.net/npm//vega-embed@6?noext\",\n",
       "    };\n",
       "\n",
       "    function loadScript(lib) {\n",
       "      return new Promise(function(resolve, reject) {\n",
       "        var s = document.createElement('script');\n",
       "        s.src = paths[lib];\n",
       "        s.async = true;\n",
       "        s.onload = () => resolve(paths[lib]);\n",
       "        s.onerror = () => reject(`Error loading script: ${paths[lib]}`);\n",
       "        document.getElementsByTagName(\"head\")[0].appendChild(s);\n",
       "      });\n",
       "    }\n",
       "\n",
       "    function showError(err) {\n",
       "      outputDiv.innerHTML = `<div class=\"error\" style=\"color:red;\">${err}</div>`;\n",
       "      throw err;\n",
       "    }\n",
       "\n",
       "    function displayChart(vegaEmbed) {\n",
       "      vegaEmbed(outputDiv, spec, embedOpt)\n",
       "        .catch(err => showError(`Javascript Error: ${err.message}<br>This usually means there's a typo in your chart specification. See the javascript console for the full traceback.`));\n",
       "    }\n",
       "\n",
       "    if(typeof define === \"function\" && define.amd) {\n",
       "      requirejs.config({paths});\n",
       "      require([\"vega-embed\"], displayChart, err => showError(`Error loading script: ${err.message}`));\n",
       "    } else if (typeof vegaEmbed === \"function\") {\n",
       "      displayChart(vegaEmbed);\n",
       "    } else {\n",
       "      loadScript(\"vega\")\n",
       "        .then(() => loadScript(\"vega-lite\"))\n",
       "        .then(() => loadScript(\"vega-embed\"))\n",
       "        .catch(showError)\n",
       "        .then(() => displayChart(vegaEmbed));\n",
       "    }\n",
       "  })({\"config\": {\"view\": {\"continuousWidth\": 400, \"continuousHeight\": 300}}, \"layer\": [{\"mark\": \"bar\", \"encoding\": {\"tooltip\": {\"type\": \"quantitative\", \"field\": \"Fallecidos\"}, \"x\": {\"type\": \"quantitative\", \"axis\": {\"title\": \"Fallecidos confirmados por cada 100.000 habitantes\"}, \"field\": \"Fallecidos\"}, \"y\": {\"type\": \"nominal\", \"field\": \"Region\", \"sort\": \"-x\"}}, \"title\": \"COVID-19 en Chile: Fallecidos confirmados por regi\\u00f3n por cada 100.000 habitantes al 27/04/2020\"}, {\"mark\": {\"type\": \"text\", \"align\": \"left\", \"baseline\": \"middle\", \"dx\": 3}, \"encoding\": {\"text\": {\"type\": \"quantitative\", \"field\": \"Fallecidos\", \"format\": \",.2f\"}, \"tooltip\": {\"type\": \"quantitative\", \"field\": \"Fallecidos\"}, \"x\": {\"type\": \"quantitative\", \"axis\": {\"title\": \"Fallecidos confirmados por cada 100.000 habitantes\"}, \"field\": \"Fallecidos\"}, \"y\": {\"type\": \"nominal\", \"field\": \"Region\", \"sort\": \"-x\"}}, \"title\": \"COVID-19 en Chile: Fallecidos confirmados por regi\\u00f3n por cada 100.000 habitantes al 27/04/2020\"}], \"data\": {\"name\": \"data-c1b6b4bf9c9069ad27ce0e4483befb4e\"}, \"height\": 300, \"width\": 600, \"$schema\": \"https://vega.github.io/schema/vega-lite/v4.8.1.json\", \"datasets\": {\"data-c1b6b4bf9c9069ad27ce0e4483befb4e\": [{\"Region\": \"O'Higgins\", \"Fallecidos\": 0.10090175902036501}, {\"Region\": \"Tarapaca\", \"Fallecidos\": 0.261251446679886}, {\"Region\": \"Biobio\", \"Fallecidos\": 0.36064280974408786}, {\"Region\": \"Valparaiso\", \"Fallecidos\": 0.45914384976813233}, {\"Region\": \"Antofagasta\", \"Fallecidos\": 0.5781566631110032}, {\"Region\": \"Los  Rios\", \"Fallecidos\": 0.739216676728227}, {\"Region\": \"Los  Lagos\", \"Fallecidos\": 0.8974243919949744}, {\"Region\": \"Total\", \"Fallecidos\": 1.0175601067101923}, {\"Region\": \"Maule\", \"Fallecidos\": 1.060127798406098}, {\"Region\": \"Metropolitana\", \"Fallecidos\": 1.1692204081391524}, {\"Region\": \"Arica  y  Parinacota\", \"Fallecidos\": 1.1899567649042084}, {\"Region\": \"Nuble\", \"Fallecidos\": 2.7367750234092005}, {\"Region\": \"Araucania\", \"Fallecidos\": 3.154751400660329}, {\"Region\": \"Magallanes\", \"Fallecidos\": 5.606575391619291}]}}, {\"mode\": \"vega-lite\"});\n",
       "</script>"
      ],
      "text/plain": [
       "alt.LayerChart(...)"
      ]
     },
     "execution_count": 75,
     "metadata": {},
     "output_type": "execute_result"
    }
   ],
   "source": [
    "#hide_input\n",
    "bars = alt.Chart(death_rate.reset_index()).mark_bar().encode(\n",
    "    x = alt.X('Fallecidos:Q', axis=alt.Axis(title='Fallecidos confirmados por cada 100.000 habitantes')),\n",
    "    y = alt.Y('Region:N', sort='-x'),\n",
    "    tooltip = 'Fallecidos'\n",
    ").properties(\n",
    "    title=f'COVID-19 en Chile: Fallecidos confirmados por región por cada 100.000 habitantes al {today_es_format}'\n",
    ")\n",
    "\n",
    "text = bars.mark_text(\n",
    "    align='left',\n",
    "    baseline='middle',\n",
    "    dx=3  # Nudges text to right so it doesn't appear on top of the bar\n",
    ").encode(\n",
    "    text=alt.Text('Fallecidos:Q', format=',.2f')\n",
    ")\n",
    "\n",
    "bars.configure_title(\n",
    "    fontSize=20,\n",
    "    font='Courier',\n",
    "    anchor='start',\n",
    "    color='gray'\n",
    ")\n",
    "\n",
    "(bars + text).properties(width=600, height=300)"
   ]
  },
  {
   "cell_type": "markdown",
   "metadata": {},
   "source": [
    "Fuente: [Ministerio de Ciencia](https://github.com/MinCiencia/Datos-COVID19)"
   ]
  },
  {
   "cell_type": "markdown",
   "metadata": {},
   "source": [
    "# Tasa de letalidad por región\n",
    "> Tasa de letalidad = fallecidos confirmados / casos confirmados (en porcentaje)"
   ]
  },
  {
   "cell_type": "code",
   "execution_count": 76,
   "metadata": {},
   "outputs": [],
   "source": [
    "#hide\n",
    "CFR = data_raw['Fallecidos']/data_raw['Casos  totales']*100\n",
    "CFR = CFR.sort_values(ascending=True)\n",
    "CFR = CFR[CFR>0]"
   ]
  },
  {
   "cell_type": "code",
   "execution_count": 77,
   "metadata": {},
   "outputs": [],
   "source": [
    "#hide\n",
    "CFR = CFR.reset_index()\n",
    "CFR['Tasa de letalidad'] = CFR[0]\n",
    "CFR = CFR.drop(columns=0)"
   ]
  },
  {
   "cell_type": "code",
   "execution_count": 78,
   "metadata": {
    "scrolled": false
   },
   "outputs": [
    {
     "data": {
      "text/html": [
       "\n",
       "<div id=\"altair-viz-d7971983d5fa47a2b7c5a7116d3d20b4\"></div>\n",
       "<script type=\"text/javascript\">\n",
       "  (function(spec, embedOpt){\n",
       "    let outputDiv = document.currentScript.previousElementSibling;\n",
       "    if (outputDiv.id !== \"altair-viz-d7971983d5fa47a2b7c5a7116d3d20b4\") {\n",
       "      outputDiv = document.getElementById(\"altair-viz-d7971983d5fa47a2b7c5a7116d3d20b4\");\n",
       "    }\n",
       "    const paths = {\n",
       "      \"vega\": \"https://cdn.jsdelivr.net/npm//vega@5?noext\",\n",
       "      \"vega-lib\": \"https://cdn.jsdelivr.net/npm//vega-lib?noext\",\n",
       "      \"vega-lite\": \"https://cdn.jsdelivr.net/npm//vega-lite@4.8.1?noext\",\n",
       "      \"vega-embed\": \"https://cdn.jsdelivr.net/npm//vega-embed@6?noext\",\n",
       "    };\n",
       "\n",
       "    function loadScript(lib) {\n",
       "      return new Promise(function(resolve, reject) {\n",
       "        var s = document.createElement('script');\n",
       "        s.src = paths[lib];\n",
       "        s.async = true;\n",
       "        s.onload = () => resolve(paths[lib]);\n",
       "        s.onerror = () => reject(`Error loading script: ${paths[lib]}`);\n",
       "        document.getElementsByTagName(\"head\")[0].appendChild(s);\n",
       "      });\n",
       "    }\n",
       "\n",
       "    function showError(err) {\n",
       "      outputDiv.innerHTML = `<div class=\"error\" style=\"color:red;\">${err}</div>`;\n",
       "      throw err;\n",
       "    }\n",
       "\n",
       "    function displayChart(vegaEmbed) {\n",
       "      vegaEmbed(outputDiv, spec, embedOpt)\n",
       "        .catch(err => showError(`Javascript Error: ${err.message}<br>This usually means there's a typo in your chart specification. See the javascript console for the full traceback.`));\n",
       "    }\n",
       "\n",
       "    if(typeof define === \"function\" && define.amd) {\n",
       "      requirejs.config({paths});\n",
       "      require([\"vega-embed\"], displayChart, err => showError(`Error loading script: ${err.message}`));\n",
       "    } else if (typeof vegaEmbed === \"function\") {\n",
       "      displayChart(vegaEmbed);\n",
       "    } else {\n",
       "      loadScript(\"vega\")\n",
       "        .then(() => loadScript(\"vega-lite\"))\n",
       "        .then(() => loadScript(\"vega-embed\"))\n",
       "        .catch(showError)\n",
       "        .then(() => displayChart(vegaEmbed));\n",
       "    }\n",
       "  })({\"config\": {\"view\": {\"continuousWidth\": 400, \"continuousHeight\": 300}}, \"layer\": [{\"mark\": \"bar\", \"encoding\": {\"tooltip\": {\"type\": \"quantitative\", \"field\": \"Tasa de letalidad\"}, \"x\": {\"type\": \"quantitative\", \"axis\": {\"title\": \"Tasa de letalidad\"}, \"field\": \"Tasa de letalidad\"}, \"y\": {\"type\": \"nominal\", \"field\": \"Region\", \"sort\": \"-x\"}}, \"title\": \"COVID-19 en Chile: Tasa de letalidad por regi\\u00f3n al 27/04/2020\"}, {\"mark\": {\"type\": \"text\", \"align\": \"left\", \"baseline\": \"middle\", \"dx\": 3}, \"encoding\": {\"text\": {\"type\": \"quantitative\", \"field\": \"Tasa de letalidad\", \"format\": \",.1f\"}, \"tooltip\": {\"type\": \"quantitative\", \"field\": \"Tasa de letalidad\"}, \"x\": {\"type\": \"quantitative\", \"axis\": {\"title\": \"Tasa de letalidad\"}, \"field\": \"Tasa de letalidad\"}, \"y\": {\"type\": \"nominal\", \"field\": \"Region\", \"sort\": \"-x\"}}, \"title\": \"COVID-19 en Chile: Tasa de letalidad por regi\\u00f3n al 27/04/2020\"}], \"data\": {\"name\": \"data-5828b367ee46fcb154f8d4a713f78a14\"}, \"height\": 300, \"width\": 600, \"$schema\": \"https://vega.github.io/schema/vega-lite/v4.8.1.json\", \"datasets\": {\"data-5828b367ee46fcb154f8d4a713f78a14\": [{\"Region\": \"Tarapaca\", \"Tasa de letalidad\": 0.6097560975609756}, {\"Region\": \"Biobio\", \"Tasa de letalidad\": 0.84985835694051}, {\"Region\": \"Antofagasta\", \"Tasa de letalidad\": 0.87527352297593}, {\"Region\": \"O'Higgins\", \"Tasa de letalidad\": 1.0638297872340425}, {\"Region\": \"Arica  y  Parinacota\", \"Tasa de letalidad\": 1.1320754716981132}, {\"Region\": \"Metropolitana\", \"Tasa de letalidad\": 1.2089590226520743}, {\"Region\": \"Total\", \"Tasa de letalidad\": 1.4334322739448346}, {\"Region\": \"Magallanes\", \"Tasa de letalidad\": 1.4903129657228018}, {\"Region\": \"Los  Rios\", \"Tasa de letalidad\": 1.6666666666666667}, {\"Region\": \"Los  Lagos\", \"Tasa de letalidad\": 1.6771488469601679}, {\"Region\": \"Valparaiso\", \"Tasa de letalidad\": 1.8556701030927836}, {\"Region\": \"Nuble\", \"Tasa de letalidad\": 1.8893387314439947}, {\"Region\": \"Araucania\", \"Tasa de letalidad\": 2.5889967637540456}, {\"Region\": \"Maule\", \"Tasa de letalidad\": 3.3057851239669422}]}}, {\"mode\": \"vega-lite\"});\n",
       "</script>"
      ],
      "text/plain": [
       "alt.LayerChart(...)"
      ]
     },
     "execution_count": 78,
     "metadata": {},
     "output_type": "execute_result"
    }
   ],
   "source": [
    "#hide_input\n",
    "bars = alt.Chart(CFR).mark_bar().encode(\n",
    "    x = alt.X('Tasa de letalidad:Q', axis=alt.Axis(title='Tasa de letalidad')),\n",
    "    y = alt.Y('Region:N', sort='-x'),\n",
    "    tooltip = 'Tasa de letalidad'\n",
    ").properties(\n",
    "    title=f'COVID-19 en Chile: Tasa de letalidad por región al {today_es_format}'\n",
    ")\n",
    "\n",
    "text = bars.mark_text(\n",
    "    align='left',\n",
    "    baseline='middle',\n",
    "    dx=3  # Nudges text to right so it doesn't appear on top of the bar\n",
    ").encode(\n",
    "    text=alt.Text('Tasa de letalidad:Q', format=',.1f')\n",
    ")\n",
    "\n",
    "bars.configure_title(\n",
    "    fontSize=20,\n",
    "    font='Courier',\n",
    "    anchor='start',\n",
    "    color='gray'\n",
    ")\n",
    "\n",
    "(bars + text).properties(width=600, height=300)"
   ]
  },
  {
   "cell_type": "markdown",
   "metadata": {},
   "source": [
    "Fuente: [Ministerio de Ciencia](https://github.com/MinCiencia/Datos-COVID19)"
   ]
  },
  {
   "cell_type": "markdown",
   "metadata": {},
   "source": [
    "# Exámenes informados por región desde el 9 de abril\n",
    "Nota: sólo se dispone de los datos de exámenes informados por región desde el 9 de abril"
   ]
  },
  {
   "cell_type": "code",
   "execution_count": 196,
   "metadata": {},
   "outputs": [],
   "source": [
    "#hide\n",
    "s = 'https://raw.githubusercontent.com/MinCiencia/Datos-COVID19/master/output/producto4/2020-04-08-CasosConfirmados-totalRegional.csv'\n",
    "data_20200408 = pd.read_csv(s, index_col='Region')"
   ]
  },
  {
   "cell_type": "code",
   "execution_count": 197,
   "metadata": {},
   "outputs": [],
   "source": [
    "#hide\n",
    "s = 'https://raw.githubusercontent.com/MinCiencia/Datos-COVID19/master/output/producto4/' + today +'-CasosConfirmados-totalRegional.csv'\n",
    "data_update_date = pd.read_csv(s, index_col='Region')"
   ]
  },
  {
   "cell_type": "code",
   "execution_count": 198,
   "metadata": {},
   "outputs": [],
   "source": [
    "#hide\n",
    "tests_raw = pd.read_csv(\n",
    "    'https://raw.githubusercontent.com/MinCiencia/Datos-COVID19/master/output/producto7/PCR.csv',\n",
    "    index_col='Region')\n",
    "tests_raw = tests_raw.fillna(0)"
   ]
  },
  {
   "cell_type": "code",
   "execution_count": 199,
   "metadata": {},
   "outputs": [],
   "source": [
    "#hide\n",
    "tests_total = pd.Series(dtype='float64')\n",
    "for date in tests_raw.columns:\n",
    "  tests_raw[date] = tests_raw[date].apply(lambda x: 0 if x=='-' else x)\n",
    "  tests_raw[date] = tests_raw[date].astype(int)\n",
    "  tests_total[date] = np.sum(tests_raw[date])"
   ]
  },
  {
   "cell_type": "code",
   "execution_count": 200,
   "metadata": {},
   "outputs": [],
   "source": [
    "#hide\n",
    "tests_raw.loc['Total'] = tests_total"
   ]
  },
  {
   "cell_type": "code",
   "execution_count": 201,
   "metadata": {},
   "outputs": [],
   "source": [
    "#hide\n",
    "data = pd.DataFrame()\n",
    "data[\"Fallecidos\"] = data_update_date[\"Fallecidos\"]-data_20200408[\"Fallecidos\"]\n",
    "data[\"Casos\"] = data_update_date[\"Casos  totales\"]-data_20200408[\"Casos  totales\"]\n",
    "data[\"Tests\"] = tests_raw.drop(columns='Poblacion').sum(axis=1).values"
   ]
  },
  {
   "cell_type": "code",
   "execution_count": 202,
   "metadata": {},
   "outputs": [],
   "source": [
    "#hide\n",
    "data_per_capita = pd.DataFrame()\n",
    "data_per_capita[\"Fallecidos\"] = np.round(100000*data[\"Fallecidos\"]/tests_raw[\"Poblacion\"].values, decimals=1)\n",
    "data_per_capita[\"Casos\"] = np.round(100000*data[\"Casos\"]/tests_raw[\"Poblacion\"].values, decimals=1)\n",
    "data_per_capita[\"Tests\"] = np.round(100000*data[\"Tests\"]/tests_raw[\"Poblacion\"].values, decimals=1)"
   ]
  },
  {
   "cell_type": "code",
   "execution_count": 203,
   "metadata": {},
   "outputs": [],
   "source": [
    "#hide\n",
    "casos_raw = pd.read_csv(\n",
    "    \"https://raw.githubusercontent.com/MinCiencia/Datos-COVID19/master/output/producto3/CasosTotalesCumulativo.csv\", \n",
    "    index_col='Region')"
   ]
  },
  {
   "cell_type": "code",
   "execution_count": 204,
   "metadata": {},
   "outputs": [],
   "source": [
    "#hide\n",
    "casos_20200408 = pd.read_csv('https://raw.githubusercontent.com/MinCiencia/Datos-COVID19/master/output/producto4/2020-04-08-CasosConfirmados-totalRegional.csv', index_col='Region')"
   ]
  },
  {
   "cell_type": "code",
   "execution_count": 205,
   "metadata": {},
   "outputs": [],
   "source": [
    "#hide\n",
    "s = 'https://raw.githubusercontent.com/MinCiencia/Datos-COVID19/master/output/producto4/' + today + '-CasosConfirmados-totalRegional.csv'\n",
    "casos_update_date = pd.read_csv(s, index_col='Region')"
   ]
  },
  {
   "cell_type": "code",
   "execution_count": 206,
   "metadata": {},
   "outputs": [],
   "source": [
    "#hide\n",
    "positividad = 100*(casos_update_date['Casos  totales'] - casos_20200408['Casos  totales'])/tests_raw.drop(columns='Poblacion').sum(axis=1).values"
   ]
  },
  {
   "cell_type": "code",
   "execution_count": 207,
   "metadata": {},
   "outputs": [],
   "source": [
    "#hide\n",
    "tests_raw['tests informados'] = tests_raw.drop(columns='Poblacion').sum(axis=1)"
   ]
  },
  {
   "cell_type": "code",
   "execution_count": 208,
   "metadata": {},
   "outputs": [],
   "source": [
    "#hide\n",
    "tests_raw['tasa de tests'] = np.round(100000*tests_raw['tests informados']/tests_raw['Poblacion'], decimals=1)"
   ]
  },
  {
   "cell_type": "code",
   "execution_count": 209,
   "metadata": {},
   "outputs": [
    {
     "data": {
      "text/html": [
       "\n",
       "<div id=\"altair-viz-2fad89a2f93e410f8f0ff7ac44bb142f\"></div>\n",
       "<script type=\"text/javascript\">\n",
       "  (function(spec, embedOpt){\n",
       "    let outputDiv = document.currentScript.previousElementSibling;\n",
       "    if (outputDiv.id !== \"altair-viz-2fad89a2f93e410f8f0ff7ac44bb142f\") {\n",
       "      outputDiv = document.getElementById(\"altair-viz-2fad89a2f93e410f8f0ff7ac44bb142f\");\n",
       "    }\n",
       "    const paths = {\n",
       "      \"vega\": \"https://cdn.jsdelivr.net/npm//vega@5?noext\",\n",
       "      \"vega-lib\": \"https://cdn.jsdelivr.net/npm//vega-lib?noext\",\n",
       "      \"vega-lite\": \"https://cdn.jsdelivr.net/npm//vega-lite@4.8.1?noext\",\n",
       "      \"vega-embed\": \"https://cdn.jsdelivr.net/npm//vega-embed@6?noext\",\n",
       "    };\n",
       "\n",
       "    function loadScript(lib) {\n",
       "      return new Promise(function(resolve, reject) {\n",
       "        var s = document.createElement('script');\n",
       "        s.src = paths[lib];\n",
       "        s.async = true;\n",
       "        s.onload = () => resolve(paths[lib]);\n",
       "        s.onerror = () => reject(`Error loading script: ${paths[lib]}`);\n",
       "        document.getElementsByTagName(\"head\")[0].appendChild(s);\n",
       "      });\n",
       "    }\n",
       "\n",
       "    function showError(err) {\n",
       "      outputDiv.innerHTML = `<div class=\"error\" style=\"color:red;\">${err}</div>`;\n",
       "      throw err;\n",
       "    }\n",
       "\n",
       "    function displayChart(vegaEmbed) {\n",
       "      vegaEmbed(outputDiv, spec, embedOpt)\n",
       "        .catch(err => showError(`Javascript Error: ${err.message}<br>This usually means there's a typo in your chart specification. See the javascript console for the full traceback.`));\n",
       "    }\n",
       "\n",
       "    if(typeof define === \"function\" && define.amd) {\n",
       "      requirejs.config({paths});\n",
       "      require([\"vega-embed\"], displayChart, err => showError(`Error loading script: ${err.message}`));\n",
       "    } else if (typeof vegaEmbed === \"function\") {\n",
       "      displayChart(vegaEmbed);\n",
       "    } else {\n",
       "      loadScript(\"vega\")\n",
       "        .then(() => loadScript(\"vega-lite\"))\n",
       "        .then(() => loadScript(\"vega-embed\"))\n",
       "        .catch(showError)\n",
       "        .then(() => displayChart(vegaEmbed));\n",
       "    }\n",
       "  })({\"config\": {\"view\": {\"continuousWidth\": 400, \"continuousHeight\": 300}}, \"layer\": [{\"mark\": \"bar\", \"encoding\": {\"tooltip\": {\"type\": \"quantitative\", \"field\": \"tests informados\"}, \"x\": {\"type\": \"quantitative\", \"axis\": {\"title\": \"Ex\\u00e1menes informados\"}, \"field\": \"tests informados\"}, \"y\": {\"type\": \"nominal\", \"field\": \"Region\", \"sort\": \"-x\"}}, \"title\": \"COVID-19 en Chile: Total de ex\\u00e1menes informados por regi\\u00f3n desde el 9 de abril\"}, {\"mark\": {\"type\": \"text\", \"align\": \"left\", \"baseline\": \"middle\", \"dx\": 3}, \"encoding\": {\"text\": {\"type\": \"quantitative\", \"field\": \"tests informados\", \"format\": \".0f\"}, \"tooltip\": {\"type\": \"quantitative\", \"field\": \"tests informados\"}, \"x\": {\"type\": \"quantitative\", \"axis\": {\"title\": \"Ex\\u00e1menes informados\"}, \"field\": \"tests informados\"}, \"y\": {\"type\": \"nominal\", \"field\": \"Region\", \"sort\": \"-x\"}}, \"title\": \"COVID-19 en Chile: Total de ex\\u00e1menes informados por regi\\u00f3n desde el 9 de abril\"}], \"data\": {\"name\": \"data-6935ef784fac2417c54d210dc8b310d4\"}, \"height\": 300, \"width\": 600, \"$schema\": \"https://vega.github.io/schema/vega-lite/v4.8.1.json\", \"datasets\": {\"data-6935ef784fac2417c54d210dc8b310d4\": [{\"Region\": \"Arica y Parinacota\", \"Codigo region\": 15, \"Poblacion\": 252110, \"2020-04-09\": 70, \"2020-04-10\": 0, \"2020-04-11\": 0, \"2020-04-12\": 103, \"2020-04-13\": 0, \"2020-04-14\": 93, \"2020-04-15\": 24, \"2020-04-16\": 198, \"2020-04-17\": 131, \"2020-04-18\": 0, \"2020-04-19\": 155, \"2020-04-20\": 48, \"2020-04-21\": 52, \"2020-04-22\": 0, \"2020-04-23\": 169, \"2020-04-24\": 85, \"2020-04-25\": 90, \"2020-04-26\": 73, \"2020-04-27\": 146, \"tests informados\": 1452, \"tasa de tests\": 575.9}, {\"Region\": \"Tarapac\\u00e1\", \"Codigo region\": 1, \"Poblacion\": 382773, \"2020-04-09\": 0, \"2020-04-10\": 0, \"2020-04-11\": 0, \"2020-04-12\": 0, \"2020-04-13\": 0, \"2020-04-14\": 0, \"2020-04-15\": 0, \"2020-04-16\": 30, \"2020-04-17\": 0, \"2020-04-18\": 60, \"2020-04-19\": 0, \"2020-04-20\": 0, \"2020-04-21\": 30, \"2020-04-22\": 59, \"2020-04-23\": 30, \"2020-04-24\": 203, \"2020-04-25\": 118, \"2020-04-26\": 58, \"2020-04-27\": 58, \"tests informados\": 647, \"tasa de tests\": 169.0}, {\"Region\": \"Antofagasta\", \"Codigo region\": 2, \"Poblacion\": 691854, \"2020-04-09\": 182, \"2020-04-10\": 128, \"2020-04-11\": 107, \"2020-04-12\": 175, \"2020-04-13\": 103, \"2020-04-14\": 95, \"2020-04-15\": 117, \"2020-04-16\": 117, \"2020-04-17\": 143, \"2020-04-18\": 200, \"2020-04-19\": 129, \"2020-04-20\": 197, \"2020-04-21\": 147, \"2020-04-22\": 152, \"2020-04-23\": 146, \"2020-04-24\": 166, \"2020-04-25\": 217, \"2020-04-26\": 214, \"2020-04-27\": 180, \"tests informados\": 2917, \"tasa de tests\": 421.6}, {\"Region\": \"Atacama\", \"Codigo region\": 3, \"Poblacion\": 314709, \"2020-04-09\": 57, \"2020-04-10\": 52, \"2020-04-11\": 60, \"2020-04-12\": 25, \"2020-04-13\": 20, \"2020-04-14\": 22, \"2020-04-15\": 25, \"2020-04-16\": 29, \"2020-04-17\": 37, \"2020-04-18\": 50, \"2020-04-19\": 31, \"2020-04-20\": 33, \"2020-04-21\": 33, \"2020-04-22\": 47, \"2020-04-23\": 57, \"2020-04-24\": 77, \"2020-04-25\": 46, \"2020-04-26\": 54, \"2020-04-27\": 56, \"tests informados\": 814, \"tasa de tests\": 258.7}, {\"Region\": \"Coquimbo\", \"Codigo region\": 4, \"Poblacion\": 836096, \"2020-04-09\": 0, \"2020-04-10\": 0, \"2020-04-11\": 0, \"2020-04-12\": 0, \"2020-04-13\": 0, \"2020-04-14\": 0, \"2020-04-15\": 0, \"2020-04-16\": 0, \"2020-04-17\": 0, \"2020-04-18\": 0, \"2020-04-19\": 0, \"2020-04-20\": 0, \"2020-04-21\": 0, \"2020-04-22\": 29, \"2020-04-23\": 22, \"2020-04-24\": 44, \"2020-04-25\": 42, \"2020-04-26\": 72, \"2020-04-27\": 0, \"tests informados\": 213, \"tasa de tests\": 25.5}, {\"Region\": \"Valpara\\u00edso\", \"Codigo region\": 5, \"Poblacion\": 1960170, \"2020-04-09\": 301, \"2020-04-10\": 249, \"2020-04-11\": 248, \"2020-04-12\": 273, \"2020-04-13\": 223, \"2020-04-14\": 92, \"2020-04-15\": 385, \"2020-04-16\": 240, \"2020-04-17\": 246, \"2020-04-18\": 330, \"2020-04-19\": 166, \"2020-04-20\": 177, \"2020-04-21\": 142, \"2020-04-22\": 384, \"2020-04-23\": 90, \"2020-04-24\": 293, \"2020-04-25\": 262, \"2020-04-26\": 201, \"2020-04-27\": 167, \"tests informados\": 4474, \"tasa de tests\": 228.2}, {\"Region\": \"Metropolitana\", \"Codigo region\": 13, \"Poblacion\": 8125072, \"2020-04-09\": 5383, \"2020-04-10\": 3158, \"2020-04-11\": 2105, \"2020-04-12\": 3861, \"2020-04-13\": 1850, \"2020-04-14\": 1656, \"2020-04-15\": 2694, \"2020-04-16\": 4356, \"2020-04-17\": 3670, \"2020-04-18\": 2744, \"2020-04-19\": 3475, \"2020-04-20\": 3276, \"2020-04-21\": 2126, \"2020-04-22\": 3917, \"2020-04-23\": 3712, \"2020-04-24\": 4376, \"2020-04-25\": 4218, \"2020-04-26\": 4313, \"2020-04-27\": 3289, \"tests informados\": 64192, \"tasa de tests\": 790.0}, {\"Region\": \"O\\u2019Higgins\", \"Codigo region\": 6, \"Poblacion\": 991063, \"2020-04-09\": 68, \"2020-04-10\": 0, \"2020-04-11\": 74, \"2020-04-12\": 0, \"2020-04-13\": 74, \"2020-04-14\": 30, \"2020-04-15\": 30, \"2020-04-16\": 58, \"2020-04-17\": 50, \"2020-04-18\": 0, \"2020-04-19\": 0, \"2020-04-20\": 72, \"2020-04-21\": 65, \"2020-04-22\": 0, \"2020-04-23\": 86, \"2020-04-24\": 72, \"2020-04-25\": 0, \"2020-04-26\": 195, \"2020-04-27\": 30, \"tests informados\": 910, \"tasa de tests\": 91.8}, {\"Region\": \"Maule\", \"Codigo region\": 7, \"Poblacion\": 1131939, \"2020-04-09\": 397, \"2020-04-10\": 219, \"2020-04-11\": 0, \"2020-04-12\": 341, \"2020-04-13\": 113, \"2020-04-14\": 160, \"2020-04-15\": 0, \"2020-04-16\": 469, \"2020-04-17\": 367, \"2020-04-18\": 176, \"2020-04-19\": 0, \"2020-04-20\": 328, \"2020-04-21\": 188, \"2020-04-22\": 724, \"2020-04-23\": 663, \"2020-04-24\": 606, \"2020-04-25\": 254, \"2020-04-26\": 349, \"2020-04-27\": 535, \"tests informados\": 5896, \"tasa de tests\": 520.9}, {\"Region\": \"\\u00d1uble\", \"Codigo region\": 16, \"Poblacion\": 511551, \"2020-04-09\": 364, \"2020-04-10\": 0, \"2020-04-11\": 259, \"2020-04-12\": 189, \"2020-04-13\": 65, \"2020-04-14\": 0, \"2020-04-15\": 0, \"2020-04-16\": 110, \"2020-04-17\": 159, \"2020-04-18\": 76, \"2020-04-19\": 127, \"2020-04-20\": 149, \"2020-04-21\": 73, \"2020-04-22\": 221, \"2020-04-23\": 189, \"2020-04-24\": 0, \"2020-04-25\": 371, \"2020-04-26\": 91, \"2020-04-27\": 90, \"tests informados\": 2549, \"tasa de tests\": 498.3}, {\"Region\": \"Biob\\u00edo\", \"Codigo region\": 8, \"Poblacion\": 1663696, \"2020-04-09\": 592, \"2020-04-10\": 149, \"2020-04-11\": 281, \"2020-04-12\": 469, \"2020-04-13\": 0, \"2020-04-14\": 218, \"2020-04-15\": 311, \"2020-04-16\": 408, \"2020-04-17\": 80, \"2020-04-18\": 751, \"2020-04-19\": 358, \"2020-04-20\": 214, \"2020-04-21\": 216, \"2020-04-22\": 340, \"2020-04-23\": 468, \"2020-04-24\": 340, \"2020-04-25\": 354, \"2020-04-26\": 404, \"2020-04-27\": 174, \"tests informados\": 6135, \"tasa de tests\": 368.8}, {\"Region\": \"Araucan\\u00eda\", \"Codigo region\": 9, \"Poblacion\": 1014343, \"2020-04-09\": 124, \"2020-04-10\": 148, \"2020-04-11\": 126, \"2020-04-12\": 184, \"2020-04-13\": 232, \"2020-04-14\": 148, \"2020-04-15\": 218, \"2020-04-16\": 246, \"2020-04-17\": 220, \"2020-04-18\": 169, \"2020-04-19\": 122, \"2020-04-20\": 376, \"2020-04-21\": 206, \"2020-04-22\": 176, \"2020-04-23\": 370, \"2020-04-24\": 306, \"2020-04-25\": 347, \"2020-04-26\": 273, \"2020-04-27\": 246, \"tests informados\": 4246, \"tasa de tests\": 418.6}, {\"Region\": \"Los R\\u00edos\", \"Codigo region\": 14, \"Poblacion\": 405835, \"2020-04-09\": 0, \"2020-04-10\": 91, \"2020-04-11\": 0, \"2020-04-12\": 0, \"2020-04-13\": 0, \"2020-04-14\": 67, \"2020-04-15\": 67, \"2020-04-16\": 49, \"2020-04-17\": 71, \"2020-04-18\": 91, \"2020-04-19\": 0, \"2020-04-20\": 121, \"2020-04-21\": 58, \"2020-04-22\": 54, \"2020-04-23\": 67, \"2020-04-24\": 87, \"2020-04-25\": 77, \"2020-04-26\": 99, \"2020-04-27\": 56, \"tests informados\": 1069, \"tasa de tests\": 263.4}, {\"Region\": \"Los Lagos\", \"Codigo region\": 10, \"Poblacion\": 891440, \"2020-04-09\": 341, \"2020-04-10\": 199, \"2020-04-11\": 178, \"2020-04-12\": 225, \"2020-04-13\": 39, \"2020-04-14\": 131, \"2020-04-15\": 137, \"2020-04-16\": 139, \"2020-04-17\": 198, \"2020-04-18\": 315, \"2020-04-19\": 96, \"2020-04-20\": 139, \"2020-04-21\": 149, \"2020-04-22\": 209, \"2020-04-23\": 335, \"2020-04-24\": 324, \"2020-04-25\": 406, \"2020-04-26\": 302, \"2020-04-27\": 207, \"tests informados\": 4079, \"tasa de tests\": 457.6}, {\"Region\": \"Ays\\u00e9n\", \"Codigo region\": 11, \"Poblacion\": 107297, \"2020-04-09\": 10, \"2020-04-10\": 0, \"2020-04-11\": 0, \"2020-04-12\": 7, \"2020-04-13\": 0, \"2020-04-14\": 12, \"2020-04-15\": 8, \"2020-04-16\": 16, \"2020-04-17\": 8, \"2020-04-18\": 8, \"2020-04-19\": 6, \"2020-04-20\": 0, \"2020-04-21\": 4, \"2020-04-22\": 4, \"2020-04-23\": 21, \"2020-04-24\": 48, \"2020-04-25\": 30, \"2020-04-26\": 13, \"2020-04-27\": 0, \"tests informados\": 206, \"tasa de tests\": 192.0}, {\"Region\": \"Magallanes\", \"Codigo region\": 12, \"Poblacion\": 178362, \"2020-04-09\": 73, \"2020-04-10\": 24, \"2020-04-11\": 46, \"2020-04-12\": 45, \"2020-04-13\": 45, \"2020-04-14\": 35, \"2020-04-15\": 63, \"2020-04-16\": 86, \"2020-04-17\": 69, \"2020-04-18\": 48, \"2020-04-19\": 93, \"2020-04-20\": 48, \"2020-04-21\": 41, \"2020-04-22\": 49, \"2020-04-23\": 0, \"2020-04-24\": 93, \"2020-04-25\": 113, \"2020-04-26\": 52, \"2020-04-27\": 26, \"tests informados\": 1061, \"tasa de tests\": 594.9}]}}, {\"mode\": \"vega-lite\"});\n",
       "</script>"
      ],
      "text/plain": [
       "alt.LayerChart(...)"
      ]
     },
     "execution_count": 209,
     "metadata": {},
     "output_type": "execute_result"
    }
   ],
   "source": [
    "#hide_input\n",
    "bars = alt.Chart(tests_raw.drop('Total').reset_index()).mark_bar().encode(\n",
    "    x = alt.X('tests informados:Q', axis=alt.Axis(title='Exámenes informados')),\n",
    "    y = alt.Y('Region:N', sort='-x'),\n",
    "    tooltip = 'tests informados'\n",
    ").properties(\n",
    "    title='COVID-19 en Chile: Total de exámenes informados por región desde el 9 de abril'\n",
    ")\n",
    "\n",
    "text = bars.mark_text(\n",
    "    align='left',\n",
    "    baseline='middle',\n",
    "    dx=3  # Nudges text to right so it doesn't appear on top of the bar\n",
    ").encode(\n",
    "    text=alt.Text('tests informados:Q', format='.0f')\n",
    ")\n",
    "\n",
    "(bars + text).properties(width=600, height=300)"
   ]
  },
  {
   "cell_type": "markdown",
   "metadata": {},
   "source": [
    "Fuente: [Ministerio de Ciencia](https://github.com/MinCiencia/Datos-COVID19)"
   ]
  },
  {
   "cell_type": "markdown",
   "metadata": {},
   "source": [
    "# Exámenes informados por región por cada 100.000 habitantes desde el 9 de abril\n",
    "Nota: sólo se dispone de los datos de exámenes informados por región desde el 9 de abril"
   ]
  },
  {
   "cell_type": "code",
   "execution_count": 210,
   "metadata": {
    "scrolled": true
   },
   "outputs": [
    {
     "data": {
      "text/html": [
       "\n",
       "<div id=\"altair-viz-9c53c83851ef47699642986d2920aa1a\"></div>\n",
       "<script type=\"text/javascript\">\n",
       "  (function(spec, embedOpt){\n",
       "    let outputDiv = document.currentScript.previousElementSibling;\n",
       "    if (outputDiv.id !== \"altair-viz-9c53c83851ef47699642986d2920aa1a\") {\n",
       "      outputDiv = document.getElementById(\"altair-viz-9c53c83851ef47699642986d2920aa1a\");\n",
       "    }\n",
       "    const paths = {\n",
       "      \"vega\": \"https://cdn.jsdelivr.net/npm//vega@5?noext\",\n",
       "      \"vega-lib\": \"https://cdn.jsdelivr.net/npm//vega-lib?noext\",\n",
       "      \"vega-lite\": \"https://cdn.jsdelivr.net/npm//vega-lite@4.8.1?noext\",\n",
       "      \"vega-embed\": \"https://cdn.jsdelivr.net/npm//vega-embed@6?noext\",\n",
       "    };\n",
       "\n",
       "    function loadScript(lib) {\n",
       "      return new Promise(function(resolve, reject) {\n",
       "        var s = document.createElement('script');\n",
       "        s.src = paths[lib];\n",
       "        s.async = true;\n",
       "        s.onload = () => resolve(paths[lib]);\n",
       "        s.onerror = () => reject(`Error loading script: ${paths[lib]}`);\n",
       "        document.getElementsByTagName(\"head\")[0].appendChild(s);\n",
       "      });\n",
       "    }\n",
       "\n",
       "    function showError(err) {\n",
       "      outputDiv.innerHTML = `<div class=\"error\" style=\"color:red;\">${err}</div>`;\n",
       "      throw err;\n",
       "    }\n",
       "\n",
       "    function displayChart(vegaEmbed) {\n",
       "      vegaEmbed(outputDiv, spec, embedOpt)\n",
       "        .catch(err => showError(`Javascript Error: ${err.message}<br>This usually means there's a typo in your chart specification. See the javascript console for the full traceback.`));\n",
       "    }\n",
       "\n",
       "    if(typeof define === \"function\" && define.amd) {\n",
       "      requirejs.config({paths});\n",
       "      require([\"vega-embed\"], displayChart, err => showError(`Error loading script: ${err.message}`));\n",
       "    } else if (typeof vegaEmbed === \"function\") {\n",
       "      displayChart(vegaEmbed);\n",
       "    } else {\n",
       "      loadScript(\"vega\")\n",
       "        .then(() => loadScript(\"vega-lite\"))\n",
       "        .then(() => loadScript(\"vega-embed\"))\n",
       "        .catch(showError)\n",
       "        .then(() => displayChart(vegaEmbed));\n",
       "    }\n",
       "  })({\"config\": {\"view\": {\"continuousWidth\": 400, \"continuousHeight\": 300}}, \"layer\": [{\"mark\": \"bar\", \"encoding\": {\"tooltip\": {\"type\": \"quantitative\", \"field\": \"tasa de tests\"}, \"x\": {\"type\": \"quantitative\", \"axis\": {\"title\": \"Ex\\u00e1menes informados\"}, \"field\": \"tasa de tests\"}, \"y\": {\"type\": \"nominal\", \"field\": \"Region\", \"sort\": \"-x\"}}, \"title\": \"COVID-19 en Chile: Ex\\u00e1menes informados por regi\\u00f3n por cada 100.000 habitantes desde el 9 de abril\"}, {\"mark\": {\"type\": \"text\", \"align\": \"left\", \"baseline\": \"middle\", \"dx\": 3}, \"encoding\": {\"text\": {\"type\": \"quantitative\", \"field\": \"tasa de tests\", \"format\": \".1f\"}, \"tooltip\": {\"type\": \"quantitative\", \"field\": \"tasa de tests\"}, \"x\": {\"type\": \"quantitative\", \"axis\": {\"title\": \"Ex\\u00e1menes informados\"}, \"field\": \"tasa de tests\"}, \"y\": {\"type\": \"nominal\", \"field\": \"Region\", \"sort\": \"-x\"}}, \"title\": \"COVID-19 en Chile: Ex\\u00e1menes informados por regi\\u00f3n por cada 100.000 habitantes desde el 9 de abril\"}], \"data\": {\"name\": \"data-6935ef784fac2417c54d210dc8b310d4\"}, \"height\": 300, \"width\": 600, \"$schema\": \"https://vega.github.io/schema/vega-lite/v4.8.1.json\", \"datasets\": {\"data-6935ef784fac2417c54d210dc8b310d4\": [{\"Region\": \"Arica y Parinacota\", \"Codigo region\": 15, \"Poblacion\": 252110, \"2020-04-09\": 70, \"2020-04-10\": 0, \"2020-04-11\": 0, \"2020-04-12\": 103, \"2020-04-13\": 0, \"2020-04-14\": 93, \"2020-04-15\": 24, \"2020-04-16\": 198, \"2020-04-17\": 131, \"2020-04-18\": 0, \"2020-04-19\": 155, \"2020-04-20\": 48, \"2020-04-21\": 52, \"2020-04-22\": 0, \"2020-04-23\": 169, \"2020-04-24\": 85, \"2020-04-25\": 90, \"2020-04-26\": 73, \"2020-04-27\": 146, \"tests informados\": 1452, \"tasa de tests\": 575.9}, {\"Region\": \"Tarapac\\u00e1\", \"Codigo region\": 1, \"Poblacion\": 382773, \"2020-04-09\": 0, \"2020-04-10\": 0, \"2020-04-11\": 0, \"2020-04-12\": 0, \"2020-04-13\": 0, \"2020-04-14\": 0, \"2020-04-15\": 0, \"2020-04-16\": 30, \"2020-04-17\": 0, \"2020-04-18\": 60, \"2020-04-19\": 0, \"2020-04-20\": 0, \"2020-04-21\": 30, \"2020-04-22\": 59, \"2020-04-23\": 30, \"2020-04-24\": 203, \"2020-04-25\": 118, \"2020-04-26\": 58, \"2020-04-27\": 58, \"tests informados\": 647, \"tasa de tests\": 169.0}, {\"Region\": \"Antofagasta\", \"Codigo region\": 2, \"Poblacion\": 691854, \"2020-04-09\": 182, \"2020-04-10\": 128, \"2020-04-11\": 107, \"2020-04-12\": 175, \"2020-04-13\": 103, \"2020-04-14\": 95, \"2020-04-15\": 117, \"2020-04-16\": 117, \"2020-04-17\": 143, \"2020-04-18\": 200, \"2020-04-19\": 129, \"2020-04-20\": 197, \"2020-04-21\": 147, \"2020-04-22\": 152, \"2020-04-23\": 146, \"2020-04-24\": 166, \"2020-04-25\": 217, \"2020-04-26\": 214, \"2020-04-27\": 180, \"tests informados\": 2917, \"tasa de tests\": 421.6}, {\"Region\": \"Atacama\", \"Codigo region\": 3, \"Poblacion\": 314709, \"2020-04-09\": 57, \"2020-04-10\": 52, \"2020-04-11\": 60, \"2020-04-12\": 25, \"2020-04-13\": 20, \"2020-04-14\": 22, \"2020-04-15\": 25, \"2020-04-16\": 29, \"2020-04-17\": 37, \"2020-04-18\": 50, \"2020-04-19\": 31, \"2020-04-20\": 33, \"2020-04-21\": 33, \"2020-04-22\": 47, \"2020-04-23\": 57, \"2020-04-24\": 77, \"2020-04-25\": 46, \"2020-04-26\": 54, \"2020-04-27\": 56, \"tests informados\": 814, \"tasa de tests\": 258.7}, {\"Region\": \"Coquimbo\", \"Codigo region\": 4, \"Poblacion\": 836096, \"2020-04-09\": 0, \"2020-04-10\": 0, \"2020-04-11\": 0, \"2020-04-12\": 0, \"2020-04-13\": 0, \"2020-04-14\": 0, \"2020-04-15\": 0, \"2020-04-16\": 0, \"2020-04-17\": 0, \"2020-04-18\": 0, \"2020-04-19\": 0, \"2020-04-20\": 0, \"2020-04-21\": 0, \"2020-04-22\": 29, \"2020-04-23\": 22, \"2020-04-24\": 44, \"2020-04-25\": 42, \"2020-04-26\": 72, \"2020-04-27\": 0, \"tests informados\": 213, \"tasa de tests\": 25.5}, {\"Region\": \"Valpara\\u00edso\", \"Codigo region\": 5, \"Poblacion\": 1960170, \"2020-04-09\": 301, \"2020-04-10\": 249, \"2020-04-11\": 248, \"2020-04-12\": 273, \"2020-04-13\": 223, \"2020-04-14\": 92, \"2020-04-15\": 385, \"2020-04-16\": 240, \"2020-04-17\": 246, \"2020-04-18\": 330, \"2020-04-19\": 166, \"2020-04-20\": 177, \"2020-04-21\": 142, \"2020-04-22\": 384, \"2020-04-23\": 90, \"2020-04-24\": 293, \"2020-04-25\": 262, \"2020-04-26\": 201, \"2020-04-27\": 167, \"tests informados\": 4474, \"tasa de tests\": 228.2}, {\"Region\": \"Metropolitana\", \"Codigo region\": 13, \"Poblacion\": 8125072, \"2020-04-09\": 5383, \"2020-04-10\": 3158, \"2020-04-11\": 2105, \"2020-04-12\": 3861, \"2020-04-13\": 1850, \"2020-04-14\": 1656, \"2020-04-15\": 2694, \"2020-04-16\": 4356, \"2020-04-17\": 3670, \"2020-04-18\": 2744, \"2020-04-19\": 3475, \"2020-04-20\": 3276, \"2020-04-21\": 2126, \"2020-04-22\": 3917, \"2020-04-23\": 3712, \"2020-04-24\": 4376, \"2020-04-25\": 4218, \"2020-04-26\": 4313, \"2020-04-27\": 3289, \"tests informados\": 64192, \"tasa de tests\": 790.0}, {\"Region\": \"O\\u2019Higgins\", \"Codigo region\": 6, \"Poblacion\": 991063, \"2020-04-09\": 68, \"2020-04-10\": 0, \"2020-04-11\": 74, \"2020-04-12\": 0, \"2020-04-13\": 74, \"2020-04-14\": 30, \"2020-04-15\": 30, \"2020-04-16\": 58, \"2020-04-17\": 50, \"2020-04-18\": 0, \"2020-04-19\": 0, \"2020-04-20\": 72, \"2020-04-21\": 65, \"2020-04-22\": 0, \"2020-04-23\": 86, \"2020-04-24\": 72, \"2020-04-25\": 0, \"2020-04-26\": 195, \"2020-04-27\": 30, \"tests informados\": 910, \"tasa de tests\": 91.8}, {\"Region\": \"Maule\", \"Codigo region\": 7, \"Poblacion\": 1131939, \"2020-04-09\": 397, \"2020-04-10\": 219, \"2020-04-11\": 0, \"2020-04-12\": 341, \"2020-04-13\": 113, \"2020-04-14\": 160, \"2020-04-15\": 0, \"2020-04-16\": 469, \"2020-04-17\": 367, \"2020-04-18\": 176, \"2020-04-19\": 0, \"2020-04-20\": 328, \"2020-04-21\": 188, \"2020-04-22\": 724, \"2020-04-23\": 663, \"2020-04-24\": 606, \"2020-04-25\": 254, \"2020-04-26\": 349, \"2020-04-27\": 535, \"tests informados\": 5896, \"tasa de tests\": 520.9}, {\"Region\": \"\\u00d1uble\", \"Codigo region\": 16, \"Poblacion\": 511551, \"2020-04-09\": 364, \"2020-04-10\": 0, \"2020-04-11\": 259, \"2020-04-12\": 189, \"2020-04-13\": 65, \"2020-04-14\": 0, \"2020-04-15\": 0, \"2020-04-16\": 110, \"2020-04-17\": 159, \"2020-04-18\": 76, \"2020-04-19\": 127, \"2020-04-20\": 149, \"2020-04-21\": 73, \"2020-04-22\": 221, \"2020-04-23\": 189, \"2020-04-24\": 0, \"2020-04-25\": 371, \"2020-04-26\": 91, \"2020-04-27\": 90, \"tests informados\": 2549, \"tasa de tests\": 498.3}, {\"Region\": \"Biob\\u00edo\", \"Codigo region\": 8, \"Poblacion\": 1663696, \"2020-04-09\": 592, \"2020-04-10\": 149, \"2020-04-11\": 281, \"2020-04-12\": 469, \"2020-04-13\": 0, \"2020-04-14\": 218, \"2020-04-15\": 311, \"2020-04-16\": 408, \"2020-04-17\": 80, \"2020-04-18\": 751, \"2020-04-19\": 358, \"2020-04-20\": 214, \"2020-04-21\": 216, \"2020-04-22\": 340, \"2020-04-23\": 468, \"2020-04-24\": 340, \"2020-04-25\": 354, \"2020-04-26\": 404, \"2020-04-27\": 174, \"tests informados\": 6135, \"tasa de tests\": 368.8}, {\"Region\": \"Araucan\\u00eda\", \"Codigo region\": 9, \"Poblacion\": 1014343, \"2020-04-09\": 124, \"2020-04-10\": 148, \"2020-04-11\": 126, \"2020-04-12\": 184, \"2020-04-13\": 232, \"2020-04-14\": 148, \"2020-04-15\": 218, \"2020-04-16\": 246, \"2020-04-17\": 220, \"2020-04-18\": 169, \"2020-04-19\": 122, \"2020-04-20\": 376, \"2020-04-21\": 206, \"2020-04-22\": 176, \"2020-04-23\": 370, \"2020-04-24\": 306, \"2020-04-25\": 347, \"2020-04-26\": 273, \"2020-04-27\": 246, \"tests informados\": 4246, \"tasa de tests\": 418.6}, {\"Region\": \"Los R\\u00edos\", \"Codigo region\": 14, \"Poblacion\": 405835, \"2020-04-09\": 0, \"2020-04-10\": 91, \"2020-04-11\": 0, \"2020-04-12\": 0, \"2020-04-13\": 0, \"2020-04-14\": 67, \"2020-04-15\": 67, \"2020-04-16\": 49, \"2020-04-17\": 71, \"2020-04-18\": 91, \"2020-04-19\": 0, \"2020-04-20\": 121, \"2020-04-21\": 58, \"2020-04-22\": 54, \"2020-04-23\": 67, \"2020-04-24\": 87, \"2020-04-25\": 77, \"2020-04-26\": 99, \"2020-04-27\": 56, \"tests informados\": 1069, \"tasa de tests\": 263.4}, {\"Region\": \"Los Lagos\", \"Codigo region\": 10, \"Poblacion\": 891440, \"2020-04-09\": 341, \"2020-04-10\": 199, \"2020-04-11\": 178, \"2020-04-12\": 225, \"2020-04-13\": 39, \"2020-04-14\": 131, \"2020-04-15\": 137, \"2020-04-16\": 139, \"2020-04-17\": 198, \"2020-04-18\": 315, \"2020-04-19\": 96, \"2020-04-20\": 139, \"2020-04-21\": 149, \"2020-04-22\": 209, \"2020-04-23\": 335, \"2020-04-24\": 324, \"2020-04-25\": 406, \"2020-04-26\": 302, \"2020-04-27\": 207, \"tests informados\": 4079, \"tasa de tests\": 457.6}, {\"Region\": \"Ays\\u00e9n\", \"Codigo region\": 11, \"Poblacion\": 107297, \"2020-04-09\": 10, \"2020-04-10\": 0, \"2020-04-11\": 0, \"2020-04-12\": 7, \"2020-04-13\": 0, \"2020-04-14\": 12, \"2020-04-15\": 8, \"2020-04-16\": 16, \"2020-04-17\": 8, \"2020-04-18\": 8, \"2020-04-19\": 6, \"2020-04-20\": 0, \"2020-04-21\": 4, \"2020-04-22\": 4, \"2020-04-23\": 21, \"2020-04-24\": 48, \"2020-04-25\": 30, \"2020-04-26\": 13, \"2020-04-27\": 0, \"tests informados\": 206, \"tasa de tests\": 192.0}, {\"Region\": \"Magallanes\", \"Codigo region\": 12, \"Poblacion\": 178362, \"2020-04-09\": 73, \"2020-04-10\": 24, \"2020-04-11\": 46, \"2020-04-12\": 45, \"2020-04-13\": 45, \"2020-04-14\": 35, \"2020-04-15\": 63, \"2020-04-16\": 86, \"2020-04-17\": 69, \"2020-04-18\": 48, \"2020-04-19\": 93, \"2020-04-20\": 48, \"2020-04-21\": 41, \"2020-04-22\": 49, \"2020-04-23\": 0, \"2020-04-24\": 93, \"2020-04-25\": 113, \"2020-04-26\": 52, \"2020-04-27\": 26, \"tests informados\": 1061, \"tasa de tests\": 594.9}]}}, {\"mode\": \"vega-lite\"});\n",
       "</script>"
      ],
      "text/plain": [
       "alt.LayerChart(...)"
      ]
     },
     "execution_count": 210,
     "metadata": {},
     "output_type": "execute_result"
    }
   ],
   "source": [
    "#hide_input\n",
    "bars = alt.Chart(tests_raw.drop('Total').reset_index()).mark_bar().encode(\n",
    "    x = alt.X('tasa de tests:Q', axis=alt.Axis(title='Exámenes informados')),\n",
    "    y = alt.Y('Region:N', sort='-x'),\n",
    "    tooltip = 'tasa de tests'\n",
    ").properties(\n",
    "    title='COVID-19 en Chile: Exámenes informados por región por cada 100.000 habitantes desde el 9 de abril'\n",
    ")\n",
    "\n",
    "text = bars.mark_text(\n",
    "    align='left',\n",
    "    baseline='middle',\n",
    "    dx=3  # Nudges text to right so it doesn't appear on top of the bar\n",
    ").encode(\n",
    "    text=alt.Text('tasa de tests:Q', format='.1f')\n",
    ")\n",
    "\n",
    "bars.configure_title(\n",
    "    fontSize=20,\n",
    "    font='Courier',\n",
    "    anchor='start',\n",
    "    color='gray'\n",
    ")\n",
    "\n",
    "(bars + text).properties(width=600, height=300)"
   ]
  },
  {
   "cell_type": "markdown",
   "metadata": {},
   "source": [
    "Fuente: [Ministerio de Ciencia](https://github.com/MinCiencia/Datos-COVID19)"
   ]
  },
  {
   "cell_type": "markdown",
   "metadata": {},
   "source": [
    "# Exámenes, casos confirmados, y fallecimientos confirmados por región  desde el 9 de abril\n",
    "Nota: sólo se dispone de los datos de exámenes informados por región desde el 9 de abril"
   ]
  },
  {
   "cell_type": "markdown",
   "metadata": {},
   "source": [
    "> <span style=\"color:green\">Exámenes</span>, <span style=\"color:blue\">casos confirmados</span>, y <span style=\"color:red\">fallecimientos confirmados</span> por región desde el 9 de abril."
   ]
  },
  {
   "cell_type": "code",
   "execution_count": 211,
   "metadata": {},
   "outputs": [],
   "source": [
    "#hide\n",
    "data = data.sort_values(by=\"Tests\", ascending=False)\n",
    "data_per_capita = data_per_capita.sort_values(by=\"Tests\", ascending=False)"
   ]
  },
  {
   "cell_type": "code",
   "execution_count": 212,
   "metadata": {
    "scrolled": true
   },
   "outputs": [],
   "source": [
    "#hide\n",
    "data[\"codigo\"]=np.arange(len(data))\n",
    "data_per_capita[\"codigo\"]=np.arange(len(data))"
   ]
  },
  {
   "cell_type": "code",
   "execution_count": 213,
   "metadata": {
    "scrolled": false
   },
   "outputs": [
    {
     "data": {
      "text/html": [
       "\n",
       "<div id=\"altair-viz-5e3961f434a5464f8f3911ad80c7d75d\"></div>\n",
       "<script type=\"text/javascript\">\n",
       "  (function(spec, embedOpt){\n",
       "    let outputDiv = document.currentScript.previousElementSibling;\n",
       "    if (outputDiv.id !== \"altair-viz-5e3961f434a5464f8f3911ad80c7d75d\") {\n",
       "      outputDiv = document.getElementById(\"altair-viz-5e3961f434a5464f8f3911ad80c7d75d\");\n",
       "    }\n",
       "    const paths = {\n",
       "      \"vega\": \"https://cdn.jsdelivr.net/npm//vega@5?noext\",\n",
       "      \"vega-lib\": \"https://cdn.jsdelivr.net/npm//vega-lib?noext\",\n",
       "      \"vega-lite\": \"https://cdn.jsdelivr.net/npm//vega-lite@4.8.1?noext\",\n",
       "      \"vega-embed\": \"https://cdn.jsdelivr.net/npm//vega-embed@6?noext\",\n",
       "    };\n",
       "\n",
       "    function loadScript(lib) {\n",
       "      return new Promise(function(resolve, reject) {\n",
       "        var s = document.createElement('script');\n",
       "        s.src = paths[lib];\n",
       "        s.async = true;\n",
       "        s.onload = () => resolve(paths[lib]);\n",
       "        s.onerror = () => reject(`Error loading script: ${paths[lib]}`);\n",
       "        document.getElementsByTagName(\"head\")[0].appendChild(s);\n",
       "      });\n",
       "    }\n",
       "\n",
       "    function showError(err) {\n",
       "      outputDiv.innerHTML = `<div class=\"error\" style=\"color:red;\">${err}</div>`;\n",
       "      throw err;\n",
       "    }\n",
       "\n",
       "    function displayChart(vegaEmbed) {\n",
       "      vegaEmbed(outputDiv, spec, embedOpt)\n",
       "        .catch(err => showError(`Javascript Error: ${err.message}<br>This usually means there's a typo in your chart specification. See the javascript console for the full traceback.`));\n",
       "    }\n",
       "\n",
       "    if(typeof define === \"function\" && define.amd) {\n",
       "      requirejs.config({paths});\n",
       "      require([\"vega-embed\"], displayChart, err => showError(`Error loading script: ${err.message}`));\n",
       "    } else if (typeof vegaEmbed === \"function\") {\n",
       "      displayChart(vegaEmbed);\n",
       "    } else {\n",
       "      loadScript(\"vega\")\n",
       "        .then(() => loadScript(\"vega-lite\"))\n",
       "        .then(() => loadScript(\"vega-embed\"))\n",
       "        .catch(showError)\n",
       "        .then(() => displayChart(vegaEmbed));\n",
       "    }\n",
       "  })({\"config\": {\"view\": {\"continuousWidth\": 400, \"continuousHeight\": 300}}, \"layer\": [{\"data\": {\"name\": \"data-b19e7ed97771d506f1687de74e2e8caa\"}, \"mark\": {\"type\": \"bar\", \"color\": \"green\", \"opacity\": 0.4}, \"encoding\": {\"tooltip\": [{\"type\": \"nominal\", \"field\": \"Region\"}, {\"type\": \"quantitative\", \"field\": \"Tests\"}, {\"type\": \"quantitative\", \"field\": \"Casos\"}, {\"type\": \"quantitative\", \"field\": \"Fallecidos\"}], \"x\": {\"type\": \"quantitative\", \"axis\": {\"title\": \"Ex\\u00e1menes informados, casos confirmados, fallecimientos confirmados\"}, \"field\": \"Tests\"}, \"y\": {\"type\": \"nominal\", \"field\": \"Region\", \"sort\": {\"field\": \"codigo\", \"order\": \"ascending\"}}}}, {\"data\": {\"name\": \"data-b19e7ed97771d506f1687de74e2e8caa\"}, \"mark\": {\"type\": \"tick\", \"color\": \"black\", \"size\": 30, \"thickness\": 2}, \"encoding\": {\"tooltip\": [{\"type\": \"nominal\", \"field\": \"Region\"}, {\"type\": \"quantitative\", \"field\": \"Tests\"}, {\"type\": \"quantitative\", \"field\": \"Casos\"}, {\"type\": \"quantitative\", \"field\": \"Fallecidos\"}], \"x\": {\"type\": \"quantitative\", \"field\": \"Tests\"}, \"y\": {\"type\": \"nominal\", \"field\": \"Region\", \"sort\": {\"field\": \"codigo\", \"order\": \"ascending\"}}}}, {\"data\": {\"name\": \"data-b19e7ed97771d506f1687de74e2e8caa\"}, \"mark\": {\"type\": \"tick\", \"color\": \"blue\", \"size\": 30, \"thickness\": 2}, \"encoding\": {\"tooltip\": [{\"type\": \"nominal\", \"field\": \"Region\"}, {\"type\": \"quantitative\", \"field\": \"Tests\"}, {\"type\": \"quantitative\", \"field\": \"Casos\"}, {\"type\": \"quantitative\", \"field\": \"Fallecidos\"}], \"x\": {\"type\": \"quantitative\", \"field\": \"Casos\"}, \"y\": {\"type\": \"nominal\", \"field\": \"Region\", \"sort\": {\"field\": \"codigo\", \"order\": \"ascending\"}}}}, {\"data\": {\"name\": \"data-b19e7ed97771d506f1687de74e2e8caa\"}, \"mark\": {\"type\": \"tick\", \"color\": \"red\", \"size\": 30, \"thickness\": 2}, \"encoding\": {\"tooltip\": [{\"type\": \"nominal\", \"field\": \"Region\"}, {\"type\": \"quantitative\", \"field\": \"Tests\"}, {\"type\": \"quantitative\", \"field\": \"Casos\"}, {\"type\": \"quantitative\", \"field\": \"Fallecidos\"}], \"x\": {\"type\": \"quantitative\", \"field\": \"Fallecidos\"}, \"y\": {\"type\": \"nominal\", \"field\": \"Region\", \"sort\": {\"field\": \"codigo\", \"order\": \"ascending\"}}}}], \"height\": {\"step\": 35}, \"title\": \"COVID-19 en Chile: Ex\\u00e1menes informados, casos confirmados y fallecidos confirmados por regi\\u00f3n\", \"width\": 700, \"$schema\": \"https://vega.github.io/schema/vega-lite/v4.8.1.json\", \"datasets\": {\"data-b19e7ed97771d506f1687de74e2e8caa\": [{\"Region\": \"Metropolitana\", \"Fallecidos\": 81, \"Casos\": 5310, \"Tests\": 64192, \"codigo\": 1}, {\"Region\": \"Biobio\", \"Fallecidos\": 4, \"Casos\": 267, \"Tests\": 6135, \"codigo\": 2}, {\"Region\": \"Maule\", \"Fallecidos\": 10, \"Casos\": 244, \"Tests\": 5896, \"codigo\": 3}, {\"Region\": \"Valparaiso\", \"Fallecidos\": 7, \"Casos\": 260, \"Tests\": 4474, \"codigo\": 4}, {\"Region\": \"Araucania\", \"Fallecidos\": 17, \"Casos\": 567, \"Tests\": 4246, \"codigo\": 5}, {\"Region\": \"Los  Lagos\", \"Fallecidos\": 6, \"Casos\": 152, \"Tests\": 4079, \"codigo\": 6}, {\"Region\": \"Antofagasta\", \"Fallecidos\": 3, \"Casos\": 380, \"Tests\": 2917, \"codigo\": 7}, {\"Region\": \"Nuble\", \"Fallecidos\": 9, \"Casos\": 180, \"Tests\": 2549, \"codigo\": 8}, {\"Region\": \"Arica  y  Parinacota\", \"Fallecidos\": 3, \"Casos\": 202, \"Tests\": 1452, \"codigo\": 9}, {\"Region\": \"Los  Rios\", \"Fallecidos\": 1, \"Casos\": 66, \"Tests\": 1069, \"codigo\": 10}, {\"Region\": \"Magallanes\", \"Fallecidos\": 7, \"Casos\": 405, \"Tests\": 1061, \"codigo\": 11}, {\"Region\": \"O'Higgins\", \"Fallecidos\": 1, \"Casos\": 51, \"Tests\": 910, \"codigo\": 12}, {\"Region\": \"Atacama\", \"Fallecidos\": 0, \"Casos\": 27, \"Tests\": 814, \"codigo\": 13}, {\"Region\": \"Tarapaca\", \"Fallecidos\": 1, \"Casos\": 138, \"Tests\": 647, \"codigo\": 14}, {\"Region\": \"Coquimbo\", \"Fallecidos\": 0, \"Casos\": 18, \"Tests\": 213, \"codigo\": 15}, {\"Region\": \"Aysen\", \"Fallecidos\": 0, \"Casos\": 0, \"Tests\": 206, \"codigo\": 16}]}}, {\"mode\": \"vega-lite\"});\n",
       "</script>"
      ],
      "text/plain": [
       "alt.LayerChart(...)"
      ]
     },
     "execution_count": 213,
     "metadata": {},
     "output_type": "execute_result"
    }
   ],
   "source": [
    "#hide_input\n",
    "bar = alt.Chart(data.drop(\"Total\").reset_index()).mark_bar(opacity=0.4, color='green').encode(\n",
    "    x=alt.X('Tests:Q', axis=alt.Axis(title='Exámenes informados, casos confirmados, fallecimientos confirmados')),\n",
    "    y=alt.Y('Region:N', sort=alt.EncodingSortField(field='codigo', order='ascending')),\n",
    "    tooltip = ['Region', 'Tests', 'Casos', 'Fallecidos']\n",
    ")\n",
    "\n",
    "tick0 = alt.Chart(data.drop(\"Total\").reset_index()).mark_tick(\n",
    "    color='black',\n",
    "    thickness=2,\n",
    "    size=30,  # controls width of tick.\n",
    ").encode(\n",
    "    x='Tests:Q',\n",
    "    y=alt.Y('Region:N', sort=alt.EncodingSortField(field='codigo', order='ascending')),\n",
    "    tooltip = ['Region', 'Tests', 'Casos', 'Fallecidos']\n",
    ")\n",
    "\n",
    "tick1 = alt.Chart(data.drop(\"Total\").reset_index()).mark_tick(\n",
    "    color='blue',\n",
    "    thickness=2,\n",
    "    size=30,  # controls width of tick.\n",
    ").encode(\n",
    "    x='Casos:Q',\n",
    "    y=alt.Y('Region:N', sort=alt.EncodingSortField(field='codigo', order='ascending')),\n",
    "    tooltip = ['Region', 'Tests', 'Casos', 'Fallecidos']\n",
    ")\n",
    "\n",
    "tick2 = alt.Chart(data.drop(\"Total\").reset_index()).mark_tick(\n",
    "    color='red',\n",
    "    thickness=2,\n",
    "    size=30,  # controls width of tick.\n",
    ").encode(\n",
    "    x='Fallecidos:Q',\n",
    "    y=alt.Y('Region:N', sort=alt.EncodingSortField(field='codigo', order='ascending')),\n",
    "    tooltip = ['Region', 'Tests', 'Casos', 'Fallecidos']\n",
    ")\n",
    "\n",
    "(bar + tick0 + tick1 + tick2).properties(\n",
    "    title='COVID-19 en Chile: Exámenes informados, casos confirmados y fallecidos confirmados por región',\n",
    "    width=700,\n",
    "    height=alt.Step(35)\n",
    ")"
   ]
  },
  {
   "cell_type": "markdown",
   "metadata": {},
   "source": [
    "Fuente: [Ministerio de Ciencia](https://github.com/MinCiencia/Datos-COVID19)"
   ]
  },
  {
   "cell_type": "markdown",
   "metadata": {},
   "source": [
    "# Exámenes, casos confirmados, y fallecimientos confirmados por región por cada 100.000 habitantes desde el 9 de abril\n",
    "Nota: sólo se dispone de los datos de exámenes informados por región desde el 9 de abril"
   ]
  },
  {
   "cell_type": "markdown",
   "metadata": {},
   "source": [
    "> <span style=\"color:green\">Exámenes</span>, <span style=\"color:blue\">casos confirmados</span>, y <span style=\"color:red\">fallecimientos confirmados</span> por región por cada 100.000 habitantes desde el 9 de abril"
   ]
  },
  {
   "cell_type": "code",
   "execution_count": 214,
   "metadata": {
    "scrolled": false
   },
   "outputs": [
    {
     "data": {
      "text/html": [
       "\n",
       "<div id=\"altair-viz-8e55ae1c7a134aa38197894250576425\"></div>\n",
       "<script type=\"text/javascript\">\n",
       "  (function(spec, embedOpt){\n",
       "    let outputDiv = document.currentScript.previousElementSibling;\n",
       "    if (outputDiv.id !== \"altair-viz-8e55ae1c7a134aa38197894250576425\") {\n",
       "      outputDiv = document.getElementById(\"altair-viz-8e55ae1c7a134aa38197894250576425\");\n",
       "    }\n",
       "    const paths = {\n",
       "      \"vega\": \"https://cdn.jsdelivr.net/npm//vega@5?noext\",\n",
       "      \"vega-lib\": \"https://cdn.jsdelivr.net/npm//vega-lib?noext\",\n",
       "      \"vega-lite\": \"https://cdn.jsdelivr.net/npm//vega-lite@4.8.1?noext\",\n",
       "      \"vega-embed\": \"https://cdn.jsdelivr.net/npm//vega-embed@6?noext\",\n",
       "    };\n",
       "\n",
       "    function loadScript(lib) {\n",
       "      return new Promise(function(resolve, reject) {\n",
       "        var s = document.createElement('script');\n",
       "        s.src = paths[lib];\n",
       "        s.async = true;\n",
       "        s.onload = () => resolve(paths[lib]);\n",
       "        s.onerror = () => reject(`Error loading script: ${paths[lib]}`);\n",
       "        document.getElementsByTagName(\"head\")[0].appendChild(s);\n",
       "      });\n",
       "    }\n",
       "\n",
       "    function showError(err) {\n",
       "      outputDiv.innerHTML = `<div class=\"error\" style=\"color:red;\">${err}</div>`;\n",
       "      throw err;\n",
       "    }\n",
       "\n",
       "    function displayChart(vegaEmbed) {\n",
       "      vegaEmbed(outputDiv, spec, embedOpt)\n",
       "        .catch(err => showError(`Javascript Error: ${err.message}<br>This usually means there's a typo in your chart specification. See the javascript console for the full traceback.`));\n",
       "    }\n",
       "\n",
       "    if(typeof define === \"function\" && define.amd) {\n",
       "      requirejs.config({paths});\n",
       "      require([\"vega-embed\"], displayChart, err => showError(`Error loading script: ${err.message}`));\n",
       "    } else if (typeof vegaEmbed === \"function\") {\n",
       "      displayChart(vegaEmbed);\n",
       "    } else {\n",
       "      loadScript(\"vega\")\n",
       "        .then(() => loadScript(\"vega-lite\"))\n",
       "        .then(() => loadScript(\"vega-embed\"))\n",
       "        .catch(showError)\n",
       "        .then(() => displayChart(vegaEmbed));\n",
       "    }\n",
       "  })({\"config\": {\"view\": {\"continuousWidth\": 400, \"continuousHeight\": 300}}, \"layer\": [{\"data\": {\"name\": \"data-b2492a3a68aa9371d578f78a7ed7e30c\"}, \"mark\": {\"type\": \"bar\", \"color\": \"green\", \"opacity\": 0.4}, \"encoding\": {\"tooltip\": [{\"type\": \"nominal\", \"field\": \"Region\"}, {\"type\": \"quantitative\", \"field\": \"Tests\"}, {\"type\": \"quantitative\", \"field\": \"Casos\"}, {\"type\": \"quantitative\", \"field\": \"Fallecidos\"}], \"x\": {\"type\": \"quantitative\", \"axis\": {\"title\": \"Ex\\u00e1menes informados, casos confirmados, fallecimientos confirmados\"}, \"field\": \"Tests\"}, \"y\": {\"type\": \"nominal\", \"field\": \"Region\", \"sort\": {\"field\": \"codigo\", \"order\": \"ascending\"}}}}, {\"data\": {\"name\": \"data-b2492a3a68aa9371d578f78a7ed7e30c\"}, \"mark\": {\"type\": \"tick\", \"color\": \"black\", \"size\": 30, \"thickness\": 2}, \"encoding\": {\"tooltip\": [{\"type\": \"nominal\", \"field\": \"Region\"}, {\"type\": \"quantitative\", \"field\": \"Tests\"}, {\"type\": \"quantitative\", \"field\": \"Casos\"}, {\"type\": \"quantitative\", \"field\": \"Fallecidos\"}], \"x\": {\"type\": \"quantitative\", \"field\": \"Tests\"}, \"y\": {\"type\": \"nominal\", \"field\": \"Region\", \"sort\": {\"field\": \"codigo\", \"order\": \"ascending\"}}}}, {\"data\": {\"name\": \"data-b2492a3a68aa9371d578f78a7ed7e30c\"}, \"mark\": {\"type\": \"tick\", \"color\": \"blue\", \"size\": 30, \"thickness\": 2}, \"encoding\": {\"tooltip\": [{\"type\": \"nominal\", \"field\": \"Region\"}, {\"type\": \"quantitative\", \"field\": \"Tests\"}, {\"type\": \"quantitative\", \"field\": \"Casos\"}, {\"type\": \"quantitative\", \"field\": \"Fallecidos\"}], \"x\": {\"type\": \"quantitative\", \"field\": \"Casos\"}, \"y\": {\"type\": \"nominal\", \"field\": \"Region\", \"sort\": {\"field\": \"codigo\", \"order\": \"ascending\"}}}}, {\"data\": {\"name\": \"data-b2492a3a68aa9371d578f78a7ed7e30c\"}, \"mark\": {\"type\": \"tick\", \"color\": \"red\", \"size\": 30, \"thickness\": 2}, \"encoding\": {\"tooltip\": [{\"type\": \"nominal\", \"field\": \"Region\"}, {\"type\": \"quantitative\", \"field\": \"Tests\"}, {\"type\": \"quantitative\", \"field\": \"Casos\"}, {\"type\": \"quantitative\", \"field\": \"Fallecidos\"}], \"x\": {\"type\": \"quantitative\", \"field\": \"Fallecidos\"}, \"y\": {\"type\": \"nominal\", \"field\": \"Region\", \"sort\": {\"field\": \"codigo\", \"order\": \"ascending\"}}}}], \"height\": {\"step\": 35}, \"title\": \"COVID-19 en Chile: Ex\\u00e1menes informados, casos confirmados y fallecidos confirmados por regi\\u00f3n por cada 100.000 habitantes\", \"width\": 700, \"$schema\": \"https://vega.github.io/schema/vega-lite/v4.8.1.json\", \"datasets\": {\"data-b2492a3a68aa9371d578f78a7ed7e30c\": [{\"Region\": \"Metropolitana\", \"Fallecidos\": 1.0, \"Casos\": 65.4, \"Tests\": 790.0, \"codigo\": 0}, {\"Region\": \"Magallanes\", \"Fallecidos\": 3.9, \"Casos\": 227.1, \"Tests\": 594.9, \"codigo\": 1}, {\"Region\": \"Arica  y  Parinacota\", \"Fallecidos\": 1.2, \"Casos\": 80.1, \"Tests\": 575.9, \"codigo\": 2}, {\"Region\": \"Maule\", \"Fallecidos\": 0.9, \"Casos\": 21.6, \"Tests\": 520.9, \"codigo\": 3}, {\"Region\": \"Nuble\", \"Fallecidos\": 1.8, \"Casos\": 35.2, \"Tests\": 498.3, \"codigo\": 5}, {\"Region\": \"Los  Lagos\", \"Fallecidos\": 0.7, \"Casos\": 17.1, \"Tests\": 457.6, \"codigo\": 6}, {\"Region\": \"Antofagasta\", \"Fallecidos\": 0.4, \"Casos\": 54.9, \"Tests\": 421.6, \"codigo\": 7}, {\"Region\": \"Araucania\", \"Fallecidos\": 1.7, \"Casos\": 55.9, \"Tests\": 418.6, \"codigo\": 8}, {\"Region\": \"Biobio\", \"Fallecidos\": 0.2, \"Casos\": 16.0, \"Tests\": 368.8, \"codigo\": 9}, {\"Region\": \"Los  Rios\", \"Fallecidos\": 0.2, \"Casos\": 16.3, \"Tests\": 263.4, \"codigo\": 10}, {\"Region\": \"Atacama\", \"Fallecidos\": 0.0, \"Casos\": 8.6, \"Tests\": 258.7, \"codigo\": 11}, {\"Region\": \"Valparaiso\", \"Fallecidos\": 0.4, \"Casos\": 13.3, \"Tests\": 228.2, \"codigo\": 12}, {\"Region\": \"Aysen\", \"Fallecidos\": 0.0, \"Casos\": 0.0, \"Tests\": 192.0, \"codigo\": 13}, {\"Region\": \"Tarapaca\", \"Fallecidos\": 0.3, \"Casos\": 36.1, \"Tests\": 169.0, \"codigo\": 14}, {\"Region\": \"O'Higgins\", \"Fallecidos\": 0.1, \"Casos\": 5.1, \"Tests\": 91.8, \"codigo\": 15}, {\"Region\": \"Coquimbo\", \"Fallecidos\": 0.0, \"Casos\": 2.2, \"Tests\": 25.5, \"codigo\": 16}]}}, {\"mode\": \"vega-lite\"});\n",
       "</script>"
      ],
      "text/plain": [
       "alt.LayerChart(...)"
      ]
     },
     "execution_count": 214,
     "metadata": {},
     "output_type": "execute_result"
    }
   ],
   "source": [
    "#hide_input\n",
    "bar = alt.Chart(data_per_capita.drop(\"Total\").reset_index()).mark_bar(opacity=0.4, color='green').encode(\n",
    "    x=alt.X('Tests:Q', axis=alt.Axis(title='Exámenes informados, casos confirmados, fallecimientos confirmados')),\n",
    "    y=alt.Y('Region:N', sort=alt.EncodingSortField(field='codigo', order='ascending')),\n",
    "    tooltip = ['Region', 'Tests', 'Casos', 'Fallecidos']\n",
    ")\n",
    "\n",
    "tick0 = alt.Chart(data_per_capita.drop(\"Total\").reset_index()).mark_tick(\n",
    "    color='black',\n",
    "    thickness=2,\n",
    "    size=30,  # controls width of tick.\n",
    ").encode(\n",
    "    x='Tests:Q',\n",
    "    y=alt.Y('Region', sort=alt.EncodingSortField(field='codigo', order='ascending')),\n",
    "    tooltip = ['Region', 'Tests', 'Casos', 'Fallecidos']\n",
    ")\n",
    "\n",
    "tick1 = alt.Chart(data_per_capita.drop(\"Total\").reset_index()).mark_tick(\n",
    "    color='blue',\n",
    "    thickness=2,\n",
    "    size=30,  # controls width of tick.\n",
    ").encode(\n",
    "    x='Casos:Q',\n",
    "    y=alt.Y('Region', sort=alt.EncodingSortField(field='codigo', order='ascending')),\n",
    "    tooltip = ['Region', 'Tests', 'Casos', 'Fallecidos']\n",
    ")\n",
    "\n",
    "tick2 = alt.Chart(data_per_capita.drop(\"Total\").reset_index()).mark_tick(\n",
    "    color='red',\n",
    "    thickness=2,\n",
    "    size=30,  # controls width of tick.\n",
    ").encode(\n",
    "    x='Fallecidos:Q',\n",
    "    y=alt.Y('Region', sort=alt.EncodingSortField(field='codigo', order='ascending')),\n",
    "    tooltip = ['Region', 'Tests', 'Casos', 'Fallecidos']\n",
    ")\n",
    "\n",
    "(bar + tick0 + tick1 + tick2).properties(\n",
    "    title='COVID-19 en Chile: Exámenes informados, casos confirmados y fallecidos confirmados por región por cada 100.000 habitantes',\n",
    "    height=alt.Step(35),\n",
    "    width=700)"
   ]
  },
  {
   "cell_type": "markdown",
   "metadata": {},
   "source": [
    "Fuente: [Ministerio de Ciencia](https://github.com/MinCiencia/Datos-COVID19)"
   ]
  },
  {
   "cell_type": "markdown",
   "metadata": {},
   "source": [
    "# Exámenes, casos confirmados, y fallecimientos confirmados por país de la OCDE por cada 1 millón de habitantes"
   ]
  },
  {
   "cell_type": "markdown",
   "metadata": {},
   "source": [
    "> <span style=\"color:green\">Exámenes</span>, <span style=\"color:blue\">casos confirmados</span>, y <span style=\"color:red\">fallecimientos confirmados</span> por país por cada 1 millón de habitantes"
   ]
  },
  {
   "cell_type": "code",
   "execution_count": 215,
   "metadata": {},
   "outputs": [],
   "source": [
    "#hide\n",
    "test_data_raw = pd.read_csv('https://raw.githubusercontent.com/owid/covid-19-data/master/public/data/testing/covid-testing-all-observations.csv')"
   ]
  },
  {
   "cell_type": "code",
   "execution_count": 216,
   "metadata": {},
   "outputs": [],
   "source": [
    "#hide\n",
    "list_OCDE = ['Australia', 'Austria', 'Belgium', 'Canada', 'Chile', \n",
    "                  'Czech Republic', 'Denmark', 'Estonia', 'Finland', 'France',\n",
    "                  'Germany', 'Greece', 'Hungary', 'Iceland', 'Ireland',\n",
    "                  'Israel', 'Italy', 'Japan', 'Korea', 'Latvia',\n",
    "                  'Lithuania', 'Luxembourg', 'Mexico', 'Netherlands', 'New Zealand',\n",
    "                  'Norway', 'Poland', 'Portugal', 'Slovakia', 'Slovenia',\n",
    "                  'Spain', 'Sweden', 'Switzerland', 'Turkey', 'United Kingdom']"
   ]
  },
  {
   "cell_type": "code",
   "execution_count": 217,
   "metadata": {},
   "outputs": [],
   "source": [
    "#hide\n",
    "test_data = pd.DataFrame()\n",
    "for country in list_OCDE:\n",
    "    test_data[country] = test_data_raw[test_data_raw['Entity'].str.contains(country)].iloc[-1]"
   ]
  },
  {
   "cell_type": "code",
   "execution_count": 218,
   "metadata": {},
   "outputs": [],
   "source": [
    "#hide\n",
    "# United States tiene dos series. Utilizo la que tiene datos más recientes.\n",
    "test_data['United States'] = test_data_raw[test_data_raw['Entity'].str.contains('United States - inconsistent units')].iloc[-1]"
   ]
  },
  {
   "cell_type": "code",
   "execution_count": 219,
   "metadata": {},
   "outputs": [],
   "source": [
    "#hide\n",
    "test_data = test_data.T"
   ]
  },
  {
   "cell_type": "code",
   "execution_count": 220,
   "metadata": {},
   "outputs": [],
   "source": [
    "#hide\n",
    "data = pd.DataFrame()\n",
    "data['Tests'] = test_data['Cumulative total']"
   ]
  },
  {
   "cell_type": "code",
   "execution_count": 221,
   "metadata": {},
   "outputs": [],
   "source": [
    "#hide\n",
    "list_OCDE = list_OCDE + ['United States']"
   ]
  },
  {
   "cell_type": "code",
   "execution_count": 222,
   "metadata": {},
   "outputs": [],
   "source": [
    "#hide\n",
    "full_data = pd.read_csv(\"https://covid.ourworldindata.org/data/ecdc/full_data.csv\", index_col='date')"
   ]
  },
  {
   "cell_type": "code",
   "execution_count": 223,
   "metadata": {},
   "outputs": [],
   "source": [
    "#hide\n",
    "cases = pd.Series()\n",
    "deaths = pd.Series()\n",
    "for country in list_OCDE:\n",
    "    cases[country] = full_data[full_data['location'].str.contains(country)].iloc[-1]['total_cases']\n",
    "    deaths[country] = full_data[full_data['location'].str.contains(country)].iloc[-1]['total_deaths']"
   ]
  },
  {
   "cell_type": "code",
   "execution_count": 224,
   "metadata": {},
   "outputs": [],
   "source": [
    "#hide\n",
    "data['Cases'] = cases\n",
    "data['Deaths'] = deaths"
   ]
  },
  {
   "cell_type": "code",
   "execution_count": 225,
   "metadata": {},
   "outputs": [],
   "source": [
    "#hide\n",
    "locations_data = pd.read_csv('https://covid.ourworldindata.org/data/ecdc/locations.csv')"
   ]
  },
  {
   "cell_type": "code",
   "execution_count": 226,
   "metadata": {},
   "outputs": [],
   "source": [
    "#hide\n",
    "population = pd.Series()\n",
    "for country in list_OCDE:\n",
    "    population[country] = locations_data[locations_data['location'].str.contains(country)].iloc[-1]['population']"
   ]
  },
  {
   "cell_type": "code",
   "execution_count": 227,
   "metadata": {},
   "outputs": [],
   "source": [
    "#hide\n",
    "data['Population'] = population"
   ]
  },
  {
   "cell_type": "code",
   "execution_count": 228,
   "metadata": {},
   "outputs": [],
   "source": [
    "#hide\n",
    "data['Tests'] = np.round(1000000*data['Tests'].astype(float)/data['Population'])\n",
    "data['Cases'] = np.round(1000000*data['Cases']/data['Population'])\n",
    "data['Deaths'] = np.round(1000000*data['Deaths']/data['Population'])"
   ]
  },
  {
   "cell_type": "code",
   "execution_count": 229,
   "metadata": {},
   "outputs": [],
   "source": [
    "#hide\n",
    "data = data.sort_values(by='Tests', ascending=False)\n",
    "data['codigo'] = np.arange(len(data))"
   ]
  },
  {
   "cell_type": "code",
   "execution_count": 233,
   "metadata": {},
   "outputs": [
    {
     "data": {
      "text/html": [
       "\n",
       "<div id=\"altair-viz-c6cd77be3c9e479e87f154c235a0c553\"></div>\n",
       "<script type=\"text/javascript\">\n",
       "  (function(spec, embedOpt){\n",
       "    let outputDiv = document.currentScript.previousElementSibling;\n",
       "    if (outputDiv.id !== \"altair-viz-c6cd77be3c9e479e87f154c235a0c553\") {\n",
       "      outputDiv = document.getElementById(\"altair-viz-c6cd77be3c9e479e87f154c235a0c553\");\n",
       "    }\n",
       "    const paths = {\n",
       "      \"vega\": \"https://cdn.jsdelivr.net/npm//vega@5?noext\",\n",
       "      \"vega-lib\": \"https://cdn.jsdelivr.net/npm//vega-lib?noext\",\n",
       "      \"vega-lite\": \"https://cdn.jsdelivr.net/npm//vega-lite@4.8.1?noext\",\n",
       "      \"vega-embed\": \"https://cdn.jsdelivr.net/npm//vega-embed@6?noext\",\n",
       "    };\n",
       "\n",
       "    function loadScript(lib) {\n",
       "      return new Promise(function(resolve, reject) {\n",
       "        var s = document.createElement('script');\n",
       "        s.src = paths[lib];\n",
       "        s.async = true;\n",
       "        s.onload = () => resolve(paths[lib]);\n",
       "        s.onerror = () => reject(`Error loading script: ${paths[lib]}`);\n",
       "        document.getElementsByTagName(\"head\")[0].appendChild(s);\n",
       "      });\n",
       "    }\n",
       "\n",
       "    function showError(err) {\n",
       "      outputDiv.innerHTML = `<div class=\"error\" style=\"color:red;\">${err}</div>`;\n",
       "      throw err;\n",
       "    }\n",
       "\n",
       "    function displayChart(vegaEmbed) {\n",
       "      vegaEmbed(outputDiv, spec, embedOpt)\n",
       "        .catch(err => showError(`Javascript Error: ${err.message}<br>This usually means there's a typo in your chart specification. See the javascript console for the full traceback.`));\n",
       "    }\n",
       "\n",
       "    if(typeof define === \"function\" && define.amd) {\n",
       "      requirejs.config({paths});\n",
       "      require([\"vega-embed\"], displayChart, err => showError(`Error loading script: ${err.message}`));\n",
       "    } else if (typeof vegaEmbed === \"function\") {\n",
       "      displayChart(vegaEmbed);\n",
       "    } else {\n",
       "      loadScript(\"vega\")\n",
       "        .then(() => loadScript(\"vega-lite\"))\n",
       "        .then(() => loadScript(\"vega-embed\"))\n",
       "        .catch(showError)\n",
       "        .then(() => displayChart(vegaEmbed));\n",
       "    }\n",
       "  })({\"config\": {\"view\": {\"continuousWidth\": 400, \"continuousHeight\": 300}}, \"layer\": [{\"data\": {\"name\": \"data-baacc0414cd20e1f1149016bba97c0a0\"}, \"mark\": {\"type\": \"bar\", \"color\": \"green\", \"opacity\": 0.4}, \"encoding\": {\"tooltip\": [{\"type\": \"nominal\", \"field\": \"index\"}, {\"type\": \"quantitative\", \"field\": \"Tests\"}, {\"type\": \"quantitative\", \"field\": \"Cases\"}, {\"type\": \"quantitative\", \"field\": \"Deaths\"}], \"x\": {\"type\": \"quantitative\", \"axis\": {\"title\": \"Ex\\u00e1menes informados, casos confirmados, fallecimientos confirmados por cada 1 mill\\u00f3n de habitantes\"}, \"field\": \"Tests\"}, \"y\": {\"type\": \"nominal\", \"axis\": {\"title\": \"Pa\\u00eds\"}, \"field\": \"index\", \"sort\": {\"field\": \"codigo\", \"order\": \"ascending\"}}}, \"width\": {\"step\": 70}}, {\"data\": {\"name\": \"data-baacc0414cd20e1f1149016bba97c0a0\"}, \"mark\": {\"type\": \"tick\", \"color\": \"black\", \"size\": 30, \"thickness\": 2}, \"encoding\": {\"tooltip\": [{\"type\": \"nominal\", \"field\": \"index\"}, {\"type\": \"quantitative\", \"field\": \"Tests\"}, {\"type\": \"quantitative\", \"field\": \"Cases\"}, {\"type\": \"quantitative\", \"field\": \"Deaths\"}], \"x\": {\"type\": \"quantitative\", \"field\": \"Tests\"}, \"y\": {\"type\": \"nominal\", \"field\": \"index\", \"sort\": {\"field\": \"codigo\", \"order\": \"ascending\"}}}}, {\"data\": {\"name\": \"data-baacc0414cd20e1f1149016bba97c0a0\"}, \"mark\": {\"type\": \"tick\", \"color\": \"blue\", \"size\": 30, \"thickness\": 2}, \"encoding\": {\"tooltip\": [{\"type\": \"nominal\", \"field\": \"index\"}, {\"type\": \"quantitative\", \"field\": \"Tests\"}, {\"type\": \"quantitative\", \"field\": \"Cases\"}, {\"type\": \"quantitative\", \"field\": \"Deaths\"}], \"x\": {\"type\": \"quantitative\", \"field\": \"Cases\"}, \"y\": {\"type\": \"nominal\", \"field\": \"index\", \"sort\": {\"field\": \"codigo\", \"order\": \"ascending\"}}}}, {\"data\": {\"name\": \"data-baacc0414cd20e1f1149016bba97c0a0\"}, \"mark\": {\"type\": \"tick\", \"color\": \"red\", \"size\": 30, \"thickness\": 2}, \"encoding\": {\"tooltip\": [{\"type\": \"nominal\", \"field\": \"index\"}, {\"type\": \"quantitative\", \"field\": \"Tests\"}, {\"type\": \"quantitative\", \"field\": \"Cases\"}, {\"type\": \"quantitative\", \"field\": \"Deaths\"}], \"x\": {\"type\": \"quantitative\", \"field\": \"Deaths\"}, \"y\": {\"type\": \"nominal\", \"field\": \"index\", \"sort\": {\"field\": \"codigo\", \"order\": \"ascending\"}}}}], \"height\": {\"step\": 35}, \"title\": \"COVID-19: Ex\\u00e1menes informados, casos confirmados y fallecidos confirmados por pa\\u00eds por cada 1 mill\\u00f3n de habitantes\", \"width\": 700, \"$schema\": \"https://vega.github.io/schema/vega-lite/v4.8.1.json\", \"datasets\": {\"data-baacc0414cd20e1f1149016bba97c0a0\": [{\"index\": \"Iceland\", \"Tests\": 135783.0, \"Cases\": 5251.0, \"Deaths\": 29.0, \"Population\": 341250.0, \"codigo\": 0}, {\"index\": \"Luxembourg\", \"Tests\": 62308.0, \"Cases\": 5948.0, \"Deaths\": 141.0, \"Population\": 625976.0, \"codigo\": 1}, {\"index\": \"Lithuania\", \"Tests\": 39222.0, \"Cases\": 532.0, \"Deaths\": 15.0, \"Population\": 2722291.0, \"codigo\": 2}, {\"index\": \"Estonia\", \"Tests\": 36488.0, \"Cases\": 1239.0, \"Deaths\": 37.0, \"Population\": 1326539.0, \"codigo\": 3}, {\"index\": \"Norway\", \"Tests\": 30310.0, \"Cases\": 1384.0, \"Deaths\": 36.0, \"Population\": 5421242.0, \"codigo\": 4}, {\"index\": \"Israel\", \"Tests\": 30185.0, \"Cases\": 1779.0, \"Deaths\": 23.0, \"Population\": 8655541.0, \"codigo\": 5}, {\"index\": \"Switzerland\", \"Tests\": 29221.0, \"Cases\": 3348.0, \"Deaths\": 154.0, \"Population\": 8654618.0, \"codigo\": 6}, {\"index\": \"Italy\", \"Tests\": 29071.0, \"Cases\": 3269.0, \"Deaths\": 441.0, \"Population\": 60461828.0, \"codigo\": 7}, {\"index\": \"Denmark\", \"Tests\": 26900.0, \"Cases\": 1480.0, \"Deaths\": 73.0, \"Population\": 5792203.0, \"codigo\": 8}, {\"index\": \"Latvia\", \"Tests\": 26074.0, \"Cases\": 430.0, \"Deaths\": 6.0, \"Population\": 1886202.0, \"codigo\": 9}, {\"index\": \"Austria\", \"Tests\": 25819.0, \"Cases\": 1686.0, \"Deaths\": 60.0, \"Population\": 9006400.0, \"codigo\": 10}, {\"index\": \"New Zealand\", \"Tests\": 25698.0, \"Cases\": 233.0, \"Deaths\": 4.0, \"Population\": 4822233.0, \"codigo\": 11}, {\"index\": \"Germany\", \"Tests\": 24738.0, \"Cases\": 1852.0, \"Deaths\": 69.0, \"Population\": 83783945.0, \"codigo\": 12}, {\"index\": \"Slovenia\", \"Tests\": 24361.0, \"Cases\": 677.0, \"Deaths\": 39.0, \"Population\": 2078932.0, \"codigo\": 13}, {\"index\": \"Portugal\", \"Tests\": 22800.0, \"Cases\": 2340.0, \"Deaths\": 89.0, \"Population\": 10196707.0, \"codigo\": 14}, {\"index\": \"Ireland\", \"Tests\": 22598.0, \"Cases\": 3901.0, \"Deaths\": 220.0, \"Population\": 4937796.0, \"codigo\": 15}, {\"index\": \"Spain\", \"Tests\": 22148.0, \"Cases\": 4511.0, \"Deaths\": 496.0, \"Population\": 46754783.0, \"codigo\": 16}, {\"index\": \"Czech Republic\", \"Tests\": 20401.0, \"Cases\": 691.0, \"Deaths\": 21.0, \"Population\": 10708982.0, \"codigo\": 17}, {\"index\": \"Australia\", \"Tests\": 20263.0, \"Cases\": 263.0, \"Deaths\": 3.0, \"Population\": 25499881.0, \"codigo\": 18}, {\"index\": \"Canada\", \"Tests\": 18746.0, \"Cases\": 1242.0, \"Deaths\": 68.0, \"Population\": 37742157.0, \"codigo\": 19}, {\"index\": \"Belgium\", \"Tests\": 18427.0, \"Cases\": 3981.0, \"Deaths\": 612.0, \"Population\": 11589616.0, \"codigo\": 20}, {\"index\": \"United States\", \"Tests\": 16438.0, \"Cases\": 0.0, \"Deaths\": 0.0, \"Population\": 331002647.0, \"codigo\": 21}, {\"index\": \"Finland\", \"Tests\": 14878.0, \"Cases\": 826.0, \"Deaths\": 34.0, \"Population\": 5540718.0, \"codigo\": 22}, {\"index\": \"Slovakia\", \"Tests\": 13572.0, \"Cases\": 253.0, \"Deaths\": 3.0, \"Population\": 5459643.0, \"codigo\": 23}, {\"index\": \"Korea\", \"Tests\": 11735.0, \"Cases\": 209.0, \"Deaths\": 5.0, \"Population\": 51269183.0, \"codigo\": 24}, {\"index\": \"Netherlands\", \"Tests\": 11358.0, \"Cases\": 2209.0, \"Deaths\": 261.0, \"Population\": 17134873.0, \"codigo\": 25}, {\"index\": \"Turkey\", \"Tests\": 10656.0, \"Cases\": 1306.0, \"Deaths\": 33.0, \"Population\": 84339067.0, \"codigo\": 26}, {\"index\": \"United Kingdom\", \"Tests\": 9867.0, \"Cases\": 2251.0, \"Deaths\": 305.0, \"Population\": 67886004.0, \"codigo\": 27}, {\"index\": \"Sweden\", \"Tests\": 9397.0, \"Cases\": 1846.0, \"Deaths\": 217.0, \"Population\": 10099270.0, \"codigo\": 28}, {\"index\": \"France\", \"Tests\": 9118.0, \"Cases\": 1909.0, \"Deaths\": 350.0, \"Population\": 65273512.0, \"codigo\": 29}, {\"index\": \"Chile\", \"Tests\": 8159.0, \"Cases\": 697.0, \"Deaths\": 10.0, \"Population\": 19116209.0, \"codigo\": 30}, {\"index\": \"Poland\", \"Tests\": 7372.0, \"Cases\": 307.0, \"Deaths\": 14.0, \"Population\": 37846605.0, \"codigo\": 31}, {\"index\": \"Hungary\", \"Tests\": 6793.0, \"Cases\": 267.0, \"Deaths\": 29.0, \"Population\": 9660350.0, \"codigo\": 32}, {\"index\": \"Greece\", \"Tests\": 6199.0, \"Cases\": 240.0, \"Deaths\": 12.0, \"Population\": 10423056.0, \"codigo\": 33}, {\"index\": \"Japan\", \"Tests\": 1841.0, \"Cases\": 106.0, \"Deaths\": 3.0, \"Population\": 126476458.0, \"codigo\": 34}, {\"index\": \"Mexico\", \"Tests\": 466.0, \"Cases\": 114.0, \"Deaths\": 10.0, \"Population\": 128932753.0, \"codigo\": 35}]}}, {\"mode\": \"vega-lite\"});\n",
       "</script>"
      ],
      "text/plain": [
       "alt.LayerChart(...)"
      ]
     },
     "execution_count": 233,
     "metadata": {},
     "output_type": "execute_result"
    }
   ],
   "source": [
    "#hide_input\n",
    "bar = alt.Chart(data.reset_index()).mark_bar(opacity=0.4, color='green').encode(\n",
    "    x=alt.X('Tests:Q', axis=alt.Axis(title='Exámenes informados, casos confirmados, fallecimientos confirmados por cada 1 millón de habitantes')),\n",
    "    y=alt.Y('index:N', axis=alt.Axis(title='País'), sort=alt.EncodingSortField(field='codigo', order='ascending')),\n",
    "    tooltip = ['index', 'Tests', 'Cases', 'Deaths']\n",
    ").properties(\n",
    "    width=alt.Step(70)  # controls width of bar.\n",
    ")\n",
    "\n",
    "tick0 = alt.Chart(data.reset_index()).mark_tick(\n",
    "    color='black',\n",
    "    thickness=2,\n",
    "    size=30,  # controls width of tick.\n",
    ").encode(\n",
    "    x='Tests:Q',\n",
    "    y=alt.Y('index:N', sort=alt.EncodingSortField(field='codigo', order='ascending')),\n",
    "    tooltip = ['index', 'Tests', 'Cases', 'Deaths']\n",
    ")\n",
    "\n",
    "tick1 = alt.Chart(data.reset_index()).mark_tick(\n",
    "    color='blue',\n",
    "    thickness=2,\n",
    "    size=30,  # controls width of tick.\n",
    ").encode(\n",
    "    x='Cases:Q',\n",
    "    y=alt.Y('index:N', sort=alt.EncodingSortField(field='codigo', order='ascending')),\n",
    "    tooltip = ['index', 'Tests', 'Cases', 'Deaths']\n",
    ")\n",
    "\n",
    "tick2 = alt.Chart(data.reset_index()).mark_tick(\n",
    "    color='red',\n",
    "    thickness=2,\n",
    "    size=30,  # controls width of tick.\n",
    ").encode(\n",
    "    x='Deaths:Q',\n",
    "    y=alt.Y('index:N', sort=alt.EncodingSortField(field='codigo', order='ascending')),\n",
    "    tooltip = ['index', 'Tests', 'Cases', 'Deaths']\n",
    ")\n",
    "\n",
    "(bar + tick0 + tick1 + tick2).properties(\n",
    "    title='COVID-19: Exámenes informados, casos confirmados y fallecidos confirmados por país por cada 1 millón de habitantes',\n",
    "    height=alt.Step(35),\n",
    "    width=700\n",
    ")"
   ]
  },
  {
   "cell_type": "markdown",
   "metadata": {},
   "source": [
    "Fuentes: ECDC, [Our World in Data](https://ourworldindata.org/)"
   ]
  },
  {
   "cell_type": "markdown",
   "metadata": {},
   "source": [
    "# Exámenes, casos confirmados, y fallecimientos confirmados por país de la OCDE por cada 1 millón de habitantes en los últimos 3 días"
   ]
  },
  {
   "cell_type": "markdown",
   "metadata": {},
   "source": [
    "> <span style=\"color:green\">Exámenes</span>, <span style=\"color:blue\">casos confirmados</span>, y <span style=\"color:red\">fallecimientos confirmados</span> por país por cada 1 millón de habitantes"
   ]
  },
  {
   "cell_type": "code",
   "execution_count": 234,
   "metadata": {},
   "outputs": [],
   "source": [
    "#hide\n",
    "data = pd.DataFrame()\n",
    "data['Tests'] = test_data['3-day rolling mean daily change']"
   ]
  },
  {
   "cell_type": "code",
   "execution_count": 235,
   "metadata": {},
   "outputs": [],
   "source": [
    "#hide\n",
    "cases = pd.Series()\n",
    "deaths = pd.Series()\n",
    "for country in list_OCDE:\n",
    "    cases[country] = full_data[full_data['location'].str.contains(country)].iloc[-3:]['new_cases'].mean()\n",
    "    deaths[country] = full_data[full_data['location'].str.contains(country)].iloc[-3:]['new_deaths'].mean()"
   ]
  },
  {
   "cell_type": "code",
   "execution_count": 236,
   "metadata": {},
   "outputs": [],
   "source": [
    "#hide\n",
    "data['Cases'] = cases\n",
    "data['Deaths'] = deaths"
   ]
  },
  {
   "cell_type": "code",
   "execution_count": 237,
   "metadata": {},
   "outputs": [],
   "source": [
    "#hide\n",
    "population = pd.Series()\n",
    "for country in list_OCDE:\n",
    "    population[country] = locations_data[locations_data['location'].str.contains(country)].iloc[-1]['population']"
   ]
  },
  {
   "cell_type": "code",
   "execution_count": 238,
   "metadata": {},
   "outputs": [],
   "source": [
    "#hide\n",
    "data['Population'] = population"
   ]
  },
  {
   "cell_type": "code",
   "execution_count": 239,
   "metadata": {},
   "outputs": [],
   "source": [
    "#hide\n",
    "data['Tests'] = np.round(1000000*data['Tests'].astype(float)/data['Population'], decimals=1)\n",
    "data['Cases'] = np.round(1000000*data['Cases']/data['Population'], decimals=1)\n",
    "data['Deaths'] = np.round(1000000*data['Deaths']/data['Population'], decimals=1)"
   ]
  },
  {
   "cell_type": "code",
   "execution_count": 240,
   "metadata": {},
   "outputs": [],
   "source": [
    "#hide\n",
    "data = data.dropna()"
   ]
  },
  {
   "cell_type": "code",
   "execution_count": 241,
   "metadata": {},
   "outputs": [],
   "source": [
    "#hide\n",
    "data = data.sort_values(by='Tests', ascending=False)\n",
    "data['codigo'] = np.arange(len(data))"
   ]
  },
  {
   "cell_type": "code",
   "execution_count": 242,
   "metadata": {},
   "outputs": [
    {
     "data": {
      "text/html": [
       "\n",
       "<div id=\"altair-viz-28f450bf2b6b427396750696ee324f5f\"></div>\n",
       "<script type=\"text/javascript\">\n",
       "  (function(spec, embedOpt){\n",
       "    let outputDiv = document.currentScript.previousElementSibling;\n",
       "    if (outputDiv.id !== \"altair-viz-28f450bf2b6b427396750696ee324f5f\") {\n",
       "      outputDiv = document.getElementById(\"altair-viz-28f450bf2b6b427396750696ee324f5f\");\n",
       "    }\n",
       "    const paths = {\n",
       "      \"vega\": \"https://cdn.jsdelivr.net/npm//vega@5?noext\",\n",
       "      \"vega-lib\": \"https://cdn.jsdelivr.net/npm//vega-lib?noext\",\n",
       "      \"vega-lite\": \"https://cdn.jsdelivr.net/npm//vega-lite@4.8.1?noext\",\n",
       "      \"vega-embed\": \"https://cdn.jsdelivr.net/npm//vega-embed@6?noext\",\n",
       "    };\n",
       "\n",
       "    function loadScript(lib) {\n",
       "      return new Promise(function(resolve, reject) {\n",
       "        var s = document.createElement('script');\n",
       "        s.src = paths[lib];\n",
       "        s.async = true;\n",
       "        s.onload = () => resolve(paths[lib]);\n",
       "        s.onerror = () => reject(`Error loading script: ${paths[lib]}`);\n",
       "        document.getElementsByTagName(\"head\")[0].appendChild(s);\n",
       "      });\n",
       "    }\n",
       "\n",
       "    function showError(err) {\n",
       "      outputDiv.innerHTML = `<div class=\"error\" style=\"color:red;\">${err}</div>`;\n",
       "      throw err;\n",
       "    }\n",
       "\n",
       "    function displayChart(vegaEmbed) {\n",
       "      vegaEmbed(outputDiv, spec, embedOpt)\n",
       "        .catch(err => showError(`Javascript Error: ${err.message}<br>This usually means there's a typo in your chart specification. See the javascript console for the full traceback.`));\n",
       "    }\n",
       "\n",
       "    if(typeof define === \"function\" && define.amd) {\n",
       "      requirejs.config({paths});\n",
       "      require([\"vega-embed\"], displayChart, err => showError(`Error loading script: ${err.message}`));\n",
       "    } else if (typeof vegaEmbed === \"function\") {\n",
       "      displayChart(vegaEmbed);\n",
       "    } else {\n",
       "      loadScript(\"vega\")\n",
       "        .then(() => loadScript(\"vega-lite\"))\n",
       "        .then(() => loadScript(\"vega-embed\"))\n",
       "        .catch(showError)\n",
       "        .then(() => displayChart(vegaEmbed));\n",
       "    }\n",
       "  })({\"config\": {\"view\": {\"continuousWidth\": 400, \"continuousHeight\": 300}}, \"layer\": [{\"data\": {\"name\": \"data-09fe3f2f66b6ce6745ba11588543b741\"}, \"mark\": {\"type\": \"bar\", \"color\": \"green\", \"opacity\": 0.4}, \"encoding\": {\"tooltip\": [{\"type\": \"nominal\", \"field\": \"index\"}, {\"type\": \"quantitative\", \"field\": \"Tests\"}, {\"type\": \"quantitative\", \"field\": \"Cases\"}, {\"type\": \"quantitative\", \"field\": \"Deaths\"}], \"x\": {\"type\": \"quantitative\", \"axis\": {\"title\": \"Ex\\u00e1menes informados, casos confirmados, fallecimientos confirmados por cada 1 mill\\u00f3n de habitantes\\n(promedio de los \\u00faltimos 3 d\\u00edas)\"}, \"field\": \"Tests\"}, \"y\": {\"type\": \"nominal\", \"axis\": {\"title\": \"Pa\\u00eds\"}, \"field\": \"index\", \"sort\": {\"field\": \"codigo\", \"order\": \"ascending\"}}}}, {\"data\": {\"name\": \"data-09fe3f2f66b6ce6745ba11588543b741\"}, \"mark\": {\"type\": \"tick\", \"color\": \"black\", \"size\": 30, \"thickness\": 2}, \"encoding\": {\"tooltip\": [{\"type\": \"nominal\", \"field\": \"index\"}, {\"type\": \"quantitative\", \"field\": \"Tests\"}, {\"type\": \"quantitative\", \"field\": \"Cases\"}, {\"type\": \"quantitative\", \"field\": \"Deaths\"}], \"x\": {\"type\": \"quantitative\", \"field\": \"Tests\"}, \"y\": {\"type\": \"nominal\", \"field\": \"index\", \"sort\": {\"field\": \"codigo\", \"order\": \"ascending\"}}}}, {\"data\": {\"name\": \"data-09fe3f2f66b6ce6745ba11588543b741\"}, \"mark\": {\"type\": \"tick\", \"color\": \"blue\", \"size\": 30, \"thickness\": 2}, \"encoding\": {\"tooltip\": [{\"type\": \"nominal\", \"field\": \"index\"}, {\"type\": \"quantitative\", \"field\": \"Tests\"}, {\"type\": \"quantitative\", \"field\": \"Cases\"}, {\"type\": \"quantitative\", \"field\": \"Deaths\"}], \"x\": {\"type\": \"quantitative\", \"field\": \"Cases\"}, \"y\": {\"type\": \"nominal\", \"field\": \"index\", \"sort\": {\"field\": \"codigo\", \"order\": \"ascending\"}}}}, {\"data\": {\"name\": \"data-09fe3f2f66b6ce6745ba11588543b741\"}, \"mark\": {\"type\": \"tick\", \"color\": \"red\", \"size\": 30, \"thickness\": 2}, \"encoding\": {\"tooltip\": [{\"type\": \"nominal\", \"field\": \"index\"}, {\"type\": \"quantitative\", \"field\": \"Tests\"}, {\"type\": \"quantitative\", \"field\": \"Cases\"}, {\"type\": \"quantitative\", \"field\": \"Deaths\"}], \"x\": {\"type\": \"quantitative\", \"field\": \"Deaths\"}, \"y\": {\"type\": \"nominal\", \"field\": \"index\", \"sort\": {\"field\": \"codigo\", \"order\": \"ascending\"}}}}], \"height\": {\"step\": 35}, \"title\": \"COVID-19: Ex\\u00e1menes informados, casos confirmados y fallecidos confirmados por pa\\u00eds por cada 1 mill\\u00f3n de habitantes\\n(promedio de los \\u00faltimos 3 d\\u00edas)\", \"width\": 700, \"$schema\": \"https://vega.github.io/schema/vega-lite/v4.8.1.json\", \"datasets\": {\"data-09fe3f2f66b6ce6745ba11588543b741\": [{\"index\": \"Denmark\", \"Tests\": 1754.1, \"Cases\": 28.9, \"Deaths\": 1.6, \"Population\": 5792203.0, \"codigo\": 0}, {\"index\": \"Israel\", \"Tests\": 1256.2, \"Cases\": 19.9, \"Deaths\": 0.2, \"Population\": 8655541.0, \"codigo\": 1}, {\"index\": \"Luxembourg\", \"Tests\": 1124.6, \"Cases\": 30.9, \"Deaths\": 2.7, \"Population\": 625976.0, \"codigo\": 2}, {\"index\": \"Latvia\", \"Tests\": 1078.2, \"Cases\": 6.0, \"Deaths\": 0.2, \"Population\": 1886202.0, \"codigo\": 3}, {\"index\": \"Italy\", \"Tests\": 980.0, \"Cases\": 42.5, \"Deaths\": 6.0, \"Population\": 60461828.0, \"codigo\": 4}, {\"index\": \"United States\", \"Tests\": 785.8, \"Cases\": 0.0, \"Deaths\": 0.0, \"Population\": 331002647.0, \"codigo\": 5}, {\"index\": \"Slovakia\", \"Tests\": 783.8, \"Cases\": 3.3, \"Deaths\": 0.2, \"Population\": 5459643.0, \"codigo\": 6}, {\"index\": \"Austria\", \"Tests\": 734.7, \"Cases\": 7.6, \"Deaths\": 1.3, \"Population\": 9006400.0, \"codigo\": 7}, {\"index\": \"Belgium\", \"Tests\": 707.5, \"Cases\": 96.0, \"Deaths\": 17.4, \"Population\": 11589616.0, \"codigo\": 8}, {\"index\": \"Canada\", \"Tests\": 566.2, \"Cases\": 42.3, \"Deaths\": 3.7, \"Population\": 37742157.0, \"codigo\": 9}, {\"index\": \"Estonia\", \"Tests\": 535.2, \"Cases\": 12.8, \"Deaths\": 1.0, \"Population\": 1326539.0, \"codigo\": 10}, {\"index\": \"Slovenia\", \"Tests\": 516.8, \"Cases\": 6.6, \"Deaths\": 0.5, \"Population\": 2078932.0, \"codigo\": 11}, {\"index\": \"Switzerland\", \"Tests\": 473.7, \"Cases\": 21.7, \"Deaths\": 2.7, \"Population\": 8654618.0, \"codigo\": 12}, {\"index\": \"Czech Republic\", \"Tests\": 462.0, \"Cases\": 6.7, \"Deaths\": 0.2, \"Population\": 10708982.0, \"codigo\": 13}, {\"index\": \"Australia\", \"Tests\": 448.8, \"Cases\": 0.6, \"Deaths\": 0.1, \"Population\": 25499881.0, \"codigo\": 14}, {\"index\": \"United Kingdom\", \"Tests\": 424.0, \"Cases\": 72.5, \"Deaths\": 9.8, \"Population\": 67886004.0, \"codigo\": 15}, {\"index\": \"Turkey\", \"Tests\": 422.2, \"Cases\": 33.0, \"Deaths\": 1.2, \"Population\": 84339067.0, \"codigo\": 16}, {\"index\": \"Chile\", \"Tests\": 363.2, \"Cases\": 26.5, \"Deaths\": 0.4, \"Population\": 19116209.0, \"codigo\": 17}, {\"index\": \"Netherlands\", \"Tests\": 360.1, \"Cases\": 41.2, \"Deaths\": 5.8, \"Population\": 17134873.0, \"codigo\": 18}, {\"index\": \"Poland\", \"Tests\": 354.0, \"Cases\": 9.7, \"Deaths\": 0.7, \"Population\": 37846605.0, \"codigo\": 19}, {\"index\": \"Hungary\", \"Tests\": 254.4, \"Cases\": 6.9, \"Deaths\": 1.0, \"Population\": 9660350.0, \"codigo\": 20}, {\"index\": \"Greece\", \"Tests\": 171.6, \"Cases\": 1.4, \"Deaths\": 0.2, \"Population\": 10423056.0, \"codigo\": 21}, {\"index\": \"Korea\", \"Tests\": 78.9, \"Cases\": 0.2, \"Deaths\": 0.0, \"Population\": 51269183.0, \"codigo\": 22}, {\"index\": \"Japan\", \"Tests\": 41.7, \"Cases\": 3.0, \"Deaths\": 0.1, \"Population\": 126476458.0, \"codigo\": 23}]}}, {\"mode\": \"vega-lite\"});\n",
       "</script>"
      ],
      "text/plain": [
       "alt.LayerChart(...)"
      ]
     },
     "execution_count": 242,
     "metadata": {},
     "output_type": "execute_result"
    }
   ],
   "source": [
    "#hide_input\n",
    "bar = alt.Chart(data.reset_index()).mark_bar(opacity=0.4, color='green').encode(\n",
    "    x=alt.X('Tests:Q', axis=alt.Axis(title=f'Exámenes informados, casos confirmados, fallecimientos confirmados por cada 1 millón de habitantes\\n(promedio de los últimos 3 días)')),\n",
    "    y=alt.Y('index:N', axis=alt.Axis(title='País'), sort=alt.EncodingSortField(field='codigo', order='ascending')),\n",
    "    tooltip = ['index', 'Tests', 'Cases', 'Deaths']\n",
    ")\n",
    "\n",
    "tick0 = alt.Chart(data.reset_index()).mark_tick(\n",
    "    color='black',\n",
    "    thickness=2,\n",
    "    size=30,  # controls width of tick.\n",
    ").encode(\n",
    "    x='Tests:Q',\n",
    "    y=alt.Y('index:N', sort=alt.EncodingSortField(field='codigo', order='ascending')),\n",
    "    tooltip = ['index', 'Tests', 'Cases', 'Deaths']\n",
    ")\n",
    "\n",
    "tick1 = alt.Chart(data.reset_index()).mark_tick(\n",
    "    color='blue',\n",
    "    thickness=2,\n",
    "    size=30,  # controls width of tick.\n",
    ").encode(\n",
    "    x='Cases:Q',\n",
    "    y=alt.Y('index:N', sort=alt.EncodingSortField(field='codigo', order='ascending')),\n",
    "    tooltip = ['index', 'Tests', 'Cases', 'Deaths']\n",
    ")\n",
    "\n",
    "tick2 = alt.Chart(data.reset_index()).mark_tick(\n",
    "    color='red',\n",
    "    thickness=2,\n",
    "    size=30,  # controls width of tick.\n",
    ").encode(\n",
    "    x='Deaths:Q',\n",
    "    y=alt.Y('index:N', sort=alt.EncodingSortField(field='codigo', order='ascending')),\n",
    "    tooltip = ['index', 'Tests', 'Cases', 'Deaths']\n",
    ")\n",
    "\n",
    "(bar + tick0 + tick1 + tick2).properties(\n",
    "    title=f'COVID-19: Exámenes informados, casos confirmados y fallecidos confirmados por país por cada 1 millón de habitantes\\n(promedio de los últimos 3 días)',\n",
    "    height=alt.Step(35),\n",
    "    width=700\n",
    ")"
   ]
  },
  {
   "cell_type": "markdown",
   "metadata": {},
   "source": [
    "# Exámenes, casos confirmados, y fallecimientos confirmados por país de latinoamérica por cada 1 millón de habitantes"
   ]
  },
  {
   "cell_type": "markdown",
   "metadata": {},
   "source": [
    "> <span style=\"color:green\">Exámenes</span>, <span style=\"color:blue\">casos confirmados</span>, y <span style=\"color:red\">fallecimientos confirmados</span> por país por cada 1 millón de habitantes"
   ]
  },
  {
   "cell_type": "markdown",
   "metadata": {},
   "source": [
    "Nota: Muchos países de latinoamérica no tienen datos disponibles."
   ]
  },
  {
   "cell_type": "code",
   "execution_count": 243,
   "metadata": {},
   "outputs": [],
   "source": [
    "#hide\n",
    "list_latinoamerica = ['Argentina', 'Bolivia', 'Chile', 'Colombia',\n",
    "                     'Costa Rica', 'Cuba', 'Ecuador', 'El Salvador',\n",
    "                     'Mexico', 'Panama', 'Paraguay',\n",
    "                     'Peru', 'Uruguay']"
   ]
  },
  {
   "cell_type": "code",
   "execution_count": 244,
   "metadata": {
    "scrolled": true
   },
   "outputs": [],
   "source": [
    "#hide\n",
    "test_data = pd.DataFrame()\n",
    "for country in list_latinoamerica:\n",
    "    test_data[country] = test_data_raw[test_data_raw['Entity'].str.contains(country)].iloc[-1]"
   ]
  },
  {
   "cell_type": "code",
   "execution_count": 245,
   "metadata": {},
   "outputs": [],
   "source": [
    "#hide\n",
    "test_data = test_data.T"
   ]
  },
  {
   "cell_type": "code",
   "execution_count": 246,
   "metadata": {},
   "outputs": [],
   "source": [
    "#hide\n",
    "data = pd.DataFrame()\n",
    "data['Tests'] = test_data['Cumulative total']"
   ]
  },
  {
   "cell_type": "code",
   "execution_count": 247,
   "metadata": {},
   "outputs": [],
   "source": [
    "#hide\n",
    "cases = pd.Series()\n",
    "deaths = pd.Series()\n",
    "for country in list_latinoamerica:\n",
    "    cases[country] = full_data[full_data['location'].str.contains(country)].iloc[-1]['total_cases']\n",
    "    deaths[country] = full_data[full_data['location'].str.contains(country)].iloc[-1]['total_deaths']"
   ]
  },
  {
   "cell_type": "code",
   "execution_count": 248,
   "metadata": {},
   "outputs": [],
   "source": [
    "#hide\n",
    "data['Cases'] = cases\n",
    "data['Deaths'] = deaths"
   ]
  },
  {
   "cell_type": "code",
   "execution_count": 249,
   "metadata": {},
   "outputs": [],
   "source": [
    "#hide\n",
    "population = pd.Series()\n",
    "for country in list_latinoamerica:\n",
    "    population[country] = locations_data[locations_data['location'].str.contains(country)].iloc[-1]['population']"
   ]
  },
  {
   "cell_type": "code",
   "execution_count": 250,
   "metadata": {},
   "outputs": [],
   "source": [
    "#hide\n",
    "data['Population'] = population"
   ]
  },
  {
   "cell_type": "code",
   "execution_count": 251,
   "metadata": {},
   "outputs": [],
   "source": [
    "#hide\n",
    "data['Tests'] = np.round(1000000*data['Tests'].astype(float)/data['Population'])\n",
    "data['Cases'] = np.round(1000000*data['Cases']/data['Population'])\n",
    "data['Deaths'] = np.round(1000000*data['Deaths']/data['Population'])"
   ]
  },
  {
   "cell_type": "code",
   "execution_count": 252,
   "metadata": {},
   "outputs": [],
   "source": [
    "#hide\n",
    "data = data.sort_values(by='Tests', ascending=False)\n",
    "data['codigo'] = np.arange(len(data))"
   ]
  },
  {
   "cell_type": "code",
   "execution_count": 253,
   "metadata": {},
   "outputs": [
    {
     "data": {
      "text/html": [
       "\n",
       "<div id=\"altair-viz-4a419a2d36ae4e9b95c01ffc72d83050\"></div>\n",
       "<script type=\"text/javascript\">\n",
       "  (function(spec, embedOpt){\n",
       "    let outputDiv = document.currentScript.previousElementSibling;\n",
       "    if (outputDiv.id !== \"altair-viz-4a419a2d36ae4e9b95c01ffc72d83050\") {\n",
       "      outputDiv = document.getElementById(\"altair-viz-4a419a2d36ae4e9b95c01ffc72d83050\");\n",
       "    }\n",
       "    const paths = {\n",
       "      \"vega\": \"https://cdn.jsdelivr.net/npm//vega@5?noext\",\n",
       "      \"vega-lib\": \"https://cdn.jsdelivr.net/npm//vega-lib?noext\",\n",
       "      \"vega-lite\": \"https://cdn.jsdelivr.net/npm//vega-lite@4.8.1?noext\",\n",
       "      \"vega-embed\": \"https://cdn.jsdelivr.net/npm//vega-embed@6?noext\",\n",
       "    };\n",
       "\n",
       "    function loadScript(lib) {\n",
       "      return new Promise(function(resolve, reject) {\n",
       "        var s = document.createElement('script');\n",
       "        s.src = paths[lib];\n",
       "        s.async = true;\n",
       "        s.onload = () => resolve(paths[lib]);\n",
       "        s.onerror = () => reject(`Error loading script: ${paths[lib]}`);\n",
       "        document.getElementsByTagName(\"head\")[0].appendChild(s);\n",
       "      });\n",
       "    }\n",
       "\n",
       "    function showError(err) {\n",
       "      outputDiv.innerHTML = `<div class=\"error\" style=\"color:red;\">${err}</div>`;\n",
       "      throw err;\n",
       "    }\n",
       "\n",
       "    function displayChart(vegaEmbed) {\n",
       "      vegaEmbed(outputDiv, spec, embedOpt)\n",
       "        .catch(err => showError(`Javascript Error: ${err.message}<br>This usually means there's a typo in your chart specification. See the javascript console for the full traceback.`));\n",
       "    }\n",
       "\n",
       "    if(typeof define === \"function\" && define.amd) {\n",
       "      requirejs.config({paths});\n",
       "      require([\"vega-embed\"], displayChart, err => showError(`Error loading script: ${err.message}`));\n",
       "    } else if (typeof vegaEmbed === \"function\") {\n",
       "      displayChart(vegaEmbed);\n",
       "    } else {\n",
       "      loadScript(\"vega\")\n",
       "        .then(() => loadScript(\"vega-lite\"))\n",
       "        .then(() => loadScript(\"vega-embed\"))\n",
       "        .catch(showError)\n",
       "        .then(() => displayChart(vegaEmbed));\n",
       "    }\n",
       "  })({\"config\": {\"view\": {\"continuousWidth\": 400, \"continuousHeight\": 300}}, \"layer\": [{\"data\": {\"name\": \"data-636dd8768bad631f37df678ccaadc616\"}, \"mark\": {\"type\": \"bar\", \"color\": \"green\", \"opacity\": 0.4}, \"encoding\": {\"tooltip\": [{\"type\": \"nominal\", \"field\": \"index\"}, {\"type\": \"quantitative\", \"field\": \"Tests\"}, {\"type\": \"quantitative\", \"field\": \"Cases\"}, {\"type\": \"quantitative\", \"field\": \"Deaths\"}], \"x\": {\"type\": \"quantitative\", \"axis\": {\"title\": \"Ex\\u00e1menes informados, casos confirmados, fallecimientos confirmados por cada 1 mill\\u00f3n de habitantes\"}, \"field\": \"Tests\"}, \"y\": {\"type\": \"nominal\", \"axis\": {\"title\": \"Pa\\u00eds\"}, \"field\": \"index\", \"sort\": {\"field\": \"codigo\", \"order\": \"ascending\"}}}}, {\"data\": {\"name\": \"data-636dd8768bad631f37df678ccaadc616\"}, \"mark\": {\"type\": \"tick\", \"color\": \"black\", \"size\": 30, \"thickness\": 2}, \"encoding\": {\"tooltip\": [{\"type\": \"nominal\", \"field\": \"index\"}, {\"type\": \"quantitative\", \"field\": \"Tests\"}, {\"type\": \"quantitative\", \"field\": \"Cases\"}, {\"type\": \"quantitative\", \"field\": \"Deaths\"}], \"x\": {\"type\": \"quantitative\", \"field\": \"Tests\"}, \"y\": {\"type\": \"nominal\", \"field\": \"index\", \"sort\": {\"field\": \"codigo\", \"order\": \"ascending\"}}}}, {\"data\": {\"name\": \"data-636dd8768bad631f37df678ccaadc616\"}, \"mark\": {\"type\": \"tick\", \"color\": \"blue\", \"size\": 30, \"thickness\": 2}, \"encoding\": {\"tooltip\": [{\"type\": \"nominal\", \"field\": \"index\"}, {\"type\": \"quantitative\", \"field\": \"Tests\"}, {\"type\": \"quantitative\", \"field\": \"Cases\"}, {\"type\": \"quantitative\", \"field\": \"Deaths\"}], \"x\": {\"type\": \"quantitative\", \"field\": \"Cases\"}, \"y\": {\"type\": \"nominal\", \"field\": \"index\", \"sort\": {\"field\": \"codigo\", \"order\": \"ascending\"}}}}, {\"data\": {\"name\": \"data-636dd8768bad631f37df678ccaadc616\"}, \"mark\": {\"type\": \"tick\", \"color\": \"red\", \"size\": 30, \"thickness\": 2}, \"encoding\": {\"tooltip\": [{\"type\": \"nominal\", \"field\": \"index\"}, {\"type\": \"quantitative\", \"field\": \"Tests\"}, {\"type\": \"quantitative\", \"field\": \"Cases\"}, {\"type\": \"quantitative\", \"field\": \"Deaths\"}], \"x\": {\"type\": \"quantitative\", \"field\": \"Deaths\"}, \"y\": {\"type\": \"nominal\", \"field\": \"index\", \"sort\": {\"field\": \"codigo\", \"order\": \"ascending\"}}}}], \"height\": {\"step\": 35}, \"title\": \"COVID-19: Ex\\u00e1menes informados, casos confirmados y fallecidos confirmados por pa\\u00eds por cada 1 mill\\u00f3n de habitantes\", \"width\": 700, \"$schema\": \"https://vega.github.io/schema/vega-lite/v4.8.1.json\", \"datasets\": {\"data-636dd8768bad631f37df678ccaadc616\": [{\"index\": \"Chile\", \"Tests\": 8159.0, \"Cases\": 697.0, \"Deaths\": 10.0, \"Population\": 19116209.0, \"codigo\": 0}, {\"index\": \"Peru\", \"Tests\": 7059.0, \"Cases\": 835.0, \"Deaths\": 22.0, \"Population\": 32971846.0, \"codigo\": 1}, {\"index\": \"Panama\", \"Tests\": 6175.0, \"Cases\": 1339.0, \"Deaths\": 38.0, \"Population\": 4314768.0, \"codigo\": 2}, {\"index\": \"Uruguay\", \"Tests\": 4912.0, \"Cases\": 174.0, \"Deaths\": 4.0, \"Population\": 3473727.0, \"codigo\": 3}, {\"index\": \"Cuba\", \"Tests\": 3516.0, \"Cases\": 121.0, \"Deaths\": 5.0, \"Population\": 11326616.0, \"codigo\": 4}, {\"index\": \"El Salvador\", \"Tests\": 2881.0, \"Cases\": 46.0, \"Deaths\": 1.0, \"Population\": 6486201.0, \"codigo\": 5}, {\"index\": \"Ecuador\", \"Tests\": 2599.0, \"Cases\": 1288.0, \"Deaths\": 33.0, \"Population\": 17643060.0, \"codigo\": 6}, {\"index\": \"Costa Rica\", \"Tests\": 1742.0, \"Cases\": 136.0, \"Deaths\": 1.0, \"Population\": 5094114.0, \"codigo\": 7}, {\"index\": \"Colombia\", \"Tests\": 1713.0, \"Cases\": 106.0, \"Deaths\": 5.0, \"Population\": 50882884.0, \"codigo\": 8}, {\"index\": \"Argentina\", \"Tests\": 1104.0, \"Cases\": 83.0, \"Deaths\": 4.0, \"Population\": 45195777.0, \"codigo\": 9}, {\"index\": \"Paraguay\", \"Tests\": 1068.0, \"Cases\": 32.0, \"Deaths\": 1.0, \"Population\": 7132530.0, \"codigo\": 10}, {\"index\": \"Bolivia\", \"Tests\": 496.0, \"Cases\": 81.0, \"Deaths\": 4.0, \"Population\": 11673029.0, \"codigo\": 11}, {\"index\": \"Mexico\", \"Tests\": 466.0, \"Cases\": 114.0, \"Deaths\": 10.0, \"Population\": 128932753.0, \"codigo\": 12}]}}, {\"mode\": \"vega-lite\"});\n",
       "</script>"
      ],
      "text/plain": [
       "alt.LayerChart(...)"
      ]
     },
     "execution_count": 253,
     "metadata": {},
     "output_type": "execute_result"
    }
   ],
   "source": [
    "#hide_input\n",
    "bar = alt.Chart(data.reset_index()).mark_bar(opacity=0.4, color='green').encode(\n",
    "    x=alt.X('Tests:Q', axis=alt.Axis(title='Exámenes informados, casos confirmados, fallecimientos confirmados por cada 1 millón de habitantes')),\n",
    "    y=alt.Y('index:N', axis=alt.Axis(title='País'), sort=alt.EncodingSortField(field='codigo', order='ascending')),\n",
    "    tooltip = ['index', 'Tests', 'Cases', 'Deaths']\n",
    ")\n",
    "\n",
    "tick0 = alt.Chart(data.reset_index()).mark_tick(\n",
    "    color='black',\n",
    "    thickness=2,\n",
    "    size=30,  # controls width of tick.\n",
    ").encode(\n",
    "    x='Tests:Q',\n",
    "    y=alt.Y('index:N', sort=alt.EncodingSortField(field='codigo', order='ascending')),\n",
    "    tooltip = ['index', 'Tests', 'Cases', 'Deaths']\n",
    ")\n",
    "\n",
    "tick1 = alt.Chart(data.reset_index()).mark_tick(\n",
    "    color='blue',\n",
    "    thickness=2,\n",
    "    size=30,  # controls width of tick.\n",
    ").encode(\n",
    "    x='Cases:Q',\n",
    "    y=alt.Y('index:N', sort=alt.EncodingSortField(field='codigo', order='ascending')),\n",
    "    tooltip = ['index', 'Tests', 'Cases', 'Deaths']\n",
    ")\n",
    "\n",
    "tick2 = alt.Chart(data.reset_index()).mark_tick(\n",
    "    color='red',\n",
    "    thickness=2,\n",
    "    size=30,  # controls width of tick.\n",
    ").encode(\n",
    "    x='Deaths:Q',\n",
    "    y=alt.Y('index:N', sort=alt.EncodingSortField(field='codigo', order='ascending')),\n",
    "    tooltip = ['index', 'Tests', 'Cases', 'Deaths']\n",
    ")\n",
    "\n",
    "(bar + tick0 + tick1 + tick2).properties(\n",
    "    title='COVID-19: Exámenes informados, casos confirmados y fallecidos confirmados por país por cada 1 millón de habitantes',\n",
    "    height=alt.Step(35),\n",
    "    width=700  # controls width of bar.\n",
    ")"
   ]
  },
  {
   "cell_type": "markdown",
   "metadata": {},
   "source": [
    "Fuentes: ECDC, [Our World in Data](https://ourworldindata.org/)"
   ]
  },
  {
   "cell_type": "markdown",
   "metadata": {},
   "source": [
    "# Exámenes, casos confirmados, y fallecimientos confirmados por país de latinoamérica por cada 1 millón de habitantes en los últimos 3 días"
   ]
  },
  {
   "cell_type": "markdown",
   "metadata": {},
   "source": [
    "> <span style=\"color:green\">Exámenes</span>, <span style=\"color:blue\">casos confirmados</span>, y <span style=\"color:red\">fallecimientos confirmados</span> por país por cada 1 millón de habitantes"
   ]
  },
  {
   "cell_type": "markdown",
   "metadata": {},
   "source": [
    "Nota: Muchos países de latinoamérica no tienen datos disponibles."
   ]
  },
  {
   "cell_type": "code",
   "execution_count": 254,
   "metadata": {},
   "outputs": [],
   "source": [
    "#hide\n",
    "data = pd.DataFrame()\n",
    "data['Tests'] = test_data['3-day rolling mean daily change']"
   ]
  },
  {
   "cell_type": "code",
   "execution_count": 255,
   "metadata": {},
   "outputs": [],
   "source": [
    "#hide\n",
    "cases = pd.Series()\n",
    "deaths = pd.Series()\n",
    "for country in list_latinoamerica:\n",
    "    cases[country] = full_data[full_data['location'].str.contains(country)].iloc[-3:]['new_cases'].mean()\n",
    "    deaths[country] = full_data[full_data['location'].str.contains(country)].iloc[-3:]['new_deaths'].mean()"
   ]
  },
  {
   "cell_type": "code",
   "execution_count": 256,
   "metadata": {},
   "outputs": [],
   "source": [
    "#hide\n",
    "data['Cases'] = cases\n",
    "data['Deaths'] = deaths"
   ]
  },
  {
   "cell_type": "code",
   "execution_count": 257,
   "metadata": {},
   "outputs": [],
   "source": [
    "#hide\n",
    "population = pd.Series()\n",
    "for country in list_latinoamerica:\n",
    "    population[country] = locations_data[locations_data['location'].str.contains(country)].iloc[-1]['population']"
   ]
  },
  {
   "cell_type": "code",
   "execution_count": 258,
   "metadata": {},
   "outputs": [],
   "source": [
    "#hide\n",
    "data['Population'] = population"
   ]
  },
  {
   "cell_type": "code",
   "execution_count": 259,
   "metadata": {},
   "outputs": [],
   "source": [
    "#hide\n",
    "data['Tests'] = np.round(1000000*data['Tests'].astype(float)/data['Population'], decimals=1)\n",
    "data['Cases'] = np.round(1000000*data['Cases']/data['Population'], decimals=1)\n",
    "data['Deaths'] = np.round(1000000*data['Deaths']/data['Population'], decimals=1)"
   ]
  },
  {
   "cell_type": "code",
   "execution_count": 260,
   "metadata": {},
   "outputs": [],
   "source": [
    "#hide\n",
    "data = data.dropna()"
   ]
  },
  {
   "cell_type": "code",
   "execution_count": 261,
   "metadata": {},
   "outputs": [],
   "source": [
    "#hide\n",
    "data = data.sort_values(by='Tests', ascending=False)\n",
    "data['codigo'] = np.arange(len(data))"
   ]
  },
  {
   "cell_type": "code",
   "execution_count": 262,
   "metadata": {},
   "outputs": [
    {
     "data": {
      "text/html": [
       "\n",
       "<div id=\"altair-viz-55ba17db39504496bd8afae11637fb63\"></div>\n",
       "<script type=\"text/javascript\">\n",
       "  (function(spec, embedOpt){\n",
       "    let outputDiv = document.currentScript.previousElementSibling;\n",
       "    if (outputDiv.id !== \"altair-viz-55ba17db39504496bd8afae11637fb63\") {\n",
       "      outputDiv = document.getElementById(\"altair-viz-55ba17db39504496bd8afae11637fb63\");\n",
       "    }\n",
       "    const paths = {\n",
       "      \"vega\": \"https://cdn.jsdelivr.net/npm//vega@5?noext\",\n",
       "      \"vega-lib\": \"https://cdn.jsdelivr.net/npm//vega-lib?noext\",\n",
       "      \"vega-lite\": \"https://cdn.jsdelivr.net/npm//vega-lite@4.8.1?noext\",\n",
       "      \"vega-embed\": \"https://cdn.jsdelivr.net/npm//vega-embed@6?noext\",\n",
       "    };\n",
       "\n",
       "    function loadScript(lib) {\n",
       "      return new Promise(function(resolve, reject) {\n",
       "        var s = document.createElement('script');\n",
       "        s.src = paths[lib];\n",
       "        s.async = true;\n",
       "        s.onload = () => resolve(paths[lib]);\n",
       "        s.onerror = () => reject(`Error loading script: ${paths[lib]}`);\n",
       "        document.getElementsByTagName(\"head\")[0].appendChild(s);\n",
       "      });\n",
       "    }\n",
       "\n",
       "    function showError(err) {\n",
       "      outputDiv.innerHTML = `<div class=\"error\" style=\"color:red;\">${err}</div>`;\n",
       "      throw err;\n",
       "    }\n",
       "\n",
       "    function displayChart(vegaEmbed) {\n",
       "      vegaEmbed(outputDiv, spec, embedOpt)\n",
       "        .catch(err => showError(`Javascript Error: ${err.message}<br>This usually means there's a typo in your chart specification. See the javascript console for the full traceback.`));\n",
       "    }\n",
       "\n",
       "    if(typeof define === \"function\" && define.amd) {\n",
       "      requirejs.config({paths});\n",
       "      require([\"vega-embed\"], displayChart, err => showError(`Error loading script: ${err.message}`));\n",
       "    } else if (typeof vegaEmbed === \"function\") {\n",
       "      displayChart(vegaEmbed);\n",
       "    } else {\n",
       "      loadScript(\"vega\")\n",
       "        .then(() => loadScript(\"vega-lite\"))\n",
       "        .then(() => loadScript(\"vega-embed\"))\n",
       "        .catch(showError)\n",
       "        .then(() => displayChart(vegaEmbed));\n",
       "    }\n",
       "  })({\"config\": {\"view\": {\"continuousWidth\": 400, \"continuousHeight\": 300}}, \"layer\": [{\"data\": {\"name\": \"data-e7052cf3913f32f0b78fd31dfb8bc53e\"}, \"mark\": {\"type\": \"bar\", \"color\": \"green\", \"opacity\": 0.4}, \"encoding\": {\"tooltip\": [{\"type\": \"nominal\", \"field\": \"index\"}, {\"type\": \"quantitative\", \"field\": \"Tests\"}, {\"type\": \"quantitative\", \"field\": \"Cases\"}, {\"type\": \"quantitative\", \"field\": \"Deaths\"}], \"x\": {\"type\": \"quantitative\", \"axis\": {\"title\": \"Ex\\u00e1menes informados, casos confirmados, fallecimientos confirmados por cada 1 mill\\u00f3n de habitantes\\n(promedio de los \\u00faltimos 3 d\\u00edas)\"}, \"field\": \"Tests\"}, \"y\": {\"type\": \"nominal\", \"axis\": {\"title\": \"Pa\\u00eds\"}, \"field\": \"index\", \"sort\": {\"field\": \"codigo\", \"order\": \"ascending\"}}}}, {\"data\": {\"name\": \"data-e7052cf3913f32f0b78fd31dfb8bc53e\"}, \"mark\": {\"type\": \"tick\", \"color\": \"black\", \"size\": 30, \"thickness\": 2}, \"encoding\": {\"tooltip\": [{\"type\": \"nominal\", \"field\": \"index\"}, {\"type\": \"quantitative\", \"field\": \"Tests\"}, {\"type\": \"quantitative\", \"field\": \"Cases\"}, {\"type\": \"quantitative\", \"field\": \"Deaths\"}], \"x\": {\"type\": \"quantitative\", \"field\": \"Tests\"}, \"y\": {\"type\": \"nominal\", \"field\": \"index\", \"sort\": {\"field\": \"codigo\", \"order\": \"ascending\"}}}}, {\"data\": {\"name\": \"data-e7052cf3913f32f0b78fd31dfb8bc53e\"}, \"mark\": {\"type\": \"tick\", \"color\": \"blue\", \"size\": 30, \"thickness\": 2}, \"encoding\": {\"tooltip\": [{\"type\": \"nominal\", \"field\": \"index\"}, {\"type\": \"quantitative\", \"field\": \"Tests\"}, {\"type\": \"quantitative\", \"field\": \"Cases\"}, {\"type\": \"quantitative\", \"field\": \"Deaths\"}], \"x\": {\"type\": \"quantitative\", \"field\": \"Cases\"}, \"y\": {\"type\": \"nominal\", \"field\": \"index\", \"sort\": {\"field\": \"codigo\", \"order\": \"ascending\"}}}}, {\"data\": {\"name\": \"data-e7052cf3913f32f0b78fd31dfb8bc53e\"}, \"mark\": {\"type\": \"tick\", \"color\": \"red\", \"size\": 30, \"thickness\": 2}, \"encoding\": {\"tooltip\": [{\"type\": \"nominal\", \"field\": \"index\"}, {\"type\": \"quantitative\", \"field\": \"Tests\"}, {\"type\": \"quantitative\", \"field\": \"Cases\"}, {\"type\": \"quantitative\", \"field\": \"Deaths\"}], \"x\": {\"type\": \"quantitative\", \"field\": \"Deaths\"}, \"y\": {\"type\": \"nominal\", \"field\": \"index\", \"sort\": {\"field\": \"codigo\", \"order\": \"ascending\"}}}}], \"height\": {\"step\": 35}, \"title\": \"COVID-19: Ex\\u00e1menes informados, casos confirmados y fallecidos confirmados por pa\\u00eds por cada 1 mill\\u00f3n de habitantes\\n(promedio de los \\u00faltimos 3 d\\u00edas)\", \"width\": 700, \"$schema\": \"https://vega.github.io/schema/vega-lite/v4.8.1.json\", \"datasets\": {\"data-e7052cf3913f32f0b78fd31dfb8bc53e\": [{\"index\": \"Peru\", \"Tests\": 480.3, \"Cases\": 66.8, \"Deaths\": 1.6, \"Population\": 32971846.0, \"codigo\": 0}, {\"index\": \"Ecuador\", \"Tests\": 479.5, \"Cases\": 218.0, \"Deaths\": 0.3, \"Population\": 17643060.0, \"codigo\": 1}, {\"index\": \"Chile\", \"Tests\": 363.2, \"Cases\": 26.5, \"Deaths\": 0.4, \"Population\": 19116209.0, \"codigo\": 2}, {\"index\": \"Panama\", \"Tests\": 240.1, \"Cases\": 47.4, \"Deaths\": 1.5, \"Population\": 4314768.0, \"codigo\": 3}, {\"index\": \"Uruguay\", \"Tests\": 184.3, \"Cases\": 4.7, \"Deaths\": 0.3, \"Population\": 3473727.0, \"codigo\": 4}, {\"index\": \"Cuba\", \"Tests\": 164.4, \"Cases\": 3.9, \"Deaths\": 0.3, \"Population\": 11326616.0, \"codigo\": 5}, {\"index\": \"Argentina\", \"Tests\": 59.9, \"Cases\": 2.5, \"Deaths\": 0.2, \"Population\": 45195777.0, \"codigo\": 6}, {\"index\": \"Paraguay\", \"Tests\": 48.2, \"Cases\": 0.4, \"Deaths\": 0.0, \"Population\": 7132530.0, \"codigo\": 7}, {\"index\": \"Bolivia\", \"Tests\": 22.7, \"Cases\": 7.1, \"Deaths\": 0.2, \"Population\": 11673029.0, \"codigo\": 8}]}}, {\"mode\": \"vega-lite\"});\n",
       "</script>"
      ],
      "text/plain": [
       "alt.LayerChart(...)"
      ]
     },
     "execution_count": 262,
     "metadata": {},
     "output_type": "execute_result"
    }
   ],
   "source": [
    "#hide_input\n",
    "bar = alt.Chart(data.reset_index()).mark_bar(opacity=0.4, color='green').encode(\n",
    "    x=alt.X('Tests:Q', axis=alt.Axis(title=f'Exámenes informados, casos confirmados, fallecimientos confirmados por cada 1 millón de habitantes\\n(promedio de los últimos 3 días)')),\n",
    "    y=alt.Y('index:N', axis=alt.Axis(title='País'), sort=alt.EncodingSortField(field='codigo', order='ascending')),\n",
    "    tooltip = ['index', 'Tests', 'Cases', 'Deaths']\n",
    ")\n",
    "\n",
    "tick0 = alt.Chart(data.reset_index()).mark_tick(\n",
    "    color='black',\n",
    "    thickness=2,\n",
    "    size=30,  # controls width of tick.\n",
    ").encode(\n",
    "    x='Tests:Q',\n",
    "    y=alt.Y('index:N', sort=alt.EncodingSortField(field='codigo', order='ascending')),\n",
    "    tooltip = ['index', 'Tests', 'Cases', 'Deaths']\n",
    ")\n",
    "\n",
    "tick1 = alt.Chart(data.reset_index()).mark_tick(\n",
    "    color='blue',\n",
    "    thickness=2,\n",
    "    size=30,  # controls width of tick.\n",
    ").encode(\n",
    "    x='Cases:Q',\n",
    "    y=alt.Y('index:N', sort=alt.EncodingSortField(field='codigo', order='ascending')),\n",
    "    tooltip = ['index', 'Tests', 'Cases', 'Deaths']\n",
    ")\n",
    "\n",
    "tick2 = alt.Chart(data.reset_index()).mark_tick(\n",
    "    color='red',\n",
    "    thickness=2,\n",
    "    size=30,  # controls width of tick.\n",
    ").encode(\n",
    "    x='Deaths:Q',\n",
    "    y=alt.Y('index:N', sort=alt.EncodingSortField(field='codigo', order='ascending')),\n",
    "    tooltip = ['index', 'Tests', 'Cases', 'Deaths']\n",
    ")\n",
    "\n",
    "(bar + tick0 + tick1 + tick2).properties(\n",
    "    title=f'COVID-19: Exámenes informados, casos confirmados y fallecidos confirmados por país por cada 1 millón de habitantes\\n(promedio de los últimos 3 días)',\n",
    "    height=alt.Step(35),\n",
    "    width=700  # controls width of bar.\n",
    ")"
   ]
  },
  {
   "cell_type": "code",
   "execution_count": null,
   "metadata": {},
   "outputs": [],
   "source": []
  }
 ],
 "metadata": {
  "kernelspec": {
   "display_name": "Python 3",
   "language": "python",
   "name": "python3"
  },
  "language_info": {
   "codemirror_mode": {
    "name": "ipython",
    "version": 3
   },
   "file_extension": ".py",
   "mimetype": "text/x-python",
   "name": "python",
   "nbconvert_exporter": "python",
   "pygments_lexer": "ipython3",
   "version": "3.7.5"
  }
 },
 "nbformat": 4,
 "nbformat_minor": 4
}
