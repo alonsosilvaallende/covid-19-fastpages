{
 "cells": [
  {
   "cell_type": "markdown",
   "metadata": {},
   "source": [
    "# COVID-19 en Chile\n",
    "> Total de casos confirmados, fallecidos confirmados, pacientes en UCI por región.\n",
    "\n",
    "- toc: true \n",
    "- badges: true\n",
    "- comments: true\n",
    "- author: Alonso Silva Allende\n",
    "- categories: [jupyter]\n",
    "- image: images/diagram.png"
   ]
  },
  {
   "cell_type": "code",
   "execution_count": 1,
   "metadata": {},
   "outputs": [],
   "source": [
    "#hide\n",
    "import numpy as np\n",
    "import matplotlib.pyplot as plt\n",
    "import pandas as pd\n",
    "import altair as alt\n",
    "plt.style.use('ggplot')"
   ]
  },
  {
   "cell_type": "code",
   "execution_count": 2,
   "metadata": {},
   "outputs": [],
   "source": [
    "#hide\n",
    "from IPython.display import display, Markdown, display_html, HTML"
   ]
  },
  {
   "cell_type": "code",
   "execution_count": 3,
   "metadata": {},
   "outputs": [
    {
     "data": {
      "text/plain": [
       "'2020-05-07'"
      ]
     },
     "execution_count": 3,
     "metadata": {},
     "output_type": "execute_result"
    }
   ],
   "source": [
    "#hide\n",
    "update_date = pd.to_datetime('today') - pd.offsets.Hour(19)\n",
    "today = update_date.strftime('%Y-%m-%d')\n",
    "today"
   ]
  },
  {
   "cell_type": "code",
   "execution_count": 4,
   "metadata": {},
   "outputs": [
    {
     "data": {
      "text/plain": [
       "'2020-04-30'"
      ]
     },
     "execution_count": 4,
     "metadata": {},
     "output_type": "execute_result"
    }
   ],
   "source": [
    "#hide\n",
    "date_one_week_ago = (update_date - pd.offsets.Day(7)).strftime('%Y-%m-%d')\n",
    "date_one_week_ago"
   ]
  },
  {
   "cell_type": "code",
   "execution_count": 5,
   "metadata": {},
   "outputs": [
    {
     "data": {
      "text/markdown": [
       "Última actualización: 07/05/2020."
      ],
      "text/plain": [
       "<IPython.core.display.Markdown object>"
      ]
     },
     "metadata": {},
     "output_type": "display_data"
    }
   ],
   "source": [
    "#hide_input\n",
    "display(Markdown(f\"Última actualización: {update_date.strftime('%d/%m/%Y')}.\"))"
   ]
  },
  {
   "cell_type": "code",
   "execution_count": 6,
   "metadata": {},
   "outputs": [],
   "source": [
    "#hide\n",
    "casos_raw = pd.read_csv(\n",
    "    \"https://raw.githubusercontent.com/MinCiencia/Datos-COVID19/master/output/producto3/CasosTotalesCumulativo.csv\",\n",
    "    index_col='Region')"
   ]
  },
  {
   "cell_type": "code",
   "execution_count": 7,
   "metadata": {},
   "outputs": [],
   "source": [
    "#hide\n",
    "s = \"https://raw.githubusercontent.com/MinCiencia/Datos-COVID19/master/output/producto4/\" \\\n",
    "+ today + \"-CasosConfirmados-totalRegional.csv\"\n",
    "deaths_raw = pd.read_csv(s, index_col='Region')"
   ]
  },
  {
   "cell_type": "code",
   "execution_count": 8,
   "metadata": {},
   "outputs": [],
   "source": [
    "#hide\n",
    "s = \"https://raw.githubusercontent.com/MinCiencia/Datos-COVID19/master/output/producto4/\" \\\n",
    "+ date_one_week_ago + \"-CasosConfirmados-totalRegional.csv\"\n",
    "deaths_one_week_ago = pd.read_csv(s, index_col='Region')"
   ]
  },
  {
   "cell_type": "code",
   "execution_count": 9,
   "metadata": {},
   "outputs": [],
   "source": [
    "#hide\n",
    "tests_raw = pd.read_csv(\n",
    "    'https://raw.githubusercontent.com/MinCiencia/Datos-COVID19/master/output/producto7/PCR.csv',\n",
    "    index_col='Region')"
   ]
  },
  {
   "cell_type": "code",
   "execution_count": 10,
   "metadata": {},
   "outputs": [],
   "source": [
    "#hide\n",
    "data_table = pd.DataFrame()\n",
    "data_table[\"Region\"] = casos_raw[today].drop(\"Total\").reset_index()[\"Region\"]\n",
    "data_table[\"CC\"] = casos_raw[today].drop(\"Total\").reset_index()[today]\n",
    "data_table[\"CC por 100.000 hab.\"] = np.round(100000*(casos_raw[today]/tests_raw['Poblacion']).drop('Total'), decimals=1).values\n",
    "data_table[\"FC\"] = deaths_raw[\"Fallecidos\"].drop(\"Total\").values\n",
    "data_table[\"FC por 100.000 hab.\"] = \\\n",
    "np.round(100000*deaths_raw['Fallecidos'].drop('Total')/(tests_raw['Poblacion'].values), decimals=1).values"
   ]
  },
  {
   "cell_type": "code",
   "execution_count": 11,
   "metadata": {},
   "outputs": [],
   "source": [
    "#hide\n",
    "tests_raw = tests_raw.fillna(0)"
   ]
  },
  {
   "cell_type": "code",
   "execution_count": 12,
   "metadata": {},
   "outputs": [],
   "source": [
    "#hide\n",
    "tests_total = pd.Series(dtype='float64')\n",
    "for date in tests_raw.columns:\n",
    "  tests_raw[date] = tests_raw[date].apply(lambda x: 0 if x=='-' else x)\n",
    "  tests_raw[date] = tests_raw[date].astype(int)\n",
    "  tests_total[date] = np.sum(tests_raw[date])"
   ]
  },
  {
   "cell_type": "code",
   "execution_count": 13,
   "metadata": {},
   "outputs": [],
   "source": [
    "#hide\n",
    "tests_raw.loc['Total'] = tests_total"
   ]
  },
  {
   "cell_type": "code",
   "execution_count": 14,
   "metadata": {},
   "outputs": [],
   "source": [
    "#hide\n",
    "tests_table = pd.DataFrame()\n",
    "tests_table[\"Región\"] = tests_raw.reset_index()['Region']\n",
    "tests_table[\"Exámenes informados\"] = tests_raw.drop(columns='Poblacion').sum(axis=1).values\n",
    "tests_table[\"Exámenes informados por 100.000 habs.\"] = \\\n",
    "np.round(100000*tests_raw.drop(columns='Poblacion').sum(axis=1).values/tests_raw['Poblacion'], decimals=1).values"
   ]
  },
  {
   "cell_type": "code",
   "execution_count": 15,
   "metadata": {},
   "outputs": [],
   "source": [
    "#hide\n",
    "total_confirmed = casos_raw.iloc[-1,-1]\n",
    "total_deaths = deaths_raw.loc[\"Total\", \"Fallecidos\"]"
   ]
  },
  {
   "cell_type": "code",
   "execution_count": 16,
   "metadata": {},
   "outputs": [],
   "source": [
    "#hide\n",
    "total_confirmed_one_week_ago = casos_raw.iloc[-1,-8]\n",
    "total_deaths_one_week_ago = deaths_one_week_ago.loc[\"Total\", \"Fallecidos\"]"
   ]
  },
  {
   "cell_type": "code",
   "execution_count": 17,
   "metadata": {},
   "outputs": [],
   "source": [
    "#hide\n",
    "diff_cases = total_confirmed-total_confirmed_one_week_ago\n",
    "diff_deaths = total_deaths-total_deaths_one_week_ago"
   ]
  },
  {
   "cell_type": "code",
   "execution_count": 18,
   "metadata": {},
   "outputs": [],
   "source": [
    "#hide\n",
    "total_confirmed = '{:,}'.format(total_confirmed).replace(',', '.')\n",
    "total_deaths = '{:,}'.format(total_deaths).replace(',', '.')"
   ]
  },
  {
   "cell_type": "code",
   "execution_count": 19,
   "metadata": {},
   "outputs": [],
   "source": [
    "#hide\n",
    "diff_cases = '{:,}'.format(diff_cases).replace(',', '.')\n",
    "diff_deaths = '{:,}'.format(diff_deaths).replace(',', '.')"
   ]
  },
  {
   "cell_type": "markdown",
   "metadata": {},
   "source": [
    "# Estadísticas para Chile"
   ]
  },
  {
   "cell_type": "code",
   "execution_count": 20,
   "metadata": {
    "scrolled": true
   },
   "outputs": [
    {
     "data": {
      "text/html": [
       "<p style=\"color:#3361ff;\"><span style=\"font-weight:bold;\">Casos confirmados:</span> 24.581 (+8.558 en una semana)</p><p style=\"color:#FF3F3F;\"><span style=\"font-weight:bold;\">Fallecimientos confirmados:</span> 285 (+58 en una semana)</p>"
      ],
      "text/plain": [
       "<IPython.core.display.HTML object>"
      ]
     },
     "execution_count": 20,
     "metadata": {},
     "output_type": "execute_result"
    }
   ],
   "source": [
    "#hide_input\n",
    "HTML(f'<p style=\"color:#3361ff;\"><span style=\"font-weight:bold;\">Casos confirmados:</span> {total_confirmed} (+{diff_cases} en una semana)</p><p style=\"color:#FF3F3F;\"><span style=\"font-weight:bold;\">Fallecimientos confirmados:</span> {total_deaths} (+{diff_deaths} en una semana)</p>')"
   ]
  },
  {
   "cell_type": "code",
   "execution_count": 21,
   "metadata": {
    "scrolled": false
   },
   "outputs": [
    {
     "data": {
      "text/html": [
       "<style  type=\"text/css\" >\n",
       "    #T_31635642_90b5_11ea_98c4_60f81dc8f27arow0_col0 {\n",
       "            text-align:  right;\n",
       "        }    #T_31635642_90b5_11ea_98c4_60f81dc8f27arow0_col1 {\n",
       "            text-align:  right;\n",
       "            background-color:  #fff2ec;\n",
       "            color:  #000000;\n",
       "        }    #T_31635642_90b5_11ea_98c4_60f81dc8f27arow0_col2 {\n",
       "            text-align:  right;\n",
       "            background-color:  #fcb79c;\n",
       "            color:  #000000;\n",
       "        }    #T_31635642_90b5_11ea_98c4_60f81dc8f27arow0_col3 {\n",
       "            text-align:  right;\n",
       "            background-color:  #ffeee7;\n",
       "            color:  #000000;\n",
       "        }    #T_31635642_90b5_11ea_98c4_60f81dc8f27arow0_col4 {\n",
       "            text-align:  right;\n",
       "            background-color:  #fc8e6e;\n",
       "            color:  #000000;\n",
       "        }    #T_31635642_90b5_11ea_98c4_60f81dc8f27arow1_col0 {\n",
       "            text-align:  right;\n",
       "        }    #T_31635642_90b5_11ea_98c4_60f81dc8f27arow1_col1 {\n",
       "            text-align:  right;\n",
       "            background-color:  #fff1ea;\n",
       "            color:  #000000;\n",
       "        }    #T_31635642_90b5_11ea_98c4_60f81dc8f27arow1_col2 {\n",
       "            text-align:  right;\n",
       "            background-color:  #fcb296;\n",
       "            color:  #000000;\n",
       "        }    #T_31635642_90b5_11ea_98c4_60f81dc8f27arow1_col3 {\n",
       "            text-align:  right;\n",
       "            background-color:  #fff4ef;\n",
       "            color:  #000000;\n",
       "        }    #T_31635642_90b5_11ea_98c4_60f81dc8f27arow1_col4 {\n",
       "            text-align:  right;\n",
       "            background-color:  #ffede5;\n",
       "            color:  #000000;\n",
       "        }    #T_31635642_90b5_11ea_98c4_60f81dc8f27arow2_col0 {\n",
       "            text-align:  right;\n",
       "        }    #T_31635642_90b5_11ea_98c4_60f81dc8f27arow2_col1 {\n",
       "            text-align:  right;\n",
       "            background-color:  #ffece4;\n",
       "            color:  #000000;\n",
       "        }    #T_31635642_90b5_11ea_98c4_60f81dc8f27arow2_col2 {\n",
       "            text-align:  right;\n",
       "            background-color:  #fcb79c;\n",
       "            color:  #000000;\n",
       "        }    #T_31635642_90b5_11ea_98c4_60f81dc8f27arow2_col3 {\n",
       "            text-align:  right;\n",
       "            background-color:  #ffeee6;\n",
       "            color:  #000000;\n",
       "        }    #T_31635642_90b5_11ea_98c4_60f81dc8f27arow2_col4 {\n",
       "            text-align:  right;\n",
       "            background-color:  #fdd5c4;\n",
       "            color:  #000000;\n",
       "        }    #T_31635642_90b5_11ea_98c4_60f81dc8f27arow3_col0 {\n",
       "            text-align:  right;\n",
       "        }    #T_31635642_90b5_11ea_98c4_60f81dc8f27arow3_col1 {\n",
       "            text-align:  right;\n",
       "            background-color:  #fff4ef;\n",
       "            color:  #000000;\n",
       "        }    #T_31635642_90b5_11ea_98c4_60f81dc8f27arow3_col2 {\n",
       "            text-align:  right;\n",
       "            background-color:  #ffeee6;\n",
       "            color:  #000000;\n",
       "        }    #T_31635642_90b5_11ea_98c4_60f81dc8f27arow3_col3 {\n",
       "            text-align:  right;\n",
       "            background-color:  #fff5f0;\n",
       "            color:  #000000;\n",
       "        }    #T_31635642_90b5_11ea_98c4_60f81dc8f27arow3_col4 {\n",
       "            text-align:  right;\n",
       "            background-color:  #fff5f0;\n",
       "            color:  #000000;\n",
       "        }    #T_31635642_90b5_11ea_98c4_60f81dc8f27arow4_col0 {\n",
       "            text-align:  right;\n",
       "        }    #T_31635642_90b5_11ea_98c4_60f81dc8f27arow4_col1 {\n",
       "            text-align:  right;\n",
       "            background-color:  #fff4ef;\n",
       "            color:  #000000;\n",
       "        }    #T_31635642_90b5_11ea_98c4_60f81dc8f27arow4_col2 {\n",
       "            text-align:  right;\n",
       "            background-color:  #fff5f0;\n",
       "            color:  #000000;\n",
       "        }    #T_31635642_90b5_11ea_98c4_60f81dc8f27arow4_col3 {\n",
       "            text-align:  right;\n",
       "            background-color:  #fff5f0;\n",
       "            color:  #000000;\n",
       "        }    #T_31635642_90b5_11ea_98c4_60f81dc8f27arow4_col4 {\n",
       "            text-align:  right;\n",
       "            background-color:  #fff5f0;\n",
       "            color:  #000000;\n",
       "        }    #T_31635642_90b5_11ea_98c4_60f81dc8f27arow5_col0 {\n",
       "            text-align:  right;\n",
       "        }    #T_31635642_90b5_11ea_98c4_60f81dc8f27arow5_col1 {\n",
       "            text-align:  right;\n",
       "            background-color:  #ffeee6;\n",
       "            color:  #000000;\n",
       "        }    #T_31635642_90b5_11ea_98c4_60f81dc8f27arow5_col2 {\n",
       "            text-align:  right;\n",
       "            background-color:  #fee7db;\n",
       "            color:  #000000;\n",
       "        }    #T_31635642_90b5_11ea_98c4_60f81dc8f27arow5_col3 {\n",
       "            text-align:  right;\n",
       "            background-color:  #fee3d6;\n",
       "            color:  #000000;\n",
       "        }    #T_31635642_90b5_11ea_98c4_60f81dc8f27arow5_col4 {\n",
       "            text-align:  right;\n",
       "            background-color:  #fedaca;\n",
       "            color:  #000000;\n",
       "        }    #T_31635642_90b5_11ea_98c4_60f81dc8f27arow6_col0 {\n",
       "            text-align:  right;\n",
       "        }    #T_31635642_90b5_11ea_98c4_60f81dc8f27arow6_col1 {\n",
       "            text-align:  right;\n",
       "            background-color:  #67000d;\n",
       "            color:  #f1f1f1;\n",
       "        }    #T_31635642_90b5_11ea_98c4_60f81dc8f27arow6_col2 {\n",
       "            text-align:  right;\n",
       "            background-color:  #fff4ee;\n",
       "            color:  #000000;\n",
       "        }    #T_31635642_90b5_11ea_98c4_60f81dc8f27arow6_col3 {\n",
       "            text-align:  right;\n",
       "            background-color:  #67000d;\n",
       "            color:  #f1f1f1;\n",
       "        }    #T_31635642_90b5_11ea_98c4_60f81dc8f27arow6_col4 {\n",
       "            text-align:  right;\n",
       "            background-color:  #fca98c;\n",
       "            color:  #000000;\n",
       "        }    #T_31635642_90b5_11ea_98c4_60f81dc8f27arow7_col0 {\n",
       "            text-align:  right;\n",
       "        }    #T_31635642_90b5_11ea_98c4_60f81dc8f27arow7_col1 {\n",
       "            text-align:  right;\n",
       "            background-color:  #fff4ee;\n",
       "            color:  #000000;\n",
       "        }    #T_31635642_90b5_11ea_98c4_60f81dc8f27arow7_col2 {\n",
       "            text-align:  right;\n",
       "            background-color:  #fee2d5;\n",
       "            color:  #000000;\n",
       "        }    #T_31635642_90b5_11ea_98c4_60f81dc8f27arow7_col3 {\n",
       "            text-align:  right;\n",
       "            background-color:  #fff2eb;\n",
       "            color:  #000000;\n",
       "        }    #T_31635642_90b5_11ea_98c4_60f81dc8f27arow7_col4 {\n",
       "            text-align:  right;\n",
       "            background-color:  #ffede5;\n",
       "            color:  #000000;\n",
       "        }    #T_31635642_90b5_11ea_98c4_60f81dc8f27arow8_col0 {\n",
       "            text-align:  right;\n",
       "        }    #T_31635642_90b5_11ea_98c4_60f81dc8f27arow8_col1 {\n",
       "            text-align:  right;\n",
       "            background-color:  #fff1ea;\n",
       "            color:  #000000;\n",
       "        }    #T_31635642_90b5_11ea_98c4_60f81dc8f27arow8_col2 {\n",
       "            text-align:  right;\n",
       "            background-color:  #fee6da;\n",
       "            color:  #000000;\n",
       "        }    #T_31635642_90b5_11ea_98c4_60f81dc8f27arow8_col3 {\n",
       "            text-align:  right;\n",
       "            background-color:  #fee7dc;\n",
       "            color:  #000000;\n",
       "        }    #T_31635642_90b5_11ea_98c4_60f81dc8f27arow8_col4 {\n",
       "            text-align:  right;\n",
       "            background-color:  #fdd1be;\n",
       "            color:  #000000;\n",
       "        }    #T_31635642_90b5_11ea_98c4_60f81dc8f27arow9_col0 {\n",
       "            text-align:  right;\n",
       "        }    #T_31635642_90b5_11ea_98c4_60f81dc8f27arow9_col1 {\n",
       "            text-align:  right;\n",
       "            background-color:  #ffeee6;\n",
       "            color:  #000000;\n",
       "        }    #T_31635642_90b5_11ea_98c4_60f81dc8f27arow9_col2 {\n",
       "            text-align:  right;\n",
       "            background-color:  #67000d;\n",
       "            color:  #f1f1f1;\n",
       "        }    #T_31635642_90b5_11ea_98c4_60f81dc8f27arow9_col3 {\n",
       "            text-align:  right;\n",
       "            background-color:  #fee3d6;\n",
       "            color:  #000000;\n",
       "        }    #T_31635642_90b5_11ea_98c4_60f81dc8f27arow9_col4 {\n",
       "            text-align:  right;\n",
       "            background-color:  #f85d42;\n",
       "            color:  #000000;\n",
       "        }    #T_31635642_90b5_11ea_98c4_60f81dc8f27arow10_col0 {\n",
       "            text-align:  right;\n",
       "        }    #T_31635642_90b5_11ea_98c4_60f81dc8f27arow10_col1 {\n",
       "            text-align:  right;\n",
       "            background-color:  #ffede5;\n",
       "            color:  #000000;\n",
       "        }    #T_31635642_90b5_11ea_98c4_60f81dc8f27arow10_col2 {\n",
       "            text-align:  right;\n",
       "            background-color:  #feeae1;\n",
       "            color:  #000000;\n",
       "        }    #T_31635642_90b5_11ea_98c4_60f81dc8f27arow10_col3 {\n",
       "            text-align:  right;\n",
       "            background-color:  #ffece4;\n",
       "            color:  #000000;\n",
       "        }    #T_31635642_90b5_11ea_98c4_60f81dc8f27arow10_col4 {\n",
       "            text-align:  right;\n",
       "            background-color:  #fee8dd;\n",
       "            color:  #000000;\n",
       "        }    #T_31635642_90b5_11ea_98c4_60f81dc8f27arow11_col0 {\n",
       "            text-align:  right;\n",
       "        }    #T_31635642_90b5_11ea_98c4_60f81dc8f27arow11_col1 {\n",
       "            text-align:  right;\n",
       "            background-color:  #fee8dd;\n",
       "            color:  #000000;\n",
       "        }    #T_31635642_90b5_11ea_98c4_60f81dc8f27arow11_col2 {\n",
       "            text-align:  right;\n",
       "            background-color:  #fc8060;\n",
       "            color:  #000000;\n",
       "        }    #T_31635642_90b5_11ea_98c4_60f81dc8f27arow11_col3 {\n",
       "            text-align:  right;\n",
       "            background-color:  #fcbfa7;\n",
       "            color:  #000000;\n",
       "        }    #T_31635642_90b5_11ea_98c4_60f81dc8f27arow11_col4 {\n",
       "            text-align:  right;\n",
       "            background-color:  #f5523a;\n",
       "            color:  #000000;\n",
       "        }    #T_31635642_90b5_11ea_98c4_60f81dc8f27arow12_col0 {\n",
       "            text-align:  right;\n",
       "        }    #T_31635642_90b5_11ea_98c4_60f81dc8f27arow12_col1 {\n",
       "            text-align:  right;\n",
       "            background-color:  #fff4ee;\n",
       "            color:  #000000;\n",
       "        }    #T_31635642_90b5_11ea_98c4_60f81dc8f27arow12_col2 {\n",
       "            text-align:  right;\n",
       "            background-color:  #fff2ec;\n",
       "            color:  #000000;\n",
       "        }    #T_31635642_90b5_11ea_98c4_60f81dc8f27arow12_col3 {\n",
       "            text-align:  right;\n",
       "            background-color:  #fff1ea;\n",
       "            color:  #000000;\n",
       "        }    #T_31635642_90b5_11ea_98c4_60f81dc8f27arow12_col4 {\n",
       "            text-align:  right;\n",
       "            background-color:  #fdd5c4;\n",
       "            color:  #000000;\n",
       "        }    #T_31635642_90b5_11ea_98c4_60f81dc8f27arow13_col0 {\n",
       "            text-align:  right;\n",
       "        }    #T_31635642_90b5_11ea_98c4_60f81dc8f27arow13_col1 {\n",
       "            text-align:  right;\n",
       "            background-color:  #fff0e8;\n",
       "            color:  #000000;\n",
       "        }    #T_31635642_90b5_11ea_98c4_60f81dc8f27arow13_col2 {\n",
       "            text-align:  right;\n",
       "            background-color:  #fcc4ad;\n",
       "            color:  #000000;\n",
       "        }    #T_31635642_90b5_11ea_98c4_60f81dc8f27arow13_col3 {\n",
       "            text-align:  right;\n",
       "            background-color:  #feeae1;\n",
       "            color:  #000000;\n",
       "        }    #T_31635642_90b5_11ea_98c4_60f81dc8f27arow13_col4 {\n",
       "            text-align:  right;\n",
       "            background-color:  #fdd1be;\n",
       "            color:  #000000;\n",
       "        }    #T_31635642_90b5_11ea_98c4_60f81dc8f27arow14_col0 {\n",
       "            text-align:  right;\n",
       "        }    #T_31635642_90b5_11ea_98c4_60f81dc8f27arow14_col1 {\n",
       "            text-align:  right;\n",
       "            background-color:  #fff5f0;\n",
       "            color:  #000000;\n",
       "        }    #T_31635642_90b5_11ea_98c4_60f81dc8f27arow14_col2 {\n",
       "            text-align:  right;\n",
       "            background-color:  #feeae0;\n",
       "            color:  #000000;\n",
       "        }    #T_31635642_90b5_11ea_98c4_60f81dc8f27arow14_col3 {\n",
       "            text-align:  right;\n",
       "            background-color:  #fff5f0;\n",
       "            color:  #000000;\n",
       "        }    #T_31635642_90b5_11ea_98c4_60f81dc8f27arow14_col4 {\n",
       "            text-align:  right;\n",
       "            background-color:  #fff5f0;\n",
       "            color:  #000000;\n",
       "        }    #T_31635642_90b5_11ea_98c4_60f81dc8f27arow15_col0 {\n",
       "            text-align:  right;\n",
       "        }    #T_31635642_90b5_11ea_98c4_60f81dc8f27arow15_col1 {\n",
       "            text-align:  right;\n",
       "            background-color:  #ffede5;\n",
       "            color:  #000000;\n",
       "        }    #T_31635642_90b5_11ea_98c4_60f81dc8f27arow15_col2 {\n",
       "            text-align:  right;\n",
       "            background-color:  #fca588;\n",
       "            color:  #000000;\n",
       "        }    #T_31635642_90b5_11ea_98c4_60f81dc8f27arow15_col3 {\n",
       "            text-align:  right;\n",
       "            background-color:  #fee9df;\n",
       "            color:  #000000;\n",
       "        }    #T_31635642_90b5_11ea_98c4_60f81dc8f27arow15_col4 {\n",
       "            text-align:  right;\n",
       "            background-color:  #67000d;\n",
       "            color:  #f1f1f1;\n",
       "        }</style><table id=\"T_31635642_90b5_11ea_98c4_60f81dc8f27a\" ><caption>Estadísticas por región: Casos confirmados (CC) y fallecidos confirmados (FC)</caption><thead>    <tr>        <th class=\"col_heading level0 col0\" >Region</th>        <th class=\"col_heading level0 col1\" >CC</th>        <th class=\"col_heading level0 col2\" >CC por 100.000 hab.</th>        <th class=\"col_heading level0 col3\" >FC</th>        <th class=\"col_heading level0 col4\" >FC por 100.000 hab.</th>    </tr></thead><tbody>\n",
       "                <tr>\n",
       "                                <td id=\"T_31635642_90b5_11ea_98c4_60f81dc8f27arow0_col0\" class=\"data row0 col0\" >Arica y Parinacota</td>\n",
       "                        <td id=\"T_31635642_90b5_11ea_98c4_60f81dc8f27arow0_col1\" class=\"data row0 col1\" >325</td>\n",
       "                        <td id=\"T_31635642_90b5_11ea_98c4_60f81dc8f27arow0_col2\" class=\"data row0 col2\" >129.400000</td>\n",
       "                        <td id=\"T_31635642_90b5_11ea_98c4_60f81dc8f27arow0_col3\" class=\"data row0 col3\" >6</td>\n",
       "                        <td id=\"T_31635642_90b5_11ea_98c4_60f81dc8f27arow0_col4\" class=\"data row0 col4\" >2.400000</td>\n",
       "            </tr>\n",
       "            <tr>\n",
       "                                <td id=\"T_31635642_90b5_11ea_98c4_60f81dc8f27arow1_col0\" class=\"data row1 col0\" >Tarapacá</td>\n",
       "                        <td id=\"T_31635642_90b5_11ea_98c4_60f81dc8f27arow1_col1\" class=\"data row1 col1\" >417</td>\n",
       "                        <td id=\"T_31635642_90b5_11ea_98c4_60f81dc8f27arow1_col2\" class=\"data row1 col2\" >136.500000</td>\n",
       "                        <td id=\"T_31635642_90b5_11ea_98c4_60f81dc8f27arow1_col3\" class=\"data row1 col3\" >1</td>\n",
       "                        <td id=\"T_31635642_90b5_11ea_98c4_60f81dc8f27arow1_col4\" class=\"data row1 col4\" >0.300000</td>\n",
       "            </tr>\n",
       "            <tr>\n",
       "                                <td id=\"T_31635642_90b5_11ea_98c4_60f81dc8f27arow2_col0\" class=\"data row2 col0\" >Antofagasta</td>\n",
       "                        <td id=\"T_31635642_90b5_11ea_98c4_60f81dc8f27arow2_col1\" class=\"data row2 col1\" >895</td>\n",
       "                        <td id=\"T_31635642_90b5_11ea_98c4_60f81dc8f27arow2_col2\" class=\"data row2 col2\" >128.900000</td>\n",
       "                        <td id=\"T_31635642_90b5_11ea_98c4_60f81dc8f27arow2_col3\" class=\"data row2 col3\" >7</td>\n",
       "                        <td id=\"T_31635642_90b5_11ea_98c4_60f81dc8f27arow2_col4\" class=\"data row2 col4\" >1.000000</td>\n",
       "            </tr>\n",
       "            <tr>\n",
       "                                <td id=\"T_31635642_90b5_11ea_98c4_60f81dc8f27arow3_col0\" class=\"data row3 col0\" >Atacama</td>\n",
       "                        <td id=\"T_31635642_90b5_11ea_98c4_60f81dc8f27arow3_col1\" class=\"data row3 col1\" >87</td>\n",
       "                        <td id=\"T_31635642_90b5_11ea_98c4_60f81dc8f27arow3_col2\" class=\"data row3 col2\" >27.600000</td>\n",
       "                        <td id=\"T_31635642_90b5_11ea_98c4_60f81dc8f27arow3_col3\" class=\"data row3 col3\" >0</td>\n",
       "                        <td id=\"T_31635642_90b5_11ea_98c4_60f81dc8f27arow3_col4\" class=\"data row3 col4\" >0.000000</td>\n",
       "            </tr>\n",
       "            <tr>\n",
       "                                <td id=\"T_31635642_90b5_11ea_98c4_60f81dc8f27arow4_col0\" class=\"data row4 col0\" >Coquimbo</td>\n",
       "                        <td id=\"T_31635642_90b5_11ea_98c4_60f81dc8f27arow4_col1\" class=\"data row4 col1\" >100</td>\n",
       "                        <td id=\"T_31635642_90b5_11ea_98c4_60f81dc8f27arow4_col2\" class=\"data row4 col2\" >7.500000</td>\n",
       "                        <td id=\"T_31635642_90b5_11ea_98c4_60f81dc8f27arow4_col3\" class=\"data row4 col3\" >0</td>\n",
       "                        <td id=\"T_31635642_90b5_11ea_98c4_60f81dc8f27arow4_col4\" class=\"data row4 col4\" >0.000000</td>\n",
       "            </tr>\n",
       "            <tr>\n",
       "                                <td id=\"T_31635642_90b5_11ea_98c4_60f81dc8f27arow5_col0\" class=\"data row5 col0\" >Valparaíso</td>\n",
       "                        <td id=\"T_31635642_90b5_11ea_98c4_60f81dc8f27arow5_col1\" class=\"data row5 col1\" >781</td>\n",
       "                        <td id=\"T_31635642_90b5_11ea_98c4_60f81dc8f27arow5_col2\" class=\"data row5 col2\" >48.900000</td>\n",
       "                        <td id=\"T_31635642_90b5_11ea_98c4_60f81dc8f27arow5_col3\" class=\"data row5 col3\" >17</td>\n",
       "                        <td id=\"T_31635642_90b5_11ea_98c4_60f81dc8f27arow5_col4\" class=\"data row5 col4\" >0.900000</td>\n",
       "            </tr>\n",
       "            <tr>\n",
       "                                <td id=\"T_31635642_90b5_11ea_98c4_60f81dc8f27arow6_col0\" class=\"data row6 col0\" >Metropolitana</td>\n",
       "                        <td id=\"T_31635642_90b5_11ea_98c4_60f81dc8f27arow6_col1\" class=\"data row6 col1\" >16828</td>\n",
       "                        <td id=\"T_31635642_90b5_11ea_98c4_60f81dc8f27arow6_col2\" class=\"data row6 col2\" >12.000000</td>\n",
       "                        <td id=\"T_31635642_90b5_11ea_98c4_60f81dc8f27arow6_col3\" class=\"data row6 col3\" >152</td>\n",
       "                        <td id=\"T_31635642_90b5_11ea_98c4_60f81dc8f27arow6_col4\" class=\"data row6 col4\" >1.900000</td>\n",
       "            </tr>\n",
       "            <tr>\n",
       "                                <td id=\"T_31635642_90b5_11ea_98c4_60f81dc8f27arow7_col0\" class=\"data row7 col0\" >O’Higgins</td>\n",
       "                        <td id=\"T_31635642_90b5_11ea_98c4_60f81dc8f27arow7_col1\" class=\"data row7 col1\" >151</td>\n",
       "                        <td id=\"T_31635642_90b5_11ea_98c4_60f81dc8f27arow7_col2\" class=\"data row7 col2\" >61.100000</td>\n",
       "                        <td id=\"T_31635642_90b5_11ea_98c4_60f81dc8f27arow7_col3\" class=\"data row7 col3\" >3</td>\n",
       "                        <td id=\"T_31635642_90b5_11ea_98c4_60f81dc8f27arow7_col4\" class=\"data row7 col4\" >0.300000</td>\n",
       "            </tr>\n",
       "            <tr>\n",
       "                                <td id=\"T_31635642_90b5_11ea_98c4_60f81dc8f27arow8_col0\" class=\"data row8 col0\" >Maule</td>\n",
       "                        <td id=\"T_31635642_90b5_11ea_98c4_60f81dc8f27arow8_col1\" class=\"data row8 col1\" >414</td>\n",
       "                        <td id=\"T_31635642_90b5_11ea_98c4_60f81dc8f27arow8_col2\" class=\"data row8 col2\" >49.800000</td>\n",
       "                        <td id=\"T_31635642_90b5_11ea_98c4_60f81dc8f27arow8_col3\" class=\"data row8 col3\" >13</td>\n",
       "                        <td id=\"T_31635642_90b5_11ea_98c4_60f81dc8f27arow8_col4\" class=\"data row8 col4\" >1.100000</td>\n",
       "            </tr>\n",
       "            <tr>\n",
       "                                <td id=\"T_31635642_90b5_11ea_98c4_60f81dc8f27arow9_col0\" class=\"data row9 col0\" >Ñuble</td>\n",
       "                        <td id=\"T_31635642_90b5_11ea_98c4_60f81dc8f27arow9_col1\" class=\"data row9 col1\" >793</td>\n",
       "                        <td id=\"T_31635642_90b5_11ea_98c4_60f81dc8f27arow9_col2\" class=\"data row9 col2\" >468.700000</td>\n",
       "                        <td id=\"T_31635642_90b5_11ea_98c4_60f81dc8f27arow9_col3\" class=\"data row9 col3\" >17</td>\n",
       "                        <td id=\"T_31635642_90b5_11ea_98c4_60f81dc8f27arow9_col4\" class=\"data row9 col4\" >3.300000</td>\n",
       "            </tr>\n",
       "            <tr>\n",
       "                                <td id=\"T_31635642_90b5_11ea_98c4_60f81dc8f27arow10_col0\" class=\"data row10 col0\" >Biobío</td>\n",
       "                        <td id=\"T_31635642_90b5_11ea_98c4_60f81dc8f27arow10_col1\" class=\"data row10 col1\" >814</td>\n",
       "                        <td id=\"T_31635642_90b5_11ea_98c4_60f81dc8f27arow10_col2\" class=\"data row10 col2\" >36.600000</td>\n",
       "                        <td id=\"T_31635642_90b5_11ea_98c4_60f81dc8f27arow10_col3\" class=\"data row10 col3\" >8</td>\n",
       "                        <td id=\"T_31635642_90b5_11ea_98c4_60f81dc8f27arow10_col4\" class=\"data row10 col4\" >0.500000</td>\n",
       "            </tr>\n",
       "            <tr>\n",
       "                                <td id=\"T_31635642_90b5_11ea_98c4_60f81dc8f27arow11_col0\" class=\"data row11 col0\" >Araucanía</td>\n",
       "                        <td id=\"T_31635642_90b5_11ea_98c4_60f81dc8f27arow11_col1\" class=\"data row11 col1\" >1385</td>\n",
       "                        <td id=\"T_31635642_90b5_11ea_98c4_60f81dc8f27arow11_col2\" class=\"data row11 col2\" >207.100000</td>\n",
       "                        <td id=\"T_31635642_90b5_11ea_98c4_60f81dc8f27arow11_col3\" class=\"data row11 col3\" >36</td>\n",
       "                        <td id=\"T_31635642_90b5_11ea_98c4_60f81dc8f27arow11_col4\" class=\"data row11 col4\" >3.500000</td>\n",
       "            </tr>\n",
       "            <tr>\n",
       "                                <td id=\"T_31635642_90b5_11ea_98c4_60f81dc8f27arow12_col0\" class=\"data row12 col0\" >Los Ríos</td>\n",
       "                        <td id=\"T_31635642_90b5_11ea_98c4_60f81dc8f27arow12_col1\" class=\"data row12 col1\" >202</td>\n",
       "                        <td id=\"T_31635642_90b5_11ea_98c4_60f81dc8f27arow12_col2\" class=\"data row12 col2\" >15.200000</td>\n",
       "                        <td id=\"T_31635642_90b5_11ea_98c4_60f81dc8f27arow12_col3\" class=\"data row12 col3\" >4</td>\n",
       "                        <td id=\"T_31635642_90b5_11ea_98c4_60f81dc8f27arow12_col4\" class=\"data row12 col4\" >1.000000</td>\n",
       "            </tr>\n",
       "            <tr>\n",
       "                                <td id=\"T_31635642_90b5_11ea_98c4_60f81dc8f27arow13_col0\" class=\"data row13 col0\" >Los Lagos</td>\n",
       "                        <td id=\"T_31635642_90b5_11ea_98c4_60f81dc8f27arow13_col1\" class=\"data row13 col1\" >545</td>\n",
       "                        <td id=\"T_31635642_90b5_11ea_98c4_60f81dc8f27arow13_col2\" class=\"data row13 col2\" >108.900000</td>\n",
       "                        <td id=\"T_31635642_90b5_11ea_98c4_60f81dc8f27arow13_col3\" class=\"data row13 col3\" >10</td>\n",
       "                        <td id=\"T_31635642_90b5_11ea_98c4_60f81dc8f27arow13_col4\" class=\"data row13 col4\" >1.100000</td>\n",
       "            </tr>\n",
       "            <tr>\n",
       "                                <td id=\"T_31635642_90b5_11ea_98c4_60f81dc8f27arow14_col0\" class=\"data row14 col0\" >Aysén</td>\n",
       "                        <td id=\"T_31635642_90b5_11ea_98c4_60f81dc8f27arow14_col1\" class=\"data row14 col1\" >8</td>\n",
       "                        <td id=\"T_31635642_90b5_11ea_98c4_60f81dc8f27arow14_col2\" class=\"data row14 col2\" >39.800000</td>\n",
       "                        <td id=\"T_31635642_90b5_11ea_98c4_60f81dc8f27arow14_col3\" class=\"data row14 col3\" >0</td>\n",
       "                        <td id=\"T_31635642_90b5_11ea_98c4_60f81dc8f27arow14_col4\" class=\"data row14 col4\" >0.000000</td>\n",
       "            </tr>\n",
       "            <tr>\n",
       "                                <td id=\"T_31635642_90b5_11ea_98c4_60f81dc8f27arow15_col0\" class=\"data row15 col0\" >Magallanes</td>\n",
       "                        <td id=\"T_31635642_90b5_11ea_98c4_60f81dc8f27arow15_col1\" class=\"data row15 col1\" >836</td>\n",
       "                        <td id=\"T_31635642_90b5_11ea_98c4_60f81dc8f27arow15_col2\" class=\"data row15 col2\" >155.000000</td>\n",
       "                        <td id=\"T_31635642_90b5_11ea_98c4_60f81dc8f27arow15_col3\" class=\"data row15 col3\" >11</td>\n",
       "                        <td id=\"T_31635642_90b5_11ea_98c4_60f81dc8f27arow15_col4\" class=\"data row15 col4\" >6.200000</td>\n",
       "            </tr>\n",
       "    </tbody></table>"
      ],
      "text/plain": [
       "<pandas.io.formats.style.Styler at 0x11dc60d50>"
      ]
     },
     "execution_count": 21,
     "metadata": {},
     "output_type": "execute_result"
    }
   ],
   "source": [
    "#hide_input\n",
    "(data_table.style.set_properties(**{'text-align': 'right'}).background_gradient(cmap='Reds').hide_index()).set_caption('Estadísticas por región: Casos confirmados (CC) y fallecidos confirmados (FC)')"
   ]
  },
  {
   "cell_type": "code",
   "execution_count": 22,
   "metadata": {},
   "outputs": [
    {
     "data": {
      "text/html": [
       "<style  type=\"text/css\" >\n",
       "    #T_316b956e_90b5_11ea_98c4_60f81dc8f27arow0_col0 {\n",
       "            text-align:  right;\n",
       "        }    #T_316b956e_90b5_11ea_98c4_60f81dc8f27arow0_col1 {\n",
       "            text-align:  right;\n",
       "            background-color:  #f4f9fe;\n",
       "            color:  #000000;\n",
       "        }    #T_316b956e_90b5_11ea_98c4_60f81dc8f27arow0_col2 {\n",
       "            text-align:  right;\n",
       "            background-color:  #4a98c9;\n",
       "            color:  #000000;\n",
       "        }    #T_316b956e_90b5_11ea_98c4_60f81dc8f27arow1_col0 {\n",
       "            text-align:  right;\n",
       "        }    #T_316b956e_90b5_11ea_98c4_60f81dc8f27arow1_col1 {\n",
       "            text-align:  right;\n",
       "            background-color:  #f5fafe;\n",
       "            color:  #000000;\n",
       "        }    #T_316b956e_90b5_11ea_98c4_60f81dc8f27arow1_col2 {\n",
       "            text-align:  right;\n",
       "            background-color:  #cee0f2;\n",
       "            color:  #000000;\n",
       "        }    #T_316b956e_90b5_11ea_98c4_60f81dc8f27arow2_col0 {\n",
       "            text-align:  right;\n",
       "        }    #T_316b956e_90b5_11ea_98c4_60f81dc8f27arow2_col1 {\n",
       "            text-align:  right;\n",
       "            background-color:  #eff6fc;\n",
       "            color:  #000000;\n",
       "        }    #T_316b956e_90b5_11ea_98c4_60f81dc8f27arow2_col2 {\n",
       "            text-align:  right;\n",
       "            background-color:  #7fb9da;\n",
       "            color:  #000000;\n",
       "        }    #T_316b956e_90b5_11ea_98c4_60f81dc8f27arow3_col0 {\n",
       "            text-align:  right;\n",
       "        }    #T_316b956e_90b5_11ea_98c4_60f81dc8f27arow3_col1 {\n",
       "            text-align:  right;\n",
       "            background-color:  #f5fafe;\n",
       "            color:  #000000;\n",
       "        }    #T_316b956e_90b5_11ea_98c4_60f81dc8f27arow3_col2 {\n",
       "            text-align:  right;\n",
       "            background-color:  #add0e6;\n",
       "            color:  #000000;\n",
       "        }    #T_316b956e_90b5_11ea_98c4_60f81dc8f27arow4_col0 {\n",
       "            text-align:  right;\n",
       "        }    #T_316b956e_90b5_11ea_98c4_60f81dc8f27arow4_col1 {\n",
       "            text-align:  right;\n",
       "            background-color:  #f6faff;\n",
       "            color:  #000000;\n",
       "        }    #T_316b956e_90b5_11ea_98c4_60f81dc8f27arow4_col2 {\n",
       "            text-align:  right;\n",
       "            background-color:  #f7fbff;\n",
       "            color:  #000000;\n",
       "        }    #T_316b956e_90b5_11ea_98c4_60f81dc8f27arow5_col0 {\n",
       "            text-align:  right;\n",
       "        }    #T_316b956e_90b5_11ea_98c4_60f81dc8f27arow5_col1 {\n",
       "            text-align:  right;\n",
       "            background-color:  #ecf4fb;\n",
       "            color:  #000000;\n",
       "        }    #T_316b956e_90b5_11ea_98c4_60f81dc8f27arow5_col2 {\n",
       "            text-align:  right;\n",
       "            background-color:  #d4e4f4;\n",
       "            color:  #000000;\n",
       "        }    #T_316b956e_90b5_11ea_98c4_60f81dc8f27arow6_col0 {\n",
       "            text-align:  right;\n",
       "        }    #T_316b956e_90b5_11ea_98c4_60f81dc8f27arow6_col1 {\n",
       "            text-align:  right;\n",
       "            background-color:  #08306b;\n",
       "            color:  #f1f1f1;\n",
       "        }    #T_316b956e_90b5_11ea_98c4_60f81dc8f27arow6_col2 {\n",
       "            text-align:  right;\n",
       "            background-color:  #08306b;\n",
       "            color:  #f1f1f1;\n",
       "        }    #T_316b956e_90b5_11ea_98c4_60f81dc8f27arow7_col0 {\n",
       "            text-align:  right;\n",
       "        }    #T_316b956e_90b5_11ea_98c4_60f81dc8f27arow7_col1 {\n",
       "            text-align:  right;\n",
       "            background-color:  #f5f9fe;\n",
       "            color:  #000000;\n",
       "        }    #T_316b956e_90b5_11ea_98c4_60f81dc8f27arow7_col2 {\n",
       "            text-align:  right;\n",
       "            background-color:  #eef5fc;\n",
       "            color:  #000000;\n",
       "        }    #T_316b956e_90b5_11ea_98c4_60f81dc8f27arow8_col0 {\n",
       "            text-align:  right;\n",
       "        }    #T_316b956e_90b5_11ea_98c4_60f81dc8f27arow8_col1 {\n",
       "            text-align:  right;\n",
       "            background-color:  #eaf3fb;\n",
       "            color:  #000000;\n",
       "        }    #T_316b956e_90b5_11ea_98c4_60f81dc8f27arow8_col2 {\n",
       "            text-align:  right;\n",
       "            background-color:  #8abfdd;\n",
       "            color:  #000000;\n",
       "        }    #T_316b956e_90b5_11ea_98c4_60f81dc8f27arow9_col0 {\n",
       "            text-align:  right;\n",
       "        }    #T_316b956e_90b5_11ea_98c4_60f81dc8f27arow9_col1 {\n",
       "            text-align:  right;\n",
       "            background-color:  #f2f8fd;\n",
       "            color:  #000000;\n",
       "        }    #T_316b956e_90b5_11ea_98c4_60f81dc8f27arow9_col2 {\n",
       "            text-align:  right;\n",
       "            background-color:  #8dc1dd;\n",
       "            color:  #000000;\n",
       "        }    #T_316b956e_90b5_11ea_98c4_60f81dc8f27arow10_col0 {\n",
       "            text-align:  right;\n",
       "        }    #T_316b956e_90b5_11ea_98c4_60f81dc8f27arow10_col1 {\n",
       "            text-align:  right;\n",
       "            background-color:  #e7f1fa;\n",
       "            color:  #000000;\n",
       "        }    #T_316b956e_90b5_11ea_98c4_60f81dc8f27arow10_col2 {\n",
       "            text-align:  right;\n",
       "            background-color:  #a8cee4;\n",
       "            color:  #000000;\n",
       "        }    #T_316b956e_90b5_11ea_98c4_60f81dc8f27arow11_col0 {\n",
       "            text-align:  right;\n",
       "        }    #T_316b956e_90b5_11ea_98c4_60f81dc8f27arow11_col1 {\n",
       "            text-align:  right;\n",
       "            background-color:  #ecf4fb;\n",
       "            color:  #000000;\n",
       "        }    #T_316b956e_90b5_11ea_98c4_60f81dc8f27arow11_col2 {\n",
       "            text-align:  right;\n",
       "            background-color:  #87bddc;\n",
       "            color:  #000000;\n",
       "        }    #T_316b956e_90b5_11ea_98c4_60f81dc8f27arow12_col0 {\n",
       "            text-align:  right;\n",
       "        }    #T_316b956e_90b5_11ea_98c4_60f81dc8f27arow12_col1 {\n",
       "            text-align:  right;\n",
       "            background-color:  #f5f9fe;\n",
       "            color:  #000000;\n",
       "        }    #T_316b956e_90b5_11ea_98c4_60f81dc8f27arow12_col2 {\n",
       "            text-align:  right;\n",
       "            background-color:  #c1d9ed;\n",
       "            color:  #000000;\n",
       "        }    #T_316b956e_90b5_11ea_98c4_60f81dc8f27arow13_col0 {\n",
       "            text-align:  right;\n",
       "        }    #T_316b956e_90b5_11ea_98c4_60f81dc8f27arow13_col1 {\n",
       "            text-align:  right;\n",
       "            background-color:  #ebf3fb;\n",
       "            color:  #000000;\n",
       "        }    #T_316b956e_90b5_11ea_98c4_60f81dc8f27arow13_col2 {\n",
       "            text-align:  right;\n",
       "            background-color:  #61a7d2;\n",
       "            color:  #000000;\n",
       "        }    #T_316b956e_90b5_11ea_98c4_60f81dc8f27arow14_col0 {\n",
       "            text-align:  right;\n",
       "        }    #T_316b956e_90b5_11ea_98c4_60f81dc8f27arow14_col1 {\n",
       "            text-align:  right;\n",
       "            background-color:  #f7fbff;\n",
       "            color:  #000000;\n",
       "        }    #T_316b956e_90b5_11ea_98c4_60f81dc8f27arow14_col2 {\n",
       "            text-align:  right;\n",
       "            background-color:  #cddff1;\n",
       "            color:  #000000;\n",
       "        }    #T_316b956e_90b5_11ea_98c4_60f81dc8f27arow15_col0 {\n",
       "            text-align:  right;\n",
       "        }    #T_316b956e_90b5_11ea_98c4_60f81dc8f27arow15_col1 {\n",
       "            text-align:  right;\n",
       "            background-color:  #f5fafe;\n",
       "            color:  #000000;\n",
       "        }    #T_316b956e_90b5_11ea_98c4_60f81dc8f27arow15_col2 {\n",
       "            text-align:  right;\n",
       "            background-color:  #3585bf;\n",
       "            color:  #000000;\n",
       "        }</style><table id=\"T_316b956e_90b5_11ea_98c4_60f81dc8f27a\" ><caption>Estadísticas por región: Exámenes informados desde el 9 de abril</caption><thead>    <tr>        <th class=\"col_heading level0 col0\" >Región</th>        <th class=\"col_heading level0 col1\" >Exámenes informados</th>        <th class=\"col_heading level0 col2\" >Exámenes informados por 100.000 habs.</th>    </tr></thead><tbody>\n",
       "                <tr>\n",
       "                                <td id=\"T_316b956e_90b5_11ea_98c4_60f81dc8f27arow0_col0\" class=\"data row0 col0\" >Arica y Parinacota</td>\n",
       "                        <td id=\"T_316b956e_90b5_11ea_98c4_60f81dc8f27arow0_col1\" class=\"data row0 col1\" >2397</td>\n",
       "                        <td id=\"T_316b956e_90b5_11ea_98c4_60f81dc8f27arow0_col2\" class=\"data row0 col2\" >950.800000</td>\n",
       "            </tr>\n",
       "            <tr>\n",
       "                                <td id=\"T_316b956e_90b5_11ea_98c4_60f81dc8f27arow1_col0\" class=\"data row1 col0\" >Tarapacá</td>\n",
       "                        <td id=\"T_316b956e_90b5_11ea_98c4_60f81dc8f27arow1_col1\" class=\"data row1 col1\" >1626</td>\n",
       "                        <td id=\"T_316b956e_90b5_11ea_98c4_60f81dc8f27arow1_col2\" class=\"data row1 col2\" >424.800000</td>\n",
       "            </tr>\n",
       "            <tr>\n",
       "                                <td id=\"T_316b956e_90b5_11ea_98c4_60f81dc8f27arow2_col0\" class=\"data row2 col0\" >Antofagasta</td>\n",
       "                        <td id=\"T_316b956e_90b5_11ea_98c4_60f81dc8f27arow2_col1\" class=\"data row2 col1\" >5198</td>\n",
       "                        <td id=\"T_316b956e_90b5_11ea_98c4_60f81dc8f27arow2_col2\" class=\"data row2 col2\" >751.300000</td>\n",
       "            </tr>\n",
       "            <tr>\n",
       "                                <td id=\"T_316b956e_90b5_11ea_98c4_60f81dc8f27arow3_col0\" class=\"data row3 col0\" >Atacama</td>\n",
       "                        <td id=\"T_316b956e_90b5_11ea_98c4_60f81dc8f27arow3_col1\" class=\"data row3 col1\" >1852</td>\n",
       "                        <td id=\"T_316b956e_90b5_11ea_98c4_60f81dc8f27arow3_col2\" class=\"data row3 col2\" >588.500000</td>\n",
       "            </tr>\n",
       "            <tr>\n",
       "                                <td id=\"T_316b956e_90b5_11ea_98c4_60f81dc8f27arow4_col0\" class=\"data row4 col0\" >Coquimbo</td>\n",
       "                        <td id=\"T_316b956e_90b5_11ea_98c4_60f81dc8f27arow4_col1\" class=\"data row4 col1\" >1211</td>\n",
       "                        <td id=\"T_316b956e_90b5_11ea_98c4_60f81dc8f27arow4_col2\" class=\"data row4 col2\" >144.800000</td>\n",
       "            </tr>\n",
       "            <tr>\n",
       "                                <td id=\"T_316b956e_90b5_11ea_98c4_60f81dc8f27arow5_col0\" class=\"data row5 col0\" >Valparaíso</td>\n",
       "                        <td id=\"T_316b956e_90b5_11ea_98c4_60f81dc8f27arow5_col1\" class=\"data row5 col1\" >7520</td>\n",
       "                        <td id=\"T_316b956e_90b5_11ea_98c4_60f81dc8f27arow5_col2\" class=\"data row5 col2\" >383.600000</td>\n",
       "            </tr>\n",
       "            <tr>\n",
       "                                <td id=\"T_316b956e_90b5_11ea_98c4_60f81dc8f27arow6_col0\" class=\"data row6 col0\" >Metropolitana</td>\n",
       "                        <td id=\"T_316b956e_90b5_11ea_98c4_60f81dc8f27arow6_col1\" class=\"data row6 col1\" >120903</td>\n",
       "                        <td id=\"T_316b956e_90b5_11ea_98c4_60f81dc8f27arow6_col2\" class=\"data row6 col2\" >1488.000000</td>\n",
       "            </tr>\n",
       "            <tr>\n",
       "                                <td id=\"T_316b956e_90b5_11ea_98c4_60f81dc8f27arow7_col0\" class=\"data row7 col0\" >O’Higgins</td>\n",
       "                        <td id=\"T_316b956e_90b5_11ea_98c4_60f81dc8f27arow7_col1\" class=\"data row7 col1\" >2087</td>\n",
       "                        <td id=\"T_316b956e_90b5_11ea_98c4_60f81dc8f27arow7_col2\" class=\"data row7 col2\" >210.600000</td>\n",
       "            </tr>\n",
       "            <tr>\n",
       "                                <td id=\"T_316b956e_90b5_11ea_98c4_60f81dc8f27arow8_col0\" class=\"data row8 col0\" >Maule</td>\n",
       "                        <td id=\"T_316b956e_90b5_11ea_98c4_60f81dc8f27arow8_col1\" class=\"data row8 col1\" >8103</td>\n",
       "                        <td id=\"T_316b956e_90b5_11ea_98c4_60f81dc8f27arow8_col2\" class=\"data row8 col2\" >715.900000</td>\n",
       "            </tr>\n",
       "            <tr>\n",
       "                                <td id=\"T_316b956e_90b5_11ea_98c4_60f81dc8f27arow9_col0\" class=\"data row9 col0\" >Ñuble</td>\n",
       "                        <td id=\"T_316b956e_90b5_11ea_98c4_60f81dc8f27arow9_col1\" class=\"data row9 col1\" >3612</td>\n",
       "                        <td id=\"T_316b956e_90b5_11ea_98c4_60f81dc8f27arow9_col2\" class=\"data row9 col2\" >706.100000</td>\n",
       "            </tr>\n",
       "            <tr>\n",
       "                                <td id=\"T_316b956e_90b5_11ea_98c4_60f81dc8f27arow10_col0\" class=\"data row10 col0\" >Biobío</td>\n",
       "                        <td id=\"T_316b956e_90b5_11ea_98c4_60f81dc8f27arow10_col1\" class=\"data row10 col1\" >10143</td>\n",
       "                        <td id=\"T_316b956e_90b5_11ea_98c4_60f81dc8f27arow10_col2\" class=\"data row10 col2\" >609.700000</td>\n",
       "            </tr>\n",
       "            <tr>\n",
       "                                <td id=\"T_316b956e_90b5_11ea_98c4_60f81dc8f27arow11_col0\" class=\"data row11 col0\" >Araucanía</td>\n",
       "                        <td id=\"T_316b956e_90b5_11ea_98c4_60f81dc8f27arow11_col1\" class=\"data row11 col1\" >7326</td>\n",
       "                        <td id=\"T_316b956e_90b5_11ea_98c4_60f81dc8f27arow11_col2\" class=\"data row11 col2\" >722.200000</td>\n",
       "            </tr>\n",
       "            <tr>\n",
       "                                <td id=\"T_316b956e_90b5_11ea_98c4_60f81dc8f27arow12_col0\" class=\"data row12 col0\" >Los Ríos</td>\n",
       "                        <td id=\"T_316b956e_90b5_11ea_98c4_60f81dc8f27arow12_col1\" class=\"data row12 col1\" >2036</td>\n",
       "                        <td id=\"T_316b956e_90b5_11ea_98c4_60f81dc8f27arow12_col2\" class=\"data row12 col2\" >501.700000</td>\n",
       "            </tr>\n",
       "            <tr>\n",
       "                                <td id=\"T_316b956e_90b5_11ea_98c4_60f81dc8f27arow13_col0\" class=\"data row13 col0\" >Los Lagos</td>\n",
       "                        <td id=\"T_316b956e_90b5_11ea_98c4_60f81dc8f27arow13_col1\" class=\"data row13 col1\" >7613</td>\n",
       "                        <td id=\"T_316b956e_90b5_11ea_98c4_60f81dc8f27arow13_col2\" class=\"data row13 col2\" >854.000000</td>\n",
       "            </tr>\n",
       "            <tr>\n",
       "                                <td id=\"T_316b956e_90b5_11ea_98c4_60f81dc8f27arow14_col0\" class=\"data row14 col0\" >Aysén</td>\n",
       "                        <td id=\"T_316b956e_90b5_11ea_98c4_60f81dc8f27arow14_col1\" class=\"data row14 col1\" >470</td>\n",
       "                        <td id=\"T_316b956e_90b5_11ea_98c4_60f81dc8f27arow14_col2\" class=\"data row14 col2\" >438.000000</td>\n",
       "            </tr>\n",
       "            <tr>\n",
       "                                <td id=\"T_316b956e_90b5_11ea_98c4_60f81dc8f27arow15_col0\" class=\"data row15 col0\" >Magallanes</td>\n",
       "                        <td id=\"T_316b956e_90b5_11ea_98c4_60f81dc8f27arow15_col1\" class=\"data row15 col1\" >1874</td>\n",
       "                        <td id=\"T_316b956e_90b5_11ea_98c4_60f81dc8f27arow15_col2\" class=\"data row15 col2\" >1050.700000</td>\n",
       "            </tr>\n",
       "    </tbody></table>"
      ],
      "text/plain": [
       "<pandas.io.formats.style.Styler at 0x11de7a950>"
      ]
     },
     "execution_count": 22,
     "metadata": {},
     "output_type": "execute_result"
    }
   ],
   "source": [
    "#hide_input\n",
    "(tests_table[:-1].style.set_properties(**{'text-align': 'right'}).background_gradient(cmap='Blues').hide_index()).set_caption('Estadísticas por región: Exámenes informados desde el 9 de abril')"
   ]
  },
  {
   "cell_type": "markdown",
   "metadata": {},
   "source": [
    "Nota: Los exámenes informados por región empezaron a informarse sólo desde el 9 de abril."
   ]
  },
  {
   "cell_type": "markdown",
   "metadata": {},
   "source": [
    "# Evolución de casos confirmados diarios"
   ]
  },
  {
   "cell_type": "code",
   "execution_count": 23,
   "metadata": {},
   "outputs": [],
   "source": [
    "#hide\n",
    "# Window size cases\n",
    "WS_cases = 7"
   ]
  },
  {
   "cell_type": "code",
   "execution_count": 24,
   "metadata": {},
   "outputs": [],
   "source": [
    "#hide\n",
    "casos_raw = pd.read_csv(\n",
    "    \"https://raw.githubusercontent.com/MinCiencia/Datos-COVID19/master/output/producto3/CasosTotalesCumulativo.csv\",\n",
    "    index_col='Region')"
   ]
  },
  {
   "cell_type": "code",
   "execution_count": 25,
   "metadata": {},
   "outputs": [],
   "source": [
    "#hide\n",
    "aux1 = casos_raw.loc[\"Total\"]\n",
    "aux2 = [t - s for s, t in zip(aux1, aux1.loc['2020-03-04':])]"
   ]
  },
  {
   "cell_type": "code",
   "execution_count": 26,
   "metadata": {},
   "outputs": [],
   "source": [
    "#hide\n",
    "new_cases = pd.DataFrame()\n",
    "new_cases[\"Dates\"] = casos_raw.loc[\"Total\"].reset_index()[\"index\"].iloc[1:].values\n",
    "new_cases[\"New_cases\"] = aux2\n",
    "new_cases[\"Rolling\"] = new_cases[\"New_cases\"].rolling(window=WS_cases).mean()\n",
    "new_cases[\"Casos confirmados diarios\"] = len(new_cases) * [\"Casos confirmados diarios\"]\n",
    "new_cases[\"Promedio móvil últimos 7 días\"] = len(new_cases) * [\"Promedio móvil últimos 7 días\"]"
   ]
  },
  {
   "cell_type": "code",
   "execution_count": 27,
   "metadata": {},
   "outputs": [
    {
     "data": {
      "text/html": [
       "\n",
       "<div id=\"altair-viz-53199b990ceb48388d7ff239666a977c\"></div>\n",
       "<script type=\"text/javascript\">\n",
       "  (function(spec, embedOpt){\n",
       "    let outputDiv = document.currentScript.previousElementSibling;\n",
       "    if (outputDiv.id !== \"altair-viz-53199b990ceb48388d7ff239666a977c\") {\n",
       "      outputDiv = document.getElementById(\"altair-viz-53199b990ceb48388d7ff239666a977c\");\n",
       "    }\n",
       "    const paths = {\n",
       "      \"vega\": \"https://cdn.jsdelivr.net/npm//vega@5?noext\",\n",
       "      \"vega-lib\": \"https://cdn.jsdelivr.net/npm//vega-lib?noext\",\n",
       "      \"vega-lite\": \"https://cdn.jsdelivr.net/npm//vega-lite@4.8.1?noext\",\n",
       "      \"vega-embed\": \"https://cdn.jsdelivr.net/npm//vega-embed@6?noext\",\n",
       "    };\n",
       "\n",
       "    function loadScript(lib) {\n",
       "      return new Promise(function(resolve, reject) {\n",
       "        var s = document.createElement('script');\n",
       "        s.src = paths[lib];\n",
       "        s.async = true;\n",
       "        s.onload = () => resolve(paths[lib]);\n",
       "        s.onerror = () => reject(`Error loading script: ${paths[lib]}`);\n",
       "        document.getElementsByTagName(\"head\")[0].appendChild(s);\n",
       "      });\n",
       "    }\n",
       "\n",
       "    function showError(err) {\n",
       "      outputDiv.innerHTML = `<div class=\"error\" style=\"color:red;\">${err}</div>`;\n",
       "      throw err;\n",
       "    }\n",
       "\n",
       "    function displayChart(vegaEmbed) {\n",
       "      vegaEmbed(outputDiv, spec, embedOpt)\n",
       "        .catch(err => showError(`Javascript Error: ${err.message}<br>This usually means there's a typo in your chart specification. See the javascript console for the full traceback.`));\n",
       "    }\n",
       "\n",
       "    if(typeof define === \"function\" && define.amd) {\n",
       "      requirejs.config({paths});\n",
       "      require([\"vega-embed\"], displayChart, err => showError(`Error loading script: ${err.message}`));\n",
       "    } else if (typeof vegaEmbed === \"function\") {\n",
       "      displayChart(vegaEmbed);\n",
       "    } else {\n",
       "      loadScript(\"vega\")\n",
       "        .then(() => loadScript(\"vega-lite\"))\n",
       "        .then(() => loadScript(\"vega-embed\"))\n",
       "        .catch(showError)\n",
       "        .then(() => displayChart(vegaEmbed));\n",
       "    }\n",
       "  })({\"config\": {\"view\": {\"continuousWidth\": 400, \"continuousHeight\": 300}}, \"layer\": [{\"mark\": {\"type\": \"bar\", \"opacity\": 0.7}, \"encoding\": {\"opacity\": {\"type\": \"nominal\", \"field\": \"Casos confirmados diarios\", \"legend\": {\"title\": \"\"}}, \"tooltip\": [{\"type\": \"nominal\", \"field\": \"Dates\"}, {\"type\": \"quantitative\", \"field\": \"New_cases\"}], \"x\": {\"type\": \"nominal\", \"axis\": {\"title\": \"Fecha (a\\u00f1o-mes-d\\u00eda)\"}, \"field\": \"Dates\"}, \"y\": {\"type\": \"quantitative\", \"axis\": {\"title\": \"Casos confirmados diarios\"}, \"field\": \"New_cases\"}}}, {\"mark\": {\"type\": \"line\", \"color\": \"firebrick\", \"point\": {\"filled\": true, \"fill\": \"firebrick\"}}, \"encoding\": {\"shape\": {\"type\": \"nominal\", \"field\": \"Promedio m\\u00f3vil \\u00faltimos 7 d\\u00edas\", \"legend\": {\"title\": \"\"}}, \"x\": {\"type\": \"nominal\", \"axis\": {\"title\": \"Fecha (a\\u00f1o-mes-d\\u00eda)\"}, \"field\": \"Dates\"}, \"y\": {\"type\": \"quantitative\", \"field\": \"Rolling\"}}}], \"data\": {\"name\": \"data-e24473aa21c2ea6095c64318aef486c5\"}, \"title\": \"Covid-19 en Chile: Casos confirmados diarios\", \"width\": 600, \"$schema\": \"https://vega.github.io/schema/vega-lite/v4.8.1.json\", \"datasets\": {\"data-e24473aa21c2ea6095c64318aef486c5\": [{\"Dates\": \"2020-03-04\", \"New_cases\": 2, \"Rolling\": null, \"Casos confirmados diarios\": \"Casos confirmados diarios\", \"Promedio m\\u00f3vil \\u00faltimos 7 d\\u00edas\": \"Promedio m\\u00f3vil \\u00faltimos 7 d\\u00edas\"}, {\"Dates\": \"2020-03-05\", \"New_cases\": 1, \"Rolling\": null, \"Casos confirmados diarios\": \"Casos confirmados diarios\", \"Promedio m\\u00f3vil \\u00faltimos 7 d\\u00edas\": \"Promedio m\\u00f3vil \\u00faltimos 7 d\\u00edas\"}, {\"Dates\": \"2020-03-06\", \"New_cases\": 1, \"Rolling\": null, \"Casos confirmados diarios\": \"Casos confirmados diarios\", \"Promedio m\\u00f3vil \\u00faltimos 7 d\\u00edas\": \"Promedio m\\u00f3vil \\u00faltimos 7 d\\u00edas\"}, {\"Dates\": \"2020-03-07\", \"New_cases\": 2, \"Rolling\": null, \"Casos confirmados diarios\": \"Casos confirmados diarios\", \"Promedio m\\u00f3vil \\u00faltimos 7 d\\u00edas\": \"Promedio m\\u00f3vil \\u00faltimos 7 d\\u00edas\"}, {\"Dates\": \"2020-03-08\", \"New_cases\": 3, \"Rolling\": null, \"Casos confirmados diarios\": \"Casos confirmados diarios\", \"Promedio m\\u00f3vil \\u00faltimos 7 d\\u00edas\": \"Promedio m\\u00f3vil \\u00faltimos 7 d\\u00edas\"}, {\"Dates\": \"2020-03-09\", \"New_cases\": 5, \"Rolling\": null, \"Casos confirmados diarios\": \"Casos confirmados diarios\", \"Promedio m\\u00f3vil \\u00faltimos 7 d\\u00edas\": \"Promedio m\\u00f3vil \\u00faltimos 7 d\\u00edas\"}, {\"Dates\": \"2020-03-10\", \"New_cases\": 2, \"Rolling\": 2.2857142857142856, \"Casos confirmados diarios\": \"Casos confirmados diarios\", \"Promedio m\\u00f3vil \\u00faltimos 7 d\\u00edas\": \"Promedio m\\u00f3vil \\u00faltimos 7 d\\u00edas\"}, {\"Dates\": \"2020-03-11\", \"New_cases\": 6, \"Rolling\": 2.857142857142857, \"Casos confirmados diarios\": \"Casos confirmados diarios\", \"Promedio m\\u00f3vil \\u00faltimos 7 d\\u00edas\": \"Promedio m\\u00f3vil \\u00faltimos 7 d\\u00edas\"}, {\"Dates\": \"2020-03-12\", \"New_cases\": 10, \"Rolling\": 4.142857142857143, \"Casos confirmados diarios\": \"Casos confirmados diarios\", \"Promedio m\\u00f3vil \\u00faltimos 7 d\\u00edas\": \"Promedio m\\u00f3vil \\u00faltimos 7 d\\u00edas\"}, {\"Dates\": \"2020-03-13\", \"New_cases\": 10, \"Rolling\": 5.428571428571429, \"Casos confirmados diarios\": \"Casos confirmados diarios\", \"Promedio m\\u00f3vil \\u00faltimos 7 d\\u00edas\": \"Promedio m\\u00f3vil \\u00faltimos 7 d\\u00edas\"}, {\"Dates\": \"2020-03-14\", \"New_cases\": 18, \"Rolling\": 7.714285714285714, \"Casos confirmados diarios\": \"Casos confirmados diarios\", \"Promedio m\\u00f3vil \\u00faltimos 7 d\\u00edas\": \"Promedio m\\u00f3vil \\u00faltimos 7 d\\u00edas\"}, {\"Dates\": \"2020-03-15\", \"New_cases\": 14, \"Rolling\": 9.285714285714286, \"Casos confirmados diarios\": \"Casos confirmados diarios\", \"Promedio m\\u00f3vil \\u00faltimos 7 d\\u00edas\": \"Promedio m\\u00f3vil \\u00faltimos 7 d\\u00edas\"}, {\"Dates\": \"2020-03-16\", \"New_cases\": 81, \"Rolling\": 20.142857142857142, \"Casos confirmados diarios\": \"Casos confirmados diarios\", \"Promedio m\\u00f3vil \\u00faltimos 7 d\\u00edas\": \"Promedio m\\u00f3vil \\u00faltimos 7 d\\u00edas\"}, {\"Dates\": \"2020-03-17\", \"New_cases\": 45, \"Rolling\": 26.285714285714285, \"Casos confirmados diarios\": \"Casos confirmados diarios\", \"Promedio m\\u00f3vil \\u00faltimos 7 d\\u00edas\": \"Promedio m\\u00f3vil \\u00faltimos 7 d\\u00edas\"}, {\"Dates\": \"2020-03-18\", \"New_cases\": 37, \"Rolling\": 30.714285714285715, \"Casos confirmados diarios\": \"Casos confirmados diarios\", \"Promedio m\\u00f3vil \\u00faltimos 7 d\\u00edas\": \"Promedio m\\u00f3vil \\u00faltimos 7 d\\u00edas\"}, {\"Dates\": \"2020-03-19\", \"New_cases\": 104, \"Rolling\": 44.142857142857146, \"Casos confirmados diarios\": \"Casos confirmados diarios\", \"Promedio m\\u00f3vil \\u00faltimos 7 d\\u00edas\": \"Promedio m\\u00f3vil \\u00faltimos 7 d\\u00edas\"}, {\"Dates\": \"2020-03-20\", \"New_cases\": 92, \"Rolling\": 55.857142857142854, \"Casos confirmados diarios\": \"Casos confirmados diarios\", \"Promedio m\\u00f3vil \\u00faltimos 7 d\\u00edas\": \"Promedio m\\u00f3vil \\u00faltimos 7 d\\u00edas\"}, {\"Dates\": \"2020-03-21\", \"New_cases\": 103, \"Rolling\": 68.0, \"Casos confirmados diarios\": \"Casos confirmados diarios\", \"Promedio m\\u00f3vil \\u00faltimos 7 d\\u00edas\": \"Promedio m\\u00f3vil \\u00faltimos 7 d\\u00edas\"}, {\"Dates\": \"2020-03-22\", \"New_cases\": 95, \"Rolling\": 79.57142857142857, \"Casos confirmados diarios\": \"Casos confirmados diarios\", \"Promedio m\\u00f3vil \\u00faltimos 7 d\\u00edas\": \"Promedio m\\u00f3vil \\u00faltimos 7 d\\u00edas\"}, {\"Dates\": \"2020-03-23\", \"New_cases\": 114, \"Rolling\": 84.28571428571429, \"Casos confirmados diarios\": \"Casos confirmados diarios\", \"Promedio m\\u00f3vil \\u00faltimos 7 d\\u00edas\": \"Promedio m\\u00f3vil \\u00faltimos 7 d\\u00edas\"}, {\"Dates\": \"2020-03-24\", \"New_cases\": 176, \"Rolling\": 103.0, \"Casos confirmados diarios\": \"Casos confirmados diarios\", \"Promedio m\\u00f3vil \\u00faltimos 7 d\\u00edas\": \"Promedio m\\u00f3vil \\u00faltimos 7 d\\u00edas\"}, {\"Dates\": \"2020-03-25\", \"New_cases\": 220, \"Rolling\": 129.14285714285714, \"Casos confirmados diarios\": \"Casos confirmados diarios\", \"Promedio m\\u00f3vil \\u00faltimos 7 d\\u00edas\": \"Promedio m\\u00f3vil \\u00faltimos 7 d\\u00edas\"}, {\"Dates\": \"2020-03-26\", \"New_cases\": 164, \"Rolling\": 137.71428571428572, \"Casos confirmados diarios\": \"Casos confirmados diarios\", \"Promedio m\\u00f3vil \\u00faltimos 7 d\\u00edas\": \"Promedio m\\u00f3vil \\u00faltimos 7 d\\u00edas\"}, {\"Dates\": \"2020-03-27\", \"New_cases\": 304, \"Rolling\": 168.0, \"Casos confirmados diarios\": \"Casos confirmados diarios\", \"Promedio m\\u00f3vil \\u00faltimos 7 d\\u00edas\": \"Promedio m\\u00f3vil \\u00faltimos 7 d\\u00edas\"}, {\"Dates\": \"2020-03-28\", \"New_cases\": 299, \"Rolling\": 196.0, \"Casos confirmados diarios\": \"Casos confirmados diarios\", \"Promedio m\\u00f3vil \\u00faltimos 7 d\\u00edas\": \"Promedio m\\u00f3vil \\u00faltimos 7 d\\u00edas\"}, {\"Dates\": \"2020-03-29\", \"New_cases\": 230, \"Rolling\": 215.28571428571428, \"Casos confirmados diarios\": \"Casos confirmados diarios\", \"Promedio m\\u00f3vil \\u00faltimos 7 d\\u00edas\": \"Promedio m\\u00f3vil \\u00faltimos 7 d\\u00edas\"}, {\"Dates\": \"2020-03-30\", \"New_cases\": 310, \"Rolling\": 243.28571428571428, \"Casos confirmados diarios\": \"Casos confirmados diarios\", \"Promedio m\\u00f3vil \\u00faltimos 7 d\\u00edas\": \"Promedio m\\u00f3vil \\u00faltimos 7 d\\u00edas\"}, {\"Dates\": \"2020-03-31\", \"New_cases\": 289, \"Rolling\": 259.42857142857144, \"Casos confirmados diarios\": \"Casos confirmados diarios\", \"Promedio m\\u00f3vil \\u00faltimos 7 d\\u00edas\": \"Promedio m\\u00f3vil \\u00faltimos 7 d\\u00edas\"}, {\"Dates\": \"2020-04-01\", \"New_cases\": 293, \"Rolling\": 269.85714285714283, \"Casos confirmados diarios\": \"Casos confirmados diarios\", \"Promedio m\\u00f3vil \\u00faltimos 7 d\\u00edas\": \"Promedio m\\u00f3vil \\u00faltimos 7 d\\u00edas\"}, {\"Dates\": \"2020-04-02\", \"New_cases\": 373, \"Rolling\": 299.7142857142857, \"Casos confirmados diarios\": \"Casos confirmados diarios\", \"Promedio m\\u00f3vil \\u00faltimos 7 d\\u00edas\": \"Promedio m\\u00f3vil \\u00faltimos 7 d\\u00edas\"}, {\"Dates\": \"2020-04-03\", \"New_cases\": 333, \"Rolling\": 303.85714285714283, \"Casos confirmados diarios\": \"Casos confirmados diarios\", \"Promedio m\\u00f3vil \\u00faltimos 7 d\\u00edas\": \"Promedio m\\u00f3vil \\u00faltimos 7 d\\u00edas\"}, {\"Dates\": \"2020-04-04\", \"New_cases\": 424, \"Rolling\": 321.7142857142857, \"Casos confirmados diarios\": \"Casos confirmados diarios\", \"Promedio m\\u00f3vil \\u00faltimos 7 d\\u00edas\": \"Promedio m\\u00f3vil \\u00faltimos 7 d\\u00edas\"}, {\"Dates\": \"2020-04-05\", \"New_cases\": 310, \"Rolling\": 333.14285714285717, \"Casos confirmados diarios\": \"Casos confirmados diarios\", \"Promedio m\\u00f3vil \\u00faltimos 7 d\\u00edas\": \"Promedio m\\u00f3vil \\u00faltimos 7 d\\u00edas\"}, {\"Dates\": \"2020-04-06\", \"New_cases\": 344, \"Rolling\": 338.0, \"Casos confirmados diarios\": \"Casos confirmados diarios\", \"Promedio m\\u00f3vil \\u00faltimos 7 d\\u00edas\": \"Promedio m\\u00f3vil \\u00faltimos 7 d\\u00edas\"}, {\"Dates\": \"2020-04-07\", \"New_cases\": 301, \"Rolling\": 339.7142857142857, \"Casos confirmados diarios\": \"Casos confirmados diarios\", \"Promedio m\\u00f3vil \\u00faltimos 7 d\\u00edas\": \"Promedio m\\u00f3vil \\u00faltimos 7 d\\u00edas\"}, {\"Dates\": \"2020-04-08\", \"New_cases\": 430, \"Rolling\": 359.2857142857143, \"Casos confirmados diarios\": \"Casos confirmados diarios\", \"Promedio m\\u00f3vil \\u00faltimos 7 d\\u00edas\": \"Promedio m\\u00f3vil \\u00faltimos 7 d\\u00edas\"}, {\"Dates\": \"2020-04-09\", \"New_cases\": 426, \"Rolling\": 366.85714285714283, \"Casos confirmados diarios\": \"Casos confirmados diarios\", \"Promedio m\\u00f3vil \\u00faltimos 7 d\\u00edas\": \"Promedio m\\u00f3vil \\u00faltimos 7 d\\u00edas\"}, {\"Dates\": \"2020-04-10\", \"New_cases\": 529, \"Rolling\": 394.85714285714283, \"Casos confirmados diarios\": \"Casos confirmados diarios\", \"Promedio m\\u00f3vil \\u00faltimos 7 d\\u00edas\": \"Promedio m\\u00f3vil \\u00faltimos 7 d\\u00edas\"}, {\"Dates\": \"2020-04-11\", \"New_cases\": 426, \"Rolling\": 395.14285714285717, \"Casos confirmados diarios\": \"Casos confirmados diarios\", \"Promedio m\\u00f3vil \\u00faltimos 7 d\\u00edas\": \"Promedio m\\u00f3vil \\u00faltimos 7 d\\u00edas\"}, {\"Dates\": \"2020-04-12\", \"New_cases\": 286, \"Rolling\": 391.7142857142857, \"Casos confirmados diarios\": \"Casos confirmados diarios\", \"Promedio m\\u00f3vil \\u00faltimos 7 d\\u00edas\": \"Promedio m\\u00f3vil \\u00faltimos 7 d\\u00edas\"}, {\"Dates\": \"2020-04-13\", \"New_cases\": 312, \"Rolling\": 387.14285714285717, \"Casos confirmados diarios\": \"Casos confirmados diarios\", \"Promedio m\\u00f3vil \\u00faltimos 7 d\\u00edas\": \"Promedio m\\u00f3vil \\u00faltimos 7 d\\u00edas\"}, {\"Dates\": \"2020-04-14\", \"New_cases\": 392, \"Rolling\": 400.14285714285717, \"Casos confirmados diarios\": \"Casos confirmados diarios\", \"Promedio m\\u00f3vil \\u00faltimos 7 d\\u00edas\": \"Promedio m\\u00f3vil \\u00faltimos 7 d\\u00edas\"}, {\"Dates\": \"2020-04-15\", \"New_cases\": 356, \"Rolling\": 389.57142857142856, \"Casos confirmados diarios\": \"Casos confirmados diarios\", \"Promedio m\\u00f3vil \\u00faltimos 7 d\\u00edas\": \"Promedio m\\u00f3vil \\u00faltimos 7 d\\u00edas\"}, {\"Dates\": \"2020-04-16\", \"New_cases\": 534, \"Rolling\": 405.0, \"Casos confirmados diarios\": \"Casos confirmados diarios\", \"Promedio m\\u00f3vil \\u00faltimos 7 d\\u00edas\": \"Promedio m\\u00f3vil \\u00faltimos 7 d\\u00edas\"}, {\"Dates\": \"2020-04-17\", \"New_cases\": 445, \"Rolling\": 393.0, \"Casos confirmados diarios\": \"Casos confirmados diarios\", \"Promedio m\\u00f3vil \\u00faltimos 7 d\\u00edas\": \"Promedio m\\u00f3vil \\u00faltimos 7 d\\u00edas\"}, {\"Dates\": \"2020-04-18\", \"New_cases\": 478, \"Rolling\": 400.42857142857144, \"Casos confirmados diarios\": \"Casos confirmados diarios\", \"Promedio m\\u00f3vil \\u00faltimos 7 d\\u00edas\": \"Promedio m\\u00f3vil \\u00faltimos 7 d\\u00edas\"}, {\"Dates\": \"2020-04-19\", \"New_cases\": 358, \"Rolling\": 410.7142857142857, \"Casos confirmados diarios\": \"Casos confirmados diarios\", \"Promedio m\\u00f3vil \\u00faltimos 7 d\\u00edas\": \"Promedio m\\u00f3vil \\u00faltimos 7 d\\u00edas\"}, {\"Dates\": \"2020-04-20\", \"New_cases\": 419, \"Rolling\": 426.0, \"Casos confirmados diarios\": \"Casos confirmados diarios\", \"Promedio m\\u00f3vil \\u00faltimos 7 d\\u00edas\": \"Promedio m\\u00f3vil \\u00faltimos 7 d\\u00edas\"}, {\"Dates\": \"2020-04-21\", \"New_cases\": 325, \"Rolling\": 416.42857142857144, \"Casos confirmados diarios\": \"Casos confirmados diarios\", \"Promedio m\\u00f3vil \\u00faltimos 7 d\\u00edas\": \"Promedio m\\u00f3vil \\u00faltimos 7 d\\u00edas\"}, {\"Dates\": \"2020-04-22\", \"New_cases\": 464, \"Rolling\": 431.85714285714283, \"Casos confirmados diarios\": \"Casos confirmados diarios\", \"Promedio m\\u00f3vil \\u00faltimos 7 d\\u00edas\": \"Promedio m\\u00f3vil \\u00faltimos 7 d\\u00edas\"}, {\"Dates\": \"2020-04-23\", \"New_cases\": 516, \"Rolling\": 429.2857142857143, \"Casos confirmados diarios\": \"Casos confirmados diarios\", \"Promedio m\\u00f3vil \\u00faltimos 7 d\\u00edas\": \"Promedio m\\u00f3vil \\u00faltimos 7 d\\u00edas\"}, {\"Dates\": \"2020-04-24\", \"New_cases\": 494, \"Rolling\": 436.2857142857143, \"Casos confirmados diarios\": \"Casos confirmados diarios\", \"Promedio m\\u00f3vil \\u00faltimos 7 d\\u00edas\": \"Promedio m\\u00f3vil \\u00faltimos 7 d\\u00edas\"}, {\"Dates\": \"2020-04-25\", \"New_cases\": 552, \"Rolling\": 446.85714285714283, \"Casos confirmados diarios\": \"Casos confirmados diarios\", \"Promedio m\\u00f3vil \\u00faltimos 7 d\\u00edas\": \"Promedio m\\u00f3vil \\u00faltimos 7 d\\u00edas\"}, {\"Dates\": \"2020-04-26\", \"New_cases\": 473, \"Rolling\": 463.2857142857143, \"Casos confirmados diarios\": \"Casos confirmados diarios\", \"Promedio m\\u00f3vil \\u00faltimos 7 d\\u00edas\": \"Promedio m\\u00f3vil \\u00faltimos 7 d\\u00edas\"}, {\"Dates\": \"2020-04-27\", \"New_cases\": 482, \"Rolling\": 472.2857142857143, \"Casos confirmados diarios\": \"Casos confirmados diarios\", \"Promedio m\\u00f3vil \\u00faltimos 7 d\\u00edas\": \"Promedio m\\u00f3vil \\u00faltimos 7 d\\u00edas\"}, {\"Dates\": \"2020-04-28\", \"New_cases\": 552, \"Rolling\": 504.7142857142857, \"Casos confirmados diarios\": \"Casos confirmados diarios\", \"Promedio m\\u00f3vil \\u00faltimos 7 d\\u00edas\": \"Promedio m\\u00f3vil \\u00faltimos 7 d\\u00edas\"}, {\"Dates\": \"2020-04-29\", \"New_cases\": 770, \"Rolling\": 548.4285714285714, \"Casos confirmados diarios\": \"Casos confirmados diarios\", \"Promedio m\\u00f3vil \\u00faltimos 7 d\\u00edas\": \"Promedio m\\u00f3vil \\u00faltimos 7 d\\u00edas\"}, {\"Dates\": \"2020-04-30\", \"New_cases\": 888, \"Rolling\": 601.5714285714286, \"Casos confirmados diarios\": \"Casos confirmados diarios\", \"Promedio m\\u00f3vil \\u00faltimos 7 d\\u00edas\": \"Promedio m\\u00f3vil \\u00faltimos 7 d\\u00edas\"}, {\"Dates\": \"2020-05-01\", \"New_cases\": 985, \"Rolling\": 671.7142857142857, \"Casos confirmados diarios\": \"Casos confirmados diarios\", \"Promedio m\\u00f3vil \\u00faltimos 7 d\\u00edas\": \"Promedio m\\u00f3vil \\u00faltimos 7 d\\u00edas\"}, {\"Dates\": \"2020-05-02\", \"New_cases\": 1427, \"Rolling\": 796.7142857142857, \"Casos confirmados diarios\": \"Casos confirmados diarios\", \"Promedio m\\u00f3vil \\u00faltimos 7 d\\u00edas\": \"Promedio m\\u00f3vil \\u00faltimos 7 d\\u00edas\"}, {\"Dates\": \"2020-05-03\", \"New_cases\": 1228, \"Rolling\": 904.5714285714286, \"Casos confirmados diarios\": \"Casos confirmados diarios\", \"Promedio m\\u00f3vil \\u00faltimos 7 d\\u00edas\": \"Promedio m\\u00f3vil \\u00faltimos 7 d\\u00edas\"}, {\"Dates\": \"2020-05-04\", \"New_cases\": 980, \"Rolling\": 975.7142857142857, \"Casos confirmados diarios\": \"Casos confirmados diarios\", \"Promedio m\\u00f3vil \\u00faltimos 7 d\\u00edas\": \"Promedio m\\u00f3vil \\u00faltimos 7 d\\u00edas\"}, {\"Dates\": \"2020-05-05\", \"New_cases\": 1373, \"Rolling\": 1093.0, \"Casos confirmados diarios\": \"Casos confirmados diarios\", \"Promedio m\\u00f3vil \\u00faltimos 7 d\\u00edas\": \"Promedio m\\u00f3vil \\u00faltimos 7 d\\u00edas\"}, {\"Dates\": \"2020-05-06\", \"New_cases\": 1032, \"Rolling\": 1130.4285714285713, \"Casos confirmados diarios\": \"Casos confirmados diarios\", \"Promedio m\\u00f3vil \\u00faltimos 7 d\\u00edas\": \"Promedio m\\u00f3vil \\u00faltimos 7 d\\u00edas\"}, {\"Dates\": \"2020-05-07\", \"New_cases\": 1533, \"Rolling\": 1222.5714285714287, \"Casos confirmados diarios\": \"Casos confirmados diarios\", \"Promedio m\\u00f3vil \\u00faltimos 7 d\\u00edas\": \"Promedio m\\u00f3vil \\u00faltimos 7 d\\u00edas\"}]}}, {\"mode\": \"vega-lite\"});\n",
       "</script>"
      ],
      "text/plain": [
       "alt.LayerChart(...)"
      ]
     },
     "execution_count": 27,
     "metadata": {},
     "output_type": "execute_result"
    }
   ],
   "source": [
    "#hide_input\n",
    "bars = alt.Chart(new_cases).mark_bar(opacity=0.7).encode(\n",
    "    x = alt.X('Dates:N', axis=alt.Axis(title='Fecha (año-mes-día)')),\n",
    "    y = alt.Y('New_cases:Q', axis=alt.Axis(title='Casos confirmados diarios')),\n",
    "    tooltip = ['Dates', 'New_cases'],\n",
    "    opacity=alt.Opacity('Casos confirmados diarios', legend=alt.Legend(title=\"\"))\n",
    ")\n",
    "\n",
    "line = alt.Chart(new_cases).mark_line(point={\n",
    "      \"filled\": True,\n",
    "      \"fill\": \"firebrick\"\n",
    "    }, color='firebrick').encode(\n",
    "    x=alt.X('Dates:N', axis=alt.Axis(title='Fecha (año-mes-día)')),\n",
    "    y = alt.Y('Rolling:Q'),\n",
    "    shape=alt.Shape('Promedio móvil últimos 7 días', legend=alt.Legend(title=\"\"))\n",
    ")\n",
    "\n",
    "(bars + line).properties(\n",
    "    title='Covid-19 en Chile: Casos confirmados diarios',\n",
    "    width=600\n",
    ")"
   ]
  },
  {
   "cell_type": "markdown",
   "metadata": {},
   "source": [
    "# Evolución de fallecimientos confirmados diarios"
   ]
  },
  {
   "cell_type": "code",
   "execution_count": 143,
   "metadata": {},
   "outputs": [],
   "source": [
    "#hide\n",
    "data = pd.DataFrame()\n",
    "data_raw = pd.read_csv(\n",
    "    \"https://raw.githubusercontent.com/MinCiencia/Datos-COVID19/master/output/producto4/2020-03-24-CasosConfirmados-totalRegional.csv\",\n",
    "    index_col='Region')\n",
    "data['2020-03-24'] = data_raw['Fallecidos']"
   ]
  },
  {
   "cell_type": "code",
   "execution_count": 144,
   "metadata": {},
   "outputs": [],
   "source": [
    "#hide\n",
    "first_death_date = '2020-03-24'\n",
    "total_days = (pd.to_datetime(today)-pd.to_datetime(first_death_date)).days"
   ]
  },
  {
   "cell_type": "code",
   "execution_count": 145,
   "metadata": {},
   "outputs": [],
   "source": [
    "#hide\n",
    "for i in np.arange(total_days+1):\n",
    "  date = (pd.to_datetime(first_death_date)+pd.DateOffset(i)).strftime('%Y-%m-%d')\n",
    "  s = \"https://raw.githubusercontent.com/MinCiencia/Datos-COVID19/master/output/producto4/\" + date + \"-CasosConfirmados-totalRegional.csv\"\n",
    "  data_by_date = pd.read_csv(s)\n",
    "  if 'Fallecidos' in data_by_date.columns:\n",
    "    data[date] = data_by_date[\"Fallecidos\"].values\n",
    "  elif 'Casos fallecidos' in data_by_date.columns:\n",
    "    data[date] = data_by_date[\"Casos fallecidos\"].values\n",
    "  else:\n",
    "    data[date] = data_by_date[\" Casos fallecidos\"].values"
   ]
  },
  {
   "cell_type": "code",
   "execution_count": 146,
   "metadata": {},
   "outputs": [],
   "source": [
    "#hide\n",
    "aux1 = data.loc[\"Total\"]\n",
    "aux2 = [t - s for s, t in zip(aux1, aux1.loc['2020-03-25':])]"
   ]
  },
  {
   "cell_type": "code",
   "execution_count": 147,
   "metadata": {},
   "outputs": [],
   "source": [
    "#hide\n",
    "WS_deaths = 7"
   ]
  },
  {
   "cell_type": "code",
   "execution_count": 148,
   "metadata": {},
   "outputs": [],
   "source": [
    "#hide\n",
    "new_deaths = pd.DataFrame()\n",
    "new_deaths[\"Dates\"] = data.loc[\"Total\"].reset_index()[\"index\"].iloc[1:].values\n",
    "new_deaths[\"New_deaths\"] = aux2\n",
    "new_deaths[\"Rolling\"] = new_deaths[\"New_deaths\"].rolling(window=WS_deaths).mean()\n",
    "new_deaths[\"Fallecimientos confirmados diarios\"] = len(new_deaths) * [\"Fallecimientos confirmados diarios\"]\n",
    "new_deaths[\"Promedio móvil últimos 7 días\"] = len(new_deaths) * [\"Promedio móvil últimos 7 días\"]"
   ]
  },
  {
   "cell_type": "code",
   "execution_count": 149,
   "metadata": {},
   "outputs": [
    {
     "data": {
      "text/html": [
       "\n",
       "<div id=\"altair-viz-bc92a763bd5146c890b071bc5c5f3d16\"></div>\n",
       "<script type=\"text/javascript\">\n",
       "  (function(spec, embedOpt){\n",
       "    let outputDiv = document.currentScript.previousElementSibling;\n",
       "    if (outputDiv.id !== \"altair-viz-bc92a763bd5146c890b071bc5c5f3d16\") {\n",
       "      outputDiv = document.getElementById(\"altair-viz-bc92a763bd5146c890b071bc5c5f3d16\");\n",
       "    }\n",
       "    const paths = {\n",
       "      \"vega\": \"https://cdn.jsdelivr.net/npm//vega@5?noext\",\n",
       "      \"vega-lib\": \"https://cdn.jsdelivr.net/npm//vega-lib?noext\",\n",
       "      \"vega-lite\": \"https://cdn.jsdelivr.net/npm//vega-lite@4.8.1?noext\",\n",
       "      \"vega-embed\": \"https://cdn.jsdelivr.net/npm//vega-embed@6?noext\",\n",
       "    };\n",
       "\n",
       "    function loadScript(lib) {\n",
       "      return new Promise(function(resolve, reject) {\n",
       "        var s = document.createElement('script');\n",
       "        s.src = paths[lib];\n",
       "        s.async = true;\n",
       "        s.onload = () => resolve(paths[lib]);\n",
       "        s.onerror = () => reject(`Error loading script: ${paths[lib]}`);\n",
       "        document.getElementsByTagName(\"head\")[0].appendChild(s);\n",
       "      });\n",
       "    }\n",
       "\n",
       "    function showError(err) {\n",
       "      outputDiv.innerHTML = `<div class=\"error\" style=\"color:red;\">${err}</div>`;\n",
       "      throw err;\n",
       "    }\n",
       "\n",
       "    function displayChart(vegaEmbed) {\n",
       "      vegaEmbed(outputDiv, spec, embedOpt)\n",
       "        .catch(err => showError(`Javascript Error: ${err.message}<br>This usually means there's a typo in your chart specification. See the javascript console for the full traceback.`));\n",
       "    }\n",
       "\n",
       "    if(typeof define === \"function\" && define.amd) {\n",
       "      requirejs.config({paths});\n",
       "      require([\"vega-embed\"], displayChart, err => showError(`Error loading script: ${err.message}`));\n",
       "    } else if (typeof vegaEmbed === \"function\") {\n",
       "      displayChart(vegaEmbed);\n",
       "    } else {\n",
       "      loadScript(\"vega\")\n",
       "        .then(() => loadScript(\"vega-lite\"))\n",
       "        .then(() => loadScript(\"vega-embed\"))\n",
       "        .catch(showError)\n",
       "        .then(() => displayChart(vegaEmbed));\n",
       "    }\n",
       "  })({\"config\": {\"view\": {\"continuousWidth\": 400, \"continuousHeight\": 300}}, \"layer\": [{\"mark\": {\"type\": \"bar\", \"color\": \"firebrick\", \"opacity\": 0.7}, \"encoding\": {\"opacity\": {\"type\": \"nominal\", \"field\": \"Fallecimientos confirmados diarios\", \"legend\": {\"title\": \"\"}}, \"tooltip\": [{\"type\": \"nominal\", \"field\": \"Dates\"}, {\"type\": \"quantitative\", \"field\": \"New_deaths\"}], \"x\": {\"type\": \"nominal\", \"axis\": {\"title\": \"Fecha (a\\u00f1o-mes-d\\u00eda)\"}, \"field\": \"Dates\"}, \"y\": {\"type\": \"quantitative\", \"axis\": {\"title\": \"Fallecimientos confirmados diarios\"}, \"field\": \"New_deaths\"}}}, {\"mark\": {\"type\": \"line\", \"color\": \"firebrick\", \"point\": {\"filled\": true, \"fill\": \"firebrick\"}}, \"encoding\": {\"shape\": {\"type\": \"nominal\", \"field\": \"Promedio m\\u00f3vil \\u00faltimos 7 d\\u00edas\", \"legend\": {\"title\": \"\"}}, \"x\": {\"type\": \"nominal\", \"axis\": {\"title\": \"Fecha (a\\u00f1o-mes-d\\u00eda)\"}, \"field\": \"Dates\"}, \"y\": {\"type\": \"quantitative\", \"field\": \"Rolling\"}}}], \"data\": {\"name\": \"data-a284f7e395e7bdce30d05750430b668a\"}, \"title\": \"Covid-19 en Chile: Fallecimientos confirmados diarios\", \"width\": 600, \"$schema\": \"https://vega.github.io/schema/vega-lite/v4.8.1.json\", \"datasets\": {\"data-a284f7e395e7bdce30d05750430b668a\": [{\"Dates\": \"2020-03-25\", \"New_deaths\": 1, \"Rolling\": null, \"Fallecimientos confirmados diarios\": \"Fallecimientos confirmados diarios\", \"Promedio m\\u00f3vil \\u00faltimos 7 d\\u00edas\": \"Promedio m\\u00f3vil \\u00faltimos 7 d\\u00edas\"}, {\"Dates\": \"2020-03-26\", \"New_deaths\": 1, \"Rolling\": null, \"Fallecimientos confirmados diarios\": \"Fallecimientos confirmados diarios\", \"Promedio m\\u00f3vil \\u00faltimos 7 d\\u00edas\": \"Promedio m\\u00f3vil \\u00faltimos 7 d\\u00edas\"}, {\"Dates\": \"2020-03-27\", \"New_deaths\": 1, \"Rolling\": null, \"Fallecimientos confirmados diarios\": \"Fallecimientos confirmados diarios\", \"Promedio m\\u00f3vil \\u00faltimos 7 d\\u00edas\": \"Promedio m\\u00f3vil \\u00faltimos 7 d\\u00edas\"}, {\"Dates\": \"2020-03-28\", \"New_deaths\": 1, \"Rolling\": null, \"Fallecimientos confirmados diarios\": \"Fallecimientos confirmados diarios\", \"Promedio m\\u00f3vil \\u00faltimos 7 d\\u00edas\": \"Promedio m\\u00f3vil \\u00faltimos 7 d\\u00edas\"}, {\"Dates\": \"2020-03-29\", \"New_deaths\": 1, \"Rolling\": null, \"Fallecimientos confirmados diarios\": \"Fallecimientos confirmados diarios\", \"Promedio m\\u00f3vil \\u00faltimos 7 d\\u00edas\": \"Promedio m\\u00f3vil \\u00faltimos 7 d\\u00edas\"}, {\"Dates\": \"2020-03-30\", \"New_deaths\": 1, \"Rolling\": null, \"Fallecimientos confirmados diarios\": \"Fallecimientos confirmados diarios\", \"Promedio m\\u00f3vil \\u00faltimos 7 d\\u00edas\": \"Promedio m\\u00f3vil \\u00faltimos 7 d\\u00edas\"}, {\"Dates\": \"2020-03-31\", \"New_deaths\": 4, \"Rolling\": 1.4285714285714286, \"Fallecimientos confirmados diarios\": \"Fallecimientos confirmados diarios\", \"Promedio m\\u00f3vil \\u00faltimos 7 d\\u00edas\": \"Promedio m\\u00f3vil \\u00faltimos 7 d\\u00edas\"}, {\"Dates\": \"2020-04-01\", \"New_deaths\": 4, \"Rolling\": 1.8571428571428572, \"Fallecimientos confirmados diarios\": \"Fallecimientos confirmados diarios\", \"Promedio m\\u00f3vil \\u00faltimos 7 d\\u00edas\": \"Promedio m\\u00f3vil \\u00faltimos 7 d\\u00edas\"}, {\"Dates\": \"2020-04-02\", \"New_deaths\": 2, \"Rolling\": 2.0, \"Fallecimientos confirmados diarios\": \"Fallecimientos confirmados diarios\", \"Promedio m\\u00f3vil \\u00faltimos 7 d\\u00edas\": \"Promedio m\\u00f3vil \\u00faltimos 7 d\\u00edas\"}, {\"Dates\": \"2020-04-03\", \"New_deaths\": 4, \"Rolling\": 2.4285714285714284, \"Fallecimientos confirmados diarios\": \"Fallecimientos confirmados diarios\", \"Promedio m\\u00f3vil \\u00faltimos 7 d\\u00edas\": \"Promedio m\\u00f3vil \\u00faltimos 7 d\\u00edas\"}, {\"Dates\": \"2020-04-04\", \"New_deaths\": 5, \"Rolling\": 3.0, \"Fallecimientos confirmados diarios\": \"Fallecimientos confirmados diarios\", \"Promedio m\\u00f3vil \\u00faltimos 7 d\\u00edas\": \"Promedio m\\u00f3vil \\u00faltimos 7 d\\u00edas\"}, {\"Dates\": \"2020-04-05\", \"New_deaths\": 7, \"Rolling\": 3.857142857142857, \"Fallecimientos confirmados diarios\": \"Fallecimientos confirmados diarios\", \"Promedio m\\u00f3vil \\u00faltimos 7 d\\u00edas\": \"Promedio m\\u00f3vil \\u00faltimos 7 d\\u00edas\"}, {\"Dates\": \"2020-04-06\", \"New_deaths\": 3, \"Rolling\": 4.142857142857143, \"Fallecimientos confirmados diarios\": \"Fallecimientos confirmados diarios\", \"Promedio m\\u00f3vil \\u00faltimos 7 d\\u00edas\": \"Promedio m\\u00f3vil \\u00faltimos 7 d\\u00edas\"}, {\"Dates\": \"2020-04-07\", \"New_deaths\": 6, \"Rolling\": 4.428571428571429, \"Fallecimientos confirmados diarios\": \"Fallecimientos confirmados diarios\", \"Promedio m\\u00f3vil \\u00faltimos 7 d\\u00edas\": \"Promedio m\\u00f3vil \\u00faltimos 7 d\\u00edas\"}, {\"Dates\": \"2020-04-08\", \"New_deaths\": 5, \"Rolling\": 4.571428571428571, \"Fallecimientos confirmados diarios\": \"Fallecimientos confirmados diarios\", \"Promedio m\\u00f3vil \\u00faltimos 7 d\\u00edas\": \"Promedio m\\u00f3vil \\u00faltimos 7 d\\u00edas\"}, {\"Dates\": \"2020-04-09\", \"New_deaths\": 9, \"Rolling\": 5.571428571428571, \"Fallecimientos confirmados diarios\": \"Fallecimientos confirmados diarios\", \"Promedio m\\u00f3vil \\u00faltimos 7 d\\u00edas\": \"Promedio m\\u00f3vil \\u00faltimos 7 d\\u00edas\"}, {\"Dates\": \"2020-04-10\", \"New_deaths\": 8, \"Rolling\": 6.142857142857143, \"Fallecimientos confirmados diarios\": \"Fallecimientos confirmados diarios\", \"Promedio m\\u00f3vil \\u00faltimos 7 d\\u00edas\": \"Promedio m\\u00f3vil \\u00faltimos 7 d\\u00edas\"}, {\"Dates\": \"2020-04-11\", \"New_deaths\": 8, \"Rolling\": 6.571428571428571, \"Fallecimientos confirmados diarios\": \"Fallecimientos confirmados diarios\", \"Promedio m\\u00f3vil \\u00faltimos 7 d\\u00edas\": \"Promedio m\\u00f3vil \\u00faltimos 7 d\\u00edas\"}, {\"Dates\": \"2020-04-12\", \"New_deaths\": 7, \"Rolling\": 6.571428571428571, \"Fallecimientos confirmados diarios\": \"Fallecimientos confirmados diarios\", \"Promedio m\\u00f3vil \\u00faltimos 7 d\\u00edas\": \"Promedio m\\u00f3vil \\u00faltimos 7 d\\u00edas\"}, {\"Dates\": \"2020-04-13\", \"New_deaths\": 2, \"Rolling\": 6.428571428571429, \"Fallecimientos confirmados diarios\": \"Fallecimientos confirmados diarios\", \"Promedio m\\u00f3vil \\u00faltimos 7 d\\u00edas\": \"Promedio m\\u00f3vil \\u00faltimos 7 d\\u00edas\"}, {\"Dates\": \"2020-04-14\", \"New_deaths\": 10, \"Rolling\": 7.0, \"Fallecimientos confirmados diarios\": \"Fallecimientos confirmados diarios\", \"Promedio m\\u00f3vil \\u00faltimos 7 d\\u00edas\": \"Promedio m\\u00f3vil \\u00faltimos 7 d\\u00edas\"}, {\"Dates\": \"2020-04-15\", \"New_deaths\": 2, \"Rolling\": 6.571428571428571, \"Fallecimientos confirmados diarios\": \"Fallecimientos confirmados diarios\", \"Promedio m\\u00f3vil \\u00faltimos 7 d\\u00edas\": \"Promedio m\\u00f3vil \\u00faltimos 7 d\\u00edas\"}, {\"Dates\": \"2020-04-16\", \"New_deaths\": 11, \"Rolling\": 6.857142857142857, \"Fallecimientos confirmados diarios\": \"Fallecimientos confirmados diarios\", \"Promedio m\\u00f3vil \\u00faltimos 7 d\\u00edas\": \"Promedio m\\u00f3vil \\u00faltimos 7 d\\u00edas\"}, {\"Dates\": \"2020-04-17\", \"New_deaths\": 11, \"Rolling\": 7.285714285714286, \"Fallecimientos confirmados diarios\": \"Fallecimientos confirmados diarios\", \"Promedio m\\u00f3vil \\u00faltimos 7 d\\u00edas\": \"Promedio m\\u00f3vil \\u00faltimos 7 d\\u00edas\"}, {\"Dates\": \"2020-04-18\", \"New_deaths\": 10, \"Rolling\": 7.571428571428571, \"Fallecimientos confirmados diarios\": \"Fallecimientos confirmados diarios\", \"Promedio m\\u00f3vil \\u00faltimos 7 d\\u00edas\": \"Promedio m\\u00f3vil \\u00faltimos 7 d\\u00edas\"}, {\"Dates\": \"2020-04-19\", \"New_deaths\": 7, \"Rolling\": 7.571428571428571, \"Fallecimientos confirmados diarios\": \"Fallecimientos confirmados diarios\", \"Promedio m\\u00f3vil \\u00faltimos 7 d\\u00edas\": \"Promedio m\\u00f3vil \\u00faltimos 7 d\\u00edas\"}, {\"Dates\": \"2020-04-20\", \"New_deaths\": 6, \"Rolling\": 8.142857142857142, \"Fallecimientos confirmados diarios\": \"Fallecimientos confirmados diarios\", \"Promedio m\\u00f3vil \\u00faltimos 7 d\\u00edas\": \"Promedio m\\u00f3vil \\u00faltimos 7 d\\u00edas\"}, {\"Dates\": \"2020-04-21\", \"New_deaths\": 8, \"Rolling\": 7.857142857142857, \"Fallecimientos confirmados diarios\": \"Fallecimientos confirmados diarios\", \"Promedio m\\u00f3vil \\u00faltimos 7 d\\u00edas\": \"Promedio m\\u00f3vil \\u00faltimos 7 d\\u00edas\"}, {\"Dates\": \"2020-04-22\", \"New_deaths\": 13, \"Rolling\": 9.428571428571429, \"Fallecimientos confirmados diarios\": \"Fallecimientos confirmados diarios\", \"Promedio m\\u00f3vil \\u00faltimos 7 d\\u00edas\": \"Promedio m\\u00f3vil \\u00faltimos 7 d\\u00edas\"}, {\"Dates\": \"2020-04-23\", \"New_deaths\": 8, \"Rolling\": 9.0, \"Fallecimientos confirmados diarios\": \"Fallecimientos confirmados diarios\", \"Promedio m\\u00f3vil \\u00faltimos 7 d\\u00edas\": \"Promedio m\\u00f3vil \\u00faltimos 7 d\\u00edas\"}, {\"Dates\": \"2020-04-24\", \"New_deaths\": 6, \"Rolling\": 8.285714285714286, \"Fallecimientos confirmados diarios\": \"Fallecimientos confirmados diarios\", \"Promedio m\\u00f3vil \\u00faltimos 7 d\\u00edas\": \"Promedio m\\u00f3vil \\u00faltimos 7 d\\u00edas\"}, {\"Dates\": \"2020-04-25\", \"New_deaths\": 7, \"Rolling\": 7.857142857142857, \"Fallecimientos confirmados diarios\": \"Fallecimientos confirmados diarios\", \"Promedio m\\u00f3vil \\u00faltimos 7 d\\u00edas\": \"Promedio m\\u00f3vil \\u00faltimos 7 d\\u00edas\"}, {\"Dates\": \"2020-04-26\", \"New_deaths\": 8, \"Rolling\": 8.0, \"Fallecimientos confirmados diarios\": \"Fallecimientos confirmados diarios\", \"Promedio m\\u00f3vil \\u00faltimos 7 d\\u00edas\": \"Promedio m\\u00f3vil \\u00faltimos 7 d\\u00edas\"}, {\"Dates\": \"2020-04-27\", \"New_deaths\": 9, \"Rolling\": 8.428571428571429, \"Fallecimientos confirmados diarios\": \"Fallecimientos confirmados diarios\", \"Promedio m\\u00f3vil \\u00faltimos 7 d\\u00edas\": \"Promedio m\\u00f3vil \\u00faltimos 7 d\\u00edas\"}, {\"Dates\": \"2020-04-28\", \"New_deaths\": 9, \"Rolling\": 8.571428571428571, \"Fallecimientos confirmados diarios\": \"Fallecimientos confirmados diarios\", \"Promedio m\\u00f3vil \\u00faltimos 7 d\\u00edas\": \"Promedio m\\u00f3vil \\u00faltimos 7 d\\u00edas\"}, {\"Dates\": \"2020-04-29\", \"New_deaths\": 9, \"Rolling\": 8.0, \"Fallecimientos confirmados diarios\": \"Fallecimientos confirmados diarios\", \"Promedio m\\u00f3vil \\u00faltimos 7 d\\u00edas\": \"Promedio m\\u00f3vil \\u00faltimos 7 d\\u00edas\"}, {\"Dates\": \"2020-04-30\", \"New_deaths\": 11, \"Rolling\": 8.428571428571429, \"Fallecimientos confirmados diarios\": \"Fallecimientos confirmados diarios\", \"Promedio m\\u00f3vil \\u00faltimos 7 d\\u00edas\": \"Promedio m\\u00f3vil \\u00faltimos 7 d\\u00edas\"}, {\"Dates\": \"2020-05-01\", \"New_deaths\": 7, \"Rolling\": 8.571428571428571, \"Fallecimientos confirmados diarios\": \"Fallecimientos confirmados diarios\", \"Promedio m\\u00f3vil \\u00faltimos 7 d\\u00edas\": \"Promedio m\\u00f3vil \\u00faltimos 7 d\\u00edas\"}, {\"Dates\": \"2020-05-02\", \"New_deaths\": 13, \"Rolling\": 9.428571428571429, \"Fallecimientos confirmados diarios\": \"Fallecimientos confirmados diarios\", \"Promedio m\\u00f3vil \\u00faltimos 7 d\\u00edas\": \"Promedio m\\u00f3vil \\u00faltimos 7 d\\u00edas\"}, {\"Dates\": \"2020-05-03\", \"New_deaths\": 13, \"Rolling\": 10.142857142857142, \"Fallecimientos confirmados diarios\": \"Fallecimientos confirmados diarios\", \"Promedio m\\u00f3vil \\u00faltimos 7 d\\u00edas\": \"Promedio m\\u00f3vil \\u00faltimos 7 d\\u00edas\"}, {\"Dates\": \"2020-05-04\", \"New_deaths\": 10, \"Rolling\": 10.285714285714286, \"Fallecimientos confirmados diarios\": \"Fallecimientos confirmados diarios\", \"Promedio m\\u00f3vil \\u00faltimos 7 d\\u00edas\": \"Promedio m\\u00f3vil \\u00faltimos 7 d\\u00edas\"}, {\"Dates\": \"2020-05-05\", \"New_deaths\": 5, \"Rolling\": 9.714285714285714, \"Fallecimientos confirmados diarios\": \"Fallecimientos confirmados diarios\", \"Promedio m\\u00f3vil \\u00faltimos 7 d\\u00edas\": \"Promedio m\\u00f3vil \\u00faltimos 7 d\\u00edas\"}, {\"Dates\": \"2020-05-06\", \"New_deaths\": 6, \"Rolling\": 9.285714285714286, \"Fallecimientos confirmados diarios\": \"Fallecimientos confirmados diarios\", \"Promedio m\\u00f3vil \\u00faltimos 7 d\\u00edas\": \"Promedio m\\u00f3vil \\u00faltimos 7 d\\u00edas\"}, {\"Dates\": \"2020-05-07\", \"New_deaths\": 4, \"Rolling\": 8.285714285714286, \"Fallecimientos confirmados diarios\": \"Fallecimientos confirmados diarios\", \"Promedio m\\u00f3vil \\u00faltimos 7 d\\u00edas\": \"Promedio m\\u00f3vil \\u00faltimos 7 d\\u00edas\"}]}}, {\"mode\": \"vega-lite\"});\n",
       "</script>"
      ],
      "text/plain": [
       "alt.LayerChart(...)"
      ]
     },
     "execution_count": 149,
     "metadata": {},
     "output_type": "execute_result"
    }
   ],
   "source": [
    "#hide_input\n",
    "bars = alt.Chart(new_deaths).mark_bar(opacity=0.7, color='firebrick').encode(\n",
    "    x = alt.X('Dates:N', axis=alt.Axis(title='Fecha (año-mes-día)')),\n",
    "    y = alt.Y('New_deaths:Q', axis=alt.Axis(title='Fallecimientos confirmados diarios')),\n",
    "    tooltip = ['Dates', 'New_deaths'],\n",
    "    opacity=alt.Opacity('Fallecimientos confirmados diarios', legend=alt.Legend(title=\"\"))\n",
    ")\n",
    "\n",
    "line = alt.Chart(new_deaths).mark_line(point={\n",
    "      \"filled\": True,\n",
    "      \"fill\": \"firebrick\"\n",
    "    }, color='firebrick').encode(\n",
    "    x=alt.X('Dates:N', axis=alt.Axis(title='Fecha (año-mes-día)')),\n",
    "    y = alt.Y('Rolling:Q'),\n",
    "    shape=alt.Shape('Promedio móvil últimos 7 días', legend=alt.Legend(title=\"\"))\n",
    ")\n",
    "\n",
    "(bars + line).properties(\n",
    "    title='Covid-19 en Chile: Fallecimientos confirmados diarios',\n",
    "    width=600\n",
    ")"
   ]
  },
  {
   "cell_type": "markdown",
   "metadata": {
    "papermill": {
     "duration": 0.083171,
     "end_time": "2020-04-28T12:16:40.275579",
     "exception": false,
     "start_time": "2020-04-28T12:16:40.192408",
     "status": "completed"
    },
    "tags": []
   },
   "source": [
    "# Evolución de casos confirmados diarios por región"
   ]
  },
  {
   "cell_type": "code",
   "execution_count": 150,
   "metadata": {
    "execution": {
     "iopub.execute_input": "2020-04-28T12:16:39.755896Z",
     "iopub.status.busy": "2020-04-28T12:16:39.755288Z",
     "iopub.status.idle": "2020-04-28T12:16:39.757523Z",
     "shell.execute_reply": "2020-04-28T12:16:39.757012Z"
    },
    "papermill": {
     "duration": 0.089843,
     "end_time": "2020-04-28T12:16:39.757630",
     "exception": false,
     "start_time": "2020-04-28T12:16:39.667787",
     "status": "completed"
    },
    "tags": []
   },
   "outputs": [],
   "source": [
    "#hide\n",
    "# Window size cases\n",
    "WS_cases = 7"
   ]
  },
  {
   "cell_type": "code",
   "execution_count": 151,
   "metadata": {
    "execution": {
     "iopub.execute_input": "2020-04-28T12:16:32.630112Z",
     "iopub.status.busy": "2020-04-28T12:16:32.629494Z",
     "iopub.status.idle": "2020-04-28T12:16:32.649508Z",
     "shell.execute_reply": "2020-04-28T12:16:32.648939Z"
    },
    "papermill": {
     "duration": 0.110939,
     "end_time": "2020-04-28T12:16:32.649626",
     "exception": false,
     "start_time": "2020-04-28T12:16:32.538687",
     "status": "completed"
    },
    "tags": []
   },
   "outputs": [],
   "source": [
    "#hide\n",
    "data_raw = pd.read_csv(\n",
    "    \"https://raw.githubusercontent.com/MinCiencia/Datos-COVID19/master/output/producto3/CasosTotalesCumulativo_T.csv\",\n",
    "    index_col='Region')"
   ]
  },
  {
   "cell_type": "code",
   "execution_count": 152,
   "metadata": {},
   "outputs": [],
   "source": [
    "#hide\n",
    "data_raw = data_raw.diff().fillna(0).T"
   ]
  },
  {
   "cell_type": "code",
   "execution_count": 153,
   "metadata": {
    "execution": {
     "iopub.execute_input": "2020-04-28T12:16:32.819320Z",
     "iopub.status.busy": "2020-04-28T12:16:32.818663Z",
     "iopub.status.idle": "2020-04-28T12:16:32.820978Z",
     "shell.execute_reply": "2020-04-28T12:16:32.820464Z"
    },
    "papermill": {
     "duration": 0.089772,
     "end_time": "2020-04-28T12:16:32.821088",
     "exception": false,
     "start_time": "2020-04-28T12:16:32.731316",
     "status": "completed"
    },
    "tags": []
   },
   "outputs": [],
   "source": [
    "#hide\n",
    "data_raw = data_raw.drop(\"Total\")"
   ]
  },
  {
   "cell_type": "code",
   "execution_count": 154,
   "metadata": {
    "execution": {
     "iopub.execute_input": "2020-04-28T12:16:32.993705Z",
     "iopub.status.busy": "2020-04-28T12:16:32.988020Z",
     "iopub.status.idle": "2020-04-28T12:16:33.523491Z",
     "shell.execute_reply": "2020-04-28T12:16:33.522359Z"
    },
    "papermill": {
     "duration": 0.619644,
     "end_time": "2020-04-28T12:16:33.523625",
     "exception": false,
     "start_time": "2020-04-28T12:16:32.903981",
     "status": "completed"
    },
    "tags": []
   },
   "outputs": [],
   "source": [
    "#hide\n",
    "data = pd.DataFrame()\n",
    "i = 0\n",
    "for date in data_raw.keys():\n",
    "    for n, region in enumerate(data_raw.index):\n",
    "        data[i] = date, region, data_raw[date].loc[region], n\n",
    "        i += 1"
   ]
  },
  {
   "cell_type": "code",
   "execution_count": 155,
   "metadata": {
    "execution": {
     "iopub.execute_input": "2020-04-28T12:16:33.701677Z",
     "iopub.status.busy": "2020-04-28T12:16:33.700563Z",
     "iopub.status.idle": "2020-04-28T12:16:33.705651Z",
     "shell.execute_reply": "2020-04-28T12:16:33.706168Z"
    },
    "papermill": {
     "duration": 0.100896,
     "end_time": "2020-04-28T12:16:33.706357",
     "exception": false,
     "start_time": "2020-04-28T12:16:33.605461",
     "status": "completed"
    },
    "tags": []
   },
   "outputs": [],
   "source": [
    "#hide\n",
    "regiones = data_raw.reset_index()['index'].values\n",
    "data = data.T\n",
    "data = data.rename(columns={0: \"date\", 1: \"region\", 2: \"casos\", 3: \"codigo region\"})"
   ]
  },
  {
   "cell_type": "code",
   "execution_count": 156,
   "metadata": {
    "execution": {
     "iopub.execute_input": "2020-04-28T12:16:33.876387Z",
     "iopub.status.busy": "2020-04-28T12:16:33.875759Z",
     "iopub.status.idle": "2020-04-28T12:16:33.878181Z",
     "shell.execute_reply": "2020-04-28T12:16:33.878755Z"
    },
    "papermill": {
     "duration": 0.090828,
     "end_time": "2020-04-28T12:16:33.878888",
     "exception": false,
     "start_time": "2020-04-28T12:16:33.788060",
     "status": "completed"
    },
    "tags": []
   },
   "outputs": [],
   "source": [
    "#hide\n",
    "data[\"casos\"] = data[\"casos\"].astype(int)"
   ]
  },
  {
   "cell_type": "code",
   "execution_count": 158,
   "metadata": {
    "execution": {
     "iopub.execute_input": "2020-04-28T12:16:34.053128Z",
     "iopub.status.busy": "2020-04-28T12:16:34.048039Z",
     "iopub.status.idle": "2020-04-28T12:16:34.162754Z",
     "shell.execute_reply": "2020-04-28T12:16:34.163451Z"
    },
    "papermill": {
     "duration": 0.201012,
     "end_time": "2020-04-28T12:16:34.163626",
     "exception": false,
     "start_time": "2020-04-28T12:16:33.962614",
     "status": "completed"
    },
    "tags": []
   },
   "outputs": [
    {
     "data": {
      "text/html": [
       "\n",
       "<div id=\"altair-viz-0b092bf61ddf44b4ab7604c5b8f9aaf2\"></div>\n",
       "<script type=\"text/javascript\">\n",
       "  (function(spec, embedOpt){\n",
       "    let outputDiv = document.currentScript.previousElementSibling;\n",
       "    if (outputDiv.id !== \"altair-viz-0b092bf61ddf44b4ab7604c5b8f9aaf2\") {\n",
       "      outputDiv = document.getElementById(\"altair-viz-0b092bf61ddf44b4ab7604c5b8f9aaf2\");\n",
       "    }\n",
       "    const paths = {\n",
       "      \"vega\": \"https://cdn.jsdelivr.net/npm//vega@5?noext\",\n",
       "      \"vega-lib\": \"https://cdn.jsdelivr.net/npm//vega-lib?noext\",\n",
       "      \"vega-lite\": \"https://cdn.jsdelivr.net/npm//vega-lite@4.8.1?noext\",\n",
       "      \"vega-embed\": \"https://cdn.jsdelivr.net/npm//vega-embed@6?noext\",\n",
       "    };\n",
       "\n",
       "    function loadScript(lib) {\n",
       "      return new Promise(function(resolve, reject) {\n",
       "        var s = document.createElement('script');\n",
       "        s.src = paths[lib];\n",
       "        s.async = true;\n",
       "        s.onload = () => resolve(paths[lib]);\n",
       "        s.onerror = () => reject(`Error loading script: ${paths[lib]}`);\n",
       "        document.getElementsByTagName(\"head\")[0].appendChild(s);\n",
       "      });\n",
       "    }\n",
       "\n",
       "    function showError(err) {\n",
       "      outputDiv.innerHTML = `<div class=\"error\" style=\"color:red;\">${err}</div>`;\n",
       "      throw err;\n",
       "    }\n",
       "\n",
       "    function displayChart(vegaEmbed) {\n",
       "      vegaEmbed(outputDiv, spec, embedOpt)\n",
       "        .catch(err => showError(`Javascript Error: ${err.message}<br>This usually means there's a typo in your chart specification. See the javascript console for the full traceback.`));\n",
       "    }\n",
       "\n",
       "    if(typeof define === \"function\" && define.amd) {\n",
       "      requirejs.config({paths});\n",
       "      require([\"vega-embed\"], displayChart, err => showError(`Error loading script: ${err.message}`));\n",
       "    } else if (typeof vegaEmbed === \"function\") {\n",
       "      displayChart(vegaEmbed);\n",
       "    } else {\n",
       "      loadScript(\"vega\")\n",
       "        .then(() => loadScript(\"vega-lite\"))\n",
       "        .then(() => loadScript(\"vega-embed\"))\n",
       "        .catch(showError)\n",
       "        .then(() => displayChart(vegaEmbed));\n",
       "    }\n",
       "  })({\"config\": {\"view\": {\"continuousWidth\": 400, \"continuousHeight\": 300}}, \"hconcat\": [{\"mark\": \"bar\", \"encoding\": {\"color\": {\"condition\": {\"type\": \"nominal\", \"field\": \"region\", \"legend\": null, \"scale\": {\"scheme\": \"tableau20\"}, \"selection\": {\"or\": [\" \", \"selector005\"]}}, \"value\": \"lightgray\"}, \"order\": {\"type\": \"quantitative\", \"field\": \"codigo region\", \"sort\": \"descending\"}, \"tooltip\": [{\"type\": \"nominal\", \"field\": \"date\"}, {\"type\": \"nominal\", \"field\": \"region\"}, {\"type\": \"quantitative\", \"field\": \"casos\"}], \"x\": {\"type\": \"ordinal\", \"axis\": {\"title\": \"Fecha (a\\u00f1o-mes-d\\u00eda)\"}, \"field\": \"date\"}, \"y\": {\"type\": \"quantitative\", \"axis\": {\"title\": \"Casos confirmados\"}, \"field\": \"casos\"}}, \"height\": 400, \"selection\": {\" \": {\"type\": \"single\", \"fields\": [\"region\"], \"bind\": {\"input\": \"select\", \"options\": [\"Arica y Parinacota\", \"Tarapac\\u00e1\", \"Antofagasta\", \"Atacama\", \"Coquimbo\", \"Valpara\\u00edso\", \"Metropolitana\", \"O\\u2019Higgins\", \"Maule\", \"\\u00d1uble\", \"Biob\\u00edo\", \"Araucan\\u00eda\", \"Los R\\u00edos\", \"Los Lagos\", \"Ays\\u00e9n\", \"Magallanes\"]}}, \"selector005\": {\"type\": \"multi\", \"fields\": [\"region\"], \"on\": \"mouseover\"}}, \"title\": \"Covid-19 en Chile: Casos confirmados diarios por regi\\u00f3n\", \"transform\": [{\"filter\": {\"selection\": \" \"}}], \"width\": 600}, {\"mark\": \"point\", \"encoding\": {\"color\": {\"condition\": {\"type\": \"nominal\", \"field\": \"region\", \"legend\": null, \"scale\": {\"scheme\": \"tableau20\"}, \"selection\": {\"or\": [\" \", \"selector005\"]}}, \"value\": \"lightgray\"}, \"y\": {\"type\": \"nominal\", \"axis\": {\"orient\": \"right\"}, \"field\": \"region\", \"sort\": [\"Arica y Parinacota\", \"Tarapac\\u00e1\", \"Antofagasta\", \"Atacama\", \"Coquimbo\", \"Valpara\\u00edso\", \"Metropolitana\", \"O\\u2019Higgins\", \"Maule\", \"\\u00d1uble\", \"Biob\\u00edo\", \"Araucan\\u00eda\", \"Los R\\u00edos\", \"Los Lagos\", \"Ays\\u00e9n\", \"Magallanes\"]}}, \"selection\": {\" \": {\"type\": \"single\", \"fields\": [\"region\"], \"bind\": {\"input\": \"select\", \"options\": [\"Arica y Parinacota\", \"Tarapac\\u00e1\", \"Antofagasta\", \"Atacama\", \"Coquimbo\", \"Valpara\\u00edso\", \"Metropolitana\", \"O\\u2019Higgins\", \"Maule\", \"\\u00d1uble\", \"Biob\\u00edo\", \"Araucan\\u00eda\", \"Los R\\u00edos\", \"Los Lagos\", \"Ays\\u00e9n\", \"Magallanes\"]}}, \"selector005\": {\"type\": \"multi\", \"fields\": [\"region\"], \"on\": \"mouseover\"}}}], \"data\": {\"name\": \"data-8cb5774037ce0dfe51fb8d5df7ff49d4\"}, \"$schema\": \"https://vega.github.io/schema/vega-lite/v4.8.1.json\", \"datasets\": {\"data-8cb5774037ce0dfe51fb8d5df7ff49d4\": [{\"date\": \"2020-03-03\", \"region\": \"Arica y Parinacota\", \"casos\": 0, \"codigo region\": 0}, {\"date\": \"2020-03-03\", \"region\": \"Tarapac\\u00e1\", \"casos\": 0, \"codigo region\": 1}, {\"date\": \"2020-03-03\", \"region\": \"Antofagasta\", \"casos\": 0, \"codigo region\": 2}, {\"date\": \"2020-03-03\", \"region\": \"Atacama\", \"casos\": 0, \"codigo region\": 3}, {\"date\": \"2020-03-03\", \"region\": \"Coquimbo\", \"casos\": 0, \"codigo region\": 4}, {\"date\": \"2020-03-03\", \"region\": \"Valpara\\u00edso\", \"casos\": 0, \"codigo region\": 5}, {\"date\": \"2020-03-03\", \"region\": \"Metropolitana\", \"casos\": 0, \"codigo region\": 6}, {\"date\": \"2020-03-03\", \"region\": \"O\\u2019Higgins\", \"casos\": 0, \"codigo region\": 7}, {\"date\": \"2020-03-03\", \"region\": \"Maule\", \"casos\": 0, \"codigo region\": 8}, {\"date\": \"2020-03-03\", \"region\": \"\\u00d1uble\", \"casos\": 0, \"codigo region\": 9}, {\"date\": \"2020-03-03\", \"region\": \"Biob\\u00edo\", \"casos\": 0, \"codigo region\": 10}, {\"date\": \"2020-03-03\", \"region\": \"Araucan\\u00eda\", \"casos\": 0, \"codigo region\": 11}, {\"date\": \"2020-03-03\", \"region\": \"Los R\\u00edos\", \"casos\": 0, \"codigo region\": 12}, {\"date\": \"2020-03-03\", \"region\": \"Los Lagos\", \"casos\": 0, \"codigo region\": 13}, {\"date\": \"2020-03-03\", \"region\": \"Ays\\u00e9n\", \"casos\": 0, \"codigo region\": 14}, {\"date\": \"2020-03-03\", \"region\": \"Magallanes\", \"casos\": 0, \"codigo region\": 15}, {\"date\": \"2020-03-04\", \"region\": \"Arica y Parinacota\", \"casos\": 0, \"codigo region\": 0}, {\"date\": \"2020-03-04\", \"region\": \"Tarapac\\u00e1\", \"casos\": 0, \"codigo region\": 1}, {\"date\": \"2020-03-04\", \"region\": \"Antofagasta\", \"casos\": 0, \"codigo region\": 2}, {\"date\": \"2020-03-04\", \"region\": \"Atacama\", \"casos\": 0, \"codigo region\": 3}, {\"date\": \"2020-03-04\", \"region\": \"Coquimbo\", \"casos\": 0, \"codigo region\": 4}, {\"date\": \"2020-03-04\", \"region\": \"Valpara\\u00edso\", \"casos\": 0, \"codigo region\": 5}, {\"date\": \"2020-03-04\", \"region\": \"Metropolitana\", \"casos\": 1, \"codigo region\": 6}, {\"date\": \"2020-03-04\", \"region\": \"O\\u2019Higgins\", \"casos\": 0, \"codigo region\": 7}, {\"date\": \"2020-03-04\", \"region\": \"Maule\", \"casos\": 1, \"codigo region\": 8}, {\"date\": \"2020-03-04\", \"region\": \"\\u00d1uble\", \"casos\": 0, \"codigo region\": 9}, {\"date\": \"2020-03-04\", \"region\": \"Biob\\u00edo\", \"casos\": 0, \"codigo region\": 10}, {\"date\": \"2020-03-04\", \"region\": \"Araucan\\u00eda\", \"casos\": 0, \"codigo region\": 11}, {\"date\": \"2020-03-04\", \"region\": \"Los R\\u00edos\", \"casos\": 0, \"codigo region\": 12}, {\"date\": \"2020-03-04\", \"region\": \"Los Lagos\", \"casos\": 0, \"codigo region\": 13}, {\"date\": \"2020-03-04\", \"region\": \"Ays\\u00e9n\", \"casos\": 0, \"codigo region\": 14}, {\"date\": \"2020-03-04\", \"region\": \"Magallanes\", \"casos\": 0, \"codigo region\": 15}, {\"date\": \"2020-03-05\", \"region\": \"Arica y Parinacota\", \"casos\": 0, \"codigo region\": 0}, {\"date\": \"2020-03-05\", \"region\": \"Tarapac\\u00e1\", \"casos\": 0, \"codigo region\": 1}, {\"date\": \"2020-03-05\", \"region\": \"Antofagasta\", \"casos\": 0, \"codigo region\": 2}, {\"date\": \"2020-03-05\", \"region\": \"Atacama\", \"casos\": 0, \"codigo region\": 3}, {\"date\": \"2020-03-05\", \"region\": \"Coquimbo\", \"casos\": 0, \"codigo region\": 4}, {\"date\": \"2020-03-05\", \"region\": \"Valpara\\u00edso\", \"casos\": 0, \"codigo region\": 5}, {\"date\": \"2020-03-05\", \"region\": \"Metropolitana\", \"casos\": 1, \"codigo region\": 6}, {\"date\": \"2020-03-05\", \"region\": \"O\\u2019Higgins\", \"casos\": 0, \"codigo region\": 7}, {\"date\": \"2020-03-05\", \"region\": \"Maule\", \"casos\": 0, \"codigo region\": 8}, {\"date\": \"2020-03-05\", \"region\": \"\\u00d1uble\", \"casos\": 0, \"codigo region\": 9}, {\"date\": \"2020-03-05\", \"region\": \"Biob\\u00edo\", \"casos\": 0, \"codigo region\": 10}, {\"date\": \"2020-03-05\", \"region\": \"Araucan\\u00eda\", \"casos\": 0, \"codigo region\": 11}, {\"date\": \"2020-03-05\", \"region\": \"Los R\\u00edos\", \"casos\": 0, \"codigo region\": 12}, {\"date\": \"2020-03-05\", \"region\": \"Los Lagos\", \"casos\": 0, \"codigo region\": 13}, {\"date\": \"2020-03-05\", \"region\": \"Ays\\u00e9n\", \"casos\": 0, \"codigo region\": 14}, {\"date\": \"2020-03-05\", \"region\": \"Magallanes\", \"casos\": 0, \"codigo region\": 15}, {\"date\": \"2020-03-06\", \"region\": \"Arica y Parinacota\", \"casos\": 0, \"codigo region\": 0}, {\"date\": \"2020-03-06\", \"region\": \"Tarapac\\u00e1\", \"casos\": 0, \"codigo region\": 1}, {\"date\": \"2020-03-06\", \"region\": \"Antofagasta\", \"casos\": 0, \"codigo region\": 2}, {\"date\": \"2020-03-06\", \"region\": \"Atacama\", \"casos\": 0, \"codigo region\": 3}, {\"date\": \"2020-03-06\", \"region\": \"Coquimbo\", \"casos\": 0, \"codigo region\": 4}, {\"date\": \"2020-03-06\", \"region\": \"Valpara\\u00edso\", \"casos\": 0, \"codigo region\": 5}, {\"date\": \"2020-03-06\", \"region\": \"Metropolitana\", \"casos\": 1, \"codigo region\": 6}, {\"date\": \"2020-03-06\", \"region\": \"O\\u2019Higgins\", \"casos\": 0, \"codigo region\": 7}, {\"date\": \"2020-03-06\", \"region\": \"Maule\", \"casos\": 0, \"codigo region\": 8}, {\"date\": \"2020-03-06\", \"region\": \"\\u00d1uble\", \"casos\": 0, \"codigo region\": 9}, {\"date\": \"2020-03-06\", \"region\": \"Biob\\u00edo\", \"casos\": 0, \"codigo region\": 10}, {\"date\": \"2020-03-06\", \"region\": \"Araucan\\u00eda\", \"casos\": 0, \"codigo region\": 11}, {\"date\": \"2020-03-06\", \"region\": \"Los R\\u00edos\", \"casos\": 0, \"codigo region\": 12}, {\"date\": \"2020-03-06\", \"region\": \"Los Lagos\", \"casos\": 0, \"codigo region\": 13}, {\"date\": \"2020-03-06\", \"region\": \"Ays\\u00e9n\", \"casos\": 0, \"codigo region\": 14}, {\"date\": \"2020-03-06\", \"region\": \"Magallanes\", \"casos\": 0, \"codigo region\": 15}, {\"date\": \"2020-03-07\", \"region\": \"Arica y Parinacota\", \"casos\": 0, \"codigo region\": 0}, {\"date\": \"2020-03-07\", \"region\": \"Tarapac\\u00e1\", \"casos\": 0, \"codigo region\": 1}, {\"date\": \"2020-03-07\", \"region\": \"Antofagasta\", \"casos\": 0, \"codigo region\": 2}, {\"date\": \"2020-03-07\", \"region\": \"Atacama\", \"casos\": 0, \"codigo region\": 3}, {\"date\": \"2020-03-07\", \"region\": \"Coquimbo\", \"casos\": 0, \"codigo region\": 4}, {\"date\": \"2020-03-07\", \"region\": \"Valpara\\u00edso\", \"casos\": 0, \"codigo region\": 5}, {\"date\": \"2020-03-07\", \"region\": \"Metropolitana\", \"casos\": 1, \"codigo region\": 6}, {\"date\": \"2020-03-07\", \"region\": \"O\\u2019Higgins\", \"casos\": 0, \"codigo region\": 7}, {\"date\": \"2020-03-07\", \"region\": \"Maule\", \"casos\": 0, \"codigo region\": 8}, {\"date\": \"2020-03-07\", \"region\": \"\\u00d1uble\", \"casos\": 0, \"codigo region\": 9}, {\"date\": \"2020-03-07\", \"region\": \"Biob\\u00edo\", \"casos\": 0, \"codigo region\": 10}, {\"date\": \"2020-03-07\", \"region\": \"Araucan\\u00eda\", \"casos\": 0, \"codigo region\": 11}, {\"date\": \"2020-03-07\", \"region\": \"Los R\\u00edos\", \"casos\": 0, \"codigo region\": 12}, {\"date\": \"2020-03-07\", \"region\": \"Los Lagos\", \"casos\": 1, \"codigo region\": 13}, {\"date\": \"2020-03-07\", \"region\": \"Ays\\u00e9n\", \"casos\": 0, \"codigo region\": 14}, {\"date\": \"2020-03-07\", \"region\": \"Magallanes\", \"casos\": 0, \"codigo region\": 15}, {\"date\": \"2020-03-08\", \"region\": \"Arica y Parinacota\", \"casos\": 0, \"codigo region\": 0}, {\"date\": \"2020-03-08\", \"region\": \"Tarapac\\u00e1\", \"casos\": 0, \"codigo region\": 1}, {\"date\": \"2020-03-08\", \"region\": \"Antofagasta\", \"casos\": 0, \"codigo region\": 2}, {\"date\": \"2020-03-08\", \"region\": \"Atacama\", \"casos\": 0, \"codigo region\": 3}, {\"date\": \"2020-03-08\", \"region\": \"Coquimbo\", \"casos\": 0, \"codigo region\": 4}, {\"date\": \"2020-03-08\", \"region\": \"Valpara\\u00edso\", \"casos\": 0, \"codigo region\": 5}, {\"date\": \"2020-03-08\", \"region\": \"Metropolitana\", \"casos\": 2, \"codigo region\": 6}, {\"date\": \"2020-03-08\", \"region\": \"O\\u2019Higgins\", \"casos\": 0, \"codigo region\": 7}, {\"date\": \"2020-03-08\", \"region\": \"Maule\", \"casos\": 1, \"codigo region\": 8}, {\"date\": \"2020-03-08\", \"region\": \"\\u00d1uble\", \"casos\": 0, \"codigo region\": 9}, {\"date\": \"2020-03-08\", \"region\": \"Biob\\u00edo\", \"casos\": 0, \"codigo region\": 10}, {\"date\": \"2020-03-08\", \"region\": \"Araucan\\u00eda\", \"casos\": 0, \"codigo region\": 11}, {\"date\": \"2020-03-08\", \"region\": \"Los R\\u00edos\", \"casos\": 0, \"codigo region\": 12}, {\"date\": \"2020-03-08\", \"region\": \"Los Lagos\", \"casos\": 0, \"codigo region\": 13}, {\"date\": \"2020-03-08\", \"region\": \"Ays\\u00e9n\", \"casos\": 0, \"codigo region\": 14}, {\"date\": \"2020-03-08\", \"region\": \"Magallanes\", \"casos\": 0, \"codigo region\": 15}, {\"date\": \"2020-03-09\", \"region\": \"Arica y Parinacota\", \"casos\": 0, \"codigo region\": 0}, {\"date\": \"2020-03-09\", \"region\": \"Tarapac\\u00e1\", \"casos\": 0, \"codigo region\": 1}, {\"date\": \"2020-03-09\", \"region\": \"Antofagasta\", \"casos\": 0, \"codigo region\": 2}, {\"date\": \"2020-03-09\", \"region\": \"Atacama\", \"casos\": 0, \"codigo region\": 3}, {\"date\": \"2020-03-09\", \"region\": \"Coquimbo\", \"casos\": 0, \"codigo region\": 4}, {\"date\": \"2020-03-09\", \"region\": \"Valpara\\u00edso\", \"casos\": 0, \"codigo region\": 5}, {\"date\": \"2020-03-09\", \"region\": \"Metropolitana\", \"casos\": 3, \"codigo region\": 6}, {\"date\": \"2020-03-09\", \"region\": \"O\\u2019Higgins\", \"casos\": 0, \"codigo region\": 7}, {\"date\": \"2020-03-09\", \"region\": \"Maule\", \"casos\": 1, \"codigo region\": 8}, {\"date\": \"2020-03-09\", \"region\": \"\\u00d1uble\", \"casos\": 0, \"codigo region\": 9}, {\"date\": \"2020-03-09\", \"region\": \"Biob\\u00edo\", \"casos\": 1, \"codigo region\": 10}, {\"date\": \"2020-03-09\", \"region\": \"Araucan\\u00eda\", \"casos\": 0, \"codigo region\": 11}, {\"date\": \"2020-03-09\", \"region\": \"Los R\\u00edos\", \"casos\": 0, \"codigo region\": 12}, {\"date\": \"2020-03-09\", \"region\": \"Los Lagos\", \"casos\": 0, \"codigo region\": 13}, {\"date\": \"2020-03-09\", \"region\": \"Ays\\u00e9n\", \"casos\": 0, \"codigo region\": 14}, {\"date\": \"2020-03-09\", \"region\": \"Magallanes\", \"casos\": 0, \"codigo region\": 15}, {\"date\": \"2020-03-10\", \"region\": \"Arica y Parinacota\", \"casos\": 0, \"codigo region\": 0}, {\"date\": \"2020-03-10\", \"region\": \"Tarapac\\u00e1\", \"casos\": 0, \"codigo region\": 1}, {\"date\": \"2020-03-10\", \"region\": \"Antofagasta\", \"casos\": 0, \"codigo region\": 2}, {\"date\": \"2020-03-10\", \"region\": \"Atacama\", \"casos\": 0, \"codigo region\": 3}, {\"date\": \"2020-03-10\", \"region\": \"Coquimbo\", \"casos\": 0, \"codigo region\": 4}, {\"date\": \"2020-03-10\", \"region\": \"Valpara\\u00edso\", \"casos\": 0, \"codigo region\": 5}, {\"date\": \"2020-03-10\", \"region\": \"Metropolitana\", \"casos\": 1, \"codigo region\": 6}, {\"date\": \"2020-03-10\", \"region\": \"O\\u2019Higgins\", \"casos\": 0, \"codigo region\": 7}, {\"date\": \"2020-03-10\", \"region\": \"Maule\", \"casos\": 1, \"codigo region\": 8}, {\"date\": \"2020-03-10\", \"region\": \"\\u00d1uble\", \"casos\": 0, \"codigo region\": 9}, {\"date\": \"2020-03-10\", \"region\": \"Biob\\u00edo\", \"casos\": 0, \"codigo region\": 10}, {\"date\": \"2020-03-10\", \"region\": \"Araucan\\u00eda\", \"casos\": 0, \"codigo region\": 11}, {\"date\": \"2020-03-10\", \"region\": \"Los R\\u00edos\", \"casos\": 0, \"codigo region\": 12}, {\"date\": \"2020-03-10\", \"region\": \"Los Lagos\", \"casos\": 0, \"codigo region\": 13}, {\"date\": \"2020-03-10\", \"region\": \"Ays\\u00e9n\", \"casos\": 0, \"codigo region\": 14}, {\"date\": \"2020-03-10\", \"region\": \"Magallanes\", \"casos\": 0, \"codigo region\": 15}, {\"date\": \"2020-03-11\", \"region\": \"Arica y Parinacota\", \"casos\": 0, \"codigo region\": 0}, {\"date\": \"2020-03-11\", \"region\": \"Tarapac\\u00e1\", \"casos\": 0, \"codigo region\": 1}, {\"date\": \"2020-03-11\", \"region\": \"Antofagasta\", \"casos\": 0, \"codigo region\": 2}, {\"date\": \"2020-03-11\", \"region\": \"Atacama\", \"casos\": 0, \"codigo region\": 3}, {\"date\": \"2020-03-11\", \"region\": \"Coquimbo\", \"casos\": 0, \"codigo region\": 4}, {\"date\": \"2020-03-11\", \"region\": \"Valpara\\u00edso\", \"casos\": 0, \"codigo region\": 5}, {\"date\": \"2020-03-11\", \"region\": \"Metropolitana\", \"casos\": 4, \"codigo region\": 6}, {\"date\": \"2020-03-11\", \"region\": \"O\\u2019Higgins\", \"casos\": 0, \"codigo region\": 7}, {\"date\": \"2020-03-11\", \"region\": \"Maule\", \"casos\": 2, \"codigo region\": 8}, {\"date\": \"2020-03-11\", \"region\": \"\\u00d1uble\", \"casos\": 0, \"codigo region\": 9}, {\"date\": \"2020-03-11\", \"region\": \"Biob\\u00edo\", \"casos\": 0, \"codigo region\": 10}, {\"date\": \"2020-03-11\", \"region\": \"Araucan\\u00eda\", \"casos\": 0, \"codigo region\": 11}, {\"date\": \"2020-03-11\", \"region\": \"Los R\\u00edos\", \"casos\": 0, \"codigo region\": 12}, {\"date\": \"2020-03-11\", \"region\": \"Los Lagos\", \"casos\": 0, \"codigo region\": 13}, {\"date\": \"2020-03-11\", \"region\": \"Ays\\u00e9n\", \"casos\": 0, \"codigo region\": 14}, {\"date\": \"2020-03-11\", \"region\": \"Magallanes\", \"casos\": 0, \"codigo region\": 15}, {\"date\": \"2020-03-12\", \"region\": \"Arica y Parinacota\", \"casos\": 0, \"codigo region\": 0}, {\"date\": \"2020-03-12\", \"region\": \"Tarapac\\u00e1\", \"casos\": 0, \"codigo region\": 1}, {\"date\": \"2020-03-12\", \"region\": \"Antofagasta\", \"casos\": 0, \"codigo region\": 2}, {\"date\": \"2020-03-12\", \"region\": \"Atacama\", \"casos\": 0, \"codigo region\": 3}, {\"date\": \"2020-03-12\", \"region\": \"Coquimbo\", \"casos\": 0, \"codigo region\": 4}, {\"date\": \"2020-03-12\", \"region\": \"Valpara\\u00edso\", \"casos\": 0, \"codigo region\": 5}, {\"date\": \"2020-03-12\", \"region\": \"Metropolitana\", \"casos\": 9, \"codigo region\": 6}, {\"date\": \"2020-03-12\", \"region\": \"O\\u2019Higgins\", \"casos\": 0, \"codigo region\": 7}, {\"date\": \"2020-03-12\", \"region\": \"Maule\", \"casos\": 0, \"codigo region\": 8}, {\"date\": \"2020-03-12\", \"region\": \"\\u00d1uble\", \"casos\": 1, \"codigo region\": 9}, {\"date\": \"2020-03-12\", \"region\": \"Biob\\u00edo\", \"casos\": 0, \"codigo region\": 10}, {\"date\": \"2020-03-12\", \"region\": \"Araucan\\u00eda\", \"casos\": 0, \"codigo region\": 11}, {\"date\": \"2020-03-12\", \"region\": \"Los R\\u00edos\", \"casos\": 0, \"codigo region\": 12}, {\"date\": \"2020-03-12\", \"region\": \"Los Lagos\", \"casos\": 0, \"codigo region\": 13}, {\"date\": \"2020-03-12\", \"region\": \"Ays\\u00e9n\", \"casos\": 0, \"codigo region\": 14}, {\"date\": \"2020-03-12\", \"region\": \"Magallanes\", \"casos\": 0, \"codigo region\": 15}, {\"date\": \"2020-03-13\", \"region\": \"Arica y Parinacota\", \"casos\": 0, \"codigo region\": 0}, {\"date\": \"2020-03-13\", \"region\": \"Tarapac\\u00e1\", \"casos\": 0, \"codigo region\": 1}, {\"date\": \"2020-03-13\", \"region\": \"Antofagasta\", \"casos\": 0, \"codigo region\": 2}, {\"date\": \"2020-03-13\", \"region\": \"Atacama\", \"casos\": 0, \"codigo region\": 3}, {\"date\": \"2020-03-13\", \"region\": \"Coquimbo\", \"casos\": 0, \"codigo region\": 4}, {\"date\": \"2020-03-13\", \"region\": \"Valpara\\u00edso\", \"casos\": 0, \"codigo region\": 5}, {\"date\": \"2020-03-13\", \"region\": \"Metropolitana\", \"casos\": 6, \"codigo region\": 6}, {\"date\": \"2020-03-13\", \"region\": \"O\\u2019Higgins\", \"casos\": 0, \"codigo region\": 7}, {\"date\": \"2020-03-13\", \"region\": \"Maule\", \"casos\": 1, \"codigo region\": 8}, {\"date\": \"2020-03-13\", \"region\": \"\\u00d1uble\", \"casos\": 1, \"codigo region\": 9}, {\"date\": \"2020-03-13\", \"region\": \"Biob\\u00edo\", \"casos\": 2, \"codigo region\": 10}, {\"date\": \"2020-03-13\", \"region\": \"Araucan\\u00eda\", \"casos\": 0, \"codigo region\": 11}, {\"date\": \"2020-03-13\", \"region\": \"Los R\\u00edos\", \"casos\": 0, \"codigo region\": 12}, {\"date\": \"2020-03-13\", \"region\": \"Los Lagos\", \"casos\": 0, \"codigo region\": 13}, {\"date\": \"2020-03-13\", \"region\": \"Ays\\u00e9n\", \"casos\": 0, \"codigo region\": 14}, {\"date\": \"2020-03-13\", \"region\": \"Magallanes\", \"casos\": 0, \"codigo region\": 15}, {\"date\": \"2020-03-14\", \"region\": \"Arica y Parinacota\", \"casos\": 0, \"codigo region\": 0}, {\"date\": \"2020-03-14\", \"region\": \"Tarapac\\u00e1\", \"casos\": 0, \"codigo region\": 1}, {\"date\": \"2020-03-14\", \"region\": \"Antofagasta\", \"casos\": 2, \"codigo region\": 2}, {\"date\": \"2020-03-14\", \"region\": \"Atacama\", \"casos\": 1, \"codigo region\": 3}, {\"date\": \"2020-03-14\", \"region\": \"Coquimbo\", \"casos\": 0, \"codigo region\": 4}, {\"date\": \"2020-03-14\", \"region\": \"Valpara\\u00edso\", \"casos\": 0, \"codigo region\": 5}, {\"date\": \"2020-03-14\", \"region\": \"Metropolitana\", \"casos\": 11, \"codigo region\": 6}, {\"date\": \"2020-03-14\", \"region\": \"O\\u2019Higgins\", \"casos\": 0, \"codigo region\": 7}, {\"date\": \"2020-03-14\", \"region\": \"Maule\", \"casos\": 1, \"codigo region\": 8}, {\"date\": \"2020-03-14\", \"region\": \"\\u00d1uble\", \"casos\": 2, \"codigo region\": 9}, {\"date\": \"2020-03-14\", \"region\": \"Biob\\u00edo\", \"casos\": 0, \"codigo region\": 10}, {\"date\": \"2020-03-14\", \"region\": \"Araucan\\u00eda\", \"casos\": 0, \"codigo region\": 11}, {\"date\": \"2020-03-14\", \"region\": \"Los R\\u00edos\", \"casos\": 0, \"codigo region\": 12}, {\"date\": \"2020-03-14\", \"region\": \"Los Lagos\", \"casos\": 0, \"codigo region\": 13}, {\"date\": \"2020-03-14\", \"region\": \"Ays\\u00e9n\", \"casos\": 1, \"codigo region\": 14}, {\"date\": \"2020-03-14\", \"region\": \"Magallanes\", \"casos\": 0, \"codigo region\": 15}, {\"date\": \"2020-03-15\", \"region\": \"Arica y Parinacota\", \"casos\": 0, \"codigo region\": 0}, {\"date\": \"2020-03-15\", \"region\": \"Tarapac\\u00e1\", \"casos\": 0, \"codigo region\": 1}, {\"date\": \"2020-03-15\", \"region\": \"Antofagasta\", \"casos\": 0, \"codigo region\": 2}, {\"date\": \"2020-03-15\", \"region\": \"Atacama\", \"casos\": 0, \"codigo region\": 3}, {\"date\": \"2020-03-15\", \"region\": \"Coquimbo\", \"casos\": 0, \"codigo region\": 4}, {\"date\": \"2020-03-15\", \"region\": \"Valpara\\u00edso\", \"casos\": 0, \"codigo region\": 5}, {\"date\": \"2020-03-15\", \"region\": \"Metropolitana\", \"casos\": 14, \"codigo region\": 6}, {\"date\": \"2020-03-15\", \"region\": \"O\\u2019Higgins\", \"casos\": 0, \"codigo region\": 7}, {\"date\": \"2020-03-15\", \"region\": \"Maule\", \"casos\": 0, \"codigo region\": 8}, {\"date\": \"2020-03-15\", \"region\": \"\\u00d1uble\", \"casos\": 0, \"codigo region\": 9}, {\"date\": \"2020-03-15\", \"region\": \"Biob\\u00edo\", \"casos\": 0, \"codigo region\": 10}, {\"date\": \"2020-03-15\", \"region\": \"Araucan\\u00eda\", \"casos\": 0, \"codigo region\": 11}, {\"date\": \"2020-03-15\", \"region\": \"Los R\\u00edos\", \"casos\": 0, \"codigo region\": 12}, {\"date\": \"2020-03-15\", \"region\": \"Los Lagos\", \"casos\": 0, \"codigo region\": 13}, {\"date\": \"2020-03-15\", \"region\": \"Ays\\u00e9n\", \"casos\": 0, \"codigo region\": 14}, {\"date\": \"2020-03-15\", \"region\": \"Magallanes\", \"casos\": 0, \"codigo region\": 15}, {\"date\": \"2020-03-16\", \"region\": \"Arica y Parinacota\", \"casos\": 0, \"codigo region\": 0}, {\"date\": \"2020-03-16\", \"region\": \"Tarapac\\u00e1\", \"casos\": 0, \"codigo region\": 1}, {\"date\": \"2020-03-16\", \"region\": \"Antofagasta\", \"casos\": 0, \"codigo region\": 2}, {\"date\": \"2020-03-16\", \"region\": \"Atacama\", \"casos\": 0, \"codigo region\": 3}, {\"date\": \"2020-03-16\", \"region\": \"Coquimbo\", \"casos\": 0, \"codigo region\": 4}, {\"date\": \"2020-03-16\", \"region\": \"Valpara\\u00edso\", \"casos\": 1, \"codigo region\": 5}, {\"date\": \"2020-03-16\", \"region\": \"Metropolitana\", \"casos\": 69, \"codigo region\": 6}, {\"date\": \"2020-03-16\", \"region\": \"O\\u2019Higgins\", \"casos\": 0, \"codigo region\": 7}, {\"date\": \"2020-03-16\", \"region\": \"Maule\", \"casos\": 0, \"codigo region\": 8}, {\"date\": \"2020-03-16\", \"region\": \"\\u00d1uble\", \"casos\": 8, \"codigo region\": 9}, {\"date\": \"2020-03-16\", \"region\": \"Biob\\u00edo\", \"casos\": 1, \"codigo region\": 10}, {\"date\": \"2020-03-16\", \"region\": \"Araucan\\u00eda\", \"casos\": 1, \"codigo region\": 11}, {\"date\": \"2020-03-16\", \"region\": \"Los R\\u00edos\", \"casos\": 1, \"codigo region\": 12}, {\"date\": \"2020-03-16\", \"region\": \"Los Lagos\", \"casos\": 0, \"codigo region\": 13}, {\"date\": \"2020-03-16\", \"region\": \"Ays\\u00e9n\", \"casos\": 0, \"codigo region\": 14}, {\"date\": \"2020-03-16\", \"region\": \"Magallanes\", \"casos\": 0, \"codigo region\": 15}, {\"date\": \"2020-03-17\", \"region\": \"Arica y Parinacota\", \"casos\": 0, \"codigo region\": 0}, {\"date\": \"2020-03-17\", \"region\": \"Tarapac\\u00e1\", \"casos\": 0, \"codigo region\": 1}, {\"date\": \"2020-03-17\", \"region\": \"Antofagasta\", \"casos\": 0, \"codigo region\": 2}, {\"date\": \"2020-03-17\", \"region\": \"Atacama\", \"casos\": 0, \"codigo region\": 3}, {\"date\": \"2020-03-17\", \"region\": \"Coquimbo\", \"casos\": 0, \"codigo region\": 4}, {\"date\": \"2020-03-17\", \"region\": \"Valpara\\u00edso\", \"casos\": 0, \"codigo region\": 5}, {\"date\": \"2020-03-17\", \"region\": \"Metropolitana\", \"casos\": 29, \"codigo region\": 6}, {\"date\": \"2020-03-17\", \"region\": \"O\\u2019Higgins\", \"casos\": 0, \"codigo region\": 7}, {\"date\": \"2020-03-17\", \"region\": \"Maule\", \"casos\": 0, \"codigo region\": 8}, {\"date\": \"2020-03-17\", \"region\": \"\\u00d1uble\", \"casos\": 14, \"codigo region\": 9}, {\"date\": \"2020-03-17\", \"region\": \"Biob\\u00edo\", \"casos\": 0, \"codigo region\": 10}, {\"date\": \"2020-03-17\", \"region\": \"Araucan\\u00eda\", \"casos\": 0, \"codigo region\": 11}, {\"date\": \"2020-03-17\", \"region\": \"Los R\\u00edos\", \"casos\": 0, \"codigo region\": 12}, {\"date\": \"2020-03-17\", \"region\": \"Los Lagos\", \"casos\": 0, \"codigo region\": 13}, {\"date\": \"2020-03-17\", \"region\": \"Ays\\u00e9n\", \"casos\": 0, \"codigo region\": 14}, {\"date\": \"2020-03-17\", \"region\": \"Magallanes\", \"casos\": 2, \"codigo region\": 15}, {\"date\": \"2020-03-18\", \"region\": \"Arica y Parinacota\", \"casos\": 0, \"codigo region\": 0}, {\"date\": \"2020-03-18\", \"region\": \"Tarapac\\u00e1\", \"casos\": 0, \"codigo region\": 1}, {\"date\": \"2020-03-18\", \"region\": \"Antofagasta\", \"casos\": 0, \"codigo region\": 2}, {\"date\": \"2020-03-18\", \"region\": \"Atacama\", \"casos\": 0, \"codigo region\": 3}, {\"date\": \"2020-03-18\", \"region\": \"Coquimbo\", \"casos\": 0, \"codigo region\": 4}, {\"date\": \"2020-03-18\", \"region\": \"Valpara\\u00edso\", \"casos\": 0, \"codigo region\": 5}, {\"date\": \"2020-03-18\", \"region\": \"Metropolitana\", \"casos\": 22, \"codigo region\": 6}, {\"date\": \"2020-03-18\", \"region\": \"O\\u2019Higgins\", \"casos\": 0, \"codigo region\": 7}, {\"date\": \"2020-03-18\", \"region\": \"Maule\", \"casos\": 2, \"codigo region\": 8}, {\"date\": \"2020-03-18\", \"region\": \"\\u00d1uble\", \"casos\": 0, \"codigo region\": 9}, {\"date\": \"2020-03-18\", \"region\": \"Biob\\u00edo\", \"casos\": 3, \"codigo region\": 10}, {\"date\": \"2020-03-18\", \"region\": \"Araucan\\u00eda\", \"casos\": 3, \"codigo region\": 11}, {\"date\": \"2020-03-18\", \"region\": \"Los R\\u00edos\", \"casos\": 0, \"codigo region\": 12}, {\"date\": \"2020-03-18\", \"region\": \"Los Lagos\", \"casos\": 7, \"codigo region\": 13}, {\"date\": \"2020-03-18\", \"region\": \"Ays\\u00e9n\", \"casos\": 0, \"codigo region\": 14}, {\"date\": \"2020-03-18\", \"region\": \"Magallanes\", \"casos\": 0, \"codigo region\": 15}, {\"date\": \"2020-03-19\", \"region\": \"Arica y Parinacota\", \"casos\": 1, \"codigo region\": 0}, {\"date\": \"2020-03-19\", \"region\": \"Tarapac\\u00e1\", \"casos\": 0, \"codigo region\": 1}, {\"date\": \"2020-03-19\", \"region\": \"Antofagasta\", \"casos\": 0, \"codigo region\": 2}, {\"date\": \"2020-03-19\", \"region\": \"Atacama\", \"casos\": 0, \"codigo region\": 3}, {\"date\": \"2020-03-19\", \"region\": \"Coquimbo\", \"casos\": 2, \"codigo region\": 4}, {\"date\": \"2020-03-19\", \"region\": \"Valpara\\u00edso\", \"casos\": 3, \"codigo region\": 5}, {\"date\": \"2020-03-19\", \"region\": \"Metropolitana\", \"casos\": 73, \"codigo region\": 6}, {\"date\": \"2020-03-19\", \"region\": \"O\\u2019Higgins\", \"casos\": 2, \"codigo region\": 7}, {\"date\": \"2020-03-19\", \"region\": \"Maule\", \"casos\": 3, \"codigo region\": 8}, {\"date\": \"2020-03-19\", \"region\": \"\\u00d1uble\", \"casos\": 2, \"codigo region\": 9}, {\"date\": \"2020-03-19\", \"region\": \"Biob\\u00edo\", \"casos\": 7, \"codigo region\": 10}, {\"date\": \"2020-03-19\", \"region\": \"Araucan\\u00eda\", \"casos\": 3, \"codigo region\": 11}, {\"date\": \"2020-03-19\", \"region\": \"Los R\\u00edos\", \"casos\": 0, \"codigo region\": 12}, {\"date\": \"2020-03-19\", \"region\": \"Los Lagos\", \"casos\": 8, \"codigo region\": 13}, {\"date\": \"2020-03-19\", \"region\": \"Ays\\u00e9n\", \"casos\": 0, \"codigo region\": 14}, {\"date\": \"2020-03-19\", \"region\": \"Magallanes\", \"casos\": 0, \"codigo region\": 15}, {\"date\": \"2020-03-20\", \"region\": \"Arica y Parinacota\", \"casos\": 0, \"codigo region\": 0}, {\"date\": \"2020-03-20\", \"region\": \"Tarapac\\u00e1\", \"casos\": 0, \"codigo region\": 1}, {\"date\": \"2020-03-20\", \"region\": \"Antofagasta\", \"casos\": 4, \"codigo region\": 2}, {\"date\": \"2020-03-20\", \"region\": \"Atacama\", \"casos\": 0, \"codigo region\": 3}, {\"date\": \"2020-03-20\", \"region\": \"Coquimbo\", \"casos\": 1, \"codigo region\": 4}, {\"date\": \"2020-03-20\", \"region\": \"Valpara\\u00edso\", \"casos\": 1, \"codigo region\": 5}, {\"date\": \"2020-03-20\", \"region\": \"Metropolitana\", \"casos\": 57, \"codigo region\": 6}, {\"date\": \"2020-03-20\", \"region\": \"O\\u2019Higgins\", \"casos\": 4, \"codigo region\": 7}, {\"date\": \"2020-03-20\", \"region\": \"Maule\", \"casos\": 0, \"codigo region\": 8}, {\"date\": \"2020-03-20\", \"region\": \"\\u00d1uble\", \"casos\": 16, \"codigo region\": 9}, {\"date\": \"2020-03-20\", \"region\": \"Biob\\u00edo\", \"casos\": 5, \"codigo region\": 10}, {\"date\": \"2020-03-20\", \"region\": \"Araucan\\u00eda\", \"casos\": 2, \"codigo region\": 11}, {\"date\": \"2020-03-20\", \"region\": \"Los R\\u00edos\", \"casos\": 0, \"codigo region\": 12}, {\"date\": \"2020-03-20\", \"region\": \"Los Lagos\", \"casos\": 2, \"codigo region\": 13}, {\"date\": \"2020-03-20\", \"region\": \"Ays\\u00e9n\", \"casos\": 0, \"codigo region\": 14}, {\"date\": \"2020-03-20\", \"region\": \"Magallanes\", \"casos\": 0, \"codigo region\": 15}, {\"date\": \"2020-03-21\", \"region\": \"Arica y Parinacota\", \"casos\": 0, \"codigo region\": 0}, {\"date\": \"2020-03-21\", \"region\": \"Tarapac\\u00e1\", \"casos\": 0, \"codigo region\": 1}, {\"date\": \"2020-03-21\", \"region\": \"Antofagasta\", \"casos\": 4, \"codigo region\": 2}, {\"date\": \"2020-03-21\", \"region\": \"Atacama\", \"casos\": 0, \"codigo region\": 3}, {\"date\": \"2020-03-21\", \"region\": \"Coquimbo\", \"casos\": 0, \"codigo region\": 4}, {\"date\": \"2020-03-21\", \"region\": \"Valpara\\u00edso\", \"casos\": 8, \"codigo region\": 5}, {\"date\": \"2020-03-21\", \"region\": \"Metropolitana\", \"casos\": 55, \"codigo region\": 6}, {\"date\": \"2020-03-21\", \"region\": \"O\\u2019Higgins\", \"casos\": 1, \"codigo region\": 7}, {\"date\": \"2020-03-21\", \"region\": \"Maule\", \"casos\": 1, \"codigo region\": 8}, {\"date\": \"2020-03-21\", \"region\": \"\\u00d1uble\", \"casos\": 14, \"codigo region\": 9}, {\"date\": \"2020-03-21\", \"region\": \"Biob\\u00edo\", \"casos\": 11, \"codigo region\": 10}, {\"date\": \"2020-03-21\", \"region\": \"Araucan\\u00eda\", \"casos\": 6, \"codigo region\": 11}, {\"date\": \"2020-03-21\", \"region\": \"Los R\\u00edos\", \"casos\": 0, \"codigo region\": 12}, {\"date\": \"2020-03-21\", \"region\": \"Los Lagos\", \"casos\": 2, \"codigo region\": 13}, {\"date\": \"2020-03-21\", \"region\": \"Ays\\u00e9n\", \"casos\": 0, \"codigo region\": 14}, {\"date\": \"2020-03-21\", \"region\": \"Magallanes\", \"casos\": 1, \"codigo region\": 15}, {\"date\": \"2020-03-22\", \"region\": \"Arica y Parinacota\", \"casos\": 1, \"codigo region\": 0}, {\"date\": \"2020-03-22\", \"region\": \"Tarapac\\u00e1\", \"casos\": 0, \"codigo region\": 1}, {\"date\": \"2020-03-22\", \"region\": \"Antofagasta\", \"casos\": 1, \"codigo region\": 2}, {\"date\": \"2020-03-22\", \"region\": \"Atacama\", \"casos\": 0, \"codigo region\": 3}, {\"date\": \"2020-03-22\", \"region\": \"Coquimbo\", \"casos\": 2, \"codigo region\": 4}, {\"date\": \"2020-03-22\", \"region\": \"Valpara\\u00edso\", \"casos\": 3, \"codigo region\": 5}, {\"date\": \"2020-03-22\", \"region\": \"Metropolitana\", \"casos\": 50, \"codigo region\": 6}, {\"date\": \"2020-03-22\", \"region\": \"O\\u2019Higgins\", \"casos\": 1, \"codigo region\": 7}, {\"date\": \"2020-03-22\", \"region\": \"Maule\", \"casos\": 10, \"codigo region\": 8}, {\"date\": \"2020-03-22\", \"region\": \"\\u00d1uble\", \"casos\": 6, \"codigo region\": 9}, {\"date\": \"2020-03-22\", \"region\": \"Biob\\u00edo\", \"casos\": 5, \"codigo region\": 10}, {\"date\": \"2020-03-22\", \"region\": \"Araucan\\u00eda\", \"casos\": 12, \"codigo region\": 11}, {\"date\": \"2020-03-22\", \"region\": \"Los R\\u00edos\", \"casos\": 0, \"codigo region\": 12}, {\"date\": \"2020-03-22\", \"region\": \"Los Lagos\", \"casos\": 3, \"codigo region\": 13}, {\"date\": \"2020-03-22\", \"region\": \"Ays\\u00e9n\", \"casos\": 0, \"codigo region\": 14}, {\"date\": \"2020-03-22\", \"region\": \"Magallanes\", \"casos\": 1, \"codigo region\": 15}, {\"date\": \"2020-03-23\", \"region\": \"Arica y Parinacota\", \"casos\": 0, \"codigo region\": 0}, {\"date\": \"2020-03-23\", \"region\": \"Tarapac\\u00e1\", \"casos\": 1, \"codigo region\": 1}, {\"date\": \"2020-03-23\", \"region\": \"Antofagasta\", \"casos\": 0, \"codigo region\": 2}, {\"date\": \"2020-03-23\", \"region\": \"Atacama\", \"casos\": 0, \"codigo region\": 3}, {\"date\": \"2020-03-23\", \"region\": \"Coquimbo\", \"casos\": 1, \"codigo region\": 4}, {\"date\": \"2020-03-23\", \"region\": \"Valpara\\u00edso\", \"casos\": 3, \"codigo region\": 5}, {\"date\": \"2020-03-23\", \"region\": \"Metropolitana\", \"casos\": 50, \"codigo region\": 6}, {\"date\": \"2020-03-23\", \"region\": \"O\\u2019Higgins\", \"casos\": 0, \"codigo region\": 7}, {\"date\": \"2020-03-23\", \"region\": \"Maule\", \"casos\": 3, \"codigo region\": 8}, {\"date\": \"2020-03-23\", \"region\": \"\\u00d1uble\", \"casos\": 17, \"codigo region\": 9}, {\"date\": \"2020-03-23\", \"region\": \"Biob\\u00edo\", \"casos\": 11, \"codigo region\": 10}, {\"date\": \"2020-03-23\", \"region\": \"Araucan\\u00eda\", \"casos\": 13, \"codigo region\": 11}, {\"date\": \"2020-03-23\", \"region\": \"Los R\\u00edos\", \"casos\": 3, \"codigo region\": 12}, {\"date\": \"2020-03-23\", \"region\": \"Los Lagos\", \"casos\": 10, \"codigo region\": 13}, {\"date\": \"2020-03-23\", \"region\": \"Ays\\u00e9n\", \"casos\": 0, \"codigo region\": 14}, {\"date\": \"2020-03-23\", \"region\": \"Magallanes\", \"casos\": 2, \"codigo region\": 15}, {\"date\": \"2020-03-24\", \"region\": \"Arica y Parinacota\", \"casos\": 0, \"codigo region\": 0}, {\"date\": \"2020-03-24\", \"region\": \"Tarapac\\u00e1\", \"casos\": 3, \"codigo region\": 1}, {\"date\": \"2020-03-24\", \"region\": \"Antofagasta\", \"casos\": 2, \"codigo region\": 2}, {\"date\": \"2020-03-24\", \"region\": \"Atacama\", \"casos\": 0, \"codigo region\": 3}, {\"date\": \"2020-03-24\", \"region\": \"Coquimbo\", \"casos\": 5, \"codigo region\": 4}, {\"date\": \"2020-03-24\", \"region\": \"Valpara\\u00edso\", \"casos\": 6, \"codigo region\": 5}, {\"date\": \"2020-03-24\", \"region\": \"Metropolitana\", \"casos\": 81, \"codigo region\": 6}, {\"date\": \"2020-03-24\", \"region\": \"O\\u2019Higgins\", \"casos\": 1, \"codigo region\": 7}, {\"date\": \"2020-03-24\", \"region\": \"Maule\", \"casos\": 1, \"codigo region\": 8}, {\"date\": \"2020-03-24\", \"region\": \"\\u00d1uble\", \"casos\": 24, \"codigo region\": 9}, {\"date\": \"2020-03-24\", \"region\": \"Biob\\u00edo\", \"casos\": 27, \"codigo region\": 10}, {\"date\": \"2020-03-24\", \"region\": \"Araucan\\u00eda\", \"casos\": 19, \"codigo region\": 11}, {\"date\": \"2020-03-24\", \"region\": \"Los R\\u00edos\", \"casos\": 2, \"codigo region\": 12}, {\"date\": \"2020-03-24\", \"region\": \"Los Lagos\", \"casos\": 3, \"codigo region\": 13}, {\"date\": \"2020-03-24\", \"region\": \"Ays\\u00e9n\", \"casos\": 0, \"codigo region\": 14}, {\"date\": \"2020-03-24\", \"region\": \"Magallanes\", \"casos\": 2, \"codigo region\": 15}, {\"date\": \"2020-03-25\", \"region\": \"Arica y Parinacota\", \"casos\": 0, \"codigo region\": 0}, {\"date\": \"2020-03-25\", \"region\": \"Tarapac\\u00e1\", \"casos\": 0, \"codigo region\": 1}, {\"date\": \"2020-03-25\", \"region\": \"Antofagasta\", \"casos\": 6, \"codigo region\": 2}, {\"date\": \"2020-03-25\", \"region\": \"Atacama\", \"casos\": 0, \"codigo region\": 3}, {\"date\": \"2020-03-25\", \"region\": \"Coquimbo\", \"casos\": 1, \"codigo region\": 4}, {\"date\": \"2020-03-25\", \"region\": \"Valpara\\u00edso\", \"casos\": 7, \"codigo region\": 5}, {\"date\": \"2020-03-25\", \"region\": \"Metropolitana\", \"casos\": 142, \"codigo region\": 6}, {\"date\": \"2020-03-25\", \"region\": \"O\\u2019Higgins\", \"casos\": 2, \"codigo region\": 7}, {\"date\": \"2020-03-25\", \"region\": \"Maule\", \"casos\": 1, \"codigo region\": 8}, {\"date\": \"2020-03-25\", \"region\": \"\\u00d1uble\", \"casos\": 6, \"codigo region\": 9}, {\"date\": \"2020-03-25\", \"region\": \"Biob\\u00edo\", \"casos\": 22, \"codigo region\": 10}, {\"date\": \"2020-03-25\", \"region\": \"Araucan\\u00eda\", \"casos\": 15, \"codigo region\": 11}, {\"date\": \"2020-03-25\", \"region\": \"Los R\\u00edos\", \"casos\": 5, \"codigo region\": 12}, {\"date\": \"2020-03-25\", \"region\": \"Los Lagos\", \"casos\": 8, \"codigo region\": 13}, {\"date\": \"2020-03-25\", \"region\": \"Ays\\u00e9n\", \"casos\": 0, \"codigo region\": 14}, {\"date\": \"2020-03-25\", \"region\": \"Magallanes\", \"casos\": 5, \"codigo region\": 15}, {\"date\": \"2020-03-26\", \"region\": \"Arica y Parinacota\", \"casos\": 1, \"codigo region\": 0}, {\"date\": \"2020-03-26\", \"region\": \"Tarapac\\u00e1\", \"casos\": 1, \"codigo region\": 1}, {\"date\": \"2020-03-26\", \"region\": \"Antofagasta\", \"casos\": 1, \"codigo region\": 2}, {\"date\": \"2020-03-26\", \"region\": \"Atacama\", \"casos\": 0, \"codigo region\": 3}, {\"date\": \"2020-03-26\", \"region\": \"Coquimbo\", \"casos\": 1, \"codigo region\": 4}, {\"date\": \"2020-03-26\", \"region\": \"Valpara\\u00edso\", \"casos\": 12, \"codigo region\": 5}, {\"date\": \"2020-03-26\", \"region\": \"Metropolitana\", \"casos\": 64, \"codigo region\": 6}, {\"date\": \"2020-03-26\", \"region\": \"O\\u2019Higgins\", \"casos\": 3, \"codigo region\": 7}, {\"date\": \"2020-03-26\", \"region\": \"Maule\", \"casos\": 1, \"codigo region\": 8}, {\"date\": \"2020-03-26\", \"region\": \"\\u00d1uble\", \"casos\": 3, \"codigo region\": 9}, {\"date\": \"2020-03-26\", \"region\": \"Biob\\u00edo\", \"casos\": 14, \"codigo region\": 10}, {\"date\": \"2020-03-26\", \"region\": \"Araucan\\u00eda\", \"casos\": 37, \"codigo region\": 11}, {\"date\": \"2020-03-26\", \"region\": \"Los R\\u00edos\", \"casos\": 3, \"codigo region\": 12}, {\"date\": \"2020-03-26\", \"region\": \"Los Lagos\", \"casos\": 16, \"codigo region\": 13}, {\"date\": \"2020-03-26\", \"region\": \"Ays\\u00e9n\", \"casos\": 1, \"codigo region\": 14}, {\"date\": \"2020-03-26\", \"region\": \"Magallanes\", \"casos\": 6, \"codigo region\": 15}, {\"date\": \"2020-03-27\", \"region\": \"Arica y Parinacota\", \"casos\": 0, \"codigo region\": 0}, {\"date\": \"2020-03-27\", \"region\": \"Tarapac\\u00e1\", \"casos\": 0, \"codigo region\": 1}, {\"date\": \"2020-03-27\", \"region\": \"Antofagasta\", \"casos\": 1, \"codigo region\": 2}, {\"date\": \"2020-03-27\", \"region\": \"Atacama\", \"casos\": 0, \"codigo region\": 3}, {\"date\": \"2020-03-27\", \"region\": \"Coquimbo\", \"casos\": 1, \"codigo region\": 4}, {\"date\": \"2020-03-27\", \"region\": \"Valpara\\u00edso\", \"casos\": 5, \"codigo region\": 5}, {\"date\": \"2020-03-27\", \"region\": \"Metropolitana\", \"casos\": 192, \"codigo region\": 6}, {\"date\": \"2020-03-27\", \"region\": \"O\\u2019Higgins\", \"casos\": 2, \"codigo region\": 7}, {\"date\": \"2020-03-27\", \"region\": \"Maule\", \"casos\": 1, \"codigo region\": 8}, {\"date\": \"2020-03-27\", \"region\": \"\\u00d1uble\", \"casos\": 30, \"codigo region\": 9}, {\"date\": \"2020-03-27\", \"region\": \"Biob\\u00edo\", \"casos\": 26, \"codigo region\": 10}, {\"date\": \"2020-03-27\", \"region\": \"Araucan\\u00eda\", \"casos\": 32, \"codigo region\": 11}, {\"date\": \"2020-03-27\", \"region\": \"Los R\\u00edos\", \"casos\": 8, \"codigo region\": 12}, {\"date\": \"2020-03-27\", \"region\": \"Los Lagos\", \"casos\": 3, \"codigo region\": 13}, {\"date\": \"2020-03-27\", \"region\": \"Ays\\u00e9n\", \"casos\": 0, \"codigo region\": 14}, {\"date\": \"2020-03-27\", \"region\": \"Magallanes\", \"casos\": 3, \"codigo region\": 15}, {\"date\": \"2020-03-28\", \"region\": \"Arica y Parinacota\", \"casos\": 0, \"codigo region\": 0}, {\"date\": \"2020-03-28\", \"region\": \"Tarapac\\u00e1\", \"casos\": 0, \"codigo region\": 1}, {\"date\": \"2020-03-28\", \"region\": \"Antofagasta\", \"casos\": 4, \"codigo region\": 2}, {\"date\": \"2020-03-28\", \"region\": \"Atacama\", \"casos\": 0, \"codigo region\": 3}, {\"date\": \"2020-03-28\", \"region\": \"Coquimbo\", \"casos\": 1, \"codigo region\": 4}, {\"date\": \"2020-03-28\", \"region\": \"Valpara\\u00edso\", \"casos\": 22, \"codigo region\": 5}, {\"date\": \"2020-03-28\", \"region\": \"Metropolitana\", \"casos\": 146, \"codigo region\": 6}, {\"date\": \"2020-03-28\", \"region\": \"O\\u2019Higgins\", \"casos\": 4, \"codigo region\": 7}, {\"date\": \"2020-03-28\", \"region\": \"Maule\", \"casos\": 5, \"codigo region\": 8}, {\"date\": \"2020-03-28\", \"region\": \"\\u00d1uble\", \"casos\": 28, \"codigo region\": 9}, {\"date\": \"2020-03-28\", \"region\": \"Biob\\u00edo\", \"casos\": 16, \"codigo region\": 10}, {\"date\": \"2020-03-28\", \"region\": \"Araucan\\u00eda\", \"casos\": 34, \"codigo region\": 11}, {\"date\": \"2020-03-28\", \"region\": \"Los R\\u00edos\", \"casos\": 5, \"codigo region\": 12}, {\"date\": \"2020-03-28\", \"region\": \"Los Lagos\", \"casos\": 30, \"codigo region\": 13}, {\"date\": \"2020-03-28\", \"region\": \"Ays\\u00e9n\", \"casos\": 0, \"codigo region\": 14}, {\"date\": \"2020-03-28\", \"region\": \"Magallanes\", \"casos\": 4, \"codigo region\": 15}, {\"date\": \"2020-03-29\", \"region\": \"Arica y Parinacota\", \"casos\": 1, \"codigo region\": 0}, {\"date\": \"2020-03-29\", \"region\": \"Tarapac\\u00e1\", \"casos\": 1, \"codigo region\": 1}, {\"date\": \"2020-03-29\", \"region\": \"Antofagasta\", \"casos\": 2, \"codigo region\": 2}, {\"date\": \"2020-03-29\", \"region\": \"Atacama\", \"casos\": 1, \"codigo region\": 3}, {\"date\": \"2020-03-29\", \"region\": \"Coquimbo\", \"casos\": 3, \"codigo region\": 4}, {\"date\": \"2020-03-29\", \"region\": \"Valpara\\u00edso\", \"casos\": 9, \"codigo region\": 5}, {\"date\": \"2020-03-29\", \"region\": \"Metropolitana\", \"casos\": 83, \"codigo region\": 6}, {\"date\": \"2020-03-29\", \"region\": \"O\\u2019Higgins\", \"casos\": 1, \"codigo region\": 7}, {\"date\": \"2020-03-29\", \"region\": \"Maule\", \"casos\": 5, \"codigo region\": 8}, {\"date\": \"2020-03-29\", \"region\": \"\\u00d1uble\", \"casos\": 25, \"codigo region\": 9}, {\"date\": \"2020-03-29\", \"region\": \"Biob\\u00edo\", \"casos\": 34, \"codigo region\": 10}, {\"date\": \"2020-03-29\", \"region\": \"Araucan\\u00eda\", \"casos\": 28, \"codigo region\": 11}, {\"date\": \"2020-03-29\", \"region\": \"Los R\\u00edos\", \"casos\": 13, \"codigo region\": 12}, {\"date\": \"2020-03-29\", \"region\": \"Los Lagos\", \"casos\": 11, \"codigo region\": 13}, {\"date\": \"2020-03-29\", \"region\": \"Ays\\u00e9n\", \"casos\": 0, \"codigo region\": 14}, {\"date\": \"2020-03-29\", \"region\": \"Magallanes\", \"casos\": 13, \"codigo region\": 15}, {\"date\": \"2020-03-30\", \"region\": \"Arica y Parinacota\", \"casos\": 2, \"codigo region\": 0}, {\"date\": \"2020-03-30\", \"region\": \"Tarapac\\u00e1\", \"casos\": 2, \"codigo region\": 1}, {\"date\": \"2020-03-30\", \"region\": \"Antofagasta\", \"casos\": 8, \"codigo region\": 2}, {\"date\": \"2020-03-30\", \"region\": \"Atacama\", \"casos\": 0, \"codigo region\": 3}, {\"date\": \"2020-03-30\", \"region\": \"Coquimbo\", \"casos\": 9, \"codigo region\": 4}, {\"date\": \"2020-03-30\", \"region\": \"Valpara\\u00edso\", \"casos\": 28, \"codigo region\": 5}, {\"date\": \"2020-03-30\", \"region\": \"Metropolitana\", \"casos\": 128, \"codigo region\": 6}, {\"date\": \"2020-03-30\", \"region\": \"O\\u2019Higgins\", \"casos\": 0, \"codigo region\": 7}, {\"date\": \"2020-03-30\", \"region\": \"Maule\", \"casos\": 12, \"codigo region\": 8}, {\"date\": \"2020-03-30\", \"region\": \"\\u00d1uble\", \"casos\": 32, \"codigo region\": 9}, {\"date\": \"2020-03-30\", \"region\": \"Biob\\u00edo\", \"casos\": 16, \"codigo region\": 10}, {\"date\": \"2020-03-30\", \"region\": \"Araucan\\u00eda\", \"casos\": 42, \"codigo region\": 11}, {\"date\": \"2020-03-30\", \"region\": \"Los R\\u00edos\", \"casos\": 7, \"codigo region\": 12}, {\"date\": \"2020-03-30\", \"region\": \"Los Lagos\", \"casos\": 24, \"codigo region\": 13}, {\"date\": \"2020-03-30\", \"region\": \"Ays\\u00e9n\", \"casos\": 0, \"codigo region\": 14}, {\"date\": \"2020-03-30\", \"region\": \"Magallanes\", \"casos\": 0, \"codigo region\": 15}, {\"date\": \"2020-03-31\", \"region\": \"Arica y Parinacota\", \"casos\": 0, \"codigo region\": 0}, {\"date\": \"2020-03-31\", \"region\": \"Tarapac\\u00e1\", \"casos\": 2, \"codigo region\": 1}, {\"date\": \"2020-03-31\", \"region\": \"Antofagasta\", \"casos\": 0, \"codigo region\": 2}, {\"date\": \"2020-03-31\", \"region\": \"Atacama\", \"casos\": 0, \"codigo region\": 3}, {\"date\": \"2020-03-31\", \"region\": \"Coquimbo\", \"casos\": 1, \"codigo region\": 4}, {\"date\": \"2020-03-31\", \"region\": \"Valpara\\u00edso\", \"casos\": 7, \"codigo region\": 5}, {\"date\": \"2020-03-31\", \"region\": \"Metropolitana\", \"casos\": 125, \"codigo region\": 6}, {\"date\": \"2020-03-31\", \"region\": \"O\\u2019Higgins\", \"casos\": 2, \"codigo region\": 7}, {\"date\": \"2020-03-31\", \"region\": \"Maule\", \"casos\": 8, \"codigo region\": 8}, {\"date\": \"2020-03-31\", \"region\": \"\\u00d1uble\", \"casos\": 16, \"codigo region\": 9}, {\"date\": \"2020-03-31\", \"region\": \"Biob\\u00edo\", \"casos\": 15, \"codigo region\": 10}, {\"date\": \"2020-03-31\", \"region\": \"Araucan\\u00eda\", \"casos\": 55, \"codigo region\": 11}, {\"date\": \"2020-03-31\", \"region\": \"Los R\\u00edos\", \"casos\": 11, \"codigo region\": 12}, {\"date\": \"2020-03-31\", \"region\": \"Los Lagos\", \"casos\": 23, \"codigo region\": 13}, {\"date\": \"2020-03-31\", \"region\": \"Ays\\u00e9n\", \"casos\": 0, \"codigo region\": 14}, {\"date\": \"2020-03-31\", \"region\": \"Magallanes\", \"casos\": 24, \"codigo region\": 15}, {\"date\": \"2020-04-01\", \"region\": \"Arica y Parinacota\", \"casos\": 0, \"codigo region\": 0}, {\"date\": \"2020-04-01\", \"region\": \"Tarapac\\u00e1\", \"casos\": 0, \"codigo region\": 1}, {\"date\": \"2020-04-01\", \"region\": \"Antofagasta\", \"casos\": 4, \"codigo region\": 2}, {\"date\": \"2020-04-01\", \"region\": \"Atacama\", \"casos\": 1, \"codigo region\": 3}, {\"date\": \"2020-04-01\", \"region\": \"Coquimbo\", \"casos\": 2, \"codigo region\": 4}, {\"date\": \"2020-04-01\", \"region\": \"Valpara\\u00edso\", \"casos\": 21, \"codigo region\": 5}, {\"date\": \"2020-04-01\", \"region\": \"Metropolitana\", \"casos\": 101, \"codigo region\": 6}, {\"date\": \"2020-04-01\", \"region\": \"O\\u2019Higgins\", \"casos\": 3, \"codigo region\": 7}, {\"date\": \"2020-04-01\", \"region\": \"Maule\", \"casos\": 9, \"codigo region\": 8}, {\"date\": \"2020-04-01\", \"region\": \"\\u00d1uble\", \"casos\": 14, \"codigo region\": 9}, {\"date\": \"2020-04-01\", \"region\": \"Biob\\u00edo\", \"casos\": 24, \"codigo region\": 10}, {\"date\": \"2020-04-01\", \"region\": \"Araucan\\u00eda\", \"casos\": 41, \"codigo region\": 11}, {\"date\": \"2020-04-01\", \"region\": \"Los R\\u00edos\", \"casos\": 6, \"codigo region\": 12}, {\"date\": \"2020-04-01\", \"region\": \"Los Lagos\", \"casos\": 30, \"codigo region\": 13}, {\"date\": \"2020-04-01\", \"region\": \"Ays\\u00e9n\", \"casos\": 1, \"codigo region\": 14}, {\"date\": \"2020-04-01\", \"region\": \"Magallanes\", \"casos\": 36, \"codigo region\": 15}, {\"date\": \"2020-04-02\", \"region\": \"Arica y Parinacota\", \"casos\": 1, \"codigo region\": 0}, {\"date\": \"2020-04-02\", \"region\": \"Tarapac\\u00e1\", \"casos\": 2, \"codigo region\": 1}, {\"date\": \"2020-04-02\", \"region\": \"Antofagasta\", \"casos\": 8, \"codigo region\": 2}, {\"date\": \"2020-04-02\", \"region\": \"Atacama\", \"casos\": 0, \"codigo region\": 3}, {\"date\": \"2020-04-02\", \"region\": \"Coquimbo\", \"casos\": 4, \"codigo region\": 4}, {\"date\": \"2020-04-02\", \"region\": \"Valpara\\u00edso\", \"casos\": 20, \"codigo region\": 5}, {\"date\": \"2020-04-02\", \"region\": \"Metropolitana\", \"casos\": 115, \"codigo region\": 6}, {\"date\": \"2020-04-02\", \"region\": \"O\\u2019Higgins\", \"casos\": 6, \"codigo region\": 7}, {\"date\": \"2020-04-02\", \"region\": \"Maule\", \"casos\": 11, \"codigo region\": 8}, {\"date\": \"2020-04-02\", \"region\": \"\\u00d1uble\", \"casos\": 82, \"codigo region\": 9}, {\"date\": \"2020-04-02\", \"region\": \"Biob\\u00edo\", \"casos\": 35, \"codigo region\": 10}, {\"date\": \"2020-04-02\", \"region\": \"Araucan\\u00eda\", \"casos\": 46, \"codigo region\": 11}, {\"date\": \"2020-04-02\", \"region\": \"Los R\\u00edos\", \"casos\": 4, \"codigo region\": 12}, {\"date\": \"2020-04-02\", \"region\": \"Los Lagos\", \"casos\": 22, \"codigo region\": 13}, {\"date\": \"2020-04-02\", \"region\": \"Ays\\u00e9n\", \"casos\": 2, \"codigo region\": 14}, {\"date\": \"2020-04-02\", \"region\": \"Magallanes\", \"casos\": 15, \"codigo region\": 15}, {\"date\": \"2020-04-03\", \"region\": \"Arica y Parinacota\", \"casos\": 5, \"codigo region\": 0}, {\"date\": \"2020-04-03\", \"region\": \"Tarapac\\u00e1\", \"casos\": 1, \"codigo region\": 1}, {\"date\": \"2020-04-03\", \"region\": \"Antofagasta\", \"casos\": 7, \"codigo region\": 2}, {\"date\": \"2020-04-03\", \"region\": \"Atacama\", \"casos\": 2, \"codigo region\": 3}, {\"date\": \"2020-04-03\", \"region\": \"Coquimbo\", \"casos\": 1, \"codigo region\": 4}, {\"date\": \"2020-04-03\", \"region\": \"Valpara\\u00edso\", \"casos\": 20, \"codigo region\": 5}, {\"date\": \"2020-04-03\", \"region\": \"Metropolitana\", \"casos\": 106, \"codigo region\": 6}, {\"date\": \"2020-04-03\", \"region\": \"O\\u2019Higgins\", \"casos\": 1, \"codigo region\": 7}, {\"date\": \"2020-04-03\", \"region\": \"Maule\", \"casos\": 7, \"codigo region\": 8}, {\"date\": \"2020-04-03\", \"region\": \"\\u00d1uble\", \"casos\": 29, \"codigo region\": 9}, {\"date\": \"2020-04-03\", \"region\": \"Biob\\u00edo\", \"casos\": 27, \"codigo region\": 10}, {\"date\": \"2020-04-03\", \"region\": \"Araucan\\u00eda\", \"casos\": 43, \"codigo region\": 11}, {\"date\": \"2020-04-03\", \"region\": \"Los R\\u00edos\", \"casos\": 10, \"codigo region\": 12}, {\"date\": \"2020-04-03\", \"region\": \"Los Lagos\", \"casos\": 31, \"codigo region\": 13}, {\"date\": \"2020-04-03\", \"region\": \"Ays\\u00e9n\", \"casos\": 1, \"codigo region\": 14}, {\"date\": \"2020-04-03\", \"region\": \"Magallanes\", \"casos\": 42, \"codigo region\": 15}, {\"date\": \"2020-04-04\", \"region\": \"Arica y Parinacota\", \"casos\": 0, \"codigo region\": 0}, {\"date\": \"2020-04-04\", \"region\": \"Tarapac\\u00e1\", \"casos\": 4, \"codigo region\": 1}, {\"date\": \"2020-04-04\", \"region\": \"Antofagasta\", \"casos\": 1, \"codigo region\": 2}, {\"date\": \"2020-04-04\", \"region\": \"Atacama\", \"casos\": 0, \"codigo region\": 3}, {\"date\": \"2020-04-04\", \"region\": \"Coquimbo\", \"casos\": 9, \"codigo region\": 4}, {\"date\": \"2020-04-04\", \"region\": \"Valpara\\u00edso\", \"casos\": 9, \"codigo region\": 5}, {\"date\": \"2020-04-04\", \"region\": \"Metropolitana\", \"casos\": 215, \"codigo region\": 6}, {\"date\": \"2020-04-04\", \"region\": \"O\\u2019Higgins\", \"casos\": 5, \"codigo region\": 7}, {\"date\": \"2020-04-04\", \"region\": \"Maule\", \"casos\": 8, \"codigo region\": 8}, {\"date\": \"2020-04-04\", \"region\": \"\\u00d1uble\", \"casos\": 31, \"codigo region\": 9}, {\"date\": \"2020-04-04\", \"region\": \"Biob\\u00edo\", \"casos\": 45, \"codigo region\": 10}, {\"date\": \"2020-04-04\", \"region\": \"Araucan\\u00eda\", \"casos\": 45, \"codigo region\": 11}, {\"date\": \"2020-04-04\", \"region\": \"Los R\\u00edos\", \"casos\": 11, \"codigo region\": 12}, {\"date\": \"2020-04-04\", \"region\": \"Los Lagos\", \"casos\": 25, \"codigo region\": 13}, {\"date\": \"2020-04-04\", \"region\": \"Ays\\u00e9n\", \"casos\": 0, \"codigo region\": 14}, {\"date\": \"2020-04-04\", \"region\": \"Magallanes\", \"casos\": 16, \"codigo region\": 15}, {\"date\": \"2020-04-05\", \"region\": \"Arica y Parinacota\", \"casos\": 16, \"codigo region\": 0}, {\"date\": \"2020-04-05\", \"region\": \"Tarapac\\u00e1\", \"casos\": 3, \"codigo region\": 1}, {\"date\": \"2020-04-05\", \"region\": \"Antofagasta\", \"casos\": 5, \"codigo region\": 2}, {\"date\": \"2020-04-05\", \"region\": \"Atacama\", \"casos\": 0, \"codigo region\": 3}, {\"date\": \"2020-04-05\", \"region\": \"Coquimbo\", \"casos\": 6, \"codigo region\": 4}, {\"date\": \"2020-04-05\", \"region\": \"Valpara\\u00edso\", \"casos\": 6, \"codigo region\": 5}, {\"date\": \"2020-04-05\", \"region\": \"Metropolitana\", \"casos\": 145, \"codigo region\": 6}, {\"date\": \"2020-04-05\", \"region\": \"O\\u2019Higgins\", \"casos\": 3, \"codigo region\": 7}, {\"date\": \"2020-04-05\", \"region\": \"Maule\", \"casos\": 6, \"codigo region\": 8}, {\"date\": \"2020-04-05\", \"region\": \"\\u00d1uble\", \"casos\": 24, \"codigo region\": 9}, {\"date\": \"2020-04-05\", \"region\": \"Biob\\u00edo\", \"casos\": 18, \"codigo region\": 10}, {\"date\": \"2020-04-05\", \"region\": \"Araucan\\u00eda\", \"casos\": 32, \"codigo region\": 11}, {\"date\": \"2020-04-05\", \"region\": \"Los R\\u00edos\", \"casos\": 10, \"codigo region\": 12}, {\"date\": \"2020-04-05\", \"region\": \"Los Lagos\", \"casos\": 17, \"codigo region\": 13}, {\"date\": \"2020-04-05\", \"region\": \"Ays\\u00e9n\", \"casos\": 1, \"codigo region\": 14}, {\"date\": \"2020-04-05\", \"region\": \"Magallanes\", \"casos\": 18, \"codigo region\": 15}, {\"date\": \"2020-04-06\", \"region\": \"Arica y Parinacota\", \"casos\": 13, \"codigo region\": 0}, {\"date\": \"2020-04-06\", \"region\": \"Tarapac\\u00e1\", \"casos\": 1, \"codigo region\": 1}, {\"date\": \"2020-04-06\", \"region\": \"Antofagasta\", \"casos\": 8, \"codigo region\": 2}, {\"date\": \"2020-04-06\", \"region\": \"Atacama\", \"casos\": 0, \"codigo region\": 3}, {\"date\": \"2020-04-06\", \"region\": \"Coquimbo\", \"casos\": 1, \"codigo region\": 4}, {\"date\": \"2020-04-06\", \"region\": \"Valpara\\u00edso\", \"casos\": 7, \"codigo region\": 5}, {\"date\": \"2020-04-06\", \"region\": \"Metropolitana\", \"casos\": 142, \"codigo region\": 6}, {\"date\": \"2020-04-06\", \"region\": \"O\\u2019Higgins\", \"casos\": 1, \"codigo region\": 7}, {\"date\": \"2020-04-06\", \"region\": \"Maule\", \"casos\": 5, \"codigo region\": 8}, {\"date\": \"2020-04-06\", \"region\": \"\\u00d1uble\", \"casos\": 49, \"codigo region\": 9}, {\"date\": \"2020-04-06\", \"region\": \"Biob\\u00edo\", \"casos\": 18, \"codigo region\": 10}, {\"date\": \"2020-04-06\", \"region\": \"Araucan\\u00eda\", \"casos\": 53, \"codigo region\": 11}, {\"date\": \"2020-04-06\", \"region\": \"Los R\\u00edos\", \"casos\": 5, \"codigo region\": 12}, {\"date\": \"2020-04-06\", \"region\": \"Los Lagos\", \"casos\": 10, \"codigo region\": 13}, {\"date\": \"2020-04-06\", \"region\": \"Ays\\u00e9n\", \"casos\": 0, \"codigo region\": 14}, {\"date\": \"2020-04-06\", \"region\": \"Magallanes\", \"casos\": 31, \"codigo region\": 15}, {\"date\": \"2020-04-07\", \"region\": \"Arica y Parinacota\", \"casos\": 12, \"codigo region\": 0}, {\"date\": \"2020-04-07\", \"region\": \"Tarapac\\u00e1\", \"casos\": 2, \"codigo region\": 1}, {\"date\": \"2020-04-07\", \"region\": \"Antofagasta\", \"casos\": 1, \"codigo region\": 2}, {\"date\": \"2020-04-07\", \"region\": \"Atacama\", \"casos\": 1, \"codigo region\": 3}, {\"date\": \"2020-04-07\", \"region\": \"Coquimbo\", \"casos\": 1, \"codigo region\": 4}, {\"date\": \"2020-04-07\", \"region\": \"Valpara\\u00edso\", \"casos\": 16, \"codigo region\": 5}, {\"date\": \"2020-04-07\", \"region\": \"Metropolitana\", \"casos\": 106, \"codigo region\": 6}, {\"date\": \"2020-04-07\", \"region\": \"O\\u2019Higgins\", \"casos\": 0, \"codigo region\": 7}, {\"date\": \"2020-04-07\", \"region\": \"Maule\", \"casos\": 0, \"codigo region\": 8}, {\"date\": \"2020-04-07\", \"region\": \"\\u00d1uble\", \"casos\": 48, \"codigo region\": 9}, {\"date\": \"2020-04-07\", \"region\": \"Biob\\u00edo\", \"casos\": 27, \"codigo region\": 10}, {\"date\": \"2020-04-07\", \"region\": \"Araucan\\u00eda\", \"casos\": 50, \"codigo region\": 11}, {\"date\": \"2020-04-07\", \"region\": \"Los R\\u00edos\", \"casos\": 5, \"codigo region\": 12}, {\"date\": \"2020-04-07\", \"region\": \"Los Lagos\", \"casos\": 13, \"codigo region\": 13}, {\"date\": \"2020-04-07\", \"region\": \"Ays\\u00e9n\", \"casos\": 0, \"codigo region\": 14}, {\"date\": \"2020-04-07\", \"region\": \"Magallanes\", \"casos\": 19, \"codigo region\": 15}, {\"date\": \"2020-04-08\", \"region\": \"Arica y Parinacota\", \"casos\": 10, \"codigo region\": 0}, {\"date\": \"2020-04-08\", \"region\": \"Tarapac\\u00e1\", \"casos\": 3, \"codigo region\": 1}, {\"date\": \"2020-04-08\", \"region\": \"Antofagasta\", \"casos\": 8, \"codigo region\": 2}, {\"date\": \"2020-04-08\", \"region\": \"Atacama\", \"casos\": 2, \"codigo region\": 3}, {\"date\": \"2020-04-08\", \"region\": \"Coquimbo\", \"casos\": 4, \"codigo region\": 4}, {\"date\": \"2020-04-08\", \"region\": \"Valpara\\u00edso\", \"casos\": 11, \"codigo region\": 5}, {\"date\": \"2020-04-08\", \"region\": \"Metropolitana\", \"casos\": 198, \"codigo region\": 6}, {\"date\": \"2020-04-08\", \"region\": \"O\\u2019Higgins\", \"casos\": 1, \"codigo region\": 7}, {\"date\": \"2020-04-08\", \"region\": \"Maule\", \"casos\": 11, \"codigo region\": 8}, {\"date\": \"2020-04-08\", \"region\": \"\\u00d1uble\", \"casos\": 39, \"codigo region\": 9}, {\"date\": \"2020-04-08\", \"region\": \"Biob\\u00edo\", \"casos\": 29, \"codigo region\": 10}, {\"date\": \"2020-04-08\", \"region\": \"Araucan\\u00eda\", \"casos\": 57, \"codigo region\": 11}, {\"date\": \"2020-04-08\", \"region\": \"Los R\\u00edos\", \"casos\": 5, \"codigo region\": 12}, {\"date\": \"2020-04-08\", \"region\": \"Los Lagos\", \"casos\": 26, \"codigo region\": 13}, {\"date\": \"2020-04-08\", \"region\": \"Ays\\u00e9n\", \"casos\": 0, \"codigo region\": 14}, {\"date\": \"2020-04-08\", \"region\": \"Magallanes\", \"casos\": 26, \"codigo region\": 15}, {\"date\": \"2020-04-09\", \"region\": \"Arica y Parinacota\", \"casos\": 12, \"codigo region\": 0}, {\"date\": \"2020-04-09\", \"region\": \"Tarapac\\u00e1\", \"casos\": 3, \"codigo region\": 1}, {\"date\": \"2020-04-09\", \"region\": \"Antofagasta\", \"casos\": 15, \"codigo region\": 2}, {\"date\": \"2020-04-09\", \"region\": \"Atacama\", \"casos\": 2, \"codigo region\": 3}, {\"date\": \"2020-04-09\", \"region\": \"Coquimbo\", \"casos\": 5, \"codigo region\": 4}, {\"date\": \"2020-04-09\", \"region\": \"Valpara\\u00edso\", \"casos\": 5, \"codigo region\": 5}, {\"date\": \"2020-04-09\", \"region\": \"Metropolitana\", \"casos\": 284, \"codigo region\": 6}, {\"date\": \"2020-04-09\", \"region\": \"O\\u2019Higgins\", \"casos\": 1, \"codigo region\": 7}, {\"date\": \"2020-04-09\", \"region\": \"Maule\", \"casos\": 9, \"codigo region\": 8}, {\"date\": \"2020-04-09\", \"region\": \"\\u00d1uble\", \"casos\": 10, \"codigo region\": 9}, {\"date\": \"2020-04-09\", \"region\": \"Biob\\u00edo\", \"casos\": 21, \"codigo region\": 10}, {\"date\": \"2020-04-09\", \"region\": \"Araucan\\u00eda\", \"casos\": 20, \"codigo region\": 11}, {\"date\": \"2020-04-09\", \"region\": \"Los R\\u00edos\", \"casos\": 4, \"codigo region\": 12}, {\"date\": \"2020-04-09\", \"region\": \"Los Lagos\", \"casos\": 15, \"codigo region\": 13}, {\"date\": \"2020-04-09\", \"region\": \"Ays\\u00e9n\", \"casos\": 0, \"codigo region\": 14}, {\"date\": \"2020-04-09\", \"region\": \"Magallanes\", \"casos\": 20, \"codigo region\": 15}, {\"date\": \"2020-04-10\", \"region\": \"Arica y Parinacota\", \"casos\": 12, \"codigo region\": 0}, {\"date\": \"2020-04-10\", \"region\": \"Tarapac\\u00e1\", \"casos\": 6, \"codigo region\": 1}, {\"date\": \"2020-04-10\", \"region\": \"Antofagasta\", \"casos\": 18, \"codigo region\": 2}, {\"date\": \"2020-04-10\", \"region\": \"Atacama\", \"casos\": 3, \"codigo region\": 3}, {\"date\": \"2020-04-10\", \"region\": \"Coquimbo\", \"casos\": 0, \"codigo region\": 4}, {\"date\": \"2020-04-10\", \"region\": \"Valpara\\u00edso\", \"casos\": 11, \"codigo region\": 5}, {\"date\": \"2020-04-10\", \"region\": \"Metropolitana\", \"casos\": 361, \"codigo region\": 6}, {\"date\": \"2020-04-10\", \"region\": \"O\\u2019Higgins\", \"casos\": 0, \"codigo region\": 7}, {\"date\": \"2020-04-10\", \"region\": \"Maule\", \"casos\": 3, \"codigo region\": 8}, {\"date\": \"2020-04-10\", \"region\": \"\\u00d1uble\", \"casos\": 18, \"codigo region\": 9}, {\"date\": \"2020-04-10\", \"region\": \"Biob\\u00edo\", \"casos\": 14, \"codigo region\": 10}, {\"date\": \"2020-04-10\", \"region\": \"Araucan\\u00eda\", \"casos\": 23, \"codigo region\": 11}, {\"date\": \"2020-04-10\", \"region\": \"Los R\\u00edos\", \"casos\": 6, \"codigo region\": 12}, {\"date\": \"2020-04-10\", \"region\": \"Los Lagos\", \"casos\": 9, \"codigo region\": 13}, {\"date\": \"2020-04-10\", \"region\": \"Ays\\u00e9n\", \"casos\": 0, \"codigo region\": 14}, {\"date\": \"2020-04-10\", \"region\": \"Magallanes\", \"casos\": 45, \"codigo region\": 15}, {\"date\": \"2020-04-11\", \"region\": \"Arica y Parinacota\", \"casos\": 20, \"codigo region\": 0}, {\"date\": \"2020-04-11\", \"region\": \"Tarapac\\u00e1\", \"casos\": 3, \"codigo region\": 1}, {\"date\": \"2020-04-11\", \"region\": \"Antofagasta\", \"casos\": 7, \"codigo region\": 2}, {\"date\": \"2020-04-11\", \"region\": \"Atacama\", \"casos\": 0, \"codigo region\": 3}, {\"date\": \"2020-04-11\", \"region\": \"Coquimbo\", \"casos\": 3, \"codigo region\": 4}, {\"date\": \"2020-04-11\", \"region\": \"Valpara\\u00edso\", \"casos\": 7, \"codigo region\": 5}, {\"date\": \"2020-04-11\", \"region\": \"Metropolitana\", \"casos\": 255, \"codigo region\": 6}, {\"date\": \"2020-04-11\", \"region\": \"O\\u2019Higgins\", \"casos\": 1, \"codigo region\": 7}, {\"date\": \"2020-04-11\", \"region\": \"Maule\", \"casos\": 3, \"codigo region\": 8}, {\"date\": \"2020-04-11\", \"region\": \"\\u00d1uble\", \"casos\": 17, \"codigo region\": 9}, {\"date\": \"2020-04-11\", \"region\": \"Biob\\u00edo\", \"casos\": 16, \"codigo region\": 10}, {\"date\": \"2020-04-11\", \"region\": \"Araucan\\u00eda\", \"casos\": 27, \"codigo region\": 11}, {\"date\": \"2020-04-11\", \"region\": \"Los R\\u00edos\", \"casos\": 6, \"codigo region\": 12}, {\"date\": \"2020-04-11\", \"region\": \"Los Lagos\", \"casos\": 15, \"codigo region\": 13}, {\"date\": \"2020-04-11\", \"region\": \"Ays\\u00e9n\", \"casos\": 0, \"codigo region\": 14}, {\"date\": \"2020-04-11\", \"region\": \"Magallanes\", \"casos\": 46, \"codigo region\": 15}, {\"date\": \"2020-04-12\", \"region\": \"Arica y Parinacota\", \"casos\": 8, \"codigo region\": 0}, {\"date\": \"2020-04-12\", \"region\": \"Tarapac\\u00e1\", \"casos\": 8, \"codigo region\": 1}, {\"date\": \"2020-04-12\", \"region\": \"Antofagasta\", \"casos\": 21, \"codigo region\": 2}, {\"date\": \"2020-04-12\", \"region\": \"Atacama\", \"casos\": 0, \"codigo region\": 3}, {\"date\": \"2020-04-12\", \"region\": \"Coquimbo\", \"casos\": 2, \"codigo region\": 4}, {\"date\": \"2020-04-12\", \"region\": \"Valpara\\u00edso\", \"casos\": 6, \"codigo region\": 5}, {\"date\": \"2020-04-12\", \"region\": \"Metropolitana\", \"casos\": 151, \"codigo region\": 6}, {\"date\": \"2020-04-12\", \"region\": \"O\\u2019Higgins\", \"casos\": 1, \"codigo region\": 7}, {\"date\": \"2020-04-12\", \"region\": \"Maule\", \"casos\": 4, \"codigo region\": 8}, {\"date\": \"2020-04-12\", \"region\": \"\\u00d1uble\", \"casos\": 7, \"codigo region\": 9}, {\"date\": \"2020-04-12\", \"region\": \"Biob\\u00edo\", \"casos\": 10, \"codigo region\": 10}, {\"date\": \"2020-04-12\", \"region\": \"Araucan\\u00eda\", \"casos\": 36, \"codigo region\": 11}, {\"date\": \"2020-04-12\", \"region\": \"Los R\\u00edos\", \"casos\": 5, \"codigo region\": 12}, {\"date\": \"2020-04-12\", \"region\": \"Los Lagos\", \"casos\": 8, \"codigo region\": 13}, {\"date\": \"2020-04-12\", \"region\": \"Ays\\u00e9n\", \"casos\": 0, \"codigo region\": 14}, {\"date\": \"2020-04-12\", \"region\": \"Magallanes\", \"casos\": 19, \"codigo region\": 15}, {\"date\": \"2020-04-13\", \"region\": \"Arica y Parinacota\", \"casos\": 0, \"codigo region\": 0}, {\"date\": \"2020-04-13\", \"region\": \"Tarapac\\u00e1\", \"casos\": 6, \"codigo region\": 1}, {\"date\": \"2020-04-13\", \"region\": \"Antofagasta\", \"casos\": 11, \"codigo region\": 2}, {\"date\": \"2020-04-13\", \"region\": \"Atacama\", \"casos\": 0, \"codigo region\": 3}, {\"date\": \"2020-04-13\", \"region\": \"Coquimbo\", \"casos\": 0, \"codigo region\": 4}, {\"date\": \"2020-04-13\", \"region\": \"Valpara\\u00edso\", \"casos\": 19, \"codigo region\": 5}, {\"date\": \"2020-04-13\", \"region\": \"Metropolitana\", \"casos\": 204, \"codigo region\": 6}, {\"date\": \"2020-04-13\", \"region\": \"O\\u2019Higgins\", \"casos\": 2, \"codigo region\": 7}, {\"date\": \"2020-04-13\", \"region\": \"Maule\", \"casos\": 3, \"codigo region\": 8}, {\"date\": \"2020-04-13\", \"region\": \"\\u00d1uble\", \"casos\": 5, \"codigo region\": 9}, {\"date\": \"2020-04-13\", \"region\": \"Biob\\u00edo\", \"casos\": 12, \"codigo region\": 10}, {\"date\": \"2020-04-13\", \"region\": \"Araucan\\u00eda\", \"casos\": 20, \"codigo region\": 11}, {\"date\": \"2020-04-13\", \"region\": \"Los R\\u00edos\", \"casos\": 3, \"codigo region\": 12}, {\"date\": \"2020-04-13\", \"region\": \"Los Lagos\", \"casos\": 8, \"codigo region\": 13}, {\"date\": \"2020-04-13\", \"region\": \"Ays\\u00e9n\", \"casos\": 0, \"codigo region\": 14}, {\"date\": \"2020-04-13\", \"region\": \"Magallanes\", \"casos\": 19, \"codigo region\": 15}, {\"date\": \"2020-04-14\", \"region\": \"Arica y Parinacota\", \"casos\": 5, \"codigo region\": 0}, {\"date\": \"2020-04-14\", \"region\": \"Tarapac\\u00e1\", \"casos\": 10, \"codigo region\": 1}, {\"date\": \"2020-04-14\", \"region\": \"Antofagasta\", \"casos\": 6, \"codigo region\": 2}, {\"date\": \"2020-04-14\", \"region\": \"Atacama\", \"casos\": 0, \"codigo region\": 3}, {\"date\": \"2020-04-14\", \"region\": \"Coquimbo\", \"casos\": 0, \"codigo region\": 4}, {\"date\": \"2020-04-14\", \"region\": \"Valpara\\u00edso\", \"casos\": 12, \"codigo region\": 5}, {\"date\": \"2020-04-14\", \"region\": \"Metropolitana\", \"casos\": 283, \"codigo region\": 6}, {\"date\": \"2020-04-14\", \"region\": \"O\\u2019Higgins\", \"casos\": 5, \"codigo region\": 7}, {\"date\": \"2020-04-14\", \"region\": \"Maule\", \"casos\": 1, \"codigo region\": 8}, {\"date\": \"2020-04-14\", \"region\": \"\\u00d1uble\", \"casos\": 4, \"codigo region\": 9}, {\"date\": \"2020-04-14\", \"region\": \"Biob\\u00edo\", \"casos\": 16, \"codigo region\": 10}, {\"date\": \"2020-04-14\", \"region\": \"Araucan\\u00eda\", \"casos\": 21, \"codigo region\": 11}, {\"date\": \"2020-04-14\", \"region\": \"Los R\\u00edos\", \"casos\": 10, \"codigo region\": 12}, {\"date\": \"2020-04-14\", \"region\": \"Los Lagos\", \"casos\": 5, \"codigo region\": 13}, {\"date\": \"2020-04-14\", \"region\": \"Ays\\u00e9n\", \"casos\": 0, \"codigo region\": 14}, {\"date\": \"2020-04-14\", \"region\": \"Magallanes\", \"casos\": 14, \"codigo region\": 15}, {\"date\": \"2020-04-15\", \"region\": \"Arica y Parinacota\", \"casos\": 4, \"codigo region\": 0}, {\"date\": \"2020-04-15\", \"region\": \"Tarapac\\u00e1\", \"casos\": 0, \"codigo region\": 1}, {\"date\": \"2020-04-15\", \"region\": \"Antofagasta\", \"casos\": 21, \"codigo region\": 2}, {\"date\": \"2020-04-15\", \"region\": \"Atacama\", \"casos\": 0, \"codigo region\": 3}, {\"date\": \"2020-04-15\", \"region\": \"Coquimbo\", \"casos\": 0, \"codigo region\": 4}, {\"date\": \"2020-04-15\", \"region\": \"Valpara\\u00edso\", \"casos\": 14, \"codigo region\": 5}, {\"date\": \"2020-04-15\", \"region\": \"Metropolitana\", \"casos\": 248, \"codigo region\": 6}, {\"date\": \"2020-04-15\", \"region\": \"O\\u2019Higgins\", \"casos\": 1, \"codigo region\": 7}, {\"date\": \"2020-04-15\", \"region\": \"Maule\", \"casos\": 10, \"codigo region\": 8}, {\"date\": \"2020-04-15\", \"region\": \"\\u00d1uble\", \"casos\": 12, \"codigo region\": 9}, {\"date\": \"2020-04-15\", \"region\": \"Biob\\u00edo\", \"casos\": 14, \"codigo region\": 10}, {\"date\": \"2020-04-15\", \"region\": \"Araucan\\u00eda\", \"casos\": 10, \"codigo region\": 11}, {\"date\": \"2020-04-15\", \"region\": \"Los R\\u00edos\", \"casos\": 2, \"codigo region\": 12}, {\"date\": \"2020-04-15\", \"region\": \"Los Lagos\", \"casos\": 5, \"codigo region\": 13}, {\"date\": \"2020-04-15\", \"region\": \"Ays\\u00e9n\", \"casos\": 0, \"codigo region\": 14}, {\"date\": \"2020-04-15\", \"region\": \"Magallanes\", \"casos\": 15, \"codigo region\": 15}, {\"date\": \"2020-04-16\", \"region\": \"Arica y Parinacota\", \"casos\": 5, \"codigo region\": 0}, {\"date\": \"2020-04-16\", \"region\": \"Tarapac\\u00e1\", \"casos\": 4, \"codigo region\": 1}, {\"date\": \"2020-04-16\", \"region\": \"Antofagasta\", \"casos\": 16, \"codigo region\": 2}, {\"date\": \"2020-04-16\", \"region\": \"Atacama\", \"casos\": 0, \"codigo region\": 3}, {\"date\": \"2020-04-16\", \"region\": \"Coquimbo\", \"casos\": 2, \"codigo region\": 4}, {\"date\": \"2020-04-16\", \"region\": \"Valpara\\u00edso\", \"casos\": 31, \"codigo region\": 5}, {\"date\": \"2020-04-16\", \"region\": \"Metropolitana\", \"casos\": 348, \"codigo region\": 6}, {\"date\": \"2020-04-16\", \"region\": \"O\\u2019Higgins\", \"casos\": 0, \"codigo region\": 7}, {\"date\": \"2020-04-16\", \"region\": \"Maule\", \"casos\": 15, \"codigo region\": 8}, {\"date\": \"2020-04-16\", \"region\": \"\\u00d1uble\", \"casos\": 5, \"codigo region\": 9}, {\"date\": \"2020-04-16\", \"region\": \"Biob\\u00edo\", \"casos\": 17, \"codigo region\": 10}, {\"date\": \"2020-04-16\", \"region\": \"Araucan\\u00eda\", \"casos\": 56, \"codigo region\": 11}, {\"date\": \"2020-04-16\", \"region\": \"Los R\\u00edos\", \"casos\": 3, \"codigo region\": 12}, {\"date\": \"2020-04-16\", \"region\": \"Los Lagos\", \"casos\": 9, \"codigo region\": 13}, {\"date\": \"2020-04-16\", \"region\": \"Ays\\u00e9n\", \"casos\": 0, \"codigo region\": 14}, {\"date\": \"2020-04-16\", \"region\": \"Magallanes\", \"casos\": 23, \"codigo region\": 15}, {\"date\": \"2020-04-17\", \"region\": \"Arica y Parinacota\", \"casos\": 5, \"codigo region\": 0}, {\"date\": \"2020-04-17\", \"region\": \"Tarapac\\u00e1\", \"casos\": 7, \"codigo region\": 1}, {\"date\": \"2020-04-17\", \"region\": \"Antofagasta\", \"casos\": 19, \"codigo region\": 2}, {\"date\": \"2020-04-17\", \"region\": \"Atacama\", \"casos\": 0, \"codigo region\": 3}, {\"date\": \"2020-04-17\", \"region\": \"Coquimbo\", \"casos\": 0, \"codigo region\": 4}, {\"date\": \"2020-04-17\", \"region\": \"Valpara\\u00edso\", \"casos\": 15, \"codigo region\": 5}, {\"date\": \"2020-04-17\", \"region\": \"Metropolitana\", \"casos\": 233, \"codigo region\": 6}, {\"date\": \"2020-04-17\", \"region\": \"O\\u2019Higgins\", \"casos\": 1, \"codigo region\": 7}, {\"date\": \"2020-04-17\", \"region\": \"Maule\", \"casos\": 56, \"codigo region\": 8}, {\"date\": \"2020-04-17\", \"region\": \"\\u00d1uble\", \"casos\": 17, \"codigo region\": 9}, {\"date\": \"2020-04-17\", \"region\": \"Biob\\u00edo\", \"casos\": 19, \"codigo region\": 10}, {\"date\": \"2020-04-17\", \"region\": \"Araucan\\u00eda\", \"casos\": 25, \"codigo region\": 11}, {\"date\": \"2020-04-17\", \"region\": \"Los R\\u00edos\", \"casos\": 1, \"codigo region\": 12}, {\"date\": \"2020-04-17\", \"region\": \"Los Lagos\", \"casos\": 13, \"codigo region\": 13}, {\"date\": \"2020-04-17\", \"region\": \"Ays\\u00e9n\", \"casos\": 0, \"codigo region\": 14}, {\"date\": \"2020-04-17\", \"region\": \"Magallanes\", \"casos\": 34, \"codigo region\": 15}, {\"date\": \"2020-04-18\", \"region\": \"Arica y Parinacota\", \"casos\": 8, \"codigo region\": 0}, {\"date\": \"2020-04-18\", \"region\": \"Tarapac\\u00e1\", \"casos\": 8, \"codigo region\": 1}, {\"date\": \"2020-04-18\", \"region\": \"Antofagasta\", \"casos\": 15, \"codigo region\": 2}, {\"date\": \"2020-04-18\", \"region\": \"Atacama\", \"casos\": 0, \"codigo region\": 3}, {\"date\": \"2020-04-18\", \"region\": \"Coquimbo\", \"casos\": 0, \"codigo region\": 4}, {\"date\": \"2020-04-18\", \"region\": \"Valpara\\u00edso\", \"casos\": 14, \"codigo region\": 5}, {\"date\": \"2020-04-18\", \"region\": \"Metropolitana\", \"casos\": 277, \"codigo region\": 6}, {\"date\": \"2020-04-18\", \"region\": \"O\\u2019Higgins\", \"casos\": 0, \"codigo region\": 7}, {\"date\": \"2020-04-18\", \"region\": \"Maule\", \"casos\": 53, \"codigo region\": 8}, {\"date\": \"2020-04-18\", \"region\": \"\\u00d1uble\", \"casos\": 11, \"codigo region\": 9}, {\"date\": \"2020-04-18\", \"region\": \"Biob\\u00edo\", \"casos\": 28, \"codigo region\": 10}, {\"date\": \"2020-04-18\", \"region\": \"Araucan\\u00eda\", \"casos\": 37, \"codigo region\": 11}, {\"date\": \"2020-04-18\", \"region\": \"Los R\\u00edos\", \"casos\": 2, \"codigo region\": 12}, {\"date\": \"2020-04-18\", \"region\": \"Los Lagos\", \"casos\": 4, \"codigo region\": 13}, {\"date\": \"2020-04-18\", \"region\": \"Ays\\u00e9n\", \"casos\": 0, \"codigo region\": 14}, {\"date\": \"2020-04-18\", \"region\": \"Magallanes\", \"casos\": 21, \"codigo region\": 15}, {\"date\": \"2020-04-19\", \"region\": \"Arica y Parinacota\", \"casos\": 3, \"codigo region\": 0}, {\"date\": \"2020-04-19\", \"region\": \"Tarapac\\u00e1\", \"casos\": 9, \"codigo region\": 1}, {\"date\": \"2020-04-19\", \"region\": \"Antofagasta\", \"casos\": 23, \"codigo region\": 2}, {\"date\": \"2020-04-19\", \"region\": \"Atacama\", \"casos\": 0, \"codigo region\": 3}, {\"date\": \"2020-04-19\", \"region\": \"Coquimbo\", \"casos\": 0, \"codigo region\": 4}, {\"date\": \"2020-04-19\", \"region\": \"Valpara\\u00edso\", \"casos\": 22, \"codigo region\": 5}, {\"date\": \"2020-04-19\", \"region\": \"Metropolitana\", \"casos\": 189, \"codigo region\": 6}, {\"date\": \"2020-04-19\", \"region\": \"O\\u2019Higgins\", \"casos\": 0, \"codigo region\": 7}, {\"date\": \"2020-04-19\", \"region\": \"Maule\", \"casos\": 26, \"codigo region\": 8}, {\"date\": \"2020-04-19\", \"region\": \"\\u00d1uble\", \"casos\": 11, \"codigo region\": 9}, {\"date\": \"2020-04-19\", \"region\": \"Biob\\u00edo\", \"casos\": 10, \"codigo region\": 10}, {\"date\": \"2020-04-19\", \"region\": \"Araucan\\u00eda\", \"casos\": 28, \"codigo region\": 11}, {\"date\": \"2020-04-19\", \"region\": \"Los R\\u00edos\", \"casos\": 1, \"codigo region\": 12}, {\"date\": \"2020-04-19\", \"region\": \"Los Lagos\", \"casos\": 5, \"codigo region\": 13}, {\"date\": \"2020-04-19\", \"region\": \"Ays\\u00e9n\", \"casos\": 0, \"codigo region\": 14}, {\"date\": \"2020-04-19\", \"region\": \"Magallanes\", \"casos\": 31, \"codigo region\": 15}, {\"date\": \"2020-04-20\", \"region\": \"Arica y Parinacota\", \"casos\": 16, \"codigo region\": 0}, {\"date\": \"2020-04-20\", \"region\": \"Tarapac\\u00e1\", \"casos\": 3, \"codigo region\": 1}, {\"date\": \"2020-04-20\", \"region\": \"Antofagasta\", \"casos\": 14, \"codigo region\": 2}, {\"date\": \"2020-04-20\", \"region\": \"Atacama\", \"casos\": 0, \"codigo region\": 3}, {\"date\": \"2020-04-20\", \"region\": \"Coquimbo\", \"casos\": 1, \"codigo region\": 4}, {\"date\": \"2020-04-20\", \"region\": \"Valpara\\u00edso\", \"casos\": 7, \"codigo region\": 5}, {\"date\": \"2020-04-20\", \"region\": \"Metropolitana\", \"casos\": 262, \"codigo region\": 6}, {\"date\": \"2020-04-20\", \"region\": \"O\\u2019Higgins\", \"casos\": 1, \"codigo region\": 7}, {\"date\": \"2020-04-20\", \"region\": \"Maule\", \"casos\": 2, \"codigo region\": 8}, {\"date\": \"2020-04-20\", \"region\": \"\\u00d1uble\", \"casos\": 9, \"codigo region\": 9}, {\"date\": \"2020-04-20\", \"region\": \"Biob\\u00edo\", \"casos\": 10, \"codigo region\": 10}, {\"date\": \"2020-04-20\", \"region\": \"Araucan\\u00eda\", \"casos\": 73, \"codigo region\": 11}, {\"date\": \"2020-04-20\", \"region\": \"Los R\\u00edos\", \"casos\": 5, \"codigo region\": 12}, {\"date\": \"2020-04-20\", \"region\": \"Los Lagos\", \"casos\": 3, \"codigo region\": 13}, {\"date\": \"2020-04-20\", \"region\": \"Ays\\u00e9n\", \"casos\": 0, \"codigo region\": 14}, {\"date\": \"2020-04-20\", \"region\": \"Magallanes\", \"casos\": 13, \"codigo region\": 15}, {\"date\": \"2020-04-21\", \"region\": \"Arica y Parinacota\", \"casos\": 9, \"codigo region\": 0}, {\"date\": \"2020-04-21\", \"region\": \"Tarapac\\u00e1\", \"casos\": 11, \"codigo region\": 1}, {\"date\": \"2020-04-21\", \"region\": \"Antofagasta\", \"casos\": 28, \"codigo region\": 2}, {\"date\": \"2020-04-21\", \"region\": \"Atacama\", \"casos\": 0, \"codigo region\": 3}, {\"date\": \"2020-04-21\", \"region\": \"Coquimbo\", \"casos\": 0, \"codigo region\": 4}, {\"date\": \"2020-04-21\", \"region\": \"Valpara\\u00edso\", \"casos\": 15, \"codigo region\": 5}, {\"date\": \"2020-04-21\", \"region\": \"Metropolitana\", \"casos\": 145, \"codigo region\": 6}, {\"date\": \"2020-04-21\", \"region\": \"O\\u2019Higgins\", \"casos\": 1, \"codigo region\": 7}, {\"date\": \"2020-04-21\", \"region\": \"Maule\", \"casos\": 12, \"codigo region\": 8}, {\"date\": \"2020-04-21\", \"region\": \"\\u00d1uble\", \"casos\": 7, \"codigo region\": 9}, {\"date\": \"2020-04-21\", \"region\": \"Biob\\u00edo\", \"casos\": 10, \"codigo region\": 10}, {\"date\": \"2020-04-21\", \"region\": \"Araucan\\u00eda\", \"casos\": 47, \"codigo region\": 11}, {\"date\": \"2020-04-21\", \"region\": \"Los R\\u00edos\", \"casos\": 5, \"codigo region\": 12}, {\"date\": \"2020-04-21\", \"region\": \"Los Lagos\", \"casos\": 8, \"codigo region\": 13}, {\"date\": \"2020-04-21\", \"region\": \"Ays\\u00e9n\", \"casos\": 0, \"codigo region\": 14}, {\"date\": \"2020-04-21\", \"region\": \"Magallanes\", \"casos\": 27, \"codigo region\": 15}, {\"date\": \"2020-04-22\", \"region\": \"Arica y Parinacota\", \"casos\": 10, \"codigo region\": 0}, {\"date\": \"2020-04-22\", \"region\": \"Tarapac\\u00e1\", \"casos\": 10, \"codigo region\": 1}, {\"date\": \"2020-04-22\", \"region\": \"Antofagasta\", \"casos\": 35, \"codigo region\": 2}, {\"date\": \"2020-04-22\", \"region\": \"Atacama\", \"casos\": 0, \"codigo region\": 3}, {\"date\": \"2020-04-22\", \"region\": \"Coquimbo\", \"casos\": 1, \"codigo region\": 4}, {\"date\": \"2020-04-22\", \"region\": \"Valpara\\u00edso\", \"casos\": 18, \"codigo region\": 5}, {\"date\": \"2020-04-22\", \"region\": \"Metropolitana\", \"casos\": 295, \"codigo region\": 6}, {\"date\": \"2020-04-22\", \"region\": \"O\\u2019Higgins\", \"casos\": 2, \"codigo region\": 7}, {\"date\": \"2020-04-22\", \"region\": \"Maule\", \"casos\": 12, \"codigo region\": 8}, {\"date\": \"2020-04-22\", \"region\": \"\\u00d1uble\", \"casos\": 9, \"codigo region\": 9}, {\"date\": \"2020-04-22\", \"region\": \"Biob\\u00edo\", \"casos\": 22, \"codigo region\": 10}, {\"date\": \"2020-04-22\", \"region\": \"Araucan\\u00eda\", \"casos\": 21, \"codigo region\": 11}, {\"date\": \"2020-04-22\", \"region\": \"Los R\\u00edos\", \"casos\": 4, \"codigo region\": 12}, {\"date\": \"2020-04-22\", \"region\": \"Los Lagos\", \"casos\": 13, \"codigo region\": 13}, {\"date\": \"2020-04-22\", \"region\": \"Ays\\u00e9n\", \"casos\": 0, \"codigo region\": 14}, {\"date\": \"2020-04-22\", \"region\": \"Magallanes\", \"casos\": 12, \"codigo region\": 15}, {\"date\": \"2020-04-23\", \"region\": \"Arica y Parinacota\", \"casos\": 30, \"codigo region\": 0}, {\"date\": \"2020-04-23\", \"region\": \"Tarapac\\u00e1\", \"casos\": 14, \"codigo region\": 1}, {\"date\": \"2020-04-23\", \"region\": \"Antofagasta\", \"casos\": 14, \"codigo region\": 2}, {\"date\": \"2020-04-23\", \"region\": \"Atacama\", \"casos\": 5, \"codigo region\": 3}, {\"date\": \"2020-04-23\", \"region\": \"Coquimbo\", \"casos\": 0, \"codigo region\": 4}, {\"date\": \"2020-04-23\", \"region\": \"Valpara\\u00edso\", \"casos\": 8, \"codigo region\": 5}, {\"date\": \"2020-04-23\", \"region\": \"Metropolitana\", \"casos\": 351, \"codigo region\": 6}, {\"date\": \"2020-04-23\", \"region\": \"O\\u2019Higgins\", \"casos\": 17, \"codigo region\": 7}, {\"date\": \"2020-04-23\", \"region\": \"Maule\", \"casos\": 5, \"codigo region\": 8}, {\"date\": \"2020-04-23\", \"region\": \"\\u00d1uble\", \"casos\": 5, \"codigo region\": 9}, {\"date\": \"2020-04-23\", \"region\": \"Biob\\u00edo\", \"casos\": 17, \"codigo region\": 10}, {\"date\": \"2020-04-23\", \"region\": \"Araucan\\u00eda\", \"casos\": 29, \"codigo region\": 11}, {\"date\": \"2020-04-23\", \"region\": \"Los R\\u00edos\", \"casos\": 2, \"codigo region\": 12}, {\"date\": \"2020-04-23\", \"region\": \"Los Lagos\", \"casos\": 9, \"codigo region\": 13}, {\"date\": \"2020-04-23\", \"region\": \"Ays\\u00e9n\", \"casos\": 0, \"codigo region\": 14}, {\"date\": \"2020-04-23\", \"region\": \"Magallanes\", \"casos\": 10, \"codigo region\": 15}, {\"date\": \"2020-04-24\", \"region\": \"Arica y Parinacota\", \"casos\": 29, \"codigo region\": 0}, {\"date\": \"2020-04-24\", \"region\": \"Tarapac\\u00e1\", \"casos\": 6, \"codigo region\": 1}, {\"date\": \"2020-04-24\", \"region\": \"Antofagasta\", \"casos\": 26, \"codigo region\": 2}, {\"date\": \"2020-04-24\", \"region\": \"Atacama\", \"casos\": 3, \"codigo region\": 3}, {\"date\": \"2020-04-24\", \"region\": \"Coquimbo\", \"casos\": 2, \"codigo region\": 4}, {\"date\": \"2020-04-24\", \"region\": \"Valpara\\u00edso\", \"casos\": 7, \"codigo region\": 5}, {\"date\": \"2020-04-24\", \"region\": \"Metropolitana\", \"casos\": 327, \"codigo region\": 6}, {\"date\": \"2020-04-24\", \"region\": \"O\\u2019Higgins\", \"casos\": 5, \"codigo region\": 7}, {\"date\": \"2020-04-24\", \"region\": \"Maule\", \"casos\": 16, \"codigo region\": 8}, {\"date\": \"2020-04-24\", \"region\": \"\\u00d1uble\", \"casos\": 7, \"codigo region\": 9}, {\"date\": \"2020-04-24\", \"region\": \"Biob\\u00edo\", \"casos\": 8, \"codigo region\": 10}, {\"date\": \"2020-04-24\", \"region\": \"Araucan\\u00eda\", \"casos\": 42, \"codigo region\": 11}, {\"date\": \"2020-04-24\", \"region\": \"Los R\\u00edos\", \"casos\": 1, \"codigo region\": 12}, {\"date\": \"2020-04-24\", \"region\": \"Los Lagos\", \"casos\": 6, \"codigo region\": 13}, {\"date\": \"2020-04-24\", \"region\": \"Ays\\u00e9n\", \"casos\": 0, \"codigo region\": 14}, {\"date\": \"2020-04-24\", \"region\": \"Magallanes\", \"casos\": 9, \"codigo region\": 15}, {\"date\": \"2020-04-25\", \"region\": \"Arica y Parinacota\", \"casos\": 6, \"codigo region\": 0}, {\"date\": \"2020-04-25\", \"region\": \"Tarapac\\u00e1\", \"casos\": 9, \"codigo region\": 1}, {\"date\": \"2020-04-25\", \"region\": \"Antofagasta\", \"casos\": 25, \"codigo region\": 2}, {\"date\": \"2020-04-25\", \"region\": \"Atacama\", \"casos\": 3, \"codigo region\": 3}, {\"date\": \"2020-04-25\", \"region\": \"Coquimbo\", \"casos\": 1, \"codigo region\": 4}, {\"date\": \"2020-04-25\", \"region\": \"Valpara\\u00edso\", \"casos\": 18, \"codigo region\": 5}, {\"date\": \"2020-04-25\", \"region\": \"Metropolitana\", \"casos\": 404, \"codigo region\": 6}, {\"date\": \"2020-04-25\", \"region\": \"O\\u2019Higgins\", \"casos\": 4, \"codigo region\": 7}, {\"date\": \"2020-04-25\", \"region\": \"Maule\", \"casos\": 1, \"codigo region\": 8}, {\"date\": \"2020-04-25\", \"region\": \"\\u00d1uble\", \"casos\": 10, \"codigo region\": 9}, {\"date\": \"2020-04-25\", \"region\": \"Biob\\u00edo\", \"casos\": 13, \"codigo region\": 10}, {\"date\": \"2020-04-25\", \"region\": \"Araucan\\u00eda\", \"casos\": 19, \"codigo region\": 11}, {\"date\": \"2020-04-25\", \"region\": \"Los R\\u00edos\", \"casos\": 3, \"codigo region\": 12}, {\"date\": \"2020-04-25\", \"region\": \"Los Lagos\", \"casos\": 5, \"codigo region\": 13}, {\"date\": \"2020-04-25\", \"region\": \"Ays\\u00e9n\", \"casos\": 0, \"codigo region\": 14}, {\"date\": \"2020-04-25\", \"region\": \"Magallanes\", \"casos\": 31, \"codigo region\": 15}, {\"date\": \"2020-04-26\", \"region\": \"Arica y Parinacota\", \"casos\": 7, \"codigo region\": 0}, {\"date\": \"2020-04-26\", \"region\": \"Tarapac\\u00e1\", \"casos\": 13, \"codigo region\": 1}, {\"date\": \"2020-04-26\", \"region\": \"Antofagasta\", \"casos\": 52, \"codigo region\": 2}, {\"date\": \"2020-04-26\", \"region\": \"Atacama\", \"casos\": 5, \"codigo region\": 3}, {\"date\": \"2020-04-26\", \"region\": \"Coquimbo\", \"casos\": 0, \"codigo region\": 4}, {\"date\": \"2020-04-26\", \"region\": \"Valpara\\u00edso\", \"casos\": 6, \"codigo region\": 5}, {\"date\": \"2020-04-26\", \"region\": \"Metropolitana\", \"casos\": 331, \"codigo region\": 6}, {\"date\": \"2020-04-26\", \"region\": \"O\\u2019Higgins\", \"casos\": 7, \"codigo region\": 7}, {\"date\": \"2020-04-26\", \"region\": \"Maule\", \"casos\": 4, \"codigo region\": 8}, {\"date\": \"2020-04-26\", \"region\": \"\\u00d1uble\", \"casos\": 6, \"codigo region\": 9}, {\"date\": \"2020-04-26\", \"region\": \"Biob\\u00edo\", \"casos\": 7, \"codigo region\": 10}, {\"date\": \"2020-04-26\", \"region\": \"Araucan\\u00eda\", \"casos\": 13, \"codigo region\": 11}, {\"date\": \"2020-04-26\", \"region\": \"Los R\\u00edos\", \"casos\": 1, \"codigo region\": 12}, {\"date\": \"2020-04-26\", \"region\": \"Los Lagos\", \"casos\": 8, \"codigo region\": 13}, {\"date\": \"2020-04-26\", \"region\": \"Ays\\u00e9n\", \"casos\": 0, \"codigo region\": 14}, {\"date\": \"2020-04-26\", \"region\": \"Magallanes\", \"casos\": 13, \"codigo region\": 15}, {\"date\": \"2020-04-27\", \"region\": \"Arica y Parinacota\", \"casos\": 13, \"codigo region\": 0}, {\"date\": \"2020-04-27\", \"region\": \"Tarapac\\u00e1\", \"casos\": 8, \"codigo region\": 1}, {\"date\": \"2020-04-27\", \"region\": \"Antofagasta\", \"casos\": 14, \"codigo region\": 2}, {\"date\": \"2020-04-27\", \"region\": \"Atacama\", \"casos\": 6, \"codigo region\": 3}, {\"date\": \"2020-04-27\", \"region\": \"Coquimbo\", \"casos\": 1, \"codigo region\": 4}, {\"date\": \"2020-04-27\", \"region\": \"Valpara\\u00edso\", \"casos\": 25, \"codigo region\": 5}, {\"date\": \"2020-04-27\", \"region\": \"Metropolitana\", \"casos\": 362, \"codigo region\": 6}, {\"date\": \"2020-04-27\", \"region\": \"O\\u2019Higgins\", \"casos\": 2, \"codigo region\": 7}, {\"date\": \"2020-04-27\", \"region\": \"Maule\", \"casos\": 9, \"codigo region\": 8}, {\"date\": \"2020-04-27\", \"region\": \"\\u00d1uble\", \"casos\": 10, \"codigo region\": 9}, {\"date\": \"2020-04-27\", \"region\": \"Biob\\u00edo\", \"casos\": 3, \"codigo region\": 10}, {\"date\": \"2020-04-27\", \"region\": \"Araucan\\u00eda\", \"casos\": 20, \"codigo region\": 11}, {\"date\": \"2020-04-27\", \"region\": \"Los R\\u00edos\", \"casos\": 2, \"codigo region\": 12}, {\"date\": \"2020-04-27\", \"region\": \"Los Lagos\", \"casos\": 4, \"codigo region\": 13}, {\"date\": \"2020-04-27\", \"region\": \"Ays\\u00e9n\", \"casos\": 0, \"codigo region\": 14}, {\"date\": \"2020-04-27\", \"region\": \"Magallanes\", \"casos\": 3, \"codigo region\": 15}, {\"date\": \"2020-04-28\", \"region\": \"Arica y Parinacota\", \"casos\": 3, \"codigo region\": 0}, {\"date\": \"2020-04-28\", \"region\": \"Tarapac\\u00e1\", \"casos\": 5, \"codigo region\": 1}, {\"date\": \"2020-04-28\", \"region\": \"Antofagasta\", \"casos\": 24, \"codigo region\": 2}, {\"date\": \"2020-04-28\", \"region\": \"Atacama\", \"casos\": 0, \"codigo region\": 3}, {\"date\": \"2020-04-28\", \"region\": \"Coquimbo\", \"casos\": 0, \"codigo region\": 4}, {\"date\": \"2020-04-28\", \"region\": \"Valpara\\u00edso\", \"casos\": 8, \"codigo region\": 5}, {\"date\": \"2020-04-28\", \"region\": \"Metropolitana\", \"casos\": 442, \"codigo region\": 6}, {\"date\": \"2020-04-28\", \"region\": \"O\\u2019Higgins\", \"casos\": 3, \"codigo region\": 7}, {\"date\": \"2020-04-28\", \"region\": \"Maule\", \"casos\": 21, \"codigo region\": 8}, {\"date\": \"2020-04-28\", \"region\": \"\\u00d1uble\", \"casos\": 6, \"codigo region\": 9}, {\"date\": \"2020-04-28\", \"region\": \"Biob\\u00edo\", \"casos\": 3, \"codigo region\": 10}, {\"date\": \"2020-04-28\", \"region\": \"Araucan\\u00eda\", \"casos\": 15, \"codigo region\": 11}, {\"date\": \"2020-04-28\", \"region\": \"Los R\\u00edos\", \"casos\": 0, \"codigo region\": 12}, {\"date\": \"2020-04-28\", \"region\": \"Los Lagos\", \"casos\": 0, \"codigo region\": 13}, {\"date\": \"2020-04-28\", \"region\": \"Ays\\u00e9n\", \"casos\": 0, \"codigo region\": 14}, {\"date\": \"2020-04-28\", \"region\": \"Magallanes\", \"casos\": 22, \"codigo region\": 15}, {\"date\": \"2020-04-29\", \"region\": \"Arica y Parinacota\", \"casos\": 4, \"codigo region\": 0}, {\"date\": \"2020-04-29\", \"region\": \"Tarapac\\u00e1\", \"casos\": 14, \"codigo region\": 1}, {\"date\": \"2020-04-29\", \"region\": \"Antofagasta\", \"casos\": 33, \"codigo region\": 2}, {\"date\": \"2020-04-29\", \"region\": \"Atacama\", \"casos\": 7, \"codigo region\": 3}, {\"date\": \"2020-04-29\", \"region\": \"Coquimbo\", \"casos\": 2, \"codigo region\": 4}, {\"date\": \"2020-04-29\", \"region\": \"Valpara\\u00edso\", \"casos\": 33, \"codigo region\": 5}, {\"date\": \"2020-04-29\", \"region\": \"Metropolitana\", \"casos\": 589, \"codigo region\": 6}, {\"date\": \"2020-04-29\", \"region\": \"O\\u2019Higgins\", \"casos\": 7, \"codigo region\": 7}, {\"date\": \"2020-04-29\", \"region\": \"Maule\", \"casos\": 8, \"codigo region\": 8}, {\"date\": \"2020-04-29\", \"region\": \"\\u00d1uble\", \"casos\": 14, \"codigo region\": 9}, {\"date\": \"2020-04-29\", \"region\": \"Biob\\u00edo\", \"casos\": 10, \"codigo region\": 10}, {\"date\": \"2020-04-29\", \"region\": \"Araucan\\u00eda\", \"casos\": 22, \"codigo region\": 11}, {\"date\": \"2020-04-29\", \"region\": \"Los R\\u00edos\", \"casos\": 2, \"codigo region\": 12}, {\"date\": \"2020-04-29\", \"region\": \"Los Lagos\", \"casos\": 4, \"codigo region\": 13}, {\"date\": \"2020-04-29\", \"region\": \"Ays\\u00e9n\", \"casos\": 0, \"codigo region\": 14}, {\"date\": \"2020-04-29\", \"region\": \"Magallanes\", \"casos\": 21, \"codigo region\": 15}, {\"date\": \"2020-04-30\", \"region\": \"Arica y Parinacota\", \"casos\": 7, \"codigo region\": 0}, {\"date\": \"2020-04-30\", \"region\": \"Tarapac\\u00e1\", \"casos\": 15, \"codigo region\": 1}, {\"date\": \"2020-04-30\", \"region\": \"Antofagasta\", \"casos\": 32, \"codigo region\": 2}, {\"date\": \"2020-04-30\", \"region\": \"Atacama\", \"casos\": 1, \"codigo region\": 3}, {\"date\": \"2020-04-30\", \"region\": \"Coquimbo\", \"casos\": 0, \"codigo region\": 4}, {\"date\": \"2020-04-30\", \"region\": \"Valpara\\u00edso\", \"casos\": 33, \"codigo region\": 5}, {\"date\": \"2020-04-30\", \"region\": \"Metropolitana\", \"casos\": 736, \"codigo region\": 6}, {\"date\": \"2020-04-30\", \"region\": \"O\\u2019Higgins\", \"casos\": 4, \"codigo region\": 7}, {\"date\": \"2020-04-30\", \"region\": \"Maule\", \"casos\": 1, \"codigo region\": 8}, {\"date\": \"2020-04-30\", \"region\": \"\\u00d1uble\", \"casos\": 7, \"codigo region\": 9}, {\"date\": \"2020-04-30\", \"region\": \"Biob\\u00edo\", \"casos\": 8, \"codigo region\": 10}, {\"date\": \"2020-04-30\", \"region\": \"Araucan\\u00eda\", \"casos\": 20, \"codigo region\": 11}, {\"date\": \"2020-04-30\", \"region\": \"Los R\\u00edos\", \"casos\": 7, \"codigo region\": 12}, {\"date\": \"2020-04-30\", \"region\": \"Los Lagos\", \"casos\": 6, \"codigo region\": 13}, {\"date\": \"2020-04-30\", \"region\": \"Ays\\u00e9n\", \"casos\": 0, \"codigo region\": 14}, {\"date\": \"2020-04-30\", \"region\": \"Magallanes\", \"casos\": 11, \"codigo region\": 15}, {\"date\": \"2020-05-01\", \"region\": \"Arica y Parinacota\", \"casos\": 18, \"codigo region\": 0}, {\"date\": \"2020-05-01\", \"region\": \"Tarapac\\u00e1\", \"casos\": 2, \"codigo region\": 1}, {\"date\": \"2020-05-01\", \"region\": \"Antofagasta\", \"casos\": 43, \"codigo region\": 2}, {\"date\": \"2020-05-01\", \"region\": \"Atacama\", \"casos\": 0, \"codigo region\": 3}, {\"date\": \"2020-05-01\", \"region\": \"Coquimbo\", \"casos\": 1, \"codigo region\": 4}, {\"date\": \"2020-05-01\", \"region\": \"Valpara\\u00edso\", \"casos\": 9, \"codigo region\": 5}, {\"date\": \"2020-05-01\", \"region\": \"Metropolitana\", \"casos\": 891, \"codigo region\": 6}, {\"date\": \"2020-05-01\", \"region\": \"O\\u2019Higgins\", \"casos\": 1, \"codigo region\": 7}, {\"date\": \"2020-05-01\", \"region\": \"Maule\", \"casos\": 1, \"codigo region\": 8}, {\"date\": \"2020-05-01\", \"region\": \"\\u00d1uble\", \"casos\": 0, \"codigo region\": 9}, {\"date\": \"2020-05-01\", \"region\": \"Biob\\u00edo\", \"casos\": 2, \"codigo region\": 10}, {\"date\": \"2020-05-01\", \"region\": \"Araucan\\u00eda\", \"casos\": 2, \"codigo region\": 11}, {\"date\": \"2020-05-01\", \"region\": \"Los R\\u00edos\", \"casos\": 0, \"codigo region\": 12}, {\"date\": \"2020-05-01\", \"region\": \"Los Lagos\", \"casos\": 14, \"codigo region\": 13}, {\"date\": \"2020-05-01\", \"region\": \"Ays\\u00e9n\", \"casos\": 0, \"codigo region\": 14}, {\"date\": \"2020-05-01\", \"region\": \"Magallanes\", \"casos\": 1, \"codigo region\": 15}, {\"date\": \"2020-05-02\", \"region\": \"Arica y Parinacota\", \"casos\": 10, \"codigo region\": 0}, {\"date\": \"2020-05-02\", \"region\": \"Tarapac\\u00e1\", \"casos\": 12, \"codigo region\": 1}, {\"date\": \"2020-05-02\", \"region\": \"Antofagasta\", \"casos\": 90, \"codigo region\": 2}, {\"date\": \"2020-05-02\", \"region\": \"Atacama\", \"casos\": 16, \"codigo region\": 3}, {\"date\": \"2020-05-02\", \"region\": \"Coquimbo\", \"casos\": 1, \"codigo region\": 4}, {\"date\": \"2020-05-02\", \"region\": \"Valpara\\u00edso\", \"casos\": 46, \"codigo region\": 5}, {\"date\": \"2020-05-02\", \"region\": \"Metropolitana\", \"casos\": 1145, \"codigo region\": 6}, {\"date\": \"2020-05-02\", \"region\": \"O\\u2019Higgins\", \"casos\": 11, \"codigo region\": 7}, {\"date\": \"2020-05-02\", \"region\": \"Maule\", \"casos\": 2, \"codigo region\": 8}, {\"date\": \"2020-05-02\", \"region\": \"\\u00d1uble\", \"casos\": 8, \"codigo region\": 9}, {\"date\": \"2020-05-02\", \"region\": \"Biob\\u00edo\", \"casos\": 22, \"codigo region\": 10}, {\"date\": \"2020-05-02\", \"region\": \"Araucan\\u00eda\", \"casos\": 19, \"codigo region\": 11}, {\"date\": \"2020-05-02\", \"region\": \"Los R\\u00edos\", \"casos\": 7, \"codigo region\": 12}, {\"date\": \"2020-05-02\", \"region\": \"Los Lagos\", \"casos\": 12, \"codigo region\": 13}, {\"date\": \"2020-05-02\", \"region\": \"Ays\\u00e9n\", \"casos\": 0, \"codigo region\": 14}, {\"date\": \"2020-05-02\", \"region\": \"Magallanes\", \"casos\": 26, \"codigo region\": 15}, {\"date\": \"2020-05-03\", \"region\": \"Arica y Parinacota\", \"casos\": 1, \"codigo region\": 0}, {\"date\": \"2020-05-03\", \"region\": \"Tarapac\\u00e1\", \"casos\": 60, \"codigo region\": 1}, {\"date\": \"2020-05-03\", \"region\": \"Antofagasta\", \"casos\": 61, \"codigo region\": 2}, {\"date\": \"2020-05-03\", \"region\": \"Atacama\", \"casos\": 8, \"codigo region\": 3}, {\"date\": \"2020-05-03\", \"region\": \"Coquimbo\", \"casos\": 10, \"codigo region\": 4}, {\"date\": \"2020-05-03\", \"region\": \"Valpara\\u00edso\", \"casos\": 24, \"codigo region\": 5}, {\"date\": \"2020-05-03\", \"region\": \"Metropolitana\", \"casos\": 995, \"codigo region\": 6}, {\"date\": \"2020-05-03\", \"region\": \"O\\u2019Higgins\", \"casos\": 5, \"codigo region\": 7}, {\"date\": \"2020-05-03\", \"region\": \"Maule\", \"casos\": 1, \"codigo region\": 8}, {\"date\": \"2020-05-03\", \"region\": \"\\u00d1uble\", \"casos\": 10, \"codigo region\": 9}, {\"date\": \"2020-05-03\", \"region\": \"Biob\\u00edo\", \"casos\": 8, \"codigo region\": 10}, {\"date\": \"2020-05-03\", \"region\": \"Araucan\\u00eda\", \"casos\": 14, \"codigo region\": 11}, {\"date\": \"2020-05-03\", \"region\": \"Los R\\u00edos\", \"casos\": 2, \"codigo region\": 12}, {\"date\": \"2020-05-03\", \"region\": \"Los Lagos\", \"casos\": 4, \"codigo region\": 13}, {\"date\": \"2020-05-03\", \"region\": \"Ays\\u00e9n\", \"casos\": 0, \"codigo region\": 14}, {\"date\": \"2020-05-03\", \"region\": \"Magallanes\", \"casos\": 25, \"codigo region\": 15}, {\"date\": \"2020-05-04\", \"region\": \"Arica y Parinacota\", \"casos\": 0, \"codigo region\": 0}, {\"date\": \"2020-05-04\", \"region\": \"Tarapac\\u00e1\", \"casos\": 23, \"codigo region\": 1}, {\"date\": \"2020-05-04\", \"region\": \"Antofagasta\", \"casos\": 20, \"codigo region\": 2}, {\"date\": \"2020-05-04\", \"region\": \"Atacama\", \"casos\": 3, \"codigo region\": 3}, {\"date\": \"2020-05-04\", \"region\": \"Coquimbo\", \"casos\": 3, \"codigo region\": 4}, {\"date\": \"2020-05-04\", \"region\": \"Valpara\\u00edso\", \"casos\": 18, \"codigo region\": 5}, {\"date\": \"2020-05-04\", \"region\": \"Metropolitana\", \"casos\": 872, \"codigo region\": 6}, {\"date\": \"2020-05-04\", \"region\": \"O\\u2019Higgins\", \"casos\": 6, \"codigo region\": 7}, {\"date\": \"2020-05-04\", \"region\": \"Maule\", \"casos\": 2, \"codigo region\": 8}, {\"date\": \"2020-05-04\", \"region\": \"\\u00d1uble\", \"casos\": 1, \"codigo region\": 9}, {\"date\": \"2020-05-04\", \"region\": \"Biob\\u00edo\", \"casos\": 3, \"codigo region\": 10}, {\"date\": \"2020-05-04\", \"region\": \"Araucan\\u00eda\", \"casos\": 3, \"codigo region\": 11}, {\"date\": \"2020-05-04\", \"region\": \"Los R\\u00edos\", \"casos\": 1, \"codigo region\": 12}, {\"date\": \"2020-05-04\", \"region\": \"Los Lagos\", \"casos\": 7, \"codigo region\": 13}, {\"date\": \"2020-05-04\", \"region\": \"Ays\\u00e9n\", \"casos\": 0, \"codigo region\": 14}, {\"date\": \"2020-05-04\", \"region\": \"Magallanes\", \"casos\": 18, \"codigo region\": 15}, {\"date\": \"2020-05-05\", \"region\": \"Arica y Parinacota\", \"casos\": 7, \"codigo region\": 0}, {\"date\": \"2020-05-05\", \"region\": \"Tarapac\\u00e1\", \"casos\": 27, \"codigo region\": 1}, {\"date\": \"2020-05-05\", \"region\": \"Antofagasta\", \"casos\": 51, \"codigo region\": 2}, {\"date\": \"2020-05-05\", \"region\": \"Atacama\", \"casos\": 8, \"codigo region\": 3}, {\"date\": \"2020-05-05\", \"region\": \"Coquimbo\", \"casos\": 6, \"codigo region\": 4}, {\"date\": \"2020-05-05\", \"region\": \"Valpara\\u00edso\", \"casos\": 31, \"codigo region\": 5}, {\"date\": \"2020-05-05\", \"region\": \"Metropolitana\", \"casos\": 1179, \"codigo region\": 6}, {\"date\": \"2020-05-05\", \"region\": \"O\\u2019Higgins\", \"casos\": 5, \"codigo region\": 7}, {\"date\": \"2020-05-05\", \"region\": \"Maule\", \"casos\": 9, \"codigo region\": 8}, {\"date\": \"2020-05-05\", \"region\": \"\\u00d1uble\", \"casos\": 2, \"codigo region\": 9}, {\"date\": \"2020-05-05\", \"region\": \"Biob\\u00edo\", \"casos\": 12, \"codigo region\": 10}, {\"date\": \"2020-05-05\", \"region\": \"Araucan\\u00eda\", \"casos\": 21, \"codigo region\": 11}, {\"date\": \"2020-05-05\", \"region\": \"Los R\\u00edos\", \"casos\": 0, \"codigo region\": 12}, {\"date\": \"2020-05-05\", \"region\": \"Los Lagos\", \"casos\": 1, \"codigo region\": 13}, {\"date\": \"2020-05-05\", \"region\": \"Ays\\u00e9n\", \"casos\": 0, \"codigo region\": 14}, {\"date\": \"2020-05-05\", \"region\": \"Magallanes\", \"casos\": 14, \"codigo region\": 15}, {\"date\": \"2020-05-06\", \"region\": \"Arica y Parinacota\", \"casos\": 3, \"codigo region\": 0}, {\"date\": \"2020-05-06\", \"region\": \"Tarapac\\u00e1\", \"casos\": 17, \"codigo region\": 1}, {\"date\": \"2020-05-06\", \"region\": \"Antofagasta\", \"casos\": 44, \"codigo region\": 2}, {\"date\": \"2020-05-06\", \"region\": \"Atacama\", \"casos\": 2, \"codigo region\": 3}, {\"date\": \"2020-05-06\", \"region\": \"Coquimbo\", \"casos\": 0, \"codigo region\": 4}, {\"date\": \"2020-05-06\", \"region\": \"Valpara\\u00edso\", \"casos\": 29, \"codigo region\": 5}, {\"date\": \"2020-05-06\", \"region\": \"Metropolitana\", \"casos\": 875, \"codigo region\": 6}, {\"date\": \"2020-05-06\", \"region\": \"O\\u2019Higgins\", \"casos\": 9, \"codigo region\": 7}, {\"date\": \"2020-05-06\", \"region\": \"Maule\", \"casos\": 0, \"codigo region\": 8}, {\"date\": \"2020-05-06\", \"region\": \"\\u00d1uble\", \"casos\": 2, \"codigo region\": 9}, {\"date\": \"2020-05-06\", \"region\": \"Biob\\u00edo\", \"casos\": 15, \"codigo region\": 10}, {\"date\": \"2020-05-06\", \"region\": \"Araucan\\u00eda\", \"casos\": 10, \"codigo region\": 11}, {\"date\": \"2020-05-06\", \"region\": \"Los R\\u00edos\", \"casos\": 1, \"codigo region\": 12}, {\"date\": \"2020-05-06\", \"region\": \"Los Lagos\", \"casos\": 16, \"codigo region\": 13}, {\"date\": \"2020-05-06\", \"region\": \"Ays\\u00e9n\", \"casos\": 0, \"codigo region\": 14}, {\"date\": \"2020-05-06\", \"region\": \"Magallanes\", \"casos\": 9, \"codigo region\": 15}, {\"date\": \"2020-05-07\", \"region\": \"Arica y Parinacota\", \"casos\": 7, \"codigo region\": 0}, {\"date\": \"2020-05-07\", \"region\": \"Tarapac\\u00e1\", \"casos\": 78, \"codigo region\": 1}, {\"date\": \"2020-05-07\", \"region\": \"Antofagasta\", \"casos\": 40, \"codigo region\": 2}, {\"date\": \"2020-05-07\", \"region\": \"Atacama\", \"casos\": 7, \"codigo region\": 3}, {\"date\": \"2020-05-07\", \"region\": \"Coquimbo\", \"casos\": 3, \"codigo region\": 4}, {\"date\": \"2020-05-07\", \"region\": \"Valpara\\u00edso\", \"casos\": 65, \"codigo region\": 5}, {\"date\": \"2020-05-07\", \"region\": \"Metropolitana\", \"casos\": 1246, \"codigo region\": 6}, {\"date\": \"2020-05-07\", \"region\": \"O\\u2019Higgins\", \"casos\": 6, \"codigo region\": 7}, {\"date\": \"2020-05-07\", \"region\": \"Maule\", \"casos\": 6, \"codigo region\": 8}, {\"date\": \"2020-05-07\", \"region\": \"\\u00d1uble\", \"casos\": 2, \"codigo region\": 9}, {\"date\": \"2020-05-07\", \"region\": \"Biob\\u00edo\", \"casos\": 25, \"codigo region\": 10}, {\"date\": \"2020-05-07\", \"region\": \"Araucan\\u00eda\", \"casos\": 23, \"codigo region\": 11}, {\"date\": \"2020-05-07\", \"region\": \"Los R\\u00edos\", \"casos\": 2, \"codigo region\": 12}, {\"date\": \"2020-05-07\", \"region\": \"Los Lagos\", \"casos\": 4, \"codigo region\": 13}, {\"date\": \"2020-05-07\", \"region\": \"Ays\\u00e9n\", \"casos\": 1, \"codigo region\": 14}, {\"date\": \"2020-05-07\", \"region\": \"Magallanes\", \"casos\": 18, \"codigo region\": 15}]}}, {\"mode\": \"vega-lite\"});\n",
       "</script>"
      ],
      "text/plain": [
       "alt.HConcatChart(...)"
      ]
     },
     "execution_count": 158,
     "metadata": {},
     "output_type": "execute_result"
    }
   ],
   "source": [
    "#hide_input\n",
    "input_dropdown = alt.binding_select(options=data['region'].unique())\n",
    "selection1 = alt.selection_single(fields=['region'], bind=input_dropdown, name=' ')\n",
    "selection2 = alt.selection_multi(fields=['region'], on='mouseover')\n",
    "color = alt.condition(selection1 | selection2,\n",
    "                    alt.Color('region:N', scale=alt.Scale(scheme='tableau20'), legend=None),\n",
    "                    alt.value('lightgray'))\n",
    "\n",
    "chart = alt.Chart(data).mark_bar().encode(\n",
    "    x=alt.X('date:O', axis=alt.Axis(title='Fecha (año-mes-día)')),\n",
    "    y=alt.Y('casos', axis=alt.Axis(title='Casos confirmados')),\n",
    "    color=color,\n",
    "    tooltip=['date', 'region', 'casos'],\n",
    "    order=alt.Order(\n",
    "    # Sort the segments of the bars by this field\n",
    "    'codigo region',\n",
    "    sort='descending'\n",
    "    )\n",
    ").properties(\n",
    "    title='Covid-19 en Chile: Casos confirmados diarios por región'\n",
    ").add_selection(\n",
    "    selection1, selection2\n",
    ").transform_filter(\n",
    "    selection1\n",
    ")\n",
    "\n",
    "legend = alt.Chart(data).mark_point().encode(\n",
    "    y=alt.Y('region:N', axis=alt.Axis(orient='right'), sort=regiones),\n",
    "    color=color\n",
    ").add_selection(\n",
    "    selection1, selection2\n",
    ")\n",
    "\n",
    "chart.properties(width=600, height=400) | legend"
   ]
  },
  {
   "cell_type": "markdown",
   "metadata": {},
   "source": [
    "# Evolución de fallecimientos confirmados diarios por región"
   ]
  },
  {
   "cell_type": "code",
   "execution_count": 159,
   "metadata": {
    "execution": {
     "iopub.execute_input": "2020-04-28T12:16:34.501390Z",
     "iopub.status.busy": "2020-04-28T12:16:34.500754Z",
     "iopub.status.idle": "2020-04-28T12:16:34.607378Z",
     "shell.execute_reply": "2020-04-28T12:16:34.606437Z"
    },
    "papermill": {
     "duration": 0.194542,
     "end_time": "2020-04-28T12:16:34.607572",
     "exception": false,
     "start_time": "2020-04-28T12:16:34.413030",
     "status": "completed"
    },
    "tags": []
   },
   "outputs": [],
   "source": [
    "#hide\n",
    "data = pd.DataFrame()\n",
    "data_raw = pd.read_csv(\n",
    "    \"https://raw.githubusercontent.com/MinCiencia/Datos-COVID19/master/output/producto4/2020-03-24-CasosConfirmados-totalRegional.csv\",\n",
    "    index_col='Region')\n",
    "data['2020-03-24'] = data_raw['Fallecidos']"
   ]
  },
  {
   "cell_type": "code",
   "execution_count": 160,
   "metadata": {
    "execution": {
     "iopub.execute_input": "2020-04-28T12:16:34.779550Z",
     "iopub.status.busy": "2020-04-28T12:16:34.778883Z",
     "iopub.status.idle": "2020-04-28T12:16:34.781076Z",
     "shell.execute_reply": "2020-04-28T12:16:34.780561Z"
    },
    "papermill": {
     "duration": 0.090551,
     "end_time": "2020-04-28T12:16:34.781187",
     "exception": false,
     "start_time": "2020-04-28T12:16:34.690636",
     "status": "completed"
    },
    "tags": []
   },
   "outputs": [],
   "source": [
    "#hide\n",
    "first_death_date = '2020-03-24'\n",
    "total_days = (pd.to_datetime(today)-pd.to_datetime(first_death_date)).days"
   ]
  },
  {
   "cell_type": "code",
   "execution_count": 161,
   "metadata": {
    "execution": {
     "iopub.execute_input": "2020-04-28T12:16:34.955763Z",
     "iopub.status.busy": "2020-04-28T12:16:34.955128Z",
     "iopub.status.idle": "2020-04-28T12:16:38.267570Z",
     "shell.execute_reply": "2020-04-28T12:16:38.266653Z"
    },
    "papermill": {
     "duration": 3.402871,
     "end_time": "2020-04-28T12:16:38.267760",
     "exception": false,
     "start_time": "2020-04-28T12:16:34.864889",
     "status": "completed"
    },
    "tags": []
   },
   "outputs": [],
   "source": [
    "#hide\n",
    "for i in np.arange(total_days+1):\n",
    "  date = (pd.to_datetime(first_death_date)+pd.DateOffset(i)).strftime('%Y-%m-%d')\n",
    "  s = \"https://raw.githubusercontent.com/MinCiencia/Datos-COVID19/master/output/producto4/\" + date + \"-CasosConfirmados-totalRegional.csv\"\n",
    "  data_by_date = pd.read_csv(s)\n",
    "  if 'Fallecidos' in data_by_date.columns:\n",
    "    data[date] = data_by_date[\"Fallecidos\"].values\n",
    "  elif 'Casos fallecidos' in data_by_date.columns:\n",
    "    data[date] = data_by_date[\"Casos fallecidos\"].values\n",
    "  else:\n",
    "    data[date] = data_by_date[\" Casos fallecidos\"].values"
   ]
  },
  {
   "cell_type": "code",
   "execution_count": 162,
   "metadata": {},
   "outputs": [],
   "source": [
    "#hide\n",
    "data = data.T.diff().fillna(0).T"
   ]
  },
  {
   "cell_type": "code",
   "execution_count": 163,
   "metadata": {
    "execution": {
     "iopub.execute_input": "2020-04-28T12:16:38.444360Z",
     "iopub.status.busy": "2020-04-28T12:16:38.443550Z",
     "iopub.status.idle": "2020-04-28T12:16:38.445281Z",
     "shell.execute_reply": "2020-04-28T12:16:38.445820Z"
    },
    "papermill": {
     "duration": 0.094073,
     "end_time": "2020-04-28T12:16:38.446041",
     "exception": false,
     "start_time": "2020-04-28T12:16:38.351968",
     "status": "completed"
    },
    "tags": []
   },
   "outputs": [],
   "source": [
    "#hide\n",
    "data = data.drop(\"Total\")"
   ]
  },
  {
   "cell_type": "code",
   "execution_count": 164,
   "metadata": {
    "execution": {
     "iopub.execute_input": "2020-04-28T12:16:38.623718Z",
     "iopub.status.busy": "2020-04-28T12:16:38.622846Z",
     "iopub.status.idle": "2020-04-28T12:16:38.957040Z",
     "shell.execute_reply": "2020-04-28T12:16:38.957547Z"
    },
    "papermill": {
     "duration": 0.427634,
     "end_time": "2020-04-28T12:16:38.957695",
     "exception": false,
     "start_time": "2020-04-28T12:16:38.530061",
     "status": "completed"
    },
    "tags": []
   },
   "outputs": [],
   "source": [
    "#hide\n",
    "new_data = pd.DataFrame()\n",
    "i = 0\n",
    "for date in data.keys():\n",
    "    for n, region in enumerate(data.index):\n",
    "        new_data[i] = date, region, data[date].loc[region], n\n",
    "        i += 1"
   ]
  },
  {
   "cell_type": "code",
   "execution_count": 165,
   "metadata": {
    "execution": {
     "iopub.execute_input": "2020-04-28T12:16:39.139159Z",
     "iopub.status.busy": "2020-04-28T12:16:39.138494Z",
     "iopub.status.idle": "2020-04-28T12:16:39.144086Z",
     "shell.execute_reply": "2020-04-28T12:16:39.143563Z"
    },
    "papermill": {
     "duration": 0.097874,
     "end_time": "2020-04-28T12:16:39.144196",
     "exception": false,
     "start_time": "2020-04-28T12:16:39.046322",
     "status": "completed"
    },
    "tags": []
   },
   "outputs": [],
   "source": [
    "#hide\n",
    "data = data.reset_index()\n",
    "regiones = data['Region'].values\n",
    "new_data = new_data.T\n",
    "new_data = new_data.rename(columns={0: \"date\", 1: \"region\", 2: \"fallecidos\", 3: \"codigo region\"})"
   ]
  },
  {
   "cell_type": "code",
   "execution_count": 166,
   "metadata": {
    "execution": {
     "iopub.execute_input": "2020-04-28T12:16:39.321415Z",
     "iopub.status.busy": "2020-04-28T12:16:39.320809Z",
     "iopub.status.idle": "2020-04-28T12:16:39.324018Z",
     "shell.execute_reply": "2020-04-28T12:16:39.323507Z"
    },
    "papermill": {
     "duration": 0.095476,
     "end_time": "2020-04-28T12:16:39.324127",
     "exception": false,
     "start_time": "2020-04-28T12:16:39.228651",
     "status": "completed"
    },
    "tags": []
   },
   "outputs": [],
   "source": [
    "#hide\n",
    "new_data[\"fallecidos\"] = new_data[\"fallecidos\"].astype(int)"
   ]
  },
  {
   "cell_type": "code",
   "execution_count": 168,
   "metadata": {
    "execution": {
     "iopub.execute_input": "2020-04-28T12:16:39.522109Z",
     "iopub.status.busy": "2020-04-28T12:16:39.506652Z",
     "iopub.status.idle": "2020-04-28T12:16:39.582068Z",
     "shell.execute_reply": "2020-04-28T12:16:39.582881Z"
    },
    "papermill": {
     "duration": 0.17631,
     "end_time": "2020-04-28T12:16:39.583116",
     "exception": false,
     "start_time": "2020-04-28T12:16:39.406806",
     "status": "completed"
    },
    "tags": []
   },
   "outputs": [
    {
     "data": {
      "text/html": [
       "\n",
       "<div id=\"altair-viz-7a7c31abb5b847fba0451b947a9fb044\"></div>\n",
       "<script type=\"text/javascript\">\n",
       "  (function(spec, embedOpt){\n",
       "    let outputDiv = document.currentScript.previousElementSibling;\n",
       "    if (outputDiv.id !== \"altair-viz-7a7c31abb5b847fba0451b947a9fb044\") {\n",
       "      outputDiv = document.getElementById(\"altair-viz-7a7c31abb5b847fba0451b947a9fb044\");\n",
       "    }\n",
       "    const paths = {\n",
       "      \"vega\": \"https://cdn.jsdelivr.net/npm//vega@5?noext\",\n",
       "      \"vega-lib\": \"https://cdn.jsdelivr.net/npm//vega-lib?noext\",\n",
       "      \"vega-lite\": \"https://cdn.jsdelivr.net/npm//vega-lite@4.8.1?noext\",\n",
       "      \"vega-embed\": \"https://cdn.jsdelivr.net/npm//vega-embed@6?noext\",\n",
       "    };\n",
       "\n",
       "    function loadScript(lib) {\n",
       "      return new Promise(function(resolve, reject) {\n",
       "        var s = document.createElement('script');\n",
       "        s.src = paths[lib];\n",
       "        s.async = true;\n",
       "        s.onload = () => resolve(paths[lib]);\n",
       "        s.onerror = () => reject(`Error loading script: ${paths[lib]}`);\n",
       "        document.getElementsByTagName(\"head\")[0].appendChild(s);\n",
       "      });\n",
       "    }\n",
       "\n",
       "    function showError(err) {\n",
       "      outputDiv.innerHTML = `<div class=\"error\" style=\"color:red;\">${err}</div>`;\n",
       "      throw err;\n",
       "    }\n",
       "\n",
       "    function displayChart(vegaEmbed) {\n",
       "      vegaEmbed(outputDiv, spec, embedOpt)\n",
       "        .catch(err => showError(`Javascript Error: ${err.message}<br>This usually means there's a typo in your chart specification. See the javascript console for the full traceback.`));\n",
       "    }\n",
       "\n",
       "    if(typeof define === \"function\" && define.amd) {\n",
       "      requirejs.config({paths});\n",
       "      require([\"vega-embed\"], displayChart, err => showError(`Error loading script: ${err.message}`));\n",
       "    } else if (typeof vegaEmbed === \"function\") {\n",
       "      displayChart(vegaEmbed);\n",
       "    } else {\n",
       "      loadScript(\"vega\")\n",
       "        .then(() => loadScript(\"vega-lite\"))\n",
       "        .then(() => loadScript(\"vega-embed\"))\n",
       "        .catch(showError)\n",
       "        .then(() => displayChart(vegaEmbed));\n",
       "    }\n",
       "  })({\"config\": {\"view\": {\"continuousWidth\": 400, \"continuousHeight\": 300}}, \"hconcat\": [{\"mark\": \"bar\", \"encoding\": {\"color\": {\"condition\": {\"type\": \"nominal\", \"field\": \"region\", \"legend\": null, \"scale\": {\"scheme\": \"tableau20\"}, \"selection\": {\"or\": [\" \", \"selector007\"]}}, \"value\": \"lightgray\"}, \"order\": {\"type\": \"quantitative\", \"field\": \"codigo region\", \"sort\": \"descending\"}, \"tooltip\": [{\"type\": \"nominal\", \"field\": \"date\"}, {\"type\": \"nominal\", \"field\": \"region\"}, {\"type\": \"quantitative\", \"field\": \"fallecidos\"}], \"x\": {\"type\": \"ordinal\", \"axis\": {\"title\": \"Fecha (a\\u00f1o-mes-d\\u00eda)\"}, \"field\": \"date\"}, \"y\": {\"type\": \"quantitative\", \"axis\": {\"title\": \"Fallecimientos confirmados\"}, \"field\": \"fallecidos\"}}, \"height\": 400, \"selection\": {\" \": {\"type\": \"single\", \"fields\": [\"region\"], \"bind\": {\"input\": \"select\", \"options\": [\"Arica y Parinacota\", \"Tarapac\\u00e1\", \"Antofagasta\", \"Atacama\", \"Coquimbo\", \"Valpara\\u00edso\", \"Metropolitana\", \"O\\u2019Higgins\", \"Maule\", \"\\u00d1uble\", \"Biob\\u00edo\", \"Araucan\\u00eda\", \"Los R\\u00edos\", \"Los Lagos\", \"Ays\\u00e9n\", \"Magallanes\"]}}, \"selector007\": {\"type\": \"multi\", \"fields\": [\"region\"], \"on\": \"mouseover\"}}, \"title\": \"Covid-19 en Chile: Fallecimientos confirmados diarios por regi\\u00f3n\", \"transform\": [{\"filter\": {\"selection\": \" \"}}], \"width\": 600}, {\"mark\": \"point\", \"encoding\": {\"color\": {\"condition\": {\"type\": \"nominal\", \"field\": \"region\", \"legend\": null, \"scale\": {\"scheme\": \"tableau20\"}, \"selection\": {\"or\": [\" \", \"selector007\"]}}, \"value\": \"lightgray\"}, \"y\": {\"type\": \"nominal\", \"axis\": {\"orient\": \"right\"}, \"field\": \"region\", \"sort\": [\"Arica y Parinacota\", \"Tarapac\\u00e1\", \"Antofagasta\", \"Atacama\", \"Coquimbo\", \"Valpara\\u00edso\", \"Metropolitana\", \"O\\u2019Higgins\", \"Maule\", \"\\u00d1uble\", \"Biob\\u00edo\", \"Araucan\\u00eda\", \"Los R\\u00edos\", \"Los Lagos\", \"Ays\\u00e9n\", \"Magallanes\"]}}, \"selection\": {\" \": {\"type\": \"single\", \"fields\": [\"region\"], \"bind\": {\"input\": \"select\", \"options\": [\"Arica y Parinacota\", \"Tarapac\\u00e1\", \"Antofagasta\", \"Atacama\", \"Coquimbo\", \"Valpara\\u00edso\", \"Metropolitana\", \"O\\u2019Higgins\", \"Maule\", \"\\u00d1uble\", \"Biob\\u00edo\", \"Araucan\\u00eda\", \"Los R\\u00edos\", \"Los Lagos\", \"Ays\\u00e9n\", \"Magallanes\"]}}, \"selector007\": {\"type\": \"multi\", \"fields\": [\"region\"], \"on\": \"mouseover\"}}}], \"data\": {\"name\": \"data-f1cbb97ecf192d78e1ff05f3376bae7d\"}, \"$schema\": \"https://vega.github.io/schema/vega-lite/v4.8.1.json\", \"datasets\": {\"data-f1cbb97ecf192d78e1ff05f3376bae7d\": [{\"date\": \"2020-03-24\", \"region\": \"Arica y Parinacota\", \"fallecidos\": 0, \"codigo region\": 0}, {\"date\": \"2020-03-24\", \"region\": \"Tarapac\\u00e1\", \"fallecidos\": 0, \"codigo region\": 1}, {\"date\": \"2020-03-24\", \"region\": \"Antofagasta\", \"fallecidos\": 0, \"codigo region\": 2}, {\"date\": \"2020-03-24\", \"region\": \"Atacama\", \"fallecidos\": 0, \"codigo region\": 3}, {\"date\": \"2020-03-24\", \"region\": \"Coquimbo\", \"fallecidos\": 0, \"codigo region\": 4}, {\"date\": \"2020-03-24\", \"region\": \"Valpara\\u00edso\", \"fallecidos\": 0, \"codigo region\": 5}, {\"date\": \"2020-03-24\", \"region\": \"Metropolitana\", \"fallecidos\": 0, \"codigo region\": 6}, {\"date\": \"2020-03-24\", \"region\": \"O\\u2019Higgins\", \"fallecidos\": 0, \"codigo region\": 7}, {\"date\": \"2020-03-24\", \"region\": \"Maule\", \"fallecidos\": 0, \"codigo region\": 8}, {\"date\": \"2020-03-24\", \"region\": \"\\u00d1uble\", \"fallecidos\": 0, \"codigo region\": 9}, {\"date\": \"2020-03-24\", \"region\": \"Biob\\u00edo\", \"fallecidos\": 0, \"codigo region\": 10}, {\"date\": \"2020-03-24\", \"region\": \"Araucan\\u00eda\", \"fallecidos\": 0, \"codigo region\": 11}, {\"date\": \"2020-03-24\", \"region\": \"Los R\\u00edos\", \"fallecidos\": 0, \"codigo region\": 12}, {\"date\": \"2020-03-24\", \"region\": \"Los Lagos\", \"fallecidos\": 0, \"codigo region\": 13}, {\"date\": \"2020-03-24\", \"region\": \"Ays\\u00e9n\", \"fallecidos\": 0, \"codigo region\": 14}, {\"date\": \"2020-03-24\", \"region\": \"Magallanes\", \"fallecidos\": 0, \"codigo region\": 15}, {\"date\": \"2020-03-25\", \"region\": \"Arica y Parinacota\", \"fallecidos\": 0, \"codigo region\": 0}, {\"date\": \"2020-03-25\", \"region\": \"Tarapac\\u00e1\", \"fallecidos\": 0, \"codigo region\": 1}, {\"date\": \"2020-03-25\", \"region\": \"Antofagasta\", \"fallecidos\": 0, \"codigo region\": 2}, {\"date\": \"2020-03-25\", \"region\": \"Atacama\", \"fallecidos\": 0, \"codigo region\": 3}, {\"date\": \"2020-03-25\", \"region\": \"Coquimbo\", \"fallecidos\": 0, \"codigo region\": 4}, {\"date\": \"2020-03-25\", \"region\": \"Valpara\\u00edso\", \"fallecidos\": 0, \"codigo region\": 5}, {\"date\": \"2020-03-25\", \"region\": \"Metropolitana\", \"fallecidos\": 0, \"codigo region\": 6}, {\"date\": \"2020-03-25\", \"region\": \"O\\u2019Higgins\", \"fallecidos\": 0, \"codigo region\": 7}, {\"date\": \"2020-03-25\", \"region\": \"Maule\", \"fallecidos\": 0, \"codigo region\": 8}, {\"date\": \"2020-03-25\", \"region\": \"\\u00d1uble\", \"fallecidos\": 0, \"codigo region\": 9}, {\"date\": \"2020-03-25\", \"region\": \"Biob\\u00edo\", \"fallecidos\": 1, \"codigo region\": 10}, {\"date\": \"2020-03-25\", \"region\": \"Araucan\\u00eda\", \"fallecidos\": 0, \"codigo region\": 11}, {\"date\": \"2020-03-25\", \"region\": \"Los R\\u00edos\", \"fallecidos\": 0, \"codigo region\": 12}, {\"date\": \"2020-03-25\", \"region\": \"Los Lagos\", \"fallecidos\": 0, \"codigo region\": 13}, {\"date\": \"2020-03-25\", \"region\": \"Ays\\u00e9n\", \"fallecidos\": 0, \"codigo region\": 14}, {\"date\": \"2020-03-25\", \"region\": \"Magallanes\", \"fallecidos\": 0, \"codigo region\": 15}, {\"date\": \"2020-03-26\", \"region\": \"Arica y Parinacota\", \"fallecidos\": 0, \"codigo region\": 0}, {\"date\": \"2020-03-26\", \"region\": \"Tarapac\\u00e1\", \"fallecidos\": 0, \"codigo region\": 1}, {\"date\": \"2020-03-26\", \"region\": \"Antofagasta\", \"fallecidos\": 0, \"codigo region\": 2}, {\"date\": \"2020-03-26\", \"region\": \"Atacama\", \"fallecidos\": 0, \"codigo region\": 3}, {\"date\": \"2020-03-26\", \"region\": \"Coquimbo\", \"fallecidos\": 0, \"codigo region\": 4}, {\"date\": \"2020-03-26\", \"region\": \"Valpara\\u00edso\", \"fallecidos\": 0, \"codigo region\": 5}, {\"date\": \"2020-03-26\", \"region\": \"Metropolitana\", \"fallecidos\": 1, \"codigo region\": 6}, {\"date\": \"2020-03-26\", \"region\": \"O\\u2019Higgins\", \"fallecidos\": 0, \"codigo region\": 7}, {\"date\": \"2020-03-26\", \"region\": \"Maule\", \"fallecidos\": 0, \"codigo region\": 8}, {\"date\": \"2020-03-26\", \"region\": \"\\u00d1uble\", \"fallecidos\": 0, \"codigo region\": 9}, {\"date\": \"2020-03-26\", \"region\": \"Biob\\u00edo\", \"fallecidos\": 0, \"codigo region\": 10}, {\"date\": \"2020-03-26\", \"region\": \"Araucan\\u00eda\", \"fallecidos\": 0, \"codigo region\": 11}, {\"date\": \"2020-03-26\", \"region\": \"Los R\\u00edos\", \"fallecidos\": 0, \"codigo region\": 12}, {\"date\": \"2020-03-26\", \"region\": \"Los Lagos\", \"fallecidos\": 0, \"codigo region\": 13}, {\"date\": \"2020-03-26\", \"region\": \"Ays\\u00e9n\", \"fallecidos\": 0, \"codigo region\": 14}, {\"date\": \"2020-03-26\", \"region\": \"Magallanes\", \"fallecidos\": 0, \"codigo region\": 15}, {\"date\": \"2020-03-27\", \"region\": \"Arica y Parinacota\", \"fallecidos\": 0, \"codigo region\": 0}, {\"date\": \"2020-03-27\", \"region\": \"Tarapac\\u00e1\", \"fallecidos\": 0, \"codigo region\": 1}, {\"date\": \"2020-03-27\", \"region\": \"Antofagasta\", \"fallecidos\": 0, \"codigo region\": 2}, {\"date\": \"2020-03-27\", \"region\": \"Atacama\", \"fallecidos\": 0, \"codigo region\": 3}, {\"date\": \"2020-03-27\", \"region\": \"Coquimbo\", \"fallecidos\": 0, \"codigo region\": 4}, {\"date\": \"2020-03-27\", \"region\": \"Valpara\\u00edso\", \"fallecidos\": 0, \"codigo region\": 5}, {\"date\": \"2020-03-27\", \"region\": \"Metropolitana\", \"fallecidos\": 0, \"codigo region\": 6}, {\"date\": \"2020-03-27\", \"region\": \"O\\u2019Higgins\", \"fallecidos\": 0, \"codigo region\": 7}, {\"date\": \"2020-03-27\", \"region\": \"Maule\", \"fallecidos\": 0, \"codigo region\": 8}, {\"date\": \"2020-03-27\", \"region\": \"\\u00d1uble\", \"fallecidos\": 0, \"codigo region\": 9}, {\"date\": \"2020-03-27\", \"region\": \"Biob\\u00edo\", \"fallecidos\": 1, \"codigo region\": 10}, {\"date\": \"2020-03-27\", \"region\": \"Araucan\\u00eda\", \"fallecidos\": 0, \"codigo region\": 11}, {\"date\": \"2020-03-27\", \"region\": \"Los R\\u00edos\", \"fallecidos\": 0, \"codigo region\": 12}, {\"date\": \"2020-03-27\", \"region\": \"Los Lagos\", \"fallecidos\": 0, \"codigo region\": 13}, {\"date\": \"2020-03-27\", \"region\": \"Ays\\u00e9n\", \"fallecidos\": 0, \"codigo region\": 14}, {\"date\": \"2020-03-27\", \"region\": \"Magallanes\", \"fallecidos\": 0, \"codigo region\": 15}, {\"date\": \"2020-03-28\", \"region\": \"Arica y Parinacota\", \"fallecidos\": 0, \"codigo region\": 0}, {\"date\": \"2020-03-28\", \"region\": \"Tarapac\\u00e1\", \"fallecidos\": 0, \"codigo region\": 1}, {\"date\": \"2020-03-28\", \"region\": \"Antofagasta\", \"fallecidos\": 0, \"codigo region\": 2}, {\"date\": \"2020-03-28\", \"region\": \"Atacama\", \"fallecidos\": 0, \"codigo region\": 3}, {\"date\": \"2020-03-28\", \"region\": \"Coquimbo\", \"fallecidos\": 0, \"codigo region\": 4}, {\"date\": \"2020-03-28\", \"region\": \"Valpara\\u00edso\", \"fallecidos\": 0, \"codigo region\": 5}, {\"date\": \"2020-03-28\", \"region\": \"Metropolitana\", \"fallecidos\": 0, \"codigo region\": 6}, {\"date\": \"2020-03-28\", \"region\": \"O\\u2019Higgins\", \"fallecidos\": 0, \"codigo region\": 7}, {\"date\": \"2020-03-28\", \"region\": \"Maule\", \"fallecidos\": 0, \"codigo region\": 8}, {\"date\": \"2020-03-28\", \"region\": \"\\u00d1uble\", \"fallecidos\": 0, \"codigo region\": 9}, {\"date\": \"2020-03-28\", \"region\": \"Biob\\u00edo\", \"fallecidos\": 0, \"codigo region\": 10}, {\"date\": \"2020-03-28\", \"region\": \"Araucan\\u00eda\", \"fallecidos\": 1, \"codigo region\": 11}, {\"date\": \"2020-03-28\", \"region\": \"Los R\\u00edos\", \"fallecidos\": 0, \"codigo region\": 12}, {\"date\": \"2020-03-28\", \"region\": \"Los Lagos\", \"fallecidos\": 0, \"codigo region\": 13}, {\"date\": \"2020-03-28\", \"region\": \"Ays\\u00e9n\", \"fallecidos\": 0, \"codigo region\": 14}, {\"date\": \"2020-03-28\", \"region\": \"Magallanes\", \"fallecidos\": 0, \"codigo region\": 15}, {\"date\": \"2020-03-29\", \"region\": \"Arica y Parinacota\", \"fallecidos\": 0, \"codigo region\": 0}, {\"date\": \"2020-03-29\", \"region\": \"Tarapac\\u00e1\", \"fallecidos\": 0, \"codigo region\": 1}, {\"date\": \"2020-03-29\", \"region\": \"Antofagasta\", \"fallecidos\": 0, \"codigo region\": 2}, {\"date\": \"2020-03-29\", \"region\": \"Atacama\", \"fallecidos\": 0, \"codigo region\": 3}, {\"date\": \"2020-03-29\", \"region\": \"Coquimbo\", \"fallecidos\": 0, \"codigo region\": 4}, {\"date\": \"2020-03-29\", \"region\": \"Valpara\\u00edso\", \"fallecidos\": 0, \"codigo region\": 5}, {\"date\": \"2020-03-29\", \"region\": \"Metropolitana\", \"fallecidos\": 0, \"codigo region\": 6}, {\"date\": \"2020-03-29\", \"region\": \"O\\u2019Higgins\", \"fallecidos\": 0, \"codigo region\": 7}, {\"date\": \"2020-03-29\", \"region\": \"Maule\", \"fallecidos\": 0, \"codigo region\": 8}, {\"date\": \"2020-03-29\", \"region\": \"\\u00d1uble\", \"fallecidos\": 0, \"codigo region\": 9}, {\"date\": \"2020-03-29\", \"region\": \"Biob\\u00edo\", \"fallecidos\": 0, \"codigo region\": 10}, {\"date\": \"2020-03-29\", \"region\": \"Araucan\\u00eda\", \"fallecidos\": 1, \"codigo region\": 11}, {\"date\": \"2020-03-29\", \"region\": \"Los R\\u00edos\", \"fallecidos\": 0, \"codigo region\": 12}, {\"date\": \"2020-03-29\", \"region\": \"Los Lagos\", \"fallecidos\": 0, \"codigo region\": 13}, {\"date\": \"2020-03-29\", \"region\": \"Ays\\u00e9n\", \"fallecidos\": 0, \"codigo region\": 14}, {\"date\": \"2020-03-29\", \"region\": \"Magallanes\", \"fallecidos\": 0, \"codigo region\": 15}, {\"date\": \"2020-03-30\", \"region\": \"Arica y Parinacota\", \"fallecidos\": 0, \"codigo region\": 0}, {\"date\": \"2020-03-30\", \"region\": \"Tarapac\\u00e1\", \"fallecidos\": 0, \"codigo region\": 1}, {\"date\": \"2020-03-30\", \"region\": \"Antofagasta\", \"fallecidos\": 0, \"codigo region\": 2}, {\"date\": \"2020-03-30\", \"region\": \"Atacama\", \"fallecidos\": 0, \"codigo region\": 3}, {\"date\": \"2020-03-30\", \"region\": \"Coquimbo\", \"fallecidos\": 0, \"codigo region\": 4}, {\"date\": \"2020-03-30\", \"region\": \"Valpara\\u00edso\", \"fallecidos\": 0, \"codigo region\": 5}, {\"date\": \"2020-03-30\", \"region\": \"Metropolitana\", \"fallecidos\": 0, \"codigo region\": 6}, {\"date\": \"2020-03-30\", \"region\": \"O\\u2019Higgins\", \"fallecidos\": 0, \"codigo region\": 7}, {\"date\": \"2020-03-30\", \"region\": \"Maule\", \"fallecidos\": 1, \"codigo region\": 8}, {\"date\": \"2020-03-30\", \"region\": \"\\u00d1uble\", \"fallecidos\": 0, \"codigo region\": 9}, {\"date\": \"2020-03-30\", \"region\": \"Biob\\u00edo\", \"fallecidos\": 0, \"codigo region\": 10}, {\"date\": \"2020-03-30\", \"region\": \"Araucan\\u00eda\", \"fallecidos\": 0, \"codigo region\": 11}, {\"date\": \"2020-03-30\", \"region\": \"Los R\\u00edos\", \"fallecidos\": 0, \"codigo region\": 12}, {\"date\": \"2020-03-30\", \"region\": \"Los Lagos\", \"fallecidos\": 0, \"codigo region\": 13}, {\"date\": \"2020-03-30\", \"region\": \"Ays\\u00e9n\", \"fallecidos\": 0, \"codigo region\": 14}, {\"date\": \"2020-03-30\", \"region\": \"Magallanes\", \"fallecidos\": 0, \"codigo region\": 15}, {\"date\": \"2020-03-31\", \"region\": \"Arica y Parinacota\", \"fallecidos\": 0, \"codigo region\": 0}, {\"date\": \"2020-03-31\", \"region\": \"Tarapac\\u00e1\", \"fallecidos\": 0, \"codigo region\": 1}, {\"date\": \"2020-03-31\", \"region\": \"Antofagasta\", \"fallecidos\": 0, \"codigo region\": 2}, {\"date\": \"2020-03-31\", \"region\": \"Atacama\", \"fallecidos\": 0, \"codigo region\": 3}, {\"date\": \"2020-03-31\", \"region\": \"Coquimbo\", \"fallecidos\": 0, \"codigo region\": 4}, {\"date\": \"2020-03-31\", \"region\": \"Valpara\\u00edso\", \"fallecidos\": 1, \"codigo region\": 5}, {\"date\": \"2020-03-31\", \"region\": \"Metropolitana\", \"fallecidos\": 1, \"codigo region\": 6}, {\"date\": \"2020-03-31\", \"region\": \"O\\u2019Higgins\", \"fallecidos\": 0, \"codigo region\": 7}, {\"date\": \"2020-03-31\", \"region\": \"Maule\", \"fallecidos\": 0, \"codigo region\": 8}, {\"date\": \"2020-03-31\", \"region\": \"\\u00d1uble\", \"fallecidos\": 0, \"codigo region\": 9}, {\"date\": \"2020-03-31\", \"region\": \"Biob\\u00edo\", \"fallecidos\": 0, \"codigo region\": 10}, {\"date\": \"2020-03-31\", \"region\": \"Araucan\\u00eda\", \"fallecidos\": 2, \"codigo region\": 11}, {\"date\": \"2020-03-31\", \"region\": \"Los R\\u00edos\", \"fallecidos\": 0, \"codigo region\": 12}, {\"date\": \"2020-03-31\", \"region\": \"Los Lagos\", \"fallecidos\": 0, \"codigo region\": 13}, {\"date\": \"2020-03-31\", \"region\": \"Ays\\u00e9n\", \"fallecidos\": 0, \"codigo region\": 14}, {\"date\": \"2020-03-31\", \"region\": \"Magallanes\", \"fallecidos\": 0, \"codigo region\": 15}, {\"date\": \"2020-04-01\", \"region\": \"Arica y Parinacota\", \"fallecidos\": 0, \"codigo region\": 0}, {\"date\": \"2020-04-01\", \"region\": \"Tarapac\\u00e1\", \"fallecidos\": 0, \"codigo region\": 1}, {\"date\": \"2020-04-01\", \"region\": \"Antofagasta\", \"fallecidos\": 0, \"codigo region\": 2}, {\"date\": \"2020-04-01\", \"region\": \"Atacama\", \"fallecidos\": 0, \"codigo region\": 3}, {\"date\": \"2020-04-01\", \"region\": \"Coquimbo\", \"fallecidos\": 0, \"codigo region\": 4}, {\"date\": \"2020-04-01\", \"region\": \"Valpara\\u00edso\", \"fallecidos\": 0, \"codigo region\": 5}, {\"date\": \"2020-04-01\", \"region\": \"Metropolitana\", \"fallecidos\": 1, \"codigo region\": 6}, {\"date\": \"2020-04-01\", \"region\": \"O\\u2019Higgins\", \"fallecidos\": 0, \"codigo region\": 7}, {\"date\": \"2020-04-01\", \"region\": \"Maule\", \"fallecidos\": 0, \"codigo region\": 8}, {\"date\": \"2020-04-01\", \"region\": \"\\u00d1uble\", \"fallecidos\": 0, \"codigo region\": 9}, {\"date\": \"2020-04-01\", \"region\": \"Biob\\u00edo\", \"fallecidos\": 0, \"codigo region\": 10}, {\"date\": \"2020-04-01\", \"region\": \"Araucan\\u00eda\", \"fallecidos\": 2, \"codigo region\": 11}, {\"date\": \"2020-04-01\", \"region\": \"Los R\\u00edos\", \"fallecidos\": 1, \"codigo region\": 12}, {\"date\": \"2020-04-01\", \"region\": \"Los Lagos\", \"fallecidos\": 0, \"codigo region\": 13}, {\"date\": \"2020-04-01\", \"region\": \"Ays\\u00e9n\", \"fallecidos\": 0, \"codigo region\": 14}, {\"date\": \"2020-04-01\", \"region\": \"Magallanes\", \"fallecidos\": 0, \"codigo region\": 15}, {\"date\": \"2020-04-02\", \"region\": \"Arica y Parinacota\", \"fallecidos\": 0, \"codigo region\": 0}, {\"date\": \"2020-04-02\", \"region\": \"Tarapac\\u00e1\", \"fallecidos\": 0, \"codigo region\": 1}, {\"date\": \"2020-04-02\", \"region\": \"Antofagasta\", \"fallecidos\": 0, \"codigo region\": 2}, {\"date\": \"2020-04-02\", \"region\": \"Atacama\", \"fallecidos\": 0, \"codigo region\": 3}, {\"date\": \"2020-04-02\", \"region\": \"Coquimbo\", \"fallecidos\": 0, \"codigo region\": 4}, {\"date\": \"2020-04-02\", \"region\": \"Valpara\\u00edso\", \"fallecidos\": 0, \"codigo region\": 5}, {\"date\": \"2020-04-02\", \"region\": \"Metropolitana\", \"fallecidos\": 1, \"codigo region\": 6}, {\"date\": \"2020-04-02\", \"region\": \"O\\u2019Higgins\", \"fallecidos\": 0, \"codigo region\": 7}, {\"date\": \"2020-04-02\", \"region\": \"Maule\", \"fallecidos\": 0, \"codigo region\": 8}, {\"date\": \"2020-04-02\", \"region\": \"\\u00d1uble\", \"fallecidos\": 0, \"codigo region\": 9}, {\"date\": \"2020-04-02\", \"region\": \"Biob\\u00edo\", \"fallecidos\": 0, \"codigo region\": 10}, {\"date\": \"2020-04-02\", \"region\": \"Araucan\\u00eda\", \"fallecidos\": 1, \"codigo region\": 11}, {\"date\": \"2020-04-02\", \"region\": \"Los R\\u00edos\", \"fallecidos\": 0, \"codigo region\": 12}, {\"date\": \"2020-04-02\", \"region\": \"Los Lagos\", \"fallecidos\": 0, \"codigo region\": 13}, {\"date\": \"2020-04-02\", \"region\": \"Ays\\u00e9n\", \"fallecidos\": 0, \"codigo region\": 14}, {\"date\": \"2020-04-02\", \"region\": \"Magallanes\", \"fallecidos\": 0, \"codigo region\": 15}, {\"date\": \"2020-04-03\", \"region\": \"Arica y Parinacota\", \"fallecidos\": 0, \"codigo region\": 0}, {\"date\": \"2020-04-03\", \"region\": \"Tarapac\\u00e1\", \"fallecidos\": 0, \"codigo region\": 1}, {\"date\": \"2020-04-03\", \"region\": \"Antofagasta\", \"fallecidos\": 0, \"codigo region\": 2}, {\"date\": \"2020-04-03\", \"region\": \"Atacama\", \"fallecidos\": 0, \"codigo region\": 3}, {\"date\": \"2020-04-03\", \"region\": \"Coquimbo\", \"fallecidos\": 0, \"codigo region\": 4}, {\"date\": \"2020-04-03\", \"region\": \"Valpara\\u00edso\", \"fallecidos\": 0, \"codigo region\": 5}, {\"date\": \"2020-04-03\", \"region\": \"Metropolitana\", \"fallecidos\": 2, \"codigo region\": 6}, {\"date\": \"2020-04-03\", \"region\": \"O\\u2019Higgins\", \"fallecidos\": 0, \"codigo region\": 7}, {\"date\": \"2020-04-03\", \"region\": \"Maule\", \"fallecidos\": 0, \"codigo region\": 8}, {\"date\": \"2020-04-03\", \"region\": \"\\u00d1uble\", \"fallecidos\": 1, \"codigo region\": 9}, {\"date\": \"2020-04-03\", \"region\": \"Biob\\u00edo\", \"fallecidos\": 0, \"codigo region\": 10}, {\"date\": \"2020-04-03\", \"region\": \"Araucan\\u00eda\", \"fallecidos\": 0, \"codigo region\": 11}, {\"date\": \"2020-04-03\", \"region\": \"Los R\\u00edos\", \"fallecidos\": 0, \"codigo region\": 12}, {\"date\": \"2020-04-03\", \"region\": \"Los Lagos\", \"fallecidos\": 0, \"codigo region\": 13}, {\"date\": \"2020-04-03\", \"region\": \"Ays\\u00e9n\", \"fallecidos\": 0, \"codigo region\": 14}, {\"date\": \"2020-04-03\", \"region\": \"Magallanes\", \"fallecidos\": 1, \"codigo region\": 15}, {\"date\": \"2020-04-04\", \"region\": \"Arica y Parinacota\", \"fallecidos\": 0, \"codigo region\": 0}, {\"date\": \"2020-04-04\", \"region\": \"Tarapac\\u00e1\", \"fallecidos\": 0, \"codigo region\": 1}, {\"date\": \"2020-04-04\", \"region\": \"Antofagasta\", \"fallecidos\": 0, \"codigo region\": 2}, {\"date\": \"2020-04-04\", \"region\": \"Atacama\", \"fallecidos\": 0, \"codigo region\": 3}, {\"date\": \"2020-04-04\", \"region\": \"Coquimbo\", \"fallecidos\": 0, \"codigo region\": 4}, {\"date\": \"2020-04-04\", \"region\": \"Valpara\\u00edso\", \"fallecidos\": 0, \"codigo region\": 5}, {\"date\": \"2020-04-04\", \"region\": \"Metropolitana\", \"fallecidos\": 1, \"codigo region\": 6}, {\"date\": \"2020-04-04\", \"region\": \"O\\u2019Higgins\", \"fallecidos\": 0, \"codigo region\": 7}, {\"date\": \"2020-04-04\", \"region\": \"Maule\", \"fallecidos\": 0, \"codigo region\": 8}, {\"date\": \"2020-04-04\", \"region\": \"\\u00d1uble\", \"fallecidos\": 1, \"codigo region\": 9}, {\"date\": \"2020-04-04\", \"region\": \"Biob\\u00edo\", \"fallecidos\": 0, \"codigo region\": 10}, {\"date\": \"2020-04-04\", \"region\": \"Araucan\\u00eda\", \"fallecidos\": 2, \"codigo region\": 11}, {\"date\": \"2020-04-04\", \"region\": \"Los R\\u00edos\", \"fallecidos\": 0, \"codigo region\": 12}, {\"date\": \"2020-04-04\", \"region\": \"Los Lagos\", \"fallecidos\": 0, \"codigo region\": 13}, {\"date\": \"2020-04-04\", \"region\": \"Ays\\u00e9n\", \"fallecidos\": 0, \"codigo region\": 14}, {\"date\": \"2020-04-04\", \"region\": \"Magallanes\", \"fallecidos\": 1, \"codigo region\": 15}, {\"date\": \"2020-04-05\", \"region\": \"Arica y Parinacota\", \"fallecidos\": 0, \"codigo region\": 0}, {\"date\": \"2020-04-05\", \"region\": \"Tarapac\\u00e1\", \"fallecidos\": 0, \"codigo region\": 1}, {\"date\": \"2020-04-05\", \"region\": \"Antofagasta\", \"fallecidos\": 0, \"codigo region\": 2}, {\"date\": \"2020-04-05\", \"region\": \"Atacama\", \"fallecidos\": 0, \"codigo region\": 3}, {\"date\": \"2020-04-05\", \"region\": \"Coquimbo\", \"fallecidos\": 0, \"codigo region\": 4}, {\"date\": \"2020-04-05\", \"region\": \"Valpara\\u00edso\", \"fallecidos\": 0, \"codigo region\": 5}, {\"date\": \"2020-04-05\", \"region\": \"Metropolitana\", \"fallecidos\": 1, \"codigo region\": 6}, {\"date\": \"2020-04-05\", \"region\": \"O\\u2019Higgins\", \"fallecidos\": 0, \"codigo region\": 7}, {\"date\": \"2020-04-05\", \"region\": \"Maule\", \"fallecidos\": 0, \"codigo region\": 8}, {\"date\": \"2020-04-05\", \"region\": \"\\u00d1uble\", \"fallecidos\": 1, \"codigo region\": 9}, {\"date\": \"2020-04-05\", \"region\": \"Biob\\u00edo\", \"fallecidos\": 0, \"codigo region\": 10}, {\"date\": \"2020-04-05\", \"region\": \"Araucan\\u00eda\", \"fallecidos\": 4, \"codigo region\": 11}, {\"date\": \"2020-04-05\", \"region\": \"Los R\\u00edos\", \"fallecidos\": 0, \"codigo region\": 12}, {\"date\": \"2020-04-05\", \"region\": \"Los Lagos\", \"fallecidos\": 1, \"codigo region\": 13}, {\"date\": \"2020-04-05\", \"region\": \"Ays\\u00e9n\", \"fallecidos\": 0, \"codigo region\": 14}, {\"date\": \"2020-04-05\", \"region\": \"Magallanes\", \"fallecidos\": 0, \"codigo region\": 15}, {\"date\": \"2020-04-06\", \"region\": \"Arica y Parinacota\", \"fallecidos\": 0, \"codigo region\": 0}, {\"date\": \"2020-04-06\", \"region\": \"Tarapac\\u00e1\", \"fallecidos\": 0, \"codigo region\": 1}, {\"date\": \"2020-04-06\", \"region\": \"Antofagasta\", \"fallecidos\": 0, \"codigo region\": 2}, {\"date\": \"2020-04-06\", \"region\": \"Atacama\", \"fallecidos\": 0, \"codigo region\": 3}, {\"date\": \"2020-04-06\", \"region\": \"Coquimbo\", \"fallecidos\": 0, \"codigo region\": 4}, {\"date\": \"2020-04-06\", \"region\": \"Valpara\\u00edso\", \"fallecidos\": 0, \"codigo region\": 5}, {\"date\": \"2020-04-06\", \"region\": \"Metropolitana\", \"fallecidos\": 0, \"codigo region\": 6}, {\"date\": \"2020-04-06\", \"region\": \"O\\u2019Higgins\", \"fallecidos\": 0, \"codigo region\": 7}, {\"date\": \"2020-04-06\", \"region\": \"Maule\", \"fallecidos\": 0, \"codigo region\": 8}, {\"date\": \"2020-04-06\", \"region\": \"\\u00d1uble\", \"fallecidos\": 1, \"codigo region\": 9}, {\"date\": \"2020-04-06\", \"region\": \"Biob\\u00edo\", \"fallecidos\": 0, \"codigo region\": 10}, {\"date\": \"2020-04-06\", \"region\": \"Araucan\\u00eda\", \"fallecidos\": 1, \"codigo region\": 11}, {\"date\": \"2020-04-06\", \"region\": \"Los R\\u00edos\", \"fallecidos\": 0, \"codigo region\": 12}, {\"date\": \"2020-04-06\", \"region\": \"Los Lagos\", \"fallecidos\": 1, \"codigo region\": 13}, {\"date\": \"2020-04-06\", \"region\": \"Ays\\u00e9n\", \"fallecidos\": 0, \"codigo region\": 14}, {\"date\": \"2020-04-06\", \"region\": \"Magallanes\", \"fallecidos\": 0, \"codigo region\": 15}, {\"date\": \"2020-04-07\", \"region\": \"Arica y Parinacota\", \"fallecidos\": 0, \"codigo region\": 0}, {\"date\": \"2020-04-07\", \"region\": \"Tarapac\\u00e1\", \"fallecidos\": 0, \"codigo region\": 1}, {\"date\": \"2020-04-07\", \"region\": \"Antofagasta\", \"fallecidos\": 1, \"codigo region\": 2}, {\"date\": \"2020-04-07\", \"region\": \"Atacama\", \"fallecidos\": 0, \"codigo region\": 3}, {\"date\": \"2020-04-07\", \"region\": \"Coquimbo\", \"fallecidos\": 0, \"codigo region\": 4}, {\"date\": \"2020-04-07\", \"region\": \"Valpara\\u00edso\", \"fallecidos\": 0, \"codigo region\": 5}, {\"date\": \"2020-04-07\", \"region\": \"Metropolitana\", \"fallecidos\": 2, \"codigo region\": 6}, {\"date\": \"2020-04-07\", \"region\": \"O\\u2019Higgins\", \"fallecidos\": 0, \"codigo region\": 7}, {\"date\": \"2020-04-07\", \"region\": \"Maule\", \"fallecidos\": 1, \"codigo region\": 8}, {\"date\": \"2020-04-07\", \"region\": \"\\u00d1uble\", \"fallecidos\": 1, \"codigo region\": 9}, {\"date\": \"2020-04-07\", \"region\": \"Biob\\u00edo\", \"fallecidos\": 0, \"codigo region\": 10}, {\"date\": \"2020-04-07\", \"region\": \"Araucan\\u00eda\", \"fallecidos\": 0, \"codigo region\": 11}, {\"date\": \"2020-04-07\", \"region\": \"Los R\\u00edos\", \"fallecidos\": 1, \"codigo region\": 12}, {\"date\": \"2020-04-07\", \"region\": \"Los Lagos\", \"fallecidos\": 0, \"codigo region\": 13}, {\"date\": \"2020-04-07\", \"region\": \"Ays\\u00e9n\", \"fallecidos\": 0, \"codigo region\": 14}, {\"date\": \"2020-04-07\", \"region\": \"Magallanes\", \"fallecidos\": 0, \"codigo region\": 15}, {\"date\": \"2020-04-08\", \"region\": \"Arica y Parinacota\", \"fallecidos\": 0, \"codigo region\": 0}, {\"date\": \"2020-04-08\", \"region\": \"Tarapac\\u00e1\", \"fallecidos\": 0, \"codigo region\": 1}, {\"date\": \"2020-04-08\", \"region\": \"Antofagasta\", \"fallecidos\": 0, \"codigo region\": 2}, {\"date\": \"2020-04-08\", \"region\": \"Atacama\", \"fallecidos\": 0, \"codigo region\": 3}, {\"date\": \"2020-04-08\", \"region\": \"Coquimbo\", \"fallecidos\": 0, \"codigo region\": 4}, {\"date\": \"2020-04-08\", \"region\": \"Valpara\\u00edso\", \"fallecidos\": 1, \"codigo region\": 5}, {\"date\": \"2020-04-08\", \"region\": \"Metropolitana\", \"fallecidos\": 2, \"codigo region\": 6}, {\"date\": \"2020-04-08\", \"region\": \"O\\u2019Higgins\", \"fallecidos\": 0, \"codigo region\": 7}, {\"date\": \"2020-04-08\", \"region\": \"Maule\", \"fallecidos\": 0, \"codigo region\": 8}, {\"date\": \"2020-04-08\", \"region\": \"\\u00d1uble\", \"fallecidos\": 0, \"codigo region\": 9}, {\"date\": \"2020-04-08\", \"region\": \"Biob\\u00edo\", \"fallecidos\": 0, \"codigo region\": 10}, {\"date\": \"2020-04-08\", \"region\": \"Araucan\\u00eda\", \"fallecidos\": 1, \"codigo region\": 11}, {\"date\": \"2020-04-08\", \"region\": \"Los R\\u00edos\", \"fallecidos\": 0, \"codigo region\": 12}, {\"date\": \"2020-04-08\", \"region\": \"Los Lagos\", \"fallecidos\": 0, \"codigo region\": 13}, {\"date\": \"2020-04-08\", \"region\": \"Ays\\u00e9n\", \"fallecidos\": 0, \"codigo region\": 14}, {\"date\": \"2020-04-08\", \"region\": \"Magallanes\", \"fallecidos\": 1, \"codigo region\": 15}, {\"date\": \"2020-04-09\", \"region\": \"Arica y Parinacota\", \"fallecidos\": 0, \"codigo region\": 0}, {\"date\": \"2020-04-09\", \"region\": \"Tarapac\\u00e1\", \"fallecidos\": 0, \"codigo region\": 1}, {\"date\": \"2020-04-09\", \"region\": \"Antofagasta\", \"fallecidos\": 0, \"codigo region\": 2}, {\"date\": \"2020-04-09\", \"region\": \"Atacama\", \"fallecidos\": 0, \"codigo region\": 3}, {\"date\": \"2020-04-09\", \"region\": \"Coquimbo\", \"fallecidos\": 0, \"codigo region\": 4}, {\"date\": \"2020-04-09\", \"region\": \"Valpara\\u00edso\", \"fallecidos\": 0, \"codigo region\": 5}, {\"date\": \"2020-04-09\", \"region\": \"Metropolitana\", \"fallecidos\": 7, \"codigo region\": 6}, {\"date\": \"2020-04-09\", \"region\": \"O\\u2019Higgins\", \"fallecidos\": 0, \"codigo region\": 7}, {\"date\": \"2020-04-09\", \"region\": \"Maule\", \"fallecidos\": 0, \"codigo region\": 8}, {\"date\": \"2020-04-09\", \"region\": \"\\u00d1uble\", \"fallecidos\": 1, \"codigo region\": 9}, {\"date\": \"2020-04-09\", \"region\": \"Biob\\u00edo\", \"fallecidos\": 0, \"codigo region\": 10}, {\"date\": \"2020-04-09\", \"region\": \"Araucan\\u00eda\", \"fallecidos\": 1, \"codigo region\": 11}, {\"date\": \"2020-04-09\", \"region\": \"Los R\\u00edos\", \"fallecidos\": 0, \"codigo region\": 12}, {\"date\": \"2020-04-09\", \"region\": \"Los Lagos\", \"fallecidos\": 0, \"codigo region\": 13}, {\"date\": \"2020-04-09\", \"region\": \"Ays\\u00e9n\", \"fallecidos\": 0, \"codigo region\": 14}, {\"date\": \"2020-04-09\", \"region\": \"Magallanes\", \"fallecidos\": 0, \"codigo region\": 15}, {\"date\": \"2020-04-10\", \"region\": \"Arica y Parinacota\", \"fallecidos\": 0, \"codigo region\": 0}, {\"date\": \"2020-04-10\", \"region\": \"Tarapac\\u00e1\", \"fallecidos\": 0, \"codigo region\": 1}, {\"date\": \"2020-04-10\", \"region\": \"Antofagasta\", \"fallecidos\": 0, \"codigo region\": 2}, {\"date\": \"2020-04-10\", \"region\": \"Atacama\", \"fallecidos\": 0, \"codigo region\": 3}, {\"date\": \"2020-04-10\", \"region\": \"Coquimbo\", \"fallecidos\": 0, \"codigo region\": 4}, {\"date\": \"2020-04-10\", \"region\": \"Valpara\\u00edso\", \"fallecidos\": 0, \"codigo region\": 5}, {\"date\": \"2020-04-10\", \"region\": \"Metropolitana\", \"fallecidos\": 8, \"codigo region\": 6}, {\"date\": \"2020-04-10\", \"region\": \"O\\u2019Higgins\", \"fallecidos\": 0, \"codigo region\": 7}, {\"date\": \"2020-04-10\", \"region\": \"Maule\", \"fallecidos\": 0, \"codigo region\": 8}, {\"date\": \"2020-04-10\", \"region\": \"\\u00d1uble\", \"fallecidos\": 0, \"codigo region\": 9}, {\"date\": \"2020-04-10\", \"region\": \"Biob\\u00edo\", \"fallecidos\": 0, \"codigo region\": 10}, {\"date\": \"2020-04-10\", \"region\": \"Araucan\\u00eda\", \"fallecidos\": 0, \"codigo region\": 11}, {\"date\": \"2020-04-10\", \"region\": \"Los R\\u00edos\", \"fallecidos\": 0, \"codigo region\": 12}, {\"date\": \"2020-04-10\", \"region\": \"Los Lagos\", \"fallecidos\": 0, \"codigo region\": 13}, {\"date\": \"2020-04-10\", \"region\": \"Ays\\u00e9n\", \"fallecidos\": 0, \"codigo region\": 14}, {\"date\": \"2020-04-10\", \"region\": \"Magallanes\", \"fallecidos\": 0, \"codigo region\": 15}, {\"date\": \"2020-04-11\", \"region\": \"Arica y Parinacota\", \"fallecidos\": 0, \"codigo region\": 0}, {\"date\": \"2020-04-11\", \"region\": \"Tarapac\\u00e1\", \"fallecidos\": 0, \"codigo region\": 1}, {\"date\": \"2020-04-11\", \"region\": \"Antofagasta\", \"fallecidos\": 0, \"codigo region\": 2}, {\"date\": \"2020-04-11\", \"region\": \"Atacama\", \"fallecidos\": 0, \"codigo region\": 3}, {\"date\": \"2020-04-11\", \"region\": \"Coquimbo\", \"fallecidos\": 0, \"codigo region\": 4}, {\"date\": \"2020-04-11\", \"region\": \"Valpara\\u00edso\", \"fallecidos\": 0, \"codigo region\": 5}, {\"date\": \"2020-04-11\", \"region\": \"Metropolitana\", \"fallecidos\": 3, \"codigo region\": 6}, {\"date\": \"2020-04-11\", \"region\": \"O\\u2019Higgins\", \"fallecidos\": 0, \"codigo region\": 7}, {\"date\": \"2020-04-11\", \"region\": \"Maule\", \"fallecidos\": 1, \"codigo region\": 8}, {\"date\": \"2020-04-11\", \"region\": \"\\u00d1uble\", \"fallecidos\": 0, \"codigo region\": 9}, {\"date\": \"2020-04-11\", \"region\": \"Biob\\u00edo\", \"fallecidos\": 0, \"codigo region\": 10}, {\"date\": \"2020-04-11\", \"region\": \"Araucan\\u00eda\", \"fallecidos\": 1, \"codigo region\": 11}, {\"date\": \"2020-04-11\", \"region\": \"Los R\\u00edos\", \"fallecidos\": 0, \"codigo region\": 12}, {\"date\": \"2020-04-11\", \"region\": \"Los Lagos\", \"fallecidos\": 3, \"codigo region\": 13}, {\"date\": \"2020-04-11\", \"region\": \"Ays\\u00e9n\", \"fallecidos\": 0, \"codigo region\": 14}, {\"date\": \"2020-04-11\", \"region\": \"Magallanes\", \"fallecidos\": 0, \"codigo region\": 15}, {\"date\": \"2020-04-12\", \"region\": \"Arica y Parinacota\", \"fallecidos\": 1, \"codigo region\": 0}, {\"date\": \"2020-04-12\", \"region\": \"Tarapac\\u00e1\", \"fallecidos\": 0, \"codigo region\": 1}, {\"date\": \"2020-04-12\", \"region\": \"Antofagasta\", \"fallecidos\": 0, \"codigo region\": 2}, {\"date\": \"2020-04-12\", \"region\": \"Atacama\", \"fallecidos\": 0, \"codigo region\": 3}, {\"date\": \"2020-04-12\", \"region\": \"Coquimbo\", \"fallecidos\": 0, \"codigo region\": 4}, {\"date\": \"2020-04-12\", \"region\": \"Valpara\\u00edso\", \"fallecidos\": 0, \"codigo region\": 5}, {\"date\": \"2020-04-12\", \"region\": \"Metropolitana\", \"fallecidos\": 3, \"codigo region\": 6}, {\"date\": \"2020-04-12\", \"region\": \"O\\u2019Higgins\", \"fallecidos\": 0, \"codigo region\": 7}, {\"date\": \"2020-04-12\", \"region\": \"Maule\", \"fallecidos\": 0, \"codigo region\": 8}, {\"date\": \"2020-04-12\", \"region\": \"\\u00d1uble\", \"fallecidos\": 1, \"codigo region\": 9}, {\"date\": \"2020-04-12\", \"region\": \"Biob\\u00edo\", \"fallecidos\": 0, \"codigo region\": 10}, {\"date\": \"2020-04-12\", \"region\": \"Araucan\\u00eda\", \"fallecidos\": 0, \"codigo region\": 11}, {\"date\": \"2020-04-12\", \"region\": \"Los R\\u00edos\", \"fallecidos\": 1, \"codigo region\": 12}, {\"date\": \"2020-04-12\", \"region\": \"Los Lagos\", \"fallecidos\": 0, \"codigo region\": 13}, {\"date\": \"2020-04-12\", \"region\": \"Ays\\u00e9n\", \"fallecidos\": 0, \"codigo region\": 14}, {\"date\": \"2020-04-12\", \"region\": \"Magallanes\", \"fallecidos\": 1, \"codigo region\": 15}, {\"date\": \"2020-04-13\", \"region\": \"Arica y Parinacota\", \"fallecidos\": 0, \"codigo region\": 0}, {\"date\": \"2020-04-13\", \"region\": \"Tarapac\\u00e1\", \"fallecidos\": 0, \"codigo region\": 1}, {\"date\": \"2020-04-13\", \"region\": \"Antofagasta\", \"fallecidos\": 0, \"codigo region\": 2}, {\"date\": \"2020-04-13\", \"region\": \"Atacama\", \"fallecidos\": 0, \"codigo region\": 3}, {\"date\": \"2020-04-13\", \"region\": \"Coquimbo\", \"fallecidos\": 0, \"codigo region\": 4}, {\"date\": \"2020-04-13\", \"region\": \"Valpara\\u00edso\", \"fallecidos\": 0, \"codigo region\": 5}, {\"date\": \"2020-04-13\", \"region\": \"Metropolitana\", \"fallecidos\": 1, \"codigo region\": 6}, {\"date\": \"2020-04-13\", \"region\": \"O\\u2019Higgins\", \"fallecidos\": 0, \"codigo region\": 7}, {\"date\": \"2020-04-13\", \"region\": \"Maule\", \"fallecidos\": 0, \"codigo region\": 8}, {\"date\": \"2020-04-13\", \"region\": \"\\u00d1uble\", \"fallecidos\": 0, \"codigo region\": 9}, {\"date\": \"2020-04-13\", \"region\": \"Biob\\u00edo\", \"fallecidos\": 0, \"codigo region\": 10}, {\"date\": \"2020-04-13\", \"region\": \"Araucan\\u00eda\", \"fallecidos\": 0, \"codigo region\": 11}, {\"date\": \"2020-04-13\", \"region\": \"Los R\\u00edos\", \"fallecidos\": 0, \"codigo region\": 12}, {\"date\": \"2020-04-13\", \"region\": \"Los Lagos\", \"fallecidos\": 0, \"codigo region\": 13}, {\"date\": \"2020-04-13\", \"region\": \"Ays\\u00e9n\", \"fallecidos\": 0, \"codigo region\": 14}, {\"date\": \"2020-04-13\", \"region\": \"Magallanes\", \"fallecidos\": 1, \"codigo region\": 15}, {\"date\": \"2020-04-14\", \"region\": \"Arica y Parinacota\", \"fallecidos\": 0, \"codigo region\": 0}, {\"date\": \"2020-04-14\", \"region\": \"Tarapac\\u00e1\", \"fallecidos\": 0, \"codigo region\": 1}, {\"date\": \"2020-04-14\", \"region\": \"Antofagasta\", \"fallecidos\": 0, \"codigo region\": 2}, {\"date\": \"2020-04-14\", \"region\": \"Atacama\", \"fallecidos\": 0, \"codigo region\": 3}, {\"date\": \"2020-04-14\", \"region\": \"Coquimbo\", \"fallecidos\": 0, \"codigo region\": 4}, {\"date\": \"2020-04-14\", \"region\": \"Valpara\\u00edso\", \"fallecidos\": 0, \"codigo region\": 5}, {\"date\": \"2020-04-14\", \"region\": \"Metropolitana\", \"fallecidos\": 4, \"codigo region\": 6}, {\"date\": \"2020-04-14\", \"region\": \"O\\u2019Higgins\", \"fallecidos\": 0, \"codigo region\": 7}, {\"date\": \"2020-04-14\", \"region\": \"Maule\", \"fallecidos\": 1, \"codigo region\": 8}, {\"date\": \"2020-04-14\", \"region\": \"\\u00d1uble\", \"fallecidos\": 1, \"codigo region\": 9}, {\"date\": \"2020-04-14\", \"region\": \"Biob\\u00edo\", \"fallecidos\": 0, \"codigo region\": 10}, {\"date\": \"2020-04-14\", \"region\": \"Araucan\\u00eda\", \"fallecidos\": 3, \"codigo region\": 11}, {\"date\": \"2020-04-14\", \"region\": \"Los R\\u00edos\", \"fallecidos\": 0, \"codigo region\": 12}, {\"date\": \"2020-04-14\", \"region\": \"Los Lagos\", \"fallecidos\": 0, \"codigo region\": 13}, {\"date\": \"2020-04-14\", \"region\": \"Ays\\u00e9n\", \"fallecidos\": 0, \"codigo region\": 14}, {\"date\": \"2020-04-14\", \"region\": \"Magallanes\", \"fallecidos\": 1, \"codigo region\": 15}, {\"date\": \"2020-04-15\", \"region\": \"Arica y Parinacota\", \"fallecidos\": 0, \"codigo region\": 0}, {\"date\": \"2020-04-15\", \"region\": \"Tarapac\\u00e1\", \"fallecidos\": 0, \"codigo region\": 1}, {\"date\": \"2020-04-15\", \"region\": \"Antofagasta\", \"fallecidos\": 0, \"codigo region\": 2}, {\"date\": \"2020-04-15\", \"region\": \"Atacama\", \"fallecidos\": 0, \"codigo region\": 3}, {\"date\": \"2020-04-15\", \"region\": \"Coquimbo\", \"fallecidos\": 0, \"codigo region\": 4}, {\"date\": \"2020-04-15\", \"region\": \"Valpara\\u00edso\", \"fallecidos\": 0, \"codigo region\": 5}, {\"date\": \"2020-04-15\", \"region\": \"Metropolitana\", \"fallecidos\": 1, \"codigo region\": 6}, {\"date\": \"2020-04-15\", \"region\": \"O\\u2019Higgins\", \"fallecidos\": 0, \"codigo region\": 7}, {\"date\": \"2020-04-15\", \"region\": \"Maule\", \"fallecidos\": 0, \"codigo region\": 8}, {\"date\": \"2020-04-15\", \"region\": \"\\u00d1uble\", \"fallecidos\": 0, \"codigo region\": 9}, {\"date\": \"2020-04-15\", \"region\": \"Biob\\u00edo\", \"fallecidos\": 0, \"codigo region\": 10}, {\"date\": \"2020-04-15\", \"region\": \"Araucan\\u00eda\", \"fallecidos\": 1, \"codigo region\": 11}, {\"date\": \"2020-04-15\", \"region\": \"Los R\\u00edos\", \"fallecidos\": 0, \"codigo region\": 12}, {\"date\": \"2020-04-15\", \"region\": \"Los Lagos\", \"fallecidos\": 0, \"codigo region\": 13}, {\"date\": \"2020-04-15\", \"region\": \"Ays\\u00e9n\", \"fallecidos\": 0, \"codigo region\": 14}, {\"date\": \"2020-04-15\", \"region\": \"Magallanes\", \"fallecidos\": 0, \"codigo region\": 15}, {\"date\": \"2020-04-16\", \"region\": \"Arica y Parinacota\", \"fallecidos\": 0, \"codigo region\": 0}, {\"date\": \"2020-04-16\", \"region\": \"Tarapac\\u00e1\", \"fallecidos\": 0, \"codigo region\": 1}, {\"date\": \"2020-04-16\", \"region\": \"Antofagasta\", \"fallecidos\": 0, \"codigo region\": 2}, {\"date\": \"2020-04-16\", \"region\": \"Atacama\", \"fallecidos\": 0, \"codigo region\": 3}, {\"date\": \"2020-04-16\", \"region\": \"Coquimbo\", \"fallecidos\": 0, \"codigo region\": 4}, {\"date\": \"2020-04-16\", \"region\": \"Valpara\\u00edso\", \"fallecidos\": 2, \"codigo region\": 5}, {\"date\": \"2020-04-16\", \"region\": \"Metropolitana\", \"fallecidos\": 7, \"codigo region\": 6}, {\"date\": \"2020-04-16\", \"region\": \"O\\u2019Higgins\", \"fallecidos\": 0, \"codigo region\": 7}, {\"date\": \"2020-04-16\", \"region\": \"Maule\", \"fallecidos\": 0, \"codigo region\": 8}, {\"date\": \"2020-04-16\", \"region\": \"\\u00d1uble\", \"fallecidos\": 2, \"codigo region\": 9}, {\"date\": \"2020-04-16\", \"region\": \"Biob\\u00edo\", \"fallecidos\": 0, \"codigo region\": 10}, {\"date\": \"2020-04-16\", \"region\": \"Araucan\\u00eda\", \"fallecidos\": 0, \"codigo region\": 11}, {\"date\": \"2020-04-16\", \"region\": \"Los R\\u00edos\", \"fallecidos\": 0, \"codigo region\": 12}, {\"date\": \"2020-04-16\", \"region\": \"Los Lagos\", \"fallecidos\": 0, \"codigo region\": 13}, {\"date\": \"2020-04-16\", \"region\": \"Ays\\u00e9n\", \"fallecidos\": 0, \"codigo region\": 14}, {\"date\": \"2020-04-16\", \"region\": \"Magallanes\", \"fallecidos\": 0, \"codigo region\": 15}, {\"date\": \"2020-04-17\", \"region\": \"Arica y Parinacota\", \"fallecidos\": 1, \"codigo region\": 0}, {\"date\": \"2020-04-17\", \"region\": \"Tarapac\\u00e1\", \"fallecidos\": 0, \"codigo region\": 1}, {\"date\": \"2020-04-17\", \"region\": \"Antofagasta\", \"fallecidos\": 0, \"codigo region\": 2}, {\"date\": \"2020-04-17\", \"region\": \"Atacama\", \"fallecidos\": 0, \"codigo region\": 3}, {\"date\": \"2020-04-17\", \"region\": \"Coquimbo\", \"fallecidos\": 0, \"codigo region\": 4}, {\"date\": \"2020-04-17\", \"region\": \"Valpara\\u00edso\", \"fallecidos\": 0, \"codigo region\": 5}, {\"date\": \"2020-04-17\", \"region\": \"Metropolitana\", \"fallecidos\": 3, \"codigo region\": 6}, {\"date\": \"2020-04-17\", \"region\": \"O\\u2019Higgins\", \"fallecidos\": 0, \"codigo region\": 7}, {\"date\": \"2020-04-17\", \"region\": \"Maule\", \"fallecidos\": 3, \"codigo region\": 8}, {\"date\": \"2020-04-17\", \"region\": \"\\u00d1uble\", \"fallecidos\": 1, \"codigo region\": 9}, {\"date\": \"2020-04-17\", \"region\": \"Biob\\u00edo\", \"fallecidos\": 1, \"codigo region\": 10}, {\"date\": \"2020-04-17\", \"region\": \"Araucan\\u00eda\", \"fallecidos\": 1, \"codigo region\": 11}, {\"date\": \"2020-04-17\", \"region\": \"Los R\\u00edos\", \"fallecidos\": 0, \"codigo region\": 12}, {\"date\": \"2020-04-17\", \"region\": \"Los Lagos\", \"fallecidos\": 1, \"codigo region\": 13}, {\"date\": \"2020-04-17\", \"region\": \"Ays\\u00e9n\", \"fallecidos\": 0, \"codigo region\": 14}, {\"date\": \"2020-04-17\", \"region\": \"Magallanes\", \"fallecidos\": 0, \"codigo region\": 15}, {\"date\": \"2020-04-18\", \"region\": \"Arica y Parinacota\", \"fallecidos\": 0, \"codigo region\": 0}, {\"date\": \"2020-04-18\", \"region\": \"Tarapac\\u00e1\", \"fallecidos\": 0, \"codigo region\": 1}, {\"date\": \"2020-04-18\", \"region\": \"Antofagasta\", \"fallecidos\": 0, \"codigo region\": 2}, {\"date\": \"2020-04-18\", \"region\": \"Atacama\", \"fallecidos\": 0, \"codigo region\": 3}, {\"date\": \"2020-04-18\", \"region\": \"Coquimbo\", \"fallecidos\": 0, \"codigo region\": 4}, {\"date\": \"2020-04-18\", \"region\": \"Valpara\\u00edso\", \"fallecidos\": 0, \"codigo region\": 5}, {\"date\": \"2020-04-18\", \"region\": \"Metropolitana\", \"fallecidos\": 7, \"codigo region\": 6}, {\"date\": \"2020-04-18\", \"region\": \"O\\u2019Higgins\", \"fallecidos\": 0, \"codigo region\": 7}, {\"date\": \"2020-04-18\", \"region\": \"Maule\", \"fallecidos\": 1, \"codigo region\": 8}, {\"date\": \"2020-04-18\", \"region\": \"\\u00d1uble\", \"fallecidos\": 1, \"codigo region\": 9}, {\"date\": \"2020-04-18\", \"region\": \"Biob\\u00edo\", \"fallecidos\": 0, \"codigo region\": 10}, {\"date\": \"2020-04-18\", \"region\": \"Araucan\\u00eda\", \"fallecidos\": 1, \"codigo region\": 11}, {\"date\": \"2020-04-18\", \"region\": \"Los R\\u00edos\", \"fallecidos\": 0, \"codigo region\": 12}, {\"date\": \"2020-04-18\", \"region\": \"Los Lagos\", \"fallecidos\": 0, \"codigo region\": 13}, {\"date\": \"2020-04-18\", \"region\": \"Ays\\u00e9n\", \"fallecidos\": 0, \"codigo region\": 14}, {\"date\": \"2020-04-18\", \"region\": \"Magallanes\", \"fallecidos\": 0, \"codigo region\": 15}, {\"date\": \"2020-04-19\", \"region\": \"Arica y Parinacota\", \"fallecidos\": 0, \"codigo region\": 0}, {\"date\": \"2020-04-19\", \"region\": \"Tarapac\\u00e1\", \"fallecidos\": 0, \"codigo region\": 1}, {\"date\": \"2020-04-19\", \"region\": \"Antofagasta\", \"fallecidos\": 0, \"codigo region\": 2}, {\"date\": \"2020-04-19\", \"region\": \"Atacama\", \"fallecidos\": 0, \"codigo region\": 3}, {\"date\": \"2020-04-19\", \"region\": \"Coquimbo\", \"fallecidos\": 0, \"codigo region\": 4}, {\"date\": \"2020-04-19\", \"region\": \"Valpara\\u00edso\", \"fallecidos\": 1, \"codigo region\": 5}, {\"date\": \"2020-04-19\", \"region\": \"Metropolitana\", \"fallecidos\": 5, \"codigo region\": 6}, {\"date\": \"2020-04-19\", \"region\": \"O\\u2019Higgins\", \"fallecidos\": 0, \"codigo region\": 7}, {\"date\": \"2020-04-19\", \"region\": \"Maule\", \"fallecidos\": 0, \"codigo region\": 8}, {\"date\": \"2020-04-19\", \"region\": \"\\u00d1uble\", \"fallecidos\": 1, \"codigo region\": 9}, {\"date\": \"2020-04-19\", \"region\": \"Biob\\u00edo\", \"fallecidos\": 0, \"codigo region\": 10}, {\"date\": \"2020-04-19\", \"region\": \"Araucan\\u00eda\", \"fallecidos\": 0, \"codigo region\": 11}, {\"date\": \"2020-04-19\", \"region\": \"Los R\\u00edos\", \"fallecidos\": 0, \"codigo region\": 12}, {\"date\": \"2020-04-19\", \"region\": \"Los Lagos\", \"fallecidos\": 0, \"codigo region\": 13}, {\"date\": \"2020-04-19\", \"region\": \"Ays\\u00e9n\", \"fallecidos\": 0, \"codigo region\": 14}, {\"date\": \"2020-04-19\", \"region\": \"Magallanes\", \"fallecidos\": 0, \"codigo region\": 15}, {\"date\": \"2020-04-20\", \"region\": \"Arica y Parinacota\", \"fallecidos\": 0, \"codigo region\": 0}, {\"date\": \"2020-04-20\", \"region\": \"Tarapac\\u00e1\", \"fallecidos\": 0, \"codigo region\": 1}, {\"date\": \"2020-04-20\", \"region\": \"Antofagasta\", \"fallecidos\": 0, \"codigo region\": 2}, {\"date\": \"2020-04-20\", \"region\": \"Atacama\", \"fallecidos\": 0, \"codigo region\": 3}, {\"date\": \"2020-04-20\", \"region\": \"Coquimbo\", \"fallecidos\": 0, \"codigo region\": 4}, {\"date\": \"2020-04-20\", \"region\": \"Valpara\\u00edso\", \"fallecidos\": 0, \"codigo region\": 5}, {\"date\": \"2020-04-20\", \"region\": \"Metropolitana\", \"fallecidos\": 4, \"codigo region\": 6}, {\"date\": \"2020-04-20\", \"region\": \"O\\u2019Higgins\", \"fallecidos\": 0, \"codigo region\": 7}, {\"date\": \"2020-04-20\", \"region\": \"Maule\", \"fallecidos\": 2, \"codigo region\": 8}, {\"date\": \"2020-04-20\", \"region\": \"\\u00d1uble\", \"fallecidos\": 0, \"codigo region\": 9}, {\"date\": \"2020-04-20\", \"region\": \"Biob\\u00edo\", \"fallecidos\": 0, \"codigo region\": 10}, {\"date\": \"2020-04-20\", \"region\": \"Araucan\\u00eda\", \"fallecidos\": 0, \"codigo region\": 11}, {\"date\": \"2020-04-20\", \"region\": \"Los R\\u00edos\", \"fallecidos\": 0, \"codigo region\": 12}, {\"date\": \"2020-04-20\", \"region\": \"Los Lagos\", \"fallecidos\": 0, \"codigo region\": 13}, {\"date\": \"2020-04-20\", \"region\": \"Ays\\u00e9n\", \"fallecidos\": 0, \"codigo region\": 14}, {\"date\": \"2020-04-20\", \"region\": \"Magallanes\", \"fallecidos\": 0, \"codigo region\": 15}, {\"date\": \"2020-04-21\", \"region\": \"Arica y Parinacota\", \"fallecidos\": 0, \"codigo region\": 0}, {\"date\": \"2020-04-21\", \"region\": \"Tarapac\\u00e1\", \"fallecidos\": 0, \"codigo region\": 1}, {\"date\": \"2020-04-21\", \"region\": \"Antofagasta\", \"fallecidos\": 0, \"codigo region\": 2}, {\"date\": \"2020-04-21\", \"region\": \"Atacama\", \"fallecidos\": 0, \"codigo region\": 3}, {\"date\": \"2020-04-21\", \"region\": \"Coquimbo\", \"fallecidos\": 0, \"codigo region\": 4}, {\"date\": \"2020-04-21\", \"region\": \"Valpara\\u00edso\", \"fallecidos\": 1, \"codigo region\": 5}, {\"date\": \"2020-04-21\", \"region\": \"Metropolitana\", \"fallecidos\": 2, \"codigo region\": 6}, {\"date\": \"2020-04-21\", \"region\": \"O\\u2019Higgins\", \"fallecidos\": 1, \"codigo region\": 7}, {\"date\": \"2020-04-21\", \"region\": \"Maule\", \"fallecidos\": 0, \"codigo region\": 8}, {\"date\": \"2020-04-21\", \"region\": \"\\u00d1uble\", \"fallecidos\": 0, \"codigo region\": 9}, {\"date\": \"2020-04-21\", \"region\": \"Biob\\u00edo\", \"fallecidos\": 1, \"codigo region\": 10}, {\"date\": \"2020-04-21\", \"region\": \"Araucan\\u00eda\", \"fallecidos\": 2, \"codigo region\": 11}, {\"date\": \"2020-04-21\", \"region\": \"Los R\\u00edos\", \"fallecidos\": 0, \"codigo region\": 12}, {\"date\": \"2020-04-21\", \"region\": \"Los Lagos\", \"fallecidos\": 0, \"codigo region\": 13}, {\"date\": \"2020-04-21\", \"region\": \"Ays\\u00e9n\", \"fallecidos\": 0, \"codigo region\": 14}, {\"date\": \"2020-04-21\", \"region\": \"Magallanes\", \"fallecidos\": 1, \"codigo region\": 15}, {\"date\": \"2020-04-22\", \"region\": \"Arica y Parinacota\", \"fallecidos\": 0, \"codigo region\": 0}, {\"date\": \"2020-04-22\", \"region\": \"Tarapac\\u00e1\", \"fallecidos\": 0, \"codigo region\": 1}, {\"date\": \"2020-04-22\", \"region\": \"Antofagasta\", \"fallecidos\": 1, \"codigo region\": 2}, {\"date\": \"2020-04-22\", \"region\": \"Atacama\", \"fallecidos\": 0, \"codigo region\": 3}, {\"date\": \"2020-04-22\", \"region\": \"Coquimbo\", \"fallecidos\": 0, \"codigo region\": 4}, {\"date\": \"2020-04-22\", \"region\": \"Valpara\\u00edso\", \"fallecidos\": 1, \"codigo region\": 5}, {\"date\": \"2020-04-22\", \"region\": \"Metropolitana\", \"fallecidos\": 9, \"codigo region\": 6}, {\"date\": \"2020-04-22\", \"region\": \"O\\u2019Higgins\", \"fallecidos\": 0, \"codigo region\": 7}, {\"date\": \"2020-04-22\", \"region\": \"Maule\", \"fallecidos\": 0, \"codigo region\": 8}, {\"date\": \"2020-04-22\", \"region\": \"\\u00d1uble\", \"fallecidos\": 0, \"codigo region\": 9}, {\"date\": \"2020-04-22\", \"region\": \"Biob\\u00edo\", \"fallecidos\": 1, \"codigo region\": 10}, {\"date\": \"2020-04-22\", \"region\": \"Araucan\\u00eda\", \"fallecidos\": 1, \"codigo region\": 11}, {\"date\": \"2020-04-22\", \"region\": \"Los R\\u00edos\", \"fallecidos\": 0, \"codigo region\": 12}, {\"date\": \"2020-04-22\", \"region\": \"Los Lagos\", \"fallecidos\": 0, \"codigo region\": 13}, {\"date\": \"2020-04-22\", \"region\": \"Ays\\u00e9n\", \"fallecidos\": 0, \"codigo region\": 14}, {\"date\": \"2020-04-22\", \"region\": \"Magallanes\", \"fallecidos\": 0, \"codigo region\": 15}, {\"date\": \"2020-04-23\", \"region\": \"Arica y Parinacota\", \"fallecidos\": 0, \"codigo region\": 0}, {\"date\": \"2020-04-23\", \"region\": \"Tarapac\\u00e1\", \"fallecidos\": 0, \"codigo region\": 1}, {\"date\": \"2020-04-23\", \"region\": \"Antofagasta\", \"fallecidos\": 0, \"codigo region\": 2}, {\"date\": \"2020-04-23\", \"region\": \"Atacama\", \"fallecidos\": 0, \"codigo region\": 3}, {\"date\": \"2020-04-23\", \"region\": \"Coquimbo\", \"fallecidos\": 0, \"codigo region\": 4}, {\"date\": \"2020-04-23\", \"region\": \"Valpara\\u00edso\", \"fallecidos\": 0, \"codigo region\": 5}, {\"date\": \"2020-04-23\", \"region\": \"Metropolitana\", \"fallecidos\": 7, \"codigo region\": 6}, {\"date\": \"2020-04-23\", \"region\": \"O\\u2019Higgins\", \"fallecidos\": 0, \"codigo region\": 7}, {\"date\": \"2020-04-23\", \"region\": \"Maule\", \"fallecidos\": 0, \"codigo region\": 8}, {\"date\": \"2020-04-23\", \"region\": \"\\u00d1uble\", \"fallecidos\": 0, \"codigo region\": 9}, {\"date\": \"2020-04-23\", \"region\": \"Biob\\u00edo\", \"fallecidos\": 0, \"codigo region\": 10}, {\"date\": \"2020-04-23\", \"region\": \"Araucan\\u00eda\", \"fallecidos\": 0, \"codigo region\": 11}, {\"date\": \"2020-04-23\", \"region\": \"Los R\\u00edos\", \"fallecidos\": 0, \"codigo region\": 12}, {\"date\": \"2020-04-23\", \"region\": \"Los Lagos\", \"fallecidos\": 1, \"codigo region\": 13}, {\"date\": \"2020-04-23\", \"region\": \"Ays\\u00e9n\", \"fallecidos\": 0, \"codigo region\": 14}, {\"date\": \"2020-04-23\", \"region\": \"Magallanes\", \"fallecidos\": 0, \"codigo region\": 15}, {\"date\": \"2020-04-24\", \"region\": \"Arica y Parinacota\", \"fallecidos\": 1, \"codigo region\": 0}, {\"date\": \"2020-04-24\", \"region\": \"Tarapac\\u00e1\", \"fallecidos\": 0, \"codigo region\": 1}, {\"date\": \"2020-04-24\", \"region\": \"Antofagasta\", \"fallecidos\": 0, \"codigo region\": 2}, {\"date\": \"2020-04-24\", \"region\": \"Atacama\", \"fallecidos\": 0, \"codigo region\": 3}, {\"date\": \"2020-04-24\", \"region\": \"Coquimbo\", \"fallecidos\": 0, \"codigo region\": 4}, {\"date\": \"2020-04-24\", \"region\": \"Valpara\\u00edso\", \"fallecidos\": 1, \"codigo region\": 5}, {\"date\": \"2020-04-24\", \"region\": \"Metropolitana\", \"fallecidos\": 1, \"codigo region\": 6}, {\"date\": \"2020-04-24\", \"region\": \"O\\u2019Higgins\", \"fallecidos\": 0, \"codigo region\": 7}, {\"date\": \"2020-04-24\", \"region\": \"Maule\", \"fallecidos\": 0, \"codigo region\": 8}, {\"date\": \"2020-04-24\", \"region\": \"\\u00d1uble\", \"fallecidos\": 1, \"codigo region\": 9}, {\"date\": \"2020-04-24\", \"region\": \"Biob\\u00edo\", \"fallecidos\": 0, \"codigo region\": 10}, {\"date\": \"2020-04-24\", \"region\": \"Araucan\\u00eda\", \"fallecidos\": 0, \"codigo region\": 11}, {\"date\": \"2020-04-24\", \"region\": \"Los R\\u00edos\", \"fallecidos\": 0, \"codigo region\": 12}, {\"date\": \"2020-04-24\", \"region\": \"Los Lagos\", \"fallecidos\": 1, \"codigo region\": 13}, {\"date\": \"2020-04-24\", \"region\": \"Ays\\u00e9n\", \"fallecidos\": 0, \"codigo region\": 14}, {\"date\": \"2020-04-24\", \"region\": \"Magallanes\", \"fallecidos\": 1, \"codigo region\": 15}, {\"date\": \"2020-04-25\", \"region\": \"Arica y Parinacota\", \"fallecidos\": 0, \"codigo region\": 0}, {\"date\": \"2020-04-25\", \"region\": \"Tarapac\\u00e1\", \"fallecidos\": 1, \"codigo region\": 1}, {\"date\": \"2020-04-25\", \"region\": \"Antofagasta\", \"fallecidos\": 1, \"codigo region\": 2}, {\"date\": \"2020-04-25\", \"region\": \"Atacama\", \"fallecidos\": 0, \"codigo region\": 3}, {\"date\": \"2020-04-25\", \"region\": \"Coquimbo\", \"fallecidos\": 0, \"codigo region\": 4}, {\"date\": \"2020-04-25\", \"region\": \"Valpara\\u00edso\", \"fallecidos\": 1, \"codigo region\": 5}, {\"date\": \"2020-04-25\", \"region\": \"Metropolitana\", \"fallecidos\": 3, \"codigo region\": 6}, {\"date\": \"2020-04-25\", \"region\": \"O\\u2019Higgins\", \"fallecidos\": 0, \"codigo region\": 7}, {\"date\": \"2020-04-25\", \"region\": \"Maule\", \"fallecidos\": 0, \"codigo region\": 8}, {\"date\": \"2020-04-25\", \"region\": \"\\u00d1uble\", \"fallecidos\": 0, \"codigo region\": 9}, {\"date\": \"2020-04-25\", \"region\": \"Biob\\u00edo\", \"fallecidos\": 0, \"codigo region\": 10}, {\"date\": \"2020-04-25\", \"region\": \"Araucan\\u00eda\", \"fallecidos\": 1, \"codigo region\": 11}, {\"date\": \"2020-04-25\", \"region\": \"Los R\\u00edos\", \"fallecidos\": 0, \"codigo region\": 12}, {\"date\": \"2020-04-25\", \"region\": \"Los Lagos\", \"fallecidos\": 0, \"codigo region\": 13}, {\"date\": \"2020-04-25\", \"region\": \"Ays\\u00e9n\", \"fallecidos\": 0, \"codigo region\": 14}, {\"date\": \"2020-04-25\", \"region\": \"Magallanes\", \"fallecidos\": 0, \"codigo region\": 15}, {\"date\": \"2020-04-26\", \"region\": \"Arica y Parinacota\", \"fallecidos\": 0, \"codigo region\": 0}, {\"date\": \"2020-04-26\", \"region\": \"Tarapac\\u00e1\", \"fallecidos\": 0, \"codigo region\": 1}, {\"date\": \"2020-04-26\", \"region\": \"Antofagasta\", \"fallecidos\": 1, \"codigo region\": 2}, {\"date\": \"2020-04-26\", \"region\": \"Atacama\", \"fallecidos\": 0, \"codigo region\": 3}, {\"date\": \"2020-04-26\", \"region\": \"Coquimbo\", \"fallecidos\": 0, \"codigo region\": 4}, {\"date\": \"2020-04-26\", \"region\": \"Valpara\\u00edso\", \"fallecidos\": 0, \"codigo region\": 5}, {\"date\": \"2020-04-26\", \"region\": \"Metropolitana\", \"fallecidos\": 2, \"codigo region\": 6}, {\"date\": \"2020-04-26\", \"region\": \"O\\u2019Higgins\", \"fallecidos\": 0, \"codigo region\": 7}, {\"date\": \"2020-04-26\", \"region\": \"Maule\", \"fallecidos\": 1, \"codigo region\": 8}, {\"date\": \"2020-04-26\", \"region\": \"\\u00d1uble\", \"fallecidos\": 0, \"codigo region\": 9}, {\"date\": \"2020-04-26\", \"region\": \"Biob\\u00edo\", \"fallecidos\": 1, \"codigo region\": 10}, {\"date\": \"2020-04-26\", \"region\": \"Araucan\\u00eda\", \"fallecidos\": 2, \"codigo region\": 11}, {\"date\": \"2020-04-26\", \"region\": \"Los R\\u00edos\", \"fallecidos\": 0, \"codigo region\": 12}, {\"date\": \"2020-04-26\", \"region\": \"Los Lagos\", \"fallecidos\": 0, \"codigo region\": 13}, {\"date\": \"2020-04-26\", \"region\": \"Ays\\u00e9n\", \"fallecidos\": 0, \"codigo region\": 14}, {\"date\": \"2020-04-26\", \"region\": \"Magallanes\", \"fallecidos\": 1, \"codigo region\": 15}, {\"date\": \"2020-04-27\", \"region\": \"Arica y Parinacota\", \"fallecidos\": 0, \"codigo region\": 0}, {\"date\": \"2020-04-27\", \"region\": \"Tarapac\\u00e1\", \"fallecidos\": 0, \"codigo region\": 1}, {\"date\": \"2020-04-27\", \"region\": \"Antofagasta\", \"fallecidos\": 0, \"codigo region\": 2}, {\"date\": \"2020-04-27\", \"region\": \"Atacama\", \"fallecidos\": 0, \"codigo region\": 3}, {\"date\": \"2020-04-27\", \"region\": \"Coquimbo\", \"fallecidos\": 0, \"codigo region\": 4}, {\"date\": \"2020-04-27\", \"region\": \"Valpara\\u00edso\", \"fallecidos\": 0, \"codigo region\": 5}, {\"date\": \"2020-04-27\", \"region\": \"Metropolitana\", \"fallecidos\": 4, \"codigo region\": 6}, {\"date\": \"2020-04-27\", \"region\": \"O\\u2019Higgins\", \"fallecidos\": 0, \"codigo region\": 7}, {\"date\": \"2020-04-27\", \"region\": \"Maule\", \"fallecidos\": 1, \"codigo region\": 8}, {\"date\": \"2020-04-27\", \"region\": \"\\u00d1uble\", \"fallecidos\": 0, \"codigo region\": 9}, {\"date\": \"2020-04-27\", \"region\": \"Biob\\u00edo\", \"fallecidos\": 0, \"codigo region\": 10}, {\"date\": \"2020-04-27\", \"region\": \"Araucan\\u00eda\", \"fallecidos\": 3, \"codigo region\": 11}, {\"date\": \"2020-04-27\", \"region\": \"Los R\\u00edos\", \"fallecidos\": 0, \"codigo region\": 12}, {\"date\": \"2020-04-27\", \"region\": \"Los Lagos\", \"fallecidos\": 0, \"codigo region\": 13}, {\"date\": \"2020-04-27\", \"region\": \"Ays\\u00e9n\", \"fallecidos\": 0, \"codigo region\": 14}, {\"date\": \"2020-04-27\", \"region\": \"Magallanes\", \"fallecidos\": 1, \"codigo region\": 15}, {\"date\": \"2020-04-28\", \"region\": \"Arica y Parinacota\", \"fallecidos\": 0, \"codigo region\": 0}, {\"date\": \"2020-04-28\", \"region\": \"Tarapac\\u00e1\", \"fallecidos\": 0, \"codigo region\": 1}, {\"date\": \"2020-04-28\", \"region\": \"Antofagasta\", \"fallecidos\": 0, \"codigo region\": 2}, {\"date\": \"2020-04-28\", \"region\": \"Atacama\", \"fallecidos\": 0, \"codigo region\": 3}, {\"date\": \"2020-04-28\", \"region\": \"Coquimbo\", \"fallecidos\": 0, \"codigo region\": 4}, {\"date\": \"2020-04-28\", \"region\": \"Valpara\\u00edso\", \"fallecidos\": 1, \"codigo region\": 5}, {\"date\": \"2020-04-28\", \"region\": \"Metropolitana\", \"fallecidos\": 5, \"codigo region\": 6}, {\"date\": \"2020-04-28\", \"region\": \"O\\u2019Higgins\", \"fallecidos\": 0, \"codigo region\": 7}, {\"date\": \"2020-04-28\", \"region\": \"Maule\", \"fallecidos\": 0, \"codigo region\": 8}, {\"date\": \"2020-04-28\", \"region\": \"\\u00d1uble\", \"fallecidos\": 0, \"codigo region\": 9}, {\"date\": \"2020-04-28\", \"region\": \"Biob\\u00edo\", \"fallecidos\": 1, \"codigo region\": 10}, {\"date\": \"2020-04-28\", \"region\": \"Araucan\\u00eda\", \"fallecidos\": 0, \"codigo region\": 11}, {\"date\": \"2020-04-28\", \"region\": \"Los R\\u00edos\", \"fallecidos\": 1, \"codigo region\": 12}, {\"date\": \"2020-04-28\", \"region\": \"Los Lagos\", \"fallecidos\": 1, \"codigo region\": 13}, {\"date\": \"2020-04-28\", \"region\": \"Ays\\u00e9n\", \"fallecidos\": 0, \"codigo region\": 14}, {\"date\": \"2020-04-28\", \"region\": \"Magallanes\", \"fallecidos\": 0, \"codigo region\": 15}, {\"date\": \"2020-04-29\", \"region\": \"Arica y Parinacota\", \"fallecidos\": 1, \"codigo region\": 0}, {\"date\": \"2020-04-29\", \"region\": \"Tarapac\\u00e1\", \"fallecidos\": 0, \"codigo region\": 1}, {\"date\": \"2020-04-29\", \"region\": \"Antofagasta\", \"fallecidos\": 0, \"codigo region\": 2}, {\"date\": \"2020-04-29\", \"region\": \"Atacama\", \"fallecidos\": 0, \"codigo region\": 3}, {\"date\": \"2020-04-29\", \"region\": \"Coquimbo\", \"fallecidos\": 0, \"codigo region\": 4}, {\"date\": \"2020-04-29\", \"region\": \"Valpara\\u00edso\", \"fallecidos\": 2, \"codigo region\": 5}, {\"date\": \"2020-04-29\", \"region\": \"Metropolitana\", \"fallecidos\": 4, \"codigo region\": 6}, {\"date\": \"2020-04-29\", \"region\": \"O\\u2019Higgins\", \"fallecidos\": 0, \"codigo region\": 7}, {\"date\": \"2020-04-29\", \"region\": \"Maule\", \"fallecidos\": 1, \"codigo region\": 8}, {\"date\": \"2020-04-29\", \"region\": \"\\u00d1uble\", \"fallecidos\": 0, \"codigo region\": 9}, {\"date\": \"2020-04-29\", \"region\": \"Biob\\u00edo\", \"fallecidos\": 0, \"codigo region\": 10}, {\"date\": \"2020-04-29\", \"region\": \"Araucan\\u00eda\", \"fallecidos\": 0, \"codigo region\": 11}, {\"date\": \"2020-04-29\", \"region\": \"Los R\\u00edos\", \"fallecidos\": 0, \"codigo region\": 12}, {\"date\": \"2020-04-29\", \"region\": \"Los Lagos\", \"fallecidos\": 0, \"codigo region\": 13}, {\"date\": \"2020-04-29\", \"region\": \"Ays\\u00e9n\", \"fallecidos\": 0, \"codigo region\": 14}, {\"date\": \"2020-04-29\", \"region\": \"Magallanes\", \"fallecidos\": 1, \"codigo region\": 15}, {\"date\": \"2020-04-30\", \"region\": \"Arica y Parinacota\", \"fallecidos\": 0, \"codigo region\": 0}, {\"date\": \"2020-04-30\", \"region\": \"Tarapac\\u00e1\", \"fallecidos\": 0, \"codigo region\": 1}, {\"date\": \"2020-04-30\", \"region\": \"Antofagasta\", \"fallecidos\": 1, \"codigo region\": 2}, {\"date\": \"2020-04-30\", \"region\": \"Atacama\", \"fallecidos\": 0, \"codigo region\": 3}, {\"date\": \"2020-04-30\", \"region\": \"Coquimbo\", \"fallecidos\": 0, \"codigo region\": 4}, {\"date\": \"2020-04-30\", \"region\": \"Valpara\\u00edso\", \"fallecidos\": 0, \"codigo region\": 5}, {\"date\": \"2020-04-30\", \"region\": \"Metropolitana\", \"fallecidos\": 6, \"codigo region\": 6}, {\"date\": \"2020-04-30\", \"region\": \"O\\u2019Higgins\", \"fallecidos\": 0, \"codigo region\": 7}, {\"date\": \"2020-04-30\", \"region\": \"Maule\", \"fallecidos\": 0, \"codigo region\": 8}, {\"date\": \"2020-04-30\", \"region\": \"\\u00d1uble\", \"fallecidos\": 0, \"codigo region\": 9}, {\"date\": \"2020-04-30\", \"region\": \"Biob\\u00edo\", \"fallecidos\": 0, \"codigo region\": 10}, {\"date\": \"2020-04-30\", \"region\": \"Araucan\\u00eda\", \"fallecidos\": 3, \"codigo region\": 11}, {\"date\": \"2020-04-30\", \"region\": \"Los R\\u00edos\", \"fallecidos\": 0, \"codigo region\": 12}, {\"date\": \"2020-04-30\", \"region\": \"Los Lagos\", \"fallecidos\": 1, \"codigo region\": 13}, {\"date\": \"2020-04-30\", \"region\": \"Ays\\u00e9n\", \"fallecidos\": 0, \"codigo region\": 14}, {\"date\": \"2020-04-30\", \"region\": \"Magallanes\", \"fallecidos\": 0, \"codigo region\": 15}, {\"date\": \"2020-05-01\", \"region\": \"Arica y Parinacota\", \"fallecidos\": 0, \"codigo region\": 0}, {\"date\": \"2020-05-01\", \"region\": \"Tarapac\\u00e1\", \"fallecidos\": 0, \"codigo region\": 1}, {\"date\": \"2020-05-01\", \"region\": \"Antofagasta\", \"fallecidos\": 2, \"codigo region\": 2}, {\"date\": \"2020-05-01\", \"region\": \"Atacama\", \"fallecidos\": 0, \"codigo region\": 3}, {\"date\": \"2020-05-01\", \"region\": \"Coquimbo\", \"fallecidos\": 0, \"codigo region\": 4}, {\"date\": \"2020-05-01\", \"region\": \"Valpara\\u00edso\", \"fallecidos\": 0, \"codigo region\": 5}, {\"date\": \"2020-05-01\", \"region\": \"Metropolitana\", \"fallecidos\": 4, \"codigo region\": 6}, {\"date\": \"2020-05-01\", \"region\": \"O\\u2019Higgins\", \"fallecidos\": 0, \"codigo region\": 7}, {\"date\": \"2020-05-01\", \"region\": \"Maule\", \"fallecidos\": 0, \"codigo region\": 8}, {\"date\": \"2020-05-01\", \"region\": \"\\u00d1uble\", \"fallecidos\": 0, \"codigo region\": 9}, {\"date\": \"2020-05-01\", \"region\": \"Biob\\u00edo\", \"fallecidos\": 0, \"codigo region\": 10}, {\"date\": \"2020-05-01\", \"region\": \"Araucan\\u00eda\", \"fallecidos\": 1, \"codigo region\": 11}, {\"date\": \"2020-05-01\", \"region\": \"Los R\\u00edos\", \"fallecidos\": 0, \"codigo region\": 12}, {\"date\": \"2020-05-01\", \"region\": \"Los Lagos\", \"fallecidos\": 0, \"codigo region\": 13}, {\"date\": \"2020-05-01\", \"region\": \"Ays\\u00e9n\", \"fallecidos\": 0, \"codigo region\": 14}, {\"date\": \"2020-05-01\", \"region\": \"Magallanes\", \"fallecidos\": 0, \"codigo region\": 15}, {\"date\": \"2020-05-02\", \"region\": \"Arica y Parinacota\", \"fallecidos\": 0, \"codigo region\": 0}, {\"date\": \"2020-05-02\", \"region\": \"Tarapac\\u00e1\", \"fallecidos\": 0, \"codigo region\": 1}, {\"date\": \"2020-05-02\", \"region\": \"Antofagasta\", \"fallecidos\": 0, \"codigo region\": 2}, {\"date\": \"2020-05-02\", \"region\": \"Atacama\", \"fallecidos\": 0, \"codigo region\": 3}, {\"date\": \"2020-05-02\", \"region\": \"Coquimbo\", \"fallecidos\": 0, \"codigo region\": 4}, {\"date\": \"2020-05-02\", \"region\": \"Valpara\\u00edso\", \"fallecidos\": 1, \"codigo region\": 5}, {\"date\": \"2020-05-02\", \"region\": \"Metropolitana\", \"fallecidos\": 8, \"codigo region\": 6}, {\"date\": \"2020-05-02\", \"region\": \"O\\u2019Higgins\", \"fallecidos\": 2, \"codigo region\": 7}, {\"date\": \"2020-05-02\", \"region\": \"Maule\", \"fallecidos\": 0, \"codigo region\": 8}, {\"date\": \"2020-05-02\", \"region\": \"\\u00d1uble\", \"fallecidos\": 2, \"codigo region\": 9}, {\"date\": \"2020-05-02\", \"region\": \"Biob\\u00edo\", \"fallecidos\": 0, \"codigo region\": 10}, {\"date\": \"2020-05-02\", \"region\": \"Araucan\\u00eda\", \"fallecidos\": 0, \"codigo region\": 11}, {\"date\": \"2020-05-02\", \"region\": \"Los R\\u00edos\", \"fallecidos\": 0, \"codigo region\": 12}, {\"date\": \"2020-05-02\", \"region\": \"Los Lagos\", \"fallecidos\": 0, \"codigo region\": 13}, {\"date\": \"2020-05-02\", \"region\": \"Ays\\u00e9n\", \"fallecidos\": 0, \"codigo region\": 14}, {\"date\": \"2020-05-02\", \"region\": \"Magallanes\", \"fallecidos\": 0, \"codigo region\": 15}, {\"date\": \"2020-05-03\", \"region\": \"Arica y Parinacota\", \"fallecidos\": 0, \"codigo region\": 0}, {\"date\": \"2020-05-03\", \"region\": \"Tarapac\\u00e1\", \"fallecidos\": 0, \"codigo region\": 1}, {\"date\": \"2020-05-03\", \"region\": \"Antofagasta\", \"fallecidos\": 0, \"codigo region\": 2}, {\"date\": \"2020-05-03\", \"region\": \"Atacama\", \"fallecidos\": 0, \"codigo region\": 3}, {\"date\": \"2020-05-03\", \"region\": \"Coquimbo\", \"fallecidos\": 0, \"codigo region\": 4}, {\"date\": \"2020-05-03\", \"region\": \"Valpara\\u00edso\", \"fallecidos\": 0, \"codigo region\": 5}, {\"date\": \"2020-05-03\", \"region\": \"Metropolitana\", \"fallecidos\": 13, \"codigo region\": 6}, {\"date\": \"2020-05-03\", \"region\": \"O\\u2019Higgins\", \"fallecidos\": 0, \"codigo region\": 7}, {\"date\": \"2020-05-03\", \"region\": \"Maule\", \"fallecidos\": 0, \"codigo region\": 8}, {\"date\": \"2020-05-03\", \"region\": \"\\u00d1uble\", \"fallecidos\": 0, \"codigo region\": 9}, {\"date\": \"2020-05-03\", \"region\": \"Biob\\u00edo\", \"fallecidos\": 0, \"codigo region\": 10}, {\"date\": \"2020-05-03\", \"region\": \"Araucan\\u00eda\", \"fallecidos\": 0, \"codigo region\": 11}, {\"date\": \"2020-05-03\", \"region\": \"Los R\\u00edos\", \"fallecidos\": 0, \"codigo region\": 12}, {\"date\": \"2020-05-03\", \"region\": \"Los Lagos\", \"fallecidos\": 0, \"codigo region\": 13}, {\"date\": \"2020-05-03\", \"region\": \"Ays\\u00e9n\", \"fallecidos\": 0, \"codigo region\": 14}, {\"date\": \"2020-05-03\", \"region\": \"Magallanes\", \"fallecidos\": 0, \"codigo region\": 15}, {\"date\": \"2020-05-04\", \"region\": \"Arica y Parinacota\", \"fallecidos\": 0, \"codigo region\": 0}, {\"date\": \"2020-05-04\", \"region\": \"Tarapac\\u00e1\", \"fallecidos\": 0, \"codigo region\": 1}, {\"date\": \"2020-05-04\", \"region\": \"Antofagasta\", \"fallecidos\": 0, \"codigo region\": 2}, {\"date\": \"2020-05-04\", \"region\": \"Atacama\", \"fallecidos\": 0, \"codigo region\": 3}, {\"date\": \"2020-05-04\", \"region\": \"Coquimbo\", \"fallecidos\": 0, \"codigo region\": 4}, {\"date\": \"2020-05-04\", \"region\": \"Valpara\\u00edso\", \"fallecidos\": 0, \"codigo region\": 5}, {\"date\": \"2020-05-04\", \"region\": \"Metropolitana\", \"fallecidos\": 8, \"codigo region\": 6}, {\"date\": \"2020-05-04\", \"region\": \"O\\u2019Higgins\", \"fallecidos\": 0, \"codigo region\": 7}, {\"date\": \"2020-05-04\", \"region\": \"Maule\", \"fallecidos\": 0, \"codigo region\": 8}, {\"date\": \"2020-05-04\", \"region\": \"\\u00d1uble\", \"fallecidos\": 1, \"codigo region\": 9}, {\"date\": \"2020-05-04\", \"region\": \"Biob\\u00edo\", \"fallecidos\": 1, \"codigo region\": 10}, {\"date\": \"2020-05-04\", \"region\": \"Araucan\\u00eda\", \"fallecidos\": 0, \"codigo region\": 11}, {\"date\": \"2020-05-04\", \"region\": \"Los R\\u00edos\", \"fallecidos\": 0, \"codigo region\": 12}, {\"date\": \"2020-05-04\", \"region\": \"Los Lagos\", \"fallecidos\": 0, \"codigo region\": 13}, {\"date\": \"2020-05-04\", \"region\": \"Ays\\u00e9n\", \"fallecidos\": 0, \"codigo region\": 14}, {\"date\": \"2020-05-04\", \"region\": \"Magallanes\", \"fallecidos\": 0, \"codigo region\": 15}, {\"date\": \"2020-05-05\", \"region\": \"Arica y Parinacota\", \"fallecidos\": 0, \"codigo region\": 0}, {\"date\": \"2020-05-05\", \"region\": \"Tarapac\\u00e1\", \"fallecidos\": 0, \"codigo region\": 1}, {\"date\": \"2020-05-05\", \"region\": \"Antofagasta\", \"fallecidos\": 0, \"codigo region\": 2}, {\"date\": \"2020-05-05\", \"region\": \"Atacama\", \"fallecidos\": 0, \"codigo region\": 3}, {\"date\": \"2020-05-05\", \"region\": \"Coquimbo\", \"fallecidos\": 0, \"codigo region\": 4}, {\"date\": \"2020-05-05\", \"region\": \"Valpara\\u00edso\", \"fallecidos\": 2, \"codigo region\": 5}, {\"date\": \"2020-05-05\", \"region\": \"Metropolitana\", \"fallecidos\": 3, \"codigo region\": 6}, {\"date\": \"2020-05-05\", \"region\": \"O\\u2019Higgins\", \"fallecidos\": 0, \"codigo region\": 7}, {\"date\": \"2020-05-05\", \"region\": \"Maule\", \"fallecidos\": 0, \"codigo region\": 8}, {\"date\": \"2020-05-05\", \"region\": \"\\u00d1uble\", \"fallecidos\": 0, \"codigo region\": 9}, {\"date\": \"2020-05-05\", \"region\": \"Biob\\u00edo\", \"fallecidos\": 0, \"codigo region\": 10}, {\"date\": \"2020-05-05\", \"region\": \"Araucan\\u00eda\", \"fallecidos\": 0, \"codigo region\": 11}, {\"date\": \"2020-05-05\", \"region\": \"Los R\\u00edos\", \"fallecidos\": 0, \"codigo region\": 12}, {\"date\": \"2020-05-05\", \"region\": \"Los Lagos\", \"fallecidos\": 0, \"codigo region\": 13}, {\"date\": \"2020-05-05\", \"region\": \"Ays\\u00e9n\", \"fallecidos\": 0, \"codigo region\": 14}, {\"date\": \"2020-05-05\", \"region\": \"Magallanes\", \"fallecidos\": 0, \"codigo region\": 15}, {\"date\": \"2020-05-06\", \"region\": \"Arica y Parinacota\", \"fallecidos\": 1, \"codigo region\": 0}, {\"date\": \"2020-05-06\", \"region\": \"Tarapac\\u00e1\", \"fallecidos\": 0, \"codigo region\": 1}, {\"date\": \"2020-05-06\", \"region\": \"Antofagasta\", \"fallecidos\": 0, \"codigo region\": 2}, {\"date\": \"2020-05-06\", \"region\": \"Atacama\", \"fallecidos\": 0, \"codigo region\": 3}, {\"date\": \"2020-05-06\", \"region\": \"Coquimbo\", \"fallecidos\": 0, \"codigo region\": 4}, {\"date\": \"2020-05-06\", \"region\": \"Valpara\\u00edso\", \"fallecidos\": 1, \"codigo region\": 5}, {\"date\": \"2020-05-06\", \"region\": \"Metropolitana\", \"fallecidos\": 4, \"codigo region\": 6}, {\"date\": \"2020-05-06\", \"region\": \"O\\u2019Higgins\", \"fallecidos\": 0, \"codigo region\": 7}, {\"date\": \"2020-05-06\", \"region\": \"Maule\", \"fallecidos\": 0, \"codigo region\": 8}, {\"date\": \"2020-05-06\", \"region\": \"\\u00d1uble\", \"fallecidos\": 0, \"codigo region\": 9}, {\"date\": \"2020-05-06\", \"region\": \"Biob\\u00edo\", \"fallecidos\": 0, \"codigo region\": 10}, {\"date\": \"2020-05-06\", \"region\": \"Araucan\\u00eda\", \"fallecidos\": 0, \"codigo region\": 11}, {\"date\": \"2020-05-06\", \"region\": \"Los R\\u00edos\", \"fallecidos\": 0, \"codigo region\": 12}, {\"date\": \"2020-05-06\", \"region\": \"Los Lagos\", \"fallecidos\": 0, \"codigo region\": 13}, {\"date\": \"2020-05-06\", \"region\": \"Ays\\u00e9n\", \"fallecidos\": 0, \"codigo region\": 14}, {\"date\": \"2020-05-06\", \"region\": \"Magallanes\", \"fallecidos\": 0, \"codigo region\": 15}, {\"date\": \"2020-05-07\", \"region\": \"Arica y Parinacota\", \"fallecidos\": 1, \"codigo region\": 0}, {\"date\": \"2020-05-07\", \"region\": \"Tarapac\\u00e1\", \"fallecidos\": 0, \"codigo region\": 1}, {\"date\": \"2020-05-07\", \"region\": \"Antofagasta\", \"fallecidos\": 0, \"codigo region\": 2}, {\"date\": \"2020-05-07\", \"region\": \"Atacama\", \"fallecidos\": 0, \"codigo region\": 3}, {\"date\": \"2020-05-07\", \"region\": \"Coquimbo\", \"fallecidos\": 0, \"codigo region\": 4}, {\"date\": \"2020-05-07\", \"region\": \"Valpara\\u00edso\", \"fallecidos\": 1, \"codigo region\": 5}, {\"date\": \"2020-05-07\", \"region\": \"Metropolitana\", \"fallecidos\": 2, \"codigo region\": 6}, {\"date\": \"2020-05-07\", \"region\": \"O\\u2019Higgins\", \"fallecidos\": 0, \"codigo region\": 7}, {\"date\": \"2020-05-07\", \"region\": \"Maule\", \"fallecidos\": 0, \"codigo region\": 8}, {\"date\": \"2020-05-07\", \"region\": \"\\u00d1uble\", \"fallecidos\": 0, \"codigo region\": 9}, {\"date\": \"2020-05-07\", \"region\": \"Biob\\u00edo\", \"fallecidos\": 0, \"codigo region\": 10}, {\"date\": \"2020-05-07\", \"region\": \"Araucan\\u00eda\", \"fallecidos\": 0, \"codigo region\": 11}, {\"date\": \"2020-05-07\", \"region\": \"Los R\\u00edos\", \"fallecidos\": 0, \"codigo region\": 12}, {\"date\": \"2020-05-07\", \"region\": \"Los Lagos\", \"fallecidos\": 0, \"codigo region\": 13}, {\"date\": \"2020-05-07\", \"region\": \"Ays\\u00e9n\", \"fallecidos\": 0, \"codigo region\": 14}, {\"date\": \"2020-05-07\", \"region\": \"Magallanes\", \"fallecidos\": 0, \"codigo region\": 15}]}}, {\"mode\": \"vega-lite\"});\n",
       "</script>"
      ],
      "text/plain": [
       "alt.HConcatChart(...)"
      ]
     },
     "execution_count": 168,
     "metadata": {},
     "output_type": "execute_result"
    }
   ],
   "source": [
    "#hide_input\n",
    "\n",
    "input_dropdown = alt.binding_select(options=new_data['region'].unique())\n",
    "selection1 = alt.selection_single(fields=['region'], bind=input_dropdown, name=' ')\n",
    "selection2 = alt.selection_multi(fields=['region'], on='mouseover')\n",
    "\n",
    "color = alt.condition(selection1 | selection2,\n",
    "                    alt.Color('region:N', scale=alt.Scale(scheme='tableau20'), legend=None),\n",
    "                    alt.value('lightgray'))\n",
    "\n",
    "bars = alt.Chart(new_data).mark_bar().encode(\n",
    "    x=alt.X('date:O', axis=alt.Axis(title='Fecha (año-mes-día)')),\n",
    "    y=alt.Y('fallecidos', axis=alt.Axis(title='Fallecimientos confirmados')),\n",
    "    color=color,\n",
    "    tooltip=['date', 'region', 'fallecidos'],\n",
    "    order=alt.Order(\n",
    "    # Sort the segments of the bars by this field\n",
    "    'codigo region',\n",
    "    sort='descending'\n",
    "    )\n",
    "    ).properties(\n",
    "    title='Covid-19 en Chile: Fallecimientos confirmados diarios por región'\n",
    ").add_selection(\n",
    "    selection1, selection2\n",
    ").transform_filter(\n",
    "    selection1\n",
    ")\n",
    "\n",
    "legend = alt.Chart(new_data).mark_point().encode(\n",
    "    y=alt.Y('region:N', axis=alt.Axis(orient='right'), sort=regiones),\n",
    "    color=color\n",
    ").add_selection(\n",
    "    selection1, selection2\n",
    ")\n",
    "\n",
    "bars.properties(width=600, height=400) | legend"
   ]
  },
  {
   "cell_type": "markdown",
   "metadata": {},
   "source": [
    "# Evolución de casos confirmados por región"
   ]
  },
  {
   "cell_type": "code",
   "execution_count": 35,
   "metadata": {},
   "outputs": [],
   "source": [
    "#hide\n",
    "data_raw = pd.read_csv(\n",
    "    \"https://raw.githubusercontent.com/MinCiencia/Datos-COVID19/master/output/producto3/CasosTotalesCumulativo.csv\",\n",
    "    index_col='Region')"
   ]
  },
  {
   "cell_type": "code",
   "execution_count": 36,
   "metadata": {},
   "outputs": [],
   "source": [
    "#hide\n",
    "data_raw = data_raw.drop(\"Total\")"
   ]
  },
  {
   "cell_type": "code",
   "execution_count": 37,
   "metadata": {},
   "outputs": [],
   "source": [
    "#hide\n",
    "data = pd.DataFrame()\n",
    "i = 0\n",
    "for date in data_raw.keys():\n",
    "    for n, region in enumerate(data_raw.index):\n",
    "        data[i] = date, region, data_raw[date].loc[region], n\n",
    "        i += 1"
   ]
  },
  {
   "cell_type": "code",
   "execution_count": 38,
   "metadata": {},
   "outputs": [],
   "source": [
    "#hide\n",
    "data_raw = data_raw.reset_index()\n",
    "regiones = data_raw['Region'].values\n",
    "data = data.T\n",
    "data = data.rename(columns={0: \"date\", 1: \"region\", 2: \"casos\", 3: \"codigo region\"})"
   ]
  },
  {
   "cell_type": "code",
   "execution_count": 39,
   "metadata": {},
   "outputs": [],
   "source": [
    "#hide\n",
    "data[\"casos\"] = data[\"casos\"].astype(int)"
   ]
  },
  {
   "cell_type": "code",
   "execution_count": 40,
   "metadata": {},
   "outputs": [
    {
     "data": {
      "text/html": [
       "\n",
       "<div id=\"altair-viz-1c3231fbfb2a43af9ef1a55b25181cfb\"></div>\n",
       "<script type=\"text/javascript\">\n",
       "  (function(spec, embedOpt){\n",
       "    let outputDiv = document.currentScript.previousElementSibling;\n",
       "    if (outputDiv.id !== \"altair-viz-1c3231fbfb2a43af9ef1a55b25181cfb\") {\n",
       "      outputDiv = document.getElementById(\"altair-viz-1c3231fbfb2a43af9ef1a55b25181cfb\");\n",
       "    }\n",
       "    const paths = {\n",
       "      \"vega\": \"https://cdn.jsdelivr.net/npm//vega@5?noext\",\n",
       "      \"vega-lib\": \"https://cdn.jsdelivr.net/npm//vega-lib?noext\",\n",
       "      \"vega-lite\": \"https://cdn.jsdelivr.net/npm//vega-lite@4.8.1?noext\",\n",
       "      \"vega-embed\": \"https://cdn.jsdelivr.net/npm//vega-embed@6?noext\",\n",
       "    };\n",
       "\n",
       "    function loadScript(lib) {\n",
       "      return new Promise(function(resolve, reject) {\n",
       "        var s = document.createElement('script');\n",
       "        s.src = paths[lib];\n",
       "        s.async = true;\n",
       "        s.onload = () => resolve(paths[lib]);\n",
       "        s.onerror = () => reject(`Error loading script: ${paths[lib]}`);\n",
       "        document.getElementsByTagName(\"head\")[0].appendChild(s);\n",
       "      });\n",
       "    }\n",
       "\n",
       "    function showError(err) {\n",
       "      outputDiv.innerHTML = `<div class=\"error\" style=\"color:red;\">${err}</div>`;\n",
       "      throw err;\n",
       "    }\n",
       "\n",
       "    function displayChart(vegaEmbed) {\n",
       "      vegaEmbed(outputDiv, spec, embedOpt)\n",
       "        .catch(err => showError(`Javascript Error: ${err.message}<br>This usually means there's a typo in your chart specification. See the javascript console for the full traceback.`));\n",
       "    }\n",
       "\n",
       "    if(typeof define === \"function\" && define.amd) {\n",
       "      requirejs.config({paths});\n",
       "      require([\"vega-embed\"], displayChart, err => showError(`Error loading script: ${err.message}`));\n",
       "    } else if (typeof vegaEmbed === \"function\") {\n",
       "      displayChart(vegaEmbed);\n",
       "    } else {\n",
       "      loadScript(\"vega\")\n",
       "        .then(() => loadScript(\"vega-lite\"))\n",
       "        .then(() => loadScript(\"vega-embed\"))\n",
       "        .catch(showError)\n",
       "        .then(() => displayChart(vegaEmbed));\n",
       "    }\n",
       "  })({\"config\": {\"view\": {\"continuousWidth\": 400, \"continuousHeight\": 300}}, \"hconcat\": [{\"mark\": \"bar\", \"encoding\": {\"color\": {\"condition\": {\"type\": \"nominal\", \"field\": \"region\", \"legend\": null, \"scale\": {\"scheme\": \"tableau20\"}, \"selection\": {\"or\": [\" \", \"selector001\"]}}, \"value\": \"lightgray\"}, \"order\": {\"type\": \"quantitative\", \"field\": \"codigo region\", \"sort\": \"descending\"}, \"tooltip\": [{\"type\": \"nominal\", \"field\": \"date\"}, {\"type\": \"nominal\", \"field\": \"region\"}, {\"type\": \"quantitative\", \"field\": \"casos\"}], \"x\": {\"type\": \"ordinal\", \"axis\": {\"title\": \"Fecha (a\\u00f1o-mes-d\\u00eda)\"}, \"field\": \"date\"}, \"y\": {\"type\": \"quantitative\", \"axis\": {\"title\": \"Casos confirmados\"}, \"field\": \"casos\"}}, \"height\": 400, \"selection\": {\" \": {\"type\": \"single\", \"fields\": [\"region\"], \"bind\": {\"input\": \"select\", \"options\": [\"Arica y Parinacota\", \"Tarapac\\u00e1\", \"Antofagasta\", \"Atacama\", \"Coquimbo\", \"Valpara\\u00edso\", \"Metropolitana\", \"O\\u2019Higgins\", \"Maule\", \"\\u00d1uble\", \"Biob\\u00edo\", \"Araucan\\u00eda\", \"Los R\\u00edos\", \"Los Lagos\", \"Ays\\u00e9n\", \"Magallanes\"]}}, \"selector001\": {\"type\": \"multi\", \"fields\": [\"region\"], \"on\": \"mouseover\"}}, \"title\": \"COVID-19 en Chile: Total de casos confirmados por regi\\u00f3n\", \"transform\": [{\"filter\": {\"selection\": \" \"}}], \"width\": 600}, {\"mark\": \"point\", \"encoding\": {\"color\": {\"condition\": {\"type\": \"nominal\", \"field\": \"region\", \"legend\": null, \"scale\": {\"scheme\": \"tableau20\"}, \"selection\": {\"or\": [\" \", \"selector001\"]}}, \"value\": \"lightgray\"}, \"y\": {\"type\": \"nominal\", \"axis\": {\"orient\": \"right\"}, \"field\": \"region\", \"sort\": [\"Arica y Parinacota\", \"Tarapac\\u00e1\", \"Antofagasta\", \"Atacama\", \"Coquimbo\", \"Valpara\\u00edso\", \"Metropolitana\", \"O\\u2019Higgins\", \"Maule\", \"\\u00d1uble\", \"Biob\\u00edo\", \"Araucan\\u00eda\", \"Los R\\u00edos\", \"Los Lagos\", \"Ays\\u00e9n\", \"Magallanes\"]}}, \"selection\": {\" \": {\"type\": \"single\", \"fields\": [\"region\"], \"bind\": {\"input\": \"select\", \"options\": [\"Arica y Parinacota\", \"Tarapac\\u00e1\", \"Antofagasta\", \"Atacama\", \"Coquimbo\", \"Valpara\\u00edso\", \"Metropolitana\", \"O\\u2019Higgins\", \"Maule\", \"\\u00d1uble\", \"Biob\\u00edo\", \"Araucan\\u00eda\", \"Los R\\u00edos\", \"Los Lagos\", \"Ays\\u00e9n\", \"Magallanes\"]}}, \"selector001\": {\"type\": \"multi\", \"fields\": [\"region\"], \"on\": \"mouseover\"}}}], \"data\": {\"name\": \"data-36ec21430d6423153c31b2ec8aceea70\"}, \"$schema\": \"https://vega.github.io/schema/vega-lite/v4.8.1.json\", \"datasets\": {\"data-36ec21430d6423153c31b2ec8aceea70\": [{\"date\": \"2020-03-03\", \"region\": \"Arica y Parinacota\", \"casos\": 0, \"codigo region\": 0}, {\"date\": \"2020-03-03\", \"region\": \"Tarapac\\u00e1\", \"casos\": 0, \"codigo region\": 1}, {\"date\": \"2020-03-03\", \"region\": \"Antofagasta\", \"casos\": 0, \"codigo region\": 2}, {\"date\": \"2020-03-03\", \"region\": \"Atacama\", \"casos\": 0, \"codigo region\": 3}, {\"date\": \"2020-03-03\", \"region\": \"Coquimbo\", \"casos\": 0, \"codigo region\": 4}, {\"date\": \"2020-03-03\", \"region\": \"Valpara\\u00edso\", \"casos\": 0, \"codigo region\": 5}, {\"date\": \"2020-03-03\", \"region\": \"Metropolitana\", \"casos\": 0, \"codigo region\": 6}, {\"date\": \"2020-03-03\", \"region\": \"O\\u2019Higgins\", \"casos\": 0, \"codigo region\": 7}, {\"date\": \"2020-03-03\", \"region\": \"Maule\", \"casos\": 1, \"codigo region\": 8}, {\"date\": \"2020-03-03\", \"region\": \"\\u00d1uble\", \"casos\": 0, \"codigo region\": 9}, {\"date\": \"2020-03-03\", \"region\": \"Biob\\u00edo\", \"casos\": 0, \"codigo region\": 10}, {\"date\": \"2020-03-03\", \"region\": \"Araucan\\u00eda\", \"casos\": 0, \"codigo region\": 11}, {\"date\": \"2020-03-03\", \"region\": \"Los R\\u00edos\", \"casos\": 0, \"codigo region\": 12}, {\"date\": \"2020-03-03\", \"region\": \"Los Lagos\", \"casos\": 0, \"codigo region\": 13}, {\"date\": \"2020-03-03\", \"region\": \"Ays\\u00e9n\", \"casos\": 0, \"codigo region\": 14}, {\"date\": \"2020-03-03\", \"region\": \"Magallanes\", \"casos\": 0, \"codigo region\": 15}, {\"date\": \"2020-03-04\", \"region\": \"Arica y Parinacota\", \"casos\": 0, \"codigo region\": 0}, {\"date\": \"2020-03-04\", \"region\": \"Tarapac\\u00e1\", \"casos\": 0, \"codigo region\": 1}, {\"date\": \"2020-03-04\", \"region\": \"Antofagasta\", \"casos\": 0, \"codigo region\": 2}, {\"date\": \"2020-03-04\", \"region\": \"Atacama\", \"casos\": 0, \"codigo region\": 3}, {\"date\": \"2020-03-04\", \"region\": \"Coquimbo\", \"casos\": 0, \"codigo region\": 4}, {\"date\": \"2020-03-04\", \"region\": \"Valpara\\u00edso\", \"casos\": 0, \"codigo region\": 5}, {\"date\": \"2020-03-04\", \"region\": \"Metropolitana\", \"casos\": 1, \"codigo region\": 6}, {\"date\": \"2020-03-04\", \"region\": \"O\\u2019Higgins\", \"casos\": 0, \"codigo region\": 7}, {\"date\": \"2020-03-04\", \"region\": \"Maule\", \"casos\": 2, \"codigo region\": 8}, {\"date\": \"2020-03-04\", \"region\": \"\\u00d1uble\", \"casos\": 0, \"codigo region\": 9}, {\"date\": \"2020-03-04\", \"region\": \"Biob\\u00edo\", \"casos\": 0, \"codigo region\": 10}, {\"date\": \"2020-03-04\", \"region\": \"Araucan\\u00eda\", \"casos\": 0, \"codigo region\": 11}, {\"date\": \"2020-03-04\", \"region\": \"Los R\\u00edos\", \"casos\": 0, \"codigo region\": 12}, {\"date\": \"2020-03-04\", \"region\": \"Los Lagos\", \"casos\": 0, \"codigo region\": 13}, {\"date\": \"2020-03-04\", \"region\": \"Ays\\u00e9n\", \"casos\": 0, \"codigo region\": 14}, {\"date\": \"2020-03-04\", \"region\": \"Magallanes\", \"casos\": 0, \"codigo region\": 15}, {\"date\": \"2020-03-05\", \"region\": \"Arica y Parinacota\", \"casos\": 0, \"codigo region\": 0}, {\"date\": \"2020-03-05\", \"region\": \"Tarapac\\u00e1\", \"casos\": 0, \"codigo region\": 1}, {\"date\": \"2020-03-05\", \"region\": \"Antofagasta\", \"casos\": 0, \"codigo region\": 2}, {\"date\": \"2020-03-05\", \"region\": \"Atacama\", \"casos\": 0, \"codigo region\": 3}, {\"date\": \"2020-03-05\", \"region\": \"Coquimbo\", \"casos\": 0, \"codigo region\": 4}, {\"date\": \"2020-03-05\", \"region\": \"Valpara\\u00edso\", \"casos\": 0, \"codigo region\": 5}, {\"date\": \"2020-03-05\", \"region\": \"Metropolitana\", \"casos\": 2, \"codigo region\": 6}, {\"date\": \"2020-03-05\", \"region\": \"O\\u2019Higgins\", \"casos\": 0, \"codigo region\": 7}, {\"date\": \"2020-03-05\", \"region\": \"Maule\", \"casos\": 2, \"codigo region\": 8}, {\"date\": \"2020-03-05\", \"region\": \"\\u00d1uble\", \"casos\": 0, \"codigo region\": 9}, {\"date\": \"2020-03-05\", \"region\": \"Biob\\u00edo\", \"casos\": 0, \"codigo region\": 10}, {\"date\": \"2020-03-05\", \"region\": \"Araucan\\u00eda\", \"casos\": 0, \"codigo region\": 11}, {\"date\": \"2020-03-05\", \"region\": \"Los R\\u00edos\", \"casos\": 0, \"codigo region\": 12}, {\"date\": \"2020-03-05\", \"region\": \"Los Lagos\", \"casos\": 0, \"codigo region\": 13}, {\"date\": \"2020-03-05\", \"region\": \"Ays\\u00e9n\", \"casos\": 0, \"codigo region\": 14}, {\"date\": \"2020-03-05\", \"region\": \"Magallanes\", \"casos\": 0, \"codigo region\": 15}, {\"date\": \"2020-03-06\", \"region\": \"Arica y Parinacota\", \"casos\": 0, \"codigo region\": 0}, {\"date\": \"2020-03-06\", \"region\": \"Tarapac\\u00e1\", \"casos\": 0, \"codigo region\": 1}, {\"date\": \"2020-03-06\", \"region\": \"Antofagasta\", \"casos\": 0, \"codigo region\": 2}, {\"date\": \"2020-03-06\", \"region\": \"Atacama\", \"casos\": 0, \"codigo region\": 3}, {\"date\": \"2020-03-06\", \"region\": \"Coquimbo\", \"casos\": 0, \"codigo region\": 4}, {\"date\": \"2020-03-06\", \"region\": \"Valpara\\u00edso\", \"casos\": 0, \"codigo region\": 5}, {\"date\": \"2020-03-06\", \"region\": \"Metropolitana\", \"casos\": 3, \"codigo region\": 6}, {\"date\": \"2020-03-06\", \"region\": \"O\\u2019Higgins\", \"casos\": 0, \"codigo region\": 7}, {\"date\": \"2020-03-06\", \"region\": \"Maule\", \"casos\": 2, \"codigo region\": 8}, {\"date\": \"2020-03-06\", \"region\": \"\\u00d1uble\", \"casos\": 0, \"codigo region\": 9}, {\"date\": \"2020-03-06\", \"region\": \"Biob\\u00edo\", \"casos\": 0, \"codigo region\": 10}, {\"date\": \"2020-03-06\", \"region\": \"Araucan\\u00eda\", \"casos\": 0, \"codigo region\": 11}, {\"date\": \"2020-03-06\", \"region\": \"Los R\\u00edos\", \"casos\": 0, \"codigo region\": 12}, {\"date\": \"2020-03-06\", \"region\": \"Los Lagos\", \"casos\": 0, \"codigo region\": 13}, {\"date\": \"2020-03-06\", \"region\": \"Ays\\u00e9n\", \"casos\": 0, \"codigo region\": 14}, {\"date\": \"2020-03-06\", \"region\": \"Magallanes\", \"casos\": 0, \"codigo region\": 15}, {\"date\": \"2020-03-07\", \"region\": \"Arica y Parinacota\", \"casos\": 0, \"codigo region\": 0}, {\"date\": \"2020-03-07\", \"region\": \"Tarapac\\u00e1\", \"casos\": 0, \"codigo region\": 1}, {\"date\": \"2020-03-07\", \"region\": \"Antofagasta\", \"casos\": 0, \"codigo region\": 2}, {\"date\": \"2020-03-07\", \"region\": \"Atacama\", \"casos\": 0, \"codigo region\": 3}, {\"date\": \"2020-03-07\", \"region\": \"Coquimbo\", \"casos\": 0, \"codigo region\": 4}, {\"date\": \"2020-03-07\", \"region\": \"Valpara\\u00edso\", \"casos\": 0, \"codigo region\": 5}, {\"date\": \"2020-03-07\", \"region\": \"Metropolitana\", \"casos\": 4, \"codigo region\": 6}, {\"date\": \"2020-03-07\", \"region\": \"O\\u2019Higgins\", \"casos\": 0, \"codigo region\": 7}, {\"date\": \"2020-03-07\", \"region\": \"Maule\", \"casos\": 2, \"codigo region\": 8}, {\"date\": \"2020-03-07\", \"region\": \"\\u00d1uble\", \"casos\": 0, \"codigo region\": 9}, {\"date\": \"2020-03-07\", \"region\": \"Biob\\u00edo\", \"casos\": 0, \"codigo region\": 10}, {\"date\": \"2020-03-07\", \"region\": \"Araucan\\u00eda\", \"casos\": 0, \"codigo region\": 11}, {\"date\": \"2020-03-07\", \"region\": \"Los R\\u00edos\", \"casos\": 0, \"codigo region\": 12}, {\"date\": \"2020-03-07\", \"region\": \"Los Lagos\", \"casos\": 1, \"codigo region\": 13}, {\"date\": \"2020-03-07\", \"region\": \"Ays\\u00e9n\", \"casos\": 0, \"codigo region\": 14}, {\"date\": \"2020-03-07\", \"region\": \"Magallanes\", \"casos\": 0, \"codigo region\": 15}, {\"date\": \"2020-03-08\", \"region\": \"Arica y Parinacota\", \"casos\": 0, \"codigo region\": 0}, {\"date\": \"2020-03-08\", \"region\": \"Tarapac\\u00e1\", \"casos\": 0, \"codigo region\": 1}, {\"date\": \"2020-03-08\", \"region\": \"Antofagasta\", \"casos\": 0, \"codigo region\": 2}, {\"date\": \"2020-03-08\", \"region\": \"Atacama\", \"casos\": 0, \"codigo region\": 3}, {\"date\": \"2020-03-08\", \"region\": \"Coquimbo\", \"casos\": 0, \"codigo region\": 4}, {\"date\": \"2020-03-08\", \"region\": \"Valpara\\u00edso\", \"casos\": 0, \"codigo region\": 5}, {\"date\": \"2020-03-08\", \"region\": \"Metropolitana\", \"casos\": 6, \"codigo region\": 6}, {\"date\": \"2020-03-08\", \"region\": \"O\\u2019Higgins\", \"casos\": 0, \"codigo region\": 7}, {\"date\": \"2020-03-08\", \"region\": \"Maule\", \"casos\": 3, \"codigo region\": 8}, {\"date\": \"2020-03-08\", \"region\": \"\\u00d1uble\", \"casos\": 0, \"codigo region\": 9}, {\"date\": \"2020-03-08\", \"region\": \"Biob\\u00edo\", \"casos\": 0, \"codigo region\": 10}, {\"date\": \"2020-03-08\", \"region\": \"Araucan\\u00eda\", \"casos\": 0, \"codigo region\": 11}, {\"date\": \"2020-03-08\", \"region\": \"Los R\\u00edos\", \"casos\": 0, \"codigo region\": 12}, {\"date\": \"2020-03-08\", \"region\": \"Los Lagos\", \"casos\": 1, \"codigo region\": 13}, {\"date\": \"2020-03-08\", \"region\": \"Ays\\u00e9n\", \"casos\": 0, \"codigo region\": 14}, {\"date\": \"2020-03-08\", \"region\": \"Magallanes\", \"casos\": 0, \"codigo region\": 15}, {\"date\": \"2020-03-09\", \"region\": \"Arica y Parinacota\", \"casos\": 0, \"codigo region\": 0}, {\"date\": \"2020-03-09\", \"region\": \"Tarapac\\u00e1\", \"casos\": 0, \"codigo region\": 1}, {\"date\": \"2020-03-09\", \"region\": \"Antofagasta\", \"casos\": 0, \"codigo region\": 2}, {\"date\": \"2020-03-09\", \"region\": \"Atacama\", \"casos\": 0, \"codigo region\": 3}, {\"date\": \"2020-03-09\", \"region\": \"Coquimbo\", \"casos\": 0, \"codigo region\": 4}, {\"date\": \"2020-03-09\", \"region\": \"Valpara\\u00edso\", \"casos\": 0, \"codigo region\": 5}, {\"date\": \"2020-03-09\", \"region\": \"Metropolitana\", \"casos\": 9, \"codigo region\": 6}, {\"date\": \"2020-03-09\", \"region\": \"O\\u2019Higgins\", \"casos\": 0, \"codigo region\": 7}, {\"date\": \"2020-03-09\", \"region\": \"Maule\", \"casos\": 4, \"codigo region\": 8}, {\"date\": \"2020-03-09\", \"region\": \"\\u00d1uble\", \"casos\": 0, \"codigo region\": 9}, {\"date\": \"2020-03-09\", \"region\": \"Biob\\u00edo\", \"casos\": 1, \"codigo region\": 10}, {\"date\": \"2020-03-09\", \"region\": \"Araucan\\u00eda\", \"casos\": 0, \"codigo region\": 11}, {\"date\": \"2020-03-09\", \"region\": \"Los R\\u00edos\", \"casos\": 0, \"codigo region\": 12}, {\"date\": \"2020-03-09\", \"region\": \"Los Lagos\", \"casos\": 1, \"codigo region\": 13}, {\"date\": \"2020-03-09\", \"region\": \"Ays\\u00e9n\", \"casos\": 0, \"codigo region\": 14}, {\"date\": \"2020-03-09\", \"region\": \"Magallanes\", \"casos\": 0, \"codigo region\": 15}, {\"date\": \"2020-03-10\", \"region\": \"Arica y Parinacota\", \"casos\": 0, \"codigo region\": 0}, {\"date\": \"2020-03-10\", \"region\": \"Tarapac\\u00e1\", \"casos\": 0, \"codigo region\": 1}, {\"date\": \"2020-03-10\", \"region\": \"Antofagasta\", \"casos\": 0, \"codigo region\": 2}, {\"date\": \"2020-03-10\", \"region\": \"Atacama\", \"casos\": 0, \"codigo region\": 3}, {\"date\": \"2020-03-10\", \"region\": \"Coquimbo\", \"casos\": 0, \"codigo region\": 4}, {\"date\": \"2020-03-10\", \"region\": \"Valpara\\u00edso\", \"casos\": 0, \"codigo region\": 5}, {\"date\": \"2020-03-10\", \"region\": \"Metropolitana\", \"casos\": 10, \"codigo region\": 6}, {\"date\": \"2020-03-10\", \"region\": \"O\\u2019Higgins\", \"casos\": 0, \"codigo region\": 7}, {\"date\": \"2020-03-10\", \"region\": \"Maule\", \"casos\": 5, \"codigo region\": 8}, {\"date\": \"2020-03-10\", \"region\": \"\\u00d1uble\", \"casos\": 0, \"codigo region\": 9}, {\"date\": \"2020-03-10\", \"region\": \"Biob\\u00edo\", \"casos\": 1, \"codigo region\": 10}, {\"date\": \"2020-03-10\", \"region\": \"Araucan\\u00eda\", \"casos\": 0, \"codigo region\": 11}, {\"date\": \"2020-03-10\", \"region\": \"Los R\\u00edos\", \"casos\": 0, \"codigo region\": 12}, {\"date\": \"2020-03-10\", \"region\": \"Los Lagos\", \"casos\": 1, \"codigo region\": 13}, {\"date\": \"2020-03-10\", \"region\": \"Ays\\u00e9n\", \"casos\": 0, \"codigo region\": 14}, {\"date\": \"2020-03-10\", \"region\": \"Magallanes\", \"casos\": 0, \"codigo region\": 15}, {\"date\": \"2020-03-11\", \"region\": \"Arica y Parinacota\", \"casos\": 0, \"codigo region\": 0}, {\"date\": \"2020-03-11\", \"region\": \"Tarapac\\u00e1\", \"casos\": 0, \"codigo region\": 1}, {\"date\": \"2020-03-11\", \"region\": \"Antofagasta\", \"casos\": 0, \"codigo region\": 2}, {\"date\": \"2020-03-11\", \"region\": \"Atacama\", \"casos\": 0, \"codigo region\": 3}, {\"date\": \"2020-03-11\", \"region\": \"Coquimbo\", \"casos\": 0, \"codigo region\": 4}, {\"date\": \"2020-03-11\", \"region\": \"Valpara\\u00edso\", \"casos\": 0, \"codigo region\": 5}, {\"date\": \"2020-03-11\", \"region\": \"Metropolitana\", \"casos\": 14, \"codigo region\": 6}, {\"date\": \"2020-03-11\", \"region\": \"O\\u2019Higgins\", \"casos\": 0, \"codigo region\": 7}, {\"date\": \"2020-03-11\", \"region\": \"Maule\", \"casos\": 7, \"codigo region\": 8}, {\"date\": \"2020-03-11\", \"region\": \"\\u00d1uble\", \"casos\": 0, \"codigo region\": 9}, {\"date\": \"2020-03-11\", \"region\": \"Biob\\u00edo\", \"casos\": 1, \"codigo region\": 10}, {\"date\": \"2020-03-11\", \"region\": \"Araucan\\u00eda\", \"casos\": 0, \"codigo region\": 11}, {\"date\": \"2020-03-11\", \"region\": \"Los R\\u00edos\", \"casos\": 0, \"codigo region\": 12}, {\"date\": \"2020-03-11\", \"region\": \"Los Lagos\", \"casos\": 1, \"codigo region\": 13}, {\"date\": \"2020-03-11\", \"region\": \"Ays\\u00e9n\", \"casos\": 0, \"codigo region\": 14}, {\"date\": \"2020-03-11\", \"region\": \"Magallanes\", \"casos\": 0, \"codigo region\": 15}, {\"date\": \"2020-03-12\", \"region\": \"Arica y Parinacota\", \"casos\": 0, \"codigo region\": 0}, {\"date\": \"2020-03-12\", \"region\": \"Tarapac\\u00e1\", \"casos\": 0, \"codigo region\": 1}, {\"date\": \"2020-03-12\", \"region\": \"Antofagasta\", \"casos\": 0, \"codigo region\": 2}, {\"date\": \"2020-03-12\", \"region\": \"Atacama\", \"casos\": 0, \"codigo region\": 3}, {\"date\": \"2020-03-12\", \"region\": \"Coquimbo\", \"casos\": 0, \"codigo region\": 4}, {\"date\": \"2020-03-12\", \"region\": \"Valpara\\u00edso\", \"casos\": 0, \"codigo region\": 5}, {\"date\": \"2020-03-12\", \"region\": \"Metropolitana\", \"casos\": 23, \"codigo region\": 6}, {\"date\": \"2020-03-12\", \"region\": \"O\\u2019Higgins\", \"casos\": 0, \"codigo region\": 7}, {\"date\": \"2020-03-12\", \"region\": \"Maule\", \"casos\": 7, \"codigo region\": 8}, {\"date\": \"2020-03-12\", \"region\": \"\\u00d1uble\", \"casos\": 1, \"codigo region\": 9}, {\"date\": \"2020-03-12\", \"region\": \"Biob\\u00edo\", \"casos\": 1, \"codigo region\": 10}, {\"date\": \"2020-03-12\", \"region\": \"Araucan\\u00eda\", \"casos\": 0, \"codigo region\": 11}, {\"date\": \"2020-03-12\", \"region\": \"Los R\\u00edos\", \"casos\": 0, \"codigo region\": 12}, {\"date\": \"2020-03-12\", \"region\": \"Los Lagos\", \"casos\": 1, \"codigo region\": 13}, {\"date\": \"2020-03-12\", \"region\": \"Ays\\u00e9n\", \"casos\": 0, \"codigo region\": 14}, {\"date\": \"2020-03-12\", \"region\": \"Magallanes\", \"casos\": 0, \"codigo region\": 15}, {\"date\": \"2020-03-13\", \"region\": \"Arica y Parinacota\", \"casos\": 0, \"codigo region\": 0}, {\"date\": \"2020-03-13\", \"region\": \"Tarapac\\u00e1\", \"casos\": 0, \"codigo region\": 1}, {\"date\": \"2020-03-13\", \"region\": \"Antofagasta\", \"casos\": 0, \"codigo region\": 2}, {\"date\": \"2020-03-13\", \"region\": \"Atacama\", \"casos\": 0, \"codigo region\": 3}, {\"date\": \"2020-03-13\", \"region\": \"Coquimbo\", \"casos\": 0, \"codigo region\": 4}, {\"date\": \"2020-03-13\", \"region\": \"Valpara\\u00edso\", \"casos\": 0, \"codigo region\": 5}, {\"date\": \"2020-03-13\", \"region\": \"Metropolitana\", \"casos\": 29, \"codigo region\": 6}, {\"date\": \"2020-03-13\", \"region\": \"O\\u2019Higgins\", \"casos\": 0, \"codigo region\": 7}, {\"date\": \"2020-03-13\", \"region\": \"Maule\", \"casos\": 8, \"codigo region\": 8}, {\"date\": \"2020-03-13\", \"region\": \"\\u00d1uble\", \"casos\": 2, \"codigo region\": 9}, {\"date\": \"2020-03-13\", \"region\": \"Biob\\u00edo\", \"casos\": 3, \"codigo region\": 10}, {\"date\": \"2020-03-13\", \"region\": \"Araucan\\u00eda\", \"casos\": 0, \"codigo region\": 11}, {\"date\": \"2020-03-13\", \"region\": \"Los R\\u00edos\", \"casos\": 0, \"codigo region\": 12}, {\"date\": \"2020-03-13\", \"region\": \"Los Lagos\", \"casos\": 1, \"codigo region\": 13}, {\"date\": \"2020-03-13\", \"region\": \"Ays\\u00e9n\", \"casos\": 0, \"codigo region\": 14}, {\"date\": \"2020-03-13\", \"region\": \"Magallanes\", \"casos\": 0, \"codigo region\": 15}, {\"date\": \"2020-03-14\", \"region\": \"Arica y Parinacota\", \"casos\": 0, \"codigo region\": 0}, {\"date\": \"2020-03-14\", \"region\": \"Tarapac\\u00e1\", \"casos\": 0, \"codigo region\": 1}, {\"date\": \"2020-03-14\", \"region\": \"Antofagasta\", \"casos\": 2, \"codigo region\": 2}, {\"date\": \"2020-03-14\", \"region\": \"Atacama\", \"casos\": 1, \"codigo region\": 3}, {\"date\": \"2020-03-14\", \"region\": \"Coquimbo\", \"casos\": 0, \"codigo region\": 4}, {\"date\": \"2020-03-14\", \"region\": \"Valpara\\u00edso\", \"casos\": 0, \"codigo region\": 5}, {\"date\": \"2020-03-14\", \"region\": \"Metropolitana\", \"casos\": 40, \"codigo region\": 6}, {\"date\": \"2020-03-14\", \"region\": \"O\\u2019Higgins\", \"casos\": 0, \"codigo region\": 7}, {\"date\": \"2020-03-14\", \"region\": \"Maule\", \"casos\": 9, \"codigo region\": 8}, {\"date\": \"2020-03-14\", \"region\": \"\\u00d1uble\", \"casos\": 4, \"codigo region\": 9}, {\"date\": \"2020-03-14\", \"region\": \"Biob\\u00edo\", \"casos\": 3, \"codigo region\": 10}, {\"date\": \"2020-03-14\", \"region\": \"Araucan\\u00eda\", \"casos\": 0, \"codigo region\": 11}, {\"date\": \"2020-03-14\", \"region\": \"Los R\\u00edos\", \"casos\": 0, \"codigo region\": 12}, {\"date\": \"2020-03-14\", \"region\": \"Los Lagos\", \"casos\": 1, \"codigo region\": 13}, {\"date\": \"2020-03-14\", \"region\": \"Ays\\u00e9n\", \"casos\": 1, \"codigo region\": 14}, {\"date\": \"2020-03-14\", \"region\": \"Magallanes\", \"casos\": 0, \"codigo region\": 15}, {\"date\": \"2020-03-15\", \"region\": \"Arica y Parinacota\", \"casos\": 0, \"codigo region\": 0}, {\"date\": \"2020-03-15\", \"region\": \"Tarapac\\u00e1\", \"casos\": 0, \"codigo region\": 1}, {\"date\": \"2020-03-15\", \"region\": \"Antofagasta\", \"casos\": 2, \"codigo region\": 2}, {\"date\": \"2020-03-15\", \"region\": \"Atacama\", \"casos\": 1, \"codigo region\": 3}, {\"date\": \"2020-03-15\", \"region\": \"Coquimbo\", \"casos\": 0, \"codigo region\": 4}, {\"date\": \"2020-03-15\", \"region\": \"Valpara\\u00edso\", \"casos\": 0, \"codigo region\": 5}, {\"date\": \"2020-03-15\", \"region\": \"Metropolitana\", \"casos\": 54, \"codigo region\": 6}, {\"date\": \"2020-03-15\", \"region\": \"O\\u2019Higgins\", \"casos\": 0, \"codigo region\": 7}, {\"date\": \"2020-03-15\", \"region\": \"Maule\", \"casos\": 9, \"codigo region\": 8}, {\"date\": \"2020-03-15\", \"region\": \"\\u00d1uble\", \"casos\": 4, \"codigo region\": 9}, {\"date\": \"2020-03-15\", \"region\": \"Biob\\u00edo\", \"casos\": 3, \"codigo region\": 10}, {\"date\": \"2020-03-15\", \"region\": \"Araucan\\u00eda\", \"casos\": 0, \"codigo region\": 11}, {\"date\": \"2020-03-15\", \"region\": \"Los R\\u00edos\", \"casos\": 0, \"codigo region\": 12}, {\"date\": \"2020-03-15\", \"region\": \"Los Lagos\", \"casos\": 1, \"codigo region\": 13}, {\"date\": \"2020-03-15\", \"region\": \"Ays\\u00e9n\", \"casos\": 1, \"codigo region\": 14}, {\"date\": \"2020-03-15\", \"region\": \"Magallanes\", \"casos\": 0, \"codigo region\": 15}, {\"date\": \"2020-03-16\", \"region\": \"Arica y Parinacota\", \"casos\": 0, \"codigo region\": 0}, {\"date\": \"2020-03-16\", \"region\": \"Tarapac\\u00e1\", \"casos\": 0, \"codigo region\": 1}, {\"date\": \"2020-03-16\", \"region\": \"Antofagasta\", \"casos\": 2, \"codigo region\": 2}, {\"date\": \"2020-03-16\", \"region\": \"Atacama\", \"casos\": 1, \"codigo region\": 3}, {\"date\": \"2020-03-16\", \"region\": \"Coquimbo\", \"casos\": 0, \"codigo region\": 4}, {\"date\": \"2020-03-16\", \"region\": \"Valpara\\u00edso\", \"casos\": 1, \"codigo region\": 5}, {\"date\": \"2020-03-16\", \"region\": \"Metropolitana\", \"casos\": 123, \"codigo region\": 6}, {\"date\": \"2020-03-16\", \"region\": \"O\\u2019Higgins\", \"casos\": 0, \"codigo region\": 7}, {\"date\": \"2020-03-16\", \"region\": \"Maule\", \"casos\": 9, \"codigo region\": 8}, {\"date\": \"2020-03-16\", \"region\": \"\\u00d1uble\", \"casos\": 12, \"codigo region\": 9}, {\"date\": \"2020-03-16\", \"region\": \"Biob\\u00edo\", \"casos\": 4, \"codigo region\": 10}, {\"date\": \"2020-03-16\", \"region\": \"Araucan\\u00eda\", \"casos\": 1, \"codigo region\": 11}, {\"date\": \"2020-03-16\", \"region\": \"Los R\\u00edos\", \"casos\": 1, \"codigo region\": 12}, {\"date\": \"2020-03-16\", \"region\": \"Los Lagos\", \"casos\": 1, \"codigo region\": 13}, {\"date\": \"2020-03-16\", \"region\": \"Ays\\u00e9n\", \"casos\": 1, \"codigo region\": 14}, {\"date\": \"2020-03-16\", \"region\": \"Magallanes\", \"casos\": 0, \"codigo region\": 15}, {\"date\": \"2020-03-17\", \"region\": \"Arica y Parinacota\", \"casos\": 0, \"codigo region\": 0}, {\"date\": \"2020-03-17\", \"region\": \"Tarapac\\u00e1\", \"casos\": 0, \"codigo region\": 1}, {\"date\": \"2020-03-17\", \"region\": \"Antofagasta\", \"casos\": 2, \"codigo region\": 2}, {\"date\": \"2020-03-17\", \"region\": \"Atacama\", \"casos\": 1, \"codigo region\": 3}, {\"date\": \"2020-03-17\", \"region\": \"Coquimbo\", \"casos\": 0, \"codigo region\": 4}, {\"date\": \"2020-03-17\", \"region\": \"Valpara\\u00edso\", \"casos\": 1, \"codigo region\": 5}, {\"date\": \"2020-03-17\", \"region\": \"Metropolitana\", \"casos\": 152, \"codigo region\": 6}, {\"date\": \"2020-03-17\", \"region\": \"O\\u2019Higgins\", \"casos\": 0, \"codigo region\": 7}, {\"date\": \"2020-03-17\", \"region\": \"Maule\", \"casos\": 9, \"codigo region\": 8}, {\"date\": \"2020-03-17\", \"region\": \"\\u00d1uble\", \"casos\": 26, \"codigo region\": 9}, {\"date\": \"2020-03-17\", \"region\": \"Biob\\u00edo\", \"casos\": 4, \"codigo region\": 10}, {\"date\": \"2020-03-17\", \"region\": \"Araucan\\u00eda\", \"casos\": 1, \"codigo region\": 11}, {\"date\": \"2020-03-17\", \"region\": \"Los R\\u00edos\", \"casos\": 1, \"codigo region\": 12}, {\"date\": \"2020-03-17\", \"region\": \"Los Lagos\", \"casos\": 1, \"codigo region\": 13}, {\"date\": \"2020-03-17\", \"region\": \"Ays\\u00e9n\", \"casos\": 1, \"codigo region\": 14}, {\"date\": \"2020-03-17\", \"region\": \"Magallanes\", \"casos\": 2, \"codigo region\": 15}, {\"date\": \"2020-03-18\", \"region\": \"Arica y Parinacota\", \"casos\": 0, \"codigo region\": 0}, {\"date\": \"2020-03-18\", \"region\": \"Tarapac\\u00e1\", \"casos\": 0, \"codigo region\": 1}, {\"date\": \"2020-03-18\", \"region\": \"Antofagasta\", \"casos\": 2, \"codigo region\": 2}, {\"date\": \"2020-03-18\", \"region\": \"Atacama\", \"casos\": 1, \"codigo region\": 3}, {\"date\": \"2020-03-18\", \"region\": \"Coquimbo\", \"casos\": 0, \"codigo region\": 4}, {\"date\": \"2020-03-18\", \"region\": \"Valpara\\u00edso\", \"casos\": 1, \"codigo region\": 5}, {\"date\": \"2020-03-18\", \"region\": \"Metropolitana\", \"casos\": 174, \"codigo region\": 6}, {\"date\": \"2020-03-18\", \"region\": \"O\\u2019Higgins\", \"casos\": 0, \"codigo region\": 7}, {\"date\": \"2020-03-18\", \"region\": \"Maule\", \"casos\": 11, \"codigo region\": 8}, {\"date\": \"2020-03-18\", \"region\": \"\\u00d1uble\", \"casos\": 26, \"codigo region\": 9}, {\"date\": \"2020-03-18\", \"region\": \"Biob\\u00edo\", \"casos\": 7, \"codigo region\": 10}, {\"date\": \"2020-03-18\", \"region\": \"Araucan\\u00eda\", \"casos\": 4, \"codigo region\": 11}, {\"date\": \"2020-03-18\", \"region\": \"Los R\\u00edos\", \"casos\": 1, \"codigo region\": 12}, {\"date\": \"2020-03-18\", \"region\": \"Los Lagos\", \"casos\": 8, \"codigo region\": 13}, {\"date\": \"2020-03-18\", \"region\": \"Ays\\u00e9n\", \"casos\": 1, \"codigo region\": 14}, {\"date\": \"2020-03-18\", \"region\": \"Magallanes\", \"casos\": 2, \"codigo region\": 15}, {\"date\": \"2020-03-19\", \"region\": \"Arica y Parinacota\", \"casos\": 1, \"codigo region\": 0}, {\"date\": \"2020-03-19\", \"region\": \"Tarapac\\u00e1\", \"casos\": 0, \"codigo region\": 1}, {\"date\": \"2020-03-19\", \"region\": \"Antofagasta\", \"casos\": 2, \"codigo region\": 2}, {\"date\": \"2020-03-19\", \"region\": \"Atacama\", \"casos\": 1, \"codigo region\": 3}, {\"date\": \"2020-03-19\", \"region\": \"Coquimbo\", \"casos\": 2, \"codigo region\": 4}, {\"date\": \"2020-03-19\", \"region\": \"Valpara\\u00edso\", \"casos\": 4, \"codigo region\": 5}, {\"date\": \"2020-03-19\", \"region\": \"Metropolitana\", \"casos\": 247, \"codigo region\": 6}, {\"date\": \"2020-03-19\", \"region\": \"O\\u2019Higgins\", \"casos\": 2, \"codigo region\": 7}, {\"date\": \"2020-03-19\", \"region\": \"Maule\", \"casos\": 14, \"codigo region\": 8}, {\"date\": \"2020-03-19\", \"region\": \"\\u00d1uble\", \"casos\": 28, \"codigo region\": 9}, {\"date\": \"2020-03-19\", \"region\": \"Biob\\u00edo\", \"casos\": 14, \"codigo region\": 10}, {\"date\": \"2020-03-19\", \"region\": \"Araucan\\u00eda\", \"casos\": 7, \"codigo region\": 11}, {\"date\": \"2020-03-19\", \"region\": \"Los R\\u00edos\", \"casos\": 1, \"codigo region\": 12}, {\"date\": \"2020-03-19\", \"region\": \"Los Lagos\", \"casos\": 16, \"codigo region\": 13}, {\"date\": \"2020-03-19\", \"region\": \"Ays\\u00e9n\", \"casos\": 1, \"codigo region\": 14}, {\"date\": \"2020-03-19\", \"region\": \"Magallanes\", \"casos\": 2, \"codigo region\": 15}, {\"date\": \"2020-03-20\", \"region\": \"Arica y Parinacota\", \"casos\": 1, \"codigo region\": 0}, {\"date\": \"2020-03-20\", \"region\": \"Tarapac\\u00e1\", \"casos\": 0, \"codigo region\": 1}, {\"date\": \"2020-03-20\", \"region\": \"Antofagasta\", \"casos\": 6, \"codigo region\": 2}, {\"date\": \"2020-03-20\", \"region\": \"Atacama\", \"casos\": 1, \"codigo region\": 3}, {\"date\": \"2020-03-20\", \"region\": \"Coquimbo\", \"casos\": 3, \"codigo region\": 4}, {\"date\": \"2020-03-20\", \"region\": \"Valpara\\u00edso\", \"casos\": 5, \"codigo region\": 5}, {\"date\": \"2020-03-20\", \"region\": \"Metropolitana\", \"casos\": 304, \"codigo region\": 6}, {\"date\": \"2020-03-20\", \"region\": \"O\\u2019Higgins\", \"casos\": 6, \"codigo region\": 7}, {\"date\": \"2020-03-20\", \"region\": \"Maule\", \"casos\": 14, \"codigo region\": 8}, {\"date\": \"2020-03-20\", \"region\": \"\\u00d1uble\", \"casos\": 44, \"codigo region\": 9}, {\"date\": \"2020-03-20\", \"region\": \"Biob\\u00edo\", \"casos\": 19, \"codigo region\": 10}, {\"date\": \"2020-03-20\", \"region\": \"Araucan\\u00eda\", \"casos\": 9, \"codigo region\": 11}, {\"date\": \"2020-03-20\", \"region\": \"Los R\\u00edos\", \"casos\": 1, \"codigo region\": 12}, {\"date\": \"2020-03-20\", \"region\": \"Los Lagos\", \"casos\": 18, \"codigo region\": 13}, {\"date\": \"2020-03-20\", \"region\": \"Ays\\u00e9n\", \"casos\": 1, \"codigo region\": 14}, {\"date\": \"2020-03-20\", \"region\": \"Magallanes\", \"casos\": 2, \"codigo region\": 15}, {\"date\": \"2020-03-21\", \"region\": \"Arica y Parinacota\", \"casos\": 1, \"codigo region\": 0}, {\"date\": \"2020-03-21\", \"region\": \"Tarapac\\u00e1\", \"casos\": 0, \"codigo region\": 1}, {\"date\": \"2020-03-21\", \"region\": \"Antofagasta\", \"casos\": 10, \"codigo region\": 2}, {\"date\": \"2020-03-21\", \"region\": \"Atacama\", \"casos\": 1, \"codigo region\": 3}, {\"date\": \"2020-03-21\", \"region\": \"Coquimbo\", \"casos\": 3, \"codigo region\": 4}, {\"date\": \"2020-03-21\", \"region\": \"Valpara\\u00edso\", \"casos\": 13, \"codigo region\": 5}, {\"date\": \"2020-03-21\", \"region\": \"Metropolitana\", \"casos\": 359, \"codigo region\": 6}, {\"date\": \"2020-03-21\", \"region\": \"O\\u2019Higgins\", \"casos\": 7, \"codigo region\": 7}, {\"date\": \"2020-03-21\", \"region\": \"Maule\", \"casos\": 15, \"codigo region\": 8}, {\"date\": \"2020-03-21\", \"region\": \"\\u00d1uble\", \"casos\": 58, \"codigo region\": 9}, {\"date\": \"2020-03-21\", \"region\": \"Biob\\u00edo\", \"casos\": 30, \"codigo region\": 10}, {\"date\": \"2020-03-21\", \"region\": \"Araucan\\u00eda\", \"casos\": 15, \"codigo region\": 11}, {\"date\": \"2020-03-21\", \"region\": \"Los R\\u00edos\", \"casos\": 1, \"codigo region\": 12}, {\"date\": \"2020-03-21\", \"region\": \"Los Lagos\", \"casos\": 20, \"codigo region\": 13}, {\"date\": \"2020-03-21\", \"region\": \"Ays\\u00e9n\", \"casos\": 1, \"codigo region\": 14}, {\"date\": \"2020-03-21\", \"region\": \"Magallanes\", \"casos\": 3, \"codigo region\": 15}, {\"date\": \"2020-03-22\", \"region\": \"Arica y Parinacota\", \"casos\": 2, \"codigo region\": 0}, {\"date\": \"2020-03-22\", \"region\": \"Tarapac\\u00e1\", \"casos\": 0, \"codigo region\": 1}, {\"date\": \"2020-03-22\", \"region\": \"Antofagasta\", \"casos\": 11, \"codigo region\": 2}, {\"date\": \"2020-03-22\", \"region\": \"Atacama\", \"casos\": 1, \"codigo region\": 3}, {\"date\": \"2020-03-22\", \"region\": \"Coquimbo\", \"casos\": 5, \"codigo region\": 4}, {\"date\": \"2020-03-22\", \"region\": \"Valpara\\u00edso\", \"casos\": 16, \"codigo region\": 5}, {\"date\": \"2020-03-22\", \"region\": \"Metropolitana\", \"casos\": 409, \"codigo region\": 6}, {\"date\": \"2020-03-22\", \"region\": \"O\\u2019Higgins\", \"casos\": 8, \"codigo region\": 7}, {\"date\": \"2020-03-22\", \"region\": \"Maule\", \"casos\": 25, \"codigo region\": 8}, {\"date\": \"2020-03-22\", \"region\": \"\\u00d1uble\", \"casos\": 64, \"codigo region\": 9}, {\"date\": \"2020-03-22\", \"region\": \"Biob\\u00edo\", \"casos\": 35, \"codigo region\": 10}, {\"date\": \"2020-03-22\", \"region\": \"Araucan\\u00eda\", \"casos\": 27, \"codigo region\": 11}, {\"date\": \"2020-03-22\", \"region\": \"Los R\\u00edos\", \"casos\": 1, \"codigo region\": 12}, {\"date\": \"2020-03-22\", \"region\": \"Los Lagos\", \"casos\": 23, \"codigo region\": 13}, {\"date\": \"2020-03-22\", \"region\": \"Ays\\u00e9n\", \"casos\": 1, \"codigo region\": 14}, {\"date\": \"2020-03-22\", \"region\": \"Magallanes\", \"casos\": 4, \"codigo region\": 15}, {\"date\": \"2020-03-23\", \"region\": \"Arica y Parinacota\", \"casos\": 2, \"codigo region\": 0}, {\"date\": \"2020-03-23\", \"region\": \"Tarapac\\u00e1\", \"casos\": 1, \"codigo region\": 1}, {\"date\": \"2020-03-23\", \"region\": \"Antofagasta\", \"casos\": 11, \"codigo region\": 2}, {\"date\": \"2020-03-23\", \"region\": \"Atacama\", \"casos\": 1, \"codigo region\": 3}, {\"date\": \"2020-03-23\", \"region\": \"Coquimbo\", \"casos\": 6, \"codigo region\": 4}, {\"date\": \"2020-03-23\", \"region\": \"Valpara\\u00edso\", \"casos\": 19, \"codigo region\": 5}, {\"date\": \"2020-03-23\", \"region\": \"Metropolitana\", \"casos\": 459, \"codigo region\": 6}, {\"date\": \"2020-03-23\", \"region\": \"O\\u2019Higgins\", \"casos\": 8, \"codigo region\": 7}, {\"date\": \"2020-03-23\", \"region\": \"Maule\", \"casos\": 28, \"codigo region\": 8}, {\"date\": \"2020-03-23\", \"region\": \"\\u00d1uble\", \"casos\": 81, \"codigo region\": 9}, {\"date\": \"2020-03-23\", \"region\": \"Biob\\u00edo\", \"casos\": 46, \"codigo region\": 10}, {\"date\": \"2020-03-23\", \"region\": \"Araucan\\u00eda\", \"casos\": 40, \"codigo region\": 11}, {\"date\": \"2020-03-23\", \"region\": \"Los R\\u00edos\", \"casos\": 4, \"codigo region\": 12}, {\"date\": \"2020-03-23\", \"region\": \"Los Lagos\", \"casos\": 33, \"codigo region\": 13}, {\"date\": \"2020-03-23\", \"region\": \"Ays\\u00e9n\", \"casos\": 1, \"codigo region\": 14}, {\"date\": \"2020-03-23\", \"region\": \"Magallanes\", \"casos\": 6, \"codigo region\": 15}, {\"date\": \"2020-03-24\", \"region\": \"Arica y Parinacota\", \"casos\": 2, \"codigo region\": 0}, {\"date\": \"2020-03-24\", \"region\": \"Tarapac\\u00e1\", \"casos\": 4, \"codigo region\": 1}, {\"date\": \"2020-03-24\", \"region\": \"Antofagasta\", \"casos\": 13, \"codigo region\": 2}, {\"date\": \"2020-03-24\", \"region\": \"Atacama\", \"casos\": 1, \"codigo region\": 3}, {\"date\": \"2020-03-24\", \"region\": \"Coquimbo\", \"casos\": 11, \"codigo region\": 4}, {\"date\": \"2020-03-24\", \"region\": \"Valpara\\u00edso\", \"casos\": 25, \"codigo region\": 5}, {\"date\": \"2020-03-24\", \"region\": \"Metropolitana\", \"casos\": 540, \"codigo region\": 6}, {\"date\": \"2020-03-24\", \"region\": \"O\\u2019Higgins\", \"casos\": 9, \"codigo region\": 7}, {\"date\": \"2020-03-24\", \"region\": \"Maule\", \"casos\": 29, \"codigo region\": 8}, {\"date\": \"2020-03-24\", \"region\": \"\\u00d1uble\", \"casos\": 105, \"codigo region\": 9}, {\"date\": \"2020-03-24\", \"region\": \"Biob\\u00edo\", \"casos\": 73, \"codigo region\": 10}, {\"date\": \"2020-03-24\", \"region\": \"Araucan\\u00eda\", \"casos\": 59, \"codigo region\": 11}, {\"date\": \"2020-03-24\", \"region\": \"Los R\\u00edos\", \"casos\": 6, \"codigo region\": 12}, {\"date\": \"2020-03-24\", \"region\": \"Los Lagos\", \"casos\": 36, \"codigo region\": 13}, {\"date\": \"2020-03-24\", \"region\": \"Ays\\u00e9n\", \"casos\": 1, \"codigo region\": 14}, {\"date\": \"2020-03-24\", \"region\": \"Magallanes\", \"casos\": 8, \"codigo region\": 15}, {\"date\": \"2020-03-25\", \"region\": \"Arica y Parinacota\", \"casos\": 2, \"codigo region\": 0}, {\"date\": \"2020-03-25\", \"region\": \"Tarapac\\u00e1\", \"casos\": 4, \"codigo region\": 1}, {\"date\": \"2020-03-25\", \"region\": \"Antofagasta\", \"casos\": 19, \"codigo region\": 2}, {\"date\": \"2020-03-25\", \"region\": \"Atacama\", \"casos\": 1, \"codigo region\": 3}, {\"date\": \"2020-03-25\", \"region\": \"Coquimbo\", \"casos\": 12, \"codigo region\": 4}, {\"date\": \"2020-03-25\", \"region\": \"Valpara\\u00edso\", \"casos\": 32, \"codigo region\": 5}, {\"date\": \"2020-03-25\", \"region\": \"Metropolitana\", \"casos\": 682, \"codigo region\": 6}, {\"date\": \"2020-03-25\", \"region\": \"O\\u2019Higgins\", \"casos\": 11, \"codigo region\": 7}, {\"date\": \"2020-03-25\", \"region\": \"Maule\", \"casos\": 30, \"codigo region\": 8}, {\"date\": \"2020-03-25\", \"region\": \"\\u00d1uble\", \"casos\": 111, \"codigo region\": 9}, {\"date\": \"2020-03-25\", \"region\": \"Biob\\u00edo\", \"casos\": 95, \"codigo region\": 10}, {\"date\": \"2020-03-25\", \"region\": \"Araucan\\u00eda\", \"casos\": 74, \"codigo region\": 11}, {\"date\": \"2020-03-25\", \"region\": \"Los R\\u00edos\", \"casos\": 11, \"codigo region\": 12}, {\"date\": \"2020-03-25\", \"region\": \"Los Lagos\", \"casos\": 44, \"codigo region\": 13}, {\"date\": \"2020-03-25\", \"region\": \"Ays\\u00e9n\", \"casos\": 1, \"codigo region\": 14}, {\"date\": \"2020-03-25\", \"region\": \"Magallanes\", \"casos\": 13, \"codigo region\": 15}, {\"date\": \"2020-03-26\", \"region\": \"Arica y Parinacota\", \"casos\": 3, \"codigo region\": 0}, {\"date\": \"2020-03-26\", \"region\": \"Tarapac\\u00e1\", \"casos\": 5, \"codigo region\": 1}, {\"date\": \"2020-03-26\", \"region\": \"Antofagasta\", \"casos\": 20, \"codigo region\": 2}, {\"date\": \"2020-03-26\", \"region\": \"Atacama\", \"casos\": 1, \"codigo region\": 3}, {\"date\": \"2020-03-26\", \"region\": \"Coquimbo\", \"casos\": 13, \"codigo region\": 4}, {\"date\": \"2020-03-26\", \"region\": \"Valpara\\u00edso\", \"casos\": 44, \"codigo region\": 5}, {\"date\": \"2020-03-26\", \"region\": \"Metropolitana\", \"casos\": 746, \"codigo region\": 6}, {\"date\": \"2020-03-26\", \"region\": \"O\\u2019Higgins\", \"casos\": 14, \"codigo region\": 7}, {\"date\": \"2020-03-26\", \"region\": \"Maule\", \"casos\": 31, \"codigo region\": 8}, {\"date\": \"2020-03-26\", \"region\": \"\\u00d1uble\", \"casos\": 114, \"codigo region\": 9}, {\"date\": \"2020-03-26\", \"region\": \"Biob\\u00edo\", \"casos\": 109, \"codigo region\": 10}, {\"date\": \"2020-03-26\", \"region\": \"Araucan\\u00eda\", \"casos\": 111, \"codigo region\": 11}, {\"date\": \"2020-03-26\", \"region\": \"Los R\\u00edos\", \"casos\": 14, \"codigo region\": 12}, {\"date\": \"2020-03-26\", \"region\": \"Los Lagos\", \"casos\": 60, \"codigo region\": 13}, {\"date\": \"2020-03-26\", \"region\": \"Ays\\u00e9n\", \"casos\": 2, \"codigo region\": 14}, {\"date\": \"2020-03-26\", \"region\": \"Magallanes\", \"casos\": 19, \"codigo region\": 15}, {\"date\": \"2020-03-27\", \"region\": \"Arica y Parinacota\", \"casos\": 3, \"codigo region\": 0}, {\"date\": \"2020-03-27\", \"region\": \"Tarapac\\u00e1\", \"casos\": 5, \"codigo region\": 1}, {\"date\": \"2020-03-27\", \"region\": \"Antofagasta\", \"casos\": 21, \"codigo region\": 2}, {\"date\": \"2020-03-27\", \"region\": \"Atacama\", \"casos\": 1, \"codigo region\": 3}, {\"date\": \"2020-03-27\", \"region\": \"Coquimbo\", \"casos\": 14, \"codigo region\": 4}, {\"date\": \"2020-03-27\", \"region\": \"Valpara\\u00edso\", \"casos\": 49, \"codigo region\": 5}, {\"date\": \"2020-03-27\", \"region\": \"Metropolitana\", \"casos\": 938, \"codigo region\": 6}, {\"date\": \"2020-03-27\", \"region\": \"O\\u2019Higgins\", \"casos\": 16, \"codigo region\": 7}, {\"date\": \"2020-03-27\", \"region\": \"Maule\", \"casos\": 32, \"codigo region\": 8}, {\"date\": \"2020-03-27\", \"region\": \"\\u00d1uble\", \"casos\": 144, \"codigo region\": 9}, {\"date\": \"2020-03-27\", \"region\": \"Biob\\u00edo\", \"casos\": 135, \"codigo region\": 10}, {\"date\": \"2020-03-27\", \"region\": \"Araucan\\u00eda\", \"casos\": 143, \"codigo region\": 11}, {\"date\": \"2020-03-27\", \"region\": \"Los R\\u00edos\", \"casos\": 22, \"codigo region\": 12}, {\"date\": \"2020-03-27\", \"region\": \"Los Lagos\", \"casos\": 63, \"codigo region\": 13}, {\"date\": \"2020-03-27\", \"region\": \"Ays\\u00e9n\", \"casos\": 2, \"codigo region\": 14}, {\"date\": \"2020-03-27\", \"region\": \"Magallanes\", \"casos\": 22, \"codigo region\": 15}, {\"date\": \"2020-03-28\", \"region\": \"Arica y Parinacota\", \"casos\": 3, \"codigo region\": 0}, {\"date\": \"2020-03-28\", \"region\": \"Tarapac\\u00e1\", \"casos\": 5, \"codigo region\": 1}, {\"date\": \"2020-03-28\", \"region\": \"Antofagasta\", \"casos\": 25, \"codigo region\": 2}, {\"date\": \"2020-03-28\", \"region\": \"Atacama\", \"casos\": 1, \"codigo region\": 3}, {\"date\": \"2020-03-28\", \"region\": \"Coquimbo\", \"casos\": 15, \"codigo region\": 4}, {\"date\": \"2020-03-28\", \"region\": \"Valpara\\u00edso\", \"casos\": 71, \"codigo region\": 5}, {\"date\": \"2020-03-28\", \"region\": \"Metropolitana\", \"casos\": 1084, \"codigo region\": 6}, {\"date\": \"2020-03-28\", \"region\": \"O\\u2019Higgins\", \"casos\": 20, \"codigo region\": 7}, {\"date\": \"2020-03-28\", \"region\": \"Maule\", \"casos\": 37, \"codigo region\": 8}, {\"date\": \"2020-03-28\", \"region\": \"\\u00d1uble\", \"casos\": 172, \"codigo region\": 9}, {\"date\": \"2020-03-28\", \"region\": \"Biob\\u00edo\", \"casos\": 151, \"codigo region\": 10}, {\"date\": \"2020-03-28\", \"region\": \"Araucan\\u00eda\", \"casos\": 177, \"codigo region\": 11}, {\"date\": \"2020-03-28\", \"region\": \"Los R\\u00edos\", \"casos\": 27, \"codigo region\": 12}, {\"date\": \"2020-03-28\", \"region\": \"Los Lagos\", \"casos\": 93, \"codigo region\": 13}, {\"date\": \"2020-03-28\", \"region\": \"Ays\\u00e9n\", \"casos\": 2, \"codigo region\": 14}, {\"date\": \"2020-03-28\", \"region\": \"Magallanes\", \"casos\": 26, \"codigo region\": 15}, {\"date\": \"2020-03-29\", \"region\": \"Arica y Parinacota\", \"casos\": 4, \"codigo region\": 0}, {\"date\": \"2020-03-29\", \"region\": \"Tarapac\\u00e1\", \"casos\": 6, \"codigo region\": 1}, {\"date\": \"2020-03-29\", \"region\": \"Antofagasta\", \"casos\": 27, \"codigo region\": 2}, {\"date\": \"2020-03-29\", \"region\": \"Atacama\", \"casos\": 2, \"codigo region\": 3}, {\"date\": \"2020-03-29\", \"region\": \"Coquimbo\", \"casos\": 18, \"codigo region\": 4}, {\"date\": \"2020-03-29\", \"region\": \"Valpara\\u00edso\", \"casos\": 80, \"codigo region\": 5}, {\"date\": \"2020-03-29\", \"region\": \"Metropolitana\", \"casos\": 1167, \"codigo region\": 6}, {\"date\": \"2020-03-29\", \"region\": \"O\\u2019Higgins\", \"casos\": 21, \"codigo region\": 7}, {\"date\": \"2020-03-29\", \"region\": \"Maule\", \"casos\": 42, \"codigo region\": 8}, {\"date\": \"2020-03-29\", \"region\": \"\\u00d1uble\", \"casos\": 197, \"codigo region\": 9}, {\"date\": \"2020-03-29\", \"region\": \"Biob\\u00edo\", \"casos\": 185, \"codigo region\": 10}, {\"date\": \"2020-03-29\", \"region\": \"Araucan\\u00eda\", \"casos\": 205, \"codigo region\": 11}, {\"date\": \"2020-03-29\", \"region\": \"Los R\\u00edos\", \"casos\": 40, \"codigo region\": 12}, {\"date\": \"2020-03-29\", \"region\": \"Los Lagos\", \"casos\": 104, \"codigo region\": 13}, {\"date\": \"2020-03-29\", \"region\": \"Ays\\u00e9n\", \"casos\": 2, \"codigo region\": 14}, {\"date\": \"2020-03-29\", \"region\": \"Magallanes\", \"casos\": 39, \"codigo region\": 15}, {\"date\": \"2020-03-30\", \"region\": \"Arica y Parinacota\", \"casos\": 6, \"codigo region\": 0}, {\"date\": \"2020-03-30\", \"region\": \"Tarapac\\u00e1\", \"casos\": 8, \"codigo region\": 1}, {\"date\": \"2020-03-30\", \"region\": \"Antofagasta\", \"casos\": 35, \"codigo region\": 2}, {\"date\": \"2020-03-30\", \"region\": \"Atacama\", \"casos\": 2, \"codigo region\": 3}, {\"date\": \"2020-03-30\", \"region\": \"Coquimbo\", \"casos\": 27, \"codigo region\": 4}, {\"date\": \"2020-03-30\", \"region\": \"Valpara\\u00edso\", \"casos\": 108, \"codigo region\": 5}, {\"date\": \"2020-03-30\", \"region\": \"Metropolitana\", \"casos\": 1295, \"codigo region\": 6}, {\"date\": \"2020-03-30\", \"region\": \"O\\u2019Higgins\", \"casos\": 21, \"codigo region\": 7}, {\"date\": \"2020-03-30\", \"region\": \"Maule\", \"casos\": 54, \"codigo region\": 8}, {\"date\": \"2020-03-30\", \"region\": \"\\u00d1uble\", \"casos\": 229, \"codigo region\": 9}, {\"date\": \"2020-03-30\", \"region\": \"Biob\\u00edo\", \"casos\": 201, \"codigo region\": 10}, {\"date\": \"2020-03-30\", \"region\": \"Araucan\\u00eda\", \"casos\": 247, \"codigo region\": 11}, {\"date\": \"2020-03-30\", \"region\": \"Los R\\u00edos\", \"casos\": 47, \"codigo region\": 12}, {\"date\": \"2020-03-30\", \"region\": \"Los Lagos\", \"casos\": 128, \"codigo region\": 13}, {\"date\": \"2020-03-30\", \"region\": \"Ays\\u00e9n\", \"casos\": 2, \"codigo region\": 14}, {\"date\": \"2020-03-30\", \"region\": \"Magallanes\", \"casos\": 39, \"codigo region\": 15}, {\"date\": \"2020-03-31\", \"region\": \"Arica y Parinacota\", \"casos\": 6, \"codigo region\": 0}, {\"date\": \"2020-03-31\", \"region\": \"Tarapac\\u00e1\", \"casos\": 10, \"codigo region\": 1}, {\"date\": \"2020-03-31\", \"region\": \"Antofagasta\", \"casos\": 35, \"codigo region\": 2}, {\"date\": \"2020-03-31\", \"region\": \"Atacama\", \"casos\": 2, \"codigo region\": 3}, {\"date\": \"2020-03-31\", \"region\": \"Coquimbo\", \"casos\": 28, \"codigo region\": 4}, {\"date\": \"2020-03-31\", \"region\": \"Valpara\\u00edso\", \"casos\": 115, \"codigo region\": 5}, {\"date\": \"2020-03-31\", \"region\": \"Metropolitana\", \"casos\": 1420, \"codigo region\": 6}, {\"date\": \"2020-03-31\", \"region\": \"O\\u2019Higgins\", \"casos\": 23, \"codigo region\": 7}, {\"date\": \"2020-03-31\", \"region\": \"Maule\", \"casos\": 62, \"codigo region\": 8}, {\"date\": \"2020-03-31\", \"region\": \"\\u00d1uble\", \"casos\": 245, \"codigo region\": 9}, {\"date\": \"2020-03-31\", \"region\": \"Biob\\u00edo\", \"casos\": 216, \"codigo region\": 10}, {\"date\": \"2020-03-31\", \"region\": \"Araucan\\u00eda\", \"casos\": 302, \"codigo region\": 11}, {\"date\": \"2020-03-31\", \"region\": \"Los R\\u00edos\", \"casos\": 58, \"codigo region\": 12}, {\"date\": \"2020-03-31\", \"region\": \"Los Lagos\", \"casos\": 151, \"codigo region\": 13}, {\"date\": \"2020-03-31\", \"region\": \"Ays\\u00e9n\", \"casos\": 2, \"codigo region\": 14}, {\"date\": \"2020-03-31\", \"region\": \"Magallanes\", \"casos\": 63, \"codigo region\": 15}, {\"date\": \"2020-04-01\", \"region\": \"Arica y Parinacota\", \"casos\": 6, \"codigo region\": 0}, {\"date\": \"2020-04-01\", \"region\": \"Tarapac\\u00e1\", \"casos\": 10, \"codigo region\": 1}, {\"date\": \"2020-04-01\", \"region\": \"Antofagasta\", \"casos\": 39, \"codigo region\": 2}, {\"date\": \"2020-04-01\", \"region\": \"Atacama\", \"casos\": 3, \"codigo region\": 3}, {\"date\": \"2020-04-01\", \"region\": \"Coquimbo\", \"casos\": 30, \"codigo region\": 4}, {\"date\": \"2020-04-01\", \"region\": \"Valpara\\u00edso\", \"casos\": 136, \"codigo region\": 5}, {\"date\": \"2020-04-01\", \"region\": \"Metropolitana\", \"casos\": 1521, \"codigo region\": 6}, {\"date\": \"2020-04-01\", \"region\": \"O\\u2019Higgins\", \"casos\": 26, \"codigo region\": 7}, {\"date\": \"2020-04-01\", \"region\": \"Maule\", \"casos\": 71, \"codigo region\": 8}, {\"date\": \"2020-04-01\", \"region\": \"\\u00d1uble\", \"casos\": 259, \"codigo region\": 9}, {\"date\": \"2020-04-01\", \"region\": \"Biob\\u00edo\", \"casos\": 240, \"codigo region\": 10}, {\"date\": \"2020-04-01\", \"region\": \"Araucan\\u00eda\", \"casos\": 343, \"codigo region\": 11}, {\"date\": \"2020-04-01\", \"region\": \"Los R\\u00edos\", \"casos\": 64, \"codigo region\": 12}, {\"date\": \"2020-04-01\", \"region\": \"Los Lagos\", \"casos\": 181, \"codigo region\": 13}, {\"date\": \"2020-04-01\", \"region\": \"Ays\\u00e9n\", \"casos\": 3, \"codigo region\": 14}, {\"date\": \"2020-04-01\", \"region\": \"Magallanes\", \"casos\": 99, \"codigo region\": 15}, {\"date\": \"2020-04-02\", \"region\": \"Arica y Parinacota\", \"casos\": 7, \"codigo region\": 0}, {\"date\": \"2020-04-02\", \"region\": \"Tarapac\\u00e1\", \"casos\": 12, \"codigo region\": 1}, {\"date\": \"2020-04-02\", \"region\": \"Antofagasta\", \"casos\": 47, \"codigo region\": 2}, {\"date\": \"2020-04-02\", \"region\": \"Atacama\", \"casos\": 3, \"codigo region\": 3}, {\"date\": \"2020-04-02\", \"region\": \"Coquimbo\", \"casos\": 34, \"codigo region\": 4}, {\"date\": \"2020-04-02\", \"region\": \"Valpara\\u00edso\", \"casos\": 156, \"codigo region\": 5}, {\"date\": \"2020-04-02\", \"region\": \"Metropolitana\", \"casos\": 1636, \"codigo region\": 6}, {\"date\": \"2020-04-02\", \"region\": \"O\\u2019Higgins\", \"casos\": 32, \"codigo region\": 7}, {\"date\": \"2020-04-02\", \"region\": \"Maule\", \"casos\": 82, \"codigo region\": 8}, {\"date\": \"2020-04-02\", \"region\": \"\\u00d1uble\", \"casos\": 341, \"codigo region\": 9}, {\"date\": \"2020-04-02\", \"region\": \"Biob\\u00edo\", \"casos\": 275, \"codigo region\": 10}, {\"date\": \"2020-04-02\", \"region\": \"Araucan\\u00eda\", \"casos\": 389, \"codigo region\": 11}, {\"date\": \"2020-04-02\", \"region\": \"Los R\\u00edos\", \"casos\": 68, \"codigo region\": 12}, {\"date\": \"2020-04-02\", \"region\": \"Los Lagos\", \"casos\": 203, \"codigo region\": 13}, {\"date\": \"2020-04-02\", \"region\": \"Ays\\u00e9n\", \"casos\": 5, \"codigo region\": 14}, {\"date\": \"2020-04-02\", \"region\": \"Magallanes\", \"casos\": 114, \"codigo region\": 15}, {\"date\": \"2020-04-03\", \"region\": \"Arica y Parinacota\", \"casos\": 12, \"codigo region\": 0}, {\"date\": \"2020-04-03\", \"region\": \"Tarapac\\u00e1\", \"casos\": 13, \"codigo region\": 1}, {\"date\": \"2020-04-03\", \"region\": \"Antofagasta\", \"casos\": 54, \"codigo region\": 2}, {\"date\": \"2020-04-03\", \"region\": \"Atacama\", \"casos\": 5, \"codigo region\": 3}, {\"date\": \"2020-04-03\", \"region\": \"Coquimbo\", \"casos\": 35, \"codigo region\": 4}, {\"date\": \"2020-04-03\", \"region\": \"Valpara\\u00edso\", \"casos\": 176, \"codigo region\": 5}, {\"date\": \"2020-04-03\", \"region\": \"Metropolitana\", \"casos\": 1742, \"codigo region\": 6}, {\"date\": \"2020-04-03\", \"region\": \"O\\u2019Higgins\", \"casos\": 33, \"codigo region\": 7}, {\"date\": \"2020-04-03\", \"region\": \"Maule\", \"casos\": 89, \"codigo region\": 8}, {\"date\": \"2020-04-03\", \"region\": \"\\u00d1uble\", \"casos\": 370, \"codigo region\": 9}, {\"date\": \"2020-04-03\", \"region\": \"Biob\\u00edo\", \"casos\": 302, \"codigo region\": 10}, {\"date\": \"2020-04-03\", \"region\": \"Araucan\\u00eda\", \"casos\": 432, \"codigo region\": 11}, {\"date\": \"2020-04-03\", \"region\": \"Los R\\u00edos\", \"casos\": 78, \"codigo region\": 12}, {\"date\": \"2020-04-03\", \"region\": \"Los Lagos\", \"casos\": 234, \"codigo region\": 13}, {\"date\": \"2020-04-03\", \"region\": \"Ays\\u00e9n\", \"casos\": 6, \"codigo region\": 14}, {\"date\": \"2020-04-03\", \"region\": \"Magallanes\", \"casos\": 156, \"codigo region\": 15}, {\"date\": \"2020-04-04\", \"region\": \"Arica y Parinacota\", \"casos\": 12, \"codigo region\": 0}, {\"date\": \"2020-04-04\", \"region\": \"Tarapac\\u00e1\", \"casos\": 17, \"codigo region\": 1}, {\"date\": \"2020-04-04\", \"region\": \"Antofagasta\", \"casos\": 55, \"codigo region\": 2}, {\"date\": \"2020-04-04\", \"region\": \"Atacama\", \"casos\": 5, \"codigo region\": 3}, {\"date\": \"2020-04-04\", \"region\": \"Coquimbo\", \"casos\": 44, \"codigo region\": 4}, {\"date\": \"2020-04-04\", \"region\": \"Valpara\\u00edso\", \"casos\": 185, \"codigo region\": 5}, {\"date\": \"2020-04-04\", \"region\": \"Metropolitana\", \"casos\": 1957, \"codigo region\": 6}, {\"date\": \"2020-04-04\", \"region\": \"O\\u2019Higgins\", \"casos\": 38, \"codigo region\": 7}, {\"date\": \"2020-04-04\", \"region\": \"Maule\", \"casos\": 97, \"codigo region\": 8}, {\"date\": \"2020-04-04\", \"region\": \"\\u00d1uble\", \"casos\": 401, \"codigo region\": 9}, {\"date\": \"2020-04-04\", \"region\": \"Biob\\u00edo\", \"casos\": 347, \"codigo region\": 10}, {\"date\": \"2020-04-04\", \"region\": \"Araucan\\u00eda\", \"casos\": 477, \"codigo region\": 11}, {\"date\": \"2020-04-04\", \"region\": \"Los R\\u00edos\", \"casos\": 89, \"codigo region\": 12}, {\"date\": \"2020-04-04\", \"region\": \"Los Lagos\", \"casos\": 259, \"codigo region\": 13}, {\"date\": \"2020-04-04\", \"region\": \"Ays\\u00e9n\", \"casos\": 6, \"codigo region\": 14}, {\"date\": \"2020-04-04\", \"region\": \"Magallanes\", \"casos\": 172, \"codigo region\": 15}, {\"date\": \"2020-04-05\", \"region\": \"Arica y Parinacota\", \"casos\": 28, \"codigo region\": 0}, {\"date\": \"2020-04-05\", \"region\": \"Tarapac\\u00e1\", \"casos\": 20, \"codigo region\": 1}, {\"date\": \"2020-04-05\", \"region\": \"Antofagasta\", \"casos\": 60, \"codigo region\": 2}, {\"date\": \"2020-04-05\", \"region\": \"Atacama\", \"casos\": 5, \"codigo region\": 3}, {\"date\": \"2020-04-05\", \"region\": \"Coquimbo\", \"casos\": 50, \"codigo region\": 4}, {\"date\": \"2020-04-05\", \"region\": \"Valpara\\u00edso\", \"casos\": 191, \"codigo region\": 5}, {\"date\": \"2020-04-05\", \"region\": \"Metropolitana\", \"casos\": 2102, \"codigo region\": 6}, {\"date\": \"2020-04-05\", \"region\": \"O\\u2019Higgins\", \"casos\": 41, \"codigo region\": 7}, {\"date\": \"2020-04-05\", \"region\": \"Maule\", \"casos\": 103, \"codigo region\": 8}, {\"date\": \"2020-04-05\", \"region\": \"\\u00d1uble\", \"casos\": 425, \"codigo region\": 9}, {\"date\": \"2020-04-05\", \"region\": \"Biob\\u00edo\", \"casos\": 365, \"codigo region\": 10}, {\"date\": \"2020-04-05\", \"region\": \"Araucan\\u00eda\", \"casos\": 509, \"codigo region\": 11}, {\"date\": \"2020-04-05\", \"region\": \"Los R\\u00edos\", \"casos\": 99, \"codigo region\": 12}, {\"date\": \"2020-04-05\", \"region\": \"Los Lagos\", \"casos\": 276, \"codigo region\": 13}, {\"date\": \"2020-04-05\", \"region\": \"Ays\\u00e9n\", \"casos\": 7, \"codigo region\": 14}, {\"date\": \"2020-04-05\", \"region\": \"Magallanes\", \"casos\": 190, \"codigo region\": 15}, {\"date\": \"2020-04-06\", \"region\": \"Arica y Parinacota\", \"casos\": 41, \"codigo region\": 0}, {\"date\": \"2020-04-06\", \"region\": \"Tarapac\\u00e1\", \"casos\": 21, \"codigo region\": 1}, {\"date\": \"2020-04-06\", \"region\": \"Antofagasta\", \"casos\": 68, \"codigo region\": 2}, {\"date\": \"2020-04-06\", \"region\": \"Atacama\", \"casos\": 5, \"codigo region\": 3}, {\"date\": \"2020-04-06\", \"region\": \"Coquimbo\", \"casos\": 51, \"codigo region\": 4}, {\"date\": \"2020-04-06\", \"region\": \"Valpara\\u00edso\", \"casos\": 198, \"codigo region\": 5}, {\"date\": \"2020-04-06\", \"region\": \"Metropolitana\", \"casos\": 2244, \"codigo region\": 6}, {\"date\": \"2020-04-06\", \"region\": \"O\\u2019Higgins\", \"casos\": 42, \"codigo region\": 7}, {\"date\": \"2020-04-06\", \"region\": \"Maule\", \"casos\": 108, \"codigo region\": 8}, {\"date\": \"2020-04-06\", \"region\": \"\\u00d1uble\", \"casos\": 474, \"codigo region\": 9}, {\"date\": \"2020-04-06\", \"region\": \"Biob\\u00edo\", \"casos\": 383, \"codigo region\": 10}, {\"date\": \"2020-04-06\", \"region\": \"Araucan\\u00eda\", \"casos\": 562, \"codigo region\": 11}, {\"date\": \"2020-04-06\", \"region\": \"Los R\\u00edos\", \"casos\": 104, \"codigo region\": 12}, {\"date\": \"2020-04-06\", \"region\": \"Los Lagos\", \"casos\": 286, \"codigo region\": 13}, {\"date\": \"2020-04-06\", \"region\": \"Ays\\u00e9n\", \"casos\": 7, \"codigo region\": 14}, {\"date\": \"2020-04-06\", \"region\": \"Magallanes\", \"casos\": 221, \"codigo region\": 15}, {\"date\": \"2020-04-07\", \"region\": \"Arica y Parinacota\", \"casos\": 53, \"codigo region\": 0}, {\"date\": \"2020-04-07\", \"region\": \"Tarapac\\u00e1\", \"casos\": 23, \"codigo region\": 1}, {\"date\": \"2020-04-07\", \"region\": \"Antofagasta\", \"casos\": 69, \"codigo region\": 2}, {\"date\": \"2020-04-07\", \"region\": \"Atacama\", \"casos\": 6, \"codigo region\": 3}, {\"date\": \"2020-04-07\", \"region\": \"Coquimbo\", \"casos\": 52, \"codigo region\": 4}, {\"date\": \"2020-04-07\", \"region\": \"Valpara\\u00edso\", \"casos\": 214, \"codigo region\": 5}, {\"date\": \"2020-04-07\", \"region\": \"Metropolitana\", \"casos\": 2350, \"codigo region\": 6}, {\"date\": \"2020-04-07\", \"region\": \"O\\u2019Higgins\", \"casos\": 42, \"codigo region\": 7}, {\"date\": \"2020-04-07\", \"region\": \"Maule\", \"casos\": 108, \"codigo region\": 8}, {\"date\": \"2020-04-07\", \"region\": \"\\u00d1uble\", \"casos\": 522, \"codigo region\": 9}, {\"date\": \"2020-04-07\", \"region\": \"Biob\\u00edo\", \"casos\": 410, \"codigo region\": 10}, {\"date\": \"2020-04-07\", \"region\": \"Araucan\\u00eda\", \"casos\": 612, \"codigo region\": 11}, {\"date\": \"2020-04-07\", \"region\": \"Los R\\u00edos\", \"casos\": 109, \"codigo region\": 12}, {\"date\": \"2020-04-07\", \"region\": \"Los Lagos\", \"casos\": 299, \"codigo region\": 13}, {\"date\": \"2020-04-07\", \"region\": \"Ays\\u00e9n\", \"casos\": 7, \"codigo region\": 14}, {\"date\": \"2020-04-07\", \"region\": \"Magallanes\", \"casos\": 240, \"codigo region\": 15}, {\"date\": \"2020-04-08\", \"region\": \"Arica y Parinacota\", \"casos\": 63, \"codigo region\": 0}, {\"date\": \"2020-04-08\", \"region\": \"Tarapac\\u00e1\", \"casos\": 26, \"codigo region\": 1}, {\"date\": \"2020-04-08\", \"region\": \"Antofagasta\", \"casos\": 77, \"codigo region\": 2}, {\"date\": \"2020-04-08\", \"region\": \"Atacama\", \"casos\": 8, \"codigo region\": 3}, {\"date\": \"2020-04-08\", \"region\": \"Coquimbo\", \"casos\": 56, \"codigo region\": 4}, {\"date\": \"2020-04-08\", \"region\": \"Valpara\\u00edso\", \"casos\": 225, \"codigo region\": 5}, {\"date\": \"2020-04-08\", \"region\": \"Metropolitana\", \"casos\": 2548, \"codigo region\": 6}, {\"date\": \"2020-04-08\", \"region\": \"O\\u2019Higgins\", \"casos\": 43, \"codigo region\": 7}, {\"date\": \"2020-04-08\", \"region\": \"Maule\", \"casos\": 119, \"codigo region\": 8}, {\"date\": \"2020-04-08\", \"region\": \"\\u00d1uble\", \"casos\": 561, \"codigo region\": 9}, {\"date\": \"2020-04-08\", \"region\": \"Biob\\u00edo\", \"casos\": 439, \"codigo region\": 10}, {\"date\": \"2020-04-08\", \"region\": \"Araucan\\u00eda\", \"casos\": 669, \"codigo region\": 11}, {\"date\": \"2020-04-08\", \"region\": \"Los R\\u00edos\", \"casos\": 114, \"codigo region\": 12}, {\"date\": \"2020-04-08\", \"region\": \"Los Lagos\", \"casos\": 325, \"codigo region\": 13}, {\"date\": \"2020-04-08\", \"region\": \"Ays\\u00e9n\", \"casos\": 7, \"codigo region\": 14}, {\"date\": \"2020-04-08\", \"region\": \"Magallanes\", \"casos\": 266, \"codigo region\": 15}, {\"date\": \"2020-04-09\", \"region\": \"Arica y Parinacota\", \"casos\": 75, \"codigo region\": 0}, {\"date\": \"2020-04-09\", \"region\": \"Tarapac\\u00e1\", \"casos\": 29, \"codigo region\": 1}, {\"date\": \"2020-04-09\", \"region\": \"Antofagasta\", \"casos\": 92, \"codigo region\": 2}, {\"date\": \"2020-04-09\", \"region\": \"Atacama\", \"casos\": 10, \"codigo region\": 3}, {\"date\": \"2020-04-09\", \"region\": \"Coquimbo\", \"casos\": 61, \"codigo region\": 4}, {\"date\": \"2020-04-09\", \"region\": \"Valpara\\u00edso\", \"casos\": 230, \"codigo region\": 5}, {\"date\": \"2020-04-09\", \"region\": \"Metropolitana\", \"casos\": 2832, \"codigo region\": 6}, {\"date\": \"2020-04-09\", \"region\": \"O\\u2019Higgins\", \"casos\": 44, \"codigo region\": 7}, {\"date\": \"2020-04-09\", \"region\": \"Maule\", \"casos\": 128, \"codigo region\": 8}, {\"date\": \"2020-04-09\", \"region\": \"\\u00d1uble\", \"casos\": 571, \"codigo region\": 9}, {\"date\": \"2020-04-09\", \"region\": \"Biob\\u00edo\", \"casos\": 460, \"codigo region\": 10}, {\"date\": \"2020-04-09\", \"region\": \"Araucan\\u00eda\", \"casos\": 689, \"codigo region\": 11}, {\"date\": \"2020-04-09\", \"region\": \"Los R\\u00edos\", \"casos\": 118, \"codigo region\": 12}, {\"date\": \"2020-04-09\", \"region\": \"Los Lagos\", \"casos\": 340, \"codigo region\": 13}, {\"date\": \"2020-04-09\", \"region\": \"Ays\\u00e9n\", \"casos\": 7, \"codigo region\": 14}, {\"date\": \"2020-04-09\", \"region\": \"Magallanes\", \"casos\": 286, \"codigo region\": 15}, {\"date\": \"2020-04-10\", \"region\": \"Arica y Parinacota\", \"casos\": 87, \"codigo region\": 0}, {\"date\": \"2020-04-10\", \"region\": \"Tarapac\\u00e1\", \"casos\": 35, \"codigo region\": 1}, {\"date\": \"2020-04-10\", \"region\": \"Antofagasta\", \"casos\": 110, \"codigo region\": 2}, {\"date\": \"2020-04-10\", \"region\": \"Atacama\", \"casos\": 13, \"codigo region\": 3}, {\"date\": \"2020-04-10\", \"region\": \"Coquimbo\", \"casos\": 61, \"codigo region\": 4}, {\"date\": \"2020-04-10\", \"region\": \"Valpara\\u00edso\", \"casos\": 241, \"codigo region\": 5}, {\"date\": \"2020-04-10\", \"region\": \"Metropolitana\", \"casos\": 3193, \"codigo region\": 6}, {\"date\": \"2020-04-10\", \"region\": \"O\\u2019Higgins\", \"casos\": 44, \"codigo region\": 7}, {\"date\": \"2020-04-10\", \"region\": \"Maule\", \"casos\": 131, \"codigo region\": 8}, {\"date\": \"2020-04-10\", \"region\": \"\\u00d1uble\", \"casos\": 589, \"codigo region\": 9}, {\"date\": \"2020-04-10\", \"region\": \"Biob\\u00edo\", \"casos\": 474, \"codigo region\": 10}, {\"date\": \"2020-04-10\", \"region\": \"Araucan\\u00eda\", \"casos\": 712, \"codigo region\": 11}, {\"date\": \"2020-04-10\", \"region\": \"Los R\\u00edos\", \"casos\": 124, \"codigo region\": 12}, {\"date\": \"2020-04-10\", \"region\": \"Los Lagos\", \"casos\": 349, \"codigo region\": 13}, {\"date\": \"2020-04-10\", \"region\": \"Ays\\u00e9n\", \"casos\": 7, \"codigo region\": 14}, {\"date\": \"2020-04-10\", \"region\": \"Magallanes\", \"casos\": 331, \"codigo region\": 15}, {\"date\": \"2020-04-11\", \"region\": \"Arica y Parinacota\", \"casos\": 107, \"codigo region\": 0}, {\"date\": \"2020-04-11\", \"region\": \"Tarapac\\u00e1\", \"casos\": 38, \"codigo region\": 1}, {\"date\": \"2020-04-11\", \"region\": \"Antofagasta\", \"casos\": 117, \"codigo region\": 2}, {\"date\": \"2020-04-11\", \"region\": \"Atacama\", \"casos\": 13, \"codigo region\": 3}, {\"date\": \"2020-04-11\", \"region\": \"Coquimbo\", \"casos\": 64, \"codigo region\": 4}, {\"date\": \"2020-04-11\", \"region\": \"Valpara\\u00edso\", \"casos\": 248, \"codigo region\": 5}, {\"date\": \"2020-04-11\", \"region\": \"Metropolitana\", \"casos\": 3448, \"codigo region\": 6}, {\"date\": \"2020-04-11\", \"region\": \"O\\u2019Higgins\", \"casos\": 45, \"codigo region\": 7}, {\"date\": \"2020-04-11\", \"region\": \"Maule\", \"casos\": 134, \"codigo region\": 8}, {\"date\": \"2020-04-11\", \"region\": \"\\u00d1uble\", \"casos\": 606, \"codigo region\": 9}, {\"date\": \"2020-04-11\", \"region\": \"Biob\\u00edo\", \"casos\": 490, \"codigo region\": 10}, {\"date\": \"2020-04-11\", \"region\": \"Araucan\\u00eda\", \"casos\": 739, \"codigo region\": 11}, {\"date\": \"2020-04-11\", \"region\": \"Los R\\u00edos\", \"casos\": 130, \"codigo region\": 12}, {\"date\": \"2020-04-11\", \"region\": \"Los Lagos\", \"casos\": 364, \"codigo region\": 13}, {\"date\": \"2020-04-11\", \"region\": \"Ays\\u00e9n\", \"casos\": 7, \"codigo region\": 14}, {\"date\": \"2020-04-11\", \"region\": \"Magallanes\", \"casos\": 377, \"codigo region\": 15}, {\"date\": \"2020-04-12\", \"region\": \"Arica y Parinacota\", \"casos\": 115, \"codigo region\": 0}, {\"date\": \"2020-04-12\", \"region\": \"Tarapac\\u00e1\", \"casos\": 46, \"codigo region\": 1}, {\"date\": \"2020-04-12\", \"region\": \"Antofagasta\", \"casos\": 138, \"codigo region\": 2}, {\"date\": \"2020-04-12\", \"region\": \"Atacama\", \"casos\": 13, \"codigo region\": 3}, {\"date\": \"2020-04-12\", \"region\": \"Coquimbo\", \"casos\": 66, \"codigo region\": 4}, {\"date\": \"2020-04-12\", \"region\": \"Valpara\\u00edso\", \"casos\": 254, \"codigo region\": 5}, {\"date\": \"2020-04-12\", \"region\": \"Metropolitana\", \"casos\": 3599, \"codigo region\": 6}, {\"date\": \"2020-04-12\", \"region\": \"O\\u2019Higgins\", \"casos\": 46, \"codigo region\": 7}, {\"date\": \"2020-04-12\", \"region\": \"Maule\", \"casos\": 138, \"codigo region\": 8}, {\"date\": \"2020-04-12\", \"region\": \"\\u00d1uble\", \"casos\": 613, \"codigo region\": 9}, {\"date\": \"2020-04-12\", \"region\": \"Biob\\u00edo\", \"casos\": 500, \"codigo region\": 10}, {\"date\": \"2020-04-12\", \"region\": \"Araucan\\u00eda\", \"casos\": 775, \"codigo region\": 11}, {\"date\": \"2020-04-12\", \"region\": \"Los R\\u00edos\", \"casos\": 135, \"codigo region\": 12}, {\"date\": \"2020-04-12\", \"region\": \"Los Lagos\", \"casos\": 372, \"codigo region\": 13}, {\"date\": \"2020-04-12\", \"region\": \"Ays\\u00e9n\", \"casos\": 7, \"codigo region\": 14}, {\"date\": \"2020-04-12\", \"region\": \"Magallanes\", \"casos\": 396, \"codigo region\": 15}, {\"date\": \"2020-04-13\", \"region\": \"Arica y Parinacota\", \"casos\": 115, \"codigo region\": 0}, {\"date\": \"2020-04-13\", \"region\": \"Tarapac\\u00e1\", \"casos\": 52, \"codigo region\": 1}, {\"date\": \"2020-04-13\", \"region\": \"Antofagasta\", \"casos\": 149, \"codigo region\": 2}, {\"date\": \"2020-04-13\", \"region\": \"Atacama\", \"casos\": 13, \"codigo region\": 3}, {\"date\": \"2020-04-13\", \"region\": \"Coquimbo\", \"casos\": 66, \"codigo region\": 4}, {\"date\": \"2020-04-13\", \"region\": \"Valpara\\u00edso\", \"casos\": 273, \"codigo region\": 5}, {\"date\": \"2020-04-13\", \"region\": \"Metropolitana\", \"casos\": 3803, \"codigo region\": 6}, {\"date\": \"2020-04-13\", \"region\": \"O\\u2019Higgins\", \"casos\": 48, \"codigo region\": 7}, {\"date\": \"2020-04-13\", \"region\": \"Maule\", \"casos\": 141, \"codigo region\": 8}, {\"date\": \"2020-04-13\", \"region\": \"\\u00d1uble\", \"casos\": 618, \"codigo region\": 9}, {\"date\": \"2020-04-13\", \"region\": \"Biob\\u00edo\", \"casos\": 512, \"codigo region\": 10}, {\"date\": \"2020-04-13\", \"region\": \"Araucan\\u00eda\", \"casos\": 795, \"codigo region\": 11}, {\"date\": \"2020-04-13\", \"region\": \"Los R\\u00edos\", \"casos\": 138, \"codigo region\": 12}, {\"date\": \"2020-04-13\", \"region\": \"Los Lagos\", \"casos\": 380, \"codigo region\": 13}, {\"date\": \"2020-04-13\", \"region\": \"Ays\\u00e9n\", \"casos\": 7, \"codigo region\": 14}, {\"date\": \"2020-04-13\", \"region\": \"Magallanes\", \"casos\": 415, \"codigo region\": 15}, {\"date\": \"2020-04-14\", \"region\": \"Arica y Parinacota\", \"casos\": 120, \"codigo region\": 0}, {\"date\": \"2020-04-14\", \"region\": \"Tarapac\\u00e1\", \"casos\": 62, \"codigo region\": 1}, {\"date\": \"2020-04-14\", \"region\": \"Antofagasta\", \"casos\": 155, \"codigo region\": 2}, {\"date\": \"2020-04-14\", \"region\": \"Atacama\", \"casos\": 13, \"codigo region\": 3}, {\"date\": \"2020-04-14\", \"region\": \"Coquimbo\", \"casos\": 66, \"codigo region\": 4}, {\"date\": \"2020-04-14\", \"region\": \"Valpara\\u00edso\", \"casos\": 285, \"codigo region\": 5}, {\"date\": \"2020-04-14\", \"region\": \"Metropolitana\", \"casos\": 4086, \"codigo region\": 6}, {\"date\": \"2020-04-14\", \"region\": \"O\\u2019Higgins\", \"casos\": 53, \"codigo region\": 7}, {\"date\": \"2020-04-14\", \"region\": \"Maule\", \"casos\": 142, \"codigo region\": 8}, {\"date\": \"2020-04-14\", \"region\": \"\\u00d1uble\", \"casos\": 622, \"codigo region\": 9}, {\"date\": \"2020-04-14\", \"region\": \"Biob\\u00edo\", \"casos\": 528, \"codigo region\": 10}, {\"date\": \"2020-04-14\", \"region\": \"Araucan\\u00eda\", \"casos\": 816, \"codigo region\": 11}, {\"date\": \"2020-04-14\", \"region\": \"Los R\\u00edos\", \"casos\": 148, \"codigo region\": 12}, {\"date\": \"2020-04-14\", \"region\": \"Los Lagos\", \"casos\": 385, \"codigo region\": 13}, {\"date\": \"2020-04-14\", \"region\": \"Ays\\u00e9n\", \"casos\": 7, \"codigo region\": 14}, {\"date\": \"2020-04-14\", \"region\": \"Magallanes\", \"casos\": 429, \"codigo region\": 15}, {\"date\": \"2020-04-15\", \"region\": \"Arica y Parinacota\", \"casos\": 124, \"codigo region\": 0}, {\"date\": \"2020-04-15\", \"region\": \"Tarapac\\u00e1\", \"casos\": 62, \"codigo region\": 1}, {\"date\": \"2020-04-15\", \"region\": \"Antofagasta\", \"casos\": 176, \"codigo region\": 2}, {\"date\": \"2020-04-15\", \"region\": \"Atacama\", \"casos\": 13, \"codigo region\": 3}, {\"date\": \"2020-04-15\", \"region\": \"Coquimbo\", \"casos\": 66, \"codigo region\": 4}, {\"date\": \"2020-04-15\", \"region\": \"Valpara\\u00edso\", \"casos\": 299, \"codigo region\": 5}, {\"date\": \"2020-04-15\", \"region\": \"Metropolitana\", \"casos\": 4334, \"codigo region\": 6}, {\"date\": \"2020-04-15\", \"region\": \"O\\u2019Higgins\", \"casos\": 54, \"codigo region\": 7}, {\"date\": \"2020-04-15\", \"region\": \"Maule\", \"casos\": 152, \"codigo region\": 8}, {\"date\": \"2020-04-15\", \"region\": \"\\u00d1uble\", \"casos\": 634, \"codigo region\": 9}, {\"date\": \"2020-04-15\", \"region\": \"Biob\\u00edo\", \"casos\": 542, \"codigo region\": 10}, {\"date\": \"2020-04-15\", \"region\": \"Araucan\\u00eda\", \"casos\": 826, \"codigo region\": 11}, {\"date\": \"2020-04-15\", \"region\": \"Los R\\u00edos\", \"casos\": 150, \"codigo region\": 12}, {\"date\": \"2020-04-15\", \"region\": \"Los Lagos\", \"casos\": 390, \"codigo region\": 13}, {\"date\": \"2020-04-15\", \"region\": \"Ays\\u00e9n\", \"casos\": 7, \"codigo region\": 14}, {\"date\": \"2020-04-15\", \"region\": \"Magallanes\", \"casos\": 444, \"codigo region\": 15}, {\"date\": \"2020-04-16\", \"region\": \"Arica y Parinacota\", \"casos\": 129, \"codigo region\": 0}, {\"date\": \"2020-04-16\", \"region\": \"Tarapac\\u00e1\", \"casos\": 66, \"codigo region\": 1}, {\"date\": \"2020-04-16\", \"region\": \"Antofagasta\", \"casos\": 192, \"codigo region\": 2}, {\"date\": \"2020-04-16\", \"region\": \"Atacama\", \"casos\": 13, \"codigo region\": 3}, {\"date\": \"2020-04-16\", \"region\": \"Coquimbo\", \"casos\": 68, \"codigo region\": 4}, {\"date\": \"2020-04-16\", \"region\": \"Valpara\\u00edso\", \"casos\": 330, \"codigo region\": 5}, {\"date\": \"2020-04-16\", \"region\": \"Metropolitana\", \"casos\": 4682, \"codigo region\": 6}, {\"date\": \"2020-04-16\", \"region\": \"O\\u2019Higgins\", \"casos\": 54, \"codigo region\": 7}, {\"date\": \"2020-04-16\", \"region\": \"Maule\", \"casos\": 167, \"codigo region\": 8}, {\"date\": \"2020-04-16\", \"region\": \"\\u00d1uble\", \"casos\": 639, \"codigo region\": 9}, {\"date\": \"2020-04-16\", \"region\": \"Biob\\u00edo\", \"casos\": 559, \"codigo region\": 10}, {\"date\": \"2020-04-16\", \"region\": \"Araucan\\u00eda\", \"casos\": 882, \"codigo region\": 11}, {\"date\": \"2020-04-16\", \"region\": \"Los R\\u00edos\", \"casos\": 153, \"codigo region\": 12}, {\"date\": \"2020-04-16\", \"region\": \"Los Lagos\", \"casos\": 399, \"codigo region\": 13}, {\"date\": \"2020-04-16\", \"region\": \"Ays\\u00e9n\", \"casos\": 7, \"codigo region\": 14}, {\"date\": \"2020-04-16\", \"region\": \"Magallanes\", \"casos\": 467, \"codigo region\": 15}, {\"date\": \"2020-04-17\", \"region\": \"Arica y Parinacota\", \"casos\": 134, \"codigo region\": 0}, {\"date\": \"2020-04-17\", \"region\": \"Tarapac\\u00e1\", \"casos\": 73, \"codigo region\": 1}, {\"date\": \"2020-04-17\", \"region\": \"Antofagasta\", \"casos\": 211, \"codigo region\": 2}, {\"date\": \"2020-04-17\", \"region\": \"Atacama\", \"casos\": 13, \"codigo region\": 3}, {\"date\": \"2020-04-17\", \"region\": \"Coquimbo\", \"casos\": 68, \"codigo region\": 4}, {\"date\": \"2020-04-17\", \"region\": \"Valpara\\u00edso\", \"casos\": 345, \"codigo region\": 5}, {\"date\": \"2020-04-17\", \"region\": \"Metropolitana\", \"casos\": 4915, \"codigo region\": 6}, {\"date\": \"2020-04-17\", \"region\": \"O\\u2019Higgins\", \"casos\": 55, \"codigo region\": 7}, {\"date\": \"2020-04-17\", \"region\": \"Maule\", \"casos\": 223, \"codigo region\": 8}, {\"date\": \"2020-04-17\", \"region\": \"\\u00d1uble\", \"casos\": 656, \"codigo region\": 9}, {\"date\": \"2020-04-17\", \"region\": \"Biob\\u00edo\", \"casos\": 578, \"codigo region\": 10}, {\"date\": \"2020-04-17\", \"region\": \"Araucan\\u00eda\", \"casos\": 907, \"codigo region\": 11}, {\"date\": \"2020-04-17\", \"region\": \"Los R\\u00edos\", \"casos\": 154, \"codigo region\": 12}, {\"date\": \"2020-04-17\", \"region\": \"Los Lagos\", \"casos\": 412, \"codigo region\": 13}, {\"date\": \"2020-04-17\", \"region\": \"Ays\\u00e9n\", \"casos\": 7, \"codigo region\": 14}, {\"date\": \"2020-04-17\", \"region\": \"Magallanes\", \"casos\": 501, \"codigo region\": 15}, {\"date\": \"2020-04-18\", \"region\": \"Arica y Parinacota\", \"casos\": 142, \"codigo region\": 0}, {\"date\": \"2020-04-18\", \"region\": \"Tarapac\\u00e1\", \"casos\": 81, \"codigo region\": 1}, {\"date\": \"2020-04-18\", \"region\": \"Antofagasta\", \"casos\": 226, \"codigo region\": 2}, {\"date\": \"2020-04-18\", \"region\": \"Atacama\", \"casos\": 13, \"codigo region\": 3}, {\"date\": \"2020-04-18\", \"region\": \"Coquimbo\", \"casos\": 68, \"codigo region\": 4}, {\"date\": \"2020-04-18\", \"region\": \"Valpara\\u00edso\", \"casos\": 359, \"codigo region\": 5}, {\"date\": \"2020-04-18\", \"region\": \"Metropolitana\", \"casos\": 5192, \"codigo region\": 6}, {\"date\": \"2020-04-18\", \"region\": \"O\\u2019Higgins\", \"casos\": 55, \"codigo region\": 7}, {\"date\": \"2020-04-18\", \"region\": \"Maule\", \"casos\": 276, \"codigo region\": 8}, {\"date\": \"2020-04-18\", \"region\": \"\\u00d1uble\", \"casos\": 667, \"codigo region\": 9}, {\"date\": \"2020-04-18\", \"region\": \"Biob\\u00edo\", \"casos\": 606, \"codigo region\": 10}, {\"date\": \"2020-04-18\", \"region\": \"Araucan\\u00eda\", \"casos\": 944, \"codigo region\": 11}, {\"date\": \"2020-04-18\", \"region\": \"Los R\\u00edos\", \"casos\": 156, \"codigo region\": 12}, {\"date\": \"2020-04-18\", \"region\": \"Los Lagos\", \"casos\": 416, \"codigo region\": 13}, {\"date\": \"2020-04-18\", \"region\": \"Ays\\u00e9n\", \"casos\": 7, \"codigo region\": 14}, {\"date\": \"2020-04-18\", \"region\": \"Magallanes\", \"casos\": 522, \"codigo region\": 15}, {\"date\": \"2020-04-19\", \"region\": \"Arica y Parinacota\", \"casos\": 145, \"codigo region\": 0}, {\"date\": \"2020-04-19\", \"region\": \"Tarapac\\u00e1\", \"casos\": 90, \"codigo region\": 1}, {\"date\": \"2020-04-19\", \"region\": \"Antofagasta\", \"casos\": 249, \"codigo region\": 2}, {\"date\": \"2020-04-19\", \"region\": \"Atacama\", \"casos\": 13, \"codigo region\": 3}, {\"date\": \"2020-04-19\", \"region\": \"Coquimbo\", \"casos\": 68, \"codigo region\": 4}, {\"date\": \"2020-04-19\", \"region\": \"Valpara\\u00edso\", \"casos\": 381, \"codigo region\": 5}, {\"date\": \"2020-04-19\", \"region\": \"Metropolitana\", \"casos\": 5381, \"codigo region\": 6}, {\"date\": \"2020-04-19\", \"region\": \"O\\u2019Higgins\", \"casos\": 55, \"codigo region\": 7}, {\"date\": \"2020-04-19\", \"region\": \"Maule\", \"casos\": 302, \"codigo region\": 8}, {\"date\": \"2020-04-19\", \"region\": \"\\u00d1uble\", \"casos\": 678, \"codigo region\": 9}, {\"date\": \"2020-04-19\", \"region\": \"Biob\\u00edo\", \"casos\": 616, \"codigo region\": 10}, {\"date\": \"2020-04-19\", \"region\": \"Araucan\\u00eda\", \"casos\": 972, \"codigo region\": 11}, {\"date\": \"2020-04-19\", \"region\": \"Los R\\u00edos\", \"casos\": 157, \"codigo region\": 12}, {\"date\": \"2020-04-19\", \"region\": \"Los Lagos\", \"casos\": 421, \"codigo region\": 13}, {\"date\": \"2020-04-19\", \"region\": \"Ays\\u00e9n\", \"casos\": 7, \"codigo region\": 14}, {\"date\": \"2020-04-19\", \"region\": \"Magallanes\", \"casos\": 553, \"codigo region\": 15}, {\"date\": \"2020-04-20\", \"region\": \"Arica y Parinacota\", \"casos\": 161, \"codigo region\": 0}, {\"date\": \"2020-04-20\", \"region\": \"Tarapac\\u00e1\", \"casos\": 93, \"codigo region\": 1}, {\"date\": \"2020-04-20\", \"region\": \"Antofagasta\", \"casos\": 263, \"codigo region\": 2}, {\"date\": \"2020-04-20\", \"region\": \"Atacama\", \"casos\": 13, \"codigo region\": 3}, {\"date\": \"2020-04-20\", \"region\": \"Coquimbo\", \"casos\": 69, \"codigo region\": 4}, {\"date\": \"2020-04-20\", \"region\": \"Valpara\\u00edso\", \"casos\": 388, \"codigo region\": 5}, {\"date\": \"2020-04-20\", \"region\": \"Metropolitana\", \"casos\": 5643, \"codigo region\": 6}, {\"date\": \"2020-04-20\", \"region\": \"O\\u2019Higgins\", \"casos\": 56, \"codigo region\": 7}, {\"date\": \"2020-04-20\", \"region\": \"Maule\", \"casos\": 304, \"codigo region\": 8}, {\"date\": \"2020-04-20\", \"region\": \"\\u00d1uble\", \"casos\": 687, \"codigo region\": 9}, {\"date\": \"2020-04-20\", \"region\": \"Biob\\u00edo\", \"casos\": 626, \"codigo region\": 10}, {\"date\": \"2020-04-20\", \"region\": \"Araucan\\u00eda\", \"casos\": 1045, \"codigo region\": 11}, {\"date\": \"2020-04-20\", \"region\": \"Los R\\u00edos\", \"casos\": 162, \"codigo region\": 12}, {\"date\": \"2020-04-20\", \"region\": \"Los Lagos\", \"casos\": 424, \"codigo region\": 13}, {\"date\": \"2020-04-20\", \"region\": \"Ays\\u00e9n\", \"casos\": 7, \"codigo region\": 14}, {\"date\": \"2020-04-20\", \"region\": \"Magallanes\", \"casos\": 566, \"codigo region\": 15}, {\"date\": \"2020-04-21\", \"region\": \"Arica y Parinacota\", \"casos\": 170, \"codigo region\": 0}, {\"date\": \"2020-04-21\", \"region\": \"Tarapac\\u00e1\", \"casos\": 104, \"codigo region\": 1}, {\"date\": \"2020-04-21\", \"region\": \"Antofagasta\", \"casos\": 291, \"codigo region\": 2}, {\"date\": \"2020-04-21\", \"region\": \"Atacama\", \"casos\": 13, \"codigo region\": 3}, {\"date\": \"2020-04-21\", \"region\": \"Coquimbo\", \"casos\": 69, \"codigo region\": 4}, {\"date\": \"2020-04-21\", \"region\": \"Valpara\\u00edso\", \"casos\": 403, \"codigo region\": 5}, {\"date\": \"2020-04-21\", \"region\": \"Metropolitana\", \"casos\": 5788, \"codigo region\": 6}, {\"date\": \"2020-04-21\", \"region\": \"O\\u2019Higgins\", \"casos\": 57, \"codigo region\": 7}, {\"date\": \"2020-04-21\", \"region\": \"Maule\", \"casos\": 316, \"codigo region\": 8}, {\"date\": \"2020-04-21\", \"region\": \"\\u00d1uble\", \"casos\": 694, \"codigo region\": 9}, {\"date\": \"2020-04-21\", \"region\": \"Biob\\u00edo\", \"casos\": 636, \"codigo region\": 10}, {\"date\": \"2020-04-21\", \"region\": \"Araucan\\u00eda\", \"casos\": 1092, \"codigo region\": 11}, {\"date\": \"2020-04-21\", \"region\": \"Los R\\u00edos\", \"casos\": 167, \"codigo region\": 12}, {\"date\": \"2020-04-21\", \"region\": \"Los Lagos\", \"casos\": 432, \"codigo region\": 13}, {\"date\": \"2020-04-21\", \"region\": \"Ays\\u00e9n\", \"casos\": 7, \"codigo region\": 14}, {\"date\": \"2020-04-21\", \"region\": \"Magallanes\", \"casos\": 593, \"codigo region\": 15}, {\"date\": \"2020-04-22\", \"region\": \"Arica y Parinacota\", \"casos\": 180, \"codigo region\": 0}, {\"date\": \"2020-04-22\", \"region\": \"Tarapac\\u00e1\", \"casos\": 114, \"codigo region\": 1}, {\"date\": \"2020-04-22\", \"region\": \"Antofagasta\", \"casos\": 326, \"codigo region\": 2}, {\"date\": \"2020-04-22\", \"region\": \"Atacama\", \"casos\": 13, \"codigo region\": 3}, {\"date\": \"2020-04-22\", \"region\": \"Coquimbo\", \"casos\": 70, \"codigo region\": 4}, {\"date\": \"2020-04-22\", \"region\": \"Valpara\\u00edso\", \"casos\": 421, \"codigo region\": 5}, {\"date\": \"2020-04-22\", \"region\": \"Metropolitana\", \"casos\": 6083, \"codigo region\": 6}, {\"date\": \"2020-04-22\", \"region\": \"O\\u2019Higgins\", \"casos\": 59, \"codigo region\": 7}, {\"date\": \"2020-04-22\", \"region\": \"Maule\", \"casos\": 328, \"codigo region\": 8}, {\"date\": \"2020-04-22\", \"region\": \"\\u00d1uble\", \"casos\": 703, \"codigo region\": 9}, {\"date\": \"2020-04-22\", \"region\": \"Biob\\u00edo\", \"casos\": 658, \"codigo region\": 10}, {\"date\": \"2020-04-22\", \"region\": \"Araucan\\u00eda\", \"casos\": 1113, \"codigo region\": 11}, {\"date\": \"2020-04-22\", \"region\": \"Los R\\u00edos\", \"casos\": 171, \"codigo region\": 12}, {\"date\": \"2020-04-22\", \"region\": \"Los Lagos\", \"casos\": 445, \"codigo region\": 13}, {\"date\": \"2020-04-22\", \"region\": \"Ays\\u00e9n\", \"casos\": 7, \"codigo region\": 14}, {\"date\": \"2020-04-22\", \"region\": \"Magallanes\", \"casos\": 605, \"codigo region\": 15}, {\"date\": \"2020-04-23\", \"region\": \"Arica y Parinacota\", \"casos\": 210, \"codigo region\": 0}, {\"date\": \"2020-04-23\", \"region\": \"Tarapac\\u00e1\", \"casos\": 128, \"codigo region\": 1}, {\"date\": \"2020-04-23\", \"region\": \"Antofagasta\", \"casos\": 340, \"codigo region\": 2}, {\"date\": \"2020-04-23\", \"region\": \"Atacama\", \"casos\": 18, \"codigo region\": 3}, {\"date\": \"2020-04-23\", \"region\": \"Coquimbo\", \"casos\": 70, \"codigo region\": 4}, {\"date\": \"2020-04-23\", \"region\": \"Valpara\\u00edso\", \"casos\": 429, \"codigo region\": 5}, {\"date\": \"2020-04-23\", \"region\": \"Metropolitana\", \"casos\": 6434, \"codigo region\": 6}, {\"date\": \"2020-04-23\", \"region\": \"O\\u2019Higgins\", \"casos\": 76, \"codigo region\": 7}, {\"date\": \"2020-04-23\", \"region\": \"Maule\", \"casos\": 333, \"codigo region\": 8}, {\"date\": \"2020-04-23\", \"region\": \"\\u00d1uble\", \"casos\": 708, \"codigo region\": 9}, {\"date\": \"2020-04-23\", \"region\": \"Biob\\u00edo\", \"casos\": 675, \"codigo region\": 10}, {\"date\": \"2020-04-23\", \"region\": \"Araucan\\u00eda\", \"casos\": 1142, \"codigo region\": 11}, {\"date\": \"2020-04-23\", \"region\": \"Los R\\u00edos\", \"casos\": 173, \"codigo region\": 12}, {\"date\": \"2020-04-23\", \"region\": \"Los Lagos\", \"casos\": 454, \"codigo region\": 13}, {\"date\": \"2020-04-23\", \"region\": \"Ays\\u00e9n\", \"casos\": 7, \"codigo region\": 14}, {\"date\": \"2020-04-23\", \"region\": \"Magallanes\", \"casos\": 615, \"codigo region\": 15}, {\"date\": \"2020-04-24\", \"region\": \"Arica y Parinacota\", \"casos\": 239, \"codigo region\": 0}, {\"date\": \"2020-04-24\", \"region\": \"Tarapac\\u00e1\", \"casos\": 134, \"codigo region\": 1}, {\"date\": \"2020-04-24\", \"region\": \"Antofagasta\", \"casos\": 366, \"codigo region\": 2}, {\"date\": \"2020-04-24\", \"region\": \"Atacama\", \"casos\": 21, \"codigo region\": 3}, {\"date\": \"2020-04-24\", \"region\": \"Coquimbo\", \"casos\": 72, \"codigo region\": 4}, {\"date\": \"2020-04-24\", \"region\": \"Valpara\\u00edso\", \"casos\": 436, \"codigo region\": 5}, {\"date\": \"2020-04-24\", \"region\": \"Metropolitana\", \"casos\": 6761, \"codigo region\": 6}, {\"date\": \"2020-04-24\", \"region\": \"O\\u2019Higgins\", \"casos\": 81, \"codigo region\": 7}, {\"date\": \"2020-04-24\", \"region\": \"Maule\", \"casos\": 349, \"codigo region\": 8}, {\"date\": \"2020-04-24\", \"region\": \"\\u00d1uble\", \"casos\": 715, \"codigo region\": 9}, {\"date\": \"2020-04-24\", \"region\": \"Biob\\u00edo\", \"casos\": 683, \"codigo region\": 10}, {\"date\": \"2020-04-24\", \"region\": \"Araucan\\u00eda\", \"casos\": 1184, \"codigo region\": 11}, {\"date\": \"2020-04-24\", \"region\": \"Los R\\u00edos\", \"casos\": 174, \"codigo region\": 12}, {\"date\": \"2020-04-24\", \"region\": \"Los Lagos\", \"casos\": 460, \"codigo region\": 13}, {\"date\": \"2020-04-24\", \"region\": \"Ays\\u00e9n\", \"casos\": 7, \"codigo region\": 14}, {\"date\": \"2020-04-24\", \"region\": \"Magallanes\", \"casos\": 624, \"codigo region\": 15}, {\"date\": \"2020-04-25\", \"region\": \"Arica y Parinacota\", \"casos\": 245, \"codigo region\": 0}, {\"date\": \"2020-04-25\", \"region\": \"Tarapac\\u00e1\", \"casos\": 143, \"codigo region\": 1}, {\"date\": \"2020-04-25\", \"region\": \"Antofagasta\", \"casos\": 391, \"codigo region\": 2}, {\"date\": \"2020-04-25\", \"region\": \"Atacama\", \"casos\": 24, \"codigo region\": 3}, {\"date\": \"2020-04-25\", \"region\": \"Coquimbo\", \"casos\": 73, \"codigo region\": 4}, {\"date\": \"2020-04-25\", \"region\": \"Valpara\\u00edso\", \"casos\": 454, \"codigo region\": 5}, {\"date\": \"2020-04-25\", \"region\": \"Metropolitana\", \"casos\": 7165, \"codigo region\": 6}, {\"date\": \"2020-04-25\", \"region\": \"O\\u2019Higgins\", \"casos\": 85, \"codigo region\": 7}, {\"date\": \"2020-04-25\", \"region\": \"Maule\", \"casos\": 350, \"codigo region\": 8}, {\"date\": \"2020-04-25\", \"region\": \"\\u00d1uble\", \"casos\": 725, \"codigo region\": 9}, {\"date\": \"2020-04-25\", \"region\": \"Biob\\u00edo\", \"casos\": 696, \"codigo region\": 10}, {\"date\": \"2020-04-25\", \"region\": \"Araucan\\u00eda\", \"casos\": 1203, \"codigo region\": 11}, {\"date\": \"2020-04-25\", \"region\": \"Los R\\u00edos\", \"casos\": 177, \"codigo region\": 12}, {\"date\": \"2020-04-25\", \"region\": \"Los Lagos\", \"casos\": 465, \"codigo region\": 13}, {\"date\": \"2020-04-25\", \"region\": \"Ays\\u00e9n\", \"casos\": 7, \"codigo region\": 14}, {\"date\": \"2020-04-25\", \"region\": \"Magallanes\", \"casos\": 655, \"codigo region\": 15}, {\"date\": \"2020-04-26\", \"region\": \"Arica y Parinacota\", \"casos\": 252, \"codigo region\": 0}, {\"date\": \"2020-04-26\", \"region\": \"Tarapac\\u00e1\", \"casos\": 156, \"codigo region\": 1}, {\"date\": \"2020-04-26\", \"region\": \"Antofagasta\", \"casos\": 443, \"codigo region\": 2}, {\"date\": \"2020-04-26\", \"region\": \"Atacama\", \"casos\": 29, \"codigo region\": 3}, {\"date\": \"2020-04-26\", \"region\": \"Coquimbo\", \"casos\": 73, \"codigo region\": 4}, {\"date\": \"2020-04-26\", \"region\": \"Valpara\\u00edso\", \"casos\": 460, \"codigo region\": 5}, {\"date\": \"2020-04-26\", \"region\": \"Metropolitana\", \"casos\": 7496, \"codigo region\": 6}, {\"date\": \"2020-04-26\", \"region\": \"O\\u2019Higgins\", \"casos\": 92, \"codigo region\": 7}, {\"date\": \"2020-04-26\", \"region\": \"Maule\", \"casos\": 354, \"codigo region\": 8}, {\"date\": \"2020-04-26\", \"region\": \"\\u00d1uble\", \"casos\": 731, \"codigo region\": 9}, {\"date\": \"2020-04-26\", \"region\": \"Biob\\u00edo\", \"casos\": 703, \"codigo region\": 10}, {\"date\": \"2020-04-26\", \"region\": \"Araucan\\u00eda\", \"casos\": 1216, \"codigo region\": 11}, {\"date\": \"2020-04-26\", \"region\": \"Los R\\u00edos\", \"casos\": 178, \"codigo region\": 12}, {\"date\": \"2020-04-26\", \"region\": \"Los Lagos\", \"casos\": 473, \"codigo region\": 13}, {\"date\": \"2020-04-26\", \"region\": \"Ays\\u00e9n\", \"casos\": 7, \"codigo region\": 14}, {\"date\": \"2020-04-26\", \"region\": \"Magallanes\", \"casos\": 668, \"codigo region\": 15}, {\"date\": \"2020-04-27\", \"region\": \"Arica y Parinacota\", \"casos\": 265, \"codigo region\": 0}, {\"date\": \"2020-04-27\", \"region\": \"Tarapac\\u00e1\", \"casos\": 164, \"codigo region\": 1}, {\"date\": \"2020-04-27\", \"region\": \"Antofagasta\", \"casos\": 457, \"codigo region\": 2}, {\"date\": \"2020-04-27\", \"region\": \"Atacama\", \"casos\": 35, \"codigo region\": 3}, {\"date\": \"2020-04-27\", \"region\": \"Coquimbo\", \"casos\": 74, \"codigo region\": 4}, {\"date\": \"2020-04-27\", \"region\": \"Valpara\\u00edso\", \"casos\": 485, \"codigo region\": 5}, {\"date\": \"2020-04-27\", \"region\": \"Metropolitana\", \"casos\": 7858, \"codigo region\": 6}, {\"date\": \"2020-04-27\", \"region\": \"O\\u2019Higgins\", \"casos\": 94, \"codigo region\": 7}, {\"date\": \"2020-04-27\", \"region\": \"Maule\", \"casos\": 363, \"codigo region\": 8}, {\"date\": \"2020-04-27\", \"region\": \"\\u00d1uble\", \"casos\": 741, \"codigo region\": 9}, {\"date\": \"2020-04-27\", \"region\": \"Biob\\u00edo\", \"casos\": 706, \"codigo region\": 10}, {\"date\": \"2020-04-27\", \"region\": \"Araucan\\u00eda\", \"casos\": 1236, \"codigo region\": 11}, {\"date\": \"2020-04-27\", \"region\": \"Los R\\u00edos\", \"casos\": 180, \"codigo region\": 12}, {\"date\": \"2020-04-27\", \"region\": \"Los Lagos\", \"casos\": 477, \"codigo region\": 13}, {\"date\": \"2020-04-27\", \"region\": \"Ays\\u00e9n\", \"casos\": 7, \"codigo region\": 14}, {\"date\": \"2020-04-27\", \"region\": \"Magallanes\", \"casos\": 671, \"codigo region\": 15}, {\"date\": \"2020-04-28\", \"region\": \"Arica y Parinacota\", \"casos\": 268, \"codigo region\": 0}, {\"date\": \"2020-04-28\", \"region\": \"Tarapac\\u00e1\", \"casos\": 169, \"codigo region\": 1}, {\"date\": \"2020-04-28\", \"region\": \"Antofagasta\", \"casos\": 481, \"codigo region\": 2}, {\"date\": \"2020-04-28\", \"region\": \"Atacama\", \"casos\": 35, \"codigo region\": 3}, {\"date\": \"2020-04-28\", \"region\": \"Coquimbo\", \"casos\": 74, \"codigo region\": 4}, {\"date\": \"2020-04-28\", \"region\": \"Valpara\\u00edso\", \"casos\": 493, \"codigo region\": 5}, {\"date\": \"2020-04-28\", \"region\": \"Metropolitana\", \"casos\": 8300, \"codigo region\": 6}, {\"date\": \"2020-04-28\", \"region\": \"O\\u2019Higgins\", \"casos\": 97, \"codigo region\": 7}, {\"date\": \"2020-04-28\", \"region\": \"Maule\", \"casos\": 384, \"codigo region\": 8}, {\"date\": \"2020-04-28\", \"region\": \"\\u00d1uble\", \"casos\": 747, \"codigo region\": 9}, {\"date\": \"2020-04-28\", \"region\": \"Biob\\u00edo\", \"casos\": 709, \"codigo region\": 10}, {\"date\": \"2020-04-28\", \"region\": \"Araucan\\u00eda\", \"casos\": 1251, \"codigo region\": 11}, {\"date\": \"2020-04-28\", \"region\": \"Los R\\u00edos\", \"casos\": 180, \"codigo region\": 12}, {\"date\": \"2020-04-28\", \"region\": \"Los Lagos\", \"casos\": 477, \"codigo region\": 13}, {\"date\": \"2020-04-28\", \"region\": \"Ays\\u00e9n\", \"casos\": 7, \"codigo region\": 14}, {\"date\": \"2020-04-28\", \"region\": \"Magallanes\", \"casos\": 693, \"codigo region\": 15}, {\"date\": \"2020-04-29\", \"region\": \"Arica y Parinacota\", \"casos\": 272, \"codigo region\": 0}, {\"date\": \"2020-04-29\", \"region\": \"Tarapac\\u00e1\", \"casos\": 183, \"codigo region\": 1}, {\"date\": \"2020-04-29\", \"region\": \"Antofagasta\", \"casos\": 514, \"codigo region\": 2}, {\"date\": \"2020-04-29\", \"region\": \"Atacama\", \"casos\": 42, \"codigo region\": 3}, {\"date\": \"2020-04-29\", \"region\": \"Coquimbo\", \"casos\": 76, \"codigo region\": 4}, {\"date\": \"2020-04-29\", \"region\": \"Valpara\\u00edso\", \"casos\": 526, \"codigo region\": 5}, {\"date\": \"2020-04-29\", \"region\": \"Metropolitana\", \"casos\": 8889, \"codigo region\": 6}, {\"date\": \"2020-04-29\", \"region\": \"O\\u2019Higgins\", \"casos\": 104, \"codigo region\": 7}, {\"date\": \"2020-04-29\", \"region\": \"Maule\", \"casos\": 392, \"codigo region\": 8}, {\"date\": \"2020-04-29\", \"region\": \"\\u00d1uble\", \"casos\": 761, \"codigo region\": 9}, {\"date\": \"2020-04-29\", \"region\": \"Biob\\u00edo\", \"casos\": 719, \"codigo region\": 10}, {\"date\": \"2020-04-29\", \"region\": \"Araucan\\u00eda\", \"casos\": 1273, \"codigo region\": 11}, {\"date\": \"2020-04-29\", \"region\": \"Los R\\u00edos\", \"casos\": 182, \"codigo region\": 12}, {\"date\": \"2020-04-29\", \"region\": \"Los Lagos\", \"casos\": 481, \"codigo region\": 13}, {\"date\": \"2020-04-29\", \"region\": \"Ays\\u00e9n\", \"casos\": 7, \"codigo region\": 14}, {\"date\": \"2020-04-29\", \"region\": \"Magallanes\", \"casos\": 714, \"codigo region\": 15}, {\"date\": \"2020-04-30\", \"region\": \"Arica y Parinacota\", \"casos\": 279, \"codigo region\": 0}, {\"date\": \"2020-04-30\", \"region\": \"Tarapac\\u00e1\", \"casos\": 198, \"codigo region\": 1}, {\"date\": \"2020-04-30\", \"region\": \"Antofagasta\", \"casos\": 546, \"codigo region\": 2}, {\"date\": \"2020-04-30\", \"region\": \"Atacama\", \"casos\": 43, \"codigo region\": 3}, {\"date\": \"2020-04-30\", \"region\": \"Coquimbo\", \"casos\": 76, \"codigo region\": 4}, {\"date\": \"2020-04-30\", \"region\": \"Valpara\\u00edso\", \"casos\": 559, \"codigo region\": 5}, {\"date\": \"2020-04-30\", \"region\": \"Metropolitana\", \"casos\": 9625, \"codigo region\": 6}, {\"date\": \"2020-04-30\", \"region\": \"O\\u2019Higgins\", \"casos\": 108, \"codigo region\": 7}, {\"date\": \"2020-04-30\", \"region\": \"Maule\", \"casos\": 393, \"codigo region\": 8}, {\"date\": \"2020-04-30\", \"region\": \"\\u00d1uble\", \"casos\": 768, \"codigo region\": 9}, {\"date\": \"2020-04-30\", \"region\": \"Biob\\u00edo\", \"casos\": 727, \"codigo region\": 10}, {\"date\": \"2020-04-30\", \"region\": \"Araucan\\u00eda\", \"casos\": 1293, \"codigo region\": 11}, {\"date\": \"2020-04-30\", \"region\": \"Los R\\u00edos\", \"casos\": 189, \"codigo region\": 12}, {\"date\": \"2020-04-30\", \"region\": \"Los Lagos\", \"casos\": 487, \"codigo region\": 13}, {\"date\": \"2020-04-30\", \"region\": \"Ays\\u00e9n\", \"casos\": 7, \"codigo region\": 14}, {\"date\": \"2020-04-30\", \"region\": \"Magallanes\", \"casos\": 725, \"codigo region\": 15}, {\"date\": \"2020-05-01\", \"region\": \"Arica y Parinacota\", \"casos\": 297, \"codigo region\": 0}, {\"date\": \"2020-05-01\", \"region\": \"Tarapac\\u00e1\", \"casos\": 200, \"codigo region\": 1}, {\"date\": \"2020-05-01\", \"region\": \"Antofagasta\", \"casos\": 589, \"codigo region\": 2}, {\"date\": \"2020-05-01\", \"region\": \"Atacama\", \"casos\": 43, \"codigo region\": 3}, {\"date\": \"2020-05-01\", \"region\": \"Coquimbo\", \"casos\": 77, \"codigo region\": 4}, {\"date\": \"2020-05-01\", \"region\": \"Valpara\\u00edso\", \"casos\": 568, \"codigo region\": 5}, {\"date\": \"2020-05-01\", \"region\": \"Metropolitana\", \"casos\": 10516, \"codigo region\": 6}, {\"date\": \"2020-05-01\", \"region\": \"O\\u2019Higgins\", \"casos\": 109, \"codigo region\": 7}, {\"date\": \"2020-05-01\", \"region\": \"Maule\", \"casos\": 394, \"codigo region\": 8}, {\"date\": \"2020-05-01\", \"region\": \"\\u00d1uble\", \"casos\": 768, \"codigo region\": 9}, {\"date\": \"2020-05-01\", \"region\": \"Biob\\u00edo\", \"casos\": 729, \"codigo region\": 10}, {\"date\": \"2020-05-01\", \"region\": \"Araucan\\u00eda\", \"casos\": 1295, \"codigo region\": 11}, {\"date\": \"2020-05-01\", \"region\": \"Los R\\u00edos\", \"casos\": 189, \"codigo region\": 12}, {\"date\": \"2020-05-01\", \"region\": \"Los Lagos\", \"casos\": 501, \"codigo region\": 13}, {\"date\": \"2020-05-01\", \"region\": \"Ays\\u00e9n\", \"casos\": 7, \"codigo region\": 14}, {\"date\": \"2020-05-01\", \"region\": \"Magallanes\", \"casos\": 726, \"codigo region\": 15}, {\"date\": \"2020-05-02\", \"region\": \"Arica y Parinacota\", \"casos\": 307, \"codigo region\": 0}, {\"date\": \"2020-05-02\", \"region\": \"Tarapac\\u00e1\", \"casos\": 212, \"codigo region\": 1}, {\"date\": \"2020-05-02\", \"region\": \"Antofagasta\", \"casos\": 679, \"codigo region\": 2}, {\"date\": \"2020-05-02\", \"region\": \"Atacama\", \"casos\": 59, \"codigo region\": 3}, {\"date\": \"2020-05-02\", \"region\": \"Coquimbo\", \"casos\": 78, \"codigo region\": 4}, {\"date\": \"2020-05-02\", \"region\": \"Valpara\\u00edso\", \"casos\": 614, \"codigo region\": 5}, {\"date\": \"2020-05-02\", \"region\": \"Metropolitana\", \"casos\": 11661, \"codigo region\": 6}, {\"date\": \"2020-05-02\", \"region\": \"O\\u2019Higgins\", \"casos\": 120, \"codigo region\": 7}, {\"date\": \"2020-05-02\", \"region\": \"Maule\", \"casos\": 396, \"codigo region\": 8}, {\"date\": \"2020-05-02\", \"region\": \"\\u00d1uble\", \"casos\": 776, \"codigo region\": 9}, {\"date\": \"2020-05-02\", \"region\": \"Biob\\u00edo\", \"casos\": 751, \"codigo region\": 10}, {\"date\": \"2020-05-02\", \"region\": \"Araucan\\u00eda\", \"casos\": 1314, \"codigo region\": 11}, {\"date\": \"2020-05-02\", \"region\": \"Los R\\u00edos\", \"casos\": 196, \"codigo region\": 12}, {\"date\": \"2020-05-02\", \"region\": \"Los Lagos\", \"casos\": 513, \"codigo region\": 13}, {\"date\": \"2020-05-02\", \"region\": \"Ays\\u00e9n\", \"casos\": 7, \"codigo region\": 14}, {\"date\": \"2020-05-02\", \"region\": \"Magallanes\", \"casos\": 752, \"codigo region\": 15}, {\"date\": \"2020-05-03\", \"region\": \"Arica y Parinacota\", \"casos\": 308, \"codigo region\": 0}, {\"date\": \"2020-05-03\", \"region\": \"Tarapac\\u00e1\", \"casos\": 272, \"codigo region\": 1}, {\"date\": \"2020-05-03\", \"region\": \"Antofagasta\", \"casos\": 740, \"codigo region\": 2}, {\"date\": \"2020-05-03\", \"region\": \"Atacama\", \"casos\": 67, \"codigo region\": 3}, {\"date\": \"2020-05-03\", \"region\": \"Coquimbo\", \"casos\": 88, \"codigo region\": 4}, {\"date\": \"2020-05-03\", \"region\": \"Valpara\\u00edso\", \"casos\": 638, \"codigo region\": 5}, {\"date\": \"2020-05-03\", \"region\": \"Metropolitana\", \"casos\": 12656, \"codigo region\": 6}, {\"date\": \"2020-05-03\", \"region\": \"O\\u2019Higgins\", \"casos\": 125, \"codigo region\": 7}, {\"date\": \"2020-05-03\", \"region\": \"Maule\", \"casos\": 397, \"codigo region\": 8}, {\"date\": \"2020-05-03\", \"region\": \"\\u00d1uble\", \"casos\": 786, \"codigo region\": 9}, {\"date\": \"2020-05-03\", \"region\": \"Biob\\u00edo\", \"casos\": 759, \"codigo region\": 10}, {\"date\": \"2020-05-03\", \"region\": \"Araucan\\u00eda\", \"casos\": 1328, \"codigo region\": 11}, {\"date\": \"2020-05-03\", \"region\": \"Los R\\u00edos\", \"casos\": 198, \"codigo region\": 12}, {\"date\": \"2020-05-03\", \"region\": \"Los Lagos\", \"casos\": 517, \"codigo region\": 13}, {\"date\": \"2020-05-03\", \"region\": \"Ays\\u00e9n\", \"casos\": 7, \"codigo region\": 14}, {\"date\": \"2020-05-03\", \"region\": \"Magallanes\", \"casos\": 777, \"codigo region\": 15}, {\"date\": \"2020-05-04\", \"region\": \"Arica y Parinacota\", \"casos\": 308, \"codigo region\": 0}, {\"date\": \"2020-05-04\", \"region\": \"Tarapac\\u00e1\", \"casos\": 295, \"codigo region\": 1}, {\"date\": \"2020-05-04\", \"region\": \"Antofagasta\", \"casos\": 760, \"codigo region\": 2}, {\"date\": \"2020-05-04\", \"region\": \"Atacama\", \"casos\": 70, \"codigo region\": 3}, {\"date\": \"2020-05-04\", \"region\": \"Coquimbo\", \"casos\": 91, \"codigo region\": 4}, {\"date\": \"2020-05-04\", \"region\": \"Valpara\\u00edso\", \"casos\": 656, \"codigo region\": 5}, {\"date\": \"2020-05-04\", \"region\": \"Metropolitana\", \"casos\": 13528, \"codigo region\": 6}, {\"date\": \"2020-05-04\", \"region\": \"O\\u2019Higgins\", \"casos\": 131, \"codigo region\": 7}, {\"date\": \"2020-05-04\", \"region\": \"Maule\", \"casos\": 399, \"codigo region\": 8}, {\"date\": \"2020-05-04\", \"region\": \"\\u00d1uble\", \"casos\": 787, \"codigo region\": 9}, {\"date\": \"2020-05-04\", \"region\": \"Biob\\u00edo\", \"casos\": 762, \"codigo region\": 10}, {\"date\": \"2020-05-04\", \"region\": \"Araucan\\u00eda\", \"casos\": 1331, \"codigo region\": 11}, {\"date\": \"2020-05-04\", \"region\": \"Los R\\u00edos\", \"casos\": 199, \"codigo region\": 12}, {\"date\": \"2020-05-04\", \"region\": \"Los Lagos\", \"casos\": 524, \"codigo region\": 13}, {\"date\": \"2020-05-04\", \"region\": \"Ays\\u00e9n\", \"casos\": 7, \"codigo region\": 14}, {\"date\": \"2020-05-04\", \"region\": \"Magallanes\", \"casos\": 795, \"codigo region\": 15}, {\"date\": \"2020-05-05\", \"region\": \"Arica y Parinacota\", \"casos\": 315, \"codigo region\": 0}, {\"date\": \"2020-05-05\", \"region\": \"Tarapac\\u00e1\", \"casos\": 322, \"codigo region\": 1}, {\"date\": \"2020-05-05\", \"region\": \"Antofagasta\", \"casos\": 811, \"codigo region\": 2}, {\"date\": \"2020-05-05\", \"region\": \"Atacama\", \"casos\": 78, \"codigo region\": 3}, {\"date\": \"2020-05-05\", \"region\": \"Coquimbo\", \"casos\": 97, \"codigo region\": 4}, {\"date\": \"2020-05-05\", \"region\": \"Valpara\\u00edso\", \"casos\": 687, \"codigo region\": 5}, {\"date\": \"2020-05-05\", \"region\": \"Metropolitana\", \"casos\": 14707, \"codigo region\": 6}, {\"date\": \"2020-05-05\", \"region\": \"O\\u2019Higgins\", \"casos\": 136, \"codigo region\": 7}, {\"date\": \"2020-05-05\", \"region\": \"Maule\", \"casos\": 408, \"codigo region\": 8}, {\"date\": \"2020-05-05\", \"region\": \"\\u00d1uble\", \"casos\": 789, \"codigo region\": 9}, {\"date\": \"2020-05-05\", \"region\": \"Biob\\u00edo\", \"casos\": 774, \"codigo region\": 10}, {\"date\": \"2020-05-05\", \"region\": \"Araucan\\u00eda\", \"casos\": 1352, \"codigo region\": 11}, {\"date\": \"2020-05-05\", \"region\": \"Los R\\u00edos\", \"casos\": 199, \"codigo region\": 12}, {\"date\": \"2020-05-05\", \"region\": \"Los Lagos\", \"casos\": 525, \"codigo region\": 13}, {\"date\": \"2020-05-05\", \"region\": \"Ays\\u00e9n\", \"casos\": 7, \"codigo region\": 14}, {\"date\": \"2020-05-05\", \"region\": \"Magallanes\", \"casos\": 809, \"codigo region\": 15}, {\"date\": \"2020-05-06\", \"region\": \"Arica y Parinacota\", \"casos\": 318, \"codigo region\": 0}, {\"date\": \"2020-05-06\", \"region\": \"Tarapac\\u00e1\", \"casos\": 339, \"codigo region\": 1}, {\"date\": \"2020-05-06\", \"region\": \"Antofagasta\", \"casos\": 855, \"codigo region\": 2}, {\"date\": \"2020-05-06\", \"region\": \"Atacama\", \"casos\": 80, \"codigo region\": 3}, {\"date\": \"2020-05-06\", \"region\": \"Coquimbo\", \"casos\": 97, \"codigo region\": 4}, {\"date\": \"2020-05-06\", \"region\": \"Valpara\\u00edso\", \"casos\": 716, \"codigo region\": 5}, {\"date\": \"2020-05-06\", \"region\": \"Metropolitana\", \"casos\": 15582, \"codigo region\": 6}, {\"date\": \"2020-05-06\", \"region\": \"O\\u2019Higgins\", \"casos\": 145, \"codigo region\": 7}, {\"date\": \"2020-05-06\", \"region\": \"Maule\", \"casos\": 408, \"codigo region\": 8}, {\"date\": \"2020-05-06\", \"region\": \"\\u00d1uble\", \"casos\": 791, \"codigo region\": 9}, {\"date\": \"2020-05-06\", \"region\": \"Biob\\u00edo\", \"casos\": 789, \"codigo region\": 10}, {\"date\": \"2020-05-06\", \"region\": \"Araucan\\u00eda\", \"casos\": 1362, \"codigo region\": 11}, {\"date\": \"2020-05-06\", \"region\": \"Los R\\u00edos\", \"casos\": 200, \"codigo region\": 12}, {\"date\": \"2020-05-06\", \"region\": \"Los Lagos\", \"casos\": 541, \"codigo region\": 13}, {\"date\": \"2020-05-06\", \"region\": \"Ays\\u00e9n\", \"casos\": 7, \"codigo region\": 14}, {\"date\": \"2020-05-06\", \"region\": \"Magallanes\", \"casos\": 818, \"codigo region\": 15}, {\"date\": \"2020-05-07\", \"region\": \"Arica y Parinacota\", \"casos\": 325, \"codigo region\": 0}, {\"date\": \"2020-05-07\", \"region\": \"Tarapac\\u00e1\", \"casos\": 417, \"codigo region\": 1}, {\"date\": \"2020-05-07\", \"region\": \"Antofagasta\", \"casos\": 895, \"codigo region\": 2}, {\"date\": \"2020-05-07\", \"region\": \"Atacama\", \"casos\": 87, \"codigo region\": 3}, {\"date\": \"2020-05-07\", \"region\": \"Coquimbo\", \"casos\": 100, \"codigo region\": 4}, {\"date\": \"2020-05-07\", \"region\": \"Valpara\\u00edso\", \"casos\": 781, \"codigo region\": 5}, {\"date\": \"2020-05-07\", \"region\": \"Metropolitana\", \"casos\": 16828, \"codigo region\": 6}, {\"date\": \"2020-05-07\", \"region\": \"O\\u2019Higgins\", \"casos\": 151, \"codigo region\": 7}, {\"date\": \"2020-05-07\", \"region\": \"Maule\", \"casos\": 414, \"codigo region\": 8}, {\"date\": \"2020-05-07\", \"region\": \"\\u00d1uble\", \"casos\": 793, \"codigo region\": 9}, {\"date\": \"2020-05-07\", \"region\": \"Biob\\u00edo\", \"casos\": 814, \"codigo region\": 10}, {\"date\": \"2020-05-07\", \"region\": \"Araucan\\u00eda\", \"casos\": 1385, \"codigo region\": 11}, {\"date\": \"2020-05-07\", \"region\": \"Los R\\u00edos\", \"casos\": 202, \"codigo region\": 12}, {\"date\": \"2020-05-07\", \"region\": \"Los Lagos\", \"casos\": 545, \"codigo region\": 13}, {\"date\": \"2020-05-07\", \"region\": \"Ays\\u00e9n\", \"casos\": 8, \"codigo region\": 14}, {\"date\": \"2020-05-07\", \"region\": \"Magallanes\", \"casos\": 836, \"codigo region\": 15}]}}, {\"mode\": \"vega-lite\"});\n",
       "</script>"
      ],
      "text/plain": [
       "alt.HConcatChart(...)"
      ]
     },
     "execution_count": 40,
     "metadata": {},
     "output_type": "execute_result"
    }
   ],
   "source": [
    "#hide_input\n",
    "input_dropdown = alt.binding_select(options=data['region'].unique())\n",
    "selection1 = alt.selection_single(fields=['region'], bind=input_dropdown, name=' ')\n",
    "selection2 = alt.selection_multi(fields=['region'], on='mouseover')\n",
    "color = alt.condition(selection1 | selection2,\n",
    "                    alt.Color('region:N', scale=alt.Scale(scheme='tableau20'), legend=None),\n",
    "                    alt.value('lightgray'))\n",
    "\n",
    "chart = alt.Chart(data).mark_bar().encode(\n",
    "    x=alt.X('date:O', axis=alt.Axis(title='Fecha (año-mes-día)')),\n",
    "    y=alt.Y('casos', axis=alt.Axis(title='Casos confirmados')),\n",
    "    color=color,\n",
    "    tooltip=['date', 'region', 'casos'],\n",
    "    order=alt.Order(\n",
    "    # Sort the segments of the bars by this field\n",
    "    'codigo region',\n",
    "    sort='descending'\n",
    "    )\n",
    ").properties(\n",
    "    title='COVID-19 en Chile: Total de casos confirmados por región'\n",
    ").add_selection(\n",
    "    selection1, selection2\n",
    ").transform_filter(\n",
    "    selection1\n",
    ")\n",
    "\n",
    "legend = alt.Chart(data).mark_point().encode(\n",
    "    y=alt.Y('region:N', axis=alt.Axis(orient='right'), sort=regiones),\n",
    "    color=color\n",
    ").add_selection(\n",
    "    selection1, selection2\n",
    ")\n",
    "\n",
    "chart.properties(width=600, height=400) | legend"
   ]
  },
  {
   "cell_type": "markdown",
   "metadata": {},
   "source": [
    "Fuente: [Ministerio de Ciencia](https://github.com/MinCiencia/Datos-COVID19)"
   ]
  },
  {
   "cell_type": "markdown",
   "metadata": {},
   "source": [
    "Inspirado del [tweet](https://twitter.com/NachoToledoR/status/1244631395781218306) de [@NachoToledoR](https://twitter.com/NachoToledoR)."
   ]
  },
  {
   "cell_type": "markdown",
   "metadata": {},
   "source": [
    "# Evolución de fallecidos confirmados por región"
   ]
  },
  {
   "cell_type": "code",
   "execution_count": 41,
   "metadata": {},
   "outputs": [],
   "source": [
    "#hide\n",
    "data = pd.DataFrame()\n",
    "data_raw = pd.read_csv(\n",
    "    \"https://raw.githubusercontent.com/MinCiencia/Datos-COVID19/master/output/producto4/2020-03-24-CasosConfirmados-totalRegional.csv\",\n",
    "    index_col='Region')\n",
    "data['2020-03-24'] = data_raw['Fallecidos']"
   ]
  },
  {
   "cell_type": "code",
   "execution_count": 42,
   "metadata": {},
   "outputs": [],
   "source": [
    "#hide\n",
    "first_death_date = '2020-03-24'\n",
    "total_days = (pd.to_datetime(today)-pd.to_datetime(first_death_date)).days"
   ]
  },
  {
   "cell_type": "code",
   "execution_count": 43,
   "metadata": {},
   "outputs": [],
   "source": [
    "#hide\n",
    "for i in np.arange(total_days+1):\n",
    "  date = (pd.to_datetime(first_death_date)+pd.DateOffset(i)).strftime('%Y-%m-%d')\n",
    "  s = \"https://raw.githubusercontent.com/MinCiencia/Datos-COVID19/master/output/producto4/\" + date + \"-CasosConfirmados-totalRegional.csv\"\n",
    "  data_by_date = pd.read_csv(s)\n",
    "  if 'Fallecidos' in data_by_date.columns:\n",
    "    data[date] = data_by_date[\"Fallecidos\"].values\n",
    "  elif 'Casos fallecidos' in data_by_date.columns:\n",
    "    data[date] = data_by_date[\"Casos fallecidos\"].values\n",
    "  else:\n",
    "    data[date] = data_by_date[\" Casos fallecidos\"].values"
   ]
  },
  {
   "cell_type": "code",
   "execution_count": 44,
   "metadata": {},
   "outputs": [],
   "source": [
    "#hide\n",
    "data = data.drop(\"Total\")"
   ]
  },
  {
   "cell_type": "code",
   "execution_count": 45,
   "metadata": {},
   "outputs": [],
   "source": [
    "#hide\n",
    "new_data = pd.DataFrame()\n",
    "i = 0\n",
    "for date in data.keys():\n",
    "    for n, region in enumerate(data.index):\n",
    "        new_data[i] = date, region, data[date].loc[region], n\n",
    "        i += 1"
   ]
  },
  {
   "cell_type": "code",
   "execution_count": 46,
   "metadata": {},
   "outputs": [],
   "source": [
    "#hide\n",
    "data = data.reset_index()\n",
    "regiones = data['Region'].values\n",
    "new_data = new_data.T\n",
    "new_data = new_data.rename(columns={0: \"date\", 1: \"region\", 2: \"fallecidos\", 3: \"codigo region\"})"
   ]
  },
  {
   "cell_type": "code",
   "execution_count": 47,
   "metadata": {},
   "outputs": [],
   "source": [
    "#hide\n",
    "new_data[\"fallecidos\"] = new_data[\"fallecidos\"].astype(int)"
   ]
  },
  {
   "cell_type": "code",
   "execution_count": 48,
   "metadata": {},
   "outputs": [
    {
     "data": {
      "text/html": [
       "\n",
       "<div id=\"altair-viz-aabd0cbc2d1440d38721f81a27265dfe\"></div>\n",
       "<script type=\"text/javascript\">\n",
       "  (function(spec, embedOpt){\n",
       "    let outputDiv = document.currentScript.previousElementSibling;\n",
       "    if (outputDiv.id !== \"altair-viz-aabd0cbc2d1440d38721f81a27265dfe\") {\n",
       "      outputDiv = document.getElementById(\"altair-viz-aabd0cbc2d1440d38721f81a27265dfe\");\n",
       "    }\n",
       "    const paths = {\n",
       "      \"vega\": \"https://cdn.jsdelivr.net/npm//vega@5?noext\",\n",
       "      \"vega-lib\": \"https://cdn.jsdelivr.net/npm//vega-lib?noext\",\n",
       "      \"vega-lite\": \"https://cdn.jsdelivr.net/npm//vega-lite@4.8.1?noext\",\n",
       "      \"vega-embed\": \"https://cdn.jsdelivr.net/npm//vega-embed@6?noext\",\n",
       "    };\n",
       "\n",
       "    function loadScript(lib) {\n",
       "      return new Promise(function(resolve, reject) {\n",
       "        var s = document.createElement('script');\n",
       "        s.src = paths[lib];\n",
       "        s.async = true;\n",
       "        s.onload = () => resolve(paths[lib]);\n",
       "        s.onerror = () => reject(`Error loading script: ${paths[lib]}`);\n",
       "        document.getElementsByTagName(\"head\")[0].appendChild(s);\n",
       "      });\n",
       "    }\n",
       "\n",
       "    function showError(err) {\n",
       "      outputDiv.innerHTML = `<div class=\"error\" style=\"color:red;\">${err}</div>`;\n",
       "      throw err;\n",
       "    }\n",
       "\n",
       "    function displayChart(vegaEmbed) {\n",
       "      vegaEmbed(outputDiv, spec, embedOpt)\n",
       "        .catch(err => showError(`Javascript Error: ${err.message}<br>This usually means there's a typo in your chart specification. See the javascript console for the full traceback.`));\n",
       "    }\n",
       "\n",
       "    if(typeof define === \"function\" && define.amd) {\n",
       "      requirejs.config({paths});\n",
       "      require([\"vega-embed\"], displayChart, err => showError(`Error loading script: ${err.message}`));\n",
       "    } else if (typeof vegaEmbed === \"function\") {\n",
       "      displayChart(vegaEmbed);\n",
       "    } else {\n",
       "      loadScript(\"vega\")\n",
       "        .then(() => loadScript(\"vega-lite\"))\n",
       "        .then(() => loadScript(\"vega-embed\"))\n",
       "        .catch(showError)\n",
       "        .then(() => displayChart(vegaEmbed));\n",
       "    }\n",
       "  })({\"config\": {\"view\": {\"continuousWidth\": 400, \"continuousHeight\": 300}}, \"hconcat\": [{\"mark\": \"bar\", \"encoding\": {\"color\": {\"condition\": {\"type\": \"nominal\", \"field\": \"region\", \"legend\": null, \"scale\": {\"scheme\": \"tableau20\"}, \"selection\": {\"or\": [\" \", \"selector002\"]}}, \"value\": \"lightgray\"}, \"order\": {\"type\": \"quantitative\", \"field\": \"codigo region\", \"sort\": \"descending\"}, \"tooltip\": [{\"type\": \"nominal\", \"field\": \"date\"}, {\"type\": \"nominal\", \"field\": \"region\"}, {\"type\": \"quantitative\", \"field\": \"fallecidos\"}], \"x\": {\"type\": \"ordinal\", \"axis\": {\"title\": \"Fecha (a\\u00f1o-mes-d\\u00eda)\"}, \"field\": \"date\"}, \"y\": {\"type\": \"quantitative\", \"axis\": {\"title\": \"Fallecidos confirmados\"}, \"field\": \"fallecidos\"}}, \"height\": 400, \"selection\": {\" \": {\"type\": \"single\", \"fields\": [\"region\"], \"bind\": {\"input\": \"select\", \"options\": [\"Arica y Parinacota\", \"Tarapac\\u00e1\", \"Antofagasta\", \"Atacama\", \"Coquimbo\", \"Valpara\\u00edso\", \"Metropolitana\", \"O\\u2019Higgins\", \"Maule\", \"\\u00d1uble\", \"Biob\\u00edo\", \"Araucan\\u00eda\", \"Los R\\u00edos\", \"Los Lagos\", \"Ays\\u00e9n\", \"Magallanes\"]}}, \"selector002\": {\"type\": \"multi\", \"fields\": [\"region\"], \"on\": \"mouseover\"}}, \"title\": \"COVID-19 en Chile: Total de fallecidos confirmados por regi\\u00f3n\", \"transform\": [{\"filter\": {\"selection\": \" \"}}], \"width\": 600}, {\"mark\": \"point\", \"encoding\": {\"color\": {\"condition\": {\"type\": \"nominal\", \"field\": \"region\", \"legend\": null, \"scale\": {\"scheme\": \"tableau20\"}, \"selection\": {\"or\": [\" \", \"selector002\"]}}, \"value\": \"lightgray\"}, \"y\": {\"type\": \"nominal\", \"axis\": {\"orient\": \"right\"}, \"field\": \"region\", \"sort\": [\"Arica y Parinacota\", \"Tarapac\\u00e1\", \"Antofagasta\", \"Atacama\", \"Coquimbo\", \"Valpara\\u00edso\", \"Metropolitana\", \"O\\u2019Higgins\", \"Maule\", \"\\u00d1uble\", \"Biob\\u00edo\", \"Araucan\\u00eda\", \"Los R\\u00edos\", \"Los Lagos\", \"Ays\\u00e9n\", \"Magallanes\"]}}, \"selection\": {\" \": {\"type\": \"single\", \"fields\": [\"region\"], \"bind\": {\"input\": \"select\", \"options\": [\"Arica y Parinacota\", \"Tarapac\\u00e1\", \"Antofagasta\", \"Atacama\", \"Coquimbo\", \"Valpara\\u00edso\", \"Metropolitana\", \"O\\u2019Higgins\", \"Maule\", \"\\u00d1uble\", \"Biob\\u00edo\", \"Araucan\\u00eda\", \"Los R\\u00edos\", \"Los Lagos\", \"Ays\\u00e9n\", \"Magallanes\"]}}, \"selector002\": {\"type\": \"multi\", \"fields\": [\"region\"], \"on\": \"mouseover\"}}}], \"data\": {\"name\": \"data-5dbffa7589eac455ca2ae43ce23556b0\"}, \"$schema\": \"https://vega.github.io/schema/vega-lite/v4.8.1.json\", \"datasets\": {\"data-5dbffa7589eac455ca2ae43ce23556b0\": [{\"date\": \"2020-03-24\", \"region\": \"Arica y Parinacota\", \"fallecidos\": 0, \"codigo region\": 0}, {\"date\": \"2020-03-24\", \"region\": \"Tarapac\\u00e1\", \"fallecidos\": 0, \"codigo region\": 1}, {\"date\": \"2020-03-24\", \"region\": \"Antofagasta\", \"fallecidos\": 0, \"codigo region\": 2}, {\"date\": \"2020-03-24\", \"region\": \"Atacama\", \"fallecidos\": 0, \"codigo region\": 3}, {\"date\": \"2020-03-24\", \"region\": \"Coquimbo\", \"fallecidos\": 0, \"codigo region\": 4}, {\"date\": \"2020-03-24\", \"region\": \"Valpara\\u00edso\", \"fallecidos\": 0, \"codigo region\": 5}, {\"date\": \"2020-03-24\", \"region\": \"Metropolitana\", \"fallecidos\": 2, \"codigo region\": 6}, {\"date\": \"2020-03-24\", \"region\": \"O\\u2019Higgins\", \"fallecidos\": 0, \"codigo region\": 7}, {\"date\": \"2020-03-24\", \"region\": \"Maule\", \"fallecidos\": 0, \"codigo region\": 8}, {\"date\": \"2020-03-24\", \"region\": \"\\u00d1uble\", \"fallecidos\": 0, \"codigo region\": 9}, {\"date\": \"2020-03-24\", \"region\": \"Biob\\u00edo\", \"fallecidos\": 0, \"codigo region\": 10}, {\"date\": \"2020-03-24\", \"region\": \"Araucan\\u00eda\", \"fallecidos\": 0, \"codigo region\": 11}, {\"date\": \"2020-03-24\", \"region\": \"Los R\\u00edos\", \"fallecidos\": 0, \"codigo region\": 12}, {\"date\": \"2020-03-24\", \"region\": \"Los Lagos\", \"fallecidos\": 0, \"codigo region\": 13}, {\"date\": \"2020-03-24\", \"region\": \"Ays\\u00e9n\", \"fallecidos\": 0, \"codigo region\": 14}, {\"date\": \"2020-03-24\", \"region\": \"Magallanes\", \"fallecidos\": 0, \"codigo region\": 15}, {\"date\": \"2020-03-25\", \"region\": \"Arica y Parinacota\", \"fallecidos\": 0, \"codigo region\": 0}, {\"date\": \"2020-03-25\", \"region\": \"Tarapac\\u00e1\", \"fallecidos\": 0, \"codigo region\": 1}, {\"date\": \"2020-03-25\", \"region\": \"Antofagasta\", \"fallecidos\": 0, \"codigo region\": 2}, {\"date\": \"2020-03-25\", \"region\": \"Atacama\", \"fallecidos\": 0, \"codigo region\": 3}, {\"date\": \"2020-03-25\", \"region\": \"Coquimbo\", \"fallecidos\": 0, \"codigo region\": 4}, {\"date\": \"2020-03-25\", \"region\": \"Valpara\\u00edso\", \"fallecidos\": 0, \"codigo region\": 5}, {\"date\": \"2020-03-25\", \"region\": \"Metropolitana\", \"fallecidos\": 2, \"codigo region\": 6}, {\"date\": \"2020-03-25\", \"region\": \"O\\u2019Higgins\", \"fallecidos\": 0, \"codigo region\": 7}, {\"date\": \"2020-03-25\", \"region\": \"Maule\", \"fallecidos\": 0, \"codigo region\": 8}, {\"date\": \"2020-03-25\", \"region\": \"\\u00d1uble\", \"fallecidos\": 0, \"codigo region\": 9}, {\"date\": \"2020-03-25\", \"region\": \"Biob\\u00edo\", \"fallecidos\": 1, \"codigo region\": 10}, {\"date\": \"2020-03-25\", \"region\": \"Araucan\\u00eda\", \"fallecidos\": 0, \"codigo region\": 11}, {\"date\": \"2020-03-25\", \"region\": \"Los R\\u00edos\", \"fallecidos\": 0, \"codigo region\": 12}, {\"date\": \"2020-03-25\", \"region\": \"Los Lagos\", \"fallecidos\": 0, \"codigo region\": 13}, {\"date\": \"2020-03-25\", \"region\": \"Ays\\u00e9n\", \"fallecidos\": 0, \"codigo region\": 14}, {\"date\": \"2020-03-25\", \"region\": \"Magallanes\", \"fallecidos\": 0, \"codigo region\": 15}, {\"date\": \"2020-03-26\", \"region\": \"Arica y Parinacota\", \"fallecidos\": 0, \"codigo region\": 0}, {\"date\": \"2020-03-26\", \"region\": \"Tarapac\\u00e1\", \"fallecidos\": 0, \"codigo region\": 1}, {\"date\": \"2020-03-26\", \"region\": \"Antofagasta\", \"fallecidos\": 0, \"codigo region\": 2}, {\"date\": \"2020-03-26\", \"region\": \"Atacama\", \"fallecidos\": 0, \"codigo region\": 3}, {\"date\": \"2020-03-26\", \"region\": \"Coquimbo\", \"fallecidos\": 0, \"codigo region\": 4}, {\"date\": \"2020-03-26\", \"region\": \"Valpara\\u00edso\", \"fallecidos\": 0, \"codigo region\": 5}, {\"date\": \"2020-03-26\", \"region\": \"Metropolitana\", \"fallecidos\": 3, \"codigo region\": 6}, {\"date\": \"2020-03-26\", \"region\": \"O\\u2019Higgins\", \"fallecidos\": 0, \"codigo region\": 7}, {\"date\": \"2020-03-26\", \"region\": \"Maule\", \"fallecidos\": 0, \"codigo region\": 8}, {\"date\": \"2020-03-26\", \"region\": \"\\u00d1uble\", \"fallecidos\": 0, \"codigo region\": 9}, {\"date\": \"2020-03-26\", \"region\": \"Biob\\u00edo\", \"fallecidos\": 1, \"codigo region\": 10}, {\"date\": \"2020-03-26\", \"region\": \"Araucan\\u00eda\", \"fallecidos\": 0, \"codigo region\": 11}, {\"date\": \"2020-03-26\", \"region\": \"Los R\\u00edos\", \"fallecidos\": 0, \"codigo region\": 12}, {\"date\": \"2020-03-26\", \"region\": \"Los Lagos\", \"fallecidos\": 0, \"codigo region\": 13}, {\"date\": \"2020-03-26\", \"region\": \"Ays\\u00e9n\", \"fallecidos\": 0, \"codigo region\": 14}, {\"date\": \"2020-03-26\", \"region\": \"Magallanes\", \"fallecidos\": 0, \"codigo region\": 15}, {\"date\": \"2020-03-27\", \"region\": \"Arica y Parinacota\", \"fallecidos\": 0, \"codigo region\": 0}, {\"date\": \"2020-03-27\", \"region\": \"Tarapac\\u00e1\", \"fallecidos\": 0, \"codigo region\": 1}, {\"date\": \"2020-03-27\", \"region\": \"Antofagasta\", \"fallecidos\": 0, \"codigo region\": 2}, {\"date\": \"2020-03-27\", \"region\": \"Atacama\", \"fallecidos\": 0, \"codigo region\": 3}, {\"date\": \"2020-03-27\", \"region\": \"Coquimbo\", \"fallecidos\": 0, \"codigo region\": 4}, {\"date\": \"2020-03-27\", \"region\": \"Valpara\\u00edso\", \"fallecidos\": 0, \"codigo region\": 5}, {\"date\": \"2020-03-27\", \"region\": \"Metropolitana\", \"fallecidos\": 3, \"codigo region\": 6}, {\"date\": \"2020-03-27\", \"region\": \"O\\u2019Higgins\", \"fallecidos\": 0, \"codigo region\": 7}, {\"date\": \"2020-03-27\", \"region\": \"Maule\", \"fallecidos\": 0, \"codigo region\": 8}, {\"date\": \"2020-03-27\", \"region\": \"\\u00d1uble\", \"fallecidos\": 0, \"codigo region\": 9}, {\"date\": \"2020-03-27\", \"region\": \"Biob\\u00edo\", \"fallecidos\": 2, \"codigo region\": 10}, {\"date\": \"2020-03-27\", \"region\": \"Araucan\\u00eda\", \"fallecidos\": 0, \"codigo region\": 11}, {\"date\": \"2020-03-27\", \"region\": \"Los R\\u00edos\", \"fallecidos\": 0, \"codigo region\": 12}, {\"date\": \"2020-03-27\", \"region\": \"Los Lagos\", \"fallecidos\": 0, \"codigo region\": 13}, {\"date\": \"2020-03-27\", \"region\": \"Ays\\u00e9n\", \"fallecidos\": 0, \"codigo region\": 14}, {\"date\": \"2020-03-27\", \"region\": \"Magallanes\", \"fallecidos\": 0, \"codigo region\": 15}, {\"date\": \"2020-03-28\", \"region\": \"Arica y Parinacota\", \"fallecidos\": 0, \"codigo region\": 0}, {\"date\": \"2020-03-28\", \"region\": \"Tarapac\\u00e1\", \"fallecidos\": 0, \"codigo region\": 1}, {\"date\": \"2020-03-28\", \"region\": \"Antofagasta\", \"fallecidos\": 0, \"codigo region\": 2}, {\"date\": \"2020-03-28\", \"region\": \"Atacama\", \"fallecidos\": 0, \"codigo region\": 3}, {\"date\": \"2020-03-28\", \"region\": \"Coquimbo\", \"fallecidos\": 0, \"codigo region\": 4}, {\"date\": \"2020-03-28\", \"region\": \"Valpara\\u00edso\", \"fallecidos\": 0, \"codigo region\": 5}, {\"date\": \"2020-03-28\", \"region\": \"Metropolitana\", \"fallecidos\": 3, \"codigo region\": 6}, {\"date\": \"2020-03-28\", \"region\": \"O\\u2019Higgins\", \"fallecidos\": 0, \"codigo region\": 7}, {\"date\": \"2020-03-28\", \"region\": \"Maule\", \"fallecidos\": 0, \"codigo region\": 8}, {\"date\": \"2020-03-28\", \"region\": \"\\u00d1uble\", \"fallecidos\": 0, \"codigo region\": 9}, {\"date\": \"2020-03-28\", \"region\": \"Biob\\u00edo\", \"fallecidos\": 2, \"codigo region\": 10}, {\"date\": \"2020-03-28\", \"region\": \"Araucan\\u00eda\", \"fallecidos\": 1, \"codigo region\": 11}, {\"date\": \"2020-03-28\", \"region\": \"Los R\\u00edos\", \"fallecidos\": 0, \"codigo region\": 12}, {\"date\": \"2020-03-28\", \"region\": \"Los Lagos\", \"fallecidos\": 0, \"codigo region\": 13}, {\"date\": \"2020-03-28\", \"region\": \"Ays\\u00e9n\", \"fallecidos\": 0, \"codigo region\": 14}, {\"date\": \"2020-03-28\", \"region\": \"Magallanes\", \"fallecidos\": 0, \"codigo region\": 15}, {\"date\": \"2020-03-29\", \"region\": \"Arica y Parinacota\", \"fallecidos\": 0, \"codigo region\": 0}, {\"date\": \"2020-03-29\", \"region\": \"Tarapac\\u00e1\", \"fallecidos\": 0, \"codigo region\": 1}, {\"date\": \"2020-03-29\", \"region\": \"Antofagasta\", \"fallecidos\": 0, \"codigo region\": 2}, {\"date\": \"2020-03-29\", \"region\": \"Atacama\", \"fallecidos\": 0, \"codigo region\": 3}, {\"date\": \"2020-03-29\", \"region\": \"Coquimbo\", \"fallecidos\": 0, \"codigo region\": 4}, {\"date\": \"2020-03-29\", \"region\": \"Valpara\\u00edso\", \"fallecidos\": 0, \"codigo region\": 5}, {\"date\": \"2020-03-29\", \"region\": \"Metropolitana\", \"fallecidos\": 3, \"codigo region\": 6}, {\"date\": \"2020-03-29\", \"region\": \"O\\u2019Higgins\", \"fallecidos\": 0, \"codigo region\": 7}, {\"date\": \"2020-03-29\", \"region\": \"Maule\", \"fallecidos\": 0, \"codigo region\": 8}, {\"date\": \"2020-03-29\", \"region\": \"\\u00d1uble\", \"fallecidos\": 0, \"codigo region\": 9}, {\"date\": \"2020-03-29\", \"region\": \"Biob\\u00edo\", \"fallecidos\": 2, \"codigo region\": 10}, {\"date\": \"2020-03-29\", \"region\": \"Araucan\\u00eda\", \"fallecidos\": 2, \"codigo region\": 11}, {\"date\": \"2020-03-29\", \"region\": \"Los R\\u00edos\", \"fallecidos\": 0, \"codigo region\": 12}, {\"date\": \"2020-03-29\", \"region\": \"Los Lagos\", \"fallecidos\": 0, \"codigo region\": 13}, {\"date\": \"2020-03-29\", \"region\": \"Ays\\u00e9n\", \"fallecidos\": 0, \"codigo region\": 14}, {\"date\": \"2020-03-29\", \"region\": \"Magallanes\", \"fallecidos\": 0, \"codigo region\": 15}, {\"date\": \"2020-03-30\", \"region\": \"Arica y Parinacota\", \"fallecidos\": 0, \"codigo region\": 0}, {\"date\": \"2020-03-30\", \"region\": \"Tarapac\\u00e1\", \"fallecidos\": 0, \"codigo region\": 1}, {\"date\": \"2020-03-30\", \"region\": \"Antofagasta\", \"fallecidos\": 0, \"codigo region\": 2}, {\"date\": \"2020-03-30\", \"region\": \"Atacama\", \"fallecidos\": 0, \"codigo region\": 3}, {\"date\": \"2020-03-30\", \"region\": \"Coquimbo\", \"fallecidos\": 0, \"codigo region\": 4}, {\"date\": \"2020-03-30\", \"region\": \"Valpara\\u00edso\", \"fallecidos\": 0, \"codigo region\": 5}, {\"date\": \"2020-03-30\", \"region\": \"Metropolitana\", \"fallecidos\": 3, \"codigo region\": 6}, {\"date\": \"2020-03-30\", \"region\": \"O\\u2019Higgins\", \"fallecidos\": 0, \"codigo region\": 7}, {\"date\": \"2020-03-30\", \"region\": \"Maule\", \"fallecidos\": 1, \"codigo region\": 8}, {\"date\": \"2020-03-30\", \"region\": \"\\u00d1uble\", \"fallecidos\": 0, \"codigo region\": 9}, {\"date\": \"2020-03-30\", \"region\": \"Biob\\u00edo\", \"fallecidos\": 2, \"codigo region\": 10}, {\"date\": \"2020-03-30\", \"region\": \"Araucan\\u00eda\", \"fallecidos\": 2, \"codigo region\": 11}, {\"date\": \"2020-03-30\", \"region\": \"Los R\\u00edos\", \"fallecidos\": 0, \"codigo region\": 12}, {\"date\": \"2020-03-30\", \"region\": \"Los Lagos\", \"fallecidos\": 0, \"codigo region\": 13}, {\"date\": \"2020-03-30\", \"region\": \"Ays\\u00e9n\", \"fallecidos\": 0, \"codigo region\": 14}, {\"date\": \"2020-03-30\", \"region\": \"Magallanes\", \"fallecidos\": 0, \"codigo region\": 15}, {\"date\": \"2020-03-31\", \"region\": \"Arica y Parinacota\", \"fallecidos\": 0, \"codigo region\": 0}, {\"date\": \"2020-03-31\", \"region\": \"Tarapac\\u00e1\", \"fallecidos\": 0, \"codigo region\": 1}, {\"date\": \"2020-03-31\", \"region\": \"Antofagasta\", \"fallecidos\": 0, \"codigo region\": 2}, {\"date\": \"2020-03-31\", \"region\": \"Atacama\", \"fallecidos\": 0, \"codigo region\": 3}, {\"date\": \"2020-03-31\", \"region\": \"Coquimbo\", \"fallecidos\": 0, \"codigo region\": 4}, {\"date\": \"2020-03-31\", \"region\": \"Valpara\\u00edso\", \"fallecidos\": 1, \"codigo region\": 5}, {\"date\": \"2020-03-31\", \"region\": \"Metropolitana\", \"fallecidos\": 4, \"codigo region\": 6}, {\"date\": \"2020-03-31\", \"region\": \"O\\u2019Higgins\", \"fallecidos\": 0, \"codigo region\": 7}, {\"date\": \"2020-03-31\", \"region\": \"Maule\", \"fallecidos\": 1, \"codigo region\": 8}, {\"date\": \"2020-03-31\", \"region\": \"\\u00d1uble\", \"fallecidos\": 0, \"codigo region\": 9}, {\"date\": \"2020-03-31\", \"region\": \"Biob\\u00edo\", \"fallecidos\": 2, \"codigo region\": 10}, {\"date\": \"2020-03-31\", \"region\": \"Araucan\\u00eda\", \"fallecidos\": 4, \"codigo region\": 11}, {\"date\": \"2020-03-31\", \"region\": \"Los R\\u00edos\", \"fallecidos\": 0, \"codigo region\": 12}, {\"date\": \"2020-03-31\", \"region\": \"Los Lagos\", \"fallecidos\": 0, \"codigo region\": 13}, {\"date\": \"2020-03-31\", \"region\": \"Ays\\u00e9n\", \"fallecidos\": 0, \"codigo region\": 14}, {\"date\": \"2020-03-31\", \"region\": \"Magallanes\", \"fallecidos\": 0, \"codigo region\": 15}, {\"date\": \"2020-04-01\", \"region\": \"Arica y Parinacota\", \"fallecidos\": 0, \"codigo region\": 0}, {\"date\": \"2020-04-01\", \"region\": \"Tarapac\\u00e1\", \"fallecidos\": 0, \"codigo region\": 1}, {\"date\": \"2020-04-01\", \"region\": \"Antofagasta\", \"fallecidos\": 0, \"codigo region\": 2}, {\"date\": \"2020-04-01\", \"region\": \"Atacama\", \"fallecidos\": 0, \"codigo region\": 3}, {\"date\": \"2020-04-01\", \"region\": \"Coquimbo\", \"fallecidos\": 0, \"codigo region\": 4}, {\"date\": \"2020-04-01\", \"region\": \"Valpara\\u00edso\", \"fallecidos\": 1, \"codigo region\": 5}, {\"date\": \"2020-04-01\", \"region\": \"Metropolitana\", \"fallecidos\": 5, \"codigo region\": 6}, {\"date\": \"2020-04-01\", \"region\": \"O\\u2019Higgins\", \"fallecidos\": 0, \"codigo region\": 7}, {\"date\": \"2020-04-01\", \"region\": \"Maule\", \"fallecidos\": 1, \"codigo region\": 8}, {\"date\": \"2020-04-01\", \"region\": \"\\u00d1uble\", \"fallecidos\": 0, \"codigo region\": 9}, {\"date\": \"2020-04-01\", \"region\": \"Biob\\u00edo\", \"fallecidos\": 2, \"codigo region\": 10}, {\"date\": \"2020-04-01\", \"region\": \"Araucan\\u00eda\", \"fallecidos\": 6, \"codigo region\": 11}, {\"date\": \"2020-04-01\", \"region\": \"Los R\\u00edos\", \"fallecidos\": 1, \"codigo region\": 12}, {\"date\": \"2020-04-01\", \"region\": \"Los Lagos\", \"fallecidos\": 0, \"codigo region\": 13}, {\"date\": \"2020-04-01\", \"region\": \"Ays\\u00e9n\", \"fallecidos\": 0, \"codigo region\": 14}, {\"date\": \"2020-04-01\", \"region\": \"Magallanes\", \"fallecidos\": 0, \"codigo region\": 15}, {\"date\": \"2020-04-02\", \"region\": \"Arica y Parinacota\", \"fallecidos\": 0, \"codigo region\": 0}, {\"date\": \"2020-04-02\", \"region\": \"Tarapac\\u00e1\", \"fallecidos\": 0, \"codigo region\": 1}, {\"date\": \"2020-04-02\", \"region\": \"Antofagasta\", \"fallecidos\": 0, \"codigo region\": 2}, {\"date\": \"2020-04-02\", \"region\": \"Atacama\", \"fallecidos\": 0, \"codigo region\": 3}, {\"date\": \"2020-04-02\", \"region\": \"Coquimbo\", \"fallecidos\": 0, \"codigo region\": 4}, {\"date\": \"2020-04-02\", \"region\": \"Valpara\\u00edso\", \"fallecidos\": 1, \"codigo region\": 5}, {\"date\": \"2020-04-02\", \"region\": \"Metropolitana\", \"fallecidos\": 6, \"codigo region\": 6}, {\"date\": \"2020-04-02\", \"region\": \"O\\u2019Higgins\", \"fallecidos\": 0, \"codigo region\": 7}, {\"date\": \"2020-04-02\", \"region\": \"Maule\", \"fallecidos\": 1, \"codigo region\": 8}, {\"date\": \"2020-04-02\", \"region\": \"\\u00d1uble\", \"fallecidos\": 0, \"codigo region\": 9}, {\"date\": \"2020-04-02\", \"region\": \"Biob\\u00edo\", \"fallecidos\": 2, \"codigo region\": 10}, {\"date\": \"2020-04-02\", \"region\": \"Araucan\\u00eda\", \"fallecidos\": 7, \"codigo region\": 11}, {\"date\": \"2020-04-02\", \"region\": \"Los R\\u00edos\", \"fallecidos\": 1, \"codigo region\": 12}, {\"date\": \"2020-04-02\", \"region\": \"Los Lagos\", \"fallecidos\": 0, \"codigo region\": 13}, {\"date\": \"2020-04-02\", \"region\": \"Ays\\u00e9n\", \"fallecidos\": 0, \"codigo region\": 14}, {\"date\": \"2020-04-02\", \"region\": \"Magallanes\", \"fallecidos\": 0, \"codigo region\": 15}, {\"date\": \"2020-04-03\", \"region\": \"Arica y Parinacota\", \"fallecidos\": 0, \"codigo region\": 0}, {\"date\": \"2020-04-03\", \"region\": \"Tarapac\\u00e1\", \"fallecidos\": 0, \"codigo region\": 1}, {\"date\": \"2020-04-03\", \"region\": \"Antofagasta\", \"fallecidos\": 0, \"codigo region\": 2}, {\"date\": \"2020-04-03\", \"region\": \"Atacama\", \"fallecidos\": 0, \"codigo region\": 3}, {\"date\": \"2020-04-03\", \"region\": \"Coquimbo\", \"fallecidos\": 0, \"codigo region\": 4}, {\"date\": \"2020-04-03\", \"region\": \"Valpara\\u00edso\", \"fallecidos\": 1, \"codigo region\": 5}, {\"date\": \"2020-04-03\", \"region\": \"Metropolitana\", \"fallecidos\": 8, \"codigo region\": 6}, {\"date\": \"2020-04-03\", \"region\": \"O\\u2019Higgins\", \"fallecidos\": 0, \"codigo region\": 7}, {\"date\": \"2020-04-03\", \"region\": \"Maule\", \"fallecidos\": 1, \"codigo region\": 8}, {\"date\": \"2020-04-03\", \"region\": \"\\u00d1uble\", \"fallecidos\": 1, \"codigo region\": 9}, {\"date\": \"2020-04-03\", \"region\": \"Biob\\u00edo\", \"fallecidos\": 2, \"codigo region\": 10}, {\"date\": \"2020-04-03\", \"region\": \"Araucan\\u00eda\", \"fallecidos\": 7, \"codigo region\": 11}, {\"date\": \"2020-04-03\", \"region\": \"Los R\\u00edos\", \"fallecidos\": 1, \"codigo region\": 12}, {\"date\": \"2020-04-03\", \"region\": \"Los Lagos\", \"fallecidos\": 0, \"codigo region\": 13}, {\"date\": \"2020-04-03\", \"region\": \"Ays\\u00e9n\", \"fallecidos\": 0, \"codigo region\": 14}, {\"date\": \"2020-04-03\", \"region\": \"Magallanes\", \"fallecidos\": 1, \"codigo region\": 15}, {\"date\": \"2020-04-04\", \"region\": \"Arica y Parinacota\", \"fallecidos\": 0, \"codigo region\": 0}, {\"date\": \"2020-04-04\", \"region\": \"Tarapac\\u00e1\", \"fallecidos\": 0, \"codigo region\": 1}, {\"date\": \"2020-04-04\", \"region\": \"Antofagasta\", \"fallecidos\": 0, \"codigo region\": 2}, {\"date\": \"2020-04-04\", \"region\": \"Atacama\", \"fallecidos\": 0, \"codigo region\": 3}, {\"date\": \"2020-04-04\", \"region\": \"Coquimbo\", \"fallecidos\": 0, \"codigo region\": 4}, {\"date\": \"2020-04-04\", \"region\": \"Valpara\\u00edso\", \"fallecidos\": 1, \"codigo region\": 5}, {\"date\": \"2020-04-04\", \"region\": \"Metropolitana\", \"fallecidos\": 9, \"codigo region\": 6}, {\"date\": \"2020-04-04\", \"region\": \"O\\u2019Higgins\", \"fallecidos\": 0, \"codigo region\": 7}, {\"date\": \"2020-04-04\", \"region\": \"Maule\", \"fallecidos\": 1, \"codigo region\": 8}, {\"date\": \"2020-04-04\", \"region\": \"\\u00d1uble\", \"fallecidos\": 2, \"codigo region\": 9}, {\"date\": \"2020-04-04\", \"region\": \"Biob\\u00edo\", \"fallecidos\": 2, \"codigo region\": 10}, {\"date\": \"2020-04-04\", \"region\": \"Araucan\\u00eda\", \"fallecidos\": 9, \"codigo region\": 11}, {\"date\": \"2020-04-04\", \"region\": \"Los R\\u00edos\", \"fallecidos\": 1, \"codigo region\": 12}, {\"date\": \"2020-04-04\", \"region\": \"Los Lagos\", \"fallecidos\": 0, \"codigo region\": 13}, {\"date\": \"2020-04-04\", \"region\": \"Ays\\u00e9n\", \"fallecidos\": 0, \"codigo region\": 14}, {\"date\": \"2020-04-04\", \"region\": \"Magallanes\", \"fallecidos\": 2, \"codigo region\": 15}, {\"date\": \"2020-04-05\", \"region\": \"Arica y Parinacota\", \"fallecidos\": 0, \"codigo region\": 0}, {\"date\": \"2020-04-05\", \"region\": \"Tarapac\\u00e1\", \"fallecidos\": 0, \"codigo region\": 1}, {\"date\": \"2020-04-05\", \"region\": \"Antofagasta\", \"fallecidos\": 0, \"codigo region\": 2}, {\"date\": \"2020-04-05\", \"region\": \"Atacama\", \"fallecidos\": 0, \"codigo region\": 3}, {\"date\": \"2020-04-05\", \"region\": \"Coquimbo\", \"fallecidos\": 0, \"codigo region\": 4}, {\"date\": \"2020-04-05\", \"region\": \"Valpara\\u00edso\", \"fallecidos\": 1, \"codigo region\": 5}, {\"date\": \"2020-04-05\", \"region\": \"Metropolitana\", \"fallecidos\": 10, \"codigo region\": 6}, {\"date\": \"2020-04-05\", \"region\": \"O\\u2019Higgins\", \"fallecidos\": 0, \"codigo region\": 7}, {\"date\": \"2020-04-05\", \"region\": \"Maule\", \"fallecidos\": 1, \"codigo region\": 8}, {\"date\": \"2020-04-05\", \"region\": \"\\u00d1uble\", \"fallecidos\": 3, \"codigo region\": 9}, {\"date\": \"2020-04-05\", \"region\": \"Biob\\u00edo\", \"fallecidos\": 2, \"codigo region\": 10}, {\"date\": \"2020-04-05\", \"region\": \"Araucan\\u00eda\", \"fallecidos\": 13, \"codigo region\": 11}, {\"date\": \"2020-04-05\", \"region\": \"Los R\\u00edos\", \"fallecidos\": 1, \"codigo region\": 12}, {\"date\": \"2020-04-05\", \"region\": \"Los Lagos\", \"fallecidos\": 1, \"codigo region\": 13}, {\"date\": \"2020-04-05\", \"region\": \"Ays\\u00e9n\", \"fallecidos\": 0, \"codigo region\": 14}, {\"date\": \"2020-04-05\", \"region\": \"Magallanes\", \"fallecidos\": 2, \"codigo region\": 15}, {\"date\": \"2020-04-06\", \"region\": \"Arica y Parinacota\", \"fallecidos\": 0, \"codigo region\": 0}, {\"date\": \"2020-04-06\", \"region\": \"Tarapac\\u00e1\", \"fallecidos\": 0, \"codigo region\": 1}, {\"date\": \"2020-04-06\", \"region\": \"Antofagasta\", \"fallecidos\": 0, \"codigo region\": 2}, {\"date\": \"2020-04-06\", \"region\": \"Atacama\", \"fallecidos\": 0, \"codigo region\": 3}, {\"date\": \"2020-04-06\", \"region\": \"Coquimbo\", \"fallecidos\": 0, \"codigo region\": 4}, {\"date\": \"2020-04-06\", \"region\": \"Valpara\\u00edso\", \"fallecidos\": 1, \"codigo region\": 5}, {\"date\": \"2020-04-06\", \"region\": \"Metropolitana\", \"fallecidos\": 10, \"codigo region\": 6}, {\"date\": \"2020-04-06\", \"region\": \"O\\u2019Higgins\", \"fallecidos\": 0, \"codigo region\": 7}, {\"date\": \"2020-04-06\", \"region\": \"Maule\", \"fallecidos\": 1, \"codigo region\": 8}, {\"date\": \"2020-04-06\", \"region\": \"\\u00d1uble\", \"fallecidos\": 4, \"codigo region\": 9}, {\"date\": \"2020-04-06\", \"region\": \"Biob\\u00edo\", \"fallecidos\": 2, \"codigo region\": 10}, {\"date\": \"2020-04-06\", \"region\": \"Araucan\\u00eda\", \"fallecidos\": 14, \"codigo region\": 11}, {\"date\": \"2020-04-06\", \"region\": \"Los R\\u00edos\", \"fallecidos\": 1, \"codigo region\": 12}, {\"date\": \"2020-04-06\", \"region\": \"Los Lagos\", \"fallecidos\": 2, \"codigo region\": 13}, {\"date\": \"2020-04-06\", \"region\": \"Ays\\u00e9n\", \"fallecidos\": 0, \"codigo region\": 14}, {\"date\": \"2020-04-06\", \"region\": \"Magallanes\", \"fallecidos\": 2, \"codigo region\": 15}, {\"date\": \"2020-04-07\", \"region\": \"Arica y Parinacota\", \"fallecidos\": 0, \"codigo region\": 0}, {\"date\": \"2020-04-07\", \"region\": \"Tarapac\\u00e1\", \"fallecidos\": 0, \"codigo region\": 1}, {\"date\": \"2020-04-07\", \"region\": \"Antofagasta\", \"fallecidos\": 1, \"codigo region\": 2}, {\"date\": \"2020-04-07\", \"region\": \"Atacama\", \"fallecidos\": 0, \"codigo region\": 3}, {\"date\": \"2020-04-07\", \"region\": \"Coquimbo\", \"fallecidos\": 0, \"codigo region\": 4}, {\"date\": \"2020-04-07\", \"region\": \"Valpara\\u00edso\", \"fallecidos\": 1, \"codigo region\": 5}, {\"date\": \"2020-04-07\", \"region\": \"Metropolitana\", \"fallecidos\": 12, \"codigo region\": 6}, {\"date\": \"2020-04-07\", \"region\": \"O\\u2019Higgins\", \"fallecidos\": 0, \"codigo region\": 7}, {\"date\": \"2020-04-07\", \"region\": \"Maule\", \"fallecidos\": 2, \"codigo region\": 8}, {\"date\": \"2020-04-07\", \"region\": \"\\u00d1uble\", \"fallecidos\": 5, \"codigo region\": 9}, {\"date\": \"2020-04-07\", \"region\": \"Biob\\u00edo\", \"fallecidos\": 2, \"codigo region\": 10}, {\"date\": \"2020-04-07\", \"region\": \"Araucan\\u00eda\", \"fallecidos\": 14, \"codigo region\": 11}, {\"date\": \"2020-04-07\", \"region\": \"Los R\\u00edos\", \"fallecidos\": 2, \"codigo region\": 12}, {\"date\": \"2020-04-07\", \"region\": \"Los Lagos\", \"fallecidos\": 2, \"codigo region\": 13}, {\"date\": \"2020-04-07\", \"region\": \"Ays\\u00e9n\", \"fallecidos\": 0, \"codigo region\": 14}, {\"date\": \"2020-04-07\", \"region\": \"Magallanes\", \"fallecidos\": 2, \"codigo region\": 15}, {\"date\": \"2020-04-08\", \"region\": \"Arica y Parinacota\", \"fallecidos\": 0, \"codigo region\": 0}, {\"date\": \"2020-04-08\", \"region\": \"Tarapac\\u00e1\", \"fallecidos\": 0, \"codigo region\": 1}, {\"date\": \"2020-04-08\", \"region\": \"Antofagasta\", \"fallecidos\": 1, \"codigo region\": 2}, {\"date\": \"2020-04-08\", \"region\": \"Atacama\", \"fallecidos\": 0, \"codigo region\": 3}, {\"date\": \"2020-04-08\", \"region\": \"Coquimbo\", \"fallecidos\": 0, \"codigo region\": 4}, {\"date\": \"2020-04-08\", \"region\": \"Valpara\\u00edso\", \"fallecidos\": 2, \"codigo region\": 5}, {\"date\": \"2020-04-08\", \"region\": \"Metropolitana\", \"fallecidos\": 14, \"codigo region\": 6}, {\"date\": \"2020-04-08\", \"region\": \"O\\u2019Higgins\", \"fallecidos\": 0, \"codigo region\": 7}, {\"date\": \"2020-04-08\", \"region\": \"Maule\", \"fallecidos\": 2, \"codigo region\": 8}, {\"date\": \"2020-04-08\", \"region\": \"\\u00d1uble\", \"fallecidos\": 5, \"codigo region\": 9}, {\"date\": \"2020-04-08\", \"region\": \"Biob\\u00edo\", \"fallecidos\": 2, \"codigo region\": 10}, {\"date\": \"2020-04-08\", \"region\": \"Araucan\\u00eda\", \"fallecidos\": 15, \"codigo region\": 11}, {\"date\": \"2020-04-08\", \"region\": \"Los R\\u00edos\", \"fallecidos\": 2, \"codigo region\": 12}, {\"date\": \"2020-04-08\", \"region\": \"Los Lagos\", \"fallecidos\": 2, \"codigo region\": 13}, {\"date\": \"2020-04-08\", \"region\": \"Ays\\u00e9n\", \"fallecidos\": 0, \"codigo region\": 14}, {\"date\": \"2020-04-08\", \"region\": \"Magallanes\", \"fallecidos\": 3, \"codigo region\": 15}, {\"date\": \"2020-04-09\", \"region\": \"Arica y Parinacota\", \"fallecidos\": 0, \"codigo region\": 0}, {\"date\": \"2020-04-09\", \"region\": \"Tarapac\\u00e1\", \"fallecidos\": 0, \"codigo region\": 1}, {\"date\": \"2020-04-09\", \"region\": \"Antofagasta\", \"fallecidos\": 1, \"codigo region\": 2}, {\"date\": \"2020-04-09\", \"region\": \"Atacama\", \"fallecidos\": 0, \"codigo region\": 3}, {\"date\": \"2020-04-09\", \"region\": \"Coquimbo\", \"fallecidos\": 0, \"codigo region\": 4}, {\"date\": \"2020-04-09\", \"region\": \"Valpara\\u00edso\", \"fallecidos\": 2, \"codigo region\": 5}, {\"date\": \"2020-04-09\", \"region\": \"Metropolitana\", \"fallecidos\": 21, \"codigo region\": 6}, {\"date\": \"2020-04-09\", \"region\": \"O\\u2019Higgins\", \"fallecidos\": 0, \"codigo region\": 7}, {\"date\": \"2020-04-09\", \"region\": \"Maule\", \"fallecidos\": 2, \"codigo region\": 8}, {\"date\": \"2020-04-09\", \"region\": \"\\u00d1uble\", \"fallecidos\": 6, \"codigo region\": 9}, {\"date\": \"2020-04-09\", \"region\": \"Biob\\u00edo\", \"fallecidos\": 2, \"codigo region\": 10}, {\"date\": \"2020-04-09\", \"region\": \"Araucan\\u00eda\", \"fallecidos\": 16, \"codigo region\": 11}, {\"date\": \"2020-04-09\", \"region\": \"Los R\\u00edos\", \"fallecidos\": 2, \"codigo region\": 12}, {\"date\": \"2020-04-09\", \"region\": \"Los Lagos\", \"fallecidos\": 2, \"codigo region\": 13}, {\"date\": \"2020-04-09\", \"region\": \"Ays\\u00e9n\", \"fallecidos\": 0, \"codigo region\": 14}, {\"date\": \"2020-04-09\", \"region\": \"Magallanes\", \"fallecidos\": 3, \"codigo region\": 15}, {\"date\": \"2020-04-10\", \"region\": \"Arica y Parinacota\", \"fallecidos\": 0, \"codigo region\": 0}, {\"date\": \"2020-04-10\", \"region\": \"Tarapac\\u00e1\", \"fallecidos\": 0, \"codigo region\": 1}, {\"date\": \"2020-04-10\", \"region\": \"Antofagasta\", \"fallecidos\": 1, \"codigo region\": 2}, {\"date\": \"2020-04-10\", \"region\": \"Atacama\", \"fallecidos\": 0, \"codigo region\": 3}, {\"date\": \"2020-04-10\", \"region\": \"Coquimbo\", \"fallecidos\": 0, \"codigo region\": 4}, {\"date\": \"2020-04-10\", \"region\": \"Valpara\\u00edso\", \"fallecidos\": 2, \"codigo region\": 5}, {\"date\": \"2020-04-10\", \"region\": \"Metropolitana\", \"fallecidos\": 29, \"codigo region\": 6}, {\"date\": \"2020-04-10\", \"region\": \"O\\u2019Higgins\", \"fallecidos\": 0, \"codigo region\": 7}, {\"date\": \"2020-04-10\", \"region\": \"Maule\", \"fallecidos\": 2, \"codigo region\": 8}, {\"date\": \"2020-04-10\", \"region\": \"\\u00d1uble\", \"fallecidos\": 6, \"codigo region\": 9}, {\"date\": \"2020-04-10\", \"region\": \"Biob\\u00edo\", \"fallecidos\": 2, \"codigo region\": 10}, {\"date\": \"2020-04-10\", \"region\": \"Araucan\\u00eda\", \"fallecidos\": 16, \"codigo region\": 11}, {\"date\": \"2020-04-10\", \"region\": \"Los R\\u00edos\", \"fallecidos\": 2, \"codigo region\": 12}, {\"date\": \"2020-04-10\", \"region\": \"Los Lagos\", \"fallecidos\": 2, \"codigo region\": 13}, {\"date\": \"2020-04-10\", \"region\": \"Ays\\u00e9n\", \"fallecidos\": 0, \"codigo region\": 14}, {\"date\": \"2020-04-10\", \"region\": \"Magallanes\", \"fallecidos\": 3, \"codigo region\": 15}, {\"date\": \"2020-04-11\", \"region\": \"Arica y Parinacota\", \"fallecidos\": 0, \"codigo region\": 0}, {\"date\": \"2020-04-11\", \"region\": \"Tarapac\\u00e1\", \"fallecidos\": 0, \"codigo region\": 1}, {\"date\": \"2020-04-11\", \"region\": \"Antofagasta\", \"fallecidos\": 1, \"codigo region\": 2}, {\"date\": \"2020-04-11\", \"region\": \"Atacama\", \"fallecidos\": 0, \"codigo region\": 3}, {\"date\": \"2020-04-11\", \"region\": \"Coquimbo\", \"fallecidos\": 0, \"codigo region\": 4}, {\"date\": \"2020-04-11\", \"region\": \"Valpara\\u00edso\", \"fallecidos\": 2, \"codigo region\": 5}, {\"date\": \"2020-04-11\", \"region\": \"Metropolitana\", \"fallecidos\": 32, \"codigo region\": 6}, {\"date\": \"2020-04-11\", \"region\": \"O\\u2019Higgins\", \"fallecidos\": 0, \"codigo region\": 7}, {\"date\": \"2020-04-11\", \"region\": \"Maule\", \"fallecidos\": 3, \"codigo region\": 8}, {\"date\": \"2020-04-11\", \"region\": \"\\u00d1uble\", \"fallecidos\": 6, \"codigo region\": 9}, {\"date\": \"2020-04-11\", \"region\": \"Biob\\u00edo\", \"fallecidos\": 2, \"codigo region\": 10}, {\"date\": \"2020-04-11\", \"region\": \"Araucan\\u00eda\", \"fallecidos\": 17, \"codigo region\": 11}, {\"date\": \"2020-04-11\", \"region\": \"Los R\\u00edos\", \"fallecidos\": 2, \"codigo region\": 12}, {\"date\": \"2020-04-11\", \"region\": \"Los Lagos\", \"fallecidos\": 5, \"codigo region\": 13}, {\"date\": \"2020-04-11\", \"region\": \"Ays\\u00e9n\", \"fallecidos\": 0, \"codigo region\": 14}, {\"date\": \"2020-04-11\", \"region\": \"Magallanes\", \"fallecidos\": 3, \"codigo region\": 15}, {\"date\": \"2020-04-12\", \"region\": \"Arica y Parinacota\", \"fallecidos\": 1, \"codigo region\": 0}, {\"date\": \"2020-04-12\", \"region\": \"Tarapac\\u00e1\", \"fallecidos\": 0, \"codigo region\": 1}, {\"date\": \"2020-04-12\", \"region\": \"Antofagasta\", \"fallecidos\": 1, \"codigo region\": 2}, {\"date\": \"2020-04-12\", \"region\": \"Atacama\", \"fallecidos\": 0, \"codigo region\": 3}, {\"date\": \"2020-04-12\", \"region\": \"Coquimbo\", \"fallecidos\": 0, \"codigo region\": 4}, {\"date\": \"2020-04-12\", \"region\": \"Valpara\\u00edso\", \"fallecidos\": 2, \"codigo region\": 5}, {\"date\": \"2020-04-12\", \"region\": \"Metropolitana\", \"fallecidos\": 35, \"codigo region\": 6}, {\"date\": \"2020-04-12\", \"region\": \"O\\u2019Higgins\", \"fallecidos\": 0, \"codigo region\": 7}, {\"date\": \"2020-04-12\", \"region\": \"Maule\", \"fallecidos\": 3, \"codigo region\": 8}, {\"date\": \"2020-04-12\", \"region\": \"\\u00d1uble\", \"fallecidos\": 7, \"codigo region\": 9}, {\"date\": \"2020-04-12\", \"region\": \"Biob\\u00edo\", \"fallecidos\": 2, \"codigo region\": 10}, {\"date\": \"2020-04-12\", \"region\": \"Araucan\\u00eda\", \"fallecidos\": 17, \"codigo region\": 11}, {\"date\": \"2020-04-12\", \"region\": \"Los R\\u00edos\", \"fallecidos\": 3, \"codigo region\": 12}, {\"date\": \"2020-04-12\", \"region\": \"Los Lagos\", \"fallecidos\": 5, \"codigo region\": 13}, {\"date\": \"2020-04-12\", \"region\": \"Ays\\u00e9n\", \"fallecidos\": 0, \"codigo region\": 14}, {\"date\": \"2020-04-12\", \"region\": \"Magallanes\", \"fallecidos\": 4, \"codigo region\": 15}, {\"date\": \"2020-04-13\", \"region\": \"Arica y Parinacota\", \"fallecidos\": 1, \"codigo region\": 0}, {\"date\": \"2020-04-13\", \"region\": \"Tarapac\\u00e1\", \"fallecidos\": 0, \"codigo region\": 1}, {\"date\": \"2020-04-13\", \"region\": \"Antofagasta\", \"fallecidos\": 1, \"codigo region\": 2}, {\"date\": \"2020-04-13\", \"region\": \"Atacama\", \"fallecidos\": 0, \"codigo region\": 3}, {\"date\": \"2020-04-13\", \"region\": \"Coquimbo\", \"fallecidos\": 0, \"codigo region\": 4}, {\"date\": \"2020-04-13\", \"region\": \"Valpara\\u00edso\", \"fallecidos\": 2, \"codigo region\": 5}, {\"date\": \"2020-04-13\", \"region\": \"Metropolitana\", \"fallecidos\": 36, \"codigo region\": 6}, {\"date\": \"2020-04-13\", \"region\": \"O\\u2019Higgins\", \"fallecidos\": 0, \"codigo region\": 7}, {\"date\": \"2020-04-13\", \"region\": \"Maule\", \"fallecidos\": 3, \"codigo region\": 8}, {\"date\": \"2020-04-13\", \"region\": \"\\u00d1uble\", \"fallecidos\": 7, \"codigo region\": 9}, {\"date\": \"2020-04-13\", \"region\": \"Biob\\u00edo\", \"fallecidos\": 2, \"codigo region\": 10}, {\"date\": \"2020-04-13\", \"region\": \"Araucan\\u00eda\", \"fallecidos\": 17, \"codigo region\": 11}, {\"date\": \"2020-04-13\", \"region\": \"Los R\\u00edos\", \"fallecidos\": 3, \"codigo region\": 12}, {\"date\": \"2020-04-13\", \"region\": \"Los Lagos\", \"fallecidos\": 5, \"codigo region\": 13}, {\"date\": \"2020-04-13\", \"region\": \"Ays\\u00e9n\", \"fallecidos\": 0, \"codigo region\": 14}, {\"date\": \"2020-04-13\", \"region\": \"Magallanes\", \"fallecidos\": 5, \"codigo region\": 15}, {\"date\": \"2020-04-14\", \"region\": \"Arica y Parinacota\", \"fallecidos\": 1, \"codigo region\": 0}, {\"date\": \"2020-04-14\", \"region\": \"Tarapac\\u00e1\", \"fallecidos\": 0, \"codigo region\": 1}, {\"date\": \"2020-04-14\", \"region\": \"Antofagasta\", \"fallecidos\": 1, \"codigo region\": 2}, {\"date\": \"2020-04-14\", \"region\": \"Atacama\", \"fallecidos\": 0, \"codigo region\": 3}, {\"date\": \"2020-04-14\", \"region\": \"Coquimbo\", \"fallecidos\": 0, \"codigo region\": 4}, {\"date\": \"2020-04-14\", \"region\": \"Valpara\\u00edso\", \"fallecidos\": 2, \"codigo region\": 5}, {\"date\": \"2020-04-14\", \"region\": \"Metropolitana\", \"fallecidos\": 40, \"codigo region\": 6}, {\"date\": \"2020-04-14\", \"region\": \"O\\u2019Higgins\", \"fallecidos\": 0, \"codigo region\": 7}, {\"date\": \"2020-04-14\", \"region\": \"Maule\", \"fallecidos\": 4, \"codigo region\": 8}, {\"date\": \"2020-04-14\", \"region\": \"\\u00d1uble\", \"fallecidos\": 8, \"codigo region\": 9}, {\"date\": \"2020-04-14\", \"region\": \"Biob\\u00edo\", \"fallecidos\": 2, \"codigo region\": 10}, {\"date\": \"2020-04-14\", \"region\": \"Araucan\\u00eda\", \"fallecidos\": 20, \"codigo region\": 11}, {\"date\": \"2020-04-14\", \"region\": \"Los R\\u00edos\", \"fallecidos\": 3, \"codigo region\": 12}, {\"date\": \"2020-04-14\", \"region\": \"Los Lagos\", \"fallecidos\": 5, \"codigo region\": 13}, {\"date\": \"2020-04-14\", \"region\": \"Ays\\u00e9n\", \"fallecidos\": 0, \"codigo region\": 14}, {\"date\": \"2020-04-14\", \"region\": \"Magallanes\", \"fallecidos\": 6, \"codigo region\": 15}, {\"date\": \"2020-04-15\", \"region\": \"Arica y Parinacota\", \"fallecidos\": 1, \"codigo region\": 0}, {\"date\": \"2020-04-15\", \"region\": \"Tarapac\\u00e1\", \"fallecidos\": 0, \"codigo region\": 1}, {\"date\": \"2020-04-15\", \"region\": \"Antofagasta\", \"fallecidos\": 1, \"codigo region\": 2}, {\"date\": \"2020-04-15\", \"region\": \"Atacama\", \"fallecidos\": 0, \"codigo region\": 3}, {\"date\": \"2020-04-15\", \"region\": \"Coquimbo\", \"fallecidos\": 0, \"codigo region\": 4}, {\"date\": \"2020-04-15\", \"region\": \"Valpara\\u00edso\", \"fallecidos\": 2, \"codigo region\": 5}, {\"date\": \"2020-04-15\", \"region\": \"Metropolitana\", \"fallecidos\": 41, \"codigo region\": 6}, {\"date\": \"2020-04-15\", \"region\": \"O\\u2019Higgins\", \"fallecidos\": 0, \"codigo region\": 7}, {\"date\": \"2020-04-15\", \"region\": \"Maule\", \"fallecidos\": 4, \"codigo region\": 8}, {\"date\": \"2020-04-15\", \"region\": \"\\u00d1uble\", \"fallecidos\": 8, \"codigo region\": 9}, {\"date\": \"2020-04-15\", \"region\": \"Biob\\u00edo\", \"fallecidos\": 2, \"codigo region\": 10}, {\"date\": \"2020-04-15\", \"region\": \"Araucan\\u00eda\", \"fallecidos\": 21, \"codigo region\": 11}, {\"date\": \"2020-04-15\", \"region\": \"Los R\\u00edos\", \"fallecidos\": 3, \"codigo region\": 12}, {\"date\": \"2020-04-15\", \"region\": \"Los Lagos\", \"fallecidos\": 5, \"codigo region\": 13}, {\"date\": \"2020-04-15\", \"region\": \"Ays\\u00e9n\", \"fallecidos\": 0, \"codigo region\": 14}, {\"date\": \"2020-04-15\", \"region\": \"Magallanes\", \"fallecidos\": 6, \"codigo region\": 15}, {\"date\": \"2020-04-16\", \"region\": \"Arica y Parinacota\", \"fallecidos\": 1, \"codigo region\": 0}, {\"date\": \"2020-04-16\", \"region\": \"Tarapac\\u00e1\", \"fallecidos\": 0, \"codigo region\": 1}, {\"date\": \"2020-04-16\", \"region\": \"Antofagasta\", \"fallecidos\": 1, \"codigo region\": 2}, {\"date\": \"2020-04-16\", \"region\": \"Atacama\", \"fallecidos\": 0, \"codigo region\": 3}, {\"date\": \"2020-04-16\", \"region\": \"Coquimbo\", \"fallecidos\": 0, \"codigo region\": 4}, {\"date\": \"2020-04-16\", \"region\": \"Valpara\\u00edso\", \"fallecidos\": 4, \"codigo region\": 5}, {\"date\": \"2020-04-16\", \"region\": \"Metropolitana\", \"fallecidos\": 48, \"codigo region\": 6}, {\"date\": \"2020-04-16\", \"region\": \"O\\u2019Higgins\", \"fallecidos\": 0, \"codigo region\": 7}, {\"date\": \"2020-04-16\", \"region\": \"Maule\", \"fallecidos\": 4, \"codigo region\": 8}, {\"date\": \"2020-04-16\", \"region\": \"\\u00d1uble\", \"fallecidos\": 10, \"codigo region\": 9}, {\"date\": \"2020-04-16\", \"region\": \"Biob\\u00edo\", \"fallecidos\": 2, \"codigo region\": 10}, {\"date\": \"2020-04-16\", \"region\": \"Araucan\\u00eda\", \"fallecidos\": 21, \"codigo region\": 11}, {\"date\": \"2020-04-16\", \"region\": \"Los R\\u00edos\", \"fallecidos\": 3, \"codigo region\": 12}, {\"date\": \"2020-04-16\", \"region\": \"Los Lagos\", \"fallecidos\": 5, \"codigo region\": 13}, {\"date\": \"2020-04-16\", \"region\": \"Ays\\u00e9n\", \"fallecidos\": 0, \"codigo region\": 14}, {\"date\": \"2020-04-16\", \"region\": \"Magallanes\", \"fallecidos\": 6, \"codigo region\": 15}, {\"date\": \"2020-04-17\", \"region\": \"Arica y Parinacota\", \"fallecidos\": 2, \"codigo region\": 0}, {\"date\": \"2020-04-17\", \"region\": \"Tarapac\\u00e1\", \"fallecidos\": 0, \"codigo region\": 1}, {\"date\": \"2020-04-17\", \"region\": \"Antofagasta\", \"fallecidos\": 1, \"codigo region\": 2}, {\"date\": \"2020-04-17\", \"region\": \"Atacama\", \"fallecidos\": 0, \"codigo region\": 3}, {\"date\": \"2020-04-17\", \"region\": \"Coquimbo\", \"fallecidos\": 0, \"codigo region\": 4}, {\"date\": \"2020-04-17\", \"region\": \"Valpara\\u00edso\", \"fallecidos\": 4, \"codigo region\": 5}, {\"date\": \"2020-04-17\", \"region\": \"Metropolitana\", \"fallecidos\": 51, \"codigo region\": 6}, {\"date\": \"2020-04-17\", \"region\": \"O\\u2019Higgins\", \"fallecidos\": 0, \"codigo region\": 7}, {\"date\": \"2020-04-17\", \"region\": \"Maule\", \"fallecidos\": 7, \"codigo region\": 8}, {\"date\": \"2020-04-17\", \"region\": \"\\u00d1uble\", \"fallecidos\": 11, \"codigo region\": 9}, {\"date\": \"2020-04-17\", \"region\": \"Biob\\u00edo\", \"fallecidos\": 3, \"codigo region\": 10}, {\"date\": \"2020-04-17\", \"region\": \"Araucan\\u00eda\", \"fallecidos\": 22, \"codigo region\": 11}, {\"date\": \"2020-04-17\", \"region\": \"Los R\\u00edos\", \"fallecidos\": 3, \"codigo region\": 12}, {\"date\": \"2020-04-17\", \"region\": \"Los Lagos\", \"fallecidos\": 6, \"codigo region\": 13}, {\"date\": \"2020-04-17\", \"region\": \"Ays\\u00e9n\", \"fallecidos\": 0, \"codigo region\": 14}, {\"date\": \"2020-04-17\", \"region\": \"Magallanes\", \"fallecidos\": 6, \"codigo region\": 15}, {\"date\": \"2020-04-18\", \"region\": \"Arica y Parinacota\", \"fallecidos\": 2, \"codigo region\": 0}, {\"date\": \"2020-04-18\", \"region\": \"Tarapac\\u00e1\", \"fallecidos\": 0, \"codigo region\": 1}, {\"date\": \"2020-04-18\", \"region\": \"Antofagasta\", \"fallecidos\": 1, \"codigo region\": 2}, {\"date\": \"2020-04-18\", \"region\": \"Atacama\", \"fallecidos\": 0, \"codigo region\": 3}, {\"date\": \"2020-04-18\", \"region\": \"Coquimbo\", \"fallecidos\": 0, \"codigo region\": 4}, {\"date\": \"2020-04-18\", \"region\": \"Valpara\\u00edso\", \"fallecidos\": 4, \"codigo region\": 5}, {\"date\": \"2020-04-18\", \"region\": \"Metropolitana\", \"fallecidos\": 58, \"codigo region\": 6}, {\"date\": \"2020-04-18\", \"region\": \"O\\u2019Higgins\", \"fallecidos\": 0, \"codigo region\": 7}, {\"date\": \"2020-04-18\", \"region\": \"Maule\", \"fallecidos\": 8, \"codigo region\": 8}, {\"date\": \"2020-04-18\", \"region\": \"\\u00d1uble\", \"fallecidos\": 12, \"codigo region\": 9}, {\"date\": \"2020-04-18\", \"region\": \"Biob\\u00edo\", \"fallecidos\": 3, \"codigo region\": 10}, {\"date\": \"2020-04-18\", \"region\": \"Araucan\\u00eda\", \"fallecidos\": 23, \"codigo region\": 11}, {\"date\": \"2020-04-18\", \"region\": \"Los R\\u00edos\", \"fallecidos\": 3, \"codigo region\": 12}, {\"date\": \"2020-04-18\", \"region\": \"Los Lagos\", \"fallecidos\": 6, \"codigo region\": 13}, {\"date\": \"2020-04-18\", \"region\": \"Ays\\u00e9n\", \"fallecidos\": 0, \"codigo region\": 14}, {\"date\": \"2020-04-18\", \"region\": \"Magallanes\", \"fallecidos\": 6, \"codigo region\": 15}, {\"date\": \"2020-04-19\", \"region\": \"Arica y Parinacota\", \"fallecidos\": 2, \"codigo region\": 0}, {\"date\": \"2020-04-19\", \"region\": \"Tarapac\\u00e1\", \"fallecidos\": 0, \"codigo region\": 1}, {\"date\": \"2020-04-19\", \"region\": \"Antofagasta\", \"fallecidos\": 1, \"codigo region\": 2}, {\"date\": \"2020-04-19\", \"region\": \"Atacama\", \"fallecidos\": 0, \"codigo region\": 3}, {\"date\": \"2020-04-19\", \"region\": \"Coquimbo\", \"fallecidos\": 0, \"codigo region\": 4}, {\"date\": \"2020-04-19\", \"region\": \"Valpara\\u00edso\", \"fallecidos\": 5, \"codigo region\": 5}, {\"date\": \"2020-04-19\", \"region\": \"Metropolitana\", \"fallecidos\": 63, \"codigo region\": 6}, {\"date\": \"2020-04-19\", \"region\": \"O\\u2019Higgins\", \"fallecidos\": 0, \"codigo region\": 7}, {\"date\": \"2020-04-19\", \"region\": \"Maule\", \"fallecidos\": 8, \"codigo region\": 8}, {\"date\": \"2020-04-19\", \"region\": \"\\u00d1uble\", \"fallecidos\": 13, \"codigo region\": 9}, {\"date\": \"2020-04-19\", \"region\": \"Biob\\u00edo\", \"fallecidos\": 3, \"codigo region\": 10}, {\"date\": \"2020-04-19\", \"region\": \"Araucan\\u00eda\", \"fallecidos\": 23, \"codigo region\": 11}, {\"date\": \"2020-04-19\", \"region\": \"Los R\\u00edos\", \"fallecidos\": 3, \"codigo region\": 12}, {\"date\": \"2020-04-19\", \"region\": \"Los Lagos\", \"fallecidos\": 6, \"codigo region\": 13}, {\"date\": \"2020-04-19\", \"region\": \"Ays\\u00e9n\", \"fallecidos\": 0, \"codigo region\": 14}, {\"date\": \"2020-04-19\", \"region\": \"Magallanes\", \"fallecidos\": 6, \"codigo region\": 15}, {\"date\": \"2020-04-20\", \"region\": \"Arica y Parinacota\", \"fallecidos\": 2, \"codigo region\": 0}, {\"date\": \"2020-04-20\", \"region\": \"Tarapac\\u00e1\", \"fallecidos\": 0, \"codigo region\": 1}, {\"date\": \"2020-04-20\", \"region\": \"Antofagasta\", \"fallecidos\": 1, \"codigo region\": 2}, {\"date\": \"2020-04-20\", \"region\": \"Atacama\", \"fallecidos\": 0, \"codigo region\": 3}, {\"date\": \"2020-04-20\", \"region\": \"Coquimbo\", \"fallecidos\": 0, \"codigo region\": 4}, {\"date\": \"2020-04-20\", \"region\": \"Valpara\\u00edso\", \"fallecidos\": 5, \"codigo region\": 5}, {\"date\": \"2020-04-20\", \"region\": \"Metropolitana\", \"fallecidos\": 67, \"codigo region\": 6}, {\"date\": \"2020-04-20\", \"region\": \"O\\u2019Higgins\", \"fallecidos\": 0, \"codigo region\": 7}, {\"date\": \"2020-04-20\", \"region\": \"Maule\", \"fallecidos\": 10, \"codigo region\": 8}, {\"date\": \"2020-04-20\", \"region\": \"\\u00d1uble\", \"fallecidos\": 13, \"codigo region\": 9}, {\"date\": \"2020-04-20\", \"region\": \"Biob\\u00edo\", \"fallecidos\": 3, \"codigo region\": 10}, {\"date\": \"2020-04-20\", \"region\": \"Araucan\\u00eda\", \"fallecidos\": 23, \"codigo region\": 11}, {\"date\": \"2020-04-20\", \"region\": \"Los R\\u00edos\", \"fallecidos\": 3, \"codigo region\": 12}, {\"date\": \"2020-04-20\", \"region\": \"Los Lagos\", \"fallecidos\": 6, \"codigo region\": 13}, {\"date\": \"2020-04-20\", \"region\": \"Ays\\u00e9n\", \"fallecidos\": 0, \"codigo region\": 14}, {\"date\": \"2020-04-20\", \"region\": \"Magallanes\", \"fallecidos\": 6, \"codigo region\": 15}, {\"date\": \"2020-04-21\", \"region\": \"Arica y Parinacota\", \"fallecidos\": 2, \"codigo region\": 0}, {\"date\": \"2020-04-21\", \"region\": \"Tarapac\\u00e1\", \"fallecidos\": 0, \"codigo region\": 1}, {\"date\": \"2020-04-21\", \"region\": \"Antofagasta\", \"fallecidos\": 1, \"codigo region\": 2}, {\"date\": \"2020-04-21\", \"region\": \"Atacama\", \"fallecidos\": 0, \"codigo region\": 3}, {\"date\": \"2020-04-21\", \"region\": \"Coquimbo\", \"fallecidos\": 0, \"codigo region\": 4}, {\"date\": \"2020-04-21\", \"region\": \"Valpara\\u00edso\", \"fallecidos\": 6, \"codigo region\": 5}, {\"date\": \"2020-04-21\", \"region\": \"Metropolitana\", \"fallecidos\": 69, \"codigo region\": 6}, {\"date\": \"2020-04-21\", \"region\": \"O\\u2019Higgins\", \"fallecidos\": 1, \"codigo region\": 7}, {\"date\": \"2020-04-21\", \"region\": \"Maule\", \"fallecidos\": 10, \"codigo region\": 8}, {\"date\": \"2020-04-21\", \"region\": \"\\u00d1uble\", \"fallecidos\": 13, \"codigo region\": 9}, {\"date\": \"2020-04-21\", \"region\": \"Biob\\u00edo\", \"fallecidos\": 4, \"codigo region\": 10}, {\"date\": \"2020-04-21\", \"region\": \"Araucan\\u00eda\", \"fallecidos\": 25, \"codigo region\": 11}, {\"date\": \"2020-04-21\", \"region\": \"Los R\\u00edos\", \"fallecidos\": 3, \"codigo region\": 12}, {\"date\": \"2020-04-21\", \"region\": \"Los Lagos\", \"fallecidos\": 6, \"codigo region\": 13}, {\"date\": \"2020-04-21\", \"region\": \"Ays\\u00e9n\", \"fallecidos\": 0, \"codigo region\": 14}, {\"date\": \"2020-04-21\", \"region\": \"Magallanes\", \"fallecidos\": 7, \"codigo region\": 15}, {\"date\": \"2020-04-22\", \"region\": \"Arica y Parinacota\", \"fallecidos\": 2, \"codigo region\": 0}, {\"date\": \"2020-04-22\", \"region\": \"Tarapac\\u00e1\", \"fallecidos\": 0, \"codigo region\": 1}, {\"date\": \"2020-04-22\", \"region\": \"Antofagasta\", \"fallecidos\": 2, \"codigo region\": 2}, {\"date\": \"2020-04-22\", \"region\": \"Atacama\", \"fallecidos\": 0, \"codigo region\": 3}, {\"date\": \"2020-04-22\", \"region\": \"Coquimbo\", \"fallecidos\": 0, \"codigo region\": 4}, {\"date\": \"2020-04-22\", \"region\": \"Valpara\\u00edso\", \"fallecidos\": 7, \"codigo region\": 5}, {\"date\": \"2020-04-22\", \"region\": \"Metropolitana\", \"fallecidos\": 78, \"codigo region\": 6}, {\"date\": \"2020-04-22\", \"region\": \"O\\u2019Higgins\", \"fallecidos\": 1, \"codigo region\": 7}, {\"date\": \"2020-04-22\", \"region\": \"Maule\", \"fallecidos\": 10, \"codigo region\": 8}, {\"date\": \"2020-04-22\", \"region\": \"\\u00d1uble\", \"fallecidos\": 13, \"codigo region\": 9}, {\"date\": \"2020-04-22\", \"region\": \"Biob\\u00edo\", \"fallecidos\": 5, \"codigo region\": 10}, {\"date\": \"2020-04-22\", \"region\": \"Araucan\\u00eda\", \"fallecidos\": 26, \"codigo region\": 11}, {\"date\": \"2020-04-22\", \"region\": \"Los R\\u00edos\", \"fallecidos\": 3, \"codigo region\": 12}, {\"date\": \"2020-04-22\", \"region\": \"Los Lagos\", \"fallecidos\": 6, \"codigo region\": 13}, {\"date\": \"2020-04-22\", \"region\": \"Ays\\u00e9n\", \"fallecidos\": 0, \"codigo region\": 14}, {\"date\": \"2020-04-22\", \"region\": \"Magallanes\", \"fallecidos\": 7, \"codigo region\": 15}, {\"date\": \"2020-04-23\", \"region\": \"Arica y Parinacota\", \"fallecidos\": 2, \"codigo region\": 0}, {\"date\": \"2020-04-23\", \"region\": \"Tarapac\\u00e1\", \"fallecidos\": 0, \"codigo region\": 1}, {\"date\": \"2020-04-23\", \"region\": \"Antofagasta\", \"fallecidos\": 2, \"codigo region\": 2}, {\"date\": \"2020-04-23\", \"region\": \"Atacama\", \"fallecidos\": 0, \"codigo region\": 3}, {\"date\": \"2020-04-23\", \"region\": \"Coquimbo\", \"fallecidos\": 0, \"codigo region\": 4}, {\"date\": \"2020-04-23\", \"region\": \"Valpara\\u00edso\", \"fallecidos\": 7, \"codigo region\": 5}, {\"date\": \"2020-04-23\", \"region\": \"Metropolitana\", \"fallecidos\": 85, \"codigo region\": 6}, {\"date\": \"2020-04-23\", \"region\": \"O\\u2019Higgins\", \"fallecidos\": 1, \"codigo region\": 7}, {\"date\": \"2020-04-23\", \"region\": \"Maule\", \"fallecidos\": 10, \"codigo region\": 8}, {\"date\": \"2020-04-23\", \"region\": \"\\u00d1uble\", \"fallecidos\": 13, \"codigo region\": 9}, {\"date\": \"2020-04-23\", \"region\": \"Biob\\u00edo\", \"fallecidos\": 5, \"codigo region\": 10}, {\"date\": \"2020-04-23\", \"region\": \"Araucan\\u00eda\", \"fallecidos\": 26, \"codigo region\": 11}, {\"date\": \"2020-04-23\", \"region\": \"Los R\\u00edos\", \"fallecidos\": 3, \"codigo region\": 12}, {\"date\": \"2020-04-23\", \"region\": \"Los Lagos\", \"fallecidos\": 7, \"codigo region\": 13}, {\"date\": \"2020-04-23\", \"region\": \"Ays\\u00e9n\", \"fallecidos\": 0, \"codigo region\": 14}, {\"date\": \"2020-04-23\", \"region\": \"Magallanes\", \"fallecidos\": 7, \"codigo region\": 15}, {\"date\": \"2020-04-24\", \"region\": \"Arica y Parinacota\", \"fallecidos\": 3, \"codigo region\": 0}, {\"date\": \"2020-04-24\", \"region\": \"Tarapac\\u00e1\", \"fallecidos\": 0, \"codigo region\": 1}, {\"date\": \"2020-04-24\", \"region\": \"Antofagasta\", \"fallecidos\": 2, \"codigo region\": 2}, {\"date\": \"2020-04-24\", \"region\": \"Atacama\", \"fallecidos\": 0, \"codigo region\": 3}, {\"date\": \"2020-04-24\", \"region\": \"Coquimbo\", \"fallecidos\": 0, \"codigo region\": 4}, {\"date\": \"2020-04-24\", \"region\": \"Valpara\\u00edso\", \"fallecidos\": 8, \"codigo region\": 5}, {\"date\": \"2020-04-24\", \"region\": \"Metropolitana\", \"fallecidos\": 86, \"codigo region\": 6}, {\"date\": \"2020-04-24\", \"region\": \"O\\u2019Higgins\", \"fallecidos\": 1, \"codigo region\": 7}, {\"date\": \"2020-04-24\", \"region\": \"Maule\", \"fallecidos\": 10, \"codigo region\": 8}, {\"date\": \"2020-04-24\", \"region\": \"\\u00d1uble\", \"fallecidos\": 14, \"codigo region\": 9}, {\"date\": \"2020-04-24\", \"region\": \"Biob\\u00edo\", \"fallecidos\": 5, \"codigo region\": 10}, {\"date\": \"2020-04-24\", \"region\": \"Araucan\\u00eda\", \"fallecidos\": 26, \"codigo region\": 11}, {\"date\": \"2020-04-24\", \"region\": \"Los R\\u00edos\", \"fallecidos\": 3, \"codigo region\": 12}, {\"date\": \"2020-04-24\", \"region\": \"Los Lagos\", \"fallecidos\": 8, \"codigo region\": 13}, {\"date\": \"2020-04-24\", \"region\": \"Ays\\u00e9n\", \"fallecidos\": 0, \"codigo region\": 14}, {\"date\": \"2020-04-24\", \"region\": \"Magallanes\", \"fallecidos\": 8, \"codigo region\": 15}, {\"date\": \"2020-04-25\", \"region\": \"Arica y Parinacota\", \"fallecidos\": 3, \"codigo region\": 0}, {\"date\": \"2020-04-25\", \"region\": \"Tarapac\\u00e1\", \"fallecidos\": 1, \"codigo region\": 1}, {\"date\": \"2020-04-25\", \"region\": \"Antofagasta\", \"fallecidos\": 3, \"codigo region\": 2}, {\"date\": \"2020-04-25\", \"region\": \"Atacama\", \"fallecidos\": 0, \"codigo region\": 3}, {\"date\": \"2020-04-25\", \"region\": \"Coquimbo\", \"fallecidos\": 0, \"codigo region\": 4}, {\"date\": \"2020-04-25\", \"region\": \"Valpara\\u00edso\", \"fallecidos\": 9, \"codigo region\": 5}, {\"date\": \"2020-04-25\", \"region\": \"Metropolitana\", \"fallecidos\": 89, \"codigo region\": 6}, {\"date\": \"2020-04-25\", \"region\": \"O\\u2019Higgins\", \"fallecidos\": 1, \"codigo region\": 7}, {\"date\": \"2020-04-25\", \"region\": \"Maule\", \"fallecidos\": 10, \"codigo region\": 8}, {\"date\": \"2020-04-25\", \"region\": \"\\u00d1uble\", \"fallecidos\": 14, \"codigo region\": 9}, {\"date\": \"2020-04-25\", \"region\": \"Biob\\u00edo\", \"fallecidos\": 5, \"codigo region\": 10}, {\"date\": \"2020-04-25\", \"region\": \"Araucan\\u00eda\", \"fallecidos\": 27, \"codigo region\": 11}, {\"date\": \"2020-04-25\", \"region\": \"Los R\\u00edos\", \"fallecidos\": 3, \"codigo region\": 12}, {\"date\": \"2020-04-25\", \"region\": \"Los Lagos\", \"fallecidos\": 8, \"codigo region\": 13}, {\"date\": \"2020-04-25\", \"region\": \"Ays\\u00e9n\", \"fallecidos\": 0, \"codigo region\": 14}, {\"date\": \"2020-04-25\", \"region\": \"Magallanes\", \"fallecidos\": 8, \"codigo region\": 15}, {\"date\": \"2020-04-26\", \"region\": \"Arica y Parinacota\", \"fallecidos\": 3, \"codigo region\": 0}, {\"date\": \"2020-04-26\", \"region\": \"Tarapac\\u00e1\", \"fallecidos\": 1, \"codigo region\": 1}, {\"date\": \"2020-04-26\", \"region\": \"Antofagasta\", \"fallecidos\": 4, \"codigo region\": 2}, {\"date\": \"2020-04-26\", \"region\": \"Atacama\", \"fallecidos\": 0, \"codigo region\": 3}, {\"date\": \"2020-04-26\", \"region\": \"Coquimbo\", \"fallecidos\": 0, \"codigo region\": 4}, {\"date\": \"2020-04-26\", \"region\": \"Valpara\\u00edso\", \"fallecidos\": 9, \"codigo region\": 5}, {\"date\": \"2020-04-26\", \"region\": \"Metropolitana\", \"fallecidos\": 91, \"codigo region\": 6}, {\"date\": \"2020-04-26\", \"region\": \"O\\u2019Higgins\", \"fallecidos\": 1, \"codigo region\": 7}, {\"date\": \"2020-04-26\", \"region\": \"Maule\", \"fallecidos\": 11, \"codigo region\": 8}, {\"date\": \"2020-04-26\", \"region\": \"\\u00d1uble\", \"fallecidos\": 14, \"codigo region\": 9}, {\"date\": \"2020-04-26\", \"region\": \"Biob\\u00edo\", \"fallecidos\": 6, \"codigo region\": 10}, {\"date\": \"2020-04-26\", \"region\": \"Araucan\\u00eda\", \"fallecidos\": 29, \"codigo region\": 11}, {\"date\": \"2020-04-26\", \"region\": \"Los R\\u00edos\", \"fallecidos\": 3, \"codigo region\": 12}, {\"date\": \"2020-04-26\", \"region\": \"Los Lagos\", \"fallecidos\": 8, \"codigo region\": 13}, {\"date\": \"2020-04-26\", \"region\": \"Ays\\u00e9n\", \"fallecidos\": 0, \"codigo region\": 14}, {\"date\": \"2020-04-26\", \"region\": \"Magallanes\", \"fallecidos\": 9, \"codigo region\": 15}, {\"date\": \"2020-04-27\", \"region\": \"Arica y Parinacota\", \"fallecidos\": 3, \"codigo region\": 0}, {\"date\": \"2020-04-27\", \"region\": \"Tarapac\\u00e1\", \"fallecidos\": 1, \"codigo region\": 1}, {\"date\": \"2020-04-27\", \"region\": \"Antofagasta\", \"fallecidos\": 4, \"codigo region\": 2}, {\"date\": \"2020-04-27\", \"region\": \"Atacama\", \"fallecidos\": 0, \"codigo region\": 3}, {\"date\": \"2020-04-27\", \"region\": \"Coquimbo\", \"fallecidos\": 0, \"codigo region\": 4}, {\"date\": \"2020-04-27\", \"region\": \"Valpara\\u00edso\", \"fallecidos\": 9, \"codigo region\": 5}, {\"date\": \"2020-04-27\", \"region\": \"Metropolitana\", \"fallecidos\": 95, \"codigo region\": 6}, {\"date\": \"2020-04-27\", \"region\": \"O\\u2019Higgins\", \"fallecidos\": 1, \"codigo region\": 7}, {\"date\": \"2020-04-27\", \"region\": \"Maule\", \"fallecidos\": 12, \"codigo region\": 8}, {\"date\": \"2020-04-27\", \"region\": \"\\u00d1uble\", \"fallecidos\": 14, \"codigo region\": 9}, {\"date\": \"2020-04-27\", \"region\": \"Biob\\u00edo\", \"fallecidos\": 6, \"codigo region\": 10}, {\"date\": \"2020-04-27\", \"region\": \"Araucan\\u00eda\", \"fallecidos\": 32, \"codigo region\": 11}, {\"date\": \"2020-04-27\", \"region\": \"Los R\\u00edos\", \"fallecidos\": 3, \"codigo region\": 12}, {\"date\": \"2020-04-27\", \"region\": \"Los Lagos\", \"fallecidos\": 8, \"codigo region\": 13}, {\"date\": \"2020-04-27\", \"region\": \"Ays\\u00e9n\", \"fallecidos\": 0, \"codigo region\": 14}, {\"date\": \"2020-04-27\", \"region\": \"Magallanes\", \"fallecidos\": 10, \"codigo region\": 15}, {\"date\": \"2020-04-28\", \"region\": \"Arica y Parinacota\", \"fallecidos\": 3, \"codigo region\": 0}, {\"date\": \"2020-04-28\", \"region\": \"Tarapac\\u00e1\", \"fallecidos\": 1, \"codigo region\": 1}, {\"date\": \"2020-04-28\", \"region\": \"Antofagasta\", \"fallecidos\": 4, \"codigo region\": 2}, {\"date\": \"2020-04-28\", \"region\": \"Atacama\", \"fallecidos\": 0, \"codigo region\": 3}, {\"date\": \"2020-04-28\", \"region\": \"Coquimbo\", \"fallecidos\": 0, \"codigo region\": 4}, {\"date\": \"2020-04-28\", \"region\": \"Valpara\\u00edso\", \"fallecidos\": 10, \"codigo region\": 5}, {\"date\": \"2020-04-28\", \"region\": \"Metropolitana\", \"fallecidos\": 100, \"codigo region\": 6}, {\"date\": \"2020-04-28\", \"region\": \"O\\u2019Higgins\", \"fallecidos\": 1, \"codigo region\": 7}, {\"date\": \"2020-04-28\", \"region\": \"Maule\", \"fallecidos\": 12, \"codigo region\": 8}, {\"date\": \"2020-04-28\", \"region\": \"\\u00d1uble\", \"fallecidos\": 14, \"codigo region\": 9}, {\"date\": \"2020-04-28\", \"region\": \"Biob\\u00edo\", \"fallecidos\": 7, \"codigo region\": 10}, {\"date\": \"2020-04-28\", \"region\": \"Araucan\\u00eda\", \"fallecidos\": 32, \"codigo region\": 11}, {\"date\": \"2020-04-28\", \"region\": \"Los R\\u00edos\", \"fallecidos\": 4, \"codigo region\": 12}, {\"date\": \"2020-04-28\", \"region\": \"Los Lagos\", \"fallecidos\": 9, \"codigo region\": 13}, {\"date\": \"2020-04-28\", \"region\": \"Ays\\u00e9n\", \"fallecidos\": 0, \"codigo region\": 14}, {\"date\": \"2020-04-28\", \"region\": \"Magallanes\", \"fallecidos\": 10, \"codigo region\": 15}, {\"date\": \"2020-04-29\", \"region\": \"Arica y Parinacota\", \"fallecidos\": 4, \"codigo region\": 0}, {\"date\": \"2020-04-29\", \"region\": \"Tarapac\\u00e1\", \"fallecidos\": 1, \"codigo region\": 1}, {\"date\": \"2020-04-29\", \"region\": \"Antofagasta\", \"fallecidos\": 4, \"codigo region\": 2}, {\"date\": \"2020-04-29\", \"region\": \"Atacama\", \"fallecidos\": 0, \"codigo region\": 3}, {\"date\": \"2020-04-29\", \"region\": \"Coquimbo\", \"fallecidos\": 0, \"codigo region\": 4}, {\"date\": \"2020-04-29\", \"region\": \"Valpara\\u00edso\", \"fallecidos\": 12, \"codigo region\": 5}, {\"date\": \"2020-04-29\", \"region\": \"Metropolitana\", \"fallecidos\": 104, \"codigo region\": 6}, {\"date\": \"2020-04-29\", \"region\": \"O\\u2019Higgins\", \"fallecidos\": 1, \"codigo region\": 7}, {\"date\": \"2020-04-29\", \"region\": \"Maule\", \"fallecidos\": 13, \"codigo region\": 8}, {\"date\": \"2020-04-29\", \"region\": \"\\u00d1uble\", \"fallecidos\": 14, \"codigo region\": 9}, {\"date\": \"2020-04-29\", \"region\": \"Biob\\u00edo\", \"fallecidos\": 7, \"codigo region\": 10}, {\"date\": \"2020-04-29\", \"region\": \"Araucan\\u00eda\", \"fallecidos\": 32, \"codigo region\": 11}, {\"date\": \"2020-04-29\", \"region\": \"Los R\\u00edos\", \"fallecidos\": 4, \"codigo region\": 12}, {\"date\": \"2020-04-29\", \"region\": \"Los Lagos\", \"fallecidos\": 9, \"codigo region\": 13}, {\"date\": \"2020-04-29\", \"region\": \"Ays\\u00e9n\", \"fallecidos\": 0, \"codigo region\": 14}, {\"date\": \"2020-04-29\", \"region\": \"Magallanes\", \"fallecidos\": 11, \"codigo region\": 15}, {\"date\": \"2020-04-30\", \"region\": \"Arica y Parinacota\", \"fallecidos\": 4, \"codigo region\": 0}, {\"date\": \"2020-04-30\", \"region\": \"Tarapac\\u00e1\", \"fallecidos\": 1, \"codigo region\": 1}, {\"date\": \"2020-04-30\", \"region\": \"Antofagasta\", \"fallecidos\": 5, \"codigo region\": 2}, {\"date\": \"2020-04-30\", \"region\": \"Atacama\", \"fallecidos\": 0, \"codigo region\": 3}, {\"date\": \"2020-04-30\", \"region\": \"Coquimbo\", \"fallecidos\": 0, \"codigo region\": 4}, {\"date\": \"2020-04-30\", \"region\": \"Valpara\\u00edso\", \"fallecidos\": 12, \"codigo region\": 5}, {\"date\": \"2020-04-30\", \"region\": \"Metropolitana\", \"fallecidos\": 110, \"codigo region\": 6}, {\"date\": \"2020-04-30\", \"region\": \"O\\u2019Higgins\", \"fallecidos\": 1, \"codigo region\": 7}, {\"date\": \"2020-04-30\", \"region\": \"Maule\", \"fallecidos\": 13, \"codigo region\": 8}, {\"date\": \"2020-04-30\", \"region\": \"\\u00d1uble\", \"fallecidos\": 14, \"codigo region\": 9}, {\"date\": \"2020-04-30\", \"region\": \"Biob\\u00edo\", \"fallecidos\": 7, \"codigo region\": 10}, {\"date\": \"2020-04-30\", \"region\": \"Araucan\\u00eda\", \"fallecidos\": 35, \"codigo region\": 11}, {\"date\": \"2020-04-30\", \"region\": \"Los R\\u00edos\", \"fallecidos\": 4, \"codigo region\": 12}, {\"date\": \"2020-04-30\", \"region\": \"Los Lagos\", \"fallecidos\": 10, \"codigo region\": 13}, {\"date\": \"2020-04-30\", \"region\": \"Ays\\u00e9n\", \"fallecidos\": 0, \"codigo region\": 14}, {\"date\": \"2020-04-30\", \"region\": \"Magallanes\", \"fallecidos\": 11, \"codigo region\": 15}, {\"date\": \"2020-05-01\", \"region\": \"Arica y Parinacota\", \"fallecidos\": 4, \"codigo region\": 0}, {\"date\": \"2020-05-01\", \"region\": \"Tarapac\\u00e1\", \"fallecidos\": 1, \"codigo region\": 1}, {\"date\": \"2020-05-01\", \"region\": \"Antofagasta\", \"fallecidos\": 7, \"codigo region\": 2}, {\"date\": \"2020-05-01\", \"region\": \"Atacama\", \"fallecidos\": 0, \"codigo region\": 3}, {\"date\": \"2020-05-01\", \"region\": \"Coquimbo\", \"fallecidos\": 0, \"codigo region\": 4}, {\"date\": \"2020-05-01\", \"region\": \"Valpara\\u00edso\", \"fallecidos\": 12, \"codigo region\": 5}, {\"date\": \"2020-05-01\", \"region\": \"Metropolitana\", \"fallecidos\": 114, \"codigo region\": 6}, {\"date\": \"2020-05-01\", \"region\": \"O\\u2019Higgins\", \"fallecidos\": 1, \"codigo region\": 7}, {\"date\": \"2020-05-01\", \"region\": \"Maule\", \"fallecidos\": 13, \"codigo region\": 8}, {\"date\": \"2020-05-01\", \"region\": \"\\u00d1uble\", \"fallecidos\": 14, \"codigo region\": 9}, {\"date\": \"2020-05-01\", \"region\": \"Biob\\u00edo\", \"fallecidos\": 7, \"codigo region\": 10}, {\"date\": \"2020-05-01\", \"region\": \"Araucan\\u00eda\", \"fallecidos\": 36, \"codigo region\": 11}, {\"date\": \"2020-05-01\", \"region\": \"Los R\\u00edos\", \"fallecidos\": 4, \"codigo region\": 12}, {\"date\": \"2020-05-01\", \"region\": \"Los Lagos\", \"fallecidos\": 10, \"codigo region\": 13}, {\"date\": \"2020-05-01\", \"region\": \"Ays\\u00e9n\", \"fallecidos\": 0, \"codigo region\": 14}, {\"date\": \"2020-05-01\", \"region\": \"Magallanes\", \"fallecidos\": 11, \"codigo region\": 15}, {\"date\": \"2020-05-02\", \"region\": \"Arica y Parinacota\", \"fallecidos\": 4, \"codigo region\": 0}, {\"date\": \"2020-05-02\", \"region\": \"Tarapac\\u00e1\", \"fallecidos\": 1, \"codigo region\": 1}, {\"date\": \"2020-05-02\", \"region\": \"Antofagasta\", \"fallecidos\": 7, \"codigo region\": 2}, {\"date\": \"2020-05-02\", \"region\": \"Atacama\", \"fallecidos\": 0, \"codigo region\": 3}, {\"date\": \"2020-05-02\", \"region\": \"Coquimbo\", \"fallecidos\": 0, \"codigo region\": 4}, {\"date\": \"2020-05-02\", \"region\": \"Valpara\\u00edso\", \"fallecidos\": 13, \"codigo region\": 5}, {\"date\": \"2020-05-02\", \"region\": \"Metropolitana\", \"fallecidos\": 122, \"codigo region\": 6}, {\"date\": \"2020-05-02\", \"region\": \"O\\u2019Higgins\", \"fallecidos\": 3, \"codigo region\": 7}, {\"date\": \"2020-05-02\", \"region\": \"Maule\", \"fallecidos\": 13, \"codigo region\": 8}, {\"date\": \"2020-05-02\", \"region\": \"\\u00d1uble\", \"fallecidos\": 16, \"codigo region\": 9}, {\"date\": \"2020-05-02\", \"region\": \"Biob\\u00edo\", \"fallecidos\": 7, \"codigo region\": 10}, {\"date\": \"2020-05-02\", \"region\": \"Araucan\\u00eda\", \"fallecidos\": 36, \"codigo region\": 11}, {\"date\": \"2020-05-02\", \"region\": \"Los R\\u00edos\", \"fallecidos\": 4, \"codigo region\": 12}, {\"date\": \"2020-05-02\", \"region\": \"Los Lagos\", \"fallecidos\": 10, \"codigo region\": 13}, {\"date\": \"2020-05-02\", \"region\": \"Ays\\u00e9n\", \"fallecidos\": 0, \"codigo region\": 14}, {\"date\": \"2020-05-02\", \"region\": \"Magallanes\", \"fallecidos\": 11, \"codigo region\": 15}, {\"date\": \"2020-05-03\", \"region\": \"Arica y Parinacota\", \"fallecidos\": 4, \"codigo region\": 0}, {\"date\": \"2020-05-03\", \"region\": \"Tarapac\\u00e1\", \"fallecidos\": 1, \"codigo region\": 1}, {\"date\": \"2020-05-03\", \"region\": \"Antofagasta\", \"fallecidos\": 7, \"codigo region\": 2}, {\"date\": \"2020-05-03\", \"region\": \"Atacama\", \"fallecidos\": 0, \"codigo region\": 3}, {\"date\": \"2020-05-03\", \"region\": \"Coquimbo\", \"fallecidos\": 0, \"codigo region\": 4}, {\"date\": \"2020-05-03\", \"region\": \"Valpara\\u00edso\", \"fallecidos\": 13, \"codigo region\": 5}, {\"date\": \"2020-05-03\", \"region\": \"Metropolitana\", \"fallecidos\": 135, \"codigo region\": 6}, {\"date\": \"2020-05-03\", \"region\": \"O\\u2019Higgins\", \"fallecidos\": 3, \"codigo region\": 7}, {\"date\": \"2020-05-03\", \"region\": \"Maule\", \"fallecidos\": 13, \"codigo region\": 8}, {\"date\": \"2020-05-03\", \"region\": \"\\u00d1uble\", \"fallecidos\": 16, \"codigo region\": 9}, {\"date\": \"2020-05-03\", \"region\": \"Biob\\u00edo\", \"fallecidos\": 7, \"codigo region\": 10}, {\"date\": \"2020-05-03\", \"region\": \"Araucan\\u00eda\", \"fallecidos\": 36, \"codigo region\": 11}, {\"date\": \"2020-05-03\", \"region\": \"Los R\\u00edos\", \"fallecidos\": 4, \"codigo region\": 12}, {\"date\": \"2020-05-03\", \"region\": \"Los Lagos\", \"fallecidos\": 10, \"codigo region\": 13}, {\"date\": \"2020-05-03\", \"region\": \"Ays\\u00e9n\", \"fallecidos\": 0, \"codigo region\": 14}, {\"date\": \"2020-05-03\", \"region\": \"Magallanes\", \"fallecidos\": 11, \"codigo region\": 15}, {\"date\": \"2020-05-04\", \"region\": \"Arica y Parinacota\", \"fallecidos\": 4, \"codigo region\": 0}, {\"date\": \"2020-05-04\", \"region\": \"Tarapac\\u00e1\", \"fallecidos\": 1, \"codigo region\": 1}, {\"date\": \"2020-05-04\", \"region\": \"Antofagasta\", \"fallecidos\": 7, \"codigo region\": 2}, {\"date\": \"2020-05-04\", \"region\": \"Atacama\", \"fallecidos\": 0, \"codigo region\": 3}, {\"date\": \"2020-05-04\", \"region\": \"Coquimbo\", \"fallecidos\": 0, \"codigo region\": 4}, {\"date\": \"2020-05-04\", \"region\": \"Valpara\\u00edso\", \"fallecidos\": 13, \"codigo region\": 5}, {\"date\": \"2020-05-04\", \"region\": \"Metropolitana\", \"fallecidos\": 143, \"codigo region\": 6}, {\"date\": \"2020-05-04\", \"region\": \"O\\u2019Higgins\", \"fallecidos\": 3, \"codigo region\": 7}, {\"date\": \"2020-05-04\", \"region\": \"Maule\", \"fallecidos\": 13, \"codigo region\": 8}, {\"date\": \"2020-05-04\", \"region\": \"\\u00d1uble\", \"fallecidos\": 17, \"codigo region\": 9}, {\"date\": \"2020-05-04\", \"region\": \"Biob\\u00edo\", \"fallecidos\": 8, \"codigo region\": 10}, {\"date\": \"2020-05-04\", \"region\": \"Araucan\\u00eda\", \"fallecidos\": 36, \"codigo region\": 11}, {\"date\": \"2020-05-04\", \"region\": \"Los R\\u00edos\", \"fallecidos\": 4, \"codigo region\": 12}, {\"date\": \"2020-05-04\", \"region\": \"Los Lagos\", \"fallecidos\": 10, \"codigo region\": 13}, {\"date\": \"2020-05-04\", \"region\": \"Ays\\u00e9n\", \"fallecidos\": 0, \"codigo region\": 14}, {\"date\": \"2020-05-04\", \"region\": \"Magallanes\", \"fallecidos\": 11, \"codigo region\": 15}, {\"date\": \"2020-05-05\", \"region\": \"Arica y Parinacota\", \"fallecidos\": 4, \"codigo region\": 0}, {\"date\": \"2020-05-05\", \"region\": \"Tarapac\\u00e1\", \"fallecidos\": 1, \"codigo region\": 1}, {\"date\": \"2020-05-05\", \"region\": \"Antofagasta\", \"fallecidos\": 7, \"codigo region\": 2}, {\"date\": \"2020-05-05\", \"region\": \"Atacama\", \"fallecidos\": 0, \"codigo region\": 3}, {\"date\": \"2020-05-05\", \"region\": \"Coquimbo\", \"fallecidos\": 0, \"codigo region\": 4}, {\"date\": \"2020-05-05\", \"region\": \"Valpara\\u00edso\", \"fallecidos\": 15, \"codigo region\": 5}, {\"date\": \"2020-05-05\", \"region\": \"Metropolitana\", \"fallecidos\": 146, \"codigo region\": 6}, {\"date\": \"2020-05-05\", \"region\": \"O\\u2019Higgins\", \"fallecidos\": 3, \"codigo region\": 7}, {\"date\": \"2020-05-05\", \"region\": \"Maule\", \"fallecidos\": 13, \"codigo region\": 8}, {\"date\": \"2020-05-05\", \"region\": \"\\u00d1uble\", \"fallecidos\": 17, \"codigo region\": 9}, {\"date\": \"2020-05-05\", \"region\": \"Biob\\u00edo\", \"fallecidos\": 8, \"codigo region\": 10}, {\"date\": \"2020-05-05\", \"region\": \"Araucan\\u00eda\", \"fallecidos\": 36, \"codigo region\": 11}, {\"date\": \"2020-05-05\", \"region\": \"Los R\\u00edos\", \"fallecidos\": 4, \"codigo region\": 12}, {\"date\": \"2020-05-05\", \"region\": \"Los Lagos\", \"fallecidos\": 10, \"codigo region\": 13}, {\"date\": \"2020-05-05\", \"region\": \"Ays\\u00e9n\", \"fallecidos\": 0, \"codigo region\": 14}, {\"date\": \"2020-05-05\", \"region\": \"Magallanes\", \"fallecidos\": 11, \"codigo region\": 15}, {\"date\": \"2020-05-06\", \"region\": \"Arica y Parinacota\", \"fallecidos\": 5, \"codigo region\": 0}, {\"date\": \"2020-05-06\", \"region\": \"Tarapac\\u00e1\", \"fallecidos\": 1, \"codigo region\": 1}, {\"date\": \"2020-05-06\", \"region\": \"Antofagasta\", \"fallecidos\": 7, \"codigo region\": 2}, {\"date\": \"2020-05-06\", \"region\": \"Atacama\", \"fallecidos\": 0, \"codigo region\": 3}, {\"date\": \"2020-05-06\", \"region\": \"Coquimbo\", \"fallecidos\": 0, \"codigo region\": 4}, {\"date\": \"2020-05-06\", \"region\": \"Valpara\\u00edso\", \"fallecidos\": 16, \"codigo region\": 5}, {\"date\": \"2020-05-06\", \"region\": \"Metropolitana\", \"fallecidos\": 150, \"codigo region\": 6}, {\"date\": \"2020-05-06\", \"region\": \"O\\u2019Higgins\", \"fallecidos\": 3, \"codigo region\": 7}, {\"date\": \"2020-05-06\", \"region\": \"Maule\", \"fallecidos\": 13, \"codigo region\": 8}, {\"date\": \"2020-05-06\", \"region\": \"\\u00d1uble\", \"fallecidos\": 17, \"codigo region\": 9}, {\"date\": \"2020-05-06\", \"region\": \"Biob\\u00edo\", \"fallecidos\": 8, \"codigo region\": 10}, {\"date\": \"2020-05-06\", \"region\": \"Araucan\\u00eda\", \"fallecidos\": 36, \"codigo region\": 11}, {\"date\": \"2020-05-06\", \"region\": \"Los R\\u00edos\", \"fallecidos\": 4, \"codigo region\": 12}, {\"date\": \"2020-05-06\", \"region\": \"Los Lagos\", \"fallecidos\": 10, \"codigo region\": 13}, {\"date\": \"2020-05-06\", \"region\": \"Ays\\u00e9n\", \"fallecidos\": 0, \"codigo region\": 14}, {\"date\": \"2020-05-06\", \"region\": \"Magallanes\", \"fallecidos\": 11, \"codigo region\": 15}, {\"date\": \"2020-05-07\", \"region\": \"Arica y Parinacota\", \"fallecidos\": 6, \"codigo region\": 0}, {\"date\": \"2020-05-07\", \"region\": \"Tarapac\\u00e1\", \"fallecidos\": 1, \"codigo region\": 1}, {\"date\": \"2020-05-07\", \"region\": \"Antofagasta\", \"fallecidos\": 7, \"codigo region\": 2}, {\"date\": \"2020-05-07\", \"region\": \"Atacama\", \"fallecidos\": 0, \"codigo region\": 3}, {\"date\": \"2020-05-07\", \"region\": \"Coquimbo\", \"fallecidos\": 0, \"codigo region\": 4}, {\"date\": \"2020-05-07\", \"region\": \"Valpara\\u00edso\", \"fallecidos\": 17, \"codigo region\": 5}, {\"date\": \"2020-05-07\", \"region\": \"Metropolitana\", \"fallecidos\": 152, \"codigo region\": 6}, {\"date\": \"2020-05-07\", \"region\": \"O\\u2019Higgins\", \"fallecidos\": 3, \"codigo region\": 7}, {\"date\": \"2020-05-07\", \"region\": \"Maule\", \"fallecidos\": 13, \"codigo region\": 8}, {\"date\": \"2020-05-07\", \"region\": \"\\u00d1uble\", \"fallecidos\": 17, \"codigo region\": 9}, {\"date\": \"2020-05-07\", \"region\": \"Biob\\u00edo\", \"fallecidos\": 8, \"codigo region\": 10}, {\"date\": \"2020-05-07\", \"region\": \"Araucan\\u00eda\", \"fallecidos\": 36, \"codigo region\": 11}, {\"date\": \"2020-05-07\", \"region\": \"Los R\\u00edos\", \"fallecidos\": 4, \"codigo region\": 12}, {\"date\": \"2020-05-07\", \"region\": \"Los Lagos\", \"fallecidos\": 10, \"codigo region\": 13}, {\"date\": \"2020-05-07\", \"region\": \"Ays\\u00e9n\", \"fallecidos\": 0, \"codigo region\": 14}, {\"date\": \"2020-05-07\", \"region\": \"Magallanes\", \"fallecidos\": 11, \"codigo region\": 15}]}}, {\"mode\": \"vega-lite\"});\n",
       "</script>"
      ],
      "text/plain": [
       "alt.HConcatChart(...)"
      ]
     },
     "execution_count": 48,
     "metadata": {},
     "output_type": "execute_result"
    }
   ],
   "source": [
    "#hide_input\n",
    "\n",
    "input_dropdown = alt.binding_select(options=new_data['region'].unique())\n",
    "selection1 = alt.selection_single(fields=['region'], bind=input_dropdown, name=' ')\n",
    "selection2 = alt.selection_multi(fields=['region'], on='mouseover')\n",
    "\n",
    "color = alt.condition(selection1 | selection2,\n",
    "                    alt.Color('region:N', scale=alt.Scale(scheme='tableau20'), legend=None),\n",
    "                    alt.value('lightgray'))\n",
    "\n",
    "bars = alt.Chart(new_data).mark_bar().encode(\n",
    "    x=alt.X('date:O', axis=alt.Axis(title='Fecha (año-mes-día)')),\n",
    "    y=alt.Y('fallecidos', axis=alt.Axis(title='Fallecidos confirmados')),\n",
    "    color=color,\n",
    "    tooltip=['date', 'region', 'fallecidos'],\n",
    "    order=alt.Order(\n",
    "    # Sort the segments of the bars by this field\n",
    "    'codigo region',\n",
    "    sort='descending'\n",
    "    )\n",
    "    ).properties(\n",
    "    title='COVID-19 en Chile: Total de fallecidos confirmados por región'\n",
    ").add_selection(\n",
    "    selection1, selection2\n",
    ").transform_filter(\n",
    "    selection1\n",
    ")\n",
    "\n",
    "legend = alt.Chart(new_data).mark_point().encode(\n",
    "    y=alt.Y('region:N', axis=alt.Axis(orient='right'), sort=regiones),\n",
    "    color=color\n",
    ").add_selection(\n",
    "    selection1, selection2\n",
    ")\n",
    "\n",
    "bars.properties(width=600, height=400) | legend"
   ]
  },
  {
   "cell_type": "markdown",
   "metadata": {},
   "source": [
    "Fuente: [Ministerio de Ciencia](https://github.com/MinCiencia/Datos-COVID19)"
   ]
  },
  {
   "cell_type": "markdown",
   "metadata": {},
   "source": [
    "# Evolución de pacientes en UCI por región"
   ]
  },
  {
   "cell_type": "code",
   "execution_count": 49,
   "metadata": {},
   "outputs": [],
   "source": [
    "#hide\n",
    "data_raw = pd.read_csv(\n",
    "    'https://raw.githubusercontent.com/MinCiencia/Datos-COVID19/master/output/producto8/UCI.csv',\n",
    "    index_col='Region')\n",
    "data_raw = data_raw.drop(columns='Codigo region')\n",
    "data_raw.loc['Total'] = data_raw.sum(axis=0)\n",
    "data_raw = data_raw.drop(columns='Poblacion')"
   ]
  },
  {
   "cell_type": "code",
   "execution_count": 50,
   "metadata": {},
   "outputs": [],
   "source": [
    "#hide\n",
    "data_raw = data_raw.drop(\"Total\")"
   ]
  },
  {
   "cell_type": "code",
   "execution_count": 51,
   "metadata": {},
   "outputs": [],
   "source": [
    "#hide\n",
    "data = pd.DataFrame()\n",
    "i = 0\n",
    "for date in data_raw.keys():\n",
    "    for n, region in enumerate(data_raw.index):\n",
    "        data[i] = date, region, data_raw[date].loc[region], n\n",
    "        i += 1"
   ]
  },
  {
   "cell_type": "code",
   "execution_count": 52,
   "metadata": {},
   "outputs": [],
   "source": [
    "#hide\n",
    "data_raw = data_raw.reset_index()"
   ]
  },
  {
   "cell_type": "code",
   "execution_count": 53,
   "metadata": {},
   "outputs": [],
   "source": [
    "#hide\n",
    "regiones = data_raw['Region'].values"
   ]
  },
  {
   "cell_type": "code",
   "execution_count": 54,
   "metadata": {},
   "outputs": [],
   "source": [
    "#hide\n",
    "data = data.T"
   ]
  },
  {
   "cell_type": "code",
   "execution_count": 55,
   "metadata": {},
   "outputs": [],
   "source": [
    "#hide\n",
    "data = data.rename(columns={0: \"date\", 1: \"region\", 2: \"pacientes\", 3: \"codigo region\"})"
   ]
  },
  {
   "cell_type": "code",
   "execution_count": 56,
   "metadata": {},
   "outputs": [],
   "source": [
    "#hide\n",
    "data[\"pacientes\"] = data[\"pacientes\"].astype(int)"
   ]
  },
  {
   "cell_type": "code",
   "execution_count": 57,
   "metadata": {
    "scrolled": false
   },
   "outputs": [
    {
     "data": {
      "text/html": [
       "\n",
       "<div id=\"altair-viz-d9e086fd2cd94da9a0f73a088a98b4f0\"></div>\n",
       "<script type=\"text/javascript\">\n",
       "  (function(spec, embedOpt){\n",
       "    let outputDiv = document.currentScript.previousElementSibling;\n",
       "    if (outputDiv.id !== \"altair-viz-d9e086fd2cd94da9a0f73a088a98b4f0\") {\n",
       "      outputDiv = document.getElementById(\"altair-viz-d9e086fd2cd94da9a0f73a088a98b4f0\");\n",
       "    }\n",
       "    const paths = {\n",
       "      \"vega\": \"https://cdn.jsdelivr.net/npm//vega@5?noext\",\n",
       "      \"vega-lib\": \"https://cdn.jsdelivr.net/npm//vega-lib?noext\",\n",
       "      \"vega-lite\": \"https://cdn.jsdelivr.net/npm//vega-lite@4.8.1?noext\",\n",
       "      \"vega-embed\": \"https://cdn.jsdelivr.net/npm//vega-embed@6?noext\",\n",
       "    };\n",
       "\n",
       "    function loadScript(lib) {\n",
       "      return new Promise(function(resolve, reject) {\n",
       "        var s = document.createElement('script');\n",
       "        s.src = paths[lib];\n",
       "        s.async = true;\n",
       "        s.onload = () => resolve(paths[lib]);\n",
       "        s.onerror = () => reject(`Error loading script: ${paths[lib]}`);\n",
       "        document.getElementsByTagName(\"head\")[0].appendChild(s);\n",
       "      });\n",
       "    }\n",
       "\n",
       "    function showError(err) {\n",
       "      outputDiv.innerHTML = `<div class=\"error\" style=\"color:red;\">${err}</div>`;\n",
       "      throw err;\n",
       "    }\n",
       "\n",
       "    function displayChart(vegaEmbed) {\n",
       "      vegaEmbed(outputDiv, spec, embedOpt)\n",
       "        .catch(err => showError(`Javascript Error: ${err.message}<br>This usually means there's a typo in your chart specification. See the javascript console for the full traceback.`));\n",
       "    }\n",
       "\n",
       "    if(typeof define === \"function\" && define.amd) {\n",
       "      requirejs.config({paths});\n",
       "      require([\"vega-embed\"], displayChart, err => showError(`Error loading script: ${err.message}`));\n",
       "    } else if (typeof vegaEmbed === \"function\") {\n",
       "      displayChart(vegaEmbed);\n",
       "    } else {\n",
       "      loadScript(\"vega\")\n",
       "        .then(() => loadScript(\"vega-lite\"))\n",
       "        .then(() => loadScript(\"vega-embed\"))\n",
       "        .catch(showError)\n",
       "        .then(() => displayChart(vegaEmbed));\n",
       "    }\n",
       "  })({\"config\": {\"view\": {\"continuousWidth\": 400, \"continuousHeight\": 300}}, \"hconcat\": [{\"data\": {\"name\": \"data-dc5947ff4e9c598ef8f9038e7d0e9045\"}, \"mark\": \"bar\", \"encoding\": {\"color\": {\"condition\": {\"type\": \"nominal\", \"field\": \"region\", \"legend\": null, \"selection\": {\"or\": [\" \", \"selector003\"]}}, \"value\": \"lightgray\"}, \"order\": {\"type\": \"quantitative\", \"field\": \"codigo region\", \"sort\": \"descending\"}, \"tooltip\": [{\"type\": \"nominal\", \"field\": \"date\"}, {\"type\": \"nominal\", \"field\": \"region\"}, {\"type\": \"quantitative\", \"field\": \"pacientes\"}], \"x\": {\"type\": \"ordinal\", \"axis\": {\"title\": \"Fecha (a\\u00f1o-mes-d\\u00eda)\"}, \"field\": \"date\"}, \"y\": {\"type\": \"quantitative\", \"field\": \"pacientes\"}}, \"height\": 400, \"selection\": {\" \": {\"type\": \"single\", \"fields\": [\"region\"], \"bind\": {\"input\": \"select\", \"options\": [\"Arica y Parinacota\", \"Tarapac\\u00e1\", \"Antofagasta\", \"Atacama\", \"Coquimbo\", \"Valpara\\u00edso\", \"Metropolitana\", \"O\\u2019Higgins\", \"Maule\", \"\\u00d1uble\", \"Biob\\u00edo\", \"Araucan\\u00eda\", \"Los R\\u00edos\", \"Los Lagos\", \"Ays\\u00e9n\", \"Magallanes\"]}}, \"selector003\": {\"type\": \"multi\", \"fields\": [\"region\"], \"on\": \"mouseover\"}}, \"title\": \"COVID-19 en Chile: Pacientes en UCI por regi\\u00f3n\", \"transform\": [{\"filter\": {\"selection\": \" \"}}], \"width\": 600}, {\"data\": {\"name\": \"data-5dbffa7589eac455ca2ae43ce23556b0\"}, \"mark\": \"point\", \"encoding\": {\"color\": {\"condition\": {\"type\": \"nominal\", \"field\": \"region\", \"legend\": null, \"selection\": {\"or\": [\" \", \"selector003\"]}}, \"value\": \"lightgray\"}, \"y\": {\"type\": \"nominal\", \"axis\": {\"orient\": \"right\"}, \"field\": \"region\", \"sort\": [\"Arica y Parinacota\", \"Tarapac\\u00e1\", \"Antofagasta\", \"Atacama\", \"Coquimbo\", \"Valpara\\u00edso\", \"Metropolitana\", \"O\\u2019Higgins\", \"Maule\", \"\\u00d1uble\", \"Biob\\u00edo\", \"Araucan\\u00eda\", \"Los R\\u00edos\", \"Los Lagos\", \"Ays\\u00e9n\", \"Magallanes\"]}}, \"selection\": {\" \": {\"type\": \"single\", \"fields\": [\"region\"], \"bind\": {\"input\": \"select\", \"options\": [\"Arica y Parinacota\", \"Tarapac\\u00e1\", \"Antofagasta\", \"Atacama\", \"Coquimbo\", \"Valpara\\u00edso\", \"Metropolitana\", \"O\\u2019Higgins\", \"Maule\", \"\\u00d1uble\", \"Biob\\u00edo\", \"Araucan\\u00eda\", \"Los R\\u00edos\", \"Los Lagos\", \"Ays\\u00e9n\", \"Magallanes\"]}}, \"selector003\": {\"type\": \"multi\", \"fields\": [\"region\"], \"on\": \"mouseover\"}}}], \"$schema\": \"https://vega.github.io/schema/vega-lite/v4.8.1.json\", \"datasets\": {\"data-dc5947ff4e9c598ef8f9038e7d0e9045\": [{\"date\": \"2020-04-01\", \"region\": \"Arica y Parinacota\", \"pacientes\": 0, \"codigo region\": 0}, {\"date\": \"2020-04-01\", \"region\": \"Tarapac\\u00e1\", \"pacientes\": 1, \"codigo region\": 1}, {\"date\": \"2020-04-01\", \"region\": \"Antofagasta\", \"pacientes\": 3, \"codigo region\": 2}, {\"date\": \"2020-04-01\", \"region\": \"Atacama\", \"pacientes\": 0, \"codigo region\": 3}, {\"date\": \"2020-04-01\", \"region\": \"Coquimbo\", \"pacientes\": 1, \"codigo region\": 4}, {\"date\": \"2020-04-01\", \"region\": \"Valpara\\u00edso\", \"pacientes\": 14, \"codigo region\": 5}, {\"date\": \"2020-04-01\", \"region\": \"Metropolitana\", \"pacientes\": 83, \"codigo region\": 6}, {\"date\": \"2020-04-01\", \"region\": \"O\\u2019Higgins\", \"pacientes\": 5, \"codigo region\": 7}, {\"date\": \"2020-04-01\", \"region\": \"Maule\", \"pacientes\": 3, \"codigo region\": 8}, {\"date\": \"2020-04-01\", \"region\": \"\\u00d1uble\", \"pacientes\": 7, \"codigo region\": 9}, {\"date\": \"2020-04-01\", \"region\": \"Biob\\u00edo\", \"pacientes\": 14, \"codigo region\": 10}, {\"date\": \"2020-04-01\", \"region\": \"Araucan\\u00eda\", \"pacientes\": 26, \"codigo region\": 11}, {\"date\": \"2020-04-01\", \"region\": \"Los R\\u00edos\", \"pacientes\": 1, \"codigo region\": 12}, {\"date\": \"2020-04-01\", \"region\": \"Los Lagos\", \"pacientes\": 10, \"codigo region\": 13}, {\"date\": \"2020-04-01\", \"region\": \"Ays\\u00e9n\", \"pacientes\": 0, \"codigo region\": 14}, {\"date\": \"2020-04-01\", \"region\": \"Magallanes\", \"pacientes\": 5, \"codigo region\": 15}, {\"date\": \"2020-04-02\", \"region\": \"Arica y Parinacota\", \"pacientes\": 0, \"codigo region\": 0}, {\"date\": \"2020-04-02\", \"region\": \"Tarapac\\u00e1\", \"pacientes\": 1, \"codigo region\": 1}, {\"date\": \"2020-04-02\", \"region\": \"Antofagasta\", \"pacientes\": 4, \"codigo region\": 2}, {\"date\": \"2020-04-02\", \"region\": \"Atacama\", \"pacientes\": 0, \"codigo region\": 3}, {\"date\": \"2020-04-02\", \"region\": \"Coquimbo\", \"pacientes\": 1, \"codigo region\": 4}, {\"date\": \"2020-04-02\", \"region\": \"Valpara\\u00edso\", \"pacientes\": 17, \"codigo region\": 5}, {\"date\": \"2020-04-02\", \"region\": \"Metropolitana\", \"pacientes\": 90, \"codigo region\": 6}, {\"date\": \"2020-04-02\", \"region\": \"O\\u2019Higgins\", \"pacientes\": 5, \"codigo region\": 7}, {\"date\": \"2020-04-02\", \"region\": \"Maule\", \"pacientes\": 3, \"codigo region\": 8}, {\"date\": \"2020-04-02\", \"region\": \"\\u00d1uble\", \"pacientes\": 8, \"codigo region\": 9}, {\"date\": \"2020-04-02\", \"region\": \"Biob\\u00edo\", \"pacientes\": 18, \"codigo region\": 10}, {\"date\": \"2020-04-02\", \"region\": \"Araucan\\u00eda\", \"pacientes\": 29, \"codigo region\": 11}, {\"date\": \"2020-04-02\", \"region\": \"Los R\\u00edos\", \"pacientes\": 2, \"codigo region\": 12}, {\"date\": \"2020-04-02\", \"region\": \"Los Lagos\", \"pacientes\": 12, \"codigo region\": 13}, {\"date\": \"2020-04-02\", \"region\": \"Ays\\u00e9n\", \"pacientes\": 0, \"codigo region\": 14}, {\"date\": \"2020-04-02\", \"region\": \"Magallanes\", \"pacientes\": 10, \"codigo region\": 15}, {\"date\": \"2020-04-03\", \"region\": \"Arica y Parinacota\", \"pacientes\": 0, \"codigo region\": 0}, {\"date\": \"2020-04-03\", \"region\": \"Tarapac\\u00e1\", \"pacientes\": 1, \"codigo region\": 1}, {\"date\": \"2020-04-03\", \"region\": \"Antofagasta\", \"pacientes\": 3, \"codigo region\": 2}, {\"date\": \"2020-04-03\", \"region\": \"Atacama\", \"pacientes\": 0, \"codigo region\": 3}, {\"date\": \"2020-04-03\", \"region\": \"Coquimbo\", \"pacientes\": 1, \"codigo region\": 4}, {\"date\": \"2020-04-03\", \"region\": \"Valpara\\u00edso\", \"pacientes\": 18, \"codigo region\": 5}, {\"date\": \"2020-04-03\", \"region\": \"Metropolitana\", \"pacientes\": 107, \"codigo region\": 6}, {\"date\": \"2020-04-03\", \"region\": \"O\\u2019Higgins\", \"pacientes\": 5, \"codigo region\": 7}, {\"date\": \"2020-04-03\", \"region\": \"Maule\", \"pacientes\": 3, \"codigo region\": 8}, {\"date\": \"2020-04-03\", \"region\": \"\\u00d1uble\", \"pacientes\": 10, \"codigo region\": 9}, {\"date\": \"2020-04-03\", \"region\": \"Biob\\u00edo\", \"pacientes\": 21, \"codigo region\": 10}, {\"date\": \"2020-04-03\", \"region\": \"Araucan\\u00eda\", \"pacientes\": 37, \"codigo region\": 11}, {\"date\": \"2020-04-03\", \"region\": \"Los R\\u00edos\", \"pacientes\": 2, \"codigo region\": 12}, {\"date\": \"2020-04-03\", \"region\": \"Los Lagos\", \"pacientes\": 18, \"codigo region\": 13}, {\"date\": \"2020-04-03\", \"region\": \"Ays\\u00e9n\", \"pacientes\": 0, \"codigo region\": 14}, {\"date\": \"2020-04-03\", \"region\": \"Magallanes\", \"pacientes\": 11, \"codigo region\": 15}, {\"date\": \"2020-04-04\", \"region\": \"Arica y Parinacota\", \"pacientes\": 0, \"codigo region\": 0}, {\"date\": \"2020-04-04\", \"region\": \"Tarapac\\u00e1\", \"pacientes\": 1, \"codigo region\": 1}, {\"date\": \"2020-04-04\", \"region\": \"Antofagasta\", \"pacientes\": 3, \"codigo region\": 2}, {\"date\": \"2020-04-04\", \"region\": \"Atacama\", \"pacientes\": 0, \"codigo region\": 3}, {\"date\": \"2020-04-04\", \"region\": \"Coquimbo\", \"pacientes\": 2, \"codigo region\": 4}, {\"date\": \"2020-04-04\", \"region\": \"Valpara\\u00edso\", \"pacientes\": 22, \"codigo region\": 5}, {\"date\": \"2020-04-04\", \"region\": \"Metropolitana\", \"pacientes\": 129, \"codigo region\": 6}, {\"date\": \"2020-04-04\", \"region\": \"O\\u2019Higgins\", \"pacientes\": 5, \"codigo region\": 7}, {\"date\": \"2020-04-04\", \"region\": \"Maule\", \"pacientes\": 3, \"codigo region\": 8}, {\"date\": \"2020-04-04\", \"region\": \"\\u00d1uble\", \"pacientes\": 11, \"codigo region\": 9}, {\"date\": \"2020-04-04\", \"region\": \"Biob\\u00edo\", \"pacientes\": 24, \"codigo region\": 10}, {\"date\": \"2020-04-04\", \"region\": \"Araucan\\u00eda\", \"pacientes\": 44, \"codigo region\": 11}, {\"date\": \"2020-04-04\", \"region\": \"Los R\\u00edos\", \"pacientes\": 2, \"codigo region\": 12}, {\"date\": \"2020-04-04\", \"region\": \"Los Lagos\", \"pacientes\": 22, \"codigo region\": 13}, {\"date\": \"2020-04-04\", \"region\": \"Ays\\u00e9n\", \"pacientes\": 0, \"codigo region\": 14}, {\"date\": \"2020-04-04\", \"region\": \"Magallanes\", \"pacientes\": 12, \"codigo region\": 15}, {\"date\": \"2020-04-05\", \"region\": \"Arica y Parinacota\", \"pacientes\": 2, \"codigo region\": 0}, {\"date\": \"2020-04-05\", \"region\": \"Tarapac\\u00e1\", \"pacientes\": 1, \"codigo region\": 1}, {\"date\": \"2020-04-05\", \"region\": \"Antofagasta\", \"pacientes\": 3, \"codigo region\": 2}, {\"date\": \"2020-04-05\", \"region\": \"Atacama\", \"pacientes\": 0, \"codigo region\": 3}, {\"date\": \"2020-04-05\", \"region\": \"Coquimbo\", \"pacientes\": 1, \"codigo region\": 4}, {\"date\": \"2020-04-05\", \"region\": \"Valpara\\u00edso\", \"pacientes\": 27, \"codigo region\": 5}, {\"date\": \"2020-04-05\", \"region\": \"Metropolitana\", \"pacientes\": 146, \"codigo region\": 6}, {\"date\": \"2020-04-05\", \"region\": \"O\\u2019Higgins\", \"pacientes\": 5, \"codigo region\": 7}, {\"date\": \"2020-04-05\", \"region\": \"Maule\", \"pacientes\": 4, \"codigo region\": 8}, {\"date\": \"2020-04-05\", \"region\": \"\\u00d1uble\", \"pacientes\": 10, \"codigo region\": 9}, {\"date\": \"2020-04-05\", \"region\": \"Biob\\u00edo\", \"pacientes\": 26, \"codigo region\": 10}, {\"date\": \"2020-04-05\", \"region\": \"Araucan\\u00eda\", \"pacientes\": 44, \"codigo region\": 11}, {\"date\": \"2020-04-05\", \"region\": \"Los R\\u00edos\", \"pacientes\": 3, \"codigo region\": 12}, {\"date\": \"2020-04-05\", \"region\": \"Los Lagos\", \"pacientes\": 22, \"codigo region\": 13}, {\"date\": \"2020-04-05\", \"region\": \"Ays\\u00e9n\", \"pacientes\": 0, \"codigo region\": 14}, {\"date\": \"2020-04-05\", \"region\": \"Magallanes\", \"pacientes\": 13, \"codigo region\": 15}, {\"date\": \"2020-04-06\", \"region\": \"Arica y Parinacota\", \"pacientes\": 4, \"codigo region\": 0}, {\"date\": \"2020-04-06\", \"region\": \"Tarapac\\u00e1\", \"pacientes\": 2, \"codigo region\": 1}, {\"date\": \"2020-04-06\", \"region\": \"Antofagasta\", \"pacientes\": 3, \"codigo region\": 2}, {\"date\": \"2020-04-06\", \"region\": \"Atacama\", \"pacientes\": 0, \"codigo region\": 3}, {\"date\": \"2020-04-06\", \"region\": \"Coquimbo\", \"pacientes\": 1, \"codigo region\": 4}, {\"date\": \"2020-04-06\", \"region\": \"Valpara\\u00edso\", \"pacientes\": 22, \"codigo region\": 5}, {\"date\": \"2020-04-06\", \"region\": \"Metropolitana\", \"pacientes\": 161, \"codigo region\": 6}, {\"date\": \"2020-04-06\", \"region\": \"O\\u2019Higgins\", \"pacientes\": 6, \"codigo region\": 7}, {\"date\": \"2020-04-06\", \"region\": \"Maule\", \"pacientes\": 5, \"codigo region\": 8}, {\"date\": \"2020-04-06\", \"region\": \"\\u00d1uble\", \"pacientes\": 11, \"codigo region\": 9}, {\"date\": \"2020-04-06\", \"region\": \"Biob\\u00edo\", \"pacientes\": 27, \"codigo region\": 10}, {\"date\": \"2020-04-06\", \"region\": \"Araucan\\u00eda\", \"pacientes\": 46, \"codigo region\": 11}, {\"date\": \"2020-04-06\", \"region\": \"Los R\\u00edos\", \"pacientes\": 4, \"codigo region\": 12}, {\"date\": \"2020-04-06\", \"region\": \"Los Lagos\", \"pacientes\": 23, \"codigo region\": 13}, {\"date\": \"2020-04-06\", \"region\": \"Ays\\u00e9n\", \"pacientes\": 0, \"codigo region\": 14}, {\"date\": \"2020-04-06\", \"region\": \"Magallanes\", \"pacientes\": 12, \"codigo region\": 15}, {\"date\": \"2020-04-07\", \"region\": \"Arica y Parinacota\", \"pacientes\": 4, \"codigo region\": 0}, {\"date\": \"2020-04-07\", \"region\": \"Tarapac\\u00e1\", \"pacientes\": 2, \"codigo region\": 1}, {\"date\": \"2020-04-07\", \"region\": \"Antofagasta\", \"pacientes\": 2, \"codigo region\": 2}, {\"date\": \"2020-04-07\", \"region\": \"Atacama\", \"pacientes\": 0, \"codigo region\": 3}, {\"date\": \"2020-04-07\", \"region\": \"Coquimbo\", \"pacientes\": 2, \"codigo region\": 4}, {\"date\": \"2020-04-07\", \"region\": \"Valpara\\u00edso\", \"pacientes\": 21, \"codigo region\": 5}, {\"date\": \"2020-04-07\", \"region\": \"Metropolitana\", \"pacientes\": 160, \"codigo region\": 6}, {\"date\": \"2020-04-07\", \"region\": \"O\\u2019Higgins\", \"pacientes\": 6, \"codigo region\": 7}, {\"date\": \"2020-04-07\", \"region\": \"Maule\", \"pacientes\": 7, \"codigo region\": 8}, {\"date\": \"2020-04-07\", \"region\": \"\\u00d1uble\", \"pacientes\": 13, \"codigo region\": 9}, {\"date\": \"2020-04-07\", \"region\": \"Biob\\u00edo\", \"pacientes\": 32, \"codigo region\": 10}, {\"date\": \"2020-04-07\", \"region\": \"Araucan\\u00eda\", \"pacientes\": 46, \"codigo region\": 11}, {\"date\": \"2020-04-07\", \"region\": \"Los R\\u00edos\", \"pacientes\": 6, \"codigo region\": 12}, {\"date\": \"2020-04-07\", \"region\": \"Los Lagos\", \"pacientes\": 24, \"codigo region\": 13}, {\"date\": \"2020-04-07\", \"region\": \"Ays\\u00e9n\", \"pacientes\": 0, \"codigo region\": 14}, {\"date\": \"2020-04-07\", \"region\": \"Magallanes\", \"pacientes\": 12, \"codigo region\": 15}, {\"date\": \"2020-04-08\", \"region\": \"Arica y Parinacota\", \"pacientes\": 5, \"codigo region\": 0}, {\"date\": \"2020-04-08\", \"region\": \"Tarapac\\u00e1\", \"pacientes\": 2, \"codigo region\": 1}, {\"date\": \"2020-04-08\", \"region\": \"Antofagasta\", \"pacientes\": 2, \"codigo region\": 2}, {\"date\": \"2020-04-08\", \"region\": \"Atacama\", \"pacientes\": 1, \"codigo region\": 3}, {\"date\": \"2020-04-08\", \"region\": \"Coquimbo\", \"pacientes\": 1, \"codigo region\": 4}, {\"date\": \"2020-04-08\", \"region\": \"Valpara\\u00edso\", \"pacientes\": 20, \"codigo region\": 5}, {\"date\": \"2020-04-08\", \"region\": \"Metropolitana\", \"pacientes\": 174, \"codigo region\": 6}, {\"date\": \"2020-04-08\", \"region\": \"O\\u2019Higgins\", \"pacientes\": 6, \"codigo region\": 7}, {\"date\": \"2020-04-08\", \"region\": \"Maule\", \"pacientes\": 8, \"codigo region\": 8}, {\"date\": \"2020-04-08\", \"region\": \"\\u00d1uble\", \"pacientes\": 13, \"codigo region\": 9}, {\"date\": \"2020-04-08\", \"region\": \"Biob\\u00edo\", \"pacientes\": 31, \"codigo region\": 10}, {\"date\": \"2020-04-08\", \"region\": \"Araucan\\u00eda\", \"pacientes\": 54, \"codigo region\": 11}, {\"date\": \"2020-04-08\", \"region\": \"Los R\\u00edos\", \"pacientes\": 6, \"codigo region\": 12}, {\"date\": \"2020-04-08\", \"region\": \"Los Lagos\", \"pacientes\": 25, \"codigo region\": 13}, {\"date\": \"2020-04-08\", \"region\": \"Ays\\u00e9n\", \"pacientes\": 0, \"codigo region\": 14}, {\"date\": \"2020-04-08\", \"region\": \"Magallanes\", \"pacientes\": 14, \"codigo region\": 15}, {\"date\": \"2020-04-09\", \"region\": \"Arica y Parinacota\", \"pacientes\": 5, \"codigo region\": 0}, {\"date\": \"2020-04-09\", \"region\": \"Tarapac\\u00e1\", \"pacientes\": 2, \"codigo region\": 1}, {\"date\": \"2020-04-09\", \"region\": \"Antofagasta\", \"pacientes\": 2, \"codigo region\": 2}, {\"date\": \"2020-04-09\", \"region\": \"Atacama\", \"pacientes\": 1, \"codigo region\": 3}, {\"date\": \"2020-04-09\", \"region\": \"Coquimbo\", \"pacientes\": 1, \"codigo region\": 4}, {\"date\": \"2020-04-09\", \"region\": \"Valpara\\u00edso\", \"pacientes\": 22, \"codigo region\": 5}, {\"date\": \"2020-04-09\", \"region\": \"Metropolitana\", \"pacientes\": 164, \"codigo region\": 6}, {\"date\": \"2020-04-09\", \"region\": \"O\\u2019Higgins\", \"pacientes\": 6, \"codigo region\": 7}, {\"date\": \"2020-04-09\", \"region\": \"Maule\", \"pacientes\": 10, \"codigo region\": 8}, {\"date\": \"2020-04-09\", \"region\": \"\\u00d1uble\", \"pacientes\": 13, \"codigo region\": 9}, {\"date\": \"2020-04-09\", \"region\": \"Biob\\u00edo\", \"pacientes\": 33, \"codigo region\": 10}, {\"date\": \"2020-04-09\", \"region\": \"Araucan\\u00eda\", \"pacientes\": 56, \"codigo region\": 11}, {\"date\": \"2020-04-09\", \"region\": \"Los R\\u00edos\", \"pacientes\": 7, \"codigo region\": 12}, {\"date\": \"2020-04-09\", \"region\": \"Los Lagos\", \"pacientes\": 24, \"codigo region\": 13}, {\"date\": \"2020-04-09\", \"region\": \"Ays\\u00e9n\", \"pacientes\": 0, \"codigo region\": 14}, {\"date\": \"2020-04-09\", \"region\": \"Magallanes\", \"pacientes\": 14, \"codigo region\": 15}, {\"date\": \"2020-04-10\", \"region\": \"Arica y Parinacota\", \"pacientes\": 5, \"codigo region\": 0}, {\"date\": \"2020-04-10\", \"region\": \"Tarapac\\u00e1\", \"pacientes\": 3, \"codigo region\": 1}, {\"date\": \"2020-04-10\", \"region\": \"Antofagasta\", \"pacientes\": 3, \"codigo region\": 2}, {\"date\": \"2020-04-10\", \"region\": \"Atacama\", \"pacientes\": 1, \"codigo region\": 3}, {\"date\": \"2020-04-10\", \"region\": \"Coquimbo\", \"pacientes\": 2, \"codigo region\": 4}, {\"date\": \"2020-04-10\", \"region\": \"Valpara\\u00edso\", \"pacientes\": 21, \"codigo region\": 5}, {\"date\": \"2020-04-10\", \"region\": \"Metropolitana\", \"pacientes\": 181, \"codigo region\": 6}, {\"date\": \"2020-04-10\", \"region\": \"O\\u2019Higgins\", \"pacientes\": 7, \"codigo region\": 7}, {\"date\": \"2020-04-10\", \"region\": \"Maule\", \"pacientes\": 11, \"codigo region\": 8}, {\"date\": \"2020-04-10\", \"region\": \"\\u00d1uble\", \"pacientes\": 13, \"codigo region\": 9}, {\"date\": \"2020-04-10\", \"region\": \"Biob\\u00edo\", \"pacientes\": 32, \"codigo region\": 10}, {\"date\": \"2020-04-10\", \"region\": \"Araucan\\u00eda\", \"pacientes\": 57, \"codigo region\": 11}, {\"date\": \"2020-04-10\", \"region\": \"Los R\\u00edos\", \"pacientes\": 7, \"codigo region\": 12}, {\"date\": \"2020-04-10\", \"region\": \"Los Lagos\", \"pacientes\": 25, \"codigo region\": 13}, {\"date\": \"2020-04-10\", \"region\": \"Ays\\u00e9n\", \"pacientes\": 0, \"codigo region\": 14}, {\"date\": \"2020-04-10\", \"region\": \"Magallanes\", \"pacientes\": 15, \"codigo region\": 15}, {\"date\": \"2020-04-11\", \"region\": \"Arica y Parinacota\", \"pacientes\": 5, \"codigo region\": 0}, {\"date\": \"2020-04-11\", \"region\": \"Tarapac\\u00e1\", \"pacientes\": 3, \"codigo region\": 1}, {\"date\": \"2020-04-11\", \"region\": \"Antofagasta\", \"pacientes\": 2, \"codigo region\": 2}, {\"date\": \"2020-04-11\", \"region\": \"Atacama\", \"pacientes\": 1, \"codigo region\": 3}, {\"date\": \"2020-04-11\", \"region\": \"Coquimbo\", \"pacientes\": 2, \"codigo region\": 4}, {\"date\": \"2020-04-11\", \"region\": \"Valpara\\u00edso\", \"pacientes\": 22, \"codigo region\": 5}, {\"date\": \"2020-04-11\", \"region\": \"Metropolitana\", \"pacientes\": 178, \"codigo region\": 6}, {\"date\": \"2020-04-11\", \"region\": \"O\\u2019Higgins\", \"pacientes\": 7, \"codigo region\": 7}, {\"date\": \"2020-04-11\", \"region\": \"Maule\", \"pacientes\": 13, \"codigo region\": 8}, {\"date\": \"2020-04-11\", \"region\": \"\\u00d1uble\", \"pacientes\": 13, \"codigo region\": 9}, {\"date\": \"2020-04-11\", \"region\": \"Biob\\u00edo\", \"pacientes\": 33, \"codigo region\": 10}, {\"date\": \"2020-04-11\", \"region\": \"Araucan\\u00eda\", \"pacientes\": 53, \"codigo region\": 11}, {\"date\": \"2020-04-11\", \"region\": \"Los R\\u00edos\", \"pacientes\": 7, \"codigo region\": 12}, {\"date\": \"2020-04-11\", \"region\": \"Los Lagos\", \"pacientes\": 26, \"codigo region\": 13}, {\"date\": \"2020-04-11\", \"region\": \"Ays\\u00e9n\", \"pacientes\": 0, \"codigo region\": 14}, {\"date\": \"2020-04-11\", \"region\": \"Magallanes\", \"pacientes\": 18, \"codigo region\": 15}, {\"date\": \"2020-04-12\", \"region\": \"Arica y Parinacota\", \"pacientes\": 5, \"codigo region\": 0}, {\"date\": \"2020-04-12\", \"region\": \"Tarapac\\u00e1\", \"pacientes\": 2, \"codigo region\": 1}, {\"date\": \"2020-04-12\", \"region\": \"Antofagasta\", \"pacientes\": 3, \"codigo region\": 2}, {\"date\": \"2020-04-12\", \"region\": \"Atacama\", \"pacientes\": 1, \"codigo region\": 3}, {\"date\": \"2020-04-12\", \"region\": \"Coquimbo\", \"pacientes\": 1, \"codigo region\": 4}, {\"date\": \"2020-04-12\", \"region\": \"Valpara\\u00edso\", \"pacientes\": 18, \"codigo region\": 5}, {\"date\": \"2020-04-12\", \"region\": \"Metropolitana\", \"pacientes\": 185, \"codigo region\": 6}, {\"date\": \"2020-04-12\", \"region\": \"O\\u2019Higgins\", \"pacientes\": 7, \"codigo region\": 7}, {\"date\": \"2020-04-12\", \"region\": \"Maule\", \"pacientes\": 15, \"codigo region\": 8}, {\"date\": \"2020-04-12\", \"region\": \"\\u00d1uble\", \"pacientes\": 12, \"codigo region\": 9}, {\"date\": \"2020-04-12\", \"region\": \"Biob\\u00edo\", \"pacientes\": 31, \"codigo region\": 10}, {\"date\": \"2020-04-12\", \"region\": \"Araucan\\u00eda\", \"pacientes\": 56, \"codigo region\": 11}, {\"date\": \"2020-04-12\", \"region\": \"Los R\\u00edos\", \"pacientes\": 7, \"codigo region\": 12}, {\"date\": \"2020-04-12\", \"region\": \"Los Lagos\", \"pacientes\": 26, \"codigo region\": 13}, {\"date\": \"2020-04-12\", \"region\": \"Ays\\u00e9n\", \"pacientes\": 0, \"codigo region\": 14}, {\"date\": \"2020-04-12\", \"region\": \"Magallanes\", \"pacientes\": 18, \"codigo region\": 15}, {\"date\": \"2020-04-13\", \"region\": \"Arica y Parinacota\", \"pacientes\": 5, \"codigo region\": 0}, {\"date\": \"2020-04-13\", \"region\": \"Tarapac\\u00e1\", \"pacientes\": 2, \"codigo region\": 1}, {\"date\": \"2020-04-13\", \"region\": \"Antofagasta\", \"pacientes\": 4, \"codigo region\": 2}, {\"date\": \"2020-04-13\", \"region\": \"Atacama\", \"pacientes\": 1, \"codigo region\": 3}, {\"date\": \"2020-04-13\", \"region\": \"Coquimbo\", \"pacientes\": 0, \"codigo region\": 4}, {\"date\": \"2020-04-13\", \"region\": \"Valpara\\u00edso\", \"pacientes\": 16, \"codigo region\": 5}, {\"date\": \"2020-04-13\", \"region\": \"Metropolitana\", \"pacientes\": 189, \"codigo region\": 6}, {\"date\": \"2020-04-13\", \"region\": \"O\\u2019Higgins\", \"pacientes\": 7, \"codigo region\": 7}, {\"date\": \"2020-04-13\", \"region\": \"Maule\", \"pacientes\": 16, \"codigo region\": 8}, {\"date\": \"2020-04-13\", \"region\": \"\\u00d1uble\", \"pacientes\": 13, \"codigo region\": 9}, {\"date\": \"2020-04-13\", \"region\": \"Biob\\u00edo\", \"pacientes\": 35, \"codigo region\": 10}, {\"date\": \"2020-04-13\", \"region\": \"Araucan\\u00eda\", \"pacientes\": 52, \"codigo region\": 11}, {\"date\": \"2020-04-13\", \"region\": \"Los R\\u00edos\", \"pacientes\": 7, \"codigo region\": 12}, {\"date\": \"2020-04-13\", \"region\": \"Los Lagos\", \"pacientes\": 25, \"codigo region\": 13}, {\"date\": \"2020-04-13\", \"region\": \"Ays\\u00e9n\", \"pacientes\": 0, \"codigo region\": 14}, {\"date\": \"2020-04-13\", \"region\": \"Magallanes\", \"pacientes\": 15, \"codigo region\": 15}, {\"date\": \"2020-04-14\", \"region\": \"Arica y Parinacota\", \"pacientes\": 5, \"codigo region\": 0}, {\"date\": \"2020-04-14\", \"region\": \"Tarapac\\u00e1\", \"pacientes\": 1, \"codigo region\": 1}, {\"date\": \"2020-04-14\", \"region\": \"Antofagasta\", \"pacientes\": 4, \"codigo region\": 2}, {\"date\": \"2020-04-14\", \"region\": \"Atacama\", \"pacientes\": 1, \"codigo region\": 3}, {\"date\": \"2020-04-14\", \"region\": \"Coquimbo\", \"pacientes\": 1, \"codigo region\": 4}, {\"date\": \"2020-04-14\", \"region\": \"Valpara\\u00edso\", \"pacientes\": 16, \"codigo region\": 5}, {\"date\": \"2020-04-14\", \"region\": \"Metropolitana\", \"pacientes\": 190, \"codigo region\": 6}, {\"date\": \"2020-04-14\", \"region\": \"O\\u2019Higgins\", \"pacientes\": 5, \"codigo region\": 7}, {\"date\": \"2020-04-14\", \"region\": \"Maule\", \"pacientes\": 15, \"codigo region\": 8}, {\"date\": \"2020-04-14\", \"region\": \"\\u00d1uble\", \"pacientes\": 12, \"codigo region\": 9}, {\"date\": \"2020-04-14\", \"region\": \"Biob\\u00edo\", \"pacientes\": 35, \"codigo region\": 10}, {\"date\": \"2020-04-14\", \"region\": \"Araucan\\u00eda\", \"pacientes\": 46, \"codigo region\": 11}, {\"date\": \"2020-04-14\", \"region\": \"Los R\\u00edos\", \"pacientes\": 7, \"codigo region\": 12}, {\"date\": \"2020-04-14\", \"region\": \"Los Lagos\", \"pacientes\": 26, \"codigo region\": 13}, {\"date\": \"2020-04-14\", \"region\": \"Ays\\u00e9n\", \"pacientes\": 0, \"codigo region\": 14}, {\"date\": \"2020-04-14\", \"region\": \"Magallanes\", \"pacientes\": 15, \"codigo region\": 15}, {\"date\": \"2020-04-15\", \"region\": \"Arica y Parinacota\", \"pacientes\": 5, \"codigo region\": 0}, {\"date\": \"2020-04-15\", \"region\": \"Tarapac\\u00e1\", \"pacientes\": 0, \"codigo region\": 1}, {\"date\": \"2020-04-15\", \"region\": \"Antofagasta\", \"pacientes\": 5, \"codigo region\": 2}, {\"date\": \"2020-04-15\", \"region\": \"Atacama\", \"pacientes\": 1, \"codigo region\": 3}, {\"date\": \"2020-04-15\", \"region\": \"Coquimbo\", \"pacientes\": 1, \"codigo region\": 4}, {\"date\": \"2020-04-15\", \"region\": \"Valpara\\u00edso\", \"pacientes\": 16, \"codigo region\": 5}, {\"date\": \"2020-04-15\", \"region\": \"Metropolitana\", \"pacientes\": 198, \"codigo region\": 6}, {\"date\": \"2020-04-15\", \"region\": \"O\\u2019Higgins\", \"pacientes\": 6, \"codigo region\": 7}, {\"date\": \"2020-04-15\", \"region\": \"Maule\", \"pacientes\": 15, \"codigo region\": 8}, {\"date\": \"2020-04-15\", \"region\": \"\\u00d1uble\", \"pacientes\": 13, \"codigo region\": 9}, {\"date\": \"2020-04-15\", \"region\": \"Biob\\u00edo\", \"pacientes\": 35, \"codigo region\": 10}, {\"date\": \"2020-04-15\", \"region\": \"Araucan\\u00eda\", \"pacientes\": 46, \"codigo region\": 11}, {\"date\": \"2020-04-15\", \"region\": \"Los R\\u00edos\", \"pacientes\": 6, \"codigo region\": 12}, {\"date\": \"2020-04-15\", \"region\": \"Los Lagos\", \"pacientes\": 26, \"codigo region\": 13}, {\"date\": \"2020-04-15\", \"region\": \"Ays\\u00e9n\", \"pacientes\": 0, \"codigo region\": 14}, {\"date\": \"2020-04-15\", \"region\": \"Magallanes\", \"pacientes\": 16, \"codigo region\": 15}, {\"date\": \"2020-04-16\", \"region\": \"Arica y Parinacota\", \"pacientes\": 6, \"codigo region\": 0}, {\"date\": \"2020-04-16\", \"region\": \"Tarapac\\u00e1\", \"pacientes\": 0, \"codigo region\": 1}, {\"date\": \"2020-04-16\", \"region\": \"Antofagasta\", \"pacientes\": 5, \"codigo region\": 2}, {\"date\": \"2020-04-16\", \"region\": \"Atacama\", \"pacientes\": 1, \"codigo region\": 3}, {\"date\": \"2020-04-16\", \"region\": \"Coquimbo\", \"pacientes\": 0, \"codigo region\": 4}, {\"date\": \"2020-04-16\", \"region\": \"Valpara\\u00edso\", \"pacientes\": 18, \"codigo region\": 5}, {\"date\": \"2020-04-16\", \"region\": \"Metropolitana\", \"pacientes\": 196, \"codigo region\": 6}, {\"date\": \"2020-04-16\", \"region\": \"O\\u2019Higgins\", \"pacientes\": 4, \"codigo region\": 7}, {\"date\": \"2020-04-16\", \"region\": \"Maule\", \"pacientes\": 13, \"codigo region\": 8}, {\"date\": \"2020-04-16\", \"region\": \"\\u00d1uble\", \"pacientes\": 12, \"codigo region\": 9}, {\"date\": \"2020-04-16\", \"region\": \"Biob\\u00edo\", \"pacientes\": 30, \"codigo region\": 10}, {\"date\": \"2020-04-16\", \"region\": \"Araucan\\u00eda\", \"pacientes\": 47, \"codigo region\": 11}, {\"date\": \"2020-04-16\", \"region\": \"Los R\\u00edos\", \"pacientes\": 7, \"codigo region\": 12}, {\"date\": \"2020-04-16\", \"region\": \"Los Lagos\", \"pacientes\": 27, \"codigo region\": 13}, {\"date\": \"2020-04-16\", \"region\": \"Ays\\u00e9n\", \"pacientes\": 0, \"codigo region\": 14}, {\"date\": \"2020-04-16\", \"region\": \"Magallanes\", \"pacientes\": 18, \"codigo region\": 15}, {\"date\": \"2020-04-17\", \"region\": \"Arica y Parinacota\", \"pacientes\": 6, \"codigo region\": 0}, {\"date\": \"2020-04-17\", \"region\": \"Tarapac\\u00e1\", \"pacientes\": 0, \"codigo region\": 1}, {\"date\": \"2020-04-17\", \"region\": \"Antofagasta\", \"pacientes\": 6, \"codigo region\": 2}, {\"date\": \"2020-04-17\", \"region\": \"Atacama\", \"pacientes\": 1, \"codigo region\": 3}, {\"date\": \"2020-04-17\", \"region\": \"Coquimbo\", \"pacientes\": 0, \"codigo region\": 4}, {\"date\": \"2020-04-17\", \"region\": \"Valpara\\u00edso\", \"pacientes\": 18, \"codigo region\": 5}, {\"date\": \"2020-04-17\", \"region\": \"Metropolitana\", \"pacientes\": 202, \"codigo region\": 6}, {\"date\": \"2020-04-17\", \"region\": \"O\\u2019Higgins\", \"pacientes\": 4, \"codigo region\": 7}, {\"date\": \"2020-04-17\", \"region\": \"Maule\", \"pacientes\": 12, \"codigo region\": 8}, {\"date\": \"2020-04-17\", \"region\": \"\\u00d1uble\", \"pacientes\": 12, \"codigo region\": 9}, {\"date\": \"2020-04-17\", \"region\": \"Biob\\u00edo\", \"pacientes\": 27, \"codigo region\": 10}, {\"date\": \"2020-04-17\", \"region\": \"Araucan\\u00eda\", \"pacientes\": 47, \"codigo region\": 11}, {\"date\": \"2020-04-17\", \"region\": \"Los R\\u00edos\", \"pacientes\": 6, \"codigo region\": 12}, {\"date\": \"2020-04-17\", \"region\": \"Los Lagos\", \"pacientes\": 26, \"codigo region\": 13}, {\"date\": \"2020-04-17\", \"region\": \"Ays\\u00e9n\", \"pacientes\": 0, \"codigo region\": 14}, {\"date\": \"2020-04-17\", \"region\": \"Magallanes\", \"pacientes\": 18, \"codigo region\": 15}, {\"date\": \"2020-04-18\", \"region\": \"Arica y Parinacota\", \"pacientes\": 5, \"codigo region\": 0}, {\"date\": \"2020-04-18\", \"region\": \"Tarapac\\u00e1\", \"pacientes\": 0, \"codigo region\": 1}, {\"date\": \"2020-04-18\", \"region\": \"Antofagasta\", \"pacientes\": 5, \"codigo region\": 2}, {\"date\": \"2020-04-18\", \"region\": \"Atacama\", \"pacientes\": 1, \"codigo region\": 3}, {\"date\": \"2020-04-18\", \"region\": \"Coquimbo\", \"pacientes\": 0, \"codigo region\": 4}, {\"date\": \"2020-04-18\", \"region\": \"Valpara\\u00edso\", \"pacientes\": 19, \"codigo region\": 5}, {\"date\": \"2020-04-18\", \"region\": \"Metropolitana\", \"pacientes\": 181, \"codigo region\": 6}, {\"date\": \"2020-04-18\", \"region\": \"O\\u2019Higgins\", \"pacientes\": 4, \"codigo region\": 7}, {\"date\": \"2020-04-18\", \"region\": \"Maule\", \"pacientes\": 12, \"codigo region\": 8}, {\"date\": \"2020-04-18\", \"region\": \"\\u00d1uble\", \"pacientes\": 13, \"codigo region\": 9}, {\"date\": \"2020-04-18\", \"region\": \"Biob\\u00edo\", \"pacientes\": 25, \"codigo region\": 10}, {\"date\": \"2020-04-18\", \"region\": \"Araucan\\u00eda\", \"pacientes\": 46, \"codigo region\": 11}, {\"date\": \"2020-04-18\", \"region\": \"Los R\\u00edos\", \"pacientes\": 6, \"codigo region\": 12}, {\"date\": \"2020-04-18\", \"region\": \"Los Lagos\", \"pacientes\": 26, \"codigo region\": 13}, {\"date\": \"2020-04-18\", \"region\": \"Ays\\u00e9n\", \"pacientes\": 0, \"codigo region\": 14}, {\"date\": \"2020-04-18\", \"region\": \"Magallanes\", \"pacientes\": 17, \"codigo region\": 15}, {\"date\": \"2020-04-19\", \"region\": \"Arica y Parinacota\", \"pacientes\": 5, \"codigo region\": 0}, {\"date\": \"2020-04-19\", \"region\": \"Tarapac\\u00e1\", \"pacientes\": 1, \"codigo region\": 1}, {\"date\": \"2020-04-19\", \"region\": \"Antofagasta\", \"pacientes\": 5, \"codigo region\": 2}, {\"date\": \"2020-04-19\", \"region\": \"Atacama\", \"pacientes\": 1, \"codigo region\": 3}, {\"date\": \"2020-04-19\", \"region\": \"Coquimbo\", \"pacientes\": 0, \"codigo region\": 4}, {\"date\": \"2020-04-19\", \"region\": \"Valpara\\u00edso\", \"pacientes\": 22, \"codigo region\": 5}, {\"date\": \"2020-04-19\", \"region\": \"Metropolitana\", \"pacientes\": 186, \"codigo region\": 6}, {\"date\": \"2020-04-19\", \"region\": \"O\\u2019Higgins\", \"pacientes\": 4, \"codigo region\": 7}, {\"date\": \"2020-04-19\", \"region\": \"Maule\", \"pacientes\": 15, \"codigo region\": 8}, {\"date\": \"2020-04-19\", \"region\": \"\\u00d1uble\", \"pacientes\": 14, \"codigo region\": 9}, {\"date\": \"2020-04-19\", \"region\": \"Biob\\u00edo\", \"pacientes\": 26, \"codigo region\": 10}, {\"date\": \"2020-04-19\", \"region\": \"Araucan\\u00eda\", \"pacientes\": 44, \"codigo region\": 11}, {\"date\": \"2020-04-19\", \"region\": \"Los R\\u00edos\", \"pacientes\": 7, \"codigo region\": 12}, {\"date\": \"2020-04-19\", \"region\": \"Los Lagos\", \"pacientes\": 25, \"codigo region\": 13}, {\"date\": \"2020-04-19\", \"region\": \"Ays\\u00e9n\", \"pacientes\": 0, \"codigo region\": 14}, {\"date\": \"2020-04-19\", \"region\": \"Magallanes\", \"pacientes\": 18, \"codigo region\": 15}, {\"date\": \"2020-04-20\", \"region\": \"Arica y Parinacota\", \"pacientes\": 5, \"codigo region\": 0}, {\"date\": \"2020-04-20\", \"region\": \"Tarapac\\u00e1\", \"pacientes\": 1, \"codigo region\": 1}, {\"date\": \"2020-04-20\", \"region\": \"Antofagasta\", \"pacientes\": 5, \"codigo region\": 2}, {\"date\": \"2020-04-20\", \"region\": \"Atacama\", \"pacientes\": 1, \"codigo region\": 3}, {\"date\": \"2020-04-20\", \"region\": \"Coquimbo\", \"pacientes\": 0, \"codigo region\": 4}, {\"date\": \"2020-04-20\", \"region\": \"Valpara\\u00edso\", \"pacientes\": 22, \"codigo region\": 5}, {\"date\": \"2020-04-20\", \"region\": \"Metropolitana\", \"pacientes\": 194, \"codigo region\": 6}, {\"date\": \"2020-04-20\", \"region\": \"O\\u2019Higgins\", \"pacientes\": 4, \"codigo region\": 7}, {\"date\": \"2020-04-20\", \"region\": \"Maule\", \"pacientes\": 9, \"codigo region\": 8}, {\"date\": \"2020-04-20\", \"region\": \"\\u00d1uble\", \"pacientes\": 15, \"codigo region\": 9}, {\"date\": \"2020-04-20\", \"region\": \"Biob\\u00edo\", \"pacientes\": 26, \"codigo region\": 10}, {\"date\": \"2020-04-20\", \"region\": \"Araucan\\u00eda\", \"pacientes\": 45, \"codigo region\": 11}, {\"date\": \"2020-04-20\", \"region\": \"Los R\\u00edos\", \"pacientes\": 5, \"codigo region\": 12}, {\"date\": \"2020-04-20\", \"region\": \"Los Lagos\", \"pacientes\": 24, \"codigo region\": 13}, {\"date\": \"2020-04-20\", \"region\": \"Ays\\u00e9n\", \"pacientes\": 0, \"codigo region\": 14}, {\"date\": \"2020-04-20\", \"region\": \"Magallanes\", \"pacientes\": 21, \"codigo region\": 15}, {\"date\": \"2020-04-21\", \"region\": \"Arica y Parinacota\", \"pacientes\": 5, \"codigo region\": 0}, {\"date\": \"2020-04-21\", \"region\": \"Tarapac\\u00e1\", \"pacientes\": 1, \"codigo region\": 1}, {\"date\": \"2020-04-21\", \"region\": \"Antofagasta\", \"pacientes\": 7, \"codigo region\": 2}, {\"date\": \"2020-04-21\", \"region\": \"Atacama\", \"pacientes\": 1, \"codigo region\": 3}, {\"date\": \"2020-04-21\", \"region\": \"Coquimbo\", \"pacientes\": 0, \"codigo region\": 4}, {\"date\": \"2020-04-21\", \"region\": \"Valpara\\u00edso\", \"pacientes\": 22, \"codigo region\": 5}, {\"date\": \"2020-04-21\", \"region\": \"Metropolitana\", \"pacientes\": 204, \"codigo region\": 6}, {\"date\": \"2020-04-21\", \"region\": \"O\\u2019Higgins\", \"pacientes\": 3, \"codigo region\": 7}, {\"date\": \"2020-04-21\", \"region\": \"Maule\", \"pacientes\": 14, \"codigo region\": 8}, {\"date\": \"2020-04-21\", \"region\": \"\\u00d1uble\", \"pacientes\": 15, \"codigo region\": 9}, {\"date\": \"2020-04-21\", \"region\": \"Biob\\u00edo\", \"pacientes\": 25, \"codigo region\": 10}, {\"date\": \"2020-04-21\", \"region\": \"Araucan\\u00eda\", \"pacientes\": 45, \"codigo region\": 11}, {\"date\": \"2020-04-21\", \"region\": \"Los R\\u00edos\", \"pacientes\": 6, \"codigo region\": 12}, {\"date\": \"2020-04-21\", \"region\": \"Los Lagos\", \"pacientes\": 25, \"codigo region\": 13}, {\"date\": \"2020-04-21\", \"region\": \"Ays\\u00e9n\", \"pacientes\": 0, \"codigo region\": 14}, {\"date\": \"2020-04-21\", \"region\": \"Magallanes\", \"pacientes\": 19, \"codigo region\": 15}, {\"date\": \"2020-04-22\", \"region\": \"Arica y Parinacota\", \"pacientes\": 4, \"codigo region\": 0}, {\"date\": \"2020-04-22\", \"region\": \"Tarapac\\u00e1\", \"pacientes\": 2, \"codigo region\": 1}, {\"date\": \"2020-04-22\", \"region\": \"Antofagasta\", \"pacientes\": 10, \"codigo region\": 2}, {\"date\": \"2020-04-22\", \"region\": \"Atacama\", \"pacientes\": 1, \"codigo region\": 3}, {\"date\": \"2020-04-22\", \"region\": \"Coquimbo\", \"pacientes\": 0, \"codigo region\": 4}, {\"date\": \"2020-04-22\", \"region\": \"Valpara\\u00edso\", \"pacientes\": 24, \"codigo region\": 5}, {\"date\": \"2020-04-22\", \"region\": \"Metropolitana\", \"pacientes\": 213, \"codigo region\": 6}, {\"date\": \"2020-04-22\", \"region\": \"O\\u2019Higgins\", \"pacientes\": 4, \"codigo region\": 7}, {\"date\": \"2020-04-22\", \"region\": \"Maule\", \"pacientes\": 10, \"codigo region\": 8}, {\"date\": \"2020-04-22\", \"region\": \"\\u00d1uble\", \"pacientes\": 15, \"codigo region\": 9}, {\"date\": \"2020-04-22\", \"region\": \"Biob\\u00edo\", \"pacientes\": 25, \"codigo region\": 10}, {\"date\": \"2020-04-22\", \"region\": \"Araucan\\u00eda\", \"pacientes\": 43, \"codigo region\": 11}, {\"date\": \"2020-04-22\", \"region\": \"Los R\\u00edos\", \"pacientes\": 7, \"codigo region\": 12}, {\"date\": \"2020-04-22\", \"region\": \"Los Lagos\", \"pacientes\": 23, \"codigo region\": 13}, {\"date\": \"2020-04-22\", \"region\": \"Ays\\u00e9n\", \"pacientes\": 0, \"codigo region\": 14}, {\"date\": \"2020-04-22\", \"region\": \"Magallanes\", \"pacientes\": 18, \"codigo region\": 15}, {\"date\": \"2020-04-23\", \"region\": \"Arica y Parinacota\", \"pacientes\": 4, \"codigo region\": 0}, {\"date\": \"2020-04-23\", \"region\": \"Tarapac\\u00e1\", \"pacientes\": 2, \"codigo region\": 1}, {\"date\": \"2020-04-23\", \"region\": \"Antofagasta\", \"pacientes\": 14, \"codigo region\": 2}, {\"date\": \"2020-04-23\", \"region\": \"Atacama\", \"pacientes\": 1, \"codigo region\": 3}, {\"date\": \"2020-04-23\", \"region\": \"Coquimbo\", \"pacientes\": 0, \"codigo region\": 4}, {\"date\": \"2020-04-23\", \"region\": \"Valpara\\u00edso\", \"pacientes\": 20, \"codigo region\": 5}, {\"date\": \"2020-04-23\", \"region\": \"Metropolitana\", \"pacientes\": 234, \"codigo region\": 6}, {\"date\": \"2020-04-23\", \"region\": \"O\\u2019Higgins\", \"pacientes\": 4, \"codigo region\": 7}, {\"date\": \"2020-04-23\", \"region\": \"Maule\", \"pacientes\": 9, \"codigo region\": 8}, {\"date\": \"2020-04-23\", \"region\": \"\\u00d1uble\", \"pacientes\": 15, \"codigo region\": 9}, {\"date\": \"2020-04-23\", \"region\": \"Biob\\u00edo\", \"pacientes\": 25, \"codigo region\": 10}, {\"date\": \"2020-04-23\", \"region\": \"Araucan\\u00eda\", \"pacientes\": 37, \"codigo region\": 11}, {\"date\": \"2020-04-23\", \"region\": \"Los R\\u00edos\", \"pacientes\": 7, \"codigo region\": 12}, {\"date\": \"2020-04-23\", \"region\": \"Los Lagos\", \"pacientes\": 22, \"codigo region\": 13}, {\"date\": \"2020-04-23\", \"region\": \"Ays\\u00e9n\", \"pacientes\": 0, \"codigo region\": 14}, {\"date\": \"2020-04-23\", \"region\": \"Magallanes\", \"pacientes\": 17, \"codigo region\": 15}, {\"date\": \"2020-04-24\", \"region\": \"Arica y Parinacota\", \"pacientes\": 7, \"codigo region\": 0}, {\"date\": \"2020-04-24\", \"region\": \"Tarapac\\u00e1\", \"pacientes\": 2, \"codigo region\": 1}, {\"date\": \"2020-04-24\", \"region\": \"Antofagasta\", \"pacientes\": 16, \"codigo region\": 2}, {\"date\": \"2020-04-24\", \"region\": \"Atacama\", \"pacientes\": 1, \"codigo region\": 3}, {\"date\": \"2020-04-24\", \"region\": \"Coquimbo\", \"pacientes\": 0, \"codigo region\": 4}, {\"date\": \"2020-04-24\", \"region\": \"Valpara\\u00edso\", \"pacientes\": 17, \"codigo region\": 5}, {\"date\": \"2020-04-24\", \"region\": \"Metropolitana\", \"pacientes\": 242, \"codigo region\": 6}, {\"date\": \"2020-04-24\", \"region\": \"O\\u2019Higgins\", \"pacientes\": 4, \"codigo region\": 7}, {\"date\": \"2020-04-24\", \"region\": \"Maule\", \"pacientes\": 9, \"codigo region\": 8}, {\"date\": \"2020-04-24\", \"region\": \"\\u00d1uble\", \"pacientes\": 13, \"codigo region\": 9}, {\"date\": \"2020-04-24\", \"region\": \"Biob\\u00edo\", \"pacientes\": 22, \"codigo region\": 10}, {\"date\": \"2020-04-24\", \"region\": \"Araucan\\u00eda\", \"pacientes\": 38, \"codigo region\": 11}, {\"date\": \"2020-04-24\", \"region\": \"Los R\\u00edos\", \"pacientes\": 7, \"codigo region\": 12}, {\"date\": \"2020-04-24\", \"region\": \"Los Lagos\", \"pacientes\": 21, \"codigo region\": 13}, {\"date\": \"2020-04-24\", \"region\": \"Ays\\u00e9n\", \"pacientes\": 0, \"codigo region\": 14}, {\"date\": \"2020-04-24\", \"region\": \"Magallanes\", \"pacientes\": 16, \"codigo region\": 15}, {\"date\": \"2020-04-25\", \"region\": \"Arica y Parinacota\", \"pacientes\": 8, \"codigo region\": 0}, {\"date\": \"2020-04-25\", \"region\": \"Tarapac\\u00e1\", \"pacientes\": 3, \"codigo region\": 1}, {\"date\": \"2020-04-25\", \"region\": \"Antofagasta\", \"pacientes\": 16, \"codigo region\": 2}, {\"date\": \"2020-04-25\", \"region\": \"Atacama\", \"pacientes\": 1, \"codigo region\": 3}, {\"date\": \"2020-04-25\", \"region\": \"Coquimbo\", \"pacientes\": 0, \"codigo region\": 4}, {\"date\": \"2020-04-25\", \"region\": \"Valpara\\u00edso\", \"pacientes\": 16, \"codigo region\": 5}, {\"date\": \"2020-04-25\", \"region\": \"Metropolitana\", \"pacientes\": 246, \"codigo region\": 6}, {\"date\": \"2020-04-25\", \"region\": \"O\\u2019Higgins\", \"pacientes\": 4, \"codigo region\": 7}, {\"date\": \"2020-04-25\", \"region\": \"Maule\", \"pacientes\": 8, \"codigo region\": 8}, {\"date\": \"2020-04-25\", \"region\": \"\\u00d1uble\", \"pacientes\": 10, \"codigo region\": 9}, {\"date\": \"2020-04-25\", \"region\": \"Biob\\u00edo\", \"pacientes\": 22, \"codigo region\": 10}, {\"date\": \"2020-04-25\", \"region\": \"Araucan\\u00eda\", \"pacientes\": 39, \"codigo region\": 11}, {\"date\": \"2020-04-25\", \"region\": \"Los R\\u00edos\", \"pacientes\": 7, \"codigo region\": 12}, {\"date\": \"2020-04-25\", \"region\": \"Los Lagos\", \"pacientes\": 21, \"codigo region\": 13}, {\"date\": \"2020-04-25\", \"region\": \"Ays\\u00e9n\", \"pacientes\": 0, \"codigo region\": 14}, {\"date\": \"2020-04-25\", \"region\": \"Magallanes\", \"pacientes\": 17, \"codigo region\": 15}, {\"date\": \"2020-04-26\", \"region\": \"Arica y Parinacota\", \"pacientes\": 9, \"codigo region\": 0}, {\"date\": \"2020-04-26\", \"region\": \"Tarapac\\u00e1\", \"pacientes\": 2, \"codigo region\": 1}, {\"date\": \"2020-04-26\", \"region\": \"Antofagasta\", \"pacientes\": 15, \"codigo region\": 2}, {\"date\": \"2020-04-26\", \"region\": \"Atacama\", \"pacientes\": 1, \"codigo region\": 3}, {\"date\": \"2020-04-26\", \"region\": \"Coquimbo\", \"pacientes\": 0, \"codigo region\": 4}, {\"date\": \"2020-04-26\", \"region\": \"Valpara\\u00edso\", \"pacientes\": 14, \"codigo region\": 5}, {\"date\": \"2020-04-26\", \"region\": \"Metropolitana\", \"pacientes\": 248, \"codigo region\": 6}, {\"date\": \"2020-04-26\", \"region\": \"O\\u2019Higgins\", \"pacientes\": 4, \"codigo region\": 7}, {\"date\": \"2020-04-26\", \"region\": \"Maule\", \"pacientes\": 10, \"codigo region\": 8}, {\"date\": \"2020-04-26\", \"region\": \"\\u00d1uble\", \"pacientes\": 10, \"codigo region\": 9}, {\"date\": \"2020-04-26\", \"region\": \"Biob\\u00edo\", \"pacientes\": 23, \"codigo region\": 10}, {\"date\": \"2020-04-26\", \"region\": \"Araucan\\u00eda\", \"pacientes\": 38, \"codigo region\": 11}, {\"date\": \"2020-04-26\", \"region\": \"Los R\\u00edos\", \"pacientes\": 7, \"codigo region\": 12}, {\"date\": \"2020-04-26\", \"region\": \"Los Lagos\", \"pacientes\": 17, \"codigo region\": 13}, {\"date\": \"2020-04-26\", \"region\": \"Ays\\u00e9n\", \"pacientes\": 0, \"codigo region\": 14}, {\"date\": \"2020-04-26\", \"region\": \"Magallanes\", \"pacientes\": 17, \"codigo region\": 15}, {\"date\": \"2020-04-27\", \"region\": \"Arica y Parinacota\", \"pacientes\": 10, \"codigo region\": 0}, {\"date\": \"2020-04-27\", \"region\": \"Tarapac\\u00e1\", \"pacientes\": 2, \"codigo region\": 1}, {\"date\": \"2020-04-27\", \"region\": \"Antofagasta\", \"pacientes\": 17, \"codigo region\": 2}, {\"date\": \"2020-04-27\", \"region\": \"Atacama\", \"pacientes\": 1, \"codigo region\": 3}, {\"date\": \"2020-04-27\", \"region\": \"Coquimbo\", \"pacientes\": 0, \"codigo region\": 4}, {\"date\": \"2020-04-27\", \"region\": \"Valpara\\u00edso\", \"pacientes\": 15, \"codigo region\": 5}, {\"date\": \"2020-04-27\", \"region\": \"Metropolitana\", \"pacientes\": 252, \"codigo region\": 6}, {\"date\": \"2020-04-27\", \"region\": \"O\\u2019Higgins\", \"pacientes\": 4, \"codigo region\": 7}, {\"date\": \"2020-04-27\", \"region\": \"Maule\", \"pacientes\": 10, \"codigo region\": 8}, {\"date\": \"2020-04-27\", \"region\": \"\\u00d1uble\", \"pacientes\": 10, \"codigo region\": 9}, {\"date\": \"2020-04-27\", \"region\": \"Biob\\u00edo\", \"pacientes\": 24, \"codigo region\": 10}, {\"date\": \"2020-04-27\", \"region\": \"Araucan\\u00eda\", \"pacientes\": 37, \"codigo region\": 11}, {\"date\": \"2020-04-27\", \"region\": \"Los R\\u00edos\", \"pacientes\": 6, \"codigo region\": 12}, {\"date\": \"2020-04-27\", \"region\": \"Los Lagos\", \"pacientes\": 17, \"codigo region\": 13}, {\"date\": \"2020-04-27\", \"region\": \"Ays\\u00e9n\", \"pacientes\": 0, \"codigo region\": 14}, {\"date\": \"2020-04-27\", \"region\": \"Magallanes\", \"pacientes\": 21, \"codigo region\": 15}, {\"date\": \"2020-04-28\", \"region\": \"Arica y Parinacota\", \"pacientes\": 10, \"codigo region\": 0}, {\"date\": \"2020-04-28\", \"region\": \"Tarapac\\u00e1\", \"pacientes\": 2, \"codigo region\": 1}, {\"date\": \"2020-04-28\", \"region\": \"Antofagasta\", \"pacientes\": 19, \"codigo region\": 2}, {\"date\": \"2020-04-28\", \"region\": \"Atacama\", \"pacientes\": 1, \"codigo region\": 3}, {\"date\": \"2020-04-28\", \"region\": \"Coquimbo\", \"pacientes\": 0, \"codigo region\": 4}, {\"date\": \"2020-04-28\", \"region\": \"Valpara\\u00edso\", \"pacientes\": 15, \"codigo region\": 5}, {\"date\": \"2020-04-28\", \"region\": \"Metropolitana\", \"pacientes\": 258, \"codigo region\": 6}, {\"date\": \"2020-04-28\", \"region\": \"O\\u2019Higgins\", \"pacientes\": 5, \"codigo region\": 7}, {\"date\": \"2020-04-28\", \"region\": \"Maule\", \"pacientes\": 8, \"codigo region\": 8}, {\"date\": \"2020-04-28\", \"region\": \"\\u00d1uble\", \"pacientes\": 9, \"codigo region\": 9}, {\"date\": \"2020-04-28\", \"region\": \"Biob\\u00edo\", \"pacientes\": 21, \"codigo region\": 10}, {\"date\": \"2020-04-28\", \"region\": \"Araucan\\u00eda\", \"pacientes\": 35, \"codigo region\": 11}, {\"date\": \"2020-04-28\", \"region\": \"Los R\\u00edos\", \"pacientes\": 5, \"codigo region\": 12}, {\"date\": \"2020-04-28\", \"region\": \"Los Lagos\", \"pacientes\": 18, \"codigo region\": 13}, {\"date\": \"2020-04-28\", \"region\": \"Ays\\u00e9n\", \"pacientes\": 0, \"codigo region\": 14}, {\"date\": \"2020-04-28\", \"region\": \"Magallanes\", \"pacientes\": 22, \"codigo region\": 15}, {\"date\": \"2020-04-29\", \"region\": \"Arica y Parinacota\", \"pacientes\": 9, \"codigo region\": 0}, {\"date\": \"2020-04-29\", \"region\": \"Tarapac\\u00e1\", \"pacientes\": 3, \"codigo region\": 1}, {\"date\": \"2020-04-29\", \"region\": \"Antofagasta\", \"pacientes\": 20, \"codigo region\": 2}, {\"date\": \"2020-04-29\", \"region\": \"Atacama\", \"pacientes\": 1, \"codigo region\": 3}, {\"date\": \"2020-04-29\", \"region\": \"Coquimbo\", \"pacientes\": 0, \"codigo region\": 4}, {\"date\": \"2020-04-29\", \"region\": \"Valpara\\u00edso\", \"pacientes\": 14, \"codigo region\": 5}, {\"date\": \"2020-04-29\", \"region\": \"Metropolitana\", \"pacientes\": 256, \"codigo region\": 6}, {\"date\": \"2020-04-29\", \"region\": \"O\\u2019Higgins\", \"pacientes\": 4, \"codigo region\": 7}, {\"date\": \"2020-04-29\", \"region\": \"Maule\", \"pacientes\": 7, \"codigo region\": 8}, {\"date\": \"2020-04-29\", \"region\": \"\\u00d1uble\", \"pacientes\": 7, \"codigo region\": 9}, {\"date\": \"2020-04-29\", \"region\": \"Biob\\u00edo\", \"pacientes\": 22, \"codigo region\": 10}, {\"date\": \"2020-04-29\", \"region\": \"Araucan\\u00eda\", \"pacientes\": 35, \"codigo region\": 11}, {\"date\": \"2020-04-29\", \"region\": \"Los R\\u00edos\", \"pacientes\": 5, \"codigo region\": 12}, {\"date\": \"2020-04-29\", \"region\": \"Los Lagos\", \"pacientes\": 18, \"codigo region\": 13}, {\"date\": \"2020-04-29\", \"region\": \"Ays\\u00e9n\", \"pacientes\": 0, \"codigo region\": 14}, {\"date\": \"2020-04-29\", \"region\": \"Magallanes\", \"pacientes\": 17, \"codigo region\": 15}, {\"date\": \"2020-04-30\", \"region\": \"Arica y Parinacota\", \"pacientes\": 8, \"codigo region\": 0}, {\"date\": \"2020-04-30\", \"region\": \"Tarapac\\u00e1\", \"pacientes\": 2, \"codigo region\": 1}, {\"date\": \"2020-04-30\", \"region\": \"Antofagasta\", \"pacientes\": 21, \"codigo region\": 2}, {\"date\": \"2020-04-30\", \"region\": \"Atacama\", \"pacientes\": 1, \"codigo region\": 3}, {\"date\": \"2020-04-30\", \"region\": \"Coquimbo\", \"pacientes\": 0, \"codigo region\": 4}, {\"date\": \"2020-04-30\", \"region\": \"Valpara\\u00edso\", \"pacientes\": 18, \"codigo region\": 5}, {\"date\": \"2020-04-30\", \"region\": \"Metropolitana\", \"pacientes\": 257, \"codigo region\": 6}, {\"date\": \"2020-04-30\", \"region\": \"O\\u2019Higgins\", \"pacientes\": 5, \"codigo region\": 7}, {\"date\": \"2020-04-30\", \"region\": \"Maule\", \"pacientes\": 6, \"codigo region\": 8}, {\"date\": \"2020-04-30\", \"region\": \"\\u00d1uble\", \"pacientes\": 7, \"codigo region\": 9}, {\"date\": \"2020-04-30\", \"region\": \"Biob\\u00edo\", \"pacientes\": 22, \"codigo region\": 10}, {\"date\": \"2020-04-30\", \"region\": \"Araucan\\u00eda\", \"pacientes\": 30, \"codigo region\": 11}, {\"date\": \"2020-04-30\", \"region\": \"Los R\\u00edos\", \"pacientes\": 5, \"codigo region\": 12}, {\"date\": \"2020-04-30\", \"region\": \"Los Lagos\", \"pacientes\": 19, \"codigo region\": 13}, {\"date\": \"2020-04-30\", \"region\": \"Ays\\u00e9n\", \"pacientes\": 0, \"codigo region\": 14}, {\"date\": \"2020-04-30\", \"region\": \"Magallanes\", \"pacientes\": 18, \"codigo region\": 15}, {\"date\": \"2020-05-01\", \"region\": \"Arica y Parinacota\", \"pacientes\": 9, \"codigo region\": 0}, {\"date\": \"2020-05-01\", \"region\": \"Tarapac\\u00e1\", \"pacientes\": 2, \"codigo region\": 1}, {\"date\": \"2020-05-01\", \"region\": \"Antofagasta\", \"pacientes\": 23, \"codigo region\": 2}, {\"date\": \"2020-05-01\", \"region\": \"Atacama\", \"pacientes\": 1, \"codigo region\": 3}, {\"date\": \"2020-05-01\", \"region\": \"Coquimbo\", \"pacientes\": 0, \"codigo region\": 4}, {\"date\": \"2020-05-01\", \"region\": \"Valpara\\u00edso\", \"pacientes\": 19, \"codigo region\": 5}, {\"date\": \"2020-05-01\", \"region\": \"Metropolitana\", \"pacientes\": 262, \"codigo region\": 6}, {\"date\": \"2020-05-01\", \"region\": \"O\\u2019Higgins\", \"pacientes\": 6, \"codigo region\": 7}, {\"date\": \"2020-05-01\", \"region\": \"Maule\", \"pacientes\": 5, \"codigo region\": 8}, {\"date\": \"2020-05-01\", \"region\": \"\\u00d1uble\", \"pacientes\": 8, \"codigo region\": 9}, {\"date\": \"2020-05-01\", \"region\": \"Biob\\u00edo\", \"pacientes\": 23, \"codigo region\": 10}, {\"date\": \"2020-05-01\", \"region\": \"Araucan\\u00eda\", \"pacientes\": 29, \"codigo region\": 11}, {\"date\": \"2020-05-01\", \"region\": \"Los R\\u00edos\", \"pacientes\": 5, \"codigo region\": 12}, {\"date\": \"2020-05-01\", \"region\": \"Los Lagos\", \"pacientes\": 18, \"codigo region\": 13}, {\"date\": \"2020-05-01\", \"region\": \"Ays\\u00e9n\", \"pacientes\": 0, \"codigo region\": 14}, {\"date\": \"2020-05-01\", \"region\": \"Magallanes\", \"pacientes\": 18, \"codigo region\": 15}, {\"date\": \"2020-05-02\", \"region\": \"Arica y Parinacota\", \"pacientes\": 7, \"codigo region\": 0}, {\"date\": \"2020-05-02\", \"region\": \"Tarapac\\u00e1\", \"pacientes\": 2, \"codigo region\": 1}, {\"date\": \"2020-05-02\", \"region\": \"Antofagasta\", \"pacientes\": 22, \"codigo region\": 2}, {\"date\": \"2020-05-02\", \"region\": \"Atacama\", \"pacientes\": 1, \"codigo region\": 3}, {\"date\": \"2020-05-02\", \"region\": \"Coquimbo\", \"pacientes\": 0, \"codigo region\": 4}, {\"date\": \"2020-05-02\", \"region\": \"Valpara\\u00edso\", \"pacientes\": 18, \"codigo region\": 5}, {\"date\": \"2020-05-02\", \"region\": \"Metropolitana\", \"pacientes\": 269, \"codigo region\": 6}, {\"date\": \"2020-05-02\", \"region\": \"O\\u2019Higgins\", \"pacientes\": 5, \"codigo region\": 7}, {\"date\": \"2020-05-02\", \"region\": \"Maule\", \"pacientes\": 5, \"codigo region\": 8}, {\"date\": \"2020-05-02\", \"region\": \"\\u00d1uble\", \"pacientes\": 8, \"codigo region\": 9}, {\"date\": \"2020-05-02\", \"region\": \"Biob\\u00edo\", \"pacientes\": 21, \"codigo region\": 10}, {\"date\": \"2020-05-02\", \"region\": \"Araucan\\u00eda\", \"pacientes\": 28, \"codigo region\": 11}, {\"date\": \"2020-05-02\", \"region\": \"Los R\\u00edos\", \"pacientes\": 4, \"codigo region\": 12}, {\"date\": \"2020-05-02\", \"region\": \"Los Lagos\", \"pacientes\": 17, \"codigo region\": 13}, {\"date\": \"2020-05-02\", \"region\": \"Ays\\u00e9n\", \"pacientes\": 0, \"codigo region\": 14}, {\"date\": \"2020-05-02\", \"region\": \"Magallanes\", \"pacientes\": 18, \"codigo region\": 15}, {\"date\": \"2020-05-03\", \"region\": \"Arica y Parinacota\", \"pacientes\": 7, \"codigo region\": 0}, {\"date\": \"2020-05-03\", \"region\": \"Tarapac\\u00e1\", \"pacientes\": 4, \"codigo region\": 1}, {\"date\": \"2020-05-03\", \"region\": \"Antofagasta\", \"pacientes\": 24, \"codigo region\": 2}, {\"date\": \"2020-05-03\", \"region\": \"Atacama\", \"pacientes\": 1, \"codigo region\": 3}, {\"date\": \"2020-05-03\", \"region\": \"Coquimbo\", \"pacientes\": 0, \"codigo region\": 4}, {\"date\": \"2020-05-03\", \"region\": \"Valpara\\u00edso\", \"pacientes\": 17, \"codigo region\": 5}, {\"date\": \"2020-05-03\", \"region\": \"Metropolitana\", \"pacientes\": 289, \"codigo region\": 6}, {\"date\": \"2020-05-03\", \"region\": \"O\\u2019Higgins\", \"pacientes\": 5, \"codigo region\": 7}, {\"date\": \"2020-05-03\", \"region\": \"Maule\", \"pacientes\": 8, \"codigo region\": 8}, {\"date\": \"2020-05-03\", \"region\": \"\\u00d1uble\", \"pacientes\": 9, \"codigo region\": 9}, {\"date\": \"2020-05-03\", \"region\": \"Biob\\u00edo\", \"pacientes\": 20, \"codigo region\": 10}, {\"date\": \"2020-05-03\", \"region\": \"Araucan\\u00eda\", \"pacientes\": 27, \"codigo region\": 11}, {\"date\": \"2020-05-03\", \"region\": \"Los R\\u00edos\", \"pacientes\": 3, \"codigo region\": 12}, {\"date\": \"2020-05-03\", \"region\": \"Los Lagos\", \"pacientes\": 17, \"codigo region\": 13}, {\"date\": \"2020-05-03\", \"region\": \"Ays\\u00e9n\", \"pacientes\": 0, \"codigo region\": 14}, {\"date\": \"2020-05-03\", \"region\": \"Magallanes\", \"pacientes\": 18, \"codigo region\": 15}, {\"date\": \"2020-05-04\", \"region\": \"Arica y Parinacota\", \"pacientes\": 7, \"codigo region\": 0}, {\"date\": \"2020-05-04\", \"region\": \"Tarapac\\u00e1\", \"pacientes\": 4, \"codigo region\": 1}, {\"date\": \"2020-05-04\", \"region\": \"Antofagasta\", \"pacientes\": 25, \"codigo region\": 2}, {\"date\": \"2020-05-04\", \"region\": \"Atacama\", \"pacientes\": 1, \"codigo region\": 3}, {\"date\": \"2020-05-04\", \"region\": \"Coquimbo\", \"pacientes\": 0, \"codigo region\": 4}, {\"date\": \"2020-05-04\", \"region\": \"Valpara\\u00edso\", \"pacientes\": 18, \"codigo region\": 5}, {\"date\": \"2020-05-04\", \"region\": \"Metropolitana\", \"pacientes\": 303, \"codigo region\": 6}, {\"date\": \"2020-05-04\", \"region\": \"O\\u2019Higgins\", \"pacientes\": 5, \"codigo region\": 7}, {\"date\": \"2020-05-04\", \"region\": \"Maule\", \"pacientes\": 8, \"codigo region\": 8}, {\"date\": \"2020-05-04\", \"region\": \"\\u00d1uble\", \"pacientes\": 9, \"codigo region\": 9}, {\"date\": \"2020-05-04\", \"region\": \"Biob\\u00edo\", \"pacientes\": 18, \"codigo region\": 10}, {\"date\": \"2020-05-04\", \"region\": \"Araucan\\u00eda\", \"pacientes\": 26, \"codigo region\": 11}, {\"date\": \"2020-05-04\", \"region\": \"Los R\\u00edos\", \"pacientes\": 3, \"codigo region\": 12}, {\"date\": \"2020-05-04\", \"region\": \"Los Lagos\", \"pacientes\": 18, \"codigo region\": 13}, {\"date\": \"2020-05-04\", \"region\": \"Ays\\u00e9n\", \"pacientes\": 0, \"codigo region\": 14}, {\"date\": \"2020-05-04\", \"region\": \"Magallanes\", \"pacientes\": 19, \"codigo region\": 15}, {\"date\": \"2020-05-05\", \"region\": \"Arica y Parinacota\", \"pacientes\": 6, \"codigo region\": 0}, {\"date\": \"2020-05-05\", \"region\": \"Tarapac\\u00e1\", \"pacientes\": 5, \"codigo region\": 1}, {\"date\": \"2020-05-05\", \"region\": \"Antofagasta\", \"pacientes\": 24, \"codigo region\": 2}, {\"date\": \"2020-05-05\", \"region\": \"Atacama\", \"pacientes\": 1, \"codigo region\": 3}, {\"date\": \"2020-05-05\", \"region\": \"Coquimbo\", \"pacientes\": 0, \"codigo region\": 4}, {\"date\": \"2020-05-05\", \"region\": \"Valpara\\u00edso\", \"pacientes\": 17, \"codigo region\": 5}, {\"date\": \"2020-05-05\", \"region\": \"Metropolitana\", \"pacientes\": 314, \"codigo region\": 6}, {\"date\": \"2020-05-05\", \"region\": \"O\\u2019Higgins\", \"pacientes\": 7, \"codigo region\": 7}, {\"date\": \"2020-05-05\", \"region\": \"Maule\", \"pacientes\": 7, \"codigo region\": 8}, {\"date\": \"2020-05-05\", \"region\": \"\\u00d1uble\", \"pacientes\": 7, \"codigo region\": 9}, {\"date\": \"2020-05-05\", \"region\": \"Biob\\u00edo\", \"pacientes\": 18, \"codigo region\": 10}, {\"date\": \"2020-05-05\", \"region\": \"Araucan\\u00eda\", \"pacientes\": 25, \"codigo region\": 11}, {\"date\": \"2020-05-05\", \"region\": \"Los R\\u00edos\", \"pacientes\": 4, \"codigo region\": 12}, {\"date\": \"2020-05-05\", \"region\": \"Los Lagos\", \"pacientes\": 16, \"codigo region\": 13}, {\"date\": \"2020-05-05\", \"region\": \"Ays\\u00e9n\", \"pacientes\": 0, \"codigo region\": 14}, {\"date\": \"2020-05-05\", \"region\": \"Magallanes\", \"pacientes\": 19, \"codigo region\": 15}, {\"date\": \"2020-05-06\", \"region\": \"Arica y Parinacota\", \"pacientes\": 7, \"codigo region\": 0}, {\"date\": \"2020-05-06\", \"region\": \"Tarapac\\u00e1\", \"pacientes\": 5, \"codigo region\": 1}, {\"date\": \"2020-05-06\", \"region\": \"Antofagasta\", \"pacientes\": 28, \"codigo region\": 2}, {\"date\": \"2020-05-06\", \"region\": \"Atacama\", \"pacientes\": 1, \"codigo region\": 3}, {\"date\": \"2020-05-06\", \"region\": \"Coquimbo\", \"pacientes\": 0, \"codigo region\": 4}, {\"date\": \"2020-05-06\", \"region\": \"Valpara\\u00edso\", \"pacientes\": 16, \"codigo region\": 5}, {\"date\": \"2020-05-06\", \"region\": \"Metropolitana\", \"pacientes\": 340, \"codigo region\": 6}, {\"date\": \"2020-05-06\", \"region\": \"O\\u2019Higgins\", \"pacientes\": 5, \"codigo region\": 7}, {\"date\": \"2020-05-06\", \"region\": \"Maule\", \"pacientes\": 4, \"codigo region\": 8}, {\"date\": \"2020-05-06\", \"region\": \"\\u00d1uble\", \"pacientes\": 7, \"codigo region\": 9}, {\"date\": \"2020-05-06\", \"region\": \"Biob\\u00edo\", \"pacientes\": 15, \"codigo region\": 10}, {\"date\": \"2020-05-06\", \"region\": \"Araucan\\u00eda\", \"pacientes\": 24, \"codigo region\": 11}, {\"date\": \"2020-05-06\", \"region\": \"Los R\\u00edos\", \"pacientes\": 4, \"codigo region\": 12}, {\"date\": \"2020-05-06\", \"region\": \"Los Lagos\", \"pacientes\": 11, \"codigo region\": 13}, {\"date\": \"2020-05-06\", \"region\": \"Ays\\u00e9n\", \"pacientes\": 0, \"codigo region\": 14}, {\"date\": \"2020-05-06\", \"region\": \"Magallanes\", \"pacientes\": 19, \"codigo region\": 15}, {\"date\": \"2020-05-07\", \"region\": \"Arica y Parinacota\", \"pacientes\": 8, \"codigo region\": 0}, {\"date\": \"2020-05-07\", \"region\": \"Tarapac\\u00e1\", \"pacientes\": 5, \"codigo region\": 1}, {\"date\": \"2020-05-07\", \"region\": \"Antofagasta\", \"pacientes\": 28, \"codigo region\": 2}, {\"date\": \"2020-05-07\", \"region\": \"Atacama\", \"pacientes\": 1, \"codigo region\": 3}, {\"date\": \"2020-05-07\", \"region\": \"Coquimbo\", \"pacientes\": 0, \"codigo region\": 4}, {\"date\": \"2020-05-07\", \"region\": \"Valpara\\u00edso\", \"pacientes\": 15, \"codigo region\": 5}, {\"date\": \"2020-05-07\", \"region\": \"Metropolitana\", \"pacientes\": 348, \"codigo region\": 6}, {\"date\": \"2020-05-07\", \"region\": \"O\\u2019Higgins\", \"pacientes\": 6, \"codigo region\": 7}, {\"date\": \"2020-05-07\", \"region\": \"Maule\", \"pacientes\": 4, \"codigo region\": 8}, {\"date\": \"2020-05-07\", \"region\": \"\\u00d1uble\", \"pacientes\": 7, \"codigo region\": 9}, {\"date\": \"2020-05-07\", \"region\": \"Biob\\u00edo\", \"pacientes\": 14, \"codigo region\": 10}, {\"date\": \"2020-05-07\", \"region\": \"Araucan\\u00eda\", \"pacientes\": 24, \"codigo region\": 11}, {\"date\": \"2020-05-07\", \"region\": \"Los R\\u00edos\", \"pacientes\": 4, \"codigo region\": 12}, {\"date\": \"2020-05-07\", \"region\": \"Los Lagos\", \"pacientes\": 10, \"codigo region\": 13}, {\"date\": \"2020-05-07\", \"region\": \"Ays\\u00e9n\", \"pacientes\": 0, \"codigo region\": 14}, {\"date\": \"2020-05-07\", \"region\": \"Magallanes\", \"pacientes\": 19, \"codigo region\": 15}], \"data-5dbffa7589eac455ca2ae43ce23556b0\": [{\"date\": \"2020-03-24\", \"region\": \"Arica y Parinacota\", \"fallecidos\": 0, \"codigo region\": 0}, {\"date\": \"2020-03-24\", \"region\": \"Tarapac\\u00e1\", \"fallecidos\": 0, \"codigo region\": 1}, {\"date\": \"2020-03-24\", \"region\": \"Antofagasta\", \"fallecidos\": 0, \"codigo region\": 2}, {\"date\": \"2020-03-24\", \"region\": \"Atacama\", \"fallecidos\": 0, \"codigo region\": 3}, {\"date\": \"2020-03-24\", \"region\": \"Coquimbo\", \"fallecidos\": 0, \"codigo region\": 4}, {\"date\": \"2020-03-24\", \"region\": \"Valpara\\u00edso\", \"fallecidos\": 0, \"codigo region\": 5}, {\"date\": \"2020-03-24\", \"region\": \"Metropolitana\", \"fallecidos\": 2, \"codigo region\": 6}, {\"date\": \"2020-03-24\", \"region\": \"O\\u2019Higgins\", \"fallecidos\": 0, \"codigo region\": 7}, {\"date\": \"2020-03-24\", \"region\": \"Maule\", \"fallecidos\": 0, \"codigo region\": 8}, {\"date\": \"2020-03-24\", \"region\": \"\\u00d1uble\", \"fallecidos\": 0, \"codigo region\": 9}, {\"date\": \"2020-03-24\", \"region\": \"Biob\\u00edo\", \"fallecidos\": 0, \"codigo region\": 10}, {\"date\": \"2020-03-24\", \"region\": \"Araucan\\u00eda\", \"fallecidos\": 0, \"codigo region\": 11}, {\"date\": \"2020-03-24\", \"region\": \"Los R\\u00edos\", \"fallecidos\": 0, \"codigo region\": 12}, {\"date\": \"2020-03-24\", \"region\": \"Los Lagos\", \"fallecidos\": 0, \"codigo region\": 13}, {\"date\": \"2020-03-24\", \"region\": \"Ays\\u00e9n\", \"fallecidos\": 0, \"codigo region\": 14}, {\"date\": \"2020-03-24\", \"region\": \"Magallanes\", \"fallecidos\": 0, \"codigo region\": 15}, {\"date\": \"2020-03-25\", \"region\": \"Arica y Parinacota\", \"fallecidos\": 0, \"codigo region\": 0}, {\"date\": \"2020-03-25\", \"region\": \"Tarapac\\u00e1\", \"fallecidos\": 0, \"codigo region\": 1}, {\"date\": \"2020-03-25\", \"region\": \"Antofagasta\", \"fallecidos\": 0, \"codigo region\": 2}, {\"date\": \"2020-03-25\", \"region\": \"Atacama\", \"fallecidos\": 0, \"codigo region\": 3}, {\"date\": \"2020-03-25\", \"region\": \"Coquimbo\", \"fallecidos\": 0, \"codigo region\": 4}, {\"date\": \"2020-03-25\", \"region\": \"Valpara\\u00edso\", \"fallecidos\": 0, \"codigo region\": 5}, {\"date\": \"2020-03-25\", \"region\": \"Metropolitana\", \"fallecidos\": 2, \"codigo region\": 6}, {\"date\": \"2020-03-25\", \"region\": \"O\\u2019Higgins\", \"fallecidos\": 0, \"codigo region\": 7}, {\"date\": \"2020-03-25\", \"region\": \"Maule\", \"fallecidos\": 0, \"codigo region\": 8}, {\"date\": \"2020-03-25\", \"region\": \"\\u00d1uble\", \"fallecidos\": 0, \"codigo region\": 9}, {\"date\": \"2020-03-25\", \"region\": \"Biob\\u00edo\", \"fallecidos\": 1, \"codigo region\": 10}, {\"date\": \"2020-03-25\", \"region\": \"Araucan\\u00eda\", \"fallecidos\": 0, \"codigo region\": 11}, {\"date\": \"2020-03-25\", \"region\": \"Los R\\u00edos\", \"fallecidos\": 0, \"codigo region\": 12}, {\"date\": \"2020-03-25\", \"region\": \"Los Lagos\", \"fallecidos\": 0, \"codigo region\": 13}, {\"date\": \"2020-03-25\", \"region\": \"Ays\\u00e9n\", \"fallecidos\": 0, \"codigo region\": 14}, {\"date\": \"2020-03-25\", \"region\": \"Magallanes\", \"fallecidos\": 0, \"codigo region\": 15}, {\"date\": \"2020-03-26\", \"region\": \"Arica y Parinacota\", \"fallecidos\": 0, \"codigo region\": 0}, {\"date\": \"2020-03-26\", \"region\": \"Tarapac\\u00e1\", \"fallecidos\": 0, \"codigo region\": 1}, {\"date\": \"2020-03-26\", \"region\": \"Antofagasta\", \"fallecidos\": 0, \"codigo region\": 2}, {\"date\": \"2020-03-26\", \"region\": \"Atacama\", \"fallecidos\": 0, \"codigo region\": 3}, {\"date\": \"2020-03-26\", \"region\": \"Coquimbo\", \"fallecidos\": 0, \"codigo region\": 4}, {\"date\": \"2020-03-26\", \"region\": \"Valpara\\u00edso\", \"fallecidos\": 0, \"codigo region\": 5}, {\"date\": \"2020-03-26\", \"region\": \"Metropolitana\", \"fallecidos\": 3, \"codigo region\": 6}, {\"date\": \"2020-03-26\", \"region\": \"O\\u2019Higgins\", \"fallecidos\": 0, \"codigo region\": 7}, {\"date\": \"2020-03-26\", \"region\": \"Maule\", \"fallecidos\": 0, \"codigo region\": 8}, {\"date\": \"2020-03-26\", \"region\": \"\\u00d1uble\", \"fallecidos\": 0, \"codigo region\": 9}, {\"date\": \"2020-03-26\", \"region\": \"Biob\\u00edo\", \"fallecidos\": 1, \"codigo region\": 10}, {\"date\": \"2020-03-26\", \"region\": \"Araucan\\u00eda\", \"fallecidos\": 0, \"codigo region\": 11}, {\"date\": \"2020-03-26\", \"region\": \"Los R\\u00edos\", \"fallecidos\": 0, \"codigo region\": 12}, {\"date\": \"2020-03-26\", \"region\": \"Los Lagos\", \"fallecidos\": 0, \"codigo region\": 13}, {\"date\": \"2020-03-26\", \"region\": \"Ays\\u00e9n\", \"fallecidos\": 0, \"codigo region\": 14}, {\"date\": \"2020-03-26\", \"region\": \"Magallanes\", \"fallecidos\": 0, \"codigo region\": 15}, {\"date\": \"2020-03-27\", \"region\": \"Arica y Parinacota\", \"fallecidos\": 0, \"codigo region\": 0}, {\"date\": \"2020-03-27\", \"region\": \"Tarapac\\u00e1\", \"fallecidos\": 0, \"codigo region\": 1}, {\"date\": \"2020-03-27\", \"region\": \"Antofagasta\", \"fallecidos\": 0, \"codigo region\": 2}, {\"date\": \"2020-03-27\", \"region\": \"Atacama\", \"fallecidos\": 0, \"codigo region\": 3}, {\"date\": \"2020-03-27\", \"region\": \"Coquimbo\", \"fallecidos\": 0, \"codigo region\": 4}, {\"date\": \"2020-03-27\", \"region\": \"Valpara\\u00edso\", \"fallecidos\": 0, \"codigo region\": 5}, {\"date\": \"2020-03-27\", \"region\": \"Metropolitana\", \"fallecidos\": 3, \"codigo region\": 6}, {\"date\": \"2020-03-27\", \"region\": \"O\\u2019Higgins\", \"fallecidos\": 0, \"codigo region\": 7}, {\"date\": \"2020-03-27\", \"region\": \"Maule\", \"fallecidos\": 0, \"codigo region\": 8}, {\"date\": \"2020-03-27\", \"region\": \"\\u00d1uble\", \"fallecidos\": 0, \"codigo region\": 9}, {\"date\": \"2020-03-27\", \"region\": \"Biob\\u00edo\", \"fallecidos\": 2, \"codigo region\": 10}, {\"date\": \"2020-03-27\", \"region\": \"Araucan\\u00eda\", \"fallecidos\": 0, \"codigo region\": 11}, {\"date\": \"2020-03-27\", \"region\": \"Los R\\u00edos\", \"fallecidos\": 0, \"codigo region\": 12}, {\"date\": \"2020-03-27\", \"region\": \"Los Lagos\", \"fallecidos\": 0, \"codigo region\": 13}, {\"date\": \"2020-03-27\", \"region\": \"Ays\\u00e9n\", \"fallecidos\": 0, \"codigo region\": 14}, {\"date\": \"2020-03-27\", \"region\": \"Magallanes\", \"fallecidos\": 0, \"codigo region\": 15}, {\"date\": \"2020-03-28\", \"region\": \"Arica y Parinacota\", \"fallecidos\": 0, \"codigo region\": 0}, {\"date\": \"2020-03-28\", \"region\": \"Tarapac\\u00e1\", \"fallecidos\": 0, \"codigo region\": 1}, {\"date\": \"2020-03-28\", \"region\": \"Antofagasta\", \"fallecidos\": 0, \"codigo region\": 2}, {\"date\": \"2020-03-28\", \"region\": \"Atacama\", \"fallecidos\": 0, \"codigo region\": 3}, {\"date\": \"2020-03-28\", \"region\": \"Coquimbo\", \"fallecidos\": 0, \"codigo region\": 4}, {\"date\": \"2020-03-28\", \"region\": \"Valpara\\u00edso\", \"fallecidos\": 0, \"codigo region\": 5}, {\"date\": \"2020-03-28\", \"region\": \"Metropolitana\", \"fallecidos\": 3, \"codigo region\": 6}, {\"date\": \"2020-03-28\", \"region\": \"O\\u2019Higgins\", \"fallecidos\": 0, \"codigo region\": 7}, {\"date\": \"2020-03-28\", \"region\": \"Maule\", \"fallecidos\": 0, \"codigo region\": 8}, {\"date\": \"2020-03-28\", \"region\": \"\\u00d1uble\", \"fallecidos\": 0, \"codigo region\": 9}, {\"date\": \"2020-03-28\", \"region\": \"Biob\\u00edo\", \"fallecidos\": 2, \"codigo region\": 10}, {\"date\": \"2020-03-28\", \"region\": \"Araucan\\u00eda\", \"fallecidos\": 1, \"codigo region\": 11}, {\"date\": \"2020-03-28\", \"region\": \"Los R\\u00edos\", \"fallecidos\": 0, \"codigo region\": 12}, {\"date\": \"2020-03-28\", \"region\": \"Los Lagos\", \"fallecidos\": 0, \"codigo region\": 13}, {\"date\": \"2020-03-28\", \"region\": \"Ays\\u00e9n\", \"fallecidos\": 0, \"codigo region\": 14}, {\"date\": \"2020-03-28\", \"region\": \"Magallanes\", \"fallecidos\": 0, \"codigo region\": 15}, {\"date\": \"2020-03-29\", \"region\": \"Arica y Parinacota\", \"fallecidos\": 0, \"codigo region\": 0}, {\"date\": \"2020-03-29\", \"region\": \"Tarapac\\u00e1\", \"fallecidos\": 0, \"codigo region\": 1}, {\"date\": \"2020-03-29\", \"region\": \"Antofagasta\", \"fallecidos\": 0, \"codigo region\": 2}, {\"date\": \"2020-03-29\", \"region\": \"Atacama\", \"fallecidos\": 0, \"codigo region\": 3}, {\"date\": \"2020-03-29\", \"region\": \"Coquimbo\", \"fallecidos\": 0, \"codigo region\": 4}, {\"date\": \"2020-03-29\", \"region\": \"Valpara\\u00edso\", \"fallecidos\": 0, \"codigo region\": 5}, {\"date\": \"2020-03-29\", \"region\": \"Metropolitana\", \"fallecidos\": 3, \"codigo region\": 6}, {\"date\": \"2020-03-29\", \"region\": \"O\\u2019Higgins\", \"fallecidos\": 0, \"codigo region\": 7}, {\"date\": \"2020-03-29\", \"region\": \"Maule\", \"fallecidos\": 0, \"codigo region\": 8}, {\"date\": \"2020-03-29\", \"region\": \"\\u00d1uble\", \"fallecidos\": 0, \"codigo region\": 9}, {\"date\": \"2020-03-29\", \"region\": \"Biob\\u00edo\", \"fallecidos\": 2, \"codigo region\": 10}, {\"date\": \"2020-03-29\", \"region\": \"Araucan\\u00eda\", \"fallecidos\": 2, \"codigo region\": 11}, {\"date\": \"2020-03-29\", \"region\": \"Los R\\u00edos\", \"fallecidos\": 0, \"codigo region\": 12}, {\"date\": \"2020-03-29\", \"region\": \"Los Lagos\", \"fallecidos\": 0, \"codigo region\": 13}, {\"date\": \"2020-03-29\", \"region\": \"Ays\\u00e9n\", \"fallecidos\": 0, \"codigo region\": 14}, {\"date\": \"2020-03-29\", \"region\": \"Magallanes\", \"fallecidos\": 0, \"codigo region\": 15}, {\"date\": \"2020-03-30\", \"region\": \"Arica y Parinacota\", \"fallecidos\": 0, \"codigo region\": 0}, {\"date\": \"2020-03-30\", \"region\": \"Tarapac\\u00e1\", \"fallecidos\": 0, \"codigo region\": 1}, {\"date\": \"2020-03-30\", \"region\": \"Antofagasta\", \"fallecidos\": 0, \"codigo region\": 2}, {\"date\": \"2020-03-30\", \"region\": \"Atacama\", \"fallecidos\": 0, \"codigo region\": 3}, {\"date\": \"2020-03-30\", \"region\": \"Coquimbo\", \"fallecidos\": 0, \"codigo region\": 4}, {\"date\": \"2020-03-30\", \"region\": \"Valpara\\u00edso\", \"fallecidos\": 0, \"codigo region\": 5}, {\"date\": \"2020-03-30\", \"region\": \"Metropolitana\", \"fallecidos\": 3, \"codigo region\": 6}, {\"date\": \"2020-03-30\", \"region\": \"O\\u2019Higgins\", \"fallecidos\": 0, \"codigo region\": 7}, {\"date\": \"2020-03-30\", \"region\": \"Maule\", \"fallecidos\": 1, \"codigo region\": 8}, {\"date\": \"2020-03-30\", \"region\": \"\\u00d1uble\", \"fallecidos\": 0, \"codigo region\": 9}, {\"date\": \"2020-03-30\", \"region\": \"Biob\\u00edo\", \"fallecidos\": 2, \"codigo region\": 10}, {\"date\": \"2020-03-30\", \"region\": \"Araucan\\u00eda\", \"fallecidos\": 2, \"codigo region\": 11}, {\"date\": \"2020-03-30\", \"region\": \"Los R\\u00edos\", \"fallecidos\": 0, \"codigo region\": 12}, {\"date\": \"2020-03-30\", \"region\": \"Los Lagos\", \"fallecidos\": 0, \"codigo region\": 13}, {\"date\": \"2020-03-30\", \"region\": \"Ays\\u00e9n\", \"fallecidos\": 0, \"codigo region\": 14}, {\"date\": \"2020-03-30\", \"region\": \"Magallanes\", \"fallecidos\": 0, \"codigo region\": 15}, {\"date\": \"2020-03-31\", \"region\": \"Arica y Parinacota\", \"fallecidos\": 0, \"codigo region\": 0}, {\"date\": \"2020-03-31\", \"region\": \"Tarapac\\u00e1\", \"fallecidos\": 0, \"codigo region\": 1}, {\"date\": \"2020-03-31\", \"region\": \"Antofagasta\", \"fallecidos\": 0, \"codigo region\": 2}, {\"date\": \"2020-03-31\", \"region\": \"Atacama\", \"fallecidos\": 0, \"codigo region\": 3}, {\"date\": \"2020-03-31\", \"region\": \"Coquimbo\", \"fallecidos\": 0, \"codigo region\": 4}, {\"date\": \"2020-03-31\", \"region\": \"Valpara\\u00edso\", \"fallecidos\": 1, \"codigo region\": 5}, {\"date\": \"2020-03-31\", \"region\": \"Metropolitana\", \"fallecidos\": 4, \"codigo region\": 6}, {\"date\": \"2020-03-31\", \"region\": \"O\\u2019Higgins\", \"fallecidos\": 0, \"codigo region\": 7}, {\"date\": \"2020-03-31\", \"region\": \"Maule\", \"fallecidos\": 1, \"codigo region\": 8}, {\"date\": \"2020-03-31\", \"region\": \"\\u00d1uble\", \"fallecidos\": 0, \"codigo region\": 9}, {\"date\": \"2020-03-31\", \"region\": \"Biob\\u00edo\", \"fallecidos\": 2, \"codigo region\": 10}, {\"date\": \"2020-03-31\", \"region\": \"Araucan\\u00eda\", \"fallecidos\": 4, \"codigo region\": 11}, {\"date\": \"2020-03-31\", \"region\": \"Los R\\u00edos\", \"fallecidos\": 0, \"codigo region\": 12}, {\"date\": \"2020-03-31\", \"region\": \"Los Lagos\", \"fallecidos\": 0, \"codigo region\": 13}, {\"date\": \"2020-03-31\", \"region\": \"Ays\\u00e9n\", \"fallecidos\": 0, \"codigo region\": 14}, {\"date\": \"2020-03-31\", \"region\": \"Magallanes\", \"fallecidos\": 0, \"codigo region\": 15}, {\"date\": \"2020-04-01\", \"region\": \"Arica y Parinacota\", \"fallecidos\": 0, \"codigo region\": 0}, {\"date\": \"2020-04-01\", \"region\": \"Tarapac\\u00e1\", \"fallecidos\": 0, \"codigo region\": 1}, {\"date\": \"2020-04-01\", \"region\": \"Antofagasta\", \"fallecidos\": 0, \"codigo region\": 2}, {\"date\": \"2020-04-01\", \"region\": \"Atacama\", \"fallecidos\": 0, \"codigo region\": 3}, {\"date\": \"2020-04-01\", \"region\": \"Coquimbo\", \"fallecidos\": 0, \"codigo region\": 4}, {\"date\": \"2020-04-01\", \"region\": \"Valpara\\u00edso\", \"fallecidos\": 1, \"codigo region\": 5}, {\"date\": \"2020-04-01\", \"region\": \"Metropolitana\", \"fallecidos\": 5, \"codigo region\": 6}, {\"date\": \"2020-04-01\", \"region\": \"O\\u2019Higgins\", \"fallecidos\": 0, \"codigo region\": 7}, {\"date\": \"2020-04-01\", \"region\": \"Maule\", \"fallecidos\": 1, \"codigo region\": 8}, {\"date\": \"2020-04-01\", \"region\": \"\\u00d1uble\", \"fallecidos\": 0, \"codigo region\": 9}, {\"date\": \"2020-04-01\", \"region\": \"Biob\\u00edo\", \"fallecidos\": 2, \"codigo region\": 10}, {\"date\": \"2020-04-01\", \"region\": \"Araucan\\u00eda\", \"fallecidos\": 6, \"codigo region\": 11}, {\"date\": \"2020-04-01\", \"region\": \"Los R\\u00edos\", \"fallecidos\": 1, \"codigo region\": 12}, {\"date\": \"2020-04-01\", \"region\": \"Los Lagos\", \"fallecidos\": 0, \"codigo region\": 13}, {\"date\": \"2020-04-01\", \"region\": \"Ays\\u00e9n\", \"fallecidos\": 0, \"codigo region\": 14}, {\"date\": \"2020-04-01\", \"region\": \"Magallanes\", \"fallecidos\": 0, \"codigo region\": 15}, {\"date\": \"2020-04-02\", \"region\": \"Arica y Parinacota\", \"fallecidos\": 0, \"codigo region\": 0}, {\"date\": \"2020-04-02\", \"region\": \"Tarapac\\u00e1\", \"fallecidos\": 0, \"codigo region\": 1}, {\"date\": \"2020-04-02\", \"region\": \"Antofagasta\", \"fallecidos\": 0, \"codigo region\": 2}, {\"date\": \"2020-04-02\", \"region\": \"Atacama\", \"fallecidos\": 0, \"codigo region\": 3}, {\"date\": \"2020-04-02\", \"region\": \"Coquimbo\", \"fallecidos\": 0, \"codigo region\": 4}, {\"date\": \"2020-04-02\", \"region\": \"Valpara\\u00edso\", \"fallecidos\": 1, \"codigo region\": 5}, {\"date\": \"2020-04-02\", \"region\": \"Metropolitana\", \"fallecidos\": 6, \"codigo region\": 6}, {\"date\": \"2020-04-02\", \"region\": \"O\\u2019Higgins\", \"fallecidos\": 0, \"codigo region\": 7}, {\"date\": \"2020-04-02\", \"region\": \"Maule\", \"fallecidos\": 1, \"codigo region\": 8}, {\"date\": \"2020-04-02\", \"region\": \"\\u00d1uble\", \"fallecidos\": 0, \"codigo region\": 9}, {\"date\": \"2020-04-02\", \"region\": \"Biob\\u00edo\", \"fallecidos\": 2, \"codigo region\": 10}, {\"date\": \"2020-04-02\", \"region\": \"Araucan\\u00eda\", \"fallecidos\": 7, \"codigo region\": 11}, {\"date\": \"2020-04-02\", \"region\": \"Los R\\u00edos\", \"fallecidos\": 1, \"codigo region\": 12}, {\"date\": \"2020-04-02\", \"region\": \"Los Lagos\", \"fallecidos\": 0, \"codigo region\": 13}, {\"date\": \"2020-04-02\", \"region\": \"Ays\\u00e9n\", \"fallecidos\": 0, \"codigo region\": 14}, {\"date\": \"2020-04-02\", \"region\": \"Magallanes\", \"fallecidos\": 0, \"codigo region\": 15}, {\"date\": \"2020-04-03\", \"region\": \"Arica y Parinacota\", \"fallecidos\": 0, \"codigo region\": 0}, {\"date\": \"2020-04-03\", \"region\": \"Tarapac\\u00e1\", \"fallecidos\": 0, \"codigo region\": 1}, {\"date\": \"2020-04-03\", \"region\": \"Antofagasta\", \"fallecidos\": 0, \"codigo region\": 2}, {\"date\": \"2020-04-03\", \"region\": \"Atacama\", \"fallecidos\": 0, \"codigo region\": 3}, {\"date\": \"2020-04-03\", \"region\": \"Coquimbo\", \"fallecidos\": 0, \"codigo region\": 4}, {\"date\": \"2020-04-03\", \"region\": \"Valpara\\u00edso\", \"fallecidos\": 1, \"codigo region\": 5}, {\"date\": \"2020-04-03\", \"region\": \"Metropolitana\", \"fallecidos\": 8, \"codigo region\": 6}, {\"date\": \"2020-04-03\", \"region\": \"O\\u2019Higgins\", \"fallecidos\": 0, \"codigo region\": 7}, {\"date\": \"2020-04-03\", \"region\": \"Maule\", \"fallecidos\": 1, \"codigo region\": 8}, {\"date\": \"2020-04-03\", \"region\": \"\\u00d1uble\", \"fallecidos\": 1, \"codigo region\": 9}, {\"date\": \"2020-04-03\", \"region\": \"Biob\\u00edo\", \"fallecidos\": 2, \"codigo region\": 10}, {\"date\": \"2020-04-03\", \"region\": \"Araucan\\u00eda\", \"fallecidos\": 7, \"codigo region\": 11}, {\"date\": \"2020-04-03\", \"region\": \"Los R\\u00edos\", \"fallecidos\": 1, \"codigo region\": 12}, {\"date\": \"2020-04-03\", \"region\": \"Los Lagos\", \"fallecidos\": 0, \"codigo region\": 13}, {\"date\": \"2020-04-03\", \"region\": \"Ays\\u00e9n\", \"fallecidos\": 0, \"codigo region\": 14}, {\"date\": \"2020-04-03\", \"region\": \"Magallanes\", \"fallecidos\": 1, \"codigo region\": 15}, {\"date\": \"2020-04-04\", \"region\": \"Arica y Parinacota\", \"fallecidos\": 0, \"codigo region\": 0}, {\"date\": \"2020-04-04\", \"region\": \"Tarapac\\u00e1\", \"fallecidos\": 0, \"codigo region\": 1}, {\"date\": \"2020-04-04\", \"region\": \"Antofagasta\", \"fallecidos\": 0, \"codigo region\": 2}, {\"date\": \"2020-04-04\", \"region\": \"Atacama\", \"fallecidos\": 0, \"codigo region\": 3}, {\"date\": \"2020-04-04\", \"region\": \"Coquimbo\", \"fallecidos\": 0, \"codigo region\": 4}, {\"date\": \"2020-04-04\", \"region\": \"Valpara\\u00edso\", \"fallecidos\": 1, \"codigo region\": 5}, {\"date\": \"2020-04-04\", \"region\": \"Metropolitana\", \"fallecidos\": 9, \"codigo region\": 6}, {\"date\": \"2020-04-04\", \"region\": \"O\\u2019Higgins\", \"fallecidos\": 0, \"codigo region\": 7}, {\"date\": \"2020-04-04\", \"region\": \"Maule\", \"fallecidos\": 1, \"codigo region\": 8}, {\"date\": \"2020-04-04\", \"region\": \"\\u00d1uble\", \"fallecidos\": 2, \"codigo region\": 9}, {\"date\": \"2020-04-04\", \"region\": \"Biob\\u00edo\", \"fallecidos\": 2, \"codigo region\": 10}, {\"date\": \"2020-04-04\", \"region\": \"Araucan\\u00eda\", \"fallecidos\": 9, \"codigo region\": 11}, {\"date\": \"2020-04-04\", \"region\": \"Los R\\u00edos\", \"fallecidos\": 1, \"codigo region\": 12}, {\"date\": \"2020-04-04\", \"region\": \"Los Lagos\", \"fallecidos\": 0, \"codigo region\": 13}, {\"date\": \"2020-04-04\", \"region\": \"Ays\\u00e9n\", \"fallecidos\": 0, \"codigo region\": 14}, {\"date\": \"2020-04-04\", \"region\": \"Magallanes\", \"fallecidos\": 2, \"codigo region\": 15}, {\"date\": \"2020-04-05\", \"region\": \"Arica y Parinacota\", \"fallecidos\": 0, \"codigo region\": 0}, {\"date\": \"2020-04-05\", \"region\": \"Tarapac\\u00e1\", \"fallecidos\": 0, \"codigo region\": 1}, {\"date\": \"2020-04-05\", \"region\": \"Antofagasta\", \"fallecidos\": 0, \"codigo region\": 2}, {\"date\": \"2020-04-05\", \"region\": \"Atacama\", \"fallecidos\": 0, \"codigo region\": 3}, {\"date\": \"2020-04-05\", \"region\": \"Coquimbo\", \"fallecidos\": 0, \"codigo region\": 4}, {\"date\": \"2020-04-05\", \"region\": \"Valpara\\u00edso\", \"fallecidos\": 1, \"codigo region\": 5}, {\"date\": \"2020-04-05\", \"region\": \"Metropolitana\", \"fallecidos\": 10, \"codigo region\": 6}, {\"date\": \"2020-04-05\", \"region\": \"O\\u2019Higgins\", \"fallecidos\": 0, \"codigo region\": 7}, {\"date\": \"2020-04-05\", \"region\": \"Maule\", \"fallecidos\": 1, \"codigo region\": 8}, {\"date\": \"2020-04-05\", \"region\": \"\\u00d1uble\", \"fallecidos\": 3, \"codigo region\": 9}, {\"date\": \"2020-04-05\", \"region\": \"Biob\\u00edo\", \"fallecidos\": 2, \"codigo region\": 10}, {\"date\": \"2020-04-05\", \"region\": \"Araucan\\u00eda\", \"fallecidos\": 13, \"codigo region\": 11}, {\"date\": \"2020-04-05\", \"region\": \"Los R\\u00edos\", \"fallecidos\": 1, \"codigo region\": 12}, {\"date\": \"2020-04-05\", \"region\": \"Los Lagos\", \"fallecidos\": 1, \"codigo region\": 13}, {\"date\": \"2020-04-05\", \"region\": \"Ays\\u00e9n\", \"fallecidos\": 0, \"codigo region\": 14}, {\"date\": \"2020-04-05\", \"region\": \"Magallanes\", \"fallecidos\": 2, \"codigo region\": 15}, {\"date\": \"2020-04-06\", \"region\": \"Arica y Parinacota\", \"fallecidos\": 0, \"codigo region\": 0}, {\"date\": \"2020-04-06\", \"region\": \"Tarapac\\u00e1\", \"fallecidos\": 0, \"codigo region\": 1}, {\"date\": \"2020-04-06\", \"region\": \"Antofagasta\", \"fallecidos\": 0, \"codigo region\": 2}, {\"date\": \"2020-04-06\", \"region\": \"Atacama\", \"fallecidos\": 0, \"codigo region\": 3}, {\"date\": \"2020-04-06\", \"region\": \"Coquimbo\", \"fallecidos\": 0, \"codigo region\": 4}, {\"date\": \"2020-04-06\", \"region\": \"Valpara\\u00edso\", \"fallecidos\": 1, \"codigo region\": 5}, {\"date\": \"2020-04-06\", \"region\": \"Metropolitana\", \"fallecidos\": 10, \"codigo region\": 6}, {\"date\": \"2020-04-06\", \"region\": \"O\\u2019Higgins\", \"fallecidos\": 0, \"codigo region\": 7}, {\"date\": \"2020-04-06\", \"region\": \"Maule\", \"fallecidos\": 1, \"codigo region\": 8}, {\"date\": \"2020-04-06\", \"region\": \"\\u00d1uble\", \"fallecidos\": 4, \"codigo region\": 9}, {\"date\": \"2020-04-06\", \"region\": \"Biob\\u00edo\", \"fallecidos\": 2, \"codigo region\": 10}, {\"date\": \"2020-04-06\", \"region\": \"Araucan\\u00eda\", \"fallecidos\": 14, \"codigo region\": 11}, {\"date\": \"2020-04-06\", \"region\": \"Los R\\u00edos\", \"fallecidos\": 1, \"codigo region\": 12}, {\"date\": \"2020-04-06\", \"region\": \"Los Lagos\", \"fallecidos\": 2, \"codigo region\": 13}, {\"date\": \"2020-04-06\", \"region\": \"Ays\\u00e9n\", \"fallecidos\": 0, \"codigo region\": 14}, {\"date\": \"2020-04-06\", \"region\": \"Magallanes\", \"fallecidos\": 2, \"codigo region\": 15}, {\"date\": \"2020-04-07\", \"region\": \"Arica y Parinacota\", \"fallecidos\": 0, \"codigo region\": 0}, {\"date\": \"2020-04-07\", \"region\": \"Tarapac\\u00e1\", \"fallecidos\": 0, \"codigo region\": 1}, {\"date\": \"2020-04-07\", \"region\": \"Antofagasta\", \"fallecidos\": 1, \"codigo region\": 2}, {\"date\": \"2020-04-07\", \"region\": \"Atacama\", \"fallecidos\": 0, \"codigo region\": 3}, {\"date\": \"2020-04-07\", \"region\": \"Coquimbo\", \"fallecidos\": 0, \"codigo region\": 4}, {\"date\": \"2020-04-07\", \"region\": \"Valpara\\u00edso\", \"fallecidos\": 1, \"codigo region\": 5}, {\"date\": \"2020-04-07\", \"region\": \"Metropolitana\", \"fallecidos\": 12, \"codigo region\": 6}, {\"date\": \"2020-04-07\", \"region\": \"O\\u2019Higgins\", \"fallecidos\": 0, \"codigo region\": 7}, {\"date\": \"2020-04-07\", \"region\": \"Maule\", \"fallecidos\": 2, \"codigo region\": 8}, {\"date\": \"2020-04-07\", \"region\": \"\\u00d1uble\", \"fallecidos\": 5, \"codigo region\": 9}, {\"date\": \"2020-04-07\", \"region\": \"Biob\\u00edo\", \"fallecidos\": 2, \"codigo region\": 10}, {\"date\": \"2020-04-07\", \"region\": \"Araucan\\u00eda\", \"fallecidos\": 14, \"codigo region\": 11}, {\"date\": \"2020-04-07\", \"region\": \"Los R\\u00edos\", \"fallecidos\": 2, \"codigo region\": 12}, {\"date\": \"2020-04-07\", \"region\": \"Los Lagos\", \"fallecidos\": 2, \"codigo region\": 13}, {\"date\": \"2020-04-07\", \"region\": \"Ays\\u00e9n\", \"fallecidos\": 0, \"codigo region\": 14}, {\"date\": \"2020-04-07\", \"region\": \"Magallanes\", \"fallecidos\": 2, \"codigo region\": 15}, {\"date\": \"2020-04-08\", \"region\": \"Arica y Parinacota\", \"fallecidos\": 0, \"codigo region\": 0}, {\"date\": \"2020-04-08\", \"region\": \"Tarapac\\u00e1\", \"fallecidos\": 0, \"codigo region\": 1}, {\"date\": \"2020-04-08\", \"region\": \"Antofagasta\", \"fallecidos\": 1, \"codigo region\": 2}, {\"date\": \"2020-04-08\", \"region\": \"Atacama\", \"fallecidos\": 0, \"codigo region\": 3}, {\"date\": \"2020-04-08\", \"region\": \"Coquimbo\", \"fallecidos\": 0, \"codigo region\": 4}, {\"date\": \"2020-04-08\", \"region\": \"Valpara\\u00edso\", \"fallecidos\": 2, \"codigo region\": 5}, {\"date\": \"2020-04-08\", \"region\": \"Metropolitana\", \"fallecidos\": 14, \"codigo region\": 6}, {\"date\": \"2020-04-08\", \"region\": \"O\\u2019Higgins\", \"fallecidos\": 0, \"codigo region\": 7}, {\"date\": \"2020-04-08\", \"region\": \"Maule\", \"fallecidos\": 2, \"codigo region\": 8}, {\"date\": \"2020-04-08\", \"region\": \"\\u00d1uble\", \"fallecidos\": 5, \"codigo region\": 9}, {\"date\": \"2020-04-08\", \"region\": \"Biob\\u00edo\", \"fallecidos\": 2, \"codigo region\": 10}, {\"date\": \"2020-04-08\", \"region\": \"Araucan\\u00eda\", \"fallecidos\": 15, \"codigo region\": 11}, {\"date\": \"2020-04-08\", \"region\": \"Los R\\u00edos\", \"fallecidos\": 2, \"codigo region\": 12}, {\"date\": \"2020-04-08\", \"region\": \"Los Lagos\", \"fallecidos\": 2, \"codigo region\": 13}, {\"date\": \"2020-04-08\", \"region\": \"Ays\\u00e9n\", \"fallecidos\": 0, \"codigo region\": 14}, {\"date\": \"2020-04-08\", \"region\": \"Magallanes\", \"fallecidos\": 3, \"codigo region\": 15}, {\"date\": \"2020-04-09\", \"region\": \"Arica y Parinacota\", \"fallecidos\": 0, \"codigo region\": 0}, {\"date\": \"2020-04-09\", \"region\": \"Tarapac\\u00e1\", \"fallecidos\": 0, \"codigo region\": 1}, {\"date\": \"2020-04-09\", \"region\": \"Antofagasta\", \"fallecidos\": 1, \"codigo region\": 2}, {\"date\": \"2020-04-09\", \"region\": \"Atacama\", \"fallecidos\": 0, \"codigo region\": 3}, {\"date\": \"2020-04-09\", \"region\": \"Coquimbo\", \"fallecidos\": 0, \"codigo region\": 4}, {\"date\": \"2020-04-09\", \"region\": \"Valpara\\u00edso\", \"fallecidos\": 2, \"codigo region\": 5}, {\"date\": \"2020-04-09\", \"region\": \"Metropolitana\", \"fallecidos\": 21, \"codigo region\": 6}, {\"date\": \"2020-04-09\", \"region\": \"O\\u2019Higgins\", \"fallecidos\": 0, \"codigo region\": 7}, {\"date\": \"2020-04-09\", \"region\": \"Maule\", \"fallecidos\": 2, \"codigo region\": 8}, {\"date\": \"2020-04-09\", \"region\": \"\\u00d1uble\", \"fallecidos\": 6, \"codigo region\": 9}, {\"date\": \"2020-04-09\", \"region\": \"Biob\\u00edo\", \"fallecidos\": 2, \"codigo region\": 10}, {\"date\": \"2020-04-09\", \"region\": \"Araucan\\u00eda\", \"fallecidos\": 16, \"codigo region\": 11}, {\"date\": \"2020-04-09\", \"region\": \"Los R\\u00edos\", \"fallecidos\": 2, \"codigo region\": 12}, {\"date\": \"2020-04-09\", \"region\": \"Los Lagos\", \"fallecidos\": 2, \"codigo region\": 13}, {\"date\": \"2020-04-09\", \"region\": \"Ays\\u00e9n\", \"fallecidos\": 0, \"codigo region\": 14}, {\"date\": \"2020-04-09\", \"region\": \"Magallanes\", \"fallecidos\": 3, \"codigo region\": 15}, {\"date\": \"2020-04-10\", \"region\": \"Arica y Parinacota\", \"fallecidos\": 0, \"codigo region\": 0}, {\"date\": \"2020-04-10\", \"region\": \"Tarapac\\u00e1\", \"fallecidos\": 0, \"codigo region\": 1}, {\"date\": \"2020-04-10\", \"region\": \"Antofagasta\", \"fallecidos\": 1, \"codigo region\": 2}, {\"date\": \"2020-04-10\", \"region\": \"Atacama\", \"fallecidos\": 0, \"codigo region\": 3}, {\"date\": \"2020-04-10\", \"region\": \"Coquimbo\", \"fallecidos\": 0, \"codigo region\": 4}, {\"date\": \"2020-04-10\", \"region\": \"Valpara\\u00edso\", \"fallecidos\": 2, \"codigo region\": 5}, {\"date\": \"2020-04-10\", \"region\": \"Metropolitana\", \"fallecidos\": 29, \"codigo region\": 6}, {\"date\": \"2020-04-10\", \"region\": \"O\\u2019Higgins\", \"fallecidos\": 0, \"codigo region\": 7}, {\"date\": \"2020-04-10\", \"region\": \"Maule\", \"fallecidos\": 2, \"codigo region\": 8}, {\"date\": \"2020-04-10\", \"region\": \"\\u00d1uble\", \"fallecidos\": 6, \"codigo region\": 9}, {\"date\": \"2020-04-10\", \"region\": \"Biob\\u00edo\", \"fallecidos\": 2, \"codigo region\": 10}, {\"date\": \"2020-04-10\", \"region\": \"Araucan\\u00eda\", \"fallecidos\": 16, \"codigo region\": 11}, {\"date\": \"2020-04-10\", \"region\": \"Los R\\u00edos\", \"fallecidos\": 2, \"codigo region\": 12}, {\"date\": \"2020-04-10\", \"region\": \"Los Lagos\", \"fallecidos\": 2, \"codigo region\": 13}, {\"date\": \"2020-04-10\", \"region\": \"Ays\\u00e9n\", \"fallecidos\": 0, \"codigo region\": 14}, {\"date\": \"2020-04-10\", \"region\": \"Magallanes\", \"fallecidos\": 3, \"codigo region\": 15}, {\"date\": \"2020-04-11\", \"region\": \"Arica y Parinacota\", \"fallecidos\": 0, \"codigo region\": 0}, {\"date\": \"2020-04-11\", \"region\": \"Tarapac\\u00e1\", \"fallecidos\": 0, \"codigo region\": 1}, {\"date\": \"2020-04-11\", \"region\": \"Antofagasta\", \"fallecidos\": 1, \"codigo region\": 2}, {\"date\": \"2020-04-11\", \"region\": \"Atacama\", \"fallecidos\": 0, \"codigo region\": 3}, {\"date\": \"2020-04-11\", \"region\": \"Coquimbo\", \"fallecidos\": 0, \"codigo region\": 4}, {\"date\": \"2020-04-11\", \"region\": \"Valpara\\u00edso\", \"fallecidos\": 2, \"codigo region\": 5}, {\"date\": \"2020-04-11\", \"region\": \"Metropolitana\", \"fallecidos\": 32, \"codigo region\": 6}, {\"date\": \"2020-04-11\", \"region\": \"O\\u2019Higgins\", \"fallecidos\": 0, \"codigo region\": 7}, {\"date\": \"2020-04-11\", \"region\": \"Maule\", \"fallecidos\": 3, \"codigo region\": 8}, {\"date\": \"2020-04-11\", \"region\": \"\\u00d1uble\", \"fallecidos\": 6, \"codigo region\": 9}, {\"date\": \"2020-04-11\", \"region\": \"Biob\\u00edo\", \"fallecidos\": 2, \"codigo region\": 10}, {\"date\": \"2020-04-11\", \"region\": \"Araucan\\u00eda\", \"fallecidos\": 17, \"codigo region\": 11}, {\"date\": \"2020-04-11\", \"region\": \"Los R\\u00edos\", \"fallecidos\": 2, \"codigo region\": 12}, {\"date\": \"2020-04-11\", \"region\": \"Los Lagos\", \"fallecidos\": 5, \"codigo region\": 13}, {\"date\": \"2020-04-11\", \"region\": \"Ays\\u00e9n\", \"fallecidos\": 0, \"codigo region\": 14}, {\"date\": \"2020-04-11\", \"region\": \"Magallanes\", \"fallecidos\": 3, \"codigo region\": 15}, {\"date\": \"2020-04-12\", \"region\": \"Arica y Parinacota\", \"fallecidos\": 1, \"codigo region\": 0}, {\"date\": \"2020-04-12\", \"region\": \"Tarapac\\u00e1\", \"fallecidos\": 0, \"codigo region\": 1}, {\"date\": \"2020-04-12\", \"region\": \"Antofagasta\", \"fallecidos\": 1, \"codigo region\": 2}, {\"date\": \"2020-04-12\", \"region\": \"Atacama\", \"fallecidos\": 0, \"codigo region\": 3}, {\"date\": \"2020-04-12\", \"region\": \"Coquimbo\", \"fallecidos\": 0, \"codigo region\": 4}, {\"date\": \"2020-04-12\", \"region\": \"Valpara\\u00edso\", \"fallecidos\": 2, \"codigo region\": 5}, {\"date\": \"2020-04-12\", \"region\": \"Metropolitana\", \"fallecidos\": 35, \"codigo region\": 6}, {\"date\": \"2020-04-12\", \"region\": \"O\\u2019Higgins\", \"fallecidos\": 0, \"codigo region\": 7}, {\"date\": \"2020-04-12\", \"region\": \"Maule\", \"fallecidos\": 3, \"codigo region\": 8}, {\"date\": \"2020-04-12\", \"region\": \"\\u00d1uble\", \"fallecidos\": 7, \"codigo region\": 9}, {\"date\": \"2020-04-12\", \"region\": \"Biob\\u00edo\", \"fallecidos\": 2, \"codigo region\": 10}, {\"date\": \"2020-04-12\", \"region\": \"Araucan\\u00eda\", \"fallecidos\": 17, \"codigo region\": 11}, {\"date\": \"2020-04-12\", \"region\": \"Los R\\u00edos\", \"fallecidos\": 3, \"codigo region\": 12}, {\"date\": \"2020-04-12\", \"region\": \"Los Lagos\", \"fallecidos\": 5, \"codigo region\": 13}, {\"date\": \"2020-04-12\", \"region\": \"Ays\\u00e9n\", \"fallecidos\": 0, \"codigo region\": 14}, {\"date\": \"2020-04-12\", \"region\": \"Magallanes\", \"fallecidos\": 4, \"codigo region\": 15}, {\"date\": \"2020-04-13\", \"region\": \"Arica y Parinacota\", \"fallecidos\": 1, \"codigo region\": 0}, {\"date\": \"2020-04-13\", \"region\": \"Tarapac\\u00e1\", \"fallecidos\": 0, \"codigo region\": 1}, {\"date\": \"2020-04-13\", \"region\": \"Antofagasta\", \"fallecidos\": 1, \"codigo region\": 2}, {\"date\": \"2020-04-13\", \"region\": \"Atacama\", \"fallecidos\": 0, \"codigo region\": 3}, {\"date\": \"2020-04-13\", \"region\": \"Coquimbo\", \"fallecidos\": 0, \"codigo region\": 4}, {\"date\": \"2020-04-13\", \"region\": \"Valpara\\u00edso\", \"fallecidos\": 2, \"codigo region\": 5}, {\"date\": \"2020-04-13\", \"region\": \"Metropolitana\", \"fallecidos\": 36, \"codigo region\": 6}, {\"date\": \"2020-04-13\", \"region\": \"O\\u2019Higgins\", \"fallecidos\": 0, \"codigo region\": 7}, {\"date\": \"2020-04-13\", \"region\": \"Maule\", \"fallecidos\": 3, \"codigo region\": 8}, {\"date\": \"2020-04-13\", \"region\": \"\\u00d1uble\", \"fallecidos\": 7, \"codigo region\": 9}, {\"date\": \"2020-04-13\", \"region\": \"Biob\\u00edo\", \"fallecidos\": 2, \"codigo region\": 10}, {\"date\": \"2020-04-13\", \"region\": \"Araucan\\u00eda\", \"fallecidos\": 17, \"codigo region\": 11}, {\"date\": \"2020-04-13\", \"region\": \"Los R\\u00edos\", \"fallecidos\": 3, \"codigo region\": 12}, {\"date\": \"2020-04-13\", \"region\": \"Los Lagos\", \"fallecidos\": 5, \"codigo region\": 13}, {\"date\": \"2020-04-13\", \"region\": \"Ays\\u00e9n\", \"fallecidos\": 0, \"codigo region\": 14}, {\"date\": \"2020-04-13\", \"region\": \"Magallanes\", \"fallecidos\": 5, \"codigo region\": 15}, {\"date\": \"2020-04-14\", \"region\": \"Arica y Parinacota\", \"fallecidos\": 1, \"codigo region\": 0}, {\"date\": \"2020-04-14\", \"region\": \"Tarapac\\u00e1\", \"fallecidos\": 0, \"codigo region\": 1}, {\"date\": \"2020-04-14\", \"region\": \"Antofagasta\", \"fallecidos\": 1, \"codigo region\": 2}, {\"date\": \"2020-04-14\", \"region\": \"Atacama\", \"fallecidos\": 0, \"codigo region\": 3}, {\"date\": \"2020-04-14\", \"region\": \"Coquimbo\", \"fallecidos\": 0, \"codigo region\": 4}, {\"date\": \"2020-04-14\", \"region\": \"Valpara\\u00edso\", \"fallecidos\": 2, \"codigo region\": 5}, {\"date\": \"2020-04-14\", \"region\": \"Metropolitana\", \"fallecidos\": 40, \"codigo region\": 6}, {\"date\": \"2020-04-14\", \"region\": \"O\\u2019Higgins\", \"fallecidos\": 0, \"codigo region\": 7}, {\"date\": \"2020-04-14\", \"region\": \"Maule\", \"fallecidos\": 4, \"codigo region\": 8}, {\"date\": \"2020-04-14\", \"region\": \"\\u00d1uble\", \"fallecidos\": 8, \"codigo region\": 9}, {\"date\": \"2020-04-14\", \"region\": \"Biob\\u00edo\", \"fallecidos\": 2, \"codigo region\": 10}, {\"date\": \"2020-04-14\", \"region\": \"Araucan\\u00eda\", \"fallecidos\": 20, \"codigo region\": 11}, {\"date\": \"2020-04-14\", \"region\": \"Los R\\u00edos\", \"fallecidos\": 3, \"codigo region\": 12}, {\"date\": \"2020-04-14\", \"region\": \"Los Lagos\", \"fallecidos\": 5, \"codigo region\": 13}, {\"date\": \"2020-04-14\", \"region\": \"Ays\\u00e9n\", \"fallecidos\": 0, \"codigo region\": 14}, {\"date\": \"2020-04-14\", \"region\": \"Magallanes\", \"fallecidos\": 6, \"codigo region\": 15}, {\"date\": \"2020-04-15\", \"region\": \"Arica y Parinacota\", \"fallecidos\": 1, \"codigo region\": 0}, {\"date\": \"2020-04-15\", \"region\": \"Tarapac\\u00e1\", \"fallecidos\": 0, \"codigo region\": 1}, {\"date\": \"2020-04-15\", \"region\": \"Antofagasta\", \"fallecidos\": 1, \"codigo region\": 2}, {\"date\": \"2020-04-15\", \"region\": \"Atacama\", \"fallecidos\": 0, \"codigo region\": 3}, {\"date\": \"2020-04-15\", \"region\": \"Coquimbo\", \"fallecidos\": 0, \"codigo region\": 4}, {\"date\": \"2020-04-15\", \"region\": \"Valpara\\u00edso\", \"fallecidos\": 2, \"codigo region\": 5}, {\"date\": \"2020-04-15\", \"region\": \"Metropolitana\", \"fallecidos\": 41, \"codigo region\": 6}, {\"date\": \"2020-04-15\", \"region\": \"O\\u2019Higgins\", \"fallecidos\": 0, \"codigo region\": 7}, {\"date\": \"2020-04-15\", \"region\": \"Maule\", \"fallecidos\": 4, \"codigo region\": 8}, {\"date\": \"2020-04-15\", \"region\": \"\\u00d1uble\", \"fallecidos\": 8, \"codigo region\": 9}, {\"date\": \"2020-04-15\", \"region\": \"Biob\\u00edo\", \"fallecidos\": 2, \"codigo region\": 10}, {\"date\": \"2020-04-15\", \"region\": \"Araucan\\u00eda\", \"fallecidos\": 21, \"codigo region\": 11}, {\"date\": \"2020-04-15\", \"region\": \"Los R\\u00edos\", \"fallecidos\": 3, \"codigo region\": 12}, {\"date\": \"2020-04-15\", \"region\": \"Los Lagos\", \"fallecidos\": 5, \"codigo region\": 13}, {\"date\": \"2020-04-15\", \"region\": \"Ays\\u00e9n\", \"fallecidos\": 0, \"codigo region\": 14}, {\"date\": \"2020-04-15\", \"region\": \"Magallanes\", \"fallecidos\": 6, \"codigo region\": 15}, {\"date\": \"2020-04-16\", \"region\": \"Arica y Parinacota\", \"fallecidos\": 1, \"codigo region\": 0}, {\"date\": \"2020-04-16\", \"region\": \"Tarapac\\u00e1\", \"fallecidos\": 0, \"codigo region\": 1}, {\"date\": \"2020-04-16\", \"region\": \"Antofagasta\", \"fallecidos\": 1, \"codigo region\": 2}, {\"date\": \"2020-04-16\", \"region\": \"Atacama\", \"fallecidos\": 0, \"codigo region\": 3}, {\"date\": \"2020-04-16\", \"region\": \"Coquimbo\", \"fallecidos\": 0, \"codigo region\": 4}, {\"date\": \"2020-04-16\", \"region\": \"Valpara\\u00edso\", \"fallecidos\": 4, \"codigo region\": 5}, {\"date\": \"2020-04-16\", \"region\": \"Metropolitana\", \"fallecidos\": 48, \"codigo region\": 6}, {\"date\": \"2020-04-16\", \"region\": \"O\\u2019Higgins\", \"fallecidos\": 0, \"codigo region\": 7}, {\"date\": \"2020-04-16\", \"region\": \"Maule\", \"fallecidos\": 4, \"codigo region\": 8}, {\"date\": \"2020-04-16\", \"region\": \"\\u00d1uble\", \"fallecidos\": 10, \"codigo region\": 9}, {\"date\": \"2020-04-16\", \"region\": \"Biob\\u00edo\", \"fallecidos\": 2, \"codigo region\": 10}, {\"date\": \"2020-04-16\", \"region\": \"Araucan\\u00eda\", \"fallecidos\": 21, \"codigo region\": 11}, {\"date\": \"2020-04-16\", \"region\": \"Los R\\u00edos\", \"fallecidos\": 3, \"codigo region\": 12}, {\"date\": \"2020-04-16\", \"region\": \"Los Lagos\", \"fallecidos\": 5, \"codigo region\": 13}, {\"date\": \"2020-04-16\", \"region\": \"Ays\\u00e9n\", \"fallecidos\": 0, \"codigo region\": 14}, {\"date\": \"2020-04-16\", \"region\": \"Magallanes\", \"fallecidos\": 6, \"codigo region\": 15}, {\"date\": \"2020-04-17\", \"region\": \"Arica y Parinacota\", \"fallecidos\": 2, \"codigo region\": 0}, {\"date\": \"2020-04-17\", \"region\": \"Tarapac\\u00e1\", \"fallecidos\": 0, \"codigo region\": 1}, {\"date\": \"2020-04-17\", \"region\": \"Antofagasta\", \"fallecidos\": 1, \"codigo region\": 2}, {\"date\": \"2020-04-17\", \"region\": \"Atacama\", \"fallecidos\": 0, \"codigo region\": 3}, {\"date\": \"2020-04-17\", \"region\": \"Coquimbo\", \"fallecidos\": 0, \"codigo region\": 4}, {\"date\": \"2020-04-17\", \"region\": \"Valpara\\u00edso\", \"fallecidos\": 4, \"codigo region\": 5}, {\"date\": \"2020-04-17\", \"region\": \"Metropolitana\", \"fallecidos\": 51, \"codigo region\": 6}, {\"date\": \"2020-04-17\", \"region\": \"O\\u2019Higgins\", \"fallecidos\": 0, \"codigo region\": 7}, {\"date\": \"2020-04-17\", \"region\": \"Maule\", \"fallecidos\": 7, \"codigo region\": 8}, {\"date\": \"2020-04-17\", \"region\": \"\\u00d1uble\", \"fallecidos\": 11, \"codigo region\": 9}, {\"date\": \"2020-04-17\", \"region\": \"Biob\\u00edo\", \"fallecidos\": 3, \"codigo region\": 10}, {\"date\": \"2020-04-17\", \"region\": \"Araucan\\u00eda\", \"fallecidos\": 22, \"codigo region\": 11}, {\"date\": \"2020-04-17\", \"region\": \"Los R\\u00edos\", \"fallecidos\": 3, \"codigo region\": 12}, {\"date\": \"2020-04-17\", \"region\": \"Los Lagos\", \"fallecidos\": 6, \"codigo region\": 13}, {\"date\": \"2020-04-17\", \"region\": \"Ays\\u00e9n\", \"fallecidos\": 0, \"codigo region\": 14}, {\"date\": \"2020-04-17\", \"region\": \"Magallanes\", \"fallecidos\": 6, \"codigo region\": 15}, {\"date\": \"2020-04-18\", \"region\": \"Arica y Parinacota\", \"fallecidos\": 2, \"codigo region\": 0}, {\"date\": \"2020-04-18\", \"region\": \"Tarapac\\u00e1\", \"fallecidos\": 0, \"codigo region\": 1}, {\"date\": \"2020-04-18\", \"region\": \"Antofagasta\", \"fallecidos\": 1, \"codigo region\": 2}, {\"date\": \"2020-04-18\", \"region\": \"Atacama\", \"fallecidos\": 0, \"codigo region\": 3}, {\"date\": \"2020-04-18\", \"region\": \"Coquimbo\", \"fallecidos\": 0, \"codigo region\": 4}, {\"date\": \"2020-04-18\", \"region\": \"Valpara\\u00edso\", \"fallecidos\": 4, \"codigo region\": 5}, {\"date\": \"2020-04-18\", \"region\": \"Metropolitana\", \"fallecidos\": 58, \"codigo region\": 6}, {\"date\": \"2020-04-18\", \"region\": \"O\\u2019Higgins\", \"fallecidos\": 0, \"codigo region\": 7}, {\"date\": \"2020-04-18\", \"region\": \"Maule\", \"fallecidos\": 8, \"codigo region\": 8}, {\"date\": \"2020-04-18\", \"region\": \"\\u00d1uble\", \"fallecidos\": 12, \"codigo region\": 9}, {\"date\": \"2020-04-18\", \"region\": \"Biob\\u00edo\", \"fallecidos\": 3, \"codigo region\": 10}, {\"date\": \"2020-04-18\", \"region\": \"Araucan\\u00eda\", \"fallecidos\": 23, \"codigo region\": 11}, {\"date\": \"2020-04-18\", \"region\": \"Los R\\u00edos\", \"fallecidos\": 3, \"codigo region\": 12}, {\"date\": \"2020-04-18\", \"region\": \"Los Lagos\", \"fallecidos\": 6, \"codigo region\": 13}, {\"date\": \"2020-04-18\", \"region\": \"Ays\\u00e9n\", \"fallecidos\": 0, \"codigo region\": 14}, {\"date\": \"2020-04-18\", \"region\": \"Magallanes\", \"fallecidos\": 6, \"codigo region\": 15}, {\"date\": \"2020-04-19\", \"region\": \"Arica y Parinacota\", \"fallecidos\": 2, \"codigo region\": 0}, {\"date\": \"2020-04-19\", \"region\": \"Tarapac\\u00e1\", \"fallecidos\": 0, \"codigo region\": 1}, {\"date\": \"2020-04-19\", \"region\": \"Antofagasta\", \"fallecidos\": 1, \"codigo region\": 2}, {\"date\": \"2020-04-19\", \"region\": \"Atacama\", \"fallecidos\": 0, \"codigo region\": 3}, {\"date\": \"2020-04-19\", \"region\": \"Coquimbo\", \"fallecidos\": 0, \"codigo region\": 4}, {\"date\": \"2020-04-19\", \"region\": \"Valpara\\u00edso\", \"fallecidos\": 5, \"codigo region\": 5}, {\"date\": \"2020-04-19\", \"region\": \"Metropolitana\", \"fallecidos\": 63, \"codigo region\": 6}, {\"date\": \"2020-04-19\", \"region\": \"O\\u2019Higgins\", \"fallecidos\": 0, \"codigo region\": 7}, {\"date\": \"2020-04-19\", \"region\": \"Maule\", \"fallecidos\": 8, \"codigo region\": 8}, {\"date\": \"2020-04-19\", \"region\": \"\\u00d1uble\", \"fallecidos\": 13, \"codigo region\": 9}, {\"date\": \"2020-04-19\", \"region\": \"Biob\\u00edo\", \"fallecidos\": 3, \"codigo region\": 10}, {\"date\": \"2020-04-19\", \"region\": \"Araucan\\u00eda\", \"fallecidos\": 23, \"codigo region\": 11}, {\"date\": \"2020-04-19\", \"region\": \"Los R\\u00edos\", \"fallecidos\": 3, \"codigo region\": 12}, {\"date\": \"2020-04-19\", \"region\": \"Los Lagos\", \"fallecidos\": 6, \"codigo region\": 13}, {\"date\": \"2020-04-19\", \"region\": \"Ays\\u00e9n\", \"fallecidos\": 0, \"codigo region\": 14}, {\"date\": \"2020-04-19\", \"region\": \"Magallanes\", \"fallecidos\": 6, \"codigo region\": 15}, {\"date\": \"2020-04-20\", \"region\": \"Arica y Parinacota\", \"fallecidos\": 2, \"codigo region\": 0}, {\"date\": \"2020-04-20\", \"region\": \"Tarapac\\u00e1\", \"fallecidos\": 0, \"codigo region\": 1}, {\"date\": \"2020-04-20\", \"region\": \"Antofagasta\", \"fallecidos\": 1, \"codigo region\": 2}, {\"date\": \"2020-04-20\", \"region\": \"Atacama\", \"fallecidos\": 0, \"codigo region\": 3}, {\"date\": \"2020-04-20\", \"region\": \"Coquimbo\", \"fallecidos\": 0, \"codigo region\": 4}, {\"date\": \"2020-04-20\", \"region\": \"Valpara\\u00edso\", \"fallecidos\": 5, \"codigo region\": 5}, {\"date\": \"2020-04-20\", \"region\": \"Metropolitana\", \"fallecidos\": 67, \"codigo region\": 6}, {\"date\": \"2020-04-20\", \"region\": \"O\\u2019Higgins\", \"fallecidos\": 0, \"codigo region\": 7}, {\"date\": \"2020-04-20\", \"region\": \"Maule\", \"fallecidos\": 10, \"codigo region\": 8}, {\"date\": \"2020-04-20\", \"region\": \"\\u00d1uble\", \"fallecidos\": 13, \"codigo region\": 9}, {\"date\": \"2020-04-20\", \"region\": \"Biob\\u00edo\", \"fallecidos\": 3, \"codigo region\": 10}, {\"date\": \"2020-04-20\", \"region\": \"Araucan\\u00eda\", \"fallecidos\": 23, \"codigo region\": 11}, {\"date\": \"2020-04-20\", \"region\": \"Los R\\u00edos\", \"fallecidos\": 3, \"codigo region\": 12}, {\"date\": \"2020-04-20\", \"region\": \"Los Lagos\", \"fallecidos\": 6, \"codigo region\": 13}, {\"date\": \"2020-04-20\", \"region\": \"Ays\\u00e9n\", \"fallecidos\": 0, \"codigo region\": 14}, {\"date\": \"2020-04-20\", \"region\": \"Magallanes\", \"fallecidos\": 6, \"codigo region\": 15}, {\"date\": \"2020-04-21\", \"region\": \"Arica y Parinacota\", \"fallecidos\": 2, \"codigo region\": 0}, {\"date\": \"2020-04-21\", \"region\": \"Tarapac\\u00e1\", \"fallecidos\": 0, \"codigo region\": 1}, {\"date\": \"2020-04-21\", \"region\": \"Antofagasta\", \"fallecidos\": 1, \"codigo region\": 2}, {\"date\": \"2020-04-21\", \"region\": \"Atacama\", \"fallecidos\": 0, \"codigo region\": 3}, {\"date\": \"2020-04-21\", \"region\": \"Coquimbo\", \"fallecidos\": 0, \"codigo region\": 4}, {\"date\": \"2020-04-21\", \"region\": \"Valpara\\u00edso\", \"fallecidos\": 6, \"codigo region\": 5}, {\"date\": \"2020-04-21\", \"region\": \"Metropolitana\", \"fallecidos\": 69, \"codigo region\": 6}, {\"date\": \"2020-04-21\", \"region\": \"O\\u2019Higgins\", \"fallecidos\": 1, \"codigo region\": 7}, {\"date\": \"2020-04-21\", \"region\": \"Maule\", \"fallecidos\": 10, \"codigo region\": 8}, {\"date\": \"2020-04-21\", \"region\": \"\\u00d1uble\", \"fallecidos\": 13, \"codigo region\": 9}, {\"date\": \"2020-04-21\", \"region\": \"Biob\\u00edo\", \"fallecidos\": 4, \"codigo region\": 10}, {\"date\": \"2020-04-21\", \"region\": \"Araucan\\u00eda\", \"fallecidos\": 25, \"codigo region\": 11}, {\"date\": \"2020-04-21\", \"region\": \"Los R\\u00edos\", \"fallecidos\": 3, \"codigo region\": 12}, {\"date\": \"2020-04-21\", \"region\": \"Los Lagos\", \"fallecidos\": 6, \"codigo region\": 13}, {\"date\": \"2020-04-21\", \"region\": \"Ays\\u00e9n\", \"fallecidos\": 0, \"codigo region\": 14}, {\"date\": \"2020-04-21\", \"region\": \"Magallanes\", \"fallecidos\": 7, \"codigo region\": 15}, {\"date\": \"2020-04-22\", \"region\": \"Arica y Parinacota\", \"fallecidos\": 2, \"codigo region\": 0}, {\"date\": \"2020-04-22\", \"region\": \"Tarapac\\u00e1\", \"fallecidos\": 0, \"codigo region\": 1}, {\"date\": \"2020-04-22\", \"region\": \"Antofagasta\", \"fallecidos\": 2, \"codigo region\": 2}, {\"date\": \"2020-04-22\", \"region\": \"Atacama\", \"fallecidos\": 0, \"codigo region\": 3}, {\"date\": \"2020-04-22\", \"region\": \"Coquimbo\", \"fallecidos\": 0, \"codigo region\": 4}, {\"date\": \"2020-04-22\", \"region\": \"Valpara\\u00edso\", \"fallecidos\": 7, \"codigo region\": 5}, {\"date\": \"2020-04-22\", \"region\": \"Metropolitana\", \"fallecidos\": 78, \"codigo region\": 6}, {\"date\": \"2020-04-22\", \"region\": \"O\\u2019Higgins\", \"fallecidos\": 1, \"codigo region\": 7}, {\"date\": \"2020-04-22\", \"region\": \"Maule\", \"fallecidos\": 10, \"codigo region\": 8}, {\"date\": \"2020-04-22\", \"region\": \"\\u00d1uble\", \"fallecidos\": 13, \"codigo region\": 9}, {\"date\": \"2020-04-22\", \"region\": \"Biob\\u00edo\", \"fallecidos\": 5, \"codigo region\": 10}, {\"date\": \"2020-04-22\", \"region\": \"Araucan\\u00eda\", \"fallecidos\": 26, \"codigo region\": 11}, {\"date\": \"2020-04-22\", \"region\": \"Los R\\u00edos\", \"fallecidos\": 3, \"codigo region\": 12}, {\"date\": \"2020-04-22\", \"region\": \"Los Lagos\", \"fallecidos\": 6, \"codigo region\": 13}, {\"date\": \"2020-04-22\", \"region\": \"Ays\\u00e9n\", \"fallecidos\": 0, \"codigo region\": 14}, {\"date\": \"2020-04-22\", \"region\": \"Magallanes\", \"fallecidos\": 7, \"codigo region\": 15}, {\"date\": \"2020-04-23\", \"region\": \"Arica y Parinacota\", \"fallecidos\": 2, \"codigo region\": 0}, {\"date\": \"2020-04-23\", \"region\": \"Tarapac\\u00e1\", \"fallecidos\": 0, \"codigo region\": 1}, {\"date\": \"2020-04-23\", \"region\": \"Antofagasta\", \"fallecidos\": 2, \"codigo region\": 2}, {\"date\": \"2020-04-23\", \"region\": \"Atacama\", \"fallecidos\": 0, \"codigo region\": 3}, {\"date\": \"2020-04-23\", \"region\": \"Coquimbo\", \"fallecidos\": 0, \"codigo region\": 4}, {\"date\": \"2020-04-23\", \"region\": \"Valpara\\u00edso\", \"fallecidos\": 7, \"codigo region\": 5}, {\"date\": \"2020-04-23\", \"region\": \"Metropolitana\", \"fallecidos\": 85, \"codigo region\": 6}, {\"date\": \"2020-04-23\", \"region\": \"O\\u2019Higgins\", \"fallecidos\": 1, \"codigo region\": 7}, {\"date\": \"2020-04-23\", \"region\": \"Maule\", \"fallecidos\": 10, \"codigo region\": 8}, {\"date\": \"2020-04-23\", \"region\": \"\\u00d1uble\", \"fallecidos\": 13, \"codigo region\": 9}, {\"date\": \"2020-04-23\", \"region\": \"Biob\\u00edo\", \"fallecidos\": 5, \"codigo region\": 10}, {\"date\": \"2020-04-23\", \"region\": \"Araucan\\u00eda\", \"fallecidos\": 26, \"codigo region\": 11}, {\"date\": \"2020-04-23\", \"region\": \"Los R\\u00edos\", \"fallecidos\": 3, \"codigo region\": 12}, {\"date\": \"2020-04-23\", \"region\": \"Los Lagos\", \"fallecidos\": 7, \"codigo region\": 13}, {\"date\": \"2020-04-23\", \"region\": \"Ays\\u00e9n\", \"fallecidos\": 0, \"codigo region\": 14}, {\"date\": \"2020-04-23\", \"region\": \"Magallanes\", \"fallecidos\": 7, \"codigo region\": 15}, {\"date\": \"2020-04-24\", \"region\": \"Arica y Parinacota\", \"fallecidos\": 3, \"codigo region\": 0}, {\"date\": \"2020-04-24\", \"region\": \"Tarapac\\u00e1\", \"fallecidos\": 0, \"codigo region\": 1}, {\"date\": \"2020-04-24\", \"region\": \"Antofagasta\", \"fallecidos\": 2, \"codigo region\": 2}, {\"date\": \"2020-04-24\", \"region\": \"Atacama\", \"fallecidos\": 0, \"codigo region\": 3}, {\"date\": \"2020-04-24\", \"region\": \"Coquimbo\", \"fallecidos\": 0, \"codigo region\": 4}, {\"date\": \"2020-04-24\", \"region\": \"Valpara\\u00edso\", \"fallecidos\": 8, \"codigo region\": 5}, {\"date\": \"2020-04-24\", \"region\": \"Metropolitana\", \"fallecidos\": 86, \"codigo region\": 6}, {\"date\": \"2020-04-24\", \"region\": \"O\\u2019Higgins\", \"fallecidos\": 1, \"codigo region\": 7}, {\"date\": \"2020-04-24\", \"region\": \"Maule\", \"fallecidos\": 10, \"codigo region\": 8}, {\"date\": \"2020-04-24\", \"region\": \"\\u00d1uble\", \"fallecidos\": 14, \"codigo region\": 9}, {\"date\": \"2020-04-24\", \"region\": \"Biob\\u00edo\", \"fallecidos\": 5, \"codigo region\": 10}, {\"date\": \"2020-04-24\", \"region\": \"Araucan\\u00eda\", \"fallecidos\": 26, \"codigo region\": 11}, {\"date\": \"2020-04-24\", \"region\": \"Los R\\u00edos\", \"fallecidos\": 3, \"codigo region\": 12}, {\"date\": \"2020-04-24\", \"region\": \"Los Lagos\", \"fallecidos\": 8, \"codigo region\": 13}, {\"date\": \"2020-04-24\", \"region\": \"Ays\\u00e9n\", \"fallecidos\": 0, \"codigo region\": 14}, {\"date\": \"2020-04-24\", \"region\": \"Magallanes\", \"fallecidos\": 8, \"codigo region\": 15}, {\"date\": \"2020-04-25\", \"region\": \"Arica y Parinacota\", \"fallecidos\": 3, \"codigo region\": 0}, {\"date\": \"2020-04-25\", \"region\": \"Tarapac\\u00e1\", \"fallecidos\": 1, \"codigo region\": 1}, {\"date\": \"2020-04-25\", \"region\": \"Antofagasta\", \"fallecidos\": 3, \"codigo region\": 2}, {\"date\": \"2020-04-25\", \"region\": \"Atacama\", \"fallecidos\": 0, \"codigo region\": 3}, {\"date\": \"2020-04-25\", \"region\": \"Coquimbo\", \"fallecidos\": 0, \"codigo region\": 4}, {\"date\": \"2020-04-25\", \"region\": \"Valpara\\u00edso\", \"fallecidos\": 9, \"codigo region\": 5}, {\"date\": \"2020-04-25\", \"region\": \"Metropolitana\", \"fallecidos\": 89, \"codigo region\": 6}, {\"date\": \"2020-04-25\", \"region\": \"O\\u2019Higgins\", \"fallecidos\": 1, \"codigo region\": 7}, {\"date\": \"2020-04-25\", \"region\": \"Maule\", \"fallecidos\": 10, \"codigo region\": 8}, {\"date\": \"2020-04-25\", \"region\": \"\\u00d1uble\", \"fallecidos\": 14, \"codigo region\": 9}, {\"date\": \"2020-04-25\", \"region\": \"Biob\\u00edo\", \"fallecidos\": 5, \"codigo region\": 10}, {\"date\": \"2020-04-25\", \"region\": \"Araucan\\u00eda\", \"fallecidos\": 27, \"codigo region\": 11}, {\"date\": \"2020-04-25\", \"region\": \"Los R\\u00edos\", \"fallecidos\": 3, \"codigo region\": 12}, {\"date\": \"2020-04-25\", \"region\": \"Los Lagos\", \"fallecidos\": 8, \"codigo region\": 13}, {\"date\": \"2020-04-25\", \"region\": \"Ays\\u00e9n\", \"fallecidos\": 0, \"codigo region\": 14}, {\"date\": \"2020-04-25\", \"region\": \"Magallanes\", \"fallecidos\": 8, \"codigo region\": 15}, {\"date\": \"2020-04-26\", \"region\": \"Arica y Parinacota\", \"fallecidos\": 3, \"codigo region\": 0}, {\"date\": \"2020-04-26\", \"region\": \"Tarapac\\u00e1\", \"fallecidos\": 1, \"codigo region\": 1}, {\"date\": \"2020-04-26\", \"region\": \"Antofagasta\", \"fallecidos\": 4, \"codigo region\": 2}, {\"date\": \"2020-04-26\", \"region\": \"Atacama\", \"fallecidos\": 0, \"codigo region\": 3}, {\"date\": \"2020-04-26\", \"region\": \"Coquimbo\", \"fallecidos\": 0, \"codigo region\": 4}, {\"date\": \"2020-04-26\", \"region\": \"Valpara\\u00edso\", \"fallecidos\": 9, \"codigo region\": 5}, {\"date\": \"2020-04-26\", \"region\": \"Metropolitana\", \"fallecidos\": 91, \"codigo region\": 6}, {\"date\": \"2020-04-26\", \"region\": \"O\\u2019Higgins\", \"fallecidos\": 1, \"codigo region\": 7}, {\"date\": \"2020-04-26\", \"region\": \"Maule\", \"fallecidos\": 11, \"codigo region\": 8}, {\"date\": \"2020-04-26\", \"region\": \"\\u00d1uble\", \"fallecidos\": 14, \"codigo region\": 9}, {\"date\": \"2020-04-26\", \"region\": \"Biob\\u00edo\", \"fallecidos\": 6, \"codigo region\": 10}, {\"date\": \"2020-04-26\", \"region\": \"Araucan\\u00eda\", \"fallecidos\": 29, \"codigo region\": 11}, {\"date\": \"2020-04-26\", \"region\": \"Los R\\u00edos\", \"fallecidos\": 3, \"codigo region\": 12}, {\"date\": \"2020-04-26\", \"region\": \"Los Lagos\", \"fallecidos\": 8, \"codigo region\": 13}, {\"date\": \"2020-04-26\", \"region\": \"Ays\\u00e9n\", \"fallecidos\": 0, \"codigo region\": 14}, {\"date\": \"2020-04-26\", \"region\": \"Magallanes\", \"fallecidos\": 9, \"codigo region\": 15}, {\"date\": \"2020-04-27\", \"region\": \"Arica y Parinacota\", \"fallecidos\": 3, \"codigo region\": 0}, {\"date\": \"2020-04-27\", \"region\": \"Tarapac\\u00e1\", \"fallecidos\": 1, \"codigo region\": 1}, {\"date\": \"2020-04-27\", \"region\": \"Antofagasta\", \"fallecidos\": 4, \"codigo region\": 2}, {\"date\": \"2020-04-27\", \"region\": \"Atacama\", \"fallecidos\": 0, \"codigo region\": 3}, {\"date\": \"2020-04-27\", \"region\": \"Coquimbo\", \"fallecidos\": 0, \"codigo region\": 4}, {\"date\": \"2020-04-27\", \"region\": \"Valpara\\u00edso\", \"fallecidos\": 9, \"codigo region\": 5}, {\"date\": \"2020-04-27\", \"region\": \"Metropolitana\", \"fallecidos\": 95, \"codigo region\": 6}, {\"date\": \"2020-04-27\", \"region\": \"O\\u2019Higgins\", \"fallecidos\": 1, \"codigo region\": 7}, {\"date\": \"2020-04-27\", \"region\": \"Maule\", \"fallecidos\": 12, \"codigo region\": 8}, {\"date\": \"2020-04-27\", \"region\": \"\\u00d1uble\", \"fallecidos\": 14, \"codigo region\": 9}, {\"date\": \"2020-04-27\", \"region\": \"Biob\\u00edo\", \"fallecidos\": 6, \"codigo region\": 10}, {\"date\": \"2020-04-27\", \"region\": \"Araucan\\u00eda\", \"fallecidos\": 32, \"codigo region\": 11}, {\"date\": \"2020-04-27\", \"region\": \"Los R\\u00edos\", \"fallecidos\": 3, \"codigo region\": 12}, {\"date\": \"2020-04-27\", \"region\": \"Los Lagos\", \"fallecidos\": 8, \"codigo region\": 13}, {\"date\": \"2020-04-27\", \"region\": \"Ays\\u00e9n\", \"fallecidos\": 0, \"codigo region\": 14}, {\"date\": \"2020-04-27\", \"region\": \"Magallanes\", \"fallecidos\": 10, \"codigo region\": 15}, {\"date\": \"2020-04-28\", \"region\": \"Arica y Parinacota\", \"fallecidos\": 3, \"codigo region\": 0}, {\"date\": \"2020-04-28\", \"region\": \"Tarapac\\u00e1\", \"fallecidos\": 1, \"codigo region\": 1}, {\"date\": \"2020-04-28\", \"region\": \"Antofagasta\", \"fallecidos\": 4, \"codigo region\": 2}, {\"date\": \"2020-04-28\", \"region\": \"Atacama\", \"fallecidos\": 0, \"codigo region\": 3}, {\"date\": \"2020-04-28\", \"region\": \"Coquimbo\", \"fallecidos\": 0, \"codigo region\": 4}, {\"date\": \"2020-04-28\", \"region\": \"Valpara\\u00edso\", \"fallecidos\": 10, \"codigo region\": 5}, {\"date\": \"2020-04-28\", \"region\": \"Metropolitana\", \"fallecidos\": 100, \"codigo region\": 6}, {\"date\": \"2020-04-28\", \"region\": \"O\\u2019Higgins\", \"fallecidos\": 1, \"codigo region\": 7}, {\"date\": \"2020-04-28\", \"region\": \"Maule\", \"fallecidos\": 12, \"codigo region\": 8}, {\"date\": \"2020-04-28\", \"region\": \"\\u00d1uble\", \"fallecidos\": 14, \"codigo region\": 9}, {\"date\": \"2020-04-28\", \"region\": \"Biob\\u00edo\", \"fallecidos\": 7, \"codigo region\": 10}, {\"date\": \"2020-04-28\", \"region\": \"Araucan\\u00eda\", \"fallecidos\": 32, \"codigo region\": 11}, {\"date\": \"2020-04-28\", \"region\": \"Los R\\u00edos\", \"fallecidos\": 4, \"codigo region\": 12}, {\"date\": \"2020-04-28\", \"region\": \"Los Lagos\", \"fallecidos\": 9, \"codigo region\": 13}, {\"date\": \"2020-04-28\", \"region\": \"Ays\\u00e9n\", \"fallecidos\": 0, \"codigo region\": 14}, {\"date\": \"2020-04-28\", \"region\": \"Magallanes\", \"fallecidos\": 10, \"codigo region\": 15}, {\"date\": \"2020-04-29\", \"region\": \"Arica y Parinacota\", \"fallecidos\": 4, \"codigo region\": 0}, {\"date\": \"2020-04-29\", \"region\": \"Tarapac\\u00e1\", \"fallecidos\": 1, \"codigo region\": 1}, {\"date\": \"2020-04-29\", \"region\": \"Antofagasta\", \"fallecidos\": 4, \"codigo region\": 2}, {\"date\": \"2020-04-29\", \"region\": \"Atacama\", \"fallecidos\": 0, \"codigo region\": 3}, {\"date\": \"2020-04-29\", \"region\": \"Coquimbo\", \"fallecidos\": 0, \"codigo region\": 4}, {\"date\": \"2020-04-29\", \"region\": \"Valpara\\u00edso\", \"fallecidos\": 12, \"codigo region\": 5}, {\"date\": \"2020-04-29\", \"region\": \"Metropolitana\", \"fallecidos\": 104, \"codigo region\": 6}, {\"date\": \"2020-04-29\", \"region\": \"O\\u2019Higgins\", \"fallecidos\": 1, \"codigo region\": 7}, {\"date\": \"2020-04-29\", \"region\": \"Maule\", \"fallecidos\": 13, \"codigo region\": 8}, {\"date\": \"2020-04-29\", \"region\": \"\\u00d1uble\", \"fallecidos\": 14, \"codigo region\": 9}, {\"date\": \"2020-04-29\", \"region\": \"Biob\\u00edo\", \"fallecidos\": 7, \"codigo region\": 10}, {\"date\": \"2020-04-29\", \"region\": \"Araucan\\u00eda\", \"fallecidos\": 32, \"codigo region\": 11}, {\"date\": \"2020-04-29\", \"region\": \"Los R\\u00edos\", \"fallecidos\": 4, \"codigo region\": 12}, {\"date\": \"2020-04-29\", \"region\": \"Los Lagos\", \"fallecidos\": 9, \"codigo region\": 13}, {\"date\": \"2020-04-29\", \"region\": \"Ays\\u00e9n\", \"fallecidos\": 0, \"codigo region\": 14}, {\"date\": \"2020-04-29\", \"region\": \"Magallanes\", \"fallecidos\": 11, \"codigo region\": 15}, {\"date\": \"2020-04-30\", \"region\": \"Arica y Parinacota\", \"fallecidos\": 4, \"codigo region\": 0}, {\"date\": \"2020-04-30\", \"region\": \"Tarapac\\u00e1\", \"fallecidos\": 1, \"codigo region\": 1}, {\"date\": \"2020-04-30\", \"region\": \"Antofagasta\", \"fallecidos\": 5, \"codigo region\": 2}, {\"date\": \"2020-04-30\", \"region\": \"Atacama\", \"fallecidos\": 0, \"codigo region\": 3}, {\"date\": \"2020-04-30\", \"region\": \"Coquimbo\", \"fallecidos\": 0, \"codigo region\": 4}, {\"date\": \"2020-04-30\", \"region\": \"Valpara\\u00edso\", \"fallecidos\": 12, \"codigo region\": 5}, {\"date\": \"2020-04-30\", \"region\": \"Metropolitana\", \"fallecidos\": 110, \"codigo region\": 6}, {\"date\": \"2020-04-30\", \"region\": \"O\\u2019Higgins\", \"fallecidos\": 1, \"codigo region\": 7}, {\"date\": \"2020-04-30\", \"region\": \"Maule\", \"fallecidos\": 13, \"codigo region\": 8}, {\"date\": \"2020-04-30\", \"region\": \"\\u00d1uble\", \"fallecidos\": 14, \"codigo region\": 9}, {\"date\": \"2020-04-30\", \"region\": \"Biob\\u00edo\", \"fallecidos\": 7, \"codigo region\": 10}, {\"date\": \"2020-04-30\", \"region\": \"Araucan\\u00eda\", \"fallecidos\": 35, \"codigo region\": 11}, {\"date\": \"2020-04-30\", \"region\": \"Los R\\u00edos\", \"fallecidos\": 4, \"codigo region\": 12}, {\"date\": \"2020-04-30\", \"region\": \"Los Lagos\", \"fallecidos\": 10, \"codigo region\": 13}, {\"date\": \"2020-04-30\", \"region\": \"Ays\\u00e9n\", \"fallecidos\": 0, \"codigo region\": 14}, {\"date\": \"2020-04-30\", \"region\": \"Magallanes\", \"fallecidos\": 11, \"codigo region\": 15}, {\"date\": \"2020-05-01\", \"region\": \"Arica y Parinacota\", \"fallecidos\": 4, \"codigo region\": 0}, {\"date\": \"2020-05-01\", \"region\": \"Tarapac\\u00e1\", \"fallecidos\": 1, \"codigo region\": 1}, {\"date\": \"2020-05-01\", \"region\": \"Antofagasta\", \"fallecidos\": 7, \"codigo region\": 2}, {\"date\": \"2020-05-01\", \"region\": \"Atacama\", \"fallecidos\": 0, \"codigo region\": 3}, {\"date\": \"2020-05-01\", \"region\": \"Coquimbo\", \"fallecidos\": 0, \"codigo region\": 4}, {\"date\": \"2020-05-01\", \"region\": \"Valpara\\u00edso\", \"fallecidos\": 12, \"codigo region\": 5}, {\"date\": \"2020-05-01\", \"region\": \"Metropolitana\", \"fallecidos\": 114, \"codigo region\": 6}, {\"date\": \"2020-05-01\", \"region\": \"O\\u2019Higgins\", \"fallecidos\": 1, \"codigo region\": 7}, {\"date\": \"2020-05-01\", \"region\": \"Maule\", \"fallecidos\": 13, \"codigo region\": 8}, {\"date\": \"2020-05-01\", \"region\": \"\\u00d1uble\", \"fallecidos\": 14, \"codigo region\": 9}, {\"date\": \"2020-05-01\", \"region\": \"Biob\\u00edo\", \"fallecidos\": 7, \"codigo region\": 10}, {\"date\": \"2020-05-01\", \"region\": \"Araucan\\u00eda\", \"fallecidos\": 36, \"codigo region\": 11}, {\"date\": \"2020-05-01\", \"region\": \"Los R\\u00edos\", \"fallecidos\": 4, \"codigo region\": 12}, {\"date\": \"2020-05-01\", \"region\": \"Los Lagos\", \"fallecidos\": 10, \"codigo region\": 13}, {\"date\": \"2020-05-01\", \"region\": \"Ays\\u00e9n\", \"fallecidos\": 0, \"codigo region\": 14}, {\"date\": \"2020-05-01\", \"region\": \"Magallanes\", \"fallecidos\": 11, \"codigo region\": 15}, {\"date\": \"2020-05-02\", \"region\": \"Arica y Parinacota\", \"fallecidos\": 4, \"codigo region\": 0}, {\"date\": \"2020-05-02\", \"region\": \"Tarapac\\u00e1\", \"fallecidos\": 1, \"codigo region\": 1}, {\"date\": \"2020-05-02\", \"region\": \"Antofagasta\", \"fallecidos\": 7, \"codigo region\": 2}, {\"date\": \"2020-05-02\", \"region\": \"Atacama\", \"fallecidos\": 0, \"codigo region\": 3}, {\"date\": \"2020-05-02\", \"region\": \"Coquimbo\", \"fallecidos\": 0, \"codigo region\": 4}, {\"date\": \"2020-05-02\", \"region\": \"Valpara\\u00edso\", \"fallecidos\": 13, \"codigo region\": 5}, {\"date\": \"2020-05-02\", \"region\": \"Metropolitana\", \"fallecidos\": 122, \"codigo region\": 6}, {\"date\": \"2020-05-02\", \"region\": \"O\\u2019Higgins\", \"fallecidos\": 3, \"codigo region\": 7}, {\"date\": \"2020-05-02\", \"region\": \"Maule\", \"fallecidos\": 13, \"codigo region\": 8}, {\"date\": \"2020-05-02\", \"region\": \"\\u00d1uble\", \"fallecidos\": 16, \"codigo region\": 9}, {\"date\": \"2020-05-02\", \"region\": \"Biob\\u00edo\", \"fallecidos\": 7, \"codigo region\": 10}, {\"date\": \"2020-05-02\", \"region\": \"Araucan\\u00eda\", \"fallecidos\": 36, \"codigo region\": 11}, {\"date\": \"2020-05-02\", \"region\": \"Los R\\u00edos\", \"fallecidos\": 4, \"codigo region\": 12}, {\"date\": \"2020-05-02\", \"region\": \"Los Lagos\", \"fallecidos\": 10, \"codigo region\": 13}, {\"date\": \"2020-05-02\", \"region\": \"Ays\\u00e9n\", \"fallecidos\": 0, \"codigo region\": 14}, {\"date\": \"2020-05-02\", \"region\": \"Magallanes\", \"fallecidos\": 11, \"codigo region\": 15}, {\"date\": \"2020-05-03\", \"region\": \"Arica y Parinacota\", \"fallecidos\": 4, \"codigo region\": 0}, {\"date\": \"2020-05-03\", \"region\": \"Tarapac\\u00e1\", \"fallecidos\": 1, \"codigo region\": 1}, {\"date\": \"2020-05-03\", \"region\": \"Antofagasta\", \"fallecidos\": 7, \"codigo region\": 2}, {\"date\": \"2020-05-03\", \"region\": \"Atacama\", \"fallecidos\": 0, \"codigo region\": 3}, {\"date\": \"2020-05-03\", \"region\": \"Coquimbo\", \"fallecidos\": 0, \"codigo region\": 4}, {\"date\": \"2020-05-03\", \"region\": \"Valpara\\u00edso\", \"fallecidos\": 13, \"codigo region\": 5}, {\"date\": \"2020-05-03\", \"region\": \"Metropolitana\", \"fallecidos\": 135, \"codigo region\": 6}, {\"date\": \"2020-05-03\", \"region\": \"O\\u2019Higgins\", \"fallecidos\": 3, \"codigo region\": 7}, {\"date\": \"2020-05-03\", \"region\": \"Maule\", \"fallecidos\": 13, \"codigo region\": 8}, {\"date\": \"2020-05-03\", \"region\": \"\\u00d1uble\", \"fallecidos\": 16, \"codigo region\": 9}, {\"date\": \"2020-05-03\", \"region\": \"Biob\\u00edo\", \"fallecidos\": 7, \"codigo region\": 10}, {\"date\": \"2020-05-03\", \"region\": \"Araucan\\u00eda\", \"fallecidos\": 36, \"codigo region\": 11}, {\"date\": \"2020-05-03\", \"region\": \"Los R\\u00edos\", \"fallecidos\": 4, \"codigo region\": 12}, {\"date\": \"2020-05-03\", \"region\": \"Los Lagos\", \"fallecidos\": 10, \"codigo region\": 13}, {\"date\": \"2020-05-03\", \"region\": \"Ays\\u00e9n\", \"fallecidos\": 0, \"codigo region\": 14}, {\"date\": \"2020-05-03\", \"region\": \"Magallanes\", \"fallecidos\": 11, \"codigo region\": 15}, {\"date\": \"2020-05-04\", \"region\": \"Arica y Parinacota\", \"fallecidos\": 4, \"codigo region\": 0}, {\"date\": \"2020-05-04\", \"region\": \"Tarapac\\u00e1\", \"fallecidos\": 1, \"codigo region\": 1}, {\"date\": \"2020-05-04\", \"region\": \"Antofagasta\", \"fallecidos\": 7, \"codigo region\": 2}, {\"date\": \"2020-05-04\", \"region\": \"Atacama\", \"fallecidos\": 0, \"codigo region\": 3}, {\"date\": \"2020-05-04\", \"region\": \"Coquimbo\", \"fallecidos\": 0, \"codigo region\": 4}, {\"date\": \"2020-05-04\", \"region\": \"Valpara\\u00edso\", \"fallecidos\": 13, \"codigo region\": 5}, {\"date\": \"2020-05-04\", \"region\": \"Metropolitana\", \"fallecidos\": 143, \"codigo region\": 6}, {\"date\": \"2020-05-04\", \"region\": \"O\\u2019Higgins\", \"fallecidos\": 3, \"codigo region\": 7}, {\"date\": \"2020-05-04\", \"region\": \"Maule\", \"fallecidos\": 13, \"codigo region\": 8}, {\"date\": \"2020-05-04\", \"region\": \"\\u00d1uble\", \"fallecidos\": 17, \"codigo region\": 9}, {\"date\": \"2020-05-04\", \"region\": \"Biob\\u00edo\", \"fallecidos\": 8, \"codigo region\": 10}, {\"date\": \"2020-05-04\", \"region\": \"Araucan\\u00eda\", \"fallecidos\": 36, \"codigo region\": 11}, {\"date\": \"2020-05-04\", \"region\": \"Los R\\u00edos\", \"fallecidos\": 4, \"codigo region\": 12}, {\"date\": \"2020-05-04\", \"region\": \"Los Lagos\", \"fallecidos\": 10, \"codigo region\": 13}, {\"date\": \"2020-05-04\", \"region\": \"Ays\\u00e9n\", \"fallecidos\": 0, \"codigo region\": 14}, {\"date\": \"2020-05-04\", \"region\": \"Magallanes\", \"fallecidos\": 11, \"codigo region\": 15}, {\"date\": \"2020-05-05\", \"region\": \"Arica y Parinacota\", \"fallecidos\": 4, \"codigo region\": 0}, {\"date\": \"2020-05-05\", \"region\": \"Tarapac\\u00e1\", \"fallecidos\": 1, \"codigo region\": 1}, {\"date\": \"2020-05-05\", \"region\": \"Antofagasta\", \"fallecidos\": 7, \"codigo region\": 2}, {\"date\": \"2020-05-05\", \"region\": \"Atacama\", \"fallecidos\": 0, \"codigo region\": 3}, {\"date\": \"2020-05-05\", \"region\": \"Coquimbo\", \"fallecidos\": 0, \"codigo region\": 4}, {\"date\": \"2020-05-05\", \"region\": \"Valpara\\u00edso\", \"fallecidos\": 15, \"codigo region\": 5}, {\"date\": \"2020-05-05\", \"region\": \"Metropolitana\", \"fallecidos\": 146, \"codigo region\": 6}, {\"date\": \"2020-05-05\", \"region\": \"O\\u2019Higgins\", \"fallecidos\": 3, \"codigo region\": 7}, {\"date\": \"2020-05-05\", \"region\": \"Maule\", \"fallecidos\": 13, \"codigo region\": 8}, {\"date\": \"2020-05-05\", \"region\": \"\\u00d1uble\", \"fallecidos\": 17, \"codigo region\": 9}, {\"date\": \"2020-05-05\", \"region\": \"Biob\\u00edo\", \"fallecidos\": 8, \"codigo region\": 10}, {\"date\": \"2020-05-05\", \"region\": \"Araucan\\u00eda\", \"fallecidos\": 36, \"codigo region\": 11}, {\"date\": \"2020-05-05\", \"region\": \"Los R\\u00edos\", \"fallecidos\": 4, \"codigo region\": 12}, {\"date\": \"2020-05-05\", \"region\": \"Los Lagos\", \"fallecidos\": 10, \"codigo region\": 13}, {\"date\": \"2020-05-05\", \"region\": \"Ays\\u00e9n\", \"fallecidos\": 0, \"codigo region\": 14}, {\"date\": \"2020-05-05\", \"region\": \"Magallanes\", \"fallecidos\": 11, \"codigo region\": 15}, {\"date\": \"2020-05-06\", \"region\": \"Arica y Parinacota\", \"fallecidos\": 5, \"codigo region\": 0}, {\"date\": \"2020-05-06\", \"region\": \"Tarapac\\u00e1\", \"fallecidos\": 1, \"codigo region\": 1}, {\"date\": \"2020-05-06\", \"region\": \"Antofagasta\", \"fallecidos\": 7, \"codigo region\": 2}, {\"date\": \"2020-05-06\", \"region\": \"Atacama\", \"fallecidos\": 0, \"codigo region\": 3}, {\"date\": \"2020-05-06\", \"region\": \"Coquimbo\", \"fallecidos\": 0, \"codigo region\": 4}, {\"date\": \"2020-05-06\", \"region\": \"Valpara\\u00edso\", \"fallecidos\": 16, \"codigo region\": 5}, {\"date\": \"2020-05-06\", \"region\": \"Metropolitana\", \"fallecidos\": 150, \"codigo region\": 6}, {\"date\": \"2020-05-06\", \"region\": \"O\\u2019Higgins\", \"fallecidos\": 3, \"codigo region\": 7}, {\"date\": \"2020-05-06\", \"region\": \"Maule\", \"fallecidos\": 13, \"codigo region\": 8}, {\"date\": \"2020-05-06\", \"region\": \"\\u00d1uble\", \"fallecidos\": 17, \"codigo region\": 9}, {\"date\": \"2020-05-06\", \"region\": \"Biob\\u00edo\", \"fallecidos\": 8, \"codigo region\": 10}, {\"date\": \"2020-05-06\", \"region\": \"Araucan\\u00eda\", \"fallecidos\": 36, \"codigo region\": 11}, {\"date\": \"2020-05-06\", \"region\": \"Los R\\u00edos\", \"fallecidos\": 4, \"codigo region\": 12}, {\"date\": \"2020-05-06\", \"region\": \"Los Lagos\", \"fallecidos\": 10, \"codigo region\": 13}, {\"date\": \"2020-05-06\", \"region\": \"Ays\\u00e9n\", \"fallecidos\": 0, \"codigo region\": 14}, {\"date\": \"2020-05-06\", \"region\": \"Magallanes\", \"fallecidos\": 11, \"codigo region\": 15}, {\"date\": \"2020-05-07\", \"region\": \"Arica y Parinacota\", \"fallecidos\": 6, \"codigo region\": 0}, {\"date\": \"2020-05-07\", \"region\": \"Tarapac\\u00e1\", \"fallecidos\": 1, \"codigo region\": 1}, {\"date\": \"2020-05-07\", \"region\": \"Antofagasta\", \"fallecidos\": 7, \"codigo region\": 2}, {\"date\": \"2020-05-07\", \"region\": \"Atacama\", \"fallecidos\": 0, \"codigo region\": 3}, {\"date\": \"2020-05-07\", \"region\": \"Coquimbo\", \"fallecidos\": 0, \"codigo region\": 4}, {\"date\": \"2020-05-07\", \"region\": \"Valpara\\u00edso\", \"fallecidos\": 17, \"codigo region\": 5}, {\"date\": \"2020-05-07\", \"region\": \"Metropolitana\", \"fallecidos\": 152, \"codigo region\": 6}, {\"date\": \"2020-05-07\", \"region\": \"O\\u2019Higgins\", \"fallecidos\": 3, \"codigo region\": 7}, {\"date\": \"2020-05-07\", \"region\": \"Maule\", \"fallecidos\": 13, \"codigo region\": 8}, {\"date\": \"2020-05-07\", \"region\": \"\\u00d1uble\", \"fallecidos\": 17, \"codigo region\": 9}, {\"date\": \"2020-05-07\", \"region\": \"Biob\\u00edo\", \"fallecidos\": 8, \"codigo region\": 10}, {\"date\": \"2020-05-07\", \"region\": \"Araucan\\u00eda\", \"fallecidos\": 36, \"codigo region\": 11}, {\"date\": \"2020-05-07\", \"region\": \"Los R\\u00edos\", \"fallecidos\": 4, \"codigo region\": 12}, {\"date\": \"2020-05-07\", \"region\": \"Los Lagos\", \"fallecidos\": 10, \"codigo region\": 13}, {\"date\": \"2020-05-07\", \"region\": \"Ays\\u00e9n\", \"fallecidos\": 0, \"codigo region\": 14}, {\"date\": \"2020-05-07\", \"region\": \"Magallanes\", \"fallecidos\": 11, \"codigo region\": 15}]}}, {\"mode\": \"vega-lite\"});\n",
       "</script>"
      ],
      "text/plain": [
       "alt.HConcatChart(...)"
      ]
     },
     "execution_count": 57,
     "metadata": {},
     "output_type": "execute_result"
    }
   ],
   "source": [
    "#hide_input\n",
    "input_dropdown = alt.binding_select(options=data['region'].unique())\n",
    "selection1 = alt.selection_single(fields=['region'], bind=input_dropdown, name=' ')\n",
    "selection2 = alt.selection_multi(fields=['region'], on='mouseover')\n",
    "\n",
    "color = alt.condition(selection1 | selection2,\n",
    "                    alt.Color('region:N', legend=None),\n",
    "                    alt.value('lightgray'))\n",
    "\n",
    "bars = alt.Chart(data).mark_bar().encode(\n",
    "    x=alt.X('date:O', axis=alt.Axis(title='Fecha (año-mes-día)')),\n",
    "    y=alt.Y('pacientes'),\n",
    "    color=color,\n",
    "    tooltip=['date', 'region', 'pacientes'],\n",
    "    order=alt.Order(\n",
    "    # Sort the segments of the bars by this field\n",
    "    'codigo region',\n",
    "    sort='descending'\n",
    "    )\n",
    "    ).properties(\n",
    "    title=f'COVID-19 en Chile: Pacientes en UCI por región'\n",
    ").add_selection(\n",
    "    selection1, selection2\n",
    ").transform_filter(\n",
    "    selection1\n",
    ")\n",
    "\n",
    "legend = alt.Chart(new_data).mark_point().encode(\n",
    "    y=alt.Y('region:N', axis=alt.Axis(orient='right'), sort=regiones),\n",
    "    color=color\n",
    ").add_selection(\n",
    "    selection1, selection2\n",
    ")\n",
    "\n",
    "bars.properties(width=600, height=400) | legend"
   ]
  },
  {
   "cell_type": "markdown",
   "metadata": {},
   "source": [
    "Fuente: [Ministerio de Ciencia](https://github.com/MinCiencia/Datos-COVID19)"
   ]
  },
  {
   "cell_type": "markdown",
   "metadata": {},
   "source": [
    "# Casos confirmados por región"
   ]
  },
  {
   "cell_type": "code",
   "execution_count": 58,
   "metadata": {},
   "outputs": [],
   "source": [
    "#hide\n",
    "data_raw = pd.read_csv(\n",
    "    \"https://raw.githubusercontent.com/MinCiencia/Datos-COVID19/master/output/producto3/CasosTotalesCumulativo.csv\",\n",
    "    index_col='Region')"
   ]
  },
  {
   "cell_type": "code",
   "execution_count": 59,
   "metadata": {},
   "outputs": [],
   "source": [
    "#hide\n",
    "data_raw = data_raw.drop('Total')\n",
    "data_raw = data_raw.reset_index()"
   ]
  },
  {
   "cell_type": "code",
   "execution_count": 60,
   "metadata": {},
   "outputs": [
    {
     "data": {
      "text/plain": [
       "array(['Arica y Parinacota', 'Tarapacá', 'Antofagasta', 'Atacama',\n",
       "       'Coquimbo', 'Valparaíso', 'Metropolitana', 'O’Higgins', 'Maule',\n",
       "       'Ñuble', 'Biobío', 'Araucanía', 'Los Ríos', 'Los Lagos', 'Aysén',\n",
       "       'Magallanes'], dtype=object)"
      ]
     },
     "execution_count": 60,
     "metadata": {},
     "output_type": "execute_result"
    }
   ],
   "source": [
    "#hide\n",
    "regiones = data_raw[\"Region\"].values\n",
    "regiones"
   ]
  },
  {
   "cell_type": "code",
   "execution_count": 61,
   "metadata": {},
   "outputs": [],
   "source": [
    "#hide\n",
    "data_raw = data_raw[['Region', today]]"
   ]
  },
  {
   "cell_type": "code",
   "execution_count": 62,
   "metadata": {},
   "outputs": [],
   "source": [
    "#hide\n",
    "today_es_format = update_date.strftime('%d/%m/%Y')"
   ]
  },
  {
   "cell_type": "code",
   "execution_count": 63,
   "metadata": {},
   "outputs": [
    {
     "data": {
      "text/html": [
       "\n",
       "<div id=\"altair-viz-83ab9c70118f463aba3fe85c107c03a2\"></div>\n",
       "<script type=\"text/javascript\">\n",
       "  (function(spec, embedOpt){\n",
       "    let outputDiv = document.currentScript.previousElementSibling;\n",
       "    if (outputDiv.id !== \"altair-viz-83ab9c70118f463aba3fe85c107c03a2\") {\n",
       "      outputDiv = document.getElementById(\"altair-viz-83ab9c70118f463aba3fe85c107c03a2\");\n",
       "    }\n",
       "    const paths = {\n",
       "      \"vega\": \"https://cdn.jsdelivr.net/npm//vega@5?noext\",\n",
       "      \"vega-lib\": \"https://cdn.jsdelivr.net/npm//vega-lib?noext\",\n",
       "      \"vega-lite\": \"https://cdn.jsdelivr.net/npm//vega-lite@4.8.1?noext\",\n",
       "      \"vega-embed\": \"https://cdn.jsdelivr.net/npm//vega-embed@6?noext\",\n",
       "    };\n",
       "\n",
       "    function loadScript(lib) {\n",
       "      return new Promise(function(resolve, reject) {\n",
       "        var s = document.createElement('script');\n",
       "        s.src = paths[lib];\n",
       "        s.async = true;\n",
       "        s.onload = () => resolve(paths[lib]);\n",
       "        s.onerror = () => reject(`Error loading script: ${paths[lib]}`);\n",
       "        document.getElementsByTagName(\"head\")[0].appendChild(s);\n",
       "      });\n",
       "    }\n",
       "\n",
       "    function showError(err) {\n",
       "      outputDiv.innerHTML = `<div class=\"error\" style=\"color:red;\">${err}</div>`;\n",
       "      throw err;\n",
       "    }\n",
       "\n",
       "    function displayChart(vegaEmbed) {\n",
       "      vegaEmbed(outputDiv, spec, embedOpt)\n",
       "        .catch(err => showError(`Javascript Error: ${err.message}<br>This usually means there's a typo in your chart specification. See the javascript console for the full traceback.`));\n",
       "    }\n",
       "\n",
       "    if(typeof define === \"function\" && define.amd) {\n",
       "      requirejs.config({paths});\n",
       "      require([\"vega-embed\"], displayChart, err => showError(`Error loading script: ${err.message}`));\n",
       "    } else if (typeof vegaEmbed === \"function\") {\n",
       "      displayChart(vegaEmbed);\n",
       "    } else {\n",
       "      loadScript(\"vega\")\n",
       "        .then(() => loadScript(\"vega-lite\"))\n",
       "        .then(() => loadScript(\"vega-embed\"))\n",
       "        .catch(showError)\n",
       "        .then(() => displayChart(vegaEmbed));\n",
       "    }\n",
       "  })({\"config\": {\"view\": {\"continuousWidth\": 400, \"continuousHeight\": 300}}, \"layer\": [{\"mark\": \"bar\", \"encoding\": {\"tooltip\": {\"type\": \"quantitative\", \"field\": \"2020-05-07\"}, \"x\": {\"type\": \"quantitative\", \"axis\": {\"title\": \"Casos confirmados\"}, \"field\": \"2020-05-07\"}, \"y\": {\"type\": \"nominal\", \"field\": \"Region\", \"sort\": \"-x\"}}, \"title\": \"COVID-19 en Chile: Casos confirmados por regi\\u00f3n al 07/05/2020\"}, {\"mark\": {\"type\": \"text\", \"align\": \"left\", \"baseline\": \"middle\", \"dx\": 3}, \"encoding\": {\"text\": {\"type\": \"quantitative\", \"field\": \"2020-05-07\"}, \"tooltip\": {\"type\": \"quantitative\", \"field\": \"2020-05-07\"}, \"x\": {\"type\": \"quantitative\", \"axis\": {\"title\": \"Casos confirmados\"}, \"field\": \"2020-05-07\"}, \"y\": {\"type\": \"nominal\", \"field\": \"Region\", \"sort\": \"-x\"}}, \"title\": \"COVID-19 en Chile: Casos confirmados por regi\\u00f3n al 07/05/2020\"}], \"data\": {\"name\": \"data-5c66374169fddda874f39358b462da69\"}, \"height\": 300, \"width\": 600, \"$schema\": \"https://vega.github.io/schema/vega-lite/v4.8.1.json\", \"datasets\": {\"data-5c66374169fddda874f39358b462da69\": [{\"Region\": \"Arica y Parinacota\", \"2020-05-07\": 325}, {\"Region\": \"Tarapac\\u00e1\", \"2020-05-07\": 417}, {\"Region\": \"Antofagasta\", \"2020-05-07\": 895}, {\"Region\": \"Atacama\", \"2020-05-07\": 87}, {\"Region\": \"Coquimbo\", \"2020-05-07\": 100}, {\"Region\": \"Valpara\\u00edso\", \"2020-05-07\": 781}, {\"Region\": \"Metropolitana\", \"2020-05-07\": 16828}, {\"Region\": \"O\\u2019Higgins\", \"2020-05-07\": 151}, {\"Region\": \"Maule\", \"2020-05-07\": 414}, {\"Region\": \"\\u00d1uble\", \"2020-05-07\": 793}, {\"Region\": \"Biob\\u00edo\", \"2020-05-07\": 814}, {\"Region\": \"Araucan\\u00eda\", \"2020-05-07\": 1385}, {\"Region\": \"Los R\\u00edos\", \"2020-05-07\": 202}, {\"Region\": \"Los Lagos\", \"2020-05-07\": 545}, {\"Region\": \"Ays\\u00e9n\", \"2020-05-07\": 8}, {\"Region\": \"Magallanes\", \"2020-05-07\": 836}]}}, {\"mode\": \"vega-lite\"});\n",
       "</script>"
      ],
      "text/plain": [
       "alt.LayerChart(...)"
      ]
     },
     "execution_count": 63,
     "metadata": {},
     "output_type": "execute_result"
    }
   ],
   "source": [
    "#hide_input\n",
    "bars = alt.Chart(data_raw).mark_bar().encode(\n",
    "#     x = alt.X(today, scale=alt.Scale(domain=(0, 6500)), axis=alt.Axis(title='Casos confirmados')),\n",
    "    x = alt.X(today, axis=alt.Axis(title='Casos confirmados')),\n",
    "    y = alt.Y('Region:N', sort='-x'),\n",
    "    tooltip = today \n",
    ").properties(\n",
    "    title=f'COVID-19 en Chile: Casos confirmados por región al {today_es_format}'\n",
    ")\n",
    "\n",
    "text = bars.mark_text(\n",
    "    align='left',\n",
    "    baseline='middle',\n",
    "    dx=3  # Nudges text to right so it doesn't appear on top of the bar\n",
    ").encode(\n",
    "    text=today\n",
    ")\n",
    "\n",
    "(bars + text).properties(width=600, height=300)"
   ]
  },
  {
   "cell_type": "markdown",
   "metadata": {},
   "source": [
    "Fuente: [Ministerio de Ciencia](https://github.com/MinCiencia/Datos-COVID19)"
   ]
  },
  {
   "cell_type": "markdown",
   "metadata": {},
   "source": [
    "# Casos confirmados por región por cada 100.000 habitantes"
   ]
  },
  {
   "cell_type": "code",
   "execution_count": 64,
   "metadata": {},
   "outputs": [],
   "source": [
    "#hide\n",
    "tests_raw = pd.read_csv(\n",
    "    'https://raw.githubusercontent.com/MinCiencia/Datos-COVID19/master/output/producto7/PCR.csv',\n",
    "    index_col='Region')"
   ]
  },
  {
   "cell_type": "code",
   "execution_count": 65,
   "metadata": {},
   "outputs": [],
   "source": [
    "#hide\n",
    "data_raw[\"Tasa de casos\"] = 100000*data_raw[today]/tests_raw[\"Poblacion\"].values"
   ]
  },
  {
   "cell_type": "code",
   "execution_count": 66,
   "metadata": {},
   "outputs": [
    {
     "data": {
      "text/html": [
       "\n",
       "<div id=\"altair-viz-03cf848a61004180af8bee33cf8fe7c2\"></div>\n",
       "<script type=\"text/javascript\">\n",
       "  (function(spec, embedOpt){\n",
       "    let outputDiv = document.currentScript.previousElementSibling;\n",
       "    if (outputDiv.id !== \"altair-viz-03cf848a61004180af8bee33cf8fe7c2\") {\n",
       "      outputDiv = document.getElementById(\"altair-viz-03cf848a61004180af8bee33cf8fe7c2\");\n",
       "    }\n",
       "    const paths = {\n",
       "      \"vega\": \"https://cdn.jsdelivr.net/npm//vega@5?noext\",\n",
       "      \"vega-lib\": \"https://cdn.jsdelivr.net/npm//vega-lib?noext\",\n",
       "      \"vega-lite\": \"https://cdn.jsdelivr.net/npm//vega-lite@4.8.1?noext\",\n",
       "      \"vega-embed\": \"https://cdn.jsdelivr.net/npm//vega-embed@6?noext\",\n",
       "    };\n",
       "\n",
       "    function loadScript(lib) {\n",
       "      return new Promise(function(resolve, reject) {\n",
       "        var s = document.createElement('script');\n",
       "        s.src = paths[lib];\n",
       "        s.async = true;\n",
       "        s.onload = () => resolve(paths[lib]);\n",
       "        s.onerror = () => reject(`Error loading script: ${paths[lib]}`);\n",
       "        document.getElementsByTagName(\"head\")[0].appendChild(s);\n",
       "      });\n",
       "    }\n",
       "\n",
       "    function showError(err) {\n",
       "      outputDiv.innerHTML = `<div class=\"error\" style=\"color:red;\">${err}</div>`;\n",
       "      throw err;\n",
       "    }\n",
       "\n",
       "    function displayChart(vegaEmbed) {\n",
       "      vegaEmbed(outputDiv, spec, embedOpt)\n",
       "        .catch(err => showError(`Javascript Error: ${err.message}<br>This usually means there's a typo in your chart specification. See the javascript console for the full traceback.`));\n",
       "    }\n",
       "\n",
       "    if(typeof define === \"function\" && define.amd) {\n",
       "      requirejs.config({paths});\n",
       "      require([\"vega-embed\"], displayChart, err => showError(`Error loading script: ${err.message}`));\n",
       "    } else if (typeof vegaEmbed === \"function\") {\n",
       "      displayChart(vegaEmbed);\n",
       "    } else {\n",
       "      loadScript(\"vega\")\n",
       "        .then(() => loadScript(\"vega-lite\"))\n",
       "        .then(() => loadScript(\"vega-embed\"))\n",
       "        .catch(showError)\n",
       "        .then(() => displayChart(vegaEmbed));\n",
       "    }\n",
       "  })({\"config\": {\"view\": {\"continuousWidth\": 400, \"continuousHeight\": 300}}, \"layer\": [{\"mark\": \"bar\", \"encoding\": {\"tooltip\": {\"type\": \"quantitative\", \"field\": \"Tasa de casos\"}, \"x\": {\"type\": \"quantitative\", \"axis\": {\"title\": \"Casos confirmados por cada 100.000 habitantes\"}, \"field\": \"Tasa de casos\"}, \"y\": {\"type\": \"nominal\", \"field\": \"Region\", \"sort\": \"-x\"}}, \"title\": \"COVID-19 en Chile: Casos confirmados por regi\\u00f3n por cada 100.000 habitantes al 07/05/2020\"}, {\"mark\": {\"type\": \"text\", \"align\": \"left\", \"baseline\": \"middle\", \"dx\": 3}, \"encoding\": {\"text\": {\"type\": \"quantitative\", \"field\": \"Tasa de casos\", \"format\": \",.2f\"}, \"tooltip\": {\"type\": \"quantitative\", \"field\": \"Tasa de casos\"}, \"x\": {\"type\": \"quantitative\", \"axis\": {\"title\": \"Casos confirmados por cada 100.000 habitantes\"}, \"field\": \"Tasa de casos\"}, \"y\": {\"type\": \"nominal\", \"field\": \"Region\", \"sort\": \"-x\"}}, \"title\": \"COVID-19 en Chile: Casos confirmados por regi\\u00f3n por cada 100.000 habitantes al 07/05/2020\"}], \"data\": {\"name\": \"data-0218dc2e3f59a876a98c329a6c138b6a\"}, \"height\": 300, \"width\": 600, \"$schema\": \"https://vega.github.io/schema/vega-lite/v4.8.1.json\", \"datasets\": {\"data-0218dc2e3f59a876a98c329a6c138b6a\": [{\"Region\": \"Arica y Parinacota\", \"2020-05-07\": 325, \"Tasa de casos\": 128.9119828646226}, {\"Region\": \"Tarapac\\u00e1\", \"2020-05-07\": 417, \"Tasa de casos\": 108.94185326551246}, {\"Region\": \"Antofagasta\", \"2020-05-07\": 895, \"Tasa de casos\": 129.36255337108696}, {\"Region\": \"Atacama\", \"2020-05-07\": 87, \"Tasa de casos\": 27.644585950830766}, {\"Region\": \"Coquimbo\", \"2020-05-07\": 100, \"Tasa de casos\": 11.9603490508267}, {\"Region\": \"Valpara\\u00edso\", \"2020-05-07\": 781, \"Tasa de casos\": 39.843482963212374}, {\"Region\": \"Metropolitana\", \"2020-05-07\": 16828, \"Tasa de casos\": 207.1120108227964}, {\"Region\": \"O\\u2019Higgins\", \"2020-05-07\": 151, \"Tasa de casos\": 15.236165612075116}, {\"Region\": \"Maule\", \"2020-05-07\": 414, \"Tasa de casos\": 36.57440904501038}, {\"Region\": \"\\u00d1uble\", \"2020-05-07\": 793, \"Tasa de casos\": 155.01875668310686}, {\"Region\": \"Biob\\u00edo\", \"2020-05-07\": 814, \"Tasa de casos\": 48.92720785528125}, {\"Region\": \"Araucan\\u00eda\", \"2020-05-07\": 1385, \"Tasa de casos\": 136.54158405982986}, {\"Region\": \"Los R\\u00edos\", \"2020-05-07\": 202, \"Tasa de casos\": 49.773922899700615}, {\"Region\": \"Los Lagos\", \"2020-05-07\": 545, \"Tasa de casos\": 61.13703670465763}, {\"Region\": \"Ays\\u00e9n\", \"2020-05-07\": 8, \"Tasa de casos\": 7.455940054241964}, {\"Region\": \"Magallanes\", \"2020-05-07\": 836, \"Tasa de casos\": 468.70970273937274}]}}, {\"mode\": \"vega-lite\"});\n",
       "</script>"
      ],
      "text/plain": [
       "alt.LayerChart(...)"
      ]
     },
     "execution_count": 66,
     "metadata": {},
     "output_type": "execute_result"
    }
   ],
   "source": [
    "#hide_input\n",
    "\n",
    "bars = alt.Chart(data_raw).mark_bar().encode(\n",
    "    x = alt.X('Tasa de casos:Q', axis=alt.Axis(title='Casos confirmados por cada 100.000 habitantes')),\n",
    "    y = alt.Y('Region:N', sort='-x'),\n",
    "    tooltip = 'Tasa de casos'\n",
    ").properties(\n",
    "    title=f'COVID-19 en Chile: Casos confirmados por región por cada 100.000 habitantes al {today_es_format}'\n",
    ")\n",
    "\n",
    "text = bars.mark_text(\n",
    "    align='left',\n",
    "    baseline='middle',\n",
    "    dx=3  # Nudges text to right so it doesn't appear on top of the bar\n",
    ").encode(\n",
    "    text=alt.Text('Tasa de casos:Q', format=',.2f')\n",
    ")\n",
    "\n",
    "# bars.configure_title(\n",
    "#     fontSize=20,\n",
    "#     font='Courier',\n",
    "#     anchor='start',\n",
    "#     color='gray'\n",
    "# )\n",
    "\n",
    "(bars + text).properties(width=600, height=300)"
   ]
  },
  {
   "cell_type": "markdown",
   "metadata": {},
   "source": [
    "Fuente: [Ministerio de Ciencia](https://github.com/MinCiencia/Datos-COVID19)"
   ]
  },
  {
   "cell_type": "markdown",
   "metadata": {},
   "source": [
    "# Fallecidos confirmados por región"
   ]
  },
  {
   "cell_type": "code",
   "execution_count": 67,
   "metadata": {},
   "outputs": [],
   "source": [
    "#hide\n",
    "s = 'https://raw.githubusercontent.com/MinCiencia/Datos-COVID19/master/output/producto4/' + today +'-CasosConfirmados-totalRegional.csv'\n",
    "data_raw = pd.read_csv(s, index_col='Region')"
   ]
  },
  {
   "cell_type": "code",
   "execution_count": 68,
   "metadata": {},
   "outputs": [],
   "source": [
    "#hide\n",
    "data_raw = data_raw[data_raw['Fallecidos']>0]\n",
    "data_raw = data_raw.drop('Total')"
   ]
  },
  {
   "cell_type": "code",
   "execution_count": 69,
   "metadata": {},
   "outputs": [
    {
     "data": {
      "text/html": [
       "\n",
       "<div id=\"altair-viz-77ee0befec62445a971960ddf934a1be\"></div>\n",
       "<script type=\"text/javascript\">\n",
       "  (function(spec, embedOpt){\n",
       "    let outputDiv = document.currentScript.previousElementSibling;\n",
       "    if (outputDiv.id !== \"altair-viz-77ee0befec62445a971960ddf934a1be\") {\n",
       "      outputDiv = document.getElementById(\"altair-viz-77ee0befec62445a971960ddf934a1be\");\n",
       "    }\n",
       "    const paths = {\n",
       "      \"vega\": \"https://cdn.jsdelivr.net/npm//vega@5?noext\",\n",
       "      \"vega-lib\": \"https://cdn.jsdelivr.net/npm//vega-lib?noext\",\n",
       "      \"vega-lite\": \"https://cdn.jsdelivr.net/npm//vega-lite@4.8.1?noext\",\n",
       "      \"vega-embed\": \"https://cdn.jsdelivr.net/npm//vega-embed@6?noext\",\n",
       "    };\n",
       "\n",
       "    function loadScript(lib) {\n",
       "      return new Promise(function(resolve, reject) {\n",
       "        var s = document.createElement('script');\n",
       "        s.src = paths[lib];\n",
       "        s.async = true;\n",
       "        s.onload = () => resolve(paths[lib]);\n",
       "        s.onerror = () => reject(`Error loading script: ${paths[lib]}`);\n",
       "        document.getElementsByTagName(\"head\")[0].appendChild(s);\n",
       "      });\n",
       "    }\n",
       "\n",
       "    function showError(err) {\n",
       "      outputDiv.innerHTML = `<div class=\"error\" style=\"color:red;\">${err}</div>`;\n",
       "      throw err;\n",
       "    }\n",
       "\n",
       "    function displayChart(vegaEmbed) {\n",
       "      vegaEmbed(outputDiv, spec, embedOpt)\n",
       "        .catch(err => showError(`Javascript Error: ${err.message}<br>This usually means there's a typo in your chart specification. See the javascript console for the full traceback.`));\n",
       "    }\n",
       "\n",
       "    if(typeof define === \"function\" && define.amd) {\n",
       "      requirejs.config({paths});\n",
       "      require([\"vega-embed\"], displayChart, err => showError(`Error loading script: ${err.message}`));\n",
       "    } else if (typeof vegaEmbed === \"function\") {\n",
       "      displayChart(vegaEmbed);\n",
       "    } else {\n",
       "      loadScript(\"vega\")\n",
       "        .then(() => loadScript(\"vega-lite\"))\n",
       "        .then(() => loadScript(\"vega-embed\"))\n",
       "        .catch(showError)\n",
       "        .then(() => displayChart(vegaEmbed));\n",
       "    }\n",
       "  })({\"config\": {\"view\": {\"continuousWidth\": 400, \"continuousHeight\": 300}}, \"layer\": [{\"mark\": \"bar\", \"encoding\": {\"tooltip\": {\"type\": \"quantitative\", \"field\": \"Fallecidos\"}, \"x\": {\"type\": \"quantitative\", \"axis\": {\"title\": \"Fallecidos confirmados\"}, \"field\": \"Fallecidos\"}, \"y\": {\"type\": \"nominal\", \"field\": \"Region\", \"sort\": \"-x\"}}, \"title\": \"COVID-19 en Chile: Fallecidos confirmados por regi\\u00f3n al 07/05/2020\"}, {\"mark\": {\"type\": \"text\", \"align\": \"left\", \"baseline\": \"middle\", \"dx\": 3}, \"encoding\": {\"text\": {\"type\": \"quantitative\", \"field\": \"Fallecidos\"}, \"tooltip\": {\"type\": \"quantitative\", \"field\": \"Fallecidos\"}, \"x\": {\"type\": \"quantitative\", \"axis\": {\"title\": \"Fallecidos confirmados\"}, \"field\": \"Fallecidos\"}, \"y\": {\"type\": \"nominal\", \"field\": \"Region\", \"sort\": \"-x\"}}, \"title\": \"COVID-19 en Chile: Fallecidos confirmados por regi\\u00f3n al 07/05/2020\"}], \"data\": {\"name\": \"data-b3e288bd3ee7992051f598be2277009e\"}, \"height\": 300, \"width\": 600, \"$schema\": \"https://vega.github.io/schema/vega-lite/v4.8.1.json\", \"datasets\": {\"data-b3e288bd3ee7992051f598be2277009e\": [{\"Region\": \"Arica  y  Parinacota\", \"Casos  totales  acumulados\": 325, \"Casos  nuevos  totales\": 7, \"Casos  nuevos  con  sintomas\": 6, \"Casos  nuevos  sin  sintomas*\": 1, \"Fallecidos\": 6, \"%  Total\": \"132%\"}, {\"Region\": \"Tarapaca\", \"Casos  totales  acumulados\": 417, \"Casos  nuevos  totales\": 78, \"Casos  nuevos  con  sintomas\": 38, \"Casos  nuevos  sin  sintomas*\": 40, \"Fallecidos\": 1, \"%  Total\": \"1.70%\"}, {\"Region\": \"Antofagasta\", \"Casos  totales  acumulados\": 895, \"Casos  nuevos  totales\": 40, \"Casos  nuevos  con  sintomas\": 31, \"Casos  nuevos  sin  sintomas*\": 9, \"Fallecidos\": 7, \"%  Total\": \"3.64%\"}, {\"Region\": \"Valparaiso\", \"Casos  totales  acumulados\": 781, \"Casos  nuevos  totales\": 65, \"Casos  nuevos  con  sintomas\": 61, \"Casos  nuevos  sin  sintomas*\": 4, \"Fallecidos\": 17, \"%  Total\": \"3.18%\"}, {\"Region\": \"Metropolitana\", \"Casos  totales  acumulados\": 16828, \"Casos  nuevos  totales\": 1246, \"Casos  nuevos  con  sintomas\": 1149, \"Casos  nuevos  sin  sintomas*\": 97, \"Fallecidos\": 152, \"%  Total\": \"68.46%\"}, {\"Region\": \"O'Higgins\", \"Casos  totales  acumulados\": 151, \"Casos  nuevos  totales\": 6, \"Casos  nuevos  con  sintomas\": 6, \"Casos  nuevos  sin  sintomas*\": 0, \"Fallecidos\": 3, \"%  Total\": \"0.61%\"}, {\"Region\": \"Maule\", \"Casos  totales  acumulados\": 414, \"Casos  nuevos  totales\": 6, \"Casos  nuevos  con  sintomas\": 6, \"Casos  nuevos  sin  sintomas*\": 0, \"Fallecidos\": 13, \"%  Total\": \"1.68%\"}, {\"Region\": \"Nuble\", \"Casos  totales  acumulados\": 793, \"Casos  nuevos  totales\": 2, \"Casos  nuevos  con  sintomas\": 1, \"Casos  nuevos  sin  sintomas*\": 1, \"Fallecidos\": 17, \"%  Total\": \"3.23%\"}, {\"Region\": \"Biobio\", \"Casos  totales  acumulados\": 814, \"Casos  nuevos  totales\": 25, \"Casos  nuevos  con  sintomas\": 18, \"Casos  nuevos  sin  sintomas*\": 7, \"Fallecidos\": 8, \"%  Total\": \"3.31%\"}, {\"Region\": \"Araucania\", \"Casos  totales  acumulados\": 1385, \"Casos  nuevos  totales\": 23, \"Casos  nuevos  con  sintomas\": 7, \"Casos  nuevos  sin  sintomas*\": 16, \"Fallecidos\": 36, \"%  Total\": \"5.63%\"}, {\"Region\": \"Los  Rios\", \"Casos  totales  acumulados\": 202, \"Casos  nuevos  totales\": 2, \"Casos  nuevos  con  sintomas\": 2, \"Casos  nuevos  sin  sintomas*\": 0, \"Fallecidos\": 4, \"%  Total\": \"0.82%\"}, {\"Region\": \"Los  Lagos\", \"Casos  totales  acumulados\": 545, \"Casos  nuevos  totales\": 4, \"Casos  nuevos  con  sintomas\": 0, \"Casos  nuevos  sin  sintomas*\": 4, \"Fallecidos\": 10, \"%  Total\": \"2.22%\"}, {\"Region\": \"Magallanes\", \"Casos  totales  acumulados\": 836, \"Casos  nuevos  totales\": 18, \"Casos  nuevos  con  sintomas\": 15, \"Casos  nuevos  sin  sintomas*\": 3, \"Fallecidos\": 11, \"%  Total\": \"3.40%\"}]}}, {\"mode\": \"vega-lite\"});\n",
       "</script>"
      ],
      "text/plain": [
       "alt.LayerChart(...)"
      ]
     },
     "execution_count": 69,
     "metadata": {},
     "output_type": "execute_result"
    }
   ],
   "source": [
    "#hide_input\n",
    "bars = alt.Chart(data_raw.reset_index()).mark_bar().encode(\n",
    "    x = alt.X('Fallecidos:Q', axis=alt.Axis(title='Fallecidos confirmados')),\n",
    "    y = alt.Y('Region:N', sort='-x'),\n",
    "    tooltip = 'Fallecidos'\n",
    ").properties(\n",
    "    title=f'COVID-19 en Chile: Fallecidos confirmados por región al {today_es_format}'\n",
    ")\n",
    "\n",
    "text = bars.mark_text(\n",
    "    align='left',\n",
    "    baseline='middle',\n",
    "    dx=3  # Nudges text to right so it doesn't appear on top of the bar\n",
    ").encode(\n",
    "    text='Fallecidos:Q'\n",
    ")\n",
    "\n",
    "bars.configure_title(\n",
    "    fontSize=20,\n",
    "    font='Courier',\n",
    "    anchor='start',\n",
    "    color='gray'\n",
    ")\n",
    "\n",
    "(bars + text).properties(width=600, height=300)"
   ]
  },
  {
   "cell_type": "markdown",
   "metadata": {},
   "source": [
    "Fuente: [Ministerio de Ciencia](https://github.com/MinCiencia/Datos-COVID19)"
   ]
  },
  {
   "cell_type": "markdown",
   "metadata": {},
   "source": [
    "# Fallecidos confirmados por región por cada 100.000 habitantes"
   ]
  },
  {
   "cell_type": "code",
   "execution_count": 70,
   "metadata": {},
   "outputs": [],
   "source": [
    "#hide\n",
    "s = 'https://raw.githubusercontent.com/MinCiencia/Datos-COVID19/master/output/producto4/' + today + '-CasosConfirmados-totalRegional.csv'\n",
    "data_raw = pd.read_csv(s, index_col='Region')"
   ]
  },
  {
   "cell_type": "code",
   "execution_count": 71,
   "metadata": {},
   "outputs": [],
   "source": [
    "#hide\n",
    "tests_raw = pd.read_csv(\n",
    "    'https://raw.githubusercontent.com/MinCiencia/Datos-COVID19/master/output/producto7/PCR.csv',\n",
    "    index_col='Region')\n",
    "tests_raw = tests_raw.fillna(0)"
   ]
  },
  {
   "cell_type": "code",
   "execution_count": 72,
   "metadata": {},
   "outputs": [],
   "source": [
    "#hide\n",
    "tests_total = pd.Series(dtype='float64')\n",
    "for date in tests_raw.columns:\n",
    "  tests_raw[date] = tests_raw[date].apply(lambda x: 0 if x=='-' else x)\n",
    "  tests_raw[date] = tests_raw[date].astype(int)\n",
    "  tests_total[date] = np.sum(tests_raw[date])"
   ]
  },
  {
   "cell_type": "code",
   "execution_count": 73,
   "metadata": {},
   "outputs": [],
   "source": [
    "#hide\n",
    "tests_raw.loc['Total'] = tests_total"
   ]
  },
  {
   "cell_type": "code",
   "execution_count": 74,
   "metadata": {},
   "outputs": [],
   "source": [
    "#hide\n",
    "death_rate = 100000*data_raw['Fallecidos']/tests_raw['Poblacion'].values\n",
    "death_rate = death_rate.sort_values(ascending=True)\n",
    "death_rate = death_rate[death_rate>0]"
   ]
  },
  {
   "cell_type": "code",
   "execution_count": 75,
   "metadata": {
    "scrolled": false
   },
   "outputs": [
    {
     "data": {
      "text/html": [
       "\n",
       "<div id=\"altair-viz-d0dc94f8741c47f69d08073190683974\"></div>\n",
       "<script type=\"text/javascript\">\n",
       "  (function(spec, embedOpt){\n",
       "    let outputDiv = document.currentScript.previousElementSibling;\n",
       "    if (outputDiv.id !== \"altair-viz-d0dc94f8741c47f69d08073190683974\") {\n",
       "      outputDiv = document.getElementById(\"altair-viz-d0dc94f8741c47f69d08073190683974\");\n",
       "    }\n",
       "    const paths = {\n",
       "      \"vega\": \"https://cdn.jsdelivr.net/npm//vega@5?noext\",\n",
       "      \"vega-lib\": \"https://cdn.jsdelivr.net/npm//vega-lib?noext\",\n",
       "      \"vega-lite\": \"https://cdn.jsdelivr.net/npm//vega-lite@4.8.1?noext\",\n",
       "      \"vega-embed\": \"https://cdn.jsdelivr.net/npm//vega-embed@6?noext\",\n",
       "    };\n",
       "\n",
       "    function loadScript(lib) {\n",
       "      return new Promise(function(resolve, reject) {\n",
       "        var s = document.createElement('script');\n",
       "        s.src = paths[lib];\n",
       "        s.async = true;\n",
       "        s.onload = () => resolve(paths[lib]);\n",
       "        s.onerror = () => reject(`Error loading script: ${paths[lib]}`);\n",
       "        document.getElementsByTagName(\"head\")[0].appendChild(s);\n",
       "      });\n",
       "    }\n",
       "\n",
       "    function showError(err) {\n",
       "      outputDiv.innerHTML = `<div class=\"error\" style=\"color:red;\">${err}</div>`;\n",
       "      throw err;\n",
       "    }\n",
       "\n",
       "    function displayChart(vegaEmbed) {\n",
       "      vegaEmbed(outputDiv, spec, embedOpt)\n",
       "        .catch(err => showError(`Javascript Error: ${err.message}<br>This usually means there's a typo in your chart specification. See the javascript console for the full traceback.`));\n",
       "    }\n",
       "\n",
       "    if(typeof define === \"function\" && define.amd) {\n",
       "      requirejs.config({paths});\n",
       "      require([\"vega-embed\"], displayChart, err => showError(`Error loading script: ${err.message}`));\n",
       "    } else if (typeof vegaEmbed === \"function\") {\n",
       "      displayChart(vegaEmbed);\n",
       "    } else {\n",
       "      loadScript(\"vega\")\n",
       "        .then(() => loadScript(\"vega-lite\"))\n",
       "        .then(() => loadScript(\"vega-embed\"))\n",
       "        .catch(showError)\n",
       "        .then(() => displayChart(vegaEmbed));\n",
       "    }\n",
       "  })({\"config\": {\"view\": {\"continuousWidth\": 400, \"continuousHeight\": 300}}, \"layer\": [{\"mark\": \"bar\", \"encoding\": {\"tooltip\": {\"type\": \"quantitative\", \"field\": \"Fallecidos\"}, \"x\": {\"type\": \"quantitative\", \"axis\": {\"title\": \"Fallecidos confirmados por cada 100.000 habitantes\"}, \"field\": \"Fallecidos\"}, \"y\": {\"type\": \"nominal\", \"field\": \"Region\", \"sort\": \"-x\"}}, \"title\": \"COVID-19 en Chile: Fallecidos confirmados por regi\\u00f3n por cada 100.000 habitantes al 07/05/2020\"}, {\"mark\": {\"type\": \"text\", \"align\": \"left\", \"baseline\": \"middle\", \"dx\": 3}, \"encoding\": {\"text\": {\"type\": \"quantitative\", \"field\": \"Fallecidos\", \"format\": \",.2f\"}, \"tooltip\": {\"type\": \"quantitative\", \"field\": \"Fallecidos\"}, \"x\": {\"type\": \"quantitative\", \"axis\": {\"title\": \"Fallecidos confirmados por cada 100.000 habitantes\"}, \"field\": \"Fallecidos\"}, \"y\": {\"type\": \"nominal\", \"field\": \"Region\", \"sort\": \"-x\"}}, \"title\": \"COVID-19 en Chile: Fallecidos confirmados por regi\\u00f3n por cada 100.000 habitantes al 07/05/2020\"}], \"data\": {\"name\": \"data-4f7b59a00da61fc558f15fa4b8bcf997\"}, \"height\": 300, \"width\": 600, \"$schema\": \"https://vega.github.io/schema/vega-lite/v4.8.1.json\", \"datasets\": {\"data-4f7b59a00da61fc558f15fa4b8bcf997\": [{\"Region\": \"Tarapaca\", \"Fallecidos\": 0.261251446679886}, {\"Region\": \"O'Higgins\", \"Fallecidos\": 0.302705277061095}, {\"Region\": \"Biobio\", \"Fallecidos\": 0.4808570796587838}, {\"Region\": \"Valparaiso\", \"Fallecidos\": 0.8672717162286945}, {\"Region\": \"Los  Rios\", \"Fallecidos\": 0.985622235637636}, {\"Region\": \"Antofagasta\", \"Fallecidos\": 1.0117741604442556}, {\"Region\": \"Los  Lagos\", \"Fallecidos\": 1.121780489993718}, {\"Region\": \"Maule\", \"Fallecidos\": 1.148471781606606}, {\"Region\": \"Total\", \"Fallecidos\": 1.464669850567701}, {\"Region\": \"Metropolitana\", \"Fallecidos\": 1.870752653022644}, {\"Region\": \"Arica  y  Parinacota\", \"Fallecidos\": 2.379913529808417}, {\"Region\": \"Nuble\", \"Fallecidos\": 3.3232268141397436}, {\"Region\": \"Araucania\", \"Fallecidos\": 3.54909532574287}, {\"Region\": \"Magallanes\", \"Fallecidos\": 6.16723293078122}]}}, {\"mode\": \"vega-lite\"});\n",
       "</script>"
      ],
      "text/plain": [
       "alt.LayerChart(...)"
      ]
     },
     "execution_count": 75,
     "metadata": {},
     "output_type": "execute_result"
    }
   ],
   "source": [
    "#hide_input\n",
    "bars = alt.Chart(death_rate.reset_index()).mark_bar().encode(\n",
    "    x = alt.X('Fallecidos:Q', axis=alt.Axis(title='Fallecidos confirmados por cada 100.000 habitantes')),\n",
    "    y = alt.Y('Region:N', sort='-x'),\n",
    "    tooltip = 'Fallecidos'\n",
    ").properties(\n",
    "    title=f'COVID-19 en Chile: Fallecidos confirmados por región por cada 100.000 habitantes al {today_es_format}'\n",
    ")\n",
    "\n",
    "text = bars.mark_text(\n",
    "    align='left',\n",
    "    baseline='middle',\n",
    "    dx=3  # Nudges text to right so it doesn't appear on top of the bar\n",
    ").encode(\n",
    "    text=alt.Text('Fallecidos:Q', format=',.2f')\n",
    ")\n",
    "\n",
    "bars.configure_title(\n",
    "    fontSize=20,\n",
    "    font='Courier',\n",
    "    anchor='start',\n",
    "    color='gray'\n",
    ")\n",
    "\n",
    "(bars + text).properties(width=600, height=300)"
   ]
  },
  {
   "cell_type": "markdown",
   "metadata": {},
   "source": [
    "Fuente: [Ministerio de Ciencia](https://github.com/MinCiencia/Datos-COVID19)"
   ]
  },
  {
   "cell_type": "markdown",
   "metadata": {},
   "source": [
    "# Tasa de letalidad por región\n",
    "> Tasa de letalidad = fallecidos confirmados / casos confirmados (en porcentaje)"
   ]
  },
  {
   "cell_type": "code",
   "execution_count": 76,
   "metadata": {
    "scrolled": true
   },
   "outputs": [],
   "source": [
    "#hide\n",
    "CFR = data_raw['Fallecidos']/data_raw['Casos  totales  acumulados']*100\n",
    "CFR = CFR.sort_values(ascending=True)\n",
    "CFR = CFR[CFR>0]"
   ]
  },
  {
   "cell_type": "code",
   "execution_count": 77,
   "metadata": {},
   "outputs": [],
   "source": [
    "#hide\n",
    "CFR = CFR.reset_index()\n",
    "CFR['Tasa de letalidad'] = CFR[0]\n",
    "CFR = CFR.drop(columns=0)"
   ]
  },
  {
   "cell_type": "code",
   "execution_count": 78,
   "metadata": {
    "scrolled": false
   },
   "outputs": [
    {
     "data": {
      "text/html": [
       "\n",
       "<div id=\"altair-viz-5f405d97bfc4461c8fb3c69ad1e2808a\"></div>\n",
       "<script type=\"text/javascript\">\n",
       "  (function(spec, embedOpt){\n",
       "    let outputDiv = document.currentScript.previousElementSibling;\n",
       "    if (outputDiv.id !== \"altair-viz-5f405d97bfc4461c8fb3c69ad1e2808a\") {\n",
       "      outputDiv = document.getElementById(\"altair-viz-5f405d97bfc4461c8fb3c69ad1e2808a\");\n",
       "    }\n",
       "    const paths = {\n",
       "      \"vega\": \"https://cdn.jsdelivr.net/npm//vega@5?noext\",\n",
       "      \"vega-lib\": \"https://cdn.jsdelivr.net/npm//vega-lib?noext\",\n",
       "      \"vega-lite\": \"https://cdn.jsdelivr.net/npm//vega-lite@4.8.1?noext\",\n",
       "      \"vega-embed\": \"https://cdn.jsdelivr.net/npm//vega-embed@6?noext\",\n",
       "    };\n",
       "\n",
       "    function loadScript(lib) {\n",
       "      return new Promise(function(resolve, reject) {\n",
       "        var s = document.createElement('script');\n",
       "        s.src = paths[lib];\n",
       "        s.async = true;\n",
       "        s.onload = () => resolve(paths[lib]);\n",
       "        s.onerror = () => reject(`Error loading script: ${paths[lib]}`);\n",
       "        document.getElementsByTagName(\"head\")[0].appendChild(s);\n",
       "      });\n",
       "    }\n",
       "\n",
       "    function showError(err) {\n",
       "      outputDiv.innerHTML = `<div class=\"error\" style=\"color:red;\">${err}</div>`;\n",
       "      throw err;\n",
       "    }\n",
       "\n",
       "    function displayChart(vegaEmbed) {\n",
       "      vegaEmbed(outputDiv, spec, embedOpt)\n",
       "        .catch(err => showError(`Javascript Error: ${err.message}<br>This usually means there's a typo in your chart specification. See the javascript console for the full traceback.`));\n",
       "    }\n",
       "\n",
       "    if(typeof define === \"function\" && define.amd) {\n",
       "      requirejs.config({paths});\n",
       "      require([\"vega-embed\"], displayChart, err => showError(`Error loading script: ${err.message}`));\n",
       "    } else if (typeof vegaEmbed === \"function\") {\n",
       "      displayChart(vegaEmbed);\n",
       "    } else {\n",
       "      loadScript(\"vega\")\n",
       "        .then(() => loadScript(\"vega-lite\"))\n",
       "        .then(() => loadScript(\"vega-embed\"))\n",
       "        .catch(showError)\n",
       "        .then(() => displayChart(vegaEmbed));\n",
       "    }\n",
       "  })({\"config\": {\"view\": {\"continuousWidth\": 400, \"continuousHeight\": 300}}, \"layer\": [{\"mark\": \"bar\", \"encoding\": {\"tooltip\": {\"type\": \"quantitative\", \"field\": \"Tasa de letalidad\"}, \"x\": {\"type\": \"quantitative\", \"axis\": {\"title\": \"Tasa de letalidad\"}, \"field\": \"Tasa de letalidad\"}, \"y\": {\"type\": \"nominal\", \"field\": \"Region\", \"sort\": \"-x\"}}, \"title\": \"COVID-19 en Chile: Tasa de letalidad por regi\\u00f3n al 07/05/2020\"}, {\"mark\": {\"type\": \"text\", \"align\": \"left\", \"baseline\": \"middle\", \"dx\": 3}, \"encoding\": {\"text\": {\"type\": \"quantitative\", \"field\": \"Tasa de letalidad\", \"format\": \",.1f\"}, \"tooltip\": {\"type\": \"quantitative\", \"field\": \"Tasa de letalidad\"}, \"x\": {\"type\": \"quantitative\", \"axis\": {\"title\": \"Tasa de letalidad\"}, \"field\": \"Tasa de letalidad\"}, \"y\": {\"type\": \"nominal\", \"field\": \"Region\", \"sort\": \"-x\"}}, \"title\": \"COVID-19 en Chile: Tasa de letalidad por regi\\u00f3n al 07/05/2020\"}], \"data\": {\"name\": \"data-23b0b63ea6a9b608b8a2ad6ae5950557\"}, \"height\": 300, \"width\": 600, \"$schema\": \"https://vega.github.io/schema/vega-lite/v4.8.1.json\", \"datasets\": {\"data-23b0b63ea6a9b608b8a2ad6ae5950557\": [{\"Region\": \"Tarapaca\", \"Tasa de letalidad\": 0.2398081534772182}, {\"Region\": \"Antofagasta\", \"Tasa de letalidad\": 0.782122905027933}, {\"Region\": \"Metropolitana\", \"Tasa de letalidad\": 0.9032564772997385}, {\"Region\": \"Biobio\", \"Tasa de letalidad\": 0.9828009828009828}, {\"Region\": \"Total\", \"Tasa de letalidad\": 1.1594320816891095}, {\"Region\": \"Magallanes\", \"Tasa de letalidad\": 1.3157894736842104}, {\"Region\": \"Los  Lagos\", \"Tasa de letalidad\": 1.834862385321101}, {\"Region\": \"Arica  y  Parinacota\", \"Tasa de letalidad\": 1.8461538461538463}, {\"Region\": \"Los  Rios\", \"Tasa de letalidad\": 1.9801980198019802}, {\"Region\": \"O'Higgins\", \"Tasa de letalidad\": 1.9867549668874174}, {\"Region\": \"Nuble\", \"Tasa de letalidad\": 2.1437578814627996}, {\"Region\": \"Valparaiso\", \"Tasa de letalidad\": 2.176696542893726}, {\"Region\": \"Araucania\", \"Tasa de letalidad\": 2.5992779783393503}, {\"Region\": \"Maule\", \"Tasa de letalidad\": 3.140096618357488}]}}, {\"mode\": \"vega-lite\"});\n",
       "</script>"
      ],
      "text/plain": [
       "alt.LayerChart(...)"
      ]
     },
     "execution_count": 78,
     "metadata": {},
     "output_type": "execute_result"
    }
   ],
   "source": [
    "#hide_input\n",
    "bars = alt.Chart(CFR).mark_bar().encode(\n",
    "    x = alt.X('Tasa de letalidad:Q', axis=alt.Axis(title='Tasa de letalidad')),\n",
    "    y = alt.Y('Region:N', sort='-x'),\n",
    "    tooltip = 'Tasa de letalidad'\n",
    ").properties(\n",
    "    title=f'COVID-19 en Chile: Tasa de letalidad por región al {today_es_format}'\n",
    ")\n",
    "\n",
    "text = bars.mark_text(\n",
    "    align='left',\n",
    "    baseline='middle',\n",
    "    dx=3  # Nudges text to right so it doesn't appear on top of the bar\n",
    ").encode(\n",
    "    text=alt.Text('Tasa de letalidad:Q', format=',.1f')\n",
    ")\n",
    "\n",
    "bars.configure_title(\n",
    "    fontSize=20,\n",
    "    font='Courier',\n",
    "    anchor='start',\n",
    "    color='gray'\n",
    ")\n",
    "\n",
    "(bars + text).properties(width=600, height=300)"
   ]
  },
  {
   "cell_type": "markdown",
   "metadata": {},
   "source": [
    "Fuente: [Ministerio de Ciencia](https://github.com/MinCiencia/Datos-COVID19)"
   ]
  },
  {
   "cell_type": "markdown",
   "metadata": {},
   "source": [
    "# Exámenes informados por región desde el 9 de abril\n",
    "Nota: sólo se dispone de los datos de exámenes informados por región desde el 9 de abril"
   ]
  },
  {
   "cell_type": "code",
   "execution_count": 79,
   "metadata": {},
   "outputs": [],
   "source": [
    "#hide\n",
    "s = 'https://raw.githubusercontent.com/MinCiencia/Datos-COVID19/master/output/producto4/2020-04-08-CasosConfirmados-totalRegional.csv'\n",
    "data_20200408 = pd.read_csv(s, index_col='Region')"
   ]
  },
  {
   "cell_type": "code",
   "execution_count": 80,
   "metadata": {},
   "outputs": [],
   "source": [
    "#hide\n",
    "s = 'https://raw.githubusercontent.com/MinCiencia/Datos-COVID19/master/output/producto4/' + today +'-CasosConfirmados-totalRegional.csv'\n",
    "data_update_date = pd.read_csv(s, index_col='Region')"
   ]
  },
  {
   "cell_type": "code",
   "execution_count": 81,
   "metadata": {},
   "outputs": [],
   "source": [
    "#hide\n",
    "tests_raw = pd.read_csv(\n",
    "    'https://raw.githubusercontent.com/MinCiencia/Datos-COVID19/master/output/producto7/PCR.csv',\n",
    "    index_col='Region')\n",
    "tests_raw = tests_raw.fillna(0)"
   ]
  },
  {
   "cell_type": "code",
   "execution_count": 82,
   "metadata": {},
   "outputs": [],
   "source": [
    "#hide\n",
    "tests_total = pd.Series(dtype='float64')\n",
    "for date in tests_raw.columns:\n",
    "  tests_raw[date] = tests_raw[date].apply(lambda x: 0 if x=='-' else x)\n",
    "  tests_raw[date] = tests_raw[date].astype(int)\n",
    "  tests_total[date] = np.sum(tests_raw[date])"
   ]
  },
  {
   "cell_type": "code",
   "execution_count": 83,
   "metadata": {},
   "outputs": [],
   "source": [
    "#hide\n",
    "tests_raw.loc['Total'] = tests_total"
   ]
  },
  {
   "cell_type": "code",
   "execution_count": 84,
   "metadata": {},
   "outputs": [],
   "source": [
    "#hide\n",
    "data = pd.DataFrame()\n",
    "data[\"Fallecidos\"] = data_update_date[\"Fallecidos\"]-data_20200408[\"Fallecidos\"]\n",
    "data[\"Casos\"] = data_update_date[\"Casos  totales  acumulados\"]-data_20200408[\"Casos  totales\"]\n",
    "data[\"Tests\"] = tests_raw.drop(columns='Poblacion').sum(axis=1).values"
   ]
  },
  {
   "cell_type": "code",
   "execution_count": 85,
   "metadata": {},
   "outputs": [],
   "source": [
    "#hide\n",
    "data_per_capita = pd.DataFrame()\n",
    "data_per_capita[\"Fallecidos\"] = np.round(100000*data[\"Fallecidos\"]/tests_raw[\"Poblacion\"].values, decimals=1)\n",
    "data_per_capita[\"Casos\"] = np.round(100000*data[\"Casos\"]/tests_raw[\"Poblacion\"].values, decimals=1)\n",
    "data_per_capita[\"Tests\"] = np.round(100000*data[\"Tests\"]/tests_raw[\"Poblacion\"].values, decimals=1)"
   ]
  },
  {
   "cell_type": "code",
   "execution_count": 86,
   "metadata": {},
   "outputs": [],
   "source": [
    "#hide\n",
    "casos_raw = pd.read_csv(\n",
    "    \"https://raw.githubusercontent.com/MinCiencia/Datos-COVID19/master/output/producto3/CasosTotalesCumulativo.csv\", \n",
    "    index_col='Region')"
   ]
  },
  {
   "cell_type": "code",
   "execution_count": 87,
   "metadata": {},
   "outputs": [],
   "source": [
    "#hide\n",
    "casos_20200408 = pd.read_csv('https://raw.githubusercontent.com/MinCiencia/Datos-COVID19/master/output/producto4/2020-04-08-CasosConfirmados-totalRegional.csv', index_col='Region')"
   ]
  },
  {
   "cell_type": "code",
   "execution_count": 88,
   "metadata": {},
   "outputs": [],
   "source": [
    "#hide\n",
    "s = 'https://raw.githubusercontent.com/MinCiencia/Datos-COVID19/master/output/producto4/' + today + '-CasosConfirmados-totalRegional.csv'\n",
    "casos_update_date = pd.read_csv(s, index_col='Region')"
   ]
  },
  {
   "cell_type": "code",
   "execution_count": 89,
   "metadata": {},
   "outputs": [],
   "source": [
    "#hide\n",
    "positividad = 100*(casos_update_date['Casos  totales  acumulados'] - casos_20200408['Casos  totales'])/tests_raw.drop(columns='Poblacion').sum(axis=1).values"
   ]
  },
  {
   "cell_type": "code",
   "execution_count": 90,
   "metadata": {},
   "outputs": [],
   "source": [
    "#hide\n",
    "tests_raw['tests informados'] = tests_raw.drop(columns='Poblacion').sum(axis=1)"
   ]
  },
  {
   "cell_type": "code",
   "execution_count": 91,
   "metadata": {},
   "outputs": [],
   "source": [
    "#hide\n",
    "tests_raw['tasa de tests'] = np.round(100000*tests_raw['tests informados']/tests_raw['Poblacion'], decimals=1)"
   ]
  },
  {
   "cell_type": "code",
   "execution_count": 92,
   "metadata": {},
   "outputs": [
    {
     "data": {
      "text/html": [
       "\n",
       "<div id=\"altair-viz-72f63589faee414baaf3d4cd22b42c30\"></div>\n",
       "<script type=\"text/javascript\">\n",
       "  (function(spec, embedOpt){\n",
       "    let outputDiv = document.currentScript.previousElementSibling;\n",
       "    if (outputDiv.id !== \"altair-viz-72f63589faee414baaf3d4cd22b42c30\") {\n",
       "      outputDiv = document.getElementById(\"altair-viz-72f63589faee414baaf3d4cd22b42c30\");\n",
       "    }\n",
       "    const paths = {\n",
       "      \"vega\": \"https://cdn.jsdelivr.net/npm//vega@5?noext\",\n",
       "      \"vega-lib\": \"https://cdn.jsdelivr.net/npm//vega-lib?noext\",\n",
       "      \"vega-lite\": \"https://cdn.jsdelivr.net/npm//vega-lite@4.8.1?noext\",\n",
       "      \"vega-embed\": \"https://cdn.jsdelivr.net/npm//vega-embed@6?noext\",\n",
       "    };\n",
       "\n",
       "    function loadScript(lib) {\n",
       "      return new Promise(function(resolve, reject) {\n",
       "        var s = document.createElement('script');\n",
       "        s.src = paths[lib];\n",
       "        s.async = true;\n",
       "        s.onload = () => resolve(paths[lib]);\n",
       "        s.onerror = () => reject(`Error loading script: ${paths[lib]}`);\n",
       "        document.getElementsByTagName(\"head\")[0].appendChild(s);\n",
       "      });\n",
       "    }\n",
       "\n",
       "    function showError(err) {\n",
       "      outputDiv.innerHTML = `<div class=\"error\" style=\"color:red;\">${err}</div>`;\n",
       "      throw err;\n",
       "    }\n",
       "\n",
       "    function displayChart(vegaEmbed) {\n",
       "      vegaEmbed(outputDiv, spec, embedOpt)\n",
       "        .catch(err => showError(`Javascript Error: ${err.message}<br>This usually means there's a typo in your chart specification. See the javascript console for the full traceback.`));\n",
       "    }\n",
       "\n",
       "    if(typeof define === \"function\" && define.amd) {\n",
       "      requirejs.config({paths});\n",
       "      require([\"vega-embed\"], displayChart, err => showError(`Error loading script: ${err.message}`));\n",
       "    } else if (typeof vegaEmbed === \"function\") {\n",
       "      displayChart(vegaEmbed);\n",
       "    } else {\n",
       "      loadScript(\"vega\")\n",
       "        .then(() => loadScript(\"vega-lite\"))\n",
       "        .then(() => loadScript(\"vega-embed\"))\n",
       "        .catch(showError)\n",
       "        .then(() => displayChart(vegaEmbed));\n",
       "    }\n",
       "  })({\"config\": {\"view\": {\"continuousWidth\": 400, \"continuousHeight\": 300}}, \"layer\": [{\"mark\": \"bar\", \"encoding\": {\"tooltip\": {\"type\": \"quantitative\", \"field\": \"tests informados\"}, \"x\": {\"type\": \"quantitative\", \"axis\": {\"title\": \"Ex\\u00e1menes informados\"}, \"field\": \"tests informados\"}, \"y\": {\"type\": \"nominal\", \"field\": \"Region\", \"sort\": \"-x\"}}, \"title\": \"COVID-19 en Chile: Total de ex\\u00e1menes informados por regi\\u00f3n desde el 9 de abril\"}, {\"mark\": {\"type\": \"text\", \"align\": \"left\", \"baseline\": \"middle\", \"dx\": 3}, \"encoding\": {\"text\": {\"type\": \"quantitative\", \"field\": \"tests informados\", \"format\": \".0f\"}, \"tooltip\": {\"type\": \"quantitative\", \"field\": \"tests informados\"}, \"x\": {\"type\": \"quantitative\", \"axis\": {\"title\": \"Ex\\u00e1menes informados\"}, \"field\": \"tests informados\"}, \"y\": {\"type\": \"nominal\", \"field\": \"Region\", \"sort\": \"-x\"}}, \"title\": \"COVID-19 en Chile: Total de ex\\u00e1menes informados por regi\\u00f3n desde el 9 de abril\"}], \"data\": {\"name\": \"data-a0c763e8623d42cdc21b6ee8fde1df9e\"}, \"height\": 300, \"width\": 600, \"$schema\": \"https://vega.github.io/schema/vega-lite/v4.8.1.json\", \"datasets\": {\"data-a0c763e8623d42cdc21b6ee8fde1df9e\": [{\"Region\": \"Arica y Parinacota\", \"Codigo region\": 15, \"Poblacion\": 252110, \"2020-04-09\": 70, \"2020-04-10\": 0, \"2020-04-11\": 93, \"2020-04-12\": 103, \"2020-04-13\": 0, \"2020-04-14\": 93, \"2020-04-15\": 24, \"2020-04-16\": 198, \"2020-04-17\": 131, \"2020-04-18\": 0, \"2020-04-19\": 155, \"2020-04-20\": 48, \"2020-04-21\": 52, \"2020-04-22\": 0, \"2020-04-23\": 169, \"2020-04-24\": 85, \"2020-04-25\": 90, \"2020-04-26\": 73, \"2020-04-27\": 146, \"2020-04-28\": 80, \"2020-04-29\": 61, \"2020-04-30\": 84, \"2020-05-01\": 124, \"2020-05-02\": 87, \"2020-05-03\": 41, \"2020-05-04\": 89, \"2020-05-05\": 86, \"2020-05-06\": 77, \"2020-05-07\": 123, \"tests informados\": 2397, \"tasa de tests\": 950.8}, {\"Region\": \"Tarapac\\u00e1\", \"Codigo region\": 1, \"Poblacion\": 382773, \"2020-04-09\": 0, \"2020-04-10\": 0, \"2020-04-11\": 0, \"2020-04-12\": 0, \"2020-04-13\": 0, \"2020-04-14\": 0, \"2020-04-15\": 0, \"2020-04-16\": 30, \"2020-04-17\": 0, \"2020-04-18\": 60, \"2020-04-19\": 0, \"2020-04-20\": 0, \"2020-04-21\": 30, \"2020-04-22\": 59, \"2020-04-23\": 30, \"2020-04-24\": 203, \"2020-04-25\": 118, \"2020-04-26\": 58, \"2020-04-27\": 58, \"2020-04-28\": 57, \"2020-04-29\": 111, \"2020-04-30\": 124, \"2020-05-01\": 8, \"2020-05-02\": 102, \"2020-05-03\": 90, \"2020-05-04\": 90, \"2020-05-05\": 123, \"2020-05-06\": 53, \"2020-05-07\": 221, \"tests informados\": 1626, \"tasa de tests\": 424.8}, {\"Region\": \"Antofagasta\", \"Codigo region\": 2, \"Poblacion\": 691854, \"2020-04-09\": 182, \"2020-04-10\": 128, \"2020-04-11\": 107, \"2020-04-12\": 175, \"2020-04-13\": 103, \"2020-04-14\": 95, \"2020-04-15\": 117, \"2020-04-16\": 117, \"2020-04-17\": 143, \"2020-04-18\": 200, \"2020-04-19\": 129, \"2020-04-20\": 197, \"2020-04-21\": 147, \"2020-04-22\": 152, \"2020-04-23\": 146, \"2020-04-24\": 166, \"2020-04-25\": 217, \"2020-04-26\": 214, \"2020-04-27\": 180, \"2020-04-28\": 181, \"2020-04-29\": 198, \"2020-04-30\": 259, \"2020-05-01\": 164, \"2020-05-02\": 312, \"2020-05-03\": 271, \"2020-05-04\": 231, \"2020-05-05\": 182, \"2020-05-06\": 236, \"2020-05-07\": 247, \"tests informados\": 5198, \"tasa de tests\": 751.3}, {\"Region\": \"Atacama\", \"Codigo region\": 3, \"Poblacion\": 314709, \"2020-04-09\": 57, \"2020-04-10\": 52, \"2020-04-11\": 60, \"2020-04-12\": 25, \"2020-04-13\": 20, \"2020-04-14\": 22, \"2020-04-15\": 25, \"2020-04-16\": 29, \"2020-04-17\": 37, \"2020-04-18\": 50, \"2020-04-19\": 31, \"2020-04-20\": 33, \"2020-04-21\": 33, \"2020-04-22\": 47, \"2020-04-23\": 57, \"2020-04-24\": 77, \"2020-04-25\": 46, \"2020-04-26\": 54, \"2020-04-27\": 56, \"2020-04-28\": 73, \"2020-04-29\": 112, \"2020-04-30\": 107, \"2020-05-01\": 114, \"2020-05-02\": 105, \"2020-05-03\": 75, \"2020-05-04\": 70, \"2020-05-05\": 111, \"2020-05-06\": 107, \"2020-05-07\": 164, \"tests informados\": 1852, \"tasa de tests\": 588.5}, {\"Region\": \"Coquimbo\", \"Codigo region\": 4, \"Poblacion\": 836096, \"2020-04-09\": 0, \"2020-04-10\": 0, \"2020-04-11\": 0, \"2020-04-12\": 0, \"2020-04-13\": 0, \"2020-04-14\": 0, \"2020-04-15\": 0, \"2020-04-16\": 0, \"2020-04-17\": 0, \"2020-04-18\": 0, \"2020-04-19\": 0, \"2020-04-20\": 0, \"2020-04-21\": 0, \"2020-04-22\": 29, \"2020-04-23\": 22, \"2020-04-24\": 44, \"2020-04-25\": 42, \"2020-04-26\": 72, \"2020-04-27\": 0, \"2020-04-28\": 148, \"2020-04-29\": 74, \"2020-04-30\": 78, \"2020-05-01\": 166, \"2020-05-02\": 165, \"2020-05-03\": 102, \"2020-05-04\": 191, \"2020-05-05\": 0, \"2020-05-06\": 23, \"2020-05-07\": 51, \"tests informados\": 1211, \"tasa de tests\": 144.8}, {\"Region\": \"Valpara\\u00edso\", \"Codigo region\": 5, \"Poblacion\": 1960170, \"2020-04-09\": 301, \"2020-04-10\": 249, \"2020-04-11\": 248, \"2020-04-12\": 273, \"2020-04-13\": 223, \"2020-04-14\": 92, \"2020-04-15\": 385, \"2020-04-16\": 240, \"2020-04-17\": 246, \"2020-04-18\": 330, \"2020-04-19\": 166, \"2020-04-20\": 177, \"2020-04-21\": 142, \"2020-04-22\": 384, \"2020-04-23\": 90, \"2020-04-24\": 293, \"2020-04-25\": 262, \"2020-04-26\": 201, \"2020-04-27\": 167, \"2020-04-28\": 184, \"2020-04-29\": 169, \"2020-04-30\": 278, \"2020-05-01\": 450, \"2020-05-02\": 327, \"2020-05-03\": 251, \"2020-05-04\": 196, \"2020-05-05\": 233, \"2020-05-06\": 268, \"2020-05-07\": 690, \"tests informados\": 7520, \"tasa de tests\": 383.6}, {\"Region\": \"Metropolitana\", \"Codigo region\": 13, \"Poblacion\": 8125072, \"2020-04-09\": 5383, \"2020-04-10\": 3185, \"2020-04-11\": 2105, \"2020-04-12\": 3861, \"2020-04-13\": 1850, \"2020-04-14\": 1656, \"2020-04-15\": 2694, \"2020-04-16\": 4356, \"2020-04-17\": 3670, \"2020-04-18\": 2744, \"2020-04-19\": 3475, \"2020-04-20\": 3276, \"2020-04-21\": 2126, \"2020-04-22\": 3917, \"2020-04-23\": 3712, \"2020-04-24\": 4376, \"2020-04-25\": 4218, \"2020-04-26\": 4313, \"2020-04-27\": 3289, \"2020-04-28\": 2975, \"2020-04-29\": 4349, \"2020-04-30\": 5282, \"2020-05-01\": 6144, \"2020-05-02\": 6922, \"2020-05-03\": 4570, \"2020-05-04\": 5631, \"2020-05-05\": 5509, \"2020-05-06\": 6920, \"2020-05-07\": 8382, \"tests informados\": 120903, \"tasa de tests\": 1488.0}, {\"Region\": \"O\\u2019Higgins\", \"Codigo region\": 6, \"Poblacion\": 991063, \"2020-04-09\": 68, \"2020-04-10\": 0, \"2020-04-11\": 74, \"2020-04-12\": 0, \"2020-04-13\": 74, \"2020-04-14\": 30, \"2020-04-15\": 30, \"2020-04-16\": 58, \"2020-04-17\": 50, \"2020-04-18\": 0, \"2020-04-19\": 0, \"2020-04-20\": 72, \"2020-04-21\": 65, \"2020-04-22\": 0, \"2020-04-23\": 86, \"2020-04-24\": 72, \"2020-04-25\": 0, \"2020-04-26\": 195, \"2020-04-27\": 30, \"2020-04-28\": 95, \"2020-04-29\": 105, \"2020-04-30\": 111, \"2020-05-01\": 94, \"2020-05-02\": 181, \"2020-05-03\": 63, \"2020-05-04\": 72, \"2020-05-05\": 214, \"2020-05-06\": 174, \"2020-05-07\": 68, \"tests informados\": 2087, \"tasa de tests\": 210.6}, {\"Region\": \"Maule\", \"Codigo region\": 7, \"Poblacion\": 1131939, \"2020-04-09\": 397, \"2020-04-10\": 219, \"2020-04-11\": 0, \"2020-04-12\": 341, \"2020-04-13\": 113, \"2020-04-14\": 160, \"2020-04-15\": 0, \"2020-04-16\": 469, \"2020-04-17\": 367, \"2020-04-18\": 176, \"2020-04-19\": 0, \"2020-04-20\": 328, \"2020-04-21\": 188, \"2020-04-22\": 724, \"2020-04-23\": 663, \"2020-04-24\": 606, \"2020-04-25\": 254, \"2020-04-26\": 349, \"2020-04-27\": 535, \"2020-04-28\": 255, \"2020-04-29\": 58, \"2020-04-30\": 249, \"2020-05-01\": 187, \"2020-05-02\": 339, \"2020-05-03\": 302, \"2020-05-04\": 322, \"2020-05-05\": 267, \"2020-05-06\": 135, \"2020-05-07\": 93, \"tests informados\": 8103, \"tasa de tests\": 715.9}, {\"Region\": \"\\u00d1uble\", \"Codigo region\": 16, \"Poblacion\": 511551, \"2020-04-09\": 364, \"2020-04-10\": 0, \"2020-04-11\": 259, \"2020-04-12\": 189, \"2020-04-13\": 65, \"2020-04-14\": 0, \"2020-04-15\": 0, \"2020-04-16\": 110, \"2020-04-17\": 159, \"2020-04-18\": 76, \"2020-04-19\": 127, \"2020-04-20\": 149, \"2020-04-21\": 73, \"2020-04-22\": 221, \"2020-04-23\": 189, \"2020-04-24\": 0, \"2020-04-25\": 371, \"2020-04-26\": 91, \"2020-04-27\": 90, \"2020-04-28\": 59, \"2020-04-29\": 104, \"2020-04-30\": 120, \"2020-05-01\": 129, \"2020-05-02\": 101, \"2020-05-03\": 97, \"2020-05-04\": 69, \"2020-05-05\": 0, \"2020-05-06\": 213, \"2020-05-07\": 171, \"tests informados\": 3612, \"tasa de tests\": 706.1}, {\"Region\": \"Biob\\u00edo\", \"Codigo region\": 8, \"Poblacion\": 1663696, \"2020-04-09\": 592, \"2020-04-10\": 149, \"2020-04-11\": 281, \"2020-04-12\": 469, \"2020-04-13\": 0, \"2020-04-14\": 218, \"2020-04-15\": 311, \"2020-04-16\": 408, \"2020-04-17\": 80, \"2020-04-18\": 751, \"2020-04-19\": 358, \"2020-04-20\": 214, \"2020-04-21\": 216, \"2020-04-22\": 340, \"2020-04-23\": 468, \"2020-04-24\": 340, \"2020-04-25\": 354, \"2020-04-26\": 404, \"2020-04-27\": 174, \"2020-04-28\": 234, \"2020-04-29\": 230, \"2020-04-30\": 534, \"2020-05-01\": 296, \"2020-05-02\": 483, \"2020-05-03\": 251, \"2020-05-04\": 355, \"2020-05-05\": 416, \"2020-05-06\": 473, \"2020-05-07\": 736, \"tests informados\": 10143, \"tasa de tests\": 609.7}, {\"Region\": \"Araucan\\u00eda\", \"Codigo region\": 9, \"Poblacion\": 1014343, \"2020-04-09\": 124, \"2020-04-10\": 148, \"2020-04-11\": 126, \"2020-04-12\": 184, \"2020-04-13\": 232, \"2020-04-14\": 148, \"2020-04-15\": 218, \"2020-04-16\": 246, \"2020-04-17\": 220, \"2020-04-18\": 169, \"2020-04-19\": 122, \"2020-04-20\": 376, \"2020-04-21\": 206, \"2020-04-22\": 176, \"2020-04-23\": 370, \"2020-04-24\": 306, \"2020-04-25\": 347, \"2020-04-26\": 273, \"2020-04-27\": 246, \"2020-04-28\": 218, \"2020-04-29\": 275, \"2020-04-30\": 201, \"2020-05-01\": 421, \"2020-05-02\": 194, \"2020-05-03\": 354, \"2020-05-04\": 204, \"2020-05-05\": 364, \"2020-05-06\": 436, \"2020-05-07\": 413, \"tests informados\": 7326, \"tasa de tests\": 722.2}, {\"Region\": \"Los R\\u00edos\", \"Codigo region\": 14, \"Poblacion\": 405835, \"2020-04-09\": 0, \"2020-04-10\": 91, \"2020-04-11\": 0, \"2020-04-12\": 0, \"2020-04-13\": 0, \"2020-04-14\": 67, \"2020-04-15\": 67, \"2020-04-16\": 49, \"2020-04-17\": 71, \"2020-04-18\": 91, \"2020-04-19\": 0, \"2020-04-20\": 121, \"2020-04-21\": 58, \"2020-04-22\": 54, \"2020-04-23\": 67, \"2020-04-24\": 87, \"2020-04-25\": 77, \"2020-04-26\": 99, \"2020-04-27\": 56, \"2020-04-28\": 54, \"2020-04-29\": 98, \"2020-04-30\": 93, \"2020-05-01\": 122, \"2020-05-02\": 133, \"2020-05-03\": 70, \"2020-05-04\": 70, \"2020-05-05\": 90, \"2020-05-06\": 95, \"2020-05-07\": 142, \"tests informados\": 2036, \"tasa de tests\": 501.7}, {\"Region\": \"Los Lagos\", \"Codigo region\": 10, \"Poblacion\": 891440, \"2020-04-09\": 341, \"2020-04-10\": 199, \"2020-04-11\": 178, \"2020-04-12\": 225, \"2020-04-13\": 39, \"2020-04-14\": 131, \"2020-04-15\": 137, \"2020-04-16\": 139, \"2020-04-17\": 198, \"2020-04-18\": 315, \"2020-04-19\": 96, \"2020-04-20\": 139, \"2020-04-21\": 149, \"2020-04-22\": 209, \"2020-04-23\": 335, \"2020-04-24\": 324, \"2020-04-25\": 406, \"2020-04-26\": 302, \"2020-04-27\": 207, \"2020-04-28\": 225, \"2020-04-29\": 390, \"2020-04-30\": 276, \"2020-05-01\": 371, \"2020-05-02\": 412, \"2020-05-03\": 220, \"2020-05-04\": 262, \"2020-05-05\": 243, \"2020-05-06\": 686, \"2020-05-07\": 449, \"tests informados\": 7613, \"tasa de tests\": 854.0}, {\"Region\": \"Ays\\u00e9n\", \"Codigo region\": 11, \"Poblacion\": 107297, \"2020-04-09\": 10, \"2020-04-10\": 0, \"2020-04-11\": 0, \"2020-04-12\": 7, \"2020-04-13\": 0, \"2020-04-14\": 12, \"2020-04-15\": 8, \"2020-04-16\": 16, \"2020-04-17\": 8, \"2020-04-18\": 8, \"2020-04-19\": 6, \"2020-04-20\": 0, \"2020-04-21\": 4, \"2020-04-22\": 4, \"2020-04-23\": 21, \"2020-04-24\": 48, \"2020-04-25\": 30, \"2020-04-26\": 13, \"2020-04-27\": 0, \"2020-04-28\": 29, \"2020-04-29\": 53, \"2020-04-30\": 22, \"2020-05-01\": 0, \"2020-05-02\": 46, \"2020-05-03\": 32, \"2020-05-04\": 0, \"2020-05-05\": 44, \"2020-05-06\": 38, \"2020-05-07\": 0, \"tests informados\": 470, \"tasa de tests\": 438.0}, {\"Region\": \"Magallanes\", \"Codigo region\": 12, \"Poblacion\": 178362, \"2020-04-09\": 73, \"2020-04-10\": 24, \"2020-04-11\": 46, \"2020-04-12\": 45, \"2020-04-13\": 45, \"2020-04-14\": 35, \"2020-04-15\": 63, \"2020-04-16\": 86, \"2020-04-17\": 69, \"2020-04-18\": 48, \"2020-04-19\": 93, \"2020-04-20\": 48, \"2020-04-21\": 41, \"2020-04-22\": 49, \"2020-04-23\": 0, \"2020-04-24\": 93, \"2020-04-25\": 113, \"2020-04-26\": 52, \"2020-04-27\": 26, \"2020-04-28\": 63, \"2020-04-29\": 67, \"2020-04-30\": 80, \"2020-05-01\": 126, \"2020-05-02\": 58, \"2020-05-03\": 29, \"2020-05-04\": 61, \"2020-05-05\": 82, \"2020-05-06\": 79, \"2020-05-07\": 168, \"tests informados\": 1874, \"tasa de tests\": 1050.7}]}}, {\"mode\": \"vega-lite\"});\n",
       "</script>"
      ],
      "text/plain": [
       "alt.LayerChart(...)"
      ]
     },
     "execution_count": 92,
     "metadata": {},
     "output_type": "execute_result"
    }
   ],
   "source": [
    "#hide_input\n",
    "bars = alt.Chart(tests_raw.drop('Total').reset_index()).mark_bar().encode(\n",
    "    x = alt.X('tests informados:Q', axis=alt.Axis(title='Exámenes informados')),\n",
    "    y = alt.Y('Region:N', sort='-x'),\n",
    "    tooltip = 'tests informados'\n",
    ").properties(\n",
    "    title='COVID-19 en Chile: Total de exámenes informados por región desde el 9 de abril'\n",
    ")\n",
    "\n",
    "text = bars.mark_text(\n",
    "    align='left',\n",
    "    baseline='middle',\n",
    "    dx=3  # Nudges text to right so it doesn't appear on top of the bar\n",
    ").encode(\n",
    "    text=alt.Text('tests informados:Q', format='.0f')\n",
    ")\n",
    "\n",
    "(bars + text).properties(width=600, height=300)"
   ]
  },
  {
   "cell_type": "markdown",
   "metadata": {},
   "source": [
    "Fuente: [Ministerio de Ciencia](https://github.com/MinCiencia/Datos-COVID19)"
   ]
  },
  {
   "cell_type": "markdown",
   "metadata": {},
   "source": [
    "# Exámenes informados por región por cada 100.000 habitantes desde el 9 de abril\n",
    "Nota: sólo se dispone de los datos de exámenes informados por región desde el 9 de abril"
   ]
  },
  {
   "cell_type": "code",
   "execution_count": 93,
   "metadata": {
    "scrolled": true
   },
   "outputs": [
    {
     "data": {
      "text/html": [
       "\n",
       "<div id=\"altair-viz-7423e6f7f4d542e1af40f15ba4c8e9e1\"></div>\n",
       "<script type=\"text/javascript\">\n",
       "  (function(spec, embedOpt){\n",
       "    let outputDiv = document.currentScript.previousElementSibling;\n",
       "    if (outputDiv.id !== \"altair-viz-7423e6f7f4d542e1af40f15ba4c8e9e1\") {\n",
       "      outputDiv = document.getElementById(\"altair-viz-7423e6f7f4d542e1af40f15ba4c8e9e1\");\n",
       "    }\n",
       "    const paths = {\n",
       "      \"vega\": \"https://cdn.jsdelivr.net/npm//vega@5?noext\",\n",
       "      \"vega-lib\": \"https://cdn.jsdelivr.net/npm//vega-lib?noext\",\n",
       "      \"vega-lite\": \"https://cdn.jsdelivr.net/npm//vega-lite@4.8.1?noext\",\n",
       "      \"vega-embed\": \"https://cdn.jsdelivr.net/npm//vega-embed@6?noext\",\n",
       "    };\n",
       "\n",
       "    function loadScript(lib) {\n",
       "      return new Promise(function(resolve, reject) {\n",
       "        var s = document.createElement('script');\n",
       "        s.src = paths[lib];\n",
       "        s.async = true;\n",
       "        s.onload = () => resolve(paths[lib]);\n",
       "        s.onerror = () => reject(`Error loading script: ${paths[lib]}`);\n",
       "        document.getElementsByTagName(\"head\")[0].appendChild(s);\n",
       "      });\n",
       "    }\n",
       "\n",
       "    function showError(err) {\n",
       "      outputDiv.innerHTML = `<div class=\"error\" style=\"color:red;\">${err}</div>`;\n",
       "      throw err;\n",
       "    }\n",
       "\n",
       "    function displayChart(vegaEmbed) {\n",
       "      vegaEmbed(outputDiv, spec, embedOpt)\n",
       "        .catch(err => showError(`Javascript Error: ${err.message}<br>This usually means there's a typo in your chart specification. See the javascript console for the full traceback.`));\n",
       "    }\n",
       "\n",
       "    if(typeof define === \"function\" && define.amd) {\n",
       "      requirejs.config({paths});\n",
       "      require([\"vega-embed\"], displayChart, err => showError(`Error loading script: ${err.message}`));\n",
       "    } else if (typeof vegaEmbed === \"function\") {\n",
       "      displayChart(vegaEmbed);\n",
       "    } else {\n",
       "      loadScript(\"vega\")\n",
       "        .then(() => loadScript(\"vega-lite\"))\n",
       "        .then(() => loadScript(\"vega-embed\"))\n",
       "        .catch(showError)\n",
       "        .then(() => displayChart(vegaEmbed));\n",
       "    }\n",
       "  })({\"config\": {\"view\": {\"continuousWidth\": 400, \"continuousHeight\": 300}}, \"layer\": [{\"mark\": \"bar\", \"encoding\": {\"tooltip\": {\"type\": \"quantitative\", \"field\": \"tasa de tests\"}, \"x\": {\"type\": \"quantitative\", \"axis\": {\"title\": \"Ex\\u00e1menes informados\"}, \"field\": \"tasa de tests\"}, \"y\": {\"type\": \"nominal\", \"field\": \"Region\", \"sort\": \"-x\"}}, \"title\": \"COVID-19 en Chile: Ex\\u00e1menes informados por regi\\u00f3n por cada 100.000 habitantes desde el 9 de abril\"}, {\"mark\": {\"type\": \"text\", \"align\": \"left\", \"baseline\": \"middle\", \"dx\": 3}, \"encoding\": {\"text\": {\"type\": \"quantitative\", \"field\": \"tasa de tests\", \"format\": \".1f\"}, \"tooltip\": {\"type\": \"quantitative\", \"field\": \"tasa de tests\"}, \"x\": {\"type\": \"quantitative\", \"axis\": {\"title\": \"Ex\\u00e1menes informados\"}, \"field\": \"tasa de tests\"}, \"y\": {\"type\": \"nominal\", \"field\": \"Region\", \"sort\": \"-x\"}}, \"title\": \"COVID-19 en Chile: Ex\\u00e1menes informados por regi\\u00f3n por cada 100.000 habitantes desde el 9 de abril\"}], \"data\": {\"name\": \"data-a0c763e8623d42cdc21b6ee8fde1df9e\"}, \"height\": 300, \"width\": 600, \"$schema\": \"https://vega.github.io/schema/vega-lite/v4.8.1.json\", \"datasets\": {\"data-a0c763e8623d42cdc21b6ee8fde1df9e\": [{\"Region\": \"Arica y Parinacota\", \"Codigo region\": 15, \"Poblacion\": 252110, \"2020-04-09\": 70, \"2020-04-10\": 0, \"2020-04-11\": 93, \"2020-04-12\": 103, \"2020-04-13\": 0, \"2020-04-14\": 93, \"2020-04-15\": 24, \"2020-04-16\": 198, \"2020-04-17\": 131, \"2020-04-18\": 0, \"2020-04-19\": 155, \"2020-04-20\": 48, \"2020-04-21\": 52, \"2020-04-22\": 0, \"2020-04-23\": 169, \"2020-04-24\": 85, \"2020-04-25\": 90, \"2020-04-26\": 73, \"2020-04-27\": 146, \"2020-04-28\": 80, \"2020-04-29\": 61, \"2020-04-30\": 84, \"2020-05-01\": 124, \"2020-05-02\": 87, \"2020-05-03\": 41, \"2020-05-04\": 89, \"2020-05-05\": 86, \"2020-05-06\": 77, \"2020-05-07\": 123, \"tests informados\": 2397, \"tasa de tests\": 950.8}, {\"Region\": \"Tarapac\\u00e1\", \"Codigo region\": 1, \"Poblacion\": 382773, \"2020-04-09\": 0, \"2020-04-10\": 0, \"2020-04-11\": 0, \"2020-04-12\": 0, \"2020-04-13\": 0, \"2020-04-14\": 0, \"2020-04-15\": 0, \"2020-04-16\": 30, \"2020-04-17\": 0, \"2020-04-18\": 60, \"2020-04-19\": 0, \"2020-04-20\": 0, \"2020-04-21\": 30, \"2020-04-22\": 59, \"2020-04-23\": 30, \"2020-04-24\": 203, \"2020-04-25\": 118, \"2020-04-26\": 58, \"2020-04-27\": 58, \"2020-04-28\": 57, \"2020-04-29\": 111, \"2020-04-30\": 124, \"2020-05-01\": 8, \"2020-05-02\": 102, \"2020-05-03\": 90, \"2020-05-04\": 90, \"2020-05-05\": 123, \"2020-05-06\": 53, \"2020-05-07\": 221, \"tests informados\": 1626, \"tasa de tests\": 424.8}, {\"Region\": \"Antofagasta\", \"Codigo region\": 2, \"Poblacion\": 691854, \"2020-04-09\": 182, \"2020-04-10\": 128, \"2020-04-11\": 107, \"2020-04-12\": 175, \"2020-04-13\": 103, \"2020-04-14\": 95, \"2020-04-15\": 117, \"2020-04-16\": 117, \"2020-04-17\": 143, \"2020-04-18\": 200, \"2020-04-19\": 129, \"2020-04-20\": 197, \"2020-04-21\": 147, \"2020-04-22\": 152, \"2020-04-23\": 146, \"2020-04-24\": 166, \"2020-04-25\": 217, \"2020-04-26\": 214, \"2020-04-27\": 180, \"2020-04-28\": 181, \"2020-04-29\": 198, \"2020-04-30\": 259, \"2020-05-01\": 164, \"2020-05-02\": 312, \"2020-05-03\": 271, \"2020-05-04\": 231, \"2020-05-05\": 182, \"2020-05-06\": 236, \"2020-05-07\": 247, \"tests informados\": 5198, \"tasa de tests\": 751.3}, {\"Region\": \"Atacama\", \"Codigo region\": 3, \"Poblacion\": 314709, \"2020-04-09\": 57, \"2020-04-10\": 52, \"2020-04-11\": 60, \"2020-04-12\": 25, \"2020-04-13\": 20, \"2020-04-14\": 22, \"2020-04-15\": 25, \"2020-04-16\": 29, \"2020-04-17\": 37, \"2020-04-18\": 50, \"2020-04-19\": 31, \"2020-04-20\": 33, \"2020-04-21\": 33, \"2020-04-22\": 47, \"2020-04-23\": 57, \"2020-04-24\": 77, \"2020-04-25\": 46, \"2020-04-26\": 54, \"2020-04-27\": 56, \"2020-04-28\": 73, \"2020-04-29\": 112, \"2020-04-30\": 107, \"2020-05-01\": 114, \"2020-05-02\": 105, \"2020-05-03\": 75, \"2020-05-04\": 70, \"2020-05-05\": 111, \"2020-05-06\": 107, \"2020-05-07\": 164, \"tests informados\": 1852, \"tasa de tests\": 588.5}, {\"Region\": \"Coquimbo\", \"Codigo region\": 4, \"Poblacion\": 836096, \"2020-04-09\": 0, \"2020-04-10\": 0, \"2020-04-11\": 0, \"2020-04-12\": 0, \"2020-04-13\": 0, \"2020-04-14\": 0, \"2020-04-15\": 0, \"2020-04-16\": 0, \"2020-04-17\": 0, \"2020-04-18\": 0, \"2020-04-19\": 0, \"2020-04-20\": 0, \"2020-04-21\": 0, \"2020-04-22\": 29, \"2020-04-23\": 22, \"2020-04-24\": 44, \"2020-04-25\": 42, \"2020-04-26\": 72, \"2020-04-27\": 0, \"2020-04-28\": 148, \"2020-04-29\": 74, \"2020-04-30\": 78, \"2020-05-01\": 166, \"2020-05-02\": 165, \"2020-05-03\": 102, \"2020-05-04\": 191, \"2020-05-05\": 0, \"2020-05-06\": 23, \"2020-05-07\": 51, \"tests informados\": 1211, \"tasa de tests\": 144.8}, {\"Region\": \"Valpara\\u00edso\", \"Codigo region\": 5, \"Poblacion\": 1960170, \"2020-04-09\": 301, \"2020-04-10\": 249, \"2020-04-11\": 248, \"2020-04-12\": 273, \"2020-04-13\": 223, \"2020-04-14\": 92, \"2020-04-15\": 385, \"2020-04-16\": 240, \"2020-04-17\": 246, \"2020-04-18\": 330, \"2020-04-19\": 166, \"2020-04-20\": 177, \"2020-04-21\": 142, \"2020-04-22\": 384, \"2020-04-23\": 90, \"2020-04-24\": 293, \"2020-04-25\": 262, \"2020-04-26\": 201, \"2020-04-27\": 167, \"2020-04-28\": 184, \"2020-04-29\": 169, \"2020-04-30\": 278, \"2020-05-01\": 450, \"2020-05-02\": 327, \"2020-05-03\": 251, \"2020-05-04\": 196, \"2020-05-05\": 233, \"2020-05-06\": 268, \"2020-05-07\": 690, \"tests informados\": 7520, \"tasa de tests\": 383.6}, {\"Region\": \"Metropolitana\", \"Codigo region\": 13, \"Poblacion\": 8125072, \"2020-04-09\": 5383, \"2020-04-10\": 3185, \"2020-04-11\": 2105, \"2020-04-12\": 3861, \"2020-04-13\": 1850, \"2020-04-14\": 1656, \"2020-04-15\": 2694, \"2020-04-16\": 4356, \"2020-04-17\": 3670, \"2020-04-18\": 2744, \"2020-04-19\": 3475, \"2020-04-20\": 3276, \"2020-04-21\": 2126, \"2020-04-22\": 3917, \"2020-04-23\": 3712, \"2020-04-24\": 4376, \"2020-04-25\": 4218, \"2020-04-26\": 4313, \"2020-04-27\": 3289, \"2020-04-28\": 2975, \"2020-04-29\": 4349, \"2020-04-30\": 5282, \"2020-05-01\": 6144, \"2020-05-02\": 6922, \"2020-05-03\": 4570, \"2020-05-04\": 5631, \"2020-05-05\": 5509, \"2020-05-06\": 6920, \"2020-05-07\": 8382, \"tests informados\": 120903, \"tasa de tests\": 1488.0}, {\"Region\": \"O\\u2019Higgins\", \"Codigo region\": 6, \"Poblacion\": 991063, \"2020-04-09\": 68, \"2020-04-10\": 0, \"2020-04-11\": 74, \"2020-04-12\": 0, \"2020-04-13\": 74, \"2020-04-14\": 30, \"2020-04-15\": 30, \"2020-04-16\": 58, \"2020-04-17\": 50, \"2020-04-18\": 0, \"2020-04-19\": 0, \"2020-04-20\": 72, \"2020-04-21\": 65, \"2020-04-22\": 0, \"2020-04-23\": 86, \"2020-04-24\": 72, \"2020-04-25\": 0, \"2020-04-26\": 195, \"2020-04-27\": 30, \"2020-04-28\": 95, \"2020-04-29\": 105, \"2020-04-30\": 111, \"2020-05-01\": 94, \"2020-05-02\": 181, \"2020-05-03\": 63, \"2020-05-04\": 72, \"2020-05-05\": 214, \"2020-05-06\": 174, \"2020-05-07\": 68, \"tests informados\": 2087, \"tasa de tests\": 210.6}, {\"Region\": \"Maule\", \"Codigo region\": 7, \"Poblacion\": 1131939, \"2020-04-09\": 397, \"2020-04-10\": 219, \"2020-04-11\": 0, \"2020-04-12\": 341, \"2020-04-13\": 113, \"2020-04-14\": 160, \"2020-04-15\": 0, \"2020-04-16\": 469, \"2020-04-17\": 367, \"2020-04-18\": 176, \"2020-04-19\": 0, \"2020-04-20\": 328, \"2020-04-21\": 188, \"2020-04-22\": 724, \"2020-04-23\": 663, \"2020-04-24\": 606, \"2020-04-25\": 254, \"2020-04-26\": 349, \"2020-04-27\": 535, \"2020-04-28\": 255, \"2020-04-29\": 58, \"2020-04-30\": 249, \"2020-05-01\": 187, \"2020-05-02\": 339, \"2020-05-03\": 302, \"2020-05-04\": 322, \"2020-05-05\": 267, \"2020-05-06\": 135, \"2020-05-07\": 93, \"tests informados\": 8103, \"tasa de tests\": 715.9}, {\"Region\": \"\\u00d1uble\", \"Codigo region\": 16, \"Poblacion\": 511551, \"2020-04-09\": 364, \"2020-04-10\": 0, \"2020-04-11\": 259, \"2020-04-12\": 189, \"2020-04-13\": 65, \"2020-04-14\": 0, \"2020-04-15\": 0, \"2020-04-16\": 110, \"2020-04-17\": 159, \"2020-04-18\": 76, \"2020-04-19\": 127, \"2020-04-20\": 149, \"2020-04-21\": 73, \"2020-04-22\": 221, \"2020-04-23\": 189, \"2020-04-24\": 0, \"2020-04-25\": 371, \"2020-04-26\": 91, \"2020-04-27\": 90, \"2020-04-28\": 59, \"2020-04-29\": 104, \"2020-04-30\": 120, \"2020-05-01\": 129, \"2020-05-02\": 101, \"2020-05-03\": 97, \"2020-05-04\": 69, \"2020-05-05\": 0, \"2020-05-06\": 213, \"2020-05-07\": 171, \"tests informados\": 3612, \"tasa de tests\": 706.1}, {\"Region\": \"Biob\\u00edo\", \"Codigo region\": 8, \"Poblacion\": 1663696, \"2020-04-09\": 592, \"2020-04-10\": 149, \"2020-04-11\": 281, \"2020-04-12\": 469, \"2020-04-13\": 0, \"2020-04-14\": 218, \"2020-04-15\": 311, \"2020-04-16\": 408, \"2020-04-17\": 80, \"2020-04-18\": 751, \"2020-04-19\": 358, \"2020-04-20\": 214, \"2020-04-21\": 216, \"2020-04-22\": 340, \"2020-04-23\": 468, \"2020-04-24\": 340, \"2020-04-25\": 354, \"2020-04-26\": 404, \"2020-04-27\": 174, \"2020-04-28\": 234, \"2020-04-29\": 230, \"2020-04-30\": 534, \"2020-05-01\": 296, \"2020-05-02\": 483, \"2020-05-03\": 251, \"2020-05-04\": 355, \"2020-05-05\": 416, \"2020-05-06\": 473, \"2020-05-07\": 736, \"tests informados\": 10143, \"tasa de tests\": 609.7}, {\"Region\": \"Araucan\\u00eda\", \"Codigo region\": 9, \"Poblacion\": 1014343, \"2020-04-09\": 124, \"2020-04-10\": 148, \"2020-04-11\": 126, \"2020-04-12\": 184, \"2020-04-13\": 232, \"2020-04-14\": 148, \"2020-04-15\": 218, \"2020-04-16\": 246, \"2020-04-17\": 220, \"2020-04-18\": 169, \"2020-04-19\": 122, \"2020-04-20\": 376, \"2020-04-21\": 206, \"2020-04-22\": 176, \"2020-04-23\": 370, \"2020-04-24\": 306, \"2020-04-25\": 347, \"2020-04-26\": 273, \"2020-04-27\": 246, \"2020-04-28\": 218, \"2020-04-29\": 275, \"2020-04-30\": 201, \"2020-05-01\": 421, \"2020-05-02\": 194, \"2020-05-03\": 354, \"2020-05-04\": 204, \"2020-05-05\": 364, \"2020-05-06\": 436, \"2020-05-07\": 413, \"tests informados\": 7326, \"tasa de tests\": 722.2}, {\"Region\": \"Los R\\u00edos\", \"Codigo region\": 14, \"Poblacion\": 405835, \"2020-04-09\": 0, \"2020-04-10\": 91, \"2020-04-11\": 0, \"2020-04-12\": 0, \"2020-04-13\": 0, \"2020-04-14\": 67, \"2020-04-15\": 67, \"2020-04-16\": 49, \"2020-04-17\": 71, \"2020-04-18\": 91, \"2020-04-19\": 0, \"2020-04-20\": 121, \"2020-04-21\": 58, \"2020-04-22\": 54, \"2020-04-23\": 67, \"2020-04-24\": 87, \"2020-04-25\": 77, \"2020-04-26\": 99, \"2020-04-27\": 56, \"2020-04-28\": 54, \"2020-04-29\": 98, \"2020-04-30\": 93, \"2020-05-01\": 122, \"2020-05-02\": 133, \"2020-05-03\": 70, \"2020-05-04\": 70, \"2020-05-05\": 90, \"2020-05-06\": 95, \"2020-05-07\": 142, \"tests informados\": 2036, \"tasa de tests\": 501.7}, {\"Region\": \"Los Lagos\", \"Codigo region\": 10, \"Poblacion\": 891440, \"2020-04-09\": 341, \"2020-04-10\": 199, \"2020-04-11\": 178, \"2020-04-12\": 225, \"2020-04-13\": 39, \"2020-04-14\": 131, \"2020-04-15\": 137, \"2020-04-16\": 139, \"2020-04-17\": 198, \"2020-04-18\": 315, \"2020-04-19\": 96, \"2020-04-20\": 139, \"2020-04-21\": 149, \"2020-04-22\": 209, \"2020-04-23\": 335, \"2020-04-24\": 324, \"2020-04-25\": 406, \"2020-04-26\": 302, \"2020-04-27\": 207, \"2020-04-28\": 225, \"2020-04-29\": 390, \"2020-04-30\": 276, \"2020-05-01\": 371, \"2020-05-02\": 412, \"2020-05-03\": 220, \"2020-05-04\": 262, \"2020-05-05\": 243, \"2020-05-06\": 686, \"2020-05-07\": 449, \"tests informados\": 7613, \"tasa de tests\": 854.0}, {\"Region\": \"Ays\\u00e9n\", \"Codigo region\": 11, \"Poblacion\": 107297, \"2020-04-09\": 10, \"2020-04-10\": 0, \"2020-04-11\": 0, \"2020-04-12\": 7, \"2020-04-13\": 0, \"2020-04-14\": 12, \"2020-04-15\": 8, \"2020-04-16\": 16, \"2020-04-17\": 8, \"2020-04-18\": 8, \"2020-04-19\": 6, \"2020-04-20\": 0, \"2020-04-21\": 4, \"2020-04-22\": 4, \"2020-04-23\": 21, \"2020-04-24\": 48, \"2020-04-25\": 30, \"2020-04-26\": 13, \"2020-04-27\": 0, \"2020-04-28\": 29, \"2020-04-29\": 53, \"2020-04-30\": 22, \"2020-05-01\": 0, \"2020-05-02\": 46, \"2020-05-03\": 32, \"2020-05-04\": 0, \"2020-05-05\": 44, \"2020-05-06\": 38, \"2020-05-07\": 0, \"tests informados\": 470, \"tasa de tests\": 438.0}, {\"Region\": \"Magallanes\", \"Codigo region\": 12, \"Poblacion\": 178362, \"2020-04-09\": 73, \"2020-04-10\": 24, \"2020-04-11\": 46, \"2020-04-12\": 45, \"2020-04-13\": 45, \"2020-04-14\": 35, \"2020-04-15\": 63, \"2020-04-16\": 86, \"2020-04-17\": 69, \"2020-04-18\": 48, \"2020-04-19\": 93, \"2020-04-20\": 48, \"2020-04-21\": 41, \"2020-04-22\": 49, \"2020-04-23\": 0, \"2020-04-24\": 93, \"2020-04-25\": 113, \"2020-04-26\": 52, \"2020-04-27\": 26, \"2020-04-28\": 63, \"2020-04-29\": 67, \"2020-04-30\": 80, \"2020-05-01\": 126, \"2020-05-02\": 58, \"2020-05-03\": 29, \"2020-05-04\": 61, \"2020-05-05\": 82, \"2020-05-06\": 79, \"2020-05-07\": 168, \"tests informados\": 1874, \"tasa de tests\": 1050.7}]}}, {\"mode\": \"vega-lite\"});\n",
       "</script>"
      ],
      "text/plain": [
       "alt.LayerChart(...)"
      ]
     },
     "execution_count": 93,
     "metadata": {},
     "output_type": "execute_result"
    }
   ],
   "source": [
    "#hide_input\n",
    "bars = alt.Chart(tests_raw.drop('Total').reset_index()).mark_bar().encode(\n",
    "    x = alt.X('tasa de tests:Q', axis=alt.Axis(title='Exámenes informados')),\n",
    "    y = alt.Y('Region:N', sort='-x'),\n",
    "    tooltip = 'tasa de tests'\n",
    ").properties(\n",
    "    title='COVID-19 en Chile: Exámenes informados por región por cada 100.000 habitantes desde el 9 de abril'\n",
    ")\n",
    "\n",
    "text = bars.mark_text(\n",
    "    align='left',\n",
    "    baseline='middle',\n",
    "    dx=3  # Nudges text to right so it doesn't appear on top of the bar\n",
    ").encode(\n",
    "    text=alt.Text('tasa de tests:Q', format='.1f')\n",
    ")\n",
    "\n",
    "bars.configure_title(\n",
    "    fontSize=20,\n",
    "    font='Courier',\n",
    "    anchor='start',\n",
    "    color='gray'\n",
    ")\n",
    "\n",
    "(bars + text).properties(width=600, height=300)"
   ]
  },
  {
   "cell_type": "markdown",
   "metadata": {},
   "source": [
    "Fuente: [Ministerio de Ciencia](https://github.com/MinCiencia/Datos-COVID19)"
   ]
  },
  {
   "cell_type": "markdown",
   "metadata": {},
   "source": [
    "# Exámenes, casos confirmados, y fallecimientos confirmados por región  desde el 9 de abril\n",
    "Nota: sólo se dispone de los datos de exámenes informados por región desde el 9 de abril"
   ]
  },
  {
   "cell_type": "markdown",
   "metadata": {},
   "source": [
    "> <span style=\"color:green\">Exámenes</span>, <span style=\"color:blue\">casos confirmados</span>, y <span style=\"color:red\">fallecimientos confirmados</span> por región desde el 9 de abril."
   ]
  },
  {
   "cell_type": "code",
   "execution_count": 94,
   "metadata": {},
   "outputs": [],
   "source": [
    "#hide\n",
    "data = data.sort_values(by=\"Tests\", ascending=False)\n",
    "data_per_capita = data_per_capita.sort_values(by=\"Tests\", ascending=False)"
   ]
  },
  {
   "cell_type": "code",
   "execution_count": 95,
   "metadata": {
    "scrolled": true
   },
   "outputs": [],
   "source": [
    "#hide\n",
    "data[\"codigo\"]=np.arange(len(data))\n",
    "data_per_capita[\"codigo\"]=np.arange(len(data))"
   ]
  },
  {
   "cell_type": "code",
   "execution_count": 96,
   "metadata": {
    "scrolled": false
   },
   "outputs": [
    {
     "data": {
      "text/html": [
       "\n",
       "<div id=\"altair-viz-fbda385b78b14a559c7836d552a4d247\"></div>\n",
       "<script type=\"text/javascript\">\n",
       "  (function(spec, embedOpt){\n",
       "    let outputDiv = document.currentScript.previousElementSibling;\n",
       "    if (outputDiv.id !== \"altair-viz-fbda385b78b14a559c7836d552a4d247\") {\n",
       "      outputDiv = document.getElementById(\"altair-viz-fbda385b78b14a559c7836d552a4d247\");\n",
       "    }\n",
       "    const paths = {\n",
       "      \"vega\": \"https://cdn.jsdelivr.net/npm//vega@5?noext\",\n",
       "      \"vega-lib\": \"https://cdn.jsdelivr.net/npm//vega-lib?noext\",\n",
       "      \"vega-lite\": \"https://cdn.jsdelivr.net/npm//vega-lite@4.8.1?noext\",\n",
       "      \"vega-embed\": \"https://cdn.jsdelivr.net/npm//vega-embed@6?noext\",\n",
       "    };\n",
       "\n",
       "    function loadScript(lib) {\n",
       "      return new Promise(function(resolve, reject) {\n",
       "        var s = document.createElement('script');\n",
       "        s.src = paths[lib];\n",
       "        s.async = true;\n",
       "        s.onload = () => resolve(paths[lib]);\n",
       "        s.onerror = () => reject(`Error loading script: ${paths[lib]}`);\n",
       "        document.getElementsByTagName(\"head\")[0].appendChild(s);\n",
       "      });\n",
       "    }\n",
       "\n",
       "    function showError(err) {\n",
       "      outputDiv.innerHTML = `<div class=\"error\" style=\"color:red;\">${err}</div>`;\n",
       "      throw err;\n",
       "    }\n",
       "\n",
       "    function displayChart(vegaEmbed) {\n",
       "      vegaEmbed(outputDiv, spec, embedOpt)\n",
       "        .catch(err => showError(`Javascript Error: ${err.message}<br>This usually means there's a typo in your chart specification. See the javascript console for the full traceback.`));\n",
       "    }\n",
       "\n",
       "    if(typeof define === \"function\" && define.amd) {\n",
       "      requirejs.config({paths});\n",
       "      require([\"vega-embed\"], displayChart, err => showError(`Error loading script: ${err.message}`));\n",
       "    } else if (typeof vegaEmbed === \"function\") {\n",
       "      displayChart(vegaEmbed);\n",
       "    } else {\n",
       "      loadScript(\"vega\")\n",
       "        .then(() => loadScript(\"vega-lite\"))\n",
       "        .then(() => loadScript(\"vega-embed\"))\n",
       "        .catch(showError)\n",
       "        .then(() => displayChart(vegaEmbed));\n",
       "    }\n",
       "  })({\"config\": {\"view\": {\"continuousWidth\": 400, \"continuousHeight\": 300}}, \"layer\": [{\"data\": {\"name\": \"data-3b91b1f1bfbe32c0358ed249c81ec661\"}, \"mark\": {\"type\": \"bar\", \"color\": \"green\", \"opacity\": 0.4, \"size\": 30}, \"encoding\": {\"tooltip\": [{\"type\": \"nominal\", \"field\": \"Region\"}, {\"type\": \"quantitative\", \"field\": \"Tests\"}, {\"type\": \"quantitative\", \"field\": \"Casos\"}, {\"type\": \"quantitative\", \"field\": \"Fallecidos\"}], \"x\": {\"type\": \"quantitative\", \"axis\": {\"title\": \"Ex\\u00e1menes informados, casos confirmados, fallecimientos confirmados\"}, \"field\": \"Tests\"}, \"y\": {\"type\": \"nominal\", \"field\": \"Region\", \"sort\": {\"field\": \"codigo\", \"order\": \"ascending\"}}}}, {\"data\": {\"name\": \"data-3b91b1f1bfbe32c0358ed249c81ec661\"}, \"mark\": {\"type\": \"tick\", \"color\": \"black\", \"size\": 30, \"thickness\": 2}, \"encoding\": {\"tooltip\": [{\"type\": \"nominal\", \"field\": \"Region\"}, {\"type\": \"quantitative\", \"field\": \"Tests\"}, {\"type\": \"quantitative\", \"field\": \"Casos\"}, {\"type\": \"quantitative\", \"field\": \"Fallecidos\"}], \"x\": {\"type\": \"quantitative\", \"field\": \"Tests\"}, \"y\": {\"type\": \"nominal\", \"field\": \"Region\", \"sort\": {\"field\": \"codigo\", \"order\": \"ascending\"}}}}, {\"data\": {\"name\": \"data-3b91b1f1bfbe32c0358ed249c81ec661\"}, \"mark\": {\"type\": \"tick\", \"color\": \"blue\", \"size\": 30, \"thickness\": 2}, \"encoding\": {\"tooltip\": [{\"type\": \"nominal\", \"field\": \"Region\"}, {\"type\": \"quantitative\", \"field\": \"Tests\"}, {\"type\": \"quantitative\", \"field\": \"Casos\"}, {\"type\": \"quantitative\", \"field\": \"Fallecidos\"}], \"x\": {\"type\": \"quantitative\", \"field\": \"Casos\"}, \"y\": {\"type\": \"nominal\", \"field\": \"Region\", \"sort\": {\"field\": \"codigo\", \"order\": \"ascending\"}}}}, {\"data\": {\"name\": \"data-3b91b1f1bfbe32c0358ed249c81ec661\"}, \"mark\": {\"type\": \"tick\", \"color\": \"red\", \"size\": 30, \"thickness\": 2}, \"encoding\": {\"tooltip\": [{\"type\": \"nominal\", \"field\": \"Region\"}, {\"type\": \"quantitative\", \"field\": \"Tests\"}, {\"type\": \"quantitative\", \"field\": \"Casos\"}, {\"type\": \"quantitative\", \"field\": \"Fallecidos\"}], \"x\": {\"type\": \"quantitative\", \"field\": \"Fallecidos\"}, \"y\": {\"type\": \"nominal\", \"field\": \"Region\", \"sort\": {\"field\": \"codigo\", \"order\": \"ascending\"}}}}], \"height\": {\"step\": 40}, \"title\": \"COVID-19 en Chile: Ex\\u00e1menes informados, casos confirmados y fallecidos confirmados por regi\\u00f3n\", \"width\": 700, \"$schema\": \"https://vega.github.io/schema/vega-lite/v4.8.1.json\", \"datasets\": {\"data-3b91b1f1bfbe32c0358ed249c81ec661\": [{\"Region\": \"Metropolitana\", \"Fallecidos\": 138, \"Casos\": 14280, \"Tests\": 120903, \"codigo\": 1}, {\"Region\": \"Biobio\", \"Fallecidos\": 6, \"Casos\": 375, \"Tests\": 10143, \"codigo\": 2}, {\"Region\": \"Maule\", \"Fallecidos\": 11, \"Casos\": 295, \"Tests\": 8103, \"codigo\": 3}, {\"Region\": \"Los  Lagos\", \"Fallecidos\": 8, \"Casos\": 220, \"Tests\": 7613, \"codigo\": 4}, {\"Region\": \"Valparaiso\", \"Fallecidos\": 15, \"Casos\": 556, \"Tests\": 7520, \"codigo\": 5}, {\"Region\": \"Araucania\", \"Fallecidos\": 21, \"Casos\": 716, \"Tests\": 7326, \"codigo\": 6}, {\"Region\": \"Antofagasta\", \"Fallecidos\": 6, \"Casos\": 818, \"Tests\": 5198, \"codigo\": 7}, {\"Region\": \"Nuble\", \"Fallecidos\": 12, \"Casos\": 232, \"Tests\": 3612, \"codigo\": 8}, {\"Region\": \"Arica  y  Parinacota\", \"Fallecidos\": 6, \"Casos\": 262, \"Tests\": 2397, \"codigo\": 9}, {\"Region\": \"O'Higgins\", \"Fallecidos\": 3, \"Casos\": 108, \"Tests\": 2087, \"codigo\": 10}, {\"Region\": \"Los  Rios\", \"Fallecidos\": 2, \"Casos\": 88, \"Tests\": 2036, \"codigo\": 11}, {\"Region\": \"Magallanes\", \"Fallecidos\": 8, \"Casos\": 570, \"Tests\": 1874, \"codigo\": 12}, {\"Region\": \"Atacama\", \"Fallecidos\": 0, \"Casos\": 79, \"Tests\": 1852, \"codigo\": 13}, {\"Region\": \"Tarapaca\", \"Fallecidos\": 1, \"Casos\": 391, \"Tests\": 1626, \"codigo\": 14}, {\"Region\": \"Coquimbo\", \"Fallecidos\": 0, \"Casos\": 44, \"Tests\": 1211, \"codigo\": 15}, {\"Region\": \"Aysen\", \"Fallecidos\": 0, \"Casos\": 1, \"Tests\": 470, \"codigo\": 16}]}}, {\"mode\": \"vega-lite\"});\n",
       "</script>"
      ],
      "text/plain": [
       "alt.LayerChart(...)"
      ]
     },
     "execution_count": 96,
     "metadata": {},
     "output_type": "execute_result"
    }
   ],
   "source": [
    "#hide_input\n",
    "bar = alt.Chart(data.drop(\"Total\").reset_index()).mark_bar(size=30, opacity=0.4, color='green').encode(\n",
    "    x=alt.X('Tests:Q', axis=alt.Axis(title='Exámenes informados, casos confirmados, fallecimientos confirmados')),\n",
    "    y=alt.Y('Region:N', sort=alt.EncodingSortField(field='codigo', order='ascending')),\n",
    "    tooltip = ['Region', 'Tests', 'Casos', 'Fallecidos']\n",
    ")\n",
    "\n",
    "tick0 = alt.Chart(data.drop(\"Total\").reset_index()).mark_tick(\n",
    "    color='black',\n",
    "    thickness=2,\n",
    "    size=30,  # controls width of tick.\n",
    ").encode(\n",
    "    x='Tests:Q',\n",
    "    y=alt.Y('Region:N', sort=alt.EncodingSortField(field='codigo', order='ascending')),\n",
    "    tooltip = ['Region', 'Tests', 'Casos', 'Fallecidos']\n",
    ")\n",
    "\n",
    "tick1 = alt.Chart(data.drop(\"Total\").reset_index()).mark_tick(\n",
    "    color='blue',\n",
    "    thickness=2,\n",
    "    size=30,  # controls width of tick.\n",
    ").encode(\n",
    "    x='Casos:Q',\n",
    "    y=alt.Y('Region:N', sort=alt.EncodingSortField(field='codigo', order='ascending')),\n",
    "    tooltip = ['Region', 'Tests', 'Casos', 'Fallecidos']\n",
    ")\n",
    "\n",
    "tick2 = alt.Chart(data.drop(\"Total\").reset_index()).mark_tick(\n",
    "    color='red',\n",
    "    thickness=2,\n",
    "    size=30,  # controls width of tick.\n",
    ").encode(\n",
    "    x='Fallecidos:Q',\n",
    "    y=alt.Y('Region:N', sort=alt.EncodingSortField(field='codigo', order='ascending')),\n",
    "    tooltip = ['Region', 'Tests', 'Casos', 'Fallecidos']\n",
    ")\n",
    "\n",
    "(bar + tick0 + tick1 + tick2).properties(\n",
    "    title='COVID-19 en Chile: Exámenes informados, casos confirmados y fallecidos confirmados por región',\n",
    "    width=700,\n",
    "    height=alt.Step(40)\n",
    ")"
   ]
  },
  {
   "cell_type": "markdown",
   "metadata": {},
   "source": [
    "Fuente: [Ministerio de Ciencia](https://github.com/MinCiencia/Datos-COVID19)"
   ]
  },
  {
   "cell_type": "markdown",
   "metadata": {},
   "source": [
    "# Exámenes, casos confirmados, y fallecimientos confirmados por región por cada 100.000 habitantes desde el 9 de abril\n",
    "Nota: sólo se dispone de los datos de exámenes informados por región desde el 9 de abril"
   ]
  },
  {
   "cell_type": "markdown",
   "metadata": {},
   "source": [
    "> <span style=\"color:green\">Exámenes</span>, <span style=\"color:blue\">casos confirmados</span>, y <span style=\"color:red\">fallecimientos confirmados</span> por región por cada 100.000 habitantes desde el 9 de abril"
   ]
  },
  {
   "cell_type": "code",
   "execution_count": 97,
   "metadata": {
    "scrolled": false
   },
   "outputs": [
    {
     "data": {
      "text/html": [
       "\n",
       "<div id=\"altair-viz-3a7d4ecce1454a96aa34916f97acaa0a\"></div>\n",
       "<script type=\"text/javascript\">\n",
       "  (function(spec, embedOpt){\n",
       "    let outputDiv = document.currentScript.previousElementSibling;\n",
       "    if (outputDiv.id !== \"altair-viz-3a7d4ecce1454a96aa34916f97acaa0a\") {\n",
       "      outputDiv = document.getElementById(\"altair-viz-3a7d4ecce1454a96aa34916f97acaa0a\");\n",
       "    }\n",
       "    const paths = {\n",
       "      \"vega\": \"https://cdn.jsdelivr.net/npm//vega@5?noext\",\n",
       "      \"vega-lib\": \"https://cdn.jsdelivr.net/npm//vega-lib?noext\",\n",
       "      \"vega-lite\": \"https://cdn.jsdelivr.net/npm//vega-lite@4.8.1?noext\",\n",
       "      \"vega-embed\": \"https://cdn.jsdelivr.net/npm//vega-embed@6?noext\",\n",
       "    };\n",
       "\n",
       "    function loadScript(lib) {\n",
       "      return new Promise(function(resolve, reject) {\n",
       "        var s = document.createElement('script');\n",
       "        s.src = paths[lib];\n",
       "        s.async = true;\n",
       "        s.onload = () => resolve(paths[lib]);\n",
       "        s.onerror = () => reject(`Error loading script: ${paths[lib]}`);\n",
       "        document.getElementsByTagName(\"head\")[0].appendChild(s);\n",
       "      });\n",
       "    }\n",
       "\n",
       "    function showError(err) {\n",
       "      outputDiv.innerHTML = `<div class=\"error\" style=\"color:red;\">${err}</div>`;\n",
       "      throw err;\n",
       "    }\n",
       "\n",
       "    function displayChart(vegaEmbed) {\n",
       "      vegaEmbed(outputDiv, spec, embedOpt)\n",
       "        .catch(err => showError(`Javascript Error: ${err.message}<br>This usually means there's a typo in your chart specification. See the javascript console for the full traceback.`));\n",
       "    }\n",
       "\n",
       "    if(typeof define === \"function\" && define.amd) {\n",
       "      requirejs.config({paths});\n",
       "      require([\"vega-embed\"], displayChart, err => showError(`Error loading script: ${err.message}`));\n",
       "    } else if (typeof vegaEmbed === \"function\") {\n",
       "      displayChart(vegaEmbed);\n",
       "    } else {\n",
       "      loadScript(\"vega\")\n",
       "        .then(() => loadScript(\"vega-lite\"))\n",
       "        .then(() => loadScript(\"vega-embed\"))\n",
       "        .catch(showError)\n",
       "        .then(() => displayChart(vegaEmbed));\n",
       "    }\n",
       "  })({\"config\": {\"view\": {\"continuousWidth\": 400, \"continuousHeight\": 300}}, \"layer\": [{\"data\": {\"name\": \"data-640ece10d6f9bee0185868a591cd010c\"}, \"mark\": {\"type\": \"bar\", \"color\": \"green\", \"opacity\": 0.4, \"size\": 30}, \"encoding\": {\"tooltip\": [{\"type\": \"nominal\", \"field\": \"Region\"}, {\"type\": \"quantitative\", \"field\": \"Tests\"}, {\"type\": \"quantitative\", \"field\": \"Casos\"}, {\"type\": \"quantitative\", \"field\": \"Fallecidos\"}], \"x\": {\"type\": \"quantitative\", \"axis\": {\"title\": \"Ex\\u00e1menes informados, casos confirmados, fallecimientos confirmados\"}, \"field\": \"Tests\"}, \"y\": {\"type\": \"nominal\", \"field\": \"Region\", \"sort\": {\"field\": \"codigo\", \"order\": \"ascending\"}}}}, {\"data\": {\"name\": \"data-640ece10d6f9bee0185868a591cd010c\"}, \"mark\": {\"type\": \"tick\", \"color\": \"black\", \"size\": 30, \"thickness\": 2}, \"encoding\": {\"tooltip\": [{\"type\": \"nominal\", \"field\": \"Region\"}, {\"type\": \"quantitative\", \"field\": \"Tests\"}, {\"type\": \"quantitative\", \"field\": \"Casos\"}, {\"type\": \"quantitative\", \"field\": \"Fallecidos\"}], \"x\": {\"type\": \"quantitative\", \"field\": \"Tests\"}, \"y\": {\"type\": \"nominal\", \"field\": \"Region\", \"sort\": {\"field\": \"codigo\", \"order\": \"ascending\"}}}}, {\"data\": {\"name\": \"data-640ece10d6f9bee0185868a591cd010c\"}, \"mark\": {\"type\": \"tick\", \"color\": \"blue\", \"size\": 30, \"thickness\": 2}, \"encoding\": {\"tooltip\": [{\"type\": \"nominal\", \"field\": \"Region\"}, {\"type\": \"quantitative\", \"field\": \"Tests\"}, {\"type\": \"quantitative\", \"field\": \"Casos\"}, {\"type\": \"quantitative\", \"field\": \"Fallecidos\"}], \"x\": {\"type\": \"quantitative\", \"field\": \"Casos\"}, \"y\": {\"type\": \"nominal\", \"field\": \"Region\", \"sort\": {\"field\": \"codigo\", \"order\": \"ascending\"}}}}, {\"data\": {\"name\": \"data-640ece10d6f9bee0185868a591cd010c\"}, \"mark\": {\"type\": \"tick\", \"color\": \"red\", \"size\": 30, \"thickness\": 2}, \"encoding\": {\"tooltip\": [{\"type\": \"nominal\", \"field\": \"Region\"}, {\"type\": \"quantitative\", \"field\": \"Tests\"}, {\"type\": \"quantitative\", \"field\": \"Casos\"}, {\"type\": \"quantitative\", \"field\": \"Fallecidos\"}], \"x\": {\"type\": \"quantitative\", \"field\": \"Fallecidos\"}, \"y\": {\"type\": \"nominal\", \"field\": \"Region\", \"sort\": {\"field\": \"codigo\", \"order\": \"ascending\"}}}}], \"height\": {\"step\": 40}, \"title\": \"COVID-19 en Chile: Ex\\u00e1menes informados, casos confirmados y fallecidos confirmados por regi\\u00f3n por cada 100.000 habitantes\", \"width\": 700, \"$schema\": \"https://vega.github.io/schema/vega-lite/v4.8.1.json\", \"datasets\": {\"data-640ece10d6f9bee0185868a591cd010c\": [{\"Region\": \"Metropolitana\", \"Fallecidos\": 1.7, \"Casos\": 175.8, \"Tests\": 1488.0, \"codigo\": 0}, {\"Region\": \"Magallanes\", \"Fallecidos\": 4.5, \"Casos\": 319.6, \"Tests\": 1050.7, \"codigo\": 1}, {\"Region\": \"Arica  y  Parinacota\", \"Fallecidos\": 2.4, \"Casos\": 103.9, \"Tests\": 950.8, \"codigo\": 2}, {\"Region\": \"Los  Lagos\", \"Fallecidos\": 0.9, \"Casos\": 24.7, \"Tests\": 854.0, \"codigo\": 4}, {\"Region\": \"Antofagasta\", \"Fallecidos\": 0.9, \"Casos\": 118.2, \"Tests\": 751.3, \"codigo\": 5}, {\"Region\": \"Araucania\", \"Fallecidos\": 2.1, \"Casos\": 70.6, \"Tests\": 722.2, \"codigo\": 6}, {\"Region\": \"Maule\", \"Fallecidos\": 1.0, \"Casos\": 26.1, \"Tests\": 715.9, \"codigo\": 7}, {\"Region\": \"Nuble\", \"Fallecidos\": 2.3, \"Casos\": 45.4, \"Tests\": 706.1, \"codigo\": 8}, {\"Region\": \"Biobio\", \"Fallecidos\": 0.4, \"Casos\": 22.5, \"Tests\": 609.7, \"codigo\": 9}, {\"Region\": \"Atacama\", \"Fallecidos\": 0.0, \"Casos\": 25.1, \"Tests\": 588.5, \"codigo\": 10}, {\"Region\": \"Los  Rios\", \"Fallecidos\": 0.5, \"Casos\": 21.7, \"Tests\": 501.7, \"codigo\": 11}, {\"Region\": \"Aysen\", \"Fallecidos\": 0.0, \"Casos\": 0.9, \"Tests\": 438.0, \"codigo\": 12}, {\"Region\": \"Tarapaca\", \"Fallecidos\": 0.3, \"Casos\": 102.1, \"Tests\": 424.8, \"codigo\": 13}, {\"Region\": \"Valparaiso\", \"Fallecidos\": 0.8, \"Casos\": 28.4, \"Tests\": 383.6, \"codigo\": 14}, {\"Region\": \"O'Higgins\", \"Fallecidos\": 0.3, \"Casos\": 10.9, \"Tests\": 210.6, \"codigo\": 15}, {\"Region\": \"Coquimbo\", \"Fallecidos\": 0.0, \"Casos\": 5.3, \"Tests\": 144.8, \"codigo\": 16}]}}, {\"mode\": \"vega-lite\"});\n",
       "</script>"
      ],
      "text/plain": [
       "alt.LayerChart(...)"
      ]
     },
     "execution_count": 97,
     "metadata": {},
     "output_type": "execute_result"
    }
   ],
   "source": [
    "#hide_input\n",
    "bar = alt.Chart(data_per_capita.drop(\"Total\").reset_index()).mark_bar(size=30, opacity=0.4, color='green').encode(\n",
    "    x=alt.X('Tests:Q', axis=alt.Axis(title='Exámenes informados, casos confirmados, fallecimientos confirmados')),\n",
    "    y=alt.Y('Region:N', sort=alt.EncodingSortField(field='codigo', order='ascending')),\n",
    "    tooltip = ['Region', 'Tests', 'Casos', 'Fallecidos']\n",
    ")\n",
    "\n",
    "tick0 = alt.Chart(data_per_capita.drop(\"Total\").reset_index()).mark_tick(\n",
    "    color='black',\n",
    "    thickness=2,\n",
    "    size=30,  # controls width of tick.\n",
    ").encode(\n",
    "    x='Tests:Q',\n",
    "    y=alt.Y('Region', sort=alt.EncodingSortField(field='codigo', order='ascending')),\n",
    "    tooltip = ['Region', 'Tests', 'Casos', 'Fallecidos']\n",
    ")\n",
    "\n",
    "tick1 = alt.Chart(data_per_capita.drop(\"Total\").reset_index()).mark_tick(\n",
    "    color='blue',\n",
    "    thickness=2,\n",
    "    size=30,  # controls width of tick.\n",
    ").encode(\n",
    "    x='Casos:Q',\n",
    "    y=alt.Y('Region', sort=alt.EncodingSortField(field='codigo', order='ascending')),\n",
    "    tooltip = ['Region', 'Tests', 'Casos', 'Fallecidos']\n",
    ")\n",
    "\n",
    "tick2 = alt.Chart(data_per_capita.drop(\"Total\").reset_index()).mark_tick(\n",
    "    color='red',\n",
    "    thickness=2,\n",
    "    size=30,  # controls width of tick.\n",
    ").encode(\n",
    "    x='Fallecidos:Q',\n",
    "    y=alt.Y('Region', sort=alt.EncodingSortField(field='codigo', order='ascending')),\n",
    "    tooltip = ['Region', 'Tests', 'Casos', 'Fallecidos']\n",
    ")\n",
    "\n",
    "(bar + tick0 + tick1 + tick2).properties(\n",
    "    title='COVID-19 en Chile: Exámenes informados, casos confirmados y fallecidos confirmados por región por cada 100.000 habitantes',\n",
    "    height=alt.Step(40),\n",
    "    width=700)"
   ]
  },
  {
   "cell_type": "markdown",
   "metadata": {},
   "source": [
    "Fuente: [Ministerio de Ciencia](https://github.com/MinCiencia/Datos-COVID19)"
   ]
  },
  {
   "cell_type": "markdown",
   "metadata": {},
   "source": [
    "# Exámenes, casos confirmados, y fallecimientos confirmados por país de la OCDE por cada 1 millón de habitantes"
   ]
  },
  {
   "cell_type": "markdown",
   "metadata": {},
   "source": [
    "> <span style=\"color:green\">Exámenes</span>, <span style=\"color:blue\">casos confirmados</span>, y <span style=\"color:red\">fallecimientos confirmados</span> por país por cada 1 millón de habitantes"
   ]
  },
  {
   "cell_type": "code",
   "execution_count": 98,
   "metadata": {},
   "outputs": [],
   "source": [
    "#hide\n",
    "test_data_raw = pd.read_csv('https://raw.githubusercontent.com/owid/covid-19-data/master/public/data/testing/covid-testing-all-observations.csv')"
   ]
  },
  {
   "cell_type": "code",
   "execution_count": 99,
   "metadata": {},
   "outputs": [],
   "source": [
    "#hide\n",
    "list_OCDE = ['Australia', 'Austria', 'Belgium', 'Canada', 'Chile', 'Colombia',\n",
    "                  'Czech Republic', 'Denmark', 'Estonia', 'Finland', 'France',\n",
    "                  'Germany', 'Greece', 'Hungary', 'Iceland', 'Ireland',\n",
    "                  'Israel', 'Italy', 'Japan', 'Korea', 'Latvia',\n",
    "                  'Lithuania', 'Luxembourg', 'Mexico', 'Netherlands', 'New Zealand',\n",
    "                  'Norway', 'Poland', 'Portugal', 'Slovakia', 'Slovenia',\n",
    "                  'Spain', 'Sweden', 'Switzerland', 'Turkey', 'United Kingdom']"
   ]
  },
  {
   "cell_type": "code",
   "execution_count": 100,
   "metadata": {},
   "outputs": [],
   "source": [
    "#hide\n",
    "test_data = pd.DataFrame()\n",
    "for country in list_OCDE:\n",
    "    test_data[country] = test_data_raw[test_data_raw['Entity'].str.contains(country)].iloc[-1]"
   ]
  },
  {
   "cell_type": "code",
   "execution_count": 101,
   "metadata": {},
   "outputs": [],
   "source": [
    "#hide\n",
    "# United States tiene dos series. Utilizo la que tiene datos más recientes.\n",
    "test_data['United States'] = test_data_raw[test_data_raw['Entity'].str.contains('United States - inconsistent units')].iloc[-1]"
   ]
  },
  {
   "cell_type": "code",
   "execution_count": 102,
   "metadata": {},
   "outputs": [],
   "source": [
    "#hide\n",
    "test_data = test_data.T"
   ]
  },
  {
   "cell_type": "code",
   "execution_count": 103,
   "metadata": {},
   "outputs": [],
   "source": [
    "#hide\n",
    "data = pd.DataFrame()\n",
    "data['Tests'] = test_data['Cumulative total']"
   ]
  },
  {
   "cell_type": "code",
   "execution_count": 104,
   "metadata": {},
   "outputs": [],
   "source": [
    "#hide\n",
    "list_OCDE = list_OCDE + ['United States']"
   ]
  },
  {
   "cell_type": "code",
   "execution_count": 105,
   "metadata": {},
   "outputs": [],
   "source": [
    "#hide\n",
    "full_data = pd.read_csv(\"https://covid.ourworldindata.org/data/ecdc/full_data.csv\", index_col='date')"
   ]
  },
  {
   "cell_type": "code",
   "execution_count": 106,
   "metadata": {},
   "outputs": [
    {
     "name": "stderr",
     "output_type": "stream",
     "text": [
      "/Users/alonsosilva/anaconda/envs/python-workshop/lib/python3.7/site-packages/ipykernel_launcher.py:2: DeprecationWarning: The default dtype for empty Series will be 'object' instead of 'float64' in a future version. Specify a dtype explicitly to silence this warning.\n",
      "  \n",
      "/Users/alonsosilva/anaconda/envs/python-workshop/lib/python3.7/site-packages/ipykernel_launcher.py:3: DeprecationWarning: The default dtype for empty Series will be 'object' instead of 'float64' in a future version. Specify a dtype explicitly to silence this warning.\n",
      "  This is separate from the ipykernel package so we can avoid doing imports until\n"
     ]
    }
   ],
   "source": [
    "#hide\n",
    "cases = pd.Series()\n",
    "deaths = pd.Series()\n",
    "for country in list_OCDE:\n",
    "    cases[country] = full_data[full_data['location'].str.contains(country)].iloc[-1]['total_cases']\n",
    "    deaths[country] = full_data[full_data['location'].str.contains(country)].iloc[-1]['total_deaths']"
   ]
  },
  {
   "cell_type": "code",
   "execution_count": 107,
   "metadata": {},
   "outputs": [],
   "source": [
    "#hide\n",
    "data['Cases'] = cases\n",
    "data['Deaths'] = deaths"
   ]
  },
  {
   "cell_type": "code",
   "execution_count": 108,
   "metadata": {},
   "outputs": [],
   "source": [
    "#hide\n",
    "locations_data = pd.read_csv('https://covid.ourworldindata.org/data/ecdc/locations.csv')"
   ]
  },
  {
   "cell_type": "code",
   "execution_count": 109,
   "metadata": {},
   "outputs": [
    {
     "name": "stderr",
     "output_type": "stream",
     "text": [
      "/Users/alonsosilva/anaconda/envs/python-workshop/lib/python3.7/site-packages/ipykernel_launcher.py:2: DeprecationWarning: The default dtype for empty Series will be 'object' instead of 'float64' in a future version. Specify a dtype explicitly to silence this warning.\n",
      "  \n"
     ]
    }
   ],
   "source": [
    "#hide\n",
    "population = pd.Series()\n",
    "for country in list_OCDE:\n",
    "    population[country] = locations_data[locations_data['location'].str.contains(country)].iloc[-1]['population']"
   ]
  },
  {
   "cell_type": "code",
   "execution_count": 110,
   "metadata": {},
   "outputs": [],
   "source": [
    "#hide\n",
    "data['Population'] = population"
   ]
  },
  {
   "cell_type": "code",
   "execution_count": 111,
   "metadata": {},
   "outputs": [],
   "source": [
    "#hide\n",
    "data['Tests'] = np.round(1000000*data['Tests'].astype(float)/data['Population'])\n",
    "data['Cases'] = np.round(1000000*data['Cases']/data['Population'])\n",
    "data['Deaths'] = np.round(1000000*data['Deaths']/data['Population'])"
   ]
  },
  {
   "cell_type": "code",
   "execution_count": 112,
   "metadata": {},
   "outputs": [],
   "source": [
    "#hide\n",
    "data = data.sort_values(by='Tests', ascending=False)\n",
    "data['codigo'] = np.arange(len(data))"
   ]
  },
  {
   "cell_type": "code",
   "execution_count": 113,
   "metadata": {},
   "outputs": [
    {
     "data": {
      "text/html": [
       "\n",
       "<div id=\"altair-viz-285aa56f2c5c4f35a78c71d773217a19\"></div>\n",
       "<script type=\"text/javascript\">\n",
       "  (function(spec, embedOpt){\n",
       "    let outputDiv = document.currentScript.previousElementSibling;\n",
       "    if (outputDiv.id !== \"altair-viz-285aa56f2c5c4f35a78c71d773217a19\") {\n",
       "      outputDiv = document.getElementById(\"altair-viz-285aa56f2c5c4f35a78c71d773217a19\");\n",
       "    }\n",
       "    const paths = {\n",
       "      \"vega\": \"https://cdn.jsdelivr.net/npm//vega@5?noext\",\n",
       "      \"vega-lib\": \"https://cdn.jsdelivr.net/npm//vega-lib?noext\",\n",
       "      \"vega-lite\": \"https://cdn.jsdelivr.net/npm//vega-lite@4.8.1?noext\",\n",
       "      \"vega-embed\": \"https://cdn.jsdelivr.net/npm//vega-embed@6?noext\",\n",
       "    };\n",
       "\n",
       "    function loadScript(lib) {\n",
       "      return new Promise(function(resolve, reject) {\n",
       "        var s = document.createElement('script');\n",
       "        s.src = paths[lib];\n",
       "        s.async = true;\n",
       "        s.onload = () => resolve(paths[lib]);\n",
       "        s.onerror = () => reject(`Error loading script: ${paths[lib]}`);\n",
       "        document.getElementsByTagName(\"head\")[0].appendChild(s);\n",
       "      });\n",
       "    }\n",
       "\n",
       "    function showError(err) {\n",
       "      outputDiv.innerHTML = `<div class=\"error\" style=\"color:red;\">${err}</div>`;\n",
       "      throw err;\n",
       "    }\n",
       "\n",
       "    function displayChart(vegaEmbed) {\n",
       "      vegaEmbed(outputDiv, spec, embedOpt)\n",
       "        .catch(err => showError(`Javascript Error: ${err.message}<br>This usually means there's a typo in your chart specification. See the javascript console for the full traceback.`));\n",
       "    }\n",
       "\n",
       "    if(typeof define === \"function\" && define.amd) {\n",
       "      requirejs.config({paths});\n",
       "      require([\"vega-embed\"], displayChart, err => showError(`Error loading script: ${err.message}`));\n",
       "    } else if (typeof vegaEmbed === \"function\") {\n",
       "      displayChart(vegaEmbed);\n",
       "    } else {\n",
       "      loadScript(\"vega\")\n",
       "        .then(() => loadScript(\"vega-lite\"))\n",
       "        .then(() => loadScript(\"vega-embed\"))\n",
       "        .catch(showError)\n",
       "        .then(() => displayChart(vegaEmbed));\n",
       "    }\n",
       "  })({\"config\": {\"view\": {\"continuousWidth\": 400, \"continuousHeight\": 300}}, \"layer\": [{\"data\": {\"name\": \"data-5cf874015619b3b59c42e05e4b9f79a6\"}, \"mark\": {\"type\": \"bar\", \"color\": \"green\", \"opacity\": 0.4, \"size\": 30}, \"encoding\": {\"tooltip\": [{\"type\": \"nominal\", \"field\": \"index\"}, {\"type\": \"quantitative\", \"field\": \"Tests\"}, {\"type\": \"quantitative\", \"field\": \"Cases\"}, {\"type\": \"quantitative\", \"field\": \"Deaths\"}], \"x\": {\"type\": \"quantitative\", \"axis\": {\"title\": \"Ex\\u00e1menes informados, casos confirmados, fallecimientos confirmados por cada 1 mill\\u00f3n de habitantes\"}, \"field\": \"Tests\"}, \"y\": {\"type\": \"nominal\", \"axis\": {\"title\": \"Pa\\u00eds\"}, \"field\": \"index\", \"sort\": {\"field\": \"codigo\", \"order\": \"ascending\"}}}, \"width\": {\"step\": 70}}, {\"data\": {\"name\": \"data-5cf874015619b3b59c42e05e4b9f79a6\"}, \"mark\": {\"type\": \"tick\", \"color\": \"black\", \"size\": 30, \"thickness\": 2}, \"encoding\": {\"tooltip\": [{\"type\": \"nominal\", \"field\": \"index\"}, {\"type\": \"quantitative\", \"field\": \"Tests\"}, {\"type\": \"quantitative\", \"field\": \"Cases\"}, {\"type\": \"quantitative\", \"field\": \"Deaths\"}], \"x\": {\"type\": \"quantitative\", \"field\": \"Tests\"}, \"y\": {\"type\": \"nominal\", \"field\": \"index\", \"sort\": {\"field\": \"codigo\", \"order\": \"ascending\"}}}}, {\"data\": {\"name\": \"data-5cf874015619b3b59c42e05e4b9f79a6\"}, \"mark\": {\"type\": \"tick\", \"color\": \"blue\", \"size\": 30, \"thickness\": 2}, \"encoding\": {\"tooltip\": [{\"type\": \"nominal\", \"field\": \"index\"}, {\"type\": \"quantitative\", \"field\": \"Tests\"}, {\"type\": \"quantitative\", \"field\": \"Cases\"}, {\"type\": \"quantitative\", \"field\": \"Deaths\"}], \"x\": {\"type\": \"quantitative\", \"field\": \"Cases\"}, \"y\": {\"type\": \"nominal\", \"field\": \"index\", \"sort\": {\"field\": \"codigo\", \"order\": \"ascending\"}}}}, {\"data\": {\"name\": \"data-5cf874015619b3b59c42e05e4b9f79a6\"}, \"mark\": {\"type\": \"tick\", \"color\": \"red\", \"size\": 30, \"thickness\": 2}, \"encoding\": {\"tooltip\": [{\"type\": \"nominal\", \"field\": \"index\"}, {\"type\": \"quantitative\", \"field\": \"Tests\"}, {\"type\": \"quantitative\", \"field\": \"Cases\"}, {\"type\": \"quantitative\", \"field\": \"Deaths\"}], \"x\": {\"type\": \"quantitative\", \"field\": \"Deaths\"}, \"y\": {\"type\": \"nominal\", \"field\": \"index\", \"sort\": {\"field\": \"codigo\", \"order\": \"ascending\"}}}}], \"height\": {\"step\": 40}, \"title\": \"COVID-19: Ex\\u00e1menes informados, casos confirmados y fallecidos confirmados por pa\\u00eds por cada 1 mill\\u00f3n de habitantes\", \"width\": 700, \"$schema\": \"https://vega.github.io/schema/vega-lite/v4.8.1.json\", \"datasets\": {\"data-5cf874015619b3b59c42e05e4b9f79a6\": [{\"index\": \"Iceland\", \"Tests\": 151273.0, \"Cases\": 5272.0, \"Deaths\": 29.0, \"Population\": 341250.0, \"codigo\": 0}, {\"index\": \"Luxembourg\", \"Tests\": 80727.0, \"Cases\": 6152.0, \"Deaths\": 157.0, \"Population\": 625976.0, \"codigo\": 1}, {\"index\": \"Lithuania\", \"Tests\": 57486.0, \"Cases\": 525.0, \"Deaths\": 18.0, \"Population\": 2722291.0, \"codigo\": 2}, {\"index\": \"Israel\", \"Tests\": 47775.0, \"Cases\": 1884.0, \"Deaths\": 28.0, \"Population\": 8655541.0, \"codigo\": 3}, {\"index\": \"Denmark\", \"Tests\": 46732.0, \"Cases\": 1724.0, \"Deaths\": 87.0, \"Population\": 5792203.0, \"codigo\": 4}, {\"index\": \"Portugal\", \"Tests\": 46116.0, \"Cases\": 2568.0, \"Deaths\": 107.0, \"Population\": 10196707.0, \"codigo\": 5}, {\"index\": \"Estonia\", \"Tests\": 44443.0, \"Cases\": 1291.0, \"Deaths\": 41.0, \"Population\": 1326539.0, \"codigo\": 6}, {\"index\": \"Ireland\", \"Tests\": 43493.0, \"Cases\": 4506.0, \"Deaths\": 278.0, \"Population\": 4937796.0, \"codigo\": 7}, {\"index\": \"Italy\", \"Tests\": 38221.0, \"Cases\": 3547.0, \"Deaths\": 491.0, \"Population\": 60461828.0, \"codigo\": 8}, {\"index\": \"Latvia\", \"Tests\": 36384.0, \"Cases\": 477.0, \"Deaths\": 9.0, \"Population\": 1886202.0, \"codigo\": 9}, {\"index\": \"Norway\", \"Tests\": 34722.0, \"Cases\": 1467.0, \"Deaths\": 39.0, \"Population\": 5421242.0, \"codigo\": 10}, {\"index\": \"Belgium\", \"Tests\": 33764.0, \"Cases\": 4382.0, \"Deaths\": 720.0, \"Population\": 11589616.0, \"codigo\": 11}, {\"index\": \"Switzerland\", \"Tests\": 33550.0, \"Cases\": 3464.0, \"Deaths\": 174.0, \"Population\": 8654618.0, \"codigo\": 12}, {\"index\": \"New Zealand\", \"Tests\": 33325.0, \"Cases\": 236.0, \"Deaths\": 4.0, \"Population\": 4822233.0, \"codigo\": 13}, {\"index\": \"Germany\", \"Tests\": 32891.0, \"Cases\": 1982.0, \"Deaths\": 85.0, \"Population\": 83783945.0, \"codigo\": 14}, {\"index\": \"Austria\", \"Tests\": 32450.0, \"Cases\": 1738.0, \"Deaths\": 68.0, \"Population\": 9006400.0, \"codigo\": 15}, {\"index\": \"Spain\", \"Tests\": 28898.0, \"Cases\": 4712.0, \"Deaths\": 553.0, \"Population\": 46754783.0, \"codigo\": 16}, {\"index\": \"Slovenia\", \"Tests\": 28343.0, \"Cases\": 697.0, \"Deaths\": 48.0, \"Population\": 2078932.0, \"codigo\": 17}, {\"index\": \"Australia\", \"Tests\": 27006.0, \"Cases\": 270.0, \"Deaths\": 4.0, \"Population\": 25499881.0, \"codigo\": 18}, {\"index\": \"Czech Republic\", \"Tests\": 26008.0, \"Cases\": 745.0, \"Deaths\": 24.0, \"Population\": 10708982.0, \"codigo\": 19}, {\"index\": \"Canada\", \"Tests\": 24973.0, \"Cases\": 1682.0, \"Deaths\": 112.0, \"Population\": 37742157.0, \"codigo\": 20}, {\"index\": \"United States\", \"Tests\": 22792.0, \"Cases\": 0.0, \"Deaths\": 0.0, \"Population\": 331002647.0, \"codigo\": 21}, {\"index\": \"United Kingdom\", \"Tests\": 21330.0, \"Cases\": 2964.0, \"Deaths\": 443.0, \"Population\": 67886004.0, \"codigo\": 22}, {\"index\": \"Finland\", \"Tests\": 19512.0, \"Cases\": 1006.0, \"Deaths\": 45.0, \"Population\": 5540718.0, \"codigo\": 23}, {\"index\": \"Slovakia\", \"Tests\": 19160.0, \"Cases\": 262.0, \"Deaths\": 5.0, \"Population\": 5459643.0, \"codigo\": 24}, {\"index\": \"Sweden\", \"Tests\": 14704.0, \"Cases\": 2368.0, \"Deaths\": 291.0, \"Population\": 10099270.0, \"codigo\": 25}, {\"index\": \"Turkey\", \"Tests\": 14640.0, \"Cases\": 1562.0, \"Deaths\": 42.0, \"Population\": 84339067.0, \"codigo\": 26}, {\"index\": \"Netherlands\", \"Tests\": 14198.0, \"Cases\": 2411.0, \"Deaths\": 304.0, \"Population\": 17134873.0, \"codigo\": 27}, {\"index\": \"Korea\", \"Tests\": 12544.0, \"Cases\": 211.0, \"Deaths\": 5.0, \"Population\": 51269183.0, \"codigo\": 28}, {\"index\": \"Chile\", \"Tests\": 12142.0, \"Cases\": 1206.0, \"Deaths\": 15.0, \"Population\": 19116209.0, \"codigo\": 29}, {\"index\": \"France\", \"Tests\": 11101.0, \"Cases\": 2101.0, \"Deaths\": 395.0, \"Population\": 65273512.0, \"codigo\": 30}, {\"index\": \"Poland\", \"Tests\": 10846.0, \"Cases\": 389.0, \"Deaths\": 19.0, \"Population\": 37846605.0, \"codigo\": 31}, {\"index\": \"Hungary\", \"Tests\": 8979.0, \"Cases\": 326.0, \"Deaths\": 40.0, \"Population\": 9660350.0, \"codigo\": 32}, {\"index\": \"Greece\", \"Tests\": 8352.0, \"Cases\": 255.0, \"Deaths\": 14.0, \"Population\": 10423056.0, \"codigo\": 33}, {\"index\": \"Colombia\", \"Tests\": 2498.0, \"Cases\": 176.0, \"Deaths\": 8.0, \"Population\": 50882884.0, \"codigo\": 34}, {\"index\": \"Japan\", \"Tests\": 2256.0, \"Cases\": 122.0, \"Deaths\": 4.0, \"Population\": 126476458.0, \"codigo\": 35}, {\"index\": \"Mexico\", \"Tests\": 695.0, \"Cases\": 214.0, \"Deaths\": 21.0, \"Population\": 128932753.0, \"codigo\": 36}]}}, {\"mode\": \"vega-lite\"});\n",
       "</script>"
      ],
      "text/plain": [
       "alt.LayerChart(...)"
      ]
     },
     "execution_count": 113,
     "metadata": {},
     "output_type": "execute_result"
    }
   ],
   "source": [
    "#hide_input\n",
    "bar = alt.Chart(data.reset_index()).mark_bar(size=30, opacity=0.4, color='green').encode(\n",
    "    x=alt.X('Tests:Q', axis=alt.Axis(title='Exámenes informados, casos confirmados, fallecimientos confirmados por cada 1 millón de habitantes')),\n",
    "    y=alt.Y('index:N', axis=alt.Axis(title='País'), sort=alt.EncodingSortField(field='codigo', order='ascending')),\n",
    "    tooltip = ['index', 'Tests', 'Cases', 'Deaths']\n",
    ").properties(\n",
    "    width=alt.Step(70)  # controls width of bar.\n",
    ")\n",
    "\n",
    "tick0 = alt.Chart(data.reset_index()).mark_tick(\n",
    "    color='black',\n",
    "    thickness=2,\n",
    "    size=30,  # controls width of tick.\n",
    ").encode(\n",
    "    x='Tests:Q',\n",
    "    y=alt.Y('index:N', sort=alt.EncodingSortField(field='codigo', order='ascending')),\n",
    "    tooltip = ['index', 'Tests', 'Cases', 'Deaths']\n",
    ")\n",
    "\n",
    "tick1 = alt.Chart(data.reset_index()).mark_tick(\n",
    "    color='blue',\n",
    "    thickness=2,\n",
    "    size=30,  # controls width of tick.\n",
    ").encode(\n",
    "    x='Cases:Q',\n",
    "    y=alt.Y('index:N', sort=alt.EncodingSortField(field='codigo', order='ascending')),\n",
    "    tooltip = ['index', 'Tests', 'Cases', 'Deaths']\n",
    ")\n",
    "\n",
    "tick2 = alt.Chart(data.reset_index()).mark_tick(\n",
    "    color='red',\n",
    "    thickness=2,\n",
    "    size=30,  # controls width of tick.\n",
    ").encode(\n",
    "    x='Deaths:Q',\n",
    "    y=alt.Y('index:N', sort=alt.EncodingSortField(field='codigo', order='ascending')),\n",
    "    tooltip = ['index', 'Tests', 'Cases', 'Deaths']\n",
    ")\n",
    "\n",
    "(bar + tick0 + tick1 + tick2).properties(\n",
    "    title='COVID-19: Exámenes informados, casos confirmados y fallecidos confirmados por país por cada 1 millón de habitantes',\n",
    "    height=alt.Step(40),\n",
    "    width=700\n",
    ")"
   ]
  },
  {
   "cell_type": "markdown",
   "metadata": {},
   "source": [
    "Fuentes: ECDC, [Our World in Data](https://ourworldindata.org/)"
   ]
  },
  {
   "cell_type": "markdown",
   "metadata": {},
   "source": [
    "# Exámenes, casos confirmados, y fallecimientos confirmados por país de la OCDE por cada 1 millón de habitantes en los últimos 3 días"
   ]
  },
  {
   "cell_type": "markdown",
   "metadata": {},
   "source": [
    "> <span style=\"color:green\">Exámenes</span>, <span style=\"color:blue\">casos confirmados</span>, y <span style=\"color:red\">fallecimientos confirmados</span> por país por cada 1 millón de habitantes"
   ]
  },
  {
   "cell_type": "code",
   "execution_count": 114,
   "metadata": {},
   "outputs": [],
   "source": [
    "#hide\n",
    "data = pd.DataFrame()\n",
    "data['Tests'] = test_data['3-day rolling mean daily change']"
   ]
  },
  {
   "cell_type": "code",
   "execution_count": 115,
   "metadata": {},
   "outputs": [
    {
     "name": "stderr",
     "output_type": "stream",
     "text": [
      "/Users/alonsosilva/anaconda/envs/python-workshop/lib/python3.7/site-packages/ipykernel_launcher.py:2: DeprecationWarning: The default dtype for empty Series will be 'object' instead of 'float64' in a future version. Specify a dtype explicitly to silence this warning.\n",
      "  \n",
      "/Users/alonsosilva/anaconda/envs/python-workshop/lib/python3.7/site-packages/ipykernel_launcher.py:3: DeprecationWarning: The default dtype for empty Series will be 'object' instead of 'float64' in a future version. Specify a dtype explicitly to silence this warning.\n",
      "  This is separate from the ipykernel package so we can avoid doing imports until\n"
     ]
    }
   ],
   "source": [
    "#hide\n",
    "cases = pd.Series()\n",
    "deaths = pd.Series()\n",
    "for country in list_OCDE:\n",
    "    cases[country] = full_data[full_data['location'].str.contains(country)].iloc[-3:]['new_cases'].mean()\n",
    "    deaths[country] = full_data[full_data['location'].str.contains(country)].iloc[-3:]['new_deaths'].mean()"
   ]
  },
  {
   "cell_type": "code",
   "execution_count": 116,
   "metadata": {},
   "outputs": [],
   "source": [
    "#hide\n",
    "data['Cases'] = cases\n",
    "data['Deaths'] = deaths"
   ]
  },
  {
   "cell_type": "code",
   "execution_count": 117,
   "metadata": {},
   "outputs": [
    {
     "name": "stderr",
     "output_type": "stream",
     "text": [
      "/Users/alonsosilva/anaconda/envs/python-workshop/lib/python3.7/site-packages/ipykernel_launcher.py:2: DeprecationWarning: The default dtype for empty Series will be 'object' instead of 'float64' in a future version. Specify a dtype explicitly to silence this warning.\n",
      "  \n"
     ]
    }
   ],
   "source": [
    "#hide\n",
    "population = pd.Series()\n",
    "for country in list_OCDE:\n",
    "    population[country] = locations_data[locations_data['location'].str.contains(country)].iloc[-1]['population']"
   ]
  },
  {
   "cell_type": "code",
   "execution_count": 118,
   "metadata": {},
   "outputs": [],
   "source": [
    "#hide\n",
    "data['Population'] = population"
   ]
  },
  {
   "cell_type": "code",
   "execution_count": 119,
   "metadata": {},
   "outputs": [],
   "source": [
    "#hide\n",
    "data['Tests'] = np.round(1000000*data['Tests'].astype(float)/data['Population'], decimals=1)\n",
    "data['Cases'] = np.round(1000000*data['Cases']/data['Population'], decimals=1)\n",
    "data['Deaths'] = np.round(1000000*data['Deaths']/data['Population'], decimals=1)"
   ]
  },
  {
   "cell_type": "code",
   "execution_count": 120,
   "metadata": {},
   "outputs": [],
   "source": [
    "#hide\n",
    "data = data.dropna()"
   ]
  },
  {
   "cell_type": "code",
   "execution_count": 121,
   "metadata": {},
   "outputs": [],
   "source": [
    "#hide\n",
    "data = data.sort_values(by='Tests', ascending=False)\n",
    "data['codigo'] = np.arange(len(data))"
   ]
  },
  {
   "cell_type": "code",
   "execution_count": 122,
   "metadata": {},
   "outputs": [
    {
     "data": {
      "text/html": [
       "\n",
       "<div id=\"altair-viz-81e50de0e44845ff926450c49b03a989\"></div>\n",
       "<script type=\"text/javascript\">\n",
       "  (function(spec, embedOpt){\n",
       "    let outputDiv = document.currentScript.previousElementSibling;\n",
       "    if (outputDiv.id !== \"altair-viz-81e50de0e44845ff926450c49b03a989\") {\n",
       "      outputDiv = document.getElementById(\"altair-viz-81e50de0e44845ff926450c49b03a989\");\n",
       "    }\n",
       "    const paths = {\n",
       "      \"vega\": \"https://cdn.jsdelivr.net/npm//vega@5?noext\",\n",
       "      \"vega-lib\": \"https://cdn.jsdelivr.net/npm//vega-lib?noext\",\n",
       "      \"vega-lite\": \"https://cdn.jsdelivr.net/npm//vega-lite@4.8.1?noext\",\n",
       "      \"vega-embed\": \"https://cdn.jsdelivr.net/npm//vega-embed@6?noext\",\n",
       "    };\n",
       "\n",
       "    function loadScript(lib) {\n",
       "      return new Promise(function(resolve, reject) {\n",
       "        var s = document.createElement('script');\n",
       "        s.src = paths[lib];\n",
       "        s.async = true;\n",
       "        s.onload = () => resolve(paths[lib]);\n",
       "        s.onerror = () => reject(`Error loading script: ${paths[lib]}`);\n",
       "        document.getElementsByTagName(\"head\")[0].appendChild(s);\n",
       "      });\n",
       "    }\n",
       "\n",
       "    function showError(err) {\n",
       "      outputDiv.innerHTML = `<div class=\"error\" style=\"color:red;\">${err}</div>`;\n",
       "      throw err;\n",
       "    }\n",
       "\n",
       "    function displayChart(vegaEmbed) {\n",
       "      vegaEmbed(outputDiv, spec, embedOpt)\n",
       "        .catch(err => showError(`Javascript Error: ${err.message}<br>This usually means there's a typo in your chart specification. See the javascript console for the full traceback.`));\n",
       "    }\n",
       "\n",
       "    if(typeof define === \"function\" && define.amd) {\n",
       "      requirejs.config({paths});\n",
       "      require([\"vega-embed\"], displayChart, err => showError(`Error loading script: ${err.message}`));\n",
       "    } else if (typeof vegaEmbed === \"function\") {\n",
       "      displayChart(vegaEmbed);\n",
       "    } else {\n",
       "      loadScript(\"vega\")\n",
       "        .then(() => loadScript(\"vega-lite\"))\n",
       "        .then(() => loadScript(\"vega-embed\"))\n",
       "        .catch(showError)\n",
       "        .then(() => displayChart(vegaEmbed));\n",
       "    }\n",
       "  })({\"config\": {\"view\": {\"continuousWidth\": 400, \"continuousHeight\": 300}}, \"layer\": [{\"data\": {\"name\": \"data-cb15e0c3536a5b0a279cc82de858a2c4\"}, \"mark\": {\"type\": \"bar\", \"color\": \"green\", \"opacity\": 0.4, \"size\": 30}, \"encoding\": {\"tooltip\": [{\"type\": \"nominal\", \"field\": \"index\"}, {\"type\": \"quantitative\", \"field\": \"Tests\"}, {\"type\": \"quantitative\", \"field\": \"Cases\"}, {\"type\": \"quantitative\", \"field\": \"Deaths\"}], \"x\": {\"type\": \"quantitative\", \"axis\": {\"title\": \"Ex\\u00e1menes informados, casos confirmados, fallecimientos confirmados por cada 1 mill\\u00f3n de habitantes\\n(promedio de los \\u00faltimos 3 d\\u00edas)\"}, \"field\": \"Tests\"}, \"y\": {\"type\": \"nominal\", \"axis\": {\"title\": \"Pa\\u00eds\"}, \"field\": \"index\", \"sort\": {\"field\": \"codigo\", \"order\": \"ascending\"}}}}, {\"data\": {\"name\": \"data-cb15e0c3536a5b0a279cc82de858a2c4\"}, \"mark\": {\"type\": \"tick\", \"color\": \"black\", \"size\": 30, \"thickness\": 2}, \"encoding\": {\"tooltip\": [{\"type\": \"nominal\", \"field\": \"index\"}, {\"type\": \"quantitative\", \"field\": \"Tests\"}, {\"type\": \"quantitative\", \"field\": \"Cases\"}, {\"type\": \"quantitative\", \"field\": \"Deaths\"}], \"x\": {\"type\": \"quantitative\", \"field\": \"Tests\"}, \"y\": {\"type\": \"nominal\", \"field\": \"index\", \"sort\": {\"field\": \"codigo\", \"order\": \"ascending\"}}}}, {\"data\": {\"name\": \"data-cb15e0c3536a5b0a279cc82de858a2c4\"}, \"mark\": {\"type\": \"tick\", \"color\": \"blue\", \"size\": 30, \"thickness\": 2}, \"encoding\": {\"tooltip\": [{\"type\": \"nominal\", \"field\": \"index\"}, {\"type\": \"quantitative\", \"field\": \"Tests\"}, {\"type\": \"quantitative\", \"field\": \"Cases\"}, {\"type\": \"quantitative\", \"field\": \"Deaths\"}], \"x\": {\"type\": \"quantitative\", \"field\": \"Cases\"}, \"y\": {\"type\": \"nominal\", \"field\": \"index\", \"sort\": {\"field\": \"codigo\", \"order\": \"ascending\"}}}}, {\"data\": {\"name\": \"data-cb15e0c3536a5b0a279cc82de858a2c4\"}, \"mark\": {\"type\": \"tick\", \"color\": \"red\", \"size\": 30, \"thickness\": 2}, \"encoding\": {\"tooltip\": [{\"type\": \"nominal\", \"field\": \"index\"}, {\"type\": \"quantitative\", \"field\": \"Tests\"}, {\"type\": \"quantitative\", \"field\": \"Cases\"}, {\"type\": \"quantitative\", \"field\": \"Deaths\"}], \"x\": {\"type\": \"quantitative\", \"field\": \"Deaths\"}, \"y\": {\"type\": \"nominal\", \"field\": \"index\", \"sort\": {\"field\": \"codigo\", \"order\": \"ascending\"}}}}], \"height\": {\"step\": 40}, \"title\": \"COVID-19: Ex\\u00e1menes informados, casos confirmados y fallecidos confirmados por pa\\u00eds por cada 1 mill\\u00f3n de habitantes\\n(promedio de los \\u00faltimos 3 d\\u00edas)\", \"width\": 700, \"$schema\": \"https://vega.github.io/schema/vega-lite/v4.8.1.json\", \"datasets\": {\"data-cb15e0c3536a5b0a279cc82de858a2c4\": [{\"index\": \"Denmark\", \"Tests\": 2122.5, \"Cases\": 26.5, \"Deaths\": 1.3, \"Population\": 5792203.0, \"codigo\": 0}, {\"index\": \"Lithuania\", \"Tests\": 1814.0, \"Cases\": 2.2, \"Deaths\": 0.2, \"Population\": 2722291.0, \"codigo\": 1}, {\"index\": \"Belgium\", \"Tests\": 1341.9, \"Cases\": 25.2, \"Deaths\": 14.2, \"Population\": 11589616.0, \"codigo\": 2}, {\"index\": \"Luxembourg\", \"Tests\": 1286.0, \"Cases\": 14.4, \"Deaths\": 1.1, \"Population\": 625976.0, \"codigo\": 3}, {\"index\": \"United Kingdom\", \"Tests\": 1175.8, \"Cases\": 71.7, \"Deaths\": 8.0, \"Population\": 67886004.0, \"codigo\": 4}, {\"index\": \"Portugal\", \"Tests\": 997.6, \"Cases\": 21.5, \"Deaths\": 0.8, \"Population\": 10196707.0, \"codigo\": 5}, {\"index\": \"Estonia\", \"Tests\": 947.3, \"Cases\": 3.3, \"Deaths\": 0.0, \"Population\": 1326539.0, \"codigo\": 6}, {\"index\": \"Italy\", \"Tests\": 866.4, \"Cases\": 20.6, \"Deaths\": 4.4, \"Population\": 60461828.0, \"codigo\": 7}, {\"index\": \"Latvia\", \"Tests\": 774.4, \"Cases\": 3.7, \"Deaths\": 0.2, \"Population\": 1886202.0, \"codigo\": 8}, {\"index\": \"United States\", \"Tests\": 744.3, \"Cases\": 0.0, \"Deaths\": 0.0, \"Population\": 331002647.0, \"codigo\": 9}, {\"index\": \"Australia\", \"Tests\": 726.1, \"Cases\": 1.0, \"Deaths\": 0.0, \"Population\": 25499881.0, \"codigo\": 10}, {\"index\": \"New Zealand\", \"Tests\": 724.2, \"Cases\": 0.1, \"Deaths\": 0.1, \"Population\": 4822233.0, \"codigo\": 11}, {\"index\": \"Austria\", \"Tests\": 662.5, \"Cases\": 4.2, \"Deaths\": 0.4, \"Population\": 9006400.0, \"codigo\": 12}, {\"index\": \"Czech Republic\", \"Tests\": 642.4, \"Cases\": 6.0, \"Deaths\": 0.4, \"Population\": 10708982.0, \"codigo\": 13}, {\"index\": \"Slovenia\", \"Tests\": 545.6, \"Cases\": 1.4, \"Deaths\": 0.5, \"Population\": 2078932.0, \"codigo\": 14}, {\"index\": \"Slovakia\", \"Tests\": 512.0, \"Cases\": 1.3, \"Deaths\": 0.1, \"Population\": 5459643.0, \"codigo\": 15}, {\"index\": \"Chile\", \"Tests\": 451.4, \"Cases\": 59.0, \"Deaths\": 0.4, \"Population\": 19116209.0, \"codigo\": 16}, {\"index\": \"Turkey\", \"Tests\": 392.7, \"Cases\": 22.5, \"Deaths\": 0.7, \"Population\": 84339067.0, \"codigo\": 17}, {\"index\": \"Poland\", \"Tests\": 304.0, \"Cases\": 9.2, \"Deaths\": 0.5, \"Population\": 37846605.0, \"codigo\": 18}, {\"index\": \"Hungary\", \"Tests\": 163.3, \"Cases\": 4.0, \"Deaths\": 1.1, \"Population\": 9660350.0, \"codigo\": 19}, {\"index\": \"Colombia\", \"Tests\": 81.9, \"Cases\": 8.5, \"Deaths\": 0.4, \"Population\": 50882884.0, \"codigo\": 20}, {\"index\": \"Japan\", \"Tests\": 20.6, \"Cases\": 1.1, \"Deaths\": 0.1, \"Population\": 126476458.0, \"codigo\": 21}]}}, {\"mode\": \"vega-lite\"});\n",
       "</script>"
      ],
      "text/plain": [
       "alt.LayerChart(...)"
      ]
     },
     "execution_count": 122,
     "metadata": {},
     "output_type": "execute_result"
    }
   ],
   "source": [
    "#hide_input\n",
    "bar = alt.Chart(data.reset_index()).mark_bar(size=30, opacity=0.4, color='green').encode(\n",
    "    x=alt.X('Tests:Q', axis=alt.Axis(title=f'Exámenes informados, casos confirmados, fallecimientos confirmados por cada 1 millón de habitantes\\n(promedio de los últimos 3 días)')),\n",
    "    y=alt.Y('index:N', axis=alt.Axis(title='País'), sort=alt.EncodingSortField(field='codigo', order='ascending')),\n",
    "    tooltip = ['index', 'Tests', 'Cases', 'Deaths']\n",
    ")\n",
    "\n",
    "tick0 = alt.Chart(data.reset_index()).mark_tick(\n",
    "    color='black',\n",
    "    thickness=2,\n",
    "    size=30,  # controls width of tick.\n",
    ").encode(\n",
    "    x='Tests:Q',\n",
    "    y=alt.Y('index:N', sort=alt.EncodingSortField(field='codigo', order='ascending')),\n",
    "    tooltip = ['index', 'Tests', 'Cases', 'Deaths']\n",
    ")\n",
    "\n",
    "tick1 = alt.Chart(data.reset_index()).mark_tick(\n",
    "    color='blue',\n",
    "    thickness=2,\n",
    "    size=30,  # controls width of tick.\n",
    ").encode(\n",
    "    x='Cases:Q',\n",
    "    y=alt.Y('index:N', sort=alt.EncodingSortField(field='codigo', order='ascending')),\n",
    "    tooltip = ['index', 'Tests', 'Cases', 'Deaths']\n",
    ")\n",
    "\n",
    "tick2 = alt.Chart(data.reset_index()).mark_tick(\n",
    "    color='red',\n",
    "    thickness=2,\n",
    "    size=30,  # controls width of tick.\n",
    ").encode(\n",
    "    x='Deaths:Q',\n",
    "    y=alt.Y('index:N', sort=alt.EncodingSortField(field='codigo', order='ascending')),\n",
    "    tooltip = ['index', 'Tests', 'Cases', 'Deaths']\n",
    ")\n",
    "\n",
    "(bar + tick0 + tick1 + tick2).properties(\n",
    "    title=f'COVID-19: Exámenes informados, casos confirmados y fallecidos confirmados por país por cada 1 millón de habitantes\\n(promedio de los últimos 3 días)',\n",
    "    height=alt.Step(40),\n",
    "    width=700\n",
    ")"
   ]
  },
  {
   "cell_type": "markdown",
   "metadata": {},
   "source": [
    "# Exámenes, casos confirmados, y fallecimientos confirmados por país de latinoamérica por cada 1 millón de habitantes"
   ]
  },
  {
   "cell_type": "markdown",
   "metadata": {},
   "source": [
    "> <span style=\"color:green\">Exámenes</span>, <span style=\"color:blue\">casos confirmados</span>, y <span style=\"color:red\">fallecimientos confirmados</span> por país por cada 1 millón de habitantes"
   ]
  },
  {
   "cell_type": "markdown",
   "metadata": {},
   "source": [
    "Nota: Muchos países de latinoamérica no tienen datos disponibles."
   ]
  },
  {
   "cell_type": "code",
   "execution_count": 123,
   "metadata": {},
   "outputs": [],
   "source": [
    "#hide\n",
    "list_latinoamerica = ['Argentina', 'Bolivia', 'Chile', 'Colombia',\n",
    "                     'Costa Rica', 'Cuba', 'Ecuador', 'El Salvador',\n",
    "                     'Mexico', 'Panama', 'Paraguay',\n",
    "                     'Peru', 'Uruguay']"
   ]
  },
  {
   "cell_type": "code",
   "execution_count": 124,
   "metadata": {
    "scrolled": true
   },
   "outputs": [],
   "source": [
    "#hide\n",
    "test_data = pd.DataFrame()\n",
    "for country in list_latinoamerica:\n",
    "    test_data[country] = test_data_raw[test_data_raw['Entity'].str.contains(country)].iloc[-1]"
   ]
  },
  {
   "cell_type": "code",
   "execution_count": 125,
   "metadata": {},
   "outputs": [],
   "source": [
    "#hide\n",
    "test_data = test_data.T"
   ]
  },
  {
   "cell_type": "code",
   "execution_count": 126,
   "metadata": {},
   "outputs": [],
   "source": [
    "#hide\n",
    "data = pd.DataFrame()\n",
    "data['Tests'] = test_data['Cumulative total']"
   ]
  },
  {
   "cell_type": "code",
   "execution_count": 127,
   "metadata": {},
   "outputs": [
    {
     "name": "stderr",
     "output_type": "stream",
     "text": [
      "/Users/alonsosilva/anaconda/envs/python-workshop/lib/python3.7/site-packages/ipykernel_launcher.py:2: DeprecationWarning: The default dtype for empty Series will be 'object' instead of 'float64' in a future version. Specify a dtype explicitly to silence this warning.\n",
      "  \n",
      "/Users/alonsosilva/anaconda/envs/python-workshop/lib/python3.7/site-packages/ipykernel_launcher.py:3: DeprecationWarning: The default dtype for empty Series will be 'object' instead of 'float64' in a future version. Specify a dtype explicitly to silence this warning.\n",
      "  This is separate from the ipykernel package so we can avoid doing imports until\n"
     ]
    }
   ],
   "source": [
    "#hide\n",
    "cases = pd.Series()\n",
    "deaths = pd.Series()\n",
    "for country in list_latinoamerica:\n",
    "    cases[country] = full_data[full_data['location'].str.contains(country)].iloc[-1]['total_cases']\n",
    "    deaths[country] = full_data[full_data['location'].str.contains(country)].iloc[-1]['total_deaths']"
   ]
  },
  {
   "cell_type": "code",
   "execution_count": 128,
   "metadata": {},
   "outputs": [],
   "source": [
    "#hide\n",
    "data['Cases'] = cases\n",
    "data['Deaths'] = deaths"
   ]
  },
  {
   "cell_type": "code",
   "execution_count": 129,
   "metadata": {},
   "outputs": [
    {
     "name": "stderr",
     "output_type": "stream",
     "text": [
      "/Users/alonsosilva/anaconda/envs/python-workshop/lib/python3.7/site-packages/ipykernel_launcher.py:2: DeprecationWarning: The default dtype for empty Series will be 'object' instead of 'float64' in a future version. Specify a dtype explicitly to silence this warning.\n",
      "  \n"
     ]
    }
   ],
   "source": [
    "#hide\n",
    "population = pd.Series()\n",
    "for country in list_latinoamerica:\n",
    "    population[country] = locations_data[locations_data['location'].str.contains(country)].iloc[-1]['population']"
   ]
  },
  {
   "cell_type": "code",
   "execution_count": 130,
   "metadata": {},
   "outputs": [],
   "source": [
    "#hide\n",
    "data['Population'] = population"
   ]
  },
  {
   "cell_type": "code",
   "execution_count": 131,
   "metadata": {},
   "outputs": [],
   "source": [
    "#hide\n",
    "data['Tests'] = np.round(1000000*data['Tests'].astype(float)/data['Population'])\n",
    "data['Cases'] = np.round(1000000*data['Cases']/data['Population'])\n",
    "data['Deaths'] = np.round(1000000*data['Deaths']/data['Population'])"
   ]
  },
  {
   "cell_type": "code",
   "execution_count": 132,
   "metadata": {},
   "outputs": [],
   "source": [
    "#hide\n",
    "data = data.sort_values(by='Tests', ascending=False)\n",
    "data['codigo'] = np.arange(len(data))"
   ]
  },
  {
   "cell_type": "code",
   "execution_count": 133,
   "metadata": {},
   "outputs": [
    {
     "data": {
      "text/html": [
       "\n",
       "<div id=\"altair-viz-c2dcc5737c3143719a481659ee4ad47d\"></div>\n",
       "<script type=\"text/javascript\">\n",
       "  (function(spec, embedOpt){\n",
       "    let outputDiv = document.currentScript.previousElementSibling;\n",
       "    if (outputDiv.id !== \"altair-viz-c2dcc5737c3143719a481659ee4ad47d\") {\n",
       "      outputDiv = document.getElementById(\"altair-viz-c2dcc5737c3143719a481659ee4ad47d\");\n",
       "    }\n",
       "    const paths = {\n",
       "      \"vega\": \"https://cdn.jsdelivr.net/npm//vega@5?noext\",\n",
       "      \"vega-lib\": \"https://cdn.jsdelivr.net/npm//vega-lib?noext\",\n",
       "      \"vega-lite\": \"https://cdn.jsdelivr.net/npm//vega-lite@4.8.1?noext\",\n",
       "      \"vega-embed\": \"https://cdn.jsdelivr.net/npm//vega-embed@6?noext\",\n",
       "    };\n",
       "\n",
       "    function loadScript(lib) {\n",
       "      return new Promise(function(resolve, reject) {\n",
       "        var s = document.createElement('script');\n",
       "        s.src = paths[lib];\n",
       "        s.async = true;\n",
       "        s.onload = () => resolve(paths[lib]);\n",
       "        s.onerror = () => reject(`Error loading script: ${paths[lib]}`);\n",
       "        document.getElementsByTagName(\"head\")[0].appendChild(s);\n",
       "      });\n",
       "    }\n",
       "\n",
       "    function showError(err) {\n",
       "      outputDiv.innerHTML = `<div class=\"error\" style=\"color:red;\">${err}</div>`;\n",
       "      throw err;\n",
       "    }\n",
       "\n",
       "    function displayChart(vegaEmbed) {\n",
       "      vegaEmbed(outputDiv, spec, embedOpt)\n",
       "        .catch(err => showError(`Javascript Error: ${err.message}<br>This usually means there's a typo in your chart specification. See the javascript console for the full traceback.`));\n",
       "    }\n",
       "\n",
       "    if(typeof define === \"function\" && define.amd) {\n",
       "      requirejs.config({paths});\n",
       "      require([\"vega-embed\"], displayChart, err => showError(`Error loading script: ${err.message}`));\n",
       "    } else if (typeof vegaEmbed === \"function\") {\n",
       "      displayChart(vegaEmbed);\n",
       "    } else {\n",
       "      loadScript(\"vega\")\n",
       "        .then(() => loadScript(\"vega-lite\"))\n",
       "        .then(() => loadScript(\"vega-embed\"))\n",
       "        .catch(showError)\n",
       "        .then(() => displayChart(vegaEmbed));\n",
       "    }\n",
       "  })({\"config\": {\"view\": {\"continuousWidth\": 400, \"continuousHeight\": 300}}, \"layer\": [{\"data\": {\"name\": \"data-191276e16c3209cc581ca3ab3f818932\"}, \"mark\": {\"type\": \"bar\", \"color\": \"green\", \"opacity\": 0.4, \"size\": 30}, \"encoding\": {\"tooltip\": [{\"type\": \"nominal\", \"field\": \"index\"}, {\"type\": \"quantitative\", \"field\": \"Tests\"}, {\"type\": \"quantitative\", \"field\": \"Cases\"}, {\"type\": \"quantitative\", \"field\": \"Deaths\"}], \"x\": {\"type\": \"quantitative\", \"axis\": {\"title\": \"Ex\\u00e1menes informados, casos confirmados, fallecimientos confirmados por cada 1 mill\\u00f3n de habitantes\"}, \"field\": \"Tests\"}, \"y\": {\"type\": \"nominal\", \"axis\": {\"title\": \"Pa\\u00eds\"}, \"field\": \"index\", \"sort\": {\"field\": \"codigo\", \"order\": \"ascending\"}}}}, {\"data\": {\"name\": \"data-191276e16c3209cc581ca3ab3f818932\"}, \"mark\": {\"type\": \"tick\", \"color\": \"black\", \"size\": 30, \"thickness\": 2}, \"encoding\": {\"tooltip\": [{\"type\": \"nominal\", \"field\": \"index\"}, {\"type\": \"quantitative\", \"field\": \"Tests\"}, {\"type\": \"quantitative\", \"field\": \"Cases\"}, {\"type\": \"quantitative\", \"field\": \"Deaths\"}], \"x\": {\"type\": \"quantitative\", \"field\": \"Tests\"}, \"y\": {\"type\": \"nominal\", \"field\": \"index\", \"sort\": {\"field\": \"codigo\", \"order\": \"ascending\"}}}}, {\"data\": {\"name\": \"data-191276e16c3209cc581ca3ab3f818932\"}, \"mark\": {\"type\": \"tick\", \"color\": \"blue\", \"size\": 30, \"thickness\": 2}, \"encoding\": {\"tooltip\": [{\"type\": \"nominal\", \"field\": \"index\"}, {\"type\": \"quantitative\", \"field\": \"Tests\"}, {\"type\": \"quantitative\", \"field\": \"Cases\"}, {\"type\": \"quantitative\", \"field\": \"Deaths\"}], \"x\": {\"type\": \"quantitative\", \"field\": \"Cases\"}, \"y\": {\"type\": \"nominal\", \"field\": \"index\", \"sort\": {\"field\": \"codigo\", \"order\": \"ascending\"}}}}, {\"data\": {\"name\": \"data-191276e16c3209cc581ca3ab3f818932\"}, \"mark\": {\"type\": \"tick\", \"color\": \"red\", \"size\": 30, \"thickness\": 2}, \"encoding\": {\"tooltip\": [{\"type\": \"nominal\", \"field\": \"index\"}, {\"type\": \"quantitative\", \"field\": \"Tests\"}, {\"type\": \"quantitative\", \"field\": \"Cases\"}, {\"type\": \"quantitative\", \"field\": \"Deaths\"}], \"x\": {\"type\": \"quantitative\", \"field\": \"Deaths\"}, \"y\": {\"type\": \"nominal\", \"field\": \"index\", \"sort\": {\"field\": \"codigo\", \"order\": \"ascending\"}}}}], \"height\": {\"step\": 40}, \"title\": \"COVID-19: Ex\\u00e1menes informados, casos confirmados y fallecidos confirmados por pa\\u00eds por cada 1 mill\\u00f3n de habitantes\", \"width\": 700, \"$schema\": \"https://vega.github.io/schema/vega-lite/v4.8.1.json\", \"datasets\": {\"data-191276e16c3209cc581ca3ab3f818932\": [{\"index\": \"Peru\", \"Tests\": 12331.0, \"Cases\": 1663.0, \"Deaths\": 46.0, \"Population\": 32971846.0, \"codigo\": 0}, {\"index\": \"Chile\", \"Tests\": 12142.0, \"Cases\": 1206.0, \"Deaths\": 15.0, \"Population\": 19116209.0, \"codigo\": 1}, {\"index\": \"Panama\", \"Tests\": 8455.0, \"Cases\": 1792.0, \"Deaths\": 51.0, \"Population\": 4314768.0, \"codigo\": 2}, {\"index\": \"Uruguay\", \"Tests\": 6855.0, \"Cases\": 223.0, \"Deaths\": 5.0, \"Population\": 3473727.0, \"codigo\": 3}, {\"index\": \"Cuba\", \"Tests\": 5266.0, \"Cases\": 150.0, \"Deaths\": 6.0, \"Population\": 11326616.0, \"codigo\": 4}, {\"index\": \"El Salvador\", \"Tests\": 5185.0, \"Cases\": 107.0, \"Deaths\": 2.0, \"Population\": 6486201.0, \"codigo\": 5}, {\"index\": \"Ecuador\", \"Tests\": 3750.0, \"Cases\": 1668.0, \"Deaths\": 92.0, \"Population\": 17643060.0, \"codigo\": 6}, {\"index\": \"Colombia\", \"Tests\": 2498.0, \"Cases\": 176.0, \"Deaths\": 8.0, \"Population\": 50882884.0, \"codigo\": 7}, {\"index\": \"Costa Rica\", \"Tests\": 1942.0, \"Cases\": 149.0, \"Deaths\": 1.0, \"Population\": 5094114.0, \"codigo\": 8}, {\"index\": \"Paraguay\", \"Tests\": 1668.0, \"Cases\": 62.0, \"Deaths\": 1.0, \"Population\": 7132530.0, \"codigo\": 9}, {\"index\": \"Argentina\", \"Tests\": 1298.0, \"Cases\": 115.0, \"Deaths\": 6.0, \"Population\": 45195777.0, \"codigo\": 10}, {\"index\": \"Mexico\", \"Tests\": 695.0, \"Cases\": 214.0, \"Deaths\": 21.0, \"Population\": 128932753.0, \"codigo\": 11}, {\"index\": \"Bolivia\", \"Tests\": 676.0, \"Cases\": 162.0, \"Deaths\": 8.0, \"Population\": 11673029.0, \"codigo\": 12}]}}, {\"mode\": \"vega-lite\"});\n",
       "</script>"
      ],
      "text/plain": [
       "alt.LayerChart(...)"
      ]
     },
     "execution_count": 133,
     "metadata": {},
     "output_type": "execute_result"
    }
   ],
   "source": [
    "#hide_input\n",
    "bar = alt.Chart(data.reset_index()).mark_bar(size=30, opacity=0.4, color='green').encode(\n",
    "    x=alt.X('Tests:Q', axis=alt.Axis(title='Exámenes informados, casos confirmados, fallecimientos confirmados por cada 1 millón de habitantes')),\n",
    "    y=alt.Y('index:N', axis=alt.Axis(title='País'), sort=alt.EncodingSortField(field='codigo', order='ascending')),\n",
    "    tooltip = ['index', 'Tests', 'Cases', 'Deaths']\n",
    ")\n",
    "\n",
    "tick0 = alt.Chart(data.reset_index()).mark_tick(\n",
    "    color='black',\n",
    "    thickness=2,\n",
    "    size=30,  # controls width of tick.\n",
    ").encode(\n",
    "    x='Tests:Q',\n",
    "    y=alt.Y('index:N', sort=alt.EncodingSortField(field='codigo', order='ascending')),\n",
    "    tooltip = ['index', 'Tests', 'Cases', 'Deaths']\n",
    ")\n",
    "\n",
    "tick1 = alt.Chart(data.reset_index()).mark_tick(\n",
    "    color='blue',\n",
    "    thickness=2,\n",
    "    size=30,  # controls width of tick.\n",
    ").encode(\n",
    "    x='Cases:Q',\n",
    "    y=alt.Y('index:N', sort=alt.EncodingSortField(field='codigo', order='ascending')),\n",
    "    tooltip = ['index', 'Tests', 'Cases', 'Deaths']\n",
    ")\n",
    "\n",
    "tick2 = alt.Chart(data.reset_index()).mark_tick(\n",
    "    color='red',\n",
    "    thickness=2,\n",
    "    size=30,  # controls width of tick.\n",
    ").encode(\n",
    "    x='Deaths:Q',\n",
    "    y=alt.Y('index:N', sort=alt.EncodingSortField(field='codigo', order='ascending')),\n",
    "    tooltip = ['index', 'Tests', 'Cases', 'Deaths']\n",
    ")\n",
    "\n",
    "(bar + tick0 + tick1 + tick2).properties(\n",
    "    title='COVID-19: Exámenes informados, casos confirmados y fallecidos confirmados por país por cada 1 millón de habitantes',\n",
    "    height=alt.Step(40),\n",
    "    width=700  # controls width of bar.\n",
    ")"
   ]
  },
  {
   "cell_type": "markdown",
   "metadata": {},
   "source": [
    "Fuentes: ECDC, [Our World in Data](https://ourworldindata.org/)"
   ]
  },
  {
   "cell_type": "markdown",
   "metadata": {},
   "source": [
    "# Exámenes, casos confirmados, y fallecimientos confirmados por país de latinoamérica por cada 1 millón de habitantes en los últimos 3 días"
   ]
  },
  {
   "cell_type": "markdown",
   "metadata": {},
   "source": [
    "> <span style=\"color:green\">Exámenes</span>, <span style=\"color:blue\">casos confirmados</span>, y <span style=\"color:red\">fallecimientos confirmados</span> por país por cada 1 millón de habitantes"
   ]
  },
  {
   "cell_type": "markdown",
   "metadata": {},
   "source": [
    "Nota: Muchos países de latinoamérica no tienen datos disponibles."
   ]
  },
  {
   "cell_type": "code",
   "execution_count": 134,
   "metadata": {},
   "outputs": [],
   "source": [
    "#hide\n",
    "data = pd.DataFrame()\n",
    "data['Tests'] = test_data['3-day rolling mean daily change']"
   ]
  },
  {
   "cell_type": "code",
   "execution_count": 135,
   "metadata": {},
   "outputs": [
    {
     "name": "stderr",
     "output_type": "stream",
     "text": [
      "/Users/alonsosilva/anaconda/envs/python-workshop/lib/python3.7/site-packages/ipykernel_launcher.py:2: DeprecationWarning: The default dtype for empty Series will be 'object' instead of 'float64' in a future version. Specify a dtype explicitly to silence this warning.\n",
      "  \n",
      "/Users/alonsosilva/anaconda/envs/python-workshop/lib/python3.7/site-packages/ipykernel_launcher.py:3: DeprecationWarning: The default dtype for empty Series will be 'object' instead of 'float64' in a future version. Specify a dtype explicitly to silence this warning.\n",
      "  This is separate from the ipykernel package so we can avoid doing imports until\n"
     ]
    }
   ],
   "source": [
    "#hide\n",
    "cases = pd.Series()\n",
    "deaths = pd.Series()\n",
    "for country in list_latinoamerica:\n",
    "    cases[country] = full_data[full_data['location'].str.contains(country)].iloc[-3:]['new_cases'].mean()\n",
    "    deaths[country] = full_data[full_data['location'].str.contains(country)].iloc[-3:]['new_deaths'].mean()"
   ]
  },
  {
   "cell_type": "code",
   "execution_count": 136,
   "metadata": {},
   "outputs": [],
   "source": [
    "#hide\n",
    "data['Cases'] = cases\n",
    "data['Deaths'] = deaths"
   ]
  },
  {
   "cell_type": "code",
   "execution_count": 137,
   "metadata": {},
   "outputs": [
    {
     "name": "stderr",
     "output_type": "stream",
     "text": [
      "/Users/alonsosilva/anaconda/envs/python-workshop/lib/python3.7/site-packages/ipykernel_launcher.py:2: DeprecationWarning: The default dtype for empty Series will be 'object' instead of 'float64' in a future version. Specify a dtype explicitly to silence this warning.\n",
      "  \n"
     ]
    }
   ],
   "source": [
    "#hide\n",
    "population = pd.Series()\n",
    "for country in list_latinoamerica:\n",
    "    population[country] = locations_data[locations_data['location'].str.contains(country)].iloc[-1]['population']"
   ]
  },
  {
   "cell_type": "code",
   "execution_count": 138,
   "metadata": {},
   "outputs": [],
   "source": [
    "#hide\n",
    "data['Population'] = population"
   ]
  },
  {
   "cell_type": "code",
   "execution_count": 139,
   "metadata": {},
   "outputs": [],
   "source": [
    "#hide\n",
    "data['Tests'] = np.round(1000000*data['Tests'].astype(float)/data['Population'], decimals=1)\n",
    "data['Cases'] = np.round(1000000*data['Cases']/data['Population'], decimals=1)\n",
    "data['Deaths'] = np.round(1000000*data['Deaths']/data['Population'], decimals=1)"
   ]
  },
  {
   "cell_type": "code",
   "execution_count": 140,
   "metadata": {},
   "outputs": [],
   "source": [
    "#hide\n",
    "data = data.dropna()"
   ]
  },
  {
   "cell_type": "code",
   "execution_count": 141,
   "metadata": {},
   "outputs": [],
   "source": [
    "#hide\n",
    "data = data.sort_values(by='Tests', ascending=False)\n",
    "data['codigo'] = np.arange(len(data))"
   ]
  },
  {
   "cell_type": "code",
   "execution_count": 142,
   "metadata": {},
   "outputs": [
    {
     "data": {
      "text/html": [
       "\n",
       "<div id=\"altair-viz-5f65d6d34a9446ff935558de24bde9f1\"></div>\n",
       "<script type=\"text/javascript\">\n",
       "  (function(spec, embedOpt){\n",
       "    let outputDiv = document.currentScript.previousElementSibling;\n",
       "    if (outputDiv.id !== \"altair-viz-5f65d6d34a9446ff935558de24bde9f1\") {\n",
       "      outputDiv = document.getElementById(\"altair-viz-5f65d6d34a9446ff935558de24bde9f1\");\n",
       "    }\n",
       "    const paths = {\n",
       "      \"vega\": \"https://cdn.jsdelivr.net/npm//vega@5?noext\",\n",
       "      \"vega-lib\": \"https://cdn.jsdelivr.net/npm//vega-lib?noext\",\n",
       "      \"vega-lite\": \"https://cdn.jsdelivr.net/npm//vega-lite@4.8.1?noext\",\n",
       "      \"vega-embed\": \"https://cdn.jsdelivr.net/npm//vega-embed@6?noext\",\n",
       "    };\n",
       "\n",
       "    function loadScript(lib) {\n",
       "      return new Promise(function(resolve, reject) {\n",
       "        var s = document.createElement('script');\n",
       "        s.src = paths[lib];\n",
       "        s.async = true;\n",
       "        s.onload = () => resolve(paths[lib]);\n",
       "        s.onerror = () => reject(`Error loading script: ${paths[lib]}`);\n",
       "        document.getElementsByTagName(\"head\")[0].appendChild(s);\n",
       "      });\n",
       "    }\n",
       "\n",
       "    function showError(err) {\n",
       "      outputDiv.innerHTML = `<div class=\"error\" style=\"color:red;\">${err}</div>`;\n",
       "      throw err;\n",
       "    }\n",
       "\n",
       "    function displayChart(vegaEmbed) {\n",
       "      vegaEmbed(outputDiv, spec, embedOpt)\n",
       "        .catch(err => showError(`Javascript Error: ${err.message}<br>This usually means there's a typo in your chart specification. See the javascript console for the full traceback.`));\n",
       "    }\n",
       "\n",
       "    if(typeof define === \"function\" && define.amd) {\n",
       "      requirejs.config({paths});\n",
       "      require([\"vega-embed\"], displayChart, err => showError(`Error loading script: ${err.message}`));\n",
       "    } else if (typeof vegaEmbed === \"function\") {\n",
       "      displayChart(vegaEmbed);\n",
       "    } else {\n",
       "      loadScript(\"vega\")\n",
       "        .then(() => loadScript(\"vega-lite\"))\n",
       "        .then(() => loadScript(\"vega-embed\"))\n",
       "        .catch(showError)\n",
       "        .then(() => displayChart(vegaEmbed));\n",
       "    }\n",
       "  })({\"config\": {\"view\": {\"continuousWidth\": 400, \"continuousHeight\": 300}}, \"layer\": [{\"data\": {\"name\": \"data-6123bfd92abbbf408019dadf39ab8709\"}, \"mark\": {\"type\": \"bar\", \"color\": \"green\", \"opacity\": 0.4, \"size\": 30}, \"encoding\": {\"tooltip\": [{\"type\": \"nominal\", \"field\": \"index\"}, {\"type\": \"quantitative\", \"field\": \"Tests\"}, {\"type\": \"quantitative\", \"field\": \"Cases\"}, {\"type\": \"quantitative\", \"field\": \"Deaths\"}], \"x\": {\"type\": \"quantitative\", \"axis\": {\"title\": \"Ex\\u00e1menes informados, casos confirmados, fallecimientos confirmados por cada 1 mill\\u00f3n de habitantes\\n(promedio de los \\u00faltimos 3 d\\u00edas)\"}, \"field\": \"Tests\"}, \"y\": {\"type\": \"nominal\", \"axis\": {\"title\": \"Pa\\u00eds\"}, \"field\": \"index\", \"sort\": {\"field\": \"codigo\", \"order\": \"ascending\"}}}}, {\"data\": {\"name\": \"data-6123bfd92abbbf408019dadf39ab8709\"}, \"mark\": {\"type\": \"tick\", \"color\": \"black\", \"size\": 30, \"thickness\": 2}, \"encoding\": {\"tooltip\": [{\"type\": \"nominal\", \"field\": \"index\"}, {\"type\": \"quantitative\", \"field\": \"Tests\"}, {\"type\": \"quantitative\", \"field\": \"Cases\"}, {\"type\": \"quantitative\", \"field\": \"Deaths\"}], \"x\": {\"type\": \"quantitative\", \"field\": \"Tests\"}, \"y\": {\"type\": \"nominal\", \"field\": \"index\", \"sort\": {\"field\": \"codigo\", \"order\": \"ascending\"}}}}, {\"data\": {\"name\": \"data-6123bfd92abbbf408019dadf39ab8709\"}, \"mark\": {\"type\": \"tick\", \"color\": \"blue\", \"size\": 30, \"thickness\": 2}, \"encoding\": {\"tooltip\": [{\"type\": \"nominal\", \"field\": \"index\"}, {\"type\": \"quantitative\", \"field\": \"Tests\"}, {\"type\": \"quantitative\", \"field\": \"Cases\"}, {\"type\": \"quantitative\", \"field\": \"Deaths\"}], \"x\": {\"type\": \"quantitative\", \"field\": \"Cases\"}, \"y\": {\"type\": \"nominal\", \"field\": \"index\", \"sort\": {\"field\": \"codigo\", \"order\": \"ascending\"}}}}, {\"data\": {\"name\": \"data-6123bfd92abbbf408019dadf39ab8709\"}, \"mark\": {\"type\": \"tick\", \"color\": \"red\", \"size\": 30, \"thickness\": 2}, \"encoding\": {\"tooltip\": [{\"type\": \"nominal\", \"field\": \"index\"}, {\"type\": \"quantitative\", \"field\": \"Tests\"}, {\"type\": \"quantitative\", \"field\": \"Cases\"}, {\"type\": \"quantitative\", \"field\": \"Deaths\"}], \"x\": {\"type\": \"quantitative\", \"field\": \"Deaths\"}, \"y\": {\"type\": \"nominal\", \"field\": \"index\", \"sort\": {\"field\": \"codigo\", \"order\": \"ascending\"}}}}], \"height\": {\"step\": 40}, \"title\": \"COVID-19: Ex\\u00e1menes informados, casos confirmados y fallecidos confirmados por pa\\u00eds por cada 1 mill\\u00f3n de habitantes\\n(promedio de los \\u00faltimos 3 d\\u00edas)\", \"width\": 700, \"$schema\": \"https://vega.github.io/schema/vega-lite/v4.8.1.json\", \"datasets\": {\"data-6123bfd92abbbf408019dadf39ab8709\": [{\"index\": \"Chile\", \"Tests\": 451.4, \"Cases\": 59.0, \"Deaths\": 0.4, \"Population\": 19116209.0, \"codigo\": 0}, {\"index\": \"El Salvador\", \"Tests\": 258.6, \"Cases\": 7.2, \"Deaths\": 0.2, \"Population\": 6486201.0, \"codigo\": 1}, {\"index\": \"Uruguay\", \"Tests\": 254.0, \"Cases\": 11.5, \"Deaths\": 0.0, \"Population\": 3473727.0, \"codigo\": 2}, {\"index\": \"Panama\", \"Tests\": 241.7, \"Cases\": 41.3, \"Deaths\": 1.4, \"Population\": 4314768.0, \"codigo\": 3}, {\"index\": \"Cuba\", \"Tests\": 179.6, \"Cases\": 1.6, \"Deaths\": 0.1, \"Population\": 11326616.0, \"codigo\": 4}, {\"index\": \"Colombia\", \"Tests\": 81.9, \"Cases\": 8.5, \"Deaths\": 0.4, \"Population\": 50882884.0, \"codigo\": 5}, {\"index\": \"Paraguay\", \"Tests\": 53.6, \"Cases\": 2.1, \"Deaths\": 0.0, \"Population\": 7132530.0, \"codigo\": 6}, {\"index\": \"Costa Rica\", \"Tests\": 19.6, \"Cases\": 1.4, \"Deaths\": 0.0, \"Population\": 5094114.0, \"codigo\": 7}, {\"index\": \"Bolivia\", \"Tests\": 9.5, \"Cases\": 8.3, \"Deaths\": 0.4, \"Population\": 11673029.0, \"codigo\": 8}]}}, {\"mode\": \"vega-lite\"});\n",
       "</script>"
      ],
      "text/plain": [
       "alt.LayerChart(...)"
      ]
     },
     "execution_count": 142,
     "metadata": {},
     "output_type": "execute_result"
    }
   ],
   "source": [
    "#hide_input\n",
    "bar = alt.Chart(data.reset_index()).mark_bar(size=30, opacity=0.4, color='green').encode(\n",
    "    x=alt.X('Tests:Q', axis=alt.Axis(title=f'Exámenes informados, casos confirmados, fallecimientos confirmados por cada 1 millón de habitantes\\n(promedio de los últimos 3 días)')),\n",
    "    y=alt.Y('index:N', axis=alt.Axis(title='País'), sort=alt.EncodingSortField(field='codigo', order='ascending')),\n",
    "    tooltip = ['index', 'Tests', 'Cases', 'Deaths']\n",
    ")\n",
    "\n",
    "tick0 = alt.Chart(data.reset_index()).mark_tick(\n",
    "    color='black',\n",
    "    thickness=2,\n",
    "    size=30,  # controls width of tick.\n",
    ").encode(\n",
    "    x='Tests:Q',\n",
    "    y=alt.Y('index:N', sort=alt.EncodingSortField(field='codigo', order='ascending')),\n",
    "    tooltip = ['index', 'Tests', 'Cases', 'Deaths']\n",
    ")\n",
    "\n",
    "tick1 = alt.Chart(data.reset_index()).mark_tick(\n",
    "    color='blue',\n",
    "    thickness=2,\n",
    "    size=30,  # controls width of tick.\n",
    ").encode(\n",
    "    x='Cases:Q',\n",
    "    y=alt.Y('index:N', sort=alt.EncodingSortField(field='codigo', order='ascending')),\n",
    "    tooltip = ['index', 'Tests', 'Cases', 'Deaths']\n",
    ")\n",
    "\n",
    "tick2 = alt.Chart(data.reset_index()).mark_tick(\n",
    "    color='red',\n",
    "    thickness=2,\n",
    "    size=30,  # controls width of tick.\n",
    ").encode(\n",
    "    x='Deaths:Q',\n",
    "    y=alt.Y('index:N', sort=alt.EncodingSortField(field='codigo', order='ascending')),\n",
    "    tooltip = ['index', 'Tests', 'Cases', 'Deaths']\n",
    ")\n",
    "\n",
    "(bar + tick0 + tick1 + tick2).properties(\n",
    "    title=f'COVID-19: Exámenes informados, casos confirmados y fallecidos confirmados por país por cada 1 millón de habitantes\\n(promedio de los últimos 3 días)',\n",
    "    height=alt.Step(40),\n",
    "    width=700  # controls width of bar.\n",
    ")"
   ]
  },
  {
   "cell_type": "code",
   "execution_count": null,
   "metadata": {},
   "outputs": [],
   "source": []
  }
 ],
 "metadata": {
  "kernelspec": {
   "display_name": "Python 3",
   "language": "python",
   "name": "python3"
  },
  "language_info": {
   "codemirror_mode": {
    "name": "ipython",
    "version": 3
   },
   "file_extension": ".py",
   "mimetype": "text/x-python",
   "name": "python",
   "nbconvert_exporter": "python",
   "pygments_lexer": "ipython3",
   "version": "3.7.5"
  }
 },
 "nbformat": 4,
 "nbformat_minor": 4
}
