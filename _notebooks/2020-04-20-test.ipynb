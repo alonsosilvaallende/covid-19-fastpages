{
 "cells": [
  {
   "cell_type": "markdown",
   "metadata": {},
   "source": [
    "# COVID-19 en Chile\n",
    "> Total de casos confirmados, fallecidos confirmados, pacientes en UCI por región.\n",
    "\n",
    "- toc: true \n",
    "- badges: true\n",
    "- comments: true\n",
    "- author: Alonso Silva Allende\n",
    "- categories: [jupyter]\n",
    "- image: images/diagram.png"
   ]
  },
  {
   "cell_type": "code",
   "execution_count": 1,
   "metadata": {},
   "outputs": [],
   "source": [
    "#hide\n",
    "import numpy as np\n",
    "import matplotlib.pyplot as plt\n",
    "import pandas as pd\n",
    "import altair as alt\n",
    "plt.style.use('ggplot')"
   ]
  },
  {
   "cell_type": "code",
   "execution_count": 2,
   "metadata": {},
   "outputs": [],
   "source": [
    "#hide\n",
    "from IPython.display import display_html, HTML"
   ]
  },
  {
   "cell_type": "code",
   "execution_count": 3,
   "metadata": {},
   "outputs": [
    {
     "data": {
      "text/plain": [
       "'2020-04-26'"
      ]
     },
     "execution_count": 3,
     "metadata": {},
     "output_type": "execute_result"
    }
   ],
   "source": [
    "#hide\n",
    "update_date = pd.to_datetime('today') - pd.offsets.Hour(19)\n",
    "today = update_date.strftime('%Y-%m-%d')\n",
    "today"
   ]
  },
  {
   "cell_type": "code",
   "execution_count": 4,
   "metadata": {},
   "outputs": [
    {
     "data": {
      "text/plain": [
       "'2020-04-19'"
      ]
     },
     "execution_count": 4,
     "metadata": {},
     "output_type": "execute_result"
    }
   ],
   "source": [
    "#hide\n",
    "date_one_week_ago = (update_date - pd.offsets.Day(7)).strftime('%Y-%m-%d')\n",
    "date_one_week_ago"
   ]
  },
  {
   "cell_type": "code",
   "execution_count": 162,
   "metadata": {},
   "outputs": [
    {
     "name": "stdout",
     "output_type": "stream",
     "text": [
      "Última actualización: 26/04/2020.\n"
     ]
    }
   ],
   "source": [
    "#hide_input\n",
    "print(f\"Última actualización: {update_date.strftime('%d/%m/%Y')}.\")"
   ]
  },
  {
   "cell_type": "code",
   "execution_count": 6,
   "metadata": {},
   "outputs": [],
   "source": [
    "#hide\n",
    "casos_raw = pd.read_csv(\n",
    "    \"https://raw.githubusercontent.com/MinCiencia/Datos-COVID19/master/output/producto3/CasosTotalesCumulativo.csv\",\n",
    "    index_col='Region')"
   ]
  },
  {
   "cell_type": "code",
   "execution_count": 7,
   "metadata": {},
   "outputs": [],
   "source": [
    "#hide\n",
    "s = \"https://raw.githubusercontent.com/MinCiencia/Datos-COVID19/master/output/producto4/\" \\\n",
    "+ today + \"-CasosConfirmados-totalRegional.csv\"\n",
    "deaths_raw = pd.read_csv(s, index_col='Region')"
   ]
  },
  {
   "cell_type": "code",
   "execution_count": 8,
   "metadata": {},
   "outputs": [],
   "source": [
    "#hide\n",
    "s = \"https://raw.githubusercontent.com/MinCiencia/Datos-COVID19/master/output/producto4/\" \\\n",
    "+ date_one_week_ago + \"-CasosConfirmados-totalRegional.csv\"\n",
    "deaths_one_week_ago = pd.read_csv(s, index_col='Region')"
   ]
  },
  {
   "cell_type": "code",
   "execution_count": 9,
   "metadata": {},
   "outputs": [],
   "source": [
    "#hide\n",
    "tests_raw = pd.read_csv(\n",
    "    'https://raw.githubusercontent.com/MinCiencia/Datos-COVID19/master/output/producto7/PCR.csv',\n",
    "    index_col='Region')"
   ]
  },
  {
   "cell_type": "code",
   "execution_count": 10,
   "metadata": {},
   "outputs": [],
   "source": [
    "#hide\n",
    "data_table = pd.DataFrame()\n",
    "data_table[\"Region\"] = casos_raw[today].drop(\"Total\").reset_index()[\"Region\"]\n",
    "data_table[\"CC\"] = casos_raw[today].drop(\"Total\").reset_index()[today]\n",
    "data_table[\"CC por 100.000 hab.\"] = np.round(100000*(casos_raw[today]/tests_raw['Poblacion']).drop('Total'), decimals=1).values\n",
    "data_table[\"FC\"] = deaths_raw[\"Fallecidos\"].drop(\"Total\").values\n",
    "data_table[\"FC por 100.000 hab.\"] = \\\n",
    "np.round(100000*deaths_raw['Fallecidos'].drop('Total')/(tests_raw['Poblacion'].values), decimals=1).values"
   ]
  },
  {
   "cell_type": "code",
   "execution_count": 11,
   "metadata": {},
   "outputs": [],
   "source": [
    "#hide\n",
    "tests_raw = tests_raw.fillna(0)"
   ]
  },
  {
   "cell_type": "code",
   "execution_count": 12,
   "metadata": {},
   "outputs": [],
   "source": [
    "#hide\n",
    "tests_total = pd.Series(dtype='float64')\n",
    "for date in tests_raw.columns:\n",
    "  tests_raw[date] = tests_raw[date].apply(lambda x: 0 if x=='-' else x)\n",
    "  tests_raw[date] = tests_raw[date].astype(int)\n",
    "  tests_total[date] = np.sum(tests_raw[date])"
   ]
  },
  {
   "cell_type": "code",
   "execution_count": 13,
   "metadata": {},
   "outputs": [],
   "source": [
    "#hide\n",
    "tests_raw.loc['Total'] = tests_total"
   ]
  },
  {
   "cell_type": "code",
   "execution_count": 14,
   "metadata": {},
   "outputs": [],
   "source": [
    "#hide\n",
    "tests_table = pd.DataFrame()\n",
    "tests_table[\"Región\"] = tests_raw.reset_index()['Region']\n",
    "tests_table[\"Exámenes informados\"] = tests_raw.drop(columns='Poblacion').sum(axis=1).values\n",
    "tests_table[\"Exámenes informados por 100.000 habs.\"] = \\\n",
    "np.round(100000*tests_raw.drop(columns='Poblacion').sum(axis=1).values/tests_raw['Poblacion'], decimals=1).values"
   ]
  },
  {
   "cell_type": "code",
   "execution_count": 15,
   "metadata": {},
   "outputs": [],
   "source": [
    "#hide\n",
    "total_confirmed = casos_raw.iloc[-1,-1]\n",
    "total_deaths = deaths_raw.iloc[-1,-1]"
   ]
  },
  {
   "cell_type": "code",
   "execution_count": 16,
   "metadata": {},
   "outputs": [],
   "source": [
    "#hide\n",
    "total_confirmed_one_week_ago = casos_raw.iloc[-1,-8]\n",
    "total_deaths_one_week_ago = deaths_one_week_ago.loc[\"Total\", \"Fallecidos\"]"
   ]
  },
  {
   "cell_type": "code",
   "execution_count": 17,
   "metadata": {},
   "outputs": [],
   "source": [
    "#hide\n",
    "diff_cases = total_confirmed-total_confirmed_one_week_ago\n",
    "diff_deaths = total_deaths-total_deaths_one_week_ago"
   ]
  },
  {
   "cell_type": "code",
   "execution_count": 18,
   "metadata": {},
   "outputs": [],
   "source": [
    "#hide\n",
    "total_confirmed = '{:,}'.format(total_confirmed).replace(',', '.')\n",
    "total_deaths = '{:,}'.format(total_deaths).replace(',', '.')"
   ]
  },
  {
   "cell_type": "code",
   "execution_count": 19,
   "metadata": {},
   "outputs": [],
   "source": [
    "#hide\n",
    "diff_cases = '{:,}'.format(diff_cases).replace(',', '.')\n",
    "diff_deaths = '{:,}'.format(diff_deaths).replace(',', '.')"
   ]
  },
  {
   "cell_type": "markdown",
   "metadata": {},
   "source": [
    "# Estadísticas para Chile"
   ]
  },
  {
   "cell_type": "code",
   "execution_count": 20,
   "metadata": {
    "scrolled": true
   },
   "outputs": [
    {
     "data": {
      "text/html": [
       "<p style=\"color:#3361ff;\"><span style=\"font-weight:bold;\">Casos confirmados:</span> 13.331 (+3.243 en una semana)</p><p style=\"color:#FF3F3F;\"><span style=\"font-weight:bold;\">Fallecimientos confirmados:</span> 189 (+56 en una semana)</p>"
      ],
      "text/plain": [
       "<IPython.core.display.HTML object>"
      ]
     },
     "execution_count": 20,
     "metadata": {},
     "output_type": "execute_result"
    }
   ],
   "source": [
    "#hide_input\n",
    "HTML(f'<p style=\"color:#3361ff;\"><span style=\"font-weight:bold;\">Casos confirmados:</span> {total_confirmed} (+{diff_cases} en una semana)</p><p style=\"color:#FF3F3F;\"><span style=\"font-weight:bold;\">Fallecimientos confirmados:</span> {total_deaths} (+{diff_deaths} en una semana)</p>')"
   ]
  },
  {
   "cell_type": "code",
   "execution_count": 21,
   "metadata": {
    "scrolled": false
   },
   "outputs": [
    {
     "data": {
      "text/html": [
       "<style  type=\"text/css\" >\n",
       "    #T_5d270418_87e6_11ea_9f0c_60f81dc8f27arow0_col0 {\n",
       "            text-align:  right;\n",
       "        }    #T_5d270418_87e6_11ea_9f0c_60f81dc8f27arow0_col1 {\n",
       "            text-align:  right;\n",
       "            background-color:  #fff0e8;\n",
       "            color:  #000000;\n",
       "        }    #T_5d270418_87e6_11ea_9f0c_60f81dc8f27arow0_col2 {\n",
       "            text-align:  right;\n",
       "            background-color:  #fdd7c6;\n",
       "            color:  #000000;\n",
       "        }    #T_5d270418_87e6_11ea_9f0c_60f81dc8f27arow0_col3 {\n",
       "            text-align:  right;\n",
       "            background-color:  #fff0e8;\n",
       "            color:  #000000;\n",
       "        }    #T_5d270418_87e6_11ea_9f0c_60f81dc8f27arow0_col4 {\n",
       "            text-align:  right;\n",
       "            background-color:  #fcbea5;\n",
       "            color:  #000000;\n",
       "        }    #T_5d270418_87e6_11ea_9f0c_60f81dc8f27arow1_col0 {\n",
       "            text-align:  right;\n",
       "        }    #T_5d270418_87e6_11ea_9f0c_60f81dc8f27arow1_col1 {\n",
       "            text-align:  right;\n",
       "            background-color:  #fff2eb;\n",
       "            color:  #000000;\n",
       "        }    #T_5d270418_87e6_11ea_9f0c_60f81dc8f27arow1_col2 {\n",
       "            text-align:  right;\n",
       "            background-color:  #fca98c;\n",
       "            color:  #000000;\n",
       "        }    #T_5d270418_87e6_11ea_9f0c_60f81dc8f27arow1_col3 {\n",
       "            text-align:  right;\n",
       "            background-color:  #fff4ee;\n",
       "            color:  #000000;\n",
       "        }    #T_5d270418_87e6_11ea_9f0c_60f81dc8f27arow1_col4 {\n",
       "            text-align:  right;\n",
       "            background-color:  #ffebe2;\n",
       "            color:  #000000;\n",
       "        }    #T_5d270418_87e6_11ea_9f0c_60f81dc8f27arow2_col0 {\n",
       "            text-align:  right;\n",
       "        }    #T_5d270418_87e6_11ea_9f0c_60f81dc8f27arow2_col1 {\n",
       "            text-align:  right;\n",
       "            background-color:  #ffece3;\n",
       "            color:  #000000;\n",
       "        }    #T_5d270418_87e6_11ea_9f0c_60f81dc8f27arow2_col2 {\n",
       "            text-align:  right;\n",
       "            background-color:  #fcb99f;\n",
       "            color:  #000000;\n",
       "        }    #T_5d270418_87e6_11ea_9f0c_60f81dc8f27arow2_col3 {\n",
       "            text-align:  right;\n",
       "            background-color:  #ffeee6;\n",
       "            color:  #000000;\n",
       "        }    #T_5d270418_87e6_11ea_9f0c_60f81dc8f27arow2_col4 {\n",
       "            text-align:  right;\n",
       "            background-color:  #fee1d4;\n",
       "            color:  #000000;\n",
       "        }    #T_5d270418_87e6_11ea_9f0c_60f81dc8f27arow3_col0 {\n",
       "            text-align:  right;\n",
       "        }    #T_5d270418_87e6_11ea_9f0c_60f81dc8f27arow3_col1 {\n",
       "            text-align:  right;\n",
       "            background-color:  #fff5f0;\n",
       "            color:  #000000;\n",
       "        }    #T_5d270418_87e6_11ea_9f0c_60f81dc8f27arow3_col2 {\n",
       "            text-align:  right;\n",
       "            background-color:  #fff4ef;\n",
       "            color:  #000000;\n",
       "        }    #T_5d270418_87e6_11ea_9f0c_60f81dc8f27arow3_col3 {\n",
       "            text-align:  right;\n",
       "            background-color:  #fff5f0;\n",
       "            color:  #000000;\n",
       "        }    #T_5d270418_87e6_11ea_9f0c_60f81dc8f27arow3_col4 {\n",
       "            text-align:  right;\n",
       "            background-color:  #fff5f0;\n",
       "            color:  #000000;\n",
       "        }    #T_5d270418_87e6_11ea_9f0c_60f81dc8f27arow4_col0 {\n",
       "            text-align:  right;\n",
       "        }    #T_5d270418_87e6_11ea_9f0c_60f81dc8f27arow4_col1 {\n",
       "            text-align:  right;\n",
       "            background-color:  #fff4ee;\n",
       "            color:  #000000;\n",
       "        }    #T_5d270418_87e6_11ea_9f0c_60f81dc8f27arow4_col2 {\n",
       "            text-align:  right;\n",
       "            background-color:  #fff5f0;\n",
       "            color:  #000000;\n",
       "        }    #T_5d270418_87e6_11ea_9f0c_60f81dc8f27arow4_col3 {\n",
       "            text-align:  right;\n",
       "            background-color:  #fff5f0;\n",
       "            color:  #000000;\n",
       "        }    #T_5d270418_87e6_11ea_9f0c_60f81dc8f27arow4_col4 {\n",
       "            text-align:  right;\n",
       "            background-color:  #fff5f0;\n",
       "            color:  #000000;\n",
       "        }    #T_5d270418_87e6_11ea_9f0c_60f81dc8f27arow5_col0 {\n",
       "            text-align:  right;\n",
       "        }    #T_5d270418_87e6_11ea_9f0c_60f81dc8f27arow5_col1 {\n",
       "            text-align:  right;\n",
       "            background-color:  #ffebe2;\n",
       "            color:  #000000;\n",
       "        }    #T_5d270418_87e6_11ea_9f0c_60f81dc8f27arow5_col2 {\n",
       "            text-align:  right;\n",
       "            background-color:  #fee5d9;\n",
       "            color:  #000000;\n",
       "        }    #T_5d270418_87e6_11ea_9f0c_60f81dc8f27arow5_col3 {\n",
       "            text-align:  right;\n",
       "            background-color:  #fee5d8;\n",
       "            color:  #000000;\n",
       "        }    #T_5d270418_87e6_11ea_9f0c_60f81dc8f27arow5_col4 {\n",
       "            text-align:  right;\n",
       "            background-color:  #fee5d8;\n",
       "            color:  #000000;\n",
       "        }    #T_5d270418_87e6_11ea_9f0c_60f81dc8f27arow6_col0 {\n",
       "            text-align:  right;\n",
       "        }    #T_5d270418_87e6_11ea_9f0c_60f81dc8f27arow6_col1 {\n",
       "            text-align:  right;\n",
       "            background-color:  #67000d;\n",
       "            color:  #f1f1f1;\n",
       "        }    #T_5d270418_87e6_11ea_9f0c_60f81dc8f27arow6_col2 {\n",
       "            text-align:  right;\n",
       "            background-color:  #fff4ef;\n",
       "            color:  #000000;\n",
       "        }    #T_5d270418_87e6_11ea_9f0c_60f81dc8f27arow6_col3 {\n",
       "            text-align:  right;\n",
       "            background-color:  #67000d;\n",
       "            color:  #f1f1f1;\n",
       "        }    #T_5d270418_87e6_11ea_9f0c_60f81dc8f27arow6_col4 {\n",
       "            text-align:  right;\n",
       "            background-color:  #fcc4ad;\n",
       "            color:  #000000;\n",
       "        }    #T_5d270418_87e6_11ea_9f0c_60f81dc8f27arow7_col0 {\n",
       "            text-align:  right;\n",
       "        }    #T_5d270418_87e6_11ea_9f0c_60f81dc8f27arow7_col1 {\n",
       "            text-align:  right;\n",
       "            background-color:  #fff4ee;\n",
       "            color:  #000000;\n",
       "        }    #T_5d270418_87e6_11ea_9f0c_60f81dc8f27arow7_col2 {\n",
       "            text-align:  right;\n",
       "            background-color:  #fee0d2;\n",
       "            color:  #000000;\n",
       "        }    #T_5d270418_87e6_11ea_9f0c_60f81dc8f27arow7_col3 {\n",
       "            text-align:  right;\n",
       "            background-color:  #fff4ee;\n",
       "            color:  #000000;\n",
       "        }    #T_5d270418_87e6_11ea_9f0c_60f81dc8f27arow7_col4 {\n",
       "            text-align:  right;\n",
       "            background-color:  #fff2eb;\n",
       "            color:  #000000;\n",
       "        }    #T_5d270418_87e6_11ea_9f0c_60f81dc8f27arow8_col0 {\n",
       "            text-align:  right;\n",
       "        }    #T_5d270418_87e6_11ea_9f0c_60f81dc8f27arow8_col1 {\n",
       "            text-align:  right;\n",
       "            background-color:  #ffeee6;\n",
       "            color:  #000000;\n",
       "        }    #T_5d270418_87e6_11ea_9f0c_60f81dc8f27arow8_col2 {\n",
       "            text-align:  right;\n",
       "            background-color:  #fee4d8;\n",
       "            color:  #000000;\n",
       "        }    #T_5d270418_87e6_11ea_9f0c_60f81dc8f27arow8_col3 {\n",
       "            text-align:  right;\n",
       "            background-color:  #fee1d4;\n",
       "            color:  #000000;\n",
       "        }    #T_5d270418_87e6_11ea_9f0c_60f81dc8f27arow8_col4 {\n",
       "            text-align:  right;\n",
       "            background-color:  #fdcab5;\n",
       "            color:  #000000;\n",
       "        }    #T_5d270418_87e6_11ea_9f0c_60f81dc8f27arow9_col0 {\n",
       "            text-align:  right;\n",
       "        }    #T_5d270418_87e6_11ea_9f0c_60f81dc8f27arow9_col1 {\n",
       "            text-align:  right;\n",
       "            background-color:  #fee5d9;\n",
       "            color:  #000000;\n",
       "        }    #T_5d270418_87e6_11ea_9f0c_60f81dc8f27arow9_col2 {\n",
       "            text-align:  right;\n",
       "            background-color:  #67000d;\n",
       "            color:  #f1f1f1;\n",
       "        }    #T_5d270418_87e6_11ea_9f0c_60f81dc8f27arow9_col3 {\n",
       "            text-align:  right;\n",
       "            background-color:  #fed8c7;\n",
       "            color:  #000000;\n",
       "        }    #T_5d270418_87e6_11ea_9f0c_60f81dc8f27arow9_col4 {\n",
       "            text-align:  right;\n",
       "            background-color:  #f75b40;\n",
       "            color:  #000000;\n",
       "        }    #T_5d270418_87e6_11ea_9f0c_60f81dc8f27arow10_col0 {\n",
       "            text-align:  right;\n",
       "        }    #T_5d270418_87e6_11ea_9f0c_60f81dc8f27arow10_col1 {\n",
       "            text-align:  right;\n",
       "            background-color:  #fee6da;\n",
       "            color:  #000000;\n",
       "        }    #T_5d270418_87e6_11ea_9f0c_60f81dc8f27arow10_col2 {\n",
       "            text-align:  right;\n",
       "            background-color:  #feeae0;\n",
       "            color:  #000000;\n",
       "        }    #T_5d270418_87e6_11ea_9f0c_60f81dc8f27arow10_col3 {\n",
       "            text-align:  right;\n",
       "            background-color:  #feeae1;\n",
       "            color:  #000000;\n",
       "        }    #T_5d270418_87e6_11ea_9f0c_60f81dc8f27arow10_col4 {\n",
       "            text-align:  right;\n",
       "            background-color:  #fee8dd;\n",
       "            color:  #000000;\n",
       "        }    #T_5d270418_87e6_11ea_9f0c_60f81dc8f27arow11_col0 {\n",
       "            text-align:  right;\n",
       "        }    #T_5d270418_87e6_11ea_9f0c_60f81dc8f27arow11_col1 {\n",
       "            text-align:  right;\n",
       "            background-color:  #fdd5c4;\n",
       "            color:  #000000;\n",
       "        }    #T_5d270418_87e6_11ea_9f0c_60f81dc8f27arow11_col2 {\n",
       "            text-align:  right;\n",
       "            background-color:  #fcc1a8;\n",
       "            color:  #000000;\n",
       "        }    #T_5d270418_87e6_11ea_9f0c_60f81dc8f27arow11_col3 {\n",
       "            text-align:  right;\n",
       "            background-color:  #fca588;\n",
       "            color:  #000000;\n",
       "        }    #T_5d270418_87e6_11ea_9f0c_60f81dc8f27arow11_col4 {\n",
       "            text-align:  right;\n",
       "            background-color:  #f34c37;\n",
       "            color:  #000000;\n",
       "        }    #T_5d270418_87e6_11ea_9f0c_60f81dc8f27arow12_col0 {\n",
       "            text-align:  right;\n",
       "        }    #T_5d270418_87e6_11ea_9f0c_60f81dc8f27arow12_col1 {\n",
       "            text-align:  right;\n",
       "            background-color:  #fff2eb;\n",
       "            color:  #000000;\n",
       "        }    #T_5d270418_87e6_11ea_9f0c_60f81dc8f27arow12_col2 {\n",
       "            text-align:  right;\n",
       "            background-color:  #fff4ef;\n",
       "            color:  #000000;\n",
       "        }    #T_5d270418_87e6_11ea_9f0c_60f81dc8f27arow12_col3 {\n",
       "            text-align:  right;\n",
       "            background-color:  #fff0e8;\n",
       "            color:  #000000;\n",
       "        }    #T_5d270418_87e6_11ea_9f0c_60f81dc8f27arow12_col4 {\n",
       "            text-align:  right;\n",
       "            background-color:  #fedccd;\n",
       "            color:  #000000;\n",
       "        }    #T_5d270418_87e6_11ea_9f0c_60f81dc8f27arow13_col0 {\n",
       "            text-align:  right;\n",
       "        }    #T_5d270418_87e6_11ea_9f0c_60f81dc8f27arow13_col1 {\n",
       "            text-align:  right;\n",
       "            background-color:  #ffebe2;\n",
       "            color:  #000000;\n",
       "        }    #T_5d270418_87e6_11ea_9f0c_60f81dc8f27arow13_col2 {\n",
       "            text-align:  right;\n",
       "            background-color:  #fee6da;\n",
       "            color:  #000000;\n",
       "        }    #T_5d270418_87e6_11ea_9f0c_60f81dc8f27arow13_col3 {\n",
       "            text-align:  right;\n",
       "            background-color:  #fee7db;\n",
       "            color:  #000000;\n",
       "        }    #T_5d270418_87e6_11ea_9f0c_60f81dc8f27arow13_col4 {\n",
       "            text-align:  right;\n",
       "            background-color:  #fdd0bc;\n",
       "            color:  #000000;\n",
       "        }    #T_5d270418_87e6_11ea_9f0c_60f81dc8f27arow14_col0 {\n",
       "            text-align:  right;\n",
       "        }    #T_5d270418_87e6_11ea_9f0c_60f81dc8f27arow14_col1 {\n",
       "            text-align:  right;\n",
       "            background-color:  #fff5f0;\n",
       "            color:  #000000;\n",
       "        }    #T_5d270418_87e6_11ea_9f0c_60f81dc8f27arow14_col2 {\n",
       "            text-align:  right;\n",
       "            background-color:  #ffeee6;\n",
       "            color:  #000000;\n",
       "        }    #T_5d270418_87e6_11ea_9f0c_60f81dc8f27arow14_col3 {\n",
       "            text-align:  right;\n",
       "            background-color:  #fff5f0;\n",
       "            color:  #000000;\n",
       "        }    #T_5d270418_87e6_11ea_9f0c_60f81dc8f27arow14_col4 {\n",
       "            text-align:  right;\n",
       "            background-color:  #fff5f0;\n",
       "            color:  #000000;\n",
       "        }    #T_5d270418_87e6_11ea_9f0c_60f81dc8f27arow15_col0 {\n",
       "            text-align:  right;\n",
       "        }    #T_5d270418_87e6_11ea_9f0c_60f81dc8f27arow15_col1 {\n",
       "            text-align:  right;\n",
       "            background-color:  #fee7db;\n",
       "            color:  #000000;\n",
       "        }    #T_5d270418_87e6_11ea_9f0c_60f81dc8f27arow15_col2 {\n",
       "            text-align:  right;\n",
       "            background-color:  #fc9474;\n",
       "            color:  #000000;\n",
       "        }    #T_5d270418_87e6_11ea_9f0c_60f81dc8f27arow15_col3 {\n",
       "            text-align:  right;\n",
       "            background-color:  #fee5d8;\n",
       "            color:  #000000;\n",
       "        }    #T_5d270418_87e6_11ea_9f0c_60f81dc8f27arow15_col4 {\n",
       "            text-align:  right;\n",
       "            background-color:  #67000d;\n",
       "            color:  #f1f1f1;\n",
       "        }</style><table id=\"T_5d270418_87e6_11ea_9f0c_60f81dc8f27a\" ><caption>Estadísticas por región: Casos confirmados (CC) y fallecidos confirmados (FC)</caption><thead>    <tr>        <th class=\"col_heading level0 col0\" >Region</th>        <th class=\"col_heading level0 col1\" >CC</th>        <th class=\"col_heading level0 col2\" >CC por 100.000 hab.</th>        <th class=\"col_heading level0 col3\" >FC</th>        <th class=\"col_heading level0 col4\" >FC por 100.000 hab.</th>    </tr></thead><tbody>\n",
       "                <tr>\n",
       "                                <td id=\"T_5d270418_87e6_11ea_9f0c_60f81dc8f27arow0_col0\" class=\"data row0 col0\" >Arica y Parinacota</td>\n",
       "                        <td id=\"T_5d270418_87e6_11ea_9f0c_60f81dc8f27arow0_col1\" class=\"data row0 col1\" >252</td>\n",
       "                        <td id=\"T_5d270418_87e6_11ea_9f0c_60f81dc8f27arow0_col2\" class=\"data row0 col2\" >64</td>\n",
       "                        <td id=\"T_5d270418_87e6_11ea_9f0c_60f81dc8f27arow0_col3\" class=\"data row0 col3\" >3</td>\n",
       "                        <td id=\"T_5d270418_87e6_11ea_9f0c_60f81dc8f27arow0_col4\" class=\"data row0 col4\" >1.2</td>\n",
       "            </tr>\n",
       "            <tr>\n",
       "                                <td id=\"T_5d270418_87e6_11ea_9f0c_60f81dc8f27arow1_col0\" class=\"data row1 col0\" >Tarapacá</td>\n",
       "                        <td id=\"T_5d270418_87e6_11ea_9f0c_60f81dc8f27arow1_col1\" class=\"data row1 col1\" >156</td>\n",
       "                        <td id=\"T_5d270418_87e6_11ea_9f0c_60f81dc8f27arow1_col2\" class=\"data row1 col2\" >119.9</td>\n",
       "                        <td id=\"T_5d270418_87e6_11ea_9f0c_60f81dc8f27arow1_col3\" class=\"data row1 col3\" >1</td>\n",
       "                        <td id=\"T_5d270418_87e6_11ea_9f0c_60f81dc8f27arow1_col4\" class=\"data row1 col4\" >0.3</td>\n",
       "            </tr>\n",
       "            <tr>\n",
       "                                <td id=\"T_5d270418_87e6_11ea_9f0c_60f81dc8f27arow2_col0\" class=\"data row2 col0\" >Antofagasta</td>\n",
       "                        <td id=\"T_5d270418_87e6_11ea_9f0c_60f81dc8f27arow2_col1\" class=\"data row2 col1\" >443</td>\n",
       "                        <td id=\"T_5d270418_87e6_11ea_9f0c_60f81dc8f27arow2_col2\" class=\"data row2 col2\" >100</td>\n",
       "                        <td id=\"T_5d270418_87e6_11ea_9f0c_60f81dc8f27arow2_col3\" class=\"data row2 col3\" >4</td>\n",
       "                        <td id=\"T_5d270418_87e6_11ea_9f0c_60f81dc8f27arow2_col4\" class=\"data row2 col4\" >0.6</td>\n",
       "            </tr>\n",
       "            <tr>\n",
       "                                <td id=\"T_5d270418_87e6_11ea_9f0c_60f81dc8f27arow3_col0\" class=\"data row3 col0\" >Atacama</td>\n",
       "                        <td id=\"T_5d270418_87e6_11ea_9f0c_60f81dc8f27arow3_col1\" class=\"data row3 col1\" >29</td>\n",
       "                        <td id=\"T_5d270418_87e6_11ea_9f0c_60f81dc8f27arow3_col2\" class=\"data row3 col2\" >9.2</td>\n",
       "                        <td id=\"T_5d270418_87e6_11ea_9f0c_60f81dc8f27arow3_col3\" class=\"data row3 col3\" >0</td>\n",
       "                        <td id=\"T_5d270418_87e6_11ea_9f0c_60f81dc8f27arow3_col4\" class=\"data row3 col4\" >0</td>\n",
       "            </tr>\n",
       "            <tr>\n",
       "                                <td id=\"T_5d270418_87e6_11ea_9f0c_60f81dc8f27arow4_col0\" class=\"data row4 col0\" >Coquimbo</td>\n",
       "                        <td id=\"T_5d270418_87e6_11ea_9f0c_60f81dc8f27arow4_col1\" class=\"data row4 col1\" >73</td>\n",
       "                        <td id=\"T_5d270418_87e6_11ea_9f0c_60f81dc8f27arow4_col2\" class=\"data row4 col2\" >6.5</td>\n",
       "                        <td id=\"T_5d270418_87e6_11ea_9f0c_60f81dc8f27arow4_col3\" class=\"data row4 col3\" >0</td>\n",
       "                        <td id=\"T_5d270418_87e6_11ea_9f0c_60f81dc8f27arow4_col4\" class=\"data row4 col4\" >0</td>\n",
       "            </tr>\n",
       "            <tr>\n",
       "                                <td id=\"T_5d270418_87e6_11ea_9f0c_60f81dc8f27arow5_col0\" class=\"data row5 col0\" >Valparaíso</td>\n",
       "                        <td id=\"T_5d270418_87e6_11ea_9f0c_60f81dc8f27arow5_col1\" class=\"data row5 col1\" >460</td>\n",
       "                        <td id=\"T_5d270418_87e6_11ea_9f0c_60f81dc8f27arow5_col2\" class=\"data row5 col2\" >42.3</td>\n",
       "                        <td id=\"T_5d270418_87e6_11ea_9f0c_60f81dc8f27arow5_col3\" class=\"data row5 col3\" >9</td>\n",
       "                        <td id=\"T_5d270418_87e6_11ea_9f0c_60f81dc8f27arow5_col4\" class=\"data row5 col4\" >0.5</td>\n",
       "            </tr>\n",
       "            <tr>\n",
       "                                <td id=\"T_5d270418_87e6_11ea_9f0c_60f81dc8f27arow6_col0\" class=\"data row6 col0\" >Metropolitana</td>\n",
       "                        <td id=\"T_5d270418_87e6_11ea_9f0c_60f81dc8f27arow6_col1\" class=\"data row6 col1\" >7496</td>\n",
       "                        <td id=\"T_5d270418_87e6_11ea_9f0c_60f81dc8f27arow6_col2\" class=\"data row6 col2\" >8.7</td>\n",
       "                        <td id=\"T_5d270418_87e6_11ea_9f0c_60f81dc8f27arow6_col3\" class=\"data row6 col3\" >91</td>\n",
       "                        <td id=\"T_5d270418_87e6_11ea_9f0c_60f81dc8f27arow6_col4\" class=\"data row6 col4\" >1.1</td>\n",
       "            </tr>\n",
       "            <tr>\n",
       "                                <td id=\"T_5d270418_87e6_11ea_9f0c_60f81dc8f27arow7_col0\" class=\"data row7 col0\" >O’Higgins</td>\n",
       "                        <td id=\"T_5d270418_87e6_11ea_9f0c_60f81dc8f27arow7_col1\" class=\"data row7 col1\" >92</td>\n",
       "                        <td id=\"T_5d270418_87e6_11ea_9f0c_60f81dc8f27arow7_col2\" class=\"data row7 col2\" >53.1</td>\n",
       "                        <td id=\"T_5d270418_87e6_11ea_9f0c_60f81dc8f27arow7_col3\" class=\"data row7 col3\" >1</td>\n",
       "                        <td id=\"T_5d270418_87e6_11ea_9f0c_60f81dc8f27arow7_col4\" class=\"data row7 col4\" >0.1</td>\n",
       "            </tr>\n",
       "            <tr>\n",
       "                                <td id=\"T_5d270418_87e6_11ea_9f0c_60f81dc8f27arow8_col0\" class=\"data row8 col0\" >Maule</td>\n",
       "                        <td id=\"T_5d270418_87e6_11ea_9f0c_60f81dc8f27arow8_col1\" class=\"data row8 col1\" >354</td>\n",
       "                        <td id=\"T_5d270418_87e6_11ea_9f0c_60f81dc8f27arow8_col2\" class=\"data row8 col2\" >43.9</td>\n",
       "                        <td id=\"T_5d270418_87e6_11ea_9f0c_60f81dc8f27arow8_col3\" class=\"data row8 col3\" >11</td>\n",
       "                        <td id=\"T_5d270418_87e6_11ea_9f0c_60f81dc8f27arow8_col4\" class=\"data row8 col4\" >1</td>\n",
       "            </tr>\n",
       "            <tr>\n",
       "                                <td id=\"T_5d270418_87e6_11ea_9f0c_60f81dc8f27arow9_col0\" class=\"data row9 col0\" >Ñuble</td>\n",
       "                        <td id=\"T_5d270418_87e6_11ea_9f0c_60f81dc8f27arow9_col1\" class=\"data row9 col1\" >731</td>\n",
       "                        <td id=\"T_5d270418_87e6_11ea_9f0c_60f81dc8f27arow9_col2\" class=\"data row9 col2\" >374.5</td>\n",
       "                        <td id=\"T_5d270418_87e6_11ea_9f0c_60f81dc8f27arow9_col3\" class=\"data row9 col3\" >14</td>\n",
       "                        <td id=\"T_5d270418_87e6_11ea_9f0c_60f81dc8f27arow9_col4\" class=\"data row9 col4\" >2.7</td>\n",
       "            </tr>\n",
       "            <tr>\n",
       "                                <td id=\"T_5d270418_87e6_11ea_9f0c_60f81dc8f27arow10_col0\" class=\"data row10 col0\" >Biobío</td>\n",
       "                        <td id=\"T_5d270418_87e6_11ea_9f0c_60f81dc8f27arow10_col1\" class=\"data row10 col1\" >703</td>\n",
       "                        <td id=\"T_5d270418_87e6_11ea_9f0c_60f81dc8f27arow10_col2\" class=\"data row10 col2\" >31.3</td>\n",
       "                        <td id=\"T_5d270418_87e6_11ea_9f0c_60f81dc8f27arow10_col3\" class=\"data row10 col3\" >6</td>\n",
       "                        <td id=\"T_5d270418_87e6_11ea_9f0c_60f81dc8f27arow10_col4\" class=\"data row10 col4\" >0.4</td>\n",
       "            </tr>\n",
       "            <tr>\n",
       "                                <td id=\"T_5d270418_87e6_11ea_9f0c_60f81dc8f27arow11_col0\" class=\"data row11 col0\" >Araucanía</td>\n",
       "                        <td id=\"T_5d270418_87e6_11ea_9f0c_60f81dc8f27arow11_col1\" class=\"data row11 col1\" >1216</td>\n",
       "                        <td id=\"T_5d270418_87e6_11ea_9f0c_60f81dc8f27arow11_col2\" class=\"data row11 col2\" >92.3</td>\n",
       "                        <td id=\"T_5d270418_87e6_11ea_9f0c_60f81dc8f27arow11_col3\" class=\"data row11 col3\" >29</td>\n",
       "                        <td id=\"T_5d270418_87e6_11ea_9f0c_60f81dc8f27arow11_col4\" class=\"data row11 col4\" >2.9</td>\n",
       "            </tr>\n",
       "            <tr>\n",
       "                                <td id=\"T_5d270418_87e6_11ea_9f0c_60f81dc8f27arow12_col0\" class=\"data row12 col0\" >Los Ríos</td>\n",
       "                        <td id=\"T_5d270418_87e6_11ea_9f0c_60f81dc8f27arow12_col1\" class=\"data row12 col1\" >178</td>\n",
       "                        <td id=\"T_5d270418_87e6_11ea_9f0c_60f81dc8f27arow12_col2\" class=\"data row12 col2\" >9.3</td>\n",
       "                        <td id=\"T_5d270418_87e6_11ea_9f0c_60f81dc8f27arow12_col3\" class=\"data row12 col3\" >3</td>\n",
       "                        <td id=\"T_5d270418_87e6_11ea_9f0c_60f81dc8f27arow12_col4\" class=\"data row12 col4\" >0.7</td>\n",
       "            </tr>\n",
       "            <tr>\n",
       "                                <td id=\"T_5d270418_87e6_11ea_9f0c_60f81dc8f27arow13_col0\" class=\"data row13 col0\" >Los Lagos</td>\n",
       "                        <td id=\"T_5d270418_87e6_11ea_9f0c_60f81dc8f27arow13_col1\" class=\"data row13 col1\" >473</td>\n",
       "                        <td id=\"T_5d270418_87e6_11ea_9f0c_60f81dc8f27arow13_col2\" class=\"data row13 col2\" >40.8</td>\n",
       "                        <td id=\"T_5d270418_87e6_11ea_9f0c_60f81dc8f27arow13_col3\" class=\"data row13 col3\" >8</td>\n",
       "                        <td id=\"T_5d270418_87e6_11ea_9f0c_60f81dc8f27arow13_col4\" class=\"data row13 col4\" >0.9</td>\n",
       "            </tr>\n",
       "            <tr>\n",
       "                                <td id=\"T_5d270418_87e6_11ea_9f0c_60f81dc8f27arow14_col0\" class=\"data row14 col0\" >Aysén</td>\n",
       "                        <td id=\"T_5d270418_87e6_11ea_9f0c_60f81dc8f27arow14_col1\" class=\"data row14 col1\" >7</td>\n",
       "                        <td id=\"T_5d270418_87e6_11ea_9f0c_60f81dc8f27arow14_col2\" class=\"data row14 col2\" >23.5</td>\n",
       "                        <td id=\"T_5d270418_87e6_11ea_9f0c_60f81dc8f27arow14_col3\" class=\"data row14 col3\" >0</td>\n",
       "                        <td id=\"T_5d270418_87e6_11ea_9f0c_60f81dc8f27arow14_col4\" class=\"data row14 col4\" >0</td>\n",
       "            </tr>\n",
       "            <tr>\n",
       "                                <td id=\"T_5d270418_87e6_11ea_9f0c_60f81dc8f27arow15_col0\" class=\"data row15 col0\" >Magallanes</td>\n",
       "                        <td id=\"T_5d270418_87e6_11ea_9f0c_60f81dc8f27arow15_col1\" class=\"data row15 col1\" >668</td>\n",
       "                        <td id=\"T_5d270418_87e6_11ea_9f0c_60f81dc8f27arow15_col2\" class=\"data row15 col2\" >142.9</td>\n",
       "                        <td id=\"T_5d270418_87e6_11ea_9f0c_60f81dc8f27arow15_col3\" class=\"data row15 col3\" >9</td>\n",
       "                        <td id=\"T_5d270418_87e6_11ea_9f0c_60f81dc8f27arow15_col4\" class=\"data row15 col4\" >5</td>\n",
       "            </tr>\n",
       "    </tbody></table>"
      ],
      "text/plain": [
       "<pandas.io.formats.style.Styler at 0x11d61b650>"
      ]
     },
     "execution_count": 21,
     "metadata": {},
     "output_type": "execute_result"
    }
   ],
   "source": [
    "#hide_input\n",
    "(data_table.style.set_properties(**{'text-align': 'right'}).background_gradient(cmap='Reds').hide_index()).set_caption('Estadísticas por región: Casos confirmados (CC) y fallecidos confirmados (FC)')"
   ]
  },
  {
   "cell_type": "code",
   "execution_count": 22,
   "metadata": {},
   "outputs": [
    {
     "data": {
      "text/html": [
       "<style  type=\"text/css\" >\n",
       "    #T_5e2b47e8_87e6_11ea_9f0c_60f81dc8f27arow0_col0 {\n",
       "            text-align:  right;\n",
       "        }    #T_5e2b47e8_87e6_11ea_9f0c_60f81dc8f27arow0_col1 {\n",
       "            text-align:  right;\n",
       "            background-color:  #f4f9fe;\n",
       "            color:  #000000;\n",
       "        }    #T_5e2b47e8_87e6_11ea_9f0c_60f81dc8f27arow0_col2 {\n",
       "            text-align:  right;\n",
       "            background-color:  #3383be;\n",
       "            color:  #000000;\n",
       "        }    #T_5e2b47e8_87e6_11ea_9f0c_60f81dc8f27arow1_col0 {\n",
       "            text-align:  right;\n",
       "        }    #T_5e2b47e8_87e6_11ea_9f0c_60f81dc8f27arow1_col1 {\n",
       "            text-align:  right;\n",
       "            background-color:  #f6faff;\n",
       "            color:  #000000;\n",
       "        }    #T_5e2b47e8_87e6_11ea_9f0c_60f81dc8f27arow1_col2 {\n",
       "            text-align:  right;\n",
       "            background-color:  #d4e4f4;\n",
       "            color:  #000000;\n",
       "        }    #T_5e2b47e8_87e6_11ea_9f0c_60f81dc8f27arow2_col0 {\n",
       "            text-align:  right;\n",
       "        }    #T_5e2b47e8_87e6_11ea_9f0c_60f81dc8f27arow2_col1 {\n",
       "            text-align:  right;\n",
       "            background-color:  #eff6fc;\n",
       "            color:  #000000;\n",
       "        }    #T_5e2b47e8_87e6_11ea_9f0c_60f81dc8f27arow2_col2 {\n",
       "            text-align:  right;\n",
       "            background-color:  #68acd5;\n",
       "            color:  #000000;\n",
       "        }    #T_5e2b47e8_87e6_11ea_9f0c_60f81dc8f27arow3_col0 {\n",
       "            text-align:  right;\n",
       "        }    #T_5e2b47e8_87e6_11ea_9f0c_60f81dc8f27arow3_col1 {\n",
       "            text-align:  right;\n",
       "            background-color:  #f5fafe;\n",
       "            color:  #000000;\n",
       "        }    #T_5e2b47e8_87e6_11ea_9f0c_60f81dc8f27arow3_col2 {\n",
       "            text-align:  right;\n",
       "            background-color:  #b7d4ea;\n",
       "            color:  #000000;\n",
       "        }    #T_5e2b47e8_87e6_11ea_9f0c_60f81dc8f27arow4_col0 {\n",
       "            text-align:  right;\n",
       "        }    #T_5e2b47e8_87e6_11ea_9f0c_60f81dc8f27arow4_col1 {\n",
       "            text-align:  right;\n",
       "            background-color:  #f7fbff;\n",
       "            color:  #000000;\n",
       "        }    #T_5e2b47e8_87e6_11ea_9f0c_60f81dc8f27arow4_col2 {\n",
       "            text-align:  right;\n",
       "            background-color:  #f7fbff;\n",
       "            color:  #000000;\n",
       "        }    #T_5e2b47e8_87e6_11ea_9f0c_60f81dc8f27arow5_col0 {\n",
       "            text-align:  right;\n",
       "        }    #T_5e2b47e8_87e6_11ea_9f0c_60f81dc8f27arow5_col1 {\n",
       "            text-align:  right;\n",
       "            background-color:  #eaf2fb;\n",
       "            color:  #000000;\n",
       "        }    #T_5e2b47e8_87e6_11ea_9f0c_60f81dc8f27arow5_col2 {\n",
       "            text-align:  right;\n",
       "            background-color:  #c1d9ed;\n",
       "            color:  #000000;\n",
       "        }    #T_5e2b47e8_87e6_11ea_9f0c_60f81dc8f27arow6_col0 {\n",
       "            text-align:  right;\n",
       "        }    #T_5e2b47e8_87e6_11ea_9f0c_60f81dc8f27arow6_col1 {\n",
       "            text-align:  right;\n",
       "            background-color:  #08306b;\n",
       "            color:  #f1f1f1;\n",
       "        }    #T_5e2b47e8_87e6_11ea_9f0c_60f81dc8f27arow6_col2 {\n",
       "            text-align:  right;\n",
       "            background-color:  #08306b;\n",
       "            color:  #f1f1f1;\n",
       "        }    #T_5e2b47e8_87e6_11ea_9f0c_60f81dc8f27arow7_col0 {\n",
       "            text-align:  right;\n",
       "        }    #T_5e2b47e8_87e6_11ea_9f0c_60f81dc8f27arow7_col1 {\n",
       "            text-align:  right;\n",
       "            background-color:  #f5fafe;\n",
       "            color:  #000000;\n",
       "        }    #T_5e2b47e8_87e6_11ea_9f0c_60f81dc8f27arow7_col2 {\n",
       "            text-align:  right;\n",
       "            background-color:  #e6f0f9;\n",
       "            color:  #000000;\n",
       "        }    #T_5e2b47e8_87e6_11ea_9f0c_60f81dc8f27arow8_col0 {\n",
       "            text-align:  right;\n",
       "        }    #T_5e2b47e8_87e6_11ea_9f0c_60f81dc8f27arow8_col1 {\n",
       "            text-align:  right;\n",
       "            background-color:  #e7f0fa;\n",
       "            color:  #000000;\n",
       "        }    #T_5e2b47e8_87e6_11ea_9f0c_60f81dc8f27arow8_col2 {\n",
       "            text-align:  right;\n",
       "            background-color:  #4493c7;\n",
       "            color:  #000000;\n",
       "        }    #T_5e2b47e8_87e6_11ea_9f0c_60f81dc8f27arow9_col0 {\n",
       "            text-align:  right;\n",
       "        }    #T_5e2b47e8_87e6_11ea_9f0c_60f81dc8f27arow9_col1 {\n",
       "            text-align:  right;\n",
       "            background-color:  #f0f6fd;\n",
       "            color:  #000000;\n",
       "        }    #T_5e2b47e8_87e6_11ea_9f0c_60f81dc8f27arow9_col2 {\n",
       "            text-align:  right;\n",
       "            background-color:  #4191c6;\n",
       "            color:  #000000;\n",
       "        }    #T_5e2b47e8_87e6_11ea_9f0c_60f81dc8f27arow10_col0 {\n",
       "            text-align:  right;\n",
       "        }    #T_5e2b47e8_87e6_11ea_9f0c_60f81dc8f27arow10_col1 {\n",
       "            text-align:  right;\n",
       "            background-color:  #e4eff9;\n",
       "            color:  #000000;\n",
       "        }    #T_5e2b47e8_87e6_11ea_9f0c_60f81dc8f27arow10_col2 {\n",
       "            text-align:  right;\n",
       "            background-color:  #7cb7da;\n",
       "            color:  #000000;\n",
       "        }    #T_5e2b47e8_87e6_11ea_9f0c_60f81dc8f27arow11_col0 {\n",
       "            text-align:  right;\n",
       "        }    #T_5e2b47e8_87e6_11ea_9f0c_60f81dc8f27arow11_col1 {\n",
       "            text-align:  right;\n",
       "            background-color:  #eaf3fb;\n",
       "            color:  #000000;\n",
       "        }    #T_5e2b47e8_87e6_11ea_9f0c_60f81dc8f27arow11_col2 {\n",
       "            text-align:  right;\n",
       "            background-color:  #68acd5;\n",
       "            color:  #000000;\n",
       "        }    #T_5e2b47e8_87e6_11ea_9f0c_60f81dc8f27arow12_col0 {\n",
       "            text-align:  right;\n",
       "        }    #T_5e2b47e8_87e6_11ea_9f0c_60f81dc8f27arow12_col1 {\n",
       "            text-align:  right;\n",
       "            background-color:  #f5f9fe;\n",
       "            color:  #000000;\n",
       "        }    #T_5e2b47e8_87e6_11ea_9f0c_60f81dc8f27arow12_col2 {\n",
       "            text-align:  right;\n",
       "            background-color:  #b3d3e8;\n",
       "            color:  #000000;\n",
       "        }    #T_5e2b47e8_87e6_11ea_9f0c_60f81dc8f27arow13_col0 {\n",
       "            text-align:  right;\n",
       "        }    #T_5e2b47e8_87e6_11ea_9f0c_60f81dc8f27arow13_col1 {\n",
       "            text-align:  right;\n",
       "            background-color:  #ebf3fb;\n",
       "            color:  #000000;\n",
       "        }    #T_5e2b47e8_87e6_11ea_9f0c_60f81dc8f27arow13_col2 {\n",
       "            text-align:  right;\n",
       "            background-color:  #56a0ce;\n",
       "            color:  #000000;\n",
       "        }    #T_5e2b47e8_87e6_11ea_9f0c_60f81dc8f27arow14_col0 {\n",
       "            text-align:  right;\n",
       "        }    #T_5e2b47e8_87e6_11ea_9f0c_60f81dc8f27arow14_col1 {\n",
       "            text-align:  right;\n",
       "            background-color:  #f7fbff;\n",
       "            color:  #000000;\n",
       "        }    #T_5e2b47e8_87e6_11ea_9f0c_60f81dc8f27arow14_col2 {\n",
       "            text-align:  right;\n",
       "            background-color:  #cadef0;\n",
       "            color:  #000000;\n",
       "        }    #T_5e2b47e8_87e6_11ea_9f0c_60f81dc8f27arow15_col0 {\n",
       "            text-align:  right;\n",
       "        }    #T_5e2b47e8_87e6_11ea_9f0c_60f81dc8f27arow15_col1 {\n",
       "            text-align:  right;\n",
       "            background-color:  #f5f9fe;\n",
       "            color:  #000000;\n",
       "        }    #T_5e2b47e8_87e6_11ea_9f0c_60f81dc8f27arow15_col2 {\n",
       "            text-align:  right;\n",
       "            background-color:  #1d6cb1;\n",
       "            color:  #f1f1f1;\n",
       "        }</style><table id=\"T_5e2b47e8_87e6_11ea_9f0c_60f81dc8f27a\" ><caption>Estadísticas por región: Exámenes informados desde el 9 de abril</caption><thead>    <tr>        <th class=\"col_heading level0 col0\" >Región</th>        <th class=\"col_heading level0 col1\" >Exámenes informados</th>        <th class=\"col_heading level0 col2\" >Exámenes informados por 100.000 habs.</th>    </tr></thead><tbody>\n",
       "                <tr>\n",
       "                                <td id=\"T_5e2b47e8_87e6_11ea_9f0c_60f81dc8f27arow0_col0\" class=\"data row0 col0\" >Arica y Parinacota</td>\n",
       "                        <td id=\"T_5e2b47e8_87e6_11ea_9f0c_60f81dc8f27arow0_col1\" class=\"data row0 col1\" >1306</td>\n",
       "                        <td id=\"T_5e2b47e8_87e6_11ea_9f0c_60f81dc8f27arow0_col2\" class=\"data row0 col2\" >518</td>\n",
       "            </tr>\n",
       "            <tr>\n",
       "                                <td id=\"T_5e2b47e8_87e6_11ea_9f0c_60f81dc8f27arow1_col0\" class=\"data row1 col0\" >Tarapacá</td>\n",
       "                        <td id=\"T_5e2b47e8_87e6_11ea_9f0c_60f81dc8f27arow1_col1\" class=\"data row1 col1\" >589</td>\n",
       "                        <td id=\"T_5e2b47e8_87e6_11ea_9f0c_60f81dc8f27arow1_col2\" class=\"data row1 col2\" >153.9</td>\n",
       "            </tr>\n",
       "            <tr>\n",
       "                                <td id=\"T_5e2b47e8_87e6_11ea_9f0c_60f81dc8f27arow2_col0\" class=\"data row2 col0\" >Antofagasta</td>\n",
       "                        <td id=\"T_5e2b47e8_87e6_11ea_9f0c_60f81dc8f27arow2_col1\" class=\"data row2 col1\" >2737</td>\n",
       "                        <td id=\"T_5e2b47e8_87e6_11ea_9f0c_60f81dc8f27arow2_col2\" class=\"data row2 col2\" >395.6</td>\n",
       "            </tr>\n",
       "            <tr>\n",
       "                                <td id=\"T_5e2b47e8_87e6_11ea_9f0c_60f81dc8f27arow3_col0\" class=\"data row3 col0\" >Atacama</td>\n",
       "                        <td id=\"T_5e2b47e8_87e6_11ea_9f0c_60f81dc8f27arow3_col1\" class=\"data row3 col1\" >758</td>\n",
       "                        <td id=\"T_5e2b47e8_87e6_11ea_9f0c_60f81dc8f27arow3_col2\" class=\"data row3 col2\" >240.9</td>\n",
       "            </tr>\n",
       "            <tr>\n",
       "                                <td id=\"T_5e2b47e8_87e6_11ea_9f0c_60f81dc8f27arow4_col0\" class=\"data row4 col0\" >Coquimbo</td>\n",
       "                        <td id=\"T_5e2b47e8_87e6_11ea_9f0c_60f81dc8f27arow4_col1\" class=\"data row4 col1\" >213</td>\n",
       "                        <td id=\"T_5e2b47e8_87e6_11ea_9f0c_60f81dc8f27arow4_col2\" class=\"data row4 col2\" >25.5</td>\n",
       "            </tr>\n",
       "            <tr>\n",
       "                                <td id=\"T_5e2b47e8_87e6_11ea_9f0c_60f81dc8f27arow5_col0\" class=\"data row5 col0\" >Valparaíso</td>\n",
       "                        <td id=\"T_5e2b47e8_87e6_11ea_9f0c_60f81dc8f27arow5_col1\" class=\"data row5 col1\" >4307</td>\n",
       "                        <td id=\"T_5e2b47e8_87e6_11ea_9f0c_60f81dc8f27arow5_col2\" class=\"data row5 col2\" >219.7</td>\n",
       "            </tr>\n",
       "            <tr>\n",
       "                                <td id=\"T_5e2b47e8_87e6_11ea_9f0c_60f81dc8f27arow6_col0\" class=\"data row6 col0\" >Metropolitana</td>\n",
       "                        <td id=\"T_5e2b47e8_87e6_11ea_9f0c_60f81dc8f27arow6_col1\" class=\"data row6 col1\" >60903</td>\n",
       "                        <td id=\"T_5e2b47e8_87e6_11ea_9f0c_60f81dc8f27arow6_col2\" class=\"data row6 col2\" >749.6</td>\n",
       "            </tr>\n",
       "            <tr>\n",
       "                                <td id=\"T_5e2b47e8_87e6_11ea_9f0c_60f81dc8f27arow7_col0\" class=\"data row7 col0\" >O’Higgins</td>\n",
       "                        <td id=\"T_5e2b47e8_87e6_11ea_9f0c_60f81dc8f27arow7_col1\" class=\"data row7 col1\" >880</td>\n",
       "                        <td id=\"T_5e2b47e8_87e6_11ea_9f0c_60f81dc8f27arow7_col2\" class=\"data row7 col2\" >88.8</td>\n",
       "            </tr>\n",
       "            <tr>\n",
       "                                <td id=\"T_5e2b47e8_87e6_11ea_9f0c_60f81dc8f27arow8_col0\" class=\"data row8 col0\" >Maule</td>\n",
       "                        <td id=\"T_5e2b47e8_87e6_11ea_9f0c_60f81dc8f27arow8_col1\" class=\"data row8 col1\" >5361</td>\n",
       "                        <td id=\"T_5e2b47e8_87e6_11ea_9f0c_60f81dc8f27arow8_col2\" class=\"data row8 col2\" >473.6</td>\n",
       "            </tr>\n",
       "            <tr>\n",
       "                                <td id=\"T_5e2b47e8_87e6_11ea_9f0c_60f81dc8f27arow9_col0\" class=\"data row9 col0\" >Ñuble</td>\n",
       "                        <td id=\"T_5e2b47e8_87e6_11ea_9f0c_60f81dc8f27arow9_col1\" class=\"data row9 col1\" >2459</td>\n",
       "                        <td id=\"T_5e2b47e8_87e6_11ea_9f0c_60f81dc8f27arow9_col2\" class=\"data row9 col2\" >480.7</td>\n",
       "            </tr>\n",
       "            <tr>\n",
       "                                <td id=\"T_5e2b47e8_87e6_11ea_9f0c_60f81dc8f27arow10_col0\" class=\"data row10 col0\" >Biobío</td>\n",
       "                        <td id=\"T_5e2b47e8_87e6_11ea_9f0c_60f81dc8f27arow10_col1\" class=\"data row10 col1\" >5961</td>\n",
       "                        <td id=\"T_5e2b47e8_87e6_11ea_9f0c_60f81dc8f27arow10_col2\" class=\"data row10 col2\" >358.3</td>\n",
       "            </tr>\n",
       "            <tr>\n",
       "                                <td id=\"T_5e2b47e8_87e6_11ea_9f0c_60f81dc8f27arow11_col0\" class=\"data row11 col0\" >Araucanía</td>\n",
       "                        <td id=\"T_5e2b47e8_87e6_11ea_9f0c_60f81dc8f27arow11_col1\" class=\"data row11 col1\" >4000</td>\n",
       "                        <td id=\"T_5e2b47e8_87e6_11ea_9f0c_60f81dc8f27arow11_col2\" class=\"data row11 col2\" >394.3</td>\n",
       "            </tr>\n",
       "            <tr>\n",
       "                                <td id=\"T_5e2b47e8_87e6_11ea_9f0c_60f81dc8f27arow12_col0\" class=\"data row12 col0\" >Los Ríos</td>\n",
       "                        <td id=\"T_5e2b47e8_87e6_11ea_9f0c_60f81dc8f27arow12_col1\" class=\"data row12 col1\" >1013</td>\n",
       "                        <td id=\"T_5e2b47e8_87e6_11ea_9f0c_60f81dc8f27arow12_col2\" class=\"data row12 col2\" >249.6</td>\n",
       "            </tr>\n",
       "            <tr>\n",
       "                                <td id=\"T_5e2b47e8_87e6_11ea_9f0c_60f81dc8f27arow13_col0\" class=\"data row13 col0\" >Los Lagos</td>\n",
       "                        <td id=\"T_5e2b47e8_87e6_11ea_9f0c_60f81dc8f27arow13_col1\" class=\"data row13 col1\" >3872</td>\n",
       "                        <td id=\"T_5e2b47e8_87e6_11ea_9f0c_60f81dc8f27arow13_col2\" class=\"data row13 col2\" >434.4</td>\n",
       "            </tr>\n",
       "            <tr>\n",
       "                                <td id=\"T_5e2b47e8_87e6_11ea_9f0c_60f81dc8f27arow14_col0\" class=\"data row14 col0\" >Aysén</td>\n",
       "                        <td id=\"T_5e2b47e8_87e6_11ea_9f0c_60f81dc8f27arow14_col1\" class=\"data row14 col1\" >206</td>\n",
       "                        <td id=\"T_5e2b47e8_87e6_11ea_9f0c_60f81dc8f27arow14_col2\" class=\"data row14 col2\" >192</td>\n",
       "            </tr>\n",
       "            <tr>\n",
       "                                <td id=\"T_5e2b47e8_87e6_11ea_9f0c_60f81dc8f27arow15_col0\" class=\"data row15 col0\" >Magallanes</td>\n",
       "                        <td id=\"T_5e2b47e8_87e6_11ea_9f0c_60f81dc8f27arow15_col1\" class=\"data row15 col1\" >1035</td>\n",
       "                        <td id=\"T_5e2b47e8_87e6_11ea_9f0c_60f81dc8f27arow15_col2\" class=\"data row15 col2\" >580.3</td>\n",
       "            </tr>\n",
       "    </tbody></table>"
      ],
      "text/plain": [
       "<pandas.io.formats.style.Styler at 0x11d858ed0>"
      ]
     },
     "execution_count": 22,
     "metadata": {},
     "output_type": "execute_result"
    }
   ],
   "source": [
    "#hide_input\n",
    "(tests_table[:-1].style.set_properties(**{'text-align': 'right'}).background_gradient(cmap='Blues').hide_index()).set_caption('Estadísticas por región: Exámenes informados desde el 9 de abril')"
   ]
  },
  {
   "cell_type": "markdown",
   "metadata": {},
   "source": [
    "Nota: Los exámenes informados por región empezaron a informarse sólo desde el 9 de abril."
   ]
  },
  {
   "cell_type": "markdown",
   "metadata": {},
   "source": [
    "# Evolución de casos confirmados diarios"
   ]
  },
  {
   "cell_type": "code",
   "execution_count": 40,
   "metadata": {},
   "outputs": [],
   "source": [
    "#hide\n",
    "# Window size cases\n",
    "WS_cases = 7"
   ]
  },
  {
   "cell_type": "code",
   "execution_count": 41,
   "metadata": {},
   "outputs": [],
   "source": [
    "#hide\n",
    "casos_raw = pd.read_csv(\n",
    "    \"https://raw.githubusercontent.com/MinCiencia/Datos-COVID19/master/output/producto3/CasosTotalesCumulativo.csv\",\n",
    "    index_col='Region')"
   ]
  },
  {
   "cell_type": "code",
   "execution_count": 42,
   "metadata": {},
   "outputs": [],
   "source": [
    "#hide\n",
    "aux1 = casos_raw.loc[\"Total\"]\n",
    "aux2 = [t - s for s, t in zip(aux1, aux1.loc['2020-03-04':])]"
   ]
  },
  {
   "cell_type": "code",
   "execution_count": 43,
   "metadata": {},
   "outputs": [],
   "source": [
    "#hide\n",
    "new_cases = pd.DataFrame()\n",
    "new_cases[\"Dates\"] = casos_raw.loc[\"Total\"].reset_index()[\"index\"].iloc[1:].values\n",
    "new_cases[\"New_cases\"] = aux2\n",
    "new_cases[\"Rolling\"] = new_cases[\"New_cases\"].rolling(window=WS_cases).mean()\n",
    "new_cases[\"Casos confirmados diarios\"] = len(new_cases) * [\"Casos confirmados diarios\"]\n",
    "new_cases[\"Promedio móvil últimos 7 días\"] = len(new_cases) * [\"Promedio móvil últimos 7 días\"]"
   ]
  },
  {
   "cell_type": "code",
   "execution_count": 44,
   "metadata": {},
   "outputs": [
    {
     "data": {
      "text/html": [
       "\n",
       "<div id=\"altair-viz-fc1cf6ddb7a3402682e8ffcbffaf5bb9\"></div>\n",
       "<script type=\"text/javascript\">\n",
       "  (function(spec, embedOpt){\n",
       "    let outputDiv = document.currentScript.previousElementSibling;\n",
       "    if (outputDiv.id !== \"altair-viz-fc1cf6ddb7a3402682e8ffcbffaf5bb9\") {\n",
       "      outputDiv = document.getElementById(\"altair-viz-fc1cf6ddb7a3402682e8ffcbffaf5bb9\");\n",
       "    }\n",
       "    const paths = {\n",
       "      \"vega\": \"https://cdn.jsdelivr.net/npm//vega@5?noext\",\n",
       "      \"vega-lib\": \"https://cdn.jsdelivr.net/npm//vega-lib?noext\",\n",
       "      \"vega-lite\": \"https://cdn.jsdelivr.net/npm//vega-lite@4.8.1?noext\",\n",
       "      \"vega-embed\": \"https://cdn.jsdelivr.net/npm//vega-embed@6?noext\",\n",
       "    };\n",
       "\n",
       "    function loadScript(lib) {\n",
       "      return new Promise(function(resolve, reject) {\n",
       "        var s = document.createElement('script');\n",
       "        s.src = paths[lib];\n",
       "        s.async = true;\n",
       "        s.onload = () => resolve(paths[lib]);\n",
       "        s.onerror = () => reject(`Error loading script: ${paths[lib]}`);\n",
       "        document.getElementsByTagName(\"head\")[0].appendChild(s);\n",
       "      });\n",
       "    }\n",
       "\n",
       "    function showError(err) {\n",
       "      outputDiv.innerHTML = `<div class=\"error\" style=\"color:red;\">${err}</div>`;\n",
       "      throw err;\n",
       "    }\n",
       "\n",
       "    function displayChart(vegaEmbed) {\n",
       "      vegaEmbed(outputDiv, spec, embedOpt)\n",
       "        .catch(err => showError(`Javascript Error: ${err.message}<br>This usually means there's a typo in your chart specification. See the javascript console for the full traceback.`));\n",
       "    }\n",
       "\n",
       "    if(typeof define === \"function\" && define.amd) {\n",
       "      requirejs.config({paths});\n",
       "      require([\"vega-embed\"], displayChart, err => showError(`Error loading script: ${err.message}`));\n",
       "    } else if (typeof vegaEmbed === \"function\") {\n",
       "      displayChart(vegaEmbed);\n",
       "    } else {\n",
       "      loadScript(\"vega\")\n",
       "        .then(() => loadScript(\"vega-lite\"))\n",
       "        .then(() => loadScript(\"vega-embed\"))\n",
       "        .catch(showError)\n",
       "        .then(() => displayChart(vegaEmbed));\n",
       "    }\n",
       "  })({\"config\": {\"view\": {\"continuousWidth\": 400, \"continuousHeight\": 300}}, \"layer\": [{\"mark\": {\"type\": \"bar\", \"opacity\": 0.7}, \"encoding\": {\"opacity\": {\"type\": \"nominal\", \"field\": \"Casos confirmados diarios\", \"legend\": {\"title\": \"\"}}, \"tooltip\": [{\"type\": \"nominal\", \"field\": \"Dates\"}, {\"type\": \"quantitative\", \"field\": \"New_cases\"}], \"x\": {\"type\": \"nominal\", \"axis\": {\"title\": \"Fecha (a\\u00f1o-mes-d\\u00eda)\"}, \"field\": \"Dates\"}, \"y\": {\"type\": \"quantitative\", \"axis\": {\"title\": \"Casos confirmados diarios\"}, \"field\": \"New_cases\"}}}, {\"mark\": {\"type\": \"line\", \"color\": \"firebrick\", \"point\": {\"filled\": true, \"fill\": \"firebrick\"}}, \"encoding\": {\"shape\": {\"type\": \"nominal\", \"field\": \"Promedio m\\u00f3vil \\u00faltimos 7 d\\u00edas\", \"legend\": {\"title\": \"\"}}, \"x\": {\"type\": \"nominal\", \"axis\": {\"title\": \"Fecha (a\\u00f1o-mes-d\\u00eda)\"}, \"field\": \"Dates\"}, \"y\": {\"type\": \"quantitative\", \"field\": \"Rolling\"}}}], \"data\": {\"name\": \"data-244bfc47b07a014cf68fb39c889c45ed\"}, \"title\": \"Covid-19 en Chile: Casos confirmados diarios\", \"width\": 600, \"$schema\": \"https://vega.github.io/schema/vega-lite/v4.8.1.json\", \"datasets\": {\"data-244bfc47b07a014cf68fb39c889c45ed\": [{\"Dates\": \"2020-03-04\", \"New_cases\": 2, \"Rolling\": null, \"Casos confirmados diarios\": \"Casos confirmados diarios\", \"Promedio m\\u00f3vil \\u00faltimos 7 d\\u00edas\": \"Promedio m\\u00f3vil \\u00faltimos 7 d\\u00edas\"}, {\"Dates\": \"2020-03-05\", \"New_cases\": 1, \"Rolling\": null, \"Casos confirmados diarios\": \"Casos confirmados diarios\", \"Promedio m\\u00f3vil \\u00faltimos 7 d\\u00edas\": \"Promedio m\\u00f3vil \\u00faltimos 7 d\\u00edas\"}, {\"Dates\": \"2020-03-06\", \"New_cases\": 1, \"Rolling\": null, \"Casos confirmados diarios\": \"Casos confirmados diarios\", \"Promedio m\\u00f3vil \\u00faltimos 7 d\\u00edas\": \"Promedio m\\u00f3vil \\u00faltimos 7 d\\u00edas\"}, {\"Dates\": \"2020-03-07\", \"New_cases\": 2, \"Rolling\": null, \"Casos confirmados diarios\": \"Casos confirmados diarios\", \"Promedio m\\u00f3vil \\u00faltimos 7 d\\u00edas\": \"Promedio m\\u00f3vil \\u00faltimos 7 d\\u00edas\"}, {\"Dates\": \"2020-03-08\", \"New_cases\": 3, \"Rolling\": null, \"Casos confirmados diarios\": \"Casos confirmados diarios\", \"Promedio m\\u00f3vil \\u00faltimos 7 d\\u00edas\": \"Promedio m\\u00f3vil \\u00faltimos 7 d\\u00edas\"}, {\"Dates\": \"2020-03-09\", \"New_cases\": 5, \"Rolling\": null, \"Casos confirmados diarios\": \"Casos confirmados diarios\", \"Promedio m\\u00f3vil \\u00faltimos 7 d\\u00edas\": \"Promedio m\\u00f3vil \\u00faltimos 7 d\\u00edas\"}, {\"Dates\": \"2020-03-10\", \"New_cases\": 2, \"Rolling\": 2.2857142857142856, \"Casos confirmados diarios\": \"Casos confirmados diarios\", \"Promedio m\\u00f3vil \\u00faltimos 7 d\\u00edas\": \"Promedio m\\u00f3vil \\u00faltimos 7 d\\u00edas\"}, {\"Dates\": \"2020-03-11\", \"New_cases\": 6, \"Rolling\": 2.857142857142857, \"Casos confirmados diarios\": \"Casos confirmados diarios\", \"Promedio m\\u00f3vil \\u00faltimos 7 d\\u00edas\": \"Promedio m\\u00f3vil \\u00faltimos 7 d\\u00edas\"}, {\"Dates\": \"2020-03-12\", \"New_cases\": 10, \"Rolling\": 4.142857142857143, \"Casos confirmados diarios\": \"Casos confirmados diarios\", \"Promedio m\\u00f3vil \\u00faltimos 7 d\\u00edas\": \"Promedio m\\u00f3vil \\u00faltimos 7 d\\u00edas\"}, {\"Dates\": \"2020-03-13\", \"New_cases\": 10, \"Rolling\": 5.428571428571429, \"Casos confirmados diarios\": \"Casos confirmados diarios\", \"Promedio m\\u00f3vil \\u00faltimos 7 d\\u00edas\": \"Promedio m\\u00f3vil \\u00faltimos 7 d\\u00edas\"}, {\"Dates\": \"2020-03-14\", \"New_cases\": 18, \"Rolling\": 7.714285714285714, \"Casos confirmados diarios\": \"Casos confirmados diarios\", \"Promedio m\\u00f3vil \\u00faltimos 7 d\\u00edas\": \"Promedio m\\u00f3vil \\u00faltimos 7 d\\u00edas\"}, {\"Dates\": \"2020-03-15\", \"New_cases\": 14, \"Rolling\": 9.285714285714286, \"Casos confirmados diarios\": \"Casos confirmados diarios\", \"Promedio m\\u00f3vil \\u00faltimos 7 d\\u00edas\": \"Promedio m\\u00f3vil \\u00faltimos 7 d\\u00edas\"}, {\"Dates\": \"2020-03-16\", \"New_cases\": 81, \"Rolling\": 20.142857142857142, \"Casos confirmados diarios\": \"Casos confirmados diarios\", \"Promedio m\\u00f3vil \\u00faltimos 7 d\\u00edas\": \"Promedio m\\u00f3vil \\u00faltimos 7 d\\u00edas\"}, {\"Dates\": \"2020-03-17\", \"New_cases\": 45, \"Rolling\": 26.285714285714285, \"Casos confirmados diarios\": \"Casos confirmados diarios\", \"Promedio m\\u00f3vil \\u00faltimos 7 d\\u00edas\": \"Promedio m\\u00f3vil \\u00faltimos 7 d\\u00edas\"}, {\"Dates\": \"2020-03-18\", \"New_cases\": 37, \"Rolling\": 30.714285714285715, \"Casos confirmados diarios\": \"Casos confirmados diarios\", \"Promedio m\\u00f3vil \\u00faltimos 7 d\\u00edas\": \"Promedio m\\u00f3vil \\u00faltimos 7 d\\u00edas\"}, {\"Dates\": \"2020-03-19\", \"New_cases\": 104, \"Rolling\": 44.142857142857146, \"Casos confirmados diarios\": \"Casos confirmados diarios\", \"Promedio m\\u00f3vil \\u00faltimos 7 d\\u00edas\": \"Promedio m\\u00f3vil \\u00faltimos 7 d\\u00edas\"}, {\"Dates\": \"2020-03-20\", \"New_cases\": 92, \"Rolling\": 55.857142857142854, \"Casos confirmados diarios\": \"Casos confirmados diarios\", \"Promedio m\\u00f3vil \\u00faltimos 7 d\\u00edas\": \"Promedio m\\u00f3vil \\u00faltimos 7 d\\u00edas\"}, {\"Dates\": \"2020-03-21\", \"New_cases\": 103, \"Rolling\": 68.0, \"Casos confirmados diarios\": \"Casos confirmados diarios\", \"Promedio m\\u00f3vil \\u00faltimos 7 d\\u00edas\": \"Promedio m\\u00f3vil \\u00faltimos 7 d\\u00edas\"}, {\"Dates\": \"2020-03-22\", \"New_cases\": 95, \"Rolling\": 79.57142857142857, \"Casos confirmados diarios\": \"Casos confirmados diarios\", \"Promedio m\\u00f3vil \\u00faltimos 7 d\\u00edas\": \"Promedio m\\u00f3vil \\u00faltimos 7 d\\u00edas\"}, {\"Dates\": \"2020-03-23\", \"New_cases\": 114, \"Rolling\": 84.28571428571429, \"Casos confirmados diarios\": \"Casos confirmados diarios\", \"Promedio m\\u00f3vil \\u00faltimos 7 d\\u00edas\": \"Promedio m\\u00f3vil \\u00faltimos 7 d\\u00edas\"}, {\"Dates\": \"2020-03-24\", \"New_cases\": 176, \"Rolling\": 103.0, \"Casos confirmados diarios\": \"Casos confirmados diarios\", \"Promedio m\\u00f3vil \\u00faltimos 7 d\\u00edas\": \"Promedio m\\u00f3vil \\u00faltimos 7 d\\u00edas\"}, {\"Dates\": \"2020-03-25\", \"New_cases\": 220, \"Rolling\": 129.14285714285714, \"Casos confirmados diarios\": \"Casos confirmados diarios\", \"Promedio m\\u00f3vil \\u00faltimos 7 d\\u00edas\": \"Promedio m\\u00f3vil \\u00faltimos 7 d\\u00edas\"}, {\"Dates\": \"2020-03-26\", \"New_cases\": 164, \"Rolling\": 137.71428571428572, \"Casos confirmados diarios\": \"Casos confirmados diarios\", \"Promedio m\\u00f3vil \\u00faltimos 7 d\\u00edas\": \"Promedio m\\u00f3vil \\u00faltimos 7 d\\u00edas\"}, {\"Dates\": \"2020-03-27\", \"New_cases\": 304, \"Rolling\": 168.0, \"Casos confirmados diarios\": \"Casos confirmados diarios\", \"Promedio m\\u00f3vil \\u00faltimos 7 d\\u00edas\": \"Promedio m\\u00f3vil \\u00faltimos 7 d\\u00edas\"}, {\"Dates\": \"2020-03-28\", \"New_cases\": 299, \"Rolling\": 196.0, \"Casos confirmados diarios\": \"Casos confirmados diarios\", \"Promedio m\\u00f3vil \\u00faltimos 7 d\\u00edas\": \"Promedio m\\u00f3vil \\u00faltimos 7 d\\u00edas\"}, {\"Dates\": \"2020-03-29\", \"New_cases\": 230, \"Rolling\": 215.28571428571428, \"Casos confirmados diarios\": \"Casos confirmados diarios\", \"Promedio m\\u00f3vil \\u00faltimos 7 d\\u00edas\": \"Promedio m\\u00f3vil \\u00faltimos 7 d\\u00edas\"}, {\"Dates\": \"2020-03-30\", \"New_cases\": 310, \"Rolling\": 243.28571428571428, \"Casos confirmados diarios\": \"Casos confirmados diarios\", \"Promedio m\\u00f3vil \\u00faltimos 7 d\\u00edas\": \"Promedio m\\u00f3vil \\u00faltimos 7 d\\u00edas\"}, {\"Dates\": \"2020-03-31\", \"New_cases\": 289, \"Rolling\": 259.42857142857144, \"Casos confirmados diarios\": \"Casos confirmados diarios\", \"Promedio m\\u00f3vil \\u00faltimos 7 d\\u00edas\": \"Promedio m\\u00f3vil \\u00faltimos 7 d\\u00edas\"}, {\"Dates\": \"2020-04-01\", \"New_cases\": 293, \"Rolling\": 269.85714285714283, \"Casos confirmados diarios\": \"Casos confirmados diarios\", \"Promedio m\\u00f3vil \\u00faltimos 7 d\\u00edas\": \"Promedio m\\u00f3vil \\u00faltimos 7 d\\u00edas\"}, {\"Dates\": \"2020-04-02\", \"New_cases\": 373, \"Rolling\": 299.7142857142857, \"Casos confirmados diarios\": \"Casos confirmados diarios\", \"Promedio m\\u00f3vil \\u00faltimos 7 d\\u00edas\": \"Promedio m\\u00f3vil \\u00faltimos 7 d\\u00edas\"}, {\"Dates\": \"2020-04-03\", \"New_cases\": 333, \"Rolling\": 303.85714285714283, \"Casos confirmados diarios\": \"Casos confirmados diarios\", \"Promedio m\\u00f3vil \\u00faltimos 7 d\\u00edas\": \"Promedio m\\u00f3vil \\u00faltimos 7 d\\u00edas\"}, {\"Dates\": \"2020-04-04\", \"New_cases\": 424, \"Rolling\": 321.7142857142857, \"Casos confirmados diarios\": \"Casos confirmados diarios\", \"Promedio m\\u00f3vil \\u00faltimos 7 d\\u00edas\": \"Promedio m\\u00f3vil \\u00faltimos 7 d\\u00edas\"}, {\"Dates\": \"2020-04-05\", \"New_cases\": 310, \"Rolling\": 333.14285714285717, \"Casos confirmados diarios\": \"Casos confirmados diarios\", \"Promedio m\\u00f3vil \\u00faltimos 7 d\\u00edas\": \"Promedio m\\u00f3vil \\u00faltimos 7 d\\u00edas\"}, {\"Dates\": \"2020-04-06\", \"New_cases\": 344, \"Rolling\": 338.0, \"Casos confirmados diarios\": \"Casos confirmados diarios\", \"Promedio m\\u00f3vil \\u00faltimos 7 d\\u00edas\": \"Promedio m\\u00f3vil \\u00faltimos 7 d\\u00edas\"}, {\"Dates\": \"2020-04-07\", \"New_cases\": 301, \"Rolling\": 339.7142857142857, \"Casos confirmados diarios\": \"Casos confirmados diarios\", \"Promedio m\\u00f3vil \\u00faltimos 7 d\\u00edas\": \"Promedio m\\u00f3vil \\u00faltimos 7 d\\u00edas\"}, {\"Dates\": \"2020-04-08\", \"New_cases\": 430, \"Rolling\": 359.2857142857143, \"Casos confirmados diarios\": \"Casos confirmados diarios\", \"Promedio m\\u00f3vil \\u00faltimos 7 d\\u00edas\": \"Promedio m\\u00f3vil \\u00faltimos 7 d\\u00edas\"}, {\"Dates\": \"2020-04-09\", \"New_cases\": 426, \"Rolling\": 366.85714285714283, \"Casos confirmados diarios\": \"Casos confirmados diarios\", \"Promedio m\\u00f3vil \\u00faltimos 7 d\\u00edas\": \"Promedio m\\u00f3vil \\u00faltimos 7 d\\u00edas\"}, {\"Dates\": \"2020-04-10\", \"New_cases\": 529, \"Rolling\": 394.85714285714283, \"Casos confirmados diarios\": \"Casos confirmados diarios\", \"Promedio m\\u00f3vil \\u00faltimos 7 d\\u00edas\": \"Promedio m\\u00f3vil \\u00faltimos 7 d\\u00edas\"}, {\"Dates\": \"2020-04-11\", \"New_cases\": 426, \"Rolling\": 395.14285714285717, \"Casos confirmados diarios\": \"Casos confirmados diarios\", \"Promedio m\\u00f3vil \\u00faltimos 7 d\\u00edas\": \"Promedio m\\u00f3vil \\u00faltimos 7 d\\u00edas\"}, {\"Dates\": \"2020-04-12\", \"New_cases\": 286, \"Rolling\": 391.7142857142857, \"Casos confirmados diarios\": \"Casos confirmados diarios\", \"Promedio m\\u00f3vil \\u00faltimos 7 d\\u00edas\": \"Promedio m\\u00f3vil \\u00faltimos 7 d\\u00edas\"}, {\"Dates\": \"2020-04-13\", \"New_cases\": 312, \"Rolling\": 387.14285714285717, \"Casos confirmados diarios\": \"Casos confirmados diarios\", \"Promedio m\\u00f3vil \\u00faltimos 7 d\\u00edas\": \"Promedio m\\u00f3vil \\u00faltimos 7 d\\u00edas\"}, {\"Dates\": \"2020-04-14\", \"New_cases\": 392, \"Rolling\": 400.14285714285717, \"Casos confirmados diarios\": \"Casos confirmados diarios\", \"Promedio m\\u00f3vil \\u00faltimos 7 d\\u00edas\": \"Promedio m\\u00f3vil \\u00faltimos 7 d\\u00edas\"}, {\"Dates\": \"2020-04-15\", \"New_cases\": 356, \"Rolling\": 389.57142857142856, \"Casos confirmados diarios\": \"Casos confirmados diarios\", \"Promedio m\\u00f3vil \\u00faltimos 7 d\\u00edas\": \"Promedio m\\u00f3vil \\u00faltimos 7 d\\u00edas\"}, {\"Dates\": \"2020-04-16\", \"New_cases\": 534, \"Rolling\": 405.0, \"Casos confirmados diarios\": \"Casos confirmados diarios\", \"Promedio m\\u00f3vil \\u00faltimos 7 d\\u00edas\": \"Promedio m\\u00f3vil \\u00faltimos 7 d\\u00edas\"}, {\"Dates\": \"2020-04-17\", \"New_cases\": 445, \"Rolling\": 393.0, \"Casos confirmados diarios\": \"Casos confirmados diarios\", \"Promedio m\\u00f3vil \\u00faltimos 7 d\\u00edas\": \"Promedio m\\u00f3vil \\u00faltimos 7 d\\u00edas\"}, {\"Dates\": \"2020-04-18\", \"New_cases\": 478, \"Rolling\": 400.42857142857144, \"Casos confirmados diarios\": \"Casos confirmados diarios\", \"Promedio m\\u00f3vil \\u00faltimos 7 d\\u00edas\": \"Promedio m\\u00f3vil \\u00faltimos 7 d\\u00edas\"}, {\"Dates\": \"2020-04-19\", \"New_cases\": 358, \"Rolling\": 410.7142857142857, \"Casos confirmados diarios\": \"Casos confirmados diarios\", \"Promedio m\\u00f3vil \\u00faltimos 7 d\\u00edas\": \"Promedio m\\u00f3vil \\u00faltimos 7 d\\u00edas\"}, {\"Dates\": \"2020-04-20\", \"New_cases\": 419, \"Rolling\": 426.0, \"Casos confirmados diarios\": \"Casos confirmados diarios\", \"Promedio m\\u00f3vil \\u00faltimos 7 d\\u00edas\": \"Promedio m\\u00f3vil \\u00faltimos 7 d\\u00edas\"}, {\"Dates\": \"2020-04-21\", \"New_cases\": 325, \"Rolling\": 416.42857142857144, \"Casos confirmados diarios\": \"Casos confirmados diarios\", \"Promedio m\\u00f3vil \\u00faltimos 7 d\\u00edas\": \"Promedio m\\u00f3vil \\u00faltimos 7 d\\u00edas\"}, {\"Dates\": \"2020-04-22\", \"New_cases\": 464, \"Rolling\": 431.85714285714283, \"Casos confirmados diarios\": \"Casos confirmados diarios\", \"Promedio m\\u00f3vil \\u00faltimos 7 d\\u00edas\": \"Promedio m\\u00f3vil \\u00faltimos 7 d\\u00edas\"}, {\"Dates\": \"2020-04-23\", \"New_cases\": 516, \"Rolling\": 429.2857142857143, \"Casos confirmados diarios\": \"Casos confirmados diarios\", \"Promedio m\\u00f3vil \\u00faltimos 7 d\\u00edas\": \"Promedio m\\u00f3vil \\u00faltimos 7 d\\u00edas\"}, {\"Dates\": \"2020-04-24\", \"New_cases\": 494, \"Rolling\": 436.2857142857143, \"Casos confirmados diarios\": \"Casos confirmados diarios\", \"Promedio m\\u00f3vil \\u00faltimos 7 d\\u00edas\": \"Promedio m\\u00f3vil \\u00faltimos 7 d\\u00edas\"}, {\"Dates\": \"2020-04-25\", \"New_cases\": 552, \"Rolling\": 446.85714285714283, \"Casos confirmados diarios\": \"Casos confirmados diarios\", \"Promedio m\\u00f3vil \\u00faltimos 7 d\\u00edas\": \"Promedio m\\u00f3vil \\u00faltimos 7 d\\u00edas\"}, {\"Dates\": \"2020-04-26\", \"New_cases\": 473, \"Rolling\": 463.2857142857143, \"Casos confirmados diarios\": \"Casos confirmados diarios\", \"Promedio m\\u00f3vil \\u00faltimos 7 d\\u00edas\": \"Promedio m\\u00f3vil \\u00faltimos 7 d\\u00edas\"}]}}, {\"mode\": \"vega-lite\"});\n",
       "</script>"
      ],
      "text/plain": [
       "alt.LayerChart(...)"
      ]
     },
     "execution_count": 44,
     "metadata": {},
     "output_type": "execute_result"
    }
   ],
   "source": [
    "#hide_input\n",
    "bars = alt.Chart(new_cases).mark_bar(opacity=0.7).encode(\n",
    "    x = alt.X('Dates:N', axis=alt.Axis(title='Fecha (año-mes-día)')),\n",
    "    y = alt.Y('New_cases:Q', axis=alt.Axis(title='Casos confirmados diarios')),\n",
    "    tooltip = ['Dates', 'New_cases'],\n",
    "    opacity=alt.Opacity('Casos confirmados diarios', legend=alt.Legend(title=\"\"))\n",
    ")\n",
    "\n",
    "line = alt.Chart(new_cases).mark_line(point={\n",
    "      \"filled\": True,\n",
    "      \"fill\": \"firebrick\"\n",
    "    }, color='firebrick').encode(\n",
    "    x=alt.X('Dates:N', axis=alt.Axis(title='Fecha (año-mes-día)')),\n",
    "    y = alt.Y('Rolling:Q'),\n",
    "    shape=alt.Shape('Promedio móvil últimos 7 días', legend=alt.Legend(title=\"\"))\n",
    ")\n",
    "\n",
    "(bars + line).properties(\n",
    "    title='Covid-19 en Chile: Casos confirmados diarios',\n",
    "    width=600\n",
    ")"
   ]
  },
  {
   "cell_type": "markdown",
   "metadata": {},
   "source": [
    "# Evolución de fallecimientos confirmados diarios"
   ]
  },
  {
   "cell_type": "code",
   "execution_count": 45,
   "metadata": {},
   "outputs": [],
   "source": [
    "#hide\n",
    "data = pd.DataFrame()\n",
    "data_raw = pd.read_csv(\n",
    "    \"https://raw.githubusercontent.com/MinCiencia/Datos-COVID19/master/output/producto4/2020-03-24-CasosConfirmados-totalRegional.csv\",\n",
    "    index_col='Region')\n",
    "data['2020-03-24'] = data_raw['Fallecidos']"
   ]
  },
  {
   "cell_type": "code",
   "execution_count": 46,
   "metadata": {},
   "outputs": [],
   "source": [
    "#hide\n",
    "first_death_date = '2020-03-24'\n",
    "total_days = (pd.to_datetime(today)-pd.to_datetime(first_death_date)).days"
   ]
  },
  {
   "cell_type": "code",
   "execution_count": 47,
   "metadata": {},
   "outputs": [],
   "source": [
    "#hide\n",
    "for i in np.arange(total_days+1):\n",
    "  date = (pd.to_datetime(first_death_date)+pd.DateOffset(i)).strftime('%Y-%m-%d')\n",
    "  s = \"https://raw.githubusercontent.com/MinCiencia/Datos-COVID19/master/output/producto4/\" + date + \"-CasosConfirmados-totalRegional.csv\"\n",
    "  data_by_date = pd.read_csv(s)\n",
    "  if 'Fallecidos' in data_by_date.columns:\n",
    "    data[date] = data_by_date[\"Fallecidos\"].values\n",
    "  elif 'Casos fallecidos' in data_by_date.columns:\n",
    "    data[date] = data_by_date[\"Casos fallecidos\"].values\n",
    "  else:\n",
    "    data[date] = data_by_date[\" Casos fallecidos\"].values"
   ]
  },
  {
   "cell_type": "code",
   "execution_count": 48,
   "metadata": {},
   "outputs": [],
   "source": [
    "#hide\n",
    "aux1 = data.loc[\"Total\"]\n",
    "aux2 = [t - s for s, t in zip(aux1, aux1.loc['2020-03-25':])]"
   ]
  },
  {
   "cell_type": "code",
   "execution_count": 49,
   "metadata": {},
   "outputs": [],
   "source": [
    "#hide\n",
    "WS_deaths = 7"
   ]
  },
  {
   "cell_type": "code",
   "execution_count": 50,
   "metadata": {},
   "outputs": [],
   "source": [
    "#hide\n",
    "new_deaths = pd.DataFrame()\n",
    "new_deaths[\"Dates\"] = data.loc[\"Total\"].reset_index()[\"index\"].iloc[1:].values\n",
    "new_deaths[\"New_deaths\"] = aux2\n",
    "new_deaths[\"Rolling\"] = new_deaths[\"New_deaths\"].rolling(window=WS_deaths).mean()\n",
    "new_deaths[\"Fallecimientos confirmados diarios\"] = len(new_deaths) * [\"Fallecimientos confirmados diarios\"]\n",
    "new_deaths[\"Promedio móvil últimos 7 días\"] = len(new_deaths) * [\"Promedio móvil últimos 7 días\"]"
   ]
  },
  {
   "cell_type": "code",
   "execution_count": 52,
   "metadata": {},
   "outputs": [
    {
     "data": {
      "text/html": [
       "\n",
       "<div id=\"altair-viz-ff48b38cfbde4090a3fbfed08732e69e\"></div>\n",
       "<script type=\"text/javascript\">\n",
       "  (function(spec, embedOpt){\n",
       "    let outputDiv = document.currentScript.previousElementSibling;\n",
       "    if (outputDiv.id !== \"altair-viz-ff48b38cfbde4090a3fbfed08732e69e\") {\n",
       "      outputDiv = document.getElementById(\"altair-viz-ff48b38cfbde4090a3fbfed08732e69e\");\n",
       "    }\n",
       "    const paths = {\n",
       "      \"vega\": \"https://cdn.jsdelivr.net/npm//vega@5?noext\",\n",
       "      \"vega-lib\": \"https://cdn.jsdelivr.net/npm//vega-lib?noext\",\n",
       "      \"vega-lite\": \"https://cdn.jsdelivr.net/npm//vega-lite@4.8.1?noext\",\n",
       "      \"vega-embed\": \"https://cdn.jsdelivr.net/npm//vega-embed@6?noext\",\n",
       "    };\n",
       "\n",
       "    function loadScript(lib) {\n",
       "      return new Promise(function(resolve, reject) {\n",
       "        var s = document.createElement('script');\n",
       "        s.src = paths[lib];\n",
       "        s.async = true;\n",
       "        s.onload = () => resolve(paths[lib]);\n",
       "        s.onerror = () => reject(`Error loading script: ${paths[lib]}`);\n",
       "        document.getElementsByTagName(\"head\")[0].appendChild(s);\n",
       "      });\n",
       "    }\n",
       "\n",
       "    function showError(err) {\n",
       "      outputDiv.innerHTML = `<div class=\"error\" style=\"color:red;\">${err}</div>`;\n",
       "      throw err;\n",
       "    }\n",
       "\n",
       "    function displayChart(vegaEmbed) {\n",
       "      vegaEmbed(outputDiv, spec, embedOpt)\n",
       "        .catch(err => showError(`Javascript Error: ${err.message}<br>This usually means there's a typo in your chart specification. See the javascript console for the full traceback.`));\n",
       "    }\n",
       "\n",
       "    if(typeof define === \"function\" && define.amd) {\n",
       "      requirejs.config({paths});\n",
       "      require([\"vega-embed\"], displayChart, err => showError(`Error loading script: ${err.message}`));\n",
       "    } else if (typeof vegaEmbed === \"function\") {\n",
       "      displayChart(vegaEmbed);\n",
       "    } else {\n",
       "      loadScript(\"vega\")\n",
       "        .then(() => loadScript(\"vega-lite\"))\n",
       "        .then(() => loadScript(\"vega-embed\"))\n",
       "        .catch(showError)\n",
       "        .then(() => displayChart(vegaEmbed));\n",
       "    }\n",
       "  })({\"config\": {\"view\": {\"continuousWidth\": 400, \"continuousHeight\": 300}}, \"layer\": [{\"mark\": {\"type\": \"bar\", \"opacity\": 0.7}, \"encoding\": {\"opacity\": {\"type\": \"nominal\", \"field\": \"Fallecimientos confirmados diarios\", \"legend\": {\"title\": \"\"}}, \"tooltip\": [{\"type\": \"nominal\", \"field\": \"Dates\"}, {\"type\": \"quantitative\", \"field\": \"New_deaths\"}], \"x\": {\"type\": \"nominal\", \"axis\": {\"title\": \"Fecha (a\\u00f1o-mes-d\\u00eda)\"}, \"field\": \"Dates\"}, \"y\": {\"type\": \"quantitative\", \"axis\": {\"title\": \"Fallecimientos confirmados diarios\"}, \"field\": \"New_deaths\"}}}, {\"mark\": {\"type\": \"line\", \"color\": \"firebrick\", \"point\": {\"filled\": true, \"fill\": \"firebrick\"}}, \"encoding\": {\"shape\": {\"type\": \"nominal\", \"field\": \"Promedio m\\u00f3vil \\u00faltimos 7 d\\u00edas\", \"legend\": {\"title\": \"\"}}, \"x\": {\"type\": \"nominal\", \"axis\": {\"title\": \"Fecha (a\\u00f1o-mes-d\\u00eda)\"}, \"field\": \"Dates\"}, \"y\": {\"type\": \"quantitative\", \"field\": \"Rolling\"}}}], \"data\": {\"name\": \"data-8f4059e569236d8239719a10074ecdc5\"}, \"title\": \"Covid-19 en Chile: Fallecimientos confirmados diarios\", \"width\": 600, \"$schema\": \"https://vega.github.io/schema/vega-lite/v4.8.1.json\", \"datasets\": {\"data-8f4059e569236d8239719a10074ecdc5\": [{\"Dates\": \"2020-03-25\", \"New_deaths\": 1, \"Rolling\": null, \"Fallecimientos confirmados diarios\": \"Fallecimientos confirmados diarios\", \"Promedio m\\u00f3vil \\u00faltimos 7 d\\u00edas\": \"Promedio m\\u00f3vil \\u00faltimos 7 d\\u00edas\"}, {\"Dates\": \"2020-03-26\", \"New_deaths\": 1, \"Rolling\": null, \"Fallecimientos confirmados diarios\": \"Fallecimientos confirmados diarios\", \"Promedio m\\u00f3vil \\u00faltimos 7 d\\u00edas\": \"Promedio m\\u00f3vil \\u00faltimos 7 d\\u00edas\"}, {\"Dates\": \"2020-03-27\", \"New_deaths\": 1, \"Rolling\": null, \"Fallecimientos confirmados diarios\": \"Fallecimientos confirmados diarios\", \"Promedio m\\u00f3vil \\u00faltimos 7 d\\u00edas\": \"Promedio m\\u00f3vil \\u00faltimos 7 d\\u00edas\"}, {\"Dates\": \"2020-03-28\", \"New_deaths\": 1, \"Rolling\": null, \"Fallecimientos confirmados diarios\": \"Fallecimientos confirmados diarios\", \"Promedio m\\u00f3vil \\u00faltimos 7 d\\u00edas\": \"Promedio m\\u00f3vil \\u00faltimos 7 d\\u00edas\"}, {\"Dates\": \"2020-03-29\", \"New_deaths\": 1, \"Rolling\": null, \"Fallecimientos confirmados diarios\": \"Fallecimientos confirmados diarios\", \"Promedio m\\u00f3vil \\u00faltimos 7 d\\u00edas\": \"Promedio m\\u00f3vil \\u00faltimos 7 d\\u00edas\"}, {\"Dates\": \"2020-03-30\", \"New_deaths\": 1, \"Rolling\": null, \"Fallecimientos confirmados diarios\": \"Fallecimientos confirmados diarios\", \"Promedio m\\u00f3vil \\u00faltimos 7 d\\u00edas\": \"Promedio m\\u00f3vil \\u00faltimos 7 d\\u00edas\"}, {\"Dates\": \"2020-03-31\", \"New_deaths\": 4, \"Rolling\": 1.4285714285714286, \"Fallecimientos confirmados diarios\": \"Fallecimientos confirmados diarios\", \"Promedio m\\u00f3vil \\u00faltimos 7 d\\u00edas\": \"Promedio m\\u00f3vil \\u00faltimos 7 d\\u00edas\"}, {\"Dates\": \"2020-04-01\", \"New_deaths\": 4, \"Rolling\": 1.8571428571428572, \"Fallecimientos confirmados diarios\": \"Fallecimientos confirmados diarios\", \"Promedio m\\u00f3vil \\u00faltimos 7 d\\u00edas\": \"Promedio m\\u00f3vil \\u00faltimos 7 d\\u00edas\"}, {\"Dates\": \"2020-04-02\", \"New_deaths\": 2, \"Rolling\": 2.0, \"Fallecimientos confirmados diarios\": \"Fallecimientos confirmados diarios\", \"Promedio m\\u00f3vil \\u00faltimos 7 d\\u00edas\": \"Promedio m\\u00f3vil \\u00faltimos 7 d\\u00edas\"}, {\"Dates\": \"2020-04-03\", \"New_deaths\": 4, \"Rolling\": 2.4285714285714284, \"Fallecimientos confirmados diarios\": \"Fallecimientos confirmados diarios\", \"Promedio m\\u00f3vil \\u00faltimos 7 d\\u00edas\": \"Promedio m\\u00f3vil \\u00faltimos 7 d\\u00edas\"}, {\"Dates\": \"2020-04-04\", \"New_deaths\": 5, \"Rolling\": 3.0, \"Fallecimientos confirmados diarios\": \"Fallecimientos confirmados diarios\", \"Promedio m\\u00f3vil \\u00faltimos 7 d\\u00edas\": \"Promedio m\\u00f3vil \\u00faltimos 7 d\\u00edas\"}, {\"Dates\": \"2020-04-05\", \"New_deaths\": 7, \"Rolling\": 3.857142857142857, \"Fallecimientos confirmados diarios\": \"Fallecimientos confirmados diarios\", \"Promedio m\\u00f3vil \\u00faltimos 7 d\\u00edas\": \"Promedio m\\u00f3vil \\u00faltimos 7 d\\u00edas\"}, {\"Dates\": \"2020-04-06\", \"New_deaths\": 3, \"Rolling\": 4.142857142857143, \"Fallecimientos confirmados diarios\": \"Fallecimientos confirmados diarios\", \"Promedio m\\u00f3vil \\u00faltimos 7 d\\u00edas\": \"Promedio m\\u00f3vil \\u00faltimos 7 d\\u00edas\"}, {\"Dates\": \"2020-04-07\", \"New_deaths\": 6, \"Rolling\": 4.428571428571429, \"Fallecimientos confirmados diarios\": \"Fallecimientos confirmados diarios\", \"Promedio m\\u00f3vil \\u00faltimos 7 d\\u00edas\": \"Promedio m\\u00f3vil \\u00faltimos 7 d\\u00edas\"}, {\"Dates\": \"2020-04-08\", \"New_deaths\": 5, \"Rolling\": 4.571428571428571, \"Fallecimientos confirmados diarios\": \"Fallecimientos confirmados diarios\", \"Promedio m\\u00f3vil \\u00faltimos 7 d\\u00edas\": \"Promedio m\\u00f3vil \\u00faltimos 7 d\\u00edas\"}, {\"Dates\": \"2020-04-09\", \"New_deaths\": 9, \"Rolling\": 5.571428571428571, \"Fallecimientos confirmados diarios\": \"Fallecimientos confirmados diarios\", \"Promedio m\\u00f3vil \\u00faltimos 7 d\\u00edas\": \"Promedio m\\u00f3vil \\u00faltimos 7 d\\u00edas\"}, {\"Dates\": \"2020-04-10\", \"New_deaths\": 8, \"Rolling\": 6.142857142857143, \"Fallecimientos confirmados diarios\": \"Fallecimientos confirmados diarios\", \"Promedio m\\u00f3vil \\u00faltimos 7 d\\u00edas\": \"Promedio m\\u00f3vil \\u00faltimos 7 d\\u00edas\"}, {\"Dates\": \"2020-04-11\", \"New_deaths\": 8, \"Rolling\": 6.571428571428571, \"Fallecimientos confirmados diarios\": \"Fallecimientos confirmados diarios\", \"Promedio m\\u00f3vil \\u00faltimos 7 d\\u00edas\": \"Promedio m\\u00f3vil \\u00faltimos 7 d\\u00edas\"}, {\"Dates\": \"2020-04-12\", \"New_deaths\": 7, \"Rolling\": 6.571428571428571, \"Fallecimientos confirmados diarios\": \"Fallecimientos confirmados diarios\", \"Promedio m\\u00f3vil \\u00faltimos 7 d\\u00edas\": \"Promedio m\\u00f3vil \\u00faltimos 7 d\\u00edas\"}, {\"Dates\": \"2020-04-13\", \"New_deaths\": 2, \"Rolling\": 6.428571428571429, \"Fallecimientos confirmados diarios\": \"Fallecimientos confirmados diarios\", \"Promedio m\\u00f3vil \\u00faltimos 7 d\\u00edas\": \"Promedio m\\u00f3vil \\u00faltimos 7 d\\u00edas\"}, {\"Dates\": \"2020-04-14\", \"New_deaths\": 10, \"Rolling\": 7.0, \"Fallecimientos confirmados diarios\": \"Fallecimientos confirmados diarios\", \"Promedio m\\u00f3vil \\u00faltimos 7 d\\u00edas\": \"Promedio m\\u00f3vil \\u00faltimos 7 d\\u00edas\"}, {\"Dates\": \"2020-04-15\", \"New_deaths\": 2, \"Rolling\": 6.571428571428571, \"Fallecimientos confirmados diarios\": \"Fallecimientos confirmados diarios\", \"Promedio m\\u00f3vil \\u00faltimos 7 d\\u00edas\": \"Promedio m\\u00f3vil \\u00faltimos 7 d\\u00edas\"}, {\"Dates\": \"2020-04-16\", \"New_deaths\": 11, \"Rolling\": 6.857142857142857, \"Fallecimientos confirmados diarios\": \"Fallecimientos confirmados diarios\", \"Promedio m\\u00f3vil \\u00faltimos 7 d\\u00edas\": \"Promedio m\\u00f3vil \\u00faltimos 7 d\\u00edas\"}, {\"Dates\": \"2020-04-17\", \"New_deaths\": 11, \"Rolling\": 7.285714285714286, \"Fallecimientos confirmados diarios\": \"Fallecimientos confirmados diarios\", \"Promedio m\\u00f3vil \\u00faltimos 7 d\\u00edas\": \"Promedio m\\u00f3vil \\u00faltimos 7 d\\u00edas\"}, {\"Dates\": \"2020-04-18\", \"New_deaths\": 10, \"Rolling\": 7.571428571428571, \"Fallecimientos confirmados diarios\": \"Fallecimientos confirmados diarios\", \"Promedio m\\u00f3vil \\u00faltimos 7 d\\u00edas\": \"Promedio m\\u00f3vil \\u00faltimos 7 d\\u00edas\"}, {\"Dates\": \"2020-04-19\", \"New_deaths\": 7, \"Rolling\": 7.571428571428571, \"Fallecimientos confirmados diarios\": \"Fallecimientos confirmados diarios\", \"Promedio m\\u00f3vil \\u00faltimos 7 d\\u00edas\": \"Promedio m\\u00f3vil \\u00faltimos 7 d\\u00edas\"}, {\"Dates\": \"2020-04-20\", \"New_deaths\": 6, \"Rolling\": 8.142857142857142, \"Fallecimientos confirmados diarios\": \"Fallecimientos confirmados diarios\", \"Promedio m\\u00f3vil \\u00faltimos 7 d\\u00edas\": \"Promedio m\\u00f3vil \\u00faltimos 7 d\\u00edas\"}, {\"Dates\": \"2020-04-21\", \"New_deaths\": 8, \"Rolling\": 7.857142857142857, \"Fallecimientos confirmados diarios\": \"Fallecimientos confirmados diarios\", \"Promedio m\\u00f3vil \\u00faltimos 7 d\\u00edas\": \"Promedio m\\u00f3vil \\u00faltimos 7 d\\u00edas\"}, {\"Dates\": \"2020-04-22\", \"New_deaths\": 13, \"Rolling\": 9.428571428571429, \"Fallecimientos confirmados diarios\": \"Fallecimientos confirmados diarios\", \"Promedio m\\u00f3vil \\u00faltimos 7 d\\u00edas\": \"Promedio m\\u00f3vil \\u00faltimos 7 d\\u00edas\"}, {\"Dates\": \"2020-04-23\", \"New_deaths\": 8, \"Rolling\": 9.0, \"Fallecimientos confirmados diarios\": \"Fallecimientos confirmados diarios\", \"Promedio m\\u00f3vil \\u00faltimos 7 d\\u00edas\": \"Promedio m\\u00f3vil \\u00faltimos 7 d\\u00edas\"}, {\"Dates\": \"2020-04-24\", \"New_deaths\": 6, \"Rolling\": 8.285714285714286, \"Fallecimientos confirmados diarios\": \"Fallecimientos confirmados diarios\", \"Promedio m\\u00f3vil \\u00faltimos 7 d\\u00edas\": \"Promedio m\\u00f3vil \\u00faltimos 7 d\\u00edas\"}, {\"Dates\": \"2020-04-25\", \"New_deaths\": 7, \"Rolling\": 7.857142857142857, \"Fallecimientos confirmados diarios\": \"Fallecimientos confirmados diarios\", \"Promedio m\\u00f3vil \\u00faltimos 7 d\\u00edas\": \"Promedio m\\u00f3vil \\u00faltimos 7 d\\u00edas\"}, {\"Dates\": \"2020-04-26\", \"New_deaths\": 8, \"Rolling\": 8.0, \"Fallecimientos confirmados diarios\": \"Fallecimientos confirmados diarios\", \"Promedio m\\u00f3vil \\u00faltimos 7 d\\u00edas\": \"Promedio m\\u00f3vil \\u00faltimos 7 d\\u00edas\"}]}}, {\"mode\": \"vega-lite\"});\n",
       "</script>"
      ],
      "text/plain": [
       "alt.LayerChart(...)"
      ]
     },
     "execution_count": 52,
     "metadata": {},
     "output_type": "execute_result"
    }
   ],
   "source": [
    "#hide_input\n",
    "bars = alt.Chart(new_deaths).mark_bar(opacity=0.7).encode(\n",
    "    x = alt.X('Dates:N', axis=alt.Axis(title='Fecha (año-mes-día)')),\n",
    "    y = alt.Y('New_deaths:Q', axis=alt.Axis(title='Fallecimientos confirmados diarios')),\n",
    "    tooltip = ['Dates', 'New_deaths'],\n",
    "    opacity=alt.Opacity('Fallecimientos confirmados diarios', legend=alt.Legend(title=\"\"))\n",
    ")\n",
    "\n",
    "line = alt.Chart(new_deaths).mark_line(point={\n",
    "      \"filled\": True,\n",
    "      \"fill\": \"firebrick\"\n",
    "    }, color='firebrick').encode(\n",
    "    x=alt.X('Dates:N', axis=alt.Axis(title='Fecha (año-mes-día)')),\n",
    "    y = alt.Y('Rolling:Q'),\n",
    "    shape=alt.Shape('Promedio móvil últimos 7 días', legend=alt.Legend(title=\"\"))\n",
    ")\n",
    "\n",
    "(bars + line).properties(\n",
    "    title='Covid-19 en Chile: Fallecimientos confirmados diarios',\n",
    "    width=600\n",
    ")"
   ]
  },
  {
   "cell_type": "markdown",
   "metadata": {},
   "source": [
    "# Evolución de casos confirmados por región"
   ]
  },
  {
   "cell_type": "code",
   "execution_count": 53,
   "metadata": {},
   "outputs": [],
   "source": [
    "#hide\n",
    "data_raw = pd.read_csv(\n",
    "    \"https://raw.githubusercontent.com/MinCiencia/Datos-COVID19/master/output/producto3/CasosTotalesCumulativo.csv\",\n",
    "    index_col='Region')"
   ]
  },
  {
   "cell_type": "code",
   "execution_count": 54,
   "metadata": {},
   "outputs": [],
   "source": [
    "#hide\n",
    "data_raw = data_raw.drop(\"Total\")"
   ]
  },
  {
   "cell_type": "code",
   "execution_count": 55,
   "metadata": {},
   "outputs": [],
   "source": [
    "#hide\n",
    "data = pd.DataFrame()\n",
    "i = 0\n",
    "for date in data_raw.keys():\n",
    "    for n, region in enumerate(data_raw.index):\n",
    "        data[i] = date, region, data_raw[date].loc[region], n\n",
    "        i += 1"
   ]
  },
  {
   "cell_type": "code",
   "execution_count": 56,
   "metadata": {},
   "outputs": [],
   "source": [
    "#hide\n",
    "data_raw = data_raw.reset_index()\n",
    "regiones = data_raw['Region'].values\n",
    "data = data.T\n",
    "data = data.rename(columns={0: \"date\", 1: \"region\", 2: \"casos\", 3: \"codigo region\"})"
   ]
  },
  {
   "cell_type": "code",
   "execution_count": 57,
   "metadata": {},
   "outputs": [],
   "source": [
    "#hide\n",
    "data[\"casos\"] = data[\"casos\"].astype(int)"
   ]
  },
  {
   "cell_type": "code",
   "execution_count": 58,
   "metadata": {},
   "outputs": [
    {
     "data": {
      "text/html": [
       "\n",
       "<div id=\"altair-viz-6e88affaa44a4e7c9e0cf814b8cdd5b9\"></div>\n",
       "<script type=\"text/javascript\">\n",
       "  (function(spec, embedOpt){\n",
       "    let outputDiv = document.currentScript.previousElementSibling;\n",
       "    if (outputDiv.id !== \"altair-viz-6e88affaa44a4e7c9e0cf814b8cdd5b9\") {\n",
       "      outputDiv = document.getElementById(\"altair-viz-6e88affaa44a4e7c9e0cf814b8cdd5b9\");\n",
       "    }\n",
       "    const paths = {\n",
       "      \"vega\": \"https://cdn.jsdelivr.net/npm//vega@5?noext\",\n",
       "      \"vega-lib\": \"https://cdn.jsdelivr.net/npm//vega-lib?noext\",\n",
       "      \"vega-lite\": \"https://cdn.jsdelivr.net/npm//vega-lite@4.8.1?noext\",\n",
       "      \"vega-embed\": \"https://cdn.jsdelivr.net/npm//vega-embed@6?noext\",\n",
       "    };\n",
       "\n",
       "    function loadScript(lib) {\n",
       "      return new Promise(function(resolve, reject) {\n",
       "        var s = document.createElement('script');\n",
       "        s.src = paths[lib];\n",
       "        s.async = true;\n",
       "        s.onload = () => resolve(paths[lib]);\n",
       "        s.onerror = () => reject(`Error loading script: ${paths[lib]}`);\n",
       "        document.getElementsByTagName(\"head\")[0].appendChild(s);\n",
       "      });\n",
       "    }\n",
       "\n",
       "    function showError(err) {\n",
       "      outputDiv.innerHTML = `<div class=\"error\" style=\"color:red;\">${err}</div>`;\n",
       "      throw err;\n",
       "    }\n",
       "\n",
       "    function displayChart(vegaEmbed) {\n",
       "      vegaEmbed(outputDiv, spec, embedOpt)\n",
       "        .catch(err => showError(`Javascript Error: ${err.message}<br>This usually means there's a typo in your chart specification. See the javascript console for the full traceback.`));\n",
       "    }\n",
       "\n",
       "    if(typeof define === \"function\" && define.amd) {\n",
       "      requirejs.config({paths});\n",
       "      require([\"vega-embed\"], displayChart, err => showError(`Error loading script: ${err.message}`));\n",
       "    } else if (typeof vegaEmbed === \"function\") {\n",
       "      displayChart(vegaEmbed);\n",
       "    } else {\n",
       "      loadScript(\"vega\")\n",
       "        .then(() => loadScript(\"vega-lite\"))\n",
       "        .then(() => loadScript(\"vega-embed\"))\n",
       "        .catch(showError)\n",
       "        .then(() => displayChart(vegaEmbed));\n",
       "    }\n",
       "  })({\"config\": {\"view\": {\"continuousWidth\": 400, \"continuousHeight\": 300}}, \"hconcat\": [{\"mark\": \"bar\", \"encoding\": {\"color\": {\"condition\": {\"type\": \"nominal\", \"field\": \"region\", \"legend\": null, \"selection\": {\"or\": [\" \", \"selector001\"]}}, \"value\": \"lightgray\"}, \"order\": {\"type\": \"quantitative\", \"field\": \"codigo region\", \"sort\": \"descending\"}, \"tooltip\": [{\"type\": \"nominal\", \"field\": \"date\"}, {\"type\": \"nominal\", \"field\": \"region\"}, {\"type\": \"quantitative\", \"field\": \"casos\"}], \"x\": {\"type\": \"ordinal\", \"axis\": {\"title\": \"Fecha (a\\u00f1o-mes-d\\u00eda)\"}, \"field\": \"date\"}, \"y\": {\"type\": \"quantitative\", \"axis\": {\"title\": \"Casos confirmados\"}, \"field\": \"casos\"}}, \"height\": 400, \"selection\": {\" \": {\"type\": \"single\", \"fields\": [\"region\"], \"bind\": {\"input\": \"select\", \"options\": [\"Arica y Parinacota\", \"Tarapac\\u00e1\", \"Antofagasta\", \"Atacama\", \"Coquimbo\", \"Valpara\\u00edso\", \"Metropolitana\", \"O\\u2019Higgins\", \"Maule\", \"\\u00d1uble\", \"Biob\\u00edo\", \"Araucan\\u00eda\", \"Los R\\u00edos\", \"Los Lagos\", \"Ays\\u00e9n\", \"Magallanes\"]}}, \"selector001\": {\"type\": \"multi\", \"fields\": [\"region\"], \"on\": \"mouseover\"}}, \"title\": \"COVID-19 en Chile: Total de casos confirmados por regi\\u00f3n\", \"transform\": [{\"filter\": {\"selection\": \" \"}}], \"width\": 600}, {\"mark\": \"point\", \"encoding\": {\"color\": {\"condition\": {\"type\": \"nominal\", \"field\": \"region\", \"legend\": null, \"selection\": {\"or\": [\" \", \"selector001\"]}}, \"value\": \"lightgray\"}, \"y\": {\"type\": \"nominal\", \"axis\": {\"orient\": \"right\"}, \"field\": \"region\", \"sort\": [\"Arica y Parinacota\", \"Tarapac\\u00e1\", \"Antofagasta\", \"Atacama\", \"Coquimbo\", \"Valpara\\u00edso\", \"Metropolitana\", \"O\\u2019Higgins\", \"Maule\", \"\\u00d1uble\", \"Biob\\u00edo\", \"Araucan\\u00eda\", \"Los R\\u00edos\", \"Los Lagos\", \"Ays\\u00e9n\", \"Magallanes\"]}}, \"selection\": {\" \": {\"type\": \"single\", \"fields\": [\"region\"], \"bind\": {\"input\": \"select\", \"options\": [\"Arica y Parinacota\", \"Tarapac\\u00e1\", \"Antofagasta\", \"Atacama\", \"Coquimbo\", \"Valpara\\u00edso\", \"Metropolitana\", \"O\\u2019Higgins\", \"Maule\", \"\\u00d1uble\", \"Biob\\u00edo\", \"Araucan\\u00eda\", \"Los R\\u00edos\", \"Los Lagos\", \"Ays\\u00e9n\", \"Magallanes\"]}}, \"selector001\": {\"type\": \"multi\", \"fields\": [\"region\"], \"on\": \"mouseover\"}}}], \"data\": {\"name\": \"data-3d05f9df15c6d878b4a7e765b86251fe\"}, \"$schema\": \"https://vega.github.io/schema/vega-lite/v4.8.1.json\", \"datasets\": {\"data-3d05f9df15c6d878b4a7e765b86251fe\": [{\"date\": \"2020-03-03\", \"region\": \"Arica y Parinacota\", \"casos\": 0, \"codigo region\": 0}, {\"date\": \"2020-03-03\", \"region\": \"Tarapac\\u00e1\", \"casos\": 0, \"codigo region\": 1}, {\"date\": \"2020-03-03\", \"region\": \"Antofagasta\", \"casos\": 0, \"codigo region\": 2}, {\"date\": \"2020-03-03\", \"region\": \"Atacama\", \"casos\": 0, \"codigo region\": 3}, {\"date\": \"2020-03-03\", \"region\": \"Coquimbo\", \"casos\": 0, \"codigo region\": 4}, {\"date\": \"2020-03-03\", \"region\": \"Valpara\\u00edso\", \"casos\": 0, \"codigo region\": 5}, {\"date\": \"2020-03-03\", \"region\": \"Metropolitana\", \"casos\": 0, \"codigo region\": 6}, {\"date\": \"2020-03-03\", \"region\": \"O\\u2019Higgins\", \"casos\": 0, \"codigo region\": 7}, {\"date\": \"2020-03-03\", \"region\": \"Maule\", \"casos\": 1, \"codigo region\": 8}, {\"date\": \"2020-03-03\", \"region\": \"\\u00d1uble\", \"casos\": 0, \"codigo region\": 9}, {\"date\": \"2020-03-03\", \"region\": \"Biob\\u00edo\", \"casos\": 0, \"codigo region\": 10}, {\"date\": \"2020-03-03\", \"region\": \"Araucan\\u00eda\", \"casos\": 0, \"codigo region\": 11}, {\"date\": \"2020-03-03\", \"region\": \"Los R\\u00edos\", \"casos\": 0, \"codigo region\": 12}, {\"date\": \"2020-03-03\", \"region\": \"Los Lagos\", \"casos\": 0, \"codigo region\": 13}, {\"date\": \"2020-03-03\", \"region\": \"Ays\\u00e9n\", \"casos\": 0, \"codigo region\": 14}, {\"date\": \"2020-03-03\", \"region\": \"Magallanes\", \"casos\": 0, \"codigo region\": 15}, {\"date\": \"2020-03-04\", \"region\": \"Arica y Parinacota\", \"casos\": 0, \"codigo region\": 0}, {\"date\": \"2020-03-04\", \"region\": \"Tarapac\\u00e1\", \"casos\": 0, \"codigo region\": 1}, {\"date\": \"2020-03-04\", \"region\": \"Antofagasta\", \"casos\": 0, \"codigo region\": 2}, {\"date\": \"2020-03-04\", \"region\": \"Atacama\", \"casos\": 0, \"codigo region\": 3}, {\"date\": \"2020-03-04\", \"region\": \"Coquimbo\", \"casos\": 0, \"codigo region\": 4}, {\"date\": \"2020-03-04\", \"region\": \"Valpara\\u00edso\", \"casos\": 0, \"codigo region\": 5}, {\"date\": \"2020-03-04\", \"region\": \"Metropolitana\", \"casos\": 1, \"codigo region\": 6}, {\"date\": \"2020-03-04\", \"region\": \"O\\u2019Higgins\", \"casos\": 0, \"codigo region\": 7}, {\"date\": \"2020-03-04\", \"region\": \"Maule\", \"casos\": 2, \"codigo region\": 8}, {\"date\": \"2020-03-04\", \"region\": \"\\u00d1uble\", \"casos\": 0, \"codigo region\": 9}, {\"date\": \"2020-03-04\", \"region\": \"Biob\\u00edo\", \"casos\": 0, \"codigo region\": 10}, {\"date\": \"2020-03-04\", \"region\": \"Araucan\\u00eda\", \"casos\": 0, \"codigo region\": 11}, {\"date\": \"2020-03-04\", \"region\": \"Los R\\u00edos\", \"casos\": 0, \"codigo region\": 12}, {\"date\": \"2020-03-04\", \"region\": \"Los Lagos\", \"casos\": 0, \"codigo region\": 13}, {\"date\": \"2020-03-04\", \"region\": \"Ays\\u00e9n\", \"casos\": 0, \"codigo region\": 14}, {\"date\": \"2020-03-04\", \"region\": \"Magallanes\", \"casos\": 0, \"codigo region\": 15}, {\"date\": \"2020-03-05\", \"region\": \"Arica y Parinacota\", \"casos\": 0, \"codigo region\": 0}, {\"date\": \"2020-03-05\", \"region\": \"Tarapac\\u00e1\", \"casos\": 0, \"codigo region\": 1}, {\"date\": \"2020-03-05\", \"region\": \"Antofagasta\", \"casos\": 0, \"codigo region\": 2}, {\"date\": \"2020-03-05\", \"region\": \"Atacama\", \"casos\": 0, \"codigo region\": 3}, {\"date\": \"2020-03-05\", \"region\": \"Coquimbo\", \"casos\": 0, \"codigo region\": 4}, {\"date\": \"2020-03-05\", \"region\": \"Valpara\\u00edso\", \"casos\": 0, \"codigo region\": 5}, {\"date\": \"2020-03-05\", \"region\": \"Metropolitana\", \"casos\": 2, \"codigo region\": 6}, {\"date\": \"2020-03-05\", \"region\": \"O\\u2019Higgins\", \"casos\": 0, \"codigo region\": 7}, {\"date\": \"2020-03-05\", \"region\": \"Maule\", \"casos\": 2, \"codigo region\": 8}, {\"date\": \"2020-03-05\", \"region\": \"\\u00d1uble\", \"casos\": 0, \"codigo region\": 9}, {\"date\": \"2020-03-05\", \"region\": \"Biob\\u00edo\", \"casos\": 0, \"codigo region\": 10}, {\"date\": \"2020-03-05\", \"region\": \"Araucan\\u00eda\", \"casos\": 0, \"codigo region\": 11}, {\"date\": \"2020-03-05\", \"region\": \"Los R\\u00edos\", \"casos\": 0, \"codigo region\": 12}, {\"date\": \"2020-03-05\", \"region\": \"Los Lagos\", \"casos\": 0, \"codigo region\": 13}, {\"date\": \"2020-03-05\", \"region\": \"Ays\\u00e9n\", \"casos\": 0, \"codigo region\": 14}, {\"date\": \"2020-03-05\", \"region\": \"Magallanes\", \"casos\": 0, \"codigo region\": 15}, {\"date\": \"2020-03-06\", \"region\": \"Arica y Parinacota\", \"casos\": 0, \"codigo region\": 0}, {\"date\": \"2020-03-06\", \"region\": \"Tarapac\\u00e1\", \"casos\": 0, \"codigo region\": 1}, {\"date\": \"2020-03-06\", \"region\": \"Antofagasta\", \"casos\": 0, \"codigo region\": 2}, {\"date\": \"2020-03-06\", \"region\": \"Atacama\", \"casos\": 0, \"codigo region\": 3}, {\"date\": \"2020-03-06\", \"region\": \"Coquimbo\", \"casos\": 0, \"codigo region\": 4}, {\"date\": \"2020-03-06\", \"region\": \"Valpara\\u00edso\", \"casos\": 0, \"codigo region\": 5}, {\"date\": \"2020-03-06\", \"region\": \"Metropolitana\", \"casos\": 3, \"codigo region\": 6}, {\"date\": \"2020-03-06\", \"region\": \"O\\u2019Higgins\", \"casos\": 0, \"codigo region\": 7}, {\"date\": \"2020-03-06\", \"region\": \"Maule\", \"casos\": 2, \"codigo region\": 8}, {\"date\": \"2020-03-06\", \"region\": \"\\u00d1uble\", \"casos\": 0, \"codigo region\": 9}, {\"date\": \"2020-03-06\", \"region\": \"Biob\\u00edo\", \"casos\": 0, \"codigo region\": 10}, {\"date\": \"2020-03-06\", \"region\": \"Araucan\\u00eda\", \"casos\": 0, \"codigo region\": 11}, {\"date\": \"2020-03-06\", \"region\": \"Los R\\u00edos\", \"casos\": 0, \"codigo region\": 12}, {\"date\": \"2020-03-06\", \"region\": \"Los Lagos\", \"casos\": 0, \"codigo region\": 13}, {\"date\": \"2020-03-06\", \"region\": \"Ays\\u00e9n\", \"casos\": 0, \"codigo region\": 14}, {\"date\": \"2020-03-06\", \"region\": \"Magallanes\", \"casos\": 0, \"codigo region\": 15}, {\"date\": \"2020-03-07\", \"region\": \"Arica y Parinacota\", \"casos\": 0, \"codigo region\": 0}, {\"date\": \"2020-03-07\", \"region\": \"Tarapac\\u00e1\", \"casos\": 0, \"codigo region\": 1}, {\"date\": \"2020-03-07\", \"region\": \"Antofagasta\", \"casos\": 0, \"codigo region\": 2}, {\"date\": \"2020-03-07\", \"region\": \"Atacama\", \"casos\": 0, \"codigo region\": 3}, {\"date\": \"2020-03-07\", \"region\": \"Coquimbo\", \"casos\": 0, \"codigo region\": 4}, {\"date\": \"2020-03-07\", \"region\": \"Valpara\\u00edso\", \"casos\": 0, \"codigo region\": 5}, {\"date\": \"2020-03-07\", \"region\": \"Metropolitana\", \"casos\": 4, \"codigo region\": 6}, {\"date\": \"2020-03-07\", \"region\": \"O\\u2019Higgins\", \"casos\": 0, \"codigo region\": 7}, {\"date\": \"2020-03-07\", \"region\": \"Maule\", \"casos\": 2, \"codigo region\": 8}, {\"date\": \"2020-03-07\", \"region\": \"\\u00d1uble\", \"casos\": 0, \"codigo region\": 9}, {\"date\": \"2020-03-07\", \"region\": \"Biob\\u00edo\", \"casos\": 0, \"codigo region\": 10}, {\"date\": \"2020-03-07\", \"region\": \"Araucan\\u00eda\", \"casos\": 0, \"codigo region\": 11}, {\"date\": \"2020-03-07\", \"region\": \"Los R\\u00edos\", \"casos\": 0, \"codigo region\": 12}, {\"date\": \"2020-03-07\", \"region\": \"Los Lagos\", \"casos\": 1, \"codigo region\": 13}, {\"date\": \"2020-03-07\", \"region\": \"Ays\\u00e9n\", \"casos\": 0, \"codigo region\": 14}, {\"date\": \"2020-03-07\", \"region\": \"Magallanes\", \"casos\": 0, \"codigo region\": 15}, {\"date\": \"2020-03-08\", \"region\": \"Arica y Parinacota\", \"casos\": 0, \"codigo region\": 0}, {\"date\": \"2020-03-08\", \"region\": \"Tarapac\\u00e1\", \"casos\": 0, \"codigo region\": 1}, {\"date\": \"2020-03-08\", \"region\": \"Antofagasta\", \"casos\": 0, \"codigo region\": 2}, {\"date\": \"2020-03-08\", \"region\": \"Atacama\", \"casos\": 0, \"codigo region\": 3}, {\"date\": \"2020-03-08\", \"region\": \"Coquimbo\", \"casos\": 0, \"codigo region\": 4}, {\"date\": \"2020-03-08\", \"region\": \"Valpara\\u00edso\", \"casos\": 0, \"codigo region\": 5}, {\"date\": \"2020-03-08\", \"region\": \"Metropolitana\", \"casos\": 6, \"codigo region\": 6}, {\"date\": \"2020-03-08\", \"region\": \"O\\u2019Higgins\", \"casos\": 0, \"codigo region\": 7}, {\"date\": \"2020-03-08\", \"region\": \"Maule\", \"casos\": 3, \"codigo region\": 8}, {\"date\": \"2020-03-08\", \"region\": \"\\u00d1uble\", \"casos\": 0, \"codigo region\": 9}, {\"date\": \"2020-03-08\", \"region\": \"Biob\\u00edo\", \"casos\": 0, \"codigo region\": 10}, {\"date\": \"2020-03-08\", \"region\": \"Araucan\\u00eda\", \"casos\": 0, \"codigo region\": 11}, {\"date\": \"2020-03-08\", \"region\": \"Los R\\u00edos\", \"casos\": 0, \"codigo region\": 12}, {\"date\": \"2020-03-08\", \"region\": \"Los Lagos\", \"casos\": 1, \"codigo region\": 13}, {\"date\": \"2020-03-08\", \"region\": \"Ays\\u00e9n\", \"casos\": 0, \"codigo region\": 14}, {\"date\": \"2020-03-08\", \"region\": \"Magallanes\", \"casos\": 0, \"codigo region\": 15}, {\"date\": \"2020-03-09\", \"region\": \"Arica y Parinacota\", \"casos\": 0, \"codigo region\": 0}, {\"date\": \"2020-03-09\", \"region\": \"Tarapac\\u00e1\", \"casos\": 0, \"codigo region\": 1}, {\"date\": \"2020-03-09\", \"region\": \"Antofagasta\", \"casos\": 0, \"codigo region\": 2}, {\"date\": \"2020-03-09\", \"region\": \"Atacama\", \"casos\": 0, \"codigo region\": 3}, {\"date\": \"2020-03-09\", \"region\": \"Coquimbo\", \"casos\": 0, \"codigo region\": 4}, {\"date\": \"2020-03-09\", \"region\": \"Valpara\\u00edso\", \"casos\": 0, \"codigo region\": 5}, {\"date\": \"2020-03-09\", \"region\": \"Metropolitana\", \"casos\": 9, \"codigo region\": 6}, {\"date\": \"2020-03-09\", \"region\": \"O\\u2019Higgins\", \"casos\": 0, \"codigo region\": 7}, {\"date\": \"2020-03-09\", \"region\": \"Maule\", \"casos\": 4, \"codigo region\": 8}, {\"date\": \"2020-03-09\", \"region\": \"\\u00d1uble\", \"casos\": 0, \"codigo region\": 9}, {\"date\": \"2020-03-09\", \"region\": \"Biob\\u00edo\", \"casos\": 1, \"codigo region\": 10}, {\"date\": \"2020-03-09\", \"region\": \"Araucan\\u00eda\", \"casos\": 0, \"codigo region\": 11}, {\"date\": \"2020-03-09\", \"region\": \"Los R\\u00edos\", \"casos\": 0, \"codigo region\": 12}, {\"date\": \"2020-03-09\", \"region\": \"Los Lagos\", \"casos\": 1, \"codigo region\": 13}, {\"date\": \"2020-03-09\", \"region\": \"Ays\\u00e9n\", \"casos\": 0, \"codigo region\": 14}, {\"date\": \"2020-03-09\", \"region\": \"Magallanes\", \"casos\": 0, \"codigo region\": 15}, {\"date\": \"2020-03-10\", \"region\": \"Arica y Parinacota\", \"casos\": 0, \"codigo region\": 0}, {\"date\": \"2020-03-10\", \"region\": \"Tarapac\\u00e1\", \"casos\": 0, \"codigo region\": 1}, {\"date\": \"2020-03-10\", \"region\": \"Antofagasta\", \"casos\": 0, \"codigo region\": 2}, {\"date\": \"2020-03-10\", \"region\": \"Atacama\", \"casos\": 0, \"codigo region\": 3}, {\"date\": \"2020-03-10\", \"region\": \"Coquimbo\", \"casos\": 0, \"codigo region\": 4}, {\"date\": \"2020-03-10\", \"region\": \"Valpara\\u00edso\", \"casos\": 0, \"codigo region\": 5}, {\"date\": \"2020-03-10\", \"region\": \"Metropolitana\", \"casos\": 10, \"codigo region\": 6}, {\"date\": \"2020-03-10\", \"region\": \"O\\u2019Higgins\", \"casos\": 0, \"codigo region\": 7}, {\"date\": \"2020-03-10\", \"region\": \"Maule\", \"casos\": 5, \"codigo region\": 8}, {\"date\": \"2020-03-10\", \"region\": \"\\u00d1uble\", \"casos\": 0, \"codigo region\": 9}, {\"date\": \"2020-03-10\", \"region\": \"Biob\\u00edo\", \"casos\": 1, \"codigo region\": 10}, {\"date\": \"2020-03-10\", \"region\": \"Araucan\\u00eda\", \"casos\": 0, \"codigo region\": 11}, {\"date\": \"2020-03-10\", \"region\": \"Los R\\u00edos\", \"casos\": 0, \"codigo region\": 12}, {\"date\": \"2020-03-10\", \"region\": \"Los Lagos\", \"casos\": 1, \"codigo region\": 13}, {\"date\": \"2020-03-10\", \"region\": \"Ays\\u00e9n\", \"casos\": 0, \"codigo region\": 14}, {\"date\": \"2020-03-10\", \"region\": \"Magallanes\", \"casos\": 0, \"codigo region\": 15}, {\"date\": \"2020-03-11\", \"region\": \"Arica y Parinacota\", \"casos\": 0, \"codigo region\": 0}, {\"date\": \"2020-03-11\", \"region\": \"Tarapac\\u00e1\", \"casos\": 0, \"codigo region\": 1}, {\"date\": \"2020-03-11\", \"region\": \"Antofagasta\", \"casos\": 0, \"codigo region\": 2}, {\"date\": \"2020-03-11\", \"region\": \"Atacama\", \"casos\": 0, \"codigo region\": 3}, {\"date\": \"2020-03-11\", \"region\": \"Coquimbo\", \"casos\": 0, \"codigo region\": 4}, {\"date\": \"2020-03-11\", \"region\": \"Valpara\\u00edso\", \"casos\": 0, \"codigo region\": 5}, {\"date\": \"2020-03-11\", \"region\": \"Metropolitana\", \"casos\": 14, \"codigo region\": 6}, {\"date\": \"2020-03-11\", \"region\": \"O\\u2019Higgins\", \"casos\": 0, \"codigo region\": 7}, {\"date\": \"2020-03-11\", \"region\": \"Maule\", \"casos\": 7, \"codigo region\": 8}, {\"date\": \"2020-03-11\", \"region\": \"\\u00d1uble\", \"casos\": 0, \"codigo region\": 9}, {\"date\": \"2020-03-11\", \"region\": \"Biob\\u00edo\", \"casos\": 1, \"codigo region\": 10}, {\"date\": \"2020-03-11\", \"region\": \"Araucan\\u00eda\", \"casos\": 0, \"codigo region\": 11}, {\"date\": \"2020-03-11\", \"region\": \"Los R\\u00edos\", \"casos\": 0, \"codigo region\": 12}, {\"date\": \"2020-03-11\", \"region\": \"Los Lagos\", \"casos\": 1, \"codigo region\": 13}, {\"date\": \"2020-03-11\", \"region\": \"Ays\\u00e9n\", \"casos\": 0, \"codigo region\": 14}, {\"date\": \"2020-03-11\", \"region\": \"Magallanes\", \"casos\": 0, \"codigo region\": 15}, {\"date\": \"2020-03-12\", \"region\": \"Arica y Parinacota\", \"casos\": 0, \"codigo region\": 0}, {\"date\": \"2020-03-12\", \"region\": \"Tarapac\\u00e1\", \"casos\": 0, \"codigo region\": 1}, {\"date\": \"2020-03-12\", \"region\": \"Antofagasta\", \"casos\": 0, \"codigo region\": 2}, {\"date\": \"2020-03-12\", \"region\": \"Atacama\", \"casos\": 0, \"codigo region\": 3}, {\"date\": \"2020-03-12\", \"region\": \"Coquimbo\", \"casos\": 0, \"codigo region\": 4}, {\"date\": \"2020-03-12\", \"region\": \"Valpara\\u00edso\", \"casos\": 0, \"codigo region\": 5}, {\"date\": \"2020-03-12\", \"region\": \"Metropolitana\", \"casos\": 23, \"codigo region\": 6}, {\"date\": \"2020-03-12\", \"region\": \"O\\u2019Higgins\", \"casos\": 0, \"codigo region\": 7}, {\"date\": \"2020-03-12\", \"region\": \"Maule\", \"casos\": 7, \"codigo region\": 8}, {\"date\": \"2020-03-12\", \"region\": \"\\u00d1uble\", \"casos\": 1, \"codigo region\": 9}, {\"date\": \"2020-03-12\", \"region\": \"Biob\\u00edo\", \"casos\": 1, \"codigo region\": 10}, {\"date\": \"2020-03-12\", \"region\": \"Araucan\\u00eda\", \"casos\": 0, \"codigo region\": 11}, {\"date\": \"2020-03-12\", \"region\": \"Los R\\u00edos\", \"casos\": 0, \"codigo region\": 12}, {\"date\": \"2020-03-12\", \"region\": \"Los Lagos\", \"casos\": 1, \"codigo region\": 13}, {\"date\": \"2020-03-12\", \"region\": \"Ays\\u00e9n\", \"casos\": 0, \"codigo region\": 14}, {\"date\": \"2020-03-12\", \"region\": \"Magallanes\", \"casos\": 0, \"codigo region\": 15}, {\"date\": \"2020-03-13\", \"region\": \"Arica y Parinacota\", \"casos\": 0, \"codigo region\": 0}, {\"date\": \"2020-03-13\", \"region\": \"Tarapac\\u00e1\", \"casos\": 0, \"codigo region\": 1}, {\"date\": \"2020-03-13\", \"region\": \"Antofagasta\", \"casos\": 0, \"codigo region\": 2}, {\"date\": \"2020-03-13\", \"region\": \"Atacama\", \"casos\": 0, \"codigo region\": 3}, {\"date\": \"2020-03-13\", \"region\": \"Coquimbo\", \"casos\": 0, \"codigo region\": 4}, {\"date\": \"2020-03-13\", \"region\": \"Valpara\\u00edso\", \"casos\": 0, \"codigo region\": 5}, {\"date\": \"2020-03-13\", \"region\": \"Metropolitana\", \"casos\": 29, \"codigo region\": 6}, {\"date\": \"2020-03-13\", \"region\": \"O\\u2019Higgins\", \"casos\": 0, \"codigo region\": 7}, {\"date\": \"2020-03-13\", \"region\": \"Maule\", \"casos\": 8, \"codigo region\": 8}, {\"date\": \"2020-03-13\", \"region\": \"\\u00d1uble\", \"casos\": 2, \"codigo region\": 9}, {\"date\": \"2020-03-13\", \"region\": \"Biob\\u00edo\", \"casos\": 3, \"codigo region\": 10}, {\"date\": \"2020-03-13\", \"region\": \"Araucan\\u00eda\", \"casos\": 0, \"codigo region\": 11}, {\"date\": \"2020-03-13\", \"region\": \"Los R\\u00edos\", \"casos\": 0, \"codigo region\": 12}, {\"date\": \"2020-03-13\", \"region\": \"Los Lagos\", \"casos\": 1, \"codigo region\": 13}, {\"date\": \"2020-03-13\", \"region\": \"Ays\\u00e9n\", \"casos\": 0, \"codigo region\": 14}, {\"date\": \"2020-03-13\", \"region\": \"Magallanes\", \"casos\": 0, \"codigo region\": 15}, {\"date\": \"2020-03-14\", \"region\": \"Arica y Parinacota\", \"casos\": 0, \"codigo region\": 0}, {\"date\": \"2020-03-14\", \"region\": \"Tarapac\\u00e1\", \"casos\": 0, \"codigo region\": 1}, {\"date\": \"2020-03-14\", \"region\": \"Antofagasta\", \"casos\": 2, \"codigo region\": 2}, {\"date\": \"2020-03-14\", \"region\": \"Atacama\", \"casos\": 1, \"codigo region\": 3}, {\"date\": \"2020-03-14\", \"region\": \"Coquimbo\", \"casos\": 0, \"codigo region\": 4}, {\"date\": \"2020-03-14\", \"region\": \"Valpara\\u00edso\", \"casos\": 0, \"codigo region\": 5}, {\"date\": \"2020-03-14\", \"region\": \"Metropolitana\", \"casos\": 40, \"codigo region\": 6}, {\"date\": \"2020-03-14\", \"region\": \"O\\u2019Higgins\", \"casos\": 0, \"codigo region\": 7}, {\"date\": \"2020-03-14\", \"region\": \"Maule\", \"casos\": 9, \"codigo region\": 8}, {\"date\": \"2020-03-14\", \"region\": \"\\u00d1uble\", \"casos\": 4, \"codigo region\": 9}, {\"date\": \"2020-03-14\", \"region\": \"Biob\\u00edo\", \"casos\": 3, \"codigo region\": 10}, {\"date\": \"2020-03-14\", \"region\": \"Araucan\\u00eda\", \"casos\": 0, \"codigo region\": 11}, {\"date\": \"2020-03-14\", \"region\": \"Los R\\u00edos\", \"casos\": 0, \"codigo region\": 12}, {\"date\": \"2020-03-14\", \"region\": \"Los Lagos\", \"casos\": 1, \"codigo region\": 13}, {\"date\": \"2020-03-14\", \"region\": \"Ays\\u00e9n\", \"casos\": 1, \"codigo region\": 14}, {\"date\": \"2020-03-14\", \"region\": \"Magallanes\", \"casos\": 0, \"codigo region\": 15}, {\"date\": \"2020-03-15\", \"region\": \"Arica y Parinacota\", \"casos\": 0, \"codigo region\": 0}, {\"date\": \"2020-03-15\", \"region\": \"Tarapac\\u00e1\", \"casos\": 0, \"codigo region\": 1}, {\"date\": \"2020-03-15\", \"region\": \"Antofagasta\", \"casos\": 2, \"codigo region\": 2}, {\"date\": \"2020-03-15\", \"region\": \"Atacama\", \"casos\": 1, \"codigo region\": 3}, {\"date\": \"2020-03-15\", \"region\": \"Coquimbo\", \"casos\": 0, \"codigo region\": 4}, {\"date\": \"2020-03-15\", \"region\": \"Valpara\\u00edso\", \"casos\": 0, \"codigo region\": 5}, {\"date\": \"2020-03-15\", \"region\": \"Metropolitana\", \"casos\": 54, \"codigo region\": 6}, {\"date\": \"2020-03-15\", \"region\": \"O\\u2019Higgins\", \"casos\": 0, \"codigo region\": 7}, {\"date\": \"2020-03-15\", \"region\": \"Maule\", \"casos\": 9, \"codigo region\": 8}, {\"date\": \"2020-03-15\", \"region\": \"\\u00d1uble\", \"casos\": 4, \"codigo region\": 9}, {\"date\": \"2020-03-15\", \"region\": \"Biob\\u00edo\", \"casos\": 3, \"codigo region\": 10}, {\"date\": \"2020-03-15\", \"region\": \"Araucan\\u00eda\", \"casos\": 0, \"codigo region\": 11}, {\"date\": \"2020-03-15\", \"region\": \"Los R\\u00edos\", \"casos\": 0, \"codigo region\": 12}, {\"date\": \"2020-03-15\", \"region\": \"Los Lagos\", \"casos\": 1, \"codigo region\": 13}, {\"date\": \"2020-03-15\", \"region\": \"Ays\\u00e9n\", \"casos\": 1, \"codigo region\": 14}, {\"date\": \"2020-03-15\", \"region\": \"Magallanes\", \"casos\": 0, \"codigo region\": 15}, {\"date\": \"2020-03-16\", \"region\": \"Arica y Parinacota\", \"casos\": 0, \"codigo region\": 0}, {\"date\": \"2020-03-16\", \"region\": \"Tarapac\\u00e1\", \"casos\": 0, \"codigo region\": 1}, {\"date\": \"2020-03-16\", \"region\": \"Antofagasta\", \"casos\": 2, \"codigo region\": 2}, {\"date\": \"2020-03-16\", \"region\": \"Atacama\", \"casos\": 1, \"codigo region\": 3}, {\"date\": \"2020-03-16\", \"region\": \"Coquimbo\", \"casos\": 0, \"codigo region\": 4}, {\"date\": \"2020-03-16\", \"region\": \"Valpara\\u00edso\", \"casos\": 1, \"codigo region\": 5}, {\"date\": \"2020-03-16\", \"region\": \"Metropolitana\", \"casos\": 123, \"codigo region\": 6}, {\"date\": \"2020-03-16\", \"region\": \"O\\u2019Higgins\", \"casos\": 0, \"codigo region\": 7}, {\"date\": \"2020-03-16\", \"region\": \"Maule\", \"casos\": 9, \"codigo region\": 8}, {\"date\": \"2020-03-16\", \"region\": \"\\u00d1uble\", \"casos\": 12, \"codigo region\": 9}, {\"date\": \"2020-03-16\", \"region\": \"Biob\\u00edo\", \"casos\": 4, \"codigo region\": 10}, {\"date\": \"2020-03-16\", \"region\": \"Araucan\\u00eda\", \"casos\": 1, \"codigo region\": 11}, {\"date\": \"2020-03-16\", \"region\": \"Los R\\u00edos\", \"casos\": 1, \"codigo region\": 12}, {\"date\": \"2020-03-16\", \"region\": \"Los Lagos\", \"casos\": 1, \"codigo region\": 13}, {\"date\": \"2020-03-16\", \"region\": \"Ays\\u00e9n\", \"casos\": 1, \"codigo region\": 14}, {\"date\": \"2020-03-16\", \"region\": \"Magallanes\", \"casos\": 0, \"codigo region\": 15}, {\"date\": \"2020-03-17\", \"region\": \"Arica y Parinacota\", \"casos\": 0, \"codigo region\": 0}, {\"date\": \"2020-03-17\", \"region\": \"Tarapac\\u00e1\", \"casos\": 0, \"codigo region\": 1}, {\"date\": \"2020-03-17\", \"region\": \"Antofagasta\", \"casos\": 2, \"codigo region\": 2}, {\"date\": \"2020-03-17\", \"region\": \"Atacama\", \"casos\": 1, \"codigo region\": 3}, {\"date\": \"2020-03-17\", \"region\": \"Coquimbo\", \"casos\": 0, \"codigo region\": 4}, {\"date\": \"2020-03-17\", \"region\": \"Valpara\\u00edso\", \"casos\": 1, \"codigo region\": 5}, {\"date\": \"2020-03-17\", \"region\": \"Metropolitana\", \"casos\": 152, \"codigo region\": 6}, {\"date\": \"2020-03-17\", \"region\": \"O\\u2019Higgins\", \"casos\": 0, \"codigo region\": 7}, {\"date\": \"2020-03-17\", \"region\": \"Maule\", \"casos\": 9, \"codigo region\": 8}, {\"date\": \"2020-03-17\", \"region\": \"\\u00d1uble\", \"casos\": 26, \"codigo region\": 9}, {\"date\": \"2020-03-17\", \"region\": \"Biob\\u00edo\", \"casos\": 4, \"codigo region\": 10}, {\"date\": \"2020-03-17\", \"region\": \"Araucan\\u00eda\", \"casos\": 1, \"codigo region\": 11}, {\"date\": \"2020-03-17\", \"region\": \"Los R\\u00edos\", \"casos\": 1, \"codigo region\": 12}, {\"date\": \"2020-03-17\", \"region\": \"Los Lagos\", \"casos\": 1, \"codigo region\": 13}, {\"date\": \"2020-03-17\", \"region\": \"Ays\\u00e9n\", \"casos\": 1, \"codigo region\": 14}, {\"date\": \"2020-03-17\", \"region\": \"Magallanes\", \"casos\": 2, \"codigo region\": 15}, {\"date\": \"2020-03-18\", \"region\": \"Arica y Parinacota\", \"casos\": 0, \"codigo region\": 0}, {\"date\": \"2020-03-18\", \"region\": \"Tarapac\\u00e1\", \"casos\": 0, \"codigo region\": 1}, {\"date\": \"2020-03-18\", \"region\": \"Antofagasta\", \"casos\": 2, \"codigo region\": 2}, {\"date\": \"2020-03-18\", \"region\": \"Atacama\", \"casos\": 1, \"codigo region\": 3}, {\"date\": \"2020-03-18\", \"region\": \"Coquimbo\", \"casos\": 0, \"codigo region\": 4}, {\"date\": \"2020-03-18\", \"region\": \"Valpara\\u00edso\", \"casos\": 1, \"codigo region\": 5}, {\"date\": \"2020-03-18\", \"region\": \"Metropolitana\", \"casos\": 174, \"codigo region\": 6}, {\"date\": \"2020-03-18\", \"region\": \"O\\u2019Higgins\", \"casos\": 0, \"codigo region\": 7}, {\"date\": \"2020-03-18\", \"region\": \"Maule\", \"casos\": 11, \"codigo region\": 8}, {\"date\": \"2020-03-18\", \"region\": \"\\u00d1uble\", \"casos\": 26, \"codigo region\": 9}, {\"date\": \"2020-03-18\", \"region\": \"Biob\\u00edo\", \"casos\": 7, \"codigo region\": 10}, {\"date\": \"2020-03-18\", \"region\": \"Araucan\\u00eda\", \"casos\": 4, \"codigo region\": 11}, {\"date\": \"2020-03-18\", \"region\": \"Los R\\u00edos\", \"casos\": 1, \"codigo region\": 12}, {\"date\": \"2020-03-18\", \"region\": \"Los Lagos\", \"casos\": 8, \"codigo region\": 13}, {\"date\": \"2020-03-18\", \"region\": \"Ays\\u00e9n\", \"casos\": 1, \"codigo region\": 14}, {\"date\": \"2020-03-18\", \"region\": \"Magallanes\", \"casos\": 2, \"codigo region\": 15}, {\"date\": \"2020-03-19\", \"region\": \"Arica y Parinacota\", \"casos\": 1, \"codigo region\": 0}, {\"date\": \"2020-03-19\", \"region\": \"Tarapac\\u00e1\", \"casos\": 0, \"codigo region\": 1}, {\"date\": \"2020-03-19\", \"region\": \"Antofagasta\", \"casos\": 2, \"codigo region\": 2}, {\"date\": \"2020-03-19\", \"region\": \"Atacama\", \"casos\": 1, \"codigo region\": 3}, {\"date\": \"2020-03-19\", \"region\": \"Coquimbo\", \"casos\": 2, \"codigo region\": 4}, {\"date\": \"2020-03-19\", \"region\": \"Valpara\\u00edso\", \"casos\": 4, \"codigo region\": 5}, {\"date\": \"2020-03-19\", \"region\": \"Metropolitana\", \"casos\": 247, \"codigo region\": 6}, {\"date\": \"2020-03-19\", \"region\": \"O\\u2019Higgins\", \"casos\": 2, \"codigo region\": 7}, {\"date\": \"2020-03-19\", \"region\": \"Maule\", \"casos\": 14, \"codigo region\": 8}, {\"date\": \"2020-03-19\", \"region\": \"\\u00d1uble\", \"casos\": 28, \"codigo region\": 9}, {\"date\": \"2020-03-19\", \"region\": \"Biob\\u00edo\", \"casos\": 14, \"codigo region\": 10}, {\"date\": \"2020-03-19\", \"region\": \"Araucan\\u00eda\", \"casos\": 7, \"codigo region\": 11}, {\"date\": \"2020-03-19\", \"region\": \"Los R\\u00edos\", \"casos\": 1, \"codigo region\": 12}, {\"date\": \"2020-03-19\", \"region\": \"Los Lagos\", \"casos\": 16, \"codigo region\": 13}, {\"date\": \"2020-03-19\", \"region\": \"Ays\\u00e9n\", \"casos\": 1, \"codigo region\": 14}, {\"date\": \"2020-03-19\", \"region\": \"Magallanes\", \"casos\": 2, \"codigo region\": 15}, {\"date\": \"2020-03-20\", \"region\": \"Arica y Parinacota\", \"casos\": 1, \"codigo region\": 0}, {\"date\": \"2020-03-20\", \"region\": \"Tarapac\\u00e1\", \"casos\": 0, \"codigo region\": 1}, {\"date\": \"2020-03-20\", \"region\": \"Antofagasta\", \"casos\": 6, \"codigo region\": 2}, {\"date\": \"2020-03-20\", \"region\": \"Atacama\", \"casos\": 1, \"codigo region\": 3}, {\"date\": \"2020-03-20\", \"region\": \"Coquimbo\", \"casos\": 3, \"codigo region\": 4}, {\"date\": \"2020-03-20\", \"region\": \"Valpara\\u00edso\", \"casos\": 5, \"codigo region\": 5}, {\"date\": \"2020-03-20\", \"region\": \"Metropolitana\", \"casos\": 304, \"codigo region\": 6}, {\"date\": \"2020-03-20\", \"region\": \"O\\u2019Higgins\", \"casos\": 6, \"codigo region\": 7}, {\"date\": \"2020-03-20\", \"region\": \"Maule\", \"casos\": 14, \"codigo region\": 8}, {\"date\": \"2020-03-20\", \"region\": \"\\u00d1uble\", \"casos\": 44, \"codigo region\": 9}, {\"date\": \"2020-03-20\", \"region\": \"Biob\\u00edo\", \"casos\": 19, \"codigo region\": 10}, {\"date\": \"2020-03-20\", \"region\": \"Araucan\\u00eda\", \"casos\": 9, \"codigo region\": 11}, {\"date\": \"2020-03-20\", \"region\": \"Los R\\u00edos\", \"casos\": 1, \"codigo region\": 12}, {\"date\": \"2020-03-20\", \"region\": \"Los Lagos\", \"casos\": 18, \"codigo region\": 13}, {\"date\": \"2020-03-20\", \"region\": \"Ays\\u00e9n\", \"casos\": 1, \"codigo region\": 14}, {\"date\": \"2020-03-20\", \"region\": \"Magallanes\", \"casos\": 2, \"codigo region\": 15}, {\"date\": \"2020-03-21\", \"region\": \"Arica y Parinacota\", \"casos\": 1, \"codigo region\": 0}, {\"date\": \"2020-03-21\", \"region\": \"Tarapac\\u00e1\", \"casos\": 0, \"codigo region\": 1}, {\"date\": \"2020-03-21\", \"region\": \"Antofagasta\", \"casos\": 10, \"codigo region\": 2}, {\"date\": \"2020-03-21\", \"region\": \"Atacama\", \"casos\": 1, \"codigo region\": 3}, {\"date\": \"2020-03-21\", \"region\": \"Coquimbo\", \"casos\": 3, \"codigo region\": 4}, {\"date\": \"2020-03-21\", \"region\": \"Valpara\\u00edso\", \"casos\": 13, \"codigo region\": 5}, {\"date\": \"2020-03-21\", \"region\": \"Metropolitana\", \"casos\": 359, \"codigo region\": 6}, {\"date\": \"2020-03-21\", \"region\": \"O\\u2019Higgins\", \"casos\": 7, \"codigo region\": 7}, {\"date\": \"2020-03-21\", \"region\": \"Maule\", \"casos\": 15, \"codigo region\": 8}, {\"date\": \"2020-03-21\", \"region\": \"\\u00d1uble\", \"casos\": 58, \"codigo region\": 9}, {\"date\": \"2020-03-21\", \"region\": \"Biob\\u00edo\", \"casos\": 30, \"codigo region\": 10}, {\"date\": \"2020-03-21\", \"region\": \"Araucan\\u00eda\", \"casos\": 15, \"codigo region\": 11}, {\"date\": \"2020-03-21\", \"region\": \"Los R\\u00edos\", \"casos\": 1, \"codigo region\": 12}, {\"date\": \"2020-03-21\", \"region\": \"Los Lagos\", \"casos\": 20, \"codigo region\": 13}, {\"date\": \"2020-03-21\", \"region\": \"Ays\\u00e9n\", \"casos\": 1, \"codigo region\": 14}, {\"date\": \"2020-03-21\", \"region\": \"Magallanes\", \"casos\": 3, \"codigo region\": 15}, {\"date\": \"2020-03-22\", \"region\": \"Arica y Parinacota\", \"casos\": 2, \"codigo region\": 0}, {\"date\": \"2020-03-22\", \"region\": \"Tarapac\\u00e1\", \"casos\": 0, \"codigo region\": 1}, {\"date\": \"2020-03-22\", \"region\": \"Antofagasta\", \"casos\": 11, \"codigo region\": 2}, {\"date\": \"2020-03-22\", \"region\": \"Atacama\", \"casos\": 1, \"codigo region\": 3}, {\"date\": \"2020-03-22\", \"region\": \"Coquimbo\", \"casos\": 5, \"codigo region\": 4}, {\"date\": \"2020-03-22\", \"region\": \"Valpara\\u00edso\", \"casos\": 16, \"codigo region\": 5}, {\"date\": \"2020-03-22\", \"region\": \"Metropolitana\", \"casos\": 409, \"codigo region\": 6}, {\"date\": \"2020-03-22\", \"region\": \"O\\u2019Higgins\", \"casos\": 8, \"codigo region\": 7}, {\"date\": \"2020-03-22\", \"region\": \"Maule\", \"casos\": 25, \"codigo region\": 8}, {\"date\": \"2020-03-22\", \"region\": \"\\u00d1uble\", \"casos\": 64, \"codigo region\": 9}, {\"date\": \"2020-03-22\", \"region\": \"Biob\\u00edo\", \"casos\": 35, \"codigo region\": 10}, {\"date\": \"2020-03-22\", \"region\": \"Araucan\\u00eda\", \"casos\": 27, \"codigo region\": 11}, {\"date\": \"2020-03-22\", \"region\": \"Los R\\u00edos\", \"casos\": 1, \"codigo region\": 12}, {\"date\": \"2020-03-22\", \"region\": \"Los Lagos\", \"casos\": 23, \"codigo region\": 13}, {\"date\": \"2020-03-22\", \"region\": \"Ays\\u00e9n\", \"casos\": 1, \"codigo region\": 14}, {\"date\": \"2020-03-22\", \"region\": \"Magallanes\", \"casos\": 4, \"codigo region\": 15}, {\"date\": \"2020-03-23\", \"region\": \"Arica y Parinacota\", \"casos\": 2, \"codigo region\": 0}, {\"date\": \"2020-03-23\", \"region\": \"Tarapac\\u00e1\", \"casos\": 1, \"codigo region\": 1}, {\"date\": \"2020-03-23\", \"region\": \"Antofagasta\", \"casos\": 11, \"codigo region\": 2}, {\"date\": \"2020-03-23\", \"region\": \"Atacama\", \"casos\": 1, \"codigo region\": 3}, {\"date\": \"2020-03-23\", \"region\": \"Coquimbo\", \"casos\": 6, \"codigo region\": 4}, {\"date\": \"2020-03-23\", \"region\": \"Valpara\\u00edso\", \"casos\": 19, \"codigo region\": 5}, {\"date\": \"2020-03-23\", \"region\": \"Metropolitana\", \"casos\": 459, \"codigo region\": 6}, {\"date\": \"2020-03-23\", \"region\": \"O\\u2019Higgins\", \"casos\": 8, \"codigo region\": 7}, {\"date\": \"2020-03-23\", \"region\": \"Maule\", \"casos\": 28, \"codigo region\": 8}, {\"date\": \"2020-03-23\", \"region\": \"\\u00d1uble\", \"casos\": 81, \"codigo region\": 9}, {\"date\": \"2020-03-23\", \"region\": \"Biob\\u00edo\", \"casos\": 46, \"codigo region\": 10}, {\"date\": \"2020-03-23\", \"region\": \"Araucan\\u00eda\", \"casos\": 40, \"codigo region\": 11}, {\"date\": \"2020-03-23\", \"region\": \"Los R\\u00edos\", \"casos\": 4, \"codigo region\": 12}, {\"date\": \"2020-03-23\", \"region\": \"Los Lagos\", \"casos\": 33, \"codigo region\": 13}, {\"date\": \"2020-03-23\", \"region\": \"Ays\\u00e9n\", \"casos\": 1, \"codigo region\": 14}, {\"date\": \"2020-03-23\", \"region\": \"Magallanes\", \"casos\": 6, \"codigo region\": 15}, {\"date\": \"2020-03-24\", \"region\": \"Arica y Parinacota\", \"casos\": 2, \"codigo region\": 0}, {\"date\": \"2020-03-24\", \"region\": \"Tarapac\\u00e1\", \"casos\": 4, \"codigo region\": 1}, {\"date\": \"2020-03-24\", \"region\": \"Antofagasta\", \"casos\": 13, \"codigo region\": 2}, {\"date\": \"2020-03-24\", \"region\": \"Atacama\", \"casos\": 1, \"codigo region\": 3}, {\"date\": \"2020-03-24\", \"region\": \"Coquimbo\", \"casos\": 11, \"codigo region\": 4}, {\"date\": \"2020-03-24\", \"region\": \"Valpara\\u00edso\", \"casos\": 25, \"codigo region\": 5}, {\"date\": \"2020-03-24\", \"region\": \"Metropolitana\", \"casos\": 540, \"codigo region\": 6}, {\"date\": \"2020-03-24\", \"region\": \"O\\u2019Higgins\", \"casos\": 9, \"codigo region\": 7}, {\"date\": \"2020-03-24\", \"region\": \"Maule\", \"casos\": 29, \"codigo region\": 8}, {\"date\": \"2020-03-24\", \"region\": \"\\u00d1uble\", \"casos\": 105, \"codigo region\": 9}, {\"date\": \"2020-03-24\", \"region\": \"Biob\\u00edo\", \"casos\": 73, \"codigo region\": 10}, {\"date\": \"2020-03-24\", \"region\": \"Araucan\\u00eda\", \"casos\": 59, \"codigo region\": 11}, {\"date\": \"2020-03-24\", \"region\": \"Los R\\u00edos\", \"casos\": 6, \"codigo region\": 12}, {\"date\": \"2020-03-24\", \"region\": \"Los Lagos\", \"casos\": 36, \"codigo region\": 13}, {\"date\": \"2020-03-24\", \"region\": \"Ays\\u00e9n\", \"casos\": 1, \"codigo region\": 14}, {\"date\": \"2020-03-24\", \"region\": \"Magallanes\", \"casos\": 8, \"codigo region\": 15}, {\"date\": \"2020-03-25\", \"region\": \"Arica y Parinacota\", \"casos\": 2, \"codigo region\": 0}, {\"date\": \"2020-03-25\", \"region\": \"Tarapac\\u00e1\", \"casos\": 4, \"codigo region\": 1}, {\"date\": \"2020-03-25\", \"region\": \"Antofagasta\", \"casos\": 19, \"codigo region\": 2}, {\"date\": \"2020-03-25\", \"region\": \"Atacama\", \"casos\": 1, \"codigo region\": 3}, {\"date\": \"2020-03-25\", \"region\": \"Coquimbo\", \"casos\": 12, \"codigo region\": 4}, {\"date\": \"2020-03-25\", \"region\": \"Valpara\\u00edso\", \"casos\": 32, \"codigo region\": 5}, {\"date\": \"2020-03-25\", \"region\": \"Metropolitana\", \"casos\": 682, \"codigo region\": 6}, {\"date\": \"2020-03-25\", \"region\": \"O\\u2019Higgins\", \"casos\": 11, \"codigo region\": 7}, {\"date\": \"2020-03-25\", \"region\": \"Maule\", \"casos\": 30, \"codigo region\": 8}, {\"date\": \"2020-03-25\", \"region\": \"\\u00d1uble\", \"casos\": 111, \"codigo region\": 9}, {\"date\": \"2020-03-25\", \"region\": \"Biob\\u00edo\", \"casos\": 95, \"codigo region\": 10}, {\"date\": \"2020-03-25\", \"region\": \"Araucan\\u00eda\", \"casos\": 74, \"codigo region\": 11}, {\"date\": \"2020-03-25\", \"region\": \"Los R\\u00edos\", \"casos\": 11, \"codigo region\": 12}, {\"date\": \"2020-03-25\", \"region\": \"Los Lagos\", \"casos\": 44, \"codigo region\": 13}, {\"date\": \"2020-03-25\", \"region\": \"Ays\\u00e9n\", \"casos\": 1, \"codigo region\": 14}, {\"date\": \"2020-03-25\", \"region\": \"Magallanes\", \"casos\": 13, \"codigo region\": 15}, {\"date\": \"2020-03-26\", \"region\": \"Arica y Parinacota\", \"casos\": 3, \"codigo region\": 0}, {\"date\": \"2020-03-26\", \"region\": \"Tarapac\\u00e1\", \"casos\": 5, \"codigo region\": 1}, {\"date\": \"2020-03-26\", \"region\": \"Antofagasta\", \"casos\": 20, \"codigo region\": 2}, {\"date\": \"2020-03-26\", \"region\": \"Atacama\", \"casos\": 1, \"codigo region\": 3}, {\"date\": \"2020-03-26\", \"region\": \"Coquimbo\", \"casos\": 13, \"codigo region\": 4}, {\"date\": \"2020-03-26\", \"region\": \"Valpara\\u00edso\", \"casos\": 44, \"codigo region\": 5}, {\"date\": \"2020-03-26\", \"region\": \"Metropolitana\", \"casos\": 746, \"codigo region\": 6}, {\"date\": \"2020-03-26\", \"region\": \"O\\u2019Higgins\", \"casos\": 14, \"codigo region\": 7}, {\"date\": \"2020-03-26\", \"region\": \"Maule\", \"casos\": 31, \"codigo region\": 8}, {\"date\": \"2020-03-26\", \"region\": \"\\u00d1uble\", \"casos\": 114, \"codigo region\": 9}, {\"date\": \"2020-03-26\", \"region\": \"Biob\\u00edo\", \"casos\": 109, \"codigo region\": 10}, {\"date\": \"2020-03-26\", \"region\": \"Araucan\\u00eda\", \"casos\": 111, \"codigo region\": 11}, {\"date\": \"2020-03-26\", \"region\": \"Los R\\u00edos\", \"casos\": 14, \"codigo region\": 12}, {\"date\": \"2020-03-26\", \"region\": \"Los Lagos\", \"casos\": 60, \"codigo region\": 13}, {\"date\": \"2020-03-26\", \"region\": \"Ays\\u00e9n\", \"casos\": 2, \"codigo region\": 14}, {\"date\": \"2020-03-26\", \"region\": \"Magallanes\", \"casos\": 19, \"codigo region\": 15}, {\"date\": \"2020-03-27\", \"region\": \"Arica y Parinacota\", \"casos\": 3, \"codigo region\": 0}, {\"date\": \"2020-03-27\", \"region\": \"Tarapac\\u00e1\", \"casos\": 5, \"codigo region\": 1}, {\"date\": \"2020-03-27\", \"region\": \"Antofagasta\", \"casos\": 21, \"codigo region\": 2}, {\"date\": \"2020-03-27\", \"region\": \"Atacama\", \"casos\": 1, \"codigo region\": 3}, {\"date\": \"2020-03-27\", \"region\": \"Coquimbo\", \"casos\": 14, \"codigo region\": 4}, {\"date\": \"2020-03-27\", \"region\": \"Valpara\\u00edso\", \"casos\": 49, \"codigo region\": 5}, {\"date\": \"2020-03-27\", \"region\": \"Metropolitana\", \"casos\": 938, \"codigo region\": 6}, {\"date\": \"2020-03-27\", \"region\": \"O\\u2019Higgins\", \"casos\": 16, \"codigo region\": 7}, {\"date\": \"2020-03-27\", \"region\": \"Maule\", \"casos\": 32, \"codigo region\": 8}, {\"date\": \"2020-03-27\", \"region\": \"\\u00d1uble\", \"casos\": 144, \"codigo region\": 9}, {\"date\": \"2020-03-27\", \"region\": \"Biob\\u00edo\", \"casos\": 135, \"codigo region\": 10}, {\"date\": \"2020-03-27\", \"region\": \"Araucan\\u00eda\", \"casos\": 143, \"codigo region\": 11}, {\"date\": \"2020-03-27\", \"region\": \"Los R\\u00edos\", \"casos\": 22, \"codigo region\": 12}, {\"date\": \"2020-03-27\", \"region\": \"Los Lagos\", \"casos\": 63, \"codigo region\": 13}, {\"date\": \"2020-03-27\", \"region\": \"Ays\\u00e9n\", \"casos\": 2, \"codigo region\": 14}, {\"date\": \"2020-03-27\", \"region\": \"Magallanes\", \"casos\": 22, \"codigo region\": 15}, {\"date\": \"2020-03-28\", \"region\": \"Arica y Parinacota\", \"casos\": 3, \"codigo region\": 0}, {\"date\": \"2020-03-28\", \"region\": \"Tarapac\\u00e1\", \"casos\": 5, \"codigo region\": 1}, {\"date\": \"2020-03-28\", \"region\": \"Antofagasta\", \"casos\": 25, \"codigo region\": 2}, {\"date\": \"2020-03-28\", \"region\": \"Atacama\", \"casos\": 1, \"codigo region\": 3}, {\"date\": \"2020-03-28\", \"region\": \"Coquimbo\", \"casos\": 15, \"codigo region\": 4}, {\"date\": \"2020-03-28\", \"region\": \"Valpara\\u00edso\", \"casos\": 71, \"codigo region\": 5}, {\"date\": \"2020-03-28\", \"region\": \"Metropolitana\", \"casos\": 1084, \"codigo region\": 6}, {\"date\": \"2020-03-28\", \"region\": \"O\\u2019Higgins\", \"casos\": 20, \"codigo region\": 7}, {\"date\": \"2020-03-28\", \"region\": \"Maule\", \"casos\": 37, \"codigo region\": 8}, {\"date\": \"2020-03-28\", \"region\": \"\\u00d1uble\", \"casos\": 172, \"codigo region\": 9}, {\"date\": \"2020-03-28\", \"region\": \"Biob\\u00edo\", \"casos\": 151, \"codigo region\": 10}, {\"date\": \"2020-03-28\", \"region\": \"Araucan\\u00eda\", \"casos\": 177, \"codigo region\": 11}, {\"date\": \"2020-03-28\", \"region\": \"Los R\\u00edos\", \"casos\": 27, \"codigo region\": 12}, {\"date\": \"2020-03-28\", \"region\": \"Los Lagos\", \"casos\": 93, \"codigo region\": 13}, {\"date\": \"2020-03-28\", \"region\": \"Ays\\u00e9n\", \"casos\": 2, \"codigo region\": 14}, {\"date\": \"2020-03-28\", \"region\": \"Magallanes\", \"casos\": 26, \"codigo region\": 15}, {\"date\": \"2020-03-29\", \"region\": \"Arica y Parinacota\", \"casos\": 4, \"codigo region\": 0}, {\"date\": \"2020-03-29\", \"region\": \"Tarapac\\u00e1\", \"casos\": 6, \"codigo region\": 1}, {\"date\": \"2020-03-29\", \"region\": \"Antofagasta\", \"casos\": 27, \"codigo region\": 2}, {\"date\": \"2020-03-29\", \"region\": \"Atacama\", \"casos\": 2, \"codigo region\": 3}, {\"date\": \"2020-03-29\", \"region\": \"Coquimbo\", \"casos\": 18, \"codigo region\": 4}, {\"date\": \"2020-03-29\", \"region\": \"Valpara\\u00edso\", \"casos\": 80, \"codigo region\": 5}, {\"date\": \"2020-03-29\", \"region\": \"Metropolitana\", \"casos\": 1167, \"codigo region\": 6}, {\"date\": \"2020-03-29\", \"region\": \"O\\u2019Higgins\", \"casos\": 21, \"codigo region\": 7}, {\"date\": \"2020-03-29\", \"region\": \"Maule\", \"casos\": 42, \"codigo region\": 8}, {\"date\": \"2020-03-29\", \"region\": \"\\u00d1uble\", \"casos\": 197, \"codigo region\": 9}, {\"date\": \"2020-03-29\", \"region\": \"Biob\\u00edo\", \"casos\": 185, \"codigo region\": 10}, {\"date\": \"2020-03-29\", \"region\": \"Araucan\\u00eda\", \"casos\": 205, \"codigo region\": 11}, {\"date\": \"2020-03-29\", \"region\": \"Los R\\u00edos\", \"casos\": 40, \"codigo region\": 12}, {\"date\": \"2020-03-29\", \"region\": \"Los Lagos\", \"casos\": 104, \"codigo region\": 13}, {\"date\": \"2020-03-29\", \"region\": \"Ays\\u00e9n\", \"casos\": 2, \"codigo region\": 14}, {\"date\": \"2020-03-29\", \"region\": \"Magallanes\", \"casos\": 39, \"codigo region\": 15}, {\"date\": \"2020-03-30\", \"region\": \"Arica y Parinacota\", \"casos\": 6, \"codigo region\": 0}, {\"date\": \"2020-03-30\", \"region\": \"Tarapac\\u00e1\", \"casos\": 8, \"codigo region\": 1}, {\"date\": \"2020-03-30\", \"region\": \"Antofagasta\", \"casos\": 35, \"codigo region\": 2}, {\"date\": \"2020-03-30\", \"region\": \"Atacama\", \"casos\": 2, \"codigo region\": 3}, {\"date\": \"2020-03-30\", \"region\": \"Coquimbo\", \"casos\": 27, \"codigo region\": 4}, {\"date\": \"2020-03-30\", \"region\": \"Valpara\\u00edso\", \"casos\": 108, \"codigo region\": 5}, {\"date\": \"2020-03-30\", \"region\": \"Metropolitana\", \"casos\": 1295, \"codigo region\": 6}, {\"date\": \"2020-03-30\", \"region\": \"O\\u2019Higgins\", \"casos\": 21, \"codigo region\": 7}, {\"date\": \"2020-03-30\", \"region\": \"Maule\", \"casos\": 54, \"codigo region\": 8}, {\"date\": \"2020-03-30\", \"region\": \"\\u00d1uble\", \"casos\": 229, \"codigo region\": 9}, {\"date\": \"2020-03-30\", \"region\": \"Biob\\u00edo\", \"casos\": 201, \"codigo region\": 10}, {\"date\": \"2020-03-30\", \"region\": \"Araucan\\u00eda\", \"casos\": 247, \"codigo region\": 11}, {\"date\": \"2020-03-30\", \"region\": \"Los R\\u00edos\", \"casos\": 47, \"codigo region\": 12}, {\"date\": \"2020-03-30\", \"region\": \"Los Lagos\", \"casos\": 128, \"codigo region\": 13}, {\"date\": \"2020-03-30\", \"region\": \"Ays\\u00e9n\", \"casos\": 2, \"codigo region\": 14}, {\"date\": \"2020-03-30\", \"region\": \"Magallanes\", \"casos\": 39, \"codigo region\": 15}, {\"date\": \"2020-03-31\", \"region\": \"Arica y Parinacota\", \"casos\": 6, \"codigo region\": 0}, {\"date\": \"2020-03-31\", \"region\": \"Tarapac\\u00e1\", \"casos\": 10, \"codigo region\": 1}, {\"date\": \"2020-03-31\", \"region\": \"Antofagasta\", \"casos\": 35, \"codigo region\": 2}, {\"date\": \"2020-03-31\", \"region\": \"Atacama\", \"casos\": 2, \"codigo region\": 3}, {\"date\": \"2020-03-31\", \"region\": \"Coquimbo\", \"casos\": 28, \"codigo region\": 4}, {\"date\": \"2020-03-31\", \"region\": \"Valpara\\u00edso\", \"casos\": 115, \"codigo region\": 5}, {\"date\": \"2020-03-31\", \"region\": \"Metropolitana\", \"casos\": 1420, \"codigo region\": 6}, {\"date\": \"2020-03-31\", \"region\": \"O\\u2019Higgins\", \"casos\": 23, \"codigo region\": 7}, {\"date\": \"2020-03-31\", \"region\": \"Maule\", \"casos\": 62, \"codigo region\": 8}, {\"date\": \"2020-03-31\", \"region\": \"\\u00d1uble\", \"casos\": 245, \"codigo region\": 9}, {\"date\": \"2020-03-31\", \"region\": \"Biob\\u00edo\", \"casos\": 216, \"codigo region\": 10}, {\"date\": \"2020-03-31\", \"region\": \"Araucan\\u00eda\", \"casos\": 302, \"codigo region\": 11}, {\"date\": \"2020-03-31\", \"region\": \"Los R\\u00edos\", \"casos\": 58, \"codigo region\": 12}, {\"date\": \"2020-03-31\", \"region\": \"Los Lagos\", \"casos\": 151, \"codigo region\": 13}, {\"date\": \"2020-03-31\", \"region\": \"Ays\\u00e9n\", \"casos\": 2, \"codigo region\": 14}, {\"date\": \"2020-03-31\", \"region\": \"Magallanes\", \"casos\": 63, \"codigo region\": 15}, {\"date\": \"2020-04-01\", \"region\": \"Arica y Parinacota\", \"casos\": 6, \"codigo region\": 0}, {\"date\": \"2020-04-01\", \"region\": \"Tarapac\\u00e1\", \"casos\": 10, \"codigo region\": 1}, {\"date\": \"2020-04-01\", \"region\": \"Antofagasta\", \"casos\": 39, \"codigo region\": 2}, {\"date\": \"2020-04-01\", \"region\": \"Atacama\", \"casos\": 3, \"codigo region\": 3}, {\"date\": \"2020-04-01\", \"region\": \"Coquimbo\", \"casos\": 30, \"codigo region\": 4}, {\"date\": \"2020-04-01\", \"region\": \"Valpara\\u00edso\", \"casos\": 136, \"codigo region\": 5}, {\"date\": \"2020-04-01\", \"region\": \"Metropolitana\", \"casos\": 1521, \"codigo region\": 6}, {\"date\": \"2020-04-01\", \"region\": \"O\\u2019Higgins\", \"casos\": 26, \"codigo region\": 7}, {\"date\": \"2020-04-01\", \"region\": \"Maule\", \"casos\": 71, \"codigo region\": 8}, {\"date\": \"2020-04-01\", \"region\": \"\\u00d1uble\", \"casos\": 259, \"codigo region\": 9}, {\"date\": \"2020-04-01\", \"region\": \"Biob\\u00edo\", \"casos\": 240, \"codigo region\": 10}, {\"date\": \"2020-04-01\", \"region\": \"Araucan\\u00eda\", \"casos\": 343, \"codigo region\": 11}, {\"date\": \"2020-04-01\", \"region\": \"Los R\\u00edos\", \"casos\": 64, \"codigo region\": 12}, {\"date\": \"2020-04-01\", \"region\": \"Los Lagos\", \"casos\": 181, \"codigo region\": 13}, {\"date\": \"2020-04-01\", \"region\": \"Ays\\u00e9n\", \"casos\": 3, \"codigo region\": 14}, {\"date\": \"2020-04-01\", \"region\": \"Magallanes\", \"casos\": 99, \"codigo region\": 15}, {\"date\": \"2020-04-02\", \"region\": \"Arica y Parinacota\", \"casos\": 7, \"codigo region\": 0}, {\"date\": \"2020-04-02\", \"region\": \"Tarapac\\u00e1\", \"casos\": 12, \"codigo region\": 1}, {\"date\": \"2020-04-02\", \"region\": \"Antofagasta\", \"casos\": 47, \"codigo region\": 2}, {\"date\": \"2020-04-02\", \"region\": \"Atacama\", \"casos\": 3, \"codigo region\": 3}, {\"date\": \"2020-04-02\", \"region\": \"Coquimbo\", \"casos\": 34, \"codigo region\": 4}, {\"date\": \"2020-04-02\", \"region\": \"Valpara\\u00edso\", \"casos\": 156, \"codigo region\": 5}, {\"date\": \"2020-04-02\", \"region\": \"Metropolitana\", \"casos\": 1636, \"codigo region\": 6}, {\"date\": \"2020-04-02\", \"region\": \"O\\u2019Higgins\", \"casos\": 32, \"codigo region\": 7}, {\"date\": \"2020-04-02\", \"region\": \"Maule\", \"casos\": 82, \"codigo region\": 8}, {\"date\": \"2020-04-02\", \"region\": \"\\u00d1uble\", \"casos\": 341, \"codigo region\": 9}, {\"date\": \"2020-04-02\", \"region\": \"Biob\\u00edo\", \"casos\": 275, \"codigo region\": 10}, {\"date\": \"2020-04-02\", \"region\": \"Araucan\\u00eda\", \"casos\": 389, \"codigo region\": 11}, {\"date\": \"2020-04-02\", \"region\": \"Los R\\u00edos\", \"casos\": 68, \"codigo region\": 12}, {\"date\": \"2020-04-02\", \"region\": \"Los Lagos\", \"casos\": 203, \"codigo region\": 13}, {\"date\": \"2020-04-02\", \"region\": \"Ays\\u00e9n\", \"casos\": 5, \"codigo region\": 14}, {\"date\": \"2020-04-02\", \"region\": \"Magallanes\", \"casos\": 114, \"codigo region\": 15}, {\"date\": \"2020-04-03\", \"region\": \"Arica y Parinacota\", \"casos\": 12, \"codigo region\": 0}, {\"date\": \"2020-04-03\", \"region\": \"Tarapac\\u00e1\", \"casos\": 13, \"codigo region\": 1}, {\"date\": \"2020-04-03\", \"region\": \"Antofagasta\", \"casos\": 54, \"codigo region\": 2}, {\"date\": \"2020-04-03\", \"region\": \"Atacama\", \"casos\": 5, \"codigo region\": 3}, {\"date\": \"2020-04-03\", \"region\": \"Coquimbo\", \"casos\": 35, \"codigo region\": 4}, {\"date\": \"2020-04-03\", \"region\": \"Valpara\\u00edso\", \"casos\": 176, \"codigo region\": 5}, {\"date\": \"2020-04-03\", \"region\": \"Metropolitana\", \"casos\": 1742, \"codigo region\": 6}, {\"date\": \"2020-04-03\", \"region\": \"O\\u2019Higgins\", \"casos\": 33, \"codigo region\": 7}, {\"date\": \"2020-04-03\", \"region\": \"Maule\", \"casos\": 89, \"codigo region\": 8}, {\"date\": \"2020-04-03\", \"region\": \"\\u00d1uble\", \"casos\": 370, \"codigo region\": 9}, {\"date\": \"2020-04-03\", \"region\": \"Biob\\u00edo\", \"casos\": 302, \"codigo region\": 10}, {\"date\": \"2020-04-03\", \"region\": \"Araucan\\u00eda\", \"casos\": 432, \"codigo region\": 11}, {\"date\": \"2020-04-03\", \"region\": \"Los R\\u00edos\", \"casos\": 78, \"codigo region\": 12}, {\"date\": \"2020-04-03\", \"region\": \"Los Lagos\", \"casos\": 234, \"codigo region\": 13}, {\"date\": \"2020-04-03\", \"region\": \"Ays\\u00e9n\", \"casos\": 6, \"codigo region\": 14}, {\"date\": \"2020-04-03\", \"region\": \"Magallanes\", \"casos\": 156, \"codigo region\": 15}, {\"date\": \"2020-04-04\", \"region\": \"Arica y Parinacota\", \"casos\": 12, \"codigo region\": 0}, {\"date\": \"2020-04-04\", \"region\": \"Tarapac\\u00e1\", \"casos\": 17, \"codigo region\": 1}, {\"date\": \"2020-04-04\", \"region\": \"Antofagasta\", \"casos\": 55, \"codigo region\": 2}, {\"date\": \"2020-04-04\", \"region\": \"Atacama\", \"casos\": 5, \"codigo region\": 3}, {\"date\": \"2020-04-04\", \"region\": \"Coquimbo\", \"casos\": 44, \"codigo region\": 4}, {\"date\": \"2020-04-04\", \"region\": \"Valpara\\u00edso\", \"casos\": 185, \"codigo region\": 5}, {\"date\": \"2020-04-04\", \"region\": \"Metropolitana\", \"casos\": 1957, \"codigo region\": 6}, {\"date\": \"2020-04-04\", \"region\": \"O\\u2019Higgins\", \"casos\": 38, \"codigo region\": 7}, {\"date\": \"2020-04-04\", \"region\": \"Maule\", \"casos\": 97, \"codigo region\": 8}, {\"date\": \"2020-04-04\", \"region\": \"\\u00d1uble\", \"casos\": 401, \"codigo region\": 9}, {\"date\": \"2020-04-04\", \"region\": \"Biob\\u00edo\", \"casos\": 347, \"codigo region\": 10}, {\"date\": \"2020-04-04\", \"region\": \"Araucan\\u00eda\", \"casos\": 477, \"codigo region\": 11}, {\"date\": \"2020-04-04\", \"region\": \"Los R\\u00edos\", \"casos\": 89, \"codigo region\": 12}, {\"date\": \"2020-04-04\", \"region\": \"Los Lagos\", \"casos\": 259, \"codigo region\": 13}, {\"date\": \"2020-04-04\", \"region\": \"Ays\\u00e9n\", \"casos\": 6, \"codigo region\": 14}, {\"date\": \"2020-04-04\", \"region\": \"Magallanes\", \"casos\": 172, \"codigo region\": 15}, {\"date\": \"2020-04-05\", \"region\": \"Arica y Parinacota\", \"casos\": 28, \"codigo region\": 0}, {\"date\": \"2020-04-05\", \"region\": \"Tarapac\\u00e1\", \"casos\": 20, \"codigo region\": 1}, {\"date\": \"2020-04-05\", \"region\": \"Antofagasta\", \"casos\": 60, \"codigo region\": 2}, {\"date\": \"2020-04-05\", \"region\": \"Atacama\", \"casos\": 5, \"codigo region\": 3}, {\"date\": \"2020-04-05\", \"region\": \"Coquimbo\", \"casos\": 50, \"codigo region\": 4}, {\"date\": \"2020-04-05\", \"region\": \"Valpara\\u00edso\", \"casos\": 191, \"codigo region\": 5}, {\"date\": \"2020-04-05\", \"region\": \"Metropolitana\", \"casos\": 2102, \"codigo region\": 6}, {\"date\": \"2020-04-05\", \"region\": \"O\\u2019Higgins\", \"casos\": 41, \"codigo region\": 7}, {\"date\": \"2020-04-05\", \"region\": \"Maule\", \"casos\": 103, \"codigo region\": 8}, {\"date\": \"2020-04-05\", \"region\": \"\\u00d1uble\", \"casos\": 425, \"codigo region\": 9}, {\"date\": \"2020-04-05\", \"region\": \"Biob\\u00edo\", \"casos\": 365, \"codigo region\": 10}, {\"date\": \"2020-04-05\", \"region\": \"Araucan\\u00eda\", \"casos\": 509, \"codigo region\": 11}, {\"date\": \"2020-04-05\", \"region\": \"Los R\\u00edos\", \"casos\": 99, \"codigo region\": 12}, {\"date\": \"2020-04-05\", \"region\": \"Los Lagos\", \"casos\": 276, \"codigo region\": 13}, {\"date\": \"2020-04-05\", \"region\": \"Ays\\u00e9n\", \"casos\": 7, \"codigo region\": 14}, {\"date\": \"2020-04-05\", \"region\": \"Magallanes\", \"casos\": 190, \"codigo region\": 15}, {\"date\": \"2020-04-06\", \"region\": \"Arica y Parinacota\", \"casos\": 41, \"codigo region\": 0}, {\"date\": \"2020-04-06\", \"region\": \"Tarapac\\u00e1\", \"casos\": 21, \"codigo region\": 1}, {\"date\": \"2020-04-06\", \"region\": \"Antofagasta\", \"casos\": 68, \"codigo region\": 2}, {\"date\": \"2020-04-06\", \"region\": \"Atacama\", \"casos\": 5, \"codigo region\": 3}, {\"date\": \"2020-04-06\", \"region\": \"Coquimbo\", \"casos\": 51, \"codigo region\": 4}, {\"date\": \"2020-04-06\", \"region\": \"Valpara\\u00edso\", \"casos\": 198, \"codigo region\": 5}, {\"date\": \"2020-04-06\", \"region\": \"Metropolitana\", \"casos\": 2244, \"codigo region\": 6}, {\"date\": \"2020-04-06\", \"region\": \"O\\u2019Higgins\", \"casos\": 42, \"codigo region\": 7}, {\"date\": \"2020-04-06\", \"region\": \"Maule\", \"casos\": 108, \"codigo region\": 8}, {\"date\": \"2020-04-06\", \"region\": \"\\u00d1uble\", \"casos\": 474, \"codigo region\": 9}, {\"date\": \"2020-04-06\", \"region\": \"Biob\\u00edo\", \"casos\": 383, \"codigo region\": 10}, {\"date\": \"2020-04-06\", \"region\": \"Araucan\\u00eda\", \"casos\": 562, \"codigo region\": 11}, {\"date\": \"2020-04-06\", \"region\": \"Los R\\u00edos\", \"casos\": 104, \"codigo region\": 12}, {\"date\": \"2020-04-06\", \"region\": \"Los Lagos\", \"casos\": 286, \"codigo region\": 13}, {\"date\": \"2020-04-06\", \"region\": \"Ays\\u00e9n\", \"casos\": 7, \"codigo region\": 14}, {\"date\": \"2020-04-06\", \"region\": \"Magallanes\", \"casos\": 221, \"codigo region\": 15}, {\"date\": \"2020-04-07\", \"region\": \"Arica y Parinacota\", \"casos\": 53, \"codigo region\": 0}, {\"date\": \"2020-04-07\", \"region\": \"Tarapac\\u00e1\", \"casos\": 23, \"codigo region\": 1}, {\"date\": \"2020-04-07\", \"region\": \"Antofagasta\", \"casos\": 69, \"codigo region\": 2}, {\"date\": \"2020-04-07\", \"region\": \"Atacama\", \"casos\": 6, \"codigo region\": 3}, {\"date\": \"2020-04-07\", \"region\": \"Coquimbo\", \"casos\": 52, \"codigo region\": 4}, {\"date\": \"2020-04-07\", \"region\": \"Valpara\\u00edso\", \"casos\": 214, \"codigo region\": 5}, {\"date\": \"2020-04-07\", \"region\": \"Metropolitana\", \"casos\": 2350, \"codigo region\": 6}, {\"date\": \"2020-04-07\", \"region\": \"O\\u2019Higgins\", \"casos\": 42, \"codigo region\": 7}, {\"date\": \"2020-04-07\", \"region\": \"Maule\", \"casos\": 108, \"codigo region\": 8}, {\"date\": \"2020-04-07\", \"region\": \"\\u00d1uble\", \"casos\": 522, \"codigo region\": 9}, {\"date\": \"2020-04-07\", \"region\": \"Biob\\u00edo\", \"casos\": 410, \"codigo region\": 10}, {\"date\": \"2020-04-07\", \"region\": \"Araucan\\u00eda\", \"casos\": 612, \"codigo region\": 11}, {\"date\": \"2020-04-07\", \"region\": \"Los R\\u00edos\", \"casos\": 109, \"codigo region\": 12}, {\"date\": \"2020-04-07\", \"region\": \"Los Lagos\", \"casos\": 299, \"codigo region\": 13}, {\"date\": \"2020-04-07\", \"region\": \"Ays\\u00e9n\", \"casos\": 7, \"codigo region\": 14}, {\"date\": \"2020-04-07\", \"region\": \"Magallanes\", \"casos\": 240, \"codigo region\": 15}, {\"date\": \"2020-04-08\", \"region\": \"Arica y Parinacota\", \"casos\": 63, \"codigo region\": 0}, {\"date\": \"2020-04-08\", \"region\": \"Tarapac\\u00e1\", \"casos\": 26, \"codigo region\": 1}, {\"date\": \"2020-04-08\", \"region\": \"Antofagasta\", \"casos\": 77, \"codigo region\": 2}, {\"date\": \"2020-04-08\", \"region\": \"Atacama\", \"casos\": 8, \"codigo region\": 3}, {\"date\": \"2020-04-08\", \"region\": \"Coquimbo\", \"casos\": 56, \"codigo region\": 4}, {\"date\": \"2020-04-08\", \"region\": \"Valpara\\u00edso\", \"casos\": 225, \"codigo region\": 5}, {\"date\": \"2020-04-08\", \"region\": \"Metropolitana\", \"casos\": 2548, \"codigo region\": 6}, {\"date\": \"2020-04-08\", \"region\": \"O\\u2019Higgins\", \"casos\": 43, \"codigo region\": 7}, {\"date\": \"2020-04-08\", \"region\": \"Maule\", \"casos\": 119, \"codigo region\": 8}, {\"date\": \"2020-04-08\", \"region\": \"\\u00d1uble\", \"casos\": 561, \"codigo region\": 9}, {\"date\": \"2020-04-08\", \"region\": \"Biob\\u00edo\", \"casos\": 439, \"codigo region\": 10}, {\"date\": \"2020-04-08\", \"region\": \"Araucan\\u00eda\", \"casos\": 669, \"codigo region\": 11}, {\"date\": \"2020-04-08\", \"region\": \"Los R\\u00edos\", \"casos\": 114, \"codigo region\": 12}, {\"date\": \"2020-04-08\", \"region\": \"Los Lagos\", \"casos\": 325, \"codigo region\": 13}, {\"date\": \"2020-04-08\", \"region\": \"Ays\\u00e9n\", \"casos\": 7, \"codigo region\": 14}, {\"date\": \"2020-04-08\", \"region\": \"Magallanes\", \"casos\": 266, \"codigo region\": 15}, {\"date\": \"2020-04-09\", \"region\": \"Arica y Parinacota\", \"casos\": 75, \"codigo region\": 0}, {\"date\": \"2020-04-09\", \"region\": \"Tarapac\\u00e1\", \"casos\": 29, \"codigo region\": 1}, {\"date\": \"2020-04-09\", \"region\": \"Antofagasta\", \"casos\": 92, \"codigo region\": 2}, {\"date\": \"2020-04-09\", \"region\": \"Atacama\", \"casos\": 10, \"codigo region\": 3}, {\"date\": \"2020-04-09\", \"region\": \"Coquimbo\", \"casos\": 61, \"codigo region\": 4}, {\"date\": \"2020-04-09\", \"region\": \"Valpara\\u00edso\", \"casos\": 230, \"codigo region\": 5}, {\"date\": \"2020-04-09\", \"region\": \"Metropolitana\", \"casos\": 2832, \"codigo region\": 6}, {\"date\": \"2020-04-09\", \"region\": \"O\\u2019Higgins\", \"casos\": 44, \"codigo region\": 7}, {\"date\": \"2020-04-09\", \"region\": \"Maule\", \"casos\": 128, \"codigo region\": 8}, {\"date\": \"2020-04-09\", \"region\": \"\\u00d1uble\", \"casos\": 571, \"codigo region\": 9}, {\"date\": \"2020-04-09\", \"region\": \"Biob\\u00edo\", \"casos\": 460, \"codigo region\": 10}, {\"date\": \"2020-04-09\", \"region\": \"Araucan\\u00eda\", \"casos\": 689, \"codigo region\": 11}, {\"date\": \"2020-04-09\", \"region\": \"Los R\\u00edos\", \"casos\": 118, \"codigo region\": 12}, {\"date\": \"2020-04-09\", \"region\": \"Los Lagos\", \"casos\": 340, \"codigo region\": 13}, {\"date\": \"2020-04-09\", \"region\": \"Ays\\u00e9n\", \"casos\": 7, \"codigo region\": 14}, {\"date\": \"2020-04-09\", \"region\": \"Magallanes\", \"casos\": 286, \"codigo region\": 15}, {\"date\": \"2020-04-10\", \"region\": \"Arica y Parinacota\", \"casos\": 87, \"codigo region\": 0}, {\"date\": \"2020-04-10\", \"region\": \"Tarapac\\u00e1\", \"casos\": 35, \"codigo region\": 1}, {\"date\": \"2020-04-10\", \"region\": \"Antofagasta\", \"casos\": 110, \"codigo region\": 2}, {\"date\": \"2020-04-10\", \"region\": \"Atacama\", \"casos\": 13, \"codigo region\": 3}, {\"date\": \"2020-04-10\", \"region\": \"Coquimbo\", \"casos\": 61, \"codigo region\": 4}, {\"date\": \"2020-04-10\", \"region\": \"Valpara\\u00edso\", \"casos\": 241, \"codigo region\": 5}, {\"date\": \"2020-04-10\", \"region\": \"Metropolitana\", \"casos\": 3193, \"codigo region\": 6}, {\"date\": \"2020-04-10\", \"region\": \"O\\u2019Higgins\", \"casos\": 44, \"codigo region\": 7}, {\"date\": \"2020-04-10\", \"region\": \"Maule\", \"casos\": 131, \"codigo region\": 8}, {\"date\": \"2020-04-10\", \"region\": \"\\u00d1uble\", \"casos\": 589, \"codigo region\": 9}, {\"date\": \"2020-04-10\", \"region\": \"Biob\\u00edo\", \"casos\": 474, \"codigo region\": 10}, {\"date\": \"2020-04-10\", \"region\": \"Araucan\\u00eda\", \"casos\": 712, \"codigo region\": 11}, {\"date\": \"2020-04-10\", \"region\": \"Los R\\u00edos\", \"casos\": 124, \"codigo region\": 12}, {\"date\": \"2020-04-10\", \"region\": \"Los Lagos\", \"casos\": 349, \"codigo region\": 13}, {\"date\": \"2020-04-10\", \"region\": \"Ays\\u00e9n\", \"casos\": 7, \"codigo region\": 14}, {\"date\": \"2020-04-10\", \"region\": \"Magallanes\", \"casos\": 331, \"codigo region\": 15}, {\"date\": \"2020-04-11\", \"region\": \"Arica y Parinacota\", \"casos\": 107, \"codigo region\": 0}, {\"date\": \"2020-04-11\", \"region\": \"Tarapac\\u00e1\", \"casos\": 38, \"codigo region\": 1}, {\"date\": \"2020-04-11\", \"region\": \"Antofagasta\", \"casos\": 117, \"codigo region\": 2}, {\"date\": \"2020-04-11\", \"region\": \"Atacama\", \"casos\": 13, \"codigo region\": 3}, {\"date\": \"2020-04-11\", \"region\": \"Coquimbo\", \"casos\": 64, \"codigo region\": 4}, {\"date\": \"2020-04-11\", \"region\": \"Valpara\\u00edso\", \"casos\": 248, \"codigo region\": 5}, {\"date\": \"2020-04-11\", \"region\": \"Metropolitana\", \"casos\": 3448, \"codigo region\": 6}, {\"date\": \"2020-04-11\", \"region\": \"O\\u2019Higgins\", \"casos\": 45, \"codigo region\": 7}, {\"date\": \"2020-04-11\", \"region\": \"Maule\", \"casos\": 134, \"codigo region\": 8}, {\"date\": \"2020-04-11\", \"region\": \"\\u00d1uble\", \"casos\": 606, \"codigo region\": 9}, {\"date\": \"2020-04-11\", \"region\": \"Biob\\u00edo\", \"casos\": 490, \"codigo region\": 10}, {\"date\": \"2020-04-11\", \"region\": \"Araucan\\u00eda\", \"casos\": 739, \"codigo region\": 11}, {\"date\": \"2020-04-11\", \"region\": \"Los R\\u00edos\", \"casos\": 130, \"codigo region\": 12}, {\"date\": \"2020-04-11\", \"region\": \"Los Lagos\", \"casos\": 364, \"codigo region\": 13}, {\"date\": \"2020-04-11\", \"region\": \"Ays\\u00e9n\", \"casos\": 7, \"codigo region\": 14}, {\"date\": \"2020-04-11\", \"region\": \"Magallanes\", \"casos\": 377, \"codigo region\": 15}, {\"date\": \"2020-04-12\", \"region\": \"Arica y Parinacota\", \"casos\": 115, \"codigo region\": 0}, {\"date\": \"2020-04-12\", \"region\": \"Tarapac\\u00e1\", \"casos\": 46, \"codigo region\": 1}, {\"date\": \"2020-04-12\", \"region\": \"Antofagasta\", \"casos\": 138, \"codigo region\": 2}, {\"date\": \"2020-04-12\", \"region\": \"Atacama\", \"casos\": 13, \"codigo region\": 3}, {\"date\": \"2020-04-12\", \"region\": \"Coquimbo\", \"casos\": 66, \"codigo region\": 4}, {\"date\": \"2020-04-12\", \"region\": \"Valpara\\u00edso\", \"casos\": 254, \"codigo region\": 5}, {\"date\": \"2020-04-12\", \"region\": \"Metropolitana\", \"casos\": 3599, \"codigo region\": 6}, {\"date\": \"2020-04-12\", \"region\": \"O\\u2019Higgins\", \"casos\": 46, \"codigo region\": 7}, {\"date\": \"2020-04-12\", \"region\": \"Maule\", \"casos\": 138, \"codigo region\": 8}, {\"date\": \"2020-04-12\", \"region\": \"\\u00d1uble\", \"casos\": 613, \"codigo region\": 9}, {\"date\": \"2020-04-12\", \"region\": \"Biob\\u00edo\", \"casos\": 500, \"codigo region\": 10}, {\"date\": \"2020-04-12\", \"region\": \"Araucan\\u00eda\", \"casos\": 775, \"codigo region\": 11}, {\"date\": \"2020-04-12\", \"region\": \"Los R\\u00edos\", \"casos\": 135, \"codigo region\": 12}, {\"date\": \"2020-04-12\", \"region\": \"Los Lagos\", \"casos\": 372, \"codigo region\": 13}, {\"date\": \"2020-04-12\", \"region\": \"Ays\\u00e9n\", \"casos\": 7, \"codigo region\": 14}, {\"date\": \"2020-04-12\", \"region\": \"Magallanes\", \"casos\": 396, \"codigo region\": 15}, {\"date\": \"2020-04-13\", \"region\": \"Arica y Parinacota\", \"casos\": 115, \"codigo region\": 0}, {\"date\": \"2020-04-13\", \"region\": \"Tarapac\\u00e1\", \"casos\": 52, \"codigo region\": 1}, {\"date\": \"2020-04-13\", \"region\": \"Antofagasta\", \"casos\": 149, \"codigo region\": 2}, {\"date\": \"2020-04-13\", \"region\": \"Atacama\", \"casos\": 13, \"codigo region\": 3}, {\"date\": \"2020-04-13\", \"region\": \"Coquimbo\", \"casos\": 66, \"codigo region\": 4}, {\"date\": \"2020-04-13\", \"region\": \"Valpara\\u00edso\", \"casos\": 273, \"codigo region\": 5}, {\"date\": \"2020-04-13\", \"region\": \"Metropolitana\", \"casos\": 3803, \"codigo region\": 6}, {\"date\": \"2020-04-13\", \"region\": \"O\\u2019Higgins\", \"casos\": 48, \"codigo region\": 7}, {\"date\": \"2020-04-13\", \"region\": \"Maule\", \"casos\": 141, \"codigo region\": 8}, {\"date\": \"2020-04-13\", \"region\": \"\\u00d1uble\", \"casos\": 618, \"codigo region\": 9}, {\"date\": \"2020-04-13\", \"region\": \"Biob\\u00edo\", \"casos\": 512, \"codigo region\": 10}, {\"date\": \"2020-04-13\", \"region\": \"Araucan\\u00eda\", \"casos\": 795, \"codigo region\": 11}, {\"date\": \"2020-04-13\", \"region\": \"Los R\\u00edos\", \"casos\": 138, \"codigo region\": 12}, {\"date\": \"2020-04-13\", \"region\": \"Los Lagos\", \"casos\": 380, \"codigo region\": 13}, {\"date\": \"2020-04-13\", \"region\": \"Ays\\u00e9n\", \"casos\": 7, \"codigo region\": 14}, {\"date\": \"2020-04-13\", \"region\": \"Magallanes\", \"casos\": 415, \"codigo region\": 15}, {\"date\": \"2020-04-14\", \"region\": \"Arica y Parinacota\", \"casos\": 120, \"codigo region\": 0}, {\"date\": \"2020-04-14\", \"region\": \"Tarapac\\u00e1\", \"casos\": 62, \"codigo region\": 1}, {\"date\": \"2020-04-14\", \"region\": \"Antofagasta\", \"casos\": 155, \"codigo region\": 2}, {\"date\": \"2020-04-14\", \"region\": \"Atacama\", \"casos\": 13, \"codigo region\": 3}, {\"date\": \"2020-04-14\", \"region\": \"Coquimbo\", \"casos\": 66, \"codigo region\": 4}, {\"date\": \"2020-04-14\", \"region\": \"Valpara\\u00edso\", \"casos\": 285, \"codigo region\": 5}, {\"date\": \"2020-04-14\", \"region\": \"Metropolitana\", \"casos\": 4086, \"codigo region\": 6}, {\"date\": \"2020-04-14\", \"region\": \"O\\u2019Higgins\", \"casos\": 53, \"codigo region\": 7}, {\"date\": \"2020-04-14\", \"region\": \"Maule\", \"casos\": 142, \"codigo region\": 8}, {\"date\": \"2020-04-14\", \"region\": \"\\u00d1uble\", \"casos\": 622, \"codigo region\": 9}, {\"date\": \"2020-04-14\", \"region\": \"Biob\\u00edo\", \"casos\": 528, \"codigo region\": 10}, {\"date\": \"2020-04-14\", \"region\": \"Araucan\\u00eda\", \"casos\": 816, \"codigo region\": 11}, {\"date\": \"2020-04-14\", \"region\": \"Los R\\u00edos\", \"casos\": 148, \"codigo region\": 12}, {\"date\": \"2020-04-14\", \"region\": \"Los Lagos\", \"casos\": 385, \"codigo region\": 13}, {\"date\": \"2020-04-14\", \"region\": \"Ays\\u00e9n\", \"casos\": 7, \"codigo region\": 14}, {\"date\": \"2020-04-14\", \"region\": \"Magallanes\", \"casos\": 429, \"codigo region\": 15}, {\"date\": \"2020-04-15\", \"region\": \"Arica y Parinacota\", \"casos\": 124, \"codigo region\": 0}, {\"date\": \"2020-04-15\", \"region\": \"Tarapac\\u00e1\", \"casos\": 62, \"codigo region\": 1}, {\"date\": \"2020-04-15\", \"region\": \"Antofagasta\", \"casos\": 176, \"codigo region\": 2}, {\"date\": \"2020-04-15\", \"region\": \"Atacama\", \"casos\": 13, \"codigo region\": 3}, {\"date\": \"2020-04-15\", \"region\": \"Coquimbo\", \"casos\": 66, \"codigo region\": 4}, {\"date\": \"2020-04-15\", \"region\": \"Valpara\\u00edso\", \"casos\": 299, \"codigo region\": 5}, {\"date\": \"2020-04-15\", \"region\": \"Metropolitana\", \"casos\": 4334, \"codigo region\": 6}, {\"date\": \"2020-04-15\", \"region\": \"O\\u2019Higgins\", \"casos\": 54, \"codigo region\": 7}, {\"date\": \"2020-04-15\", \"region\": \"Maule\", \"casos\": 152, \"codigo region\": 8}, {\"date\": \"2020-04-15\", \"region\": \"\\u00d1uble\", \"casos\": 634, \"codigo region\": 9}, {\"date\": \"2020-04-15\", \"region\": \"Biob\\u00edo\", \"casos\": 542, \"codigo region\": 10}, {\"date\": \"2020-04-15\", \"region\": \"Araucan\\u00eda\", \"casos\": 826, \"codigo region\": 11}, {\"date\": \"2020-04-15\", \"region\": \"Los R\\u00edos\", \"casos\": 150, \"codigo region\": 12}, {\"date\": \"2020-04-15\", \"region\": \"Los Lagos\", \"casos\": 390, \"codigo region\": 13}, {\"date\": \"2020-04-15\", \"region\": \"Ays\\u00e9n\", \"casos\": 7, \"codigo region\": 14}, {\"date\": \"2020-04-15\", \"region\": \"Magallanes\", \"casos\": 444, \"codigo region\": 15}, {\"date\": \"2020-04-16\", \"region\": \"Arica y Parinacota\", \"casos\": 129, \"codigo region\": 0}, {\"date\": \"2020-04-16\", \"region\": \"Tarapac\\u00e1\", \"casos\": 66, \"codigo region\": 1}, {\"date\": \"2020-04-16\", \"region\": \"Antofagasta\", \"casos\": 192, \"codigo region\": 2}, {\"date\": \"2020-04-16\", \"region\": \"Atacama\", \"casos\": 13, \"codigo region\": 3}, {\"date\": \"2020-04-16\", \"region\": \"Coquimbo\", \"casos\": 68, \"codigo region\": 4}, {\"date\": \"2020-04-16\", \"region\": \"Valpara\\u00edso\", \"casos\": 330, \"codigo region\": 5}, {\"date\": \"2020-04-16\", \"region\": \"Metropolitana\", \"casos\": 4682, \"codigo region\": 6}, {\"date\": \"2020-04-16\", \"region\": \"O\\u2019Higgins\", \"casos\": 54, \"codigo region\": 7}, {\"date\": \"2020-04-16\", \"region\": \"Maule\", \"casos\": 167, \"codigo region\": 8}, {\"date\": \"2020-04-16\", \"region\": \"\\u00d1uble\", \"casos\": 639, \"codigo region\": 9}, {\"date\": \"2020-04-16\", \"region\": \"Biob\\u00edo\", \"casos\": 559, \"codigo region\": 10}, {\"date\": \"2020-04-16\", \"region\": \"Araucan\\u00eda\", \"casos\": 882, \"codigo region\": 11}, {\"date\": \"2020-04-16\", \"region\": \"Los R\\u00edos\", \"casos\": 153, \"codigo region\": 12}, {\"date\": \"2020-04-16\", \"region\": \"Los Lagos\", \"casos\": 399, \"codigo region\": 13}, {\"date\": \"2020-04-16\", \"region\": \"Ays\\u00e9n\", \"casos\": 7, \"codigo region\": 14}, {\"date\": \"2020-04-16\", \"region\": \"Magallanes\", \"casos\": 467, \"codigo region\": 15}, {\"date\": \"2020-04-17\", \"region\": \"Arica y Parinacota\", \"casos\": 134, \"codigo region\": 0}, {\"date\": \"2020-04-17\", \"region\": \"Tarapac\\u00e1\", \"casos\": 73, \"codigo region\": 1}, {\"date\": \"2020-04-17\", \"region\": \"Antofagasta\", \"casos\": 211, \"codigo region\": 2}, {\"date\": \"2020-04-17\", \"region\": \"Atacama\", \"casos\": 13, \"codigo region\": 3}, {\"date\": \"2020-04-17\", \"region\": \"Coquimbo\", \"casos\": 68, \"codigo region\": 4}, {\"date\": \"2020-04-17\", \"region\": \"Valpara\\u00edso\", \"casos\": 345, \"codigo region\": 5}, {\"date\": \"2020-04-17\", \"region\": \"Metropolitana\", \"casos\": 4915, \"codigo region\": 6}, {\"date\": \"2020-04-17\", \"region\": \"O\\u2019Higgins\", \"casos\": 55, \"codigo region\": 7}, {\"date\": \"2020-04-17\", \"region\": \"Maule\", \"casos\": 223, \"codigo region\": 8}, {\"date\": \"2020-04-17\", \"region\": \"\\u00d1uble\", \"casos\": 656, \"codigo region\": 9}, {\"date\": \"2020-04-17\", \"region\": \"Biob\\u00edo\", \"casos\": 578, \"codigo region\": 10}, {\"date\": \"2020-04-17\", \"region\": \"Araucan\\u00eda\", \"casos\": 907, \"codigo region\": 11}, {\"date\": \"2020-04-17\", \"region\": \"Los R\\u00edos\", \"casos\": 154, \"codigo region\": 12}, {\"date\": \"2020-04-17\", \"region\": \"Los Lagos\", \"casos\": 412, \"codigo region\": 13}, {\"date\": \"2020-04-17\", \"region\": \"Ays\\u00e9n\", \"casos\": 7, \"codigo region\": 14}, {\"date\": \"2020-04-17\", \"region\": \"Magallanes\", \"casos\": 501, \"codigo region\": 15}, {\"date\": \"2020-04-18\", \"region\": \"Arica y Parinacota\", \"casos\": 142, \"codigo region\": 0}, {\"date\": \"2020-04-18\", \"region\": \"Tarapac\\u00e1\", \"casos\": 81, \"codigo region\": 1}, {\"date\": \"2020-04-18\", \"region\": \"Antofagasta\", \"casos\": 226, \"codigo region\": 2}, {\"date\": \"2020-04-18\", \"region\": \"Atacama\", \"casos\": 13, \"codigo region\": 3}, {\"date\": \"2020-04-18\", \"region\": \"Coquimbo\", \"casos\": 68, \"codigo region\": 4}, {\"date\": \"2020-04-18\", \"region\": \"Valpara\\u00edso\", \"casos\": 359, \"codigo region\": 5}, {\"date\": \"2020-04-18\", \"region\": \"Metropolitana\", \"casos\": 5192, \"codigo region\": 6}, {\"date\": \"2020-04-18\", \"region\": \"O\\u2019Higgins\", \"casos\": 55, \"codigo region\": 7}, {\"date\": \"2020-04-18\", \"region\": \"Maule\", \"casos\": 276, \"codigo region\": 8}, {\"date\": \"2020-04-18\", \"region\": \"\\u00d1uble\", \"casos\": 667, \"codigo region\": 9}, {\"date\": \"2020-04-18\", \"region\": \"Biob\\u00edo\", \"casos\": 606, \"codigo region\": 10}, {\"date\": \"2020-04-18\", \"region\": \"Araucan\\u00eda\", \"casos\": 944, \"codigo region\": 11}, {\"date\": \"2020-04-18\", \"region\": \"Los R\\u00edos\", \"casos\": 156, \"codigo region\": 12}, {\"date\": \"2020-04-18\", \"region\": \"Los Lagos\", \"casos\": 416, \"codigo region\": 13}, {\"date\": \"2020-04-18\", \"region\": \"Ays\\u00e9n\", \"casos\": 7, \"codigo region\": 14}, {\"date\": \"2020-04-18\", \"region\": \"Magallanes\", \"casos\": 522, \"codigo region\": 15}, {\"date\": \"2020-04-19\", \"region\": \"Arica y Parinacota\", \"casos\": 145, \"codigo region\": 0}, {\"date\": \"2020-04-19\", \"region\": \"Tarapac\\u00e1\", \"casos\": 90, \"codigo region\": 1}, {\"date\": \"2020-04-19\", \"region\": \"Antofagasta\", \"casos\": 249, \"codigo region\": 2}, {\"date\": \"2020-04-19\", \"region\": \"Atacama\", \"casos\": 13, \"codigo region\": 3}, {\"date\": \"2020-04-19\", \"region\": \"Coquimbo\", \"casos\": 68, \"codigo region\": 4}, {\"date\": \"2020-04-19\", \"region\": \"Valpara\\u00edso\", \"casos\": 381, \"codigo region\": 5}, {\"date\": \"2020-04-19\", \"region\": \"Metropolitana\", \"casos\": 5381, \"codigo region\": 6}, {\"date\": \"2020-04-19\", \"region\": \"O\\u2019Higgins\", \"casos\": 55, \"codigo region\": 7}, {\"date\": \"2020-04-19\", \"region\": \"Maule\", \"casos\": 302, \"codigo region\": 8}, {\"date\": \"2020-04-19\", \"region\": \"\\u00d1uble\", \"casos\": 678, \"codigo region\": 9}, {\"date\": \"2020-04-19\", \"region\": \"Biob\\u00edo\", \"casos\": 616, \"codigo region\": 10}, {\"date\": \"2020-04-19\", \"region\": \"Araucan\\u00eda\", \"casos\": 972, \"codigo region\": 11}, {\"date\": \"2020-04-19\", \"region\": \"Los R\\u00edos\", \"casos\": 157, \"codigo region\": 12}, {\"date\": \"2020-04-19\", \"region\": \"Los Lagos\", \"casos\": 421, \"codigo region\": 13}, {\"date\": \"2020-04-19\", \"region\": \"Ays\\u00e9n\", \"casos\": 7, \"codigo region\": 14}, {\"date\": \"2020-04-19\", \"region\": \"Magallanes\", \"casos\": 553, \"codigo region\": 15}, {\"date\": \"2020-04-20\", \"region\": \"Arica y Parinacota\", \"casos\": 161, \"codigo region\": 0}, {\"date\": \"2020-04-20\", \"region\": \"Tarapac\\u00e1\", \"casos\": 93, \"codigo region\": 1}, {\"date\": \"2020-04-20\", \"region\": \"Antofagasta\", \"casos\": 263, \"codigo region\": 2}, {\"date\": \"2020-04-20\", \"region\": \"Atacama\", \"casos\": 13, \"codigo region\": 3}, {\"date\": \"2020-04-20\", \"region\": \"Coquimbo\", \"casos\": 69, \"codigo region\": 4}, {\"date\": \"2020-04-20\", \"region\": \"Valpara\\u00edso\", \"casos\": 388, \"codigo region\": 5}, {\"date\": \"2020-04-20\", \"region\": \"Metropolitana\", \"casos\": 5643, \"codigo region\": 6}, {\"date\": \"2020-04-20\", \"region\": \"O\\u2019Higgins\", \"casos\": 56, \"codigo region\": 7}, {\"date\": \"2020-04-20\", \"region\": \"Maule\", \"casos\": 304, \"codigo region\": 8}, {\"date\": \"2020-04-20\", \"region\": \"\\u00d1uble\", \"casos\": 687, \"codigo region\": 9}, {\"date\": \"2020-04-20\", \"region\": \"Biob\\u00edo\", \"casos\": 626, \"codigo region\": 10}, {\"date\": \"2020-04-20\", \"region\": \"Araucan\\u00eda\", \"casos\": 1045, \"codigo region\": 11}, {\"date\": \"2020-04-20\", \"region\": \"Los R\\u00edos\", \"casos\": 162, \"codigo region\": 12}, {\"date\": \"2020-04-20\", \"region\": \"Los Lagos\", \"casos\": 424, \"codigo region\": 13}, {\"date\": \"2020-04-20\", \"region\": \"Ays\\u00e9n\", \"casos\": 7, \"codigo region\": 14}, {\"date\": \"2020-04-20\", \"region\": \"Magallanes\", \"casos\": 566, \"codigo region\": 15}, {\"date\": \"2020-04-21\", \"region\": \"Arica y Parinacota\", \"casos\": 170, \"codigo region\": 0}, {\"date\": \"2020-04-21\", \"region\": \"Tarapac\\u00e1\", \"casos\": 104, \"codigo region\": 1}, {\"date\": \"2020-04-21\", \"region\": \"Antofagasta\", \"casos\": 291, \"codigo region\": 2}, {\"date\": \"2020-04-21\", \"region\": \"Atacama\", \"casos\": 13, \"codigo region\": 3}, {\"date\": \"2020-04-21\", \"region\": \"Coquimbo\", \"casos\": 69, \"codigo region\": 4}, {\"date\": \"2020-04-21\", \"region\": \"Valpara\\u00edso\", \"casos\": 403, \"codigo region\": 5}, {\"date\": \"2020-04-21\", \"region\": \"Metropolitana\", \"casos\": 5788, \"codigo region\": 6}, {\"date\": \"2020-04-21\", \"region\": \"O\\u2019Higgins\", \"casos\": 57, \"codigo region\": 7}, {\"date\": \"2020-04-21\", \"region\": \"Maule\", \"casos\": 316, \"codigo region\": 8}, {\"date\": \"2020-04-21\", \"region\": \"\\u00d1uble\", \"casos\": 694, \"codigo region\": 9}, {\"date\": \"2020-04-21\", \"region\": \"Biob\\u00edo\", \"casos\": 636, \"codigo region\": 10}, {\"date\": \"2020-04-21\", \"region\": \"Araucan\\u00eda\", \"casos\": 1092, \"codigo region\": 11}, {\"date\": \"2020-04-21\", \"region\": \"Los R\\u00edos\", \"casos\": 167, \"codigo region\": 12}, {\"date\": \"2020-04-21\", \"region\": \"Los Lagos\", \"casos\": 432, \"codigo region\": 13}, {\"date\": \"2020-04-21\", \"region\": \"Ays\\u00e9n\", \"casos\": 7, \"codigo region\": 14}, {\"date\": \"2020-04-21\", \"region\": \"Magallanes\", \"casos\": 593, \"codigo region\": 15}, {\"date\": \"2020-04-22\", \"region\": \"Arica y Parinacota\", \"casos\": 180, \"codigo region\": 0}, {\"date\": \"2020-04-22\", \"region\": \"Tarapac\\u00e1\", \"casos\": 114, \"codigo region\": 1}, {\"date\": \"2020-04-22\", \"region\": \"Antofagasta\", \"casos\": 326, \"codigo region\": 2}, {\"date\": \"2020-04-22\", \"region\": \"Atacama\", \"casos\": 13, \"codigo region\": 3}, {\"date\": \"2020-04-22\", \"region\": \"Coquimbo\", \"casos\": 70, \"codigo region\": 4}, {\"date\": \"2020-04-22\", \"region\": \"Valpara\\u00edso\", \"casos\": 421, \"codigo region\": 5}, {\"date\": \"2020-04-22\", \"region\": \"Metropolitana\", \"casos\": 6083, \"codigo region\": 6}, {\"date\": \"2020-04-22\", \"region\": \"O\\u2019Higgins\", \"casos\": 59, \"codigo region\": 7}, {\"date\": \"2020-04-22\", \"region\": \"Maule\", \"casos\": 328, \"codigo region\": 8}, {\"date\": \"2020-04-22\", \"region\": \"\\u00d1uble\", \"casos\": 703, \"codigo region\": 9}, {\"date\": \"2020-04-22\", \"region\": \"Biob\\u00edo\", \"casos\": 658, \"codigo region\": 10}, {\"date\": \"2020-04-22\", \"region\": \"Araucan\\u00eda\", \"casos\": 1113, \"codigo region\": 11}, {\"date\": \"2020-04-22\", \"region\": \"Los R\\u00edos\", \"casos\": 171, \"codigo region\": 12}, {\"date\": \"2020-04-22\", \"region\": \"Los Lagos\", \"casos\": 445, \"codigo region\": 13}, {\"date\": \"2020-04-22\", \"region\": \"Ays\\u00e9n\", \"casos\": 7, \"codigo region\": 14}, {\"date\": \"2020-04-22\", \"region\": \"Magallanes\", \"casos\": 605, \"codigo region\": 15}, {\"date\": \"2020-04-23\", \"region\": \"Arica y Parinacota\", \"casos\": 210, \"codigo region\": 0}, {\"date\": \"2020-04-23\", \"region\": \"Tarapac\\u00e1\", \"casos\": 128, \"codigo region\": 1}, {\"date\": \"2020-04-23\", \"region\": \"Antofagasta\", \"casos\": 340, \"codigo region\": 2}, {\"date\": \"2020-04-23\", \"region\": \"Atacama\", \"casos\": 18, \"codigo region\": 3}, {\"date\": \"2020-04-23\", \"region\": \"Coquimbo\", \"casos\": 70, \"codigo region\": 4}, {\"date\": \"2020-04-23\", \"region\": \"Valpara\\u00edso\", \"casos\": 429, \"codigo region\": 5}, {\"date\": \"2020-04-23\", \"region\": \"Metropolitana\", \"casos\": 6434, \"codigo region\": 6}, {\"date\": \"2020-04-23\", \"region\": \"O\\u2019Higgins\", \"casos\": 76, \"codigo region\": 7}, {\"date\": \"2020-04-23\", \"region\": \"Maule\", \"casos\": 333, \"codigo region\": 8}, {\"date\": \"2020-04-23\", \"region\": \"\\u00d1uble\", \"casos\": 708, \"codigo region\": 9}, {\"date\": \"2020-04-23\", \"region\": \"Biob\\u00edo\", \"casos\": 675, \"codigo region\": 10}, {\"date\": \"2020-04-23\", \"region\": \"Araucan\\u00eda\", \"casos\": 1142, \"codigo region\": 11}, {\"date\": \"2020-04-23\", \"region\": \"Los R\\u00edos\", \"casos\": 173, \"codigo region\": 12}, {\"date\": \"2020-04-23\", \"region\": \"Los Lagos\", \"casos\": 454, \"codigo region\": 13}, {\"date\": \"2020-04-23\", \"region\": \"Ays\\u00e9n\", \"casos\": 7, \"codigo region\": 14}, {\"date\": \"2020-04-23\", \"region\": \"Magallanes\", \"casos\": 615, \"codigo region\": 15}, {\"date\": \"2020-04-24\", \"region\": \"Arica y Parinacota\", \"casos\": 239, \"codigo region\": 0}, {\"date\": \"2020-04-24\", \"region\": \"Tarapac\\u00e1\", \"casos\": 134, \"codigo region\": 1}, {\"date\": \"2020-04-24\", \"region\": \"Antofagasta\", \"casos\": 366, \"codigo region\": 2}, {\"date\": \"2020-04-24\", \"region\": \"Atacama\", \"casos\": 21, \"codigo region\": 3}, {\"date\": \"2020-04-24\", \"region\": \"Coquimbo\", \"casos\": 72, \"codigo region\": 4}, {\"date\": \"2020-04-24\", \"region\": \"Valpara\\u00edso\", \"casos\": 436, \"codigo region\": 5}, {\"date\": \"2020-04-24\", \"region\": \"Metropolitana\", \"casos\": 6761, \"codigo region\": 6}, {\"date\": \"2020-04-24\", \"region\": \"O\\u2019Higgins\", \"casos\": 81, \"codigo region\": 7}, {\"date\": \"2020-04-24\", \"region\": \"Maule\", \"casos\": 349, \"codigo region\": 8}, {\"date\": \"2020-04-24\", \"region\": \"\\u00d1uble\", \"casos\": 715, \"codigo region\": 9}, {\"date\": \"2020-04-24\", \"region\": \"Biob\\u00edo\", \"casos\": 683, \"codigo region\": 10}, {\"date\": \"2020-04-24\", \"region\": \"Araucan\\u00eda\", \"casos\": 1184, \"codigo region\": 11}, {\"date\": \"2020-04-24\", \"region\": \"Los R\\u00edos\", \"casos\": 174, \"codigo region\": 12}, {\"date\": \"2020-04-24\", \"region\": \"Los Lagos\", \"casos\": 460, \"codigo region\": 13}, {\"date\": \"2020-04-24\", \"region\": \"Ays\\u00e9n\", \"casos\": 7, \"codigo region\": 14}, {\"date\": \"2020-04-24\", \"region\": \"Magallanes\", \"casos\": 624, \"codigo region\": 15}, {\"date\": \"2020-04-25\", \"region\": \"Arica y Parinacota\", \"casos\": 245, \"codigo region\": 0}, {\"date\": \"2020-04-25\", \"region\": \"Tarapac\\u00e1\", \"casos\": 143, \"codigo region\": 1}, {\"date\": \"2020-04-25\", \"region\": \"Antofagasta\", \"casos\": 391, \"codigo region\": 2}, {\"date\": \"2020-04-25\", \"region\": \"Atacama\", \"casos\": 24, \"codigo region\": 3}, {\"date\": \"2020-04-25\", \"region\": \"Coquimbo\", \"casos\": 73, \"codigo region\": 4}, {\"date\": \"2020-04-25\", \"region\": \"Valpara\\u00edso\", \"casos\": 454, \"codigo region\": 5}, {\"date\": \"2020-04-25\", \"region\": \"Metropolitana\", \"casos\": 7165, \"codigo region\": 6}, {\"date\": \"2020-04-25\", \"region\": \"O\\u2019Higgins\", \"casos\": 85, \"codigo region\": 7}, {\"date\": \"2020-04-25\", \"region\": \"Maule\", \"casos\": 350, \"codigo region\": 8}, {\"date\": \"2020-04-25\", \"region\": \"\\u00d1uble\", \"casos\": 725, \"codigo region\": 9}, {\"date\": \"2020-04-25\", \"region\": \"Biob\\u00edo\", \"casos\": 696, \"codigo region\": 10}, {\"date\": \"2020-04-25\", \"region\": \"Araucan\\u00eda\", \"casos\": 1203, \"codigo region\": 11}, {\"date\": \"2020-04-25\", \"region\": \"Los R\\u00edos\", \"casos\": 177, \"codigo region\": 12}, {\"date\": \"2020-04-25\", \"region\": \"Los Lagos\", \"casos\": 465, \"codigo region\": 13}, {\"date\": \"2020-04-25\", \"region\": \"Ays\\u00e9n\", \"casos\": 7, \"codigo region\": 14}, {\"date\": \"2020-04-25\", \"region\": \"Magallanes\", \"casos\": 655, \"codigo region\": 15}, {\"date\": \"2020-04-26\", \"region\": \"Arica y Parinacota\", \"casos\": 252, \"codigo region\": 0}, {\"date\": \"2020-04-26\", \"region\": \"Tarapac\\u00e1\", \"casos\": 156, \"codigo region\": 1}, {\"date\": \"2020-04-26\", \"region\": \"Antofagasta\", \"casos\": 443, \"codigo region\": 2}, {\"date\": \"2020-04-26\", \"region\": \"Atacama\", \"casos\": 29, \"codigo region\": 3}, {\"date\": \"2020-04-26\", \"region\": \"Coquimbo\", \"casos\": 73, \"codigo region\": 4}, {\"date\": \"2020-04-26\", \"region\": \"Valpara\\u00edso\", \"casos\": 460, \"codigo region\": 5}, {\"date\": \"2020-04-26\", \"region\": \"Metropolitana\", \"casos\": 7496, \"codigo region\": 6}, {\"date\": \"2020-04-26\", \"region\": \"O\\u2019Higgins\", \"casos\": 92, \"codigo region\": 7}, {\"date\": \"2020-04-26\", \"region\": \"Maule\", \"casos\": 354, \"codigo region\": 8}, {\"date\": \"2020-04-26\", \"region\": \"\\u00d1uble\", \"casos\": 731, \"codigo region\": 9}, {\"date\": \"2020-04-26\", \"region\": \"Biob\\u00edo\", \"casos\": 703, \"codigo region\": 10}, {\"date\": \"2020-04-26\", \"region\": \"Araucan\\u00eda\", \"casos\": 1216, \"codigo region\": 11}, {\"date\": \"2020-04-26\", \"region\": \"Los R\\u00edos\", \"casos\": 178, \"codigo region\": 12}, {\"date\": \"2020-04-26\", \"region\": \"Los Lagos\", \"casos\": 473, \"codigo region\": 13}, {\"date\": \"2020-04-26\", \"region\": \"Ays\\u00e9n\", \"casos\": 7, \"codigo region\": 14}, {\"date\": \"2020-04-26\", \"region\": \"Magallanes\", \"casos\": 668, \"codigo region\": 15}]}}, {\"mode\": \"vega-lite\"});\n",
       "</script>"
      ],
      "text/plain": [
       "alt.HConcatChart(...)"
      ]
     },
     "execution_count": 58,
     "metadata": {},
     "output_type": "execute_result"
    }
   ],
   "source": [
    "#hide_input\n",
    "input_dropdown = alt.binding_select(options=data['region'].unique())\n",
    "selection1 = alt.selection_single(fields=['region'], bind=input_dropdown, name=' ')\n",
    "selection2 = alt.selection_multi(fields=['region'], on='mouseover')\n",
    "color = alt.condition(selection1 | selection2,\n",
    "                    alt.Color('region:N', legend=None),\n",
    "                    alt.value('lightgray'))\n",
    "\n",
    "chart = alt.Chart(data).mark_bar().encode(\n",
    "    x=alt.X('date:O', axis=alt.Axis(title='Fecha (año-mes-día)')),\n",
    "    y=alt.Y('casos', axis=alt.Axis(title='Casos confirmados')),\n",
    "    color=color,\n",
    "    tooltip=['date', 'region', 'casos'],\n",
    "    order=alt.Order(\n",
    "    # Sort the segments of the bars by this field\n",
    "    'codigo region',\n",
    "    sort='descending'\n",
    "    )\n",
    ").properties(\n",
    "    title='COVID-19 en Chile: Total de casos confirmados por región'\n",
    ").add_selection(\n",
    "    selection1, selection2\n",
    ").transform_filter(\n",
    "    selection1\n",
    ")\n",
    "\n",
    "legend = alt.Chart(data).mark_point().encode(\n",
    "    y=alt.Y('region:N', axis=alt.Axis(orient='right'), sort=regiones),\n",
    "    color=color\n",
    ").add_selection(\n",
    "    selection1, selection2\n",
    ")\n",
    "\n",
    "chart.properties(width=600, height=400) | legend"
   ]
  },
  {
   "cell_type": "markdown",
   "metadata": {},
   "source": [
    "Fuente: [Ministerio de Ciencia](https://github.com/MinCiencia/Datos-COVID19)"
   ]
  },
  {
   "cell_type": "markdown",
   "metadata": {},
   "source": [
    "Inspirado del [tweet](https://twitter.com/NachoToledoR/status/1244631395781218306) de [@NachoToledoR](https://twitter.com/NachoToledoR)."
   ]
  },
  {
   "cell_type": "markdown",
   "metadata": {},
   "source": [
    "# Evolución de fallecidos confirmados por región"
   ]
  },
  {
   "cell_type": "code",
   "execution_count": 59,
   "metadata": {},
   "outputs": [],
   "source": [
    "#hide\n",
    "data = pd.DataFrame()\n",
    "data_raw = pd.read_csv(\n",
    "    \"https://raw.githubusercontent.com/MinCiencia/Datos-COVID19/master/output/producto4/2020-03-24-CasosConfirmados-totalRegional.csv\",\n",
    "    index_col='Region')\n",
    "data['2020-03-24'] = data_raw['Fallecidos']"
   ]
  },
  {
   "cell_type": "code",
   "execution_count": 60,
   "metadata": {},
   "outputs": [],
   "source": [
    "#hide\n",
    "first_death_date = '2020-03-24'\n",
    "total_days = (pd.to_datetime(today)-pd.to_datetime(first_death_date)).days"
   ]
  },
  {
   "cell_type": "code",
   "execution_count": 61,
   "metadata": {},
   "outputs": [],
   "source": [
    "#hide\n",
    "for i in np.arange(total_days+1):\n",
    "  date = (pd.to_datetime(first_death_date)+pd.DateOffset(i)).strftime('%Y-%m-%d')\n",
    "  s = \"https://raw.githubusercontent.com/MinCiencia/Datos-COVID19/master/output/producto4/\" + date + \"-CasosConfirmados-totalRegional.csv\"\n",
    "  data_by_date = pd.read_csv(s)\n",
    "  if 'Fallecidos' in data_by_date.columns:\n",
    "    data[date] = data_by_date[\"Fallecidos\"].values\n",
    "  elif 'Casos fallecidos' in data_by_date.columns:\n",
    "    data[date] = data_by_date[\"Casos fallecidos\"].values\n",
    "  else:\n",
    "    data[date] = data_by_date[\" Casos fallecidos\"].values"
   ]
  },
  {
   "cell_type": "code",
   "execution_count": 62,
   "metadata": {},
   "outputs": [],
   "source": [
    "#hide\n",
    "data = data.drop(\"Total\")"
   ]
  },
  {
   "cell_type": "code",
   "execution_count": 63,
   "metadata": {},
   "outputs": [],
   "source": [
    "#hide\n",
    "new_data = pd.DataFrame()\n",
    "i = 0\n",
    "for date in data.keys():\n",
    "    for n, region in enumerate(data.index):\n",
    "        new_data[i] = date, region, data[date].loc[region], n\n",
    "        i += 1"
   ]
  },
  {
   "cell_type": "code",
   "execution_count": 64,
   "metadata": {},
   "outputs": [],
   "source": [
    "#hide\n",
    "data = data.reset_index()\n",
    "regiones = data['Region'].values\n",
    "new_data = new_data.T\n",
    "new_data = new_data.rename(columns={0: \"date\", 1: \"region\", 2: \"fallecidos\", 3: \"codigo region\"})"
   ]
  },
  {
   "cell_type": "code",
   "execution_count": 65,
   "metadata": {},
   "outputs": [],
   "source": [
    "#hide\n",
    "new_data[\"fallecidos\"] = new_data[\"fallecidos\"].astype(int)"
   ]
  },
  {
   "cell_type": "code",
   "execution_count": 66,
   "metadata": {},
   "outputs": [
    {
     "data": {
      "text/html": [
       "\n",
       "<div id=\"altair-viz-59cd908ec4364420b0231f45fa885526\"></div>\n",
       "<script type=\"text/javascript\">\n",
       "  (function(spec, embedOpt){\n",
       "    let outputDiv = document.currentScript.previousElementSibling;\n",
       "    if (outputDiv.id !== \"altair-viz-59cd908ec4364420b0231f45fa885526\") {\n",
       "      outputDiv = document.getElementById(\"altair-viz-59cd908ec4364420b0231f45fa885526\");\n",
       "    }\n",
       "    const paths = {\n",
       "      \"vega\": \"https://cdn.jsdelivr.net/npm//vega@5?noext\",\n",
       "      \"vega-lib\": \"https://cdn.jsdelivr.net/npm//vega-lib?noext\",\n",
       "      \"vega-lite\": \"https://cdn.jsdelivr.net/npm//vega-lite@4.8.1?noext\",\n",
       "      \"vega-embed\": \"https://cdn.jsdelivr.net/npm//vega-embed@6?noext\",\n",
       "    };\n",
       "\n",
       "    function loadScript(lib) {\n",
       "      return new Promise(function(resolve, reject) {\n",
       "        var s = document.createElement('script');\n",
       "        s.src = paths[lib];\n",
       "        s.async = true;\n",
       "        s.onload = () => resolve(paths[lib]);\n",
       "        s.onerror = () => reject(`Error loading script: ${paths[lib]}`);\n",
       "        document.getElementsByTagName(\"head\")[0].appendChild(s);\n",
       "      });\n",
       "    }\n",
       "\n",
       "    function showError(err) {\n",
       "      outputDiv.innerHTML = `<div class=\"error\" style=\"color:red;\">${err}</div>`;\n",
       "      throw err;\n",
       "    }\n",
       "\n",
       "    function displayChart(vegaEmbed) {\n",
       "      vegaEmbed(outputDiv, spec, embedOpt)\n",
       "        .catch(err => showError(`Javascript Error: ${err.message}<br>This usually means there's a typo in your chart specification. See the javascript console for the full traceback.`));\n",
       "    }\n",
       "\n",
       "    if(typeof define === \"function\" && define.amd) {\n",
       "      requirejs.config({paths});\n",
       "      require([\"vega-embed\"], displayChart, err => showError(`Error loading script: ${err.message}`));\n",
       "    } else if (typeof vegaEmbed === \"function\") {\n",
       "      displayChart(vegaEmbed);\n",
       "    } else {\n",
       "      loadScript(\"vega\")\n",
       "        .then(() => loadScript(\"vega-lite\"))\n",
       "        .then(() => loadScript(\"vega-embed\"))\n",
       "        .catch(showError)\n",
       "        .then(() => displayChart(vegaEmbed));\n",
       "    }\n",
       "  })({\"config\": {\"view\": {\"continuousWidth\": 400, \"continuousHeight\": 300}}, \"hconcat\": [{\"mark\": \"bar\", \"encoding\": {\"color\": {\"condition\": {\"type\": \"nominal\", \"field\": \"region\", \"legend\": null, \"selection\": {\"or\": [\" \", \"selector002\"]}}, \"value\": \"lightgray\"}, \"order\": {\"type\": \"quantitative\", \"field\": \"codigo region\", \"sort\": \"descending\"}, \"tooltip\": [{\"type\": \"nominal\", \"field\": \"date\"}, {\"type\": \"nominal\", \"field\": \"region\"}, {\"type\": \"quantitative\", \"field\": \"fallecidos\"}], \"x\": {\"type\": \"ordinal\", \"axis\": {\"title\": \"Fecha (a\\u00f1o-mes-d\\u00eda)\"}, \"field\": \"date\"}, \"y\": {\"type\": \"quantitative\", \"axis\": {\"title\": \"Fallecidos confirmados\"}, \"field\": \"fallecidos\"}}, \"height\": 400, \"selection\": {\" \": {\"type\": \"single\", \"fields\": [\"region\"], \"bind\": {\"input\": \"select\", \"options\": [\"Arica y Parinacota\", \"Tarapac\\u00e1\", \"Antofagasta\", \"Atacama\", \"Coquimbo\", \"Valpara\\u00edso\", \"Metropolitana\", \"O\\u2019Higgins\", \"Maule\", \"\\u00d1uble\", \"Biob\\u00edo\", \"Araucan\\u00eda\", \"Los R\\u00edos\", \"Los Lagos\", \"Ays\\u00e9n\", \"Magallanes\"]}}, \"selector002\": {\"type\": \"multi\", \"fields\": [\"region\"], \"on\": \"mouseover\"}}, \"title\": \"COVID-19 en Chile: Total de fallecidos confirmados por regi\\u00f3n\", \"transform\": [{\"filter\": {\"selection\": \" \"}}], \"width\": 600}, {\"mark\": \"point\", \"encoding\": {\"color\": {\"condition\": {\"type\": \"nominal\", \"field\": \"region\", \"legend\": null, \"selection\": {\"or\": [\" \", \"selector002\"]}}, \"value\": \"lightgray\"}, \"y\": {\"type\": \"nominal\", \"axis\": {\"orient\": \"right\"}, \"field\": \"region\", \"sort\": [\"Arica y Parinacota\", \"Tarapac\\u00e1\", \"Antofagasta\", \"Atacama\", \"Coquimbo\", \"Valpara\\u00edso\", \"Metropolitana\", \"O\\u2019Higgins\", \"Maule\", \"\\u00d1uble\", \"Biob\\u00edo\", \"Araucan\\u00eda\", \"Los R\\u00edos\", \"Los Lagos\", \"Ays\\u00e9n\", \"Magallanes\"]}}, \"selection\": {\" \": {\"type\": \"single\", \"fields\": [\"region\"], \"bind\": {\"input\": \"select\", \"options\": [\"Arica y Parinacota\", \"Tarapac\\u00e1\", \"Antofagasta\", \"Atacama\", \"Coquimbo\", \"Valpara\\u00edso\", \"Metropolitana\", \"O\\u2019Higgins\", \"Maule\", \"\\u00d1uble\", \"Biob\\u00edo\", \"Araucan\\u00eda\", \"Los R\\u00edos\", \"Los Lagos\", \"Ays\\u00e9n\", \"Magallanes\"]}}, \"selector002\": {\"type\": \"multi\", \"fields\": [\"region\"], \"on\": \"mouseover\"}}}], \"data\": {\"name\": \"data-e777a492c9e7731ed3ab6e174f3d14f0\"}, \"$schema\": \"https://vega.github.io/schema/vega-lite/v4.8.1.json\", \"datasets\": {\"data-e777a492c9e7731ed3ab6e174f3d14f0\": [{\"date\": \"2020-03-24\", \"region\": \"Arica y Parinacota\", \"fallecidos\": 0, \"codigo region\": 0}, {\"date\": \"2020-03-24\", \"region\": \"Tarapac\\u00e1\", \"fallecidos\": 0, \"codigo region\": 1}, {\"date\": \"2020-03-24\", \"region\": \"Antofagasta\", \"fallecidos\": 0, \"codigo region\": 2}, {\"date\": \"2020-03-24\", \"region\": \"Atacama\", \"fallecidos\": 0, \"codigo region\": 3}, {\"date\": \"2020-03-24\", \"region\": \"Coquimbo\", \"fallecidos\": 0, \"codigo region\": 4}, {\"date\": \"2020-03-24\", \"region\": \"Valpara\\u00edso\", \"fallecidos\": 0, \"codigo region\": 5}, {\"date\": \"2020-03-24\", \"region\": \"Metropolitana\", \"fallecidos\": 2, \"codigo region\": 6}, {\"date\": \"2020-03-24\", \"region\": \"O\\u2019Higgins\", \"fallecidos\": 0, \"codigo region\": 7}, {\"date\": \"2020-03-24\", \"region\": \"Maule\", \"fallecidos\": 0, \"codigo region\": 8}, {\"date\": \"2020-03-24\", \"region\": \"\\u00d1uble\", \"fallecidos\": 0, \"codigo region\": 9}, {\"date\": \"2020-03-24\", \"region\": \"Biob\\u00edo\", \"fallecidos\": 0, \"codigo region\": 10}, {\"date\": \"2020-03-24\", \"region\": \"Araucan\\u00eda\", \"fallecidos\": 0, \"codigo region\": 11}, {\"date\": \"2020-03-24\", \"region\": \"Los R\\u00edos\", \"fallecidos\": 0, \"codigo region\": 12}, {\"date\": \"2020-03-24\", \"region\": \"Los Lagos\", \"fallecidos\": 0, \"codigo region\": 13}, {\"date\": \"2020-03-24\", \"region\": \"Ays\\u00e9n\", \"fallecidos\": 0, \"codigo region\": 14}, {\"date\": \"2020-03-24\", \"region\": \"Magallanes\", \"fallecidos\": 0, \"codigo region\": 15}, {\"date\": \"2020-03-25\", \"region\": \"Arica y Parinacota\", \"fallecidos\": 0, \"codigo region\": 0}, {\"date\": \"2020-03-25\", \"region\": \"Tarapac\\u00e1\", \"fallecidos\": 0, \"codigo region\": 1}, {\"date\": \"2020-03-25\", \"region\": \"Antofagasta\", \"fallecidos\": 0, \"codigo region\": 2}, {\"date\": \"2020-03-25\", \"region\": \"Atacama\", \"fallecidos\": 0, \"codigo region\": 3}, {\"date\": \"2020-03-25\", \"region\": \"Coquimbo\", \"fallecidos\": 0, \"codigo region\": 4}, {\"date\": \"2020-03-25\", \"region\": \"Valpara\\u00edso\", \"fallecidos\": 0, \"codigo region\": 5}, {\"date\": \"2020-03-25\", \"region\": \"Metropolitana\", \"fallecidos\": 2, \"codigo region\": 6}, {\"date\": \"2020-03-25\", \"region\": \"O\\u2019Higgins\", \"fallecidos\": 0, \"codigo region\": 7}, {\"date\": \"2020-03-25\", \"region\": \"Maule\", \"fallecidos\": 0, \"codigo region\": 8}, {\"date\": \"2020-03-25\", \"region\": \"\\u00d1uble\", \"fallecidos\": 0, \"codigo region\": 9}, {\"date\": \"2020-03-25\", \"region\": \"Biob\\u00edo\", \"fallecidos\": 1, \"codigo region\": 10}, {\"date\": \"2020-03-25\", \"region\": \"Araucan\\u00eda\", \"fallecidos\": 0, \"codigo region\": 11}, {\"date\": \"2020-03-25\", \"region\": \"Los R\\u00edos\", \"fallecidos\": 0, \"codigo region\": 12}, {\"date\": \"2020-03-25\", \"region\": \"Los Lagos\", \"fallecidos\": 0, \"codigo region\": 13}, {\"date\": \"2020-03-25\", \"region\": \"Ays\\u00e9n\", \"fallecidos\": 0, \"codigo region\": 14}, {\"date\": \"2020-03-25\", \"region\": \"Magallanes\", \"fallecidos\": 0, \"codigo region\": 15}, {\"date\": \"2020-03-26\", \"region\": \"Arica y Parinacota\", \"fallecidos\": 0, \"codigo region\": 0}, {\"date\": \"2020-03-26\", \"region\": \"Tarapac\\u00e1\", \"fallecidos\": 0, \"codigo region\": 1}, {\"date\": \"2020-03-26\", \"region\": \"Antofagasta\", \"fallecidos\": 0, \"codigo region\": 2}, {\"date\": \"2020-03-26\", \"region\": \"Atacama\", \"fallecidos\": 0, \"codigo region\": 3}, {\"date\": \"2020-03-26\", \"region\": \"Coquimbo\", \"fallecidos\": 0, \"codigo region\": 4}, {\"date\": \"2020-03-26\", \"region\": \"Valpara\\u00edso\", \"fallecidos\": 0, \"codigo region\": 5}, {\"date\": \"2020-03-26\", \"region\": \"Metropolitana\", \"fallecidos\": 3, \"codigo region\": 6}, {\"date\": \"2020-03-26\", \"region\": \"O\\u2019Higgins\", \"fallecidos\": 0, \"codigo region\": 7}, {\"date\": \"2020-03-26\", \"region\": \"Maule\", \"fallecidos\": 0, \"codigo region\": 8}, {\"date\": \"2020-03-26\", \"region\": \"\\u00d1uble\", \"fallecidos\": 0, \"codigo region\": 9}, {\"date\": \"2020-03-26\", \"region\": \"Biob\\u00edo\", \"fallecidos\": 1, \"codigo region\": 10}, {\"date\": \"2020-03-26\", \"region\": \"Araucan\\u00eda\", \"fallecidos\": 0, \"codigo region\": 11}, {\"date\": \"2020-03-26\", \"region\": \"Los R\\u00edos\", \"fallecidos\": 0, \"codigo region\": 12}, {\"date\": \"2020-03-26\", \"region\": \"Los Lagos\", \"fallecidos\": 0, \"codigo region\": 13}, {\"date\": \"2020-03-26\", \"region\": \"Ays\\u00e9n\", \"fallecidos\": 0, \"codigo region\": 14}, {\"date\": \"2020-03-26\", \"region\": \"Magallanes\", \"fallecidos\": 0, \"codigo region\": 15}, {\"date\": \"2020-03-27\", \"region\": \"Arica y Parinacota\", \"fallecidos\": 0, \"codigo region\": 0}, {\"date\": \"2020-03-27\", \"region\": \"Tarapac\\u00e1\", \"fallecidos\": 0, \"codigo region\": 1}, {\"date\": \"2020-03-27\", \"region\": \"Antofagasta\", \"fallecidos\": 0, \"codigo region\": 2}, {\"date\": \"2020-03-27\", \"region\": \"Atacama\", \"fallecidos\": 0, \"codigo region\": 3}, {\"date\": \"2020-03-27\", \"region\": \"Coquimbo\", \"fallecidos\": 0, \"codigo region\": 4}, {\"date\": \"2020-03-27\", \"region\": \"Valpara\\u00edso\", \"fallecidos\": 0, \"codigo region\": 5}, {\"date\": \"2020-03-27\", \"region\": \"Metropolitana\", \"fallecidos\": 3, \"codigo region\": 6}, {\"date\": \"2020-03-27\", \"region\": \"O\\u2019Higgins\", \"fallecidos\": 0, \"codigo region\": 7}, {\"date\": \"2020-03-27\", \"region\": \"Maule\", \"fallecidos\": 0, \"codigo region\": 8}, {\"date\": \"2020-03-27\", \"region\": \"\\u00d1uble\", \"fallecidos\": 0, \"codigo region\": 9}, {\"date\": \"2020-03-27\", \"region\": \"Biob\\u00edo\", \"fallecidos\": 2, \"codigo region\": 10}, {\"date\": \"2020-03-27\", \"region\": \"Araucan\\u00eda\", \"fallecidos\": 0, \"codigo region\": 11}, {\"date\": \"2020-03-27\", \"region\": \"Los R\\u00edos\", \"fallecidos\": 0, \"codigo region\": 12}, {\"date\": \"2020-03-27\", \"region\": \"Los Lagos\", \"fallecidos\": 0, \"codigo region\": 13}, {\"date\": \"2020-03-27\", \"region\": \"Ays\\u00e9n\", \"fallecidos\": 0, \"codigo region\": 14}, {\"date\": \"2020-03-27\", \"region\": \"Magallanes\", \"fallecidos\": 0, \"codigo region\": 15}, {\"date\": \"2020-03-28\", \"region\": \"Arica y Parinacota\", \"fallecidos\": 0, \"codigo region\": 0}, {\"date\": \"2020-03-28\", \"region\": \"Tarapac\\u00e1\", \"fallecidos\": 0, \"codigo region\": 1}, {\"date\": \"2020-03-28\", \"region\": \"Antofagasta\", \"fallecidos\": 0, \"codigo region\": 2}, {\"date\": \"2020-03-28\", \"region\": \"Atacama\", \"fallecidos\": 0, \"codigo region\": 3}, {\"date\": \"2020-03-28\", \"region\": \"Coquimbo\", \"fallecidos\": 0, \"codigo region\": 4}, {\"date\": \"2020-03-28\", \"region\": \"Valpara\\u00edso\", \"fallecidos\": 0, \"codigo region\": 5}, {\"date\": \"2020-03-28\", \"region\": \"Metropolitana\", \"fallecidos\": 3, \"codigo region\": 6}, {\"date\": \"2020-03-28\", \"region\": \"O\\u2019Higgins\", \"fallecidos\": 0, \"codigo region\": 7}, {\"date\": \"2020-03-28\", \"region\": \"Maule\", \"fallecidos\": 0, \"codigo region\": 8}, {\"date\": \"2020-03-28\", \"region\": \"\\u00d1uble\", \"fallecidos\": 0, \"codigo region\": 9}, {\"date\": \"2020-03-28\", \"region\": \"Biob\\u00edo\", \"fallecidos\": 2, \"codigo region\": 10}, {\"date\": \"2020-03-28\", \"region\": \"Araucan\\u00eda\", \"fallecidos\": 1, \"codigo region\": 11}, {\"date\": \"2020-03-28\", \"region\": \"Los R\\u00edos\", \"fallecidos\": 0, \"codigo region\": 12}, {\"date\": \"2020-03-28\", \"region\": \"Los Lagos\", \"fallecidos\": 0, \"codigo region\": 13}, {\"date\": \"2020-03-28\", \"region\": \"Ays\\u00e9n\", \"fallecidos\": 0, \"codigo region\": 14}, {\"date\": \"2020-03-28\", \"region\": \"Magallanes\", \"fallecidos\": 0, \"codigo region\": 15}, {\"date\": \"2020-03-29\", \"region\": \"Arica y Parinacota\", \"fallecidos\": 0, \"codigo region\": 0}, {\"date\": \"2020-03-29\", \"region\": \"Tarapac\\u00e1\", \"fallecidos\": 0, \"codigo region\": 1}, {\"date\": \"2020-03-29\", \"region\": \"Antofagasta\", \"fallecidos\": 0, \"codigo region\": 2}, {\"date\": \"2020-03-29\", \"region\": \"Atacama\", \"fallecidos\": 0, \"codigo region\": 3}, {\"date\": \"2020-03-29\", \"region\": \"Coquimbo\", \"fallecidos\": 0, \"codigo region\": 4}, {\"date\": \"2020-03-29\", \"region\": \"Valpara\\u00edso\", \"fallecidos\": 0, \"codigo region\": 5}, {\"date\": \"2020-03-29\", \"region\": \"Metropolitana\", \"fallecidos\": 3, \"codigo region\": 6}, {\"date\": \"2020-03-29\", \"region\": \"O\\u2019Higgins\", \"fallecidos\": 0, \"codigo region\": 7}, {\"date\": \"2020-03-29\", \"region\": \"Maule\", \"fallecidos\": 0, \"codigo region\": 8}, {\"date\": \"2020-03-29\", \"region\": \"\\u00d1uble\", \"fallecidos\": 0, \"codigo region\": 9}, {\"date\": \"2020-03-29\", \"region\": \"Biob\\u00edo\", \"fallecidos\": 2, \"codigo region\": 10}, {\"date\": \"2020-03-29\", \"region\": \"Araucan\\u00eda\", \"fallecidos\": 2, \"codigo region\": 11}, {\"date\": \"2020-03-29\", \"region\": \"Los R\\u00edos\", \"fallecidos\": 0, \"codigo region\": 12}, {\"date\": \"2020-03-29\", \"region\": \"Los Lagos\", \"fallecidos\": 0, \"codigo region\": 13}, {\"date\": \"2020-03-29\", \"region\": \"Ays\\u00e9n\", \"fallecidos\": 0, \"codigo region\": 14}, {\"date\": \"2020-03-29\", \"region\": \"Magallanes\", \"fallecidos\": 0, \"codigo region\": 15}, {\"date\": \"2020-03-30\", \"region\": \"Arica y Parinacota\", \"fallecidos\": 0, \"codigo region\": 0}, {\"date\": \"2020-03-30\", \"region\": \"Tarapac\\u00e1\", \"fallecidos\": 0, \"codigo region\": 1}, {\"date\": \"2020-03-30\", \"region\": \"Antofagasta\", \"fallecidos\": 0, \"codigo region\": 2}, {\"date\": \"2020-03-30\", \"region\": \"Atacama\", \"fallecidos\": 0, \"codigo region\": 3}, {\"date\": \"2020-03-30\", \"region\": \"Coquimbo\", \"fallecidos\": 0, \"codigo region\": 4}, {\"date\": \"2020-03-30\", \"region\": \"Valpara\\u00edso\", \"fallecidos\": 0, \"codigo region\": 5}, {\"date\": \"2020-03-30\", \"region\": \"Metropolitana\", \"fallecidos\": 3, \"codigo region\": 6}, {\"date\": \"2020-03-30\", \"region\": \"O\\u2019Higgins\", \"fallecidos\": 0, \"codigo region\": 7}, {\"date\": \"2020-03-30\", \"region\": \"Maule\", \"fallecidos\": 1, \"codigo region\": 8}, {\"date\": \"2020-03-30\", \"region\": \"\\u00d1uble\", \"fallecidos\": 0, \"codigo region\": 9}, {\"date\": \"2020-03-30\", \"region\": \"Biob\\u00edo\", \"fallecidos\": 2, \"codigo region\": 10}, {\"date\": \"2020-03-30\", \"region\": \"Araucan\\u00eda\", \"fallecidos\": 2, \"codigo region\": 11}, {\"date\": \"2020-03-30\", \"region\": \"Los R\\u00edos\", \"fallecidos\": 0, \"codigo region\": 12}, {\"date\": \"2020-03-30\", \"region\": \"Los Lagos\", \"fallecidos\": 0, \"codigo region\": 13}, {\"date\": \"2020-03-30\", \"region\": \"Ays\\u00e9n\", \"fallecidos\": 0, \"codigo region\": 14}, {\"date\": \"2020-03-30\", \"region\": \"Magallanes\", \"fallecidos\": 0, \"codigo region\": 15}, {\"date\": \"2020-03-31\", \"region\": \"Arica y Parinacota\", \"fallecidos\": 0, \"codigo region\": 0}, {\"date\": \"2020-03-31\", \"region\": \"Tarapac\\u00e1\", \"fallecidos\": 0, \"codigo region\": 1}, {\"date\": \"2020-03-31\", \"region\": \"Antofagasta\", \"fallecidos\": 0, \"codigo region\": 2}, {\"date\": \"2020-03-31\", \"region\": \"Atacama\", \"fallecidos\": 0, \"codigo region\": 3}, {\"date\": \"2020-03-31\", \"region\": \"Coquimbo\", \"fallecidos\": 0, \"codigo region\": 4}, {\"date\": \"2020-03-31\", \"region\": \"Valpara\\u00edso\", \"fallecidos\": 1, \"codigo region\": 5}, {\"date\": \"2020-03-31\", \"region\": \"Metropolitana\", \"fallecidos\": 4, \"codigo region\": 6}, {\"date\": \"2020-03-31\", \"region\": \"O\\u2019Higgins\", \"fallecidos\": 0, \"codigo region\": 7}, {\"date\": \"2020-03-31\", \"region\": \"Maule\", \"fallecidos\": 1, \"codigo region\": 8}, {\"date\": \"2020-03-31\", \"region\": \"\\u00d1uble\", \"fallecidos\": 0, \"codigo region\": 9}, {\"date\": \"2020-03-31\", \"region\": \"Biob\\u00edo\", \"fallecidos\": 2, \"codigo region\": 10}, {\"date\": \"2020-03-31\", \"region\": \"Araucan\\u00eda\", \"fallecidos\": 4, \"codigo region\": 11}, {\"date\": \"2020-03-31\", \"region\": \"Los R\\u00edos\", \"fallecidos\": 0, \"codigo region\": 12}, {\"date\": \"2020-03-31\", \"region\": \"Los Lagos\", \"fallecidos\": 0, \"codigo region\": 13}, {\"date\": \"2020-03-31\", \"region\": \"Ays\\u00e9n\", \"fallecidos\": 0, \"codigo region\": 14}, {\"date\": \"2020-03-31\", \"region\": \"Magallanes\", \"fallecidos\": 0, \"codigo region\": 15}, {\"date\": \"2020-04-01\", \"region\": \"Arica y Parinacota\", \"fallecidos\": 0, \"codigo region\": 0}, {\"date\": \"2020-04-01\", \"region\": \"Tarapac\\u00e1\", \"fallecidos\": 0, \"codigo region\": 1}, {\"date\": \"2020-04-01\", \"region\": \"Antofagasta\", \"fallecidos\": 0, \"codigo region\": 2}, {\"date\": \"2020-04-01\", \"region\": \"Atacama\", \"fallecidos\": 0, \"codigo region\": 3}, {\"date\": \"2020-04-01\", \"region\": \"Coquimbo\", \"fallecidos\": 0, \"codigo region\": 4}, {\"date\": \"2020-04-01\", \"region\": \"Valpara\\u00edso\", \"fallecidos\": 1, \"codigo region\": 5}, {\"date\": \"2020-04-01\", \"region\": \"Metropolitana\", \"fallecidos\": 5, \"codigo region\": 6}, {\"date\": \"2020-04-01\", \"region\": \"O\\u2019Higgins\", \"fallecidos\": 0, \"codigo region\": 7}, {\"date\": \"2020-04-01\", \"region\": \"Maule\", \"fallecidos\": 1, \"codigo region\": 8}, {\"date\": \"2020-04-01\", \"region\": \"\\u00d1uble\", \"fallecidos\": 0, \"codigo region\": 9}, {\"date\": \"2020-04-01\", \"region\": \"Biob\\u00edo\", \"fallecidos\": 2, \"codigo region\": 10}, {\"date\": \"2020-04-01\", \"region\": \"Araucan\\u00eda\", \"fallecidos\": 6, \"codigo region\": 11}, {\"date\": \"2020-04-01\", \"region\": \"Los R\\u00edos\", \"fallecidos\": 1, \"codigo region\": 12}, {\"date\": \"2020-04-01\", \"region\": \"Los Lagos\", \"fallecidos\": 0, \"codigo region\": 13}, {\"date\": \"2020-04-01\", \"region\": \"Ays\\u00e9n\", \"fallecidos\": 0, \"codigo region\": 14}, {\"date\": \"2020-04-01\", \"region\": \"Magallanes\", \"fallecidos\": 0, \"codigo region\": 15}, {\"date\": \"2020-04-02\", \"region\": \"Arica y Parinacota\", \"fallecidos\": 0, \"codigo region\": 0}, {\"date\": \"2020-04-02\", \"region\": \"Tarapac\\u00e1\", \"fallecidos\": 0, \"codigo region\": 1}, {\"date\": \"2020-04-02\", \"region\": \"Antofagasta\", \"fallecidos\": 0, \"codigo region\": 2}, {\"date\": \"2020-04-02\", \"region\": \"Atacama\", \"fallecidos\": 0, \"codigo region\": 3}, {\"date\": \"2020-04-02\", \"region\": \"Coquimbo\", \"fallecidos\": 0, \"codigo region\": 4}, {\"date\": \"2020-04-02\", \"region\": \"Valpara\\u00edso\", \"fallecidos\": 1, \"codigo region\": 5}, {\"date\": \"2020-04-02\", \"region\": \"Metropolitana\", \"fallecidos\": 6, \"codigo region\": 6}, {\"date\": \"2020-04-02\", \"region\": \"O\\u2019Higgins\", \"fallecidos\": 0, \"codigo region\": 7}, {\"date\": \"2020-04-02\", \"region\": \"Maule\", \"fallecidos\": 1, \"codigo region\": 8}, {\"date\": \"2020-04-02\", \"region\": \"\\u00d1uble\", \"fallecidos\": 0, \"codigo region\": 9}, {\"date\": \"2020-04-02\", \"region\": \"Biob\\u00edo\", \"fallecidos\": 2, \"codigo region\": 10}, {\"date\": \"2020-04-02\", \"region\": \"Araucan\\u00eda\", \"fallecidos\": 7, \"codigo region\": 11}, {\"date\": \"2020-04-02\", \"region\": \"Los R\\u00edos\", \"fallecidos\": 1, \"codigo region\": 12}, {\"date\": \"2020-04-02\", \"region\": \"Los Lagos\", \"fallecidos\": 0, \"codigo region\": 13}, {\"date\": \"2020-04-02\", \"region\": \"Ays\\u00e9n\", \"fallecidos\": 0, \"codigo region\": 14}, {\"date\": \"2020-04-02\", \"region\": \"Magallanes\", \"fallecidos\": 0, \"codigo region\": 15}, {\"date\": \"2020-04-03\", \"region\": \"Arica y Parinacota\", \"fallecidos\": 0, \"codigo region\": 0}, {\"date\": \"2020-04-03\", \"region\": \"Tarapac\\u00e1\", \"fallecidos\": 0, \"codigo region\": 1}, {\"date\": \"2020-04-03\", \"region\": \"Antofagasta\", \"fallecidos\": 0, \"codigo region\": 2}, {\"date\": \"2020-04-03\", \"region\": \"Atacama\", \"fallecidos\": 0, \"codigo region\": 3}, {\"date\": \"2020-04-03\", \"region\": \"Coquimbo\", \"fallecidos\": 0, \"codigo region\": 4}, {\"date\": \"2020-04-03\", \"region\": \"Valpara\\u00edso\", \"fallecidos\": 1, \"codigo region\": 5}, {\"date\": \"2020-04-03\", \"region\": \"Metropolitana\", \"fallecidos\": 8, \"codigo region\": 6}, {\"date\": \"2020-04-03\", \"region\": \"O\\u2019Higgins\", \"fallecidos\": 0, \"codigo region\": 7}, {\"date\": \"2020-04-03\", \"region\": \"Maule\", \"fallecidos\": 1, \"codigo region\": 8}, {\"date\": \"2020-04-03\", \"region\": \"\\u00d1uble\", \"fallecidos\": 1, \"codigo region\": 9}, {\"date\": \"2020-04-03\", \"region\": \"Biob\\u00edo\", \"fallecidos\": 2, \"codigo region\": 10}, {\"date\": \"2020-04-03\", \"region\": \"Araucan\\u00eda\", \"fallecidos\": 7, \"codigo region\": 11}, {\"date\": \"2020-04-03\", \"region\": \"Los R\\u00edos\", \"fallecidos\": 1, \"codigo region\": 12}, {\"date\": \"2020-04-03\", \"region\": \"Los Lagos\", \"fallecidos\": 0, \"codigo region\": 13}, {\"date\": \"2020-04-03\", \"region\": \"Ays\\u00e9n\", \"fallecidos\": 0, \"codigo region\": 14}, {\"date\": \"2020-04-03\", \"region\": \"Magallanes\", \"fallecidos\": 1, \"codigo region\": 15}, {\"date\": \"2020-04-04\", \"region\": \"Arica y Parinacota\", \"fallecidos\": 0, \"codigo region\": 0}, {\"date\": \"2020-04-04\", \"region\": \"Tarapac\\u00e1\", \"fallecidos\": 0, \"codigo region\": 1}, {\"date\": \"2020-04-04\", \"region\": \"Antofagasta\", \"fallecidos\": 0, \"codigo region\": 2}, {\"date\": \"2020-04-04\", \"region\": \"Atacama\", \"fallecidos\": 0, \"codigo region\": 3}, {\"date\": \"2020-04-04\", \"region\": \"Coquimbo\", \"fallecidos\": 0, \"codigo region\": 4}, {\"date\": \"2020-04-04\", \"region\": \"Valpara\\u00edso\", \"fallecidos\": 1, \"codigo region\": 5}, {\"date\": \"2020-04-04\", \"region\": \"Metropolitana\", \"fallecidos\": 9, \"codigo region\": 6}, {\"date\": \"2020-04-04\", \"region\": \"O\\u2019Higgins\", \"fallecidos\": 0, \"codigo region\": 7}, {\"date\": \"2020-04-04\", \"region\": \"Maule\", \"fallecidos\": 1, \"codigo region\": 8}, {\"date\": \"2020-04-04\", \"region\": \"\\u00d1uble\", \"fallecidos\": 2, \"codigo region\": 9}, {\"date\": \"2020-04-04\", \"region\": \"Biob\\u00edo\", \"fallecidos\": 2, \"codigo region\": 10}, {\"date\": \"2020-04-04\", \"region\": \"Araucan\\u00eda\", \"fallecidos\": 9, \"codigo region\": 11}, {\"date\": \"2020-04-04\", \"region\": \"Los R\\u00edos\", \"fallecidos\": 1, \"codigo region\": 12}, {\"date\": \"2020-04-04\", \"region\": \"Los Lagos\", \"fallecidos\": 0, \"codigo region\": 13}, {\"date\": \"2020-04-04\", \"region\": \"Ays\\u00e9n\", \"fallecidos\": 0, \"codigo region\": 14}, {\"date\": \"2020-04-04\", \"region\": \"Magallanes\", \"fallecidos\": 2, \"codigo region\": 15}, {\"date\": \"2020-04-05\", \"region\": \"Arica y Parinacota\", \"fallecidos\": 0, \"codigo region\": 0}, {\"date\": \"2020-04-05\", \"region\": \"Tarapac\\u00e1\", \"fallecidos\": 0, \"codigo region\": 1}, {\"date\": \"2020-04-05\", \"region\": \"Antofagasta\", \"fallecidos\": 0, \"codigo region\": 2}, {\"date\": \"2020-04-05\", \"region\": \"Atacama\", \"fallecidos\": 0, \"codigo region\": 3}, {\"date\": \"2020-04-05\", \"region\": \"Coquimbo\", \"fallecidos\": 0, \"codigo region\": 4}, {\"date\": \"2020-04-05\", \"region\": \"Valpara\\u00edso\", \"fallecidos\": 1, \"codigo region\": 5}, {\"date\": \"2020-04-05\", \"region\": \"Metropolitana\", \"fallecidos\": 10, \"codigo region\": 6}, {\"date\": \"2020-04-05\", \"region\": \"O\\u2019Higgins\", \"fallecidos\": 0, \"codigo region\": 7}, {\"date\": \"2020-04-05\", \"region\": \"Maule\", \"fallecidos\": 1, \"codigo region\": 8}, {\"date\": \"2020-04-05\", \"region\": \"\\u00d1uble\", \"fallecidos\": 3, \"codigo region\": 9}, {\"date\": \"2020-04-05\", \"region\": \"Biob\\u00edo\", \"fallecidos\": 2, \"codigo region\": 10}, {\"date\": \"2020-04-05\", \"region\": \"Araucan\\u00eda\", \"fallecidos\": 13, \"codigo region\": 11}, {\"date\": \"2020-04-05\", \"region\": \"Los R\\u00edos\", \"fallecidos\": 1, \"codigo region\": 12}, {\"date\": \"2020-04-05\", \"region\": \"Los Lagos\", \"fallecidos\": 1, \"codigo region\": 13}, {\"date\": \"2020-04-05\", \"region\": \"Ays\\u00e9n\", \"fallecidos\": 0, \"codigo region\": 14}, {\"date\": \"2020-04-05\", \"region\": \"Magallanes\", \"fallecidos\": 2, \"codigo region\": 15}, {\"date\": \"2020-04-06\", \"region\": \"Arica y Parinacota\", \"fallecidos\": 0, \"codigo region\": 0}, {\"date\": \"2020-04-06\", \"region\": \"Tarapac\\u00e1\", \"fallecidos\": 0, \"codigo region\": 1}, {\"date\": \"2020-04-06\", \"region\": \"Antofagasta\", \"fallecidos\": 0, \"codigo region\": 2}, {\"date\": \"2020-04-06\", \"region\": \"Atacama\", \"fallecidos\": 0, \"codigo region\": 3}, {\"date\": \"2020-04-06\", \"region\": \"Coquimbo\", \"fallecidos\": 0, \"codigo region\": 4}, {\"date\": \"2020-04-06\", \"region\": \"Valpara\\u00edso\", \"fallecidos\": 1, \"codigo region\": 5}, {\"date\": \"2020-04-06\", \"region\": \"Metropolitana\", \"fallecidos\": 10, \"codigo region\": 6}, {\"date\": \"2020-04-06\", \"region\": \"O\\u2019Higgins\", \"fallecidos\": 0, \"codigo region\": 7}, {\"date\": \"2020-04-06\", \"region\": \"Maule\", \"fallecidos\": 1, \"codigo region\": 8}, {\"date\": \"2020-04-06\", \"region\": \"\\u00d1uble\", \"fallecidos\": 4, \"codigo region\": 9}, {\"date\": \"2020-04-06\", \"region\": \"Biob\\u00edo\", \"fallecidos\": 2, \"codigo region\": 10}, {\"date\": \"2020-04-06\", \"region\": \"Araucan\\u00eda\", \"fallecidos\": 14, \"codigo region\": 11}, {\"date\": \"2020-04-06\", \"region\": \"Los R\\u00edos\", \"fallecidos\": 1, \"codigo region\": 12}, {\"date\": \"2020-04-06\", \"region\": \"Los Lagos\", \"fallecidos\": 2, \"codigo region\": 13}, {\"date\": \"2020-04-06\", \"region\": \"Ays\\u00e9n\", \"fallecidos\": 0, \"codigo region\": 14}, {\"date\": \"2020-04-06\", \"region\": \"Magallanes\", \"fallecidos\": 2, \"codigo region\": 15}, {\"date\": \"2020-04-07\", \"region\": \"Arica y Parinacota\", \"fallecidos\": 0, \"codigo region\": 0}, {\"date\": \"2020-04-07\", \"region\": \"Tarapac\\u00e1\", \"fallecidos\": 0, \"codigo region\": 1}, {\"date\": \"2020-04-07\", \"region\": \"Antofagasta\", \"fallecidos\": 1, \"codigo region\": 2}, {\"date\": \"2020-04-07\", \"region\": \"Atacama\", \"fallecidos\": 0, \"codigo region\": 3}, {\"date\": \"2020-04-07\", \"region\": \"Coquimbo\", \"fallecidos\": 0, \"codigo region\": 4}, {\"date\": \"2020-04-07\", \"region\": \"Valpara\\u00edso\", \"fallecidos\": 1, \"codigo region\": 5}, {\"date\": \"2020-04-07\", \"region\": \"Metropolitana\", \"fallecidos\": 12, \"codigo region\": 6}, {\"date\": \"2020-04-07\", \"region\": \"O\\u2019Higgins\", \"fallecidos\": 0, \"codigo region\": 7}, {\"date\": \"2020-04-07\", \"region\": \"Maule\", \"fallecidos\": 2, \"codigo region\": 8}, {\"date\": \"2020-04-07\", \"region\": \"\\u00d1uble\", \"fallecidos\": 5, \"codigo region\": 9}, {\"date\": \"2020-04-07\", \"region\": \"Biob\\u00edo\", \"fallecidos\": 2, \"codigo region\": 10}, {\"date\": \"2020-04-07\", \"region\": \"Araucan\\u00eda\", \"fallecidos\": 14, \"codigo region\": 11}, {\"date\": \"2020-04-07\", \"region\": \"Los R\\u00edos\", \"fallecidos\": 2, \"codigo region\": 12}, {\"date\": \"2020-04-07\", \"region\": \"Los Lagos\", \"fallecidos\": 2, \"codigo region\": 13}, {\"date\": \"2020-04-07\", \"region\": \"Ays\\u00e9n\", \"fallecidos\": 0, \"codigo region\": 14}, {\"date\": \"2020-04-07\", \"region\": \"Magallanes\", \"fallecidos\": 2, \"codigo region\": 15}, {\"date\": \"2020-04-08\", \"region\": \"Arica y Parinacota\", \"fallecidos\": 0, \"codigo region\": 0}, {\"date\": \"2020-04-08\", \"region\": \"Tarapac\\u00e1\", \"fallecidos\": 0, \"codigo region\": 1}, {\"date\": \"2020-04-08\", \"region\": \"Antofagasta\", \"fallecidos\": 1, \"codigo region\": 2}, {\"date\": \"2020-04-08\", \"region\": \"Atacama\", \"fallecidos\": 0, \"codigo region\": 3}, {\"date\": \"2020-04-08\", \"region\": \"Coquimbo\", \"fallecidos\": 0, \"codigo region\": 4}, {\"date\": \"2020-04-08\", \"region\": \"Valpara\\u00edso\", \"fallecidos\": 2, \"codigo region\": 5}, {\"date\": \"2020-04-08\", \"region\": \"Metropolitana\", \"fallecidos\": 14, \"codigo region\": 6}, {\"date\": \"2020-04-08\", \"region\": \"O\\u2019Higgins\", \"fallecidos\": 0, \"codigo region\": 7}, {\"date\": \"2020-04-08\", \"region\": \"Maule\", \"fallecidos\": 2, \"codigo region\": 8}, {\"date\": \"2020-04-08\", \"region\": \"\\u00d1uble\", \"fallecidos\": 5, \"codigo region\": 9}, {\"date\": \"2020-04-08\", \"region\": \"Biob\\u00edo\", \"fallecidos\": 2, \"codigo region\": 10}, {\"date\": \"2020-04-08\", \"region\": \"Araucan\\u00eda\", \"fallecidos\": 15, \"codigo region\": 11}, {\"date\": \"2020-04-08\", \"region\": \"Los R\\u00edos\", \"fallecidos\": 2, \"codigo region\": 12}, {\"date\": \"2020-04-08\", \"region\": \"Los Lagos\", \"fallecidos\": 2, \"codigo region\": 13}, {\"date\": \"2020-04-08\", \"region\": \"Ays\\u00e9n\", \"fallecidos\": 0, \"codigo region\": 14}, {\"date\": \"2020-04-08\", \"region\": \"Magallanes\", \"fallecidos\": 3, \"codigo region\": 15}, {\"date\": \"2020-04-09\", \"region\": \"Arica y Parinacota\", \"fallecidos\": 0, \"codigo region\": 0}, {\"date\": \"2020-04-09\", \"region\": \"Tarapac\\u00e1\", \"fallecidos\": 0, \"codigo region\": 1}, {\"date\": \"2020-04-09\", \"region\": \"Antofagasta\", \"fallecidos\": 1, \"codigo region\": 2}, {\"date\": \"2020-04-09\", \"region\": \"Atacama\", \"fallecidos\": 0, \"codigo region\": 3}, {\"date\": \"2020-04-09\", \"region\": \"Coquimbo\", \"fallecidos\": 0, \"codigo region\": 4}, {\"date\": \"2020-04-09\", \"region\": \"Valpara\\u00edso\", \"fallecidos\": 2, \"codigo region\": 5}, {\"date\": \"2020-04-09\", \"region\": \"Metropolitana\", \"fallecidos\": 21, \"codigo region\": 6}, {\"date\": \"2020-04-09\", \"region\": \"O\\u2019Higgins\", \"fallecidos\": 0, \"codigo region\": 7}, {\"date\": \"2020-04-09\", \"region\": \"Maule\", \"fallecidos\": 2, \"codigo region\": 8}, {\"date\": \"2020-04-09\", \"region\": \"\\u00d1uble\", \"fallecidos\": 6, \"codigo region\": 9}, {\"date\": \"2020-04-09\", \"region\": \"Biob\\u00edo\", \"fallecidos\": 2, \"codigo region\": 10}, {\"date\": \"2020-04-09\", \"region\": \"Araucan\\u00eda\", \"fallecidos\": 16, \"codigo region\": 11}, {\"date\": \"2020-04-09\", \"region\": \"Los R\\u00edos\", \"fallecidos\": 2, \"codigo region\": 12}, {\"date\": \"2020-04-09\", \"region\": \"Los Lagos\", \"fallecidos\": 2, \"codigo region\": 13}, {\"date\": \"2020-04-09\", \"region\": \"Ays\\u00e9n\", \"fallecidos\": 0, \"codigo region\": 14}, {\"date\": \"2020-04-09\", \"region\": \"Magallanes\", \"fallecidos\": 3, \"codigo region\": 15}, {\"date\": \"2020-04-10\", \"region\": \"Arica y Parinacota\", \"fallecidos\": 0, \"codigo region\": 0}, {\"date\": \"2020-04-10\", \"region\": \"Tarapac\\u00e1\", \"fallecidos\": 0, \"codigo region\": 1}, {\"date\": \"2020-04-10\", \"region\": \"Antofagasta\", \"fallecidos\": 1, \"codigo region\": 2}, {\"date\": \"2020-04-10\", \"region\": \"Atacama\", \"fallecidos\": 0, \"codigo region\": 3}, {\"date\": \"2020-04-10\", \"region\": \"Coquimbo\", \"fallecidos\": 0, \"codigo region\": 4}, {\"date\": \"2020-04-10\", \"region\": \"Valpara\\u00edso\", \"fallecidos\": 2, \"codigo region\": 5}, {\"date\": \"2020-04-10\", \"region\": \"Metropolitana\", \"fallecidos\": 29, \"codigo region\": 6}, {\"date\": \"2020-04-10\", \"region\": \"O\\u2019Higgins\", \"fallecidos\": 0, \"codigo region\": 7}, {\"date\": \"2020-04-10\", \"region\": \"Maule\", \"fallecidos\": 2, \"codigo region\": 8}, {\"date\": \"2020-04-10\", \"region\": \"\\u00d1uble\", \"fallecidos\": 6, \"codigo region\": 9}, {\"date\": \"2020-04-10\", \"region\": \"Biob\\u00edo\", \"fallecidos\": 2, \"codigo region\": 10}, {\"date\": \"2020-04-10\", \"region\": \"Araucan\\u00eda\", \"fallecidos\": 16, \"codigo region\": 11}, {\"date\": \"2020-04-10\", \"region\": \"Los R\\u00edos\", \"fallecidos\": 2, \"codigo region\": 12}, {\"date\": \"2020-04-10\", \"region\": \"Los Lagos\", \"fallecidos\": 2, \"codigo region\": 13}, {\"date\": \"2020-04-10\", \"region\": \"Ays\\u00e9n\", \"fallecidos\": 0, \"codigo region\": 14}, {\"date\": \"2020-04-10\", \"region\": \"Magallanes\", \"fallecidos\": 3, \"codigo region\": 15}, {\"date\": \"2020-04-11\", \"region\": \"Arica y Parinacota\", \"fallecidos\": 0, \"codigo region\": 0}, {\"date\": \"2020-04-11\", \"region\": \"Tarapac\\u00e1\", \"fallecidos\": 0, \"codigo region\": 1}, {\"date\": \"2020-04-11\", \"region\": \"Antofagasta\", \"fallecidos\": 1, \"codigo region\": 2}, {\"date\": \"2020-04-11\", \"region\": \"Atacama\", \"fallecidos\": 0, \"codigo region\": 3}, {\"date\": \"2020-04-11\", \"region\": \"Coquimbo\", \"fallecidos\": 0, \"codigo region\": 4}, {\"date\": \"2020-04-11\", \"region\": \"Valpara\\u00edso\", \"fallecidos\": 2, \"codigo region\": 5}, {\"date\": \"2020-04-11\", \"region\": \"Metropolitana\", \"fallecidos\": 32, \"codigo region\": 6}, {\"date\": \"2020-04-11\", \"region\": \"O\\u2019Higgins\", \"fallecidos\": 0, \"codigo region\": 7}, {\"date\": \"2020-04-11\", \"region\": \"Maule\", \"fallecidos\": 3, \"codigo region\": 8}, {\"date\": \"2020-04-11\", \"region\": \"\\u00d1uble\", \"fallecidos\": 6, \"codigo region\": 9}, {\"date\": \"2020-04-11\", \"region\": \"Biob\\u00edo\", \"fallecidos\": 2, \"codigo region\": 10}, {\"date\": \"2020-04-11\", \"region\": \"Araucan\\u00eda\", \"fallecidos\": 17, \"codigo region\": 11}, {\"date\": \"2020-04-11\", \"region\": \"Los R\\u00edos\", \"fallecidos\": 2, \"codigo region\": 12}, {\"date\": \"2020-04-11\", \"region\": \"Los Lagos\", \"fallecidos\": 5, \"codigo region\": 13}, {\"date\": \"2020-04-11\", \"region\": \"Ays\\u00e9n\", \"fallecidos\": 0, \"codigo region\": 14}, {\"date\": \"2020-04-11\", \"region\": \"Magallanes\", \"fallecidos\": 3, \"codigo region\": 15}, {\"date\": \"2020-04-12\", \"region\": \"Arica y Parinacota\", \"fallecidos\": 1, \"codigo region\": 0}, {\"date\": \"2020-04-12\", \"region\": \"Tarapac\\u00e1\", \"fallecidos\": 0, \"codigo region\": 1}, {\"date\": \"2020-04-12\", \"region\": \"Antofagasta\", \"fallecidos\": 1, \"codigo region\": 2}, {\"date\": \"2020-04-12\", \"region\": \"Atacama\", \"fallecidos\": 0, \"codigo region\": 3}, {\"date\": \"2020-04-12\", \"region\": \"Coquimbo\", \"fallecidos\": 0, \"codigo region\": 4}, {\"date\": \"2020-04-12\", \"region\": \"Valpara\\u00edso\", \"fallecidos\": 2, \"codigo region\": 5}, {\"date\": \"2020-04-12\", \"region\": \"Metropolitana\", \"fallecidos\": 35, \"codigo region\": 6}, {\"date\": \"2020-04-12\", \"region\": \"O\\u2019Higgins\", \"fallecidos\": 0, \"codigo region\": 7}, {\"date\": \"2020-04-12\", \"region\": \"Maule\", \"fallecidos\": 3, \"codigo region\": 8}, {\"date\": \"2020-04-12\", \"region\": \"\\u00d1uble\", \"fallecidos\": 7, \"codigo region\": 9}, {\"date\": \"2020-04-12\", \"region\": \"Biob\\u00edo\", \"fallecidos\": 2, \"codigo region\": 10}, {\"date\": \"2020-04-12\", \"region\": \"Araucan\\u00eda\", \"fallecidos\": 17, \"codigo region\": 11}, {\"date\": \"2020-04-12\", \"region\": \"Los R\\u00edos\", \"fallecidos\": 3, \"codigo region\": 12}, {\"date\": \"2020-04-12\", \"region\": \"Los Lagos\", \"fallecidos\": 5, \"codigo region\": 13}, {\"date\": \"2020-04-12\", \"region\": \"Ays\\u00e9n\", \"fallecidos\": 0, \"codigo region\": 14}, {\"date\": \"2020-04-12\", \"region\": \"Magallanes\", \"fallecidos\": 4, \"codigo region\": 15}, {\"date\": \"2020-04-13\", \"region\": \"Arica y Parinacota\", \"fallecidos\": 1, \"codigo region\": 0}, {\"date\": \"2020-04-13\", \"region\": \"Tarapac\\u00e1\", \"fallecidos\": 0, \"codigo region\": 1}, {\"date\": \"2020-04-13\", \"region\": \"Antofagasta\", \"fallecidos\": 1, \"codigo region\": 2}, {\"date\": \"2020-04-13\", \"region\": \"Atacama\", \"fallecidos\": 0, \"codigo region\": 3}, {\"date\": \"2020-04-13\", \"region\": \"Coquimbo\", \"fallecidos\": 0, \"codigo region\": 4}, {\"date\": \"2020-04-13\", \"region\": \"Valpara\\u00edso\", \"fallecidos\": 2, \"codigo region\": 5}, {\"date\": \"2020-04-13\", \"region\": \"Metropolitana\", \"fallecidos\": 36, \"codigo region\": 6}, {\"date\": \"2020-04-13\", \"region\": \"O\\u2019Higgins\", \"fallecidos\": 0, \"codigo region\": 7}, {\"date\": \"2020-04-13\", \"region\": \"Maule\", \"fallecidos\": 3, \"codigo region\": 8}, {\"date\": \"2020-04-13\", \"region\": \"\\u00d1uble\", \"fallecidos\": 7, \"codigo region\": 9}, {\"date\": \"2020-04-13\", \"region\": \"Biob\\u00edo\", \"fallecidos\": 2, \"codigo region\": 10}, {\"date\": \"2020-04-13\", \"region\": \"Araucan\\u00eda\", \"fallecidos\": 17, \"codigo region\": 11}, {\"date\": \"2020-04-13\", \"region\": \"Los R\\u00edos\", \"fallecidos\": 3, \"codigo region\": 12}, {\"date\": \"2020-04-13\", \"region\": \"Los Lagos\", \"fallecidos\": 5, \"codigo region\": 13}, {\"date\": \"2020-04-13\", \"region\": \"Ays\\u00e9n\", \"fallecidos\": 0, \"codigo region\": 14}, {\"date\": \"2020-04-13\", \"region\": \"Magallanes\", \"fallecidos\": 5, \"codigo region\": 15}, {\"date\": \"2020-04-14\", \"region\": \"Arica y Parinacota\", \"fallecidos\": 1, \"codigo region\": 0}, {\"date\": \"2020-04-14\", \"region\": \"Tarapac\\u00e1\", \"fallecidos\": 0, \"codigo region\": 1}, {\"date\": \"2020-04-14\", \"region\": \"Antofagasta\", \"fallecidos\": 1, \"codigo region\": 2}, {\"date\": \"2020-04-14\", \"region\": \"Atacama\", \"fallecidos\": 0, \"codigo region\": 3}, {\"date\": \"2020-04-14\", \"region\": \"Coquimbo\", \"fallecidos\": 0, \"codigo region\": 4}, {\"date\": \"2020-04-14\", \"region\": \"Valpara\\u00edso\", \"fallecidos\": 2, \"codigo region\": 5}, {\"date\": \"2020-04-14\", \"region\": \"Metropolitana\", \"fallecidos\": 40, \"codigo region\": 6}, {\"date\": \"2020-04-14\", \"region\": \"O\\u2019Higgins\", \"fallecidos\": 0, \"codigo region\": 7}, {\"date\": \"2020-04-14\", \"region\": \"Maule\", \"fallecidos\": 4, \"codigo region\": 8}, {\"date\": \"2020-04-14\", \"region\": \"\\u00d1uble\", \"fallecidos\": 8, \"codigo region\": 9}, {\"date\": \"2020-04-14\", \"region\": \"Biob\\u00edo\", \"fallecidos\": 2, \"codigo region\": 10}, {\"date\": \"2020-04-14\", \"region\": \"Araucan\\u00eda\", \"fallecidos\": 20, \"codigo region\": 11}, {\"date\": \"2020-04-14\", \"region\": \"Los R\\u00edos\", \"fallecidos\": 3, \"codigo region\": 12}, {\"date\": \"2020-04-14\", \"region\": \"Los Lagos\", \"fallecidos\": 5, \"codigo region\": 13}, {\"date\": \"2020-04-14\", \"region\": \"Ays\\u00e9n\", \"fallecidos\": 0, \"codigo region\": 14}, {\"date\": \"2020-04-14\", \"region\": \"Magallanes\", \"fallecidos\": 6, \"codigo region\": 15}, {\"date\": \"2020-04-15\", \"region\": \"Arica y Parinacota\", \"fallecidos\": 1, \"codigo region\": 0}, {\"date\": \"2020-04-15\", \"region\": \"Tarapac\\u00e1\", \"fallecidos\": 0, \"codigo region\": 1}, {\"date\": \"2020-04-15\", \"region\": \"Antofagasta\", \"fallecidos\": 1, \"codigo region\": 2}, {\"date\": \"2020-04-15\", \"region\": \"Atacama\", \"fallecidos\": 0, \"codigo region\": 3}, {\"date\": \"2020-04-15\", \"region\": \"Coquimbo\", \"fallecidos\": 0, \"codigo region\": 4}, {\"date\": \"2020-04-15\", \"region\": \"Valpara\\u00edso\", \"fallecidos\": 2, \"codigo region\": 5}, {\"date\": \"2020-04-15\", \"region\": \"Metropolitana\", \"fallecidos\": 41, \"codigo region\": 6}, {\"date\": \"2020-04-15\", \"region\": \"O\\u2019Higgins\", \"fallecidos\": 0, \"codigo region\": 7}, {\"date\": \"2020-04-15\", \"region\": \"Maule\", \"fallecidos\": 4, \"codigo region\": 8}, {\"date\": \"2020-04-15\", \"region\": \"\\u00d1uble\", \"fallecidos\": 8, \"codigo region\": 9}, {\"date\": \"2020-04-15\", \"region\": \"Biob\\u00edo\", \"fallecidos\": 2, \"codigo region\": 10}, {\"date\": \"2020-04-15\", \"region\": \"Araucan\\u00eda\", \"fallecidos\": 21, \"codigo region\": 11}, {\"date\": \"2020-04-15\", \"region\": \"Los R\\u00edos\", \"fallecidos\": 3, \"codigo region\": 12}, {\"date\": \"2020-04-15\", \"region\": \"Los Lagos\", \"fallecidos\": 5, \"codigo region\": 13}, {\"date\": \"2020-04-15\", \"region\": \"Ays\\u00e9n\", \"fallecidos\": 0, \"codigo region\": 14}, {\"date\": \"2020-04-15\", \"region\": \"Magallanes\", \"fallecidos\": 6, \"codigo region\": 15}, {\"date\": \"2020-04-16\", \"region\": \"Arica y Parinacota\", \"fallecidos\": 1, \"codigo region\": 0}, {\"date\": \"2020-04-16\", \"region\": \"Tarapac\\u00e1\", \"fallecidos\": 0, \"codigo region\": 1}, {\"date\": \"2020-04-16\", \"region\": \"Antofagasta\", \"fallecidos\": 1, \"codigo region\": 2}, {\"date\": \"2020-04-16\", \"region\": \"Atacama\", \"fallecidos\": 0, \"codigo region\": 3}, {\"date\": \"2020-04-16\", \"region\": \"Coquimbo\", \"fallecidos\": 0, \"codigo region\": 4}, {\"date\": \"2020-04-16\", \"region\": \"Valpara\\u00edso\", \"fallecidos\": 4, \"codigo region\": 5}, {\"date\": \"2020-04-16\", \"region\": \"Metropolitana\", \"fallecidos\": 48, \"codigo region\": 6}, {\"date\": \"2020-04-16\", \"region\": \"O\\u2019Higgins\", \"fallecidos\": 0, \"codigo region\": 7}, {\"date\": \"2020-04-16\", \"region\": \"Maule\", \"fallecidos\": 4, \"codigo region\": 8}, {\"date\": \"2020-04-16\", \"region\": \"\\u00d1uble\", \"fallecidos\": 10, \"codigo region\": 9}, {\"date\": \"2020-04-16\", \"region\": \"Biob\\u00edo\", \"fallecidos\": 2, \"codigo region\": 10}, {\"date\": \"2020-04-16\", \"region\": \"Araucan\\u00eda\", \"fallecidos\": 21, \"codigo region\": 11}, {\"date\": \"2020-04-16\", \"region\": \"Los R\\u00edos\", \"fallecidos\": 3, \"codigo region\": 12}, {\"date\": \"2020-04-16\", \"region\": \"Los Lagos\", \"fallecidos\": 5, \"codigo region\": 13}, {\"date\": \"2020-04-16\", \"region\": \"Ays\\u00e9n\", \"fallecidos\": 0, \"codigo region\": 14}, {\"date\": \"2020-04-16\", \"region\": \"Magallanes\", \"fallecidos\": 6, \"codigo region\": 15}, {\"date\": \"2020-04-17\", \"region\": \"Arica y Parinacota\", \"fallecidos\": 2, \"codigo region\": 0}, {\"date\": \"2020-04-17\", \"region\": \"Tarapac\\u00e1\", \"fallecidos\": 0, \"codigo region\": 1}, {\"date\": \"2020-04-17\", \"region\": \"Antofagasta\", \"fallecidos\": 1, \"codigo region\": 2}, {\"date\": \"2020-04-17\", \"region\": \"Atacama\", \"fallecidos\": 0, \"codigo region\": 3}, {\"date\": \"2020-04-17\", \"region\": \"Coquimbo\", \"fallecidos\": 0, \"codigo region\": 4}, {\"date\": \"2020-04-17\", \"region\": \"Valpara\\u00edso\", \"fallecidos\": 4, \"codigo region\": 5}, {\"date\": \"2020-04-17\", \"region\": \"Metropolitana\", \"fallecidos\": 51, \"codigo region\": 6}, {\"date\": \"2020-04-17\", \"region\": \"O\\u2019Higgins\", \"fallecidos\": 0, \"codigo region\": 7}, {\"date\": \"2020-04-17\", \"region\": \"Maule\", \"fallecidos\": 7, \"codigo region\": 8}, {\"date\": \"2020-04-17\", \"region\": \"\\u00d1uble\", \"fallecidos\": 11, \"codigo region\": 9}, {\"date\": \"2020-04-17\", \"region\": \"Biob\\u00edo\", \"fallecidos\": 3, \"codigo region\": 10}, {\"date\": \"2020-04-17\", \"region\": \"Araucan\\u00eda\", \"fallecidos\": 22, \"codigo region\": 11}, {\"date\": \"2020-04-17\", \"region\": \"Los R\\u00edos\", \"fallecidos\": 3, \"codigo region\": 12}, {\"date\": \"2020-04-17\", \"region\": \"Los Lagos\", \"fallecidos\": 6, \"codigo region\": 13}, {\"date\": \"2020-04-17\", \"region\": \"Ays\\u00e9n\", \"fallecidos\": 0, \"codigo region\": 14}, {\"date\": \"2020-04-17\", \"region\": \"Magallanes\", \"fallecidos\": 6, \"codigo region\": 15}, {\"date\": \"2020-04-18\", \"region\": \"Arica y Parinacota\", \"fallecidos\": 2, \"codigo region\": 0}, {\"date\": \"2020-04-18\", \"region\": \"Tarapac\\u00e1\", \"fallecidos\": 0, \"codigo region\": 1}, {\"date\": \"2020-04-18\", \"region\": \"Antofagasta\", \"fallecidos\": 1, \"codigo region\": 2}, {\"date\": \"2020-04-18\", \"region\": \"Atacama\", \"fallecidos\": 0, \"codigo region\": 3}, {\"date\": \"2020-04-18\", \"region\": \"Coquimbo\", \"fallecidos\": 0, \"codigo region\": 4}, {\"date\": \"2020-04-18\", \"region\": \"Valpara\\u00edso\", \"fallecidos\": 4, \"codigo region\": 5}, {\"date\": \"2020-04-18\", \"region\": \"Metropolitana\", \"fallecidos\": 58, \"codigo region\": 6}, {\"date\": \"2020-04-18\", \"region\": \"O\\u2019Higgins\", \"fallecidos\": 0, \"codigo region\": 7}, {\"date\": \"2020-04-18\", \"region\": \"Maule\", \"fallecidos\": 8, \"codigo region\": 8}, {\"date\": \"2020-04-18\", \"region\": \"\\u00d1uble\", \"fallecidos\": 12, \"codigo region\": 9}, {\"date\": \"2020-04-18\", \"region\": \"Biob\\u00edo\", \"fallecidos\": 3, \"codigo region\": 10}, {\"date\": \"2020-04-18\", \"region\": \"Araucan\\u00eda\", \"fallecidos\": 23, \"codigo region\": 11}, {\"date\": \"2020-04-18\", \"region\": \"Los R\\u00edos\", \"fallecidos\": 3, \"codigo region\": 12}, {\"date\": \"2020-04-18\", \"region\": \"Los Lagos\", \"fallecidos\": 6, \"codigo region\": 13}, {\"date\": \"2020-04-18\", \"region\": \"Ays\\u00e9n\", \"fallecidos\": 0, \"codigo region\": 14}, {\"date\": \"2020-04-18\", \"region\": \"Magallanes\", \"fallecidos\": 6, \"codigo region\": 15}, {\"date\": \"2020-04-19\", \"region\": \"Arica y Parinacota\", \"fallecidos\": 2, \"codigo region\": 0}, {\"date\": \"2020-04-19\", \"region\": \"Tarapac\\u00e1\", \"fallecidos\": 0, \"codigo region\": 1}, {\"date\": \"2020-04-19\", \"region\": \"Antofagasta\", \"fallecidos\": 1, \"codigo region\": 2}, {\"date\": \"2020-04-19\", \"region\": \"Atacama\", \"fallecidos\": 0, \"codigo region\": 3}, {\"date\": \"2020-04-19\", \"region\": \"Coquimbo\", \"fallecidos\": 0, \"codigo region\": 4}, {\"date\": \"2020-04-19\", \"region\": \"Valpara\\u00edso\", \"fallecidos\": 5, \"codigo region\": 5}, {\"date\": \"2020-04-19\", \"region\": \"Metropolitana\", \"fallecidos\": 63, \"codigo region\": 6}, {\"date\": \"2020-04-19\", \"region\": \"O\\u2019Higgins\", \"fallecidos\": 0, \"codigo region\": 7}, {\"date\": \"2020-04-19\", \"region\": \"Maule\", \"fallecidos\": 8, \"codigo region\": 8}, {\"date\": \"2020-04-19\", \"region\": \"\\u00d1uble\", \"fallecidos\": 13, \"codigo region\": 9}, {\"date\": \"2020-04-19\", \"region\": \"Biob\\u00edo\", \"fallecidos\": 3, \"codigo region\": 10}, {\"date\": \"2020-04-19\", \"region\": \"Araucan\\u00eda\", \"fallecidos\": 23, \"codigo region\": 11}, {\"date\": \"2020-04-19\", \"region\": \"Los R\\u00edos\", \"fallecidos\": 3, \"codigo region\": 12}, {\"date\": \"2020-04-19\", \"region\": \"Los Lagos\", \"fallecidos\": 6, \"codigo region\": 13}, {\"date\": \"2020-04-19\", \"region\": \"Ays\\u00e9n\", \"fallecidos\": 0, \"codigo region\": 14}, {\"date\": \"2020-04-19\", \"region\": \"Magallanes\", \"fallecidos\": 6, \"codigo region\": 15}, {\"date\": \"2020-04-20\", \"region\": \"Arica y Parinacota\", \"fallecidos\": 2, \"codigo region\": 0}, {\"date\": \"2020-04-20\", \"region\": \"Tarapac\\u00e1\", \"fallecidos\": 0, \"codigo region\": 1}, {\"date\": \"2020-04-20\", \"region\": \"Antofagasta\", \"fallecidos\": 1, \"codigo region\": 2}, {\"date\": \"2020-04-20\", \"region\": \"Atacama\", \"fallecidos\": 0, \"codigo region\": 3}, {\"date\": \"2020-04-20\", \"region\": \"Coquimbo\", \"fallecidos\": 0, \"codigo region\": 4}, {\"date\": \"2020-04-20\", \"region\": \"Valpara\\u00edso\", \"fallecidos\": 5, \"codigo region\": 5}, {\"date\": \"2020-04-20\", \"region\": \"Metropolitana\", \"fallecidos\": 67, \"codigo region\": 6}, {\"date\": \"2020-04-20\", \"region\": \"O\\u2019Higgins\", \"fallecidos\": 0, \"codigo region\": 7}, {\"date\": \"2020-04-20\", \"region\": \"Maule\", \"fallecidos\": 10, \"codigo region\": 8}, {\"date\": \"2020-04-20\", \"region\": \"\\u00d1uble\", \"fallecidos\": 13, \"codigo region\": 9}, {\"date\": \"2020-04-20\", \"region\": \"Biob\\u00edo\", \"fallecidos\": 3, \"codigo region\": 10}, {\"date\": \"2020-04-20\", \"region\": \"Araucan\\u00eda\", \"fallecidos\": 23, \"codigo region\": 11}, {\"date\": \"2020-04-20\", \"region\": \"Los R\\u00edos\", \"fallecidos\": 3, \"codigo region\": 12}, {\"date\": \"2020-04-20\", \"region\": \"Los Lagos\", \"fallecidos\": 6, \"codigo region\": 13}, {\"date\": \"2020-04-20\", \"region\": \"Ays\\u00e9n\", \"fallecidos\": 0, \"codigo region\": 14}, {\"date\": \"2020-04-20\", \"region\": \"Magallanes\", \"fallecidos\": 6, \"codigo region\": 15}, {\"date\": \"2020-04-21\", \"region\": \"Arica y Parinacota\", \"fallecidos\": 2, \"codigo region\": 0}, {\"date\": \"2020-04-21\", \"region\": \"Tarapac\\u00e1\", \"fallecidos\": 0, \"codigo region\": 1}, {\"date\": \"2020-04-21\", \"region\": \"Antofagasta\", \"fallecidos\": 1, \"codigo region\": 2}, {\"date\": \"2020-04-21\", \"region\": \"Atacama\", \"fallecidos\": 0, \"codigo region\": 3}, {\"date\": \"2020-04-21\", \"region\": \"Coquimbo\", \"fallecidos\": 0, \"codigo region\": 4}, {\"date\": \"2020-04-21\", \"region\": \"Valpara\\u00edso\", \"fallecidos\": 6, \"codigo region\": 5}, {\"date\": \"2020-04-21\", \"region\": \"Metropolitana\", \"fallecidos\": 69, \"codigo region\": 6}, {\"date\": \"2020-04-21\", \"region\": \"O\\u2019Higgins\", \"fallecidos\": 1, \"codigo region\": 7}, {\"date\": \"2020-04-21\", \"region\": \"Maule\", \"fallecidos\": 10, \"codigo region\": 8}, {\"date\": \"2020-04-21\", \"region\": \"\\u00d1uble\", \"fallecidos\": 13, \"codigo region\": 9}, {\"date\": \"2020-04-21\", \"region\": \"Biob\\u00edo\", \"fallecidos\": 4, \"codigo region\": 10}, {\"date\": \"2020-04-21\", \"region\": \"Araucan\\u00eda\", \"fallecidos\": 25, \"codigo region\": 11}, {\"date\": \"2020-04-21\", \"region\": \"Los R\\u00edos\", \"fallecidos\": 3, \"codigo region\": 12}, {\"date\": \"2020-04-21\", \"region\": \"Los Lagos\", \"fallecidos\": 6, \"codigo region\": 13}, {\"date\": \"2020-04-21\", \"region\": \"Ays\\u00e9n\", \"fallecidos\": 0, \"codigo region\": 14}, {\"date\": \"2020-04-21\", \"region\": \"Magallanes\", \"fallecidos\": 7, \"codigo region\": 15}, {\"date\": \"2020-04-22\", \"region\": \"Arica y Parinacota\", \"fallecidos\": 2, \"codigo region\": 0}, {\"date\": \"2020-04-22\", \"region\": \"Tarapac\\u00e1\", \"fallecidos\": 0, \"codigo region\": 1}, {\"date\": \"2020-04-22\", \"region\": \"Antofagasta\", \"fallecidos\": 2, \"codigo region\": 2}, {\"date\": \"2020-04-22\", \"region\": \"Atacama\", \"fallecidos\": 0, \"codigo region\": 3}, {\"date\": \"2020-04-22\", \"region\": \"Coquimbo\", \"fallecidos\": 0, \"codigo region\": 4}, {\"date\": \"2020-04-22\", \"region\": \"Valpara\\u00edso\", \"fallecidos\": 7, \"codigo region\": 5}, {\"date\": \"2020-04-22\", \"region\": \"Metropolitana\", \"fallecidos\": 78, \"codigo region\": 6}, {\"date\": \"2020-04-22\", \"region\": \"O\\u2019Higgins\", \"fallecidos\": 1, \"codigo region\": 7}, {\"date\": \"2020-04-22\", \"region\": \"Maule\", \"fallecidos\": 10, \"codigo region\": 8}, {\"date\": \"2020-04-22\", \"region\": \"\\u00d1uble\", \"fallecidos\": 13, \"codigo region\": 9}, {\"date\": \"2020-04-22\", \"region\": \"Biob\\u00edo\", \"fallecidos\": 5, \"codigo region\": 10}, {\"date\": \"2020-04-22\", \"region\": \"Araucan\\u00eda\", \"fallecidos\": 26, \"codigo region\": 11}, {\"date\": \"2020-04-22\", \"region\": \"Los R\\u00edos\", \"fallecidos\": 3, \"codigo region\": 12}, {\"date\": \"2020-04-22\", \"region\": \"Los Lagos\", \"fallecidos\": 6, \"codigo region\": 13}, {\"date\": \"2020-04-22\", \"region\": \"Ays\\u00e9n\", \"fallecidos\": 0, \"codigo region\": 14}, {\"date\": \"2020-04-22\", \"region\": \"Magallanes\", \"fallecidos\": 7, \"codigo region\": 15}, {\"date\": \"2020-04-23\", \"region\": \"Arica y Parinacota\", \"fallecidos\": 2, \"codigo region\": 0}, {\"date\": \"2020-04-23\", \"region\": \"Tarapac\\u00e1\", \"fallecidos\": 0, \"codigo region\": 1}, {\"date\": \"2020-04-23\", \"region\": \"Antofagasta\", \"fallecidos\": 2, \"codigo region\": 2}, {\"date\": \"2020-04-23\", \"region\": \"Atacama\", \"fallecidos\": 0, \"codigo region\": 3}, {\"date\": \"2020-04-23\", \"region\": \"Coquimbo\", \"fallecidos\": 0, \"codigo region\": 4}, {\"date\": \"2020-04-23\", \"region\": \"Valpara\\u00edso\", \"fallecidos\": 7, \"codigo region\": 5}, {\"date\": \"2020-04-23\", \"region\": \"Metropolitana\", \"fallecidos\": 85, \"codigo region\": 6}, {\"date\": \"2020-04-23\", \"region\": \"O\\u2019Higgins\", \"fallecidos\": 1, \"codigo region\": 7}, {\"date\": \"2020-04-23\", \"region\": \"Maule\", \"fallecidos\": 10, \"codigo region\": 8}, {\"date\": \"2020-04-23\", \"region\": \"\\u00d1uble\", \"fallecidos\": 13, \"codigo region\": 9}, {\"date\": \"2020-04-23\", \"region\": \"Biob\\u00edo\", \"fallecidos\": 5, \"codigo region\": 10}, {\"date\": \"2020-04-23\", \"region\": \"Araucan\\u00eda\", \"fallecidos\": 26, \"codigo region\": 11}, {\"date\": \"2020-04-23\", \"region\": \"Los R\\u00edos\", \"fallecidos\": 3, \"codigo region\": 12}, {\"date\": \"2020-04-23\", \"region\": \"Los Lagos\", \"fallecidos\": 7, \"codigo region\": 13}, {\"date\": \"2020-04-23\", \"region\": \"Ays\\u00e9n\", \"fallecidos\": 0, \"codigo region\": 14}, {\"date\": \"2020-04-23\", \"region\": \"Magallanes\", \"fallecidos\": 7, \"codigo region\": 15}, {\"date\": \"2020-04-24\", \"region\": \"Arica y Parinacota\", \"fallecidos\": 3, \"codigo region\": 0}, {\"date\": \"2020-04-24\", \"region\": \"Tarapac\\u00e1\", \"fallecidos\": 0, \"codigo region\": 1}, {\"date\": \"2020-04-24\", \"region\": \"Antofagasta\", \"fallecidos\": 2, \"codigo region\": 2}, {\"date\": \"2020-04-24\", \"region\": \"Atacama\", \"fallecidos\": 0, \"codigo region\": 3}, {\"date\": \"2020-04-24\", \"region\": \"Coquimbo\", \"fallecidos\": 0, \"codigo region\": 4}, {\"date\": \"2020-04-24\", \"region\": \"Valpara\\u00edso\", \"fallecidos\": 8, \"codigo region\": 5}, {\"date\": \"2020-04-24\", \"region\": \"Metropolitana\", \"fallecidos\": 86, \"codigo region\": 6}, {\"date\": \"2020-04-24\", \"region\": \"O\\u2019Higgins\", \"fallecidos\": 1, \"codigo region\": 7}, {\"date\": \"2020-04-24\", \"region\": \"Maule\", \"fallecidos\": 10, \"codigo region\": 8}, {\"date\": \"2020-04-24\", \"region\": \"\\u00d1uble\", \"fallecidos\": 14, \"codigo region\": 9}, {\"date\": \"2020-04-24\", \"region\": \"Biob\\u00edo\", \"fallecidos\": 5, \"codigo region\": 10}, {\"date\": \"2020-04-24\", \"region\": \"Araucan\\u00eda\", \"fallecidos\": 26, \"codigo region\": 11}, {\"date\": \"2020-04-24\", \"region\": \"Los R\\u00edos\", \"fallecidos\": 3, \"codigo region\": 12}, {\"date\": \"2020-04-24\", \"region\": \"Los Lagos\", \"fallecidos\": 8, \"codigo region\": 13}, {\"date\": \"2020-04-24\", \"region\": \"Ays\\u00e9n\", \"fallecidos\": 0, \"codigo region\": 14}, {\"date\": \"2020-04-24\", \"region\": \"Magallanes\", \"fallecidos\": 8, \"codigo region\": 15}, {\"date\": \"2020-04-25\", \"region\": \"Arica y Parinacota\", \"fallecidos\": 3, \"codigo region\": 0}, {\"date\": \"2020-04-25\", \"region\": \"Tarapac\\u00e1\", \"fallecidos\": 1, \"codigo region\": 1}, {\"date\": \"2020-04-25\", \"region\": \"Antofagasta\", \"fallecidos\": 3, \"codigo region\": 2}, {\"date\": \"2020-04-25\", \"region\": \"Atacama\", \"fallecidos\": 0, \"codigo region\": 3}, {\"date\": \"2020-04-25\", \"region\": \"Coquimbo\", \"fallecidos\": 0, \"codigo region\": 4}, {\"date\": \"2020-04-25\", \"region\": \"Valpara\\u00edso\", \"fallecidos\": 9, \"codigo region\": 5}, {\"date\": \"2020-04-25\", \"region\": \"Metropolitana\", \"fallecidos\": 89, \"codigo region\": 6}, {\"date\": \"2020-04-25\", \"region\": \"O\\u2019Higgins\", \"fallecidos\": 1, \"codigo region\": 7}, {\"date\": \"2020-04-25\", \"region\": \"Maule\", \"fallecidos\": 10, \"codigo region\": 8}, {\"date\": \"2020-04-25\", \"region\": \"\\u00d1uble\", \"fallecidos\": 14, \"codigo region\": 9}, {\"date\": \"2020-04-25\", \"region\": \"Biob\\u00edo\", \"fallecidos\": 5, \"codigo region\": 10}, {\"date\": \"2020-04-25\", \"region\": \"Araucan\\u00eda\", \"fallecidos\": 27, \"codigo region\": 11}, {\"date\": \"2020-04-25\", \"region\": \"Los R\\u00edos\", \"fallecidos\": 3, \"codigo region\": 12}, {\"date\": \"2020-04-25\", \"region\": \"Los Lagos\", \"fallecidos\": 8, \"codigo region\": 13}, {\"date\": \"2020-04-25\", \"region\": \"Ays\\u00e9n\", \"fallecidos\": 0, \"codigo region\": 14}, {\"date\": \"2020-04-25\", \"region\": \"Magallanes\", \"fallecidos\": 8, \"codigo region\": 15}, {\"date\": \"2020-04-26\", \"region\": \"Arica y Parinacota\", \"fallecidos\": 3, \"codigo region\": 0}, {\"date\": \"2020-04-26\", \"region\": \"Tarapac\\u00e1\", \"fallecidos\": 1, \"codigo region\": 1}, {\"date\": \"2020-04-26\", \"region\": \"Antofagasta\", \"fallecidos\": 4, \"codigo region\": 2}, {\"date\": \"2020-04-26\", \"region\": \"Atacama\", \"fallecidos\": 0, \"codigo region\": 3}, {\"date\": \"2020-04-26\", \"region\": \"Coquimbo\", \"fallecidos\": 0, \"codigo region\": 4}, {\"date\": \"2020-04-26\", \"region\": \"Valpara\\u00edso\", \"fallecidos\": 9, \"codigo region\": 5}, {\"date\": \"2020-04-26\", \"region\": \"Metropolitana\", \"fallecidos\": 91, \"codigo region\": 6}, {\"date\": \"2020-04-26\", \"region\": \"O\\u2019Higgins\", \"fallecidos\": 1, \"codigo region\": 7}, {\"date\": \"2020-04-26\", \"region\": \"Maule\", \"fallecidos\": 11, \"codigo region\": 8}, {\"date\": \"2020-04-26\", \"region\": \"\\u00d1uble\", \"fallecidos\": 14, \"codigo region\": 9}, {\"date\": \"2020-04-26\", \"region\": \"Biob\\u00edo\", \"fallecidos\": 6, \"codigo region\": 10}, {\"date\": \"2020-04-26\", \"region\": \"Araucan\\u00eda\", \"fallecidos\": 29, \"codigo region\": 11}, {\"date\": \"2020-04-26\", \"region\": \"Los R\\u00edos\", \"fallecidos\": 3, \"codigo region\": 12}, {\"date\": \"2020-04-26\", \"region\": \"Los Lagos\", \"fallecidos\": 8, \"codigo region\": 13}, {\"date\": \"2020-04-26\", \"region\": \"Ays\\u00e9n\", \"fallecidos\": 0, \"codigo region\": 14}, {\"date\": \"2020-04-26\", \"region\": \"Magallanes\", \"fallecidos\": 9, \"codigo region\": 15}]}}, {\"mode\": \"vega-lite\"});\n",
       "</script>"
      ],
      "text/plain": [
       "alt.HConcatChart(...)"
      ]
     },
     "execution_count": 66,
     "metadata": {},
     "output_type": "execute_result"
    }
   ],
   "source": [
    "#hide_input\n",
    "\n",
    "input_dropdown = alt.binding_select(options=new_data['region'].unique())\n",
    "selection1 = alt.selection_single(fields=['region'], bind=input_dropdown, name=' ')\n",
    "selection2 = alt.selection_multi(fields=['region'], on='mouseover')\n",
    "\n",
    "color = alt.condition(selection1 | selection2,\n",
    "                    alt.Color('region:N', legend=None),\n",
    "                    alt.value('lightgray'))\n",
    "\n",
    "bars = alt.Chart(new_data).mark_bar().encode(\n",
    "    x=alt.X('date:O', axis=alt.Axis(title='Fecha (año-mes-día)')),\n",
    "    y=alt.Y('fallecidos', axis=alt.Axis(title='Fallecidos confirmados')),\n",
    "    color=color,\n",
    "    tooltip=['date', 'region', 'fallecidos'],\n",
    "    order=alt.Order(\n",
    "    # Sort the segments of the bars by this field\n",
    "    'codigo region',\n",
    "    sort='descending'\n",
    "    )\n",
    "    ).properties(\n",
    "    title='COVID-19 en Chile: Total de fallecidos confirmados por región'\n",
    ").add_selection(\n",
    "    selection1, selection2\n",
    ").transform_filter(\n",
    "    selection1\n",
    ")\n",
    "\n",
    "legend = alt.Chart(new_data).mark_point().encode(\n",
    "    y=alt.Y('region:N', axis=alt.Axis(orient='right'), sort=regiones),\n",
    "    color=color\n",
    ").add_selection(\n",
    "    selection1, selection2\n",
    ")\n",
    "\n",
    "bars.properties(width=600, height=400) | legend"
   ]
  },
  {
   "cell_type": "markdown",
   "metadata": {},
   "source": [
    "Fuente: [Ministerio de Ciencia](https://github.com/MinCiencia/Datos-COVID19)"
   ]
  },
  {
   "cell_type": "markdown",
   "metadata": {},
   "source": [
    "# Evolución de pacientes en UCI por región"
   ]
  },
  {
   "cell_type": "code",
   "execution_count": 67,
   "metadata": {},
   "outputs": [],
   "source": [
    "#hide\n",
    "data_raw = pd.read_csv(\n",
    "    'https://raw.githubusercontent.com/MinCiencia/Datos-COVID19/master/output/producto8/UCI.csv',\n",
    "    index_col='Region')\n",
    "data_raw = data_raw.drop(columns='Codigo region')\n",
    "data_raw.loc['Total'] = data_raw.sum(axis=0)\n",
    "data_raw = data_raw.drop(columns='Poblacion')"
   ]
  },
  {
   "cell_type": "code",
   "execution_count": 68,
   "metadata": {},
   "outputs": [],
   "source": [
    "#hide\n",
    "data_raw = data_raw.drop(\"Total\")"
   ]
  },
  {
   "cell_type": "code",
   "execution_count": 69,
   "metadata": {},
   "outputs": [],
   "source": [
    "#hide\n",
    "data = pd.DataFrame()\n",
    "i = 0\n",
    "for date in data_raw.keys():\n",
    "    for n, region in enumerate(data_raw.index):\n",
    "        data[i] = date, region, data_raw[date].loc[region], n\n",
    "        i += 1"
   ]
  },
  {
   "cell_type": "code",
   "execution_count": 70,
   "metadata": {},
   "outputs": [],
   "source": [
    "#hide\n",
    "data_raw = data_raw.reset_index()"
   ]
  },
  {
   "cell_type": "code",
   "execution_count": 71,
   "metadata": {},
   "outputs": [],
   "source": [
    "#hide\n",
    "regiones = data_raw['Region'].values"
   ]
  },
  {
   "cell_type": "code",
   "execution_count": 72,
   "metadata": {},
   "outputs": [],
   "source": [
    "#hide\n",
    "data = data.T"
   ]
  },
  {
   "cell_type": "code",
   "execution_count": 73,
   "metadata": {},
   "outputs": [],
   "source": [
    "#hide\n",
    "data = data.rename(columns={0: \"date\", 1: \"region\", 2: \"pacientes\", 3: \"codigo region\"})"
   ]
  },
  {
   "cell_type": "code",
   "execution_count": 74,
   "metadata": {},
   "outputs": [],
   "source": [
    "#hide\n",
    "data[\"pacientes\"] = data[\"pacientes\"].astype(int)"
   ]
  },
  {
   "cell_type": "code",
   "execution_count": 75,
   "metadata": {
    "scrolled": false
   },
   "outputs": [
    {
     "data": {
      "text/html": [
       "\n",
       "<div id=\"altair-viz-0cdd467c6be44c67a4971bc7c6916304\"></div>\n",
       "<script type=\"text/javascript\">\n",
       "  (function(spec, embedOpt){\n",
       "    let outputDiv = document.currentScript.previousElementSibling;\n",
       "    if (outputDiv.id !== \"altair-viz-0cdd467c6be44c67a4971bc7c6916304\") {\n",
       "      outputDiv = document.getElementById(\"altair-viz-0cdd467c6be44c67a4971bc7c6916304\");\n",
       "    }\n",
       "    const paths = {\n",
       "      \"vega\": \"https://cdn.jsdelivr.net/npm//vega@5?noext\",\n",
       "      \"vega-lib\": \"https://cdn.jsdelivr.net/npm//vega-lib?noext\",\n",
       "      \"vega-lite\": \"https://cdn.jsdelivr.net/npm//vega-lite@4.8.1?noext\",\n",
       "      \"vega-embed\": \"https://cdn.jsdelivr.net/npm//vega-embed@6?noext\",\n",
       "    };\n",
       "\n",
       "    function loadScript(lib) {\n",
       "      return new Promise(function(resolve, reject) {\n",
       "        var s = document.createElement('script');\n",
       "        s.src = paths[lib];\n",
       "        s.async = true;\n",
       "        s.onload = () => resolve(paths[lib]);\n",
       "        s.onerror = () => reject(`Error loading script: ${paths[lib]}`);\n",
       "        document.getElementsByTagName(\"head\")[0].appendChild(s);\n",
       "      });\n",
       "    }\n",
       "\n",
       "    function showError(err) {\n",
       "      outputDiv.innerHTML = `<div class=\"error\" style=\"color:red;\">${err}</div>`;\n",
       "      throw err;\n",
       "    }\n",
       "\n",
       "    function displayChart(vegaEmbed) {\n",
       "      vegaEmbed(outputDiv, spec, embedOpt)\n",
       "        .catch(err => showError(`Javascript Error: ${err.message}<br>This usually means there's a typo in your chart specification. See the javascript console for the full traceback.`));\n",
       "    }\n",
       "\n",
       "    if(typeof define === \"function\" && define.amd) {\n",
       "      requirejs.config({paths});\n",
       "      require([\"vega-embed\"], displayChart, err => showError(`Error loading script: ${err.message}`));\n",
       "    } else if (typeof vegaEmbed === \"function\") {\n",
       "      displayChart(vegaEmbed);\n",
       "    } else {\n",
       "      loadScript(\"vega\")\n",
       "        .then(() => loadScript(\"vega-lite\"))\n",
       "        .then(() => loadScript(\"vega-embed\"))\n",
       "        .catch(showError)\n",
       "        .then(() => displayChart(vegaEmbed));\n",
       "    }\n",
       "  })({\"config\": {\"view\": {\"continuousWidth\": 400, \"continuousHeight\": 300}}, \"hconcat\": [{\"data\": {\"name\": \"data-1e64cb8ad979a3b5edbb4eef68277ea0\"}, \"mark\": \"bar\", \"encoding\": {\"color\": {\"condition\": {\"type\": \"nominal\", \"field\": \"region\", \"legend\": null, \"selection\": {\"or\": [\" \", \"selector003\"]}}, \"value\": \"lightgray\"}, \"order\": {\"type\": \"quantitative\", \"field\": \"codigo region\", \"sort\": \"descending\"}, \"tooltip\": [{\"type\": \"nominal\", \"field\": \"date\"}, {\"type\": \"nominal\", \"field\": \"region\"}, {\"type\": \"quantitative\", \"field\": \"pacientes\"}], \"x\": {\"type\": \"ordinal\", \"axis\": {\"title\": \"Fecha (a\\u00f1o-mes-d\\u00eda)\"}, \"field\": \"date\"}, \"y\": {\"type\": \"quantitative\", \"field\": \"pacientes\"}}, \"height\": 400, \"selection\": {\" \": {\"type\": \"single\", \"fields\": [\"region\"], \"bind\": {\"input\": \"select\", \"options\": [\"Arica y Parinacota\", \"Tarapac\\u00e1\", \"Antofagasta\", \"Atacama\", \"Coquimbo\", \"Valpara\\u00edso\", \"Metropolitana\", \"O\\u2019Higgins\", \"Maule\", \"\\u00d1uble\", \"Biob\\u00edo\", \"Araucan\\u00eda\", \"Los R\\u00edos\", \"Los Lagos\", \"Ays\\u00e9n\", \"Magallanes\"]}}, \"selector003\": {\"type\": \"multi\", \"fields\": [\"region\"], \"on\": \"mouseover\"}}, \"title\": \"COVID-19 en Chile: Pacientes en UCI por regi\\u00f3n\", \"transform\": [{\"filter\": {\"selection\": \" \"}}], \"width\": 600}, {\"data\": {\"name\": \"data-e777a492c9e7731ed3ab6e174f3d14f0\"}, \"mark\": \"point\", \"encoding\": {\"color\": {\"condition\": {\"type\": \"nominal\", \"field\": \"region\", \"legend\": null, \"selection\": {\"or\": [\" \", \"selector003\"]}}, \"value\": \"lightgray\"}, \"y\": {\"type\": \"nominal\", \"axis\": {\"orient\": \"right\"}, \"field\": \"region\", \"sort\": [\"Arica y Parinacota\", \"Tarapac\\u00e1\", \"Antofagasta\", \"Atacama\", \"Coquimbo\", \"Valpara\\u00edso\", \"Metropolitana\", \"O\\u2019Higgins\", \"Maule\", \"\\u00d1uble\", \"Biob\\u00edo\", \"Araucan\\u00eda\", \"Los R\\u00edos\", \"Los Lagos\", \"Ays\\u00e9n\", \"Magallanes\"]}}, \"selection\": {\" \": {\"type\": \"single\", \"fields\": [\"region\"], \"bind\": {\"input\": \"select\", \"options\": [\"Arica y Parinacota\", \"Tarapac\\u00e1\", \"Antofagasta\", \"Atacama\", \"Coquimbo\", \"Valpara\\u00edso\", \"Metropolitana\", \"O\\u2019Higgins\", \"Maule\", \"\\u00d1uble\", \"Biob\\u00edo\", \"Araucan\\u00eda\", \"Los R\\u00edos\", \"Los Lagos\", \"Ays\\u00e9n\", \"Magallanes\"]}}, \"selector003\": {\"type\": \"multi\", \"fields\": [\"region\"], \"on\": \"mouseover\"}}}], \"$schema\": \"https://vega.github.io/schema/vega-lite/v4.8.1.json\", \"datasets\": {\"data-1e64cb8ad979a3b5edbb4eef68277ea0\": [{\"date\": \"2020-04-01\", \"region\": \"Arica y Parinacota\", \"pacientes\": 0, \"codigo region\": 0}, {\"date\": \"2020-04-01\", \"region\": \"Tarapac\\u00e1\", \"pacientes\": 1, \"codigo region\": 1}, {\"date\": \"2020-04-01\", \"region\": \"Antofagasta\", \"pacientes\": 3, \"codigo region\": 2}, {\"date\": \"2020-04-01\", \"region\": \"Atacama\", \"pacientes\": 0, \"codigo region\": 3}, {\"date\": \"2020-04-01\", \"region\": \"Coquimbo\", \"pacientes\": 1, \"codigo region\": 4}, {\"date\": \"2020-04-01\", \"region\": \"Valpara\\u00edso\", \"pacientes\": 14, \"codigo region\": 5}, {\"date\": \"2020-04-01\", \"region\": \"Metropolitana\", \"pacientes\": 83, \"codigo region\": 6}, {\"date\": \"2020-04-01\", \"region\": \"O\\u2019Higgins\", \"pacientes\": 5, \"codigo region\": 7}, {\"date\": \"2020-04-01\", \"region\": \"Maule\", \"pacientes\": 3, \"codigo region\": 8}, {\"date\": \"2020-04-01\", \"region\": \"\\u00d1uble\", \"pacientes\": 7, \"codigo region\": 9}, {\"date\": \"2020-04-01\", \"region\": \"Biob\\u00edo\", \"pacientes\": 14, \"codigo region\": 10}, {\"date\": \"2020-04-01\", \"region\": \"Araucan\\u00eda\", \"pacientes\": 26, \"codigo region\": 11}, {\"date\": \"2020-04-01\", \"region\": \"Los R\\u00edos\", \"pacientes\": 1, \"codigo region\": 12}, {\"date\": \"2020-04-01\", \"region\": \"Los Lagos\", \"pacientes\": 10, \"codigo region\": 13}, {\"date\": \"2020-04-01\", \"region\": \"Ays\\u00e9n\", \"pacientes\": 0, \"codigo region\": 14}, {\"date\": \"2020-04-01\", \"region\": \"Magallanes\", \"pacientes\": 5, \"codigo region\": 15}, {\"date\": \"2020-04-02\", \"region\": \"Arica y Parinacota\", \"pacientes\": 0, \"codigo region\": 0}, {\"date\": \"2020-04-02\", \"region\": \"Tarapac\\u00e1\", \"pacientes\": 1, \"codigo region\": 1}, {\"date\": \"2020-04-02\", \"region\": \"Antofagasta\", \"pacientes\": 4, \"codigo region\": 2}, {\"date\": \"2020-04-02\", \"region\": \"Atacama\", \"pacientes\": 0, \"codigo region\": 3}, {\"date\": \"2020-04-02\", \"region\": \"Coquimbo\", \"pacientes\": 1, \"codigo region\": 4}, {\"date\": \"2020-04-02\", \"region\": \"Valpara\\u00edso\", \"pacientes\": 17, \"codigo region\": 5}, {\"date\": \"2020-04-02\", \"region\": \"Metropolitana\", \"pacientes\": 90, \"codigo region\": 6}, {\"date\": \"2020-04-02\", \"region\": \"O\\u2019Higgins\", \"pacientes\": 5, \"codigo region\": 7}, {\"date\": \"2020-04-02\", \"region\": \"Maule\", \"pacientes\": 3, \"codigo region\": 8}, {\"date\": \"2020-04-02\", \"region\": \"\\u00d1uble\", \"pacientes\": 8, \"codigo region\": 9}, {\"date\": \"2020-04-02\", \"region\": \"Biob\\u00edo\", \"pacientes\": 18, \"codigo region\": 10}, {\"date\": \"2020-04-02\", \"region\": \"Araucan\\u00eda\", \"pacientes\": 29, \"codigo region\": 11}, {\"date\": \"2020-04-02\", \"region\": \"Los R\\u00edos\", \"pacientes\": 2, \"codigo region\": 12}, {\"date\": \"2020-04-02\", \"region\": \"Los Lagos\", \"pacientes\": 12, \"codigo region\": 13}, {\"date\": \"2020-04-02\", \"region\": \"Ays\\u00e9n\", \"pacientes\": 0, \"codigo region\": 14}, {\"date\": \"2020-04-02\", \"region\": \"Magallanes\", \"pacientes\": 10, \"codigo region\": 15}, {\"date\": \"2020-04-03\", \"region\": \"Arica y Parinacota\", \"pacientes\": 0, \"codigo region\": 0}, {\"date\": \"2020-04-03\", \"region\": \"Tarapac\\u00e1\", \"pacientes\": 1, \"codigo region\": 1}, {\"date\": \"2020-04-03\", \"region\": \"Antofagasta\", \"pacientes\": 3, \"codigo region\": 2}, {\"date\": \"2020-04-03\", \"region\": \"Atacama\", \"pacientes\": 0, \"codigo region\": 3}, {\"date\": \"2020-04-03\", \"region\": \"Coquimbo\", \"pacientes\": 1, \"codigo region\": 4}, {\"date\": \"2020-04-03\", \"region\": \"Valpara\\u00edso\", \"pacientes\": 18, \"codigo region\": 5}, {\"date\": \"2020-04-03\", \"region\": \"Metropolitana\", \"pacientes\": 107, \"codigo region\": 6}, {\"date\": \"2020-04-03\", \"region\": \"O\\u2019Higgins\", \"pacientes\": 5, \"codigo region\": 7}, {\"date\": \"2020-04-03\", \"region\": \"Maule\", \"pacientes\": 3, \"codigo region\": 8}, {\"date\": \"2020-04-03\", \"region\": \"\\u00d1uble\", \"pacientes\": 10, \"codigo region\": 9}, {\"date\": \"2020-04-03\", \"region\": \"Biob\\u00edo\", \"pacientes\": 21, \"codigo region\": 10}, {\"date\": \"2020-04-03\", \"region\": \"Araucan\\u00eda\", \"pacientes\": 37, \"codigo region\": 11}, {\"date\": \"2020-04-03\", \"region\": \"Los R\\u00edos\", \"pacientes\": 2, \"codigo region\": 12}, {\"date\": \"2020-04-03\", \"region\": \"Los Lagos\", \"pacientes\": 18, \"codigo region\": 13}, {\"date\": \"2020-04-03\", \"region\": \"Ays\\u00e9n\", \"pacientes\": 0, \"codigo region\": 14}, {\"date\": \"2020-04-03\", \"region\": \"Magallanes\", \"pacientes\": 11, \"codigo region\": 15}, {\"date\": \"2020-04-04\", \"region\": \"Arica y Parinacota\", \"pacientes\": 0, \"codigo region\": 0}, {\"date\": \"2020-04-04\", \"region\": \"Tarapac\\u00e1\", \"pacientes\": 1, \"codigo region\": 1}, {\"date\": \"2020-04-04\", \"region\": \"Antofagasta\", \"pacientes\": 3, \"codigo region\": 2}, {\"date\": \"2020-04-04\", \"region\": \"Atacama\", \"pacientes\": 0, \"codigo region\": 3}, {\"date\": \"2020-04-04\", \"region\": \"Coquimbo\", \"pacientes\": 2, \"codigo region\": 4}, {\"date\": \"2020-04-04\", \"region\": \"Valpara\\u00edso\", \"pacientes\": 22, \"codigo region\": 5}, {\"date\": \"2020-04-04\", \"region\": \"Metropolitana\", \"pacientes\": 129, \"codigo region\": 6}, {\"date\": \"2020-04-04\", \"region\": \"O\\u2019Higgins\", \"pacientes\": 5, \"codigo region\": 7}, {\"date\": \"2020-04-04\", \"region\": \"Maule\", \"pacientes\": 3, \"codigo region\": 8}, {\"date\": \"2020-04-04\", \"region\": \"\\u00d1uble\", \"pacientes\": 11, \"codigo region\": 9}, {\"date\": \"2020-04-04\", \"region\": \"Biob\\u00edo\", \"pacientes\": 24, \"codigo region\": 10}, {\"date\": \"2020-04-04\", \"region\": \"Araucan\\u00eda\", \"pacientes\": 44, \"codigo region\": 11}, {\"date\": \"2020-04-04\", \"region\": \"Los R\\u00edos\", \"pacientes\": 2, \"codigo region\": 12}, {\"date\": \"2020-04-04\", \"region\": \"Los Lagos\", \"pacientes\": 22, \"codigo region\": 13}, {\"date\": \"2020-04-04\", \"region\": \"Ays\\u00e9n\", \"pacientes\": 0, \"codigo region\": 14}, {\"date\": \"2020-04-04\", \"region\": \"Magallanes\", \"pacientes\": 12, \"codigo region\": 15}, {\"date\": \"2020-04-05\", \"region\": \"Arica y Parinacota\", \"pacientes\": 2, \"codigo region\": 0}, {\"date\": \"2020-04-05\", \"region\": \"Tarapac\\u00e1\", \"pacientes\": 1, \"codigo region\": 1}, {\"date\": \"2020-04-05\", \"region\": \"Antofagasta\", \"pacientes\": 3, \"codigo region\": 2}, {\"date\": \"2020-04-05\", \"region\": \"Atacama\", \"pacientes\": 0, \"codigo region\": 3}, {\"date\": \"2020-04-05\", \"region\": \"Coquimbo\", \"pacientes\": 1, \"codigo region\": 4}, {\"date\": \"2020-04-05\", \"region\": \"Valpara\\u00edso\", \"pacientes\": 27, \"codigo region\": 5}, {\"date\": \"2020-04-05\", \"region\": \"Metropolitana\", \"pacientes\": 146, \"codigo region\": 6}, {\"date\": \"2020-04-05\", \"region\": \"O\\u2019Higgins\", \"pacientes\": 5, \"codigo region\": 7}, {\"date\": \"2020-04-05\", \"region\": \"Maule\", \"pacientes\": 4, \"codigo region\": 8}, {\"date\": \"2020-04-05\", \"region\": \"\\u00d1uble\", \"pacientes\": 10, \"codigo region\": 9}, {\"date\": \"2020-04-05\", \"region\": \"Biob\\u00edo\", \"pacientes\": 26, \"codigo region\": 10}, {\"date\": \"2020-04-05\", \"region\": \"Araucan\\u00eda\", \"pacientes\": 44, \"codigo region\": 11}, {\"date\": \"2020-04-05\", \"region\": \"Los R\\u00edos\", \"pacientes\": 3, \"codigo region\": 12}, {\"date\": \"2020-04-05\", \"region\": \"Los Lagos\", \"pacientes\": 22, \"codigo region\": 13}, {\"date\": \"2020-04-05\", \"region\": \"Ays\\u00e9n\", \"pacientes\": 0, \"codigo region\": 14}, {\"date\": \"2020-04-05\", \"region\": \"Magallanes\", \"pacientes\": 13, \"codigo region\": 15}, {\"date\": \"2020-04-06\", \"region\": \"Arica y Parinacota\", \"pacientes\": 4, \"codigo region\": 0}, {\"date\": \"2020-04-06\", \"region\": \"Tarapac\\u00e1\", \"pacientes\": 2, \"codigo region\": 1}, {\"date\": \"2020-04-06\", \"region\": \"Antofagasta\", \"pacientes\": 3, \"codigo region\": 2}, {\"date\": \"2020-04-06\", \"region\": \"Atacama\", \"pacientes\": 0, \"codigo region\": 3}, {\"date\": \"2020-04-06\", \"region\": \"Coquimbo\", \"pacientes\": 1, \"codigo region\": 4}, {\"date\": \"2020-04-06\", \"region\": \"Valpara\\u00edso\", \"pacientes\": 22, \"codigo region\": 5}, {\"date\": \"2020-04-06\", \"region\": \"Metropolitana\", \"pacientes\": 161, \"codigo region\": 6}, {\"date\": \"2020-04-06\", \"region\": \"O\\u2019Higgins\", \"pacientes\": 6, \"codigo region\": 7}, {\"date\": \"2020-04-06\", \"region\": \"Maule\", \"pacientes\": 5, \"codigo region\": 8}, {\"date\": \"2020-04-06\", \"region\": \"\\u00d1uble\", \"pacientes\": 11, \"codigo region\": 9}, {\"date\": \"2020-04-06\", \"region\": \"Biob\\u00edo\", \"pacientes\": 27, \"codigo region\": 10}, {\"date\": \"2020-04-06\", \"region\": \"Araucan\\u00eda\", \"pacientes\": 46, \"codigo region\": 11}, {\"date\": \"2020-04-06\", \"region\": \"Los R\\u00edos\", \"pacientes\": 4, \"codigo region\": 12}, {\"date\": \"2020-04-06\", \"region\": \"Los Lagos\", \"pacientes\": 23, \"codigo region\": 13}, {\"date\": \"2020-04-06\", \"region\": \"Ays\\u00e9n\", \"pacientes\": 0, \"codigo region\": 14}, {\"date\": \"2020-04-06\", \"region\": \"Magallanes\", \"pacientes\": 12, \"codigo region\": 15}, {\"date\": \"2020-04-07\", \"region\": \"Arica y Parinacota\", \"pacientes\": 4, \"codigo region\": 0}, {\"date\": \"2020-04-07\", \"region\": \"Tarapac\\u00e1\", \"pacientes\": 2, \"codigo region\": 1}, {\"date\": \"2020-04-07\", \"region\": \"Antofagasta\", \"pacientes\": 2, \"codigo region\": 2}, {\"date\": \"2020-04-07\", \"region\": \"Atacama\", \"pacientes\": 0, \"codigo region\": 3}, {\"date\": \"2020-04-07\", \"region\": \"Coquimbo\", \"pacientes\": 2, \"codigo region\": 4}, {\"date\": \"2020-04-07\", \"region\": \"Valpara\\u00edso\", \"pacientes\": 21, \"codigo region\": 5}, {\"date\": \"2020-04-07\", \"region\": \"Metropolitana\", \"pacientes\": 160, \"codigo region\": 6}, {\"date\": \"2020-04-07\", \"region\": \"O\\u2019Higgins\", \"pacientes\": 6, \"codigo region\": 7}, {\"date\": \"2020-04-07\", \"region\": \"Maule\", \"pacientes\": 7, \"codigo region\": 8}, {\"date\": \"2020-04-07\", \"region\": \"\\u00d1uble\", \"pacientes\": 13, \"codigo region\": 9}, {\"date\": \"2020-04-07\", \"region\": \"Biob\\u00edo\", \"pacientes\": 32, \"codigo region\": 10}, {\"date\": \"2020-04-07\", \"region\": \"Araucan\\u00eda\", \"pacientes\": 46, \"codigo region\": 11}, {\"date\": \"2020-04-07\", \"region\": \"Los R\\u00edos\", \"pacientes\": 6, \"codigo region\": 12}, {\"date\": \"2020-04-07\", \"region\": \"Los Lagos\", \"pacientes\": 24, \"codigo region\": 13}, {\"date\": \"2020-04-07\", \"region\": \"Ays\\u00e9n\", \"pacientes\": 0, \"codigo region\": 14}, {\"date\": \"2020-04-07\", \"region\": \"Magallanes\", \"pacientes\": 12, \"codigo region\": 15}, {\"date\": \"2020-04-08\", \"region\": \"Arica y Parinacota\", \"pacientes\": 5, \"codigo region\": 0}, {\"date\": \"2020-04-08\", \"region\": \"Tarapac\\u00e1\", \"pacientes\": 2, \"codigo region\": 1}, {\"date\": \"2020-04-08\", \"region\": \"Antofagasta\", \"pacientes\": 2, \"codigo region\": 2}, {\"date\": \"2020-04-08\", \"region\": \"Atacama\", \"pacientes\": 1, \"codigo region\": 3}, {\"date\": \"2020-04-08\", \"region\": \"Coquimbo\", \"pacientes\": 1, \"codigo region\": 4}, {\"date\": \"2020-04-08\", \"region\": \"Valpara\\u00edso\", \"pacientes\": 20, \"codigo region\": 5}, {\"date\": \"2020-04-08\", \"region\": \"Metropolitana\", \"pacientes\": 174, \"codigo region\": 6}, {\"date\": \"2020-04-08\", \"region\": \"O\\u2019Higgins\", \"pacientes\": 6, \"codigo region\": 7}, {\"date\": \"2020-04-08\", \"region\": \"Maule\", \"pacientes\": 8, \"codigo region\": 8}, {\"date\": \"2020-04-08\", \"region\": \"\\u00d1uble\", \"pacientes\": 13, \"codigo region\": 9}, {\"date\": \"2020-04-08\", \"region\": \"Biob\\u00edo\", \"pacientes\": 31, \"codigo region\": 10}, {\"date\": \"2020-04-08\", \"region\": \"Araucan\\u00eda\", \"pacientes\": 54, \"codigo region\": 11}, {\"date\": \"2020-04-08\", \"region\": \"Los R\\u00edos\", \"pacientes\": 6, \"codigo region\": 12}, {\"date\": \"2020-04-08\", \"region\": \"Los Lagos\", \"pacientes\": 25, \"codigo region\": 13}, {\"date\": \"2020-04-08\", \"region\": \"Ays\\u00e9n\", \"pacientes\": 0, \"codigo region\": 14}, {\"date\": \"2020-04-08\", \"region\": \"Magallanes\", \"pacientes\": 14, \"codigo region\": 15}, {\"date\": \"2020-04-09\", \"region\": \"Arica y Parinacota\", \"pacientes\": 5, \"codigo region\": 0}, {\"date\": \"2020-04-09\", \"region\": \"Tarapac\\u00e1\", \"pacientes\": 2, \"codigo region\": 1}, {\"date\": \"2020-04-09\", \"region\": \"Antofagasta\", \"pacientes\": 2, \"codigo region\": 2}, {\"date\": \"2020-04-09\", \"region\": \"Atacama\", \"pacientes\": 1, \"codigo region\": 3}, {\"date\": \"2020-04-09\", \"region\": \"Coquimbo\", \"pacientes\": 1, \"codigo region\": 4}, {\"date\": \"2020-04-09\", \"region\": \"Valpara\\u00edso\", \"pacientes\": 22, \"codigo region\": 5}, {\"date\": \"2020-04-09\", \"region\": \"Metropolitana\", \"pacientes\": 164, \"codigo region\": 6}, {\"date\": \"2020-04-09\", \"region\": \"O\\u2019Higgins\", \"pacientes\": 6, \"codigo region\": 7}, {\"date\": \"2020-04-09\", \"region\": \"Maule\", \"pacientes\": 10, \"codigo region\": 8}, {\"date\": \"2020-04-09\", \"region\": \"\\u00d1uble\", \"pacientes\": 13, \"codigo region\": 9}, {\"date\": \"2020-04-09\", \"region\": \"Biob\\u00edo\", \"pacientes\": 33, \"codigo region\": 10}, {\"date\": \"2020-04-09\", \"region\": \"Araucan\\u00eda\", \"pacientes\": 56, \"codigo region\": 11}, {\"date\": \"2020-04-09\", \"region\": \"Los R\\u00edos\", \"pacientes\": 7, \"codigo region\": 12}, {\"date\": \"2020-04-09\", \"region\": \"Los Lagos\", \"pacientes\": 24, \"codigo region\": 13}, {\"date\": \"2020-04-09\", \"region\": \"Ays\\u00e9n\", \"pacientes\": 0, \"codigo region\": 14}, {\"date\": \"2020-04-09\", \"region\": \"Magallanes\", \"pacientes\": 14, \"codigo region\": 15}, {\"date\": \"2020-04-10\", \"region\": \"Arica y Parinacota\", \"pacientes\": 5, \"codigo region\": 0}, {\"date\": \"2020-04-10\", \"region\": \"Tarapac\\u00e1\", \"pacientes\": 3, \"codigo region\": 1}, {\"date\": \"2020-04-10\", \"region\": \"Antofagasta\", \"pacientes\": 3, \"codigo region\": 2}, {\"date\": \"2020-04-10\", \"region\": \"Atacama\", \"pacientes\": 1, \"codigo region\": 3}, {\"date\": \"2020-04-10\", \"region\": \"Coquimbo\", \"pacientes\": 2, \"codigo region\": 4}, {\"date\": \"2020-04-10\", \"region\": \"Valpara\\u00edso\", \"pacientes\": 21, \"codigo region\": 5}, {\"date\": \"2020-04-10\", \"region\": \"Metropolitana\", \"pacientes\": 181, \"codigo region\": 6}, {\"date\": \"2020-04-10\", \"region\": \"O\\u2019Higgins\", \"pacientes\": 7, \"codigo region\": 7}, {\"date\": \"2020-04-10\", \"region\": \"Maule\", \"pacientes\": 11, \"codigo region\": 8}, {\"date\": \"2020-04-10\", \"region\": \"\\u00d1uble\", \"pacientes\": 13, \"codigo region\": 9}, {\"date\": \"2020-04-10\", \"region\": \"Biob\\u00edo\", \"pacientes\": 32, \"codigo region\": 10}, {\"date\": \"2020-04-10\", \"region\": \"Araucan\\u00eda\", \"pacientes\": 57, \"codigo region\": 11}, {\"date\": \"2020-04-10\", \"region\": \"Los R\\u00edos\", \"pacientes\": 7, \"codigo region\": 12}, {\"date\": \"2020-04-10\", \"region\": \"Los Lagos\", \"pacientes\": 25, \"codigo region\": 13}, {\"date\": \"2020-04-10\", \"region\": \"Ays\\u00e9n\", \"pacientes\": 0, \"codigo region\": 14}, {\"date\": \"2020-04-10\", \"region\": \"Magallanes\", \"pacientes\": 15, \"codigo region\": 15}, {\"date\": \"2020-04-11\", \"region\": \"Arica y Parinacota\", \"pacientes\": 5, \"codigo region\": 0}, {\"date\": \"2020-04-11\", \"region\": \"Tarapac\\u00e1\", \"pacientes\": 3, \"codigo region\": 1}, {\"date\": \"2020-04-11\", \"region\": \"Antofagasta\", \"pacientes\": 2, \"codigo region\": 2}, {\"date\": \"2020-04-11\", \"region\": \"Atacama\", \"pacientes\": 1, \"codigo region\": 3}, {\"date\": \"2020-04-11\", \"region\": \"Coquimbo\", \"pacientes\": 2, \"codigo region\": 4}, {\"date\": \"2020-04-11\", \"region\": \"Valpara\\u00edso\", \"pacientes\": 22, \"codigo region\": 5}, {\"date\": \"2020-04-11\", \"region\": \"Metropolitana\", \"pacientes\": 178, \"codigo region\": 6}, {\"date\": \"2020-04-11\", \"region\": \"O\\u2019Higgins\", \"pacientes\": 7, \"codigo region\": 7}, {\"date\": \"2020-04-11\", \"region\": \"Maule\", \"pacientes\": 13, \"codigo region\": 8}, {\"date\": \"2020-04-11\", \"region\": \"\\u00d1uble\", \"pacientes\": 13, \"codigo region\": 9}, {\"date\": \"2020-04-11\", \"region\": \"Biob\\u00edo\", \"pacientes\": 33, \"codigo region\": 10}, {\"date\": \"2020-04-11\", \"region\": \"Araucan\\u00eda\", \"pacientes\": 53, \"codigo region\": 11}, {\"date\": \"2020-04-11\", \"region\": \"Los R\\u00edos\", \"pacientes\": 7, \"codigo region\": 12}, {\"date\": \"2020-04-11\", \"region\": \"Los Lagos\", \"pacientes\": 26, \"codigo region\": 13}, {\"date\": \"2020-04-11\", \"region\": \"Ays\\u00e9n\", \"pacientes\": 0, \"codigo region\": 14}, {\"date\": \"2020-04-11\", \"region\": \"Magallanes\", \"pacientes\": 18, \"codigo region\": 15}, {\"date\": \"2020-04-12\", \"region\": \"Arica y Parinacota\", \"pacientes\": 5, \"codigo region\": 0}, {\"date\": \"2020-04-12\", \"region\": \"Tarapac\\u00e1\", \"pacientes\": 2, \"codigo region\": 1}, {\"date\": \"2020-04-12\", \"region\": \"Antofagasta\", \"pacientes\": 3, \"codigo region\": 2}, {\"date\": \"2020-04-12\", \"region\": \"Atacama\", \"pacientes\": 1, \"codigo region\": 3}, {\"date\": \"2020-04-12\", \"region\": \"Coquimbo\", \"pacientes\": 1, \"codigo region\": 4}, {\"date\": \"2020-04-12\", \"region\": \"Valpara\\u00edso\", \"pacientes\": 18, \"codigo region\": 5}, {\"date\": \"2020-04-12\", \"region\": \"Metropolitana\", \"pacientes\": 185, \"codigo region\": 6}, {\"date\": \"2020-04-12\", \"region\": \"O\\u2019Higgins\", \"pacientes\": 7, \"codigo region\": 7}, {\"date\": \"2020-04-12\", \"region\": \"Maule\", \"pacientes\": 15, \"codigo region\": 8}, {\"date\": \"2020-04-12\", \"region\": \"\\u00d1uble\", \"pacientes\": 12, \"codigo region\": 9}, {\"date\": \"2020-04-12\", \"region\": \"Biob\\u00edo\", \"pacientes\": 31, \"codigo region\": 10}, {\"date\": \"2020-04-12\", \"region\": \"Araucan\\u00eda\", \"pacientes\": 56, \"codigo region\": 11}, {\"date\": \"2020-04-12\", \"region\": \"Los R\\u00edos\", \"pacientes\": 7, \"codigo region\": 12}, {\"date\": \"2020-04-12\", \"region\": \"Los Lagos\", \"pacientes\": 26, \"codigo region\": 13}, {\"date\": \"2020-04-12\", \"region\": \"Ays\\u00e9n\", \"pacientes\": 0, \"codigo region\": 14}, {\"date\": \"2020-04-12\", \"region\": \"Magallanes\", \"pacientes\": 18, \"codigo region\": 15}, {\"date\": \"2020-04-13\", \"region\": \"Arica y Parinacota\", \"pacientes\": 5, \"codigo region\": 0}, {\"date\": \"2020-04-13\", \"region\": \"Tarapac\\u00e1\", \"pacientes\": 2, \"codigo region\": 1}, {\"date\": \"2020-04-13\", \"region\": \"Antofagasta\", \"pacientes\": 4, \"codigo region\": 2}, {\"date\": \"2020-04-13\", \"region\": \"Atacama\", \"pacientes\": 1, \"codigo region\": 3}, {\"date\": \"2020-04-13\", \"region\": \"Coquimbo\", \"pacientes\": 0, \"codigo region\": 4}, {\"date\": \"2020-04-13\", \"region\": \"Valpara\\u00edso\", \"pacientes\": 16, \"codigo region\": 5}, {\"date\": \"2020-04-13\", \"region\": \"Metropolitana\", \"pacientes\": 189, \"codigo region\": 6}, {\"date\": \"2020-04-13\", \"region\": \"O\\u2019Higgins\", \"pacientes\": 7, \"codigo region\": 7}, {\"date\": \"2020-04-13\", \"region\": \"Maule\", \"pacientes\": 16, \"codigo region\": 8}, {\"date\": \"2020-04-13\", \"region\": \"\\u00d1uble\", \"pacientes\": 13, \"codigo region\": 9}, {\"date\": \"2020-04-13\", \"region\": \"Biob\\u00edo\", \"pacientes\": 35, \"codigo region\": 10}, {\"date\": \"2020-04-13\", \"region\": \"Araucan\\u00eda\", \"pacientes\": 52, \"codigo region\": 11}, {\"date\": \"2020-04-13\", \"region\": \"Los R\\u00edos\", \"pacientes\": 7, \"codigo region\": 12}, {\"date\": \"2020-04-13\", \"region\": \"Los Lagos\", \"pacientes\": 25, \"codigo region\": 13}, {\"date\": \"2020-04-13\", \"region\": \"Ays\\u00e9n\", \"pacientes\": 0, \"codigo region\": 14}, {\"date\": \"2020-04-13\", \"region\": \"Magallanes\", \"pacientes\": 15, \"codigo region\": 15}, {\"date\": \"2020-04-14\", \"region\": \"Arica y Parinacota\", \"pacientes\": 5, \"codigo region\": 0}, {\"date\": \"2020-04-14\", \"region\": \"Tarapac\\u00e1\", \"pacientes\": 1, \"codigo region\": 1}, {\"date\": \"2020-04-14\", \"region\": \"Antofagasta\", \"pacientes\": 4, \"codigo region\": 2}, {\"date\": \"2020-04-14\", \"region\": \"Atacama\", \"pacientes\": 1, \"codigo region\": 3}, {\"date\": \"2020-04-14\", \"region\": \"Coquimbo\", \"pacientes\": 1, \"codigo region\": 4}, {\"date\": \"2020-04-14\", \"region\": \"Valpara\\u00edso\", \"pacientes\": 16, \"codigo region\": 5}, {\"date\": \"2020-04-14\", \"region\": \"Metropolitana\", \"pacientes\": 190, \"codigo region\": 6}, {\"date\": \"2020-04-14\", \"region\": \"O\\u2019Higgins\", \"pacientes\": 5, \"codigo region\": 7}, {\"date\": \"2020-04-14\", \"region\": \"Maule\", \"pacientes\": 15, \"codigo region\": 8}, {\"date\": \"2020-04-14\", \"region\": \"\\u00d1uble\", \"pacientes\": 12, \"codigo region\": 9}, {\"date\": \"2020-04-14\", \"region\": \"Biob\\u00edo\", \"pacientes\": 35, \"codigo region\": 10}, {\"date\": \"2020-04-14\", \"region\": \"Araucan\\u00eda\", \"pacientes\": 46, \"codigo region\": 11}, {\"date\": \"2020-04-14\", \"region\": \"Los R\\u00edos\", \"pacientes\": 7, \"codigo region\": 12}, {\"date\": \"2020-04-14\", \"region\": \"Los Lagos\", \"pacientes\": 26, \"codigo region\": 13}, {\"date\": \"2020-04-14\", \"region\": \"Ays\\u00e9n\", \"pacientes\": 0, \"codigo region\": 14}, {\"date\": \"2020-04-14\", \"region\": \"Magallanes\", \"pacientes\": 15, \"codigo region\": 15}, {\"date\": \"2020-04-15\", \"region\": \"Arica y Parinacota\", \"pacientes\": 5, \"codigo region\": 0}, {\"date\": \"2020-04-15\", \"region\": \"Tarapac\\u00e1\", \"pacientes\": 0, \"codigo region\": 1}, {\"date\": \"2020-04-15\", \"region\": \"Antofagasta\", \"pacientes\": 5, \"codigo region\": 2}, {\"date\": \"2020-04-15\", \"region\": \"Atacama\", \"pacientes\": 1, \"codigo region\": 3}, {\"date\": \"2020-04-15\", \"region\": \"Coquimbo\", \"pacientes\": 1, \"codigo region\": 4}, {\"date\": \"2020-04-15\", \"region\": \"Valpara\\u00edso\", \"pacientes\": 16, \"codigo region\": 5}, {\"date\": \"2020-04-15\", \"region\": \"Metropolitana\", \"pacientes\": 198, \"codigo region\": 6}, {\"date\": \"2020-04-15\", \"region\": \"O\\u2019Higgins\", \"pacientes\": 6, \"codigo region\": 7}, {\"date\": \"2020-04-15\", \"region\": \"Maule\", \"pacientes\": 15, \"codigo region\": 8}, {\"date\": \"2020-04-15\", \"region\": \"\\u00d1uble\", \"pacientes\": 13, \"codigo region\": 9}, {\"date\": \"2020-04-15\", \"region\": \"Biob\\u00edo\", \"pacientes\": 35, \"codigo region\": 10}, {\"date\": \"2020-04-15\", \"region\": \"Araucan\\u00eda\", \"pacientes\": 46, \"codigo region\": 11}, {\"date\": \"2020-04-15\", \"region\": \"Los R\\u00edos\", \"pacientes\": 6, \"codigo region\": 12}, {\"date\": \"2020-04-15\", \"region\": \"Los Lagos\", \"pacientes\": 26, \"codigo region\": 13}, {\"date\": \"2020-04-15\", \"region\": \"Ays\\u00e9n\", \"pacientes\": 0, \"codigo region\": 14}, {\"date\": \"2020-04-15\", \"region\": \"Magallanes\", \"pacientes\": 16, \"codigo region\": 15}, {\"date\": \"2020-04-16\", \"region\": \"Arica y Parinacota\", \"pacientes\": 6, \"codigo region\": 0}, {\"date\": \"2020-04-16\", \"region\": \"Tarapac\\u00e1\", \"pacientes\": 0, \"codigo region\": 1}, {\"date\": \"2020-04-16\", \"region\": \"Antofagasta\", \"pacientes\": 5, \"codigo region\": 2}, {\"date\": \"2020-04-16\", \"region\": \"Atacama\", \"pacientes\": 1, \"codigo region\": 3}, {\"date\": \"2020-04-16\", \"region\": \"Coquimbo\", \"pacientes\": 0, \"codigo region\": 4}, {\"date\": \"2020-04-16\", \"region\": \"Valpara\\u00edso\", \"pacientes\": 18, \"codigo region\": 5}, {\"date\": \"2020-04-16\", \"region\": \"Metropolitana\", \"pacientes\": 196, \"codigo region\": 6}, {\"date\": \"2020-04-16\", \"region\": \"O\\u2019Higgins\", \"pacientes\": 4, \"codigo region\": 7}, {\"date\": \"2020-04-16\", \"region\": \"Maule\", \"pacientes\": 13, \"codigo region\": 8}, {\"date\": \"2020-04-16\", \"region\": \"\\u00d1uble\", \"pacientes\": 12, \"codigo region\": 9}, {\"date\": \"2020-04-16\", \"region\": \"Biob\\u00edo\", \"pacientes\": 30, \"codigo region\": 10}, {\"date\": \"2020-04-16\", \"region\": \"Araucan\\u00eda\", \"pacientes\": 47, \"codigo region\": 11}, {\"date\": \"2020-04-16\", \"region\": \"Los R\\u00edos\", \"pacientes\": 7, \"codigo region\": 12}, {\"date\": \"2020-04-16\", \"region\": \"Los Lagos\", \"pacientes\": 27, \"codigo region\": 13}, {\"date\": \"2020-04-16\", \"region\": \"Ays\\u00e9n\", \"pacientes\": 0, \"codigo region\": 14}, {\"date\": \"2020-04-16\", \"region\": \"Magallanes\", \"pacientes\": 18, \"codigo region\": 15}, {\"date\": \"2020-04-17\", \"region\": \"Arica y Parinacota\", \"pacientes\": 6, \"codigo region\": 0}, {\"date\": \"2020-04-17\", \"region\": \"Tarapac\\u00e1\", \"pacientes\": 0, \"codigo region\": 1}, {\"date\": \"2020-04-17\", \"region\": \"Antofagasta\", \"pacientes\": 6, \"codigo region\": 2}, {\"date\": \"2020-04-17\", \"region\": \"Atacama\", \"pacientes\": 1, \"codigo region\": 3}, {\"date\": \"2020-04-17\", \"region\": \"Coquimbo\", \"pacientes\": 0, \"codigo region\": 4}, {\"date\": \"2020-04-17\", \"region\": \"Valpara\\u00edso\", \"pacientes\": 18, \"codigo region\": 5}, {\"date\": \"2020-04-17\", \"region\": \"Metropolitana\", \"pacientes\": 202, \"codigo region\": 6}, {\"date\": \"2020-04-17\", \"region\": \"O\\u2019Higgins\", \"pacientes\": 4, \"codigo region\": 7}, {\"date\": \"2020-04-17\", \"region\": \"Maule\", \"pacientes\": 12, \"codigo region\": 8}, {\"date\": \"2020-04-17\", \"region\": \"\\u00d1uble\", \"pacientes\": 12, \"codigo region\": 9}, {\"date\": \"2020-04-17\", \"region\": \"Biob\\u00edo\", \"pacientes\": 27, \"codigo region\": 10}, {\"date\": \"2020-04-17\", \"region\": \"Araucan\\u00eda\", \"pacientes\": 47, \"codigo region\": 11}, {\"date\": \"2020-04-17\", \"region\": \"Los R\\u00edos\", \"pacientes\": 6, \"codigo region\": 12}, {\"date\": \"2020-04-17\", \"region\": \"Los Lagos\", \"pacientes\": 26, \"codigo region\": 13}, {\"date\": \"2020-04-17\", \"region\": \"Ays\\u00e9n\", \"pacientes\": 0, \"codigo region\": 14}, {\"date\": \"2020-04-17\", \"region\": \"Magallanes\", \"pacientes\": 18, \"codigo region\": 15}, {\"date\": \"2020-04-18\", \"region\": \"Arica y Parinacota\", \"pacientes\": 5, \"codigo region\": 0}, {\"date\": \"2020-04-18\", \"region\": \"Tarapac\\u00e1\", \"pacientes\": 0, \"codigo region\": 1}, {\"date\": \"2020-04-18\", \"region\": \"Antofagasta\", \"pacientes\": 5, \"codigo region\": 2}, {\"date\": \"2020-04-18\", \"region\": \"Atacama\", \"pacientes\": 1, \"codigo region\": 3}, {\"date\": \"2020-04-18\", \"region\": \"Coquimbo\", \"pacientes\": 0, \"codigo region\": 4}, {\"date\": \"2020-04-18\", \"region\": \"Valpara\\u00edso\", \"pacientes\": 19, \"codigo region\": 5}, {\"date\": \"2020-04-18\", \"region\": \"Metropolitana\", \"pacientes\": 181, \"codigo region\": 6}, {\"date\": \"2020-04-18\", \"region\": \"O\\u2019Higgins\", \"pacientes\": 4, \"codigo region\": 7}, {\"date\": \"2020-04-18\", \"region\": \"Maule\", \"pacientes\": 12, \"codigo region\": 8}, {\"date\": \"2020-04-18\", \"region\": \"\\u00d1uble\", \"pacientes\": 13, \"codigo region\": 9}, {\"date\": \"2020-04-18\", \"region\": \"Biob\\u00edo\", \"pacientes\": 25, \"codigo region\": 10}, {\"date\": \"2020-04-18\", \"region\": \"Araucan\\u00eda\", \"pacientes\": 46, \"codigo region\": 11}, {\"date\": \"2020-04-18\", \"region\": \"Los R\\u00edos\", \"pacientes\": 6, \"codigo region\": 12}, {\"date\": \"2020-04-18\", \"region\": \"Los Lagos\", \"pacientes\": 26, \"codigo region\": 13}, {\"date\": \"2020-04-18\", \"region\": \"Ays\\u00e9n\", \"pacientes\": 0, \"codigo region\": 14}, {\"date\": \"2020-04-18\", \"region\": \"Magallanes\", \"pacientes\": 17, \"codigo region\": 15}, {\"date\": \"2020-04-19\", \"region\": \"Arica y Parinacota\", \"pacientes\": 5, \"codigo region\": 0}, {\"date\": \"2020-04-19\", \"region\": \"Tarapac\\u00e1\", \"pacientes\": 1, \"codigo region\": 1}, {\"date\": \"2020-04-19\", \"region\": \"Antofagasta\", \"pacientes\": 5, \"codigo region\": 2}, {\"date\": \"2020-04-19\", \"region\": \"Atacama\", \"pacientes\": 1, \"codigo region\": 3}, {\"date\": \"2020-04-19\", \"region\": \"Coquimbo\", \"pacientes\": 0, \"codigo region\": 4}, {\"date\": \"2020-04-19\", \"region\": \"Valpara\\u00edso\", \"pacientes\": 22, \"codigo region\": 5}, {\"date\": \"2020-04-19\", \"region\": \"Metropolitana\", \"pacientes\": 186, \"codigo region\": 6}, {\"date\": \"2020-04-19\", \"region\": \"O\\u2019Higgins\", \"pacientes\": 4, \"codigo region\": 7}, {\"date\": \"2020-04-19\", \"region\": \"Maule\", \"pacientes\": 15, \"codigo region\": 8}, {\"date\": \"2020-04-19\", \"region\": \"\\u00d1uble\", \"pacientes\": 14, \"codigo region\": 9}, {\"date\": \"2020-04-19\", \"region\": \"Biob\\u00edo\", \"pacientes\": 26, \"codigo region\": 10}, {\"date\": \"2020-04-19\", \"region\": \"Araucan\\u00eda\", \"pacientes\": 44, \"codigo region\": 11}, {\"date\": \"2020-04-19\", \"region\": \"Los R\\u00edos\", \"pacientes\": 7, \"codigo region\": 12}, {\"date\": \"2020-04-19\", \"region\": \"Los Lagos\", \"pacientes\": 25, \"codigo region\": 13}, {\"date\": \"2020-04-19\", \"region\": \"Ays\\u00e9n\", \"pacientes\": 0, \"codigo region\": 14}, {\"date\": \"2020-04-19\", \"region\": \"Magallanes\", \"pacientes\": 18, \"codigo region\": 15}, {\"date\": \"2020-04-20\", \"region\": \"Arica y Parinacota\", \"pacientes\": 5, \"codigo region\": 0}, {\"date\": \"2020-04-20\", \"region\": \"Tarapac\\u00e1\", \"pacientes\": 1, \"codigo region\": 1}, {\"date\": \"2020-04-20\", \"region\": \"Antofagasta\", \"pacientes\": 5, \"codigo region\": 2}, {\"date\": \"2020-04-20\", \"region\": \"Atacama\", \"pacientes\": 1, \"codigo region\": 3}, {\"date\": \"2020-04-20\", \"region\": \"Coquimbo\", \"pacientes\": 0, \"codigo region\": 4}, {\"date\": \"2020-04-20\", \"region\": \"Valpara\\u00edso\", \"pacientes\": 22, \"codigo region\": 5}, {\"date\": \"2020-04-20\", \"region\": \"Metropolitana\", \"pacientes\": 194, \"codigo region\": 6}, {\"date\": \"2020-04-20\", \"region\": \"O\\u2019Higgins\", \"pacientes\": 4, \"codigo region\": 7}, {\"date\": \"2020-04-20\", \"region\": \"Maule\", \"pacientes\": 9, \"codigo region\": 8}, {\"date\": \"2020-04-20\", \"region\": \"\\u00d1uble\", \"pacientes\": 15, \"codigo region\": 9}, {\"date\": \"2020-04-20\", \"region\": \"Biob\\u00edo\", \"pacientes\": 26, \"codigo region\": 10}, {\"date\": \"2020-04-20\", \"region\": \"Araucan\\u00eda\", \"pacientes\": 45, \"codigo region\": 11}, {\"date\": \"2020-04-20\", \"region\": \"Los R\\u00edos\", \"pacientes\": 5, \"codigo region\": 12}, {\"date\": \"2020-04-20\", \"region\": \"Los Lagos\", \"pacientes\": 24, \"codigo region\": 13}, {\"date\": \"2020-04-20\", \"region\": \"Ays\\u00e9n\", \"pacientes\": 0, \"codigo region\": 14}, {\"date\": \"2020-04-20\", \"region\": \"Magallanes\", \"pacientes\": 21, \"codigo region\": 15}, {\"date\": \"2020-04-21\", \"region\": \"Arica y Parinacota\", \"pacientes\": 5, \"codigo region\": 0}, {\"date\": \"2020-04-21\", \"region\": \"Tarapac\\u00e1\", \"pacientes\": 1, \"codigo region\": 1}, {\"date\": \"2020-04-21\", \"region\": \"Antofagasta\", \"pacientes\": 7, \"codigo region\": 2}, {\"date\": \"2020-04-21\", \"region\": \"Atacama\", \"pacientes\": 1, \"codigo region\": 3}, {\"date\": \"2020-04-21\", \"region\": \"Coquimbo\", \"pacientes\": 0, \"codigo region\": 4}, {\"date\": \"2020-04-21\", \"region\": \"Valpara\\u00edso\", \"pacientes\": 22, \"codigo region\": 5}, {\"date\": \"2020-04-21\", \"region\": \"Metropolitana\", \"pacientes\": 204, \"codigo region\": 6}, {\"date\": \"2020-04-21\", \"region\": \"O\\u2019Higgins\", \"pacientes\": 3, \"codigo region\": 7}, {\"date\": \"2020-04-21\", \"region\": \"Maule\", \"pacientes\": 14, \"codigo region\": 8}, {\"date\": \"2020-04-21\", \"region\": \"\\u00d1uble\", \"pacientes\": 15, \"codigo region\": 9}, {\"date\": \"2020-04-21\", \"region\": \"Biob\\u00edo\", \"pacientes\": 25, \"codigo region\": 10}, {\"date\": \"2020-04-21\", \"region\": \"Araucan\\u00eda\", \"pacientes\": 45, \"codigo region\": 11}, {\"date\": \"2020-04-21\", \"region\": \"Los R\\u00edos\", \"pacientes\": 6, \"codigo region\": 12}, {\"date\": \"2020-04-21\", \"region\": \"Los Lagos\", \"pacientes\": 25, \"codigo region\": 13}, {\"date\": \"2020-04-21\", \"region\": \"Ays\\u00e9n\", \"pacientes\": 0, \"codigo region\": 14}, {\"date\": \"2020-04-21\", \"region\": \"Magallanes\", \"pacientes\": 19, \"codigo region\": 15}, {\"date\": \"2020-04-22\", \"region\": \"Arica y Parinacota\", \"pacientes\": 4, \"codigo region\": 0}, {\"date\": \"2020-04-22\", \"region\": \"Tarapac\\u00e1\", \"pacientes\": 2, \"codigo region\": 1}, {\"date\": \"2020-04-22\", \"region\": \"Antofagasta\", \"pacientes\": 10, \"codigo region\": 2}, {\"date\": \"2020-04-22\", \"region\": \"Atacama\", \"pacientes\": 1, \"codigo region\": 3}, {\"date\": \"2020-04-22\", \"region\": \"Coquimbo\", \"pacientes\": 0, \"codigo region\": 4}, {\"date\": \"2020-04-22\", \"region\": \"Valpara\\u00edso\", \"pacientes\": 24, \"codigo region\": 5}, {\"date\": \"2020-04-22\", \"region\": \"Metropolitana\", \"pacientes\": 213, \"codigo region\": 6}, {\"date\": \"2020-04-22\", \"region\": \"O\\u2019Higgins\", \"pacientes\": 4, \"codigo region\": 7}, {\"date\": \"2020-04-22\", \"region\": \"Maule\", \"pacientes\": 10, \"codigo region\": 8}, {\"date\": \"2020-04-22\", \"region\": \"\\u00d1uble\", \"pacientes\": 15, \"codigo region\": 9}, {\"date\": \"2020-04-22\", \"region\": \"Biob\\u00edo\", \"pacientes\": 25, \"codigo region\": 10}, {\"date\": \"2020-04-22\", \"region\": \"Araucan\\u00eda\", \"pacientes\": 43, \"codigo region\": 11}, {\"date\": \"2020-04-22\", \"region\": \"Los R\\u00edos\", \"pacientes\": 7, \"codigo region\": 12}, {\"date\": \"2020-04-22\", \"region\": \"Los Lagos\", \"pacientes\": 23, \"codigo region\": 13}, {\"date\": \"2020-04-22\", \"region\": \"Ays\\u00e9n\", \"pacientes\": 0, \"codigo region\": 14}, {\"date\": \"2020-04-22\", \"region\": \"Magallanes\", \"pacientes\": 18, \"codigo region\": 15}, {\"date\": \"2020-04-23\", \"region\": \"Arica y Parinacota\", \"pacientes\": 4, \"codigo region\": 0}, {\"date\": \"2020-04-23\", \"region\": \"Tarapac\\u00e1\", \"pacientes\": 2, \"codigo region\": 1}, {\"date\": \"2020-04-23\", \"region\": \"Antofagasta\", \"pacientes\": 14, \"codigo region\": 2}, {\"date\": \"2020-04-23\", \"region\": \"Atacama\", \"pacientes\": 1, \"codigo region\": 3}, {\"date\": \"2020-04-23\", \"region\": \"Coquimbo\", \"pacientes\": 0, \"codigo region\": 4}, {\"date\": \"2020-04-23\", \"region\": \"Valpara\\u00edso\", \"pacientes\": 20, \"codigo region\": 5}, {\"date\": \"2020-04-23\", \"region\": \"Metropolitana\", \"pacientes\": 234, \"codigo region\": 6}, {\"date\": \"2020-04-23\", \"region\": \"O\\u2019Higgins\", \"pacientes\": 4, \"codigo region\": 7}, {\"date\": \"2020-04-23\", \"region\": \"Maule\", \"pacientes\": 9, \"codigo region\": 8}, {\"date\": \"2020-04-23\", \"region\": \"\\u00d1uble\", \"pacientes\": 15, \"codigo region\": 9}, {\"date\": \"2020-04-23\", \"region\": \"Biob\\u00edo\", \"pacientes\": 25, \"codigo region\": 10}, {\"date\": \"2020-04-23\", \"region\": \"Araucan\\u00eda\", \"pacientes\": 37, \"codigo region\": 11}, {\"date\": \"2020-04-23\", \"region\": \"Los R\\u00edos\", \"pacientes\": 7, \"codigo region\": 12}, {\"date\": \"2020-04-23\", \"region\": \"Los Lagos\", \"pacientes\": 22, \"codigo region\": 13}, {\"date\": \"2020-04-23\", \"region\": \"Ays\\u00e9n\", \"pacientes\": 0, \"codigo region\": 14}, {\"date\": \"2020-04-23\", \"region\": \"Magallanes\", \"pacientes\": 17, \"codigo region\": 15}, {\"date\": \"2020-04-24\", \"region\": \"Arica y Parinacota\", \"pacientes\": 7, \"codigo region\": 0}, {\"date\": \"2020-04-24\", \"region\": \"Tarapac\\u00e1\", \"pacientes\": 2, \"codigo region\": 1}, {\"date\": \"2020-04-24\", \"region\": \"Antofagasta\", \"pacientes\": 16, \"codigo region\": 2}, {\"date\": \"2020-04-24\", \"region\": \"Atacama\", \"pacientes\": 1, \"codigo region\": 3}, {\"date\": \"2020-04-24\", \"region\": \"Coquimbo\", \"pacientes\": 0, \"codigo region\": 4}, {\"date\": \"2020-04-24\", \"region\": \"Valpara\\u00edso\", \"pacientes\": 17, \"codigo region\": 5}, {\"date\": \"2020-04-24\", \"region\": \"Metropolitana\", \"pacientes\": 242, \"codigo region\": 6}, {\"date\": \"2020-04-24\", \"region\": \"O\\u2019Higgins\", \"pacientes\": 4, \"codigo region\": 7}, {\"date\": \"2020-04-24\", \"region\": \"Maule\", \"pacientes\": 9, \"codigo region\": 8}, {\"date\": \"2020-04-24\", \"region\": \"\\u00d1uble\", \"pacientes\": 13, \"codigo region\": 9}, {\"date\": \"2020-04-24\", \"region\": \"Biob\\u00edo\", \"pacientes\": 22, \"codigo region\": 10}, {\"date\": \"2020-04-24\", \"region\": \"Araucan\\u00eda\", \"pacientes\": 38, \"codigo region\": 11}, {\"date\": \"2020-04-24\", \"region\": \"Los R\\u00edos\", \"pacientes\": 7, \"codigo region\": 12}, {\"date\": \"2020-04-24\", \"region\": \"Los Lagos\", \"pacientes\": 21, \"codigo region\": 13}, {\"date\": \"2020-04-24\", \"region\": \"Ays\\u00e9n\", \"pacientes\": 0, \"codigo region\": 14}, {\"date\": \"2020-04-24\", \"region\": \"Magallanes\", \"pacientes\": 16, \"codigo region\": 15}, {\"date\": \"2020-04-25\", \"region\": \"Arica y Parinacota\", \"pacientes\": 8, \"codigo region\": 0}, {\"date\": \"2020-04-25\", \"region\": \"Tarapac\\u00e1\", \"pacientes\": 3, \"codigo region\": 1}, {\"date\": \"2020-04-25\", \"region\": \"Antofagasta\", \"pacientes\": 16, \"codigo region\": 2}, {\"date\": \"2020-04-25\", \"region\": \"Atacama\", \"pacientes\": 1, \"codigo region\": 3}, {\"date\": \"2020-04-25\", \"region\": \"Coquimbo\", \"pacientes\": 0, \"codigo region\": 4}, {\"date\": \"2020-04-25\", \"region\": \"Valpara\\u00edso\", \"pacientes\": 16, \"codigo region\": 5}, {\"date\": \"2020-04-25\", \"region\": \"Metropolitana\", \"pacientes\": 246, \"codigo region\": 6}, {\"date\": \"2020-04-25\", \"region\": \"O\\u2019Higgins\", \"pacientes\": 4, \"codigo region\": 7}, {\"date\": \"2020-04-25\", \"region\": \"Maule\", \"pacientes\": 8, \"codigo region\": 8}, {\"date\": \"2020-04-25\", \"region\": \"\\u00d1uble\", \"pacientes\": 10, \"codigo region\": 9}, {\"date\": \"2020-04-25\", \"region\": \"Biob\\u00edo\", \"pacientes\": 22, \"codigo region\": 10}, {\"date\": \"2020-04-25\", \"region\": \"Araucan\\u00eda\", \"pacientes\": 39, \"codigo region\": 11}, {\"date\": \"2020-04-25\", \"region\": \"Los R\\u00edos\", \"pacientes\": 7, \"codigo region\": 12}, {\"date\": \"2020-04-25\", \"region\": \"Los Lagos\", \"pacientes\": 21, \"codigo region\": 13}, {\"date\": \"2020-04-25\", \"region\": \"Ays\\u00e9n\", \"pacientes\": 0, \"codigo region\": 14}, {\"date\": \"2020-04-25\", \"region\": \"Magallanes\", \"pacientes\": 17, \"codigo region\": 15}, {\"date\": \"2020-04-26\", \"region\": \"Arica y Parinacota\", \"pacientes\": 9, \"codigo region\": 0}, {\"date\": \"2020-04-26\", \"region\": \"Tarapac\\u00e1\", \"pacientes\": 2, \"codigo region\": 1}, {\"date\": \"2020-04-26\", \"region\": \"Antofagasta\", \"pacientes\": 15, \"codigo region\": 2}, {\"date\": \"2020-04-26\", \"region\": \"Atacama\", \"pacientes\": 1, \"codigo region\": 3}, {\"date\": \"2020-04-26\", \"region\": \"Coquimbo\", \"pacientes\": 0, \"codigo region\": 4}, {\"date\": \"2020-04-26\", \"region\": \"Valpara\\u00edso\", \"pacientes\": 14, \"codigo region\": 5}, {\"date\": \"2020-04-26\", \"region\": \"Metropolitana\", \"pacientes\": 248, \"codigo region\": 6}, {\"date\": \"2020-04-26\", \"region\": \"O\\u2019Higgins\", \"pacientes\": 4, \"codigo region\": 7}, {\"date\": \"2020-04-26\", \"region\": \"Maule\", \"pacientes\": 10, \"codigo region\": 8}, {\"date\": \"2020-04-26\", \"region\": \"\\u00d1uble\", \"pacientes\": 10, \"codigo region\": 9}, {\"date\": \"2020-04-26\", \"region\": \"Biob\\u00edo\", \"pacientes\": 23, \"codigo region\": 10}, {\"date\": \"2020-04-26\", \"region\": \"Araucan\\u00eda\", \"pacientes\": 38, \"codigo region\": 11}, {\"date\": \"2020-04-26\", \"region\": \"Los R\\u00edos\", \"pacientes\": 7, \"codigo region\": 12}, {\"date\": \"2020-04-26\", \"region\": \"Los Lagos\", \"pacientes\": 17, \"codigo region\": 13}, {\"date\": \"2020-04-26\", \"region\": \"Ays\\u00e9n\", \"pacientes\": 0, \"codigo region\": 14}, {\"date\": \"2020-04-26\", \"region\": \"Magallanes\", \"pacientes\": 17, \"codigo region\": 15}], \"data-e777a492c9e7731ed3ab6e174f3d14f0\": [{\"date\": \"2020-03-24\", \"region\": \"Arica y Parinacota\", \"fallecidos\": 0, \"codigo region\": 0}, {\"date\": \"2020-03-24\", \"region\": \"Tarapac\\u00e1\", \"fallecidos\": 0, \"codigo region\": 1}, {\"date\": \"2020-03-24\", \"region\": \"Antofagasta\", \"fallecidos\": 0, \"codigo region\": 2}, {\"date\": \"2020-03-24\", \"region\": \"Atacama\", \"fallecidos\": 0, \"codigo region\": 3}, {\"date\": \"2020-03-24\", \"region\": \"Coquimbo\", \"fallecidos\": 0, \"codigo region\": 4}, {\"date\": \"2020-03-24\", \"region\": \"Valpara\\u00edso\", \"fallecidos\": 0, \"codigo region\": 5}, {\"date\": \"2020-03-24\", \"region\": \"Metropolitana\", \"fallecidos\": 2, \"codigo region\": 6}, {\"date\": \"2020-03-24\", \"region\": \"O\\u2019Higgins\", \"fallecidos\": 0, \"codigo region\": 7}, {\"date\": \"2020-03-24\", \"region\": \"Maule\", \"fallecidos\": 0, \"codigo region\": 8}, {\"date\": \"2020-03-24\", \"region\": \"\\u00d1uble\", \"fallecidos\": 0, \"codigo region\": 9}, {\"date\": \"2020-03-24\", \"region\": \"Biob\\u00edo\", \"fallecidos\": 0, \"codigo region\": 10}, {\"date\": \"2020-03-24\", \"region\": \"Araucan\\u00eda\", \"fallecidos\": 0, \"codigo region\": 11}, {\"date\": \"2020-03-24\", \"region\": \"Los R\\u00edos\", \"fallecidos\": 0, \"codigo region\": 12}, {\"date\": \"2020-03-24\", \"region\": \"Los Lagos\", \"fallecidos\": 0, \"codigo region\": 13}, {\"date\": \"2020-03-24\", \"region\": \"Ays\\u00e9n\", \"fallecidos\": 0, \"codigo region\": 14}, {\"date\": \"2020-03-24\", \"region\": \"Magallanes\", \"fallecidos\": 0, \"codigo region\": 15}, {\"date\": \"2020-03-25\", \"region\": \"Arica y Parinacota\", \"fallecidos\": 0, \"codigo region\": 0}, {\"date\": \"2020-03-25\", \"region\": \"Tarapac\\u00e1\", \"fallecidos\": 0, \"codigo region\": 1}, {\"date\": \"2020-03-25\", \"region\": \"Antofagasta\", \"fallecidos\": 0, \"codigo region\": 2}, {\"date\": \"2020-03-25\", \"region\": \"Atacama\", \"fallecidos\": 0, \"codigo region\": 3}, {\"date\": \"2020-03-25\", \"region\": \"Coquimbo\", \"fallecidos\": 0, \"codigo region\": 4}, {\"date\": \"2020-03-25\", \"region\": \"Valpara\\u00edso\", \"fallecidos\": 0, \"codigo region\": 5}, {\"date\": \"2020-03-25\", \"region\": \"Metropolitana\", \"fallecidos\": 2, \"codigo region\": 6}, {\"date\": \"2020-03-25\", \"region\": \"O\\u2019Higgins\", \"fallecidos\": 0, \"codigo region\": 7}, {\"date\": \"2020-03-25\", \"region\": \"Maule\", \"fallecidos\": 0, \"codigo region\": 8}, {\"date\": \"2020-03-25\", \"region\": \"\\u00d1uble\", \"fallecidos\": 0, \"codigo region\": 9}, {\"date\": \"2020-03-25\", \"region\": \"Biob\\u00edo\", \"fallecidos\": 1, \"codigo region\": 10}, {\"date\": \"2020-03-25\", \"region\": \"Araucan\\u00eda\", \"fallecidos\": 0, \"codigo region\": 11}, {\"date\": \"2020-03-25\", \"region\": \"Los R\\u00edos\", \"fallecidos\": 0, \"codigo region\": 12}, {\"date\": \"2020-03-25\", \"region\": \"Los Lagos\", \"fallecidos\": 0, \"codigo region\": 13}, {\"date\": \"2020-03-25\", \"region\": \"Ays\\u00e9n\", \"fallecidos\": 0, \"codigo region\": 14}, {\"date\": \"2020-03-25\", \"region\": \"Magallanes\", \"fallecidos\": 0, \"codigo region\": 15}, {\"date\": \"2020-03-26\", \"region\": \"Arica y Parinacota\", \"fallecidos\": 0, \"codigo region\": 0}, {\"date\": \"2020-03-26\", \"region\": \"Tarapac\\u00e1\", \"fallecidos\": 0, \"codigo region\": 1}, {\"date\": \"2020-03-26\", \"region\": \"Antofagasta\", \"fallecidos\": 0, \"codigo region\": 2}, {\"date\": \"2020-03-26\", \"region\": \"Atacama\", \"fallecidos\": 0, \"codigo region\": 3}, {\"date\": \"2020-03-26\", \"region\": \"Coquimbo\", \"fallecidos\": 0, \"codigo region\": 4}, {\"date\": \"2020-03-26\", \"region\": \"Valpara\\u00edso\", \"fallecidos\": 0, \"codigo region\": 5}, {\"date\": \"2020-03-26\", \"region\": \"Metropolitana\", \"fallecidos\": 3, \"codigo region\": 6}, {\"date\": \"2020-03-26\", \"region\": \"O\\u2019Higgins\", \"fallecidos\": 0, \"codigo region\": 7}, {\"date\": \"2020-03-26\", \"region\": \"Maule\", \"fallecidos\": 0, \"codigo region\": 8}, {\"date\": \"2020-03-26\", \"region\": \"\\u00d1uble\", \"fallecidos\": 0, \"codigo region\": 9}, {\"date\": \"2020-03-26\", \"region\": \"Biob\\u00edo\", \"fallecidos\": 1, \"codigo region\": 10}, {\"date\": \"2020-03-26\", \"region\": \"Araucan\\u00eda\", \"fallecidos\": 0, \"codigo region\": 11}, {\"date\": \"2020-03-26\", \"region\": \"Los R\\u00edos\", \"fallecidos\": 0, \"codigo region\": 12}, {\"date\": \"2020-03-26\", \"region\": \"Los Lagos\", \"fallecidos\": 0, \"codigo region\": 13}, {\"date\": \"2020-03-26\", \"region\": \"Ays\\u00e9n\", \"fallecidos\": 0, \"codigo region\": 14}, {\"date\": \"2020-03-26\", \"region\": \"Magallanes\", \"fallecidos\": 0, \"codigo region\": 15}, {\"date\": \"2020-03-27\", \"region\": \"Arica y Parinacota\", \"fallecidos\": 0, \"codigo region\": 0}, {\"date\": \"2020-03-27\", \"region\": \"Tarapac\\u00e1\", \"fallecidos\": 0, \"codigo region\": 1}, {\"date\": \"2020-03-27\", \"region\": \"Antofagasta\", \"fallecidos\": 0, \"codigo region\": 2}, {\"date\": \"2020-03-27\", \"region\": \"Atacama\", \"fallecidos\": 0, \"codigo region\": 3}, {\"date\": \"2020-03-27\", \"region\": \"Coquimbo\", \"fallecidos\": 0, \"codigo region\": 4}, {\"date\": \"2020-03-27\", \"region\": \"Valpara\\u00edso\", \"fallecidos\": 0, \"codigo region\": 5}, {\"date\": \"2020-03-27\", \"region\": \"Metropolitana\", \"fallecidos\": 3, \"codigo region\": 6}, {\"date\": \"2020-03-27\", \"region\": \"O\\u2019Higgins\", \"fallecidos\": 0, \"codigo region\": 7}, {\"date\": \"2020-03-27\", \"region\": \"Maule\", \"fallecidos\": 0, \"codigo region\": 8}, {\"date\": \"2020-03-27\", \"region\": \"\\u00d1uble\", \"fallecidos\": 0, \"codigo region\": 9}, {\"date\": \"2020-03-27\", \"region\": \"Biob\\u00edo\", \"fallecidos\": 2, \"codigo region\": 10}, {\"date\": \"2020-03-27\", \"region\": \"Araucan\\u00eda\", \"fallecidos\": 0, \"codigo region\": 11}, {\"date\": \"2020-03-27\", \"region\": \"Los R\\u00edos\", \"fallecidos\": 0, \"codigo region\": 12}, {\"date\": \"2020-03-27\", \"region\": \"Los Lagos\", \"fallecidos\": 0, \"codigo region\": 13}, {\"date\": \"2020-03-27\", \"region\": \"Ays\\u00e9n\", \"fallecidos\": 0, \"codigo region\": 14}, {\"date\": \"2020-03-27\", \"region\": \"Magallanes\", \"fallecidos\": 0, \"codigo region\": 15}, {\"date\": \"2020-03-28\", \"region\": \"Arica y Parinacota\", \"fallecidos\": 0, \"codigo region\": 0}, {\"date\": \"2020-03-28\", \"region\": \"Tarapac\\u00e1\", \"fallecidos\": 0, \"codigo region\": 1}, {\"date\": \"2020-03-28\", \"region\": \"Antofagasta\", \"fallecidos\": 0, \"codigo region\": 2}, {\"date\": \"2020-03-28\", \"region\": \"Atacama\", \"fallecidos\": 0, \"codigo region\": 3}, {\"date\": \"2020-03-28\", \"region\": \"Coquimbo\", \"fallecidos\": 0, \"codigo region\": 4}, {\"date\": \"2020-03-28\", \"region\": \"Valpara\\u00edso\", \"fallecidos\": 0, \"codigo region\": 5}, {\"date\": \"2020-03-28\", \"region\": \"Metropolitana\", \"fallecidos\": 3, \"codigo region\": 6}, {\"date\": \"2020-03-28\", \"region\": \"O\\u2019Higgins\", \"fallecidos\": 0, \"codigo region\": 7}, {\"date\": \"2020-03-28\", \"region\": \"Maule\", \"fallecidos\": 0, \"codigo region\": 8}, {\"date\": \"2020-03-28\", \"region\": \"\\u00d1uble\", \"fallecidos\": 0, \"codigo region\": 9}, {\"date\": \"2020-03-28\", \"region\": \"Biob\\u00edo\", \"fallecidos\": 2, \"codigo region\": 10}, {\"date\": \"2020-03-28\", \"region\": \"Araucan\\u00eda\", \"fallecidos\": 1, \"codigo region\": 11}, {\"date\": \"2020-03-28\", \"region\": \"Los R\\u00edos\", \"fallecidos\": 0, \"codigo region\": 12}, {\"date\": \"2020-03-28\", \"region\": \"Los Lagos\", \"fallecidos\": 0, \"codigo region\": 13}, {\"date\": \"2020-03-28\", \"region\": \"Ays\\u00e9n\", \"fallecidos\": 0, \"codigo region\": 14}, {\"date\": \"2020-03-28\", \"region\": \"Magallanes\", \"fallecidos\": 0, \"codigo region\": 15}, {\"date\": \"2020-03-29\", \"region\": \"Arica y Parinacota\", \"fallecidos\": 0, \"codigo region\": 0}, {\"date\": \"2020-03-29\", \"region\": \"Tarapac\\u00e1\", \"fallecidos\": 0, \"codigo region\": 1}, {\"date\": \"2020-03-29\", \"region\": \"Antofagasta\", \"fallecidos\": 0, \"codigo region\": 2}, {\"date\": \"2020-03-29\", \"region\": \"Atacama\", \"fallecidos\": 0, \"codigo region\": 3}, {\"date\": \"2020-03-29\", \"region\": \"Coquimbo\", \"fallecidos\": 0, \"codigo region\": 4}, {\"date\": \"2020-03-29\", \"region\": \"Valpara\\u00edso\", \"fallecidos\": 0, \"codigo region\": 5}, {\"date\": \"2020-03-29\", \"region\": \"Metropolitana\", \"fallecidos\": 3, \"codigo region\": 6}, {\"date\": \"2020-03-29\", \"region\": \"O\\u2019Higgins\", \"fallecidos\": 0, \"codigo region\": 7}, {\"date\": \"2020-03-29\", \"region\": \"Maule\", \"fallecidos\": 0, \"codigo region\": 8}, {\"date\": \"2020-03-29\", \"region\": \"\\u00d1uble\", \"fallecidos\": 0, \"codigo region\": 9}, {\"date\": \"2020-03-29\", \"region\": \"Biob\\u00edo\", \"fallecidos\": 2, \"codigo region\": 10}, {\"date\": \"2020-03-29\", \"region\": \"Araucan\\u00eda\", \"fallecidos\": 2, \"codigo region\": 11}, {\"date\": \"2020-03-29\", \"region\": \"Los R\\u00edos\", \"fallecidos\": 0, \"codigo region\": 12}, {\"date\": \"2020-03-29\", \"region\": \"Los Lagos\", \"fallecidos\": 0, \"codigo region\": 13}, {\"date\": \"2020-03-29\", \"region\": \"Ays\\u00e9n\", \"fallecidos\": 0, \"codigo region\": 14}, {\"date\": \"2020-03-29\", \"region\": \"Magallanes\", \"fallecidos\": 0, \"codigo region\": 15}, {\"date\": \"2020-03-30\", \"region\": \"Arica y Parinacota\", \"fallecidos\": 0, \"codigo region\": 0}, {\"date\": \"2020-03-30\", \"region\": \"Tarapac\\u00e1\", \"fallecidos\": 0, \"codigo region\": 1}, {\"date\": \"2020-03-30\", \"region\": \"Antofagasta\", \"fallecidos\": 0, \"codigo region\": 2}, {\"date\": \"2020-03-30\", \"region\": \"Atacama\", \"fallecidos\": 0, \"codigo region\": 3}, {\"date\": \"2020-03-30\", \"region\": \"Coquimbo\", \"fallecidos\": 0, \"codigo region\": 4}, {\"date\": \"2020-03-30\", \"region\": \"Valpara\\u00edso\", \"fallecidos\": 0, \"codigo region\": 5}, {\"date\": \"2020-03-30\", \"region\": \"Metropolitana\", \"fallecidos\": 3, \"codigo region\": 6}, {\"date\": \"2020-03-30\", \"region\": \"O\\u2019Higgins\", \"fallecidos\": 0, \"codigo region\": 7}, {\"date\": \"2020-03-30\", \"region\": \"Maule\", \"fallecidos\": 1, \"codigo region\": 8}, {\"date\": \"2020-03-30\", \"region\": \"\\u00d1uble\", \"fallecidos\": 0, \"codigo region\": 9}, {\"date\": \"2020-03-30\", \"region\": \"Biob\\u00edo\", \"fallecidos\": 2, \"codigo region\": 10}, {\"date\": \"2020-03-30\", \"region\": \"Araucan\\u00eda\", \"fallecidos\": 2, \"codigo region\": 11}, {\"date\": \"2020-03-30\", \"region\": \"Los R\\u00edos\", \"fallecidos\": 0, \"codigo region\": 12}, {\"date\": \"2020-03-30\", \"region\": \"Los Lagos\", \"fallecidos\": 0, \"codigo region\": 13}, {\"date\": \"2020-03-30\", \"region\": \"Ays\\u00e9n\", \"fallecidos\": 0, \"codigo region\": 14}, {\"date\": \"2020-03-30\", \"region\": \"Magallanes\", \"fallecidos\": 0, \"codigo region\": 15}, {\"date\": \"2020-03-31\", \"region\": \"Arica y Parinacota\", \"fallecidos\": 0, \"codigo region\": 0}, {\"date\": \"2020-03-31\", \"region\": \"Tarapac\\u00e1\", \"fallecidos\": 0, \"codigo region\": 1}, {\"date\": \"2020-03-31\", \"region\": \"Antofagasta\", \"fallecidos\": 0, \"codigo region\": 2}, {\"date\": \"2020-03-31\", \"region\": \"Atacama\", \"fallecidos\": 0, \"codigo region\": 3}, {\"date\": \"2020-03-31\", \"region\": \"Coquimbo\", \"fallecidos\": 0, \"codigo region\": 4}, {\"date\": \"2020-03-31\", \"region\": \"Valpara\\u00edso\", \"fallecidos\": 1, \"codigo region\": 5}, {\"date\": \"2020-03-31\", \"region\": \"Metropolitana\", \"fallecidos\": 4, \"codigo region\": 6}, {\"date\": \"2020-03-31\", \"region\": \"O\\u2019Higgins\", \"fallecidos\": 0, \"codigo region\": 7}, {\"date\": \"2020-03-31\", \"region\": \"Maule\", \"fallecidos\": 1, \"codigo region\": 8}, {\"date\": \"2020-03-31\", \"region\": \"\\u00d1uble\", \"fallecidos\": 0, \"codigo region\": 9}, {\"date\": \"2020-03-31\", \"region\": \"Biob\\u00edo\", \"fallecidos\": 2, \"codigo region\": 10}, {\"date\": \"2020-03-31\", \"region\": \"Araucan\\u00eda\", \"fallecidos\": 4, \"codigo region\": 11}, {\"date\": \"2020-03-31\", \"region\": \"Los R\\u00edos\", \"fallecidos\": 0, \"codigo region\": 12}, {\"date\": \"2020-03-31\", \"region\": \"Los Lagos\", \"fallecidos\": 0, \"codigo region\": 13}, {\"date\": \"2020-03-31\", \"region\": \"Ays\\u00e9n\", \"fallecidos\": 0, \"codigo region\": 14}, {\"date\": \"2020-03-31\", \"region\": \"Magallanes\", \"fallecidos\": 0, \"codigo region\": 15}, {\"date\": \"2020-04-01\", \"region\": \"Arica y Parinacota\", \"fallecidos\": 0, \"codigo region\": 0}, {\"date\": \"2020-04-01\", \"region\": \"Tarapac\\u00e1\", \"fallecidos\": 0, \"codigo region\": 1}, {\"date\": \"2020-04-01\", \"region\": \"Antofagasta\", \"fallecidos\": 0, \"codigo region\": 2}, {\"date\": \"2020-04-01\", \"region\": \"Atacama\", \"fallecidos\": 0, \"codigo region\": 3}, {\"date\": \"2020-04-01\", \"region\": \"Coquimbo\", \"fallecidos\": 0, \"codigo region\": 4}, {\"date\": \"2020-04-01\", \"region\": \"Valpara\\u00edso\", \"fallecidos\": 1, \"codigo region\": 5}, {\"date\": \"2020-04-01\", \"region\": \"Metropolitana\", \"fallecidos\": 5, \"codigo region\": 6}, {\"date\": \"2020-04-01\", \"region\": \"O\\u2019Higgins\", \"fallecidos\": 0, \"codigo region\": 7}, {\"date\": \"2020-04-01\", \"region\": \"Maule\", \"fallecidos\": 1, \"codigo region\": 8}, {\"date\": \"2020-04-01\", \"region\": \"\\u00d1uble\", \"fallecidos\": 0, \"codigo region\": 9}, {\"date\": \"2020-04-01\", \"region\": \"Biob\\u00edo\", \"fallecidos\": 2, \"codigo region\": 10}, {\"date\": \"2020-04-01\", \"region\": \"Araucan\\u00eda\", \"fallecidos\": 6, \"codigo region\": 11}, {\"date\": \"2020-04-01\", \"region\": \"Los R\\u00edos\", \"fallecidos\": 1, \"codigo region\": 12}, {\"date\": \"2020-04-01\", \"region\": \"Los Lagos\", \"fallecidos\": 0, \"codigo region\": 13}, {\"date\": \"2020-04-01\", \"region\": \"Ays\\u00e9n\", \"fallecidos\": 0, \"codigo region\": 14}, {\"date\": \"2020-04-01\", \"region\": \"Magallanes\", \"fallecidos\": 0, \"codigo region\": 15}, {\"date\": \"2020-04-02\", \"region\": \"Arica y Parinacota\", \"fallecidos\": 0, \"codigo region\": 0}, {\"date\": \"2020-04-02\", \"region\": \"Tarapac\\u00e1\", \"fallecidos\": 0, \"codigo region\": 1}, {\"date\": \"2020-04-02\", \"region\": \"Antofagasta\", \"fallecidos\": 0, \"codigo region\": 2}, {\"date\": \"2020-04-02\", \"region\": \"Atacama\", \"fallecidos\": 0, \"codigo region\": 3}, {\"date\": \"2020-04-02\", \"region\": \"Coquimbo\", \"fallecidos\": 0, \"codigo region\": 4}, {\"date\": \"2020-04-02\", \"region\": \"Valpara\\u00edso\", \"fallecidos\": 1, \"codigo region\": 5}, {\"date\": \"2020-04-02\", \"region\": \"Metropolitana\", \"fallecidos\": 6, \"codigo region\": 6}, {\"date\": \"2020-04-02\", \"region\": \"O\\u2019Higgins\", \"fallecidos\": 0, \"codigo region\": 7}, {\"date\": \"2020-04-02\", \"region\": \"Maule\", \"fallecidos\": 1, \"codigo region\": 8}, {\"date\": \"2020-04-02\", \"region\": \"\\u00d1uble\", \"fallecidos\": 0, \"codigo region\": 9}, {\"date\": \"2020-04-02\", \"region\": \"Biob\\u00edo\", \"fallecidos\": 2, \"codigo region\": 10}, {\"date\": \"2020-04-02\", \"region\": \"Araucan\\u00eda\", \"fallecidos\": 7, \"codigo region\": 11}, {\"date\": \"2020-04-02\", \"region\": \"Los R\\u00edos\", \"fallecidos\": 1, \"codigo region\": 12}, {\"date\": \"2020-04-02\", \"region\": \"Los Lagos\", \"fallecidos\": 0, \"codigo region\": 13}, {\"date\": \"2020-04-02\", \"region\": \"Ays\\u00e9n\", \"fallecidos\": 0, \"codigo region\": 14}, {\"date\": \"2020-04-02\", \"region\": \"Magallanes\", \"fallecidos\": 0, \"codigo region\": 15}, {\"date\": \"2020-04-03\", \"region\": \"Arica y Parinacota\", \"fallecidos\": 0, \"codigo region\": 0}, {\"date\": \"2020-04-03\", \"region\": \"Tarapac\\u00e1\", \"fallecidos\": 0, \"codigo region\": 1}, {\"date\": \"2020-04-03\", \"region\": \"Antofagasta\", \"fallecidos\": 0, \"codigo region\": 2}, {\"date\": \"2020-04-03\", \"region\": \"Atacama\", \"fallecidos\": 0, \"codigo region\": 3}, {\"date\": \"2020-04-03\", \"region\": \"Coquimbo\", \"fallecidos\": 0, \"codigo region\": 4}, {\"date\": \"2020-04-03\", \"region\": \"Valpara\\u00edso\", \"fallecidos\": 1, \"codigo region\": 5}, {\"date\": \"2020-04-03\", \"region\": \"Metropolitana\", \"fallecidos\": 8, \"codigo region\": 6}, {\"date\": \"2020-04-03\", \"region\": \"O\\u2019Higgins\", \"fallecidos\": 0, \"codigo region\": 7}, {\"date\": \"2020-04-03\", \"region\": \"Maule\", \"fallecidos\": 1, \"codigo region\": 8}, {\"date\": \"2020-04-03\", \"region\": \"\\u00d1uble\", \"fallecidos\": 1, \"codigo region\": 9}, {\"date\": \"2020-04-03\", \"region\": \"Biob\\u00edo\", \"fallecidos\": 2, \"codigo region\": 10}, {\"date\": \"2020-04-03\", \"region\": \"Araucan\\u00eda\", \"fallecidos\": 7, \"codigo region\": 11}, {\"date\": \"2020-04-03\", \"region\": \"Los R\\u00edos\", \"fallecidos\": 1, \"codigo region\": 12}, {\"date\": \"2020-04-03\", \"region\": \"Los Lagos\", \"fallecidos\": 0, \"codigo region\": 13}, {\"date\": \"2020-04-03\", \"region\": \"Ays\\u00e9n\", \"fallecidos\": 0, \"codigo region\": 14}, {\"date\": \"2020-04-03\", \"region\": \"Magallanes\", \"fallecidos\": 1, \"codigo region\": 15}, {\"date\": \"2020-04-04\", \"region\": \"Arica y Parinacota\", \"fallecidos\": 0, \"codigo region\": 0}, {\"date\": \"2020-04-04\", \"region\": \"Tarapac\\u00e1\", \"fallecidos\": 0, \"codigo region\": 1}, {\"date\": \"2020-04-04\", \"region\": \"Antofagasta\", \"fallecidos\": 0, \"codigo region\": 2}, {\"date\": \"2020-04-04\", \"region\": \"Atacama\", \"fallecidos\": 0, \"codigo region\": 3}, {\"date\": \"2020-04-04\", \"region\": \"Coquimbo\", \"fallecidos\": 0, \"codigo region\": 4}, {\"date\": \"2020-04-04\", \"region\": \"Valpara\\u00edso\", \"fallecidos\": 1, \"codigo region\": 5}, {\"date\": \"2020-04-04\", \"region\": \"Metropolitana\", \"fallecidos\": 9, \"codigo region\": 6}, {\"date\": \"2020-04-04\", \"region\": \"O\\u2019Higgins\", \"fallecidos\": 0, \"codigo region\": 7}, {\"date\": \"2020-04-04\", \"region\": \"Maule\", \"fallecidos\": 1, \"codigo region\": 8}, {\"date\": \"2020-04-04\", \"region\": \"\\u00d1uble\", \"fallecidos\": 2, \"codigo region\": 9}, {\"date\": \"2020-04-04\", \"region\": \"Biob\\u00edo\", \"fallecidos\": 2, \"codigo region\": 10}, {\"date\": \"2020-04-04\", \"region\": \"Araucan\\u00eda\", \"fallecidos\": 9, \"codigo region\": 11}, {\"date\": \"2020-04-04\", \"region\": \"Los R\\u00edos\", \"fallecidos\": 1, \"codigo region\": 12}, {\"date\": \"2020-04-04\", \"region\": \"Los Lagos\", \"fallecidos\": 0, \"codigo region\": 13}, {\"date\": \"2020-04-04\", \"region\": \"Ays\\u00e9n\", \"fallecidos\": 0, \"codigo region\": 14}, {\"date\": \"2020-04-04\", \"region\": \"Magallanes\", \"fallecidos\": 2, \"codigo region\": 15}, {\"date\": \"2020-04-05\", \"region\": \"Arica y Parinacota\", \"fallecidos\": 0, \"codigo region\": 0}, {\"date\": \"2020-04-05\", \"region\": \"Tarapac\\u00e1\", \"fallecidos\": 0, \"codigo region\": 1}, {\"date\": \"2020-04-05\", \"region\": \"Antofagasta\", \"fallecidos\": 0, \"codigo region\": 2}, {\"date\": \"2020-04-05\", \"region\": \"Atacama\", \"fallecidos\": 0, \"codigo region\": 3}, {\"date\": \"2020-04-05\", \"region\": \"Coquimbo\", \"fallecidos\": 0, \"codigo region\": 4}, {\"date\": \"2020-04-05\", \"region\": \"Valpara\\u00edso\", \"fallecidos\": 1, \"codigo region\": 5}, {\"date\": \"2020-04-05\", \"region\": \"Metropolitana\", \"fallecidos\": 10, \"codigo region\": 6}, {\"date\": \"2020-04-05\", \"region\": \"O\\u2019Higgins\", \"fallecidos\": 0, \"codigo region\": 7}, {\"date\": \"2020-04-05\", \"region\": \"Maule\", \"fallecidos\": 1, \"codigo region\": 8}, {\"date\": \"2020-04-05\", \"region\": \"\\u00d1uble\", \"fallecidos\": 3, \"codigo region\": 9}, {\"date\": \"2020-04-05\", \"region\": \"Biob\\u00edo\", \"fallecidos\": 2, \"codigo region\": 10}, {\"date\": \"2020-04-05\", \"region\": \"Araucan\\u00eda\", \"fallecidos\": 13, \"codigo region\": 11}, {\"date\": \"2020-04-05\", \"region\": \"Los R\\u00edos\", \"fallecidos\": 1, \"codigo region\": 12}, {\"date\": \"2020-04-05\", \"region\": \"Los Lagos\", \"fallecidos\": 1, \"codigo region\": 13}, {\"date\": \"2020-04-05\", \"region\": \"Ays\\u00e9n\", \"fallecidos\": 0, \"codigo region\": 14}, {\"date\": \"2020-04-05\", \"region\": \"Magallanes\", \"fallecidos\": 2, \"codigo region\": 15}, {\"date\": \"2020-04-06\", \"region\": \"Arica y Parinacota\", \"fallecidos\": 0, \"codigo region\": 0}, {\"date\": \"2020-04-06\", \"region\": \"Tarapac\\u00e1\", \"fallecidos\": 0, \"codigo region\": 1}, {\"date\": \"2020-04-06\", \"region\": \"Antofagasta\", \"fallecidos\": 0, \"codigo region\": 2}, {\"date\": \"2020-04-06\", \"region\": \"Atacama\", \"fallecidos\": 0, \"codigo region\": 3}, {\"date\": \"2020-04-06\", \"region\": \"Coquimbo\", \"fallecidos\": 0, \"codigo region\": 4}, {\"date\": \"2020-04-06\", \"region\": \"Valpara\\u00edso\", \"fallecidos\": 1, \"codigo region\": 5}, {\"date\": \"2020-04-06\", \"region\": \"Metropolitana\", \"fallecidos\": 10, \"codigo region\": 6}, {\"date\": \"2020-04-06\", \"region\": \"O\\u2019Higgins\", \"fallecidos\": 0, \"codigo region\": 7}, {\"date\": \"2020-04-06\", \"region\": \"Maule\", \"fallecidos\": 1, \"codigo region\": 8}, {\"date\": \"2020-04-06\", \"region\": \"\\u00d1uble\", \"fallecidos\": 4, \"codigo region\": 9}, {\"date\": \"2020-04-06\", \"region\": \"Biob\\u00edo\", \"fallecidos\": 2, \"codigo region\": 10}, {\"date\": \"2020-04-06\", \"region\": \"Araucan\\u00eda\", \"fallecidos\": 14, \"codigo region\": 11}, {\"date\": \"2020-04-06\", \"region\": \"Los R\\u00edos\", \"fallecidos\": 1, \"codigo region\": 12}, {\"date\": \"2020-04-06\", \"region\": \"Los Lagos\", \"fallecidos\": 2, \"codigo region\": 13}, {\"date\": \"2020-04-06\", \"region\": \"Ays\\u00e9n\", \"fallecidos\": 0, \"codigo region\": 14}, {\"date\": \"2020-04-06\", \"region\": \"Magallanes\", \"fallecidos\": 2, \"codigo region\": 15}, {\"date\": \"2020-04-07\", \"region\": \"Arica y Parinacota\", \"fallecidos\": 0, \"codigo region\": 0}, {\"date\": \"2020-04-07\", \"region\": \"Tarapac\\u00e1\", \"fallecidos\": 0, \"codigo region\": 1}, {\"date\": \"2020-04-07\", \"region\": \"Antofagasta\", \"fallecidos\": 1, \"codigo region\": 2}, {\"date\": \"2020-04-07\", \"region\": \"Atacama\", \"fallecidos\": 0, \"codigo region\": 3}, {\"date\": \"2020-04-07\", \"region\": \"Coquimbo\", \"fallecidos\": 0, \"codigo region\": 4}, {\"date\": \"2020-04-07\", \"region\": \"Valpara\\u00edso\", \"fallecidos\": 1, \"codigo region\": 5}, {\"date\": \"2020-04-07\", \"region\": \"Metropolitana\", \"fallecidos\": 12, \"codigo region\": 6}, {\"date\": \"2020-04-07\", \"region\": \"O\\u2019Higgins\", \"fallecidos\": 0, \"codigo region\": 7}, {\"date\": \"2020-04-07\", \"region\": \"Maule\", \"fallecidos\": 2, \"codigo region\": 8}, {\"date\": \"2020-04-07\", \"region\": \"\\u00d1uble\", \"fallecidos\": 5, \"codigo region\": 9}, {\"date\": \"2020-04-07\", \"region\": \"Biob\\u00edo\", \"fallecidos\": 2, \"codigo region\": 10}, {\"date\": \"2020-04-07\", \"region\": \"Araucan\\u00eda\", \"fallecidos\": 14, \"codigo region\": 11}, {\"date\": \"2020-04-07\", \"region\": \"Los R\\u00edos\", \"fallecidos\": 2, \"codigo region\": 12}, {\"date\": \"2020-04-07\", \"region\": \"Los Lagos\", \"fallecidos\": 2, \"codigo region\": 13}, {\"date\": \"2020-04-07\", \"region\": \"Ays\\u00e9n\", \"fallecidos\": 0, \"codigo region\": 14}, {\"date\": \"2020-04-07\", \"region\": \"Magallanes\", \"fallecidos\": 2, \"codigo region\": 15}, {\"date\": \"2020-04-08\", \"region\": \"Arica y Parinacota\", \"fallecidos\": 0, \"codigo region\": 0}, {\"date\": \"2020-04-08\", \"region\": \"Tarapac\\u00e1\", \"fallecidos\": 0, \"codigo region\": 1}, {\"date\": \"2020-04-08\", \"region\": \"Antofagasta\", \"fallecidos\": 1, \"codigo region\": 2}, {\"date\": \"2020-04-08\", \"region\": \"Atacama\", \"fallecidos\": 0, \"codigo region\": 3}, {\"date\": \"2020-04-08\", \"region\": \"Coquimbo\", \"fallecidos\": 0, \"codigo region\": 4}, {\"date\": \"2020-04-08\", \"region\": \"Valpara\\u00edso\", \"fallecidos\": 2, \"codigo region\": 5}, {\"date\": \"2020-04-08\", \"region\": \"Metropolitana\", \"fallecidos\": 14, \"codigo region\": 6}, {\"date\": \"2020-04-08\", \"region\": \"O\\u2019Higgins\", \"fallecidos\": 0, \"codigo region\": 7}, {\"date\": \"2020-04-08\", \"region\": \"Maule\", \"fallecidos\": 2, \"codigo region\": 8}, {\"date\": \"2020-04-08\", \"region\": \"\\u00d1uble\", \"fallecidos\": 5, \"codigo region\": 9}, {\"date\": \"2020-04-08\", \"region\": \"Biob\\u00edo\", \"fallecidos\": 2, \"codigo region\": 10}, {\"date\": \"2020-04-08\", \"region\": \"Araucan\\u00eda\", \"fallecidos\": 15, \"codigo region\": 11}, {\"date\": \"2020-04-08\", \"region\": \"Los R\\u00edos\", \"fallecidos\": 2, \"codigo region\": 12}, {\"date\": \"2020-04-08\", \"region\": \"Los Lagos\", \"fallecidos\": 2, \"codigo region\": 13}, {\"date\": \"2020-04-08\", \"region\": \"Ays\\u00e9n\", \"fallecidos\": 0, \"codigo region\": 14}, {\"date\": \"2020-04-08\", \"region\": \"Magallanes\", \"fallecidos\": 3, \"codigo region\": 15}, {\"date\": \"2020-04-09\", \"region\": \"Arica y Parinacota\", \"fallecidos\": 0, \"codigo region\": 0}, {\"date\": \"2020-04-09\", \"region\": \"Tarapac\\u00e1\", \"fallecidos\": 0, \"codigo region\": 1}, {\"date\": \"2020-04-09\", \"region\": \"Antofagasta\", \"fallecidos\": 1, \"codigo region\": 2}, {\"date\": \"2020-04-09\", \"region\": \"Atacama\", \"fallecidos\": 0, \"codigo region\": 3}, {\"date\": \"2020-04-09\", \"region\": \"Coquimbo\", \"fallecidos\": 0, \"codigo region\": 4}, {\"date\": \"2020-04-09\", \"region\": \"Valpara\\u00edso\", \"fallecidos\": 2, \"codigo region\": 5}, {\"date\": \"2020-04-09\", \"region\": \"Metropolitana\", \"fallecidos\": 21, \"codigo region\": 6}, {\"date\": \"2020-04-09\", \"region\": \"O\\u2019Higgins\", \"fallecidos\": 0, \"codigo region\": 7}, {\"date\": \"2020-04-09\", \"region\": \"Maule\", \"fallecidos\": 2, \"codigo region\": 8}, {\"date\": \"2020-04-09\", \"region\": \"\\u00d1uble\", \"fallecidos\": 6, \"codigo region\": 9}, {\"date\": \"2020-04-09\", \"region\": \"Biob\\u00edo\", \"fallecidos\": 2, \"codigo region\": 10}, {\"date\": \"2020-04-09\", \"region\": \"Araucan\\u00eda\", \"fallecidos\": 16, \"codigo region\": 11}, {\"date\": \"2020-04-09\", \"region\": \"Los R\\u00edos\", \"fallecidos\": 2, \"codigo region\": 12}, {\"date\": \"2020-04-09\", \"region\": \"Los Lagos\", \"fallecidos\": 2, \"codigo region\": 13}, {\"date\": \"2020-04-09\", \"region\": \"Ays\\u00e9n\", \"fallecidos\": 0, \"codigo region\": 14}, {\"date\": \"2020-04-09\", \"region\": \"Magallanes\", \"fallecidos\": 3, \"codigo region\": 15}, {\"date\": \"2020-04-10\", \"region\": \"Arica y Parinacota\", \"fallecidos\": 0, \"codigo region\": 0}, {\"date\": \"2020-04-10\", \"region\": \"Tarapac\\u00e1\", \"fallecidos\": 0, \"codigo region\": 1}, {\"date\": \"2020-04-10\", \"region\": \"Antofagasta\", \"fallecidos\": 1, \"codigo region\": 2}, {\"date\": \"2020-04-10\", \"region\": \"Atacama\", \"fallecidos\": 0, \"codigo region\": 3}, {\"date\": \"2020-04-10\", \"region\": \"Coquimbo\", \"fallecidos\": 0, \"codigo region\": 4}, {\"date\": \"2020-04-10\", \"region\": \"Valpara\\u00edso\", \"fallecidos\": 2, \"codigo region\": 5}, {\"date\": \"2020-04-10\", \"region\": \"Metropolitana\", \"fallecidos\": 29, \"codigo region\": 6}, {\"date\": \"2020-04-10\", \"region\": \"O\\u2019Higgins\", \"fallecidos\": 0, \"codigo region\": 7}, {\"date\": \"2020-04-10\", \"region\": \"Maule\", \"fallecidos\": 2, \"codigo region\": 8}, {\"date\": \"2020-04-10\", \"region\": \"\\u00d1uble\", \"fallecidos\": 6, \"codigo region\": 9}, {\"date\": \"2020-04-10\", \"region\": \"Biob\\u00edo\", \"fallecidos\": 2, \"codigo region\": 10}, {\"date\": \"2020-04-10\", \"region\": \"Araucan\\u00eda\", \"fallecidos\": 16, \"codigo region\": 11}, {\"date\": \"2020-04-10\", \"region\": \"Los R\\u00edos\", \"fallecidos\": 2, \"codigo region\": 12}, {\"date\": \"2020-04-10\", \"region\": \"Los Lagos\", \"fallecidos\": 2, \"codigo region\": 13}, {\"date\": \"2020-04-10\", \"region\": \"Ays\\u00e9n\", \"fallecidos\": 0, \"codigo region\": 14}, {\"date\": \"2020-04-10\", \"region\": \"Magallanes\", \"fallecidos\": 3, \"codigo region\": 15}, {\"date\": \"2020-04-11\", \"region\": \"Arica y Parinacota\", \"fallecidos\": 0, \"codigo region\": 0}, {\"date\": \"2020-04-11\", \"region\": \"Tarapac\\u00e1\", \"fallecidos\": 0, \"codigo region\": 1}, {\"date\": \"2020-04-11\", \"region\": \"Antofagasta\", \"fallecidos\": 1, \"codigo region\": 2}, {\"date\": \"2020-04-11\", \"region\": \"Atacama\", \"fallecidos\": 0, \"codigo region\": 3}, {\"date\": \"2020-04-11\", \"region\": \"Coquimbo\", \"fallecidos\": 0, \"codigo region\": 4}, {\"date\": \"2020-04-11\", \"region\": \"Valpara\\u00edso\", \"fallecidos\": 2, \"codigo region\": 5}, {\"date\": \"2020-04-11\", \"region\": \"Metropolitana\", \"fallecidos\": 32, \"codigo region\": 6}, {\"date\": \"2020-04-11\", \"region\": \"O\\u2019Higgins\", \"fallecidos\": 0, \"codigo region\": 7}, {\"date\": \"2020-04-11\", \"region\": \"Maule\", \"fallecidos\": 3, \"codigo region\": 8}, {\"date\": \"2020-04-11\", \"region\": \"\\u00d1uble\", \"fallecidos\": 6, \"codigo region\": 9}, {\"date\": \"2020-04-11\", \"region\": \"Biob\\u00edo\", \"fallecidos\": 2, \"codigo region\": 10}, {\"date\": \"2020-04-11\", \"region\": \"Araucan\\u00eda\", \"fallecidos\": 17, \"codigo region\": 11}, {\"date\": \"2020-04-11\", \"region\": \"Los R\\u00edos\", \"fallecidos\": 2, \"codigo region\": 12}, {\"date\": \"2020-04-11\", \"region\": \"Los Lagos\", \"fallecidos\": 5, \"codigo region\": 13}, {\"date\": \"2020-04-11\", \"region\": \"Ays\\u00e9n\", \"fallecidos\": 0, \"codigo region\": 14}, {\"date\": \"2020-04-11\", \"region\": \"Magallanes\", \"fallecidos\": 3, \"codigo region\": 15}, {\"date\": \"2020-04-12\", \"region\": \"Arica y Parinacota\", \"fallecidos\": 1, \"codigo region\": 0}, {\"date\": \"2020-04-12\", \"region\": \"Tarapac\\u00e1\", \"fallecidos\": 0, \"codigo region\": 1}, {\"date\": \"2020-04-12\", \"region\": \"Antofagasta\", \"fallecidos\": 1, \"codigo region\": 2}, {\"date\": \"2020-04-12\", \"region\": \"Atacama\", \"fallecidos\": 0, \"codigo region\": 3}, {\"date\": \"2020-04-12\", \"region\": \"Coquimbo\", \"fallecidos\": 0, \"codigo region\": 4}, {\"date\": \"2020-04-12\", \"region\": \"Valpara\\u00edso\", \"fallecidos\": 2, \"codigo region\": 5}, {\"date\": \"2020-04-12\", \"region\": \"Metropolitana\", \"fallecidos\": 35, \"codigo region\": 6}, {\"date\": \"2020-04-12\", \"region\": \"O\\u2019Higgins\", \"fallecidos\": 0, \"codigo region\": 7}, {\"date\": \"2020-04-12\", \"region\": \"Maule\", \"fallecidos\": 3, \"codigo region\": 8}, {\"date\": \"2020-04-12\", \"region\": \"\\u00d1uble\", \"fallecidos\": 7, \"codigo region\": 9}, {\"date\": \"2020-04-12\", \"region\": \"Biob\\u00edo\", \"fallecidos\": 2, \"codigo region\": 10}, {\"date\": \"2020-04-12\", \"region\": \"Araucan\\u00eda\", \"fallecidos\": 17, \"codigo region\": 11}, {\"date\": \"2020-04-12\", \"region\": \"Los R\\u00edos\", \"fallecidos\": 3, \"codigo region\": 12}, {\"date\": \"2020-04-12\", \"region\": \"Los Lagos\", \"fallecidos\": 5, \"codigo region\": 13}, {\"date\": \"2020-04-12\", \"region\": \"Ays\\u00e9n\", \"fallecidos\": 0, \"codigo region\": 14}, {\"date\": \"2020-04-12\", \"region\": \"Magallanes\", \"fallecidos\": 4, \"codigo region\": 15}, {\"date\": \"2020-04-13\", \"region\": \"Arica y Parinacota\", \"fallecidos\": 1, \"codigo region\": 0}, {\"date\": \"2020-04-13\", \"region\": \"Tarapac\\u00e1\", \"fallecidos\": 0, \"codigo region\": 1}, {\"date\": \"2020-04-13\", \"region\": \"Antofagasta\", \"fallecidos\": 1, \"codigo region\": 2}, {\"date\": \"2020-04-13\", \"region\": \"Atacama\", \"fallecidos\": 0, \"codigo region\": 3}, {\"date\": \"2020-04-13\", \"region\": \"Coquimbo\", \"fallecidos\": 0, \"codigo region\": 4}, {\"date\": \"2020-04-13\", \"region\": \"Valpara\\u00edso\", \"fallecidos\": 2, \"codigo region\": 5}, {\"date\": \"2020-04-13\", \"region\": \"Metropolitana\", \"fallecidos\": 36, \"codigo region\": 6}, {\"date\": \"2020-04-13\", \"region\": \"O\\u2019Higgins\", \"fallecidos\": 0, \"codigo region\": 7}, {\"date\": \"2020-04-13\", \"region\": \"Maule\", \"fallecidos\": 3, \"codigo region\": 8}, {\"date\": \"2020-04-13\", \"region\": \"\\u00d1uble\", \"fallecidos\": 7, \"codigo region\": 9}, {\"date\": \"2020-04-13\", \"region\": \"Biob\\u00edo\", \"fallecidos\": 2, \"codigo region\": 10}, {\"date\": \"2020-04-13\", \"region\": \"Araucan\\u00eda\", \"fallecidos\": 17, \"codigo region\": 11}, {\"date\": \"2020-04-13\", \"region\": \"Los R\\u00edos\", \"fallecidos\": 3, \"codigo region\": 12}, {\"date\": \"2020-04-13\", \"region\": \"Los Lagos\", \"fallecidos\": 5, \"codigo region\": 13}, {\"date\": \"2020-04-13\", \"region\": \"Ays\\u00e9n\", \"fallecidos\": 0, \"codigo region\": 14}, {\"date\": \"2020-04-13\", \"region\": \"Magallanes\", \"fallecidos\": 5, \"codigo region\": 15}, {\"date\": \"2020-04-14\", \"region\": \"Arica y Parinacota\", \"fallecidos\": 1, \"codigo region\": 0}, {\"date\": \"2020-04-14\", \"region\": \"Tarapac\\u00e1\", \"fallecidos\": 0, \"codigo region\": 1}, {\"date\": \"2020-04-14\", \"region\": \"Antofagasta\", \"fallecidos\": 1, \"codigo region\": 2}, {\"date\": \"2020-04-14\", \"region\": \"Atacama\", \"fallecidos\": 0, \"codigo region\": 3}, {\"date\": \"2020-04-14\", \"region\": \"Coquimbo\", \"fallecidos\": 0, \"codigo region\": 4}, {\"date\": \"2020-04-14\", \"region\": \"Valpara\\u00edso\", \"fallecidos\": 2, \"codigo region\": 5}, {\"date\": \"2020-04-14\", \"region\": \"Metropolitana\", \"fallecidos\": 40, \"codigo region\": 6}, {\"date\": \"2020-04-14\", \"region\": \"O\\u2019Higgins\", \"fallecidos\": 0, \"codigo region\": 7}, {\"date\": \"2020-04-14\", \"region\": \"Maule\", \"fallecidos\": 4, \"codigo region\": 8}, {\"date\": \"2020-04-14\", \"region\": \"\\u00d1uble\", \"fallecidos\": 8, \"codigo region\": 9}, {\"date\": \"2020-04-14\", \"region\": \"Biob\\u00edo\", \"fallecidos\": 2, \"codigo region\": 10}, {\"date\": \"2020-04-14\", \"region\": \"Araucan\\u00eda\", \"fallecidos\": 20, \"codigo region\": 11}, {\"date\": \"2020-04-14\", \"region\": \"Los R\\u00edos\", \"fallecidos\": 3, \"codigo region\": 12}, {\"date\": \"2020-04-14\", \"region\": \"Los Lagos\", \"fallecidos\": 5, \"codigo region\": 13}, {\"date\": \"2020-04-14\", \"region\": \"Ays\\u00e9n\", \"fallecidos\": 0, \"codigo region\": 14}, {\"date\": \"2020-04-14\", \"region\": \"Magallanes\", \"fallecidos\": 6, \"codigo region\": 15}, {\"date\": \"2020-04-15\", \"region\": \"Arica y Parinacota\", \"fallecidos\": 1, \"codigo region\": 0}, {\"date\": \"2020-04-15\", \"region\": \"Tarapac\\u00e1\", \"fallecidos\": 0, \"codigo region\": 1}, {\"date\": \"2020-04-15\", \"region\": \"Antofagasta\", \"fallecidos\": 1, \"codigo region\": 2}, {\"date\": \"2020-04-15\", \"region\": \"Atacama\", \"fallecidos\": 0, \"codigo region\": 3}, {\"date\": \"2020-04-15\", \"region\": \"Coquimbo\", \"fallecidos\": 0, \"codigo region\": 4}, {\"date\": \"2020-04-15\", \"region\": \"Valpara\\u00edso\", \"fallecidos\": 2, \"codigo region\": 5}, {\"date\": \"2020-04-15\", \"region\": \"Metropolitana\", \"fallecidos\": 41, \"codigo region\": 6}, {\"date\": \"2020-04-15\", \"region\": \"O\\u2019Higgins\", \"fallecidos\": 0, \"codigo region\": 7}, {\"date\": \"2020-04-15\", \"region\": \"Maule\", \"fallecidos\": 4, \"codigo region\": 8}, {\"date\": \"2020-04-15\", \"region\": \"\\u00d1uble\", \"fallecidos\": 8, \"codigo region\": 9}, {\"date\": \"2020-04-15\", \"region\": \"Biob\\u00edo\", \"fallecidos\": 2, \"codigo region\": 10}, {\"date\": \"2020-04-15\", \"region\": \"Araucan\\u00eda\", \"fallecidos\": 21, \"codigo region\": 11}, {\"date\": \"2020-04-15\", \"region\": \"Los R\\u00edos\", \"fallecidos\": 3, \"codigo region\": 12}, {\"date\": \"2020-04-15\", \"region\": \"Los Lagos\", \"fallecidos\": 5, \"codigo region\": 13}, {\"date\": \"2020-04-15\", \"region\": \"Ays\\u00e9n\", \"fallecidos\": 0, \"codigo region\": 14}, {\"date\": \"2020-04-15\", \"region\": \"Magallanes\", \"fallecidos\": 6, \"codigo region\": 15}, {\"date\": \"2020-04-16\", \"region\": \"Arica y Parinacota\", \"fallecidos\": 1, \"codigo region\": 0}, {\"date\": \"2020-04-16\", \"region\": \"Tarapac\\u00e1\", \"fallecidos\": 0, \"codigo region\": 1}, {\"date\": \"2020-04-16\", \"region\": \"Antofagasta\", \"fallecidos\": 1, \"codigo region\": 2}, {\"date\": \"2020-04-16\", \"region\": \"Atacama\", \"fallecidos\": 0, \"codigo region\": 3}, {\"date\": \"2020-04-16\", \"region\": \"Coquimbo\", \"fallecidos\": 0, \"codigo region\": 4}, {\"date\": \"2020-04-16\", \"region\": \"Valpara\\u00edso\", \"fallecidos\": 4, \"codigo region\": 5}, {\"date\": \"2020-04-16\", \"region\": \"Metropolitana\", \"fallecidos\": 48, \"codigo region\": 6}, {\"date\": \"2020-04-16\", \"region\": \"O\\u2019Higgins\", \"fallecidos\": 0, \"codigo region\": 7}, {\"date\": \"2020-04-16\", \"region\": \"Maule\", \"fallecidos\": 4, \"codigo region\": 8}, {\"date\": \"2020-04-16\", \"region\": \"\\u00d1uble\", \"fallecidos\": 10, \"codigo region\": 9}, {\"date\": \"2020-04-16\", \"region\": \"Biob\\u00edo\", \"fallecidos\": 2, \"codigo region\": 10}, {\"date\": \"2020-04-16\", \"region\": \"Araucan\\u00eda\", \"fallecidos\": 21, \"codigo region\": 11}, {\"date\": \"2020-04-16\", \"region\": \"Los R\\u00edos\", \"fallecidos\": 3, \"codigo region\": 12}, {\"date\": \"2020-04-16\", \"region\": \"Los Lagos\", \"fallecidos\": 5, \"codigo region\": 13}, {\"date\": \"2020-04-16\", \"region\": \"Ays\\u00e9n\", \"fallecidos\": 0, \"codigo region\": 14}, {\"date\": \"2020-04-16\", \"region\": \"Magallanes\", \"fallecidos\": 6, \"codigo region\": 15}, {\"date\": \"2020-04-17\", \"region\": \"Arica y Parinacota\", \"fallecidos\": 2, \"codigo region\": 0}, {\"date\": \"2020-04-17\", \"region\": \"Tarapac\\u00e1\", \"fallecidos\": 0, \"codigo region\": 1}, {\"date\": \"2020-04-17\", \"region\": \"Antofagasta\", \"fallecidos\": 1, \"codigo region\": 2}, {\"date\": \"2020-04-17\", \"region\": \"Atacama\", \"fallecidos\": 0, \"codigo region\": 3}, {\"date\": \"2020-04-17\", \"region\": \"Coquimbo\", \"fallecidos\": 0, \"codigo region\": 4}, {\"date\": \"2020-04-17\", \"region\": \"Valpara\\u00edso\", \"fallecidos\": 4, \"codigo region\": 5}, {\"date\": \"2020-04-17\", \"region\": \"Metropolitana\", \"fallecidos\": 51, \"codigo region\": 6}, {\"date\": \"2020-04-17\", \"region\": \"O\\u2019Higgins\", \"fallecidos\": 0, \"codigo region\": 7}, {\"date\": \"2020-04-17\", \"region\": \"Maule\", \"fallecidos\": 7, \"codigo region\": 8}, {\"date\": \"2020-04-17\", \"region\": \"\\u00d1uble\", \"fallecidos\": 11, \"codigo region\": 9}, {\"date\": \"2020-04-17\", \"region\": \"Biob\\u00edo\", \"fallecidos\": 3, \"codigo region\": 10}, {\"date\": \"2020-04-17\", \"region\": \"Araucan\\u00eda\", \"fallecidos\": 22, \"codigo region\": 11}, {\"date\": \"2020-04-17\", \"region\": \"Los R\\u00edos\", \"fallecidos\": 3, \"codigo region\": 12}, {\"date\": \"2020-04-17\", \"region\": \"Los Lagos\", \"fallecidos\": 6, \"codigo region\": 13}, {\"date\": \"2020-04-17\", \"region\": \"Ays\\u00e9n\", \"fallecidos\": 0, \"codigo region\": 14}, {\"date\": \"2020-04-17\", \"region\": \"Magallanes\", \"fallecidos\": 6, \"codigo region\": 15}, {\"date\": \"2020-04-18\", \"region\": \"Arica y Parinacota\", \"fallecidos\": 2, \"codigo region\": 0}, {\"date\": \"2020-04-18\", \"region\": \"Tarapac\\u00e1\", \"fallecidos\": 0, \"codigo region\": 1}, {\"date\": \"2020-04-18\", \"region\": \"Antofagasta\", \"fallecidos\": 1, \"codigo region\": 2}, {\"date\": \"2020-04-18\", \"region\": \"Atacama\", \"fallecidos\": 0, \"codigo region\": 3}, {\"date\": \"2020-04-18\", \"region\": \"Coquimbo\", \"fallecidos\": 0, \"codigo region\": 4}, {\"date\": \"2020-04-18\", \"region\": \"Valpara\\u00edso\", \"fallecidos\": 4, \"codigo region\": 5}, {\"date\": \"2020-04-18\", \"region\": \"Metropolitana\", \"fallecidos\": 58, \"codigo region\": 6}, {\"date\": \"2020-04-18\", \"region\": \"O\\u2019Higgins\", \"fallecidos\": 0, \"codigo region\": 7}, {\"date\": \"2020-04-18\", \"region\": \"Maule\", \"fallecidos\": 8, \"codigo region\": 8}, {\"date\": \"2020-04-18\", \"region\": \"\\u00d1uble\", \"fallecidos\": 12, \"codigo region\": 9}, {\"date\": \"2020-04-18\", \"region\": \"Biob\\u00edo\", \"fallecidos\": 3, \"codigo region\": 10}, {\"date\": \"2020-04-18\", \"region\": \"Araucan\\u00eda\", \"fallecidos\": 23, \"codigo region\": 11}, {\"date\": \"2020-04-18\", \"region\": \"Los R\\u00edos\", \"fallecidos\": 3, \"codigo region\": 12}, {\"date\": \"2020-04-18\", \"region\": \"Los Lagos\", \"fallecidos\": 6, \"codigo region\": 13}, {\"date\": \"2020-04-18\", \"region\": \"Ays\\u00e9n\", \"fallecidos\": 0, \"codigo region\": 14}, {\"date\": \"2020-04-18\", \"region\": \"Magallanes\", \"fallecidos\": 6, \"codigo region\": 15}, {\"date\": \"2020-04-19\", \"region\": \"Arica y Parinacota\", \"fallecidos\": 2, \"codigo region\": 0}, {\"date\": \"2020-04-19\", \"region\": \"Tarapac\\u00e1\", \"fallecidos\": 0, \"codigo region\": 1}, {\"date\": \"2020-04-19\", \"region\": \"Antofagasta\", \"fallecidos\": 1, \"codigo region\": 2}, {\"date\": \"2020-04-19\", \"region\": \"Atacama\", \"fallecidos\": 0, \"codigo region\": 3}, {\"date\": \"2020-04-19\", \"region\": \"Coquimbo\", \"fallecidos\": 0, \"codigo region\": 4}, {\"date\": \"2020-04-19\", \"region\": \"Valpara\\u00edso\", \"fallecidos\": 5, \"codigo region\": 5}, {\"date\": \"2020-04-19\", \"region\": \"Metropolitana\", \"fallecidos\": 63, \"codigo region\": 6}, {\"date\": \"2020-04-19\", \"region\": \"O\\u2019Higgins\", \"fallecidos\": 0, \"codigo region\": 7}, {\"date\": \"2020-04-19\", \"region\": \"Maule\", \"fallecidos\": 8, \"codigo region\": 8}, {\"date\": \"2020-04-19\", \"region\": \"\\u00d1uble\", \"fallecidos\": 13, \"codigo region\": 9}, {\"date\": \"2020-04-19\", \"region\": \"Biob\\u00edo\", \"fallecidos\": 3, \"codigo region\": 10}, {\"date\": \"2020-04-19\", \"region\": \"Araucan\\u00eda\", \"fallecidos\": 23, \"codigo region\": 11}, {\"date\": \"2020-04-19\", \"region\": \"Los R\\u00edos\", \"fallecidos\": 3, \"codigo region\": 12}, {\"date\": \"2020-04-19\", \"region\": \"Los Lagos\", \"fallecidos\": 6, \"codigo region\": 13}, {\"date\": \"2020-04-19\", \"region\": \"Ays\\u00e9n\", \"fallecidos\": 0, \"codigo region\": 14}, {\"date\": \"2020-04-19\", \"region\": \"Magallanes\", \"fallecidos\": 6, \"codigo region\": 15}, {\"date\": \"2020-04-20\", \"region\": \"Arica y Parinacota\", \"fallecidos\": 2, \"codigo region\": 0}, {\"date\": \"2020-04-20\", \"region\": \"Tarapac\\u00e1\", \"fallecidos\": 0, \"codigo region\": 1}, {\"date\": \"2020-04-20\", \"region\": \"Antofagasta\", \"fallecidos\": 1, \"codigo region\": 2}, {\"date\": \"2020-04-20\", \"region\": \"Atacama\", \"fallecidos\": 0, \"codigo region\": 3}, {\"date\": \"2020-04-20\", \"region\": \"Coquimbo\", \"fallecidos\": 0, \"codigo region\": 4}, {\"date\": \"2020-04-20\", \"region\": \"Valpara\\u00edso\", \"fallecidos\": 5, \"codigo region\": 5}, {\"date\": \"2020-04-20\", \"region\": \"Metropolitana\", \"fallecidos\": 67, \"codigo region\": 6}, {\"date\": \"2020-04-20\", \"region\": \"O\\u2019Higgins\", \"fallecidos\": 0, \"codigo region\": 7}, {\"date\": \"2020-04-20\", \"region\": \"Maule\", \"fallecidos\": 10, \"codigo region\": 8}, {\"date\": \"2020-04-20\", \"region\": \"\\u00d1uble\", \"fallecidos\": 13, \"codigo region\": 9}, {\"date\": \"2020-04-20\", \"region\": \"Biob\\u00edo\", \"fallecidos\": 3, \"codigo region\": 10}, {\"date\": \"2020-04-20\", \"region\": \"Araucan\\u00eda\", \"fallecidos\": 23, \"codigo region\": 11}, {\"date\": \"2020-04-20\", \"region\": \"Los R\\u00edos\", \"fallecidos\": 3, \"codigo region\": 12}, {\"date\": \"2020-04-20\", \"region\": \"Los Lagos\", \"fallecidos\": 6, \"codigo region\": 13}, {\"date\": \"2020-04-20\", \"region\": \"Ays\\u00e9n\", \"fallecidos\": 0, \"codigo region\": 14}, {\"date\": \"2020-04-20\", \"region\": \"Magallanes\", \"fallecidos\": 6, \"codigo region\": 15}, {\"date\": \"2020-04-21\", \"region\": \"Arica y Parinacota\", \"fallecidos\": 2, \"codigo region\": 0}, {\"date\": \"2020-04-21\", \"region\": \"Tarapac\\u00e1\", \"fallecidos\": 0, \"codigo region\": 1}, {\"date\": \"2020-04-21\", \"region\": \"Antofagasta\", \"fallecidos\": 1, \"codigo region\": 2}, {\"date\": \"2020-04-21\", \"region\": \"Atacama\", \"fallecidos\": 0, \"codigo region\": 3}, {\"date\": \"2020-04-21\", \"region\": \"Coquimbo\", \"fallecidos\": 0, \"codigo region\": 4}, {\"date\": \"2020-04-21\", \"region\": \"Valpara\\u00edso\", \"fallecidos\": 6, \"codigo region\": 5}, {\"date\": \"2020-04-21\", \"region\": \"Metropolitana\", \"fallecidos\": 69, \"codigo region\": 6}, {\"date\": \"2020-04-21\", \"region\": \"O\\u2019Higgins\", \"fallecidos\": 1, \"codigo region\": 7}, {\"date\": \"2020-04-21\", \"region\": \"Maule\", \"fallecidos\": 10, \"codigo region\": 8}, {\"date\": \"2020-04-21\", \"region\": \"\\u00d1uble\", \"fallecidos\": 13, \"codigo region\": 9}, {\"date\": \"2020-04-21\", \"region\": \"Biob\\u00edo\", \"fallecidos\": 4, \"codigo region\": 10}, {\"date\": \"2020-04-21\", \"region\": \"Araucan\\u00eda\", \"fallecidos\": 25, \"codigo region\": 11}, {\"date\": \"2020-04-21\", \"region\": \"Los R\\u00edos\", \"fallecidos\": 3, \"codigo region\": 12}, {\"date\": \"2020-04-21\", \"region\": \"Los Lagos\", \"fallecidos\": 6, \"codigo region\": 13}, {\"date\": \"2020-04-21\", \"region\": \"Ays\\u00e9n\", \"fallecidos\": 0, \"codigo region\": 14}, {\"date\": \"2020-04-21\", \"region\": \"Magallanes\", \"fallecidos\": 7, \"codigo region\": 15}, {\"date\": \"2020-04-22\", \"region\": \"Arica y Parinacota\", \"fallecidos\": 2, \"codigo region\": 0}, {\"date\": \"2020-04-22\", \"region\": \"Tarapac\\u00e1\", \"fallecidos\": 0, \"codigo region\": 1}, {\"date\": \"2020-04-22\", \"region\": \"Antofagasta\", \"fallecidos\": 2, \"codigo region\": 2}, {\"date\": \"2020-04-22\", \"region\": \"Atacama\", \"fallecidos\": 0, \"codigo region\": 3}, {\"date\": \"2020-04-22\", \"region\": \"Coquimbo\", \"fallecidos\": 0, \"codigo region\": 4}, {\"date\": \"2020-04-22\", \"region\": \"Valpara\\u00edso\", \"fallecidos\": 7, \"codigo region\": 5}, {\"date\": \"2020-04-22\", \"region\": \"Metropolitana\", \"fallecidos\": 78, \"codigo region\": 6}, {\"date\": \"2020-04-22\", \"region\": \"O\\u2019Higgins\", \"fallecidos\": 1, \"codigo region\": 7}, {\"date\": \"2020-04-22\", \"region\": \"Maule\", \"fallecidos\": 10, \"codigo region\": 8}, {\"date\": \"2020-04-22\", \"region\": \"\\u00d1uble\", \"fallecidos\": 13, \"codigo region\": 9}, {\"date\": \"2020-04-22\", \"region\": \"Biob\\u00edo\", \"fallecidos\": 5, \"codigo region\": 10}, {\"date\": \"2020-04-22\", \"region\": \"Araucan\\u00eda\", \"fallecidos\": 26, \"codigo region\": 11}, {\"date\": \"2020-04-22\", \"region\": \"Los R\\u00edos\", \"fallecidos\": 3, \"codigo region\": 12}, {\"date\": \"2020-04-22\", \"region\": \"Los Lagos\", \"fallecidos\": 6, \"codigo region\": 13}, {\"date\": \"2020-04-22\", \"region\": \"Ays\\u00e9n\", \"fallecidos\": 0, \"codigo region\": 14}, {\"date\": \"2020-04-22\", \"region\": \"Magallanes\", \"fallecidos\": 7, \"codigo region\": 15}, {\"date\": \"2020-04-23\", \"region\": \"Arica y Parinacota\", \"fallecidos\": 2, \"codigo region\": 0}, {\"date\": \"2020-04-23\", \"region\": \"Tarapac\\u00e1\", \"fallecidos\": 0, \"codigo region\": 1}, {\"date\": \"2020-04-23\", \"region\": \"Antofagasta\", \"fallecidos\": 2, \"codigo region\": 2}, {\"date\": \"2020-04-23\", \"region\": \"Atacama\", \"fallecidos\": 0, \"codigo region\": 3}, {\"date\": \"2020-04-23\", \"region\": \"Coquimbo\", \"fallecidos\": 0, \"codigo region\": 4}, {\"date\": \"2020-04-23\", \"region\": \"Valpara\\u00edso\", \"fallecidos\": 7, \"codigo region\": 5}, {\"date\": \"2020-04-23\", \"region\": \"Metropolitana\", \"fallecidos\": 85, \"codigo region\": 6}, {\"date\": \"2020-04-23\", \"region\": \"O\\u2019Higgins\", \"fallecidos\": 1, \"codigo region\": 7}, {\"date\": \"2020-04-23\", \"region\": \"Maule\", \"fallecidos\": 10, \"codigo region\": 8}, {\"date\": \"2020-04-23\", \"region\": \"\\u00d1uble\", \"fallecidos\": 13, \"codigo region\": 9}, {\"date\": \"2020-04-23\", \"region\": \"Biob\\u00edo\", \"fallecidos\": 5, \"codigo region\": 10}, {\"date\": \"2020-04-23\", \"region\": \"Araucan\\u00eda\", \"fallecidos\": 26, \"codigo region\": 11}, {\"date\": \"2020-04-23\", \"region\": \"Los R\\u00edos\", \"fallecidos\": 3, \"codigo region\": 12}, {\"date\": \"2020-04-23\", \"region\": \"Los Lagos\", \"fallecidos\": 7, \"codigo region\": 13}, {\"date\": \"2020-04-23\", \"region\": \"Ays\\u00e9n\", \"fallecidos\": 0, \"codigo region\": 14}, {\"date\": \"2020-04-23\", \"region\": \"Magallanes\", \"fallecidos\": 7, \"codigo region\": 15}, {\"date\": \"2020-04-24\", \"region\": \"Arica y Parinacota\", \"fallecidos\": 3, \"codigo region\": 0}, {\"date\": \"2020-04-24\", \"region\": \"Tarapac\\u00e1\", \"fallecidos\": 0, \"codigo region\": 1}, {\"date\": \"2020-04-24\", \"region\": \"Antofagasta\", \"fallecidos\": 2, \"codigo region\": 2}, {\"date\": \"2020-04-24\", \"region\": \"Atacama\", \"fallecidos\": 0, \"codigo region\": 3}, {\"date\": \"2020-04-24\", \"region\": \"Coquimbo\", \"fallecidos\": 0, \"codigo region\": 4}, {\"date\": \"2020-04-24\", \"region\": \"Valpara\\u00edso\", \"fallecidos\": 8, \"codigo region\": 5}, {\"date\": \"2020-04-24\", \"region\": \"Metropolitana\", \"fallecidos\": 86, \"codigo region\": 6}, {\"date\": \"2020-04-24\", \"region\": \"O\\u2019Higgins\", \"fallecidos\": 1, \"codigo region\": 7}, {\"date\": \"2020-04-24\", \"region\": \"Maule\", \"fallecidos\": 10, \"codigo region\": 8}, {\"date\": \"2020-04-24\", \"region\": \"\\u00d1uble\", \"fallecidos\": 14, \"codigo region\": 9}, {\"date\": \"2020-04-24\", \"region\": \"Biob\\u00edo\", \"fallecidos\": 5, \"codigo region\": 10}, {\"date\": \"2020-04-24\", \"region\": \"Araucan\\u00eda\", \"fallecidos\": 26, \"codigo region\": 11}, {\"date\": \"2020-04-24\", \"region\": \"Los R\\u00edos\", \"fallecidos\": 3, \"codigo region\": 12}, {\"date\": \"2020-04-24\", \"region\": \"Los Lagos\", \"fallecidos\": 8, \"codigo region\": 13}, {\"date\": \"2020-04-24\", \"region\": \"Ays\\u00e9n\", \"fallecidos\": 0, \"codigo region\": 14}, {\"date\": \"2020-04-24\", \"region\": \"Magallanes\", \"fallecidos\": 8, \"codigo region\": 15}, {\"date\": \"2020-04-25\", \"region\": \"Arica y Parinacota\", \"fallecidos\": 3, \"codigo region\": 0}, {\"date\": \"2020-04-25\", \"region\": \"Tarapac\\u00e1\", \"fallecidos\": 1, \"codigo region\": 1}, {\"date\": \"2020-04-25\", \"region\": \"Antofagasta\", \"fallecidos\": 3, \"codigo region\": 2}, {\"date\": \"2020-04-25\", \"region\": \"Atacama\", \"fallecidos\": 0, \"codigo region\": 3}, {\"date\": \"2020-04-25\", \"region\": \"Coquimbo\", \"fallecidos\": 0, \"codigo region\": 4}, {\"date\": \"2020-04-25\", \"region\": \"Valpara\\u00edso\", \"fallecidos\": 9, \"codigo region\": 5}, {\"date\": \"2020-04-25\", \"region\": \"Metropolitana\", \"fallecidos\": 89, \"codigo region\": 6}, {\"date\": \"2020-04-25\", \"region\": \"O\\u2019Higgins\", \"fallecidos\": 1, \"codigo region\": 7}, {\"date\": \"2020-04-25\", \"region\": \"Maule\", \"fallecidos\": 10, \"codigo region\": 8}, {\"date\": \"2020-04-25\", \"region\": \"\\u00d1uble\", \"fallecidos\": 14, \"codigo region\": 9}, {\"date\": \"2020-04-25\", \"region\": \"Biob\\u00edo\", \"fallecidos\": 5, \"codigo region\": 10}, {\"date\": \"2020-04-25\", \"region\": \"Araucan\\u00eda\", \"fallecidos\": 27, \"codigo region\": 11}, {\"date\": \"2020-04-25\", \"region\": \"Los R\\u00edos\", \"fallecidos\": 3, \"codigo region\": 12}, {\"date\": \"2020-04-25\", \"region\": \"Los Lagos\", \"fallecidos\": 8, \"codigo region\": 13}, {\"date\": \"2020-04-25\", \"region\": \"Ays\\u00e9n\", \"fallecidos\": 0, \"codigo region\": 14}, {\"date\": \"2020-04-25\", \"region\": \"Magallanes\", \"fallecidos\": 8, \"codigo region\": 15}, {\"date\": \"2020-04-26\", \"region\": \"Arica y Parinacota\", \"fallecidos\": 3, \"codigo region\": 0}, {\"date\": \"2020-04-26\", \"region\": \"Tarapac\\u00e1\", \"fallecidos\": 1, \"codigo region\": 1}, {\"date\": \"2020-04-26\", \"region\": \"Antofagasta\", \"fallecidos\": 4, \"codigo region\": 2}, {\"date\": \"2020-04-26\", \"region\": \"Atacama\", \"fallecidos\": 0, \"codigo region\": 3}, {\"date\": \"2020-04-26\", \"region\": \"Coquimbo\", \"fallecidos\": 0, \"codigo region\": 4}, {\"date\": \"2020-04-26\", \"region\": \"Valpara\\u00edso\", \"fallecidos\": 9, \"codigo region\": 5}, {\"date\": \"2020-04-26\", \"region\": \"Metropolitana\", \"fallecidos\": 91, \"codigo region\": 6}, {\"date\": \"2020-04-26\", \"region\": \"O\\u2019Higgins\", \"fallecidos\": 1, \"codigo region\": 7}, {\"date\": \"2020-04-26\", \"region\": \"Maule\", \"fallecidos\": 11, \"codigo region\": 8}, {\"date\": \"2020-04-26\", \"region\": \"\\u00d1uble\", \"fallecidos\": 14, \"codigo region\": 9}, {\"date\": \"2020-04-26\", \"region\": \"Biob\\u00edo\", \"fallecidos\": 6, \"codigo region\": 10}, {\"date\": \"2020-04-26\", \"region\": \"Araucan\\u00eda\", \"fallecidos\": 29, \"codigo region\": 11}, {\"date\": \"2020-04-26\", \"region\": \"Los R\\u00edos\", \"fallecidos\": 3, \"codigo region\": 12}, {\"date\": \"2020-04-26\", \"region\": \"Los Lagos\", \"fallecidos\": 8, \"codigo region\": 13}, {\"date\": \"2020-04-26\", \"region\": \"Ays\\u00e9n\", \"fallecidos\": 0, \"codigo region\": 14}, {\"date\": \"2020-04-26\", \"region\": \"Magallanes\", \"fallecidos\": 9, \"codigo region\": 15}]}}, {\"mode\": \"vega-lite\"});\n",
       "</script>"
      ],
      "text/plain": [
       "alt.HConcatChart(...)"
      ]
     },
     "execution_count": 75,
     "metadata": {},
     "output_type": "execute_result"
    }
   ],
   "source": [
    "#hide_input\n",
    "input_dropdown = alt.binding_select(options=data['region'].unique())\n",
    "selection1 = alt.selection_single(fields=['region'], bind=input_dropdown, name=' ')\n",
    "selection2 = alt.selection_multi(fields=['region'], on='mouseover')\n",
    "\n",
    "color = alt.condition(selection1 | selection2,\n",
    "                    alt.Color('region:N', legend=None),\n",
    "                    alt.value('lightgray'))\n",
    "\n",
    "bars = alt.Chart(data).mark_bar().encode(\n",
    "    x=alt.X('date:O', axis=alt.Axis(title='Fecha (año-mes-día)')),\n",
    "    y=alt.Y('pacientes'),\n",
    "    color=color,\n",
    "    tooltip=['date', 'region', 'pacientes'],\n",
    "    order=alt.Order(\n",
    "    # Sort the segments of the bars by this field\n",
    "    'codigo region',\n",
    "    sort='descending'\n",
    "    )\n",
    "    ).properties(\n",
    "    title=f'COVID-19 en Chile: Pacientes en UCI por región'\n",
    ").add_selection(\n",
    "    selection1, selection2\n",
    ").transform_filter(\n",
    "    selection1\n",
    ")\n",
    "\n",
    "legend = alt.Chart(new_data).mark_point().encode(\n",
    "    y=alt.Y('region:N', axis=alt.Axis(orient='right'), sort=regiones),\n",
    "    color=color\n",
    ").add_selection(\n",
    "    selection1, selection2\n",
    ")\n",
    "\n",
    "bars.properties(width=600, height=400) | legend"
   ]
  },
  {
   "cell_type": "markdown",
   "metadata": {},
   "source": [
    "Fuente: [Ministerio de Ciencia](https://github.com/MinCiencia/Datos-COVID19)"
   ]
  },
  {
   "cell_type": "markdown",
   "metadata": {},
   "source": [
    "# Casos confirmados por región"
   ]
  },
  {
   "cell_type": "code",
   "execution_count": 76,
   "metadata": {},
   "outputs": [],
   "source": [
    "#hide\n",
    "data_raw = pd.read_csv(\n",
    "    \"https://raw.githubusercontent.com/MinCiencia/Datos-COVID19/master/output/producto3/CasosTotalesCumulativo.csv\",\n",
    "    index_col='Region')"
   ]
  },
  {
   "cell_type": "code",
   "execution_count": 77,
   "metadata": {},
   "outputs": [],
   "source": [
    "#hide\n",
    "data_raw = data_raw.drop('Total')\n",
    "data_raw = data_raw.reset_index()"
   ]
  },
  {
   "cell_type": "code",
   "execution_count": 78,
   "metadata": {},
   "outputs": [
    {
     "data": {
      "text/plain": [
       "array(['Arica y Parinacota', 'Tarapacá', 'Antofagasta', 'Atacama',\n",
       "       'Coquimbo', 'Valparaíso', 'Metropolitana', 'O’Higgins', 'Maule',\n",
       "       'Ñuble', 'Biobío', 'Araucanía', 'Los Ríos', 'Los Lagos', 'Aysén',\n",
       "       'Magallanes'], dtype=object)"
      ]
     },
     "execution_count": 78,
     "metadata": {},
     "output_type": "execute_result"
    }
   ],
   "source": [
    "#hide\n",
    "regiones = data_raw[\"Region\"].values\n",
    "regiones"
   ]
  },
  {
   "cell_type": "code",
   "execution_count": 79,
   "metadata": {},
   "outputs": [],
   "source": [
    "#hide\n",
    "data_raw = data_raw[['Region', today]]"
   ]
  },
  {
   "cell_type": "code",
   "execution_count": 80,
   "metadata": {},
   "outputs": [],
   "source": [
    "#hide\n",
    "today_es_format = update_date.strftime('%d/%m/%Y')"
   ]
  },
  {
   "cell_type": "code",
   "execution_count": 81,
   "metadata": {},
   "outputs": [
    {
     "data": {
      "text/html": [
       "\n",
       "<div id=\"altair-viz-32bf4b22e50e461a894e40e07d199a8a\"></div>\n",
       "<script type=\"text/javascript\">\n",
       "  (function(spec, embedOpt){\n",
       "    let outputDiv = document.currentScript.previousElementSibling;\n",
       "    if (outputDiv.id !== \"altair-viz-32bf4b22e50e461a894e40e07d199a8a\") {\n",
       "      outputDiv = document.getElementById(\"altair-viz-32bf4b22e50e461a894e40e07d199a8a\");\n",
       "    }\n",
       "    const paths = {\n",
       "      \"vega\": \"https://cdn.jsdelivr.net/npm//vega@5?noext\",\n",
       "      \"vega-lib\": \"https://cdn.jsdelivr.net/npm//vega-lib?noext\",\n",
       "      \"vega-lite\": \"https://cdn.jsdelivr.net/npm//vega-lite@4.8.1?noext\",\n",
       "      \"vega-embed\": \"https://cdn.jsdelivr.net/npm//vega-embed@6?noext\",\n",
       "    };\n",
       "\n",
       "    function loadScript(lib) {\n",
       "      return new Promise(function(resolve, reject) {\n",
       "        var s = document.createElement('script');\n",
       "        s.src = paths[lib];\n",
       "        s.async = true;\n",
       "        s.onload = () => resolve(paths[lib]);\n",
       "        s.onerror = () => reject(`Error loading script: ${paths[lib]}`);\n",
       "        document.getElementsByTagName(\"head\")[0].appendChild(s);\n",
       "      });\n",
       "    }\n",
       "\n",
       "    function showError(err) {\n",
       "      outputDiv.innerHTML = `<div class=\"error\" style=\"color:red;\">${err}</div>`;\n",
       "      throw err;\n",
       "    }\n",
       "\n",
       "    function displayChart(vegaEmbed) {\n",
       "      vegaEmbed(outputDiv, spec, embedOpt)\n",
       "        .catch(err => showError(`Javascript Error: ${err.message}<br>This usually means there's a typo in your chart specification. See the javascript console for the full traceback.`));\n",
       "    }\n",
       "\n",
       "    if(typeof define === \"function\" && define.amd) {\n",
       "      requirejs.config({paths});\n",
       "      require([\"vega-embed\"], displayChart, err => showError(`Error loading script: ${err.message}`));\n",
       "    } else if (typeof vegaEmbed === \"function\") {\n",
       "      displayChart(vegaEmbed);\n",
       "    } else {\n",
       "      loadScript(\"vega\")\n",
       "        .then(() => loadScript(\"vega-lite\"))\n",
       "        .then(() => loadScript(\"vega-embed\"))\n",
       "        .catch(showError)\n",
       "        .then(() => displayChart(vegaEmbed));\n",
       "    }\n",
       "  })({\"config\": {\"view\": {\"continuousWidth\": 400, \"continuousHeight\": 300}}, \"layer\": [{\"mark\": \"bar\", \"encoding\": {\"tooltip\": {\"type\": \"quantitative\", \"field\": \"2020-04-26\"}, \"x\": {\"type\": \"quantitative\", \"axis\": {\"title\": \"Casos confirmados\"}, \"field\": \"2020-04-26\"}, \"y\": {\"type\": \"nominal\", \"field\": \"Region\", \"sort\": \"-x\"}}, \"title\": \"COVID-19 en Chile: Casos confirmados por regi\\u00f3n al 26/04/2020\"}, {\"mark\": {\"type\": \"text\", \"align\": \"left\", \"baseline\": \"middle\", \"dx\": 3}, \"encoding\": {\"text\": {\"type\": \"quantitative\", \"field\": \"2020-04-26\"}, \"tooltip\": {\"type\": \"quantitative\", \"field\": \"2020-04-26\"}, \"x\": {\"type\": \"quantitative\", \"axis\": {\"title\": \"Casos confirmados\"}, \"field\": \"2020-04-26\"}, \"y\": {\"type\": \"nominal\", \"field\": \"Region\", \"sort\": \"-x\"}}, \"title\": \"COVID-19 en Chile: Casos confirmados por regi\\u00f3n al 26/04/2020\"}], \"data\": {\"name\": \"data-abfab1245eb06a7e698becd29b9d2a12\"}, \"height\": 300, \"width\": 600, \"$schema\": \"https://vega.github.io/schema/vega-lite/v4.8.1.json\", \"datasets\": {\"data-abfab1245eb06a7e698becd29b9d2a12\": [{\"Region\": \"Arica y Parinacota\", \"2020-04-26\": 252}, {\"Region\": \"Tarapac\\u00e1\", \"2020-04-26\": 156}, {\"Region\": \"Antofagasta\", \"2020-04-26\": 443}, {\"Region\": \"Atacama\", \"2020-04-26\": 29}, {\"Region\": \"Coquimbo\", \"2020-04-26\": 73}, {\"Region\": \"Valpara\\u00edso\", \"2020-04-26\": 460}, {\"Region\": \"Metropolitana\", \"2020-04-26\": 7496}, {\"Region\": \"O\\u2019Higgins\", \"2020-04-26\": 92}, {\"Region\": \"Maule\", \"2020-04-26\": 354}, {\"Region\": \"\\u00d1uble\", \"2020-04-26\": 731}, {\"Region\": \"Biob\\u00edo\", \"2020-04-26\": 703}, {\"Region\": \"Araucan\\u00eda\", \"2020-04-26\": 1216}, {\"Region\": \"Los R\\u00edos\", \"2020-04-26\": 178}, {\"Region\": \"Los Lagos\", \"2020-04-26\": 473}, {\"Region\": \"Ays\\u00e9n\", \"2020-04-26\": 7}, {\"Region\": \"Magallanes\", \"2020-04-26\": 668}]}}, {\"mode\": \"vega-lite\"});\n",
       "</script>"
      ],
      "text/plain": [
       "alt.LayerChart(...)"
      ]
     },
     "execution_count": 81,
     "metadata": {},
     "output_type": "execute_result"
    }
   ],
   "source": [
    "#hide_input\n",
    "bars = alt.Chart(data_raw).mark_bar().encode(\n",
    "#     x = alt.X(today, scale=alt.Scale(domain=(0, 6500)), axis=alt.Axis(title='Casos confirmados')),\n",
    "    x = alt.X(today, axis=alt.Axis(title='Casos confirmados')),\n",
    "    y = alt.Y('Region:N', sort='-x'),\n",
    "    tooltip = today \n",
    ").properties(\n",
    "    title=f'COVID-19 en Chile: Casos confirmados por región al {today_es_format}'\n",
    ")\n",
    "\n",
    "text = bars.mark_text(\n",
    "    align='left',\n",
    "    baseline='middle',\n",
    "    dx=3  # Nudges text to right so it doesn't appear on top of the bar\n",
    ").encode(\n",
    "    text=today\n",
    ")\n",
    "\n",
    "(bars + text).properties(width=600, height=300)"
   ]
  },
  {
   "cell_type": "markdown",
   "metadata": {},
   "source": [
    "Fuente: [Ministerio de Ciencia](https://github.com/MinCiencia/Datos-COVID19)"
   ]
  },
  {
   "cell_type": "markdown",
   "metadata": {},
   "source": [
    "# Casos confirmados por región por cada 100.000 habitantes"
   ]
  },
  {
   "cell_type": "code",
   "execution_count": 82,
   "metadata": {},
   "outputs": [],
   "source": [
    "#hide\n",
    "tests_raw = pd.read_csv(\n",
    "    'https://raw.githubusercontent.com/MinCiencia/Datos-COVID19/master/output/producto7/PCR.csv',\n",
    "    index_col='Region')"
   ]
  },
  {
   "cell_type": "code",
   "execution_count": 83,
   "metadata": {},
   "outputs": [],
   "source": [
    "#hide\n",
    "data_raw[\"Tasa de casos\"] = 100000*data_raw[today]/tests_raw[\"Poblacion\"].values"
   ]
  },
  {
   "cell_type": "code",
   "execution_count": 84,
   "metadata": {},
   "outputs": [
    {
     "data": {
      "text/html": [
       "\n",
       "<div id=\"altair-viz-fa3240b11b9444abb8dd81164f3fe69f\"></div>\n",
       "<script type=\"text/javascript\">\n",
       "  (function(spec, embedOpt){\n",
       "    let outputDiv = document.currentScript.previousElementSibling;\n",
       "    if (outputDiv.id !== \"altair-viz-fa3240b11b9444abb8dd81164f3fe69f\") {\n",
       "      outputDiv = document.getElementById(\"altair-viz-fa3240b11b9444abb8dd81164f3fe69f\");\n",
       "    }\n",
       "    const paths = {\n",
       "      \"vega\": \"https://cdn.jsdelivr.net/npm//vega@5?noext\",\n",
       "      \"vega-lib\": \"https://cdn.jsdelivr.net/npm//vega-lib?noext\",\n",
       "      \"vega-lite\": \"https://cdn.jsdelivr.net/npm//vega-lite@4.8.1?noext\",\n",
       "      \"vega-embed\": \"https://cdn.jsdelivr.net/npm//vega-embed@6?noext\",\n",
       "    };\n",
       "\n",
       "    function loadScript(lib) {\n",
       "      return new Promise(function(resolve, reject) {\n",
       "        var s = document.createElement('script');\n",
       "        s.src = paths[lib];\n",
       "        s.async = true;\n",
       "        s.onload = () => resolve(paths[lib]);\n",
       "        s.onerror = () => reject(`Error loading script: ${paths[lib]}`);\n",
       "        document.getElementsByTagName(\"head\")[0].appendChild(s);\n",
       "      });\n",
       "    }\n",
       "\n",
       "    function showError(err) {\n",
       "      outputDiv.innerHTML = `<div class=\"error\" style=\"color:red;\">${err}</div>`;\n",
       "      throw err;\n",
       "    }\n",
       "\n",
       "    function displayChart(vegaEmbed) {\n",
       "      vegaEmbed(outputDiv, spec, embedOpt)\n",
       "        .catch(err => showError(`Javascript Error: ${err.message}<br>This usually means there's a typo in your chart specification. See the javascript console for the full traceback.`));\n",
       "    }\n",
       "\n",
       "    if(typeof define === \"function\" && define.amd) {\n",
       "      requirejs.config({paths});\n",
       "      require([\"vega-embed\"], displayChart, err => showError(`Error loading script: ${err.message}`));\n",
       "    } else if (typeof vegaEmbed === \"function\") {\n",
       "      displayChart(vegaEmbed);\n",
       "    } else {\n",
       "      loadScript(\"vega\")\n",
       "        .then(() => loadScript(\"vega-lite\"))\n",
       "        .then(() => loadScript(\"vega-embed\"))\n",
       "        .catch(showError)\n",
       "        .then(() => displayChart(vegaEmbed));\n",
       "    }\n",
       "  })({\"config\": {\"view\": {\"continuousWidth\": 400, \"continuousHeight\": 300}}, \"layer\": [{\"mark\": \"bar\", \"encoding\": {\"tooltip\": {\"type\": \"quantitative\", \"field\": \"Tasa de casos\"}, \"x\": {\"type\": \"quantitative\", \"axis\": {\"title\": \"Casos confirmados por cada 100.000 habitantes\"}, \"field\": \"Tasa de casos\", \"scale\": {\"domain\": [0, 340]}}, \"y\": {\"type\": \"nominal\", \"field\": \"Region\", \"sort\": \"-x\"}}, \"title\": \"COVID-19 en Chile: Casos confirmados por regi\\u00f3n por cada 100.000 habitantes al 26/04/2020\"}, {\"mark\": {\"type\": \"text\", \"align\": \"left\", \"baseline\": \"middle\", \"dx\": 3}, \"encoding\": {\"text\": {\"type\": \"quantitative\", \"field\": \"Tasa de casos\", \"format\": \",.2f\"}, \"tooltip\": {\"type\": \"quantitative\", \"field\": \"Tasa de casos\"}, \"x\": {\"type\": \"quantitative\", \"axis\": {\"title\": \"Casos confirmados por cada 100.000 habitantes\"}, \"field\": \"Tasa de casos\", \"scale\": {\"domain\": [0, 340]}}, \"y\": {\"type\": \"nominal\", \"field\": \"Region\", \"sort\": \"-x\"}}, \"title\": \"COVID-19 en Chile: Casos confirmados por regi\\u00f3n por cada 100.000 habitantes al 26/04/2020\"}], \"data\": {\"name\": \"data-f333e5b67ad23a1c967b80e5608cdb6a\"}, \"height\": 300, \"width\": 600, \"$schema\": \"https://vega.github.io/schema/vega-lite/v4.8.1.json\", \"datasets\": {\"data-f333e5b67ad23a1c967b80e5608cdb6a\": [{\"Region\": \"Arica y Parinacota\", \"2020-04-26\": 252, \"Tasa de casos\": 99.9563682519535}, {\"Region\": \"Tarapac\\u00e1\", \"2020-04-26\": 156, \"Tasa de casos\": 40.75522568206222}, {\"Region\": \"Antofagasta\", \"2020-04-26\": 443, \"Tasa de casos\": 64.0308504395436}, {\"Region\": \"Atacama\", \"2020-04-26\": 29, \"Tasa de casos\": 9.214861983610255}, {\"Region\": \"Coquimbo\", \"2020-04-26\": 73, \"Tasa de casos\": 8.73105480710349}, {\"Region\": \"Valpara\\u00edso\", \"2020-04-26\": 460, \"Tasa de casos\": 23.46735232148232}, {\"Region\": \"Metropolitana\", \"2020-04-26\": 7496, \"Tasa de casos\": 92.25764399380091}, {\"Region\": \"O\\u2019Higgins\", \"2020-04-26\": 92, \"Tasa de casos\": 9.28296182987358}, {\"Region\": \"Maule\", \"2020-04-26\": 354, \"Tasa de casos\": 31.273770052979888}, {\"Region\": \"\\u00d1uble\", \"2020-04-26\": 731, \"Tasa de casos\": 142.89875300800898}, {\"Region\": \"Biob\\u00edo\", \"2020-04-26\": 703, \"Tasa de casos\": 42.255315875015626}, {\"Region\": \"Araucan\\u00eda\", \"2020-04-26\": 1216, \"Tasa de casos\": 119.8805532250925}, {\"Region\": \"Los R\\u00edos\", \"2020-04-26\": 178, \"Tasa de casos\": 43.8601894858748}, {\"Region\": \"Los Lagos\", \"2020-04-26\": 473, \"Tasa de casos\": 53.060217176702864}, {\"Region\": \"Ays\\u00e9n\", \"2020-04-26\": 7, \"Tasa de casos\": 6.523947547461718}, {\"Region\": \"Magallanes\", \"2020-04-26\": 668, \"Tasa de casos\": 374.51923616016865}]}}, {\"mode\": \"vega-lite\"});\n",
       "</script>"
      ],
      "text/plain": [
       "alt.LayerChart(...)"
      ]
     },
     "execution_count": 84,
     "metadata": {},
     "output_type": "execute_result"
    }
   ],
   "source": [
    "#hide_input\n",
    "\n",
    "bars = alt.Chart(data_raw).mark_bar().encode(\n",
    "    x = alt.X('Tasa de casos:Q', scale=alt.Scale(domain=(0, 340)), axis=alt.Axis(title='Casos confirmados por cada 100.000 habitantes')),\n",
    "    y = alt.Y('Region:N', sort='-x'),\n",
    "    tooltip = 'Tasa de casos'\n",
    ").properties(\n",
    "    title=f'COVID-19 en Chile: Casos confirmados por región por cada 100.000 habitantes al {today_es_format}'\n",
    ")\n",
    "\n",
    "text = bars.mark_text(\n",
    "    align='left',\n",
    "    baseline='middle',\n",
    "    dx=3  # Nudges text to right so it doesn't appear on top of the bar\n",
    ").encode(\n",
    "    text=alt.Text('Tasa de casos:Q', format=',.2f')\n",
    ")\n",
    "\n",
    "# bars.configure_title(\n",
    "#     fontSize=20,\n",
    "#     font='Courier',\n",
    "#     anchor='start',\n",
    "#     color='gray'\n",
    "# )\n",
    "\n",
    "(bars + text).properties(width=600, height=300)"
   ]
  },
  {
   "cell_type": "markdown",
   "metadata": {},
   "source": [
    "Fuente: [Ministerio de Ciencia](https://github.com/MinCiencia/Datos-COVID19)"
   ]
  },
  {
   "cell_type": "markdown",
   "metadata": {},
   "source": [
    "# Fallecidos confirmados por región"
   ]
  },
  {
   "cell_type": "code",
   "execution_count": 85,
   "metadata": {},
   "outputs": [],
   "source": [
    "#hide\n",
    "s = 'https://raw.githubusercontent.com/MinCiencia/Datos-COVID19/master/output/producto4/' + today +'-CasosConfirmados-totalRegional.csv'\n",
    "data_raw = pd.read_csv(s, index_col='Region')"
   ]
  },
  {
   "cell_type": "code",
   "execution_count": 86,
   "metadata": {},
   "outputs": [],
   "source": [
    "#hide\n",
    "data_raw = data_raw[data_raw['Fallecidos']>0]\n",
    "data_raw = data_raw.drop('Total')"
   ]
  },
  {
   "cell_type": "code",
   "execution_count": 87,
   "metadata": {},
   "outputs": [
    {
     "data": {
      "text/html": [
       "\n",
       "<div id=\"altair-viz-f4b76d8b41204766874164c89e143e1a\"></div>\n",
       "<script type=\"text/javascript\">\n",
       "  (function(spec, embedOpt){\n",
       "    let outputDiv = document.currentScript.previousElementSibling;\n",
       "    if (outputDiv.id !== \"altair-viz-f4b76d8b41204766874164c89e143e1a\") {\n",
       "      outputDiv = document.getElementById(\"altair-viz-f4b76d8b41204766874164c89e143e1a\");\n",
       "    }\n",
       "    const paths = {\n",
       "      \"vega\": \"https://cdn.jsdelivr.net/npm//vega@5?noext\",\n",
       "      \"vega-lib\": \"https://cdn.jsdelivr.net/npm//vega-lib?noext\",\n",
       "      \"vega-lite\": \"https://cdn.jsdelivr.net/npm//vega-lite@4.8.1?noext\",\n",
       "      \"vega-embed\": \"https://cdn.jsdelivr.net/npm//vega-embed@6?noext\",\n",
       "    };\n",
       "\n",
       "    function loadScript(lib) {\n",
       "      return new Promise(function(resolve, reject) {\n",
       "        var s = document.createElement('script');\n",
       "        s.src = paths[lib];\n",
       "        s.async = true;\n",
       "        s.onload = () => resolve(paths[lib]);\n",
       "        s.onerror = () => reject(`Error loading script: ${paths[lib]}`);\n",
       "        document.getElementsByTagName(\"head\")[0].appendChild(s);\n",
       "      });\n",
       "    }\n",
       "\n",
       "    function showError(err) {\n",
       "      outputDiv.innerHTML = `<div class=\"error\" style=\"color:red;\">${err}</div>`;\n",
       "      throw err;\n",
       "    }\n",
       "\n",
       "    function displayChart(vegaEmbed) {\n",
       "      vegaEmbed(outputDiv, spec, embedOpt)\n",
       "        .catch(err => showError(`Javascript Error: ${err.message}<br>This usually means there's a typo in your chart specification. See the javascript console for the full traceback.`));\n",
       "    }\n",
       "\n",
       "    if(typeof define === \"function\" && define.amd) {\n",
       "      requirejs.config({paths});\n",
       "      require([\"vega-embed\"], displayChart, err => showError(`Error loading script: ${err.message}`));\n",
       "    } else if (typeof vegaEmbed === \"function\") {\n",
       "      displayChart(vegaEmbed);\n",
       "    } else {\n",
       "      loadScript(\"vega\")\n",
       "        .then(() => loadScript(\"vega-lite\"))\n",
       "        .then(() => loadScript(\"vega-embed\"))\n",
       "        .catch(showError)\n",
       "        .then(() => displayChart(vegaEmbed));\n",
       "    }\n",
       "  })({\"config\": {\"view\": {\"continuousWidth\": 400, \"continuousHeight\": 300}}, \"layer\": [{\"mark\": \"bar\", \"encoding\": {\"tooltip\": {\"type\": \"quantitative\", \"field\": \"Fallecidos\"}, \"x\": {\"type\": \"quantitative\", \"axis\": {\"title\": \"Fallecidos confirmados\"}, \"field\": \"Fallecidos\"}, \"y\": {\"type\": \"nominal\", \"field\": \"Region\", \"sort\": \"-x\"}}, \"title\": \"COVID-19 en Chile: Fallecidos confirmados por regi\\u00f3n al 26/04/2020\"}, {\"mark\": {\"type\": \"text\", \"align\": \"left\", \"baseline\": \"middle\", \"dx\": 3}, \"encoding\": {\"text\": {\"type\": \"quantitative\", \"field\": \"Fallecidos\"}, \"tooltip\": {\"type\": \"quantitative\", \"field\": \"Fallecidos\"}, \"x\": {\"type\": \"quantitative\", \"axis\": {\"title\": \"Fallecidos confirmados\"}, \"field\": \"Fallecidos\"}, \"y\": {\"type\": \"nominal\", \"field\": \"Region\", \"sort\": \"-x\"}}, \"title\": \"COVID-19 en Chile: Fallecidos confirmados por regi\\u00f3n al 26/04/2020\"}], \"data\": {\"name\": \"data-2782309e8574fc521ed85a42aa104fe3\"}, \"height\": 300, \"width\": 600, \"$schema\": \"https://vega.github.io/schema/vega-lite/v4.8.1.json\", \"datasets\": {\"data-2782309e8574fc521ed85a42aa104fe3\": [{\"Region\": \"Arica  y  Parinacota\", \"Casos  nuevos\": 7, \"Casos  totales\": 252, \"%  Casos  totales**\": \"1.89  %\", \"Fallecidos\": 3}, {\"Region\": \"Tarapaca\", \"Casos  nuevos\": 13, \"Casos  totales\": 156, \"%  Casos  totales**\": \"1.17  %\", \"Fallecidos\": 1}, {\"Region\": \"Antofagasta\", \"Casos  nuevos\": 52, \"Casos  totales\": 443, \"%  Casos  totales**\": \"3.32  %\", \"Fallecidos\": 4}, {\"Region\": \"Valparaiso\", \"Casos  nuevos\": 6, \"Casos  totales\": 460, \"%  Casos  totales**\": \"3.45  %\", \"Fallecidos\": 9}, {\"Region\": \"Metropolitana\", \"Casos  nuevos\": 331, \"Casos  totales\": 7496, \"%  Casos  totales**\": \"56.23  %\", \"Fallecidos\": 91}, {\"Region\": \"O'Higgins\", \"Casos  nuevos\": 7, \"Casos  totales\": 92, \"%  Casos  totales**\": \"0.69  %\", \"Fallecidos\": 1}, {\"Region\": \"Maule\", \"Casos  nuevos\": 4, \"Casos  totales\": 354, \"%  Casos  totales**\": \"2.66  %\", \"Fallecidos\": 11}, {\"Region\": \"Nuble\", \"Casos  nuevos\": 6, \"Casos  totales\": 731, \"%  Casos  totales**\": \"5.48  %\", \"Fallecidos\": 14}, {\"Region\": \"Biobio\", \"Casos  nuevos\": 7, \"Casos  totales\": 703, \"%  Casos  totales**\": \"5.27  %\", \"Fallecidos\": 6}, {\"Region\": \"Araucania\", \"Casos  nuevos\": 13, \"Casos  totales\": 1216, \"%  Casos  totales**\": \"9.12  %\", \"Fallecidos\": 29}, {\"Region\": \"Los  Rios\", \"Casos  nuevos\": 1, \"Casos  totales\": 178, \"%  Casos  totales**\": \"1.34  %\", \"Fallecidos\": 3}, {\"Region\": \"Los  Lagos\", \"Casos  nuevos\": 8, \"Casos  totales\": 473, \"%  Casos  totales**\": \"3.55  %\", \"Fallecidos\": 8}, {\"Region\": \"Magallanes\", \"Casos  nuevos\": 13, \"Casos  totales\": 668, \"%  Casos  totales**\": \"5.01  %\", \"Fallecidos\": 9}]}}, {\"mode\": \"vega-lite\"});\n",
       "</script>"
      ],
      "text/plain": [
       "alt.LayerChart(...)"
      ]
     },
     "execution_count": 87,
     "metadata": {},
     "output_type": "execute_result"
    }
   ],
   "source": [
    "#hide_input\n",
    "bars = alt.Chart(data_raw.reset_index()).mark_bar().encode(\n",
    "    x = alt.X('Fallecidos:Q', axis=alt.Axis(title='Fallecidos confirmados')),\n",
    "    y = alt.Y('Region:N', sort='-x'),\n",
    "    tooltip = 'Fallecidos'\n",
    ").properties(\n",
    "    title=f'COVID-19 en Chile: Fallecidos confirmados por región al {today_es_format}'\n",
    ")\n",
    "\n",
    "text = bars.mark_text(\n",
    "    align='left',\n",
    "    baseline='middle',\n",
    "    dx=3  # Nudges text to right so it doesn't appear on top of the bar\n",
    ").encode(\n",
    "    text='Fallecidos:Q'\n",
    ")\n",
    "\n",
    "bars.configure_title(\n",
    "    fontSize=20,\n",
    "    font='Courier',\n",
    "    anchor='start',\n",
    "    color='gray'\n",
    ")\n",
    "\n",
    "(bars + text).properties(width=600, height=300)"
   ]
  },
  {
   "cell_type": "markdown",
   "metadata": {},
   "source": [
    "Fuente: [Ministerio de Ciencia](https://github.com/MinCiencia/Datos-COVID19)"
   ]
  },
  {
   "cell_type": "markdown",
   "metadata": {},
   "source": [
    "# Fallecidos confirmados por región por cada 100.000 habitantes"
   ]
  },
  {
   "cell_type": "code",
   "execution_count": 88,
   "metadata": {},
   "outputs": [],
   "source": [
    "#hide\n",
    "s = 'https://raw.githubusercontent.com/MinCiencia/Datos-COVID19/master/output/producto4/' + today + '-CasosConfirmados-totalRegional.csv'\n",
    "data_raw = pd.read_csv(s, index_col='Region')"
   ]
  },
  {
   "cell_type": "code",
   "execution_count": 89,
   "metadata": {},
   "outputs": [],
   "source": [
    "#hide\n",
    "tests_raw = pd.read_csv(\n",
    "    'https://raw.githubusercontent.com/MinCiencia/Datos-COVID19/master/output/producto7/PCR.csv',\n",
    "    index_col='Region')\n",
    "tests_raw = tests_raw.fillna(0)"
   ]
  },
  {
   "cell_type": "code",
   "execution_count": 90,
   "metadata": {},
   "outputs": [],
   "source": [
    "#hide\n",
    "tests_total = pd.Series(dtype='float64')\n",
    "for date in tests_raw.columns:\n",
    "  tests_raw[date] = tests_raw[date].apply(lambda x: 0 if x=='-' else x)\n",
    "  tests_raw[date] = tests_raw[date].astype(int)\n",
    "  tests_total[date] = np.sum(tests_raw[date])"
   ]
  },
  {
   "cell_type": "code",
   "execution_count": 91,
   "metadata": {},
   "outputs": [],
   "source": [
    "#hide\n",
    "tests_raw.loc['Total'] = tests_total"
   ]
  },
  {
   "cell_type": "code",
   "execution_count": 92,
   "metadata": {},
   "outputs": [],
   "source": [
    "#hide\n",
    "death_rate = 100000*data_raw['Fallecidos']/tests_raw['Poblacion'].values\n",
    "death_rate = death_rate.sort_values(ascending=True)\n",
    "death_rate = death_rate[death_rate>0]"
   ]
  },
  {
   "cell_type": "code",
   "execution_count": 93,
   "metadata": {
    "scrolled": false
   },
   "outputs": [
    {
     "data": {
      "text/html": [
       "\n",
       "<div id=\"altair-viz-1bae2d1abb7c4a5eb0dda72278a1a156\"></div>\n",
       "<script type=\"text/javascript\">\n",
       "  (function(spec, embedOpt){\n",
       "    let outputDiv = document.currentScript.previousElementSibling;\n",
       "    if (outputDiv.id !== \"altair-viz-1bae2d1abb7c4a5eb0dda72278a1a156\") {\n",
       "      outputDiv = document.getElementById(\"altair-viz-1bae2d1abb7c4a5eb0dda72278a1a156\");\n",
       "    }\n",
       "    const paths = {\n",
       "      \"vega\": \"https://cdn.jsdelivr.net/npm//vega@5?noext\",\n",
       "      \"vega-lib\": \"https://cdn.jsdelivr.net/npm//vega-lib?noext\",\n",
       "      \"vega-lite\": \"https://cdn.jsdelivr.net/npm//vega-lite@4.8.1?noext\",\n",
       "      \"vega-embed\": \"https://cdn.jsdelivr.net/npm//vega-embed@6?noext\",\n",
       "    };\n",
       "\n",
       "    function loadScript(lib) {\n",
       "      return new Promise(function(resolve, reject) {\n",
       "        var s = document.createElement('script');\n",
       "        s.src = paths[lib];\n",
       "        s.async = true;\n",
       "        s.onload = () => resolve(paths[lib]);\n",
       "        s.onerror = () => reject(`Error loading script: ${paths[lib]}`);\n",
       "        document.getElementsByTagName(\"head\")[0].appendChild(s);\n",
       "      });\n",
       "    }\n",
       "\n",
       "    function showError(err) {\n",
       "      outputDiv.innerHTML = `<div class=\"error\" style=\"color:red;\">${err}</div>`;\n",
       "      throw err;\n",
       "    }\n",
       "\n",
       "    function displayChart(vegaEmbed) {\n",
       "      vegaEmbed(outputDiv, spec, embedOpt)\n",
       "        .catch(err => showError(`Javascript Error: ${err.message}<br>This usually means there's a typo in your chart specification. See the javascript console for the full traceback.`));\n",
       "    }\n",
       "\n",
       "    if(typeof define === \"function\" && define.amd) {\n",
       "      requirejs.config({paths});\n",
       "      require([\"vega-embed\"], displayChart, err => showError(`Error loading script: ${err.message}`));\n",
       "    } else if (typeof vegaEmbed === \"function\") {\n",
       "      displayChart(vegaEmbed);\n",
       "    } else {\n",
       "      loadScript(\"vega\")\n",
       "        .then(() => loadScript(\"vega-lite\"))\n",
       "        .then(() => loadScript(\"vega-embed\"))\n",
       "        .catch(showError)\n",
       "        .then(() => displayChart(vegaEmbed));\n",
       "    }\n",
       "  })({\"config\": {\"view\": {\"continuousWidth\": 400, \"continuousHeight\": 300}}, \"layer\": [{\"mark\": \"bar\", \"encoding\": {\"tooltip\": {\"type\": \"quantitative\", \"field\": \"Fallecidos\"}, \"x\": {\"type\": \"quantitative\", \"axis\": {\"title\": \"Fallecidos confirmados por cada 100.000 habitantes\"}, \"field\": \"Fallecidos\"}, \"y\": {\"type\": \"nominal\", \"field\": \"Region\", \"sort\": \"-x\"}}, \"title\": \"COVID-19 en Chile: Fallecidos confirmados por regi\\u00f3n por cada 100.000 habitantes al 26/04/2020\"}, {\"mark\": {\"type\": \"text\", \"align\": \"left\", \"baseline\": \"middle\", \"dx\": 3}, \"encoding\": {\"text\": {\"type\": \"quantitative\", \"field\": \"Fallecidos\", \"format\": \",.2f\"}, \"tooltip\": {\"type\": \"quantitative\", \"field\": \"Fallecidos\"}, \"x\": {\"type\": \"quantitative\", \"axis\": {\"title\": \"Fallecidos confirmados por cada 100.000 habitantes\"}, \"field\": \"Fallecidos\"}, \"y\": {\"type\": \"nominal\", \"field\": \"Region\", \"sort\": \"-x\"}}, \"title\": \"COVID-19 en Chile: Fallecidos confirmados por regi\\u00f3n por cada 100.000 habitantes al 26/04/2020\"}], \"data\": {\"name\": \"data-8b5ba7f8ba092acb71ea05a2225e7426\"}, \"height\": 300, \"width\": 600, \"$schema\": \"https://vega.github.io/schema/vega-lite/v4.8.1.json\", \"datasets\": {\"data-8b5ba7f8ba092acb71ea05a2225e7426\": [{\"Region\": \"O'Higgins\", \"Fallecidos\": 0.10090175902036501}, {\"Region\": \"Tarapaca\", \"Fallecidos\": 0.261251446679886}, {\"Region\": \"Biobio\", \"Fallecidos\": 0.36064280974408786}, {\"Region\": \"Valparaiso\", \"Fallecidos\": 0.45914384976813233}, {\"Region\": \"Antofagasta\", \"Fallecidos\": 0.5781566631110032}, {\"Region\": \"Los  Rios\", \"Fallecidos\": 0.739216676728227}, {\"Region\": \"Los  Lagos\", \"Fallecidos\": 0.8974243919949744}, {\"Region\": \"Total\", \"Fallecidos\": 0.9713073745870017}, {\"Region\": \"Maule\", \"Fallecidos\": 0.9717838152055897}, {\"Region\": \"Metropolitana\", \"Fallecidos\": 1.1199900751648724}, {\"Region\": \"Arica  y  Parinacota\", \"Fallecidos\": 1.1899567649042084}, {\"Region\": \"Nuble\", \"Fallecidos\": 2.7367750234092005}, {\"Region\": \"Araucania\", \"Fallecidos\": 2.858993456848423}, {\"Region\": \"Magallanes\", \"Fallecidos\": 5.045917852457362}]}}, {\"mode\": \"vega-lite\"});\n",
       "</script>"
      ],
      "text/plain": [
       "alt.LayerChart(...)"
      ]
     },
     "execution_count": 93,
     "metadata": {},
     "output_type": "execute_result"
    }
   ],
   "source": [
    "#hide_input\n",
    "bars = alt.Chart(death_rate.reset_index()).mark_bar().encode(\n",
    "    x = alt.X('Fallecidos:Q', axis=alt.Axis(title='Fallecidos confirmados por cada 100.000 habitantes')),\n",
    "    y = alt.Y('Region:N', sort='-x'),\n",
    "    tooltip = 'Fallecidos'\n",
    ").properties(\n",
    "    title=f'COVID-19 en Chile: Fallecidos confirmados por región por cada 100.000 habitantes al {today_es_format}'\n",
    ")\n",
    "\n",
    "text = bars.mark_text(\n",
    "    align='left',\n",
    "    baseline='middle',\n",
    "    dx=3  # Nudges text to right so it doesn't appear on top of the bar\n",
    ").encode(\n",
    "    text=alt.Text('Fallecidos:Q', format=',.2f')\n",
    ")\n",
    "\n",
    "bars.configure_title(\n",
    "    fontSize=20,\n",
    "    font='Courier',\n",
    "    anchor='start',\n",
    "    color='gray'\n",
    ")\n",
    "\n",
    "(bars + text).properties(width=600, height=300)"
   ]
  },
  {
   "cell_type": "markdown",
   "metadata": {},
   "source": [
    "Fuente: [Ministerio de Ciencia](https://github.com/MinCiencia/Datos-COVID19)"
   ]
  },
  {
   "cell_type": "markdown",
   "metadata": {},
   "source": [
    "# Tasa de letalidad por región\n",
    "> Tasa de letalidad = fallecidos confirmados / casos confirmados (en porcentaje)"
   ]
  },
  {
   "cell_type": "code",
   "execution_count": 94,
   "metadata": {},
   "outputs": [],
   "source": [
    "#hide\n",
    "CFR = data_raw['Fallecidos']/data_raw['Casos  totales']*100\n",
    "CFR = CFR.sort_values(ascending=True)\n",
    "CFR = CFR[CFR>0]"
   ]
  },
  {
   "cell_type": "code",
   "execution_count": 95,
   "metadata": {},
   "outputs": [],
   "source": [
    "#hide\n",
    "CFR = CFR.reset_index()\n",
    "CFR['Tasa de letalidad'] = CFR[0]\n",
    "CFR = CFR.drop(columns=0)"
   ]
  },
  {
   "cell_type": "code",
   "execution_count": 96,
   "metadata": {
    "scrolled": false
   },
   "outputs": [
    {
     "data": {
      "text/html": [
       "\n",
       "<div id=\"altair-viz-d383fc652dad4ab3a2e0e039208ec481\"></div>\n",
       "<script type=\"text/javascript\">\n",
       "  (function(spec, embedOpt){\n",
       "    let outputDiv = document.currentScript.previousElementSibling;\n",
       "    if (outputDiv.id !== \"altair-viz-d383fc652dad4ab3a2e0e039208ec481\") {\n",
       "      outputDiv = document.getElementById(\"altair-viz-d383fc652dad4ab3a2e0e039208ec481\");\n",
       "    }\n",
       "    const paths = {\n",
       "      \"vega\": \"https://cdn.jsdelivr.net/npm//vega@5?noext\",\n",
       "      \"vega-lib\": \"https://cdn.jsdelivr.net/npm//vega-lib?noext\",\n",
       "      \"vega-lite\": \"https://cdn.jsdelivr.net/npm//vega-lite@4.8.1?noext\",\n",
       "      \"vega-embed\": \"https://cdn.jsdelivr.net/npm//vega-embed@6?noext\",\n",
       "    };\n",
       "\n",
       "    function loadScript(lib) {\n",
       "      return new Promise(function(resolve, reject) {\n",
       "        var s = document.createElement('script');\n",
       "        s.src = paths[lib];\n",
       "        s.async = true;\n",
       "        s.onload = () => resolve(paths[lib]);\n",
       "        s.onerror = () => reject(`Error loading script: ${paths[lib]}`);\n",
       "        document.getElementsByTagName(\"head\")[0].appendChild(s);\n",
       "      });\n",
       "    }\n",
       "\n",
       "    function showError(err) {\n",
       "      outputDiv.innerHTML = `<div class=\"error\" style=\"color:red;\">${err}</div>`;\n",
       "      throw err;\n",
       "    }\n",
       "\n",
       "    function displayChart(vegaEmbed) {\n",
       "      vegaEmbed(outputDiv, spec, embedOpt)\n",
       "        .catch(err => showError(`Javascript Error: ${err.message}<br>This usually means there's a typo in your chart specification. See the javascript console for the full traceback.`));\n",
       "    }\n",
       "\n",
       "    if(typeof define === \"function\" && define.amd) {\n",
       "      requirejs.config({paths});\n",
       "      require([\"vega-embed\"], displayChart, err => showError(`Error loading script: ${err.message}`));\n",
       "    } else if (typeof vegaEmbed === \"function\") {\n",
       "      displayChart(vegaEmbed);\n",
       "    } else {\n",
       "      loadScript(\"vega\")\n",
       "        .then(() => loadScript(\"vega-lite\"))\n",
       "        .then(() => loadScript(\"vega-embed\"))\n",
       "        .catch(showError)\n",
       "        .then(() => displayChart(vegaEmbed));\n",
       "    }\n",
       "  })({\"config\": {\"view\": {\"continuousWidth\": 400, \"continuousHeight\": 300}}, \"layer\": [{\"mark\": \"bar\", \"encoding\": {\"tooltip\": {\"type\": \"quantitative\", \"field\": \"Tasa de letalidad\"}, \"x\": {\"type\": \"quantitative\", \"axis\": {\"title\": \"Tasa de letalidad\"}, \"field\": \"Tasa de letalidad\"}, \"y\": {\"type\": \"nominal\", \"field\": \"Region\", \"sort\": \"-x\"}}, \"title\": \"COVID-19 en Chile: Tasa de letalidad por regi\\u00f3n al 26/04/2020\"}, {\"mark\": {\"type\": \"text\", \"align\": \"left\", \"baseline\": \"middle\", \"dx\": 3}, \"encoding\": {\"text\": {\"type\": \"quantitative\", \"field\": \"Tasa de letalidad\", \"format\": \",.1f\"}, \"tooltip\": {\"type\": \"quantitative\", \"field\": \"Tasa de letalidad\"}, \"x\": {\"type\": \"quantitative\", \"axis\": {\"title\": \"Tasa de letalidad\"}, \"field\": \"Tasa de letalidad\"}, \"y\": {\"type\": \"nominal\", \"field\": \"Region\", \"sort\": \"-x\"}}, \"title\": \"COVID-19 en Chile: Tasa de letalidad por regi\\u00f3n al 26/04/2020\"}], \"data\": {\"name\": \"data-2dc289652209fb49a28a78d7fb77e901\"}, \"height\": 300, \"width\": 600, \"$schema\": \"https://vega.github.io/schema/vega-lite/v4.8.1.json\", \"datasets\": {\"data-2dc289652209fb49a28a78d7fb77e901\": [{\"Region\": \"Tarapaca\", \"Tasa de letalidad\": 0.641025641025641}, {\"Region\": \"Biobio\", \"Tasa de letalidad\": 0.8534850640113799}, {\"Region\": \"Antofagasta\", \"Tasa de letalidad\": 0.9029345372460496}, {\"Region\": \"O'Higgins\", \"Tasa de letalidad\": 1.0869565217391304}, {\"Region\": \"Arica  y  Parinacota\", \"Tasa de letalidad\": 1.1904761904761905}, {\"Region\": \"Metropolitana\", \"Tasa de letalidad\": 1.2139807897545358}, {\"Region\": \"Magallanes\", \"Tasa de letalidad\": 1.347305389221557}, {\"Region\": \"Total\", \"Tasa de letalidad\": 1.4177481059185357}, {\"Region\": \"Los  Rios\", \"Tasa de letalidad\": 1.6853932584269662}, {\"Region\": \"Los  Lagos\", \"Tasa de letalidad\": 1.6913319238900635}, {\"Region\": \"Nuble\", \"Tasa de letalidad\": 1.915184678522572}, {\"Region\": \"Valparaiso\", \"Tasa de letalidad\": 1.956521739130435}, {\"Region\": \"Araucania\", \"Tasa de letalidad\": 2.384868421052632}, {\"Region\": \"Maule\", \"Tasa de letalidad\": 3.1073446327683616}]}}, {\"mode\": \"vega-lite\"});\n",
       "</script>"
      ],
      "text/plain": [
       "alt.LayerChart(...)"
      ]
     },
     "execution_count": 96,
     "metadata": {},
     "output_type": "execute_result"
    }
   ],
   "source": [
    "#hide_input\n",
    "bars = alt.Chart(CFR).mark_bar().encode(\n",
    "    x = alt.X('Tasa de letalidad:Q', axis=alt.Axis(title='Tasa de letalidad')),\n",
    "    y = alt.Y('Region:N', sort='-x'),\n",
    "    tooltip = 'Tasa de letalidad'\n",
    ").properties(\n",
    "    title=f'COVID-19 en Chile: Tasa de letalidad por región al {today_es_format}'\n",
    ")\n",
    "\n",
    "text = bars.mark_text(\n",
    "    align='left',\n",
    "    baseline='middle',\n",
    "    dx=3  # Nudges text to right so it doesn't appear on top of the bar\n",
    ").encode(\n",
    "    text=alt.Text('Tasa de letalidad:Q', format=',.1f')\n",
    ")\n",
    "\n",
    "bars.configure_title(\n",
    "    fontSize=20,\n",
    "    font='Courier',\n",
    "    anchor='start',\n",
    "    color='gray'\n",
    ")\n",
    "\n",
    "(bars + text).properties(width=600, height=300)"
   ]
  },
  {
   "cell_type": "markdown",
   "metadata": {},
   "source": [
    "Fuente: [Ministerio de Ciencia](https://github.com/MinCiencia/Datos-COVID19)"
   ]
  },
  {
   "cell_type": "markdown",
   "metadata": {},
   "source": [
    "# Exámenes informados por región desde el 9 de abril\n",
    "Nota: sólo se dispone de los datos de exámenes informados por región desde el 9 de abril"
   ]
  },
  {
   "cell_type": "code",
   "execution_count": 97,
   "metadata": {},
   "outputs": [],
   "source": [
    "#hide\n",
    "s = 'https://raw.githubusercontent.com/MinCiencia/Datos-COVID19/master/output/producto4/2020-04-08-CasosConfirmados-totalRegional.csv'\n",
    "data_20200408 = pd.read_csv(s, index_col='Region')"
   ]
  },
  {
   "cell_type": "code",
   "execution_count": 98,
   "metadata": {},
   "outputs": [],
   "source": [
    "#hide\n",
    "s = 'https://raw.githubusercontent.com/MinCiencia/Datos-COVID19/master/output/producto4/' + today +'-CasosConfirmados-totalRegional.csv'\n",
    "data_update_date = pd.read_csv(s, index_col='Region')"
   ]
  },
  {
   "cell_type": "code",
   "execution_count": 99,
   "metadata": {},
   "outputs": [],
   "source": [
    "#hide\n",
    "tests_raw = pd.read_csv(\n",
    "    'https://raw.githubusercontent.com/MinCiencia/Datos-COVID19/master/output/producto7/PCR.csv',\n",
    "    index_col='Region')\n",
    "tests_raw = tests_raw.fillna(0)"
   ]
  },
  {
   "cell_type": "code",
   "execution_count": 100,
   "metadata": {},
   "outputs": [],
   "source": [
    "#hide\n",
    "tests_total = pd.Series(dtype='float64')\n",
    "for date in tests_raw.columns:\n",
    "  tests_raw[date] = tests_raw[date].apply(lambda x: 0 if x=='-' else x)\n",
    "  tests_raw[date] = tests_raw[date].astype(int)\n",
    "  tests_total[date] = np.sum(tests_raw[date])"
   ]
  },
  {
   "cell_type": "code",
   "execution_count": 101,
   "metadata": {},
   "outputs": [],
   "source": [
    "#hide\n",
    "tests_raw.loc['Total'] = tests_total"
   ]
  },
  {
   "cell_type": "code",
   "execution_count": 102,
   "metadata": {},
   "outputs": [],
   "source": [
    "#hide\n",
    "data = pd.DataFrame()\n",
    "data[\"Fallecidos\"] = data_update_date[\"Fallecidos\"]-data_20200408[\"Fallecidos\"]\n",
    "data[\"Casos\"] = data_update_date[\"Casos  totales\"]-data_20200408[\"Casos  totales\"]\n",
    "data[\"Tests\"] = tests_raw.drop(columns='Poblacion').sum(axis=1).values"
   ]
  },
  {
   "cell_type": "code",
   "execution_count": 103,
   "metadata": {},
   "outputs": [],
   "source": [
    "#hide\n",
    "data_per_capita = pd.DataFrame()\n",
    "data_per_capita[\"Fallecidos\"] = 100000*data[\"Fallecidos\"]/tests_raw[\"Poblacion\"].values\n",
    "data_per_capita[\"Casos\"] = 100000*data[\"Casos\"]/tests_raw[\"Poblacion\"].values\n",
    "data_per_capita[\"Tests\"] = 100000*data[\"Tests\"]/tests_raw[\"Poblacion\"].values"
   ]
  },
  {
   "cell_type": "code",
   "execution_count": 104,
   "metadata": {},
   "outputs": [],
   "source": [
    "#hide\n",
    "casos_raw = pd.read_csv(\n",
    "    \"https://raw.githubusercontent.com/MinCiencia/Datos-COVID19/master/output/producto3/CasosTotalesCumulativo.csv\", \n",
    "    index_col='Region')"
   ]
  },
  {
   "cell_type": "code",
   "execution_count": 105,
   "metadata": {},
   "outputs": [],
   "source": [
    "#hide\n",
    "casos_20200408 = pd.read_csv('https://raw.githubusercontent.com/MinCiencia/Datos-COVID19/master/output/producto4/2020-04-08-CasosConfirmados-totalRegional.csv', index_col='Region')"
   ]
  },
  {
   "cell_type": "code",
   "execution_count": 106,
   "metadata": {},
   "outputs": [],
   "source": [
    "#hide\n",
    "s = 'https://raw.githubusercontent.com/MinCiencia/Datos-COVID19/master/output/producto4/' + today + '-CasosConfirmados-totalRegional.csv'\n",
    "casos_update_date = pd.read_csv(s, index_col='Region')"
   ]
  },
  {
   "cell_type": "code",
   "execution_count": 107,
   "metadata": {},
   "outputs": [],
   "source": [
    "#hide\n",
    "positividad = 100*(casos_update_date['Casos  totales'] - casos_20200408['Casos  totales'])/tests_raw.drop(columns='Poblacion').sum(axis=1).values"
   ]
  },
  {
   "cell_type": "code",
   "execution_count": 108,
   "metadata": {},
   "outputs": [],
   "source": [
    "#hide\n",
    "tests_raw['tests informados'] = tests_raw.drop(columns='Poblacion').sum(axis=1)"
   ]
  },
  {
   "cell_type": "code",
   "execution_count": 109,
   "metadata": {},
   "outputs": [],
   "source": [
    "#hide\n",
    "tests_raw['tasa de tests'] = 100000*tests_raw['tests informados']/tests_raw['Poblacion']"
   ]
  },
  {
   "cell_type": "code",
   "execution_count": 110,
   "metadata": {},
   "outputs": [
    {
     "data": {
      "text/html": [
       "\n",
       "<div id=\"altair-viz-8994edfa19124013af1268a8471e9e86\"></div>\n",
       "<script type=\"text/javascript\">\n",
       "  (function(spec, embedOpt){\n",
       "    let outputDiv = document.currentScript.previousElementSibling;\n",
       "    if (outputDiv.id !== \"altair-viz-8994edfa19124013af1268a8471e9e86\") {\n",
       "      outputDiv = document.getElementById(\"altair-viz-8994edfa19124013af1268a8471e9e86\");\n",
       "    }\n",
       "    const paths = {\n",
       "      \"vega\": \"https://cdn.jsdelivr.net/npm//vega@5?noext\",\n",
       "      \"vega-lib\": \"https://cdn.jsdelivr.net/npm//vega-lib?noext\",\n",
       "      \"vega-lite\": \"https://cdn.jsdelivr.net/npm//vega-lite@4.8.1?noext\",\n",
       "      \"vega-embed\": \"https://cdn.jsdelivr.net/npm//vega-embed@6?noext\",\n",
       "    };\n",
       "\n",
       "    function loadScript(lib) {\n",
       "      return new Promise(function(resolve, reject) {\n",
       "        var s = document.createElement('script');\n",
       "        s.src = paths[lib];\n",
       "        s.async = true;\n",
       "        s.onload = () => resolve(paths[lib]);\n",
       "        s.onerror = () => reject(`Error loading script: ${paths[lib]}`);\n",
       "        document.getElementsByTagName(\"head\")[0].appendChild(s);\n",
       "      });\n",
       "    }\n",
       "\n",
       "    function showError(err) {\n",
       "      outputDiv.innerHTML = `<div class=\"error\" style=\"color:red;\">${err}</div>`;\n",
       "      throw err;\n",
       "    }\n",
       "\n",
       "    function displayChart(vegaEmbed) {\n",
       "      vegaEmbed(outputDiv, spec, embedOpt)\n",
       "        .catch(err => showError(`Javascript Error: ${err.message}<br>This usually means there's a typo in your chart specification. See the javascript console for the full traceback.`));\n",
       "    }\n",
       "\n",
       "    if(typeof define === \"function\" && define.amd) {\n",
       "      requirejs.config({paths});\n",
       "      require([\"vega-embed\"], displayChart, err => showError(`Error loading script: ${err.message}`));\n",
       "    } else if (typeof vegaEmbed === \"function\") {\n",
       "      displayChart(vegaEmbed);\n",
       "    } else {\n",
       "      loadScript(\"vega\")\n",
       "        .then(() => loadScript(\"vega-lite\"))\n",
       "        .then(() => loadScript(\"vega-embed\"))\n",
       "        .catch(showError)\n",
       "        .then(() => displayChart(vegaEmbed));\n",
       "    }\n",
       "  })({\"config\": {\"view\": {\"continuousWidth\": 400, \"continuousHeight\": 300}}, \"layer\": [{\"mark\": \"bar\", \"encoding\": {\"tooltip\": {\"type\": \"quantitative\", \"field\": \"tests informados\"}, \"x\": {\"type\": \"quantitative\", \"axis\": {\"title\": \"Ex\\u00e1menes informados\"}, \"field\": \"tests informados\"}, \"y\": {\"type\": \"nominal\", \"field\": \"Region\", \"sort\": \"-x\"}}, \"title\": \"COVID-19 en Chile: Total de ex\\u00e1menes informados por regi\\u00f3n desde el 9 de abril\"}, {\"mark\": {\"type\": \"text\", \"align\": \"left\", \"baseline\": \"middle\", \"dx\": 3}, \"encoding\": {\"text\": {\"type\": \"quantitative\", \"field\": \"tests informados\", \"format\": \".0f\"}, \"tooltip\": {\"type\": \"quantitative\", \"field\": \"tests informados\"}, \"x\": {\"type\": \"quantitative\", \"axis\": {\"title\": \"Ex\\u00e1menes informados\"}, \"field\": \"tests informados\"}, \"y\": {\"type\": \"nominal\", \"field\": \"Region\", \"sort\": \"-x\"}}, \"title\": \"COVID-19 en Chile: Total de ex\\u00e1menes informados por regi\\u00f3n desde el 9 de abril\"}], \"data\": {\"name\": \"data-ba01d4329517034207791b27422571d6\"}, \"height\": 300, \"width\": 600, \"$schema\": \"https://vega.github.io/schema/vega-lite/v4.8.1.json\", \"datasets\": {\"data-ba01d4329517034207791b27422571d6\": [{\"Region\": \"Arica y Parinacota\", \"Codigo region\": 15, \"Poblacion\": 252110, \"2020-04-09\": 70, \"2020-04-10\": 0, \"2020-04-11\": 0, \"2020-04-12\": 103, \"2020-04-13\": 0, \"2020-04-14\": 93, \"2020-04-15\": 24, \"2020-04-16\": 198, \"2020-04-17\": 131, \"2020-04-18\": 0, \"2020-04-19\": 155, \"2020-04-20\": 48, \"2020-04-21\": 52, \"2020-04-22\": 0, \"2020-04-23\": 169, \"2020-04-24\": 85, \"2020-04-25\": 90, \"2020-04-26\": 73, \"tests informados\": 1306, \"tasa de tests\": 518.0278449882987}, {\"Region\": \"Tarapac\\u00e1\", \"Codigo region\": 1, \"Poblacion\": 382773, \"2020-04-09\": 0, \"2020-04-10\": 0, \"2020-04-11\": 0, \"2020-04-12\": 0, \"2020-04-13\": 0, \"2020-04-14\": 0, \"2020-04-15\": 0, \"2020-04-16\": 30, \"2020-04-17\": 0, \"2020-04-18\": 60, \"2020-04-19\": 0, \"2020-04-20\": 0, \"2020-04-21\": 30, \"2020-04-22\": 59, \"2020-04-23\": 30, \"2020-04-24\": 203, \"2020-04-25\": 118, \"2020-04-26\": 58, \"tests informados\": 589, \"tasa de tests\": 153.87710209445285}, {\"Region\": \"Antofagasta\", \"Codigo region\": 2, \"Poblacion\": 691854, \"2020-04-09\": 182, \"2020-04-10\": 128, \"2020-04-11\": 107, \"2020-04-12\": 175, \"2020-04-13\": 103, \"2020-04-14\": 95, \"2020-04-15\": 117, \"2020-04-16\": 117, \"2020-04-17\": 143, \"2020-04-18\": 200, \"2020-04-19\": 129, \"2020-04-20\": 197, \"2020-04-21\": 147, \"2020-04-22\": 152, \"2020-04-23\": 146, \"2020-04-24\": 166, \"2020-04-25\": 217, \"2020-04-26\": 214, \"tests informados\": 2737, \"tasa de tests\": 395.60369673370394}, {\"Region\": \"Atacama\", \"Codigo region\": 3, \"Poblacion\": 314709, \"2020-04-09\": 57, \"2020-04-10\": 52, \"2020-04-11\": 60, \"2020-04-12\": 25, \"2020-04-13\": 20, \"2020-04-14\": 22, \"2020-04-15\": 25, \"2020-04-16\": 29, \"2020-04-17\": 37, \"2020-04-18\": 50, \"2020-04-19\": 31, \"2020-04-20\": 33, \"2020-04-21\": 33, \"2020-04-22\": 47, \"2020-04-23\": 57, \"2020-04-24\": 77, \"2020-04-25\": 46, \"2020-04-26\": 54, \"tests informados\": 758, \"tasa de tests\": 240.85742701988187}, {\"Region\": \"Coquimbo\", \"Codigo region\": 4, \"Poblacion\": 836096, \"2020-04-09\": 0, \"2020-04-10\": 0, \"2020-04-11\": 0, \"2020-04-12\": 0, \"2020-04-13\": 0, \"2020-04-14\": 0, \"2020-04-15\": 0, \"2020-04-16\": 0, \"2020-04-17\": 0, \"2020-04-18\": 0, \"2020-04-19\": 0, \"2020-04-20\": 0, \"2020-04-21\": 0, \"2020-04-22\": 29, \"2020-04-23\": 22, \"2020-04-24\": 44, \"2020-04-25\": 42, \"2020-04-26\": 72, \"tests informados\": 213, \"tasa de tests\": 25.47554347826087}, {\"Region\": \"Valpara\\u00edso\", \"Codigo region\": 5, \"Poblacion\": 1960170, \"2020-04-09\": 301, \"2020-04-10\": 249, \"2020-04-11\": 248, \"2020-04-12\": 273, \"2020-04-13\": 223, \"2020-04-14\": 92, \"2020-04-15\": 385, \"2020-04-16\": 240, \"2020-04-17\": 246, \"2020-04-18\": 330, \"2020-04-19\": 166, \"2020-04-20\": 177, \"2020-04-21\": 142, \"2020-04-22\": 384, \"2020-04-23\": 90, \"2020-04-24\": 293, \"2020-04-25\": 262, \"2020-04-26\": 201, \"tests informados\": 4307, \"tasa de tests\": 219.72584010570512}, {\"Region\": \"Metropolitana\", \"Codigo region\": 13, \"Poblacion\": 8125072, \"2020-04-09\": 5383, \"2020-04-10\": 3158, \"2020-04-11\": 2105, \"2020-04-12\": 3861, \"2020-04-13\": 1850, \"2020-04-14\": 1656, \"2020-04-15\": 2694, \"2020-04-16\": 4356, \"2020-04-17\": 3670, \"2020-04-18\": 2744, \"2020-04-19\": 3475, \"2020-04-20\": 3276, \"2020-04-21\": 2126, \"2020-04-22\": 3917, \"2020-04-23\": 3712, \"2020-04-24\": 4376, \"2020-04-25\": 4218, \"2020-04-26\": 4313, \"tests informados\": 60903, \"tasa de tests\": 749.5687422831453}, {\"Region\": \"O\\u2019Higgins\", \"Codigo region\": 6, \"Poblacion\": 991063, \"2020-04-09\": 68, \"2020-04-10\": 0, \"2020-04-11\": 74, \"2020-04-12\": 0, \"2020-04-13\": 74, \"2020-04-14\": 30, \"2020-04-15\": 30, \"2020-04-16\": 58, \"2020-04-17\": 50, \"2020-04-18\": 0, \"2020-04-19\": 0, \"2020-04-20\": 72, \"2020-04-21\": 65, \"2020-04-22\": 0, \"2020-04-23\": 86, \"2020-04-24\": 72, \"2020-04-25\": 0, \"2020-04-26\": 195, \"tests informados\": 880, \"tasa de tests\": 88.7935479379212}, {\"Region\": \"Maule\", \"Codigo region\": 7, \"Poblacion\": 1131939, \"2020-04-09\": 397, \"2020-04-10\": 219, \"2020-04-11\": 0, \"2020-04-12\": 341, \"2020-04-13\": 113, \"2020-04-14\": 160, \"2020-04-15\": 0, \"2020-04-16\": 469, \"2020-04-17\": 367, \"2020-04-18\": 176, \"2020-04-19\": 0, \"2020-04-20\": 328, \"2020-04-21\": 188, \"2020-04-22\": 724, \"2020-04-23\": 663, \"2020-04-24\": 606, \"2020-04-25\": 254, \"2020-04-26\": 349, \"tests informados\": 5361, \"tasa de tests\": 473.6120939379242}, {\"Region\": \"\\u00d1uble\", \"Codigo region\": 16, \"Poblacion\": 511551, \"2020-04-09\": 364, \"2020-04-10\": 0, \"2020-04-11\": 259, \"2020-04-12\": 189, \"2020-04-13\": 65, \"2020-04-14\": 0, \"2020-04-15\": 0, \"2020-04-16\": 110, \"2020-04-17\": 159, \"2020-04-18\": 76, \"2020-04-19\": 127, \"2020-04-20\": 149, \"2020-04-21\": 73, \"2020-04-22\": 221, \"2020-04-23\": 189, \"2020-04-24\": 0, \"2020-04-25\": 371, \"2020-04-26\": 91, \"tests informados\": 2459, \"tasa de tests\": 480.69498446880175}, {\"Region\": \"Biob\\u00edo\", \"Codigo region\": 8, \"Poblacion\": 1663696, \"2020-04-09\": 592, \"2020-04-10\": 149, \"2020-04-11\": 281, \"2020-04-12\": 469, \"2020-04-13\": 0, \"2020-04-14\": 218, \"2020-04-15\": 311, \"2020-04-16\": 408, \"2020-04-17\": 80, \"2020-04-18\": 751, \"2020-04-19\": 358, \"2020-04-20\": 214, \"2020-04-21\": 216, \"2020-04-22\": 340, \"2020-04-23\": 468, \"2020-04-24\": 340, \"2020-04-25\": 354, \"2020-04-26\": 404, \"tests informados\": 5961, \"tasa de tests\": 358.2986314807513}, {\"Region\": \"Araucan\\u00eda\", \"Codigo region\": 9, \"Poblacion\": 1014343, \"2020-04-09\": 124, \"2020-04-10\": 148, \"2020-04-11\": 126, \"2020-04-12\": 184, \"2020-04-13\": 232, \"2020-04-14\": 148, \"2020-04-15\": 218, \"2020-04-16\": 246, \"2020-04-17\": 220, \"2020-04-18\": 169, \"2020-04-19\": 122, \"2020-04-20\": 376, \"2020-04-21\": 206, \"2020-04-22\": 176, \"2020-04-23\": 370, \"2020-04-24\": 306, \"2020-04-25\": 347, \"2020-04-26\": 273, \"tests informados\": 4000, \"tasa de tests\": 394.3439250825411}, {\"Region\": \"Los R\\u00edos\", \"Codigo region\": 14, \"Poblacion\": 405835, \"2020-04-09\": 0, \"2020-04-10\": 91, \"2020-04-11\": 0, \"2020-04-12\": 0, \"2020-04-13\": 0, \"2020-04-14\": 67, \"2020-04-15\": 67, \"2020-04-16\": 49, \"2020-04-17\": 71, \"2020-04-18\": 91, \"2020-04-19\": 0, \"2020-04-20\": 121, \"2020-04-21\": 58, \"2020-04-22\": 54, \"2020-04-23\": 67, \"2020-04-24\": 87, \"2020-04-25\": 77, \"2020-04-26\": 99, \"tests informados\": 1013, \"tasa de tests\": 249.6088311752313}, {\"Region\": \"Los Lagos\", \"Codigo region\": 10, \"Poblacion\": 891440, \"2020-04-09\": 341, \"2020-04-10\": 199, \"2020-04-11\": 178, \"2020-04-12\": 225, \"2020-04-13\": 39, \"2020-04-14\": 131, \"2020-04-15\": 137, \"2020-04-16\": 139, \"2020-04-17\": 198, \"2020-04-18\": 315, \"2020-04-19\": 96, \"2020-04-20\": 139, \"2020-04-21\": 149, \"2020-04-22\": 209, \"2020-04-23\": 335, \"2020-04-24\": 324, \"2020-04-25\": 406, \"2020-04-26\": 302, \"tests informados\": 3872, \"tasa de tests\": 434.3534057255676}, {\"Region\": \"Ays\\u00e9n\", \"Codigo region\": 11, \"Poblacion\": 107297, \"2020-04-09\": 10, \"2020-04-10\": 0, \"2020-04-11\": 0, \"2020-04-12\": 7, \"2020-04-13\": 0, \"2020-04-14\": 12, \"2020-04-15\": 8, \"2020-04-16\": 16, \"2020-04-17\": 8, \"2020-04-18\": 8, \"2020-04-19\": 6, \"2020-04-20\": 0, \"2020-04-21\": 4, \"2020-04-22\": 4, \"2020-04-23\": 21, \"2020-04-24\": 48, \"2020-04-25\": 30, \"2020-04-26\": 13, \"tests informados\": 206, \"tasa de tests\": 191.99045639673056}, {\"Region\": \"Magallanes\", \"Codigo region\": 12, \"Poblacion\": 178362, \"2020-04-09\": 73, \"2020-04-10\": 24, \"2020-04-11\": 46, \"2020-04-12\": 45, \"2020-04-13\": 45, \"2020-04-14\": 35, \"2020-04-15\": 63, \"2020-04-16\": 86, \"2020-04-17\": 69, \"2020-04-18\": 48, \"2020-04-19\": 93, \"2020-04-20\": 48, \"2020-04-21\": 41, \"2020-04-22\": 49, \"2020-04-23\": 0, \"2020-04-24\": 93, \"2020-04-25\": 113, \"2020-04-26\": 52, \"tests informados\": 1035, \"tasa de tests\": 580.2805530325967}]}}, {\"mode\": \"vega-lite\"});\n",
       "</script>"
      ],
      "text/plain": [
       "alt.LayerChart(...)"
      ]
     },
     "execution_count": 110,
     "metadata": {},
     "output_type": "execute_result"
    }
   ],
   "source": [
    "#hide_input\n",
    "bars = alt.Chart(tests_raw.drop('Total').reset_index()).mark_bar().encode(\n",
    "    x = alt.X('tests informados:Q', axis=alt.Axis(title='Exámenes informados')),\n",
    "    y = alt.Y('Region:N', sort='-x'),\n",
    "    tooltip = 'tests informados'\n",
    ").properties(\n",
    "    title='COVID-19 en Chile: Total de exámenes informados por región desde el 9 de abril'\n",
    ")\n",
    "\n",
    "text = bars.mark_text(\n",
    "    align='left',\n",
    "    baseline='middle',\n",
    "    dx=3  # Nudges text to right so it doesn't appear on top of the bar\n",
    ").encode(\n",
    "    text=alt.Text('tests informados:Q', format='.0f')\n",
    ")\n",
    "\n",
    "(bars + text).properties(width=600, height=300)"
   ]
  },
  {
   "cell_type": "markdown",
   "metadata": {},
   "source": [
    "Fuente: [Ministerio de Ciencia](https://github.com/MinCiencia/Datos-COVID19)"
   ]
  },
  {
   "cell_type": "markdown",
   "metadata": {},
   "source": [
    "# Exámenes informados por región por cada 100.000 habitantes desde el 9 de abril\n",
    "Nota: sólo se dispone de los datos de exámenes informados por región desde el 9 de abril"
   ]
  },
  {
   "cell_type": "code",
   "execution_count": 111,
   "metadata": {
    "scrolled": true
   },
   "outputs": [
    {
     "data": {
      "text/html": [
       "\n",
       "<div id=\"altair-viz-71c9f4f199de4510a372fc1e458fb3a8\"></div>\n",
       "<script type=\"text/javascript\">\n",
       "  (function(spec, embedOpt){\n",
       "    let outputDiv = document.currentScript.previousElementSibling;\n",
       "    if (outputDiv.id !== \"altair-viz-71c9f4f199de4510a372fc1e458fb3a8\") {\n",
       "      outputDiv = document.getElementById(\"altair-viz-71c9f4f199de4510a372fc1e458fb3a8\");\n",
       "    }\n",
       "    const paths = {\n",
       "      \"vega\": \"https://cdn.jsdelivr.net/npm//vega@5?noext\",\n",
       "      \"vega-lib\": \"https://cdn.jsdelivr.net/npm//vega-lib?noext\",\n",
       "      \"vega-lite\": \"https://cdn.jsdelivr.net/npm//vega-lite@4.8.1?noext\",\n",
       "      \"vega-embed\": \"https://cdn.jsdelivr.net/npm//vega-embed@6?noext\",\n",
       "    };\n",
       "\n",
       "    function loadScript(lib) {\n",
       "      return new Promise(function(resolve, reject) {\n",
       "        var s = document.createElement('script');\n",
       "        s.src = paths[lib];\n",
       "        s.async = true;\n",
       "        s.onload = () => resolve(paths[lib]);\n",
       "        s.onerror = () => reject(`Error loading script: ${paths[lib]}`);\n",
       "        document.getElementsByTagName(\"head\")[0].appendChild(s);\n",
       "      });\n",
       "    }\n",
       "\n",
       "    function showError(err) {\n",
       "      outputDiv.innerHTML = `<div class=\"error\" style=\"color:red;\">${err}</div>`;\n",
       "      throw err;\n",
       "    }\n",
       "\n",
       "    function displayChart(vegaEmbed) {\n",
       "      vegaEmbed(outputDiv, spec, embedOpt)\n",
       "        .catch(err => showError(`Javascript Error: ${err.message}<br>This usually means there's a typo in your chart specification. See the javascript console for the full traceback.`));\n",
       "    }\n",
       "\n",
       "    if(typeof define === \"function\" && define.amd) {\n",
       "      requirejs.config({paths});\n",
       "      require([\"vega-embed\"], displayChart, err => showError(`Error loading script: ${err.message}`));\n",
       "    } else if (typeof vegaEmbed === \"function\") {\n",
       "      displayChart(vegaEmbed);\n",
       "    } else {\n",
       "      loadScript(\"vega\")\n",
       "        .then(() => loadScript(\"vega-lite\"))\n",
       "        .then(() => loadScript(\"vega-embed\"))\n",
       "        .catch(showError)\n",
       "        .then(() => displayChart(vegaEmbed));\n",
       "    }\n",
       "  })({\"config\": {\"view\": {\"continuousWidth\": 400, \"continuousHeight\": 300}}, \"layer\": [{\"mark\": \"bar\", \"encoding\": {\"tooltip\": {\"type\": \"quantitative\", \"field\": \"tasa de tests\"}, \"x\": {\"type\": \"quantitative\", \"axis\": {\"title\": \"Ex\\u00e1menes informados\"}, \"field\": \"tasa de tests\"}, \"y\": {\"type\": \"nominal\", \"field\": \"Region\", \"sort\": \"-x\"}}, \"title\": \"COVID-19 en Chile: Ex\\u00e1menes informados por regi\\u00f3n por cada 100.000 habitantes desde el 9 de abril\"}, {\"mark\": {\"type\": \"text\", \"align\": \"left\", \"baseline\": \"middle\", \"dx\": 3}, \"encoding\": {\"text\": {\"type\": \"quantitative\", \"field\": \"tasa de tests\", \"format\": \".1f\"}, \"tooltip\": {\"type\": \"quantitative\", \"field\": \"tasa de tests\"}, \"x\": {\"type\": \"quantitative\", \"axis\": {\"title\": \"Ex\\u00e1menes informados\"}, \"field\": \"tasa de tests\"}, \"y\": {\"type\": \"nominal\", \"field\": \"Region\", \"sort\": \"-x\"}}, \"title\": \"COVID-19 en Chile: Ex\\u00e1menes informados por regi\\u00f3n por cada 100.000 habitantes desde el 9 de abril\"}], \"data\": {\"name\": \"data-ba01d4329517034207791b27422571d6\"}, \"height\": 300, \"width\": 600, \"$schema\": \"https://vega.github.io/schema/vega-lite/v4.8.1.json\", \"datasets\": {\"data-ba01d4329517034207791b27422571d6\": [{\"Region\": \"Arica y Parinacota\", \"Codigo region\": 15, \"Poblacion\": 252110, \"2020-04-09\": 70, \"2020-04-10\": 0, \"2020-04-11\": 0, \"2020-04-12\": 103, \"2020-04-13\": 0, \"2020-04-14\": 93, \"2020-04-15\": 24, \"2020-04-16\": 198, \"2020-04-17\": 131, \"2020-04-18\": 0, \"2020-04-19\": 155, \"2020-04-20\": 48, \"2020-04-21\": 52, \"2020-04-22\": 0, \"2020-04-23\": 169, \"2020-04-24\": 85, \"2020-04-25\": 90, \"2020-04-26\": 73, \"tests informados\": 1306, \"tasa de tests\": 518.0278449882987}, {\"Region\": \"Tarapac\\u00e1\", \"Codigo region\": 1, \"Poblacion\": 382773, \"2020-04-09\": 0, \"2020-04-10\": 0, \"2020-04-11\": 0, \"2020-04-12\": 0, \"2020-04-13\": 0, \"2020-04-14\": 0, \"2020-04-15\": 0, \"2020-04-16\": 30, \"2020-04-17\": 0, \"2020-04-18\": 60, \"2020-04-19\": 0, \"2020-04-20\": 0, \"2020-04-21\": 30, \"2020-04-22\": 59, \"2020-04-23\": 30, \"2020-04-24\": 203, \"2020-04-25\": 118, \"2020-04-26\": 58, \"tests informados\": 589, \"tasa de tests\": 153.87710209445285}, {\"Region\": \"Antofagasta\", \"Codigo region\": 2, \"Poblacion\": 691854, \"2020-04-09\": 182, \"2020-04-10\": 128, \"2020-04-11\": 107, \"2020-04-12\": 175, \"2020-04-13\": 103, \"2020-04-14\": 95, \"2020-04-15\": 117, \"2020-04-16\": 117, \"2020-04-17\": 143, \"2020-04-18\": 200, \"2020-04-19\": 129, \"2020-04-20\": 197, \"2020-04-21\": 147, \"2020-04-22\": 152, \"2020-04-23\": 146, \"2020-04-24\": 166, \"2020-04-25\": 217, \"2020-04-26\": 214, \"tests informados\": 2737, \"tasa de tests\": 395.60369673370394}, {\"Region\": \"Atacama\", \"Codigo region\": 3, \"Poblacion\": 314709, \"2020-04-09\": 57, \"2020-04-10\": 52, \"2020-04-11\": 60, \"2020-04-12\": 25, \"2020-04-13\": 20, \"2020-04-14\": 22, \"2020-04-15\": 25, \"2020-04-16\": 29, \"2020-04-17\": 37, \"2020-04-18\": 50, \"2020-04-19\": 31, \"2020-04-20\": 33, \"2020-04-21\": 33, \"2020-04-22\": 47, \"2020-04-23\": 57, \"2020-04-24\": 77, \"2020-04-25\": 46, \"2020-04-26\": 54, \"tests informados\": 758, \"tasa de tests\": 240.85742701988187}, {\"Region\": \"Coquimbo\", \"Codigo region\": 4, \"Poblacion\": 836096, \"2020-04-09\": 0, \"2020-04-10\": 0, \"2020-04-11\": 0, \"2020-04-12\": 0, \"2020-04-13\": 0, \"2020-04-14\": 0, \"2020-04-15\": 0, \"2020-04-16\": 0, \"2020-04-17\": 0, \"2020-04-18\": 0, \"2020-04-19\": 0, \"2020-04-20\": 0, \"2020-04-21\": 0, \"2020-04-22\": 29, \"2020-04-23\": 22, \"2020-04-24\": 44, \"2020-04-25\": 42, \"2020-04-26\": 72, \"tests informados\": 213, \"tasa de tests\": 25.47554347826087}, {\"Region\": \"Valpara\\u00edso\", \"Codigo region\": 5, \"Poblacion\": 1960170, \"2020-04-09\": 301, \"2020-04-10\": 249, \"2020-04-11\": 248, \"2020-04-12\": 273, \"2020-04-13\": 223, \"2020-04-14\": 92, \"2020-04-15\": 385, \"2020-04-16\": 240, \"2020-04-17\": 246, \"2020-04-18\": 330, \"2020-04-19\": 166, \"2020-04-20\": 177, \"2020-04-21\": 142, \"2020-04-22\": 384, \"2020-04-23\": 90, \"2020-04-24\": 293, \"2020-04-25\": 262, \"2020-04-26\": 201, \"tests informados\": 4307, \"tasa de tests\": 219.72584010570512}, {\"Region\": \"Metropolitana\", \"Codigo region\": 13, \"Poblacion\": 8125072, \"2020-04-09\": 5383, \"2020-04-10\": 3158, \"2020-04-11\": 2105, \"2020-04-12\": 3861, \"2020-04-13\": 1850, \"2020-04-14\": 1656, \"2020-04-15\": 2694, \"2020-04-16\": 4356, \"2020-04-17\": 3670, \"2020-04-18\": 2744, \"2020-04-19\": 3475, \"2020-04-20\": 3276, \"2020-04-21\": 2126, \"2020-04-22\": 3917, \"2020-04-23\": 3712, \"2020-04-24\": 4376, \"2020-04-25\": 4218, \"2020-04-26\": 4313, \"tests informados\": 60903, \"tasa de tests\": 749.5687422831453}, {\"Region\": \"O\\u2019Higgins\", \"Codigo region\": 6, \"Poblacion\": 991063, \"2020-04-09\": 68, \"2020-04-10\": 0, \"2020-04-11\": 74, \"2020-04-12\": 0, \"2020-04-13\": 74, \"2020-04-14\": 30, \"2020-04-15\": 30, \"2020-04-16\": 58, \"2020-04-17\": 50, \"2020-04-18\": 0, \"2020-04-19\": 0, \"2020-04-20\": 72, \"2020-04-21\": 65, \"2020-04-22\": 0, \"2020-04-23\": 86, \"2020-04-24\": 72, \"2020-04-25\": 0, \"2020-04-26\": 195, \"tests informados\": 880, \"tasa de tests\": 88.7935479379212}, {\"Region\": \"Maule\", \"Codigo region\": 7, \"Poblacion\": 1131939, \"2020-04-09\": 397, \"2020-04-10\": 219, \"2020-04-11\": 0, \"2020-04-12\": 341, \"2020-04-13\": 113, \"2020-04-14\": 160, \"2020-04-15\": 0, \"2020-04-16\": 469, \"2020-04-17\": 367, \"2020-04-18\": 176, \"2020-04-19\": 0, \"2020-04-20\": 328, \"2020-04-21\": 188, \"2020-04-22\": 724, \"2020-04-23\": 663, \"2020-04-24\": 606, \"2020-04-25\": 254, \"2020-04-26\": 349, \"tests informados\": 5361, \"tasa de tests\": 473.6120939379242}, {\"Region\": \"\\u00d1uble\", \"Codigo region\": 16, \"Poblacion\": 511551, \"2020-04-09\": 364, \"2020-04-10\": 0, \"2020-04-11\": 259, \"2020-04-12\": 189, \"2020-04-13\": 65, \"2020-04-14\": 0, \"2020-04-15\": 0, \"2020-04-16\": 110, \"2020-04-17\": 159, \"2020-04-18\": 76, \"2020-04-19\": 127, \"2020-04-20\": 149, \"2020-04-21\": 73, \"2020-04-22\": 221, \"2020-04-23\": 189, \"2020-04-24\": 0, \"2020-04-25\": 371, \"2020-04-26\": 91, \"tests informados\": 2459, \"tasa de tests\": 480.69498446880175}, {\"Region\": \"Biob\\u00edo\", \"Codigo region\": 8, \"Poblacion\": 1663696, \"2020-04-09\": 592, \"2020-04-10\": 149, \"2020-04-11\": 281, \"2020-04-12\": 469, \"2020-04-13\": 0, \"2020-04-14\": 218, \"2020-04-15\": 311, \"2020-04-16\": 408, \"2020-04-17\": 80, \"2020-04-18\": 751, \"2020-04-19\": 358, \"2020-04-20\": 214, \"2020-04-21\": 216, \"2020-04-22\": 340, \"2020-04-23\": 468, \"2020-04-24\": 340, \"2020-04-25\": 354, \"2020-04-26\": 404, \"tests informados\": 5961, \"tasa de tests\": 358.2986314807513}, {\"Region\": \"Araucan\\u00eda\", \"Codigo region\": 9, \"Poblacion\": 1014343, \"2020-04-09\": 124, \"2020-04-10\": 148, \"2020-04-11\": 126, \"2020-04-12\": 184, \"2020-04-13\": 232, \"2020-04-14\": 148, \"2020-04-15\": 218, \"2020-04-16\": 246, \"2020-04-17\": 220, \"2020-04-18\": 169, \"2020-04-19\": 122, \"2020-04-20\": 376, \"2020-04-21\": 206, \"2020-04-22\": 176, \"2020-04-23\": 370, \"2020-04-24\": 306, \"2020-04-25\": 347, \"2020-04-26\": 273, \"tests informados\": 4000, \"tasa de tests\": 394.3439250825411}, {\"Region\": \"Los R\\u00edos\", \"Codigo region\": 14, \"Poblacion\": 405835, \"2020-04-09\": 0, \"2020-04-10\": 91, \"2020-04-11\": 0, \"2020-04-12\": 0, \"2020-04-13\": 0, \"2020-04-14\": 67, \"2020-04-15\": 67, \"2020-04-16\": 49, \"2020-04-17\": 71, \"2020-04-18\": 91, \"2020-04-19\": 0, \"2020-04-20\": 121, \"2020-04-21\": 58, \"2020-04-22\": 54, \"2020-04-23\": 67, \"2020-04-24\": 87, \"2020-04-25\": 77, \"2020-04-26\": 99, \"tests informados\": 1013, \"tasa de tests\": 249.6088311752313}, {\"Region\": \"Los Lagos\", \"Codigo region\": 10, \"Poblacion\": 891440, \"2020-04-09\": 341, \"2020-04-10\": 199, \"2020-04-11\": 178, \"2020-04-12\": 225, \"2020-04-13\": 39, \"2020-04-14\": 131, \"2020-04-15\": 137, \"2020-04-16\": 139, \"2020-04-17\": 198, \"2020-04-18\": 315, \"2020-04-19\": 96, \"2020-04-20\": 139, \"2020-04-21\": 149, \"2020-04-22\": 209, \"2020-04-23\": 335, \"2020-04-24\": 324, \"2020-04-25\": 406, \"2020-04-26\": 302, \"tests informados\": 3872, \"tasa de tests\": 434.3534057255676}, {\"Region\": \"Ays\\u00e9n\", \"Codigo region\": 11, \"Poblacion\": 107297, \"2020-04-09\": 10, \"2020-04-10\": 0, \"2020-04-11\": 0, \"2020-04-12\": 7, \"2020-04-13\": 0, \"2020-04-14\": 12, \"2020-04-15\": 8, \"2020-04-16\": 16, \"2020-04-17\": 8, \"2020-04-18\": 8, \"2020-04-19\": 6, \"2020-04-20\": 0, \"2020-04-21\": 4, \"2020-04-22\": 4, \"2020-04-23\": 21, \"2020-04-24\": 48, \"2020-04-25\": 30, \"2020-04-26\": 13, \"tests informados\": 206, \"tasa de tests\": 191.99045639673056}, {\"Region\": \"Magallanes\", \"Codigo region\": 12, \"Poblacion\": 178362, \"2020-04-09\": 73, \"2020-04-10\": 24, \"2020-04-11\": 46, \"2020-04-12\": 45, \"2020-04-13\": 45, \"2020-04-14\": 35, \"2020-04-15\": 63, \"2020-04-16\": 86, \"2020-04-17\": 69, \"2020-04-18\": 48, \"2020-04-19\": 93, \"2020-04-20\": 48, \"2020-04-21\": 41, \"2020-04-22\": 49, \"2020-04-23\": 0, \"2020-04-24\": 93, \"2020-04-25\": 113, \"2020-04-26\": 52, \"tests informados\": 1035, \"tasa de tests\": 580.2805530325967}]}}, {\"mode\": \"vega-lite\"});\n",
       "</script>"
      ],
      "text/plain": [
       "alt.LayerChart(...)"
      ]
     },
     "execution_count": 111,
     "metadata": {},
     "output_type": "execute_result"
    }
   ],
   "source": [
    "#hide_input\n",
    "bars = alt.Chart(tests_raw.drop('Total').reset_index()).mark_bar().encode(\n",
    "    x = alt.X('tasa de tests:Q', axis=alt.Axis(title='Exámenes informados')),\n",
    "    y = alt.Y('Region:N', sort='-x'),\n",
    "    tooltip = 'tasa de tests'\n",
    ").properties(\n",
    "    title='COVID-19 en Chile: Exámenes informados por región por cada 100.000 habitantes desde el 9 de abril'\n",
    ")\n",
    "\n",
    "text = bars.mark_text(\n",
    "    align='left',\n",
    "    baseline='middle',\n",
    "    dx=3  # Nudges text to right so it doesn't appear on top of the bar\n",
    ").encode(\n",
    "    text=alt.Text('tasa de tests:Q', format='.1f')\n",
    ")\n",
    "\n",
    "bars.configure_title(\n",
    "    fontSize=20,\n",
    "    font='Courier',\n",
    "    anchor='start',\n",
    "    color='gray'\n",
    ")\n",
    "\n",
    "(bars + text).properties(width=600, height=300)"
   ]
  },
  {
   "cell_type": "markdown",
   "metadata": {},
   "source": [
    "Fuente: [Ministerio de Ciencia](https://github.com/MinCiencia/Datos-COVID19)"
   ]
  },
  {
   "cell_type": "markdown",
   "metadata": {},
   "source": [
    "# Exámenes, casos confirmados, y fallecimientos confirmados por región  desde el 9 de abril\n",
    "Nota: sólo se dispone de los datos de exámenes informados por región desde el 9 de abril"
   ]
  },
  {
   "cell_type": "markdown",
   "metadata": {},
   "source": [
    "> <span style=\"color:green\">Exámenes</span>, <span style=\"color:blue\">casos confirmados</span>, y <span style=\"color:red\">fallecimientos confirmados</span> por región desde el 9 de abril."
   ]
  },
  {
   "cell_type": "code",
   "execution_count": 112,
   "metadata": {},
   "outputs": [],
   "source": [
    "#hide\n",
    "data = data.sort_values(by=\"Tests\", ascending=False)\n",
    "data_per_capita = data_per_capita.sort_values(by=\"Tests\", ascending=False)"
   ]
  },
  {
   "cell_type": "code",
   "execution_count": 113,
   "metadata": {
    "scrolled": true
   },
   "outputs": [],
   "source": [
    "#hide\n",
    "data[\"codigo\"]=np.arange(len(data))\n",
    "data_per_capita[\"codigo\"]=np.arange(len(data))"
   ]
  },
  {
   "cell_type": "code",
   "execution_count": 114,
   "metadata": {
    "scrolled": false
   },
   "outputs": [
    {
     "data": {
      "text/html": [
       "\n",
       "<div id=\"altair-viz-0227026d11544e98b8c3d66b0a9af830\"></div>\n",
       "<script type=\"text/javascript\">\n",
       "  (function(spec, embedOpt){\n",
       "    let outputDiv = document.currentScript.previousElementSibling;\n",
       "    if (outputDiv.id !== \"altair-viz-0227026d11544e98b8c3d66b0a9af830\") {\n",
       "      outputDiv = document.getElementById(\"altair-viz-0227026d11544e98b8c3d66b0a9af830\");\n",
       "    }\n",
       "    const paths = {\n",
       "      \"vega\": \"https://cdn.jsdelivr.net/npm//vega@5?noext\",\n",
       "      \"vega-lib\": \"https://cdn.jsdelivr.net/npm//vega-lib?noext\",\n",
       "      \"vega-lite\": \"https://cdn.jsdelivr.net/npm//vega-lite@4.8.1?noext\",\n",
       "      \"vega-embed\": \"https://cdn.jsdelivr.net/npm//vega-embed@6?noext\",\n",
       "    };\n",
       "\n",
       "    function loadScript(lib) {\n",
       "      return new Promise(function(resolve, reject) {\n",
       "        var s = document.createElement('script');\n",
       "        s.src = paths[lib];\n",
       "        s.async = true;\n",
       "        s.onload = () => resolve(paths[lib]);\n",
       "        s.onerror = () => reject(`Error loading script: ${paths[lib]}`);\n",
       "        document.getElementsByTagName(\"head\")[0].appendChild(s);\n",
       "      });\n",
       "    }\n",
       "\n",
       "    function showError(err) {\n",
       "      outputDiv.innerHTML = `<div class=\"error\" style=\"color:red;\">${err}</div>`;\n",
       "      throw err;\n",
       "    }\n",
       "\n",
       "    function displayChart(vegaEmbed) {\n",
       "      vegaEmbed(outputDiv, spec, embedOpt)\n",
       "        .catch(err => showError(`Javascript Error: ${err.message}<br>This usually means there's a typo in your chart specification. See the javascript console for the full traceback.`));\n",
       "    }\n",
       "\n",
       "    if(typeof define === \"function\" && define.amd) {\n",
       "      requirejs.config({paths});\n",
       "      require([\"vega-embed\"], displayChart, err => showError(`Error loading script: ${err.message}`));\n",
       "    } else if (typeof vegaEmbed === \"function\") {\n",
       "      displayChart(vegaEmbed);\n",
       "    } else {\n",
       "      loadScript(\"vega\")\n",
       "        .then(() => loadScript(\"vega-lite\"))\n",
       "        .then(() => loadScript(\"vega-embed\"))\n",
       "        .catch(showError)\n",
       "        .then(() => displayChart(vegaEmbed));\n",
       "    }\n",
       "  })({\"config\": {\"view\": {\"continuousWidth\": 400, \"continuousHeight\": 300}}, \"layer\": [{\"data\": {\"name\": \"data-892c9cc3eef8a9bb24e21eaa15fec5c1\"}, \"mark\": {\"type\": \"bar\", \"color\": \"green\", \"opacity\": 0.4}, \"encoding\": {\"tooltip\": [{\"type\": \"nominal\", \"field\": \"Region\"}, {\"type\": \"quantitative\", \"field\": \"Tests\"}, {\"type\": \"quantitative\", \"field\": \"Casos\"}, {\"type\": \"quantitative\", \"field\": \"Fallecidos\"}], \"x\": {\"type\": \"quantitative\", \"axis\": {\"title\": \"Ex\\u00e1menes informados, casos confirmados, fallecimientos confirmados\"}, \"field\": \"Tests\"}, \"y\": {\"type\": \"nominal\", \"field\": \"Region\", \"sort\": {\"field\": \"codigo\", \"order\": \"ascending\"}}}, \"title\": \"COVID-19 en Chile: Ex\\u00e1menes informados, casos confirmados y fallecidos confirmados por regi\\u00f3n\", \"width\": {\"step\": 40}}, {\"data\": {\"name\": \"data-892c9cc3eef8a9bb24e21eaa15fec5c1\"}, \"mark\": {\"type\": \"tick\", \"color\": \"black\", \"size\": 22.0, \"thickness\": 2}, \"encoding\": {\"tooltip\": [{\"type\": \"nominal\", \"field\": \"Region\"}, {\"type\": \"quantitative\", \"field\": \"Tests\"}, {\"type\": \"quantitative\", \"field\": \"Casos\"}, {\"type\": \"quantitative\", \"field\": \"Fallecidos\"}], \"x\": {\"type\": \"quantitative\", \"field\": \"Tests\"}, \"y\": {\"type\": \"nominal\", \"field\": \"Region\", \"sort\": {\"field\": \"codigo\", \"order\": \"ascending\"}}}}, {\"data\": {\"name\": \"data-892c9cc3eef8a9bb24e21eaa15fec5c1\"}, \"mark\": {\"type\": \"tick\", \"color\": \"blue\", \"size\": 22.0, \"thickness\": 2}, \"encoding\": {\"tooltip\": [{\"type\": \"nominal\", \"field\": \"Region\"}, {\"type\": \"quantitative\", \"field\": \"Tests\"}, {\"type\": \"quantitative\", \"field\": \"Casos\"}, {\"type\": \"quantitative\", \"field\": \"Fallecidos\"}], \"x\": {\"type\": \"quantitative\", \"field\": \"Casos\"}, \"y\": {\"type\": \"nominal\", \"field\": \"Region\", \"sort\": {\"field\": \"codigo\", \"order\": \"ascending\"}}}}, {\"data\": {\"name\": \"data-892c9cc3eef8a9bb24e21eaa15fec5c1\"}, \"mark\": {\"type\": \"tick\", \"color\": \"red\", \"size\": 22.0, \"thickness\": 2}, \"encoding\": {\"tooltip\": [{\"type\": \"nominal\", \"field\": \"Region\"}, {\"type\": \"quantitative\", \"field\": \"Tests\"}, {\"type\": \"quantitative\", \"field\": \"Casos\"}, {\"type\": \"quantitative\", \"field\": \"Fallecidos\"}], \"x\": {\"type\": \"quantitative\", \"field\": \"Fallecidos\"}, \"y\": {\"type\": \"nominal\", \"field\": \"Region\", \"sort\": {\"field\": \"codigo\", \"order\": \"ascending\"}}}}], \"height\": 400, \"width\": 600, \"$schema\": \"https://vega.github.io/schema/vega-lite/v4.8.1.json\", \"datasets\": {\"data-892c9cc3eef8a9bb24e21eaa15fec5c1\": [{\"Region\": \"Metropolitana\", \"Fallecidos\": 77, \"Casos\": 4948, \"Tests\": 60903, \"codigo\": 1}, {\"Region\": \"Biobio\", \"Fallecidos\": 4, \"Casos\": 264, \"Tests\": 5961, \"codigo\": 2}, {\"Region\": \"Maule\", \"Fallecidos\": 9, \"Casos\": 235, \"Tests\": 5361, \"codigo\": 3}, {\"Region\": \"Valparaiso\", \"Fallecidos\": 7, \"Casos\": 235, \"Tests\": 4307, \"codigo\": 4}, {\"Region\": \"Araucania\", \"Fallecidos\": 14, \"Casos\": 547, \"Tests\": 4000, \"codigo\": 5}, {\"Region\": \"Los  Lagos\", \"Fallecidos\": 6, \"Casos\": 148, \"Tests\": 3872, \"codigo\": 6}, {\"Region\": \"Antofagasta\", \"Fallecidos\": 3, \"Casos\": 366, \"Tests\": 2737, \"codigo\": 7}, {\"Region\": \"Nuble\", \"Fallecidos\": 9, \"Casos\": 170, \"Tests\": 2459, \"codigo\": 8}, {\"Region\": \"Arica  y  Parinacota\", \"Fallecidos\": 3, \"Casos\": 189, \"Tests\": 1306, \"codigo\": 9}, {\"Region\": \"Magallanes\", \"Fallecidos\": 6, \"Casos\": 402, \"Tests\": 1035, \"codigo\": 10}, {\"Region\": \"Los  Rios\", \"Fallecidos\": 1, \"Casos\": 64, \"Tests\": 1013, \"codigo\": 11}, {\"Region\": \"O'Higgins\", \"Fallecidos\": 1, \"Casos\": 49, \"Tests\": 880, \"codigo\": 12}, {\"Region\": \"Atacama\", \"Fallecidos\": 0, \"Casos\": 21, \"Tests\": 758, \"codigo\": 13}, {\"Region\": \"Tarapaca\", \"Fallecidos\": 1, \"Casos\": 130, \"Tests\": 589, \"codigo\": 14}, {\"Region\": \"Coquimbo\", \"Fallecidos\": 0, \"Casos\": 17, \"Tests\": 213, \"codigo\": 15}, {\"Region\": \"Aysen\", \"Fallecidos\": 0, \"Casos\": 0, \"Tests\": 206, \"codigo\": 16}]}}, {\"mode\": \"vega-lite\"});\n",
       "</script>"
      ],
      "text/plain": [
       "alt.LayerChart(...)"
      ]
     },
     "execution_count": 114,
     "metadata": {},
     "output_type": "execute_result"
    }
   ],
   "source": [
    "#hide_input\n",
    "bar = alt.Chart(data.drop(\"Total\").reset_index()).mark_bar(opacity=0.4, color='green').encode(\n",
    "    x=alt.X('Tests:Q', axis=alt.Axis(title='Exámenes informados, casos confirmados, fallecimientos confirmados')),\n",
    "    y=alt.Y('Region:N', sort=alt.EncodingSortField(field='codigo', order='ascending')),\n",
    "    tooltip = ['Region', 'Tests', 'Casos', 'Fallecidos']\n",
    ").properties(\n",
    "    title='COVID-19 en Chile: Exámenes informados, casos confirmados y fallecidos confirmados por región',\n",
    "    width=alt.Step(40)  # controls width of bar.\n",
    ")\n",
    "\n",
    "tick0 = alt.Chart(data.drop(\"Total\").reset_index()).mark_tick(\n",
    "    color='black',\n",
    "    thickness=2,\n",
    "    size=40 * 0.55,  # controls width of tick.\n",
    ").encode(\n",
    "    x='Tests:Q',\n",
    "    y=alt.Y('Region:N', sort=alt.EncodingSortField(field='codigo', order='ascending')),\n",
    "    tooltip = ['Region', 'Tests', 'Casos', 'Fallecidos']\n",
    ")\n",
    "\n",
    "tick1 = alt.Chart(data.drop(\"Total\").reset_index()).mark_tick(\n",
    "    color='blue',\n",
    "    thickness=2,\n",
    "    size=40 * 0.55,  # controls width of tick.\n",
    ").encode(\n",
    "    x='Casos:Q',\n",
    "    y=alt.Y('Region:N', sort=alt.EncodingSortField(field='codigo', order='ascending')),\n",
    "    tooltip = ['Region', 'Tests', 'Casos', 'Fallecidos']\n",
    ")\n",
    "\n",
    "tick2 = alt.Chart(data.drop(\"Total\").reset_index()).mark_tick(\n",
    "    color='red',\n",
    "    thickness=2,\n",
    "    size=40 * 0.55,  # controls width of tick.\n",
    ").encode(\n",
    "    x='Fallecidos:Q',\n",
    "    y=alt.Y('Region:N', sort=alt.EncodingSortField(field='codigo', order='ascending')),\n",
    "    tooltip = ['Region', 'Tests', 'Casos', 'Fallecidos']\n",
    ")\n",
    "\n",
    "(bar + tick0 + tick1 + tick2).properties(width=600, height=400)"
   ]
  },
  {
   "cell_type": "markdown",
   "metadata": {},
   "source": [
    "Fuente: [Ministerio de Ciencia](https://github.com/MinCiencia/Datos-COVID19)"
   ]
  },
  {
   "cell_type": "markdown",
   "metadata": {},
   "source": [
    "# Exámenes, casos confirmados, y fallecimientos confirmados por región por cada 100.000 habitantes desde el 9 de abril\n",
    "Nota: sólo se dispone de los datos de exámenes informados por región desde el 9 de abril"
   ]
  },
  {
   "cell_type": "markdown",
   "metadata": {},
   "source": [
    "> <span style=\"color:green\">Exámenes</span>, <span style=\"color:blue\">casos confirmados</span>, y <span style=\"color:red\">fallecimientos confirmados</span> por región por cada 100.000 habitantes desde el 9 de abril"
   ]
  },
  {
   "cell_type": "code",
   "execution_count": 115,
   "metadata": {
    "scrolled": false
   },
   "outputs": [
    {
     "data": {
      "text/html": [
       "\n",
       "<div id=\"altair-viz-c4165848bf594e1caf2c7df6710bd300\"></div>\n",
       "<script type=\"text/javascript\">\n",
       "  (function(spec, embedOpt){\n",
       "    let outputDiv = document.currentScript.previousElementSibling;\n",
       "    if (outputDiv.id !== \"altair-viz-c4165848bf594e1caf2c7df6710bd300\") {\n",
       "      outputDiv = document.getElementById(\"altair-viz-c4165848bf594e1caf2c7df6710bd300\");\n",
       "    }\n",
       "    const paths = {\n",
       "      \"vega\": \"https://cdn.jsdelivr.net/npm//vega@5?noext\",\n",
       "      \"vega-lib\": \"https://cdn.jsdelivr.net/npm//vega-lib?noext\",\n",
       "      \"vega-lite\": \"https://cdn.jsdelivr.net/npm//vega-lite@4.8.1?noext\",\n",
       "      \"vega-embed\": \"https://cdn.jsdelivr.net/npm//vega-embed@6?noext\",\n",
       "    };\n",
       "\n",
       "    function loadScript(lib) {\n",
       "      return new Promise(function(resolve, reject) {\n",
       "        var s = document.createElement('script');\n",
       "        s.src = paths[lib];\n",
       "        s.async = true;\n",
       "        s.onload = () => resolve(paths[lib]);\n",
       "        s.onerror = () => reject(`Error loading script: ${paths[lib]}`);\n",
       "        document.getElementsByTagName(\"head\")[0].appendChild(s);\n",
       "      });\n",
       "    }\n",
       "\n",
       "    function showError(err) {\n",
       "      outputDiv.innerHTML = `<div class=\"error\" style=\"color:red;\">${err}</div>`;\n",
       "      throw err;\n",
       "    }\n",
       "\n",
       "    function displayChart(vegaEmbed) {\n",
       "      vegaEmbed(outputDiv, spec, embedOpt)\n",
       "        .catch(err => showError(`Javascript Error: ${err.message}<br>This usually means there's a typo in your chart specification. See the javascript console for the full traceback.`));\n",
       "    }\n",
       "\n",
       "    if(typeof define === \"function\" && define.amd) {\n",
       "      requirejs.config({paths});\n",
       "      require([\"vega-embed\"], displayChart, err => showError(`Error loading script: ${err.message}`));\n",
       "    } else if (typeof vegaEmbed === \"function\") {\n",
       "      displayChart(vegaEmbed);\n",
       "    } else {\n",
       "      loadScript(\"vega\")\n",
       "        .then(() => loadScript(\"vega-lite\"))\n",
       "        .then(() => loadScript(\"vega-embed\"))\n",
       "        .catch(showError)\n",
       "        .then(() => displayChart(vegaEmbed));\n",
       "    }\n",
       "  })({\"config\": {\"view\": {\"continuousWidth\": 400, \"continuousHeight\": 300}}, \"layer\": [{\"data\": {\"name\": \"data-27576a121084c911a13ec083ed36e648\"}, \"mark\": {\"type\": \"bar\", \"color\": \"green\", \"opacity\": 0.4}, \"encoding\": {\"tooltip\": [{\"type\": \"nominal\", \"field\": \"Region\"}, {\"type\": \"quantitative\", \"field\": \"Tests\"}, {\"type\": \"quantitative\", \"field\": \"Casos\"}, {\"type\": \"quantitative\", \"field\": \"Fallecidos\"}], \"x\": {\"type\": \"quantitative\", \"axis\": {\"title\": \"Ex\\u00e1menes informados, casos confirmados, fallecimientos confirmados\"}, \"field\": \"Tests\"}, \"y\": {\"type\": \"nominal\", \"field\": \"Region\", \"sort\": {\"field\": \"codigo\", \"order\": \"ascending\"}}}, \"title\": \"COVID-19 en Chile: Ex\\u00e1menes informados, casos confirmados y fallecidos confirmados por regi\\u00f3n por cada 100.000 habitantes\", \"width\": {\"step\": 40}}, {\"data\": {\"name\": \"data-27576a121084c911a13ec083ed36e648\"}, \"mark\": {\"type\": \"tick\", \"color\": \"black\", \"size\": 22.0, \"thickness\": 2}, \"encoding\": {\"tooltip\": [{\"type\": \"nominal\", \"field\": \"Region\"}, {\"type\": \"quantitative\", \"field\": \"Tests\"}, {\"type\": \"quantitative\", \"field\": \"Casos\"}, {\"type\": \"quantitative\", \"field\": \"Fallecidos\"}], \"x\": {\"type\": \"quantitative\", \"field\": \"Tests\"}, \"y\": {\"type\": \"nominal\", \"field\": \"Region\", \"sort\": {\"field\": \"codigo\", \"order\": \"ascending\"}}}}, {\"data\": {\"name\": \"data-27576a121084c911a13ec083ed36e648\"}, \"mark\": {\"type\": \"tick\", \"color\": \"blue\", \"size\": 22.0, \"thickness\": 2}, \"encoding\": {\"tooltip\": [{\"type\": \"nominal\", \"field\": \"Region\"}, {\"type\": \"quantitative\", \"field\": \"Tests\"}, {\"type\": \"quantitative\", \"field\": \"Casos\"}, {\"type\": \"quantitative\", \"field\": \"Fallecidos\"}], \"x\": {\"type\": \"quantitative\", \"field\": \"Casos\"}, \"y\": {\"type\": \"nominal\", \"field\": \"Region\", \"sort\": {\"field\": \"codigo\", \"order\": \"ascending\"}}}}, {\"data\": {\"name\": \"data-27576a121084c911a13ec083ed36e648\"}, \"mark\": {\"type\": \"tick\", \"color\": \"red\", \"size\": 22.0, \"thickness\": 2}, \"encoding\": {\"tooltip\": [{\"type\": \"nominal\", \"field\": \"Region\"}, {\"type\": \"quantitative\", \"field\": \"Tests\"}, {\"type\": \"quantitative\", \"field\": \"Casos\"}, {\"type\": \"quantitative\", \"field\": \"Fallecidos\"}], \"x\": {\"type\": \"quantitative\", \"field\": \"Fallecidos\"}, \"y\": {\"type\": \"nominal\", \"field\": \"Region\", \"sort\": {\"field\": \"codigo\", \"order\": \"ascending\"}}}}], \"height\": 400, \"width\": 600, \"$schema\": \"https://vega.github.io/schema/vega-lite/v4.8.1.json\", \"datasets\": {\"data-27576a121084c911a13ec083ed36e648\": [{\"Region\": \"Metropolitana\", \"Fallecidos\": 0.947683909754892, \"Casos\": 60.89792188918449, \"Tests\": 749.5687422831453, \"codigo\": 0}, {\"Region\": \"Magallanes\", \"Fallecidos\": 3.363945234971575, \"Casos\": 225.3843307430955, \"Tests\": 580.2805530325967, \"codigo\": 1}, {\"Region\": \"Arica  y  Parinacota\", \"Fallecidos\": 1.1899567649042084, \"Casos\": 74.96727618896513, \"Tests\": 518.0278449882987, \"codigo\": 2}, {\"Region\": \"Nuble\", \"Fallecidos\": 1.759355372191629, \"Casos\": 33.232268141397434, \"Tests\": 480.69498446880175, \"codigo\": 4}, {\"Region\": \"Maule\", \"Fallecidos\": 0.7950958488045734, \"Casos\": 20.760836052119416, \"Tests\": 473.6120939379242, \"codigo\": 5}, {\"Region\": \"Los  Lagos\", \"Fallecidos\": 0.6730682939962308, \"Casos\": 16.602351251907027, \"Tests\": 434.3534057255676, \"codigo\": 6}, {\"Region\": \"Antofagasta\", \"Fallecidos\": 0.4336174973332524, \"Casos\": 52.901334674656795, \"Tests\": 395.60369673370394, \"codigo\": 7}, {\"Region\": \"Araucania\", \"Fallecidos\": 1.3802037377888938, \"Casos\": 53.926531755037495, \"Tests\": 394.3439250825411, \"codigo\": 8}, {\"Region\": \"Biobio\", \"Fallecidos\": 0.2404285398293919, \"Casos\": 15.868283628739865, \"Tests\": 358.2986314807513, \"codigo\": 9}, {\"Region\": \"Los  Rios\", \"Fallecidos\": 0.246405558909409, \"Casos\": 15.769955770202175, \"Tests\": 249.6088311752313, \"codigo\": 10}, {\"Region\": \"Atacama\", \"Fallecidos\": 0.0, \"Casos\": 6.67283109157984, \"Tests\": 240.85742701988187, \"codigo\": 11}, {\"Region\": \"Valparaiso\", \"Fallecidos\": 0.3571118831529918, \"Casos\": 11.988756077279012, \"Tests\": 219.72584010570512, \"codigo\": 12}, {\"Region\": \"Aysen\", \"Fallecidos\": 0.0, \"Casos\": 0.0, \"Tests\": 191.99045639673056, \"codigo\": 13}, {\"Region\": \"Tarapaca\", \"Fallecidos\": 0.261251446679886, \"Casos\": 33.96268806838518, \"Tests\": 153.87710209445285, \"codigo\": 14}, {\"Region\": \"O'Higgins\", \"Fallecidos\": 0.10090175902036501, \"Casos\": 4.944186191997885, \"Tests\": 88.7935479379212, \"codigo\": 15}, {\"Region\": \"Coquimbo\", \"Fallecidos\": 0.0, \"Casos\": 2.033259338640539, \"Tests\": 25.47554347826087, \"codigo\": 16}]}}, {\"mode\": \"vega-lite\"});\n",
       "</script>"
      ],
      "text/plain": [
       "alt.LayerChart(...)"
      ]
     },
     "execution_count": 115,
     "metadata": {},
     "output_type": "execute_result"
    }
   ],
   "source": [
    "#hide_input\n",
    "bar = alt.Chart(data_per_capita.drop(\"Total\").reset_index()).mark_bar(opacity=0.4, color='green').encode(\n",
    "    x=alt.X('Tests:Q', axis=alt.Axis(title='Exámenes informados, casos confirmados, fallecimientos confirmados')),\n",
    "    y=alt.Y('Region:N', sort=alt.EncodingSortField(field='codigo', order='ascending')),\n",
    "    tooltip = ['Region', 'Tests', 'Casos', 'Fallecidos']\n",
    ").properties(\n",
    "    title='COVID-19 en Chile: Exámenes informados, casos confirmados y fallecidos confirmados por región por cada 100.000 habitantes',\n",
    "    width=alt.Step(40)  # controls width of bar.\n",
    ")\n",
    "\n",
    "tick0 = alt.Chart(data_per_capita.drop(\"Total\").reset_index()).mark_tick(\n",
    "    color='black',\n",
    "    thickness=2,\n",
    "    size=40 * 0.55,  # controls width of tick.\n",
    ").encode(\n",
    "    x='Tests:Q',\n",
    "    y=alt.Y('Region', sort=alt.EncodingSortField(field='codigo', order='ascending')),\n",
    "    tooltip = ['Region', 'Tests', 'Casos', 'Fallecidos']\n",
    ")\n",
    "\n",
    "tick1 = alt.Chart(data_per_capita.drop(\"Total\").reset_index()).mark_tick(\n",
    "    color='blue',\n",
    "    thickness=2,\n",
    "    size=40 * 0.55,  # controls width of tick.\n",
    ").encode(\n",
    "    x='Casos:Q',\n",
    "    y=alt.Y('Region', sort=alt.EncodingSortField(field='codigo', order='ascending')),\n",
    "    tooltip = ['Region', 'Tests', 'Casos', 'Fallecidos']\n",
    ")\n",
    "\n",
    "tick2 = alt.Chart(data_per_capita.drop(\"Total\").reset_index()).mark_tick(\n",
    "    color='red',\n",
    "    thickness=2,\n",
    "    size=40 * 0.55,  # controls width of tick.\n",
    ").encode(\n",
    "    x='Fallecidos:Q',\n",
    "    y=alt.Y('Region', sort=alt.EncodingSortField(field='codigo', order='ascending')),\n",
    "    tooltip = ['Region', 'Tests', 'Casos', 'Fallecidos']\n",
    ")\n",
    "\n",
    "(bar + tick0 + tick1 + tick2).properties(width=600, height=400)"
   ]
  },
  {
   "cell_type": "markdown",
   "metadata": {},
   "source": [
    "Fuente: [Ministerio de Ciencia](https://github.com/MinCiencia/Datos-COVID19)"
   ]
  },
  {
   "cell_type": "markdown",
   "metadata": {},
   "source": [
    "# Exámenes, casos confirmados, y fallecimientos confirmados por país de la OCDE por cada 1 millón de habitantes"
   ]
  },
  {
   "cell_type": "markdown",
   "metadata": {},
   "source": [
    "> <span style=\"color:green\">Exámenes</span>, <span style=\"color:blue\">casos confirmados</span>, y <span style=\"color:red\">fallecimientos confirmados</span> por país por cada 1 millón de habitantes"
   ]
  },
  {
   "cell_type": "code",
   "execution_count": 116,
   "metadata": {},
   "outputs": [],
   "source": [
    "#hide\n",
    "test_data_raw = pd.read_csv('https://raw.githubusercontent.com/owid/covid-19-data/master/public/data/testing/covid-testing-all-observations.csv')"
   ]
  },
  {
   "cell_type": "code",
   "execution_count": 117,
   "metadata": {},
   "outputs": [],
   "source": [
    "#hide\n",
    "list_OCDE = ['Australia', 'Austria', 'Belgium', 'Canada', 'Chile', \n",
    "                  'Czech Republic', 'Denmark', 'Estonia', 'Finland', 'France',\n",
    "                  'Germany', 'Greece', 'Hungary', 'Iceland', 'Ireland',\n",
    "                  'Israel', 'Italy', 'Japan', 'Korea', 'Latvia',\n",
    "                  'Lithuania', 'Luxembourg', 'Mexico', 'Netherlands', 'New Zealand',\n",
    "                  'Norway', 'Poland', 'Portugal', 'Slovakia', 'Slovenia',\n",
    "                  'Spain', 'Sweden', 'Switzerland', 'Turkey', 'United Kingdom']"
   ]
  },
  {
   "cell_type": "code",
   "execution_count": 118,
   "metadata": {},
   "outputs": [],
   "source": [
    "#hide\n",
    "test_data = pd.DataFrame()\n",
    "for country in list_OCDE:\n",
    "    test_data[country] = test_data_raw[test_data_raw['Entity'].str.contains(country)].iloc[-1]"
   ]
  },
  {
   "cell_type": "code",
   "execution_count": 119,
   "metadata": {},
   "outputs": [],
   "source": [
    "#hide\n",
    "# United States tiene dos series. Utilizo la que tiene datos más recientes.\n",
    "test_data['United States'] = test_data_raw[test_data_raw['Entity'].str.contains('United States - inconsistent units')].iloc[-1]"
   ]
  },
  {
   "cell_type": "code",
   "execution_count": 120,
   "metadata": {},
   "outputs": [],
   "source": [
    "#hide\n",
    "test_data = test_data.T"
   ]
  },
  {
   "cell_type": "code",
   "execution_count": 121,
   "metadata": {},
   "outputs": [],
   "source": [
    "#hide\n",
    "data = pd.DataFrame()\n",
    "data['Tests'] = test_data['Cumulative total']"
   ]
  },
  {
   "cell_type": "code",
   "execution_count": 122,
   "metadata": {},
   "outputs": [],
   "source": [
    "#hide\n",
    "list_OCDE = list_OCDE + ['United States']"
   ]
  },
  {
   "cell_type": "code",
   "execution_count": 123,
   "metadata": {},
   "outputs": [],
   "source": [
    "#hide\n",
    "full_data = pd.read_csv(\"https://covid.ourworldindata.org/data/ecdc/full_data.csv\", index_col='date')"
   ]
  },
  {
   "cell_type": "code",
   "execution_count": 124,
   "metadata": {},
   "outputs": [],
   "source": [
    "#hide\n",
    "cases = pd.Series()\n",
    "deaths = pd.Series()\n",
    "for country in list_OCDE:\n",
    "    cases[country] = full_data[full_data['location'].str.contains(country)].iloc[-1]['total_cases']\n",
    "    deaths[country] = full_data[full_data['location'].str.contains(country)].iloc[-1]['total_deaths']"
   ]
  },
  {
   "cell_type": "code",
   "execution_count": 125,
   "metadata": {},
   "outputs": [],
   "source": [
    "#hide\n",
    "data['Cases'] = cases\n",
    "data['Deaths'] = deaths"
   ]
  },
  {
   "cell_type": "code",
   "execution_count": 126,
   "metadata": {},
   "outputs": [],
   "source": [
    "#hide\n",
    "locations_data = pd.read_csv('https://covid.ourworldindata.org/data/ecdc/locations.csv')"
   ]
  },
  {
   "cell_type": "code",
   "execution_count": 127,
   "metadata": {},
   "outputs": [],
   "source": [
    "#hide\n",
    "population = pd.Series()\n",
    "for country in list_OCDE:\n",
    "    population[country] = locations_data[locations_data['location'].str.contains(country)].iloc[-1]['population']"
   ]
  },
  {
   "cell_type": "code",
   "execution_count": 128,
   "metadata": {},
   "outputs": [],
   "source": [
    "#hide\n",
    "data['Population'] = population"
   ]
  },
  {
   "cell_type": "code",
   "execution_count": 129,
   "metadata": {},
   "outputs": [],
   "source": [
    "#hide\n",
    "data['Tests'] = 1000000*data['Tests']/data['Population']\n",
    "data['Cases'] = 1000000*data['Cases']/data['Population']\n",
    "data['Deaths'] = 1000000*data['Deaths']/data['Population']"
   ]
  },
  {
   "cell_type": "code",
   "execution_count": 130,
   "metadata": {},
   "outputs": [],
   "source": [
    "#hide\n",
    "data = data.sort_values(by='Tests', ascending=False)\n",
    "data['codigo'] = np.arange(len(data))"
   ]
  },
  {
   "cell_type": "code",
   "execution_count": 131,
   "metadata": {},
   "outputs": [
    {
     "data": {
      "text/html": [
       "\n",
       "<div id=\"altair-viz-3060dd5d1a9c484e8f2bc07bea305420\"></div>\n",
       "<script type=\"text/javascript\">\n",
       "  (function(spec, embedOpt){\n",
       "    let outputDiv = document.currentScript.previousElementSibling;\n",
       "    if (outputDiv.id !== \"altair-viz-3060dd5d1a9c484e8f2bc07bea305420\") {\n",
       "      outputDiv = document.getElementById(\"altair-viz-3060dd5d1a9c484e8f2bc07bea305420\");\n",
       "    }\n",
       "    const paths = {\n",
       "      \"vega\": \"https://cdn.jsdelivr.net/npm//vega@5?noext\",\n",
       "      \"vega-lib\": \"https://cdn.jsdelivr.net/npm//vega-lib?noext\",\n",
       "      \"vega-lite\": \"https://cdn.jsdelivr.net/npm//vega-lite@4.8.1?noext\",\n",
       "      \"vega-embed\": \"https://cdn.jsdelivr.net/npm//vega-embed@6?noext\",\n",
       "    };\n",
       "\n",
       "    function loadScript(lib) {\n",
       "      return new Promise(function(resolve, reject) {\n",
       "        var s = document.createElement('script');\n",
       "        s.src = paths[lib];\n",
       "        s.async = true;\n",
       "        s.onload = () => resolve(paths[lib]);\n",
       "        s.onerror = () => reject(`Error loading script: ${paths[lib]}`);\n",
       "        document.getElementsByTagName(\"head\")[0].appendChild(s);\n",
       "      });\n",
       "    }\n",
       "\n",
       "    function showError(err) {\n",
       "      outputDiv.innerHTML = `<div class=\"error\" style=\"color:red;\">${err}</div>`;\n",
       "      throw err;\n",
       "    }\n",
       "\n",
       "    function displayChart(vegaEmbed) {\n",
       "      vegaEmbed(outputDiv, spec, embedOpt)\n",
       "        .catch(err => showError(`Javascript Error: ${err.message}<br>This usually means there's a typo in your chart specification. See the javascript console for the full traceback.`));\n",
       "    }\n",
       "\n",
       "    if(typeof define === \"function\" && define.amd) {\n",
       "      requirejs.config({paths});\n",
       "      require([\"vega-embed\"], displayChart, err => showError(`Error loading script: ${err.message}`));\n",
       "    } else if (typeof vegaEmbed === \"function\") {\n",
       "      displayChart(vegaEmbed);\n",
       "    } else {\n",
       "      loadScript(\"vega\")\n",
       "        .then(() => loadScript(\"vega-lite\"))\n",
       "        .then(() => loadScript(\"vega-embed\"))\n",
       "        .catch(showError)\n",
       "        .then(() => displayChart(vegaEmbed));\n",
       "    }\n",
       "  })({\"config\": {\"view\": {\"continuousWidth\": 400, \"continuousHeight\": 300}}, \"layer\": [{\"data\": {\"name\": \"data-1ad532d863168fa197a4087e17e9e064\"}, \"mark\": {\"type\": \"bar\", \"color\": \"green\", \"opacity\": 0.4}, \"encoding\": {\"tooltip\": [{\"type\": \"nominal\", \"field\": \"index\"}, {\"type\": \"quantitative\", \"field\": \"Tests\"}, {\"type\": \"quantitative\", \"field\": \"Cases\"}, {\"type\": \"quantitative\", \"field\": \"Deaths\"}], \"x\": {\"type\": \"quantitative\", \"axis\": {\"title\": \"Ex\\u00e1menes informados, casos confirmados, fallecimientos confirmados por cada 1 mill\\u00f3n de habitantes\"}, \"field\": \"Tests\"}, \"y\": {\"type\": \"nominal\", \"axis\": {\"title\": \"Pa\\u00eds\"}, \"field\": \"index\", \"sort\": {\"field\": \"codigo\", \"order\": \"ascending\"}}}, \"title\": \"COVID-19: Ex\\u00e1menes informados, casos confirmados y fallecidos confirmados por pa\\u00eds por cada 1 mill\\u00f3n de habitantes\", \"width\": {\"step\": 40}}, {\"data\": {\"name\": \"data-1ad532d863168fa197a4087e17e9e064\"}, \"mark\": {\"type\": \"tick\", \"color\": \"black\", \"size\": 17.2, \"thickness\": 2}, \"encoding\": {\"tooltip\": [{\"type\": \"nominal\", \"field\": \"index\"}, {\"type\": \"quantitative\", \"field\": \"Tests\"}, {\"type\": \"quantitative\", \"field\": \"Cases\"}, {\"type\": \"quantitative\", \"field\": \"Deaths\"}], \"x\": {\"type\": \"quantitative\", \"field\": \"Tests\"}, \"y\": {\"type\": \"nominal\", \"field\": \"index\", \"sort\": {\"field\": \"codigo\", \"order\": \"ascending\"}}}}, {\"data\": {\"name\": \"data-1ad532d863168fa197a4087e17e9e064\"}, \"mark\": {\"type\": \"tick\", \"color\": \"blue\", \"size\": 17.2, \"thickness\": 2}, \"encoding\": {\"tooltip\": [{\"type\": \"nominal\", \"field\": \"index\"}, {\"type\": \"quantitative\", \"field\": \"Tests\"}, {\"type\": \"quantitative\", \"field\": \"Cases\"}, {\"type\": \"quantitative\", \"field\": \"Deaths\"}], \"x\": {\"type\": \"quantitative\", \"field\": \"Cases\"}, \"y\": {\"type\": \"nominal\", \"field\": \"index\", \"sort\": {\"field\": \"codigo\", \"order\": \"ascending\"}}}}, {\"data\": {\"name\": \"data-1ad532d863168fa197a4087e17e9e064\"}, \"mark\": {\"type\": \"tick\", \"color\": \"red\", \"size\": 17.2, \"thickness\": 2}, \"encoding\": {\"tooltip\": [{\"type\": \"nominal\", \"field\": \"index\"}, {\"type\": \"quantitative\", \"field\": \"Tests\"}, {\"type\": \"quantitative\", \"field\": \"Cases\"}, {\"type\": \"quantitative\", \"field\": \"Deaths\"}], \"x\": {\"type\": \"quantitative\", \"field\": \"Deaths\"}, \"y\": {\"type\": \"nominal\", \"field\": \"index\", \"sort\": {\"field\": \"codigo\", \"order\": \"ascending\"}}}}], \"$schema\": \"https://vega.github.io/schema/vega-lite/v4.8.1.json\", \"datasets\": {\"data-1ad532d863168fa197a4087e17e9e064\": [{\"index\": \"Iceland\", \"Tests\": 134593.4065934066, \"Cases\": 5245.421245421246, \"Deaths\": 29.304029304029303, \"Population\": 341250.0, \"codigo\": 0}, {\"index\": \"Luxembourg\", \"Tests\": 61526.32049791046, \"Cases\": 5928.342300663284, \"Deaths\": 135.7879535317648, \"Population\": 625976.0, \"codigo\": 1}, {\"index\": \"Lithuania\", \"Tests\": 38382.37719626594, \"Cases\": 528.2315520273181, \"Deaths\": 15.060843972962479, \"Population\": 2722291.0, \"codigo\": 2}, {\"index\": \"Estonia\", \"Tests\": 36133.87921500989, \"Cases\": 1232.5306681522368, \"Deaths\": 34.67670381345742, \"Population\": 1326539.0, \"codigo\": 3}, {\"index\": \"Israel\", \"Tests\": 30184.826113122217, \"Cases\": 1767.4227411088457, \"Deaths\": 22.991052783413537, \"Population\": 8655541.0, \"codigo\": 4}, {\"index\": \"Switzerland\", \"Tests\": 28845.871649101093, \"Cases\": 3328.9741962036915, \"Deaths\": 153.44409192872521, \"Population\": 8654618.0, \"codigo\": 5}, {\"index\": \"Norway\", \"Tests\": 28614.29170658679, \"Cases\": 1377.3596530094026, \"Deaths\": 35.600698142602745, \"Population\": 5421242.0, \"codigo\": 6}, {\"index\": \"Italy\", \"Tests\": 28244.97797188666, \"Cases\": 3230.9807106725257, \"Deaths\": 436.37450061880367, \"Population\": 60461828.0, \"codigo\": 7}, {\"index\": \"Austria\", \"Tests\": 25274.360454787708, \"Cases\": 1680.3606324391544, \"Deaths\": 59.513235032865516, \"Population\": 9006400.0, \"codigo\": 8}, {\"index\": \"Latvia\", \"Tests\": 25244.910142179895, \"Cases\": 426.25339173641, \"Deaths\": 6.361990921438955, \"Population\": 1886202.0, \"codigo\": 9}, {\"index\": \"New Zealand\", \"Tests\": 25088.16973381419, \"Cases\": 232.46491822356987, \"Deaths\": 3.7327105513151273, \"Population\": 4822233.0, \"codigo\": 10}, {\"index\": \"Germany\", \"Tests\": 24738.259818154896, \"Cases\": 1840.1496850022997, \"Deaths\": 67.31599950324612, \"Population\": 83783945.0, \"codigo\": 11}, {\"index\": \"Slovenia\", \"Tests\": 23960.860672691557, \"Cases\": 667.650505163228, \"Deaths\": 38.962313341658124, \"Population\": 2078932.0, \"codigo\": 12}, {\"index\": \"Denmark\", \"Tests\": 23607.252715417606, \"Cases\": 1457.994479820545, \"Deaths\": 72.16597898934135, \"Population\": 5792203.0, \"codigo\": 13}, {\"index\": \"Ireland\", \"Tests\": 22597.936407255384, \"Cases\": 3758.9645258734868, \"Deaths\": 215.27823344666325, \"Population\": 4937796.0, \"codigo\": 14}, {\"index\": \"Portugal\", \"Tests\": 22257.57786312777, \"Cases\": 2294.0739593674703, \"Deaths\": 86.30237193242877, \"Population\": 10196707.0, \"codigo\": 15}, {\"index\": \"Czech Republic\", \"Tests\": 20087.436882422626, \"Cases\": 686.5265064410418, \"Deaths\": 20.35674352613535, \"Population\": 10708982.0, \"codigo\": 16}, {\"index\": \"Spain\", \"Tests\": 19895.93235840705, \"Cases\": 4700.3533306956, \"Deaths\": 481.74750377945287, \"Population\": 46754783.0, \"codigo\": 17}, {\"index\": \"Australia\", \"Tests\": 19382.717903663943, \"Cases\": 262.8639717965743, \"Deaths\": 3.1764854118338826, \"Population\": 25499881.0, \"codigo\": 18}, {\"index\": \"Canada\", \"Tests\": 18130.150854918018, \"Cases\": 1201.3356841263735, \"Deaths\": 65.31158248321631, \"Population\": 37742157.0, \"codigo\": 19}, {\"index\": \"Belgium\", \"Tests\": 17811.202718019304, \"Cases\": 3910.8284519521612, \"Deaths\": 596.8273668428703, \"Population\": 11589616.0, \"codigo\": 20}, {\"index\": \"United States\", \"Tests\": 15663.424588867412, \"Cases\": 0.16616181320145154, \"Deaths\": 0.009063371629170083, \"Population\": 331002647.0, \"codigo\": 21}, {\"index\": \"Finland\", \"Tests\": 14037.711357986456, \"Cases\": 807.6570581646639, \"Deaths\": 33.569656495782674, \"Population\": 5540718.0, \"codigo\": 22}, {\"index\": \"Slovakia\", \"Tests\": 12991.325623305407, \"Cases\": 251.48164449580312, \"Deaths\": 3.113756705337693, \"Population\": 5459643.0, \"codigo\": 23}, {\"index\": \"Korea\", \"Tests\": 11669.485741561359, \"Cases\": 209.24850704174474, \"Deaths\": 4.720184442962549, \"Population\": 51269183.0, \"codigo\": 24}, {\"index\": \"Netherlands\", \"Tests\": 11357.948203059339, \"Cases\": 2170.4275251996323, \"Deaths\": 257.3115073569556, \"Population\": 17134873.0, \"codigo\": 25}, {\"index\": \"Turkey\", \"Tests\": 10298.489548147361, \"Cases\": 1277.8538325542538, \"Deaths\": 32.084775137481664, \"Population\": 84339067.0, \"codigo\": 26}, {\"index\": \"United Kingdom\", \"Tests\": 9439.23581066872, \"Cases\": 2185.6788035424797, \"Deaths\": 299.3105913260118, \"Population\": 67886004.0, \"codigo\": 27}, {\"index\": \"Sweden\", \"Tests\": 9396.718772742981, \"Cases\": 1799.8330572407708, \"Deaths\": 217.04539040940583, \"Population\": 10099270.0, \"codigo\": 28}, {\"index\": \"France\", \"Tests\": 9117.84859990374, \"Cases\": 1901.445106860498, \"Deaths\": 346.4498738783965, \"Population\": 65273512.0, \"codigo\": 29}, {\"index\": \"Chile\", \"Tests\": 7805.522528028439, \"Cases\": 672.6229034219076, \"Deaths\": 9.468404535648256, \"Population\": 19116209.0, \"codigo\": 30}, {\"index\": \"Poland\", \"Tests\": 7371.704806811602, \"Cases\": 297.86027042584135, \"Deaths\": 13.84536340842197, \"Population\": 37846605.0, \"codigo\": 31}, {\"index\": \"Hungary\", \"Tests\": 6573.778382770811, \"Cases\": 258.78979540078774, \"Deaths\": 28.15632973960571, \"Population\": 9660350.0, \"codigo\": 32}, {\"index\": \"Greece\", \"Tests\": 6052.639456220901, \"Cases\": 240.4285269118769, \"Deaths\": 12.472349759993614, \"Population\": 10423056.0, \"codigo\": 33}, {\"index\": \"Japan\", \"Tests\": 1750.3336470728805, \"Cases\": 104.22493014470724, \"Deaths\": 2.7515002040933183, \"Population\": 126476458.0, \"codigo\": 34}, {\"index\": \"Mexico\", \"Tests\": 444.1152357927237, \"Cases\": 107.35829087586457, \"Deaths\": 10.121555381664734, \"Population\": 128932753.0, \"codigo\": 35}]}}, {\"mode\": \"vega-lite\"});\n",
       "</script>"
      ],
      "text/plain": [
       "alt.LayerChart(...)"
      ]
     },
     "execution_count": 131,
     "metadata": {},
     "output_type": "execute_result"
    }
   ],
   "source": [
    "#hide_input\n",
    "bar = alt.Chart(data.reset_index()).mark_bar(opacity=0.4, color='green').encode(\n",
    "    x=alt.X('Tests:Q', axis=alt.Axis(title='Exámenes informados, casos confirmados, fallecimientos confirmados por cada 1 millón de habitantes')),\n",
    "    y=alt.Y('index:N', axis=alt.Axis(title='País'), sort=alt.EncodingSortField(field='codigo', order='ascending')),\n",
    "    tooltip = ['index', 'Tests', 'Cases', 'Deaths']\n",
    ").properties(\n",
    "    title='COVID-19: Exámenes informados, casos confirmados y fallecidos confirmados por país por cada 1 millón de habitantes',\n",
    "    width=alt.Step(40)  # controls width of bar.\n",
    ")\n",
    "\n",
    "tick0 = alt.Chart(data.reset_index()).mark_tick(\n",
    "    color='black',\n",
    "    thickness=2,\n",
    "    size=40 * 0.43,  # controls width of tick.\n",
    ").encode(\n",
    "    x='Tests:Q',\n",
    "    y=alt.Y('index:N', sort=alt.EncodingSortField(field='codigo', order='ascending')),\n",
    "    tooltip = ['index', 'Tests', 'Cases', 'Deaths']\n",
    ")\n",
    "\n",
    "tick1 = alt.Chart(data.reset_index()).mark_tick(\n",
    "    color='blue',\n",
    "    thickness=2,\n",
    "    size=40 * 0.43,  # controls width of tick.\n",
    ").encode(\n",
    "    x='Cases:Q',\n",
    "    y=alt.Y('index:N', sort=alt.EncodingSortField(field='codigo', order='ascending')),\n",
    "    tooltip = ['index', 'Tests', 'Cases', 'Deaths']\n",
    ")\n",
    "\n",
    "tick2 = alt.Chart(data.reset_index()).mark_tick(\n",
    "    color='red',\n",
    "    thickness=2,\n",
    "    size=40 * 0.43,  # controls width of tick.\n",
    ").encode(\n",
    "    x='Deaths:Q',\n",
    "    y=alt.Y('index:N', sort=alt.EncodingSortField(field='codigo', order='ascending')),\n",
    "    tooltip = ['index', 'Tests', 'Cases', 'Deaths']\n",
    ")\n",
    "\n",
    "(bar + tick0 + tick1 + tick2)"
   ]
  },
  {
   "cell_type": "markdown",
   "metadata": {},
   "source": [
    "Fuentes: ECDC, [Our World in Data](https://ourworldindata.org/)"
   ]
  },
  {
   "cell_type": "markdown",
   "metadata": {},
   "source": [
    "# Exámenes, casos confirmados, y fallecimientos confirmados por país de la OCDE por cada 1 millón de habitantes en los últimos 3 días"
   ]
  },
  {
   "cell_type": "markdown",
   "metadata": {},
   "source": [
    "> <span style=\"color:green\">Exámenes</span>, <span style=\"color:blue\">casos confirmados</span>, y <span style=\"color:red\">fallecimientos confirmados</span> por país por cada 1 millón de habitantes"
   ]
  },
  {
   "cell_type": "code",
   "execution_count": 132,
   "metadata": {},
   "outputs": [],
   "source": [
    "#hide\n",
    "data = pd.DataFrame()\n",
    "data['Tests'] = test_data['3-day rolling mean daily change']"
   ]
  },
  {
   "cell_type": "code",
   "execution_count": 133,
   "metadata": {},
   "outputs": [],
   "source": [
    "#hide\n",
    "cases = pd.Series()\n",
    "deaths = pd.Series()\n",
    "for country in list_OCDE:\n",
    "    cases[country] = full_data[full_data['location'].str.contains(country)].iloc[-3:]['new_cases'].mean()\n",
    "    deaths[country] = full_data[full_data['location'].str.contains(country)].iloc[-3:]['new_deaths'].mean()"
   ]
  },
  {
   "cell_type": "code",
   "execution_count": 134,
   "metadata": {},
   "outputs": [],
   "source": [
    "#hide\n",
    "data['Cases'] = cases\n",
    "data['Deaths'] = deaths"
   ]
  },
  {
   "cell_type": "code",
   "execution_count": 135,
   "metadata": {},
   "outputs": [],
   "source": [
    "#hide\n",
    "population = pd.Series()\n",
    "for country in list_OCDE:\n",
    "    population[country] = locations_data[locations_data['location'].str.contains(country)].iloc[-1]['population']"
   ]
  },
  {
   "cell_type": "code",
   "execution_count": 136,
   "metadata": {},
   "outputs": [],
   "source": [
    "#hide\n",
    "data['Population'] = population"
   ]
  },
  {
   "cell_type": "code",
   "execution_count": 137,
   "metadata": {},
   "outputs": [],
   "source": [
    "#hide\n",
    "data['Tests'] = 1000000*data['Tests']/data['Population']\n",
    "data['Cases'] = 1000000*data['Cases']/data['Population']\n",
    "data['Deaths'] = 1000000*data['Deaths']/data['Population']"
   ]
  },
  {
   "cell_type": "code",
   "execution_count": 138,
   "metadata": {},
   "outputs": [],
   "source": [
    "#hide\n",
    "data = data.dropna()"
   ]
  },
  {
   "cell_type": "code",
   "execution_count": 139,
   "metadata": {},
   "outputs": [],
   "source": [
    "#hide\n",
    "data = data.sort_values(by='Tests', ascending=False)\n",
    "data['codigo'] = np.arange(len(data))"
   ]
  },
  {
   "cell_type": "code",
   "execution_count": 140,
   "metadata": {},
   "outputs": [
    {
     "data": {
      "text/html": [
       "\n",
       "<div id=\"altair-viz-6814a399709b4ad1bc2c323a4f7bb3fb\"></div>\n",
       "<script type=\"text/javascript\">\n",
       "  (function(spec, embedOpt){\n",
       "    let outputDiv = document.currentScript.previousElementSibling;\n",
       "    if (outputDiv.id !== \"altair-viz-6814a399709b4ad1bc2c323a4f7bb3fb\") {\n",
       "      outputDiv = document.getElementById(\"altair-viz-6814a399709b4ad1bc2c323a4f7bb3fb\");\n",
       "    }\n",
       "    const paths = {\n",
       "      \"vega\": \"https://cdn.jsdelivr.net/npm//vega@5?noext\",\n",
       "      \"vega-lib\": \"https://cdn.jsdelivr.net/npm//vega-lib?noext\",\n",
       "      \"vega-lite\": \"https://cdn.jsdelivr.net/npm//vega-lite@4.8.1?noext\",\n",
       "      \"vega-embed\": \"https://cdn.jsdelivr.net/npm//vega-embed@6?noext\",\n",
       "    };\n",
       "\n",
       "    function loadScript(lib) {\n",
       "      return new Promise(function(resolve, reject) {\n",
       "        var s = document.createElement('script');\n",
       "        s.src = paths[lib];\n",
       "        s.async = true;\n",
       "        s.onload = () => resolve(paths[lib]);\n",
       "        s.onerror = () => reject(`Error loading script: ${paths[lib]}`);\n",
       "        document.getElementsByTagName(\"head\")[0].appendChild(s);\n",
       "      });\n",
       "    }\n",
       "\n",
       "    function showError(err) {\n",
       "      outputDiv.innerHTML = `<div class=\"error\" style=\"color:red;\">${err}</div>`;\n",
       "      throw err;\n",
       "    }\n",
       "\n",
       "    function displayChart(vegaEmbed) {\n",
       "      vegaEmbed(outputDiv, spec, embedOpt)\n",
       "        .catch(err => showError(`Javascript Error: ${err.message}<br>This usually means there's a typo in your chart specification. See the javascript console for the full traceback.`));\n",
       "    }\n",
       "\n",
       "    if(typeof define === \"function\" && define.amd) {\n",
       "      requirejs.config({paths});\n",
       "      require([\"vega-embed\"], displayChart, err => showError(`Error loading script: ${err.message}`));\n",
       "    } else if (typeof vegaEmbed === \"function\") {\n",
       "      displayChart(vegaEmbed);\n",
       "    } else {\n",
       "      loadScript(\"vega\")\n",
       "        .then(() => loadScript(\"vega-lite\"))\n",
       "        .then(() => loadScript(\"vega-embed\"))\n",
       "        .catch(showError)\n",
       "        .then(() => displayChart(vegaEmbed));\n",
       "    }\n",
       "  })({\"config\": {\"view\": {\"continuousWidth\": 400, \"continuousHeight\": 300}}, \"layer\": [{\"data\": {\"name\": \"data-abd2ea32f73f24597e688df676984091\"}, \"mark\": {\"type\": \"bar\", \"color\": \"green\", \"opacity\": 0.4}, \"encoding\": {\"tooltip\": [{\"type\": \"nominal\", \"field\": \"index\"}, {\"type\": \"quantitative\", \"field\": \"Tests\"}, {\"type\": \"quantitative\", \"field\": \"Cases\"}, {\"type\": \"quantitative\", \"field\": \"Deaths\"}], \"x\": {\"type\": \"quantitative\", \"axis\": {\"title\": \"Ex\\u00e1menes informados, casos confirmados, fallecimientos confirmados por cada 1 mill\\u00f3n de habitantes\\n(promedio de los \\u00faltimos 3 d\\u00edas)\"}, \"field\": \"Tests\"}, \"y\": {\"type\": \"nominal\", \"axis\": {\"title\": \"Pa\\u00eds\"}, \"field\": \"index\", \"sort\": {\"field\": \"codigo\", \"order\": \"ascending\"}}}, \"title\": \"COVID-19: Ex\\u00e1menes informados, casos confirmados y fallecidos confirmados por pa\\u00eds por cada 1 mill\\u00f3n de habitantes\\n(promedio de los \\u00faltimos 3 d\\u00edas)\", \"width\": {\"step\": 40}}, {\"data\": {\"name\": \"data-abd2ea32f73f24597e688df676984091\"}, \"mark\": {\"type\": \"tick\", \"color\": \"black\", \"size\": 17.2, \"thickness\": 2}, \"encoding\": {\"tooltip\": [{\"type\": \"nominal\", \"field\": \"index\"}, {\"type\": \"quantitative\", \"field\": \"Tests\"}, {\"type\": \"quantitative\", \"field\": \"Cases\"}, {\"type\": \"quantitative\", \"field\": \"Deaths\"}], \"x\": {\"type\": \"quantitative\", \"field\": \"Tests\"}, \"y\": {\"type\": \"nominal\", \"field\": \"index\", \"sort\": {\"field\": \"codigo\", \"order\": \"ascending\"}}}}, {\"data\": {\"name\": \"data-abd2ea32f73f24597e688df676984091\"}, \"mark\": {\"type\": \"tick\", \"color\": \"blue\", \"size\": 17.2, \"thickness\": 2}, \"encoding\": {\"tooltip\": [{\"type\": \"nominal\", \"field\": \"index\"}, {\"type\": \"quantitative\", \"field\": \"Tests\"}, {\"type\": \"quantitative\", \"field\": \"Cases\"}, {\"type\": \"quantitative\", \"field\": \"Deaths\"}], \"x\": {\"type\": \"quantitative\", \"field\": \"Cases\"}, \"y\": {\"type\": \"nominal\", \"field\": \"index\", \"sort\": {\"field\": \"codigo\", \"order\": \"ascending\"}}}}, {\"data\": {\"name\": \"data-abd2ea32f73f24597e688df676984091\"}, \"mark\": {\"type\": \"tick\", \"color\": \"red\", \"size\": 17.2, \"thickness\": 2}, \"encoding\": {\"tooltip\": [{\"type\": \"nominal\", \"field\": \"index\"}, {\"type\": \"quantitative\", \"field\": \"Tests\"}, {\"type\": \"quantitative\", \"field\": \"Cases\"}, {\"type\": \"quantitative\", \"field\": \"Deaths\"}], \"x\": {\"type\": \"quantitative\", \"field\": \"Deaths\"}, \"y\": {\"type\": \"nominal\", \"field\": \"index\", \"sort\": {\"field\": \"codigo\", \"order\": \"ascending\"}}}}], \"$schema\": \"https://vega.github.io/schema/vega-lite/v4.8.1.json\", \"datasets\": {\"data-abd2ea32f73f24597e688df676984091\": [{\"index\": \"Lithuania\", \"Tests\": 2558.7518013320396, \"Cases\": 4.897835438361782, \"Deaths\": 0.3673376578771336, \"Population\": 2722291.0, \"codigo\": 0}, {\"index\": \"Denmark\", \"Tests\": 1627.072290111379, \"Cases\": 30.673418501849238, \"Deaths\": 1.9566533378290323, \"Population\": 5792203.0, \"codigo\": 1}, {\"index\": \"Iceland\", \"Tests\": 1468.131868131868, \"Cases\": 4.884004884004884, \"Deaths\": 0.0, \"Population\": 341250.0, \"codigo\": 2}, {\"index\": \"New Zealand\", \"Tests\": 1362.0246056132087, \"Cases\": 0.6221184252191879, \"Deaths\": 0.1382485389375973, \"Population\": 4822233.0, \"codigo\": 3}, {\"index\": \"Luxembourg\", \"Tests\": 1292.3818165552673, \"Cases\": 30.3526013776886, \"Deaths\": 2.662508892779702, \"Population\": 625976.0, \"codigo\": 4}, {\"index\": \"Israel\", \"Tests\": 1256.1895322314342, \"Cases\": 27.188749187755374, \"Deaths\": 0.3080878094929787, \"Population\": 8655541.0, \"codigo\": 5}, {\"index\": \"Latvia\", \"Tests\": 1162.123674982849, \"Cases\": 7.5990447117187525, \"Deaths\": 0.17672197003997098, \"Population\": 1886202.0, \"codigo\": 6}, {\"index\": \"Italy\", \"Tests\": 1072.2578053710185, \"Cases\": 44.23727755413989, \"Deaths\": 7.16154331291472, \"Population\": 60461828.0, \"codigo\": 7}, {\"index\": \"Slovakia\", \"Tests\": 824.657033436069, \"Cases\": 7.875972842912989, \"Deaths\": 0.18316215913751138, \"Population\": 5459643.0, \"codigo\": 8}, {\"index\": \"Austria\", \"Tests\": 806.6855791437201, \"Cases\": 7.772250843844377, \"Deaths\": 1.5544501687688754, \"Population\": 9006400.0, \"codigo\": 9}, {\"index\": \"Belgium\", \"Tests\": 760.7672247294474, \"Cases\": 98.82409678917172, \"Deaths\": 18.83870296766807, \"Population\": 11589616.0, \"codigo\": 10}, {\"index\": \"United States\", \"Tests\": 720.4776220414939, \"Cases\": 0.0010070412921300092, \"Deaths\": 0.0, \"Population\": 331002647.0, \"codigo\": 11}, {\"index\": \"Estonia\", \"Tests\": 694.2879176563976, \"Cases\": 19.09731514364322, \"Deaths\": 0.5025609248327163, \"Population\": 1326539.0, \"codigo\": 12}, {\"index\": \"Portugal\", \"Tests\": 649.588832943812, \"Cases\": 46.09331228209264, \"Deaths\": 3.10557777787149, \"Population\": 10196707.0, \"codigo\": 13}, {\"index\": \"Slovenia\", \"Tests\": 625.6419161377091, \"Cases\": 5.611855831103021, \"Deaths\": 0.32067747606302976, \"Population\": 2078932.0, \"codigo\": 14}, {\"index\": \"Norway\", \"Tests\": 605.3963280001151, \"Cases\": 13.342575987814845, \"Deaths\": 1.4756766069472642, \"Population\": 5421242.0, \"codigo\": 15}, {\"index\": \"Czech Republic\", \"Tests\": 603.325320744773, \"Cases\": 6.723328137072226, \"Deaths\": 0.24901215322489725, \"Population\": 10708982.0, \"codigo\": 16}, {\"index\": \"Canada\", \"Tests\": 566.7402634141976, \"Cases\": 45.590045811813745, \"Deaths\": 4.336441784889684, \"Population\": 37742157.0, \"codigo\": 17}, {\"index\": \"Switzerland\", \"Tests\": 554.5401310606661, \"Cases\": 24.071927072151926, \"Deaths\": 4.313689331329625, \"Population\": 8654618.0, \"codigo\": 18}, {\"index\": \"Australia\", \"Tests\": 546.6169430359303, \"Cases\": 0.6405258649376965, \"Deaths\": 0.0915036949910995, \"Population\": 25499881.0, \"codigo\": 19}, {\"index\": \"Turkey\", \"Tests\": 464.8735324520486, \"Cases\": 35.96198188912856, \"Deaths\": 1.3042591519301487, \"Population\": 84339067.0, \"codigo\": 20}, {\"index\": \"United Kingdom\", \"Tests\": 397.0234129556366, \"Cases\": 73.07348163646024, \"Deaths\": 10.895716688032877, \"Population\": 67886004.0, \"codigo\": 21}, {\"index\": \"Netherlands\", \"Tests\": 360.12329942567993, \"Cases\": 45.67682915809569, \"Deaths\": 6.905994187020431, \"Population\": 17134873.0, \"codigo\": 22}, {\"index\": \"Chile\", \"Tests\": 357.2884142457325, \"Cases\": 27.236920597942124, \"Deaths\": 0.36618139088142426, \"Population\": 19116209.0, \"codigo\": 23}, {\"index\": \"Poland\", \"Tests\": 354.0167737634591, \"Cases\": 9.723461324998636, \"Deaths\": 0.8631333422553137, \"Population\": 37846605.0, \"codigo\": 24}, {\"index\": \"Hungary\", \"Tests\": 280.01055862365234, \"Cases\": 7.453146107542687, \"Deaths\": 1.621749384511603, \"Population\": 9660350.0, \"codigo\": 25}, {\"index\": \"Greece\", \"Tests\": 196.45553089228343, \"Cases\": 3.134077631998395, \"Deaths\": 0.28782345599985265, \"Population\": 10423056.0, \"codigo\": 26}, {\"index\": \"Korea\", \"Tests\": 93.06434627600756, \"Cases\": 0.1690424180675293, \"Deaths\": 0.013003262928271486, \"Population\": 51269183.0, \"codigo\": 27}, {\"index\": \"Japan\", \"Tests\": 62.55446369315623, \"Cases\": 3.716106597482355, \"Deaths\": 0.16076773223150614, \"Population\": 126476458.0, \"codigo\": 28}]}}, {\"mode\": \"vega-lite\"});\n",
       "</script>"
      ],
      "text/plain": [
       "alt.LayerChart(...)"
      ]
     },
     "execution_count": 140,
     "metadata": {},
     "output_type": "execute_result"
    }
   ],
   "source": [
    "#hide_input\n",
    "bar = alt.Chart(data.reset_index()).mark_bar(opacity=0.4, color='green').encode(\n",
    "    x=alt.X('Tests:Q', axis=alt.Axis(title=f'Exámenes informados, casos confirmados, fallecimientos confirmados por cada 1 millón de habitantes\\n(promedio de los últimos 3 días)')),\n",
    "    y=alt.Y('index:N', axis=alt.Axis(title='País'), sort=alt.EncodingSortField(field='codigo', order='ascending')),\n",
    "    tooltip = ['index', 'Tests', 'Cases', 'Deaths']\n",
    ").properties(\n",
    "    title=f'COVID-19: Exámenes informados, casos confirmados y fallecidos confirmados por país por cada 1 millón de habitantes\\n(promedio de los últimos 3 días)',\n",
    "    width=alt.Step(40)  # controls width of bar.\n",
    ")\n",
    "\n",
    "tick0 = alt.Chart(data.reset_index()).mark_tick(\n",
    "    color='black',\n",
    "    thickness=2,\n",
    "    size=40 * 0.43,  # controls width of tick.\n",
    ").encode(\n",
    "    x='Tests:Q',\n",
    "    y=alt.Y('index:N', sort=alt.EncodingSortField(field='codigo', order='ascending')),\n",
    "    tooltip = ['index', 'Tests', 'Cases', 'Deaths']\n",
    ")\n",
    "\n",
    "tick1 = alt.Chart(data.reset_index()).mark_tick(\n",
    "    color='blue',\n",
    "    thickness=2,\n",
    "    size=40 * 0.43,  # controls width of tick.\n",
    ").encode(\n",
    "    x='Cases:Q',\n",
    "    y=alt.Y('index:N', sort=alt.EncodingSortField(field='codigo', order='ascending')),\n",
    "    tooltip = ['index', 'Tests', 'Cases', 'Deaths']\n",
    ")\n",
    "\n",
    "tick2 = alt.Chart(data.reset_index()).mark_tick(\n",
    "    color='red',\n",
    "    thickness=2,\n",
    "    size=40 * 0.43,  # controls width of tick.\n",
    ").encode(\n",
    "    x='Deaths:Q',\n",
    "    y=alt.Y('index:N', sort=alt.EncodingSortField(field='codigo', order='ascending')),\n",
    "    tooltip = ['index', 'Tests', 'Cases', 'Deaths']\n",
    ")\n",
    "\n",
    "(bar + tick0 + tick1 + tick2)"
   ]
  },
  {
   "cell_type": "markdown",
   "metadata": {},
   "source": [
    "# Exámenes, casos confirmados, y fallecimientos confirmados por país de latinoamérica por cada 1 millón de habitantes"
   ]
  },
  {
   "cell_type": "markdown",
   "metadata": {},
   "source": [
    "> <span style=\"color:green\">Exámenes</span>, <span style=\"color:blue\">casos confirmados</span>, y <span style=\"color:red\">fallecimientos confirmados</span> por país por cada 1 millón de habitantes"
   ]
  },
  {
   "cell_type": "markdown",
   "metadata": {},
   "source": [
    "Nota: Muchos países de latinoamérica no tienen datos disponibles."
   ]
  },
  {
   "cell_type": "code",
   "execution_count": 141,
   "metadata": {},
   "outputs": [],
   "source": [
    "#hide\n",
    "list_latinoamerica = ['Argentina', 'Bolivia', 'Chile', 'Colombia',\n",
    "                     'Costa Rica', 'Cuba', 'Ecuador', 'El Salvador',\n",
    "                     'Mexico', 'Panama', 'Paraguay',\n",
    "                     'Peru', 'Uruguay']"
   ]
  },
  {
   "cell_type": "code",
   "execution_count": 142,
   "metadata": {
    "scrolled": true
   },
   "outputs": [],
   "source": [
    "#hide\n",
    "test_data = pd.DataFrame()\n",
    "for country in list_latinoamerica:\n",
    "    test_data[country] = test_data_raw[test_data_raw['Entity'].str.contains(country)].iloc[-1]"
   ]
  },
  {
   "cell_type": "code",
   "execution_count": 143,
   "metadata": {},
   "outputs": [],
   "source": [
    "#hide\n",
    "test_data = test_data.T"
   ]
  },
  {
   "cell_type": "code",
   "execution_count": 144,
   "metadata": {},
   "outputs": [],
   "source": [
    "#hide\n",
    "data = pd.DataFrame()\n",
    "data['Tests'] = test_data['Cumulative total']"
   ]
  },
  {
   "cell_type": "code",
   "execution_count": 145,
   "metadata": {},
   "outputs": [],
   "source": [
    "#hide\n",
    "cases = pd.Series()\n",
    "deaths = pd.Series()\n",
    "for country in list_latinoamerica:\n",
    "    cases[country] = full_data[full_data['location'].str.contains(country)].iloc[-1]['total_cases']\n",
    "    deaths[country] = full_data[full_data['location'].str.contains(country)].iloc[-1]['total_deaths']"
   ]
  },
  {
   "cell_type": "code",
   "execution_count": 146,
   "metadata": {},
   "outputs": [],
   "source": [
    "#hide\n",
    "data['Cases'] = cases\n",
    "data['Deaths'] = deaths"
   ]
  },
  {
   "cell_type": "code",
   "execution_count": 147,
   "metadata": {},
   "outputs": [],
   "source": [
    "#hide\n",
    "population = pd.Series()\n",
    "for country in list_latinoamerica:\n",
    "    population[country] = locations_data[locations_data['location'].str.contains(country)].iloc[-1]['population']"
   ]
  },
  {
   "cell_type": "code",
   "execution_count": 148,
   "metadata": {},
   "outputs": [],
   "source": [
    "#hide\n",
    "data['Population'] = population"
   ]
  },
  {
   "cell_type": "code",
   "execution_count": 149,
   "metadata": {},
   "outputs": [],
   "source": [
    "#hide\n",
    "data['Tests'] = 1000000*data['Tests']/data['Population']\n",
    "data['Cases'] = 1000000*data['Cases']/data['Population']\n",
    "data['Deaths'] = 1000000*data['Deaths']/data['Population']"
   ]
  },
  {
   "cell_type": "code",
   "execution_count": 150,
   "metadata": {},
   "outputs": [],
   "source": [
    "#hide\n",
    "data = data.sort_values(by='Tests', ascending=False)\n",
    "data['codigo'] = np.arange(len(data))"
   ]
  },
  {
   "cell_type": "code",
   "execution_count": 151,
   "metadata": {},
   "outputs": [
    {
     "data": {
      "text/html": [
       "\n",
       "<div id=\"altair-viz-341d904ecad0430a957aaa598ba8f3bf\"></div>\n",
       "<script type=\"text/javascript\">\n",
       "  (function(spec, embedOpt){\n",
       "    let outputDiv = document.currentScript.previousElementSibling;\n",
       "    if (outputDiv.id !== \"altair-viz-341d904ecad0430a957aaa598ba8f3bf\") {\n",
       "      outputDiv = document.getElementById(\"altair-viz-341d904ecad0430a957aaa598ba8f3bf\");\n",
       "    }\n",
       "    const paths = {\n",
       "      \"vega\": \"https://cdn.jsdelivr.net/npm//vega@5?noext\",\n",
       "      \"vega-lib\": \"https://cdn.jsdelivr.net/npm//vega-lib?noext\",\n",
       "      \"vega-lite\": \"https://cdn.jsdelivr.net/npm//vega-lite@4.8.1?noext\",\n",
       "      \"vega-embed\": \"https://cdn.jsdelivr.net/npm//vega-embed@6?noext\",\n",
       "    };\n",
       "\n",
       "    function loadScript(lib) {\n",
       "      return new Promise(function(resolve, reject) {\n",
       "        var s = document.createElement('script');\n",
       "        s.src = paths[lib];\n",
       "        s.async = true;\n",
       "        s.onload = () => resolve(paths[lib]);\n",
       "        s.onerror = () => reject(`Error loading script: ${paths[lib]}`);\n",
       "        document.getElementsByTagName(\"head\")[0].appendChild(s);\n",
       "      });\n",
       "    }\n",
       "\n",
       "    function showError(err) {\n",
       "      outputDiv.innerHTML = `<div class=\"error\" style=\"color:red;\">${err}</div>`;\n",
       "      throw err;\n",
       "    }\n",
       "\n",
       "    function displayChart(vegaEmbed) {\n",
       "      vegaEmbed(outputDiv, spec, embedOpt)\n",
       "        .catch(err => showError(`Javascript Error: ${err.message}<br>This usually means there's a typo in your chart specification. See the javascript console for the full traceback.`));\n",
       "    }\n",
       "\n",
       "    if(typeof define === \"function\" && define.amd) {\n",
       "      requirejs.config({paths});\n",
       "      require([\"vega-embed\"], displayChart, err => showError(`Error loading script: ${err.message}`));\n",
       "    } else if (typeof vegaEmbed === \"function\") {\n",
       "      displayChart(vegaEmbed);\n",
       "    } else {\n",
       "      loadScript(\"vega\")\n",
       "        .then(() => loadScript(\"vega-lite\"))\n",
       "        .then(() => loadScript(\"vega-embed\"))\n",
       "        .catch(showError)\n",
       "        .then(() => displayChart(vegaEmbed));\n",
       "    }\n",
       "  })({\"config\": {\"view\": {\"continuousWidth\": 400, \"continuousHeight\": 300}}, \"layer\": [{\"data\": {\"name\": \"data-307ddf798d341038613aabecb86750f1\"}, \"mark\": {\"type\": \"bar\", \"color\": \"green\", \"opacity\": 0.4}, \"encoding\": {\"tooltip\": [{\"type\": \"nominal\", \"field\": \"index\"}, {\"type\": \"quantitative\", \"field\": \"Tests\"}, {\"type\": \"quantitative\", \"field\": \"Cases\"}, {\"type\": \"quantitative\", \"field\": \"Deaths\"}], \"x\": {\"type\": \"quantitative\", \"axis\": {\"title\": \"Ex\\u00e1menes informados, casos confirmados, fallecimientos confirmados por cada 1 mill\\u00f3n de habitantes\"}, \"field\": \"Tests\"}, \"y\": {\"type\": \"nominal\", \"axis\": {\"title\": \"Pa\\u00eds\"}, \"field\": \"index\", \"sort\": {\"field\": \"codigo\", \"order\": \"ascending\"}}}, \"title\": \"COVID-19: Ex\\u00e1menes informados, casos confirmados y fallecidos confirmados por pa\\u00eds por cada 1 mill\\u00f3n de habitantes\", \"width\": {\"step\": 40}}, {\"data\": {\"name\": \"data-307ddf798d341038613aabecb86750f1\"}, \"mark\": {\"type\": \"tick\", \"color\": \"black\", \"size\": 17.2, \"thickness\": 2}, \"encoding\": {\"tooltip\": [{\"type\": \"nominal\", \"field\": \"index\"}, {\"type\": \"quantitative\", \"field\": \"Tests\"}, {\"type\": \"quantitative\", \"field\": \"Cases\"}, {\"type\": \"quantitative\", \"field\": \"Deaths\"}], \"x\": {\"type\": \"quantitative\", \"field\": \"Tests\"}, \"y\": {\"type\": \"nominal\", \"field\": \"index\", \"sort\": {\"field\": \"codigo\", \"order\": \"ascending\"}}}}, {\"data\": {\"name\": \"data-307ddf798d341038613aabecb86750f1\"}, \"mark\": {\"type\": \"tick\", \"color\": \"blue\", \"size\": 17.2, \"thickness\": 2}, \"encoding\": {\"tooltip\": [{\"type\": \"nominal\", \"field\": \"index\"}, {\"type\": \"quantitative\", \"field\": \"Tests\"}, {\"type\": \"quantitative\", \"field\": \"Cases\"}, {\"type\": \"quantitative\", \"field\": \"Deaths\"}], \"x\": {\"type\": \"quantitative\", \"field\": \"Cases\"}, \"y\": {\"type\": \"nominal\", \"field\": \"index\", \"sort\": {\"field\": \"codigo\", \"order\": \"ascending\"}}}}, {\"data\": {\"name\": \"data-307ddf798d341038613aabecb86750f1\"}, \"mark\": {\"type\": \"tick\", \"color\": \"red\", \"size\": 17.2, \"thickness\": 2}, \"encoding\": {\"tooltip\": [{\"type\": \"nominal\", \"field\": \"index\"}, {\"type\": \"quantitative\", \"field\": \"Tests\"}, {\"type\": \"quantitative\", \"field\": \"Cases\"}, {\"type\": \"quantitative\", \"field\": \"Deaths\"}], \"x\": {\"type\": \"quantitative\", \"field\": \"Deaths\"}, \"y\": {\"type\": \"nominal\", \"field\": \"index\", \"sort\": {\"field\": \"codigo\", \"order\": \"ascending\"}}}}], \"$schema\": \"https://vega.github.io/schema/vega-lite/v4.8.1.json\", \"datasets\": {\"data-307ddf798d341038613aabecb86750f1\": [{\"index\": \"Chile\", \"Tests\": 7805.522528028439, \"Cases\": 672.6229034219076, \"Deaths\": 9.468404535648256, \"Population\": 19116209.0, \"codigo\": 0}, {\"index\": \"Peru\", \"Tests\": 6617.615525682123, \"Cases\": 768.2615040722925, \"Deaths\": 21.23023381827029, \"Population\": 32971846.0, \"codigo\": 1}, {\"index\": \"Panama\", \"Tests\": 5886.759149043472, \"Cases\": 1283.4989042284544, \"Deaths\": 36.85018522432724, \"Population\": 4314768.0, \"codigo\": 2}, {\"index\": \"Uruguay\", \"Tests\": 4748.789988389992, \"Cases\": 171.57364410041433, \"Deaths\": 4.030253384909062, \"Population\": 3473727.0, \"codigo\": 3}, {\"index\": \"Cuba\", \"Tests\": 3354.13507441234, \"Cases\": 118.04055156456262, \"Deaths\": 4.502668758259307, \"Population\": 11326616.0, \"codigo\": 4}, {\"index\": \"El Salvador\", \"Tests\": 2686.1640581289416, \"Cases\": 45.94368876326836, \"Deaths\": 1.233387617805862, \"Population\": 6486201.0, \"codigo\": 5}, {\"index\": \"Ecuador\", \"Tests\": 2599.1523012447956, \"Cases\": 633.8469630551616, \"Deaths\": 32.647397900364226, \"Population\": 17643060.0, \"codigo\": 6}, {\"index\": \"Costa Rica\", \"Tests\": 1734.3545904155267, \"Cases\": 136.0393583653605, \"Deaths\": 1.1778299425572336, \"Population\": 5094114.0, \"codigo\": 7}, {\"index\": \"Colombia\", \"Tests\": 1594.4261335501344, \"Cases\": 101.05559268220725, \"Deaths\": 4.579142958956493, \"Population\": 50882884.0, \"codigo\": 8}, {\"index\": \"Paraguay\", \"Tests\": 1067.6435991156013, \"Cases\": 31.966216756186093, \"Deaths\": 1.2618243456389246, \"Population\": 7132530.0, \"codigo\": 9}, {\"index\": \"Argentina\", \"Tests\": 1048.9033079351639, \"Cases\": 83.3484951481197, \"Deaths\": 4.0933027880016315, \"Population\": 45195777.0, \"codigo\": 10}, {\"index\": \"Bolivia\", \"Tests\": 453.78110514417466, \"Cases\": 74.18811347080522, \"Deaths\": 3.9407081058395383, \"Population\": 11673029.0, \"codigo\": 11}, {\"index\": \"Mexico\", \"Tests\": 444.1152357927237, \"Cases\": 107.35829087586457, \"Deaths\": 10.121555381664734, \"Population\": 128932753.0, \"codigo\": 12}]}}, {\"mode\": \"vega-lite\"});\n",
       "</script>"
      ],
      "text/plain": [
       "alt.LayerChart(...)"
      ]
     },
     "execution_count": 151,
     "metadata": {},
     "output_type": "execute_result"
    }
   ],
   "source": [
    "#hide_input\n",
    "bar = alt.Chart(data.reset_index()).mark_bar(opacity=0.4, color='green').encode(\n",
    "    x=alt.X('Tests:Q', axis=alt.Axis(title='Exámenes informados, casos confirmados, fallecimientos confirmados por cada 1 millón de habitantes')),\n",
    "    y=alt.Y('index:N', axis=alt.Axis(title='País'), sort=alt.EncodingSortField(field='codigo', order='ascending')),\n",
    "    tooltip = ['index', 'Tests', 'Cases', 'Deaths']\n",
    ").properties(\n",
    "    title='COVID-19: Exámenes informados, casos confirmados y fallecidos confirmados por país por cada 1 millón de habitantes',\n",
    "    width=alt.Step(40)  # controls width of bar.\n",
    ")\n",
    "\n",
    "tick0 = alt.Chart(data.reset_index()).mark_tick(\n",
    "    color='black',\n",
    "    thickness=2,\n",
    "    size=40 * 0.43,  # controls width of tick.\n",
    ").encode(\n",
    "    x='Tests:Q',\n",
    "    y=alt.Y('index:N', sort=alt.EncodingSortField(field='codigo', order='ascending')),\n",
    "    tooltip = ['index', 'Tests', 'Cases', 'Deaths']\n",
    ")\n",
    "\n",
    "tick1 = alt.Chart(data.reset_index()).mark_tick(\n",
    "    color='blue',\n",
    "    thickness=2,\n",
    "    size=40 * 0.43,  # controls width of tick.\n",
    ").encode(\n",
    "    x='Cases:Q',\n",
    "    y=alt.Y('index:N', sort=alt.EncodingSortField(field='codigo', order='ascending')),\n",
    "    tooltip = ['index', 'Tests', 'Cases', 'Deaths']\n",
    ")\n",
    "\n",
    "tick2 = alt.Chart(data.reset_index()).mark_tick(\n",
    "    color='red',\n",
    "    thickness=2,\n",
    "    size=40 * 0.43,  # controls width of tick.\n",
    ").encode(\n",
    "    x='Deaths:Q',\n",
    "    y=alt.Y('index:N', sort=alt.EncodingSortField(field='codigo', order='ascending')),\n",
    "    tooltip = ['index', 'Tests', 'Cases', 'Deaths']\n",
    ")\n",
    "\n",
    "(bar + tick0 + tick1 + tick2)"
   ]
  },
  {
   "cell_type": "markdown",
   "metadata": {},
   "source": [
    "Fuentes: ECDC, [Our World in Data](https://ourworldindata.org/)"
   ]
  },
  {
   "cell_type": "markdown",
   "metadata": {},
   "source": [
    "# Exámenes, casos confirmados, y fallecimientos confirmados por país de latinoamérica por cada 1 millón de habitantes en los últimos 3 días"
   ]
  },
  {
   "cell_type": "markdown",
   "metadata": {},
   "source": [
    "> <span style=\"color:green\">Exámenes</span>, <span style=\"color:blue\">casos confirmados</span>, y <span style=\"color:red\">fallecimientos confirmados</span> por país por cada 1 millón de habitantes"
   ]
  },
  {
   "cell_type": "markdown",
   "metadata": {},
   "source": [
    "Nota: Muchos países de latinoamérica no tienen datos disponibles."
   ]
  },
  {
   "cell_type": "code",
   "execution_count": 152,
   "metadata": {},
   "outputs": [],
   "source": [
    "#hide\n",
    "data = pd.DataFrame()\n",
    "data['Tests'] = test_data['3-day rolling mean daily change']"
   ]
  },
  {
   "cell_type": "code",
   "execution_count": 153,
   "metadata": {},
   "outputs": [],
   "source": [
    "#hide\n",
    "cases = pd.Series()\n",
    "deaths = pd.Series()\n",
    "for country in list_latinoamerica:\n",
    "    cases[country] = full_data[full_data['location'].str.contains(country)].iloc[-3:]['new_cases'].mean()\n",
    "    deaths[country] = full_data[full_data['location'].str.contains(country)].iloc[-3:]['new_deaths'].mean()"
   ]
  },
  {
   "cell_type": "code",
   "execution_count": 154,
   "metadata": {},
   "outputs": [],
   "source": [
    "#hide\n",
    "data['Cases'] = cases\n",
    "data['Deaths'] = deaths"
   ]
  },
  {
   "cell_type": "code",
   "execution_count": 155,
   "metadata": {},
   "outputs": [],
   "source": [
    "#hide\n",
    "population = pd.Series()\n",
    "for country in list_latinoamerica:\n",
    "    population[country] = locations_data[locations_data['location'].str.contains(country)].iloc[-1]['population']"
   ]
  },
  {
   "cell_type": "code",
   "execution_count": 156,
   "metadata": {},
   "outputs": [],
   "source": [
    "#hide\n",
    "data['Population'] = population"
   ]
  },
  {
   "cell_type": "code",
   "execution_count": 157,
   "metadata": {},
   "outputs": [],
   "source": [
    "#hide\n",
    "data['Tests'] = 1000000*data['Tests']/data['Population']\n",
    "data['Cases'] = 1000000*data['Cases']/data['Population']\n",
    "data['Deaths'] = 1000000*data['Deaths']/data['Population']"
   ]
  },
  {
   "cell_type": "code",
   "execution_count": 158,
   "metadata": {},
   "outputs": [],
   "source": [
    "#hide\n",
    "data = data.dropna()"
   ]
  },
  {
   "cell_type": "code",
   "execution_count": 159,
   "metadata": {},
   "outputs": [],
   "source": [
    "#hide\n",
    "data = data.sort_values(by='Tests', ascending=False)\n",
    "data['codigo'] = np.arange(len(data))"
   ]
  },
  {
   "cell_type": "code",
   "execution_count": 160,
   "metadata": {},
   "outputs": [
    {
     "data": {
      "text/html": [
       "\n",
       "<div id=\"altair-viz-f9b2501bd5244c20b1982d9a793480bb\"></div>\n",
       "<script type=\"text/javascript\">\n",
       "  (function(spec, embedOpt){\n",
       "    let outputDiv = document.currentScript.previousElementSibling;\n",
       "    if (outputDiv.id !== \"altair-viz-f9b2501bd5244c20b1982d9a793480bb\") {\n",
       "      outputDiv = document.getElementById(\"altair-viz-f9b2501bd5244c20b1982d9a793480bb\");\n",
       "    }\n",
       "    const paths = {\n",
       "      \"vega\": \"https://cdn.jsdelivr.net/npm//vega@5?noext\",\n",
       "      \"vega-lib\": \"https://cdn.jsdelivr.net/npm//vega-lib?noext\",\n",
       "      \"vega-lite\": \"https://cdn.jsdelivr.net/npm//vega-lite@4.8.1?noext\",\n",
       "      \"vega-embed\": \"https://cdn.jsdelivr.net/npm//vega-embed@6?noext\",\n",
       "    };\n",
       "\n",
       "    function loadScript(lib) {\n",
       "      return new Promise(function(resolve, reject) {\n",
       "        var s = document.createElement('script');\n",
       "        s.src = paths[lib];\n",
       "        s.async = true;\n",
       "        s.onload = () => resolve(paths[lib]);\n",
       "        s.onerror = () => reject(`Error loading script: ${paths[lib]}`);\n",
       "        document.getElementsByTagName(\"head\")[0].appendChild(s);\n",
       "      });\n",
       "    }\n",
       "\n",
       "    function showError(err) {\n",
       "      outputDiv.innerHTML = `<div class=\"error\" style=\"color:red;\">${err}</div>`;\n",
       "      throw err;\n",
       "    }\n",
       "\n",
       "    function displayChart(vegaEmbed) {\n",
       "      vegaEmbed(outputDiv, spec, embedOpt)\n",
       "        .catch(err => showError(`Javascript Error: ${err.message}<br>This usually means there's a typo in your chart specification. See the javascript console for the full traceback.`));\n",
       "    }\n",
       "\n",
       "    if(typeof define === \"function\" && define.amd) {\n",
       "      requirejs.config({paths});\n",
       "      require([\"vega-embed\"], displayChart, err => showError(`Error loading script: ${err.message}`));\n",
       "    } else if (typeof vegaEmbed === \"function\") {\n",
       "      displayChart(vegaEmbed);\n",
       "    } else {\n",
       "      loadScript(\"vega\")\n",
       "        .then(() => loadScript(\"vega-lite\"))\n",
       "        .then(() => loadScript(\"vega-embed\"))\n",
       "        .catch(showError)\n",
       "        .then(() => displayChart(vegaEmbed));\n",
       "    }\n",
       "  })({\"config\": {\"view\": {\"continuousWidth\": 400, \"continuousHeight\": 300}}, \"layer\": [{\"data\": {\"name\": \"data-2c0d3acf3ed00faef265063b9f1ddeff\"}, \"mark\": {\"type\": \"bar\", \"color\": \"green\", \"opacity\": 0.4}, \"encoding\": {\"tooltip\": [{\"type\": \"nominal\", \"field\": \"index\"}, {\"type\": \"quantitative\", \"field\": \"Tests\"}, {\"type\": \"quantitative\", \"field\": \"Cases\"}, {\"type\": \"quantitative\", \"field\": \"Deaths\"}], \"x\": {\"type\": \"quantitative\", \"axis\": {\"title\": \"Ex\\u00e1menes informados, casos confirmados, fallecimientos confirmados por cada 1 mill\\u00f3n de habitantes\\n(promedio de los \\u00faltimos 3 d\\u00edas)\"}, \"field\": \"Tests\"}, \"y\": {\"type\": \"nominal\", \"axis\": {\"title\": \"Pa\\u00eds\"}, \"field\": \"index\", \"sort\": {\"field\": \"codigo\", \"order\": \"ascending\"}}}, \"title\": \"COVID-19: Ex\\u00e1menes informados, casos confirmados y fallecidos confirmados por pa\\u00eds por cada 1 mill\\u00f3n de habitantes\\n(promedio de los \\u00faltimos 3 d\\u00edas)\", \"width\": {\"step\": 40}}, {\"data\": {\"name\": \"data-2c0d3acf3ed00faef265063b9f1ddeff\"}, \"mark\": {\"type\": \"tick\", \"color\": \"black\", \"size\": 17.2, \"thickness\": 2}, \"encoding\": {\"tooltip\": [{\"type\": \"nominal\", \"field\": \"index\"}, {\"type\": \"quantitative\", \"field\": \"Tests\"}, {\"type\": \"quantitative\", \"field\": \"Cases\"}, {\"type\": \"quantitative\", \"field\": \"Deaths\"}], \"x\": {\"type\": \"quantitative\", \"field\": \"Tests\"}, \"y\": {\"type\": \"nominal\", \"field\": \"index\", \"sort\": {\"field\": \"codigo\", \"order\": \"ascending\"}}}}, {\"data\": {\"name\": \"data-2c0d3acf3ed00faef265063b9f1ddeff\"}, \"mark\": {\"type\": \"tick\", \"color\": \"blue\", \"size\": 17.2, \"thickness\": 2}, \"encoding\": {\"tooltip\": [{\"type\": \"nominal\", \"field\": \"index\"}, {\"type\": \"quantitative\", \"field\": \"Tests\"}, {\"type\": \"quantitative\", \"field\": \"Cases\"}, {\"type\": \"quantitative\", \"field\": \"Deaths\"}], \"x\": {\"type\": \"quantitative\", \"field\": \"Cases\"}, \"y\": {\"type\": \"nominal\", \"field\": \"index\", \"sort\": {\"field\": \"codigo\", \"order\": \"ascending\"}}}}, {\"data\": {\"name\": \"data-2c0d3acf3ed00faef265063b9f1ddeff\"}, \"mark\": {\"type\": \"tick\", \"color\": \"red\", \"size\": 17.2, \"thickness\": 2}, \"encoding\": {\"tooltip\": [{\"type\": \"nominal\", \"field\": \"index\"}, {\"type\": \"quantitative\", \"field\": \"Tests\"}, {\"type\": \"quantitative\", \"field\": \"Cases\"}, {\"type\": \"quantitative\", \"field\": \"Deaths\"}], \"x\": {\"type\": \"quantitative\", \"field\": \"Deaths\"}, \"y\": {\"type\": \"nominal\", \"field\": \"index\", \"sort\": {\"field\": \"codigo\", \"order\": \"ascending\"}}}}], \"$schema\": \"https://vega.github.io/schema/vega-lite/v4.8.1.json\", \"datasets\": {\"data-2c0d3acf3ed00faef265063b9f1ddeff\": [{\"index\": \"Peru\", \"Tests\": 483.1900221783154, \"Cases\": 61.476691356619824, \"Deaths\": 1.7186379757647376, \"Population\": 32971846.0, \"codigo\": 0}, {\"index\": \"Ecuador\", \"Tests\": 479.45197715135583, \"Cases\": 6.291425637049356, \"Deaths\": 0.7368336331679425, \"Population\": 17643060.0, \"codigo\": 1}, {\"index\": \"Chile\", \"Tests\": 357.2884142457325, \"Cases\": 27.236920597942124, \"Deaths\": 0.36618139088142426, \"Population\": 19116209.0, \"codigo\": 2}, {\"index\": \"Panama\", \"Tests\": 208.43136873176036, \"Cases\": 42.18071516243747, \"Deaths\": 1.1588108561109196, \"Population\": 4314768.0, \"codigo\": 3}, {\"index\": \"Uruguay\", \"Tests\": 188.46242090987573, \"Cases\": 4.510045454541093, \"Deaths\": 0.19191682785281244, \"Population\": 3473727.0, \"codigo\": 4}, {\"index\": \"Cuba\", \"Tests\": 168.18792126439178, \"Cases\": 4.355522720407696, \"Deaths\": 0.32372128327354494, \"Population\": 11326616.0, \"codigo\": 5}, {\"index\": \"Argentina\", \"Tests\": 60.31536973022944, \"Cases\": 3.6212822863221636, \"Deaths\": 0.1917583288072836, \"Population\": 45195777.0, \"codigo\": 6}, {\"index\": \"Colombia\", \"Tests\": 48.641110830117256, \"Cases\": 5.149079207066958, \"Deaths\": 0.17687676665497185, \"Population\": 50882884.0, \"codigo\": 7}, {\"index\": \"Paraguay\", \"Tests\": 48.22973054442112, \"Cases\": 0.7010135253549582, \"Deaths\": 0.0, \"Population\": 7132530.0, \"codigo\": 8}, {\"index\": \"Costa Rica\", \"Tests\": 28.922203154464153, \"Cases\": 0.7852199617048224, \"Deaths\": 0.0, \"Population\": 5094114.0, \"codigo\": 9}, {\"index\": \"Bolivia\", \"Tests\": 25.043457015312814, \"Cases\": 5.539836032846887, \"Deaths\": 0.17133513503650166, \"Population\": 11673029.0, \"codigo\": 10}]}}, {\"mode\": \"vega-lite\"});\n",
       "</script>"
      ],
      "text/plain": [
       "alt.LayerChart(...)"
      ]
     },
     "execution_count": 160,
     "metadata": {},
     "output_type": "execute_result"
    }
   ],
   "source": [
    "#hide_input\n",
    "bar = alt.Chart(data.reset_index()).mark_bar(opacity=0.4, color='green').encode(\n",
    "    x=alt.X('Tests:Q', axis=alt.Axis(title=f'Exámenes informados, casos confirmados, fallecimientos confirmados por cada 1 millón de habitantes\\n(promedio de los últimos 3 días)')),\n",
    "    y=alt.Y('index:N', axis=alt.Axis(title='País'), sort=alt.EncodingSortField(field='codigo', order='ascending')),\n",
    "    tooltip = ['index', 'Tests', 'Cases', 'Deaths']\n",
    ").properties(\n",
    "    title=f'COVID-19: Exámenes informados, casos confirmados y fallecidos confirmados por país por cada 1 millón de habitantes\\n(promedio de los últimos 3 días)',\n",
    "    width=alt.Step(40)  # controls width of bar.\n",
    ")\n",
    "\n",
    "tick0 = alt.Chart(data.reset_index()).mark_tick(\n",
    "    color='black',\n",
    "    thickness=2,\n",
    "    size=40 * 0.43,  # controls width of tick.\n",
    ").encode(\n",
    "    x='Tests:Q',\n",
    "    y=alt.Y('index:N', sort=alt.EncodingSortField(field='codigo', order='ascending')),\n",
    "    tooltip = ['index', 'Tests', 'Cases', 'Deaths']\n",
    ")\n",
    "\n",
    "tick1 = alt.Chart(data.reset_index()).mark_tick(\n",
    "    color='blue',\n",
    "    thickness=2,\n",
    "    size=40 * 0.43,  # controls width of tick.\n",
    ").encode(\n",
    "    x='Cases:Q',\n",
    "    y=alt.Y('index:N', sort=alt.EncodingSortField(field='codigo', order='ascending')),\n",
    "    tooltip = ['index', 'Tests', 'Cases', 'Deaths']\n",
    ")\n",
    "\n",
    "tick2 = alt.Chart(data.reset_index()).mark_tick(\n",
    "    color='red',\n",
    "    thickness=2,\n",
    "    size=40 * 0.43,  # controls width of tick.\n",
    ").encode(\n",
    "    x='Deaths:Q',\n",
    "    y=alt.Y('index:N', sort=alt.EncodingSortField(field='codigo', order='ascending')),\n",
    "    tooltip = ['index', 'Tests', 'Cases', 'Deaths']\n",
    ")\n",
    "\n",
    "(bar + tick0 + tick1 + tick2)"
   ]
  },
  {
   "cell_type": "code",
   "execution_count": null,
   "metadata": {},
   "outputs": [],
   "source": []
  }
 ],
 "metadata": {
  "kernelspec": {
   "display_name": "Python 3",
   "language": "python",
   "name": "python3"
  },
  "language_info": {
   "codemirror_mode": {
    "name": "ipython",
    "version": 3
   },
   "file_extension": ".py",
   "mimetype": "text/x-python",
   "name": "python",
   "nbconvert_exporter": "python",
   "pygments_lexer": "ipython3",
   "version": "3.7.5"
  }
 },
 "nbformat": 4,
 "nbformat_minor": 4
}
