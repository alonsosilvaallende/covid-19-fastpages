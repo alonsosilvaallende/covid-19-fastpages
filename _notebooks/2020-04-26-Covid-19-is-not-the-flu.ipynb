{
 "cells": [
  {
   "cell_type": "markdown",
   "metadata": {},
   "source": [
    "# COVID-19 is not the flu"
   ]
  },
  {
   "cell_type": "markdown",
   "metadata": {},
   "source": [
    "> twitter: https://twitter.com/jperla/status/1247330008814632960\n",
    "\n",
    "I love this plot. It's truly amazing. OK, actually I think I need to give you some context. At the beginning of the Covid-19 spread, there were many voices claiming that Covid-19 was not worst than the flu. Just to give you some examples:\n",
    "\n",
    "- The Washington Post: [The flu is a much bigger threat than coronavirus, for now.](https://www.washingtonpost.com/health/time-for-a-reality-check-america-the-flu-is-a-much-bigger-threat-than-coronavirus-for-now/2020/01/31/46a15166-4444-11ea-b5fc-eefa848cde99_story.html) on February 1.\n",
    "- Wired: [We Should Deescalate the War on the Coronavirus](https://www.wired.com/story/opinion-we-should-deescalate-the-war-on-the-coronavirus/) on January 29.\n",
    "- National Post: [New Coronavirus may be no more dangerous than the flue despite worldwide alarm](https://nationalpost.com/health/new-coronavirus-may-be-no-more-dangerous-than-the-flu-despite-worldwide-alarm-experts) on February 4.\n",
    "\n",
    "\n",
    "Even the president of the United States on March 9 wrote the following:\n",
    "\n",
    "> twitter: https://twitter.com/realDonaldTrump/status/1237027356314869761\n",
    "\n",
    "I think the problem was people was looking at the numbers of confirmed cases and deaths and the numbers were not that impressive. But as some smart people pointed out:\n",
    "\n",
    "> twitter: https://twitter.com/MaxCRoser/status/1237392250637709313\n",
    "\n",
    "So, on March 28, there were already many confirmed cases and confirmed deaths of Covid-19 in Italy. On that day I sent a message to my friend Patricio Reyes telling him that I wanted to do a plot comparing deaths by the flu and Covid-19 in Italy. I actually found an article stating \"We estimated excess deaths of 7,027, 20,259, 15,801 and 24,981 attributable to influenza epidemics in the 2013/14, 2014/15, 2015/16 and 2016/17, respectively, using the Goldstein index\":\n",
    "\n",
    "- [Investigating the impact of influenza on excess mortality in all ages in Italy during recent seasons (2013/14–2016/17 seasons)](https://www.sciencedirect.com/science/article/pii/S1201971219303285)\n",
    "\n",
    "So I looked at the data in Italy and this is how it looked like:"
   ]
  },
  {
   "cell_type": "code",
   "execution_count": 1,
   "metadata": {},
   "outputs": [],
   "source": [
    "#hide\n",
    "import pandas as pd\n",
    "import matplotlib.pyplot as plt\n",
    "import altair as alt\n",
    "import numpy as np"
   ]
  },
  {
   "cell_type": "code",
   "execution_count": 2,
   "metadata": {},
   "outputs": [],
   "source": [
    "#hide\n",
    "full_data = pd.read_csv(\"https://covid.ourworldindata.org/data/ecdc/full_data.csv\", index_col='date')"
   ]
  },
  {
   "cell_type": "code",
   "execution_count": 3,
   "metadata": {},
   "outputs": [],
   "source": [
    "#hide\n",
    "# Window size deaths\n",
    "WS_deaths = 7"
   ]
  },
  {
   "cell_type": "code",
   "execution_count": 4,
   "metadata": {},
   "outputs": [],
   "source": [
    "#hide\n",
    "new_deaths_IT = full_data[full_data['location'].str.contains('Italy')]['new_deaths']\n",
    "total_deaths_IT = full_data[full_data['location'].str.contains('Italy')]['total_deaths']"
   ]
  },
  {
   "cell_type": "code",
   "execution_count": 5,
   "metadata": {},
   "outputs": [],
   "source": [
    "#hide\n",
    "new_deaths_IT = new_deaths_IT[new_deaths_IT>0]\n",
    "total_deaths_IT = total_deaths_IT[total_deaths_IT>0]"
   ]
  },
  {
   "cell_type": "code",
   "execution_count": 25,
   "metadata": {},
   "outputs": [],
   "source": [
    "#hide\n",
    "new_deaths_IT = new_deaths_IT.loc[:'2020-03-28']\n",
    "total_deaths_IT = total_deaths_IT.loc[:'2020-03-28']"
   ]
  },
  {
   "cell_type": "code",
   "execution_count": 28,
   "metadata": {},
   "outputs": [],
   "source": [
    "#hide\n",
    "data = new_deaths_IT.reset_index()\n",
    "data['rolling_new_deaths'] = new_deaths_IT.rolling(window=WS_deaths).mean().values\n",
    "data[\"New deaths\"] = len(data) * [\"New deaths\"]\n",
    "data[\"7-day rolling average\"] = len(data) * [\"7-day rolling average\"]"
   ]
  },
  {
   "cell_type": "code",
   "execution_count": 29,
   "metadata": {
    "scrolled": false
   },
   "outputs": [
    {
     "data": {
      "text/html": [
       "\n",
       "<div id=\"altair-viz-49def32acd394f6bb6461dc5bda07253\"></div>\n",
       "<script type=\"text/javascript\">\n",
       "  (function(spec, embedOpt){\n",
       "    let outputDiv = document.currentScript.previousElementSibling;\n",
       "    if (outputDiv.id !== \"altair-viz-49def32acd394f6bb6461dc5bda07253\") {\n",
       "      outputDiv = document.getElementById(\"altair-viz-49def32acd394f6bb6461dc5bda07253\");\n",
       "    }\n",
       "    const paths = {\n",
       "      \"vega\": \"https://cdn.jsdelivr.net/npm//vega@5?noext\",\n",
       "      \"vega-lib\": \"https://cdn.jsdelivr.net/npm//vega-lib?noext\",\n",
       "      \"vega-lite\": \"https://cdn.jsdelivr.net/npm//vega-lite@4.8.1?noext\",\n",
       "      \"vega-embed\": \"https://cdn.jsdelivr.net/npm//vega-embed@6?noext\",\n",
       "    };\n",
       "\n",
       "    function loadScript(lib) {\n",
       "      return new Promise(function(resolve, reject) {\n",
       "        var s = document.createElement('script');\n",
       "        s.src = paths[lib];\n",
       "        s.async = true;\n",
       "        s.onload = () => resolve(paths[lib]);\n",
       "        s.onerror = () => reject(`Error loading script: ${paths[lib]}`);\n",
       "        document.getElementsByTagName(\"head\")[0].appendChild(s);\n",
       "      });\n",
       "    }\n",
       "\n",
       "    function showError(err) {\n",
       "      outputDiv.innerHTML = `<div class=\"error\" style=\"color:red;\">${err}</div>`;\n",
       "      throw err;\n",
       "    }\n",
       "\n",
       "    function displayChart(vegaEmbed) {\n",
       "      vegaEmbed(outputDiv, spec, embedOpt)\n",
       "        .catch(err => showError(`Javascript Error: ${err.message}<br>This usually means there's a typo in your chart specification. See the javascript console for the full traceback.`));\n",
       "    }\n",
       "\n",
       "    if(typeof define === \"function\" && define.amd) {\n",
       "      requirejs.config({paths});\n",
       "      require([\"vega-embed\"], displayChart, err => showError(`Error loading script: ${err.message}`));\n",
       "    } else if (typeof vegaEmbed === \"function\") {\n",
       "      displayChart(vegaEmbed);\n",
       "    } else {\n",
       "      loadScript(\"vega\")\n",
       "        .then(() => loadScript(\"vega-lite\"))\n",
       "        .then(() => loadScript(\"vega-embed\"))\n",
       "        .catch(showError)\n",
       "        .then(() => displayChart(vegaEmbed));\n",
       "    }\n",
       "  })({\"config\": {\"view\": {\"continuousWidth\": 400, \"continuousHeight\": 300}}, \"layer\": [{\"mark\": {\"type\": \"line\", \"color\": \"firebrick\"}, \"encoding\": {\"tooltip\": [{\"type\": \"nominal\", \"field\": \"date\"}, {\"type\": \"quantitative\", \"field\": \"total_deaths\"}], \"x\": {\"type\": \"nominal\", \"axis\": {\"title\": \"Date\"}, \"field\": \"date\"}, \"y\": {\"type\": \"quantitative\", \"axis\": {\"title\": \"Total number of confirmed deaths\"}, \"field\": \"total_deaths\"}}, \"title\": \"Covid-19 in Italy: Total number of confirmed deaths\"}, {\"mark\": {\"type\": \"circle\", \"color\": \"firebrick\", \"size\": 60}, \"encoding\": {\"tooltip\": [{\"type\": \"nominal\", \"field\": \"date\"}, {\"type\": \"quantitative\", \"field\": \"total_deaths\"}], \"x\": {\"type\": \"nominal\", \"axis\": {\"title\": \"Date\"}, \"field\": \"date\"}, \"y\": {\"type\": \"quantitative\", \"axis\": {\"title\": \"Total number of confirmed deaths\"}, \"field\": \"total_deaths\"}}, \"title\": \"Covid-19 in Italy: Total number of confirmed deaths\"}], \"data\": {\"name\": \"data-94f16ffba460e9b85397fa21d2eeea8a\"}, \"$schema\": \"https://vega.github.io/schema/vega-lite/v4.8.1.json\", \"datasets\": {\"data-94f16ffba460e9b85397fa21d2eeea8a\": [{\"date\": \"2020-02-23\", \"total_deaths\": 2}, {\"date\": \"2020-02-24\", \"total_deaths\": 2}, {\"date\": \"2020-02-25\", \"total_deaths\": 6}, {\"date\": \"2020-02-26\", \"total_deaths\": 11}, {\"date\": \"2020-02-27\", \"total_deaths\": 12}, {\"date\": \"2020-02-28\", \"total_deaths\": 17}, {\"date\": \"2020-02-29\", \"total_deaths\": 21}, {\"date\": \"2020-03-01\", \"total_deaths\": 29}, {\"date\": \"2020-03-02\", \"total_deaths\": 35}, {\"date\": \"2020-03-03\", \"total_deaths\": 52}, {\"date\": \"2020-03-04\", \"total_deaths\": 80}, {\"date\": \"2020-03-05\", \"total_deaths\": 107}, {\"date\": \"2020-03-06\", \"total_deaths\": 148}, {\"date\": \"2020-03-07\", \"total_deaths\": 197}, {\"date\": \"2020-03-08\", \"total_deaths\": 233}, {\"date\": \"2020-03-09\", \"total_deaths\": 366}, {\"date\": \"2020-03-10\", \"total_deaths\": 464}, {\"date\": \"2020-03-11\", \"total_deaths\": 631}, {\"date\": \"2020-03-12\", \"total_deaths\": 827}, {\"date\": \"2020-03-13\", \"total_deaths\": 1016}, {\"date\": \"2020-03-14\", \"total_deaths\": 1268}, {\"date\": \"2020-03-15\", \"total_deaths\": 1441}, {\"date\": \"2020-03-16\", \"total_deaths\": 1811}, {\"date\": \"2020-03-17\", \"total_deaths\": 2158}, {\"date\": \"2020-03-18\", \"total_deaths\": 2505}, {\"date\": \"2020-03-19\", \"total_deaths\": 2978}, {\"date\": \"2020-03-20\", \"total_deaths\": 3407}, {\"date\": \"2020-03-21\", \"total_deaths\": 4032}, {\"date\": \"2020-03-22\", \"total_deaths\": 4827}, {\"date\": \"2020-03-23\", \"total_deaths\": 5476}, {\"date\": \"2020-03-24\", \"total_deaths\": 6077}, {\"date\": \"2020-03-25\", \"total_deaths\": 6820}, {\"date\": \"2020-03-26\", \"total_deaths\": 7505}, {\"date\": \"2020-03-27\", \"total_deaths\": 8165}, {\"date\": \"2020-03-28\", \"total_deaths\": 9136}]}}, {\"mode\": \"vega-lite\"});\n",
       "</script>"
      ],
      "text/plain": [
       "alt.LayerChart(...)"
      ]
     },
     "execution_count": 29,
     "metadata": {},
     "output_type": "execute_result"
    }
   ],
   "source": [
    "#hide_input\n",
    "base = alt.Chart(total_deaths_IT.reset_index()).encode(\n",
    "    x=alt.X('date:N', axis=alt.Axis(title='Date')),\n",
    ").properties(\n",
    "    title='Covid-19 in Italy: Total number of confirmed deaths'\n",
    ")\n",
    "\n",
    "line = base.mark_line(color='firebrick').encode(\n",
    "    y=alt.Y('total_deaths', axis=alt.Axis(title='Total number of confirmed deaths')),\n",
    "    tooltip = ['date', 'total_deaths']\n",
    ")\n",
    "\n",
    "circles = base.mark_circle(color='firebrick', size=60).encode(\n",
    "    x=alt.X('date:N', axis=alt.Axis(title='Date')),\n",
    "    y=alt.Y('total_deaths', axis=alt.Axis(title='Total number of confirmed deaths')),\n",
    "    tooltip = ['date', 'total_deaths']\n",
    ")\n",
    "\n",
    "line+circles"
   ]
  },
  {
   "cell_type": "code",
   "execution_count": 30,
   "metadata": {},
   "outputs": [
    {
     "data": {
      "text/html": [
       "\n",
       "<div id=\"altair-viz-90f3ecd9a1c24d1ba57f3386a8ff2252\"></div>\n",
       "<script type=\"text/javascript\">\n",
       "  (function(spec, embedOpt){\n",
       "    let outputDiv = document.currentScript.previousElementSibling;\n",
       "    if (outputDiv.id !== \"altair-viz-90f3ecd9a1c24d1ba57f3386a8ff2252\") {\n",
       "      outputDiv = document.getElementById(\"altair-viz-90f3ecd9a1c24d1ba57f3386a8ff2252\");\n",
       "    }\n",
       "    const paths = {\n",
       "      \"vega\": \"https://cdn.jsdelivr.net/npm//vega@5?noext\",\n",
       "      \"vega-lib\": \"https://cdn.jsdelivr.net/npm//vega-lib?noext\",\n",
       "      \"vega-lite\": \"https://cdn.jsdelivr.net/npm//vega-lite@4.8.1?noext\",\n",
       "      \"vega-embed\": \"https://cdn.jsdelivr.net/npm//vega-embed@6?noext\",\n",
       "    };\n",
       "\n",
       "    function loadScript(lib) {\n",
       "      return new Promise(function(resolve, reject) {\n",
       "        var s = document.createElement('script');\n",
       "        s.src = paths[lib];\n",
       "        s.async = true;\n",
       "        s.onload = () => resolve(paths[lib]);\n",
       "        s.onerror = () => reject(`Error loading script: ${paths[lib]}`);\n",
       "        document.getElementsByTagName(\"head\")[0].appendChild(s);\n",
       "      });\n",
       "    }\n",
       "\n",
       "    function showError(err) {\n",
       "      outputDiv.innerHTML = `<div class=\"error\" style=\"color:red;\">${err}</div>`;\n",
       "      throw err;\n",
       "    }\n",
       "\n",
       "    function displayChart(vegaEmbed) {\n",
       "      vegaEmbed(outputDiv, spec, embedOpt)\n",
       "        .catch(err => showError(`Javascript Error: ${err.message}<br>This usually means there's a typo in your chart specification. See the javascript console for the full traceback.`));\n",
       "    }\n",
       "\n",
       "    if(typeof define === \"function\" && define.amd) {\n",
       "      requirejs.config({paths});\n",
       "      require([\"vega-embed\"], displayChart, err => showError(`Error loading script: ${err.message}`));\n",
       "    } else if (typeof vegaEmbed === \"function\") {\n",
       "      displayChart(vegaEmbed);\n",
       "    } else {\n",
       "      loadScript(\"vega\")\n",
       "        .then(() => loadScript(\"vega-lite\"))\n",
       "        .then(() => loadScript(\"vega-embed\"))\n",
       "        .catch(showError)\n",
       "        .then(() => displayChart(vegaEmbed));\n",
       "    }\n",
       "  })({\"config\": {\"view\": {\"continuousWidth\": 400, \"continuousHeight\": 300}}, \"layer\": [{\"data\": {\"name\": \"data-a0714442adeb5563a6d0b3ac2d8c5f0c\"}, \"mark\": {\"type\": \"bar\", \"opacity\": 0.7}, \"encoding\": {\"opacity\": {\"type\": \"nominal\", \"field\": \"New deaths\", \"legend\": {\"title\": \"\"}}, \"tooltip\": [{\"type\": \"nominal\", \"field\": \"date\"}, {\"type\": \"quantitative\", \"field\": \"new_deaths\"}], \"x\": {\"type\": \"nominal\", \"axis\": {\"title\": \"Date\"}, \"field\": \"date\"}, \"y\": {\"type\": \"quantitative\", \"axis\": {\"title\": \"Deaths\"}, \"field\": \"new_deaths\"}}}, {\"data\": {\"name\": \"data-a0714442adeb5563a6d0b3ac2d8c5f0c\"}, \"mark\": {\"type\": \"line\", \"color\": \"firebrick\", \"point\": {\"filled\": true, \"fill\": \"firebrick\"}}, \"encoding\": {\"shape\": {\"type\": \"nominal\", \"field\": \"7-day rolling average\", \"legend\": {\"title\": \"\"}}, \"x\": {\"type\": \"nominal\", \"axis\": {\"title\": \"Date\"}, \"field\": \"date\"}, \"y\": {\"type\": \"quantitative\", \"field\": \"rolling_new_deaths\"}}}], \"title\": \"Covid-19 in Italy: Daily confirmed deaths\", \"$schema\": \"https://vega.github.io/schema/vega-lite/v4.8.1.json\", \"datasets\": {\"data-a0714442adeb5563a6d0b3ac2d8c5f0c\": [{\"index\": 0, \"date\": \"2020-02-23\", \"new_deaths\": 2, \"rolling_new_deaths\": null, \"New deaths\": \"New deaths\", \"7-day rolling average\": \"7-day rolling average\"}, {\"index\": 1, \"date\": \"2020-02-25\", \"new_deaths\": 4, \"rolling_new_deaths\": null, \"New deaths\": \"New deaths\", \"7-day rolling average\": \"7-day rolling average\"}, {\"index\": 2, \"date\": \"2020-02-26\", \"new_deaths\": 5, \"rolling_new_deaths\": null, \"New deaths\": \"New deaths\", \"7-day rolling average\": \"7-day rolling average\"}, {\"index\": 3, \"date\": \"2020-02-27\", \"new_deaths\": 1, \"rolling_new_deaths\": null, \"New deaths\": \"New deaths\", \"7-day rolling average\": \"7-day rolling average\"}, {\"index\": 4, \"date\": \"2020-02-28\", \"new_deaths\": 5, \"rolling_new_deaths\": null, \"New deaths\": \"New deaths\", \"7-day rolling average\": \"7-day rolling average\"}, {\"index\": 5, \"date\": \"2020-02-29\", \"new_deaths\": 4, \"rolling_new_deaths\": null, \"New deaths\": \"New deaths\", \"7-day rolling average\": \"7-day rolling average\"}, {\"index\": 6, \"date\": \"2020-03-01\", \"new_deaths\": 8, \"rolling_new_deaths\": 4.142857142857143, \"New deaths\": \"New deaths\", \"7-day rolling average\": \"7-day rolling average\"}, {\"index\": 7, \"date\": \"2020-03-02\", \"new_deaths\": 6, \"rolling_new_deaths\": 4.714285714285714, \"New deaths\": \"New deaths\", \"7-day rolling average\": \"7-day rolling average\"}, {\"index\": 8, \"date\": \"2020-03-03\", \"new_deaths\": 17, \"rolling_new_deaths\": 6.571428571428571, \"New deaths\": \"New deaths\", \"7-day rolling average\": \"7-day rolling average\"}, {\"index\": 9, \"date\": \"2020-03-04\", \"new_deaths\": 28, \"rolling_new_deaths\": 9.857142857142858, \"New deaths\": \"New deaths\", \"7-day rolling average\": \"7-day rolling average\"}, {\"index\": 10, \"date\": \"2020-03-05\", \"new_deaths\": 27, \"rolling_new_deaths\": 13.571428571428571, \"New deaths\": \"New deaths\", \"7-day rolling average\": \"7-day rolling average\"}, {\"index\": 11, \"date\": \"2020-03-06\", \"new_deaths\": 41, \"rolling_new_deaths\": 18.714285714285715, \"New deaths\": \"New deaths\", \"7-day rolling average\": \"7-day rolling average\"}, {\"index\": 12, \"date\": \"2020-03-07\", \"new_deaths\": 49, \"rolling_new_deaths\": 25.142857142857142, \"New deaths\": \"New deaths\", \"7-day rolling average\": \"7-day rolling average\"}, {\"index\": 13, \"date\": \"2020-03-08\", \"new_deaths\": 36, \"rolling_new_deaths\": 29.142857142857142, \"New deaths\": \"New deaths\", \"7-day rolling average\": \"7-day rolling average\"}, {\"index\": 14, \"date\": \"2020-03-09\", \"new_deaths\": 133, \"rolling_new_deaths\": 47.285714285714285, \"New deaths\": \"New deaths\", \"7-day rolling average\": \"7-day rolling average\"}, {\"index\": 15, \"date\": \"2020-03-10\", \"new_deaths\": 98, \"rolling_new_deaths\": 58.857142857142854, \"New deaths\": \"New deaths\", \"7-day rolling average\": \"7-day rolling average\"}, {\"index\": 16, \"date\": \"2020-03-11\", \"new_deaths\": 167, \"rolling_new_deaths\": 78.71428571428571, \"New deaths\": \"New deaths\", \"7-day rolling average\": \"7-day rolling average\"}, {\"index\": 17, \"date\": \"2020-03-12\", \"new_deaths\": 196, \"rolling_new_deaths\": 102.85714285714286, \"New deaths\": \"New deaths\", \"7-day rolling average\": \"7-day rolling average\"}, {\"index\": 18, \"date\": \"2020-03-13\", \"new_deaths\": 189, \"rolling_new_deaths\": 124.0, \"New deaths\": \"New deaths\", \"7-day rolling average\": \"7-day rolling average\"}, {\"index\": 19, \"date\": \"2020-03-14\", \"new_deaths\": 252, \"rolling_new_deaths\": 153.0, \"New deaths\": \"New deaths\", \"7-day rolling average\": \"7-day rolling average\"}, {\"index\": 20, \"date\": \"2020-03-15\", \"new_deaths\": 173, \"rolling_new_deaths\": 172.57142857142858, \"New deaths\": \"New deaths\", \"7-day rolling average\": \"7-day rolling average\"}, {\"index\": 21, \"date\": \"2020-03-16\", \"new_deaths\": 370, \"rolling_new_deaths\": 206.42857142857142, \"New deaths\": \"New deaths\", \"7-day rolling average\": \"7-day rolling average\"}, {\"index\": 22, \"date\": \"2020-03-17\", \"new_deaths\": 347, \"rolling_new_deaths\": 242.0, \"New deaths\": \"New deaths\", \"7-day rolling average\": \"7-day rolling average\"}, {\"index\": 23, \"date\": \"2020-03-18\", \"new_deaths\": 347, \"rolling_new_deaths\": 267.7142857142857, \"New deaths\": \"New deaths\", \"7-day rolling average\": \"7-day rolling average\"}, {\"index\": 24, \"date\": \"2020-03-19\", \"new_deaths\": 473, \"rolling_new_deaths\": 307.2857142857143, \"New deaths\": \"New deaths\", \"7-day rolling average\": \"7-day rolling average\"}, {\"index\": 25, \"date\": \"2020-03-20\", \"new_deaths\": 429, \"rolling_new_deaths\": 341.57142857142856, \"New deaths\": \"New deaths\", \"7-day rolling average\": \"7-day rolling average\"}, {\"index\": 26, \"date\": \"2020-03-21\", \"new_deaths\": 625, \"rolling_new_deaths\": 394.85714285714283, \"New deaths\": \"New deaths\", \"7-day rolling average\": \"7-day rolling average\"}, {\"index\": 27, \"date\": \"2020-03-22\", \"new_deaths\": 795, \"rolling_new_deaths\": 483.7142857142857, \"New deaths\": \"New deaths\", \"7-day rolling average\": \"7-day rolling average\"}, {\"index\": 28, \"date\": \"2020-03-23\", \"new_deaths\": 649, \"rolling_new_deaths\": 523.5714285714286, \"New deaths\": \"New deaths\", \"7-day rolling average\": \"7-day rolling average\"}, {\"index\": 29, \"date\": \"2020-03-24\", \"new_deaths\": 601, \"rolling_new_deaths\": 559.8571428571429, \"New deaths\": \"New deaths\", \"7-day rolling average\": \"7-day rolling average\"}, {\"index\": 30, \"date\": \"2020-03-25\", \"new_deaths\": 743, \"rolling_new_deaths\": 616.4285714285714, \"New deaths\": \"New deaths\", \"7-day rolling average\": \"7-day rolling average\"}, {\"index\": 31, \"date\": \"2020-03-26\", \"new_deaths\": 685, \"rolling_new_deaths\": 646.7142857142857, \"New deaths\": \"New deaths\", \"7-day rolling average\": \"7-day rolling average\"}, {\"index\": 32, \"date\": \"2020-03-27\", \"new_deaths\": 660, \"rolling_new_deaths\": 679.7142857142857, \"New deaths\": \"New deaths\", \"7-day rolling average\": \"7-day rolling average\"}, {\"index\": 33, \"date\": \"2020-03-28\", \"new_deaths\": 971, \"rolling_new_deaths\": 729.1428571428571, \"New deaths\": \"New deaths\", \"7-day rolling average\": \"7-day rolling average\"}]}}, {\"mode\": \"vega-lite\"});\n",
       "</script>"
      ],
      "text/plain": [
       "alt.LayerChart(...)"
      ]
     },
     "execution_count": 30,
     "metadata": {},
     "output_type": "execute_result"
    }
   ],
   "source": [
    "#hide_input\n",
    "bars = alt.Chart(data.reset_index()).mark_bar(opacity=0.7).encode(\n",
    "    x = alt.X('date:N', axis=alt.Axis(title='Date')),\n",
    "    y = alt.Y('new_deaths:Q', axis=alt.Axis(title='Deaths')),\n",
    "    tooltip = ['date', 'new_deaths'],\n",
    "    opacity=alt.Opacity('New deaths', legend=alt.Legend(title=\"\"))\n",
    ")\n",
    "\n",
    "line = alt.Chart(data.reset_index()).mark_line(point={\n",
    "      \"filled\": True,\n",
    "      \"fill\": \"firebrick\"\n",
    "    }, color='firebrick').encode(\n",
    "    x=alt.X('date:N', axis=alt.Axis(title='Date')),\n",
    "    y = alt.Y('rolling_new_deaths:Q'),\n",
    "    shape=alt.Shape('7-day rolling average', legend=alt.Legend(title=\"\"))\n",
    ")\n",
    "\n",
    "(bars + line).properties(\n",
    "    title='Covid-19 in Italy: Daily confirmed deaths'\n",
    ")"
   ]
  },
  {
   "cell_type": "markdown",
   "metadata": {},
   "source": [
    "So in around one month there were more than 9,000 deaths and the daily deaths were more than 900. I guess I could have made a point by comparing it to the average number of deaths in a month in the worst year (2016/2017 with 24,981 deaths, or around 2100 deaths per month or 68 per day), but the flu is highly seasonal so I don't think it would be convincing.\n",
    "\n",
    "And then on April 7, I found the mentioned tweet:\n",
    "\n",
    "> twitter: https://twitter.com/jperla/status/1247330008814632960\n",
    "\n",
    "I think it illustrates well what was important which was the growing rate. I had some people telling me that it didn't prove anything since the quantity of weekly deaths was smaller than the worst weeks of some years of the flu, but I don't agree. \n",
    "\n",
    "So here I recreated the plot:"
   ]
  },
  {
   "cell_type": "code",
   "execution_count": 64,
   "metadata": {},
   "outputs": [],
   "source": [
    "#hide\n",
    "data_raw = pd.read_csv('https://raw.githubusercontent.com/alonsosilvaallende/COVID-19/master/data/National_Custom_Data.csv', thousands=',')"
   ]
  },
  {
   "cell_type": "code",
   "execution_count": 65,
   "metadata": {},
   "outputs": [],
   "source": [
    "#hide\n",
    "data_season_2018_2019 = data_raw.query(\"SEASON == '2018-19'\")\n",
    "data_season_2017_2018 = data_raw.query(\"SEASON == '2017-18'\")\n",
    "data_season_2016_2017 = data_raw.query(\"SEASON == '2016-17'\")\n",
    "data_season_2015_2016 = data_raw.query(\"SEASON == '2015-16'\")"
   ]
  },
  {
   "cell_type": "code",
   "execution_count": 66,
   "metadata": {},
   "outputs": [],
   "source": [
    "#hide\n",
    "total_deaths_US = full_data[full_data['location'].str.contains('United States')]['total_deaths']\n",
    "total_deaths_US = total_deaths_US[total_deaths_US>0]"
   ]
  },
  {
   "cell_type": "code",
   "execution_count": 133,
   "metadata": {},
   "outputs": [],
   "source": [
    "#hide\n",
    "i = 0\n",
    "Week_09 = total_deaths_US.iloc[i]\n",
    "Week_10 = total_deaths_US.iloc[i+7]  - Week_09\n",
    "Week_11 = total_deaths_US.iloc[i+14] - Week_10\n",
    "Week_12 = total_deaths_US.iloc[i+21] - Week_11\n",
    "Week_13 = total_deaths_US.iloc[i+28] - Week_12\n",
    "Week_14 = total_deaths_US.iloc[i+35] - Week_13\n",
    "Week_15 = total_deaths_US.iloc[i+42] - Week_14\n",
    "Week_16 = total_deaths_US.iloc[i+49] - Week_15"
   ]
  },
  {
   "cell_type": "code",
   "execution_count": 134,
   "metadata": {},
   "outputs": [
    {
     "data": {
      "text/plain": [
       "[1, 16, 41, 299, 1892, 6609, 13999, 24911]"
      ]
     },
     "execution_count": 134,
     "metadata": {},
     "output_type": "execute_result"
    }
   ],
   "source": [
    "#hide\n",
    "deaths_covid = [Week_09, Week_10, Week_11, Week_12, Week_13, Week_14, Week_15, Week_16]\n",
    "deaths_covid"
   ]
  },
  {
   "cell_type": "code",
   "execution_count": 136,
   "metadata": {},
   "outputs": [],
   "source": [
    "#hide\n",
    "data[\"Weeks\"] = [i for i in np.arange(40,53)]+[i for i in np.arange(1,40)]"
   ]
  },
  {
   "cell_type": "code",
   "execution_count": 142,
   "metadata": {},
   "outputs": [],
   "source": [
    "#hide\n",
    "data = pd.DataFrame()\n",
    "data[\"Season 2018-2019\"] = (data_season_2018_2019['NUM INFLUENZA DEATHS']+data_season_2018_2019['NUM PNEUMONIA DEATHS']).reset_index(drop=True)\n",
    "data[\"Season 2017-2018\"] = (data_season_2017_2018['NUM INFLUENZA DEATHS']+data_season_2017_2018['NUM PNEUMONIA DEATHS']).reset_index(drop=True)\n",
    "data[\"Season 2016-2017\"] = (data_season_2016_2017['NUM INFLUENZA DEATHS']+data_season_2016_2017['NUM PNEUMONIA DEATHS']).reset_index(drop=True)\n",
    "data[\"Season 2015-2016\"] = (data_season_2015_2016['NUM INFLUENZA DEATHS']+data_season_2015_2016['NUM PNEUMONIA DEATHS']).reset_index(drop=True)"
   ]
  },
  {
   "cell_type": "code",
   "execution_count": 143,
   "metadata": {
    "scrolled": false
   },
   "outputs": [],
   "source": [
    "#hide\n",
    "data[\"Covid-19\"] = len(data) * np.nan\n",
    "data[\"Covid-19\"].iloc[21:27] = deaths_covid[:-2]"
   ]
  },
  {
   "cell_type": "code",
   "execution_count": 146,
   "metadata": {},
   "outputs": [
    {
     "data": {
      "text/html": [
       "\n",
       "<div id=\"altair-viz-4ff741bf0e4d4929b5a0d552cdab015c\"></div>\n",
       "<script type=\"text/javascript\">\n",
       "  (function(spec, embedOpt){\n",
       "    let outputDiv = document.currentScript.previousElementSibling;\n",
       "    if (outputDiv.id !== \"altair-viz-4ff741bf0e4d4929b5a0d552cdab015c\") {\n",
       "      outputDiv = document.getElementById(\"altair-viz-4ff741bf0e4d4929b5a0d552cdab015c\");\n",
       "    }\n",
       "    const paths = {\n",
       "      \"vega\": \"https://cdn.jsdelivr.net/npm//vega@5?noext\",\n",
       "      \"vega-lib\": \"https://cdn.jsdelivr.net/npm//vega-lib?noext\",\n",
       "      \"vega-lite\": \"https://cdn.jsdelivr.net/npm//vega-lite@4.8.1?noext\",\n",
       "      \"vega-embed\": \"https://cdn.jsdelivr.net/npm//vega-embed@6?noext\",\n",
       "    };\n",
       "\n",
       "    function loadScript(lib) {\n",
       "      return new Promise(function(resolve, reject) {\n",
       "        var s = document.createElement('script');\n",
       "        s.src = paths[lib];\n",
       "        s.async = true;\n",
       "        s.onload = () => resolve(paths[lib]);\n",
       "        s.onerror = () => reject(`Error loading script: ${paths[lib]}`);\n",
       "        document.getElementsByTagName(\"head\")[0].appendChild(s);\n",
       "      });\n",
       "    }\n",
       "\n",
       "    function showError(err) {\n",
       "      outputDiv.innerHTML = `<div class=\"error\" style=\"color:red;\">${err}</div>`;\n",
       "      throw err;\n",
       "    }\n",
       "\n",
       "    function displayChart(vegaEmbed) {\n",
       "      vegaEmbed(outputDiv, spec, embedOpt)\n",
       "        .catch(err => showError(`Javascript Error: ${err.message}<br>This usually means there's a typo in your chart specification. See the javascript console for the full traceback.`));\n",
       "    }\n",
       "\n",
       "    if(typeof define === \"function\" && define.amd) {\n",
       "      requirejs.config({paths});\n",
       "      require([\"vega-embed\"], displayChart, err => showError(`Error loading script: ${err.message}`));\n",
       "    } else if (typeof vegaEmbed === \"function\") {\n",
       "      displayChart(vegaEmbed);\n",
       "    } else {\n",
       "      loadScript(\"vega\")\n",
       "        .then(() => loadScript(\"vega-lite\"))\n",
       "        .then(() => loadScript(\"vega-embed\"))\n",
       "        .catch(showError)\n",
       "        .then(() => displayChart(vegaEmbed));\n",
       "    }\n",
       "  })({\"config\": {\"view\": {\"continuousWidth\": 400, \"continuousHeight\": 300}}, \"data\": {\"name\": \"data-2bb1cd69092f53d7c12b91e2a79fb487\"}, \"mark\": \"line\", \"encoding\": {\"color\": {\"type\": \"nominal\", \"field\": \"variable\"}, \"x\": {\"type\": \"nominal\", \"axis\": {\"title\": \"Week of Flu Season\"}, \"field\": \"index\"}, \"y\": {\"type\": \"quantitative\", \"field\": \"value\"}}, \"width\": 800, \"$schema\": \"https://vega.github.io/schema/vega-lite/v4.8.1.json\", \"datasets\": {\"data-2bb1cd69092f53d7c12b91e2a79fb487\": [{\"index\": 0, \"variable\": \"Season 2018-2019\", \"value\": 2979.0}, {\"index\": 1, \"variable\": \"Season 2018-2019\", \"value\": 2878.0}, {\"index\": 2, \"variable\": \"Season 2018-2019\", \"value\": 3005.0}, {\"index\": 3, \"variable\": \"Season 2018-2019\", \"value\": 3089.0}, {\"index\": 4, \"variable\": \"Season 2018-2019\", \"value\": 3028.0}, {\"index\": 5, \"variable\": \"Season 2018-2019\", \"value\": 3050.0}, {\"index\": 6, \"variable\": \"Season 2018-2019\", \"value\": 3168.0}, {\"index\": 7, \"variable\": \"Season 2018-2019\", \"value\": 3209.0}, {\"index\": 8, \"variable\": \"Season 2018-2019\", \"value\": 3325.0}, {\"index\": 9, \"variable\": \"Season 2018-2019\", \"value\": 3455.0}, {\"index\": 10, \"variable\": \"Season 2018-2019\", \"value\": 3603.0}, {\"index\": 11, \"variable\": \"Season 2018-2019\", \"value\": 3578.0}, {\"index\": 12, \"variable\": \"Season 2018-2019\", \"value\": 3776.0}, {\"index\": 13, \"variable\": \"Season 2018-2019\", \"value\": 4128.0}, {\"index\": 14, \"variable\": \"Season 2018-2019\", \"value\": 4315.0}, {\"index\": 15, \"variable\": \"Season 2018-2019\", \"value\": 4340.0}, {\"index\": 16, \"variable\": \"Season 2018-2019\", \"value\": 4169.0}, {\"index\": 17, \"variable\": \"Season 2018-2019\", \"value\": 4215.0}, {\"index\": 18, \"variable\": \"Season 2018-2019\", \"value\": 4255.0}, {\"index\": 19, \"variable\": \"Season 2018-2019\", \"value\": 4372.0}, {\"index\": 20, \"variable\": \"Season 2018-2019\", \"value\": 4447.0}, {\"index\": 21, \"variable\": \"Season 2018-2019\", \"value\": 4269.0}, {\"index\": 22, \"variable\": \"Season 2018-2019\", \"value\": 4290.0}, {\"index\": 23, \"variable\": \"Season 2018-2019\", \"value\": 4489.0}, {\"index\": 24, \"variable\": \"Season 2018-2019\", \"value\": 4274.0}, {\"index\": 25, \"variable\": \"Season 2018-2019\", \"value\": 4171.0}, {\"index\": 26, \"variable\": \"Season 2018-2019\", \"value\": 3974.0}, {\"index\": 27, \"variable\": \"Season 2018-2019\", \"value\": 3750.0}, {\"index\": 28, \"variable\": \"Season 2018-2019\", \"value\": 3611.0}, {\"index\": 29, \"variable\": \"Season 2018-2019\", \"value\": 3424.0}, {\"index\": 30, \"variable\": \"Season 2018-2019\", \"value\": 3320.0}, {\"index\": 31, \"variable\": \"Season 2018-2019\", \"value\": 3296.0}, {\"index\": 32, \"variable\": \"Season 2018-2019\", \"value\": 3203.0}, {\"index\": 33, \"variable\": \"Season 2018-2019\", \"value\": 3179.0}, {\"index\": 34, \"variable\": \"Season 2018-2019\", \"value\": 3149.0}, {\"index\": 35, \"variable\": \"Season 2018-2019\", \"value\": 3063.0}, {\"index\": 36, \"variable\": \"Season 2018-2019\", \"value\": 2946.0}, {\"index\": 37, \"variable\": \"Season 2018-2019\", \"value\": 2963.0}, {\"index\": 38, \"variable\": \"Season 2018-2019\", \"value\": 2911.0}, {\"index\": 39, \"variable\": \"Season 2018-2019\", \"value\": 2868.0}, {\"index\": 40, \"variable\": \"Season 2018-2019\", \"value\": 2781.0}, {\"index\": 41, \"variable\": \"Season 2018-2019\", \"value\": 2684.0}, {\"index\": 42, \"variable\": \"Season 2018-2019\", \"value\": 2767.0}, {\"index\": 43, \"variable\": \"Season 2018-2019\", \"value\": 2738.0}, {\"index\": 44, \"variable\": \"Season 2018-2019\", \"value\": 2644.0}, {\"index\": 45, \"variable\": \"Season 2018-2019\", \"value\": 2610.0}, {\"index\": 46, \"variable\": \"Season 2018-2019\", \"value\": 2600.0}, {\"index\": 47, \"variable\": \"Season 2018-2019\", \"value\": 2624.0}, {\"index\": 48, \"variable\": \"Season 2018-2019\", \"value\": 2590.0}, {\"index\": 49, \"variable\": \"Season 2018-2019\", \"value\": 2527.0}, {\"index\": 50, \"variable\": \"Season 2018-2019\", \"value\": 2721.0}, {\"index\": 51, \"variable\": \"Season 2018-2019\", \"value\": 2788.0}, {\"index\": 0, \"variable\": \"Season 2017-2018\", \"value\": 3038.0}, {\"index\": 1, \"variable\": \"Season 2017-2018\", \"value\": 3019.0}, {\"index\": 2, \"variable\": \"Season 2017-2018\", \"value\": 3184.0}, {\"index\": 3, \"variable\": \"Season 2017-2018\", \"value\": 3302.0}, {\"index\": 4, \"variable\": \"Season 2017-2018\", \"value\": 3251.0}, {\"index\": 5, \"variable\": \"Season 2017-2018\", \"value\": 3225.0}, {\"index\": 6, \"variable\": \"Season 2017-2018\", \"value\": 3365.0}, {\"index\": 7, \"variable\": \"Season 2017-2018\", \"value\": 3250.0}, {\"index\": 8, \"variable\": \"Season 2017-2018\", \"value\": 3576.0}, {\"index\": 9, \"variable\": \"Season 2017-2018\", \"value\": 3646.0}, {\"index\": 10, \"variable\": \"Season 2017-2018\", \"value\": 3924.0}, {\"index\": 11, \"variable\": \"Season 2017-2018\", \"value\": 4346.0}, {\"index\": 12, \"variable\": \"Season 2017-2018\", \"value\": 5089.0}, {\"index\": 13, \"variable\": \"Season 2017-2018\", \"value\": 6321.0}, {\"index\": 14, \"variable\": \"Season 2017-2018\", \"value\": 7119.0}, {\"index\": 15, \"variable\": \"Season 2017-2018\", \"value\": 7038.0}, {\"index\": 16, \"variable\": \"Season 2017-2018\", \"value\": 6635.0}, {\"index\": 17, \"variable\": \"Season 2017-2018\", \"value\": 6237.0}, {\"index\": 18, \"variable\": \"Season 2017-2018\", \"value\": 5932.0}, {\"index\": 19, \"variable\": \"Season 2017-2018\", \"value\": 5778.0}, {\"index\": 20, \"variable\": \"Season 2017-2018\", \"value\": 5318.0}, {\"index\": 21, \"variable\": \"Season 2017-2018\", \"value\": 4782.0}, {\"index\": 22, \"variable\": \"Season 2017-2018\", \"value\": 4568.0}, {\"index\": 23, \"variable\": \"Season 2017-2018\", \"value\": 4297.0}, {\"index\": 24, \"variable\": \"Season 2017-2018\", \"value\": 4138.0}, {\"index\": 25, \"variable\": \"Season 2017-2018\", \"value\": 4063.0}, {\"index\": 26, \"variable\": \"Season 2017-2018\", \"value\": 3998.0}, {\"index\": 27, \"variable\": \"Season 2017-2018\", \"value\": 3804.0}, {\"index\": 28, \"variable\": \"Season 2017-2018\", \"value\": 3582.0}, {\"index\": 29, \"variable\": \"Season 2017-2018\", \"value\": 3513.0}, {\"index\": 30, \"variable\": \"Season 2017-2018\", \"value\": 3304.0}, {\"index\": 31, \"variable\": \"Season 2017-2018\", \"value\": 3085.0}, {\"index\": 32, \"variable\": \"Season 2017-2018\", \"value\": 2998.0}, {\"index\": 33, \"variable\": \"Season 2017-2018\", \"value\": 2977.0}, {\"index\": 34, \"variable\": \"Season 2017-2018\", \"value\": 2931.0}, {\"index\": 35, \"variable\": \"Season 2017-2018\", \"value\": 2922.0}, {\"index\": 36, \"variable\": \"Season 2017-2018\", \"value\": 2949.0}, {\"index\": 37, \"variable\": \"Season 2017-2018\", \"value\": 2872.0}, {\"index\": 38, \"variable\": \"Season 2017-2018\", \"value\": 2877.0}, {\"index\": 39, \"variable\": \"Season 2017-2018\", \"value\": 2779.0}, {\"index\": 40, \"variable\": \"Season 2017-2018\", \"value\": 2786.0}, {\"index\": 41, \"variable\": \"Season 2017-2018\", \"value\": 2714.0}, {\"index\": 42, \"variable\": \"Season 2017-2018\", \"value\": 2709.0}, {\"index\": 43, \"variable\": \"Season 2017-2018\", \"value\": 2665.0}, {\"index\": 44, \"variable\": \"Season 2017-2018\", \"value\": 2683.0}, {\"index\": 45, \"variable\": \"Season 2017-2018\", \"value\": 2622.0}, {\"index\": 46, \"variable\": \"Season 2017-2018\", \"value\": 2723.0}, {\"index\": 47, \"variable\": \"Season 2017-2018\", \"value\": 2636.0}, {\"index\": 48, \"variable\": \"Season 2017-2018\", \"value\": 2755.0}, {\"index\": 49, \"variable\": \"Season 2017-2018\", \"value\": 2769.0}, {\"index\": 50, \"variable\": \"Season 2017-2018\", \"value\": 2830.0}, {\"index\": 51, \"variable\": \"Season 2017-2018\", \"value\": 2828.0}, {\"index\": 0, \"variable\": \"Season 2016-2017\", \"value\": 3042.0}, {\"index\": 1, \"variable\": \"Season 2016-2017\", \"value\": 3204.0}, {\"index\": 2, \"variable\": \"Season 2016-2017\", \"value\": 3185.0}, {\"index\": 3, \"variable\": \"Season 2016-2017\", \"value\": 3147.0}, {\"index\": 4, \"variable\": \"Season 2016-2017\", \"value\": 3116.0}, {\"index\": 5, \"variable\": \"Season 2016-2017\", \"value\": 3226.0}, {\"index\": 6, \"variable\": \"Season 2016-2017\", \"value\": 3199.0}, {\"index\": 7, \"variable\": \"Season 2016-2017\", \"value\": 3277.0}, {\"index\": 8, \"variable\": \"Season 2016-2017\", \"value\": 3544.0}, {\"index\": 9, \"variable\": \"Season 2016-2017\", \"value\": 3649.0}, {\"index\": 10, \"variable\": \"Season 2016-2017\", \"value\": 3824.0}, {\"index\": 11, \"variable\": \"Season 2016-2017\", \"value\": 3829.0}, {\"index\": 12, \"variable\": \"Season 2016-2017\", \"value\": 4262.0}, {\"index\": 13, \"variable\": \"Season 2016-2017\", \"value\": 4847.0}, {\"index\": 14, \"variable\": \"Season 2016-2017\", \"value\": 4873.0}, {\"index\": 15, \"variable\": \"Season 2016-2017\", \"value\": 4994.0}, {\"index\": 16, \"variable\": \"Season 2016-2017\", \"value\": 4794.0}, {\"index\": 17, \"variable\": \"Season 2016-2017\", \"value\": 4803.0}, {\"index\": 18, \"variable\": \"Season 2016-2017\", \"value\": 4866.0}, {\"index\": 19, \"variable\": \"Season 2016-2017\", \"value\": 4964.0}, {\"index\": 20, \"variable\": \"Season 2016-2017\", \"value\": 4974.0}, {\"index\": 21, \"variable\": \"Season 2016-2017\", \"value\": 4794.0}, {\"index\": 22, \"variable\": \"Season 2016-2017\", \"value\": 4695.0}, {\"index\": 23, \"variable\": \"Season 2016-2017\", \"value\": 4476.0}, {\"index\": 24, \"variable\": \"Season 2016-2017\", \"value\": 4410.0}, {\"index\": 25, \"variable\": \"Season 2016-2017\", \"value\": 4220.0}, {\"index\": 26, \"variable\": \"Season 2016-2017\", \"value\": 4087.0}, {\"index\": 27, \"variable\": \"Season 2016-2017\", \"value\": 3984.0}, {\"index\": 28, \"variable\": \"Season 2016-2017\", \"value\": 3651.0}, {\"index\": 29, \"variable\": \"Season 2016-2017\", \"value\": 3548.0}, {\"index\": 30, \"variable\": \"Season 2016-2017\", \"value\": 3371.0}, {\"index\": 31, \"variable\": \"Season 2016-2017\", \"value\": 3266.0}, {\"index\": 32, \"variable\": \"Season 2016-2017\", \"value\": 3254.0}, {\"index\": 33, \"variable\": \"Season 2016-2017\", \"value\": 3115.0}, {\"index\": 34, \"variable\": \"Season 2016-2017\", \"value\": 3042.0}, {\"index\": 35, \"variable\": \"Season 2016-2017\", \"value\": 3144.0}, {\"index\": 36, \"variable\": \"Season 2016-2017\", \"value\": 3088.0}, {\"index\": 37, \"variable\": \"Season 2016-2017\", \"value\": 2997.0}, {\"index\": 38, \"variable\": \"Season 2016-2017\", \"value\": 2964.0}, {\"index\": 39, \"variable\": \"Season 2016-2017\", \"value\": 2842.0}, {\"index\": 40, \"variable\": \"Season 2016-2017\", \"value\": 3051.0}, {\"index\": 41, \"variable\": \"Season 2016-2017\", \"value\": 2765.0}, {\"index\": 42, \"variable\": \"Season 2016-2017\", \"value\": 2856.0}, {\"index\": 43, \"variable\": \"Season 2016-2017\", \"value\": 2699.0}, {\"index\": 44, \"variable\": \"Season 2016-2017\", \"value\": 2728.0}, {\"index\": 45, \"variable\": \"Season 2016-2017\", \"value\": 2700.0}, {\"index\": 46, \"variable\": \"Season 2016-2017\", \"value\": 2763.0}, {\"index\": 47, \"variable\": \"Season 2016-2017\", \"value\": 2723.0}, {\"index\": 48, \"variable\": \"Season 2016-2017\", \"value\": 2837.0}, {\"index\": 49, \"variable\": \"Season 2016-2017\", \"value\": 3028.0}, {\"index\": 50, \"variable\": \"Season 2016-2017\", \"value\": 2951.0}, {\"index\": 51, \"variable\": \"Season 2016-2017\", \"value\": 2907.0}, {\"index\": 0, \"variable\": \"Season 2015-2016\", \"value\": 3211.0}, {\"index\": 1, \"variable\": \"Season 2015-2016\", \"value\": 3138.0}, {\"index\": 2, \"variable\": \"Season 2015-2016\", \"value\": 3230.0}, {\"index\": 3, \"variable\": \"Season 2015-2016\", \"value\": 3180.0}, {\"index\": 4, \"variable\": \"Season 2015-2016\", \"value\": 3373.0}, {\"index\": 5, \"variable\": \"Season 2015-2016\", \"value\": 3239.0}, {\"index\": 6, \"variable\": \"Season 2015-2016\", \"value\": 3349.0}, {\"index\": 7, \"variable\": \"Season 2015-2016\", \"value\": 3338.0}, {\"index\": 8, \"variable\": \"Season 2015-2016\", \"value\": 3479.0}, {\"index\": 9, \"variable\": \"Season 2015-2016\", \"value\": 3548.0}, {\"index\": 10, \"variable\": \"Season 2015-2016\", \"value\": 3478.0}, {\"index\": 11, \"variable\": \"Season 2015-2016\", \"value\": 3525.0}, {\"index\": 12, \"variable\": \"Season 2015-2016\", \"value\": 3948.0}, {\"index\": 13, \"variable\": \"Season 2015-2016\", \"value\": 4273.0}, {\"index\": 14, \"variable\": \"Season 2015-2016\", \"value\": 4308.0}, {\"index\": 15, \"variable\": \"Season 2015-2016\", \"value\": 4079.0}, {\"index\": 16, \"variable\": \"Season 2015-2016\", \"value\": 4160.0}, {\"index\": 17, \"variable\": \"Season 2015-2016\", \"value\": 4125.0}, {\"index\": 18, \"variable\": \"Season 2015-2016\", \"value\": 4028.0}, {\"index\": 19, \"variable\": \"Season 2015-2016\", \"value\": 4159.0}, {\"index\": 20, \"variable\": \"Season 2015-2016\", \"value\": 4384.0}, {\"index\": 21, \"variable\": \"Season 2015-2016\", \"value\": 4500.0}, {\"index\": 22, \"variable\": \"Season 2015-2016\", \"value\": 4571.0}, {\"index\": 23, \"variable\": \"Season 2015-2016\", \"value\": 4494.0}, {\"index\": 24, \"variable\": \"Season 2015-2016\", \"value\": 4471.0}, {\"index\": 25, \"variable\": \"Season 2015-2016\", \"value\": 4175.0}, {\"index\": 26, \"variable\": \"Season 2015-2016\", \"value\": 4195.0}, {\"index\": 27, \"variable\": \"Season 2015-2016\", \"value\": 4087.0}, {\"index\": 28, \"variable\": \"Season 2015-2016\", \"value\": 3832.0}, {\"index\": 29, \"variable\": \"Season 2015-2016\", \"value\": 3525.0}, {\"index\": 30, \"variable\": \"Season 2015-2016\", \"value\": 3494.0}, {\"index\": 31, \"variable\": \"Season 2015-2016\", \"value\": 3314.0}, {\"index\": 32, \"variable\": \"Season 2015-2016\", \"value\": 3324.0}, {\"index\": 33, \"variable\": \"Season 2015-2016\", \"value\": 3229.0}, {\"index\": 34, \"variable\": \"Season 2015-2016\", \"value\": 3042.0}, {\"index\": 35, \"variable\": \"Season 2015-2016\", \"value\": 3192.0}, {\"index\": 36, \"variable\": \"Season 2015-2016\", \"value\": 2938.0}, {\"index\": 37, \"variable\": \"Season 2015-2016\", \"value\": 2888.0}, {\"index\": 38, \"variable\": \"Season 2015-2016\", \"value\": 2924.0}, {\"index\": 39, \"variable\": \"Season 2015-2016\", \"value\": 2924.0}, {\"index\": 40, \"variable\": \"Season 2015-2016\", \"value\": 2932.0}, {\"index\": 41, \"variable\": \"Season 2015-2016\", \"value\": 2772.0}, {\"index\": 42, \"variable\": \"Season 2015-2016\", \"value\": 2809.0}, {\"index\": 43, \"variable\": \"Season 2015-2016\", \"value\": 2848.0}, {\"index\": 44, \"variable\": \"Season 2015-2016\", \"value\": 2829.0}, {\"index\": 45, \"variable\": \"Season 2015-2016\", \"value\": 2872.0}, {\"index\": 46, \"variable\": \"Season 2015-2016\", \"value\": 2833.0}, {\"index\": 47, \"variable\": \"Season 2015-2016\", \"value\": 2874.0}, {\"index\": 48, \"variable\": \"Season 2015-2016\", \"value\": 2886.0}, {\"index\": 49, \"variable\": \"Season 2015-2016\", \"value\": 3101.0}, {\"index\": 50, \"variable\": \"Season 2015-2016\", \"value\": 3026.0}, {\"index\": 51, \"variable\": \"Season 2015-2016\", \"value\": 2997.0}, {\"index\": 0, \"variable\": \"Covid-19\", \"value\": null}, {\"index\": 1, \"variable\": \"Covid-19\", \"value\": null}, {\"index\": 2, \"variable\": \"Covid-19\", \"value\": null}, {\"index\": 3, \"variable\": \"Covid-19\", \"value\": null}, {\"index\": 4, \"variable\": \"Covid-19\", \"value\": null}, {\"index\": 5, \"variable\": \"Covid-19\", \"value\": null}, {\"index\": 6, \"variable\": \"Covid-19\", \"value\": null}, {\"index\": 7, \"variable\": \"Covid-19\", \"value\": null}, {\"index\": 8, \"variable\": \"Covid-19\", \"value\": null}, {\"index\": 9, \"variable\": \"Covid-19\", \"value\": null}, {\"index\": 10, \"variable\": \"Covid-19\", \"value\": null}, {\"index\": 11, \"variable\": \"Covid-19\", \"value\": null}, {\"index\": 12, \"variable\": \"Covid-19\", \"value\": null}, {\"index\": 13, \"variable\": \"Covid-19\", \"value\": null}, {\"index\": 14, \"variable\": \"Covid-19\", \"value\": null}, {\"index\": 15, \"variable\": \"Covid-19\", \"value\": null}, {\"index\": 16, \"variable\": \"Covid-19\", \"value\": null}, {\"index\": 17, \"variable\": \"Covid-19\", \"value\": null}, {\"index\": 18, \"variable\": \"Covid-19\", \"value\": null}, {\"index\": 19, \"variable\": \"Covid-19\", \"value\": null}, {\"index\": 20, \"variable\": \"Covid-19\", \"value\": null}, {\"index\": 21, \"variable\": \"Covid-19\", \"value\": 1.0}, {\"index\": 22, \"variable\": \"Covid-19\", \"value\": 16.0}, {\"index\": 23, \"variable\": \"Covid-19\", \"value\": 41.0}, {\"index\": 24, \"variable\": \"Covid-19\", \"value\": 299.0}, {\"index\": 25, \"variable\": \"Covid-19\", \"value\": 1892.0}, {\"index\": 26, \"variable\": \"Covid-19\", \"value\": 6609.0}, {\"index\": 27, \"variable\": \"Covid-19\", \"value\": null}, {\"index\": 28, \"variable\": \"Covid-19\", \"value\": null}, {\"index\": 29, \"variable\": \"Covid-19\", \"value\": null}, {\"index\": 30, \"variable\": \"Covid-19\", \"value\": null}, {\"index\": 31, \"variable\": \"Covid-19\", \"value\": null}, {\"index\": 32, \"variable\": \"Covid-19\", \"value\": null}, {\"index\": 33, \"variable\": \"Covid-19\", \"value\": null}, {\"index\": 34, \"variable\": \"Covid-19\", \"value\": null}, {\"index\": 35, \"variable\": \"Covid-19\", \"value\": null}, {\"index\": 36, \"variable\": \"Covid-19\", \"value\": null}, {\"index\": 37, \"variable\": \"Covid-19\", \"value\": null}, {\"index\": 38, \"variable\": \"Covid-19\", \"value\": null}, {\"index\": 39, \"variable\": \"Covid-19\", \"value\": null}, {\"index\": 40, \"variable\": \"Covid-19\", \"value\": null}, {\"index\": 41, \"variable\": \"Covid-19\", \"value\": null}, {\"index\": 42, \"variable\": \"Covid-19\", \"value\": null}, {\"index\": 43, \"variable\": \"Covid-19\", \"value\": null}, {\"index\": 44, \"variable\": \"Covid-19\", \"value\": null}, {\"index\": 45, \"variable\": \"Covid-19\", \"value\": null}, {\"index\": 46, \"variable\": \"Covid-19\", \"value\": null}, {\"index\": 47, \"variable\": \"Covid-19\", \"value\": null}, {\"index\": 48, \"variable\": \"Covid-19\", \"value\": null}, {\"index\": 49, \"variable\": \"Covid-19\", \"value\": null}, {\"index\": 50, \"variable\": \"Covid-19\", \"value\": null}, {\"index\": 51, \"variable\": \"Covid-19\", \"value\": null}]}}, {\"mode\": \"vega-lite\"});\n",
       "</script>"
      ],
      "text/plain": [
       "alt.Chart(...)"
      ]
     },
     "execution_count": 146,
     "metadata": {},
     "output_type": "execute_result"
    }
   ],
   "source": [
    "#hide_input\n",
    "line = alt.Chart(data.reset_index().melt('index')).mark_line().encode(\n",
    "        x = alt.X('index:N', axis=alt.Axis(title='Week of Flu Season')),\n",
    "        y = 'value',\n",
    "        color='variable'\n",
    ")\n",
    "line.properties(width=800)"
   ]
  },
  {
   "cell_type": "markdown",
   "metadata": {},
   "source": [
    "And of course, the growing rate was a proof of what was going to happen. Here is the next two weeks:"
   ]
  },
  {
   "cell_type": "code",
   "execution_count": 147,
   "metadata": {},
   "outputs": [],
   "source": [
    "#hide\n",
    "data[\"Covid-19\"] = len(data) * np.nan\n",
    "data[\"Covid-19\"].iloc[21:28] = deaths_covid[:-1]"
   ]
  },
  {
   "cell_type": "code",
   "execution_count": 148,
   "metadata": {},
   "outputs": [
    {
     "data": {
      "text/html": [
       "\n",
       "<div id=\"altair-viz-58078b19543e44e1a3bc89c39944d6c1\"></div>\n",
       "<script type=\"text/javascript\">\n",
       "  (function(spec, embedOpt){\n",
       "    let outputDiv = document.currentScript.previousElementSibling;\n",
       "    if (outputDiv.id !== \"altair-viz-58078b19543e44e1a3bc89c39944d6c1\") {\n",
       "      outputDiv = document.getElementById(\"altair-viz-58078b19543e44e1a3bc89c39944d6c1\");\n",
       "    }\n",
       "    const paths = {\n",
       "      \"vega\": \"https://cdn.jsdelivr.net/npm//vega@5?noext\",\n",
       "      \"vega-lib\": \"https://cdn.jsdelivr.net/npm//vega-lib?noext\",\n",
       "      \"vega-lite\": \"https://cdn.jsdelivr.net/npm//vega-lite@4.8.1?noext\",\n",
       "      \"vega-embed\": \"https://cdn.jsdelivr.net/npm//vega-embed@6?noext\",\n",
       "    };\n",
       "\n",
       "    function loadScript(lib) {\n",
       "      return new Promise(function(resolve, reject) {\n",
       "        var s = document.createElement('script');\n",
       "        s.src = paths[lib];\n",
       "        s.async = true;\n",
       "        s.onload = () => resolve(paths[lib]);\n",
       "        s.onerror = () => reject(`Error loading script: ${paths[lib]}`);\n",
       "        document.getElementsByTagName(\"head\")[0].appendChild(s);\n",
       "      });\n",
       "    }\n",
       "\n",
       "    function showError(err) {\n",
       "      outputDiv.innerHTML = `<div class=\"error\" style=\"color:red;\">${err}</div>`;\n",
       "      throw err;\n",
       "    }\n",
       "\n",
       "    function displayChart(vegaEmbed) {\n",
       "      vegaEmbed(outputDiv, spec, embedOpt)\n",
       "        .catch(err => showError(`Javascript Error: ${err.message}<br>This usually means there's a typo in your chart specification. See the javascript console for the full traceback.`));\n",
       "    }\n",
       "\n",
       "    if(typeof define === \"function\" && define.amd) {\n",
       "      requirejs.config({paths});\n",
       "      require([\"vega-embed\"], displayChart, err => showError(`Error loading script: ${err.message}`));\n",
       "    } else if (typeof vegaEmbed === \"function\") {\n",
       "      displayChart(vegaEmbed);\n",
       "    } else {\n",
       "      loadScript(\"vega\")\n",
       "        .then(() => loadScript(\"vega-lite\"))\n",
       "        .then(() => loadScript(\"vega-embed\"))\n",
       "        .catch(showError)\n",
       "        .then(() => displayChart(vegaEmbed));\n",
       "    }\n",
       "  })({\"config\": {\"view\": {\"continuousWidth\": 400, \"continuousHeight\": 300}}, \"data\": {\"name\": \"data-6410b24985e02cda347013aaf1411d87\"}, \"mark\": \"line\", \"encoding\": {\"color\": {\"type\": \"nominal\", \"field\": \"variable\"}, \"x\": {\"type\": \"nominal\", \"axis\": {\"title\": \"Week of Flu Season\"}, \"field\": \"index\"}, \"y\": {\"type\": \"quantitative\", \"field\": \"value\"}}, \"width\": 800, \"$schema\": \"https://vega.github.io/schema/vega-lite/v4.8.1.json\", \"datasets\": {\"data-6410b24985e02cda347013aaf1411d87\": [{\"index\": 0, \"variable\": \"Season 2018-2019\", \"value\": 2979.0}, {\"index\": 1, \"variable\": \"Season 2018-2019\", \"value\": 2878.0}, {\"index\": 2, \"variable\": \"Season 2018-2019\", \"value\": 3005.0}, {\"index\": 3, \"variable\": \"Season 2018-2019\", \"value\": 3089.0}, {\"index\": 4, \"variable\": \"Season 2018-2019\", \"value\": 3028.0}, {\"index\": 5, \"variable\": \"Season 2018-2019\", \"value\": 3050.0}, {\"index\": 6, \"variable\": \"Season 2018-2019\", \"value\": 3168.0}, {\"index\": 7, \"variable\": \"Season 2018-2019\", \"value\": 3209.0}, {\"index\": 8, \"variable\": \"Season 2018-2019\", \"value\": 3325.0}, {\"index\": 9, \"variable\": \"Season 2018-2019\", \"value\": 3455.0}, {\"index\": 10, \"variable\": \"Season 2018-2019\", \"value\": 3603.0}, {\"index\": 11, \"variable\": \"Season 2018-2019\", \"value\": 3578.0}, {\"index\": 12, \"variable\": \"Season 2018-2019\", \"value\": 3776.0}, {\"index\": 13, \"variable\": \"Season 2018-2019\", \"value\": 4128.0}, {\"index\": 14, \"variable\": \"Season 2018-2019\", \"value\": 4315.0}, {\"index\": 15, \"variable\": \"Season 2018-2019\", \"value\": 4340.0}, {\"index\": 16, \"variable\": \"Season 2018-2019\", \"value\": 4169.0}, {\"index\": 17, \"variable\": \"Season 2018-2019\", \"value\": 4215.0}, {\"index\": 18, \"variable\": \"Season 2018-2019\", \"value\": 4255.0}, {\"index\": 19, \"variable\": \"Season 2018-2019\", \"value\": 4372.0}, {\"index\": 20, \"variable\": \"Season 2018-2019\", \"value\": 4447.0}, {\"index\": 21, \"variable\": \"Season 2018-2019\", \"value\": 4269.0}, {\"index\": 22, \"variable\": \"Season 2018-2019\", \"value\": 4290.0}, {\"index\": 23, \"variable\": \"Season 2018-2019\", \"value\": 4489.0}, {\"index\": 24, \"variable\": \"Season 2018-2019\", \"value\": 4274.0}, {\"index\": 25, \"variable\": \"Season 2018-2019\", \"value\": 4171.0}, {\"index\": 26, \"variable\": \"Season 2018-2019\", \"value\": 3974.0}, {\"index\": 27, \"variable\": \"Season 2018-2019\", \"value\": 3750.0}, {\"index\": 28, \"variable\": \"Season 2018-2019\", \"value\": 3611.0}, {\"index\": 29, \"variable\": \"Season 2018-2019\", \"value\": 3424.0}, {\"index\": 30, \"variable\": \"Season 2018-2019\", \"value\": 3320.0}, {\"index\": 31, \"variable\": \"Season 2018-2019\", \"value\": 3296.0}, {\"index\": 32, \"variable\": \"Season 2018-2019\", \"value\": 3203.0}, {\"index\": 33, \"variable\": \"Season 2018-2019\", \"value\": 3179.0}, {\"index\": 34, \"variable\": \"Season 2018-2019\", \"value\": 3149.0}, {\"index\": 35, \"variable\": \"Season 2018-2019\", \"value\": 3063.0}, {\"index\": 36, \"variable\": \"Season 2018-2019\", \"value\": 2946.0}, {\"index\": 37, \"variable\": \"Season 2018-2019\", \"value\": 2963.0}, {\"index\": 38, \"variable\": \"Season 2018-2019\", \"value\": 2911.0}, {\"index\": 39, \"variable\": \"Season 2018-2019\", \"value\": 2868.0}, {\"index\": 40, \"variable\": \"Season 2018-2019\", \"value\": 2781.0}, {\"index\": 41, \"variable\": \"Season 2018-2019\", \"value\": 2684.0}, {\"index\": 42, \"variable\": \"Season 2018-2019\", \"value\": 2767.0}, {\"index\": 43, \"variable\": \"Season 2018-2019\", \"value\": 2738.0}, {\"index\": 44, \"variable\": \"Season 2018-2019\", \"value\": 2644.0}, {\"index\": 45, \"variable\": \"Season 2018-2019\", \"value\": 2610.0}, {\"index\": 46, \"variable\": \"Season 2018-2019\", \"value\": 2600.0}, {\"index\": 47, \"variable\": \"Season 2018-2019\", \"value\": 2624.0}, {\"index\": 48, \"variable\": \"Season 2018-2019\", \"value\": 2590.0}, {\"index\": 49, \"variable\": \"Season 2018-2019\", \"value\": 2527.0}, {\"index\": 50, \"variable\": \"Season 2018-2019\", \"value\": 2721.0}, {\"index\": 51, \"variable\": \"Season 2018-2019\", \"value\": 2788.0}, {\"index\": 0, \"variable\": \"Season 2017-2018\", \"value\": 3038.0}, {\"index\": 1, \"variable\": \"Season 2017-2018\", \"value\": 3019.0}, {\"index\": 2, \"variable\": \"Season 2017-2018\", \"value\": 3184.0}, {\"index\": 3, \"variable\": \"Season 2017-2018\", \"value\": 3302.0}, {\"index\": 4, \"variable\": \"Season 2017-2018\", \"value\": 3251.0}, {\"index\": 5, \"variable\": \"Season 2017-2018\", \"value\": 3225.0}, {\"index\": 6, \"variable\": \"Season 2017-2018\", \"value\": 3365.0}, {\"index\": 7, \"variable\": \"Season 2017-2018\", \"value\": 3250.0}, {\"index\": 8, \"variable\": \"Season 2017-2018\", \"value\": 3576.0}, {\"index\": 9, \"variable\": \"Season 2017-2018\", \"value\": 3646.0}, {\"index\": 10, \"variable\": \"Season 2017-2018\", \"value\": 3924.0}, {\"index\": 11, \"variable\": \"Season 2017-2018\", \"value\": 4346.0}, {\"index\": 12, \"variable\": \"Season 2017-2018\", \"value\": 5089.0}, {\"index\": 13, \"variable\": \"Season 2017-2018\", \"value\": 6321.0}, {\"index\": 14, \"variable\": \"Season 2017-2018\", \"value\": 7119.0}, {\"index\": 15, \"variable\": \"Season 2017-2018\", \"value\": 7038.0}, {\"index\": 16, \"variable\": \"Season 2017-2018\", \"value\": 6635.0}, {\"index\": 17, \"variable\": \"Season 2017-2018\", \"value\": 6237.0}, {\"index\": 18, \"variable\": \"Season 2017-2018\", \"value\": 5932.0}, {\"index\": 19, \"variable\": \"Season 2017-2018\", \"value\": 5778.0}, {\"index\": 20, \"variable\": \"Season 2017-2018\", \"value\": 5318.0}, {\"index\": 21, \"variable\": \"Season 2017-2018\", \"value\": 4782.0}, {\"index\": 22, \"variable\": \"Season 2017-2018\", \"value\": 4568.0}, {\"index\": 23, \"variable\": \"Season 2017-2018\", \"value\": 4297.0}, {\"index\": 24, \"variable\": \"Season 2017-2018\", \"value\": 4138.0}, {\"index\": 25, \"variable\": \"Season 2017-2018\", \"value\": 4063.0}, {\"index\": 26, \"variable\": \"Season 2017-2018\", \"value\": 3998.0}, {\"index\": 27, \"variable\": \"Season 2017-2018\", \"value\": 3804.0}, {\"index\": 28, \"variable\": \"Season 2017-2018\", \"value\": 3582.0}, {\"index\": 29, \"variable\": \"Season 2017-2018\", \"value\": 3513.0}, {\"index\": 30, \"variable\": \"Season 2017-2018\", \"value\": 3304.0}, {\"index\": 31, \"variable\": \"Season 2017-2018\", \"value\": 3085.0}, {\"index\": 32, \"variable\": \"Season 2017-2018\", \"value\": 2998.0}, {\"index\": 33, \"variable\": \"Season 2017-2018\", \"value\": 2977.0}, {\"index\": 34, \"variable\": \"Season 2017-2018\", \"value\": 2931.0}, {\"index\": 35, \"variable\": \"Season 2017-2018\", \"value\": 2922.0}, {\"index\": 36, \"variable\": \"Season 2017-2018\", \"value\": 2949.0}, {\"index\": 37, \"variable\": \"Season 2017-2018\", \"value\": 2872.0}, {\"index\": 38, \"variable\": \"Season 2017-2018\", \"value\": 2877.0}, {\"index\": 39, \"variable\": \"Season 2017-2018\", \"value\": 2779.0}, {\"index\": 40, \"variable\": \"Season 2017-2018\", \"value\": 2786.0}, {\"index\": 41, \"variable\": \"Season 2017-2018\", \"value\": 2714.0}, {\"index\": 42, \"variable\": \"Season 2017-2018\", \"value\": 2709.0}, {\"index\": 43, \"variable\": \"Season 2017-2018\", \"value\": 2665.0}, {\"index\": 44, \"variable\": \"Season 2017-2018\", \"value\": 2683.0}, {\"index\": 45, \"variable\": \"Season 2017-2018\", \"value\": 2622.0}, {\"index\": 46, \"variable\": \"Season 2017-2018\", \"value\": 2723.0}, {\"index\": 47, \"variable\": \"Season 2017-2018\", \"value\": 2636.0}, {\"index\": 48, \"variable\": \"Season 2017-2018\", \"value\": 2755.0}, {\"index\": 49, \"variable\": \"Season 2017-2018\", \"value\": 2769.0}, {\"index\": 50, \"variable\": \"Season 2017-2018\", \"value\": 2830.0}, {\"index\": 51, \"variable\": \"Season 2017-2018\", \"value\": 2828.0}, {\"index\": 0, \"variable\": \"Season 2016-2017\", \"value\": 3042.0}, {\"index\": 1, \"variable\": \"Season 2016-2017\", \"value\": 3204.0}, {\"index\": 2, \"variable\": \"Season 2016-2017\", \"value\": 3185.0}, {\"index\": 3, \"variable\": \"Season 2016-2017\", \"value\": 3147.0}, {\"index\": 4, \"variable\": \"Season 2016-2017\", \"value\": 3116.0}, {\"index\": 5, \"variable\": \"Season 2016-2017\", \"value\": 3226.0}, {\"index\": 6, \"variable\": \"Season 2016-2017\", \"value\": 3199.0}, {\"index\": 7, \"variable\": \"Season 2016-2017\", \"value\": 3277.0}, {\"index\": 8, \"variable\": \"Season 2016-2017\", \"value\": 3544.0}, {\"index\": 9, \"variable\": \"Season 2016-2017\", \"value\": 3649.0}, {\"index\": 10, \"variable\": \"Season 2016-2017\", \"value\": 3824.0}, {\"index\": 11, \"variable\": \"Season 2016-2017\", \"value\": 3829.0}, {\"index\": 12, \"variable\": \"Season 2016-2017\", \"value\": 4262.0}, {\"index\": 13, \"variable\": \"Season 2016-2017\", \"value\": 4847.0}, {\"index\": 14, \"variable\": \"Season 2016-2017\", \"value\": 4873.0}, {\"index\": 15, \"variable\": \"Season 2016-2017\", \"value\": 4994.0}, {\"index\": 16, \"variable\": \"Season 2016-2017\", \"value\": 4794.0}, {\"index\": 17, \"variable\": \"Season 2016-2017\", \"value\": 4803.0}, {\"index\": 18, \"variable\": \"Season 2016-2017\", \"value\": 4866.0}, {\"index\": 19, \"variable\": \"Season 2016-2017\", \"value\": 4964.0}, {\"index\": 20, \"variable\": \"Season 2016-2017\", \"value\": 4974.0}, {\"index\": 21, \"variable\": \"Season 2016-2017\", \"value\": 4794.0}, {\"index\": 22, \"variable\": \"Season 2016-2017\", \"value\": 4695.0}, {\"index\": 23, \"variable\": \"Season 2016-2017\", \"value\": 4476.0}, {\"index\": 24, \"variable\": \"Season 2016-2017\", \"value\": 4410.0}, {\"index\": 25, \"variable\": \"Season 2016-2017\", \"value\": 4220.0}, {\"index\": 26, \"variable\": \"Season 2016-2017\", \"value\": 4087.0}, {\"index\": 27, \"variable\": \"Season 2016-2017\", \"value\": 3984.0}, {\"index\": 28, \"variable\": \"Season 2016-2017\", \"value\": 3651.0}, {\"index\": 29, \"variable\": \"Season 2016-2017\", \"value\": 3548.0}, {\"index\": 30, \"variable\": \"Season 2016-2017\", \"value\": 3371.0}, {\"index\": 31, \"variable\": \"Season 2016-2017\", \"value\": 3266.0}, {\"index\": 32, \"variable\": \"Season 2016-2017\", \"value\": 3254.0}, {\"index\": 33, \"variable\": \"Season 2016-2017\", \"value\": 3115.0}, {\"index\": 34, \"variable\": \"Season 2016-2017\", \"value\": 3042.0}, {\"index\": 35, \"variable\": \"Season 2016-2017\", \"value\": 3144.0}, {\"index\": 36, \"variable\": \"Season 2016-2017\", \"value\": 3088.0}, {\"index\": 37, \"variable\": \"Season 2016-2017\", \"value\": 2997.0}, {\"index\": 38, \"variable\": \"Season 2016-2017\", \"value\": 2964.0}, {\"index\": 39, \"variable\": \"Season 2016-2017\", \"value\": 2842.0}, {\"index\": 40, \"variable\": \"Season 2016-2017\", \"value\": 3051.0}, {\"index\": 41, \"variable\": \"Season 2016-2017\", \"value\": 2765.0}, {\"index\": 42, \"variable\": \"Season 2016-2017\", \"value\": 2856.0}, {\"index\": 43, \"variable\": \"Season 2016-2017\", \"value\": 2699.0}, {\"index\": 44, \"variable\": \"Season 2016-2017\", \"value\": 2728.0}, {\"index\": 45, \"variable\": \"Season 2016-2017\", \"value\": 2700.0}, {\"index\": 46, \"variable\": \"Season 2016-2017\", \"value\": 2763.0}, {\"index\": 47, \"variable\": \"Season 2016-2017\", \"value\": 2723.0}, {\"index\": 48, \"variable\": \"Season 2016-2017\", \"value\": 2837.0}, {\"index\": 49, \"variable\": \"Season 2016-2017\", \"value\": 3028.0}, {\"index\": 50, \"variable\": \"Season 2016-2017\", \"value\": 2951.0}, {\"index\": 51, \"variable\": \"Season 2016-2017\", \"value\": 2907.0}, {\"index\": 0, \"variable\": \"Season 2015-2016\", \"value\": 3211.0}, {\"index\": 1, \"variable\": \"Season 2015-2016\", \"value\": 3138.0}, {\"index\": 2, \"variable\": \"Season 2015-2016\", \"value\": 3230.0}, {\"index\": 3, \"variable\": \"Season 2015-2016\", \"value\": 3180.0}, {\"index\": 4, \"variable\": \"Season 2015-2016\", \"value\": 3373.0}, {\"index\": 5, \"variable\": \"Season 2015-2016\", \"value\": 3239.0}, {\"index\": 6, \"variable\": \"Season 2015-2016\", \"value\": 3349.0}, {\"index\": 7, \"variable\": \"Season 2015-2016\", \"value\": 3338.0}, {\"index\": 8, \"variable\": \"Season 2015-2016\", \"value\": 3479.0}, {\"index\": 9, \"variable\": \"Season 2015-2016\", \"value\": 3548.0}, {\"index\": 10, \"variable\": \"Season 2015-2016\", \"value\": 3478.0}, {\"index\": 11, \"variable\": \"Season 2015-2016\", \"value\": 3525.0}, {\"index\": 12, \"variable\": \"Season 2015-2016\", \"value\": 3948.0}, {\"index\": 13, \"variable\": \"Season 2015-2016\", \"value\": 4273.0}, {\"index\": 14, \"variable\": \"Season 2015-2016\", \"value\": 4308.0}, {\"index\": 15, \"variable\": \"Season 2015-2016\", \"value\": 4079.0}, {\"index\": 16, \"variable\": \"Season 2015-2016\", \"value\": 4160.0}, {\"index\": 17, \"variable\": \"Season 2015-2016\", \"value\": 4125.0}, {\"index\": 18, \"variable\": \"Season 2015-2016\", \"value\": 4028.0}, {\"index\": 19, \"variable\": \"Season 2015-2016\", \"value\": 4159.0}, {\"index\": 20, \"variable\": \"Season 2015-2016\", \"value\": 4384.0}, {\"index\": 21, \"variable\": \"Season 2015-2016\", \"value\": 4500.0}, {\"index\": 22, \"variable\": \"Season 2015-2016\", \"value\": 4571.0}, {\"index\": 23, \"variable\": \"Season 2015-2016\", \"value\": 4494.0}, {\"index\": 24, \"variable\": \"Season 2015-2016\", \"value\": 4471.0}, {\"index\": 25, \"variable\": \"Season 2015-2016\", \"value\": 4175.0}, {\"index\": 26, \"variable\": \"Season 2015-2016\", \"value\": 4195.0}, {\"index\": 27, \"variable\": \"Season 2015-2016\", \"value\": 4087.0}, {\"index\": 28, \"variable\": \"Season 2015-2016\", \"value\": 3832.0}, {\"index\": 29, \"variable\": \"Season 2015-2016\", \"value\": 3525.0}, {\"index\": 30, \"variable\": \"Season 2015-2016\", \"value\": 3494.0}, {\"index\": 31, \"variable\": \"Season 2015-2016\", \"value\": 3314.0}, {\"index\": 32, \"variable\": \"Season 2015-2016\", \"value\": 3324.0}, {\"index\": 33, \"variable\": \"Season 2015-2016\", \"value\": 3229.0}, {\"index\": 34, \"variable\": \"Season 2015-2016\", \"value\": 3042.0}, {\"index\": 35, \"variable\": \"Season 2015-2016\", \"value\": 3192.0}, {\"index\": 36, \"variable\": \"Season 2015-2016\", \"value\": 2938.0}, {\"index\": 37, \"variable\": \"Season 2015-2016\", \"value\": 2888.0}, {\"index\": 38, \"variable\": \"Season 2015-2016\", \"value\": 2924.0}, {\"index\": 39, \"variable\": \"Season 2015-2016\", \"value\": 2924.0}, {\"index\": 40, \"variable\": \"Season 2015-2016\", \"value\": 2932.0}, {\"index\": 41, \"variable\": \"Season 2015-2016\", \"value\": 2772.0}, {\"index\": 42, \"variable\": \"Season 2015-2016\", \"value\": 2809.0}, {\"index\": 43, \"variable\": \"Season 2015-2016\", \"value\": 2848.0}, {\"index\": 44, \"variable\": \"Season 2015-2016\", \"value\": 2829.0}, {\"index\": 45, \"variable\": \"Season 2015-2016\", \"value\": 2872.0}, {\"index\": 46, \"variable\": \"Season 2015-2016\", \"value\": 2833.0}, {\"index\": 47, \"variable\": \"Season 2015-2016\", \"value\": 2874.0}, {\"index\": 48, \"variable\": \"Season 2015-2016\", \"value\": 2886.0}, {\"index\": 49, \"variable\": \"Season 2015-2016\", \"value\": 3101.0}, {\"index\": 50, \"variable\": \"Season 2015-2016\", \"value\": 3026.0}, {\"index\": 51, \"variable\": \"Season 2015-2016\", \"value\": 2997.0}, {\"index\": 0, \"variable\": \"Covid-19\", \"value\": null}, {\"index\": 1, \"variable\": \"Covid-19\", \"value\": null}, {\"index\": 2, \"variable\": \"Covid-19\", \"value\": null}, {\"index\": 3, \"variable\": \"Covid-19\", \"value\": null}, {\"index\": 4, \"variable\": \"Covid-19\", \"value\": null}, {\"index\": 5, \"variable\": \"Covid-19\", \"value\": null}, {\"index\": 6, \"variable\": \"Covid-19\", \"value\": null}, {\"index\": 7, \"variable\": \"Covid-19\", \"value\": null}, {\"index\": 8, \"variable\": \"Covid-19\", \"value\": null}, {\"index\": 9, \"variable\": \"Covid-19\", \"value\": null}, {\"index\": 10, \"variable\": \"Covid-19\", \"value\": null}, {\"index\": 11, \"variable\": \"Covid-19\", \"value\": null}, {\"index\": 12, \"variable\": \"Covid-19\", \"value\": null}, {\"index\": 13, \"variable\": \"Covid-19\", \"value\": null}, {\"index\": 14, \"variable\": \"Covid-19\", \"value\": null}, {\"index\": 15, \"variable\": \"Covid-19\", \"value\": null}, {\"index\": 16, \"variable\": \"Covid-19\", \"value\": null}, {\"index\": 17, \"variable\": \"Covid-19\", \"value\": null}, {\"index\": 18, \"variable\": \"Covid-19\", \"value\": null}, {\"index\": 19, \"variable\": \"Covid-19\", \"value\": null}, {\"index\": 20, \"variable\": \"Covid-19\", \"value\": null}, {\"index\": 21, \"variable\": \"Covid-19\", \"value\": 1.0}, {\"index\": 22, \"variable\": \"Covid-19\", \"value\": 16.0}, {\"index\": 23, \"variable\": \"Covid-19\", \"value\": 41.0}, {\"index\": 24, \"variable\": \"Covid-19\", \"value\": 299.0}, {\"index\": 25, \"variable\": \"Covid-19\", \"value\": 1892.0}, {\"index\": 26, \"variable\": \"Covid-19\", \"value\": 6609.0}, {\"index\": 27, \"variable\": \"Covid-19\", \"value\": 13999.0}, {\"index\": 28, \"variable\": \"Covid-19\", \"value\": null}, {\"index\": 29, \"variable\": \"Covid-19\", \"value\": null}, {\"index\": 30, \"variable\": \"Covid-19\", \"value\": null}, {\"index\": 31, \"variable\": \"Covid-19\", \"value\": null}, {\"index\": 32, \"variable\": \"Covid-19\", \"value\": null}, {\"index\": 33, \"variable\": \"Covid-19\", \"value\": null}, {\"index\": 34, \"variable\": \"Covid-19\", \"value\": null}, {\"index\": 35, \"variable\": \"Covid-19\", \"value\": null}, {\"index\": 36, \"variable\": \"Covid-19\", \"value\": null}, {\"index\": 37, \"variable\": \"Covid-19\", \"value\": null}, {\"index\": 38, \"variable\": \"Covid-19\", \"value\": null}, {\"index\": 39, \"variable\": \"Covid-19\", \"value\": null}, {\"index\": 40, \"variable\": \"Covid-19\", \"value\": null}, {\"index\": 41, \"variable\": \"Covid-19\", \"value\": null}, {\"index\": 42, \"variable\": \"Covid-19\", \"value\": null}, {\"index\": 43, \"variable\": \"Covid-19\", \"value\": null}, {\"index\": 44, \"variable\": \"Covid-19\", \"value\": null}, {\"index\": 45, \"variable\": \"Covid-19\", \"value\": null}, {\"index\": 46, \"variable\": \"Covid-19\", \"value\": null}, {\"index\": 47, \"variable\": \"Covid-19\", \"value\": null}, {\"index\": 48, \"variable\": \"Covid-19\", \"value\": null}, {\"index\": 49, \"variable\": \"Covid-19\", \"value\": null}, {\"index\": 50, \"variable\": \"Covid-19\", \"value\": null}, {\"index\": 51, \"variable\": \"Covid-19\", \"value\": null}]}}, {\"mode\": \"vega-lite\"});\n",
       "</script>"
      ],
      "text/plain": [
       "alt.Chart(...)"
      ]
     },
     "execution_count": 148,
     "metadata": {},
     "output_type": "execute_result"
    }
   ],
   "source": [
    "#hide_input\n",
    "line = alt.Chart(data.reset_index().melt('index')).mark_line().encode(\n",
    "        x = alt.X('index:N', axis=alt.Axis(title='Week of Flu Season')),\n",
    "        y = 'value',\n",
    "        color='variable'\n",
    ")\n",
    "line.properties(width=800)"
   ]
  },
  {
   "cell_type": "code",
   "execution_count": 149,
   "metadata": {},
   "outputs": [],
   "source": [
    "#hide\n",
    "data[\"Covid-19\"] = len(data) * np.nan\n",
    "data[\"Covid-19\"].iloc[21:29] = deaths_covid"
   ]
  },
  {
   "cell_type": "code",
   "execution_count": 150,
   "metadata": {},
   "outputs": [
    {
     "data": {
      "text/html": [
       "\n",
       "<div id=\"altair-viz-c1d9718588be46e78f4ec76f77d690b4\"></div>\n",
       "<script type=\"text/javascript\">\n",
       "  (function(spec, embedOpt){\n",
       "    let outputDiv = document.currentScript.previousElementSibling;\n",
       "    if (outputDiv.id !== \"altair-viz-c1d9718588be46e78f4ec76f77d690b4\") {\n",
       "      outputDiv = document.getElementById(\"altair-viz-c1d9718588be46e78f4ec76f77d690b4\");\n",
       "    }\n",
       "    const paths = {\n",
       "      \"vega\": \"https://cdn.jsdelivr.net/npm//vega@5?noext\",\n",
       "      \"vega-lib\": \"https://cdn.jsdelivr.net/npm//vega-lib?noext\",\n",
       "      \"vega-lite\": \"https://cdn.jsdelivr.net/npm//vega-lite@4.8.1?noext\",\n",
       "      \"vega-embed\": \"https://cdn.jsdelivr.net/npm//vega-embed@6?noext\",\n",
       "    };\n",
       "\n",
       "    function loadScript(lib) {\n",
       "      return new Promise(function(resolve, reject) {\n",
       "        var s = document.createElement('script');\n",
       "        s.src = paths[lib];\n",
       "        s.async = true;\n",
       "        s.onload = () => resolve(paths[lib]);\n",
       "        s.onerror = () => reject(`Error loading script: ${paths[lib]}`);\n",
       "        document.getElementsByTagName(\"head\")[0].appendChild(s);\n",
       "      });\n",
       "    }\n",
       "\n",
       "    function showError(err) {\n",
       "      outputDiv.innerHTML = `<div class=\"error\" style=\"color:red;\">${err}</div>`;\n",
       "      throw err;\n",
       "    }\n",
       "\n",
       "    function displayChart(vegaEmbed) {\n",
       "      vegaEmbed(outputDiv, spec, embedOpt)\n",
       "        .catch(err => showError(`Javascript Error: ${err.message}<br>This usually means there's a typo in your chart specification. See the javascript console for the full traceback.`));\n",
       "    }\n",
       "\n",
       "    if(typeof define === \"function\" && define.amd) {\n",
       "      requirejs.config({paths});\n",
       "      require([\"vega-embed\"], displayChart, err => showError(`Error loading script: ${err.message}`));\n",
       "    } else if (typeof vegaEmbed === \"function\") {\n",
       "      displayChart(vegaEmbed);\n",
       "    } else {\n",
       "      loadScript(\"vega\")\n",
       "        .then(() => loadScript(\"vega-lite\"))\n",
       "        .then(() => loadScript(\"vega-embed\"))\n",
       "        .catch(showError)\n",
       "        .then(() => displayChart(vegaEmbed));\n",
       "    }\n",
       "  })({\"config\": {\"view\": {\"continuousWidth\": 400, \"continuousHeight\": 300}}, \"data\": {\"name\": \"data-c2e579206071d0313288521a9f32a151\"}, \"mark\": \"line\", \"encoding\": {\"color\": {\"type\": \"nominal\", \"field\": \"variable\"}, \"x\": {\"type\": \"nominal\", \"axis\": {\"title\": \"Week of Flu Season\"}, \"field\": \"index\"}, \"y\": {\"type\": \"quantitative\", \"field\": \"value\"}}, \"width\": 800, \"$schema\": \"https://vega.github.io/schema/vega-lite/v4.8.1.json\", \"datasets\": {\"data-c2e579206071d0313288521a9f32a151\": [{\"index\": 0, \"variable\": \"Season 2018-2019\", \"value\": 2979.0}, {\"index\": 1, \"variable\": \"Season 2018-2019\", \"value\": 2878.0}, {\"index\": 2, \"variable\": \"Season 2018-2019\", \"value\": 3005.0}, {\"index\": 3, \"variable\": \"Season 2018-2019\", \"value\": 3089.0}, {\"index\": 4, \"variable\": \"Season 2018-2019\", \"value\": 3028.0}, {\"index\": 5, \"variable\": \"Season 2018-2019\", \"value\": 3050.0}, {\"index\": 6, \"variable\": \"Season 2018-2019\", \"value\": 3168.0}, {\"index\": 7, \"variable\": \"Season 2018-2019\", \"value\": 3209.0}, {\"index\": 8, \"variable\": \"Season 2018-2019\", \"value\": 3325.0}, {\"index\": 9, \"variable\": \"Season 2018-2019\", \"value\": 3455.0}, {\"index\": 10, \"variable\": \"Season 2018-2019\", \"value\": 3603.0}, {\"index\": 11, \"variable\": \"Season 2018-2019\", \"value\": 3578.0}, {\"index\": 12, \"variable\": \"Season 2018-2019\", \"value\": 3776.0}, {\"index\": 13, \"variable\": \"Season 2018-2019\", \"value\": 4128.0}, {\"index\": 14, \"variable\": \"Season 2018-2019\", \"value\": 4315.0}, {\"index\": 15, \"variable\": \"Season 2018-2019\", \"value\": 4340.0}, {\"index\": 16, \"variable\": \"Season 2018-2019\", \"value\": 4169.0}, {\"index\": 17, \"variable\": \"Season 2018-2019\", \"value\": 4215.0}, {\"index\": 18, \"variable\": \"Season 2018-2019\", \"value\": 4255.0}, {\"index\": 19, \"variable\": \"Season 2018-2019\", \"value\": 4372.0}, {\"index\": 20, \"variable\": \"Season 2018-2019\", \"value\": 4447.0}, {\"index\": 21, \"variable\": \"Season 2018-2019\", \"value\": 4269.0}, {\"index\": 22, \"variable\": \"Season 2018-2019\", \"value\": 4290.0}, {\"index\": 23, \"variable\": \"Season 2018-2019\", \"value\": 4489.0}, {\"index\": 24, \"variable\": \"Season 2018-2019\", \"value\": 4274.0}, {\"index\": 25, \"variable\": \"Season 2018-2019\", \"value\": 4171.0}, {\"index\": 26, \"variable\": \"Season 2018-2019\", \"value\": 3974.0}, {\"index\": 27, \"variable\": \"Season 2018-2019\", \"value\": 3750.0}, {\"index\": 28, \"variable\": \"Season 2018-2019\", \"value\": 3611.0}, {\"index\": 29, \"variable\": \"Season 2018-2019\", \"value\": 3424.0}, {\"index\": 30, \"variable\": \"Season 2018-2019\", \"value\": 3320.0}, {\"index\": 31, \"variable\": \"Season 2018-2019\", \"value\": 3296.0}, {\"index\": 32, \"variable\": \"Season 2018-2019\", \"value\": 3203.0}, {\"index\": 33, \"variable\": \"Season 2018-2019\", \"value\": 3179.0}, {\"index\": 34, \"variable\": \"Season 2018-2019\", \"value\": 3149.0}, {\"index\": 35, \"variable\": \"Season 2018-2019\", \"value\": 3063.0}, {\"index\": 36, \"variable\": \"Season 2018-2019\", \"value\": 2946.0}, {\"index\": 37, \"variable\": \"Season 2018-2019\", \"value\": 2963.0}, {\"index\": 38, \"variable\": \"Season 2018-2019\", \"value\": 2911.0}, {\"index\": 39, \"variable\": \"Season 2018-2019\", \"value\": 2868.0}, {\"index\": 40, \"variable\": \"Season 2018-2019\", \"value\": 2781.0}, {\"index\": 41, \"variable\": \"Season 2018-2019\", \"value\": 2684.0}, {\"index\": 42, \"variable\": \"Season 2018-2019\", \"value\": 2767.0}, {\"index\": 43, \"variable\": \"Season 2018-2019\", \"value\": 2738.0}, {\"index\": 44, \"variable\": \"Season 2018-2019\", \"value\": 2644.0}, {\"index\": 45, \"variable\": \"Season 2018-2019\", \"value\": 2610.0}, {\"index\": 46, \"variable\": \"Season 2018-2019\", \"value\": 2600.0}, {\"index\": 47, \"variable\": \"Season 2018-2019\", \"value\": 2624.0}, {\"index\": 48, \"variable\": \"Season 2018-2019\", \"value\": 2590.0}, {\"index\": 49, \"variable\": \"Season 2018-2019\", \"value\": 2527.0}, {\"index\": 50, \"variable\": \"Season 2018-2019\", \"value\": 2721.0}, {\"index\": 51, \"variable\": \"Season 2018-2019\", \"value\": 2788.0}, {\"index\": 0, \"variable\": \"Season 2017-2018\", \"value\": 3038.0}, {\"index\": 1, \"variable\": \"Season 2017-2018\", \"value\": 3019.0}, {\"index\": 2, \"variable\": \"Season 2017-2018\", \"value\": 3184.0}, {\"index\": 3, \"variable\": \"Season 2017-2018\", \"value\": 3302.0}, {\"index\": 4, \"variable\": \"Season 2017-2018\", \"value\": 3251.0}, {\"index\": 5, \"variable\": \"Season 2017-2018\", \"value\": 3225.0}, {\"index\": 6, \"variable\": \"Season 2017-2018\", \"value\": 3365.0}, {\"index\": 7, \"variable\": \"Season 2017-2018\", \"value\": 3250.0}, {\"index\": 8, \"variable\": \"Season 2017-2018\", \"value\": 3576.0}, {\"index\": 9, \"variable\": \"Season 2017-2018\", \"value\": 3646.0}, {\"index\": 10, \"variable\": \"Season 2017-2018\", \"value\": 3924.0}, {\"index\": 11, \"variable\": \"Season 2017-2018\", \"value\": 4346.0}, {\"index\": 12, \"variable\": \"Season 2017-2018\", \"value\": 5089.0}, {\"index\": 13, \"variable\": \"Season 2017-2018\", \"value\": 6321.0}, {\"index\": 14, \"variable\": \"Season 2017-2018\", \"value\": 7119.0}, {\"index\": 15, \"variable\": \"Season 2017-2018\", \"value\": 7038.0}, {\"index\": 16, \"variable\": \"Season 2017-2018\", \"value\": 6635.0}, {\"index\": 17, \"variable\": \"Season 2017-2018\", \"value\": 6237.0}, {\"index\": 18, \"variable\": \"Season 2017-2018\", \"value\": 5932.0}, {\"index\": 19, \"variable\": \"Season 2017-2018\", \"value\": 5778.0}, {\"index\": 20, \"variable\": \"Season 2017-2018\", \"value\": 5318.0}, {\"index\": 21, \"variable\": \"Season 2017-2018\", \"value\": 4782.0}, {\"index\": 22, \"variable\": \"Season 2017-2018\", \"value\": 4568.0}, {\"index\": 23, \"variable\": \"Season 2017-2018\", \"value\": 4297.0}, {\"index\": 24, \"variable\": \"Season 2017-2018\", \"value\": 4138.0}, {\"index\": 25, \"variable\": \"Season 2017-2018\", \"value\": 4063.0}, {\"index\": 26, \"variable\": \"Season 2017-2018\", \"value\": 3998.0}, {\"index\": 27, \"variable\": \"Season 2017-2018\", \"value\": 3804.0}, {\"index\": 28, \"variable\": \"Season 2017-2018\", \"value\": 3582.0}, {\"index\": 29, \"variable\": \"Season 2017-2018\", \"value\": 3513.0}, {\"index\": 30, \"variable\": \"Season 2017-2018\", \"value\": 3304.0}, {\"index\": 31, \"variable\": \"Season 2017-2018\", \"value\": 3085.0}, {\"index\": 32, \"variable\": \"Season 2017-2018\", \"value\": 2998.0}, {\"index\": 33, \"variable\": \"Season 2017-2018\", \"value\": 2977.0}, {\"index\": 34, \"variable\": \"Season 2017-2018\", \"value\": 2931.0}, {\"index\": 35, \"variable\": \"Season 2017-2018\", \"value\": 2922.0}, {\"index\": 36, \"variable\": \"Season 2017-2018\", \"value\": 2949.0}, {\"index\": 37, \"variable\": \"Season 2017-2018\", \"value\": 2872.0}, {\"index\": 38, \"variable\": \"Season 2017-2018\", \"value\": 2877.0}, {\"index\": 39, \"variable\": \"Season 2017-2018\", \"value\": 2779.0}, {\"index\": 40, \"variable\": \"Season 2017-2018\", \"value\": 2786.0}, {\"index\": 41, \"variable\": \"Season 2017-2018\", \"value\": 2714.0}, {\"index\": 42, \"variable\": \"Season 2017-2018\", \"value\": 2709.0}, {\"index\": 43, \"variable\": \"Season 2017-2018\", \"value\": 2665.0}, {\"index\": 44, \"variable\": \"Season 2017-2018\", \"value\": 2683.0}, {\"index\": 45, \"variable\": \"Season 2017-2018\", \"value\": 2622.0}, {\"index\": 46, \"variable\": \"Season 2017-2018\", \"value\": 2723.0}, {\"index\": 47, \"variable\": \"Season 2017-2018\", \"value\": 2636.0}, {\"index\": 48, \"variable\": \"Season 2017-2018\", \"value\": 2755.0}, {\"index\": 49, \"variable\": \"Season 2017-2018\", \"value\": 2769.0}, {\"index\": 50, \"variable\": \"Season 2017-2018\", \"value\": 2830.0}, {\"index\": 51, \"variable\": \"Season 2017-2018\", \"value\": 2828.0}, {\"index\": 0, \"variable\": \"Season 2016-2017\", \"value\": 3042.0}, {\"index\": 1, \"variable\": \"Season 2016-2017\", \"value\": 3204.0}, {\"index\": 2, \"variable\": \"Season 2016-2017\", \"value\": 3185.0}, {\"index\": 3, \"variable\": \"Season 2016-2017\", \"value\": 3147.0}, {\"index\": 4, \"variable\": \"Season 2016-2017\", \"value\": 3116.0}, {\"index\": 5, \"variable\": \"Season 2016-2017\", \"value\": 3226.0}, {\"index\": 6, \"variable\": \"Season 2016-2017\", \"value\": 3199.0}, {\"index\": 7, \"variable\": \"Season 2016-2017\", \"value\": 3277.0}, {\"index\": 8, \"variable\": \"Season 2016-2017\", \"value\": 3544.0}, {\"index\": 9, \"variable\": \"Season 2016-2017\", \"value\": 3649.0}, {\"index\": 10, \"variable\": \"Season 2016-2017\", \"value\": 3824.0}, {\"index\": 11, \"variable\": \"Season 2016-2017\", \"value\": 3829.0}, {\"index\": 12, \"variable\": \"Season 2016-2017\", \"value\": 4262.0}, {\"index\": 13, \"variable\": \"Season 2016-2017\", \"value\": 4847.0}, {\"index\": 14, \"variable\": \"Season 2016-2017\", \"value\": 4873.0}, {\"index\": 15, \"variable\": \"Season 2016-2017\", \"value\": 4994.0}, {\"index\": 16, \"variable\": \"Season 2016-2017\", \"value\": 4794.0}, {\"index\": 17, \"variable\": \"Season 2016-2017\", \"value\": 4803.0}, {\"index\": 18, \"variable\": \"Season 2016-2017\", \"value\": 4866.0}, {\"index\": 19, \"variable\": \"Season 2016-2017\", \"value\": 4964.0}, {\"index\": 20, \"variable\": \"Season 2016-2017\", \"value\": 4974.0}, {\"index\": 21, \"variable\": \"Season 2016-2017\", \"value\": 4794.0}, {\"index\": 22, \"variable\": \"Season 2016-2017\", \"value\": 4695.0}, {\"index\": 23, \"variable\": \"Season 2016-2017\", \"value\": 4476.0}, {\"index\": 24, \"variable\": \"Season 2016-2017\", \"value\": 4410.0}, {\"index\": 25, \"variable\": \"Season 2016-2017\", \"value\": 4220.0}, {\"index\": 26, \"variable\": \"Season 2016-2017\", \"value\": 4087.0}, {\"index\": 27, \"variable\": \"Season 2016-2017\", \"value\": 3984.0}, {\"index\": 28, \"variable\": \"Season 2016-2017\", \"value\": 3651.0}, {\"index\": 29, \"variable\": \"Season 2016-2017\", \"value\": 3548.0}, {\"index\": 30, \"variable\": \"Season 2016-2017\", \"value\": 3371.0}, {\"index\": 31, \"variable\": \"Season 2016-2017\", \"value\": 3266.0}, {\"index\": 32, \"variable\": \"Season 2016-2017\", \"value\": 3254.0}, {\"index\": 33, \"variable\": \"Season 2016-2017\", \"value\": 3115.0}, {\"index\": 34, \"variable\": \"Season 2016-2017\", \"value\": 3042.0}, {\"index\": 35, \"variable\": \"Season 2016-2017\", \"value\": 3144.0}, {\"index\": 36, \"variable\": \"Season 2016-2017\", \"value\": 3088.0}, {\"index\": 37, \"variable\": \"Season 2016-2017\", \"value\": 2997.0}, {\"index\": 38, \"variable\": \"Season 2016-2017\", \"value\": 2964.0}, {\"index\": 39, \"variable\": \"Season 2016-2017\", \"value\": 2842.0}, {\"index\": 40, \"variable\": \"Season 2016-2017\", \"value\": 3051.0}, {\"index\": 41, \"variable\": \"Season 2016-2017\", \"value\": 2765.0}, {\"index\": 42, \"variable\": \"Season 2016-2017\", \"value\": 2856.0}, {\"index\": 43, \"variable\": \"Season 2016-2017\", \"value\": 2699.0}, {\"index\": 44, \"variable\": \"Season 2016-2017\", \"value\": 2728.0}, {\"index\": 45, \"variable\": \"Season 2016-2017\", \"value\": 2700.0}, {\"index\": 46, \"variable\": \"Season 2016-2017\", \"value\": 2763.0}, {\"index\": 47, \"variable\": \"Season 2016-2017\", \"value\": 2723.0}, {\"index\": 48, \"variable\": \"Season 2016-2017\", \"value\": 2837.0}, {\"index\": 49, \"variable\": \"Season 2016-2017\", \"value\": 3028.0}, {\"index\": 50, \"variable\": \"Season 2016-2017\", \"value\": 2951.0}, {\"index\": 51, \"variable\": \"Season 2016-2017\", \"value\": 2907.0}, {\"index\": 0, \"variable\": \"Season 2015-2016\", \"value\": 3211.0}, {\"index\": 1, \"variable\": \"Season 2015-2016\", \"value\": 3138.0}, {\"index\": 2, \"variable\": \"Season 2015-2016\", \"value\": 3230.0}, {\"index\": 3, \"variable\": \"Season 2015-2016\", \"value\": 3180.0}, {\"index\": 4, \"variable\": \"Season 2015-2016\", \"value\": 3373.0}, {\"index\": 5, \"variable\": \"Season 2015-2016\", \"value\": 3239.0}, {\"index\": 6, \"variable\": \"Season 2015-2016\", \"value\": 3349.0}, {\"index\": 7, \"variable\": \"Season 2015-2016\", \"value\": 3338.0}, {\"index\": 8, \"variable\": \"Season 2015-2016\", \"value\": 3479.0}, {\"index\": 9, \"variable\": \"Season 2015-2016\", \"value\": 3548.0}, {\"index\": 10, \"variable\": \"Season 2015-2016\", \"value\": 3478.0}, {\"index\": 11, \"variable\": \"Season 2015-2016\", \"value\": 3525.0}, {\"index\": 12, \"variable\": \"Season 2015-2016\", \"value\": 3948.0}, {\"index\": 13, \"variable\": \"Season 2015-2016\", \"value\": 4273.0}, {\"index\": 14, \"variable\": \"Season 2015-2016\", \"value\": 4308.0}, {\"index\": 15, \"variable\": \"Season 2015-2016\", \"value\": 4079.0}, {\"index\": 16, \"variable\": \"Season 2015-2016\", \"value\": 4160.0}, {\"index\": 17, \"variable\": \"Season 2015-2016\", \"value\": 4125.0}, {\"index\": 18, \"variable\": \"Season 2015-2016\", \"value\": 4028.0}, {\"index\": 19, \"variable\": \"Season 2015-2016\", \"value\": 4159.0}, {\"index\": 20, \"variable\": \"Season 2015-2016\", \"value\": 4384.0}, {\"index\": 21, \"variable\": \"Season 2015-2016\", \"value\": 4500.0}, {\"index\": 22, \"variable\": \"Season 2015-2016\", \"value\": 4571.0}, {\"index\": 23, \"variable\": \"Season 2015-2016\", \"value\": 4494.0}, {\"index\": 24, \"variable\": \"Season 2015-2016\", \"value\": 4471.0}, {\"index\": 25, \"variable\": \"Season 2015-2016\", \"value\": 4175.0}, {\"index\": 26, \"variable\": \"Season 2015-2016\", \"value\": 4195.0}, {\"index\": 27, \"variable\": \"Season 2015-2016\", \"value\": 4087.0}, {\"index\": 28, \"variable\": \"Season 2015-2016\", \"value\": 3832.0}, {\"index\": 29, \"variable\": \"Season 2015-2016\", \"value\": 3525.0}, {\"index\": 30, \"variable\": \"Season 2015-2016\", \"value\": 3494.0}, {\"index\": 31, \"variable\": \"Season 2015-2016\", \"value\": 3314.0}, {\"index\": 32, \"variable\": \"Season 2015-2016\", \"value\": 3324.0}, {\"index\": 33, \"variable\": \"Season 2015-2016\", \"value\": 3229.0}, {\"index\": 34, \"variable\": \"Season 2015-2016\", \"value\": 3042.0}, {\"index\": 35, \"variable\": \"Season 2015-2016\", \"value\": 3192.0}, {\"index\": 36, \"variable\": \"Season 2015-2016\", \"value\": 2938.0}, {\"index\": 37, \"variable\": \"Season 2015-2016\", \"value\": 2888.0}, {\"index\": 38, \"variable\": \"Season 2015-2016\", \"value\": 2924.0}, {\"index\": 39, \"variable\": \"Season 2015-2016\", \"value\": 2924.0}, {\"index\": 40, \"variable\": \"Season 2015-2016\", \"value\": 2932.0}, {\"index\": 41, \"variable\": \"Season 2015-2016\", \"value\": 2772.0}, {\"index\": 42, \"variable\": \"Season 2015-2016\", \"value\": 2809.0}, {\"index\": 43, \"variable\": \"Season 2015-2016\", \"value\": 2848.0}, {\"index\": 44, \"variable\": \"Season 2015-2016\", \"value\": 2829.0}, {\"index\": 45, \"variable\": \"Season 2015-2016\", \"value\": 2872.0}, {\"index\": 46, \"variable\": \"Season 2015-2016\", \"value\": 2833.0}, {\"index\": 47, \"variable\": \"Season 2015-2016\", \"value\": 2874.0}, {\"index\": 48, \"variable\": \"Season 2015-2016\", \"value\": 2886.0}, {\"index\": 49, \"variable\": \"Season 2015-2016\", \"value\": 3101.0}, {\"index\": 50, \"variable\": \"Season 2015-2016\", \"value\": 3026.0}, {\"index\": 51, \"variable\": \"Season 2015-2016\", \"value\": 2997.0}, {\"index\": 0, \"variable\": \"Covid-19\", \"value\": null}, {\"index\": 1, \"variable\": \"Covid-19\", \"value\": null}, {\"index\": 2, \"variable\": \"Covid-19\", \"value\": null}, {\"index\": 3, \"variable\": \"Covid-19\", \"value\": null}, {\"index\": 4, \"variable\": \"Covid-19\", \"value\": null}, {\"index\": 5, \"variable\": \"Covid-19\", \"value\": null}, {\"index\": 6, \"variable\": \"Covid-19\", \"value\": null}, {\"index\": 7, \"variable\": \"Covid-19\", \"value\": null}, {\"index\": 8, \"variable\": \"Covid-19\", \"value\": null}, {\"index\": 9, \"variable\": \"Covid-19\", \"value\": null}, {\"index\": 10, \"variable\": \"Covid-19\", \"value\": null}, {\"index\": 11, \"variable\": \"Covid-19\", \"value\": null}, {\"index\": 12, \"variable\": \"Covid-19\", \"value\": null}, {\"index\": 13, \"variable\": \"Covid-19\", \"value\": null}, {\"index\": 14, \"variable\": \"Covid-19\", \"value\": null}, {\"index\": 15, \"variable\": \"Covid-19\", \"value\": null}, {\"index\": 16, \"variable\": \"Covid-19\", \"value\": null}, {\"index\": 17, \"variable\": \"Covid-19\", \"value\": null}, {\"index\": 18, \"variable\": \"Covid-19\", \"value\": null}, {\"index\": 19, \"variable\": \"Covid-19\", \"value\": null}, {\"index\": 20, \"variable\": \"Covid-19\", \"value\": null}, {\"index\": 21, \"variable\": \"Covid-19\", \"value\": 1.0}, {\"index\": 22, \"variable\": \"Covid-19\", \"value\": 16.0}, {\"index\": 23, \"variable\": \"Covid-19\", \"value\": 41.0}, {\"index\": 24, \"variable\": \"Covid-19\", \"value\": 299.0}, {\"index\": 25, \"variable\": \"Covid-19\", \"value\": 1892.0}, {\"index\": 26, \"variable\": \"Covid-19\", \"value\": 6609.0}, {\"index\": 27, \"variable\": \"Covid-19\", \"value\": 13999.0}, {\"index\": 28, \"variable\": \"Covid-19\", \"value\": 24911.0}, {\"index\": 29, \"variable\": \"Covid-19\", \"value\": null}, {\"index\": 30, \"variable\": \"Covid-19\", \"value\": null}, {\"index\": 31, \"variable\": \"Covid-19\", \"value\": null}, {\"index\": 32, \"variable\": \"Covid-19\", \"value\": null}, {\"index\": 33, \"variable\": \"Covid-19\", \"value\": null}, {\"index\": 34, \"variable\": \"Covid-19\", \"value\": null}, {\"index\": 35, \"variable\": \"Covid-19\", \"value\": null}, {\"index\": 36, \"variable\": \"Covid-19\", \"value\": null}, {\"index\": 37, \"variable\": \"Covid-19\", \"value\": null}, {\"index\": 38, \"variable\": \"Covid-19\", \"value\": null}, {\"index\": 39, \"variable\": \"Covid-19\", \"value\": null}, {\"index\": 40, \"variable\": \"Covid-19\", \"value\": null}, {\"index\": 41, \"variable\": \"Covid-19\", \"value\": null}, {\"index\": 42, \"variable\": \"Covid-19\", \"value\": null}, {\"index\": 43, \"variable\": \"Covid-19\", \"value\": null}, {\"index\": 44, \"variable\": \"Covid-19\", \"value\": null}, {\"index\": 45, \"variable\": \"Covid-19\", \"value\": null}, {\"index\": 46, \"variable\": \"Covid-19\", \"value\": null}, {\"index\": 47, \"variable\": \"Covid-19\", \"value\": null}, {\"index\": 48, \"variable\": \"Covid-19\", \"value\": null}, {\"index\": 49, \"variable\": \"Covid-19\", \"value\": null}, {\"index\": 50, \"variable\": \"Covid-19\", \"value\": null}, {\"index\": 51, \"variable\": \"Covid-19\", \"value\": null}]}}, {\"mode\": \"vega-lite\"});\n",
       "</script>"
      ],
      "text/plain": [
       "alt.Chart(...)"
      ]
     },
     "execution_count": 150,
     "metadata": {},
     "output_type": "execute_result"
    }
   ],
   "source": [
    "#hide_input\n",
    "line = alt.Chart(data.reset_index().melt('index')).mark_line().encode(\n",
    "        x = alt.X('index:N', axis=alt.Axis(title='Week of Flu Season')),\n",
    "        y = 'value',\n",
    "        color='variable'\n",
    ")\n",
    "line.properties(width=800)"
   ]
  },
  {
   "cell_type": "markdown",
   "metadata": {},
   "source": [
    "Q.E.D."
   ]
  },
  {
   "cell_type": "code",
   "execution_count": null,
   "metadata": {},
   "outputs": [],
   "source": []
  }
 ],
 "metadata": {
  "kernelspec": {
   "display_name": "Python 3",
   "language": "python",
   "name": "python3"
  },
  "language_info": {
   "codemirror_mode": {
    "name": "ipython",
    "version": 3
   },
   "file_extension": ".py",
   "mimetype": "text/x-python",
   "name": "python",
   "nbconvert_exporter": "python",
   "pygments_lexer": "ipython3",
   "version": "3.7.5"
  }
 },
 "nbformat": 4,
 "nbformat_minor": 2
}
