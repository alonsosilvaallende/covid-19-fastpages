{
 "cells": [
  {
   "cell_type": "markdown",
   "metadata": {},
   "source": [
    "# COVID-19 is not the flu\n",
    "> COVID-19 is not the flu\n",
    "\n",
    "- toc: true \n",
    "- badges: true\n",
    "- comments: true\n",
    "- author: Alonso Silva Allende\n",
    "- categories: [jupyter]\n",
    "- image: images/diagram.png"
   ]
  },
  {
   "cell_type": "markdown",
   "metadata": {},
   "source": [
    "> twitter: https://twitter.com/jperla/status/1247330008814632960"
   ]
  },
  {
   "cell_type": "markdown",
   "metadata": {},
   "source": [
    "I love how powerful this visualization is (and hate the danger it shows). \n",
    "\n",
    "OK, actually I think I need to give you some context. At the beginning of the Covid-19 spread, there were many voices claiming that Covid-19 was not worst than the flu. Just to give you some examples:\n",
    "\n",
    "- The Washington Post: [The flu is a much bigger threat than coronavirus, for now.](https://www.washingtonpost.com/health/time-for-a-reality-check-america-the-flu-is-a-much-bigger-threat-than-coronavirus-for-now/2020/01/31/46a15166-4444-11ea-b5fc-eefa848cde99_story.html) on February 1.\n",
    "- Wired: [We Should Deescalate the War on the Coronavirus](https://www.wired.com/story/opinion-we-should-deescalate-the-war-on-the-coronavirus/) on January 29.\n",
    "- National Post: [New Coronavirus may be no more dangerous than the flu despite worldwide alarm](https://nationalpost.com/health/new-coronavirus-may-be-no-more-dangerous-than-the-flu-despite-worldwide-alarm-experts) on February 4.\n",
    "\n",
    "Even the president of the United States on March 9 wrote the following:"
   ]
  },
  {
   "cell_type": "markdown",
   "metadata": {},
   "source": [
    "> twitter: https://twitter.com/realDonaldTrump/status/1237027356314869761"
   ]
  },
  {
   "cell_type": "markdown",
   "metadata": {},
   "source": [
    "I think the problem was people were looking at the numbers of confirmed cases and deaths and the numbers were not that impressive. But as some smart people pointed out:"
   ]
  },
  {
   "cell_type": "markdown",
   "metadata": {},
   "source": [
    "> twitter: https://twitter.com/MaxCRoser/status/1237392250637709313"
   ]
  },
  {
   "cell_type": "markdown",
   "metadata": {},
   "source": [
    "So, on March 28, there were already many confirmed cases and deaths of Covid-19 in Italy. On that day I sent a message to my friend [Patricio Reyes](https://pareyesv.github.io/) telling him that I wanted to do a plot comparing deaths by the flu and Covid-19 in Italy. I actually found an article stating \"We estimated excess deaths of 7,027, 20,259, 15,801 and 24,981 attributable to influenza epidemics in the 2013/14, 2014/15, 2015/16 and 2016/17, respectively, using the Goldstein index\" [Investigating the impact of influenza on excess mortality in all ages in Italy during recent seasons (2013/14–2016/17 seasons)](https://www.sciencedirect.com/science/article/pii/S1201971219303285)\n",
    "\n",
    "So I looked at the data in Italy and this is how it looked like:"
   ]
  },
  {
   "cell_type": "code",
   "execution_count": 1,
   "metadata": {},
   "outputs": [],
   "source": [
    "#hide\n",
    "import pandas as pd\n",
    "import matplotlib.pyplot as plt\n",
    "import altair as alt\n",
    "import numpy as np"
   ]
  },
  {
   "cell_type": "code",
   "execution_count": 2,
   "metadata": {},
   "outputs": [],
   "source": [
    "#hide\n",
    "full_data = pd.read_csv(\"https://covid.ourworldindata.org/data/ecdc/full_data.csv\", index_col='date')"
   ]
  },
  {
   "cell_type": "code",
   "execution_count": 3,
   "metadata": {},
   "outputs": [],
   "source": [
    "#hide\n",
    "# Window size deaths\n",
    "WS_deaths = 7"
   ]
  },
  {
   "cell_type": "code",
   "execution_count": 4,
   "metadata": {},
   "outputs": [],
   "source": [
    "#hide\n",
    "new_deaths_IT = full_data[full_data['location'].str.contains('Italy')]['new_deaths']\n",
    "total_deaths_IT = full_data[full_data['location'].str.contains('Italy')]['total_deaths']"
   ]
  },
  {
   "cell_type": "code",
   "execution_count": 5,
   "metadata": {},
   "outputs": [],
   "source": [
    "#hide\n",
    "new_deaths_IT = new_deaths_IT[new_deaths_IT>0]\n",
    "total_deaths_IT = total_deaths_IT[total_deaths_IT>0]"
   ]
  },
  {
   "cell_type": "code",
   "execution_count": 6,
   "metadata": {},
   "outputs": [],
   "source": [
    "#hide\n",
    "new_deaths_IT = new_deaths_IT.loc[:'2020-03-28']\n",
    "total_deaths_IT = total_deaths_IT.loc[:'2020-03-28']"
   ]
  },
  {
   "cell_type": "code",
   "execution_count": 7,
   "metadata": {},
   "outputs": [],
   "source": [
    "#hide\n",
    "data = new_deaths_IT.reset_index()\n",
    "data['rolling_new_deaths'] = new_deaths_IT.rolling(window=WS_deaths).mean().values\n",
    "data[\"New deaths\"] = len(data) * [\"New deaths\"]\n",
    "data[\"7-day rolling average\"] = len(data) * [\"7-day rolling average\"]"
   ]
  },
  {
   "cell_type": "code",
   "execution_count": 28,
   "metadata": {
    "scrolled": false
   },
   "outputs": [
    {
     "data": {
      "text/html": [
       "\n",
       "<div id=\"altair-viz-48ad527fe6ef4b4baa5bc37c4eb38cb5\"></div>\n",
       "<script type=\"text/javascript\">\n",
       "  (function(spec, embedOpt){\n",
       "    let outputDiv = document.currentScript.previousElementSibling;\n",
       "    if (outputDiv.id !== \"altair-viz-48ad527fe6ef4b4baa5bc37c4eb38cb5\") {\n",
       "      outputDiv = document.getElementById(\"altair-viz-48ad527fe6ef4b4baa5bc37c4eb38cb5\");\n",
       "    }\n",
       "    const paths = {\n",
       "      \"vega\": \"https://cdn.jsdelivr.net/npm//vega@5?noext\",\n",
       "      \"vega-lib\": \"https://cdn.jsdelivr.net/npm//vega-lib?noext\",\n",
       "      \"vega-lite\": \"https://cdn.jsdelivr.net/npm//vega-lite@4.8.1?noext\",\n",
       "      \"vega-embed\": \"https://cdn.jsdelivr.net/npm//vega-embed@6?noext\",\n",
       "    };\n",
       "\n",
       "    function loadScript(lib) {\n",
       "      return new Promise(function(resolve, reject) {\n",
       "        var s = document.createElement('script');\n",
       "        s.src = paths[lib];\n",
       "        s.async = true;\n",
       "        s.onload = () => resolve(paths[lib]);\n",
       "        s.onerror = () => reject(`Error loading script: ${paths[lib]}`);\n",
       "        document.getElementsByTagName(\"head\")[0].appendChild(s);\n",
       "      });\n",
       "    }\n",
       "\n",
       "    function showError(err) {\n",
       "      outputDiv.innerHTML = `<div class=\"error\" style=\"color:red;\">${err}</div>`;\n",
       "      throw err;\n",
       "    }\n",
       "\n",
       "    function displayChart(vegaEmbed) {\n",
       "      vegaEmbed(outputDiv, spec, embedOpt)\n",
       "        .catch(err => showError(`Javascript Error: ${err.message}<br>This usually means there's a typo in your chart specification. See the javascript console for the full traceback.`));\n",
       "    }\n",
       "\n",
       "    if(typeof define === \"function\" && define.amd) {\n",
       "      requirejs.config({paths});\n",
       "      require([\"vega-embed\"], displayChart, err => showError(`Error loading script: ${err.message}`));\n",
       "    } else if (typeof vegaEmbed === \"function\") {\n",
       "      displayChart(vegaEmbed);\n",
       "    } else {\n",
       "      loadScript(\"vega\")\n",
       "        .then(() => loadScript(\"vega-lite\"))\n",
       "        .then(() => loadScript(\"vega-embed\"))\n",
       "        .catch(showError)\n",
       "        .then(() => displayChart(vegaEmbed));\n",
       "    }\n",
       "  })({\"config\": {\"view\": {\"continuousWidth\": 400, \"continuousHeight\": 300}}, \"layer\": [{\"mark\": {\"type\": \"line\", \"color\": \"firebrick\"}, \"encoding\": {\"tooltip\": [{\"type\": \"nominal\", \"field\": \"date\"}, {\"type\": \"quantitative\", \"field\": \"total_deaths\"}], \"x\": {\"type\": \"nominal\", \"axis\": {\"title\": \"Date\"}, \"field\": \"date\"}, \"y\": {\"type\": \"quantitative\", \"axis\": {\"title\": \"Total number of confirmed deaths\"}, \"field\": \"total_deaths\"}}, \"title\": \"Covid-19 in Italy: Total number of confirmed deaths\"}, {\"mark\": {\"type\": \"circle\", \"color\": \"firebrick\", \"size\": 60}, \"encoding\": {\"tooltip\": [{\"type\": \"nominal\", \"field\": \"date\"}, {\"type\": \"quantitative\", \"field\": \"total_deaths\"}], \"x\": {\"type\": \"nominal\", \"axis\": {\"title\": \"Date\"}, \"field\": \"date\"}, \"y\": {\"type\": \"quantitative\", \"axis\": {\"title\": \"Total number of confirmed deaths\"}, \"field\": \"total_deaths\"}}, \"title\": \"Covid-19 in Italy: Total number of confirmed deaths\"}], \"data\": {\"name\": \"data-94f16ffba460e9b85397fa21d2eeea8a\"}, \"width\": 700, \"$schema\": \"https://vega.github.io/schema/vega-lite/v4.8.1.json\", \"datasets\": {\"data-94f16ffba460e9b85397fa21d2eeea8a\": [{\"date\": \"2020-02-23\", \"total_deaths\": 2}, {\"date\": \"2020-02-24\", \"total_deaths\": 2}, {\"date\": \"2020-02-25\", \"total_deaths\": 6}, {\"date\": \"2020-02-26\", \"total_deaths\": 11}, {\"date\": \"2020-02-27\", \"total_deaths\": 12}, {\"date\": \"2020-02-28\", \"total_deaths\": 17}, {\"date\": \"2020-02-29\", \"total_deaths\": 21}, {\"date\": \"2020-03-01\", \"total_deaths\": 29}, {\"date\": \"2020-03-02\", \"total_deaths\": 35}, {\"date\": \"2020-03-03\", \"total_deaths\": 52}, {\"date\": \"2020-03-04\", \"total_deaths\": 80}, {\"date\": \"2020-03-05\", \"total_deaths\": 107}, {\"date\": \"2020-03-06\", \"total_deaths\": 148}, {\"date\": \"2020-03-07\", \"total_deaths\": 197}, {\"date\": \"2020-03-08\", \"total_deaths\": 233}, {\"date\": \"2020-03-09\", \"total_deaths\": 366}, {\"date\": \"2020-03-10\", \"total_deaths\": 464}, {\"date\": \"2020-03-11\", \"total_deaths\": 631}, {\"date\": \"2020-03-12\", \"total_deaths\": 827}, {\"date\": \"2020-03-13\", \"total_deaths\": 1016}, {\"date\": \"2020-03-14\", \"total_deaths\": 1268}, {\"date\": \"2020-03-15\", \"total_deaths\": 1441}, {\"date\": \"2020-03-16\", \"total_deaths\": 1811}, {\"date\": \"2020-03-17\", \"total_deaths\": 2158}, {\"date\": \"2020-03-18\", \"total_deaths\": 2505}, {\"date\": \"2020-03-19\", \"total_deaths\": 2978}, {\"date\": \"2020-03-20\", \"total_deaths\": 3407}, {\"date\": \"2020-03-21\", \"total_deaths\": 4032}, {\"date\": \"2020-03-22\", \"total_deaths\": 4827}, {\"date\": \"2020-03-23\", \"total_deaths\": 5476}, {\"date\": \"2020-03-24\", \"total_deaths\": 6077}, {\"date\": \"2020-03-25\", \"total_deaths\": 6820}, {\"date\": \"2020-03-26\", \"total_deaths\": 7505}, {\"date\": \"2020-03-27\", \"total_deaths\": 8165}, {\"date\": \"2020-03-28\", \"total_deaths\": 9136}]}}, {\"mode\": \"vega-lite\"});\n",
       "</script>"
      ],
      "text/plain": [
       "alt.LayerChart(...)"
      ]
     },
     "execution_count": 28,
     "metadata": {},
     "output_type": "execute_result"
    }
   ],
   "source": [
    "#hide_input\n",
    "base = alt.Chart(total_deaths_IT.reset_index()).encode(\n",
    "    x=alt.X('date:N', axis=alt.Axis(title='Date')),\n",
    ").properties(\n",
    "    title='Covid-19 in Italy: Total number of confirmed deaths'\n",
    ")\n",
    "\n",
    "line = base.mark_line(color='firebrick').encode(\n",
    "    y=alt.Y('total_deaths', axis=alt.Axis(title='Total number of confirmed deaths')),\n",
    "    tooltip = ['date', 'total_deaths']\n",
    ")\n",
    "\n",
    "circles = base.mark_circle(color='firebrick', size=60).encode(\n",
    "    x=alt.X('date:N', axis=alt.Axis(title='Date')),\n",
    "    y=alt.Y('total_deaths', axis=alt.Axis(title='Total number of confirmed deaths')),\n",
    "    tooltip = ['date', 'total_deaths']\n",
    ")\n",
    "\n",
    "(line+circles).properties(width=700)"
   ]
  },
  {
   "cell_type": "code",
   "execution_count": 29,
   "metadata": {},
   "outputs": [
    {
     "ename": "ValueError",
     "evalue": "New deaths encoding field is specified without a type; the type cannot be inferred because it does not match any column in the data.",
     "output_type": "error",
     "traceback": [
      "\u001b[0;31m---------------------------------------------------------------------------\u001b[0m",
      "\u001b[0;31mValueError\u001b[0m                                Traceback (most recent call last)",
      "\u001b[0;32m~/anaconda/envs/python-workshop/lib/python3.7/site-packages/altair/vegalite/v4/api.py\u001b[0m in \u001b[0;36mto_dict\u001b[0;34m(self, *args, **kwargs)\u001b[0m\n\u001b[1;32m    371\u001b[0m \u001b[0;34m\u001b[0m\u001b[0m\n\u001b[1;32m    372\u001b[0m         \u001b[0;32mtry\u001b[0m\u001b[0;34m:\u001b[0m\u001b[0;34m\u001b[0m\u001b[0;34m\u001b[0m\u001b[0m\n\u001b[0;32m--> 373\u001b[0;31m             \u001b[0mdct\u001b[0m \u001b[0;34m=\u001b[0m \u001b[0msuper\u001b[0m\u001b[0;34m(\u001b[0m\u001b[0mTopLevelMixin\u001b[0m\u001b[0;34m,\u001b[0m \u001b[0mcopy\u001b[0m\u001b[0;34m)\u001b[0m\u001b[0;34m.\u001b[0m\u001b[0mto_dict\u001b[0m\u001b[0;34m(\u001b[0m\u001b[0;34m*\u001b[0m\u001b[0margs\u001b[0m\u001b[0;34m,\u001b[0m \u001b[0;34m**\u001b[0m\u001b[0mkwargs\u001b[0m\u001b[0;34m)\u001b[0m\u001b[0;34m\u001b[0m\u001b[0;34m\u001b[0m\u001b[0m\n\u001b[0m\u001b[1;32m    374\u001b[0m         \u001b[0;32mexcept\u001b[0m \u001b[0mjsonschema\u001b[0m\u001b[0;34m.\u001b[0m\u001b[0mValidationError\u001b[0m\u001b[0;34m:\u001b[0m\u001b[0;34m\u001b[0m\u001b[0;34m\u001b[0m\u001b[0m\n\u001b[1;32m    375\u001b[0m             \u001b[0mdct\u001b[0m \u001b[0;34m=\u001b[0m \u001b[0;32mNone\u001b[0m\u001b[0;34m\u001b[0m\u001b[0;34m\u001b[0m\u001b[0m\n",
      "\u001b[0;32m~/anaconda/envs/python-workshop/lib/python3.7/site-packages/altair/utils/schemapi.py\u001b[0m in \u001b[0;36mto_dict\u001b[0;34m(self, validate, ignore, context)\u001b[0m\n\u001b[1;32m    326\u001b[0m                 \u001b[0;34m{\u001b[0m\u001b[0mk\u001b[0m\u001b[0;34m:\u001b[0m \u001b[0mv\u001b[0m \u001b[0;32mfor\u001b[0m \u001b[0mk\u001b[0m\u001b[0;34m,\u001b[0m \u001b[0mv\u001b[0m \u001b[0;32min\u001b[0m \u001b[0mself\u001b[0m\u001b[0;34m.\u001b[0m\u001b[0m_kwds\u001b[0m\u001b[0;34m.\u001b[0m\u001b[0mitems\u001b[0m\u001b[0;34m(\u001b[0m\u001b[0;34m)\u001b[0m \u001b[0;32mif\u001b[0m \u001b[0mk\u001b[0m \u001b[0;32mnot\u001b[0m \u001b[0;32min\u001b[0m \u001b[0mignore\u001b[0m\u001b[0;34m}\u001b[0m\u001b[0;34m,\u001b[0m\u001b[0;34m\u001b[0m\u001b[0;34m\u001b[0m\u001b[0m\n\u001b[1;32m    327\u001b[0m                 \u001b[0mvalidate\u001b[0m\u001b[0;34m=\u001b[0m\u001b[0msub_validate\u001b[0m\u001b[0;34m,\u001b[0m\u001b[0;34m\u001b[0m\u001b[0;34m\u001b[0m\u001b[0m\n\u001b[0;32m--> 328\u001b[0;31m                 \u001b[0mcontext\u001b[0m\u001b[0;34m=\u001b[0m\u001b[0mcontext\u001b[0m\u001b[0;34m,\u001b[0m\u001b[0;34m\u001b[0m\u001b[0;34m\u001b[0m\u001b[0m\n\u001b[0m\u001b[1;32m    329\u001b[0m             )\n\u001b[1;32m    330\u001b[0m         \u001b[0;32melse\u001b[0m\u001b[0;34m:\u001b[0m\u001b[0;34m\u001b[0m\u001b[0;34m\u001b[0m\u001b[0m\n",
      "\u001b[0;32m~/anaconda/envs/python-workshop/lib/python3.7/site-packages/altair/utils/schemapi.py\u001b[0m in \u001b[0;36m_todict\u001b[0;34m(obj, validate, context)\u001b[0m\n\u001b[1;32m     60\u001b[0m         return {\n\u001b[1;32m     61\u001b[0m             \u001b[0mk\u001b[0m\u001b[0;34m:\u001b[0m \u001b[0m_todict\u001b[0m\u001b[0;34m(\u001b[0m\u001b[0mv\u001b[0m\u001b[0;34m,\u001b[0m \u001b[0mvalidate\u001b[0m\u001b[0;34m,\u001b[0m \u001b[0mcontext\u001b[0m\u001b[0;34m)\u001b[0m\u001b[0;34m\u001b[0m\u001b[0;34m\u001b[0m\u001b[0m\n\u001b[0;32m---> 62\u001b[0;31m             \u001b[0;32mfor\u001b[0m \u001b[0mk\u001b[0m\u001b[0;34m,\u001b[0m \u001b[0mv\u001b[0m \u001b[0;32min\u001b[0m \u001b[0mobj\u001b[0m\u001b[0;34m.\u001b[0m\u001b[0mitems\u001b[0m\u001b[0;34m(\u001b[0m\u001b[0;34m)\u001b[0m\u001b[0;34m\u001b[0m\u001b[0;34m\u001b[0m\u001b[0m\n\u001b[0m\u001b[1;32m     63\u001b[0m             \u001b[0;32mif\u001b[0m \u001b[0mv\u001b[0m \u001b[0;32mis\u001b[0m \u001b[0;32mnot\u001b[0m \u001b[0mUndefined\u001b[0m\u001b[0;34m\u001b[0m\u001b[0;34m\u001b[0m\u001b[0m\n\u001b[1;32m     64\u001b[0m         }\n",
      "\u001b[0;32m~/anaconda/envs/python-workshop/lib/python3.7/site-packages/altair/utils/schemapi.py\u001b[0m in \u001b[0;36m<dictcomp>\u001b[0;34m(.0)\u001b[0m\n\u001b[1;32m     61\u001b[0m             \u001b[0mk\u001b[0m\u001b[0;34m:\u001b[0m \u001b[0m_todict\u001b[0m\u001b[0;34m(\u001b[0m\u001b[0mv\u001b[0m\u001b[0;34m,\u001b[0m \u001b[0mvalidate\u001b[0m\u001b[0;34m,\u001b[0m \u001b[0mcontext\u001b[0m\u001b[0;34m)\u001b[0m\u001b[0;34m\u001b[0m\u001b[0;34m\u001b[0m\u001b[0m\n\u001b[1;32m     62\u001b[0m             \u001b[0;32mfor\u001b[0m \u001b[0mk\u001b[0m\u001b[0;34m,\u001b[0m \u001b[0mv\u001b[0m \u001b[0;32min\u001b[0m \u001b[0mobj\u001b[0m\u001b[0;34m.\u001b[0m\u001b[0mitems\u001b[0m\u001b[0;34m(\u001b[0m\u001b[0;34m)\u001b[0m\u001b[0;34m\u001b[0m\u001b[0;34m\u001b[0m\u001b[0m\n\u001b[0;32m---> 63\u001b[0;31m             \u001b[0;32mif\u001b[0m \u001b[0mv\u001b[0m \u001b[0;32mis\u001b[0m \u001b[0;32mnot\u001b[0m \u001b[0mUndefined\u001b[0m\u001b[0;34m\u001b[0m\u001b[0;34m\u001b[0m\u001b[0m\n\u001b[0m\u001b[1;32m     64\u001b[0m         }\n\u001b[1;32m     65\u001b[0m     \u001b[0;32melif\u001b[0m \u001b[0mhasattr\u001b[0m\u001b[0;34m(\u001b[0m\u001b[0mobj\u001b[0m\u001b[0;34m,\u001b[0m \u001b[0;34m\"to_dict\"\u001b[0m\u001b[0;34m)\u001b[0m\u001b[0;34m:\u001b[0m\u001b[0;34m\u001b[0m\u001b[0;34m\u001b[0m\u001b[0m\n",
      "\u001b[0;32m~/anaconda/envs/python-workshop/lib/python3.7/site-packages/altair/utils/schemapi.py\u001b[0m in \u001b[0;36m_todict\u001b[0;34m(obj, validate, context)\u001b[0m\n\u001b[1;32m     56\u001b[0m         \u001b[0;32mreturn\u001b[0m \u001b[0mobj\u001b[0m\u001b[0;34m.\u001b[0m\u001b[0mto_dict\u001b[0m\u001b[0;34m(\u001b[0m\u001b[0mvalidate\u001b[0m\u001b[0;34m=\u001b[0m\u001b[0mvalidate\u001b[0m\u001b[0;34m,\u001b[0m \u001b[0mcontext\u001b[0m\u001b[0;34m=\u001b[0m\u001b[0mcontext\u001b[0m\u001b[0;34m)\u001b[0m\u001b[0;34m\u001b[0m\u001b[0;34m\u001b[0m\u001b[0m\n\u001b[1;32m     57\u001b[0m     \u001b[0;32melif\u001b[0m \u001b[0misinstance\u001b[0m\u001b[0;34m(\u001b[0m\u001b[0mobj\u001b[0m\u001b[0;34m,\u001b[0m \u001b[0;34m(\u001b[0m\u001b[0mlist\u001b[0m\u001b[0;34m,\u001b[0m \u001b[0mtuple\u001b[0m\u001b[0;34m,\u001b[0m \u001b[0mnp\u001b[0m\u001b[0;34m.\u001b[0m\u001b[0mndarray\u001b[0m\u001b[0;34m)\u001b[0m\u001b[0;34m)\u001b[0m\u001b[0;34m:\u001b[0m\u001b[0;34m\u001b[0m\u001b[0;34m\u001b[0m\u001b[0m\n\u001b[0;32m---> 58\u001b[0;31m         \u001b[0;32mreturn\u001b[0m \u001b[0;34m[\u001b[0m\u001b[0m_todict\u001b[0m\u001b[0;34m(\u001b[0m\u001b[0mv\u001b[0m\u001b[0;34m,\u001b[0m \u001b[0mvalidate\u001b[0m\u001b[0;34m,\u001b[0m \u001b[0mcontext\u001b[0m\u001b[0;34m)\u001b[0m \u001b[0;32mfor\u001b[0m \u001b[0mv\u001b[0m \u001b[0;32min\u001b[0m \u001b[0mobj\u001b[0m\u001b[0;34m]\u001b[0m\u001b[0;34m\u001b[0m\u001b[0;34m\u001b[0m\u001b[0m\n\u001b[0m\u001b[1;32m     59\u001b[0m     \u001b[0;32melif\u001b[0m \u001b[0misinstance\u001b[0m\u001b[0;34m(\u001b[0m\u001b[0mobj\u001b[0m\u001b[0;34m,\u001b[0m \u001b[0mdict\u001b[0m\u001b[0;34m)\u001b[0m\u001b[0;34m:\u001b[0m\u001b[0;34m\u001b[0m\u001b[0;34m\u001b[0m\u001b[0m\n\u001b[1;32m     60\u001b[0m         return {\n",
      "\u001b[0;32m~/anaconda/envs/python-workshop/lib/python3.7/site-packages/altair/utils/schemapi.py\u001b[0m in \u001b[0;36m<listcomp>\u001b[0;34m(.0)\u001b[0m\n\u001b[1;32m     56\u001b[0m         \u001b[0;32mreturn\u001b[0m \u001b[0mobj\u001b[0m\u001b[0;34m.\u001b[0m\u001b[0mto_dict\u001b[0m\u001b[0;34m(\u001b[0m\u001b[0mvalidate\u001b[0m\u001b[0;34m=\u001b[0m\u001b[0mvalidate\u001b[0m\u001b[0;34m,\u001b[0m \u001b[0mcontext\u001b[0m\u001b[0;34m=\u001b[0m\u001b[0mcontext\u001b[0m\u001b[0;34m)\u001b[0m\u001b[0;34m\u001b[0m\u001b[0;34m\u001b[0m\u001b[0m\n\u001b[1;32m     57\u001b[0m     \u001b[0;32melif\u001b[0m \u001b[0misinstance\u001b[0m\u001b[0;34m(\u001b[0m\u001b[0mobj\u001b[0m\u001b[0;34m,\u001b[0m \u001b[0;34m(\u001b[0m\u001b[0mlist\u001b[0m\u001b[0;34m,\u001b[0m \u001b[0mtuple\u001b[0m\u001b[0;34m,\u001b[0m \u001b[0mnp\u001b[0m\u001b[0;34m.\u001b[0m\u001b[0mndarray\u001b[0m\u001b[0;34m)\u001b[0m\u001b[0;34m)\u001b[0m\u001b[0;34m:\u001b[0m\u001b[0;34m\u001b[0m\u001b[0;34m\u001b[0m\u001b[0m\n\u001b[0;32m---> 58\u001b[0;31m         \u001b[0;32mreturn\u001b[0m \u001b[0;34m[\u001b[0m\u001b[0m_todict\u001b[0m\u001b[0;34m(\u001b[0m\u001b[0mv\u001b[0m\u001b[0;34m,\u001b[0m \u001b[0mvalidate\u001b[0m\u001b[0;34m,\u001b[0m \u001b[0mcontext\u001b[0m\u001b[0;34m)\u001b[0m \u001b[0;32mfor\u001b[0m \u001b[0mv\u001b[0m \u001b[0;32min\u001b[0m \u001b[0mobj\u001b[0m\u001b[0;34m]\u001b[0m\u001b[0;34m\u001b[0m\u001b[0;34m\u001b[0m\u001b[0m\n\u001b[0m\u001b[1;32m     59\u001b[0m     \u001b[0;32melif\u001b[0m \u001b[0misinstance\u001b[0m\u001b[0;34m(\u001b[0m\u001b[0mobj\u001b[0m\u001b[0;34m,\u001b[0m \u001b[0mdict\u001b[0m\u001b[0;34m)\u001b[0m\u001b[0;34m:\u001b[0m\u001b[0;34m\u001b[0m\u001b[0;34m\u001b[0m\u001b[0m\n\u001b[1;32m     60\u001b[0m         return {\n",
      "\u001b[0;32m~/anaconda/envs/python-workshop/lib/python3.7/site-packages/altair/utils/schemapi.py\u001b[0m in \u001b[0;36m_todict\u001b[0;34m(obj, validate, context)\u001b[0m\n\u001b[1;32m     54\u001b[0m     \u001b[0;34m\"\"\"Convert an object to a dict representation.\"\"\"\u001b[0m\u001b[0;34m\u001b[0m\u001b[0;34m\u001b[0m\u001b[0m\n\u001b[1;32m     55\u001b[0m     \u001b[0;32mif\u001b[0m \u001b[0misinstance\u001b[0m\u001b[0;34m(\u001b[0m\u001b[0mobj\u001b[0m\u001b[0;34m,\u001b[0m \u001b[0mSchemaBase\u001b[0m\u001b[0;34m)\u001b[0m\u001b[0;34m:\u001b[0m\u001b[0;34m\u001b[0m\u001b[0;34m\u001b[0m\u001b[0m\n\u001b[0;32m---> 56\u001b[0;31m         \u001b[0;32mreturn\u001b[0m \u001b[0mobj\u001b[0m\u001b[0;34m.\u001b[0m\u001b[0mto_dict\u001b[0m\u001b[0;34m(\u001b[0m\u001b[0mvalidate\u001b[0m\u001b[0;34m=\u001b[0m\u001b[0mvalidate\u001b[0m\u001b[0;34m,\u001b[0m \u001b[0mcontext\u001b[0m\u001b[0;34m=\u001b[0m\u001b[0mcontext\u001b[0m\u001b[0;34m)\u001b[0m\u001b[0;34m\u001b[0m\u001b[0;34m\u001b[0m\u001b[0m\n\u001b[0m\u001b[1;32m     57\u001b[0m     \u001b[0;32melif\u001b[0m \u001b[0misinstance\u001b[0m\u001b[0;34m(\u001b[0m\u001b[0mobj\u001b[0m\u001b[0;34m,\u001b[0m \u001b[0;34m(\u001b[0m\u001b[0mlist\u001b[0m\u001b[0;34m,\u001b[0m \u001b[0mtuple\u001b[0m\u001b[0;34m,\u001b[0m \u001b[0mnp\u001b[0m\u001b[0;34m.\u001b[0m\u001b[0mndarray\u001b[0m\u001b[0;34m)\u001b[0m\u001b[0;34m)\u001b[0m\u001b[0;34m:\u001b[0m\u001b[0;34m\u001b[0m\u001b[0;34m\u001b[0m\u001b[0m\n\u001b[1;32m     58\u001b[0m         \u001b[0;32mreturn\u001b[0m \u001b[0;34m[\u001b[0m\u001b[0m_todict\u001b[0m\u001b[0;34m(\u001b[0m\u001b[0mv\u001b[0m\u001b[0;34m,\u001b[0m \u001b[0mvalidate\u001b[0m\u001b[0;34m,\u001b[0m \u001b[0mcontext\u001b[0m\u001b[0;34m)\u001b[0m \u001b[0;32mfor\u001b[0m \u001b[0mv\u001b[0m \u001b[0;32min\u001b[0m \u001b[0mobj\u001b[0m\u001b[0;34m]\u001b[0m\u001b[0;34m\u001b[0m\u001b[0;34m\u001b[0m\u001b[0m\n",
      "\u001b[0;32m~/anaconda/envs/python-workshop/lib/python3.7/site-packages/altair/vegalite/v4/api.py\u001b[0m in \u001b[0;36mto_dict\u001b[0;34m(self, *args, **kwargs)\u001b[0m\n\u001b[1;32m    371\u001b[0m \u001b[0;34m\u001b[0m\u001b[0m\n\u001b[1;32m    372\u001b[0m         \u001b[0;32mtry\u001b[0m\u001b[0;34m:\u001b[0m\u001b[0;34m\u001b[0m\u001b[0;34m\u001b[0m\u001b[0m\n\u001b[0;32m--> 373\u001b[0;31m             \u001b[0mdct\u001b[0m \u001b[0;34m=\u001b[0m \u001b[0msuper\u001b[0m\u001b[0;34m(\u001b[0m\u001b[0mTopLevelMixin\u001b[0m\u001b[0;34m,\u001b[0m \u001b[0mcopy\u001b[0m\u001b[0;34m)\u001b[0m\u001b[0;34m.\u001b[0m\u001b[0mto_dict\u001b[0m\u001b[0;34m(\u001b[0m\u001b[0;34m*\u001b[0m\u001b[0margs\u001b[0m\u001b[0;34m,\u001b[0m \u001b[0;34m**\u001b[0m\u001b[0mkwargs\u001b[0m\u001b[0;34m)\u001b[0m\u001b[0;34m\u001b[0m\u001b[0;34m\u001b[0m\u001b[0m\n\u001b[0m\u001b[1;32m    374\u001b[0m         \u001b[0;32mexcept\u001b[0m \u001b[0mjsonschema\u001b[0m\u001b[0;34m.\u001b[0m\u001b[0mValidationError\u001b[0m\u001b[0;34m:\u001b[0m\u001b[0;34m\u001b[0m\u001b[0;34m\u001b[0m\u001b[0m\n\u001b[1;32m    375\u001b[0m             \u001b[0mdct\u001b[0m \u001b[0;34m=\u001b[0m \u001b[0;32mNone\u001b[0m\u001b[0;34m\u001b[0m\u001b[0;34m\u001b[0m\u001b[0m\n",
      "\u001b[0;32m~/anaconda/envs/python-workshop/lib/python3.7/site-packages/altair/utils/schemapi.py\u001b[0m in \u001b[0;36mto_dict\u001b[0;34m(self, validate, ignore, context)\u001b[0m\n\u001b[1;32m    326\u001b[0m                 \u001b[0;34m{\u001b[0m\u001b[0mk\u001b[0m\u001b[0;34m:\u001b[0m \u001b[0mv\u001b[0m \u001b[0;32mfor\u001b[0m \u001b[0mk\u001b[0m\u001b[0;34m,\u001b[0m \u001b[0mv\u001b[0m \u001b[0;32min\u001b[0m \u001b[0mself\u001b[0m\u001b[0;34m.\u001b[0m\u001b[0m_kwds\u001b[0m\u001b[0;34m.\u001b[0m\u001b[0mitems\u001b[0m\u001b[0;34m(\u001b[0m\u001b[0;34m)\u001b[0m \u001b[0;32mif\u001b[0m \u001b[0mk\u001b[0m \u001b[0;32mnot\u001b[0m \u001b[0;32min\u001b[0m \u001b[0mignore\u001b[0m\u001b[0;34m}\u001b[0m\u001b[0;34m,\u001b[0m\u001b[0;34m\u001b[0m\u001b[0;34m\u001b[0m\u001b[0m\n\u001b[1;32m    327\u001b[0m                 \u001b[0mvalidate\u001b[0m\u001b[0;34m=\u001b[0m\u001b[0msub_validate\u001b[0m\u001b[0;34m,\u001b[0m\u001b[0;34m\u001b[0m\u001b[0;34m\u001b[0m\u001b[0m\n\u001b[0;32m--> 328\u001b[0;31m                 \u001b[0mcontext\u001b[0m\u001b[0;34m=\u001b[0m\u001b[0mcontext\u001b[0m\u001b[0;34m,\u001b[0m\u001b[0;34m\u001b[0m\u001b[0;34m\u001b[0m\u001b[0m\n\u001b[0m\u001b[1;32m    329\u001b[0m             )\n\u001b[1;32m    330\u001b[0m         \u001b[0;32melse\u001b[0m\u001b[0;34m:\u001b[0m\u001b[0;34m\u001b[0m\u001b[0;34m\u001b[0m\u001b[0m\n",
      "\u001b[0;32m~/anaconda/envs/python-workshop/lib/python3.7/site-packages/altair/utils/schemapi.py\u001b[0m in \u001b[0;36m_todict\u001b[0;34m(obj, validate, context)\u001b[0m\n\u001b[1;32m     60\u001b[0m         return {\n\u001b[1;32m     61\u001b[0m             \u001b[0mk\u001b[0m\u001b[0;34m:\u001b[0m \u001b[0m_todict\u001b[0m\u001b[0;34m(\u001b[0m\u001b[0mv\u001b[0m\u001b[0;34m,\u001b[0m \u001b[0mvalidate\u001b[0m\u001b[0;34m,\u001b[0m \u001b[0mcontext\u001b[0m\u001b[0;34m)\u001b[0m\u001b[0;34m\u001b[0m\u001b[0;34m\u001b[0m\u001b[0m\n\u001b[0;32m---> 62\u001b[0;31m             \u001b[0;32mfor\u001b[0m \u001b[0mk\u001b[0m\u001b[0;34m,\u001b[0m \u001b[0mv\u001b[0m \u001b[0;32min\u001b[0m \u001b[0mobj\u001b[0m\u001b[0;34m.\u001b[0m\u001b[0mitems\u001b[0m\u001b[0;34m(\u001b[0m\u001b[0;34m)\u001b[0m\u001b[0;34m\u001b[0m\u001b[0;34m\u001b[0m\u001b[0m\n\u001b[0m\u001b[1;32m     63\u001b[0m             \u001b[0;32mif\u001b[0m \u001b[0mv\u001b[0m \u001b[0;32mis\u001b[0m \u001b[0;32mnot\u001b[0m \u001b[0mUndefined\u001b[0m\u001b[0;34m\u001b[0m\u001b[0;34m\u001b[0m\u001b[0m\n\u001b[1;32m     64\u001b[0m         }\n",
      "\u001b[0;32m~/anaconda/envs/python-workshop/lib/python3.7/site-packages/altair/utils/schemapi.py\u001b[0m in \u001b[0;36m<dictcomp>\u001b[0;34m(.0)\u001b[0m\n\u001b[1;32m     61\u001b[0m             \u001b[0mk\u001b[0m\u001b[0;34m:\u001b[0m \u001b[0m_todict\u001b[0m\u001b[0;34m(\u001b[0m\u001b[0mv\u001b[0m\u001b[0;34m,\u001b[0m \u001b[0mvalidate\u001b[0m\u001b[0;34m,\u001b[0m \u001b[0mcontext\u001b[0m\u001b[0;34m)\u001b[0m\u001b[0;34m\u001b[0m\u001b[0;34m\u001b[0m\u001b[0m\n\u001b[1;32m     62\u001b[0m             \u001b[0;32mfor\u001b[0m \u001b[0mk\u001b[0m\u001b[0;34m,\u001b[0m \u001b[0mv\u001b[0m \u001b[0;32min\u001b[0m \u001b[0mobj\u001b[0m\u001b[0;34m.\u001b[0m\u001b[0mitems\u001b[0m\u001b[0;34m(\u001b[0m\u001b[0;34m)\u001b[0m\u001b[0;34m\u001b[0m\u001b[0;34m\u001b[0m\u001b[0m\n\u001b[0;32m---> 63\u001b[0;31m             \u001b[0;32mif\u001b[0m \u001b[0mv\u001b[0m \u001b[0;32mis\u001b[0m \u001b[0;32mnot\u001b[0m \u001b[0mUndefined\u001b[0m\u001b[0;34m\u001b[0m\u001b[0;34m\u001b[0m\u001b[0m\n\u001b[0m\u001b[1;32m     64\u001b[0m         }\n\u001b[1;32m     65\u001b[0m     \u001b[0;32melif\u001b[0m \u001b[0mhasattr\u001b[0m\u001b[0;34m(\u001b[0m\u001b[0mobj\u001b[0m\u001b[0;34m,\u001b[0m \u001b[0;34m\"to_dict\"\u001b[0m\u001b[0;34m)\u001b[0m\u001b[0;34m:\u001b[0m\u001b[0;34m\u001b[0m\u001b[0;34m\u001b[0m\u001b[0m\n",
      "\u001b[0;32m~/anaconda/envs/python-workshop/lib/python3.7/site-packages/altair/utils/schemapi.py\u001b[0m in \u001b[0;36m_todict\u001b[0;34m(obj, validate, context)\u001b[0m\n\u001b[1;32m     54\u001b[0m     \u001b[0;34m\"\"\"Convert an object to a dict representation.\"\"\"\u001b[0m\u001b[0;34m\u001b[0m\u001b[0;34m\u001b[0m\u001b[0m\n\u001b[1;32m     55\u001b[0m     \u001b[0;32mif\u001b[0m \u001b[0misinstance\u001b[0m\u001b[0;34m(\u001b[0m\u001b[0mobj\u001b[0m\u001b[0;34m,\u001b[0m \u001b[0mSchemaBase\u001b[0m\u001b[0;34m)\u001b[0m\u001b[0;34m:\u001b[0m\u001b[0;34m\u001b[0m\u001b[0;34m\u001b[0m\u001b[0m\n\u001b[0;32m---> 56\u001b[0;31m         \u001b[0;32mreturn\u001b[0m \u001b[0mobj\u001b[0m\u001b[0;34m.\u001b[0m\u001b[0mto_dict\u001b[0m\u001b[0;34m(\u001b[0m\u001b[0mvalidate\u001b[0m\u001b[0;34m=\u001b[0m\u001b[0mvalidate\u001b[0m\u001b[0;34m,\u001b[0m \u001b[0mcontext\u001b[0m\u001b[0;34m=\u001b[0m\u001b[0mcontext\u001b[0m\u001b[0;34m)\u001b[0m\u001b[0;34m\u001b[0m\u001b[0;34m\u001b[0m\u001b[0m\n\u001b[0m\u001b[1;32m     57\u001b[0m     \u001b[0;32melif\u001b[0m \u001b[0misinstance\u001b[0m\u001b[0;34m(\u001b[0m\u001b[0mobj\u001b[0m\u001b[0;34m,\u001b[0m \u001b[0;34m(\u001b[0m\u001b[0mlist\u001b[0m\u001b[0;34m,\u001b[0m \u001b[0mtuple\u001b[0m\u001b[0;34m,\u001b[0m \u001b[0mnp\u001b[0m\u001b[0;34m.\u001b[0m\u001b[0mndarray\u001b[0m\u001b[0;34m)\u001b[0m\u001b[0;34m)\u001b[0m\u001b[0;34m:\u001b[0m\u001b[0;34m\u001b[0m\u001b[0;34m\u001b[0m\u001b[0m\n\u001b[1;32m     58\u001b[0m         \u001b[0;32mreturn\u001b[0m \u001b[0;34m[\u001b[0m\u001b[0m_todict\u001b[0m\u001b[0;34m(\u001b[0m\u001b[0mv\u001b[0m\u001b[0;34m,\u001b[0m \u001b[0mvalidate\u001b[0m\u001b[0;34m,\u001b[0m \u001b[0mcontext\u001b[0m\u001b[0;34m)\u001b[0m \u001b[0;32mfor\u001b[0m \u001b[0mv\u001b[0m \u001b[0;32min\u001b[0m \u001b[0mobj\u001b[0m\u001b[0;34m]\u001b[0m\u001b[0;34m\u001b[0m\u001b[0;34m\u001b[0m\u001b[0m\n",
      "\u001b[0;32m~/anaconda/envs/python-workshop/lib/python3.7/site-packages/altair/utils/schemapi.py\u001b[0m in \u001b[0;36mto_dict\u001b[0;34m(self, validate, ignore, context)\u001b[0m\n\u001b[1;32m    326\u001b[0m                 \u001b[0;34m{\u001b[0m\u001b[0mk\u001b[0m\u001b[0;34m:\u001b[0m \u001b[0mv\u001b[0m \u001b[0;32mfor\u001b[0m \u001b[0mk\u001b[0m\u001b[0;34m,\u001b[0m \u001b[0mv\u001b[0m \u001b[0;32min\u001b[0m \u001b[0mself\u001b[0m\u001b[0;34m.\u001b[0m\u001b[0m_kwds\u001b[0m\u001b[0;34m.\u001b[0m\u001b[0mitems\u001b[0m\u001b[0;34m(\u001b[0m\u001b[0;34m)\u001b[0m \u001b[0;32mif\u001b[0m \u001b[0mk\u001b[0m \u001b[0;32mnot\u001b[0m \u001b[0;32min\u001b[0m \u001b[0mignore\u001b[0m\u001b[0;34m}\u001b[0m\u001b[0;34m,\u001b[0m\u001b[0;34m\u001b[0m\u001b[0;34m\u001b[0m\u001b[0m\n\u001b[1;32m    327\u001b[0m                 \u001b[0mvalidate\u001b[0m\u001b[0;34m=\u001b[0m\u001b[0msub_validate\u001b[0m\u001b[0;34m,\u001b[0m\u001b[0;34m\u001b[0m\u001b[0;34m\u001b[0m\u001b[0m\n\u001b[0;32m--> 328\u001b[0;31m                 \u001b[0mcontext\u001b[0m\u001b[0;34m=\u001b[0m\u001b[0mcontext\u001b[0m\u001b[0;34m,\u001b[0m\u001b[0;34m\u001b[0m\u001b[0;34m\u001b[0m\u001b[0m\n\u001b[0m\u001b[1;32m    329\u001b[0m             )\n\u001b[1;32m    330\u001b[0m         \u001b[0;32melse\u001b[0m\u001b[0;34m:\u001b[0m\u001b[0;34m\u001b[0m\u001b[0;34m\u001b[0m\u001b[0m\n",
      "\u001b[0;32m~/anaconda/envs/python-workshop/lib/python3.7/site-packages/altair/utils/schemapi.py\u001b[0m in \u001b[0;36m_todict\u001b[0;34m(obj, validate, context)\u001b[0m\n\u001b[1;32m     60\u001b[0m         return {\n\u001b[1;32m     61\u001b[0m             \u001b[0mk\u001b[0m\u001b[0;34m:\u001b[0m \u001b[0m_todict\u001b[0m\u001b[0;34m(\u001b[0m\u001b[0mv\u001b[0m\u001b[0;34m,\u001b[0m \u001b[0mvalidate\u001b[0m\u001b[0;34m,\u001b[0m \u001b[0mcontext\u001b[0m\u001b[0;34m)\u001b[0m\u001b[0;34m\u001b[0m\u001b[0;34m\u001b[0m\u001b[0m\n\u001b[0;32m---> 62\u001b[0;31m             \u001b[0;32mfor\u001b[0m \u001b[0mk\u001b[0m\u001b[0;34m,\u001b[0m \u001b[0mv\u001b[0m \u001b[0;32min\u001b[0m \u001b[0mobj\u001b[0m\u001b[0;34m.\u001b[0m\u001b[0mitems\u001b[0m\u001b[0;34m(\u001b[0m\u001b[0;34m)\u001b[0m\u001b[0;34m\u001b[0m\u001b[0;34m\u001b[0m\u001b[0m\n\u001b[0m\u001b[1;32m     63\u001b[0m             \u001b[0;32mif\u001b[0m \u001b[0mv\u001b[0m \u001b[0;32mis\u001b[0m \u001b[0;32mnot\u001b[0m \u001b[0mUndefined\u001b[0m\u001b[0;34m\u001b[0m\u001b[0;34m\u001b[0m\u001b[0m\n\u001b[1;32m     64\u001b[0m         }\n",
      "\u001b[0;32m~/anaconda/envs/python-workshop/lib/python3.7/site-packages/altair/utils/schemapi.py\u001b[0m in \u001b[0;36m<dictcomp>\u001b[0;34m(.0)\u001b[0m\n\u001b[1;32m     61\u001b[0m             \u001b[0mk\u001b[0m\u001b[0;34m:\u001b[0m \u001b[0m_todict\u001b[0m\u001b[0;34m(\u001b[0m\u001b[0mv\u001b[0m\u001b[0;34m,\u001b[0m \u001b[0mvalidate\u001b[0m\u001b[0;34m,\u001b[0m \u001b[0mcontext\u001b[0m\u001b[0;34m)\u001b[0m\u001b[0;34m\u001b[0m\u001b[0;34m\u001b[0m\u001b[0m\n\u001b[1;32m     62\u001b[0m             \u001b[0;32mfor\u001b[0m \u001b[0mk\u001b[0m\u001b[0;34m,\u001b[0m \u001b[0mv\u001b[0m \u001b[0;32min\u001b[0m \u001b[0mobj\u001b[0m\u001b[0;34m.\u001b[0m\u001b[0mitems\u001b[0m\u001b[0;34m(\u001b[0m\u001b[0;34m)\u001b[0m\u001b[0;34m\u001b[0m\u001b[0;34m\u001b[0m\u001b[0m\n\u001b[0;32m---> 63\u001b[0;31m             \u001b[0;32mif\u001b[0m \u001b[0mv\u001b[0m \u001b[0;32mis\u001b[0m \u001b[0;32mnot\u001b[0m \u001b[0mUndefined\u001b[0m\u001b[0;34m\u001b[0m\u001b[0;34m\u001b[0m\u001b[0m\n\u001b[0m\u001b[1;32m     64\u001b[0m         }\n\u001b[1;32m     65\u001b[0m     \u001b[0;32melif\u001b[0m \u001b[0mhasattr\u001b[0m\u001b[0;34m(\u001b[0m\u001b[0mobj\u001b[0m\u001b[0;34m,\u001b[0m \u001b[0;34m\"to_dict\"\u001b[0m\u001b[0;34m)\u001b[0m\u001b[0;34m:\u001b[0m\u001b[0;34m\u001b[0m\u001b[0;34m\u001b[0m\u001b[0m\n",
      "\u001b[0;32m~/anaconda/envs/python-workshop/lib/python3.7/site-packages/altair/utils/schemapi.py\u001b[0m in \u001b[0;36m_todict\u001b[0;34m(obj, validate, context)\u001b[0m\n\u001b[1;32m     54\u001b[0m     \u001b[0;34m\"\"\"Convert an object to a dict representation.\"\"\"\u001b[0m\u001b[0;34m\u001b[0m\u001b[0;34m\u001b[0m\u001b[0m\n\u001b[1;32m     55\u001b[0m     \u001b[0;32mif\u001b[0m \u001b[0misinstance\u001b[0m\u001b[0;34m(\u001b[0m\u001b[0mobj\u001b[0m\u001b[0;34m,\u001b[0m \u001b[0mSchemaBase\u001b[0m\u001b[0;34m)\u001b[0m\u001b[0;34m:\u001b[0m\u001b[0;34m\u001b[0m\u001b[0;34m\u001b[0m\u001b[0m\n\u001b[0;32m---> 56\u001b[0;31m         \u001b[0;32mreturn\u001b[0m \u001b[0mobj\u001b[0m\u001b[0;34m.\u001b[0m\u001b[0mto_dict\u001b[0m\u001b[0;34m(\u001b[0m\u001b[0mvalidate\u001b[0m\u001b[0;34m=\u001b[0m\u001b[0mvalidate\u001b[0m\u001b[0;34m,\u001b[0m \u001b[0mcontext\u001b[0m\u001b[0;34m=\u001b[0m\u001b[0mcontext\u001b[0m\u001b[0;34m)\u001b[0m\u001b[0;34m\u001b[0m\u001b[0;34m\u001b[0m\u001b[0m\n\u001b[0m\u001b[1;32m     57\u001b[0m     \u001b[0;32melif\u001b[0m \u001b[0misinstance\u001b[0m\u001b[0;34m(\u001b[0m\u001b[0mobj\u001b[0m\u001b[0;34m,\u001b[0m \u001b[0;34m(\u001b[0m\u001b[0mlist\u001b[0m\u001b[0;34m,\u001b[0m \u001b[0mtuple\u001b[0m\u001b[0;34m,\u001b[0m \u001b[0mnp\u001b[0m\u001b[0;34m.\u001b[0m\u001b[0mndarray\u001b[0m\u001b[0;34m)\u001b[0m\u001b[0;34m)\u001b[0m\u001b[0;34m:\u001b[0m\u001b[0;34m\u001b[0m\u001b[0;34m\u001b[0m\u001b[0m\n\u001b[1;32m     58\u001b[0m         \u001b[0;32mreturn\u001b[0m \u001b[0;34m[\u001b[0m\u001b[0m_todict\u001b[0m\u001b[0;34m(\u001b[0m\u001b[0mv\u001b[0m\u001b[0;34m,\u001b[0m \u001b[0mvalidate\u001b[0m\u001b[0;34m,\u001b[0m \u001b[0mcontext\u001b[0m\u001b[0;34m)\u001b[0m \u001b[0;32mfor\u001b[0m \u001b[0mv\u001b[0m \u001b[0;32min\u001b[0m \u001b[0mobj\u001b[0m\u001b[0;34m]\u001b[0m\u001b[0;34m\u001b[0m\u001b[0;34m\u001b[0m\u001b[0m\n",
      "\u001b[0;32m~/anaconda/envs/python-workshop/lib/python3.7/site-packages/altair/vegalite/v4/schema/channels.py\u001b[0m in \u001b[0;36mto_dict\u001b[0;34m(self, validate, ignore, context)\u001b[0m\n\u001b[1;32m     40\u001b[0m                     raise ValueError(\"{} encoding field is specified without a type; \"\n\u001b[1;32m     41\u001b[0m                                      \u001b[0;34m\"the type cannot be inferred because it does not \"\u001b[0m\u001b[0;34m\u001b[0m\u001b[0;34m\u001b[0m\u001b[0m\n\u001b[0;32m---> 42\u001b[0;31m                                      \"match any column in the data.\".format(shorthand))\n\u001b[0m\u001b[1;32m     43\u001b[0m                 \u001b[0;32melse\u001b[0m\u001b[0;34m:\u001b[0m\u001b[0;34m\u001b[0m\u001b[0;34m\u001b[0m\u001b[0m\n\u001b[1;32m     44\u001b[0m                     raise ValueError(\"{} encoding field is specified without a type; \"\n",
      "\u001b[0;31mValueError\u001b[0m: New deaths encoding field is specified without a type; the type cannot be inferred because it does not match any column in the data."
     ]
    },
    {
     "data": {
      "text/plain": [
       "alt.LayerChart(...)"
      ]
     },
     "execution_count": 29,
     "metadata": {},
     "output_type": "execute_result"
    }
   ],
   "source": [
    "#hide_input\n",
    "bars = alt.Chart(data.reset_index()).mark_bar(opacity=0.7).encode(\n",
    "    x = alt.X('date:N', axis=alt.Axis(title='Date')),\n",
    "    y = alt.Y('new_deaths:Q', axis=alt.Axis(title='Deaths')),\n",
    "    tooltip = ['date', 'new_deaths'],\n",
    "    opacity=alt.Opacity('New deaths', legend=alt.Legend(title=\"\"))\n",
    ")\n",
    "\n",
    "line = alt.Chart(data.reset_index()).mark_line(point={\n",
    "      \"filled\": True,\n",
    "      \"fill\": \"firebrick\"\n",
    "    }, color='firebrick').encode(\n",
    "    x=alt.X('date:N', axis=alt.Axis(title='Date')),\n",
    "    y = alt.Y('rolling_new_deaths:Q'),\n",
    "    shape=alt.Shape('7-day rolling average', legend=alt.Legend(title=\"\"))\n",
    ")\n",
    "\n",
    "(bars + line).properties(\n",
    "    title='Covid-19 in Italy: Daily confirmed deaths',\n",
    "    width=700\n",
    ")"
   ]
  },
  {
   "cell_type": "markdown",
   "metadata": {},
   "source": [
    "So in around one month there were more than 9,000 deaths and the daily deaths were more than 900. I guess I could have made a point by comparing it to the average number of deaths in a month in the worst year (2016/2017 with 24,981 deaths, or around 2100 deaths per month or 68 per day), but the flu is highly seasonal so I don't think it would be convincing.\n",
    "\n",
    "And then on April 7, I found the mentioned tweet:"
   ]
  },
  {
   "cell_type": "markdown",
   "metadata": {},
   "source": [
    "> twitter: https://twitter.com/jperla/status/1247330008814632960"
   ]
  },
  {
   "cell_type": "markdown",
   "metadata": {},
   "source": [
    "I think it illustrates well what was important which was the growing rate. I had some people telling me that it didn't prove anything since the quantity of weekly deaths was smaller than the worst weeks of some years of the flu, but again what they're missing was the growing rate. \n",
    "\n",
    "So here I recreated the plot:"
   ]
  },
  {
   "cell_type": "code",
   "execution_count": 10,
   "metadata": {},
   "outputs": [],
   "source": [
    "#hide\n",
    "data_raw = pd.read_csv('https://raw.githubusercontent.com/alonsosilvaallende/COVID-19/master/data/National_Custom_Data.csv', thousands=',')"
   ]
  },
  {
   "cell_type": "code",
   "execution_count": 11,
   "metadata": {},
   "outputs": [],
   "source": [
    "#hide\n",
    "data_season_2018_2019 = data_raw.query(\"SEASON == '2018-19'\")\n",
    "data_season_2017_2018 = data_raw.query(\"SEASON == '2017-18'\")\n",
    "data_season_2016_2017 = data_raw.query(\"SEASON == '2016-17'\")\n",
    "data_season_2015_2016 = data_raw.query(\"SEASON == '2015-16'\")"
   ]
  },
  {
   "cell_type": "code",
   "execution_count": 12,
   "metadata": {},
   "outputs": [],
   "source": [
    "#hide\n",
    "total_deaths_US = full_data[full_data['location'].str.contains('United States')]['total_deaths']\n",
    "total_deaths_US = total_deaths_US[total_deaths_US>0]"
   ]
  },
  {
   "cell_type": "code",
   "execution_count": 27,
   "metadata": {},
   "outputs": [
    {
     "data": {
      "text/plain": [
       "14279"
      ]
     },
     "execution_count": 27,
     "metadata": {},
     "output_type": "execute_result"
    }
   ],
   "source": [
    "total_deaths_US.iloc[56] - total_deaths_US.iloc[49]"
   ]
  },
  {
   "cell_type": "code",
   "execution_count": 26,
   "metadata": {},
   "outputs": [
    {
     "data": {
      "text/plain": [
       "(20608, 38910, 53189)"
      ]
     },
     "execution_count": 26,
     "metadata": {},
     "output_type": "execute_result"
    }
   ],
   "source": [
    "total_deaths_US.iloc[i+42], total_deaths_US.iloc[i+49], total_deaths_US.iloc[56]"
   ]
  },
  {
   "cell_type": "code",
   "execution_count": 30,
   "metadata": {},
   "outputs": [],
   "source": [
    "i = 0"
   ]
  },
  {
   "cell_type": "code",
   "execution_count": 34,
   "metadata": {},
   "outputs": [
    {
     "data": {
      "text/plain": [
       "1"
      ]
     },
     "execution_count": 34,
     "metadata": {},
     "output_type": "execute_result"
    }
   ],
   "source": [
    "total_deaths_US.iloc[i]"
   ]
  },
  {
   "cell_type": "code",
   "execution_count": 35,
   "metadata": {},
   "outputs": [
    {
     "data": {
      "text/plain": [
       "1"
      ]
     },
     "execution_count": 35,
     "metadata": {},
     "output_type": "execute_result"
    }
   ],
   "source": [
    "Week_09 = total_deaths_US.iloc[i]\n",
    "Week_09"
   ]
  },
  {
   "cell_type": "code",
   "execution_count": 39,
   "metadata": {},
   "outputs": [
    {
     "data": {
      "text/plain": [
       "17"
      ]
     },
     "execution_count": 39,
     "metadata": {},
     "output_type": "execute_result"
    }
   ],
   "source": [
    "total_deaths_US.iloc[i+7]"
   ]
  },
  {
   "cell_type": "code",
   "execution_count": 41,
   "metadata": {},
   "outputs": [
    {
     "data": {
      "text/plain": [
       "16"
      ]
     },
     "execution_count": 41,
     "metadata": {},
     "output_type": "execute_result"
    }
   ],
   "source": [
    "Week_10 = total_deaths_US.iloc[i+7] - Week_09\n",
    "Week_10"
   ]
  },
  {
   "cell_type": "code",
   "execution_count": 49,
   "metadata": {},
   "outputs": [
    {
     "data": {
      "text/plain": [
       "24911"
      ]
     },
     "execution_count": 49,
     "metadata": {},
     "output_type": "execute_result"
    }
   ],
   "source": [
    "total_deaths_US.iloc[i+49] - 13999"
   ]
  },
  {
   "cell_type": "code",
   "execution_count": 48,
   "metadata": {},
   "outputs": [
    {
     "data": {
      "text/plain": [
       "53189"
      ]
     },
     "execution_count": 48,
     "metadata": {},
     "output_type": "execute_result"
    }
   ],
   "source": [
    "total_deaths_US.iloc[i+56] - 24911"
   ]
  },
  {
   "cell_type": "code",
   "execution_count": 50,
   "metadata": {},
   "outputs": [],
   "source": [
    "#hide\n",
    "i = 0\n",
    "Week_09 = total_deaths_US.iloc[i]\n",
    "Week_10 = total_deaths_US.iloc[i+7]  - total_deaths_US.iloc[i]\n",
    "Week_11 = total_deaths_US.iloc[i+14] - total_deaths_US.iloc[i+7]\n",
    "Week_12 = total_deaths_US.iloc[i+21] - total_deaths_US.iloc[i+14]\n",
    "Week_13 = total_deaths_US.iloc[i+28] - total_deaths_US.iloc[i+21]\n",
    "Week_14 = total_deaths_US.iloc[i+35] - total_deaths_US.iloc[i+28]\n",
    "Week_15 = total_deaths_US.iloc[i+42] - total_deaths_US.iloc[i+35]\n",
    "Week_16 = total_deaths_US.iloc[i+49] - total_deaths_US.iloc[i+42]\n",
    "Week_17 = total_deaths_US.iloc[i+56] - total_deaths_US.iloc[i+49]"
   ]
  },
  {
   "cell_type": "code",
   "execution_count": 51,
   "metadata": {},
   "outputs": [
    {
     "data": {
      "text/plain": [
       "[1, 16, 40, 283, 1851, 6310, 12107, 18302, 14279]"
      ]
     },
     "execution_count": 51,
     "metadata": {},
     "output_type": "execute_result"
    }
   ],
   "source": [
    "#hide\n",
    "deaths_covid = [Week_09, Week_10, Week_11, Week_12, Week_13, Week_14, Week_15, Week_16, Week_17]\n",
    "deaths_covid"
   ]
  },
  {
   "cell_type": "code",
   "execution_count": 52,
   "metadata": {},
   "outputs": [
    {
     "name": "stderr",
     "output_type": "stream",
     "text": [
      "/Users/alonsosilva/anaconda/envs/python-workshop/lib/python3.7/site-packages/pandas/core/indexing.py:205: SettingWithCopyWarning: \n",
      "A value is trying to be set on a copy of a slice from a DataFrame\n",
      "\n",
      "See the caveats in the documentation: http://pandas.pydata.org/pandas-docs/stable/user_guide/indexing.html#returning-a-view-versus-a-copy\n",
      "  self._setitem_with_indexer(indexer, value)\n"
     ]
    }
   ],
   "source": [
    "#hide\n",
    "data = pd.DataFrame()\n",
    "data[\"Weeks\"] = [f\"w{i}\" for i in np.arange(40,53)]+[f\"w0{i}\" for i in np.arange(1,10)] + [f\"w{i}\" for i in np.arange(10,40)]\n",
    "data[\"Season 2018-2019\"] = (data_season_2018_2019['NUM INFLUENZA DEATHS']+data_season_2018_2019['NUM PNEUMONIA DEATHS']).reset_index(drop=True)\n",
    "data[\"Season 2017-2018\"] = (data_season_2017_2018['NUM INFLUENZA DEATHS']+data_season_2017_2018['NUM PNEUMONIA DEATHS']).reset_index(drop=True)\n",
    "data[\"Season 2016-2017\"] = (data_season_2016_2017['NUM INFLUENZA DEATHS']+data_season_2016_2017['NUM PNEUMONIA DEATHS']).reset_index(drop=True)\n",
    "data[\"Season 2015-2016\"] = (data_season_2015_2016['NUM INFLUENZA DEATHS']+data_season_2015_2016['NUM PNEUMONIA DEATHS']).reset_index(drop=True)\n",
    "\n",
    "\n",
    "data[\"Covid-19\"] = len(data) * np.nan\n",
    "data[\"Covid-19\"].iloc[21:27] = deaths_covid[:-3]\n",
    "\n",
    "data = data.melt(\"Weeks\")\n",
    "data[\"codigo\"] = [i for i in np.arange(52)]*5"
   ]
  },
  {
   "cell_type": "code",
   "execution_count": 53,
   "metadata": {},
   "outputs": [
    {
     "data": {
      "text/html": [
       "\n",
       "<div id=\"altair-viz-7bc4490bd123454eb7e68d932922e0c4\"></div>\n",
       "<script type=\"text/javascript\">\n",
       "  (function(spec, embedOpt){\n",
       "    let outputDiv = document.currentScript.previousElementSibling;\n",
       "    if (outputDiv.id !== \"altair-viz-7bc4490bd123454eb7e68d932922e0c4\") {\n",
       "      outputDiv = document.getElementById(\"altair-viz-7bc4490bd123454eb7e68d932922e0c4\");\n",
       "    }\n",
       "    const paths = {\n",
       "      \"vega\": \"https://cdn.jsdelivr.net/npm//vega@5?noext\",\n",
       "      \"vega-lib\": \"https://cdn.jsdelivr.net/npm//vega-lib?noext\",\n",
       "      \"vega-lite\": \"https://cdn.jsdelivr.net/npm//vega-lite@4.8.1?noext\",\n",
       "      \"vega-embed\": \"https://cdn.jsdelivr.net/npm//vega-embed@6?noext\",\n",
       "    };\n",
       "\n",
       "    function loadScript(lib) {\n",
       "      return new Promise(function(resolve, reject) {\n",
       "        var s = document.createElement('script');\n",
       "        s.src = paths[lib];\n",
       "        s.async = true;\n",
       "        s.onload = () => resolve(paths[lib]);\n",
       "        s.onerror = () => reject(`Error loading script: ${paths[lib]}`);\n",
       "        document.getElementsByTagName(\"head\")[0].appendChild(s);\n",
       "      });\n",
       "    }\n",
       "\n",
       "    function showError(err) {\n",
       "      outputDiv.innerHTML = `<div class=\"error\" style=\"color:red;\">${err}</div>`;\n",
       "      throw err;\n",
       "    }\n",
       "\n",
       "    function displayChart(vegaEmbed) {\n",
       "      vegaEmbed(outputDiv, spec, embedOpt)\n",
       "        .catch(err => showError(`Javascript Error: ${err.message}<br>This usually means there's a typo in your chart specification. See the javascript console for the full traceback.`));\n",
       "    }\n",
       "\n",
       "    if(typeof define === \"function\" && define.amd) {\n",
       "      requirejs.config({paths});\n",
       "      require([\"vega-embed\"], displayChart, err => showError(`Error loading script: ${err.message}`));\n",
       "    } else if (typeof vegaEmbed === \"function\") {\n",
       "      displayChart(vegaEmbed);\n",
       "    } else {\n",
       "      loadScript(\"vega\")\n",
       "        .then(() => loadScript(\"vega-lite\"))\n",
       "        .then(() => loadScript(\"vega-embed\"))\n",
       "        .catch(showError)\n",
       "        .then(() => displayChart(vegaEmbed));\n",
       "    }\n",
       "  })({\"config\": {\"view\": {\"continuousWidth\": 400, \"continuousHeight\": 300}}, \"layer\": [{\"mark\": {\"type\": \"line\", \"point\": true}, \"encoding\": {\"color\": {\"type\": \"nominal\", \"field\": \"variable\", \"legend\": {\"title\": \"\"}, \"scale\": {\"range\": [\"#d62728\", \"#1f77b4\", \"#ff7f0b\", \"#2ca02c\", \"#9467bd\"]}}, \"order\": {\"type\": \"quantitative\", \"field\": \"codigo\"}, \"x\": {\"type\": \"nominal\", \"axis\": {\"title\": \"Week of Flu Season\"}, \"field\": \"Weeks\", \"sort\": null}, \"y\": {\"type\": \"quantitative\", \"axis\": {\"title\": \"Weekly Deaths\"}, \"field\": \"value\"}}}, {\"mark\": {\"type\": \"rule\", \"color\": \"#aaa\"}, \"encoding\": {\"x\": {\"type\": \"nominal\", \"axis\": {\"title\": \"Week of Flu Season\"}, \"field\": \"Weeks\", \"sort\": null}}, \"transform\": [{\"filter\": {\"selection\": \"selector006\"}}]}, {\"mark\": \"circle\", \"encoding\": {\"color\": {\"type\": \"nominal\", \"field\": \"variable\", \"legend\": {\"title\": \"\"}, \"scale\": {\"range\": [\"#d62728\", \"#1f77b4\", \"#ff7f0b\", \"#2ca02c\", \"#9467bd\"]}}, \"opacity\": {\"condition\": {\"value\": 1, \"selection\": \"selector006\"}, \"value\": 0}, \"order\": {\"type\": \"quantitative\", \"field\": \"codigo\"}, \"x\": {\"type\": \"nominal\", \"axis\": {\"title\": \"Week of Flu Season\"}, \"field\": \"Weeks\", \"sort\": null}, \"y\": {\"type\": \"quantitative\", \"axis\": {\"title\": \"Weekly Deaths\"}, \"field\": \"value\"}}, \"selection\": {\"selector006\": {\"type\": \"single\", \"encodings\": [\"x\"], \"on\": \"mouseover\", \"nearest\": true, \"empty\": \"none\"}}}, {\"mark\": {\"type\": \"text\", \"align\": \"left\", \"dx\": 5, \"dy\": -5, \"stroke\": \"white\", \"strokeWidth\": 2}, \"encoding\": {\"color\": {\"type\": \"nominal\", \"field\": \"variable\", \"legend\": {\"title\": \"\"}, \"scale\": {\"range\": [\"#d62728\", \"#1f77b4\", \"#ff7f0b\", \"#2ca02c\", \"#9467bd\"]}}, \"order\": {\"type\": \"quantitative\", \"field\": \"codigo\"}, \"text\": {\"type\": \"quantitative\", \"field\": \"value\"}, \"x\": {\"type\": \"nominal\", \"axis\": {\"title\": \"Week of Flu Season\"}, \"field\": \"Weeks\", \"sort\": null}, \"y\": {\"type\": \"quantitative\", \"axis\": {\"title\": \"Weekly Deaths\"}, \"field\": \"value\"}}, \"transform\": [{\"filter\": {\"selection\": \"selector006\"}}]}, {\"mark\": {\"type\": \"text\", \"align\": \"left\", \"dx\": 5, \"dy\": -5}, \"encoding\": {\"color\": {\"type\": \"nominal\", \"field\": \"variable\", \"legend\": {\"title\": \"\"}, \"scale\": {\"range\": [\"#d62728\", \"#1f77b4\", \"#ff7f0b\", \"#2ca02c\", \"#9467bd\"]}}, \"order\": {\"type\": \"quantitative\", \"field\": \"codigo\"}, \"text\": {\"type\": \"quantitative\", \"field\": \"value\"}, \"x\": {\"type\": \"nominal\", \"axis\": {\"title\": \"Week of Flu Season\"}, \"field\": \"Weeks\", \"sort\": null}, \"y\": {\"type\": \"quantitative\", \"axis\": {\"title\": \"Weekly Deaths\"}, \"field\": \"value\"}}, \"transform\": [{\"filter\": {\"selection\": \"selector006\"}}]}], \"data\": {\"name\": \"data-7f7516bc8e9c679b11dc63f104dbd30e\"}, \"title\": \"Covid-19 vs Flu: Weekly deaths up to week 14\", \"width\": 700, \"$schema\": \"https://vega.github.io/schema/vega-lite/v4.8.1.json\", \"datasets\": {\"data-7f7516bc8e9c679b11dc63f104dbd30e\": [{\"Weeks\": \"w40\", \"variable\": \"Season 2018-2019\", \"value\": 2979.0, \"codigo\": 0}, {\"Weeks\": \"w41\", \"variable\": \"Season 2018-2019\", \"value\": 2878.0, \"codigo\": 1}, {\"Weeks\": \"w42\", \"variable\": \"Season 2018-2019\", \"value\": 3005.0, \"codigo\": 2}, {\"Weeks\": \"w43\", \"variable\": \"Season 2018-2019\", \"value\": 3089.0, \"codigo\": 3}, {\"Weeks\": \"w44\", \"variable\": \"Season 2018-2019\", \"value\": 3028.0, \"codigo\": 4}, {\"Weeks\": \"w45\", \"variable\": \"Season 2018-2019\", \"value\": 3050.0, \"codigo\": 5}, {\"Weeks\": \"w46\", \"variable\": \"Season 2018-2019\", \"value\": 3168.0, \"codigo\": 6}, {\"Weeks\": \"w47\", \"variable\": \"Season 2018-2019\", \"value\": 3209.0, \"codigo\": 7}, {\"Weeks\": \"w48\", \"variable\": \"Season 2018-2019\", \"value\": 3325.0, \"codigo\": 8}, {\"Weeks\": \"w49\", \"variable\": \"Season 2018-2019\", \"value\": 3455.0, \"codigo\": 9}, {\"Weeks\": \"w50\", \"variable\": \"Season 2018-2019\", \"value\": 3603.0, \"codigo\": 10}, {\"Weeks\": \"w51\", \"variable\": \"Season 2018-2019\", \"value\": 3578.0, \"codigo\": 11}, {\"Weeks\": \"w52\", \"variable\": \"Season 2018-2019\", \"value\": 3776.0, \"codigo\": 12}, {\"Weeks\": \"w01\", \"variable\": \"Season 2018-2019\", \"value\": 4128.0, \"codigo\": 13}, {\"Weeks\": \"w02\", \"variable\": \"Season 2018-2019\", \"value\": 4315.0, \"codigo\": 14}, {\"Weeks\": \"w03\", \"variable\": \"Season 2018-2019\", \"value\": 4340.0, \"codigo\": 15}, {\"Weeks\": \"w04\", \"variable\": \"Season 2018-2019\", \"value\": 4169.0, \"codigo\": 16}, {\"Weeks\": \"w05\", \"variable\": \"Season 2018-2019\", \"value\": 4215.0, \"codigo\": 17}, {\"Weeks\": \"w06\", \"variable\": \"Season 2018-2019\", \"value\": 4255.0, \"codigo\": 18}, {\"Weeks\": \"w07\", \"variable\": \"Season 2018-2019\", \"value\": 4372.0, \"codigo\": 19}, {\"Weeks\": \"w08\", \"variable\": \"Season 2018-2019\", \"value\": 4447.0, \"codigo\": 20}, {\"Weeks\": \"w09\", \"variable\": \"Season 2018-2019\", \"value\": 4269.0, \"codigo\": 21}, {\"Weeks\": \"w10\", \"variable\": \"Season 2018-2019\", \"value\": 4290.0, \"codigo\": 22}, {\"Weeks\": \"w11\", \"variable\": \"Season 2018-2019\", \"value\": 4489.0, \"codigo\": 23}, {\"Weeks\": \"w12\", \"variable\": \"Season 2018-2019\", \"value\": 4274.0, \"codigo\": 24}, {\"Weeks\": \"w13\", \"variable\": \"Season 2018-2019\", \"value\": 4171.0, \"codigo\": 25}, {\"Weeks\": \"w14\", \"variable\": \"Season 2018-2019\", \"value\": 3974.0, \"codigo\": 26}, {\"Weeks\": \"w15\", \"variable\": \"Season 2018-2019\", \"value\": 3750.0, \"codigo\": 27}, {\"Weeks\": \"w16\", \"variable\": \"Season 2018-2019\", \"value\": 3611.0, \"codigo\": 28}, {\"Weeks\": \"w17\", \"variable\": \"Season 2018-2019\", \"value\": 3424.0, \"codigo\": 29}, {\"Weeks\": \"w18\", \"variable\": \"Season 2018-2019\", \"value\": 3320.0, \"codigo\": 30}, {\"Weeks\": \"w19\", \"variable\": \"Season 2018-2019\", \"value\": 3296.0, \"codigo\": 31}, {\"Weeks\": \"w20\", \"variable\": \"Season 2018-2019\", \"value\": 3203.0, \"codigo\": 32}, {\"Weeks\": \"w21\", \"variable\": \"Season 2018-2019\", \"value\": 3179.0, \"codigo\": 33}, {\"Weeks\": \"w22\", \"variable\": \"Season 2018-2019\", \"value\": 3149.0, \"codigo\": 34}, {\"Weeks\": \"w23\", \"variable\": \"Season 2018-2019\", \"value\": 3063.0, \"codigo\": 35}, {\"Weeks\": \"w24\", \"variable\": \"Season 2018-2019\", \"value\": 2946.0, \"codigo\": 36}, {\"Weeks\": \"w25\", \"variable\": \"Season 2018-2019\", \"value\": 2963.0, \"codigo\": 37}, {\"Weeks\": \"w26\", \"variable\": \"Season 2018-2019\", \"value\": 2911.0, \"codigo\": 38}, {\"Weeks\": \"w27\", \"variable\": \"Season 2018-2019\", \"value\": 2868.0, \"codigo\": 39}, {\"Weeks\": \"w28\", \"variable\": \"Season 2018-2019\", \"value\": 2781.0, \"codigo\": 40}, {\"Weeks\": \"w29\", \"variable\": \"Season 2018-2019\", \"value\": 2684.0, \"codigo\": 41}, {\"Weeks\": \"w30\", \"variable\": \"Season 2018-2019\", \"value\": 2767.0, \"codigo\": 42}, {\"Weeks\": \"w31\", \"variable\": \"Season 2018-2019\", \"value\": 2738.0, \"codigo\": 43}, {\"Weeks\": \"w32\", \"variable\": \"Season 2018-2019\", \"value\": 2644.0, \"codigo\": 44}, {\"Weeks\": \"w33\", \"variable\": \"Season 2018-2019\", \"value\": 2610.0, \"codigo\": 45}, {\"Weeks\": \"w34\", \"variable\": \"Season 2018-2019\", \"value\": 2600.0, \"codigo\": 46}, {\"Weeks\": \"w35\", \"variable\": \"Season 2018-2019\", \"value\": 2624.0, \"codigo\": 47}, {\"Weeks\": \"w36\", \"variable\": \"Season 2018-2019\", \"value\": 2590.0, \"codigo\": 48}, {\"Weeks\": \"w37\", \"variable\": \"Season 2018-2019\", \"value\": 2527.0, \"codigo\": 49}, {\"Weeks\": \"w38\", \"variable\": \"Season 2018-2019\", \"value\": 2721.0, \"codigo\": 50}, {\"Weeks\": \"w39\", \"variable\": \"Season 2018-2019\", \"value\": 2788.0, \"codigo\": 51}, {\"Weeks\": \"w40\", \"variable\": \"Season 2017-2018\", \"value\": 3038.0, \"codigo\": 0}, {\"Weeks\": \"w41\", \"variable\": \"Season 2017-2018\", \"value\": 3019.0, \"codigo\": 1}, {\"Weeks\": \"w42\", \"variable\": \"Season 2017-2018\", \"value\": 3184.0, \"codigo\": 2}, {\"Weeks\": \"w43\", \"variable\": \"Season 2017-2018\", \"value\": 3302.0, \"codigo\": 3}, {\"Weeks\": \"w44\", \"variable\": \"Season 2017-2018\", \"value\": 3251.0, \"codigo\": 4}, {\"Weeks\": \"w45\", \"variable\": \"Season 2017-2018\", \"value\": 3225.0, \"codigo\": 5}, {\"Weeks\": \"w46\", \"variable\": \"Season 2017-2018\", \"value\": 3365.0, \"codigo\": 6}, {\"Weeks\": \"w47\", \"variable\": \"Season 2017-2018\", \"value\": 3250.0, \"codigo\": 7}, {\"Weeks\": \"w48\", \"variable\": \"Season 2017-2018\", \"value\": 3576.0, \"codigo\": 8}, {\"Weeks\": \"w49\", \"variable\": \"Season 2017-2018\", \"value\": 3646.0, \"codigo\": 9}, {\"Weeks\": \"w50\", \"variable\": \"Season 2017-2018\", \"value\": 3924.0, \"codigo\": 10}, {\"Weeks\": \"w51\", \"variable\": \"Season 2017-2018\", \"value\": 4346.0, \"codigo\": 11}, {\"Weeks\": \"w52\", \"variable\": \"Season 2017-2018\", \"value\": 5089.0, \"codigo\": 12}, {\"Weeks\": \"w01\", \"variable\": \"Season 2017-2018\", \"value\": 6321.0, \"codigo\": 13}, {\"Weeks\": \"w02\", \"variable\": \"Season 2017-2018\", \"value\": 7119.0, \"codigo\": 14}, {\"Weeks\": \"w03\", \"variable\": \"Season 2017-2018\", \"value\": 7038.0, \"codigo\": 15}, {\"Weeks\": \"w04\", \"variable\": \"Season 2017-2018\", \"value\": 6635.0, \"codigo\": 16}, {\"Weeks\": \"w05\", \"variable\": \"Season 2017-2018\", \"value\": 6237.0, \"codigo\": 17}, {\"Weeks\": \"w06\", \"variable\": \"Season 2017-2018\", \"value\": 5932.0, \"codigo\": 18}, {\"Weeks\": \"w07\", \"variable\": \"Season 2017-2018\", \"value\": 5778.0, \"codigo\": 19}, {\"Weeks\": \"w08\", \"variable\": \"Season 2017-2018\", \"value\": 5318.0, \"codigo\": 20}, {\"Weeks\": \"w09\", \"variable\": \"Season 2017-2018\", \"value\": 4782.0, \"codigo\": 21}, {\"Weeks\": \"w10\", \"variable\": \"Season 2017-2018\", \"value\": 4568.0, \"codigo\": 22}, {\"Weeks\": \"w11\", \"variable\": \"Season 2017-2018\", \"value\": 4297.0, \"codigo\": 23}, {\"Weeks\": \"w12\", \"variable\": \"Season 2017-2018\", \"value\": 4138.0, \"codigo\": 24}, {\"Weeks\": \"w13\", \"variable\": \"Season 2017-2018\", \"value\": 4063.0, \"codigo\": 25}, {\"Weeks\": \"w14\", \"variable\": \"Season 2017-2018\", \"value\": 3998.0, \"codigo\": 26}, {\"Weeks\": \"w15\", \"variable\": \"Season 2017-2018\", \"value\": 3804.0, \"codigo\": 27}, {\"Weeks\": \"w16\", \"variable\": \"Season 2017-2018\", \"value\": 3582.0, \"codigo\": 28}, {\"Weeks\": \"w17\", \"variable\": \"Season 2017-2018\", \"value\": 3513.0, \"codigo\": 29}, {\"Weeks\": \"w18\", \"variable\": \"Season 2017-2018\", \"value\": 3304.0, \"codigo\": 30}, {\"Weeks\": \"w19\", \"variable\": \"Season 2017-2018\", \"value\": 3085.0, \"codigo\": 31}, {\"Weeks\": \"w20\", \"variable\": \"Season 2017-2018\", \"value\": 2998.0, \"codigo\": 32}, {\"Weeks\": \"w21\", \"variable\": \"Season 2017-2018\", \"value\": 2977.0, \"codigo\": 33}, {\"Weeks\": \"w22\", \"variable\": \"Season 2017-2018\", \"value\": 2931.0, \"codigo\": 34}, {\"Weeks\": \"w23\", \"variable\": \"Season 2017-2018\", \"value\": 2922.0, \"codigo\": 35}, {\"Weeks\": \"w24\", \"variable\": \"Season 2017-2018\", \"value\": 2949.0, \"codigo\": 36}, {\"Weeks\": \"w25\", \"variable\": \"Season 2017-2018\", \"value\": 2872.0, \"codigo\": 37}, {\"Weeks\": \"w26\", \"variable\": \"Season 2017-2018\", \"value\": 2877.0, \"codigo\": 38}, {\"Weeks\": \"w27\", \"variable\": \"Season 2017-2018\", \"value\": 2779.0, \"codigo\": 39}, {\"Weeks\": \"w28\", \"variable\": \"Season 2017-2018\", \"value\": 2786.0, \"codigo\": 40}, {\"Weeks\": \"w29\", \"variable\": \"Season 2017-2018\", \"value\": 2714.0, \"codigo\": 41}, {\"Weeks\": \"w30\", \"variable\": \"Season 2017-2018\", \"value\": 2709.0, \"codigo\": 42}, {\"Weeks\": \"w31\", \"variable\": \"Season 2017-2018\", \"value\": 2665.0, \"codigo\": 43}, {\"Weeks\": \"w32\", \"variable\": \"Season 2017-2018\", \"value\": 2683.0, \"codigo\": 44}, {\"Weeks\": \"w33\", \"variable\": \"Season 2017-2018\", \"value\": 2622.0, \"codigo\": 45}, {\"Weeks\": \"w34\", \"variable\": \"Season 2017-2018\", \"value\": 2723.0, \"codigo\": 46}, {\"Weeks\": \"w35\", \"variable\": \"Season 2017-2018\", \"value\": 2636.0, \"codigo\": 47}, {\"Weeks\": \"w36\", \"variable\": \"Season 2017-2018\", \"value\": 2755.0, \"codigo\": 48}, {\"Weeks\": \"w37\", \"variable\": \"Season 2017-2018\", \"value\": 2769.0, \"codigo\": 49}, {\"Weeks\": \"w38\", \"variable\": \"Season 2017-2018\", \"value\": 2830.0, \"codigo\": 50}, {\"Weeks\": \"w39\", \"variable\": \"Season 2017-2018\", \"value\": 2828.0, \"codigo\": 51}, {\"Weeks\": \"w40\", \"variable\": \"Season 2016-2017\", \"value\": 3042.0, \"codigo\": 0}, {\"Weeks\": \"w41\", \"variable\": \"Season 2016-2017\", \"value\": 3204.0, \"codigo\": 1}, {\"Weeks\": \"w42\", \"variable\": \"Season 2016-2017\", \"value\": 3185.0, \"codigo\": 2}, {\"Weeks\": \"w43\", \"variable\": \"Season 2016-2017\", \"value\": 3147.0, \"codigo\": 3}, {\"Weeks\": \"w44\", \"variable\": \"Season 2016-2017\", \"value\": 3116.0, \"codigo\": 4}, {\"Weeks\": \"w45\", \"variable\": \"Season 2016-2017\", \"value\": 3226.0, \"codigo\": 5}, {\"Weeks\": \"w46\", \"variable\": \"Season 2016-2017\", \"value\": 3199.0, \"codigo\": 6}, {\"Weeks\": \"w47\", \"variable\": \"Season 2016-2017\", \"value\": 3277.0, \"codigo\": 7}, {\"Weeks\": \"w48\", \"variable\": \"Season 2016-2017\", \"value\": 3544.0, \"codigo\": 8}, {\"Weeks\": \"w49\", \"variable\": \"Season 2016-2017\", \"value\": 3649.0, \"codigo\": 9}, {\"Weeks\": \"w50\", \"variable\": \"Season 2016-2017\", \"value\": 3824.0, \"codigo\": 10}, {\"Weeks\": \"w51\", \"variable\": \"Season 2016-2017\", \"value\": 3829.0, \"codigo\": 11}, {\"Weeks\": \"w52\", \"variable\": \"Season 2016-2017\", \"value\": 4262.0, \"codigo\": 12}, {\"Weeks\": \"w01\", \"variable\": \"Season 2016-2017\", \"value\": 4847.0, \"codigo\": 13}, {\"Weeks\": \"w02\", \"variable\": \"Season 2016-2017\", \"value\": 4873.0, \"codigo\": 14}, {\"Weeks\": \"w03\", \"variable\": \"Season 2016-2017\", \"value\": 4994.0, \"codigo\": 15}, {\"Weeks\": \"w04\", \"variable\": \"Season 2016-2017\", \"value\": 4794.0, \"codigo\": 16}, {\"Weeks\": \"w05\", \"variable\": \"Season 2016-2017\", \"value\": 4803.0, \"codigo\": 17}, {\"Weeks\": \"w06\", \"variable\": \"Season 2016-2017\", \"value\": 4866.0, \"codigo\": 18}, {\"Weeks\": \"w07\", \"variable\": \"Season 2016-2017\", \"value\": 4964.0, \"codigo\": 19}, {\"Weeks\": \"w08\", \"variable\": \"Season 2016-2017\", \"value\": 4974.0, \"codigo\": 20}, {\"Weeks\": \"w09\", \"variable\": \"Season 2016-2017\", \"value\": 4794.0, \"codigo\": 21}, {\"Weeks\": \"w10\", \"variable\": \"Season 2016-2017\", \"value\": 4695.0, \"codigo\": 22}, {\"Weeks\": \"w11\", \"variable\": \"Season 2016-2017\", \"value\": 4476.0, \"codigo\": 23}, {\"Weeks\": \"w12\", \"variable\": \"Season 2016-2017\", \"value\": 4410.0, \"codigo\": 24}, {\"Weeks\": \"w13\", \"variable\": \"Season 2016-2017\", \"value\": 4220.0, \"codigo\": 25}, {\"Weeks\": \"w14\", \"variable\": \"Season 2016-2017\", \"value\": 4087.0, \"codigo\": 26}, {\"Weeks\": \"w15\", \"variable\": \"Season 2016-2017\", \"value\": 3984.0, \"codigo\": 27}, {\"Weeks\": \"w16\", \"variable\": \"Season 2016-2017\", \"value\": 3651.0, \"codigo\": 28}, {\"Weeks\": \"w17\", \"variable\": \"Season 2016-2017\", \"value\": 3548.0, \"codigo\": 29}, {\"Weeks\": \"w18\", \"variable\": \"Season 2016-2017\", \"value\": 3371.0, \"codigo\": 30}, {\"Weeks\": \"w19\", \"variable\": \"Season 2016-2017\", \"value\": 3266.0, \"codigo\": 31}, {\"Weeks\": \"w20\", \"variable\": \"Season 2016-2017\", \"value\": 3254.0, \"codigo\": 32}, {\"Weeks\": \"w21\", \"variable\": \"Season 2016-2017\", \"value\": 3115.0, \"codigo\": 33}, {\"Weeks\": \"w22\", \"variable\": \"Season 2016-2017\", \"value\": 3042.0, \"codigo\": 34}, {\"Weeks\": \"w23\", \"variable\": \"Season 2016-2017\", \"value\": 3144.0, \"codigo\": 35}, {\"Weeks\": \"w24\", \"variable\": \"Season 2016-2017\", \"value\": 3088.0, \"codigo\": 36}, {\"Weeks\": \"w25\", \"variable\": \"Season 2016-2017\", \"value\": 2997.0, \"codigo\": 37}, {\"Weeks\": \"w26\", \"variable\": \"Season 2016-2017\", \"value\": 2964.0, \"codigo\": 38}, {\"Weeks\": \"w27\", \"variable\": \"Season 2016-2017\", \"value\": 2842.0, \"codigo\": 39}, {\"Weeks\": \"w28\", \"variable\": \"Season 2016-2017\", \"value\": 3051.0, \"codigo\": 40}, {\"Weeks\": \"w29\", \"variable\": \"Season 2016-2017\", \"value\": 2765.0, \"codigo\": 41}, {\"Weeks\": \"w30\", \"variable\": \"Season 2016-2017\", \"value\": 2856.0, \"codigo\": 42}, {\"Weeks\": \"w31\", \"variable\": \"Season 2016-2017\", \"value\": 2699.0, \"codigo\": 43}, {\"Weeks\": \"w32\", \"variable\": \"Season 2016-2017\", \"value\": 2728.0, \"codigo\": 44}, {\"Weeks\": \"w33\", \"variable\": \"Season 2016-2017\", \"value\": 2700.0, \"codigo\": 45}, {\"Weeks\": \"w34\", \"variable\": \"Season 2016-2017\", \"value\": 2763.0, \"codigo\": 46}, {\"Weeks\": \"w35\", \"variable\": \"Season 2016-2017\", \"value\": 2723.0, \"codigo\": 47}, {\"Weeks\": \"w36\", \"variable\": \"Season 2016-2017\", \"value\": 2837.0, \"codigo\": 48}, {\"Weeks\": \"w37\", \"variable\": \"Season 2016-2017\", \"value\": 3028.0, \"codigo\": 49}, {\"Weeks\": \"w38\", \"variable\": \"Season 2016-2017\", \"value\": 2951.0, \"codigo\": 50}, {\"Weeks\": \"w39\", \"variable\": \"Season 2016-2017\", \"value\": 2907.0, \"codigo\": 51}, {\"Weeks\": \"w40\", \"variable\": \"Season 2015-2016\", \"value\": 3211.0, \"codigo\": 0}, {\"Weeks\": \"w41\", \"variable\": \"Season 2015-2016\", \"value\": 3138.0, \"codigo\": 1}, {\"Weeks\": \"w42\", \"variable\": \"Season 2015-2016\", \"value\": 3230.0, \"codigo\": 2}, {\"Weeks\": \"w43\", \"variable\": \"Season 2015-2016\", \"value\": 3180.0, \"codigo\": 3}, {\"Weeks\": \"w44\", \"variable\": \"Season 2015-2016\", \"value\": 3373.0, \"codigo\": 4}, {\"Weeks\": \"w45\", \"variable\": \"Season 2015-2016\", \"value\": 3239.0, \"codigo\": 5}, {\"Weeks\": \"w46\", \"variable\": \"Season 2015-2016\", \"value\": 3349.0, \"codigo\": 6}, {\"Weeks\": \"w47\", \"variable\": \"Season 2015-2016\", \"value\": 3338.0, \"codigo\": 7}, {\"Weeks\": \"w48\", \"variable\": \"Season 2015-2016\", \"value\": 3479.0, \"codigo\": 8}, {\"Weeks\": \"w49\", \"variable\": \"Season 2015-2016\", \"value\": 3548.0, \"codigo\": 9}, {\"Weeks\": \"w50\", \"variable\": \"Season 2015-2016\", \"value\": 3478.0, \"codigo\": 10}, {\"Weeks\": \"w51\", \"variable\": \"Season 2015-2016\", \"value\": 3525.0, \"codigo\": 11}, {\"Weeks\": \"w52\", \"variable\": \"Season 2015-2016\", \"value\": 3948.0, \"codigo\": 12}, {\"Weeks\": \"w01\", \"variable\": \"Season 2015-2016\", \"value\": 4273.0, \"codigo\": 13}, {\"Weeks\": \"w02\", \"variable\": \"Season 2015-2016\", \"value\": 4308.0, \"codigo\": 14}, {\"Weeks\": \"w03\", \"variable\": \"Season 2015-2016\", \"value\": 4079.0, \"codigo\": 15}, {\"Weeks\": \"w04\", \"variable\": \"Season 2015-2016\", \"value\": 4160.0, \"codigo\": 16}, {\"Weeks\": \"w05\", \"variable\": \"Season 2015-2016\", \"value\": 4125.0, \"codigo\": 17}, {\"Weeks\": \"w06\", \"variable\": \"Season 2015-2016\", \"value\": 4028.0, \"codigo\": 18}, {\"Weeks\": \"w07\", \"variable\": \"Season 2015-2016\", \"value\": 4159.0, \"codigo\": 19}, {\"Weeks\": \"w08\", \"variable\": \"Season 2015-2016\", \"value\": 4384.0, \"codigo\": 20}, {\"Weeks\": \"w09\", \"variable\": \"Season 2015-2016\", \"value\": 4500.0, \"codigo\": 21}, {\"Weeks\": \"w10\", \"variable\": \"Season 2015-2016\", \"value\": 4571.0, \"codigo\": 22}, {\"Weeks\": \"w11\", \"variable\": \"Season 2015-2016\", \"value\": 4494.0, \"codigo\": 23}, {\"Weeks\": \"w12\", \"variable\": \"Season 2015-2016\", \"value\": 4471.0, \"codigo\": 24}, {\"Weeks\": \"w13\", \"variable\": \"Season 2015-2016\", \"value\": 4175.0, \"codigo\": 25}, {\"Weeks\": \"w14\", \"variable\": \"Season 2015-2016\", \"value\": 4195.0, \"codigo\": 26}, {\"Weeks\": \"w15\", \"variable\": \"Season 2015-2016\", \"value\": 4087.0, \"codigo\": 27}, {\"Weeks\": \"w16\", \"variable\": \"Season 2015-2016\", \"value\": 3832.0, \"codigo\": 28}, {\"Weeks\": \"w17\", \"variable\": \"Season 2015-2016\", \"value\": 3525.0, \"codigo\": 29}, {\"Weeks\": \"w18\", \"variable\": \"Season 2015-2016\", \"value\": 3494.0, \"codigo\": 30}, {\"Weeks\": \"w19\", \"variable\": \"Season 2015-2016\", \"value\": 3314.0, \"codigo\": 31}, {\"Weeks\": \"w20\", \"variable\": \"Season 2015-2016\", \"value\": 3324.0, \"codigo\": 32}, {\"Weeks\": \"w21\", \"variable\": \"Season 2015-2016\", \"value\": 3229.0, \"codigo\": 33}, {\"Weeks\": \"w22\", \"variable\": \"Season 2015-2016\", \"value\": 3042.0, \"codigo\": 34}, {\"Weeks\": \"w23\", \"variable\": \"Season 2015-2016\", \"value\": 3192.0, \"codigo\": 35}, {\"Weeks\": \"w24\", \"variable\": \"Season 2015-2016\", \"value\": 2938.0, \"codigo\": 36}, {\"Weeks\": \"w25\", \"variable\": \"Season 2015-2016\", \"value\": 2888.0, \"codigo\": 37}, {\"Weeks\": \"w26\", \"variable\": \"Season 2015-2016\", \"value\": 2924.0, \"codigo\": 38}, {\"Weeks\": \"w27\", \"variable\": \"Season 2015-2016\", \"value\": 2924.0, \"codigo\": 39}, {\"Weeks\": \"w28\", \"variable\": \"Season 2015-2016\", \"value\": 2932.0, \"codigo\": 40}, {\"Weeks\": \"w29\", \"variable\": \"Season 2015-2016\", \"value\": 2772.0, \"codigo\": 41}, {\"Weeks\": \"w30\", \"variable\": \"Season 2015-2016\", \"value\": 2809.0, \"codigo\": 42}, {\"Weeks\": \"w31\", \"variable\": \"Season 2015-2016\", \"value\": 2848.0, \"codigo\": 43}, {\"Weeks\": \"w32\", \"variable\": \"Season 2015-2016\", \"value\": 2829.0, \"codigo\": 44}, {\"Weeks\": \"w33\", \"variable\": \"Season 2015-2016\", \"value\": 2872.0, \"codigo\": 45}, {\"Weeks\": \"w34\", \"variable\": \"Season 2015-2016\", \"value\": 2833.0, \"codigo\": 46}, {\"Weeks\": \"w35\", \"variable\": \"Season 2015-2016\", \"value\": 2874.0, \"codigo\": 47}, {\"Weeks\": \"w36\", \"variable\": \"Season 2015-2016\", \"value\": 2886.0, \"codigo\": 48}, {\"Weeks\": \"w37\", \"variable\": \"Season 2015-2016\", \"value\": 3101.0, \"codigo\": 49}, {\"Weeks\": \"w38\", \"variable\": \"Season 2015-2016\", \"value\": 3026.0, \"codigo\": 50}, {\"Weeks\": \"w39\", \"variable\": \"Season 2015-2016\", \"value\": 2997.0, \"codigo\": 51}, {\"Weeks\": \"w40\", \"variable\": \"Covid-19\", \"value\": null, \"codigo\": 0}, {\"Weeks\": \"w41\", \"variable\": \"Covid-19\", \"value\": null, \"codigo\": 1}, {\"Weeks\": \"w42\", \"variable\": \"Covid-19\", \"value\": null, \"codigo\": 2}, {\"Weeks\": \"w43\", \"variable\": \"Covid-19\", \"value\": null, \"codigo\": 3}, {\"Weeks\": \"w44\", \"variable\": \"Covid-19\", \"value\": null, \"codigo\": 4}, {\"Weeks\": \"w45\", \"variable\": \"Covid-19\", \"value\": null, \"codigo\": 5}, {\"Weeks\": \"w46\", \"variable\": \"Covid-19\", \"value\": null, \"codigo\": 6}, {\"Weeks\": \"w47\", \"variable\": \"Covid-19\", \"value\": null, \"codigo\": 7}, {\"Weeks\": \"w48\", \"variable\": \"Covid-19\", \"value\": null, \"codigo\": 8}, {\"Weeks\": \"w49\", \"variable\": \"Covid-19\", \"value\": null, \"codigo\": 9}, {\"Weeks\": \"w50\", \"variable\": \"Covid-19\", \"value\": null, \"codigo\": 10}, {\"Weeks\": \"w51\", \"variable\": \"Covid-19\", \"value\": null, \"codigo\": 11}, {\"Weeks\": \"w52\", \"variable\": \"Covid-19\", \"value\": null, \"codigo\": 12}, {\"Weeks\": \"w01\", \"variable\": \"Covid-19\", \"value\": null, \"codigo\": 13}, {\"Weeks\": \"w02\", \"variable\": \"Covid-19\", \"value\": null, \"codigo\": 14}, {\"Weeks\": \"w03\", \"variable\": \"Covid-19\", \"value\": null, \"codigo\": 15}, {\"Weeks\": \"w04\", \"variable\": \"Covid-19\", \"value\": null, \"codigo\": 16}, {\"Weeks\": \"w05\", \"variable\": \"Covid-19\", \"value\": null, \"codigo\": 17}, {\"Weeks\": \"w06\", \"variable\": \"Covid-19\", \"value\": null, \"codigo\": 18}, {\"Weeks\": \"w07\", \"variable\": \"Covid-19\", \"value\": null, \"codigo\": 19}, {\"Weeks\": \"w08\", \"variable\": \"Covid-19\", \"value\": null, \"codigo\": 20}, {\"Weeks\": \"w09\", \"variable\": \"Covid-19\", \"value\": 1.0, \"codigo\": 21}, {\"Weeks\": \"w10\", \"variable\": \"Covid-19\", \"value\": 16.0, \"codigo\": 22}, {\"Weeks\": \"w11\", \"variable\": \"Covid-19\", \"value\": 40.0, \"codigo\": 23}, {\"Weeks\": \"w12\", \"variable\": \"Covid-19\", \"value\": 283.0, \"codigo\": 24}, {\"Weeks\": \"w13\", \"variable\": \"Covid-19\", \"value\": 1851.0, \"codigo\": 25}, {\"Weeks\": \"w14\", \"variable\": \"Covid-19\", \"value\": 6310.0, \"codigo\": 26}, {\"Weeks\": \"w15\", \"variable\": \"Covid-19\", \"value\": null, \"codigo\": 27}, {\"Weeks\": \"w16\", \"variable\": \"Covid-19\", \"value\": null, \"codigo\": 28}, {\"Weeks\": \"w17\", \"variable\": \"Covid-19\", \"value\": null, \"codigo\": 29}, {\"Weeks\": \"w18\", \"variable\": \"Covid-19\", \"value\": null, \"codigo\": 30}, {\"Weeks\": \"w19\", \"variable\": \"Covid-19\", \"value\": null, \"codigo\": 31}, {\"Weeks\": \"w20\", \"variable\": \"Covid-19\", \"value\": null, \"codigo\": 32}, {\"Weeks\": \"w21\", \"variable\": \"Covid-19\", \"value\": null, \"codigo\": 33}, {\"Weeks\": \"w22\", \"variable\": \"Covid-19\", \"value\": null, \"codigo\": 34}, {\"Weeks\": \"w23\", \"variable\": \"Covid-19\", \"value\": null, \"codigo\": 35}, {\"Weeks\": \"w24\", \"variable\": \"Covid-19\", \"value\": null, \"codigo\": 36}, {\"Weeks\": \"w25\", \"variable\": \"Covid-19\", \"value\": null, \"codigo\": 37}, {\"Weeks\": \"w26\", \"variable\": \"Covid-19\", \"value\": null, \"codigo\": 38}, {\"Weeks\": \"w27\", \"variable\": \"Covid-19\", \"value\": null, \"codigo\": 39}, {\"Weeks\": \"w28\", \"variable\": \"Covid-19\", \"value\": null, \"codigo\": 40}, {\"Weeks\": \"w29\", \"variable\": \"Covid-19\", \"value\": null, \"codigo\": 41}, {\"Weeks\": \"w30\", \"variable\": \"Covid-19\", \"value\": null, \"codigo\": 42}, {\"Weeks\": \"w31\", \"variable\": \"Covid-19\", \"value\": null, \"codigo\": 43}, {\"Weeks\": \"w32\", \"variable\": \"Covid-19\", \"value\": null, \"codigo\": 44}, {\"Weeks\": \"w33\", \"variable\": \"Covid-19\", \"value\": null, \"codigo\": 45}, {\"Weeks\": \"w34\", \"variable\": \"Covid-19\", \"value\": null, \"codigo\": 46}, {\"Weeks\": \"w35\", \"variable\": \"Covid-19\", \"value\": null, \"codigo\": 47}, {\"Weeks\": \"w36\", \"variable\": \"Covid-19\", \"value\": null, \"codigo\": 48}, {\"Weeks\": \"w37\", \"variable\": \"Covid-19\", \"value\": null, \"codigo\": 49}, {\"Weeks\": \"w38\", \"variable\": \"Covid-19\", \"value\": null, \"codigo\": 50}, {\"Weeks\": \"w39\", \"variable\": \"Covid-19\", \"value\": null, \"codigo\": 51}]}}, {\"mode\": \"vega-lite\"});\n",
       "</script>"
      ],
      "text/plain": [
       "alt.LayerChart(...)"
      ]
     },
     "execution_count": 53,
     "metadata": {},
     "output_type": "execute_result"
    }
   ],
   "source": [
    "#hide_input\n",
    "# select a point for which to provide details-on-demand\n",
    "label = alt.selection_single(\n",
    "    encodings=['x'], # limit selection to x-axis value\n",
    "    on='mouseover',  # select on mouseover events\n",
    "    nearest=True,    # select data point nearest the cursor\n",
    "    empty='none'     # empty selection includes no data points\n",
    ")\n",
    "\n",
    "base = alt.Chart().mark_line(point=True).encode(\n",
    "    x = alt.X('Weeks:N', axis=alt.Axis(title='Week of Flu Season'), sort=None),\n",
    "    y = alt.Y('value', axis=alt.Axis(title='Weekly Deaths')),\n",
    "    color=alt.Color('variable', legend=alt.Legend(title=\"\"), scale=alt.Scale(\n",
    "        range=['#d62728', '#1f77b4', '#ff7f0b', '#2ca02c', '#9467bd'])),\n",
    "    order='codigo',\n",
    ")\n",
    "\n",
    "alt.layer(\n",
    "    base, # base line chart\n",
    "    \n",
    "    # add a rule mark to serve as a guide line\n",
    "    alt.Chart().mark_rule(color='#aaa').encode(\n",
    "        x = alt.X('Weeks:N', axis=alt.Axis(title='Week of Flu Season'), sort=None)\n",
    "    ).transform_filter(label),\n",
    "    \n",
    "    # add circle marks for selected time points, hide unselected points\n",
    "    base.mark_circle().encode(\n",
    "        opacity=alt.condition(label, alt.value(1), alt.value(0))\n",
    "    ).add_selection(label),\n",
    "\n",
    "    # add white stroked text to provide a legible background for labels\n",
    "    base.mark_text(align='left', dx=5, dy=-5, stroke='white', strokeWidth=2).encode(\n",
    "        text='value:Q'\n",
    "    ).transform_filter(label),\n",
    "\n",
    "    # add text labels for stock prices\n",
    "    base.mark_text(align='left', dx=5, dy=-5).encode(\n",
    "        text='value:Q'\n",
    "    ).transform_filter(label),\n",
    "    \n",
    "    data=data\n",
    ").properties(\n",
    "    title=f'Covid-19 vs Flu: Weekly deaths up to week 14',\n",
    "    width=700\n",
    ")"
   ]
  },
  {
   "cell_type": "markdown",
   "metadata": {},
   "source": [
    "And here is what happened in the next two weeks:"
   ]
  },
  {
   "cell_type": "code",
   "execution_count": 54,
   "metadata": {},
   "outputs": [],
   "source": [
    "#hide\n",
    "data = pd.DataFrame()\n",
    "data[\"Weeks\"] = [f\"w{i}\" for i in np.arange(40,53)]+[f\"w0{i}\" for i in np.arange(1,10)] + [f\"w{i}\" for i in np.arange(10,40)]\n",
    "data[\"Season 2018-2019\"] = (data_season_2018_2019['NUM INFLUENZA DEATHS']+data_season_2018_2019['NUM PNEUMONIA DEATHS']).reset_index(drop=True)\n",
    "data[\"Season 2017-2018\"] = (data_season_2017_2018['NUM INFLUENZA DEATHS']+data_season_2017_2018['NUM PNEUMONIA DEATHS']).reset_index(drop=True)\n",
    "data[\"Season 2016-2017\"] = (data_season_2016_2017['NUM INFLUENZA DEATHS']+data_season_2016_2017['NUM PNEUMONIA DEATHS']).reset_index(drop=True)\n",
    "data[\"Season 2015-2016\"] = (data_season_2015_2016['NUM INFLUENZA DEATHS']+data_season_2015_2016['NUM PNEUMONIA DEATHS']).reset_index(drop=True)\n",
    "\n",
    "\n",
    "data[\"Covid-19\"] = len(data) * np.nan\n",
    "data[\"Covid-19\"].iloc[21:28] = deaths_covid[:-2]\n",
    "\n",
    "data = data.melt(\"Weeks\")\n",
    "data[\"codigo\"] = [i for i in np.arange(52)]*5"
   ]
  },
  {
   "cell_type": "code",
   "execution_count": 55,
   "metadata": {},
   "outputs": [
    {
     "data": {
      "text/html": [
       "\n",
       "<div id=\"altair-viz-98d2f9207d014bcaa3694c9a25e1e0d5\"></div>\n",
       "<script type=\"text/javascript\">\n",
       "  (function(spec, embedOpt){\n",
       "    let outputDiv = document.currentScript.previousElementSibling;\n",
       "    if (outputDiv.id !== \"altair-viz-98d2f9207d014bcaa3694c9a25e1e0d5\") {\n",
       "      outputDiv = document.getElementById(\"altair-viz-98d2f9207d014bcaa3694c9a25e1e0d5\");\n",
       "    }\n",
       "    const paths = {\n",
       "      \"vega\": \"https://cdn.jsdelivr.net/npm//vega@5?noext\",\n",
       "      \"vega-lib\": \"https://cdn.jsdelivr.net/npm//vega-lib?noext\",\n",
       "      \"vega-lite\": \"https://cdn.jsdelivr.net/npm//vega-lite@4.8.1?noext\",\n",
       "      \"vega-embed\": \"https://cdn.jsdelivr.net/npm//vega-embed@6?noext\",\n",
       "    };\n",
       "\n",
       "    function loadScript(lib) {\n",
       "      return new Promise(function(resolve, reject) {\n",
       "        var s = document.createElement('script');\n",
       "        s.src = paths[lib];\n",
       "        s.async = true;\n",
       "        s.onload = () => resolve(paths[lib]);\n",
       "        s.onerror = () => reject(`Error loading script: ${paths[lib]}`);\n",
       "        document.getElementsByTagName(\"head\")[0].appendChild(s);\n",
       "      });\n",
       "    }\n",
       "\n",
       "    function showError(err) {\n",
       "      outputDiv.innerHTML = `<div class=\"error\" style=\"color:red;\">${err}</div>`;\n",
       "      throw err;\n",
       "    }\n",
       "\n",
       "    function displayChart(vegaEmbed) {\n",
       "      vegaEmbed(outputDiv, spec, embedOpt)\n",
       "        .catch(err => showError(`Javascript Error: ${err.message}<br>This usually means there's a typo in your chart specification. See the javascript console for the full traceback.`));\n",
       "    }\n",
       "\n",
       "    if(typeof define === \"function\" && define.amd) {\n",
       "      requirejs.config({paths});\n",
       "      require([\"vega-embed\"], displayChart, err => showError(`Error loading script: ${err.message}`));\n",
       "    } else if (typeof vegaEmbed === \"function\") {\n",
       "      displayChart(vegaEmbed);\n",
       "    } else {\n",
       "      loadScript(\"vega\")\n",
       "        .then(() => loadScript(\"vega-lite\"))\n",
       "        .then(() => loadScript(\"vega-embed\"))\n",
       "        .catch(showError)\n",
       "        .then(() => displayChart(vegaEmbed));\n",
       "    }\n",
       "  })({\"config\": {\"view\": {\"continuousWidth\": 400, \"continuousHeight\": 300}}, \"layer\": [{\"mark\": {\"type\": \"line\", \"point\": true}, \"encoding\": {\"color\": {\"type\": \"nominal\", \"field\": \"variable\", \"legend\": {\"title\": \"\"}, \"scale\": {\"range\": [\"#d62728\", \"#1f77b4\", \"#ff7f0b\", \"#2ca02c\", \"#9467bd\"]}}, \"order\": {\"type\": \"quantitative\", \"field\": \"codigo\"}, \"x\": {\"type\": \"nominal\", \"axis\": {\"title\": \"Week of Flu Season\"}, \"field\": \"Weeks\", \"sort\": null}, \"y\": {\"type\": \"quantitative\", \"axis\": {\"title\": \"Weekly Deaths\"}, \"field\": \"value\"}}}, {\"mark\": {\"type\": \"rule\", \"color\": \"#aaa\"}, \"encoding\": {\"x\": {\"type\": \"nominal\", \"axis\": {\"title\": \"Week of Flu Season\"}, \"field\": \"Weeks\", \"sort\": null}}, \"transform\": [{\"filter\": {\"selection\": \"selector007\"}}]}, {\"mark\": \"circle\", \"encoding\": {\"color\": {\"type\": \"nominal\", \"field\": \"variable\", \"legend\": {\"title\": \"\"}, \"scale\": {\"range\": [\"#d62728\", \"#1f77b4\", \"#ff7f0b\", \"#2ca02c\", \"#9467bd\"]}}, \"opacity\": {\"condition\": {\"value\": 1, \"selection\": \"selector007\"}, \"value\": 0}, \"order\": {\"type\": \"quantitative\", \"field\": \"codigo\"}, \"x\": {\"type\": \"nominal\", \"axis\": {\"title\": \"Week of Flu Season\"}, \"field\": \"Weeks\", \"sort\": null}, \"y\": {\"type\": \"quantitative\", \"axis\": {\"title\": \"Weekly Deaths\"}, \"field\": \"value\"}}, \"selection\": {\"selector007\": {\"type\": \"single\", \"encodings\": [\"x\"], \"on\": \"mouseover\", \"nearest\": true, \"empty\": \"none\"}}}, {\"mark\": {\"type\": \"text\", \"align\": \"left\", \"dx\": 5, \"dy\": -5, \"stroke\": \"white\", \"strokeWidth\": 2}, \"encoding\": {\"color\": {\"type\": \"nominal\", \"field\": \"variable\", \"legend\": {\"title\": \"\"}, \"scale\": {\"range\": [\"#d62728\", \"#1f77b4\", \"#ff7f0b\", \"#2ca02c\", \"#9467bd\"]}}, \"order\": {\"type\": \"quantitative\", \"field\": \"codigo\"}, \"text\": {\"type\": \"quantitative\", \"field\": \"value\"}, \"x\": {\"type\": \"nominal\", \"axis\": {\"title\": \"Week of Flu Season\"}, \"field\": \"Weeks\", \"sort\": null}, \"y\": {\"type\": \"quantitative\", \"axis\": {\"title\": \"Weekly Deaths\"}, \"field\": \"value\"}}, \"transform\": [{\"filter\": {\"selection\": \"selector007\"}}]}, {\"mark\": {\"type\": \"text\", \"align\": \"left\", \"dx\": 5, \"dy\": -5}, \"encoding\": {\"color\": {\"type\": \"nominal\", \"field\": \"variable\", \"legend\": {\"title\": \"\"}, \"scale\": {\"range\": [\"#d62728\", \"#1f77b4\", \"#ff7f0b\", \"#2ca02c\", \"#9467bd\"]}}, \"order\": {\"type\": \"quantitative\", \"field\": \"codigo\"}, \"text\": {\"type\": \"quantitative\", \"field\": \"value\"}, \"x\": {\"type\": \"nominal\", \"axis\": {\"title\": \"Week of Flu Season\"}, \"field\": \"Weeks\", \"sort\": null}, \"y\": {\"type\": \"quantitative\", \"axis\": {\"title\": \"Weekly Deaths\"}, \"field\": \"value\"}}, \"transform\": [{\"filter\": {\"selection\": \"selector007\"}}]}], \"data\": {\"name\": \"data-1eda44f50acb61a783bc6b2a30b4847a\"}, \"title\": \"Covid-19 vs Flu: Weekly deaths up to week 15\", \"width\": 700, \"$schema\": \"https://vega.github.io/schema/vega-lite/v4.8.1.json\", \"datasets\": {\"data-1eda44f50acb61a783bc6b2a30b4847a\": [{\"Weeks\": \"w40\", \"variable\": \"Season 2018-2019\", \"value\": 2979.0, \"codigo\": 0}, {\"Weeks\": \"w41\", \"variable\": \"Season 2018-2019\", \"value\": 2878.0, \"codigo\": 1}, {\"Weeks\": \"w42\", \"variable\": \"Season 2018-2019\", \"value\": 3005.0, \"codigo\": 2}, {\"Weeks\": \"w43\", \"variable\": \"Season 2018-2019\", \"value\": 3089.0, \"codigo\": 3}, {\"Weeks\": \"w44\", \"variable\": \"Season 2018-2019\", \"value\": 3028.0, \"codigo\": 4}, {\"Weeks\": \"w45\", \"variable\": \"Season 2018-2019\", \"value\": 3050.0, \"codigo\": 5}, {\"Weeks\": \"w46\", \"variable\": \"Season 2018-2019\", \"value\": 3168.0, \"codigo\": 6}, {\"Weeks\": \"w47\", \"variable\": \"Season 2018-2019\", \"value\": 3209.0, \"codigo\": 7}, {\"Weeks\": \"w48\", \"variable\": \"Season 2018-2019\", \"value\": 3325.0, \"codigo\": 8}, {\"Weeks\": \"w49\", \"variable\": \"Season 2018-2019\", \"value\": 3455.0, \"codigo\": 9}, {\"Weeks\": \"w50\", \"variable\": \"Season 2018-2019\", \"value\": 3603.0, \"codigo\": 10}, {\"Weeks\": \"w51\", \"variable\": \"Season 2018-2019\", \"value\": 3578.0, \"codigo\": 11}, {\"Weeks\": \"w52\", \"variable\": \"Season 2018-2019\", \"value\": 3776.0, \"codigo\": 12}, {\"Weeks\": \"w01\", \"variable\": \"Season 2018-2019\", \"value\": 4128.0, \"codigo\": 13}, {\"Weeks\": \"w02\", \"variable\": \"Season 2018-2019\", \"value\": 4315.0, \"codigo\": 14}, {\"Weeks\": \"w03\", \"variable\": \"Season 2018-2019\", \"value\": 4340.0, \"codigo\": 15}, {\"Weeks\": \"w04\", \"variable\": \"Season 2018-2019\", \"value\": 4169.0, \"codigo\": 16}, {\"Weeks\": \"w05\", \"variable\": \"Season 2018-2019\", \"value\": 4215.0, \"codigo\": 17}, {\"Weeks\": \"w06\", \"variable\": \"Season 2018-2019\", \"value\": 4255.0, \"codigo\": 18}, {\"Weeks\": \"w07\", \"variable\": \"Season 2018-2019\", \"value\": 4372.0, \"codigo\": 19}, {\"Weeks\": \"w08\", \"variable\": \"Season 2018-2019\", \"value\": 4447.0, \"codigo\": 20}, {\"Weeks\": \"w09\", \"variable\": \"Season 2018-2019\", \"value\": 4269.0, \"codigo\": 21}, {\"Weeks\": \"w10\", \"variable\": \"Season 2018-2019\", \"value\": 4290.0, \"codigo\": 22}, {\"Weeks\": \"w11\", \"variable\": \"Season 2018-2019\", \"value\": 4489.0, \"codigo\": 23}, {\"Weeks\": \"w12\", \"variable\": \"Season 2018-2019\", \"value\": 4274.0, \"codigo\": 24}, {\"Weeks\": \"w13\", \"variable\": \"Season 2018-2019\", \"value\": 4171.0, \"codigo\": 25}, {\"Weeks\": \"w14\", \"variable\": \"Season 2018-2019\", \"value\": 3974.0, \"codigo\": 26}, {\"Weeks\": \"w15\", \"variable\": \"Season 2018-2019\", \"value\": 3750.0, \"codigo\": 27}, {\"Weeks\": \"w16\", \"variable\": \"Season 2018-2019\", \"value\": 3611.0, \"codigo\": 28}, {\"Weeks\": \"w17\", \"variable\": \"Season 2018-2019\", \"value\": 3424.0, \"codigo\": 29}, {\"Weeks\": \"w18\", \"variable\": \"Season 2018-2019\", \"value\": 3320.0, \"codigo\": 30}, {\"Weeks\": \"w19\", \"variable\": \"Season 2018-2019\", \"value\": 3296.0, \"codigo\": 31}, {\"Weeks\": \"w20\", \"variable\": \"Season 2018-2019\", \"value\": 3203.0, \"codigo\": 32}, {\"Weeks\": \"w21\", \"variable\": \"Season 2018-2019\", \"value\": 3179.0, \"codigo\": 33}, {\"Weeks\": \"w22\", \"variable\": \"Season 2018-2019\", \"value\": 3149.0, \"codigo\": 34}, {\"Weeks\": \"w23\", \"variable\": \"Season 2018-2019\", \"value\": 3063.0, \"codigo\": 35}, {\"Weeks\": \"w24\", \"variable\": \"Season 2018-2019\", \"value\": 2946.0, \"codigo\": 36}, {\"Weeks\": \"w25\", \"variable\": \"Season 2018-2019\", \"value\": 2963.0, \"codigo\": 37}, {\"Weeks\": \"w26\", \"variable\": \"Season 2018-2019\", \"value\": 2911.0, \"codigo\": 38}, {\"Weeks\": \"w27\", \"variable\": \"Season 2018-2019\", \"value\": 2868.0, \"codigo\": 39}, {\"Weeks\": \"w28\", \"variable\": \"Season 2018-2019\", \"value\": 2781.0, \"codigo\": 40}, {\"Weeks\": \"w29\", \"variable\": \"Season 2018-2019\", \"value\": 2684.0, \"codigo\": 41}, {\"Weeks\": \"w30\", \"variable\": \"Season 2018-2019\", \"value\": 2767.0, \"codigo\": 42}, {\"Weeks\": \"w31\", \"variable\": \"Season 2018-2019\", \"value\": 2738.0, \"codigo\": 43}, {\"Weeks\": \"w32\", \"variable\": \"Season 2018-2019\", \"value\": 2644.0, \"codigo\": 44}, {\"Weeks\": \"w33\", \"variable\": \"Season 2018-2019\", \"value\": 2610.0, \"codigo\": 45}, {\"Weeks\": \"w34\", \"variable\": \"Season 2018-2019\", \"value\": 2600.0, \"codigo\": 46}, {\"Weeks\": \"w35\", \"variable\": \"Season 2018-2019\", \"value\": 2624.0, \"codigo\": 47}, {\"Weeks\": \"w36\", \"variable\": \"Season 2018-2019\", \"value\": 2590.0, \"codigo\": 48}, {\"Weeks\": \"w37\", \"variable\": \"Season 2018-2019\", \"value\": 2527.0, \"codigo\": 49}, {\"Weeks\": \"w38\", \"variable\": \"Season 2018-2019\", \"value\": 2721.0, \"codigo\": 50}, {\"Weeks\": \"w39\", \"variable\": \"Season 2018-2019\", \"value\": 2788.0, \"codigo\": 51}, {\"Weeks\": \"w40\", \"variable\": \"Season 2017-2018\", \"value\": 3038.0, \"codigo\": 0}, {\"Weeks\": \"w41\", \"variable\": \"Season 2017-2018\", \"value\": 3019.0, \"codigo\": 1}, {\"Weeks\": \"w42\", \"variable\": \"Season 2017-2018\", \"value\": 3184.0, \"codigo\": 2}, {\"Weeks\": \"w43\", \"variable\": \"Season 2017-2018\", \"value\": 3302.0, \"codigo\": 3}, {\"Weeks\": \"w44\", \"variable\": \"Season 2017-2018\", \"value\": 3251.0, \"codigo\": 4}, {\"Weeks\": \"w45\", \"variable\": \"Season 2017-2018\", \"value\": 3225.0, \"codigo\": 5}, {\"Weeks\": \"w46\", \"variable\": \"Season 2017-2018\", \"value\": 3365.0, \"codigo\": 6}, {\"Weeks\": \"w47\", \"variable\": \"Season 2017-2018\", \"value\": 3250.0, \"codigo\": 7}, {\"Weeks\": \"w48\", \"variable\": \"Season 2017-2018\", \"value\": 3576.0, \"codigo\": 8}, {\"Weeks\": \"w49\", \"variable\": \"Season 2017-2018\", \"value\": 3646.0, \"codigo\": 9}, {\"Weeks\": \"w50\", \"variable\": \"Season 2017-2018\", \"value\": 3924.0, \"codigo\": 10}, {\"Weeks\": \"w51\", \"variable\": \"Season 2017-2018\", \"value\": 4346.0, \"codigo\": 11}, {\"Weeks\": \"w52\", \"variable\": \"Season 2017-2018\", \"value\": 5089.0, \"codigo\": 12}, {\"Weeks\": \"w01\", \"variable\": \"Season 2017-2018\", \"value\": 6321.0, \"codigo\": 13}, {\"Weeks\": \"w02\", \"variable\": \"Season 2017-2018\", \"value\": 7119.0, \"codigo\": 14}, {\"Weeks\": \"w03\", \"variable\": \"Season 2017-2018\", \"value\": 7038.0, \"codigo\": 15}, {\"Weeks\": \"w04\", \"variable\": \"Season 2017-2018\", \"value\": 6635.0, \"codigo\": 16}, {\"Weeks\": \"w05\", \"variable\": \"Season 2017-2018\", \"value\": 6237.0, \"codigo\": 17}, {\"Weeks\": \"w06\", \"variable\": \"Season 2017-2018\", \"value\": 5932.0, \"codigo\": 18}, {\"Weeks\": \"w07\", \"variable\": \"Season 2017-2018\", \"value\": 5778.0, \"codigo\": 19}, {\"Weeks\": \"w08\", \"variable\": \"Season 2017-2018\", \"value\": 5318.0, \"codigo\": 20}, {\"Weeks\": \"w09\", \"variable\": \"Season 2017-2018\", \"value\": 4782.0, \"codigo\": 21}, {\"Weeks\": \"w10\", \"variable\": \"Season 2017-2018\", \"value\": 4568.0, \"codigo\": 22}, {\"Weeks\": \"w11\", \"variable\": \"Season 2017-2018\", \"value\": 4297.0, \"codigo\": 23}, {\"Weeks\": \"w12\", \"variable\": \"Season 2017-2018\", \"value\": 4138.0, \"codigo\": 24}, {\"Weeks\": \"w13\", \"variable\": \"Season 2017-2018\", \"value\": 4063.0, \"codigo\": 25}, {\"Weeks\": \"w14\", \"variable\": \"Season 2017-2018\", \"value\": 3998.0, \"codigo\": 26}, {\"Weeks\": \"w15\", \"variable\": \"Season 2017-2018\", \"value\": 3804.0, \"codigo\": 27}, {\"Weeks\": \"w16\", \"variable\": \"Season 2017-2018\", \"value\": 3582.0, \"codigo\": 28}, {\"Weeks\": \"w17\", \"variable\": \"Season 2017-2018\", \"value\": 3513.0, \"codigo\": 29}, {\"Weeks\": \"w18\", \"variable\": \"Season 2017-2018\", \"value\": 3304.0, \"codigo\": 30}, {\"Weeks\": \"w19\", \"variable\": \"Season 2017-2018\", \"value\": 3085.0, \"codigo\": 31}, {\"Weeks\": \"w20\", \"variable\": \"Season 2017-2018\", \"value\": 2998.0, \"codigo\": 32}, {\"Weeks\": \"w21\", \"variable\": \"Season 2017-2018\", \"value\": 2977.0, \"codigo\": 33}, {\"Weeks\": \"w22\", \"variable\": \"Season 2017-2018\", \"value\": 2931.0, \"codigo\": 34}, {\"Weeks\": \"w23\", \"variable\": \"Season 2017-2018\", \"value\": 2922.0, \"codigo\": 35}, {\"Weeks\": \"w24\", \"variable\": \"Season 2017-2018\", \"value\": 2949.0, \"codigo\": 36}, {\"Weeks\": \"w25\", \"variable\": \"Season 2017-2018\", \"value\": 2872.0, \"codigo\": 37}, {\"Weeks\": \"w26\", \"variable\": \"Season 2017-2018\", \"value\": 2877.0, \"codigo\": 38}, {\"Weeks\": \"w27\", \"variable\": \"Season 2017-2018\", \"value\": 2779.0, \"codigo\": 39}, {\"Weeks\": \"w28\", \"variable\": \"Season 2017-2018\", \"value\": 2786.0, \"codigo\": 40}, {\"Weeks\": \"w29\", \"variable\": \"Season 2017-2018\", \"value\": 2714.0, \"codigo\": 41}, {\"Weeks\": \"w30\", \"variable\": \"Season 2017-2018\", \"value\": 2709.0, \"codigo\": 42}, {\"Weeks\": \"w31\", \"variable\": \"Season 2017-2018\", \"value\": 2665.0, \"codigo\": 43}, {\"Weeks\": \"w32\", \"variable\": \"Season 2017-2018\", \"value\": 2683.0, \"codigo\": 44}, {\"Weeks\": \"w33\", \"variable\": \"Season 2017-2018\", \"value\": 2622.0, \"codigo\": 45}, {\"Weeks\": \"w34\", \"variable\": \"Season 2017-2018\", \"value\": 2723.0, \"codigo\": 46}, {\"Weeks\": \"w35\", \"variable\": \"Season 2017-2018\", \"value\": 2636.0, \"codigo\": 47}, {\"Weeks\": \"w36\", \"variable\": \"Season 2017-2018\", \"value\": 2755.0, \"codigo\": 48}, {\"Weeks\": \"w37\", \"variable\": \"Season 2017-2018\", \"value\": 2769.0, \"codigo\": 49}, {\"Weeks\": \"w38\", \"variable\": \"Season 2017-2018\", \"value\": 2830.0, \"codigo\": 50}, {\"Weeks\": \"w39\", \"variable\": \"Season 2017-2018\", \"value\": 2828.0, \"codigo\": 51}, {\"Weeks\": \"w40\", \"variable\": \"Season 2016-2017\", \"value\": 3042.0, \"codigo\": 0}, {\"Weeks\": \"w41\", \"variable\": \"Season 2016-2017\", \"value\": 3204.0, \"codigo\": 1}, {\"Weeks\": \"w42\", \"variable\": \"Season 2016-2017\", \"value\": 3185.0, \"codigo\": 2}, {\"Weeks\": \"w43\", \"variable\": \"Season 2016-2017\", \"value\": 3147.0, \"codigo\": 3}, {\"Weeks\": \"w44\", \"variable\": \"Season 2016-2017\", \"value\": 3116.0, \"codigo\": 4}, {\"Weeks\": \"w45\", \"variable\": \"Season 2016-2017\", \"value\": 3226.0, \"codigo\": 5}, {\"Weeks\": \"w46\", \"variable\": \"Season 2016-2017\", \"value\": 3199.0, \"codigo\": 6}, {\"Weeks\": \"w47\", \"variable\": \"Season 2016-2017\", \"value\": 3277.0, \"codigo\": 7}, {\"Weeks\": \"w48\", \"variable\": \"Season 2016-2017\", \"value\": 3544.0, \"codigo\": 8}, {\"Weeks\": \"w49\", \"variable\": \"Season 2016-2017\", \"value\": 3649.0, \"codigo\": 9}, {\"Weeks\": \"w50\", \"variable\": \"Season 2016-2017\", \"value\": 3824.0, \"codigo\": 10}, {\"Weeks\": \"w51\", \"variable\": \"Season 2016-2017\", \"value\": 3829.0, \"codigo\": 11}, {\"Weeks\": \"w52\", \"variable\": \"Season 2016-2017\", \"value\": 4262.0, \"codigo\": 12}, {\"Weeks\": \"w01\", \"variable\": \"Season 2016-2017\", \"value\": 4847.0, \"codigo\": 13}, {\"Weeks\": \"w02\", \"variable\": \"Season 2016-2017\", \"value\": 4873.0, \"codigo\": 14}, {\"Weeks\": \"w03\", \"variable\": \"Season 2016-2017\", \"value\": 4994.0, \"codigo\": 15}, {\"Weeks\": \"w04\", \"variable\": \"Season 2016-2017\", \"value\": 4794.0, \"codigo\": 16}, {\"Weeks\": \"w05\", \"variable\": \"Season 2016-2017\", \"value\": 4803.0, \"codigo\": 17}, {\"Weeks\": \"w06\", \"variable\": \"Season 2016-2017\", \"value\": 4866.0, \"codigo\": 18}, {\"Weeks\": \"w07\", \"variable\": \"Season 2016-2017\", \"value\": 4964.0, \"codigo\": 19}, {\"Weeks\": \"w08\", \"variable\": \"Season 2016-2017\", \"value\": 4974.0, \"codigo\": 20}, {\"Weeks\": \"w09\", \"variable\": \"Season 2016-2017\", \"value\": 4794.0, \"codigo\": 21}, {\"Weeks\": \"w10\", \"variable\": \"Season 2016-2017\", \"value\": 4695.0, \"codigo\": 22}, {\"Weeks\": \"w11\", \"variable\": \"Season 2016-2017\", \"value\": 4476.0, \"codigo\": 23}, {\"Weeks\": \"w12\", \"variable\": \"Season 2016-2017\", \"value\": 4410.0, \"codigo\": 24}, {\"Weeks\": \"w13\", \"variable\": \"Season 2016-2017\", \"value\": 4220.0, \"codigo\": 25}, {\"Weeks\": \"w14\", \"variable\": \"Season 2016-2017\", \"value\": 4087.0, \"codigo\": 26}, {\"Weeks\": \"w15\", \"variable\": \"Season 2016-2017\", \"value\": 3984.0, \"codigo\": 27}, {\"Weeks\": \"w16\", \"variable\": \"Season 2016-2017\", \"value\": 3651.0, \"codigo\": 28}, {\"Weeks\": \"w17\", \"variable\": \"Season 2016-2017\", \"value\": 3548.0, \"codigo\": 29}, {\"Weeks\": \"w18\", \"variable\": \"Season 2016-2017\", \"value\": 3371.0, \"codigo\": 30}, {\"Weeks\": \"w19\", \"variable\": \"Season 2016-2017\", \"value\": 3266.0, \"codigo\": 31}, {\"Weeks\": \"w20\", \"variable\": \"Season 2016-2017\", \"value\": 3254.0, \"codigo\": 32}, {\"Weeks\": \"w21\", \"variable\": \"Season 2016-2017\", \"value\": 3115.0, \"codigo\": 33}, {\"Weeks\": \"w22\", \"variable\": \"Season 2016-2017\", \"value\": 3042.0, \"codigo\": 34}, {\"Weeks\": \"w23\", \"variable\": \"Season 2016-2017\", \"value\": 3144.0, \"codigo\": 35}, {\"Weeks\": \"w24\", \"variable\": \"Season 2016-2017\", \"value\": 3088.0, \"codigo\": 36}, {\"Weeks\": \"w25\", \"variable\": \"Season 2016-2017\", \"value\": 2997.0, \"codigo\": 37}, {\"Weeks\": \"w26\", \"variable\": \"Season 2016-2017\", \"value\": 2964.0, \"codigo\": 38}, {\"Weeks\": \"w27\", \"variable\": \"Season 2016-2017\", \"value\": 2842.0, \"codigo\": 39}, {\"Weeks\": \"w28\", \"variable\": \"Season 2016-2017\", \"value\": 3051.0, \"codigo\": 40}, {\"Weeks\": \"w29\", \"variable\": \"Season 2016-2017\", \"value\": 2765.0, \"codigo\": 41}, {\"Weeks\": \"w30\", \"variable\": \"Season 2016-2017\", \"value\": 2856.0, \"codigo\": 42}, {\"Weeks\": \"w31\", \"variable\": \"Season 2016-2017\", \"value\": 2699.0, \"codigo\": 43}, {\"Weeks\": \"w32\", \"variable\": \"Season 2016-2017\", \"value\": 2728.0, \"codigo\": 44}, {\"Weeks\": \"w33\", \"variable\": \"Season 2016-2017\", \"value\": 2700.0, \"codigo\": 45}, {\"Weeks\": \"w34\", \"variable\": \"Season 2016-2017\", \"value\": 2763.0, \"codigo\": 46}, {\"Weeks\": \"w35\", \"variable\": \"Season 2016-2017\", \"value\": 2723.0, \"codigo\": 47}, {\"Weeks\": \"w36\", \"variable\": \"Season 2016-2017\", \"value\": 2837.0, \"codigo\": 48}, {\"Weeks\": \"w37\", \"variable\": \"Season 2016-2017\", \"value\": 3028.0, \"codigo\": 49}, {\"Weeks\": \"w38\", \"variable\": \"Season 2016-2017\", \"value\": 2951.0, \"codigo\": 50}, {\"Weeks\": \"w39\", \"variable\": \"Season 2016-2017\", \"value\": 2907.0, \"codigo\": 51}, {\"Weeks\": \"w40\", \"variable\": \"Season 2015-2016\", \"value\": 3211.0, \"codigo\": 0}, {\"Weeks\": \"w41\", \"variable\": \"Season 2015-2016\", \"value\": 3138.0, \"codigo\": 1}, {\"Weeks\": \"w42\", \"variable\": \"Season 2015-2016\", \"value\": 3230.0, \"codigo\": 2}, {\"Weeks\": \"w43\", \"variable\": \"Season 2015-2016\", \"value\": 3180.0, \"codigo\": 3}, {\"Weeks\": \"w44\", \"variable\": \"Season 2015-2016\", \"value\": 3373.0, \"codigo\": 4}, {\"Weeks\": \"w45\", \"variable\": \"Season 2015-2016\", \"value\": 3239.0, \"codigo\": 5}, {\"Weeks\": \"w46\", \"variable\": \"Season 2015-2016\", \"value\": 3349.0, \"codigo\": 6}, {\"Weeks\": \"w47\", \"variable\": \"Season 2015-2016\", \"value\": 3338.0, \"codigo\": 7}, {\"Weeks\": \"w48\", \"variable\": \"Season 2015-2016\", \"value\": 3479.0, \"codigo\": 8}, {\"Weeks\": \"w49\", \"variable\": \"Season 2015-2016\", \"value\": 3548.0, \"codigo\": 9}, {\"Weeks\": \"w50\", \"variable\": \"Season 2015-2016\", \"value\": 3478.0, \"codigo\": 10}, {\"Weeks\": \"w51\", \"variable\": \"Season 2015-2016\", \"value\": 3525.0, \"codigo\": 11}, {\"Weeks\": \"w52\", \"variable\": \"Season 2015-2016\", \"value\": 3948.0, \"codigo\": 12}, {\"Weeks\": \"w01\", \"variable\": \"Season 2015-2016\", \"value\": 4273.0, \"codigo\": 13}, {\"Weeks\": \"w02\", \"variable\": \"Season 2015-2016\", \"value\": 4308.0, \"codigo\": 14}, {\"Weeks\": \"w03\", \"variable\": \"Season 2015-2016\", \"value\": 4079.0, \"codigo\": 15}, {\"Weeks\": \"w04\", \"variable\": \"Season 2015-2016\", \"value\": 4160.0, \"codigo\": 16}, {\"Weeks\": \"w05\", \"variable\": \"Season 2015-2016\", \"value\": 4125.0, \"codigo\": 17}, {\"Weeks\": \"w06\", \"variable\": \"Season 2015-2016\", \"value\": 4028.0, \"codigo\": 18}, {\"Weeks\": \"w07\", \"variable\": \"Season 2015-2016\", \"value\": 4159.0, \"codigo\": 19}, {\"Weeks\": \"w08\", \"variable\": \"Season 2015-2016\", \"value\": 4384.0, \"codigo\": 20}, {\"Weeks\": \"w09\", \"variable\": \"Season 2015-2016\", \"value\": 4500.0, \"codigo\": 21}, {\"Weeks\": \"w10\", \"variable\": \"Season 2015-2016\", \"value\": 4571.0, \"codigo\": 22}, {\"Weeks\": \"w11\", \"variable\": \"Season 2015-2016\", \"value\": 4494.0, \"codigo\": 23}, {\"Weeks\": \"w12\", \"variable\": \"Season 2015-2016\", \"value\": 4471.0, \"codigo\": 24}, {\"Weeks\": \"w13\", \"variable\": \"Season 2015-2016\", \"value\": 4175.0, \"codigo\": 25}, {\"Weeks\": \"w14\", \"variable\": \"Season 2015-2016\", \"value\": 4195.0, \"codigo\": 26}, {\"Weeks\": \"w15\", \"variable\": \"Season 2015-2016\", \"value\": 4087.0, \"codigo\": 27}, {\"Weeks\": \"w16\", \"variable\": \"Season 2015-2016\", \"value\": 3832.0, \"codigo\": 28}, {\"Weeks\": \"w17\", \"variable\": \"Season 2015-2016\", \"value\": 3525.0, \"codigo\": 29}, {\"Weeks\": \"w18\", \"variable\": \"Season 2015-2016\", \"value\": 3494.0, \"codigo\": 30}, {\"Weeks\": \"w19\", \"variable\": \"Season 2015-2016\", \"value\": 3314.0, \"codigo\": 31}, {\"Weeks\": \"w20\", \"variable\": \"Season 2015-2016\", \"value\": 3324.0, \"codigo\": 32}, {\"Weeks\": \"w21\", \"variable\": \"Season 2015-2016\", \"value\": 3229.0, \"codigo\": 33}, {\"Weeks\": \"w22\", \"variable\": \"Season 2015-2016\", \"value\": 3042.0, \"codigo\": 34}, {\"Weeks\": \"w23\", \"variable\": \"Season 2015-2016\", \"value\": 3192.0, \"codigo\": 35}, {\"Weeks\": \"w24\", \"variable\": \"Season 2015-2016\", \"value\": 2938.0, \"codigo\": 36}, {\"Weeks\": \"w25\", \"variable\": \"Season 2015-2016\", \"value\": 2888.0, \"codigo\": 37}, {\"Weeks\": \"w26\", \"variable\": \"Season 2015-2016\", \"value\": 2924.0, \"codigo\": 38}, {\"Weeks\": \"w27\", \"variable\": \"Season 2015-2016\", \"value\": 2924.0, \"codigo\": 39}, {\"Weeks\": \"w28\", \"variable\": \"Season 2015-2016\", \"value\": 2932.0, \"codigo\": 40}, {\"Weeks\": \"w29\", \"variable\": \"Season 2015-2016\", \"value\": 2772.0, \"codigo\": 41}, {\"Weeks\": \"w30\", \"variable\": \"Season 2015-2016\", \"value\": 2809.0, \"codigo\": 42}, {\"Weeks\": \"w31\", \"variable\": \"Season 2015-2016\", \"value\": 2848.0, \"codigo\": 43}, {\"Weeks\": \"w32\", \"variable\": \"Season 2015-2016\", \"value\": 2829.0, \"codigo\": 44}, {\"Weeks\": \"w33\", \"variable\": \"Season 2015-2016\", \"value\": 2872.0, \"codigo\": 45}, {\"Weeks\": \"w34\", \"variable\": \"Season 2015-2016\", \"value\": 2833.0, \"codigo\": 46}, {\"Weeks\": \"w35\", \"variable\": \"Season 2015-2016\", \"value\": 2874.0, \"codigo\": 47}, {\"Weeks\": \"w36\", \"variable\": \"Season 2015-2016\", \"value\": 2886.0, \"codigo\": 48}, {\"Weeks\": \"w37\", \"variable\": \"Season 2015-2016\", \"value\": 3101.0, \"codigo\": 49}, {\"Weeks\": \"w38\", \"variable\": \"Season 2015-2016\", \"value\": 3026.0, \"codigo\": 50}, {\"Weeks\": \"w39\", \"variable\": \"Season 2015-2016\", \"value\": 2997.0, \"codigo\": 51}, {\"Weeks\": \"w40\", \"variable\": \"Covid-19\", \"value\": null, \"codigo\": 0}, {\"Weeks\": \"w41\", \"variable\": \"Covid-19\", \"value\": null, \"codigo\": 1}, {\"Weeks\": \"w42\", \"variable\": \"Covid-19\", \"value\": null, \"codigo\": 2}, {\"Weeks\": \"w43\", \"variable\": \"Covid-19\", \"value\": null, \"codigo\": 3}, {\"Weeks\": \"w44\", \"variable\": \"Covid-19\", \"value\": null, \"codigo\": 4}, {\"Weeks\": \"w45\", \"variable\": \"Covid-19\", \"value\": null, \"codigo\": 5}, {\"Weeks\": \"w46\", \"variable\": \"Covid-19\", \"value\": null, \"codigo\": 6}, {\"Weeks\": \"w47\", \"variable\": \"Covid-19\", \"value\": null, \"codigo\": 7}, {\"Weeks\": \"w48\", \"variable\": \"Covid-19\", \"value\": null, \"codigo\": 8}, {\"Weeks\": \"w49\", \"variable\": \"Covid-19\", \"value\": null, \"codigo\": 9}, {\"Weeks\": \"w50\", \"variable\": \"Covid-19\", \"value\": null, \"codigo\": 10}, {\"Weeks\": \"w51\", \"variable\": \"Covid-19\", \"value\": null, \"codigo\": 11}, {\"Weeks\": \"w52\", \"variable\": \"Covid-19\", \"value\": null, \"codigo\": 12}, {\"Weeks\": \"w01\", \"variable\": \"Covid-19\", \"value\": null, \"codigo\": 13}, {\"Weeks\": \"w02\", \"variable\": \"Covid-19\", \"value\": null, \"codigo\": 14}, {\"Weeks\": \"w03\", \"variable\": \"Covid-19\", \"value\": null, \"codigo\": 15}, {\"Weeks\": \"w04\", \"variable\": \"Covid-19\", \"value\": null, \"codigo\": 16}, {\"Weeks\": \"w05\", \"variable\": \"Covid-19\", \"value\": null, \"codigo\": 17}, {\"Weeks\": \"w06\", \"variable\": \"Covid-19\", \"value\": null, \"codigo\": 18}, {\"Weeks\": \"w07\", \"variable\": \"Covid-19\", \"value\": null, \"codigo\": 19}, {\"Weeks\": \"w08\", \"variable\": \"Covid-19\", \"value\": null, \"codigo\": 20}, {\"Weeks\": \"w09\", \"variable\": \"Covid-19\", \"value\": 1.0, \"codigo\": 21}, {\"Weeks\": \"w10\", \"variable\": \"Covid-19\", \"value\": 16.0, \"codigo\": 22}, {\"Weeks\": \"w11\", \"variable\": \"Covid-19\", \"value\": 40.0, \"codigo\": 23}, {\"Weeks\": \"w12\", \"variable\": \"Covid-19\", \"value\": 283.0, \"codigo\": 24}, {\"Weeks\": \"w13\", \"variable\": \"Covid-19\", \"value\": 1851.0, \"codigo\": 25}, {\"Weeks\": \"w14\", \"variable\": \"Covid-19\", \"value\": 6310.0, \"codigo\": 26}, {\"Weeks\": \"w15\", \"variable\": \"Covid-19\", \"value\": 12107.0, \"codigo\": 27}, {\"Weeks\": \"w16\", \"variable\": \"Covid-19\", \"value\": null, \"codigo\": 28}, {\"Weeks\": \"w17\", \"variable\": \"Covid-19\", \"value\": null, \"codigo\": 29}, {\"Weeks\": \"w18\", \"variable\": \"Covid-19\", \"value\": null, \"codigo\": 30}, {\"Weeks\": \"w19\", \"variable\": \"Covid-19\", \"value\": null, \"codigo\": 31}, {\"Weeks\": \"w20\", \"variable\": \"Covid-19\", \"value\": null, \"codigo\": 32}, {\"Weeks\": \"w21\", \"variable\": \"Covid-19\", \"value\": null, \"codigo\": 33}, {\"Weeks\": \"w22\", \"variable\": \"Covid-19\", \"value\": null, \"codigo\": 34}, {\"Weeks\": \"w23\", \"variable\": \"Covid-19\", \"value\": null, \"codigo\": 35}, {\"Weeks\": \"w24\", \"variable\": \"Covid-19\", \"value\": null, \"codigo\": 36}, {\"Weeks\": \"w25\", \"variable\": \"Covid-19\", \"value\": null, \"codigo\": 37}, {\"Weeks\": \"w26\", \"variable\": \"Covid-19\", \"value\": null, \"codigo\": 38}, {\"Weeks\": \"w27\", \"variable\": \"Covid-19\", \"value\": null, \"codigo\": 39}, {\"Weeks\": \"w28\", \"variable\": \"Covid-19\", \"value\": null, \"codigo\": 40}, {\"Weeks\": \"w29\", \"variable\": \"Covid-19\", \"value\": null, \"codigo\": 41}, {\"Weeks\": \"w30\", \"variable\": \"Covid-19\", \"value\": null, \"codigo\": 42}, {\"Weeks\": \"w31\", \"variable\": \"Covid-19\", \"value\": null, \"codigo\": 43}, {\"Weeks\": \"w32\", \"variable\": \"Covid-19\", \"value\": null, \"codigo\": 44}, {\"Weeks\": \"w33\", \"variable\": \"Covid-19\", \"value\": null, \"codigo\": 45}, {\"Weeks\": \"w34\", \"variable\": \"Covid-19\", \"value\": null, \"codigo\": 46}, {\"Weeks\": \"w35\", \"variable\": \"Covid-19\", \"value\": null, \"codigo\": 47}, {\"Weeks\": \"w36\", \"variable\": \"Covid-19\", \"value\": null, \"codigo\": 48}, {\"Weeks\": \"w37\", \"variable\": \"Covid-19\", \"value\": null, \"codigo\": 49}, {\"Weeks\": \"w38\", \"variable\": \"Covid-19\", \"value\": null, \"codigo\": 50}, {\"Weeks\": \"w39\", \"variable\": \"Covid-19\", \"value\": null, \"codigo\": 51}]}}, {\"mode\": \"vega-lite\"});\n",
       "</script>"
      ],
      "text/plain": [
       "alt.LayerChart(...)"
      ]
     },
     "execution_count": 55,
     "metadata": {},
     "output_type": "execute_result"
    }
   ],
   "source": [
    "#hide_input\n",
    "# select a point for which to provide details-on-demand\n",
    "label = alt.selection_single(\n",
    "    encodings=['x'], # limit selection to x-axis value\n",
    "    on='mouseover',  # select on mouseover events\n",
    "    nearest=True,    # select data point nearest the cursor\n",
    "    empty='none'     # empty selection includes no data points\n",
    ")\n",
    "\n",
    "base = alt.Chart().mark_line(point=True).encode(\n",
    "    x = alt.X('Weeks:N', axis=alt.Axis(title='Week of Flu Season'), sort=None),\n",
    "    y = alt.Y('value', axis=alt.Axis(title='Weekly Deaths')),\n",
    "    color=alt.Color('variable', legend=alt.Legend(title=\"\"), scale=alt.Scale(\n",
    "        range=['#d62728', '#1f77b4', '#ff7f0b', '#2ca02c', '#9467bd'])),\n",
    "    order='codigo',\n",
    ")\n",
    "\n",
    "alt.layer(\n",
    "    base, # base line chart\n",
    "    \n",
    "    # add a rule mark to serve as a guide line\n",
    "    alt.Chart().mark_rule(color='#aaa').encode(\n",
    "        x = alt.X('Weeks:N', axis=alt.Axis(title='Week of Flu Season'), sort=None)\n",
    "    ).transform_filter(label),\n",
    "    \n",
    "    # add circle marks for selected time points, hide unselected points\n",
    "    base.mark_circle().encode(\n",
    "        opacity=alt.condition(label, alt.value(1), alt.value(0))\n",
    "    ).add_selection(label),\n",
    "\n",
    "    # add white stroked text to provide a legible background for labels\n",
    "    base.mark_text(align='left', dx=5, dy=-5, stroke='white', strokeWidth=2).encode(\n",
    "        text='value:Q'\n",
    "    ).transform_filter(label),\n",
    "\n",
    "    # add text labels for stock prices\n",
    "    base.mark_text(align='left', dx=5, dy=-5).encode(\n",
    "        text='value:Q'\n",
    "    ).transform_filter(label),\n",
    "    \n",
    "    data=data\n",
    ").properties(\n",
    "    title=f'Covid-19 vs Flu: Weekly deaths up to week 15',\n",
    "    width=700\n",
    ")"
   ]
  },
  {
   "cell_type": "code",
   "execution_count": 56,
   "metadata": {},
   "outputs": [],
   "source": [
    "#hide\n",
    "data = pd.DataFrame()\n",
    "data[\"Weeks\"] = [f\"w{i}\" for i in np.arange(40,53)]+[f\"w0{i}\" for i in np.arange(1,10)] + [f\"w{i}\" for i in np.arange(10,40)]\n",
    "data[\"Season 2018-2019\"] = (data_season_2018_2019['NUM INFLUENZA DEATHS']+data_season_2018_2019['NUM PNEUMONIA DEATHS']).reset_index(drop=True)\n",
    "data[\"Season 2017-2018\"] = (data_season_2017_2018['NUM INFLUENZA DEATHS']+data_season_2017_2018['NUM PNEUMONIA DEATHS']).reset_index(drop=True)\n",
    "data[\"Season 2016-2017\"] = (data_season_2016_2017['NUM INFLUENZA DEATHS']+data_season_2016_2017['NUM PNEUMONIA DEATHS']).reset_index(drop=True)\n",
    "data[\"Season 2015-2016\"] = (data_season_2015_2016['NUM INFLUENZA DEATHS']+data_season_2015_2016['NUM PNEUMONIA DEATHS']).reset_index(drop=True)\n",
    "\n",
    "\n",
    "data[\"Covid-19\"] = len(data) * np.nan\n",
    "data[\"Covid-19\"].iloc[21:29] = deaths_covid[:-1]\n",
    "\n",
    "data = data.melt(\"Weeks\")\n",
    "data[\"codigo\"] = [i for i in np.arange(52)]*5"
   ]
  },
  {
   "cell_type": "code",
   "execution_count": 57,
   "metadata": {},
   "outputs": [
    {
     "data": {
      "text/html": [
       "\n",
       "<div id=\"altair-viz-f6feb813ac0d4964ab0173ba2b3460f2\"></div>\n",
       "<script type=\"text/javascript\">\n",
       "  (function(spec, embedOpt){\n",
       "    let outputDiv = document.currentScript.previousElementSibling;\n",
       "    if (outputDiv.id !== \"altair-viz-f6feb813ac0d4964ab0173ba2b3460f2\") {\n",
       "      outputDiv = document.getElementById(\"altair-viz-f6feb813ac0d4964ab0173ba2b3460f2\");\n",
       "    }\n",
       "    const paths = {\n",
       "      \"vega\": \"https://cdn.jsdelivr.net/npm//vega@5?noext\",\n",
       "      \"vega-lib\": \"https://cdn.jsdelivr.net/npm//vega-lib?noext\",\n",
       "      \"vega-lite\": \"https://cdn.jsdelivr.net/npm//vega-lite@4.8.1?noext\",\n",
       "      \"vega-embed\": \"https://cdn.jsdelivr.net/npm//vega-embed@6?noext\",\n",
       "    };\n",
       "\n",
       "    function loadScript(lib) {\n",
       "      return new Promise(function(resolve, reject) {\n",
       "        var s = document.createElement('script');\n",
       "        s.src = paths[lib];\n",
       "        s.async = true;\n",
       "        s.onload = () => resolve(paths[lib]);\n",
       "        s.onerror = () => reject(`Error loading script: ${paths[lib]}`);\n",
       "        document.getElementsByTagName(\"head\")[0].appendChild(s);\n",
       "      });\n",
       "    }\n",
       "\n",
       "    function showError(err) {\n",
       "      outputDiv.innerHTML = `<div class=\"error\" style=\"color:red;\">${err}</div>`;\n",
       "      throw err;\n",
       "    }\n",
       "\n",
       "    function displayChart(vegaEmbed) {\n",
       "      vegaEmbed(outputDiv, spec, embedOpt)\n",
       "        .catch(err => showError(`Javascript Error: ${err.message}<br>This usually means there's a typo in your chart specification. See the javascript console for the full traceback.`));\n",
       "    }\n",
       "\n",
       "    if(typeof define === \"function\" && define.amd) {\n",
       "      requirejs.config({paths});\n",
       "      require([\"vega-embed\"], displayChart, err => showError(`Error loading script: ${err.message}`));\n",
       "    } else if (typeof vegaEmbed === \"function\") {\n",
       "      displayChart(vegaEmbed);\n",
       "    } else {\n",
       "      loadScript(\"vega\")\n",
       "        .then(() => loadScript(\"vega-lite\"))\n",
       "        .then(() => loadScript(\"vega-embed\"))\n",
       "        .catch(showError)\n",
       "        .then(() => displayChart(vegaEmbed));\n",
       "    }\n",
       "  })({\"config\": {\"view\": {\"continuousWidth\": 400, \"continuousHeight\": 300}}, \"layer\": [{\"mark\": {\"type\": \"line\", \"point\": true}, \"encoding\": {\"color\": {\"type\": \"nominal\", \"field\": \"variable\", \"legend\": {\"title\": \"\"}, \"scale\": {\"range\": [\"#d62728\", \"#1f77b4\", \"#ff7f0b\", \"#2ca02c\", \"#9467bd\"]}}, \"order\": {\"type\": \"quantitative\", \"field\": \"codigo\"}, \"x\": {\"type\": \"nominal\", \"axis\": {\"title\": \"Week of Flu Season\"}, \"field\": \"Weeks\", \"sort\": null}, \"y\": {\"type\": \"quantitative\", \"axis\": {\"title\": \"Weekly Deaths\"}, \"field\": \"value\"}}}, {\"mark\": {\"type\": \"rule\", \"color\": \"#aaa\"}, \"encoding\": {\"x\": {\"type\": \"nominal\", \"axis\": {\"title\": \"Week of Flu Season\"}, \"field\": \"Weeks\", \"sort\": null}}, \"transform\": [{\"filter\": {\"selection\": \"selector008\"}}]}, {\"mark\": \"circle\", \"encoding\": {\"color\": {\"type\": \"nominal\", \"field\": \"variable\", \"legend\": {\"title\": \"\"}, \"scale\": {\"range\": [\"#d62728\", \"#1f77b4\", \"#ff7f0b\", \"#2ca02c\", \"#9467bd\"]}}, \"opacity\": {\"condition\": {\"value\": 1, \"selection\": \"selector008\"}, \"value\": 0}, \"order\": {\"type\": \"quantitative\", \"field\": \"codigo\"}, \"x\": {\"type\": \"nominal\", \"axis\": {\"title\": \"Week of Flu Season\"}, \"field\": \"Weeks\", \"sort\": null}, \"y\": {\"type\": \"quantitative\", \"axis\": {\"title\": \"Weekly Deaths\"}, \"field\": \"value\"}}, \"selection\": {\"selector008\": {\"type\": \"single\", \"encodings\": [\"x\"], \"on\": \"mouseover\", \"nearest\": true, \"empty\": \"none\"}}}, {\"mark\": {\"type\": \"text\", \"align\": \"left\", \"dx\": 5, \"dy\": -5, \"stroke\": \"white\", \"strokeWidth\": 2}, \"encoding\": {\"color\": {\"type\": \"nominal\", \"field\": \"variable\", \"legend\": {\"title\": \"\"}, \"scale\": {\"range\": [\"#d62728\", \"#1f77b4\", \"#ff7f0b\", \"#2ca02c\", \"#9467bd\"]}}, \"order\": {\"type\": \"quantitative\", \"field\": \"codigo\"}, \"text\": {\"type\": \"quantitative\", \"field\": \"value\"}, \"x\": {\"type\": \"nominal\", \"axis\": {\"title\": \"Week of Flu Season\"}, \"field\": \"Weeks\", \"sort\": null}, \"y\": {\"type\": \"quantitative\", \"axis\": {\"title\": \"Weekly Deaths\"}, \"field\": \"value\"}}, \"transform\": [{\"filter\": {\"selection\": \"selector008\"}}]}, {\"mark\": {\"type\": \"text\", \"align\": \"left\", \"dx\": 5, \"dy\": -5}, \"encoding\": {\"color\": {\"type\": \"nominal\", \"field\": \"variable\", \"legend\": {\"title\": \"\"}, \"scale\": {\"range\": [\"#d62728\", \"#1f77b4\", \"#ff7f0b\", \"#2ca02c\", \"#9467bd\"]}}, \"order\": {\"type\": \"quantitative\", \"field\": \"codigo\"}, \"text\": {\"type\": \"quantitative\", \"field\": \"value\"}, \"x\": {\"type\": \"nominal\", \"axis\": {\"title\": \"Week of Flu Season\"}, \"field\": \"Weeks\", \"sort\": null}, \"y\": {\"type\": \"quantitative\", \"axis\": {\"title\": \"Weekly Deaths\"}, \"field\": \"value\"}}, \"transform\": [{\"filter\": {\"selection\": \"selector008\"}}]}], \"data\": {\"name\": \"data-329651d176dadb67086807a70c66152e\"}, \"title\": \"Covid-19 vs Flu: Weekly deaths up to week 16\", \"width\": 700, \"$schema\": \"https://vega.github.io/schema/vega-lite/v4.8.1.json\", \"datasets\": {\"data-329651d176dadb67086807a70c66152e\": [{\"Weeks\": \"w40\", \"variable\": \"Season 2018-2019\", \"value\": 2979.0, \"codigo\": 0}, {\"Weeks\": \"w41\", \"variable\": \"Season 2018-2019\", \"value\": 2878.0, \"codigo\": 1}, {\"Weeks\": \"w42\", \"variable\": \"Season 2018-2019\", \"value\": 3005.0, \"codigo\": 2}, {\"Weeks\": \"w43\", \"variable\": \"Season 2018-2019\", \"value\": 3089.0, \"codigo\": 3}, {\"Weeks\": \"w44\", \"variable\": \"Season 2018-2019\", \"value\": 3028.0, \"codigo\": 4}, {\"Weeks\": \"w45\", \"variable\": \"Season 2018-2019\", \"value\": 3050.0, \"codigo\": 5}, {\"Weeks\": \"w46\", \"variable\": \"Season 2018-2019\", \"value\": 3168.0, \"codigo\": 6}, {\"Weeks\": \"w47\", \"variable\": \"Season 2018-2019\", \"value\": 3209.0, \"codigo\": 7}, {\"Weeks\": \"w48\", \"variable\": \"Season 2018-2019\", \"value\": 3325.0, \"codigo\": 8}, {\"Weeks\": \"w49\", \"variable\": \"Season 2018-2019\", \"value\": 3455.0, \"codigo\": 9}, {\"Weeks\": \"w50\", \"variable\": \"Season 2018-2019\", \"value\": 3603.0, \"codigo\": 10}, {\"Weeks\": \"w51\", \"variable\": \"Season 2018-2019\", \"value\": 3578.0, \"codigo\": 11}, {\"Weeks\": \"w52\", \"variable\": \"Season 2018-2019\", \"value\": 3776.0, \"codigo\": 12}, {\"Weeks\": \"w01\", \"variable\": \"Season 2018-2019\", \"value\": 4128.0, \"codigo\": 13}, {\"Weeks\": \"w02\", \"variable\": \"Season 2018-2019\", \"value\": 4315.0, \"codigo\": 14}, {\"Weeks\": \"w03\", \"variable\": \"Season 2018-2019\", \"value\": 4340.0, \"codigo\": 15}, {\"Weeks\": \"w04\", \"variable\": \"Season 2018-2019\", \"value\": 4169.0, \"codigo\": 16}, {\"Weeks\": \"w05\", \"variable\": \"Season 2018-2019\", \"value\": 4215.0, \"codigo\": 17}, {\"Weeks\": \"w06\", \"variable\": \"Season 2018-2019\", \"value\": 4255.0, \"codigo\": 18}, {\"Weeks\": \"w07\", \"variable\": \"Season 2018-2019\", \"value\": 4372.0, \"codigo\": 19}, {\"Weeks\": \"w08\", \"variable\": \"Season 2018-2019\", \"value\": 4447.0, \"codigo\": 20}, {\"Weeks\": \"w09\", \"variable\": \"Season 2018-2019\", \"value\": 4269.0, \"codigo\": 21}, {\"Weeks\": \"w10\", \"variable\": \"Season 2018-2019\", \"value\": 4290.0, \"codigo\": 22}, {\"Weeks\": \"w11\", \"variable\": \"Season 2018-2019\", \"value\": 4489.0, \"codigo\": 23}, {\"Weeks\": \"w12\", \"variable\": \"Season 2018-2019\", \"value\": 4274.0, \"codigo\": 24}, {\"Weeks\": \"w13\", \"variable\": \"Season 2018-2019\", \"value\": 4171.0, \"codigo\": 25}, {\"Weeks\": \"w14\", \"variable\": \"Season 2018-2019\", \"value\": 3974.0, \"codigo\": 26}, {\"Weeks\": \"w15\", \"variable\": \"Season 2018-2019\", \"value\": 3750.0, \"codigo\": 27}, {\"Weeks\": \"w16\", \"variable\": \"Season 2018-2019\", \"value\": 3611.0, \"codigo\": 28}, {\"Weeks\": \"w17\", \"variable\": \"Season 2018-2019\", \"value\": 3424.0, \"codigo\": 29}, {\"Weeks\": \"w18\", \"variable\": \"Season 2018-2019\", \"value\": 3320.0, \"codigo\": 30}, {\"Weeks\": \"w19\", \"variable\": \"Season 2018-2019\", \"value\": 3296.0, \"codigo\": 31}, {\"Weeks\": \"w20\", \"variable\": \"Season 2018-2019\", \"value\": 3203.0, \"codigo\": 32}, {\"Weeks\": \"w21\", \"variable\": \"Season 2018-2019\", \"value\": 3179.0, \"codigo\": 33}, {\"Weeks\": \"w22\", \"variable\": \"Season 2018-2019\", \"value\": 3149.0, \"codigo\": 34}, {\"Weeks\": \"w23\", \"variable\": \"Season 2018-2019\", \"value\": 3063.0, \"codigo\": 35}, {\"Weeks\": \"w24\", \"variable\": \"Season 2018-2019\", \"value\": 2946.0, \"codigo\": 36}, {\"Weeks\": \"w25\", \"variable\": \"Season 2018-2019\", \"value\": 2963.0, \"codigo\": 37}, {\"Weeks\": \"w26\", \"variable\": \"Season 2018-2019\", \"value\": 2911.0, \"codigo\": 38}, {\"Weeks\": \"w27\", \"variable\": \"Season 2018-2019\", \"value\": 2868.0, \"codigo\": 39}, {\"Weeks\": \"w28\", \"variable\": \"Season 2018-2019\", \"value\": 2781.0, \"codigo\": 40}, {\"Weeks\": \"w29\", \"variable\": \"Season 2018-2019\", \"value\": 2684.0, \"codigo\": 41}, {\"Weeks\": \"w30\", \"variable\": \"Season 2018-2019\", \"value\": 2767.0, \"codigo\": 42}, {\"Weeks\": \"w31\", \"variable\": \"Season 2018-2019\", \"value\": 2738.0, \"codigo\": 43}, {\"Weeks\": \"w32\", \"variable\": \"Season 2018-2019\", \"value\": 2644.0, \"codigo\": 44}, {\"Weeks\": \"w33\", \"variable\": \"Season 2018-2019\", \"value\": 2610.0, \"codigo\": 45}, {\"Weeks\": \"w34\", \"variable\": \"Season 2018-2019\", \"value\": 2600.0, \"codigo\": 46}, {\"Weeks\": \"w35\", \"variable\": \"Season 2018-2019\", \"value\": 2624.0, \"codigo\": 47}, {\"Weeks\": \"w36\", \"variable\": \"Season 2018-2019\", \"value\": 2590.0, \"codigo\": 48}, {\"Weeks\": \"w37\", \"variable\": \"Season 2018-2019\", \"value\": 2527.0, \"codigo\": 49}, {\"Weeks\": \"w38\", \"variable\": \"Season 2018-2019\", \"value\": 2721.0, \"codigo\": 50}, {\"Weeks\": \"w39\", \"variable\": \"Season 2018-2019\", \"value\": 2788.0, \"codigo\": 51}, {\"Weeks\": \"w40\", \"variable\": \"Season 2017-2018\", \"value\": 3038.0, \"codigo\": 0}, {\"Weeks\": \"w41\", \"variable\": \"Season 2017-2018\", \"value\": 3019.0, \"codigo\": 1}, {\"Weeks\": \"w42\", \"variable\": \"Season 2017-2018\", \"value\": 3184.0, \"codigo\": 2}, {\"Weeks\": \"w43\", \"variable\": \"Season 2017-2018\", \"value\": 3302.0, \"codigo\": 3}, {\"Weeks\": \"w44\", \"variable\": \"Season 2017-2018\", \"value\": 3251.0, \"codigo\": 4}, {\"Weeks\": \"w45\", \"variable\": \"Season 2017-2018\", \"value\": 3225.0, \"codigo\": 5}, {\"Weeks\": \"w46\", \"variable\": \"Season 2017-2018\", \"value\": 3365.0, \"codigo\": 6}, {\"Weeks\": \"w47\", \"variable\": \"Season 2017-2018\", \"value\": 3250.0, \"codigo\": 7}, {\"Weeks\": \"w48\", \"variable\": \"Season 2017-2018\", \"value\": 3576.0, \"codigo\": 8}, {\"Weeks\": \"w49\", \"variable\": \"Season 2017-2018\", \"value\": 3646.0, \"codigo\": 9}, {\"Weeks\": \"w50\", \"variable\": \"Season 2017-2018\", \"value\": 3924.0, \"codigo\": 10}, {\"Weeks\": \"w51\", \"variable\": \"Season 2017-2018\", \"value\": 4346.0, \"codigo\": 11}, {\"Weeks\": \"w52\", \"variable\": \"Season 2017-2018\", \"value\": 5089.0, \"codigo\": 12}, {\"Weeks\": \"w01\", \"variable\": \"Season 2017-2018\", \"value\": 6321.0, \"codigo\": 13}, {\"Weeks\": \"w02\", \"variable\": \"Season 2017-2018\", \"value\": 7119.0, \"codigo\": 14}, {\"Weeks\": \"w03\", \"variable\": \"Season 2017-2018\", \"value\": 7038.0, \"codigo\": 15}, {\"Weeks\": \"w04\", \"variable\": \"Season 2017-2018\", \"value\": 6635.0, \"codigo\": 16}, {\"Weeks\": \"w05\", \"variable\": \"Season 2017-2018\", \"value\": 6237.0, \"codigo\": 17}, {\"Weeks\": \"w06\", \"variable\": \"Season 2017-2018\", \"value\": 5932.0, \"codigo\": 18}, {\"Weeks\": \"w07\", \"variable\": \"Season 2017-2018\", \"value\": 5778.0, \"codigo\": 19}, {\"Weeks\": \"w08\", \"variable\": \"Season 2017-2018\", \"value\": 5318.0, \"codigo\": 20}, {\"Weeks\": \"w09\", \"variable\": \"Season 2017-2018\", \"value\": 4782.0, \"codigo\": 21}, {\"Weeks\": \"w10\", \"variable\": \"Season 2017-2018\", \"value\": 4568.0, \"codigo\": 22}, {\"Weeks\": \"w11\", \"variable\": \"Season 2017-2018\", \"value\": 4297.0, \"codigo\": 23}, {\"Weeks\": \"w12\", \"variable\": \"Season 2017-2018\", \"value\": 4138.0, \"codigo\": 24}, {\"Weeks\": \"w13\", \"variable\": \"Season 2017-2018\", \"value\": 4063.0, \"codigo\": 25}, {\"Weeks\": \"w14\", \"variable\": \"Season 2017-2018\", \"value\": 3998.0, \"codigo\": 26}, {\"Weeks\": \"w15\", \"variable\": \"Season 2017-2018\", \"value\": 3804.0, \"codigo\": 27}, {\"Weeks\": \"w16\", \"variable\": \"Season 2017-2018\", \"value\": 3582.0, \"codigo\": 28}, {\"Weeks\": \"w17\", \"variable\": \"Season 2017-2018\", \"value\": 3513.0, \"codigo\": 29}, {\"Weeks\": \"w18\", \"variable\": \"Season 2017-2018\", \"value\": 3304.0, \"codigo\": 30}, {\"Weeks\": \"w19\", \"variable\": \"Season 2017-2018\", \"value\": 3085.0, \"codigo\": 31}, {\"Weeks\": \"w20\", \"variable\": \"Season 2017-2018\", \"value\": 2998.0, \"codigo\": 32}, {\"Weeks\": \"w21\", \"variable\": \"Season 2017-2018\", \"value\": 2977.0, \"codigo\": 33}, {\"Weeks\": \"w22\", \"variable\": \"Season 2017-2018\", \"value\": 2931.0, \"codigo\": 34}, {\"Weeks\": \"w23\", \"variable\": \"Season 2017-2018\", \"value\": 2922.0, \"codigo\": 35}, {\"Weeks\": \"w24\", \"variable\": \"Season 2017-2018\", \"value\": 2949.0, \"codigo\": 36}, {\"Weeks\": \"w25\", \"variable\": \"Season 2017-2018\", \"value\": 2872.0, \"codigo\": 37}, {\"Weeks\": \"w26\", \"variable\": \"Season 2017-2018\", \"value\": 2877.0, \"codigo\": 38}, {\"Weeks\": \"w27\", \"variable\": \"Season 2017-2018\", \"value\": 2779.0, \"codigo\": 39}, {\"Weeks\": \"w28\", \"variable\": \"Season 2017-2018\", \"value\": 2786.0, \"codigo\": 40}, {\"Weeks\": \"w29\", \"variable\": \"Season 2017-2018\", \"value\": 2714.0, \"codigo\": 41}, {\"Weeks\": \"w30\", \"variable\": \"Season 2017-2018\", \"value\": 2709.0, \"codigo\": 42}, {\"Weeks\": \"w31\", \"variable\": \"Season 2017-2018\", \"value\": 2665.0, \"codigo\": 43}, {\"Weeks\": \"w32\", \"variable\": \"Season 2017-2018\", \"value\": 2683.0, \"codigo\": 44}, {\"Weeks\": \"w33\", \"variable\": \"Season 2017-2018\", \"value\": 2622.0, \"codigo\": 45}, {\"Weeks\": \"w34\", \"variable\": \"Season 2017-2018\", \"value\": 2723.0, \"codigo\": 46}, {\"Weeks\": \"w35\", \"variable\": \"Season 2017-2018\", \"value\": 2636.0, \"codigo\": 47}, {\"Weeks\": \"w36\", \"variable\": \"Season 2017-2018\", \"value\": 2755.0, \"codigo\": 48}, {\"Weeks\": \"w37\", \"variable\": \"Season 2017-2018\", \"value\": 2769.0, \"codigo\": 49}, {\"Weeks\": \"w38\", \"variable\": \"Season 2017-2018\", \"value\": 2830.0, \"codigo\": 50}, {\"Weeks\": \"w39\", \"variable\": \"Season 2017-2018\", \"value\": 2828.0, \"codigo\": 51}, {\"Weeks\": \"w40\", \"variable\": \"Season 2016-2017\", \"value\": 3042.0, \"codigo\": 0}, {\"Weeks\": \"w41\", \"variable\": \"Season 2016-2017\", \"value\": 3204.0, \"codigo\": 1}, {\"Weeks\": \"w42\", \"variable\": \"Season 2016-2017\", \"value\": 3185.0, \"codigo\": 2}, {\"Weeks\": \"w43\", \"variable\": \"Season 2016-2017\", \"value\": 3147.0, \"codigo\": 3}, {\"Weeks\": \"w44\", \"variable\": \"Season 2016-2017\", \"value\": 3116.0, \"codigo\": 4}, {\"Weeks\": \"w45\", \"variable\": \"Season 2016-2017\", \"value\": 3226.0, \"codigo\": 5}, {\"Weeks\": \"w46\", \"variable\": \"Season 2016-2017\", \"value\": 3199.0, \"codigo\": 6}, {\"Weeks\": \"w47\", \"variable\": \"Season 2016-2017\", \"value\": 3277.0, \"codigo\": 7}, {\"Weeks\": \"w48\", \"variable\": \"Season 2016-2017\", \"value\": 3544.0, \"codigo\": 8}, {\"Weeks\": \"w49\", \"variable\": \"Season 2016-2017\", \"value\": 3649.0, \"codigo\": 9}, {\"Weeks\": \"w50\", \"variable\": \"Season 2016-2017\", \"value\": 3824.0, \"codigo\": 10}, {\"Weeks\": \"w51\", \"variable\": \"Season 2016-2017\", \"value\": 3829.0, \"codigo\": 11}, {\"Weeks\": \"w52\", \"variable\": \"Season 2016-2017\", \"value\": 4262.0, \"codigo\": 12}, {\"Weeks\": \"w01\", \"variable\": \"Season 2016-2017\", \"value\": 4847.0, \"codigo\": 13}, {\"Weeks\": \"w02\", \"variable\": \"Season 2016-2017\", \"value\": 4873.0, \"codigo\": 14}, {\"Weeks\": \"w03\", \"variable\": \"Season 2016-2017\", \"value\": 4994.0, \"codigo\": 15}, {\"Weeks\": \"w04\", \"variable\": \"Season 2016-2017\", \"value\": 4794.0, \"codigo\": 16}, {\"Weeks\": \"w05\", \"variable\": \"Season 2016-2017\", \"value\": 4803.0, \"codigo\": 17}, {\"Weeks\": \"w06\", \"variable\": \"Season 2016-2017\", \"value\": 4866.0, \"codigo\": 18}, {\"Weeks\": \"w07\", \"variable\": \"Season 2016-2017\", \"value\": 4964.0, \"codigo\": 19}, {\"Weeks\": \"w08\", \"variable\": \"Season 2016-2017\", \"value\": 4974.0, \"codigo\": 20}, {\"Weeks\": \"w09\", \"variable\": \"Season 2016-2017\", \"value\": 4794.0, \"codigo\": 21}, {\"Weeks\": \"w10\", \"variable\": \"Season 2016-2017\", \"value\": 4695.0, \"codigo\": 22}, {\"Weeks\": \"w11\", \"variable\": \"Season 2016-2017\", \"value\": 4476.0, \"codigo\": 23}, {\"Weeks\": \"w12\", \"variable\": \"Season 2016-2017\", \"value\": 4410.0, \"codigo\": 24}, {\"Weeks\": \"w13\", \"variable\": \"Season 2016-2017\", \"value\": 4220.0, \"codigo\": 25}, {\"Weeks\": \"w14\", \"variable\": \"Season 2016-2017\", \"value\": 4087.0, \"codigo\": 26}, {\"Weeks\": \"w15\", \"variable\": \"Season 2016-2017\", \"value\": 3984.0, \"codigo\": 27}, {\"Weeks\": \"w16\", \"variable\": \"Season 2016-2017\", \"value\": 3651.0, \"codigo\": 28}, {\"Weeks\": \"w17\", \"variable\": \"Season 2016-2017\", \"value\": 3548.0, \"codigo\": 29}, {\"Weeks\": \"w18\", \"variable\": \"Season 2016-2017\", \"value\": 3371.0, \"codigo\": 30}, {\"Weeks\": \"w19\", \"variable\": \"Season 2016-2017\", \"value\": 3266.0, \"codigo\": 31}, {\"Weeks\": \"w20\", \"variable\": \"Season 2016-2017\", \"value\": 3254.0, \"codigo\": 32}, {\"Weeks\": \"w21\", \"variable\": \"Season 2016-2017\", \"value\": 3115.0, \"codigo\": 33}, {\"Weeks\": \"w22\", \"variable\": \"Season 2016-2017\", \"value\": 3042.0, \"codigo\": 34}, {\"Weeks\": \"w23\", \"variable\": \"Season 2016-2017\", \"value\": 3144.0, \"codigo\": 35}, {\"Weeks\": \"w24\", \"variable\": \"Season 2016-2017\", \"value\": 3088.0, \"codigo\": 36}, {\"Weeks\": \"w25\", \"variable\": \"Season 2016-2017\", \"value\": 2997.0, \"codigo\": 37}, {\"Weeks\": \"w26\", \"variable\": \"Season 2016-2017\", \"value\": 2964.0, \"codigo\": 38}, {\"Weeks\": \"w27\", \"variable\": \"Season 2016-2017\", \"value\": 2842.0, \"codigo\": 39}, {\"Weeks\": \"w28\", \"variable\": \"Season 2016-2017\", \"value\": 3051.0, \"codigo\": 40}, {\"Weeks\": \"w29\", \"variable\": \"Season 2016-2017\", \"value\": 2765.0, \"codigo\": 41}, {\"Weeks\": \"w30\", \"variable\": \"Season 2016-2017\", \"value\": 2856.0, \"codigo\": 42}, {\"Weeks\": \"w31\", \"variable\": \"Season 2016-2017\", \"value\": 2699.0, \"codigo\": 43}, {\"Weeks\": \"w32\", \"variable\": \"Season 2016-2017\", \"value\": 2728.0, \"codigo\": 44}, {\"Weeks\": \"w33\", \"variable\": \"Season 2016-2017\", \"value\": 2700.0, \"codigo\": 45}, {\"Weeks\": \"w34\", \"variable\": \"Season 2016-2017\", \"value\": 2763.0, \"codigo\": 46}, {\"Weeks\": \"w35\", \"variable\": \"Season 2016-2017\", \"value\": 2723.0, \"codigo\": 47}, {\"Weeks\": \"w36\", \"variable\": \"Season 2016-2017\", \"value\": 2837.0, \"codigo\": 48}, {\"Weeks\": \"w37\", \"variable\": \"Season 2016-2017\", \"value\": 3028.0, \"codigo\": 49}, {\"Weeks\": \"w38\", \"variable\": \"Season 2016-2017\", \"value\": 2951.0, \"codigo\": 50}, {\"Weeks\": \"w39\", \"variable\": \"Season 2016-2017\", \"value\": 2907.0, \"codigo\": 51}, {\"Weeks\": \"w40\", \"variable\": \"Season 2015-2016\", \"value\": 3211.0, \"codigo\": 0}, {\"Weeks\": \"w41\", \"variable\": \"Season 2015-2016\", \"value\": 3138.0, \"codigo\": 1}, {\"Weeks\": \"w42\", \"variable\": \"Season 2015-2016\", \"value\": 3230.0, \"codigo\": 2}, {\"Weeks\": \"w43\", \"variable\": \"Season 2015-2016\", \"value\": 3180.0, \"codigo\": 3}, {\"Weeks\": \"w44\", \"variable\": \"Season 2015-2016\", \"value\": 3373.0, \"codigo\": 4}, {\"Weeks\": \"w45\", \"variable\": \"Season 2015-2016\", \"value\": 3239.0, \"codigo\": 5}, {\"Weeks\": \"w46\", \"variable\": \"Season 2015-2016\", \"value\": 3349.0, \"codigo\": 6}, {\"Weeks\": \"w47\", \"variable\": \"Season 2015-2016\", \"value\": 3338.0, \"codigo\": 7}, {\"Weeks\": \"w48\", \"variable\": \"Season 2015-2016\", \"value\": 3479.0, \"codigo\": 8}, {\"Weeks\": \"w49\", \"variable\": \"Season 2015-2016\", \"value\": 3548.0, \"codigo\": 9}, {\"Weeks\": \"w50\", \"variable\": \"Season 2015-2016\", \"value\": 3478.0, \"codigo\": 10}, {\"Weeks\": \"w51\", \"variable\": \"Season 2015-2016\", \"value\": 3525.0, \"codigo\": 11}, {\"Weeks\": \"w52\", \"variable\": \"Season 2015-2016\", \"value\": 3948.0, \"codigo\": 12}, {\"Weeks\": \"w01\", \"variable\": \"Season 2015-2016\", \"value\": 4273.0, \"codigo\": 13}, {\"Weeks\": \"w02\", \"variable\": \"Season 2015-2016\", \"value\": 4308.0, \"codigo\": 14}, {\"Weeks\": \"w03\", \"variable\": \"Season 2015-2016\", \"value\": 4079.0, \"codigo\": 15}, {\"Weeks\": \"w04\", \"variable\": \"Season 2015-2016\", \"value\": 4160.0, \"codigo\": 16}, {\"Weeks\": \"w05\", \"variable\": \"Season 2015-2016\", \"value\": 4125.0, \"codigo\": 17}, {\"Weeks\": \"w06\", \"variable\": \"Season 2015-2016\", \"value\": 4028.0, \"codigo\": 18}, {\"Weeks\": \"w07\", \"variable\": \"Season 2015-2016\", \"value\": 4159.0, \"codigo\": 19}, {\"Weeks\": \"w08\", \"variable\": \"Season 2015-2016\", \"value\": 4384.0, \"codigo\": 20}, {\"Weeks\": \"w09\", \"variable\": \"Season 2015-2016\", \"value\": 4500.0, \"codigo\": 21}, {\"Weeks\": \"w10\", \"variable\": \"Season 2015-2016\", \"value\": 4571.0, \"codigo\": 22}, {\"Weeks\": \"w11\", \"variable\": \"Season 2015-2016\", \"value\": 4494.0, \"codigo\": 23}, {\"Weeks\": \"w12\", \"variable\": \"Season 2015-2016\", \"value\": 4471.0, \"codigo\": 24}, {\"Weeks\": \"w13\", \"variable\": \"Season 2015-2016\", \"value\": 4175.0, \"codigo\": 25}, {\"Weeks\": \"w14\", \"variable\": \"Season 2015-2016\", \"value\": 4195.0, \"codigo\": 26}, {\"Weeks\": \"w15\", \"variable\": \"Season 2015-2016\", \"value\": 4087.0, \"codigo\": 27}, {\"Weeks\": \"w16\", \"variable\": \"Season 2015-2016\", \"value\": 3832.0, \"codigo\": 28}, {\"Weeks\": \"w17\", \"variable\": \"Season 2015-2016\", \"value\": 3525.0, \"codigo\": 29}, {\"Weeks\": \"w18\", \"variable\": \"Season 2015-2016\", \"value\": 3494.0, \"codigo\": 30}, {\"Weeks\": \"w19\", \"variable\": \"Season 2015-2016\", \"value\": 3314.0, \"codigo\": 31}, {\"Weeks\": \"w20\", \"variable\": \"Season 2015-2016\", \"value\": 3324.0, \"codigo\": 32}, {\"Weeks\": \"w21\", \"variable\": \"Season 2015-2016\", \"value\": 3229.0, \"codigo\": 33}, {\"Weeks\": \"w22\", \"variable\": \"Season 2015-2016\", \"value\": 3042.0, \"codigo\": 34}, {\"Weeks\": \"w23\", \"variable\": \"Season 2015-2016\", \"value\": 3192.0, \"codigo\": 35}, {\"Weeks\": \"w24\", \"variable\": \"Season 2015-2016\", \"value\": 2938.0, \"codigo\": 36}, {\"Weeks\": \"w25\", \"variable\": \"Season 2015-2016\", \"value\": 2888.0, \"codigo\": 37}, {\"Weeks\": \"w26\", \"variable\": \"Season 2015-2016\", \"value\": 2924.0, \"codigo\": 38}, {\"Weeks\": \"w27\", \"variable\": \"Season 2015-2016\", \"value\": 2924.0, \"codigo\": 39}, {\"Weeks\": \"w28\", \"variable\": \"Season 2015-2016\", \"value\": 2932.0, \"codigo\": 40}, {\"Weeks\": \"w29\", \"variable\": \"Season 2015-2016\", \"value\": 2772.0, \"codigo\": 41}, {\"Weeks\": \"w30\", \"variable\": \"Season 2015-2016\", \"value\": 2809.0, \"codigo\": 42}, {\"Weeks\": \"w31\", \"variable\": \"Season 2015-2016\", \"value\": 2848.0, \"codigo\": 43}, {\"Weeks\": \"w32\", \"variable\": \"Season 2015-2016\", \"value\": 2829.0, \"codigo\": 44}, {\"Weeks\": \"w33\", \"variable\": \"Season 2015-2016\", \"value\": 2872.0, \"codigo\": 45}, {\"Weeks\": \"w34\", \"variable\": \"Season 2015-2016\", \"value\": 2833.0, \"codigo\": 46}, {\"Weeks\": \"w35\", \"variable\": \"Season 2015-2016\", \"value\": 2874.0, \"codigo\": 47}, {\"Weeks\": \"w36\", \"variable\": \"Season 2015-2016\", \"value\": 2886.0, \"codigo\": 48}, {\"Weeks\": \"w37\", \"variable\": \"Season 2015-2016\", \"value\": 3101.0, \"codigo\": 49}, {\"Weeks\": \"w38\", \"variable\": \"Season 2015-2016\", \"value\": 3026.0, \"codigo\": 50}, {\"Weeks\": \"w39\", \"variable\": \"Season 2015-2016\", \"value\": 2997.0, \"codigo\": 51}, {\"Weeks\": \"w40\", \"variable\": \"Covid-19\", \"value\": null, \"codigo\": 0}, {\"Weeks\": \"w41\", \"variable\": \"Covid-19\", \"value\": null, \"codigo\": 1}, {\"Weeks\": \"w42\", \"variable\": \"Covid-19\", \"value\": null, \"codigo\": 2}, {\"Weeks\": \"w43\", \"variable\": \"Covid-19\", \"value\": null, \"codigo\": 3}, {\"Weeks\": \"w44\", \"variable\": \"Covid-19\", \"value\": null, \"codigo\": 4}, {\"Weeks\": \"w45\", \"variable\": \"Covid-19\", \"value\": null, \"codigo\": 5}, {\"Weeks\": \"w46\", \"variable\": \"Covid-19\", \"value\": null, \"codigo\": 6}, {\"Weeks\": \"w47\", \"variable\": \"Covid-19\", \"value\": null, \"codigo\": 7}, {\"Weeks\": \"w48\", \"variable\": \"Covid-19\", \"value\": null, \"codigo\": 8}, {\"Weeks\": \"w49\", \"variable\": \"Covid-19\", \"value\": null, \"codigo\": 9}, {\"Weeks\": \"w50\", \"variable\": \"Covid-19\", \"value\": null, \"codigo\": 10}, {\"Weeks\": \"w51\", \"variable\": \"Covid-19\", \"value\": null, \"codigo\": 11}, {\"Weeks\": \"w52\", \"variable\": \"Covid-19\", \"value\": null, \"codigo\": 12}, {\"Weeks\": \"w01\", \"variable\": \"Covid-19\", \"value\": null, \"codigo\": 13}, {\"Weeks\": \"w02\", \"variable\": \"Covid-19\", \"value\": null, \"codigo\": 14}, {\"Weeks\": \"w03\", \"variable\": \"Covid-19\", \"value\": null, \"codigo\": 15}, {\"Weeks\": \"w04\", \"variable\": \"Covid-19\", \"value\": null, \"codigo\": 16}, {\"Weeks\": \"w05\", \"variable\": \"Covid-19\", \"value\": null, \"codigo\": 17}, {\"Weeks\": \"w06\", \"variable\": \"Covid-19\", \"value\": null, \"codigo\": 18}, {\"Weeks\": \"w07\", \"variable\": \"Covid-19\", \"value\": null, \"codigo\": 19}, {\"Weeks\": \"w08\", \"variable\": \"Covid-19\", \"value\": null, \"codigo\": 20}, {\"Weeks\": \"w09\", \"variable\": \"Covid-19\", \"value\": 1.0, \"codigo\": 21}, {\"Weeks\": \"w10\", \"variable\": \"Covid-19\", \"value\": 16.0, \"codigo\": 22}, {\"Weeks\": \"w11\", \"variable\": \"Covid-19\", \"value\": 40.0, \"codigo\": 23}, {\"Weeks\": \"w12\", \"variable\": \"Covid-19\", \"value\": 283.0, \"codigo\": 24}, {\"Weeks\": \"w13\", \"variable\": \"Covid-19\", \"value\": 1851.0, \"codigo\": 25}, {\"Weeks\": \"w14\", \"variable\": \"Covid-19\", \"value\": 6310.0, \"codigo\": 26}, {\"Weeks\": \"w15\", \"variable\": \"Covid-19\", \"value\": 12107.0, \"codigo\": 27}, {\"Weeks\": \"w16\", \"variable\": \"Covid-19\", \"value\": 18302.0, \"codigo\": 28}, {\"Weeks\": \"w17\", \"variable\": \"Covid-19\", \"value\": null, \"codigo\": 29}, {\"Weeks\": \"w18\", \"variable\": \"Covid-19\", \"value\": null, \"codigo\": 30}, {\"Weeks\": \"w19\", \"variable\": \"Covid-19\", \"value\": null, \"codigo\": 31}, {\"Weeks\": \"w20\", \"variable\": \"Covid-19\", \"value\": null, \"codigo\": 32}, {\"Weeks\": \"w21\", \"variable\": \"Covid-19\", \"value\": null, \"codigo\": 33}, {\"Weeks\": \"w22\", \"variable\": \"Covid-19\", \"value\": null, \"codigo\": 34}, {\"Weeks\": \"w23\", \"variable\": \"Covid-19\", \"value\": null, \"codigo\": 35}, {\"Weeks\": \"w24\", \"variable\": \"Covid-19\", \"value\": null, \"codigo\": 36}, {\"Weeks\": \"w25\", \"variable\": \"Covid-19\", \"value\": null, \"codigo\": 37}, {\"Weeks\": \"w26\", \"variable\": \"Covid-19\", \"value\": null, \"codigo\": 38}, {\"Weeks\": \"w27\", \"variable\": \"Covid-19\", \"value\": null, \"codigo\": 39}, {\"Weeks\": \"w28\", \"variable\": \"Covid-19\", \"value\": null, \"codigo\": 40}, {\"Weeks\": \"w29\", \"variable\": \"Covid-19\", \"value\": null, \"codigo\": 41}, {\"Weeks\": \"w30\", \"variable\": \"Covid-19\", \"value\": null, \"codigo\": 42}, {\"Weeks\": \"w31\", \"variable\": \"Covid-19\", \"value\": null, \"codigo\": 43}, {\"Weeks\": \"w32\", \"variable\": \"Covid-19\", \"value\": null, \"codigo\": 44}, {\"Weeks\": \"w33\", \"variable\": \"Covid-19\", \"value\": null, \"codigo\": 45}, {\"Weeks\": \"w34\", \"variable\": \"Covid-19\", \"value\": null, \"codigo\": 46}, {\"Weeks\": \"w35\", \"variable\": \"Covid-19\", \"value\": null, \"codigo\": 47}, {\"Weeks\": \"w36\", \"variable\": \"Covid-19\", \"value\": null, \"codigo\": 48}, {\"Weeks\": \"w37\", \"variable\": \"Covid-19\", \"value\": null, \"codigo\": 49}, {\"Weeks\": \"w38\", \"variable\": \"Covid-19\", \"value\": null, \"codigo\": 50}, {\"Weeks\": \"w39\", \"variable\": \"Covid-19\", \"value\": null, \"codigo\": 51}]}}, {\"mode\": \"vega-lite\"});\n",
       "</script>"
      ],
      "text/plain": [
       "alt.LayerChart(...)"
      ]
     },
     "execution_count": 57,
     "metadata": {},
     "output_type": "execute_result"
    }
   ],
   "source": [
    "#hide_input\n",
    "# select a point for which to provide details-on-demand\n",
    "label = alt.selection_single(\n",
    "    encodings=['x'], # limit selection to x-axis value\n",
    "    on='mouseover',  # select on mouseover events\n",
    "    nearest=True,    # select data point nearest the cursor\n",
    "    empty='none'     # empty selection includes no data points\n",
    ")\n",
    "\n",
    "base = alt.Chart().mark_line(point=True).encode(\n",
    "    x = alt.X('Weeks:N', axis=alt.Axis(title='Week of Flu Season'), sort=None),\n",
    "    y = alt.Y('value', axis=alt.Axis(title='Weekly Deaths')),\n",
    "    color=alt.Color('variable', legend=alt.Legend(title=\"\"), scale=alt.Scale(\n",
    "        range=['#d62728', '#1f77b4', '#ff7f0b', '#2ca02c', '#9467bd'])),\n",
    "    order='codigo',\n",
    ")\n",
    "\n",
    "alt.layer(\n",
    "    base, # base line chart\n",
    "    \n",
    "    # add a rule mark to serve as a guide line\n",
    "    alt.Chart().mark_rule(color='#aaa').encode(\n",
    "        x = alt.X('Weeks:N', axis=alt.Axis(title='Week of Flu Season'), sort=None)\n",
    "    ).transform_filter(label),\n",
    "    \n",
    "    # add circle marks for selected time points, hide unselected points\n",
    "    base.mark_circle().encode(\n",
    "        opacity=alt.condition(label, alt.value(1), alt.value(0))\n",
    "    ).add_selection(label),\n",
    "\n",
    "    # add white stroked text to provide a legible background for labels\n",
    "    base.mark_text(align='left', dx=5, dy=-5, stroke='white', strokeWidth=2).encode(\n",
    "        text='value:Q'\n",
    "    ).transform_filter(label),\n",
    "\n",
    "    # add text labels for stock prices\n",
    "    base.mark_text(align='left', dx=5, dy=-5).encode(\n",
    "        text='value:Q'\n",
    "    ).transform_filter(label),\n",
    "    \n",
    "    data=data\n",
    ").properties(\n",
    "    title=f'Covid-19 vs Flu: Weekly deaths up to week 16',\n",
    "    width=700\n",
    ")"
   ]
  },
  {
   "cell_type": "code",
   "execution_count": 58,
   "metadata": {},
   "outputs": [],
   "source": [
    "#hide\n",
    "data = pd.DataFrame()\n",
    "data[\"Weeks\"] = [f\"w{i}\" for i in np.arange(40,53)]+[f\"w0{i}\" for i in np.arange(1,10)] + [f\"w{i}\" for i in np.arange(10,40)]\n",
    "data[\"Season 2018-2019\"] = (data_season_2018_2019['NUM INFLUENZA DEATHS']+data_season_2018_2019['NUM PNEUMONIA DEATHS']).reset_index(drop=True)\n",
    "data[\"Season 2017-2018\"] = (data_season_2017_2018['NUM INFLUENZA DEATHS']+data_season_2017_2018['NUM PNEUMONIA DEATHS']).reset_index(drop=True)\n",
    "data[\"Season 2016-2017\"] = (data_season_2016_2017['NUM INFLUENZA DEATHS']+data_season_2016_2017['NUM PNEUMONIA DEATHS']).reset_index(drop=True)\n",
    "data[\"Season 2015-2016\"] = (data_season_2015_2016['NUM INFLUENZA DEATHS']+data_season_2015_2016['NUM PNEUMONIA DEATHS']).reset_index(drop=True)\n",
    "\n",
    "\n",
    "data[\"Covid-19\"] = len(data) * np.nan\n",
    "data[\"Covid-19\"].iloc[21:30] = deaths_covid\n",
    "\n",
    "data = data.melt(\"Weeks\")\n",
    "data[\"codigo\"] = [i for i in np.arange(52)]*5"
   ]
  },
  {
   "cell_type": "code",
   "execution_count": 60,
   "metadata": {},
   "outputs": [
    {
     "data": {
      "text/html": [
       "\n",
       "<div id=\"altair-viz-6598c2d7c0d242be87e01bb7da25d345\"></div>\n",
       "<script type=\"text/javascript\">\n",
       "  (function(spec, embedOpt){\n",
       "    let outputDiv = document.currentScript.previousElementSibling;\n",
       "    if (outputDiv.id !== \"altair-viz-6598c2d7c0d242be87e01bb7da25d345\") {\n",
       "      outputDiv = document.getElementById(\"altair-viz-6598c2d7c0d242be87e01bb7da25d345\");\n",
       "    }\n",
       "    const paths = {\n",
       "      \"vega\": \"https://cdn.jsdelivr.net/npm//vega@5?noext\",\n",
       "      \"vega-lib\": \"https://cdn.jsdelivr.net/npm//vega-lib?noext\",\n",
       "      \"vega-lite\": \"https://cdn.jsdelivr.net/npm//vega-lite@4.8.1?noext\",\n",
       "      \"vega-embed\": \"https://cdn.jsdelivr.net/npm//vega-embed@6?noext\",\n",
       "    };\n",
       "\n",
       "    function loadScript(lib) {\n",
       "      return new Promise(function(resolve, reject) {\n",
       "        var s = document.createElement('script');\n",
       "        s.src = paths[lib];\n",
       "        s.async = true;\n",
       "        s.onload = () => resolve(paths[lib]);\n",
       "        s.onerror = () => reject(`Error loading script: ${paths[lib]}`);\n",
       "        document.getElementsByTagName(\"head\")[0].appendChild(s);\n",
       "      });\n",
       "    }\n",
       "\n",
       "    function showError(err) {\n",
       "      outputDiv.innerHTML = `<div class=\"error\" style=\"color:red;\">${err}</div>`;\n",
       "      throw err;\n",
       "    }\n",
       "\n",
       "    function displayChart(vegaEmbed) {\n",
       "      vegaEmbed(outputDiv, spec, embedOpt)\n",
       "        .catch(err => showError(`Javascript Error: ${err.message}<br>This usually means there's a typo in your chart specification. See the javascript console for the full traceback.`));\n",
       "    }\n",
       "\n",
       "    if(typeof define === \"function\" && define.amd) {\n",
       "      requirejs.config({paths});\n",
       "      require([\"vega-embed\"], displayChart, err => showError(`Error loading script: ${err.message}`));\n",
       "    } else if (typeof vegaEmbed === \"function\") {\n",
       "      displayChart(vegaEmbed);\n",
       "    } else {\n",
       "      loadScript(\"vega\")\n",
       "        .then(() => loadScript(\"vega-lite\"))\n",
       "        .then(() => loadScript(\"vega-embed\"))\n",
       "        .catch(showError)\n",
       "        .then(() => displayChart(vegaEmbed));\n",
       "    }\n",
       "  })({\"config\": {\"view\": {\"continuousWidth\": 400, \"continuousHeight\": 300}}, \"layer\": [{\"mark\": {\"type\": \"line\", \"point\": true}, \"encoding\": {\"color\": {\"type\": \"nominal\", \"field\": \"variable\", \"legend\": {\"title\": \"\"}, \"scale\": {\"range\": [\"#d62728\", \"#1f77b4\", \"#ff7f0b\", \"#2ca02c\", \"#9467bd\"]}}, \"order\": {\"type\": \"quantitative\", \"field\": \"codigo\"}, \"x\": {\"type\": \"nominal\", \"axis\": {\"title\": \"Week of Flu Season\"}, \"field\": \"Weeks\", \"sort\": null}, \"y\": {\"type\": \"quantitative\", \"axis\": {\"title\": \"Weekly Deaths\"}, \"field\": \"value\"}}}, {\"mark\": {\"type\": \"rule\", \"color\": \"#aaa\"}, \"encoding\": {\"x\": {\"type\": \"nominal\", \"axis\": {\"title\": \"Week of Flu Season\"}, \"field\": \"Weeks\", \"sort\": null}}, \"transform\": [{\"filter\": {\"selection\": \"selector010\"}}]}, {\"mark\": \"circle\", \"encoding\": {\"color\": {\"type\": \"nominal\", \"field\": \"variable\", \"legend\": {\"title\": \"\"}, \"scale\": {\"range\": [\"#d62728\", \"#1f77b4\", \"#ff7f0b\", \"#2ca02c\", \"#9467bd\"]}}, \"opacity\": {\"condition\": {\"value\": 1, \"selection\": \"selector010\"}, \"value\": 0}, \"order\": {\"type\": \"quantitative\", \"field\": \"codigo\"}, \"x\": {\"type\": \"nominal\", \"axis\": {\"title\": \"Week of Flu Season\"}, \"field\": \"Weeks\", \"sort\": null}, \"y\": {\"type\": \"quantitative\", \"axis\": {\"title\": \"Weekly Deaths\"}, \"field\": \"value\"}}, \"selection\": {\"selector010\": {\"type\": \"single\", \"encodings\": [\"x\"], \"on\": \"mouseover\", \"nearest\": true, \"empty\": \"none\"}}}, {\"mark\": {\"type\": \"text\", \"align\": \"left\", \"dx\": 5, \"dy\": -5, \"stroke\": \"white\", \"strokeWidth\": 2}, \"encoding\": {\"color\": {\"type\": \"nominal\", \"field\": \"variable\", \"legend\": {\"title\": \"\"}, \"scale\": {\"range\": [\"#d62728\", \"#1f77b4\", \"#ff7f0b\", \"#2ca02c\", \"#9467bd\"]}}, \"order\": {\"type\": \"quantitative\", \"field\": \"codigo\"}, \"text\": {\"type\": \"quantitative\", \"field\": \"value\"}, \"x\": {\"type\": \"nominal\", \"axis\": {\"title\": \"Week of Flu Season\"}, \"field\": \"Weeks\", \"sort\": null}, \"y\": {\"type\": \"quantitative\", \"axis\": {\"title\": \"Weekly Deaths\"}, \"field\": \"value\"}}, \"transform\": [{\"filter\": {\"selection\": \"selector010\"}}]}, {\"mark\": {\"type\": \"text\", \"align\": \"left\", \"dx\": 5, \"dy\": -5}, \"encoding\": {\"color\": {\"type\": \"nominal\", \"field\": \"variable\", \"legend\": {\"title\": \"\"}, \"scale\": {\"range\": [\"#d62728\", \"#1f77b4\", \"#ff7f0b\", \"#2ca02c\", \"#9467bd\"]}}, \"order\": {\"type\": \"quantitative\", \"field\": \"codigo\"}, \"text\": {\"type\": \"quantitative\", \"field\": \"value\"}, \"x\": {\"type\": \"nominal\", \"axis\": {\"title\": \"Week of Flu Season\"}, \"field\": \"Weeks\", \"sort\": null}, \"y\": {\"type\": \"quantitative\", \"axis\": {\"title\": \"Weekly Deaths\"}, \"field\": \"value\"}}, \"transform\": [{\"filter\": {\"selection\": \"selector010\"}}]}], \"data\": {\"name\": \"data-5211443fe7bc66512c2f53580f196f47\"}, \"title\": \"Covid-19 vs Flu: Weekly deaths up to week 17\", \"width\": 700, \"$schema\": \"https://vega.github.io/schema/vega-lite/v4.8.1.json\", \"datasets\": {\"data-5211443fe7bc66512c2f53580f196f47\": [{\"Weeks\": \"w40\", \"variable\": \"Season 2018-2019\", \"value\": 2979.0, \"codigo\": 0}, {\"Weeks\": \"w41\", \"variable\": \"Season 2018-2019\", \"value\": 2878.0, \"codigo\": 1}, {\"Weeks\": \"w42\", \"variable\": \"Season 2018-2019\", \"value\": 3005.0, \"codigo\": 2}, {\"Weeks\": \"w43\", \"variable\": \"Season 2018-2019\", \"value\": 3089.0, \"codigo\": 3}, {\"Weeks\": \"w44\", \"variable\": \"Season 2018-2019\", \"value\": 3028.0, \"codigo\": 4}, {\"Weeks\": \"w45\", \"variable\": \"Season 2018-2019\", \"value\": 3050.0, \"codigo\": 5}, {\"Weeks\": \"w46\", \"variable\": \"Season 2018-2019\", \"value\": 3168.0, \"codigo\": 6}, {\"Weeks\": \"w47\", \"variable\": \"Season 2018-2019\", \"value\": 3209.0, \"codigo\": 7}, {\"Weeks\": \"w48\", \"variable\": \"Season 2018-2019\", \"value\": 3325.0, \"codigo\": 8}, {\"Weeks\": \"w49\", \"variable\": \"Season 2018-2019\", \"value\": 3455.0, \"codigo\": 9}, {\"Weeks\": \"w50\", \"variable\": \"Season 2018-2019\", \"value\": 3603.0, \"codigo\": 10}, {\"Weeks\": \"w51\", \"variable\": \"Season 2018-2019\", \"value\": 3578.0, \"codigo\": 11}, {\"Weeks\": \"w52\", \"variable\": \"Season 2018-2019\", \"value\": 3776.0, \"codigo\": 12}, {\"Weeks\": \"w01\", \"variable\": \"Season 2018-2019\", \"value\": 4128.0, \"codigo\": 13}, {\"Weeks\": \"w02\", \"variable\": \"Season 2018-2019\", \"value\": 4315.0, \"codigo\": 14}, {\"Weeks\": \"w03\", \"variable\": \"Season 2018-2019\", \"value\": 4340.0, \"codigo\": 15}, {\"Weeks\": \"w04\", \"variable\": \"Season 2018-2019\", \"value\": 4169.0, \"codigo\": 16}, {\"Weeks\": \"w05\", \"variable\": \"Season 2018-2019\", \"value\": 4215.0, \"codigo\": 17}, {\"Weeks\": \"w06\", \"variable\": \"Season 2018-2019\", \"value\": 4255.0, \"codigo\": 18}, {\"Weeks\": \"w07\", \"variable\": \"Season 2018-2019\", \"value\": 4372.0, \"codigo\": 19}, {\"Weeks\": \"w08\", \"variable\": \"Season 2018-2019\", \"value\": 4447.0, \"codigo\": 20}, {\"Weeks\": \"w09\", \"variable\": \"Season 2018-2019\", \"value\": 4269.0, \"codigo\": 21}, {\"Weeks\": \"w10\", \"variable\": \"Season 2018-2019\", \"value\": 4290.0, \"codigo\": 22}, {\"Weeks\": \"w11\", \"variable\": \"Season 2018-2019\", \"value\": 4489.0, \"codigo\": 23}, {\"Weeks\": \"w12\", \"variable\": \"Season 2018-2019\", \"value\": 4274.0, \"codigo\": 24}, {\"Weeks\": \"w13\", \"variable\": \"Season 2018-2019\", \"value\": 4171.0, \"codigo\": 25}, {\"Weeks\": \"w14\", \"variable\": \"Season 2018-2019\", \"value\": 3974.0, \"codigo\": 26}, {\"Weeks\": \"w15\", \"variable\": \"Season 2018-2019\", \"value\": 3750.0, \"codigo\": 27}, {\"Weeks\": \"w16\", \"variable\": \"Season 2018-2019\", \"value\": 3611.0, \"codigo\": 28}, {\"Weeks\": \"w17\", \"variable\": \"Season 2018-2019\", \"value\": 3424.0, \"codigo\": 29}, {\"Weeks\": \"w18\", \"variable\": \"Season 2018-2019\", \"value\": 3320.0, \"codigo\": 30}, {\"Weeks\": \"w19\", \"variable\": \"Season 2018-2019\", \"value\": 3296.0, \"codigo\": 31}, {\"Weeks\": \"w20\", \"variable\": \"Season 2018-2019\", \"value\": 3203.0, \"codigo\": 32}, {\"Weeks\": \"w21\", \"variable\": \"Season 2018-2019\", \"value\": 3179.0, \"codigo\": 33}, {\"Weeks\": \"w22\", \"variable\": \"Season 2018-2019\", \"value\": 3149.0, \"codigo\": 34}, {\"Weeks\": \"w23\", \"variable\": \"Season 2018-2019\", \"value\": 3063.0, \"codigo\": 35}, {\"Weeks\": \"w24\", \"variable\": \"Season 2018-2019\", \"value\": 2946.0, \"codigo\": 36}, {\"Weeks\": \"w25\", \"variable\": \"Season 2018-2019\", \"value\": 2963.0, \"codigo\": 37}, {\"Weeks\": \"w26\", \"variable\": \"Season 2018-2019\", \"value\": 2911.0, \"codigo\": 38}, {\"Weeks\": \"w27\", \"variable\": \"Season 2018-2019\", \"value\": 2868.0, \"codigo\": 39}, {\"Weeks\": \"w28\", \"variable\": \"Season 2018-2019\", \"value\": 2781.0, \"codigo\": 40}, {\"Weeks\": \"w29\", \"variable\": \"Season 2018-2019\", \"value\": 2684.0, \"codigo\": 41}, {\"Weeks\": \"w30\", \"variable\": \"Season 2018-2019\", \"value\": 2767.0, \"codigo\": 42}, {\"Weeks\": \"w31\", \"variable\": \"Season 2018-2019\", \"value\": 2738.0, \"codigo\": 43}, {\"Weeks\": \"w32\", \"variable\": \"Season 2018-2019\", \"value\": 2644.0, \"codigo\": 44}, {\"Weeks\": \"w33\", \"variable\": \"Season 2018-2019\", \"value\": 2610.0, \"codigo\": 45}, {\"Weeks\": \"w34\", \"variable\": \"Season 2018-2019\", \"value\": 2600.0, \"codigo\": 46}, {\"Weeks\": \"w35\", \"variable\": \"Season 2018-2019\", \"value\": 2624.0, \"codigo\": 47}, {\"Weeks\": \"w36\", \"variable\": \"Season 2018-2019\", \"value\": 2590.0, \"codigo\": 48}, {\"Weeks\": \"w37\", \"variable\": \"Season 2018-2019\", \"value\": 2527.0, \"codigo\": 49}, {\"Weeks\": \"w38\", \"variable\": \"Season 2018-2019\", \"value\": 2721.0, \"codigo\": 50}, {\"Weeks\": \"w39\", \"variable\": \"Season 2018-2019\", \"value\": 2788.0, \"codigo\": 51}, {\"Weeks\": \"w40\", \"variable\": \"Season 2017-2018\", \"value\": 3038.0, \"codigo\": 0}, {\"Weeks\": \"w41\", \"variable\": \"Season 2017-2018\", \"value\": 3019.0, \"codigo\": 1}, {\"Weeks\": \"w42\", \"variable\": \"Season 2017-2018\", \"value\": 3184.0, \"codigo\": 2}, {\"Weeks\": \"w43\", \"variable\": \"Season 2017-2018\", \"value\": 3302.0, \"codigo\": 3}, {\"Weeks\": \"w44\", \"variable\": \"Season 2017-2018\", \"value\": 3251.0, \"codigo\": 4}, {\"Weeks\": \"w45\", \"variable\": \"Season 2017-2018\", \"value\": 3225.0, \"codigo\": 5}, {\"Weeks\": \"w46\", \"variable\": \"Season 2017-2018\", \"value\": 3365.0, \"codigo\": 6}, {\"Weeks\": \"w47\", \"variable\": \"Season 2017-2018\", \"value\": 3250.0, \"codigo\": 7}, {\"Weeks\": \"w48\", \"variable\": \"Season 2017-2018\", \"value\": 3576.0, \"codigo\": 8}, {\"Weeks\": \"w49\", \"variable\": \"Season 2017-2018\", \"value\": 3646.0, \"codigo\": 9}, {\"Weeks\": \"w50\", \"variable\": \"Season 2017-2018\", \"value\": 3924.0, \"codigo\": 10}, {\"Weeks\": \"w51\", \"variable\": \"Season 2017-2018\", \"value\": 4346.0, \"codigo\": 11}, {\"Weeks\": \"w52\", \"variable\": \"Season 2017-2018\", \"value\": 5089.0, \"codigo\": 12}, {\"Weeks\": \"w01\", \"variable\": \"Season 2017-2018\", \"value\": 6321.0, \"codigo\": 13}, {\"Weeks\": \"w02\", \"variable\": \"Season 2017-2018\", \"value\": 7119.0, \"codigo\": 14}, {\"Weeks\": \"w03\", \"variable\": \"Season 2017-2018\", \"value\": 7038.0, \"codigo\": 15}, {\"Weeks\": \"w04\", \"variable\": \"Season 2017-2018\", \"value\": 6635.0, \"codigo\": 16}, {\"Weeks\": \"w05\", \"variable\": \"Season 2017-2018\", \"value\": 6237.0, \"codigo\": 17}, {\"Weeks\": \"w06\", \"variable\": \"Season 2017-2018\", \"value\": 5932.0, \"codigo\": 18}, {\"Weeks\": \"w07\", \"variable\": \"Season 2017-2018\", \"value\": 5778.0, \"codigo\": 19}, {\"Weeks\": \"w08\", \"variable\": \"Season 2017-2018\", \"value\": 5318.0, \"codigo\": 20}, {\"Weeks\": \"w09\", \"variable\": \"Season 2017-2018\", \"value\": 4782.0, \"codigo\": 21}, {\"Weeks\": \"w10\", \"variable\": \"Season 2017-2018\", \"value\": 4568.0, \"codigo\": 22}, {\"Weeks\": \"w11\", \"variable\": \"Season 2017-2018\", \"value\": 4297.0, \"codigo\": 23}, {\"Weeks\": \"w12\", \"variable\": \"Season 2017-2018\", \"value\": 4138.0, \"codigo\": 24}, {\"Weeks\": \"w13\", \"variable\": \"Season 2017-2018\", \"value\": 4063.0, \"codigo\": 25}, {\"Weeks\": \"w14\", \"variable\": \"Season 2017-2018\", \"value\": 3998.0, \"codigo\": 26}, {\"Weeks\": \"w15\", \"variable\": \"Season 2017-2018\", \"value\": 3804.0, \"codigo\": 27}, {\"Weeks\": \"w16\", \"variable\": \"Season 2017-2018\", \"value\": 3582.0, \"codigo\": 28}, {\"Weeks\": \"w17\", \"variable\": \"Season 2017-2018\", \"value\": 3513.0, \"codigo\": 29}, {\"Weeks\": \"w18\", \"variable\": \"Season 2017-2018\", \"value\": 3304.0, \"codigo\": 30}, {\"Weeks\": \"w19\", \"variable\": \"Season 2017-2018\", \"value\": 3085.0, \"codigo\": 31}, {\"Weeks\": \"w20\", \"variable\": \"Season 2017-2018\", \"value\": 2998.0, \"codigo\": 32}, {\"Weeks\": \"w21\", \"variable\": \"Season 2017-2018\", \"value\": 2977.0, \"codigo\": 33}, {\"Weeks\": \"w22\", \"variable\": \"Season 2017-2018\", \"value\": 2931.0, \"codigo\": 34}, {\"Weeks\": \"w23\", \"variable\": \"Season 2017-2018\", \"value\": 2922.0, \"codigo\": 35}, {\"Weeks\": \"w24\", \"variable\": \"Season 2017-2018\", \"value\": 2949.0, \"codigo\": 36}, {\"Weeks\": \"w25\", \"variable\": \"Season 2017-2018\", \"value\": 2872.0, \"codigo\": 37}, {\"Weeks\": \"w26\", \"variable\": \"Season 2017-2018\", \"value\": 2877.0, \"codigo\": 38}, {\"Weeks\": \"w27\", \"variable\": \"Season 2017-2018\", \"value\": 2779.0, \"codigo\": 39}, {\"Weeks\": \"w28\", \"variable\": \"Season 2017-2018\", \"value\": 2786.0, \"codigo\": 40}, {\"Weeks\": \"w29\", \"variable\": \"Season 2017-2018\", \"value\": 2714.0, \"codigo\": 41}, {\"Weeks\": \"w30\", \"variable\": \"Season 2017-2018\", \"value\": 2709.0, \"codigo\": 42}, {\"Weeks\": \"w31\", \"variable\": \"Season 2017-2018\", \"value\": 2665.0, \"codigo\": 43}, {\"Weeks\": \"w32\", \"variable\": \"Season 2017-2018\", \"value\": 2683.0, \"codigo\": 44}, {\"Weeks\": \"w33\", \"variable\": \"Season 2017-2018\", \"value\": 2622.0, \"codigo\": 45}, {\"Weeks\": \"w34\", \"variable\": \"Season 2017-2018\", \"value\": 2723.0, \"codigo\": 46}, {\"Weeks\": \"w35\", \"variable\": \"Season 2017-2018\", \"value\": 2636.0, \"codigo\": 47}, {\"Weeks\": \"w36\", \"variable\": \"Season 2017-2018\", \"value\": 2755.0, \"codigo\": 48}, {\"Weeks\": \"w37\", \"variable\": \"Season 2017-2018\", \"value\": 2769.0, \"codigo\": 49}, {\"Weeks\": \"w38\", \"variable\": \"Season 2017-2018\", \"value\": 2830.0, \"codigo\": 50}, {\"Weeks\": \"w39\", \"variable\": \"Season 2017-2018\", \"value\": 2828.0, \"codigo\": 51}, {\"Weeks\": \"w40\", \"variable\": \"Season 2016-2017\", \"value\": 3042.0, \"codigo\": 0}, {\"Weeks\": \"w41\", \"variable\": \"Season 2016-2017\", \"value\": 3204.0, \"codigo\": 1}, {\"Weeks\": \"w42\", \"variable\": \"Season 2016-2017\", \"value\": 3185.0, \"codigo\": 2}, {\"Weeks\": \"w43\", \"variable\": \"Season 2016-2017\", \"value\": 3147.0, \"codigo\": 3}, {\"Weeks\": \"w44\", \"variable\": \"Season 2016-2017\", \"value\": 3116.0, \"codigo\": 4}, {\"Weeks\": \"w45\", \"variable\": \"Season 2016-2017\", \"value\": 3226.0, \"codigo\": 5}, {\"Weeks\": \"w46\", \"variable\": \"Season 2016-2017\", \"value\": 3199.0, \"codigo\": 6}, {\"Weeks\": \"w47\", \"variable\": \"Season 2016-2017\", \"value\": 3277.0, \"codigo\": 7}, {\"Weeks\": \"w48\", \"variable\": \"Season 2016-2017\", \"value\": 3544.0, \"codigo\": 8}, {\"Weeks\": \"w49\", \"variable\": \"Season 2016-2017\", \"value\": 3649.0, \"codigo\": 9}, {\"Weeks\": \"w50\", \"variable\": \"Season 2016-2017\", \"value\": 3824.0, \"codigo\": 10}, {\"Weeks\": \"w51\", \"variable\": \"Season 2016-2017\", \"value\": 3829.0, \"codigo\": 11}, {\"Weeks\": \"w52\", \"variable\": \"Season 2016-2017\", \"value\": 4262.0, \"codigo\": 12}, {\"Weeks\": \"w01\", \"variable\": \"Season 2016-2017\", \"value\": 4847.0, \"codigo\": 13}, {\"Weeks\": \"w02\", \"variable\": \"Season 2016-2017\", \"value\": 4873.0, \"codigo\": 14}, {\"Weeks\": \"w03\", \"variable\": \"Season 2016-2017\", \"value\": 4994.0, \"codigo\": 15}, {\"Weeks\": \"w04\", \"variable\": \"Season 2016-2017\", \"value\": 4794.0, \"codigo\": 16}, {\"Weeks\": \"w05\", \"variable\": \"Season 2016-2017\", \"value\": 4803.0, \"codigo\": 17}, {\"Weeks\": \"w06\", \"variable\": \"Season 2016-2017\", \"value\": 4866.0, \"codigo\": 18}, {\"Weeks\": \"w07\", \"variable\": \"Season 2016-2017\", \"value\": 4964.0, \"codigo\": 19}, {\"Weeks\": \"w08\", \"variable\": \"Season 2016-2017\", \"value\": 4974.0, \"codigo\": 20}, {\"Weeks\": \"w09\", \"variable\": \"Season 2016-2017\", \"value\": 4794.0, \"codigo\": 21}, {\"Weeks\": \"w10\", \"variable\": \"Season 2016-2017\", \"value\": 4695.0, \"codigo\": 22}, {\"Weeks\": \"w11\", \"variable\": \"Season 2016-2017\", \"value\": 4476.0, \"codigo\": 23}, {\"Weeks\": \"w12\", \"variable\": \"Season 2016-2017\", \"value\": 4410.0, \"codigo\": 24}, {\"Weeks\": \"w13\", \"variable\": \"Season 2016-2017\", \"value\": 4220.0, \"codigo\": 25}, {\"Weeks\": \"w14\", \"variable\": \"Season 2016-2017\", \"value\": 4087.0, \"codigo\": 26}, {\"Weeks\": \"w15\", \"variable\": \"Season 2016-2017\", \"value\": 3984.0, \"codigo\": 27}, {\"Weeks\": \"w16\", \"variable\": \"Season 2016-2017\", \"value\": 3651.0, \"codigo\": 28}, {\"Weeks\": \"w17\", \"variable\": \"Season 2016-2017\", \"value\": 3548.0, \"codigo\": 29}, {\"Weeks\": \"w18\", \"variable\": \"Season 2016-2017\", \"value\": 3371.0, \"codigo\": 30}, {\"Weeks\": \"w19\", \"variable\": \"Season 2016-2017\", \"value\": 3266.0, \"codigo\": 31}, {\"Weeks\": \"w20\", \"variable\": \"Season 2016-2017\", \"value\": 3254.0, \"codigo\": 32}, {\"Weeks\": \"w21\", \"variable\": \"Season 2016-2017\", \"value\": 3115.0, \"codigo\": 33}, {\"Weeks\": \"w22\", \"variable\": \"Season 2016-2017\", \"value\": 3042.0, \"codigo\": 34}, {\"Weeks\": \"w23\", \"variable\": \"Season 2016-2017\", \"value\": 3144.0, \"codigo\": 35}, {\"Weeks\": \"w24\", \"variable\": \"Season 2016-2017\", \"value\": 3088.0, \"codigo\": 36}, {\"Weeks\": \"w25\", \"variable\": \"Season 2016-2017\", \"value\": 2997.0, \"codigo\": 37}, {\"Weeks\": \"w26\", \"variable\": \"Season 2016-2017\", \"value\": 2964.0, \"codigo\": 38}, {\"Weeks\": \"w27\", \"variable\": \"Season 2016-2017\", \"value\": 2842.0, \"codigo\": 39}, {\"Weeks\": \"w28\", \"variable\": \"Season 2016-2017\", \"value\": 3051.0, \"codigo\": 40}, {\"Weeks\": \"w29\", \"variable\": \"Season 2016-2017\", \"value\": 2765.0, \"codigo\": 41}, {\"Weeks\": \"w30\", \"variable\": \"Season 2016-2017\", \"value\": 2856.0, \"codigo\": 42}, {\"Weeks\": \"w31\", \"variable\": \"Season 2016-2017\", \"value\": 2699.0, \"codigo\": 43}, {\"Weeks\": \"w32\", \"variable\": \"Season 2016-2017\", \"value\": 2728.0, \"codigo\": 44}, {\"Weeks\": \"w33\", \"variable\": \"Season 2016-2017\", \"value\": 2700.0, \"codigo\": 45}, {\"Weeks\": \"w34\", \"variable\": \"Season 2016-2017\", \"value\": 2763.0, \"codigo\": 46}, {\"Weeks\": \"w35\", \"variable\": \"Season 2016-2017\", \"value\": 2723.0, \"codigo\": 47}, {\"Weeks\": \"w36\", \"variable\": \"Season 2016-2017\", \"value\": 2837.0, \"codigo\": 48}, {\"Weeks\": \"w37\", \"variable\": \"Season 2016-2017\", \"value\": 3028.0, \"codigo\": 49}, {\"Weeks\": \"w38\", \"variable\": \"Season 2016-2017\", \"value\": 2951.0, \"codigo\": 50}, {\"Weeks\": \"w39\", \"variable\": \"Season 2016-2017\", \"value\": 2907.0, \"codigo\": 51}, {\"Weeks\": \"w40\", \"variable\": \"Season 2015-2016\", \"value\": 3211.0, \"codigo\": 0}, {\"Weeks\": \"w41\", \"variable\": \"Season 2015-2016\", \"value\": 3138.0, \"codigo\": 1}, {\"Weeks\": \"w42\", \"variable\": \"Season 2015-2016\", \"value\": 3230.0, \"codigo\": 2}, {\"Weeks\": \"w43\", \"variable\": \"Season 2015-2016\", \"value\": 3180.0, \"codigo\": 3}, {\"Weeks\": \"w44\", \"variable\": \"Season 2015-2016\", \"value\": 3373.0, \"codigo\": 4}, {\"Weeks\": \"w45\", \"variable\": \"Season 2015-2016\", \"value\": 3239.0, \"codigo\": 5}, {\"Weeks\": \"w46\", \"variable\": \"Season 2015-2016\", \"value\": 3349.0, \"codigo\": 6}, {\"Weeks\": \"w47\", \"variable\": \"Season 2015-2016\", \"value\": 3338.0, \"codigo\": 7}, {\"Weeks\": \"w48\", \"variable\": \"Season 2015-2016\", \"value\": 3479.0, \"codigo\": 8}, {\"Weeks\": \"w49\", \"variable\": \"Season 2015-2016\", \"value\": 3548.0, \"codigo\": 9}, {\"Weeks\": \"w50\", \"variable\": \"Season 2015-2016\", \"value\": 3478.0, \"codigo\": 10}, {\"Weeks\": \"w51\", \"variable\": \"Season 2015-2016\", \"value\": 3525.0, \"codigo\": 11}, {\"Weeks\": \"w52\", \"variable\": \"Season 2015-2016\", \"value\": 3948.0, \"codigo\": 12}, {\"Weeks\": \"w01\", \"variable\": \"Season 2015-2016\", \"value\": 4273.0, \"codigo\": 13}, {\"Weeks\": \"w02\", \"variable\": \"Season 2015-2016\", \"value\": 4308.0, \"codigo\": 14}, {\"Weeks\": \"w03\", \"variable\": \"Season 2015-2016\", \"value\": 4079.0, \"codigo\": 15}, {\"Weeks\": \"w04\", \"variable\": \"Season 2015-2016\", \"value\": 4160.0, \"codigo\": 16}, {\"Weeks\": \"w05\", \"variable\": \"Season 2015-2016\", \"value\": 4125.0, \"codigo\": 17}, {\"Weeks\": \"w06\", \"variable\": \"Season 2015-2016\", \"value\": 4028.0, \"codigo\": 18}, {\"Weeks\": \"w07\", \"variable\": \"Season 2015-2016\", \"value\": 4159.0, \"codigo\": 19}, {\"Weeks\": \"w08\", \"variable\": \"Season 2015-2016\", \"value\": 4384.0, \"codigo\": 20}, {\"Weeks\": \"w09\", \"variable\": \"Season 2015-2016\", \"value\": 4500.0, \"codigo\": 21}, {\"Weeks\": \"w10\", \"variable\": \"Season 2015-2016\", \"value\": 4571.0, \"codigo\": 22}, {\"Weeks\": \"w11\", \"variable\": \"Season 2015-2016\", \"value\": 4494.0, \"codigo\": 23}, {\"Weeks\": \"w12\", \"variable\": \"Season 2015-2016\", \"value\": 4471.0, \"codigo\": 24}, {\"Weeks\": \"w13\", \"variable\": \"Season 2015-2016\", \"value\": 4175.0, \"codigo\": 25}, {\"Weeks\": \"w14\", \"variable\": \"Season 2015-2016\", \"value\": 4195.0, \"codigo\": 26}, {\"Weeks\": \"w15\", \"variable\": \"Season 2015-2016\", \"value\": 4087.0, \"codigo\": 27}, {\"Weeks\": \"w16\", \"variable\": \"Season 2015-2016\", \"value\": 3832.0, \"codigo\": 28}, {\"Weeks\": \"w17\", \"variable\": \"Season 2015-2016\", \"value\": 3525.0, \"codigo\": 29}, {\"Weeks\": \"w18\", \"variable\": \"Season 2015-2016\", \"value\": 3494.0, \"codigo\": 30}, {\"Weeks\": \"w19\", \"variable\": \"Season 2015-2016\", \"value\": 3314.0, \"codigo\": 31}, {\"Weeks\": \"w20\", \"variable\": \"Season 2015-2016\", \"value\": 3324.0, \"codigo\": 32}, {\"Weeks\": \"w21\", \"variable\": \"Season 2015-2016\", \"value\": 3229.0, \"codigo\": 33}, {\"Weeks\": \"w22\", \"variable\": \"Season 2015-2016\", \"value\": 3042.0, \"codigo\": 34}, {\"Weeks\": \"w23\", \"variable\": \"Season 2015-2016\", \"value\": 3192.0, \"codigo\": 35}, {\"Weeks\": \"w24\", \"variable\": \"Season 2015-2016\", \"value\": 2938.0, \"codigo\": 36}, {\"Weeks\": \"w25\", \"variable\": \"Season 2015-2016\", \"value\": 2888.0, \"codigo\": 37}, {\"Weeks\": \"w26\", \"variable\": \"Season 2015-2016\", \"value\": 2924.0, \"codigo\": 38}, {\"Weeks\": \"w27\", \"variable\": \"Season 2015-2016\", \"value\": 2924.0, \"codigo\": 39}, {\"Weeks\": \"w28\", \"variable\": \"Season 2015-2016\", \"value\": 2932.0, \"codigo\": 40}, {\"Weeks\": \"w29\", \"variable\": \"Season 2015-2016\", \"value\": 2772.0, \"codigo\": 41}, {\"Weeks\": \"w30\", \"variable\": \"Season 2015-2016\", \"value\": 2809.0, \"codigo\": 42}, {\"Weeks\": \"w31\", \"variable\": \"Season 2015-2016\", \"value\": 2848.0, \"codigo\": 43}, {\"Weeks\": \"w32\", \"variable\": \"Season 2015-2016\", \"value\": 2829.0, \"codigo\": 44}, {\"Weeks\": \"w33\", \"variable\": \"Season 2015-2016\", \"value\": 2872.0, \"codigo\": 45}, {\"Weeks\": \"w34\", \"variable\": \"Season 2015-2016\", \"value\": 2833.0, \"codigo\": 46}, {\"Weeks\": \"w35\", \"variable\": \"Season 2015-2016\", \"value\": 2874.0, \"codigo\": 47}, {\"Weeks\": \"w36\", \"variable\": \"Season 2015-2016\", \"value\": 2886.0, \"codigo\": 48}, {\"Weeks\": \"w37\", \"variable\": \"Season 2015-2016\", \"value\": 3101.0, \"codigo\": 49}, {\"Weeks\": \"w38\", \"variable\": \"Season 2015-2016\", \"value\": 3026.0, \"codigo\": 50}, {\"Weeks\": \"w39\", \"variable\": \"Season 2015-2016\", \"value\": 2997.0, \"codigo\": 51}, {\"Weeks\": \"w40\", \"variable\": \"Covid-19\", \"value\": null, \"codigo\": 0}, {\"Weeks\": \"w41\", \"variable\": \"Covid-19\", \"value\": null, \"codigo\": 1}, {\"Weeks\": \"w42\", \"variable\": \"Covid-19\", \"value\": null, \"codigo\": 2}, {\"Weeks\": \"w43\", \"variable\": \"Covid-19\", \"value\": null, \"codigo\": 3}, {\"Weeks\": \"w44\", \"variable\": \"Covid-19\", \"value\": null, \"codigo\": 4}, {\"Weeks\": \"w45\", \"variable\": \"Covid-19\", \"value\": null, \"codigo\": 5}, {\"Weeks\": \"w46\", \"variable\": \"Covid-19\", \"value\": null, \"codigo\": 6}, {\"Weeks\": \"w47\", \"variable\": \"Covid-19\", \"value\": null, \"codigo\": 7}, {\"Weeks\": \"w48\", \"variable\": \"Covid-19\", \"value\": null, \"codigo\": 8}, {\"Weeks\": \"w49\", \"variable\": \"Covid-19\", \"value\": null, \"codigo\": 9}, {\"Weeks\": \"w50\", \"variable\": \"Covid-19\", \"value\": null, \"codigo\": 10}, {\"Weeks\": \"w51\", \"variable\": \"Covid-19\", \"value\": null, \"codigo\": 11}, {\"Weeks\": \"w52\", \"variable\": \"Covid-19\", \"value\": null, \"codigo\": 12}, {\"Weeks\": \"w01\", \"variable\": \"Covid-19\", \"value\": null, \"codigo\": 13}, {\"Weeks\": \"w02\", \"variable\": \"Covid-19\", \"value\": null, \"codigo\": 14}, {\"Weeks\": \"w03\", \"variable\": \"Covid-19\", \"value\": null, \"codigo\": 15}, {\"Weeks\": \"w04\", \"variable\": \"Covid-19\", \"value\": null, \"codigo\": 16}, {\"Weeks\": \"w05\", \"variable\": \"Covid-19\", \"value\": null, \"codigo\": 17}, {\"Weeks\": \"w06\", \"variable\": \"Covid-19\", \"value\": null, \"codigo\": 18}, {\"Weeks\": \"w07\", \"variable\": \"Covid-19\", \"value\": null, \"codigo\": 19}, {\"Weeks\": \"w08\", \"variable\": \"Covid-19\", \"value\": null, \"codigo\": 20}, {\"Weeks\": \"w09\", \"variable\": \"Covid-19\", \"value\": 1.0, \"codigo\": 21}, {\"Weeks\": \"w10\", \"variable\": \"Covid-19\", \"value\": 16.0, \"codigo\": 22}, {\"Weeks\": \"w11\", \"variable\": \"Covid-19\", \"value\": 40.0, \"codigo\": 23}, {\"Weeks\": \"w12\", \"variable\": \"Covid-19\", \"value\": 283.0, \"codigo\": 24}, {\"Weeks\": \"w13\", \"variable\": \"Covid-19\", \"value\": 1851.0, \"codigo\": 25}, {\"Weeks\": \"w14\", \"variable\": \"Covid-19\", \"value\": 6310.0, \"codigo\": 26}, {\"Weeks\": \"w15\", \"variable\": \"Covid-19\", \"value\": 12107.0, \"codigo\": 27}, {\"Weeks\": \"w16\", \"variable\": \"Covid-19\", \"value\": 18302.0, \"codigo\": 28}, {\"Weeks\": \"w17\", \"variable\": \"Covid-19\", \"value\": 14279.0, \"codigo\": 29}, {\"Weeks\": \"w18\", \"variable\": \"Covid-19\", \"value\": null, \"codigo\": 30}, {\"Weeks\": \"w19\", \"variable\": \"Covid-19\", \"value\": null, \"codigo\": 31}, {\"Weeks\": \"w20\", \"variable\": \"Covid-19\", \"value\": null, \"codigo\": 32}, {\"Weeks\": \"w21\", \"variable\": \"Covid-19\", \"value\": null, \"codigo\": 33}, {\"Weeks\": \"w22\", \"variable\": \"Covid-19\", \"value\": null, \"codigo\": 34}, {\"Weeks\": \"w23\", \"variable\": \"Covid-19\", \"value\": null, \"codigo\": 35}, {\"Weeks\": \"w24\", \"variable\": \"Covid-19\", \"value\": null, \"codigo\": 36}, {\"Weeks\": \"w25\", \"variable\": \"Covid-19\", \"value\": null, \"codigo\": 37}, {\"Weeks\": \"w26\", \"variable\": \"Covid-19\", \"value\": null, \"codigo\": 38}, {\"Weeks\": \"w27\", \"variable\": \"Covid-19\", \"value\": null, \"codigo\": 39}, {\"Weeks\": \"w28\", \"variable\": \"Covid-19\", \"value\": null, \"codigo\": 40}, {\"Weeks\": \"w29\", \"variable\": \"Covid-19\", \"value\": null, \"codigo\": 41}, {\"Weeks\": \"w30\", \"variable\": \"Covid-19\", \"value\": null, \"codigo\": 42}, {\"Weeks\": \"w31\", \"variable\": \"Covid-19\", \"value\": null, \"codigo\": 43}, {\"Weeks\": \"w32\", \"variable\": \"Covid-19\", \"value\": null, \"codigo\": 44}, {\"Weeks\": \"w33\", \"variable\": \"Covid-19\", \"value\": null, \"codigo\": 45}, {\"Weeks\": \"w34\", \"variable\": \"Covid-19\", \"value\": null, \"codigo\": 46}, {\"Weeks\": \"w35\", \"variable\": \"Covid-19\", \"value\": null, \"codigo\": 47}, {\"Weeks\": \"w36\", \"variable\": \"Covid-19\", \"value\": null, \"codigo\": 48}, {\"Weeks\": \"w37\", \"variable\": \"Covid-19\", \"value\": null, \"codigo\": 49}, {\"Weeks\": \"w38\", \"variable\": \"Covid-19\", \"value\": null, \"codigo\": 50}, {\"Weeks\": \"w39\", \"variable\": \"Covid-19\", \"value\": null, \"codigo\": 51}]}}, {\"mode\": \"vega-lite\"});\n",
       "</script>"
      ],
      "text/plain": [
       "alt.LayerChart(...)"
      ]
     },
     "execution_count": 60,
     "metadata": {},
     "output_type": "execute_result"
    }
   ],
   "source": [
    "#hide\n",
    "# select a point for which to provide details-on-demand\n",
    "label = alt.selection_single(\n",
    "    encodings=['x'], # limit selection to x-axis value\n",
    "    on='mouseover',  # select on mouseover events\n",
    "    nearest=True,    # select data point nearest the cursor\n",
    "    empty='none'     # empty selection includes no data points\n",
    ")\n",
    "\n",
    "base = alt.Chart().mark_line(point=True).encode(\n",
    "    x = alt.X('Weeks:N', axis=alt.Axis(title='Week of Flu Season'), sort=None),\n",
    "    y = alt.Y('value', axis=alt.Axis(title='Weekly Deaths')),\n",
    "    color=alt.Color('variable', legend=alt.Legend(title=\"\"), scale=alt.Scale(\n",
    "        range=['#d62728', '#1f77b4', '#ff7f0b', '#2ca02c', '#9467bd'])),\n",
    "    order='codigo',\n",
    ")\n",
    "\n",
    "alt.layer(\n",
    "    base, # base line chart\n",
    "    \n",
    "    # add a rule mark to serve as a guide line\n",
    "    alt.Chart().mark_rule(color='#aaa').encode(\n",
    "        x = alt.X('Weeks:N', axis=alt.Axis(title='Week of Flu Season'), sort=None)\n",
    "    ).transform_filter(label),\n",
    "    \n",
    "    # add circle marks for selected time points, hide unselected points\n",
    "    base.mark_circle().encode(\n",
    "        opacity=alt.condition(label, alt.value(1), alt.value(0))\n",
    "    ).add_selection(label),\n",
    "\n",
    "    # add white stroked text to provide a legible background for labels\n",
    "    base.mark_text(align='left', dx=5, dy=-5, stroke='white', strokeWidth=2).encode(\n",
    "        text='value:Q'\n",
    "    ).transform_filter(label),\n",
    "\n",
    "    # add text labels for stock prices\n",
    "    base.mark_text(align='left', dx=5, dy=-5).encode(\n",
    "        text='value:Q'\n",
    "    ).transform_filter(label),\n",
    "    \n",
    "    data=data\n",
    ").properties(\n",
    "    title=f'Covid-19 vs Flu: Weekly deaths up to week 17',\n",
    "    width=700\n",
    ")"
   ]
  },
  {
   "cell_type": "markdown",
   "metadata": {},
   "source": [
    "Indeed, the visualized growing rate was a good sign of what was going to happen."
   ]
  },
  {
   "cell_type": "code",
   "execution_count": null,
   "metadata": {},
   "outputs": [],
   "source": []
  }
 ],
 "metadata": {
  "kernelspec": {
   "display_name": "Python 3",
   "language": "python",
   "name": "python3"
  },
  "language_info": {
   "codemirror_mode": {
    "name": "ipython",
    "version": 3
   },
   "file_extension": ".py",
   "mimetype": "text/x-python",
   "name": "python",
   "nbconvert_exporter": "python",
   "pygments_lexer": "ipython3",
   "version": "3.7.5"
  }
 },
 "nbformat": 4,
 "nbformat_minor": 2
}
