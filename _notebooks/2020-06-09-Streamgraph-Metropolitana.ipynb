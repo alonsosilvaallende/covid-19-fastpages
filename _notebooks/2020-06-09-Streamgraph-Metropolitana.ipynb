{
 "cells": [
  {
   "cell_type": "markdown",
   "metadata": {},
   "source": [
    "# Streamgraph en la R.M.\n",
    "> Streamgraph en la R.M.\n",
    "\n",
    "- toc: true \n",
    "- badges: true\n",
    "- comments: true\n",
    "- author: Alonso Silva Allende\n",
    "- categories: [jupyter]\n",
    "- image: images/fallecimientos.png"
   ]
  },
  {
   "cell_type": "code",
   "execution_count": 1,
   "metadata": {},
   "outputs": [],
   "source": [
    "#hide\n",
    "import numpy as np\n",
    "import pandas as pd\n",
    "import altair as alt"
   ]
  },
  {
   "cell_type": "code",
   "execution_count": 2,
   "metadata": {},
   "outputs": [],
   "source": [
    "#hide\n",
    "county_cumulative_cases = pd.read_csv(\n",
    "    \"https://raw.githubusercontent.com/MinCiencia/Datos-COVID19/master/output/producto1/Covid-19.csv\")"
   ]
  },
  {
   "cell_type": "code",
   "execution_count": 3,
   "metadata": {},
   "outputs": [],
   "source": [
    "#hide\n",
    "county_cumulative_cases_RM = county_cumulative_cases.query(\"Region=='Metropolitana'\").drop(\n",
    "    columns=[\"Region\", \"Codigo region\", \"Poblacion\", \"Tasa\", \"Codigo comuna\"])"
   ]
  },
  {
   "cell_type": "code",
   "execution_count": 4,
   "metadata": {},
   "outputs": [],
   "source": [
    "#hide\n",
    "county_cases_RM = county_cumulative_cases_RM.set_index(\"Comuna\").T.diff().dropna()"
   ]
  },
  {
   "cell_type": "code",
   "execution_count": 5,
   "metadata": {},
   "outputs": [],
   "source": [
    "#hide\n",
    "county_cases_RM[\"Total\"] = county_cases_RM.sum(axis=1)\n",
    "county_cases_RM = county_cases_RM.T.apply(lambda x: x/x[-1]).T"
   ]
  },
  {
   "cell_type": "code",
   "execution_count": 6,
   "metadata": {},
   "outputs": [],
   "source": [
    "#hide\n",
    "start_date = county_cases_RM.reset_index()[\"index\"].iloc[0]\n",
    "end_date = county_cases_RM.reset_index()[\"index\"].iloc[-1]\n",
    "\n",
    "data = pd.DataFrame()\n",
    "data['Fecha'] = pd.date_range(start=start_date, end=end_date).strftime('%Y-%m-%d')\n",
    "data = data.set_index(\"Fecha\")"
   ]
  },
  {
   "cell_type": "code",
   "execution_count": 7,
   "metadata": {},
   "outputs": [],
   "source": [
    "#hide\n",
    "data[list(county_cases_RM.columns)] = county_cases_RM[list(county_cases_RM.columns)]"
   ]
  },
  {
   "cell_type": "code",
   "execution_count": 8,
   "metadata": {
    "scrolled": false
   },
   "outputs": [],
   "source": [
    "#hide\n",
    "data = data.interpolate(method=\"linear\")"
   ]
  },
  {
   "cell_type": "code",
   "execution_count": 9,
   "metadata": {},
   "outputs": [],
   "source": [
    "#hide\n",
    "last_known_proportion = data.iloc[-1]"
   ]
  },
  {
   "cell_type": "code",
   "execution_count": 10,
   "metadata": {},
   "outputs": [],
   "source": [
    "#hide\n",
    "regional_cumulative_cases = pd.read_csv(\n",
    "    'https://raw.githubusercontent.com/MinCiencia/Datos-COVID19/master/output/producto3/CasosTotalesCumulativo.csv')"
   ]
  },
  {
   "cell_type": "code",
   "execution_count": 11,
   "metadata": {},
   "outputs": [],
   "source": [
    "#hide\n",
    "regional_cumulative_cases_RM = regional_cumulative_cases.query(\"Region=='Metropolitana'\").iloc[-1].drop(\"Region\")\n",
    "regional_cases_RM = regional_cumulative_cases_RM.diff().dropna()"
   ]
  },
  {
   "cell_type": "code",
   "execution_count": 12,
   "metadata": {},
   "outputs": [
    {
     "data": {
      "text/plain": [
       "'2020-06-23'"
      ]
     },
     "execution_count": 12,
     "metadata": {},
     "output_type": "execute_result"
    }
   ],
   "source": [
    "#hide\n",
    "last_known_date = county_cases_RM.index[-1]\n",
    "last_known_date"
   ]
  },
  {
   "cell_type": "code",
   "execution_count": 13,
   "metadata": {},
   "outputs": [],
   "source": [
    "#hide\n",
    "n_missing_days = (pd.to_datetime(regional_cases_RM.index[-1])-pd.to_datetime(data.index[-1])).days"
   ]
  },
  {
   "cell_type": "code",
   "execution_count": 14,
   "metadata": {},
   "outputs": [],
   "source": [
    "#hide\n",
    "data = data.T"
   ]
  },
  {
   "cell_type": "code",
   "execution_count": 15,
   "metadata": {},
   "outputs": [
    {
     "name": "stdout",
     "output_type": "stream",
     "text": [
      "2020-06-24\n",
      "2020-06-25\n",
      "2020-06-26\n",
      "2020-06-27\n"
     ]
    }
   ],
   "source": [
    "#hide\n",
    "for i in np.arange(n_missing_days):\n",
    "    idx = (pd.to_datetime(last_known_date)+pd.DateOffset(1+i)).strftime(\"%Y-%m-%d\")\n",
    "    print(idx)\n",
    "    data[idx] = last_known_proportion"
   ]
  },
  {
   "cell_type": "code",
   "execution_count": 16,
   "metadata": {},
   "outputs": [],
   "source": [
    "#hide\n",
    "data = data.T"
   ]
  },
  {
   "cell_type": "code",
   "execution_count": 17,
   "metadata": {},
   "outputs": [],
   "source": [
    "#hide\n",
    "data[\"Regional\"] = regional_cases_RM"
   ]
  },
  {
   "cell_type": "code",
   "execution_count": 18,
   "metadata": {
    "scrolled": true
   },
   "outputs": [],
   "source": [
    "#hide\n",
    "data = data.T.apply(lambda x: x[:-1]*x[-1]).T.astype(int)"
   ]
  },
  {
   "cell_type": "code",
   "execution_count": 19,
   "metadata": {},
   "outputs": [],
   "source": [
    "#hide\n",
    "list_verde = ['La Reina', 'Las Condes', 'Lo Barnechea', 'Nunoa',  'Providencia', 'Vitacura']\n",
    "list_rojo = ['Santiago', 'Conchali', 'Huechuraba', 'Independencia', 'Recoleta', 'Quilicura',\n",
    "            'Cerro Navia', 'Lo Prado', 'Pudahuel', 'Quinta Normal', 'Renca',\n",
    "            'Estacion Central', 'Maipu', 'Cerrillos', 'Padre Hurtado', 'Penaflor']\n",
    "list_azul = ['Pedro Aguirre Cerda', 'San Miguel', 'San Joaquin', 'Lo Espejo', 'La Cisterna', \\\n",
    "           'La Granja', 'San Ramon', 'El Bosque', 'San Bernardo', 'La Pintana',\n",
    "            \"Macul\", \"La Florida\", 'Penalolen', \"Puente Alto\"]"
   ]
  },
  {
   "cell_type": "code",
   "execution_count": 20,
   "metadata": {},
   "outputs": [],
   "source": [
    "#hide\n",
    "cases_verde = data[list_verde]\n",
    "cases_rojo = data[list_rojo]\n",
    "cases_azul = data[list_azul]"
   ]
  },
  {
   "cell_type": "markdown",
   "metadata": {},
   "source": [
    "Mapas de [Juanizio Correa](https://twitter.com/Juanizio_C):"
   ]
  },
  {
   "cell_type": "markdown",
   "metadata": {},
   "source": [
    "> twitter: https://twitter.com/PolarBearby/status/1265826899198017536"
   ]
  },
  {
   "cell_type": "code",
   "execution_count": 21,
   "metadata": {},
   "outputs": [],
   "source": [
    "#hide\n",
    "# data = pd.DataFrame()\n",
    "# data[\"Verde\"] = np.round(cases_verde.sum(axis=1).rolling(window=7).mean())\n",
    "# data[\"Rojo\"] = np.round(cases_rojo.sum(axis=1).rolling(window=7).mean())\n",
    "# data[\"Azul\"] = np.round(cases_azul.sum(axis=1).rolling(window=7).mean())"
   ]
  },
  {
   "cell_type": "code",
   "execution_count": 22,
   "metadata": {},
   "outputs": [],
   "source": [
    "#hide\n",
    "data = pd.DataFrame()\n",
    "data[\"Verde\"] = cases_verde.sum(axis=1)\n",
    "data[\"Rojo\"] = cases_rojo.sum(axis=1)\n",
    "data[\"Azul\"] = cases_azul.sum(axis=1)"
   ]
  },
  {
   "cell_type": "code",
   "execution_count": 23,
   "metadata": {},
   "outputs": [],
   "source": [
    "#hide\n",
    "data_total = data.sum(axis=1)"
   ]
  },
  {
   "cell_type": "code",
   "execution_count": 24,
   "metadata": {},
   "outputs": [],
   "source": [
    "#hide\n",
    "data_percentage = pd.DataFrame()\n",
    "data_percentage[\"Verde\"] = np.round(100*data[\"Verde\"]/data_total, decimals=1)\n",
    "data_percentage[\"Rojo\"] = np.round(100*data[\"Rojo\"]/data_total, decimals=1)\n",
    "data_percentage[\"Azul\"] = np.round(100*data[\"Azul\"]/data_total, decimals=1)"
   ]
  },
  {
   "cell_type": "code",
   "execution_count": 25,
   "metadata": {},
   "outputs": [],
   "source": [
    "#hide\n",
    "data = pd.DataFrame()\n",
    "data[\"Verde\"] = np.round(cases_verde.sum(axis=1).rolling(window=7).mean())\n",
    "data[\"Rojo\"] = np.round(cases_rojo.sum(axis=1).rolling(window=7).mean())\n",
    "data[\"Azul\"] = np.round(cases_azul.sum(axis=1).rolling(window=7).mean())"
   ]
  },
  {
   "cell_type": "code",
   "execution_count": 26,
   "metadata": {},
   "outputs": [],
   "source": [
    "#hide\n",
    "data = data.reset_index().melt(\"Fecha\", var_name=\"Sector\", value_name=\"Casos confirmados\")"
   ]
  },
  {
   "cell_type": "code",
   "execution_count": 27,
   "metadata": {},
   "outputs": [],
   "source": [
    "#hide\n",
    "data_percentage = data_percentage.reset_index().melt(\"Fecha\", var_name=\"Sector\", value_name=\"Porcentaje\")"
   ]
  },
  {
   "cell_type": "code",
   "execution_count": 28,
   "metadata": {
    "scrolled": true
   },
   "outputs": [
    {
     "data": {
      "text/html": [
       "\n",
       "<div id=\"altair-viz-c4a336be004d415b8bd3a0533114d8f8\"></div>\n",
       "<script type=\"text/javascript\">\n",
       "  (function(spec, embedOpt){\n",
       "    let outputDiv = document.currentScript.previousElementSibling;\n",
       "    if (outputDiv.id !== \"altair-viz-c4a336be004d415b8bd3a0533114d8f8\") {\n",
       "      outputDiv = document.getElementById(\"altair-viz-c4a336be004d415b8bd3a0533114d8f8\");\n",
       "    }\n",
       "    const paths = {\n",
       "      \"vega\": \"https://cdn.jsdelivr.net/npm//vega@5?noext\",\n",
       "      \"vega-lib\": \"https://cdn.jsdelivr.net/npm//vega-lib?noext\",\n",
       "      \"vega-lite\": \"https://cdn.jsdelivr.net/npm//vega-lite@4.8.1?noext\",\n",
       "      \"vega-embed\": \"https://cdn.jsdelivr.net/npm//vega-embed@6?noext\",\n",
       "    };\n",
       "\n",
       "    function loadScript(lib) {\n",
       "      return new Promise(function(resolve, reject) {\n",
       "        var s = document.createElement('script');\n",
       "        s.src = paths[lib];\n",
       "        s.async = true;\n",
       "        s.onload = () => resolve(paths[lib]);\n",
       "        s.onerror = () => reject(`Error loading script: ${paths[lib]}`);\n",
       "        document.getElementsByTagName(\"head\")[0].appendChild(s);\n",
       "      });\n",
       "    }\n",
       "\n",
       "    function showError(err) {\n",
       "      outputDiv.innerHTML = `<div class=\"error\" style=\"color:red;\">${err}</div>`;\n",
       "      throw err;\n",
       "    }\n",
       "\n",
       "    function displayChart(vegaEmbed) {\n",
       "      vegaEmbed(outputDiv, spec, embedOpt)\n",
       "        .catch(err => showError(`Javascript Error: ${err.message}<br>This usually means there's a typo in your chart specification. See the javascript console for the full traceback.`));\n",
       "    }\n",
       "\n",
       "    if(typeof define === \"function\" && define.amd) {\n",
       "      requirejs.config({paths});\n",
       "      require([\"vega-embed\"], displayChart, err => showError(`Error loading script: ${err.message}`));\n",
       "    } else if (typeof vegaEmbed === \"function\") {\n",
       "      displayChart(vegaEmbed);\n",
       "    } else {\n",
       "      loadScript(\"vega\")\n",
       "        .then(() => loadScript(\"vega-lite\"))\n",
       "        .then(() => loadScript(\"vega-embed\"))\n",
       "        .catch(showError)\n",
       "        .then(() => displayChart(vegaEmbed));\n",
       "    }\n",
       "  })({\"config\": {\"view\": {\"continuousWidth\": 400, \"continuousHeight\": 300}, \"concat\": {\"spacing\": 0}}, \"vconcat\": [{\"data\": {\"name\": \"data-e430e4b2098ba054211f3fe70ff5060f\"}, \"mark\": \"area\", \"encoding\": {\"color\": {\"type\": \"nominal\", \"field\": \"Sector\", \"scale\": {\"domain\": [\"Azul\", \"Rojo\", \"Verde\"], \"range\": [\"blue\", \"red\", \"green\"]}}, \"tooltip\": [{\"type\": \"nominal\", \"field\": \"Fecha\"}, {\"type\": \"quantitative\", \"field\": \"Casos confirmados\"}], \"x\": {\"type\": \"nominal\", \"axis\": {\"domain\": false, \"title\": \"\"}, \"field\": \"Fecha\"}, \"y\": {\"type\": \"quantitative\", \"axis\": null, \"field\": \"Casos confirmados\", \"stack\": \"center\"}}, \"title\": \"Nuevos casos confirmados en la R.M. por zona socioecon\\u00f3mica (promedio m\\u00f3vil 7 d\\u00edas)\", \"width\": 700}, {\"data\": {\"name\": \"data-7b218d437f368e0d0c6e55152ead3774\"}, \"mark\": \"bar\", \"encoding\": {\"color\": {\"type\": \"nominal\", \"field\": \"Sector\"}, \"tooltip\": [{\"type\": \"nominal\", \"field\": \"Fecha\"}, {\"type\": \"quantitative\", \"field\": \"Porcentaje\"}], \"x\": {\"type\": \"nominal\", \"axis\": {\"domain\": false, \"labels\": false, \"ticks\": false, \"title\": \"\"}, \"field\": \"Fecha\"}, \"y\": {\"type\": \"quantitative\", \"axis\": {\"format\": \"%\", \"title\": \"\"}, \"field\": \"Porcentaje\", \"stack\": \"normalize\"}}, \"height\": 100, \"width\": 700}], \"$schema\": \"https://vega.github.io/schema/vega-lite/v4.8.1.json\", \"datasets\": {\"data-e430e4b2098ba054211f3fe70ff5060f\": [{\"Fecha\": \"2020-06-23\", \"Sector\": \"Verde\", \"Casos confirmados\": null}, {\"Fecha\": \"2020-06-24\", \"Sector\": \"Verde\", \"Casos confirmados\": null}, {\"Fecha\": \"2020-06-25\", \"Sector\": \"Verde\", \"Casos confirmados\": null}, {\"Fecha\": \"2020-06-26\", \"Sector\": \"Verde\", \"Casos confirmados\": null}, {\"Fecha\": \"2020-06-27\", \"Sector\": \"Verde\", \"Casos confirmados\": null}, {\"Fecha\": \"2020-06-23\", \"Sector\": \"Rojo\", \"Casos confirmados\": null}, {\"Fecha\": \"2020-06-24\", \"Sector\": \"Rojo\", \"Casos confirmados\": null}, {\"Fecha\": \"2020-06-25\", \"Sector\": \"Rojo\", \"Casos confirmados\": null}, {\"Fecha\": \"2020-06-26\", \"Sector\": \"Rojo\", \"Casos confirmados\": null}, {\"Fecha\": \"2020-06-27\", \"Sector\": \"Rojo\", \"Casos confirmados\": null}, {\"Fecha\": \"2020-06-23\", \"Sector\": \"Azul\", \"Casos confirmados\": null}, {\"Fecha\": \"2020-06-24\", \"Sector\": \"Azul\", \"Casos confirmados\": null}, {\"Fecha\": \"2020-06-25\", \"Sector\": \"Azul\", \"Casos confirmados\": null}, {\"Fecha\": \"2020-06-26\", \"Sector\": \"Azul\", \"Casos confirmados\": null}, {\"Fecha\": \"2020-06-27\", \"Sector\": \"Azul\", \"Casos confirmados\": null}], \"data-7b218d437f368e0d0c6e55152ead3774\": [{\"Fecha\": \"2020-06-23\", \"Sector\": \"Verde\", \"Porcentaje\": 7.5}, {\"Fecha\": \"2020-06-24\", \"Sector\": \"Verde\", \"Porcentaje\": 7.5}, {\"Fecha\": \"2020-06-25\", \"Sector\": \"Verde\", \"Porcentaje\": 7.4}, {\"Fecha\": \"2020-06-26\", \"Sector\": \"Verde\", \"Porcentaje\": 7.5}, {\"Fecha\": \"2020-06-27\", \"Sector\": \"Verde\", \"Porcentaje\": 7.5}, {\"Fecha\": \"2020-06-23\", \"Sector\": \"Rojo\", \"Porcentaje\": 47.9}, {\"Fecha\": \"2020-06-24\", \"Sector\": \"Rojo\", \"Porcentaje\": 47.8}, {\"Fecha\": \"2020-06-25\", \"Sector\": \"Rojo\", \"Porcentaje\": 48.0}, {\"Fecha\": \"2020-06-26\", \"Sector\": \"Rojo\", \"Porcentaje\": 47.9}, {\"Fecha\": \"2020-06-27\", \"Sector\": \"Rojo\", \"Porcentaje\": 47.9}, {\"Fecha\": \"2020-06-23\", \"Sector\": \"Azul\", \"Porcentaje\": 44.6}, {\"Fecha\": \"2020-06-24\", \"Sector\": \"Azul\", \"Porcentaje\": 44.7}, {\"Fecha\": \"2020-06-25\", \"Sector\": \"Azul\", \"Porcentaje\": 44.6}, {\"Fecha\": \"2020-06-26\", \"Sector\": \"Azul\", \"Porcentaje\": 44.6}, {\"Fecha\": \"2020-06-27\", \"Sector\": \"Azul\", \"Porcentaje\": 44.6}]}}, {\"mode\": \"vega-lite\"});\n",
       "</script>"
      ],
      "text/plain": [
       "alt.VConcatChart(...)"
      ]
     },
     "execution_count": 28,
     "metadata": {},
     "output_type": "execute_result"
    }
   ],
   "source": [
    "#hide_input\n",
    "\n",
    "domain = [\"Azul\", \"Rojo\", \"Verde\"]\n",
    "range_ = [\"blue\", \"red\", \"green\"]\n",
    "\n",
    "chart1 = alt.Chart(data).mark_area().encode(\n",
    "    x=alt.X(\"Fecha\", axis=alt.Axis(title=\"\", domain=False)),\n",
    "    y=alt.Y(\"Casos confirmados\", axis=None, stack=\"center\"),\n",
    "    tooltip = [\"Fecha\", \"Casos confirmados\"],\n",
    "    color = alt.Color(\"Sector\", scale=alt.Scale(domain=domain, range=range_)),\n",
    ").properties(\n",
    "    title=\"Nuevos casos confirmados en la R.M. por zona socioeconómica (promedio móvil 7 días)\",\n",
    "    width=700)\n",
    "\n",
    "chart2 = alt.Chart(data_percentage).mark_bar().encode(\n",
    "    x=alt.X(\"Fecha\", axis=alt.Axis(title=\"\", domain=False, ticks=False, labels=False)),\n",
    "    y=alt.Y(\"Porcentaje\", axis=alt.Axis(title=\"\", format='%'), stack=\"normalize\"),\n",
    "    tooltip = [\"Fecha\", \"Porcentaje\"],\n",
    "    color = alt.Color(\"Sector\"),\n",
    ").properties(\n",
    "    height = 100,\n",
    "    width=700\n",
    ")\n",
    "\n",
    "alt.vconcat(\n",
    "    chart1,\n",
    "    chart2\n",
    ").configure_concat(\n",
    "    spacing=0\n",
    ")"
   ]
  },
  {
   "cell_type": "markdown",
   "metadata": {},
   "source": [
    "Fuentes: [Ministerio de Ciencia](https://github.com/MinCiencia/Datos-COVID19), [Ministerio de Salud](https://www.minsal.cl/)"
   ]
  },
  {
   "cell_type": "code",
   "execution_count": 29,
   "metadata": {},
   "outputs": [],
   "source": [
    "#hide\n",
    "county_cumulative_cases = pd.read_csv(\n",
    "    \"https://raw.githubusercontent.com/MinCiencia/Datos-COVID19/master/output/producto1/Covid-19.csv\")"
   ]
  },
  {
   "cell_type": "code",
   "execution_count": 30,
   "metadata": {},
   "outputs": [],
   "source": [
    "#hide\n",
    "county_cumulative_cases_RM = county_cumulative_cases.query(\"Region=='Metropolitana'\").drop(\n",
    "    columns=[\"Region\", \"Codigo region\", \"Poblacion\", \"Tasa\", \"Codigo comuna\"])"
   ]
  },
  {
   "cell_type": "code",
   "execution_count": 31,
   "metadata": {},
   "outputs": [],
   "source": [
    "#hide\n",
    "county_cases_RM = county_cumulative_cases_RM.set_index(\"Comuna\").T.diff().dropna()"
   ]
  },
  {
   "cell_type": "code",
   "execution_count": 32,
   "metadata": {},
   "outputs": [],
   "source": [
    "#hide\n",
    "county_cases_RM[\"Total\"] = county_cases_RM.sum(axis=1)\n",
    "county_cases_RM = county_cases_RM.T.apply(lambda x: x/x[-1]).T"
   ]
  },
  {
   "cell_type": "code",
   "execution_count": 33,
   "metadata": {},
   "outputs": [],
   "source": [
    "#hide\n",
    "start_date = county_cases_RM.reset_index()[\"index\"].iloc[0]\n",
    "end_date = county_cases_RM.reset_index()[\"index\"].iloc[-1]\n",
    "\n",
    "data = pd.DataFrame()\n",
    "data['Fecha'] = pd.date_range(start=start_date, end=end_date).strftime('%Y-%m-%d')\n",
    "data = data.set_index(\"Fecha\")"
   ]
  },
  {
   "cell_type": "code",
   "execution_count": 34,
   "metadata": {},
   "outputs": [],
   "source": [
    "#hide\n",
    "data[list(county_cases_RM.columns)] = county_cases_RM[list(county_cases_RM.columns)]"
   ]
  },
  {
   "cell_type": "code",
   "execution_count": 35,
   "metadata": {
    "scrolled": false
   },
   "outputs": [],
   "source": [
    "#hide\n",
    "data = data.interpolate(method=\"linear\")"
   ]
  },
  {
   "cell_type": "code",
   "execution_count": 36,
   "metadata": {},
   "outputs": [],
   "source": [
    "#hide\n",
    "last_known_proportion = data.iloc[-1]"
   ]
  },
  {
   "cell_type": "code",
   "execution_count": 37,
   "metadata": {},
   "outputs": [],
   "source": [
    "#hide\n",
    "regional_cumulative_cases = pd.read_csv(\n",
    "    'https://raw.githubusercontent.com/MinCiencia/Datos-COVID19/master/output/producto3/CasosTotalesCumulativo.csv')"
   ]
  },
  {
   "cell_type": "code",
   "execution_count": 38,
   "metadata": {},
   "outputs": [],
   "source": [
    "#hide\n",
    "regional_cumulative_cases_RM = regional_cumulative_cases.query(\"Region=='Metropolitana'\").iloc[-1].drop(\"Region\")\n",
    "regional_cases_RM = regional_cumulative_cases_RM.diff().dropna()"
   ]
  },
  {
   "cell_type": "code",
   "execution_count": 39,
   "metadata": {},
   "outputs": [
    {
     "data": {
      "text/plain": [
       "'2020-06-23'"
      ]
     },
     "execution_count": 39,
     "metadata": {},
     "output_type": "execute_result"
    }
   ],
   "source": [
    "#hide\n",
    "last_known_date = county_cases_RM.index[-1]\n",
    "last_known_date"
   ]
  },
  {
   "cell_type": "code",
   "execution_count": 40,
   "metadata": {},
   "outputs": [],
   "source": [
    "#hide\n",
    "n_missing_days = (pd.to_datetime(regional_cases_RM.index[-1])-pd.to_datetime(data.index[-1])).days"
   ]
  },
  {
   "cell_type": "code",
   "execution_count": 41,
   "metadata": {},
   "outputs": [],
   "source": [
    "#hide\n",
    "data = data.T"
   ]
  },
  {
   "cell_type": "code",
   "execution_count": 42,
   "metadata": {},
   "outputs": [
    {
     "name": "stdout",
     "output_type": "stream",
     "text": [
      "2020-06-24\n",
      "2020-06-25\n",
      "2020-06-26\n",
      "2020-06-27\n"
     ]
    }
   ],
   "source": [
    "#hide\n",
    "for i in np.arange(n_missing_days):\n",
    "    idx = (pd.to_datetime(last_known_date)+pd.DateOffset(1+i)).strftime(\"%Y-%m-%d\")\n",
    "    print(idx)\n",
    "    data[idx] = last_known_proportion"
   ]
  },
  {
   "cell_type": "code",
   "execution_count": 43,
   "metadata": {},
   "outputs": [],
   "source": [
    "#hide\n",
    "data = data.T"
   ]
  },
  {
   "cell_type": "code",
   "execution_count": 44,
   "metadata": {},
   "outputs": [],
   "source": [
    "#hide\n",
    "data[\"Regional\"] = regional_cases_RM"
   ]
  },
  {
   "cell_type": "code",
   "execution_count": 45,
   "metadata": {
    "scrolled": true
   },
   "outputs": [],
   "source": [
    "#hide\n",
    "data = data.T.apply(lambda x: x[:-1]*x[-1]).T.astype(int)"
   ]
  },
  {
   "cell_type": "code",
   "execution_count": 46,
   "metadata": {},
   "outputs": [],
   "source": [
    "#hide\n",
    "list_nororiente = ['La Reina', 'Las Condes', 'Lo Barnechea', 'Nunoa',  'Providencia', 'Vitacura'] #\n",
    "list_suroriente = [\"Macul\", \"La Florida\", 'Penalolen', \"Puente Alto\"] #\n",
    "list_norponiente = ['Cerro Navia', 'Lo Prado', 'Pudahuel', 'Quinta Normal', 'Renca'] #\n",
    "list_surponiente = ['Estacion Central', 'Maipu', 'Cerrillos', 'Padre Hurtado', 'Penaflor'] #\n",
    "list_norte = ['Conchali', 'Huechuraba', 'Independencia', 'Recoleta', 'Quilicura'] #\n",
    "list_centro = ['Santiago'] #\n",
    "list_sur = ['Pedro Aguirre Cerda', 'San Miguel', 'San Joaquin', 'Lo Espejo', 'La Cisterna', \\\n",
    "           'La Granja', 'San Ramon', 'El Bosque', 'San Bernardo', 'La Pintana'] #"
   ]
  },
  {
   "cell_type": "code",
   "execution_count": 47,
   "metadata": {},
   "outputs": [],
   "source": [
    "#hide\n",
    "cases_nororiente = data[list_nororiente]\n",
    "cases_suroriente = data[list_suroriente]\n",
    "cases_norponiente = data[list_norponiente]\n",
    "cases_surponiente = data[list_surponiente]\n",
    "cases_norte = data[list_norte]\n",
    "cases_centro = data[list_centro]\n",
    "cases_sur = data[list_sur]"
   ]
  },
  {
   "cell_type": "code",
   "execution_count": 48,
   "metadata": {
    "scrolled": true
   },
   "outputs": [],
   "source": [
    "#hide\n",
    "data = pd.DataFrame()\n",
    "data[\"7. Nororiente\"] = cases_nororiente.sum(axis=1).rolling(window=7).mean()\n",
    "data[\"6. Suroriente\"] = cases_suroriente.sum(axis=1).rolling(window=7).mean()\n",
    "data[\"5. Norte\"] = cases_norte.sum(axis=1).rolling(window=7).mean()\n",
    "data[\"4. Centro\"] = cases_centro.sum(axis=1).rolling(window=7).mean()\n",
    "data[\"3. Sur\"] = cases_sur.sum(axis=1).rolling(window=7).mean()\n",
    "data[\"2. Norponiente\"] = cases_norponiente.sum(axis=1).rolling(window=7).mean()\n",
    "data[\"1. Surponiente\"] = cases_surponiente.sum(axis=1).rolling(window=7).mean()"
   ]
  },
  {
   "cell_type": "code",
   "execution_count": 49,
   "metadata": {},
   "outputs": [],
   "source": [
    "#hide\n",
    "data = data.reset_index()"
   ]
  },
  {
   "cell_type": "code",
   "execution_count": 50,
   "metadata": {},
   "outputs": [],
   "source": [
    "#hide\n",
    "data = data.melt(\"Fecha\", var_name=\"Sector\", value_name=\"Casos confirmados\")"
   ]
  },
  {
   "cell_type": "code",
   "execution_count": 51,
   "metadata": {},
   "outputs": [
    {
     "data": {
      "text/html": [
       "\n",
       "<div id=\"altair-viz-fae5883a82784dd2804e031548c9c92c\"></div>\n",
       "<script type=\"text/javascript\">\n",
       "  (function(spec, embedOpt){\n",
       "    let outputDiv = document.currentScript.previousElementSibling;\n",
       "    if (outputDiv.id !== \"altair-viz-fae5883a82784dd2804e031548c9c92c\") {\n",
       "      outputDiv = document.getElementById(\"altair-viz-fae5883a82784dd2804e031548c9c92c\");\n",
       "    }\n",
       "    const paths = {\n",
       "      \"vega\": \"https://cdn.jsdelivr.net/npm//vega@5?noext\",\n",
       "      \"vega-lib\": \"https://cdn.jsdelivr.net/npm//vega-lib?noext\",\n",
       "      \"vega-lite\": \"https://cdn.jsdelivr.net/npm//vega-lite@4.8.1?noext\",\n",
       "      \"vega-embed\": \"https://cdn.jsdelivr.net/npm//vega-embed@6?noext\",\n",
       "    };\n",
       "\n",
       "    function loadScript(lib) {\n",
       "      return new Promise(function(resolve, reject) {\n",
       "        var s = document.createElement('script');\n",
       "        s.src = paths[lib];\n",
       "        s.async = true;\n",
       "        s.onload = () => resolve(paths[lib]);\n",
       "        s.onerror = () => reject(`Error loading script: ${paths[lib]}`);\n",
       "        document.getElementsByTagName(\"head\")[0].appendChild(s);\n",
       "      });\n",
       "    }\n",
       "\n",
       "    function showError(err) {\n",
       "      outputDiv.innerHTML = `<div class=\"error\" style=\"color:red;\">${err}</div>`;\n",
       "      throw err;\n",
       "    }\n",
       "\n",
       "    function displayChart(vegaEmbed) {\n",
       "      vegaEmbed(outputDiv, spec, embedOpt)\n",
       "        .catch(err => showError(`Javascript Error: ${err.message}<br>This usually means there's a typo in your chart specification. See the javascript console for the full traceback.`));\n",
       "    }\n",
       "\n",
       "    if(typeof define === \"function\" && define.amd) {\n",
       "      requirejs.config({paths});\n",
       "      require([\"vega-embed\"], displayChart, err => showError(`Error loading script: ${err.message}`));\n",
       "    } else if (typeof vegaEmbed === \"function\") {\n",
       "      displayChart(vegaEmbed);\n",
       "    } else {\n",
       "      loadScript(\"vega\")\n",
       "        .then(() => loadScript(\"vega-lite\"))\n",
       "        .then(() => loadScript(\"vega-embed\"))\n",
       "        .catch(showError)\n",
       "        .then(() => displayChart(vegaEmbed));\n",
       "    }\n",
       "  })({\"config\": {\"view\": {\"continuousWidth\": 400, \"continuousHeight\": 300}, \"concat\": {\"spacing\": 0}}, \"vconcat\": [{\"mark\": \"area\", \"encoding\": {\"color\": {\"type\": \"nominal\", \"field\": \"Sector\"}, \"tooltip\": [{\"type\": \"nominal\", \"field\": \"Fecha\"}, {\"type\": \"quantitative\", \"field\": \"Casos confirmados\"}], \"x\": {\"type\": \"nominal\", \"axis\": {\"domain\": false, \"title\": \"\"}, \"field\": \"Fecha\"}, \"y\": {\"type\": \"quantitative\", \"axis\": null, \"field\": \"Casos confirmados\", \"stack\": \"center\"}}, \"title\": \"Nuevos casos confirmados en la R.M. por zona geogr\\u00e1fica (promedio m\\u00f3vil 7 d\\u00edas)\", \"width\": 700}, {\"mark\": \"bar\", \"encoding\": {\"color\": {\"type\": \"nominal\", \"field\": \"Sector\"}, \"tooltip\": [{\"type\": \"nominal\", \"field\": \"Fecha\"}, {\"type\": \"quantitative\", \"field\": \"Casos confirmados\"}], \"x\": {\"type\": \"nominal\", \"axis\": {\"domain\": false, \"labels\": false, \"ticks\": false, \"title\": \"\"}, \"field\": \"Fecha\"}, \"y\": {\"type\": \"quantitative\", \"axis\": {\"format\": \"%\", \"title\": \"\"}, \"field\": \"Casos confirmados\", \"stack\": \"normalize\"}}, \"height\": 100, \"width\": 700}], \"data\": {\"name\": \"data-41ac5f4422be1f97cff9333d053e2b1e\"}, \"$schema\": \"https://vega.github.io/schema/vega-lite/v4.8.1.json\", \"datasets\": {\"data-41ac5f4422be1f97cff9333d053e2b1e\": [{\"Fecha\": \"2020-06-23\", \"Sector\": \"7. Nororiente\", \"Casos confirmados\": null}, {\"Fecha\": \"2020-06-24\", \"Sector\": \"7. Nororiente\", \"Casos confirmados\": null}, {\"Fecha\": \"2020-06-25\", \"Sector\": \"7. Nororiente\", \"Casos confirmados\": null}, {\"Fecha\": \"2020-06-26\", \"Sector\": \"7. Nororiente\", \"Casos confirmados\": null}, {\"Fecha\": \"2020-06-27\", \"Sector\": \"7. Nororiente\", \"Casos confirmados\": null}, {\"Fecha\": \"2020-06-23\", \"Sector\": \"6. Suroriente\", \"Casos confirmados\": null}, {\"Fecha\": \"2020-06-24\", \"Sector\": \"6. Suroriente\", \"Casos confirmados\": null}, {\"Fecha\": \"2020-06-25\", \"Sector\": \"6. Suroriente\", \"Casos confirmados\": null}, {\"Fecha\": \"2020-06-26\", \"Sector\": \"6. Suroriente\", \"Casos confirmados\": null}, {\"Fecha\": \"2020-06-27\", \"Sector\": \"6. Suroriente\", \"Casos confirmados\": null}, {\"Fecha\": \"2020-06-23\", \"Sector\": \"5. Norte\", \"Casos confirmados\": null}, {\"Fecha\": \"2020-06-24\", \"Sector\": \"5. Norte\", \"Casos confirmados\": null}, {\"Fecha\": \"2020-06-25\", \"Sector\": \"5. Norte\", \"Casos confirmados\": null}, {\"Fecha\": \"2020-06-26\", \"Sector\": \"5. Norte\", \"Casos confirmados\": null}, {\"Fecha\": \"2020-06-27\", \"Sector\": \"5. Norte\", \"Casos confirmados\": null}, {\"Fecha\": \"2020-06-23\", \"Sector\": \"4. Centro\", \"Casos confirmados\": null}, {\"Fecha\": \"2020-06-24\", \"Sector\": \"4. Centro\", \"Casos confirmados\": null}, {\"Fecha\": \"2020-06-25\", \"Sector\": \"4. Centro\", \"Casos confirmados\": null}, {\"Fecha\": \"2020-06-26\", \"Sector\": \"4. Centro\", \"Casos confirmados\": null}, {\"Fecha\": \"2020-06-27\", \"Sector\": \"4. Centro\", \"Casos confirmados\": null}, {\"Fecha\": \"2020-06-23\", \"Sector\": \"3. Sur\", \"Casos confirmados\": null}, {\"Fecha\": \"2020-06-24\", \"Sector\": \"3. Sur\", \"Casos confirmados\": null}, {\"Fecha\": \"2020-06-25\", \"Sector\": \"3. Sur\", \"Casos confirmados\": null}, {\"Fecha\": \"2020-06-26\", \"Sector\": \"3. Sur\", \"Casos confirmados\": null}, {\"Fecha\": \"2020-06-27\", \"Sector\": \"3. Sur\", \"Casos confirmados\": null}, {\"Fecha\": \"2020-06-23\", \"Sector\": \"2. Norponiente\", \"Casos confirmados\": null}, {\"Fecha\": \"2020-06-24\", \"Sector\": \"2. Norponiente\", \"Casos confirmados\": null}, {\"Fecha\": \"2020-06-25\", \"Sector\": \"2. Norponiente\", \"Casos confirmados\": null}, {\"Fecha\": \"2020-06-26\", \"Sector\": \"2. Norponiente\", \"Casos confirmados\": null}, {\"Fecha\": \"2020-06-27\", \"Sector\": \"2. Norponiente\", \"Casos confirmados\": null}, {\"Fecha\": \"2020-06-23\", \"Sector\": \"1. Surponiente\", \"Casos confirmados\": null}, {\"Fecha\": \"2020-06-24\", \"Sector\": \"1. Surponiente\", \"Casos confirmados\": null}, {\"Fecha\": \"2020-06-25\", \"Sector\": \"1. Surponiente\", \"Casos confirmados\": null}, {\"Fecha\": \"2020-06-26\", \"Sector\": \"1. Surponiente\", \"Casos confirmados\": null}, {\"Fecha\": \"2020-06-27\", \"Sector\": \"1. Surponiente\", \"Casos confirmados\": null}]}}, {\"mode\": \"vega-lite\"});\n",
       "</script>"
      ],
      "text/plain": [
       "alt.VConcatChart(...)"
      ]
     },
     "execution_count": 51,
     "metadata": {},
     "output_type": "execute_result"
    }
   ],
   "source": [
    "#hide_input\n",
    "chart1 = alt.Chart(data).mark_area().encode(\n",
    "    x=alt.X(\"Fecha\", axis=alt.Axis(title=\"\", domain=False)),\n",
    "    y=alt.Y(\"Casos confirmados\", axis=None, stack=\"center\"),\n",
    "    tooltip = [\"Fecha\", \"Casos confirmados\"],\n",
    "    color = alt.Color(\"Sector\"),\n",
    ").properties(\n",
    "    title=\"Nuevos casos confirmados en la R.M. por zona geográfica (promedio móvil 7 días)\",\n",
    "    width=700)\n",
    "\n",
    "chart2 = alt.Chart(data).mark_bar().encode(\n",
    "    x=alt.X(\"Fecha\", axis=alt.Axis(title=\"\", domain=False, ticks=False, labels=False)),\n",
    "    y=alt.Y(\"Casos confirmados\", axis=alt.Axis(title=\"\", format='%'), stack=\"normalize\"),\n",
    "    tooltip = [\"Fecha\", \"Casos confirmados\"],\n",
    "    color = alt.Color(\"Sector\"),\n",
    ").properties(\n",
    "    height = 100,\n",
    "    width=700\n",
    ")\n",
    "\n",
    "alt.vconcat(\n",
    "    chart1,\n",
    "    chart2\n",
    ").configure_concat(\n",
    "    spacing=0\n",
    ")"
   ]
  },
  {
   "cell_type": "markdown",
   "metadata": {},
   "source": [
    "Fuentes: [Ministerio de Ciencia](https://github.com/MinCiencia/Datos-COVID19), [Ministerio de Salud](https://www.minsal.cl/), Para la agrupación de comunas en 7 sectores, la página Wikipedia [Comunas de Santiago de Chile](https://es.wikipedia.org/wiki/Anexo:Comunas_de_Santiago_de_Chile#Conurbaci%C3%B3n_de_Santiago)\n",
    "\n",
    "* No hay datos diarios de nuevos confirmados por comuna. Estos son estimados a través de una interpolación lineal entre las proporciones observadas entre los dos informes más cercanos en el tiempo y aplicados a casos confirmados regionales."
   ]
  },
  {
   "cell_type": "code",
   "execution_count": null,
   "metadata": {},
   "outputs": [],
   "source": []
  }
 ],
 "metadata": {
  "kernelspec": {
   "display_name": "Python 3",
   "language": "python",
   "name": "python3"
  },
  "language_info": {
   "codemirror_mode": {
    "name": "ipython",
    "version": 3
   },
   "file_extension": ".py",
   "mimetype": "text/x-python",
   "name": "python",
   "nbconvert_exporter": "python",
   "pygments_lexer": "ipython3",
   "version": "3.8.2"
  }
 },
 "nbformat": 4,
 "nbformat_minor": 4
}
