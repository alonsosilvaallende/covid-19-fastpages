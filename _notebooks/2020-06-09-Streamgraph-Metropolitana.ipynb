{
 "cells": [
  {
   "cell_type": "markdown",
   "metadata": {},
   "source": [
    "# Streamgraph en la R.M.\n",
    "> Streamgraph en la R.M.\n",
    "\n",
    "- toc: true \n",
    "- badges: true\n",
    "- comments: true\n",
    "- author: Alonso Silva Allende\n",
    "- categories: [jupyter]\n",
    "- image: images/fallecimientos.png"
   ]
  },
  {
   "cell_type": "code",
   "execution_count": 1,
   "metadata": {},
   "outputs": [],
   "source": [
    "#hide\n",
    "import numpy as np\n",
    "import pandas as pd\n",
    "import altair as alt"
   ]
  },
  {
   "cell_type": "code",
   "execution_count": 2,
   "metadata": {},
   "outputs": [],
   "source": [
    "#hide\n",
    "county_cumulative_cases = pd.read_csv(\n",
    "    \"https://raw.githubusercontent.com/MinCiencia/Datos-COVID19/master/output/producto1/Covid-19.csv\")"
   ]
  },
  {
   "cell_type": "code",
   "execution_count": 3,
   "metadata": {},
   "outputs": [],
   "source": [
    "#hide\n",
    "county_cumulative_cases_RM = county_cumulative_cases.query(\"Region=='Metropolitana'\").drop(\n",
    "    columns=[\"Region\", \"Codigo region\", \"Poblacion\", \"Tasa\", \"Codigo comuna\"])"
   ]
  },
  {
   "cell_type": "code",
   "execution_count": 4,
   "metadata": {},
   "outputs": [],
   "source": [
    "#hide\n",
    "county_cases_RM = county_cumulative_cases_RM.set_index(\"Comuna\").T.diff().dropna()"
   ]
  },
  {
   "cell_type": "code",
   "execution_count": 5,
   "metadata": {},
   "outputs": [],
   "source": [
    "#hide\n",
    "county_cases_RM[\"Total\"] = county_cases_RM.sum(axis=1)\n",
    "county_cases_RM = county_cases_RM.T.apply(lambda x: x/x[-1]).T"
   ]
  },
  {
   "cell_type": "code",
   "execution_count": 6,
   "metadata": {},
   "outputs": [],
   "source": [
    "#hide\n",
    "start_date = county_cases_RM.reset_index()[\"index\"].iloc[0]\n",
    "end_date = county_cases_RM.reset_index()[\"index\"].iloc[-1]\n",
    "\n",
    "data = pd.DataFrame()\n",
    "data['Fecha'] = pd.date_range(start=start_date, end=end_date).strftime('%Y-%m-%d')\n",
    "data = data.set_index(\"Fecha\")"
   ]
  },
  {
   "cell_type": "code",
   "execution_count": 7,
   "metadata": {},
   "outputs": [],
   "source": [
    "#hide\n",
    "data[list(county_cases_RM.columns)] = county_cases_RM[list(county_cases_RM.columns)]"
   ]
  },
  {
   "cell_type": "code",
   "execution_count": 8,
   "metadata": {
    "scrolled": false
   },
   "outputs": [],
   "source": [
    "#hide\n",
    "data = data.interpolate(method=\"linear\")"
   ]
  },
  {
   "cell_type": "code",
   "execution_count": 9,
   "metadata": {},
   "outputs": [],
   "source": [
    "#hide\n",
    "last_known_proportion = data.iloc[-1]"
   ]
  },
  {
   "cell_type": "code",
   "execution_count": 10,
   "metadata": {},
   "outputs": [],
   "source": [
    "#hide\n",
    "regional_cumulative_cases = pd.read_csv(\n",
    "    'https://raw.githubusercontent.com/MinCiencia/Datos-COVID19/master/output/producto3/CasosTotalesCumulativo.csv')"
   ]
  },
  {
   "cell_type": "code",
   "execution_count": 11,
   "metadata": {},
   "outputs": [],
   "source": [
    "#hide\n",
    "regional_cumulative_cases_RM = regional_cumulative_cases.query(\"Region=='Metropolitana'\").iloc[-1].drop(\"Region\")\n",
    "regional_cases_RM = regional_cumulative_cases_RM.diff().dropna()"
   ]
  },
  {
   "cell_type": "code",
   "execution_count": 12,
   "metadata": {},
   "outputs": [
    {
     "data": {
      "text/plain": [
       "'2020-06-05'"
      ]
     },
     "execution_count": 12,
     "metadata": {},
     "output_type": "execute_result"
    }
   ],
   "source": [
    "#hide\n",
    "last_known_date = county_cases_RM.index[-1]\n",
    "last_known_date"
   ]
  },
  {
   "cell_type": "code",
   "execution_count": 13,
   "metadata": {},
   "outputs": [],
   "source": [
    "#hide\n",
    "n_missing_days = (pd.to_datetime(regional_cases_RM.index[-1])-pd.to_datetime(data.index[-1])).days"
   ]
  },
  {
   "cell_type": "code",
   "execution_count": 14,
   "metadata": {},
   "outputs": [],
   "source": [
    "#hide\n",
    "data = data.T"
   ]
  },
  {
   "cell_type": "code",
   "execution_count": 15,
   "metadata": {},
   "outputs": [
    {
     "name": "stdout",
     "output_type": "stream",
     "text": [
      "2020-06-06\n",
      "2020-06-07\n",
      "2020-06-08\n"
     ]
    }
   ],
   "source": [
    "#hide\n",
    "for i in np.arange(n_missing_days):\n",
    "    idx = (pd.to_datetime(last_known_date)+pd.DateOffset(1+i)).strftime(\"%Y-%m-%d\")\n",
    "    print(idx)\n",
    "    data[idx] = last_known_proportion"
   ]
  },
  {
   "cell_type": "code",
   "execution_count": 16,
   "metadata": {},
   "outputs": [],
   "source": [
    "#hide\n",
    "data = data.T"
   ]
  },
  {
   "cell_type": "code",
   "execution_count": 17,
   "metadata": {},
   "outputs": [],
   "source": [
    "#hide\n",
    "data[\"Regional\"] = regional_cases_RM"
   ]
  },
  {
   "cell_type": "code",
   "execution_count": 18,
   "metadata": {
    "scrolled": true
   },
   "outputs": [],
   "source": [
    "#hide\n",
    "data = data.T.apply(lambda x: x[:-1]*x[-1]).T.astype(int)"
   ]
  },
  {
   "cell_type": "code",
   "execution_count": 19,
   "metadata": {},
   "outputs": [],
   "source": [
    "#hide\n",
    "list_verde = ['La Reina', 'Las Condes', 'Lo Barnechea', 'Nunoa',  'Providencia', 'Vitacura']\n",
    "list_rojo = ['Santiago', 'Conchali', 'Huechuraba', 'Independencia', 'Recoleta', 'Quilicura',\n",
    "            'Cerro Navia', 'Lo Prado', 'Pudahuel', 'Quinta Normal', 'Renca',\n",
    "            'Estacion Central', 'Maipu', 'Cerrillos', 'Padre Hurtado', 'Penaflor']\n",
    "list_azul = ['Pedro Aguirre Cerda', 'San Miguel', 'San Joaquin', 'Lo Espejo', 'La Cisterna', \\\n",
    "           'La Granja', 'San Ramon', 'El Bosque', 'San Bernardo', 'La Pintana',\n",
    "            \"Macul\", \"La Florida\", 'Penalolen', \"Puente Alto\"]"
   ]
  },
  {
   "cell_type": "code",
   "execution_count": 20,
   "metadata": {},
   "outputs": [],
   "source": [
    "#hide\n",
    "cases_verde = data[list_verde]\n",
    "cases_rojo = data[list_rojo]\n",
    "cases_azul = data[list_azul]"
   ]
  },
  {
   "cell_type": "markdown",
   "metadata": {},
   "source": [
    "Mapas de [Juanizio Correa](https://twitter.com/Juanizio_C):"
   ]
  },
  {
   "cell_type": "markdown",
   "metadata": {},
   "source": [
    "> twitter: https://twitter.com/PolarBearby/status/1265826899198017536"
   ]
  },
  {
   "cell_type": "code",
   "execution_count": 21,
   "metadata": {},
   "outputs": [],
   "source": [
    "#hide\n",
    "# data = pd.DataFrame()\n",
    "# data[\"Verde\"] = np.round(cases_verde.sum(axis=1).rolling(window=7).mean())\n",
    "# data[\"Rojo\"] = np.round(cases_rojo.sum(axis=1).rolling(window=7).mean())\n",
    "# data[\"Azul\"] = np.round(cases_azul.sum(axis=1).rolling(window=7).mean())"
   ]
  },
  {
   "cell_type": "code",
   "execution_count": 22,
   "metadata": {},
   "outputs": [],
   "source": [
    "#hide\n",
    "data = pd.DataFrame()\n",
    "data[\"Verde\"] = cases_verde.sum(axis=1)\n",
    "data[\"Rojo\"] = cases_rojo.sum(axis=1)\n",
    "data[\"Azul\"] = cases_azul.sum(axis=1)"
   ]
  },
  {
   "cell_type": "code",
   "execution_count": 23,
   "metadata": {},
   "outputs": [],
   "source": [
    "#hide\n",
    "data_total = data.sum(axis=1)"
   ]
  },
  {
   "cell_type": "code",
   "execution_count": 24,
   "metadata": {},
   "outputs": [],
   "source": [
    "#hide\n",
    "data_percentage = pd.DataFrame()\n",
    "data_percentage[\"Verde\"] = np.round(100*data[\"Verde\"]/data_total, decimals=1)\n",
    "data_percentage[\"Rojo\"] = np.round(100*data[\"Rojo\"]/data_total, decimals=1)\n",
    "data_percentage[\"Azul\"] = np.round(100*data[\"Azul\"]/data_total, decimals=1)"
   ]
  },
  {
   "cell_type": "code",
   "execution_count": 25,
   "metadata": {},
   "outputs": [],
   "source": [
    "#hide\n",
    "data = pd.DataFrame()\n",
    "data[\"Verde\"] = np.round(cases_verde.sum(axis=1).rolling(window=7).mean())\n",
    "data[\"Rojo\"] = np.round(cases_rojo.sum(axis=1).rolling(window=7).mean())\n",
    "data[\"Azul\"] = np.round(cases_azul.sum(axis=1).rolling(window=7).mean())"
   ]
  },
  {
   "cell_type": "code",
   "execution_count": 26,
   "metadata": {},
   "outputs": [],
   "source": [
    "#hide\n",
    "data = data.reset_index().melt(\"Fecha\", var_name=\"Sector\", value_name=\"Casos confirmados\")"
   ]
  },
  {
   "cell_type": "code",
   "execution_count": 27,
   "metadata": {},
   "outputs": [],
   "source": [
    "#hide\n",
    "data_percentage = data_percentage.reset_index().melt(\"Fecha\", var_name=\"Sector\", value_name=\"Porcentaje\")"
   ]
  },
  {
   "cell_type": "code",
   "execution_count": 28,
   "metadata": {
    "scrolled": true
   },
   "outputs": [
    {
     "data": {
      "text/html": [
       "\n",
       "<div id=\"altair-viz-e61cc309a77f4b41ab2e70c2ea1b6a46\"></div>\n",
       "<script type=\"text/javascript\">\n",
       "  (function(spec, embedOpt){\n",
       "    let outputDiv = document.currentScript.previousElementSibling;\n",
       "    if (outputDiv.id !== \"altair-viz-e61cc309a77f4b41ab2e70c2ea1b6a46\") {\n",
       "      outputDiv = document.getElementById(\"altair-viz-e61cc309a77f4b41ab2e70c2ea1b6a46\");\n",
       "    }\n",
       "    const paths = {\n",
       "      \"vega\": \"https://cdn.jsdelivr.net/npm//vega@5?noext\",\n",
       "      \"vega-lib\": \"https://cdn.jsdelivr.net/npm//vega-lib?noext\",\n",
       "      \"vega-lite\": \"https://cdn.jsdelivr.net/npm//vega-lite@4.8.1?noext\",\n",
       "      \"vega-embed\": \"https://cdn.jsdelivr.net/npm//vega-embed@6?noext\",\n",
       "    };\n",
       "\n",
       "    function loadScript(lib) {\n",
       "      return new Promise(function(resolve, reject) {\n",
       "        var s = document.createElement('script');\n",
       "        s.src = paths[lib];\n",
       "        s.async = true;\n",
       "        s.onload = () => resolve(paths[lib]);\n",
       "        s.onerror = () => reject(`Error loading script: ${paths[lib]}`);\n",
       "        document.getElementsByTagName(\"head\")[0].appendChild(s);\n",
       "      });\n",
       "    }\n",
       "\n",
       "    function showError(err) {\n",
       "      outputDiv.innerHTML = `<div class=\"error\" style=\"color:red;\">${err}</div>`;\n",
       "      throw err;\n",
       "    }\n",
       "\n",
       "    function displayChart(vegaEmbed) {\n",
       "      vegaEmbed(outputDiv, spec, embedOpt)\n",
       "        .catch(err => showError(`Javascript Error: ${err.message}<br>This usually means there's a typo in your chart specification. See the javascript console for the full traceback.`));\n",
       "    }\n",
       "\n",
       "    if(typeof define === \"function\" && define.amd) {\n",
       "      requirejs.config({paths});\n",
       "      require([\"vega-embed\"], displayChart, err => showError(`Error loading script: ${err.message}`));\n",
       "    } else if (typeof vegaEmbed === \"function\") {\n",
       "      displayChart(vegaEmbed);\n",
       "    } else {\n",
       "      loadScript(\"vega\")\n",
       "        .then(() => loadScript(\"vega-lite\"))\n",
       "        .then(() => loadScript(\"vega-embed\"))\n",
       "        .catch(showError)\n",
       "        .then(() => displayChart(vegaEmbed));\n",
       "    }\n",
       "  })({\"config\": {\"view\": {\"continuousWidth\": 400, \"continuousHeight\": 300}, \"concat\": {\"spacing\": 0}}, \"vconcat\": [{\"data\": {\"name\": \"data-b180b101834b28d07af0ec2fbe22e713\"}, \"mark\": \"area\", \"encoding\": {\"color\": {\"type\": \"nominal\", \"field\": \"Sector\", \"scale\": {\"domain\": [\"Azul\", \"Rojo\", \"Verde\"], \"range\": [\"blue\", \"red\", \"green\"]}}, \"tooltip\": [{\"type\": \"nominal\", \"field\": \"Fecha\"}, {\"type\": \"quantitative\", \"field\": \"Casos confirmados\"}], \"x\": {\"type\": \"nominal\", \"axis\": {\"domain\": false, \"title\": \"\"}, \"field\": \"Fecha\"}, \"y\": {\"type\": \"quantitative\", \"axis\": null, \"field\": \"Casos confirmados\", \"stack\": \"center\"}}, \"title\": \"Nuevos casos confirmados en la R.M. por zona socioecon\\u00f3mica\", \"width\": 700}, {\"data\": {\"name\": \"data-659ddeede4d56961f6fcfb3baa1c3fcc\"}, \"mark\": \"bar\", \"encoding\": {\"color\": {\"type\": \"nominal\", \"field\": \"Sector\"}, \"tooltip\": [{\"type\": \"nominal\", \"field\": \"Fecha\"}, {\"type\": \"quantitative\", \"field\": \"Porcentaje\"}], \"x\": {\"type\": \"nominal\", \"axis\": {\"domain\": false, \"labels\": false, \"ticks\": false, \"title\": \"\"}, \"field\": \"Fecha\"}, \"y\": {\"type\": \"quantitative\", \"axis\": {\"format\": \"%\", \"title\": \"\"}, \"field\": \"Porcentaje\", \"stack\": \"normalize\"}}, \"height\": 100, \"width\": 700}], \"$schema\": \"https://vega.github.io/schema/vega-lite/v4.8.1.json\", \"datasets\": {\"data-b180b101834b28d07af0ec2fbe22e713\": [{\"Fecha\": \"2020-04-01\", \"Sector\": \"Verde\", \"Casos confirmados\": null}, {\"Fecha\": \"2020-04-02\", \"Sector\": \"Verde\", \"Casos confirmados\": null}, {\"Fecha\": \"2020-04-03\", \"Sector\": \"Verde\", \"Casos confirmados\": null}, {\"Fecha\": \"2020-04-04\", \"Sector\": \"Verde\", \"Casos confirmados\": null}, {\"Fecha\": \"2020-04-05\", \"Sector\": \"Verde\", \"Casos confirmados\": null}, {\"Fecha\": \"2020-04-06\", \"Sector\": \"Verde\", \"Casos confirmados\": null}, {\"Fecha\": \"2020-04-07\", \"Sector\": \"Verde\", \"Casos confirmados\": 24.0}, {\"Fecha\": \"2020-04-08\", \"Sector\": \"Verde\", \"Casos confirmados\": 25.0}, {\"Fecha\": \"2020-04-09\", \"Sector\": \"Verde\", \"Casos confirmados\": 26.0}, {\"Fecha\": \"2020-04-10\", \"Sector\": \"Verde\", \"Casos confirmados\": 30.0}, {\"Fecha\": \"2020-04-11\", \"Sector\": \"Verde\", \"Casos confirmados\": 28.0}, {\"Fecha\": \"2020-04-12\", \"Sector\": \"Verde\", \"Casos confirmados\": 26.0}, {\"Fecha\": \"2020-04-13\", \"Sector\": \"Verde\", \"Casos confirmados\": 24.0}, {\"Fecha\": \"2020-04-14\", \"Sector\": \"Verde\", \"Casos confirmados\": 26.0}, {\"Fecha\": \"2020-04-15\", \"Sector\": \"Verde\", \"Casos confirmados\": 26.0}, {\"Fecha\": \"2020-04-16\", \"Sector\": \"Verde\", \"Casos confirmados\": 27.0}, {\"Fecha\": \"2020-04-17\", \"Sector\": \"Verde\", \"Casos confirmados\": 24.0}, {\"Fecha\": \"2020-04-18\", \"Sector\": \"Verde\", \"Casos confirmados\": 24.0}, {\"Fecha\": \"2020-04-19\", \"Sector\": \"Verde\", \"Casos confirmados\": 25.0}, {\"Fecha\": \"2020-04-20\", \"Sector\": \"Verde\", \"Casos confirmados\": 26.0}, {\"Fecha\": \"2020-04-21\", \"Sector\": \"Verde\", \"Casos confirmados\": 23.0}, {\"Fecha\": \"2020-04-22\", \"Sector\": \"Verde\", \"Casos confirmados\": 23.0}, {\"Fecha\": \"2020-04-23\", \"Sector\": \"Verde\", \"Casos confirmados\": 21.0}, {\"Fecha\": \"2020-04-24\", \"Sector\": \"Verde\", \"Casos confirmados\": 20.0}, {\"Fecha\": \"2020-04-25\", \"Sector\": \"Verde\", \"Casos confirmados\": 20.0}, {\"Fecha\": \"2020-04-26\", \"Sector\": \"Verde\", \"Casos confirmados\": 21.0}, {\"Fecha\": \"2020-04-27\", \"Sector\": \"Verde\", \"Casos confirmados\": 21.0}, {\"Fecha\": \"2020-04-28\", \"Sector\": \"Verde\", \"Casos confirmados\": 24.0}, {\"Fecha\": \"2020-04-29\", \"Sector\": \"Verde\", \"Casos confirmados\": 27.0}, {\"Fecha\": \"2020-04-30\", \"Sector\": \"Verde\", \"Casos confirmados\": 31.0}, {\"Fecha\": \"2020-05-01\", \"Sector\": \"Verde\", \"Casos confirmados\": 37.0}, {\"Fecha\": \"2020-05-02\", \"Sector\": \"Verde\", \"Casos confirmados\": 45.0}, {\"Fecha\": \"2020-05-03\", \"Sector\": \"Verde\", \"Casos confirmados\": 51.0}, {\"Fecha\": \"2020-05-04\", \"Sector\": \"Verde\", \"Casos confirmados\": 56.0}, {\"Fecha\": \"2020-05-05\", \"Sector\": \"Verde\", \"Casos confirmados\": 64.0}, {\"Fecha\": \"2020-05-06\", \"Sector\": \"Verde\", \"Casos confirmados\": 69.0}, {\"Fecha\": \"2020-05-07\", \"Sector\": \"Verde\", \"Casos confirmados\": 78.0}, {\"Fecha\": \"2020-05-08\", \"Sector\": \"Verde\", \"Casos confirmados\": 86.0}, {\"Fecha\": \"2020-05-09\", \"Sector\": \"Verde\", \"Casos confirmados\": 88.0}, {\"Fecha\": \"2020-05-10\", \"Sector\": \"Verde\", \"Casos confirmados\": 98.0}, {\"Fecha\": \"2020-05-11\", \"Sector\": \"Verde\", \"Casos confirmados\": 103.0}, {\"Fecha\": \"2020-05-12\", \"Sector\": \"Verde\", \"Casos confirmados\": 109.0}, {\"Fecha\": \"2020-05-13\", \"Sector\": \"Verde\", \"Casos confirmados\": 129.0}, {\"Fecha\": \"2020-05-14\", \"Sector\": \"Verde\", \"Casos confirmados\": 143.0}, {\"Fecha\": \"2020-05-15\", \"Sector\": \"Verde\", \"Casos confirmados\": 153.0}, {\"Fecha\": \"2020-05-16\", \"Sector\": \"Verde\", \"Casos confirmados\": 159.0}, {\"Fecha\": \"2020-05-17\", \"Sector\": \"Verde\", \"Casos confirmados\": 162.0}, {\"Fecha\": \"2020-05-18\", \"Sector\": \"Verde\", \"Casos confirmados\": 169.0}, {\"Fecha\": \"2020-05-19\", \"Sector\": \"Verde\", \"Casos confirmados\": 187.0}, {\"Fecha\": \"2020-05-20\", \"Sector\": \"Verde\", \"Casos confirmados\": 199.0}, {\"Fecha\": \"2020-05-21\", \"Sector\": \"Verde\", \"Casos confirmados\": 211.0}, {\"Fecha\": \"2020-05-22\", \"Sector\": \"Verde\", \"Casos confirmados\": 229.0}, {\"Fecha\": \"2020-05-23\", \"Sector\": \"Verde\", \"Casos confirmados\": 249.0}, {\"Fecha\": \"2020-05-24\", \"Sector\": \"Verde\", \"Casos confirmados\": 267.0}, {\"Fecha\": \"2020-05-25\", \"Sector\": \"Verde\", \"Casos confirmados\": 307.0}, {\"Fecha\": \"2020-05-26\", \"Sector\": \"Verde\", \"Casos confirmados\": 317.0}, {\"Fecha\": \"2020-05-27\", \"Sector\": \"Verde\", \"Casos confirmados\": 325.0}, {\"Fecha\": \"2020-05-28\", \"Sector\": \"Verde\", \"Casos confirmados\": 337.0}, {\"Fecha\": \"2020-05-29\", \"Sector\": \"Verde\", \"Casos confirmados\": 332.0}, {\"Fecha\": \"2020-05-30\", \"Sector\": \"Verde\", \"Casos confirmados\": 337.0}, {\"Fecha\": \"2020-05-31\", \"Sector\": \"Verde\", \"Casos confirmados\": 347.0}, {\"Fecha\": \"2020-06-01\", \"Sector\": \"Verde\", \"Casos confirmados\": 340.0}, {\"Fecha\": \"2020-06-02\", \"Sector\": \"Verde\", \"Casos confirmados\": 328.0}, {\"Fecha\": \"2020-06-03\", \"Sector\": \"Verde\", \"Casos confirmados\": 324.0}, {\"Fecha\": \"2020-06-04\", \"Sector\": \"Verde\", \"Casos confirmados\": 315.0}, {\"Fecha\": \"2020-06-05\", \"Sector\": \"Verde\", \"Casos confirmados\": 313.0}, {\"Fecha\": \"2020-06-06\", \"Sector\": \"Verde\", \"Casos confirmados\": 321.0}, {\"Fecha\": \"2020-06-07\", \"Sector\": \"Verde\", \"Casos confirmados\": 335.0}, {\"Fecha\": \"2020-06-08\", \"Sector\": \"Verde\", \"Casos confirmados\": 327.0}, {\"Fecha\": \"2020-04-01\", \"Sector\": \"Rojo\", \"Casos confirmados\": null}, {\"Fecha\": \"2020-04-02\", \"Sector\": \"Rojo\", \"Casos confirmados\": null}, {\"Fecha\": \"2020-04-03\", \"Sector\": \"Rojo\", \"Casos confirmados\": null}, {\"Fecha\": \"2020-04-04\", \"Sector\": \"Rojo\", \"Casos confirmados\": null}, {\"Fecha\": \"2020-04-05\", \"Sector\": \"Rojo\", \"Casos confirmados\": null}, {\"Fecha\": \"2020-04-06\", \"Sector\": \"Rojo\", \"Casos confirmados\": null}, {\"Fecha\": \"2020-04-07\", \"Sector\": \"Rojo\", \"Casos confirmados\": 42.0}, {\"Fecha\": \"2020-04-08\", \"Sector\": \"Rojo\", \"Casos confirmados\": 48.0}, {\"Fecha\": \"2020-04-09\", \"Sector\": \"Rojo\", \"Casos confirmados\": 58.0}, {\"Fecha\": \"2020-04-10\", \"Sector\": \"Rojo\", \"Casos confirmados\": 71.0}, {\"Fecha\": \"2020-04-11\", \"Sector\": \"Rojo\", \"Casos confirmados\": 74.0}, {\"Fecha\": \"2020-04-12\", \"Sector\": \"Rojo\", \"Casos confirmados\": 74.0}, {\"Fecha\": \"2020-04-13\", \"Sector\": \"Rojo\", \"Casos confirmados\": 77.0}, {\"Fecha\": \"2020-04-14\", \"Sector\": \"Rojo\", \"Casos confirmados\": 87.0}, {\"Fecha\": \"2020-04-15\", \"Sector\": \"Rojo\", \"Casos confirmados\": 91.0}, {\"Fecha\": \"2020-04-16\", \"Sector\": \"Rojo\", \"Casos confirmados\": 95.0}, {\"Fecha\": \"2020-04-17\", \"Sector\": \"Rojo\", \"Casos confirmados\": 90.0}, {\"Fecha\": \"2020-04-18\", \"Sector\": \"Rojo\", \"Casos confirmados\": 93.0}, {\"Fecha\": \"2020-04-19\", \"Sector\": \"Rojo\", \"Casos confirmados\": 96.0}, {\"Fecha\": \"2020-04-20\", \"Sector\": \"Rojo\", \"Casos confirmados\": 100.0}, {\"Fecha\": \"2020-04-21\", \"Sector\": \"Rojo\", \"Casos confirmados\": 93.0}, {\"Fecha\": \"2020-04-22\", \"Sector\": \"Rojo\", \"Casos confirmados\": 96.0}, {\"Fecha\": \"2020-04-23\", \"Sector\": \"Rojo\", \"Casos confirmados\": 98.0}, {\"Fecha\": \"2020-04-24\", \"Sector\": \"Rojo\", \"Casos confirmados\": 106.0}, {\"Fecha\": \"2020-04-25\", \"Sector\": \"Rojo\", \"Casos confirmados\": 117.0}, {\"Fecha\": \"2020-04-26\", \"Sector\": \"Rojo\", \"Casos confirmados\": 128.0}, {\"Fecha\": \"2020-04-27\", \"Sector\": \"Rojo\", \"Casos confirmados\": 136.0}, {\"Fecha\": \"2020-04-28\", \"Sector\": \"Rojo\", \"Casos confirmados\": 157.0}, {\"Fecha\": \"2020-04-29\", \"Sector\": \"Rojo\", \"Casos confirmados\": 182.0}, {\"Fecha\": \"2020-04-30\", \"Sector\": \"Rojo\", \"Casos confirmados\": 216.0}, {\"Fecha\": \"2020-05-01\", \"Sector\": \"Rojo\", \"Casos confirmados\": 267.0}, {\"Fecha\": \"2020-05-02\", \"Sector\": \"Rojo\", \"Casos confirmados\": 330.0}, {\"Fecha\": \"2020-05-03\", \"Sector\": \"Rojo\", \"Casos confirmados\": 384.0}, {\"Fecha\": \"2020-05-04\", \"Sector\": \"Rojo\", \"Casos confirmados\": 425.0}, {\"Fecha\": \"2020-05-05\", \"Sector\": \"Rojo\", \"Casos confirmados\": 479.0}, {\"Fecha\": \"2020-05-06\", \"Sector\": \"Rojo\", \"Casos confirmados\": 496.0}, {\"Fecha\": \"2020-05-07\", \"Sector\": \"Rojo\", \"Casos confirmados\": 523.0}, {\"Fecha\": \"2020-05-08\", \"Sector\": \"Rojo\", \"Casos confirmados\": 524.0}, {\"Fecha\": \"2020-05-09\", \"Sector\": \"Rojo\", \"Casos confirmados\": 496.0}, {\"Fecha\": \"2020-05-10\", \"Sector\": \"Rojo\", \"Casos confirmados\": 505.0}, {\"Fecha\": \"2020-05-11\", \"Sector\": \"Rojo\", \"Casos confirmados\": 499.0}, {\"Fecha\": \"2020-05-12\", \"Sector\": \"Rojo\", \"Casos confirmados\": 496.0}, {\"Fecha\": \"2020-05-13\", \"Sector\": \"Rojo\", \"Casos confirmados\": 566.0}, {\"Fecha\": \"2020-05-14\", \"Sector\": \"Rojo\", \"Casos confirmados\": 610.0}, {\"Fecha\": \"2020-05-15\", \"Sector\": \"Rojo\", \"Casos confirmados\": 650.0}, {\"Fecha\": \"2020-05-16\", \"Sector\": \"Rojo\", \"Casos confirmados\": 667.0}, {\"Fecha\": \"2020-05-17\", \"Sector\": \"Rojo\", \"Casos confirmados\": 674.0}, {\"Fecha\": \"2020-05-18\", \"Sector\": \"Rojo\", \"Casos confirmados\": 696.0}, {\"Fecha\": \"2020-05-19\", \"Sector\": \"Rojo\", \"Casos confirmados\": 768.0}, {\"Fecha\": \"2020-05-20\", \"Sector\": \"Rojo\", \"Casos confirmados\": 825.0}, {\"Fecha\": \"2020-05-21\", \"Sector\": \"Rojo\", \"Casos confirmados\": 891.0}, {\"Fecha\": \"2020-05-22\", \"Sector\": \"Rojo\", \"Casos confirmados\": 996.0}, {\"Fecha\": \"2020-05-23\", \"Sector\": \"Rojo\", \"Casos confirmados\": 1093.0}, {\"Fecha\": \"2020-05-24\", \"Sector\": \"Rojo\", \"Casos confirmados\": 1178.0}, {\"Fecha\": \"2020-05-25\", \"Sector\": \"Rojo\", \"Casos confirmados\": 1339.0}, {\"Fecha\": \"2020-05-26\", \"Sector\": \"Rojo\", \"Casos confirmados\": 1376.0}, {\"Fecha\": \"2020-05-27\", \"Sector\": \"Rojo\", \"Casos confirmados\": 1405.0}, {\"Fecha\": \"2020-05-28\", \"Sector\": \"Rojo\", \"Casos confirmados\": 1445.0}, {\"Fecha\": \"2020-05-29\", \"Sector\": \"Rojo\", \"Casos confirmados\": 1410.0}, {\"Fecha\": \"2020-05-30\", \"Sector\": \"Rojo\", \"Casos confirmados\": 1439.0}, {\"Fecha\": \"2020-05-31\", \"Sector\": \"Rojo\", \"Casos confirmados\": 1520.0}, {\"Fecha\": \"2020-06-01\", \"Sector\": \"Rojo\", \"Casos confirmados\": 1567.0}, {\"Fecha\": \"2020-06-02\", \"Sector\": \"Rojo\", \"Casos confirmados\": 1557.0}, {\"Fecha\": \"2020-06-03\", \"Sector\": \"Rojo\", \"Casos confirmados\": 1583.0}, {\"Fecha\": \"2020-06-04\", \"Sector\": \"Rojo\", \"Casos confirmados\": 1576.0}, {\"Fecha\": \"2020-06-05\", \"Sector\": \"Rojo\", \"Casos confirmados\": 1587.0}, {\"Fecha\": \"2020-06-06\", \"Sector\": \"Rojo\", \"Casos confirmados\": 1635.0}, {\"Fecha\": \"2020-06-07\", \"Sector\": \"Rojo\", \"Casos confirmados\": 1698.0}, {\"Fecha\": \"2020-06-08\", \"Sector\": \"Rojo\", \"Casos confirmados\": 1635.0}, {\"Fecha\": \"2020-04-01\", \"Sector\": \"Azul\", \"Casos confirmados\": null}, {\"Fecha\": \"2020-04-02\", \"Sector\": \"Azul\", \"Casos confirmados\": null}, {\"Fecha\": \"2020-04-03\", \"Sector\": \"Azul\", \"Casos confirmados\": null}, {\"Fecha\": \"2020-04-04\", \"Sector\": \"Azul\", \"Casos confirmados\": null}, {\"Fecha\": \"2020-04-05\", \"Sector\": \"Azul\", \"Casos confirmados\": null}, {\"Fecha\": \"2020-04-06\", \"Sector\": \"Azul\", \"Casos confirmados\": null}, {\"Fecha\": \"2020-04-07\", \"Sector\": \"Azul\", \"Casos confirmados\": 41.0}, {\"Fecha\": \"2020-04-08\", \"Sector\": \"Azul\", \"Casos confirmados\": 46.0}, {\"Fecha\": \"2020-04-09\", \"Sector\": \"Azul\", \"Casos confirmados\": 56.0}, {\"Fecha\": \"2020-04-10\", \"Sector\": \"Azul\", \"Casos confirmados\": 72.0}, {\"Fecha\": \"2020-04-11\", \"Sector\": \"Azul\", \"Casos confirmados\": 76.0}, {\"Fecha\": \"2020-04-12\", \"Sector\": \"Azul\", \"Casos confirmados\": 79.0}, {\"Fecha\": \"2020-04-13\", \"Sector\": \"Azul\", \"Casos confirmados\": 85.0}, {\"Fecha\": \"2020-04-14\", \"Sector\": \"Azul\", \"Casos confirmados\": 98.0}, {\"Fecha\": \"2020-04-15\", \"Sector\": \"Azul\", \"Casos confirmados\": 102.0}, {\"Fecha\": \"2020-04-16\", \"Sector\": \"Azul\", \"Casos confirmados\": 107.0}, {\"Fecha\": \"2020-04-17\", \"Sector\": \"Azul\", \"Casos confirmados\": 100.0}, {\"Fecha\": \"2020-04-18\", \"Sector\": \"Azul\", \"Casos confirmados\": 101.0}, {\"Fecha\": \"2020-04-19\", \"Sector\": \"Azul\", \"Casos confirmados\": 103.0}, {\"Fecha\": \"2020-04-20\", \"Sector\": \"Azul\", \"Casos confirmados\": 107.0}, {\"Fecha\": \"2020-04-21\", \"Sector\": \"Azul\", \"Casos confirmados\": 98.0}, {\"Fecha\": \"2020-04-22\", \"Sector\": \"Azul\", \"Casos confirmados\": 102.0}, {\"Fecha\": \"2020-04-23\", \"Sector\": \"Azul\", \"Casos confirmados\": 102.0}, {\"Fecha\": \"2020-04-24\", \"Sector\": \"Azul\", \"Casos confirmados\": 107.0}, {\"Fecha\": \"2020-04-25\", \"Sector\": \"Azul\", \"Casos confirmados\": 114.0}, {\"Fecha\": \"2020-04-26\", \"Sector\": \"Azul\", \"Casos confirmados\": 123.0}, {\"Fecha\": \"2020-04-27\", \"Sector\": \"Azul\", \"Casos confirmados\": 128.0}, {\"Fecha\": \"2020-04-28\", \"Sector\": \"Azul\", \"Casos confirmados\": 145.0}, {\"Fecha\": \"2020-04-29\", \"Sector\": \"Azul\", \"Casos confirmados\": 157.0}, {\"Fecha\": \"2020-04-30\", \"Sector\": \"Azul\", \"Casos confirmados\": 171.0}, {\"Fecha\": \"2020-05-01\", \"Sector\": \"Azul\", \"Casos confirmados\": 189.0}, {\"Fecha\": \"2020-05-02\", \"Sector\": \"Azul\", \"Casos confirmados\": 218.0}, {\"Fecha\": \"2020-05-03\", \"Sector\": \"Azul\", \"Casos confirmados\": 247.0}, {\"Fecha\": \"2020-05-04\", \"Sector\": \"Azul\", \"Casos confirmados\": 271.0}, {\"Fecha\": \"2020-05-05\", \"Sector\": \"Azul\", \"Casos confirmados\": 309.0}, {\"Fecha\": \"2020-05-06\", \"Sector\": \"Azul\", \"Casos confirmados\": 326.0}, {\"Fecha\": \"2020-05-07\", \"Sector\": \"Azul\", \"Casos confirmados\": 360.0}, {\"Fecha\": \"2020-05-08\", \"Sector\": \"Azul\", \"Casos confirmados\": 386.0}, {\"Fecha\": \"2020-05-09\", \"Sector\": \"Azul\", \"Casos confirmados\": 389.0}, {\"Fecha\": \"2020-05-10\", \"Sector\": \"Azul\", \"Casos confirmados\": 422.0}, {\"Fecha\": \"2020-05-11\", \"Sector\": \"Azul\", \"Casos confirmados\": 434.0}, {\"Fecha\": \"2020-05-12\", \"Sector\": \"Azul\", \"Casos confirmados\": 456.0}, {\"Fecha\": \"2020-05-13\", \"Sector\": \"Azul\", \"Casos confirmados\": 550.0}, {\"Fecha\": \"2020-05-14\", \"Sector\": \"Azul\", \"Casos confirmados\": 625.0}, {\"Fecha\": \"2020-05-15\", \"Sector\": \"Azul\", \"Casos confirmados\": 694.0}, {\"Fecha\": \"2020-05-16\", \"Sector\": \"Azul\", \"Casos confirmados\": 743.0}, {\"Fecha\": \"2020-05-17\", \"Sector\": \"Azul\", \"Casos confirmados\": 801.0}, {\"Fecha\": \"2020-05-18\", \"Sector\": \"Azul\", \"Casos confirmados\": 882.0}, {\"Fecha\": \"2020-05-19\", \"Sector\": \"Azul\", \"Casos confirmados\": 1029.0}, {\"Fecha\": \"2020-05-20\", \"Sector\": \"Azul\", \"Casos confirmados\": 1138.0}, {\"Fecha\": \"2020-05-21\", \"Sector\": \"Azul\", \"Casos confirmados\": 1222.0}, {\"Fecha\": \"2020-05-22\", \"Sector\": \"Azul\", \"Casos confirmados\": 1317.0}, {\"Fecha\": \"2020-05-23\", \"Sector\": \"Azul\", \"Casos confirmados\": 1401.0}, {\"Fecha\": \"2020-05-24\", \"Sector\": \"Azul\", \"Casos confirmados\": 1458.0}, {\"Fecha\": \"2020-05-25\", \"Sector\": \"Azul\", \"Casos confirmados\": 1597.0}, {\"Fecha\": \"2020-05-26\", \"Sector\": \"Azul\", \"Casos confirmados\": 1571.0}, {\"Fecha\": \"2020-05-27\", \"Sector\": \"Azul\", \"Casos confirmados\": 1545.0}, {\"Fecha\": \"2020-05-28\", \"Sector\": \"Azul\", \"Casos confirmados\": 1547.0}, {\"Fecha\": \"2020-05-29\", \"Sector\": \"Azul\", \"Casos confirmados\": 1490.0}, {\"Fecha\": \"2020-05-30\", \"Sector\": \"Azul\", \"Casos confirmados\": 1496.0}, {\"Fecha\": \"2020-05-31\", \"Sector\": \"Azul\", \"Casos confirmados\": 1552.0}, {\"Fecha\": \"2020-06-01\", \"Sector\": \"Azul\", \"Casos confirmados\": 1561.0}, {\"Fecha\": \"2020-06-02\", \"Sector\": \"Azul\", \"Casos confirmados\": 1531.0}, {\"Fecha\": \"2020-06-03\", \"Sector\": \"Azul\", \"Casos confirmados\": 1542.0}, {\"Fecha\": \"2020-06-04\", \"Sector\": \"Azul\", \"Casos confirmados\": 1527.0}, {\"Fecha\": \"2020-06-05\", \"Sector\": \"Azul\", \"Casos confirmados\": 1536.0}, {\"Fecha\": \"2020-06-06\", \"Sector\": \"Azul\", \"Casos confirmados\": 1578.0}, {\"Fecha\": \"2020-06-07\", \"Sector\": \"Azul\", \"Casos confirmados\": 1627.0}, {\"Fecha\": \"2020-06-08\", \"Sector\": \"Azul\", \"Casos confirmados\": 1552.0}], \"data-659ddeede4d56961f6fcfb3baa1c3fcc\": [{\"Fecha\": \"2020-04-01\", \"Sector\": \"Verde\", \"Porcentaje\": 23.8}, {\"Fecha\": \"2020-04-02\", \"Sector\": \"Verde\", \"Porcentaje\": 24.7}, {\"Fecha\": \"2020-04-03\", \"Sector\": \"Verde\", \"Porcentaje\": 24.1}, {\"Fecha\": \"2020-04-04\", \"Sector\": \"Verde\", \"Porcentaje\": 22.7}, {\"Fecha\": \"2020-04-05\", \"Sector\": \"Verde\", \"Porcentaje\": 21.9}, {\"Fecha\": \"2020-04-06\", \"Sector\": \"Verde\", \"Porcentaje\": 21.6}, {\"Fecha\": \"2020-04-07\", \"Sector\": \"Verde\", \"Porcentaje\": 17.5}, {\"Fecha\": \"2020-04-08\", \"Sector\": \"Verde\", \"Porcentaje\": 15.4}, {\"Fecha\": \"2020-04-09\", \"Sector\": \"Verde\", \"Porcentaje\": 14.4}, {\"Fecha\": \"2020-04-10\", \"Sector\": \"Verde\", \"Porcentaje\": 13.7}, {\"Fecha\": \"2020-04-11\", \"Sector\": \"Verde\", \"Porcentaje\": 12.8}, {\"Fecha\": \"2020-04-12\", \"Sector\": \"Verde\", \"Porcentaje\": 9.9}, {\"Fecha\": \"2020-04-13\", \"Sector\": \"Verde\", \"Porcentaje\": 8.3}, {\"Fecha\": \"2020-04-14\", \"Sector\": \"Verde\", \"Porcentaje\": 10.8}, {\"Fecha\": \"2020-04-15\", \"Sector\": \"Verde\", \"Porcentaje\": 12.0}, {\"Fecha\": \"2020-04-16\", \"Sector\": \"Verde\", \"Porcentaje\": 12.1}, {\"Fecha\": \"2020-04-17\", \"Sector\": \"Verde\", \"Porcentaje\": 12.0}, {\"Fecha\": \"2020-04-18\", \"Sector\": \"Verde\", \"Porcentaje\": 10.9}, {\"Fecha\": \"2020-04-19\", \"Sector\": \"Verde\", \"Porcentaje\": 10.0}, {\"Fecha\": \"2020-04-20\", \"Sector\": \"Verde\", \"Porcentaje\": 9.2}, {\"Fecha\": \"2020-04-21\", \"Sector\": \"Verde\", \"Porcentaje\": 8.4}, {\"Fecha\": \"2020-04-22\", \"Sector\": \"Verde\", \"Porcentaje\": 8.0}, {\"Fecha\": \"2020-04-23\", \"Sector\": \"Verde\", \"Porcentaje\": 7.5}, {\"Fecha\": \"2020-04-24\", \"Sector\": \"Verde\", \"Porcentaje\": 6.7}, {\"Fecha\": \"2020-04-25\", \"Sector\": \"Verde\", \"Porcentaje\": 7.3}, {\"Fecha\": \"2020-04-26\", \"Sector\": \"Verde\", \"Porcentaje\": 7.6}, {\"Fecha\": \"2020-04-27\", \"Sector\": \"Verde\", \"Porcentaje\": 7.3}, {\"Fecha\": \"2020-04-28\", \"Sector\": \"Verde\", \"Porcentaje\": 7.4}, {\"Fecha\": \"2020-04-29\", \"Sector\": \"Verde\", \"Porcentaje\": 7.4}, {\"Fecha\": \"2020-04-30\", \"Sector\": \"Verde\", \"Porcentaje\": 7.8}, {\"Fecha\": \"2020-05-01\", \"Sector\": \"Verde\", \"Porcentaje\": 7.7}, {\"Fecha\": \"2020-05-02\", \"Sector\": \"Verde\", \"Porcentaje\": 7.6}, {\"Fecha\": \"2020-05-03\", \"Sector\": \"Verde\", \"Porcentaje\": 7.2}, {\"Fecha\": \"2020-05-04\", \"Sector\": \"Verde\", \"Porcentaje\": 7.0}, {\"Fecha\": \"2020-05-05\", \"Sector\": \"Verde\", \"Porcentaje\": 8.0}, {\"Fecha\": \"2020-05-06\", \"Sector\": \"Verde\", \"Porcentaje\": 9.0}, {\"Fecha\": \"2020-05-07\", \"Sector\": \"Verde\", \"Porcentaje\": 10.0}, {\"Fecha\": \"2020-05-08\", \"Sector\": \"Verde\", \"Porcentaje\": 11.1}, {\"Fecha\": \"2020-05-09\", \"Sector\": \"Verde\", \"Porcentaje\": 10.6}, {\"Fecha\": \"2020-05-10\", \"Sector\": \"Verde\", \"Porcentaje\": 10.4}, {\"Fecha\": \"2020-05-11\", \"Sector\": \"Verde\", \"Porcentaje\": 10.2}, {\"Fecha\": \"2020-05-12\", \"Sector\": \"Verde\", \"Porcentaje\": 10.3}, {\"Fecha\": \"2020-05-13\", \"Sector\": \"Verde\", \"Porcentaje\": 10.2}, {\"Fecha\": \"2020-05-14\", \"Sector\": \"Verde\", \"Porcentaje\": 10.1}, {\"Fecha\": \"2020-05-15\", \"Sector\": \"Verde\", \"Porcentaje\": 10.1}, {\"Fecha\": \"2020-05-16\", \"Sector\": \"Verde\", \"Porcentaje\": 9.5}, {\"Fecha\": \"2020-05-17\", \"Sector\": \"Verde\", \"Porcentaje\": 9.0}, {\"Fecha\": \"2020-05-18\", \"Sector\": \"Verde\", \"Porcentaje\": 8.6}, {\"Fecha\": \"2020-05-19\", \"Sector\": \"Verde\", \"Porcentaje\": 8.7}, {\"Fecha\": \"2020-05-20\", \"Sector\": \"Verde\", \"Porcentaje\": 8.9}, {\"Fecha\": \"2020-05-21\", \"Sector\": \"Verde\", \"Porcentaje\": 9.1}, {\"Fecha\": \"2020-05-22\", \"Sector\": \"Verde\", \"Porcentaje\": 9.3}, {\"Fecha\": \"2020-05-23\", \"Sector\": \"Verde\", \"Porcentaje\": 9.7}, {\"Fecha\": \"2020-05-24\", \"Sector\": \"Verde\", \"Porcentaje\": 10.0}, {\"Fecha\": \"2020-05-25\", \"Sector\": \"Verde\", \"Porcentaje\": 10.5}, {\"Fecha\": \"2020-05-26\", \"Sector\": \"Verde\", \"Porcentaje\": 10.4}, {\"Fecha\": \"2020-05-27\", \"Sector\": \"Verde\", \"Porcentaje\": 10.4}, {\"Fecha\": \"2020-05-28\", \"Sector\": \"Verde\", \"Porcentaje\": 10.4}, {\"Fecha\": \"2020-05-29\", \"Sector\": \"Verde\", \"Porcentaje\": 10.4}, {\"Fecha\": \"2020-05-30\", \"Sector\": \"Verde\", \"Porcentaje\": 9.8}, {\"Fecha\": \"2020-05-31\", \"Sector\": \"Verde\", \"Porcentaje\": 9.2}, {\"Fecha\": \"2020-06-01\", \"Sector\": \"Verde\", \"Porcentaje\": 8.5}, {\"Fecha\": \"2020-06-02\", \"Sector\": \"Verde\", \"Porcentaje\": 8.8}, {\"Fecha\": \"2020-06-03\", \"Sector\": \"Verde\", \"Porcentaje\": 9.0}, {\"Fecha\": \"2020-06-04\", \"Sector\": \"Verde\", \"Porcentaje\": 9.3}, {\"Fecha\": \"2020-06-05\", \"Sector\": \"Verde\", \"Porcentaje\": 9.5}, {\"Fecha\": \"2020-06-06\", \"Sector\": \"Verde\", \"Porcentaje\": 9.5}, {\"Fecha\": \"2020-06-07\", \"Sector\": \"Verde\", \"Porcentaje\": 9.5}, {\"Fecha\": \"2020-06-08\", \"Sector\": \"Verde\", \"Porcentaje\": 9.5}, {\"Fecha\": \"2020-04-01\", \"Sector\": \"Rojo\", \"Porcentaje\": 34.5}, {\"Fecha\": \"2020-04-02\", \"Sector\": \"Rojo\", \"Porcentaje\": 36.0}, {\"Fecha\": \"2020-04-03\", \"Sector\": \"Rojo\", \"Porcentaje\": 36.1}, {\"Fecha\": \"2020-04-04\", \"Sector\": \"Rojo\", \"Porcentaje\": 38.7}, {\"Fecha\": \"2020-04-05\", \"Sector\": \"Rojo\", \"Porcentaje\": 41.2}, {\"Fecha\": \"2020-04-06\", \"Sector\": \"Rojo\", \"Porcentaje\": 41.4}, {\"Fecha\": \"2020-04-07\", \"Sector\": \"Rojo\", \"Porcentaje\": 43.8}, {\"Fecha\": \"2020-04-08\", \"Sector\": \"Rojo\", \"Porcentaje\": 43.8}, {\"Fecha\": \"2020-04-09\", \"Sector\": \"Rojo\", \"Porcentaje\": 42.0}, {\"Fecha\": \"2020-04-10\", \"Sector\": \"Rojo\", \"Porcentaje\": 40.3}, {\"Fecha\": \"2020-04-11\", \"Sector\": \"Rojo\", \"Porcentaje\": 40.4}, {\"Fecha\": \"2020-04-12\", \"Sector\": \"Rojo\", \"Porcentaje\": 39.7}, {\"Fecha\": \"2020-04-13\", \"Sector\": \"Rojo\", \"Porcentaje\": 39.9}, {\"Fecha\": \"2020-04-14\", \"Sector\": \"Rojo\", \"Porcentaje\": 42.4}, {\"Fecha\": \"2020-04-15\", \"Sector\": \"Rojo\", \"Porcentaje\": 44.2}, {\"Fecha\": \"2020-04-16\", \"Sector\": \"Rojo\", \"Porcentaje\": 43.2}, {\"Fecha\": \"2020-04-17\", \"Sector\": \"Rojo\", \"Porcentaje\": 42.8}, {\"Fecha\": \"2020-04-18\", \"Sector\": \"Rojo\", \"Porcentaje\": 42.7}, {\"Fecha\": \"2020-04-19\", \"Sector\": \"Rojo\", \"Porcentaje\": 43.1}, {\"Fecha\": \"2020-04-20\", \"Sector\": \"Rojo\", \"Porcentaje\": 42.8}, {\"Fecha\": \"2020-04-21\", \"Sector\": \"Rojo\", \"Porcentaje\": 45.4}, {\"Fecha\": \"2020-04-22\", \"Sector\": \"Rojo\", \"Porcentaje\": 45.6}, {\"Fecha\": \"2020-04-23\", \"Sector\": \"Rojo\", \"Porcentaje\": 47.5}, {\"Fecha\": \"2020-04-24\", \"Sector\": \"Rojo\", \"Porcentaje\": 49.0}, {\"Fecha\": \"2020-04-25\", \"Sector\": \"Rojo\", \"Porcentaje\": 48.5}, {\"Fecha\": \"2020-04-26\", \"Sector\": \"Rojo\", \"Porcentaje\": 47.7}, {\"Fecha\": \"2020-04-27\", \"Sector\": \"Rojo\", \"Porcentaje\": 47.6}, {\"Fecha\": \"2020-04-28\", \"Sector\": \"Rojo\", \"Porcentaje\": 50.7}, {\"Fecha\": \"2020-04-29\", \"Sector\": \"Rojo\", \"Porcentaje\": 54.2}, {\"Fecha\": \"2020-04-30\", \"Sector\": \"Rojo\", \"Porcentaje\": 57.1}, {\"Fecha\": \"2020-05-01\", \"Sector\": \"Rojo\", \"Porcentaje\": 60.4}, {\"Fecha\": \"2020-05-02\", \"Sector\": \"Rojo\", \"Porcentaje\": 58.4}, {\"Fecha\": \"2020-05-03\", \"Sector\": \"Rojo\", \"Porcentaje\": 56.5}, {\"Fecha\": \"2020-05-04\", \"Sector\": \"Rojo\", \"Porcentaje\": 54.2}, {\"Fecha\": \"2020-05-05\", \"Sector\": \"Rojo\", \"Porcentaje\": 52.7}, {\"Fecha\": \"2020-05-06\", \"Sector\": \"Rojo\", \"Porcentaje\": 50.9}, {\"Fecha\": \"2020-05-07\", \"Sector\": \"Rojo\", \"Porcentaje\": 49.1}, {\"Fecha\": \"2020-05-08\", \"Sector\": \"Rojo\", \"Porcentaje\": 47.3}, {\"Fecha\": \"2020-05-09\", \"Sector\": \"Rojo\", \"Porcentaje\": 46.6}, {\"Fecha\": \"2020-05-10\", \"Sector\": \"Rojo\", \"Porcentaje\": 45.8}, {\"Fecha\": \"2020-05-11\", \"Sector\": \"Rojo\", \"Porcentaje\": 45.0}, {\"Fecha\": \"2020-05-12\", \"Sector\": \"Rojo\", \"Porcentaje\": 43.9}, {\"Fecha\": \"2020-05-13\", \"Sector\": \"Rojo\", \"Porcentaje\": 43.0}, {\"Fecha\": \"2020-05-14\", \"Sector\": \"Rojo\", \"Porcentaje\": 42.1}, {\"Fecha\": \"2020-05-15\", \"Sector\": \"Rojo\", \"Porcentaje\": 41.1}, {\"Fecha\": \"2020-05-16\", \"Sector\": \"Rojo\", \"Porcentaje\": 38.6}, {\"Fecha\": \"2020-05-17\", \"Sector\": \"Rojo\", \"Porcentaje\": 36.1}, {\"Fecha\": \"2020-05-18\", \"Sector\": \"Rojo\", \"Porcentaje\": 33.5}, {\"Fecha\": \"2020-05-19\", \"Sector\": \"Rojo\", \"Porcentaje\": 36.2}, {\"Fecha\": \"2020-05-20\", \"Sector\": \"Rojo\", \"Porcentaje\": 38.9}, {\"Fecha\": \"2020-05-21\", \"Sector\": \"Rojo\", \"Porcentaje\": 41.6}, {\"Fecha\": \"2020-05-22\", \"Sector\": \"Rojo\", \"Porcentaje\": 44.3}, {\"Fecha\": \"2020-05-23\", \"Sector\": \"Rojo\", \"Porcentaje\": 43.4}, {\"Fecha\": \"2020-05-24\", \"Sector\": \"Rojo\", \"Porcentaje\": 42.6}, {\"Fecha\": \"2020-05-25\", \"Sector\": \"Rojo\", \"Porcentaje\": 41.7}, {\"Fecha\": \"2020-05-26\", \"Sector\": \"Rojo\", \"Porcentaje\": 42.8}, {\"Fecha\": \"2020-05-27\", \"Sector\": \"Rojo\", \"Porcentaje\": 44.0}, {\"Fecha\": \"2020-05-28\", \"Sector\": \"Rojo\", \"Porcentaje\": 45.1}, {\"Fecha\": \"2020-05-29\", \"Sector\": \"Rojo\", \"Porcentaje\": 46.2}, {\"Fecha\": \"2020-05-30\", \"Sector\": \"Rojo\", \"Porcentaje\": 46.1}, {\"Fecha\": \"2020-05-31\", \"Sector\": \"Rojo\", \"Porcentaje\": 46.0}, {\"Fecha\": \"2020-06-01\", \"Sector\": \"Rojo\", \"Porcentaje\": 45.8}, {\"Fecha\": \"2020-06-02\", \"Sector\": \"Rojo\", \"Porcentaje\": 46.1}, {\"Fecha\": \"2020-06-03\", \"Sector\": \"Rojo\", \"Porcentaje\": 46.2}, {\"Fecha\": \"2020-06-04\", \"Sector\": \"Rojo\", \"Porcentaje\": 46.5}, {\"Fecha\": \"2020-06-05\", \"Sector\": \"Rojo\", \"Porcentaje\": 46.8}, {\"Fecha\": \"2020-06-06\", \"Sector\": \"Rojo\", \"Porcentaje\": 46.7}, {\"Fecha\": \"2020-06-07\", \"Sector\": \"Rojo\", \"Porcentaje\": 46.7}, {\"Fecha\": \"2020-06-08\", \"Sector\": \"Rojo\", \"Porcentaje\": 46.7}, {\"Fecha\": \"2020-04-01\", \"Sector\": \"Azul\", \"Porcentaje\": 41.7}, {\"Fecha\": \"2020-04-02\", \"Sector\": \"Azul\", \"Porcentaje\": 39.3}, {\"Fecha\": \"2020-04-03\", \"Sector\": \"Azul\", \"Porcentaje\": 39.8}, {\"Fecha\": \"2020-04-04\", \"Sector\": \"Azul\", \"Porcentaje\": 38.7}, {\"Fecha\": \"2020-04-05\", \"Sector\": \"Azul\", \"Porcentaje\": 36.8}, {\"Fecha\": \"2020-04-06\", \"Sector\": \"Azul\", \"Porcentaje\": 37.1}, {\"Fecha\": \"2020-04-07\", \"Sector\": \"Azul\", \"Porcentaje\": 38.8}, {\"Fecha\": \"2020-04-08\", \"Sector\": \"Azul\", \"Porcentaje\": 40.7}, {\"Fecha\": \"2020-04-09\", \"Sector\": \"Azul\", \"Porcentaje\": 43.6}, {\"Fecha\": \"2020-04-10\", \"Sector\": \"Azul\", \"Porcentaje\": 46.0}, {\"Fecha\": \"2020-04-11\", \"Sector\": \"Azul\", \"Porcentaje\": 46.8}, {\"Fecha\": \"2020-04-12\", \"Sector\": \"Azul\", \"Porcentaje\": 50.4}, {\"Fecha\": \"2020-04-13\", \"Sector\": \"Azul\", \"Porcentaje\": 51.8}, {\"Fecha\": \"2020-04-14\", \"Sector\": \"Azul\", \"Porcentaje\": 46.8}, {\"Fecha\": \"2020-04-15\", \"Sector\": \"Azul\", \"Porcentaje\": 43.8}, {\"Fecha\": \"2020-04-16\", \"Sector\": \"Azul\", \"Porcentaje\": 44.8}, {\"Fecha\": \"2020-04-17\", \"Sector\": \"Azul\", \"Porcentaje\": 45.2}, {\"Fecha\": \"2020-04-18\", \"Sector\": \"Azul\", \"Porcentaje\": 46.4}, {\"Fecha\": \"2020-04-19\", \"Sector\": \"Azul\", \"Porcentaje\": 46.9}, {\"Fecha\": \"2020-04-20\", \"Sector\": \"Azul\", \"Porcentaje\": 48.0}, {\"Fecha\": \"2020-04-21\", \"Sector\": \"Azul\", \"Porcentaje\": 46.2}, {\"Fecha\": \"2020-04-22\", \"Sector\": \"Azul\", \"Porcentaje\": 46.4}, {\"Fecha\": \"2020-04-23\", \"Sector\": \"Azul\", \"Porcentaje\": 45.0}, {\"Fecha\": \"2020-04-24\", \"Sector\": \"Azul\", \"Porcentaje\": 44.3}, {\"Fecha\": \"2020-04-25\", \"Sector\": \"Azul\", \"Porcentaje\": 44.2}, {\"Fecha\": \"2020-04-26\", \"Sector\": \"Azul\", \"Porcentaje\": 44.7}, {\"Fecha\": \"2020-04-27\", \"Sector\": \"Azul\", \"Porcentaje\": 45.1}, {\"Fecha\": \"2020-04-28\", \"Sector\": \"Azul\", \"Porcentaje\": 41.8}, {\"Fecha\": \"2020-04-29\", \"Sector\": \"Azul\", \"Porcentaje\": 38.4}, {\"Fecha\": \"2020-04-30\", \"Sector\": \"Azul\", \"Porcentaje\": 35.1}, {\"Fecha\": \"2020-05-01\", \"Sector\": \"Azul\", \"Porcentaje\": 31.8}, {\"Fecha\": \"2020-05-02\", \"Sector\": \"Azul\", \"Porcentaje\": 34.0}, {\"Fecha\": \"2020-05-03\", \"Sector\": \"Azul\", \"Porcentaje\": 36.3}, {\"Fecha\": \"2020-05-04\", \"Sector\": \"Azul\", \"Porcentaje\": 38.8}, {\"Fecha\": \"2020-05-05\", \"Sector\": \"Azul\", \"Porcentaje\": 39.3}, {\"Fecha\": \"2020-05-06\", \"Sector\": \"Azul\", \"Porcentaje\": 40.1}, {\"Fecha\": \"2020-05-07\", \"Sector\": \"Azul\", \"Porcentaje\": 40.9}, {\"Fecha\": \"2020-05-08\", \"Sector\": \"Azul\", \"Porcentaje\": 41.6}, {\"Fecha\": \"2020-05-09\", \"Sector\": \"Azul\", \"Porcentaje\": 42.8}, {\"Fecha\": \"2020-05-10\", \"Sector\": \"Azul\", \"Porcentaje\": 43.8}, {\"Fecha\": \"2020-05-11\", \"Sector\": \"Azul\", \"Porcentaje\": 44.8}, {\"Fecha\": \"2020-05-12\", \"Sector\": \"Azul\", \"Porcentaje\": 45.8}, {\"Fecha\": \"2020-05-13\", \"Sector\": \"Azul\", \"Porcentaje\": 46.8}, {\"Fecha\": \"2020-05-14\", \"Sector\": \"Azul\", \"Porcentaje\": 47.8}, {\"Fecha\": \"2020-05-15\", \"Sector\": \"Azul\", \"Porcentaje\": 48.8}, {\"Fecha\": \"2020-05-16\", \"Sector\": \"Azul\", \"Porcentaje\": 51.9}, {\"Fecha\": \"2020-05-17\", \"Sector\": \"Azul\", \"Porcentaje\": 54.9}, {\"Fecha\": \"2020-05-18\", \"Sector\": \"Azul\", \"Porcentaje\": 58.0}, {\"Fecha\": \"2020-05-19\", \"Sector\": \"Azul\", \"Porcentaje\": 55.1}, {\"Fecha\": \"2020-05-20\", \"Sector\": \"Azul\", \"Porcentaje\": 52.2}, {\"Fecha\": \"2020-05-21\", \"Sector\": \"Azul\", \"Porcentaje\": 49.3}, {\"Fecha\": \"2020-05-22\", \"Sector\": \"Azul\", \"Porcentaje\": 46.4}, {\"Fecha\": \"2020-05-23\", \"Sector\": \"Azul\", \"Porcentaje\": 46.9}, {\"Fecha\": \"2020-05-24\", \"Sector\": \"Azul\", \"Porcentaje\": 47.4}, {\"Fecha\": \"2020-05-25\", \"Sector\": \"Azul\", \"Porcentaje\": 47.8}, {\"Fecha\": \"2020-05-26\", \"Sector\": \"Azul\", \"Porcentaje\": 46.7}, {\"Fecha\": \"2020-05-27\", \"Sector\": \"Azul\", \"Porcentaje\": 45.6}, {\"Fecha\": \"2020-05-28\", \"Sector\": \"Azul\", \"Porcentaje\": 44.5}, {\"Fecha\": \"2020-05-29\", \"Sector\": \"Azul\", \"Porcentaje\": 43.4}, {\"Fecha\": \"2020-05-30\", \"Sector\": \"Azul\", \"Porcentaje\": 44.1}, {\"Fecha\": \"2020-05-31\", \"Sector\": \"Azul\", \"Porcentaje\": 44.8}, {\"Fecha\": \"2020-06-01\", \"Sector\": \"Azul\", \"Porcentaje\": 45.6}, {\"Fecha\": \"2020-06-02\", \"Sector\": \"Azul\", \"Porcentaje\": 45.2}, {\"Fecha\": \"2020-06-03\", \"Sector\": \"Azul\", \"Porcentaje\": 44.8}, {\"Fecha\": \"2020-06-04\", \"Sector\": \"Azul\", \"Porcentaje\": 44.3}, {\"Fecha\": \"2020-06-05\", \"Sector\": \"Azul\", \"Porcentaje\": 43.8}, {\"Fecha\": \"2020-06-06\", \"Sector\": \"Azul\", \"Porcentaje\": 43.8}, {\"Fecha\": \"2020-06-07\", \"Sector\": \"Azul\", \"Porcentaje\": 43.8}, {\"Fecha\": \"2020-06-08\", \"Sector\": \"Azul\", \"Porcentaje\": 43.8}]}}, {\"mode\": \"vega-lite\"});\n",
       "</script>"
      ],
      "text/plain": [
       "alt.VConcatChart(...)"
      ]
     },
     "execution_count": 28,
     "metadata": {},
     "output_type": "execute_result"
    }
   ],
   "source": [
    "#hide_input\n",
    "\n",
    "domain = [\"Azul\", \"Rojo\", \"Verde\"]\n",
    "range_ = [\"blue\", \"red\", \"green\"]\n",
    "\n",
    "chart1 = alt.Chart(data).mark_area().encode(\n",
    "    x=alt.X(\"Fecha\", axis=alt.Axis(title=\"\", domain=False)),\n",
    "    y=alt.Y(\"Casos confirmados\", axis=None, stack=\"center\"),\n",
    "    tooltip = [\"Fecha\", \"Casos confirmados\"],\n",
    "    color = alt.Color(\"Sector\", scale=alt.Scale(domain=domain, range=range_)),\n",
    ").properties(\n",
    "    title=\"Nuevos casos confirmados en la R.M. por zona socioeconómica\",\n",
    "    width=700)\n",
    "\n",
    "chart2 = alt.Chart(data_percentage).mark_bar().encode(\n",
    "    x=alt.X(\"Fecha\", axis=alt.Axis(title=\"\", domain=False, ticks=False, labels=False)),\n",
    "    y=alt.Y(\"Porcentaje\", axis=alt.Axis(title=\"\", format='%'), stack=\"normalize\"),\n",
    "    tooltip = [\"Fecha\", \"Porcentaje\"],\n",
    "    color = alt.Color(\"Sector\"),\n",
    ").properties(\n",
    "    height = 100,\n",
    "    width=700\n",
    ")\n",
    "\n",
    "alt.vconcat(\n",
    "    chart1,\n",
    "    chart2\n",
    ").configure_concat(\n",
    "    spacing=0\n",
    ")"
   ]
  },
  {
   "cell_type": "markdown",
   "metadata": {},
   "source": [
    "Fuentes: [Ministerio de Ciencia](https://github.com/MinCiencia/Datos-COVID19), [Ministerio de Salud](https://www.minsal.cl/)"
   ]
  },
  {
   "cell_type": "code",
   "execution_count": 29,
   "metadata": {},
   "outputs": [],
   "source": [
    "#hide\n",
    "county_cumulative_cases = pd.read_csv(\n",
    "    \"https://raw.githubusercontent.com/MinCiencia/Datos-COVID19/master/output/producto1/Covid-19.csv\")"
   ]
  },
  {
   "cell_type": "code",
   "execution_count": 30,
   "metadata": {},
   "outputs": [],
   "source": [
    "#hide\n",
    "county_cumulative_cases_RM = county_cumulative_cases.query(\"Region=='Metropolitana'\").drop(\n",
    "    columns=[\"Region\", \"Codigo region\", \"Poblacion\", \"Tasa\", \"Codigo comuna\"])"
   ]
  },
  {
   "cell_type": "code",
   "execution_count": 31,
   "metadata": {},
   "outputs": [],
   "source": [
    "#hide\n",
    "county_cases_RM = county_cumulative_cases_RM.set_index(\"Comuna\").T.diff().dropna()"
   ]
  },
  {
   "cell_type": "code",
   "execution_count": 32,
   "metadata": {},
   "outputs": [],
   "source": [
    "#hide\n",
    "county_cases_RM[\"Total\"] = county_cases_RM.sum(axis=1)\n",
    "county_cases_RM = county_cases_RM.T.apply(lambda x: x/x[-1]).T"
   ]
  },
  {
   "cell_type": "code",
   "execution_count": 33,
   "metadata": {},
   "outputs": [],
   "source": [
    "#hide\n",
    "start_date = county_cases_RM.reset_index()[\"index\"].iloc[0]\n",
    "end_date = county_cases_RM.reset_index()[\"index\"].iloc[-1]\n",
    "\n",
    "data = pd.DataFrame()\n",
    "data['Fecha'] = pd.date_range(start=start_date, end=end_date).strftime('%Y-%m-%d')\n",
    "data = data.set_index(\"Fecha\")"
   ]
  },
  {
   "cell_type": "code",
   "execution_count": 34,
   "metadata": {},
   "outputs": [],
   "source": [
    "#hide\n",
    "data[list(county_cases_RM.columns)] = county_cases_RM[list(county_cases_RM.columns)]"
   ]
  },
  {
   "cell_type": "code",
   "execution_count": 35,
   "metadata": {
    "scrolled": false
   },
   "outputs": [],
   "source": [
    "#hide\n",
    "data = data.interpolate(method=\"linear\")"
   ]
  },
  {
   "cell_type": "code",
   "execution_count": 36,
   "metadata": {},
   "outputs": [],
   "source": [
    "#hide\n",
    "last_known_proportion = data.iloc[-1]"
   ]
  },
  {
   "cell_type": "code",
   "execution_count": 37,
   "metadata": {},
   "outputs": [],
   "source": [
    "#hide\n",
    "regional_cumulative_cases = pd.read_csv(\n",
    "    'https://raw.githubusercontent.com/MinCiencia/Datos-COVID19/master/output/producto3/CasosTotalesCumulativo.csv')"
   ]
  },
  {
   "cell_type": "code",
   "execution_count": 38,
   "metadata": {},
   "outputs": [],
   "source": [
    "#hide\n",
    "regional_cumulative_cases_RM = regional_cumulative_cases.query(\"Region=='Metropolitana'\").iloc[-1].drop(\"Region\")\n",
    "regional_cases_RM = regional_cumulative_cases_RM.diff().dropna()"
   ]
  },
  {
   "cell_type": "code",
   "execution_count": 39,
   "metadata": {},
   "outputs": [
    {
     "data": {
      "text/plain": [
       "'2020-06-05'"
      ]
     },
     "execution_count": 39,
     "metadata": {},
     "output_type": "execute_result"
    }
   ],
   "source": [
    "#hide\n",
    "last_known_date = county_cases_RM.index[-1]\n",
    "last_known_date"
   ]
  },
  {
   "cell_type": "code",
   "execution_count": 40,
   "metadata": {},
   "outputs": [],
   "source": [
    "#hide\n",
    "n_missing_days = (pd.to_datetime(regional_cases_RM.index[-1])-pd.to_datetime(data.index[-1])).days"
   ]
  },
  {
   "cell_type": "code",
   "execution_count": 41,
   "metadata": {},
   "outputs": [],
   "source": [
    "#hide\n",
    "data = data.T"
   ]
  },
  {
   "cell_type": "code",
   "execution_count": 42,
   "metadata": {},
   "outputs": [
    {
     "name": "stdout",
     "output_type": "stream",
     "text": [
      "2020-06-06\n",
      "2020-06-07\n",
      "2020-06-08\n"
     ]
    }
   ],
   "source": [
    "#hide\n",
    "for i in np.arange(n_missing_days):\n",
    "    idx = (pd.to_datetime(last_known_date)+pd.DateOffset(1+i)).strftime(\"%Y-%m-%d\")\n",
    "    print(idx)\n",
    "    data[idx] = last_known_proportion"
   ]
  },
  {
   "cell_type": "code",
   "execution_count": 43,
   "metadata": {},
   "outputs": [],
   "source": [
    "#hide\n",
    "data = data.T"
   ]
  },
  {
   "cell_type": "code",
   "execution_count": 44,
   "metadata": {},
   "outputs": [],
   "source": [
    "#hide\n",
    "data[\"Regional\"] = regional_cases_RM"
   ]
  },
  {
   "cell_type": "code",
   "execution_count": 45,
   "metadata": {
    "scrolled": true
   },
   "outputs": [],
   "source": [
    "#hide\n",
    "data = data.T.apply(lambda x: x[:-1]*x[-1]).T.astype(int)"
   ]
  },
  {
   "cell_type": "code",
   "execution_count": 46,
   "metadata": {},
   "outputs": [],
   "source": [
    "#hide\n",
    "list_nororiente = ['La Reina', 'Las Condes', 'Lo Barnechea', 'Nunoa',  'Providencia', 'Vitacura'] #\n",
    "list_suroriente = [\"Macul\", \"La Florida\", 'Penalolen', \"Puente Alto\"] #\n",
    "list_norponiente = ['Cerro Navia', 'Lo Prado', 'Pudahuel', 'Quinta Normal', 'Renca'] #\n",
    "list_surponiente = ['Estacion Central', 'Maipu', 'Cerrillos', 'Padre Hurtado', 'Penaflor'] #\n",
    "list_norte = ['Conchali', 'Huechuraba', 'Independencia', 'Recoleta', 'Quilicura'] #\n",
    "list_centro = ['Santiago'] #\n",
    "list_sur = ['Pedro Aguirre Cerda', 'San Miguel', 'San Joaquin', 'Lo Espejo', 'La Cisterna', \\\n",
    "           'La Granja', 'San Ramon', 'El Bosque', 'San Bernardo', 'La Pintana'] #"
   ]
  },
  {
   "cell_type": "code",
   "execution_count": 47,
   "metadata": {},
   "outputs": [],
   "source": [
    "#hide\n",
    "cases_nororiente = data[list_nororiente]\n",
    "cases_suroriente = data[list_suroriente]\n",
    "cases_norponiente = data[list_norponiente]\n",
    "cases_surponiente = data[list_surponiente]\n",
    "cases_norte = data[list_norte]\n",
    "cases_centro = data[list_centro]\n",
    "cases_sur = data[list_sur]"
   ]
  },
  {
   "cell_type": "code",
   "execution_count": 48,
   "metadata": {
    "scrolled": true
   },
   "outputs": [],
   "source": [
    "#hide\n",
    "data = pd.DataFrame()\n",
    "data[\"7. Nororiente\"] = cases_nororiente.sum(axis=1).rolling(window=7).mean()\n",
    "data[\"6. Suroriente\"] = cases_suroriente.sum(axis=1).rolling(window=7).mean()\n",
    "data[\"5. Norte\"] = cases_norte.sum(axis=1).rolling(window=7).mean()\n",
    "data[\"4. Centro\"] = cases_centro.sum(axis=1).rolling(window=7).mean()\n",
    "data[\"3. Sur\"] = cases_sur.sum(axis=1).rolling(window=7).mean()\n",
    "data[\"2. Norponiente\"] = cases_norponiente.sum(axis=1).rolling(window=7).mean()\n",
    "data[\"1. Surponiente\"] = cases_surponiente.sum(axis=1).rolling(window=7).mean()"
   ]
  },
  {
   "cell_type": "code",
   "execution_count": 49,
   "metadata": {},
   "outputs": [],
   "source": [
    "#hide\n",
    "data = data.reset_index()"
   ]
  },
  {
   "cell_type": "code",
   "execution_count": 50,
   "metadata": {},
   "outputs": [],
   "source": [
    "#hide\n",
    "data = data.melt(\"Fecha\", var_name=\"Sector\", value_name=\"Casos confirmados\")"
   ]
  },
  {
   "cell_type": "code",
   "execution_count": 51,
   "metadata": {},
   "outputs": [
    {
     "data": {
      "text/html": [
       "\n",
       "<div id=\"altair-viz-0190e3b79e76416fafc5836f502b54dc\"></div>\n",
       "<script type=\"text/javascript\">\n",
       "  (function(spec, embedOpt){\n",
       "    let outputDiv = document.currentScript.previousElementSibling;\n",
       "    if (outputDiv.id !== \"altair-viz-0190e3b79e76416fafc5836f502b54dc\") {\n",
       "      outputDiv = document.getElementById(\"altair-viz-0190e3b79e76416fafc5836f502b54dc\");\n",
       "    }\n",
       "    const paths = {\n",
       "      \"vega\": \"https://cdn.jsdelivr.net/npm//vega@5?noext\",\n",
       "      \"vega-lib\": \"https://cdn.jsdelivr.net/npm//vega-lib?noext\",\n",
       "      \"vega-lite\": \"https://cdn.jsdelivr.net/npm//vega-lite@4.8.1?noext\",\n",
       "      \"vega-embed\": \"https://cdn.jsdelivr.net/npm//vega-embed@6?noext\",\n",
       "    };\n",
       "\n",
       "    function loadScript(lib) {\n",
       "      return new Promise(function(resolve, reject) {\n",
       "        var s = document.createElement('script');\n",
       "        s.src = paths[lib];\n",
       "        s.async = true;\n",
       "        s.onload = () => resolve(paths[lib]);\n",
       "        s.onerror = () => reject(`Error loading script: ${paths[lib]}`);\n",
       "        document.getElementsByTagName(\"head\")[0].appendChild(s);\n",
       "      });\n",
       "    }\n",
       "\n",
       "    function showError(err) {\n",
       "      outputDiv.innerHTML = `<div class=\"error\" style=\"color:red;\">${err}</div>`;\n",
       "      throw err;\n",
       "    }\n",
       "\n",
       "    function displayChart(vegaEmbed) {\n",
       "      vegaEmbed(outputDiv, spec, embedOpt)\n",
       "        .catch(err => showError(`Javascript Error: ${err.message}<br>This usually means there's a typo in your chart specification. See the javascript console for the full traceback.`));\n",
       "    }\n",
       "\n",
       "    if(typeof define === \"function\" && define.amd) {\n",
       "      requirejs.config({paths});\n",
       "      require([\"vega-embed\"], displayChart, err => showError(`Error loading script: ${err.message}`));\n",
       "    } else if (typeof vegaEmbed === \"function\") {\n",
       "      displayChart(vegaEmbed);\n",
       "    } else {\n",
       "      loadScript(\"vega\")\n",
       "        .then(() => loadScript(\"vega-lite\"))\n",
       "        .then(() => loadScript(\"vega-embed\"))\n",
       "        .catch(showError)\n",
       "        .then(() => displayChart(vegaEmbed));\n",
       "    }\n",
       "  })({\"config\": {\"view\": {\"continuousWidth\": 400, \"continuousHeight\": 300}, \"concat\": {\"spacing\": 0}}, \"vconcat\": [{\"mark\": \"area\", \"encoding\": {\"color\": {\"type\": \"nominal\", \"field\": \"Sector\"}, \"tooltip\": [{\"type\": \"nominal\", \"field\": \"Fecha\"}, {\"type\": \"quantitative\", \"field\": \"Casos confirmados\"}], \"x\": {\"type\": \"nominal\", \"axis\": {\"domain\": false, \"title\": \"\"}, \"field\": \"Fecha\"}, \"y\": {\"type\": \"quantitative\", \"axis\": null, \"field\": \"Casos confirmados\", \"stack\": \"center\"}}, \"title\": \"Nuevos casos confirmados en la R.M. por zona geogr\\u00e1fica (promedio m\\u00f3vil 7 d\\u00edas)\", \"width\": 700}, {\"mark\": \"bar\", \"encoding\": {\"color\": {\"type\": \"nominal\", \"field\": \"Sector\"}, \"tooltip\": [{\"type\": \"nominal\", \"field\": \"Fecha\"}, {\"type\": \"quantitative\", \"field\": \"Casos confirmados\"}], \"x\": {\"type\": \"nominal\", \"axis\": {\"domain\": false, \"labels\": false, \"ticks\": false, \"title\": \"\"}, \"field\": \"Fecha\"}, \"y\": {\"type\": \"quantitative\", \"axis\": {\"format\": \"%\", \"title\": \"\"}, \"field\": \"Casos confirmados\", \"stack\": \"normalize\"}}, \"height\": 100, \"width\": 700}], \"data\": {\"name\": \"data-62eac55a361e696dc043ddd11ba7c0c9\"}, \"$schema\": \"https://vega.github.io/schema/vega-lite/v4.8.1.json\", \"datasets\": {\"data-62eac55a361e696dc043ddd11ba7c0c9\": [{\"Fecha\": \"2020-04-01\", \"Sector\": \"7. Nororiente\", \"Casos confirmados\": null}, {\"Fecha\": \"2020-04-02\", \"Sector\": \"7. Nororiente\", \"Casos confirmados\": null}, {\"Fecha\": \"2020-04-03\", \"Sector\": \"7. Nororiente\", \"Casos confirmados\": null}, {\"Fecha\": \"2020-04-04\", \"Sector\": \"7. Nororiente\", \"Casos confirmados\": null}, {\"Fecha\": \"2020-04-05\", \"Sector\": \"7. Nororiente\", \"Casos confirmados\": null}, {\"Fecha\": \"2020-04-06\", \"Sector\": \"7. Nororiente\", \"Casos confirmados\": null}, {\"Fecha\": \"2020-04-07\", \"Sector\": \"7. Nororiente\", \"Casos confirmados\": 23.857142857142858}, {\"Fecha\": \"2020-04-08\", \"Sector\": \"7. Nororiente\", \"Casos confirmados\": 24.571428571428573}, {\"Fecha\": \"2020-04-09\", \"Sector\": \"7. Nororiente\", \"Casos confirmados\": 26.428571428571427}, {\"Fecha\": \"2020-04-10\", \"Sector\": \"7. Nororiente\", \"Casos confirmados\": 29.714285714285715}, {\"Fecha\": \"2020-04-11\", \"Sector\": \"7. Nororiente\", \"Casos confirmados\": 27.857142857142858}, {\"Fecha\": \"2020-04-12\", \"Sector\": \"7. Nororiente\", \"Casos confirmados\": 26.0}, {\"Fecha\": \"2020-04-13\", \"Sector\": \"7. Nororiente\", \"Casos confirmados\": 24.428571428571427}, {\"Fecha\": \"2020-04-14\", \"Sector\": \"7. Nororiente\", \"Casos confirmados\": 26.285714285714285}, {\"Fecha\": \"2020-04-15\", \"Sector\": \"7. Nororiente\", \"Casos confirmados\": 26.428571428571427}, {\"Fecha\": \"2020-04-16\", \"Sector\": \"7. Nororiente\", \"Casos confirmados\": 26.857142857142858}, {\"Fecha\": \"2020-04-17\", \"Sector\": \"7. Nororiente\", \"Casos confirmados\": 24.285714285714285}, {\"Fecha\": \"2020-04-18\", \"Sector\": \"7. Nororiente\", \"Casos confirmados\": 24.142857142857142}, {\"Fecha\": \"2020-04-19\", \"Sector\": \"7. Nororiente\", \"Casos confirmados\": 24.714285714285715}, {\"Fecha\": \"2020-04-20\", \"Sector\": \"7. Nororiente\", \"Casos confirmados\": 25.714285714285715}, {\"Fecha\": \"2020-04-21\", \"Sector\": \"7. Nororiente\", \"Casos confirmados\": 23.285714285714285}, {\"Fecha\": \"2020-04-22\", \"Sector\": \"7. Nororiente\", \"Casos confirmados\": 22.571428571428573}, {\"Fecha\": \"2020-04-23\", \"Sector\": \"7. Nororiente\", \"Casos confirmados\": 20.571428571428573}, {\"Fecha\": \"2020-04-24\", \"Sector\": \"7. Nororiente\", \"Casos confirmados\": 19.857142857142858}, {\"Fecha\": \"2020-04-25\", \"Sector\": \"7. Nororiente\", \"Casos confirmados\": 19.857142857142858}, {\"Fecha\": \"2020-04-26\", \"Sector\": \"7. Nororiente\", \"Casos confirmados\": 20.857142857142858}, {\"Fecha\": \"2020-04-27\", \"Sector\": \"7. Nororiente\", \"Casos confirmados\": 21.285714285714285}, {\"Fecha\": \"2020-04-28\", \"Sector\": \"7. Nororiente\", \"Casos confirmados\": 24.142857142857142}, {\"Fecha\": \"2020-04-29\", \"Sector\": \"7. Nororiente\", \"Casos confirmados\": 26.857142857142858}, {\"Fecha\": \"2020-04-30\", \"Sector\": \"7. Nororiente\", \"Casos confirmados\": 31.0}, {\"Fecha\": \"2020-05-01\", \"Sector\": \"7. Nororiente\", \"Casos confirmados\": 37.285714285714285}, {\"Fecha\": \"2020-05-02\", \"Sector\": \"7. Nororiente\", \"Casos confirmados\": 45.0}, {\"Fecha\": \"2020-05-03\", \"Sector\": \"7. Nororiente\", \"Casos confirmados\": 51.285714285714285}, {\"Fecha\": \"2020-05-04\", \"Sector\": \"7. Nororiente\", \"Casos confirmados\": 56.0}, {\"Fecha\": \"2020-05-05\", \"Sector\": \"7. Nororiente\", \"Casos confirmados\": 64.42857142857143}, {\"Fecha\": \"2020-05-06\", \"Sector\": \"7. Nororiente\", \"Casos confirmados\": 69.14285714285714}, {\"Fecha\": \"2020-05-07\", \"Sector\": \"7. Nororiente\", \"Casos confirmados\": 78.28571428571429}, {\"Fecha\": \"2020-05-08\", \"Sector\": \"7. Nororiente\", \"Casos confirmados\": 86.14285714285714}, {\"Fecha\": \"2020-05-09\", \"Sector\": \"7. Nororiente\", \"Casos confirmados\": 88.28571428571429}, {\"Fecha\": \"2020-05-10\", \"Sector\": \"7. Nororiente\", \"Casos confirmados\": 98.0}, {\"Fecha\": \"2020-05-11\", \"Sector\": \"7. Nororiente\", \"Casos confirmados\": 102.71428571428571}, {\"Fecha\": \"2020-05-12\", \"Sector\": \"7. Nororiente\", \"Casos confirmados\": 108.85714285714286}, {\"Fecha\": \"2020-05-13\", \"Sector\": \"7. Nororiente\", \"Casos confirmados\": 129.0}, {\"Fecha\": \"2020-05-14\", \"Sector\": \"7. Nororiente\", \"Casos confirmados\": 142.57142857142858}, {\"Fecha\": \"2020-05-15\", \"Sector\": \"7. Nororiente\", \"Casos confirmados\": 153.14285714285714}, {\"Fecha\": \"2020-05-16\", \"Sector\": \"7. Nororiente\", \"Casos confirmados\": 158.57142857142858}, {\"Fecha\": \"2020-05-17\", \"Sector\": \"7. Nororiente\", \"Casos confirmados\": 162.0}, {\"Fecha\": \"2020-05-18\", \"Sector\": \"7. Nororiente\", \"Casos confirmados\": 169.42857142857142}, {\"Fecha\": \"2020-05-19\", \"Sector\": \"7. Nororiente\", \"Casos confirmados\": 187.14285714285714}, {\"Fecha\": \"2020-05-20\", \"Sector\": \"7. Nororiente\", \"Casos confirmados\": 199.14285714285714}, {\"Fecha\": \"2020-05-21\", \"Sector\": \"7. Nororiente\", \"Casos confirmados\": 210.71428571428572}, {\"Fecha\": \"2020-05-22\", \"Sector\": \"7. Nororiente\", \"Casos confirmados\": 228.85714285714286}, {\"Fecha\": \"2020-05-23\", \"Sector\": \"7. Nororiente\", \"Casos confirmados\": 248.57142857142858}, {\"Fecha\": \"2020-05-24\", \"Sector\": \"7. Nororiente\", \"Casos confirmados\": 267.42857142857144}, {\"Fecha\": \"2020-05-25\", \"Sector\": \"7. Nororiente\", \"Casos confirmados\": 307.42857142857144}, {\"Fecha\": \"2020-05-26\", \"Sector\": \"7. Nororiente\", \"Casos confirmados\": 316.85714285714283}, {\"Fecha\": \"2020-05-27\", \"Sector\": \"7. Nororiente\", \"Casos confirmados\": 325.2857142857143}, {\"Fecha\": \"2020-05-28\", \"Sector\": \"7. Nororiente\", \"Casos confirmados\": 337.0}, {\"Fecha\": \"2020-05-29\", \"Sector\": \"7. Nororiente\", \"Casos confirmados\": 332.42857142857144}, {\"Fecha\": \"2020-05-30\", \"Sector\": \"7. Nororiente\", \"Casos confirmados\": 336.57142857142856}, {\"Fecha\": \"2020-05-31\", \"Sector\": \"7. Nororiente\", \"Casos confirmados\": 346.57142857142856}, {\"Fecha\": \"2020-06-01\", \"Sector\": \"7. Nororiente\", \"Casos confirmados\": 339.7142857142857}, {\"Fecha\": \"2020-06-02\", \"Sector\": \"7. Nororiente\", \"Casos confirmados\": 327.7142857142857}, {\"Fecha\": \"2020-06-03\", \"Sector\": \"7. Nororiente\", \"Casos confirmados\": 323.85714285714283}, {\"Fecha\": \"2020-06-04\", \"Sector\": \"7. Nororiente\", \"Casos confirmados\": 315.0}, {\"Fecha\": \"2020-06-05\", \"Sector\": \"7. Nororiente\", \"Casos confirmados\": 313.0}, {\"Fecha\": \"2020-06-06\", \"Sector\": \"7. Nororiente\", \"Casos confirmados\": 321.0}, {\"Fecha\": \"2020-06-07\", \"Sector\": \"7. Nororiente\", \"Casos confirmados\": 334.7142857142857}, {\"Fecha\": \"2020-06-08\", \"Sector\": \"7. Nororiente\", \"Casos confirmados\": 326.7142857142857}, {\"Fecha\": \"2020-04-01\", \"Sector\": \"6. Suroriente\", \"Casos confirmados\": null}, {\"Fecha\": \"2020-04-02\", \"Sector\": \"6. Suroriente\", \"Casos confirmados\": null}, {\"Fecha\": \"2020-04-03\", \"Sector\": \"6. Suroriente\", \"Casos confirmados\": null}, {\"Fecha\": \"2020-04-04\", \"Sector\": \"6. Suroriente\", \"Casos confirmados\": null}, {\"Fecha\": \"2020-04-05\", \"Sector\": \"6. Suroriente\", \"Casos confirmados\": null}, {\"Fecha\": \"2020-04-06\", \"Sector\": \"6. Suroriente\", \"Casos confirmados\": null}, {\"Fecha\": \"2020-04-07\", \"Sector\": \"6. Suroriente\", \"Casos confirmados\": 22.0}, {\"Fecha\": \"2020-04-08\", \"Sector\": \"6. Suroriente\", \"Casos confirmados\": 25.571428571428573}, {\"Fecha\": \"2020-04-09\", \"Sector\": \"6. Suroriente\", \"Casos confirmados\": 31.285714285714285}, {\"Fecha\": \"2020-04-10\", \"Sector\": \"6. Suroriente\", \"Casos confirmados\": 38.714285714285715}, {\"Fecha\": \"2020-04-11\", \"Sector\": \"6. Suroriente\", \"Casos confirmados\": 40.857142857142854}, {\"Fecha\": \"2020-04-12\", \"Sector\": \"6. Suroriente\", \"Casos confirmados\": 42.285714285714285}, {\"Fecha\": \"2020-04-13\", \"Sector\": \"6. Suroriente\", \"Casos confirmados\": 45.714285714285715}, {\"Fecha\": \"2020-04-14\", \"Sector\": \"6. Suroriente\", \"Casos confirmados\": 51.285714285714285}, {\"Fecha\": \"2020-04-15\", \"Sector\": \"6. Suroriente\", \"Casos confirmados\": 51.285714285714285}, {\"Fecha\": \"2020-04-16\", \"Sector\": \"6. Suroriente\", \"Casos confirmados\": 53.142857142857146}, {\"Fecha\": \"2020-04-17\", \"Sector\": \"6. Suroriente\", \"Casos confirmados\": 51.142857142857146}, {\"Fecha\": \"2020-04-18\", \"Sector\": \"6. Suroriente\", \"Casos confirmados\": 52.57142857142857}, {\"Fecha\": \"2020-04-19\", \"Sector\": \"6. Suroriente\", \"Casos confirmados\": 53.142857142857146}, {\"Fecha\": \"2020-04-20\", \"Sector\": \"6. Suroriente\", \"Casos confirmados\": 53.42857142857143}, {\"Fecha\": \"2020-04-21\", \"Sector\": \"6. Suroriente\", \"Casos confirmados\": 48.857142857142854}, {\"Fecha\": \"2020-04-22\", \"Sector\": \"6. Suroriente\", \"Casos confirmados\": 51.57142857142857}, {\"Fecha\": \"2020-04-23\", \"Sector\": \"6. Suroriente\", \"Casos confirmados\": 51.57142857142857}, {\"Fecha\": \"2020-04-24\", \"Sector\": \"6. Suroriente\", \"Casos confirmados\": 53.142857142857146}, {\"Fecha\": \"2020-04-25\", \"Sector\": \"6. Suroriente\", \"Casos confirmados\": 54.857142857142854}, {\"Fecha\": \"2020-04-26\", \"Sector\": \"6. Suroriente\", \"Casos confirmados\": 57.714285714285715}, {\"Fecha\": \"2020-04-27\", \"Sector\": \"6. Suroriente\", \"Casos confirmados\": 58.57142857142857}, {\"Fecha\": \"2020-04-28\", \"Sector\": \"6. Suroriente\", \"Casos confirmados\": 64.28571428571429}, {\"Fecha\": \"2020-04-29\", \"Sector\": \"6. Suroriente\", \"Casos confirmados\": 67.71428571428571}, {\"Fecha\": \"2020-04-30\", \"Sector\": \"6. Suroriente\", \"Casos confirmados\": 71.42857142857143}, {\"Fecha\": \"2020-05-01\", \"Sector\": \"6. Suroriente\", \"Casos confirmados\": 77.0}, {\"Fecha\": \"2020-05-02\", \"Sector\": \"6. Suroriente\", \"Casos confirmados\": 88.57142857142857}, {\"Fecha\": \"2020-05-03\", \"Sector\": \"6. Suroriente\", \"Casos confirmados\": 102.0}, {\"Fecha\": \"2020-05-04\", \"Sector\": \"6. Suroriente\", \"Casos confirmados\": 115.0}, {\"Fecha\": \"2020-05-05\", \"Sector\": \"6. Suroriente\", \"Casos confirmados\": 134.42857142857142}, {\"Fecha\": \"2020-05-06\", \"Sector\": \"6. Suroriente\", \"Casos confirmados\": 144.14285714285714}, {\"Fecha\": \"2020-05-07\", \"Sector\": \"6. Suroriente\", \"Casos confirmados\": 161.28571428571428}, {\"Fecha\": \"2020-05-08\", \"Sector\": \"6. Suroriente\", \"Casos confirmados\": 174.85714285714286}, {\"Fecha\": \"2020-05-09\", \"Sector\": \"6. Suroriente\", \"Casos confirmados\": 179.57142857142858}, {\"Fecha\": \"2020-05-10\", \"Sector\": \"6. Suroriente\", \"Casos confirmados\": 200.0}, {\"Fecha\": \"2020-05-11\", \"Sector\": \"6. Suroriente\", \"Casos confirmados\": 210.42857142857142}, {\"Fecha\": \"2020-05-12\", \"Sector\": \"6. Suroriente\", \"Casos confirmados\": 225.28571428571428}, {\"Fecha\": \"2020-05-13\", \"Sector\": \"6. Suroriente\", \"Casos confirmados\": 272.0}, {\"Fecha\": \"2020-05-14\", \"Sector\": \"6. Suroriente\", \"Casos confirmados\": 306.2857142857143}, {\"Fecha\": \"2020-05-15\", \"Sector\": \"6. Suroriente\", \"Casos confirmados\": 334.7142857142857}, {\"Fecha\": \"2020-05-16\", \"Sector\": \"6. Suroriente\", \"Casos confirmados\": 355.42857142857144}, {\"Fecha\": \"2020-05-17\", \"Sector\": \"6. Suroriente\", \"Casos confirmados\": 380.0}, {\"Fecha\": \"2020-05-18\", \"Sector\": \"6. Suroriente\", \"Casos confirmados\": 417.57142857142856}, {\"Fecha\": \"2020-05-19\", \"Sector\": \"6. Suroriente\", \"Casos confirmados\": 486.0}, {\"Fecha\": \"2020-05-20\", \"Sector\": \"6. Suroriente\", \"Casos confirmados\": 533.5714285714286}, {\"Fecha\": \"2020-05-21\", \"Sector\": \"6. Suroriente\", \"Casos confirmados\": 568.4285714285714}, {\"Fecha\": \"2020-05-22\", \"Sector\": \"6. Suroriente\", \"Casos confirmados\": 605.7142857142857}, {\"Fecha\": \"2020-05-23\", \"Sector\": \"6. Suroriente\", \"Casos confirmados\": 644.0}, {\"Fecha\": \"2020-05-24\", \"Sector\": \"6. Suroriente\", \"Casos confirmados\": 674.7142857142857}, {\"Fecha\": \"2020-05-25\", \"Sector\": \"6. Suroriente\", \"Casos confirmados\": 753.5714285714286}, {\"Fecha\": \"2020-05-26\", \"Sector\": \"6. Suroriente\", \"Casos confirmados\": 750.2857142857143}, {\"Fecha\": \"2020-05-27\", \"Sector\": \"6. Suroriente\", \"Casos confirmados\": 751.1428571428571}, {\"Fecha\": \"2020-05-28\", \"Sector\": \"6. Suroriente\", \"Casos confirmados\": 768.7142857142857}, {\"Fecha\": \"2020-05-29\", \"Sector\": \"6. Suroriente\", \"Casos confirmados\": 760.8571428571429}, {\"Fecha\": \"2020-05-30\", \"Sector\": \"6. Suroriente\", \"Casos confirmados\": 771.8571428571429}, {\"Fecha\": \"2020-05-31\", \"Sector\": \"6. Suroriente\", \"Casos confirmados\": 798.2857142857143}, {\"Fecha\": \"2020-06-01\", \"Sector\": \"6. Suroriente\", \"Casos confirmados\": 788.7142857142857}, {\"Fecha\": \"2020-06-02\", \"Sector\": \"6. Suroriente\", \"Casos confirmados\": 766.0}, {\"Fecha\": \"2020-06-03\", \"Sector\": \"6. Suroriente\", \"Casos confirmados\": 766.1428571428571}, {\"Fecha\": \"2020-06-04\", \"Sector\": \"6. Suroriente\", \"Casos confirmados\": 757.0}, {\"Fecha\": \"2020-06-05\", \"Sector\": \"6. Suroriente\", \"Casos confirmados\": 763.5714285714286}, {\"Fecha\": \"2020-06-06\", \"Sector\": \"6. Suroriente\", \"Casos confirmados\": 787.7142857142857}, {\"Fecha\": \"2020-06-07\", \"Sector\": \"6. Suroriente\", \"Casos confirmados\": 818.2857142857143}, {\"Fecha\": \"2020-06-08\", \"Sector\": \"6. Suroriente\", \"Casos confirmados\": 787.2857142857143}, {\"Fecha\": \"2020-04-01\", \"Sector\": \"5. Norte\", \"Casos confirmados\": null}, {\"Fecha\": \"2020-04-02\", \"Sector\": \"5. Norte\", \"Casos confirmados\": null}, {\"Fecha\": \"2020-04-03\", \"Sector\": \"5. Norte\", \"Casos confirmados\": null}, {\"Fecha\": \"2020-04-04\", \"Sector\": \"5. Norte\", \"Casos confirmados\": null}, {\"Fecha\": \"2020-04-05\", \"Sector\": \"5. Norte\", \"Casos confirmados\": null}, {\"Fecha\": \"2020-04-06\", \"Sector\": \"5. Norte\", \"Casos confirmados\": null}, {\"Fecha\": \"2020-04-07\", \"Sector\": \"5. Norte\", \"Casos confirmados\": 11.571428571428571}, {\"Fecha\": \"2020-04-08\", \"Sector\": \"5. Norte\", \"Casos confirmados\": 12.428571428571429}, {\"Fecha\": \"2020-04-09\", \"Sector\": \"5. Norte\", \"Casos confirmados\": 14.0}, {\"Fecha\": \"2020-04-10\", \"Sector\": \"5. Norte\", \"Casos confirmados\": 16.571428571428573}, {\"Fecha\": \"2020-04-11\", \"Sector\": \"5. Norte\", \"Casos confirmados\": 16.285714285714285}, {\"Fecha\": \"2020-04-12\", \"Sector\": \"5. Norte\", \"Casos confirmados\": 15.857142857142858}, {\"Fecha\": \"2020-04-13\", \"Sector\": \"5. Norte\", \"Casos confirmados\": 15.857142857142858}, {\"Fecha\": \"2020-04-14\", \"Sector\": \"5. Norte\", \"Casos confirmados\": 17.714285714285715}, {\"Fecha\": \"2020-04-15\", \"Sector\": \"5. Norte\", \"Casos confirmados\": 18.142857142857142}, {\"Fecha\": \"2020-04-16\", \"Sector\": \"5. Norte\", \"Casos confirmados\": 19.285714285714285}, {\"Fecha\": \"2020-04-17\", \"Sector\": \"5. Norte\", \"Casos confirmados\": 18.571428571428573}, {\"Fecha\": \"2020-04-18\", \"Sector\": \"5. Norte\", \"Casos confirmados\": 20.142857142857142}, {\"Fecha\": \"2020-04-19\", \"Sector\": \"5. Norte\", \"Casos confirmados\": 21.714285714285715}, {\"Fecha\": \"2020-04-20\", \"Sector\": \"5. Norte\", \"Casos confirmados\": 24.428571428571427}, {\"Fecha\": \"2020-04-21\", \"Sector\": \"5. Norte\", \"Casos confirmados\": 24.142857142857142}, {\"Fecha\": \"2020-04-22\", \"Sector\": \"5. Norte\", \"Casos confirmados\": 28.0}, {\"Fecha\": \"2020-04-23\", \"Sector\": \"5. Norte\", \"Casos confirmados\": 31.857142857142858}, {\"Fecha\": \"2020-04-24\", \"Sector\": \"5. Norte\", \"Casos confirmados\": 36.857142857142854}, {\"Fecha\": \"2020-04-25\", \"Sector\": \"5. Norte\", \"Casos confirmados\": 42.285714285714285}, {\"Fecha\": \"2020-04-26\", \"Sector\": \"5. Norte\", \"Casos confirmados\": 47.142857142857146}, {\"Fecha\": \"2020-04-27\", \"Sector\": \"5. Norte\", \"Casos confirmados\": 50.857142857142854}, {\"Fecha\": \"2020-04-28\", \"Sector\": \"5. Norte\", \"Casos confirmados\": 59.857142857142854}, {\"Fecha\": \"2020-04-29\", \"Sector\": \"5. Norte\", \"Casos confirmados\": 70.85714285714286}, {\"Fecha\": \"2020-04-30\", \"Sector\": \"5. Norte\", \"Casos confirmados\": 86.42857142857143}, {\"Fecha\": \"2020-05-01\", \"Sector\": \"5. Norte\", \"Casos confirmados\": 109.0}, {\"Fecha\": \"2020-05-02\", \"Sector\": \"5. Norte\", \"Casos confirmados\": 137.0}, {\"Fecha\": \"2020-05-03\", \"Sector\": \"5. Norte\", \"Casos confirmados\": 160.57142857142858}, {\"Fecha\": \"2020-05-04\", \"Sector\": \"5. Norte\", \"Casos confirmados\": 178.0}, {\"Fecha\": \"2020-05-05\", \"Sector\": \"5. Norte\", \"Casos confirmados\": 201.57142857142858}, {\"Fecha\": \"2020-05-06\", \"Sector\": \"5. Norte\", \"Casos confirmados\": 210.28571428571428}, {\"Fecha\": \"2020-05-07\", \"Sector\": \"5. Norte\", \"Casos confirmados\": 223.57142857142858}, {\"Fecha\": \"2020-05-08\", \"Sector\": \"5. Norte\", \"Casos confirmados\": 226.71428571428572}, {\"Fecha\": \"2020-05-09\", \"Sector\": \"5. Norte\", \"Casos confirmados\": 214.42857142857142}, {\"Fecha\": \"2020-05-10\", \"Sector\": \"5. Norte\", \"Casos confirmados\": 215.14285714285714}, {\"Fecha\": \"2020-05-11\", \"Sector\": \"5. Norte\", \"Casos confirmados\": 208.28571428571428}, {\"Fecha\": \"2020-05-12\", \"Sector\": \"5. Norte\", \"Casos confirmados\": 200.0}, {\"Fecha\": \"2020-05-13\", \"Sector\": \"5. Norte\", \"Casos confirmados\": 217.42857142857142}, {\"Fecha\": \"2020-05-14\", \"Sector\": \"5. Norte\", \"Casos confirmados\": 223.0}, {\"Fecha\": \"2020-05-15\", \"Sector\": \"5. Norte\", \"Casos confirmados\": 227.14285714285714}, {\"Fecha\": \"2020-05-16\", \"Sector\": \"5. Norte\", \"Casos confirmados\": 227.71428571428572}, {\"Fecha\": \"2020-05-17\", \"Sector\": \"5. Norte\", \"Casos confirmados\": 226.14285714285714}, {\"Fecha\": \"2020-05-18\", \"Sector\": \"5. Norte\", \"Casos confirmados\": 233.42857142857142}, {\"Fecha\": \"2020-05-19\", \"Sector\": \"5. Norte\", \"Casos confirmados\": 258.0}, {\"Fecha\": \"2020-05-20\", \"Sector\": \"5. Norte\", \"Casos confirmados\": 278.57142857142856}, {\"Fecha\": \"2020-05-21\", \"Sector\": \"5. Norte\", \"Casos confirmados\": 302.42857142857144}, {\"Fecha\": \"2020-05-22\", \"Sector\": \"5. Norte\", \"Casos confirmados\": 340.42857142857144}, {\"Fecha\": \"2020-05-23\", \"Sector\": \"5. Norte\", \"Casos confirmados\": 377.2857142857143}, {\"Fecha\": \"2020-05-24\", \"Sector\": \"5. Norte\", \"Casos confirmados\": 412.14285714285717}, {\"Fecha\": \"2020-05-25\", \"Sector\": \"5. Norte\", \"Casos confirmados\": 478.0}, {\"Fecha\": \"2020-05-26\", \"Sector\": \"5. Norte\", \"Casos confirmados\": 501.0}, {\"Fecha\": \"2020-05-27\", \"Sector\": \"5. Norte\", \"Casos confirmados\": 524.7142857142857}, {\"Fecha\": \"2020-05-28\", \"Sector\": \"5. Norte\", \"Casos confirmados\": 555.2857142857143}, {\"Fecha\": \"2020-05-29\", \"Sector\": \"5. Norte\", \"Casos confirmados\": 557.1428571428571}, {\"Fecha\": \"2020-05-30\", \"Sector\": \"5. Norte\", \"Casos confirmados\": 573.5714285714286}, {\"Fecha\": \"2020-05-31\", \"Sector\": \"5. Norte\", \"Casos confirmados\": 599.4285714285714}, {\"Fecha\": \"2020-06-01\", \"Sector\": \"5. Norte\", \"Casos confirmados\": 597.8571428571429}, {\"Fecha\": \"2020-06-02\", \"Sector\": \"5. Norte\", \"Casos confirmados\": 579.1428571428571}, {\"Fecha\": \"2020-06-03\", \"Sector\": \"5. Norte\", \"Casos confirmados\": 566.5714285714286}, {\"Fecha\": \"2020-06-04\", \"Sector\": \"5. Norte\", \"Casos confirmados\": 538.5714285714286}, {\"Fecha\": \"2020-06-05\", \"Sector\": \"5. Norte\", \"Casos confirmados\": 519.4285714285714}, {\"Fecha\": \"2020-06-06\", \"Sector\": \"5. Norte\", \"Casos confirmados\": 516.2857142857143}, {\"Fecha\": \"2020-06-07\", \"Sector\": \"5. Norte\", \"Casos confirmados\": 522.2857142857143}, {\"Fecha\": \"2020-06-08\", \"Sector\": \"5. Norte\", \"Casos confirmados\": 499.14285714285717}, {\"Fecha\": \"2020-04-01\", \"Sector\": \"4. Centro\", \"Casos confirmados\": null}, {\"Fecha\": \"2020-04-02\", \"Sector\": \"4. Centro\", \"Casos confirmados\": null}, {\"Fecha\": \"2020-04-03\", \"Sector\": \"4. Centro\", \"Casos confirmados\": null}, {\"Fecha\": \"2020-04-04\", \"Sector\": \"4. Centro\", \"Casos confirmados\": null}, {\"Fecha\": \"2020-04-05\", \"Sector\": \"4. Centro\", \"Casos confirmados\": null}, {\"Fecha\": \"2020-04-06\", \"Sector\": \"4. Centro\", \"Casos confirmados\": null}, {\"Fecha\": \"2020-04-07\", \"Sector\": \"4. Centro\", \"Casos confirmados\": 12.857142857142858}, {\"Fecha\": \"2020-04-08\", \"Sector\": \"4. Centro\", \"Casos confirmados\": 14.428571428571429}, {\"Fecha\": \"2020-04-09\", \"Sector\": \"4. Centro\", \"Casos confirmados\": 16.857142857142858}, {\"Fecha\": \"2020-04-10\", \"Sector\": \"4. Centro\", \"Casos confirmados\": 19.857142857142858}, {\"Fecha\": \"2020-04-11\", \"Sector\": \"4. Centro\", \"Casos confirmados\": 20.0}, {\"Fecha\": \"2020-04-12\", \"Sector\": \"4. Centro\", \"Casos confirmados\": 19.428571428571427}, {\"Fecha\": \"2020-04-13\", \"Sector\": \"4. Centro\", \"Casos confirmados\": 19.285714285714285}, {\"Fecha\": \"2020-04-14\", \"Sector\": \"4. Centro\", \"Casos confirmados\": 20.571428571428573}, {\"Fecha\": \"2020-04-15\", \"Sector\": \"4. Centro\", \"Casos confirmados\": 20.0}, {\"Fecha\": \"2020-04-16\", \"Sector\": \"4. Centro\", \"Casos confirmados\": 20.0}, {\"Fecha\": \"2020-04-17\", \"Sector\": \"4. Centro\", \"Casos confirmados\": 18.857142857142858}, {\"Fecha\": \"2020-04-18\", \"Sector\": \"4. Centro\", \"Casos confirmados\": 18.857142857142858}, {\"Fecha\": \"2020-04-19\", \"Sector\": \"4. Centro\", \"Casos confirmados\": 18.857142857142858}, {\"Fecha\": \"2020-04-20\", \"Sector\": \"4. Centro\", \"Casos confirmados\": 18.428571428571427}, {\"Fecha\": \"2020-04-21\", \"Sector\": \"4. Centro\", \"Casos confirmados\": 16.714285714285715}, {\"Fecha\": \"2020-04-22\", \"Sector\": \"4. Centro\", \"Casos confirmados\": 17.571428571428573}, {\"Fecha\": \"2020-04-23\", \"Sector\": \"4. Centro\", \"Casos confirmados\": 18.142857142857142}, {\"Fecha\": \"2020-04-24\", \"Sector\": \"4. Centro\", \"Casos confirmados\": 19.857142857142858}, {\"Fecha\": \"2020-04-25\", \"Sector\": \"4. Centro\", \"Casos confirmados\": 22.285714285714285}, {\"Fecha\": \"2020-04-26\", \"Sector\": \"4. Centro\", \"Casos confirmados\": 24.571428571428573}, {\"Fecha\": \"2020-04-27\", \"Sector\": \"4. Centro\", \"Casos confirmados\": 26.714285714285715}, {\"Fecha\": \"2020-04-28\", \"Sector\": \"4. Centro\", \"Casos confirmados\": 30.857142857142858}, {\"Fecha\": \"2020-04-29\", \"Sector\": \"4. Centro\", \"Casos confirmados\": 35.57142857142857}, {\"Fecha\": \"2020-04-30\", \"Sector\": \"4. Centro\", \"Casos confirmados\": 41.57142857142857}, {\"Fecha\": \"2020-05-01\", \"Sector\": \"4. Centro\", \"Casos confirmados\": 50.285714285714285}, {\"Fecha\": \"2020-05-02\", \"Sector\": \"4. Centro\", \"Casos confirmados\": 62.142857142857146}, {\"Fecha\": \"2020-05-03\", \"Sector\": \"4. Centro\", \"Casos confirmados\": 73.0}, {\"Fecha\": \"2020-05-04\", \"Sector\": \"4. Centro\", \"Casos confirmados\": 81.85714285714286}, {\"Fecha\": \"2020-05-05\", \"Sector\": \"4. Centro\", \"Casos confirmados\": 93.14285714285714}, {\"Fecha\": \"2020-05-06\", \"Sector\": \"4. Centro\", \"Casos confirmados\": 97.0}, {\"Fecha\": \"2020-05-07\", \"Sector\": \"4. Centro\", \"Casos confirmados\": 102.42857142857143}, {\"Fecha\": \"2020-05-08\", \"Sector\": \"4. Centro\", \"Casos confirmados\": 102.85714285714286}, {\"Fecha\": \"2020-05-09\", \"Sector\": \"4. Centro\", \"Casos confirmados\": 96.28571428571429}, {\"Fecha\": \"2020-05-10\", \"Sector\": \"4. Centro\", \"Casos confirmados\": 95.14285714285714}, {\"Fecha\": \"2020-05-11\", \"Sector\": \"4. Centro\", \"Casos confirmados\": 90.57142857142857}, {\"Fecha\": \"2020-05-12\", \"Sector\": \"4. Centro\", \"Casos confirmados\": 87.71428571428571}, {\"Fecha\": \"2020-05-13\", \"Sector\": \"4. Centro\", \"Casos confirmados\": 101.28571428571429}, {\"Fecha\": \"2020-05-14\", \"Sector\": \"4. Centro\", \"Casos confirmados\": 113.42857142857143}, {\"Fecha\": \"2020-05-15\", \"Sector\": \"4. Centro\", \"Casos confirmados\": 127.57142857142857}, {\"Fecha\": \"2020-05-16\", \"Sector\": \"4. Centro\", \"Casos confirmados\": 135.28571428571428}, {\"Fecha\": \"2020-05-17\", \"Sector\": \"4. Centro\", \"Casos confirmados\": 141.71428571428572}, {\"Fecha\": \"2020-05-18\", \"Sector\": \"4. Centro\", \"Casos confirmados\": 149.57142857142858}, {\"Fecha\": \"2020-05-19\", \"Sector\": \"4. Centro\", \"Casos confirmados\": 165.28571428571428}, {\"Fecha\": \"2020-05-20\", \"Sector\": \"4. Centro\", \"Casos confirmados\": 174.42857142857142}, {\"Fecha\": \"2020-05-21\", \"Sector\": \"4. Centro\", \"Casos confirmados\": 180.57142857142858}, {\"Fecha\": \"2020-05-22\", \"Sector\": \"4. Centro\", \"Casos confirmados\": 189.85714285714286}, {\"Fecha\": \"2020-05-23\", \"Sector\": \"4. Centro\", \"Casos confirmados\": 201.28571428571428}, {\"Fecha\": \"2020-05-24\", \"Sector\": \"4. Centro\", \"Casos confirmados\": 210.85714285714286}, {\"Fecha\": \"2020-05-25\", \"Sector\": \"4. Centro\", \"Casos confirmados\": 235.0}, {\"Fecha\": \"2020-05-26\", \"Sector\": \"4. Centro\", \"Casos confirmados\": 237.14285714285714}, {\"Fecha\": \"2020-05-27\", \"Sector\": \"4. Centro\", \"Casos confirmados\": 238.85714285714286}, {\"Fecha\": \"2020-05-28\", \"Sector\": \"4. Centro\", \"Casos confirmados\": 243.71428571428572}, {\"Fecha\": \"2020-05-29\", \"Sector\": \"4. Centro\", \"Casos confirmados\": 237.14285714285714}, {\"Fecha\": \"2020-05-30\", \"Sector\": \"4. Centro\", \"Casos confirmados\": 238.71428571428572}, {\"Fecha\": \"2020-05-31\", \"Sector\": \"4. Centro\", \"Casos confirmados\": 245.14285714285714}, {\"Fecha\": \"2020-06-01\", \"Sector\": \"4. Centro\", \"Casos confirmados\": 241.0}, {\"Fecha\": \"2020-06-02\", \"Sector\": \"4. Centro\", \"Casos confirmados\": 232.42857142857142}, {\"Fecha\": \"2020-06-03\", \"Sector\": \"4. Centro\", \"Casos confirmados\": 228.28571428571428}, {\"Fecha\": \"2020-06-04\", \"Sector\": \"4. Centro\", \"Casos confirmados\": 219.71428571428572}, {\"Fecha\": \"2020-06-05\", \"Sector\": \"4. Centro\", \"Casos confirmados\": 215.71428571428572}, {\"Fecha\": \"2020-06-06\", \"Sector\": \"4. Centro\", \"Casos confirmados\": 218.85714285714286}, {\"Fecha\": \"2020-06-07\", \"Sector\": \"4. Centro\", \"Casos confirmados\": 226.71428571428572}, {\"Fecha\": \"2020-06-08\", \"Sector\": \"4. Centro\", \"Casos confirmados\": 221.14285714285714}, {\"Fecha\": \"2020-04-01\", \"Sector\": \"3. Sur\", \"Casos confirmados\": null}, {\"Fecha\": \"2020-04-02\", \"Sector\": \"3. Sur\", \"Casos confirmados\": null}, {\"Fecha\": \"2020-04-03\", \"Sector\": \"3. Sur\", \"Casos confirmados\": null}, {\"Fecha\": \"2020-04-04\", \"Sector\": \"3. Sur\", \"Casos confirmados\": null}, {\"Fecha\": \"2020-04-05\", \"Sector\": \"3. Sur\", \"Casos confirmados\": null}, {\"Fecha\": \"2020-04-06\", \"Sector\": \"3. Sur\", \"Casos confirmados\": null}, {\"Fecha\": \"2020-04-07\", \"Sector\": \"3. Sur\", \"Casos confirmados\": 19.285714285714285}, {\"Fecha\": \"2020-04-08\", \"Sector\": \"3. Sur\", \"Casos confirmados\": 20.142857142857142}, {\"Fecha\": \"2020-04-09\", \"Sector\": \"3. Sur\", \"Casos confirmados\": 24.571428571428573}, {\"Fecha\": \"2020-04-10\", \"Sector\": \"3. Sur\", \"Casos confirmados\": 33.142857142857146}, {\"Fecha\": \"2020-04-11\", \"Sector\": \"3. Sur\", \"Casos confirmados\": 35.57142857142857}, {\"Fecha\": \"2020-04-12\", \"Sector\": \"3. Sur\", \"Casos confirmados\": 36.857142857142854}, {\"Fecha\": \"2020-04-13\", \"Sector\": \"3. Sur\", \"Casos confirmados\": 39.714285714285715}, {\"Fecha\": \"2020-04-14\", \"Sector\": \"3. Sur\", \"Casos confirmados\": 46.42857142857143}, {\"Fecha\": \"2020-04-15\", \"Sector\": \"3. Sur\", \"Casos confirmados\": 50.57142857142857}, {\"Fecha\": \"2020-04-16\", \"Sector\": \"3. Sur\", \"Casos confirmados\": 53.714285714285715}, {\"Fecha\": \"2020-04-17\", \"Sector\": \"3. Sur\", \"Casos confirmados\": 48.42857142857143}, {\"Fecha\": \"2020-04-18\", \"Sector\": \"3. Sur\", \"Casos confirmados\": 48.857142857142854}, {\"Fecha\": \"2020-04-19\", \"Sector\": \"3. Sur\", \"Casos confirmados\": 50.285714285714285}, {\"Fecha\": \"2020-04-20\", \"Sector\": \"3. Sur\", \"Casos confirmados\": 53.285714285714285}, {\"Fecha\": \"2020-04-21\", \"Sector\": \"3. Sur\", \"Casos confirmados\": 49.0}, {\"Fecha\": \"2020-04-22\", \"Sector\": \"3. Sur\", \"Casos confirmados\": 50.142857142857146}, {\"Fecha\": \"2020-04-23\", \"Sector\": \"3. Sur\", \"Casos confirmados\": 50.42857142857143}, {\"Fecha\": \"2020-04-24\", \"Sector\": \"3. Sur\", \"Casos confirmados\": 54.285714285714285}, {\"Fecha\": \"2020-04-25\", \"Sector\": \"3. Sur\", \"Casos confirmados\": 59.42857142857143}, {\"Fecha\": \"2020-04-26\", \"Sector\": \"3. Sur\", \"Casos confirmados\": 65.28571428571429}, {\"Fecha\": \"2020-04-27\", \"Sector\": \"3. Sur\", \"Casos confirmados\": 69.85714285714286}, {\"Fecha\": \"2020-04-28\", \"Sector\": \"3. Sur\", \"Casos confirmados\": 80.42857142857143}, {\"Fecha\": \"2020-04-29\", \"Sector\": \"3. Sur\", \"Casos confirmados\": 89.28571428571429}, {\"Fecha\": \"2020-04-30\", \"Sector\": \"3. Sur\", \"Casos confirmados\": 99.28571428571429}, {\"Fecha\": \"2020-05-01\", \"Sector\": \"3. Sur\", \"Casos confirmados\": 112.42857142857143}, {\"Fecha\": \"2020-05-02\", \"Sector\": \"3. Sur\", \"Casos confirmados\": 129.28571428571428}, {\"Fecha\": \"2020-05-03\", \"Sector\": \"3. Sur\", \"Casos confirmados\": 144.71428571428572}, {\"Fecha\": \"2020-05-04\", \"Sector\": \"3. Sur\", \"Casos confirmados\": 155.71428571428572}, {\"Fecha\": \"2020-05-05\", \"Sector\": \"3. Sur\", \"Casos confirmados\": 174.28571428571428}, {\"Fecha\": \"2020-05-06\", \"Sector\": \"3. Sur\", \"Casos confirmados\": 181.57142857142858}, {\"Fecha\": \"2020-05-07\", \"Sector\": \"3. Sur\", \"Casos confirmados\": 198.28571428571428}, {\"Fecha\": \"2020-05-08\", \"Sector\": \"3. Sur\", \"Casos confirmados\": 211.0}, {\"Fecha\": \"2020-05-09\", \"Sector\": \"3. Sur\", \"Casos confirmados\": 209.85714285714286}, {\"Fecha\": \"2020-05-10\", \"Sector\": \"3. Sur\", \"Casos confirmados\": 222.28571428571428}, {\"Fecha\": \"2020-05-11\", \"Sector\": \"3. Sur\", \"Casos confirmados\": 223.42857142857142}, {\"Fecha\": \"2020-05-12\", \"Sector\": \"3. Sur\", \"Casos confirmados\": 230.71428571428572}, {\"Fecha\": \"2020-05-13\", \"Sector\": \"3. Sur\", \"Casos confirmados\": 277.57142857142856}, {\"Fecha\": \"2020-05-14\", \"Sector\": \"3. Sur\", \"Casos confirmados\": 318.2857142857143}, {\"Fecha\": \"2020-05-15\", \"Sector\": \"3. Sur\", \"Casos confirmados\": 359.42857142857144}, {\"Fecha\": \"2020-05-16\", \"Sector\": \"3. Sur\", \"Casos confirmados\": 388.0}, {\"Fecha\": \"2020-05-17\", \"Sector\": \"3. Sur\", \"Casos confirmados\": 421.0}, {\"Fecha\": \"2020-05-18\", \"Sector\": \"3. Sur\", \"Casos confirmados\": 464.0}, {\"Fecha\": \"2020-05-19\", \"Sector\": \"3. Sur\", \"Casos confirmados\": 543.0}, {\"Fecha\": \"2020-05-20\", \"Sector\": \"3. Sur\", \"Casos confirmados\": 604.8571428571429}, {\"Fecha\": \"2020-05-21\", \"Sector\": \"3. Sur\", \"Casos confirmados\": 654.0}, {\"Fecha\": \"2020-05-22\", \"Sector\": \"3. Sur\", \"Casos confirmados\": 711.0}, {\"Fecha\": \"2020-05-23\", \"Sector\": \"3. Sur\", \"Casos confirmados\": 756.7142857142857}, {\"Fecha\": \"2020-05-24\", \"Sector\": \"3. Sur\", \"Casos confirmados\": 783.4285714285714}, {\"Fecha\": \"2020-05-25\", \"Sector\": \"3. Sur\", \"Casos confirmados\": 843.1428571428571}, {\"Fecha\": \"2020-05-26\", \"Sector\": \"3. Sur\", \"Casos confirmados\": 820.4285714285714}, {\"Fecha\": \"2020-05-27\", \"Sector\": \"3. Sur\", \"Casos confirmados\": 793.4285714285714}, {\"Fecha\": \"2020-05-28\", \"Sector\": \"3. Sur\", \"Casos confirmados\": 777.8571428571429}, {\"Fecha\": \"2020-05-29\", \"Sector\": \"3. Sur\", \"Casos confirmados\": 729.1428571428571}, {\"Fecha\": \"2020-05-30\", \"Sector\": \"3. Sur\", \"Casos confirmados\": 724.1428571428571}, {\"Fecha\": \"2020-05-31\", \"Sector\": \"3. Sur\", \"Casos confirmados\": 753.4285714285714}, {\"Fecha\": \"2020-06-01\", \"Sector\": \"3. Sur\", \"Casos confirmados\": 772.4285714285714}, {\"Fecha\": \"2020-06-02\", \"Sector\": \"3. Sur\", \"Casos confirmados\": 764.7142857142857}, {\"Fecha\": \"2020-06-03\", \"Sector\": \"3. Sur\", \"Casos confirmados\": 775.4285714285714}, {\"Fecha\": \"2020-06-04\", \"Sector\": \"3. Sur\", \"Casos confirmados\": 769.5714285714286}, {\"Fecha\": \"2020-06-05\", \"Sector\": \"3. Sur\", \"Casos confirmados\": 772.8571428571429}, {\"Fecha\": \"2020-06-06\", \"Sector\": \"3. Sur\", \"Casos confirmados\": 790.0}, {\"Fecha\": \"2020-06-07\", \"Sector\": \"3. Sur\", \"Casos confirmados\": 809.0}, {\"Fecha\": \"2020-06-08\", \"Sector\": \"3. Sur\", \"Casos confirmados\": 764.4285714285714}, {\"Fecha\": \"2020-04-01\", \"Sector\": \"2. Norponiente\", \"Casos confirmados\": null}, {\"Fecha\": \"2020-04-02\", \"Sector\": \"2. Norponiente\", \"Casos confirmados\": null}, {\"Fecha\": \"2020-04-03\", \"Sector\": \"2. Norponiente\", \"Casos confirmados\": null}, {\"Fecha\": \"2020-04-04\", \"Sector\": \"2. Norponiente\", \"Casos confirmados\": null}, {\"Fecha\": \"2020-04-05\", \"Sector\": \"2. Norponiente\", \"Casos confirmados\": null}, {\"Fecha\": \"2020-04-06\", \"Sector\": \"2. Norponiente\", \"Casos confirmados\": null}, {\"Fecha\": \"2020-04-07\", \"Sector\": \"2. Norponiente\", \"Casos confirmados\": 9.0}, {\"Fecha\": \"2020-04-08\", \"Sector\": \"2. Norponiente\", \"Casos confirmados\": 11.0}, {\"Fecha\": \"2020-04-09\", \"Sector\": \"2. Norponiente\", \"Casos confirmados\": 13.0}, {\"Fecha\": \"2020-04-10\", \"Sector\": \"2. Norponiente\", \"Casos confirmados\": 14.571428571428571}, {\"Fecha\": \"2020-04-11\", \"Sector\": \"2. Norponiente\", \"Casos confirmados\": 14.571428571428571}, {\"Fecha\": \"2020-04-12\", \"Sector\": \"2. Norponiente\", \"Casos confirmados\": 14.714285714285714}, {\"Fecha\": \"2020-04-13\", \"Sector\": \"2. Norponiente\", \"Casos confirmados\": 16.285714285714285}, {\"Fecha\": \"2020-04-14\", \"Sector\": \"2. Norponiente\", \"Casos confirmados\": 19.428571428571427}, {\"Fecha\": \"2020-04-15\", \"Sector\": \"2. Norponiente\", \"Casos confirmados\": 20.571428571428573}, {\"Fecha\": \"2020-04-16\", \"Sector\": \"2. Norponiente\", \"Casos confirmados\": 22.857142857142858}, {\"Fecha\": \"2020-04-17\", \"Sector\": \"2. Norponiente\", \"Casos confirmados\": 23.571428571428573}, {\"Fecha\": \"2020-04-18\", \"Sector\": \"2. Norponiente\", \"Casos confirmados\": 25.714285714285715}, {\"Fecha\": \"2020-04-19\", \"Sector\": \"2. Norponiente\", \"Casos confirmados\": 27.285714285714285}, {\"Fecha\": \"2020-04-20\", \"Sector\": \"2. Norponiente\", \"Casos confirmados\": 29.0}, {\"Fecha\": \"2020-04-21\", \"Sector\": \"2. Norponiente\", \"Casos confirmados\": 26.857142857142858}, {\"Fecha\": \"2020-04-22\", \"Sector\": \"2. Norponiente\", \"Casos confirmados\": 27.0}, {\"Fecha\": \"2020-04-23\", \"Sector\": \"2. Norponiente\", \"Casos confirmados\": 26.0}, {\"Fecha\": \"2020-04-24\", \"Sector\": \"2. Norponiente\", \"Casos confirmados\": 26.0}, {\"Fecha\": \"2020-04-25\", \"Sector\": \"2. Norponiente\", \"Casos confirmados\": 26.428571428571427}, {\"Fecha\": \"2020-04-26\", \"Sector\": \"2. Norponiente\", \"Casos confirmados\": 27.714285714285715}, {\"Fecha\": \"2020-04-27\", \"Sector\": \"2. Norponiente\", \"Casos confirmados\": 28.571428571428573}, {\"Fecha\": \"2020-04-28\", \"Sector\": \"2. Norponiente\", \"Casos confirmados\": 32.857142857142854}, {\"Fecha\": \"2020-04-29\", \"Sector\": \"2. Norponiente\", \"Casos confirmados\": 37.57142857142857}, {\"Fecha\": \"2020-04-30\", \"Sector\": \"2. Norponiente\", \"Casos confirmados\": 43.857142857142854}, {\"Fecha\": \"2020-05-01\", \"Sector\": \"2. Norponiente\", \"Casos confirmados\": 53.714285714285715}, {\"Fecha\": \"2020-05-02\", \"Sector\": \"2. Norponiente\", \"Casos confirmados\": 64.85714285714286}, {\"Fecha\": \"2020-05-03\", \"Sector\": \"2. Norponiente\", \"Casos confirmados\": 73.71428571428571}, {\"Fecha\": \"2020-05-04\", \"Sector\": \"2. Norponiente\", \"Casos confirmados\": 79.14285714285714}, {\"Fecha\": \"2020-05-05\", \"Sector\": \"2. Norponiente\", \"Casos confirmados\": 86.71428571428571}, {\"Fecha\": \"2020-05-06\", \"Sector\": \"2. Norponiente\", \"Casos confirmados\": 87.85714285714286}, {\"Fecha\": \"2020-05-07\", \"Sector\": \"2. Norponiente\", \"Casos confirmados\": 90.85714285714286}, {\"Fecha\": \"2020-05-08\", \"Sector\": \"2. Norponiente\", \"Casos confirmados\": 89.71428571428571}, {\"Fecha\": \"2020-05-09\", \"Sector\": \"2. Norponiente\", \"Casos confirmados\": 86.71428571428571}, {\"Fecha\": \"2020-05-10\", \"Sector\": \"2. Norponiente\", \"Casos confirmados\": 96.28571428571429}, {\"Fecha\": \"2020-05-11\", \"Sector\": \"2. Norponiente\", \"Casos confirmados\": 104.0}, {\"Fecha\": \"2020-05-12\", \"Sector\": \"2. Norponiente\", \"Casos confirmados\": 112.85714285714286}, {\"Fecha\": \"2020-05-13\", \"Sector\": \"2. Norponiente\", \"Casos confirmados\": 134.0}, {\"Fecha\": \"2020-05-14\", \"Sector\": \"2. Norponiente\", \"Casos confirmados\": 145.0}, {\"Fecha\": \"2020-05-15\", \"Sector\": \"2. Norponiente\", \"Casos confirmados\": 149.71428571428572}, {\"Fecha\": \"2020-05-16\", \"Sector\": \"2. Norponiente\", \"Casos confirmados\": 150.42857142857142}, {\"Fecha\": \"2020-05-17\", \"Sector\": \"2. Norponiente\", \"Casos confirmados\": 146.42857142857142}, {\"Fecha\": \"2020-05-18\", \"Sector\": \"2. Norponiente\", \"Casos confirmados\": 147.14285714285714}, {\"Fecha\": \"2020-05-19\", \"Sector\": \"2. Norponiente\", \"Casos confirmados\": 161.42857142857142}, {\"Fecha\": \"2020-05-20\", \"Sector\": \"2. Norponiente\", \"Casos confirmados\": 176.42857142857142}, {\"Fecha\": \"2020-05-21\", \"Sector\": \"2. Norponiente\", \"Casos confirmados\": 199.57142857142858}, {\"Fecha\": \"2020-05-22\", \"Sector\": \"2. Norponiente\", \"Casos confirmados\": 237.57142857142858}, {\"Fecha\": \"2020-05-23\", \"Sector\": \"2. Norponiente\", \"Casos confirmados\": 265.42857142857144}, {\"Fecha\": \"2020-05-24\", \"Sector\": \"2. Norponiente\", \"Casos confirmados\": 286.14285714285717}, {\"Fecha\": \"2020-05-25\", \"Sector\": \"2. Norponiente\", \"Casos confirmados\": 317.14285714285717}, {\"Fecha\": \"2020-05-26\", \"Sector\": \"2. Norponiente\", \"Casos confirmados\": 319.14285714285717}, {\"Fecha\": \"2020-05-27\", \"Sector\": \"2. Norponiente\", \"Casos confirmados\": 317.57142857142856}, {\"Fecha\": \"2020-05-28\", \"Sector\": \"2. Norponiente\", \"Casos confirmados\": 317.2857142857143}, {\"Fecha\": \"2020-05-29\", \"Sector\": \"2. Norponiente\", \"Casos confirmados\": 299.42857142857144}, {\"Fecha\": \"2020-05-30\", \"Sector\": \"2. Norponiente\", \"Casos confirmados\": 308.0}, {\"Fecha\": \"2020-05-31\", \"Sector\": \"2. Norponiente\", \"Casos confirmados\": 343.57142857142856}, {\"Fecha\": \"2020-06-01\", \"Sector\": \"2. Norponiente\", \"Casos confirmados\": 389.42857142857144}, {\"Fecha\": \"2020-06-02\", \"Sector\": \"2. Norponiente\", \"Casos confirmados\": 409.57142857142856}, {\"Fecha\": \"2020-06-03\", \"Sector\": \"2. Norponiente\", \"Casos confirmados\": 444.7142857142857}, {\"Fecha\": \"2020-06-04\", \"Sector\": \"2. Norponiente\", \"Casos confirmados\": 469.85714285714283}, {\"Fecha\": \"2020-06-05\", \"Sector\": \"2. Norponiente\", \"Casos confirmados\": 494.85714285714283}, {\"Fecha\": \"2020-06-06\", \"Sector\": \"2. Norponiente\", \"Casos confirmados\": 525.8571428571429}, {\"Fecha\": \"2020-06-07\", \"Sector\": \"2. Norponiente\", \"Casos confirmados\": 554.4285714285714}, {\"Fecha\": \"2020-06-08\", \"Sector\": \"2. Norponiente\", \"Casos confirmados\": 530.8571428571429}, {\"Fecha\": \"2020-04-01\", \"Sector\": \"1. Surponiente\", \"Casos confirmados\": null}, {\"Fecha\": \"2020-04-02\", \"Sector\": \"1. Surponiente\", \"Casos confirmados\": null}, {\"Fecha\": \"2020-04-03\", \"Sector\": \"1. Surponiente\", \"Casos confirmados\": null}, {\"Fecha\": \"2020-04-04\", \"Sector\": \"1. Surponiente\", \"Casos confirmados\": null}, {\"Fecha\": \"2020-04-05\", \"Sector\": \"1. Surponiente\", \"Casos confirmados\": null}, {\"Fecha\": \"2020-04-06\", \"Sector\": \"1. Surponiente\", \"Casos confirmados\": null}, {\"Fecha\": \"2020-04-07\", \"Sector\": \"1. Surponiente\", \"Casos confirmados\": 8.142857142857142}, {\"Fecha\": \"2020-04-08\", \"Sector\": \"1. Surponiente\", \"Casos confirmados\": 9.714285714285714}, {\"Fecha\": \"2020-04-09\", \"Sector\": \"1. Surponiente\", \"Casos confirmados\": 13.714285714285714}, {\"Fecha\": \"2020-04-10\", \"Sector\": \"1. Surponiente\", \"Casos confirmados\": 20.428571428571427}, {\"Fecha\": \"2020-04-11\", \"Sector\": \"1. Surponiente\", \"Casos confirmados\": 23.142857142857142}, {\"Fecha\": \"2020-04-12\", \"Sector\": \"1. Surponiente\", \"Casos confirmados\": 24.142857142857142}, {\"Fecha\": \"2020-04-13\", \"Sector\": \"1. Surponiente\", \"Casos confirmados\": 25.428571428571427}, {\"Fecha\": \"2020-04-14\", \"Sector\": \"1. Surponiente\", \"Casos confirmados\": 29.285714285714285}, {\"Fecha\": \"2020-04-15\", \"Sector\": \"1. Surponiente\", \"Casos confirmados\": 31.857142857142858}, {\"Fecha\": \"2020-04-16\", \"Sector\": \"1. Surponiente\", \"Casos confirmados\": 33.285714285714285}, {\"Fecha\": \"2020-04-17\", \"Sector\": \"1. Surponiente\", \"Casos confirmados\": 29.0}, {\"Fecha\": \"2020-04-18\", \"Sector\": \"1. Surponiente\", \"Casos confirmados\": 27.857142857142858}, {\"Fecha\": \"2020-04-19\", \"Sector\": \"1. Surponiente\", \"Casos confirmados\": 27.714285714285715}, {\"Fecha\": \"2020-04-20\", \"Sector\": \"1. Surponiente\", \"Casos confirmados\": 28.142857142857142}, {\"Fecha\": \"2020-04-21\", \"Sector\": \"1. Surponiente\", \"Casos confirmados\": 24.857142857142858}, {\"Fecha\": \"2020-04-22\", \"Sector\": \"1. Surponiente\", \"Casos confirmados\": 23.428571428571427}, {\"Fecha\": \"2020-04-23\", \"Sector\": \"1. Surponiente\", \"Casos confirmados\": 22.142857142857142}, {\"Fecha\": \"2020-04-24\", \"Sector\": \"1. Surponiente\", \"Casos confirmados\": 23.571428571428573}, {\"Fecha\": \"2020-04-25\", \"Sector\": \"1. Surponiente\", \"Casos confirmados\": 25.714285714285715}, {\"Fecha\": \"2020-04-26\", \"Sector\": \"1. Surponiente\", \"Casos confirmados\": 28.142857142857142}, {\"Fecha\": \"2020-04-27\", \"Sector\": \"1. Surponiente\", \"Casos confirmados\": 29.714285714285715}, {\"Fecha\": \"2020-04-28\", \"Sector\": \"1. Surponiente\", \"Casos confirmados\": 33.857142857142854}, {\"Fecha\": \"2020-04-29\", \"Sector\": \"1. Surponiente\", \"Casos confirmados\": 38.285714285714285}, {\"Fecha\": \"2020-04-30\", \"Sector\": \"1. Surponiente\", \"Casos confirmados\": 44.285714285714285}, {\"Fecha\": \"2020-05-01\", \"Sector\": \"1. Surponiente\", \"Casos confirmados\": 53.57142857142857}, {\"Fecha\": \"2020-05-02\", \"Sector\": \"1. Surponiente\", \"Casos confirmados\": 65.71428571428571}, {\"Fecha\": \"2020-05-03\", \"Sector\": \"1. Surponiente\", \"Casos confirmados\": 76.85714285714286}, {\"Fecha\": \"2020-05-04\", \"Sector\": \"1. Surponiente\", \"Casos confirmados\": 86.0}, {\"Fecha\": \"2020-05-05\", \"Sector\": \"1. Surponiente\", \"Casos confirmados\": 97.57142857142857}, {\"Fecha\": \"2020-05-06\", \"Sector\": \"1. Surponiente\", \"Casos confirmados\": 101.14285714285714}, {\"Fecha\": \"2020-05-07\", \"Sector\": \"1. Surponiente\", \"Casos confirmados\": 105.71428571428571}, {\"Fecha\": \"2020-05-08\", \"Sector\": \"1. Surponiente\", \"Casos confirmados\": 104.71428571428571}, {\"Fecha\": \"2020-05-09\", \"Sector\": \"1. Surponiente\", \"Casos confirmados\": 98.14285714285714}, {\"Fecha\": \"2020-05-10\", \"Sector\": \"1. Surponiente\", \"Casos confirmados\": 98.57142857142857}, {\"Fecha\": \"2020-05-11\", \"Sector\": \"1. Surponiente\", \"Casos confirmados\": 96.14285714285714}, {\"Fecha\": \"2020-05-12\", \"Sector\": \"1. Surponiente\", \"Casos confirmados\": 95.85714285714286}, {\"Fecha\": \"2020-05-13\", \"Sector\": \"1. Surponiente\", \"Casos confirmados\": 113.42857142857143}, {\"Fecha\": \"2020-05-14\", \"Sector\": \"1. Surponiente\", \"Casos confirmados\": 128.85714285714286}, {\"Fecha\": \"2020-05-15\", \"Sector\": \"1. Surponiente\", \"Casos confirmados\": 145.42857142857142}, {\"Fecha\": \"2020-05-16\", \"Sector\": \"1. Surponiente\", \"Casos confirmados\": 153.85714285714286}, {\"Fecha\": \"2020-05-17\", \"Sector\": \"1. Surponiente\", \"Casos confirmados\": 159.42857142857142}, {\"Fecha\": \"2020-05-18\", \"Sector\": \"1. Surponiente\", \"Casos confirmados\": 165.85714285714286}, {\"Fecha\": \"2020-05-19\", \"Sector\": \"1. Surponiente\", \"Casos confirmados\": 183.0}, {\"Fecha\": \"2020-05-20\", \"Sector\": \"1. Surponiente\", \"Casos confirmados\": 195.71428571428572}, {\"Fecha\": \"2020-05-21\", \"Sector\": \"1. Surponiente\", \"Casos confirmados\": 208.14285714285714}, {\"Fecha\": \"2020-05-22\", \"Sector\": \"1. Surponiente\", \"Casos confirmados\": 228.14285714285714}, {\"Fecha\": \"2020-05-23\", \"Sector\": \"1. Surponiente\", \"Casos confirmados\": 249.0}, {\"Fecha\": \"2020-05-24\", \"Sector\": \"1. Surponiente\", \"Casos confirmados\": 269.0}, {\"Fecha\": \"2020-05-25\", \"Sector\": \"1. Surponiente\", \"Casos confirmados\": 309.2857142857143}, {\"Fecha\": \"2020-05-26\", \"Sector\": \"1. Surponiente\", \"Casos confirmados\": 318.42857142857144}, {\"Fecha\": \"2020-05-27\", \"Sector\": \"1. Surponiente\", \"Casos confirmados\": 323.7142857142857}, {\"Fecha\": \"2020-05-28\", \"Sector\": \"1. Surponiente\", \"Casos confirmados\": 329.14285714285717}, {\"Fecha\": \"2020-05-29\", \"Sector\": \"1. Surponiente\", \"Casos confirmados\": 316.42857142857144}, {\"Fecha\": \"2020-05-30\", \"Sector\": \"1. Surponiente\", \"Casos confirmados\": 318.2857142857143}, {\"Fecha\": \"2020-05-31\", \"Sector\": \"1. Surponiente\", \"Casos confirmados\": 332.2857142857143}, {\"Fecha\": \"2020-06-01\", \"Sector\": \"1. Surponiente\", \"Casos confirmados\": 338.2857142857143}, {\"Fecha\": \"2020-06-02\", \"Sector\": \"1. Surponiente\", \"Casos confirmados\": 335.42857142857144}, {\"Fecha\": \"2020-06-03\", \"Sector\": \"1. Surponiente\", \"Casos confirmados\": 343.57142857142856}, {\"Fecha\": \"2020-06-04\", \"Sector\": \"1. Surponiente\", \"Casos confirmados\": 347.42857142857144}, {\"Fecha\": \"2020-06-05\", \"Sector\": \"1. Surponiente\", \"Casos confirmados\": 356.57142857142856}, {\"Fecha\": \"2020-06-06\", \"Sector\": \"1. Surponiente\", \"Casos confirmados\": 374.14285714285717}, {\"Fecha\": \"2020-06-07\", \"Sector\": \"1. Surponiente\", \"Casos confirmados\": 394.7142857142857}, {\"Fecha\": \"2020-06-08\", \"Sector\": \"1. Surponiente\", \"Casos confirmados\": 383.7142857142857}]}}, {\"mode\": \"vega-lite\"});\n",
       "</script>"
      ],
      "text/plain": [
       "alt.VConcatChart(...)"
      ]
     },
     "execution_count": 51,
     "metadata": {},
     "output_type": "execute_result"
    }
   ],
   "source": [
    "#hide_input\n",
    "chart1 = alt.Chart(data).mark_area().encode(\n",
    "    x=alt.X(\"Fecha\", axis=alt.Axis(title=\"\", domain=False)),\n",
    "    y=alt.Y(\"Casos confirmados\", axis=None, stack=\"center\"),\n",
    "    tooltip = [\"Fecha\", \"Casos confirmados\"],\n",
    "    color = alt.Color(\"Sector\"),\n",
    ").properties(\n",
    "    title=\"Nuevos casos confirmados en la R.M. por zona geográfica (promedio móvil 7 días)\",\n",
    "    width=700)\n",
    "\n",
    "chart2 = alt.Chart(data).mark_bar().encode(\n",
    "    x=alt.X(\"Fecha\", axis=alt.Axis(title=\"\", domain=False, ticks=False, labels=False)),\n",
    "    y=alt.Y(\"Casos confirmados\", axis=alt.Axis(title=\"\", format='%'), stack=\"normalize\"),\n",
    "    tooltip = [\"Fecha\", \"Casos confirmados\"],\n",
    "    color = alt.Color(\"Sector\"),\n",
    ").properties(\n",
    "    height = 100,\n",
    "    width=700\n",
    ")\n",
    "\n",
    "alt.vconcat(\n",
    "    chart1,\n",
    "    chart2\n",
    ").configure_concat(\n",
    "    spacing=0\n",
    ")"
   ]
  },
  {
   "cell_type": "markdown",
   "metadata": {},
   "source": [
    "Fuentes: [Ministerio de Ciencia](https://github.com/MinCiencia/Datos-COVID19), [Ministerio de Salud](https://www.minsal.cl/), Para la agrupación de comunas en 7 sectores, la página Wikipedia [Comunas de Santiago de Chile](https://es.wikipedia.org/wiki/Anexo:Comunas_de_Santiago_de_Chile#Conurbaci%C3%B3n_de_Santiago)\n",
    "\n",
    "* No hay datos diarios de nuevos confirmados por comuna. Estos son estimados a través de una interpolación lineal entre las proporciones observadas entre los dos informes más cercanos en el tiempo y aplicados a casos confirmados regionales."
   ]
  },
  {
   "cell_type": "code",
   "execution_count": null,
   "metadata": {},
   "outputs": [],
   "source": []
  }
 ],
 "metadata": {
  "kernelspec": {
   "display_name": "Python 3",
   "language": "python",
   "name": "python3"
  },
  "language_info": {
   "codemirror_mode": {
    "name": "ipython",
    "version": 3
   },
   "file_extension": ".py",
   "mimetype": "text/x-python",
   "name": "python",
   "nbconvert_exporter": "python",
   "pygments_lexer": "ipython3",
   "version": "3.8.2"
  }
 },
 "nbformat": 4,
 "nbformat_minor": 4
}
