{
 "cells": [
  {
   "cell_type": "markdown",
   "metadata": {},
   "source": [
    "# Streamgraph en la R.M.\n",
    "> Streamgraph en la R.M.\n",
    "\n",
    "- toc: true \n",
    "- badges: true\n",
    "- comments: true\n",
    "- author: Alonso Silva Allende\n",
    "- categories: [jupyter]\n",
    "- image: images/fallecimientos.png"
   ]
  },
  {
   "cell_type": "code",
   "execution_count": 70,
   "metadata": {},
   "outputs": [],
   "source": [
    "#hide\n",
    "import numpy as np\n",
    "import pandas as pd\n",
    "import altair as alt"
   ]
  },
  {
   "cell_type": "code",
   "execution_count": 139,
   "metadata": {},
   "outputs": [],
   "source": [
    "#hide\n",
    "county_cumulative_cases = pd.read_csv(\n",
    "    \"https://raw.githubusercontent.com/MinCiencia/Datos-COVID19/master/output/producto1/Covid-19.csv\")"
   ]
  },
  {
   "cell_type": "code",
   "execution_count": 140,
   "metadata": {},
   "outputs": [],
   "source": [
    "#hide\n",
    "county_cumulative_cases_RM = county_cumulative_cases.query(\"Region=='Metropolitana'\").drop(\n",
    "    columns=[\"Region\", \"Codigo region\", \"Poblacion\", \"Tasa\", \"Codigo comuna\"])"
   ]
  },
  {
   "cell_type": "code",
   "execution_count": 141,
   "metadata": {},
   "outputs": [],
   "source": [
    "#hide\n",
    "county_cases_RM = county_cumulative_cases_RM.set_index(\"Comuna\").T.diff().drop(\"2020-03-30\").fillna(0)"
   ]
  },
  {
   "cell_type": "code",
   "execution_count": 142,
   "metadata": {},
   "outputs": [],
   "source": [
    "county_cases_RM[\"Total\"] = county_cases_RM.sum(axis=1)"
   ]
  },
  {
   "cell_type": "code",
   "execution_count": 143,
   "metadata": {},
   "outputs": [],
   "source": [
    "#hide\n",
    "county_cases_RM[\"Total\"] = county_cases_RM.sum(axis=1)\n",
    "county_cases_RM = county_cases_RM.T.apply(lambda x: x/x[-1]).T"
   ]
  },
  {
   "cell_type": "code",
   "execution_count": 144,
   "metadata": {},
   "outputs": [],
   "source": [
    "#hide\n",
    "start_date = county_cases_RM.reset_index()[\"index\"].iloc[0]\n",
    "end_date = county_cases_RM.reset_index()[\"index\"].iloc[-1]\n",
    "\n",
    "data = pd.DataFrame()\n",
    "data['Fecha'] = pd.date_range(start=start_date, end=end_date).strftime('%Y-%m-%d')\n",
    "data = data.set_index(\"Fecha\")"
   ]
  },
  {
   "cell_type": "code",
   "execution_count": 146,
   "metadata": {},
   "outputs": [],
   "source": [
    "#hide\n",
    "data[list(county_cases_RM.columns)] = county_cases_RM[list(county_cases_RM.columns)]"
   ]
  },
  {
   "cell_type": "code",
   "execution_count": 147,
   "metadata": {
    "scrolled": false
   },
   "outputs": [],
   "source": [
    "#hide\n",
    "data = data.interpolate(method=\"linear\")"
   ]
  },
  {
   "cell_type": "code",
   "execution_count": 148,
   "metadata": {},
   "outputs": [],
   "source": [
    "#hide\n",
    "last_known_proportion = data.iloc[-1]"
   ]
  },
  {
   "cell_type": "code",
   "execution_count": 149,
   "metadata": {},
   "outputs": [],
   "source": [
    "#hide\n",
    "regional_cumulative_cases = pd.read_csv(\n",
    "    'https://raw.githubusercontent.com/MinCiencia/Datos-COVID19/master/output/producto3/CasosTotalesCumulativo.csv')"
   ]
  },
  {
   "cell_type": "code",
   "execution_count": 150,
   "metadata": {},
   "outputs": [],
   "source": [
    "#hide\n",
    "regional_cumulative_cases_RM = regional_cumulative_cases.query(\"Region=='Metropolitana'\").iloc[-1].drop(\"Region\")\n",
    "regional_cases_RM = regional_cumulative_cases_RM.diff().dropna()"
   ]
  },
  {
   "cell_type": "code",
   "execution_count": 151,
   "metadata": {},
   "outputs": [
    {
     "data": {
      "text/plain": [
       "'2020-07-10'"
      ]
     },
     "execution_count": 151,
     "metadata": {},
     "output_type": "execute_result"
    }
   ],
   "source": [
    "#hide\n",
    "last_known_date = county_cases_RM.index[-1]\n",
    "last_known_date"
   ]
  },
  {
   "cell_type": "code",
   "execution_count": 152,
   "metadata": {},
   "outputs": [],
   "source": [
    "#hide\n",
    "n_missing_days = (pd.to_datetime(regional_cases_RM.index[-1])-pd.to_datetime(data.index[-1])).days"
   ]
  },
  {
   "cell_type": "code",
   "execution_count": 153,
   "metadata": {},
   "outputs": [],
   "source": [
    "#hide\n",
    "data = data.T"
   ]
  },
  {
   "cell_type": "code",
   "execution_count": 154,
   "metadata": {},
   "outputs": [
    {
     "name": "stdout",
     "output_type": "stream",
     "text": [
      "2020-07-11\n",
      "2020-07-12\n",
      "2020-07-13\n"
     ]
    }
   ],
   "source": [
    "#hide\n",
    "for i in np.arange(n_missing_days):\n",
    "    idx = (pd.to_datetime(last_known_date)+pd.DateOffset(1+i)).strftime(\"%Y-%m-%d\")\n",
    "    print(idx)\n",
    "    data[idx] = last_known_proportion"
   ]
  },
  {
   "cell_type": "code",
   "execution_count": 155,
   "metadata": {},
   "outputs": [],
   "source": [
    "#hide\n",
    "data = data.T"
   ]
  },
  {
   "cell_type": "code",
   "execution_count": 156,
   "metadata": {},
   "outputs": [],
   "source": [
    "#hide\n",
    "data[\"Regional\"] = regional_cases_RM"
   ]
  },
  {
   "cell_type": "code",
   "execution_count": 157,
   "metadata": {
    "scrolled": true
   },
   "outputs": [
    {
     "data": {
      "text/plain": [
       "32230"
      ]
     },
     "execution_count": 157,
     "metadata": {},
     "output_type": "execute_result"
    }
   ],
   "source": [
    "#hide\n",
    "outlier = data.loc[\"2020-06-17\",\"Regional\"]\n",
    "outlier"
   ]
  },
  {
   "cell_type": "code",
   "execution_count": 158,
   "metadata": {},
   "outputs": [],
   "source": [
    "#hide\n",
    "data.loc[\"2020-06-17\",\"Regional\"] = data.loc[\"2020-06-16\",\"Regional\"]"
   ]
  },
  {
   "cell_type": "code",
   "execution_count": 159,
   "metadata": {},
   "outputs": [
    {
     "data": {
      "text/plain": [
       "150904"
      ]
     },
     "execution_count": 159,
     "metadata": {},
     "output_type": "execute_result"
    }
   ],
   "source": [
    "#hide\n",
    "total = data.loc[:\"2020-06-17\", \"Regional\"].sum()\n",
    "total"
   ]
  },
  {
   "cell_type": "code",
   "execution_count": 160,
   "metadata": {},
   "outputs": [
    {
     "data": {
      "text/plain": [
       "Fecha\n",
       "2020-06-16    0.0266527\n",
       "2020-06-17    0.0266527\n",
       "Name: Regional, dtype: object"
      ]
     },
     "execution_count": 160,
     "metadata": {},
     "output_type": "execute_result"
    }
   ],
   "source": [
    "#hide\n",
    "proportion = data.loc[:\"2020-06-17\", \"Regional\"]/total\n",
    "proportion.tail(2)"
   ]
  },
  {
   "cell_type": "code",
   "execution_count": 161,
   "metadata": {},
   "outputs": [],
   "source": [
    "#hide\n",
    "data.loc[:\"2020-06-17\", \"Regional\"] = data.loc[:\"2020-06-17\", \"Regional\"] + (proportion*outlier).astype(int)"
   ]
  },
  {
   "cell_type": "code",
   "execution_count": 162,
   "metadata": {
    "scrolled": true
   },
   "outputs": [],
   "source": [
    "#hide\n",
    "data = data.T.apply(lambda x: x[:-1]*x[-1]).T.astype(int)"
   ]
  },
  {
   "cell_type": "code",
   "execution_count": 163,
   "metadata": {},
   "outputs": [],
   "source": [
    "#hide\n",
    "list_verde = ['La Reina', 'Las Condes', 'Lo Barnechea', 'Nunoa',  'Providencia', 'Vitacura']\n",
    "list_rojo = ['Santiago', 'Conchali', 'Huechuraba', 'Independencia', 'Recoleta', 'Quilicura',\n",
    "            'Cerro Navia', 'Lo Prado', 'Pudahuel', 'Quinta Normal', 'Renca',\n",
    "            'Estacion Central', 'Maipu', 'Cerrillos', 'Padre Hurtado', 'Penaflor']\n",
    "list_azul = ['Pedro Aguirre Cerda', 'San Miguel', 'San Joaquin', 'Lo Espejo', 'La Cisterna', \\\n",
    "           'La Granja', 'San Ramon', 'El Bosque', 'San Bernardo', 'La Pintana',\n",
    "            \"Macul\", \"La Florida\", 'Penalolen', \"Puente Alto\"]"
   ]
  },
  {
   "cell_type": "code",
   "execution_count": 164,
   "metadata": {},
   "outputs": [],
   "source": [
    "#hide\n",
    "cases_verde = data[list_verde]\n",
    "cases_rojo = data[list_rojo]\n",
    "cases_azul = data[list_azul]"
   ]
  },
  {
   "cell_type": "markdown",
   "metadata": {},
   "source": [
    "Mapas de [Juanizio Correa](https://twitter.com/Juanizio_C):"
   ]
  },
  {
   "cell_type": "markdown",
   "metadata": {},
   "source": [
    "> twitter: https://twitter.com/PolarBearby/status/1265826899198017536"
   ]
  },
  {
   "cell_type": "code",
   "execution_count": 165,
   "metadata": {},
   "outputs": [],
   "source": [
    "#hide\n",
    "# data = pd.DataFrame()\n",
    "# data[\"Verde\"] = np.round(cases_verde.sum(axis=1).rolling(window=7).mean())\n",
    "# data[\"Rojo\"] = np.round(cases_rojo.sum(axis=1).rolling(window=7).mean())\n",
    "# data[\"Azul\"] = np.round(cases_azul.sum(axis=1).rolling(window=7).mean())"
   ]
  },
  {
   "cell_type": "code",
   "execution_count": 166,
   "metadata": {},
   "outputs": [],
   "source": [
    "#hide\n",
    "data = pd.DataFrame()\n",
    "data[\"Verde\"] = cases_verde.sum(axis=1)\n",
    "data[\"Rojo\"] = cases_rojo.sum(axis=1)\n",
    "data[\"Azul\"] = cases_azul.sum(axis=1)"
   ]
  },
  {
   "cell_type": "code",
   "execution_count": 167,
   "metadata": {},
   "outputs": [],
   "source": [
    "#hide\n",
    "data_total = data.sum(axis=1)"
   ]
  },
  {
   "cell_type": "code",
   "execution_count": 168,
   "metadata": {},
   "outputs": [],
   "source": [
    "#hide\n",
    "data_percentage = pd.DataFrame()\n",
    "data_percentage[\"Verde\"] = np.round(100*data[\"Verde\"]/data_total, decimals=1)\n",
    "data_percentage[\"Rojo\"] = np.round(100*data[\"Rojo\"]/data_total, decimals=1)\n",
    "data_percentage[\"Azul\"] = np.round(100*data[\"Azul\"]/data_total, decimals=1)"
   ]
  },
  {
   "cell_type": "code",
   "execution_count": 169,
   "metadata": {},
   "outputs": [],
   "source": [
    "#hide\n",
    "data = pd.DataFrame()\n",
    "data[\"Verde\"] = np.round(cases_verde.sum(axis=1).rolling(window=7).mean())\n",
    "data[\"Rojo\"] = np.round(cases_rojo.sum(axis=1).rolling(window=7).mean())\n",
    "data[\"Azul\"] = np.round(cases_azul.sum(axis=1).rolling(window=7).mean())"
   ]
  },
  {
   "cell_type": "code",
   "execution_count": 170,
   "metadata": {},
   "outputs": [],
   "source": [
    "#hide\n",
    "data = data.reset_index().melt(\"Fecha\", var_name=\"Sector\", value_name=\"Casos confirmados\")"
   ]
  },
  {
   "cell_type": "code",
   "execution_count": 171,
   "metadata": {},
   "outputs": [],
   "source": [
    "#hide\n",
    "data_percentage = data_percentage.reset_index().melt(\"Fecha\", var_name=\"Sector\", value_name=\"Porcentaje\")"
   ]
  },
  {
   "cell_type": "code",
   "execution_count": 172,
   "metadata": {
    "scrolled": false
   },
   "outputs": [
    {
     "data": {
      "text/html": [
       "\n",
       "<div id=\"altair-viz-920ec322646745819f8842e98145b6c4\"></div>\n",
       "<script type=\"text/javascript\">\n",
       "  (function(spec, embedOpt){\n",
       "    let outputDiv = document.currentScript.previousElementSibling;\n",
       "    if (outputDiv.id !== \"altair-viz-920ec322646745819f8842e98145b6c4\") {\n",
       "      outputDiv = document.getElementById(\"altair-viz-920ec322646745819f8842e98145b6c4\");\n",
       "    }\n",
       "    const paths = {\n",
       "      \"vega\": \"https://cdn.jsdelivr.net/npm//vega@5?noext\",\n",
       "      \"vega-lib\": \"https://cdn.jsdelivr.net/npm//vega-lib?noext\",\n",
       "      \"vega-lite\": \"https://cdn.jsdelivr.net/npm//vega-lite@4.8.1?noext\",\n",
       "      \"vega-embed\": \"https://cdn.jsdelivr.net/npm//vega-embed@6?noext\",\n",
       "    };\n",
       "\n",
       "    function loadScript(lib) {\n",
       "      return new Promise(function(resolve, reject) {\n",
       "        var s = document.createElement('script');\n",
       "        s.src = paths[lib];\n",
       "        s.async = true;\n",
       "        s.onload = () => resolve(paths[lib]);\n",
       "        s.onerror = () => reject(`Error loading script: ${paths[lib]}`);\n",
       "        document.getElementsByTagName(\"head\")[0].appendChild(s);\n",
       "      });\n",
       "    }\n",
       "\n",
       "    function showError(err) {\n",
       "      outputDiv.innerHTML = `<div class=\"error\" style=\"color:red;\">${err}</div>`;\n",
       "      throw err;\n",
       "    }\n",
       "\n",
       "    function displayChart(vegaEmbed) {\n",
       "      vegaEmbed(outputDiv, spec, embedOpt)\n",
       "        .catch(err => showError(`Javascript Error: ${err.message}<br>This usually means there's a typo in your chart specification. See the javascript console for the full traceback.`));\n",
       "    }\n",
       "\n",
       "    if(typeof define === \"function\" && define.amd) {\n",
       "      requirejs.config({paths});\n",
       "      require([\"vega-embed\"], displayChart, err => showError(`Error loading script: ${err.message}`));\n",
       "    } else if (typeof vegaEmbed === \"function\") {\n",
       "      displayChart(vegaEmbed);\n",
       "    } else {\n",
       "      loadScript(\"vega\")\n",
       "        .then(() => loadScript(\"vega-lite\"))\n",
       "        .then(() => loadScript(\"vega-embed\"))\n",
       "        .catch(showError)\n",
       "        .then(() => displayChart(vegaEmbed));\n",
       "    }\n",
       "  })({\"config\": {\"view\": {\"continuousWidth\": 400, \"continuousHeight\": 300}, \"concat\": {\"spacing\": 0}}, \"vconcat\": [{\"data\": {\"name\": \"data-54ec6663a7da3dfc48885f6bef3dbc97\"}, \"mark\": \"area\", \"encoding\": {\"color\": {\"type\": \"nominal\", \"field\": \"Sector\", \"scale\": {\"domain\": [\"Azul\", \"Rojo\", \"Verde\"], \"range\": [\"blue\", \"red\", \"green\"]}}, \"tooltip\": [{\"type\": \"nominal\", \"field\": \"Fecha\"}, {\"type\": \"quantitative\", \"field\": \"Casos confirmados\"}], \"x\": {\"type\": \"nominal\", \"axis\": {\"domain\": false, \"title\": \"\"}, \"field\": \"Fecha\"}, \"y\": {\"type\": \"quantitative\", \"axis\": null, \"field\": \"Casos confirmados\", \"stack\": \"center\"}}, \"title\": \"Nuevos casos confirmados en la R.M. por zona socioecon\\u00f3mica (promedio m\\u00f3vil 7 d\\u00edas)\", \"width\": 700}, {\"data\": {\"name\": \"data-14f3125026826d6c61fe29f19023851d\"}, \"mark\": \"bar\", \"encoding\": {\"color\": {\"type\": \"nominal\", \"field\": \"Sector\"}, \"tooltip\": [{\"type\": \"nominal\", \"field\": \"Fecha\"}, {\"type\": \"quantitative\", \"field\": \"Porcentaje\"}], \"x\": {\"type\": \"nominal\", \"axis\": {\"domain\": false, \"labels\": false, \"ticks\": false, \"title\": \"\"}, \"field\": \"Fecha\"}, \"y\": {\"type\": \"quantitative\", \"axis\": {\"format\": \"%\", \"title\": \"\"}, \"field\": \"Porcentaje\", \"stack\": \"normalize\"}}, \"height\": 100, \"width\": 700}], \"$schema\": \"https://vega.github.io/schema/vega-lite/v4.8.1.json\", \"datasets\": {\"data-54ec6663a7da3dfc48885f6bef3dbc97\": [{\"Fecha\": \"2020-04-01\", \"Sector\": \"Verde\", \"Casos confirmados\": null}, {\"Fecha\": \"2020-04-02\", \"Sector\": \"Verde\", \"Casos confirmados\": null}, {\"Fecha\": \"2020-04-03\", \"Sector\": \"Verde\", \"Casos confirmados\": null}, {\"Fecha\": \"2020-04-04\", \"Sector\": \"Verde\", \"Casos confirmados\": null}, {\"Fecha\": \"2020-04-05\", \"Sector\": \"Verde\", \"Casos confirmados\": null}, {\"Fecha\": \"2020-04-06\", \"Sector\": \"Verde\", \"Casos confirmados\": null}, {\"Fecha\": \"2020-04-07\", \"Sector\": \"Verde\", \"Casos confirmados\": 13.0}, {\"Fecha\": \"2020-04-08\", \"Sector\": \"Verde\", \"Casos confirmados\": 14.0}, {\"Fecha\": \"2020-04-09\", \"Sector\": \"Verde\", \"Casos confirmados\": 14.0}, {\"Fecha\": \"2020-04-10\", \"Sector\": \"Verde\", \"Casos confirmados\": 16.0}, {\"Fecha\": \"2020-04-11\", \"Sector\": \"Verde\", \"Casos confirmados\": 15.0}, {\"Fecha\": \"2020-04-12\", \"Sector\": \"Verde\", \"Casos confirmados\": 14.0}, {\"Fecha\": \"2020-04-13\", \"Sector\": \"Verde\", \"Casos confirmados\": 13.0}, {\"Fecha\": \"2020-04-14\", \"Sector\": \"Verde\", \"Casos confirmados\": 15.0}, {\"Fecha\": \"2020-04-15\", \"Sector\": \"Verde\", \"Casos confirmados\": 15.0}, {\"Fecha\": \"2020-04-16\", \"Sector\": \"Verde\", \"Casos confirmados\": 15.0}, {\"Fecha\": \"2020-04-17\", \"Sector\": \"Verde\", \"Casos confirmados\": 13.0}, {\"Fecha\": \"2020-04-18\", \"Sector\": \"Verde\", \"Casos confirmados\": 14.0}, {\"Fecha\": \"2020-04-19\", \"Sector\": \"Verde\", \"Casos confirmados\": 14.0}, {\"Fecha\": \"2020-04-20\", \"Sector\": \"Verde\", \"Casos confirmados\": 14.0}, {\"Fecha\": \"2020-04-21\", \"Sector\": \"Verde\", \"Casos confirmados\": 13.0}, {\"Fecha\": \"2020-04-22\", \"Sector\": \"Verde\", \"Casos confirmados\": 13.0}, {\"Fecha\": \"2020-04-23\", \"Sector\": \"Verde\", \"Casos confirmados\": 11.0}, {\"Fecha\": \"2020-04-24\", \"Sector\": \"Verde\", \"Casos confirmados\": 11.0}, {\"Fecha\": \"2020-04-25\", \"Sector\": \"Verde\", \"Casos confirmados\": 11.0}, {\"Fecha\": \"2020-04-26\", \"Sector\": \"Verde\", \"Casos confirmados\": 11.0}, {\"Fecha\": \"2020-04-27\", \"Sector\": \"Verde\", \"Casos confirmados\": 11.0}, {\"Fecha\": \"2020-04-28\", \"Sector\": \"Verde\", \"Casos confirmados\": 13.0}, {\"Fecha\": \"2020-04-29\", \"Sector\": \"Verde\", \"Casos confirmados\": 15.0}, {\"Fecha\": \"2020-04-30\", \"Sector\": \"Verde\", \"Casos confirmados\": 17.0}, {\"Fecha\": \"2020-05-01\", \"Sector\": \"Verde\", \"Casos confirmados\": 21.0}, {\"Fecha\": \"2020-05-02\", \"Sector\": \"Verde\", \"Casos confirmados\": 25.0}, {\"Fecha\": \"2020-05-03\", \"Sector\": \"Verde\", \"Casos confirmados\": 29.0}, {\"Fecha\": \"2020-05-04\", \"Sector\": \"Verde\", \"Casos confirmados\": 33.0}, {\"Fecha\": \"2020-05-05\", \"Sector\": \"Verde\", \"Casos confirmados\": 38.0}, {\"Fecha\": \"2020-05-06\", \"Sector\": \"Verde\", \"Casos confirmados\": 40.0}, {\"Fecha\": \"2020-05-07\", \"Sector\": \"Verde\", \"Casos confirmados\": 46.0}, {\"Fecha\": \"2020-05-08\", \"Sector\": \"Verde\", \"Casos confirmados\": 51.0}, {\"Fecha\": \"2020-05-09\", \"Sector\": \"Verde\", \"Casos confirmados\": 52.0}, {\"Fecha\": \"2020-05-10\", \"Sector\": \"Verde\", \"Casos confirmados\": 58.0}, {\"Fecha\": \"2020-05-11\", \"Sector\": \"Verde\", \"Casos confirmados\": 61.0}, {\"Fecha\": \"2020-05-12\", \"Sector\": \"Verde\", \"Casos confirmados\": 65.0}, {\"Fecha\": \"2020-05-13\", \"Sector\": \"Verde\", \"Casos confirmados\": 77.0}, {\"Fecha\": \"2020-05-14\", \"Sector\": \"Verde\", \"Casos confirmados\": 85.0}, {\"Fecha\": \"2020-05-15\", \"Sector\": \"Verde\", \"Casos confirmados\": 92.0}, {\"Fecha\": \"2020-05-16\", \"Sector\": \"Verde\", \"Casos confirmados\": 95.0}, {\"Fecha\": \"2020-05-17\", \"Sector\": \"Verde\", \"Casos confirmados\": 97.0}, {\"Fecha\": \"2020-05-18\", \"Sector\": \"Verde\", \"Casos confirmados\": 101.0}, {\"Fecha\": \"2020-05-19\", \"Sector\": \"Verde\", \"Casos confirmados\": 112.0}, {\"Fecha\": \"2020-05-20\", \"Sector\": \"Verde\", \"Casos confirmados\": 119.0}, {\"Fecha\": \"2020-05-21\", \"Sector\": \"Verde\", \"Casos confirmados\": 126.0}, {\"Fecha\": \"2020-05-22\", \"Sector\": \"Verde\", \"Casos confirmados\": 137.0}, {\"Fecha\": \"2020-05-23\", \"Sector\": \"Verde\", \"Casos confirmados\": 149.0}, {\"Fecha\": \"2020-05-24\", \"Sector\": \"Verde\", \"Casos confirmados\": 161.0}, {\"Fecha\": \"2020-05-25\", \"Sector\": \"Verde\", \"Casos confirmados\": 186.0}, {\"Fecha\": \"2020-05-26\", \"Sector\": \"Verde\", \"Casos confirmados\": 191.0}, {\"Fecha\": \"2020-05-27\", \"Sector\": \"Verde\", \"Casos confirmados\": 196.0}, {\"Fecha\": \"2020-05-28\", \"Sector\": \"Verde\", \"Casos confirmados\": 204.0}, {\"Fecha\": \"2020-05-29\", \"Sector\": \"Verde\", \"Casos confirmados\": 201.0}, {\"Fecha\": \"2020-05-30\", \"Sector\": \"Verde\", \"Casos confirmados\": 203.0}, {\"Fecha\": \"2020-05-31\", \"Sector\": \"Verde\", \"Casos confirmados\": 209.0}, {\"Fecha\": \"2020-06-01\", \"Sector\": \"Verde\", \"Casos confirmados\": 205.0}, {\"Fecha\": \"2020-06-02\", \"Sector\": \"Verde\", \"Casos confirmados\": 198.0}, {\"Fecha\": \"2020-06-03\", \"Sector\": \"Verde\", \"Casos confirmados\": 195.0}, {\"Fecha\": \"2020-06-04\", \"Sector\": \"Verde\", \"Casos confirmados\": 190.0}, {\"Fecha\": \"2020-06-05\", \"Sector\": \"Verde\", \"Casos confirmados\": 189.0}, {\"Fecha\": \"2020-06-06\", \"Sector\": \"Verde\", \"Casos confirmados\": 192.0}, {\"Fecha\": \"2020-06-07\", \"Sector\": \"Verde\", \"Casos confirmados\": 197.0}, {\"Fecha\": \"2020-06-08\", \"Sector\": \"Verde\", \"Casos confirmados\": 189.0}, {\"Fecha\": \"2020-06-09\", \"Sector\": \"Verde\", \"Casos confirmados\": 188.0}, {\"Fecha\": \"2020-06-10\", \"Sector\": \"Verde\", \"Casos confirmados\": 190.0}, {\"Fecha\": \"2020-06-11\", \"Sector\": \"Verde\", \"Casos confirmados\": 192.0}, {\"Fecha\": \"2020-06-12\", \"Sector\": \"Verde\", \"Casos confirmados\": 205.0}, {\"Fecha\": \"2020-06-13\", \"Sector\": \"Verde\", \"Casos confirmados\": 206.0}, {\"Fecha\": \"2020-06-14\", \"Sector\": \"Verde\", \"Casos confirmados\": 201.0}, {\"Fecha\": \"2020-06-15\", \"Sector\": \"Verde\", \"Casos confirmados\": 197.0}, {\"Fecha\": \"2020-06-16\", \"Sector\": \"Verde\", \"Casos confirmados\": 197.0}, {\"Fecha\": \"2020-06-17\", \"Sector\": \"Verde\", \"Casos confirmados\": 187.0}, {\"Fecha\": \"2020-06-18\", \"Sector\": \"Verde\", \"Casos confirmados\": 170.0}, {\"Fecha\": \"2020-06-19\", \"Sector\": \"Verde\", \"Casos confirmados\": 152.0}, {\"Fecha\": \"2020-06-20\", \"Sector\": \"Verde\", \"Casos confirmados\": 136.0}, {\"Fecha\": \"2020-06-21\", \"Sector\": \"Verde\", \"Casos confirmados\": 121.0}, {\"Fecha\": \"2020-06-22\", \"Sector\": \"Verde\", \"Casos confirmados\": 115.0}, {\"Fecha\": \"2020-06-23\", \"Sector\": \"Verde\", \"Casos confirmados\": 106.0}, {\"Fecha\": \"2020-06-24\", \"Sector\": \"Verde\", \"Casos confirmados\": 97.0}, {\"Fecha\": \"2020-06-25\", \"Sector\": \"Verde\", \"Casos confirmados\": 99.0}, {\"Fecha\": \"2020-06-26\", \"Sector\": \"Verde\", \"Casos confirmados\": 94.0}, {\"Fecha\": \"2020-06-27\", \"Sector\": \"Verde\", \"Casos confirmados\": 94.0}, {\"Fecha\": \"2020-06-28\", \"Sector\": \"Verde\", \"Casos confirmados\": 91.0}, {\"Fecha\": \"2020-06-29\", \"Sector\": \"Verde\", \"Casos confirmados\": 91.0}, {\"Fecha\": \"2020-06-30\", \"Sector\": \"Verde\", \"Casos confirmados\": 90.0}, {\"Fecha\": \"2020-07-01\", \"Sector\": \"Verde\", \"Casos confirmados\": 85.0}, {\"Fecha\": \"2020-07-02\", \"Sector\": \"Verde\", \"Casos confirmados\": 76.0}, {\"Fecha\": \"2020-07-03\", \"Sector\": \"Verde\", \"Casos confirmados\": 74.0}, {\"Fecha\": \"2020-07-04\", \"Sector\": \"Verde\", \"Casos confirmados\": 70.0}, {\"Fecha\": \"2020-07-05\", \"Sector\": \"Verde\", \"Casos confirmados\": 67.0}, {\"Fecha\": \"2020-07-06\", \"Sector\": \"Verde\", \"Casos confirmados\": 63.0}, {\"Fecha\": \"2020-07-07\", \"Sector\": \"Verde\", \"Casos confirmados\": 60.0}, {\"Fecha\": \"2020-07-08\", \"Sector\": \"Verde\", \"Casos confirmados\": 59.0}, {\"Fecha\": \"2020-07-09\", \"Sector\": \"Verde\", \"Casos confirmados\": 62.0}, {\"Fecha\": \"2020-07-10\", \"Sector\": \"Verde\", \"Casos confirmados\": 59.0}, {\"Fecha\": \"2020-07-11\", \"Sector\": \"Verde\", \"Casos confirmados\": 54.0}, {\"Fecha\": \"2020-07-12\", \"Sector\": \"Verde\", \"Casos confirmados\": 51.0}, {\"Fecha\": \"2020-07-13\", \"Sector\": \"Verde\", \"Casos confirmados\": 49.0}, {\"Fecha\": \"2020-04-01\", \"Sector\": \"Rojo\", \"Casos confirmados\": null}, {\"Fecha\": \"2020-04-02\", \"Sector\": \"Rojo\", \"Casos confirmados\": null}, {\"Fecha\": \"2020-04-03\", \"Sector\": \"Rojo\", \"Casos confirmados\": null}, {\"Fecha\": \"2020-04-04\", \"Sector\": \"Rojo\", \"Casos confirmados\": null}, {\"Fecha\": \"2020-04-05\", \"Sector\": \"Rojo\", \"Casos confirmados\": null}, {\"Fecha\": \"2020-04-06\", \"Sector\": \"Rojo\", \"Casos confirmados\": null}, {\"Fecha\": \"2020-04-07\", \"Sector\": \"Rojo\", \"Casos confirmados\": 21.0}, {\"Fecha\": \"2020-04-08\", \"Sector\": \"Rojo\", \"Casos confirmados\": 25.0}, {\"Fecha\": \"2020-04-09\", \"Sector\": \"Rojo\", \"Casos confirmados\": 32.0}, {\"Fecha\": \"2020-04-10\", \"Sector\": \"Rojo\", \"Casos confirmados\": 40.0}, {\"Fecha\": \"2020-04-11\", \"Sector\": \"Rojo\", \"Casos confirmados\": 42.0}, {\"Fecha\": \"2020-04-12\", \"Sector\": \"Rojo\", \"Casos confirmados\": 42.0}, {\"Fecha\": \"2020-04-13\", \"Sector\": \"Rojo\", \"Casos confirmados\": 43.0}, {\"Fecha\": \"2020-04-14\", \"Sector\": \"Rojo\", \"Casos confirmados\": 50.0}, {\"Fecha\": \"2020-04-15\", \"Sector\": \"Rojo\", \"Casos confirmados\": 52.0}, {\"Fecha\": \"2020-04-16\", \"Sector\": \"Rojo\", \"Casos confirmados\": 55.0}, {\"Fecha\": \"2020-04-17\", \"Sector\": \"Rojo\", \"Casos confirmados\": 52.0}, {\"Fecha\": \"2020-04-18\", \"Sector\": \"Rojo\", \"Casos confirmados\": 53.0}, {\"Fecha\": \"2020-04-19\", \"Sector\": \"Rojo\", \"Casos confirmados\": 55.0}, {\"Fecha\": \"2020-04-20\", \"Sector\": \"Rojo\", \"Casos confirmados\": 58.0}, {\"Fecha\": \"2020-04-21\", \"Sector\": \"Rojo\", \"Casos confirmados\": 53.0}, {\"Fecha\": \"2020-04-22\", \"Sector\": \"Rojo\", \"Casos confirmados\": 55.0}, {\"Fecha\": \"2020-04-23\", \"Sector\": \"Rojo\", \"Casos confirmados\": 56.0}, {\"Fecha\": \"2020-04-24\", \"Sector\": \"Rojo\", \"Casos confirmados\": 61.0}, {\"Fecha\": \"2020-04-25\", \"Sector\": \"Rojo\", \"Casos confirmados\": 67.0}, {\"Fecha\": \"2020-04-26\", \"Sector\": \"Rojo\", \"Casos confirmados\": 73.0}, {\"Fecha\": \"2020-04-27\", \"Sector\": \"Rojo\", \"Casos confirmados\": 78.0}, {\"Fecha\": \"2020-04-28\", \"Sector\": \"Rojo\", \"Casos confirmados\": 92.0}, {\"Fecha\": \"2020-04-29\", \"Sector\": \"Rojo\", \"Casos confirmados\": 107.0}, {\"Fecha\": \"2020-04-30\", \"Sector\": \"Rojo\", \"Casos confirmados\": 127.0}, {\"Fecha\": \"2020-05-01\", \"Sector\": \"Rojo\", \"Casos confirmados\": 158.0}, {\"Fecha\": \"2020-05-02\", \"Sector\": \"Rojo\", \"Casos confirmados\": 196.0}, {\"Fecha\": \"2020-05-03\", \"Sector\": \"Rojo\", \"Casos confirmados\": 229.0}, {\"Fecha\": \"2020-05-04\", \"Sector\": \"Rojo\", \"Casos confirmados\": 254.0}, {\"Fecha\": \"2020-05-05\", \"Sector\": \"Rojo\", \"Casos confirmados\": 287.0}, {\"Fecha\": \"2020-05-06\", \"Sector\": \"Rojo\", \"Casos confirmados\": 297.0}, {\"Fecha\": \"2020-05-07\", \"Sector\": \"Rojo\", \"Casos confirmados\": 313.0}, {\"Fecha\": \"2020-05-08\", \"Sector\": \"Rojo\", \"Casos confirmados\": 314.0}, {\"Fecha\": \"2020-05-09\", \"Sector\": \"Rojo\", \"Casos confirmados\": 297.0}, {\"Fecha\": \"2020-05-10\", \"Sector\": \"Rojo\", \"Casos confirmados\": 303.0}, {\"Fecha\": \"2020-05-11\", \"Sector\": \"Rojo\", \"Casos confirmados\": 300.0}, {\"Fecha\": \"2020-05-12\", \"Sector\": \"Rojo\", \"Casos confirmados\": 298.0}, {\"Fecha\": \"2020-05-13\", \"Sector\": \"Rojo\", \"Casos confirmados\": 340.0}, {\"Fecha\": \"2020-05-14\", \"Sector\": \"Rojo\", \"Casos confirmados\": 367.0}, {\"Fecha\": \"2020-05-15\", \"Sector\": \"Rojo\", \"Casos confirmados\": 391.0}, {\"Fecha\": \"2020-05-16\", \"Sector\": \"Rojo\", \"Casos confirmados\": 401.0}, {\"Fecha\": \"2020-05-17\", \"Sector\": \"Rojo\", \"Casos confirmados\": 405.0}, {\"Fecha\": \"2020-05-18\", \"Sector\": \"Rojo\", \"Casos confirmados\": 418.0}, {\"Fecha\": \"2020-05-19\", \"Sector\": \"Rojo\", \"Casos confirmados\": 461.0}, {\"Fecha\": \"2020-05-20\", \"Sector\": \"Rojo\", \"Casos confirmados\": 497.0}, {\"Fecha\": \"2020-05-21\", \"Sector\": \"Rojo\", \"Casos confirmados\": 536.0}, {\"Fecha\": \"2020-05-22\", \"Sector\": \"Rojo\", \"Casos confirmados\": 600.0}, {\"Fecha\": \"2020-05-23\", \"Sector\": \"Rojo\", \"Casos confirmados\": 659.0}, {\"Fecha\": \"2020-05-24\", \"Sector\": \"Rojo\", \"Casos confirmados\": 711.0}, {\"Fecha\": \"2020-05-25\", \"Sector\": \"Rojo\", \"Casos confirmados\": 809.0}, {\"Fecha\": \"2020-05-26\", \"Sector\": \"Rojo\", \"Casos confirmados\": 831.0}, {\"Fecha\": \"2020-05-27\", \"Sector\": \"Rojo\", \"Casos confirmados\": 848.0}, {\"Fecha\": \"2020-05-28\", \"Sector\": \"Rojo\", \"Casos confirmados\": 873.0}, {\"Fecha\": \"2020-05-29\", \"Sector\": \"Rojo\", \"Casos confirmados\": 852.0}, {\"Fecha\": \"2020-05-30\", \"Sector\": \"Rojo\", \"Casos confirmados\": 869.0}, {\"Fecha\": \"2020-05-31\", \"Sector\": \"Rojo\", \"Casos confirmados\": 918.0}, {\"Fecha\": \"2020-06-01\", \"Sector\": \"Rojo\", \"Casos confirmados\": 947.0}, {\"Fecha\": \"2020-06-02\", \"Sector\": \"Rojo\", \"Casos confirmados\": 941.0}, {\"Fecha\": \"2020-06-03\", \"Sector\": \"Rojo\", \"Casos confirmados\": 957.0}, {\"Fecha\": \"2020-06-04\", \"Sector\": \"Rojo\", \"Casos confirmados\": 953.0}, {\"Fecha\": \"2020-06-05\", \"Sector\": \"Rojo\", \"Casos confirmados\": 960.0}, {\"Fecha\": \"2020-06-06\", \"Sector\": \"Rojo\", \"Casos confirmados\": 981.0}, {\"Fecha\": \"2020-06-07\", \"Sector\": \"Rojo\", \"Casos confirmados\": 999.0}, {\"Fecha\": \"2020-06-08\", \"Sector\": \"Rojo\", \"Casos confirmados\": 938.0}, {\"Fecha\": \"2020-06-09\", \"Sector\": \"Rojo\", \"Casos confirmados\": 925.0}, {\"Fecha\": \"2020-06-10\", \"Sector\": \"Rojo\", \"Casos confirmados\": 931.0}, {\"Fecha\": \"2020-06-11\", \"Sector\": \"Rojo\", \"Casos confirmados\": 944.0}, {\"Fecha\": \"2020-06-12\", \"Sector\": \"Rojo\", \"Casos confirmados\": 1021.0}, {\"Fecha\": \"2020-06-13\", \"Sector\": \"Rojo\", \"Casos confirmados\": 1063.0}, {\"Fecha\": \"2020-06-14\", \"Sector\": \"Rojo\", \"Casos confirmados\": 1107.0}, {\"Fecha\": \"2020-06-15\", \"Sector\": \"Rojo\", \"Casos confirmados\": 1149.0}, {\"Fecha\": \"2020-06-16\", \"Sector\": \"Rojo\", \"Casos confirmados\": 1211.0}, {\"Fecha\": \"2020-06-17\", \"Sector\": \"Rojo\", \"Casos confirmados\": 1213.0}, {\"Fecha\": \"2020-06-18\", \"Sector\": \"Rojo\", \"Casos confirmados\": 1157.0}, {\"Fecha\": \"2020-06-19\", \"Sector\": \"Rojo\", \"Casos confirmados\": 1095.0}, {\"Fecha\": \"2020-06-20\", \"Sector\": \"Rojo\", \"Casos confirmados\": 1016.0}, {\"Fecha\": \"2020-06-21\", \"Sector\": \"Rojo\", \"Casos confirmados\": 910.0}, {\"Fecha\": \"2020-06-22\", \"Sector\": \"Rojo\", \"Casos confirmados\": 842.0}, {\"Fecha\": \"2020-06-23\", \"Sector\": \"Rojo\", \"Casos confirmados\": 754.0}, {\"Fecha\": \"2020-06-24\", \"Sector\": \"Rojo\", \"Casos confirmados\": 668.0}, {\"Fecha\": \"2020-06-25\", \"Sector\": \"Rojo\", \"Casos confirmados\": 663.0}, {\"Fecha\": \"2020-06-26\", \"Sector\": \"Rojo\", \"Casos confirmados\": 606.0}, {\"Fecha\": \"2020-06-27\", \"Sector\": \"Rojo\", \"Casos confirmados\": 585.0}, {\"Fecha\": \"2020-06-28\", \"Sector\": \"Rojo\", \"Casos confirmados\": 549.0}, {\"Fecha\": \"2020-06-29\", \"Sector\": \"Rojo\", \"Casos confirmados\": 530.0}, {\"Fecha\": \"2020-06-30\", \"Sector\": \"Rojo\", \"Casos confirmados\": 518.0}, {\"Fecha\": \"2020-07-01\", \"Sector\": \"Rojo\", \"Casos confirmados\": 481.0}, {\"Fecha\": \"2020-07-02\", \"Sector\": \"Rojo\", \"Casos confirmados\": 427.0}, {\"Fecha\": \"2020-07-03\", \"Sector\": \"Rojo\", \"Casos confirmados\": 405.0}, {\"Fecha\": \"2020-07-04\", \"Sector\": \"Rojo\", \"Casos confirmados\": 378.0}, {\"Fecha\": \"2020-07-05\", \"Sector\": \"Rojo\", \"Casos confirmados\": 361.0}, {\"Fecha\": \"2020-07-06\", \"Sector\": \"Rojo\", \"Casos confirmados\": 337.0}, {\"Fecha\": \"2020-07-07\", \"Sector\": \"Rojo\", \"Casos confirmados\": 316.0}, {\"Fecha\": \"2020-07-08\", \"Sector\": \"Rojo\", \"Casos confirmados\": 312.0}, {\"Fecha\": \"2020-07-09\", \"Sector\": \"Rojo\", \"Casos confirmados\": 327.0}, {\"Fecha\": \"2020-07-10\", \"Sector\": \"Rojo\", \"Casos confirmados\": 317.0}, {\"Fecha\": \"2020-07-11\", \"Sector\": \"Rojo\", \"Casos confirmados\": 295.0}, {\"Fecha\": \"2020-07-12\", \"Sector\": \"Rojo\", \"Casos confirmados\": 285.0}, {\"Fecha\": \"2020-07-13\", \"Sector\": \"Rojo\", \"Casos confirmados\": 280.0}, {\"Fecha\": \"2020-04-01\", \"Sector\": \"Azul\", \"Casos confirmados\": null}, {\"Fecha\": \"2020-04-02\", \"Sector\": \"Azul\", \"Casos confirmados\": null}, {\"Fecha\": \"2020-04-03\", \"Sector\": \"Azul\", \"Casos confirmados\": null}, {\"Fecha\": \"2020-04-04\", \"Sector\": \"Azul\", \"Casos confirmados\": null}, {\"Fecha\": \"2020-04-05\", \"Sector\": \"Azul\", \"Casos confirmados\": null}, {\"Fecha\": \"2020-04-06\", \"Sector\": \"Azul\", \"Casos confirmados\": null}, {\"Fecha\": \"2020-04-07\", \"Sector\": \"Azul\", \"Casos confirmados\": 23.0}, {\"Fecha\": \"2020-04-08\", \"Sector\": \"Azul\", \"Casos confirmados\": 26.0}, {\"Fecha\": \"2020-04-09\", \"Sector\": \"Azul\", \"Casos confirmados\": 32.0}, {\"Fecha\": \"2020-04-10\", \"Sector\": \"Azul\", \"Casos confirmados\": 42.0}, {\"Fecha\": \"2020-04-11\", \"Sector\": \"Azul\", \"Casos confirmados\": 44.0}, {\"Fecha\": \"2020-04-12\", \"Sector\": \"Azul\", \"Casos confirmados\": 46.0}, {\"Fecha\": \"2020-04-13\", \"Sector\": \"Azul\", \"Casos confirmados\": 50.0}, {\"Fecha\": \"2020-04-14\", \"Sector\": \"Azul\", \"Casos confirmados\": 57.0}, {\"Fecha\": \"2020-04-15\", \"Sector\": \"Azul\", \"Casos confirmados\": 59.0}, {\"Fecha\": \"2020-04-16\", \"Sector\": \"Azul\", \"Casos confirmados\": 62.0}, {\"Fecha\": \"2020-04-17\", \"Sector\": \"Azul\", \"Casos confirmados\": 57.0}, {\"Fecha\": \"2020-04-18\", \"Sector\": \"Azul\", \"Casos confirmados\": 58.0}, {\"Fecha\": \"2020-04-19\", \"Sector\": \"Azul\", \"Casos confirmados\": 60.0}, {\"Fecha\": \"2020-04-20\", \"Sector\": \"Azul\", \"Casos confirmados\": 62.0}, {\"Fecha\": \"2020-04-21\", \"Sector\": \"Azul\", \"Casos confirmados\": 57.0}, {\"Fecha\": \"2020-04-22\", \"Sector\": \"Azul\", \"Casos confirmados\": 60.0}, {\"Fecha\": \"2020-04-23\", \"Sector\": \"Azul\", \"Casos confirmados\": 60.0}, {\"Fecha\": \"2020-04-24\", \"Sector\": \"Azul\", \"Casos confirmados\": 63.0}, {\"Fecha\": \"2020-04-25\", \"Sector\": \"Azul\", \"Casos confirmados\": 67.0}, {\"Fecha\": \"2020-04-26\", \"Sector\": \"Azul\", \"Casos confirmados\": 72.0}, {\"Fecha\": \"2020-04-27\", \"Sector\": \"Azul\", \"Casos confirmados\": 75.0}, {\"Fecha\": \"2020-04-28\", \"Sector\": \"Azul\", \"Casos confirmados\": 85.0}, {\"Fecha\": \"2020-04-29\", \"Sector\": \"Azul\", \"Casos confirmados\": 92.0}, {\"Fecha\": \"2020-04-30\", \"Sector\": \"Azul\", \"Casos confirmados\": 101.0}, {\"Fecha\": \"2020-05-01\", \"Sector\": \"Azul\", \"Casos confirmados\": 112.0}, {\"Fecha\": \"2020-05-02\", \"Sector\": \"Azul\", \"Casos confirmados\": 130.0}, {\"Fecha\": \"2020-05-03\", \"Sector\": \"Azul\", \"Casos confirmados\": 147.0}, {\"Fecha\": \"2020-05-04\", \"Sector\": \"Azul\", \"Casos confirmados\": 161.0}, {\"Fecha\": \"2020-05-05\", \"Sector\": \"Azul\", \"Casos confirmados\": 185.0}, {\"Fecha\": \"2020-05-06\", \"Sector\": \"Azul\", \"Casos confirmados\": 195.0}, {\"Fecha\": \"2020-05-07\", \"Sector\": \"Azul\", \"Casos confirmados\": 215.0}, {\"Fecha\": \"2020-05-08\", \"Sector\": \"Azul\", \"Casos confirmados\": 231.0}, {\"Fecha\": \"2020-05-09\", \"Sector\": \"Azul\", \"Casos confirmados\": 233.0}, {\"Fecha\": \"2020-05-10\", \"Sector\": \"Azul\", \"Casos confirmados\": 253.0}, {\"Fecha\": \"2020-05-11\", \"Sector\": \"Azul\", \"Casos confirmados\": 261.0}, {\"Fecha\": \"2020-05-12\", \"Sector\": \"Azul\", \"Casos confirmados\": 274.0}, {\"Fecha\": \"2020-05-13\", \"Sector\": \"Azul\", \"Casos confirmados\": 331.0}, {\"Fecha\": \"2020-05-14\", \"Sector\": \"Azul\", \"Casos confirmados\": 376.0}, {\"Fecha\": \"2020-05-15\", \"Sector\": \"Azul\", \"Casos confirmados\": 418.0}, {\"Fecha\": \"2020-05-16\", \"Sector\": \"Azul\", \"Casos confirmados\": 448.0}, {\"Fecha\": \"2020-05-17\", \"Sector\": \"Azul\", \"Casos confirmados\": 483.0}, {\"Fecha\": \"2020-05-18\", \"Sector\": \"Azul\", \"Casos confirmados\": 532.0}, {\"Fecha\": \"2020-05-19\", \"Sector\": \"Azul\", \"Casos confirmados\": 622.0}, {\"Fecha\": \"2020-05-20\", \"Sector\": \"Azul\", \"Casos confirmados\": 688.0}, {\"Fecha\": \"2020-05-21\", \"Sector\": \"Azul\", \"Casos confirmados\": 739.0}, {\"Fecha\": \"2020-05-22\", \"Sector\": \"Azul\", \"Casos confirmados\": 796.0}, {\"Fecha\": \"2020-05-23\", \"Sector\": \"Azul\", \"Casos confirmados\": 847.0}, {\"Fecha\": \"2020-05-24\", \"Sector\": \"Azul\", \"Casos confirmados\": 882.0}, {\"Fecha\": \"2020-05-25\", \"Sector\": \"Azul\", \"Casos confirmados\": 965.0}, {\"Fecha\": \"2020-05-26\", \"Sector\": \"Azul\", \"Casos confirmados\": 950.0}, {\"Fecha\": \"2020-05-27\", \"Sector\": \"Azul\", \"Casos confirmados\": 934.0}, {\"Fecha\": \"2020-05-28\", \"Sector\": \"Azul\", \"Casos confirmados\": 935.0}, {\"Fecha\": \"2020-05-29\", \"Sector\": \"Azul\", \"Casos confirmados\": 901.0}, {\"Fecha\": \"2020-05-30\", \"Sector\": \"Azul\", \"Casos confirmados\": 905.0}, {\"Fecha\": \"2020-05-31\", \"Sector\": \"Azul\", \"Casos confirmados\": 939.0}, {\"Fecha\": \"2020-06-01\", \"Sector\": \"Azul\", \"Casos confirmados\": 944.0}, {\"Fecha\": \"2020-06-02\", \"Sector\": \"Azul\", \"Casos confirmados\": 926.0}, {\"Fecha\": \"2020-06-03\", \"Sector\": \"Azul\", \"Casos confirmados\": 932.0}, {\"Fecha\": \"2020-06-04\", \"Sector\": \"Azul\", \"Casos confirmados\": 923.0}, {\"Fecha\": \"2020-06-05\", \"Sector\": \"Azul\", \"Casos confirmados\": 929.0}, {\"Fecha\": \"2020-06-06\", \"Sector\": \"Azul\", \"Casos confirmados\": 963.0}, {\"Fecha\": \"2020-06-07\", \"Sector\": \"Azul\", \"Casos confirmados\": 1017.0}, {\"Fecha\": \"2020-06-08\", \"Sector\": \"Azul\", \"Casos confirmados\": 996.0}, {\"Fecha\": \"2020-06-09\", \"Sector\": \"Azul\", \"Casos confirmados\": 1010.0}, {\"Fecha\": \"2020-06-10\", \"Sector\": \"Azul\", \"Casos confirmados\": 1051.0}, {\"Fecha\": \"2020-06-11\", \"Sector\": \"Azul\", \"Casos confirmados\": 1091.0}, {\"Fecha\": \"2020-06-12\", \"Sector\": \"Azul\", \"Casos confirmados\": 1191.0}, {\"Fecha\": \"2020-06-13\", \"Sector\": \"Azul\", \"Casos confirmados\": 1223.0}, {\"Fecha\": \"2020-06-14\", \"Sector\": \"Azul\", \"Casos confirmados\": 1216.0}, {\"Fecha\": \"2020-06-15\", \"Sector\": \"Azul\", \"Casos confirmados\": 1196.0}, {\"Fecha\": \"2020-06-16\", \"Sector\": \"Azul\", \"Casos confirmados\": 1214.0}, {\"Fecha\": \"2020-06-17\", \"Sector\": \"Azul\", \"Casos confirmados\": 1172.0}, {\"Fecha\": \"2020-06-18\", \"Sector\": \"Azul\", \"Casos confirmados\": 1090.0}, {\"Fecha\": \"2020-06-19\", \"Sector\": \"Azul\", \"Casos confirmados\": 1011.0}, {\"Fecha\": \"2020-06-20\", \"Sector\": \"Azul\", \"Casos confirmados\": 930.0}, {\"Fecha\": \"2020-06-21\", \"Sector\": \"Azul\", \"Casos confirmados\": 838.0}, {\"Fecha\": \"2020-06-22\", \"Sector\": \"Azul\", \"Casos confirmados\": 789.0}, {\"Fecha\": \"2020-06-23\", \"Sector\": \"Azul\", \"Casos confirmados\": 716.0}, {\"Fecha\": \"2020-06-24\", \"Sector\": \"Azul\", \"Casos confirmados\": 641.0}, {\"Fecha\": \"2020-06-25\", \"Sector\": \"Azul\", \"Casos confirmados\": 639.0}, {\"Fecha\": \"2020-06-26\", \"Sector\": \"Azul\", \"Casos confirmados\": 585.0}, {\"Fecha\": \"2020-06-27\", \"Sector\": \"Azul\", \"Casos confirmados\": 570.0}, {\"Fecha\": \"2020-06-28\", \"Sector\": \"Azul\", \"Casos confirmados\": 542.0}, {\"Fecha\": \"2020-06-29\", \"Sector\": \"Azul\", \"Casos confirmados\": 532.0}, {\"Fecha\": \"2020-06-30\", \"Sector\": \"Azul\", \"Casos confirmados\": 527.0}, {\"Fecha\": \"2020-07-01\", \"Sector\": \"Azul\", \"Casos confirmados\": 496.0}, {\"Fecha\": \"2020-07-02\", \"Sector\": \"Azul\", \"Casos confirmados\": 445.0}, {\"Fecha\": \"2020-07-03\", \"Sector\": \"Azul\", \"Casos confirmados\": 426.0}, {\"Fecha\": \"2020-07-04\", \"Sector\": \"Azul\", \"Casos confirmados\": 400.0}, {\"Fecha\": \"2020-07-05\", \"Sector\": \"Azul\", \"Casos confirmados\": 382.0}, {\"Fecha\": \"2020-07-06\", \"Sector\": \"Azul\", \"Casos confirmados\": 357.0}, {\"Fecha\": \"2020-07-07\", \"Sector\": \"Azul\", \"Casos confirmados\": 334.0}, {\"Fecha\": \"2020-07-08\", \"Sector\": \"Azul\", \"Casos confirmados\": 328.0}, {\"Fecha\": \"2020-07-09\", \"Sector\": \"Azul\", \"Casos confirmados\": 341.0}, {\"Fecha\": \"2020-07-10\", \"Sector\": \"Azul\", \"Casos confirmados\": 327.0}, {\"Fecha\": \"2020-07-11\", \"Sector\": \"Azul\", \"Casos confirmados\": 301.0}, {\"Fecha\": \"2020-07-12\", \"Sector\": \"Azul\", \"Casos confirmados\": 287.0}, {\"Fecha\": \"2020-07-13\", \"Sector\": \"Azul\", \"Casos confirmados\": 279.0}], \"data-14f3125026826d6c61fe29f19023851d\": [{\"Fecha\": \"2020-04-01\", \"Sector\": \"Verde\", \"Porcentaje\": 27.3}, {\"Fecha\": \"2020-04-02\", \"Sector\": \"Verde\", \"Porcentaje\": 28.9}, {\"Fecha\": \"2020-04-03\", \"Sector\": \"Verde\", \"Porcentaje\": 24.4}, {\"Fecha\": \"2020-04-04\", \"Sector\": \"Verde\", \"Porcentaje\": 22.1}, {\"Fecha\": \"2020-04-05\", \"Sector\": \"Verde\", \"Porcentaje\": 23.4}, {\"Fecha\": \"2020-04-06\", \"Sector\": \"Verde\", \"Porcentaje\": 21.0}, {\"Fecha\": \"2020-04-07\", \"Sector\": \"Verde\", \"Porcentaje\": 17.9}, {\"Fecha\": \"2020-04-08\", \"Sector\": \"Verde\", \"Porcentaje\": 13.7}, {\"Fecha\": \"2020-04-09\", \"Sector\": \"Verde\", \"Porcentaje\": 13.8}, {\"Fecha\": \"2020-04-10\", \"Sector\": \"Verde\", \"Porcentaje\": 13.4}, {\"Fecha\": \"2020-04-11\", \"Sector\": \"Verde\", \"Porcentaje\": 11.9}, {\"Fecha\": \"2020-04-12\", \"Sector\": \"Verde\", \"Porcentaje\": 10.6}, {\"Fecha\": \"2020-04-13\", \"Sector\": \"Verde\", \"Porcentaje\": 8.5}, {\"Fecha\": \"2020-04-14\", \"Sector\": \"Verde\", \"Porcentaje\": 10.4}, {\"Fecha\": \"2020-04-15\", \"Sector\": \"Verde\", \"Porcentaje\": 11.4}, {\"Fecha\": \"2020-04-16\", \"Sector\": \"Verde\", \"Porcentaje\": 11.9}, {\"Fecha\": \"2020-04-17\", \"Sector\": \"Verde\", \"Porcentaje\": 10.9}, {\"Fecha\": \"2020-04-18\", \"Sector\": \"Verde\", \"Porcentaje\": 11.1}, {\"Fecha\": \"2020-04-19\", \"Sector\": \"Verde\", \"Porcentaje\": 9.5}, {\"Fecha\": \"2020-04-20\", \"Sector\": \"Verde\", \"Porcentaje\": 9.1}, {\"Fecha\": \"2020-04-21\", \"Sector\": \"Verde\", \"Porcentaje\": 6.5}, {\"Fecha\": \"2020-04-22\", \"Sector\": \"Verde\", \"Porcentaje\": 7.8}, {\"Fecha\": \"2020-04-23\", \"Sector\": \"Verde\", \"Porcentaje\": 7.0}, {\"Fecha\": \"2020-04-24\", \"Sector\": \"Verde\", \"Porcentaje\": 6.9}, {\"Fecha\": \"2020-04-25\", \"Sector\": \"Verde\", \"Porcentaje\": 6.6}, {\"Fecha\": \"2020-04-26\", \"Sector\": \"Verde\", \"Porcentaje\": 6.9}, {\"Fecha\": \"2020-04-27\", \"Sector\": \"Verde\", \"Porcentaje\": 6.3}, {\"Fecha\": \"2020-04-28\", \"Sector\": \"Verde\", \"Porcentaje\": 7.2}, {\"Fecha\": \"2020-04-29\", \"Sector\": \"Verde\", \"Porcentaje\": 7.4}, {\"Fecha\": \"2020-04-30\", \"Sector\": \"Verde\", \"Porcentaje\": 7.2}, {\"Fecha\": \"2020-05-01\", \"Sector\": \"Verde\", \"Porcentaje\": 7.4}, {\"Fecha\": \"2020-05-02\", \"Sector\": \"Verde\", \"Porcentaje\": 7.5}, {\"Fecha\": \"2020-05-03\", \"Sector\": \"Verde\", \"Porcentaje\": 7.2}, {\"Fecha\": \"2020-05-04\", \"Sector\": \"Verde\", \"Porcentaje\": 7.0}, {\"Fecha\": \"2020-05-05\", \"Sector\": \"Verde\", \"Porcentaje\": 7.9}, {\"Fecha\": \"2020-05-06\", \"Sector\": \"Verde\", \"Porcentaje\": 8.6}, {\"Fecha\": \"2020-05-07\", \"Sector\": \"Verde\", \"Porcentaje\": 10.0}, {\"Fecha\": \"2020-05-08\", \"Sector\": \"Verde\", \"Porcentaje\": 10.9}, {\"Fecha\": \"2020-05-09\", \"Sector\": \"Verde\", \"Porcentaje\": 10.5}, {\"Fecha\": \"2020-05-10\", \"Sector\": \"Verde\", \"Porcentaje\": 10.5}, {\"Fecha\": \"2020-05-11\", \"Sector\": \"Verde\", \"Porcentaje\": 10.2}, {\"Fecha\": \"2020-05-12\", \"Sector\": \"Verde\", \"Porcentaje\": 10.2}, {\"Fecha\": \"2020-05-13\", \"Sector\": \"Verde\", \"Porcentaje\": 10.1}, {\"Fecha\": \"2020-05-14\", \"Sector\": \"Verde\", \"Porcentaje\": 10.1}, {\"Fecha\": \"2020-05-15\", \"Sector\": \"Verde\", \"Porcentaje\": 10.1}, {\"Fecha\": \"2020-05-16\", \"Sector\": \"Verde\", \"Porcentaje\": 9.5}, {\"Fecha\": \"2020-05-17\", \"Sector\": \"Verde\", \"Porcentaje\": 8.8}, {\"Fecha\": \"2020-05-18\", \"Sector\": \"Verde\", \"Porcentaje\": 8.3}, {\"Fecha\": \"2020-05-19\", \"Sector\": \"Verde\", \"Porcentaje\": 8.7}, {\"Fecha\": \"2020-05-20\", \"Sector\": \"Verde\", \"Porcentaje\": 8.8}, {\"Fecha\": \"2020-05-21\", \"Sector\": \"Verde\", \"Porcentaje\": 9.0}, {\"Fecha\": \"2020-05-22\", \"Sector\": \"Verde\", \"Porcentaje\": 9.3}, {\"Fecha\": \"2020-05-23\", \"Sector\": \"Verde\", \"Porcentaje\": 9.6}, {\"Fecha\": \"2020-05-24\", \"Sector\": \"Verde\", \"Porcentaje\": 10.1}, {\"Fecha\": \"2020-05-25\", \"Sector\": \"Verde\", \"Porcentaje\": 10.5}, {\"Fecha\": \"2020-05-26\", \"Sector\": \"Verde\", \"Porcentaje\": 10.4}, {\"Fecha\": \"2020-05-27\", \"Sector\": \"Verde\", \"Porcentaje\": 10.5}, {\"Fecha\": \"2020-05-28\", \"Sector\": \"Verde\", \"Porcentaje\": 10.4}, {\"Fecha\": \"2020-05-29\", \"Sector\": \"Verde\", \"Porcentaje\": 10.4}, {\"Fecha\": \"2020-05-30\", \"Sector\": \"Verde\", \"Porcentaje\": 9.7}, {\"Fecha\": \"2020-05-31\", \"Sector\": \"Verde\", \"Porcentaje\": 9.1}, {\"Fecha\": \"2020-06-01\", \"Sector\": \"Verde\", \"Porcentaje\": 8.5}, {\"Fecha\": \"2020-06-02\", \"Sector\": \"Verde\", \"Porcentaje\": 8.8}, {\"Fecha\": \"2020-06-03\", \"Sector\": \"Verde\", \"Porcentaje\": 9.0}, {\"Fecha\": \"2020-06-04\", \"Sector\": \"Verde\", \"Porcentaje\": 9.2}, {\"Fecha\": \"2020-06-05\", \"Sector\": \"Verde\", \"Porcentaje\": 9.5}, {\"Fecha\": \"2020-06-06\", \"Sector\": \"Verde\", \"Porcentaje\": 9.0}, {\"Fecha\": \"2020-06-07\", \"Sector\": \"Verde\", \"Porcentaje\": 8.7}, {\"Fecha\": \"2020-06-08\", \"Sector\": \"Verde\", \"Porcentaje\": 8.2}, {\"Fecha\": \"2020-06-09\", \"Sector\": \"Verde\", \"Porcentaje\": 8.3}, {\"Fecha\": \"2020-06-10\", \"Sector\": \"Verde\", \"Porcentaje\": 8.3}, {\"Fecha\": \"2020-06-11\", \"Sector\": \"Verde\", \"Porcentaje\": 8.4}, {\"Fecha\": \"2020-06-12\", \"Sector\": \"Verde\", \"Porcentaje\": 8.4}, {\"Fecha\": \"2020-06-13\", \"Sector\": \"Verde\", \"Porcentaje\": 7.7}, {\"Fecha\": \"2020-06-14\", \"Sector\": \"Verde\", \"Porcentaje\": 6.9}, {\"Fecha\": \"2020-06-15\", \"Sector\": \"Verde\", \"Porcentaje\": 6.2}, {\"Fecha\": \"2020-06-16\", \"Sector\": \"Verde\", \"Porcentaje\": 6.3}, {\"Fecha\": \"2020-06-17\", \"Sector\": \"Verde\", \"Porcentaje\": 6.4}, {\"Fecha\": \"2020-06-18\", \"Sector\": \"Verde\", \"Porcentaje\": 6.4}, {\"Fecha\": \"2020-06-19\", \"Sector\": \"Verde\", \"Porcentaje\": 6.6}, {\"Fecha\": \"2020-06-20\", \"Sector\": \"Verde\", \"Porcentaje\": 6.8}, {\"Fecha\": \"2020-06-21\", \"Sector\": \"Verde\", \"Porcentaje\": 7.0}, {\"Fecha\": \"2020-06-22\", \"Sector\": \"Verde\", \"Porcentaje\": 7.1}, {\"Fecha\": \"2020-06-23\", \"Sector\": \"Verde\", \"Porcentaje\": 7.4}, {\"Fecha\": \"2020-06-24\", \"Sector\": \"Verde\", \"Porcentaje\": 7.6}, {\"Fecha\": \"2020-06-25\", \"Sector\": \"Verde\", \"Porcentaje\": 7.7}, {\"Fecha\": \"2020-06-26\", \"Sector\": \"Verde\", \"Porcentaje\": 7.9}, {\"Fecha\": \"2020-06-27\", \"Sector\": \"Verde\", \"Porcentaje\": 8.0}, {\"Fecha\": \"2020-06-28\", \"Sector\": \"Verde\", \"Porcentaje\": 8.2}, {\"Fecha\": \"2020-06-29\", \"Sector\": \"Verde\", \"Porcentaje\": 8.2}, {\"Fecha\": \"2020-06-30\", \"Sector\": \"Verde\", \"Porcentaje\": 8.1}, {\"Fecha\": \"2020-07-01\", \"Sector\": \"Verde\", \"Porcentaje\": 7.8}, {\"Fecha\": \"2020-07-02\", \"Sector\": \"Verde\", \"Porcentaje\": 8.1}, {\"Fecha\": \"2020-07-03\", \"Sector\": \"Verde\", \"Porcentaje\": 8.5}, {\"Fecha\": \"2020-07-04\", \"Sector\": \"Verde\", \"Porcentaje\": 8.6}, {\"Fecha\": \"2020-07-05\", \"Sector\": \"Verde\", \"Porcentaje\": 8.6}, {\"Fecha\": \"2020-07-06\", \"Sector\": \"Verde\", \"Porcentaje\": 8.4}, {\"Fecha\": \"2020-07-07\", \"Sector\": \"Verde\", \"Porcentaje\": 8.3}, {\"Fecha\": \"2020-07-08\", \"Sector\": \"Verde\", \"Porcentaje\": 8.2}, {\"Fecha\": \"2020-07-09\", \"Sector\": \"Verde\", \"Porcentaje\": 8.2}, {\"Fecha\": \"2020-07-10\", \"Sector\": \"Verde\", \"Porcentaje\": 7.9}, {\"Fecha\": \"2020-07-11\", \"Sector\": \"Verde\", \"Porcentaje\": 7.9}, {\"Fecha\": \"2020-07-12\", \"Sector\": \"Verde\", \"Porcentaje\": 8.0}, {\"Fecha\": \"2020-07-13\", \"Sector\": \"Verde\", \"Porcentaje\": 8.0}, {\"Fecha\": \"2020-04-01\", \"Sector\": \"Rojo\", \"Porcentaje\": 29.5}, {\"Fecha\": \"2020-04-02\", \"Sector\": \"Rojo\", \"Porcentaje\": 31.1}, {\"Fecha\": \"2020-04-03\", \"Sector\": \"Rojo\", \"Porcentaje\": 35.6}, {\"Fecha\": \"2020-04-04\", \"Sector\": \"Rojo\", \"Porcentaje\": 39.4}, {\"Fecha\": \"2020-04-05\", \"Sector\": \"Rojo\", \"Porcentaje\": 37.5}, {\"Fecha\": \"2020-04-06\", \"Sector\": \"Rojo\", \"Porcentaje\": 41.9}, {\"Fecha\": \"2020-04-07\", \"Sector\": \"Rojo\", \"Porcentaje\": 41.0}, {\"Fecha\": \"2020-04-08\", \"Sector\": \"Rojo\", \"Porcentaje\": 43.2}, {\"Fecha\": \"2020-04-09\", \"Sector\": \"Rojo\", \"Porcentaje\": 42.0}, {\"Fecha\": \"2020-04-10\", \"Sector\": \"Rojo\", \"Porcentaje\": 40.9}, {\"Fecha\": \"2020-04-11\", \"Sector\": \"Rojo\", \"Porcentaje\": 40.5}, {\"Fecha\": \"2020-04-12\", \"Sector\": \"Rojo\", \"Porcentaje\": 37.9}, {\"Fecha\": \"2020-04-13\", \"Sector\": \"Rojo\", \"Porcentaje\": 38.3}, {\"Fecha\": \"2020-04-14\", \"Sector\": \"Rojo\", \"Porcentaje\": 43.1}, {\"Fecha\": \"2020-04-15\", \"Sector\": \"Rojo\", \"Porcentaje\": 44.7}, {\"Fecha\": \"2020-04-16\", \"Sector\": \"Rojo\", \"Porcentaje\": 44.3}, {\"Fecha\": \"2020-04-17\", \"Sector\": \"Rojo\", \"Porcentaje\": 43.7}, {\"Fecha\": \"2020-04-18\", \"Sector\": \"Rojo\", \"Porcentaje\": 41.7}, {\"Fecha\": \"2020-04-19\", \"Sector\": \"Rojo\", \"Porcentaje\": 42.1}, {\"Fecha\": \"2020-04-20\", \"Sector\": \"Rojo\", \"Porcentaje\": 42.4}, {\"Fecha\": \"2020-04-21\", \"Sector\": \"Rojo\", \"Porcentaje\": 41.9}, {\"Fecha\": \"2020-04-22\", \"Sector\": \"Rojo\", \"Porcentaje\": 45.5}, {\"Fecha\": \"2020-04-23\", \"Sector\": \"Rojo\", \"Porcentaje\": 47.6}, {\"Fecha\": \"2020-04-24\", \"Sector\": \"Rojo\", \"Porcentaje\": 49.4}, {\"Fecha\": \"2020-04-25\", \"Sector\": \"Rojo\", \"Porcentaje\": 48.8}, {\"Fecha\": \"2020-04-26\", \"Sector\": \"Rojo\", \"Porcentaje\": 48.0}, {\"Fecha\": \"2020-04-27\", \"Sector\": \"Rojo\", \"Porcentaje\": 47.4}, {\"Fecha\": \"2020-04-28\", \"Sector\": \"Rojo\", \"Porcentaje\": 51.3}, {\"Fecha\": \"2020-04-29\", \"Sector\": \"Rojo\", \"Porcentaje\": 53.7}, {\"Fecha\": \"2020-04-30\", \"Sector\": \"Rojo\", \"Porcentaje\": 57.5}, {\"Fecha\": \"2020-05-01\", \"Sector\": \"Rojo\", \"Porcentaje\": 60.9}, {\"Fecha\": \"2020-05-02\", \"Sector\": \"Rojo\", \"Porcentaje\": 58.3}, {\"Fecha\": \"2020-05-03\", \"Sector\": \"Rojo\", \"Porcentaje\": 56.6}, {\"Fecha\": \"2020-05-04\", \"Sector\": \"Rojo\", \"Porcentaje\": 54.5}, {\"Fecha\": \"2020-05-05\", \"Sector\": \"Rojo\", \"Porcentaje\": 52.6}, {\"Fecha\": \"2020-05-06\", \"Sector\": \"Rojo\", \"Porcentaje\": 51.2}, {\"Fecha\": \"2020-05-07\", \"Sector\": \"Rojo\", \"Porcentaje\": 49.1}, {\"Fecha\": \"2020-05-08\", \"Sector\": \"Rojo\", \"Porcentaje\": 47.4}, {\"Fecha\": \"2020-05-09\", \"Sector\": \"Rojo\", \"Porcentaje\": 46.7}, {\"Fecha\": \"2020-05-10\", \"Sector\": \"Rojo\", \"Porcentaje\": 45.8}, {\"Fecha\": \"2020-05-11\", \"Sector\": \"Rojo\", \"Porcentaje\": 44.9}, {\"Fecha\": \"2020-05-12\", \"Sector\": \"Rojo\", \"Porcentaje\": 43.9}, {\"Fecha\": \"2020-05-13\", \"Sector\": \"Rojo\", \"Porcentaje\": 43.0}, {\"Fecha\": \"2020-05-14\", \"Sector\": \"Rojo\", \"Porcentaje\": 42.2}, {\"Fecha\": \"2020-05-15\", \"Sector\": \"Rojo\", \"Porcentaje\": 41.0}, {\"Fecha\": \"2020-05-16\", \"Sector\": \"Rojo\", \"Porcentaje\": 38.4}, {\"Fecha\": \"2020-05-17\", \"Sector\": \"Rojo\", \"Porcentaje\": 35.9}, {\"Fecha\": \"2020-05-18\", \"Sector\": \"Rojo\", \"Porcentaje\": 33.4}, {\"Fecha\": \"2020-05-19\", \"Sector\": \"Rojo\", \"Porcentaje\": 36.1}, {\"Fecha\": \"2020-05-20\", \"Sector\": \"Rojo\", \"Porcentaje\": 38.9}, {\"Fecha\": \"2020-05-21\", \"Sector\": \"Rojo\", \"Porcentaje\": 41.6}, {\"Fecha\": \"2020-05-22\", \"Sector\": \"Rojo\", \"Porcentaje\": 44.3}, {\"Fecha\": \"2020-05-23\", \"Sector\": \"Rojo\", \"Porcentaje\": 43.5}, {\"Fecha\": \"2020-05-24\", \"Sector\": \"Rojo\", \"Porcentaje\": 42.6}, {\"Fecha\": \"2020-05-25\", \"Sector\": \"Rojo\", \"Porcentaje\": 41.7}, {\"Fecha\": \"2020-05-26\", \"Sector\": \"Rojo\", \"Porcentaje\": 42.8}, {\"Fecha\": \"2020-05-27\", \"Sector\": \"Rojo\", \"Porcentaje\": 44.0}, {\"Fecha\": \"2020-05-28\", \"Sector\": \"Rojo\", \"Porcentaje\": 45.1}, {\"Fecha\": \"2020-05-29\", \"Sector\": \"Rojo\", \"Porcentaje\": 46.2}, {\"Fecha\": \"2020-05-30\", \"Sector\": \"Rojo\", \"Porcentaje\": 46.0}, {\"Fecha\": \"2020-05-31\", \"Sector\": \"Rojo\", \"Porcentaje\": 46.0}, {\"Fecha\": \"2020-06-01\", \"Sector\": \"Rojo\", \"Porcentaje\": 45.9}, {\"Fecha\": \"2020-06-02\", \"Sector\": \"Rojo\", \"Porcentaje\": 46.1}, {\"Fecha\": \"2020-06-03\", \"Sector\": \"Rojo\", \"Porcentaje\": 46.2}, {\"Fecha\": \"2020-06-04\", \"Sector\": \"Rojo\", \"Porcentaje\": 46.5}, {\"Fecha\": \"2020-06-05\", \"Sector\": \"Rojo\", \"Porcentaje\": 46.7}, {\"Fecha\": \"2020-06-06\", \"Sector\": \"Rojo\", \"Porcentaje\": 44.2}, {\"Fecha\": \"2020-06-07\", \"Sector\": \"Rojo\", \"Porcentaje\": 41.8}, {\"Fecha\": \"2020-06-08\", \"Sector\": \"Rojo\", \"Porcentaje\": 39.3}, {\"Fecha\": \"2020-06-09\", \"Sector\": \"Rojo\", \"Porcentaje\": 40.5}, {\"Fecha\": \"2020-06-10\", \"Sector\": \"Rojo\", \"Porcentaje\": 41.7}, {\"Fecha\": \"2020-06-11\", \"Sector\": \"Rojo\", \"Porcentaje\": 42.8}, {\"Fecha\": \"2020-06-12\", \"Sector\": \"Rojo\", \"Porcentaje\": 44.1}, {\"Fecha\": \"2020-06-13\", \"Sector\": \"Rojo\", \"Porcentaje\": 46.3}, {\"Fecha\": \"2020-06-14\", \"Sector\": \"Rojo\", \"Porcentaje\": 48.6}, {\"Fecha\": \"2020-06-15\", \"Sector\": \"Rojo\", \"Porcentaje\": 50.8}, {\"Fecha\": \"2020-06-16\", \"Sector\": \"Rojo\", \"Porcentaje\": 49.9}, {\"Fecha\": \"2020-06-17\", \"Sector\": \"Rojo\", \"Porcentaje\": 49.0}, {\"Fecha\": \"2020-06-18\", \"Sector\": \"Rojo\", \"Porcentaje\": 48.1}, {\"Fecha\": \"2020-06-19\", \"Sector\": \"Rojo\", \"Porcentaje\": 47.1}, {\"Fecha\": \"2020-06-20\", \"Sector\": \"Rojo\", \"Porcentaje\": 47.3}, {\"Fecha\": \"2020-06-21\", \"Sector\": \"Rojo\", \"Porcentaje\": 47.6}, {\"Fecha\": \"2020-06-22\", \"Sector\": \"Rojo\", \"Porcentaje\": 47.7}, {\"Fecha\": \"2020-06-23\", \"Sector\": \"Rojo\", \"Porcentaje\": 47.9}, {\"Fecha\": \"2020-06-24\", \"Sector\": \"Rojo\", \"Porcentaje\": 47.2}, {\"Fecha\": \"2020-06-25\", \"Sector\": \"Rojo\", \"Porcentaje\": 46.5}, {\"Fecha\": \"2020-06-26\", \"Sector\": \"Rojo\", \"Porcentaje\": 45.9}, {\"Fecha\": \"2020-06-27\", \"Sector\": \"Rojo\", \"Porcentaje\": 45.3}, {\"Fecha\": \"2020-06-28\", \"Sector\": \"Rojo\", \"Porcentaje\": 44.7}, {\"Fecha\": \"2020-06-29\", \"Sector\": \"Rojo\", \"Porcentaje\": 44.7}, {\"Fecha\": \"2020-06-30\", \"Sector\": \"Rojo\", \"Porcentaje\": 44.6}, {\"Fecha\": \"2020-07-01\", \"Sector\": \"Rojo\", \"Porcentaje\": 44.8}, {\"Fecha\": \"2020-07-02\", \"Sector\": \"Rojo\", \"Porcentaje\": 44.7}, {\"Fecha\": \"2020-07-03\", \"Sector\": \"Rojo\", \"Porcentaje\": 44.3}, {\"Fecha\": \"2020-07-04\", \"Sector\": \"Rojo\", \"Porcentaje\": 44.4}, {\"Fecha\": \"2020-07-05\", \"Sector\": \"Rojo\", \"Porcentaje\": 44.2}, {\"Fecha\": \"2020-07-06\", \"Sector\": \"Rojo\", \"Porcentaje\": 44.7}, {\"Fecha\": \"2020-07-07\", \"Sector\": \"Rojo\", \"Porcentaje\": 45.2}, {\"Fecha\": \"2020-07-08\", \"Sector\": \"Rojo\", \"Porcentaje\": 45.4}, {\"Fecha\": \"2020-07-09\", \"Sector\": \"Rojo\", \"Porcentaje\": 46.1}, {\"Fecha\": \"2020-07-10\", \"Sector\": \"Rojo\", \"Porcentaje\": 46.6}, {\"Fecha\": \"2020-07-11\", \"Sector\": \"Rojo\", \"Porcentaje\": 46.1}, {\"Fecha\": \"2020-07-12\", \"Sector\": \"Rojo\", \"Porcentaje\": 46.3}, {\"Fecha\": \"2020-07-13\", \"Sector\": \"Rojo\", \"Porcentaje\": 46.3}, {\"Fecha\": \"2020-04-01\", \"Sector\": \"Azul\", \"Porcentaje\": 43.2}, {\"Fecha\": \"2020-04-02\", \"Sector\": \"Azul\", \"Porcentaje\": 40.0}, {\"Fecha\": \"2020-04-03\", \"Sector\": \"Azul\", \"Porcentaje\": 40.0}, {\"Fecha\": \"2020-04-04\", \"Sector\": \"Azul\", \"Porcentaje\": 38.5}, {\"Fecha\": \"2020-04-05\", \"Sector\": \"Azul\", \"Porcentaje\": 39.1}, {\"Fecha\": \"2020-04-06\", \"Sector\": \"Azul\", \"Porcentaje\": 37.1}, {\"Fecha\": \"2020-04-07\", \"Sector\": \"Azul\", \"Porcentaje\": 41.0}, {\"Fecha\": \"2020-04-08\", \"Sector\": \"Azul\", \"Porcentaje\": 43.2}, {\"Fecha\": \"2020-04-09\", \"Sector\": \"Azul\", \"Porcentaje\": 44.2}, {\"Fecha\": \"2020-04-10\", \"Sector\": \"Azul\", \"Porcentaje\": 45.7}, {\"Fecha\": \"2020-04-11\", \"Sector\": \"Azul\", \"Porcentaje\": 47.6}, {\"Fecha\": \"2020-04-12\", \"Sector\": \"Azul\", \"Porcentaje\": 51.5}, {\"Fecha\": \"2020-04-13\", \"Sector\": \"Azul\", \"Porcentaje\": 53.2}, {\"Fecha\": \"2020-04-14\", \"Sector\": \"Azul\", \"Porcentaje\": 46.5}, {\"Fecha\": \"2020-04-15\", \"Sector\": \"Azul\", \"Porcentaje\": 43.9}, {\"Fecha\": \"2020-04-16\", \"Sector\": \"Azul\", \"Porcentaje\": 43.8}, {\"Fecha\": \"2020-04-17\", \"Sector\": \"Azul\", \"Porcentaje\": 45.4}, {\"Fecha\": \"2020-04-18\", \"Sector\": \"Azul\", \"Porcentaje\": 47.2}, {\"Fecha\": \"2020-04-19\", \"Sector\": \"Azul\", \"Porcentaje\": 48.4}, {\"Fecha\": \"2020-04-20\", \"Sector\": \"Azul\", \"Porcentaje\": 48.5}, {\"Fecha\": \"2020-04-21\", \"Sector\": \"Azul\", \"Porcentaje\": 51.6}, {\"Fecha\": \"2020-04-22\", \"Sector\": \"Azul\", \"Porcentaje\": 46.8}, {\"Fecha\": \"2020-04-23\", \"Sector\": \"Azul\", \"Porcentaje\": 45.4}, {\"Fecha\": \"2020-04-24\", \"Sector\": \"Azul\", \"Porcentaje\": 43.7}, {\"Fecha\": \"2020-04-25\", \"Sector\": \"Azul\", \"Porcentaje\": 44.6}, {\"Fecha\": \"2020-04-26\", \"Sector\": \"Azul\", \"Porcentaje\": 45.1}, {\"Fecha\": \"2020-04-27\", \"Sector\": \"Azul\", \"Porcentaje\": 46.3}, {\"Fecha\": \"2020-04-28\", \"Sector\": \"Azul\", \"Porcentaje\": 41.5}, {\"Fecha\": \"2020-04-29\", \"Sector\": \"Azul\", \"Porcentaje\": 38.9}, {\"Fecha\": \"2020-04-30\", \"Sector\": \"Azul\", \"Porcentaje\": 35.3}, {\"Fecha\": \"2020-05-01\", \"Sector\": \"Azul\", \"Porcentaje\": 31.8}, {\"Fecha\": \"2020-05-02\", \"Sector\": \"Azul\", \"Porcentaje\": 34.2}, {\"Fecha\": \"2020-05-03\", \"Sector\": \"Azul\", \"Porcentaje\": 36.2}, {\"Fecha\": \"2020-05-04\", \"Sector\": \"Azul\", \"Porcentaje\": 38.4}, {\"Fecha\": \"2020-05-05\", \"Sector\": \"Azul\", \"Porcentaje\": 39.4}, {\"Fecha\": \"2020-05-06\", \"Sector\": \"Azul\", \"Porcentaje\": 40.1}, {\"Fecha\": \"2020-05-07\", \"Sector\": \"Azul\", \"Porcentaje\": 40.9}, {\"Fecha\": \"2020-05-08\", \"Sector\": \"Azul\", \"Porcentaje\": 41.8}, {\"Fecha\": \"2020-05-09\", \"Sector\": \"Azul\", \"Porcentaje\": 42.8}, {\"Fecha\": \"2020-05-10\", \"Sector\": \"Azul\", \"Porcentaje\": 43.6}, {\"Fecha\": \"2020-05-11\", \"Sector\": \"Azul\", \"Porcentaje\": 44.9}, {\"Fecha\": \"2020-05-12\", \"Sector\": \"Azul\", \"Porcentaje\": 45.9}, {\"Fecha\": \"2020-05-13\", \"Sector\": \"Azul\", \"Porcentaje\": 46.9}, {\"Fecha\": \"2020-05-14\", \"Sector\": \"Azul\", \"Porcentaje\": 47.8}, {\"Fecha\": \"2020-05-15\", \"Sector\": \"Azul\", \"Porcentaje\": 48.8}, {\"Fecha\": \"2020-05-16\", \"Sector\": \"Azul\", \"Porcentaje\": 52.1}, {\"Fecha\": \"2020-05-17\", \"Sector\": \"Azul\", \"Porcentaje\": 55.2}, {\"Fecha\": \"2020-05-18\", \"Sector\": \"Azul\", \"Porcentaje\": 58.3}, {\"Fecha\": \"2020-05-19\", \"Sector\": \"Azul\", \"Porcentaje\": 55.2}, {\"Fecha\": \"2020-05-20\", \"Sector\": \"Azul\", \"Porcentaje\": 52.2}, {\"Fecha\": \"2020-05-21\", \"Sector\": \"Azul\", \"Porcentaje\": 49.3}, {\"Fecha\": \"2020-05-22\", \"Sector\": \"Azul\", \"Porcentaje\": 46.4}, {\"Fecha\": \"2020-05-23\", \"Sector\": \"Azul\", \"Porcentaje\": 46.9}, {\"Fecha\": \"2020-05-24\", \"Sector\": \"Azul\", \"Porcentaje\": 47.3}, {\"Fecha\": \"2020-05-25\", \"Sector\": \"Azul\", \"Porcentaje\": 47.8}, {\"Fecha\": \"2020-05-26\", \"Sector\": \"Azul\", \"Porcentaje\": 46.9}, {\"Fecha\": \"2020-05-27\", \"Sector\": \"Azul\", \"Porcentaje\": 45.6}, {\"Fecha\": \"2020-05-28\", \"Sector\": \"Azul\", \"Porcentaje\": 44.5}, {\"Fecha\": \"2020-05-29\", \"Sector\": \"Azul\", \"Porcentaje\": 43.4}, {\"Fecha\": \"2020-05-30\", \"Sector\": \"Azul\", \"Porcentaje\": 44.3}, {\"Fecha\": \"2020-05-31\", \"Sector\": \"Azul\", \"Porcentaje\": 44.9}, {\"Fecha\": \"2020-06-01\", \"Sector\": \"Azul\", \"Porcentaje\": 45.6}, {\"Fecha\": \"2020-06-02\", \"Sector\": \"Azul\", \"Porcentaje\": 45.1}, {\"Fecha\": \"2020-06-03\", \"Sector\": \"Azul\", \"Porcentaje\": 44.7}, {\"Fecha\": \"2020-06-04\", \"Sector\": \"Azul\", \"Porcentaje\": 44.3}, {\"Fecha\": \"2020-06-05\", \"Sector\": \"Azul\", \"Porcentaje\": 43.8}, {\"Fecha\": \"2020-06-06\", \"Sector\": \"Azul\", \"Porcentaje\": 46.7}, {\"Fecha\": \"2020-06-07\", \"Sector\": \"Azul\", \"Porcentaje\": 49.6}, {\"Fecha\": \"2020-06-08\", \"Sector\": \"Azul\", \"Porcentaje\": 52.5}, {\"Fecha\": \"2020-06-09\", \"Sector\": \"Azul\", \"Porcentaje\": 51.2}, {\"Fecha\": \"2020-06-10\", \"Sector\": \"Azul\", \"Porcentaje\": 50.0}, {\"Fecha\": \"2020-06-11\", \"Sector\": \"Azul\", \"Porcentaje\": 48.8}, {\"Fecha\": \"2020-06-12\", \"Sector\": \"Azul\", \"Porcentaje\": 47.5}, {\"Fecha\": \"2020-06-13\", \"Sector\": \"Azul\", \"Porcentaje\": 46.0}, {\"Fecha\": \"2020-06-14\", \"Sector\": \"Azul\", \"Porcentaje\": 44.4}, {\"Fecha\": \"2020-06-15\", \"Sector\": \"Azul\", \"Porcentaje\": 43.0}, {\"Fecha\": \"2020-06-16\", \"Sector\": \"Azul\", \"Porcentaje\": 43.8}, {\"Fecha\": \"2020-06-17\", \"Sector\": \"Azul\", \"Porcentaje\": 44.6}, {\"Fecha\": \"2020-06-18\", \"Sector\": \"Azul\", \"Porcentaje\": 45.4}, {\"Fecha\": \"2020-06-19\", \"Sector\": \"Azul\", \"Porcentaje\": 46.3}, {\"Fecha\": \"2020-06-20\", \"Sector\": \"Azul\", \"Porcentaje\": 45.9}, {\"Fecha\": \"2020-06-21\", \"Sector\": \"Azul\", \"Porcentaje\": 45.5}, {\"Fecha\": \"2020-06-22\", \"Sector\": \"Azul\", \"Porcentaje\": 45.2}, {\"Fecha\": \"2020-06-23\", \"Sector\": \"Azul\", \"Porcentaje\": 44.7}, {\"Fecha\": \"2020-06-24\", \"Sector\": \"Azul\", \"Porcentaje\": 45.1}, {\"Fecha\": \"2020-06-25\", \"Sector\": \"Azul\", \"Porcentaje\": 45.8}, {\"Fecha\": \"2020-06-26\", \"Sector\": \"Azul\", \"Porcentaje\": 46.2}, {\"Fecha\": \"2020-06-27\", \"Sector\": \"Azul\", \"Porcentaje\": 46.7}, {\"Fecha\": \"2020-06-28\", \"Sector\": \"Azul\", \"Porcentaje\": 47.1}, {\"Fecha\": \"2020-06-29\", \"Sector\": \"Azul\", \"Porcentaje\": 47.1}, {\"Fecha\": \"2020-06-30\", \"Sector\": \"Azul\", \"Porcentaje\": 47.2}, {\"Fecha\": \"2020-07-01\", \"Sector\": \"Azul\", \"Porcentaje\": 47.4}, {\"Fecha\": \"2020-07-02\", \"Sector\": \"Azul\", \"Porcentaje\": 47.2}, {\"Fecha\": \"2020-07-03\", \"Sector\": \"Azul\", \"Porcentaje\": 47.3}, {\"Fecha\": \"2020-07-04\", \"Sector\": \"Azul\", \"Porcentaje\": 47.0}, {\"Fecha\": \"2020-07-05\", \"Sector\": \"Azul\", \"Porcentaje\": 47.1}, {\"Fecha\": \"2020-07-06\", \"Sector\": \"Azul\", \"Porcentaje\": 46.8}, {\"Fecha\": \"2020-07-07\", \"Sector\": \"Azul\", \"Porcentaje\": 46.5}, {\"Fecha\": \"2020-07-08\", \"Sector\": \"Azul\", \"Porcentaje\": 46.4}, {\"Fecha\": \"2020-07-09\", \"Sector\": \"Azul\", \"Porcentaje\": 45.7}, {\"Fecha\": \"2020-07-10\", \"Sector\": \"Azul\", \"Porcentaje\": 45.5}, {\"Fecha\": \"2020-07-11\", \"Sector\": \"Azul\", \"Porcentaje\": 46.0}, {\"Fecha\": \"2020-07-12\", \"Sector\": \"Azul\", \"Porcentaje\": 45.6}, {\"Fecha\": \"2020-07-13\", \"Sector\": \"Azul\", \"Porcentaje\": 45.8}]}}, {\"mode\": \"vega-lite\"});\n",
       "</script>"
      ],
      "text/plain": [
       "alt.VConcatChart(...)"
      ]
     },
     "execution_count": 172,
     "metadata": {},
     "output_type": "execute_result"
    }
   ],
   "source": [
    "#hide_input\n",
    "\n",
    "domain = [\"Azul\", \"Rojo\", \"Verde\"]\n",
    "range_ = [\"blue\", \"red\", \"green\"]\n",
    "\n",
    "chart1 = alt.Chart(data).mark_area().encode(\n",
    "    x=alt.X(\"Fecha\", axis=alt.Axis(title=\"\", domain=False)),\n",
    "    y=alt.Y(\"Casos confirmados\", axis=None, stack=\"center\"),\n",
    "    tooltip = [\"Fecha\", \"Casos confirmados\"],\n",
    "    color = alt.Color(\"Sector\", scale=alt.Scale(domain=domain, range=range_)),\n",
    ").properties(\n",
    "    title=\"Nuevos casos confirmados en la R.M. por zona socioeconómica (promedio móvil 7 días)\",\n",
    "    width=700)\n",
    "\n",
    "chart2 = alt.Chart(data_percentage).mark_bar().encode(\n",
    "    x=alt.X(\"Fecha\", axis=alt.Axis(title=\"\", domain=False, ticks=False, labels=False)),\n",
    "    y=alt.Y(\"Porcentaje\", axis=alt.Axis(title=\"\", format='%'), stack=\"normalize\"),\n",
    "    tooltip = [\"Fecha\", \"Porcentaje\"],\n",
    "    color = alt.Color(\"Sector\"),\n",
    ").properties(\n",
    "    height = 100,\n",
    "    width=700\n",
    ")\n",
    "\n",
    "alt.vconcat(\n",
    "    chart1,\n",
    "    chart2\n",
    ").configure_concat(\n",
    "    spacing=0\n",
    ")"
   ]
  },
  {
   "cell_type": "markdown",
   "metadata": {},
   "source": [
    "Fuentes: [Ministerio de Ciencia](https://github.com/MinCiencia/Datos-COVID19), [Ministerio de Salud](https://www.minsal.cl/)"
   ]
  },
  {
   "cell_type": "code",
   "execution_count": 173,
   "metadata": {},
   "outputs": [],
   "source": [
    "#hide\n",
    "county_cumulative_cases = pd.read_csv(\n",
    "    \"https://raw.githubusercontent.com/MinCiencia/Datos-COVID19/master/output/producto1/Covid-19.csv\")"
   ]
  },
  {
   "cell_type": "code",
   "execution_count": 174,
   "metadata": {},
   "outputs": [],
   "source": [
    "#hide\n",
    "county_cumulative_cases_RM = county_cumulative_cases.query(\"Region=='Metropolitana'\").drop(\n",
    "    columns=[\"Region\", \"Codigo region\", \"Poblacion\", \"Tasa\", \"Codigo comuna\"])"
   ]
  },
  {
   "cell_type": "code",
   "execution_count": 175,
   "metadata": {},
   "outputs": [],
   "source": [
    "#hide\n",
    "county_cases_RM = county_cumulative_cases_RM.set_index(\"Comuna\").T.diff().drop(\"2020-03-30\").fillna(0)"
   ]
  },
  {
   "cell_type": "code",
   "execution_count": 176,
   "metadata": {},
   "outputs": [],
   "source": [
    "#hide\n",
    "county_cases_RM[\"Total\"] = county_cases_RM.sum(axis=1)\n",
    "county_cases_RM = county_cases_RM.T.apply(lambda x: x/x[-1]).T"
   ]
  },
  {
   "cell_type": "code",
   "execution_count": 177,
   "metadata": {},
   "outputs": [],
   "source": [
    "#hide\n",
    "start_date = county_cases_RM.reset_index()[\"index\"].iloc[0]\n",
    "end_date = county_cases_RM.reset_index()[\"index\"].iloc[-1]\n",
    "\n",
    "data = pd.DataFrame()\n",
    "data['Fecha'] = pd.date_range(start=start_date, end=end_date).strftime('%Y-%m-%d')\n",
    "data = data.set_index(\"Fecha\")"
   ]
  },
  {
   "cell_type": "code",
   "execution_count": 178,
   "metadata": {},
   "outputs": [],
   "source": [
    "#hide\n",
    "data[list(county_cases_RM.columns)] = county_cases_RM[list(county_cases_RM.columns)]"
   ]
  },
  {
   "cell_type": "code",
   "execution_count": 179,
   "metadata": {
    "scrolled": false
   },
   "outputs": [],
   "source": [
    "#hide\n",
    "data = data.interpolate(method=\"linear\")"
   ]
  },
  {
   "cell_type": "code",
   "execution_count": 180,
   "metadata": {},
   "outputs": [],
   "source": [
    "#hide\n",
    "last_known_proportion = data.iloc[-1]"
   ]
  },
  {
   "cell_type": "code",
   "execution_count": 181,
   "metadata": {},
   "outputs": [],
   "source": [
    "#hide\n",
    "regional_cumulative_cases = pd.read_csv(\n",
    "    'https://raw.githubusercontent.com/MinCiencia/Datos-COVID19/master/output/producto3/CasosTotalesCumulativo.csv')"
   ]
  },
  {
   "cell_type": "code",
   "execution_count": 182,
   "metadata": {},
   "outputs": [],
   "source": [
    "#hide\n",
    "regional_cumulative_cases_RM = regional_cumulative_cases.query(\"Region=='Metropolitana'\").iloc[-1].drop(\"Region\")\n",
    "regional_cases_RM = regional_cumulative_cases_RM.diff().dropna()"
   ]
  },
  {
   "cell_type": "code",
   "execution_count": 183,
   "metadata": {},
   "outputs": [
    {
     "data": {
      "text/plain": [
       "'2020-07-10'"
      ]
     },
     "execution_count": 183,
     "metadata": {},
     "output_type": "execute_result"
    }
   ],
   "source": [
    "#hide\n",
    "last_known_date = county_cases_RM.index[-1]\n",
    "last_known_date"
   ]
  },
  {
   "cell_type": "code",
   "execution_count": 184,
   "metadata": {},
   "outputs": [],
   "source": [
    "#hide\n",
    "n_missing_days = (pd.to_datetime(regional_cases_RM.index[-1])-pd.to_datetime(data.index[-1])).days"
   ]
  },
  {
   "cell_type": "code",
   "execution_count": 185,
   "metadata": {},
   "outputs": [],
   "source": [
    "#hide\n",
    "data = data.T"
   ]
  },
  {
   "cell_type": "code",
   "execution_count": 186,
   "metadata": {},
   "outputs": [
    {
     "name": "stdout",
     "output_type": "stream",
     "text": [
      "2020-07-11\n",
      "2020-07-12\n",
      "2020-07-13\n"
     ]
    }
   ],
   "source": [
    "#hide\n",
    "for i in np.arange(n_missing_days):\n",
    "    idx = (pd.to_datetime(last_known_date)+pd.DateOffset(1+i)).strftime(\"%Y-%m-%d\")\n",
    "    print(idx)\n",
    "    data[idx] = last_known_proportion"
   ]
  },
  {
   "cell_type": "code",
   "execution_count": 187,
   "metadata": {},
   "outputs": [],
   "source": [
    "#hide\n",
    "data = data.T"
   ]
  },
  {
   "cell_type": "code",
   "execution_count": 188,
   "metadata": {},
   "outputs": [],
   "source": [
    "#hide\n",
    "data[\"Regional\"] = regional_cases_RM"
   ]
  },
  {
   "cell_type": "code",
   "execution_count": 189,
   "metadata": {
    "scrolled": true
   },
   "outputs": [
    {
     "data": {
      "text/plain": [
       "32230"
      ]
     },
     "execution_count": 189,
     "metadata": {},
     "output_type": "execute_result"
    }
   ],
   "source": [
    "#hide\n",
    "outlier = data.loc[\"2020-06-17\",\"Regional\"]\n",
    "outlier"
   ]
  },
  {
   "cell_type": "code",
   "execution_count": 190,
   "metadata": {},
   "outputs": [],
   "source": [
    "#hide\n",
    "data.loc[\"2020-06-17\",\"Regional\"] = data.loc[\"2020-06-16\",\"Regional\"]"
   ]
  },
  {
   "cell_type": "code",
   "execution_count": 191,
   "metadata": {},
   "outputs": [
    {
     "data": {
      "text/plain": [
       "150904"
      ]
     },
     "execution_count": 191,
     "metadata": {},
     "output_type": "execute_result"
    }
   ],
   "source": [
    "#hide\n",
    "total = data.loc[:\"2020-06-17\", \"Regional\"].sum()\n",
    "total"
   ]
  },
  {
   "cell_type": "code",
   "execution_count": 192,
   "metadata": {},
   "outputs": [
    {
     "data": {
      "text/plain": [
       "Fecha\n",
       "2020-06-16    0.0266527\n",
       "2020-06-17    0.0266527\n",
       "Name: Regional, dtype: object"
      ]
     },
     "execution_count": 192,
     "metadata": {},
     "output_type": "execute_result"
    }
   ],
   "source": [
    "#hide\n",
    "proportion = data.loc[:\"2020-06-17\", \"Regional\"]/total\n",
    "proportion.tail(2)"
   ]
  },
  {
   "cell_type": "code",
   "execution_count": 193,
   "metadata": {},
   "outputs": [],
   "source": [
    "#hide\n",
    "data.loc[:\"2020-06-17\", \"Regional\"] = data.loc[:\"2020-06-17\", \"Regional\"] + (proportion*outlier).astype(int)"
   ]
  },
  {
   "cell_type": "code",
   "execution_count": 194,
   "metadata": {
    "scrolled": true
   },
   "outputs": [],
   "source": [
    "#hide\n",
    "data = data.T.apply(lambda x: x[:-1]*x[-1]).T.astype(int)"
   ]
  },
  {
   "cell_type": "code",
   "execution_count": 195,
   "metadata": {},
   "outputs": [],
   "source": [
    "#hide\n",
    "list_nororiente = ['La Reina', 'Las Condes', 'Lo Barnechea', 'Nunoa',  'Providencia', 'Vitacura'] #\n",
    "list_suroriente = [\"Macul\", \"La Florida\", 'Penalolen', \"Puente Alto\"] #\n",
    "list_norponiente = ['Cerro Navia', 'Lo Prado', 'Pudahuel', 'Quinta Normal', 'Renca'] #\n",
    "list_surponiente = ['Estacion Central', 'Maipu', 'Cerrillos', 'Padre Hurtado', 'Penaflor'] #\n",
    "list_norte = ['Conchali', 'Huechuraba', 'Independencia', 'Recoleta', 'Quilicura'] #\n",
    "list_centro = ['Santiago'] #\n",
    "list_sur = ['Pedro Aguirre Cerda', 'San Miguel', 'San Joaquin', 'Lo Espejo', 'La Cisterna', \\\n",
    "           'La Granja', 'San Ramon', 'El Bosque', 'San Bernardo', 'La Pintana'] #"
   ]
  },
  {
   "cell_type": "code",
   "execution_count": 196,
   "metadata": {},
   "outputs": [],
   "source": [
    "#hide\n",
    "cases_nororiente = data[list_nororiente]\n",
    "cases_suroriente = data[list_suroriente]\n",
    "cases_norponiente = data[list_norponiente]\n",
    "cases_surponiente = data[list_surponiente]\n",
    "cases_norte = data[list_norte]\n",
    "cases_centro = data[list_centro]\n",
    "cases_sur = data[list_sur]"
   ]
  },
  {
   "cell_type": "code",
   "execution_count": 197,
   "metadata": {
    "scrolled": true
   },
   "outputs": [],
   "source": [
    "#hide\n",
    "data = pd.DataFrame()\n",
    "data[\"7. Nororiente\"] = cases_nororiente.sum(axis=1).rolling(window=7).mean()\n",
    "data[\"6. Suroriente\"] = cases_suroriente.sum(axis=1).rolling(window=7).mean()\n",
    "data[\"5. Norte\"] = cases_norte.sum(axis=1).rolling(window=7).mean()\n",
    "data[\"4. Centro\"] = cases_centro.sum(axis=1).rolling(window=7).mean()\n",
    "data[\"3. Sur\"] = cases_sur.sum(axis=1).rolling(window=7).mean()\n",
    "data[\"2. Norponiente\"] = cases_norponiente.sum(axis=1).rolling(window=7).mean()\n",
    "data[\"1. Surponiente\"] = cases_surponiente.sum(axis=1).rolling(window=7).mean()"
   ]
  },
  {
   "cell_type": "code",
   "execution_count": 198,
   "metadata": {},
   "outputs": [],
   "source": [
    "#hide\n",
    "data = data.reset_index()"
   ]
  },
  {
   "cell_type": "code",
   "execution_count": 199,
   "metadata": {},
   "outputs": [],
   "source": [
    "#hide\n",
    "data = data.melt(\"Fecha\", var_name=\"Sector\", value_name=\"Casos confirmados\")"
   ]
  },
  {
   "cell_type": "code",
   "execution_count": 200,
   "metadata": {},
   "outputs": [
    {
     "data": {
      "text/html": [
       "\n",
       "<div id=\"altair-viz-7266fbf2082946a9a93217ceb1e2a9a0\"></div>\n",
       "<script type=\"text/javascript\">\n",
       "  (function(spec, embedOpt){\n",
       "    let outputDiv = document.currentScript.previousElementSibling;\n",
       "    if (outputDiv.id !== \"altair-viz-7266fbf2082946a9a93217ceb1e2a9a0\") {\n",
       "      outputDiv = document.getElementById(\"altair-viz-7266fbf2082946a9a93217ceb1e2a9a0\");\n",
       "    }\n",
       "    const paths = {\n",
       "      \"vega\": \"https://cdn.jsdelivr.net/npm//vega@5?noext\",\n",
       "      \"vega-lib\": \"https://cdn.jsdelivr.net/npm//vega-lib?noext\",\n",
       "      \"vega-lite\": \"https://cdn.jsdelivr.net/npm//vega-lite@4.8.1?noext\",\n",
       "      \"vega-embed\": \"https://cdn.jsdelivr.net/npm//vega-embed@6?noext\",\n",
       "    };\n",
       "\n",
       "    function loadScript(lib) {\n",
       "      return new Promise(function(resolve, reject) {\n",
       "        var s = document.createElement('script');\n",
       "        s.src = paths[lib];\n",
       "        s.async = true;\n",
       "        s.onload = () => resolve(paths[lib]);\n",
       "        s.onerror = () => reject(`Error loading script: ${paths[lib]}`);\n",
       "        document.getElementsByTagName(\"head\")[0].appendChild(s);\n",
       "      });\n",
       "    }\n",
       "\n",
       "    function showError(err) {\n",
       "      outputDiv.innerHTML = `<div class=\"error\" style=\"color:red;\">${err}</div>`;\n",
       "      throw err;\n",
       "    }\n",
       "\n",
       "    function displayChart(vegaEmbed) {\n",
       "      vegaEmbed(outputDiv, spec, embedOpt)\n",
       "        .catch(err => showError(`Javascript Error: ${err.message}<br>This usually means there's a typo in your chart specification. See the javascript console for the full traceback.`));\n",
       "    }\n",
       "\n",
       "    if(typeof define === \"function\" && define.amd) {\n",
       "      requirejs.config({paths});\n",
       "      require([\"vega-embed\"], displayChart, err => showError(`Error loading script: ${err.message}`));\n",
       "    } else if (typeof vegaEmbed === \"function\") {\n",
       "      displayChart(vegaEmbed);\n",
       "    } else {\n",
       "      loadScript(\"vega\")\n",
       "        .then(() => loadScript(\"vega-lite\"))\n",
       "        .then(() => loadScript(\"vega-embed\"))\n",
       "        .catch(showError)\n",
       "        .then(() => displayChart(vegaEmbed));\n",
       "    }\n",
       "  })({\"config\": {\"view\": {\"continuousWidth\": 400, \"continuousHeight\": 300}, \"concat\": {\"spacing\": 0}}, \"vconcat\": [{\"mark\": \"area\", \"encoding\": {\"color\": {\"type\": \"nominal\", \"field\": \"Sector\"}, \"tooltip\": [{\"type\": \"nominal\", \"field\": \"Fecha\"}, {\"type\": \"quantitative\", \"field\": \"Casos confirmados\"}], \"x\": {\"type\": \"nominal\", \"axis\": {\"domain\": false, \"title\": \"\"}, \"field\": \"Fecha\"}, \"y\": {\"type\": \"quantitative\", \"axis\": null, \"field\": \"Casos confirmados\", \"stack\": \"center\"}}, \"title\": \"Nuevos casos confirmados en la R.M. por zona geogr\\u00e1fica (promedio m\\u00f3vil 7 d\\u00edas)\", \"width\": 700}, {\"mark\": \"bar\", \"encoding\": {\"color\": {\"type\": \"nominal\", \"field\": \"Sector\"}, \"tooltip\": [{\"type\": \"nominal\", \"field\": \"Fecha\"}, {\"type\": \"quantitative\", \"field\": \"Casos confirmados\"}], \"x\": {\"type\": \"nominal\", \"axis\": {\"domain\": false, \"labels\": false, \"ticks\": false, \"title\": \"\"}, \"field\": \"Fecha\"}, \"y\": {\"type\": \"quantitative\", \"axis\": {\"format\": \"%\", \"title\": \"\"}, \"field\": \"Casos confirmados\", \"stack\": \"normalize\"}}, \"height\": 100, \"width\": 700}], \"data\": {\"name\": \"data-c5f7ee89e7ce62d94e09026cdaf81dc7\"}, \"$schema\": \"https://vega.github.io/schema/vega-lite/v4.8.1.json\", \"datasets\": {\"data-c5f7ee89e7ce62d94e09026cdaf81dc7\": [{\"Fecha\": \"2020-04-01\", \"Sector\": \"7. Nororiente\", \"Casos confirmados\": null}, {\"Fecha\": \"2020-04-02\", \"Sector\": \"7. Nororiente\", \"Casos confirmados\": null}, {\"Fecha\": \"2020-04-03\", \"Sector\": \"7. Nororiente\", \"Casos confirmados\": null}, {\"Fecha\": \"2020-04-04\", \"Sector\": \"7. Nororiente\", \"Casos confirmados\": null}, {\"Fecha\": \"2020-04-05\", \"Sector\": \"7. Nororiente\", \"Casos confirmados\": null}, {\"Fecha\": \"2020-04-06\", \"Sector\": \"7. Nororiente\", \"Casos confirmados\": null}, {\"Fecha\": \"2020-04-07\", \"Sector\": \"7. Nororiente\", \"Casos confirmados\": 29.571428571428573}, {\"Fecha\": \"2020-04-08\", \"Sector\": \"7. Nororiente\", \"Casos confirmados\": 30.428571428571427}, {\"Fecha\": \"2020-04-09\", \"Sector\": \"7. Nororiente\", \"Casos confirmados\": 32.57142857142857}, {\"Fecha\": \"2020-04-10\", \"Sector\": \"7. Nororiente\", \"Casos confirmados\": 36.857142857142854}, {\"Fecha\": \"2020-04-11\", \"Sector\": \"7. Nororiente\", \"Casos confirmados\": 34.285714285714285}, {\"Fecha\": \"2020-04-12\", \"Sector\": \"7. Nororiente\", \"Casos confirmados\": 32.0}, {\"Fecha\": \"2020-04-13\", \"Sector\": \"7. Nororiente\", \"Casos confirmados\": 30.285714285714285}, {\"Fecha\": \"2020-04-14\", \"Sector\": \"7. Nororiente\", \"Casos confirmados\": 32.42857142857143}, {\"Fecha\": \"2020-04-15\", \"Sector\": \"7. Nororiente\", \"Casos confirmados\": 32.714285714285715}, {\"Fecha\": \"2020-04-16\", \"Sector\": \"7. Nororiente\", \"Casos confirmados\": 33.42857142857143}, {\"Fecha\": \"2020-04-17\", \"Sector\": \"7. Nororiente\", \"Casos confirmados\": 29.857142857142858}, {\"Fecha\": \"2020-04-18\", \"Sector\": \"7. Nororiente\", \"Casos confirmados\": 30.285714285714285}, {\"Fecha\": \"2020-04-19\", \"Sector\": \"7. Nororiente\", \"Casos confirmados\": 31.0}, {\"Fecha\": \"2020-04-20\", \"Sector\": \"7. Nororiente\", \"Casos confirmados\": 32.142857142857146}, {\"Fecha\": \"2020-04-21\", \"Sector\": \"7. Nororiente\", \"Casos confirmados\": 29.142857142857142}, {\"Fecha\": \"2020-04-22\", \"Sector\": \"7. Nororiente\", \"Casos confirmados\": 28.285714285714285}, {\"Fecha\": \"2020-04-23\", \"Sector\": \"7. Nororiente\", \"Casos confirmados\": 25.714285714285715}, {\"Fecha\": \"2020-04-24\", \"Sector\": \"7. Nororiente\", \"Casos confirmados\": 25.285714285714285}, {\"Fecha\": \"2020-04-25\", \"Sector\": \"7. Nororiente\", \"Casos confirmados\": 25.142857142857142}, {\"Fecha\": \"2020-04-26\", \"Sector\": \"7. Nororiente\", \"Casos confirmados\": 25.857142857142858}, {\"Fecha\": \"2020-04-27\", \"Sector\": \"7. Nororiente\", \"Casos confirmados\": 26.285714285714285}, {\"Fecha\": \"2020-04-28\", \"Sector\": \"7. Nororiente\", \"Casos confirmados\": 29.714285714285715}, {\"Fecha\": \"2020-04-29\", \"Sector\": \"7. Nororiente\", \"Casos confirmados\": 33.285714285714285}, {\"Fecha\": \"2020-04-30\", \"Sector\": \"7. Nororiente\", \"Casos confirmados\": 38.0}, {\"Fecha\": \"2020-05-01\", \"Sector\": \"7. Nororiente\", \"Casos confirmados\": 45.142857142857146}, {\"Fecha\": \"2020-05-02\", \"Sector\": \"7. Nororiente\", \"Casos confirmados\": 54.142857142857146}, {\"Fecha\": \"2020-05-03\", \"Sector\": \"7. Nororiente\", \"Casos confirmados\": 62.285714285714285}, {\"Fecha\": \"2020-05-04\", \"Sector\": \"7. Nororiente\", \"Casos confirmados\": 68.0}, {\"Fecha\": \"2020-05-05\", \"Sector\": \"7. Nororiente\", \"Casos confirmados\": 78.42857142857143}, {\"Fecha\": \"2020-05-06\", \"Sector\": \"7. Nororiente\", \"Casos confirmados\": 83.85714285714286}, {\"Fecha\": \"2020-05-07\", \"Sector\": \"7. Nororiente\", \"Casos confirmados\": 95.14285714285714}, {\"Fecha\": \"2020-05-08\", \"Sector\": \"7. Nororiente\", \"Casos confirmados\": 104.57142857142857}, {\"Fecha\": \"2020-05-09\", \"Sector\": \"7. Nororiente\", \"Casos confirmados\": 107.71428571428571}, {\"Fecha\": \"2020-05-10\", \"Sector\": \"7. Nororiente\", \"Casos confirmados\": 119.57142857142857}, {\"Fecha\": \"2020-05-11\", \"Sector\": \"7. Nororiente\", \"Casos confirmados\": 125.57142857142857}, {\"Fecha\": \"2020-05-12\", \"Sector\": \"7. Nororiente\", \"Casos confirmados\": 133.0}, {\"Fecha\": \"2020-05-13\", \"Sector\": \"7. Nororiente\", \"Casos confirmados\": 157.42857142857142}, {\"Fecha\": \"2020-05-14\", \"Sector\": \"7. Nororiente\", \"Casos confirmados\": 174.0}, {\"Fecha\": \"2020-05-15\", \"Sector\": \"7. Nororiente\", \"Casos confirmados\": 187.28571428571428}, {\"Fecha\": \"2020-05-16\", \"Sector\": \"7. Nororiente\", \"Casos confirmados\": 193.71428571428572}, {\"Fecha\": \"2020-05-17\", \"Sector\": \"7. Nororiente\", \"Casos confirmados\": 197.42857142857142}, {\"Fecha\": \"2020-05-18\", \"Sector\": \"7. Nororiente\", \"Casos confirmados\": 205.85714285714286}, {\"Fecha\": \"2020-05-19\", \"Sector\": \"7. Nororiente\", \"Casos confirmados\": 227.42857142857142}, {\"Fecha\": \"2020-05-20\", \"Sector\": \"7. Nororiente\", \"Casos confirmados\": 242.0}, {\"Fecha\": \"2020-05-21\", \"Sector\": \"7. Nororiente\", \"Casos confirmados\": 256.14285714285717}, {\"Fecha\": \"2020-05-22\", \"Sector\": \"7. Nororiente\", \"Casos confirmados\": 278.14285714285717}, {\"Fecha\": \"2020-05-23\", \"Sector\": \"7. Nororiente\", \"Casos confirmados\": 302.14285714285717}, {\"Fecha\": \"2020-05-24\", \"Sector\": \"7. Nororiente\", \"Casos confirmados\": 325.2857142857143}, {\"Fecha\": \"2020-05-25\", \"Sector\": \"7. Nororiente\", \"Casos confirmados\": 374.2857142857143}, {\"Fecha\": \"2020-05-26\", \"Sector\": \"7. Nororiente\", \"Casos confirmados\": 385.42857142857144}, {\"Fecha\": \"2020-05-27\", \"Sector\": \"7. Nororiente\", \"Casos confirmados\": 396.0}, {\"Fecha\": \"2020-05-28\", \"Sector\": \"7. Nororiente\", \"Casos confirmados\": 410.0}, {\"Fecha\": \"2020-05-29\", \"Sector\": \"7. Nororiente\", \"Casos confirmados\": 404.14285714285717}, {\"Fecha\": \"2020-05-30\", \"Sector\": \"7. Nororiente\", \"Casos confirmados\": 409.0}, {\"Fecha\": \"2020-05-31\", \"Sector\": \"7. Nororiente\", \"Casos confirmados\": 420.85714285714283}, {\"Fecha\": \"2020-06-01\", \"Sector\": \"7. Nororiente\", \"Casos confirmados\": 412.2857142857143}, {\"Fecha\": \"2020-06-02\", \"Sector\": \"7. Nororiente\", \"Casos confirmados\": 397.85714285714283}, {\"Fecha\": \"2020-06-03\", \"Sector\": \"7. Nororiente\", \"Casos confirmados\": 393.0}, {\"Fecha\": \"2020-06-04\", \"Sector\": \"7. Nororiente\", \"Casos confirmados\": 382.2857142857143}, {\"Fecha\": \"2020-06-05\", \"Sector\": \"7. Nororiente\", \"Casos confirmados\": 380.0}, {\"Fecha\": \"2020-06-06\", \"Sector\": \"7. Nororiente\", \"Casos confirmados\": 386.85714285714283}, {\"Fecha\": \"2020-06-07\", \"Sector\": \"7. Nororiente\", \"Casos confirmados\": 396.57142857142856}, {\"Fecha\": \"2020-06-08\", \"Sector\": \"7. Nororiente\", \"Casos confirmados\": 379.42857142857144}, {\"Fecha\": \"2020-06-09\", \"Sector\": \"7. Nororiente\", \"Casos confirmados\": 377.2857142857143}, {\"Fecha\": \"2020-06-10\", \"Sector\": \"7. Nororiente\", \"Casos confirmados\": 381.0}, {\"Fecha\": \"2020-06-11\", \"Sector\": \"7. Nororiente\", \"Casos confirmados\": 385.0}, {\"Fecha\": \"2020-06-12\", \"Sector\": \"7. Nororiente\", \"Casos confirmados\": 412.14285714285717}, {\"Fecha\": \"2020-06-13\", \"Sector\": \"7. Nororiente\", \"Casos confirmados\": 414.85714285714283}, {\"Fecha\": \"2020-06-14\", \"Sector\": \"7. Nororiente\", \"Casos confirmados\": 405.2857142857143}, {\"Fecha\": \"2020-06-15\", \"Sector\": \"7. Nororiente\", \"Casos confirmados\": 396.14285714285717}, {\"Fecha\": \"2020-06-16\", \"Sector\": \"7. Nororiente\", \"Casos confirmados\": 397.14285714285717}, {\"Fecha\": \"2020-06-17\", \"Sector\": \"7. Nororiente\", \"Casos confirmados\": 376.42857142857144}, {\"Fecha\": \"2020-06-18\", \"Sector\": \"7. Nororiente\", \"Casos confirmados\": 343.42857142857144}, {\"Fecha\": \"2020-06-19\", \"Sector\": \"7. Nororiente\", \"Casos confirmados\": 306.14285714285717}, {\"Fecha\": \"2020-06-20\", \"Sector\": \"7. Nororiente\", \"Casos confirmados\": 275.14285714285717}, {\"Fecha\": \"2020-06-21\", \"Sector\": \"7. Nororiente\", \"Casos confirmados\": 245.71428571428572}, {\"Fecha\": \"2020-06-22\", \"Sector\": \"7. Nororiente\", \"Casos confirmados\": 234.0}, {\"Fecha\": \"2020-06-23\", \"Sector\": \"7. Nororiente\", \"Casos confirmados\": 216.0}, {\"Fecha\": \"2020-06-24\", \"Sector\": \"7. Nororiente\", \"Casos confirmados\": 197.57142857142858}, {\"Fecha\": \"2020-06-25\", \"Sector\": \"7. Nororiente\", \"Casos confirmados\": 201.71428571428572}, {\"Fecha\": \"2020-06-26\", \"Sector\": \"7. Nororiente\", \"Casos confirmados\": 190.57142857142858}, {\"Fecha\": \"2020-06-27\", \"Sector\": \"7. Nororiente\", \"Casos confirmados\": 190.42857142857142}, {\"Fecha\": \"2020-06-28\", \"Sector\": \"7. Nororiente\", \"Casos confirmados\": 185.0}, {\"Fecha\": \"2020-06-29\", \"Sector\": \"7. Nororiente\", \"Casos confirmados\": 183.71428571428572}, {\"Fecha\": \"2020-06-30\", \"Sector\": \"7. Nororiente\", \"Casos confirmados\": 183.28571428571428}, {\"Fecha\": \"2020-07-01\", \"Sector\": \"7. Nororiente\", \"Casos confirmados\": 172.85714285714286}, {\"Fecha\": \"2020-07-02\", \"Sector\": \"7. Nororiente\", \"Casos confirmados\": 156.0}, {\"Fecha\": \"2020-07-03\", \"Sector\": \"7. Nororiente\", \"Casos confirmados\": 150.42857142857142}, {\"Fecha\": \"2020-07-04\", \"Sector\": \"7. Nororiente\", \"Casos confirmados\": 143.14285714285714}, {\"Fecha\": \"2020-07-05\", \"Sector\": \"7. Nororiente\", \"Casos confirmados\": 138.28571428571428}, {\"Fecha\": \"2020-07-06\", \"Sector\": \"7. Nororiente\", \"Casos confirmados\": 130.57142857142858}, {\"Fecha\": \"2020-07-07\", \"Sector\": \"7. Nororiente\", \"Casos confirmados\": 122.85714285714286}, {\"Fecha\": \"2020-07-08\", \"Sector\": \"7. Nororiente\", \"Casos confirmados\": 121.42857142857143}, {\"Fecha\": \"2020-07-09\", \"Sector\": \"7. Nororiente\", \"Casos confirmados\": 126.42857142857143}, {\"Fecha\": \"2020-07-10\", \"Sector\": \"7. Nororiente\", \"Casos confirmados\": 121.14285714285714}, {\"Fecha\": \"2020-07-11\", \"Sector\": \"7. Nororiente\", \"Casos confirmados\": 111.14285714285714}, {\"Fecha\": \"2020-07-12\", \"Sector\": \"7. Nororiente\", \"Casos confirmados\": 105.14285714285714}, {\"Fecha\": \"2020-07-13\", \"Sector\": \"7. Nororiente\", \"Casos confirmados\": 101.85714285714286}, {\"Fecha\": \"2020-04-01\", \"Sector\": \"6. Suroriente\", \"Casos confirmados\": null}, {\"Fecha\": \"2020-04-02\", \"Sector\": \"6. Suroriente\", \"Casos confirmados\": null}, {\"Fecha\": \"2020-04-03\", \"Sector\": \"6. Suroriente\", \"Casos confirmados\": null}, {\"Fecha\": \"2020-04-04\", \"Sector\": \"6. Suroriente\", \"Casos confirmados\": null}, {\"Fecha\": \"2020-04-05\", \"Sector\": \"6. Suroriente\", \"Casos confirmados\": null}, {\"Fecha\": \"2020-04-06\", \"Sector\": \"6. Suroriente\", \"Casos confirmados\": null}, {\"Fecha\": \"2020-04-07\", \"Sector\": \"6. Suroriente\", \"Casos confirmados\": 27.285714285714285}, {\"Fecha\": \"2020-04-08\", \"Sector\": \"6. Suroriente\", \"Casos confirmados\": 31.714285714285715}, {\"Fecha\": \"2020-04-09\", \"Sector\": \"6. Suroriente\", \"Casos confirmados\": 38.42857142857143}, {\"Fecha\": \"2020-04-10\", \"Sector\": \"6. Suroriente\", \"Casos confirmados\": 47.142857142857146}, {\"Fecha\": \"2020-04-11\", \"Sector\": \"6. Suroriente\", \"Casos confirmados\": 49.857142857142854}, {\"Fecha\": \"2020-04-12\", \"Sector\": \"6. Suroriente\", \"Casos confirmados\": 51.285714285714285}, {\"Fecha\": \"2020-04-13\", \"Sector\": \"6. Suroriente\", \"Casos confirmados\": 55.714285714285715}, {\"Fecha\": \"2020-04-14\", \"Sector\": \"6. Suroriente\", \"Casos confirmados\": 62.42857142857143}, {\"Fecha\": \"2020-04-15\", \"Sector\": \"6. Suroriente\", \"Casos confirmados\": 62.142857142857146}, {\"Fecha\": \"2020-04-16\", \"Sector\": \"6. Suroriente\", \"Casos confirmados\": 64.28571428571429}, {\"Fecha\": \"2020-04-17\", \"Sector\": \"6. Suroriente\", \"Casos confirmados\": 62.0}, {\"Fecha\": \"2020-04-18\", \"Sector\": \"6. Suroriente\", \"Casos confirmados\": 63.714285714285715}, {\"Fecha\": \"2020-04-19\", \"Sector\": \"6. Suroriente\", \"Casos confirmados\": 64.85714285714286}, {\"Fecha\": \"2020-04-20\", \"Sector\": \"6. Suroriente\", \"Casos confirmados\": 65.14285714285714}, {\"Fecha\": \"2020-04-21\", \"Sector\": \"6. Suroriente\", \"Casos confirmados\": 59.857142857142854}, {\"Fecha\": \"2020-04-22\", \"Sector\": \"6. Suroriente\", \"Casos confirmados\": 63.285714285714285}, {\"Fecha\": \"2020-04-23\", \"Sector\": \"6. Suroriente\", \"Casos confirmados\": 63.57142857142857}, {\"Fecha\": \"2020-04-24\", \"Sector\": \"6. Suroriente\", \"Casos confirmados\": 65.28571428571429}, {\"Fecha\": \"2020-04-25\", \"Sector\": \"6. Suroriente\", \"Casos confirmados\": 67.71428571428571}, {\"Fecha\": \"2020-04-26\", \"Sector\": \"6. Suroriente\", \"Casos confirmados\": 70.85714285714286}, {\"Fecha\": \"2020-04-27\", \"Sector\": \"6. Suroriente\", \"Casos confirmados\": 72.0}, {\"Fecha\": \"2020-04-28\", \"Sector\": \"6. Suroriente\", \"Casos confirmados\": 78.71428571428571}, {\"Fecha\": \"2020-04-29\", \"Sector\": \"6. Suroriente\", \"Casos confirmados\": 82.85714285714286}, {\"Fecha\": \"2020-04-30\", \"Sector\": \"6. Suroriente\", \"Casos confirmados\": 87.28571428571429}, {\"Fecha\": \"2020-05-01\", \"Sector\": \"6. Suroriente\", \"Casos confirmados\": 94.28571428571429}, {\"Fecha\": \"2020-05-02\", \"Sector\": \"6. Suroriente\", \"Casos confirmados\": 108.14285714285714}, {\"Fecha\": \"2020-05-03\", \"Sector\": \"6. Suroriente\", \"Casos confirmados\": 124.57142857142857}, {\"Fecha\": \"2020-05-04\", \"Sector\": \"6. Suroriente\", \"Casos confirmados\": 140.28571428571428}, {\"Fecha\": \"2020-05-05\", \"Sector\": \"6. Suroriente\", \"Casos confirmados\": 163.85714285714286}, {\"Fecha\": \"2020-05-06\", \"Sector\": \"6. Suroriente\", \"Casos confirmados\": 175.42857142857142}, {\"Fecha\": \"2020-05-07\", \"Sector\": \"6. Suroriente\", \"Casos confirmados\": 196.14285714285714}, {\"Fecha\": \"2020-05-08\", \"Sector\": \"6. Suroriente\", \"Casos confirmados\": 212.71428571428572}, {\"Fecha\": \"2020-05-09\", \"Sector\": \"6. Suroriente\", \"Casos confirmados\": 218.14285714285714}, {\"Fecha\": \"2020-05-10\", \"Sector\": \"6. Suroriente\", \"Casos confirmados\": 242.71428571428572}, {\"Fecha\": \"2020-05-11\", \"Sector\": \"6. Suroriente\", \"Casos confirmados\": 255.14285714285714}, {\"Fecha\": \"2020-05-12\", \"Sector\": \"6. Suroriente\", \"Casos confirmados\": 273.42857142857144}, {\"Fecha\": \"2020-05-13\", \"Sector\": \"6. Suroriente\", \"Casos confirmados\": 330.2857142857143}, {\"Fecha\": \"2020-05-14\", \"Sector\": \"6. Suroriente\", \"Casos confirmados\": 372.0}, {\"Fecha\": \"2020-05-15\", \"Sector\": \"6. Suroriente\", \"Casos confirmados\": 406.14285714285717}, {\"Fecha\": \"2020-05-16\", \"Sector\": \"6. Suroriente\", \"Casos confirmados\": 431.57142857142856}, {\"Fecha\": \"2020-05-17\", \"Sector\": \"6. Suroriente\", \"Casos confirmados\": 461.42857142857144}, {\"Fecha\": \"2020-05-18\", \"Sector\": \"6. Suroriente\", \"Casos confirmados\": 506.85714285714283}, {\"Fecha\": \"2020-05-19\", \"Sector\": \"6. Suroriente\", \"Casos confirmados\": 589.5714285714286}, {\"Fecha\": \"2020-05-20\", \"Sector\": \"6. Suroriente\", \"Casos confirmados\": 647.4285714285714}, {\"Fecha\": \"2020-05-21\", \"Sector\": \"6. Suroriente\", \"Casos confirmados\": 689.7142857142857}, {\"Fecha\": \"2020-05-22\", \"Sector\": \"6. Suroriente\", \"Casos confirmados\": 735.1428571428571}, {\"Fecha\": \"2020-05-23\", \"Sector\": \"6. Suroriente\", \"Casos confirmados\": 781.4285714285714}, {\"Fecha\": \"2020-05-24\", \"Sector\": \"6. Suroriente\", \"Casos confirmados\": 818.4285714285714}, {\"Fecha\": \"2020-05-25\", \"Sector\": \"6. Suroriente\", \"Casos confirmados\": 914.4285714285714}, {\"Fecha\": \"2020-05-26\", \"Sector\": \"6. Suroriente\", \"Casos confirmados\": 910.7142857142857}, {\"Fecha\": \"2020-05-27\", \"Sector\": \"6. Suroriente\", \"Casos confirmados\": 911.5714285714286}, {\"Fecha\": \"2020-05-28\", \"Sector\": \"6. Suroriente\", \"Casos confirmados\": 932.7142857142857}, {\"Fecha\": \"2020-05-29\", \"Sector\": \"6. Suroriente\", \"Casos confirmados\": 923.2857142857143}, {\"Fecha\": \"2020-05-30\", \"Sector\": \"6. Suroriente\", \"Casos confirmados\": 936.7142857142857}, {\"Fecha\": \"2020-05-31\", \"Sector\": \"6. Suroriente\", \"Casos confirmados\": 969.0}, {\"Fecha\": \"2020-06-01\", \"Sector\": \"6. Suroriente\", \"Casos confirmados\": 957.1428571428571}, {\"Fecha\": \"2020-06-02\", \"Sector\": \"6. Suroriente\", \"Casos confirmados\": 929.7142857142857}, {\"Fecha\": \"2020-06-03\", \"Sector\": \"6. Suroriente\", \"Casos confirmados\": 930.2857142857143}, {\"Fecha\": \"2020-06-04\", \"Sector\": \"6. Suroriente\", \"Casos confirmados\": 919.2857142857143}, {\"Fecha\": \"2020-06-05\", \"Sector\": \"6. Suroriente\", \"Casos confirmados\": 927.2857142857143}, {\"Fecha\": \"2020-06-06\", \"Sector\": \"6. Suroriente\", \"Casos confirmados\": 960.2857142857143}, {\"Fecha\": \"2020-06-07\", \"Sector\": \"6. Suroriente\", \"Casos confirmados\": 1006.8571428571429}, {\"Fecha\": \"2020-06-08\", \"Sector\": \"6. Suroriente\", \"Casos confirmados\": 979.2857142857143}, {\"Fecha\": \"2020-06-09\", \"Sector\": \"6. Suroriente\", \"Casos confirmados\": 986.8571428571429}, {\"Fecha\": \"2020-06-10\", \"Sector\": \"6. Suroriente\", \"Casos confirmados\": 1016.1428571428571}, {\"Fecha\": \"2020-06-11\", \"Sector\": \"6. Suroriente\", \"Casos confirmados\": 1044.857142857143}, {\"Fecha\": \"2020-06-12\", \"Sector\": \"6. Suroriente\", \"Casos confirmados\": 1131.5714285714287}, {\"Fecha\": \"2020-06-13\", \"Sector\": \"6. Suroriente\", \"Casos confirmados\": 1159.0}, {\"Fecha\": \"2020-06-14\", \"Sector\": \"6. Suroriente\", \"Casos confirmados\": 1157.0}, {\"Fecha\": \"2020-06-15\", \"Sector\": \"6. Suroriente\", \"Casos confirmados\": 1147.7142857142858}, {\"Fecha\": \"2020-06-16\", \"Sector\": \"6. Suroriente\", \"Casos confirmados\": 1169.2857142857142}, {\"Fecha\": \"2020-06-17\", \"Sector\": \"6. Suroriente\", \"Casos confirmados\": 1130.142857142857}, {\"Fecha\": \"2020-06-18\", \"Sector\": \"6. Suroriente\", \"Casos confirmados\": 1050.7142857142858}, {\"Fecha\": \"2020-06-19\", \"Sector\": \"6. Suroriente\", \"Casos confirmados\": 967.7142857142857}, {\"Fecha\": \"2020-06-20\", \"Sector\": \"6. Suroriente\", \"Casos confirmados\": 883.7142857142857}, {\"Fecha\": \"2020-06-21\", \"Sector\": \"6. Suroriente\", \"Casos confirmados\": 786.5714285714286}, {\"Fecha\": \"2020-06-22\", \"Sector\": \"6. Suroriente\", \"Casos confirmados\": 732.5714285714286}, {\"Fecha\": \"2020-06-23\", \"Sector\": \"6. Suroriente\", \"Casos confirmados\": 660.5714285714286}, {\"Fecha\": \"2020-06-24\", \"Sector\": \"6. Suroriente\", \"Casos confirmados\": 589.0}, {\"Fecha\": \"2020-06-25\", \"Sector\": \"6. Suroriente\", \"Casos confirmados\": 589.0}, {\"Fecha\": \"2020-06-26\", \"Sector\": \"6. Suroriente\", \"Casos confirmados\": 543.7142857142857}, {\"Fecha\": \"2020-06-27\", \"Sector\": \"6. Suroriente\", \"Casos confirmados\": 532.4285714285714}, {\"Fecha\": \"2020-06-28\", \"Sector\": \"6. Suroriente\", \"Casos confirmados\": 508.42857142857144}, {\"Fecha\": \"2020-06-29\", \"Sector\": \"6. Suroriente\", \"Casos confirmados\": 498.7142857142857}, {\"Fecha\": \"2020-06-30\", \"Sector\": \"6. Suroriente\", \"Casos confirmados\": 493.2857142857143}, {\"Fecha\": \"2020-07-01\", \"Sector\": \"6. Suroriente\", \"Casos confirmados\": 463.14285714285717}, {\"Fecha\": \"2020-07-02\", \"Sector\": \"6. Suroriente\", \"Casos confirmados\": 414.7142857142857}, {\"Fecha\": \"2020-07-03\", \"Sector\": \"6. Suroriente\", \"Casos confirmados\": 394.42857142857144}, {\"Fecha\": \"2020-07-04\", \"Sector\": \"6. Suroriente\", \"Casos confirmados\": 368.14285714285717}, {\"Fecha\": \"2020-07-05\", \"Sector\": \"6. Suroriente\", \"Casos confirmados\": 348.2857142857143}, {\"Fecha\": \"2020-07-06\", \"Sector\": \"6. Suroriente\", \"Casos confirmados\": 323.2857142857143}, {\"Fecha\": \"2020-07-07\", \"Sector\": \"6. Suroriente\", \"Casos confirmados\": 300.14285714285717}, {\"Fecha\": \"2020-07-08\", \"Sector\": \"6. Suroriente\", \"Casos confirmados\": 294.7142857142857}, {\"Fecha\": \"2020-07-09\", \"Sector\": \"6. Suroriente\", \"Casos confirmados\": 305.2857142857143}, {\"Fecha\": \"2020-07-10\", \"Sector\": \"6. Suroriente\", \"Casos confirmados\": 292.85714285714283}, {\"Fecha\": \"2020-07-11\", \"Sector\": \"6. Suroriente\", \"Casos confirmados\": 270.14285714285717}, {\"Fecha\": \"2020-07-12\", \"Sector\": \"6. Suroriente\", \"Casos confirmados\": 258.57142857142856}, {\"Fecha\": \"2020-07-13\", \"Sector\": \"6. Suroriente\", \"Casos confirmados\": 252.42857142857142}, {\"Fecha\": \"2020-04-01\", \"Sector\": \"5. Norte\", \"Casos confirmados\": null}, {\"Fecha\": \"2020-04-02\", \"Sector\": \"5. Norte\", \"Casos confirmados\": null}, {\"Fecha\": \"2020-04-03\", \"Sector\": \"5. Norte\", \"Casos confirmados\": null}, {\"Fecha\": \"2020-04-04\", \"Sector\": \"5. Norte\", \"Casos confirmados\": null}, {\"Fecha\": \"2020-04-05\", \"Sector\": \"5. Norte\", \"Casos confirmados\": null}, {\"Fecha\": \"2020-04-06\", \"Sector\": \"5. Norte\", \"Casos confirmados\": null}, {\"Fecha\": \"2020-04-07\", \"Sector\": \"5. Norte\", \"Casos confirmados\": 14.0}, {\"Fecha\": \"2020-04-08\", \"Sector\": \"5. Norte\", \"Casos confirmados\": 15.571428571428571}, {\"Fecha\": \"2020-04-09\", \"Sector\": \"5. Norte\", \"Casos confirmados\": 17.714285714285715}, {\"Fecha\": \"2020-04-10\", \"Sector\": \"5. Norte\", \"Casos confirmados\": 20.857142857142858}, {\"Fecha\": \"2020-04-11\", \"Sector\": \"5. Norte\", \"Casos confirmados\": 20.428571428571427}, {\"Fecha\": \"2020-04-12\", \"Sector\": \"5. Norte\", \"Casos confirmados\": 19.857142857142858}, {\"Fecha\": \"2020-04-13\", \"Sector\": \"5. Norte\", \"Casos confirmados\": 20.0}, {\"Fecha\": \"2020-04-14\", \"Sector\": \"5. Norte\", \"Casos confirmados\": 22.142857142857142}, {\"Fecha\": \"2020-04-15\", \"Sector\": \"5. Norte\", \"Casos confirmados\": 22.285714285714285}, {\"Fecha\": \"2020-04-16\", \"Sector\": \"5. Norte\", \"Casos confirmados\": 23.714285714285715}, {\"Fecha\": \"2020-04-17\", \"Sector\": \"5. Norte\", \"Casos confirmados\": 22.857142857142858}, {\"Fecha\": \"2020-04-18\", \"Sector\": \"5. Norte\", \"Casos confirmados\": 25.0}, {\"Fecha\": \"2020-04-19\", \"Sector\": \"5. Norte\", \"Casos confirmados\": 27.0}, {\"Fecha\": \"2020-04-20\", \"Sector\": \"5. Norte\", \"Casos confirmados\": 30.285714285714285}, {\"Fecha\": \"2020-04-21\", \"Sector\": \"5. Norte\", \"Casos confirmados\": 29.857142857142858}, {\"Fecha\": \"2020-04-22\", \"Sector\": \"5. Norte\", \"Casos confirmados\": 34.857142857142854}, {\"Fecha\": \"2020-04-23\", \"Sector\": \"5. Norte\", \"Casos confirmados\": 39.42857142857143}, {\"Fecha\": \"2020-04-24\", \"Sector\": \"5. Norte\", \"Casos confirmados\": 45.142857142857146}, {\"Fecha\": \"2020-04-25\", \"Sector\": \"5. Norte\", \"Casos confirmados\": 51.57142857142857}, {\"Fecha\": \"2020-04-26\", \"Sector\": \"5. Norte\", \"Casos confirmados\": 57.142857142857146}, {\"Fecha\": \"2020-04-27\", \"Sector\": \"5. Norte\", \"Casos confirmados\": 61.714285714285715}, {\"Fecha\": \"2020-04-28\", \"Sector\": \"5. Norte\", \"Casos confirmados\": 73.0}, {\"Fecha\": \"2020-04-29\", \"Sector\": \"5. Norte\", \"Casos confirmados\": 86.0}, {\"Fecha\": \"2020-04-30\", \"Sector\": \"5. Norte\", \"Casos confirmados\": 104.85714285714286}, {\"Fecha\": \"2020-05-01\", \"Sector\": \"5. Norte\", \"Casos confirmados\": 132.28571428571428}, {\"Fecha\": \"2020-05-02\", \"Sector\": \"5. Norte\", \"Casos confirmados\": 166.42857142857142}, {\"Fecha\": \"2020-05-03\", \"Sector\": \"5. Norte\", \"Casos confirmados\": 194.85714285714286}, {\"Fecha\": \"2020-05-04\", \"Sector\": \"5. Norte\", \"Casos confirmados\": 216.28571428571428}, {\"Fecha\": \"2020-05-05\", \"Sector\": \"5. Norte\", \"Casos confirmados\": 244.71428571428572}, {\"Fecha\": \"2020-05-06\", \"Sector\": \"5. Norte\", \"Casos confirmados\": 255.42857142857142}, {\"Fecha\": \"2020-05-07\", \"Sector\": \"5. Norte\", \"Casos confirmados\": 271.57142857142856}, {\"Fecha\": \"2020-05-08\", \"Sector\": \"5. Norte\", \"Casos confirmados\": 275.2857142857143}, {\"Fecha\": \"2020-05-09\", \"Sector\": \"5. Norte\", \"Casos confirmados\": 260.42857142857144}, {\"Fecha\": \"2020-05-10\", \"Sector\": \"5. Norte\", \"Casos confirmados\": 261.42857142857144}, {\"Fecha\": \"2020-05-11\", \"Sector\": \"5. Norte\", \"Casos confirmados\": 252.71428571428572}, {\"Fecha\": \"2020-05-12\", \"Sector\": \"5. Norte\", \"Casos confirmados\": 242.85714285714286}, {\"Fecha\": \"2020-05-13\", \"Sector\": \"5. Norte\", \"Casos confirmados\": 264.0}, {\"Fecha\": \"2020-05-14\", \"Sector\": \"5. Norte\", \"Casos confirmados\": 270.85714285714283}, {\"Fecha\": \"2020-05-15\", \"Sector\": \"5. Norte\", \"Casos confirmados\": 276.2857142857143}, {\"Fecha\": \"2020-05-16\", \"Sector\": \"5. Norte\", \"Casos confirmados\": 276.85714285714283}, {\"Fecha\": \"2020-05-17\", \"Sector\": \"5. Norte\", \"Casos confirmados\": 275.0}, {\"Fecha\": \"2020-05-18\", \"Sector\": \"5. Norte\", \"Casos confirmados\": 284.0}, {\"Fecha\": \"2020-05-19\", \"Sector\": \"5. Norte\", \"Casos confirmados\": 313.57142857142856}, {\"Fecha\": \"2020-05-20\", \"Sector\": \"5. Norte\", \"Casos confirmados\": 338.57142857142856}, {\"Fecha\": \"2020-05-21\", \"Sector\": \"5. Norte\", \"Casos confirmados\": 367.57142857142856}, {\"Fecha\": \"2020-05-22\", \"Sector\": \"5. Norte\", \"Casos confirmados\": 413.57142857142856}, {\"Fecha\": \"2020-05-23\", \"Sector\": \"5. Norte\", \"Casos confirmados\": 458.2857142857143}, {\"Fecha\": \"2020-05-24\", \"Sector\": \"5. Norte\", \"Casos confirmados\": 500.57142857142856}, {\"Fecha\": \"2020-05-25\", \"Sector\": \"5. Norte\", \"Casos confirmados\": 580.4285714285714}, {\"Fecha\": \"2020-05-26\", \"Sector\": \"5. Norte\", \"Casos confirmados\": 608.4285714285714}, {\"Fecha\": \"2020-05-27\", \"Sector\": \"5. Norte\", \"Casos confirmados\": 637.2857142857143}, {\"Fecha\": \"2020-05-28\", \"Sector\": \"5. Norte\", \"Casos confirmados\": 674.1428571428571}, {\"Fecha\": \"2020-05-29\", \"Sector\": \"5. Norte\", \"Casos confirmados\": 676.4285714285714}, {\"Fecha\": \"2020-05-30\", \"Sector\": \"5. Norte\", \"Casos confirmados\": 696.1428571428571}, {\"Fecha\": \"2020-05-31\", \"Sector\": \"5. Norte\", \"Casos confirmados\": 727.4285714285714}, {\"Fecha\": \"2020-06-01\", \"Sector\": \"5. Norte\", \"Casos confirmados\": 725.4285714285714}, {\"Fecha\": \"2020-06-02\", \"Sector\": \"5. Norte\", \"Casos confirmados\": 703.0}, {\"Fecha\": \"2020-06-03\", \"Sector\": \"5. Norte\", \"Casos confirmados\": 687.7142857142857}, {\"Fecha\": \"2020-06-04\", \"Sector\": \"5. Norte\", \"Casos confirmados\": 654.1428571428571}, {\"Fecha\": \"2020-06-05\", \"Sector\": \"5. Norte\", \"Casos confirmados\": 630.8571428571429}, {\"Fecha\": \"2020-06-06\", \"Sector\": \"5. Norte\", \"Casos confirmados\": 619.5714285714286}, {\"Fecha\": \"2020-06-07\", \"Sector\": \"5. Norte\", \"Casos confirmados\": 607.1428571428571}, {\"Fecha\": \"2020-06-08\", \"Sector\": \"5. Norte\", \"Casos confirmados\": 558.7142857142857}, {\"Fecha\": \"2020-06-09\", \"Sector\": \"5. Norte\", \"Casos confirmados\": 543.1428571428571}, {\"Fecha\": \"2020-06-10\", \"Sector\": \"5. Norte\", \"Casos confirmados\": 537.2857142857143}, {\"Fecha\": \"2020-06-11\", \"Sector\": \"5. Norte\", \"Casos confirmados\": 538.1428571428571}, {\"Fecha\": \"2020-06-12\", \"Sector\": \"5. Norte\", \"Casos confirmados\": 579.0}, {\"Fecha\": \"2020-06-13\", \"Sector\": \"5. Norte\", \"Casos confirmados\": 595.2857142857143}, {\"Fecha\": \"2020-06-14\", \"Sector\": \"5. Norte\", \"Casos confirmados\": 609.0}, {\"Fecha\": \"2020-06-15\", \"Sector\": \"5. Norte\", \"Casos confirmados\": 623.5714285714286}, {\"Fecha\": \"2020-06-16\", \"Sector\": \"5. Norte\", \"Casos confirmados\": 652.7142857142857}, {\"Fecha\": \"2020-06-17\", \"Sector\": \"5. Norte\", \"Casos confirmados\": 651.4285714285714}, {\"Fecha\": \"2020-06-18\", \"Sector\": \"5. Norte\", \"Casos confirmados\": 620.5714285714286}, {\"Fecha\": \"2020-06-19\", \"Sector\": \"5. Norte\", \"Casos confirmados\": 589.4285714285714}, {\"Fecha\": \"2020-06-20\", \"Sector\": \"5. Norte\", \"Casos confirmados\": 551.7142857142857}, {\"Fecha\": \"2020-06-21\", \"Sector\": \"5. Norte\", \"Casos confirmados\": 503.42857142857144}, {\"Fecha\": \"2020-06-22\", \"Sector\": \"5. Norte\", \"Casos confirmados\": 475.85714285714283}, {\"Fecha\": \"2020-06-23\", \"Sector\": \"5. Norte\", \"Casos confirmados\": 431.85714285714283}, {\"Fecha\": \"2020-06-24\", \"Sector\": \"5. Norte\", \"Casos confirmados\": 383.2857142857143}, {\"Fecha\": \"2020-06-25\", \"Sector\": \"5. Norte\", \"Casos confirmados\": 375.42857142857144}, {\"Fecha\": \"2020-06-26\", \"Sector\": \"5. Norte\", \"Casos confirmados\": 333.7142857142857}, {\"Fecha\": \"2020-06-27\", \"Sector\": \"5. Norte\", \"Casos confirmados\": 314.42857142857144}, {\"Fecha\": \"2020-06-28\", \"Sector\": \"5. Norte\", \"Casos confirmados\": 288.7142857142857}, {\"Fecha\": \"2020-06-29\", \"Sector\": \"5. Norte\", \"Casos confirmados\": 274.0}, {\"Fecha\": \"2020-06-30\", \"Sector\": \"5. Norte\", \"Casos confirmados\": 263.57142857142856}, {\"Fecha\": \"2020-07-01\", \"Sector\": \"5. Norte\", \"Casos confirmados\": 242.14285714285714}, {\"Fecha\": \"2020-07-02\", \"Sector\": \"5. Norte\", \"Casos confirmados\": 211.71428571428572}, {\"Fecha\": \"2020-07-03\", \"Sector\": \"5. Norte\", \"Casos confirmados\": 197.85714285714286}, {\"Fecha\": \"2020-07-04\", \"Sector\": \"5. Norte\", \"Casos confirmados\": 182.71428571428572}, {\"Fecha\": \"2020-07-05\", \"Sector\": \"5. Norte\", \"Casos confirmados\": 173.0}, {\"Fecha\": \"2020-07-06\", \"Sector\": \"5. Norte\", \"Casos confirmados\": 161.57142857142858}, {\"Fecha\": \"2020-07-07\", \"Sector\": \"5. Norte\", \"Casos confirmados\": 152.14285714285714}, {\"Fecha\": \"2020-07-08\", \"Sector\": \"5. Norte\", \"Casos confirmados\": 151.42857142857142}, {\"Fecha\": \"2020-07-09\", \"Sector\": \"5. Norte\", \"Casos confirmados\": 158.85714285714286}, {\"Fecha\": \"2020-07-10\", \"Sector\": \"5. Norte\", \"Casos confirmados\": 154.14285714285714}, {\"Fecha\": \"2020-07-11\", \"Sector\": \"5. Norte\", \"Casos confirmados\": 143.14285714285714}, {\"Fecha\": \"2020-07-12\", \"Sector\": \"5. Norte\", \"Casos confirmados\": 137.42857142857142}, {\"Fecha\": \"2020-07-13\", \"Sector\": \"5. Norte\", \"Casos confirmados\": 134.28571428571428}, {\"Fecha\": \"2020-04-01\", \"Sector\": \"4. Centro\", \"Casos confirmados\": null}, {\"Fecha\": \"2020-04-02\", \"Sector\": \"4. Centro\", \"Casos confirmados\": null}, {\"Fecha\": \"2020-04-03\", \"Sector\": \"4. Centro\", \"Casos confirmados\": null}, {\"Fecha\": \"2020-04-04\", \"Sector\": \"4. Centro\", \"Casos confirmados\": null}, {\"Fecha\": \"2020-04-05\", \"Sector\": \"4. Centro\", \"Casos confirmados\": null}, {\"Fecha\": \"2020-04-06\", \"Sector\": \"4. Centro\", \"Casos confirmados\": null}, {\"Fecha\": \"2020-04-07\", \"Sector\": \"4. Centro\", \"Casos confirmados\": 15.571428571428571}, {\"Fecha\": \"2020-04-08\", \"Sector\": \"4. Centro\", \"Casos confirmados\": 17.571428571428573}, {\"Fecha\": \"2020-04-09\", \"Sector\": \"4. Centro\", \"Casos confirmados\": 20.428571428571427}, {\"Fecha\": \"2020-04-10\", \"Sector\": \"4. Centro\", \"Casos confirmados\": 24.142857142857142}, {\"Fecha\": \"2020-04-11\", \"Sector\": \"4. Centro\", \"Casos confirmados\": 24.428571428571427}, {\"Fecha\": \"2020-04-12\", \"Sector\": \"4. Centro\", \"Casos confirmados\": 23.857142857142858}, {\"Fecha\": \"2020-04-13\", \"Sector\": \"4. Centro\", \"Casos confirmados\": 23.714285714285715}, {\"Fecha\": \"2020-04-14\", \"Sector\": \"4. Centro\", \"Casos confirmados\": 25.285714285714285}, {\"Fecha\": \"2020-04-15\", \"Sector\": \"4. Centro\", \"Casos confirmados\": 24.571428571428573}, {\"Fecha\": \"2020-04-16\", \"Sector\": \"4. Centro\", \"Casos confirmados\": 24.714285714285715}, {\"Fecha\": \"2020-04-17\", \"Sector\": \"4. Centro\", \"Casos confirmados\": 23.285714285714285}, {\"Fecha\": \"2020-04-18\", \"Sector\": \"4. Centro\", \"Casos confirmados\": 23.285714285714285}, {\"Fecha\": \"2020-04-19\", \"Sector\": \"4. Centro\", \"Casos confirmados\": 23.142857142857142}, {\"Fecha\": \"2020-04-20\", \"Sector\": \"4. Centro\", \"Casos confirmados\": 22.571428571428573}, {\"Fecha\": \"2020-04-21\", \"Sector\": \"4. Centro\", \"Casos confirmados\": 20.428571428571427}, {\"Fecha\": \"2020-04-22\", \"Sector\": \"4. Centro\", \"Casos confirmados\": 21.428571428571427}, {\"Fecha\": \"2020-04-23\", \"Sector\": \"4. Centro\", \"Casos confirmados\": 22.0}, {\"Fecha\": \"2020-04-24\", \"Sector\": \"4. Centro\", \"Casos confirmados\": 24.0}, {\"Fecha\": \"2020-04-25\", \"Sector\": \"4. Centro\", \"Casos confirmados\": 26.857142857142858}, {\"Fecha\": \"2020-04-26\", \"Sector\": \"4. Centro\", \"Casos confirmados\": 29.857142857142858}, {\"Fecha\": \"2020-04-27\", \"Sector\": \"4. Centro\", \"Casos confirmados\": 32.57142857142857}, {\"Fecha\": \"2020-04-28\", \"Sector\": \"4. Centro\", \"Casos confirmados\": 37.714285714285715}, {\"Fecha\": \"2020-04-29\", \"Sector\": \"4. Centro\", \"Casos confirmados\": 43.285714285714285}, {\"Fecha\": \"2020-04-30\", \"Sector\": \"4. Centro\", \"Casos confirmados\": 50.714285714285715}, {\"Fecha\": \"2020-05-01\", \"Sector\": \"4. Centro\", \"Casos confirmados\": 61.42857142857143}, {\"Fecha\": \"2020-05-02\", \"Sector\": \"4. Centro\", \"Casos confirmados\": 75.71428571428571}, {\"Fecha\": \"2020-05-03\", \"Sector\": \"4. Centro\", \"Casos confirmados\": 88.71428571428571}, {\"Fecha\": \"2020-05-04\", \"Sector\": \"4. Centro\", \"Casos confirmados\": 99.42857142857143}, {\"Fecha\": \"2020-05-05\", \"Sector\": \"4. Centro\", \"Casos confirmados\": 113.0}, {\"Fecha\": \"2020-05-06\", \"Sector\": \"4. Centro\", \"Casos confirmados\": 117.85714285714286}, {\"Fecha\": \"2020-05-07\", \"Sector\": \"4. Centro\", \"Casos confirmados\": 124.42857142857143}, {\"Fecha\": \"2020-05-08\", \"Sector\": \"4. Centro\", \"Casos confirmados\": 124.85714285714286}, {\"Fecha\": \"2020-05-09\", \"Sector\": \"4. Centro\", \"Casos confirmados\": 117.0}, {\"Fecha\": \"2020-05-10\", \"Sector\": \"4. Centro\", \"Casos confirmados\": 115.71428571428571}, {\"Fecha\": \"2020-05-11\", \"Sector\": \"4. Centro\", \"Casos confirmados\": 110.14285714285714}, {\"Fecha\": \"2020-05-12\", \"Sector\": \"4. Centro\", \"Casos confirmados\": 106.71428571428571}, {\"Fecha\": \"2020-05-13\", \"Sector\": \"4. Centro\", \"Casos confirmados\": 123.0}, {\"Fecha\": \"2020-05-14\", \"Sector\": \"4. Centro\", \"Casos confirmados\": 137.57142857142858}, {\"Fecha\": \"2020-05-15\", \"Sector\": \"4. Centro\", \"Casos confirmados\": 154.85714285714286}, {\"Fecha\": \"2020-05-16\", \"Sector\": \"4. Centro\", \"Casos confirmados\": 164.28571428571428}, {\"Fecha\": \"2020-05-17\", \"Sector\": \"4. Centro\", \"Casos confirmados\": 172.0}, {\"Fecha\": \"2020-05-18\", \"Sector\": \"4. Centro\", \"Casos confirmados\": 181.42857142857142}, {\"Fecha\": \"2020-05-19\", \"Sector\": \"4. Centro\", \"Casos confirmados\": 200.42857142857142}, {\"Fecha\": \"2020-05-20\", \"Sector\": \"4. Centro\", \"Casos confirmados\": 211.71428571428572}, {\"Fecha\": \"2020-05-21\", \"Sector\": \"4. Centro\", \"Casos confirmados\": 219.14285714285714}, {\"Fecha\": \"2020-05-22\", \"Sector\": \"4. Centro\", \"Casos confirmados\": 230.28571428571428}, {\"Fecha\": \"2020-05-23\", \"Sector\": \"4. Centro\", \"Casos confirmados\": 244.0}, {\"Fecha\": \"2020-05-24\", \"Sector\": \"4. Centro\", \"Casos confirmados\": 255.71428571428572}, {\"Fecha\": \"2020-05-25\", \"Sector\": \"4. Centro\", \"Casos confirmados\": 285.0}, {\"Fecha\": \"2020-05-26\", \"Sector\": \"4. Centro\", \"Casos confirmados\": 287.57142857142856}, {\"Fecha\": \"2020-05-27\", \"Sector\": \"4. Centro\", \"Casos confirmados\": 289.57142857142856}, {\"Fecha\": \"2020-05-28\", \"Sector\": \"4. Centro\", \"Casos confirmados\": 295.57142857142856}, {\"Fecha\": \"2020-05-29\", \"Sector\": \"4. Centro\", \"Casos confirmados\": 287.57142857142856}, {\"Fecha\": \"2020-05-30\", \"Sector\": \"4. Centro\", \"Casos confirmados\": 289.42857142857144}, {\"Fecha\": \"2020-05-31\", \"Sector\": \"4. Centro\", \"Casos confirmados\": 297.14285714285717}, {\"Fecha\": \"2020-06-01\", \"Sector\": \"4. Centro\", \"Casos confirmados\": 292.14285714285717}, {\"Fecha\": \"2020-06-02\", \"Sector\": \"4. Centro\", \"Casos confirmados\": 281.7142857142857}, {\"Fecha\": \"2020-06-03\", \"Sector\": \"4. Centro\", \"Casos confirmados\": 276.7142857142857}, {\"Fecha\": \"2020-06-04\", \"Sector\": \"4. Centro\", \"Casos confirmados\": 266.2857142857143}, {\"Fecha\": \"2020-06-05\", \"Sector\": \"4. Centro\", \"Casos confirmados\": 261.42857142857144}, {\"Fecha\": \"2020-06-06\", \"Sector\": \"4. Centro\", \"Casos confirmados\": 264.14285714285717}, {\"Fecha\": \"2020-06-07\", \"Sector\": \"4. Centro\", \"Casos confirmados\": 270.57142857142856}, {\"Fecha\": \"2020-06-08\", \"Sector\": \"4. Centro\", \"Casos confirmados\": 260.42857142857144}, {\"Fecha\": \"2020-06-09\", \"Sector\": \"4. Centro\", \"Casos confirmados\": 260.7142857142857}, {\"Fecha\": \"2020-06-10\", \"Sector\": \"4. Centro\", \"Casos confirmados\": 266.7142857142857}, {\"Fecha\": \"2020-06-11\", \"Sector\": \"4. Centro\", \"Casos confirmados\": 273.57142857142856}, {\"Fecha\": \"2020-06-12\", \"Sector\": \"4. Centro\", \"Casos confirmados\": 298.0}, {\"Fecha\": \"2020-06-13\", \"Sector\": \"4. Centro\", \"Casos confirmados\": 303.57142857142856}, {\"Fecha\": \"2020-06-14\", \"Sector\": \"4. Centro\", \"Casos confirmados\": 299.0}, {\"Fecha\": \"2020-06-15\", \"Sector\": \"4. Centro\", \"Casos confirmados\": 292.57142857142856}, {\"Fecha\": \"2020-06-16\", \"Sector\": \"4. Centro\", \"Casos confirmados\": 292.7142857142857}, {\"Fecha\": \"2020-06-17\", \"Sector\": \"4. Centro\", \"Casos confirmados\": 276.2857142857143}, {\"Fecha\": \"2020-06-18\", \"Sector\": \"4. Centro\", \"Casos confirmados\": 250.28571428571428}, {\"Fecha\": \"2020-06-19\", \"Sector\": \"4. Centro\", \"Casos confirmados\": 219.57142857142858}, {\"Fecha\": \"2020-06-20\", \"Sector\": \"4. Centro\", \"Casos confirmados\": 194.71428571428572}, {\"Fecha\": \"2020-06-21\", \"Sector\": \"4. Centro\", \"Casos confirmados\": 171.57142857142858}, {\"Fecha\": \"2020-06-22\", \"Sector\": \"4. Centro\", \"Casos confirmados\": 162.28571428571428}, {\"Fecha\": \"2020-06-23\", \"Sector\": \"4. Centro\", \"Casos confirmados\": 148.71428571428572}, {\"Fecha\": \"2020-06-24\", \"Sector\": \"4. Centro\", \"Casos confirmados\": 134.28571428571428}, {\"Fecha\": \"2020-06-25\", \"Sector\": \"4. Centro\", \"Casos confirmados\": 134.57142857142858}, {\"Fecha\": \"2020-06-26\", \"Sector\": \"4. Centro\", \"Casos confirmados\": 124.0}, {\"Fecha\": \"2020-06-27\", \"Sector\": \"4. Centro\", \"Casos confirmados\": 119.71428571428571}, {\"Fecha\": \"2020-06-28\", \"Sector\": \"4. Centro\", \"Casos confirmados\": 111.71428571428571}, {\"Fecha\": \"2020-06-29\", \"Sector\": \"4. Centro\", \"Casos confirmados\": 107.0}, {\"Fecha\": \"2020-06-30\", \"Sector\": \"4. Centro\", \"Casos confirmados\": 103.42857142857143}, {\"Fecha\": \"2020-07-01\", \"Sector\": \"4. Centro\", \"Casos confirmados\": 95.57142857142857}, {\"Fecha\": \"2020-07-02\", \"Sector\": \"4. Centro\", \"Casos confirmados\": 84.42857142857143}, {\"Fecha\": \"2020-07-03\", \"Sector\": \"4. Centro\", \"Casos confirmados\": 80.14285714285714}, {\"Fecha\": \"2020-07-04\", \"Sector\": \"4. Centro\", \"Casos confirmados\": 75.71428571428571}, {\"Fecha\": \"2020-07-05\", \"Sector\": \"4. Centro\", \"Casos confirmados\": 73.57142857142857}, {\"Fecha\": \"2020-07-06\", \"Sector\": \"4. Centro\", \"Casos confirmados\": 70.42857142857143}, {\"Fecha\": \"2020-07-07\", \"Sector\": \"4. Centro\", \"Casos confirmados\": 67.71428571428571}, {\"Fecha\": \"2020-07-08\", \"Sector\": \"4. Centro\", \"Casos confirmados\": 68.14285714285714}, {\"Fecha\": \"2020-07-09\", \"Sector\": \"4. Centro\", \"Casos confirmados\": 73.28571428571429}, {\"Fecha\": \"2020-07-10\", \"Sector\": \"4. Centro\", \"Casos confirmados\": 73.42857142857143}, {\"Fecha\": \"2020-07-11\", \"Sector\": \"4. Centro\", \"Casos confirmados\": 70.57142857142857}, {\"Fecha\": \"2020-07-12\", \"Sector\": \"4. Centro\", \"Casos confirmados\": 70.28571428571429}, {\"Fecha\": \"2020-07-13\", \"Sector\": \"4. Centro\", \"Casos confirmados\": 70.42857142857143}, {\"Fecha\": \"2020-04-01\", \"Sector\": \"3. Sur\", \"Casos confirmados\": null}, {\"Fecha\": \"2020-04-02\", \"Sector\": \"3. Sur\", \"Casos confirmados\": null}, {\"Fecha\": \"2020-04-03\", \"Sector\": \"3. Sur\", \"Casos confirmados\": null}, {\"Fecha\": \"2020-04-04\", \"Sector\": \"3. Sur\", \"Casos confirmados\": null}, {\"Fecha\": \"2020-04-05\", \"Sector\": \"3. Sur\", \"Casos confirmados\": null}, {\"Fecha\": \"2020-04-06\", \"Sector\": \"3. Sur\", \"Casos confirmados\": null}, {\"Fecha\": \"2020-04-07\", \"Sector\": \"3. Sur\", \"Casos confirmados\": 23.857142857142858}, {\"Fecha\": \"2020-04-08\", \"Sector\": \"3. Sur\", \"Casos confirmados\": 25.571428571428573}, {\"Fecha\": \"2020-04-09\", \"Sector\": \"3. Sur\", \"Casos confirmados\": 31.0}, {\"Fecha\": \"2020-04-10\", \"Sector\": \"3. Sur\", \"Casos confirmados\": 41.42857142857143}, {\"Fecha\": \"2020-04-11\", \"Sector\": \"3. Sur\", \"Casos confirmados\": 44.57142857142857}, {\"Fecha\": \"2020-04-12\", \"Sector\": \"3. Sur\", \"Casos confirmados\": 46.142857142857146}, {\"Fecha\": \"2020-04-13\", \"Sector\": \"3. Sur\", \"Casos confirmados\": 49.857142857142854}, {\"Fecha\": \"2020-04-14\", \"Sector\": \"3. Sur\", \"Casos confirmados\": 58.285714285714285}, {\"Fecha\": \"2020-04-15\", \"Sector\": \"3. Sur\", \"Casos confirmados\": 63.142857142857146}, {\"Fecha\": \"2020-04-16\", \"Sector\": \"3. Sur\", \"Casos confirmados\": 66.71428571428571}, {\"Fecha\": \"2020-04-17\", \"Sector\": \"3. Sur\", \"Casos confirmados\": 60.285714285714285}, {\"Fecha\": \"2020-04-18\", \"Sector\": \"3. Sur\", \"Casos confirmados\": 60.42857142857143}, {\"Fecha\": \"2020-04-19\", \"Sector\": \"3. Sur\", \"Casos confirmados\": 62.57142857142857}, {\"Fecha\": \"2020-04-20\", \"Sector\": \"3. Sur\", \"Casos confirmados\": 66.42857142857143}, {\"Fecha\": \"2020-04-21\", \"Sector\": \"3. Sur\", \"Casos confirmados\": 61.0}, {\"Fecha\": \"2020-04-22\", \"Sector\": \"3. Sur\", \"Casos confirmados\": 62.285714285714285}, {\"Fecha\": \"2020-04-23\", \"Sector\": \"3. Sur\", \"Casos confirmados\": 62.714285714285715}, {\"Fecha\": \"2020-04-24\", \"Sector\": \"3. Sur\", \"Casos confirmados\": 67.28571428571429}, {\"Fecha\": \"2020-04-25\", \"Sector\": \"3. Sur\", \"Casos confirmados\": 73.28571428571429}, {\"Fecha\": \"2020-04-26\", \"Sector\": \"3. Sur\", \"Casos confirmados\": 79.71428571428571}, {\"Fecha\": \"2020-04-27\", \"Sector\": \"3. Sur\", \"Casos confirmados\": 85.14285714285714}, {\"Fecha\": \"2020-04-28\", \"Sector\": \"3. Sur\", \"Casos confirmados\": 97.85714285714286}, {\"Fecha\": \"2020-04-29\", \"Sector\": \"3. Sur\", \"Casos confirmados\": 108.85714285714286}, {\"Fecha\": \"2020-04-30\", \"Sector\": \"3. Sur\", \"Casos confirmados\": 121.0}, {\"Fecha\": \"2020-05-01\", \"Sector\": \"3. Sur\", \"Casos confirmados\": 136.71428571428572}, {\"Fecha\": \"2020-05-02\", \"Sector\": \"3. Sur\", \"Casos confirmados\": 157.71428571428572}, {\"Fecha\": \"2020-05-03\", \"Sector\": \"3. Sur\", \"Casos confirmados\": 176.42857142857142}, {\"Fecha\": \"2020-05-04\", \"Sector\": \"3. Sur\", \"Casos confirmados\": 189.14285714285714}, {\"Fecha\": \"2020-05-05\", \"Sector\": \"3. Sur\", \"Casos confirmados\": 211.85714285714286}, {\"Fecha\": \"2020-05-06\", \"Sector\": \"3. Sur\", \"Casos confirmados\": 220.42857142857142}, {\"Fecha\": \"2020-05-07\", \"Sector\": \"3. Sur\", \"Casos confirmados\": 240.85714285714286}, {\"Fecha\": \"2020-05-08\", \"Sector\": \"3. Sur\", \"Casos confirmados\": 256.7142857142857}, {\"Fecha\": \"2020-05-09\", \"Sector\": \"3. Sur\", \"Casos confirmados\": 255.28571428571428}, {\"Fecha\": \"2020-05-10\", \"Sector\": \"3. Sur\", \"Casos confirmados\": 270.2857142857143}, {\"Fecha\": \"2020-05-11\", \"Sector\": \"3. Sur\", \"Casos confirmados\": 272.57142857142856}, {\"Fecha\": \"2020-05-12\", \"Sector\": \"3. Sur\", \"Casos confirmados\": 281.42857142857144}, {\"Fecha\": \"2020-05-13\", \"Sector\": \"3. Sur\", \"Casos confirmados\": 338.2857142857143}, {\"Fecha\": \"2020-05-14\", \"Sector\": \"3. Sur\", \"Casos confirmados\": 387.2857142857143}, {\"Fecha\": \"2020-05-15\", \"Sector\": \"3. Sur\", \"Casos confirmados\": 437.2857142857143}, {\"Fecha\": \"2020-05-16\", \"Sector\": \"3. Sur\", \"Casos confirmados\": 471.7142857142857}, {\"Fecha\": \"2020-05-17\", \"Sector\": \"3. Sur\", \"Casos confirmados\": 512.0}, {\"Fecha\": \"2020-05-18\", \"Sector\": \"3. Sur\", \"Casos confirmados\": 564.0}, {\"Fecha\": \"2020-05-19\", \"Sector\": \"3. Sur\", \"Casos confirmados\": 659.5714285714286}, {\"Fecha\": \"2020-05-20\", \"Sector\": \"3. Sur\", \"Casos confirmados\": 734.8571428571429}, {\"Fecha\": \"2020-05-21\", \"Sector\": \"3. Sur\", \"Casos confirmados\": 794.5714285714286}, {\"Fecha\": \"2020-05-22\", \"Sector\": \"3. Sur\", \"Casos confirmados\": 863.7142857142857}, {\"Fecha\": \"2020-05-23\", \"Sector\": \"3. Sur\", \"Casos confirmados\": 919.2857142857143}, {\"Fecha\": \"2020-05-24\", \"Sector\": \"3. Sur\", \"Casos confirmados\": 951.4285714285714}, {\"Fecha\": \"2020-05-25\", \"Sector\": \"3. Sur\", \"Casos confirmados\": 1023.4285714285714}, {\"Fecha\": \"2020-05-26\", \"Sector\": \"3. Sur\", \"Casos confirmados\": 996.2857142857143}, {\"Fecha\": \"2020-05-27\", \"Sector\": \"3. Sur\", \"Casos confirmados\": 963.4285714285714}, {\"Fecha\": \"2020-05-28\", \"Sector\": \"3. Sur\", \"Casos confirmados\": 945.0}, {\"Fecha\": \"2020-05-29\", \"Sector\": \"3. Sur\", \"Casos confirmados\": 885.8571428571429}, {\"Fecha\": \"2020-05-30\", \"Sector\": \"3. Sur\", \"Casos confirmados\": 879.4285714285714}, {\"Fecha\": \"2020-05-31\", \"Sector\": \"3. Sur\", \"Casos confirmados\": 915.2857142857143}, {\"Fecha\": \"2020-06-01\", \"Sector\": \"3. Sur\", \"Casos confirmados\": 938.4285714285714}, {\"Fecha\": \"2020-06-02\", \"Sector\": \"3. Sur\", \"Casos confirmados\": 928.7142857142857}, {\"Fecha\": \"2020-06-03\", \"Sector\": \"3. Sur\", \"Casos confirmados\": 941.1428571428571}, {\"Fecha\": \"2020-06-04\", \"Sector\": \"3. Sur\", \"Casos confirmados\": 934.0}, {\"Fecha\": \"2020-06-05\", \"Sector\": \"3. Sur\", \"Casos confirmados\": 938.1428571428571}, {\"Fecha\": \"2020-06-06\", \"Sector\": \"3. Sur\", \"Casos confirmados\": 974.0}, {\"Fecha\": \"2020-06-07\", \"Sector\": \"3. Sur\", \"Casos confirmados\": 1034.4285714285713}, {\"Fecha\": \"2020-06-08\", \"Sector\": \"3. Sur\", \"Casos confirmados\": 1019.8571428571429}, {\"Fecha\": \"2020-06-09\", \"Sector\": \"3. Sur\", \"Casos confirmados\": 1041.2857142857142}, {\"Fecha\": \"2020-06-10\", \"Sector\": \"3. Sur\", \"Casos confirmados\": 1092.857142857143}, {\"Fecha\": \"2020-06-11\", \"Sector\": \"3. Sur\", \"Casos confirmados\": 1143.4285714285713}, {\"Fecha\": \"2020-06-12\", \"Sector\": \"3. Sur\", \"Casos confirmados\": 1256.142857142857}, {\"Fecha\": \"2020-06-13\", \"Sector\": \"3. Sur\", \"Casos confirmados\": 1293.0}, {\"Fecha\": \"2020-06-14\", \"Sector\": \"3. Sur\", \"Casos confirmados\": 1280.7142857142858}, {\"Fecha\": \"2020-06-15\", \"Sector\": \"3. Sur\", \"Casos confirmados\": 1250.4285714285713}, {\"Fecha\": \"2020-06-16\", \"Sector\": \"3. Sur\", \"Casos confirmados\": 1264.4285714285713}, {\"Fecha\": \"2020-06-17\", \"Sector\": \"3. Sur\", \"Casos confirmados\": 1219.5714285714287}, {\"Fecha\": \"2020-06-18\", \"Sector\": \"3. Sur\", \"Casos confirmados\": 1136.0}, {\"Fecha\": \"2020-06-19\", \"Sector\": \"3. Sur\", \"Casos confirmados\": 1061.0}, {\"Fecha\": \"2020-06-20\", \"Sector\": \"3. Sur\", \"Casos confirmados\": 984.1428571428571}, {\"Fecha\": \"2020-06-21\", \"Sector\": \"3. Sur\", \"Casos confirmados\": 896.5714285714286}, {\"Fecha\": \"2020-06-22\", \"Sector\": \"3. Sur\", \"Casos confirmados\": 852.8571428571429}, {\"Fecha\": \"2020-06-23\", \"Sector\": \"3. Sur\", \"Casos confirmados\": 779.5714285714286}, {\"Fecha\": \"2020-06-24\", \"Sector\": \"3. Sur\", \"Casos confirmados\": 699.2857142857143}, {\"Fecha\": \"2020-06-25\", \"Sector\": \"3. Sur\", \"Casos confirmados\": 696.0}, {\"Fecha\": \"2020-06-26\", \"Sector\": \"3. Sur\", \"Casos confirmados\": 633.0}, {\"Fecha\": \"2020-06-27\", \"Sector\": \"3. Sur\", \"Casos confirmados\": 614.2857142857143}, {\"Fecha\": \"2020-06-28\", \"Sector\": \"3. Sur\", \"Casos confirmados\": 583.4285714285714}, {\"Fecha\": \"2020-06-29\", \"Sector\": \"3. Sur\", \"Casos confirmados\": 572.8571428571429}, {\"Fecha\": \"2020-06-30\", \"Sector\": \"3. Sur\", \"Casos confirmados\": 569.4285714285714}, {\"Fecha\": \"2020-07-01\", \"Sector\": \"3. Sur\", \"Casos confirmados\": 537.1428571428571}, {\"Fecha\": \"2020-07-02\", \"Sector\": \"3. Sur\", \"Casos confirmados\": 483.7142857142857}, {\"Fecha\": \"2020-07-03\", \"Sector\": \"3. Sur\", \"Casos confirmados\": 464.7142857142857}, {\"Fecha\": \"2020-07-04\", \"Sector\": \"3. Sur\", \"Casos confirmados\": 439.85714285714283}, {\"Fecha\": \"2020-07-05\", \"Sector\": \"3. Sur\", \"Casos confirmados\": 423.2857142857143}, {\"Fecha\": \"2020-07-06\", \"Sector\": \"3. Sur\", \"Casos confirmados\": 397.7142857142857}, {\"Fecha\": \"2020-07-07\", \"Sector\": \"3. Sur\", \"Casos confirmados\": 373.2857142857143}, {\"Fecha\": \"2020-07-08\", \"Sector\": \"3. Sur\", \"Casos confirmados\": 368.0}, {\"Fecha\": \"2020-07-09\", \"Sector\": \"3. Sur\", \"Casos confirmados\": 382.42857142857144}, {\"Fecha\": \"2020-07-10\", \"Sector\": \"3. Sur\", \"Casos confirmados\": 367.2857142857143}, {\"Fecha\": \"2020-07-11\", \"Sector\": \"3. Sur\", \"Casos confirmados\": 338.0}, {\"Fecha\": \"2020-07-12\", \"Sector\": \"3. Sur\", \"Casos confirmados\": 321.42857142857144}, {\"Fecha\": \"2020-07-13\", \"Sector\": \"3. Sur\", \"Casos confirmados\": 313.0}, {\"Fecha\": \"2020-04-01\", \"Sector\": \"2. Norponiente\", \"Casos confirmados\": null}, {\"Fecha\": \"2020-04-02\", \"Sector\": \"2. Norponiente\", \"Casos confirmados\": null}, {\"Fecha\": \"2020-04-03\", \"Sector\": \"2. Norponiente\", \"Casos confirmados\": null}, {\"Fecha\": \"2020-04-04\", \"Sector\": \"2. Norponiente\", \"Casos confirmados\": null}, {\"Fecha\": \"2020-04-05\", \"Sector\": \"2. Norponiente\", \"Casos confirmados\": null}, {\"Fecha\": \"2020-04-06\", \"Sector\": \"2. Norponiente\", \"Casos confirmados\": null}, {\"Fecha\": \"2020-04-07\", \"Sector\": \"2. Norponiente\", \"Casos confirmados\": 11.571428571428571}, {\"Fecha\": \"2020-04-08\", \"Sector\": \"2. Norponiente\", \"Casos confirmados\": 14.142857142857142}, {\"Fecha\": \"2020-04-09\", \"Sector\": \"2. Norponiente\", \"Casos confirmados\": 16.857142857142858}, {\"Fecha\": \"2020-04-10\", \"Sector\": \"2. Norponiente\", \"Casos confirmados\": 19.0}, {\"Fecha\": \"2020-04-11\", \"Sector\": \"2. Norponiente\", \"Casos confirmados\": 18.714285714285715}, {\"Fecha\": \"2020-04-12\", \"Sector\": \"2. Norponiente\", \"Casos confirmados\": 19.142857142857142}, {\"Fecha\": \"2020-04-13\", \"Sector\": \"2. Norponiente\", \"Casos confirmados\": 21.142857142857142}, {\"Fecha\": \"2020-04-14\", \"Sector\": \"2. Norponiente\", \"Casos confirmados\": 25.142857142857142}, {\"Fecha\": \"2020-04-15\", \"Sector\": \"2. Norponiente\", \"Casos confirmados\": 26.285714285714285}, {\"Fecha\": \"2020-04-16\", \"Sector\": \"2. Norponiente\", \"Casos confirmados\": 29.142857142857142}, {\"Fecha\": \"2020-04-17\", \"Sector\": \"2. Norponiente\", \"Casos confirmados\": 29.857142857142858}, {\"Fecha\": \"2020-04-18\", \"Sector\": \"2. Norponiente\", \"Casos confirmados\": 32.285714285714285}, {\"Fecha\": \"2020-04-19\", \"Sector\": \"2. Norponiente\", \"Casos confirmados\": 34.0}, {\"Fecha\": \"2020-04-20\", \"Sector\": \"2. Norponiente\", \"Casos confirmados\": 36.142857142857146}, {\"Fecha\": \"2020-04-21\", \"Sector\": \"2. Norponiente\", \"Casos confirmados\": 33.57142857142857}, {\"Fecha\": \"2020-04-22\", \"Sector\": \"2. Norponiente\", \"Casos confirmados\": 34.142857142857146}, {\"Fecha\": \"2020-04-23\", \"Sector\": \"2. Norponiente\", \"Casos confirmados\": 32.714285714285715}, {\"Fecha\": \"2020-04-24\", \"Sector\": \"2. Norponiente\", \"Casos confirmados\": 32.57142857142857}, {\"Fecha\": \"2020-04-25\", \"Sector\": \"2. Norponiente\", \"Casos confirmados\": 33.285714285714285}, {\"Fecha\": \"2020-04-26\", \"Sector\": \"2. Norponiente\", \"Casos confirmados\": 35.0}, {\"Fecha\": \"2020-04-27\", \"Sector\": \"2. Norponiente\", \"Casos confirmados\": 35.857142857142854}, {\"Fecha\": \"2020-04-28\", \"Sector\": \"2. Norponiente\", \"Casos confirmados\": 41.142857142857146}, {\"Fecha\": \"2020-04-29\", \"Sector\": \"2. Norponiente\", \"Casos confirmados\": 46.42857142857143}, {\"Fecha\": \"2020-04-30\", \"Sector\": \"2. Norponiente\", \"Casos confirmados\": 54.285714285714285}, {\"Fecha\": \"2020-05-01\", \"Sector\": \"2. Norponiente\", \"Casos confirmados\": 66.0}, {\"Fecha\": \"2020-05-02\", \"Sector\": \"2. Norponiente\", \"Casos confirmados\": 79.42857142857143}, {\"Fecha\": \"2020-05-03\", \"Sector\": \"2. Norponiente\", \"Casos confirmados\": 89.85714285714286}, {\"Fecha\": \"2020-05-04\", \"Sector\": \"2. Norponiente\", \"Casos confirmados\": 96.42857142857143}, {\"Fecha\": \"2020-05-05\", \"Sector\": \"2. Norponiente\", \"Casos confirmados\": 105.42857142857143}, {\"Fecha\": \"2020-05-06\", \"Sector\": \"2. Norponiente\", \"Casos confirmados\": 106.85714285714286}, {\"Fecha\": \"2020-05-07\", \"Sector\": \"2. Norponiente\", \"Casos confirmados\": 110.42857142857143}, {\"Fecha\": \"2020-05-08\", \"Sector\": \"2. Norponiente\", \"Casos confirmados\": 109.42857142857143}, {\"Fecha\": \"2020-05-09\", \"Sector\": \"2. Norponiente\", \"Casos confirmados\": 105.85714285714286}, {\"Fecha\": \"2020-05-10\", \"Sector\": \"2. Norponiente\", \"Casos confirmados\": 117.71428571428571}, {\"Fecha\": \"2020-05-11\", \"Sector\": \"2. Norponiente\", \"Casos confirmados\": 127.14285714285714}, {\"Fecha\": \"2020-05-12\", \"Sector\": \"2. Norponiente\", \"Casos confirmados\": 138.0}, {\"Fecha\": \"2020-05-13\", \"Sector\": \"2. Norponiente\", \"Casos confirmados\": 163.71428571428572}, {\"Fecha\": \"2020-05-14\", \"Sector\": \"2. Norponiente\", \"Casos confirmados\": 177.14285714285714}, {\"Fecha\": \"2020-05-15\", \"Sector\": \"2. Norponiente\", \"Casos confirmados\": 182.85714285714286}, {\"Fecha\": \"2020-05-16\", \"Sector\": \"2. Norponiente\", \"Casos confirmados\": 183.42857142857142}, {\"Fecha\": \"2020-05-17\", \"Sector\": \"2. Norponiente\", \"Casos confirmados\": 178.42857142857142}, {\"Fecha\": \"2020-05-18\", \"Sector\": \"2. Norponiente\", \"Casos confirmados\": 179.14285714285714}, {\"Fecha\": \"2020-05-19\", \"Sector\": \"2. Norponiente\", \"Casos confirmados\": 196.57142857142858}, {\"Fecha\": \"2020-05-20\", \"Sector\": \"2. Norponiente\", \"Casos confirmados\": 214.71428571428572}, {\"Fecha\": \"2020-05-21\", \"Sector\": \"2. Norponiente\", \"Casos confirmados\": 242.57142857142858}, {\"Fecha\": \"2020-05-22\", \"Sector\": \"2. Norponiente\", \"Casos confirmados\": 288.57142857142856}, {\"Fecha\": \"2020-05-23\", \"Sector\": \"2. Norponiente\", \"Casos confirmados\": 322.7142857142857}, {\"Fecha\": \"2020-05-24\", \"Sector\": \"2. Norponiente\", \"Casos confirmados\": 347.7142857142857}, {\"Fecha\": \"2020-05-25\", \"Sector\": \"2. Norponiente\", \"Casos confirmados\": 385.2857142857143}, {\"Fecha\": \"2020-05-26\", \"Sector\": \"2. Norponiente\", \"Casos confirmados\": 387.57142857142856}, {\"Fecha\": \"2020-05-27\", \"Sector\": \"2. Norponiente\", \"Casos confirmados\": 385.7142857142857}, {\"Fecha\": \"2020-05-28\", \"Sector\": \"2. Norponiente\", \"Casos confirmados\": 385.42857142857144}, {\"Fecha\": \"2020-05-29\", \"Sector\": \"2. Norponiente\", \"Casos confirmados\": 363.7142857142857}, {\"Fecha\": \"2020-05-30\", \"Sector\": \"2. Norponiente\", \"Casos confirmados\": 374.0}, {\"Fecha\": \"2020-05-31\", \"Sector\": \"2. Norponiente\", \"Casos confirmados\": 417.42857142857144}, {\"Fecha\": \"2020-06-01\", \"Sector\": \"2. Norponiente\", \"Casos confirmados\": 473.14285714285717}, {\"Fecha\": \"2020-06-02\", \"Sector\": \"2. Norponiente\", \"Casos confirmados\": 497.7142857142857}, {\"Fecha\": \"2020-06-03\", \"Sector\": \"2. Norponiente\", \"Casos confirmados\": 540.2857142857143}, {\"Fecha\": \"2020-06-04\", \"Sector\": \"2. Norponiente\", \"Casos confirmados\": 571.1428571428571}, {\"Fecha\": \"2020-06-05\", \"Sector\": \"2. Norponiente\", \"Casos confirmados\": 601.5714285714286}, {\"Fecha\": \"2020-06-06\", \"Sector\": \"2. Norponiente\", \"Casos confirmados\": 630.8571428571429}, {\"Fecha\": \"2020-06-07\", \"Sector\": \"2. Norponiente\", \"Casos confirmados\": 644.8571428571429}, {\"Fecha\": \"2020-06-08\", \"Sector\": \"2. Norponiente\", \"Casos confirmados\": 594.7142857142857}, {\"Fecha\": \"2020-06-09\", \"Sector\": \"2. Norponiente\", \"Casos confirmados\": 579.0}, {\"Fecha\": \"2020-06-10\", \"Sector\": \"2. Norponiente\", \"Casos confirmados\": 573.4285714285714}, {\"Fecha\": \"2020-06-11\", \"Sector\": \"2. Norponiente\", \"Casos confirmados\": 574.8571428571429}, {\"Fecha\": \"2020-06-12\", \"Sector\": \"2. Norponiente\", \"Casos confirmados\": 618.4285714285714}, {\"Fecha\": \"2020-06-13\", \"Sector\": \"2. Norponiente\", \"Casos confirmados\": 660.1428571428571}, {\"Fecha\": \"2020-06-14\", \"Sector\": \"2. Norponiente\", \"Casos confirmados\": 729.1428571428571}, {\"Fecha\": \"2020-06-15\", \"Sector\": \"2. Norponiente\", \"Casos confirmados\": 800.8571428571429}, {\"Fecha\": \"2020-06-16\", \"Sector\": \"2. Norponiente\", \"Casos confirmados\": 876.5714285714286}, {\"Fecha\": \"2020-06-17\", \"Sector\": \"2. Norponiente\", \"Casos confirmados\": 906.7142857142857}, {\"Fecha\": \"2020-06-18\", \"Sector\": \"2. Norponiente\", \"Casos confirmados\": 884.7142857142857}, {\"Fecha\": \"2020-06-19\", \"Sector\": \"2. Norponiente\", \"Casos confirmados\": 855.5714285714286}, {\"Fecha\": \"2020-06-20\", \"Sector\": \"2. Norponiente\", \"Casos confirmados\": 797.5714285714286}, {\"Fecha\": \"2020-06-21\", \"Sector\": \"2. Norponiente\", \"Casos confirmados\": 701.8571428571429}, {\"Fecha\": \"2020-06-22\", \"Sector\": \"2. Norponiente\", \"Casos confirmados\": 627.0}, {\"Fecha\": \"2020-06-23\", \"Sector\": \"2. Norponiente\", \"Casos confirmados\": 546.7142857142857}, {\"Fecha\": \"2020-06-24\", \"Sector\": \"2. Norponiente\", \"Casos confirmados\": 474.57142857142856}, {\"Fecha\": \"2020-06-25\", \"Sector\": \"2. Norponiente\", \"Casos confirmados\": 469.42857142857144}, {\"Fecha\": \"2020-06-26\", \"Sector\": \"2. Norponiente\", \"Casos confirmados\": 433.14285714285717}, {\"Fecha\": \"2020-06-27\", \"Sector\": \"2. Norponiente\", \"Casos confirmados\": 419.85714285714283}, {\"Fecha\": \"2020-06-28\", \"Sector\": \"2. Norponiente\", \"Casos confirmados\": 393.85714285714283}, {\"Fecha\": \"2020-06-29\", \"Sector\": \"2. Norponiente\", \"Casos confirmados\": 382.0}, {\"Fecha\": \"2020-06-30\", \"Sector\": \"2. Norponiente\", \"Casos confirmados\": 375.85714285714283}, {\"Fecha\": \"2020-07-01\", \"Sector\": \"2. Norponiente\", \"Casos confirmados\": 353.0}, {\"Fecha\": \"2020-07-02\", \"Sector\": \"2. Norponiente\", \"Casos confirmados\": 316.42857142857144}, {\"Fecha\": \"2020-07-03\", \"Sector\": \"2. Norponiente\", \"Casos confirmados\": 302.85714285714283}, {\"Fecha\": \"2020-07-04\", \"Sector\": \"2. Norponiente\", \"Casos confirmados\": 285.14285714285717}, {\"Fecha\": \"2020-07-05\", \"Sector\": \"2. Norponiente\", \"Casos confirmados\": 272.2857142857143}, {\"Fecha\": \"2020-07-06\", \"Sector\": \"2. Norponiente\", \"Casos confirmados\": 252.57142857142858}, {\"Fecha\": \"2020-07-07\", \"Sector\": \"2. Norponiente\", \"Casos confirmados\": 231.71428571428572}, {\"Fecha\": \"2020-07-08\", \"Sector\": \"2. Norponiente\", \"Casos confirmados\": 224.0}, {\"Fecha\": \"2020-07-09\", \"Sector\": \"2. Norponiente\", \"Casos confirmados\": 229.28571428571428}, {\"Fecha\": \"2020-07-10\", \"Sector\": \"2. Norponiente\", \"Casos confirmados\": 218.0}, {\"Fecha\": \"2020-07-11\", \"Sector\": \"2. Norponiente\", \"Casos confirmados\": 199.85714285714286}, {\"Fecha\": \"2020-07-12\", \"Sector\": \"2. Norponiente\", \"Casos confirmados\": 191.42857142857142}, {\"Fecha\": \"2020-07-13\", \"Sector\": \"2. Norponiente\", \"Casos confirmados\": 187.14285714285714}, {\"Fecha\": \"2020-04-01\", \"Sector\": \"1. Surponiente\", \"Casos confirmados\": null}, {\"Fecha\": \"2020-04-02\", \"Sector\": \"1. Surponiente\", \"Casos confirmados\": null}, {\"Fecha\": \"2020-04-03\", \"Sector\": \"1. Surponiente\", \"Casos confirmados\": null}, {\"Fecha\": \"2020-04-04\", \"Sector\": \"1. Surponiente\", \"Casos confirmados\": null}, {\"Fecha\": \"2020-04-05\", \"Sector\": \"1. Surponiente\", \"Casos confirmados\": null}, {\"Fecha\": \"2020-04-06\", \"Sector\": \"1. Surponiente\", \"Casos confirmados\": null}, {\"Fecha\": \"2020-04-07\", \"Sector\": \"1. Surponiente\", \"Casos confirmados\": 9.857142857142858}, {\"Fecha\": \"2020-04-08\", \"Sector\": \"1. Surponiente\", \"Casos confirmados\": 12.0}, {\"Fecha\": \"2020-04-09\", \"Sector\": \"1. Surponiente\", \"Casos confirmados\": 16.571428571428573}, {\"Fecha\": \"2020-04-10\", \"Sector\": \"1. Surponiente\", \"Casos confirmados\": 24.571428571428573}, {\"Fecha\": \"2020-04-11\", \"Sector\": \"1. Surponiente\", \"Casos confirmados\": 28.0}, {\"Fecha\": \"2020-04-12\", \"Sector\": \"1. Surponiente\", \"Casos confirmados\": 29.142857142857142}, {\"Fecha\": \"2020-04-13\", \"Sector\": \"1. Surponiente\", \"Casos confirmados\": 30.714285714285715}, {\"Fecha\": \"2020-04-14\", \"Sector\": \"1. Surponiente\", \"Casos confirmados\": 35.714285714285715}, {\"Fecha\": \"2020-04-15\", \"Sector\": \"1. Surponiente\", \"Casos confirmados\": 38.857142857142854}, {\"Fecha\": \"2020-04-16\", \"Sector\": \"1. Surponiente\", \"Casos confirmados\": 40.57142857142857}, {\"Fecha\": \"2020-04-17\", \"Sector\": \"1. Surponiente\", \"Casos confirmados\": 35.285714285714285}, {\"Fecha\": \"2020-04-18\", \"Sector\": \"1. Surponiente\", \"Casos confirmados\": 33.857142857142854}, {\"Fecha\": \"2020-04-19\", \"Sector\": \"1. Surponiente\", \"Casos confirmados\": 34.0}, {\"Fecha\": \"2020-04-20\", \"Sector\": \"1. Surponiente\", \"Casos confirmados\": 34.42857142857143}, {\"Fecha\": \"2020-04-21\", \"Sector\": \"1. Surponiente\", \"Casos confirmados\": 30.142857142857142}, {\"Fecha\": \"2020-04-22\", \"Sector\": \"1. Surponiente\", \"Casos confirmados\": 28.428571428571427}, {\"Fecha\": \"2020-04-23\", \"Sector\": \"1. Surponiente\", \"Casos confirmados\": 27.0}, {\"Fecha\": \"2020-04-24\", \"Sector\": \"1. Surponiente\", \"Casos confirmados\": 29.285714285714285}, {\"Fecha\": \"2020-04-25\", \"Sector\": \"1. Surponiente\", \"Casos confirmados\": 31.857142857142858}, {\"Fecha\": \"2020-04-26\", \"Sector\": \"1. Surponiente\", \"Casos confirmados\": 34.142857142857146}, {\"Fecha\": \"2020-04-27\", \"Sector\": \"1. Surponiente\", \"Casos confirmados\": 35.857142857142854}, {\"Fecha\": \"2020-04-28\", \"Sector\": \"1. Surponiente\", \"Casos confirmados\": 41.0}, {\"Fecha\": \"2020-04-29\", \"Sector\": \"1. Surponiente\", \"Casos confirmados\": 46.42857142857143}, {\"Fecha\": \"2020-04-30\", \"Sector\": \"1. Surponiente\", \"Casos confirmados\": 53.714285714285715}, {\"Fecha\": \"2020-05-01\", \"Sector\": \"1. Surponiente\", \"Casos confirmados\": 64.57142857142857}, {\"Fecha\": \"2020-05-02\", \"Sector\": \"1. Surponiente\", \"Casos confirmados\": 79.42857142857143}, {\"Fecha\": \"2020-05-03\", \"Sector\": \"1. Surponiente\", \"Casos confirmados\": 93.28571428571429}, {\"Fecha\": \"2020-05-04\", \"Sector\": \"1. Surponiente\", \"Casos confirmados\": 104.57142857142857}, {\"Fecha\": \"2020-05-05\", \"Sector\": \"1. Surponiente\", \"Casos confirmados\": 118.71428571428571}, {\"Fecha\": \"2020-05-06\", \"Sector\": \"1. Surponiente\", \"Casos confirmados\": 122.85714285714286}, {\"Fecha\": \"2020-05-07\", \"Sector\": \"1. Surponiente\", \"Casos confirmados\": 128.28571428571428}, {\"Fecha\": \"2020-05-08\", \"Sector\": \"1. Surponiente\", \"Casos confirmados\": 127.57142857142857}, {\"Fecha\": \"2020-05-09\", \"Sector\": \"1. Surponiente\", \"Casos confirmados\": 119.57142857142857}, {\"Fecha\": \"2020-05-10\", \"Sector\": \"1. Surponiente\", \"Casos confirmados\": 120.28571428571429}, {\"Fecha\": \"2020-05-11\", \"Sector\": \"1. Surponiente\", \"Casos confirmados\": 117.28571428571429}, {\"Fecha\": \"2020-05-12\", \"Sector\": \"1. Surponiente\", \"Casos confirmados\": 116.85714285714286}, {\"Fecha\": \"2020-05-13\", \"Sector\": \"1. Surponiente\", \"Casos confirmados\": 138.28571428571428}, {\"Fecha\": \"2020-05-14\", \"Sector\": \"1. Surponiente\", \"Casos confirmados\": 156.85714285714286}, {\"Fecha\": \"2020-05-15\", \"Sector\": \"1. Surponiente\", \"Casos confirmados\": 176.57142857142858}, {\"Fecha\": \"2020-05-16\", \"Sector\": \"1. Surponiente\", \"Casos confirmados\": 186.57142857142858}, {\"Fecha\": \"2020-05-17\", \"Sector\": \"1. Surponiente\", \"Casos confirmados\": 193.14285714285714}, {\"Fecha\": \"2020-05-18\", \"Sector\": \"1. Surponiente\", \"Casos confirmados\": 200.85714285714286}, {\"Fecha\": \"2020-05-19\", \"Sector\": \"1. Surponiente\", \"Casos confirmados\": 221.57142857142858}, {\"Fecha\": \"2020-05-20\", \"Sector\": \"1. Surponiente\", \"Casos confirmados\": 237.0}, {\"Fecha\": \"2020-05-21\", \"Sector\": \"1. Surponiente\", \"Casos confirmados\": 252.42857142857142}, {\"Fecha\": \"2020-05-22\", \"Sector\": \"1. Surponiente\", \"Casos confirmados\": 276.7142857142857}, {\"Fecha\": \"2020-05-23\", \"Sector\": \"1. Surponiente\", \"Casos confirmados\": 302.2857142857143}, {\"Fecha\": \"2020-05-24\", \"Sector\": \"1. Surponiente\", \"Casos confirmados\": 326.2857142857143}, {\"Fecha\": \"2020-05-25\", \"Sector\": \"1. Surponiente\", \"Casos confirmados\": 375.14285714285717}, {\"Fecha\": \"2020-05-26\", \"Sector\": \"1. Surponiente\", \"Casos confirmados\": 386.14285714285717}, {\"Fecha\": \"2020-05-27\", \"Sector\": \"1. Surponiente\", \"Casos confirmados\": 392.42857142857144}, {\"Fecha\": \"2020-05-28\", \"Sector\": \"1. Surponiente\", \"Casos confirmados\": 398.85714285714283}, {\"Fecha\": \"2020-05-29\", \"Sector\": \"1. Surponiente\", \"Casos confirmados\": 383.2857142857143}, {\"Fecha\": \"2020-05-30\", \"Sector\": \"1. Surponiente\", \"Casos confirmados\": 385.42857142857144}, {\"Fecha\": \"2020-05-31\", \"Sector\": \"1. Surponiente\", \"Casos confirmados\": 402.7142857142857}, {\"Fecha\": \"2020-06-01\", \"Sector\": \"1. Surponiente\", \"Casos confirmados\": 410.14285714285717}, {\"Fecha\": \"2020-06-02\", \"Sector\": \"1. Surponiente\", \"Casos confirmados\": 406.7142857142857}, {\"Fecha\": \"2020-06-03\", \"Sector\": \"1. Surponiente\", \"Casos confirmados\": 417.0}, {\"Fecha\": \"2020-06-04\", \"Sector\": \"1. Surponiente\", \"Casos confirmados\": 421.7142857142857}, {\"Fecha\": \"2020-06-05\", \"Sector\": \"1. Surponiente\", \"Casos confirmados\": 432.85714285714283}, {\"Fecha\": \"2020-06-06\", \"Sector\": \"1. Surponiente\", \"Casos confirmados\": 454.7142857142857}, {\"Fecha\": \"2020-06-07\", \"Sector\": \"1. Surponiente\", \"Casos confirmados\": 481.85714285714283}, {\"Fecha\": \"2020-06-08\", \"Sector\": \"1. Surponiente\", \"Casos confirmados\": 470.57142857142856}, {\"Fecha\": \"2020-06-09\", \"Sector\": \"1. Surponiente\", \"Casos confirmados\": 475.57142857142856}, {\"Fecha\": \"2020-06-10\", \"Sector\": \"1. Surponiente\", \"Casos confirmados\": 492.14285714285717}, {\"Fecha\": \"2020-06-11\", \"Sector\": \"1. Surponiente\", \"Casos confirmados\": 508.57142857142856}, {\"Fecha\": \"2020-06-12\", \"Sector\": \"1. Surponiente\", \"Casos confirmados\": 555.1428571428571}, {\"Fecha\": \"2020-06-13\", \"Sector\": \"1. Surponiente\", \"Casos confirmados\": 574.8571428571429}, {\"Fecha\": \"2020-06-14\", \"Sector\": \"1. Surponiente\", \"Casos confirmados\": 583.7142857142857}, {\"Fecha\": \"2020-06-15\", \"Sector\": \"1. Surponiente\", \"Casos confirmados\": 588.1428571428571}, {\"Fecha\": \"2020-06-16\", \"Sector\": \"1. Surponiente\", \"Casos confirmados\": 608.2857142857143}, {\"Fecha\": \"2020-06-17\", \"Sector\": \"1. Surponiente\", \"Casos confirmados\": 599.0}, {\"Fecha\": \"2020-06-18\", \"Sector\": \"1. Surponiente\", \"Casos confirmados\": 565.5714285714286}, {\"Fecha\": \"2020-06-19\", \"Sector\": \"1. Surponiente\", \"Casos confirmados\": 533.0}, {\"Fecha\": \"2020-06-20\", \"Sector\": \"1. Surponiente\", \"Casos confirmados\": 496.42857142857144}, {\"Fecha\": \"2020-06-21\", \"Sector\": \"1. Surponiente\", \"Casos confirmados\": 451.7142857142857}, {\"Fecha\": \"2020-06-22\", \"Sector\": \"1. Surponiente\", \"Casos confirmados\": 427.42857142857144}, {\"Fecha\": \"2020-06-23\", \"Sector\": \"1. Surponiente\", \"Casos confirmados\": 390.7142857142857}, {\"Fecha\": \"2020-06-24\", \"Sector\": \"1. Surponiente\", \"Casos confirmados\": 353.0}, {\"Fecha\": \"2020-06-25\", \"Sector\": \"1. Surponiente\", \"Casos confirmados\": 355.7142857142857}, {\"Fecha\": \"2020-06-26\", \"Sector\": \"1. Surponiente\", \"Casos confirmados\": 330.14285714285717}, {\"Fecha\": \"2020-06-27\", \"Sector\": \"1. Surponiente\", \"Casos confirmados\": 325.2857142857143}, {\"Fecha\": \"2020-06-28\", \"Sector\": \"1. Surponiente\", \"Casos confirmados\": 312.57142857142856}, {\"Fecha\": \"2020-06-29\", \"Sector\": \"1. Surponiente\", \"Casos confirmados\": 306.7142857142857}, {\"Fecha\": \"2020-06-30\", \"Sector\": \"1. Surponiente\", \"Casos confirmados\": 302.14285714285717}, {\"Fecha\": \"2020-07-01\", \"Sector\": \"1. Surponiente\", \"Casos confirmados\": 281.85714285714283}, {\"Fecha\": \"2020-07-02\", \"Sector\": \"1. Surponiente\", \"Casos confirmados\": 251.0}, {\"Fecha\": \"2020-07-03\", \"Sector\": \"1. Surponiente\", \"Casos confirmados\": 238.0}, {\"Fecha\": \"2020-07-04\", \"Sector\": \"1. Surponiente\", \"Casos confirmados\": 222.28571428571428}, {\"Fecha\": \"2020-07-05\", \"Sector\": \"1. Surponiente\", \"Casos confirmados\": 211.14285714285714}, {\"Fecha\": \"2020-07-06\", \"Sector\": \"1. Surponiente\", \"Casos confirmados\": 198.57142857142858}, {\"Fecha\": \"2020-07-07\", \"Sector\": \"1. Surponiente\", \"Casos confirmados\": 188.28571428571428}, {\"Fecha\": \"2020-07-08\", \"Sector\": \"1. Surponiente\", \"Casos confirmados\": 188.42857142857142}, {\"Fecha\": \"2020-07-09\", \"Sector\": \"1. Surponiente\", \"Casos confirmados\": 199.71428571428572}, {\"Fecha\": \"2020-07-10\", \"Sector\": \"1. Surponiente\", \"Casos confirmados\": 196.14285714285714}, {\"Fecha\": \"2020-07-11\", \"Sector\": \"1. Surponiente\", \"Casos confirmados\": 184.42857142857142}, {\"Fecha\": \"2020-07-12\", \"Sector\": \"1. Surponiente\", \"Casos confirmados\": 179.42857142857142}, {\"Fecha\": \"2020-07-13\", \"Sector\": \"1. Surponiente\", \"Casos confirmados\": 177.14285714285714}]}}, {\"mode\": \"vega-lite\"});\n",
       "</script>"
      ],
      "text/plain": [
       "alt.VConcatChart(...)"
      ]
     },
     "execution_count": 200,
     "metadata": {},
     "output_type": "execute_result"
    }
   ],
   "source": [
    "#hide_input\n",
    "chart1 = alt.Chart(data).mark_area().encode(\n",
    "    x=alt.X(\"Fecha\", axis=alt.Axis(title=\"\", domain=False)),\n",
    "    y=alt.Y(\"Casos confirmados\", axis=None, stack=\"center\"),\n",
    "    tooltip = [\"Fecha\", \"Casos confirmados\"],\n",
    "    color = alt.Color(\"Sector\"),\n",
    ").properties(\n",
    "    title=\"Nuevos casos confirmados en la R.M. por zona geográfica (promedio móvil 7 días)\",\n",
    "    width=700)\n",
    "\n",
    "chart2 = alt.Chart(data).mark_bar().encode(\n",
    "    x=alt.X(\"Fecha\", axis=alt.Axis(title=\"\", domain=False, ticks=False, labels=False)),\n",
    "    y=alt.Y(\"Casos confirmados\", axis=alt.Axis(title=\"\", format='%'), stack=\"normalize\"),\n",
    "    tooltip = [\"Fecha\", \"Casos confirmados\"],\n",
    "    color = alt.Color(\"Sector\"),\n",
    ").properties(\n",
    "    height = 100,\n",
    "    width=700\n",
    ")\n",
    "\n",
    "alt.vconcat(\n",
    "    chart1,\n",
    "    chart2\n",
    ").configure_concat(\n",
    "    spacing=0\n",
    ")"
   ]
  },
  {
   "cell_type": "markdown",
   "metadata": {},
   "source": [
    "Fuentes: [Ministerio de Ciencia](https://github.com/MinCiencia/Datos-COVID19), [Ministerio de Salud](https://www.minsal.cl/), Para la agrupación de comunas en 7 sectores, la página Wikipedia [Comunas de Santiago de Chile](https://es.wikipedia.org/wiki/Anexo:Comunas_de_Santiago_de_Chile#Conurbaci%C3%B3n_de_Santiago)\n",
    "\n",
    "* No hay datos diarios de nuevos confirmados por comuna. Estos son estimados a través de una interpolación lineal entre las proporciones observadas entre los dos informes más cercanos en el tiempo y aplicados a casos confirmados regionales."
   ]
  },
  {
   "cell_type": "code",
   "execution_count": null,
   "metadata": {},
   "outputs": [],
   "source": []
  }
 ],
 "metadata": {
  "kernelspec": {
   "display_name": "Python 3",
   "language": "python",
   "name": "python3"
  },
  "language_info": {
   "codemirror_mode": {
    "name": "ipython",
    "version": 3
   },
   "file_extension": ".py",
   "mimetype": "text/x-python",
   "name": "python",
   "nbconvert_exporter": "python",
   "pygments_lexer": "ipython3",
   "version": "3.8.2"
  }
 },
 "nbformat": 4,
 "nbformat_minor": 4
}
