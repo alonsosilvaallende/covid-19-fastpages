{
 "cells": [
  {
   "cell_type": "markdown",
   "metadata": {},
   "source": [
    "# Covid-19 status in Chile\n",
    "> Covid-19 overview in Chile\n",
    "\n",
    "- toc: true \n",
    "- badges: true\n",
    "- comments: true\n",
    "- author: [Alonso Silva Allende](https://github.com/alonsosilvaallende)\n",
    "- categories: [overview,interactive,altair,Chile]\n",
    "- image: images/Chile-total-confirmed-cases.png"
   ]
  },
  {
   "cell_type": "code",
   "execution_count": 1,
   "metadata": {},
   "outputs": [],
   "source": [
    "#hide\n",
    "import numpy as np\n",
    "import pandas as pd\n",
    "import altair as alt"
   ]
  },
  {
   "cell_type": "code",
   "execution_count": 2,
   "metadata": {},
   "outputs": [],
   "source": [
    "#hide\n",
    "from IPython.display import display_html, HTML"
   ]
  },
  {
   "cell_type": "code",
   "execution_count": 3,
   "metadata": {},
   "outputs": [
    {
     "data": {
      "text/plain": [
       "'2020-04-26'"
      ]
     },
     "execution_count": 3,
     "metadata": {},
     "output_type": "execute_result"
    }
   ],
   "source": [
    "#hide\n",
    "update_date = pd.to_datetime('today') - pd.offsets.Hour(19)\n",
    "today = update_date.strftime('%Y-%m-%d')\n",
    "today"
   ]
  },
  {
   "cell_type": "code",
   "execution_count": 4,
   "metadata": {},
   "outputs": [
    {
     "data": {
      "text/plain": [
       "'2020-04-19'"
      ]
     },
     "execution_count": 4,
     "metadata": {},
     "output_type": "execute_result"
    }
   ],
   "source": [
    "#hide\n",
    "date_one_week_ago = (update_date - pd.offsets.Day(7)).strftime('%Y-%m-%d')\n",
    "date_one_week_ago"
   ]
  },
  {
   "cell_type": "code",
   "execution_count": 5,
   "metadata": {},
   "outputs": [
    {
     "name": "stdout",
     "output_type": "stream",
     "text": [
      "Updated on April 26, 2020.\n"
     ]
    }
   ],
   "source": [
    "#hide_input\n",
    "print(f\"Updated on {update_date.strftime('%B %d, %Y')}.\")"
   ]
  },
  {
   "cell_type": "code",
   "execution_count": 6,
   "metadata": {},
   "outputs": [],
   "source": [
    "#hide\n",
    "casos_raw = pd.read_csv(\n",
    "    \"https://raw.githubusercontent.com/MinCiencia/Datos-COVID19/master/output/producto3/CasosTotalesCumulativo.csv\",\n",
    "    index_col='Region')"
   ]
  },
  {
   "cell_type": "code",
   "execution_count": 7,
   "metadata": {},
   "outputs": [],
   "source": [
    "#hide\n",
    "s = \"https://raw.githubusercontent.com/MinCiencia/Datos-COVID19/master/output/producto4/\" \\\n",
    "+ today + \"-CasosConfirmados-totalRegional.csv\"\n",
    "deaths_raw = pd.read_csv(s, index_col='Region')"
   ]
  },
  {
   "cell_type": "code",
   "execution_count": 8,
   "metadata": {},
   "outputs": [],
   "source": [
    "#hide\n",
    "s = \"https://raw.githubusercontent.com/MinCiencia/Datos-COVID19/master/output/producto4/\" \\\n",
    "+ date_one_week_ago + \"-CasosConfirmados-totalRegional.csv\"\n",
    "deaths_one_week_ago = pd.read_csv(s, index_col='Region')"
   ]
  },
  {
   "cell_type": "code",
   "execution_count": 9,
   "metadata": {},
   "outputs": [],
   "source": [
    "#hide\n",
    "tests_raw = pd.read_csv(\n",
    "    'https://raw.githubusercontent.com/MinCiencia/Datos-COVID19/master/output/producto7/PCR.csv',\n",
    "    index_col='Region')"
   ]
  },
  {
   "cell_type": "code",
   "execution_count": 10,
   "metadata": {},
   "outputs": [],
   "source": [
    "#hide\n",
    "data_table = pd.DataFrame()\n",
    "data_table[\"Region\"] = casos_raw[today].drop(\"Total\").reset_index()[\"Region\"]\n",
    "data_table[\"Confirmed cases\"] = casos_raw[today].drop(\"Total\").reset_index()[today]\n",
    "data_table[\"Confirmed cases per 100,000 people\"] = np.round(100000*(casos_raw[today]/tests_raw['Poblacion']).drop('Total'), decimals=1).values\n",
    "data_table[\"Confirmed deaths\"] = deaths_raw[\"Fallecidos\"].drop(\"Total\").values\n",
    "data_table[\"Confirmed deaths per 100.000 people\"] = \\\n",
    "np.round(100000*deaths_raw['Fallecidos'].drop('Total')/(tests_raw['Poblacion'].values), decimals=1).values"
   ]
  },
  {
   "cell_type": "code",
   "execution_count": 11,
   "metadata": {},
   "outputs": [],
   "source": [
    "#hide\n",
    "total_confirmed = casos_raw.iloc[-1,-1]\n",
    "total_deaths = deaths_raw.iloc[-1,-1]"
   ]
  },
  {
   "cell_type": "code",
   "execution_count": 12,
   "metadata": {},
   "outputs": [],
   "source": [
    "#hide\n",
    "total_confirmed_one_week_ago = casos_raw.iloc[-1,-8]\n",
    "total_deaths_one_week_ago = deaths_one_week_ago.loc[\"Total\", \"Fallecidos\"]"
   ]
  },
  {
   "cell_type": "code",
   "execution_count": 13,
   "metadata": {},
   "outputs": [],
   "source": [
    "#hide\n",
    "diff_cases = total_confirmed-total_confirmed_one_week_ago\n",
    "diff_deaths = total_deaths-total_deaths_one_week_ago"
   ]
  },
  {
   "cell_type": "code",
   "execution_count": 14,
   "metadata": {},
   "outputs": [],
   "source": [
    "#hide\n",
    "total_confirmed = '{:,}'.format(total_confirmed) #.replace(',', '.')\n",
    "total_deaths = '{:,}'.format(total_deaths) #.replace(',', '.')"
   ]
  },
  {
   "cell_type": "code",
   "execution_count": 15,
   "metadata": {},
   "outputs": [],
   "source": [
    "#hide\n",
    "diff_cases = '{:,}'.format(diff_cases) #.replace(',', '.')\n",
    "diff_deaths = '{:,}'.format(diff_deaths) #.replace(',', '.')"
   ]
  },
  {
   "cell_type": "code",
   "execution_count": 16,
   "metadata": {
    "scrolled": false
   },
   "outputs": [
    {
     "data": {
      "text/html": [
       "<p style=\"color:#3361ff;\"><span style=\"font-weight:bold;\">Confirmed cases:</span> 13,331 (+3,243 since 7 days ago)</p><p style=\"color:#FF3F3F;\"><span style=\"font-weight:bold;\">Confirmed deaths:</span> 189 (+56 since 7 days ago)</p>"
      ],
      "text/plain": [
       "<IPython.core.display.HTML object>"
      ]
     },
     "execution_count": 16,
     "metadata": {},
     "output_type": "execute_result"
    }
   ],
   "source": [
    "#hide_input\n",
    "HTML(f'<p style=\"color:#3361ff;\"><span style=\"font-weight:bold;\">Confirmed cases:</span> {total_confirmed} (+{diff_cases} since 7 days ago)</p><p style=\"color:#FF3F3F;\"><span style=\"font-weight:bold;\">Confirmed deaths:</span> {total_deaths} (+{diff_deaths} since 7 days ago)</p>')"
   ]
  },
  {
   "cell_type": "code",
   "execution_count": 17,
   "metadata": {
    "scrolled": false
   },
   "outputs": [
    {
     "data": {
      "text/html": [
       "<style  type=\"text/css\" >\n",
       "    #T_a4a67a74_8888_11ea_be06_60f81dc8f27arow0_col0 {\n",
       "            text-align:  right;\n",
       "        }    #T_a4a67a74_8888_11ea_be06_60f81dc8f27arow0_col1 {\n",
       "            text-align:  right;\n",
       "            background-color:  #fff0e8;\n",
       "            color:  #000000;\n",
       "        }    #T_a4a67a74_8888_11ea_be06_60f81dc8f27arow0_col2 {\n",
       "            text-align:  right;\n",
       "            background-color:  #fdd7c6;\n",
       "            color:  #000000;\n",
       "        }    #T_a4a67a74_8888_11ea_be06_60f81dc8f27arow0_col3 {\n",
       "            text-align:  right;\n",
       "            background-color:  #fff0e8;\n",
       "            color:  #000000;\n",
       "        }    #T_a4a67a74_8888_11ea_be06_60f81dc8f27arow0_col4 {\n",
       "            text-align:  right;\n",
       "            background-color:  #fcbea5;\n",
       "            color:  #000000;\n",
       "        }    #T_a4a67a74_8888_11ea_be06_60f81dc8f27arow1_col0 {\n",
       "            text-align:  right;\n",
       "        }    #T_a4a67a74_8888_11ea_be06_60f81dc8f27arow1_col1 {\n",
       "            text-align:  right;\n",
       "            background-color:  #fff2eb;\n",
       "            color:  #000000;\n",
       "        }    #T_a4a67a74_8888_11ea_be06_60f81dc8f27arow1_col2 {\n",
       "            text-align:  right;\n",
       "            background-color:  #fca98c;\n",
       "            color:  #000000;\n",
       "        }    #T_a4a67a74_8888_11ea_be06_60f81dc8f27arow1_col3 {\n",
       "            text-align:  right;\n",
       "            background-color:  #fff4ee;\n",
       "            color:  #000000;\n",
       "        }    #T_a4a67a74_8888_11ea_be06_60f81dc8f27arow1_col4 {\n",
       "            text-align:  right;\n",
       "            background-color:  #ffebe2;\n",
       "            color:  #000000;\n",
       "        }    #T_a4a67a74_8888_11ea_be06_60f81dc8f27arow2_col0 {\n",
       "            text-align:  right;\n",
       "        }    #T_a4a67a74_8888_11ea_be06_60f81dc8f27arow2_col1 {\n",
       "            text-align:  right;\n",
       "            background-color:  #ffece3;\n",
       "            color:  #000000;\n",
       "        }    #T_a4a67a74_8888_11ea_be06_60f81dc8f27arow2_col2 {\n",
       "            text-align:  right;\n",
       "            background-color:  #fcb99f;\n",
       "            color:  #000000;\n",
       "        }    #T_a4a67a74_8888_11ea_be06_60f81dc8f27arow2_col3 {\n",
       "            text-align:  right;\n",
       "            background-color:  #ffeee6;\n",
       "            color:  #000000;\n",
       "        }    #T_a4a67a74_8888_11ea_be06_60f81dc8f27arow2_col4 {\n",
       "            text-align:  right;\n",
       "            background-color:  #fee1d4;\n",
       "            color:  #000000;\n",
       "        }    #T_a4a67a74_8888_11ea_be06_60f81dc8f27arow3_col0 {\n",
       "            text-align:  right;\n",
       "        }    #T_a4a67a74_8888_11ea_be06_60f81dc8f27arow3_col1 {\n",
       "            text-align:  right;\n",
       "            background-color:  #fff5f0;\n",
       "            color:  #000000;\n",
       "        }    #T_a4a67a74_8888_11ea_be06_60f81dc8f27arow3_col2 {\n",
       "            text-align:  right;\n",
       "            background-color:  #fff4ef;\n",
       "            color:  #000000;\n",
       "        }    #T_a4a67a74_8888_11ea_be06_60f81dc8f27arow3_col3 {\n",
       "            text-align:  right;\n",
       "            background-color:  #fff5f0;\n",
       "            color:  #000000;\n",
       "        }    #T_a4a67a74_8888_11ea_be06_60f81dc8f27arow3_col4 {\n",
       "            text-align:  right;\n",
       "            background-color:  #fff5f0;\n",
       "            color:  #000000;\n",
       "        }    #T_a4a67a74_8888_11ea_be06_60f81dc8f27arow4_col0 {\n",
       "            text-align:  right;\n",
       "        }    #T_a4a67a74_8888_11ea_be06_60f81dc8f27arow4_col1 {\n",
       "            text-align:  right;\n",
       "            background-color:  #fff4ee;\n",
       "            color:  #000000;\n",
       "        }    #T_a4a67a74_8888_11ea_be06_60f81dc8f27arow4_col2 {\n",
       "            text-align:  right;\n",
       "            background-color:  #fff5f0;\n",
       "            color:  #000000;\n",
       "        }    #T_a4a67a74_8888_11ea_be06_60f81dc8f27arow4_col3 {\n",
       "            text-align:  right;\n",
       "            background-color:  #fff5f0;\n",
       "            color:  #000000;\n",
       "        }    #T_a4a67a74_8888_11ea_be06_60f81dc8f27arow4_col4 {\n",
       "            text-align:  right;\n",
       "            background-color:  #fff5f0;\n",
       "            color:  #000000;\n",
       "        }    #T_a4a67a74_8888_11ea_be06_60f81dc8f27arow5_col0 {\n",
       "            text-align:  right;\n",
       "        }    #T_a4a67a74_8888_11ea_be06_60f81dc8f27arow5_col1 {\n",
       "            text-align:  right;\n",
       "            background-color:  #ffebe2;\n",
       "            color:  #000000;\n",
       "        }    #T_a4a67a74_8888_11ea_be06_60f81dc8f27arow5_col2 {\n",
       "            text-align:  right;\n",
       "            background-color:  #fee5d9;\n",
       "            color:  #000000;\n",
       "        }    #T_a4a67a74_8888_11ea_be06_60f81dc8f27arow5_col3 {\n",
       "            text-align:  right;\n",
       "            background-color:  #fee5d8;\n",
       "            color:  #000000;\n",
       "        }    #T_a4a67a74_8888_11ea_be06_60f81dc8f27arow5_col4 {\n",
       "            text-align:  right;\n",
       "            background-color:  #fee5d8;\n",
       "            color:  #000000;\n",
       "        }    #T_a4a67a74_8888_11ea_be06_60f81dc8f27arow6_col0 {\n",
       "            text-align:  right;\n",
       "        }    #T_a4a67a74_8888_11ea_be06_60f81dc8f27arow6_col1 {\n",
       "            text-align:  right;\n",
       "            background-color:  #67000d;\n",
       "            color:  #f1f1f1;\n",
       "        }    #T_a4a67a74_8888_11ea_be06_60f81dc8f27arow6_col2 {\n",
       "            text-align:  right;\n",
       "            background-color:  #fff4ef;\n",
       "            color:  #000000;\n",
       "        }    #T_a4a67a74_8888_11ea_be06_60f81dc8f27arow6_col3 {\n",
       "            text-align:  right;\n",
       "            background-color:  #67000d;\n",
       "            color:  #f1f1f1;\n",
       "        }    #T_a4a67a74_8888_11ea_be06_60f81dc8f27arow6_col4 {\n",
       "            text-align:  right;\n",
       "            background-color:  #fcc4ad;\n",
       "            color:  #000000;\n",
       "        }    #T_a4a67a74_8888_11ea_be06_60f81dc8f27arow7_col0 {\n",
       "            text-align:  right;\n",
       "        }    #T_a4a67a74_8888_11ea_be06_60f81dc8f27arow7_col1 {\n",
       "            text-align:  right;\n",
       "            background-color:  #fff4ee;\n",
       "            color:  #000000;\n",
       "        }    #T_a4a67a74_8888_11ea_be06_60f81dc8f27arow7_col2 {\n",
       "            text-align:  right;\n",
       "            background-color:  #fee0d2;\n",
       "            color:  #000000;\n",
       "        }    #T_a4a67a74_8888_11ea_be06_60f81dc8f27arow7_col3 {\n",
       "            text-align:  right;\n",
       "            background-color:  #fff4ee;\n",
       "            color:  #000000;\n",
       "        }    #T_a4a67a74_8888_11ea_be06_60f81dc8f27arow7_col4 {\n",
       "            text-align:  right;\n",
       "            background-color:  #fff2eb;\n",
       "            color:  #000000;\n",
       "        }    #T_a4a67a74_8888_11ea_be06_60f81dc8f27arow8_col0 {\n",
       "            text-align:  right;\n",
       "        }    #T_a4a67a74_8888_11ea_be06_60f81dc8f27arow8_col1 {\n",
       "            text-align:  right;\n",
       "            background-color:  #ffeee6;\n",
       "            color:  #000000;\n",
       "        }    #T_a4a67a74_8888_11ea_be06_60f81dc8f27arow8_col2 {\n",
       "            text-align:  right;\n",
       "            background-color:  #fee4d8;\n",
       "            color:  #000000;\n",
       "        }    #T_a4a67a74_8888_11ea_be06_60f81dc8f27arow8_col3 {\n",
       "            text-align:  right;\n",
       "            background-color:  #fee1d4;\n",
       "            color:  #000000;\n",
       "        }    #T_a4a67a74_8888_11ea_be06_60f81dc8f27arow8_col4 {\n",
       "            text-align:  right;\n",
       "            background-color:  #fdcab5;\n",
       "            color:  #000000;\n",
       "        }    #T_a4a67a74_8888_11ea_be06_60f81dc8f27arow9_col0 {\n",
       "            text-align:  right;\n",
       "        }    #T_a4a67a74_8888_11ea_be06_60f81dc8f27arow9_col1 {\n",
       "            text-align:  right;\n",
       "            background-color:  #fee5d9;\n",
       "            color:  #000000;\n",
       "        }    #T_a4a67a74_8888_11ea_be06_60f81dc8f27arow9_col2 {\n",
       "            text-align:  right;\n",
       "            background-color:  #67000d;\n",
       "            color:  #f1f1f1;\n",
       "        }    #T_a4a67a74_8888_11ea_be06_60f81dc8f27arow9_col3 {\n",
       "            text-align:  right;\n",
       "            background-color:  #fed8c7;\n",
       "            color:  #000000;\n",
       "        }    #T_a4a67a74_8888_11ea_be06_60f81dc8f27arow9_col4 {\n",
       "            text-align:  right;\n",
       "            background-color:  #f75b40;\n",
       "            color:  #000000;\n",
       "        }    #T_a4a67a74_8888_11ea_be06_60f81dc8f27arow10_col0 {\n",
       "            text-align:  right;\n",
       "        }    #T_a4a67a74_8888_11ea_be06_60f81dc8f27arow10_col1 {\n",
       "            text-align:  right;\n",
       "            background-color:  #fee6da;\n",
       "            color:  #000000;\n",
       "        }    #T_a4a67a74_8888_11ea_be06_60f81dc8f27arow10_col2 {\n",
       "            text-align:  right;\n",
       "            background-color:  #feeae0;\n",
       "            color:  #000000;\n",
       "        }    #T_a4a67a74_8888_11ea_be06_60f81dc8f27arow10_col3 {\n",
       "            text-align:  right;\n",
       "            background-color:  #feeae1;\n",
       "            color:  #000000;\n",
       "        }    #T_a4a67a74_8888_11ea_be06_60f81dc8f27arow10_col4 {\n",
       "            text-align:  right;\n",
       "            background-color:  #fee8dd;\n",
       "            color:  #000000;\n",
       "        }    #T_a4a67a74_8888_11ea_be06_60f81dc8f27arow11_col0 {\n",
       "            text-align:  right;\n",
       "        }    #T_a4a67a74_8888_11ea_be06_60f81dc8f27arow11_col1 {\n",
       "            text-align:  right;\n",
       "            background-color:  #fdd5c4;\n",
       "            color:  #000000;\n",
       "        }    #T_a4a67a74_8888_11ea_be06_60f81dc8f27arow11_col2 {\n",
       "            text-align:  right;\n",
       "            background-color:  #fcc1a8;\n",
       "            color:  #000000;\n",
       "        }    #T_a4a67a74_8888_11ea_be06_60f81dc8f27arow11_col3 {\n",
       "            text-align:  right;\n",
       "            background-color:  #fca588;\n",
       "            color:  #000000;\n",
       "        }    #T_a4a67a74_8888_11ea_be06_60f81dc8f27arow11_col4 {\n",
       "            text-align:  right;\n",
       "            background-color:  #f34c37;\n",
       "            color:  #000000;\n",
       "        }    #T_a4a67a74_8888_11ea_be06_60f81dc8f27arow12_col0 {\n",
       "            text-align:  right;\n",
       "        }    #T_a4a67a74_8888_11ea_be06_60f81dc8f27arow12_col1 {\n",
       "            text-align:  right;\n",
       "            background-color:  #fff2eb;\n",
       "            color:  #000000;\n",
       "        }    #T_a4a67a74_8888_11ea_be06_60f81dc8f27arow12_col2 {\n",
       "            text-align:  right;\n",
       "            background-color:  #fff4ef;\n",
       "            color:  #000000;\n",
       "        }    #T_a4a67a74_8888_11ea_be06_60f81dc8f27arow12_col3 {\n",
       "            text-align:  right;\n",
       "            background-color:  #fff0e8;\n",
       "            color:  #000000;\n",
       "        }    #T_a4a67a74_8888_11ea_be06_60f81dc8f27arow12_col4 {\n",
       "            text-align:  right;\n",
       "            background-color:  #fedccd;\n",
       "            color:  #000000;\n",
       "        }    #T_a4a67a74_8888_11ea_be06_60f81dc8f27arow13_col0 {\n",
       "            text-align:  right;\n",
       "        }    #T_a4a67a74_8888_11ea_be06_60f81dc8f27arow13_col1 {\n",
       "            text-align:  right;\n",
       "            background-color:  #ffebe2;\n",
       "            color:  #000000;\n",
       "        }    #T_a4a67a74_8888_11ea_be06_60f81dc8f27arow13_col2 {\n",
       "            text-align:  right;\n",
       "            background-color:  #fee6da;\n",
       "            color:  #000000;\n",
       "        }    #T_a4a67a74_8888_11ea_be06_60f81dc8f27arow13_col3 {\n",
       "            text-align:  right;\n",
       "            background-color:  #fee7db;\n",
       "            color:  #000000;\n",
       "        }    #T_a4a67a74_8888_11ea_be06_60f81dc8f27arow13_col4 {\n",
       "            text-align:  right;\n",
       "            background-color:  #fdd0bc;\n",
       "            color:  #000000;\n",
       "        }    #T_a4a67a74_8888_11ea_be06_60f81dc8f27arow14_col0 {\n",
       "            text-align:  right;\n",
       "        }    #T_a4a67a74_8888_11ea_be06_60f81dc8f27arow14_col1 {\n",
       "            text-align:  right;\n",
       "            background-color:  #fff5f0;\n",
       "            color:  #000000;\n",
       "        }    #T_a4a67a74_8888_11ea_be06_60f81dc8f27arow14_col2 {\n",
       "            text-align:  right;\n",
       "            background-color:  #ffeee6;\n",
       "            color:  #000000;\n",
       "        }    #T_a4a67a74_8888_11ea_be06_60f81dc8f27arow14_col3 {\n",
       "            text-align:  right;\n",
       "            background-color:  #fff5f0;\n",
       "            color:  #000000;\n",
       "        }    #T_a4a67a74_8888_11ea_be06_60f81dc8f27arow14_col4 {\n",
       "            text-align:  right;\n",
       "            background-color:  #fff5f0;\n",
       "            color:  #000000;\n",
       "        }    #T_a4a67a74_8888_11ea_be06_60f81dc8f27arow15_col0 {\n",
       "            text-align:  right;\n",
       "        }    #T_a4a67a74_8888_11ea_be06_60f81dc8f27arow15_col1 {\n",
       "            text-align:  right;\n",
       "            background-color:  #fee7db;\n",
       "            color:  #000000;\n",
       "        }    #T_a4a67a74_8888_11ea_be06_60f81dc8f27arow15_col2 {\n",
       "            text-align:  right;\n",
       "            background-color:  #fc9474;\n",
       "            color:  #000000;\n",
       "        }    #T_a4a67a74_8888_11ea_be06_60f81dc8f27arow15_col3 {\n",
       "            text-align:  right;\n",
       "            background-color:  #fee5d8;\n",
       "            color:  #000000;\n",
       "        }    #T_a4a67a74_8888_11ea_be06_60f81dc8f27arow15_col4 {\n",
       "            text-align:  right;\n",
       "            background-color:  #67000d;\n",
       "            color:  #f1f1f1;\n",
       "        }</style><table id=\"T_a4a67a74_8888_11ea_be06_60f81dc8f27a\" ><caption>Statistics by region: Confirmed cases and confirmed deaths</caption><thead>    <tr>        <th class=\"col_heading level0 col0\" >Region</th>        <th class=\"col_heading level0 col1\" >Confirmed cases</th>        <th class=\"col_heading level0 col2\" >Confirmed cases per 100,000 people</th>        <th class=\"col_heading level0 col3\" >Confirmed deaths</th>        <th class=\"col_heading level0 col4\" >Confirmed deaths per 100.000 people</th>    </tr></thead><tbody>\n",
       "                <tr>\n",
       "                                <td id=\"T_a4a67a74_8888_11ea_be06_60f81dc8f27arow0_col0\" class=\"data row0 col0\" >Arica y Parinacota</td>\n",
       "                        <td id=\"T_a4a67a74_8888_11ea_be06_60f81dc8f27arow0_col1\" class=\"data row0 col1\" >252</td>\n",
       "                        <td id=\"T_a4a67a74_8888_11ea_be06_60f81dc8f27arow0_col2\" class=\"data row0 col2\" >64</td>\n",
       "                        <td id=\"T_a4a67a74_8888_11ea_be06_60f81dc8f27arow0_col3\" class=\"data row0 col3\" >3</td>\n",
       "                        <td id=\"T_a4a67a74_8888_11ea_be06_60f81dc8f27arow0_col4\" class=\"data row0 col4\" >1.2</td>\n",
       "            </tr>\n",
       "            <tr>\n",
       "                                <td id=\"T_a4a67a74_8888_11ea_be06_60f81dc8f27arow1_col0\" class=\"data row1 col0\" >Tarapacá</td>\n",
       "                        <td id=\"T_a4a67a74_8888_11ea_be06_60f81dc8f27arow1_col1\" class=\"data row1 col1\" >156</td>\n",
       "                        <td id=\"T_a4a67a74_8888_11ea_be06_60f81dc8f27arow1_col2\" class=\"data row1 col2\" >119.9</td>\n",
       "                        <td id=\"T_a4a67a74_8888_11ea_be06_60f81dc8f27arow1_col3\" class=\"data row1 col3\" >1</td>\n",
       "                        <td id=\"T_a4a67a74_8888_11ea_be06_60f81dc8f27arow1_col4\" class=\"data row1 col4\" >0.3</td>\n",
       "            </tr>\n",
       "            <tr>\n",
       "                                <td id=\"T_a4a67a74_8888_11ea_be06_60f81dc8f27arow2_col0\" class=\"data row2 col0\" >Antofagasta</td>\n",
       "                        <td id=\"T_a4a67a74_8888_11ea_be06_60f81dc8f27arow2_col1\" class=\"data row2 col1\" >443</td>\n",
       "                        <td id=\"T_a4a67a74_8888_11ea_be06_60f81dc8f27arow2_col2\" class=\"data row2 col2\" >100</td>\n",
       "                        <td id=\"T_a4a67a74_8888_11ea_be06_60f81dc8f27arow2_col3\" class=\"data row2 col3\" >4</td>\n",
       "                        <td id=\"T_a4a67a74_8888_11ea_be06_60f81dc8f27arow2_col4\" class=\"data row2 col4\" >0.6</td>\n",
       "            </tr>\n",
       "            <tr>\n",
       "                                <td id=\"T_a4a67a74_8888_11ea_be06_60f81dc8f27arow3_col0\" class=\"data row3 col0\" >Atacama</td>\n",
       "                        <td id=\"T_a4a67a74_8888_11ea_be06_60f81dc8f27arow3_col1\" class=\"data row3 col1\" >29</td>\n",
       "                        <td id=\"T_a4a67a74_8888_11ea_be06_60f81dc8f27arow3_col2\" class=\"data row3 col2\" >9.2</td>\n",
       "                        <td id=\"T_a4a67a74_8888_11ea_be06_60f81dc8f27arow3_col3\" class=\"data row3 col3\" >0</td>\n",
       "                        <td id=\"T_a4a67a74_8888_11ea_be06_60f81dc8f27arow3_col4\" class=\"data row3 col4\" >0</td>\n",
       "            </tr>\n",
       "            <tr>\n",
       "                                <td id=\"T_a4a67a74_8888_11ea_be06_60f81dc8f27arow4_col0\" class=\"data row4 col0\" >Coquimbo</td>\n",
       "                        <td id=\"T_a4a67a74_8888_11ea_be06_60f81dc8f27arow4_col1\" class=\"data row4 col1\" >73</td>\n",
       "                        <td id=\"T_a4a67a74_8888_11ea_be06_60f81dc8f27arow4_col2\" class=\"data row4 col2\" >6.5</td>\n",
       "                        <td id=\"T_a4a67a74_8888_11ea_be06_60f81dc8f27arow4_col3\" class=\"data row4 col3\" >0</td>\n",
       "                        <td id=\"T_a4a67a74_8888_11ea_be06_60f81dc8f27arow4_col4\" class=\"data row4 col4\" >0</td>\n",
       "            </tr>\n",
       "            <tr>\n",
       "                                <td id=\"T_a4a67a74_8888_11ea_be06_60f81dc8f27arow5_col0\" class=\"data row5 col0\" >Valparaíso</td>\n",
       "                        <td id=\"T_a4a67a74_8888_11ea_be06_60f81dc8f27arow5_col1\" class=\"data row5 col1\" >460</td>\n",
       "                        <td id=\"T_a4a67a74_8888_11ea_be06_60f81dc8f27arow5_col2\" class=\"data row5 col2\" >42.3</td>\n",
       "                        <td id=\"T_a4a67a74_8888_11ea_be06_60f81dc8f27arow5_col3\" class=\"data row5 col3\" >9</td>\n",
       "                        <td id=\"T_a4a67a74_8888_11ea_be06_60f81dc8f27arow5_col4\" class=\"data row5 col4\" >0.5</td>\n",
       "            </tr>\n",
       "            <tr>\n",
       "                                <td id=\"T_a4a67a74_8888_11ea_be06_60f81dc8f27arow6_col0\" class=\"data row6 col0\" >Metropolitana</td>\n",
       "                        <td id=\"T_a4a67a74_8888_11ea_be06_60f81dc8f27arow6_col1\" class=\"data row6 col1\" >7496</td>\n",
       "                        <td id=\"T_a4a67a74_8888_11ea_be06_60f81dc8f27arow6_col2\" class=\"data row6 col2\" >8.7</td>\n",
       "                        <td id=\"T_a4a67a74_8888_11ea_be06_60f81dc8f27arow6_col3\" class=\"data row6 col3\" >91</td>\n",
       "                        <td id=\"T_a4a67a74_8888_11ea_be06_60f81dc8f27arow6_col4\" class=\"data row6 col4\" >1.1</td>\n",
       "            </tr>\n",
       "            <tr>\n",
       "                                <td id=\"T_a4a67a74_8888_11ea_be06_60f81dc8f27arow7_col0\" class=\"data row7 col0\" >O’Higgins</td>\n",
       "                        <td id=\"T_a4a67a74_8888_11ea_be06_60f81dc8f27arow7_col1\" class=\"data row7 col1\" >92</td>\n",
       "                        <td id=\"T_a4a67a74_8888_11ea_be06_60f81dc8f27arow7_col2\" class=\"data row7 col2\" >53.1</td>\n",
       "                        <td id=\"T_a4a67a74_8888_11ea_be06_60f81dc8f27arow7_col3\" class=\"data row7 col3\" >1</td>\n",
       "                        <td id=\"T_a4a67a74_8888_11ea_be06_60f81dc8f27arow7_col4\" class=\"data row7 col4\" >0.1</td>\n",
       "            </tr>\n",
       "            <tr>\n",
       "                                <td id=\"T_a4a67a74_8888_11ea_be06_60f81dc8f27arow8_col0\" class=\"data row8 col0\" >Maule</td>\n",
       "                        <td id=\"T_a4a67a74_8888_11ea_be06_60f81dc8f27arow8_col1\" class=\"data row8 col1\" >354</td>\n",
       "                        <td id=\"T_a4a67a74_8888_11ea_be06_60f81dc8f27arow8_col2\" class=\"data row8 col2\" >43.9</td>\n",
       "                        <td id=\"T_a4a67a74_8888_11ea_be06_60f81dc8f27arow8_col3\" class=\"data row8 col3\" >11</td>\n",
       "                        <td id=\"T_a4a67a74_8888_11ea_be06_60f81dc8f27arow8_col4\" class=\"data row8 col4\" >1</td>\n",
       "            </tr>\n",
       "            <tr>\n",
       "                                <td id=\"T_a4a67a74_8888_11ea_be06_60f81dc8f27arow9_col0\" class=\"data row9 col0\" >Ñuble</td>\n",
       "                        <td id=\"T_a4a67a74_8888_11ea_be06_60f81dc8f27arow9_col1\" class=\"data row9 col1\" >731</td>\n",
       "                        <td id=\"T_a4a67a74_8888_11ea_be06_60f81dc8f27arow9_col2\" class=\"data row9 col2\" >374.5</td>\n",
       "                        <td id=\"T_a4a67a74_8888_11ea_be06_60f81dc8f27arow9_col3\" class=\"data row9 col3\" >14</td>\n",
       "                        <td id=\"T_a4a67a74_8888_11ea_be06_60f81dc8f27arow9_col4\" class=\"data row9 col4\" >2.7</td>\n",
       "            </tr>\n",
       "            <tr>\n",
       "                                <td id=\"T_a4a67a74_8888_11ea_be06_60f81dc8f27arow10_col0\" class=\"data row10 col0\" >Biobío</td>\n",
       "                        <td id=\"T_a4a67a74_8888_11ea_be06_60f81dc8f27arow10_col1\" class=\"data row10 col1\" >703</td>\n",
       "                        <td id=\"T_a4a67a74_8888_11ea_be06_60f81dc8f27arow10_col2\" class=\"data row10 col2\" >31.3</td>\n",
       "                        <td id=\"T_a4a67a74_8888_11ea_be06_60f81dc8f27arow10_col3\" class=\"data row10 col3\" >6</td>\n",
       "                        <td id=\"T_a4a67a74_8888_11ea_be06_60f81dc8f27arow10_col4\" class=\"data row10 col4\" >0.4</td>\n",
       "            </tr>\n",
       "            <tr>\n",
       "                                <td id=\"T_a4a67a74_8888_11ea_be06_60f81dc8f27arow11_col0\" class=\"data row11 col0\" >Araucanía</td>\n",
       "                        <td id=\"T_a4a67a74_8888_11ea_be06_60f81dc8f27arow11_col1\" class=\"data row11 col1\" >1216</td>\n",
       "                        <td id=\"T_a4a67a74_8888_11ea_be06_60f81dc8f27arow11_col2\" class=\"data row11 col2\" >92.3</td>\n",
       "                        <td id=\"T_a4a67a74_8888_11ea_be06_60f81dc8f27arow11_col3\" class=\"data row11 col3\" >29</td>\n",
       "                        <td id=\"T_a4a67a74_8888_11ea_be06_60f81dc8f27arow11_col4\" class=\"data row11 col4\" >2.9</td>\n",
       "            </tr>\n",
       "            <tr>\n",
       "                                <td id=\"T_a4a67a74_8888_11ea_be06_60f81dc8f27arow12_col0\" class=\"data row12 col0\" >Los Ríos</td>\n",
       "                        <td id=\"T_a4a67a74_8888_11ea_be06_60f81dc8f27arow12_col1\" class=\"data row12 col1\" >178</td>\n",
       "                        <td id=\"T_a4a67a74_8888_11ea_be06_60f81dc8f27arow12_col2\" class=\"data row12 col2\" >9.3</td>\n",
       "                        <td id=\"T_a4a67a74_8888_11ea_be06_60f81dc8f27arow12_col3\" class=\"data row12 col3\" >3</td>\n",
       "                        <td id=\"T_a4a67a74_8888_11ea_be06_60f81dc8f27arow12_col4\" class=\"data row12 col4\" >0.7</td>\n",
       "            </tr>\n",
       "            <tr>\n",
       "                                <td id=\"T_a4a67a74_8888_11ea_be06_60f81dc8f27arow13_col0\" class=\"data row13 col0\" >Los Lagos</td>\n",
       "                        <td id=\"T_a4a67a74_8888_11ea_be06_60f81dc8f27arow13_col1\" class=\"data row13 col1\" >473</td>\n",
       "                        <td id=\"T_a4a67a74_8888_11ea_be06_60f81dc8f27arow13_col2\" class=\"data row13 col2\" >40.8</td>\n",
       "                        <td id=\"T_a4a67a74_8888_11ea_be06_60f81dc8f27arow13_col3\" class=\"data row13 col3\" >8</td>\n",
       "                        <td id=\"T_a4a67a74_8888_11ea_be06_60f81dc8f27arow13_col4\" class=\"data row13 col4\" >0.9</td>\n",
       "            </tr>\n",
       "            <tr>\n",
       "                                <td id=\"T_a4a67a74_8888_11ea_be06_60f81dc8f27arow14_col0\" class=\"data row14 col0\" >Aysén</td>\n",
       "                        <td id=\"T_a4a67a74_8888_11ea_be06_60f81dc8f27arow14_col1\" class=\"data row14 col1\" >7</td>\n",
       "                        <td id=\"T_a4a67a74_8888_11ea_be06_60f81dc8f27arow14_col2\" class=\"data row14 col2\" >23.5</td>\n",
       "                        <td id=\"T_a4a67a74_8888_11ea_be06_60f81dc8f27arow14_col3\" class=\"data row14 col3\" >0</td>\n",
       "                        <td id=\"T_a4a67a74_8888_11ea_be06_60f81dc8f27arow14_col4\" class=\"data row14 col4\" >0</td>\n",
       "            </tr>\n",
       "            <tr>\n",
       "                                <td id=\"T_a4a67a74_8888_11ea_be06_60f81dc8f27arow15_col0\" class=\"data row15 col0\" >Magallanes</td>\n",
       "                        <td id=\"T_a4a67a74_8888_11ea_be06_60f81dc8f27arow15_col1\" class=\"data row15 col1\" >668</td>\n",
       "                        <td id=\"T_a4a67a74_8888_11ea_be06_60f81dc8f27arow15_col2\" class=\"data row15 col2\" >142.9</td>\n",
       "                        <td id=\"T_a4a67a74_8888_11ea_be06_60f81dc8f27arow15_col3\" class=\"data row15 col3\" >9</td>\n",
       "                        <td id=\"T_a4a67a74_8888_11ea_be06_60f81dc8f27arow15_col4\" class=\"data row15 col4\" >5</td>\n",
       "            </tr>\n",
       "    </tbody></table>"
      ],
      "text/plain": [
       "<pandas.io.formats.style.Styler at 0x117513e10>"
      ]
     },
     "execution_count": 17,
     "metadata": {},
     "output_type": "execute_result"
    }
   ],
   "source": [
    "#hide_input\n",
    "(data_table.style.set_properties(**{'text-align': 'right'}).background_gradient(cmap='Reds').hide_index()).set_caption(\n",
    "    'Statistics by region: Confirmed cases and confirmed deaths')"
   ]
  },
  {
   "cell_type": "markdown",
   "metadata": {},
   "source": [
    "# Evolution of total confirmed cases by region"
   ]
  },
  {
   "cell_type": "code",
   "execution_count": 18,
   "metadata": {},
   "outputs": [],
   "source": [
    "#hide\n",
    "data_raw = pd.read_csv(\n",
    "    \"https://raw.githubusercontent.com/MinCiencia/Datos-COVID19/master/output/producto3/CasosTotalesCumulativo.csv\",\n",
    "    index_col='Region')"
   ]
  },
  {
   "cell_type": "code",
   "execution_count": 19,
   "metadata": {},
   "outputs": [],
   "source": [
    "#hide\n",
    "data_raw = data_raw.drop(\"Total\")"
   ]
  },
  {
   "cell_type": "code",
   "execution_count": 20,
   "metadata": {},
   "outputs": [],
   "source": [
    "#hide\n",
    "data = pd.DataFrame()\n",
    "i = 0\n",
    "for date in data_raw.keys():\n",
    "    for n, region in enumerate(data_raw.index):\n",
    "        data[i] = date, region, data_raw[date].loc[region], n\n",
    "        i += 1"
   ]
  },
  {
   "cell_type": "code",
   "execution_count": 21,
   "metadata": {},
   "outputs": [],
   "source": [
    "#hide\n",
    "data_raw = data_raw.reset_index()\n",
    "regiones = data_raw['Region'].values\n",
    "data = data.T\n",
    "data = data.rename(columns={0: \"date\", 1: \"region\", 2: \"casos\", 3: \"codigo region\"})"
   ]
  },
  {
   "cell_type": "code",
   "execution_count": 22,
   "metadata": {},
   "outputs": [],
   "source": [
    "#hide\n",
    "data[\"casos\"] = data[\"casos\"].astype(int)"
   ]
  },
  {
   "cell_type": "code",
   "execution_count": 23,
   "metadata": {},
   "outputs": [
    {
     "data": {
      "text/html": [
       "\n",
       "<div id=\"altair-viz-e62771eeb2e84349b7b34f7d19fdd117\"></div>\n",
       "<script type=\"text/javascript\">\n",
       "  (function(spec, embedOpt){\n",
       "    let outputDiv = document.currentScript.previousElementSibling;\n",
       "    if (outputDiv.id !== \"altair-viz-e62771eeb2e84349b7b34f7d19fdd117\") {\n",
       "      outputDiv = document.getElementById(\"altair-viz-e62771eeb2e84349b7b34f7d19fdd117\");\n",
       "    }\n",
       "    const paths = {\n",
       "      \"vega\": \"https://cdn.jsdelivr.net/npm//vega@5?noext\",\n",
       "      \"vega-lib\": \"https://cdn.jsdelivr.net/npm//vega-lib?noext\",\n",
       "      \"vega-lite\": \"https://cdn.jsdelivr.net/npm//vega-lite@4.8.1?noext\",\n",
       "      \"vega-embed\": \"https://cdn.jsdelivr.net/npm//vega-embed@6?noext\",\n",
       "    };\n",
       "\n",
       "    function loadScript(lib) {\n",
       "      return new Promise(function(resolve, reject) {\n",
       "        var s = document.createElement('script');\n",
       "        s.src = paths[lib];\n",
       "        s.async = true;\n",
       "        s.onload = () => resolve(paths[lib]);\n",
       "        s.onerror = () => reject(`Error loading script: ${paths[lib]}`);\n",
       "        document.getElementsByTagName(\"head\")[0].appendChild(s);\n",
       "      });\n",
       "    }\n",
       "\n",
       "    function showError(err) {\n",
       "      outputDiv.innerHTML = `<div class=\"error\" style=\"color:red;\">${err}</div>`;\n",
       "      throw err;\n",
       "    }\n",
       "\n",
       "    function displayChart(vegaEmbed) {\n",
       "      vegaEmbed(outputDiv, spec, embedOpt)\n",
       "        .catch(err => showError(`Javascript Error: ${err.message}<br>This usually means there's a typo in your chart specification. See the javascript console for the full traceback.`));\n",
       "    }\n",
       "\n",
       "    if(typeof define === \"function\" && define.amd) {\n",
       "      requirejs.config({paths});\n",
       "      require([\"vega-embed\"], displayChart, err => showError(`Error loading script: ${err.message}`));\n",
       "    } else if (typeof vegaEmbed === \"function\") {\n",
       "      displayChart(vegaEmbed);\n",
       "    } else {\n",
       "      loadScript(\"vega\")\n",
       "        .then(() => loadScript(\"vega-lite\"))\n",
       "        .then(() => loadScript(\"vega-embed\"))\n",
       "        .catch(showError)\n",
       "        .then(() => displayChart(vegaEmbed));\n",
       "    }\n",
       "  })({\"config\": {\"view\": {\"continuousWidth\": 400, \"continuousHeight\": 300}}, \"hconcat\": [{\"mark\": \"bar\", \"encoding\": {\"color\": {\"condition\": {\"type\": \"nominal\", \"field\": \"region\", \"legend\": null, \"selection\": {\"or\": [\" \", \"selector001\"]}}, \"value\": \"lightgray\"}, \"order\": {\"type\": \"quantitative\", \"field\": \"codigo region\", \"sort\": \"descending\"}, \"tooltip\": [{\"type\": \"nominal\", \"field\": \"date\"}, {\"type\": \"nominal\", \"field\": \"region\"}, {\"type\": \"quantitative\", \"field\": \"casos\"}], \"x\": {\"type\": \"ordinal\", \"axis\": {\"title\": \"Date\"}, \"field\": \"date\"}, \"y\": {\"type\": \"quantitative\", \"axis\": {\"title\": \"Confirmed cases\"}, \"field\": \"casos\"}}, \"height\": 400, \"selection\": {\" \": {\"type\": \"single\", \"fields\": [\"region\"], \"bind\": {\"input\": \"select\", \"options\": [\"Arica y Parinacota\", \"Tarapac\\u00e1\", \"Antofagasta\", \"Atacama\", \"Coquimbo\", \"Valpara\\u00edso\", \"Metropolitana\", \"O\\u2019Higgins\", \"Maule\", \"\\u00d1uble\", \"Biob\\u00edo\", \"Araucan\\u00eda\", \"Los R\\u00edos\", \"Los Lagos\", \"Ays\\u00e9n\", \"Magallanes\"]}}, \"selector001\": {\"type\": \"multi\", \"fields\": [\"region\"], \"on\": \"mouseover\"}}, \"title\": \"COVID-19 in Chile: Total confirmed cases by regi\\u00f3n\", \"transform\": [{\"filter\": {\"selection\": \" \"}}], \"width\": 600}, {\"mark\": \"point\", \"encoding\": {\"color\": {\"condition\": {\"type\": \"nominal\", \"field\": \"region\", \"legend\": null, \"selection\": {\"or\": [\" \", \"selector001\"]}}, \"value\": \"lightgray\"}, \"y\": {\"type\": \"nominal\", \"axis\": {\"orient\": \"right\"}, \"field\": \"region\", \"sort\": [\"Arica y Parinacota\", \"Tarapac\\u00e1\", \"Antofagasta\", \"Atacama\", \"Coquimbo\", \"Valpara\\u00edso\", \"Metropolitana\", \"O\\u2019Higgins\", \"Maule\", \"\\u00d1uble\", \"Biob\\u00edo\", \"Araucan\\u00eda\", \"Los R\\u00edos\", \"Los Lagos\", \"Ays\\u00e9n\", \"Magallanes\"]}}, \"selection\": {\" \": {\"type\": \"single\", \"fields\": [\"region\"], \"bind\": {\"input\": \"select\", \"options\": [\"Arica y Parinacota\", \"Tarapac\\u00e1\", \"Antofagasta\", \"Atacama\", \"Coquimbo\", \"Valpara\\u00edso\", \"Metropolitana\", \"O\\u2019Higgins\", \"Maule\", \"\\u00d1uble\", \"Biob\\u00edo\", \"Araucan\\u00eda\", \"Los R\\u00edos\", \"Los Lagos\", \"Ays\\u00e9n\", \"Magallanes\"]}}, \"selector001\": {\"type\": \"multi\", \"fields\": [\"region\"], \"on\": \"mouseover\"}}}], \"data\": {\"name\": \"data-3d05f9df15c6d878b4a7e765b86251fe\"}, \"$schema\": \"https://vega.github.io/schema/vega-lite/v4.8.1.json\", \"datasets\": {\"data-3d05f9df15c6d878b4a7e765b86251fe\": [{\"date\": \"2020-03-03\", \"region\": \"Arica y Parinacota\", \"casos\": 0, \"codigo region\": 0}, {\"date\": \"2020-03-03\", \"region\": \"Tarapac\\u00e1\", \"casos\": 0, \"codigo region\": 1}, {\"date\": \"2020-03-03\", \"region\": \"Antofagasta\", \"casos\": 0, \"codigo region\": 2}, {\"date\": \"2020-03-03\", \"region\": \"Atacama\", \"casos\": 0, \"codigo region\": 3}, {\"date\": \"2020-03-03\", \"region\": \"Coquimbo\", \"casos\": 0, \"codigo region\": 4}, {\"date\": \"2020-03-03\", \"region\": \"Valpara\\u00edso\", \"casos\": 0, \"codigo region\": 5}, {\"date\": \"2020-03-03\", \"region\": \"Metropolitana\", \"casos\": 0, \"codigo region\": 6}, {\"date\": \"2020-03-03\", \"region\": \"O\\u2019Higgins\", \"casos\": 0, \"codigo region\": 7}, {\"date\": \"2020-03-03\", \"region\": \"Maule\", \"casos\": 1, \"codigo region\": 8}, {\"date\": \"2020-03-03\", \"region\": \"\\u00d1uble\", \"casos\": 0, \"codigo region\": 9}, {\"date\": \"2020-03-03\", \"region\": \"Biob\\u00edo\", \"casos\": 0, \"codigo region\": 10}, {\"date\": \"2020-03-03\", \"region\": \"Araucan\\u00eda\", \"casos\": 0, \"codigo region\": 11}, {\"date\": \"2020-03-03\", \"region\": \"Los R\\u00edos\", \"casos\": 0, \"codigo region\": 12}, {\"date\": \"2020-03-03\", \"region\": \"Los Lagos\", \"casos\": 0, \"codigo region\": 13}, {\"date\": \"2020-03-03\", \"region\": \"Ays\\u00e9n\", \"casos\": 0, \"codigo region\": 14}, {\"date\": \"2020-03-03\", \"region\": \"Magallanes\", \"casos\": 0, \"codigo region\": 15}, {\"date\": \"2020-03-04\", \"region\": \"Arica y Parinacota\", \"casos\": 0, \"codigo region\": 0}, {\"date\": \"2020-03-04\", \"region\": \"Tarapac\\u00e1\", \"casos\": 0, \"codigo region\": 1}, {\"date\": \"2020-03-04\", \"region\": \"Antofagasta\", \"casos\": 0, \"codigo region\": 2}, {\"date\": \"2020-03-04\", \"region\": \"Atacama\", \"casos\": 0, \"codigo region\": 3}, {\"date\": \"2020-03-04\", \"region\": \"Coquimbo\", \"casos\": 0, \"codigo region\": 4}, {\"date\": \"2020-03-04\", \"region\": \"Valpara\\u00edso\", \"casos\": 0, \"codigo region\": 5}, {\"date\": \"2020-03-04\", \"region\": \"Metropolitana\", \"casos\": 1, \"codigo region\": 6}, {\"date\": \"2020-03-04\", \"region\": \"O\\u2019Higgins\", \"casos\": 0, \"codigo region\": 7}, {\"date\": \"2020-03-04\", \"region\": \"Maule\", \"casos\": 2, \"codigo region\": 8}, {\"date\": \"2020-03-04\", \"region\": \"\\u00d1uble\", \"casos\": 0, \"codigo region\": 9}, {\"date\": \"2020-03-04\", \"region\": \"Biob\\u00edo\", \"casos\": 0, \"codigo region\": 10}, {\"date\": \"2020-03-04\", \"region\": \"Araucan\\u00eda\", \"casos\": 0, \"codigo region\": 11}, {\"date\": \"2020-03-04\", \"region\": \"Los R\\u00edos\", \"casos\": 0, \"codigo region\": 12}, {\"date\": \"2020-03-04\", \"region\": \"Los Lagos\", \"casos\": 0, \"codigo region\": 13}, {\"date\": \"2020-03-04\", \"region\": \"Ays\\u00e9n\", \"casos\": 0, \"codigo region\": 14}, {\"date\": \"2020-03-04\", \"region\": \"Magallanes\", \"casos\": 0, \"codigo region\": 15}, {\"date\": \"2020-03-05\", \"region\": \"Arica y Parinacota\", \"casos\": 0, \"codigo region\": 0}, {\"date\": \"2020-03-05\", \"region\": \"Tarapac\\u00e1\", \"casos\": 0, \"codigo region\": 1}, {\"date\": \"2020-03-05\", \"region\": \"Antofagasta\", \"casos\": 0, \"codigo region\": 2}, {\"date\": \"2020-03-05\", \"region\": \"Atacama\", \"casos\": 0, \"codigo region\": 3}, {\"date\": \"2020-03-05\", \"region\": \"Coquimbo\", \"casos\": 0, \"codigo region\": 4}, {\"date\": \"2020-03-05\", \"region\": \"Valpara\\u00edso\", \"casos\": 0, \"codigo region\": 5}, {\"date\": \"2020-03-05\", \"region\": \"Metropolitana\", \"casos\": 2, \"codigo region\": 6}, {\"date\": \"2020-03-05\", \"region\": \"O\\u2019Higgins\", \"casos\": 0, \"codigo region\": 7}, {\"date\": \"2020-03-05\", \"region\": \"Maule\", \"casos\": 2, \"codigo region\": 8}, {\"date\": \"2020-03-05\", \"region\": \"\\u00d1uble\", \"casos\": 0, \"codigo region\": 9}, {\"date\": \"2020-03-05\", \"region\": \"Biob\\u00edo\", \"casos\": 0, \"codigo region\": 10}, {\"date\": \"2020-03-05\", \"region\": \"Araucan\\u00eda\", \"casos\": 0, \"codigo region\": 11}, {\"date\": \"2020-03-05\", \"region\": \"Los R\\u00edos\", \"casos\": 0, \"codigo region\": 12}, {\"date\": \"2020-03-05\", \"region\": \"Los Lagos\", \"casos\": 0, \"codigo region\": 13}, {\"date\": \"2020-03-05\", \"region\": \"Ays\\u00e9n\", \"casos\": 0, \"codigo region\": 14}, {\"date\": \"2020-03-05\", \"region\": \"Magallanes\", \"casos\": 0, \"codigo region\": 15}, {\"date\": \"2020-03-06\", \"region\": \"Arica y Parinacota\", \"casos\": 0, \"codigo region\": 0}, {\"date\": \"2020-03-06\", \"region\": \"Tarapac\\u00e1\", \"casos\": 0, \"codigo region\": 1}, {\"date\": \"2020-03-06\", \"region\": \"Antofagasta\", \"casos\": 0, \"codigo region\": 2}, {\"date\": \"2020-03-06\", \"region\": \"Atacama\", \"casos\": 0, \"codigo region\": 3}, {\"date\": \"2020-03-06\", \"region\": \"Coquimbo\", \"casos\": 0, \"codigo region\": 4}, {\"date\": \"2020-03-06\", \"region\": \"Valpara\\u00edso\", \"casos\": 0, \"codigo region\": 5}, {\"date\": \"2020-03-06\", \"region\": \"Metropolitana\", \"casos\": 3, \"codigo region\": 6}, {\"date\": \"2020-03-06\", \"region\": \"O\\u2019Higgins\", \"casos\": 0, \"codigo region\": 7}, {\"date\": \"2020-03-06\", \"region\": \"Maule\", \"casos\": 2, \"codigo region\": 8}, {\"date\": \"2020-03-06\", \"region\": \"\\u00d1uble\", \"casos\": 0, \"codigo region\": 9}, {\"date\": \"2020-03-06\", \"region\": \"Biob\\u00edo\", \"casos\": 0, \"codigo region\": 10}, {\"date\": \"2020-03-06\", \"region\": \"Araucan\\u00eda\", \"casos\": 0, \"codigo region\": 11}, {\"date\": \"2020-03-06\", \"region\": \"Los R\\u00edos\", \"casos\": 0, \"codigo region\": 12}, {\"date\": \"2020-03-06\", \"region\": \"Los Lagos\", \"casos\": 0, \"codigo region\": 13}, {\"date\": \"2020-03-06\", \"region\": \"Ays\\u00e9n\", \"casos\": 0, \"codigo region\": 14}, {\"date\": \"2020-03-06\", \"region\": \"Magallanes\", \"casos\": 0, \"codigo region\": 15}, {\"date\": \"2020-03-07\", \"region\": \"Arica y Parinacota\", \"casos\": 0, \"codigo region\": 0}, {\"date\": \"2020-03-07\", \"region\": \"Tarapac\\u00e1\", \"casos\": 0, \"codigo region\": 1}, {\"date\": \"2020-03-07\", \"region\": \"Antofagasta\", \"casos\": 0, \"codigo region\": 2}, {\"date\": \"2020-03-07\", \"region\": \"Atacama\", \"casos\": 0, \"codigo region\": 3}, {\"date\": \"2020-03-07\", \"region\": \"Coquimbo\", \"casos\": 0, \"codigo region\": 4}, {\"date\": \"2020-03-07\", \"region\": \"Valpara\\u00edso\", \"casos\": 0, \"codigo region\": 5}, {\"date\": \"2020-03-07\", \"region\": \"Metropolitana\", \"casos\": 4, \"codigo region\": 6}, {\"date\": \"2020-03-07\", \"region\": \"O\\u2019Higgins\", \"casos\": 0, \"codigo region\": 7}, {\"date\": \"2020-03-07\", \"region\": \"Maule\", \"casos\": 2, \"codigo region\": 8}, {\"date\": \"2020-03-07\", \"region\": \"\\u00d1uble\", \"casos\": 0, \"codigo region\": 9}, {\"date\": \"2020-03-07\", \"region\": \"Biob\\u00edo\", \"casos\": 0, \"codigo region\": 10}, {\"date\": \"2020-03-07\", \"region\": \"Araucan\\u00eda\", \"casos\": 0, \"codigo region\": 11}, {\"date\": \"2020-03-07\", \"region\": \"Los R\\u00edos\", \"casos\": 0, \"codigo region\": 12}, {\"date\": \"2020-03-07\", \"region\": \"Los Lagos\", \"casos\": 1, \"codigo region\": 13}, {\"date\": \"2020-03-07\", \"region\": \"Ays\\u00e9n\", \"casos\": 0, \"codigo region\": 14}, {\"date\": \"2020-03-07\", \"region\": \"Magallanes\", \"casos\": 0, \"codigo region\": 15}, {\"date\": \"2020-03-08\", \"region\": \"Arica y Parinacota\", \"casos\": 0, \"codigo region\": 0}, {\"date\": \"2020-03-08\", \"region\": \"Tarapac\\u00e1\", \"casos\": 0, \"codigo region\": 1}, {\"date\": \"2020-03-08\", \"region\": \"Antofagasta\", \"casos\": 0, \"codigo region\": 2}, {\"date\": \"2020-03-08\", \"region\": \"Atacama\", \"casos\": 0, \"codigo region\": 3}, {\"date\": \"2020-03-08\", \"region\": \"Coquimbo\", \"casos\": 0, \"codigo region\": 4}, {\"date\": \"2020-03-08\", \"region\": \"Valpara\\u00edso\", \"casos\": 0, \"codigo region\": 5}, {\"date\": \"2020-03-08\", \"region\": \"Metropolitana\", \"casos\": 6, \"codigo region\": 6}, {\"date\": \"2020-03-08\", \"region\": \"O\\u2019Higgins\", \"casos\": 0, \"codigo region\": 7}, {\"date\": \"2020-03-08\", \"region\": \"Maule\", \"casos\": 3, \"codigo region\": 8}, {\"date\": \"2020-03-08\", \"region\": \"\\u00d1uble\", \"casos\": 0, \"codigo region\": 9}, {\"date\": \"2020-03-08\", \"region\": \"Biob\\u00edo\", \"casos\": 0, \"codigo region\": 10}, {\"date\": \"2020-03-08\", \"region\": \"Araucan\\u00eda\", \"casos\": 0, \"codigo region\": 11}, {\"date\": \"2020-03-08\", \"region\": \"Los R\\u00edos\", \"casos\": 0, \"codigo region\": 12}, {\"date\": \"2020-03-08\", \"region\": \"Los Lagos\", \"casos\": 1, \"codigo region\": 13}, {\"date\": \"2020-03-08\", \"region\": \"Ays\\u00e9n\", \"casos\": 0, \"codigo region\": 14}, {\"date\": \"2020-03-08\", \"region\": \"Magallanes\", \"casos\": 0, \"codigo region\": 15}, {\"date\": \"2020-03-09\", \"region\": \"Arica y Parinacota\", \"casos\": 0, \"codigo region\": 0}, {\"date\": \"2020-03-09\", \"region\": \"Tarapac\\u00e1\", \"casos\": 0, \"codigo region\": 1}, {\"date\": \"2020-03-09\", \"region\": \"Antofagasta\", \"casos\": 0, \"codigo region\": 2}, {\"date\": \"2020-03-09\", \"region\": \"Atacama\", \"casos\": 0, \"codigo region\": 3}, {\"date\": \"2020-03-09\", \"region\": \"Coquimbo\", \"casos\": 0, \"codigo region\": 4}, {\"date\": \"2020-03-09\", \"region\": \"Valpara\\u00edso\", \"casos\": 0, \"codigo region\": 5}, {\"date\": \"2020-03-09\", \"region\": \"Metropolitana\", \"casos\": 9, \"codigo region\": 6}, {\"date\": \"2020-03-09\", \"region\": \"O\\u2019Higgins\", \"casos\": 0, \"codigo region\": 7}, {\"date\": \"2020-03-09\", \"region\": \"Maule\", \"casos\": 4, \"codigo region\": 8}, {\"date\": \"2020-03-09\", \"region\": \"\\u00d1uble\", \"casos\": 0, \"codigo region\": 9}, {\"date\": \"2020-03-09\", \"region\": \"Biob\\u00edo\", \"casos\": 1, \"codigo region\": 10}, {\"date\": \"2020-03-09\", \"region\": \"Araucan\\u00eda\", \"casos\": 0, \"codigo region\": 11}, {\"date\": \"2020-03-09\", \"region\": \"Los R\\u00edos\", \"casos\": 0, \"codigo region\": 12}, {\"date\": \"2020-03-09\", \"region\": \"Los Lagos\", \"casos\": 1, \"codigo region\": 13}, {\"date\": \"2020-03-09\", \"region\": \"Ays\\u00e9n\", \"casos\": 0, \"codigo region\": 14}, {\"date\": \"2020-03-09\", \"region\": \"Magallanes\", \"casos\": 0, \"codigo region\": 15}, {\"date\": \"2020-03-10\", \"region\": \"Arica y Parinacota\", \"casos\": 0, \"codigo region\": 0}, {\"date\": \"2020-03-10\", \"region\": \"Tarapac\\u00e1\", \"casos\": 0, \"codigo region\": 1}, {\"date\": \"2020-03-10\", \"region\": \"Antofagasta\", \"casos\": 0, \"codigo region\": 2}, {\"date\": \"2020-03-10\", \"region\": \"Atacama\", \"casos\": 0, \"codigo region\": 3}, {\"date\": \"2020-03-10\", \"region\": \"Coquimbo\", \"casos\": 0, \"codigo region\": 4}, {\"date\": \"2020-03-10\", \"region\": \"Valpara\\u00edso\", \"casos\": 0, \"codigo region\": 5}, {\"date\": \"2020-03-10\", \"region\": \"Metropolitana\", \"casos\": 10, \"codigo region\": 6}, {\"date\": \"2020-03-10\", \"region\": \"O\\u2019Higgins\", \"casos\": 0, \"codigo region\": 7}, {\"date\": \"2020-03-10\", \"region\": \"Maule\", \"casos\": 5, \"codigo region\": 8}, {\"date\": \"2020-03-10\", \"region\": \"\\u00d1uble\", \"casos\": 0, \"codigo region\": 9}, {\"date\": \"2020-03-10\", \"region\": \"Biob\\u00edo\", \"casos\": 1, \"codigo region\": 10}, {\"date\": \"2020-03-10\", \"region\": \"Araucan\\u00eda\", \"casos\": 0, \"codigo region\": 11}, {\"date\": \"2020-03-10\", \"region\": \"Los R\\u00edos\", \"casos\": 0, \"codigo region\": 12}, {\"date\": \"2020-03-10\", \"region\": \"Los Lagos\", \"casos\": 1, \"codigo region\": 13}, {\"date\": \"2020-03-10\", \"region\": \"Ays\\u00e9n\", \"casos\": 0, \"codigo region\": 14}, {\"date\": \"2020-03-10\", \"region\": \"Magallanes\", \"casos\": 0, \"codigo region\": 15}, {\"date\": \"2020-03-11\", \"region\": \"Arica y Parinacota\", \"casos\": 0, \"codigo region\": 0}, {\"date\": \"2020-03-11\", \"region\": \"Tarapac\\u00e1\", \"casos\": 0, \"codigo region\": 1}, {\"date\": \"2020-03-11\", \"region\": \"Antofagasta\", \"casos\": 0, \"codigo region\": 2}, {\"date\": \"2020-03-11\", \"region\": \"Atacama\", \"casos\": 0, \"codigo region\": 3}, {\"date\": \"2020-03-11\", \"region\": \"Coquimbo\", \"casos\": 0, \"codigo region\": 4}, {\"date\": \"2020-03-11\", \"region\": \"Valpara\\u00edso\", \"casos\": 0, \"codigo region\": 5}, {\"date\": \"2020-03-11\", \"region\": \"Metropolitana\", \"casos\": 14, \"codigo region\": 6}, {\"date\": \"2020-03-11\", \"region\": \"O\\u2019Higgins\", \"casos\": 0, \"codigo region\": 7}, {\"date\": \"2020-03-11\", \"region\": \"Maule\", \"casos\": 7, \"codigo region\": 8}, {\"date\": \"2020-03-11\", \"region\": \"\\u00d1uble\", \"casos\": 0, \"codigo region\": 9}, {\"date\": \"2020-03-11\", \"region\": \"Biob\\u00edo\", \"casos\": 1, \"codigo region\": 10}, {\"date\": \"2020-03-11\", \"region\": \"Araucan\\u00eda\", \"casos\": 0, \"codigo region\": 11}, {\"date\": \"2020-03-11\", \"region\": \"Los R\\u00edos\", \"casos\": 0, \"codigo region\": 12}, {\"date\": \"2020-03-11\", \"region\": \"Los Lagos\", \"casos\": 1, \"codigo region\": 13}, {\"date\": \"2020-03-11\", \"region\": \"Ays\\u00e9n\", \"casos\": 0, \"codigo region\": 14}, {\"date\": \"2020-03-11\", \"region\": \"Magallanes\", \"casos\": 0, \"codigo region\": 15}, {\"date\": \"2020-03-12\", \"region\": \"Arica y Parinacota\", \"casos\": 0, \"codigo region\": 0}, {\"date\": \"2020-03-12\", \"region\": \"Tarapac\\u00e1\", \"casos\": 0, \"codigo region\": 1}, {\"date\": \"2020-03-12\", \"region\": \"Antofagasta\", \"casos\": 0, \"codigo region\": 2}, {\"date\": \"2020-03-12\", \"region\": \"Atacama\", \"casos\": 0, \"codigo region\": 3}, {\"date\": \"2020-03-12\", \"region\": \"Coquimbo\", \"casos\": 0, \"codigo region\": 4}, {\"date\": \"2020-03-12\", \"region\": \"Valpara\\u00edso\", \"casos\": 0, \"codigo region\": 5}, {\"date\": \"2020-03-12\", \"region\": \"Metropolitana\", \"casos\": 23, \"codigo region\": 6}, {\"date\": \"2020-03-12\", \"region\": \"O\\u2019Higgins\", \"casos\": 0, \"codigo region\": 7}, {\"date\": \"2020-03-12\", \"region\": \"Maule\", \"casos\": 7, \"codigo region\": 8}, {\"date\": \"2020-03-12\", \"region\": \"\\u00d1uble\", \"casos\": 1, \"codigo region\": 9}, {\"date\": \"2020-03-12\", \"region\": \"Biob\\u00edo\", \"casos\": 1, \"codigo region\": 10}, {\"date\": \"2020-03-12\", \"region\": \"Araucan\\u00eda\", \"casos\": 0, \"codigo region\": 11}, {\"date\": \"2020-03-12\", \"region\": \"Los R\\u00edos\", \"casos\": 0, \"codigo region\": 12}, {\"date\": \"2020-03-12\", \"region\": \"Los Lagos\", \"casos\": 1, \"codigo region\": 13}, {\"date\": \"2020-03-12\", \"region\": \"Ays\\u00e9n\", \"casos\": 0, \"codigo region\": 14}, {\"date\": \"2020-03-12\", \"region\": \"Magallanes\", \"casos\": 0, \"codigo region\": 15}, {\"date\": \"2020-03-13\", \"region\": \"Arica y Parinacota\", \"casos\": 0, \"codigo region\": 0}, {\"date\": \"2020-03-13\", \"region\": \"Tarapac\\u00e1\", \"casos\": 0, \"codigo region\": 1}, {\"date\": \"2020-03-13\", \"region\": \"Antofagasta\", \"casos\": 0, \"codigo region\": 2}, {\"date\": \"2020-03-13\", \"region\": \"Atacama\", \"casos\": 0, \"codigo region\": 3}, {\"date\": \"2020-03-13\", \"region\": \"Coquimbo\", \"casos\": 0, \"codigo region\": 4}, {\"date\": \"2020-03-13\", \"region\": \"Valpara\\u00edso\", \"casos\": 0, \"codigo region\": 5}, {\"date\": \"2020-03-13\", \"region\": \"Metropolitana\", \"casos\": 29, \"codigo region\": 6}, {\"date\": \"2020-03-13\", \"region\": \"O\\u2019Higgins\", \"casos\": 0, \"codigo region\": 7}, {\"date\": \"2020-03-13\", \"region\": \"Maule\", \"casos\": 8, \"codigo region\": 8}, {\"date\": \"2020-03-13\", \"region\": \"\\u00d1uble\", \"casos\": 2, \"codigo region\": 9}, {\"date\": \"2020-03-13\", \"region\": \"Biob\\u00edo\", \"casos\": 3, \"codigo region\": 10}, {\"date\": \"2020-03-13\", \"region\": \"Araucan\\u00eda\", \"casos\": 0, \"codigo region\": 11}, {\"date\": \"2020-03-13\", \"region\": \"Los R\\u00edos\", \"casos\": 0, \"codigo region\": 12}, {\"date\": \"2020-03-13\", \"region\": \"Los Lagos\", \"casos\": 1, \"codigo region\": 13}, {\"date\": \"2020-03-13\", \"region\": \"Ays\\u00e9n\", \"casos\": 0, \"codigo region\": 14}, {\"date\": \"2020-03-13\", \"region\": \"Magallanes\", \"casos\": 0, \"codigo region\": 15}, {\"date\": \"2020-03-14\", \"region\": \"Arica y Parinacota\", \"casos\": 0, \"codigo region\": 0}, {\"date\": \"2020-03-14\", \"region\": \"Tarapac\\u00e1\", \"casos\": 0, \"codigo region\": 1}, {\"date\": \"2020-03-14\", \"region\": \"Antofagasta\", \"casos\": 2, \"codigo region\": 2}, {\"date\": \"2020-03-14\", \"region\": \"Atacama\", \"casos\": 1, \"codigo region\": 3}, {\"date\": \"2020-03-14\", \"region\": \"Coquimbo\", \"casos\": 0, \"codigo region\": 4}, {\"date\": \"2020-03-14\", \"region\": \"Valpara\\u00edso\", \"casos\": 0, \"codigo region\": 5}, {\"date\": \"2020-03-14\", \"region\": \"Metropolitana\", \"casos\": 40, \"codigo region\": 6}, {\"date\": \"2020-03-14\", \"region\": \"O\\u2019Higgins\", \"casos\": 0, \"codigo region\": 7}, {\"date\": \"2020-03-14\", \"region\": \"Maule\", \"casos\": 9, \"codigo region\": 8}, {\"date\": \"2020-03-14\", \"region\": \"\\u00d1uble\", \"casos\": 4, \"codigo region\": 9}, {\"date\": \"2020-03-14\", \"region\": \"Biob\\u00edo\", \"casos\": 3, \"codigo region\": 10}, {\"date\": \"2020-03-14\", \"region\": \"Araucan\\u00eda\", \"casos\": 0, \"codigo region\": 11}, {\"date\": \"2020-03-14\", \"region\": \"Los R\\u00edos\", \"casos\": 0, \"codigo region\": 12}, {\"date\": \"2020-03-14\", \"region\": \"Los Lagos\", \"casos\": 1, \"codigo region\": 13}, {\"date\": \"2020-03-14\", \"region\": \"Ays\\u00e9n\", \"casos\": 1, \"codigo region\": 14}, {\"date\": \"2020-03-14\", \"region\": \"Magallanes\", \"casos\": 0, \"codigo region\": 15}, {\"date\": \"2020-03-15\", \"region\": \"Arica y Parinacota\", \"casos\": 0, \"codigo region\": 0}, {\"date\": \"2020-03-15\", \"region\": \"Tarapac\\u00e1\", \"casos\": 0, \"codigo region\": 1}, {\"date\": \"2020-03-15\", \"region\": \"Antofagasta\", \"casos\": 2, \"codigo region\": 2}, {\"date\": \"2020-03-15\", \"region\": \"Atacama\", \"casos\": 1, \"codigo region\": 3}, {\"date\": \"2020-03-15\", \"region\": \"Coquimbo\", \"casos\": 0, \"codigo region\": 4}, {\"date\": \"2020-03-15\", \"region\": \"Valpara\\u00edso\", \"casos\": 0, \"codigo region\": 5}, {\"date\": \"2020-03-15\", \"region\": \"Metropolitana\", \"casos\": 54, \"codigo region\": 6}, {\"date\": \"2020-03-15\", \"region\": \"O\\u2019Higgins\", \"casos\": 0, \"codigo region\": 7}, {\"date\": \"2020-03-15\", \"region\": \"Maule\", \"casos\": 9, \"codigo region\": 8}, {\"date\": \"2020-03-15\", \"region\": \"\\u00d1uble\", \"casos\": 4, \"codigo region\": 9}, {\"date\": \"2020-03-15\", \"region\": \"Biob\\u00edo\", \"casos\": 3, \"codigo region\": 10}, {\"date\": \"2020-03-15\", \"region\": \"Araucan\\u00eda\", \"casos\": 0, \"codigo region\": 11}, {\"date\": \"2020-03-15\", \"region\": \"Los R\\u00edos\", \"casos\": 0, \"codigo region\": 12}, {\"date\": \"2020-03-15\", \"region\": \"Los Lagos\", \"casos\": 1, \"codigo region\": 13}, {\"date\": \"2020-03-15\", \"region\": \"Ays\\u00e9n\", \"casos\": 1, \"codigo region\": 14}, {\"date\": \"2020-03-15\", \"region\": \"Magallanes\", \"casos\": 0, \"codigo region\": 15}, {\"date\": \"2020-03-16\", \"region\": \"Arica y Parinacota\", \"casos\": 0, \"codigo region\": 0}, {\"date\": \"2020-03-16\", \"region\": \"Tarapac\\u00e1\", \"casos\": 0, \"codigo region\": 1}, {\"date\": \"2020-03-16\", \"region\": \"Antofagasta\", \"casos\": 2, \"codigo region\": 2}, {\"date\": \"2020-03-16\", \"region\": \"Atacama\", \"casos\": 1, \"codigo region\": 3}, {\"date\": \"2020-03-16\", \"region\": \"Coquimbo\", \"casos\": 0, \"codigo region\": 4}, {\"date\": \"2020-03-16\", \"region\": \"Valpara\\u00edso\", \"casos\": 1, \"codigo region\": 5}, {\"date\": \"2020-03-16\", \"region\": \"Metropolitana\", \"casos\": 123, \"codigo region\": 6}, {\"date\": \"2020-03-16\", \"region\": \"O\\u2019Higgins\", \"casos\": 0, \"codigo region\": 7}, {\"date\": \"2020-03-16\", \"region\": \"Maule\", \"casos\": 9, \"codigo region\": 8}, {\"date\": \"2020-03-16\", \"region\": \"\\u00d1uble\", \"casos\": 12, \"codigo region\": 9}, {\"date\": \"2020-03-16\", \"region\": \"Biob\\u00edo\", \"casos\": 4, \"codigo region\": 10}, {\"date\": \"2020-03-16\", \"region\": \"Araucan\\u00eda\", \"casos\": 1, \"codigo region\": 11}, {\"date\": \"2020-03-16\", \"region\": \"Los R\\u00edos\", \"casos\": 1, \"codigo region\": 12}, {\"date\": \"2020-03-16\", \"region\": \"Los Lagos\", \"casos\": 1, \"codigo region\": 13}, {\"date\": \"2020-03-16\", \"region\": \"Ays\\u00e9n\", \"casos\": 1, \"codigo region\": 14}, {\"date\": \"2020-03-16\", \"region\": \"Magallanes\", \"casos\": 0, \"codigo region\": 15}, {\"date\": \"2020-03-17\", \"region\": \"Arica y Parinacota\", \"casos\": 0, \"codigo region\": 0}, {\"date\": \"2020-03-17\", \"region\": \"Tarapac\\u00e1\", \"casos\": 0, \"codigo region\": 1}, {\"date\": \"2020-03-17\", \"region\": \"Antofagasta\", \"casos\": 2, \"codigo region\": 2}, {\"date\": \"2020-03-17\", \"region\": \"Atacama\", \"casos\": 1, \"codigo region\": 3}, {\"date\": \"2020-03-17\", \"region\": \"Coquimbo\", \"casos\": 0, \"codigo region\": 4}, {\"date\": \"2020-03-17\", \"region\": \"Valpara\\u00edso\", \"casos\": 1, \"codigo region\": 5}, {\"date\": \"2020-03-17\", \"region\": \"Metropolitana\", \"casos\": 152, \"codigo region\": 6}, {\"date\": \"2020-03-17\", \"region\": \"O\\u2019Higgins\", \"casos\": 0, \"codigo region\": 7}, {\"date\": \"2020-03-17\", \"region\": \"Maule\", \"casos\": 9, \"codigo region\": 8}, {\"date\": \"2020-03-17\", \"region\": \"\\u00d1uble\", \"casos\": 26, \"codigo region\": 9}, {\"date\": \"2020-03-17\", \"region\": \"Biob\\u00edo\", \"casos\": 4, \"codigo region\": 10}, {\"date\": \"2020-03-17\", \"region\": \"Araucan\\u00eda\", \"casos\": 1, \"codigo region\": 11}, {\"date\": \"2020-03-17\", \"region\": \"Los R\\u00edos\", \"casos\": 1, \"codigo region\": 12}, {\"date\": \"2020-03-17\", \"region\": \"Los Lagos\", \"casos\": 1, \"codigo region\": 13}, {\"date\": \"2020-03-17\", \"region\": \"Ays\\u00e9n\", \"casos\": 1, \"codigo region\": 14}, {\"date\": \"2020-03-17\", \"region\": \"Magallanes\", \"casos\": 2, \"codigo region\": 15}, {\"date\": \"2020-03-18\", \"region\": \"Arica y Parinacota\", \"casos\": 0, \"codigo region\": 0}, {\"date\": \"2020-03-18\", \"region\": \"Tarapac\\u00e1\", \"casos\": 0, \"codigo region\": 1}, {\"date\": \"2020-03-18\", \"region\": \"Antofagasta\", \"casos\": 2, \"codigo region\": 2}, {\"date\": \"2020-03-18\", \"region\": \"Atacama\", \"casos\": 1, \"codigo region\": 3}, {\"date\": \"2020-03-18\", \"region\": \"Coquimbo\", \"casos\": 0, \"codigo region\": 4}, {\"date\": \"2020-03-18\", \"region\": \"Valpara\\u00edso\", \"casos\": 1, \"codigo region\": 5}, {\"date\": \"2020-03-18\", \"region\": \"Metropolitana\", \"casos\": 174, \"codigo region\": 6}, {\"date\": \"2020-03-18\", \"region\": \"O\\u2019Higgins\", \"casos\": 0, \"codigo region\": 7}, {\"date\": \"2020-03-18\", \"region\": \"Maule\", \"casos\": 11, \"codigo region\": 8}, {\"date\": \"2020-03-18\", \"region\": \"\\u00d1uble\", \"casos\": 26, \"codigo region\": 9}, {\"date\": \"2020-03-18\", \"region\": \"Biob\\u00edo\", \"casos\": 7, \"codigo region\": 10}, {\"date\": \"2020-03-18\", \"region\": \"Araucan\\u00eda\", \"casos\": 4, \"codigo region\": 11}, {\"date\": \"2020-03-18\", \"region\": \"Los R\\u00edos\", \"casos\": 1, \"codigo region\": 12}, {\"date\": \"2020-03-18\", \"region\": \"Los Lagos\", \"casos\": 8, \"codigo region\": 13}, {\"date\": \"2020-03-18\", \"region\": \"Ays\\u00e9n\", \"casos\": 1, \"codigo region\": 14}, {\"date\": \"2020-03-18\", \"region\": \"Magallanes\", \"casos\": 2, \"codigo region\": 15}, {\"date\": \"2020-03-19\", \"region\": \"Arica y Parinacota\", \"casos\": 1, \"codigo region\": 0}, {\"date\": \"2020-03-19\", \"region\": \"Tarapac\\u00e1\", \"casos\": 0, \"codigo region\": 1}, {\"date\": \"2020-03-19\", \"region\": \"Antofagasta\", \"casos\": 2, \"codigo region\": 2}, {\"date\": \"2020-03-19\", \"region\": \"Atacama\", \"casos\": 1, \"codigo region\": 3}, {\"date\": \"2020-03-19\", \"region\": \"Coquimbo\", \"casos\": 2, \"codigo region\": 4}, {\"date\": \"2020-03-19\", \"region\": \"Valpara\\u00edso\", \"casos\": 4, \"codigo region\": 5}, {\"date\": \"2020-03-19\", \"region\": \"Metropolitana\", \"casos\": 247, \"codigo region\": 6}, {\"date\": \"2020-03-19\", \"region\": \"O\\u2019Higgins\", \"casos\": 2, \"codigo region\": 7}, {\"date\": \"2020-03-19\", \"region\": \"Maule\", \"casos\": 14, \"codigo region\": 8}, {\"date\": \"2020-03-19\", \"region\": \"\\u00d1uble\", \"casos\": 28, \"codigo region\": 9}, {\"date\": \"2020-03-19\", \"region\": \"Biob\\u00edo\", \"casos\": 14, \"codigo region\": 10}, {\"date\": \"2020-03-19\", \"region\": \"Araucan\\u00eda\", \"casos\": 7, \"codigo region\": 11}, {\"date\": \"2020-03-19\", \"region\": \"Los R\\u00edos\", \"casos\": 1, \"codigo region\": 12}, {\"date\": \"2020-03-19\", \"region\": \"Los Lagos\", \"casos\": 16, \"codigo region\": 13}, {\"date\": \"2020-03-19\", \"region\": \"Ays\\u00e9n\", \"casos\": 1, \"codigo region\": 14}, {\"date\": \"2020-03-19\", \"region\": \"Magallanes\", \"casos\": 2, \"codigo region\": 15}, {\"date\": \"2020-03-20\", \"region\": \"Arica y Parinacota\", \"casos\": 1, \"codigo region\": 0}, {\"date\": \"2020-03-20\", \"region\": \"Tarapac\\u00e1\", \"casos\": 0, \"codigo region\": 1}, {\"date\": \"2020-03-20\", \"region\": \"Antofagasta\", \"casos\": 6, \"codigo region\": 2}, {\"date\": \"2020-03-20\", \"region\": \"Atacama\", \"casos\": 1, \"codigo region\": 3}, {\"date\": \"2020-03-20\", \"region\": \"Coquimbo\", \"casos\": 3, \"codigo region\": 4}, {\"date\": \"2020-03-20\", \"region\": \"Valpara\\u00edso\", \"casos\": 5, \"codigo region\": 5}, {\"date\": \"2020-03-20\", \"region\": \"Metropolitana\", \"casos\": 304, \"codigo region\": 6}, {\"date\": \"2020-03-20\", \"region\": \"O\\u2019Higgins\", \"casos\": 6, \"codigo region\": 7}, {\"date\": \"2020-03-20\", \"region\": \"Maule\", \"casos\": 14, \"codigo region\": 8}, {\"date\": \"2020-03-20\", \"region\": \"\\u00d1uble\", \"casos\": 44, \"codigo region\": 9}, {\"date\": \"2020-03-20\", \"region\": \"Biob\\u00edo\", \"casos\": 19, \"codigo region\": 10}, {\"date\": \"2020-03-20\", \"region\": \"Araucan\\u00eda\", \"casos\": 9, \"codigo region\": 11}, {\"date\": \"2020-03-20\", \"region\": \"Los R\\u00edos\", \"casos\": 1, \"codigo region\": 12}, {\"date\": \"2020-03-20\", \"region\": \"Los Lagos\", \"casos\": 18, \"codigo region\": 13}, {\"date\": \"2020-03-20\", \"region\": \"Ays\\u00e9n\", \"casos\": 1, \"codigo region\": 14}, {\"date\": \"2020-03-20\", \"region\": \"Magallanes\", \"casos\": 2, \"codigo region\": 15}, {\"date\": \"2020-03-21\", \"region\": \"Arica y Parinacota\", \"casos\": 1, \"codigo region\": 0}, {\"date\": \"2020-03-21\", \"region\": \"Tarapac\\u00e1\", \"casos\": 0, \"codigo region\": 1}, {\"date\": \"2020-03-21\", \"region\": \"Antofagasta\", \"casos\": 10, \"codigo region\": 2}, {\"date\": \"2020-03-21\", \"region\": \"Atacama\", \"casos\": 1, \"codigo region\": 3}, {\"date\": \"2020-03-21\", \"region\": \"Coquimbo\", \"casos\": 3, \"codigo region\": 4}, {\"date\": \"2020-03-21\", \"region\": \"Valpara\\u00edso\", \"casos\": 13, \"codigo region\": 5}, {\"date\": \"2020-03-21\", \"region\": \"Metropolitana\", \"casos\": 359, \"codigo region\": 6}, {\"date\": \"2020-03-21\", \"region\": \"O\\u2019Higgins\", \"casos\": 7, \"codigo region\": 7}, {\"date\": \"2020-03-21\", \"region\": \"Maule\", \"casos\": 15, \"codigo region\": 8}, {\"date\": \"2020-03-21\", \"region\": \"\\u00d1uble\", \"casos\": 58, \"codigo region\": 9}, {\"date\": \"2020-03-21\", \"region\": \"Biob\\u00edo\", \"casos\": 30, \"codigo region\": 10}, {\"date\": \"2020-03-21\", \"region\": \"Araucan\\u00eda\", \"casos\": 15, \"codigo region\": 11}, {\"date\": \"2020-03-21\", \"region\": \"Los R\\u00edos\", \"casos\": 1, \"codigo region\": 12}, {\"date\": \"2020-03-21\", \"region\": \"Los Lagos\", \"casos\": 20, \"codigo region\": 13}, {\"date\": \"2020-03-21\", \"region\": \"Ays\\u00e9n\", \"casos\": 1, \"codigo region\": 14}, {\"date\": \"2020-03-21\", \"region\": \"Magallanes\", \"casos\": 3, \"codigo region\": 15}, {\"date\": \"2020-03-22\", \"region\": \"Arica y Parinacota\", \"casos\": 2, \"codigo region\": 0}, {\"date\": \"2020-03-22\", \"region\": \"Tarapac\\u00e1\", \"casos\": 0, \"codigo region\": 1}, {\"date\": \"2020-03-22\", \"region\": \"Antofagasta\", \"casos\": 11, \"codigo region\": 2}, {\"date\": \"2020-03-22\", \"region\": \"Atacama\", \"casos\": 1, \"codigo region\": 3}, {\"date\": \"2020-03-22\", \"region\": \"Coquimbo\", \"casos\": 5, \"codigo region\": 4}, {\"date\": \"2020-03-22\", \"region\": \"Valpara\\u00edso\", \"casos\": 16, \"codigo region\": 5}, {\"date\": \"2020-03-22\", \"region\": \"Metropolitana\", \"casos\": 409, \"codigo region\": 6}, {\"date\": \"2020-03-22\", \"region\": \"O\\u2019Higgins\", \"casos\": 8, \"codigo region\": 7}, {\"date\": \"2020-03-22\", \"region\": \"Maule\", \"casos\": 25, \"codigo region\": 8}, {\"date\": \"2020-03-22\", \"region\": \"\\u00d1uble\", \"casos\": 64, \"codigo region\": 9}, {\"date\": \"2020-03-22\", \"region\": \"Biob\\u00edo\", \"casos\": 35, \"codigo region\": 10}, {\"date\": \"2020-03-22\", \"region\": \"Araucan\\u00eda\", \"casos\": 27, \"codigo region\": 11}, {\"date\": \"2020-03-22\", \"region\": \"Los R\\u00edos\", \"casos\": 1, \"codigo region\": 12}, {\"date\": \"2020-03-22\", \"region\": \"Los Lagos\", \"casos\": 23, \"codigo region\": 13}, {\"date\": \"2020-03-22\", \"region\": \"Ays\\u00e9n\", \"casos\": 1, \"codigo region\": 14}, {\"date\": \"2020-03-22\", \"region\": \"Magallanes\", \"casos\": 4, \"codigo region\": 15}, {\"date\": \"2020-03-23\", \"region\": \"Arica y Parinacota\", \"casos\": 2, \"codigo region\": 0}, {\"date\": \"2020-03-23\", \"region\": \"Tarapac\\u00e1\", \"casos\": 1, \"codigo region\": 1}, {\"date\": \"2020-03-23\", \"region\": \"Antofagasta\", \"casos\": 11, \"codigo region\": 2}, {\"date\": \"2020-03-23\", \"region\": \"Atacama\", \"casos\": 1, \"codigo region\": 3}, {\"date\": \"2020-03-23\", \"region\": \"Coquimbo\", \"casos\": 6, \"codigo region\": 4}, {\"date\": \"2020-03-23\", \"region\": \"Valpara\\u00edso\", \"casos\": 19, \"codigo region\": 5}, {\"date\": \"2020-03-23\", \"region\": \"Metropolitana\", \"casos\": 459, \"codigo region\": 6}, {\"date\": \"2020-03-23\", \"region\": \"O\\u2019Higgins\", \"casos\": 8, \"codigo region\": 7}, {\"date\": \"2020-03-23\", \"region\": \"Maule\", \"casos\": 28, \"codigo region\": 8}, {\"date\": \"2020-03-23\", \"region\": \"\\u00d1uble\", \"casos\": 81, \"codigo region\": 9}, {\"date\": \"2020-03-23\", \"region\": \"Biob\\u00edo\", \"casos\": 46, \"codigo region\": 10}, {\"date\": \"2020-03-23\", \"region\": \"Araucan\\u00eda\", \"casos\": 40, \"codigo region\": 11}, {\"date\": \"2020-03-23\", \"region\": \"Los R\\u00edos\", \"casos\": 4, \"codigo region\": 12}, {\"date\": \"2020-03-23\", \"region\": \"Los Lagos\", \"casos\": 33, \"codigo region\": 13}, {\"date\": \"2020-03-23\", \"region\": \"Ays\\u00e9n\", \"casos\": 1, \"codigo region\": 14}, {\"date\": \"2020-03-23\", \"region\": \"Magallanes\", \"casos\": 6, \"codigo region\": 15}, {\"date\": \"2020-03-24\", \"region\": \"Arica y Parinacota\", \"casos\": 2, \"codigo region\": 0}, {\"date\": \"2020-03-24\", \"region\": \"Tarapac\\u00e1\", \"casos\": 4, \"codigo region\": 1}, {\"date\": \"2020-03-24\", \"region\": \"Antofagasta\", \"casos\": 13, \"codigo region\": 2}, {\"date\": \"2020-03-24\", \"region\": \"Atacama\", \"casos\": 1, \"codigo region\": 3}, {\"date\": \"2020-03-24\", \"region\": \"Coquimbo\", \"casos\": 11, \"codigo region\": 4}, {\"date\": \"2020-03-24\", \"region\": \"Valpara\\u00edso\", \"casos\": 25, \"codigo region\": 5}, {\"date\": \"2020-03-24\", \"region\": \"Metropolitana\", \"casos\": 540, \"codigo region\": 6}, {\"date\": \"2020-03-24\", \"region\": \"O\\u2019Higgins\", \"casos\": 9, \"codigo region\": 7}, {\"date\": \"2020-03-24\", \"region\": \"Maule\", \"casos\": 29, \"codigo region\": 8}, {\"date\": \"2020-03-24\", \"region\": \"\\u00d1uble\", \"casos\": 105, \"codigo region\": 9}, {\"date\": \"2020-03-24\", \"region\": \"Biob\\u00edo\", \"casos\": 73, \"codigo region\": 10}, {\"date\": \"2020-03-24\", \"region\": \"Araucan\\u00eda\", \"casos\": 59, \"codigo region\": 11}, {\"date\": \"2020-03-24\", \"region\": \"Los R\\u00edos\", \"casos\": 6, \"codigo region\": 12}, {\"date\": \"2020-03-24\", \"region\": \"Los Lagos\", \"casos\": 36, \"codigo region\": 13}, {\"date\": \"2020-03-24\", \"region\": \"Ays\\u00e9n\", \"casos\": 1, \"codigo region\": 14}, {\"date\": \"2020-03-24\", \"region\": \"Magallanes\", \"casos\": 8, \"codigo region\": 15}, {\"date\": \"2020-03-25\", \"region\": \"Arica y Parinacota\", \"casos\": 2, \"codigo region\": 0}, {\"date\": \"2020-03-25\", \"region\": \"Tarapac\\u00e1\", \"casos\": 4, \"codigo region\": 1}, {\"date\": \"2020-03-25\", \"region\": \"Antofagasta\", \"casos\": 19, \"codigo region\": 2}, {\"date\": \"2020-03-25\", \"region\": \"Atacama\", \"casos\": 1, \"codigo region\": 3}, {\"date\": \"2020-03-25\", \"region\": \"Coquimbo\", \"casos\": 12, \"codigo region\": 4}, {\"date\": \"2020-03-25\", \"region\": \"Valpara\\u00edso\", \"casos\": 32, \"codigo region\": 5}, {\"date\": \"2020-03-25\", \"region\": \"Metropolitana\", \"casos\": 682, \"codigo region\": 6}, {\"date\": \"2020-03-25\", \"region\": \"O\\u2019Higgins\", \"casos\": 11, \"codigo region\": 7}, {\"date\": \"2020-03-25\", \"region\": \"Maule\", \"casos\": 30, \"codigo region\": 8}, {\"date\": \"2020-03-25\", \"region\": \"\\u00d1uble\", \"casos\": 111, \"codigo region\": 9}, {\"date\": \"2020-03-25\", \"region\": \"Biob\\u00edo\", \"casos\": 95, \"codigo region\": 10}, {\"date\": \"2020-03-25\", \"region\": \"Araucan\\u00eda\", \"casos\": 74, \"codigo region\": 11}, {\"date\": \"2020-03-25\", \"region\": \"Los R\\u00edos\", \"casos\": 11, \"codigo region\": 12}, {\"date\": \"2020-03-25\", \"region\": \"Los Lagos\", \"casos\": 44, \"codigo region\": 13}, {\"date\": \"2020-03-25\", \"region\": \"Ays\\u00e9n\", \"casos\": 1, \"codigo region\": 14}, {\"date\": \"2020-03-25\", \"region\": \"Magallanes\", \"casos\": 13, \"codigo region\": 15}, {\"date\": \"2020-03-26\", \"region\": \"Arica y Parinacota\", \"casos\": 3, \"codigo region\": 0}, {\"date\": \"2020-03-26\", \"region\": \"Tarapac\\u00e1\", \"casos\": 5, \"codigo region\": 1}, {\"date\": \"2020-03-26\", \"region\": \"Antofagasta\", \"casos\": 20, \"codigo region\": 2}, {\"date\": \"2020-03-26\", \"region\": \"Atacama\", \"casos\": 1, \"codigo region\": 3}, {\"date\": \"2020-03-26\", \"region\": \"Coquimbo\", \"casos\": 13, \"codigo region\": 4}, {\"date\": \"2020-03-26\", \"region\": \"Valpara\\u00edso\", \"casos\": 44, \"codigo region\": 5}, {\"date\": \"2020-03-26\", \"region\": \"Metropolitana\", \"casos\": 746, \"codigo region\": 6}, {\"date\": \"2020-03-26\", \"region\": \"O\\u2019Higgins\", \"casos\": 14, \"codigo region\": 7}, {\"date\": \"2020-03-26\", \"region\": \"Maule\", \"casos\": 31, \"codigo region\": 8}, {\"date\": \"2020-03-26\", \"region\": \"\\u00d1uble\", \"casos\": 114, \"codigo region\": 9}, {\"date\": \"2020-03-26\", \"region\": \"Biob\\u00edo\", \"casos\": 109, \"codigo region\": 10}, {\"date\": \"2020-03-26\", \"region\": \"Araucan\\u00eda\", \"casos\": 111, \"codigo region\": 11}, {\"date\": \"2020-03-26\", \"region\": \"Los R\\u00edos\", \"casos\": 14, \"codigo region\": 12}, {\"date\": \"2020-03-26\", \"region\": \"Los Lagos\", \"casos\": 60, \"codigo region\": 13}, {\"date\": \"2020-03-26\", \"region\": \"Ays\\u00e9n\", \"casos\": 2, \"codigo region\": 14}, {\"date\": \"2020-03-26\", \"region\": \"Magallanes\", \"casos\": 19, \"codigo region\": 15}, {\"date\": \"2020-03-27\", \"region\": \"Arica y Parinacota\", \"casos\": 3, \"codigo region\": 0}, {\"date\": \"2020-03-27\", \"region\": \"Tarapac\\u00e1\", \"casos\": 5, \"codigo region\": 1}, {\"date\": \"2020-03-27\", \"region\": \"Antofagasta\", \"casos\": 21, \"codigo region\": 2}, {\"date\": \"2020-03-27\", \"region\": \"Atacama\", \"casos\": 1, \"codigo region\": 3}, {\"date\": \"2020-03-27\", \"region\": \"Coquimbo\", \"casos\": 14, \"codigo region\": 4}, {\"date\": \"2020-03-27\", \"region\": \"Valpara\\u00edso\", \"casos\": 49, \"codigo region\": 5}, {\"date\": \"2020-03-27\", \"region\": \"Metropolitana\", \"casos\": 938, \"codigo region\": 6}, {\"date\": \"2020-03-27\", \"region\": \"O\\u2019Higgins\", \"casos\": 16, \"codigo region\": 7}, {\"date\": \"2020-03-27\", \"region\": \"Maule\", \"casos\": 32, \"codigo region\": 8}, {\"date\": \"2020-03-27\", \"region\": \"\\u00d1uble\", \"casos\": 144, \"codigo region\": 9}, {\"date\": \"2020-03-27\", \"region\": \"Biob\\u00edo\", \"casos\": 135, \"codigo region\": 10}, {\"date\": \"2020-03-27\", \"region\": \"Araucan\\u00eda\", \"casos\": 143, \"codigo region\": 11}, {\"date\": \"2020-03-27\", \"region\": \"Los R\\u00edos\", \"casos\": 22, \"codigo region\": 12}, {\"date\": \"2020-03-27\", \"region\": \"Los Lagos\", \"casos\": 63, \"codigo region\": 13}, {\"date\": \"2020-03-27\", \"region\": \"Ays\\u00e9n\", \"casos\": 2, \"codigo region\": 14}, {\"date\": \"2020-03-27\", \"region\": \"Magallanes\", \"casos\": 22, \"codigo region\": 15}, {\"date\": \"2020-03-28\", \"region\": \"Arica y Parinacota\", \"casos\": 3, \"codigo region\": 0}, {\"date\": \"2020-03-28\", \"region\": \"Tarapac\\u00e1\", \"casos\": 5, \"codigo region\": 1}, {\"date\": \"2020-03-28\", \"region\": \"Antofagasta\", \"casos\": 25, \"codigo region\": 2}, {\"date\": \"2020-03-28\", \"region\": \"Atacama\", \"casos\": 1, \"codigo region\": 3}, {\"date\": \"2020-03-28\", \"region\": \"Coquimbo\", \"casos\": 15, \"codigo region\": 4}, {\"date\": \"2020-03-28\", \"region\": \"Valpara\\u00edso\", \"casos\": 71, \"codigo region\": 5}, {\"date\": \"2020-03-28\", \"region\": \"Metropolitana\", \"casos\": 1084, \"codigo region\": 6}, {\"date\": \"2020-03-28\", \"region\": \"O\\u2019Higgins\", \"casos\": 20, \"codigo region\": 7}, {\"date\": \"2020-03-28\", \"region\": \"Maule\", \"casos\": 37, \"codigo region\": 8}, {\"date\": \"2020-03-28\", \"region\": \"\\u00d1uble\", \"casos\": 172, \"codigo region\": 9}, {\"date\": \"2020-03-28\", \"region\": \"Biob\\u00edo\", \"casos\": 151, \"codigo region\": 10}, {\"date\": \"2020-03-28\", \"region\": \"Araucan\\u00eda\", \"casos\": 177, \"codigo region\": 11}, {\"date\": \"2020-03-28\", \"region\": \"Los R\\u00edos\", \"casos\": 27, \"codigo region\": 12}, {\"date\": \"2020-03-28\", \"region\": \"Los Lagos\", \"casos\": 93, \"codigo region\": 13}, {\"date\": \"2020-03-28\", \"region\": \"Ays\\u00e9n\", \"casos\": 2, \"codigo region\": 14}, {\"date\": \"2020-03-28\", \"region\": \"Magallanes\", \"casos\": 26, \"codigo region\": 15}, {\"date\": \"2020-03-29\", \"region\": \"Arica y Parinacota\", \"casos\": 4, \"codigo region\": 0}, {\"date\": \"2020-03-29\", \"region\": \"Tarapac\\u00e1\", \"casos\": 6, \"codigo region\": 1}, {\"date\": \"2020-03-29\", \"region\": \"Antofagasta\", \"casos\": 27, \"codigo region\": 2}, {\"date\": \"2020-03-29\", \"region\": \"Atacama\", \"casos\": 2, \"codigo region\": 3}, {\"date\": \"2020-03-29\", \"region\": \"Coquimbo\", \"casos\": 18, \"codigo region\": 4}, {\"date\": \"2020-03-29\", \"region\": \"Valpara\\u00edso\", \"casos\": 80, \"codigo region\": 5}, {\"date\": \"2020-03-29\", \"region\": \"Metropolitana\", \"casos\": 1167, \"codigo region\": 6}, {\"date\": \"2020-03-29\", \"region\": \"O\\u2019Higgins\", \"casos\": 21, \"codigo region\": 7}, {\"date\": \"2020-03-29\", \"region\": \"Maule\", \"casos\": 42, \"codigo region\": 8}, {\"date\": \"2020-03-29\", \"region\": \"\\u00d1uble\", \"casos\": 197, \"codigo region\": 9}, {\"date\": \"2020-03-29\", \"region\": \"Biob\\u00edo\", \"casos\": 185, \"codigo region\": 10}, {\"date\": \"2020-03-29\", \"region\": \"Araucan\\u00eda\", \"casos\": 205, \"codigo region\": 11}, {\"date\": \"2020-03-29\", \"region\": \"Los R\\u00edos\", \"casos\": 40, \"codigo region\": 12}, {\"date\": \"2020-03-29\", \"region\": \"Los Lagos\", \"casos\": 104, \"codigo region\": 13}, {\"date\": \"2020-03-29\", \"region\": \"Ays\\u00e9n\", \"casos\": 2, \"codigo region\": 14}, {\"date\": \"2020-03-29\", \"region\": \"Magallanes\", \"casos\": 39, \"codigo region\": 15}, {\"date\": \"2020-03-30\", \"region\": \"Arica y Parinacota\", \"casos\": 6, \"codigo region\": 0}, {\"date\": \"2020-03-30\", \"region\": \"Tarapac\\u00e1\", \"casos\": 8, \"codigo region\": 1}, {\"date\": \"2020-03-30\", \"region\": \"Antofagasta\", \"casos\": 35, \"codigo region\": 2}, {\"date\": \"2020-03-30\", \"region\": \"Atacama\", \"casos\": 2, \"codigo region\": 3}, {\"date\": \"2020-03-30\", \"region\": \"Coquimbo\", \"casos\": 27, \"codigo region\": 4}, {\"date\": \"2020-03-30\", \"region\": \"Valpara\\u00edso\", \"casos\": 108, \"codigo region\": 5}, {\"date\": \"2020-03-30\", \"region\": \"Metropolitana\", \"casos\": 1295, \"codigo region\": 6}, {\"date\": \"2020-03-30\", \"region\": \"O\\u2019Higgins\", \"casos\": 21, \"codigo region\": 7}, {\"date\": \"2020-03-30\", \"region\": \"Maule\", \"casos\": 54, \"codigo region\": 8}, {\"date\": \"2020-03-30\", \"region\": \"\\u00d1uble\", \"casos\": 229, \"codigo region\": 9}, {\"date\": \"2020-03-30\", \"region\": \"Biob\\u00edo\", \"casos\": 201, \"codigo region\": 10}, {\"date\": \"2020-03-30\", \"region\": \"Araucan\\u00eda\", \"casos\": 247, \"codigo region\": 11}, {\"date\": \"2020-03-30\", \"region\": \"Los R\\u00edos\", \"casos\": 47, \"codigo region\": 12}, {\"date\": \"2020-03-30\", \"region\": \"Los Lagos\", \"casos\": 128, \"codigo region\": 13}, {\"date\": \"2020-03-30\", \"region\": \"Ays\\u00e9n\", \"casos\": 2, \"codigo region\": 14}, {\"date\": \"2020-03-30\", \"region\": \"Magallanes\", \"casos\": 39, \"codigo region\": 15}, {\"date\": \"2020-03-31\", \"region\": \"Arica y Parinacota\", \"casos\": 6, \"codigo region\": 0}, {\"date\": \"2020-03-31\", \"region\": \"Tarapac\\u00e1\", \"casos\": 10, \"codigo region\": 1}, {\"date\": \"2020-03-31\", \"region\": \"Antofagasta\", \"casos\": 35, \"codigo region\": 2}, {\"date\": \"2020-03-31\", \"region\": \"Atacama\", \"casos\": 2, \"codigo region\": 3}, {\"date\": \"2020-03-31\", \"region\": \"Coquimbo\", \"casos\": 28, \"codigo region\": 4}, {\"date\": \"2020-03-31\", \"region\": \"Valpara\\u00edso\", \"casos\": 115, \"codigo region\": 5}, {\"date\": \"2020-03-31\", \"region\": \"Metropolitana\", \"casos\": 1420, \"codigo region\": 6}, {\"date\": \"2020-03-31\", \"region\": \"O\\u2019Higgins\", \"casos\": 23, \"codigo region\": 7}, {\"date\": \"2020-03-31\", \"region\": \"Maule\", \"casos\": 62, \"codigo region\": 8}, {\"date\": \"2020-03-31\", \"region\": \"\\u00d1uble\", \"casos\": 245, \"codigo region\": 9}, {\"date\": \"2020-03-31\", \"region\": \"Biob\\u00edo\", \"casos\": 216, \"codigo region\": 10}, {\"date\": \"2020-03-31\", \"region\": \"Araucan\\u00eda\", \"casos\": 302, \"codigo region\": 11}, {\"date\": \"2020-03-31\", \"region\": \"Los R\\u00edos\", \"casos\": 58, \"codigo region\": 12}, {\"date\": \"2020-03-31\", \"region\": \"Los Lagos\", \"casos\": 151, \"codigo region\": 13}, {\"date\": \"2020-03-31\", \"region\": \"Ays\\u00e9n\", \"casos\": 2, \"codigo region\": 14}, {\"date\": \"2020-03-31\", \"region\": \"Magallanes\", \"casos\": 63, \"codigo region\": 15}, {\"date\": \"2020-04-01\", \"region\": \"Arica y Parinacota\", \"casos\": 6, \"codigo region\": 0}, {\"date\": \"2020-04-01\", \"region\": \"Tarapac\\u00e1\", \"casos\": 10, \"codigo region\": 1}, {\"date\": \"2020-04-01\", \"region\": \"Antofagasta\", \"casos\": 39, \"codigo region\": 2}, {\"date\": \"2020-04-01\", \"region\": \"Atacama\", \"casos\": 3, \"codigo region\": 3}, {\"date\": \"2020-04-01\", \"region\": \"Coquimbo\", \"casos\": 30, \"codigo region\": 4}, {\"date\": \"2020-04-01\", \"region\": \"Valpara\\u00edso\", \"casos\": 136, \"codigo region\": 5}, {\"date\": \"2020-04-01\", \"region\": \"Metropolitana\", \"casos\": 1521, \"codigo region\": 6}, {\"date\": \"2020-04-01\", \"region\": \"O\\u2019Higgins\", \"casos\": 26, \"codigo region\": 7}, {\"date\": \"2020-04-01\", \"region\": \"Maule\", \"casos\": 71, \"codigo region\": 8}, {\"date\": \"2020-04-01\", \"region\": \"\\u00d1uble\", \"casos\": 259, \"codigo region\": 9}, {\"date\": \"2020-04-01\", \"region\": \"Biob\\u00edo\", \"casos\": 240, \"codigo region\": 10}, {\"date\": \"2020-04-01\", \"region\": \"Araucan\\u00eda\", \"casos\": 343, \"codigo region\": 11}, {\"date\": \"2020-04-01\", \"region\": \"Los R\\u00edos\", \"casos\": 64, \"codigo region\": 12}, {\"date\": \"2020-04-01\", \"region\": \"Los Lagos\", \"casos\": 181, \"codigo region\": 13}, {\"date\": \"2020-04-01\", \"region\": \"Ays\\u00e9n\", \"casos\": 3, \"codigo region\": 14}, {\"date\": \"2020-04-01\", \"region\": \"Magallanes\", \"casos\": 99, \"codigo region\": 15}, {\"date\": \"2020-04-02\", \"region\": \"Arica y Parinacota\", \"casos\": 7, \"codigo region\": 0}, {\"date\": \"2020-04-02\", \"region\": \"Tarapac\\u00e1\", \"casos\": 12, \"codigo region\": 1}, {\"date\": \"2020-04-02\", \"region\": \"Antofagasta\", \"casos\": 47, \"codigo region\": 2}, {\"date\": \"2020-04-02\", \"region\": \"Atacama\", \"casos\": 3, \"codigo region\": 3}, {\"date\": \"2020-04-02\", \"region\": \"Coquimbo\", \"casos\": 34, \"codigo region\": 4}, {\"date\": \"2020-04-02\", \"region\": \"Valpara\\u00edso\", \"casos\": 156, \"codigo region\": 5}, {\"date\": \"2020-04-02\", \"region\": \"Metropolitana\", \"casos\": 1636, \"codigo region\": 6}, {\"date\": \"2020-04-02\", \"region\": \"O\\u2019Higgins\", \"casos\": 32, \"codigo region\": 7}, {\"date\": \"2020-04-02\", \"region\": \"Maule\", \"casos\": 82, \"codigo region\": 8}, {\"date\": \"2020-04-02\", \"region\": \"\\u00d1uble\", \"casos\": 341, \"codigo region\": 9}, {\"date\": \"2020-04-02\", \"region\": \"Biob\\u00edo\", \"casos\": 275, \"codigo region\": 10}, {\"date\": \"2020-04-02\", \"region\": \"Araucan\\u00eda\", \"casos\": 389, \"codigo region\": 11}, {\"date\": \"2020-04-02\", \"region\": \"Los R\\u00edos\", \"casos\": 68, \"codigo region\": 12}, {\"date\": \"2020-04-02\", \"region\": \"Los Lagos\", \"casos\": 203, \"codigo region\": 13}, {\"date\": \"2020-04-02\", \"region\": \"Ays\\u00e9n\", \"casos\": 5, \"codigo region\": 14}, {\"date\": \"2020-04-02\", \"region\": \"Magallanes\", \"casos\": 114, \"codigo region\": 15}, {\"date\": \"2020-04-03\", \"region\": \"Arica y Parinacota\", \"casos\": 12, \"codigo region\": 0}, {\"date\": \"2020-04-03\", \"region\": \"Tarapac\\u00e1\", \"casos\": 13, \"codigo region\": 1}, {\"date\": \"2020-04-03\", \"region\": \"Antofagasta\", \"casos\": 54, \"codigo region\": 2}, {\"date\": \"2020-04-03\", \"region\": \"Atacama\", \"casos\": 5, \"codigo region\": 3}, {\"date\": \"2020-04-03\", \"region\": \"Coquimbo\", \"casos\": 35, \"codigo region\": 4}, {\"date\": \"2020-04-03\", \"region\": \"Valpara\\u00edso\", \"casos\": 176, \"codigo region\": 5}, {\"date\": \"2020-04-03\", \"region\": \"Metropolitana\", \"casos\": 1742, \"codigo region\": 6}, {\"date\": \"2020-04-03\", \"region\": \"O\\u2019Higgins\", \"casos\": 33, \"codigo region\": 7}, {\"date\": \"2020-04-03\", \"region\": \"Maule\", \"casos\": 89, \"codigo region\": 8}, {\"date\": \"2020-04-03\", \"region\": \"\\u00d1uble\", \"casos\": 370, \"codigo region\": 9}, {\"date\": \"2020-04-03\", \"region\": \"Biob\\u00edo\", \"casos\": 302, \"codigo region\": 10}, {\"date\": \"2020-04-03\", \"region\": \"Araucan\\u00eda\", \"casos\": 432, \"codigo region\": 11}, {\"date\": \"2020-04-03\", \"region\": \"Los R\\u00edos\", \"casos\": 78, \"codigo region\": 12}, {\"date\": \"2020-04-03\", \"region\": \"Los Lagos\", \"casos\": 234, \"codigo region\": 13}, {\"date\": \"2020-04-03\", \"region\": \"Ays\\u00e9n\", \"casos\": 6, \"codigo region\": 14}, {\"date\": \"2020-04-03\", \"region\": \"Magallanes\", \"casos\": 156, \"codigo region\": 15}, {\"date\": \"2020-04-04\", \"region\": \"Arica y Parinacota\", \"casos\": 12, \"codigo region\": 0}, {\"date\": \"2020-04-04\", \"region\": \"Tarapac\\u00e1\", \"casos\": 17, \"codigo region\": 1}, {\"date\": \"2020-04-04\", \"region\": \"Antofagasta\", \"casos\": 55, \"codigo region\": 2}, {\"date\": \"2020-04-04\", \"region\": \"Atacama\", \"casos\": 5, \"codigo region\": 3}, {\"date\": \"2020-04-04\", \"region\": \"Coquimbo\", \"casos\": 44, \"codigo region\": 4}, {\"date\": \"2020-04-04\", \"region\": \"Valpara\\u00edso\", \"casos\": 185, \"codigo region\": 5}, {\"date\": \"2020-04-04\", \"region\": \"Metropolitana\", \"casos\": 1957, \"codigo region\": 6}, {\"date\": \"2020-04-04\", \"region\": \"O\\u2019Higgins\", \"casos\": 38, \"codigo region\": 7}, {\"date\": \"2020-04-04\", \"region\": \"Maule\", \"casos\": 97, \"codigo region\": 8}, {\"date\": \"2020-04-04\", \"region\": \"\\u00d1uble\", \"casos\": 401, \"codigo region\": 9}, {\"date\": \"2020-04-04\", \"region\": \"Biob\\u00edo\", \"casos\": 347, \"codigo region\": 10}, {\"date\": \"2020-04-04\", \"region\": \"Araucan\\u00eda\", \"casos\": 477, \"codigo region\": 11}, {\"date\": \"2020-04-04\", \"region\": \"Los R\\u00edos\", \"casos\": 89, \"codigo region\": 12}, {\"date\": \"2020-04-04\", \"region\": \"Los Lagos\", \"casos\": 259, \"codigo region\": 13}, {\"date\": \"2020-04-04\", \"region\": \"Ays\\u00e9n\", \"casos\": 6, \"codigo region\": 14}, {\"date\": \"2020-04-04\", \"region\": \"Magallanes\", \"casos\": 172, \"codigo region\": 15}, {\"date\": \"2020-04-05\", \"region\": \"Arica y Parinacota\", \"casos\": 28, \"codigo region\": 0}, {\"date\": \"2020-04-05\", \"region\": \"Tarapac\\u00e1\", \"casos\": 20, \"codigo region\": 1}, {\"date\": \"2020-04-05\", \"region\": \"Antofagasta\", \"casos\": 60, \"codigo region\": 2}, {\"date\": \"2020-04-05\", \"region\": \"Atacama\", \"casos\": 5, \"codigo region\": 3}, {\"date\": \"2020-04-05\", \"region\": \"Coquimbo\", \"casos\": 50, \"codigo region\": 4}, {\"date\": \"2020-04-05\", \"region\": \"Valpara\\u00edso\", \"casos\": 191, \"codigo region\": 5}, {\"date\": \"2020-04-05\", \"region\": \"Metropolitana\", \"casos\": 2102, \"codigo region\": 6}, {\"date\": \"2020-04-05\", \"region\": \"O\\u2019Higgins\", \"casos\": 41, \"codigo region\": 7}, {\"date\": \"2020-04-05\", \"region\": \"Maule\", \"casos\": 103, \"codigo region\": 8}, {\"date\": \"2020-04-05\", \"region\": \"\\u00d1uble\", \"casos\": 425, \"codigo region\": 9}, {\"date\": \"2020-04-05\", \"region\": \"Biob\\u00edo\", \"casos\": 365, \"codigo region\": 10}, {\"date\": \"2020-04-05\", \"region\": \"Araucan\\u00eda\", \"casos\": 509, \"codigo region\": 11}, {\"date\": \"2020-04-05\", \"region\": \"Los R\\u00edos\", \"casos\": 99, \"codigo region\": 12}, {\"date\": \"2020-04-05\", \"region\": \"Los Lagos\", \"casos\": 276, \"codigo region\": 13}, {\"date\": \"2020-04-05\", \"region\": \"Ays\\u00e9n\", \"casos\": 7, \"codigo region\": 14}, {\"date\": \"2020-04-05\", \"region\": \"Magallanes\", \"casos\": 190, \"codigo region\": 15}, {\"date\": \"2020-04-06\", \"region\": \"Arica y Parinacota\", \"casos\": 41, \"codigo region\": 0}, {\"date\": \"2020-04-06\", \"region\": \"Tarapac\\u00e1\", \"casos\": 21, \"codigo region\": 1}, {\"date\": \"2020-04-06\", \"region\": \"Antofagasta\", \"casos\": 68, \"codigo region\": 2}, {\"date\": \"2020-04-06\", \"region\": \"Atacama\", \"casos\": 5, \"codigo region\": 3}, {\"date\": \"2020-04-06\", \"region\": \"Coquimbo\", \"casos\": 51, \"codigo region\": 4}, {\"date\": \"2020-04-06\", \"region\": \"Valpara\\u00edso\", \"casos\": 198, \"codigo region\": 5}, {\"date\": \"2020-04-06\", \"region\": \"Metropolitana\", \"casos\": 2244, \"codigo region\": 6}, {\"date\": \"2020-04-06\", \"region\": \"O\\u2019Higgins\", \"casos\": 42, \"codigo region\": 7}, {\"date\": \"2020-04-06\", \"region\": \"Maule\", \"casos\": 108, \"codigo region\": 8}, {\"date\": \"2020-04-06\", \"region\": \"\\u00d1uble\", \"casos\": 474, \"codigo region\": 9}, {\"date\": \"2020-04-06\", \"region\": \"Biob\\u00edo\", \"casos\": 383, \"codigo region\": 10}, {\"date\": \"2020-04-06\", \"region\": \"Araucan\\u00eda\", \"casos\": 562, \"codigo region\": 11}, {\"date\": \"2020-04-06\", \"region\": \"Los R\\u00edos\", \"casos\": 104, \"codigo region\": 12}, {\"date\": \"2020-04-06\", \"region\": \"Los Lagos\", \"casos\": 286, \"codigo region\": 13}, {\"date\": \"2020-04-06\", \"region\": \"Ays\\u00e9n\", \"casos\": 7, \"codigo region\": 14}, {\"date\": \"2020-04-06\", \"region\": \"Magallanes\", \"casos\": 221, \"codigo region\": 15}, {\"date\": \"2020-04-07\", \"region\": \"Arica y Parinacota\", \"casos\": 53, \"codigo region\": 0}, {\"date\": \"2020-04-07\", \"region\": \"Tarapac\\u00e1\", \"casos\": 23, \"codigo region\": 1}, {\"date\": \"2020-04-07\", \"region\": \"Antofagasta\", \"casos\": 69, \"codigo region\": 2}, {\"date\": \"2020-04-07\", \"region\": \"Atacama\", \"casos\": 6, \"codigo region\": 3}, {\"date\": \"2020-04-07\", \"region\": \"Coquimbo\", \"casos\": 52, \"codigo region\": 4}, {\"date\": \"2020-04-07\", \"region\": \"Valpara\\u00edso\", \"casos\": 214, \"codigo region\": 5}, {\"date\": \"2020-04-07\", \"region\": \"Metropolitana\", \"casos\": 2350, \"codigo region\": 6}, {\"date\": \"2020-04-07\", \"region\": \"O\\u2019Higgins\", \"casos\": 42, \"codigo region\": 7}, {\"date\": \"2020-04-07\", \"region\": \"Maule\", \"casos\": 108, \"codigo region\": 8}, {\"date\": \"2020-04-07\", \"region\": \"\\u00d1uble\", \"casos\": 522, \"codigo region\": 9}, {\"date\": \"2020-04-07\", \"region\": \"Biob\\u00edo\", \"casos\": 410, \"codigo region\": 10}, {\"date\": \"2020-04-07\", \"region\": \"Araucan\\u00eda\", \"casos\": 612, \"codigo region\": 11}, {\"date\": \"2020-04-07\", \"region\": \"Los R\\u00edos\", \"casos\": 109, \"codigo region\": 12}, {\"date\": \"2020-04-07\", \"region\": \"Los Lagos\", \"casos\": 299, \"codigo region\": 13}, {\"date\": \"2020-04-07\", \"region\": \"Ays\\u00e9n\", \"casos\": 7, \"codigo region\": 14}, {\"date\": \"2020-04-07\", \"region\": \"Magallanes\", \"casos\": 240, \"codigo region\": 15}, {\"date\": \"2020-04-08\", \"region\": \"Arica y Parinacota\", \"casos\": 63, \"codigo region\": 0}, {\"date\": \"2020-04-08\", \"region\": \"Tarapac\\u00e1\", \"casos\": 26, \"codigo region\": 1}, {\"date\": \"2020-04-08\", \"region\": \"Antofagasta\", \"casos\": 77, \"codigo region\": 2}, {\"date\": \"2020-04-08\", \"region\": \"Atacama\", \"casos\": 8, \"codigo region\": 3}, {\"date\": \"2020-04-08\", \"region\": \"Coquimbo\", \"casos\": 56, \"codigo region\": 4}, {\"date\": \"2020-04-08\", \"region\": \"Valpara\\u00edso\", \"casos\": 225, \"codigo region\": 5}, {\"date\": \"2020-04-08\", \"region\": \"Metropolitana\", \"casos\": 2548, \"codigo region\": 6}, {\"date\": \"2020-04-08\", \"region\": \"O\\u2019Higgins\", \"casos\": 43, \"codigo region\": 7}, {\"date\": \"2020-04-08\", \"region\": \"Maule\", \"casos\": 119, \"codigo region\": 8}, {\"date\": \"2020-04-08\", \"region\": \"\\u00d1uble\", \"casos\": 561, \"codigo region\": 9}, {\"date\": \"2020-04-08\", \"region\": \"Biob\\u00edo\", \"casos\": 439, \"codigo region\": 10}, {\"date\": \"2020-04-08\", \"region\": \"Araucan\\u00eda\", \"casos\": 669, \"codigo region\": 11}, {\"date\": \"2020-04-08\", \"region\": \"Los R\\u00edos\", \"casos\": 114, \"codigo region\": 12}, {\"date\": \"2020-04-08\", \"region\": \"Los Lagos\", \"casos\": 325, \"codigo region\": 13}, {\"date\": \"2020-04-08\", \"region\": \"Ays\\u00e9n\", \"casos\": 7, \"codigo region\": 14}, {\"date\": \"2020-04-08\", \"region\": \"Magallanes\", \"casos\": 266, \"codigo region\": 15}, {\"date\": \"2020-04-09\", \"region\": \"Arica y Parinacota\", \"casos\": 75, \"codigo region\": 0}, {\"date\": \"2020-04-09\", \"region\": \"Tarapac\\u00e1\", \"casos\": 29, \"codigo region\": 1}, {\"date\": \"2020-04-09\", \"region\": \"Antofagasta\", \"casos\": 92, \"codigo region\": 2}, {\"date\": \"2020-04-09\", \"region\": \"Atacama\", \"casos\": 10, \"codigo region\": 3}, {\"date\": \"2020-04-09\", \"region\": \"Coquimbo\", \"casos\": 61, \"codigo region\": 4}, {\"date\": \"2020-04-09\", \"region\": \"Valpara\\u00edso\", \"casos\": 230, \"codigo region\": 5}, {\"date\": \"2020-04-09\", \"region\": \"Metropolitana\", \"casos\": 2832, \"codigo region\": 6}, {\"date\": \"2020-04-09\", \"region\": \"O\\u2019Higgins\", \"casos\": 44, \"codigo region\": 7}, {\"date\": \"2020-04-09\", \"region\": \"Maule\", \"casos\": 128, \"codigo region\": 8}, {\"date\": \"2020-04-09\", \"region\": \"\\u00d1uble\", \"casos\": 571, \"codigo region\": 9}, {\"date\": \"2020-04-09\", \"region\": \"Biob\\u00edo\", \"casos\": 460, \"codigo region\": 10}, {\"date\": \"2020-04-09\", \"region\": \"Araucan\\u00eda\", \"casos\": 689, \"codigo region\": 11}, {\"date\": \"2020-04-09\", \"region\": \"Los R\\u00edos\", \"casos\": 118, \"codigo region\": 12}, {\"date\": \"2020-04-09\", \"region\": \"Los Lagos\", \"casos\": 340, \"codigo region\": 13}, {\"date\": \"2020-04-09\", \"region\": \"Ays\\u00e9n\", \"casos\": 7, \"codigo region\": 14}, {\"date\": \"2020-04-09\", \"region\": \"Magallanes\", \"casos\": 286, \"codigo region\": 15}, {\"date\": \"2020-04-10\", \"region\": \"Arica y Parinacota\", \"casos\": 87, \"codigo region\": 0}, {\"date\": \"2020-04-10\", \"region\": \"Tarapac\\u00e1\", \"casos\": 35, \"codigo region\": 1}, {\"date\": \"2020-04-10\", \"region\": \"Antofagasta\", \"casos\": 110, \"codigo region\": 2}, {\"date\": \"2020-04-10\", \"region\": \"Atacama\", \"casos\": 13, \"codigo region\": 3}, {\"date\": \"2020-04-10\", \"region\": \"Coquimbo\", \"casos\": 61, \"codigo region\": 4}, {\"date\": \"2020-04-10\", \"region\": \"Valpara\\u00edso\", \"casos\": 241, \"codigo region\": 5}, {\"date\": \"2020-04-10\", \"region\": \"Metropolitana\", \"casos\": 3193, \"codigo region\": 6}, {\"date\": \"2020-04-10\", \"region\": \"O\\u2019Higgins\", \"casos\": 44, \"codigo region\": 7}, {\"date\": \"2020-04-10\", \"region\": \"Maule\", \"casos\": 131, \"codigo region\": 8}, {\"date\": \"2020-04-10\", \"region\": \"\\u00d1uble\", \"casos\": 589, \"codigo region\": 9}, {\"date\": \"2020-04-10\", \"region\": \"Biob\\u00edo\", \"casos\": 474, \"codigo region\": 10}, {\"date\": \"2020-04-10\", \"region\": \"Araucan\\u00eda\", \"casos\": 712, \"codigo region\": 11}, {\"date\": \"2020-04-10\", \"region\": \"Los R\\u00edos\", \"casos\": 124, \"codigo region\": 12}, {\"date\": \"2020-04-10\", \"region\": \"Los Lagos\", \"casos\": 349, \"codigo region\": 13}, {\"date\": \"2020-04-10\", \"region\": \"Ays\\u00e9n\", \"casos\": 7, \"codigo region\": 14}, {\"date\": \"2020-04-10\", \"region\": \"Magallanes\", \"casos\": 331, \"codigo region\": 15}, {\"date\": \"2020-04-11\", \"region\": \"Arica y Parinacota\", \"casos\": 107, \"codigo region\": 0}, {\"date\": \"2020-04-11\", \"region\": \"Tarapac\\u00e1\", \"casos\": 38, \"codigo region\": 1}, {\"date\": \"2020-04-11\", \"region\": \"Antofagasta\", \"casos\": 117, \"codigo region\": 2}, {\"date\": \"2020-04-11\", \"region\": \"Atacama\", \"casos\": 13, \"codigo region\": 3}, {\"date\": \"2020-04-11\", \"region\": \"Coquimbo\", \"casos\": 64, \"codigo region\": 4}, {\"date\": \"2020-04-11\", \"region\": \"Valpara\\u00edso\", \"casos\": 248, \"codigo region\": 5}, {\"date\": \"2020-04-11\", \"region\": \"Metropolitana\", \"casos\": 3448, \"codigo region\": 6}, {\"date\": \"2020-04-11\", \"region\": \"O\\u2019Higgins\", \"casos\": 45, \"codigo region\": 7}, {\"date\": \"2020-04-11\", \"region\": \"Maule\", \"casos\": 134, \"codigo region\": 8}, {\"date\": \"2020-04-11\", \"region\": \"\\u00d1uble\", \"casos\": 606, \"codigo region\": 9}, {\"date\": \"2020-04-11\", \"region\": \"Biob\\u00edo\", \"casos\": 490, \"codigo region\": 10}, {\"date\": \"2020-04-11\", \"region\": \"Araucan\\u00eda\", \"casos\": 739, \"codigo region\": 11}, {\"date\": \"2020-04-11\", \"region\": \"Los R\\u00edos\", \"casos\": 130, \"codigo region\": 12}, {\"date\": \"2020-04-11\", \"region\": \"Los Lagos\", \"casos\": 364, \"codigo region\": 13}, {\"date\": \"2020-04-11\", \"region\": \"Ays\\u00e9n\", \"casos\": 7, \"codigo region\": 14}, {\"date\": \"2020-04-11\", \"region\": \"Magallanes\", \"casos\": 377, \"codigo region\": 15}, {\"date\": \"2020-04-12\", \"region\": \"Arica y Parinacota\", \"casos\": 115, \"codigo region\": 0}, {\"date\": \"2020-04-12\", \"region\": \"Tarapac\\u00e1\", \"casos\": 46, \"codigo region\": 1}, {\"date\": \"2020-04-12\", \"region\": \"Antofagasta\", \"casos\": 138, \"codigo region\": 2}, {\"date\": \"2020-04-12\", \"region\": \"Atacama\", \"casos\": 13, \"codigo region\": 3}, {\"date\": \"2020-04-12\", \"region\": \"Coquimbo\", \"casos\": 66, \"codigo region\": 4}, {\"date\": \"2020-04-12\", \"region\": \"Valpara\\u00edso\", \"casos\": 254, \"codigo region\": 5}, {\"date\": \"2020-04-12\", \"region\": \"Metropolitana\", \"casos\": 3599, \"codigo region\": 6}, {\"date\": \"2020-04-12\", \"region\": \"O\\u2019Higgins\", \"casos\": 46, \"codigo region\": 7}, {\"date\": \"2020-04-12\", \"region\": \"Maule\", \"casos\": 138, \"codigo region\": 8}, {\"date\": \"2020-04-12\", \"region\": \"\\u00d1uble\", \"casos\": 613, \"codigo region\": 9}, {\"date\": \"2020-04-12\", \"region\": \"Biob\\u00edo\", \"casos\": 500, \"codigo region\": 10}, {\"date\": \"2020-04-12\", \"region\": \"Araucan\\u00eda\", \"casos\": 775, \"codigo region\": 11}, {\"date\": \"2020-04-12\", \"region\": \"Los R\\u00edos\", \"casos\": 135, \"codigo region\": 12}, {\"date\": \"2020-04-12\", \"region\": \"Los Lagos\", \"casos\": 372, \"codigo region\": 13}, {\"date\": \"2020-04-12\", \"region\": \"Ays\\u00e9n\", \"casos\": 7, \"codigo region\": 14}, {\"date\": \"2020-04-12\", \"region\": \"Magallanes\", \"casos\": 396, \"codigo region\": 15}, {\"date\": \"2020-04-13\", \"region\": \"Arica y Parinacota\", \"casos\": 115, \"codigo region\": 0}, {\"date\": \"2020-04-13\", \"region\": \"Tarapac\\u00e1\", \"casos\": 52, \"codigo region\": 1}, {\"date\": \"2020-04-13\", \"region\": \"Antofagasta\", \"casos\": 149, \"codigo region\": 2}, {\"date\": \"2020-04-13\", \"region\": \"Atacama\", \"casos\": 13, \"codigo region\": 3}, {\"date\": \"2020-04-13\", \"region\": \"Coquimbo\", \"casos\": 66, \"codigo region\": 4}, {\"date\": \"2020-04-13\", \"region\": \"Valpara\\u00edso\", \"casos\": 273, \"codigo region\": 5}, {\"date\": \"2020-04-13\", \"region\": \"Metropolitana\", \"casos\": 3803, \"codigo region\": 6}, {\"date\": \"2020-04-13\", \"region\": \"O\\u2019Higgins\", \"casos\": 48, \"codigo region\": 7}, {\"date\": \"2020-04-13\", \"region\": \"Maule\", \"casos\": 141, \"codigo region\": 8}, {\"date\": \"2020-04-13\", \"region\": \"\\u00d1uble\", \"casos\": 618, \"codigo region\": 9}, {\"date\": \"2020-04-13\", \"region\": \"Biob\\u00edo\", \"casos\": 512, \"codigo region\": 10}, {\"date\": \"2020-04-13\", \"region\": \"Araucan\\u00eda\", \"casos\": 795, \"codigo region\": 11}, {\"date\": \"2020-04-13\", \"region\": \"Los R\\u00edos\", \"casos\": 138, \"codigo region\": 12}, {\"date\": \"2020-04-13\", \"region\": \"Los Lagos\", \"casos\": 380, \"codigo region\": 13}, {\"date\": \"2020-04-13\", \"region\": \"Ays\\u00e9n\", \"casos\": 7, \"codigo region\": 14}, {\"date\": \"2020-04-13\", \"region\": \"Magallanes\", \"casos\": 415, \"codigo region\": 15}, {\"date\": \"2020-04-14\", \"region\": \"Arica y Parinacota\", \"casos\": 120, \"codigo region\": 0}, {\"date\": \"2020-04-14\", \"region\": \"Tarapac\\u00e1\", \"casos\": 62, \"codigo region\": 1}, {\"date\": \"2020-04-14\", \"region\": \"Antofagasta\", \"casos\": 155, \"codigo region\": 2}, {\"date\": \"2020-04-14\", \"region\": \"Atacama\", \"casos\": 13, \"codigo region\": 3}, {\"date\": \"2020-04-14\", \"region\": \"Coquimbo\", \"casos\": 66, \"codigo region\": 4}, {\"date\": \"2020-04-14\", \"region\": \"Valpara\\u00edso\", \"casos\": 285, \"codigo region\": 5}, {\"date\": \"2020-04-14\", \"region\": \"Metropolitana\", \"casos\": 4086, \"codigo region\": 6}, {\"date\": \"2020-04-14\", \"region\": \"O\\u2019Higgins\", \"casos\": 53, \"codigo region\": 7}, {\"date\": \"2020-04-14\", \"region\": \"Maule\", \"casos\": 142, \"codigo region\": 8}, {\"date\": \"2020-04-14\", \"region\": \"\\u00d1uble\", \"casos\": 622, \"codigo region\": 9}, {\"date\": \"2020-04-14\", \"region\": \"Biob\\u00edo\", \"casos\": 528, \"codigo region\": 10}, {\"date\": \"2020-04-14\", \"region\": \"Araucan\\u00eda\", \"casos\": 816, \"codigo region\": 11}, {\"date\": \"2020-04-14\", \"region\": \"Los R\\u00edos\", \"casos\": 148, \"codigo region\": 12}, {\"date\": \"2020-04-14\", \"region\": \"Los Lagos\", \"casos\": 385, \"codigo region\": 13}, {\"date\": \"2020-04-14\", \"region\": \"Ays\\u00e9n\", \"casos\": 7, \"codigo region\": 14}, {\"date\": \"2020-04-14\", \"region\": \"Magallanes\", \"casos\": 429, \"codigo region\": 15}, {\"date\": \"2020-04-15\", \"region\": \"Arica y Parinacota\", \"casos\": 124, \"codigo region\": 0}, {\"date\": \"2020-04-15\", \"region\": \"Tarapac\\u00e1\", \"casos\": 62, \"codigo region\": 1}, {\"date\": \"2020-04-15\", \"region\": \"Antofagasta\", \"casos\": 176, \"codigo region\": 2}, {\"date\": \"2020-04-15\", \"region\": \"Atacama\", \"casos\": 13, \"codigo region\": 3}, {\"date\": \"2020-04-15\", \"region\": \"Coquimbo\", \"casos\": 66, \"codigo region\": 4}, {\"date\": \"2020-04-15\", \"region\": \"Valpara\\u00edso\", \"casos\": 299, \"codigo region\": 5}, {\"date\": \"2020-04-15\", \"region\": \"Metropolitana\", \"casos\": 4334, \"codigo region\": 6}, {\"date\": \"2020-04-15\", \"region\": \"O\\u2019Higgins\", \"casos\": 54, \"codigo region\": 7}, {\"date\": \"2020-04-15\", \"region\": \"Maule\", \"casos\": 152, \"codigo region\": 8}, {\"date\": \"2020-04-15\", \"region\": \"\\u00d1uble\", \"casos\": 634, \"codigo region\": 9}, {\"date\": \"2020-04-15\", \"region\": \"Biob\\u00edo\", \"casos\": 542, \"codigo region\": 10}, {\"date\": \"2020-04-15\", \"region\": \"Araucan\\u00eda\", \"casos\": 826, \"codigo region\": 11}, {\"date\": \"2020-04-15\", \"region\": \"Los R\\u00edos\", \"casos\": 150, \"codigo region\": 12}, {\"date\": \"2020-04-15\", \"region\": \"Los Lagos\", \"casos\": 390, \"codigo region\": 13}, {\"date\": \"2020-04-15\", \"region\": \"Ays\\u00e9n\", \"casos\": 7, \"codigo region\": 14}, {\"date\": \"2020-04-15\", \"region\": \"Magallanes\", \"casos\": 444, \"codigo region\": 15}, {\"date\": \"2020-04-16\", \"region\": \"Arica y Parinacota\", \"casos\": 129, \"codigo region\": 0}, {\"date\": \"2020-04-16\", \"region\": \"Tarapac\\u00e1\", \"casos\": 66, \"codigo region\": 1}, {\"date\": \"2020-04-16\", \"region\": \"Antofagasta\", \"casos\": 192, \"codigo region\": 2}, {\"date\": \"2020-04-16\", \"region\": \"Atacama\", \"casos\": 13, \"codigo region\": 3}, {\"date\": \"2020-04-16\", \"region\": \"Coquimbo\", \"casos\": 68, \"codigo region\": 4}, {\"date\": \"2020-04-16\", \"region\": \"Valpara\\u00edso\", \"casos\": 330, \"codigo region\": 5}, {\"date\": \"2020-04-16\", \"region\": \"Metropolitana\", \"casos\": 4682, \"codigo region\": 6}, {\"date\": \"2020-04-16\", \"region\": \"O\\u2019Higgins\", \"casos\": 54, \"codigo region\": 7}, {\"date\": \"2020-04-16\", \"region\": \"Maule\", \"casos\": 167, \"codigo region\": 8}, {\"date\": \"2020-04-16\", \"region\": \"\\u00d1uble\", \"casos\": 639, \"codigo region\": 9}, {\"date\": \"2020-04-16\", \"region\": \"Biob\\u00edo\", \"casos\": 559, \"codigo region\": 10}, {\"date\": \"2020-04-16\", \"region\": \"Araucan\\u00eda\", \"casos\": 882, \"codigo region\": 11}, {\"date\": \"2020-04-16\", \"region\": \"Los R\\u00edos\", \"casos\": 153, \"codigo region\": 12}, {\"date\": \"2020-04-16\", \"region\": \"Los Lagos\", \"casos\": 399, \"codigo region\": 13}, {\"date\": \"2020-04-16\", \"region\": \"Ays\\u00e9n\", \"casos\": 7, \"codigo region\": 14}, {\"date\": \"2020-04-16\", \"region\": \"Magallanes\", \"casos\": 467, \"codigo region\": 15}, {\"date\": \"2020-04-17\", \"region\": \"Arica y Parinacota\", \"casos\": 134, \"codigo region\": 0}, {\"date\": \"2020-04-17\", \"region\": \"Tarapac\\u00e1\", \"casos\": 73, \"codigo region\": 1}, {\"date\": \"2020-04-17\", \"region\": \"Antofagasta\", \"casos\": 211, \"codigo region\": 2}, {\"date\": \"2020-04-17\", \"region\": \"Atacama\", \"casos\": 13, \"codigo region\": 3}, {\"date\": \"2020-04-17\", \"region\": \"Coquimbo\", \"casos\": 68, \"codigo region\": 4}, {\"date\": \"2020-04-17\", \"region\": \"Valpara\\u00edso\", \"casos\": 345, \"codigo region\": 5}, {\"date\": \"2020-04-17\", \"region\": \"Metropolitana\", \"casos\": 4915, \"codigo region\": 6}, {\"date\": \"2020-04-17\", \"region\": \"O\\u2019Higgins\", \"casos\": 55, \"codigo region\": 7}, {\"date\": \"2020-04-17\", \"region\": \"Maule\", \"casos\": 223, \"codigo region\": 8}, {\"date\": \"2020-04-17\", \"region\": \"\\u00d1uble\", \"casos\": 656, \"codigo region\": 9}, {\"date\": \"2020-04-17\", \"region\": \"Biob\\u00edo\", \"casos\": 578, \"codigo region\": 10}, {\"date\": \"2020-04-17\", \"region\": \"Araucan\\u00eda\", \"casos\": 907, \"codigo region\": 11}, {\"date\": \"2020-04-17\", \"region\": \"Los R\\u00edos\", \"casos\": 154, \"codigo region\": 12}, {\"date\": \"2020-04-17\", \"region\": \"Los Lagos\", \"casos\": 412, \"codigo region\": 13}, {\"date\": \"2020-04-17\", \"region\": \"Ays\\u00e9n\", \"casos\": 7, \"codigo region\": 14}, {\"date\": \"2020-04-17\", \"region\": \"Magallanes\", \"casos\": 501, \"codigo region\": 15}, {\"date\": \"2020-04-18\", \"region\": \"Arica y Parinacota\", \"casos\": 142, \"codigo region\": 0}, {\"date\": \"2020-04-18\", \"region\": \"Tarapac\\u00e1\", \"casos\": 81, \"codigo region\": 1}, {\"date\": \"2020-04-18\", \"region\": \"Antofagasta\", \"casos\": 226, \"codigo region\": 2}, {\"date\": \"2020-04-18\", \"region\": \"Atacama\", \"casos\": 13, \"codigo region\": 3}, {\"date\": \"2020-04-18\", \"region\": \"Coquimbo\", \"casos\": 68, \"codigo region\": 4}, {\"date\": \"2020-04-18\", \"region\": \"Valpara\\u00edso\", \"casos\": 359, \"codigo region\": 5}, {\"date\": \"2020-04-18\", \"region\": \"Metropolitana\", \"casos\": 5192, \"codigo region\": 6}, {\"date\": \"2020-04-18\", \"region\": \"O\\u2019Higgins\", \"casos\": 55, \"codigo region\": 7}, {\"date\": \"2020-04-18\", \"region\": \"Maule\", \"casos\": 276, \"codigo region\": 8}, {\"date\": \"2020-04-18\", \"region\": \"\\u00d1uble\", \"casos\": 667, \"codigo region\": 9}, {\"date\": \"2020-04-18\", \"region\": \"Biob\\u00edo\", \"casos\": 606, \"codigo region\": 10}, {\"date\": \"2020-04-18\", \"region\": \"Araucan\\u00eda\", \"casos\": 944, \"codigo region\": 11}, {\"date\": \"2020-04-18\", \"region\": \"Los R\\u00edos\", \"casos\": 156, \"codigo region\": 12}, {\"date\": \"2020-04-18\", \"region\": \"Los Lagos\", \"casos\": 416, \"codigo region\": 13}, {\"date\": \"2020-04-18\", \"region\": \"Ays\\u00e9n\", \"casos\": 7, \"codigo region\": 14}, {\"date\": \"2020-04-18\", \"region\": \"Magallanes\", \"casos\": 522, \"codigo region\": 15}, {\"date\": \"2020-04-19\", \"region\": \"Arica y Parinacota\", \"casos\": 145, \"codigo region\": 0}, {\"date\": \"2020-04-19\", \"region\": \"Tarapac\\u00e1\", \"casos\": 90, \"codigo region\": 1}, {\"date\": \"2020-04-19\", \"region\": \"Antofagasta\", \"casos\": 249, \"codigo region\": 2}, {\"date\": \"2020-04-19\", \"region\": \"Atacama\", \"casos\": 13, \"codigo region\": 3}, {\"date\": \"2020-04-19\", \"region\": \"Coquimbo\", \"casos\": 68, \"codigo region\": 4}, {\"date\": \"2020-04-19\", \"region\": \"Valpara\\u00edso\", \"casos\": 381, \"codigo region\": 5}, {\"date\": \"2020-04-19\", \"region\": \"Metropolitana\", \"casos\": 5381, \"codigo region\": 6}, {\"date\": \"2020-04-19\", \"region\": \"O\\u2019Higgins\", \"casos\": 55, \"codigo region\": 7}, {\"date\": \"2020-04-19\", \"region\": \"Maule\", \"casos\": 302, \"codigo region\": 8}, {\"date\": \"2020-04-19\", \"region\": \"\\u00d1uble\", \"casos\": 678, \"codigo region\": 9}, {\"date\": \"2020-04-19\", \"region\": \"Biob\\u00edo\", \"casos\": 616, \"codigo region\": 10}, {\"date\": \"2020-04-19\", \"region\": \"Araucan\\u00eda\", \"casos\": 972, \"codigo region\": 11}, {\"date\": \"2020-04-19\", \"region\": \"Los R\\u00edos\", \"casos\": 157, \"codigo region\": 12}, {\"date\": \"2020-04-19\", \"region\": \"Los Lagos\", \"casos\": 421, \"codigo region\": 13}, {\"date\": \"2020-04-19\", \"region\": \"Ays\\u00e9n\", \"casos\": 7, \"codigo region\": 14}, {\"date\": \"2020-04-19\", \"region\": \"Magallanes\", \"casos\": 553, \"codigo region\": 15}, {\"date\": \"2020-04-20\", \"region\": \"Arica y Parinacota\", \"casos\": 161, \"codigo region\": 0}, {\"date\": \"2020-04-20\", \"region\": \"Tarapac\\u00e1\", \"casos\": 93, \"codigo region\": 1}, {\"date\": \"2020-04-20\", \"region\": \"Antofagasta\", \"casos\": 263, \"codigo region\": 2}, {\"date\": \"2020-04-20\", \"region\": \"Atacama\", \"casos\": 13, \"codigo region\": 3}, {\"date\": \"2020-04-20\", \"region\": \"Coquimbo\", \"casos\": 69, \"codigo region\": 4}, {\"date\": \"2020-04-20\", \"region\": \"Valpara\\u00edso\", \"casos\": 388, \"codigo region\": 5}, {\"date\": \"2020-04-20\", \"region\": \"Metropolitana\", \"casos\": 5643, \"codigo region\": 6}, {\"date\": \"2020-04-20\", \"region\": \"O\\u2019Higgins\", \"casos\": 56, \"codigo region\": 7}, {\"date\": \"2020-04-20\", \"region\": \"Maule\", \"casos\": 304, \"codigo region\": 8}, {\"date\": \"2020-04-20\", \"region\": \"\\u00d1uble\", \"casos\": 687, \"codigo region\": 9}, {\"date\": \"2020-04-20\", \"region\": \"Biob\\u00edo\", \"casos\": 626, \"codigo region\": 10}, {\"date\": \"2020-04-20\", \"region\": \"Araucan\\u00eda\", \"casos\": 1045, \"codigo region\": 11}, {\"date\": \"2020-04-20\", \"region\": \"Los R\\u00edos\", \"casos\": 162, \"codigo region\": 12}, {\"date\": \"2020-04-20\", \"region\": \"Los Lagos\", \"casos\": 424, \"codigo region\": 13}, {\"date\": \"2020-04-20\", \"region\": \"Ays\\u00e9n\", \"casos\": 7, \"codigo region\": 14}, {\"date\": \"2020-04-20\", \"region\": \"Magallanes\", \"casos\": 566, \"codigo region\": 15}, {\"date\": \"2020-04-21\", \"region\": \"Arica y Parinacota\", \"casos\": 170, \"codigo region\": 0}, {\"date\": \"2020-04-21\", \"region\": \"Tarapac\\u00e1\", \"casos\": 104, \"codigo region\": 1}, {\"date\": \"2020-04-21\", \"region\": \"Antofagasta\", \"casos\": 291, \"codigo region\": 2}, {\"date\": \"2020-04-21\", \"region\": \"Atacama\", \"casos\": 13, \"codigo region\": 3}, {\"date\": \"2020-04-21\", \"region\": \"Coquimbo\", \"casos\": 69, \"codigo region\": 4}, {\"date\": \"2020-04-21\", \"region\": \"Valpara\\u00edso\", \"casos\": 403, \"codigo region\": 5}, {\"date\": \"2020-04-21\", \"region\": \"Metropolitana\", \"casos\": 5788, \"codigo region\": 6}, {\"date\": \"2020-04-21\", \"region\": \"O\\u2019Higgins\", \"casos\": 57, \"codigo region\": 7}, {\"date\": \"2020-04-21\", \"region\": \"Maule\", \"casos\": 316, \"codigo region\": 8}, {\"date\": \"2020-04-21\", \"region\": \"\\u00d1uble\", \"casos\": 694, \"codigo region\": 9}, {\"date\": \"2020-04-21\", \"region\": \"Biob\\u00edo\", \"casos\": 636, \"codigo region\": 10}, {\"date\": \"2020-04-21\", \"region\": \"Araucan\\u00eda\", \"casos\": 1092, \"codigo region\": 11}, {\"date\": \"2020-04-21\", \"region\": \"Los R\\u00edos\", \"casos\": 167, \"codigo region\": 12}, {\"date\": \"2020-04-21\", \"region\": \"Los Lagos\", \"casos\": 432, \"codigo region\": 13}, {\"date\": \"2020-04-21\", \"region\": \"Ays\\u00e9n\", \"casos\": 7, \"codigo region\": 14}, {\"date\": \"2020-04-21\", \"region\": \"Magallanes\", \"casos\": 593, \"codigo region\": 15}, {\"date\": \"2020-04-22\", \"region\": \"Arica y Parinacota\", \"casos\": 180, \"codigo region\": 0}, {\"date\": \"2020-04-22\", \"region\": \"Tarapac\\u00e1\", \"casos\": 114, \"codigo region\": 1}, {\"date\": \"2020-04-22\", \"region\": \"Antofagasta\", \"casos\": 326, \"codigo region\": 2}, {\"date\": \"2020-04-22\", \"region\": \"Atacama\", \"casos\": 13, \"codigo region\": 3}, {\"date\": \"2020-04-22\", \"region\": \"Coquimbo\", \"casos\": 70, \"codigo region\": 4}, {\"date\": \"2020-04-22\", \"region\": \"Valpara\\u00edso\", \"casos\": 421, \"codigo region\": 5}, {\"date\": \"2020-04-22\", \"region\": \"Metropolitana\", \"casos\": 6083, \"codigo region\": 6}, {\"date\": \"2020-04-22\", \"region\": \"O\\u2019Higgins\", \"casos\": 59, \"codigo region\": 7}, {\"date\": \"2020-04-22\", \"region\": \"Maule\", \"casos\": 328, \"codigo region\": 8}, {\"date\": \"2020-04-22\", \"region\": \"\\u00d1uble\", \"casos\": 703, \"codigo region\": 9}, {\"date\": \"2020-04-22\", \"region\": \"Biob\\u00edo\", \"casos\": 658, \"codigo region\": 10}, {\"date\": \"2020-04-22\", \"region\": \"Araucan\\u00eda\", \"casos\": 1113, \"codigo region\": 11}, {\"date\": \"2020-04-22\", \"region\": \"Los R\\u00edos\", \"casos\": 171, \"codigo region\": 12}, {\"date\": \"2020-04-22\", \"region\": \"Los Lagos\", \"casos\": 445, \"codigo region\": 13}, {\"date\": \"2020-04-22\", \"region\": \"Ays\\u00e9n\", \"casos\": 7, \"codigo region\": 14}, {\"date\": \"2020-04-22\", \"region\": \"Magallanes\", \"casos\": 605, \"codigo region\": 15}, {\"date\": \"2020-04-23\", \"region\": \"Arica y Parinacota\", \"casos\": 210, \"codigo region\": 0}, {\"date\": \"2020-04-23\", \"region\": \"Tarapac\\u00e1\", \"casos\": 128, \"codigo region\": 1}, {\"date\": \"2020-04-23\", \"region\": \"Antofagasta\", \"casos\": 340, \"codigo region\": 2}, {\"date\": \"2020-04-23\", \"region\": \"Atacama\", \"casos\": 18, \"codigo region\": 3}, {\"date\": \"2020-04-23\", \"region\": \"Coquimbo\", \"casos\": 70, \"codigo region\": 4}, {\"date\": \"2020-04-23\", \"region\": \"Valpara\\u00edso\", \"casos\": 429, \"codigo region\": 5}, {\"date\": \"2020-04-23\", \"region\": \"Metropolitana\", \"casos\": 6434, \"codigo region\": 6}, {\"date\": \"2020-04-23\", \"region\": \"O\\u2019Higgins\", \"casos\": 76, \"codigo region\": 7}, {\"date\": \"2020-04-23\", \"region\": \"Maule\", \"casos\": 333, \"codigo region\": 8}, {\"date\": \"2020-04-23\", \"region\": \"\\u00d1uble\", \"casos\": 708, \"codigo region\": 9}, {\"date\": \"2020-04-23\", \"region\": \"Biob\\u00edo\", \"casos\": 675, \"codigo region\": 10}, {\"date\": \"2020-04-23\", \"region\": \"Araucan\\u00eda\", \"casos\": 1142, \"codigo region\": 11}, {\"date\": \"2020-04-23\", \"region\": \"Los R\\u00edos\", \"casos\": 173, \"codigo region\": 12}, {\"date\": \"2020-04-23\", \"region\": \"Los Lagos\", \"casos\": 454, \"codigo region\": 13}, {\"date\": \"2020-04-23\", \"region\": \"Ays\\u00e9n\", \"casos\": 7, \"codigo region\": 14}, {\"date\": \"2020-04-23\", \"region\": \"Magallanes\", \"casos\": 615, \"codigo region\": 15}, {\"date\": \"2020-04-24\", \"region\": \"Arica y Parinacota\", \"casos\": 239, \"codigo region\": 0}, {\"date\": \"2020-04-24\", \"region\": \"Tarapac\\u00e1\", \"casos\": 134, \"codigo region\": 1}, {\"date\": \"2020-04-24\", \"region\": \"Antofagasta\", \"casos\": 366, \"codigo region\": 2}, {\"date\": \"2020-04-24\", \"region\": \"Atacama\", \"casos\": 21, \"codigo region\": 3}, {\"date\": \"2020-04-24\", \"region\": \"Coquimbo\", \"casos\": 72, \"codigo region\": 4}, {\"date\": \"2020-04-24\", \"region\": \"Valpara\\u00edso\", \"casos\": 436, \"codigo region\": 5}, {\"date\": \"2020-04-24\", \"region\": \"Metropolitana\", \"casos\": 6761, \"codigo region\": 6}, {\"date\": \"2020-04-24\", \"region\": \"O\\u2019Higgins\", \"casos\": 81, \"codigo region\": 7}, {\"date\": \"2020-04-24\", \"region\": \"Maule\", \"casos\": 349, \"codigo region\": 8}, {\"date\": \"2020-04-24\", \"region\": \"\\u00d1uble\", \"casos\": 715, \"codigo region\": 9}, {\"date\": \"2020-04-24\", \"region\": \"Biob\\u00edo\", \"casos\": 683, \"codigo region\": 10}, {\"date\": \"2020-04-24\", \"region\": \"Araucan\\u00eda\", \"casos\": 1184, \"codigo region\": 11}, {\"date\": \"2020-04-24\", \"region\": \"Los R\\u00edos\", \"casos\": 174, \"codigo region\": 12}, {\"date\": \"2020-04-24\", \"region\": \"Los Lagos\", \"casos\": 460, \"codigo region\": 13}, {\"date\": \"2020-04-24\", \"region\": \"Ays\\u00e9n\", \"casos\": 7, \"codigo region\": 14}, {\"date\": \"2020-04-24\", \"region\": \"Magallanes\", \"casos\": 624, \"codigo region\": 15}, {\"date\": \"2020-04-25\", \"region\": \"Arica y Parinacota\", \"casos\": 245, \"codigo region\": 0}, {\"date\": \"2020-04-25\", \"region\": \"Tarapac\\u00e1\", \"casos\": 143, \"codigo region\": 1}, {\"date\": \"2020-04-25\", \"region\": \"Antofagasta\", \"casos\": 391, \"codigo region\": 2}, {\"date\": \"2020-04-25\", \"region\": \"Atacama\", \"casos\": 24, \"codigo region\": 3}, {\"date\": \"2020-04-25\", \"region\": \"Coquimbo\", \"casos\": 73, \"codigo region\": 4}, {\"date\": \"2020-04-25\", \"region\": \"Valpara\\u00edso\", \"casos\": 454, \"codigo region\": 5}, {\"date\": \"2020-04-25\", \"region\": \"Metropolitana\", \"casos\": 7165, \"codigo region\": 6}, {\"date\": \"2020-04-25\", \"region\": \"O\\u2019Higgins\", \"casos\": 85, \"codigo region\": 7}, {\"date\": \"2020-04-25\", \"region\": \"Maule\", \"casos\": 350, \"codigo region\": 8}, {\"date\": \"2020-04-25\", \"region\": \"\\u00d1uble\", \"casos\": 725, \"codigo region\": 9}, {\"date\": \"2020-04-25\", \"region\": \"Biob\\u00edo\", \"casos\": 696, \"codigo region\": 10}, {\"date\": \"2020-04-25\", \"region\": \"Araucan\\u00eda\", \"casos\": 1203, \"codigo region\": 11}, {\"date\": \"2020-04-25\", \"region\": \"Los R\\u00edos\", \"casos\": 177, \"codigo region\": 12}, {\"date\": \"2020-04-25\", \"region\": \"Los Lagos\", \"casos\": 465, \"codigo region\": 13}, {\"date\": \"2020-04-25\", \"region\": \"Ays\\u00e9n\", \"casos\": 7, \"codigo region\": 14}, {\"date\": \"2020-04-25\", \"region\": \"Magallanes\", \"casos\": 655, \"codigo region\": 15}, {\"date\": \"2020-04-26\", \"region\": \"Arica y Parinacota\", \"casos\": 252, \"codigo region\": 0}, {\"date\": \"2020-04-26\", \"region\": \"Tarapac\\u00e1\", \"casos\": 156, \"codigo region\": 1}, {\"date\": \"2020-04-26\", \"region\": \"Antofagasta\", \"casos\": 443, \"codigo region\": 2}, {\"date\": \"2020-04-26\", \"region\": \"Atacama\", \"casos\": 29, \"codigo region\": 3}, {\"date\": \"2020-04-26\", \"region\": \"Coquimbo\", \"casos\": 73, \"codigo region\": 4}, {\"date\": \"2020-04-26\", \"region\": \"Valpara\\u00edso\", \"casos\": 460, \"codigo region\": 5}, {\"date\": \"2020-04-26\", \"region\": \"Metropolitana\", \"casos\": 7496, \"codigo region\": 6}, {\"date\": \"2020-04-26\", \"region\": \"O\\u2019Higgins\", \"casos\": 92, \"codigo region\": 7}, {\"date\": \"2020-04-26\", \"region\": \"Maule\", \"casos\": 354, \"codigo region\": 8}, {\"date\": \"2020-04-26\", \"region\": \"\\u00d1uble\", \"casos\": 731, \"codigo region\": 9}, {\"date\": \"2020-04-26\", \"region\": \"Biob\\u00edo\", \"casos\": 703, \"codigo region\": 10}, {\"date\": \"2020-04-26\", \"region\": \"Araucan\\u00eda\", \"casos\": 1216, \"codigo region\": 11}, {\"date\": \"2020-04-26\", \"region\": \"Los R\\u00edos\", \"casos\": 178, \"codigo region\": 12}, {\"date\": \"2020-04-26\", \"region\": \"Los Lagos\", \"casos\": 473, \"codigo region\": 13}, {\"date\": \"2020-04-26\", \"region\": \"Ays\\u00e9n\", \"casos\": 7, \"codigo region\": 14}, {\"date\": \"2020-04-26\", \"region\": \"Magallanes\", \"casos\": 668, \"codigo region\": 15}]}}, {\"mode\": \"vega-lite\"});\n",
       "</script>"
      ],
      "text/plain": [
       "alt.HConcatChart(...)"
      ]
     },
     "execution_count": 23,
     "metadata": {},
     "output_type": "execute_result"
    }
   ],
   "source": [
    "#hide_input\n",
    "input_dropdown = alt.binding_select(options=data['region'].unique())\n",
    "selection1 = alt.selection_single(fields=['region'], bind=input_dropdown, name=' ')\n",
    "selection2 = alt.selection_multi(fields=['region'], on='mouseover')\n",
    "color = alt.condition(selection1 | selection2,\n",
    "                    alt.Color('region:N', legend=None),\n",
    "                    alt.value('lightgray'))\n",
    "\n",
    "chart = alt.Chart(data).mark_bar().encode(\n",
    "    x=alt.X('date:O', axis=alt.Axis(title='Date')),\n",
    "    y=alt.Y('casos', axis=alt.Axis(title='Confirmed cases')),\n",
    "    color=color,\n",
    "    tooltip=['date', 'region', 'casos'],\n",
    "    order=alt.Order(\n",
    "    # Sort the segments of the bars by this field\n",
    "    'codigo region',\n",
    "    sort='descending'\n",
    "    )\n",
    ").properties(\n",
    "    title='COVID-19 in Chile: Total confirmed cases by región'\n",
    ").add_selection(\n",
    "    selection1, selection2\n",
    ").transform_filter(\n",
    "    selection1\n",
    ")\n",
    "\n",
    "legend = alt.Chart(data).mark_point().encode(\n",
    "    y=alt.Y('region:N', axis=alt.Axis(orient='right'), sort=regiones),\n",
    "    color=color\n",
    ").add_selection(\n",
    "    selection1, selection2\n",
    ")\n",
    "\n",
    "chart.properties(width=600, height=400) | legend"
   ]
  },
  {
   "cell_type": "markdown",
   "metadata": {},
   "source": [
    "# Evolution of total confirmed deaths by region"
   ]
  },
  {
   "cell_type": "code",
   "execution_count": 24,
   "metadata": {},
   "outputs": [],
   "source": [
    "#hide\n",
    "data = pd.DataFrame()\n",
    "data_raw = pd.read_csv(\n",
    "    \"https://raw.githubusercontent.com/MinCiencia/Datos-COVID19/master/output/producto4/2020-03-24-CasosConfirmados-totalRegional.csv\",\n",
    "    index_col='Region')\n",
    "data['2020-03-24'] = data_raw['Fallecidos']"
   ]
  },
  {
   "cell_type": "code",
   "execution_count": 25,
   "metadata": {},
   "outputs": [],
   "source": [
    "#hide\n",
    "first_death_date = '2020-03-24'\n",
    "total_days = (pd.to_datetime(today)-pd.to_datetime(first_death_date)).days"
   ]
  },
  {
   "cell_type": "code",
   "execution_count": 26,
   "metadata": {},
   "outputs": [],
   "source": [
    "#hide\n",
    "for i in np.arange(total_days+1):\n",
    "  date = (pd.to_datetime(first_death_date)+pd.DateOffset(i)).strftime('%Y-%m-%d')\n",
    "  s = \"https://raw.githubusercontent.com/MinCiencia/Datos-COVID19/master/output/producto4/\" + date + \"-CasosConfirmados-totalRegional.csv\"\n",
    "  data_by_date = pd.read_csv(s)\n",
    "  if 'Fallecidos' in data_by_date.columns:\n",
    "    data[date] = data_by_date[\"Fallecidos\"].values\n",
    "  elif 'Casos fallecidos' in data_by_date.columns:\n",
    "    data[date] = data_by_date[\"Casos fallecidos\"].values\n",
    "  else:\n",
    "    data[date] = data_by_date[\" Casos fallecidos\"].values"
   ]
  },
  {
   "cell_type": "code",
   "execution_count": 27,
   "metadata": {},
   "outputs": [],
   "source": [
    "#hide\n",
    "data = data.drop(\"Total\")"
   ]
  },
  {
   "cell_type": "code",
   "execution_count": 28,
   "metadata": {},
   "outputs": [],
   "source": [
    "#hide\n",
    "new_data = pd.DataFrame()\n",
    "i = 0\n",
    "for date in data.keys():\n",
    "    for n, region in enumerate(data.index):\n",
    "        new_data[i] = date, region, data[date].loc[region], n\n",
    "        i += 1"
   ]
  },
  {
   "cell_type": "code",
   "execution_count": 29,
   "metadata": {},
   "outputs": [],
   "source": [
    "#hide\n",
    "data = data.reset_index()\n",
    "regiones = data['Region'].values\n",
    "new_data = new_data.T\n",
    "new_data = new_data.rename(columns={0: \"date\", 1: \"region\", 2: \"fallecidos\", 3: \"codigo region\"})"
   ]
  },
  {
   "cell_type": "code",
   "execution_count": 30,
   "metadata": {},
   "outputs": [],
   "source": [
    "#hide\n",
    "new_data[\"fallecidos\"] = new_data[\"fallecidos\"].astype(int)"
   ]
  },
  {
   "cell_type": "code",
   "execution_count": 31,
   "metadata": {},
   "outputs": [
    {
     "data": {
      "text/html": [
       "\n",
       "<div id=\"altair-viz-37dc61894d2f4fe6b33a86c7d20c4e03\"></div>\n",
       "<script type=\"text/javascript\">\n",
       "  (function(spec, embedOpt){\n",
       "    let outputDiv = document.currentScript.previousElementSibling;\n",
       "    if (outputDiv.id !== \"altair-viz-37dc61894d2f4fe6b33a86c7d20c4e03\") {\n",
       "      outputDiv = document.getElementById(\"altair-viz-37dc61894d2f4fe6b33a86c7d20c4e03\");\n",
       "    }\n",
       "    const paths = {\n",
       "      \"vega\": \"https://cdn.jsdelivr.net/npm//vega@5?noext\",\n",
       "      \"vega-lib\": \"https://cdn.jsdelivr.net/npm//vega-lib?noext\",\n",
       "      \"vega-lite\": \"https://cdn.jsdelivr.net/npm//vega-lite@4.8.1?noext\",\n",
       "      \"vega-embed\": \"https://cdn.jsdelivr.net/npm//vega-embed@6?noext\",\n",
       "    };\n",
       "\n",
       "    function loadScript(lib) {\n",
       "      return new Promise(function(resolve, reject) {\n",
       "        var s = document.createElement('script');\n",
       "        s.src = paths[lib];\n",
       "        s.async = true;\n",
       "        s.onload = () => resolve(paths[lib]);\n",
       "        s.onerror = () => reject(`Error loading script: ${paths[lib]}`);\n",
       "        document.getElementsByTagName(\"head\")[0].appendChild(s);\n",
       "      });\n",
       "    }\n",
       "\n",
       "    function showError(err) {\n",
       "      outputDiv.innerHTML = `<div class=\"error\" style=\"color:red;\">${err}</div>`;\n",
       "      throw err;\n",
       "    }\n",
       "\n",
       "    function displayChart(vegaEmbed) {\n",
       "      vegaEmbed(outputDiv, spec, embedOpt)\n",
       "        .catch(err => showError(`Javascript Error: ${err.message}<br>This usually means there's a typo in your chart specification. See the javascript console for the full traceback.`));\n",
       "    }\n",
       "\n",
       "    if(typeof define === \"function\" && define.amd) {\n",
       "      requirejs.config({paths});\n",
       "      require([\"vega-embed\"], displayChart, err => showError(`Error loading script: ${err.message}`));\n",
       "    } else if (typeof vegaEmbed === \"function\") {\n",
       "      displayChart(vegaEmbed);\n",
       "    } else {\n",
       "      loadScript(\"vega\")\n",
       "        .then(() => loadScript(\"vega-lite\"))\n",
       "        .then(() => loadScript(\"vega-embed\"))\n",
       "        .catch(showError)\n",
       "        .then(() => displayChart(vegaEmbed));\n",
       "    }\n",
       "  })({\"config\": {\"view\": {\"continuousWidth\": 400, \"continuousHeight\": 300}}, \"hconcat\": [{\"mark\": \"bar\", \"encoding\": {\"color\": {\"condition\": {\"type\": \"nominal\", \"field\": \"region\", \"legend\": null, \"selection\": {\"or\": [\" \", \"selector002\"]}}, \"value\": \"lightgray\"}, \"order\": {\"type\": \"quantitative\", \"field\": \"codigo region\", \"sort\": \"descending\"}, \"tooltip\": [{\"type\": \"nominal\", \"field\": \"date\"}, {\"type\": \"nominal\", \"field\": \"region\"}, {\"type\": \"quantitative\", \"field\": \"fallecidos\"}], \"x\": {\"type\": \"ordinal\", \"axis\": {\"title\": \"Date\"}, \"field\": \"date\"}, \"y\": {\"type\": \"quantitative\", \"axis\": {\"title\": \"Confirmed deaths\"}, \"field\": \"fallecidos\"}}, \"height\": 400, \"selection\": {\" \": {\"type\": \"single\", \"fields\": [\"region\"], \"bind\": {\"input\": \"select\", \"options\": [\"Arica y Parinacota\", \"Tarapac\\u00e1\", \"Antofagasta\", \"Atacama\", \"Coquimbo\", \"Valpara\\u00edso\", \"Metropolitana\", \"O\\u2019Higgins\", \"Maule\", \"\\u00d1uble\", \"Biob\\u00edo\", \"Araucan\\u00eda\", \"Los R\\u00edos\", \"Los Lagos\", \"Ays\\u00e9n\", \"Magallanes\"]}}, \"selector002\": {\"type\": \"multi\", \"fields\": [\"region\"], \"on\": \"mouseover\"}}, \"title\": \"COVID-19 in Chile: Total confirmed deaths by region\", \"transform\": [{\"filter\": {\"selection\": \" \"}}], \"width\": 600}, {\"mark\": \"point\", \"encoding\": {\"color\": {\"condition\": {\"type\": \"nominal\", \"field\": \"region\", \"legend\": null, \"selection\": {\"or\": [\" \", \"selector002\"]}}, \"value\": \"lightgray\"}, \"y\": {\"type\": \"nominal\", \"axis\": {\"orient\": \"right\"}, \"field\": \"region\", \"sort\": [\"Arica y Parinacota\", \"Tarapac\\u00e1\", \"Antofagasta\", \"Atacama\", \"Coquimbo\", \"Valpara\\u00edso\", \"Metropolitana\", \"O\\u2019Higgins\", \"Maule\", \"\\u00d1uble\", \"Biob\\u00edo\", \"Araucan\\u00eda\", \"Los R\\u00edos\", \"Los Lagos\", \"Ays\\u00e9n\", \"Magallanes\"]}}, \"selection\": {\" \": {\"type\": \"single\", \"fields\": [\"region\"], \"bind\": {\"input\": \"select\", \"options\": [\"Arica y Parinacota\", \"Tarapac\\u00e1\", \"Antofagasta\", \"Atacama\", \"Coquimbo\", \"Valpara\\u00edso\", \"Metropolitana\", \"O\\u2019Higgins\", \"Maule\", \"\\u00d1uble\", \"Biob\\u00edo\", \"Araucan\\u00eda\", \"Los R\\u00edos\", \"Los Lagos\", \"Ays\\u00e9n\", \"Magallanes\"]}}, \"selector002\": {\"type\": \"multi\", \"fields\": [\"region\"], \"on\": \"mouseover\"}}}], \"data\": {\"name\": \"data-e777a492c9e7731ed3ab6e174f3d14f0\"}, \"$schema\": \"https://vega.github.io/schema/vega-lite/v4.8.1.json\", \"datasets\": {\"data-e777a492c9e7731ed3ab6e174f3d14f0\": [{\"date\": \"2020-03-24\", \"region\": \"Arica y Parinacota\", \"fallecidos\": 0, \"codigo region\": 0}, {\"date\": \"2020-03-24\", \"region\": \"Tarapac\\u00e1\", \"fallecidos\": 0, \"codigo region\": 1}, {\"date\": \"2020-03-24\", \"region\": \"Antofagasta\", \"fallecidos\": 0, \"codigo region\": 2}, {\"date\": \"2020-03-24\", \"region\": \"Atacama\", \"fallecidos\": 0, \"codigo region\": 3}, {\"date\": \"2020-03-24\", \"region\": \"Coquimbo\", \"fallecidos\": 0, \"codigo region\": 4}, {\"date\": \"2020-03-24\", \"region\": \"Valpara\\u00edso\", \"fallecidos\": 0, \"codigo region\": 5}, {\"date\": \"2020-03-24\", \"region\": \"Metropolitana\", \"fallecidos\": 2, \"codigo region\": 6}, {\"date\": \"2020-03-24\", \"region\": \"O\\u2019Higgins\", \"fallecidos\": 0, \"codigo region\": 7}, {\"date\": \"2020-03-24\", \"region\": \"Maule\", \"fallecidos\": 0, \"codigo region\": 8}, {\"date\": \"2020-03-24\", \"region\": \"\\u00d1uble\", \"fallecidos\": 0, \"codigo region\": 9}, {\"date\": \"2020-03-24\", \"region\": \"Biob\\u00edo\", \"fallecidos\": 0, \"codigo region\": 10}, {\"date\": \"2020-03-24\", \"region\": \"Araucan\\u00eda\", \"fallecidos\": 0, \"codigo region\": 11}, {\"date\": \"2020-03-24\", \"region\": \"Los R\\u00edos\", \"fallecidos\": 0, \"codigo region\": 12}, {\"date\": \"2020-03-24\", \"region\": \"Los Lagos\", \"fallecidos\": 0, \"codigo region\": 13}, {\"date\": \"2020-03-24\", \"region\": \"Ays\\u00e9n\", \"fallecidos\": 0, \"codigo region\": 14}, {\"date\": \"2020-03-24\", \"region\": \"Magallanes\", \"fallecidos\": 0, \"codigo region\": 15}, {\"date\": \"2020-03-25\", \"region\": \"Arica y Parinacota\", \"fallecidos\": 0, \"codigo region\": 0}, {\"date\": \"2020-03-25\", \"region\": \"Tarapac\\u00e1\", \"fallecidos\": 0, \"codigo region\": 1}, {\"date\": \"2020-03-25\", \"region\": \"Antofagasta\", \"fallecidos\": 0, \"codigo region\": 2}, {\"date\": \"2020-03-25\", \"region\": \"Atacama\", \"fallecidos\": 0, \"codigo region\": 3}, {\"date\": \"2020-03-25\", \"region\": \"Coquimbo\", \"fallecidos\": 0, \"codigo region\": 4}, {\"date\": \"2020-03-25\", \"region\": \"Valpara\\u00edso\", \"fallecidos\": 0, \"codigo region\": 5}, {\"date\": \"2020-03-25\", \"region\": \"Metropolitana\", \"fallecidos\": 2, \"codigo region\": 6}, {\"date\": \"2020-03-25\", \"region\": \"O\\u2019Higgins\", \"fallecidos\": 0, \"codigo region\": 7}, {\"date\": \"2020-03-25\", \"region\": \"Maule\", \"fallecidos\": 0, \"codigo region\": 8}, {\"date\": \"2020-03-25\", \"region\": \"\\u00d1uble\", \"fallecidos\": 0, \"codigo region\": 9}, {\"date\": \"2020-03-25\", \"region\": \"Biob\\u00edo\", \"fallecidos\": 1, \"codigo region\": 10}, {\"date\": \"2020-03-25\", \"region\": \"Araucan\\u00eda\", \"fallecidos\": 0, \"codigo region\": 11}, {\"date\": \"2020-03-25\", \"region\": \"Los R\\u00edos\", \"fallecidos\": 0, \"codigo region\": 12}, {\"date\": \"2020-03-25\", \"region\": \"Los Lagos\", \"fallecidos\": 0, \"codigo region\": 13}, {\"date\": \"2020-03-25\", \"region\": \"Ays\\u00e9n\", \"fallecidos\": 0, \"codigo region\": 14}, {\"date\": \"2020-03-25\", \"region\": \"Magallanes\", \"fallecidos\": 0, \"codigo region\": 15}, {\"date\": \"2020-03-26\", \"region\": \"Arica y Parinacota\", \"fallecidos\": 0, \"codigo region\": 0}, {\"date\": \"2020-03-26\", \"region\": \"Tarapac\\u00e1\", \"fallecidos\": 0, \"codigo region\": 1}, {\"date\": \"2020-03-26\", \"region\": \"Antofagasta\", \"fallecidos\": 0, \"codigo region\": 2}, {\"date\": \"2020-03-26\", \"region\": \"Atacama\", \"fallecidos\": 0, \"codigo region\": 3}, {\"date\": \"2020-03-26\", \"region\": \"Coquimbo\", \"fallecidos\": 0, \"codigo region\": 4}, {\"date\": \"2020-03-26\", \"region\": \"Valpara\\u00edso\", \"fallecidos\": 0, \"codigo region\": 5}, {\"date\": \"2020-03-26\", \"region\": \"Metropolitana\", \"fallecidos\": 3, \"codigo region\": 6}, {\"date\": \"2020-03-26\", \"region\": \"O\\u2019Higgins\", \"fallecidos\": 0, \"codigo region\": 7}, {\"date\": \"2020-03-26\", \"region\": \"Maule\", \"fallecidos\": 0, \"codigo region\": 8}, {\"date\": \"2020-03-26\", \"region\": \"\\u00d1uble\", \"fallecidos\": 0, \"codigo region\": 9}, {\"date\": \"2020-03-26\", \"region\": \"Biob\\u00edo\", \"fallecidos\": 1, \"codigo region\": 10}, {\"date\": \"2020-03-26\", \"region\": \"Araucan\\u00eda\", \"fallecidos\": 0, \"codigo region\": 11}, {\"date\": \"2020-03-26\", \"region\": \"Los R\\u00edos\", \"fallecidos\": 0, \"codigo region\": 12}, {\"date\": \"2020-03-26\", \"region\": \"Los Lagos\", \"fallecidos\": 0, \"codigo region\": 13}, {\"date\": \"2020-03-26\", \"region\": \"Ays\\u00e9n\", \"fallecidos\": 0, \"codigo region\": 14}, {\"date\": \"2020-03-26\", \"region\": \"Magallanes\", \"fallecidos\": 0, \"codigo region\": 15}, {\"date\": \"2020-03-27\", \"region\": \"Arica y Parinacota\", \"fallecidos\": 0, \"codigo region\": 0}, {\"date\": \"2020-03-27\", \"region\": \"Tarapac\\u00e1\", \"fallecidos\": 0, \"codigo region\": 1}, {\"date\": \"2020-03-27\", \"region\": \"Antofagasta\", \"fallecidos\": 0, \"codigo region\": 2}, {\"date\": \"2020-03-27\", \"region\": \"Atacama\", \"fallecidos\": 0, \"codigo region\": 3}, {\"date\": \"2020-03-27\", \"region\": \"Coquimbo\", \"fallecidos\": 0, \"codigo region\": 4}, {\"date\": \"2020-03-27\", \"region\": \"Valpara\\u00edso\", \"fallecidos\": 0, \"codigo region\": 5}, {\"date\": \"2020-03-27\", \"region\": \"Metropolitana\", \"fallecidos\": 3, \"codigo region\": 6}, {\"date\": \"2020-03-27\", \"region\": \"O\\u2019Higgins\", \"fallecidos\": 0, \"codigo region\": 7}, {\"date\": \"2020-03-27\", \"region\": \"Maule\", \"fallecidos\": 0, \"codigo region\": 8}, {\"date\": \"2020-03-27\", \"region\": \"\\u00d1uble\", \"fallecidos\": 0, \"codigo region\": 9}, {\"date\": \"2020-03-27\", \"region\": \"Biob\\u00edo\", \"fallecidos\": 2, \"codigo region\": 10}, {\"date\": \"2020-03-27\", \"region\": \"Araucan\\u00eda\", \"fallecidos\": 0, \"codigo region\": 11}, {\"date\": \"2020-03-27\", \"region\": \"Los R\\u00edos\", \"fallecidos\": 0, \"codigo region\": 12}, {\"date\": \"2020-03-27\", \"region\": \"Los Lagos\", \"fallecidos\": 0, \"codigo region\": 13}, {\"date\": \"2020-03-27\", \"region\": \"Ays\\u00e9n\", \"fallecidos\": 0, \"codigo region\": 14}, {\"date\": \"2020-03-27\", \"region\": \"Magallanes\", \"fallecidos\": 0, \"codigo region\": 15}, {\"date\": \"2020-03-28\", \"region\": \"Arica y Parinacota\", \"fallecidos\": 0, \"codigo region\": 0}, {\"date\": \"2020-03-28\", \"region\": \"Tarapac\\u00e1\", \"fallecidos\": 0, \"codigo region\": 1}, {\"date\": \"2020-03-28\", \"region\": \"Antofagasta\", \"fallecidos\": 0, \"codigo region\": 2}, {\"date\": \"2020-03-28\", \"region\": \"Atacama\", \"fallecidos\": 0, \"codigo region\": 3}, {\"date\": \"2020-03-28\", \"region\": \"Coquimbo\", \"fallecidos\": 0, \"codigo region\": 4}, {\"date\": \"2020-03-28\", \"region\": \"Valpara\\u00edso\", \"fallecidos\": 0, \"codigo region\": 5}, {\"date\": \"2020-03-28\", \"region\": \"Metropolitana\", \"fallecidos\": 3, \"codigo region\": 6}, {\"date\": \"2020-03-28\", \"region\": \"O\\u2019Higgins\", \"fallecidos\": 0, \"codigo region\": 7}, {\"date\": \"2020-03-28\", \"region\": \"Maule\", \"fallecidos\": 0, \"codigo region\": 8}, {\"date\": \"2020-03-28\", \"region\": \"\\u00d1uble\", \"fallecidos\": 0, \"codigo region\": 9}, {\"date\": \"2020-03-28\", \"region\": \"Biob\\u00edo\", \"fallecidos\": 2, \"codigo region\": 10}, {\"date\": \"2020-03-28\", \"region\": \"Araucan\\u00eda\", \"fallecidos\": 1, \"codigo region\": 11}, {\"date\": \"2020-03-28\", \"region\": \"Los R\\u00edos\", \"fallecidos\": 0, \"codigo region\": 12}, {\"date\": \"2020-03-28\", \"region\": \"Los Lagos\", \"fallecidos\": 0, \"codigo region\": 13}, {\"date\": \"2020-03-28\", \"region\": \"Ays\\u00e9n\", \"fallecidos\": 0, \"codigo region\": 14}, {\"date\": \"2020-03-28\", \"region\": \"Magallanes\", \"fallecidos\": 0, \"codigo region\": 15}, {\"date\": \"2020-03-29\", \"region\": \"Arica y Parinacota\", \"fallecidos\": 0, \"codigo region\": 0}, {\"date\": \"2020-03-29\", \"region\": \"Tarapac\\u00e1\", \"fallecidos\": 0, \"codigo region\": 1}, {\"date\": \"2020-03-29\", \"region\": \"Antofagasta\", \"fallecidos\": 0, \"codigo region\": 2}, {\"date\": \"2020-03-29\", \"region\": \"Atacama\", \"fallecidos\": 0, \"codigo region\": 3}, {\"date\": \"2020-03-29\", \"region\": \"Coquimbo\", \"fallecidos\": 0, \"codigo region\": 4}, {\"date\": \"2020-03-29\", \"region\": \"Valpara\\u00edso\", \"fallecidos\": 0, \"codigo region\": 5}, {\"date\": \"2020-03-29\", \"region\": \"Metropolitana\", \"fallecidos\": 3, \"codigo region\": 6}, {\"date\": \"2020-03-29\", \"region\": \"O\\u2019Higgins\", \"fallecidos\": 0, \"codigo region\": 7}, {\"date\": \"2020-03-29\", \"region\": \"Maule\", \"fallecidos\": 0, \"codigo region\": 8}, {\"date\": \"2020-03-29\", \"region\": \"\\u00d1uble\", \"fallecidos\": 0, \"codigo region\": 9}, {\"date\": \"2020-03-29\", \"region\": \"Biob\\u00edo\", \"fallecidos\": 2, \"codigo region\": 10}, {\"date\": \"2020-03-29\", \"region\": \"Araucan\\u00eda\", \"fallecidos\": 2, \"codigo region\": 11}, {\"date\": \"2020-03-29\", \"region\": \"Los R\\u00edos\", \"fallecidos\": 0, \"codigo region\": 12}, {\"date\": \"2020-03-29\", \"region\": \"Los Lagos\", \"fallecidos\": 0, \"codigo region\": 13}, {\"date\": \"2020-03-29\", \"region\": \"Ays\\u00e9n\", \"fallecidos\": 0, \"codigo region\": 14}, {\"date\": \"2020-03-29\", \"region\": \"Magallanes\", \"fallecidos\": 0, \"codigo region\": 15}, {\"date\": \"2020-03-30\", \"region\": \"Arica y Parinacota\", \"fallecidos\": 0, \"codigo region\": 0}, {\"date\": \"2020-03-30\", \"region\": \"Tarapac\\u00e1\", \"fallecidos\": 0, \"codigo region\": 1}, {\"date\": \"2020-03-30\", \"region\": \"Antofagasta\", \"fallecidos\": 0, \"codigo region\": 2}, {\"date\": \"2020-03-30\", \"region\": \"Atacama\", \"fallecidos\": 0, \"codigo region\": 3}, {\"date\": \"2020-03-30\", \"region\": \"Coquimbo\", \"fallecidos\": 0, \"codigo region\": 4}, {\"date\": \"2020-03-30\", \"region\": \"Valpara\\u00edso\", \"fallecidos\": 0, \"codigo region\": 5}, {\"date\": \"2020-03-30\", \"region\": \"Metropolitana\", \"fallecidos\": 3, \"codigo region\": 6}, {\"date\": \"2020-03-30\", \"region\": \"O\\u2019Higgins\", \"fallecidos\": 0, \"codigo region\": 7}, {\"date\": \"2020-03-30\", \"region\": \"Maule\", \"fallecidos\": 1, \"codigo region\": 8}, {\"date\": \"2020-03-30\", \"region\": \"\\u00d1uble\", \"fallecidos\": 0, \"codigo region\": 9}, {\"date\": \"2020-03-30\", \"region\": \"Biob\\u00edo\", \"fallecidos\": 2, \"codigo region\": 10}, {\"date\": \"2020-03-30\", \"region\": \"Araucan\\u00eda\", \"fallecidos\": 2, \"codigo region\": 11}, {\"date\": \"2020-03-30\", \"region\": \"Los R\\u00edos\", \"fallecidos\": 0, \"codigo region\": 12}, {\"date\": \"2020-03-30\", \"region\": \"Los Lagos\", \"fallecidos\": 0, \"codigo region\": 13}, {\"date\": \"2020-03-30\", \"region\": \"Ays\\u00e9n\", \"fallecidos\": 0, \"codigo region\": 14}, {\"date\": \"2020-03-30\", \"region\": \"Magallanes\", \"fallecidos\": 0, \"codigo region\": 15}, {\"date\": \"2020-03-31\", \"region\": \"Arica y Parinacota\", \"fallecidos\": 0, \"codigo region\": 0}, {\"date\": \"2020-03-31\", \"region\": \"Tarapac\\u00e1\", \"fallecidos\": 0, \"codigo region\": 1}, {\"date\": \"2020-03-31\", \"region\": \"Antofagasta\", \"fallecidos\": 0, \"codigo region\": 2}, {\"date\": \"2020-03-31\", \"region\": \"Atacama\", \"fallecidos\": 0, \"codigo region\": 3}, {\"date\": \"2020-03-31\", \"region\": \"Coquimbo\", \"fallecidos\": 0, \"codigo region\": 4}, {\"date\": \"2020-03-31\", \"region\": \"Valpara\\u00edso\", \"fallecidos\": 1, \"codigo region\": 5}, {\"date\": \"2020-03-31\", \"region\": \"Metropolitana\", \"fallecidos\": 4, \"codigo region\": 6}, {\"date\": \"2020-03-31\", \"region\": \"O\\u2019Higgins\", \"fallecidos\": 0, \"codigo region\": 7}, {\"date\": \"2020-03-31\", \"region\": \"Maule\", \"fallecidos\": 1, \"codigo region\": 8}, {\"date\": \"2020-03-31\", \"region\": \"\\u00d1uble\", \"fallecidos\": 0, \"codigo region\": 9}, {\"date\": \"2020-03-31\", \"region\": \"Biob\\u00edo\", \"fallecidos\": 2, \"codigo region\": 10}, {\"date\": \"2020-03-31\", \"region\": \"Araucan\\u00eda\", \"fallecidos\": 4, \"codigo region\": 11}, {\"date\": \"2020-03-31\", \"region\": \"Los R\\u00edos\", \"fallecidos\": 0, \"codigo region\": 12}, {\"date\": \"2020-03-31\", \"region\": \"Los Lagos\", \"fallecidos\": 0, \"codigo region\": 13}, {\"date\": \"2020-03-31\", \"region\": \"Ays\\u00e9n\", \"fallecidos\": 0, \"codigo region\": 14}, {\"date\": \"2020-03-31\", \"region\": \"Magallanes\", \"fallecidos\": 0, \"codigo region\": 15}, {\"date\": \"2020-04-01\", \"region\": \"Arica y Parinacota\", \"fallecidos\": 0, \"codigo region\": 0}, {\"date\": \"2020-04-01\", \"region\": \"Tarapac\\u00e1\", \"fallecidos\": 0, \"codigo region\": 1}, {\"date\": \"2020-04-01\", \"region\": \"Antofagasta\", \"fallecidos\": 0, \"codigo region\": 2}, {\"date\": \"2020-04-01\", \"region\": \"Atacama\", \"fallecidos\": 0, \"codigo region\": 3}, {\"date\": \"2020-04-01\", \"region\": \"Coquimbo\", \"fallecidos\": 0, \"codigo region\": 4}, {\"date\": \"2020-04-01\", \"region\": \"Valpara\\u00edso\", \"fallecidos\": 1, \"codigo region\": 5}, {\"date\": \"2020-04-01\", \"region\": \"Metropolitana\", \"fallecidos\": 5, \"codigo region\": 6}, {\"date\": \"2020-04-01\", \"region\": \"O\\u2019Higgins\", \"fallecidos\": 0, \"codigo region\": 7}, {\"date\": \"2020-04-01\", \"region\": \"Maule\", \"fallecidos\": 1, \"codigo region\": 8}, {\"date\": \"2020-04-01\", \"region\": \"\\u00d1uble\", \"fallecidos\": 0, \"codigo region\": 9}, {\"date\": \"2020-04-01\", \"region\": \"Biob\\u00edo\", \"fallecidos\": 2, \"codigo region\": 10}, {\"date\": \"2020-04-01\", \"region\": \"Araucan\\u00eda\", \"fallecidos\": 6, \"codigo region\": 11}, {\"date\": \"2020-04-01\", \"region\": \"Los R\\u00edos\", \"fallecidos\": 1, \"codigo region\": 12}, {\"date\": \"2020-04-01\", \"region\": \"Los Lagos\", \"fallecidos\": 0, \"codigo region\": 13}, {\"date\": \"2020-04-01\", \"region\": \"Ays\\u00e9n\", \"fallecidos\": 0, \"codigo region\": 14}, {\"date\": \"2020-04-01\", \"region\": \"Magallanes\", \"fallecidos\": 0, \"codigo region\": 15}, {\"date\": \"2020-04-02\", \"region\": \"Arica y Parinacota\", \"fallecidos\": 0, \"codigo region\": 0}, {\"date\": \"2020-04-02\", \"region\": \"Tarapac\\u00e1\", \"fallecidos\": 0, \"codigo region\": 1}, {\"date\": \"2020-04-02\", \"region\": \"Antofagasta\", \"fallecidos\": 0, \"codigo region\": 2}, {\"date\": \"2020-04-02\", \"region\": \"Atacama\", \"fallecidos\": 0, \"codigo region\": 3}, {\"date\": \"2020-04-02\", \"region\": \"Coquimbo\", \"fallecidos\": 0, \"codigo region\": 4}, {\"date\": \"2020-04-02\", \"region\": \"Valpara\\u00edso\", \"fallecidos\": 1, \"codigo region\": 5}, {\"date\": \"2020-04-02\", \"region\": \"Metropolitana\", \"fallecidos\": 6, \"codigo region\": 6}, {\"date\": \"2020-04-02\", \"region\": \"O\\u2019Higgins\", \"fallecidos\": 0, \"codigo region\": 7}, {\"date\": \"2020-04-02\", \"region\": \"Maule\", \"fallecidos\": 1, \"codigo region\": 8}, {\"date\": \"2020-04-02\", \"region\": \"\\u00d1uble\", \"fallecidos\": 0, \"codigo region\": 9}, {\"date\": \"2020-04-02\", \"region\": \"Biob\\u00edo\", \"fallecidos\": 2, \"codigo region\": 10}, {\"date\": \"2020-04-02\", \"region\": \"Araucan\\u00eda\", \"fallecidos\": 7, \"codigo region\": 11}, {\"date\": \"2020-04-02\", \"region\": \"Los R\\u00edos\", \"fallecidos\": 1, \"codigo region\": 12}, {\"date\": \"2020-04-02\", \"region\": \"Los Lagos\", \"fallecidos\": 0, \"codigo region\": 13}, {\"date\": \"2020-04-02\", \"region\": \"Ays\\u00e9n\", \"fallecidos\": 0, \"codigo region\": 14}, {\"date\": \"2020-04-02\", \"region\": \"Magallanes\", \"fallecidos\": 0, \"codigo region\": 15}, {\"date\": \"2020-04-03\", \"region\": \"Arica y Parinacota\", \"fallecidos\": 0, \"codigo region\": 0}, {\"date\": \"2020-04-03\", \"region\": \"Tarapac\\u00e1\", \"fallecidos\": 0, \"codigo region\": 1}, {\"date\": \"2020-04-03\", \"region\": \"Antofagasta\", \"fallecidos\": 0, \"codigo region\": 2}, {\"date\": \"2020-04-03\", \"region\": \"Atacama\", \"fallecidos\": 0, \"codigo region\": 3}, {\"date\": \"2020-04-03\", \"region\": \"Coquimbo\", \"fallecidos\": 0, \"codigo region\": 4}, {\"date\": \"2020-04-03\", \"region\": \"Valpara\\u00edso\", \"fallecidos\": 1, \"codigo region\": 5}, {\"date\": \"2020-04-03\", \"region\": \"Metropolitana\", \"fallecidos\": 8, \"codigo region\": 6}, {\"date\": \"2020-04-03\", \"region\": \"O\\u2019Higgins\", \"fallecidos\": 0, \"codigo region\": 7}, {\"date\": \"2020-04-03\", \"region\": \"Maule\", \"fallecidos\": 1, \"codigo region\": 8}, {\"date\": \"2020-04-03\", \"region\": \"\\u00d1uble\", \"fallecidos\": 1, \"codigo region\": 9}, {\"date\": \"2020-04-03\", \"region\": \"Biob\\u00edo\", \"fallecidos\": 2, \"codigo region\": 10}, {\"date\": \"2020-04-03\", \"region\": \"Araucan\\u00eda\", \"fallecidos\": 7, \"codigo region\": 11}, {\"date\": \"2020-04-03\", \"region\": \"Los R\\u00edos\", \"fallecidos\": 1, \"codigo region\": 12}, {\"date\": \"2020-04-03\", \"region\": \"Los Lagos\", \"fallecidos\": 0, \"codigo region\": 13}, {\"date\": \"2020-04-03\", \"region\": \"Ays\\u00e9n\", \"fallecidos\": 0, \"codigo region\": 14}, {\"date\": \"2020-04-03\", \"region\": \"Magallanes\", \"fallecidos\": 1, \"codigo region\": 15}, {\"date\": \"2020-04-04\", \"region\": \"Arica y Parinacota\", \"fallecidos\": 0, \"codigo region\": 0}, {\"date\": \"2020-04-04\", \"region\": \"Tarapac\\u00e1\", \"fallecidos\": 0, \"codigo region\": 1}, {\"date\": \"2020-04-04\", \"region\": \"Antofagasta\", \"fallecidos\": 0, \"codigo region\": 2}, {\"date\": \"2020-04-04\", \"region\": \"Atacama\", \"fallecidos\": 0, \"codigo region\": 3}, {\"date\": \"2020-04-04\", \"region\": \"Coquimbo\", \"fallecidos\": 0, \"codigo region\": 4}, {\"date\": \"2020-04-04\", \"region\": \"Valpara\\u00edso\", \"fallecidos\": 1, \"codigo region\": 5}, {\"date\": \"2020-04-04\", \"region\": \"Metropolitana\", \"fallecidos\": 9, \"codigo region\": 6}, {\"date\": \"2020-04-04\", \"region\": \"O\\u2019Higgins\", \"fallecidos\": 0, \"codigo region\": 7}, {\"date\": \"2020-04-04\", \"region\": \"Maule\", \"fallecidos\": 1, \"codigo region\": 8}, {\"date\": \"2020-04-04\", \"region\": \"\\u00d1uble\", \"fallecidos\": 2, \"codigo region\": 9}, {\"date\": \"2020-04-04\", \"region\": \"Biob\\u00edo\", \"fallecidos\": 2, \"codigo region\": 10}, {\"date\": \"2020-04-04\", \"region\": \"Araucan\\u00eda\", \"fallecidos\": 9, \"codigo region\": 11}, {\"date\": \"2020-04-04\", \"region\": \"Los R\\u00edos\", \"fallecidos\": 1, \"codigo region\": 12}, {\"date\": \"2020-04-04\", \"region\": \"Los Lagos\", \"fallecidos\": 0, \"codigo region\": 13}, {\"date\": \"2020-04-04\", \"region\": \"Ays\\u00e9n\", \"fallecidos\": 0, \"codigo region\": 14}, {\"date\": \"2020-04-04\", \"region\": \"Magallanes\", \"fallecidos\": 2, \"codigo region\": 15}, {\"date\": \"2020-04-05\", \"region\": \"Arica y Parinacota\", \"fallecidos\": 0, \"codigo region\": 0}, {\"date\": \"2020-04-05\", \"region\": \"Tarapac\\u00e1\", \"fallecidos\": 0, \"codigo region\": 1}, {\"date\": \"2020-04-05\", \"region\": \"Antofagasta\", \"fallecidos\": 0, \"codigo region\": 2}, {\"date\": \"2020-04-05\", \"region\": \"Atacama\", \"fallecidos\": 0, \"codigo region\": 3}, {\"date\": \"2020-04-05\", \"region\": \"Coquimbo\", \"fallecidos\": 0, \"codigo region\": 4}, {\"date\": \"2020-04-05\", \"region\": \"Valpara\\u00edso\", \"fallecidos\": 1, \"codigo region\": 5}, {\"date\": \"2020-04-05\", \"region\": \"Metropolitana\", \"fallecidos\": 10, \"codigo region\": 6}, {\"date\": \"2020-04-05\", \"region\": \"O\\u2019Higgins\", \"fallecidos\": 0, \"codigo region\": 7}, {\"date\": \"2020-04-05\", \"region\": \"Maule\", \"fallecidos\": 1, \"codigo region\": 8}, {\"date\": \"2020-04-05\", \"region\": \"\\u00d1uble\", \"fallecidos\": 3, \"codigo region\": 9}, {\"date\": \"2020-04-05\", \"region\": \"Biob\\u00edo\", \"fallecidos\": 2, \"codigo region\": 10}, {\"date\": \"2020-04-05\", \"region\": \"Araucan\\u00eda\", \"fallecidos\": 13, \"codigo region\": 11}, {\"date\": \"2020-04-05\", \"region\": \"Los R\\u00edos\", \"fallecidos\": 1, \"codigo region\": 12}, {\"date\": \"2020-04-05\", \"region\": \"Los Lagos\", \"fallecidos\": 1, \"codigo region\": 13}, {\"date\": \"2020-04-05\", \"region\": \"Ays\\u00e9n\", \"fallecidos\": 0, \"codigo region\": 14}, {\"date\": \"2020-04-05\", \"region\": \"Magallanes\", \"fallecidos\": 2, \"codigo region\": 15}, {\"date\": \"2020-04-06\", \"region\": \"Arica y Parinacota\", \"fallecidos\": 0, \"codigo region\": 0}, {\"date\": \"2020-04-06\", \"region\": \"Tarapac\\u00e1\", \"fallecidos\": 0, \"codigo region\": 1}, {\"date\": \"2020-04-06\", \"region\": \"Antofagasta\", \"fallecidos\": 0, \"codigo region\": 2}, {\"date\": \"2020-04-06\", \"region\": \"Atacama\", \"fallecidos\": 0, \"codigo region\": 3}, {\"date\": \"2020-04-06\", \"region\": \"Coquimbo\", \"fallecidos\": 0, \"codigo region\": 4}, {\"date\": \"2020-04-06\", \"region\": \"Valpara\\u00edso\", \"fallecidos\": 1, \"codigo region\": 5}, {\"date\": \"2020-04-06\", \"region\": \"Metropolitana\", \"fallecidos\": 10, \"codigo region\": 6}, {\"date\": \"2020-04-06\", \"region\": \"O\\u2019Higgins\", \"fallecidos\": 0, \"codigo region\": 7}, {\"date\": \"2020-04-06\", \"region\": \"Maule\", \"fallecidos\": 1, \"codigo region\": 8}, {\"date\": \"2020-04-06\", \"region\": \"\\u00d1uble\", \"fallecidos\": 4, \"codigo region\": 9}, {\"date\": \"2020-04-06\", \"region\": \"Biob\\u00edo\", \"fallecidos\": 2, \"codigo region\": 10}, {\"date\": \"2020-04-06\", \"region\": \"Araucan\\u00eda\", \"fallecidos\": 14, \"codigo region\": 11}, {\"date\": \"2020-04-06\", \"region\": \"Los R\\u00edos\", \"fallecidos\": 1, \"codigo region\": 12}, {\"date\": \"2020-04-06\", \"region\": \"Los Lagos\", \"fallecidos\": 2, \"codigo region\": 13}, {\"date\": \"2020-04-06\", \"region\": \"Ays\\u00e9n\", \"fallecidos\": 0, \"codigo region\": 14}, {\"date\": \"2020-04-06\", \"region\": \"Magallanes\", \"fallecidos\": 2, \"codigo region\": 15}, {\"date\": \"2020-04-07\", \"region\": \"Arica y Parinacota\", \"fallecidos\": 0, \"codigo region\": 0}, {\"date\": \"2020-04-07\", \"region\": \"Tarapac\\u00e1\", \"fallecidos\": 0, \"codigo region\": 1}, {\"date\": \"2020-04-07\", \"region\": \"Antofagasta\", \"fallecidos\": 1, \"codigo region\": 2}, {\"date\": \"2020-04-07\", \"region\": \"Atacama\", \"fallecidos\": 0, \"codigo region\": 3}, {\"date\": \"2020-04-07\", \"region\": \"Coquimbo\", \"fallecidos\": 0, \"codigo region\": 4}, {\"date\": \"2020-04-07\", \"region\": \"Valpara\\u00edso\", \"fallecidos\": 1, \"codigo region\": 5}, {\"date\": \"2020-04-07\", \"region\": \"Metropolitana\", \"fallecidos\": 12, \"codigo region\": 6}, {\"date\": \"2020-04-07\", \"region\": \"O\\u2019Higgins\", \"fallecidos\": 0, \"codigo region\": 7}, {\"date\": \"2020-04-07\", \"region\": \"Maule\", \"fallecidos\": 2, \"codigo region\": 8}, {\"date\": \"2020-04-07\", \"region\": \"\\u00d1uble\", \"fallecidos\": 5, \"codigo region\": 9}, {\"date\": \"2020-04-07\", \"region\": \"Biob\\u00edo\", \"fallecidos\": 2, \"codigo region\": 10}, {\"date\": \"2020-04-07\", \"region\": \"Araucan\\u00eda\", \"fallecidos\": 14, \"codigo region\": 11}, {\"date\": \"2020-04-07\", \"region\": \"Los R\\u00edos\", \"fallecidos\": 2, \"codigo region\": 12}, {\"date\": \"2020-04-07\", \"region\": \"Los Lagos\", \"fallecidos\": 2, \"codigo region\": 13}, {\"date\": \"2020-04-07\", \"region\": \"Ays\\u00e9n\", \"fallecidos\": 0, \"codigo region\": 14}, {\"date\": \"2020-04-07\", \"region\": \"Magallanes\", \"fallecidos\": 2, \"codigo region\": 15}, {\"date\": \"2020-04-08\", \"region\": \"Arica y Parinacota\", \"fallecidos\": 0, \"codigo region\": 0}, {\"date\": \"2020-04-08\", \"region\": \"Tarapac\\u00e1\", \"fallecidos\": 0, \"codigo region\": 1}, {\"date\": \"2020-04-08\", \"region\": \"Antofagasta\", \"fallecidos\": 1, \"codigo region\": 2}, {\"date\": \"2020-04-08\", \"region\": \"Atacama\", \"fallecidos\": 0, \"codigo region\": 3}, {\"date\": \"2020-04-08\", \"region\": \"Coquimbo\", \"fallecidos\": 0, \"codigo region\": 4}, {\"date\": \"2020-04-08\", \"region\": \"Valpara\\u00edso\", \"fallecidos\": 2, \"codigo region\": 5}, {\"date\": \"2020-04-08\", \"region\": \"Metropolitana\", \"fallecidos\": 14, \"codigo region\": 6}, {\"date\": \"2020-04-08\", \"region\": \"O\\u2019Higgins\", \"fallecidos\": 0, \"codigo region\": 7}, {\"date\": \"2020-04-08\", \"region\": \"Maule\", \"fallecidos\": 2, \"codigo region\": 8}, {\"date\": \"2020-04-08\", \"region\": \"\\u00d1uble\", \"fallecidos\": 5, \"codigo region\": 9}, {\"date\": \"2020-04-08\", \"region\": \"Biob\\u00edo\", \"fallecidos\": 2, \"codigo region\": 10}, {\"date\": \"2020-04-08\", \"region\": \"Araucan\\u00eda\", \"fallecidos\": 15, \"codigo region\": 11}, {\"date\": \"2020-04-08\", \"region\": \"Los R\\u00edos\", \"fallecidos\": 2, \"codigo region\": 12}, {\"date\": \"2020-04-08\", \"region\": \"Los Lagos\", \"fallecidos\": 2, \"codigo region\": 13}, {\"date\": \"2020-04-08\", \"region\": \"Ays\\u00e9n\", \"fallecidos\": 0, \"codigo region\": 14}, {\"date\": \"2020-04-08\", \"region\": \"Magallanes\", \"fallecidos\": 3, \"codigo region\": 15}, {\"date\": \"2020-04-09\", \"region\": \"Arica y Parinacota\", \"fallecidos\": 0, \"codigo region\": 0}, {\"date\": \"2020-04-09\", \"region\": \"Tarapac\\u00e1\", \"fallecidos\": 0, \"codigo region\": 1}, {\"date\": \"2020-04-09\", \"region\": \"Antofagasta\", \"fallecidos\": 1, \"codigo region\": 2}, {\"date\": \"2020-04-09\", \"region\": \"Atacama\", \"fallecidos\": 0, \"codigo region\": 3}, {\"date\": \"2020-04-09\", \"region\": \"Coquimbo\", \"fallecidos\": 0, \"codigo region\": 4}, {\"date\": \"2020-04-09\", \"region\": \"Valpara\\u00edso\", \"fallecidos\": 2, \"codigo region\": 5}, {\"date\": \"2020-04-09\", \"region\": \"Metropolitana\", \"fallecidos\": 21, \"codigo region\": 6}, {\"date\": \"2020-04-09\", \"region\": \"O\\u2019Higgins\", \"fallecidos\": 0, \"codigo region\": 7}, {\"date\": \"2020-04-09\", \"region\": \"Maule\", \"fallecidos\": 2, \"codigo region\": 8}, {\"date\": \"2020-04-09\", \"region\": \"\\u00d1uble\", \"fallecidos\": 6, \"codigo region\": 9}, {\"date\": \"2020-04-09\", \"region\": \"Biob\\u00edo\", \"fallecidos\": 2, \"codigo region\": 10}, {\"date\": \"2020-04-09\", \"region\": \"Araucan\\u00eda\", \"fallecidos\": 16, \"codigo region\": 11}, {\"date\": \"2020-04-09\", \"region\": \"Los R\\u00edos\", \"fallecidos\": 2, \"codigo region\": 12}, {\"date\": \"2020-04-09\", \"region\": \"Los Lagos\", \"fallecidos\": 2, \"codigo region\": 13}, {\"date\": \"2020-04-09\", \"region\": \"Ays\\u00e9n\", \"fallecidos\": 0, \"codigo region\": 14}, {\"date\": \"2020-04-09\", \"region\": \"Magallanes\", \"fallecidos\": 3, \"codigo region\": 15}, {\"date\": \"2020-04-10\", \"region\": \"Arica y Parinacota\", \"fallecidos\": 0, \"codigo region\": 0}, {\"date\": \"2020-04-10\", \"region\": \"Tarapac\\u00e1\", \"fallecidos\": 0, \"codigo region\": 1}, {\"date\": \"2020-04-10\", \"region\": \"Antofagasta\", \"fallecidos\": 1, \"codigo region\": 2}, {\"date\": \"2020-04-10\", \"region\": \"Atacama\", \"fallecidos\": 0, \"codigo region\": 3}, {\"date\": \"2020-04-10\", \"region\": \"Coquimbo\", \"fallecidos\": 0, \"codigo region\": 4}, {\"date\": \"2020-04-10\", \"region\": \"Valpara\\u00edso\", \"fallecidos\": 2, \"codigo region\": 5}, {\"date\": \"2020-04-10\", \"region\": \"Metropolitana\", \"fallecidos\": 29, \"codigo region\": 6}, {\"date\": \"2020-04-10\", \"region\": \"O\\u2019Higgins\", \"fallecidos\": 0, \"codigo region\": 7}, {\"date\": \"2020-04-10\", \"region\": \"Maule\", \"fallecidos\": 2, \"codigo region\": 8}, {\"date\": \"2020-04-10\", \"region\": \"\\u00d1uble\", \"fallecidos\": 6, \"codigo region\": 9}, {\"date\": \"2020-04-10\", \"region\": \"Biob\\u00edo\", \"fallecidos\": 2, \"codigo region\": 10}, {\"date\": \"2020-04-10\", \"region\": \"Araucan\\u00eda\", \"fallecidos\": 16, \"codigo region\": 11}, {\"date\": \"2020-04-10\", \"region\": \"Los R\\u00edos\", \"fallecidos\": 2, \"codigo region\": 12}, {\"date\": \"2020-04-10\", \"region\": \"Los Lagos\", \"fallecidos\": 2, \"codigo region\": 13}, {\"date\": \"2020-04-10\", \"region\": \"Ays\\u00e9n\", \"fallecidos\": 0, \"codigo region\": 14}, {\"date\": \"2020-04-10\", \"region\": \"Magallanes\", \"fallecidos\": 3, \"codigo region\": 15}, {\"date\": \"2020-04-11\", \"region\": \"Arica y Parinacota\", \"fallecidos\": 0, \"codigo region\": 0}, {\"date\": \"2020-04-11\", \"region\": \"Tarapac\\u00e1\", \"fallecidos\": 0, \"codigo region\": 1}, {\"date\": \"2020-04-11\", \"region\": \"Antofagasta\", \"fallecidos\": 1, \"codigo region\": 2}, {\"date\": \"2020-04-11\", \"region\": \"Atacama\", \"fallecidos\": 0, \"codigo region\": 3}, {\"date\": \"2020-04-11\", \"region\": \"Coquimbo\", \"fallecidos\": 0, \"codigo region\": 4}, {\"date\": \"2020-04-11\", \"region\": \"Valpara\\u00edso\", \"fallecidos\": 2, \"codigo region\": 5}, {\"date\": \"2020-04-11\", \"region\": \"Metropolitana\", \"fallecidos\": 32, \"codigo region\": 6}, {\"date\": \"2020-04-11\", \"region\": \"O\\u2019Higgins\", \"fallecidos\": 0, \"codigo region\": 7}, {\"date\": \"2020-04-11\", \"region\": \"Maule\", \"fallecidos\": 3, \"codigo region\": 8}, {\"date\": \"2020-04-11\", \"region\": \"\\u00d1uble\", \"fallecidos\": 6, \"codigo region\": 9}, {\"date\": \"2020-04-11\", \"region\": \"Biob\\u00edo\", \"fallecidos\": 2, \"codigo region\": 10}, {\"date\": \"2020-04-11\", \"region\": \"Araucan\\u00eda\", \"fallecidos\": 17, \"codigo region\": 11}, {\"date\": \"2020-04-11\", \"region\": \"Los R\\u00edos\", \"fallecidos\": 2, \"codigo region\": 12}, {\"date\": \"2020-04-11\", \"region\": \"Los Lagos\", \"fallecidos\": 5, \"codigo region\": 13}, {\"date\": \"2020-04-11\", \"region\": \"Ays\\u00e9n\", \"fallecidos\": 0, \"codigo region\": 14}, {\"date\": \"2020-04-11\", \"region\": \"Magallanes\", \"fallecidos\": 3, \"codigo region\": 15}, {\"date\": \"2020-04-12\", \"region\": \"Arica y Parinacota\", \"fallecidos\": 1, \"codigo region\": 0}, {\"date\": \"2020-04-12\", \"region\": \"Tarapac\\u00e1\", \"fallecidos\": 0, \"codigo region\": 1}, {\"date\": \"2020-04-12\", \"region\": \"Antofagasta\", \"fallecidos\": 1, \"codigo region\": 2}, {\"date\": \"2020-04-12\", \"region\": \"Atacama\", \"fallecidos\": 0, \"codigo region\": 3}, {\"date\": \"2020-04-12\", \"region\": \"Coquimbo\", \"fallecidos\": 0, \"codigo region\": 4}, {\"date\": \"2020-04-12\", \"region\": \"Valpara\\u00edso\", \"fallecidos\": 2, \"codigo region\": 5}, {\"date\": \"2020-04-12\", \"region\": \"Metropolitana\", \"fallecidos\": 35, \"codigo region\": 6}, {\"date\": \"2020-04-12\", \"region\": \"O\\u2019Higgins\", \"fallecidos\": 0, \"codigo region\": 7}, {\"date\": \"2020-04-12\", \"region\": \"Maule\", \"fallecidos\": 3, \"codigo region\": 8}, {\"date\": \"2020-04-12\", \"region\": \"\\u00d1uble\", \"fallecidos\": 7, \"codigo region\": 9}, {\"date\": \"2020-04-12\", \"region\": \"Biob\\u00edo\", \"fallecidos\": 2, \"codigo region\": 10}, {\"date\": \"2020-04-12\", \"region\": \"Araucan\\u00eda\", \"fallecidos\": 17, \"codigo region\": 11}, {\"date\": \"2020-04-12\", \"region\": \"Los R\\u00edos\", \"fallecidos\": 3, \"codigo region\": 12}, {\"date\": \"2020-04-12\", \"region\": \"Los Lagos\", \"fallecidos\": 5, \"codigo region\": 13}, {\"date\": \"2020-04-12\", \"region\": \"Ays\\u00e9n\", \"fallecidos\": 0, \"codigo region\": 14}, {\"date\": \"2020-04-12\", \"region\": \"Magallanes\", \"fallecidos\": 4, \"codigo region\": 15}, {\"date\": \"2020-04-13\", \"region\": \"Arica y Parinacota\", \"fallecidos\": 1, \"codigo region\": 0}, {\"date\": \"2020-04-13\", \"region\": \"Tarapac\\u00e1\", \"fallecidos\": 0, \"codigo region\": 1}, {\"date\": \"2020-04-13\", \"region\": \"Antofagasta\", \"fallecidos\": 1, \"codigo region\": 2}, {\"date\": \"2020-04-13\", \"region\": \"Atacama\", \"fallecidos\": 0, \"codigo region\": 3}, {\"date\": \"2020-04-13\", \"region\": \"Coquimbo\", \"fallecidos\": 0, \"codigo region\": 4}, {\"date\": \"2020-04-13\", \"region\": \"Valpara\\u00edso\", \"fallecidos\": 2, \"codigo region\": 5}, {\"date\": \"2020-04-13\", \"region\": \"Metropolitana\", \"fallecidos\": 36, \"codigo region\": 6}, {\"date\": \"2020-04-13\", \"region\": \"O\\u2019Higgins\", \"fallecidos\": 0, \"codigo region\": 7}, {\"date\": \"2020-04-13\", \"region\": \"Maule\", \"fallecidos\": 3, \"codigo region\": 8}, {\"date\": \"2020-04-13\", \"region\": \"\\u00d1uble\", \"fallecidos\": 7, \"codigo region\": 9}, {\"date\": \"2020-04-13\", \"region\": \"Biob\\u00edo\", \"fallecidos\": 2, \"codigo region\": 10}, {\"date\": \"2020-04-13\", \"region\": \"Araucan\\u00eda\", \"fallecidos\": 17, \"codigo region\": 11}, {\"date\": \"2020-04-13\", \"region\": \"Los R\\u00edos\", \"fallecidos\": 3, \"codigo region\": 12}, {\"date\": \"2020-04-13\", \"region\": \"Los Lagos\", \"fallecidos\": 5, \"codigo region\": 13}, {\"date\": \"2020-04-13\", \"region\": \"Ays\\u00e9n\", \"fallecidos\": 0, \"codigo region\": 14}, {\"date\": \"2020-04-13\", \"region\": \"Magallanes\", \"fallecidos\": 5, \"codigo region\": 15}, {\"date\": \"2020-04-14\", \"region\": \"Arica y Parinacota\", \"fallecidos\": 1, \"codigo region\": 0}, {\"date\": \"2020-04-14\", \"region\": \"Tarapac\\u00e1\", \"fallecidos\": 0, \"codigo region\": 1}, {\"date\": \"2020-04-14\", \"region\": \"Antofagasta\", \"fallecidos\": 1, \"codigo region\": 2}, {\"date\": \"2020-04-14\", \"region\": \"Atacama\", \"fallecidos\": 0, \"codigo region\": 3}, {\"date\": \"2020-04-14\", \"region\": \"Coquimbo\", \"fallecidos\": 0, \"codigo region\": 4}, {\"date\": \"2020-04-14\", \"region\": \"Valpara\\u00edso\", \"fallecidos\": 2, \"codigo region\": 5}, {\"date\": \"2020-04-14\", \"region\": \"Metropolitana\", \"fallecidos\": 40, \"codigo region\": 6}, {\"date\": \"2020-04-14\", \"region\": \"O\\u2019Higgins\", \"fallecidos\": 0, \"codigo region\": 7}, {\"date\": \"2020-04-14\", \"region\": \"Maule\", \"fallecidos\": 4, \"codigo region\": 8}, {\"date\": \"2020-04-14\", \"region\": \"\\u00d1uble\", \"fallecidos\": 8, \"codigo region\": 9}, {\"date\": \"2020-04-14\", \"region\": \"Biob\\u00edo\", \"fallecidos\": 2, \"codigo region\": 10}, {\"date\": \"2020-04-14\", \"region\": \"Araucan\\u00eda\", \"fallecidos\": 20, \"codigo region\": 11}, {\"date\": \"2020-04-14\", \"region\": \"Los R\\u00edos\", \"fallecidos\": 3, \"codigo region\": 12}, {\"date\": \"2020-04-14\", \"region\": \"Los Lagos\", \"fallecidos\": 5, \"codigo region\": 13}, {\"date\": \"2020-04-14\", \"region\": \"Ays\\u00e9n\", \"fallecidos\": 0, \"codigo region\": 14}, {\"date\": \"2020-04-14\", \"region\": \"Magallanes\", \"fallecidos\": 6, \"codigo region\": 15}, {\"date\": \"2020-04-15\", \"region\": \"Arica y Parinacota\", \"fallecidos\": 1, \"codigo region\": 0}, {\"date\": \"2020-04-15\", \"region\": \"Tarapac\\u00e1\", \"fallecidos\": 0, \"codigo region\": 1}, {\"date\": \"2020-04-15\", \"region\": \"Antofagasta\", \"fallecidos\": 1, \"codigo region\": 2}, {\"date\": \"2020-04-15\", \"region\": \"Atacama\", \"fallecidos\": 0, \"codigo region\": 3}, {\"date\": \"2020-04-15\", \"region\": \"Coquimbo\", \"fallecidos\": 0, \"codigo region\": 4}, {\"date\": \"2020-04-15\", \"region\": \"Valpara\\u00edso\", \"fallecidos\": 2, \"codigo region\": 5}, {\"date\": \"2020-04-15\", \"region\": \"Metropolitana\", \"fallecidos\": 41, \"codigo region\": 6}, {\"date\": \"2020-04-15\", \"region\": \"O\\u2019Higgins\", \"fallecidos\": 0, \"codigo region\": 7}, {\"date\": \"2020-04-15\", \"region\": \"Maule\", \"fallecidos\": 4, \"codigo region\": 8}, {\"date\": \"2020-04-15\", \"region\": \"\\u00d1uble\", \"fallecidos\": 8, \"codigo region\": 9}, {\"date\": \"2020-04-15\", \"region\": \"Biob\\u00edo\", \"fallecidos\": 2, \"codigo region\": 10}, {\"date\": \"2020-04-15\", \"region\": \"Araucan\\u00eda\", \"fallecidos\": 21, \"codigo region\": 11}, {\"date\": \"2020-04-15\", \"region\": \"Los R\\u00edos\", \"fallecidos\": 3, \"codigo region\": 12}, {\"date\": \"2020-04-15\", \"region\": \"Los Lagos\", \"fallecidos\": 5, \"codigo region\": 13}, {\"date\": \"2020-04-15\", \"region\": \"Ays\\u00e9n\", \"fallecidos\": 0, \"codigo region\": 14}, {\"date\": \"2020-04-15\", \"region\": \"Magallanes\", \"fallecidos\": 6, \"codigo region\": 15}, {\"date\": \"2020-04-16\", \"region\": \"Arica y Parinacota\", \"fallecidos\": 1, \"codigo region\": 0}, {\"date\": \"2020-04-16\", \"region\": \"Tarapac\\u00e1\", \"fallecidos\": 0, \"codigo region\": 1}, {\"date\": \"2020-04-16\", \"region\": \"Antofagasta\", \"fallecidos\": 1, \"codigo region\": 2}, {\"date\": \"2020-04-16\", \"region\": \"Atacama\", \"fallecidos\": 0, \"codigo region\": 3}, {\"date\": \"2020-04-16\", \"region\": \"Coquimbo\", \"fallecidos\": 0, \"codigo region\": 4}, {\"date\": \"2020-04-16\", \"region\": \"Valpara\\u00edso\", \"fallecidos\": 4, \"codigo region\": 5}, {\"date\": \"2020-04-16\", \"region\": \"Metropolitana\", \"fallecidos\": 48, \"codigo region\": 6}, {\"date\": \"2020-04-16\", \"region\": \"O\\u2019Higgins\", \"fallecidos\": 0, \"codigo region\": 7}, {\"date\": \"2020-04-16\", \"region\": \"Maule\", \"fallecidos\": 4, \"codigo region\": 8}, {\"date\": \"2020-04-16\", \"region\": \"\\u00d1uble\", \"fallecidos\": 10, \"codigo region\": 9}, {\"date\": \"2020-04-16\", \"region\": \"Biob\\u00edo\", \"fallecidos\": 2, \"codigo region\": 10}, {\"date\": \"2020-04-16\", \"region\": \"Araucan\\u00eda\", \"fallecidos\": 21, \"codigo region\": 11}, {\"date\": \"2020-04-16\", \"region\": \"Los R\\u00edos\", \"fallecidos\": 3, \"codigo region\": 12}, {\"date\": \"2020-04-16\", \"region\": \"Los Lagos\", \"fallecidos\": 5, \"codigo region\": 13}, {\"date\": \"2020-04-16\", \"region\": \"Ays\\u00e9n\", \"fallecidos\": 0, \"codigo region\": 14}, {\"date\": \"2020-04-16\", \"region\": \"Magallanes\", \"fallecidos\": 6, \"codigo region\": 15}, {\"date\": \"2020-04-17\", \"region\": \"Arica y Parinacota\", \"fallecidos\": 2, \"codigo region\": 0}, {\"date\": \"2020-04-17\", \"region\": \"Tarapac\\u00e1\", \"fallecidos\": 0, \"codigo region\": 1}, {\"date\": \"2020-04-17\", \"region\": \"Antofagasta\", \"fallecidos\": 1, \"codigo region\": 2}, {\"date\": \"2020-04-17\", \"region\": \"Atacama\", \"fallecidos\": 0, \"codigo region\": 3}, {\"date\": \"2020-04-17\", \"region\": \"Coquimbo\", \"fallecidos\": 0, \"codigo region\": 4}, {\"date\": \"2020-04-17\", \"region\": \"Valpara\\u00edso\", \"fallecidos\": 4, \"codigo region\": 5}, {\"date\": \"2020-04-17\", \"region\": \"Metropolitana\", \"fallecidos\": 51, \"codigo region\": 6}, {\"date\": \"2020-04-17\", \"region\": \"O\\u2019Higgins\", \"fallecidos\": 0, \"codigo region\": 7}, {\"date\": \"2020-04-17\", \"region\": \"Maule\", \"fallecidos\": 7, \"codigo region\": 8}, {\"date\": \"2020-04-17\", \"region\": \"\\u00d1uble\", \"fallecidos\": 11, \"codigo region\": 9}, {\"date\": \"2020-04-17\", \"region\": \"Biob\\u00edo\", \"fallecidos\": 3, \"codigo region\": 10}, {\"date\": \"2020-04-17\", \"region\": \"Araucan\\u00eda\", \"fallecidos\": 22, \"codigo region\": 11}, {\"date\": \"2020-04-17\", \"region\": \"Los R\\u00edos\", \"fallecidos\": 3, \"codigo region\": 12}, {\"date\": \"2020-04-17\", \"region\": \"Los Lagos\", \"fallecidos\": 6, \"codigo region\": 13}, {\"date\": \"2020-04-17\", \"region\": \"Ays\\u00e9n\", \"fallecidos\": 0, \"codigo region\": 14}, {\"date\": \"2020-04-17\", \"region\": \"Magallanes\", \"fallecidos\": 6, \"codigo region\": 15}, {\"date\": \"2020-04-18\", \"region\": \"Arica y Parinacota\", \"fallecidos\": 2, \"codigo region\": 0}, {\"date\": \"2020-04-18\", \"region\": \"Tarapac\\u00e1\", \"fallecidos\": 0, \"codigo region\": 1}, {\"date\": \"2020-04-18\", \"region\": \"Antofagasta\", \"fallecidos\": 1, \"codigo region\": 2}, {\"date\": \"2020-04-18\", \"region\": \"Atacama\", \"fallecidos\": 0, \"codigo region\": 3}, {\"date\": \"2020-04-18\", \"region\": \"Coquimbo\", \"fallecidos\": 0, \"codigo region\": 4}, {\"date\": \"2020-04-18\", \"region\": \"Valpara\\u00edso\", \"fallecidos\": 4, \"codigo region\": 5}, {\"date\": \"2020-04-18\", \"region\": \"Metropolitana\", \"fallecidos\": 58, \"codigo region\": 6}, {\"date\": \"2020-04-18\", \"region\": \"O\\u2019Higgins\", \"fallecidos\": 0, \"codigo region\": 7}, {\"date\": \"2020-04-18\", \"region\": \"Maule\", \"fallecidos\": 8, \"codigo region\": 8}, {\"date\": \"2020-04-18\", \"region\": \"\\u00d1uble\", \"fallecidos\": 12, \"codigo region\": 9}, {\"date\": \"2020-04-18\", \"region\": \"Biob\\u00edo\", \"fallecidos\": 3, \"codigo region\": 10}, {\"date\": \"2020-04-18\", \"region\": \"Araucan\\u00eda\", \"fallecidos\": 23, \"codigo region\": 11}, {\"date\": \"2020-04-18\", \"region\": \"Los R\\u00edos\", \"fallecidos\": 3, \"codigo region\": 12}, {\"date\": \"2020-04-18\", \"region\": \"Los Lagos\", \"fallecidos\": 6, \"codigo region\": 13}, {\"date\": \"2020-04-18\", \"region\": \"Ays\\u00e9n\", \"fallecidos\": 0, \"codigo region\": 14}, {\"date\": \"2020-04-18\", \"region\": \"Magallanes\", \"fallecidos\": 6, \"codigo region\": 15}, {\"date\": \"2020-04-19\", \"region\": \"Arica y Parinacota\", \"fallecidos\": 2, \"codigo region\": 0}, {\"date\": \"2020-04-19\", \"region\": \"Tarapac\\u00e1\", \"fallecidos\": 0, \"codigo region\": 1}, {\"date\": \"2020-04-19\", \"region\": \"Antofagasta\", \"fallecidos\": 1, \"codigo region\": 2}, {\"date\": \"2020-04-19\", \"region\": \"Atacama\", \"fallecidos\": 0, \"codigo region\": 3}, {\"date\": \"2020-04-19\", \"region\": \"Coquimbo\", \"fallecidos\": 0, \"codigo region\": 4}, {\"date\": \"2020-04-19\", \"region\": \"Valpara\\u00edso\", \"fallecidos\": 5, \"codigo region\": 5}, {\"date\": \"2020-04-19\", \"region\": \"Metropolitana\", \"fallecidos\": 63, \"codigo region\": 6}, {\"date\": \"2020-04-19\", \"region\": \"O\\u2019Higgins\", \"fallecidos\": 0, \"codigo region\": 7}, {\"date\": \"2020-04-19\", \"region\": \"Maule\", \"fallecidos\": 8, \"codigo region\": 8}, {\"date\": \"2020-04-19\", \"region\": \"\\u00d1uble\", \"fallecidos\": 13, \"codigo region\": 9}, {\"date\": \"2020-04-19\", \"region\": \"Biob\\u00edo\", \"fallecidos\": 3, \"codigo region\": 10}, {\"date\": \"2020-04-19\", \"region\": \"Araucan\\u00eda\", \"fallecidos\": 23, \"codigo region\": 11}, {\"date\": \"2020-04-19\", \"region\": \"Los R\\u00edos\", \"fallecidos\": 3, \"codigo region\": 12}, {\"date\": \"2020-04-19\", \"region\": \"Los Lagos\", \"fallecidos\": 6, \"codigo region\": 13}, {\"date\": \"2020-04-19\", \"region\": \"Ays\\u00e9n\", \"fallecidos\": 0, \"codigo region\": 14}, {\"date\": \"2020-04-19\", \"region\": \"Magallanes\", \"fallecidos\": 6, \"codigo region\": 15}, {\"date\": \"2020-04-20\", \"region\": \"Arica y Parinacota\", \"fallecidos\": 2, \"codigo region\": 0}, {\"date\": \"2020-04-20\", \"region\": \"Tarapac\\u00e1\", \"fallecidos\": 0, \"codigo region\": 1}, {\"date\": \"2020-04-20\", \"region\": \"Antofagasta\", \"fallecidos\": 1, \"codigo region\": 2}, {\"date\": \"2020-04-20\", \"region\": \"Atacama\", \"fallecidos\": 0, \"codigo region\": 3}, {\"date\": \"2020-04-20\", \"region\": \"Coquimbo\", \"fallecidos\": 0, \"codigo region\": 4}, {\"date\": \"2020-04-20\", \"region\": \"Valpara\\u00edso\", \"fallecidos\": 5, \"codigo region\": 5}, {\"date\": \"2020-04-20\", \"region\": \"Metropolitana\", \"fallecidos\": 67, \"codigo region\": 6}, {\"date\": \"2020-04-20\", \"region\": \"O\\u2019Higgins\", \"fallecidos\": 0, \"codigo region\": 7}, {\"date\": \"2020-04-20\", \"region\": \"Maule\", \"fallecidos\": 10, \"codigo region\": 8}, {\"date\": \"2020-04-20\", \"region\": \"\\u00d1uble\", \"fallecidos\": 13, \"codigo region\": 9}, {\"date\": \"2020-04-20\", \"region\": \"Biob\\u00edo\", \"fallecidos\": 3, \"codigo region\": 10}, {\"date\": \"2020-04-20\", \"region\": \"Araucan\\u00eda\", \"fallecidos\": 23, \"codigo region\": 11}, {\"date\": \"2020-04-20\", \"region\": \"Los R\\u00edos\", \"fallecidos\": 3, \"codigo region\": 12}, {\"date\": \"2020-04-20\", \"region\": \"Los Lagos\", \"fallecidos\": 6, \"codigo region\": 13}, {\"date\": \"2020-04-20\", \"region\": \"Ays\\u00e9n\", \"fallecidos\": 0, \"codigo region\": 14}, {\"date\": \"2020-04-20\", \"region\": \"Magallanes\", \"fallecidos\": 6, \"codigo region\": 15}, {\"date\": \"2020-04-21\", \"region\": \"Arica y Parinacota\", \"fallecidos\": 2, \"codigo region\": 0}, {\"date\": \"2020-04-21\", \"region\": \"Tarapac\\u00e1\", \"fallecidos\": 0, \"codigo region\": 1}, {\"date\": \"2020-04-21\", \"region\": \"Antofagasta\", \"fallecidos\": 1, \"codigo region\": 2}, {\"date\": \"2020-04-21\", \"region\": \"Atacama\", \"fallecidos\": 0, \"codigo region\": 3}, {\"date\": \"2020-04-21\", \"region\": \"Coquimbo\", \"fallecidos\": 0, \"codigo region\": 4}, {\"date\": \"2020-04-21\", \"region\": \"Valpara\\u00edso\", \"fallecidos\": 6, \"codigo region\": 5}, {\"date\": \"2020-04-21\", \"region\": \"Metropolitana\", \"fallecidos\": 69, \"codigo region\": 6}, {\"date\": \"2020-04-21\", \"region\": \"O\\u2019Higgins\", \"fallecidos\": 1, \"codigo region\": 7}, {\"date\": \"2020-04-21\", \"region\": \"Maule\", \"fallecidos\": 10, \"codigo region\": 8}, {\"date\": \"2020-04-21\", \"region\": \"\\u00d1uble\", \"fallecidos\": 13, \"codigo region\": 9}, {\"date\": \"2020-04-21\", \"region\": \"Biob\\u00edo\", \"fallecidos\": 4, \"codigo region\": 10}, {\"date\": \"2020-04-21\", \"region\": \"Araucan\\u00eda\", \"fallecidos\": 25, \"codigo region\": 11}, {\"date\": \"2020-04-21\", \"region\": \"Los R\\u00edos\", \"fallecidos\": 3, \"codigo region\": 12}, {\"date\": \"2020-04-21\", \"region\": \"Los Lagos\", \"fallecidos\": 6, \"codigo region\": 13}, {\"date\": \"2020-04-21\", \"region\": \"Ays\\u00e9n\", \"fallecidos\": 0, \"codigo region\": 14}, {\"date\": \"2020-04-21\", \"region\": \"Magallanes\", \"fallecidos\": 7, \"codigo region\": 15}, {\"date\": \"2020-04-22\", \"region\": \"Arica y Parinacota\", \"fallecidos\": 2, \"codigo region\": 0}, {\"date\": \"2020-04-22\", \"region\": \"Tarapac\\u00e1\", \"fallecidos\": 0, \"codigo region\": 1}, {\"date\": \"2020-04-22\", \"region\": \"Antofagasta\", \"fallecidos\": 2, \"codigo region\": 2}, {\"date\": \"2020-04-22\", \"region\": \"Atacama\", \"fallecidos\": 0, \"codigo region\": 3}, {\"date\": \"2020-04-22\", \"region\": \"Coquimbo\", \"fallecidos\": 0, \"codigo region\": 4}, {\"date\": \"2020-04-22\", \"region\": \"Valpara\\u00edso\", \"fallecidos\": 7, \"codigo region\": 5}, {\"date\": \"2020-04-22\", \"region\": \"Metropolitana\", \"fallecidos\": 78, \"codigo region\": 6}, {\"date\": \"2020-04-22\", \"region\": \"O\\u2019Higgins\", \"fallecidos\": 1, \"codigo region\": 7}, {\"date\": \"2020-04-22\", \"region\": \"Maule\", \"fallecidos\": 10, \"codigo region\": 8}, {\"date\": \"2020-04-22\", \"region\": \"\\u00d1uble\", \"fallecidos\": 13, \"codigo region\": 9}, {\"date\": \"2020-04-22\", \"region\": \"Biob\\u00edo\", \"fallecidos\": 5, \"codigo region\": 10}, {\"date\": \"2020-04-22\", \"region\": \"Araucan\\u00eda\", \"fallecidos\": 26, \"codigo region\": 11}, {\"date\": \"2020-04-22\", \"region\": \"Los R\\u00edos\", \"fallecidos\": 3, \"codigo region\": 12}, {\"date\": \"2020-04-22\", \"region\": \"Los Lagos\", \"fallecidos\": 6, \"codigo region\": 13}, {\"date\": \"2020-04-22\", \"region\": \"Ays\\u00e9n\", \"fallecidos\": 0, \"codigo region\": 14}, {\"date\": \"2020-04-22\", \"region\": \"Magallanes\", \"fallecidos\": 7, \"codigo region\": 15}, {\"date\": \"2020-04-23\", \"region\": \"Arica y Parinacota\", \"fallecidos\": 2, \"codigo region\": 0}, {\"date\": \"2020-04-23\", \"region\": \"Tarapac\\u00e1\", \"fallecidos\": 0, \"codigo region\": 1}, {\"date\": \"2020-04-23\", \"region\": \"Antofagasta\", \"fallecidos\": 2, \"codigo region\": 2}, {\"date\": \"2020-04-23\", \"region\": \"Atacama\", \"fallecidos\": 0, \"codigo region\": 3}, {\"date\": \"2020-04-23\", \"region\": \"Coquimbo\", \"fallecidos\": 0, \"codigo region\": 4}, {\"date\": \"2020-04-23\", \"region\": \"Valpara\\u00edso\", \"fallecidos\": 7, \"codigo region\": 5}, {\"date\": \"2020-04-23\", \"region\": \"Metropolitana\", \"fallecidos\": 85, \"codigo region\": 6}, {\"date\": \"2020-04-23\", \"region\": \"O\\u2019Higgins\", \"fallecidos\": 1, \"codigo region\": 7}, {\"date\": \"2020-04-23\", \"region\": \"Maule\", \"fallecidos\": 10, \"codigo region\": 8}, {\"date\": \"2020-04-23\", \"region\": \"\\u00d1uble\", \"fallecidos\": 13, \"codigo region\": 9}, {\"date\": \"2020-04-23\", \"region\": \"Biob\\u00edo\", \"fallecidos\": 5, \"codigo region\": 10}, {\"date\": \"2020-04-23\", \"region\": \"Araucan\\u00eda\", \"fallecidos\": 26, \"codigo region\": 11}, {\"date\": \"2020-04-23\", \"region\": \"Los R\\u00edos\", \"fallecidos\": 3, \"codigo region\": 12}, {\"date\": \"2020-04-23\", \"region\": \"Los Lagos\", \"fallecidos\": 7, \"codigo region\": 13}, {\"date\": \"2020-04-23\", \"region\": \"Ays\\u00e9n\", \"fallecidos\": 0, \"codigo region\": 14}, {\"date\": \"2020-04-23\", \"region\": \"Magallanes\", \"fallecidos\": 7, \"codigo region\": 15}, {\"date\": \"2020-04-24\", \"region\": \"Arica y Parinacota\", \"fallecidos\": 3, \"codigo region\": 0}, {\"date\": \"2020-04-24\", \"region\": \"Tarapac\\u00e1\", \"fallecidos\": 0, \"codigo region\": 1}, {\"date\": \"2020-04-24\", \"region\": \"Antofagasta\", \"fallecidos\": 2, \"codigo region\": 2}, {\"date\": \"2020-04-24\", \"region\": \"Atacama\", \"fallecidos\": 0, \"codigo region\": 3}, {\"date\": \"2020-04-24\", \"region\": \"Coquimbo\", \"fallecidos\": 0, \"codigo region\": 4}, {\"date\": \"2020-04-24\", \"region\": \"Valpara\\u00edso\", \"fallecidos\": 8, \"codigo region\": 5}, {\"date\": \"2020-04-24\", \"region\": \"Metropolitana\", \"fallecidos\": 86, \"codigo region\": 6}, {\"date\": \"2020-04-24\", \"region\": \"O\\u2019Higgins\", \"fallecidos\": 1, \"codigo region\": 7}, {\"date\": \"2020-04-24\", \"region\": \"Maule\", \"fallecidos\": 10, \"codigo region\": 8}, {\"date\": \"2020-04-24\", \"region\": \"\\u00d1uble\", \"fallecidos\": 14, \"codigo region\": 9}, {\"date\": \"2020-04-24\", \"region\": \"Biob\\u00edo\", \"fallecidos\": 5, \"codigo region\": 10}, {\"date\": \"2020-04-24\", \"region\": \"Araucan\\u00eda\", \"fallecidos\": 26, \"codigo region\": 11}, {\"date\": \"2020-04-24\", \"region\": \"Los R\\u00edos\", \"fallecidos\": 3, \"codigo region\": 12}, {\"date\": \"2020-04-24\", \"region\": \"Los Lagos\", \"fallecidos\": 8, \"codigo region\": 13}, {\"date\": \"2020-04-24\", \"region\": \"Ays\\u00e9n\", \"fallecidos\": 0, \"codigo region\": 14}, {\"date\": \"2020-04-24\", \"region\": \"Magallanes\", \"fallecidos\": 8, \"codigo region\": 15}, {\"date\": \"2020-04-25\", \"region\": \"Arica y Parinacota\", \"fallecidos\": 3, \"codigo region\": 0}, {\"date\": \"2020-04-25\", \"region\": \"Tarapac\\u00e1\", \"fallecidos\": 1, \"codigo region\": 1}, {\"date\": \"2020-04-25\", \"region\": \"Antofagasta\", \"fallecidos\": 3, \"codigo region\": 2}, {\"date\": \"2020-04-25\", \"region\": \"Atacama\", \"fallecidos\": 0, \"codigo region\": 3}, {\"date\": \"2020-04-25\", \"region\": \"Coquimbo\", \"fallecidos\": 0, \"codigo region\": 4}, {\"date\": \"2020-04-25\", \"region\": \"Valpara\\u00edso\", \"fallecidos\": 9, \"codigo region\": 5}, {\"date\": \"2020-04-25\", \"region\": \"Metropolitana\", \"fallecidos\": 89, \"codigo region\": 6}, {\"date\": \"2020-04-25\", \"region\": \"O\\u2019Higgins\", \"fallecidos\": 1, \"codigo region\": 7}, {\"date\": \"2020-04-25\", \"region\": \"Maule\", \"fallecidos\": 10, \"codigo region\": 8}, {\"date\": \"2020-04-25\", \"region\": \"\\u00d1uble\", \"fallecidos\": 14, \"codigo region\": 9}, {\"date\": \"2020-04-25\", \"region\": \"Biob\\u00edo\", \"fallecidos\": 5, \"codigo region\": 10}, {\"date\": \"2020-04-25\", \"region\": \"Araucan\\u00eda\", \"fallecidos\": 27, \"codigo region\": 11}, {\"date\": \"2020-04-25\", \"region\": \"Los R\\u00edos\", \"fallecidos\": 3, \"codigo region\": 12}, {\"date\": \"2020-04-25\", \"region\": \"Los Lagos\", \"fallecidos\": 8, \"codigo region\": 13}, {\"date\": \"2020-04-25\", \"region\": \"Ays\\u00e9n\", \"fallecidos\": 0, \"codigo region\": 14}, {\"date\": \"2020-04-25\", \"region\": \"Magallanes\", \"fallecidos\": 8, \"codigo region\": 15}, {\"date\": \"2020-04-26\", \"region\": \"Arica y Parinacota\", \"fallecidos\": 3, \"codigo region\": 0}, {\"date\": \"2020-04-26\", \"region\": \"Tarapac\\u00e1\", \"fallecidos\": 1, \"codigo region\": 1}, {\"date\": \"2020-04-26\", \"region\": \"Antofagasta\", \"fallecidos\": 4, \"codigo region\": 2}, {\"date\": \"2020-04-26\", \"region\": \"Atacama\", \"fallecidos\": 0, \"codigo region\": 3}, {\"date\": \"2020-04-26\", \"region\": \"Coquimbo\", \"fallecidos\": 0, \"codigo region\": 4}, {\"date\": \"2020-04-26\", \"region\": \"Valpara\\u00edso\", \"fallecidos\": 9, \"codigo region\": 5}, {\"date\": \"2020-04-26\", \"region\": \"Metropolitana\", \"fallecidos\": 91, \"codigo region\": 6}, {\"date\": \"2020-04-26\", \"region\": \"O\\u2019Higgins\", \"fallecidos\": 1, \"codigo region\": 7}, {\"date\": \"2020-04-26\", \"region\": \"Maule\", \"fallecidos\": 11, \"codigo region\": 8}, {\"date\": \"2020-04-26\", \"region\": \"\\u00d1uble\", \"fallecidos\": 14, \"codigo region\": 9}, {\"date\": \"2020-04-26\", \"region\": \"Biob\\u00edo\", \"fallecidos\": 6, \"codigo region\": 10}, {\"date\": \"2020-04-26\", \"region\": \"Araucan\\u00eda\", \"fallecidos\": 29, \"codigo region\": 11}, {\"date\": \"2020-04-26\", \"region\": \"Los R\\u00edos\", \"fallecidos\": 3, \"codigo region\": 12}, {\"date\": \"2020-04-26\", \"region\": \"Los Lagos\", \"fallecidos\": 8, \"codigo region\": 13}, {\"date\": \"2020-04-26\", \"region\": \"Ays\\u00e9n\", \"fallecidos\": 0, \"codigo region\": 14}, {\"date\": \"2020-04-26\", \"region\": \"Magallanes\", \"fallecidos\": 9, \"codigo region\": 15}]}}, {\"mode\": \"vega-lite\"});\n",
       "</script>"
      ],
      "text/plain": [
       "alt.HConcatChart(...)"
      ]
     },
     "execution_count": 31,
     "metadata": {},
     "output_type": "execute_result"
    }
   ],
   "source": [
    "#hide_input\n",
    "\n",
    "input_dropdown = alt.binding_select(options=new_data['region'].unique())\n",
    "selection1 = alt.selection_single(fields=['region'], bind=input_dropdown, name=' ')\n",
    "selection2 = alt.selection_multi(fields=['region'], on='mouseover')\n",
    "\n",
    "color = alt.condition(selection1 | selection2,\n",
    "                    alt.Color('region:N', legend=None),\n",
    "                    alt.value('lightgray'))\n",
    "\n",
    "bars = alt.Chart(new_data).mark_bar().encode(\n",
    "    x=alt.X('date:O', axis=alt.Axis(title='Date')),\n",
    "    y=alt.Y('fallecidos', axis=alt.Axis(title='Confirmed deaths')),\n",
    "    color=color,\n",
    "    tooltip=['date', 'region', 'fallecidos'],\n",
    "    order=alt.Order(\n",
    "    # Sort the segments of the bars by this field\n",
    "    'codigo region',\n",
    "    sort='descending'\n",
    "    )\n",
    "    ).properties(\n",
    "    title='COVID-19 in Chile: Total confirmed deaths by region'\n",
    ").add_selection(\n",
    "    selection1, selection2\n",
    ").transform_filter(\n",
    "    selection1\n",
    ")\n",
    "\n",
    "legend = alt.Chart(new_data).mark_point().encode(\n",
    "    y=alt.Y('region:N', axis=alt.Axis(orient='right'), sort=regiones),\n",
    "    color=color\n",
    ").add_selection(\n",
    "    selection1, selection2\n",
    ")\n",
    "\n",
    "bars.properties(width=600, height=400) | legend"
   ]
  },
  {
   "cell_type": "code",
   "execution_count": 32,
   "metadata": {},
   "outputs": [],
   "source": [
    "#hide\n",
    "# Window size cases\n",
    "WS_cases = 7"
   ]
  },
  {
   "cell_type": "code",
   "execution_count": 33,
   "metadata": {
    "scrolled": true
   },
   "outputs": [],
   "source": [
    "#hide\n",
    "def my_cases_plot(region):\n",
    "    aux1 = casos_raw.loc[region]\n",
    "    aux2 = [t - s for s, t in zip(aux1, aux1.loc['2020-03-04':])]\n",
    "    # Create the dataframe\n",
    "    new_cases = pd.DataFrame()\n",
    "    new_cases[\"Date\"] = casos_raw.loc[region].reset_index()[\"index\"].iloc[1:].values\n",
    "    new_cases[\"Confirmed cases\"] = aux2\n",
    "    new_cases[\"Rolling\"] = new_cases[\"Confirmed cases\"].rolling(window=WS_cases).mean()\n",
    "    new_cases[\"Daily confirmed cases\"] = len(new_cases) * [\"Daily confirmed cases\"]\n",
    "    new_cases[\"7-day rolling average\"] = len(new_cases) * [\"7-day rolling average\"]\n",
    "    # Make the plot\n",
    "    bars = alt.Chart(new_cases).mark_bar(opacity=0.7).encode(\n",
    "        x = alt.X('Date:N', axis=alt.Axis(title='Date')),\n",
    "        y = alt.Y('Confirmed cases:Q', axis=alt.Axis(title='Daily confirmed cases')),\n",
    "        tooltip = ['Date', 'Confirmed cases'],\n",
    "        opacity=alt.Opacity('Daily confirmed cases', legend=alt.Legend(title=\"\"))\n",
    "    )\n",
    "\n",
    "    line = alt.Chart(new_cases).mark_line(point={\n",
    "        \"filled\": True,\n",
    "        \"fill\": \"#1f77b4\"\n",
    "    }, color=\"#1f77b4\").encode(\n",
    "        x=alt.X('Date:N', axis=alt.Axis(title='Date')),\n",
    "        y = alt.Y('Rolling:Q'),\n",
    "        shape=alt.Shape('7-day rolling average', legend=alt.Legend(title=\"\"))\n",
    "    )\n",
    "    return bars, line"
   ]
  },
  {
   "cell_type": "markdown",
   "metadata": {},
   "source": [
    "Data source: [Science Ministry](https://github.com/MinCiencia/Datos-COVID19)."
   ]
  },
  {
   "cell_type": "markdown",
   "metadata": {},
   "source": [
    "# Daily confirmed cases"
   ]
  },
  {
   "cell_type": "markdown",
   "metadata": {},
   "source": [
    "## Chile"
   ]
  },
  {
   "cell_type": "code",
   "execution_count": 34,
   "metadata": {
    "scrolled": true
   },
   "outputs": [],
   "source": [
    "#hide\n",
    "region = \"Total\""
   ]
  },
  {
   "cell_type": "code",
   "execution_count": 35,
   "metadata": {},
   "outputs": [
    {
     "data": {
      "text/html": [
       "\n",
       "<div id=\"altair-viz-562e68ac12504a838ac2d762045088dd\"></div>\n",
       "<script type=\"text/javascript\">\n",
       "  (function(spec, embedOpt){\n",
       "    let outputDiv = document.currentScript.previousElementSibling;\n",
       "    if (outputDiv.id !== \"altair-viz-562e68ac12504a838ac2d762045088dd\") {\n",
       "      outputDiv = document.getElementById(\"altair-viz-562e68ac12504a838ac2d762045088dd\");\n",
       "    }\n",
       "    const paths = {\n",
       "      \"vega\": \"https://cdn.jsdelivr.net/npm//vega@5?noext\",\n",
       "      \"vega-lib\": \"https://cdn.jsdelivr.net/npm//vega-lib?noext\",\n",
       "      \"vega-lite\": \"https://cdn.jsdelivr.net/npm//vega-lite@4.8.1?noext\",\n",
       "      \"vega-embed\": \"https://cdn.jsdelivr.net/npm//vega-embed@6?noext\",\n",
       "    };\n",
       "\n",
       "    function loadScript(lib) {\n",
       "      return new Promise(function(resolve, reject) {\n",
       "        var s = document.createElement('script');\n",
       "        s.src = paths[lib];\n",
       "        s.async = true;\n",
       "        s.onload = () => resolve(paths[lib]);\n",
       "        s.onerror = () => reject(`Error loading script: ${paths[lib]}`);\n",
       "        document.getElementsByTagName(\"head\")[0].appendChild(s);\n",
       "      });\n",
       "    }\n",
       "\n",
       "    function showError(err) {\n",
       "      outputDiv.innerHTML = `<div class=\"error\" style=\"color:red;\">${err}</div>`;\n",
       "      throw err;\n",
       "    }\n",
       "\n",
       "    function displayChart(vegaEmbed) {\n",
       "      vegaEmbed(outputDiv, spec, embedOpt)\n",
       "        .catch(err => showError(`Javascript Error: ${err.message}<br>This usually means there's a typo in your chart specification. See the javascript console for the full traceback.`));\n",
       "    }\n",
       "\n",
       "    if(typeof define === \"function\" && define.amd) {\n",
       "      requirejs.config({paths});\n",
       "      require([\"vega-embed\"], displayChart, err => showError(`Error loading script: ${err.message}`));\n",
       "    } else if (typeof vegaEmbed === \"function\") {\n",
       "      displayChart(vegaEmbed);\n",
       "    } else {\n",
       "      loadScript(\"vega\")\n",
       "        .then(() => loadScript(\"vega-lite\"))\n",
       "        .then(() => loadScript(\"vega-embed\"))\n",
       "        .catch(showError)\n",
       "        .then(() => displayChart(vegaEmbed));\n",
       "    }\n",
       "  })({\"config\": {\"view\": {\"continuousWidth\": 400, \"continuousHeight\": 300}}, \"layer\": [{\"mark\": {\"type\": \"bar\", \"opacity\": 0.7}, \"encoding\": {\"opacity\": {\"type\": \"nominal\", \"field\": \"Daily confirmed cases\", \"legend\": {\"title\": \"\"}}, \"tooltip\": [{\"type\": \"nominal\", \"field\": \"Date\"}, {\"type\": \"quantitative\", \"field\": \"Confirmed cases\"}], \"x\": {\"type\": \"nominal\", \"axis\": {\"title\": \"Date\"}, \"field\": \"Date\"}, \"y\": {\"type\": \"quantitative\", \"axis\": {\"title\": \"Daily confirmed cases\"}, \"field\": \"Confirmed cases\"}}}, {\"mark\": {\"type\": \"line\", \"color\": \"#1f77b4\", \"point\": {\"filled\": true, \"fill\": \"#1f77b4\"}}, \"encoding\": {\"shape\": {\"type\": \"nominal\", \"field\": \"7-day rolling average\", \"legend\": {\"title\": \"\"}}, \"x\": {\"type\": \"nominal\", \"axis\": {\"title\": \"Date\"}, \"field\": \"Date\"}, \"y\": {\"type\": \"quantitative\", \"field\": \"Rolling\"}}}], \"data\": {\"name\": \"data-e898ae6b8140ebf30c71cc50ed9637e2\"}, \"title\": \"Covid-19 in Chile: Daily confirmed cases in Chile\", \"width\": 600, \"$schema\": \"https://vega.github.io/schema/vega-lite/v4.8.1.json\", \"datasets\": {\"data-e898ae6b8140ebf30c71cc50ed9637e2\": [{\"Date\": \"2020-03-04\", \"Confirmed cases\": 2, \"Rolling\": null, \"Daily confirmed cases\": \"Daily confirmed cases\", \"7-day rolling average\": \"7-day rolling average\"}, {\"Date\": \"2020-03-05\", \"Confirmed cases\": 1, \"Rolling\": null, \"Daily confirmed cases\": \"Daily confirmed cases\", \"7-day rolling average\": \"7-day rolling average\"}, {\"Date\": \"2020-03-06\", \"Confirmed cases\": 1, \"Rolling\": null, \"Daily confirmed cases\": \"Daily confirmed cases\", \"7-day rolling average\": \"7-day rolling average\"}, {\"Date\": \"2020-03-07\", \"Confirmed cases\": 2, \"Rolling\": null, \"Daily confirmed cases\": \"Daily confirmed cases\", \"7-day rolling average\": \"7-day rolling average\"}, {\"Date\": \"2020-03-08\", \"Confirmed cases\": 3, \"Rolling\": null, \"Daily confirmed cases\": \"Daily confirmed cases\", \"7-day rolling average\": \"7-day rolling average\"}, {\"Date\": \"2020-03-09\", \"Confirmed cases\": 5, \"Rolling\": null, \"Daily confirmed cases\": \"Daily confirmed cases\", \"7-day rolling average\": \"7-day rolling average\"}, {\"Date\": \"2020-03-10\", \"Confirmed cases\": 2, \"Rolling\": 2.2857142857142856, \"Daily confirmed cases\": \"Daily confirmed cases\", \"7-day rolling average\": \"7-day rolling average\"}, {\"Date\": \"2020-03-11\", \"Confirmed cases\": 6, \"Rolling\": 2.857142857142857, \"Daily confirmed cases\": \"Daily confirmed cases\", \"7-day rolling average\": \"7-day rolling average\"}, {\"Date\": \"2020-03-12\", \"Confirmed cases\": 10, \"Rolling\": 4.142857142857143, \"Daily confirmed cases\": \"Daily confirmed cases\", \"7-day rolling average\": \"7-day rolling average\"}, {\"Date\": \"2020-03-13\", \"Confirmed cases\": 10, \"Rolling\": 5.428571428571429, \"Daily confirmed cases\": \"Daily confirmed cases\", \"7-day rolling average\": \"7-day rolling average\"}, {\"Date\": \"2020-03-14\", \"Confirmed cases\": 18, \"Rolling\": 7.714285714285714, \"Daily confirmed cases\": \"Daily confirmed cases\", \"7-day rolling average\": \"7-day rolling average\"}, {\"Date\": \"2020-03-15\", \"Confirmed cases\": 14, \"Rolling\": 9.285714285714286, \"Daily confirmed cases\": \"Daily confirmed cases\", \"7-day rolling average\": \"7-day rolling average\"}, {\"Date\": \"2020-03-16\", \"Confirmed cases\": 81, \"Rolling\": 20.142857142857142, \"Daily confirmed cases\": \"Daily confirmed cases\", \"7-day rolling average\": \"7-day rolling average\"}, {\"Date\": \"2020-03-17\", \"Confirmed cases\": 45, \"Rolling\": 26.285714285714285, \"Daily confirmed cases\": \"Daily confirmed cases\", \"7-day rolling average\": \"7-day rolling average\"}, {\"Date\": \"2020-03-18\", \"Confirmed cases\": 37, \"Rolling\": 30.714285714285715, \"Daily confirmed cases\": \"Daily confirmed cases\", \"7-day rolling average\": \"7-day rolling average\"}, {\"Date\": \"2020-03-19\", \"Confirmed cases\": 104, \"Rolling\": 44.142857142857146, \"Daily confirmed cases\": \"Daily confirmed cases\", \"7-day rolling average\": \"7-day rolling average\"}, {\"Date\": \"2020-03-20\", \"Confirmed cases\": 92, \"Rolling\": 55.857142857142854, \"Daily confirmed cases\": \"Daily confirmed cases\", \"7-day rolling average\": \"7-day rolling average\"}, {\"Date\": \"2020-03-21\", \"Confirmed cases\": 103, \"Rolling\": 68.0, \"Daily confirmed cases\": \"Daily confirmed cases\", \"7-day rolling average\": \"7-day rolling average\"}, {\"Date\": \"2020-03-22\", \"Confirmed cases\": 95, \"Rolling\": 79.57142857142857, \"Daily confirmed cases\": \"Daily confirmed cases\", \"7-day rolling average\": \"7-day rolling average\"}, {\"Date\": \"2020-03-23\", \"Confirmed cases\": 114, \"Rolling\": 84.28571428571429, \"Daily confirmed cases\": \"Daily confirmed cases\", \"7-day rolling average\": \"7-day rolling average\"}, {\"Date\": \"2020-03-24\", \"Confirmed cases\": 176, \"Rolling\": 103.0, \"Daily confirmed cases\": \"Daily confirmed cases\", \"7-day rolling average\": \"7-day rolling average\"}, {\"Date\": \"2020-03-25\", \"Confirmed cases\": 220, \"Rolling\": 129.14285714285714, \"Daily confirmed cases\": \"Daily confirmed cases\", \"7-day rolling average\": \"7-day rolling average\"}, {\"Date\": \"2020-03-26\", \"Confirmed cases\": 164, \"Rolling\": 137.71428571428572, \"Daily confirmed cases\": \"Daily confirmed cases\", \"7-day rolling average\": \"7-day rolling average\"}, {\"Date\": \"2020-03-27\", \"Confirmed cases\": 304, \"Rolling\": 168.0, \"Daily confirmed cases\": \"Daily confirmed cases\", \"7-day rolling average\": \"7-day rolling average\"}, {\"Date\": \"2020-03-28\", \"Confirmed cases\": 299, \"Rolling\": 196.0, \"Daily confirmed cases\": \"Daily confirmed cases\", \"7-day rolling average\": \"7-day rolling average\"}, {\"Date\": \"2020-03-29\", \"Confirmed cases\": 230, \"Rolling\": 215.28571428571428, \"Daily confirmed cases\": \"Daily confirmed cases\", \"7-day rolling average\": \"7-day rolling average\"}, {\"Date\": \"2020-03-30\", \"Confirmed cases\": 310, \"Rolling\": 243.28571428571428, \"Daily confirmed cases\": \"Daily confirmed cases\", \"7-day rolling average\": \"7-day rolling average\"}, {\"Date\": \"2020-03-31\", \"Confirmed cases\": 289, \"Rolling\": 259.42857142857144, \"Daily confirmed cases\": \"Daily confirmed cases\", \"7-day rolling average\": \"7-day rolling average\"}, {\"Date\": \"2020-04-01\", \"Confirmed cases\": 293, \"Rolling\": 269.85714285714283, \"Daily confirmed cases\": \"Daily confirmed cases\", \"7-day rolling average\": \"7-day rolling average\"}, {\"Date\": \"2020-04-02\", \"Confirmed cases\": 373, \"Rolling\": 299.7142857142857, \"Daily confirmed cases\": \"Daily confirmed cases\", \"7-day rolling average\": \"7-day rolling average\"}, {\"Date\": \"2020-04-03\", \"Confirmed cases\": 333, \"Rolling\": 303.85714285714283, \"Daily confirmed cases\": \"Daily confirmed cases\", \"7-day rolling average\": \"7-day rolling average\"}, {\"Date\": \"2020-04-04\", \"Confirmed cases\": 424, \"Rolling\": 321.7142857142857, \"Daily confirmed cases\": \"Daily confirmed cases\", \"7-day rolling average\": \"7-day rolling average\"}, {\"Date\": \"2020-04-05\", \"Confirmed cases\": 310, \"Rolling\": 333.14285714285717, \"Daily confirmed cases\": \"Daily confirmed cases\", \"7-day rolling average\": \"7-day rolling average\"}, {\"Date\": \"2020-04-06\", \"Confirmed cases\": 344, \"Rolling\": 338.0, \"Daily confirmed cases\": \"Daily confirmed cases\", \"7-day rolling average\": \"7-day rolling average\"}, {\"Date\": \"2020-04-07\", \"Confirmed cases\": 301, \"Rolling\": 339.7142857142857, \"Daily confirmed cases\": \"Daily confirmed cases\", \"7-day rolling average\": \"7-day rolling average\"}, {\"Date\": \"2020-04-08\", \"Confirmed cases\": 430, \"Rolling\": 359.2857142857143, \"Daily confirmed cases\": \"Daily confirmed cases\", \"7-day rolling average\": \"7-day rolling average\"}, {\"Date\": \"2020-04-09\", \"Confirmed cases\": 426, \"Rolling\": 366.85714285714283, \"Daily confirmed cases\": \"Daily confirmed cases\", \"7-day rolling average\": \"7-day rolling average\"}, {\"Date\": \"2020-04-10\", \"Confirmed cases\": 529, \"Rolling\": 394.85714285714283, \"Daily confirmed cases\": \"Daily confirmed cases\", \"7-day rolling average\": \"7-day rolling average\"}, {\"Date\": \"2020-04-11\", \"Confirmed cases\": 426, \"Rolling\": 395.14285714285717, \"Daily confirmed cases\": \"Daily confirmed cases\", \"7-day rolling average\": \"7-day rolling average\"}, {\"Date\": \"2020-04-12\", \"Confirmed cases\": 286, \"Rolling\": 391.7142857142857, \"Daily confirmed cases\": \"Daily confirmed cases\", \"7-day rolling average\": \"7-day rolling average\"}, {\"Date\": \"2020-04-13\", \"Confirmed cases\": 312, \"Rolling\": 387.14285714285717, \"Daily confirmed cases\": \"Daily confirmed cases\", \"7-day rolling average\": \"7-day rolling average\"}, {\"Date\": \"2020-04-14\", \"Confirmed cases\": 392, \"Rolling\": 400.14285714285717, \"Daily confirmed cases\": \"Daily confirmed cases\", \"7-day rolling average\": \"7-day rolling average\"}, {\"Date\": \"2020-04-15\", \"Confirmed cases\": 356, \"Rolling\": 389.57142857142856, \"Daily confirmed cases\": \"Daily confirmed cases\", \"7-day rolling average\": \"7-day rolling average\"}, {\"Date\": \"2020-04-16\", \"Confirmed cases\": 534, \"Rolling\": 405.0, \"Daily confirmed cases\": \"Daily confirmed cases\", \"7-day rolling average\": \"7-day rolling average\"}, {\"Date\": \"2020-04-17\", \"Confirmed cases\": 445, \"Rolling\": 393.0, \"Daily confirmed cases\": \"Daily confirmed cases\", \"7-day rolling average\": \"7-day rolling average\"}, {\"Date\": \"2020-04-18\", \"Confirmed cases\": 478, \"Rolling\": 400.42857142857144, \"Daily confirmed cases\": \"Daily confirmed cases\", \"7-day rolling average\": \"7-day rolling average\"}, {\"Date\": \"2020-04-19\", \"Confirmed cases\": 358, \"Rolling\": 410.7142857142857, \"Daily confirmed cases\": \"Daily confirmed cases\", \"7-day rolling average\": \"7-day rolling average\"}, {\"Date\": \"2020-04-20\", \"Confirmed cases\": 419, \"Rolling\": 426.0, \"Daily confirmed cases\": \"Daily confirmed cases\", \"7-day rolling average\": \"7-day rolling average\"}, {\"Date\": \"2020-04-21\", \"Confirmed cases\": 325, \"Rolling\": 416.42857142857144, \"Daily confirmed cases\": \"Daily confirmed cases\", \"7-day rolling average\": \"7-day rolling average\"}, {\"Date\": \"2020-04-22\", \"Confirmed cases\": 464, \"Rolling\": 431.85714285714283, \"Daily confirmed cases\": \"Daily confirmed cases\", \"7-day rolling average\": \"7-day rolling average\"}, {\"Date\": \"2020-04-23\", \"Confirmed cases\": 516, \"Rolling\": 429.2857142857143, \"Daily confirmed cases\": \"Daily confirmed cases\", \"7-day rolling average\": \"7-day rolling average\"}, {\"Date\": \"2020-04-24\", \"Confirmed cases\": 494, \"Rolling\": 436.2857142857143, \"Daily confirmed cases\": \"Daily confirmed cases\", \"7-day rolling average\": \"7-day rolling average\"}, {\"Date\": \"2020-04-25\", \"Confirmed cases\": 552, \"Rolling\": 446.85714285714283, \"Daily confirmed cases\": \"Daily confirmed cases\", \"7-day rolling average\": \"7-day rolling average\"}, {\"Date\": \"2020-04-26\", \"Confirmed cases\": 473, \"Rolling\": 463.2857142857143, \"Daily confirmed cases\": \"Daily confirmed cases\", \"7-day rolling average\": \"7-day rolling average\"}]}}, {\"mode\": \"vega-lite\"});\n",
       "</script>"
      ],
      "text/plain": [
       "alt.LayerChart(...)"
      ]
     },
     "execution_count": 35,
     "metadata": {},
     "output_type": "execute_result"
    }
   ],
   "source": [
    "#hide_input\n",
    "bars, line = my_cases_plot(region)\n",
    "(bars + line).properties(\n",
    "    title=f'Covid-19 in Chile: Daily confirmed cases in Chile',\n",
    "    width=600\n",
    ")"
   ]
  },
  {
   "cell_type": "markdown",
   "metadata": {},
   "source": [
    "## Arica y Parinacota"
   ]
  },
  {
   "cell_type": "code",
   "execution_count": 36,
   "metadata": {},
   "outputs": [],
   "source": [
    "#hide\n",
    "region = \"Arica y Parinacota\""
   ]
  },
  {
   "cell_type": "code",
   "execution_count": 37,
   "metadata": {},
   "outputs": [
    {
     "data": {
      "text/html": [
       "\n",
       "<div id=\"altair-viz-f2285e8fa65e4efd856e345bc27b2217\"></div>\n",
       "<script type=\"text/javascript\">\n",
       "  (function(spec, embedOpt){\n",
       "    let outputDiv = document.currentScript.previousElementSibling;\n",
       "    if (outputDiv.id !== \"altair-viz-f2285e8fa65e4efd856e345bc27b2217\") {\n",
       "      outputDiv = document.getElementById(\"altair-viz-f2285e8fa65e4efd856e345bc27b2217\");\n",
       "    }\n",
       "    const paths = {\n",
       "      \"vega\": \"https://cdn.jsdelivr.net/npm//vega@5?noext\",\n",
       "      \"vega-lib\": \"https://cdn.jsdelivr.net/npm//vega-lib?noext\",\n",
       "      \"vega-lite\": \"https://cdn.jsdelivr.net/npm//vega-lite@4.8.1?noext\",\n",
       "      \"vega-embed\": \"https://cdn.jsdelivr.net/npm//vega-embed@6?noext\",\n",
       "    };\n",
       "\n",
       "    function loadScript(lib) {\n",
       "      return new Promise(function(resolve, reject) {\n",
       "        var s = document.createElement('script');\n",
       "        s.src = paths[lib];\n",
       "        s.async = true;\n",
       "        s.onload = () => resolve(paths[lib]);\n",
       "        s.onerror = () => reject(`Error loading script: ${paths[lib]}`);\n",
       "        document.getElementsByTagName(\"head\")[0].appendChild(s);\n",
       "      });\n",
       "    }\n",
       "\n",
       "    function showError(err) {\n",
       "      outputDiv.innerHTML = `<div class=\"error\" style=\"color:red;\">${err}</div>`;\n",
       "      throw err;\n",
       "    }\n",
       "\n",
       "    function displayChart(vegaEmbed) {\n",
       "      vegaEmbed(outputDiv, spec, embedOpt)\n",
       "        .catch(err => showError(`Javascript Error: ${err.message}<br>This usually means there's a typo in your chart specification. See the javascript console for the full traceback.`));\n",
       "    }\n",
       "\n",
       "    if(typeof define === \"function\" && define.amd) {\n",
       "      requirejs.config({paths});\n",
       "      require([\"vega-embed\"], displayChart, err => showError(`Error loading script: ${err.message}`));\n",
       "    } else if (typeof vegaEmbed === \"function\") {\n",
       "      displayChart(vegaEmbed);\n",
       "    } else {\n",
       "      loadScript(\"vega\")\n",
       "        .then(() => loadScript(\"vega-lite\"))\n",
       "        .then(() => loadScript(\"vega-embed\"))\n",
       "        .catch(showError)\n",
       "        .then(() => displayChart(vegaEmbed));\n",
       "    }\n",
       "  })({\"config\": {\"view\": {\"continuousWidth\": 400, \"continuousHeight\": 300}}, \"layer\": [{\"mark\": {\"type\": \"bar\", \"opacity\": 0.7}, \"encoding\": {\"opacity\": {\"type\": \"nominal\", \"field\": \"Daily confirmed cases\", \"legend\": {\"title\": \"\"}}, \"tooltip\": [{\"type\": \"nominal\", \"field\": \"Date\"}, {\"type\": \"quantitative\", \"field\": \"Confirmed cases\"}], \"x\": {\"type\": \"nominal\", \"axis\": {\"title\": \"Date\"}, \"field\": \"Date\"}, \"y\": {\"type\": \"quantitative\", \"axis\": {\"title\": \"Daily confirmed cases\"}, \"field\": \"Confirmed cases\"}}}, {\"mark\": {\"type\": \"line\", \"color\": \"#1f77b4\", \"point\": {\"filled\": true, \"fill\": \"#1f77b4\"}}, \"encoding\": {\"shape\": {\"type\": \"nominal\", \"field\": \"7-day rolling average\", \"legend\": {\"title\": \"\"}}, \"x\": {\"type\": \"nominal\", \"axis\": {\"title\": \"Date\"}, \"field\": \"Date\"}, \"y\": {\"type\": \"quantitative\", \"field\": \"Rolling\"}}}], \"data\": {\"name\": \"data-02fdd200d05593a3b842b4b3cc826648\"}, \"title\": \"Covid-19 in Chile: Daily confirmed cases in Arica y Parinacota\", \"width\": 600, \"$schema\": \"https://vega.github.io/schema/vega-lite/v4.8.1.json\", \"datasets\": {\"data-02fdd200d05593a3b842b4b3cc826648\": [{\"Date\": \"2020-03-04\", \"Confirmed cases\": 0, \"Rolling\": null, \"Daily confirmed cases\": \"Daily confirmed cases\", \"7-day rolling average\": \"7-day rolling average\"}, {\"Date\": \"2020-03-05\", \"Confirmed cases\": 0, \"Rolling\": null, \"Daily confirmed cases\": \"Daily confirmed cases\", \"7-day rolling average\": \"7-day rolling average\"}, {\"Date\": \"2020-03-06\", \"Confirmed cases\": 0, \"Rolling\": null, \"Daily confirmed cases\": \"Daily confirmed cases\", \"7-day rolling average\": \"7-day rolling average\"}, {\"Date\": \"2020-03-07\", \"Confirmed cases\": 0, \"Rolling\": null, \"Daily confirmed cases\": \"Daily confirmed cases\", \"7-day rolling average\": \"7-day rolling average\"}, {\"Date\": \"2020-03-08\", \"Confirmed cases\": 0, \"Rolling\": null, \"Daily confirmed cases\": \"Daily confirmed cases\", \"7-day rolling average\": \"7-day rolling average\"}, {\"Date\": \"2020-03-09\", \"Confirmed cases\": 0, \"Rolling\": null, \"Daily confirmed cases\": \"Daily confirmed cases\", \"7-day rolling average\": \"7-day rolling average\"}, {\"Date\": \"2020-03-10\", \"Confirmed cases\": 0, \"Rolling\": 0.0, \"Daily confirmed cases\": \"Daily confirmed cases\", \"7-day rolling average\": \"7-day rolling average\"}, {\"Date\": \"2020-03-11\", \"Confirmed cases\": 0, \"Rolling\": 0.0, \"Daily confirmed cases\": \"Daily confirmed cases\", \"7-day rolling average\": \"7-day rolling average\"}, {\"Date\": \"2020-03-12\", \"Confirmed cases\": 0, \"Rolling\": 0.0, \"Daily confirmed cases\": \"Daily confirmed cases\", \"7-day rolling average\": \"7-day rolling average\"}, {\"Date\": \"2020-03-13\", \"Confirmed cases\": 0, \"Rolling\": 0.0, \"Daily confirmed cases\": \"Daily confirmed cases\", \"7-day rolling average\": \"7-day rolling average\"}, {\"Date\": \"2020-03-14\", \"Confirmed cases\": 0, \"Rolling\": 0.0, \"Daily confirmed cases\": \"Daily confirmed cases\", \"7-day rolling average\": \"7-day rolling average\"}, {\"Date\": \"2020-03-15\", \"Confirmed cases\": 0, \"Rolling\": 0.0, \"Daily confirmed cases\": \"Daily confirmed cases\", \"7-day rolling average\": \"7-day rolling average\"}, {\"Date\": \"2020-03-16\", \"Confirmed cases\": 0, \"Rolling\": 0.0, \"Daily confirmed cases\": \"Daily confirmed cases\", \"7-day rolling average\": \"7-day rolling average\"}, {\"Date\": \"2020-03-17\", \"Confirmed cases\": 0, \"Rolling\": 0.0, \"Daily confirmed cases\": \"Daily confirmed cases\", \"7-day rolling average\": \"7-day rolling average\"}, {\"Date\": \"2020-03-18\", \"Confirmed cases\": 0, \"Rolling\": 0.0, \"Daily confirmed cases\": \"Daily confirmed cases\", \"7-day rolling average\": \"7-day rolling average\"}, {\"Date\": \"2020-03-19\", \"Confirmed cases\": 1, \"Rolling\": 0.14285714285714285, \"Daily confirmed cases\": \"Daily confirmed cases\", \"7-day rolling average\": \"7-day rolling average\"}, {\"Date\": \"2020-03-20\", \"Confirmed cases\": 0, \"Rolling\": 0.14285714285714285, \"Daily confirmed cases\": \"Daily confirmed cases\", \"7-day rolling average\": \"7-day rolling average\"}, {\"Date\": \"2020-03-21\", \"Confirmed cases\": 0, \"Rolling\": 0.14285714285714285, \"Daily confirmed cases\": \"Daily confirmed cases\", \"7-day rolling average\": \"7-day rolling average\"}, {\"Date\": \"2020-03-22\", \"Confirmed cases\": 1, \"Rolling\": 0.2857142857142857, \"Daily confirmed cases\": \"Daily confirmed cases\", \"7-day rolling average\": \"7-day rolling average\"}, {\"Date\": \"2020-03-23\", \"Confirmed cases\": 0, \"Rolling\": 0.2857142857142857, \"Daily confirmed cases\": \"Daily confirmed cases\", \"7-day rolling average\": \"7-day rolling average\"}, {\"Date\": \"2020-03-24\", \"Confirmed cases\": 0, \"Rolling\": 0.2857142857142857, \"Daily confirmed cases\": \"Daily confirmed cases\", \"7-day rolling average\": \"7-day rolling average\"}, {\"Date\": \"2020-03-25\", \"Confirmed cases\": 0, \"Rolling\": 0.2857142857142857, \"Daily confirmed cases\": \"Daily confirmed cases\", \"7-day rolling average\": \"7-day rolling average\"}, {\"Date\": \"2020-03-26\", \"Confirmed cases\": 1, \"Rolling\": 0.2857142857142857, \"Daily confirmed cases\": \"Daily confirmed cases\", \"7-day rolling average\": \"7-day rolling average\"}, {\"Date\": \"2020-03-27\", \"Confirmed cases\": 0, \"Rolling\": 0.2857142857142857, \"Daily confirmed cases\": \"Daily confirmed cases\", \"7-day rolling average\": \"7-day rolling average\"}, {\"Date\": \"2020-03-28\", \"Confirmed cases\": 0, \"Rolling\": 0.2857142857142857, \"Daily confirmed cases\": \"Daily confirmed cases\", \"7-day rolling average\": \"7-day rolling average\"}, {\"Date\": \"2020-03-29\", \"Confirmed cases\": 1, \"Rolling\": 0.2857142857142857, \"Daily confirmed cases\": \"Daily confirmed cases\", \"7-day rolling average\": \"7-day rolling average\"}, {\"Date\": \"2020-03-30\", \"Confirmed cases\": 2, \"Rolling\": 0.5714285714285714, \"Daily confirmed cases\": \"Daily confirmed cases\", \"7-day rolling average\": \"7-day rolling average\"}, {\"Date\": \"2020-03-31\", \"Confirmed cases\": 0, \"Rolling\": 0.5714285714285714, \"Daily confirmed cases\": \"Daily confirmed cases\", \"7-day rolling average\": \"7-day rolling average\"}, {\"Date\": \"2020-04-01\", \"Confirmed cases\": 0, \"Rolling\": 0.5714285714285714, \"Daily confirmed cases\": \"Daily confirmed cases\", \"7-day rolling average\": \"7-day rolling average\"}, {\"Date\": \"2020-04-02\", \"Confirmed cases\": 1, \"Rolling\": 0.5714285714285714, \"Daily confirmed cases\": \"Daily confirmed cases\", \"7-day rolling average\": \"7-day rolling average\"}, {\"Date\": \"2020-04-03\", \"Confirmed cases\": 5, \"Rolling\": 1.2857142857142858, \"Daily confirmed cases\": \"Daily confirmed cases\", \"7-day rolling average\": \"7-day rolling average\"}, {\"Date\": \"2020-04-04\", \"Confirmed cases\": 0, \"Rolling\": 1.2857142857142858, \"Daily confirmed cases\": \"Daily confirmed cases\", \"7-day rolling average\": \"7-day rolling average\"}, {\"Date\": \"2020-04-05\", \"Confirmed cases\": 16, \"Rolling\": 3.4285714285714284, \"Daily confirmed cases\": \"Daily confirmed cases\", \"7-day rolling average\": \"7-day rolling average\"}, {\"Date\": \"2020-04-06\", \"Confirmed cases\": 13, \"Rolling\": 5.0, \"Daily confirmed cases\": \"Daily confirmed cases\", \"7-day rolling average\": \"7-day rolling average\"}, {\"Date\": \"2020-04-07\", \"Confirmed cases\": 12, \"Rolling\": 6.714285714285714, \"Daily confirmed cases\": \"Daily confirmed cases\", \"7-day rolling average\": \"7-day rolling average\"}, {\"Date\": \"2020-04-08\", \"Confirmed cases\": 10, \"Rolling\": 8.142857142857142, \"Daily confirmed cases\": \"Daily confirmed cases\", \"7-day rolling average\": \"7-day rolling average\"}, {\"Date\": \"2020-04-09\", \"Confirmed cases\": 12, \"Rolling\": 9.714285714285714, \"Daily confirmed cases\": \"Daily confirmed cases\", \"7-day rolling average\": \"7-day rolling average\"}, {\"Date\": \"2020-04-10\", \"Confirmed cases\": 12, \"Rolling\": 10.714285714285714, \"Daily confirmed cases\": \"Daily confirmed cases\", \"7-day rolling average\": \"7-day rolling average\"}, {\"Date\": \"2020-04-11\", \"Confirmed cases\": 20, \"Rolling\": 13.571428571428571, \"Daily confirmed cases\": \"Daily confirmed cases\", \"7-day rolling average\": \"7-day rolling average\"}, {\"Date\": \"2020-04-12\", \"Confirmed cases\": 8, \"Rolling\": 12.428571428571429, \"Daily confirmed cases\": \"Daily confirmed cases\", \"7-day rolling average\": \"7-day rolling average\"}, {\"Date\": \"2020-04-13\", \"Confirmed cases\": 0, \"Rolling\": 10.571428571428571, \"Daily confirmed cases\": \"Daily confirmed cases\", \"7-day rolling average\": \"7-day rolling average\"}, {\"Date\": \"2020-04-14\", \"Confirmed cases\": 5, \"Rolling\": 9.571428571428571, \"Daily confirmed cases\": \"Daily confirmed cases\", \"7-day rolling average\": \"7-day rolling average\"}, {\"Date\": \"2020-04-15\", \"Confirmed cases\": 4, \"Rolling\": 8.714285714285714, \"Daily confirmed cases\": \"Daily confirmed cases\", \"7-day rolling average\": \"7-day rolling average\"}, {\"Date\": \"2020-04-16\", \"Confirmed cases\": 5, \"Rolling\": 7.714285714285714, \"Daily confirmed cases\": \"Daily confirmed cases\", \"7-day rolling average\": \"7-day rolling average\"}, {\"Date\": \"2020-04-17\", \"Confirmed cases\": 5, \"Rolling\": 6.714285714285714, \"Daily confirmed cases\": \"Daily confirmed cases\", \"7-day rolling average\": \"7-day rolling average\"}, {\"Date\": \"2020-04-18\", \"Confirmed cases\": 8, \"Rolling\": 5.0, \"Daily confirmed cases\": \"Daily confirmed cases\", \"7-day rolling average\": \"7-day rolling average\"}, {\"Date\": \"2020-04-19\", \"Confirmed cases\": 3, \"Rolling\": 4.285714285714286, \"Daily confirmed cases\": \"Daily confirmed cases\", \"7-day rolling average\": \"7-day rolling average\"}, {\"Date\": \"2020-04-20\", \"Confirmed cases\": 16, \"Rolling\": 6.571428571428571, \"Daily confirmed cases\": \"Daily confirmed cases\", \"7-day rolling average\": \"7-day rolling average\"}, {\"Date\": \"2020-04-21\", \"Confirmed cases\": 9, \"Rolling\": 7.142857142857143, \"Daily confirmed cases\": \"Daily confirmed cases\", \"7-day rolling average\": \"7-day rolling average\"}, {\"Date\": \"2020-04-22\", \"Confirmed cases\": 10, \"Rolling\": 8.0, \"Daily confirmed cases\": \"Daily confirmed cases\", \"7-day rolling average\": \"7-day rolling average\"}, {\"Date\": \"2020-04-23\", \"Confirmed cases\": 30, \"Rolling\": 11.571428571428571, \"Daily confirmed cases\": \"Daily confirmed cases\", \"7-day rolling average\": \"7-day rolling average\"}, {\"Date\": \"2020-04-24\", \"Confirmed cases\": 29, \"Rolling\": 15.0, \"Daily confirmed cases\": \"Daily confirmed cases\", \"7-day rolling average\": \"7-day rolling average\"}, {\"Date\": \"2020-04-25\", \"Confirmed cases\": 6, \"Rolling\": 14.714285714285714, \"Daily confirmed cases\": \"Daily confirmed cases\", \"7-day rolling average\": \"7-day rolling average\"}, {\"Date\": \"2020-04-26\", \"Confirmed cases\": 7, \"Rolling\": 15.285714285714286, \"Daily confirmed cases\": \"Daily confirmed cases\", \"7-day rolling average\": \"7-day rolling average\"}]}}, {\"mode\": \"vega-lite\"});\n",
       "</script>"
      ],
      "text/plain": [
       "alt.LayerChart(...)"
      ]
     },
     "execution_count": 37,
     "metadata": {},
     "output_type": "execute_result"
    }
   ],
   "source": [
    "#hide_input\n",
    "bars, line = my_cases_plot(region)\n",
    "(bars + line).properties(\n",
    "    title=f'Covid-19 in Chile: Daily confirmed cases in {region}',\n",
    "    width=600\n",
    ")"
   ]
  },
  {
   "cell_type": "markdown",
   "metadata": {},
   "source": [
    "## Tarapacá"
   ]
  },
  {
   "cell_type": "code",
   "execution_count": 38,
   "metadata": {},
   "outputs": [],
   "source": [
    "#hide\n",
    "region = \"Tarapacá\""
   ]
  },
  {
   "cell_type": "code",
   "execution_count": 39,
   "metadata": {},
   "outputs": [
    {
     "data": {
      "text/html": [
       "\n",
       "<div id=\"altair-viz-119abe5b58004043b5572f9cb7abc02c\"></div>\n",
       "<script type=\"text/javascript\">\n",
       "  (function(spec, embedOpt){\n",
       "    let outputDiv = document.currentScript.previousElementSibling;\n",
       "    if (outputDiv.id !== \"altair-viz-119abe5b58004043b5572f9cb7abc02c\") {\n",
       "      outputDiv = document.getElementById(\"altair-viz-119abe5b58004043b5572f9cb7abc02c\");\n",
       "    }\n",
       "    const paths = {\n",
       "      \"vega\": \"https://cdn.jsdelivr.net/npm//vega@5?noext\",\n",
       "      \"vega-lib\": \"https://cdn.jsdelivr.net/npm//vega-lib?noext\",\n",
       "      \"vega-lite\": \"https://cdn.jsdelivr.net/npm//vega-lite@4.8.1?noext\",\n",
       "      \"vega-embed\": \"https://cdn.jsdelivr.net/npm//vega-embed@6?noext\",\n",
       "    };\n",
       "\n",
       "    function loadScript(lib) {\n",
       "      return new Promise(function(resolve, reject) {\n",
       "        var s = document.createElement('script');\n",
       "        s.src = paths[lib];\n",
       "        s.async = true;\n",
       "        s.onload = () => resolve(paths[lib]);\n",
       "        s.onerror = () => reject(`Error loading script: ${paths[lib]}`);\n",
       "        document.getElementsByTagName(\"head\")[0].appendChild(s);\n",
       "      });\n",
       "    }\n",
       "\n",
       "    function showError(err) {\n",
       "      outputDiv.innerHTML = `<div class=\"error\" style=\"color:red;\">${err}</div>`;\n",
       "      throw err;\n",
       "    }\n",
       "\n",
       "    function displayChart(vegaEmbed) {\n",
       "      vegaEmbed(outputDiv, spec, embedOpt)\n",
       "        .catch(err => showError(`Javascript Error: ${err.message}<br>This usually means there's a typo in your chart specification. See the javascript console for the full traceback.`));\n",
       "    }\n",
       "\n",
       "    if(typeof define === \"function\" && define.amd) {\n",
       "      requirejs.config({paths});\n",
       "      require([\"vega-embed\"], displayChart, err => showError(`Error loading script: ${err.message}`));\n",
       "    } else if (typeof vegaEmbed === \"function\") {\n",
       "      displayChart(vegaEmbed);\n",
       "    } else {\n",
       "      loadScript(\"vega\")\n",
       "        .then(() => loadScript(\"vega-lite\"))\n",
       "        .then(() => loadScript(\"vega-embed\"))\n",
       "        .catch(showError)\n",
       "        .then(() => displayChart(vegaEmbed));\n",
       "    }\n",
       "  })({\"config\": {\"view\": {\"continuousWidth\": 400, \"continuousHeight\": 300}}, \"layer\": [{\"mark\": {\"type\": \"bar\", \"opacity\": 0.7}, \"encoding\": {\"opacity\": {\"type\": \"nominal\", \"field\": \"Daily confirmed cases\", \"legend\": {\"title\": \"\"}}, \"tooltip\": [{\"type\": \"nominal\", \"field\": \"Date\"}, {\"type\": \"quantitative\", \"field\": \"Confirmed cases\"}], \"x\": {\"type\": \"nominal\", \"axis\": {\"title\": \"Date\"}, \"field\": \"Date\"}, \"y\": {\"type\": \"quantitative\", \"axis\": {\"title\": \"Daily confirmed cases\"}, \"field\": \"Confirmed cases\"}}}, {\"mark\": {\"type\": \"line\", \"color\": \"#1f77b4\", \"point\": {\"filled\": true, \"fill\": \"#1f77b4\"}}, \"encoding\": {\"shape\": {\"type\": \"nominal\", \"field\": \"7-day rolling average\", \"legend\": {\"title\": \"\"}}, \"x\": {\"type\": \"nominal\", \"axis\": {\"title\": \"Date\"}, \"field\": \"Date\"}, \"y\": {\"type\": \"quantitative\", \"field\": \"Rolling\"}}}], \"data\": {\"name\": \"data-d038f104304ebf5a8123ba4808b7381e\"}, \"title\": \"Covid-19 in Chile: Daily confirmed cases in Tarapac\\u00e1\", \"width\": 600, \"$schema\": \"https://vega.github.io/schema/vega-lite/v4.8.1.json\", \"datasets\": {\"data-d038f104304ebf5a8123ba4808b7381e\": [{\"Date\": \"2020-03-04\", \"Confirmed cases\": 0, \"Rolling\": null, \"Daily confirmed cases\": \"Daily confirmed cases\", \"7-day rolling average\": \"7-day rolling average\"}, {\"Date\": \"2020-03-05\", \"Confirmed cases\": 0, \"Rolling\": null, \"Daily confirmed cases\": \"Daily confirmed cases\", \"7-day rolling average\": \"7-day rolling average\"}, {\"Date\": \"2020-03-06\", \"Confirmed cases\": 0, \"Rolling\": null, \"Daily confirmed cases\": \"Daily confirmed cases\", \"7-day rolling average\": \"7-day rolling average\"}, {\"Date\": \"2020-03-07\", \"Confirmed cases\": 0, \"Rolling\": null, \"Daily confirmed cases\": \"Daily confirmed cases\", \"7-day rolling average\": \"7-day rolling average\"}, {\"Date\": \"2020-03-08\", \"Confirmed cases\": 0, \"Rolling\": null, \"Daily confirmed cases\": \"Daily confirmed cases\", \"7-day rolling average\": \"7-day rolling average\"}, {\"Date\": \"2020-03-09\", \"Confirmed cases\": 0, \"Rolling\": null, \"Daily confirmed cases\": \"Daily confirmed cases\", \"7-day rolling average\": \"7-day rolling average\"}, {\"Date\": \"2020-03-10\", \"Confirmed cases\": 0, \"Rolling\": 0.0, \"Daily confirmed cases\": \"Daily confirmed cases\", \"7-day rolling average\": \"7-day rolling average\"}, {\"Date\": \"2020-03-11\", \"Confirmed cases\": 0, \"Rolling\": 0.0, \"Daily confirmed cases\": \"Daily confirmed cases\", \"7-day rolling average\": \"7-day rolling average\"}, {\"Date\": \"2020-03-12\", \"Confirmed cases\": 0, \"Rolling\": 0.0, \"Daily confirmed cases\": \"Daily confirmed cases\", \"7-day rolling average\": \"7-day rolling average\"}, {\"Date\": \"2020-03-13\", \"Confirmed cases\": 0, \"Rolling\": 0.0, \"Daily confirmed cases\": \"Daily confirmed cases\", \"7-day rolling average\": \"7-day rolling average\"}, {\"Date\": \"2020-03-14\", \"Confirmed cases\": 0, \"Rolling\": 0.0, \"Daily confirmed cases\": \"Daily confirmed cases\", \"7-day rolling average\": \"7-day rolling average\"}, {\"Date\": \"2020-03-15\", \"Confirmed cases\": 0, \"Rolling\": 0.0, \"Daily confirmed cases\": \"Daily confirmed cases\", \"7-day rolling average\": \"7-day rolling average\"}, {\"Date\": \"2020-03-16\", \"Confirmed cases\": 0, \"Rolling\": 0.0, \"Daily confirmed cases\": \"Daily confirmed cases\", \"7-day rolling average\": \"7-day rolling average\"}, {\"Date\": \"2020-03-17\", \"Confirmed cases\": 0, \"Rolling\": 0.0, \"Daily confirmed cases\": \"Daily confirmed cases\", \"7-day rolling average\": \"7-day rolling average\"}, {\"Date\": \"2020-03-18\", \"Confirmed cases\": 0, \"Rolling\": 0.0, \"Daily confirmed cases\": \"Daily confirmed cases\", \"7-day rolling average\": \"7-day rolling average\"}, {\"Date\": \"2020-03-19\", \"Confirmed cases\": 0, \"Rolling\": 0.0, \"Daily confirmed cases\": \"Daily confirmed cases\", \"7-day rolling average\": \"7-day rolling average\"}, {\"Date\": \"2020-03-20\", \"Confirmed cases\": 0, \"Rolling\": 0.0, \"Daily confirmed cases\": \"Daily confirmed cases\", \"7-day rolling average\": \"7-day rolling average\"}, {\"Date\": \"2020-03-21\", \"Confirmed cases\": 0, \"Rolling\": 0.0, \"Daily confirmed cases\": \"Daily confirmed cases\", \"7-day rolling average\": \"7-day rolling average\"}, {\"Date\": \"2020-03-22\", \"Confirmed cases\": 0, \"Rolling\": 0.0, \"Daily confirmed cases\": \"Daily confirmed cases\", \"7-day rolling average\": \"7-day rolling average\"}, {\"Date\": \"2020-03-23\", \"Confirmed cases\": 1, \"Rolling\": 0.14285714285714285, \"Daily confirmed cases\": \"Daily confirmed cases\", \"7-day rolling average\": \"7-day rolling average\"}, {\"Date\": \"2020-03-24\", \"Confirmed cases\": 3, \"Rolling\": 0.5714285714285714, \"Daily confirmed cases\": \"Daily confirmed cases\", \"7-day rolling average\": \"7-day rolling average\"}, {\"Date\": \"2020-03-25\", \"Confirmed cases\": 0, \"Rolling\": 0.5714285714285714, \"Daily confirmed cases\": \"Daily confirmed cases\", \"7-day rolling average\": \"7-day rolling average\"}, {\"Date\": \"2020-03-26\", \"Confirmed cases\": 1, \"Rolling\": 0.7142857142857143, \"Daily confirmed cases\": \"Daily confirmed cases\", \"7-day rolling average\": \"7-day rolling average\"}, {\"Date\": \"2020-03-27\", \"Confirmed cases\": 0, \"Rolling\": 0.7142857142857143, \"Daily confirmed cases\": \"Daily confirmed cases\", \"7-day rolling average\": \"7-day rolling average\"}, {\"Date\": \"2020-03-28\", \"Confirmed cases\": 0, \"Rolling\": 0.7142857142857143, \"Daily confirmed cases\": \"Daily confirmed cases\", \"7-day rolling average\": \"7-day rolling average\"}, {\"Date\": \"2020-03-29\", \"Confirmed cases\": 1, \"Rolling\": 0.8571428571428571, \"Daily confirmed cases\": \"Daily confirmed cases\", \"7-day rolling average\": \"7-day rolling average\"}, {\"Date\": \"2020-03-30\", \"Confirmed cases\": 2, \"Rolling\": 1.0, \"Daily confirmed cases\": \"Daily confirmed cases\", \"7-day rolling average\": \"7-day rolling average\"}, {\"Date\": \"2020-03-31\", \"Confirmed cases\": 2, \"Rolling\": 0.8571428571428571, \"Daily confirmed cases\": \"Daily confirmed cases\", \"7-day rolling average\": \"7-day rolling average\"}, {\"Date\": \"2020-04-01\", \"Confirmed cases\": 0, \"Rolling\": 0.8571428571428571, \"Daily confirmed cases\": \"Daily confirmed cases\", \"7-day rolling average\": \"7-day rolling average\"}, {\"Date\": \"2020-04-02\", \"Confirmed cases\": 2, \"Rolling\": 1.0, \"Daily confirmed cases\": \"Daily confirmed cases\", \"7-day rolling average\": \"7-day rolling average\"}, {\"Date\": \"2020-04-03\", \"Confirmed cases\": 1, \"Rolling\": 1.1428571428571428, \"Daily confirmed cases\": \"Daily confirmed cases\", \"7-day rolling average\": \"7-day rolling average\"}, {\"Date\": \"2020-04-04\", \"Confirmed cases\": 4, \"Rolling\": 1.7142857142857142, \"Daily confirmed cases\": \"Daily confirmed cases\", \"7-day rolling average\": \"7-day rolling average\"}, {\"Date\": \"2020-04-05\", \"Confirmed cases\": 3, \"Rolling\": 2.0, \"Daily confirmed cases\": \"Daily confirmed cases\", \"7-day rolling average\": \"7-day rolling average\"}, {\"Date\": \"2020-04-06\", \"Confirmed cases\": 1, \"Rolling\": 1.8571428571428572, \"Daily confirmed cases\": \"Daily confirmed cases\", \"7-day rolling average\": \"7-day rolling average\"}, {\"Date\": \"2020-04-07\", \"Confirmed cases\": 2, \"Rolling\": 1.8571428571428572, \"Daily confirmed cases\": \"Daily confirmed cases\", \"7-day rolling average\": \"7-day rolling average\"}, {\"Date\": \"2020-04-08\", \"Confirmed cases\": 3, \"Rolling\": 2.2857142857142856, \"Daily confirmed cases\": \"Daily confirmed cases\", \"7-day rolling average\": \"7-day rolling average\"}, {\"Date\": \"2020-04-09\", \"Confirmed cases\": 3, \"Rolling\": 2.4285714285714284, \"Daily confirmed cases\": \"Daily confirmed cases\", \"7-day rolling average\": \"7-day rolling average\"}, {\"Date\": \"2020-04-10\", \"Confirmed cases\": 6, \"Rolling\": 3.142857142857143, \"Daily confirmed cases\": \"Daily confirmed cases\", \"7-day rolling average\": \"7-day rolling average\"}, {\"Date\": \"2020-04-11\", \"Confirmed cases\": 3, \"Rolling\": 3.0, \"Daily confirmed cases\": \"Daily confirmed cases\", \"7-day rolling average\": \"7-day rolling average\"}, {\"Date\": \"2020-04-12\", \"Confirmed cases\": 8, \"Rolling\": 3.7142857142857144, \"Daily confirmed cases\": \"Daily confirmed cases\", \"7-day rolling average\": \"7-day rolling average\"}, {\"Date\": \"2020-04-13\", \"Confirmed cases\": 6, \"Rolling\": 4.428571428571429, \"Daily confirmed cases\": \"Daily confirmed cases\", \"7-day rolling average\": \"7-day rolling average\"}, {\"Date\": \"2020-04-14\", \"Confirmed cases\": 10, \"Rolling\": 5.571428571428571, \"Daily confirmed cases\": \"Daily confirmed cases\", \"7-day rolling average\": \"7-day rolling average\"}, {\"Date\": \"2020-04-15\", \"Confirmed cases\": 0, \"Rolling\": 5.142857142857143, \"Daily confirmed cases\": \"Daily confirmed cases\", \"7-day rolling average\": \"7-day rolling average\"}, {\"Date\": \"2020-04-16\", \"Confirmed cases\": 4, \"Rolling\": 5.285714285714286, \"Daily confirmed cases\": \"Daily confirmed cases\", \"7-day rolling average\": \"7-day rolling average\"}, {\"Date\": \"2020-04-17\", \"Confirmed cases\": 7, \"Rolling\": 5.428571428571429, \"Daily confirmed cases\": \"Daily confirmed cases\", \"7-day rolling average\": \"7-day rolling average\"}, {\"Date\": \"2020-04-18\", \"Confirmed cases\": 8, \"Rolling\": 6.142857142857143, \"Daily confirmed cases\": \"Daily confirmed cases\", \"7-day rolling average\": \"7-day rolling average\"}, {\"Date\": \"2020-04-19\", \"Confirmed cases\": 9, \"Rolling\": 6.285714285714286, \"Daily confirmed cases\": \"Daily confirmed cases\", \"7-day rolling average\": \"7-day rolling average\"}, {\"Date\": \"2020-04-20\", \"Confirmed cases\": 3, \"Rolling\": 5.857142857142857, \"Daily confirmed cases\": \"Daily confirmed cases\", \"7-day rolling average\": \"7-day rolling average\"}, {\"Date\": \"2020-04-21\", \"Confirmed cases\": 11, \"Rolling\": 6.0, \"Daily confirmed cases\": \"Daily confirmed cases\", \"7-day rolling average\": \"7-day rolling average\"}, {\"Date\": \"2020-04-22\", \"Confirmed cases\": 10, \"Rolling\": 7.428571428571429, \"Daily confirmed cases\": \"Daily confirmed cases\", \"7-day rolling average\": \"7-day rolling average\"}, {\"Date\": \"2020-04-23\", \"Confirmed cases\": 14, \"Rolling\": 8.857142857142858, \"Daily confirmed cases\": \"Daily confirmed cases\", \"7-day rolling average\": \"7-day rolling average\"}, {\"Date\": \"2020-04-24\", \"Confirmed cases\": 6, \"Rolling\": 8.714285714285714, \"Daily confirmed cases\": \"Daily confirmed cases\", \"7-day rolling average\": \"7-day rolling average\"}, {\"Date\": \"2020-04-25\", \"Confirmed cases\": 9, \"Rolling\": 8.857142857142858, \"Daily confirmed cases\": \"Daily confirmed cases\", \"7-day rolling average\": \"7-day rolling average\"}, {\"Date\": \"2020-04-26\", \"Confirmed cases\": 13, \"Rolling\": 9.428571428571429, \"Daily confirmed cases\": \"Daily confirmed cases\", \"7-day rolling average\": \"7-day rolling average\"}]}}, {\"mode\": \"vega-lite\"});\n",
       "</script>"
      ],
      "text/plain": [
       "alt.LayerChart(...)"
      ]
     },
     "execution_count": 39,
     "metadata": {},
     "output_type": "execute_result"
    }
   ],
   "source": [
    "#hide_input\n",
    "bars, line = my_cases_plot(region)\n",
    "(bars + line).properties(\n",
    "    title=f'Covid-19 in Chile: Daily confirmed cases in {region}',\n",
    "    width=600\n",
    ")"
   ]
  },
  {
   "cell_type": "markdown",
   "metadata": {},
   "source": [
    "## Antofagasta"
   ]
  },
  {
   "cell_type": "code",
   "execution_count": 40,
   "metadata": {},
   "outputs": [],
   "source": [
    "#hide\n",
    "region = \"Antofagasta\""
   ]
  },
  {
   "cell_type": "code",
   "execution_count": 41,
   "metadata": {},
   "outputs": [
    {
     "data": {
      "text/html": [
       "\n",
       "<div id=\"altair-viz-1fec6a528da943a8b25bd489e06692ce\"></div>\n",
       "<script type=\"text/javascript\">\n",
       "  (function(spec, embedOpt){\n",
       "    let outputDiv = document.currentScript.previousElementSibling;\n",
       "    if (outputDiv.id !== \"altair-viz-1fec6a528da943a8b25bd489e06692ce\") {\n",
       "      outputDiv = document.getElementById(\"altair-viz-1fec6a528da943a8b25bd489e06692ce\");\n",
       "    }\n",
       "    const paths = {\n",
       "      \"vega\": \"https://cdn.jsdelivr.net/npm//vega@5?noext\",\n",
       "      \"vega-lib\": \"https://cdn.jsdelivr.net/npm//vega-lib?noext\",\n",
       "      \"vega-lite\": \"https://cdn.jsdelivr.net/npm//vega-lite@4.8.1?noext\",\n",
       "      \"vega-embed\": \"https://cdn.jsdelivr.net/npm//vega-embed@6?noext\",\n",
       "    };\n",
       "\n",
       "    function loadScript(lib) {\n",
       "      return new Promise(function(resolve, reject) {\n",
       "        var s = document.createElement('script');\n",
       "        s.src = paths[lib];\n",
       "        s.async = true;\n",
       "        s.onload = () => resolve(paths[lib]);\n",
       "        s.onerror = () => reject(`Error loading script: ${paths[lib]}`);\n",
       "        document.getElementsByTagName(\"head\")[0].appendChild(s);\n",
       "      });\n",
       "    }\n",
       "\n",
       "    function showError(err) {\n",
       "      outputDiv.innerHTML = `<div class=\"error\" style=\"color:red;\">${err}</div>`;\n",
       "      throw err;\n",
       "    }\n",
       "\n",
       "    function displayChart(vegaEmbed) {\n",
       "      vegaEmbed(outputDiv, spec, embedOpt)\n",
       "        .catch(err => showError(`Javascript Error: ${err.message}<br>This usually means there's a typo in your chart specification. See the javascript console for the full traceback.`));\n",
       "    }\n",
       "\n",
       "    if(typeof define === \"function\" && define.amd) {\n",
       "      requirejs.config({paths});\n",
       "      require([\"vega-embed\"], displayChart, err => showError(`Error loading script: ${err.message}`));\n",
       "    } else if (typeof vegaEmbed === \"function\") {\n",
       "      displayChart(vegaEmbed);\n",
       "    } else {\n",
       "      loadScript(\"vega\")\n",
       "        .then(() => loadScript(\"vega-lite\"))\n",
       "        .then(() => loadScript(\"vega-embed\"))\n",
       "        .catch(showError)\n",
       "        .then(() => displayChart(vegaEmbed));\n",
       "    }\n",
       "  })({\"config\": {\"view\": {\"continuousWidth\": 400, \"continuousHeight\": 300}}, \"layer\": [{\"mark\": {\"type\": \"bar\", \"opacity\": 0.7}, \"encoding\": {\"opacity\": {\"type\": \"nominal\", \"field\": \"Daily confirmed cases\", \"legend\": {\"title\": \"\"}}, \"tooltip\": [{\"type\": \"nominal\", \"field\": \"Date\"}, {\"type\": \"quantitative\", \"field\": \"Confirmed cases\"}], \"x\": {\"type\": \"nominal\", \"axis\": {\"title\": \"Date\"}, \"field\": \"Date\"}, \"y\": {\"type\": \"quantitative\", \"axis\": {\"title\": \"Daily confirmed cases\"}, \"field\": \"Confirmed cases\"}}}, {\"mark\": {\"type\": \"line\", \"color\": \"#1f77b4\", \"point\": {\"filled\": true, \"fill\": \"#1f77b4\"}}, \"encoding\": {\"shape\": {\"type\": \"nominal\", \"field\": \"7-day rolling average\", \"legend\": {\"title\": \"\"}}, \"x\": {\"type\": \"nominal\", \"axis\": {\"title\": \"Date\"}, \"field\": \"Date\"}, \"y\": {\"type\": \"quantitative\", \"field\": \"Rolling\"}}}], \"data\": {\"name\": \"data-e9ba5812746b8261e3d7eb3d618e93ae\"}, \"title\": \"Covid-19 in Chile: Daily confirmed cases in Antofagasta\", \"width\": 600, \"$schema\": \"https://vega.github.io/schema/vega-lite/v4.8.1.json\", \"datasets\": {\"data-e9ba5812746b8261e3d7eb3d618e93ae\": [{\"Date\": \"2020-03-04\", \"Confirmed cases\": 0, \"Rolling\": null, \"Daily confirmed cases\": \"Daily confirmed cases\", \"7-day rolling average\": \"7-day rolling average\"}, {\"Date\": \"2020-03-05\", \"Confirmed cases\": 0, \"Rolling\": null, \"Daily confirmed cases\": \"Daily confirmed cases\", \"7-day rolling average\": \"7-day rolling average\"}, {\"Date\": \"2020-03-06\", \"Confirmed cases\": 0, \"Rolling\": null, \"Daily confirmed cases\": \"Daily confirmed cases\", \"7-day rolling average\": \"7-day rolling average\"}, {\"Date\": \"2020-03-07\", \"Confirmed cases\": 0, \"Rolling\": null, \"Daily confirmed cases\": \"Daily confirmed cases\", \"7-day rolling average\": \"7-day rolling average\"}, {\"Date\": \"2020-03-08\", \"Confirmed cases\": 0, \"Rolling\": null, \"Daily confirmed cases\": \"Daily confirmed cases\", \"7-day rolling average\": \"7-day rolling average\"}, {\"Date\": \"2020-03-09\", \"Confirmed cases\": 0, \"Rolling\": null, \"Daily confirmed cases\": \"Daily confirmed cases\", \"7-day rolling average\": \"7-day rolling average\"}, {\"Date\": \"2020-03-10\", \"Confirmed cases\": 0, \"Rolling\": 0.0, \"Daily confirmed cases\": \"Daily confirmed cases\", \"7-day rolling average\": \"7-day rolling average\"}, {\"Date\": \"2020-03-11\", \"Confirmed cases\": 0, \"Rolling\": 0.0, \"Daily confirmed cases\": \"Daily confirmed cases\", \"7-day rolling average\": \"7-day rolling average\"}, {\"Date\": \"2020-03-12\", \"Confirmed cases\": 0, \"Rolling\": 0.0, \"Daily confirmed cases\": \"Daily confirmed cases\", \"7-day rolling average\": \"7-day rolling average\"}, {\"Date\": \"2020-03-13\", \"Confirmed cases\": 0, \"Rolling\": 0.0, \"Daily confirmed cases\": \"Daily confirmed cases\", \"7-day rolling average\": \"7-day rolling average\"}, {\"Date\": \"2020-03-14\", \"Confirmed cases\": 2, \"Rolling\": 0.2857142857142857, \"Daily confirmed cases\": \"Daily confirmed cases\", \"7-day rolling average\": \"7-day rolling average\"}, {\"Date\": \"2020-03-15\", \"Confirmed cases\": 0, \"Rolling\": 0.2857142857142857, \"Daily confirmed cases\": \"Daily confirmed cases\", \"7-day rolling average\": \"7-day rolling average\"}, {\"Date\": \"2020-03-16\", \"Confirmed cases\": 0, \"Rolling\": 0.2857142857142857, \"Daily confirmed cases\": \"Daily confirmed cases\", \"7-day rolling average\": \"7-day rolling average\"}, {\"Date\": \"2020-03-17\", \"Confirmed cases\": 0, \"Rolling\": 0.2857142857142857, \"Daily confirmed cases\": \"Daily confirmed cases\", \"7-day rolling average\": \"7-day rolling average\"}, {\"Date\": \"2020-03-18\", \"Confirmed cases\": 0, \"Rolling\": 0.2857142857142857, \"Daily confirmed cases\": \"Daily confirmed cases\", \"7-day rolling average\": \"7-day rolling average\"}, {\"Date\": \"2020-03-19\", \"Confirmed cases\": 0, \"Rolling\": 0.2857142857142857, \"Daily confirmed cases\": \"Daily confirmed cases\", \"7-day rolling average\": \"7-day rolling average\"}, {\"Date\": \"2020-03-20\", \"Confirmed cases\": 4, \"Rolling\": 0.8571428571428571, \"Daily confirmed cases\": \"Daily confirmed cases\", \"7-day rolling average\": \"7-day rolling average\"}, {\"Date\": \"2020-03-21\", \"Confirmed cases\": 4, \"Rolling\": 1.1428571428571428, \"Daily confirmed cases\": \"Daily confirmed cases\", \"7-day rolling average\": \"7-day rolling average\"}, {\"Date\": \"2020-03-22\", \"Confirmed cases\": 1, \"Rolling\": 1.2857142857142858, \"Daily confirmed cases\": \"Daily confirmed cases\", \"7-day rolling average\": \"7-day rolling average\"}, {\"Date\": \"2020-03-23\", \"Confirmed cases\": 0, \"Rolling\": 1.2857142857142858, \"Daily confirmed cases\": \"Daily confirmed cases\", \"7-day rolling average\": \"7-day rolling average\"}, {\"Date\": \"2020-03-24\", \"Confirmed cases\": 2, \"Rolling\": 1.5714285714285714, \"Daily confirmed cases\": \"Daily confirmed cases\", \"7-day rolling average\": \"7-day rolling average\"}, {\"Date\": \"2020-03-25\", \"Confirmed cases\": 6, \"Rolling\": 2.4285714285714284, \"Daily confirmed cases\": \"Daily confirmed cases\", \"7-day rolling average\": \"7-day rolling average\"}, {\"Date\": \"2020-03-26\", \"Confirmed cases\": 1, \"Rolling\": 2.5714285714285716, \"Daily confirmed cases\": \"Daily confirmed cases\", \"7-day rolling average\": \"7-day rolling average\"}, {\"Date\": \"2020-03-27\", \"Confirmed cases\": 1, \"Rolling\": 2.142857142857143, \"Daily confirmed cases\": \"Daily confirmed cases\", \"7-day rolling average\": \"7-day rolling average\"}, {\"Date\": \"2020-03-28\", \"Confirmed cases\": 4, \"Rolling\": 2.142857142857143, \"Daily confirmed cases\": \"Daily confirmed cases\", \"7-day rolling average\": \"7-day rolling average\"}, {\"Date\": \"2020-03-29\", \"Confirmed cases\": 2, \"Rolling\": 2.2857142857142856, \"Daily confirmed cases\": \"Daily confirmed cases\", \"7-day rolling average\": \"7-day rolling average\"}, {\"Date\": \"2020-03-30\", \"Confirmed cases\": 8, \"Rolling\": 3.4285714285714284, \"Daily confirmed cases\": \"Daily confirmed cases\", \"7-day rolling average\": \"7-day rolling average\"}, {\"Date\": \"2020-03-31\", \"Confirmed cases\": 0, \"Rolling\": 3.142857142857143, \"Daily confirmed cases\": \"Daily confirmed cases\", \"7-day rolling average\": \"7-day rolling average\"}, {\"Date\": \"2020-04-01\", \"Confirmed cases\": 4, \"Rolling\": 2.857142857142857, \"Daily confirmed cases\": \"Daily confirmed cases\", \"7-day rolling average\": \"7-day rolling average\"}, {\"Date\": \"2020-04-02\", \"Confirmed cases\": 8, \"Rolling\": 3.857142857142857, \"Daily confirmed cases\": \"Daily confirmed cases\", \"7-day rolling average\": \"7-day rolling average\"}, {\"Date\": \"2020-04-03\", \"Confirmed cases\": 7, \"Rolling\": 4.714285714285714, \"Daily confirmed cases\": \"Daily confirmed cases\", \"7-day rolling average\": \"7-day rolling average\"}, {\"Date\": \"2020-04-04\", \"Confirmed cases\": 1, \"Rolling\": 4.285714285714286, \"Daily confirmed cases\": \"Daily confirmed cases\", \"7-day rolling average\": \"7-day rolling average\"}, {\"Date\": \"2020-04-05\", \"Confirmed cases\": 5, \"Rolling\": 4.714285714285714, \"Daily confirmed cases\": \"Daily confirmed cases\", \"7-day rolling average\": \"7-day rolling average\"}, {\"Date\": \"2020-04-06\", \"Confirmed cases\": 8, \"Rolling\": 4.714285714285714, \"Daily confirmed cases\": \"Daily confirmed cases\", \"7-day rolling average\": \"7-day rolling average\"}, {\"Date\": \"2020-04-07\", \"Confirmed cases\": 1, \"Rolling\": 4.857142857142857, \"Daily confirmed cases\": \"Daily confirmed cases\", \"7-day rolling average\": \"7-day rolling average\"}, {\"Date\": \"2020-04-08\", \"Confirmed cases\": 8, \"Rolling\": 5.428571428571429, \"Daily confirmed cases\": \"Daily confirmed cases\", \"7-day rolling average\": \"7-day rolling average\"}, {\"Date\": \"2020-04-09\", \"Confirmed cases\": 15, \"Rolling\": 6.428571428571429, \"Daily confirmed cases\": \"Daily confirmed cases\", \"7-day rolling average\": \"7-day rolling average\"}, {\"Date\": \"2020-04-10\", \"Confirmed cases\": 18, \"Rolling\": 8.0, \"Daily confirmed cases\": \"Daily confirmed cases\", \"7-day rolling average\": \"7-day rolling average\"}, {\"Date\": \"2020-04-11\", \"Confirmed cases\": 7, \"Rolling\": 8.857142857142858, \"Daily confirmed cases\": \"Daily confirmed cases\", \"7-day rolling average\": \"7-day rolling average\"}, {\"Date\": \"2020-04-12\", \"Confirmed cases\": 21, \"Rolling\": 11.142857142857142, \"Daily confirmed cases\": \"Daily confirmed cases\", \"7-day rolling average\": \"7-day rolling average\"}, {\"Date\": \"2020-04-13\", \"Confirmed cases\": 11, \"Rolling\": 11.571428571428571, \"Daily confirmed cases\": \"Daily confirmed cases\", \"7-day rolling average\": \"7-day rolling average\"}, {\"Date\": \"2020-04-14\", \"Confirmed cases\": 6, \"Rolling\": 12.285714285714286, \"Daily confirmed cases\": \"Daily confirmed cases\", \"7-day rolling average\": \"7-day rolling average\"}, {\"Date\": \"2020-04-15\", \"Confirmed cases\": 21, \"Rolling\": 14.142857142857142, \"Daily confirmed cases\": \"Daily confirmed cases\", \"7-day rolling average\": \"7-day rolling average\"}, {\"Date\": \"2020-04-16\", \"Confirmed cases\": 16, \"Rolling\": 14.285714285714286, \"Daily confirmed cases\": \"Daily confirmed cases\", \"7-day rolling average\": \"7-day rolling average\"}, {\"Date\": \"2020-04-17\", \"Confirmed cases\": 19, \"Rolling\": 14.428571428571429, \"Daily confirmed cases\": \"Daily confirmed cases\", \"7-day rolling average\": \"7-day rolling average\"}, {\"Date\": \"2020-04-18\", \"Confirmed cases\": 15, \"Rolling\": 15.571428571428571, \"Daily confirmed cases\": \"Daily confirmed cases\", \"7-day rolling average\": \"7-day rolling average\"}, {\"Date\": \"2020-04-19\", \"Confirmed cases\": 23, \"Rolling\": 15.857142857142858, \"Daily confirmed cases\": \"Daily confirmed cases\", \"7-day rolling average\": \"7-day rolling average\"}, {\"Date\": \"2020-04-20\", \"Confirmed cases\": 14, \"Rolling\": 16.285714285714285, \"Daily confirmed cases\": \"Daily confirmed cases\", \"7-day rolling average\": \"7-day rolling average\"}, {\"Date\": \"2020-04-21\", \"Confirmed cases\": 28, \"Rolling\": 19.428571428571427, \"Daily confirmed cases\": \"Daily confirmed cases\", \"7-day rolling average\": \"7-day rolling average\"}, {\"Date\": \"2020-04-22\", \"Confirmed cases\": 35, \"Rolling\": 21.428571428571427, \"Daily confirmed cases\": \"Daily confirmed cases\", \"7-day rolling average\": \"7-day rolling average\"}, {\"Date\": \"2020-04-23\", \"Confirmed cases\": 14, \"Rolling\": 21.142857142857142, \"Daily confirmed cases\": \"Daily confirmed cases\", \"7-day rolling average\": \"7-day rolling average\"}, {\"Date\": \"2020-04-24\", \"Confirmed cases\": 26, \"Rolling\": 22.142857142857142, \"Daily confirmed cases\": \"Daily confirmed cases\", \"7-day rolling average\": \"7-day rolling average\"}, {\"Date\": \"2020-04-25\", \"Confirmed cases\": 25, \"Rolling\": 23.571428571428573, \"Daily confirmed cases\": \"Daily confirmed cases\", \"7-day rolling average\": \"7-day rolling average\"}, {\"Date\": \"2020-04-26\", \"Confirmed cases\": 52, \"Rolling\": 27.714285714285715, \"Daily confirmed cases\": \"Daily confirmed cases\", \"7-day rolling average\": \"7-day rolling average\"}]}}, {\"mode\": \"vega-lite\"});\n",
       "</script>"
      ],
      "text/plain": [
       "alt.LayerChart(...)"
      ]
     },
     "execution_count": 41,
     "metadata": {},
     "output_type": "execute_result"
    }
   ],
   "source": [
    "#hide_input\n",
    "bars, line = my_cases_plot(region)\n",
    "(bars + line).properties(\n",
    "    title=f'Covid-19 in Chile: Daily confirmed cases in {region}',\n",
    "    width=600\n",
    ")"
   ]
  },
  {
   "cell_type": "markdown",
   "metadata": {},
   "source": [
    "## Atacama"
   ]
  },
  {
   "cell_type": "code",
   "execution_count": 42,
   "metadata": {},
   "outputs": [],
   "source": [
    "#hide\n",
    "region = \"Atacama\""
   ]
  },
  {
   "cell_type": "code",
   "execution_count": 43,
   "metadata": {},
   "outputs": [
    {
     "data": {
      "text/html": [
       "\n",
       "<div id=\"altair-viz-2dd510e6c466416f827c370bc5127634\"></div>\n",
       "<script type=\"text/javascript\">\n",
       "  (function(spec, embedOpt){\n",
       "    let outputDiv = document.currentScript.previousElementSibling;\n",
       "    if (outputDiv.id !== \"altair-viz-2dd510e6c466416f827c370bc5127634\") {\n",
       "      outputDiv = document.getElementById(\"altair-viz-2dd510e6c466416f827c370bc5127634\");\n",
       "    }\n",
       "    const paths = {\n",
       "      \"vega\": \"https://cdn.jsdelivr.net/npm//vega@5?noext\",\n",
       "      \"vega-lib\": \"https://cdn.jsdelivr.net/npm//vega-lib?noext\",\n",
       "      \"vega-lite\": \"https://cdn.jsdelivr.net/npm//vega-lite@4.8.1?noext\",\n",
       "      \"vega-embed\": \"https://cdn.jsdelivr.net/npm//vega-embed@6?noext\",\n",
       "    };\n",
       "\n",
       "    function loadScript(lib) {\n",
       "      return new Promise(function(resolve, reject) {\n",
       "        var s = document.createElement('script');\n",
       "        s.src = paths[lib];\n",
       "        s.async = true;\n",
       "        s.onload = () => resolve(paths[lib]);\n",
       "        s.onerror = () => reject(`Error loading script: ${paths[lib]}`);\n",
       "        document.getElementsByTagName(\"head\")[0].appendChild(s);\n",
       "      });\n",
       "    }\n",
       "\n",
       "    function showError(err) {\n",
       "      outputDiv.innerHTML = `<div class=\"error\" style=\"color:red;\">${err}</div>`;\n",
       "      throw err;\n",
       "    }\n",
       "\n",
       "    function displayChart(vegaEmbed) {\n",
       "      vegaEmbed(outputDiv, spec, embedOpt)\n",
       "        .catch(err => showError(`Javascript Error: ${err.message}<br>This usually means there's a typo in your chart specification. See the javascript console for the full traceback.`));\n",
       "    }\n",
       "\n",
       "    if(typeof define === \"function\" && define.amd) {\n",
       "      requirejs.config({paths});\n",
       "      require([\"vega-embed\"], displayChart, err => showError(`Error loading script: ${err.message}`));\n",
       "    } else if (typeof vegaEmbed === \"function\") {\n",
       "      displayChart(vegaEmbed);\n",
       "    } else {\n",
       "      loadScript(\"vega\")\n",
       "        .then(() => loadScript(\"vega-lite\"))\n",
       "        .then(() => loadScript(\"vega-embed\"))\n",
       "        .catch(showError)\n",
       "        .then(() => displayChart(vegaEmbed));\n",
       "    }\n",
       "  })({\"config\": {\"view\": {\"continuousWidth\": 400, \"continuousHeight\": 300}}, \"layer\": [{\"mark\": {\"type\": \"bar\", \"opacity\": 0.7}, \"encoding\": {\"opacity\": {\"type\": \"nominal\", \"field\": \"Daily confirmed cases\", \"legend\": {\"title\": \"\"}}, \"tooltip\": [{\"type\": \"nominal\", \"field\": \"Date\"}, {\"type\": \"quantitative\", \"field\": \"Confirmed cases\"}], \"x\": {\"type\": \"nominal\", \"axis\": {\"title\": \"Date\"}, \"field\": \"Date\"}, \"y\": {\"type\": \"quantitative\", \"axis\": {\"title\": \"Daily confirmed cases\"}, \"field\": \"Confirmed cases\"}}}, {\"mark\": {\"type\": \"line\", \"color\": \"#1f77b4\", \"point\": {\"filled\": true, \"fill\": \"#1f77b4\"}}, \"encoding\": {\"shape\": {\"type\": \"nominal\", \"field\": \"7-day rolling average\", \"legend\": {\"title\": \"\"}}, \"x\": {\"type\": \"nominal\", \"axis\": {\"title\": \"Date\"}, \"field\": \"Date\"}, \"y\": {\"type\": \"quantitative\", \"field\": \"Rolling\"}}}], \"data\": {\"name\": \"data-e01ca5d3249a20e93c9e9f8c1e20d6a0\"}, \"title\": \"Covid-19 in Chile: Daily confirmed cases in Atacama\", \"width\": 600, \"$schema\": \"https://vega.github.io/schema/vega-lite/v4.8.1.json\", \"datasets\": {\"data-e01ca5d3249a20e93c9e9f8c1e20d6a0\": [{\"Date\": \"2020-03-04\", \"Confirmed cases\": 0, \"Rolling\": null, \"Daily confirmed cases\": \"Daily confirmed cases\", \"7-day rolling average\": \"7-day rolling average\"}, {\"Date\": \"2020-03-05\", \"Confirmed cases\": 0, \"Rolling\": null, \"Daily confirmed cases\": \"Daily confirmed cases\", \"7-day rolling average\": \"7-day rolling average\"}, {\"Date\": \"2020-03-06\", \"Confirmed cases\": 0, \"Rolling\": null, \"Daily confirmed cases\": \"Daily confirmed cases\", \"7-day rolling average\": \"7-day rolling average\"}, {\"Date\": \"2020-03-07\", \"Confirmed cases\": 0, \"Rolling\": null, \"Daily confirmed cases\": \"Daily confirmed cases\", \"7-day rolling average\": \"7-day rolling average\"}, {\"Date\": \"2020-03-08\", \"Confirmed cases\": 0, \"Rolling\": null, \"Daily confirmed cases\": \"Daily confirmed cases\", \"7-day rolling average\": \"7-day rolling average\"}, {\"Date\": \"2020-03-09\", \"Confirmed cases\": 0, \"Rolling\": null, \"Daily confirmed cases\": \"Daily confirmed cases\", \"7-day rolling average\": \"7-day rolling average\"}, {\"Date\": \"2020-03-10\", \"Confirmed cases\": 0, \"Rolling\": 0.0, \"Daily confirmed cases\": \"Daily confirmed cases\", \"7-day rolling average\": \"7-day rolling average\"}, {\"Date\": \"2020-03-11\", \"Confirmed cases\": 0, \"Rolling\": 0.0, \"Daily confirmed cases\": \"Daily confirmed cases\", \"7-day rolling average\": \"7-day rolling average\"}, {\"Date\": \"2020-03-12\", \"Confirmed cases\": 0, \"Rolling\": 0.0, \"Daily confirmed cases\": \"Daily confirmed cases\", \"7-day rolling average\": \"7-day rolling average\"}, {\"Date\": \"2020-03-13\", \"Confirmed cases\": 0, \"Rolling\": 0.0, \"Daily confirmed cases\": \"Daily confirmed cases\", \"7-day rolling average\": \"7-day rolling average\"}, {\"Date\": \"2020-03-14\", \"Confirmed cases\": 1, \"Rolling\": 0.14285714285714285, \"Daily confirmed cases\": \"Daily confirmed cases\", \"7-day rolling average\": \"7-day rolling average\"}, {\"Date\": \"2020-03-15\", \"Confirmed cases\": 0, \"Rolling\": 0.14285714285714285, \"Daily confirmed cases\": \"Daily confirmed cases\", \"7-day rolling average\": \"7-day rolling average\"}, {\"Date\": \"2020-03-16\", \"Confirmed cases\": 0, \"Rolling\": 0.14285714285714285, \"Daily confirmed cases\": \"Daily confirmed cases\", \"7-day rolling average\": \"7-day rolling average\"}, {\"Date\": \"2020-03-17\", \"Confirmed cases\": 0, \"Rolling\": 0.14285714285714285, \"Daily confirmed cases\": \"Daily confirmed cases\", \"7-day rolling average\": \"7-day rolling average\"}, {\"Date\": \"2020-03-18\", \"Confirmed cases\": 0, \"Rolling\": 0.14285714285714285, \"Daily confirmed cases\": \"Daily confirmed cases\", \"7-day rolling average\": \"7-day rolling average\"}, {\"Date\": \"2020-03-19\", \"Confirmed cases\": 0, \"Rolling\": 0.14285714285714285, \"Daily confirmed cases\": \"Daily confirmed cases\", \"7-day rolling average\": \"7-day rolling average\"}, {\"Date\": \"2020-03-20\", \"Confirmed cases\": 0, \"Rolling\": 0.14285714285714285, \"Daily confirmed cases\": \"Daily confirmed cases\", \"7-day rolling average\": \"7-day rolling average\"}, {\"Date\": \"2020-03-21\", \"Confirmed cases\": 0, \"Rolling\": 0.0, \"Daily confirmed cases\": \"Daily confirmed cases\", \"7-day rolling average\": \"7-day rolling average\"}, {\"Date\": \"2020-03-22\", \"Confirmed cases\": 0, \"Rolling\": 0.0, \"Daily confirmed cases\": \"Daily confirmed cases\", \"7-day rolling average\": \"7-day rolling average\"}, {\"Date\": \"2020-03-23\", \"Confirmed cases\": 0, \"Rolling\": 0.0, \"Daily confirmed cases\": \"Daily confirmed cases\", \"7-day rolling average\": \"7-day rolling average\"}, {\"Date\": \"2020-03-24\", \"Confirmed cases\": 0, \"Rolling\": 0.0, \"Daily confirmed cases\": \"Daily confirmed cases\", \"7-day rolling average\": \"7-day rolling average\"}, {\"Date\": \"2020-03-25\", \"Confirmed cases\": 0, \"Rolling\": 0.0, \"Daily confirmed cases\": \"Daily confirmed cases\", \"7-day rolling average\": \"7-day rolling average\"}, {\"Date\": \"2020-03-26\", \"Confirmed cases\": 0, \"Rolling\": 0.0, \"Daily confirmed cases\": \"Daily confirmed cases\", \"7-day rolling average\": \"7-day rolling average\"}, {\"Date\": \"2020-03-27\", \"Confirmed cases\": 0, \"Rolling\": 0.0, \"Daily confirmed cases\": \"Daily confirmed cases\", \"7-day rolling average\": \"7-day rolling average\"}, {\"Date\": \"2020-03-28\", \"Confirmed cases\": 0, \"Rolling\": 0.0, \"Daily confirmed cases\": \"Daily confirmed cases\", \"7-day rolling average\": \"7-day rolling average\"}, {\"Date\": \"2020-03-29\", \"Confirmed cases\": 1, \"Rolling\": 0.14285714285714285, \"Daily confirmed cases\": \"Daily confirmed cases\", \"7-day rolling average\": \"7-day rolling average\"}, {\"Date\": \"2020-03-30\", \"Confirmed cases\": 0, \"Rolling\": 0.14285714285714285, \"Daily confirmed cases\": \"Daily confirmed cases\", \"7-day rolling average\": \"7-day rolling average\"}, {\"Date\": \"2020-03-31\", \"Confirmed cases\": 0, \"Rolling\": 0.14285714285714285, \"Daily confirmed cases\": \"Daily confirmed cases\", \"7-day rolling average\": \"7-day rolling average\"}, {\"Date\": \"2020-04-01\", \"Confirmed cases\": 1, \"Rolling\": 0.2857142857142857, \"Daily confirmed cases\": \"Daily confirmed cases\", \"7-day rolling average\": \"7-day rolling average\"}, {\"Date\": \"2020-04-02\", \"Confirmed cases\": 0, \"Rolling\": 0.2857142857142857, \"Daily confirmed cases\": \"Daily confirmed cases\", \"7-day rolling average\": \"7-day rolling average\"}, {\"Date\": \"2020-04-03\", \"Confirmed cases\": 2, \"Rolling\": 0.5714285714285714, \"Daily confirmed cases\": \"Daily confirmed cases\", \"7-day rolling average\": \"7-day rolling average\"}, {\"Date\": \"2020-04-04\", \"Confirmed cases\": 0, \"Rolling\": 0.5714285714285714, \"Daily confirmed cases\": \"Daily confirmed cases\", \"7-day rolling average\": \"7-day rolling average\"}, {\"Date\": \"2020-04-05\", \"Confirmed cases\": 0, \"Rolling\": 0.42857142857142855, \"Daily confirmed cases\": \"Daily confirmed cases\", \"7-day rolling average\": \"7-day rolling average\"}, {\"Date\": \"2020-04-06\", \"Confirmed cases\": 0, \"Rolling\": 0.42857142857142855, \"Daily confirmed cases\": \"Daily confirmed cases\", \"7-day rolling average\": \"7-day rolling average\"}, {\"Date\": \"2020-04-07\", \"Confirmed cases\": 1, \"Rolling\": 0.5714285714285714, \"Daily confirmed cases\": \"Daily confirmed cases\", \"7-day rolling average\": \"7-day rolling average\"}, {\"Date\": \"2020-04-08\", \"Confirmed cases\": 2, \"Rolling\": 0.7142857142857143, \"Daily confirmed cases\": \"Daily confirmed cases\", \"7-day rolling average\": \"7-day rolling average\"}, {\"Date\": \"2020-04-09\", \"Confirmed cases\": 2, \"Rolling\": 1.0, \"Daily confirmed cases\": \"Daily confirmed cases\", \"7-day rolling average\": \"7-day rolling average\"}, {\"Date\": \"2020-04-10\", \"Confirmed cases\": 3, \"Rolling\": 1.1428571428571428, \"Daily confirmed cases\": \"Daily confirmed cases\", \"7-day rolling average\": \"7-day rolling average\"}, {\"Date\": \"2020-04-11\", \"Confirmed cases\": 0, \"Rolling\": 1.1428571428571428, \"Daily confirmed cases\": \"Daily confirmed cases\", \"7-day rolling average\": \"7-day rolling average\"}, {\"Date\": \"2020-04-12\", \"Confirmed cases\": 0, \"Rolling\": 1.1428571428571428, \"Daily confirmed cases\": \"Daily confirmed cases\", \"7-day rolling average\": \"7-day rolling average\"}, {\"Date\": \"2020-04-13\", \"Confirmed cases\": 0, \"Rolling\": 1.1428571428571428, \"Daily confirmed cases\": \"Daily confirmed cases\", \"7-day rolling average\": \"7-day rolling average\"}, {\"Date\": \"2020-04-14\", \"Confirmed cases\": 0, \"Rolling\": 1.0, \"Daily confirmed cases\": \"Daily confirmed cases\", \"7-day rolling average\": \"7-day rolling average\"}, {\"Date\": \"2020-04-15\", \"Confirmed cases\": 0, \"Rolling\": 0.7142857142857143, \"Daily confirmed cases\": \"Daily confirmed cases\", \"7-day rolling average\": \"7-day rolling average\"}, {\"Date\": \"2020-04-16\", \"Confirmed cases\": 0, \"Rolling\": 0.42857142857142855, \"Daily confirmed cases\": \"Daily confirmed cases\", \"7-day rolling average\": \"7-day rolling average\"}, {\"Date\": \"2020-04-17\", \"Confirmed cases\": 0, \"Rolling\": 0.0, \"Daily confirmed cases\": \"Daily confirmed cases\", \"7-day rolling average\": \"7-day rolling average\"}, {\"Date\": \"2020-04-18\", \"Confirmed cases\": 0, \"Rolling\": 0.0, \"Daily confirmed cases\": \"Daily confirmed cases\", \"7-day rolling average\": \"7-day rolling average\"}, {\"Date\": \"2020-04-19\", \"Confirmed cases\": 0, \"Rolling\": 0.0, \"Daily confirmed cases\": \"Daily confirmed cases\", \"7-day rolling average\": \"7-day rolling average\"}, {\"Date\": \"2020-04-20\", \"Confirmed cases\": 0, \"Rolling\": 0.0, \"Daily confirmed cases\": \"Daily confirmed cases\", \"7-day rolling average\": \"7-day rolling average\"}, {\"Date\": \"2020-04-21\", \"Confirmed cases\": 0, \"Rolling\": 0.0, \"Daily confirmed cases\": \"Daily confirmed cases\", \"7-day rolling average\": \"7-day rolling average\"}, {\"Date\": \"2020-04-22\", \"Confirmed cases\": 0, \"Rolling\": 0.0, \"Daily confirmed cases\": \"Daily confirmed cases\", \"7-day rolling average\": \"7-day rolling average\"}, {\"Date\": \"2020-04-23\", \"Confirmed cases\": 5, \"Rolling\": 0.7142857142857143, \"Daily confirmed cases\": \"Daily confirmed cases\", \"7-day rolling average\": \"7-day rolling average\"}, {\"Date\": \"2020-04-24\", \"Confirmed cases\": 3, \"Rolling\": 1.1428571428571428, \"Daily confirmed cases\": \"Daily confirmed cases\", \"7-day rolling average\": \"7-day rolling average\"}, {\"Date\": \"2020-04-25\", \"Confirmed cases\": 3, \"Rolling\": 1.5714285714285714, \"Daily confirmed cases\": \"Daily confirmed cases\", \"7-day rolling average\": \"7-day rolling average\"}, {\"Date\": \"2020-04-26\", \"Confirmed cases\": 5, \"Rolling\": 2.2857142857142856, \"Daily confirmed cases\": \"Daily confirmed cases\", \"7-day rolling average\": \"7-day rolling average\"}]}}, {\"mode\": \"vega-lite\"});\n",
       "</script>"
      ],
      "text/plain": [
       "alt.LayerChart(...)"
      ]
     },
     "execution_count": 43,
     "metadata": {},
     "output_type": "execute_result"
    }
   ],
   "source": [
    "#hide_input\n",
    "bars, line = my_cases_plot(region)\n",
    "(bars + line).properties(\n",
    "    title=f'Covid-19 in Chile: Daily confirmed cases in {region}',\n",
    "    width=600\n",
    ")"
   ]
  },
  {
   "cell_type": "markdown",
   "metadata": {},
   "source": [
    "## Coquimbo"
   ]
  },
  {
   "cell_type": "code",
   "execution_count": 44,
   "metadata": {},
   "outputs": [],
   "source": [
    "#hide\n",
    "region = \"Coquimbo\""
   ]
  },
  {
   "cell_type": "code",
   "execution_count": 45,
   "metadata": {},
   "outputs": [
    {
     "data": {
      "text/html": [
       "\n",
       "<div id=\"altair-viz-bbd9868997b341218338580ca4526187\"></div>\n",
       "<script type=\"text/javascript\">\n",
       "  (function(spec, embedOpt){\n",
       "    let outputDiv = document.currentScript.previousElementSibling;\n",
       "    if (outputDiv.id !== \"altair-viz-bbd9868997b341218338580ca4526187\") {\n",
       "      outputDiv = document.getElementById(\"altair-viz-bbd9868997b341218338580ca4526187\");\n",
       "    }\n",
       "    const paths = {\n",
       "      \"vega\": \"https://cdn.jsdelivr.net/npm//vega@5?noext\",\n",
       "      \"vega-lib\": \"https://cdn.jsdelivr.net/npm//vega-lib?noext\",\n",
       "      \"vega-lite\": \"https://cdn.jsdelivr.net/npm//vega-lite@4.8.1?noext\",\n",
       "      \"vega-embed\": \"https://cdn.jsdelivr.net/npm//vega-embed@6?noext\",\n",
       "    };\n",
       "\n",
       "    function loadScript(lib) {\n",
       "      return new Promise(function(resolve, reject) {\n",
       "        var s = document.createElement('script');\n",
       "        s.src = paths[lib];\n",
       "        s.async = true;\n",
       "        s.onload = () => resolve(paths[lib]);\n",
       "        s.onerror = () => reject(`Error loading script: ${paths[lib]}`);\n",
       "        document.getElementsByTagName(\"head\")[0].appendChild(s);\n",
       "      });\n",
       "    }\n",
       "\n",
       "    function showError(err) {\n",
       "      outputDiv.innerHTML = `<div class=\"error\" style=\"color:red;\">${err}</div>`;\n",
       "      throw err;\n",
       "    }\n",
       "\n",
       "    function displayChart(vegaEmbed) {\n",
       "      vegaEmbed(outputDiv, spec, embedOpt)\n",
       "        .catch(err => showError(`Javascript Error: ${err.message}<br>This usually means there's a typo in your chart specification. See the javascript console for the full traceback.`));\n",
       "    }\n",
       "\n",
       "    if(typeof define === \"function\" && define.amd) {\n",
       "      requirejs.config({paths});\n",
       "      require([\"vega-embed\"], displayChart, err => showError(`Error loading script: ${err.message}`));\n",
       "    } else if (typeof vegaEmbed === \"function\") {\n",
       "      displayChart(vegaEmbed);\n",
       "    } else {\n",
       "      loadScript(\"vega\")\n",
       "        .then(() => loadScript(\"vega-lite\"))\n",
       "        .then(() => loadScript(\"vega-embed\"))\n",
       "        .catch(showError)\n",
       "        .then(() => displayChart(vegaEmbed));\n",
       "    }\n",
       "  })({\"config\": {\"view\": {\"continuousWidth\": 400, \"continuousHeight\": 300}}, \"layer\": [{\"mark\": {\"type\": \"bar\", \"opacity\": 0.7}, \"encoding\": {\"opacity\": {\"type\": \"nominal\", \"field\": \"Daily confirmed cases\", \"legend\": {\"title\": \"\"}}, \"tooltip\": [{\"type\": \"nominal\", \"field\": \"Date\"}, {\"type\": \"quantitative\", \"field\": \"Confirmed cases\"}], \"x\": {\"type\": \"nominal\", \"axis\": {\"title\": \"Date\"}, \"field\": \"Date\"}, \"y\": {\"type\": \"quantitative\", \"axis\": {\"title\": \"Daily confirmed cases\"}, \"field\": \"Confirmed cases\"}}}, {\"mark\": {\"type\": \"line\", \"color\": \"#1f77b4\", \"point\": {\"filled\": true, \"fill\": \"#1f77b4\"}}, \"encoding\": {\"shape\": {\"type\": \"nominal\", \"field\": \"7-day rolling average\", \"legend\": {\"title\": \"\"}}, \"x\": {\"type\": \"nominal\", \"axis\": {\"title\": \"Date\"}, \"field\": \"Date\"}, \"y\": {\"type\": \"quantitative\", \"field\": \"Rolling\"}}}], \"data\": {\"name\": \"data-677ba221eb734ba3b500c1603262a62c\"}, \"title\": \"Covid-19 in Chile: Daily confirmed cases in Coquimbo\", \"width\": 600, \"$schema\": \"https://vega.github.io/schema/vega-lite/v4.8.1.json\", \"datasets\": {\"data-677ba221eb734ba3b500c1603262a62c\": [{\"Date\": \"2020-03-04\", \"Confirmed cases\": 0, \"Rolling\": null, \"Daily confirmed cases\": \"Daily confirmed cases\", \"7-day rolling average\": \"7-day rolling average\"}, {\"Date\": \"2020-03-05\", \"Confirmed cases\": 0, \"Rolling\": null, \"Daily confirmed cases\": \"Daily confirmed cases\", \"7-day rolling average\": \"7-day rolling average\"}, {\"Date\": \"2020-03-06\", \"Confirmed cases\": 0, \"Rolling\": null, \"Daily confirmed cases\": \"Daily confirmed cases\", \"7-day rolling average\": \"7-day rolling average\"}, {\"Date\": \"2020-03-07\", \"Confirmed cases\": 0, \"Rolling\": null, \"Daily confirmed cases\": \"Daily confirmed cases\", \"7-day rolling average\": \"7-day rolling average\"}, {\"Date\": \"2020-03-08\", \"Confirmed cases\": 0, \"Rolling\": null, \"Daily confirmed cases\": \"Daily confirmed cases\", \"7-day rolling average\": \"7-day rolling average\"}, {\"Date\": \"2020-03-09\", \"Confirmed cases\": 0, \"Rolling\": null, \"Daily confirmed cases\": \"Daily confirmed cases\", \"7-day rolling average\": \"7-day rolling average\"}, {\"Date\": \"2020-03-10\", \"Confirmed cases\": 0, \"Rolling\": 0.0, \"Daily confirmed cases\": \"Daily confirmed cases\", \"7-day rolling average\": \"7-day rolling average\"}, {\"Date\": \"2020-03-11\", \"Confirmed cases\": 0, \"Rolling\": 0.0, \"Daily confirmed cases\": \"Daily confirmed cases\", \"7-day rolling average\": \"7-day rolling average\"}, {\"Date\": \"2020-03-12\", \"Confirmed cases\": 0, \"Rolling\": 0.0, \"Daily confirmed cases\": \"Daily confirmed cases\", \"7-day rolling average\": \"7-day rolling average\"}, {\"Date\": \"2020-03-13\", \"Confirmed cases\": 0, \"Rolling\": 0.0, \"Daily confirmed cases\": \"Daily confirmed cases\", \"7-day rolling average\": \"7-day rolling average\"}, {\"Date\": \"2020-03-14\", \"Confirmed cases\": 0, \"Rolling\": 0.0, \"Daily confirmed cases\": \"Daily confirmed cases\", \"7-day rolling average\": \"7-day rolling average\"}, {\"Date\": \"2020-03-15\", \"Confirmed cases\": 0, \"Rolling\": 0.0, \"Daily confirmed cases\": \"Daily confirmed cases\", \"7-day rolling average\": \"7-day rolling average\"}, {\"Date\": \"2020-03-16\", \"Confirmed cases\": 0, \"Rolling\": 0.0, \"Daily confirmed cases\": \"Daily confirmed cases\", \"7-day rolling average\": \"7-day rolling average\"}, {\"Date\": \"2020-03-17\", \"Confirmed cases\": 0, \"Rolling\": 0.0, \"Daily confirmed cases\": \"Daily confirmed cases\", \"7-day rolling average\": \"7-day rolling average\"}, {\"Date\": \"2020-03-18\", \"Confirmed cases\": 0, \"Rolling\": 0.0, \"Daily confirmed cases\": \"Daily confirmed cases\", \"7-day rolling average\": \"7-day rolling average\"}, {\"Date\": \"2020-03-19\", \"Confirmed cases\": 2, \"Rolling\": 0.2857142857142857, \"Daily confirmed cases\": \"Daily confirmed cases\", \"7-day rolling average\": \"7-day rolling average\"}, {\"Date\": \"2020-03-20\", \"Confirmed cases\": 1, \"Rolling\": 0.42857142857142855, \"Daily confirmed cases\": \"Daily confirmed cases\", \"7-day rolling average\": \"7-day rolling average\"}, {\"Date\": \"2020-03-21\", \"Confirmed cases\": 0, \"Rolling\": 0.42857142857142855, \"Daily confirmed cases\": \"Daily confirmed cases\", \"7-day rolling average\": \"7-day rolling average\"}, {\"Date\": \"2020-03-22\", \"Confirmed cases\": 2, \"Rolling\": 0.7142857142857143, \"Daily confirmed cases\": \"Daily confirmed cases\", \"7-day rolling average\": \"7-day rolling average\"}, {\"Date\": \"2020-03-23\", \"Confirmed cases\": 1, \"Rolling\": 0.8571428571428571, \"Daily confirmed cases\": \"Daily confirmed cases\", \"7-day rolling average\": \"7-day rolling average\"}, {\"Date\": \"2020-03-24\", \"Confirmed cases\": 5, \"Rolling\": 1.5714285714285714, \"Daily confirmed cases\": \"Daily confirmed cases\", \"7-day rolling average\": \"7-day rolling average\"}, {\"Date\": \"2020-03-25\", \"Confirmed cases\": 1, \"Rolling\": 1.7142857142857142, \"Daily confirmed cases\": \"Daily confirmed cases\", \"7-day rolling average\": \"7-day rolling average\"}, {\"Date\": \"2020-03-26\", \"Confirmed cases\": 1, \"Rolling\": 1.5714285714285714, \"Daily confirmed cases\": \"Daily confirmed cases\", \"7-day rolling average\": \"7-day rolling average\"}, {\"Date\": \"2020-03-27\", \"Confirmed cases\": 1, \"Rolling\": 1.5714285714285714, \"Daily confirmed cases\": \"Daily confirmed cases\", \"7-day rolling average\": \"7-day rolling average\"}, {\"Date\": \"2020-03-28\", \"Confirmed cases\": 1, \"Rolling\": 1.7142857142857142, \"Daily confirmed cases\": \"Daily confirmed cases\", \"7-day rolling average\": \"7-day rolling average\"}, {\"Date\": \"2020-03-29\", \"Confirmed cases\": 3, \"Rolling\": 1.8571428571428572, \"Daily confirmed cases\": \"Daily confirmed cases\", \"7-day rolling average\": \"7-day rolling average\"}, {\"Date\": \"2020-03-30\", \"Confirmed cases\": 9, \"Rolling\": 3.0, \"Daily confirmed cases\": \"Daily confirmed cases\", \"7-day rolling average\": \"7-day rolling average\"}, {\"Date\": \"2020-03-31\", \"Confirmed cases\": 1, \"Rolling\": 2.4285714285714284, \"Daily confirmed cases\": \"Daily confirmed cases\", \"7-day rolling average\": \"7-day rolling average\"}, {\"Date\": \"2020-04-01\", \"Confirmed cases\": 2, \"Rolling\": 2.5714285714285716, \"Daily confirmed cases\": \"Daily confirmed cases\", \"7-day rolling average\": \"7-day rolling average\"}, {\"Date\": \"2020-04-02\", \"Confirmed cases\": 4, \"Rolling\": 3.0, \"Daily confirmed cases\": \"Daily confirmed cases\", \"7-day rolling average\": \"7-day rolling average\"}, {\"Date\": \"2020-04-03\", \"Confirmed cases\": 1, \"Rolling\": 3.0, \"Daily confirmed cases\": \"Daily confirmed cases\", \"7-day rolling average\": \"7-day rolling average\"}, {\"Date\": \"2020-04-04\", \"Confirmed cases\": 9, \"Rolling\": 4.142857142857143, \"Daily confirmed cases\": \"Daily confirmed cases\", \"7-day rolling average\": \"7-day rolling average\"}, {\"Date\": \"2020-04-05\", \"Confirmed cases\": 6, \"Rolling\": 4.571428571428571, \"Daily confirmed cases\": \"Daily confirmed cases\", \"7-day rolling average\": \"7-day rolling average\"}, {\"Date\": \"2020-04-06\", \"Confirmed cases\": 1, \"Rolling\": 3.4285714285714284, \"Daily confirmed cases\": \"Daily confirmed cases\", \"7-day rolling average\": \"7-day rolling average\"}, {\"Date\": \"2020-04-07\", \"Confirmed cases\": 1, \"Rolling\": 3.4285714285714284, \"Daily confirmed cases\": \"Daily confirmed cases\", \"7-day rolling average\": \"7-day rolling average\"}, {\"Date\": \"2020-04-08\", \"Confirmed cases\": 4, \"Rolling\": 3.7142857142857144, \"Daily confirmed cases\": \"Daily confirmed cases\", \"7-day rolling average\": \"7-day rolling average\"}, {\"Date\": \"2020-04-09\", \"Confirmed cases\": 5, \"Rolling\": 3.857142857142857, \"Daily confirmed cases\": \"Daily confirmed cases\", \"7-day rolling average\": \"7-day rolling average\"}, {\"Date\": \"2020-04-10\", \"Confirmed cases\": 0, \"Rolling\": 3.7142857142857144, \"Daily confirmed cases\": \"Daily confirmed cases\", \"7-day rolling average\": \"7-day rolling average\"}, {\"Date\": \"2020-04-11\", \"Confirmed cases\": 3, \"Rolling\": 2.857142857142857, \"Daily confirmed cases\": \"Daily confirmed cases\", \"7-day rolling average\": \"7-day rolling average\"}, {\"Date\": \"2020-04-12\", \"Confirmed cases\": 2, \"Rolling\": 2.2857142857142856, \"Daily confirmed cases\": \"Daily confirmed cases\", \"7-day rolling average\": \"7-day rolling average\"}, {\"Date\": \"2020-04-13\", \"Confirmed cases\": 0, \"Rolling\": 2.142857142857143, \"Daily confirmed cases\": \"Daily confirmed cases\", \"7-day rolling average\": \"7-day rolling average\"}, {\"Date\": \"2020-04-14\", \"Confirmed cases\": 0, \"Rolling\": 2.0, \"Daily confirmed cases\": \"Daily confirmed cases\", \"7-day rolling average\": \"7-day rolling average\"}, {\"Date\": \"2020-04-15\", \"Confirmed cases\": 0, \"Rolling\": 1.4285714285714286, \"Daily confirmed cases\": \"Daily confirmed cases\", \"7-day rolling average\": \"7-day rolling average\"}, {\"Date\": \"2020-04-16\", \"Confirmed cases\": 2, \"Rolling\": 1.0, \"Daily confirmed cases\": \"Daily confirmed cases\", \"7-day rolling average\": \"7-day rolling average\"}, {\"Date\": \"2020-04-17\", \"Confirmed cases\": 0, \"Rolling\": 1.0, \"Daily confirmed cases\": \"Daily confirmed cases\", \"7-day rolling average\": \"7-day rolling average\"}, {\"Date\": \"2020-04-18\", \"Confirmed cases\": 0, \"Rolling\": 0.5714285714285714, \"Daily confirmed cases\": \"Daily confirmed cases\", \"7-day rolling average\": \"7-day rolling average\"}, {\"Date\": \"2020-04-19\", \"Confirmed cases\": 0, \"Rolling\": 0.2857142857142857, \"Daily confirmed cases\": \"Daily confirmed cases\", \"7-day rolling average\": \"7-day rolling average\"}, {\"Date\": \"2020-04-20\", \"Confirmed cases\": 1, \"Rolling\": 0.42857142857142855, \"Daily confirmed cases\": \"Daily confirmed cases\", \"7-day rolling average\": \"7-day rolling average\"}, {\"Date\": \"2020-04-21\", \"Confirmed cases\": 0, \"Rolling\": 0.42857142857142855, \"Daily confirmed cases\": \"Daily confirmed cases\", \"7-day rolling average\": \"7-day rolling average\"}, {\"Date\": \"2020-04-22\", \"Confirmed cases\": 1, \"Rolling\": 0.5714285714285714, \"Daily confirmed cases\": \"Daily confirmed cases\", \"7-day rolling average\": \"7-day rolling average\"}, {\"Date\": \"2020-04-23\", \"Confirmed cases\": 0, \"Rolling\": 0.2857142857142857, \"Daily confirmed cases\": \"Daily confirmed cases\", \"7-day rolling average\": \"7-day rolling average\"}, {\"Date\": \"2020-04-24\", \"Confirmed cases\": 2, \"Rolling\": 0.5714285714285714, \"Daily confirmed cases\": \"Daily confirmed cases\", \"7-day rolling average\": \"7-day rolling average\"}, {\"Date\": \"2020-04-25\", \"Confirmed cases\": 1, \"Rolling\": 0.7142857142857143, \"Daily confirmed cases\": \"Daily confirmed cases\", \"7-day rolling average\": \"7-day rolling average\"}, {\"Date\": \"2020-04-26\", \"Confirmed cases\": 0, \"Rolling\": 0.7142857142857143, \"Daily confirmed cases\": \"Daily confirmed cases\", \"7-day rolling average\": \"7-day rolling average\"}]}}, {\"mode\": \"vega-lite\"});\n",
       "</script>"
      ],
      "text/plain": [
       "alt.LayerChart(...)"
      ]
     },
     "execution_count": 45,
     "metadata": {},
     "output_type": "execute_result"
    }
   ],
   "source": [
    "#hide_input\n",
    "bars, line = my_cases_plot(region)\n",
    "(bars + line).properties(\n",
    "    title=f'Covid-19 in Chile: Daily confirmed cases in {region}',\n",
    "    width=600\n",
    ")"
   ]
  },
  {
   "cell_type": "markdown",
   "metadata": {},
   "source": [
    "## Valparaíso"
   ]
  },
  {
   "cell_type": "code",
   "execution_count": 46,
   "metadata": {},
   "outputs": [],
   "source": [
    "#hide\n",
    "region = \"Valparaíso\""
   ]
  },
  {
   "cell_type": "code",
   "execution_count": 47,
   "metadata": {},
   "outputs": [
    {
     "data": {
      "text/html": [
       "\n",
       "<div id=\"altair-viz-cb6efdc4ccfb4403aa6bf21460da97bb\"></div>\n",
       "<script type=\"text/javascript\">\n",
       "  (function(spec, embedOpt){\n",
       "    let outputDiv = document.currentScript.previousElementSibling;\n",
       "    if (outputDiv.id !== \"altair-viz-cb6efdc4ccfb4403aa6bf21460da97bb\") {\n",
       "      outputDiv = document.getElementById(\"altair-viz-cb6efdc4ccfb4403aa6bf21460da97bb\");\n",
       "    }\n",
       "    const paths = {\n",
       "      \"vega\": \"https://cdn.jsdelivr.net/npm//vega@5?noext\",\n",
       "      \"vega-lib\": \"https://cdn.jsdelivr.net/npm//vega-lib?noext\",\n",
       "      \"vega-lite\": \"https://cdn.jsdelivr.net/npm//vega-lite@4.8.1?noext\",\n",
       "      \"vega-embed\": \"https://cdn.jsdelivr.net/npm//vega-embed@6?noext\",\n",
       "    };\n",
       "\n",
       "    function loadScript(lib) {\n",
       "      return new Promise(function(resolve, reject) {\n",
       "        var s = document.createElement('script');\n",
       "        s.src = paths[lib];\n",
       "        s.async = true;\n",
       "        s.onload = () => resolve(paths[lib]);\n",
       "        s.onerror = () => reject(`Error loading script: ${paths[lib]}`);\n",
       "        document.getElementsByTagName(\"head\")[0].appendChild(s);\n",
       "      });\n",
       "    }\n",
       "\n",
       "    function showError(err) {\n",
       "      outputDiv.innerHTML = `<div class=\"error\" style=\"color:red;\">${err}</div>`;\n",
       "      throw err;\n",
       "    }\n",
       "\n",
       "    function displayChart(vegaEmbed) {\n",
       "      vegaEmbed(outputDiv, spec, embedOpt)\n",
       "        .catch(err => showError(`Javascript Error: ${err.message}<br>This usually means there's a typo in your chart specification. See the javascript console for the full traceback.`));\n",
       "    }\n",
       "\n",
       "    if(typeof define === \"function\" && define.amd) {\n",
       "      requirejs.config({paths});\n",
       "      require([\"vega-embed\"], displayChart, err => showError(`Error loading script: ${err.message}`));\n",
       "    } else if (typeof vegaEmbed === \"function\") {\n",
       "      displayChart(vegaEmbed);\n",
       "    } else {\n",
       "      loadScript(\"vega\")\n",
       "        .then(() => loadScript(\"vega-lite\"))\n",
       "        .then(() => loadScript(\"vega-embed\"))\n",
       "        .catch(showError)\n",
       "        .then(() => displayChart(vegaEmbed));\n",
       "    }\n",
       "  })({\"config\": {\"view\": {\"continuousWidth\": 400, \"continuousHeight\": 300}}, \"layer\": [{\"mark\": {\"type\": \"bar\", \"opacity\": 0.7}, \"encoding\": {\"opacity\": {\"type\": \"nominal\", \"field\": \"Daily confirmed cases\", \"legend\": {\"title\": \"\"}}, \"tooltip\": [{\"type\": \"nominal\", \"field\": \"Date\"}, {\"type\": \"quantitative\", \"field\": \"Confirmed cases\"}], \"x\": {\"type\": \"nominal\", \"axis\": {\"title\": \"Date\"}, \"field\": \"Date\"}, \"y\": {\"type\": \"quantitative\", \"axis\": {\"title\": \"Daily confirmed cases\"}, \"field\": \"Confirmed cases\"}}}, {\"mark\": {\"type\": \"line\", \"color\": \"#1f77b4\", \"point\": {\"filled\": true, \"fill\": \"#1f77b4\"}}, \"encoding\": {\"shape\": {\"type\": \"nominal\", \"field\": \"7-day rolling average\", \"legend\": {\"title\": \"\"}}, \"x\": {\"type\": \"nominal\", \"axis\": {\"title\": \"Date\"}, \"field\": \"Date\"}, \"y\": {\"type\": \"quantitative\", \"field\": \"Rolling\"}}}], \"data\": {\"name\": \"data-31dc7e87fd6236a61ea0bd5a304b3af4\"}, \"title\": \"Covid-19 in Chile: Daily confirmed cases in Valpara\\u00edso\", \"width\": 600, \"$schema\": \"https://vega.github.io/schema/vega-lite/v4.8.1.json\", \"datasets\": {\"data-31dc7e87fd6236a61ea0bd5a304b3af4\": [{\"Date\": \"2020-03-04\", \"Confirmed cases\": 0, \"Rolling\": null, \"Daily confirmed cases\": \"Daily confirmed cases\", \"7-day rolling average\": \"7-day rolling average\"}, {\"Date\": \"2020-03-05\", \"Confirmed cases\": 0, \"Rolling\": null, \"Daily confirmed cases\": \"Daily confirmed cases\", \"7-day rolling average\": \"7-day rolling average\"}, {\"Date\": \"2020-03-06\", \"Confirmed cases\": 0, \"Rolling\": null, \"Daily confirmed cases\": \"Daily confirmed cases\", \"7-day rolling average\": \"7-day rolling average\"}, {\"Date\": \"2020-03-07\", \"Confirmed cases\": 0, \"Rolling\": null, \"Daily confirmed cases\": \"Daily confirmed cases\", \"7-day rolling average\": \"7-day rolling average\"}, {\"Date\": \"2020-03-08\", \"Confirmed cases\": 0, \"Rolling\": null, \"Daily confirmed cases\": \"Daily confirmed cases\", \"7-day rolling average\": \"7-day rolling average\"}, {\"Date\": \"2020-03-09\", \"Confirmed cases\": 0, \"Rolling\": null, \"Daily confirmed cases\": \"Daily confirmed cases\", \"7-day rolling average\": \"7-day rolling average\"}, {\"Date\": \"2020-03-10\", \"Confirmed cases\": 0, \"Rolling\": 0.0, \"Daily confirmed cases\": \"Daily confirmed cases\", \"7-day rolling average\": \"7-day rolling average\"}, {\"Date\": \"2020-03-11\", \"Confirmed cases\": 0, \"Rolling\": 0.0, \"Daily confirmed cases\": \"Daily confirmed cases\", \"7-day rolling average\": \"7-day rolling average\"}, {\"Date\": \"2020-03-12\", \"Confirmed cases\": 0, \"Rolling\": 0.0, \"Daily confirmed cases\": \"Daily confirmed cases\", \"7-day rolling average\": \"7-day rolling average\"}, {\"Date\": \"2020-03-13\", \"Confirmed cases\": 0, \"Rolling\": 0.0, \"Daily confirmed cases\": \"Daily confirmed cases\", \"7-day rolling average\": \"7-day rolling average\"}, {\"Date\": \"2020-03-14\", \"Confirmed cases\": 0, \"Rolling\": 0.0, \"Daily confirmed cases\": \"Daily confirmed cases\", \"7-day rolling average\": \"7-day rolling average\"}, {\"Date\": \"2020-03-15\", \"Confirmed cases\": 0, \"Rolling\": 0.0, \"Daily confirmed cases\": \"Daily confirmed cases\", \"7-day rolling average\": \"7-day rolling average\"}, {\"Date\": \"2020-03-16\", \"Confirmed cases\": 1, \"Rolling\": 0.14285714285714285, \"Daily confirmed cases\": \"Daily confirmed cases\", \"7-day rolling average\": \"7-day rolling average\"}, {\"Date\": \"2020-03-17\", \"Confirmed cases\": 0, \"Rolling\": 0.14285714285714285, \"Daily confirmed cases\": \"Daily confirmed cases\", \"7-day rolling average\": \"7-day rolling average\"}, {\"Date\": \"2020-03-18\", \"Confirmed cases\": 0, \"Rolling\": 0.14285714285714285, \"Daily confirmed cases\": \"Daily confirmed cases\", \"7-day rolling average\": \"7-day rolling average\"}, {\"Date\": \"2020-03-19\", \"Confirmed cases\": 3, \"Rolling\": 0.5714285714285714, \"Daily confirmed cases\": \"Daily confirmed cases\", \"7-day rolling average\": \"7-day rolling average\"}, {\"Date\": \"2020-03-20\", \"Confirmed cases\": 1, \"Rolling\": 0.7142857142857143, \"Daily confirmed cases\": \"Daily confirmed cases\", \"7-day rolling average\": \"7-day rolling average\"}, {\"Date\": \"2020-03-21\", \"Confirmed cases\": 8, \"Rolling\": 1.8571428571428572, \"Daily confirmed cases\": \"Daily confirmed cases\", \"7-day rolling average\": \"7-day rolling average\"}, {\"Date\": \"2020-03-22\", \"Confirmed cases\": 3, \"Rolling\": 2.2857142857142856, \"Daily confirmed cases\": \"Daily confirmed cases\", \"7-day rolling average\": \"7-day rolling average\"}, {\"Date\": \"2020-03-23\", \"Confirmed cases\": 3, \"Rolling\": 2.5714285714285716, \"Daily confirmed cases\": \"Daily confirmed cases\", \"7-day rolling average\": \"7-day rolling average\"}, {\"Date\": \"2020-03-24\", \"Confirmed cases\": 6, \"Rolling\": 3.4285714285714284, \"Daily confirmed cases\": \"Daily confirmed cases\", \"7-day rolling average\": \"7-day rolling average\"}, {\"Date\": \"2020-03-25\", \"Confirmed cases\": 7, \"Rolling\": 4.428571428571429, \"Daily confirmed cases\": \"Daily confirmed cases\", \"7-day rolling average\": \"7-day rolling average\"}, {\"Date\": \"2020-03-26\", \"Confirmed cases\": 12, \"Rolling\": 5.714285714285714, \"Daily confirmed cases\": \"Daily confirmed cases\", \"7-day rolling average\": \"7-day rolling average\"}, {\"Date\": \"2020-03-27\", \"Confirmed cases\": 5, \"Rolling\": 6.285714285714286, \"Daily confirmed cases\": \"Daily confirmed cases\", \"7-day rolling average\": \"7-day rolling average\"}, {\"Date\": \"2020-03-28\", \"Confirmed cases\": 22, \"Rolling\": 8.285714285714286, \"Daily confirmed cases\": \"Daily confirmed cases\", \"7-day rolling average\": \"7-day rolling average\"}, {\"Date\": \"2020-03-29\", \"Confirmed cases\": 9, \"Rolling\": 9.142857142857142, \"Daily confirmed cases\": \"Daily confirmed cases\", \"7-day rolling average\": \"7-day rolling average\"}, {\"Date\": \"2020-03-30\", \"Confirmed cases\": 28, \"Rolling\": 12.714285714285714, \"Daily confirmed cases\": \"Daily confirmed cases\", \"7-day rolling average\": \"7-day rolling average\"}, {\"Date\": \"2020-03-31\", \"Confirmed cases\": 7, \"Rolling\": 12.857142857142858, \"Daily confirmed cases\": \"Daily confirmed cases\", \"7-day rolling average\": \"7-day rolling average\"}, {\"Date\": \"2020-04-01\", \"Confirmed cases\": 21, \"Rolling\": 14.857142857142858, \"Daily confirmed cases\": \"Daily confirmed cases\", \"7-day rolling average\": \"7-day rolling average\"}, {\"Date\": \"2020-04-02\", \"Confirmed cases\": 20, \"Rolling\": 16.0, \"Daily confirmed cases\": \"Daily confirmed cases\", \"7-day rolling average\": \"7-day rolling average\"}, {\"Date\": \"2020-04-03\", \"Confirmed cases\": 20, \"Rolling\": 18.142857142857142, \"Daily confirmed cases\": \"Daily confirmed cases\", \"7-day rolling average\": \"7-day rolling average\"}, {\"Date\": \"2020-04-04\", \"Confirmed cases\": 9, \"Rolling\": 16.285714285714285, \"Daily confirmed cases\": \"Daily confirmed cases\", \"7-day rolling average\": \"7-day rolling average\"}, {\"Date\": \"2020-04-05\", \"Confirmed cases\": 6, \"Rolling\": 15.857142857142858, \"Daily confirmed cases\": \"Daily confirmed cases\", \"7-day rolling average\": \"7-day rolling average\"}, {\"Date\": \"2020-04-06\", \"Confirmed cases\": 7, \"Rolling\": 12.857142857142858, \"Daily confirmed cases\": \"Daily confirmed cases\", \"7-day rolling average\": \"7-day rolling average\"}, {\"Date\": \"2020-04-07\", \"Confirmed cases\": 16, \"Rolling\": 14.142857142857142, \"Daily confirmed cases\": \"Daily confirmed cases\", \"7-day rolling average\": \"7-day rolling average\"}, {\"Date\": \"2020-04-08\", \"Confirmed cases\": 11, \"Rolling\": 12.714285714285714, \"Daily confirmed cases\": \"Daily confirmed cases\", \"7-day rolling average\": \"7-day rolling average\"}, {\"Date\": \"2020-04-09\", \"Confirmed cases\": 5, \"Rolling\": 10.571428571428571, \"Daily confirmed cases\": \"Daily confirmed cases\", \"7-day rolling average\": \"7-day rolling average\"}, {\"Date\": \"2020-04-10\", \"Confirmed cases\": 11, \"Rolling\": 9.285714285714286, \"Daily confirmed cases\": \"Daily confirmed cases\", \"7-day rolling average\": \"7-day rolling average\"}, {\"Date\": \"2020-04-11\", \"Confirmed cases\": 7, \"Rolling\": 9.0, \"Daily confirmed cases\": \"Daily confirmed cases\", \"7-day rolling average\": \"7-day rolling average\"}, {\"Date\": \"2020-04-12\", \"Confirmed cases\": 6, \"Rolling\": 9.0, \"Daily confirmed cases\": \"Daily confirmed cases\", \"7-day rolling average\": \"7-day rolling average\"}, {\"Date\": \"2020-04-13\", \"Confirmed cases\": 19, \"Rolling\": 10.714285714285714, \"Daily confirmed cases\": \"Daily confirmed cases\", \"7-day rolling average\": \"7-day rolling average\"}, {\"Date\": \"2020-04-14\", \"Confirmed cases\": 12, \"Rolling\": 10.142857142857142, \"Daily confirmed cases\": \"Daily confirmed cases\", \"7-day rolling average\": \"7-day rolling average\"}, {\"Date\": \"2020-04-15\", \"Confirmed cases\": 14, \"Rolling\": 10.571428571428571, \"Daily confirmed cases\": \"Daily confirmed cases\", \"7-day rolling average\": \"7-day rolling average\"}, {\"Date\": \"2020-04-16\", \"Confirmed cases\": 31, \"Rolling\": 14.285714285714286, \"Daily confirmed cases\": \"Daily confirmed cases\", \"7-day rolling average\": \"7-day rolling average\"}, {\"Date\": \"2020-04-17\", \"Confirmed cases\": 15, \"Rolling\": 14.857142857142858, \"Daily confirmed cases\": \"Daily confirmed cases\", \"7-day rolling average\": \"7-day rolling average\"}, {\"Date\": \"2020-04-18\", \"Confirmed cases\": 14, \"Rolling\": 15.857142857142858, \"Daily confirmed cases\": \"Daily confirmed cases\", \"7-day rolling average\": \"7-day rolling average\"}, {\"Date\": \"2020-04-19\", \"Confirmed cases\": 22, \"Rolling\": 18.142857142857142, \"Daily confirmed cases\": \"Daily confirmed cases\", \"7-day rolling average\": \"7-day rolling average\"}, {\"Date\": \"2020-04-20\", \"Confirmed cases\": 7, \"Rolling\": 16.428571428571427, \"Daily confirmed cases\": \"Daily confirmed cases\", \"7-day rolling average\": \"7-day rolling average\"}, {\"Date\": \"2020-04-21\", \"Confirmed cases\": 15, \"Rolling\": 16.857142857142858, \"Daily confirmed cases\": \"Daily confirmed cases\", \"7-day rolling average\": \"7-day rolling average\"}, {\"Date\": \"2020-04-22\", \"Confirmed cases\": 18, \"Rolling\": 17.428571428571427, \"Daily confirmed cases\": \"Daily confirmed cases\", \"7-day rolling average\": \"7-day rolling average\"}, {\"Date\": \"2020-04-23\", \"Confirmed cases\": 8, \"Rolling\": 14.142857142857142, \"Daily confirmed cases\": \"Daily confirmed cases\", \"7-day rolling average\": \"7-day rolling average\"}, {\"Date\": \"2020-04-24\", \"Confirmed cases\": 7, \"Rolling\": 13.0, \"Daily confirmed cases\": \"Daily confirmed cases\", \"7-day rolling average\": \"7-day rolling average\"}, {\"Date\": \"2020-04-25\", \"Confirmed cases\": 18, \"Rolling\": 13.571428571428571, \"Daily confirmed cases\": \"Daily confirmed cases\", \"7-day rolling average\": \"7-day rolling average\"}, {\"Date\": \"2020-04-26\", \"Confirmed cases\": 6, \"Rolling\": 11.285714285714286, \"Daily confirmed cases\": \"Daily confirmed cases\", \"7-day rolling average\": \"7-day rolling average\"}]}}, {\"mode\": \"vega-lite\"});\n",
       "</script>"
      ],
      "text/plain": [
       "alt.LayerChart(...)"
      ]
     },
     "execution_count": 47,
     "metadata": {},
     "output_type": "execute_result"
    }
   ],
   "source": [
    "#hide_input\n",
    "bars, line = my_cases_plot(region)\n",
    "(bars + line).properties(\n",
    "    title=f'Covid-19 in Chile: Daily confirmed cases in {region}',\n",
    "    width=600\n",
    ")"
   ]
  },
  {
   "cell_type": "markdown",
   "metadata": {},
   "source": [
    "## Metropolitana"
   ]
  },
  {
   "cell_type": "code",
   "execution_count": 48,
   "metadata": {},
   "outputs": [],
   "source": [
    "#hide\n",
    "region = \"Metropolitana\""
   ]
  },
  {
   "cell_type": "code",
   "execution_count": 49,
   "metadata": {},
   "outputs": [
    {
     "data": {
      "text/html": [
       "\n",
       "<div id=\"altair-viz-4135478a21b0426e9d3962c70be851d1\"></div>\n",
       "<script type=\"text/javascript\">\n",
       "  (function(spec, embedOpt){\n",
       "    let outputDiv = document.currentScript.previousElementSibling;\n",
       "    if (outputDiv.id !== \"altair-viz-4135478a21b0426e9d3962c70be851d1\") {\n",
       "      outputDiv = document.getElementById(\"altair-viz-4135478a21b0426e9d3962c70be851d1\");\n",
       "    }\n",
       "    const paths = {\n",
       "      \"vega\": \"https://cdn.jsdelivr.net/npm//vega@5?noext\",\n",
       "      \"vega-lib\": \"https://cdn.jsdelivr.net/npm//vega-lib?noext\",\n",
       "      \"vega-lite\": \"https://cdn.jsdelivr.net/npm//vega-lite@4.8.1?noext\",\n",
       "      \"vega-embed\": \"https://cdn.jsdelivr.net/npm//vega-embed@6?noext\",\n",
       "    };\n",
       "\n",
       "    function loadScript(lib) {\n",
       "      return new Promise(function(resolve, reject) {\n",
       "        var s = document.createElement('script');\n",
       "        s.src = paths[lib];\n",
       "        s.async = true;\n",
       "        s.onload = () => resolve(paths[lib]);\n",
       "        s.onerror = () => reject(`Error loading script: ${paths[lib]}`);\n",
       "        document.getElementsByTagName(\"head\")[0].appendChild(s);\n",
       "      });\n",
       "    }\n",
       "\n",
       "    function showError(err) {\n",
       "      outputDiv.innerHTML = `<div class=\"error\" style=\"color:red;\">${err}</div>`;\n",
       "      throw err;\n",
       "    }\n",
       "\n",
       "    function displayChart(vegaEmbed) {\n",
       "      vegaEmbed(outputDiv, spec, embedOpt)\n",
       "        .catch(err => showError(`Javascript Error: ${err.message}<br>This usually means there's a typo in your chart specification. See the javascript console for the full traceback.`));\n",
       "    }\n",
       "\n",
       "    if(typeof define === \"function\" && define.amd) {\n",
       "      requirejs.config({paths});\n",
       "      require([\"vega-embed\"], displayChart, err => showError(`Error loading script: ${err.message}`));\n",
       "    } else if (typeof vegaEmbed === \"function\") {\n",
       "      displayChart(vegaEmbed);\n",
       "    } else {\n",
       "      loadScript(\"vega\")\n",
       "        .then(() => loadScript(\"vega-lite\"))\n",
       "        .then(() => loadScript(\"vega-embed\"))\n",
       "        .catch(showError)\n",
       "        .then(() => displayChart(vegaEmbed));\n",
       "    }\n",
       "  })({\"config\": {\"view\": {\"continuousWidth\": 400, \"continuousHeight\": 300}}, \"layer\": [{\"mark\": {\"type\": \"bar\", \"opacity\": 0.7}, \"encoding\": {\"opacity\": {\"type\": \"nominal\", \"field\": \"Daily confirmed cases\", \"legend\": {\"title\": \"\"}}, \"tooltip\": [{\"type\": \"nominal\", \"field\": \"Date\"}, {\"type\": \"quantitative\", \"field\": \"Confirmed cases\"}], \"x\": {\"type\": \"nominal\", \"axis\": {\"title\": \"Date\"}, \"field\": \"Date\"}, \"y\": {\"type\": \"quantitative\", \"axis\": {\"title\": \"Daily confirmed cases\"}, \"field\": \"Confirmed cases\"}}}, {\"mark\": {\"type\": \"line\", \"color\": \"#1f77b4\", \"point\": {\"filled\": true, \"fill\": \"#1f77b4\"}}, \"encoding\": {\"shape\": {\"type\": \"nominal\", \"field\": \"7-day rolling average\", \"legend\": {\"title\": \"\"}}, \"x\": {\"type\": \"nominal\", \"axis\": {\"title\": \"Date\"}, \"field\": \"Date\"}, \"y\": {\"type\": \"quantitative\", \"field\": \"Rolling\"}}}], \"data\": {\"name\": \"data-1b5901fd3bc2a4125be3a75a83a6ebff\"}, \"title\": \"Covid-19 in Chile: Daily confirmed cases in Metropolitana\", \"width\": 600, \"$schema\": \"https://vega.github.io/schema/vega-lite/v4.8.1.json\", \"datasets\": {\"data-1b5901fd3bc2a4125be3a75a83a6ebff\": [{\"Date\": \"2020-03-04\", \"Confirmed cases\": 1, \"Rolling\": null, \"Daily confirmed cases\": \"Daily confirmed cases\", \"7-day rolling average\": \"7-day rolling average\"}, {\"Date\": \"2020-03-05\", \"Confirmed cases\": 1, \"Rolling\": null, \"Daily confirmed cases\": \"Daily confirmed cases\", \"7-day rolling average\": \"7-day rolling average\"}, {\"Date\": \"2020-03-06\", \"Confirmed cases\": 1, \"Rolling\": null, \"Daily confirmed cases\": \"Daily confirmed cases\", \"7-day rolling average\": \"7-day rolling average\"}, {\"Date\": \"2020-03-07\", \"Confirmed cases\": 1, \"Rolling\": null, \"Daily confirmed cases\": \"Daily confirmed cases\", \"7-day rolling average\": \"7-day rolling average\"}, {\"Date\": \"2020-03-08\", \"Confirmed cases\": 2, \"Rolling\": null, \"Daily confirmed cases\": \"Daily confirmed cases\", \"7-day rolling average\": \"7-day rolling average\"}, {\"Date\": \"2020-03-09\", \"Confirmed cases\": 3, \"Rolling\": null, \"Daily confirmed cases\": \"Daily confirmed cases\", \"7-day rolling average\": \"7-day rolling average\"}, {\"Date\": \"2020-03-10\", \"Confirmed cases\": 1, \"Rolling\": 1.4285714285714286, \"Daily confirmed cases\": \"Daily confirmed cases\", \"7-day rolling average\": \"7-day rolling average\"}, {\"Date\": \"2020-03-11\", \"Confirmed cases\": 4, \"Rolling\": 1.8571428571428572, \"Daily confirmed cases\": \"Daily confirmed cases\", \"7-day rolling average\": \"7-day rolling average\"}, {\"Date\": \"2020-03-12\", \"Confirmed cases\": 9, \"Rolling\": 3.0, \"Daily confirmed cases\": \"Daily confirmed cases\", \"7-day rolling average\": \"7-day rolling average\"}, {\"Date\": \"2020-03-13\", \"Confirmed cases\": 6, \"Rolling\": 3.7142857142857144, \"Daily confirmed cases\": \"Daily confirmed cases\", \"7-day rolling average\": \"7-day rolling average\"}, {\"Date\": \"2020-03-14\", \"Confirmed cases\": 11, \"Rolling\": 5.142857142857143, \"Daily confirmed cases\": \"Daily confirmed cases\", \"7-day rolling average\": \"7-day rolling average\"}, {\"Date\": \"2020-03-15\", \"Confirmed cases\": 14, \"Rolling\": 6.857142857142857, \"Daily confirmed cases\": \"Daily confirmed cases\", \"7-day rolling average\": \"7-day rolling average\"}, {\"Date\": \"2020-03-16\", \"Confirmed cases\": 69, \"Rolling\": 16.285714285714285, \"Daily confirmed cases\": \"Daily confirmed cases\", \"7-day rolling average\": \"7-day rolling average\"}, {\"Date\": \"2020-03-17\", \"Confirmed cases\": 29, \"Rolling\": 20.285714285714285, \"Daily confirmed cases\": \"Daily confirmed cases\", \"7-day rolling average\": \"7-day rolling average\"}, {\"Date\": \"2020-03-18\", \"Confirmed cases\": 22, \"Rolling\": 22.857142857142858, \"Daily confirmed cases\": \"Daily confirmed cases\", \"7-day rolling average\": \"7-day rolling average\"}, {\"Date\": \"2020-03-19\", \"Confirmed cases\": 73, \"Rolling\": 32.0, \"Daily confirmed cases\": \"Daily confirmed cases\", \"7-day rolling average\": \"7-day rolling average\"}, {\"Date\": \"2020-03-20\", \"Confirmed cases\": 57, \"Rolling\": 39.285714285714285, \"Daily confirmed cases\": \"Daily confirmed cases\", \"7-day rolling average\": \"7-day rolling average\"}, {\"Date\": \"2020-03-21\", \"Confirmed cases\": 55, \"Rolling\": 45.57142857142857, \"Daily confirmed cases\": \"Daily confirmed cases\", \"7-day rolling average\": \"7-day rolling average\"}, {\"Date\": \"2020-03-22\", \"Confirmed cases\": 50, \"Rolling\": 50.714285714285715, \"Daily confirmed cases\": \"Daily confirmed cases\", \"7-day rolling average\": \"7-day rolling average\"}, {\"Date\": \"2020-03-23\", \"Confirmed cases\": 50, \"Rolling\": 48.0, \"Daily confirmed cases\": \"Daily confirmed cases\", \"7-day rolling average\": \"7-day rolling average\"}, {\"Date\": \"2020-03-24\", \"Confirmed cases\": 81, \"Rolling\": 55.42857142857143, \"Daily confirmed cases\": \"Daily confirmed cases\", \"7-day rolling average\": \"7-day rolling average\"}, {\"Date\": \"2020-03-25\", \"Confirmed cases\": 142, \"Rolling\": 72.57142857142857, \"Daily confirmed cases\": \"Daily confirmed cases\", \"7-day rolling average\": \"7-day rolling average\"}, {\"Date\": \"2020-03-26\", \"Confirmed cases\": 64, \"Rolling\": 71.28571428571429, \"Daily confirmed cases\": \"Daily confirmed cases\", \"7-day rolling average\": \"7-day rolling average\"}, {\"Date\": \"2020-03-27\", \"Confirmed cases\": 192, \"Rolling\": 90.57142857142857, \"Daily confirmed cases\": \"Daily confirmed cases\", \"7-day rolling average\": \"7-day rolling average\"}, {\"Date\": \"2020-03-28\", \"Confirmed cases\": 146, \"Rolling\": 103.57142857142857, \"Daily confirmed cases\": \"Daily confirmed cases\", \"7-day rolling average\": \"7-day rolling average\"}, {\"Date\": \"2020-03-29\", \"Confirmed cases\": 83, \"Rolling\": 108.28571428571429, \"Daily confirmed cases\": \"Daily confirmed cases\", \"7-day rolling average\": \"7-day rolling average\"}, {\"Date\": \"2020-03-30\", \"Confirmed cases\": 128, \"Rolling\": 119.42857142857143, \"Daily confirmed cases\": \"Daily confirmed cases\", \"7-day rolling average\": \"7-day rolling average\"}, {\"Date\": \"2020-03-31\", \"Confirmed cases\": 125, \"Rolling\": 125.71428571428571, \"Daily confirmed cases\": \"Daily confirmed cases\", \"7-day rolling average\": \"7-day rolling average\"}, {\"Date\": \"2020-04-01\", \"Confirmed cases\": 101, \"Rolling\": 119.85714285714286, \"Daily confirmed cases\": \"Daily confirmed cases\", \"7-day rolling average\": \"7-day rolling average\"}, {\"Date\": \"2020-04-02\", \"Confirmed cases\": 115, \"Rolling\": 127.14285714285714, \"Daily confirmed cases\": \"Daily confirmed cases\", \"7-day rolling average\": \"7-day rolling average\"}, {\"Date\": \"2020-04-03\", \"Confirmed cases\": 106, \"Rolling\": 114.85714285714286, \"Daily confirmed cases\": \"Daily confirmed cases\", \"7-day rolling average\": \"7-day rolling average\"}, {\"Date\": \"2020-04-04\", \"Confirmed cases\": 215, \"Rolling\": 124.71428571428571, \"Daily confirmed cases\": \"Daily confirmed cases\", \"7-day rolling average\": \"7-day rolling average\"}, {\"Date\": \"2020-04-05\", \"Confirmed cases\": 145, \"Rolling\": 133.57142857142858, \"Daily confirmed cases\": \"Daily confirmed cases\", \"7-day rolling average\": \"7-day rolling average\"}, {\"Date\": \"2020-04-06\", \"Confirmed cases\": 142, \"Rolling\": 135.57142857142858, \"Daily confirmed cases\": \"Daily confirmed cases\", \"7-day rolling average\": \"7-day rolling average\"}, {\"Date\": \"2020-04-07\", \"Confirmed cases\": 106, \"Rolling\": 132.85714285714286, \"Daily confirmed cases\": \"Daily confirmed cases\", \"7-day rolling average\": \"7-day rolling average\"}, {\"Date\": \"2020-04-08\", \"Confirmed cases\": 198, \"Rolling\": 146.71428571428572, \"Daily confirmed cases\": \"Daily confirmed cases\", \"7-day rolling average\": \"7-day rolling average\"}, {\"Date\": \"2020-04-09\", \"Confirmed cases\": 284, \"Rolling\": 170.85714285714286, \"Daily confirmed cases\": \"Daily confirmed cases\", \"7-day rolling average\": \"7-day rolling average\"}, {\"Date\": \"2020-04-10\", \"Confirmed cases\": 361, \"Rolling\": 207.28571428571428, \"Daily confirmed cases\": \"Daily confirmed cases\", \"7-day rolling average\": \"7-day rolling average\"}, {\"Date\": \"2020-04-11\", \"Confirmed cases\": 255, \"Rolling\": 213.0, \"Daily confirmed cases\": \"Daily confirmed cases\", \"7-day rolling average\": \"7-day rolling average\"}, {\"Date\": \"2020-04-12\", \"Confirmed cases\": 151, \"Rolling\": 213.85714285714286, \"Daily confirmed cases\": \"Daily confirmed cases\", \"7-day rolling average\": \"7-day rolling average\"}, {\"Date\": \"2020-04-13\", \"Confirmed cases\": 204, \"Rolling\": 222.71428571428572, \"Daily confirmed cases\": \"Daily confirmed cases\", \"7-day rolling average\": \"7-day rolling average\"}, {\"Date\": \"2020-04-14\", \"Confirmed cases\": 283, \"Rolling\": 248.0, \"Daily confirmed cases\": \"Daily confirmed cases\", \"7-day rolling average\": \"7-day rolling average\"}, {\"Date\": \"2020-04-15\", \"Confirmed cases\": 248, \"Rolling\": 255.14285714285714, \"Daily confirmed cases\": \"Daily confirmed cases\", \"7-day rolling average\": \"7-day rolling average\"}, {\"Date\": \"2020-04-16\", \"Confirmed cases\": 348, \"Rolling\": 264.2857142857143, \"Daily confirmed cases\": \"Daily confirmed cases\", \"7-day rolling average\": \"7-day rolling average\"}, {\"Date\": \"2020-04-17\", \"Confirmed cases\": 233, \"Rolling\": 246.0, \"Daily confirmed cases\": \"Daily confirmed cases\", \"7-day rolling average\": \"7-day rolling average\"}, {\"Date\": \"2020-04-18\", \"Confirmed cases\": 277, \"Rolling\": 249.14285714285714, \"Daily confirmed cases\": \"Daily confirmed cases\", \"7-day rolling average\": \"7-day rolling average\"}, {\"Date\": \"2020-04-19\", \"Confirmed cases\": 189, \"Rolling\": 254.57142857142858, \"Daily confirmed cases\": \"Daily confirmed cases\", \"7-day rolling average\": \"7-day rolling average\"}, {\"Date\": \"2020-04-20\", \"Confirmed cases\": 262, \"Rolling\": 262.85714285714283, \"Daily confirmed cases\": \"Daily confirmed cases\", \"7-day rolling average\": \"7-day rolling average\"}, {\"Date\": \"2020-04-21\", \"Confirmed cases\": 145, \"Rolling\": 243.14285714285714, \"Daily confirmed cases\": \"Daily confirmed cases\", \"7-day rolling average\": \"7-day rolling average\"}, {\"Date\": \"2020-04-22\", \"Confirmed cases\": 295, \"Rolling\": 249.85714285714286, \"Daily confirmed cases\": \"Daily confirmed cases\", \"7-day rolling average\": \"7-day rolling average\"}, {\"Date\": \"2020-04-23\", \"Confirmed cases\": 351, \"Rolling\": 250.28571428571428, \"Daily confirmed cases\": \"Daily confirmed cases\", \"7-day rolling average\": \"7-day rolling average\"}, {\"Date\": \"2020-04-24\", \"Confirmed cases\": 327, \"Rolling\": 263.7142857142857, \"Daily confirmed cases\": \"Daily confirmed cases\", \"7-day rolling average\": \"7-day rolling average\"}, {\"Date\": \"2020-04-25\", \"Confirmed cases\": 404, \"Rolling\": 281.85714285714283, \"Daily confirmed cases\": \"Daily confirmed cases\", \"7-day rolling average\": \"7-day rolling average\"}, {\"Date\": \"2020-04-26\", \"Confirmed cases\": 331, \"Rolling\": 302.14285714285717, \"Daily confirmed cases\": \"Daily confirmed cases\", \"7-day rolling average\": \"7-day rolling average\"}]}}, {\"mode\": \"vega-lite\"});\n",
       "</script>"
      ],
      "text/plain": [
       "alt.LayerChart(...)"
      ]
     },
     "execution_count": 49,
     "metadata": {},
     "output_type": "execute_result"
    }
   ],
   "source": [
    "#hide_input\n",
    "bars, line = my_cases_plot(region)\n",
    "(bars + line).properties(\n",
    "    title=f'Covid-19 in Chile: Daily confirmed cases in {region}',\n",
    "    width=600\n",
    ")"
   ]
  },
  {
   "cell_type": "markdown",
   "metadata": {},
   "source": [
    "## O'Higgins"
   ]
  },
  {
   "cell_type": "code",
   "execution_count": 50,
   "metadata": {
    "scrolled": true
   },
   "outputs": [],
   "source": [
    "#hide\n",
    "region = \"O’Higgins\""
   ]
  },
  {
   "cell_type": "code",
   "execution_count": 51,
   "metadata": {},
   "outputs": [
    {
     "data": {
      "text/html": [
       "\n",
       "<div id=\"altair-viz-c7e47d8b23da4658ab960c88082c61ee\"></div>\n",
       "<script type=\"text/javascript\">\n",
       "  (function(spec, embedOpt){\n",
       "    let outputDiv = document.currentScript.previousElementSibling;\n",
       "    if (outputDiv.id !== \"altair-viz-c7e47d8b23da4658ab960c88082c61ee\") {\n",
       "      outputDiv = document.getElementById(\"altair-viz-c7e47d8b23da4658ab960c88082c61ee\");\n",
       "    }\n",
       "    const paths = {\n",
       "      \"vega\": \"https://cdn.jsdelivr.net/npm//vega@5?noext\",\n",
       "      \"vega-lib\": \"https://cdn.jsdelivr.net/npm//vega-lib?noext\",\n",
       "      \"vega-lite\": \"https://cdn.jsdelivr.net/npm//vega-lite@4.8.1?noext\",\n",
       "      \"vega-embed\": \"https://cdn.jsdelivr.net/npm//vega-embed@6?noext\",\n",
       "    };\n",
       "\n",
       "    function loadScript(lib) {\n",
       "      return new Promise(function(resolve, reject) {\n",
       "        var s = document.createElement('script');\n",
       "        s.src = paths[lib];\n",
       "        s.async = true;\n",
       "        s.onload = () => resolve(paths[lib]);\n",
       "        s.onerror = () => reject(`Error loading script: ${paths[lib]}`);\n",
       "        document.getElementsByTagName(\"head\")[0].appendChild(s);\n",
       "      });\n",
       "    }\n",
       "\n",
       "    function showError(err) {\n",
       "      outputDiv.innerHTML = `<div class=\"error\" style=\"color:red;\">${err}</div>`;\n",
       "      throw err;\n",
       "    }\n",
       "\n",
       "    function displayChart(vegaEmbed) {\n",
       "      vegaEmbed(outputDiv, spec, embedOpt)\n",
       "        .catch(err => showError(`Javascript Error: ${err.message}<br>This usually means there's a typo in your chart specification. See the javascript console for the full traceback.`));\n",
       "    }\n",
       "\n",
       "    if(typeof define === \"function\" && define.amd) {\n",
       "      requirejs.config({paths});\n",
       "      require([\"vega-embed\"], displayChart, err => showError(`Error loading script: ${err.message}`));\n",
       "    } else if (typeof vegaEmbed === \"function\") {\n",
       "      displayChart(vegaEmbed);\n",
       "    } else {\n",
       "      loadScript(\"vega\")\n",
       "        .then(() => loadScript(\"vega-lite\"))\n",
       "        .then(() => loadScript(\"vega-embed\"))\n",
       "        .catch(showError)\n",
       "        .then(() => displayChart(vegaEmbed));\n",
       "    }\n",
       "  })({\"config\": {\"view\": {\"continuousWidth\": 400, \"continuousHeight\": 300}}, \"layer\": [{\"mark\": {\"type\": \"bar\", \"opacity\": 0.7}, \"encoding\": {\"opacity\": {\"type\": \"nominal\", \"field\": \"Daily confirmed cases\", \"legend\": {\"title\": \"\"}}, \"tooltip\": [{\"type\": \"nominal\", \"field\": \"Date\"}, {\"type\": \"quantitative\", \"field\": \"Confirmed cases\"}], \"x\": {\"type\": \"nominal\", \"axis\": {\"title\": \"Date\"}, \"field\": \"Date\"}, \"y\": {\"type\": \"quantitative\", \"axis\": {\"title\": \"Daily confirmed cases\"}, \"field\": \"Confirmed cases\"}}}, {\"mark\": {\"type\": \"line\", \"color\": \"#1f77b4\", \"point\": {\"filled\": true, \"fill\": \"#1f77b4\"}}, \"encoding\": {\"shape\": {\"type\": \"nominal\", \"field\": \"7-day rolling average\", \"legend\": {\"title\": \"\"}}, \"x\": {\"type\": \"nominal\", \"axis\": {\"title\": \"Date\"}, \"field\": \"Date\"}, \"y\": {\"type\": \"quantitative\", \"field\": \"Rolling\"}}}], \"data\": {\"name\": \"data-1f646d80682a8cf82f2de823ca56394f\"}, \"title\": \"Covid-19 in Chile: Daily confirmed cases in O\\u2019Higgins\", \"width\": 600, \"$schema\": \"https://vega.github.io/schema/vega-lite/v4.8.1.json\", \"datasets\": {\"data-1f646d80682a8cf82f2de823ca56394f\": [{\"Date\": \"2020-03-04\", \"Confirmed cases\": 0, \"Rolling\": null, \"Daily confirmed cases\": \"Daily confirmed cases\", \"7-day rolling average\": \"7-day rolling average\"}, {\"Date\": \"2020-03-05\", \"Confirmed cases\": 0, \"Rolling\": null, \"Daily confirmed cases\": \"Daily confirmed cases\", \"7-day rolling average\": \"7-day rolling average\"}, {\"Date\": \"2020-03-06\", \"Confirmed cases\": 0, \"Rolling\": null, \"Daily confirmed cases\": \"Daily confirmed cases\", \"7-day rolling average\": \"7-day rolling average\"}, {\"Date\": \"2020-03-07\", \"Confirmed cases\": 0, \"Rolling\": null, \"Daily confirmed cases\": \"Daily confirmed cases\", \"7-day rolling average\": \"7-day rolling average\"}, {\"Date\": \"2020-03-08\", \"Confirmed cases\": 0, \"Rolling\": null, \"Daily confirmed cases\": \"Daily confirmed cases\", \"7-day rolling average\": \"7-day rolling average\"}, {\"Date\": \"2020-03-09\", \"Confirmed cases\": 0, \"Rolling\": null, \"Daily confirmed cases\": \"Daily confirmed cases\", \"7-day rolling average\": \"7-day rolling average\"}, {\"Date\": \"2020-03-10\", \"Confirmed cases\": 0, \"Rolling\": 0.0, \"Daily confirmed cases\": \"Daily confirmed cases\", \"7-day rolling average\": \"7-day rolling average\"}, {\"Date\": \"2020-03-11\", \"Confirmed cases\": 0, \"Rolling\": 0.0, \"Daily confirmed cases\": \"Daily confirmed cases\", \"7-day rolling average\": \"7-day rolling average\"}, {\"Date\": \"2020-03-12\", \"Confirmed cases\": 0, \"Rolling\": 0.0, \"Daily confirmed cases\": \"Daily confirmed cases\", \"7-day rolling average\": \"7-day rolling average\"}, {\"Date\": \"2020-03-13\", \"Confirmed cases\": 0, \"Rolling\": 0.0, \"Daily confirmed cases\": \"Daily confirmed cases\", \"7-day rolling average\": \"7-day rolling average\"}, {\"Date\": \"2020-03-14\", \"Confirmed cases\": 0, \"Rolling\": 0.0, \"Daily confirmed cases\": \"Daily confirmed cases\", \"7-day rolling average\": \"7-day rolling average\"}, {\"Date\": \"2020-03-15\", \"Confirmed cases\": 0, \"Rolling\": 0.0, \"Daily confirmed cases\": \"Daily confirmed cases\", \"7-day rolling average\": \"7-day rolling average\"}, {\"Date\": \"2020-03-16\", \"Confirmed cases\": 0, \"Rolling\": 0.0, \"Daily confirmed cases\": \"Daily confirmed cases\", \"7-day rolling average\": \"7-day rolling average\"}, {\"Date\": \"2020-03-17\", \"Confirmed cases\": 0, \"Rolling\": 0.0, \"Daily confirmed cases\": \"Daily confirmed cases\", \"7-day rolling average\": \"7-day rolling average\"}, {\"Date\": \"2020-03-18\", \"Confirmed cases\": 0, \"Rolling\": 0.0, \"Daily confirmed cases\": \"Daily confirmed cases\", \"7-day rolling average\": \"7-day rolling average\"}, {\"Date\": \"2020-03-19\", \"Confirmed cases\": 2, \"Rolling\": 0.2857142857142857, \"Daily confirmed cases\": \"Daily confirmed cases\", \"7-day rolling average\": \"7-day rolling average\"}, {\"Date\": \"2020-03-20\", \"Confirmed cases\": 4, \"Rolling\": 0.8571428571428571, \"Daily confirmed cases\": \"Daily confirmed cases\", \"7-day rolling average\": \"7-day rolling average\"}, {\"Date\": \"2020-03-21\", \"Confirmed cases\": 1, \"Rolling\": 1.0, \"Daily confirmed cases\": \"Daily confirmed cases\", \"7-day rolling average\": \"7-day rolling average\"}, {\"Date\": \"2020-03-22\", \"Confirmed cases\": 1, \"Rolling\": 1.1428571428571428, \"Daily confirmed cases\": \"Daily confirmed cases\", \"7-day rolling average\": \"7-day rolling average\"}, {\"Date\": \"2020-03-23\", \"Confirmed cases\": 0, \"Rolling\": 1.1428571428571428, \"Daily confirmed cases\": \"Daily confirmed cases\", \"7-day rolling average\": \"7-day rolling average\"}, {\"Date\": \"2020-03-24\", \"Confirmed cases\": 1, \"Rolling\": 1.2857142857142858, \"Daily confirmed cases\": \"Daily confirmed cases\", \"7-day rolling average\": \"7-day rolling average\"}, {\"Date\": \"2020-03-25\", \"Confirmed cases\": 2, \"Rolling\": 1.5714285714285714, \"Daily confirmed cases\": \"Daily confirmed cases\", \"7-day rolling average\": \"7-day rolling average\"}, {\"Date\": \"2020-03-26\", \"Confirmed cases\": 3, \"Rolling\": 1.7142857142857142, \"Daily confirmed cases\": \"Daily confirmed cases\", \"7-day rolling average\": \"7-day rolling average\"}, {\"Date\": \"2020-03-27\", \"Confirmed cases\": 2, \"Rolling\": 1.4285714285714286, \"Daily confirmed cases\": \"Daily confirmed cases\", \"7-day rolling average\": \"7-day rolling average\"}, {\"Date\": \"2020-03-28\", \"Confirmed cases\": 4, \"Rolling\": 1.8571428571428572, \"Daily confirmed cases\": \"Daily confirmed cases\", \"7-day rolling average\": \"7-day rolling average\"}, {\"Date\": \"2020-03-29\", \"Confirmed cases\": 1, \"Rolling\": 1.8571428571428572, \"Daily confirmed cases\": \"Daily confirmed cases\", \"7-day rolling average\": \"7-day rolling average\"}, {\"Date\": \"2020-03-30\", \"Confirmed cases\": 0, \"Rolling\": 1.8571428571428572, \"Daily confirmed cases\": \"Daily confirmed cases\", \"7-day rolling average\": \"7-day rolling average\"}, {\"Date\": \"2020-03-31\", \"Confirmed cases\": 2, \"Rolling\": 2.0, \"Daily confirmed cases\": \"Daily confirmed cases\", \"7-day rolling average\": \"7-day rolling average\"}, {\"Date\": \"2020-04-01\", \"Confirmed cases\": 3, \"Rolling\": 2.142857142857143, \"Daily confirmed cases\": \"Daily confirmed cases\", \"7-day rolling average\": \"7-day rolling average\"}, {\"Date\": \"2020-04-02\", \"Confirmed cases\": 6, \"Rolling\": 2.5714285714285716, \"Daily confirmed cases\": \"Daily confirmed cases\", \"7-day rolling average\": \"7-day rolling average\"}, {\"Date\": \"2020-04-03\", \"Confirmed cases\": 1, \"Rolling\": 2.4285714285714284, \"Daily confirmed cases\": \"Daily confirmed cases\", \"7-day rolling average\": \"7-day rolling average\"}, {\"Date\": \"2020-04-04\", \"Confirmed cases\": 5, \"Rolling\": 2.5714285714285716, \"Daily confirmed cases\": \"Daily confirmed cases\", \"7-day rolling average\": \"7-day rolling average\"}, {\"Date\": \"2020-04-05\", \"Confirmed cases\": 3, \"Rolling\": 2.857142857142857, \"Daily confirmed cases\": \"Daily confirmed cases\", \"7-day rolling average\": \"7-day rolling average\"}, {\"Date\": \"2020-04-06\", \"Confirmed cases\": 1, \"Rolling\": 3.0, \"Daily confirmed cases\": \"Daily confirmed cases\", \"7-day rolling average\": \"7-day rolling average\"}, {\"Date\": \"2020-04-07\", \"Confirmed cases\": 0, \"Rolling\": 2.7142857142857144, \"Daily confirmed cases\": \"Daily confirmed cases\", \"7-day rolling average\": \"7-day rolling average\"}, {\"Date\": \"2020-04-08\", \"Confirmed cases\": 1, \"Rolling\": 2.4285714285714284, \"Daily confirmed cases\": \"Daily confirmed cases\", \"7-day rolling average\": \"7-day rolling average\"}, {\"Date\": \"2020-04-09\", \"Confirmed cases\": 1, \"Rolling\": 1.7142857142857142, \"Daily confirmed cases\": \"Daily confirmed cases\", \"7-day rolling average\": \"7-day rolling average\"}, {\"Date\": \"2020-04-10\", \"Confirmed cases\": 0, \"Rolling\": 1.5714285714285714, \"Daily confirmed cases\": \"Daily confirmed cases\", \"7-day rolling average\": \"7-day rolling average\"}, {\"Date\": \"2020-04-11\", \"Confirmed cases\": 1, \"Rolling\": 1.0, \"Daily confirmed cases\": \"Daily confirmed cases\", \"7-day rolling average\": \"7-day rolling average\"}, {\"Date\": \"2020-04-12\", \"Confirmed cases\": 1, \"Rolling\": 0.7142857142857143, \"Daily confirmed cases\": \"Daily confirmed cases\", \"7-day rolling average\": \"7-day rolling average\"}, {\"Date\": \"2020-04-13\", \"Confirmed cases\": 2, \"Rolling\": 0.8571428571428571, \"Daily confirmed cases\": \"Daily confirmed cases\", \"7-day rolling average\": \"7-day rolling average\"}, {\"Date\": \"2020-04-14\", \"Confirmed cases\": 5, \"Rolling\": 1.5714285714285714, \"Daily confirmed cases\": \"Daily confirmed cases\", \"7-day rolling average\": \"7-day rolling average\"}, {\"Date\": \"2020-04-15\", \"Confirmed cases\": 1, \"Rolling\": 1.5714285714285714, \"Daily confirmed cases\": \"Daily confirmed cases\", \"7-day rolling average\": \"7-day rolling average\"}, {\"Date\": \"2020-04-16\", \"Confirmed cases\": 0, \"Rolling\": 1.4285714285714286, \"Daily confirmed cases\": \"Daily confirmed cases\", \"7-day rolling average\": \"7-day rolling average\"}, {\"Date\": \"2020-04-17\", \"Confirmed cases\": 1, \"Rolling\": 1.5714285714285714, \"Daily confirmed cases\": \"Daily confirmed cases\", \"7-day rolling average\": \"7-day rolling average\"}, {\"Date\": \"2020-04-18\", \"Confirmed cases\": 0, \"Rolling\": 1.4285714285714286, \"Daily confirmed cases\": \"Daily confirmed cases\", \"7-day rolling average\": \"7-day rolling average\"}, {\"Date\": \"2020-04-19\", \"Confirmed cases\": 0, \"Rolling\": 1.2857142857142858, \"Daily confirmed cases\": \"Daily confirmed cases\", \"7-day rolling average\": \"7-day rolling average\"}, {\"Date\": \"2020-04-20\", \"Confirmed cases\": 1, \"Rolling\": 1.1428571428571428, \"Daily confirmed cases\": \"Daily confirmed cases\", \"7-day rolling average\": \"7-day rolling average\"}, {\"Date\": \"2020-04-21\", \"Confirmed cases\": 1, \"Rolling\": 0.5714285714285714, \"Daily confirmed cases\": \"Daily confirmed cases\", \"7-day rolling average\": \"7-day rolling average\"}, {\"Date\": \"2020-04-22\", \"Confirmed cases\": 2, \"Rolling\": 0.7142857142857143, \"Daily confirmed cases\": \"Daily confirmed cases\", \"7-day rolling average\": \"7-day rolling average\"}, {\"Date\": \"2020-04-23\", \"Confirmed cases\": 17, \"Rolling\": 3.142857142857143, \"Daily confirmed cases\": \"Daily confirmed cases\", \"7-day rolling average\": \"7-day rolling average\"}, {\"Date\": \"2020-04-24\", \"Confirmed cases\": 5, \"Rolling\": 3.7142857142857144, \"Daily confirmed cases\": \"Daily confirmed cases\", \"7-day rolling average\": \"7-day rolling average\"}, {\"Date\": \"2020-04-25\", \"Confirmed cases\": 4, \"Rolling\": 4.285714285714286, \"Daily confirmed cases\": \"Daily confirmed cases\", \"7-day rolling average\": \"7-day rolling average\"}, {\"Date\": \"2020-04-26\", \"Confirmed cases\": 7, \"Rolling\": 5.285714285714286, \"Daily confirmed cases\": \"Daily confirmed cases\", \"7-day rolling average\": \"7-day rolling average\"}]}}, {\"mode\": \"vega-lite\"});\n",
       "</script>"
      ],
      "text/plain": [
       "alt.LayerChart(...)"
      ]
     },
     "execution_count": 51,
     "metadata": {},
     "output_type": "execute_result"
    }
   ],
   "source": [
    "#hide_input\n",
    "bars, line = my_cases_plot(region)\n",
    "(bars + line).properties(\n",
    "    title=f'Covid-19 in Chile: Daily confirmed cases in {region}',\n",
    "    width=600\n",
    ")"
   ]
  },
  {
   "cell_type": "markdown",
   "metadata": {},
   "source": [
    "## Maule"
   ]
  },
  {
   "cell_type": "code",
   "execution_count": 52,
   "metadata": {
    "scrolled": true
   },
   "outputs": [],
   "source": [
    "#hide\n",
    "region = \"Maule\""
   ]
  },
  {
   "cell_type": "code",
   "execution_count": 53,
   "metadata": {},
   "outputs": [
    {
     "data": {
      "text/html": [
       "\n",
       "<div id=\"altair-viz-ffe92666dc5246d98cc3bfdbdd87b6bb\"></div>\n",
       "<script type=\"text/javascript\">\n",
       "  (function(spec, embedOpt){\n",
       "    let outputDiv = document.currentScript.previousElementSibling;\n",
       "    if (outputDiv.id !== \"altair-viz-ffe92666dc5246d98cc3bfdbdd87b6bb\") {\n",
       "      outputDiv = document.getElementById(\"altair-viz-ffe92666dc5246d98cc3bfdbdd87b6bb\");\n",
       "    }\n",
       "    const paths = {\n",
       "      \"vega\": \"https://cdn.jsdelivr.net/npm//vega@5?noext\",\n",
       "      \"vega-lib\": \"https://cdn.jsdelivr.net/npm//vega-lib?noext\",\n",
       "      \"vega-lite\": \"https://cdn.jsdelivr.net/npm//vega-lite@4.8.1?noext\",\n",
       "      \"vega-embed\": \"https://cdn.jsdelivr.net/npm//vega-embed@6?noext\",\n",
       "    };\n",
       "\n",
       "    function loadScript(lib) {\n",
       "      return new Promise(function(resolve, reject) {\n",
       "        var s = document.createElement('script');\n",
       "        s.src = paths[lib];\n",
       "        s.async = true;\n",
       "        s.onload = () => resolve(paths[lib]);\n",
       "        s.onerror = () => reject(`Error loading script: ${paths[lib]}`);\n",
       "        document.getElementsByTagName(\"head\")[0].appendChild(s);\n",
       "      });\n",
       "    }\n",
       "\n",
       "    function showError(err) {\n",
       "      outputDiv.innerHTML = `<div class=\"error\" style=\"color:red;\">${err}</div>`;\n",
       "      throw err;\n",
       "    }\n",
       "\n",
       "    function displayChart(vegaEmbed) {\n",
       "      vegaEmbed(outputDiv, spec, embedOpt)\n",
       "        .catch(err => showError(`Javascript Error: ${err.message}<br>This usually means there's a typo in your chart specification. See the javascript console for the full traceback.`));\n",
       "    }\n",
       "\n",
       "    if(typeof define === \"function\" && define.amd) {\n",
       "      requirejs.config({paths});\n",
       "      require([\"vega-embed\"], displayChart, err => showError(`Error loading script: ${err.message}`));\n",
       "    } else if (typeof vegaEmbed === \"function\") {\n",
       "      displayChart(vegaEmbed);\n",
       "    } else {\n",
       "      loadScript(\"vega\")\n",
       "        .then(() => loadScript(\"vega-lite\"))\n",
       "        .then(() => loadScript(\"vega-embed\"))\n",
       "        .catch(showError)\n",
       "        .then(() => displayChart(vegaEmbed));\n",
       "    }\n",
       "  })({\"config\": {\"view\": {\"continuousWidth\": 400, \"continuousHeight\": 300}}, \"layer\": [{\"mark\": {\"type\": \"bar\", \"opacity\": 0.7}, \"encoding\": {\"opacity\": {\"type\": \"nominal\", \"field\": \"Daily confirmed cases\", \"legend\": {\"title\": \"\"}}, \"tooltip\": [{\"type\": \"nominal\", \"field\": \"Date\"}, {\"type\": \"quantitative\", \"field\": \"Confirmed cases\"}], \"x\": {\"type\": \"nominal\", \"axis\": {\"title\": \"Date\"}, \"field\": \"Date\"}, \"y\": {\"type\": \"quantitative\", \"axis\": {\"title\": \"Daily confirmed cases\"}, \"field\": \"Confirmed cases\"}}}, {\"mark\": {\"type\": \"line\", \"color\": \"#1f77b4\", \"point\": {\"filled\": true, \"fill\": \"#1f77b4\"}}, \"encoding\": {\"shape\": {\"type\": \"nominal\", \"field\": \"7-day rolling average\", \"legend\": {\"title\": \"\"}}, \"x\": {\"type\": \"nominal\", \"axis\": {\"title\": \"Date\"}, \"field\": \"Date\"}, \"y\": {\"type\": \"quantitative\", \"field\": \"Rolling\"}}}], \"data\": {\"name\": \"data-061aad34d0851cb88afe91170e87ebd8\"}, \"title\": \"Covid-19 in Chile: Daily confirmed cases in Maule\", \"width\": 600, \"$schema\": \"https://vega.github.io/schema/vega-lite/v4.8.1.json\", \"datasets\": {\"data-061aad34d0851cb88afe91170e87ebd8\": [{\"Date\": \"2020-03-04\", \"Confirmed cases\": 1, \"Rolling\": null, \"Daily confirmed cases\": \"Daily confirmed cases\", \"7-day rolling average\": \"7-day rolling average\"}, {\"Date\": \"2020-03-05\", \"Confirmed cases\": 0, \"Rolling\": null, \"Daily confirmed cases\": \"Daily confirmed cases\", \"7-day rolling average\": \"7-day rolling average\"}, {\"Date\": \"2020-03-06\", \"Confirmed cases\": 0, \"Rolling\": null, \"Daily confirmed cases\": \"Daily confirmed cases\", \"7-day rolling average\": \"7-day rolling average\"}, {\"Date\": \"2020-03-07\", \"Confirmed cases\": 0, \"Rolling\": null, \"Daily confirmed cases\": \"Daily confirmed cases\", \"7-day rolling average\": \"7-day rolling average\"}, {\"Date\": \"2020-03-08\", \"Confirmed cases\": 1, \"Rolling\": null, \"Daily confirmed cases\": \"Daily confirmed cases\", \"7-day rolling average\": \"7-day rolling average\"}, {\"Date\": \"2020-03-09\", \"Confirmed cases\": 1, \"Rolling\": null, \"Daily confirmed cases\": \"Daily confirmed cases\", \"7-day rolling average\": \"7-day rolling average\"}, {\"Date\": \"2020-03-10\", \"Confirmed cases\": 1, \"Rolling\": 0.5714285714285714, \"Daily confirmed cases\": \"Daily confirmed cases\", \"7-day rolling average\": \"7-day rolling average\"}, {\"Date\": \"2020-03-11\", \"Confirmed cases\": 2, \"Rolling\": 0.7142857142857143, \"Daily confirmed cases\": \"Daily confirmed cases\", \"7-day rolling average\": \"7-day rolling average\"}, {\"Date\": \"2020-03-12\", \"Confirmed cases\": 0, \"Rolling\": 0.7142857142857143, \"Daily confirmed cases\": \"Daily confirmed cases\", \"7-day rolling average\": \"7-day rolling average\"}, {\"Date\": \"2020-03-13\", \"Confirmed cases\": 1, \"Rolling\": 0.8571428571428571, \"Daily confirmed cases\": \"Daily confirmed cases\", \"7-day rolling average\": \"7-day rolling average\"}, {\"Date\": \"2020-03-14\", \"Confirmed cases\": 1, \"Rolling\": 1.0, \"Daily confirmed cases\": \"Daily confirmed cases\", \"7-day rolling average\": \"7-day rolling average\"}, {\"Date\": \"2020-03-15\", \"Confirmed cases\": 0, \"Rolling\": 0.8571428571428571, \"Daily confirmed cases\": \"Daily confirmed cases\", \"7-day rolling average\": \"7-day rolling average\"}, {\"Date\": \"2020-03-16\", \"Confirmed cases\": 0, \"Rolling\": 0.7142857142857143, \"Daily confirmed cases\": \"Daily confirmed cases\", \"7-day rolling average\": \"7-day rolling average\"}, {\"Date\": \"2020-03-17\", \"Confirmed cases\": 0, \"Rolling\": 0.5714285714285714, \"Daily confirmed cases\": \"Daily confirmed cases\", \"7-day rolling average\": \"7-day rolling average\"}, {\"Date\": \"2020-03-18\", \"Confirmed cases\": 2, \"Rolling\": 0.5714285714285714, \"Daily confirmed cases\": \"Daily confirmed cases\", \"7-day rolling average\": \"7-day rolling average\"}, {\"Date\": \"2020-03-19\", \"Confirmed cases\": 3, \"Rolling\": 1.0, \"Daily confirmed cases\": \"Daily confirmed cases\", \"7-day rolling average\": \"7-day rolling average\"}, {\"Date\": \"2020-03-20\", \"Confirmed cases\": 0, \"Rolling\": 0.8571428571428571, \"Daily confirmed cases\": \"Daily confirmed cases\", \"7-day rolling average\": \"7-day rolling average\"}, {\"Date\": \"2020-03-21\", \"Confirmed cases\": 1, \"Rolling\": 0.8571428571428571, \"Daily confirmed cases\": \"Daily confirmed cases\", \"7-day rolling average\": \"7-day rolling average\"}, {\"Date\": \"2020-03-22\", \"Confirmed cases\": 10, \"Rolling\": 2.2857142857142856, \"Daily confirmed cases\": \"Daily confirmed cases\", \"7-day rolling average\": \"7-day rolling average\"}, {\"Date\": \"2020-03-23\", \"Confirmed cases\": 3, \"Rolling\": 2.7142857142857144, \"Daily confirmed cases\": \"Daily confirmed cases\", \"7-day rolling average\": \"7-day rolling average\"}, {\"Date\": \"2020-03-24\", \"Confirmed cases\": 1, \"Rolling\": 2.857142857142857, \"Daily confirmed cases\": \"Daily confirmed cases\", \"7-day rolling average\": \"7-day rolling average\"}, {\"Date\": \"2020-03-25\", \"Confirmed cases\": 1, \"Rolling\": 2.7142857142857144, \"Daily confirmed cases\": \"Daily confirmed cases\", \"7-day rolling average\": \"7-day rolling average\"}, {\"Date\": \"2020-03-26\", \"Confirmed cases\": 1, \"Rolling\": 2.4285714285714284, \"Daily confirmed cases\": \"Daily confirmed cases\", \"7-day rolling average\": \"7-day rolling average\"}, {\"Date\": \"2020-03-27\", \"Confirmed cases\": 1, \"Rolling\": 2.5714285714285716, \"Daily confirmed cases\": \"Daily confirmed cases\", \"7-day rolling average\": \"7-day rolling average\"}, {\"Date\": \"2020-03-28\", \"Confirmed cases\": 5, \"Rolling\": 3.142857142857143, \"Daily confirmed cases\": \"Daily confirmed cases\", \"7-day rolling average\": \"7-day rolling average\"}, {\"Date\": \"2020-03-29\", \"Confirmed cases\": 5, \"Rolling\": 2.4285714285714284, \"Daily confirmed cases\": \"Daily confirmed cases\", \"7-day rolling average\": \"7-day rolling average\"}, {\"Date\": \"2020-03-30\", \"Confirmed cases\": 12, \"Rolling\": 3.7142857142857144, \"Daily confirmed cases\": \"Daily confirmed cases\", \"7-day rolling average\": \"7-day rolling average\"}, {\"Date\": \"2020-03-31\", \"Confirmed cases\": 8, \"Rolling\": 4.714285714285714, \"Daily confirmed cases\": \"Daily confirmed cases\", \"7-day rolling average\": \"7-day rolling average\"}, {\"Date\": \"2020-04-01\", \"Confirmed cases\": 9, \"Rolling\": 5.857142857142857, \"Daily confirmed cases\": \"Daily confirmed cases\", \"7-day rolling average\": \"7-day rolling average\"}, {\"Date\": \"2020-04-02\", \"Confirmed cases\": 11, \"Rolling\": 7.285714285714286, \"Daily confirmed cases\": \"Daily confirmed cases\", \"7-day rolling average\": \"7-day rolling average\"}, {\"Date\": \"2020-04-03\", \"Confirmed cases\": 7, \"Rolling\": 8.142857142857142, \"Daily confirmed cases\": \"Daily confirmed cases\", \"7-day rolling average\": \"7-day rolling average\"}, {\"Date\": \"2020-04-04\", \"Confirmed cases\": 8, \"Rolling\": 8.571428571428571, \"Daily confirmed cases\": \"Daily confirmed cases\", \"7-day rolling average\": \"7-day rolling average\"}, {\"Date\": \"2020-04-05\", \"Confirmed cases\": 6, \"Rolling\": 8.714285714285714, \"Daily confirmed cases\": \"Daily confirmed cases\", \"7-day rolling average\": \"7-day rolling average\"}, {\"Date\": \"2020-04-06\", \"Confirmed cases\": 5, \"Rolling\": 7.714285714285714, \"Daily confirmed cases\": \"Daily confirmed cases\", \"7-day rolling average\": \"7-day rolling average\"}, {\"Date\": \"2020-04-07\", \"Confirmed cases\": 0, \"Rolling\": 6.571428571428571, \"Daily confirmed cases\": \"Daily confirmed cases\", \"7-day rolling average\": \"7-day rolling average\"}, {\"Date\": \"2020-04-08\", \"Confirmed cases\": 11, \"Rolling\": 6.857142857142857, \"Daily confirmed cases\": \"Daily confirmed cases\", \"7-day rolling average\": \"7-day rolling average\"}, {\"Date\": \"2020-04-09\", \"Confirmed cases\": 9, \"Rolling\": 6.571428571428571, \"Daily confirmed cases\": \"Daily confirmed cases\", \"7-day rolling average\": \"7-day rolling average\"}, {\"Date\": \"2020-04-10\", \"Confirmed cases\": 3, \"Rolling\": 6.0, \"Daily confirmed cases\": \"Daily confirmed cases\", \"7-day rolling average\": \"7-day rolling average\"}, {\"Date\": \"2020-04-11\", \"Confirmed cases\": 3, \"Rolling\": 5.285714285714286, \"Daily confirmed cases\": \"Daily confirmed cases\", \"7-day rolling average\": \"7-day rolling average\"}, {\"Date\": \"2020-04-12\", \"Confirmed cases\": 4, \"Rolling\": 5.0, \"Daily confirmed cases\": \"Daily confirmed cases\", \"7-day rolling average\": \"7-day rolling average\"}, {\"Date\": \"2020-04-13\", \"Confirmed cases\": 3, \"Rolling\": 4.714285714285714, \"Daily confirmed cases\": \"Daily confirmed cases\", \"7-day rolling average\": \"7-day rolling average\"}, {\"Date\": \"2020-04-14\", \"Confirmed cases\": 1, \"Rolling\": 4.857142857142857, \"Daily confirmed cases\": \"Daily confirmed cases\", \"7-day rolling average\": \"7-day rolling average\"}, {\"Date\": \"2020-04-15\", \"Confirmed cases\": 10, \"Rolling\": 4.714285714285714, \"Daily confirmed cases\": \"Daily confirmed cases\", \"7-day rolling average\": \"7-day rolling average\"}, {\"Date\": \"2020-04-16\", \"Confirmed cases\": 15, \"Rolling\": 5.571428571428571, \"Daily confirmed cases\": \"Daily confirmed cases\", \"7-day rolling average\": \"7-day rolling average\"}, {\"Date\": \"2020-04-17\", \"Confirmed cases\": 56, \"Rolling\": 13.142857142857142, \"Daily confirmed cases\": \"Daily confirmed cases\", \"7-day rolling average\": \"7-day rolling average\"}, {\"Date\": \"2020-04-18\", \"Confirmed cases\": 53, \"Rolling\": 20.285714285714285, \"Daily confirmed cases\": \"Daily confirmed cases\", \"7-day rolling average\": \"7-day rolling average\"}, {\"Date\": \"2020-04-19\", \"Confirmed cases\": 26, \"Rolling\": 23.428571428571427, \"Daily confirmed cases\": \"Daily confirmed cases\", \"7-day rolling average\": \"7-day rolling average\"}, {\"Date\": \"2020-04-20\", \"Confirmed cases\": 2, \"Rolling\": 23.285714285714285, \"Daily confirmed cases\": \"Daily confirmed cases\", \"7-day rolling average\": \"7-day rolling average\"}, {\"Date\": \"2020-04-21\", \"Confirmed cases\": 12, \"Rolling\": 24.857142857142858, \"Daily confirmed cases\": \"Daily confirmed cases\", \"7-day rolling average\": \"7-day rolling average\"}, {\"Date\": \"2020-04-22\", \"Confirmed cases\": 12, \"Rolling\": 25.142857142857142, \"Daily confirmed cases\": \"Daily confirmed cases\", \"7-day rolling average\": \"7-day rolling average\"}, {\"Date\": \"2020-04-23\", \"Confirmed cases\": 5, \"Rolling\": 23.714285714285715, \"Daily confirmed cases\": \"Daily confirmed cases\", \"7-day rolling average\": \"7-day rolling average\"}, {\"Date\": \"2020-04-24\", \"Confirmed cases\": 16, \"Rolling\": 18.0, \"Daily confirmed cases\": \"Daily confirmed cases\", \"7-day rolling average\": \"7-day rolling average\"}, {\"Date\": \"2020-04-25\", \"Confirmed cases\": 1, \"Rolling\": 10.571428571428571, \"Daily confirmed cases\": \"Daily confirmed cases\", \"7-day rolling average\": \"7-day rolling average\"}, {\"Date\": \"2020-04-26\", \"Confirmed cases\": 4, \"Rolling\": 7.428571428571429, \"Daily confirmed cases\": \"Daily confirmed cases\", \"7-day rolling average\": \"7-day rolling average\"}]}}, {\"mode\": \"vega-lite\"});\n",
       "</script>"
      ],
      "text/plain": [
       "alt.LayerChart(...)"
      ]
     },
     "execution_count": 53,
     "metadata": {},
     "output_type": "execute_result"
    }
   ],
   "source": [
    "#hide_input\n",
    "bars, line = my_cases_plot(region)\n",
    "(bars + line).properties(\n",
    "    title=f'Covid-19 in Chile: Daily confirmed cases in {region}',\n",
    "    width=600\n",
    ")"
   ]
  },
  {
   "cell_type": "markdown",
   "metadata": {},
   "source": [
    "## Ñuble"
   ]
  },
  {
   "cell_type": "code",
   "execution_count": 54,
   "metadata": {
    "scrolled": true
   },
   "outputs": [],
   "source": [
    "#hide\n",
    "region = \"Ñuble\""
   ]
  },
  {
   "cell_type": "code",
   "execution_count": 55,
   "metadata": {},
   "outputs": [
    {
     "data": {
      "text/html": [
       "\n",
       "<div id=\"altair-viz-5fb976b6aec74459bf8977c5e2cda9dc\"></div>\n",
       "<script type=\"text/javascript\">\n",
       "  (function(spec, embedOpt){\n",
       "    let outputDiv = document.currentScript.previousElementSibling;\n",
       "    if (outputDiv.id !== \"altair-viz-5fb976b6aec74459bf8977c5e2cda9dc\") {\n",
       "      outputDiv = document.getElementById(\"altair-viz-5fb976b6aec74459bf8977c5e2cda9dc\");\n",
       "    }\n",
       "    const paths = {\n",
       "      \"vega\": \"https://cdn.jsdelivr.net/npm//vega@5?noext\",\n",
       "      \"vega-lib\": \"https://cdn.jsdelivr.net/npm//vega-lib?noext\",\n",
       "      \"vega-lite\": \"https://cdn.jsdelivr.net/npm//vega-lite@4.8.1?noext\",\n",
       "      \"vega-embed\": \"https://cdn.jsdelivr.net/npm//vega-embed@6?noext\",\n",
       "    };\n",
       "\n",
       "    function loadScript(lib) {\n",
       "      return new Promise(function(resolve, reject) {\n",
       "        var s = document.createElement('script');\n",
       "        s.src = paths[lib];\n",
       "        s.async = true;\n",
       "        s.onload = () => resolve(paths[lib]);\n",
       "        s.onerror = () => reject(`Error loading script: ${paths[lib]}`);\n",
       "        document.getElementsByTagName(\"head\")[0].appendChild(s);\n",
       "      });\n",
       "    }\n",
       "\n",
       "    function showError(err) {\n",
       "      outputDiv.innerHTML = `<div class=\"error\" style=\"color:red;\">${err}</div>`;\n",
       "      throw err;\n",
       "    }\n",
       "\n",
       "    function displayChart(vegaEmbed) {\n",
       "      vegaEmbed(outputDiv, spec, embedOpt)\n",
       "        .catch(err => showError(`Javascript Error: ${err.message}<br>This usually means there's a typo in your chart specification. See the javascript console for the full traceback.`));\n",
       "    }\n",
       "\n",
       "    if(typeof define === \"function\" && define.amd) {\n",
       "      requirejs.config({paths});\n",
       "      require([\"vega-embed\"], displayChart, err => showError(`Error loading script: ${err.message}`));\n",
       "    } else if (typeof vegaEmbed === \"function\") {\n",
       "      displayChart(vegaEmbed);\n",
       "    } else {\n",
       "      loadScript(\"vega\")\n",
       "        .then(() => loadScript(\"vega-lite\"))\n",
       "        .then(() => loadScript(\"vega-embed\"))\n",
       "        .catch(showError)\n",
       "        .then(() => displayChart(vegaEmbed));\n",
       "    }\n",
       "  })({\"config\": {\"view\": {\"continuousWidth\": 400, \"continuousHeight\": 300}}, \"layer\": [{\"mark\": {\"type\": \"bar\", \"opacity\": 0.7}, \"encoding\": {\"opacity\": {\"type\": \"nominal\", \"field\": \"Daily confirmed cases\", \"legend\": {\"title\": \"\"}}, \"tooltip\": [{\"type\": \"nominal\", \"field\": \"Date\"}, {\"type\": \"quantitative\", \"field\": \"Confirmed cases\"}], \"x\": {\"type\": \"nominal\", \"axis\": {\"title\": \"Date\"}, \"field\": \"Date\"}, \"y\": {\"type\": \"quantitative\", \"axis\": {\"title\": \"Daily confirmed cases\"}, \"field\": \"Confirmed cases\"}}}, {\"mark\": {\"type\": \"line\", \"color\": \"#1f77b4\", \"point\": {\"filled\": true, \"fill\": \"#1f77b4\"}}, \"encoding\": {\"shape\": {\"type\": \"nominal\", \"field\": \"7-day rolling average\", \"legend\": {\"title\": \"\"}}, \"x\": {\"type\": \"nominal\", \"axis\": {\"title\": \"Date\"}, \"field\": \"Date\"}, \"y\": {\"type\": \"quantitative\", \"field\": \"Rolling\"}}}], \"data\": {\"name\": \"data-349075078573b268c577e251b266d02b\"}, \"title\": \"Covid-19 in Chile: Daily confirmed cases in \\u00d1uble\", \"width\": 600, \"$schema\": \"https://vega.github.io/schema/vega-lite/v4.8.1.json\", \"datasets\": {\"data-349075078573b268c577e251b266d02b\": [{\"Date\": \"2020-03-04\", \"Confirmed cases\": 0, \"Rolling\": null, \"Daily confirmed cases\": \"Daily confirmed cases\", \"7-day rolling average\": \"7-day rolling average\"}, {\"Date\": \"2020-03-05\", \"Confirmed cases\": 0, \"Rolling\": null, \"Daily confirmed cases\": \"Daily confirmed cases\", \"7-day rolling average\": \"7-day rolling average\"}, {\"Date\": \"2020-03-06\", \"Confirmed cases\": 0, \"Rolling\": null, \"Daily confirmed cases\": \"Daily confirmed cases\", \"7-day rolling average\": \"7-day rolling average\"}, {\"Date\": \"2020-03-07\", \"Confirmed cases\": 0, \"Rolling\": null, \"Daily confirmed cases\": \"Daily confirmed cases\", \"7-day rolling average\": \"7-day rolling average\"}, {\"Date\": \"2020-03-08\", \"Confirmed cases\": 0, \"Rolling\": null, \"Daily confirmed cases\": \"Daily confirmed cases\", \"7-day rolling average\": \"7-day rolling average\"}, {\"Date\": \"2020-03-09\", \"Confirmed cases\": 0, \"Rolling\": null, \"Daily confirmed cases\": \"Daily confirmed cases\", \"7-day rolling average\": \"7-day rolling average\"}, {\"Date\": \"2020-03-10\", \"Confirmed cases\": 0, \"Rolling\": 0.0, \"Daily confirmed cases\": \"Daily confirmed cases\", \"7-day rolling average\": \"7-day rolling average\"}, {\"Date\": \"2020-03-11\", \"Confirmed cases\": 0, \"Rolling\": 0.0, \"Daily confirmed cases\": \"Daily confirmed cases\", \"7-day rolling average\": \"7-day rolling average\"}, {\"Date\": \"2020-03-12\", \"Confirmed cases\": 1, \"Rolling\": 0.14285714285714285, \"Daily confirmed cases\": \"Daily confirmed cases\", \"7-day rolling average\": \"7-day rolling average\"}, {\"Date\": \"2020-03-13\", \"Confirmed cases\": 1, \"Rolling\": 0.2857142857142857, \"Daily confirmed cases\": \"Daily confirmed cases\", \"7-day rolling average\": \"7-day rolling average\"}, {\"Date\": \"2020-03-14\", \"Confirmed cases\": 2, \"Rolling\": 0.5714285714285714, \"Daily confirmed cases\": \"Daily confirmed cases\", \"7-day rolling average\": \"7-day rolling average\"}, {\"Date\": \"2020-03-15\", \"Confirmed cases\": 0, \"Rolling\": 0.5714285714285714, \"Daily confirmed cases\": \"Daily confirmed cases\", \"7-day rolling average\": \"7-day rolling average\"}, {\"Date\": \"2020-03-16\", \"Confirmed cases\": 8, \"Rolling\": 1.7142857142857142, \"Daily confirmed cases\": \"Daily confirmed cases\", \"7-day rolling average\": \"7-day rolling average\"}, {\"Date\": \"2020-03-17\", \"Confirmed cases\": 14, \"Rolling\": 3.7142857142857144, \"Daily confirmed cases\": \"Daily confirmed cases\", \"7-day rolling average\": \"7-day rolling average\"}, {\"Date\": \"2020-03-18\", \"Confirmed cases\": 0, \"Rolling\": 3.7142857142857144, \"Daily confirmed cases\": \"Daily confirmed cases\", \"7-day rolling average\": \"7-day rolling average\"}, {\"Date\": \"2020-03-19\", \"Confirmed cases\": 2, \"Rolling\": 3.857142857142857, \"Daily confirmed cases\": \"Daily confirmed cases\", \"7-day rolling average\": \"7-day rolling average\"}, {\"Date\": \"2020-03-20\", \"Confirmed cases\": 16, \"Rolling\": 6.0, \"Daily confirmed cases\": \"Daily confirmed cases\", \"7-day rolling average\": \"7-day rolling average\"}, {\"Date\": \"2020-03-21\", \"Confirmed cases\": 14, \"Rolling\": 7.714285714285714, \"Daily confirmed cases\": \"Daily confirmed cases\", \"7-day rolling average\": \"7-day rolling average\"}, {\"Date\": \"2020-03-22\", \"Confirmed cases\": 6, \"Rolling\": 8.571428571428571, \"Daily confirmed cases\": \"Daily confirmed cases\", \"7-day rolling average\": \"7-day rolling average\"}, {\"Date\": \"2020-03-23\", \"Confirmed cases\": 17, \"Rolling\": 9.857142857142858, \"Daily confirmed cases\": \"Daily confirmed cases\", \"7-day rolling average\": \"7-day rolling average\"}, {\"Date\": \"2020-03-24\", \"Confirmed cases\": 24, \"Rolling\": 11.285714285714286, \"Daily confirmed cases\": \"Daily confirmed cases\", \"7-day rolling average\": \"7-day rolling average\"}, {\"Date\": \"2020-03-25\", \"Confirmed cases\": 6, \"Rolling\": 12.142857142857142, \"Daily confirmed cases\": \"Daily confirmed cases\", \"7-day rolling average\": \"7-day rolling average\"}, {\"Date\": \"2020-03-26\", \"Confirmed cases\": 3, \"Rolling\": 12.285714285714286, \"Daily confirmed cases\": \"Daily confirmed cases\", \"7-day rolling average\": \"7-day rolling average\"}, {\"Date\": \"2020-03-27\", \"Confirmed cases\": 30, \"Rolling\": 14.285714285714286, \"Daily confirmed cases\": \"Daily confirmed cases\", \"7-day rolling average\": \"7-day rolling average\"}, {\"Date\": \"2020-03-28\", \"Confirmed cases\": 28, \"Rolling\": 16.285714285714285, \"Daily confirmed cases\": \"Daily confirmed cases\", \"7-day rolling average\": \"7-day rolling average\"}, {\"Date\": \"2020-03-29\", \"Confirmed cases\": 25, \"Rolling\": 19.0, \"Daily confirmed cases\": \"Daily confirmed cases\", \"7-day rolling average\": \"7-day rolling average\"}, {\"Date\": \"2020-03-30\", \"Confirmed cases\": 32, \"Rolling\": 21.142857142857142, \"Daily confirmed cases\": \"Daily confirmed cases\", \"7-day rolling average\": \"7-day rolling average\"}, {\"Date\": \"2020-03-31\", \"Confirmed cases\": 16, \"Rolling\": 20.0, \"Daily confirmed cases\": \"Daily confirmed cases\", \"7-day rolling average\": \"7-day rolling average\"}, {\"Date\": \"2020-04-01\", \"Confirmed cases\": 14, \"Rolling\": 21.142857142857142, \"Daily confirmed cases\": \"Daily confirmed cases\", \"7-day rolling average\": \"7-day rolling average\"}, {\"Date\": \"2020-04-02\", \"Confirmed cases\": 82, \"Rolling\": 32.42857142857143, \"Daily confirmed cases\": \"Daily confirmed cases\", \"7-day rolling average\": \"7-day rolling average\"}, {\"Date\": \"2020-04-03\", \"Confirmed cases\": 29, \"Rolling\": 32.285714285714285, \"Daily confirmed cases\": \"Daily confirmed cases\", \"7-day rolling average\": \"7-day rolling average\"}, {\"Date\": \"2020-04-04\", \"Confirmed cases\": 31, \"Rolling\": 32.714285714285715, \"Daily confirmed cases\": \"Daily confirmed cases\", \"7-day rolling average\": \"7-day rolling average\"}, {\"Date\": \"2020-04-05\", \"Confirmed cases\": 24, \"Rolling\": 32.57142857142857, \"Daily confirmed cases\": \"Daily confirmed cases\", \"7-day rolling average\": \"7-day rolling average\"}, {\"Date\": \"2020-04-06\", \"Confirmed cases\": 49, \"Rolling\": 35.0, \"Daily confirmed cases\": \"Daily confirmed cases\", \"7-day rolling average\": \"7-day rolling average\"}, {\"Date\": \"2020-04-07\", \"Confirmed cases\": 48, \"Rolling\": 39.57142857142857, \"Daily confirmed cases\": \"Daily confirmed cases\", \"7-day rolling average\": \"7-day rolling average\"}, {\"Date\": \"2020-04-08\", \"Confirmed cases\": 39, \"Rolling\": 43.142857142857146, \"Daily confirmed cases\": \"Daily confirmed cases\", \"7-day rolling average\": \"7-day rolling average\"}, {\"Date\": \"2020-04-09\", \"Confirmed cases\": 10, \"Rolling\": 32.857142857142854, \"Daily confirmed cases\": \"Daily confirmed cases\", \"7-day rolling average\": \"7-day rolling average\"}, {\"Date\": \"2020-04-10\", \"Confirmed cases\": 18, \"Rolling\": 31.285714285714285, \"Daily confirmed cases\": \"Daily confirmed cases\", \"7-day rolling average\": \"7-day rolling average\"}, {\"Date\": \"2020-04-11\", \"Confirmed cases\": 17, \"Rolling\": 29.285714285714285, \"Daily confirmed cases\": \"Daily confirmed cases\", \"7-day rolling average\": \"7-day rolling average\"}, {\"Date\": \"2020-04-12\", \"Confirmed cases\": 7, \"Rolling\": 26.857142857142858, \"Daily confirmed cases\": \"Daily confirmed cases\", \"7-day rolling average\": \"7-day rolling average\"}, {\"Date\": \"2020-04-13\", \"Confirmed cases\": 5, \"Rolling\": 20.571428571428573, \"Daily confirmed cases\": \"Daily confirmed cases\", \"7-day rolling average\": \"7-day rolling average\"}, {\"Date\": \"2020-04-14\", \"Confirmed cases\": 4, \"Rolling\": 14.285714285714286, \"Daily confirmed cases\": \"Daily confirmed cases\", \"7-day rolling average\": \"7-day rolling average\"}, {\"Date\": \"2020-04-15\", \"Confirmed cases\": 12, \"Rolling\": 10.428571428571429, \"Daily confirmed cases\": \"Daily confirmed cases\", \"7-day rolling average\": \"7-day rolling average\"}, {\"Date\": \"2020-04-16\", \"Confirmed cases\": 5, \"Rolling\": 9.714285714285714, \"Daily confirmed cases\": \"Daily confirmed cases\", \"7-day rolling average\": \"7-day rolling average\"}, {\"Date\": \"2020-04-17\", \"Confirmed cases\": 17, \"Rolling\": 9.571428571428571, \"Daily confirmed cases\": \"Daily confirmed cases\", \"7-day rolling average\": \"7-day rolling average\"}, {\"Date\": \"2020-04-18\", \"Confirmed cases\": 11, \"Rolling\": 8.714285714285714, \"Daily confirmed cases\": \"Daily confirmed cases\", \"7-day rolling average\": \"7-day rolling average\"}, {\"Date\": \"2020-04-19\", \"Confirmed cases\": 11, \"Rolling\": 9.285714285714286, \"Daily confirmed cases\": \"Daily confirmed cases\", \"7-day rolling average\": \"7-day rolling average\"}, {\"Date\": \"2020-04-20\", \"Confirmed cases\": 9, \"Rolling\": 9.857142857142858, \"Daily confirmed cases\": \"Daily confirmed cases\", \"7-day rolling average\": \"7-day rolling average\"}, {\"Date\": \"2020-04-21\", \"Confirmed cases\": 7, \"Rolling\": 10.285714285714286, \"Daily confirmed cases\": \"Daily confirmed cases\", \"7-day rolling average\": \"7-day rolling average\"}, {\"Date\": \"2020-04-22\", \"Confirmed cases\": 9, \"Rolling\": 9.857142857142858, \"Daily confirmed cases\": \"Daily confirmed cases\", \"7-day rolling average\": \"7-day rolling average\"}, {\"Date\": \"2020-04-23\", \"Confirmed cases\": 5, \"Rolling\": 9.857142857142858, \"Daily confirmed cases\": \"Daily confirmed cases\", \"7-day rolling average\": \"7-day rolling average\"}, {\"Date\": \"2020-04-24\", \"Confirmed cases\": 7, \"Rolling\": 8.428571428571429, \"Daily confirmed cases\": \"Daily confirmed cases\", \"7-day rolling average\": \"7-day rolling average\"}, {\"Date\": \"2020-04-25\", \"Confirmed cases\": 10, \"Rolling\": 8.285714285714286, \"Daily confirmed cases\": \"Daily confirmed cases\", \"7-day rolling average\": \"7-day rolling average\"}, {\"Date\": \"2020-04-26\", \"Confirmed cases\": 6, \"Rolling\": 7.571428571428571, \"Daily confirmed cases\": \"Daily confirmed cases\", \"7-day rolling average\": \"7-day rolling average\"}]}}, {\"mode\": \"vega-lite\"});\n",
       "</script>"
      ],
      "text/plain": [
       "alt.LayerChart(...)"
      ]
     },
     "execution_count": 55,
     "metadata": {},
     "output_type": "execute_result"
    }
   ],
   "source": [
    "#hide_input\n",
    "bars, line = my_cases_plot(region)\n",
    "(bars + line).properties(\n",
    "    title=f'Covid-19 in Chile: Daily confirmed cases in {region}',\n",
    "    width=600\n",
    ")"
   ]
  },
  {
   "cell_type": "markdown",
   "metadata": {},
   "source": [
    "## Biobío"
   ]
  },
  {
   "cell_type": "code",
   "execution_count": 56,
   "metadata": {
    "scrolled": true
   },
   "outputs": [],
   "source": [
    "#hide\n",
    "region = \"Biobío\""
   ]
  },
  {
   "cell_type": "code",
   "execution_count": 57,
   "metadata": {},
   "outputs": [
    {
     "data": {
      "text/html": [
       "\n",
       "<div id=\"altair-viz-61b407c429804b38873475c7eef45d92\"></div>\n",
       "<script type=\"text/javascript\">\n",
       "  (function(spec, embedOpt){\n",
       "    let outputDiv = document.currentScript.previousElementSibling;\n",
       "    if (outputDiv.id !== \"altair-viz-61b407c429804b38873475c7eef45d92\") {\n",
       "      outputDiv = document.getElementById(\"altair-viz-61b407c429804b38873475c7eef45d92\");\n",
       "    }\n",
       "    const paths = {\n",
       "      \"vega\": \"https://cdn.jsdelivr.net/npm//vega@5?noext\",\n",
       "      \"vega-lib\": \"https://cdn.jsdelivr.net/npm//vega-lib?noext\",\n",
       "      \"vega-lite\": \"https://cdn.jsdelivr.net/npm//vega-lite@4.8.1?noext\",\n",
       "      \"vega-embed\": \"https://cdn.jsdelivr.net/npm//vega-embed@6?noext\",\n",
       "    };\n",
       "\n",
       "    function loadScript(lib) {\n",
       "      return new Promise(function(resolve, reject) {\n",
       "        var s = document.createElement('script');\n",
       "        s.src = paths[lib];\n",
       "        s.async = true;\n",
       "        s.onload = () => resolve(paths[lib]);\n",
       "        s.onerror = () => reject(`Error loading script: ${paths[lib]}`);\n",
       "        document.getElementsByTagName(\"head\")[0].appendChild(s);\n",
       "      });\n",
       "    }\n",
       "\n",
       "    function showError(err) {\n",
       "      outputDiv.innerHTML = `<div class=\"error\" style=\"color:red;\">${err}</div>`;\n",
       "      throw err;\n",
       "    }\n",
       "\n",
       "    function displayChart(vegaEmbed) {\n",
       "      vegaEmbed(outputDiv, spec, embedOpt)\n",
       "        .catch(err => showError(`Javascript Error: ${err.message}<br>This usually means there's a typo in your chart specification. See the javascript console for the full traceback.`));\n",
       "    }\n",
       "\n",
       "    if(typeof define === \"function\" && define.amd) {\n",
       "      requirejs.config({paths});\n",
       "      require([\"vega-embed\"], displayChart, err => showError(`Error loading script: ${err.message}`));\n",
       "    } else if (typeof vegaEmbed === \"function\") {\n",
       "      displayChart(vegaEmbed);\n",
       "    } else {\n",
       "      loadScript(\"vega\")\n",
       "        .then(() => loadScript(\"vega-lite\"))\n",
       "        .then(() => loadScript(\"vega-embed\"))\n",
       "        .catch(showError)\n",
       "        .then(() => displayChart(vegaEmbed));\n",
       "    }\n",
       "  })({\"config\": {\"view\": {\"continuousWidth\": 400, \"continuousHeight\": 300}}, \"layer\": [{\"mark\": {\"type\": \"bar\", \"opacity\": 0.7}, \"encoding\": {\"opacity\": {\"type\": \"nominal\", \"field\": \"Daily confirmed cases\", \"legend\": {\"title\": \"\"}}, \"tooltip\": [{\"type\": \"nominal\", \"field\": \"Date\"}, {\"type\": \"quantitative\", \"field\": \"Confirmed cases\"}], \"x\": {\"type\": \"nominal\", \"axis\": {\"title\": \"Date\"}, \"field\": \"Date\"}, \"y\": {\"type\": \"quantitative\", \"axis\": {\"title\": \"Daily confirmed cases\"}, \"field\": \"Confirmed cases\"}}}, {\"mark\": {\"type\": \"line\", \"color\": \"#1f77b4\", \"point\": {\"filled\": true, \"fill\": \"#1f77b4\"}}, \"encoding\": {\"shape\": {\"type\": \"nominal\", \"field\": \"7-day rolling average\", \"legend\": {\"title\": \"\"}}, \"x\": {\"type\": \"nominal\", \"axis\": {\"title\": \"Date\"}, \"field\": \"Date\"}, \"y\": {\"type\": \"quantitative\", \"field\": \"Rolling\"}}}], \"data\": {\"name\": \"data-070cad22a1276198aea2c93da4d1f6e1\"}, \"title\": \"Covid-19 in Chile: Daily confirmed cases in Biob\\u00edo\", \"width\": 600, \"$schema\": \"https://vega.github.io/schema/vega-lite/v4.8.1.json\", \"datasets\": {\"data-070cad22a1276198aea2c93da4d1f6e1\": [{\"Date\": \"2020-03-04\", \"Confirmed cases\": 0, \"Rolling\": null, \"Daily confirmed cases\": \"Daily confirmed cases\", \"7-day rolling average\": \"7-day rolling average\"}, {\"Date\": \"2020-03-05\", \"Confirmed cases\": 0, \"Rolling\": null, \"Daily confirmed cases\": \"Daily confirmed cases\", \"7-day rolling average\": \"7-day rolling average\"}, {\"Date\": \"2020-03-06\", \"Confirmed cases\": 0, \"Rolling\": null, \"Daily confirmed cases\": \"Daily confirmed cases\", \"7-day rolling average\": \"7-day rolling average\"}, {\"Date\": \"2020-03-07\", \"Confirmed cases\": 0, \"Rolling\": null, \"Daily confirmed cases\": \"Daily confirmed cases\", \"7-day rolling average\": \"7-day rolling average\"}, {\"Date\": \"2020-03-08\", \"Confirmed cases\": 0, \"Rolling\": null, \"Daily confirmed cases\": \"Daily confirmed cases\", \"7-day rolling average\": \"7-day rolling average\"}, {\"Date\": \"2020-03-09\", \"Confirmed cases\": 1, \"Rolling\": null, \"Daily confirmed cases\": \"Daily confirmed cases\", \"7-day rolling average\": \"7-day rolling average\"}, {\"Date\": \"2020-03-10\", \"Confirmed cases\": 0, \"Rolling\": 0.14285714285714285, \"Daily confirmed cases\": \"Daily confirmed cases\", \"7-day rolling average\": \"7-day rolling average\"}, {\"Date\": \"2020-03-11\", \"Confirmed cases\": 0, \"Rolling\": 0.14285714285714285, \"Daily confirmed cases\": \"Daily confirmed cases\", \"7-day rolling average\": \"7-day rolling average\"}, {\"Date\": \"2020-03-12\", \"Confirmed cases\": 0, \"Rolling\": 0.14285714285714285, \"Daily confirmed cases\": \"Daily confirmed cases\", \"7-day rolling average\": \"7-day rolling average\"}, {\"Date\": \"2020-03-13\", \"Confirmed cases\": 2, \"Rolling\": 0.42857142857142855, \"Daily confirmed cases\": \"Daily confirmed cases\", \"7-day rolling average\": \"7-day rolling average\"}, {\"Date\": \"2020-03-14\", \"Confirmed cases\": 0, \"Rolling\": 0.42857142857142855, \"Daily confirmed cases\": \"Daily confirmed cases\", \"7-day rolling average\": \"7-day rolling average\"}, {\"Date\": \"2020-03-15\", \"Confirmed cases\": 0, \"Rolling\": 0.42857142857142855, \"Daily confirmed cases\": \"Daily confirmed cases\", \"7-day rolling average\": \"7-day rolling average\"}, {\"Date\": \"2020-03-16\", \"Confirmed cases\": 1, \"Rolling\": 0.42857142857142855, \"Daily confirmed cases\": \"Daily confirmed cases\", \"7-day rolling average\": \"7-day rolling average\"}, {\"Date\": \"2020-03-17\", \"Confirmed cases\": 0, \"Rolling\": 0.42857142857142855, \"Daily confirmed cases\": \"Daily confirmed cases\", \"7-day rolling average\": \"7-day rolling average\"}, {\"Date\": \"2020-03-18\", \"Confirmed cases\": 3, \"Rolling\": 0.8571428571428571, \"Daily confirmed cases\": \"Daily confirmed cases\", \"7-day rolling average\": \"7-day rolling average\"}, {\"Date\": \"2020-03-19\", \"Confirmed cases\": 7, \"Rolling\": 1.8571428571428572, \"Daily confirmed cases\": \"Daily confirmed cases\", \"7-day rolling average\": \"7-day rolling average\"}, {\"Date\": \"2020-03-20\", \"Confirmed cases\": 5, \"Rolling\": 2.2857142857142856, \"Daily confirmed cases\": \"Daily confirmed cases\", \"7-day rolling average\": \"7-day rolling average\"}, {\"Date\": \"2020-03-21\", \"Confirmed cases\": 11, \"Rolling\": 3.857142857142857, \"Daily confirmed cases\": \"Daily confirmed cases\", \"7-day rolling average\": \"7-day rolling average\"}, {\"Date\": \"2020-03-22\", \"Confirmed cases\": 5, \"Rolling\": 4.571428571428571, \"Daily confirmed cases\": \"Daily confirmed cases\", \"7-day rolling average\": \"7-day rolling average\"}, {\"Date\": \"2020-03-23\", \"Confirmed cases\": 11, \"Rolling\": 6.0, \"Daily confirmed cases\": \"Daily confirmed cases\", \"7-day rolling average\": \"7-day rolling average\"}, {\"Date\": \"2020-03-24\", \"Confirmed cases\": 27, \"Rolling\": 9.857142857142858, \"Daily confirmed cases\": \"Daily confirmed cases\", \"7-day rolling average\": \"7-day rolling average\"}, {\"Date\": \"2020-03-25\", \"Confirmed cases\": 22, \"Rolling\": 12.571428571428571, \"Daily confirmed cases\": \"Daily confirmed cases\", \"7-day rolling average\": \"7-day rolling average\"}, {\"Date\": \"2020-03-26\", \"Confirmed cases\": 14, \"Rolling\": 13.571428571428571, \"Daily confirmed cases\": \"Daily confirmed cases\", \"7-day rolling average\": \"7-day rolling average\"}, {\"Date\": \"2020-03-27\", \"Confirmed cases\": 26, \"Rolling\": 16.571428571428573, \"Daily confirmed cases\": \"Daily confirmed cases\", \"7-day rolling average\": \"7-day rolling average\"}, {\"Date\": \"2020-03-28\", \"Confirmed cases\": 16, \"Rolling\": 17.285714285714285, \"Daily confirmed cases\": \"Daily confirmed cases\", \"7-day rolling average\": \"7-day rolling average\"}, {\"Date\": \"2020-03-29\", \"Confirmed cases\": 34, \"Rolling\": 21.428571428571427, \"Daily confirmed cases\": \"Daily confirmed cases\", \"7-day rolling average\": \"7-day rolling average\"}, {\"Date\": \"2020-03-30\", \"Confirmed cases\": 16, \"Rolling\": 22.142857142857142, \"Daily confirmed cases\": \"Daily confirmed cases\", \"7-day rolling average\": \"7-day rolling average\"}, {\"Date\": \"2020-03-31\", \"Confirmed cases\": 15, \"Rolling\": 20.428571428571427, \"Daily confirmed cases\": \"Daily confirmed cases\", \"7-day rolling average\": \"7-day rolling average\"}, {\"Date\": \"2020-04-01\", \"Confirmed cases\": 24, \"Rolling\": 20.714285714285715, \"Daily confirmed cases\": \"Daily confirmed cases\", \"7-day rolling average\": \"7-day rolling average\"}, {\"Date\": \"2020-04-02\", \"Confirmed cases\": 35, \"Rolling\": 23.714285714285715, \"Daily confirmed cases\": \"Daily confirmed cases\", \"7-day rolling average\": \"7-day rolling average\"}, {\"Date\": \"2020-04-03\", \"Confirmed cases\": 27, \"Rolling\": 23.857142857142858, \"Daily confirmed cases\": \"Daily confirmed cases\", \"7-day rolling average\": \"7-day rolling average\"}, {\"Date\": \"2020-04-04\", \"Confirmed cases\": 45, \"Rolling\": 28.0, \"Daily confirmed cases\": \"Daily confirmed cases\", \"7-day rolling average\": \"7-day rolling average\"}, {\"Date\": \"2020-04-05\", \"Confirmed cases\": 18, \"Rolling\": 25.714285714285715, \"Daily confirmed cases\": \"Daily confirmed cases\", \"7-day rolling average\": \"7-day rolling average\"}, {\"Date\": \"2020-04-06\", \"Confirmed cases\": 18, \"Rolling\": 26.0, \"Daily confirmed cases\": \"Daily confirmed cases\", \"7-day rolling average\": \"7-day rolling average\"}, {\"Date\": \"2020-04-07\", \"Confirmed cases\": 27, \"Rolling\": 27.714285714285715, \"Daily confirmed cases\": \"Daily confirmed cases\", \"7-day rolling average\": \"7-day rolling average\"}, {\"Date\": \"2020-04-08\", \"Confirmed cases\": 29, \"Rolling\": 28.428571428571427, \"Daily confirmed cases\": \"Daily confirmed cases\", \"7-day rolling average\": \"7-day rolling average\"}, {\"Date\": \"2020-04-09\", \"Confirmed cases\": 21, \"Rolling\": 26.428571428571427, \"Daily confirmed cases\": \"Daily confirmed cases\", \"7-day rolling average\": \"7-day rolling average\"}, {\"Date\": \"2020-04-10\", \"Confirmed cases\": 14, \"Rolling\": 24.571428571428573, \"Daily confirmed cases\": \"Daily confirmed cases\", \"7-day rolling average\": \"7-day rolling average\"}, {\"Date\": \"2020-04-11\", \"Confirmed cases\": 16, \"Rolling\": 20.428571428571427, \"Daily confirmed cases\": \"Daily confirmed cases\", \"7-day rolling average\": \"7-day rolling average\"}, {\"Date\": \"2020-04-12\", \"Confirmed cases\": 10, \"Rolling\": 19.285714285714285, \"Daily confirmed cases\": \"Daily confirmed cases\", \"7-day rolling average\": \"7-day rolling average\"}, {\"Date\": \"2020-04-13\", \"Confirmed cases\": 12, \"Rolling\": 18.428571428571427, \"Daily confirmed cases\": \"Daily confirmed cases\", \"7-day rolling average\": \"7-day rolling average\"}, {\"Date\": \"2020-04-14\", \"Confirmed cases\": 16, \"Rolling\": 16.857142857142858, \"Daily confirmed cases\": \"Daily confirmed cases\", \"7-day rolling average\": \"7-day rolling average\"}, {\"Date\": \"2020-04-15\", \"Confirmed cases\": 14, \"Rolling\": 14.714285714285714, \"Daily confirmed cases\": \"Daily confirmed cases\", \"7-day rolling average\": \"7-day rolling average\"}, {\"Date\": \"2020-04-16\", \"Confirmed cases\": 17, \"Rolling\": 14.142857142857142, \"Daily confirmed cases\": \"Daily confirmed cases\", \"7-day rolling average\": \"7-day rolling average\"}, {\"Date\": \"2020-04-17\", \"Confirmed cases\": 19, \"Rolling\": 14.857142857142858, \"Daily confirmed cases\": \"Daily confirmed cases\", \"7-day rolling average\": \"7-day rolling average\"}, {\"Date\": \"2020-04-18\", \"Confirmed cases\": 28, \"Rolling\": 16.571428571428573, \"Daily confirmed cases\": \"Daily confirmed cases\", \"7-day rolling average\": \"7-day rolling average\"}, {\"Date\": \"2020-04-19\", \"Confirmed cases\": 10, \"Rolling\": 16.571428571428573, \"Daily confirmed cases\": \"Daily confirmed cases\", \"7-day rolling average\": \"7-day rolling average\"}, {\"Date\": \"2020-04-20\", \"Confirmed cases\": 10, \"Rolling\": 16.285714285714285, \"Daily confirmed cases\": \"Daily confirmed cases\", \"7-day rolling average\": \"7-day rolling average\"}, {\"Date\": \"2020-04-21\", \"Confirmed cases\": 10, \"Rolling\": 15.428571428571429, \"Daily confirmed cases\": \"Daily confirmed cases\", \"7-day rolling average\": \"7-day rolling average\"}, {\"Date\": \"2020-04-22\", \"Confirmed cases\": 22, \"Rolling\": 16.571428571428573, \"Daily confirmed cases\": \"Daily confirmed cases\", \"7-day rolling average\": \"7-day rolling average\"}, {\"Date\": \"2020-04-23\", \"Confirmed cases\": 17, \"Rolling\": 16.571428571428573, \"Daily confirmed cases\": \"Daily confirmed cases\", \"7-day rolling average\": \"7-day rolling average\"}, {\"Date\": \"2020-04-24\", \"Confirmed cases\": 8, \"Rolling\": 15.0, \"Daily confirmed cases\": \"Daily confirmed cases\", \"7-day rolling average\": \"7-day rolling average\"}, {\"Date\": \"2020-04-25\", \"Confirmed cases\": 13, \"Rolling\": 12.857142857142858, \"Daily confirmed cases\": \"Daily confirmed cases\", \"7-day rolling average\": \"7-day rolling average\"}, {\"Date\": \"2020-04-26\", \"Confirmed cases\": 7, \"Rolling\": 12.428571428571429, \"Daily confirmed cases\": \"Daily confirmed cases\", \"7-day rolling average\": \"7-day rolling average\"}]}}, {\"mode\": \"vega-lite\"});\n",
       "</script>"
      ],
      "text/plain": [
       "alt.LayerChart(...)"
      ]
     },
     "execution_count": 57,
     "metadata": {},
     "output_type": "execute_result"
    }
   ],
   "source": [
    "#hide_input\n",
    "bars, line = my_cases_plot(region)\n",
    "(bars + line).properties(\n",
    "    title=f'Covid-19 in Chile: Daily confirmed cases in {region}',\n",
    "    width=600\n",
    ")"
   ]
  },
  {
   "cell_type": "markdown",
   "metadata": {},
   "source": [
    "## Araucanía"
   ]
  },
  {
   "cell_type": "code",
   "execution_count": 58,
   "metadata": {
    "scrolled": false
   },
   "outputs": [],
   "source": [
    "#hide\n",
    "region = \"Araucanía\""
   ]
  },
  {
   "cell_type": "code",
   "execution_count": 59,
   "metadata": {},
   "outputs": [
    {
     "data": {
      "text/html": [
       "\n",
       "<div id=\"altair-viz-da30468c26434fa5919ddc58c7d011b2\"></div>\n",
       "<script type=\"text/javascript\">\n",
       "  (function(spec, embedOpt){\n",
       "    let outputDiv = document.currentScript.previousElementSibling;\n",
       "    if (outputDiv.id !== \"altair-viz-da30468c26434fa5919ddc58c7d011b2\") {\n",
       "      outputDiv = document.getElementById(\"altair-viz-da30468c26434fa5919ddc58c7d011b2\");\n",
       "    }\n",
       "    const paths = {\n",
       "      \"vega\": \"https://cdn.jsdelivr.net/npm//vega@5?noext\",\n",
       "      \"vega-lib\": \"https://cdn.jsdelivr.net/npm//vega-lib?noext\",\n",
       "      \"vega-lite\": \"https://cdn.jsdelivr.net/npm//vega-lite@4.8.1?noext\",\n",
       "      \"vega-embed\": \"https://cdn.jsdelivr.net/npm//vega-embed@6?noext\",\n",
       "    };\n",
       "\n",
       "    function loadScript(lib) {\n",
       "      return new Promise(function(resolve, reject) {\n",
       "        var s = document.createElement('script');\n",
       "        s.src = paths[lib];\n",
       "        s.async = true;\n",
       "        s.onload = () => resolve(paths[lib]);\n",
       "        s.onerror = () => reject(`Error loading script: ${paths[lib]}`);\n",
       "        document.getElementsByTagName(\"head\")[0].appendChild(s);\n",
       "      });\n",
       "    }\n",
       "\n",
       "    function showError(err) {\n",
       "      outputDiv.innerHTML = `<div class=\"error\" style=\"color:red;\">${err}</div>`;\n",
       "      throw err;\n",
       "    }\n",
       "\n",
       "    function displayChart(vegaEmbed) {\n",
       "      vegaEmbed(outputDiv, spec, embedOpt)\n",
       "        .catch(err => showError(`Javascript Error: ${err.message}<br>This usually means there's a typo in your chart specification. See the javascript console for the full traceback.`));\n",
       "    }\n",
       "\n",
       "    if(typeof define === \"function\" && define.amd) {\n",
       "      requirejs.config({paths});\n",
       "      require([\"vega-embed\"], displayChart, err => showError(`Error loading script: ${err.message}`));\n",
       "    } else if (typeof vegaEmbed === \"function\") {\n",
       "      displayChart(vegaEmbed);\n",
       "    } else {\n",
       "      loadScript(\"vega\")\n",
       "        .then(() => loadScript(\"vega-lite\"))\n",
       "        .then(() => loadScript(\"vega-embed\"))\n",
       "        .catch(showError)\n",
       "        .then(() => displayChart(vegaEmbed));\n",
       "    }\n",
       "  })({\"config\": {\"view\": {\"continuousWidth\": 400, \"continuousHeight\": 300}}, \"layer\": [{\"mark\": {\"type\": \"bar\", \"opacity\": 0.7}, \"encoding\": {\"opacity\": {\"type\": \"nominal\", \"field\": \"Daily confirmed cases\", \"legend\": {\"title\": \"\"}}, \"tooltip\": [{\"type\": \"nominal\", \"field\": \"Date\"}, {\"type\": \"quantitative\", \"field\": \"Confirmed cases\"}], \"x\": {\"type\": \"nominal\", \"axis\": {\"title\": \"Date\"}, \"field\": \"Date\"}, \"y\": {\"type\": \"quantitative\", \"axis\": {\"title\": \"Daily confirmed cases\"}, \"field\": \"Confirmed cases\"}}}, {\"mark\": {\"type\": \"line\", \"color\": \"#1f77b4\", \"point\": {\"filled\": true, \"fill\": \"#1f77b4\"}}, \"encoding\": {\"shape\": {\"type\": \"nominal\", \"field\": \"7-day rolling average\", \"legend\": {\"title\": \"\"}}, \"x\": {\"type\": \"nominal\", \"axis\": {\"title\": \"Date\"}, \"field\": \"Date\"}, \"y\": {\"type\": \"quantitative\", \"field\": \"Rolling\"}}}], \"data\": {\"name\": \"data-545eaf58b8a61dd322256c0f8f487c7f\"}, \"title\": \"Covid-19 in Chile: Daily confirmed cases in Araucan\\u00eda\", \"width\": 600, \"$schema\": \"https://vega.github.io/schema/vega-lite/v4.8.1.json\", \"datasets\": {\"data-545eaf58b8a61dd322256c0f8f487c7f\": [{\"Date\": \"2020-03-04\", \"Confirmed cases\": 0, \"Rolling\": null, \"Daily confirmed cases\": \"Daily confirmed cases\", \"7-day rolling average\": \"7-day rolling average\"}, {\"Date\": \"2020-03-05\", \"Confirmed cases\": 0, \"Rolling\": null, \"Daily confirmed cases\": \"Daily confirmed cases\", \"7-day rolling average\": \"7-day rolling average\"}, {\"Date\": \"2020-03-06\", \"Confirmed cases\": 0, \"Rolling\": null, \"Daily confirmed cases\": \"Daily confirmed cases\", \"7-day rolling average\": \"7-day rolling average\"}, {\"Date\": \"2020-03-07\", \"Confirmed cases\": 0, \"Rolling\": null, \"Daily confirmed cases\": \"Daily confirmed cases\", \"7-day rolling average\": \"7-day rolling average\"}, {\"Date\": \"2020-03-08\", \"Confirmed cases\": 0, \"Rolling\": null, \"Daily confirmed cases\": \"Daily confirmed cases\", \"7-day rolling average\": \"7-day rolling average\"}, {\"Date\": \"2020-03-09\", \"Confirmed cases\": 0, \"Rolling\": null, \"Daily confirmed cases\": \"Daily confirmed cases\", \"7-day rolling average\": \"7-day rolling average\"}, {\"Date\": \"2020-03-10\", \"Confirmed cases\": 0, \"Rolling\": 0.0, \"Daily confirmed cases\": \"Daily confirmed cases\", \"7-day rolling average\": \"7-day rolling average\"}, {\"Date\": \"2020-03-11\", \"Confirmed cases\": 0, \"Rolling\": 0.0, \"Daily confirmed cases\": \"Daily confirmed cases\", \"7-day rolling average\": \"7-day rolling average\"}, {\"Date\": \"2020-03-12\", \"Confirmed cases\": 0, \"Rolling\": 0.0, \"Daily confirmed cases\": \"Daily confirmed cases\", \"7-day rolling average\": \"7-day rolling average\"}, {\"Date\": \"2020-03-13\", \"Confirmed cases\": 0, \"Rolling\": 0.0, \"Daily confirmed cases\": \"Daily confirmed cases\", \"7-day rolling average\": \"7-day rolling average\"}, {\"Date\": \"2020-03-14\", \"Confirmed cases\": 0, \"Rolling\": 0.0, \"Daily confirmed cases\": \"Daily confirmed cases\", \"7-day rolling average\": \"7-day rolling average\"}, {\"Date\": \"2020-03-15\", \"Confirmed cases\": 0, \"Rolling\": 0.0, \"Daily confirmed cases\": \"Daily confirmed cases\", \"7-day rolling average\": \"7-day rolling average\"}, {\"Date\": \"2020-03-16\", \"Confirmed cases\": 1, \"Rolling\": 0.14285714285714285, \"Daily confirmed cases\": \"Daily confirmed cases\", \"7-day rolling average\": \"7-day rolling average\"}, {\"Date\": \"2020-03-17\", \"Confirmed cases\": 0, \"Rolling\": 0.14285714285714285, \"Daily confirmed cases\": \"Daily confirmed cases\", \"7-day rolling average\": \"7-day rolling average\"}, {\"Date\": \"2020-03-18\", \"Confirmed cases\": 3, \"Rolling\": 0.5714285714285714, \"Daily confirmed cases\": \"Daily confirmed cases\", \"7-day rolling average\": \"7-day rolling average\"}, {\"Date\": \"2020-03-19\", \"Confirmed cases\": 3, \"Rolling\": 1.0, \"Daily confirmed cases\": \"Daily confirmed cases\", \"7-day rolling average\": \"7-day rolling average\"}, {\"Date\": \"2020-03-20\", \"Confirmed cases\": 2, \"Rolling\": 1.2857142857142858, \"Daily confirmed cases\": \"Daily confirmed cases\", \"7-day rolling average\": \"7-day rolling average\"}, {\"Date\": \"2020-03-21\", \"Confirmed cases\": 6, \"Rolling\": 2.142857142857143, \"Daily confirmed cases\": \"Daily confirmed cases\", \"7-day rolling average\": \"7-day rolling average\"}, {\"Date\": \"2020-03-22\", \"Confirmed cases\": 12, \"Rolling\": 3.857142857142857, \"Daily confirmed cases\": \"Daily confirmed cases\", \"7-day rolling average\": \"7-day rolling average\"}, {\"Date\": \"2020-03-23\", \"Confirmed cases\": 13, \"Rolling\": 5.571428571428571, \"Daily confirmed cases\": \"Daily confirmed cases\", \"7-day rolling average\": \"7-day rolling average\"}, {\"Date\": \"2020-03-24\", \"Confirmed cases\": 19, \"Rolling\": 8.285714285714286, \"Daily confirmed cases\": \"Daily confirmed cases\", \"7-day rolling average\": \"7-day rolling average\"}, {\"Date\": \"2020-03-25\", \"Confirmed cases\": 15, \"Rolling\": 10.0, \"Daily confirmed cases\": \"Daily confirmed cases\", \"7-day rolling average\": \"7-day rolling average\"}, {\"Date\": \"2020-03-26\", \"Confirmed cases\": 37, \"Rolling\": 14.857142857142858, \"Daily confirmed cases\": \"Daily confirmed cases\", \"7-day rolling average\": \"7-day rolling average\"}, {\"Date\": \"2020-03-27\", \"Confirmed cases\": 32, \"Rolling\": 19.142857142857142, \"Daily confirmed cases\": \"Daily confirmed cases\", \"7-day rolling average\": \"7-day rolling average\"}, {\"Date\": \"2020-03-28\", \"Confirmed cases\": 34, \"Rolling\": 23.142857142857142, \"Daily confirmed cases\": \"Daily confirmed cases\", \"7-day rolling average\": \"7-day rolling average\"}, {\"Date\": \"2020-03-29\", \"Confirmed cases\": 28, \"Rolling\": 25.428571428571427, \"Daily confirmed cases\": \"Daily confirmed cases\", \"7-day rolling average\": \"7-day rolling average\"}, {\"Date\": \"2020-03-30\", \"Confirmed cases\": 42, \"Rolling\": 29.571428571428573, \"Daily confirmed cases\": \"Daily confirmed cases\", \"7-day rolling average\": \"7-day rolling average\"}, {\"Date\": \"2020-03-31\", \"Confirmed cases\": 55, \"Rolling\": 34.714285714285715, \"Daily confirmed cases\": \"Daily confirmed cases\", \"7-day rolling average\": \"7-day rolling average\"}, {\"Date\": \"2020-04-01\", \"Confirmed cases\": 41, \"Rolling\": 38.42857142857143, \"Daily confirmed cases\": \"Daily confirmed cases\", \"7-day rolling average\": \"7-day rolling average\"}, {\"Date\": \"2020-04-02\", \"Confirmed cases\": 46, \"Rolling\": 39.714285714285715, \"Daily confirmed cases\": \"Daily confirmed cases\", \"7-day rolling average\": \"7-day rolling average\"}, {\"Date\": \"2020-04-03\", \"Confirmed cases\": 43, \"Rolling\": 41.285714285714285, \"Daily confirmed cases\": \"Daily confirmed cases\", \"7-day rolling average\": \"7-day rolling average\"}, {\"Date\": \"2020-04-04\", \"Confirmed cases\": 45, \"Rolling\": 42.857142857142854, \"Daily confirmed cases\": \"Daily confirmed cases\", \"7-day rolling average\": \"7-day rolling average\"}, {\"Date\": \"2020-04-05\", \"Confirmed cases\": 32, \"Rolling\": 43.42857142857143, \"Daily confirmed cases\": \"Daily confirmed cases\", \"7-day rolling average\": \"7-day rolling average\"}, {\"Date\": \"2020-04-06\", \"Confirmed cases\": 53, \"Rolling\": 45.0, \"Daily confirmed cases\": \"Daily confirmed cases\", \"7-day rolling average\": \"7-day rolling average\"}, {\"Date\": \"2020-04-07\", \"Confirmed cases\": 50, \"Rolling\": 44.285714285714285, \"Daily confirmed cases\": \"Daily confirmed cases\", \"7-day rolling average\": \"7-day rolling average\"}, {\"Date\": \"2020-04-08\", \"Confirmed cases\": 57, \"Rolling\": 46.57142857142857, \"Daily confirmed cases\": \"Daily confirmed cases\", \"7-day rolling average\": \"7-day rolling average\"}, {\"Date\": \"2020-04-09\", \"Confirmed cases\": 20, \"Rolling\": 42.857142857142854, \"Daily confirmed cases\": \"Daily confirmed cases\", \"7-day rolling average\": \"7-day rolling average\"}, {\"Date\": \"2020-04-10\", \"Confirmed cases\": 23, \"Rolling\": 40.0, \"Daily confirmed cases\": \"Daily confirmed cases\", \"7-day rolling average\": \"7-day rolling average\"}, {\"Date\": \"2020-04-11\", \"Confirmed cases\": 27, \"Rolling\": 37.42857142857143, \"Daily confirmed cases\": \"Daily confirmed cases\", \"7-day rolling average\": \"7-day rolling average\"}, {\"Date\": \"2020-04-12\", \"Confirmed cases\": 36, \"Rolling\": 38.0, \"Daily confirmed cases\": \"Daily confirmed cases\", \"7-day rolling average\": \"7-day rolling average\"}, {\"Date\": \"2020-04-13\", \"Confirmed cases\": 20, \"Rolling\": 33.285714285714285, \"Daily confirmed cases\": \"Daily confirmed cases\", \"7-day rolling average\": \"7-day rolling average\"}, {\"Date\": \"2020-04-14\", \"Confirmed cases\": 21, \"Rolling\": 29.142857142857142, \"Daily confirmed cases\": \"Daily confirmed cases\", \"7-day rolling average\": \"7-day rolling average\"}, {\"Date\": \"2020-04-15\", \"Confirmed cases\": 10, \"Rolling\": 22.428571428571427, \"Daily confirmed cases\": \"Daily confirmed cases\", \"7-day rolling average\": \"7-day rolling average\"}, {\"Date\": \"2020-04-16\", \"Confirmed cases\": 56, \"Rolling\": 27.571428571428573, \"Daily confirmed cases\": \"Daily confirmed cases\", \"7-day rolling average\": \"7-day rolling average\"}, {\"Date\": \"2020-04-17\", \"Confirmed cases\": 25, \"Rolling\": 27.857142857142858, \"Daily confirmed cases\": \"Daily confirmed cases\", \"7-day rolling average\": \"7-day rolling average\"}, {\"Date\": \"2020-04-18\", \"Confirmed cases\": 37, \"Rolling\": 29.285714285714285, \"Daily confirmed cases\": \"Daily confirmed cases\", \"7-day rolling average\": \"7-day rolling average\"}, {\"Date\": \"2020-04-19\", \"Confirmed cases\": 28, \"Rolling\": 28.142857142857142, \"Daily confirmed cases\": \"Daily confirmed cases\", \"7-day rolling average\": \"7-day rolling average\"}, {\"Date\": \"2020-04-20\", \"Confirmed cases\": 73, \"Rolling\": 35.714285714285715, \"Daily confirmed cases\": \"Daily confirmed cases\", \"7-day rolling average\": \"7-day rolling average\"}, {\"Date\": \"2020-04-21\", \"Confirmed cases\": 47, \"Rolling\": 39.42857142857143, \"Daily confirmed cases\": \"Daily confirmed cases\", \"7-day rolling average\": \"7-day rolling average\"}, {\"Date\": \"2020-04-22\", \"Confirmed cases\": 21, \"Rolling\": 41.0, \"Daily confirmed cases\": \"Daily confirmed cases\", \"7-day rolling average\": \"7-day rolling average\"}, {\"Date\": \"2020-04-23\", \"Confirmed cases\": 29, \"Rolling\": 37.142857142857146, \"Daily confirmed cases\": \"Daily confirmed cases\", \"7-day rolling average\": \"7-day rolling average\"}, {\"Date\": \"2020-04-24\", \"Confirmed cases\": 42, \"Rolling\": 39.57142857142857, \"Daily confirmed cases\": \"Daily confirmed cases\", \"7-day rolling average\": \"7-day rolling average\"}, {\"Date\": \"2020-04-25\", \"Confirmed cases\": 19, \"Rolling\": 37.0, \"Daily confirmed cases\": \"Daily confirmed cases\", \"7-day rolling average\": \"7-day rolling average\"}, {\"Date\": \"2020-04-26\", \"Confirmed cases\": 13, \"Rolling\": 34.857142857142854, \"Daily confirmed cases\": \"Daily confirmed cases\", \"7-day rolling average\": \"7-day rolling average\"}]}}, {\"mode\": \"vega-lite\"});\n",
       "</script>"
      ],
      "text/plain": [
       "alt.LayerChart(...)"
      ]
     },
     "execution_count": 59,
     "metadata": {},
     "output_type": "execute_result"
    }
   ],
   "source": [
    "#hide_input\n",
    "bars, line = my_cases_plot(region)\n",
    "(bars + line).properties(\n",
    "    title=f'Covid-19 in Chile: Daily confirmed cases in {region}',\n",
    "    width=600\n",
    ")"
   ]
  },
  {
   "cell_type": "markdown",
   "metadata": {},
   "source": [
    "## Los Ríos"
   ]
  },
  {
   "cell_type": "code",
   "execution_count": 60,
   "metadata": {
    "scrolled": true
   },
   "outputs": [],
   "source": [
    "#hide\n",
    "region = \"Los Ríos\""
   ]
  },
  {
   "cell_type": "code",
   "execution_count": 61,
   "metadata": {},
   "outputs": [
    {
     "data": {
      "text/html": [
       "\n",
       "<div id=\"altair-viz-a676a841b6204b3497d27d2a794e439e\"></div>\n",
       "<script type=\"text/javascript\">\n",
       "  (function(spec, embedOpt){\n",
       "    let outputDiv = document.currentScript.previousElementSibling;\n",
       "    if (outputDiv.id !== \"altair-viz-a676a841b6204b3497d27d2a794e439e\") {\n",
       "      outputDiv = document.getElementById(\"altair-viz-a676a841b6204b3497d27d2a794e439e\");\n",
       "    }\n",
       "    const paths = {\n",
       "      \"vega\": \"https://cdn.jsdelivr.net/npm//vega@5?noext\",\n",
       "      \"vega-lib\": \"https://cdn.jsdelivr.net/npm//vega-lib?noext\",\n",
       "      \"vega-lite\": \"https://cdn.jsdelivr.net/npm//vega-lite@4.8.1?noext\",\n",
       "      \"vega-embed\": \"https://cdn.jsdelivr.net/npm//vega-embed@6?noext\",\n",
       "    };\n",
       "\n",
       "    function loadScript(lib) {\n",
       "      return new Promise(function(resolve, reject) {\n",
       "        var s = document.createElement('script');\n",
       "        s.src = paths[lib];\n",
       "        s.async = true;\n",
       "        s.onload = () => resolve(paths[lib]);\n",
       "        s.onerror = () => reject(`Error loading script: ${paths[lib]}`);\n",
       "        document.getElementsByTagName(\"head\")[0].appendChild(s);\n",
       "      });\n",
       "    }\n",
       "\n",
       "    function showError(err) {\n",
       "      outputDiv.innerHTML = `<div class=\"error\" style=\"color:red;\">${err}</div>`;\n",
       "      throw err;\n",
       "    }\n",
       "\n",
       "    function displayChart(vegaEmbed) {\n",
       "      vegaEmbed(outputDiv, spec, embedOpt)\n",
       "        .catch(err => showError(`Javascript Error: ${err.message}<br>This usually means there's a typo in your chart specification. See the javascript console for the full traceback.`));\n",
       "    }\n",
       "\n",
       "    if(typeof define === \"function\" && define.amd) {\n",
       "      requirejs.config({paths});\n",
       "      require([\"vega-embed\"], displayChart, err => showError(`Error loading script: ${err.message}`));\n",
       "    } else if (typeof vegaEmbed === \"function\") {\n",
       "      displayChart(vegaEmbed);\n",
       "    } else {\n",
       "      loadScript(\"vega\")\n",
       "        .then(() => loadScript(\"vega-lite\"))\n",
       "        .then(() => loadScript(\"vega-embed\"))\n",
       "        .catch(showError)\n",
       "        .then(() => displayChart(vegaEmbed));\n",
       "    }\n",
       "  })({\"config\": {\"view\": {\"continuousWidth\": 400, \"continuousHeight\": 300}}, \"layer\": [{\"mark\": {\"type\": \"bar\", \"opacity\": 0.7}, \"encoding\": {\"opacity\": {\"type\": \"nominal\", \"field\": \"Daily confirmed cases\", \"legend\": {\"title\": \"\"}}, \"tooltip\": [{\"type\": \"nominal\", \"field\": \"Date\"}, {\"type\": \"quantitative\", \"field\": \"Confirmed cases\"}], \"x\": {\"type\": \"nominal\", \"axis\": {\"title\": \"Date\"}, \"field\": \"Date\"}, \"y\": {\"type\": \"quantitative\", \"axis\": {\"title\": \"Daily confirmed cases\"}, \"field\": \"Confirmed cases\"}}}, {\"mark\": {\"type\": \"line\", \"color\": \"#1f77b4\", \"point\": {\"filled\": true, \"fill\": \"#1f77b4\"}}, \"encoding\": {\"shape\": {\"type\": \"nominal\", \"field\": \"7-day rolling average\", \"legend\": {\"title\": \"\"}}, \"x\": {\"type\": \"nominal\", \"axis\": {\"title\": \"Date\"}, \"field\": \"Date\"}, \"y\": {\"type\": \"quantitative\", \"field\": \"Rolling\"}}}], \"data\": {\"name\": \"data-b4b7466309a9a5fa004d8e9410a3f63e\"}, \"title\": \"Covid-19 in Chile: Daily confirmed cases in Los R\\u00edos\", \"width\": 600, \"$schema\": \"https://vega.github.io/schema/vega-lite/v4.8.1.json\", \"datasets\": {\"data-b4b7466309a9a5fa004d8e9410a3f63e\": [{\"Date\": \"2020-03-04\", \"Confirmed cases\": 0, \"Rolling\": null, \"Daily confirmed cases\": \"Daily confirmed cases\", \"7-day rolling average\": \"7-day rolling average\"}, {\"Date\": \"2020-03-05\", \"Confirmed cases\": 0, \"Rolling\": null, \"Daily confirmed cases\": \"Daily confirmed cases\", \"7-day rolling average\": \"7-day rolling average\"}, {\"Date\": \"2020-03-06\", \"Confirmed cases\": 0, \"Rolling\": null, \"Daily confirmed cases\": \"Daily confirmed cases\", \"7-day rolling average\": \"7-day rolling average\"}, {\"Date\": \"2020-03-07\", \"Confirmed cases\": 0, \"Rolling\": null, \"Daily confirmed cases\": \"Daily confirmed cases\", \"7-day rolling average\": \"7-day rolling average\"}, {\"Date\": \"2020-03-08\", \"Confirmed cases\": 0, \"Rolling\": null, \"Daily confirmed cases\": \"Daily confirmed cases\", \"7-day rolling average\": \"7-day rolling average\"}, {\"Date\": \"2020-03-09\", \"Confirmed cases\": 0, \"Rolling\": null, \"Daily confirmed cases\": \"Daily confirmed cases\", \"7-day rolling average\": \"7-day rolling average\"}, {\"Date\": \"2020-03-10\", \"Confirmed cases\": 0, \"Rolling\": 0.0, \"Daily confirmed cases\": \"Daily confirmed cases\", \"7-day rolling average\": \"7-day rolling average\"}, {\"Date\": \"2020-03-11\", \"Confirmed cases\": 0, \"Rolling\": 0.0, \"Daily confirmed cases\": \"Daily confirmed cases\", \"7-day rolling average\": \"7-day rolling average\"}, {\"Date\": \"2020-03-12\", \"Confirmed cases\": 0, \"Rolling\": 0.0, \"Daily confirmed cases\": \"Daily confirmed cases\", \"7-day rolling average\": \"7-day rolling average\"}, {\"Date\": \"2020-03-13\", \"Confirmed cases\": 0, \"Rolling\": 0.0, \"Daily confirmed cases\": \"Daily confirmed cases\", \"7-day rolling average\": \"7-day rolling average\"}, {\"Date\": \"2020-03-14\", \"Confirmed cases\": 0, \"Rolling\": 0.0, \"Daily confirmed cases\": \"Daily confirmed cases\", \"7-day rolling average\": \"7-day rolling average\"}, {\"Date\": \"2020-03-15\", \"Confirmed cases\": 0, \"Rolling\": 0.0, \"Daily confirmed cases\": \"Daily confirmed cases\", \"7-day rolling average\": \"7-day rolling average\"}, {\"Date\": \"2020-03-16\", \"Confirmed cases\": 1, \"Rolling\": 0.14285714285714285, \"Daily confirmed cases\": \"Daily confirmed cases\", \"7-day rolling average\": \"7-day rolling average\"}, {\"Date\": \"2020-03-17\", \"Confirmed cases\": 0, \"Rolling\": 0.14285714285714285, \"Daily confirmed cases\": \"Daily confirmed cases\", \"7-day rolling average\": \"7-day rolling average\"}, {\"Date\": \"2020-03-18\", \"Confirmed cases\": 0, \"Rolling\": 0.14285714285714285, \"Daily confirmed cases\": \"Daily confirmed cases\", \"7-day rolling average\": \"7-day rolling average\"}, {\"Date\": \"2020-03-19\", \"Confirmed cases\": 0, \"Rolling\": 0.14285714285714285, \"Daily confirmed cases\": \"Daily confirmed cases\", \"7-day rolling average\": \"7-day rolling average\"}, {\"Date\": \"2020-03-20\", \"Confirmed cases\": 0, \"Rolling\": 0.14285714285714285, \"Daily confirmed cases\": \"Daily confirmed cases\", \"7-day rolling average\": \"7-day rolling average\"}, {\"Date\": \"2020-03-21\", \"Confirmed cases\": 0, \"Rolling\": 0.14285714285714285, \"Daily confirmed cases\": \"Daily confirmed cases\", \"7-day rolling average\": \"7-day rolling average\"}, {\"Date\": \"2020-03-22\", \"Confirmed cases\": 0, \"Rolling\": 0.14285714285714285, \"Daily confirmed cases\": \"Daily confirmed cases\", \"7-day rolling average\": \"7-day rolling average\"}, {\"Date\": \"2020-03-23\", \"Confirmed cases\": 3, \"Rolling\": 0.42857142857142855, \"Daily confirmed cases\": \"Daily confirmed cases\", \"7-day rolling average\": \"7-day rolling average\"}, {\"Date\": \"2020-03-24\", \"Confirmed cases\": 2, \"Rolling\": 0.7142857142857143, \"Daily confirmed cases\": \"Daily confirmed cases\", \"7-day rolling average\": \"7-day rolling average\"}, {\"Date\": \"2020-03-25\", \"Confirmed cases\": 5, \"Rolling\": 1.4285714285714286, \"Daily confirmed cases\": \"Daily confirmed cases\", \"7-day rolling average\": \"7-day rolling average\"}, {\"Date\": \"2020-03-26\", \"Confirmed cases\": 3, \"Rolling\": 1.8571428571428572, \"Daily confirmed cases\": \"Daily confirmed cases\", \"7-day rolling average\": \"7-day rolling average\"}, {\"Date\": \"2020-03-27\", \"Confirmed cases\": 8, \"Rolling\": 3.0, \"Daily confirmed cases\": \"Daily confirmed cases\", \"7-day rolling average\": \"7-day rolling average\"}, {\"Date\": \"2020-03-28\", \"Confirmed cases\": 5, \"Rolling\": 3.7142857142857144, \"Daily confirmed cases\": \"Daily confirmed cases\", \"7-day rolling average\": \"7-day rolling average\"}, {\"Date\": \"2020-03-29\", \"Confirmed cases\": 13, \"Rolling\": 5.571428571428571, \"Daily confirmed cases\": \"Daily confirmed cases\", \"7-day rolling average\": \"7-day rolling average\"}, {\"Date\": \"2020-03-30\", \"Confirmed cases\": 7, \"Rolling\": 6.142857142857143, \"Daily confirmed cases\": \"Daily confirmed cases\", \"7-day rolling average\": \"7-day rolling average\"}, {\"Date\": \"2020-03-31\", \"Confirmed cases\": 11, \"Rolling\": 7.428571428571429, \"Daily confirmed cases\": \"Daily confirmed cases\", \"7-day rolling average\": \"7-day rolling average\"}, {\"Date\": \"2020-04-01\", \"Confirmed cases\": 6, \"Rolling\": 7.571428571428571, \"Daily confirmed cases\": \"Daily confirmed cases\", \"7-day rolling average\": \"7-day rolling average\"}, {\"Date\": \"2020-04-02\", \"Confirmed cases\": 4, \"Rolling\": 7.714285714285714, \"Daily confirmed cases\": \"Daily confirmed cases\", \"7-day rolling average\": \"7-day rolling average\"}, {\"Date\": \"2020-04-03\", \"Confirmed cases\": 10, \"Rolling\": 8.0, \"Daily confirmed cases\": \"Daily confirmed cases\", \"7-day rolling average\": \"7-day rolling average\"}, {\"Date\": \"2020-04-04\", \"Confirmed cases\": 11, \"Rolling\": 8.857142857142858, \"Daily confirmed cases\": \"Daily confirmed cases\", \"7-day rolling average\": \"7-day rolling average\"}, {\"Date\": \"2020-04-05\", \"Confirmed cases\": 10, \"Rolling\": 8.428571428571429, \"Daily confirmed cases\": \"Daily confirmed cases\", \"7-day rolling average\": \"7-day rolling average\"}, {\"Date\": \"2020-04-06\", \"Confirmed cases\": 5, \"Rolling\": 8.142857142857142, \"Daily confirmed cases\": \"Daily confirmed cases\", \"7-day rolling average\": \"7-day rolling average\"}, {\"Date\": \"2020-04-07\", \"Confirmed cases\": 5, \"Rolling\": 7.285714285714286, \"Daily confirmed cases\": \"Daily confirmed cases\", \"7-day rolling average\": \"7-day rolling average\"}, {\"Date\": \"2020-04-08\", \"Confirmed cases\": 5, \"Rolling\": 7.142857142857143, \"Daily confirmed cases\": \"Daily confirmed cases\", \"7-day rolling average\": \"7-day rolling average\"}, {\"Date\": \"2020-04-09\", \"Confirmed cases\": 4, \"Rolling\": 7.142857142857143, \"Daily confirmed cases\": \"Daily confirmed cases\", \"7-day rolling average\": \"7-day rolling average\"}, {\"Date\": \"2020-04-10\", \"Confirmed cases\": 6, \"Rolling\": 6.571428571428571, \"Daily confirmed cases\": \"Daily confirmed cases\", \"7-day rolling average\": \"7-day rolling average\"}, {\"Date\": \"2020-04-11\", \"Confirmed cases\": 6, \"Rolling\": 5.857142857142857, \"Daily confirmed cases\": \"Daily confirmed cases\", \"7-day rolling average\": \"7-day rolling average\"}, {\"Date\": \"2020-04-12\", \"Confirmed cases\": 5, \"Rolling\": 5.142857142857143, \"Daily confirmed cases\": \"Daily confirmed cases\", \"7-day rolling average\": \"7-day rolling average\"}, {\"Date\": \"2020-04-13\", \"Confirmed cases\": 3, \"Rolling\": 4.857142857142857, \"Daily confirmed cases\": \"Daily confirmed cases\", \"7-day rolling average\": \"7-day rolling average\"}, {\"Date\": \"2020-04-14\", \"Confirmed cases\": 10, \"Rolling\": 5.571428571428571, \"Daily confirmed cases\": \"Daily confirmed cases\", \"7-day rolling average\": \"7-day rolling average\"}, {\"Date\": \"2020-04-15\", \"Confirmed cases\": 2, \"Rolling\": 5.142857142857143, \"Daily confirmed cases\": \"Daily confirmed cases\", \"7-day rolling average\": \"7-day rolling average\"}, {\"Date\": \"2020-04-16\", \"Confirmed cases\": 3, \"Rolling\": 5.0, \"Daily confirmed cases\": \"Daily confirmed cases\", \"7-day rolling average\": \"7-day rolling average\"}, {\"Date\": \"2020-04-17\", \"Confirmed cases\": 1, \"Rolling\": 4.285714285714286, \"Daily confirmed cases\": \"Daily confirmed cases\", \"7-day rolling average\": \"7-day rolling average\"}, {\"Date\": \"2020-04-18\", \"Confirmed cases\": 2, \"Rolling\": 3.7142857142857144, \"Daily confirmed cases\": \"Daily confirmed cases\", \"7-day rolling average\": \"7-day rolling average\"}, {\"Date\": \"2020-04-19\", \"Confirmed cases\": 1, \"Rolling\": 3.142857142857143, \"Daily confirmed cases\": \"Daily confirmed cases\", \"7-day rolling average\": \"7-day rolling average\"}, {\"Date\": \"2020-04-20\", \"Confirmed cases\": 5, \"Rolling\": 3.4285714285714284, \"Daily confirmed cases\": \"Daily confirmed cases\", \"7-day rolling average\": \"7-day rolling average\"}, {\"Date\": \"2020-04-21\", \"Confirmed cases\": 5, \"Rolling\": 2.7142857142857144, \"Daily confirmed cases\": \"Daily confirmed cases\", \"7-day rolling average\": \"7-day rolling average\"}, {\"Date\": \"2020-04-22\", \"Confirmed cases\": 4, \"Rolling\": 3.0, \"Daily confirmed cases\": \"Daily confirmed cases\", \"7-day rolling average\": \"7-day rolling average\"}, {\"Date\": \"2020-04-23\", \"Confirmed cases\": 2, \"Rolling\": 2.857142857142857, \"Daily confirmed cases\": \"Daily confirmed cases\", \"7-day rolling average\": \"7-day rolling average\"}, {\"Date\": \"2020-04-24\", \"Confirmed cases\": 1, \"Rolling\": 2.857142857142857, \"Daily confirmed cases\": \"Daily confirmed cases\", \"7-day rolling average\": \"7-day rolling average\"}, {\"Date\": \"2020-04-25\", \"Confirmed cases\": 3, \"Rolling\": 3.0, \"Daily confirmed cases\": \"Daily confirmed cases\", \"7-day rolling average\": \"7-day rolling average\"}, {\"Date\": \"2020-04-26\", \"Confirmed cases\": 1, \"Rolling\": 3.0, \"Daily confirmed cases\": \"Daily confirmed cases\", \"7-day rolling average\": \"7-day rolling average\"}]}}, {\"mode\": \"vega-lite\"});\n",
       "</script>"
      ],
      "text/plain": [
       "alt.LayerChart(...)"
      ]
     },
     "execution_count": 61,
     "metadata": {},
     "output_type": "execute_result"
    }
   ],
   "source": [
    "#hide_input\n",
    "bars, line = my_cases_plot(region)\n",
    "(bars + line).properties(\n",
    "    title=f'Covid-19 in Chile: Daily confirmed cases in {region}',\n",
    "    width=600\n",
    ")"
   ]
  },
  {
   "cell_type": "markdown",
   "metadata": {},
   "source": [
    "## Los Lagos"
   ]
  },
  {
   "cell_type": "code",
   "execution_count": 62,
   "metadata": {
    "scrolled": false
   },
   "outputs": [],
   "source": [
    "#hide\n",
    "region = \"Los Lagos\""
   ]
  },
  {
   "cell_type": "code",
   "execution_count": 63,
   "metadata": {},
   "outputs": [
    {
     "data": {
      "text/html": [
       "\n",
       "<div id=\"altair-viz-686d833b491c4aa686961770962f8ef4\"></div>\n",
       "<script type=\"text/javascript\">\n",
       "  (function(spec, embedOpt){\n",
       "    let outputDiv = document.currentScript.previousElementSibling;\n",
       "    if (outputDiv.id !== \"altair-viz-686d833b491c4aa686961770962f8ef4\") {\n",
       "      outputDiv = document.getElementById(\"altair-viz-686d833b491c4aa686961770962f8ef4\");\n",
       "    }\n",
       "    const paths = {\n",
       "      \"vega\": \"https://cdn.jsdelivr.net/npm//vega@5?noext\",\n",
       "      \"vega-lib\": \"https://cdn.jsdelivr.net/npm//vega-lib?noext\",\n",
       "      \"vega-lite\": \"https://cdn.jsdelivr.net/npm//vega-lite@4.8.1?noext\",\n",
       "      \"vega-embed\": \"https://cdn.jsdelivr.net/npm//vega-embed@6?noext\",\n",
       "    };\n",
       "\n",
       "    function loadScript(lib) {\n",
       "      return new Promise(function(resolve, reject) {\n",
       "        var s = document.createElement('script');\n",
       "        s.src = paths[lib];\n",
       "        s.async = true;\n",
       "        s.onload = () => resolve(paths[lib]);\n",
       "        s.onerror = () => reject(`Error loading script: ${paths[lib]}`);\n",
       "        document.getElementsByTagName(\"head\")[0].appendChild(s);\n",
       "      });\n",
       "    }\n",
       "\n",
       "    function showError(err) {\n",
       "      outputDiv.innerHTML = `<div class=\"error\" style=\"color:red;\">${err}</div>`;\n",
       "      throw err;\n",
       "    }\n",
       "\n",
       "    function displayChart(vegaEmbed) {\n",
       "      vegaEmbed(outputDiv, spec, embedOpt)\n",
       "        .catch(err => showError(`Javascript Error: ${err.message}<br>This usually means there's a typo in your chart specification. See the javascript console for the full traceback.`));\n",
       "    }\n",
       "\n",
       "    if(typeof define === \"function\" && define.amd) {\n",
       "      requirejs.config({paths});\n",
       "      require([\"vega-embed\"], displayChart, err => showError(`Error loading script: ${err.message}`));\n",
       "    } else if (typeof vegaEmbed === \"function\") {\n",
       "      displayChart(vegaEmbed);\n",
       "    } else {\n",
       "      loadScript(\"vega\")\n",
       "        .then(() => loadScript(\"vega-lite\"))\n",
       "        .then(() => loadScript(\"vega-embed\"))\n",
       "        .catch(showError)\n",
       "        .then(() => displayChart(vegaEmbed));\n",
       "    }\n",
       "  })({\"config\": {\"view\": {\"continuousWidth\": 400, \"continuousHeight\": 300}}, \"layer\": [{\"mark\": {\"type\": \"bar\", \"opacity\": 0.7}, \"encoding\": {\"opacity\": {\"type\": \"nominal\", \"field\": \"Daily confirmed cases\", \"legend\": {\"title\": \"\"}}, \"tooltip\": [{\"type\": \"nominal\", \"field\": \"Date\"}, {\"type\": \"quantitative\", \"field\": \"Confirmed cases\"}], \"x\": {\"type\": \"nominal\", \"axis\": {\"title\": \"Date\"}, \"field\": \"Date\"}, \"y\": {\"type\": \"quantitative\", \"axis\": {\"title\": \"Daily confirmed cases\"}, \"field\": \"Confirmed cases\"}}}, {\"mark\": {\"type\": \"line\", \"color\": \"#1f77b4\", \"point\": {\"filled\": true, \"fill\": \"#1f77b4\"}}, \"encoding\": {\"shape\": {\"type\": \"nominal\", \"field\": \"7-day rolling average\", \"legend\": {\"title\": \"\"}}, \"x\": {\"type\": \"nominal\", \"axis\": {\"title\": \"Date\"}, \"field\": \"Date\"}, \"y\": {\"type\": \"quantitative\", \"field\": \"Rolling\"}}}], \"data\": {\"name\": \"data-135b640b92353ddc483c1f68b1b07ea5\"}, \"title\": \"Covid-19 in Chile: Daily confirmed cases in Los Lagos\", \"width\": 600, \"$schema\": \"https://vega.github.io/schema/vega-lite/v4.8.1.json\", \"datasets\": {\"data-135b640b92353ddc483c1f68b1b07ea5\": [{\"Date\": \"2020-03-04\", \"Confirmed cases\": 0, \"Rolling\": null, \"Daily confirmed cases\": \"Daily confirmed cases\", \"7-day rolling average\": \"7-day rolling average\"}, {\"Date\": \"2020-03-05\", \"Confirmed cases\": 0, \"Rolling\": null, \"Daily confirmed cases\": \"Daily confirmed cases\", \"7-day rolling average\": \"7-day rolling average\"}, {\"Date\": \"2020-03-06\", \"Confirmed cases\": 0, \"Rolling\": null, \"Daily confirmed cases\": \"Daily confirmed cases\", \"7-day rolling average\": \"7-day rolling average\"}, {\"Date\": \"2020-03-07\", \"Confirmed cases\": 1, \"Rolling\": null, \"Daily confirmed cases\": \"Daily confirmed cases\", \"7-day rolling average\": \"7-day rolling average\"}, {\"Date\": \"2020-03-08\", \"Confirmed cases\": 0, \"Rolling\": null, \"Daily confirmed cases\": \"Daily confirmed cases\", \"7-day rolling average\": \"7-day rolling average\"}, {\"Date\": \"2020-03-09\", \"Confirmed cases\": 0, \"Rolling\": null, \"Daily confirmed cases\": \"Daily confirmed cases\", \"7-day rolling average\": \"7-day rolling average\"}, {\"Date\": \"2020-03-10\", \"Confirmed cases\": 0, \"Rolling\": 0.14285714285714285, \"Daily confirmed cases\": \"Daily confirmed cases\", \"7-day rolling average\": \"7-day rolling average\"}, {\"Date\": \"2020-03-11\", \"Confirmed cases\": 0, \"Rolling\": 0.14285714285714285, \"Daily confirmed cases\": \"Daily confirmed cases\", \"7-day rolling average\": \"7-day rolling average\"}, {\"Date\": \"2020-03-12\", \"Confirmed cases\": 0, \"Rolling\": 0.14285714285714285, \"Daily confirmed cases\": \"Daily confirmed cases\", \"7-day rolling average\": \"7-day rolling average\"}, {\"Date\": \"2020-03-13\", \"Confirmed cases\": 0, \"Rolling\": 0.14285714285714285, \"Daily confirmed cases\": \"Daily confirmed cases\", \"7-day rolling average\": \"7-day rolling average\"}, {\"Date\": \"2020-03-14\", \"Confirmed cases\": 0, \"Rolling\": 0.0, \"Daily confirmed cases\": \"Daily confirmed cases\", \"7-day rolling average\": \"7-day rolling average\"}, {\"Date\": \"2020-03-15\", \"Confirmed cases\": 0, \"Rolling\": 0.0, \"Daily confirmed cases\": \"Daily confirmed cases\", \"7-day rolling average\": \"7-day rolling average\"}, {\"Date\": \"2020-03-16\", \"Confirmed cases\": 0, \"Rolling\": 0.0, \"Daily confirmed cases\": \"Daily confirmed cases\", \"7-day rolling average\": \"7-day rolling average\"}, {\"Date\": \"2020-03-17\", \"Confirmed cases\": 0, \"Rolling\": 0.0, \"Daily confirmed cases\": \"Daily confirmed cases\", \"7-day rolling average\": \"7-day rolling average\"}, {\"Date\": \"2020-03-18\", \"Confirmed cases\": 7, \"Rolling\": 1.0, \"Daily confirmed cases\": \"Daily confirmed cases\", \"7-day rolling average\": \"7-day rolling average\"}, {\"Date\": \"2020-03-19\", \"Confirmed cases\": 8, \"Rolling\": 2.142857142857143, \"Daily confirmed cases\": \"Daily confirmed cases\", \"7-day rolling average\": \"7-day rolling average\"}, {\"Date\": \"2020-03-20\", \"Confirmed cases\": 2, \"Rolling\": 2.4285714285714284, \"Daily confirmed cases\": \"Daily confirmed cases\", \"7-day rolling average\": \"7-day rolling average\"}, {\"Date\": \"2020-03-21\", \"Confirmed cases\": 2, \"Rolling\": 2.7142857142857144, \"Daily confirmed cases\": \"Daily confirmed cases\", \"7-day rolling average\": \"7-day rolling average\"}, {\"Date\": \"2020-03-22\", \"Confirmed cases\": 3, \"Rolling\": 3.142857142857143, \"Daily confirmed cases\": \"Daily confirmed cases\", \"7-day rolling average\": \"7-day rolling average\"}, {\"Date\": \"2020-03-23\", \"Confirmed cases\": 10, \"Rolling\": 4.571428571428571, \"Daily confirmed cases\": \"Daily confirmed cases\", \"7-day rolling average\": \"7-day rolling average\"}, {\"Date\": \"2020-03-24\", \"Confirmed cases\": 3, \"Rolling\": 5.0, \"Daily confirmed cases\": \"Daily confirmed cases\", \"7-day rolling average\": \"7-day rolling average\"}, {\"Date\": \"2020-03-25\", \"Confirmed cases\": 8, \"Rolling\": 5.142857142857143, \"Daily confirmed cases\": \"Daily confirmed cases\", \"7-day rolling average\": \"7-day rolling average\"}, {\"Date\": \"2020-03-26\", \"Confirmed cases\": 16, \"Rolling\": 6.285714285714286, \"Daily confirmed cases\": \"Daily confirmed cases\", \"7-day rolling average\": \"7-day rolling average\"}, {\"Date\": \"2020-03-27\", \"Confirmed cases\": 3, \"Rolling\": 6.428571428571429, \"Daily confirmed cases\": \"Daily confirmed cases\", \"7-day rolling average\": \"7-day rolling average\"}, {\"Date\": \"2020-03-28\", \"Confirmed cases\": 30, \"Rolling\": 10.428571428571429, \"Daily confirmed cases\": \"Daily confirmed cases\", \"7-day rolling average\": \"7-day rolling average\"}, {\"Date\": \"2020-03-29\", \"Confirmed cases\": 11, \"Rolling\": 11.571428571428571, \"Daily confirmed cases\": \"Daily confirmed cases\", \"7-day rolling average\": \"7-day rolling average\"}, {\"Date\": \"2020-03-30\", \"Confirmed cases\": 24, \"Rolling\": 13.571428571428571, \"Daily confirmed cases\": \"Daily confirmed cases\", \"7-day rolling average\": \"7-day rolling average\"}, {\"Date\": \"2020-03-31\", \"Confirmed cases\": 23, \"Rolling\": 16.428571428571427, \"Daily confirmed cases\": \"Daily confirmed cases\", \"7-day rolling average\": \"7-day rolling average\"}, {\"Date\": \"2020-04-01\", \"Confirmed cases\": 30, \"Rolling\": 19.571428571428573, \"Daily confirmed cases\": \"Daily confirmed cases\", \"7-day rolling average\": \"7-day rolling average\"}, {\"Date\": \"2020-04-02\", \"Confirmed cases\": 22, \"Rolling\": 20.428571428571427, \"Daily confirmed cases\": \"Daily confirmed cases\", \"7-day rolling average\": \"7-day rolling average\"}, {\"Date\": \"2020-04-03\", \"Confirmed cases\": 31, \"Rolling\": 24.428571428571427, \"Daily confirmed cases\": \"Daily confirmed cases\", \"7-day rolling average\": \"7-day rolling average\"}, {\"Date\": \"2020-04-04\", \"Confirmed cases\": 25, \"Rolling\": 23.714285714285715, \"Daily confirmed cases\": \"Daily confirmed cases\", \"7-day rolling average\": \"7-day rolling average\"}, {\"Date\": \"2020-04-05\", \"Confirmed cases\": 17, \"Rolling\": 24.571428571428573, \"Daily confirmed cases\": \"Daily confirmed cases\", \"7-day rolling average\": \"7-day rolling average\"}, {\"Date\": \"2020-04-06\", \"Confirmed cases\": 10, \"Rolling\": 22.571428571428573, \"Daily confirmed cases\": \"Daily confirmed cases\", \"7-day rolling average\": \"7-day rolling average\"}, {\"Date\": \"2020-04-07\", \"Confirmed cases\": 13, \"Rolling\": 21.142857142857142, \"Daily confirmed cases\": \"Daily confirmed cases\", \"7-day rolling average\": \"7-day rolling average\"}, {\"Date\": \"2020-04-08\", \"Confirmed cases\": 26, \"Rolling\": 20.571428571428573, \"Daily confirmed cases\": \"Daily confirmed cases\", \"7-day rolling average\": \"7-day rolling average\"}, {\"Date\": \"2020-04-09\", \"Confirmed cases\": 15, \"Rolling\": 19.571428571428573, \"Daily confirmed cases\": \"Daily confirmed cases\", \"7-day rolling average\": \"7-day rolling average\"}, {\"Date\": \"2020-04-10\", \"Confirmed cases\": 9, \"Rolling\": 16.428571428571427, \"Daily confirmed cases\": \"Daily confirmed cases\", \"7-day rolling average\": \"7-day rolling average\"}, {\"Date\": \"2020-04-11\", \"Confirmed cases\": 15, \"Rolling\": 15.0, \"Daily confirmed cases\": \"Daily confirmed cases\", \"7-day rolling average\": \"7-day rolling average\"}, {\"Date\": \"2020-04-12\", \"Confirmed cases\": 8, \"Rolling\": 13.714285714285714, \"Daily confirmed cases\": \"Daily confirmed cases\", \"7-day rolling average\": \"7-day rolling average\"}, {\"Date\": \"2020-04-13\", \"Confirmed cases\": 8, \"Rolling\": 13.428571428571429, \"Daily confirmed cases\": \"Daily confirmed cases\", \"7-day rolling average\": \"7-day rolling average\"}, {\"Date\": \"2020-04-14\", \"Confirmed cases\": 5, \"Rolling\": 12.285714285714286, \"Daily confirmed cases\": \"Daily confirmed cases\", \"7-day rolling average\": \"7-day rolling average\"}, {\"Date\": \"2020-04-15\", \"Confirmed cases\": 5, \"Rolling\": 9.285714285714286, \"Daily confirmed cases\": \"Daily confirmed cases\", \"7-day rolling average\": \"7-day rolling average\"}, {\"Date\": \"2020-04-16\", \"Confirmed cases\": 9, \"Rolling\": 8.428571428571429, \"Daily confirmed cases\": \"Daily confirmed cases\", \"7-day rolling average\": \"7-day rolling average\"}, {\"Date\": \"2020-04-17\", \"Confirmed cases\": 13, \"Rolling\": 9.0, \"Daily confirmed cases\": \"Daily confirmed cases\", \"7-day rolling average\": \"7-day rolling average\"}, {\"Date\": \"2020-04-18\", \"Confirmed cases\": 4, \"Rolling\": 7.428571428571429, \"Daily confirmed cases\": \"Daily confirmed cases\", \"7-day rolling average\": \"7-day rolling average\"}, {\"Date\": \"2020-04-19\", \"Confirmed cases\": 5, \"Rolling\": 7.0, \"Daily confirmed cases\": \"Daily confirmed cases\", \"7-day rolling average\": \"7-day rolling average\"}, {\"Date\": \"2020-04-20\", \"Confirmed cases\": 3, \"Rolling\": 6.285714285714286, \"Daily confirmed cases\": \"Daily confirmed cases\", \"7-day rolling average\": \"7-day rolling average\"}, {\"Date\": \"2020-04-21\", \"Confirmed cases\": 8, \"Rolling\": 6.714285714285714, \"Daily confirmed cases\": \"Daily confirmed cases\", \"7-day rolling average\": \"7-day rolling average\"}, {\"Date\": \"2020-04-22\", \"Confirmed cases\": 13, \"Rolling\": 7.857142857142857, \"Daily confirmed cases\": \"Daily confirmed cases\", \"7-day rolling average\": \"7-day rolling average\"}, {\"Date\": \"2020-04-23\", \"Confirmed cases\": 9, \"Rolling\": 7.857142857142857, \"Daily confirmed cases\": \"Daily confirmed cases\", \"7-day rolling average\": \"7-day rolling average\"}, {\"Date\": \"2020-04-24\", \"Confirmed cases\": 6, \"Rolling\": 6.857142857142857, \"Daily confirmed cases\": \"Daily confirmed cases\", \"7-day rolling average\": \"7-day rolling average\"}, {\"Date\": \"2020-04-25\", \"Confirmed cases\": 5, \"Rolling\": 7.0, \"Daily confirmed cases\": \"Daily confirmed cases\", \"7-day rolling average\": \"7-day rolling average\"}, {\"Date\": \"2020-04-26\", \"Confirmed cases\": 8, \"Rolling\": 7.428571428571429, \"Daily confirmed cases\": \"Daily confirmed cases\", \"7-day rolling average\": \"7-day rolling average\"}]}}, {\"mode\": \"vega-lite\"});\n",
       "</script>"
      ],
      "text/plain": [
       "alt.LayerChart(...)"
      ]
     },
     "execution_count": 63,
     "metadata": {},
     "output_type": "execute_result"
    }
   ],
   "source": [
    "#hide_input\n",
    "bars, line = my_cases_plot(region)\n",
    "(bars + line).properties(\n",
    "    title=f'Covid-19 in Chile: Daily confirmed cases in {region}',\n",
    "    width=600\n",
    ")"
   ]
  },
  {
   "cell_type": "markdown",
   "metadata": {},
   "source": [
    "## Aysén"
   ]
  },
  {
   "cell_type": "code",
   "execution_count": 64,
   "metadata": {
    "scrolled": true
   },
   "outputs": [],
   "source": [
    "#hide\n",
    "region = \"Aysén\""
   ]
  },
  {
   "cell_type": "code",
   "execution_count": 65,
   "metadata": {},
   "outputs": [
    {
     "data": {
      "text/html": [
       "\n",
       "<div id=\"altair-viz-a524f7a35f6442dbb55ca9b6a4a4b68e\"></div>\n",
       "<script type=\"text/javascript\">\n",
       "  (function(spec, embedOpt){\n",
       "    let outputDiv = document.currentScript.previousElementSibling;\n",
       "    if (outputDiv.id !== \"altair-viz-a524f7a35f6442dbb55ca9b6a4a4b68e\") {\n",
       "      outputDiv = document.getElementById(\"altair-viz-a524f7a35f6442dbb55ca9b6a4a4b68e\");\n",
       "    }\n",
       "    const paths = {\n",
       "      \"vega\": \"https://cdn.jsdelivr.net/npm//vega@5?noext\",\n",
       "      \"vega-lib\": \"https://cdn.jsdelivr.net/npm//vega-lib?noext\",\n",
       "      \"vega-lite\": \"https://cdn.jsdelivr.net/npm//vega-lite@4.8.1?noext\",\n",
       "      \"vega-embed\": \"https://cdn.jsdelivr.net/npm//vega-embed@6?noext\",\n",
       "    };\n",
       "\n",
       "    function loadScript(lib) {\n",
       "      return new Promise(function(resolve, reject) {\n",
       "        var s = document.createElement('script');\n",
       "        s.src = paths[lib];\n",
       "        s.async = true;\n",
       "        s.onload = () => resolve(paths[lib]);\n",
       "        s.onerror = () => reject(`Error loading script: ${paths[lib]}`);\n",
       "        document.getElementsByTagName(\"head\")[0].appendChild(s);\n",
       "      });\n",
       "    }\n",
       "\n",
       "    function showError(err) {\n",
       "      outputDiv.innerHTML = `<div class=\"error\" style=\"color:red;\">${err}</div>`;\n",
       "      throw err;\n",
       "    }\n",
       "\n",
       "    function displayChart(vegaEmbed) {\n",
       "      vegaEmbed(outputDiv, spec, embedOpt)\n",
       "        .catch(err => showError(`Javascript Error: ${err.message}<br>This usually means there's a typo in your chart specification. See the javascript console for the full traceback.`));\n",
       "    }\n",
       "\n",
       "    if(typeof define === \"function\" && define.amd) {\n",
       "      requirejs.config({paths});\n",
       "      require([\"vega-embed\"], displayChart, err => showError(`Error loading script: ${err.message}`));\n",
       "    } else if (typeof vegaEmbed === \"function\") {\n",
       "      displayChart(vegaEmbed);\n",
       "    } else {\n",
       "      loadScript(\"vega\")\n",
       "        .then(() => loadScript(\"vega-lite\"))\n",
       "        .then(() => loadScript(\"vega-embed\"))\n",
       "        .catch(showError)\n",
       "        .then(() => displayChart(vegaEmbed));\n",
       "    }\n",
       "  })({\"config\": {\"view\": {\"continuousWidth\": 400, \"continuousHeight\": 300}}, \"layer\": [{\"mark\": {\"type\": \"bar\", \"opacity\": 0.7}, \"encoding\": {\"opacity\": {\"type\": \"nominal\", \"field\": \"Daily confirmed cases\", \"legend\": {\"title\": \"\"}}, \"tooltip\": [{\"type\": \"nominal\", \"field\": \"Date\"}, {\"type\": \"quantitative\", \"field\": \"Confirmed cases\"}], \"x\": {\"type\": \"nominal\", \"axis\": {\"title\": \"Date\"}, \"field\": \"Date\"}, \"y\": {\"type\": \"quantitative\", \"axis\": {\"title\": \"Daily confirmed cases\"}, \"field\": \"Confirmed cases\"}}}, {\"mark\": {\"type\": \"line\", \"color\": \"#1f77b4\", \"point\": {\"filled\": true, \"fill\": \"#1f77b4\"}}, \"encoding\": {\"shape\": {\"type\": \"nominal\", \"field\": \"7-day rolling average\", \"legend\": {\"title\": \"\"}}, \"x\": {\"type\": \"nominal\", \"axis\": {\"title\": \"Date\"}, \"field\": \"Date\"}, \"y\": {\"type\": \"quantitative\", \"field\": \"Rolling\"}}}], \"data\": {\"name\": \"data-26163ed90b879f57cabaa3d67835eeb9\"}, \"title\": \"Covid-19 in Chile: Daily confirmed cases in Ays\\u00e9n\", \"width\": 600, \"$schema\": \"https://vega.github.io/schema/vega-lite/v4.8.1.json\", \"datasets\": {\"data-26163ed90b879f57cabaa3d67835eeb9\": [{\"Date\": \"2020-03-04\", \"Confirmed cases\": 0, \"Rolling\": null, \"Daily confirmed cases\": \"Daily confirmed cases\", \"7-day rolling average\": \"7-day rolling average\"}, {\"Date\": \"2020-03-05\", \"Confirmed cases\": 0, \"Rolling\": null, \"Daily confirmed cases\": \"Daily confirmed cases\", \"7-day rolling average\": \"7-day rolling average\"}, {\"Date\": \"2020-03-06\", \"Confirmed cases\": 0, \"Rolling\": null, \"Daily confirmed cases\": \"Daily confirmed cases\", \"7-day rolling average\": \"7-day rolling average\"}, {\"Date\": \"2020-03-07\", \"Confirmed cases\": 0, \"Rolling\": null, \"Daily confirmed cases\": \"Daily confirmed cases\", \"7-day rolling average\": \"7-day rolling average\"}, {\"Date\": \"2020-03-08\", \"Confirmed cases\": 0, \"Rolling\": null, \"Daily confirmed cases\": \"Daily confirmed cases\", \"7-day rolling average\": \"7-day rolling average\"}, {\"Date\": \"2020-03-09\", \"Confirmed cases\": 0, \"Rolling\": null, \"Daily confirmed cases\": \"Daily confirmed cases\", \"7-day rolling average\": \"7-day rolling average\"}, {\"Date\": \"2020-03-10\", \"Confirmed cases\": 0, \"Rolling\": 0.0, \"Daily confirmed cases\": \"Daily confirmed cases\", \"7-day rolling average\": \"7-day rolling average\"}, {\"Date\": \"2020-03-11\", \"Confirmed cases\": 0, \"Rolling\": 0.0, \"Daily confirmed cases\": \"Daily confirmed cases\", \"7-day rolling average\": \"7-day rolling average\"}, {\"Date\": \"2020-03-12\", \"Confirmed cases\": 0, \"Rolling\": 0.0, \"Daily confirmed cases\": \"Daily confirmed cases\", \"7-day rolling average\": \"7-day rolling average\"}, {\"Date\": \"2020-03-13\", \"Confirmed cases\": 0, \"Rolling\": 0.0, \"Daily confirmed cases\": \"Daily confirmed cases\", \"7-day rolling average\": \"7-day rolling average\"}, {\"Date\": \"2020-03-14\", \"Confirmed cases\": 1, \"Rolling\": 0.14285714285714285, \"Daily confirmed cases\": \"Daily confirmed cases\", \"7-day rolling average\": \"7-day rolling average\"}, {\"Date\": \"2020-03-15\", \"Confirmed cases\": 0, \"Rolling\": 0.14285714285714285, \"Daily confirmed cases\": \"Daily confirmed cases\", \"7-day rolling average\": \"7-day rolling average\"}, {\"Date\": \"2020-03-16\", \"Confirmed cases\": 0, \"Rolling\": 0.14285714285714285, \"Daily confirmed cases\": \"Daily confirmed cases\", \"7-day rolling average\": \"7-day rolling average\"}, {\"Date\": \"2020-03-17\", \"Confirmed cases\": 0, \"Rolling\": 0.14285714285714285, \"Daily confirmed cases\": \"Daily confirmed cases\", \"7-day rolling average\": \"7-day rolling average\"}, {\"Date\": \"2020-03-18\", \"Confirmed cases\": 0, \"Rolling\": 0.14285714285714285, \"Daily confirmed cases\": \"Daily confirmed cases\", \"7-day rolling average\": \"7-day rolling average\"}, {\"Date\": \"2020-03-19\", \"Confirmed cases\": 0, \"Rolling\": 0.14285714285714285, \"Daily confirmed cases\": \"Daily confirmed cases\", \"7-day rolling average\": \"7-day rolling average\"}, {\"Date\": \"2020-03-20\", \"Confirmed cases\": 0, \"Rolling\": 0.14285714285714285, \"Daily confirmed cases\": \"Daily confirmed cases\", \"7-day rolling average\": \"7-day rolling average\"}, {\"Date\": \"2020-03-21\", \"Confirmed cases\": 0, \"Rolling\": 0.0, \"Daily confirmed cases\": \"Daily confirmed cases\", \"7-day rolling average\": \"7-day rolling average\"}, {\"Date\": \"2020-03-22\", \"Confirmed cases\": 0, \"Rolling\": 0.0, \"Daily confirmed cases\": \"Daily confirmed cases\", \"7-day rolling average\": \"7-day rolling average\"}, {\"Date\": \"2020-03-23\", \"Confirmed cases\": 0, \"Rolling\": 0.0, \"Daily confirmed cases\": \"Daily confirmed cases\", \"7-day rolling average\": \"7-day rolling average\"}, {\"Date\": \"2020-03-24\", \"Confirmed cases\": 0, \"Rolling\": 0.0, \"Daily confirmed cases\": \"Daily confirmed cases\", \"7-day rolling average\": \"7-day rolling average\"}, {\"Date\": \"2020-03-25\", \"Confirmed cases\": 0, \"Rolling\": 0.0, \"Daily confirmed cases\": \"Daily confirmed cases\", \"7-day rolling average\": \"7-day rolling average\"}, {\"Date\": \"2020-03-26\", \"Confirmed cases\": 1, \"Rolling\": 0.14285714285714285, \"Daily confirmed cases\": \"Daily confirmed cases\", \"7-day rolling average\": \"7-day rolling average\"}, {\"Date\": \"2020-03-27\", \"Confirmed cases\": 0, \"Rolling\": 0.14285714285714285, \"Daily confirmed cases\": \"Daily confirmed cases\", \"7-day rolling average\": \"7-day rolling average\"}, {\"Date\": \"2020-03-28\", \"Confirmed cases\": 0, \"Rolling\": 0.14285714285714285, \"Daily confirmed cases\": \"Daily confirmed cases\", \"7-day rolling average\": \"7-day rolling average\"}, {\"Date\": \"2020-03-29\", \"Confirmed cases\": 0, \"Rolling\": 0.14285714285714285, \"Daily confirmed cases\": \"Daily confirmed cases\", \"7-day rolling average\": \"7-day rolling average\"}, {\"Date\": \"2020-03-30\", \"Confirmed cases\": 0, \"Rolling\": 0.14285714285714285, \"Daily confirmed cases\": \"Daily confirmed cases\", \"7-day rolling average\": \"7-day rolling average\"}, {\"Date\": \"2020-03-31\", \"Confirmed cases\": 0, \"Rolling\": 0.14285714285714285, \"Daily confirmed cases\": \"Daily confirmed cases\", \"7-day rolling average\": \"7-day rolling average\"}, {\"Date\": \"2020-04-01\", \"Confirmed cases\": 1, \"Rolling\": 0.2857142857142857, \"Daily confirmed cases\": \"Daily confirmed cases\", \"7-day rolling average\": \"7-day rolling average\"}, {\"Date\": \"2020-04-02\", \"Confirmed cases\": 2, \"Rolling\": 0.42857142857142855, \"Daily confirmed cases\": \"Daily confirmed cases\", \"7-day rolling average\": \"7-day rolling average\"}, {\"Date\": \"2020-04-03\", \"Confirmed cases\": 1, \"Rolling\": 0.5714285714285714, \"Daily confirmed cases\": \"Daily confirmed cases\", \"7-day rolling average\": \"7-day rolling average\"}, {\"Date\": \"2020-04-04\", \"Confirmed cases\": 0, \"Rolling\": 0.5714285714285714, \"Daily confirmed cases\": \"Daily confirmed cases\", \"7-day rolling average\": \"7-day rolling average\"}, {\"Date\": \"2020-04-05\", \"Confirmed cases\": 1, \"Rolling\": 0.7142857142857143, \"Daily confirmed cases\": \"Daily confirmed cases\", \"7-day rolling average\": \"7-day rolling average\"}, {\"Date\": \"2020-04-06\", \"Confirmed cases\": 0, \"Rolling\": 0.7142857142857143, \"Daily confirmed cases\": \"Daily confirmed cases\", \"7-day rolling average\": \"7-day rolling average\"}, {\"Date\": \"2020-04-07\", \"Confirmed cases\": 0, \"Rolling\": 0.7142857142857143, \"Daily confirmed cases\": \"Daily confirmed cases\", \"7-day rolling average\": \"7-day rolling average\"}, {\"Date\": \"2020-04-08\", \"Confirmed cases\": 0, \"Rolling\": 0.5714285714285714, \"Daily confirmed cases\": \"Daily confirmed cases\", \"7-day rolling average\": \"7-day rolling average\"}, {\"Date\": \"2020-04-09\", \"Confirmed cases\": 0, \"Rolling\": 0.2857142857142857, \"Daily confirmed cases\": \"Daily confirmed cases\", \"7-day rolling average\": \"7-day rolling average\"}, {\"Date\": \"2020-04-10\", \"Confirmed cases\": 0, \"Rolling\": 0.14285714285714285, \"Daily confirmed cases\": \"Daily confirmed cases\", \"7-day rolling average\": \"7-day rolling average\"}, {\"Date\": \"2020-04-11\", \"Confirmed cases\": 0, \"Rolling\": 0.14285714285714285, \"Daily confirmed cases\": \"Daily confirmed cases\", \"7-day rolling average\": \"7-day rolling average\"}, {\"Date\": \"2020-04-12\", \"Confirmed cases\": 0, \"Rolling\": 0.0, \"Daily confirmed cases\": \"Daily confirmed cases\", \"7-day rolling average\": \"7-day rolling average\"}, {\"Date\": \"2020-04-13\", \"Confirmed cases\": 0, \"Rolling\": 0.0, \"Daily confirmed cases\": \"Daily confirmed cases\", \"7-day rolling average\": \"7-day rolling average\"}, {\"Date\": \"2020-04-14\", \"Confirmed cases\": 0, \"Rolling\": 0.0, \"Daily confirmed cases\": \"Daily confirmed cases\", \"7-day rolling average\": \"7-day rolling average\"}, {\"Date\": \"2020-04-15\", \"Confirmed cases\": 0, \"Rolling\": 0.0, \"Daily confirmed cases\": \"Daily confirmed cases\", \"7-day rolling average\": \"7-day rolling average\"}, {\"Date\": \"2020-04-16\", \"Confirmed cases\": 0, \"Rolling\": 0.0, \"Daily confirmed cases\": \"Daily confirmed cases\", \"7-day rolling average\": \"7-day rolling average\"}, {\"Date\": \"2020-04-17\", \"Confirmed cases\": 0, \"Rolling\": 0.0, \"Daily confirmed cases\": \"Daily confirmed cases\", \"7-day rolling average\": \"7-day rolling average\"}, {\"Date\": \"2020-04-18\", \"Confirmed cases\": 0, \"Rolling\": 0.0, \"Daily confirmed cases\": \"Daily confirmed cases\", \"7-day rolling average\": \"7-day rolling average\"}, {\"Date\": \"2020-04-19\", \"Confirmed cases\": 0, \"Rolling\": 0.0, \"Daily confirmed cases\": \"Daily confirmed cases\", \"7-day rolling average\": \"7-day rolling average\"}, {\"Date\": \"2020-04-20\", \"Confirmed cases\": 0, \"Rolling\": 0.0, \"Daily confirmed cases\": \"Daily confirmed cases\", \"7-day rolling average\": \"7-day rolling average\"}, {\"Date\": \"2020-04-21\", \"Confirmed cases\": 0, \"Rolling\": 0.0, \"Daily confirmed cases\": \"Daily confirmed cases\", \"7-day rolling average\": \"7-day rolling average\"}, {\"Date\": \"2020-04-22\", \"Confirmed cases\": 0, \"Rolling\": 0.0, \"Daily confirmed cases\": \"Daily confirmed cases\", \"7-day rolling average\": \"7-day rolling average\"}, {\"Date\": \"2020-04-23\", \"Confirmed cases\": 0, \"Rolling\": 0.0, \"Daily confirmed cases\": \"Daily confirmed cases\", \"7-day rolling average\": \"7-day rolling average\"}, {\"Date\": \"2020-04-24\", \"Confirmed cases\": 0, \"Rolling\": 0.0, \"Daily confirmed cases\": \"Daily confirmed cases\", \"7-day rolling average\": \"7-day rolling average\"}, {\"Date\": \"2020-04-25\", \"Confirmed cases\": 0, \"Rolling\": 0.0, \"Daily confirmed cases\": \"Daily confirmed cases\", \"7-day rolling average\": \"7-day rolling average\"}, {\"Date\": \"2020-04-26\", \"Confirmed cases\": 0, \"Rolling\": 0.0, \"Daily confirmed cases\": \"Daily confirmed cases\", \"7-day rolling average\": \"7-day rolling average\"}]}}, {\"mode\": \"vega-lite\"});\n",
       "</script>"
      ],
      "text/plain": [
       "alt.LayerChart(...)"
      ]
     },
     "execution_count": 65,
     "metadata": {},
     "output_type": "execute_result"
    }
   ],
   "source": [
    "#hide_input\n",
    "bars, line = my_cases_plot(region)\n",
    "(bars + line).properties(\n",
    "    title=f'Covid-19 in Chile: Daily confirmed cases in {region}',\n",
    "    width=600\n",
    ")"
   ]
  },
  {
   "cell_type": "markdown",
   "metadata": {},
   "source": [
    "## Magallanes"
   ]
  },
  {
   "cell_type": "code",
   "execution_count": 66,
   "metadata": {
    "scrolled": true
   },
   "outputs": [],
   "source": [
    "#hide\n",
    "region = \"Magallanes\""
   ]
  },
  {
   "cell_type": "code",
   "execution_count": 67,
   "metadata": {},
   "outputs": [
    {
     "data": {
      "text/html": [
       "\n",
       "<div id=\"altair-viz-4e1068943a6c427fb9d1acfddd429221\"></div>\n",
       "<script type=\"text/javascript\">\n",
       "  (function(spec, embedOpt){\n",
       "    let outputDiv = document.currentScript.previousElementSibling;\n",
       "    if (outputDiv.id !== \"altair-viz-4e1068943a6c427fb9d1acfddd429221\") {\n",
       "      outputDiv = document.getElementById(\"altair-viz-4e1068943a6c427fb9d1acfddd429221\");\n",
       "    }\n",
       "    const paths = {\n",
       "      \"vega\": \"https://cdn.jsdelivr.net/npm//vega@5?noext\",\n",
       "      \"vega-lib\": \"https://cdn.jsdelivr.net/npm//vega-lib?noext\",\n",
       "      \"vega-lite\": \"https://cdn.jsdelivr.net/npm//vega-lite@4.8.1?noext\",\n",
       "      \"vega-embed\": \"https://cdn.jsdelivr.net/npm//vega-embed@6?noext\",\n",
       "    };\n",
       "\n",
       "    function loadScript(lib) {\n",
       "      return new Promise(function(resolve, reject) {\n",
       "        var s = document.createElement('script');\n",
       "        s.src = paths[lib];\n",
       "        s.async = true;\n",
       "        s.onload = () => resolve(paths[lib]);\n",
       "        s.onerror = () => reject(`Error loading script: ${paths[lib]}`);\n",
       "        document.getElementsByTagName(\"head\")[0].appendChild(s);\n",
       "      });\n",
       "    }\n",
       "\n",
       "    function showError(err) {\n",
       "      outputDiv.innerHTML = `<div class=\"error\" style=\"color:red;\">${err}</div>`;\n",
       "      throw err;\n",
       "    }\n",
       "\n",
       "    function displayChart(vegaEmbed) {\n",
       "      vegaEmbed(outputDiv, spec, embedOpt)\n",
       "        .catch(err => showError(`Javascript Error: ${err.message}<br>This usually means there's a typo in your chart specification. See the javascript console for the full traceback.`));\n",
       "    }\n",
       "\n",
       "    if(typeof define === \"function\" && define.amd) {\n",
       "      requirejs.config({paths});\n",
       "      require([\"vega-embed\"], displayChart, err => showError(`Error loading script: ${err.message}`));\n",
       "    } else if (typeof vegaEmbed === \"function\") {\n",
       "      displayChart(vegaEmbed);\n",
       "    } else {\n",
       "      loadScript(\"vega\")\n",
       "        .then(() => loadScript(\"vega-lite\"))\n",
       "        .then(() => loadScript(\"vega-embed\"))\n",
       "        .catch(showError)\n",
       "        .then(() => displayChart(vegaEmbed));\n",
       "    }\n",
       "  })({\"config\": {\"view\": {\"continuousWidth\": 400, \"continuousHeight\": 300}}, \"layer\": [{\"mark\": {\"type\": \"bar\", \"opacity\": 0.7}, \"encoding\": {\"opacity\": {\"type\": \"nominal\", \"field\": \"Daily confirmed cases\", \"legend\": {\"title\": \"\"}}, \"tooltip\": [{\"type\": \"nominal\", \"field\": \"Date\"}, {\"type\": \"quantitative\", \"field\": \"Confirmed cases\"}], \"x\": {\"type\": \"nominal\", \"axis\": {\"title\": \"Date\"}, \"field\": \"Date\"}, \"y\": {\"type\": \"quantitative\", \"axis\": {\"title\": \"Daily confirmed cases\"}, \"field\": \"Confirmed cases\"}}}, {\"mark\": {\"type\": \"line\", \"color\": \"#1f77b4\", \"point\": {\"filled\": true, \"fill\": \"#1f77b4\"}}, \"encoding\": {\"shape\": {\"type\": \"nominal\", \"field\": \"7-day rolling average\", \"legend\": {\"title\": \"\"}}, \"x\": {\"type\": \"nominal\", \"axis\": {\"title\": \"Date\"}, \"field\": \"Date\"}, \"y\": {\"type\": \"quantitative\", \"field\": \"Rolling\"}}}], \"data\": {\"name\": \"data-f8251c245a29a75f8099085c21f36d1c\"}, \"title\": \"Covid-19 in Chile: Daily confirmed cases in Magallanes\", \"width\": 600, \"$schema\": \"https://vega.github.io/schema/vega-lite/v4.8.1.json\", \"datasets\": {\"data-f8251c245a29a75f8099085c21f36d1c\": [{\"Date\": \"2020-03-04\", \"Confirmed cases\": 0, \"Rolling\": null, \"Daily confirmed cases\": \"Daily confirmed cases\", \"7-day rolling average\": \"7-day rolling average\"}, {\"Date\": \"2020-03-05\", \"Confirmed cases\": 0, \"Rolling\": null, \"Daily confirmed cases\": \"Daily confirmed cases\", \"7-day rolling average\": \"7-day rolling average\"}, {\"Date\": \"2020-03-06\", \"Confirmed cases\": 0, \"Rolling\": null, \"Daily confirmed cases\": \"Daily confirmed cases\", \"7-day rolling average\": \"7-day rolling average\"}, {\"Date\": \"2020-03-07\", \"Confirmed cases\": 0, \"Rolling\": null, \"Daily confirmed cases\": \"Daily confirmed cases\", \"7-day rolling average\": \"7-day rolling average\"}, {\"Date\": \"2020-03-08\", \"Confirmed cases\": 0, \"Rolling\": null, \"Daily confirmed cases\": \"Daily confirmed cases\", \"7-day rolling average\": \"7-day rolling average\"}, {\"Date\": \"2020-03-09\", \"Confirmed cases\": 0, \"Rolling\": null, \"Daily confirmed cases\": \"Daily confirmed cases\", \"7-day rolling average\": \"7-day rolling average\"}, {\"Date\": \"2020-03-10\", \"Confirmed cases\": 0, \"Rolling\": 0.0, \"Daily confirmed cases\": \"Daily confirmed cases\", \"7-day rolling average\": \"7-day rolling average\"}, {\"Date\": \"2020-03-11\", \"Confirmed cases\": 0, \"Rolling\": 0.0, \"Daily confirmed cases\": \"Daily confirmed cases\", \"7-day rolling average\": \"7-day rolling average\"}, {\"Date\": \"2020-03-12\", \"Confirmed cases\": 0, \"Rolling\": 0.0, \"Daily confirmed cases\": \"Daily confirmed cases\", \"7-day rolling average\": \"7-day rolling average\"}, {\"Date\": \"2020-03-13\", \"Confirmed cases\": 0, \"Rolling\": 0.0, \"Daily confirmed cases\": \"Daily confirmed cases\", \"7-day rolling average\": \"7-day rolling average\"}, {\"Date\": \"2020-03-14\", \"Confirmed cases\": 0, \"Rolling\": 0.0, \"Daily confirmed cases\": \"Daily confirmed cases\", \"7-day rolling average\": \"7-day rolling average\"}, {\"Date\": \"2020-03-15\", \"Confirmed cases\": 0, \"Rolling\": 0.0, \"Daily confirmed cases\": \"Daily confirmed cases\", \"7-day rolling average\": \"7-day rolling average\"}, {\"Date\": \"2020-03-16\", \"Confirmed cases\": 0, \"Rolling\": 0.0, \"Daily confirmed cases\": \"Daily confirmed cases\", \"7-day rolling average\": \"7-day rolling average\"}, {\"Date\": \"2020-03-17\", \"Confirmed cases\": 2, \"Rolling\": 0.2857142857142857, \"Daily confirmed cases\": \"Daily confirmed cases\", \"7-day rolling average\": \"7-day rolling average\"}, {\"Date\": \"2020-03-18\", \"Confirmed cases\": 0, \"Rolling\": 0.2857142857142857, \"Daily confirmed cases\": \"Daily confirmed cases\", \"7-day rolling average\": \"7-day rolling average\"}, {\"Date\": \"2020-03-19\", \"Confirmed cases\": 0, \"Rolling\": 0.2857142857142857, \"Daily confirmed cases\": \"Daily confirmed cases\", \"7-day rolling average\": \"7-day rolling average\"}, {\"Date\": \"2020-03-20\", \"Confirmed cases\": 0, \"Rolling\": 0.2857142857142857, \"Daily confirmed cases\": \"Daily confirmed cases\", \"7-day rolling average\": \"7-day rolling average\"}, {\"Date\": \"2020-03-21\", \"Confirmed cases\": 1, \"Rolling\": 0.42857142857142855, \"Daily confirmed cases\": \"Daily confirmed cases\", \"7-day rolling average\": \"7-day rolling average\"}, {\"Date\": \"2020-03-22\", \"Confirmed cases\": 1, \"Rolling\": 0.5714285714285714, \"Daily confirmed cases\": \"Daily confirmed cases\", \"7-day rolling average\": \"7-day rolling average\"}, {\"Date\": \"2020-03-23\", \"Confirmed cases\": 2, \"Rolling\": 0.8571428571428571, \"Daily confirmed cases\": \"Daily confirmed cases\", \"7-day rolling average\": \"7-day rolling average\"}, {\"Date\": \"2020-03-24\", \"Confirmed cases\": 2, \"Rolling\": 0.8571428571428571, \"Daily confirmed cases\": \"Daily confirmed cases\", \"7-day rolling average\": \"7-day rolling average\"}, {\"Date\": \"2020-03-25\", \"Confirmed cases\": 5, \"Rolling\": 1.5714285714285714, \"Daily confirmed cases\": \"Daily confirmed cases\", \"7-day rolling average\": \"7-day rolling average\"}, {\"Date\": \"2020-03-26\", \"Confirmed cases\": 6, \"Rolling\": 2.4285714285714284, \"Daily confirmed cases\": \"Daily confirmed cases\", \"7-day rolling average\": \"7-day rolling average\"}, {\"Date\": \"2020-03-27\", \"Confirmed cases\": 3, \"Rolling\": 2.857142857142857, \"Daily confirmed cases\": \"Daily confirmed cases\", \"7-day rolling average\": \"7-day rolling average\"}, {\"Date\": \"2020-03-28\", \"Confirmed cases\": 4, \"Rolling\": 3.2857142857142856, \"Daily confirmed cases\": \"Daily confirmed cases\", \"7-day rolling average\": \"7-day rolling average\"}, {\"Date\": \"2020-03-29\", \"Confirmed cases\": 13, \"Rolling\": 5.0, \"Daily confirmed cases\": \"Daily confirmed cases\", \"7-day rolling average\": \"7-day rolling average\"}, {\"Date\": \"2020-03-30\", \"Confirmed cases\": 0, \"Rolling\": 4.714285714285714, \"Daily confirmed cases\": \"Daily confirmed cases\", \"7-day rolling average\": \"7-day rolling average\"}, {\"Date\": \"2020-03-31\", \"Confirmed cases\": 24, \"Rolling\": 7.857142857142857, \"Daily confirmed cases\": \"Daily confirmed cases\", \"7-day rolling average\": \"7-day rolling average\"}, {\"Date\": \"2020-04-01\", \"Confirmed cases\": 36, \"Rolling\": 12.285714285714286, \"Daily confirmed cases\": \"Daily confirmed cases\", \"7-day rolling average\": \"7-day rolling average\"}, {\"Date\": \"2020-04-02\", \"Confirmed cases\": 15, \"Rolling\": 13.571428571428571, \"Daily confirmed cases\": \"Daily confirmed cases\", \"7-day rolling average\": \"7-day rolling average\"}, {\"Date\": \"2020-04-03\", \"Confirmed cases\": 42, \"Rolling\": 19.142857142857142, \"Daily confirmed cases\": \"Daily confirmed cases\", \"7-day rolling average\": \"7-day rolling average\"}, {\"Date\": \"2020-04-04\", \"Confirmed cases\": 16, \"Rolling\": 20.857142857142858, \"Daily confirmed cases\": \"Daily confirmed cases\", \"7-day rolling average\": \"7-day rolling average\"}, {\"Date\": \"2020-04-05\", \"Confirmed cases\": 18, \"Rolling\": 21.571428571428573, \"Daily confirmed cases\": \"Daily confirmed cases\", \"7-day rolling average\": \"7-day rolling average\"}, {\"Date\": \"2020-04-06\", \"Confirmed cases\": 31, \"Rolling\": 26.0, \"Daily confirmed cases\": \"Daily confirmed cases\", \"7-day rolling average\": \"7-day rolling average\"}, {\"Date\": \"2020-04-07\", \"Confirmed cases\": 19, \"Rolling\": 25.285714285714285, \"Daily confirmed cases\": \"Daily confirmed cases\", \"7-day rolling average\": \"7-day rolling average\"}, {\"Date\": \"2020-04-08\", \"Confirmed cases\": 26, \"Rolling\": 23.857142857142858, \"Daily confirmed cases\": \"Daily confirmed cases\", \"7-day rolling average\": \"7-day rolling average\"}, {\"Date\": \"2020-04-09\", \"Confirmed cases\": 20, \"Rolling\": 24.571428571428573, \"Daily confirmed cases\": \"Daily confirmed cases\", \"7-day rolling average\": \"7-day rolling average\"}, {\"Date\": \"2020-04-10\", \"Confirmed cases\": 45, \"Rolling\": 25.0, \"Daily confirmed cases\": \"Daily confirmed cases\", \"7-day rolling average\": \"7-day rolling average\"}, {\"Date\": \"2020-04-11\", \"Confirmed cases\": 46, \"Rolling\": 29.285714285714285, \"Daily confirmed cases\": \"Daily confirmed cases\", \"7-day rolling average\": \"7-day rolling average\"}, {\"Date\": \"2020-04-12\", \"Confirmed cases\": 19, \"Rolling\": 29.428571428571427, \"Daily confirmed cases\": \"Daily confirmed cases\", \"7-day rolling average\": \"7-day rolling average\"}, {\"Date\": \"2020-04-13\", \"Confirmed cases\": 19, \"Rolling\": 27.714285714285715, \"Daily confirmed cases\": \"Daily confirmed cases\", \"7-day rolling average\": \"7-day rolling average\"}, {\"Date\": \"2020-04-14\", \"Confirmed cases\": 14, \"Rolling\": 27.0, \"Daily confirmed cases\": \"Daily confirmed cases\", \"7-day rolling average\": \"7-day rolling average\"}, {\"Date\": \"2020-04-15\", \"Confirmed cases\": 15, \"Rolling\": 25.428571428571427, \"Daily confirmed cases\": \"Daily confirmed cases\", \"7-day rolling average\": \"7-day rolling average\"}, {\"Date\": \"2020-04-16\", \"Confirmed cases\": 23, \"Rolling\": 25.857142857142858, \"Daily confirmed cases\": \"Daily confirmed cases\", \"7-day rolling average\": \"7-day rolling average\"}, {\"Date\": \"2020-04-17\", \"Confirmed cases\": 34, \"Rolling\": 24.285714285714285, \"Daily confirmed cases\": \"Daily confirmed cases\", \"7-day rolling average\": \"7-day rolling average\"}, {\"Date\": \"2020-04-18\", \"Confirmed cases\": 21, \"Rolling\": 20.714285714285715, \"Daily confirmed cases\": \"Daily confirmed cases\", \"7-day rolling average\": \"7-day rolling average\"}, {\"Date\": \"2020-04-19\", \"Confirmed cases\": 31, \"Rolling\": 22.428571428571427, \"Daily confirmed cases\": \"Daily confirmed cases\", \"7-day rolling average\": \"7-day rolling average\"}, {\"Date\": \"2020-04-20\", \"Confirmed cases\": 13, \"Rolling\": 21.571428571428573, \"Daily confirmed cases\": \"Daily confirmed cases\", \"7-day rolling average\": \"7-day rolling average\"}, {\"Date\": \"2020-04-21\", \"Confirmed cases\": 27, \"Rolling\": 23.428571428571427, \"Daily confirmed cases\": \"Daily confirmed cases\", \"7-day rolling average\": \"7-day rolling average\"}, {\"Date\": \"2020-04-22\", \"Confirmed cases\": 12, \"Rolling\": 23.0, \"Daily confirmed cases\": \"Daily confirmed cases\", \"7-day rolling average\": \"7-day rolling average\"}, {\"Date\": \"2020-04-23\", \"Confirmed cases\": 10, \"Rolling\": 21.142857142857142, \"Daily confirmed cases\": \"Daily confirmed cases\", \"7-day rolling average\": \"7-day rolling average\"}, {\"Date\": \"2020-04-24\", \"Confirmed cases\": 9, \"Rolling\": 17.571428571428573, \"Daily confirmed cases\": \"Daily confirmed cases\", \"7-day rolling average\": \"7-day rolling average\"}, {\"Date\": \"2020-04-25\", \"Confirmed cases\": 31, \"Rolling\": 19.0, \"Daily confirmed cases\": \"Daily confirmed cases\", \"7-day rolling average\": \"7-day rolling average\"}, {\"Date\": \"2020-04-26\", \"Confirmed cases\": 13, \"Rolling\": 16.428571428571427, \"Daily confirmed cases\": \"Daily confirmed cases\", \"7-day rolling average\": \"7-day rolling average\"}]}}, {\"mode\": \"vega-lite\"});\n",
       "</script>"
      ],
      "text/plain": [
       "alt.LayerChart(...)"
      ]
     },
     "execution_count": 67,
     "metadata": {},
     "output_type": "execute_result"
    }
   ],
   "source": [
    "#hide_input\n",
    "bars, line = my_cases_plot(region)\n",
    "(bars + line).properties(\n",
    "    title=f'Covid-19 in Chile: Daily confirmed cases in {region}',\n",
    "    width=600\n",
    ")"
   ]
  },
  {
   "cell_type": "markdown",
   "metadata": {},
   "source": [
    "# Daily confirmed deaths"
   ]
  },
  {
   "cell_type": "code",
   "execution_count": 68,
   "metadata": {},
   "outputs": [],
   "source": [
    "#hide\n",
    "data = pd.DataFrame()\n",
    "data_raw = pd.read_csv(\n",
    "    \"https://raw.githubusercontent.com/MinCiencia/Datos-COVID19/master/output/producto4/2020-03-24-CasosConfirmados-totalRegional.csv\",\n",
    "    index_col='Region')\n",
    "data['2020-03-24'] = data_raw['Fallecidos']"
   ]
  },
  {
   "cell_type": "code",
   "execution_count": 69,
   "metadata": {},
   "outputs": [],
   "source": [
    "#hide\n",
    "first_death_date = '2020-03-24'\n",
    "total_days = (pd.to_datetime(today)-pd.to_datetime(first_death_date)).days"
   ]
  },
  {
   "cell_type": "code",
   "execution_count": 70,
   "metadata": {},
   "outputs": [],
   "source": [
    "#hide\n",
    "for i in np.arange(total_days+1):\n",
    "  date = (pd.to_datetime(first_death_date)+pd.DateOffset(i)).strftime('%Y-%m-%d')\n",
    "  s = \"https://raw.githubusercontent.com/MinCiencia/Datos-COVID19/master/output/producto4/\" + date + \"-CasosConfirmados-totalRegional.csv\"\n",
    "  data_by_date = pd.read_csv(s)\n",
    "  if 'Fallecidos' in data_by_date.columns:\n",
    "    data[date] = data_by_date[\"Fallecidos\"].values\n",
    "  elif 'Casos fallecidos' in data_by_date.columns:\n",
    "    data[date] = data_by_date[\"Casos fallecidos\"].values\n",
    "  else:\n",
    "    data[date] = data_by_date[\" Casos fallecidos\"].values"
   ]
  },
  {
   "cell_type": "code",
   "execution_count": 71,
   "metadata": {},
   "outputs": [],
   "source": [
    "#hide\n",
    "WS_deaths = 7"
   ]
  },
  {
   "cell_type": "code",
   "execution_count": 72,
   "metadata": {},
   "outputs": [],
   "source": [
    "#hide\n",
    "def my_deaths_plot(region):\n",
    "    aux1 = data.loc[region]\n",
    "    aux2 = [t - s for s, t in zip(aux1, aux1.loc['2020-03-25':])]\n",
    "    new_deaths = pd.DataFrame()\n",
    "    new_deaths[\"Dates\"] = data.loc[\"Total\"].reset_index()[\"index\"].iloc[1:].values\n",
    "    new_deaths[\"New_deaths\"] = aux2\n",
    "    new_deaths[\"Rolling\"] = new_deaths[\"New_deaths\"].rolling(window=WS_deaths).mean()\n",
    "    new_deaths[\"Daily confirmed deaths\"] = len(new_deaths) * [\"Daily confirmed deaths\"]\n",
    "    new_deaths[\"7-day rolling average\"] = len(new_deaths) * [\"7-day rolling average\"]\n",
    "    bars = alt.Chart(new_deaths).mark_bar(opacity=0.7, color='firebrick').encode(\n",
    "        x = alt.X('Dates:N', axis=alt.Axis(title='Date')),\n",
    "        y = alt.Y('New_deaths:Q', axis=alt.Axis(title='Daily confirmed deaths')),\n",
    "        tooltip = ['Dates', 'New_deaths'],\n",
    "        opacity=alt.Opacity('Daily confirmed deaths', legend=alt.Legend(title=\"\"))\n",
    "    )\n",
    "\n",
    "    line = alt.Chart(new_deaths).mark_line(point={\n",
    "          \"filled\": True,\n",
    "          \"fill\": \"firebrick\"\n",
    "        }, color='firebrick').encode(\n",
    "        x=alt.X('Dates:N', axis=alt.Axis(title='Date')),\n",
    "        y = alt.Y('Rolling:Q'),\n",
    "        shape=alt.Shape('7-day rolling average', legend=alt.Legend(title=\"\"))\n",
    "    )\n",
    "    return bars, line"
   ]
  },
  {
   "cell_type": "markdown",
   "metadata": {},
   "source": [
    "## Chile"
   ]
  },
  {
   "cell_type": "code",
   "execution_count": 73,
   "metadata": {},
   "outputs": [],
   "source": [
    "#hide\n",
    "region = \"Total\""
   ]
  },
  {
   "cell_type": "code",
   "execution_count": 74,
   "metadata": {},
   "outputs": [
    {
     "data": {
      "text/html": [
       "\n",
       "<div id=\"altair-viz-22831a702b14499bb60309c9678ede7e\"></div>\n",
       "<script type=\"text/javascript\">\n",
       "  (function(spec, embedOpt){\n",
       "    let outputDiv = document.currentScript.previousElementSibling;\n",
       "    if (outputDiv.id !== \"altair-viz-22831a702b14499bb60309c9678ede7e\") {\n",
       "      outputDiv = document.getElementById(\"altair-viz-22831a702b14499bb60309c9678ede7e\");\n",
       "    }\n",
       "    const paths = {\n",
       "      \"vega\": \"https://cdn.jsdelivr.net/npm//vega@5?noext\",\n",
       "      \"vega-lib\": \"https://cdn.jsdelivr.net/npm//vega-lib?noext\",\n",
       "      \"vega-lite\": \"https://cdn.jsdelivr.net/npm//vega-lite@4.8.1?noext\",\n",
       "      \"vega-embed\": \"https://cdn.jsdelivr.net/npm//vega-embed@6?noext\",\n",
       "    };\n",
       "\n",
       "    function loadScript(lib) {\n",
       "      return new Promise(function(resolve, reject) {\n",
       "        var s = document.createElement('script');\n",
       "        s.src = paths[lib];\n",
       "        s.async = true;\n",
       "        s.onload = () => resolve(paths[lib]);\n",
       "        s.onerror = () => reject(`Error loading script: ${paths[lib]}`);\n",
       "        document.getElementsByTagName(\"head\")[0].appendChild(s);\n",
       "      });\n",
       "    }\n",
       "\n",
       "    function showError(err) {\n",
       "      outputDiv.innerHTML = `<div class=\"error\" style=\"color:red;\">${err}</div>`;\n",
       "      throw err;\n",
       "    }\n",
       "\n",
       "    function displayChart(vegaEmbed) {\n",
       "      vegaEmbed(outputDiv, spec, embedOpt)\n",
       "        .catch(err => showError(`Javascript Error: ${err.message}<br>This usually means there's a typo in your chart specification. See the javascript console for the full traceback.`));\n",
       "    }\n",
       "\n",
       "    if(typeof define === \"function\" && define.amd) {\n",
       "      requirejs.config({paths});\n",
       "      require([\"vega-embed\"], displayChart, err => showError(`Error loading script: ${err.message}`));\n",
       "    } else if (typeof vegaEmbed === \"function\") {\n",
       "      displayChart(vegaEmbed);\n",
       "    } else {\n",
       "      loadScript(\"vega\")\n",
       "        .then(() => loadScript(\"vega-lite\"))\n",
       "        .then(() => loadScript(\"vega-embed\"))\n",
       "        .catch(showError)\n",
       "        .then(() => displayChart(vegaEmbed));\n",
       "    }\n",
       "  })({\"config\": {\"view\": {\"continuousWidth\": 400, \"continuousHeight\": 300}}, \"layer\": [{\"mark\": {\"type\": \"bar\", \"color\": \"firebrick\", \"opacity\": 0.7}, \"encoding\": {\"opacity\": {\"type\": \"nominal\", \"field\": \"Daily confirmed deaths\", \"legend\": {\"title\": \"\"}}, \"tooltip\": [{\"type\": \"nominal\", \"field\": \"Dates\"}, {\"type\": \"quantitative\", \"field\": \"New_deaths\"}], \"x\": {\"type\": \"nominal\", \"axis\": {\"title\": \"Date\"}, \"field\": \"Dates\"}, \"y\": {\"type\": \"quantitative\", \"axis\": {\"title\": \"Daily confirmed deaths\"}, \"field\": \"New_deaths\"}}}, {\"mark\": {\"type\": \"line\", \"color\": \"firebrick\", \"point\": {\"filled\": true, \"fill\": \"firebrick\"}}, \"encoding\": {\"shape\": {\"type\": \"nominal\", \"field\": \"7-day rolling average\", \"legend\": {\"title\": \"\"}}, \"x\": {\"type\": \"nominal\", \"axis\": {\"title\": \"Date\"}, \"field\": \"Dates\"}, \"y\": {\"type\": \"quantitative\", \"field\": \"Rolling\"}}}], \"data\": {\"name\": \"data-fd98835c8dbdd28be2dafb8f10a4b268\"}, \"title\": \"Covid-19 in Chile: Daily confirmed deaths in Chile\", \"width\": 600, \"$schema\": \"https://vega.github.io/schema/vega-lite/v4.8.1.json\", \"datasets\": {\"data-fd98835c8dbdd28be2dafb8f10a4b268\": [{\"Dates\": \"2020-03-25\", \"New_deaths\": 1, \"Rolling\": null, \"Daily confirmed deaths\": \"Daily confirmed deaths\", \"7-day rolling average\": \"7-day rolling average\"}, {\"Dates\": \"2020-03-26\", \"New_deaths\": 1, \"Rolling\": null, \"Daily confirmed deaths\": \"Daily confirmed deaths\", \"7-day rolling average\": \"7-day rolling average\"}, {\"Dates\": \"2020-03-27\", \"New_deaths\": 1, \"Rolling\": null, \"Daily confirmed deaths\": \"Daily confirmed deaths\", \"7-day rolling average\": \"7-day rolling average\"}, {\"Dates\": \"2020-03-28\", \"New_deaths\": 1, \"Rolling\": null, \"Daily confirmed deaths\": \"Daily confirmed deaths\", \"7-day rolling average\": \"7-day rolling average\"}, {\"Dates\": \"2020-03-29\", \"New_deaths\": 1, \"Rolling\": null, \"Daily confirmed deaths\": \"Daily confirmed deaths\", \"7-day rolling average\": \"7-day rolling average\"}, {\"Dates\": \"2020-03-30\", \"New_deaths\": 1, \"Rolling\": null, \"Daily confirmed deaths\": \"Daily confirmed deaths\", \"7-day rolling average\": \"7-day rolling average\"}, {\"Dates\": \"2020-03-31\", \"New_deaths\": 4, \"Rolling\": 1.4285714285714286, \"Daily confirmed deaths\": \"Daily confirmed deaths\", \"7-day rolling average\": \"7-day rolling average\"}, {\"Dates\": \"2020-04-01\", \"New_deaths\": 4, \"Rolling\": 1.8571428571428572, \"Daily confirmed deaths\": \"Daily confirmed deaths\", \"7-day rolling average\": \"7-day rolling average\"}, {\"Dates\": \"2020-04-02\", \"New_deaths\": 2, \"Rolling\": 2.0, \"Daily confirmed deaths\": \"Daily confirmed deaths\", \"7-day rolling average\": \"7-day rolling average\"}, {\"Dates\": \"2020-04-03\", \"New_deaths\": 4, \"Rolling\": 2.4285714285714284, \"Daily confirmed deaths\": \"Daily confirmed deaths\", \"7-day rolling average\": \"7-day rolling average\"}, {\"Dates\": \"2020-04-04\", \"New_deaths\": 5, \"Rolling\": 3.0, \"Daily confirmed deaths\": \"Daily confirmed deaths\", \"7-day rolling average\": \"7-day rolling average\"}, {\"Dates\": \"2020-04-05\", \"New_deaths\": 7, \"Rolling\": 3.857142857142857, \"Daily confirmed deaths\": \"Daily confirmed deaths\", \"7-day rolling average\": \"7-day rolling average\"}, {\"Dates\": \"2020-04-06\", \"New_deaths\": 3, \"Rolling\": 4.142857142857143, \"Daily confirmed deaths\": \"Daily confirmed deaths\", \"7-day rolling average\": \"7-day rolling average\"}, {\"Dates\": \"2020-04-07\", \"New_deaths\": 6, \"Rolling\": 4.428571428571429, \"Daily confirmed deaths\": \"Daily confirmed deaths\", \"7-day rolling average\": \"7-day rolling average\"}, {\"Dates\": \"2020-04-08\", \"New_deaths\": 5, \"Rolling\": 4.571428571428571, \"Daily confirmed deaths\": \"Daily confirmed deaths\", \"7-day rolling average\": \"7-day rolling average\"}, {\"Dates\": \"2020-04-09\", \"New_deaths\": 9, \"Rolling\": 5.571428571428571, \"Daily confirmed deaths\": \"Daily confirmed deaths\", \"7-day rolling average\": \"7-day rolling average\"}, {\"Dates\": \"2020-04-10\", \"New_deaths\": 8, \"Rolling\": 6.142857142857143, \"Daily confirmed deaths\": \"Daily confirmed deaths\", \"7-day rolling average\": \"7-day rolling average\"}, {\"Dates\": \"2020-04-11\", \"New_deaths\": 8, \"Rolling\": 6.571428571428571, \"Daily confirmed deaths\": \"Daily confirmed deaths\", \"7-day rolling average\": \"7-day rolling average\"}, {\"Dates\": \"2020-04-12\", \"New_deaths\": 7, \"Rolling\": 6.571428571428571, \"Daily confirmed deaths\": \"Daily confirmed deaths\", \"7-day rolling average\": \"7-day rolling average\"}, {\"Dates\": \"2020-04-13\", \"New_deaths\": 2, \"Rolling\": 6.428571428571429, \"Daily confirmed deaths\": \"Daily confirmed deaths\", \"7-day rolling average\": \"7-day rolling average\"}, {\"Dates\": \"2020-04-14\", \"New_deaths\": 10, \"Rolling\": 7.0, \"Daily confirmed deaths\": \"Daily confirmed deaths\", \"7-day rolling average\": \"7-day rolling average\"}, {\"Dates\": \"2020-04-15\", \"New_deaths\": 2, \"Rolling\": 6.571428571428571, \"Daily confirmed deaths\": \"Daily confirmed deaths\", \"7-day rolling average\": \"7-day rolling average\"}, {\"Dates\": \"2020-04-16\", \"New_deaths\": 11, \"Rolling\": 6.857142857142857, \"Daily confirmed deaths\": \"Daily confirmed deaths\", \"7-day rolling average\": \"7-day rolling average\"}, {\"Dates\": \"2020-04-17\", \"New_deaths\": 11, \"Rolling\": 7.285714285714286, \"Daily confirmed deaths\": \"Daily confirmed deaths\", \"7-day rolling average\": \"7-day rolling average\"}, {\"Dates\": \"2020-04-18\", \"New_deaths\": 10, \"Rolling\": 7.571428571428571, \"Daily confirmed deaths\": \"Daily confirmed deaths\", \"7-day rolling average\": \"7-day rolling average\"}, {\"Dates\": \"2020-04-19\", \"New_deaths\": 7, \"Rolling\": 7.571428571428571, \"Daily confirmed deaths\": \"Daily confirmed deaths\", \"7-day rolling average\": \"7-day rolling average\"}, {\"Dates\": \"2020-04-20\", \"New_deaths\": 6, \"Rolling\": 8.142857142857142, \"Daily confirmed deaths\": \"Daily confirmed deaths\", \"7-day rolling average\": \"7-day rolling average\"}, {\"Dates\": \"2020-04-21\", \"New_deaths\": 8, \"Rolling\": 7.857142857142857, \"Daily confirmed deaths\": \"Daily confirmed deaths\", \"7-day rolling average\": \"7-day rolling average\"}, {\"Dates\": \"2020-04-22\", \"New_deaths\": 13, \"Rolling\": 9.428571428571429, \"Daily confirmed deaths\": \"Daily confirmed deaths\", \"7-day rolling average\": \"7-day rolling average\"}, {\"Dates\": \"2020-04-23\", \"New_deaths\": 8, \"Rolling\": 9.0, \"Daily confirmed deaths\": \"Daily confirmed deaths\", \"7-day rolling average\": \"7-day rolling average\"}, {\"Dates\": \"2020-04-24\", \"New_deaths\": 6, \"Rolling\": 8.285714285714286, \"Daily confirmed deaths\": \"Daily confirmed deaths\", \"7-day rolling average\": \"7-day rolling average\"}, {\"Dates\": \"2020-04-25\", \"New_deaths\": 7, \"Rolling\": 7.857142857142857, \"Daily confirmed deaths\": \"Daily confirmed deaths\", \"7-day rolling average\": \"7-day rolling average\"}, {\"Dates\": \"2020-04-26\", \"New_deaths\": 8, \"Rolling\": 8.0, \"Daily confirmed deaths\": \"Daily confirmed deaths\", \"7-day rolling average\": \"7-day rolling average\"}]}}, {\"mode\": \"vega-lite\"});\n",
       "</script>"
      ],
      "text/plain": [
       "alt.LayerChart(...)"
      ]
     },
     "execution_count": 74,
     "metadata": {},
     "output_type": "execute_result"
    }
   ],
   "source": [
    "#hide_input\n",
    "bars, line = my_deaths_plot(region)\n",
    "(bars + line).properties(\n",
    "    title=f'Covid-19 in Chile: Daily confirmed deaths in Chile',\n",
    "    width=600\n",
    ")"
   ]
  },
  {
   "cell_type": "markdown",
   "metadata": {},
   "source": [
    "## Arica y Parinacota"
   ]
  },
  {
   "cell_type": "code",
   "execution_count": 75,
   "metadata": {
    "scrolled": true
   },
   "outputs": [],
   "source": [
    "#hide\n",
    "region = \"Arica y Parinacota\""
   ]
  },
  {
   "cell_type": "code",
   "execution_count": 76,
   "metadata": {},
   "outputs": [
    {
     "data": {
      "text/html": [
       "\n",
       "<div id=\"altair-viz-eb4235504b2140fa993c17ee48d04be7\"></div>\n",
       "<script type=\"text/javascript\">\n",
       "  (function(spec, embedOpt){\n",
       "    let outputDiv = document.currentScript.previousElementSibling;\n",
       "    if (outputDiv.id !== \"altair-viz-eb4235504b2140fa993c17ee48d04be7\") {\n",
       "      outputDiv = document.getElementById(\"altair-viz-eb4235504b2140fa993c17ee48d04be7\");\n",
       "    }\n",
       "    const paths = {\n",
       "      \"vega\": \"https://cdn.jsdelivr.net/npm//vega@5?noext\",\n",
       "      \"vega-lib\": \"https://cdn.jsdelivr.net/npm//vega-lib?noext\",\n",
       "      \"vega-lite\": \"https://cdn.jsdelivr.net/npm//vega-lite@4.8.1?noext\",\n",
       "      \"vega-embed\": \"https://cdn.jsdelivr.net/npm//vega-embed@6?noext\",\n",
       "    };\n",
       "\n",
       "    function loadScript(lib) {\n",
       "      return new Promise(function(resolve, reject) {\n",
       "        var s = document.createElement('script');\n",
       "        s.src = paths[lib];\n",
       "        s.async = true;\n",
       "        s.onload = () => resolve(paths[lib]);\n",
       "        s.onerror = () => reject(`Error loading script: ${paths[lib]}`);\n",
       "        document.getElementsByTagName(\"head\")[0].appendChild(s);\n",
       "      });\n",
       "    }\n",
       "\n",
       "    function showError(err) {\n",
       "      outputDiv.innerHTML = `<div class=\"error\" style=\"color:red;\">${err}</div>`;\n",
       "      throw err;\n",
       "    }\n",
       "\n",
       "    function displayChart(vegaEmbed) {\n",
       "      vegaEmbed(outputDiv, spec, embedOpt)\n",
       "        .catch(err => showError(`Javascript Error: ${err.message}<br>This usually means there's a typo in your chart specification. See the javascript console for the full traceback.`));\n",
       "    }\n",
       "\n",
       "    if(typeof define === \"function\" && define.amd) {\n",
       "      requirejs.config({paths});\n",
       "      require([\"vega-embed\"], displayChart, err => showError(`Error loading script: ${err.message}`));\n",
       "    } else if (typeof vegaEmbed === \"function\") {\n",
       "      displayChart(vegaEmbed);\n",
       "    } else {\n",
       "      loadScript(\"vega\")\n",
       "        .then(() => loadScript(\"vega-lite\"))\n",
       "        .then(() => loadScript(\"vega-embed\"))\n",
       "        .catch(showError)\n",
       "        .then(() => displayChart(vegaEmbed));\n",
       "    }\n",
       "  })({\"config\": {\"view\": {\"continuousWidth\": 400, \"continuousHeight\": 300}}, \"layer\": [{\"mark\": {\"type\": \"bar\", \"color\": \"firebrick\", \"opacity\": 0.7}, \"encoding\": {\"opacity\": {\"type\": \"nominal\", \"field\": \"Daily confirmed deaths\", \"legend\": {\"title\": \"\"}}, \"tooltip\": [{\"type\": \"nominal\", \"field\": \"Dates\"}, {\"type\": \"quantitative\", \"field\": \"New_deaths\"}], \"x\": {\"type\": \"nominal\", \"axis\": {\"title\": \"Date\"}, \"field\": \"Dates\"}, \"y\": {\"type\": \"quantitative\", \"axis\": {\"title\": \"Daily confirmed deaths\"}, \"field\": \"New_deaths\"}}}, {\"mark\": {\"type\": \"line\", \"color\": \"firebrick\", \"point\": {\"filled\": true, \"fill\": \"firebrick\"}}, \"encoding\": {\"shape\": {\"type\": \"nominal\", \"field\": \"7-day rolling average\", \"legend\": {\"title\": \"\"}}, \"x\": {\"type\": \"nominal\", \"axis\": {\"title\": \"Date\"}, \"field\": \"Dates\"}, \"y\": {\"type\": \"quantitative\", \"field\": \"Rolling\"}}}], \"data\": {\"name\": \"data-2c5f6e1a0e09ffdea7cdf311b0cb4b74\"}, \"title\": \"Covid-19 in Chile: Daily confirmed deaths in Arica y Parinacota\", \"width\": 600, \"$schema\": \"https://vega.github.io/schema/vega-lite/v4.8.1.json\", \"datasets\": {\"data-2c5f6e1a0e09ffdea7cdf311b0cb4b74\": [{\"Dates\": \"2020-03-25\", \"New_deaths\": 0, \"Rolling\": null, \"Daily confirmed deaths\": \"Daily confirmed deaths\", \"7-day rolling average\": \"7-day rolling average\"}, {\"Dates\": \"2020-03-26\", \"New_deaths\": 0, \"Rolling\": null, \"Daily confirmed deaths\": \"Daily confirmed deaths\", \"7-day rolling average\": \"7-day rolling average\"}, {\"Dates\": \"2020-03-27\", \"New_deaths\": 0, \"Rolling\": null, \"Daily confirmed deaths\": \"Daily confirmed deaths\", \"7-day rolling average\": \"7-day rolling average\"}, {\"Dates\": \"2020-03-28\", \"New_deaths\": 0, \"Rolling\": null, \"Daily confirmed deaths\": \"Daily confirmed deaths\", \"7-day rolling average\": \"7-day rolling average\"}, {\"Dates\": \"2020-03-29\", \"New_deaths\": 0, \"Rolling\": null, \"Daily confirmed deaths\": \"Daily confirmed deaths\", \"7-day rolling average\": \"7-day rolling average\"}, {\"Dates\": \"2020-03-30\", \"New_deaths\": 0, \"Rolling\": null, \"Daily confirmed deaths\": \"Daily confirmed deaths\", \"7-day rolling average\": \"7-day rolling average\"}, {\"Dates\": \"2020-03-31\", \"New_deaths\": 0, \"Rolling\": 0.0, \"Daily confirmed deaths\": \"Daily confirmed deaths\", \"7-day rolling average\": \"7-day rolling average\"}, {\"Dates\": \"2020-04-01\", \"New_deaths\": 0, \"Rolling\": 0.0, \"Daily confirmed deaths\": \"Daily confirmed deaths\", \"7-day rolling average\": \"7-day rolling average\"}, {\"Dates\": \"2020-04-02\", \"New_deaths\": 0, \"Rolling\": 0.0, \"Daily confirmed deaths\": \"Daily confirmed deaths\", \"7-day rolling average\": \"7-day rolling average\"}, {\"Dates\": \"2020-04-03\", \"New_deaths\": 0, \"Rolling\": 0.0, \"Daily confirmed deaths\": \"Daily confirmed deaths\", \"7-day rolling average\": \"7-day rolling average\"}, {\"Dates\": \"2020-04-04\", \"New_deaths\": 0, \"Rolling\": 0.0, \"Daily confirmed deaths\": \"Daily confirmed deaths\", \"7-day rolling average\": \"7-day rolling average\"}, {\"Dates\": \"2020-04-05\", \"New_deaths\": 0, \"Rolling\": 0.0, \"Daily confirmed deaths\": \"Daily confirmed deaths\", \"7-day rolling average\": \"7-day rolling average\"}, {\"Dates\": \"2020-04-06\", \"New_deaths\": 0, \"Rolling\": 0.0, \"Daily confirmed deaths\": \"Daily confirmed deaths\", \"7-day rolling average\": \"7-day rolling average\"}, {\"Dates\": \"2020-04-07\", \"New_deaths\": 0, \"Rolling\": 0.0, \"Daily confirmed deaths\": \"Daily confirmed deaths\", \"7-day rolling average\": \"7-day rolling average\"}, {\"Dates\": \"2020-04-08\", \"New_deaths\": 0, \"Rolling\": 0.0, \"Daily confirmed deaths\": \"Daily confirmed deaths\", \"7-day rolling average\": \"7-day rolling average\"}, {\"Dates\": \"2020-04-09\", \"New_deaths\": 0, \"Rolling\": 0.0, \"Daily confirmed deaths\": \"Daily confirmed deaths\", \"7-day rolling average\": \"7-day rolling average\"}, {\"Dates\": \"2020-04-10\", \"New_deaths\": 0, \"Rolling\": 0.0, \"Daily confirmed deaths\": \"Daily confirmed deaths\", \"7-day rolling average\": \"7-day rolling average\"}, {\"Dates\": \"2020-04-11\", \"New_deaths\": 0, \"Rolling\": 0.0, \"Daily confirmed deaths\": \"Daily confirmed deaths\", \"7-day rolling average\": \"7-day rolling average\"}, {\"Dates\": \"2020-04-12\", \"New_deaths\": 1, \"Rolling\": 0.14285714285714285, \"Daily confirmed deaths\": \"Daily confirmed deaths\", \"7-day rolling average\": \"7-day rolling average\"}, {\"Dates\": \"2020-04-13\", \"New_deaths\": 0, \"Rolling\": 0.14285714285714285, \"Daily confirmed deaths\": \"Daily confirmed deaths\", \"7-day rolling average\": \"7-day rolling average\"}, {\"Dates\": \"2020-04-14\", \"New_deaths\": 0, \"Rolling\": 0.14285714285714285, \"Daily confirmed deaths\": \"Daily confirmed deaths\", \"7-day rolling average\": \"7-day rolling average\"}, {\"Dates\": \"2020-04-15\", \"New_deaths\": 0, \"Rolling\": 0.14285714285714285, \"Daily confirmed deaths\": \"Daily confirmed deaths\", \"7-day rolling average\": \"7-day rolling average\"}, {\"Dates\": \"2020-04-16\", \"New_deaths\": 0, \"Rolling\": 0.14285714285714285, \"Daily confirmed deaths\": \"Daily confirmed deaths\", \"7-day rolling average\": \"7-day rolling average\"}, {\"Dates\": \"2020-04-17\", \"New_deaths\": 1, \"Rolling\": 0.2857142857142857, \"Daily confirmed deaths\": \"Daily confirmed deaths\", \"7-day rolling average\": \"7-day rolling average\"}, {\"Dates\": \"2020-04-18\", \"New_deaths\": 0, \"Rolling\": 0.2857142857142857, \"Daily confirmed deaths\": \"Daily confirmed deaths\", \"7-day rolling average\": \"7-day rolling average\"}, {\"Dates\": \"2020-04-19\", \"New_deaths\": 0, \"Rolling\": 0.14285714285714285, \"Daily confirmed deaths\": \"Daily confirmed deaths\", \"7-day rolling average\": \"7-day rolling average\"}, {\"Dates\": \"2020-04-20\", \"New_deaths\": 0, \"Rolling\": 0.14285714285714285, \"Daily confirmed deaths\": \"Daily confirmed deaths\", \"7-day rolling average\": \"7-day rolling average\"}, {\"Dates\": \"2020-04-21\", \"New_deaths\": 0, \"Rolling\": 0.14285714285714285, \"Daily confirmed deaths\": \"Daily confirmed deaths\", \"7-day rolling average\": \"7-day rolling average\"}, {\"Dates\": \"2020-04-22\", \"New_deaths\": 0, \"Rolling\": 0.14285714285714285, \"Daily confirmed deaths\": \"Daily confirmed deaths\", \"7-day rolling average\": \"7-day rolling average\"}, {\"Dates\": \"2020-04-23\", \"New_deaths\": 0, \"Rolling\": 0.14285714285714285, \"Daily confirmed deaths\": \"Daily confirmed deaths\", \"7-day rolling average\": \"7-day rolling average\"}, {\"Dates\": \"2020-04-24\", \"New_deaths\": 1, \"Rolling\": 0.14285714285714285, \"Daily confirmed deaths\": \"Daily confirmed deaths\", \"7-day rolling average\": \"7-day rolling average\"}, {\"Dates\": \"2020-04-25\", \"New_deaths\": 0, \"Rolling\": 0.14285714285714285, \"Daily confirmed deaths\": \"Daily confirmed deaths\", \"7-day rolling average\": \"7-day rolling average\"}, {\"Dates\": \"2020-04-26\", \"New_deaths\": 0, \"Rolling\": 0.14285714285714285, \"Daily confirmed deaths\": \"Daily confirmed deaths\", \"7-day rolling average\": \"7-day rolling average\"}]}}, {\"mode\": \"vega-lite\"});\n",
       "</script>"
      ],
      "text/plain": [
       "alt.LayerChart(...)"
      ]
     },
     "execution_count": 76,
     "metadata": {},
     "output_type": "execute_result"
    }
   ],
   "source": [
    "#hide_input\n",
    "bars, line = my_deaths_plot(region)\n",
    "(bars + line).properties(\n",
    "    title=f'Covid-19 in Chile: Daily confirmed deaths in {region}',\n",
    "    width=600\n",
    ")"
   ]
  },
  {
   "cell_type": "markdown",
   "metadata": {},
   "source": [
    "## Tarapacá"
   ]
  },
  {
   "cell_type": "code",
   "execution_count": 77,
   "metadata": {
    "scrolled": true
   },
   "outputs": [],
   "source": [
    "#hide\n",
    "region = \"Tarapacá\""
   ]
  },
  {
   "cell_type": "code",
   "execution_count": 78,
   "metadata": {},
   "outputs": [
    {
     "data": {
      "text/html": [
       "\n",
       "<div id=\"altair-viz-f41efae942084d61a5a90c148e2b159a\"></div>\n",
       "<script type=\"text/javascript\">\n",
       "  (function(spec, embedOpt){\n",
       "    let outputDiv = document.currentScript.previousElementSibling;\n",
       "    if (outputDiv.id !== \"altair-viz-f41efae942084d61a5a90c148e2b159a\") {\n",
       "      outputDiv = document.getElementById(\"altair-viz-f41efae942084d61a5a90c148e2b159a\");\n",
       "    }\n",
       "    const paths = {\n",
       "      \"vega\": \"https://cdn.jsdelivr.net/npm//vega@5?noext\",\n",
       "      \"vega-lib\": \"https://cdn.jsdelivr.net/npm//vega-lib?noext\",\n",
       "      \"vega-lite\": \"https://cdn.jsdelivr.net/npm//vega-lite@4.8.1?noext\",\n",
       "      \"vega-embed\": \"https://cdn.jsdelivr.net/npm//vega-embed@6?noext\",\n",
       "    };\n",
       "\n",
       "    function loadScript(lib) {\n",
       "      return new Promise(function(resolve, reject) {\n",
       "        var s = document.createElement('script');\n",
       "        s.src = paths[lib];\n",
       "        s.async = true;\n",
       "        s.onload = () => resolve(paths[lib]);\n",
       "        s.onerror = () => reject(`Error loading script: ${paths[lib]}`);\n",
       "        document.getElementsByTagName(\"head\")[0].appendChild(s);\n",
       "      });\n",
       "    }\n",
       "\n",
       "    function showError(err) {\n",
       "      outputDiv.innerHTML = `<div class=\"error\" style=\"color:red;\">${err}</div>`;\n",
       "      throw err;\n",
       "    }\n",
       "\n",
       "    function displayChart(vegaEmbed) {\n",
       "      vegaEmbed(outputDiv, spec, embedOpt)\n",
       "        .catch(err => showError(`Javascript Error: ${err.message}<br>This usually means there's a typo in your chart specification. See the javascript console for the full traceback.`));\n",
       "    }\n",
       "\n",
       "    if(typeof define === \"function\" && define.amd) {\n",
       "      requirejs.config({paths});\n",
       "      require([\"vega-embed\"], displayChart, err => showError(`Error loading script: ${err.message}`));\n",
       "    } else if (typeof vegaEmbed === \"function\") {\n",
       "      displayChart(vegaEmbed);\n",
       "    } else {\n",
       "      loadScript(\"vega\")\n",
       "        .then(() => loadScript(\"vega-lite\"))\n",
       "        .then(() => loadScript(\"vega-embed\"))\n",
       "        .catch(showError)\n",
       "        .then(() => displayChart(vegaEmbed));\n",
       "    }\n",
       "  })({\"config\": {\"view\": {\"continuousWidth\": 400, \"continuousHeight\": 300}}, \"layer\": [{\"mark\": {\"type\": \"bar\", \"color\": \"firebrick\", \"opacity\": 0.7}, \"encoding\": {\"opacity\": {\"type\": \"nominal\", \"field\": \"Daily confirmed deaths\", \"legend\": {\"title\": \"\"}}, \"tooltip\": [{\"type\": \"nominal\", \"field\": \"Dates\"}, {\"type\": \"quantitative\", \"field\": \"New_deaths\"}], \"x\": {\"type\": \"nominal\", \"axis\": {\"title\": \"Date\"}, \"field\": \"Dates\"}, \"y\": {\"type\": \"quantitative\", \"axis\": {\"title\": \"Daily confirmed deaths\"}, \"field\": \"New_deaths\"}}}, {\"mark\": {\"type\": \"line\", \"color\": \"firebrick\", \"point\": {\"filled\": true, \"fill\": \"firebrick\"}}, \"encoding\": {\"shape\": {\"type\": \"nominal\", \"field\": \"7-day rolling average\", \"legend\": {\"title\": \"\"}}, \"x\": {\"type\": \"nominal\", \"axis\": {\"title\": \"Date\"}, \"field\": \"Dates\"}, \"y\": {\"type\": \"quantitative\", \"field\": \"Rolling\"}}}], \"data\": {\"name\": \"data-f91c516f8d0f19768cd64eea559ebec3\"}, \"title\": \"Covid-19 in Chile: Daily confirmed deaths in Tarapac\\u00e1\", \"width\": 600, \"$schema\": \"https://vega.github.io/schema/vega-lite/v4.8.1.json\", \"datasets\": {\"data-f91c516f8d0f19768cd64eea559ebec3\": [{\"Dates\": \"2020-03-25\", \"New_deaths\": 0, \"Rolling\": null, \"Daily confirmed deaths\": \"Daily confirmed deaths\", \"7-day rolling average\": \"7-day rolling average\"}, {\"Dates\": \"2020-03-26\", \"New_deaths\": 0, \"Rolling\": null, \"Daily confirmed deaths\": \"Daily confirmed deaths\", \"7-day rolling average\": \"7-day rolling average\"}, {\"Dates\": \"2020-03-27\", \"New_deaths\": 0, \"Rolling\": null, \"Daily confirmed deaths\": \"Daily confirmed deaths\", \"7-day rolling average\": \"7-day rolling average\"}, {\"Dates\": \"2020-03-28\", \"New_deaths\": 0, \"Rolling\": null, \"Daily confirmed deaths\": \"Daily confirmed deaths\", \"7-day rolling average\": \"7-day rolling average\"}, {\"Dates\": \"2020-03-29\", \"New_deaths\": 0, \"Rolling\": null, \"Daily confirmed deaths\": \"Daily confirmed deaths\", \"7-day rolling average\": \"7-day rolling average\"}, {\"Dates\": \"2020-03-30\", \"New_deaths\": 0, \"Rolling\": null, \"Daily confirmed deaths\": \"Daily confirmed deaths\", \"7-day rolling average\": \"7-day rolling average\"}, {\"Dates\": \"2020-03-31\", \"New_deaths\": 0, \"Rolling\": 0.0, \"Daily confirmed deaths\": \"Daily confirmed deaths\", \"7-day rolling average\": \"7-day rolling average\"}, {\"Dates\": \"2020-04-01\", \"New_deaths\": 0, \"Rolling\": 0.0, \"Daily confirmed deaths\": \"Daily confirmed deaths\", \"7-day rolling average\": \"7-day rolling average\"}, {\"Dates\": \"2020-04-02\", \"New_deaths\": 0, \"Rolling\": 0.0, \"Daily confirmed deaths\": \"Daily confirmed deaths\", \"7-day rolling average\": \"7-day rolling average\"}, {\"Dates\": \"2020-04-03\", \"New_deaths\": 0, \"Rolling\": 0.0, \"Daily confirmed deaths\": \"Daily confirmed deaths\", \"7-day rolling average\": \"7-day rolling average\"}, {\"Dates\": \"2020-04-04\", \"New_deaths\": 0, \"Rolling\": 0.0, \"Daily confirmed deaths\": \"Daily confirmed deaths\", \"7-day rolling average\": \"7-day rolling average\"}, {\"Dates\": \"2020-04-05\", \"New_deaths\": 0, \"Rolling\": 0.0, \"Daily confirmed deaths\": \"Daily confirmed deaths\", \"7-day rolling average\": \"7-day rolling average\"}, {\"Dates\": \"2020-04-06\", \"New_deaths\": 0, \"Rolling\": 0.0, \"Daily confirmed deaths\": \"Daily confirmed deaths\", \"7-day rolling average\": \"7-day rolling average\"}, {\"Dates\": \"2020-04-07\", \"New_deaths\": 0, \"Rolling\": 0.0, \"Daily confirmed deaths\": \"Daily confirmed deaths\", \"7-day rolling average\": \"7-day rolling average\"}, {\"Dates\": \"2020-04-08\", \"New_deaths\": 0, \"Rolling\": 0.0, \"Daily confirmed deaths\": \"Daily confirmed deaths\", \"7-day rolling average\": \"7-day rolling average\"}, {\"Dates\": \"2020-04-09\", \"New_deaths\": 0, \"Rolling\": 0.0, \"Daily confirmed deaths\": \"Daily confirmed deaths\", \"7-day rolling average\": \"7-day rolling average\"}, {\"Dates\": \"2020-04-10\", \"New_deaths\": 0, \"Rolling\": 0.0, \"Daily confirmed deaths\": \"Daily confirmed deaths\", \"7-day rolling average\": \"7-day rolling average\"}, {\"Dates\": \"2020-04-11\", \"New_deaths\": 0, \"Rolling\": 0.0, \"Daily confirmed deaths\": \"Daily confirmed deaths\", \"7-day rolling average\": \"7-day rolling average\"}, {\"Dates\": \"2020-04-12\", \"New_deaths\": 0, \"Rolling\": 0.0, \"Daily confirmed deaths\": \"Daily confirmed deaths\", \"7-day rolling average\": \"7-day rolling average\"}, {\"Dates\": \"2020-04-13\", \"New_deaths\": 0, \"Rolling\": 0.0, \"Daily confirmed deaths\": \"Daily confirmed deaths\", \"7-day rolling average\": \"7-day rolling average\"}, {\"Dates\": \"2020-04-14\", \"New_deaths\": 0, \"Rolling\": 0.0, \"Daily confirmed deaths\": \"Daily confirmed deaths\", \"7-day rolling average\": \"7-day rolling average\"}, {\"Dates\": \"2020-04-15\", \"New_deaths\": 0, \"Rolling\": 0.0, \"Daily confirmed deaths\": \"Daily confirmed deaths\", \"7-day rolling average\": \"7-day rolling average\"}, {\"Dates\": \"2020-04-16\", \"New_deaths\": 0, \"Rolling\": 0.0, \"Daily confirmed deaths\": \"Daily confirmed deaths\", \"7-day rolling average\": \"7-day rolling average\"}, {\"Dates\": \"2020-04-17\", \"New_deaths\": 0, \"Rolling\": 0.0, \"Daily confirmed deaths\": \"Daily confirmed deaths\", \"7-day rolling average\": \"7-day rolling average\"}, {\"Dates\": \"2020-04-18\", \"New_deaths\": 0, \"Rolling\": 0.0, \"Daily confirmed deaths\": \"Daily confirmed deaths\", \"7-day rolling average\": \"7-day rolling average\"}, {\"Dates\": \"2020-04-19\", \"New_deaths\": 0, \"Rolling\": 0.0, \"Daily confirmed deaths\": \"Daily confirmed deaths\", \"7-day rolling average\": \"7-day rolling average\"}, {\"Dates\": \"2020-04-20\", \"New_deaths\": 0, \"Rolling\": 0.0, \"Daily confirmed deaths\": \"Daily confirmed deaths\", \"7-day rolling average\": \"7-day rolling average\"}, {\"Dates\": \"2020-04-21\", \"New_deaths\": 0, \"Rolling\": 0.0, \"Daily confirmed deaths\": \"Daily confirmed deaths\", \"7-day rolling average\": \"7-day rolling average\"}, {\"Dates\": \"2020-04-22\", \"New_deaths\": 0, \"Rolling\": 0.0, \"Daily confirmed deaths\": \"Daily confirmed deaths\", \"7-day rolling average\": \"7-day rolling average\"}, {\"Dates\": \"2020-04-23\", \"New_deaths\": 0, \"Rolling\": 0.0, \"Daily confirmed deaths\": \"Daily confirmed deaths\", \"7-day rolling average\": \"7-day rolling average\"}, {\"Dates\": \"2020-04-24\", \"New_deaths\": 0, \"Rolling\": 0.0, \"Daily confirmed deaths\": \"Daily confirmed deaths\", \"7-day rolling average\": \"7-day rolling average\"}, {\"Dates\": \"2020-04-25\", \"New_deaths\": 1, \"Rolling\": 0.14285714285714285, \"Daily confirmed deaths\": \"Daily confirmed deaths\", \"7-day rolling average\": \"7-day rolling average\"}, {\"Dates\": \"2020-04-26\", \"New_deaths\": 0, \"Rolling\": 0.14285714285714285, \"Daily confirmed deaths\": \"Daily confirmed deaths\", \"7-day rolling average\": \"7-day rolling average\"}]}}, {\"mode\": \"vega-lite\"});\n",
       "</script>"
      ],
      "text/plain": [
       "alt.LayerChart(...)"
      ]
     },
     "execution_count": 78,
     "metadata": {},
     "output_type": "execute_result"
    }
   ],
   "source": [
    "#hide_input\n",
    "bars, line = my_deaths_plot(region)\n",
    "(bars + line).properties(\n",
    "    title=f'Covid-19 in Chile: Daily confirmed deaths in {region}',\n",
    "    width=600\n",
    ")"
   ]
  },
  {
   "cell_type": "markdown",
   "metadata": {},
   "source": [
    "## Antofagasta"
   ]
  },
  {
   "cell_type": "code",
   "execution_count": 79,
   "metadata": {
    "scrolled": true
   },
   "outputs": [],
   "source": [
    "#hide\n",
    "region = \"Antofagasta\""
   ]
  },
  {
   "cell_type": "code",
   "execution_count": 80,
   "metadata": {},
   "outputs": [
    {
     "data": {
      "text/html": [
       "\n",
       "<div id=\"altair-viz-20708a426a004984969e3e79d279d609\"></div>\n",
       "<script type=\"text/javascript\">\n",
       "  (function(spec, embedOpt){\n",
       "    let outputDiv = document.currentScript.previousElementSibling;\n",
       "    if (outputDiv.id !== \"altair-viz-20708a426a004984969e3e79d279d609\") {\n",
       "      outputDiv = document.getElementById(\"altair-viz-20708a426a004984969e3e79d279d609\");\n",
       "    }\n",
       "    const paths = {\n",
       "      \"vega\": \"https://cdn.jsdelivr.net/npm//vega@5?noext\",\n",
       "      \"vega-lib\": \"https://cdn.jsdelivr.net/npm//vega-lib?noext\",\n",
       "      \"vega-lite\": \"https://cdn.jsdelivr.net/npm//vega-lite@4.8.1?noext\",\n",
       "      \"vega-embed\": \"https://cdn.jsdelivr.net/npm//vega-embed@6?noext\",\n",
       "    };\n",
       "\n",
       "    function loadScript(lib) {\n",
       "      return new Promise(function(resolve, reject) {\n",
       "        var s = document.createElement('script');\n",
       "        s.src = paths[lib];\n",
       "        s.async = true;\n",
       "        s.onload = () => resolve(paths[lib]);\n",
       "        s.onerror = () => reject(`Error loading script: ${paths[lib]}`);\n",
       "        document.getElementsByTagName(\"head\")[0].appendChild(s);\n",
       "      });\n",
       "    }\n",
       "\n",
       "    function showError(err) {\n",
       "      outputDiv.innerHTML = `<div class=\"error\" style=\"color:red;\">${err}</div>`;\n",
       "      throw err;\n",
       "    }\n",
       "\n",
       "    function displayChart(vegaEmbed) {\n",
       "      vegaEmbed(outputDiv, spec, embedOpt)\n",
       "        .catch(err => showError(`Javascript Error: ${err.message}<br>This usually means there's a typo in your chart specification. See the javascript console for the full traceback.`));\n",
       "    }\n",
       "\n",
       "    if(typeof define === \"function\" && define.amd) {\n",
       "      requirejs.config({paths});\n",
       "      require([\"vega-embed\"], displayChart, err => showError(`Error loading script: ${err.message}`));\n",
       "    } else if (typeof vegaEmbed === \"function\") {\n",
       "      displayChart(vegaEmbed);\n",
       "    } else {\n",
       "      loadScript(\"vega\")\n",
       "        .then(() => loadScript(\"vega-lite\"))\n",
       "        .then(() => loadScript(\"vega-embed\"))\n",
       "        .catch(showError)\n",
       "        .then(() => displayChart(vegaEmbed));\n",
       "    }\n",
       "  })({\"config\": {\"view\": {\"continuousWidth\": 400, \"continuousHeight\": 300}}, \"layer\": [{\"mark\": {\"type\": \"bar\", \"color\": \"firebrick\", \"opacity\": 0.7}, \"encoding\": {\"opacity\": {\"type\": \"nominal\", \"field\": \"Daily confirmed deaths\", \"legend\": {\"title\": \"\"}}, \"tooltip\": [{\"type\": \"nominal\", \"field\": \"Dates\"}, {\"type\": \"quantitative\", \"field\": \"New_deaths\"}], \"x\": {\"type\": \"nominal\", \"axis\": {\"title\": \"Date\"}, \"field\": \"Dates\"}, \"y\": {\"type\": \"quantitative\", \"axis\": {\"title\": \"Daily confirmed deaths\"}, \"field\": \"New_deaths\"}}}, {\"mark\": {\"type\": \"line\", \"color\": \"firebrick\", \"point\": {\"filled\": true, \"fill\": \"firebrick\"}}, \"encoding\": {\"shape\": {\"type\": \"nominal\", \"field\": \"7-day rolling average\", \"legend\": {\"title\": \"\"}}, \"x\": {\"type\": \"nominal\", \"axis\": {\"title\": \"Date\"}, \"field\": \"Dates\"}, \"y\": {\"type\": \"quantitative\", \"field\": \"Rolling\"}}}], \"data\": {\"name\": \"data-2c9ebef4dd6e4aa1915472973e17a393\"}, \"title\": \"Covid-19 in Chile: Daily confirmed deaths in Antofagasta\", \"width\": 600, \"$schema\": \"https://vega.github.io/schema/vega-lite/v4.8.1.json\", \"datasets\": {\"data-2c9ebef4dd6e4aa1915472973e17a393\": [{\"Dates\": \"2020-03-25\", \"New_deaths\": 0, \"Rolling\": null, \"Daily confirmed deaths\": \"Daily confirmed deaths\", \"7-day rolling average\": \"7-day rolling average\"}, {\"Dates\": \"2020-03-26\", \"New_deaths\": 0, \"Rolling\": null, \"Daily confirmed deaths\": \"Daily confirmed deaths\", \"7-day rolling average\": \"7-day rolling average\"}, {\"Dates\": \"2020-03-27\", \"New_deaths\": 0, \"Rolling\": null, \"Daily confirmed deaths\": \"Daily confirmed deaths\", \"7-day rolling average\": \"7-day rolling average\"}, {\"Dates\": \"2020-03-28\", \"New_deaths\": 0, \"Rolling\": null, \"Daily confirmed deaths\": \"Daily confirmed deaths\", \"7-day rolling average\": \"7-day rolling average\"}, {\"Dates\": \"2020-03-29\", \"New_deaths\": 0, \"Rolling\": null, \"Daily confirmed deaths\": \"Daily confirmed deaths\", \"7-day rolling average\": \"7-day rolling average\"}, {\"Dates\": \"2020-03-30\", \"New_deaths\": 0, \"Rolling\": null, \"Daily confirmed deaths\": \"Daily confirmed deaths\", \"7-day rolling average\": \"7-day rolling average\"}, {\"Dates\": \"2020-03-31\", \"New_deaths\": 0, \"Rolling\": 0.0, \"Daily confirmed deaths\": \"Daily confirmed deaths\", \"7-day rolling average\": \"7-day rolling average\"}, {\"Dates\": \"2020-04-01\", \"New_deaths\": 0, \"Rolling\": 0.0, \"Daily confirmed deaths\": \"Daily confirmed deaths\", \"7-day rolling average\": \"7-day rolling average\"}, {\"Dates\": \"2020-04-02\", \"New_deaths\": 0, \"Rolling\": 0.0, \"Daily confirmed deaths\": \"Daily confirmed deaths\", \"7-day rolling average\": \"7-day rolling average\"}, {\"Dates\": \"2020-04-03\", \"New_deaths\": 0, \"Rolling\": 0.0, \"Daily confirmed deaths\": \"Daily confirmed deaths\", \"7-day rolling average\": \"7-day rolling average\"}, {\"Dates\": \"2020-04-04\", \"New_deaths\": 0, \"Rolling\": 0.0, \"Daily confirmed deaths\": \"Daily confirmed deaths\", \"7-day rolling average\": \"7-day rolling average\"}, {\"Dates\": \"2020-04-05\", \"New_deaths\": 0, \"Rolling\": 0.0, \"Daily confirmed deaths\": \"Daily confirmed deaths\", \"7-day rolling average\": \"7-day rolling average\"}, {\"Dates\": \"2020-04-06\", \"New_deaths\": 0, \"Rolling\": 0.0, \"Daily confirmed deaths\": \"Daily confirmed deaths\", \"7-day rolling average\": \"7-day rolling average\"}, {\"Dates\": \"2020-04-07\", \"New_deaths\": 1, \"Rolling\": 0.14285714285714285, \"Daily confirmed deaths\": \"Daily confirmed deaths\", \"7-day rolling average\": \"7-day rolling average\"}, {\"Dates\": \"2020-04-08\", \"New_deaths\": 0, \"Rolling\": 0.14285714285714285, \"Daily confirmed deaths\": \"Daily confirmed deaths\", \"7-day rolling average\": \"7-day rolling average\"}, {\"Dates\": \"2020-04-09\", \"New_deaths\": 0, \"Rolling\": 0.14285714285714285, \"Daily confirmed deaths\": \"Daily confirmed deaths\", \"7-day rolling average\": \"7-day rolling average\"}, {\"Dates\": \"2020-04-10\", \"New_deaths\": 0, \"Rolling\": 0.14285714285714285, \"Daily confirmed deaths\": \"Daily confirmed deaths\", \"7-day rolling average\": \"7-day rolling average\"}, {\"Dates\": \"2020-04-11\", \"New_deaths\": 0, \"Rolling\": 0.14285714285714285, \"Daily confirmed deaths\": \"Daily confirmed deaths\", \"7-day rolling average\": \"7-day rolling average\"}, {\"Dates\": \"2020-04-12\", \"New_deaths\": 0, \"Rolling\": 0.14285714285714285, \"Daily confirmed deaths\": \"Daily confirmed deaths\", \"7-day rolling average\": \"7-day rolling average\"}, {\"Dates\": \"2020-04-13\", \"New_deaths\": 0, \"Rolling\": 0.14285714285714285, \"Daily confirmed deaths\": \"Daily confirmed deaths\", \"7-day rolling average\": \"7-day rolling average\"}, {\"Dates\": \"2020-04-14\", \"New_deaths\": 0, \"Rolling\": 0.0, \"Daily confirmed deaths\": \"Daily confirmed deaths\", \"7-day rolling average\": \"7-day rolling average\"}, {\"Dates\": \"2020-04-15\", \"New_deaths\": 0, \"Rolling\": 0.0, \"Daily confirmed deaths\": \"Daily confirmed deaths\", \"7-day rolling average\": \"7-day rolling average\"}, {\"Dates\": \"2020-04-16\", \"New_deaths\": 0, \"Rolling\": 0.0, \"Daily confirmed deaths\": \"Daily confirmed deaths\", \"7-day rolling average\": \"7-day rolling average\"}, {\"Dates\": \"2020-04-17\", \"New_deaths\": 0, \"Rolling\": 0.0, \"Daily confirmed deaths\": \"Daily confirmed deaths\", \"7-day rolling average\": \"7-day rolling average\"}, {\"Dates\": \"2020-04-18\", \"New_deaths\": 0, \"Rolling\": 0.0, \"Daily confirmed deaths\": \"Daily confirmed deaths\", \"7-day rolling average\": \"7-day rolling average\"}, {\"Dates\": \"2020-04-19\", \"New_deaths\": 0, \"Rolling\": 0.0, \"Daily confirmed deaths\": \"Daily confirmed deaths\", \"7-day rolling average\": \"7-day rolling average\"}, {\"Dates\": \"2020-04-20\", \"New_deaths\": 0, \"Rolling\": 0.0, \"Daily confirmed deaths\": \"Daily confirmed deaths\", \"7-day rolling average\": \"7-day rolling average\"}, {\"Dates\": \"2020-04-21\", \"New_deaths\": 0, \"Rolling\": 0.0, \"Daily confirmed deaths\": \"Daily confirmed deaths\", \"7-day rolling average\": \"7-day rolling average\"}, {\"Dates\": \"2020-04-22\", \"New_deaths\": 1, \"Rolling\": 0.14285714285714285, \"Daily confirmed deaths\": \"Daily confirmed deaths\", \"7-day rolling average\": \"7-day rolling average\"}, {\"Dates\": \"2020-04-23\", \"New_deaths\": 0, \"Rolling\": 0.14285714285714285, \"Daily confirmed deaths\": \"Daily confirmed deaths\", \"7-day rolling average\": \"7-day rolling average\"}, {\"Dates\": \"2020-04-24\", \"New_deaths\": 0, \"Rolling\": 0.14285714285714285, \"Daily confirmed deaths\": \"Daily confirmed deaths\", \"7-day rolling average\": \"7-day rolling average\"}, {\"Dates\": \"2020-04-25\", \"New_deaths\": 1, \"Rolling\": 0.2857142857142857, \"Daily confirmed deaths\": \"Daily confirmed deaths\", \"7-day rolling average\": \"7-day rolling average\"}, {\"Dates\": \"2020-04-26\", \"New_deaths\": 1, \"Rolling\": 0.42857142857142855, \"Daily confirmed deaths\": \"Daily confirmed deaths\", \"7-day rolling average\": \"7-day rolling average\"}]}}, {\"mode\": \"vega-lite\"});\n",
       "</script>"
      ],
      "text/plain": [
       "alt.LayerChart(...)"
      ]
     },
     "execution_count": 80,
     "metadata": {},
     "output_type": "execute_result"
    }
   ],
   "source": [
    "#hide_input\n",
    "bars, line = my_deaths_plot(region)\n",
    "(bars + line).properties(\n",
    "    title=f'Covid-19 in Chile: Daily confirmed deaths in {region}',\n",
    "    width=600\n",
    ")"
   ]
  },
  {
   "cell_type": "markdown",
   "metadata": {},
   "source": [
    "## Atacama"
   ]
  },
  {
   "cell_type": "code",
   "execution_count": 81,
   "metadata": {
    "scrolled": true
   },
   "outputs": [],
   "source": [
    "#hide\n",
    "region = \"Atacama\""
   ]
  },
  {
   "cell_type": "code",
   "execution_count": 82,
   "metadata": {},
   "outputs": [
    {
     "data": {
      "text/html": [
       "\n",
       "<div id=\"altair-viz-822175dfd20840709ada74989a8276e1\"></div>\n",
       "<script type=\"text/javascript\">\n",
       "  (function(spec, embedOpt){\n",
       "    let outputDiv = document.currentScript.previousElementSibling;\n",
       "    if (outputDiv.id !== \"altair-viz-822175dfd20840709ada74989a8276e1\") {\n",
       "      outputDiv = document.getElementById(\"altair-viz-822175dfd20840709ada74989a8276e1\");\n",
       "    }\n",
       "    const paths = {\n",
       "      \"vega\": \"https://cdn.jsdelivr.net/npm//vega@5?noext\",\n",
       "      \"vega-lib\": \"https://cdn.jsdelivr.net/npm//vega-lib?noext\",\n",
       "      \"vega-lite\": \"https://cdn.jsdelivr.net/npm//vega-lite@4.8.1?noext\",\n",
       "      \"vega-embed\": \"https://cdn.jsdelivr.net/npm//vega-embed@6?noext\",\n",
       "    };\n",
       "\n",
       "    function loadScript(lib) {\n",
       "      return new Promise(function(resolve, reject) {\n",
       "        var s = document.createElement('script');\n",
       "        s.src = paths[lib];\n",
       "        s.async = true;\n",
       "        s.onload = () => resolve(paths[lib]);\n",
       "        s.onerror = () => reject(`Error loading script: ${paths[lib]}`);\n",
       "        document.getElementsByTagName(\"head\")[0].appendChild(s);\n",
       "      });\n",
       "    }\n",
       "\n",
       "    function showError(err) {\n",
       "      outputDiv.innerHTML = `<div class=\"error\" style=\"color:red;\">${err}</div>`;\n",
       "      throw err;\n",
       "    }\n",
       "\n",
       "    function displayChart(vegaEmbed) {\n",
       "      vegaEmbed(outputDiv, spec, embedOpt)\n",
       "        .catch(err => showError(`Javascript Error: ${err.message}<br>This usually means there's a typo in your chart specification. See the javascript console for the full traceback.`));\n",
       "    }\n",
       "\n",
       "    if(typeof define === \"function\" && define.amd) {\n",
       "      requirejs.config({paths});\n",
       "      require([\"vega-embed\"], displayChart, err => showError(`Error loading script: ${err.message}`));\n",
       "    } else if (typeof vegaEmbed === \"function\") {\n",
       "      displayChart(vegaEmbed);\n",
       "    } else {\n",
       "      loadScript(\"vega\")\n",
       "        .then(() => loadScript(\"vega-lite\"))\n",
       "        .then(() => loadScript(\"vega-embed\"))\n",
       "        .catch(showError)\n",
       "        .then(() => displayChart(vegaEmbed));\n",
       "    }\n",
       "  })({\"config\": {\"view\": {\"continuousWidth\": 400, \"continuousHeight\": 300}}, \"layer\": [{\"mark\": {\"type\": \"bar\", \"color\": \"firebrick\", \"opacity\": 0.7}, \"encoding\": {\"opacity\": {\"type\": \"nominal\", \"field\": \"Daily confirmed deaths\", \"legend\": {\"title\": \"\"}}, \"tooltip\": [{\"type\": \"nominal\", \"field\": \"Dates\"}, {\"type\": \"quantitative\", \"field\": \"New_deaths\"}], \"x\": {\"type\": \"nominal\", \"axis\": {\"title\": \"Date\"}, \"field\": \"Dates\"}, \"y\": {\"type\": \"quantitative\", \"axis\": {\"title\": \"Daily confirmed deaths\"}, \"field\": \"New_deaths\"}}}, {\"mark\": {\"type\": \"line\", \"color\": \"firebrick\", \"point\": {\"filled\": true, \"fill\": \"firebrick\"}}, \"encoding\": {\"shape\": {\"type\": \"nominal\", \"field\": \"7-day rolling average\", \"legend\": {\"title\": \"\"}}, \"x\": {\"type\": \"nominal\", \"axis\": {\"title\": \"Date\"}, \"field\": \"Dates\"}, \"y\": {\"type\": \"quantitative\", \"field\": \"Rolling\"}}}], \"data\": {\"name\": \"data-18ca4da0a7488994013fea763307f02c\"}, \"title\": \"Covid-19 in Chile: Daily confirmed deaths in Atacama\", \"width\": 600, \"$schema\": \"https://vega.github.io/schema/vega-lite/v4.8.1.json\", \"datasets\": {\"data-18ca4da0a7488994013fea763307f02c\": [{\"Dates\": \"2020-03-25\", \"New_deaths\": 0, \"Rolling\": null, \"Daily confirmed deaths\": \"Daily confirmed deaths\", \"7-day rolling average\": \"7-day rolling average\"}, {\"Dates\": \"2020-03-26\", \"New_deaths\": 0, \"Rolling\": null, \"Daily confirmed deaths\": \"Daily confirmed deaths\", \"7-day rolling average\": \"7-day rolling average\"}, {\"Dates\": \"2020-03-27\", \"New_deaths\": 0, \"Rolling\": null, \"Daily confirmed deaths\": \"Daily confirmed deaths\", \"7-day rolling average\": \"7-day rolling average\"}, {\"Dates\": \"2020-03-28\", \"New_deaths\": 0, \"Rolling\": null, \"Daily confirmed deaths\": \"Daily confirmed deaths\", \"7-day rolling average\": \"7-day rolling average\"}, {\"Dates\": \"2020-03-29\", \"New_deaths\": 0, \"Rolling\": null, \"Daily confirmed deaths\": \"Daily confirmed deaths\", \"7-day rolling average\": \"7-day rolling average\"}, {\"Dates\": \"2020-03-30\", \"New_deaths\": 0, \"Rolling\": null, \"Daily confirmed deaths\": \"Daily confirmed deaths\", \"7-day rolling average\": \"7-day rolling average\"}, {\"Dates\": \"2020-03-31\", \"New_deaths\": 0, \"Rolling\": 0.0, \"Daily confirmed deaths\": \"Daily confirmed deaths\", \"7-day rolling average\": \"7-day rolling average\"}, {\"Dates\": \"2020-04-01\", \"New_deaths\": 0, \"Rolling\": 0.0, \"Daily confirmed deaths\": \"Daily confirmed deaths\", \"7-day rolling average\": \"7-day rolling average\"}, {\"Dates\": \"2020-04-02\", \"New_deaths\": 0, \"Rolling\": 0.0, \"Daily confirmed deaths\": \"Daily confirmed deaths\", \"7-day rolling average\": \"7-day rolling average\"}, {\"Dates\": \"2020-04-03\", \"New_deaths\": 0, \"Rolling\": 0.0, \"Daily confirmed deaths\": \"Daily confirmed deaths\", \"7-day rolling average\": \"7-day rolling average\"}, {\"Dates\": \"2020-04-04\", \"New_deaths\": 0, \"Rolling\": 0.0, \"Daily confirmed deaths\": \"Daily confirmed deaths\", \"7-day rolling average\": \"7-day rolling average\"}, {\"Dates\": \"2020-04-05\", \"New_deaths\": 0, \"Rolling\": 0.0, \"Daily confirmed deaths\": \"Daily confirmed deaths\", \"7-day rolling average\": \"7-day rolling average\"}, {\"Dates\": \"2020-04-06\", \"New_deaths\": 0, \"Rolling\": 0.0, \"Daily confirmed deaths\": \"Daily confirmed deaths\", \"7-day rolling average\": \"7-day rolling average\"}, {\"Dates\": \"2020-04-07\", \"New_deaths\": 0, \"Rolling\": 0.0, \"Daily confirmed deaths\": \"Daily confirmed deaths\", \"7-day rolling average\": \"7-day rolling average\"}, {\"Dates\": \"2020-04-08\", \"New_deaths\": 0, \"Rolling\": 0.0, \"Daily confirmed deaths\": \"Daily confirmed deaths\", \"7-day rolling average\": \"7-day rolling average\"}, {\"Dates\": \"2020-04-09\", \"New_deaths\": 0, \"Rolling\": 0.0, \"Daily confirmed deaths\": \"Daily confirmed deaths\", \"7-day rolling average\": \"7-day rolling average\"}, {\"Dates\": \"2020-04-10\", \"New_deaths\": 0, \"Rolling\": 0.0, \"Daily confirmed deaths\": \"Daily confirmed deaths\", \"7-day rolling average\": \"7-day rolling average\"}, {\"Dates\": \"2020-04-11\", \"New_deaths\": 0, \"Rolling\": 0.0, \"Daily confirmed deaths\": \"Daily confirmed deaths\", \"7-day rolling average\": \"7-day rolling average\"}, {\"Dates\": \"2020-04-12\", \"New_deaths\": 0, \"Rolling\": 0.0, \"Daily confirmed deaths\": \"Daily confirmed deaths\", \"7-day rolling average\": \"7-day rolling average\"}, {\"Dates\": \"2020-04-13\", \"New_deaths\": 0, \"Rolling\": 0.0, \"Daily confirmed deaths\": \"Daily confirmed deaths\", \"7-day rolling average\": \"7-day rolling average\"}, {\"Dates\": \"2020-04-14\", \"New_deaths\": 0, \"Rolling\": 0.0, \"Daily confirmed deaths\": \"Daily confirmed deaths\", \"7-day rolling average\": \"7-day rolling average\"}, {\"Dates\": \"2020-04-15\", \"New_deaths\": 0, \"Rolling\": 0.0, \"Daily confirmed deaths\": \"Daily confirmed deaths\", \"7-day rolling average\": \"7-day rolling average\"}, {\"Dates\": \"2020-04-16\", \"New_deaths\": 0, \"Rolling\": 0.0, \"Daily confirmed deaths\": \"Daily confirmed deaths\", \"7-day rolling average\": \"7-day rolling average\"}, {\"Dates\": \"2020-04-17\", \"New_deaths\": 0, \"Rolling\": 0.0, \"Daily confirmed deaths\": \"Daily confirmed deaths\", \"7-day rolling average\": \"7-day rolling average\"}, {\"Dates\": \"2020-04-18\", \"New_deaths\": 0, \"Rolling\": 0.0, \"Daily confirmed deaths\": \"Daily confirmed deaths\", \"7-day rolling average\": \"7-day rolling average\"}, {\"Dates\": \"2020-04-19\", \"New_deaths\": 0, \"Rolling\": 0.0, \"Daily confirmed deaths\": \"Daily confirmed deaths\", \"7-day rolling average\": \"7-day rolling average\"}, {\"Dates\": \"2020-04-20\", \"New_deaths\": 0, \"Rolling\": 0.0, \"Daily confirmed deaths\": \"Daily confirmed deaths\", \"7-day rolling average\": \"7-day rolling average\"}, {\"Dates\": \"2020-04-21\", \"New_deaths\": 0, \"Rolling\": 0.0, \"Daily confirmed deaths\": \"Daily confirmed deaths\", \"7-day rolling average\": \"7-day rolling average\"}, {\"Dates\": \"2020-04-22\", \"New_deaths\": 0, \"Rolling\": 0.0, \"Daily confirmed deaths\": \"Daily confirmed deaths\", \"7-day rolling average\": \"7-day rolling average\"}, {\"Dates\": \"2020-04-23\", \"New_deaths\": 0, \"Rolling\": 0.0, \"Daily confirmed deaths\": \"Daily confirmed deaths\", \"7-day rolling average\": \"7-day rolling average\"}, {\"Dates\": \"2020-04-24\", \"New_deaths\": 0, \"Rolling\": 0.0, \"Daily confirmed deaths\": \"Daily confirmed deaths\", \"7-day rolling average\": \"7-day rolling average\"}, {\"Dates\": \"2020-04-25\", \"New_deaths\": 0, \"Rolling\": 0.0, \"Daily confirmed deaths\": \"Daily confirmed deaths\", \"7-day rolling average\": \"7-day rolling average\"}, {\"Dates\": \"2020-04-26\", \"New_deaths\": 0, \"Rolling\": 0.0, \"Daily confirmed deaths\": \"Daily confirmed deaths\", \"7-day rolling average\": \"7-day rolling average\"}]}}, {\"mode\": \"vega-lite\"});\n",
       "</script>"
      ],
      "text/plain": [
       "alt.LayerChart(...)"
      ]
     },
     "execution_count": 82,
     "metadata": {},
     "output_type": "execute_result"
    }
   ],
   "source": [
    "#hide_input\n",
    "bars, line = my_deaths_plot(region)\n",
    "(bars + line).properties(\n",
    "    title=f'Covid-19 in Chile: Daily confirmed deaths in {region}',\n",
    "    width=600\n",
    ")"
   ]
  },
  {
   "cell_type": "markdown",
   "metadata": {},
   "source": [
    "## Coquimbo"
   ]
  },
  {
   "cell_type": "code",
   "execution_count": 83,
   "metadata": {
    "scrolled": true
   },
   "outputs": [],
   "source": [
    "#hide\n",
    "region = \"Coquimbo\""
   ]
  },
  {
   "cell_type": "code",
   "execution_count": 84,
   "metadata": {},
   "outputs": [
    {
     "data": {
      "text/html": [
       "\n",
       "<div id=\"altair-viz-a69c0e54a06c4f6f8d37c435e3805d48\"></div>\n",
       "<script type=\"text/javascript\">\n",
       "  (function(spec, embedOpt){\n",
       "    let outputDiv = document.currentScript.previousElementSibling;\n",
       "    if (outputDiv.id !== \"altair-viz-a69c0e54a06c4f6f8d37c435e3805d48\") {\n",
       "      outputDiv = document.getElementById(\"altair-viz-a69c0e54a06c4f6f8d37c435e3805d48\");\n",
       "    }\n",
       "    const paths = {\n",
       "      \"vega\": \"https://cdn.jsdelivr.net/npm//vega@5?noext\",\n",
       "      \"vega-lib\": \"https://cdn.jsdelivr.net/npm//vega-lib?noext\",\n",
       "      \"vega-lite\": \"https://cdn.jsdelivr.net/npm//vega-lite@4.8.1?noext\",\n",
       "      \"vega-embed\": \"https://cdn.jsdelivr.net/npm//vega-embed@6?noext\",\n",
       "    };\n",
       "\n",
       "    function loadScript(lib) {\n",
       "      return new Promise(function(resolve, reject) {\n",
       "        var s = document.createElement('script');\n",
       "        s.src = paths[lib];\n",
       "        s.async = true;\n",
       "        s.onload = () => resolve(paths[lib]);\n",
       "        s.onerror = () => reject(`Error loading script: ${paths[lib]}`);\n",
       "        document.getElementsByTagName(\"head\")[0].appendChild(s);\n",
       "      });\n",
       "    }\n",
       "\n",
       "    function showError(err) {\n",
       "      outputDiv.innerHTML = `<div class=\"error\" style=\"color:red;\">${err}</div>`;\n",
       "      throw err;\n",
       "    }\n",
       "\n",
       "    function displayChart(vegaEmbed) {\n",
       "      vegaEmbed(outputDiv, spec, embedOpt)\n",
       "        .catch(err => showError(`Javascript Error: ${err.message}<br>This usually means there's a typo in your chart specification. See the javascript console for the full traceback.`));\n",
       "    }\n",
       "\n",
       "    if(typeof define === \"function\" && define.amd) {\n",
       "      requirejs.config({paths});\n",
       "      require([\"vega-embed\"], displayChart, err => showError(`Error loading script: ${err.message}`));\n",
       "    } else if (typeof vegaEmbed === \"function\") {\n",
       "      displayChart(vegaEmbed);\n",
       "    } else {\n",
       "      loadScript(\"vega\")\n",
       "        .then(() => loadScript(\"vega-lite\"))\n",
       "        .then(() => loadScript(\"vega-embed\"))\n",
       "        .catch(showError)\n",
       "        .then(() => displayChart(vegaEmbed));\n",
       "    }\n",
       "  })({\"config\": {\"view\": {\"continuousWidth\": 400, \"continuousHeight\": 300}}, \"layer\": [{\"mark\": {\"type\": \"bar\", \"color\": \"firebrick\", \"opacity\": 0.7}, \"encoding\": {\"opacity\": {\"type\": \"nominal\", \"field\": \"Daily confirmed deaths\", \"legend\": {\"title\": \"\"}}, \"tooltip\": [{\"type\": \"nominal\", \"field\": \"Dates\"}, {\"type\": \"quantitative\", \"field\": \"New_deaths\"}], \"x\": {\"type\": \"nominal\", \"axis\": {\"title\": \"Date\"}, \"field\": \"Dates\"}, \"y\": {\"type\": \"quantitative\", \"axis\": {\"title\": \"Daily confirmed deaths\"}, \"field\": \"New_deaths\"}}}, {\"mark\": {\"type\": \"line\", \"color\": \"firebrick\", \"point\": {\"filled\": true, \"fill\": \"firebrick\"}}, \"encoding\": {\"shape\": {\"type\": \"nominal\", \"field\": \"7-day rolling average\", \"legend\": {\"title\": \"\"}}, \"x\": {\"type\": \"nominal\", \"axis\": {\"title\": \"Date\"}, \"field\": \"Dates\"}, \"y\": {\"type\": \"quantitative\", \"field\": \"Rolling\"}}}], \"data\": {\"name\": \"data-18ca4da0a7488994013fea763307f02c\"}, \"title\": \"Covid-19 in Chile: Daily confirmed deaths in Coquimbo\", \"width\": 600, \"$schema\": \"https://vega.github.io/schema/vega-lite/v4.8.1.json\", \"datasets\": {\"data-18ca4da0a7488994013fea763307f02c\": [{\"Dates\": \"2020-03-25\", \"New_deaths\": 0, \"Rolling\": null, \"Daily confirmed deaths\": \"Daily confirmed deaths\", \"7-day rolling average\": \"7-day rolling average\"}, {\"Dates\": \"2020-03-26\", \"New_deaths\": 0, \"Rolling\": null, \"Daily confirmed deaths\": \"Daily confirmed deaths\", \"7-day rolling average\": \"7-day rolling average\"}, {\"Dates\": \"2020-03-27\", \"New_deaths\": 0, \"Rolling\": null, \"Daily confirmed deaths\": \"Daily confirmed deaths\", \"7-day rolling average\": \"7-day rolling average\"}, {\"Dates\": \"2020-03-28\", \"New_deaths\": 0, \"Rolling\": null, \"Daily confirmed deaths\": \"Daily confirmed deaths\", \"7-day rolling average\": \"7-day rolling average\"}, {\"Dates\": \"2020-03-29\", \"New_deaths\": 0, \"Rolling\": null, \"Daily confirmed deaths\": \"Daily confirmed deaths\", \"7-day rolling average\": \"7-day rolling average\"}, {\"Dates\": \"2020-03-30\", \"New_deaths\": 0, \"Rolling\": null, \"Daily confirmed deaths\": \"Daily confirmed deaths\", \"7-day rolling average\": \"7-day rolling average\"}, {\"Dates\": \"2020-03-31\", \"New_deaths\": 0, \"Rolling\": 0.0, \"Daily confirmed deaths\": \"Daily confirmed deaths\", \"7-day rolling average\": \"7-day rolling average\"}, {\"Dates\": \"2020-04-01\", \"New_deaths\": 0, \"Rolling\": 0.0, \"Daily confirmed deaths\": \"Daily confirmed deaths\", \"7-day rolling average\": \"7-day rolling average\"}, {\"Dates\": \"2020-04-02\", \"New_deaths\": 0, \"Rolling\": 0.0, \"Daily confirmed deaths\": \"Daily confirmed deaths\", \"7-day rolling average\": \"7-day rolling average\"}, {\"Dates\": \"2020-04-03\", \"New_deaths\": 0, \"Rolling\": 0.0, \"Daily confirmed deaths\": \"Daily confirmed deaths\", \"7-day rolling average\": \"7-day rolling average\"}, {\"Dates\": \"2020-04-04\", \"New_deaths\": 0, \"Rolling\": 0.0, \"Daily confirmed deaths\": \"Daily confirmed deaths\", \"7-day rolling average\": \"7-day rolling average\"}, {\"Dates\": \"2020-04-05\", \"New_deaths\": 0, \"Rolling\": 0.0, \"Daily confirmed deaths\": \"Daily confirmed deaths\", \"7-day rolling average\": \"7-day rolling average\"}, {\"Dates\": \"2020-04-06\", \"New_deaths\": 0, \"Rolling\": 0.0, \"Daily confirmed deaths\": \"Daily confirmed deaths\", \"7-day rolling average\": \"7-day rolling average\"}, {\"Dates\": \"2020-04-07\", \"New_deaths\": 0, \"Rolling\": 0.0, \"Daily confirmed deaths\": \"Daily confirmed deaths\", \"7-day rolling average\": \"7-day rolling average\"}, {\"Dates\": \"2020-04-08\", \"New_deaths\": 0, \"Rolling\": 0.0, \"Daily confirmed deaths\": \"Daily confirmed deaths\", \"7-day rolling average\": \"7-day rolling average\"}, {\"Dates\": \"2020-04-09\", \"New_deaths\": 0, \"Rolling\": 0.0, \"Daily confirmed deaths\": \"Daily confirmed deaths\", \"7-day rolling average\": \"7-day rolling average\"}, {\"Dates\": \"2020-04-10\", \"New_deaths\": 0, \"Rolling\": 0.0, \"Daily confirmed deaths\": \"Daily confirmed deaths\", \"7-day rolling average\": \"7-day rolling average\"}, {\"Dates\": \"2020-04-11\", \"New_deaths\": 0, \"Rolling\": 0.0, \"Daily confirmed deaths\": \"Daily confirmed deaths\", \"7-day rolling average\": \"7-day rolling average\"}, {\"Dates\": \"2020-04-12\", \"New_deaths\": 0, \"Rolling\": 0.0, \"Daily confirmed deaths\": \"Daily confirmed deaths\", \"7-day rolling average\": \"7-day rolling average\"}, {\"Dates\": \"2020-04-13\", \"New_deaths\": 0, \"Rolling\": 0.0, \"Daily confirmed deaths\": \"Daily confirmed deaths\", \"7-day rolling average\": \"7-day rolling average\"}, {\"Dates\": \"2020-04-14\", \"New_deaths\": 0, \"Rolling\": 0.0, \"Daily confirmed deaths\": \"Daily confirmed deaths\", \"7-day rolling average\": \"7-day rolling average\"}, {\"Dates\": \"2020-04-15\", \"New_deaths\": 0, \"Rolling\": 0.0, \"Daily confirmed deaths\": \"Daily confirmed deaths\", \"7-day rolling average\": \"7-day rolling average\"}, {\"Dates\": \"2020-04-16\", \"New_deaths\": 0, \"Rolling\": 0.0, \"Daily confirmed deaths\": \"Daily confirmed deaths\", \"7-day rolling average\": \"7-day rolling average\"}, {\"Dates\": \"2020-04-17\", \"New_deaths\": 0, \"Rolling\": 0.0, \"Daily confirmed deaths\": \"Daily confirmed deaths\", \"7-day rolling average\": \"7-day rolling average\"}, {\"Dates\": \"2020-04-18\", \"New_deaths\": 0, \"Rolling\": 0.0, \"Daily confirmed deaths\": \"Daily confirmed deaths\", \"7-day rolling average\": \"7-day rolling average\"}, {\"Dates\": \"2020-04-19\", \"New_deaths\": 0, \"Rolling\": 0.0, \"Daily confirmed deaths\": \"Daily confirmed deaths\", \"7-day rolling average\": \"7-day rolling average\"}, {\"Dates\": \"2020-04-20\", \"New_deaths\": 0, \"Rolling\": 0.0, \"Daily confirmed deaths\": \"Daily confirmed deaths\", \"7-day rolling average\": \"7-day rolling average\"}, {\"Dates\": \"2020-04-21\", \"New_deaths\": 0, \"Rolling\": 0.0, \"Daily confirmed deaths\": \"Daily confirmed deaths\", \"7-day rolling average\": \"7-day rolling average\"}, {\"Dates\": \"2020-04-22\", \"New_deaths\": 0, \"Rolling\": 0.0, \"Daily confirmed deaths\": \"Daily confirmed deaths\", \"7-day rolling average\": \"7-day rolling average\"}, {\"Dates\": \"2020-04-23\", \"New_deaths\": 0, \"Rolling\": 0.0, \"Daily confirmed deaths\": \"Daily confirmed deaths\", \"7-day rolling average\": \"7-day rolling average\"}, {\"Dates\": \"2020-04-24\", \"New_deaths\": 0, \"Rolling\": 0.0, \"Daily confirmed deaths\": \"Daily confirmed deaths\", \"7-day rolling average\": \"7-day rolling average\"}, {\"Dates\": \"2020-04-25\", \"New_deaths\": 0, \"Rolling\": 0.0, \"Daily confirmed deaths\": \"Daily confirmed deaths\", \"7-day rolling average\": \"7-day rolling average\"}, {\"Dates\": \"2020-04-26\", \"New_deaths\": 0, \"Rolling\": 0.0, \"Daily confirmed deaths\": \"Daily confirmed deaths\", \"7-day rolling average\": \"7-day rolling average\"}]}}, {\"mode\": \"vega-lite\"});\n",
       "</script>"
      ],
      "text/plain": [
       "alt.LayerChart(...)"
      ]
     },
     "execution_count": 84,
     "metadata": {},
     "output_type": "execute_result"
    }
   ],
   "source": [
    "#hide_input\n",
    "bars, line = my_deaths_plot(region)\n",
    "(bars + line).properties(\n",
    "    title=f'Covid-19 in Chile: Daily confirmed deaths in {region}',\n",
    "    width=600\n",
    ")"
   ]
  },
  {
   "cell_type": "markdown",
   "metadata": {},
   "source": [
    "## Valparaíso"
   ]
  },
  {
   "cell_type": "code",
   "execution_count": 85,
   "metadata": {
    "scrolled": false
   },
   "outputs": [],
   "source": [
    "#hide\n",
    "region = \"Valparaíso\""
   ]
  },
  {
   "cell_type": "code",
   "execution_count": 86,
   "metadata": {},
   "outputs": [
    {
     "data": {
      "text/html": [
       "\n",
       "<div id=\"altair-viz-43fd655e624d4da8b49cd0ac68fd73e8\"></div>\n",
       "<script type=\"text/javascript\">\n",
       "  (function(spec, embedOpt){\n",
       "    let outputDiv = document.currentScript.previousElementSibling;\n",
       "    if (outputDiv.id !== \"altair-viz-43fd655e624d4da8b49cd0ac68fd73e8\") {\n",
       "      outputDiv = document.getElementById(\"altair-viz-43fd655e624d4da8b49cd0ac68fd73e8\");\n",
       "    }\n",
       "    const paths = {\n",
       "      \"vega\": \"https://cdn.jsdelivr.net/npm//vega@5?noext\",\n",
       "      \"vega-lib\": \"https://cdn.jsdelivr.net/npm//vega-lib?noext\",\n",
       "      \"vega-lite\": \"https://cdn.jsdelivr.net/npm//vega-lite@4.8.1?noext\",\n",
       "      \"vega-embed\": \"https://cdn.jsdelivr.net/npm//vega-embed@6?noext\",\n",
       "    };\n",
       "\n",
       "    function loadScript(lib) {\n",
       "      return new Promise(function(resolve, reject) {\n",
       "        var s = document.createElement('script');\n",
       "        s.src = paths[lib];\n",
       "        s.async = true;\n",
       "        s.onload = () => resolve(paths[lib]);\n",
       "        s.onerror = () => reject(`Error loading script: ${paths[lib]}`);\n",
       "        document.getElementsByTagName(\"head\")[0].appendChild(s);\n",
       "      });\n",
       "    }\n",
       "\n",
       "    function showError(err) {\n",
       "      outputDiv.innerHTML = `<div class=\"error\" style=\"color:red;\">${err}</div>`;\n",
       "      throw err;\n",
       "    }\n",
       "\n",
       "    function displayChart(vegaEmbed) {\n",
       "      vegaEmbed(outputDiv, spec, embedOpt)\n",
       "        .catch(err => showError(`Javascript Error: ${err.message}<br>This usually means there's a typo in your chart specification. See the javascript console for the full traceback.`));\n",
       "    }\n",
       "\n",
       "    if(typeof define === \"function\" && define.amd) {\n",
       "      requirejs.config({paths});\n",
       "      require([\"vega-embed\"], displayChart, err => showError(`Error loading script: ${err.message}`));\n",
       "    } else if (typeof vegaEmbed === \"function\") {\n",
       "      displayChart(vegaEmbed);\n",
       "    } else {\n",
       "      loadScript(\"vega\")\n",
       "        .then(() => loadScript(\"vega-lite\"))\n",
       "        .then(() => loadScript(\"vega-embed\"))\n",
       "        .catch(showError)\n",
       "        .then(() => displayChart(vegaEmbed));\n",
       "    }\n",
       "  })({\"config\": {\"view\": {\"continuousWidth\": 400, \"continuousHeight\": 300}}, \"layer\": [{\"mark\": {\"type\": \"bar\", \"color\": \"firebrick\", \"opacity\": 0.7}, \"encoding\": {\"opacity\": {\"type\": \"nominal\", \"field\": \"Daily confirmed deaths\", \"legend\": {\"title\": \"\"}}, \"tooltip\": [{\"type\": \"nominal\", \"field\": \"Dates\"}, {\"type\": \"quantitative\", \"field\": \"New_deaths\"}], \"x\": {\"type\": \"nominal\", \"axis\": {\"title\": \"Date\"}, \"field\": \"Dates\"}, \"y\": {\"type\": \"quantitative\", \"axis\": {\"title\": \"Daily confirmed deaths\"}, \"field\": \"New_deaths\"}}}, {\"mark\": {\"type\": \"line\", \"color\": \"firebrick\", \"point\": {\"filled\": true, \"fill\": \"firebrick\"}}, \"encoding\": {\"shape\": {\"type\": \"nominal\", \"field\": \"7-day rolling average\", \"legend\": {\"title\": \"\"}}, \"x\": {\"type\": \"nominal\", \"axis\": {\"title\": \"Date\"}, \"field\": \"Dates\"}, \"y\": {\"type\": \"quantitative\", \"field\": \"Rolling\"}}}], \"data\": {\"name\": \"data-f4b9e137886b4e4f84d35bac618f1a7c\"}, \"title\": \"Covid-19 in Chile: Daily confirmed deaths in Valpara\\u00edso\", \"width\": 600, \"$schema\": \"https://vega.github.io/schema/vega-lite/v4.8.1.json\", \"datasets\": {\"data-f4b9e137886b4e4f84d35bac618f1a7c\": [{\"Dates\": \"2020-03-25\", \"New_deaths\": 0, \"Rolling\": null, \"Daily confirmed deaths\": \"Daily confirmed deaths\", \"7-day rolling average\": \"7-day rolling average\"}, {\"Dates\": \"2020-03-26\", \"New_deaths\": 0, \"Rolling\": null, \"Daily confirmed deaths\": \"Daily confirmed deaths\", \"7-day rolling average\": \"7-day rolling average\"}, {\"Dates\": \"2020-03-27\", \"New_deaths\": 0, \"Rolling\": null, \"Daily confirmed deaths\": \"Daily confirmed deaths\", \"7-day rolling average\": \"7-day rolling average\"}, {\"Dates\": \"2020-03-28\", \"New_deaths\": 0, \"Rolling\": null, \"Daily confirmed deaths\": \"Daily confirmed deaths\", \"7-day rolling average\": \"7-day rolling average\"}, {\"Dates\": \"2020-03-29\", \"New_deaths\": 0, \"Rolling\": null, \"Daily confirmed deaths\": \"Daily confirmed deaths\", \"7-day rolling average\": \"7-day rolling average\"}, {\"Dates\": \"2020-03-30\", \"New_deaths\": 0, \"Rolling\": null, \"Daily confirmed deaths\": \"Daily confirmed deaths\", \"7-day rolling average\": \"7-day rolling average\"}, {\"Dates\": \"2020-03-31\", \"New_deaths\": 1, \"Rolling\": 0.14285714285714285, \"Daily confirmed deaths\": \"Daily confirmed deaths\", \"7-day rolling average\": \"7-day rolling average\"}, {\"Dates\": \"2020-04-01\", \"New_deaths\": 0, \"Rolling\": 0.14285714285714285, \"Daily confirmed deaths\": \"Daily confirmed deaths\", \"7-day rolling average\": \"7-day rolling average\"}, {\"Dates\": \"2020-04-02\", \"New_deaths\": 0, \"Rolling\": 0.14285714285714285, \"Daily confirmed deaths\": \"Daily confirmed deaths\", \"7-day rolling average\": \"7-day rolling average\"}, {\"Dates\": \"2020-04-03\", \"New_deaths\": 0, \"Rolling\": 0.14285714285714285, \"Daily confirmed deaths\": \"Daily confirmed deaths\", \"7-day rolling average\": \"7-day rolling average\"}, {\"Dates\": \"2020-04-04\", \"New_deaths\": 0, \"Rolling\": 0.14285714285714285, \"Daily confirmed deaths\": \"Daily confirmed deaths\", \"7-day rolling average\": \"7-day rolling average\"}, {\"Dates\": \"2020-04-05\", \"New_deaths\": 0, \"Rolling\": 0.14285714285714285, \"Daily confirmed deaths\": \"Daily confirmed deaths\", \"7-day rolling average\": \"7-day rolling average\"}, {\"Dates\": \"2020-04-06\", \"New_deaths\": 0, \"Rolling\": 0.14285714285714285, \"Daily confirmed deaths\": \"Daily confirmed deaths\", \"7-day rolling average\": \"7-day rolling average\"}, {\"Dates\": \"2020-04-07\", \"New_deaths\": 0, \"Rolling\": 0.0, \"Daily confirmed deaths\": \"Daily confirmed deaths\", \"7-day rolling average\": \"7-day rolling average\"}, {\"Dates\": \"2020-04-08\", \"New_deaths\": 1, \"Rolling\": 0.14285714285714285, \"Daily confirmed deaths\": \"Daily confirmed deaths\", \"7-day rolling average\": \"7-day rolling average\"}, {\"Dates\": \"2020-04-09\", \"New_deaths\": 0, \"Rolling\": 0.14285714285714285, \"Daily confirmed deaths\": \"Daily confirmed deaths\", \"7-day rolling average\": \"7-day rolling average\"}, {\"Dates\": \"2020-04-10\", \"New_deaths\": 0, \"Rolling\": 0.14285714285714285, \"Daily confirmed deaths\": \"Daily confirmed deaths\", \"7-day rolling average\": \"7-day rolling average\"}, {\"Dates\": \"2020-04-11\", \"New_deaths\": 0, \"Rolling\": 0.14285714285714285, \"Daily confirmed deaths\": \"Daily confirmed deaths\", \"7-day rolling average\": \"7-day rolling average\"}, {\"Dates\": \"2020-04-12\", \"New_deaths\": 0, \"Rolling\": 0.14285714285714285, \"Daily confirmed deaths\": \"Daily confirmed deaths\", \"7-day rolling average\": \"7-day rolling average\"}, {\"Dates\": \"2020-04-13\", \"New_deaths\": 0, \"Rolling\": 0.14285714285714285, \"Daily confirmed deaths\": \"Daily confirmed deaths\", \"7-day rolling average\": \"7-day rolling average\"}, {\"Dates\": \"2020-04-14\", \"New_deaths\": 0, \"Rolling\": 0.14285714285714285, \"Daily confirmed deaths\": \"Daily confirmed deaths\", \"7-day rolling average\": \"7-day rolling average\"}, {\"Dates\": \"2020-04-15\", \"New_deaths\": 0, \"Rolling\": 0.0, \"Daily confirmed deaths\": \"Daily confirmed deaths\", \"7-day rolling average\": \"7-day rolling average\"}, {\"Dates\": \"2020-04-16\", \"New_deaths\": 2, \"Rolling\": 0.2857142857142857, \"Daily confirmed deaths\": \"Daily confirmed deaths\", \"7-day rolling average\": \"7-day rolling average\"}, {\"Dates\": \"2020-04-17\", \"New_deaths\": 0, \"Rolling\": 0.2857142857142857, \"Daily confirmed deaths\": \"Daily confirmed deaths\", \"7-day rolling average\": \"7-day rolling average\"}, {\"Dates\": \"2020-04-18\", \"New_deaths\": 0, \"Rolling\": 0.2857142857142857, \"Daily confirmed deaths\": \"Daily confirmed deaths\", \"7-day rolling average\": \"7-day rolling average\"}, {\"Dates\": \"2020-04-19\", \"New_deaths\": 1, \"Rolling\": 0.42857142857142855, \"Daily confirmed deaths\": \"Daily confirmed deaths\", \"7-day rolling average\": \"7-day rolling average\"}, {\"Dates\": \"2020-04-20\", \"New_deaths\": 0, \"Rolling\": 0.42857142857142855, \"Daily confirmed deaths\": \"Daily confirmed deaths\", \"7-day rolling average\": \"7-day rolling average\"}, {\"Dates\": \"2020-04-21\", \"New_deaths\": 1, \"Rolling\": 0.5714285714285714, \"Daily confirmed deaths\": \"Daily confirmed deaths\", \"7-day rolling average\": \"7-day rolling average\"}, {\"Dates\": \"2020-04-22\", \"New_deaths\": 1, \"Rolling\": 0.7142857142857143, \"Daily confirmed deaths\": \"Daily confirmed deaths\", \"7-day rolling average\": \"7-day rolling average\"}, {\"Dates\": \"2020-04-23\", \"New_deaths\": 0, \"Rolling\": 0.42857142857142855, \"Daily confirmed deaths\": \"Daily confirmed deaths\", \"7-day rolling average\": \"7-day rolling average\"}, {\"Dates\": \"2020-04-24\", \"New_deaths\": 1, \"Rolling\": 0.5714285714285714, \"Daily confirmed deaths\": \"Daily confirmed deaths\", \"7-day rolling average\": \"7-day rolling average\"}, {\"Dates\": \"2020-04-25\", \"New_deaths\": 1, \"Rolling\": 0.7142857142857143, \"Daily confirmed deaths\": \"Daily confirmed deaths\", \"7-day rolling average\": \"7-day rolling average\"}, {\"Dates\": \"2020-04-26\", \"New_deaths\": 0, \"Rolling\": 0.5714285714285714, \"Daily confirmed deaths\": \"Daily confirmed deaths\", \"7-day rolling average\": \"7-day rolling average\"}]}}, {\"mode\": \"vega-lite\"});\n",
       "</script>"
      ],
      "text/plain": [
       "alt.LayerChart(...)"
      ]
     },
     "execution_count": 86,
     "metadata": {},
     "output_type": "execute_result"
    }
   ],
   "source": [
    "#hide_input\n",
    "bars, line = my_deaths_plot(region)\n",
    "(bars + line).properties(\n",
    "    title=f'Covid-19 in Chile: Daily confirmed deaths in {region}',\n",
    "    width=600\n",
    ")"
   ]
  },
  {
   "cell_type": "markdown",
   "metadata": {},
   "source": [
    "## Metropolitana"
   ]
  },
  {
   "cell_type": "code",
   "execution_count": 87,
   "metadata": {
    "scrolled": true
   },
   "outputs": [],
   "source": [
    "#hide\n",
    "region = \"Metropolitana\""
   ]
  },
  {
   "cell_type": "code",
   "execution_count": 88,
   "metadata": {},
   "outputs": [
    {
     "data": {
      "text/html": [
       "\n",
       "<div id=\"altair-viz-9b11b8b827214da8aa09d1f491c07efa\"></div>\n",
       "<script type=\"text/javascript\">\n",
       "  (function(spec, embedOpt){\n",
       "    let outputDiv = document.currentScript.previousElementSibling;\n",
       "    if (outputDiv.id !== \"altair-viz-9b11b8b827214da8aa09d1f491c07efa\") {\n",
       "      outputDiv = document.getElementById(\"altair-viz-9b11b8b827214da8aa09d1f491c07efa\");\n",
       "    }\n",
       "    const paths = {\n",
       "      \"vega\": \"https://cdn.jsdelivr.net/npm//vega@5?noext\",\n",
       "      \"vega-lib\": \"https://cdn.jsdelivr.net/npm//vega-lib?noext\",\n",
       "      \"vega-lite\": \"https://cdn.jsdelivr.net/npm//vega-lite@4.8.1?noext\",\n",
       "      \"vega-embed\": \"https://cdn.jsdelivr.net/npm//vega-embed@6?noext\",\n",
       "    };\n",
       "\n",
       "    function loadScript(lib) {\n",
       "      return new Promise(function(resolve, reject) {\n",
       "        var s = document.createElement('script');\n",
       "        s.src = paths[lib];\n",
       "        s.async = true;\n",
       "        s.onload = () => resolve(paths[lib]);\n",
       "        s.onerror = () => reject(`Error loading script: ${paths[lib]}`);\n",
       "        document.getElementsByTagName(\"head\")[0].appendChild(s);\n",
       "      });\n",
       "    }\n",
       "\n",
       "    function showError(err) {\n",
       "      outputDiv.innerHTML = `<div class=\"error\" style=\"color:red;\">${err}</div>`;\n",
       "      throw err;\n",
       "    }\n",
       "\n",
       "    function displayChart(vegaEmbed) {\n",
       "      vegaEmbed(outputDiv, spec, embedOpt)\n",
       "        .catch(err => showError(`Javascript Error: ${err.message}<br>This usually means there's a typo in your chart specification. See the javascript console for the full traceback.`));\n",
       "    }\n",
       "\n",
       "    if(typeof define === \"function\" && define.amd) {\n",
       "      requirejs.config({paths});\n",
       "      require([\"vega-embed\"], displayChart, err => showError(`Error loading script: ${err.message}`));\n",
       "    } else if (typeof vegaEmbed === \"function\") {\n",
       "      displayChart(vegaEmbed);\n",
       "    } else {\n",
       "      loadScript(\"vega\")\n",
       "        .then(() => loadScript(\"vega-lite\"))\n",
       "        .then(() => loadScript(\"vega-embed\"))\n",
       "        .catch(showError)\n",
       "        .then(() => displayChart(vegaEmbed));\n",
       "    }\n",
       "  })({\"config\": {\"view\": {\"continuousWidth\": 400, \"continuousHeight\": 300}}, \"layer\": [{\"mark\": {\"type\": \"bar\", \"color\": \"firebrick\", \"opacity\": 0.7}, \"encoding\": {\"opacity\": {\"type\": \"nominal\", \"field\": \"Daily confirmed deaths\", \"legend\": {\"title\": \"\"}}, \"tooltip\": [{\"type\": \"nominal\", \"field\": \"Dates\"}, {\"type\": \"quantitative\", \"field\": \"New_deaths\"}], \"x\": {\"type\": \"nominal\", \"axis\": {\"title\": \"Date\"}, \"field\": \"Dates\"}, \"y\": {\"type\": \"quantitative\", \"axis\": {\"title\": \"Daily confirmed deaths\"}, \"field\": \"New_deaths\"}}}, {\"mark\": {\"type\": \"line\", \"color\": \"firebrick\", \"point\": {\"filled\": true, \"fill\": \"firebrick\"}}, \"encoding\": {\"shape\": {\"type\": \"nominal\", \"field\": \"7-day rolling average\", \"legend\": {\"title\": \"\"}}, \"x\": {\"type\": \"nominal\", \"axis\": {\"title\": \"Date\"}, \"field\": \"Dates\"}, \"y\": {\"type\": \"quantitative\", \"field\": \"Rolling\"}}}], \"data\": {\"name\": \"data-6e621feaceeb0e7f364afc428dc9a6c6\"}, \"title\": \"Covid-19 in Chile: Daily confirmed deaths in Metropolitana\", \"width\": 600, \"$schema\": \"https://vega.github.io/schema/vega-lite/v4.8.1.json\", \"datasets\": {\"data-6e621feaceeb0e7f364afc428dc9a6c6\": [{\"Dates\": \"2020-03-25\", \"New_deaths\": 0, \"Rolling\": null, \"Daily confirmed deaths\": \"Daily confirmed deaths\", \"7-day rolling average\": \"7-day rolling average\"}, {\"Dates\": \"2020-03-26\", \"New_deaths\": 1, \"Rolling\": null, \"Daily confirmed deaths\": \"Daily confirmed deaths\", \"7-day rolling average\": \"7-day rolling average\"}, {\"Dates\": \"2020-03-27\", \"New_deaths\": 0, \"Rolling\": null, \"Daily confirmed deaths\": \"Daily confirmed deaths\", \"7-day rolling average\": \"7-day rolling average\"}, {\"Dates\": \"2020-03-28\", \"New_deaths\": 0, \"Rolling\": null, \"Daily confirmed deaths\": \"Daily confirmed deaths\", \"7-day rolling average\": \"7-day rolling average\"}, {\"Dates\": \"2020-03-29\", \"New_deaths\": 0, \"Rolling\": null, \"Daily confirmed deaths\": \"Daily confirmed deaths\", \"7-day rolling average\": \"7-day rolling average\"}, {\"Dates\": \"2020-03-30\", \"New_deaths\": 0, \"Rolling\": null, \"Daily confirmed deaths\": \"Daily confirmed deaths\", \"7-day rolling average\": \"7-day rolling average\"}, {\"Dates\": \"2020-03-31\", \"New_deaths\": 1, \"Rolling\": 0.2857142857142857, \"Daily confirmed deaths\": \"Daily confirmed deaths\", \"7-day rolling average\": \"7-day rolling average\"}, {\"Dates\": \"2020-04-01\", \"New_deaths\": 1, \"Rolling\": 0.42857142857142855, \"Daily confirmed deaths\": \"Daily confirmed deaths\", \"7-day rolling average\": \"7-day rolling average\"}, {\"Dates\": \"2020-04-02\", \"New_deaths\": 1, \"Rolling\": 0.42857142857142855, \"Daily confirmed deaths\": \"Daily confirmed deaths\", \"7-day rolling average\": \"7-day rolling average\"}, {\"Dates\": \"2020-04-03\", \"New_deaths\": 2, \"Rolling\": 0.7142857142857143, \"Daily confirmed deaths\": \"Daily confirmed deaths\", \"7-day rolling average\": \"7-day rolling average\"}, {\"Dates\": \"2020-04-04\", \"New_deaths\": 1, \"Rolling\": 0.8571428571428571, \"Daily confirmed deaths\": \"Daily confirmed deaths\", \"7-day rolling average\": \"7-day rolling average\"}, {\"Dates\": \"2020-04-05\", \"New_deaths\": 1, \"Rolling\": 1.0, \"Daily confirmed deaths\": \"Daily confirmed deaths\", \"7-day rolling average\": \"7-day rolling average\"}, {\"Dates\": \"2020-04-06\", \"New_deaths\": 0, \"Rolling\": 1.0, \"Daily confirmed deaths\": \"Daily confirmed deaths\", \"7-day rolling average\": \"7-day rolling average\"}, {\"Dates\": \"2020-04-07\", \"New_deaths\": 2, \"Rolling\": 1.1428571428571428, \"Daily confirmed deaths\": \"Daily confirmed deaths\", \"7-day rolling average\": \"7-day rolling average\"}, {\"Dates\": \"2020-04-08\", \"New_deaths\": 2, \"Rolling\": 1.2857142857142858, \"Daily confirmed deaths\": \"Daily confirmed deaths\", \"7-day rolling average\": \"7-day rolling average\"}, {\"Dates\": \"2020-04-09\", \"New_deaths\": 7, \"Rolling\": 2.142857142857143, \"Daily confirmed deaths\": \"Daily confirmed deaths\", \"7-day rolling average\": \"7-day rolling average\"}, {\"Dates\": \"2020-04-10\", \"New_deaths\": 8, \"Rolling\": 3.0, \"Daily confirmed deaths\": \"Daily confirmed deaths\", \"7-day rolling average\": \"7-day rolling average\"}, {\"Dates\": \"2020-04-11\", \"New_deaths\": 3, \"Rolling\": 3.2857142857142856, \"Daily confirmed deaths\": \"Daily confirmed deaths\", \"7-day rolling average\": \"7-day rolling average\"}, {\"Dates\": \"2020-04-12\", \"New_deaths\": 3, \"Rolling\": 3.5714285714285716, \"Daily confirmed deaths\": \"Daily confirmed deaths\", \"7-day rolling average\": \"7-day rolling average\"}, {\"Dates\": \"2020-04-13\", \"New_deaths\": 1, \"Rolling\": 3.7142857142857144, \"Daily confirmed deaths\": \"Daily confirmed deaths\", \"7-day rolling average\": \"7-day rolling average\"}, {\"Dates\": \"2020-04-14\", \"New_deaths\": 4, \"Rolling\": 4.0, \"Daily confirmed deaths\": \"Daily confirmed deaths\", \"7-day rolling average\": \"7-day rolling average\"}, {\"Dates\": \"2020-04-15\", \"New_deaths\": 1, \"Rolling\": 3.857142857142857, \"Daily confirmed deaths\": \"Daily confirmed deaths\", \"7-day rolling average\": \"7-day rolling average\"}, {\"Dates\": \"2020-04-16\", \"New_deaths\": 7, \"Rolling\": 3.857142857142857, \"Daily confirmed deaths\": \"Daily confirmed deaths\", \"7-day rolling average\": \"7-day rolling average\"}, {\"Dates\": \"2020-04-17\", \"New_deaths\": 3, \"Rolling\": 3.142857142857143, \"Daily confirmed deaths\": \"Daily confirmed deaths\", \"7-day rolling average\": \"7-day rolling average\"}, {\"Dates\": \"2020-04-18\", \"New_deaths\": 7, \"Rolling\": 3.7142857142857144, \"Daily confirmed deaths\": \"Daily confirmed deaths\", \"7-day rolling average\": \"7-day rolling average\"}, {\"Dates\": \"2020-04-19\", \"New_deaths\": 5, \"Rolling\": 4.0, \"Daily confirmed deaths\": \"Daily confirmed deaths\", \"7-day rolling average\": \"7-day rolling average\"}, {\"Dates\": \"2020-04-20\", \"New_deaths\": 4, \"Rolling\": 4.428571428571429, \"Daily confirmed deaths\": \"Daily confirmed deaths\", \"7-day rolling average\": \"7-day rolling average\"}, {\"Dates\": \"2020-04-21\", \"New_deaths\": 2, \"Rolling\": 4.142857142857143, \"Daily confirmed deaths\": \"Daily confirmed deaths\", \"7-day rolling average\": \"7-day rolling average\"}, {\"Dates\": \"2020-04-22\", \"New_deaths\": 9, \"Rolling\": 5.285714285714286, \"Daily confirmed deaths\": \"Daily confirmed deaths\", \"7-day rolling average\": \"7-day rolling average\"}, {\"Dates\": \"2020-04-23\", \"New_deaths\": 7, \"Rolling\": 5.285714285714286, \"Daily confirmed deaths\": \"Daily confirmed deaths\", \"7-day rolling average\": \"7-day rolling average\"}, {\"Dates\": \"2020-04-24\", \"New_deaths\": 1, \"Rolling\": 5.0, \"Daily confirmed deaths\": \"Daily confirmed deaths\", \"7-day rolling average\": \"7-day rolling average\"}, {\"Dates\": \"2020-04-25\", \"New_deaths\": 3, \"Rolling\": 4.428571428571429, \"Daily confirmed deaths\": \"Daily confirmed deaths\", \"7-day rolling average\": \"7-day rolling average\"}, {\"Dates\": \"2020-04-26\", \"New_deaths\": 2, \"Rolling\": 4.0, \"Daily confirmed deaths\": \"Daily confirmed deaths\", \"7-day rolling average\": \"7-day rolling average\"}]}}, {\"mode\": \"vega-lite\"});\n",
       "</script>"
      ],
      "text/plain": [
       "alt.LayerChart(...)"
      ]
     },
     "execution_count": 88,
     "metadata": {},
     "output_type": "execute_result"
    }
   ],
   "source": [
    "#hide_input\n",
    "bars, line = my_deaths_plot(region)\n",
    "(bars + line).properties(\n",
    "    title=f'Covid-19 in Chile: Daily confirmed deaths in {region}',\n",
    "    width=600\n",
    ")"
   ]
  },
  {
   "cell_type": "markdown",
   "metadata": {},
   "source": [
    "## O’Higgins"
   ]
  },
  {
   "cell_type": "code",
   "execution_count": 89,
   "metadata": {
    "scrolled": true
   },
   "outputs": [],
   "source": [
    "#hide\n",
    "region = \"O’Higgins\""
   ]
  },
  {
   "cell_type": "code",
   "execution_count": 90,
   "metadata": {},
   "outputs": [
    {
     "data": {
      "text/html": [
       "\n",
       "<div id=\"altair-viz-ef3b6c0818464e0c9c281da7f30b51c3\"></div>\n",
       "<script type=\"text/javascript\">\n",
       "  (function(spec, embedOpt){\n",
       "    let outputDiv = document.currentScript.previousElementSibling;\n",
       "    if (outputDiv.id !== \"altair-viz-ef3b6c0818464e0c9c281da7f30b51c3\") {\n",
       "      outputDiv = document.getElementById(\"altair-viz-ef3b6c0818464e0c9c281da7f30b51c3\");\n",
       "    }\n",
       "    const paths = {\n",
       "      \"vega\": \"https://cdn.jsdelivr.net/npm//vega@5?noext\",\n",
       "      \"vega-lib\": \"https://cdn.jsdelivr.net/npm//vega-lib?noext\",\n",
       "      \"vega-lite\": \"https://cdn.jsdelivr.net/npm//vega-lite@4.8.1?noext\",\n",
       "      \"vega-embed\": \"https://cdn.jsdelivr.net/npm//vega-embed@6?noext\",\n",
       "    };\n",
       "\n",
       "    function loadScript(lib) {\n",
       "      return new Promise(function(resolve, reject) {\n",
       "        var s = document.createElement('script');\n",
       "        s.src = paths[lib];\n",
       "        s.async = true;\n",
       "        s.onload = () => resolve(paths[lib]);\n",
       "        s.onerror = () => reject(`Error loading script: ${paths[lib]}`);\n",
       "        document.getElementsByTagName(\"head\")[0].appendChild(s);\n",
       "      });\n",
       "    }\n",
       "\n",
       "    function showError(err) {\n",
       "      outputDiv.innerHTML = `<div class=\"error\" style=\"color:red;\">${err}</div>`;\n",
       "      throw err;\n",
       "    }\n",
       "\n",
       "    function displayChart(vegaEmbed) {\n",
       "      vegaEmbed(outputDiv, spec, embedOpt)\n",
       "        .catch(err => showError(`Javascript Error: ${err.message}<br>This usually means there's a typo in your chart specification. See the javascript console for the full traceback.`));\n",
       "    }\n",
       "\n",
       "    if(typeof define === \"function\" && define.amd) {\n",
       "      requirejs.config({paths});\n",
       "      require([\"vega-embed\"], displayChart, err => showError(`Error loading script: ${err.message}`));\n",
       "    } else if (typeof vegaEmbed === \"function\") {\n",
       "      displayChart(vegaEmbed);\n",
       "    } else {\n",
       "      loadScript(\"vega\")\n",
       "        .then(() => loadScript(\"vega-lite\"))\n",
       "        .then(() => loadScript(\"vega-embed\"))\n",
       "        .catch(showError)\n",
       "        .then(() => displayChart(vegaEmbed));\n",
       "    }\n",
       "  })({\"config\": {\"view\": {\"continuousWidth\": 400, \"continuousHeight\": 300}}, \"layer\": [{\"mark\": {\"type\": \"bar\", \"color\": \"firebrick\", \"opacity\": 0.7}, \"encoding\": {\"opacity\": {\"type\": \"nominal\", \"field\": \"Daily confirmed deaths\", \"legend\": {\"title\": \"\"}}, \"tooltip\": [{\"type\": \"nominal\", \"field\": \"Dates\"}, {\"type\": \"quantitative\", \"field\": \"New_deaths\"}], \"x\": {\"type\": \"nominal\", \"axis\": {\"title\": \"Date\"}, \"field\": \"Dates\"}, \"y\": {\"type\": \"quantitative\", \"axis\": {\"title\": \"Daily confirmed deaths\"}, \"field\": \"New_deaths\"}}}, {\"mark\": {\"type\": \"line\", \"color\": \"firebrick\", \"point\": {\"filled\": true, \"fill\": \"firebrick\"}}, \"encoding\": {\"shape\": {\"type\": \"nominal\", \"field\": \"7-day rolling average\", \"legend\": {\"title\": \"\"}}, \"x\": {\"type\": \"nominal\", \"axis\": {\"title\": \"Date\"}, \"field\": \"Dates\"}, \"y\": {\"type\": \"quantitative\", \"field\": \"Rolling\"}}}], \"data\": {\"name\": \"data-2ea36444aab3a320fa62b4344dd5276b\"}, \"title\": \"Covid-19 in Chile: Daily confirmed deaths in O\\u2019Higgins\", \"width\": 600, \"$schema\": \"https://vega.github.io/schema/vega-lite/v4.8.1.json\", \"datasets\": {\"data-2ea36444aab3a320fa62b4344dd5276b\": [{\"Dates\": \"2020-03-25\", \"New_deaths\": 0, \"Rolling\": null, \"Daily confirmed deaths\": \"Daily confirmed deaths\", \"7-day rolling average\": \"7-day rolling average\"}, {\"Dates\": \"2020-03-26\", \"New_deaths\": 0, \"Rolling\": null, \"Daily confirmed deaths\": \"Daily confirmed deaths\", \"7-day rolling average\": \"7-day rolling average\"}, {\"Dates\": \"2020-03-27\", \"New_deaths\": 0, \"Rolling\": null, \"Daily confirmed deaths\": \"Daily confirmed deaths\", \"7-day rolling average\": \"7-day rolling average\"}, {\"Dates\": \"2020-03-28\", \"New_deaths\": 0, \"Rolling\": null, \"Daily confirmed deaths\": \"Daily confirmed deaths\", \"7-day rolling average\": \"7-day rolling average\"}, {\"Dates\": \"2020-03-29\", \"New_deaths\": 0, \"Rolling\": null, \"Daily confirmed deaths\": \"Daily confirmed deaths\", \"7-day rolling average\": \"7-day rolling average\"}, {\"Dates\": \"2020-03-30\", \"New_deaths\": 0, \"Rolling\": null, \"Daily confirmed deaths\": \"Daily confirmed deaths\", \"7-day rolling average\": \"7-day rolling average\"}, {\"Dates\": \"2020-03-31\", \"New_deaths\": 0, \"Rolling\": 0.0, \"Daily confirmed deaths\": \"Daily confirmed deaths\", \"7-day rolling average\": \"7-day rolling average\"}, {\"Dates\": \"2020-04-01\", \"New_deaths\": 0, \"Rolling\": 0.0, \"Daily confirmed deaths\": \"Daily confirmed deaths\", \"7-day rolling average\": \"7-day rolling average\"}, {\"Dates\": \"2020-04-02\", \"New_deaths\": 0, \"Rolling\": 0.0, \"Daily confirmed deaths\": \"Daily confirmed deaths\", \"7-day rolling average\": \"7-day rolling average\"}, {\"Dates\": \"2020-04-03\", \"New_deaths\": 0, \"Rolling\": 0.0, \"Daily confirmed deaths\": \"Daily confirmed deaths\", \"7-day rolling average\": \"7-day rolling average\"}, {\"Dates\": \"2020-04-04\", \"New_deaths\": 0, \"Rolling\": 0.0, \"Daily confirmed deaths\": \"Daily confirmed deaths\", \"7-day rolling average\": \"7-day rolling average\"}, {\"Dates\": \"2020-04-05\", \"New_deaths\": 0, \"Rolling\": 0.0, \"Daily confirmed deaths\": \"Daily confirmed deaths\", \"7-day rolling average\": \"7-day rolling average\"}, {\"Dates\": \"2020-04-06\", \"New_deaths\": 0, \"Rolling\": 0.0, \"Daily confirmed deaths\": \"Daily confirmed deaths\", \"7-day rolling average\": \"7-day rolling average\"}, {\"Dates\": \"2020-04-07\", \"New_deaths\": 0, \"Rolling\": 0.0, \"Daily confirmed deaths\": \"Daily confirmed deaths\", \"7-day rolling average\": \"7-day rolling average\"}, {\"Dates\": \"2020-04-08\", \"New_deaths\": 0, \"Rolling\": 0.0, \"Daily confirmed deaths\": \"Daily confirmed deaths\", \"7-day rolling average\": \"7-day rolling average\"}, {\"Dates\": \"2020-04-09\", \"New_deaths\": 0, \"Rolling\": 0.0, \"Daily confirmed deaths\": \"Daily confirmed deaths\", \"7-day rolling average\": \"7-day rolling average\"}, {\"Dates\": \"2020-04-10\", \"New_deaths\": 0, \"Rolling\": 0.0, \"Daily confirmed deaths\": \"Daily confirmed deaths\", \"7-day rolling average\": \"7-day rolling average\"}, {\"Dates\": \"2020-04-11\", \"New_deaths\": 0, \"Rolling\": 0.0, \"Daily confirmed deaths\": \"Daily confirmed deaths\", \"7-day rolling average\": \"7-day rolling average\"}, {\"Dates\": \"2020-04-12\", \"New_deaths\": 0, \"Rolling\": 0.0, \"Daily confirmed deaths\": \"Daily confirmed deaths\", \"7-day rolling average\": \"7-day rolling average\"}, {\"Dates\": \"2020-04-13\", \"New_deaths\": 0, \"Rolling\": 0.0, \"Daily confirmed deaths\": \"Daily confirmed deaths\", \"7-day rolling average\": \"7-day rolling average\"}, {\"Dates\": \"2020-04-14\", \"New_deaths\": 0, \"Rolling\": 0.0, \"Daily confirmed deaths\": \"Daily confirmed deaths\", \"7-day rolling average\": \"7-day rolling average\"}, {\"Dates\": \"2020-04-15\", \"New_deaths\": 0, \"Rolling\": 0.0, \"Daily confirmed deaths\": \"Daily confirmed deaths\", \"7-day rolling average\": \"7-day rolling average\"}, {\"Dates\": \"2020-04-16\", \"New_deaths\": 0, \"Rolling\": 0.0, \"Daily confirmed deaths\": \"Daily confirmed deaths\", \"7-day rolling average\": \"7-day rolling average\"}, {\"Dates\": \"2020-04-17\", \"New_deaths\": 0, \"Rolling\": 0.0, \"Daily confirmed deaths\": \"Daily confirmed deaths\", \"7-day rolling average\": \"7-day rolling average\"}, {\"Dates\": \"2020-04-18\", \"New_deaths\": 0, \"Rolling\": 0.0, \"Daily confirmed deaths\": \"Daily confirmed deaths\", \"7-day rolling average\": \"7-day rolling average\"}, {\"Dates\": \"2020-04-19\", \"New_deaths\": 0, \"Rolling\": 0.0, \"Daily confirmed deaths\": \"Daily confirmed deaths\", \"7-day rolling average\": \"7-day rolling average\"}, {\"Dates\": \"2020-04-20\", \"New_deaths\": 0, \"Rolling\": 0.0, \"Daily confirmed deaths\": \"Daily confirmed deaths\", \"7-day rolling average\": \"7-day rolling average\"}, {\"Dates\": \"2020-04-21\", \"New_deaths\": 1, \"Rolling\": 0.14285714285714285, \"Daily confirmed deaths\": \"Daily confirmed deaths\", \"7-day rolling average\": \"7-day rolling average\"}, {\"Dates\": \"2020-04-22\", \"New_deaths\": 0, \"Rolling\": 0.14285714285714285, \"Daily confirmed deaths\": \"Daily confirmed deaths\", \"7-day rolling average\": \"7-day rolling average\"}, {\"Dates\": \"2020-04-23\", \"New_deaths\": 0, \"Rolling\": 0.14285714285714285, \"Daily confirmed deaths\": \"Daily confirmed deaths\", \"7-day rolling average\": \"7-day rolling average\"}, {\"Dates\": \"2020-04-24\", \"New_deaths\": 0, \"Rolling\": 0.14285714285714285, \"Daily confirmed deaths\": \"Daily confirmed deaths\", \"7-day rolling average\": \"7-day rolling average\"}, {\"Dates\": \"2020-04-25\", \"New_deaths\": 0, \"Rolling\": 0.14285714285714285, \"Daily confirmed deaths\": \"Daily confirmed deaths\", \"7-day rolling average\": \"7-day rolling average\"}, {\"Dates\": \"2020-04-26\", \"New_deaths\": 0, \"Rolling\": 0.14285714285714285, \"Daily confirmed deaths\": \"Daily confirmed deaths\", \"7-day rolling average\": \"7-day rolling average\"}]}}, {\"mode\": \"vega-lite\"});\n",
       "</script>"
      ],
      "text/plain": [
       "alt.LayerChart(...)"
      ]
     },
     "execution_count": 90,
     "metadata": {},
     "output_type": "execute_result"
    }
   ],
   "source": [
    "#hide_input\n",
    "bars, line = my_deaths_plot(region)\n",
    "(bars + line).properties(\n",
    "    title=f'Covid-19 in Chile: Daily confirmed deaths in {region}',\n",
    "    width=600\n",
    ")"
   ]
  },
  {
   "cell_type": "markdown",
   "metadata": {},
   "source": [
    "## Maule"
   ]
  },
  {
   "cell_type": "code",
   "execution_count": 91,
   "metadata": {
    "scrolled": true
   },
   "outputs": [],
   "source": [
    "#hide\n",
    "region = \"Maule\""
   ]
  },
  {
   "cell_type": "code",
   "execution_count": 92,
   "metadata": {},
   "outputs": [
    {
     "data": {
      "text/html": [
       "\n",
       "<div id=\"altair-viz-6052ea7b89f748e18d4b610c87abf11b\"></div>\n",
       "<script type=\"text/javascript\">\n",
       "  (function(spec, embedOpt){\n",
       "    let outputDiv = document.currentScript.previousElementSibling;\n",
       "    if (outputDiv.id !== \"altair-viz-6052ea7b89f748e18d4b610c87abf11b\") {\n",
       "      outputDiv = document.getElementById(\"altair-viz-6052ea7b89f748e18d4b610c87abf11b\");\n",
       "    }\n",
       "    const paths = {\n",
       "      \"vega\": \"https://cdn.jsdelivr.net/npm//vega@5?noext\",\n",
       "      \"vega-lib\": \"https://cdn.jsdelivr.net/npm//vega-lib?noext\",\n",
       "      \"vega-lite\": \"https://cdn.jsdelivr.net/npm//vega-lite@4.8.1?noext\",\n",
       "      \"vega-embed\": \"https://cdn.jsdelivr.net/npm//vega-embed@6?noext\",\n",
       "    };\n",
       "\n",
       "    function loadScript(lib) {\n",
       "      return new Promise(function(resolve, reject) {\n",
       "        var s = document.createElement('script');\n",
       "        s.src = paths[lib];\n",
       "        s.async = true;\n",
       "        s.onload = () => resolve(paths[lib]);\n",
       "        s.onerror = () => reject(`Error loading script: ${paths[lib]}`);\n",
       "        document.getElementsByTagName(\"head\")[0].appendChild(s);\n",
       "      });\n",
       "    }\n",
       "\n",
       "    function showError(err) {\n",
       "      outputDiv.innerHTML = `<div class=\"error\" style=\"color:red;\">${err}</div>`;\n",
       "      throw err;\n",
       "    }\n",
       "\n",
       "    function displayChart(vegaEmbed) {\n",
       "      vegaEmbed(outputDiv, spec, embedOpt)\n",
       "        .catch(err => showError(`Javascript Error: ${err.message}<br>This usually means there's a typo in your chart specification. See the javascript console for the full traceback.`));\n",
       "    }\n",
       "\n",
       "    if(typeof define === \"function\" && define.amd) {\n",
       "      requirejs.config({paths});\n",
       "      require([\"vega-embed\"], displayChart, err => showError(`Error loading script: ${err.message}`));\n",
       "    } else if (typeof vegaEmbed === \"function\") {\n",
       "      displayChart(vegaEmbed);\n",
       "    } else {\n",
       "      loadScript(\"vega\")\n",
       "        .then(() => loadScript(\"vega-lite\"))\n",
       "        .then(() => loadScript(\"vega-embed\"))\n",
       "        .catch(showError)\n",
       "        .then(() => displayChart(vegaEmbed));\n",
       "    }\n",
       "  })({\"config\": {\"view\": {\"continuousWidth\": 400, \"continuousHeight\": 300}}, \"layer\": [{\"mark\": {\"type\": \"bar\", \"color\": \"firebrick\", \"opacity\": 0.7}, \"encoding\": {\"opacity\": {\"type\": \"nominal\", \"field\": \"Daily confirmed deaths\", \"legend\": {\"title\": \"\"}}, \"tooltip\": [{\"type\": \"nominal\", \"field\": \"Dates\"}, {\"type\": \"quantitative\", \"field\": \"New_deaths\"}], \"x\": {\"type\": \"nominal\", \"axis\": {\"title\": \"Date\"}, \"field\": \"Dates\"}, \"y\": {\"type\": \"quantitative\", \"axis\": {\"title\": \"Daily confirmed deaths\"}, \"field\": \"New_deaths\"}}}, {\"mark\": {\"type\": \"line\", \"color\": \"firebrick\", \"point\": {\"filled\": true, \"fill\": \"firebrick\"}}, \"encoding\": {\"shape\": {\"type\": \"nominal\", \"field\": \"7-day rolling average\", \"legend\": {\"title\": \"\"}}, \"x\": {\"type\": \"nominal\", \"axis\": {\"title\": \"Date\"}, \"field\": \"Dates\"}, \"y\": {\"type\": \"quantitative\", \"field\": \"Rolling\"}}}], \"data\": {\"name\": \"data-523463ceefd3693947f45365feb9bb80\"}, \"title\": \"Covid-19 in Chile: Daily confirmed deaths in Maule\", \"width\": 600, \"$schema\": \"https://vega.github.io/schema/vega-lite/v4.8.1.json\", \"datasets\": {\"data-523463ceefd3693947f45365feb9bb80\": [{\"Dates\": \"2020-03-25\", \"New_deaths\": 0, \"Rolling\": null, \"Daily confirmed deaths\": \"Daily confirmed deaths\", \"7-day rolling average\": \"7-day rolling average\"}, {\"Dates\": \"2020-03-26\", \"New_deaths\": 0, \"Rolling\": null, \"Daily confirmed deaths\": \"Daily confirmed deaths\", \"7-day rolling average\": \"7-day rolling average\"}, {\"Dates\": \"2020-03-27\", \"New_deaths\": 0, \"Rolling\": null, \"Daily confirmed deaths\": \"Daily confirmed deaths\", \"7-day rolling average\": \"7-day rolling average\"}, {\"Dates\": \"2020-03-28\", \"New_deaths\": 0, \"Rolling\": null, \"Daily confirmed deaths\": \"Daily confirmed deaths\", \"7-day rolling average\": \"7-day rolling average\"}, {\"Dates\": \"2020-03-29\", \"New_deaths\": 0, \"Rolling\": null, \"Daily confirmed deaths\": \"Daily confirmed deaths\", \"7-day rolling average\": \"7-day rolling average\"}, {\"Dates\": \"2020-03-30\", \"New_deaths\": 1, \"Rolling\": null, \"Daily confirmed deaths\": \"Daily confirmed deaths\", \"7-day rolling average\": \"7-day rolling average\"}, {\"Dates\": \"2020-03-31\", \"New_deaths\": 0, \"Rolling\": 0.14285714285714285, \"Daily confirmed deaths\": \"Daily confirmed deaths\", \"7-day rolling average\": \"7-day rolling average\"}, {\"Dates\": \"2020-04-01\", \"New_deaths\": 0, \"Rolling\": 0.14285714285714285, \"Daily confirmed deaths\": \"Daily confirmed deaths\", \"7-day rolling average\": \"7-day rolling average\"}, {\"Dates\": \"2020-04-02\", \"New_deaths\": 0, \"Rolling\": 0.14285714285714285, \"Daily confirmed deaths\": \"Daily confirmed deaths\", \"7-day rolling average\": \"7-day rolling average\"}, {\"Dates\": \"2020-04-03\", \"New_deaths\": 0, \"Rolling\": 0.14285714285714285, \"Daily confirmed deaths\": \"Daily confirmed deaths\", \"7-day rolling average\": \"7-day rolling average\"}, {\"Dates\": \"2020-04-04\", \"New_deaths\": 0, \"Rolling\": 0.14285714285714285, \"Daily confirmed deaths\": \"Daily confirmed deaths\", \"7-day rolling average\": \"7-day rolling average\"}, {\"Dates\": \"2020-04-05\", \"New_deaths\": 0, \"Rolling\": 0.14285714285714285, \"Daily confirmed deaths\": \"Daily confirmed deaths\", \"7-day rolling average\": \"7-day rolling average\"}, {\"Dates\": \"2020-04-06\", \"New_deaths\": 0, \"Rolling\": 0.0, \"Daily confirmed deaths\": \"Daily confirmed deaths\", \"7-day rolling average\": \"7-day rolling average\"}, {\"Dates\": \"2020-04-07\", \"New_deaths\": 1, \"Rolling\": 0.14285714285714285, \"Daily confirmed deaths\": \"Daily confirmed deaths\", \"7-day rolling average\": \"7-day rolling average\"}, {\"Dates\": \"2020-04-08\", \"New_deaths\": 0, \"Rolling\": 0.14285714285714285, \"Daily confirmed deaths\": \"Daily confirmed deaths\", \"7-day rolling average\": \"7-day rolling average\"}, {\"Dates\": \"2020-04-09\", \"New_deaths\": 0, \"Rolling\": 0.14285714285714285, \"Daily confirmed deaths\": \"Daily confirmed deaths\", \"7-day rolling average\": \"7-day rolling average\"}, {\"Dates\": \"2020-04-10\", \"New_deaths\": 0, \"Rolling\": 0.14285714285714285, \"Daily confirmed deaths\": \"Daily confirmed deaths\", \"7-day rolling average\": \"7-day rolling average\"}, {\"Dates\": \"2020-04-11\", \"New_deaths\": 1, \"Rolling\": 0.2857142857142857, \"Daily confirmed deaths\": \"Daily confirmed deaths\", \"7-day rolling average\": \"7-day rolling average\"}, {\"Dates\": \"2020-04-12\", \"New_deaths\": 0, \"Rolling\": 0.2857142857142857, \"Daily confirmed deaths\": \"Daily confirmed deaths\", \"7-day rolling average\": \"7-day rolling average\"}, {\"Dates\": \"2020-04-13\", \"New_deaths\": 0, \"Rolling\": 0.2857142857142857, \"Daily confirmed deaths\": \"Daily confirmed deaths\", \"7-day rolling average\": \"7-day rolling average\"}, {\"Dates\": \"2020-04-14\", \"New_deaths\": 1, \"Rolling\": 0.2857142857142857, \"Daily confirmed deaths\": \"Daily confirmed deaths\", \"7-day rolling average\": \"7-day rolling average\"}, {\"Dates\": \"2020-04-15\", \"New_deaths\": 0, \"Rolling\": 0.2857142857142857, \"Daily confirmed deaths\": \"Daily confirmed deaths\", \"7-day rolling average\": \"7-day rolling average\"}, {\"Dates\": \"2020-04-16\", \"New_deaths\": 0, \"Rolling\": 0.2857142857142857, \"Daily confirmed deaths\": \"Daily confirmed deaths\", \"7-day rolling average\": \"7-day rolling average\"}, {\"Dates\": \"2020-04-17\", \"New_deaths\": 3, \"Rolling\": 0.7142857142857143, \"Daily confirmed deaths\": \"Daily confirmed deaths\", \"7-day rolling average\": \"7-day rolling average\"}, {\"Dates\": \"2020-04-18\", \"New_deaths\": 1, \"Rolling\": 0.7142857142857143, \"Daily confirmed deaths\": \"Daily confirmed deaths\", \"7-day rolling average\": \"7-day rolling average\"}, {\"Dates\": \"2020-04-19\", \"New_deaths\": 0, \"Rolling\": 0.7142857142857143, \"Daily confirmed deaths\": \"Daily confirmed deaths\", \"7-day rolling average\": \"7-day rolling average\"}, {\"Dates\": \"2020-04-20\", \"New_deaths\": 2, \"Rolling\": 1.0, \"Daily confirmed deaths\": \"Daily confirmed deaths\", \"7-day rolling average\": \"7-day rolling average\"}, {\"Dates\": \"2020-04-21\", \"New_deaths\": 0, \"Rolling\": 0.8571428571428571, \"Daily confirmed deaths\": \"Daily confirmed deaths\", \"7-day rolling average\": \"7-day rolling average\"}, {\"Dates\": \"2020-04-22\", \"New_deaths\": 0, \"Rolling\": 0.8571428571428571, \"Daily confirmed deaths\": \"Daily confirmed deaths\", \"7-day rolling average\": \"7-day rolling average\"}, {\"Dates\": \"2020-04-23\", \"New_deaths\": 0, \"Rolling\": 0.8571428571428571, \"Daily confirmed deaths\": \"Daily confirmed deaths\", \"7-day rolling average\": \"7-day rolling average\"}, {\"Dates\": \"2020-04-24\", \"New_deaths\": 0, \"Rolling\": 0.42857142857142855, \"Daily confirmed deaths\": \"Daily confirmed deaths\", \"7-day rolling average\": \"7-day rolling average\"}, {\"Dates\": \"2020-04-25\", \"New_deaths\": 0, \"Rolling\": 0.2857142857142857, \"Daily confirmed deaths\": \"Daily confirmed deaths\", \"7-day rolling average\": \"7-day rolling average\"}, {\"Dates\": \"2020-04-26\", \"New_deaths\": 1, \"Rolling\": 0.42857142857142855, \"Daily confirmed deaths\": \"Daily confirmed deaths\", \"7-day rolling average\": \"7-day rolling average\"}]}}, {\"mode\": \"vega-lite\"});\n",
       "</script>"
      ],
      "text/plain": [
       "alt.LayerChart(...)"
      ]
     },
     "execution_count": 92,
     "metadata": {},
     "output_type": "execute_result"
    }
   ],
   "source": [
    "#hide_input\n",
    "bars, line = my_deaths_plot(region)\n",
    "(bars + line).properties(\n",
    "    title=f'Covid-19 in Chile: Daily confirmed deaths in {region}',\n",
    "    width=600\n",
    ")"
   ]
  },
  {
   "cell_type": "markdown",
   "metadata": {},
   "source": [
    "## Ñuble"
   ]
  },
  {
   "cell_type": "code",
   "execution_count": 93,
   "metadata": {
    "scrolled": true
   },
   "outputs": [],
   "source": [
    "#hide\n",
    "region = \"Ñuble\""
   ]
  },
  {
   "cell_type": "code",
   "execution_count": 94,
   "metadata": {},
   "outputs": [
    {
     "data": {
      "text/html": [
       "\n",
       "<div id=\"altair-viz-328801d355684b04afecbc5edba4744f\"></div>\n",
       "<script type=\"text/javascript\">\n",
       "  (function(spec, embedOpt){\n",
       "    let outputDiv = document.currentScript.previousElementSibling;\n",
       "    if (outputDiv.id !== \"altair-viz-328801d355684b04afecbc5edba4744f\") {\n",
       "      outputDiv = document.getElementById(\"altair-viz-328801d355684b04afecbc5edba4744f\");\n",
       "    }\n",
       "    const paths = {\n",
       "      \"vega\": \"https://cdn.jsdelivr.net/npm//vega@5?noext\",\n",
       "      \"vega-lib\": \"https://cdn.jsdelivr.net/npm//vega-lib?noext\",\n",
       "      \"vega-lite\": \"https://cdn.jsdelivr.net/npm//vega-lite@4.8.1?noext\",\n",
       "      \"vega-embed\": \"https://cdn.jsdelivr.net/npm//vega-embed@6?noext\",\n",
       "    };\n",
       "\n",
       "    function loadScript(lib) {\n",
       "      return new Promise(function(resolve, reject) {\n",
       "        var s = document.createElement('script');\n",
       "        s.src = paths[lib];\n",
       "        s.async = true;\n",
       "        s.onload = () => resolve(paths[lib]);\n",
       "        s.onerror = () => reject(`Error loading script: ${paths[lib]}`);\n",
       "        document.getElementsByTagName(\"head\")[0].appendChild(s);\n",
       "      });\n",
       "    }\n",
       "\n",
       "    function showError(err) {\n",
       "      outputDiv.innerHTML = `<div class=\"error\" style=\"color:red;\">${err}</div>`;\n",
       "      throw err;\n",
       "    }\n",
       "\n",
       "    function displayChart(vegaEmbed) {\n",
       "      vegaEmbed(outputDiv, spec, embedOpt)\n",
       "        .catch(err => showError(`Javascript Error: ${err.message}<br>This usually means there's a typo in your chart specification. See the javascript console for the full traceback.`));\n",
       "    }\n",
       "\n",
       "    if(typeof define === \"function\" && define.amd) {\n",
       "      requirejs.config({paths});\n",
       "      require([\"vega-embed\"], displayChart, err => showError(`Error loading script: ${err.message}`));\n",
       "    } else if (typeof vegaEmbed === \"function\") {\n",
       "      displayChart(vegaEmbed);\n",
       "    } else {\n",
       "      loadScript(\"vega\")\n",
       "        .then(() => loadScript(\"vega-lite\"))\n",
       "        .then(() => loadScript(\"vega-embed\"))\n",
       "        .catch(showError)\n",
       "        .then(() => displayChart(vegaEmbed));\n",
       "    }\n",
       "  })({\"config\": {\"view\": {\"continuousWidth\": 400, \"continuousHeight\": 300}}, \"layer\": [{\"mark\": {\"type\": \"bar\", \"color\": \"firebrick\", \"opacity\": 0.7}, \"encoding\": {\"opacity\": {\"type\": \"nominal\", \"field\": \"Daily confirmed deaths\", \"legend\": {\"title\": \"\"}}, \"tooltip\": [{\"type\": \"nominal\", \"field\": \"Dates\"}, {\"type\": \"quantitative\", \"field\": \"New_deaths\"}], \"x\": {\"type\": \"nominal\", \"axis\": {\"title\": \"Date\"}, \"field\": \"Dates\"}, \"y\": {\"type\": \"quantitative\", \"axis\": {\"title\": \"Daily confirmed deaths\"}, \"field\": \"New_deaths\"}}}, {\"mark\": {\"type\": \"line\", \"color\": \"firebrick\", \"point\": {\"filled\": true, \"fill\": \"firebrick\"}}, \"encoding\": {\"shape\": {\"type\": \"nominal\", \"field\": \"7-day rolling average\", \"legend\": {\"title\": \"\"}}, \"x\": {\"type\": \"nominal\", \"axis\": {\"title\": \"Date\"}, \"field\": \"Dates\"}, \"y\": {\"type\": \"quantitative\", \"field\": \"Rolling\"}}}], \"data\": {\"name\": \"data-14fc947481ca303d92c1f323212d5c96\"}, \"title\": \"Covid-19 in Chile: Daily confirmed deaths in \\u00d1uble\", \"width\": 600, \"$schema\": \"https://vega.github.io/schema/vega-lite/v4.8.1.json\", \"datasets\": {\"data-14fc947481ca303d92c1f323212d5c96\": [{\"Dates\": \"2020-03-25\", \"New_deaths\": 0, \"Rolling\": null, \"Daily confirmed deaths\": \"Daily confirmed deaths\", \"7-day rolling average\": \"7-day rolling average\"}, {\"Dates\": \"2020-03-26\", \"New_deaths\": 0, \"Rolling\": null, \"Daily confirmed deaths\": \"Daily confirmed deaths\", \"7-day rolling average\": \"7-day rolling average\"}, {\"Dates\": \"2020-03-27\", \"New_deaths\": 0, \"Rolling\": null, \"Daily confirmed deaths\": \"Daily confirmed deaths\", \"7-day rolling average\": \"7-day rolling average\"}, {\"Dates\": \"2020-03-28\", \"New_deaths\": 0, \"Rolling\": null, \"Daily confirmed deaths\": \"Daily confirmed deaths\", \"7-day rolling average\": \"7-day rolling average\"}, {\"Dates\": \"2020-03-29\", \"New_deaths\": 0, \"Rolling\": null, \"Daily confirmed deaths\": \"Daily confirmed deaths\", \"7-day rolling average\": \"7-day rolling average\"}, {\"Dates\": \"2020-03-30\", \"New_deaths\": 0, \"Rolling\": null, \"Daily confirmed deaths\": \"Daily confirmed deaths\", \"7-day rolling average\": \"7-day rolling average\"}, {\"Dates\": \"2020-03-31\", \"New_deaths\": 0, \"Rolling\": 0.0, \"Daily confirmed deaths\": \"Daily confirmed deaths\", \"7-day rolling average\": \"7-day rolling average\"}, {\"Dates\": \"2020-04-01\", \"New_deaths\": 0, \"Rolling\": 0.0, \"Daily confirmed deaths\": \"Daily confirmed deaths\", \"7-day rolling average\": \"7-day rolling average\"}, {\"Dates\": \"2020-04-02\", \"New_deaths\": 0, \"Rolling\": 0.0, \"Daily confirmed deaths\": \"Daily confirmed deaths\", \"7-day rolling average\": \"7-day rolling average\"}, {\"Dates\": \"2020-04-03\", \"New_deaths\": 1, \"Rolling\": 0.14285714285714285, \"Daily confirmed deaths\": \"Daily confirmed deaths\", \"7-day rolling average\": \"7-day rolling average\"}, {\"Dates\": \"2020-04-04\", \"New_deaths\": 1, \"Rolling\": 0.2857142857142857, \"Daily confirmed deaths\": \"Daily confirmed deaths\", \"7-day rolling average\": \"7-day rolling average\"}, {\"Dates\": \"2020-04-05\", \"New_deaths\": 1, \"Rolling\": 0.42857142857142855, \"Daily confirmed deaths\": \"Daily confirmed deaths\", \"7-day rolling average\": \"7-day rolling average\"}, {\"Dates\": \"2020-04-06\", \"New_deaths\": 1, \"Rolling\": 0.5714285714285714, \"Daily confirmed deaths\": \"Daily confirmed deaths\", \"7-day rolling average\": \"7-day rolling average\"}, {\"Dates\": \"2020-04-07\", \"New_deaths\": 1, \"Rolling\": 0.7142857142857143, \"Daily confirmed deaths\": \"Daily confirmed deaths\", \"7-day rolling average\": \"7-day rolling average\"}, {\"Dates\": \"2020-04-08\", \"New_deaths\": 0, \"Rolling\": 0.7142857142857143, \"Daily confirmed deaths\": \"Daily confirmed deaths\", \"7-day rolling average\": \"7-day rolling average\"}, {\"Dates\": \"2020-04-09\", \"New_deaths\": 1, \"Rolling\": 0.8571428571428571, \"Daily confirmed deaths\": \"Daily confirmed deaths\", \"7-day rolling average\": \"7-day rolling average\"}, {\"Dates\": \"2020-04-10\", \"New_deaths\": 0, \"Rolling\": 0.7142857142857143, \"Daily confirmed deaths\": \"Daily confirmed deaths\", \"7-day rolling average\": \"7-day rolling average\"}, {\"Dates\": \"2020-04-11\", \"New_deaths\": 0, \"Rolling\": 0.5714285714285714, \"Daily confirmed deaths\": \"Daily confirmed deaths\", \"7-day rolling average\": \"7-day rolling average\"}, {\"Dates\": \"2020-04-12\", \"New_deaths\": 1, \"Rolling\": 0.5714285714285714, \"Daily confirmed deaths\": \"Daily confirmed deaths\", \"7-day rolling average\": \"7-day rolling average\"}, {\"Dates\": \"2020-04-13\", \"New_deaths\": 0, \"Rolling\": 0.42857142857142855, \"Daily confirmed deaths\": \"Daily confirmed deaths\", \"7-day rolling average\": \"7-day rolling average\"}, {\"Dates\": \"2020-04-14\", \"New_deaths\": 1, \"Rolling\": 0.42857142857142855, \"Daily confirmed deaths\": \"Daily confirmed deaths\", \"7-day rolling average\": \"7-day rolling average\"}, {\"Dates\": \"2020-04-15\", \"New_deaths\": 0, \"Rolling\": 0.42857142857142855, \"Daily confirmed deaths\": \"Daily confirmed deaths\", \"7-day rolling average\": \"7-day rolling average\"}, {\"Dates\": \"2020-04-16\", \"New_deaths\": 2, \"Rolling\": 0.5714285714285714, \"Daily confirmed deaths\": \"Daily confirmed deaths\", \"7-day rolling average\": \"7-day rolling average\"}, {\"Dates\": \"2020-04-17\", \"New_deaths\": 1, \"Rolling\": 0.7142857142857143, \"Daily confirmed deaths\": \"Daily confirmed deaths\", \"7-day rolling average\": \"7-day rolling average\"}, {\"Dates\": \"2020-04-18\", \"New_deaths\": 1, \"Rolling\": 0.8571428571428571, \"Daily confirmed deaths\": \"Daily confirmed deaths\", \"7-day rolling average\": \"7-day rolling average\"}, {\"Dates\": \"2020-04-19\", \"New_deaths\": 1, \"Rolling\": 0.8571428571428571, \"Daily confirmed deaths\": \"Daily confirmed deaths\", \"7-day rolling average\": \"7-day rolling average\"}, {\"Dates\": \"2020-04-20\", \"New_deaths\": 0, \"Rolling\": 0.8571428571428571, \"Daily confirmed deaths\": \"Daily confirmed deaths\", \"7-day rolling average\": \"7-day rolling average\"}, {\"Dates\": \"2020-04-21\", \"New_deaths\": 0, \"Rolling\": 0.7142857142857143, \"Daily confirmed deaths\": \"Daily confirmed deaths\", \"7-day rolling average\": \"7-day rolling average\"}, {\"Dates\": \"2020-04-22\", \"New_deaths\": 0, \"Rolling\": 0.7142857142857143, \"Daily confirmed deaths\": \"Daily confirmed deaths\", \"7-day rolling average\": \"7-day rolling average\"}, {\"Dates\": \"2020-04-23\", \"New_deaths\": 0, \"Rolling\": 0.42857142857142855, \"Daily confirmed deaths\": \"Daily confirmed deaths\", \"7-day rolling average\": \"7-day rolling average\"}, {\"Dates\": \"2020-04-24\", \"New_deaths\": 1, \"Rolling\": 0.42857142857142855, \"Daily confirmed deaths\": \"Daily confirmed deaths\", \"7-day rolling average\": \"7-day rolling average\"}, {\"Dates\": \"2020-04-25\", \"New_deaths\": 0, \"Rolling\": 0.2857142857142857, \"Daily confirmed deaths\": \"Daily confirmed deaths\", \"7-day rolling average\": \"7-day rolling average\"}, {\"Dates\": \"2020-04-26\", \"New_deaths\": 0, \"Rolling\": 0.14285714285714285, \"Daily confirmed deaths\": \"Daily confirmed deaths\", \"7-day rolling average\": \"7-day rolling average\"}]}}, {\"mode\": \"vega-lite\"});\n",
       "</script>"
      ],
      "text/plain": [
       "alt.LayerChart(...)"
      ]
     },
     "execution_count": 94,
     "metadata": {},
     "output_type": "execute_result"
    }
   ],
   "source": [
    "#hide_input\n",
    "bars, line = my_deaths_plot(region)\n",
    "(bars + line).properties(\n",
    "    title=f'Covid-19 in Chile: Daily confirmed deaths in {region}',\n",
    "    width=600\n",
    ")"
   ]
  },
  {
   "cell_type": "markdown",
   "metadata": {},
   "source": [
    "## Biobío"
   ]
  },
  {
   "cell_type": "code",
   "execution_count": 95,
   "metadata": {
    "scrolled": true
   },
   "outputs": [],
   "source": [
    "#hide\n",
    "region = \"Biobío\""
   ]
  },
  {
   "cell_type": "code",
   "execution_count": 96,
   "metadata": {},
   "outputs": [
    {
     "data": {
      "text/html": [
       "\n",
       "<div id=\"altair-viz-92324ed5f4f4467a85243d59c76637d8\"></div>\n",
       "<script type=\"text/javascript\">\n",
       "  (function(spec, embedOpt){\n",
       "    let outputDiv = document.currentScript.previousElementSibling;\n",
       "    if (outputDiv.id !== \"altair-viz-92324ed5f4f4467a85243d59c76637d8\") {\n",
       "      outputDiv = document.getElementById(\"altair-viz-92324ed5f4f4467a85243d59c76637d8\");\n",
       "    }\n",
       "    const paths = {\n",
       "      \"vega\": \"https://cdn.jsdelivr.net/npm//vega@5?noext\",\n",
       "      \"vega-lib\": \"https://cdn.jsdelivr.net/npm//vega-lib?noext\",\n",
       "      \"vega-lite\": \"https://cdn.jsdelivr.net/npm//vega-lite@4.8.1?noext\",\n",
       "      \"vega-embed\": \"https://cdn.jsdelivr.net/npm//vega-embed@6?noext\",\n",
       "    };\n",
       "\n",
       "    function loadScript(lib) {\n",
       "      return new Promise(function(resolve, reject) {\n",
       "        var s = document.createElement('script');\n",
       "        s.src = paths[lib];\n",
       "        s.async = true;\n",
       "        s.onload = () => resolve(paths[lib]);\n",
       "        s.onerror = () => reject(`Error loading script: ${paths[lib]}`);\n",
       "        document.getElementsByTagName(\"head\")[0].appendChild(s);\n",
       "      });\n",
       "    }\n",
       "\n",
       "    function showError(err) {\n",
       "      outputDiv.innerHTML = `<div class=\"error\" style=\"color:red;\">${err}</div>`;\n",
       "      throw err;\n",
       "    }\n",
       "\n",
       "    function displayChart(vegaEmbed) {\n",
       "      vegaEmbed(outputDiv, spec, embedOpt)\n",
       "        .catch(err => showError(`Javascript Error: ${err.message}<br>This usually means there's a typo in your chart specification. See the javascript console for the full traceback.`));\n",
       "    }\n",
       "\n",
       "    if(typeof define === \"function\" && define.amd) {\n",
       "      requirejs.config({paths});\n",
       "      require([\"vega-embed\"], displayChart, err => showError(`Error loading script: ${err.message}`));\n",
       "    } else if (typeof vegaEmbed === \"function\") {\n",
       "      displayChart(vegaEmbed);\n",
       "    } else {\n",
       "      loadScript(\"vega\")\n",
       "        .then(() => loadScript(\"vega-lite\"))\n",
       "        .then(() => loadScript(\"vega-embed\"))\n",
       "        .catch(showError)\n",
       "        .then(() => displayChart(vegaEmbed));\n",
       "    }\n",
       "  })({\"config\": {\"view\": {\"continuousWidth\": 400, \"continuousHeight\": 300}}, \"layer\": [{\"mark\": {\"type\": \"bar\", \"color\": \"firebrick\", \"opacity\": 0.7}, \"encoding\": {\"opacity\": {\"type\": \"nominal\", \"field\": \"Daily confirmed deaths\", \"legend\": {\"title\": \"\"}}, \"tooltip\": [{\"type\": \"nominal\", \"field\": \"Dates\"}, {\"type\": \"quantitative\", \"field\": \"New_deaths\"}], \"x\": {\"type\": \"nominal\", \"axis\": {\"title\": \"Date\"}, \"field\": \"Dates\"}, \"y\": {\"type\": \"quantitative\", \"axis\": {\"title\": \"Daily confirmed deaths\"}, \"field\": \"New_deaths\"}}}, {\"mark\": {\"type\": \"line\", \"color\": \"firebrick\", \"point\": {\"filled\": true, \"fill\": \"firebrick\"}}, \"encoding\": {\"shape\": {\"type\": \"nominal\", \"field\": \"7-day rolling average\", \"legend\": {\"title\": \"\"}}, \"x\": {\"type\": \"nominal\", \"axis\": {\"title\": \"Date\"}, \"field\": \"Dates\"}, \"y\": {\"type\": \"quantitative\", \"field\": \"Rolling\"}}}], \"data\": {\"name\": \"data-802fb6c81c782eed7000f0d45ba2aeac\"}, \"title\": \"Covid-19 in Chile: Daily confirmed deaths in Biob\\u00edo\", \"width\": 600, \"$schema\": \"https://vega.github.io/schema/vega-lite/v4.8.1.json\", \"datasets\": {\"data-802fb6c81c782eed7000f0d45ba2aeac\": [{\"Dates\": \"2020-03-25\", \"New_deaths\": 1, \"Rolling\": null, \"Daily confirmed deaths\": \"Daily confirmed deaths\", \"7-day rolling average\": \"7-day rolling average\"}, {\"Dates\": \"2020-03-26\", \"New_deaths\": 0, \"Rolling\": null, \"Daily confirmed deaths\": \"Daily confirmed deaths\", \"7-day rolling average\": \"7-day rolling average\"}, {\"Dates\": \"2020-03-27\", \"New_deaths\": 1, \"Rolling\": null, \"Daily confirmed deaths\": \"Daily confirmed deaths\", \"7-day rolling average\": \"7-day rolling average\"}, {\"Dates\": \"2020-03-28\", \"New_deaths\": 0, \"Rolling\": null, \"Daily confirmed deaths\": \"Daily confirmed deaths\", \"7-day rolling average\": \"7-day rolling average\"}, {\"Dates\": \"2020-03-29\", \"New_deaths\": 0, \"Rolling\": null, \"Daily confirmed deaths\": \"Daily confirmed deaths\", \"7-day rolling average\": \"7-day rolling average\"}, {\"Dates\": \"2020-03-30\", \"New_deaths\": 0, \"Rolling\": null, \"Daily confirmed deaths\": \"Daily confirmed deaths\", \"7-day rolling average\": \"7-day rolling average\"}, {\"Dates\": \"2020-03-31\", \"New_deaths\": 0, \"Rolling\": 0.2857142857142857, \"Daily confirmed deaths\": \"Daily confirmed deaths\", \"7-day rolling average\": \"7-day rolling average\"}, {\"Dates\": \"2020-04-01\", \"New_deaths\": 0, \"Rolling\": 0.14285714285714285, \"Daily confirmed deaths\": \"Daily confirmed deaths\", \"7-day rolling average\": \"7-day rolling average\"}, {\"Dates\": \"2020-04-02\", \"New_deaths\": 0, \"Rolling\": 0.14285714285714285, \"Daily confirmed deaths\": \"Daily confirmed deaths\", \"7-day rolling average\": \"7-day rolling average\"}, {\"Dates\": \"2020-04-03\", \"New_deaths\": 0, \"Rolling\": 0.0, \"Daily confirmed deaths\": \"Daily confirmed deaths\", \"7-day rolling average\": \"7-day rolling average\"}, {\"Dates\": \"2020-04-04\", \"New_deaths\": 0, \"Rolling\": 0.0, \"Daily confirmed deaths\": \"Daily confirmed deaths\", \"7-day rolling average\": \"7-day rolling average\"}, {\"Dates\": \"2020-04-05\", \"New_deaths\": 0, \"Rolling\": 0.0, \"Daily confirmed deaths\": \"Daily confirmed deaths\", \"7-day rolling average\": \"7-day rolling average\"}, {\"Dates\": \"2020-04-06\", \"New_deaths\": 0, \"Rolling\": 0.0, \"Daily confirmed deaths\": \"Daily confirmed deaths\", \"7-day rolling average\": \"7-day rolling average\"}, {\"Dates\": \"2020-04-07\", \"New_deaths\": 0, \"Rolling\": 0.0, \"Daily confirmed deaths\": \"Daily confirmed deaths\", \"7-day rolling average\": \"7-day rolling average\"}, {\"Dates\": \"2020-04-08\", \"New_deaths\": 0, \"Rolling\": 0.0, \"Daily confirmed deaths\": \"Daily confirmed deaths\", \"7-day rolling average\": \"7-day rolling average\"}, {\"Dates\": \"2020-04-09\", \"New_deaths\": 0, \"Rolling\": 0.0, \"Daily confirmed deaths\": \"Daily confirmed deaths\", \"7-day rolling average\": \"7-day rolling average\"}, {\"Dates\": \"2020-04-10\", \"New_deaths\": 0, \"Rolling\": 0.0, \"Daily confirmed deaths\": \"Daily confirmed deaths\", \"7-day rolling average\": \"7-day rolling average\"}, {\"Dates\": \"2020-04-11\", \"New_deaths\": 0, \"Rolling\": 0.0, \"Daily confirmed deaths\": \"Daily confirmed deaths\", \"7-day rolling average\": \"7-day rolling average\"}, {\"Dates\": \"2020-04-12\", \"New_deaths\": 0, \"Rolling\": 0.0, \"Daily confirmed deaths\": \"Daily confirmed deaths\", \"7-day rolling average\": \"7-day rolling average\"}, {\"Dates\": \"2020-04-13\", \"New_deaths\": 0, \"Rolling\": 0.0, \"Daily confirmed deaths\": \"Daily confirmed deaths\", \"7-day rolling average\": \"7-day rolling average\"}, {\"Dates\": \"2020-04-14\", \"New_deaths\": 0, \"Rolling\": 0.0, \"Daily confirmed deaths\": \"Daily confirmed deaths\", \"7-day rolling average\": \"7-day rolling average\"}, {\"Dates\": \"2020-04-15\", \"New_deaths\": 0, \"Rolling\": 0.0, \"Daily confirmed deaths\": \"Daily confirmed deaths\", \"7-day rolling average\": \"7-day rolling average\"}, {\"Dates\": \"2020-04-16\", \"New_deaths\": 0, \"Rolling\": 0.0, \"Daily confirmed deaths\": \"Daily confirmed deaths\", \"7-day rolling average\": \"7-day rolling average\"}, {\"Dates\": \"2020-04-17\", \"New_deaths\": 1, \"Rolling\": 0.14285714285714285, \"Daily confirmed deaths\": \"Daily confirmed deaths\", \"7-day rolling average\": \"7-day rolling average\"}, {\"Dates\": \"2020-04-18\", \"New_deaths\": 0, \"Rolling\": 0.14285714285714285, \"Daily confirmed deaths\": \"Daily confirmed deaths\", \"7-day rolling average\": \"7-day rolling average\"}, {\"Dates\": \"2020-04-19\", \"New_deaths\": 0, \"Rolling\": 0.14285714285714285, \"Daily confirmed deaths\": \"Daily confirmed deaths\", \"7-day rolling average\": \"7-day rolling average\"}, {\"Dates\": \"2020-04-20\", \"New_deaths\": 0, \"Rolling\": 0.14285714285714285, \"Daily confirmed deaths\": \"Daily confirmed deaths\", \"7-day rolling average\": \"7-day rolling average\"}, {\"Dates\": \"2020-04-21\", \"New_deaths\": 1, \"Rolling\": 0.2857142857142857, \"Daily confirmed deaths\": \"Daily confirmed deaths\", \"7-day rolling average\": \"7-day rolling average\"}, {\"Dates\": \"2020-04-22\", \"New_deaths\": 1, \"Rolling\": 0.42857142857142855, \"Daily confirmed deaths\": \"Daily confirmed deaths\", \"7-day rolling average\": \"7-day rolling average\"}, {\"Dates\": \"2020-04-23\", \"New_deaths\": 0, \"Rolling\": 0.42857142857142855, \"Daily confirmed deaths\": \"Daily confirmed deaths\", \"7-day rolling average\": \"7-day rolling average\"}, {\"Dates\": \"2020-04-24\", \"New_deaths\": 0, \"Rolling\": 0.2857142857142857, \"Daily confirmed deaths\": \"Daily confirmed deaths\", \"7-day rolling average\": \"7-day rolling average\"}, {\"Dates\": \"2020-04-25\", \"New_deaths\": 0, \"Rolling\": 0.2857142857142857, \"Daily confirmed deaths\": \"Daily confirmed deaths\", \"7-day rolling average\": \"7-day rolling average\"}, {\"Dates\": \"2020-04-26\", \"New_deaths\": 1, \"Rolling\": 0.42857142857142855, \"Daily confirmed deaths\": \"Daily confirmed deaths\", \"7-day rolling average\": \"7-day rolling average\"}]}}, {\"mode\": \"vega-lite\"});\n",
       "</script>"
      ],
      "text/plain": [
       "alt.LayerChart(...)"
      ]
     },
     "execution_count": 96,
     "metadata": {},
     "output_type": "execute_result"
    }
   ],
   "source": [
    "#hide_input\n",
    "bars, line = my_deaths_plot(region)\n",
    "(bars + line).properties(\n",
    "    title=f'Covid-19 in Chile: Daily confirmed deaths in {region}',\n",
    "    width=600\n",
    ")"
   ]
  },
  {
   "cell_type": "markdown",
   "metadata": {},
   "source": [
    "## Araucanía"
   ]
  },
  {
   "cell_type": "code",
   "execution_count": 97,
   "metadata": {
    "scrolled": true
   },
   "outputs": [],
   "source": [
    "#hide\n",
    "region = \"Araucanía\""
   ]
  },
  {
   "cell_type": "code",
   "execution_count": 98,
   "metadata": {},
   "outputs": [
    {
     "data": {
      "text/html": [
       "\n",
       "<div id=\"altair-viz-263a41cd6fe140f091d85cb34db215a8\"></div>\n",
       "<script type=\"text/javascript\">\n",
       "  (function(spec, embedOpt){\n",
       "    let outputDiv = document.currentScript.previousElementSibling;\n",
       "    if (outputDiv.id !== \"altair-viz-263a41cd6fe140f091d85cb34db215a8\") {\n",
       "      outputDiv = document.getElementById(\"altair-viz-263a41cd6fe140f091d85cb34db215a8\");\n",
       "    }\n",
       "    const paths = {\n",
       "      \"vega\": \"https://cdn.jsdelivr.net/npm//vega@5?noext\",\n",
       "      \"vega-lib\": \"https://cdn.jsdelivr.net/npm//vega-lib?noext\",\n",
       "      \"vega-lite\": \"https://cdn.jsdelivr.net/npm//vega-lite@4.8.1?noext\",\n",
       "      \"vega-embed\": \"https://cdn.jsdelivr.net/npm//vega-embed@6?noext\",\n",
       "    };\n",
       "\n",
       "    function loadScript(lib) {\n",
       "      return new Promise(function(resolve, reject) {\n",
       "        var s = document.createElement('script');\n",
       "        s.src = paths[lib];\n",
       "        s.async = true;\n",
       "        s.onload = () => resolve(paths[lib]);\n",
       "        s.onerror = () => reject(`Error loading script: ${paths[lib]}`);\n",
       "        document.getElementsByTagName(\"head\")[0].appendChild(s);\n",
       "      });\n",
       "    }\n",
       "\n",
       "    function showError(err) {\n",
       "      outputDiv.innerHTML = `<div class=\"error\" style=\"color:red;\">${err}</div>`;\n",
       "      throw err;\n",
       "    }\n",
       "\n",
       "    function displayChart(vegaEmbed) {\n",
       "      vegaEmbed(outputDiv, spec, embedOpt)\n",
       "        .catch(err => showError(`Javascript Error: ${err.message}<br>This usually means there's a typo in your chart specification. See the javascript console for the full traceback.`));\n",
       "    }\n",
       "\n",
       "    if(typeof define === \"function\" && define.amd) {\n",
       "      requirejs.config({paths});\n",
       "      require([\"vega-embed\"], displayChart, err => showError(`Error loading script: ${err.message}`));\n",
       "    } else if (typeof vegaEmbed === \"function\") {\n",
       "      displayChart(vegaEmbed);\n",
       "    } else {\n",
       "      loadScript(\"vega\")\n",
       "        .then(() => loadScript(\"vega-lite\"))\n",
       "        .then(() => loadScript(\"vega-embed\"))\n",
       "        .catch(showError)\n",
       "        .then(() => displayChart(vegaEmbed));\n",
       "    }\n",
       "  })({\"config\": {\"view\": {\"continuousWidth\": 400, \"continuousHeight\": 300}}, \"layer\": [{\"mark\": {\"type\": \"bar\", \"color\": \"firebrick\", \"opacity\": 0.7}, \"encoding\": {\"opacity\": {\"type\": \"nominal\", \"field\": \"Daily confirmed deaths\", \"legend\": {\"title\": \"\"}}, \"tooltip\": [{\"type\": \"nominal\", \"field\": \"Dates\"}, {\"type\": \"quantitative\", \"field\": \"New_deaths\"}], \"x\": {\"type\": \"nominal\", \"axis\": {\"title\": \"Date\"}, \"field\": \"Dates\"}, \"y\": {\"type\": \"quantitative\", \"axis\": {\"title\": \"Daily confirmed deaths\"}, \"field\": \"New_deaths\"}}}, {\"mark\": {\"type\": \"line\", \"color\": \"firebrick\", \"point\": {\"filled\": true, \"fill\": \"firebrick\"}}, \"encoding\": {\"shape\": {\"type\": \"nominal\", \"field\": \"7-day rolling average\", \"legend\": {\"title\": \"\"}}, \"x\": {\"type\": \"nominal\", \"axis\": {\"title\": \"Date\"}, \"field\": \"Dates\"}, \"y\": {\"type\": \"quantitative\", \"field\": \"Rolling\"}}}], \"data\": {\"name\": \"data-ea4e38b5a32cca86daa9113e78533a54\"}, \"title\": \"Covid-19 in Chile: Daily confirmed deaths in Araucan\\u00eda\", \"width\": 600, \"$schema\": \"https://vega.github.io/schema/vega-lite/v4.8.1.json\", \"datasets\": {\"data-ea4e38b5a32cca86daa9113e78533a54\": [{\"Dates\": \"2020-03-25\", \"New_deaths\": 0, \"Rolling\": null, \"Daily confirmed deaths\": \"Daily confirmed deaths\", \"7-day rolling average\": \"7-day rolling average\"}, {\"Dates\": \"2020-03-26\", \"New_deaths\": 0, \"Rolling\": null, \"Daily confirmed deaths\": \"Daily confirmed deaths\", \"7-day rolling average\": \"7-day rolling average\"}, {\"Dates\": \"2020-03-27\", \"New_deaths\": 0, \"Rolling\": null, \"Daily confirmed deaths\": \"Daily confirmed deaths\", \"7-day rolling average\": \"7-day rolling average\"}, {\"Dates\": \"2020-03-28\", \"New_deaths\": 1, \"Rolling\": null, \"Daily confirmed deaths\": \"Daily confirmed deaths\", \"7-day rolling average\": \"7-day rolling average\"}, {\"Dates\": \"2020-03-29\", \"New_deaths\": 1, \"Rolling\": null, \"Daily confirmed deaths\": \"Daily confirmed deaths\", \"7-day rolling average\": \"7-day rolling average\"}, {\"Dates\": \"2020-03-30\", \"New_deaths\": 0, \"Rolling\": null, \"Daily confirmed deaths\": \"Daily confirmed deaths\", \"7-day rolling average\": \"7-day rolling average\"}, {\"Dates\": \"2020-03-31\", \"New_deaths\": 2, \"Rolling\": 0.5714285714285714, \"Daily confirmed deaths\": \"Daily confirmed deaths\", \"7-day rolling average\": \"7-day rolling average\"}, {\"Dates\": \"2020-04-01\", \"New_deaths\": 2, \"Rolling\": 0.8571428571428571, \"Daily confirmed deaths\": \"Daily confirmed deaths\", \"7-day rolling average\": \"7-day rolling average\"}, {\"Dates\": \"2020-04-02\", \"New_deaths\": 1, \"Rolling\": 1.0, \"Daily confirmed deaths\": \"Daily confirmed deaths\", \"7-day rolling average\": \"7-day rolling average\"}, {\"Dates\": \"2020-04-03\", \"New_deaths\": 0, \"Rolling\": 1.0, \"Daily confirmed deaths\": \"Daily confirmed deaths\", \"7-day rolling average\": \"7-day rolling average\"}, {\"Dates\": \"2020-04-04\", \"New_deaths\": 2, \"Rolling\": 1.1428571428571428, \"Daily confirmed deaths\": \"Daily confirmed deaths\", \"7-day rolling average\": \"7-day rolling average\"}, {\"Dates\": \"2020-04-05\", \"New_deaths\": 4, \"Rolling\": 1.5714285714285714, \"Daily confirmed deaths\": \"Daily confirmed deaths\", \"7-day rolling average\": \"7-day rolling average\"}, {\"Dates\": \"2020-04-06\", \"New_deaths\": 1, \"Rolling\": 1.7142857142857142, \"Daily confirmed deaths\": \"Daily confirmed deaths\", \"7-day rolling average\": \"7-day rolling average\"}, {\"Dates\": \"2020-04-07\", \"New_deaths\": 0, \"Rolling\": 1.4285714285714286, \"Daily confirmed deaths\": \"Daily confirmed deaths\", \"7-day rolling average\": \"7-day rolling average\"}, {\"Dates\": \"2020-04-08\", \"New_deaths\": 1, \"Rolling\": 1.2857142857142858, \"Daily confirmed deaths\": \"Daily confirmed deaths\", \"7-day rolling average\": \"7-day rolling average\"}, {\"Dates\": \"2020-04-09\", \"New_deaths\": 1, \"Rolling\": 1.2857142857142858, \"Daily confirmed deaths\": \"Daily confirmed deaths\", \"7-day rolling average\": \"7-day rolling average\"}, {\"Dates\": \"2020-04-10\", \"New_deaths\": 0, \"Rolling\": 1.2857142857142858, \"Daily confirmed deaths\": \"Daily confirmed deaths\", \"7-day rolling average\": \"7-day rolling average\"}, {\"Dates\": \"2020-04-11\", \"New_deaths\": 1, \"Rolling\": 1.1428571428571428, \"Daily confirmed deaths\": \"Daily confirmed deaths\", \"7-day rolling average\": \"7-day rolling average\"}, {\"Dates\": \"2020-04-12\", \"New_deaths\": 0, \"Rolling\": 0.5714285714285714, \"Daily confirmed deaths\": \"Daily confirmed deaths\", \"7-day rolling average\": \"7-day rolling average\"}, {\"Dates\": \"2020-04-13\", \"New_deaths\": 0, \"Rolling\": 0.42857142857142855, \"Daily confirmed deaths\": \"Daily confirmed deaths\", \"7-day rolling average\": \"7-day rolling average\"}, {\"Dates\": \"2020-04-14\", \"New_deaths\": 3, \"Rolling\": 0.8571428571428571, \"Daily confirmed deaths\": \"Daily confirmed deaths\", \"7-day rolling average\": \"7-day rolling average\"}, {\"Dates\": \"2020-04-15\", \"New_deaths\": 1, \"Rolling\": 0.8571428571428571, \"Daily confirmed deaths\": \"Daily confirmed deaths\", \"7-day rolling average\": \"7-day rolling average\"}, {\"Dates\": \"2020-04-16\", \"New_deaths\": 0, \"Rolling\": 0.7142857142857143, \"Daily confirmed deaths\": \"Daily confirmed deaths\", \"7-day rolling average\": \"7-day rolling average\"}, {\"Dates\": \"2020-04-17\", \"New_deaths\": 1, \"Rolling\": 0.8571428571428571, \"Daily confirmed deaths\": \"Daily confirmed deaths\", \"7-day rolling average\": \"7-day rolling average\"}, {\"Dates\": \"2020-04-18\", \"New_deaths\": 1, \"Rolling\": 0.8571428571428571, \"Daily confirmed deaths\": \"Daily confirmed deaths\", \"7-day rolling average\": \"7-day rolling average\"}, {\"Dates\": \"2020-04-19\", \"New_deaths\": 0, \"Rolling\": 0.8571428571428571, \"Daily confirmed deaths\": \"Daily confirmed deaths\", \"7-day rolling average\": \"7-day rolling average\"}, {\"Dates\": \"2020-04-20\", \"New_deaths\": 0, \"Rolling\": 0.8571428571428571, \"Daily confirmed deaths\": \"Daily confirmed deaths\", \"7-day rolling average\": \"7-day rolling average\"}, {\"Dates\": \"2020-04-21\", \"New_deaths\": 2, \"Rolling\": 0.7142857142857143, \"Daily confirmed deaths\": \"Daily confirmed deaths\", \"7-day rolling average\": \"7-day rolling average\"}, {\"Dates\": \"2020-04-22\", \"New_deaths\": 1, \"Rolling\": 0.7142857142857143, \"Daily confirmed deaths\": \"Daily confirmed deaths\", \"7-day rolling average\": \"7-day rolling average\"}, {\"Dates\": \"2020-04-23\", \"New_deaths\": 0, \"Rolling\": 0.7142857142857143, \"Daily confirmed deaths\": \"Daily confirmed deaths\", \"7-day rolling average\": \"7-day rolling average\"}, {\"Dates\": \"2020-04-24\", \"New_deaths\": 0, \"Rolling\": 0.5714285714285714, \"Daily confirmed deaths\": \"Daily confirmed deaths\", \"7-day rolling average\": \"7-day rolling average\"}, {\"Dates\": \"2020-04-25\", \"New_deaths\": 1, \"Rolling\": 0.5714285714285714, \"Daily confirmed deaths\": \"Daily confirmed deaths\", \"7-day rolling average\": \"7-day rolling average\"}, {\"Dates\": \"2020-04-26\", \"New_deaths\": 2, \"Rolling\": 0.8571428571428571, \"Daily confirmed deaths\": \"Daily confirmed deaths\", \"7-day rolling average\": \"7-day rolling average\"}]}}, {\"mode\": \"vega-lite\"});\n",
       "</script>"
      ],
      "text/plain": [
       "alt.LayerChart(...)"
      ]
     },
     "execution_count": 98,
     "metadata": {},
     "output_type": "execute_result"
    }
   ],
   "source": [
    "#hide_input\n",
    "bars, line = my_deaths_plot(region)\n",
    "(bars + line).properties(\n",
    "    title=f'Covid-19 in Chile: Daily confirmed deaths in {region}',\n",
    "    width=600\n",
    ")"
   ]
  },
  {
   "cell_type": "markdown",
   "metadata": {},
   "source": [
    "## Los Ríos"
   ]
  },
  {
   "cell_type": "code",
   "execution_count": 99,
   "metadata": {
    "scrolled": true
   },
   "outputs": [],
   "source": [
    "#hide\n",
    "region = \"Los Ríos\""
   ]
  },
  {
   "cell_type": "code",
   "execution_count": 100,
   "metadata": {},
   "outputs": [
    {
     "data": {
      "text/html": [
       "\n",
       "<div id=\"altair-viz-31ea908d920e46918e7eaf2150ab0d03\"></div>\n",
       "<script type=\"text/javascript\">\n",
       "  (function(spec, embedOpt){\n",
       "    let outputDiv = document.currentScript.previousElementSibling;\n",
       "    if (outputDiv.id !== \"altair-viz-31ea908d920e46918e7eaf2150ab0d03\") {\n",
       "      outputDiv = document.getElementById(\"altair-viz-31ea908d920e46918e7eaf2150ab0d03\");\n",
       "    }\n",
       "    const paths = {\n",
       "      \"vega\": \"https://cdn.jsdelivr.net/npm//vega@5?noext\",\n",
       "      \"vega-lib\": \"https://cdn.jsdelivr.net/npm//vega-lib?noext\",\n",
       "      \"vega-lite\": \"https://cdn.jsdelivr.net/npm//vega-lite@4.8.1?noext\",\n",
       "      \"vega-embed\": \"https://cdn.jsdelivr.net/npm//vega-embed@6?noext\",\n",
       "    };\n",
       "\n",
       "    function loadScript(lib) {\n",
       "      return new Promise(function(resolve, reject) {\n",
       "        var s = document.createElement('script');\n",
       "        s.src = paths[lib];\n",
       "        s.async = true;\n",
       "        s.onload = () => resolve(paths[lib]);\n",
       "        s.onerror = () => reject(`Error loading script: ${paths[lib]}`);\n",
       "        document.getElementsByTagName(\"head\")[0].appendChild(s);\n",
       "      });\n",
       "    }\n",
       "\n",
       "    function showError(err) {\n",
       "      outputDiv.innerHTML = `<div class=\"error\" style=\"color:red;\">${err}</div>`;\n",
       "      throw err;\n",
       "    }\n",
       "\n",
       "    function displayChart(vegaEmbed) {\n",
       "      vegaEmbed(outputDiv, spec, embedOpt)\n",
       "        .catch(err => showError(`Javascript Error: ${err.message}<br>This usually means there's a typo in your chart specification. See the javascript console for the full traceback.`));\n",
       "    }\n",
       "\n",
       "    if(typeof define === \"function\" && define.amd) {\n",
       "      requirejs.config({paths});\n",
       "      require([\"vega-embed\"], displayChart, err => showError(`Error loading script: ${err.message}`));\n",
       "    } else if (typeof vegaEmbed === \"function\") {\n",
       "      displayChart(vegaEmbed);\n",
       "    } else {\n",
       "      loadScript(\"vega\")\n",
       "        .then(() => loadScript(\"vega-lite\"))\n",
       "        .then(() => loadScript(\"vega-embed\"))\n",
       "        .catch(showError)\n",
       "        .then(() => displayChart(vegaEmbed));\n",
       "    }\n",
       "  })({\"config\": {\"view\": {\"continuousWidth\": 400, \"continuousHeight\": 300}}, \"layer\": [{\"mark\": {\"type\": \"bar\", \"color\": \"firebrick\", \"opacity\": 0.7}, \"encoding\": {\"opacity\": {\"type\": \"nominal\", \"field\": \"Daily confirmed deaths\", \"legend\": {\"title\": \"\"}}, \"tooltip\": [{\"type\": \"nominal\", \"field\": \"Dates\"}, {\"type\": \"quantitative\", \"field\": \"New_deaths\"}], \"x\": {\"type\": \"nominal\", \"axis\": {\"title\": \"Date\"}, \"field\": \"Dates\"}, \"y\": {\"type\": \"quantitative\", \"axis\": {\"title\": \"Daily confirmed deaths\"}, \"field\": \"New_deaths\"}}}, {\"mark\": {\"type\": \"line\", \"color\": \"firebrick\", \"point\": {\"filled\": true, \"fill\": \"firebrick\"}}, \"encoding\": {\"shape\": {\"type\": \"nominal\", \"field\": \"7-day rolling average\", \"legend\": {\"title\": \"\"}}, \"x\": {\"type\": \"nominal\", \"axis\": {\"title\": \"Date\"}, \"field\": \"Dates\"}, \"y\": {\"type\": \"quantitative\", \"field\": \"Rolling\"}}}], \"data\": {\"name\": \"data-1b937a1a2a214f7595d1d33154b4ed07\"}, \"title\": \"Covid-19 in Chile: Daily confirmed deaths in Los R\\u00edos\", \"width\": 600, \"$schema\": \"https://vega.github.io/schema/vega-lite/v4.8.1.json\", \"datasets\": {\"data-1b937a1a2a214f7595d1d33154b4ed07\": [{\"Dates\": \"2020-03-25\", \"New_deaths\": 0, \"Rolling\": null, \"Daily confirmed deaths\": \"Daily confirmed deaths\", \"7-day rolling average\": \"7-day rolling average\"}, {\"Dates\": \"2020-03-26\", \"New_deaths\": 0, \"Rolling\": null, \"Daily confirmed deaths\": \"Daily confirmed deaths\", \"7-day rolling average\": \"7-day rolling average\"}, {\"Dates\": \"2020-03-27\", \"New_deaths\": 0, \"Rolling\": null, \"Daily confirmed deaths\": \"Daily confirmed deaths\", \"7-day rolling average\": \"7-day rolling average\"}, {\"Dates\": \"2020-03-28\", \"New_deaths\": 0, \"Rolling\": null, \"Daily confirmed deaths\": \"Daily confirmed deaths\", \"7-day rolling average\": \"7-day rolling average\"}, {\"Dates\": \"2020-03-29\", \"New_deaths\": 0, \"Rolling\": null, \"Daily confirmed deaths\": \"Daily confirmed deaths\", \"7-day rolling average\": \"7-day rolling average\"}, {\"Dates\": \"2020-03-30\", \"New_deaths\": 0, \"Rolling\": null, \"Daily confirmed deaths\": \"Daily confirmed deaths\", \"7-day rolling average\": \"7-day rolling average\"}, {\"Dates\": \"2020-03-31\", \"New_deaths\": 0, \"Rolling\": 0.0, \"Daily confirmed deaths\": \"Daily confirmed deaths\", \"7-day rolling average\": \"7-day rolling average\"}, {\"Dates\": \"2020-04-01\", \"New_deaths\": 1, \"Rolling\": 0.14285714285714285, \"Daily confirmed deaths\": \"Daily confirmed deaths\", \"7-day rolling average\": \"7-day rolling average\"}, {\"Dates\": \"2020-04-02\", \"New_deaths\": 0, \"Rolling\": 0.14285714285714285, \"Daily confirmed deaths\": \"Daily confirmed deaths\", \"7-day rolling average\": \"7-day rolling average\"}, {\"Dates\": \"2020-04-03\", \"New_deaths\": 0, \"Rolling\": 0.14285714285714285, \"Daily confirmed deaths\": \"Daily confirmed deaths\", \"7-day rolling average\": \"7-day rolling average\"}, {\"Dates\": \"2020-04-04\", \"New_deaths\": 0, \"Rolling\": 0.14285714285714285, \"Daily confirmed deaths\": \"Daily confirmed deaths\", \"7-day rolling average\": \"7-day rolling average\"}, {\"Dates\": \"2020-04-05\", \"New_deaths\": 0, \"Rolling\": 0.14285714285714285, \"Daily confirmed deaths\": \"Daily confirmed deaths\", \"7-day rolling average\": \"7-day rolling average\"}, {\"Dates\": \"2020-04-06\", \"New_deaths\": 0, \"Rolling\": 0.14285714285714285, \"Daily confirmed deaths\": \"Daily confirmed deaths\", \"7-day rolling average\": \"7-day rolling average\"}, {\"Dates\": \"2020-04-07\", \"New_deaths\": 1, \"Rolling\": 0.2857142857142857, \"Daily confirmed deaths\": \"Daily confirmed deaths\", \"7-day rolling average\": \"7-day rolling average\"}, {\"Dates\": \"2020-04-08\", \"New_deaths\": 0, \"Rolling\": 0.14285714285714285, \"Daily confirmed deaths\": \"Daily confirmed deaths\", \"7-day rolling average\": \"7-day rolling average\"}, {\"Dates\": \"2020-04-09\", \"New_deaths\": 0, \"Rolling\": 0.14285714285714285, \"Daily confirmed deaths\": \"Daily confirmed deaths\", \"7-day rolling average\": \"7-day rolling average\"}, {\"Dates\": \"2020-04-10\", \"New_deaths\": 0, \"Rolling\": 0.14285714285714285, \"Daily confirmed deaths\": \"Daily confirmed deaths\", \"7-day rolling average\": \"7-day rolling average\"}, {\"Dates\": \"2020-04-11\", \"New_deaths\": 0, \"Rolling\": 0.14285714285714285, \"Daily confirmed deaths\": \"Daily confirmed deaths\", \"7-day rolling average\": \"7-day rolling average\"}, {\"Dates\": \"2020-04-12\", \"New_deaths\": 1, \"Rolling\": 0.2857142857142857, \"Daily confirmed deaths\": \"Daily confirmed deaths\", \"7-day rolling average\": \"7-day rolling average\"}, {\"Dates\": \"2020-04-13\", \"New_deaths\": 0, \"Rolling\": 0.2857142857142857, \"Daily confirmed deaths\": \"Daily confirmed deaths\", \"7-day rolling average\": \"7-day rolling average\"}, {\"Dates\": \"2020-04-14\", \"New_deaths\": 0, \"Rolling\": 0.14285714285714285, \"Daily confirmed deaths\": \"Daily confirmed deaths\", \"7-day rolling average\": \"7-day rolling average\"}, {\"Dates\": \"2020-04-15\", \"New_deaths\": 0, \"Rolling\": 0.14285714285714285, \"Daily confirmed deaths\": \"Daily confirmed deaths\", \"7-day rolling average\": \"7-day rolling average\"}, {\"Dates\": \"2020-04-16\", \"New_deaths\": 0, \"Rolling\": 0.14285714285714285, \"Daily confirmed deaths\": \"Daily confirmed deaths\", \"7-day rolling average\": \"7-day rolling average\"}, {\"Dates\": \"2020-04-17\", \"New_deaths\": 0, \"Rolling\": 0.14285714285714285, \"Daily confirmed deaths\": \"Daily confirmed deaths\", \"7-day rolling average\": \"7-day rolling average\"}, {\"Dates\": \"2020-04-18\", \"New_deaths\": 0, \"Rolling\": 0.14285714285714285, \"Daily confirmed deaths\": \"Daily confirmed deaths\", \"7-day rolling average\": \"7-day rolling average\"}, {\"Dates\": \"2020-04-19\", \"New_deaths\": 0, \"Rolling\": 0.0, \"Daily confirmed deaths\": \"Daily confirmed deaths\", \"7-day rolling average\": \"7-day rolling average\"}, {\"Dates\": \"2020-04-20\", \"New_deaths\": 0, \"Rolling\": 0.0, \"Daily confirmed deaths\": \"Daily confirmed deaths\", \"7-day rolling average\": \"7-day rolling average\"}, {\"Dates\": \"2020-04-21\", \"New_deaths\": 0, \"Rolling\": 0.0, \"Daily confirmed deaths\": \"Daily confirmed deaths\", \"7-day rolling average\": \"7-day rolling average\"}, {\"Dates\": \"2020-04-22\", \"New_deaths\": 0, \"Rolling\": 0.0, \"Daily confirmed deaths\": \"Daily confirmed deaths\", \"7-day rolling average\": \"7-day rolling average\"}, {\"Dates\": \"2020-04-23\", \"New_deaths\": 0, \"Rolling\": 0.0, \"Daily confirmed deaths\": \"Daily confirmed deaths\", \"7-day rolling average\": \"7-day rolling average\"}, {\"Dates\": \"2020-04-24\", \"New_deaths\": 0, \"Rolling\": 0.0, \"Daily confirmed deaths\": \"Daily confirmed deaths\", \"7-day rolling average\": \"7-day rolling average\"}, {\"Dates\": \"2020-04-25\", \"New_deaths\": 0, \"Rolling\": 0.0, \"Daily confirmed deaths\": \"Daily confirmed deaths\", \"7-day rolling average\": \"7-day rolling average\"}, {\"Dates\": \"2020-04-26\", \"New_deaths\": 0, \"Rolling\": 0.0, \"Daily confirmed deaths\": \"Daily confirmed deaths\", \"7-day rolling average\": \"7-day rolling average\"}]}}, {\"mode\": \"vega-lite\"});\n",
       "</script>"
      ],
      "text/plain": [
       "alt.LayerChart(...)"
      ]
     },
     "execution_count": 100,
     "metadata": {},
     "output_type": "execute_result"
    }
   ],
   "source": [
    "#hide_input\n",
    "bars, line = my_deaths_plot(region)\n",
    "(bars + line).properties(\n",
    "    title=f'Covid-19 in Chile: Daily confirmed deaths in {region}',\n",
    "    width=600\n",
    ")"
   ]
  },
  {
   "cell_type": "markdown",
   "metadata": {},
   "source": [
    "## Los Lagos"
   ]
  },
  {
   "cell_type": "code",
   "execution_count": 101,
   "metadata": {
    "scrolled": true
   },
   "outputs": [],
   "source": [
    "#hide\n",
    "region = \"Los Lagos\""
   ]
  },
  {
   "cell_type": "code",
   "execution_count": 102,
   "metadata": {},
   "outputs": [
    {
     "data": {
      "text/html": [
       "\n",
       "<div id=\"altair-viz-529728f863c742619651921315dd119a\"></div>\n",
       "<script type=\"text/javascript\">\n",
       "  (function(spec, embedOpt){\n",
       "    let outputDiv = document.currentScript.previousElementSibling;\n",
       "    if (outputDiv.id !== \"altair-viz-529728f863c742619651921315dd119a\") {\n",
       "      outputDiv = document.getElementById(\"altair-viz-529728f863c742619651921315dd119a\");\n",
       "    }\n",
       "    const paths = {\n",
       "      \"vega\": \"https://cdn.jsdelivr.net/npm//vega@5?noext\",\n",
       "      \"vega-lib\": \"https://cdn.jsdelivr.net/npm//vega-lib?noext\",\n",
       "      \"vega-lite\": \"https://cdn.jsdelivr.net/npm//vega-lite@4.8.1?noext\",\n",
       "      \"vega-embed\": \"https://cdn.jsdelivr.net/npm//vega-embed@6?noext\",\n",
       "    };\n",
       "\n",
       "    function loadScript(lib) {\n",
       "      return new Promise(function(resolve, reject) {\n",
       "        var s = document.createElement('script');\n",
       "        s.src = paths[lib];\n",
       "        s.async = true;\n",
       "        s.onload = () => resolve(paths[lib]);\n",
       "        s.onerror = () => reject(`Error loading script: ${paths[lib]}`);\n",
       "        document.getElementsByTagName(\"head\")[0].appendChild(s);\n",
       "      });\n",
       "    }\n",
       "\n",
       "    function showError(err) {\n",
       "      outputDiv.innerHTML = `<div class=\"error\" style=\"color:red;\">${err}</div>`;\n",
       "      throw err;\n",
       "    }\n",
       "\n",
       "    function displayChart(vegaEmbed) {\n",
       "      vegaEmbed(outputDiv, spec, embedOpt)\n",
       "        .catch(err => showError(`Javascript Error: ${err.message}<br>This usually means there's a typo in your chart specification. See the javascript console for the full traceback.`));\n",
       "    }\n",
       "\n",
       "    if(typeof define === \"function\" && define.amd) {\n",
       "      requirejs.config({paths});\n",
       "      require([\"vega-embed\"], displayChart, err => showError(`Error loading script: ${err.message}`));\n",
       "    } else if (typeof vegaEmbed === \"function\") {\n",
       "      displayChart(vegaEmbed);\n",
       "    } else {\n",
       "      loadScript(\"vega\")\n",
       "        .then(() => loadScript(\"vega-lite\"))\n",
       "        .then(() => loadScript(\"vega-embed\"))\n",
       "        .catch(showError)\n",
       "        .then(() => displayChart(vegaEmbed));\n",
       "    }\n",
       "  })({\"config\": {\"view\": {\"continuousWidth\": 400, \"continuousHeight\": 300}}, \"layer\": [{\"mark\": {\"type\": \"bar\", \"color\": \"firebrick\", \"opacity\": 0.7}, \"encoding\": {\"opacity\": {\"type\": \"nominal\", \"field\": \"Daily confirmed deaths\", \"legend\": {\"title\": \"\"}}, \"tooltip\": [{\"type\": \"nominal\", \"field\": \"Dates\"}, {\"type\": \"quantitative\", \"field\": \"New_deaths\"}], \"x\": {\"type\": \"nominal\", \"axis\": {\"title\": \"Date\"}, \"field\": \"Dates\"}, \"y\": {\"type\": \"quantitative\", \"axis\": {\"title\": \"Daily confirmed deaths\"}, \"field\": \"New_deaths\"}}}, {\"mark\": {\"type\": \"line\", \"color\": \"firebrick\", \"point\": {\"filled\": true, \"fill\": \"firebrick\"}}, \"encoding\": {\"shape\": {\"type\": \"nominal\", \"field\": \"7-day rolling average\", \"legend\": {\"title\": \"\"}}, \"x\": {\"type\": \"nominal\", \"axis\": {\"title\": \"Date\"}, \"field\": \"Dates\"}, \"y\": {\"type\": \"quantitative\", \"field\": \"Rolling\"}}}], \"data\": {\"name\": \"data-883ad02b0a293eeb988f39b5cc7faa7d\"}, \"title\": \"Covid-19 in Chile: Daily confirmed deaths in Los Lagos\", \"width\": 600, \"$schema\": \"https://vega.github.io/schema/vega-lite/v4.8.1.json\", \"datasets\": {\"data-883ad02b0a293eeb988f39b5cc7faa7d\": [{\"Dates\": \"2020-03-25\", \"New_deaths\": 0, \"Rolling\": null, \"Daily confirmed deaths\": \"Daily confirmed deaths\", \"7-day rolling average\": \"7-day rolling average\"}, {\"Dates\": \"2020-03-26\", \"New_deaths\": 0, \"Rolling\": null, \"Daily confirmed deaths\": \"Daily confirmed deaths\", \"7-day rolling average\": \"7-day rolling average\"}, {\"Dates\": \"2020-03-27\", \"New_deaths\": 0, \"Rolling\": null, \"Daily confirmed deaths\": \"Daily confirmed deaths\", \"7-day rolling average\": \"7-day rolling average\"}, {\"Dates\": \"2020-03-28\", \"New_deaths\": 0, \"Rolling\": null, \"Daily confirmed deaths\": \"Daily confirmed deaths\", \"7-day rolling average\": \"7-day rolling average\"}, {\"Dates\": \"2020-03-29\", \"New_deaths\": 0, \"Rolling\": null, \"Daily confirmed deaths\": \"Daily confirmed deaths\", \"7-day rolling average\": \"7-day rolling average\"}, {\"Dates\": \"2020-03-30\", \"New_deaths\": 0, \"Rolling\": null, \"Daily confirmed deaths\": \"Daily confirmed deaths\", \"7-day rolling average\": \"7-day rolling average\"}, {\"Dates\": \"2020-03-31\", \"New_deaths\": 0, \"Rolling\": 0.0, \"Daily confirmed deaths\": \"Daily confirmed deaths\", \"7-day rolling average\": \"7-day rolling average\"}, {\"Dates\": \"2020-04-01\", \"New_deaths\": 0, \"Rolling\": 0.0, \"Daily confirmed deaths\": \"Daily confirmed deaths\", \"7-day rolling average\": \"7-day rolling average\"}, {\"Dates\": \"2020-04-02\", \"New_deaths\": 0, \"Rolling\": 0.0, \"Daily confirmed deaths\": \"Daily confirmed deaths\", \"7-day rolling average\": \"7-day rolling average\"}, {\"Dates\": \"2020-04-03\", \"New_deaths\": 0, \"Rolling\": 0.0, \"Daily confirmed deaths\": \"Daily confirmed deaths\", \"7-day rolling average\": \"7-day rolling average\"}, {\"Dates\": \"2020-04-04\", \"New_deaths\": 0, \"Rolling\": 0.0, \"Daily confirmed deaths\": \"Daily confirmed deaths\", \"7-day rolling average\": \"7-day rolling average\"}, {\"Dates\": \"2020-04-05\", \"New_deaths\": 1, \"Rolling\": 0.14285714285714285, \"Daily confirmed deaths\": \"Daily confirmed deaths\", \"7-day rolling average\": \"7-day rolling average\"}, {\"Dates\": \"2020-04-06\", \"New_deaths\": 1, \"Rolling\": 0.2857142857142857, \"Daily confirmed deaths\": \"Daily confirmed deaths\", \"7-day rolling average\": \"7-day rolling average\"}, {\"Dates\": \"2020-04-07\", \"New_deaths\": 0, \"Rolling\": 0.2857142857142857, \"Daily confirmed deaths\": \"Daily confirmed deaths\", \"7-day rolling average\": \"7-day rolling average\"}, {\"Dates\": \"2020-04-08\", \"New_deaths\": 0, \"Rolling\": 0.2857142857142857, \"Daily confirmed deaths\": \"Daily confirmed deaths\", \"7-day rolling average\": \"7-day rolling average\"}, {\"Dates\": \"2020-04-09\", \"New_deaths\": 0, \"Rolling\": 0.2857142857142857, \"Daily confirmed deaths\": \"Daily confirmed deaths\", \"7-day rolling average\": \"7-day rolling average\"}, {\"Dates\": \"2020-04-10\", \"New_deaths\": 0, \"Rolling\": 0.2857142857142857, \"Daily confirmed deaths\": \"Daily confirmed deaths\", \"7-day rolling average\": \"7-day rolling average\"}, {\"Dates\": \"2020-04-11\", \"New_deaths\": 3, \"Rolling\": 0.7142857142857143, \"Daily confirmed deaths\": \"Daily confirmed deaths\", \"7-day rolling average\": \"7-day rolling average\"}, {\"Dates\": \"2020-04-12\", \"New_deaths\": 0, \"Rolling\": 0.5714285714285714, \"Daily confirmed deaths\": \"Daily confirmed deaths\", \"7-day rolling average\": \"7-day rolling average\"}, {\"Dates\": \"2020-04-13\", \"New_deaths\": 0, \"Rolling\": 0.42857142857142855, \"Daily confirmed deaths\": \"Daily confirmed deaths\", \"7-day rolling average\": \"7-day rolling average\"}, {\"Dates\": \"2020-04-14\", \"New_deaths\": 0, \"Rolling\": 0.42857142857142855, \"Daily confirmed deaths\": \"Daily confirmed deaths\", \"7-day rolling average\": \"7-day rolling average\"}, {\"Dates\": \"2020-04-15\", \"New_deaths\": 0, \"Rolling\": 0.42857142857142855, \"Daily confirmed deaths\": \"Daily confirmed deaths\", \"7-day rolling average\": \"7-day rolling average\"}, {\"Dates\": \"2020-04-16\", \"New_deaths\": 0, \"Rolling\": 0.42857142857142855, \"Daily confirmed deaths\": \"Daily confirmed deaths\", \"7-day rolling average\": \"7-day rolling average\"}, {\"Dates\": \"2020-04-17\", \"New_deaths\": 1, \"Rolling\": 0.5714285714285714, \"Daily confirmed deaths\": \"Daily confirmed deaths\", \"7-day rolling average\": \"7-day rolling average\"}, {\"Dates\": \"2020-04-18\", \"New_deaths\": 0, \"Rolling\": 0.14285714285714285, \"Daily confirmed deaths\": \"Daily confirmed deaths\", \"7-day rolling average\": \"7-day rolling average\"}, {\"Dates\": \"2020-04-19\", \"New_deaths\": 0, \"Rolling\": 0.14285714285714285, \"Daily confirmed deaths\": \"Daily confirmed deaths\", \"7-day rolling average\": \"7-day rolling average\"}, {\"Dates\": \"2020-04-20\", \"New_deaths\": 0, \"Rolling\": 0.14285714285714285, \"Daily confirmed deaths\": \"Daily confirmed deaths\", \"7-day rolling average\": \"7-day rolling average\"}, {\"Dates\": \"2020-04-21\", \"New_deaths\": 0, \"Rolling\": 0.14285714285714285, \"Daily confirmed deaths\": \"Daily confirmed deaths\", \"7-day rolling average\": \"7-day rolling average\"}, {\"Dates\": \"2020-04-22\", \"New_deaths\": 0, \"Rolling\": 0.14285714285714285, \"Daily confirmed deaths\": \"Daily confirmed deaths\", \"7-day rolling average\": \"7-day rolling average\"}, {\"Dates\": \"2020-04-23\", \"New_deaths\": 1, \"Rolling\": 0.2857142857142857, \"Daily confirmed deaths\": \"Daily confirmed deaths\", \"7-day rolling average\": \"7-day rolling average\"}, {\"Dates\": \"2020-04-24\", \"New_deaths\": 1, \"Rolling\": 0.2857142857142857, \"Daily confirmed deaths\": \"Daily confirmed deaths\", \"7-day rolling average\": \"7-day rolling average\"}, {\"Dates\": \"2020-04-25\", \"New_deaths\": 0, \"Rolling\": 0.2857142857142857, \"Daily confirmed deaths\": \"Daily confirmed deaths\", \"7-day rolling average\": \"7-day rolling average\"}, {\"Dates\": \"2020-04-26\", \"New_deaths\": 0, \"Rolling\": 0.2857142857142857, \"Daily confirmed deaths\": \"Daily confirmed deaths\", \"7-day rolling average\": \"7-day rolling average\"}]}}, {\"mode\": \"vega-lite\"});\n",
       "</script>"
      ],
      "text/plain": [
       "alt.LayerChart(...)"
      ]
     },
     "execution_count": 102,
     "metadata": {},
     "output_type": "execute_result"
    }
   ],
   "source": [
    "#hide_input\n",
    "bars, line = my_deaths_plot(region)\n",
    "(bars + line).properties(\n",
    "    title=f'Covid-19 in Chile: Daily confirmed deaths in {region}',\n",
    "    width=600\n",
    ")"
   ]
  },
  {
   "cell_type": "markdown",
   "metadata": {},
   "source": [
    "## Aysén"
   ]
  },
  {
   "cell_type": "code",
   "execution_count": 103,
   "metadata": {
    "scrolled": true
   },
   "outputs": [],
   "source": [
    "#hide\n",
    "region = \"Aysén\""
   ]
  },
  {
   "cell_type": "code",
   "execution_count": 104,
   "metadata": {},
   "outputs": [
    {
     "data": {
      "text/html": [
       "\n",
       "<div id=\"altair-viz-0abad92820aa47e0a7bdc379bcb22853\"></div>\n",
       "<script type=\"text/javascript\">\n",
       "  (function(spec, embedOpt){\n",
       "    let outputDiv = document.currentScript.previousElementSibling;\n",
       "    if (outputDiv.id !== \"altair-viz-0abad92820aa47e0a7bdc379bcb22853\") {\n",
       "      outputDiv = document.getElementById(\"altair-viz-0abad92820aa47e0a7bdc379bcb22853\");\n",
       "    }\n",
       "    const paths = {\n",
       "      \"vega\": \"https://cdn.jsdelivr.net/npm//vega@5?noext\",\n",
       "      \"vega-lib\": \"https://cdn.jsdelivr.net/npm//vega-lib?noext\",\n",
       "      \"vega-lite\": \"https://cdn.jsdelivr.net/npm//vega-lite@4.8.1?noext\",\n",
       "      \"vega-embed\": \"https://cdn.jsdelivr.net/npm//vega-embed@6?noext\",\n",
       "    };\n",
       "\n",
       "    function loadScript(lib) {\n",
       "      return new Promise(function(resolve, reject) {\n",
       "        var s = document.createElement('script');\n",
       "        s.src = paths[lib];\n",
       "        s.async = true;\n",
       "        s.onload = () => resolve(paths[lib]);\n",
       "        s.onerror = () => reject(`Error loading script: ${paths[lib]}`);\n",
       "        document.getElementsByTagName(\"head\")[0].appendChild(s);\n",
       "      });\n",
       "    }\n",
       "\n",
       "    function showError(err) {\n",
       "      outputDiv.innerHTML = `<div class=\"error\" style=\"color:red;\">${err}</div>`;\n",
       "      throw err;\n",
       "    }\n",
       "\n",
       "    function displayChart(vegaEmbed) {\n",
       "      vegaEmbed(outputDiv, spec, embedOpt)\n",
       "        .catch(err => showError(`Javascript Error: ${err.message}<br>This usually means there's a typo in your chart specification. See the javascript console for the full traceback.`));\n",
       "    }\n",
       "\n",
       "    if(typeof define === \"function\" && define.amd) {\n",
       "      requirejs.config({paths});\n",
       "      require([\"vega-embed\"], displayChart, err => showError(`Error loading script: ${err.message}`));\n",
       "    } else if (typeof vegaEmbed === \"function\") {\n",
       "      displayChart(vegaEmbed);\n",
       "    } else {\n",
       "      loadScript(\"vega\")\n",
       "        .then(() => loadScript(\"vega-lite\"))\n",
       "        .then(() => loadScript(\"vega-embed\"))\n",
       "        .catch(showError)\n",
       "        .then(() => displayChart(vegaEmbed));\n",
       "    }\n",
       "  })({\"config\": {\"view\": {\"continuousWidth\": 400, \"continuousHeight\": 300}}, \"layer\": [{\"mark\": {\"type\": \"bar\", \"color\": \"firebrick\", \"opacity\": 0.7}, \"encoding\": {\"opacity\": {\"type\": \"nominal\", \"field\": \"Daily confirmed deaths\", \"legend\": {\"title\": \"\"}}, \"tooltip\": [{\"type\": \"nominal\", \"field\": \"Dates\"}, {\"type\": \"quantitative\", \"field\": \"New_deaths\"}], \"x\": {\"type\": \"nominal\", \"axis\": {\"title\": \"Date\"}, \"field\": \"Dates\"}, \"y\": {\"type\": \"quantitative\", \"axis\": {\"title\": \"Daily confirmed deaths\"}, \"field\": \"New_deaths\"}}}, {\"mark\": {\"type\": \"line\", \"color\": \"firebrick\", \"point\": {\"filled\": true, \"fill\": \"firebrick\"}}, \"encoding\": {\"shape\": {\"type\": \"nominal\", \"field\": \"7-day rolling average\", \"legend\": {\"title\": \"\"}}, \"x\": {\"type\": \"nominal\", \"axis\": {\"title\": \"Date\"}, \"field\": \"Dates\"}, \"y\": {\"type\": \"quantitative\", \"field\": \"Rolling\"}}}], \"data\": {\"name\": \"data-18ca4da0a7488994013fea763307f02c\"}, \"title\": \"Covid-19 in Chile: Daily confirmed deaths in Ays\\u00e9n\", \"width\": 600, \"$schema\": \"https://vega.github.io/schema/vega-lite/v4.8.1.json\", \"datasets\": {\"data-18ca4da0a7488994013fea763307f02c\": [{\"Dates\": \"2020-03-25\", \"New_deaths\": 0, \"Rolling\": null, \"Daily confirmed deaths\": \"Daily confirmed deaths\", \"7-day rolling average\": \"7-day rolling average\"}, {\"Dates\": \"2020-03-26\", \"New_deaths\": 0, \"Rolling\": null, \"Daily confirmed deaths\": \"Daily confirmed deaths\", \"7-day rolling average\": \"7-day rolling average\"}, {\"Dates\": \"2020-03-27\", \"New_deaths\": 0, \"Rolling\": null, \"Daily confirmed deaths\": \"Daily confirmed deaths\", \"7-day rolling average\": \"7-day rolling average\"}, {\"Dates\": \"2020-03-28\", \"New_deaths\": 0, \"Rolling\": null, \"Daily confirmed deaths\": \"Daily confirmed deaths\", \"7-day rolling average\": \"7-day rolling average\"}, {\"Dates\": \"2020-03-29\", \"New_deaths\": 0, \"Rolling\": null, \"Daily confirmed deaths\": \"Daily confirmed deaths\", \"7-day rolling average\": \"7-day rolling average\"}, {\"Dates\": \"2020-03-30\", \"New_deaths\": 0, \"Rolling\": null, \"Daily confirmed deaths\": \"Daily confirmed deaths\", \"7-day rolling average\": \"7-day rolling average\"}, {\"Dates\": \"2020-03-31\", \"New_deaths\": 0, \"Rolling\": 0.0, \"Daily confirmed deaths\": \"Daily confirmed deaths\", \"7-day rolling average\": \"7-day rolling average\"}, {\"Dates\": \"2020-04-01\", \"New_deaths\": 0, \"Rolling\": 0.0, \"Daily confirmed deaths\": \"Daily confirmed deaths\", \"7-day rolling average\": \"7-day rolling average\"}, {\"Dates\": \"2020-04-02\", \"New_deaths\": 0, \"Rolling\": 0.0, \"Daily confirmed deaths\": \"Daily confirmed deaths\", \"7-day rolling average\": \"7-day rolling average\"}, {\"Dates\": \"2020-04-03\", \"New_deaths\": 0, \"Rolling\": 0.0, \"Daily confirmed deaths\": \"Daily confirmed deaths\", \"7-day rolling average\": \"7-day rolling average\"}, {\"Dates\": \"2020-04-04\", \"New_deaths\": 0, \"Rolling\": 0.0, \"Daily confirmed deaths\": \"Daily confirmed deaths\", \"7-day rolling average\": \"7-day rolling average\"}, {\"Dates\": \"2020-04-05\", \"New_deaths\": 0, \"Rolling\": 0.0, \"Daily confirmed deaths\": \"Daily confirmed deaths\", \"7-day rolling average\": \"7-day rolling average\"}, {\"Dates\": \"2020-04-06\", \"New_deaths\": 0, \"Rolling\": 0.0, \"Daily confirmed deaths\": \"Daily confirmed deaths\", \"7-day rolling average\": \"7-day rolling average\"}, {\"Dates\": \"2020-04-07\", \"New_deaths\": 0, \"Rolling\": 0.0, \"Daily confirmed deaths\": \"Daily confirmed deaths\", \"7-day rolling average\": \"7-day rolling average\"}, {\"Dates\": \"2020-04-08\", \"New_deaths\": 0, \"Rolling\": 0.0, \"Daily confirmed deaths\": \"Daily confirmed deaths\", \"7-day rolling average\": \"7-day rolling average\"}, {\"Dates\": \"2020-04-09\", \"New_deaths\": 0, \"Rolling\": 0.0, \"Daily confirmed deaths\": \"Daily confirmed deaths\", \"7-day rolling average\": \"7-day rolling average\"}, {\"Dates\": \"2020-04-10\", \"New_deaths\": 0, \"Rolling\": 0.0, \"Daily confirmed deaths\": \"Daily confirmed deaths\", \"7-day rolling average\": \"7-day rolling average\"}, {\"Dates\": \"2020-04-11\", \"New_deaths\": 0, \"Rolling\": 0.0, \"Daily confirmed deaths\": \"Daily confirmed deaths\", \"7-day rolling average\": \"7-day rolling average\"}, {\"Dates\": \"2020-04-12\", \"New_deaths\": 0, \"Rolling\": 0.0, \"Daily confirmed deaths\": \"Daily confirmed deaths\", \"7-day rolling average\": \"7-day rolling average\"}, {\"Dates\": \"2020-04-13\", \"New_deaths\": 0, \"Rolling\": 0.0, \"Daily confirmed deaths\": \"Daily confirmed deaths\", \"7-day rolling average\": \"7-day rolling average\"}, {\"Dates\": \"2020-04-14\", \"New_deaths\": 0, \"Rolling\": 0.0, \"Daily confirmed deaths\": \"Daily confirmed deaths\", \"7-day rolling average\": \"7-day rolling average\"}, {\"Dates\": \"2020-04-15\", \"New_deaths\": 0, \"Rolling\": 0.0, \"Daily confirmed deaths\": \"Daily confirmed deaths\", \"7-day rolling average\": \"7-day rolling average\"}, {\"Dates\": \"2020-04-16\", \"New_deaths\": 0, \"Rolling\": 0.0, \"Daily confirmed deaths\": \"Daily confirmed deaths\", \"7-day rolling average\": \"7-day rolling average\"}, {\"Dates\": \"2020-04-17\", \"New_deaths\": 0, \"Rolling\": 0.0, \"Daily confirmed deaths\": \"Daily confirmed deaths\", \"7-day rolling average\": \"7-day rolling average\"}, {\"Dates\": \"2020-04-18\", \"New_deaths\": 0, \"Rolling\": 0.0, \"Daily confirmed deaths\": \"Daily confirmed deaths\", \"7-day rolling average\": \"7-day rolling average\"}, {\"Dates\": \"2020-04-19\", \"New_deaths\": 0, \"Rolling\": 0.0, \"Daily confirmed deaths\": \"Daily confirmed deaths\", \"7-day rolling average\": \"7-day rolling average\"}, {\"Dates\": \"2020-04-20\", \"New_deaths\": 0, \"Rolling\": 0.0, \"Daily confirmed deaths\": \"Daily confirmed deaths\", \"7-day rolling average\": \"7-day rolling average\"}, {\"Dates\": \"2020-04-21\", \"New_deaths\": 0, \"Rolling\": 0.0, \"Daily confirmed deaths\": \"Daily confirmed deaths\", \"7-day rolling average\": \"7-day rolling average\"}, {\"Dates\": \"2020-04-22\", \"New_deaths\": 0, \"Rolling\": 0.0, \"Daily confirmed deaths\": \"Daily confirmed deaths\", \"7-day rolling average\": \"7-day rolling average\"}, {\"Dates\": \"2020-04-23\", \"New_deaths\": 0, \"Rolling\": 0.0, \"Daily confirmed deaths\": \"Daily confirmed deaths\", \"7-day rolling average\": \"7-day rolling average\"}, {\"Dates\": \"2020-04-24\", \"New_deaths\": 0, \"Rolling\": 0.0, \"Daily confirmed deaths\": \"Daily confirmed deaths\", \"7-day rolling average\": \"7-day rolling average\"}, {\"Dates\": \"2020-04-25\", \"New_deaths\": 0, \"Rolling\": 0.0, \"Daily confirmed deaths\": \"Daily confirmed deaths\", \"7-day rolling average\": \"7-day rolling average\"}, {\"Dates\": \"2020-04-26\", \"New_deaths\": 0, \"Rolling\": 0.0, \"Daily confirmed deaths\": \"Daily confirmed deaths\", \"7-day rolling average\": \"7-day rolling average\"}]}}, {\"mode\": \"vega-lite\"});\n",
       "</script>"
      ],
      "text/plain": [
       "alt.LayerChart(...)"
      ]
     },
     "execution_count": 104,
     "metadata": {},
     "output_type": "execute_result"
    }
   ],
   "source": [
    "#hide_input\n",
    "bars, line = my_deaths_plot(region)\n",
    "(bars + line).properties(\n",
    "    title=f'Covid-19 in Chile: Daily confirmed deaths in {region}',\n",
    "    width=600\n",
    ")"
   ]
  },
  {
   "cell_type": "markdown",
   "metadata": {},
   "source": [
    "## Magallanes"
   ]
  },
  {
   "cell_type": "code",
   "execution_count": 105,
   "metadata": {
    "scrolled": true
   },
   "outputs": [],
   "source": [
    "#hide\n",
    "region = \"Magallanes\""
   ]
  },
  {
   "cell_type": "code",
   "execution_count": 106,
   "metadata": {},
   "outputs": [
    {
     "data": {
      "text/html": [
       "\n",
       "<div id=\"altair-viz-c90681a474f148c2bee88b5720a8c1c1\"></div>\n",
       "<script type=\"text/javascript\">\n",
       "  (function(spec, embedOpt){\n",
       "    let outputDiv = document.currentScript.previousElementSibling;\n",
       "    if (outputDiv.id !== \"altair-viz-c90681a474f148c2bee88b5720a8c1c1\") {\n",
       "      outputDiv = document.getElementById(\"altair-viz-c90681a474f148c2bee88b5720a8c1c1\");\n",
       "    }\n",
       "    const paths = {\n",
       "      \"vega\": \"https://cdn.jsdelivr.net/npm//vega@5?noext\",\n",
       "      \"vega-lib\": \"https://cdn.jsdelivr.net/npm//vega-lib?noext\",\n",
       "      \"vega-lite\": \"https://cdn.jsdelivr.net/npm//vega-lite@4.8.1?noext\",\n",
       "      \"vega-embed\": \"https://cdn.jsdelivr.net/npm//vega-embed@6?noext\",\n",
       "    };\n",
       "\n",
       "    function loadScript(lib) {\n",
       "      return new Promise(function(resolve, reject) {\n",
       "        var s = document.createElement('script');\n",
       "        s.src = paths[lib];\n",
       "        s.async = true;\n",
       "        s.onload = () => resolve(paths[lib]);\n",
       "        s.onerror = () => reject(`Error loading script: ${paths[lib]}`);\n",
       "        document.getElementsByTagName(\"head\")[0].appendChild(s);\n",
       "      });\n",
       "    }\n",
       "\n",
       "    function showError(err) {\n",
       "      outputDiv.innerHTML = `<div class=\"error\" style=\"color:red;\">${err}</div>`;\n",
       "      throw err;\n",
       "    }\n",
       "\n",
       "    function displayChart(vegaEmbed) {\n",
       "      vegaEmbed(outputDiv, spec, embedOpt)\n",
       "        .catch(err => showError(`Javascript Error: ${err.message}<br>This usually means there's a typo in your chart specification. See the javascript console for the full traceback.`));\n",
       "    }\n",
       "\n",
       "    if(typeof define === \"function\" && define.amd) {\n",
       "      requirejs.config({paths});\n",
       "      require([\"vega-embed\"], displayChart, err => showError(`Error loading script: ${err.message}`));\n",
       "    } else if (typeof vegaEmbed === \"function\") {\n",
       "      displayChart(vegaEmbed);\n",
       "    } else {\n",
       "      loadScript(\"vega\")\n",
       "        .then(() => loadScript(\"vega-lite\"))\n",
       "        .then(() => loadScript(\"vega-embed\"))\n",
       "        .catch(showError)\n",
       "        .then(() => displayChart(vegaEmbed));\n",
       "    }\n",
       "  })({\"config\": {\"view\": {\"continuousWidth\": 400, \"continuousHeight\": 300}}, \"layer\": [{\"mark\": {\"type\": \"bar\", \"color\": \"firebrick\", \"opacity\": 0.7}, \"encoding\": {\"opacity\": {\"type\": \"nominal\", \"field\": \"Daily confirmed deaths\", \"legend\": {\"title\": \"\"}}, \"tooltip\": [{\"type\": \"nominal\", \"field\": \"Dates\"}, {\"type\": \"quantitative\", \"field\": \"New_deaths\"}], \"x\": {\"type\": \"nominal\", \"axis\": {\"title\": \"Date\"}, \"field\": \"Dates\"}, \"y\": {\"type\": \"quantitative\", \"axis\": {\"title\": \"Daily confirmed deaths\"}, \"field\": \"New_deaths\"}}}, {\"mark\": {\"type\": \"line\", \"color\": \"firebrick\", \"point\": {\"filled\": true, \"fill\": \"firebrick\"}}, \"encoding\": {\"shape\": {\"type\": \"nominal\", \"field\": \"7-day rolling average\", \"legend\": {\"title\": \"\"}}, \"x\": {\"type\": \"nominal\", \"axis\": {\"title\": \"Date\"}, \"field\": \"Dates\"}, \"y\": {\"type\": \"quantitative\", \"field\": \"Rolling\"}}}], \"data\": {\"name\": \"data-a94c37bd74946914c061e2367591a232\"}, \"title\": \"Covid-19 in Chile: Daily confirmed deaths in Magallanes\", \"width\": 600, \"$schema\": \"https://vega.github.io/schema/vega-lite/v4.8.1.json\", \"datasets\": {\"data-a94c37bd74946914c061e2367591a232\": [{\"Dates\": \"2020-03-25\", \"New_deaths\": 0, \"Rolling\": null, \"Daily confirmed deaths\": \"Daily confirmed deaths\", \"7-day rolling average\": \"7-day rolling average\"}, {\"Dates\": \"2020-03-26\", \"New_deaths\": 0, \"Rolling\": null, \"Daily confirmed deaths\": \"Daily confirmed deaths\", \"7-day rolling average\": \"7-day rolling average\"}, {\"Dates\": \"2020-03-27\", \"New_deaths\": 0, \"Rolling\": null, \"Daily confirmed deaths\": \"Daily confirmed deaths\", \"7-day rolling average\": \"7-day rolling average\"}, {\"Dates\": \"2020-03-28\", \"New_deaths\": 0, \"Rolling\": null, \"Daily confirmed deaths\": \"Daily confirmed deaths\", \"7-day rolling average\": \"7-day rolling average\"}, {\"Dates\": \"2020-03-29\", \"New_deaths\": 0, \"Rolling\": null, \"Daily confirmed deaths\": \"Daily confirmed deaths\", \"7-day rolling average\": \"7-day rolling average\"}, {\"Dates\": \"2020-03-30\", \"New_deaths\": 0, \"Rolling\": null, \"Daily confirmed deaths\": \"Daily confirmed deaths\", \"7-day rolling average\": \"7-day rolling average\"}, {\"Dates\": \"2020-03-31\", \"New_deaths\": 0, \"Rolling\": 0.0, \"Daily confirmed deaths\": \"Daily confirmed deaths\", \"7-day rolling average\": \"7-day rolling average\"}, {\"Dates\": \"2020-04-01\", \"New_deaths\": 0, \"Rolling\": 0.0, \"Daily confirmed deaths\": \"Daily confirmed deaths\", \"7-day rolling average\": \"7-day rolling average\"}, {\"Dates\": \"2020-04-02\", \"New_deaths\": 0, \"Rolling\": 0.0, \"Daily confirmed deaths\": \"Daily confirmed deaths\", \"7-day rolling average\": \"7-day rolling average\"}, {\"Dates\": \"2020-04-03\", \"New_deaths\": 1, \"Rolling\": 0.14285714285714285, \"Daily confirmed deaths\": \"Daily confirmed deaths\", \"7-day rolling average\": \"7-day rolling average\"}, {\"Dates\": \"2020-04-04\", \"New_deaths\": 1, \"Rolling\": 0.2857142857142857, \"Daily confirmed deaths\": \"Daily confirmed deaths\", \"7-day rolling average\": \"7-day rolling average\"}, {\"Dates\": \"2020-04-05\", \"New_deaths\": 0, \"Rolling\": 0.2857142857142857, \"Daily confirmed deaths\": \"Daily confirmed deaths\", \"7-day rolling average\": \"7-day rolling average\"}, {\"Dates\": \"2020-04-06\", \"New_deaths\": 0, \"Rolling\": 0.2857142857142857, \"Daily confirmed deaths\": \"Daily confirmed deaths\", \"7-day rolling average\": \"7-day rolling average\"}, {\"Dates\": \"2020-04-07\", \"New_deaths\": 0, \"Rolling\": 0.2857142857142857, \"Daily confirmed deaths\": \"Daily confirmed deaths\", \"7-day rolling average\": \"7-day rolling average\"}, {\"Dates\": \"2020-04-08\", \"New_deaths\": 1, \"Rolling\": 0.42857142857142855, \"Daily confirmed deaths\": \"Daily confirmed deaths\", \"7-day rolling average\": \"7-day rolling average\"}, {\"Dates\": \"2020-04-09\", \"New_deaths\": 0, \"Rolling\": 0.42857142857142855, \"Daily confirmed deaths\": \"Daily confirmed deaths\", \"7-day rolling average\": \"7-day rolling average\"}, {\"Dates\": \"2020-04-10\", \"New_deaths\": 0, \"Rolling\": 0.2857142857142857, \"Daily confirmed deaths\": \"Daily confirmed deaths\", \"7-day rolling average\": \"7-day rolling average\"}, {\"Dates\": \"2020-04-11\", \"New_deaths\": 0, \"Rolling\": 0.14285714285714285, \"Daily confirmed deaths\": \"Daily confirmed deaths\", \"7-day rolling average\": \"7-day rolling average\"}, {\"Dates\": \"2020-04-12\", \"New_deaths\": 1, \"Rolling\": 0.2857142857142857, \"Daily confirmed deaths\": \"Daily confirmed deaths\", \"7-day rolling average\": \"7-day rolling average\"}, {\"Dates\": \"2020-04-13\", \"New_deaths\": 1, \"Rolling\": 0.42857142857142855, \"Daily confirmed deaths\": \"Daily confirmed deaths\", \"7-day rolling average\": \"7-day rolling average\"}, {\"Dates\": \"2020-04-14\", \"New_deaths\": 1, \"Rolling\": 0.5714285714285714, \"Daily confirmed deaths\": \"Daily confirmed deaths\", \"7-day rolling average\": \"7-day rolling average\"}, {\"Dates\": \"2020-04-15\", \"New_deaths\": 0, \"Rolling\": 0.42857142857142855, \"Daily confirmed deaths\": \"Daily confirmed deaths\", \"7-day rolling average\": \"7-day rolling average\"}, {\"Dates\": \"2020-04-16\", \"New_deaths\": 0, \"Rolling\": 0.42857142857142855, \"Daily confirmed deaths\": \"Daily confirmed deaths\", \"7-day rolling average\": \"7-day rolling average\"}, {\"Dates\": \"2020-04-17\", \"New_deaths\": 0, \"Rolling\": 0.42857142857142855, \"Daily confirmed deaths\": \"Daily confirmed deaths\", \"7-day rolling average\": \"7-day rolling average\"}, {\"Dates\": \"2020-04-18\", \"New_deaths\": 0, \"Rolling\": 0.42857142857142855, \"Daily confirmed deaths\": \"Daily confirmed deaths\", \"7-day rolling average\": \"7-day rolling average\"}, {\"Dates\": \"2020-04-19\", \"New_deaths\": 0, \"Rolling\": 0.2857142857142857, \"Daily confirmed deaths\": \"Daily confirmed deaths\", \"7-day rolling average\": \"7-day rolling average\"}, {\"Dates\": \"2020-04-20\", \"New_deaths\": 0, \"Rolling\": 0.14285714285714285, \"Daily confirmed deaths\": \"Daily confirmed deaths\", \"7-day rolling average\": \"7-day rolling average\"}, {\"Dates\": \"2020-04-21\", \"New_deaths\": 1, \"Rolling\": 0.14285714285714285, \"Daily confirmed deaths\": \"Daily confirmed deaths\", \"7-day rolling average\": \"7-day rolling average\"}, {\"Dates\": \"2020-04-22\", \"New_deaths\": 0, \"Rolling\": 0.14285714285714285, \"Daily confirmed deaths\": \"Daily confirmed deaths\", \"7-day rolling average\": \"7-day rolling average\"}, {\"Dates\": \"2020-04-23\", \"New_deaths\": 0, \"Rolling\": 0.14285714285714285, \"Daily confirmed deaths\": \"Daily confirmed deaths\", \"7-day rolling average\": \"7-day rolling average\"}, {\"Dates\": \"2020-04-24\", \"New_deaths\": 1, \"Rolling\": 0.2857142857142857, \"Daily confirmed deaths\": \"Daily confirmed deaths\", \"7-day rolling average\": \"7-day rolling average\"}, {\"Dates\": \"2020-04-25\", \"New_deaths\": 0, \"Rolling\": 0.2857142857142857, \"Daily confirmed deaths\": \"Daily confirmed deaths\", \"7-day rolling average\": \"7-day rolling average\"}, {\"Dates\": \"2020-04-26\", \"New_deaths\": 1, \"Rolling\": 0.42857142857142855, \"Daily confirmed deaths\": \"Daily confirmed deaths\", \"7-day rolling average\": \"7-day rolling average\"}]}}, {\"mode\": \"vega-lite\"});\n",
       "</script>"
      ],
      "text/plain": [
       "alt.LayerChart(...)"
      ]
     },
     "execution_count": 106,
     "metadata": {},
     "output_type": "execute_result"
    }
   ],
   "source": [
    "#hide_input\n",
    "bars, line = my_deaths_plot(region)\n",
    "(bars + line).properties(\n",
    "    title=f'Covid-19 in Chile: Daily confirmed deaths in {region}',\n",
    "    width=600\n",
    ")"
   ]
  },
  {
   "cell_type": "code",
   "execution_count": null,
   "metadata": {},
   "outputs": [],
   "source": []
  }
 ],
 "metadata": {
  "kernelspec": {
   "display_name": "Python 3",
   "language": "python",
   "name": "python3"
  },
  "language_info": {
   "codemirror_mode": {
    "name": "ipython",
    "version": 3
   },
   "file_extension": ".py",
   "mimetype": "text/x-python",
   "name": "python",
   "nbconvert_exporter": "python",
   "pygments_lexer": "ipython3",
   "version": "3.7.5"
  }
 },
 "nbformat": 4,
 "nbformat_minor": 2
}
