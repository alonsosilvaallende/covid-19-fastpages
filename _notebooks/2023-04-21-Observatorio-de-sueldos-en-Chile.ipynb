{
 "cells": [
  {
   "cell_type": "markdown",
   "metadata": {},
   "source": [
    "# \"Observatorio de sueldos en Chile\"\n",
    "> Observatorio de sueldos en Chile\n",
    "\n",
    "- toc: true \n",
    "- badges: true\n",
    "- comments: true\n",
    "- author: Alonso Silva Allende\n",
    "- categories: [jupyter]\n",
    "- image: images/diagram.png"
   ]
  },
  {
   "cell_type": "markdown",
   "metadata": {},
   "source": [
    "Los datos de sueldos en Chile se pueden obtener de la [encuesta suplementaria de ingresos (ESI)]\n",
    "(https://www.ine.gob.cl/estadisticas/sociales/ingresos-y-gastos/encuesta-suplementaria-de-ingresos). La última ESI disponible es la del año 2021 y se puede descargar [aquí](https://www.ine.gob.cl/docs/default-source/encuesta-suplementaria-de-ingresos/bbdd/csv_esi/2021/esi-2021---personas.csv?sfvrsn=d03ae552_4&download=true)."
   ]
  },
  {
   "cell_type": "markdown",
   "metadata": {},
   "source": [
    "Una vez que hemos descargado los datos podemos acceder a ellos:"
   ]
  },
  {
   "cell_type": "code",
   "execution_count": 1,
   "metadata": {},
   "outputs": [
    {
     "data": {
      "text/html": [
       "<div>\n",
       "<style scoped>\n",
       "    .dataframe tbody tr th:only-of-type {\n",
       "        vertical-align: middle;\n",
       "    }\n",
       "\n",
       "    .dataframe tbody tr th {\n",
       "        vertical-align: top;\n",
       "    }\n",
       "\n",
       "    .dataframe thead th {\n",
       "        text-align: right;\n",
       "    }\n",
       "</style>\n",
       "<table border=\"1\" class=\"dataframe\">\n",
       "  <thead>\n",
       "    <tr style=\"text-align: right;\">\n",
       "      <th></th>\n",
       "      <th>idrph</th>\n",
       "      <th>nro_linea</th>\n",
       "      <th>edad</th>\n",
       "      <th>tramo_edad</th>\n",
       "      <th>sexo</th>\n",
       "      <th>parentesco</th>\n",
       "      <th>curso</th>\n",
       "      <th>nivel</th>\n",
       "      <th>termino_nivel</th>\n",
       "      <th>estudia_actual</th>\n",
       "      <th>...</th>\n",
       "      <th>mes_central</th>\n",
       "      <th>ano_encuesta</th>\n",
       "      <th>mes_encuesta</th>\n",
       "      <th>region</th>\n",
       "      <th>r_p_c</th>\n",
       "      <th>estrato</th>\n",
       "      <th>tipo</th>\n",
       "      <th>conglomerado</th>\n",
       "      <th>id_identificacion</th>\n",
       "      <th>hogar</th>\n",
       "    </tr>\n",
       "  </thead>\n",
       "  <tbody>\n",
       "    <tr>\n",
       "      <th>1</th>\n",
       "      <td>14565</td>\n",
       "      <td>4</td>\n",
       "      <td>36</td>\n",
       "      <td>5.0</td>\n",
       "      <td>1</td>\n",
       "      <td>4</td>\n",
       "      <td>2</td>\n",
       "      <td>4</td>\n",
       "      <td>2</td>\n",
       "      <td>2</td>\n",
       "      <td>...</td>\n",
       "      <td>11</td>\n",
       "      <td>2021</td>\n",
       "      <td>10</td>\n",
       "      <td>8</td>\n",
       "      <td>8205</td>\n",
       "      <td>8200111</td>\n",
       "      <td>1</td>\n",
       "      <td>820510025</td>\n",
       "      <td>102542.0</td>\n",
       "      <td>1</td>\n",
       "    </tr>\n",
       "    <tr>\n",
       "      <th>2</th>\n",
       "      <td>24946</td>\n",
       "      <td>2</td>\n",
       "      <td>57</td>\n",
       "      <td>9.0</td>\n",
       "      <td>2</td>\n",
       "      <td>3</td>\n",
       "      <td>2</td>\n",
       "      <td>10</td>\n",
       "      <td>1</td>\n",
       "      <td>2</td>\n",
       "      <td>...</td>\n",
       "      <td>11</td>\n",
       "      <td>2021</td>\n",
       "      <td>12</td>\n",
       "      <td>13</td>\n",
       "      <td>13123</td>\n",
       "      <td>13291</td>\n",
       "      <td>1</td>\n",
       "      <td>13123000144956</td>\n",
       "      <td>69274.0</td>\n",
       "      <td>1</td>\n",
       "    </tr>\n",
       "    <tr>\n",
       "      <th>3</th>\n",
       "      <td>41897</td>\n",
       "      <td>2</td>\n",
       "      <td>64</td>\n",
       "      <td>10.0</td>\n",
       "      <td>2</td>\n",
       "      <td>2</td>\n",
       "      <td>3</td>\n",
       "      <td>8</td>\n",
       "      <td>1</td>\n",
       "      <td>2</td>\n",
       "      <td>...</td>\n",
       "      <td>11</td>\n",
       "      <td>2021</td>\n",
       "      <td>10</td>\n",
       "      <td>16</td>\n",
       "      <td>16302</td>\n",
       "      <td>16300120</td>\n",
       "      <td>3</td>\n",
       "      <td>1630220015</td>\n",
       "      <td>80521.0</td>\n",
       "      <td>1</td>\n",
       "    </tr>\n",
       "  </tbody>\n",
       "</table>\n",
       "<p>3 rows × 292 columns</p>\n",
       "</div>"
      ],
      "text/plain": [
       "   idrph  nro_linea  edad  tramo_edad  sexo  parentesco  curso  nivel  \\\n",
       "1  14565          4    36         5.0     1           4      2      4   \n",
       "2  24946          2    57         9.0     2           3      2     10   \n",
       "3  41897          2    64        10.0     2           2      3      8   \n",
       "\n",
       "   termino_nivel  estudia_actual  ...  mes_central  ano_encuesta  \\\n",
       "1              2               2  ...           11          2021   \n",
       "2              1               2  ...           11          2021   \n",
       "3              1               2  ...           11          2021   \n",
       "\n",
       "   mes_encuesta  region  r_p_c   estrato  tipo    conglomerado  \\\n",
       "1            10       8   8205   8200111     1       820510025   \n",
       "2            12      13  13123     13291     1  13123000144956   \n",
       "3            10      16  16302  16300120     3      1630220015   \n",
       "\n",
       "   id_identificacion  hogar  \n",
       "1           102542.0      1  \n",
       "2            69274.0      1  \n",
       "3            80521.0      1  \n",
       "\n",
       "[3 rows x 292 columns]"
      ]
     },
     "execution_count": 1,
     "metadata": {},
     "output_type": "execute_result"
    }
   ],
   "source": [
    "#collapse-hide\n",
    "import numpy as np\n",
    "import pandas as pd\n",
    "import matplotlib.pyplot as plt\n",
    "from IPython.display import display, Markdown, display_html, HTML\n",
    "\n",
    "# download the data\n",
    "data_raw = pd.read_csv(\"esi-2021---personas.csv\", encoding=\"ISO-8859-1\", low_memory=False, index_col=0)\n",
    "data_raw.head(3)"
   ]
  },
  {
   "cell_type": "markdown",
   "metadata": {},
   "source": [
    "La encuesta considera sólo las personas ocupadas con más de 1 mes en el empleo actual.\n",
    "Podemos acceder al [Manual y Guía de Variables ESI](https://www.ine.gob.cl/docs/default-source/encuesta-suplementaria-de-ingresos/bbdd/manual-y-gu%C3%ADa-de-variables/2020/personas-esi-2020.pdf?sfvrsn=f196cb4e_4) y ver que la variable que nos interesa es `ocup_ref` donde el valor 1 corresponde a los \"Ocupados con más\n",
    "de 1 mes en el empleo actual\"."
   ]
  },
  {
   "cell_type": "code",
   "execution_count": 2,
   "metadata": {},
   "outputs": [],
   "source": [
    "data = data_raw[data_raw[\"ocup_ref\"] == 1].copy()"
   ]
  },
  {
   "cell_type": "markdown",
   "metadata": {},
   "source": [
    "Del [Manual y Guía de Variables ESI](https://www.ine.gob.cl/docs/default-source/encuesta-suplementaria-de-ingresos/bbdd/manual-y-gu%C3%ADa-de-variables/2020/personas-esi-2020.pdf?sfvrsn=f196cb4e_4), vemos que debemos considerar el factor de expansión que corresponde a la variable `fact_cal_esi`. De esta forma encontramos que el número de personas ocupadas es 8.243.580."
   ]
  },
  {
   "cell_type": "code",
   "execution_count": 3,
   "metadata": {},
   "outputs": [
    {
     "name": "stdout",
     "output_type": "stream",
     "text": [
      "Número de personas ocupadas: 8.243.580\n"
     ]
    }
   ],
   "source": [
    "n_ocupados = data['fact_cal_esi'].sum()\n",
    "print(f\"Número de personas ocupadas: {n_ocupados:,.0f}\".replace(',','.'))"
   ]
  },
  {
   "cell_type": "markdown",
   "metadata": {},
   "source": [
    "Esto coincide con el valor entregado por INE por lo que vamos por buen camino :-)"
   ]
  },
  {
   "cell_type": "markdown",
   "metadata": {},
   "source": [
    "\n",
    "Para calcular el sueldo promedio, según el Manual y Guía de Variables ESI, debemos utilizar la variable `ing_t_p` que corresponde a \"Ingresos del trabajo principal\" y debemos utilizar nuevamente el factor de expansión."
   ]
  },
  {
   "cell_type": "code",
   "execution_count": 4,
   "metadata": {},
   "outputs": [],
   "source": [
    "def ingreso_promedio(data):\n",
    "    n_ocupados = data['fact_cal_esi'].sum()\n",
    "    promedio = (data['ing_t_p']*data['fact_cal_esi']).sum()/n_ocupados\n",
    "    return int(np.round(promedio))"
   ]
  },
  {
   "cell_type": "code",
   "execution_count": 5,
   "metadata": {},
   "outputs": [
    {
     "name": "stdout",
     "output_type": "stream",
     "text": [
      "Ingreso promedio mensual: $681.039\n"
     ]
    }
   ],
   "source": [
    "print(f\"Ingreso promedio mensual: ${ingreso_promedio(data):,.0f}\".replace(',','.'))"
   ]
  },
  {
   "cell_type": "code",
   "execution_count": 6,
   "metadata": {},
   "outputs": [
    {
     "name": "stdout",
     "output_type": "stream",
     "text": [
      "Porcentaje de hombres: 58.2%\n",
      "Porcentaje de mujeres: 41.8%\n"
     ]
    }
   ],
   "source": [
    "ocupados_hombres = data[data['sexo'] == 1]\n",
    "ocupadas_mujeres = data[data['sexo'] == 2]\n",
    "print(f\"Porcentaje de hombres: {100*ocupados_hombres['fact_cal_esi'].sum()/n_ocupados:.1f}%\")\n",
    "print(f\"Porcentaje de mujeres: {100*ocupadas_mujeres['fact_cal_esi'].sum()/n_ocupados:.1f}%\")"
   ]
  },
  {
   "cell_type": "code",
   "execution_count": 7,
   "metadata": {},
   "outputs": [
    {
     "name": "stdout",
     "output_type": "stream",
     "text": [
      "Ingreso promedio mensual para hombres: $749.046\n",
      "Ingreso promedio mensual para mujeres: $586.178\n"
     ]
    }
   ],
   "source": [
    "print(f\"Ingreso promedio mensual para hombres: ${ingreso_promedio(ocupados_hombres):,.0f}\".replace(',','.'))\n",
    "print(f\"Ingreso promedio mensual para mujeres: ${ingreso_promedio(ocupadas_mujeres):,.0f}\".replace(',','.'))"
   ]
  },
  {
   "cell_type": "code",
   "execution_count": 8,
   "metadata": {},
   "outputs": [
    {
     "data": {
      "text/plain": [
       "sexo\n",
       "hombre    749046\n",
       "mujer     586178\n",
       "dtype: int64"
      ]
     },
     "execution_count": 8,
     "metadata": {},
     "output_type": "execute_result"
    }
   ],
   "source": [
    "data['sexo'] = data['sexo'].map({1: 'hombre', 2: 'mujer'})\n",
    "data.groupby('sexo').apply(lambda x: int(np.round(ingreso_promedio(x))))"
   ]
  },
  {
   "cell_type": "code",
   "execution_count": 10,
   "metadata": {},
   "outputs": [],
   "source": [
    "map_regiones = {\n",
    "    1: \"Tarapacá\",\n",
    "    2: \"Antofagasta\",\n",
    "    3: \"Atacama\",\n",
    "    4: \"Coquimbo\",\n",
    "    5: \"Valparaíso\",\n",
    "    6: \"O'Higgins\",\n",
    "    7: \"Maule\",\n",
    "    8: \"Biobío\",\n",
    "    9: \"La Araucanía\",\n",
    "    10: \"Los Lagos\",\n",
    "    11: \"Aysén\",\n",
    "    12: \"Magallanes\",\n",
    "    13: \"Metropolitana\",\n",
    "    14: \"Los Ríos\",\n",
    "    15: \"Arica y Parinacota\",\n",
    "    16: \"Ñuble\",\n",
    "    99: \"Región no identificada\"\n",
    "}"
   ]
  },
  {
   "cell_type": "code",
   "execution_count": 12,
   "metadata": {},
   "outputs": [],
   "source": [
    "data[\"region\"] = data[\"region\"].map(map_regiones)"
   ]
  },
  {
   "cell_type": "code",
   "execution_count": 13,
   "metadata": {},
   "outputs": [
    {
     "data": {
      "text/plain": [
       "region\n",
       "Antofagasta           765318\n",
       "Arica y Parinacota    582646\n",
       "Atacama               649946\n",
       "Aysén                 748998\n",
       "Biobío                574946\n",
       "Coquimbo              603089\n",
       "La Araucanía          533858\n",
       "Los Lagos             552445\n",
       "Los Ríos              576430\n",
       "Magallanes            844329\n",
       "Maule                 534284\n",
       "Metropolitana         780454\n",
       "O'Higgins             567721\n",
       "Tarapacá              672109\n",
       "Valparaíso            601402\n",
       "Ñuble                 543780\n",
       "dtype: int64"
      ]
     },
     "execution_count": 13,
     "metadata": {},
     "output_type": "execute_result"
    }
   ],
   "source": [
    "data.groupby('region').apply(lambda x: int(np.round(ingreso_promedio(x))))"
   ]
  },
  {
   "cell_type": "markdown",
   "metadata": {},
   "source": [
    "Espero que este post ayude a clarificar dudas respecto al porqué utilizar la tasa de mortalidad ajustada y el cálculo de ésta. Otras dudas o sugerencias pueden hacerlas enviándome un mensaje en Twitter: [alonsosilva](https://twitter.com/alonsosilva)"
   ]
  }
 ],
 "metadata": {
  "kernelspec": {
   "display_name": "Python 3",
   "language": "python",
   "name": "python3"
  },
  "language_info": {
   "codemirror_mode": {
    "name": "ipython",
    "version": 3
   },
   "file_extension": ".py",
   "mimetype": "text/x-python",
   "name": "python",
   "nbconvert_exporter": "python",
   "pygments_lexer": "ipython3",
   "version": "3.8.2"
  }
 },
 "nbformat": 4,
 "nbformat_minor": 4
}
