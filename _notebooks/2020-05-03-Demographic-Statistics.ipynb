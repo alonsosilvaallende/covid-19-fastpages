{
 "cells": [
  {
   "cell_type": "markdown",
   "metadata": {},
   "source": [
    "# \"COVID-19 en Chile: Estadísticas demográficas\"\n",
    "> Total de casos confirmados, fallecidos confirmados, pacientes en UCI por sexo y rango de edad.\n",
    "\n",
    "- toc: true \n",
    "- badges: true\n",
    "- comments: true\n",
    "- author: Alonso Silva Allende\n",
    "- categories: [jupyter]\n",
    "- image: images/diagram.png"
   ]
  },
  {
   "cell_type": "code",
   "execution_count": 1,
   "metadata": {},
   "outputs": [],
   "source": [
    "#hide\n",
    "import numpy as np\n",
    "import pandas as pd\n",
    "import altair as alt\n",
    "from IPython.display import display, Markdown, display_html, HTML"
   ]
  },
  {
   "cell_type": "code",
   "execution_count": 2,
   "metadata": {},
   "outputs": [],
   "source": [
    "#hide\n",
    "update_date = pd.to_datetime('today') - pd.offsets.Hour(19)"
   ]
  },
  {
   "cell_type": "code",
   "execution_count": 3,
   "metadata": {},
   "outputs": [
    {
     "data": {
      "text/markdown": [
       "Última actualización: 06/07/2020."
      ],
      "text/plain": [
       "<IPython.core.display.Markdown object>"
      ]
     },
     "metadata": {},
     "output_type": "display_data"
    }
   ],
   "source": [
    "#hide_input\n",
    "display(Markdown(f\"Última actualización: {update_date.strftime('%d/%m/%Y')}.\"))"
   ]
  },
  {
   "cell_type": "markdown",
   "metadata": {},
   "source": [
    "# Evolución de casos confirmados por sexo"
   ]
  },
  {
   "cell_type": "code",
   "execution_count": 4,
   "metadata": {},
   "outputs": [],
   "source": [
    "#hide\n",
    "cases_raw = pd.read_csv(\n",
    "    'https://raw.githubusercontent.com/MinCiencia/Datos-COVID19/' \\\n",
    "    + 'master/output/producto16/CasosGeneroEtario.csv'\n",
    ")"
   ]
  },
  {
   "cell_type": "code",
   "execution_count": 7,
   "metadata": {},
   "outputs": [
    {
     "data": {
      "text/plain": [
       "('2020-03-25', '2020-07-05')"
      ]
     },
     "execution_count": 7,
     "metadata": {},
     "output_type": "execute_result"
    }
   ],
   "source": [
    "#hide\n",
    "#first and last report date\n",
    "first_date = cases_raw.T.iloc[2].name\n",
    "last_date = cases_raw.T.iloc[-1].name\n",
    "first_date, last_date"
   ]
  },
  {
   "cell_type": "code",
   "execution_count": 8,
   "metadata": {},
   "outputs": [],
   "source": [
    "#hide\n",
    "cases_sex = cases_raw.groupby('Sexo').sum()\n",
    "cases_sex = cases_sex.reset_index().melt('Sexo', var_name=\"Fecha (año-mes-día)\", value_name=\"Casos confirmados\")"
   ]
  },
  {
   "cell_type": "code",
   "execution_count": 9,
   "metadata": {},
   "outputs": [],
   "source": [
    "#hide\n",
    "cases_sex = cases_sex.set_index(\"Fecha (año-mes-día)\")\n",
    "cases_sex[\"Porcentaje\"] = cases_sex[\"Casos confirmados\"]/cases_raw.sum().drop([\"Grupo de edad\", \"Sexo\"])\n",
    "cases_sex = cases_sex.reset_index()"
   ]
  },
  {
   "cell_type": "code",
   "execution_count": 10,
   "metadata": {},
   "outputs": [
    {
     "data": {
      "text/html": [
       "\n",
       "<div id=\"altair-viz-51dfacf3e597453eb5717ea7a0332e45\"></div>\n",
       "<script type=\"text/javascript\">\n",
       "  (function(spec, embedOpt){\n",
       "    let outputDiv = document.currentScript.previousElementSibling;\n",
       "    if (outputDiv.id !== \"altair-viz-51dfacf3e597453eb5717ea7a0332e45\") {\n",
       "      outputDiv = document.getElementById(\"altair-viz-51dfacf3e597453eb5717ea7a0332e45\");\n",
       "    }\n",
       "    const paths = {\n",
       "      \"vega\": \"https://cdn.jsdelivr.net/npm//vega@5?noext\",\n",
       "      \"vega-lib\": \"https://cdn.jsdelivr.net/npm//vega-lib?noext\",\n",
       "      \"vega-lite\": \"https://cdn.jsdelivr.net/npm//vega-lite@4.8.1?noext\",\n",
       "      \"vega-embed\": \"https://cdn.jsdelivr.net/npm//vega-embed@6?noext\",\n",
       "    };\n",
       "\n",
       "    function loadScript(lib) {\n",
       "      return new Promise(function(resolve, reject) {\n",
       "        var s = document.createElement('script');\n",
       "        s.src = paths[lib];\n",
       "        s.async = true;\n",
       "        s.onload = () => resolve(paths[lib]);\n",
       "        s.onerror = () => reject(`Error loading script: ${paths[lib]}`);\n",
       "        document.getElementsByTagName(\"head\")[0].appendChild(s);\n",
       "      });\n",
       "    }\n",
       "\n",
       "    function showError(err) {\n",
       "      outputDiv.innerHTML = `<div class=\"error\" style=\"color:red;\">${err}</div>`;\n",
       "      throw err;\n",
       "    }\n",
       "\n",
       "    function displayChart(vegaEmbed) {\n",
       "      vegaEmbed(outputDiv, spec, embedOpt)\n",
       "        .catch(err => showError(`Javascript Error: ${err.message}<br>This usually means there's a typo in your chart specification. See the javascript console for the full traceback.`));\n",
       "    }\n",
       "\n",
       "    if(typeof define === \"function\" && define.amd) {\n",
       "      requirejs.config({paths});\n",
       "      require([\"vega-embed\"], displayChart, err => showError(`Error loading script: ${err.message}`));\n",
       "    } else if (typeof vegaEmbed === \"function\") {\n",
       "      displayChart(vegaEmbed);\n",
       "    } else {\n",
       "      loadScript(\"vega\")\n",
       "        .then(() => loadScript(\"vega-lite\"))\n",
       "        .then(() => loadScript(\"vega-embed\"))\n",
       "        .catch(showError)\n",
       "        .then(() => displayChart(vegaEmbed));\n",
       "    }\n",
       "  })({\"config\": {\"view\": {\"continuousWidth\": 400, \"continuousHeight\": 300, \"stroke\": null}, \"concat\": {\"spacing\": 1}}, \"vconcat\": [{\"hconcat\": [{\"mark\": \"bar\", \"encoding\": {\"color\": {\"condition\": {\"type\": \"nominal\", \"field\": \"Sexo\", \"legend\": null, \"scale\": {\"scheme\": \"tableau10\"}, \"selection\": {\"or\": [\" \", \"selector001\"]}}, \"value\": \"lightgray\"}, \"tooltip\": [{\"type\": \"nominal\", \"field\": \"Fecha (a\\u00f1o-mes-d\\u00eda)\"}, {\"type\": \"quantitative\", \"field\": \"Casos confirmados\"}, {\"type\": \"quantitative\", \"field\": \"Porcentaje\"}], \"x\": {\"type\": \"nominal\", \"axis\": {\"title\": \"\"}, \"field\": \"Fecha (a\\u00f1o-mes-d\\u00eda)\"}, \"y\": {\"type\": \"quantitative\", \"field\": \"Casos confirmados\"}}, \"selection\": {\" \": {\"type\": \"single\", \"fields\": [\"Sexo\"], \"bind\": {\"input\": \"select\", \"options\": [\"F\", \"M\"]}}, \"selector001\": {\"type\": \"multi\", \"fields\": [\"Sexo\"], \"on\": \"mouseover\"}}, \"title\": \"COVID-19 en Chile: Evoluci\\u00f3n de casos confirmados por sexo\", \"transform\": [{\"filter\": {\"selection\": \" \"}}], \"width\": 600}, {\"mark\": \"point\", \"encoding\": {\"color\": {\"condition\": {\"type\": \"nominal\", \"field\": \"Sexo\", \"legend\": null, \"scale\": {\"scheme\": \"tableau10\"}, \"selection\": {\"or\": [\" \", \"selector001\"]}}, \"value\": \"lightgray\"}, \"y\": {\"type\": \"nominal\", \"axis\": {\"orient\": \"right\"}, \"field\": \"Sexo\"}}, \"selection\": {\" \": {\"type\": \"single\", \"fields\": [\"Sexo\"], \"bind\": {\"input\": \"select\", \"options\": [\"F\", \"M\"]}}, \"selector001\": {\"type\": \"multi\", \"fields\": [\"Sexo\"], \"on\": \"mouseover\"}}}]}, {\"mark\": \"bar\", \"encoding\": {\"color\": {\"condition\": {\"type\": \"nominal\", \"field\": \"Sexo\", \"legend\": null, \"scale\": {\"scheme\": \"tableau10\"}, \"selection\": {\"or\": [\" \", \"selector001\"]}}, \"value\": \"lightgray\"}, \"tooltip\": [{\"type\": \"nominal\", \"field\": \"Fecha (a\\u00f1o-mes-d\\u00eda)\"}, {\"type\": \"quantitative\", \"field\": \"Casos confirmados\"}, {\"type\": \"quantitative\", \"field\": \"Porcentaje\"}], \"x\": {\"type\": \"nominal\", \"axis\": {\"labels\": false, \"ticks\": false, \"title\": \"Fecha (a\\u00f1o-mes-d\\u00eda)\"}, \"field\": \"Fecha (a\\u00f1o-mes-d\\u00eda)\"}, \"y\": {\"type\": \"quantitative\", \"axis\": {\"format\": \"%\", \"title\": \"Normalizados\"}, \"field\": \"Casos confirmados\", \"stack\": \"normalize\"}}, \"height\": 80, \"selection\": {\" \": {\"type\": \"single\", \"fields\": [\"Sexo\"], \"bind\": {\"input\": \"select\", \"options\": [\"F\", \"M\"]}}, \"selector001\": {\"type\": \"multi\", \"fields\": [\"Sexo\"], \"on\": \"mouseover\"}}, \"transform\": [{\"filter\": {\"selection\": \" \"}}], \"width\": 600}], \"data\": {\"name\": \"data-0448ecacfc8ec35fec92b175a509fb0e\"}, \"$schema\": \"https://vega.github.io/schema/vega-lite/v4.8.1.json\", \"datasets\": {\"data-0448ecacfc8ec35fec92b175a509fb0e\": [{\"Fecha (a\\u00f1o-mes-d\\u00eda)\": \"2020-03-25\", \"Sexo\": \"F\", \"Casos confirmados\": 516, \"Porcentaje\": 0.5098814229249012}, {\"Fecha (a\\u00f1o-mes-d\\u00eda)\": \"2020-03-25\", \"Sexo\": \"M\", \"Casos confirmados\": 496, \"Porcentaje\": 0.4901185770750988}, {\"Fecha (a\\u00f1o-mes-d\\u00eda)\": \"2020-03-26\", \"Sexo\": \"F\", \"Casos confirmados\": 642, \"Porcentaje\": 0.512779552715655}, {\"Fecha (a\\u00f1o-mes-d\\u00eda)\": \"2020-03-26\", \"Sexo\": \"M\", \"Casos confirmados\": 610, \"Porcentaje\": 0.48722044728434505}, {\"Fecha (a\\u00f1o-mes-d\\u00eda)\": \"2020-03-27\", \"Sexo\": \"F\", \"Casos confirmados\": 730, \"Porcentaje\": 0.5090655509065551}, {\"Fecha (a\\u00f1o-mes-d\\u00eda)\": \"2020-03-27\", \"Sexo\": \"M\", \"Casos confirmados\": 704, \"Porcentaje\": 0.4909344490934449}, {\"Fecha (a\\u00f1o-mes-d\\u00eda)\": \"2020-03-28\", \"Sexo\": \"F\", \"Casos confirmados\": 856, \"Porcentaje\": 0.4968078932095183}, {\"Fecha (a\\u00f1o-mes-d\\u00eda)\": \"2020-03-28\", \"Sexo\": \"M\", \"Casos confirmados\": 867, \"Porcentaje\": 0.5031921067904818}, {\"Fecha (a\\u00f1o-mes-d\\u00eda)\": \"2020-03-29\", \"Sexo\": \"F\", \"Casos confirmados\": 947, \"Porcentaje\": 0.4968520461699895}, {\"Fecha (a\\u00f1o-mes-d\\u00eda)\": \"2020-03-29\", \"Sexo\": \"M\", \"Casos confirmados\": 959, \"Porcentaje\": 0.5031479538300105}, {\"Fecha (a\\u00f1o-mes-d\\u00eda)\": \"2020-03-30\", \"Sexo\": \"F\", \"Casos confirmados\": 1037, \"Porcentaje\": 0.4966475095785441}, {\"Fecha (a\\u00f1o-mes-d\\u00eda)\": \"2020-03-30\", \"Sexo\": \"M\", \"Casos confirmados\": 1051, \"Porcentaje\": 0.5033524904214559}, {\"Fecha (a\\u00f1o-mes-d\\u00eda)\": \"2020-03-31\", \"Sexo\": \"F\", \"Casos confirmados\": 1186, \"Porcentaje\": 0.4997892962494732}, {\"Fecha (a\\u00f1o-mes-d\\u00eda)\": \"2020-03-31\", \"Sexo\": \"M\", \"Casos confirmados\": 1187, \"Porcentaje\": 0.5002107037505268}, {\"Fecha (a\\u00f1o-mes-d\\u00eda)\": \"2020-04-01\", \"Sexo\": \"F\", \"Casos confirmados\": 1375, \"Porcentaje\": 0.5010932944606414}, {\"Fecha (a\\u00f1o-mes-d\\u00eda)\": \"2020-04-01\", \"Sexo\": \"M\", \"Casos confirmados\": 1369, \"Porcentaje\": 0.4989067055393586}, {\"Fecha (a\\u00f1o-mes-d\\u00eda)\": \"2020-04-02\", \"Sexo\": \"F\", \"Casos confirmados\": 1475, \"Porcentaje\": 0.5020422055820286}, {\"Fecha (a\\u00f1o-mes-d\\u00eda)\": \"2020-04-02\", \"Sexo\": \"M\", \"Casos confirmados\": 1463, \"Porcentaje\": 0.4979577944179714}, {\"Fecha (a\\u00f1o-mes-d\\u00eda)\": \"2020-04-03\", \"Sexo\": \"F\", \"Casos confirmados\": 1714, \"Porcentaje\": 0.5044143613890524}, {\"Fecha (a\\u00f1o-mes-d\\u00eda)\": \"2020-04-03\", \"Sexo\": \"M\", \"Casos confirmados\": 1684, \"Porcentaje\": 0.4955856386109476}, {\"Fecha (a\\u00f1o-mes-d\\u00eda)\": \"2020-04-04\", \"Sexo\": \"F\", \"Casos confirmados\": 1888, \"Porcentaje\": 0.4988110964332893}, {\"Fecha (a\\u00f1o-mes-d\\u00eda)\": \"2020-04-04\", \"Sexo\": \"M\", \"Casos confirmados\": 1897, \"Porcentaje\": 0.5011889035667108}, {\"Fecha (a\\u00f1o-mes-d\\u00eda)\": \"2020-04-05\", \"Sexo\": \"F\", \"Casos confirmados\": 2040, \"Porcentaje\": 0.4997550220480157}, {\"Fecha (a\\u00f1o-mes-d\\u00eda)\": \"2020-04-05\", \"Sexo\": \"M\", \"Casos confirmados\": 2042, \"Porcentaje\": 0.5002449779519843}, {\"Fecha (a\\u00f1o-mes-d\\u00eda)\": \"2020-04-06\", \"Sexo\": \"F\", \"Casos confirmados\": 2155, \"Porcentaje\": 0.4958582604693971}, {\"Fecha (a\\u00f1o-mes-d\\u00eda)\": \"2020-04-06\", \"Sexo\": \"M\", \"Casos confirmados\": 2191, \"Porcentaje\": 0.5041417395306028}, {\"Fecha (a\\u00f1o-mes-d\\u00eda)\": \"2020-04-07\", \"Sexo\": \"F\", \"Casos confirmados\": 2291, \"Porcentaje\": 0.49620965995235}, {\"Fecha (a\\u00f1o-mes-d\\u00eda)\": \"2020-04-07\", \"Sexo\": \"M\", \"Casos confirmados\": 2326, \"Porcentaje\": 0.50379034004765}, {\"Fecha (a\\u00f1o-mes-d\\u00eda)\": \"2020-04-08\", \"Sexo\": \"F\", \"Casos confirmados\": 2690, \"Porcentaje\": 0.49842505095423384}, {\"Fecha (a\\u00f1o-mes-d\\u00eda)\": \"2020-04-08\", \"Sexo\": \"M\", \"Casos confirmados\": 2707, \"Porcentaje\": 0.5015749490457662}, {\"Fecha (a\\u00f1o-mes-d\\u00eda)\": \"2020-04-09\", \"Sexo\": \"F\", \"Casos confirmados\": 2911, \"Porcentaje\": 0.5010327022375215}, {\"Fecha (a\\u00f1o-mes-d\\u00eda)\": \"2020-04-09\", \"Sexo\": \"M\", \"Casos confirmados\": 2899, \"Porcentaje\": 0.4989672977624785}, {\"Fecha (a\\u00f1o-mes-d\\u00eda)\": \"2020-04-10\", \"Sexo\": \"F\", \"Casos confirmados\": 3142, \"Porcentaje\": 0.4993642720915448}, {\"Fecha (a\\u00f1o-mes-d\\u00eda)\": \"2020-04-10\", \"Sexo\": \"M\", \"Casos confirmados\": 3150, \"Porcentaje\": 0.5006357279084552}, {\"Fecha (a\\u00f1o-mes-d\\u00eda)\": \"2020-04-11\", \"Sexo\": \"F\", \"Casos confirmados\": 3350, \"Porcentaje\": 0.4998507908087138}, {\"Fecha (a\\u00f1o-mes-d\\u00eda)\": \"2020-04-11\", \"Sexo\": \"M\", \"Casos confirmados\": 3352, \"Porcentaje\": 0.5001492091912861}, {\"Fecha (a\\u00f1o-mes-d\\u00eda)\": \"2020-04-12\", \"Sexo\": \"F\", \"Casos confirmados\": 3515, \"Porcentaje\": 0.5009977194982896}, {\"Fecha (a\\u00f1o-mes-d\\u00eda)\": \"2020-04-12\", \"Sexo\": \"M\", \"Casos confirmados\": 3501, \"Porcentaje\": 0.49900228050171036}, {\"Fecha (a\\u00f1o-mes-d\\u00eda)\": \"2020-04-13\", \"Sexo\": \"F\", \"Casos confirmados\": 3713, \"Porcentaje\": 0.500944414463033}, {\"Fecha (a\\u00f1o-mes-d\\u00eda)\": \"2020-04-13\", \"Sexo\": \"M\", \"Casos confirmados\": 3699, \"Porcentaje\": 0.4990555855369671}, {\"Fecha (a\\u00f1o-mes-d\\u00eda)\": \"2020-04-14\", \"Sexo\": \"F\", \"Casos confirmados\": 3856, \"Porcentaje\": 0.4997407983411094}, {\"Fecha (a\\u00f1o-mes-d\\u00eda)\": \"2020-04-14\", \"Sexo\": \"M\", \"Casos confirmados\": 3860, \"Porcentaje\": 0.5002592016588906}, {\"Fecha (a\\u00f1o-mes-d\\u00eda)\": \"2020-04-15\", \"Sexo\": \"F\", \"Casos confirmados\": 4117, \"Porcentaje\": 0.501095423563778}, {\"Fecha (a\\u00f1o-mes-d\\u00eda)\": \"2020-04-15\", \"Sexo\": \"M\", \"Casos confirmados\": 4099, \"Porcentaje\": 0.498904576436222}, {\"Fecha (a\\u00f1o-mes-d\\u00eda)\": \"2020-04-16\", \"Sexo\": \"F\", \"Casos confirmados\": 4374, \"Porcentaje\": 0.5004576659038902}, {\"Fecha (a\\u00f1o-mes-d\\u00eda)\": \"2020-04-16\", \"Sexo\": \"M\", \"Casos confirmados\": 4366, \"Porcentaje\": 0.4995423340961098}, {\"Fecha (a\\u00f1o-mes-d\\u00eda)\": \"2020-04-17\", \"Sexo\": \"F\", \"Casos confirmados\": 4636, \"Porcentaje\": 0.5010808473843493}, {\"Fecha (a\\u00f1o-mes-d\\u00eda)\": \"2020-04-17\", \"Sexo\": \"M\", \"Casos confirmados\": 4616, \"Porcentaje\": 0.4989191526156507}, {\"Fecha (a\\u00f1o-mes-d\\u00eda)\": \"2020-04-18\", \"Sexo\": \"F\", \"Casos confirmados\": 4895, \"Porcentaje\": 0.5030832476875642}, {\"Fecha (a\\u00f1o-mes-d\\u00eda)\": \"2020-04-18\", \"Sexo\": \"M\", \"Casos confirmados\": 4835, \"Porcentaje\": 0.49691675231243576}, {\"Fecha (a\\u00f1o-mes-d\\u00eda)\": \"2020-04-19\", \"Sexo\": \"F\", \"Casos confirmados\": 5097, \"Porcentaje\": 0.505253766851705}, {\"Fecha (a\\u00f1o-mes-d\\u00eda)\": \"2020-04-19\", \"Sexo\": \"M\", \"Casos confirmados\": 4991, \"Porcentaje\": 0.494746233148295}, {\"Fecha (a\\u00f1o-mes-d\\u00eda)\": \"2020-04-20\", \"Sexo\": \"F\", \"Casos confirmados\": 5284, \"Porcentaje\": 0.5055975504736389}, {\"Fecha (a\\u00f1o-mes-d\\u00eda)\": \"2020-04-20\", \"Sexo\": \"M\", \"Casos confirmados\": 5167, \"Porcentaje\": 0.4944024495263611}, {\"Fecha (a\\u00f1o-mes-d\\u00eda)\": \"2020-04-21\", \"Sexo\": \"F\", \"Casos confirmados\": 5483, \"Porcentaje\": 0.506185376661743}, {\"Fecha (a\\u00f1o-mes-d\\u00eda)\": \"2020-04-21\", \"Sexo\": \"M\", \"Casos confirmados\": 5349, \"Porcentaje\": 0.49381462333825704}, {\"Fecha (a\\u00f1o-mes-d\\u00eda)\": \"2020-04-22\", \"Sexo\": \"F\", \"Casos confirmados\": 5689, \"Porcentaje\": 0.5036296033994334}, {\"Fecha (a\\u00f1o-mes-d\\u00eda)\": \"2020-04-22\", \"Sexo\": \"M\", \"Casos confirmados\": 5607, \"Porcentaje\": 0.4963703966005666}, {\"Fecha (a\\u00f1o-mes-d\\u00eda)\": \"2020-04-23\", \"Sexo\": \"F\", \"Casos confirmados\": 5920, \"Porcentaje\": 0.5011852353538774}, {\"Fecha (a\\u00f1o-mes-d\\u00eda)\": \"2020-04-23\", \"Sexo\": \"M\", \"Casos confirmados\": 5892, \"Porcentaje\": 0.49881476464612257}, {\"Fecha (a\\u00f1o-mes-d\\u00eda)\": \"2020-04-24\", \"Sexo\": \"F\", \"Casos confirmados\": 6123, \"Porcentaje\": 0.5013099721630916}, {\"Fecha (a\\u00f1o-mes-d\\u00eda)\": \"2020-04-24\", \"Sexo\": \"M\", \"Casos confirmados\": 6091, \"Porcentaje\": 0.49869002783690847}, {\"Fecha (a\\u00f1o-mes-d\\u00eda)\": \"2020-04-25\", \"Sexo\": \"F\", \"Casos confirmados\": 6394, \"Porcentaje\": 0.5001173249902229}, {\"Fecha (a\\u00f1o-mes-d\\u00eda)\": \"2020-04-25\", \"Sexo\": \"M\", \"Casos confirmados\": 6391, \"Porcentaje\": 0.49988267500977707}, {\"Fecha (a\\u00f1o-mes-d\\u00eda)\": \"2020-04-26\", \"Sexo\": \"F\", \"Casos confirmados\": 6640, \"Porcentaje\": 0.49984944293887384}, {\"Fecha (a\\u00f1o-mes-d\\u00eda)\": \"2020-04-26\", \"Sexo\": \"M\", \"Casos confirmados\": 6644, \"Porcentaje\": 0.5001505570611262}, {\"Fecha (a\\u00f1o-mes-d\\u00eda)\": \"2020-04-27\", \"Sexo\": \"F\", \"Casos confirmados\": 6843, \"Porcentaje\": 0.49934325744308233}, {\"Fecha (a\\u00f1o-mes-d\\u00eda)\": \"2020-04-27\", \"Sexo\": \"M\", \"Casos confirmados\": 6861, \"Porcentaje\": 0.5006567425569177}, {\"Fecha (a\\u00f1o-mes-d\\u00eda)\": \"2020-04-28\", \"Sexo\": \"F\", \"Casos confirmados\": 7150, \"Porcentaje\": 0.4978415262498259}, {\"Fecha (a\\u00f1o-mes-d\\u00eda)\": \"2020-04-28\", \"Sexo\": \"M\", \"Casos confirmados\": 7212, \"Porcentaje\": 0.5021584737501741}, {\"Fecha (a\\u00f1o-mes-d\\u00eda)\": \"2020-05-01\", \"Sexo\": \"F\", \"Casos confirmados\": 8338, \"Porcentaje\": 0.4902398871119473}, {\"Fecha (a\\u00f1o-mes-d\\u00eda)\": \"2020-05-01\", \"Sexo\": \"M\", \"Casos confirmados\": 8670, \"Porcentaje\": 0.5097601128880527}, {\"Fecha (a\\u00f1o-mes-d\\u00eda)\": \"2020-05-02\", \"Sexo\": \"F\", \"Casos confirmados\": 8956, \"Porcentaje\": 0.4858677372104378}, {\"Fecha (a\\u00f1o-mes-d\\u00eda)\": \"2020-05-02\", \"Sexo\": \"M\", \"Casos confirmados\": 9477, \"Porcentaje\": 0.5141322627895621}, {\"Fecha (a\\u00f1o-mes-d\\u00eda)\": \"2020-05-04\", \"Sexo\": \"F\", \"Casos confirmados\": 9914, \"Porcentaje\": 0.482034326834249}, {\"Fecha (a\\u00f1o-mes-d\\u00eda)\": \"2020-05-04\", \"Sexo\": \"M\", \"Casos confirmados\": 10653, \"Porcentaje\": 0.5179656731657509}, {\"Fecha (a\\u00f1o-mes-d\\u00eda)\": \"2020-05-06\", \"Sexo\": \"F\", \"Casos confirmados\": 11009, \"Porcentaje\": 0.4784233627395593}, {\"Fecha (a\\u00f1o-mes-d\\u00eda)\": \"2020-05-06\", \"Sexo\": \"M\", \"Casos confirmados\": 12002, \"Porcentaje\": 0.5215766372604407}, {\"Fecha (a\\u00f1o-mes-d\\u00eda)\": \"2020-05-08\", \"Sexo\": \"F\", \"Casos confirmados\": 12298, \"Porcentaje\": 0.4738748458692972}, {\"Fecha (a\\u00f1o-mes-d\\u00eda)\": \"2020-05-08\", \"Sexo\": \"M\", \"Casos confirmados\": 13654, \"Porcentaje\": 0.5261251541307028}, {\"Fecha (a\\u00f1o-mes-d\\u00eda)\": \"2020-05-11\", \"Sexo\": \"F\", \"Casos confirmados\": 14098, \"Porcentaje\": 0.46919825606549737}, {\"Fecha (a\\u00f1o-mes-d\\u00eda)\": \"2020-05-11\", \"Sexo\": \"M\", \"Casos confirmados\": 15949, \"Porcentaje\": 0.5308017439345026}, {\"Fecha (a\\u00f1o-mes-d\\u00eda)\": \"2020-05-15\", \"Sexo\": \"F\", \"Casos confirmados\": 18501, \"Porcentaje\": 0.4682493482827567}, {\"Fecha (a\\u00f1o-mes-d\\u00eda)\": \"2020-05-15\", \"Sexo\": \"M\", \"Casos confirmados\": 21010, \"Porcentaje\": 0.5317506517172433}, {\"Fecha (a\\u00f1o-mes-d\\u00eda)\": \"2020-05-18\", \"Sexo\": \"F\", \"Casos confirmados\": 21525, \"Porcentaje\": 0.4674470118137595}, {\"Fecha (a\\u00f1o-mes-d\\u00eda)\": \"2020-05-18\", \"Sexo\": \"M\", \"Casos confirmados\": 24523, \"Porcentaje\": 0.5325529881862404}, {\"Fecha (a\\u00f1o-mes-d\\u00eda)\": \"2020-05-22\", \"Sexo\": \"F\", \"Casos confirmados\": 29030, \"Porcentaje\": 0.4693765360238003}, {\"Fecha (a\\u00f1o-mes-d\\u00eda)\": \"2020-05-22\", \"Sexo\": \"M\", \"Casos confirmados\": 32818, \"Porcentaje\": 0.5306234639761997}, {\"Fecha (a\\u00f1o-mes-d\\u00eda)\": \"2020-05-25\", \"Sexo\": \"F\", \"Casos confirmados\": 34719, \"Porcentaje\": 0.46920737887695113}, {\"Fecha (a\\u00f1o-mes-d\\u00eda)\": \"2020-05-25\", \"Sexo\": \"M\", \"Casos confirmados\": 39276, \"Porcentaje\": 0.5307926211230488}, {\"Fecha (a\\u00f1o-mes-d\\u00eda)\": \"2020-05-29\", \"Sexo\": \"F\", \"Casos confirmados\": 42589, \"Porcentaje\": 0.4699009201844782}, {\"Fecha (a\\u00f1o-mes-d\\u00eda)\": \"2020-05-29\", \"Sexo\": \"M\", \"Casos confirmados\": 48045, \"Porcentaje\": 0.5300990798155217}, {\"Fecha (a\\u00f1o-mes-d\\u00eda)\": \"2020-06-01\", \"Sexo\": \"F\", \"Casos confirmados\": 49656, \"Porcentaje\": 0.4722082219918788}, {\"Fecha (a\\u00f1o-mes-d\\u00eda)\": \"2020-06-01\", \"Sexo\": \"M\", \"Casos confirmados\": 55501, \"Porcentaje\": 0.5277917780081212}, {\"Fecha (a\\u00f1o-mes-d\\u00eda)\": \"2020-06-05\", \"Sexo\": \"F\", \"Casos confirmados\": 57919, \"Porcentaje\": 0.47282746234540185}, {\"Fecha (a\\u00f1o-mes-d\\u00eda)\": \"2020-06-05\", \"Sexo\": \"M\", \"Casos confirmados\": 64576, \"Porcentaje\": 0.5271725376545982}, {\"Fecha (a\\u00f1o-mes-d\\u00eda)\": \"2020-06-08\", \"Sexo\": \"F\", \"Casos confirmados\": 65602, \"Porcentaje\": 0.47249391394534795}, {\"Fecha (a\\u00f1o-mes-d\\u00eda)\": \"2020-06-08\", \"Sexo\": \"M\", \"Casos confirmados\": 73240, \"Porcentaje\": 0.5275060860546521}, {\"Fecha (a\\u00f1o-mes-d\\u00eda)\": \"2020-06-12\", \"Sexo\": \"F\", \"Casos confirmados\": 76292, \"Porcentaje\": 0.47433474260134295}, {\"Fecha (a\\u00f1o-mes-d\\u00eda)\": \"2020-06-12\", \"Sexo\": \"M\", \"Casos confirmados\": 84548, \"Porcentaje\": 0.5256652573986571}, {\"Fecha (a\\u00f1o-mes-d\\u00eda)\": \"2020-06-15\", \"Sexo\": \"F\", \"Casos confirmados\": 85229, \"Porcentaje\": 0.47499860669899124}, {\"Fecha (a\\u00f1o-mes-d\\u00eda)\": \"2020-06-15\", \"Sexo\": \"M\", \"Casos confirmados\": 94201, \"Porcentaje\": 0.5250013933010087}, {\"Fecha (a\\u00f1o-mes-d\\u00eda)\": \"2020-06-19\", \"Sexo\": \"F\", \"Casos confirmados\": 111462, \"Porcentaje\": 0.48178533144299596}, {\"Fecha (a\\u00f1o-mes-d\\u00eda)\": \"2020-06-19\", \"Sexo\": \"M\", \"Casos confirmados\": 119890, \"Porcentaje\": 0.518214668557004}, {\"Fecha (a\\u00f1o-mes-d\\u00eda)\": \"2020-06-23\", \"Sexo\": \"F\", \"Casos confirmados\": 123044, \"Porcentaje\": 0.48184335117735283}, {\"Fecha (a\\u00f1o-mes-d\\u00eda)\": \"2020-06-23\", \"Sexo\": \"M\", \"Casos confirmados\": 132317, \"Porcentaje\": 0.5181566488226471}, {\"Fecha (a\\u00f1o-mes-d\\u00eda)\": \"2020-06-28\", \"Sexo\": \"F\", \"Casos confirmados\": 135564, \"Porcentaje\": 0.48164912704559826}, {\"Fecha (a\\u00f1o-mes-d\\u00eda)\": \"2020-06-28\", \"Sexo\": \"M\", \"Casos confirmados\": 145894, \"Porcentaje\": 0.5183508729544017}, {\"Fecha (a\\u00f1o-mes-d\\u00eda)\": \"2020-07-01\", \"Sexo\": \"F\", \"Casos confirmados\": 140852, \"Porcentaje\": 0.48205949594096953}, {\"Fecha (a\\u00f1o-mes-d\\u00eda)\": \"2020-07-01\", \"Sexo\": \"M\", \"Casos confirmados\": 151336, \"Porcentaje\": 0.5179405040590305}, {\"Fecha (a\\u00f1o-mes-d\\u00eda)\": \"2020-07-05\", \"Sexo\": \"F\", \"Casos confirmados\": 149238, \"Porcentaje\": 0.48241508165349956}, {\"Fecha (a\\u00f1o-mes-d\\u00eda)\": \"2020-07-05\", \"Sexo\": \"M\", \"Casos confirmados\": 160118, \"Porcentaje\": 0.5175849183465004}]}}, {\"mode\": \"vega-lite\"});\n",
       "</script>"
      ],
      "text/plain": [
       "alt.VConcatChart(...)"
      ]
     },
     "execution_count": 10,
     "metadata": {},
     "output_type": "execute_result"
    }
   ],
   "source": [
    "#hide_input\n",
    "input_dropdown = alt.binding_select(options=cases_sex['Sexo'].unique())\n",
    "selection1 = alt.selection_single(fields=['Sexo'], bind=input_dropdown, name=' ')\n",
    "selection2 = alt.selection_multi(fields=['Sexo'], on='mouseover')\n",
    "\n",
    "color = alt.condition(selection1 | selection2,\n",
    "                    alt.Color('Sexo:N', scale=alt.Scale(scheme='tableau10'), legend=None),\n",
    "                    alt.value('lightgray'))\n",
    "\n",
    "bars1 = alt.Chart(cases_sex).mark_bar().encode(\n",
    "    x=alt.X(\"Fecha (año-mes-día)\", axis=alt.Axis(title=\"\")),\n",
    "    y=alt.Y(\"Casos confirmados\"),\n",
    "    tooltip = [\"Fecha (año-mes-día)\", \"Casos confirmados\", \"Porcentaje\"],\n",
    "    color=color\n",
    ").add_selection(\n",
    "    selection1, selection2\n",
    ").transform_filter(\n",
    "    selection1\n",
    ")\n",
    "\n",
    "legend = alt.Chart(cases_sex).mark_point().encode(\n",
    "    y=alt.Y('Sexo:N', axis=alt.Axis(orient='right')),\n",
    "    color=color\n",
    ").add_selection(\n",
    "    selection1, selection2\n",
    ")\n",
    "\n",
    "bars2 = alt.Chart(cases_sex).mark_bar().encode(\n",
    "    x=alt.X(\"Fecha (año-mes-día)\", axis=alt.Axis(title=\"Fecha (año-mes-día)\", ticks=False, labels=False)),\n",
    "    y=alt.Y(\"Casos confirmados\", axis=alt.Axis(title=\"Normalizados\", format='%'), stack=\"normalize\"),\n",
    "    color=color,\n",
    "    tooltip = [\"Fecha (año-mes-día)\", \"Casos confirmados\", \"Porcentaje\"],\n",
    ").add_selection(\n",
    "    selection1, selection2\n",
    ").transform_filter(\n",
    "    selection1\n",
    ")\n",
    "\n",
    "alt.vconcat(\n",
    "    bars1.properties(\n",
    "        title = 'COVID-19 en Chile: Evolución de casos confirmados por sexo',\n",
    "        width=600) | legend,\n",
    "    bars2.properties(\n",
    "        height = 80,\n",
    "        width=600)\n",
    ").configure_view(\n",
    "    stroke=None\n",
    ").configure_concat(\n",
    "    spacing=1\n",
    ")"
   ]
  },
  {
   "cell_type": "code",
   "execution_count": 11,
   "metadata": {},
   "outputs": [],
   "source": [
    "#hide\n",
    "#build dataframe with all the dates since first date to last date\n",
    "cases_by_sex = pd.DataFrame()\n",
    "cases_by_sex[\"Fecha\"] = pd.date_range(start=first_date, end=last_date).strftime('%Y-%m-%d')\n",
    "cases_by_sex = cases_by_sex.set_index(\"Fecha\")"
   ]
  },
  {
   "cell_type": "code",
   "execution_count": 12,
   "metadata": {},
   "outputs": [],
   "source": [
    "#hide\n",
    "cases_by_sex[[\"Mujeres\", \"Hombres\"]] = cases_raw.groupby('Sexo').sum().T"
   ]
  },
  {
   "cell_type": "code",
   "execution_count": 13,
   "metadata": {},
   "outputs": [],
   "source": [
    "#hide\n",
    "cases_by_sex_long_form = cases_by_sex.reset_index().melt('Fecha', var_name='Sexo', value_name='Casos confirmados')"
   ]
  },
  {
   "cell_type": "code",
   "execution_count": 14,
   "metadata": {},
   "outputs": [],
   "source": [
    "#hide\n",
    "cases_by_sex_long_form = cases_by_sex_long_form.set_index(\"Fecha\")"
   ]
  },
  {
   "cell_type": "code",
   "execution_count": 15,
   "metadata": {},
   "outputs": [],
   "source": [
    "#hide\n",
    "cases_by_sex_long_form[\"Porcentaje\"] = \\\n",
    "(cases_by_sex_long_form[\"Casos confirmados\"]/cases_raw.sum().drop([\"Grupo de edad\", \"Sexo\"])).values"
   ]
  },
  {
   "cell_type": "code",
   "execution_count": 16,
   "metadata": {},
   "outputs": [
    {
     "data": {
      "text/html": [
       "<div>\n",
       "<style scoped>\n",
       "    .dataframe tbody tr th:only-of-type {\n",
       "        vertical-align: middle;\n",
       "    }\n",
       "\n",
       "    .dataframe tbody tr th {\n",
       "        vertical-align: top;\n",
       "    }\n",
       "\n",
       "    .dataframe thead th {\n",
       "        text-align: right;\n",
       "    }\n",
       "</style>\n",
       "<table border=\"1\" class=\"dataframe\">\n",
       "  <thead>\n",
       "    <tr style=\"text-align: right;\">\n",
       "      <th></th>\n",
       "      <th>Sexo</th>\n",
       "      <th>Casos confirmados</th>\n",
       "      <th>Porcentaje</th>\n",
       "    </tr>\n",
       "    <tr>\n",
       "      <th>Fecha</th>\n",
       "      <th></th>\n",
       "      <th></th>\n",
       "      <th></th>\n",
       "    </tr>\n",
       "  </thead>\n",
       "  <tbody>\n",
       "    <tr>\n",
       "      <th>2020-03-25</th>\n",
       "      <td>Mujeres</td>\n",
       "      <td>516.0</td>\n",
       "      <td>0.509881</td>\n",
       "    </tr>\n",
       "    <tr>\n",
       "      <th>2020-03-26</th>\n",
       "      <td>Mujeres</td>\n",
       "      <td>642.0</td>\n",
       "      <td>0.490119</td>\n",
       "    </tr>\n",
       "    <tr>\n",
       "      <th>2020-03-27</th>\n",
       "      <td>Mujeres</td>\n",
       "      <td>730.0</td>\n",
       "      <td>0.51278</td>\n",
       "    </tr>\n",
       "    <tr>\n",
       "      <th>2020-03-28</th>\n",
       "      <td>Mujeres</td>\n",
       "      <td>856.0</td>\n",
       "      <td>0.48722</td>\n",
       "    </tr>\n",
       "    <tr>\n",
       "      <th>2020-03-29</th>\n",
       "      <td>Mujeres</td>\n",
       "      <td>947.0</td>\n",
       "      <td>0.509066</td>\n",
       "    </tr>\n",
       "  </tbody>\n",
       "</table>\n",
       "</div>"
      ],
      "text/plain": [
       "               Sexo  Casos confirmados Porcentaje\n",
       "Fecha                                            \n",
       "2020-03-25  Mujeres              516.0   0.509881\n",
       "2020-03-26  Mujeres              642.0   0.490119\n",
       "2020-03-27  Mujeres              730.0    0.51278\n",
       "2020-03-28  Mujeres              856.0    0.48722\n",
       "2020-03-29  Mujeres              947.0   0.509066"
      ]
     },
     "execution_count": 16,
     "metadata": {},
     "output_type": "execute_result"
    }
   ],
   "source": [
    "#hide\n",
    "cases_by_sex_long_form.head()"
   ]
  },
  {
   "cell_type": "code",
   "execution_count": 17,
   "metadata": {
    "scrolled": false
   },
   "outputs": [
    {
     "data": {
      "text/html": [
       "\n",
       "<div id=\"altair-viz-ab5c3e90ae5c45bc875f14850036e453\"></div>\n",
       "<script type=\"text/javascript\">\n",
       "  (function(spec, embedOpt){\n",
       "    let outputDiv = document.currentScript.previousElementSibling;\n",
       "    if (outputDiv.id !== \"altair-viz-ab5c3e90ae5c45bc875f14850036e453\") {\n",
       "      outputDiv = document.getElementById(\"altair-viz-ab5c3e90ae5c45bc875f14850036e453\");\n",
       "    }\n",
       "    const paths = {\n",
       "      \"vega\": \"https://cdn.jsdelivr.net/npm//vega@5?noext\",\n",
       "      \"vega-lib\": \"https://cdn.jsdelivr.net/npm//vega-lib?noext\",\n",
       "      \"vega-lite\": \"https://cdn.jsdelivr.net/npm//vega-lite@4.8.1?noext\",\n",
       "      \"vega-embed\": \"https://cdn.jsdelivr.net/npm//vega-embed@6?noext\",\n",
       "    };\n",
       "\n",
       "    function loadScript(lib) {\n",
       "      return new Promise(function(resolve, reject) {\n",
       "        var s = document.createElement('script');\n",
       "        s.src = paths[lib];\n",
       "        s.async = true;\n",
       "        s.onload = () => resolve(paths[lib]);\n",
       "        s.onerror = () => reject(`Error loading script: ${paths[lib]}`);\n",
       "        document.getElementsByTagName(\"head\")[0].appendChild(s);\n",
       "      });\n",
       "    }\n",
       "\n",
       "    function showError(err) {\n",
       "      outputDiv.innerHTML = `<div class=\"error\" style=\"color:red;\">${err}</div>`;\n",
       "      throw err;\n",
       "    }\n",
       "\n",
       "    function displayChart(vegaEmbed) {\n",
       "      vegaEmbed(outputDiv, spec, embedOpt)\n",
       "        .catch(err => showError(`Javascript Error: ${err.message}<br>This usually means there's a typo in your chart specification. See the javascript console for the full traceback.`));\n",
       "    }\n",
       "\n",
       "    if(typeof define === \"function\" && define.amd) {\n",
       "      requirejs.config({paths});\n",
       "      require([\"vega-embed\"], displayChart, err => showError(`Error loading script: ${err.message}`));\n",
       "    } else if (typeof vegaEmbed === \"function\") {\n",
       "      displayChart(vegaEmbed);\n",
       "    } else {\n",
       "      loadScript(\"vega\")\n",
       "        .then(() => loadScript(\"vega-lite\"))\n",
       "        .then(() => loadScript(\"vega-embed\"))\n",
       "        .catch(showError)\n",
       "        .then(() => displayChart(vegaEmbed));\n",
       "    }\n",
       "  })({\"config\": {\"view\": {\"continuousWidth\": 400, \"continuousHeight\": 300, \"stroke\": null}, \"concat\": {\"spacing\": 1}}, \"vconcat\": [{\"hconcat\": [{\"data\": {\"name\": \"data-4e342597de796dfa4555a480caf7f135\"}, \"mark\": \"bar\", \"encoding\": {\"color\": {\"condition\": {\"type\": \"nominal\", \"field\": \"Sexo\", \"legend\": null, \"scale\": {\"scheme\": \"tableau10\"}, \"selection\": {\"or\": [\" \", \"selector002\"]}}, \"value\": \"lightgray\"}, \"tooltip\": [{\"type\": \"nominal\", \"field\": \"Fecha\"}, {\"type\": \"quantitative\", \"field\": \"Casos confirmados\"}], \"x\": {\"type\": \"nominal\", \"axis\": {\"title\": \"\"}, \"field\": \"Fecha\"}, \"y\": {\"type\": \"quantitative\", \"field\": \"Casos confirmados\"}}, \"selection\": {\" \": {\"type\": \"single\", \"fields\": [\"Sexo\"], \"bind\": {\"input\": \"select\", \"options\": [\"Mujeres\", \"Hombres\"]}}, \"selector002\": {\"type\": \"multi\", \"fields\": [\"Sexo\"], \"on\": \"mouseover\"}}, \"title\": \"COVID-19 en Chile: Evoluci\\u00f3n de casos confirmados por sexo\", \"transform\": [{\"filter\": {\"selection\": \" \"}}], \"width\": 600}, {\"data\": {\"name\": \"data-4e342597de796dfa4555a480caf7f135\"}, \"mark\": \"point\", \"encoding\": {\"color\": {\"condition\": {\"type\": \"nominal\", \"field\": \"Sexo\", \"legend\": null, \"scale\": {\"scheme\": \"tableau10\"}, \"selection\": {\"or\": [\" \", \"selector002\"]}}, \"value\": \"lightgray\"}, \"y\": {\"type\": \"nominal\", \"axis\": {\"orient\": \"right\"}, \"field\": \"Sexo\"}}, \"selection\": {\" \": {\"type\": \"single\", \"fields\": [\"Sexo\"], \"bind\": {\"input\": \"select\", \"options\": [\"Mujeres\", \"Hombres\"]}}, \"selector002\": {\"type\": \"multi\", \"fields\": [\"Sexo\"], \"on\": \"mouseover\"}}}]}, {\"data\": {\"name\": \"data-4e342597de796dfa4555a480caf7f135\"}, \"mark\": \"bar\", \"encoding\": {\"color\": {\"condition\": {\"type\": \"nominal\", \"field\": \"Sexo\", \"legend\": null, \"scale\": {\"scheme\": \"tableau10\"}, \"selection\": {\"or\": [\" \", \"selector002\"]}}, \"value\": \"lightgray\"}, \"tooltip\": [{\"type\": \"nominal\", \"field\": \"Fecha\"}, {\"type\": \"quantitative\", \"field\": \"Casos confirmados\"}], \"x\": {\"type\": \"nominal\", \"axis\": {\"labels\": false, \"ticks\": false, \"title\": \"Fecha\"}, \"field\": \"Fecha\"}, \"y\": {\"type\": \"quantitative\", \"axis\": {\"format\": \"%\", \"title\": \"Normalizados\"}, \"field\": \"Casos confirmados\", \"stack\": \"normalize\"}}, \"height\": 80, \"selection\": {\" \": {\"type\": \"single\", \"fields\": [\"Sexo\"], \"bind\": {\"input\": \"select\", \"options\": [\"Mujeres\", \"Hombres\"]}}, \"selector002\": {\"type\": \"multi\", \"fields\": [\"Sexo\"], \"on\": \"mouseover\"}}, \"transform\": [{\"filter\": {\"selection\": \" \"}}], \"width\": 600}], \"$schema\": \"https://vega.github.io/schema/vega-lite/v4.8.1.json\", \"datasets\": {\"data-4e342597de796dfa4555a480caf7f135\": [{\"Fecha\": \"2020-03-25\", \"Sexo\": \"Mujeres\", \"Casos confirmados\": 516.0, \"Porcentaje\": 0.5098814229249012}, {\"Fecha\": \"2020-03-26\", \"Sexo\": \"Mujeres\", \"Casos confirmados\": 642.0, \"Porcentaje\": 0.4901185770750988}, {\"Fecha\": \"2020-03-27\", \"Sexo\": \"Mujeres\", \"Casos confirmados\": 730.0, \"Porcentaje\": 0.512779552715655}, {\"Fecha\": \"2020-03-28\", \"Sexo\": \"Mujeres\", \"Casos confirmados\": 856.0, \"Porcentaje\": 0.48722044728434505}, {\"Fecha\": \"2020-03-29\", \"Sexo\": \"Mujeres\", \"Casos confirmados\": 947.0, \"Porcentaje\": 0.5090655509065551}, {\"Fecha\": \"2020-03-30\", \"Sexo\": \"Mujeres\", \"Casos confirmados\": 1037.0, \"Porcentaje\": 0.4909344490934449}, {\"Fecha\": \"2020-03-31\", \"Sexo\": \"Mujeres\", \"Casos confirmados\": 1186.0, \"Porcentaje\": 0.4968078932095183}, {\"Fecha\": \"2020-04-01\", \"Sexo\": \"Mujeres\", \"Casos confirmados\": 1375.0, \"Porcentaje\": 0.5031921067904818}, {\"Fecha\": \"2020-04-02\", \"Sexo\": \"Mujeres\", \"Casos confirmados\": 1475.0, \"Porcentaje\": 0.4968520461699895}, {\"Fecha\": \"2020-04-03\", \"Sexo\": \"Mujeres\", \"Casos confirmados\": 1714.0, \"Porcentaje\": 0.5031479538300105}, {\"Fecha\": \"2020-04-04\", \"Sexo\": \"Mujeres\", \"Casos confirmados\": 1888.0, \"Porcentaje\": 0.4966475095785441}, {\"Fecha\": \"2020-04-05\", \"Sexo\": \"Mujeres\", \"Casos confirmados\": 2040.0, \"Porcentaje\": 0.5033524904214559}, {\"Fecha\": \"2020-04-06\", \"Sexo\": \"Mujeres\", \"Casos confirmados\": 2155.0, \"Porcentaje\": 0.4997892962494732}, {\"Fecha\": \"2020-04-07\", \"Sexo\": \"Mujeres\", \"Casos confirmados\": 2291.0, \"Porcentaje\": 0.5002107037505268}, {\"Fecha\": \"2020-04-08\", \"Sexo\": \"Mujeres\", \"Casos confirmados\": 2690.0, \"Porcentaje\": 0.5010932944606414}, {\"Fecha\": \"2020-04-09\", \"Sexo\": \"Mujeres\", \"Casos confirmados\": 2911.0, \"Porcentaje\": 0.4989067055393586}, {\"Fecha\": \"2020-04-10\", \"Sexo\": \"Mujeres\", \"Casos confirmados\": 3142.0, \"Porcentaje\": 0.5020422055820286}, {\"Fecha\": \"2020-04-11\", \"Sexo\": \"Mujeres\", \"Casos confirmados\": 3350.0, \"Porcentaje\": 0.4979577944179714}, {\"Fecha\": \"2020-04-12\", \"Sexo\": \"Mujeres\", \"Casos confirmados\": 3515.0, \"Porcentaje\": 0.5044143613890524}, {\"Fecha\": \"2020-04-13\", \"Sexo\": \"Mujeres\", \"Casos confirmados\": 3713.0, \"Porcentaje\": 0.4955856386109476}, {\"Fecha\": \"2020-04-14\", \"Sexo\": \"Mujeres\", \"Casos confirmados\": 3856.0, \"Porcentaje\": 0.4988110964332893}, {\"Fecha\": \"2020-04-15\", \"Sexo\": \"Mujeres\", \"Casos confirmados\": 4117.0, \"Porcentaje\": 0.5011889035667108}, {\"Fecha\": \"2020-04-16\", \"Sexo\": \"Mujeres\", \"Casos confirmados\": 4374.0, \"Porcentaje\": 0.4997550220480157}, {\"Fecha\": \"2020-04-17\", \"Sexo\": \"Mujeres\", \"Casos confirmados\": 4636.0, \"Porcentaje\": 0.5002449779519843}, {\"Fecha\": \"2020-04-18\", \"Sexo\": \"Mujeres\", \"Casos confirmados\": 4895.0, \"Porcentaje\": 0.4958582604693971}, {\"Fecha\": \"2020-04-19\", \"Sexo\": \"Mujeres\", \"Casos confirmados\": 5097.0, \"Porcentaje\": 0.5041417395306028}, {\"Fecha\": \"2020-04-20\", \"Sexo\": \"Mujeres\", \"Casos confirmados\": 5284.0, \"Porcentaje\": 0.49620965995235}, {\"Fecha\": \"2020-04-21\", \"Sexo\": \"Mujeres\", \"Casos confirmados\": 5483.0, \"Porcentaje\": 0.50379034004765}, {\"Fecha\": \"2020-04-22\", \"Sexo\": \"Mujeres\", \"Casos confirmados\": 5689.0, \"Porcentaje\": 0.49842505095423384}, {\"Fecha\": \"2020-04-23\", \"Sexo\": \"Mujeres\", \"Casos confirmados\": 5920.0, \"Porcentaje\": 0.5015749490457662}, {\"Fecha\": \"2020-04-24\", \"Sexo\": \"Mujeres\", \"Casos confirmados\": 6123.0, \"Porcentaje\": 0.5010327022375215}, {\"Fecha\": \"2020-04-25\", \"Sexo\": \"Mujeres\", \"Casos confirmados\": 6394.0, \"Porcentaje\": 0.4989672977624785}, {\"Fecha\": \"2020-04-26\", \"Sexo\": \"Mujeres\", \"Casos confirmados\": 6640.0, \"Porcentaje\": 0.4993642720915448}, {\"Fecha\": \"2020-04-27\", \"Sexo\": \"Mujeres\", \"Casos confirmados\": 6843.0, \"Porcentaje\": 0.5006357279084552}, {\"Fecha\": \"2020-04-28\", \"Sexo\": \"Mujeres\", \"Casos confirmados\": 7150.0, \"Porcentaje\": 0.4998507908087138}, {\"Fecha\": \"2020-04-29\", \"Sexo\": \"Mujeres\", \"Casos confirmados\": null, \"Porcentaje\": 0.5001492091912861}, {\"Fecha\": \"2020-04-30\", \"Sexo\": \"Mujeres\", \"Casos confirmados\": null, \"Porcentaje\": 0.5009977194982896}, {\"Fecha\": \"2020-05-01\", \"Sexo\": \"Mujeres\", \"Casos confirmados\": 8338.0, \"Porcentaje\": 0.49900228050171036}, {\"Fecha\": \"2020-05-02\", \"Sexo\": \"Mujeres\", \"Casos confirmados\": 8956.0, \"Porcentaje\": 0.500944414463033}, {\"Fecha\": \"2020-05-03\", \"Sexo\": \"Mujeres\", \"Casos confirmados\": null, \"Porcentaje\": 0.4990555855369671}, {\"Fecha\": \"2020-05-04\", \"Sexo\": \"Mujeres\", \"Casos confirmados\": 9914.0, \"Porcentaje\": 0.4997407983411094}, {\"Fecha\": \"2020-05-05\", \"Sexo\": \"Mujeres\", \"Casos confirmados\": null, \"Porcentaje\": 0.5002592016588906}, {\"Fecha\": \"2020-05-06\", \"Sexo\": \"Mujeres\", \"Casos confirmados\": 11009.0, \"Porcentaje\": 0.501095423563778}, {\"Fecha\": \"2020-05-07\", \"Sexo\": \"Mujeres\", \"Casos confirmados\": null, \"Porcentaje\": 0.498904576436222}, {\"Fecha\": \"2020-05-08\", \"Sexo\": \"Mujeres\", \"Casos confirmados\": 12298.0, \"Porcentaje\": 0.5004576659038902}, {\"Fecha\": \"2020-05-09\", \"Sexo\": \"Mujeres\", \"Casos confirmados\": null, \"Porcentaje\": 0.4995423340961098}, {\"Fecha\": \"2020-05-10\", \"Sexo\": \"Mujeres\", \"Casos confirmados\": null, \"Porcentaje\": 0.5010808473843493}, {\"Fecha\": \"2020-05-11\", \"Sexo\": \"Mujeres\", \"Casos confirmados\": 14098.0, \"Porcentaje\": 0.4989191526156507}, {\"Fecha\": \"2020-05-12\", \"Sexo\": \"Mujeres\", \"Casos confirmados\": null, \"Porcentaje\": 0.5030832476875642}, {\"Fecha\": \"2020-05-13\", \"Sexo\": \"Mujeres\", \"Casos confirmados\": null, \"Porcentaje\": 0.49691675231243576}, {\"Fecha\": \"2020-05-14\", \"Sexo\": \"Mujeres\", \"Casos confirmados\": null, \"Porcentaje\": 0.505253766851705}, {\"Fecha\": \"2020-05-15\", \"Sexo\": \"Mujeres\", \"Casos confirmados\": 18501.0, \"Porcentaje\": 0.494746233148295}, {\"Fecha\": \"2020-05-16\", \"Sexo\": \"Mujeres\", \"Casos confirmados\": null, \"Porcentaje\": 0.5055975504736389}, {\"Fecha\": \"2020-05-17\", \"Sexo\": \"Mujeres\", \"Casos confirmados\": null, \"Porcentaje\": 0.4944024495263611}, {\"Fecha\": \"2020-05-18\", \"Sexo\": \"Mujeres\", \"Casos confirmados\": 21525.0, \"Porcentaje\": 0.506185376661743}, {\"Fecha\": \"2020-05-19\", \"Sexo\": \"Mujeres\", \"Casos confirmados\": null, \"Porcentaje\": 0.49381462333825704}, {\"Fecha\": \"2020-05-20\", \"Sexo\": \"Mujeres\", \"Casos confirmados\": null, \"Porcentaje\": 0.5036296033994334}, {\"Fecha\": \"2020-05-21\", \"Sexo\": \"Mujeres\", \"Casos confirmados\": null, \"Porcentaje\": 0.4963703966005666}, {\"Fecha\": \"2020-05-22\", \"Sexo\": \"Mujeres\", \"Casos confirmados\": 29030.0, \"Porcentaje\": 0.5011852353538774}, {\"Fecha\": \"2020-05-23\", \"Sexo\": \"Mujeres\", \"Casos confirmados\": null, \"Porcentaje\": 0.49881476464612257}, {\"Fecha\": \"2020-05-24\", \"Sexo\": \"Mujeres\", \"Casos confirmados\": null, \"Porcentaje\": 0.5013099721630916}, {\"Fecha\": \"2020-05-25\", \"Sexo\": \"Mujeres\", \"Casos confirmados\": 34719.0, \"Porcentaje\": 0.49869002783690847}, {\"Fecha\": \"2020-05-26\", \"Sexo\": \"Mujeres\", \"Casos confirmados\": null, \"Porcentaje\": 0.5001173249902229}, {\"Fecha\": \"2020-05-27\", \"Sexo\": \"Mujeres\", \"Casos confirmados\": null, \"Porcentaje\": 0.49988267500977707}, {\"Fecha\": \"2020-05-28\", \"Sexo\": \"Mujeres\", \"Casos confirmados\": null, \"Porcentaje\": 0.49984944293887384}, {\"Fecha\": \"2020-05-29\", \"Sexo\": \"Mujeres\", \"Casos confirmados\": 42589.0, \"Porcentaje\": 0.5001505570611262}, {\"Fecha\": \"2020-05-30\", \"Sexo\": \"Mujeres\", \"Casos confirmados\": null, \"Porcentaje\": 0.49934325744308233}, {\"Fecha\": \"2020-05-31\", \"Sexo\": \"Mujeres\", \"Casos confirmados\": null, \"Porcentaje\": 0.5006567425569177}, {\"Fecha\": \"2020-06-01\", \"Sexo\": \"Mujeres\", \"Casos confirmados\": 49656.0, \"Porcentaje\": 0.4978415262498259}, {\"Fecha\": \"2020-06-02\", \"Sexo\": \"Mujeres\", \"Casos confirmados\": null, \"Porcentaje\": 0.5021584737501741}, {\"Fecha\": \"2020-06-03\", \"Sexo\": \"Mujeres\", \"Casos confirmados\": null, \"Porcentaje\": null}, {\"Fecha\": \"2020-06-04\", \"Sexo\": \"Mujeres\", \"Casos confirmados\": null, \"Porcentaje\": null}, {\"Fecha\": \"2020-06-05\", \"Sexo\": \"Mujeres\", \"Casos confirmados\": 57919.0, \"Porcentaje\": null}, {\"Fecha\": \"2020-06-06\", \"Sexo\": \"Mujeres\", \"Casos confirmados\": null, \"Porcentaje\": null}, {\"Fecha\": \"2020-06-07\", \"Sexo\": \"Mujeres\", \"Casos confirmados\": null, \"Porcentaje\": 0.4902398871119473}, {\"Fecha\": \"2020-06-08\", \"Sexo\": \"Mujeres\", \"Casos confirmados\": 65602.0, \"Porcentaje\": 0.5097601128880527}, {\"Fecha\": \"2020-06-09\", \"Sexo\": \"Mujeres\", \"Casos confirmados\": null, \"Porcentaje\": 0.4858677372104378}, {\"Fecha\": \"2020-06-10\", \"Sexo\": \"Mujeres\", \"Casos confirmados\": null, \"Porcentaje\": 0.5141322627895621}, {\"Fecha\": \"2020-06-11\", \"Sexo\": \"Mujeres\", \"Casos confirmados\": null, \"Porcentaje\": null}, {\"Fecha\": \"2020-06-12\", \"Sexo\": \"Mujeres\", \"Casos confirmados\": 76292.0, \"Porcentaje\": null}, {\"Fecha\": \"2020-06-13\", \"Sexo\": \"Mujeres\", \"Casos confirmados\": null, \"Porcentaje\": 0.482034326834249}, {\"Fecha\": \"2020-06-14\", \"Sexo\": \"Mujeres\", \"Casos confirmados\": null, \"Porcentaje\": 0.5179656731657509}, {\"Fecha\": \"2020-06-15\", \"Sexo\": \"Mujeres\", \"Casos confirmados\": 85229.0, \"Porcentaje\": null}, {\"Fecha\": \"2020-06-16\", \"Sexo\": \"Mujeres\", \"Casos confirmados\": null, \"Porcentaje\": null}, {\"Fecha\": \"2020-06-17\", \"Sexo\": \"Mujeres\", \"Casos confirmados\": null, \"Porcentaje\": 0.4784233627395593}, {\"Fecha\": \"2020-06-18\", \"Sexo\": \"Mujeres\", \"Casos confirmados\": null, \"Porcentaje\": 0.5215766372604407}, {\"Fecha\": \"2020-06-19\", \"Sexo\": \"Mujeres\", \"Casos confirmados\": 111462.0, \"Porcentaje\": null}, {\"Fecha\": \"2020-06-20\", \"Sexo\": \"Mujeres\", \"Casos confirmados\": null, \"Porcentaje\": null}, {\"Fecha\": \"2020-06-21\", \"Sexo\": \"Mujeres\", \"Casos confirmados\": null, \"Porcentaje\": 0.4738748458692972}, {\"Fecha\": \"2020-06-22\", \"Sexo\": \"Mujeres\", \"Casos confirmados\": null, \"Porcentaje\": 0.5261251541307028}, {\"Fecha\": \"2020-06-23\", \"Sexo\": \"Mujeres\", \"Casos confirmados\": 123044.0, \"Porcentaje\": null}, {\"Fecha\": \"2020-06-24\", \"Sexo\": \"Mujeres\", \"Casos confirmados\": null, \"Porcentaje\": null}, {\"Fecha\": \"2020-06-25\", \"Sexo\": \"Mujeres\", \"Casos confirmados\": null, \"Porcentaje\": null}, {\"Fecha\": \"2020-06-26\", \"Sexo\": \"Mujeres\", \"Casos confirmados\": null, \"Porcentaje\": null}, {\"Fecha\": \"2020-06-27\", \"Sexo\": \"Mujeres\", \"Casos confirmados\": null, \"Porcentaje\": 0.46919825606549737}, {\"Fecha\": \"2020-06-28\", \"Sexo\": \"Mujeres\", \"Casos confirmados\": 135564.0, \"Porcentaje\": 0.5308017439345026}, {\"Fecha\": \"2020-06-29\", \"Sexo\": \"Mujeres\", \"Casos confirmados\": null, \"Porcentaje\": null}, {\"Fecha\": \"2020-06-30\", \"Sexo\": \"Mujeres\", \"Casos confirmados\": null, \"Porcentaje\": null}, {\"Fecha\": \"2020-07-01\", \"Sexo\": \"Mujeres\", \"Casos confirmados\": 140852.0, \"Porcentaje\": null}, {\"Fecha\": \"2020-07-02\", \"Sexo\": \"Mujeres\", \"Casos confirmados\": null, \"Porcentaje\": null}, {\"Fecha\": \"2020-07-03\", \"Sexo\": \"Mujeres\", \"Casos confirmados\": null, \"Porcentaje\": null}, {\"Fecha\": \"2020-07-04\", \"Sexo\": \"Mujeres\", \"Casos confirmados\": null, \"Porcentaje\": null}, {\"Fecha\": \"2020-07-05\", \"Sexo\": \"Mujeres\", \"Casos confirmados\": 149238.0, \"Porcentaje\": 0.4682493482827567}, {\"Fecha\": \"2020-03-25\", \"Sexo\": \"Hombres\", \"Casos confirmados\": 496.0, \"Porcentaje\": 0.5317506517172433}, {\"Fecha\": \"2020-03-26\", \"Sexo\": \"Hombres\", \"Casos confirmados\": 610.0, \"Porcentaje\": null}, {\"Fecha\": \"2020-03-27\", \"Sexo\": \"Hombres\", \"Casos confirmados\": 704.0, \"Porcentaje\": null}, {\"Fecha\": \"2020-03-28\", \"Sexo\": \"Hombres\", \"Casos confirmados\": 867.0, \"Porcentaje\": null}, {\"Fecha\": \"2020-03-29\", \"Sexo\": \"Hombres\", \"Casos confirmados\": 959.0, \"Porcentaje\": null}, {\"Fecha\": \"2020-03-30\", \"Sexo\": \"Hombres\", \"Casos confirmados\": 1051.0, \"Porcentaje\": 0.4674470118137595}, {\"Fecha\": \"2020-03-31\", \"Sexo\": \"Hombres\", \"Casos confirmados\": 1187.0, \"Porcentaje\": 0.5325529881862404}, {\"Fecha\": \"2020-04-01\", \"Sexo\": \"Hombres\", \"Casos confirmados\": 1369.0, \"Porcentaje\": null}, {\"Fecha\": \"2020-04-02\", \"Sexo\": \"Hombres\", \"Casos confirmados\": 1463.0, \"Porcentaje\": null}, {\"Fecha\": \"2020-04-03\", \"Sexo\": \"Hombres\", \"Casos confirmados\": 1684.0, \"Porcentaje\": null}, {\"Fecha\": \"2020-04-04\", \"Sexo\": \"Hombres\", \"Casos confirmados\": 1897.0, \"Porcentaje\": null}, {\"Fecha\": \"2020-04-05\", \"Sexo\": \"Hombres\", \"Casos confirmados\": 2042.0, \"Porcentaje\": null}, {\"Fecha\": \"2020-04-06\", \"Sexo\": \"Hombres\", \"Casos confirmados\": 2191.0, \"Porcentaje\": null}, {\"Fecha\": \"2020-04-07\", \"Sexo\": \"Hombres\", \"Casos confirmados\": 2326.0, \"Porcentaje\": 0.4693765360238003}, {\"Fecha\": \"2020-04-08\", \"Sexo\": \"Hombres\", \"Casos confirmados\": 2707.0, \"Porcentaje\": 0.5306234639761997}, {\"Fecha\": \"2020-04-09\", \"Sexo\": \"Hombres\", \"Casos confirmados\": 2899.0, \"Porcentaje\": null}, {\"Fecha\": \"2020-04-10\", \"Sexo\": \"Hombres\", \"Casos confirmados\": 3150.0, \"Porcentaje\": null}, {\"Fecha\": \"2020-04-11\", \"Sexo\": \"Hombres\", \"Casos confirmados\": 3352.0, \"Porcentaje\": null}, {\"Fecha\": \"2020-04-12\", \"Sexo\": \"Hombres\", \"Casos confirmados\": 3501.0, \"Porcentaje\": null}, {\"Fecha\": \"2020-04-13\", \"Sexo\": \"Hombres\", \"Casos confirmados\": 3699.0, \"Porcentaje\": 0.46920737887695113}, {\"Fecha\": \"2020-04-14\", \"Sexo\": \"Hombres\", \"Casos confirmados\": 3860.0, \"Porcentaje\": 0.5307926211230488}, {\"Fecha\": \"2020-04-15\", \"Sexo\": \"Hombres\", \"Casos confirmados\": 4099.0, \"Porcentaje\": null}, {\"Fecha\": \"2020-04-16\", \"Sexo\": \"Hombres\", \"Casos confirmados\": 4366.0, \"Porcentaje\": null}, {\"Fecha\": \"2020-04-17\", \"Sexo\": \"Hombres\", \"Casos confirmados\": 4616.0, \"Porcentaje\": null}, {\"Fecha\": \"2020-04-18\", \"Sexo\": \"Hombres\", \"Casos confirmados\": 4835.0, \"Porcentaje\": null}, {\"Fecha\": \"2020-04-19\", \"Sexo\": \"Hombres\", \"Casos confirmados\": 4991.0, \"Porcentaje\": null}, {\"Fecha\": \"2020-04-20\", \"Sexo\": \"Hombres\", \"Casos confirmados\": 5167.0, \"Porcentaje\": null}, {\"Fecha\": \"2020-04-21\", \"Sexo\": \"Hombres\", \"Casos confirmados\": 5349.0, \"Porcentaje\": 0.4699009201844782}, {\"Fecha\": \"2020-04-22\", \"Sexo\": \"Hombres\", \"Casos confirmados\": 5607.0, \"Porcentaje\": 0.5300990798155217}, {\"Fecha\": \"2020-04-23\", \"Sexo\": \"Hombres\", \"Casos confirmados\": 5892.0, \"Porcentaje\": null}, {\"Fecha\": \"2020-04-24\", \"Sexo\": \"Hombres\", \"Casos confirmados\": 6091.0, \"Porcentaje\": null}, {\"Fecha\": \"2020-04-25\", \"Sexo\": \"Hombres\", \"Casos confirmados\": 6391.0, \"Porcentaje\": null}, {\"Fecha\": \"2020-04-26\", \"Sexo\": \"Hombres\", \"Casos confirmados\": 6644.0, \"Porcentaje\": null}, {\"Fecha\": \"2020-04-27\", \"Sexo\": \"Hombres\", \"Casos confirmados\": 6861.0, \"Porcentaje\": 0.4722082219918788}, {\"Fecha\": \"2020-04-28\", \"Sexo\": \"Hombres\", \"Casos confirmados\": 7212.0, \"Porcentaje\": 0.5277917780081212}, {\"Fecha\": \"2020-04-29\", \"Sexo\": \"Hombres\", \"Casos confirmados\": null, \"Porcentaje\": null}, {\"Fecha\": \"2020-04-30\", \"Sexo\": \"Hombres\", \"Casos confirmados\": null, \"Porcentaje\": null}, {\"Fecha\": \"2020-05-01\", \"Sexo\": \"Hombres\", \"Casos confirmados\": 8670.0, \"Porcentaje\": null}, {\"Fecha\": \"2020-05-02\", \"Sexo\": \"Hombres\", \"Casos confirmados\": 9477.0, \"Porcentaje\": null}, {\"Fecha\": \"2020-05-03\", \"Sexo\": \"Hombres\", \"Casos confirmados\": null, \"Porcentaje\": null}, {\"Fecha\": \"2020-05-04\", \"Sexo\": \"Hombres\", \"Casos confirmados\": 10653.0, \"Porcentaje\": null}, {\"Fecha\": \"2020-05-05\", \"Sexo\": \"Hombres\", \"Casos confirmados\": null, \"Porcentaje\": 0.47282746234540185}, {\"Fecha\": \"2020-05-06\", \"Sexo\": \"Hombres\", \"Casos confirmados\": 12002.0, \"Porcentaje\": 0.5271725376545982}, {\"Fecha\": \"2020-05-07\", \"Sexo\": \"Hombres\", \"Casos confirmados\": null, \"Porcentaje\": null}, {\"Fecha\": \"2020-05-08\", \"Sexo\": \"Hombres\", \"Casos confirmados\": 13654.0, \"Porcentaje\": null}, {\"Fecha\": \"2020-05-09\", \"Sexo\": \"Hombres\", \"Casos confirmados\": null, \"Porcentaje\": null}, {\"Fecha\": \"2020-05-10\", \"Sexo\": \"Hombres\", \"Casos confirmados\": null, \"Porcentaje\": null}, {\"Fecha\": \"2020-05-11\", \"Sexo\": \"Hombres\", \"Casos confirmados\": 15949.0, \"Porcentaje\": 0.47249391394534795}, {\"Fecha\": \"2020-05-12\", \"Sexo\": \"Hombres\", \"Casos confirmados\": null, \"Porcentaje\": 0.5275060860546521}, {\"Fecha\": \"2020-05-13\", \"Sexo\": \"Hombres\", \"Casos confirmados\": null, \"Porcentaje\": null}, {\"Fecha\": \"2020-05-14\", \"Sexo\": \"Hombres\", \"Casos confirmados\": null, \"Porcentaje\": null}, {\"Fecha\": \"2020-05-15\", \"Sexo\": \"Hombres\", \"Casos confirmados\": 21010.0, \"Porcentaje\": null}, {\"Fecha\": \"2020-05-16\", \"Sexo\": \"Hombres\", \"Casos confirmados\": null, \"Porcentaje\": null}, {\"Fecha\": \"2020-05-17\", \"Sexo\": \"Hombres\", \"Casos confirmados\": null, \"Porcentaje\": null}, {\"Fecha\": \"2020-05-18\", \"Sexo\": \"Hombres\", \"Casos confirmados\": 24523.0, \"Porcentaje\": null}, {\"Fecha\": \"2020-05-19\", \"Sexo\": \"Hombres\", \"Casos confirmados\": null, \"Porcentaje\": 0.47433474260134295}, {\"Fecha\": \"2020-05-20\", \"Sexo\": \"Hombres\", \"Casos confirmados\": null, \"Porcentaje\": 0.5256652573986571}, {\"Fecha\": \"2020-05-21\", \"Sexo\": \"Hombres\", \"Casos confirmados\": null, \"Porcentaje\": null}, {\"Fecha\": \"2020-05-22\", \"Sexo\": \"Hombres\", \"Casos confirmados\": 32818.0, \"Porcentaje\": null}, {\"Fecha\": \"2020-05-23\", \"Sexo\": \"Hombres\", \"Casos confirmados\": null, \"Porcentaje\": null}, {\"Fecha\": \"2020-05-24\", \"Sexo\": \"Hombres\", \"Casos confirmados\": null, \"Porcentaje\": null}, {\"Fecha\": \"2020-05-25\", \"Sexo\": \"Hombres\", \"Casos confirmados\": 39276.0, \"Porcentaje\": 0.47499860669899124}, {\"Fecha\": \"2020-05-26\", \"Sexo\": \"Hombres\", \"Casos confirmados\": null, \"Porcentaje\": 0.5250013933010087}, {\"Fecha\": \"2020-05-27\", \"Sexo\": \"Hombres\", \"Casos confirmados\": null, \"Porcentaje\": null}, {\"Fecha\": \"2020-05-28\", \"Sexo\": \"Hombres\", \"Casos confirmados\": null, \"Porcentaje\": null}, {\"Fecha\": \"2020-05-29\", \"Sexo\": \"Hombres\", \"Casos confirmados\": 48045.0, \"Porcentaje\": null}, {\"Fecha\": \"2020-05-30\", \"Sexo\": \"Hombres\", \"Casos confirmados\": null, \"Porcentaje\": null}, {\"Fecha\": \"2020-05-31\", \"Sexo\": \"Hombres\", \"Casos confirmados\": null, \"Porcentaje\": null}, {\"Fecha\": \"2020-06-01\", \"Sexo\": \"Hombres\", \"Casos confirmados\": 55501.0, \"Porcentaje\": null}, {\"Fecha\": \"2020-06-02\", \"Sexo\": \"Hombres\", \"Casos confirmados\": null, \"Porcentaje\": 0.48178533144299596}, {\"Fecha\": \"2020-06-03\", \"Sexo\": \"Hombres\", \"Casos confirmados\": null, \"Porcentaje\": 0.518214668557004}, {\"Fecha\": \"2020-06-04\", \"Sexo\": \"Hombres\", \"Casos confirmados\": null, \"Porcentaje\": null}, {\"Fecha\": \"2020-06-05\", \"Sexo\": \"Hombres\", \"Casos confirmados\": 64576.0, \"Porcentaje\": null}, {\"Fecha\": \"2020-06-06\", \"Sexo\": \"Hombres\", \"Casos confirmados\": null, \"Porcentaje\": null}, {\"Fecha\": \"2020-06-07\", \"Sexo\": \"Hombres\", \"Casos confirmados\": null, \"Porcentaje\": null}, {\"Fecha\": \"2020-06-08\", \"Sexo\": \"Hombres\", \"Casos confirmados\": 73240.0, \"Porcentaje\": null}, {\"Fecha\": \"2020-06-09\", \"Sexo\": \"Hombres\", \"Casos confirmados\": null, \"Porcentaje\": null}, {\"Fecha\": \"2020-06-10\", \"Sexo\": \"Hombres\", \"Casos confirmados\": null, \"Porcentaje\": 0.48184335117735283}, {\"Fecha\": \"2020-06-11\", \"Sexo\": \"Hombres\", \"Casos confirmados\": null, \"Porcentaje\": 0.5181566488226471}, {\"Fecha\": \"2020-06-12\", \"Sexo\": \"Hombres\", \"Casos confirmados\": 84548.0, \"Porcentaje\": null}, {\"Fecha\": \"2020-06-13\", \"Sexo\": \"Hombres\", \"Casos confirmados\": null, \"Porcentaje\": null}, {\"Fecha\": \"2020-06-14\", \"Sexo\": \"Hombres\", \"Casos confirmados\": null, \"Porcentaje\": null}, {\"Fecha\": \"2020-06-15\", \"Sexo\": \"Hombres\", \"Casos confirmados\": 94201.0, \"Porcentaje\": null}, {\"Fecha\": \"2020-06-16\", \"Sexo\": \"Hombres\", \"Casos confirmados\": null, \"Porcentaje\": null}, {\"Fecha\": \"2020-06-17\", \"Sexo\": \"Hombres\", \"Casos confirmados\": null, \"Porcentaje\": null}, {\"Fecha\": \"2020-06-18\", \"Sexo\": \"Hombres\", \"Casos confirmados\": null, \"Porcentaje\": null}, {\"Fecha\": \"2020-06-19\", \"Sexo\": \"Hombres\", \"Casos confirmados\": 119890.0, \"Porcentaje\": null}, {\"Fecha\": \"2020-06-20\", \"Sexo\": \"Hombres\", \"Casos confirmados\": null, \"Porcentaje\": 0.48164912704559826}, {\"Fecha\": \"2020-06-21\", \"Sexo\": \"Hombres\", \"Casos confirmados\": null, \"Porcentaje\": 0.5183508729544017}, {\"Fecha\": \"2020-06-22\", \"Sexo\": \"Hombres\", \"Casos confirmados\": null, \"Porcentaje\": null}, {\"Fecha\": \"2020-06-23\", \"Sexo\": \"Hombres\", \"Casos confirmados\": 132317.0, \"Porcentaje\": null}, {\"Fecha\": \"2020-06-24\", \"Sexo\": \"Hombres\", \"Casos confirmados\": null, \"Porcentaje\": null}, {\"Fecha\": \"2020-06-25\", \"Sexo\": \"Hombres\", \"Casos confirmados\": null, \"Porcentaje\": null}, {\"Fecha\": \"2020-06-26\", \"Sexo\": \"Hombres\", \"Casos confirmados\": null, \"Porcentaje\": 0.48205949594096953}, {\"Fecha\": \"2020-06-27\", \"Sexo\": \"Hombres\", \"Casos confirmados\": null, \"Porcentaje\": 0.5179405040590305}, {\"Fecha\": \"2020-06-28\", \"Sexo\": \"Hombres\", \"Casos confirmados\": 145894.0, \"Porcentaje\": null}, {\"Fecha\": \"2020-06-29\", \"Sexo\": \"Hombres\", \"Casos confirmados\": null, \"Porcentaje\": null}, {\"Fecha\": \"2020-06-30\", \"Sexo\": \"Hombres\", \"Casos confirmados\": null, \"Porcentaje\": null}, {\"Fecha\": \"2020-07-01\", \"Sexo\": \"Hombres\", \"Casos confirmados\": 151336.0, \"Porcentaje\": null}, {\"Fecha\": \"2020-07-02\", \"Sexo\": \"Hombres\", \"Casos confirmados\": null, \"Porcentaje\": null}, {\"Fecha\": \"2020-07-03\", \"Sexo\": \"Hombres\", \"Casos confirmados\": null, \"Porcentaje\": null}, {\"Fecha\": \"2020-07-04\", \"Sexo\": \"Hombres\", \"Casos confirmados\": null, \"Porcentaje\": 0.48241508165349956}, {\"Fecha\": \"2020-07-05\", \"Sexo\": \"Hombres\", \"Casos confirmados\": 160118.0, \"Porcentaje\": 0.5175849183465004}]}}, {\"mode\": \"vega-lite\"});\n",
       "</script>"
      ],
      "text/plain": [
       "alt.VConcatChart(...)"
      ]
     },
     "execution_count": 17,
     "metadata": {},
     "output_type": "execute_result"
    }
   ],
   "source": [
    "#hide\n",
    "input_dropdown = alt.binding_select(options=cases_by_sex_long_form['Sexo'].unique())\n",
    "selection1 = alt.selection_single(fields=['Sexo'], bind=input_dropdown, name=' ')\n",
    "selection2 = alt.selection_multi(fields=['Sexo'], on='mouseover')\n",
    "\n",
    "color = alt.condition(selection1 | selection2,\n",
    "                    alt.Color('Sexo:N', scale=alt.Scale(scheme='tableau10'), legend=None),\n",
    "                    alt.value('lightgray'))\n",
    "\n",
    "bars1 = alt.Chart(cases_by_sex_long_form.reset_index()).mark_bar().encode(\n",
    "    x=alt.X(\"Fecha\", axis=alt.Axis(title=\"\")),\n",
    "    y=alt.Y(\"Casos confirmados\"),\n",
    "    tooltip = [\"Fecha\", \"Casos confirmados\"],\n",
    "    color=color\n",
    ").add_selection(\n",
    "    selection1, selection2\n",
    ").transform_filter(\n",
    "    selection1\n",
    ")\n",
    "\n",
    "legend = alt.Chart(cases_by_sex_long_form.reset_index()).mark_point().encode(\n",
    "    y=alt.Y('Sexo:N', axis=alt.Axis(orient='right')),\n",
    "    color=color\n",
    ").add_selection(\n",
    "    selection1, selection2\n",
    ")\n",
    "\n",
    "bars2 = alt.Chart(cases_by_sex_long_form.reset_index()).mark_bar().encode(\n",
    "    x=alt.X(\"Fecha\", axis=alt.Axis(title=\"Fecha\", ticks=False, labels=False)),\n",
    "    y=alt.Y(\"Casos confirmados\", axis=alt.Axis(title=\"Normalizados\", format='%'), stack=\"normalize\"),\n",
    "    color=color,\n",
    "    tooltip = [\"Fecha\", \"Casos confirmados\"],\n",
    ").add_selection(\n",
    "    selection1, selection2\n",
    ").transform_filter(\n",
    "    selection1\n",
    ")\n",
    "\n",
    "alt.vconcat(\n",
    "    bars1.properties(\n",
    "        title = 'COVID-19 en Chile: Evolución de casos confirmados por sexo',\n",
    "        width=600) | legend,\n",
    "    bars2.properties(\n",
    "        height = 80,\n",
    "        width=600)\n",
    ").configure_view(\n",
    "    stroke=None\n",
    ").configure_concat(\n",
    "    spacing=1\n",
    ")"
   ]
  },
  {
   "cell_type": "code",
   "execution_count": 18,
   "metadata": {},
   "outputs": [],
   "source": [
    "#hide\n",
    "#country_population = pd.read_csv(\"http://www.ine.cl/docs/default-source/proyecciones-de-poblacion/cuadros-estadisticos/base-2017/ine_estimaciones-y-proyecciones-de-poblaci%C3%B3n-1992-2050_base-2017_base-de-datos.csv\",\n",
    "#                         encoding='ISO-8859-1', sep=\";\", header=1, thousands='.')"
   ]
  },
  {
   "cell_type": "code",
   "execution_count": 19,
   "metadata": {},
   "outputs": [],
   "source": [
    "#hide\n",
    "#country_population.query(\"EDAD == 'TOTAL'\")"
   ]
  },
  {
   "cell_type": "code",
   "execution_count": 20,
   "metadata": {},
   "outputs": [],
   "source": [
    "#hide\n",
    "#pop_hombres = country_population.loc[206, \"2020\"] # 9599101\n",
    "#pop_mujeres = country_population.loc[311, \"2020\"] # 9859209\n",
    "#pop_hombres, pop_mujeres"
   ]
  },
  {
   "cell_type": "code",
   "execution_count": 21,
   "metadata": {},
   "outputs": [],
   "source": [
    "#hide\n",
    "pop_hombres, pop_mujeres = 9599101, 9859209"
   ]
  },
  {
   "cell_type": "code",
   "execution_count": 22,
   "metadata": {},
   "outputs": [],
   "source": [
    "#hide\n",
    "cases_sex = cases_raw.groupby('Sexo').sum()"
   ]
  },
  {
   "cell_type": "code",
   "execution_count": 23,
   "metadata": {},
   "outputs": [
    {
     "data": {
      "text/plain": [
       "Sexo\n",
       "F    149238\n",
       "M    160118\n",
       "Name: 2020-07-05, dtype: int64"
      ]
     },
     "execution_count": 23,
     "metadata": {},
     "output_type": "execute_result"
    }
   ],
   "source": [
    "#hide\n",
    "cases_sex[last_date]"
   ]
  },
  {
   "cell_type": "code",
   "execution_count": 24,
   "metadata": {},
   "outputs": [
    {
     "data": {
      "text/plain": [
       "(160118, 149238)"
      ]
     },
     "execution_count": 24,
     "metadata": {},
     "output_type": "execute_result"
    }
   ],
   "source": [
    "#hide\n",
    "casos_hombres = cases_sex.loc[\"M\",last_date]\n",
    "casos_mujeres = cases_sex.loc[\"F\",last_date]\n",
    "casos_hombres, casos_mujeres"
   ]
  },
  {
   "cell_type": "code",
   "execution_count": 25,
   "metadata": {},
   "outputs": [],
   "source": [
    "#hide\n",
    "df_casos = pd.DataFrame()\n",
    "df_casos[\"Sexo\"] = [\"Hombres\", \"Mujeres\"]\n",
    "df_casos[\"Casos confirmados\"] = [casos_hombres, casos_mujeres]"
   ]
  },
  {
   "cell_type": "code",
   "execution_count": 26,
   "metadata": {},
   "outputs": [
    {
     "data": {
      "text/html": [
       "<div>\n",
       "<style scoped>\n",
       "    .dataframe tbody tr th:only-of-type {\n",
       "        vertical-align: middle;\n",
       "    }\n",
       "\n",
       "    .dataframe tbody tr th {\n",
       "        vertical-align: top;\n",
       "    }\n",
       "\n",
       "    .dataframe thead th {\n",
       "        text-align: right;\n",
       "    }\n",
       "</style>\n",
       "<table border=\"1\" class=\"dataframe\">\n",
       "  <thead>\n",
       "    <tr style=\"text-align: right;\">\n",
       "      <th></th>\n",
       "      <th>Sexo</th>\n",
       "      <th>Casos confirmados</th>\n",
       "    </tr>\n",
       "  </thead>\n",
       "  <tbody>\n",
       "    <tr>\n",
       "      <th>0</th>\n",
       "      <td>Hombres</td>\n",
       "      <td>160118</td>\n",
       "    </tr>\n",
       "    <tr>\n",
       "      <th>1</th>\n",
       "      <td>Mujeres</td>\n",
       "      <td>149238</td>\n",
       "    </tr>\n",
       "  </tbody>\n",
       "</table>\n",
       "</div>"
      ],
      "text/plain": [
       "      Sexo  Casos confirmados\n",
       "0  Hombres             160118\n",
       "1  Mujeres             149238"
      ]
     },
     "execution_count": 26,
     "metadata": {},
     "output_type": "execute_result"
    }
   ],
   "source": [
    "#hide\n",
    "df_casos"
   ]
  },
  {
   "cell_type": "code",
   "execution_count": 27,
   "metadata": {},
   "outputs": [],
   "source": [
    "#hide\n",
    "def my_plot(df, last_date=last_date, precision=0):\n",
    "  field = df.drop(columns='Sexo').columns[0]\n",
    "  bars = alt.Chart(df).mark_bar(opacity=0.9).encode(\n",
    "    x = alt.X(f\"{field}\"),\n",
    "    y = alt.Y(\"Sexo\"),\n",
    "    color = alt.Color('Sexo'),\n",
    "    tooltip = alt.Tooltip(['Sexo:N', f'{field}'])\n",
    "  )\n",
    "  text = alt.Chart(df).mark_text(dx=-22, dy=0, color=\"white\").encode(\n",
    "     x=alt.X(f\"{field}\", stack='zero'),\n",
    "     y=alt.Y('Sexo'),\n",
    "     text=alt.Text(f\"{field}\", format=f',.{precision}f')\n",
    "  )\n",
    "  return (bars+text).properties(\n",
    "    title = f\"{field} por sexo al {pd.to_datetime(last_date).strftime('%d/%m')}\",\n",
    "    width = 600,\n",
    "    height = alt.Step(30)\n",
    "  )"
   ]
  },
  {
   "cell_type": "code",
   "execution_count": 28,
   "metadata": {},
   "outputs": [
    {
     "data": {
      "text/html": [
       "\n",
       "<div id=\"altair-viz-71e83b873b71499bbd9dae6f473409ce\"></div>\n",
       "<script type=\"text/javascript\">\n",
       "  (function(spec, embedOpt){\n",
       "    let outputDiv = document.currentScript.previousElementSibling;\n",
       "    if (outputDiv.id !== \"altair-viz-71e83b873b71499bbd9dae6f473409ce\") {\n",
       "      outputDiv = document.getElementById(\"altair-viz-71e83b873b71499bbd9dae6f473409ce\");\n",
       "    }\n",
       "    const paths = {\n",
       "      \"vega\": \"https://cdn.jsdelivr.net/npm//vega@5?noext\",\n",
       "      \"vega-lib\": \"https://cdn.jsdelivr.net/npm//vega-lib?noext\",\n",
       "      \"vega-lite\": \"https://cdn.jsdelivr.net/npm//vega-lite@4.8.1?noext\",\n",
       "      \"vega-embed\": \"https://cdn.jsdelivr.net/npm//vega-embed@6?noext\",\n",
       "    };\n",
       "\n",
       "    function loadScript(lib) {\n",
       "      return new Promise(function(resolve, reject) {\n",
       "        var s = document.createElement('script');\n",
       "        s.src = paths[lib];\n",
       "        s.async = true;\n",
       "        s.onload = () => resolve(paths[lib]);\n",
       "        s.onerror = () => reject(`Error loading script: ${paths[lib]}`);\n",
       "        document.getElementsByTagName(\"head\")[0].appendChild(s);\n",
       "      });\n",
       "    }\n",
       "\n",
       "    function showError(err) {\n",
       "      outputDiv.innerHTML = `<div class=\"error\" style=\"color:red;\">${err}</div>`;\n",
       "      throw err;\n",
       "    }\n",
       "\n",
       "    function displayChart(vegaEmbed) {\n",
       "      vegaEmbed(outputDiv, spec, embedOpt)\n",
       "        .catch(err => showError(`Javascript Error: ${err.message}<br>This usually means there's a typo in your chart specification. See the javascript console for the full traceback.`));\n",
       "    }\n",
       "\n",
       "    if(typeof define === \"function\" && define.amd) {\n",
       "      requirejs.config({paths});\n",
       "      require([\"vega-embed\"], displayChart, err => showError(`Error loading script: ${err.message}`));\n",
       "    } else if (typeof vegaEmbed === \"function\") {\n",
       "      displayChart(vegaEmbed);\n",
       "    } else {\n",
       "      loadScript(\"vega\")\n",
       "        .then(() => loadScript(\"vega-lite\"))\n",
       "        .then(() => loadScript(\"vega-embed\"))\n",
       "        .catch(showError)\n",
       "        .then(() => displayChart(vegaEmbed));\n",
       "    }\n",
       "  })({\"config\": {\"view\": {\"continuousWidth\": 400, \"continuousHeight\": 300}}, \"layer\": [{\"mark\": {\"type\": \"bar\", \"opacity\": 0.9}, \"encoding\": {\"color\": {\"type\": \"nominal\", \"field\": \"Sexo\"}, \"tooltip\": [{\"type\": \"nominal\", \"field\": \"Sexo\"}, {\"type\": \"quantitative\", \"field\": \"Casos confirmados\"}], \"x\": {\"type\": \"quantitative\", \"field\": \"Casos confirmados\"}, \"y\": {\"type\": \"nominal\", \"field\": \"Sexo\"}}}, {\"mark\": {\"type\": \"text\", \"color\": \"white\", \"dx\": -22, \"dy\": 0}, \"encoding\": {\"text\": {\"type\": \"quantitative\", \"field\": \"Casos confirmados\", \"format\": \",.0f\"}, \"x\": {\"type\": \"quantitative\", \"field\": \"Casos confirmados\", \"stack\": \"zero\"}, \"y\": {\"type\": \"nominal\", \"field\": \"Sexo\"}}}], \"data\": {\"name\": \"data-ec69a8fd73d559d737313debc60ff067\"}, \"height\": {\"step\": 30}, \"title\": \"Casos confirmados por sexo al 05/07\", \"width\": 600, \"$schema\": \"https://vega.github.io/schema/vega-lite/v4.8.1.json\", \"datasets\": {\"data-ec69a8fd73d559d737313debc60ff067\": [{\"Sexo\": \"Hombres\", \"Casos confirmados\": 160118}, {\"Sexo\": \"Mujeres\", \"Casos confirmados\": 149238}]}}, {\"mode\": \"vega-lite\"});\n",
       "</script>"
      ],
      "text/plain": [
       "alt.LayerChart(...)"
      ]
     },
     "execution_count": 28,
     "metadata": {},
     "output_type": "execute_result"
    }
   ],
   "source": [
    "#hide\n",
    "my_plot(df_casos)"
   ]
  },
  {
   "cell_type": "code",
   "execution_count": 29,
   "metadata": {},
   "outputs": [],
   "source": [
    "#hide\n",
    "ti_hombres = 100000*casos_hombres/pop_hombres\n",
    "ti_mujeres = 100000*casos_mujeres/pop_mujeres"
   ]
  },
  {
   "cell_type": "code",
   "execution_count": 30,
   "metadata": {},
   "outputs": [],
   "source": [
    "#hide\n",
    "df_ti = pd.DataFrame()\n",
    "df_ti[\"Sexo\"] = [\"Hombres\", \"Mujeres\"]\n",
    "df_ti[\"Tasa de incidencia\"] = [ti_hombres, ti_mujeres]"
   ]
  },
  {
   "cell_type": "code",
   "execution_count": 31,
   "metadata": {},
   "outputs": [
    {
     "data": {
      "text/html": [
       "\n",
       "<div id=\"altair-viz-af4128b59d574b10b5bab2d737bc589e\"></div>\n",
       "<script type=\"text/javascript\">\n",
       "  (function(spec, embedOpt){\n",
       "    let outputDiv = document.currentScript.previousElementSibling;\n",
       "    if (outputDiv.id !== \"altair-viz-af4128b59d574b10b5bab2d737bc589e\") {\n",
       "      outputDiv = document.getElementById(\"altair-viz-af4128b59d574b10b5bab2d737bc589e\");\n",
       "    }\n",
       "    const paths = {\n",
       "      \"vega\": \"https://cdn.jsdelivr.net/npm//vega@5?noext\",\n",
       "      \"vega-lib\": \"https://cdn.jsdelivr.net/npm//vega-lib?noext\",\n",
       "      \"vega-lite\": \"https://cdn.jsdelivr.net/npm//vega-lite@4.8.1?noext\",\n",
       "      \"vega-embed\": \"https://cdn.jsdelivr.net/npm//vega-embed@6?noext\",\n",
       "    };\n",
       "\n",
       "    function loadScript(lib) {\n",
       "      return new Promise(function(resolve, reject) {\n",
       "        var s = document.createElement('script');\n",
       "        s.src = paths[lib];\n",
       "        s.async = true;\n",
       "        s.onload = () => resolve(paths[lib]);\n",
       "        s.onerror = () => reject(`Error loading script: ${paths[lib]}`);\n",
       "        document.getElementsByTagName(\"head\")[0].appendChild(s);\n",
       "      });\n",
       "    }\n",
       "\n",
       "    function showError(err) {\n",
       "      outputDiv.innerHTML = `<div class=\"error\" style=\"color:red;\">${err}</div>`;\n",
       "      throw err;\n",
       "    }\n",
       "\n",
       "    function displayChart(vegaEmbed) {\n",
       "      vegaEmbed(outputDiv, spec, embedOpt)\n",
       "        .catch(err => showError(`Javascript Error: ${err.message}<br>This usually means there's a typo in your chart specification. See the javascript console for the full traceback.`));\n",
       "    }\n",
       "\n",
       "    if(typeof define === \"function\" && define.amd) {\n",
       "      requirejs.config({paths});\n",
       "      require([\"vega-embed\"], displayChart, err => showError(`Error loading script: ${err.message}`));\n",
       "    } else if (typeof vegaEmbed === \"function\") {\n",
       "      displayChart(vegaEmbed);\n",
       "    } else {\n",
       "      loadScript(\"vega\")\n",
       "        .then(() => loadScript(\"vega-lite\"))\n",
       "        .then(() => loadScript(\"vega-embed\"))\n",
       "        .catch(showError)\n",
       "        .then(() => displayChart(vegaEmbed));\n",
       "    }\n",
       "  })({\"config\": {\"view\": {\"continuousWidth\": 400, \"continuousHeight\": 300}}, \"layer\": [{\"mark\": {\"type\": \"bar\", \"opacity\": 0.9}, \"encoding\": {\"color\": {\"type\": \"nominal\", \"field\": \"Sexo\"}, \"tooltip\": [{\"type\": \"nominal\", \"field\": \"Sexo\"}, {\"type\": \"quantitative\", \"field\": \"Tasa de incidencia\"}], \"x\": {\"type\": \"quantitative\", \"field\": \"Tasa de incidencia\"}, \"y\": {\"type\": \"nominal\", \"field\": \"Sexo\"}}}, {\"mark\": {\"type\": \"text\", \"color\": \"white\", \"dx\": -22, \"dy\": 0}, \"encoding\": {\"text\": {\"type\": \"quantitative\", \"field\": \"Tasa de incidencia\", \"format\": \",.0f\"}, \"x\": {\"type\": \"quantitative\", \"field\": \"Tasa de incidencia\", \"stack\": \"zero\"}, \"y\": {\"type\": \"nominal\", \"field\": \"Sexo\"}}}], \"data\": {\"name\": \"data-b9207b5169dafdf7ff9932946f775de7\"}, \"height\": {\"step\": 30}, \"title\": \"Tasa de incidencia por sexo al 05/07\", \"width\": 600, \"$schema\": \"https://vega.github.io/schema/vega-lite/v4.8.1.json\", \"datasets\": {\"data-b9207b5169dafdf7ff9932946f775de7\": [{\"Sexo\": \"Hombres\", \"Tasa de incidencia\": 1668.0520394566115}, {\"Sexo\": \"Mujeres\", \"Tasa de incidencia\": 1513.6914127695234}]}}, {\"mode\": \"vega-lite\"});\n",
       "</script>"
      ],
      "text/plain": [
       "alt.LayerChart(...)"
      ]
     },
     "execution_count": 31,
     "metadata": {},
     "output_type": "execute_result"
    }
   ],
   "source": [
    "#hide\n",
    "my_plot(df_ti, last_date)"
   ]
  },
  {
   "cell_type": "code",
   "execution_count": 32,
   "metadata": {},
   "outputs": [],
   "source": [
    "#hide\n",
    "covid19_deaths_raw = pd.read_csv(\n",
    "    \"/Users/alonsosilva/COVID-19/DEFUNCIONES_FUENTE_DEIS_2016_2020_03072020.csv\", sep=\";\")"
   ]
  },
  {
   "cell_type": "code",
   "execution_count": 33,
   "metadata": {},
   "outputs": [],
   "source": [
    "#hide\n",
    "#covid19_deaths_raw = pd.read_csv(\n",
    "#    \"https://raw.githubusercontent.com/alonsosilvaallende/COVID-19/master/data/DEIS_causa_COVID.csv\")"
   ]
  },
  {
   "cell_type": "code",
   "execution_count": 35,
   "metadata": {},
   "outputs": [],
   "source": [
    "#hide\n",
    "covid19_deaths_raw = covid19_deaths_raw.T.reset_index().T"
   ]
  },
  {
   "cell_type": "code",
   "execution_count": 36,
   "metadata": {},
   "outputs": [],
   "source": [
    "#hide\n",
    "covid19_deaths_raw = covid19_deaths_raw.rename(\n",
    "    columns={0:\"año\",\n",
    "             1:\"fecha\",\n",
    "             2:\"género\", \n",
    "             3:\"edad\", \n",
    "             4:\"comuna_código\", \n",
    "             5:\"comuna\", \n",
    "             6:\"región\", \n",
    "             7:\"código_detalle\",\n",
    "             8:\"causa_detalle\",\n",
    "             9:\"código\",\n",
    "            10:\"causa\"})"
   ]
  },
  {
   "cell_type": "code",
   "execution_count": 58,
   "metadata": {},
   "outputs": [
    {
     "data": {
      "text/plain": [
       "'2020-07-03'"
      ]
     },
     "execution_count": 58,
     "metadata": {},
     "output_type": "execute_result"
    }
   ],
   "source": [
    "#hide\n",
    "deaths_last_date = (pd.to_datetime(covid19_deaths_raw[\"fecha\"]).sort_values().iloc[-1]+pd.offsets.Day(1)).strftime(\"%Y-%m-%d\")\n",
    "deaths_last_date"
   ]
  },
  {
   "cell_type": "code",
   "execution_count": 52,
   "metadata": {},
   "outputs": [],
   "source": [
    "#hide\n",
    "confirmado = covid19_deaths_raw.query(\"código_detalle == 'U07.1'\")"
   ]
  },
  {
   "cell_type": "code",
   "execution_count": 39,
   "metadata": {},
   "outputs": [
    {
     "data": {
      "text/plain": [
       "(4090, 2967)"
      ]
     },
     "execution_count": 39,
     "metadata": {},
     "output_type": "execute_result"
    }
   ],
   "source": [
    "#hide\n",
    "muertes_hombres = len(confirmado.query(\"género == 'Hombre'\"))\n",
    "muertes_mujeres = len(confirmado.query(\"género == 'Mujer'\"))\n",
    "muertes_hombres, muertes_mujeres"
   ]
  },
  {
   "cell_type": "code",
   "execution_count": 40,
   "metadata": {},
   "outputs": [],
   "source": [
    "#hide\n",
    "df_muertes = pd.DataFrame()\n",
    "df_muertes[\"Sexo\"] = [\"Hombres\", \"Mujeres\"]\n",
    "df_muertes[\"Fallecimientos confirmados\"] = [muertes_hombres, muertes_mujeres]"
   ]
  },
  {
   "cell_type": "code",
   "execution_count": 41,
   "metadata": {},
   "outputs": [
    {
     "data": {
      "text/html": [
       "<div>\n",
       "<style scoped>\n",
       "    .dataframe tbody tr th:only-of-type {\n",
       "        vertical-align: middle;\n",
       "    }\n",
       "\n",
       "    .dataframe tbody tr th {\n",
       "        vertical-align: top;\n",
       "    }\n",
       "\n",
       "    .dataframe thead th {\n",
       "        text-align: right;\n",
       "    }\n",
       "</style>\n",
       "<table border=\"1\" class=\"dataframe\">\n",
       "  <thead>\n",
       "    <tr style=\"text-align: right;\">\n",
       "      <th></th>\n",
       "      <th>Sexo</th>\n",
       "      <th>Fallecimientos confirmados</th>\n",
       "    </tr>\n",
       "  </thead>\n",
       "  <tbody>\n",
       "    <tr>\n",
       "      <th>0</th>\n",
       "      <td>Hombres</td>\n",
       "      <td>4090</td>\n",
       "    </tr>\n",
       "    <tr>\n",
       "      <th>1</th>\n",
       "      <td>Mujeres</td>\n",
       "      <td>2967</td>\n",
       "    </tr>\n",
       "  </tbody>\n",
       "</table>\n",
       "</div>"
      ],
      "text/plain": [
       "      Sexo  Fallecimientos confirmados\n",
       "0  Hombres                        4090\n",
       "1  Mujeres                        2967"
      ]
     },
     "execution_count": 41,
     "metadata": {},
     "output_type": "execute_result"
    }
   ],
   "source": [
    "#hide\n",
    "df_muertes"
   ]
  },
  {
   "cell_type": "code",
   "execution_count": 59,
   "metadata": {},
   "outputs": [
    {
     "data": {
      "text/html": [
       "\n",
       "<div id=\"altair-viz-96f2bfb894bf44409a1caf3f5572b0f4\"></div>\n",
       "<script type=\"text/javascript\">\n",
       "  (function(spec, embedOpt){\n",
       "    let outputDiv = document.currentScript.previousElementSibling;\n",
       "    if (outputDiv.id !== \"altair-viz-96f2bfb894bf44409a1caf3f5572b0f4\") {\n",
       "      outputDiv = document.getElementById(\"altair-viz-96f2bfb894bf44409a1caf3f5572b0f4\");\n",
       "    }\n",
       "    const paths = {\n",
       "      \"vega\": \"https://cdn.jsdelivr.net/npm//vega@5?noext\",\n",
       "      \"vega-lib\": \"https://cdn.jsdelivr.net/npm//vega-lib?noext\",\n",
       "      \"vega-lite\": \"https://cdn.jsdelivr.net/npm//vega-lite@4.8.1?noext\",\n",
       "      \"vega-embed\": \"https://cdn.jsdelivr.net/npm//vega-embed@6?noext\",\n",
       "    };\n",
       "\n",
       "    function loadScript(lib) {\n",
       "      return new Promise(function(resolve, reject) {\n",
       "        var s = document.createElement('script');\n",
       "        s.src = paths[lib];\n",
       "        s.async = true;\n",
       "        s.onload = () => resolve(paths[lib]);\n",
       "        s.onerror = () => reject(`Error loading script: ${paths[lib]}`);\n",
       "        document.getElementsByTagName(\"head\")[0].appendChild(s);\n",
       "      });\n",
       "    }\n",
       "\n",
       "    function showError(err) {\n",
       "      outputDiv.innerHTML = `<div class=\"error\" style=\"color:red;\">${err}</div>`;\n",
       "      throw err;\n",
       "    }\n",
       "\n",
       "    function displayChart(vegaEmbed) {\n",
       "      vegaEmbed(outputDiv, spec, embedOpt)\n",
       "        .catch(err => showError(`Javascript Error: ${err.message}<br>This usually means there's a typo in your chart specification. See the javascript console for the full traceback.`));\n",
       "    }\n",
       "\n",
       "    if(typeof define === \"function\" && define.amd) {\n",
       "      requirejs.config({paths});\n",
       "      require([\"vega-embed\"], displayChart, err => showError(`Error loading script: ${err.message}`));\n",
       "    } else if (typeof vegaEmbed === \"function\") {\n",
       "      displayChart(vegaEmbed);\n",
       "    } else {\n",
       "      loadScript(\"vega\")\n",
       "        .then(() => loadScript(\"vega-lite\"))\n",
       "        .then(() => loadScript(\"vega-embed\"))\n",
       "        .catch(showError)\n",
       "        .then(() => displayChart(vegaEmbed));\n",
       "    }\n",
       "  })({\"config\": {\"view\": {\"continuousWidth\": 400, \"continuousHeight\": 300}}, \"layer\": [{\"mark\": {\"type\": \"bar\", \"opacity\": 0.9}, \"encoding\": {\"color\": {\"type\": \"nominal\", \"field\": \"Sexo\"}, \"tooltip\": [{\"type\": \"nominal\", \"field\": \"Sexo\"}, {\"type\": \"quantitative\", \"field\": \"Fallecimientos confirmados\"}], \"x\": {\"type\": \"quantitative\", \"field\": \"Fallecimientos confirmados\"}, \"y\": {\"type\": \"nominal\", \"field\": \"Sexo\"}}}, {\"mark\": {\"type\": \"text\", \"color\": \"white\", \"dx\": -22, \"dy\": 0}, \"encoding\": {\"text\": {\"type\": \"quantitative\", \"field\": \"Fallecimientos confirmados\", \"format\": \",.0f\"}, \"x\": {\"type\": \"quantitative\", \"field\": \"Fallecimientos confirmados\", \"stack\": \"zero\"}, \"y\": {\"type\": \"nominal\", \"field\": \"Sexo\"}}}], \"data\": {\"name\": \"data-b200e8ddfb07951ff44809cb2c7343ec\"}, \"height\": {\"step\": 30}, \"title\": \"Fallecimientos confirmados por sexo al 03/07\", \"width\": 600, \"$schema\": \"https://vega.github.io/schema/vega-lite/v4.8.1.json\", \"datasets\": {\"data-b200e8ddfb07951ff44809cb2c7343ec\": [{\"Sexo\": \"Hombres\", \"Fallecimientos confirmados\": 4090}, {\"Sexo\": \"Mujeres\", \"Fallecimientos confirmados\": 2967}]}}, {\"mode\": \"vega-lite\"});\n",
       "</script>"
      ],
      "text/plain": [
       "alt.LayerChart(...)"
      ]
     },
     "execution_count": 59,
     "metadata": {},
     "output_type": "execute_result"
    }
   ],
   "source": [
    "#hide\n",
    "my_plot(df_muertes, deaths_last_date)"
   ]
  },
  {
   "cell_type": "code",
   "execution_count": 60,
   "metadata": {},
   "outputs": [],
   "source": [
    "#hide\n",
    "tm_hombres = 100000*muertes_hombres/pop_hombres\n",
    "tm_mujeres = 100000*muertes_mujeres/pop_mujeres"
   ]
  },
  {
   "cell_type": "code",
   "execution_count": 61,
   "metadata": {},
   "outputs": [],
   "source": [
    "#hide\n",
    "df_tm = pd.DataFrame()\n",
    "df_tm[\"Sexo\"] = [\"Hombres\", \"Mujeres\"]\n",
    "df_tm[\"Tasa de mortalidad\"] = [tm_hombres, tm_mujeres]"
   ]
  },
  {
   "cell_type": "code",
   "execution_count": 62,
   "metadata": {},
   "outputs": [
    {
     "data": {
      "text/html": [
       "<div>\n",
       "<style scoped>\n",
       "    .dataframe tbody tr th:only-of-type {\n",
       "        vertical-align: middle;\n",
       "    }\n",
       "\n",
       "    .dataframe tbody tr th {\n",
       "        vertical-align: top;\n",
       "    }\n",
       "\n",
       "    .dataframe thead th {\n",
       "        text-align: right;\n",
       "    }\n",
       "</style>\n",
       "<table border=\"1\" class=\"dataframe\">\n",
       "  <thead>\n",
       "    <tr style=\"text-align: right;\">\n",
       "      <th></th>\n",
       "      <th>Sexo</th>\n",
       "      <th>Tasa de mortalidad</th>\n",
       "    </tr>\n",
       "  </thead>\n",
       "  <tbody>\n",
       "    <tr>\n",
       "      <th>0</th>\n",
       "      <td>Hombres</td>\n",
       "      <td>42.608157</td>\n",
       "    </tr>\n",
       "    <tr>\n",
       "      <th>1</th>\n",
       "      <td>Mujeres</td>\n",
       "      <td>30.093692</td>\n",
       "    </tr>\n",
       "  </tbody>\n",
       "</table>\n",
       "</div>"
      ],
      "text/plain": [
       "      Sexo  Tasa de mortalidad\n",
       "0  Hombres           42.608157\n",
       "1  Mujeres           30.093692"
      ]
     },
     "execution_count": 62,
     "metadata": {},
     "output_type": "execute_result"
    }
   ],
   "source": [
    "#hide\n",
    "df_tm"
   ]
  },
  {
   "cell_type": "code",
   "execution_count": 63,
   "metadata": {
    "scrolled": true
   },
   "outputs": [
    {
     "data": {
      "text/html": [
       "\n",
       "<div id=\"altair-viz-9ff6622864654a818e281a084e1fc6ef\"></div>\n",
       "<script type=\"text/javascript\">\n",
       "  (function(spec, embedOpt){\n",
       "    let outputDiv = document.currentScript.previousElementSibling;\n",
       "    if (outputDiv.id !== \"altair-viz-9ff6622864654a818e281a084e1fc6ef\") {\n",
       "      outputDiv = document.getElementById(\"altair-viz-9ff6622864654a818e281a084e1fc6ef\");\n",
       "    }\n",
       "    const paths = {\n",
       "      \"vega\": \"https://cdn.jsdelivr.net/npm//vega@5?noext\",\n",
       "      \"vega-lib\": \"https://cdn.jsdelivr.net/npm//vega-lib?noext\",\n",
       "      \"vega-lite\": \"https://cdn.jsdelivr.net/npm//vega-lite@4.8.1?noext\",\n",
       "      \"vega-embed\": \"https://cdn.jsdelivr.net/npm//vega-embed@6?noext\",\n",
       "    };\n",
       "\n",
       "    function loadScript(lib) {\n",
       "      return new Promise(function(resolve, reject) {\n",
       "        var s = document.createElement('script');\n",
       "        s.src = paths[lib];\n",
       "        s.async = true;\n",
       "        s.onload = () => resolve(paths[lib]);\n",
       "        s.onerror = () => reject(`Error loading script: ${paths[lib]}`);\n",
       "        document.getElementsByTagName(\"head\")[0].appendChild(s);\n",
       "      });\n",
       "    }\n",
       "\n",
       "    function showError(err) {\n",
       "      outputDiv.innerHTML = `<div class=\"error\" style=\"color:red;\">${err}</div>`;\n",
       "      throw err;\n",
       "    }\n",
       "\n",
       "    function displayChart(vegaEmbed) {\n",
       "      vegaEmbed(outputDiv, spec, embedOpt)\n",
       "        .catch(err => showError(`Javascript Error: ${err.message}<br>This usually means there's a typo in your chart specification. See the javascript console for the full traceback.`));\n",
       "    }\n",
       "\n",
       "    if(typeof define === \"function\" && define.amd) {\n",
       "      requirejs.config({paths});\n",
       "      require([\"vega-embed\"], displayChart, err => showError(`Error loading script: ${err.message}`));\n",
       "    } else if (typeof vegaEmbed === \"function\") {\n",
       "      displayChart(vegaEmbed);\n",
       "    } else {\n",
       "      loadScript(\"vega\")\n",
       "        .then(() => loadScript(\"vega-lite\"))\n",
       "        .then(() => loadScript(\"vega-embed\"))\n",
       "        .catch(showError)\n",
       "        .then(() => displayChart(vegaEmbed));\n",
       "    }\n",
       "  })({\"config\": {\"view\": {\"continuousWidth\": 400, \"continuousHeight\": 300}}, \"layer\": [{\"mark\": {\"type\": \"bar\", \"opacity\": 0.9}, \"encoding\": {\"color\": {\"type\": \"nominal\", \"field\": \"Sexo\"}, \"tooltip\": [{\"type\": \"nominal\", \"field\": \"Sexo\"}, {\"type\": \"quantitative\", \"field\": \"Tasa de mortalidad\"}], \"x\": {\"type\": \"quantitative\", \"field\": \"Tasa de mortalidad\"}, \"y\": {\"type\": \"nominal\", \"field\": \"Sexo\"}}}, {\"mark\": {\"type\": \"text\", \"color\": \"white\", \"dx\": -22, \"dy\": 0}, \"encoding\": {\"text\": {\"type\": \"quantitative\", \"field\": \"Tasa de mortalidad\", \"format\": \",.1f\"}, \"x\": {\"type\": \"quantitative\", \"field\": \"Tasa de mortalidad\", \"stack\": \"zero\"}, \"y\": {\"type\": \"nominal\", \"field\": \"Sexo\"}}}], \"data\": {\"name\": \"data-5eb6f04861a33ff14d1e13b2174a7b1d\"}, \"height\": {\"step\": 30}, \"title\": \"Tasa de mortalidad por sexo al 03/07\", \"width\": 600, \"$schema\": \"https://vega.github.io/schema/vega-lite/v4.8.1.json\", \"datasets\": {\"data-5eb6f04861a33ff14d1e13b2174a7b1d\": [{\"Sexo\": \"Hombres\", \"Tasa de mortalidad\": 42.60815674301166}, {\"Sexo\": \"Mujeres\", \"Tasa de mortalidad\": 30.093692100451467}]}}, {\"mode\": \"vega-lite\"});\n",
       "</script>"
      ],
      "text/plain": [
       "alt.LayerChart(...)"
      ]
     },
     "execution_count": 63,
     "metadata": {},
     "output_type": "execute_result"
    }
   ],
   "source": [
    "#hide\n",
    "my_plot(df_tm, deaths_last_date, 1)"
   ]
  },
  {
   "cell_type": "code",
   "execution_count": 65,
   "metadata": {},
   "outputs": [
    {
     "data": {
      "text/plain": [
       "(151336, 140852)"
      ]
     },
     "execution_count": 65,
     "metadata": {},
     "output_type": "execute_result"
    }
   ],
   "source": [
    "#hide\n",
    "df_cfr = pd.DataFrame()\n",
    "df_cfr[\"Sexo\"] = [\"Hombres\", \"Mujeres\"]\n",
    "casos_hombres = cases_sex.loc[\"M\",\"2020-07-01\"]\n",
    "casos_mujeres = cases_sex.loc[\"F\",\"2020-07-01\"]\n",
    "casos_hombres, casos_mujeres"
   ]
  },
  {
   "cell_type": "code",
   "execution_count": 66,
   "metadata": {},
   "outputs": [
    {
     "data": {
      "text/plain": [
       "(2.7025955489771105, 2.106466361854997)"
      ]
     },
     "execution_count": 66,
     "metadata": {},
     "output_type": "execute_result"
    }
   ],
   "source": [
    "#hide\n",
    "cfr_hombres = 100*muertes_hombres/casos_hombres\n",
    "cfr_mujeres = 100*muertes_mujeres/casos_mujeres\n",
    "cfr_hombres, cfr_mujeres"
   ]
  },
  {
   "cell_type": "code",
   "execution_count": 67,
   "metadata": {},
   "outputs": [],
   "source": [
    "#hide\n",
    "df_cfr[\"Tasa de letalidad (CFR)\"] = [cfr_hombres, cfr_mujeres]"
   ]
  },
  {
   "cell_type": "code",
   "execution_count": 68,
   "metadata": {},
   "outputs": [
    {
     "data": {
      "text/html": [
       "<div>\n",
       "<style scoped>\n",
       "    .dataframe tbody tr th:only-of-type {\n",
       "        vertical-align: middle;\n",
       "    }\n",
       "\n",
       "    .dataframe tbody tr th {\n",
       "        vertical-align: top;\n",
       "    }\n",
       "\n",
       "    .dataframe thead th {\n",
       "        text-align: right;\n",
       "    }\n",
       "</style>\n",
       "<table border=\"1\" class=\"dataframe\">\n",
       "  <thead>\n",
       "    <tr style=\"text-align: right;\">\n",
       "      <th></th>\n",
       "      <th>Sexo</th>\n",
       "      <th>Tasa de letalidad (CFR)</th>\n",
       "    </tr>\n",
       "  </thead>\n",
       "  <tbody>\n",
       "    <tr>\n",
       "      <th>0</th>\n",
       "      <td>Hombres</td>\n",
       "      <td>2.702596</td>\n",
       "    </tr>\n",
       "    <tr>\n",
       "      <th>1</th>\n",
       "      <td>Mujeres</td>\n",
       "      <td>2.106466</td>\n",
       "    </tr>\n",
       "  </tbody>\n",
       "</table>\n",
       "</div>"
      ],
      "text/plain": [
       "      Sexo  Tasa de letalidad (CFR)\n",
       "0  Hombres                 2.702596\n",
       "1  Mujeres                 2.106466"
      ]
     },
     "execution_count": 68,
     "metadata": {},
     "output_type": "execute_result"
    }
   ],
   "source": [
    "#hide\n",
    "df_cfr"
   ]
  },
  {
   "cell_type": "code",
   "execution_count": 69,
   "metadata": {},
   "outputs": [
    {
     "data": {
      "text/html": [
       "\n",
       "<div id=\"altair-viz-f802f9218a3a4ccc8156a1c097cefb0e\"></div>\n",
       "<script type=\"text/javascript\">\n",
       "  (function(spec, embedOpt){\n",
       "    let outputDiv = document.currentScript.previousElementSibling;\n",
       "    if (outputDiv.id !== \"altair-viz-f802f9218a3a4ccc8156a1c097cefb0e\") {\n",
       "      outputDiv = document.getElementById(\"altair-viz-f802f9218a3a4ccc8156a1c097cefb0e\");\n",
       "    }\n",
       "    const paths = {\n",
       "      \"vega\": \"https://cdn.jsdelivr.net/npm//vega@5?noext\",\n",
       "      \"vega-lib\": \"https://cdn.jsdelivr.net/npm//vega-lib?noext\",\n",
       "      \"vega-lite\": \"https://cdn.jsdelivr.net/npm//vega-lite@4.8.1?noext\",\n",
       "      \"vega-embed\": \"https://cdn.jsdelivr.net/npm//vega-embed@6?noext\",\n",
       "    };\n",
       "\n",
       "    function loadScript(lib) {\n",
       "      return new Promise(function(resolve, reject) {\n",
       "        var s = document.createElement('script');\n",
       "        s.src = paths[lib];\n",
       "        s.async = true;\n",
       "        s.onload = () => resolve(paths[lib]);\n",
       "        s.onerror = () => reject(`Error loading script: ${paths[lib]}`);\n",
       "        document.getElementsByTagName(\"head\")[0].appendChild(s);\n",
       "      });\n",
       "    }\n",
       "\n",
       "    function showError(err) {\n",
       "      outputDiv.innerHTML = `<div class=\"error\" style=\"color:red;\">${err}</div>`;\n",
       "      throw err;\n",
       "    }\n",
       "\n",
       "    function displayChart(vegaEmbed) {\n",
       "      vegaEmbed(outputDiv, spec, embedOpt)\n",
       "        .catch(err => showError(`Javascript Error: ${err.message}<br>This usually means there's a typo in your chart specification. See the javascript console for the full traceback.`));\n",
       "    }\n",
       "\n",
       "    if(typeof define === \"function\" && define.amd) {\n",
       "      requirejs.config({paths});\n",
       "      require([\"vega-embed\"], displayChart, err => showError(`Error loading script: ${err.message}`));\n",
       "    } else if (typeof vegaEmbed === \"function\") {\n",
       "      displayChart(vegaEmbed);\n",
       "    } else {\n",
       "      loadScript(\"vega\")\n",
       "        .then(() => loadScript(\"vega-lite\"))\n",
       "        .then(() => loadScript(\"vega-embed\"))\n",
       "        .catch(showError)\n",
       "        .then(() => displayChart(vegaEmbed));\n",
       "    }\n",
       "  })({\"config\": {\"view\": {\"continuousWidth\": 400, \"continuousHeight\": 300}}, \"layer\": [{\"mark\": {\"type\": \"bar\", \"opacity\": 0.9}, \"encoding\": {\"color\": {\"type\": \"nominal\", \"field\": \"Sexo\"}, \"tooltip\": [{\"type\": \"nominal\", \"field\": \"Sexo\"}, {\"type\": \"quantitative\", \"field\": \"Tasa de letalidad (CFR)\"}], \"x\": {\"type\": \"quantitative\", \"field\": \"Tasa de letalidad (CFR)\"}, \"y\": {\"type\": \"nominal\", \"field\": \"Sexo\"}}}, {\"mark\": {\"type\": \"text\", \"color\": \"white\", \"dx\": -22, \"dy\": 0}, \"encoding\": {\"text\": {\"type\": \"quantitative\", \"field\": \"Tasa de letalidad (CFR)\", \"format\": \",.2f\"}, \"x\": {\"type\": \"quantitative\", \"field\": \"Tasa de letalidad (CFR)\", \"stack\": \"zero\"}, \"y\": {\"type\": \"nominal\", \"field\": \"Sexo\"}}}], \"data\": {\"name\": \"data-e6ee9696e05480f272c3f161b5fb531c\"}, \"height\": {\"step\": 30}, \"title\": \"Tasa de letalidad (CFR) por sexo al 03/07\", \"width\": 600, \"$schema\": \"https://vega.github.io/schema/vega-lite/v4.8.1.json\", \"datasets\": {\"data-e6ee9696e05480f272c3f161b5fb531c\": [{\"Sexo\": \"Hombres\", \"Tasa de letalidad (CFR)\": 2.7025955489771105}, {\"Sexo\": \"Mujeres\", \"Tasa de letalidad (CFR)\": 2.106466361854997}]}}, {\"mode\": \"vega-lite\"});\n",
       "</script>"
      ],
      "text/plain": [
       "alt.LayerChart(...)"
      ]
     },
     "execution_count": 69,
     "metadata": {},
     "output_type": "execute_result"
    }
   ],
   "source": [
    "#hide\n",
    "my_plot(df_cfr, deaths_last_date, 2)"
   ]
  },
  {
   "cell_type": "code",
   "execution_count": 70,
   "metadata": {},
   "outputs": [
    {
     "data": {
      "text/html": [
       "\n",
       "<div id=\"altair-viz-3ee2dafc7940432c97b320edce1aa854\"></div>\n",
       "<script type=\"text/javascript\">\n",
       "  (function(spec, embedOpt){\n",
       "    let outputDiv = document.currentScript.previousElementSibling;\n",
       "    if (outputDiv.id !== \"altair-viz-3ee2dafc7940432c97b320edce1aa854\") {\n",
       "      outputDiv = document.getElementById(\"altair-viz-3ee2dafc7940432c97b320edce1aa854\");\n",
       "    }\n",
       "    const paths = {\n",
       "      \"vega\": \"https://cdn.jsdelivr.net/npm//vega@5?noext\",\n",
       "      \"vega-lib\": \"https://cdn.jsdelivr.net/npm//vega-lib?noext\",\n",
       "      \"vega-lite\": \"https://cdn.jsdelivr.net/npm//vega-lite@4.8.1?noext\",\n",
       "      \"vega-embed\": \"https://cdn.jsdelivr.net/npm//vega-embed@6?noext\",\n",
       "    };\n",
       "\n",
       "    function loadScript(lib) {\n",
       "      return new Promise(function(resolve, reject) {\n",
       "        var s = document.createElement('script');\n",
       "        s.src = paths[lib];\n",
       "        s.async = true;\n",
       "        s.onload = () => resolve(paths[lib]);\n",
       "        s.onerror = () => reject(`Error loading script: ${paths[lib]}`);\n",
       "        document.getElementsByTagName(\"head\")[0].appendChild(s);\n",
       "      });\n",
       "    }\n",
       "\n",
       "    function showError(err) {\n",
       "      outputDiv.innerHTML = `<div class=\"error\" style=\"color:red;\">${err}</div>`;\n",
       "      throw err;\n",
       "    }\n",
       "\n",
       "    function displayChart(vegaEmbed) {\n",
       "      vegaEmbed(outputDiv, spec, embedOpt)\n",
       "        .catch(err => showError(`Javascript Error: ${err.message}<br>This usually means there's a typo in your chart specification. See the javascript console for the full traceback.`));\n",
       "    }\n",
       "\n",
       "    if(typeof define === \"function\" && define.amd) {\n",
       "      requirejs.config({paths});\n",
       "      require([\"vega-embed\"], displayChart, err => showError(`Error loading script: ${err.message}`));\n",
       "    } else if (typeof vegaEmbed === \"function\") {\n",
       "      displayChart(vegaEmbed);\n",
       "    } else {\n",
       "      loadScript(\"vega\")\n",
       "        .then(() => loadScript(\"vega-lite\"))\n",
       "        .then(() => loadScript(\"vega-embed\"))\n",
       "        .catch(showError)\n",
       "        .then(() => displayChart(vegaEmbed));\n",
       "    }\n",
       "  })({\"config\": {\"view\": {\"continuousWidth\": 400, \"continuousHeight\": 300}}, \"vconcat\": [{\"layer\": [{\"mark\": {\"type\": \"bar\", \"opacity\": 0.9}, \"encoding\": {\"color\": {\"type\": \"nominal\", \"field\": \"Sexo\"}, \"tooltip\": [{\"type\": \"nominal\", \"field\": \"Sexo\"}, {\"type\": \"quantitative\", \"field\": \"Casos confirmados\"}], \"x\": {\"type\": \"quantitative\", \"field\": \"Casos confirmados\"}, \"y\": {\"type\": \"nominal\", \"field\": \"Sexo\"}}}, {\"mark\": {\"type\": \"text\", \"color\": \"white\", \"dx\": -22, \"dy\": 0}, \"encoding\": {\"text\": {\"type\": \"quantitative\", \"field\": \"Casos confirmados\", \"format\": \",.0f\"}, \"x\": {\"type\": \"quantitative\", \"field\": \"Casos confirmados\", \"stack\": \"zero\"}, \"y\": {\"type\": \"nominal\", \"field\": \"Sexo\"}}}], \"data\": {\"name\": \"data-ec69a8fd73d559d737313debc60ff067\"}, \"height\": {\"step\": 30}, \"title\": \"Casos confirmados por sexo al 05/07\", \"width\": 600}, {\"layer\": [{\"mark\": {\"type\": \"bar\", \"opacity\": 0.9}, \"encoding\": {\"color\": {\"type\": \"nominal\", \"field\": \"Sexo\"}, \"tooltip\": [{\"type\": \"nominal\", \"field\": \"Sexo\"}, {\"type\": \"quantitative\", \"field\": \"Fallecimientos confirmados\"}], \"x\": {\"type\": \"quantitative\", \"field\": \"Fallecimientos confirmados\"}, \"y\": {\"type\": \"nominal\", \"field\": \"Sexo\"}}}, {\"mark\": {\"type\": \"text\", \"color\": \"white\", \"dx\": -22, \"dy\": 0}, \"encoding\": {\"text\": {\"type\": \"quantitative\", \"field\": \"Fallecimientos confirmados\", \"format\": \",.0f\"}, \"x\": {\"type\": \"quantitative\", \"field\": \"Fallecimientos confirmados\", \"stack\": \"zero\"}, \"y\": {\"type\": \"nominal\", \"field\": \"Sexo\"}}}], \"data\": {\"name\": \"data-b200e8ddfb07951ff44809cb2c7343ec\"}, \"height\": {\"step\": 30}, \"title\": \"Fallecimientos confirmados por sexo al 03/07\", \"width\": 600}, {\"layer\": [{\"mark\": {\"type\": \"bar\", \"opacity\": 0.9}, \"encoding\": {\"color\": {\"type\": \"nominal\", \"field\": \"Sexo\"}, \"tooltip\": [{\"type\": \"nominal\", \"field\": \"Sexo\"}, {\"type\": \"quantitative\", \"field\": \"Tasa de incidencia\"}], \"x\": {\"type\": \"quantitative\", \"field\": \"Tasa de incidencia\"}, \"y\": {\"type\": \"nominal\", \"field\": \"Sexo\"}}}, {\"mark\": {\"type\": \"text\", \"color\": \"white\", \"dx\": -22, \"dy\": 0}, \"encoding\": {\"text\": {\"type\": \"quantitative\", \"field\": \"Tasa de incidencia\", \"format\": \",.0f\"}, \"x\": {\"type\": \"quantitative\", \"field\": \"Tasa de incidencia\", \"stack\": \"zero\"}, \"y\": {\"type\": \"nominal\", \"field\": \"Sexo\"}}}], \"data\": {\"name\": \"data-b9207b5169dafdf7ff9932946f775de7\"}, \"height\": {\"step\": 30}, \"title\": \"Tasa de incidencia por sexo al 05/07\", \"width\": 600}, {\"layer\": [{\"mark\": {\"type\": \"bar\", \"opacity\": 0.9}, \"encoding\": {\"color\": {\"type\": \"nominal\", \"field\": \"Sexo\"}, \"tooltip\": [{\"type\": \"nominal\", \"field\": \"Sexo\"}, {\"type\": \"quantitative\", \"field\": \"Tasa de mortalidad\"}], \"x\": {\"type\": \"quantitative\", \"field\": \"Tasa de mortalidad\"}, \"y\": {\"type\": \"nominal\", \"field\": \"Sexo\"}}}, {\"mark\": {\"type\": \"text\", \"color\": \"white\", \"dx\": -22, \"dy\": 0}, \"encoding\": {\"text\": {\"type\": \"quantitative\", \"field\": \"Tasa de mortalidad\", \"format\": \",.1f\"}, \"x\": {\"type\": \"quantitative\", \"field\": \"Tasa de mortalidad\", \"stack\": \"zero\"}, \"y\": {\"type\": \"nominal\", \"field\": \"Sexo\"}}}], \"data\": {\"name\": \"data-5eb6f04861a33ff14d1e13b2174a7b1d\"}, \"height\": {\"step\": 30}, \"title\": \"Tasa de mortalidad por sexo al 03/07\", \"width\": 600}, {\"layer\": [{\"mark\": {\"type\": \"bar\", \"opacity\": 0.9}, \"encoding\": {\"color\": {\"type\": \"nominal\", \"field\": \"Sexo\"}, \"tooltip\": [{\"type\": \"nominal\", \"field\": \"Sexo\"}, {\"type\": \"quantitative\", \"field\": \"Tasa de letalidad (CFR)\"}], \"x\": {\"type\": \"quantitative\", \"field\": \"Tasa de letalidad (CFR)\"}, \"y\": {\"type\": \"nominal\", \"field\": \"Sexo\"}}}, {\"mark\": {\"type\": \"text\", \"color\": \"white\", \"dx\": -22, \"dy\": 0}, \"encoding\": {\"text\": {\"type\": \"quantitative\", \"field\": \"Tasa de letalidad (CFR)\", \"format\": \",.2f\"}, \"x\": {\"type\": \"quantitative\", \"field\": \"Tasa de letalidad (CFR)\", \"stack\": \"zero\"}, \"y\": {\"type\": \"nominal\", \"field\": \"Sexo\"}}}], \"data\": {\"name\": \"data-e6ee9696e05480f272c3f161b5fb531c\"}, \"height\": {\"step\": 30}, \"title\": \"Tasa de letalidad (CFR) por sexo al 03/07\", \"width\": 600}], \"$schema\": \"https://vega.github.io/schema/vega-lite/v4.8.1.json\", \"datasets\": {\"data-ec69a8fd73d559d737313debc60ff067\": [{\"Sexo\": \"Hombres\", \"Casos confirmados\": 160118}, {\"Sexo\": \"Mujeres\", \"Casos confirmados\": 149238}], \"data-b200e8ddfb07951ff44809cb2c7343ec\": [{\"Sexo\": \"Hombres\", \"Fallecimientos confirmados\": 4090}, {\"Sexo\": \"Mujeres\", \"Fallecimientos confirmados\": 2967}], \"data-b9207b5169dafdf7ff9932946f775de7\": [{\"Sexo\": \"Hombres\", \"Tasa de incidencia\": 1668.0520394566115}, {\"Sexo\": \"Mujeres\", \"Tasa de incidencia\": 1513.6914127695234}], \"data-5eb6f04861a33ff14d1e13b2174a7b1d\": [{\"Sexo\": \"Hombres\", \"Tasa de mortalidad\": 42.60815674301166}, {\"Sexo\": \"Mujeres\", \"Tasa de mortalidad\": 30.093692100451467}], \"data-e6ee9696e05480f272c3f161b5fb531c\": [{\"Sexo\": \"Hombres\", \"Tasa de letalidad (CFR)\": 2.7025955489771105}, {\"Sexo\": \"Mujeres\", \"Tasa de letalidad (CFR)\": 2.106466361854997}]}}, {\"mode\": \"vega-lite\"});\n",
       "</script>"
      ],
      "text/plain": [
       "alt.VConcatChart(...)"
      ]
     },
     "execution_count": 70,
     "metadata": {},
     "output_type": "execute_result"
    }
   ],
   "source": [
    "#hide_input\n",
    "alt.vconcat(my_plot(df_casos, last_date), my_plot(df_muertes, deaths_last_date), my_plot(df_ti, last_date), my_plot(df_tm, deaths_last_date, 1), my_plot(df_cfr, deaths_last_date, 2))#.save(f'CC.png', scale_factor=8.0)"
   ]
  },
  {
   "cell_type": "code",
   "execution_count": 71,
   "metadata": {},
   "outputs": [
    {
     "data": {
      "text/markdown": [
       " + Los hombres tienen un 7.4% más casos confirmados y una tasa de incidencia 10.2% mayor que las mujeres al 05/07."
      ],
      "text/plain": [
       "<IPython.core.display.Markdown object>"
      ]
     },
     "metadata": {},
     "output_type": "display_data"
    }
   ],
   "source": [
    "#hide_input\n",
    "display(Markdown(f\" + Los hombres tienen un {100*(casos_hombres/casos_mujeres-1):.1f}% más casos confirmados y una tasa de incidencia {100*(ti_hombres/ti_mujeres-1):.1f}% mayor que las mujeres al {pd.to_datetime(last_date).strftime('%d/%m')}.\"))"
   ]
  },
  {
   "cell_type": "code",
   "execution_count": 72,
   "metadata": {},
   "outputs": [
    {
     "data": {
      "text/markdown": [
       " + Los hombres tienen un 37.8% más fallecimientos confirmados que las mujeres y una tasa de mortalidad 41.6% mayor que las mujeres al 28/06."
      ],
      "text/plain": [
       "<IPython.core.display.Markdown object>"
      ]
     },
     "metadata": {},
     "output_type": "display_data"
    }
   ],
   "source": [
    "#hide_input\n",
    "display(\n",
    "    Markdown(\n",
    "        f\" + Los hombres tienen un {100*(muertes_hombres/muertes_mujeres-1):.1f}% más fallecimientos confirmados que las mujeres y una tasa de mortalidad {100*(tm_hombres/tm_mujeres-1):.1f}% mayor que las mujeres al {pd.to_datetime('2020-06-28').strftime('%d/%m')}.\"))"
   ]
  },
  {
   "cell_type": "code",
   "execution_count": 73,
   "metadata": {},
   "outputs": [
    {
     "data": {
      "text/markdown": [
       " + Los hombres tienen una tasa de letalidad 28.3% mayor que las mujeres al 28/06."
      ],
      "text/plain": [
       "<IPython.core.display.Markdown object>"
      ]
     },
     "metadata": {},
     "output_type": "display_data"
    }
   ],
   "source": [
    "#hide_input\n",
    "display(\n",
    "    Markdown(\n",
    "        f\" + Los hombres tienen una tasa de letalidad {100*(cfr_hombres/cfr_mujeres-1):.1f}% mayor que las mujeres al {pd.to_datetime('2020-06-28').strftime('%d/%m')}.\")) "
   ]
  },
  {
   "cell_type": "markdown",
   "metadata": {},
   "source": [
    "# Casos confirmados por grupo de edad"
   ]
  },
  {
   "cell_type": "code",
   "execution_count": 75,
   "metadata": {
    "scrolled": true
   },
   "outputs": [],
   "source": [
    "#hide\n",
    "cases_raw = cases_raw.groupby('Grupo de edad').sum()"
   ]
  },
  {
   "cell_type": "code",
   "execution_count": 76,
   "metadata": {},
   "outputs": [],
   "source": [
    "#hide\n",
    "cases = pd.DataFrame()\n",
    "cases['Grupo de edad'] = ['<=39', '40-49', '50-59', '60-69', '70-79', '>=80']"
   ]
  },
  {
   "cell_type": "code",
   "execution_count": 77,
   "metadata": {},
   "outputs": [],
   "source": [
    "#hide\n",
    "cases[\"Casos confirmados\"] = [\n",
    "    cases_raw.iloc[:8,-1].sum(),\n",
    "    cases_raw.iloc[8:10,-1].sum(),\n",
    "    cases_raw.iloc[10:12,-1].sum(),\n",
    "    cases_raw.iloc[12:14,-1].sum(),\n",
    "    cases_raw.iloc[14:16,-1].sum(),\n",
    "    cases_raw.iloc[16:,-1].sum()\n",
    "]"
   ]
  },
  {
   "cell_type": "code",
   "execution_count": 78,
   "metadata": {},
   "outputs": [
    {
     "data": {
      "text/plain": [
       "309356"
      ]
     },
     "execution_count": 78,
     "metadata": {},
     "output_type": "execute_result"
    }
   ],
   "source": [
    "#hide\n",
    "total_cases = cases[\"Casos confirmados\"].sum()\n",
    "total_cases"
   ]
  },
  {
   "cell_type": "code",
   "execution_count": 79,
   "metadata": {},
   "outputs": [],
   "source": [
    "#hide\n",
    "cases[\"Porcentaje\"] = np.round(100*cases[\"Casos confirmados\"]/total_cases, decimals=1)"
   ]
  },
  {
   "cell_type": "code",
   "execution_count": 80,
   "metadata": {},
   "outputs": [],
   "source": [
    "#hide\n",
    "cases[\"Texto\"] = \\\n",
    "[f\"{cases['Casos confirmados'].iloc[i]} ({cases['Porcentaje'].iloc[i]}%)\" for i, val in cases.iterrows()]"
   ]
  },
  {
   "cell_type": "code",
   "execution_count": 81,
   "metadata": {},
   "outputs": [
    {
     "data": {
      "text/html": [
       "\n",
       "<div id=\"altair-viz-4a951d9c5623491b8f4e52d7f5b8b786\"></div>\n",
       "<script type=\"text/javascript\">\n",
       "  (function(spec, embedOpt){\n",
       "    let outputDiv = document.currentScript.previousElementSibling;\n",
       "    if (outputDiv.id !== \"altair-viz-4a951d9c5623491b8f4e52d7f5b8b786\") {\n",
       "      outputDiv = document.getElementById(\"altair-viz-4a951d9c5623491b8f4e52d7f5b8b786\");\n",
       "    }\n",
       "    const paths = {\n",
       "      \"vega\": \"https://cdn.jsdelivr.net/npm//vega@5?noext\",\n",
       "      \"vega-lib\": \"https://cdn.jsdelivr.net/npm//vega-lib?noext\",\n",
       "      \"vega-lite\": \"https://cdn.jsdelivr.net/npm//vega-lite@4.8.1?noext\",\n",
       "      \"vega-embed\": \"https://cdn.jsdelivr.net/npm//vega-embed@6?noext\",\n",
       "    };\n",
       "\n",
       "    function loadScript(lib) {\n",
       "      return new Promise(function(resolve, reject) {\n",
       "        var s = document.createElement('script');\n",
       "        s.src = paths[lib];\n",
       "        s.async = true;\n",
       "        s.onload = () => resolve(paths[lib]);\n",
       "        s.onerror = () => reject(`Error loading script: ${paths[lib]}`);\n",
       "        document.getElementsByTagName(\"head\")[0].appendChild(s);\n",
       "      });\n",
       "    }\n",
       "\n",
       "    function showError(err) {\n",
       "      outputDiv.innerHTML = `<div class=\"error\" style=\"color:red;\">${err}</div>`;\n",
       "      throw err;\n",
       "    }\n",
       "\n",
       "    function displayChart(vegaEmbed) {\n",
       "      vegaEmbed(outputDiv, spec, embedOpt)\n",
       "        .catch(err => showError(`Javascript Error: ${err.message}<br>This usually means there's a typo in your chart specification. See the javascript console for the full traceback.`));\n",
       "    }\n",
       "\n",
       "    if(typeof define === \"function\" && define.amd) {\n",
       "      requirejs.config({paths});\n",
       "      require([\"vega-embed\"], displayChart, err => showError(`Error loading script: ${err.message}`));\n",
       "    } else if (typeof vegaEmbed === \"function\") {\n",
       "      displayChart(vegaEmbed);\n",
       "    } else {\n",
       "      loadScript(\"vega\")\n",
       "        .then(() => loadScript(\"vega-lite\"))\n",
       "        .then(() => loadScript(\"vega-embed\"))\n",
       "        .catch(showError)\n",
       "        .then(() => displayChart(vegaEmbed));\n",
       "    }\n",
       "  })({\"config\": {\"view\": {\"continuousWidth\": 400, \"continuousHeight\": 300}}, \"layer\": [{\"mark\": {\"type\": \"bar\", \"opacity\": 0.8, \"size\": 30}, \"encoding\": {\"color\": {\"type\": \"nominal\", \"field\": \"Grupo de edad\", \"legend\": null, \"scale\": {\"scheme\": \"category10\"}}, \"order\": {\"type\": \"ordinal\", \"field\": \"index\"}, \"tooltip\": [{\"type\": \"nominal\", \"field\": \"Grupo de edad\"}, {\"type\": \"quantitative\", \"field\": \"Casos confirmados\"}, {\"type\": \"quantitative\", \"field\": \"Porcentaje\"}], \"x\": {\"type\": \"quantitative\", \"field\": \"Casos confirmados\"}, \"y\": {\"type\": \"nominal\", \"field\": \"Grupo de edad\", \"sort\": [\"<=39\", \"40-49\", \"50-59\", \"60-69\", \"70-79\", \">=80\"]}}, \"height\": {\"step\": 40}, \"title\": \"Covid-19 en Chile: Casos confirmados por grupo de edad al 05/07/2020\", \"width\": 600}, {\"mark\": {\"type\": \"text\", \"align\": \"left\", \"baseline\": \"middle\", \"dx\": 3}, \"encoding\": {\"color\": {\"type\": \"nominal\", \"field\": \"Grupo de edad\", \"legend\": null, \"scale\": {\"scheme\": \"category10\"}}, \"order\": {\"type\": \"ordinal\", \"field\": \"index\"}, \"text\": {\"type\": \"nominal\", \"field\": \"Texto\"}, \"tooltip\": [{\"type\": \"nominal\", \"field\": \"Grupo de edad\"}, {\"type\": \"quantitative\", \"field\": \"Casos confirmados\"}, {\"type\": \"quantitative\", \"field\": \"Porcentaje\"}], \"x\": {\"type\": \"quantitative\", \"field\": \"Casos confirmados\"}, \"y\": {\"type\": \"nominal\", \"field\": \"Grupo de edad\", \"sort\": [\"<=39\", \"40-49\", \"50-59\", \"60-69\", \"70-79\", \">=80\"]}}}], \"data\": {\"name\": \"data-545487c9182093d33c3490b15513bfe1\"}, \"$schema\": \"https://vega.github.io/schema/vega-lite/v4.8.1.json\", \"datasets\": {\"data-545487c9182093d33c3490b15513bfe1\": [{\"index\": 0, \"Grupo de edad\": \"<=39\", \"Casos confirmados\": 158970, \"Porcentaje\": 51.4, \"Texto\": \"158970 (51.4%)\"}, {\"index\": 1, \"Grupo de edad\": \"40-49\", \"Casos confirmados\": 52793, \"Porcentaje\": 17.1, \"Texto\": \"52793 (17.1%)\"}, {\"index\": 2, \"Grupo de edad\": \"50-59\", \"Casos confirmados\": 48431, \"Porcentaje\": 15.7, \"Texto\": \"48431 (15.7%)\"}, {\"index\": 3, \"Grupo de edad\": \"60-69\", \"Casos confirmados\": 27482, \"Porcentaje\": 8.9, \"Texto\": \"27482 (8.9%)\"}, {\"index\": 4, \"Grupo de edad\": \"70-79\", \"Casos confirmados\": 13360, \"Porcentaje\": 4.3, \"Texto\": \"13360 (4.3%)\"}, {\"index\": 5, \"Grupo de edad\": \">=80\", \"Casos confirmados\": 8320, \"Porcentaje\": 2.7, \"Texto\": \"8320 (2.7%)\"}]}}, {\"mode\": \"vega-lite\"});\n",
       "</script>"
      ],
      "text/plain": [
       "alt.LayerChart(...)"
      ]
     },
     "execution_count": 81,
     "metadata": {},
     "output_type": "execute_result"
    }
   ],
   "source": [
    "#hide_input\n",
    "bars = alt.Chart(cases.reset_index()).mark_bar(opacity=0.8, size=30).encode(\n",
    "    x = alt.X('Casos confirmados'),\n",
    "    y = alt.Y('Grupo de edad', sort=['<=39', '40-49', '50-59', '60-69', '70-79', '>=80']),\n",
    "    tooltip = ['Grupo de edad', 'Casos confirmados', 'Porcentaje'],\n",
    "    color = alt.Color('Grupo de edad', scale=alt.Scale(scheme='category10'), legend=None),\n",
    "    order = alt.Order('index:O')\n",
    ")\n",
    "\n",
    "text = bars.mark_text(\n",
    "    align='left',\n",
    "    baseline='middle',\n",
    "    dx=3  # Nudges text to right so it doesn't appear on top of the bar\n",
    ").encode(\n",
    "    text=alt.Text('Texto')\n",
    ")\n",
    "\n",
    "bars.properties(\n",
    "    title = f\"Covid-19 en Chile: Casos confirmados por grupo de edad al {pd.to_datetime(last_date).strftime('%d/%m/%Y')}\",\n",
    "    width = 600,\n",
    "    height = alt.Step(40)\n",
    ") + text"
   ]
  },
  {
   "cell_type": "markdown",
   "metadata": {},
   "source": [
    "# Fallecidos confirmados por grupo de edad"
   ]
  },
  {
   "cell_type": "code",
   "execution_count": 82,
   "metadata": {},
   "outputs": [],
   "source": [
    "#hide\n",
    "deaths_raw = pd.read_csv(\n",
    "    'https://raw.githubusercontent.com/MinCiencia/Datos-COVID19/' + \\\n",
    "    'master/output/producto10/FallecidosEtario.csv'\n",
    ")"
   ]
  },
  {
   "cell_type": "code",
   "execution_count": 83,
   "metadata": {},
   "outputs": [],
   "source": [
    "#hide\n",
    "grupo_de_edad = ['<=39', '40-49', '50-59', '60-69', '70-79', '80-89', '>=90']"
   ]
  },
  {
   "cell_type": "code",
   "execution_count": 84,
   "metadata": {},
   "outputs": [],
   "source": [
    "#hide\n",
    "deaths = deaths_raw[['Grupo de edad', last_date]].copy()"
   ]
  },
  {
   "cell_type": "code",
   "execution_count": 85,
   "metadata": {},
   "outputs": [
    {
     "data": {
      "text/plain": [
       "6308"
      ]
     },
     "execution_count": 85,
     "metadata": {},
     "output_type": "execute_result"
    }
   ],
   "source": [
    "#hide\n",
    "total_deaths = deaths[last_date].sum()\n",
    "total_deaths"
   ]
  },
  {
   "cell_type": "code",
   "execution_count": 86,
   "metadata": {},
   "outputs": [],
   "source": [
    "#hide\n",
    "deaths = deaths.rename(columns={last_date: \"Fallecidos confirmados\"})"
   ]
  },
  {
   "cell_type": "code",
   "execution_count": 87,
   "metadata": {
    "scrolled": false
   },
   "outputs": [],
   "source": [
    "#hide\n",
    "deaths['Porcentaje'] = np.round(100*deaths[\"Fallecidos confirmados\"]/total_deaths, decimals=1)"
   ]
  },
  {
   "cell_type": "code",
   "execution_count": 88,
   "metadata": {},
   "outputs": [],
   "source": [
    "#hide\n",
    "deaths['Texto'] = \\\n",
    "[f\"{deaths['Fallecidos confirmados'].iloc[i]} ({deaths['Porcentaje'].iloc[i]}%)\" for i, val in deaths.iterrows()]"
   ]
  },
  {
   "cell_type": "code",
   "execution_count": 89,
   "metadata": {},
   "outputs": [
    {
     "data": {
      "text/html": [
       "\n",
       "<div id=\"altair-viz-efeb7f1158dd4b22908b1c5459d214e0\"></div>\n",
       "<script type=\"text/javascript\">\n",
       "  (function(spec, embedOpt){\n",
       "    let outputDiv = document.currentScript.previousElementSibling;\n",
       "    if (outputDiv.id !== \"altair-viz-efeb7f1158dd4b22908b1c5459d214e0\") {\n",
       "      outputDiv = document.getElementById(\"altair-viz-efeb7f1158dd4b22908b1c5459d214e0\");\n",
       "    }\n",
       "    const paths = {\n",
       "      \"vega\": \"https://cdn.jsdelivr.net/npm//vega@5?noext\",\n",
       "      \"vega-lib\": \"https://cdn.jsdelivr.net/npm//vega-lib?noext\",\n",
       "      \"vega-lite\": \"https://cdn.jsdelivr.net/npm//vega-lite@4.8.1?noext\",\n",
       "      \"vega-embed\": \"https://cdn.jsdelivr.net/npm//vega-embed@6?noext\",\n",
       "    };\n",
       "\n",
       "    function loadScript(lib) {\n",
       "      return new Promise(function(resolve, reject) {\n",
       "        var s = document.createElement('script');\n",
       "        s.src = paths[lib];\n",
       "        s.async = true;\n",
       "        s.onload = () => resolve(paths[lib]);\n",
       "        s.onerror = () => reject(`Error loading script: ${paths[lib]}`);\n",
       "        document.getElementsByTagName(\"head\")[0].appendChild(s);\n",
       "      });\n",
       "    }\n",
       "\n",
       "    function showError(err) {\n",
       "      outputDiv.innerHTML = `<div class=\"error\" style=\"color:red;\">${err}</div>`;\n",
       "      throw err;\n",
       "    }\n",
       "\n",
       "    function displayChart(vegaEmbed) {\n",
       "      vegaEmbed(outputDiv, spec, embedOpt)\n",
       "        .catch(err => showError(`Javascript Error: ${err.message}<br>This usually means there's a typo in your chart specification. See the javascript console for the full traceback.`));\n",
       "    }\n",
       "\n",
       "    if(typeof define === \"function\" && define.amd) {\n",
       "      requirejs.config({paths});\n",
       "      require([\"vega-embed\"], displayChart, err => showError(`Error loading script: ${err.message}`));\n",
       "    } else if (typeof vegaEmbed === \"function\") {\n",
       "      displayChart(vegaEmbed);\n",
       "    } else {\n",
       "      loadScript(\"vega\")\n",
       "        .then(() => loadScript(\"vega-lite\"))\n",
       "        .then(() => loadScript(\"vega-embed\"))\n",
       "        .catch(showError)\n",
       "        .then(() => displayChart(vegaEmbed));\n",
       "    }\n",
       "  })({\"config\": {\"view\": {\"continuousWidth\": 400, \"continuousHeight\": 300}}, \"layer\": [{\"mark\": {\"type\": \"bar\", \"opacity\": 0.8, \"size\": 30}, \"encoding\": {\"color\": {\"type\": \"nominal\", \"field\": \"Grupo de edad\", \"legend\": null, \"scale\": {\"scheme\": \"category10\"}}, \"order\": {\"type\": \"ordinal\", \"field\": \"index\"}, \"tooltip\": [{\"type\": \"nominal\", \"field\": \"Grupo de edad\"}, {\"type\": \"quantitative\", \"field\": \"Fallecidos confirmados\"}, {\"type\": \"quantitative\", \"field\": \"Porcentaje\"}], \"x\": {\"type\": \"quantitative\", \"field\": \"Fallecidos confirmados\"}, \"y\": {\"type\": \"nominal\", \"field\": \"Grupo de edad\", \"sort\": [\"<=39\", \"40-49\", \"50-59\", \"60-69\", \"70-79\", \"80-89\", \">=90\"]}}, \"height\": {\"step\": 40}, \"title\": \"Covid-19 en Chile: Fallecidos confirmados por grupo de edad al 05/07/2020\", \"width\": 600}, {\"mark\": {\"type\": \"text\", \"align\": \"left\", \"baseline\": \"middle\", \"dx\": 3}, \"encoding\": {\"color\": {\"type\": \"nominal\", \"field\": \"Grupo de edad\", \"legend\": null, \"scale\": {\"scheme\": \"category10\"}}, \"order\": {\"type\": \"ordinal\", \"field\": \"index\"}, \"text\": {\"type\": \"nominal\", \"field\": \"Texto\"}, \"tooltip\": [{\"type\": \"nominal\", \"field\": \"Grupo de edad\"}, {\"type\": \"quantitative\", \"field\": \"Fallecidos confirmados\"}, {\"type\": \"quantitative\", \"field\": \"Porcentaje\"}], \"x\": {\"type\": \"quantitative\", \"field\": \"Fallecidos confirmados\"}, \"y\": {\"type\": \"nominal\", \"field\": \"Grupo de edad\", \"sort\": [\"<=39\", \"40-49\", \"50-59\", \"60-69\", \"70-79\", \"80-89\", \">=90\"]}}}], \"data\": {\"name\": \"data-e03002b50476a543a462e8257ca0c908\"}, \"$schema\": \"https://vega.github.io/schema/vega-lite/v4.8.1.json\", \"datasets\": {\"data-e03002b50476a543a462e8257ca0c908\": [{\"index\": 0, \"Grupo de edad\": \"<=39\", \"Fallecidos confirmados\": 128, \"Porcentaje\": 2.0, \"Texto\": \"128 (2.0%)\"}, {\"index\": 1, \"Grupo de edad\": \"40-49\", \"Fallecidos confirmados\": 198, \"Porcentaje\": 3.1, \"Texto\": \"198 (3.1%)\"}, {\"index\": 2, \"Grupo de edad\": \"50-59\", \"Fallecidos confirmados\": 618, \"Porcentaje\": 9.8, \"Texto\": \"618 (9.8%)\"}, {\"index\": 3, \"Grupo de edad\": \"60-69\", \"Fallecidos confirmados\": 1337, \"Porcentaje\": 21.2, \"Texto\": \"1337 (21.2%)\"}, {\"index\": 4, \"Grupo de edad\": \"70-79\", \"Fallecidos confirmados\": 1816, \"Porcentaje\": 28.8, \"Texto\": \"1816 (28.8%)\"}, {\"index\": 5, \"Grupo de edad\": \"80-89\", \"Fallecidos confirmados\": 1633, \"Porcentaje\": 25.9, \"Texto\": \"1633 (25.9%)\"}, {\"index\": 6, \"Grupo de edad\": \">=90\", \"Fallecidos confirmados\": 578, \"Porcentaje\": 9.2, \"Texto\": \"578 (9.2%)\"}]}}, {\"mode\": \"vega-lite\"});\n",
       "</script>"
      ],
      "text/plain": [
       "alt.LayerChart(...)"
      ]
     },
     "execution_count": 89,
     "metadata": {},
     "output_type": "execute_result"
    }
   ],
   "source": [
    "#hide_input\n",
    "bars = alt.Chart(deaths.reset_index()).mark_bar(opacity=0.8, size=30).encode(\n",
    "    x = alt.X('Fallecidos confirmados'),\n",
    "    y = alt.Y('Grupo de edad', sort=grupo_de_edad),\n",
    "    tooltip = ['Grupo de edad', 'Fallecidos confirmados', 'Porcentaje'],\n",
    "    color = alt.Color('Grupo de edad', scale=alt.Scale(scheme='category10'), legend=None),\n",
    "    order = alt.Order('index:O')\n",
    ")\n",
    "\n",
    "text = bars.mark_text(\n",
    "    align='left',\n",
    "    baseline='middle',\n",
    "    dx=3  # Nudges text to right so it doesn't appear on top of the bar\n",
    ").encode(\n",
    "    text=alt.Text('Texto')\n",
    ")\n",
    "\n",
    "bars.properties(\n",
    "    title = f\"Covid-19 en Chile: Fallecidos confirmados por grupo de edad al {pd.to_datetime(last_date).strftime('%d/%m/%Y')}\",\n",
    "    width = 600,\n",
    "    height = alt.Step(40)\n",
    ") + text"
   ]
  },
  {
   "cell_type": "markdown",
   "metadata": {},
   "source": [
    "# Letalidad por grupo de edad"
   ]
  },
  {
   "cell_type": "code",
   "execution_count": 90,
   "metadata": {},
   "outputs": [],
   "source": [
    "#hide\n",
    "data = cases.drop(columns=[\"Porcentaje\", \"Texto\"])"
   ]
  },
  {
   "cell_type": "code",
   "execution_count": 91,
   "metadata": {},
   "outputs": [
    {
     "data": {
      "text/plain": [
       "[128, 198, 618, 1337, 1816]"
      ]
     },
     "execution_count": 91,
     "metadata": {},
     "output_type": "execute_result"
    }
   ],
   "source": [
    "#hide\n",
    "a = list(deaths[\"Fallecidos confirmados\"][:5])\n",
    "a"
   ]
  },
  {
   "cell_type": "code",
   "execution_count": 92,
   "metadata": {},
   "outputs": [
    {
     "data": {
      "text/plain": [
       "[128, 198, 618, 1337, 1816, 2211]"
      ]
     },
     "execution_count": 92,
     "metadata": {},
     "output_type": "execute_result"
    }
   ],
   "source": [
    "#hide\n",
    "a.append(deaths[\"Fallecidos confirmados\"][5:].sum())\n",
    "a"
   ]
  },
  {
   "cell_type": "code",
   "execution_count": 93,
   "metadata": {},
   "outputs": [],
   "source": [
    "#hide\n",
    "data[\"Fallecidos confirmados\"] = a"
   ]
  },
  {
   "cell_type": "code",
   "execution_count": 94,
   "metadata": {},
   "outputs": [],
   "source": [
    "#hide\n",
    "data[\"Letalidad\"] = 100*data[\"Fallecidos confirmados\"]/data[\"Casos confirmados\"]"
   ]
  },
  {
   "cell_type": "code",
   "execution_count": 95,
   "metadata": {},
   "outputs": [],
   "source": [
    "#hide\n",
    "data['Texto'] = \\\n",
    "[f\"{data['Letalidad'].iloc[i]:.2f}\" for i, val in data.iterrows()]"
   ]
  },
  {
   "cell_type": "code",
   "execution_count": 96,
   "metadata": {
    "scrolled": true
   },
   "outputs": [
    {
     "data": {
      "text/html": [
       "\n",
       "<div id=\"altair-viz-88f5bd76e4cd4c64b078dbf7ed9ac1c7\"></div>\n",
       "<script type=\"text/javascript\">\n",
       "  (function(spec, embedOpt){\n",
       "    let outputDiv = document.currentScript.previousElementSibling;\n",
       "    if (outputDiv.id !== \"altair-viz-88f5bd76e4cd4c64b078dbf7ed9ac1c7\") {\n",
       "      outputDiv = document.getElementById(\"altair-viz-88f5bd76e4cd4c64b078dbf7ed9ac1c7\");\n",
       "    }\n",
       "    const paths = {\n",
       "      \"vega\": \"https://cdn.jsdelivr.net/npm//vega@5?noext\",\n",
       "      \"vega-lib\": \"https://cdn.jsdelivr.net/npm//vega-lib?noext\",\n",
       "      \"vega-lite\": \"https://cdn.jsdelivr.net/npm//vega-lite@4.8.1?noext\",\n",
       "      \"vega-embed\": \"https://cdn.jsdelivr.net/npm//vega-embed@6?noext\",\n",
       "    };\n",
       "\n",
       "    function loadScript(lib) {\n",
       "      return new Promise(function(resolve, reject) {\n",
       "        var s = document.createElement('script');\n",
       "        s.src = paths[lib];\n",
       "        s.async = true;\n",
       "        s.onload = () => resolve(paths[lib]);\n",
       "        s.onerror = () => reject(`Error loading script: ${paths[lib]}`);\n",
       "        document.getElementsByTagName(\"head\")[0].appendChild(s);\n",
       "      });\n",
       "    }\n",
       "\n",
       "    function showError(err) {\n",
       "      outputDiv.innerHTML = `<div class=\"error\" style=\"color:red;\">${err}</div>`;\n",
       "      throw err;\n",
       "    }\n",
       "\n",
       "    function displayChart(vegaEmbed) {\n",
       "      vegaEmbed(outputDiv, spec, embedOpt)\n",
       "        .catch(err => showError(`Javascript Error: ${err.message}<br>This usually means there's a typo in your chart specification. See the javascript console for the full traceback.`));\n",
       "    }\n",
       "\n",
       "    if(typeof define === \"function\" && define.amd) {\n",
       "      requirejs.config({paths});\n",
       "      require([\"vega-embed\"], displayChart, err => showError(`Error loading script: ${err.message}`));\n",
       "    } else if (typeof vegaEmbed === \"function\") {\n",
       "      displayChart(vegaEmbed);\n",
       "    } else {\n",
       "      loadScript(\"vega\")\n",
       "        .then(() => loadScript(\"vega-lite\"))\n",
       "        .then(() => loadScript(\"vega-embed\"))\n",
       "        .catch(showError)\n",
       "        .then(() => displayChart(vegaEmbed));\n",
       "    }\n",
       "  })({\"config\": {\"view\": {\"continuousWidth\": 400, \"continuousHeight\": 300}}, \"layer\": [{\"mark\": {\"type\": \"bar\", \"opacity\": 0.8, \"size\": 30}, \"encoding\": {\"color\": {\"type\": \"nominal\", \"field\": \"Grupo de edad\", \"legend\": null, \"scale\": {\"scheme\": \"category10\"}}, \"order\": {\"type\": \"ordinal\", \"field\": \"index\"}, \"tooltip\": [{\"type\": \"nominal\", \"field\": \"Grupo de edad\"}, {\"type\": \"quantitative\", \"field\": \"Casos confirmados\"}, {\"type\": \"quantitative\", \"field\": \"Fallecidos confirmados\"}, {\"type\": \"quantitative\", \"field\": \"Letalidad\"}], \"x\": {\"type\": \"quantitative\", \"field\": \"Letalidad\"}, \"y\": {\"type\": \"nominal\", \"field\": \"Grupo de edad\", \"sort\": [\"<=39\", \"40-49\", \"50-59\", \"60-69\", \"70-79\", \"80-89\", \">=90\"]}}, \"height\": {\"step\": 40}, \"title\": \"Covid-19 en Chile: Letalidad por grupo de edad al 05/07/2020\", \"width\": 600}, {\"mark\": {\"type\": \"text\", \"align\": \"left\", \"baseline\": \"middle\", \"dx\": 3}, \"encoding\": {\"color\": {\"type\": \"nominal\", \"field\": \"Grupo de edad\", \"legend\": null, \"scale\": {\"scheme\": \"category10\"}}, \"order\": {\"type\": \"ordinal\", \"field\": \"index\"}, \"text\": {\"type\": \"nominal\", \"field\": \"Texto\"}, \"tooltip\": [{\"type\": \"nominal\", \"field\": \"Grupo de edad\"}, {\"type\": \"quantitative\", \"field\": \"Casos confirmados\"}, {\"type\": \"quantitative\", \"field\": \"Fallecidos confirmados\"}, {\"type\": \"quantitative\", \"field\": \"Letalidad\"}], \"x\": {\"type\": \"quantitative\", \"field\": \"Letalidad\"}, \"y\": {\"type\": \"nominal\", \"field\": \"Grupo de edad\", \"sort\": [\"<=39\", \"40-49\", \"50-59\", \"60-69\", \"70-79\", \"80-89\", \">=90\"]}}}], \"data\": {\"name\": \"data-6405b159f9a4af01a8adba3d2a6b003c\"}, \"$schema\": \"https://vega.github.io/schema/vega-lite/v4.8.1.json\", \"datasets\": {\"data-6405b159f9a4af01a8adba3d2a6b003c\": [{\"index\": 0, \"Grupo de edad\": \"<=39\", \"Casos confirmados\": 158970, \"Fallecidos confirmados\": 128, \"Letalidad\": 0.08051833679310562, \"Texto\": \"0.08\"}, {\"index\": 1, \"Grupo de edad\": \"40-49\", \"Casos confirmados\": 52793, \"Fallecidos confirmados\": 198, \"Letalidad\": 0.37504972250108914, \"Texto\": \"0.38\"}, {\"index\": 2, \"Grupo de edad\": \"50-59\", \"Casos confirmados\": 48431, \"Fallecidos confirmados\": 618, \"Letalidad\": 1.276042204373232, \"Texto\": \"1.28\"}, {\"index\": 3, \"Grupo de edad\": \"60-69\", \"Casos confirmados\": 27482, \"Fallecidos confirmados\": 1337, \"Letalidad\": 4.865002547121753, \"Texto\": \"4.87\"}, {\"index\": 4, \"Grupo de edad\": \"70-79\", \"Casos confirmados\": 13360, \"Fallecidos confirmados\": 1816, \"Letalidad\": 13.592814371257486, \"Texto\": \"13.59\"}, {\"index\": 5, \"Grupo de edad\": \">=80\", \"Casos confirmados\": 8320, \"Fallecidos confirmados\": 2211, \"Letalidad\": 26.57451923076923, \"Texto\": \"26.57\"}]}}, {\"mode\": \"vega-lite\"});\n",
       "</script>"
      ],
      "text/plain": [
       "alt.LayerChart(...)"
      ]
     },
     "execution_count": 96,
     "metadata": {},
     "output_type": "execute_result"
    }
   ],
   "source": [
    "#hide_input\n",
    "bars = alt.Chart(data.reset_index()).mark_bar(opacity=0.8, size=30).encode(\n",
    "    x = alt.X('Letalidad'),\n",
    "    y = alt.Y('Grupo de edad', sort=grupo_de_edad),\n",
    "    tooltip = ['Grupo de edad', 'Casos confirmados', 'Fallecidos confirmados', 'Letalidad'],\n",
    "    color = alt.Color('Grupo de edad', scale=alt.Scale(scheme='category10'), legend=None),\n",
    "    order = alt.Order('index:O')\n",
    ")\n",
    "\n",
    "text = bars.mark_text(\n",
    "    align='left',\n",
    "    baseline='middle',\n",
    "    dx=3  # Nudges text to right so it doesn't appear on top of the bar\n",
    ").encode(\n",
    "    text=alt.Text('Texto')\n",
    ")\n",
    "\n",
    "bars.properties(\n",
    "    title = f\"Covid-19 en Chile: Letalidad por grupo de edad al {pd.to_datetime(last_date).strftime('%d/%m/%Y')}\",\n",
    "    width = 600,\n",
    "    height = alt.Step(40)\n",
    ") + text"
   ]
  },
  {
   "cell_type": "code",
   "execution_count": 97,
   "metadata": {
    "scrolled": true
   },
   "outputs": [
    {
     "data": {
      "text/plain": [
       "2.0390747229728854"
      ]
     },
     "execution_count": 97,
     "metadata": {},
     "output_type": "execute_result"
    }
   ],
   "source": [
    "#hide\n",
    "100*deaths[\"Fallecidos confirmados\"].sum()/cases[\"Casos confirmados\"].sum()"
   ]
  },
  {
   "cell_type": "code",
   "execution_count": 98,
   "metadata": {},
   "outputs": [],
   "source": [
    "#hide\n",
    "# Población por grupo de edad"
   ]
  },
  {
   "cell_type": "code",
   "execution_count": 99,
   "metadata": {},
   "outputs": [],
   "source": [
    "#hide\n",
    "# censo = pd.DataFrame()\n",
    "# censo['Grupo de edad'] = censo_raw['Grupo de edad']"
   ]
  },
  {
   "cell_type": "code",
   "execution_count": 100,
   "metadata": {
    "scrolled": true
   },
   "outputs": [],
   "source": [
    "#hide\n",
    "# censo['Poblacion'] = censo_raw.drop(columns='Grupo de edad').sum(axis=1)"
   ]
  },
  {
   "cell_type": "code",
   "execution_count": 101,
   "metadata": {},
   "outputs": [],
   "source": [
    "#hide\n",
    "# new_censo = pd.DataFrame()\n",
    "# new_censo['Grupo de edad'] = grupo_de_edad"
   ]
  },
  {
   "cell_type": "code",
   "execution_count": 102,
   "metadata": {},
   "outputs": [],
   "source": [
    "#hide\n",
    "# new_censo[\"Poblacion\"] = \\\n",
    "# [censo.iloc[:8][\"Poblacion\"].sum(), \\\n",
    "# censo.iloc[8:10][\"Poblacion\"].sum(), \\\n",
    "# censo.iloc[10:12][\"Poblacion\"].sum(), \\\n",
    "# censo.iloc[12:14][\"Poblacion\"].sum(), \\\n",
    "# censo.iloc[14:16][\"Poblacion\"].sum(), \\\n",
    "# censo.iloc[16:18][\"Poblacion\"].sum(), \\\n",
    "# censo.iloc[18:][\"Poblacion\"].sum()]"
   ]
  },
  {
   "cell_type": "code",
   "execution_count": 103,
   "metadata": {},
   "outputs": [],
   "source": [
    "#hide\n",
    "# total_poblacion = new_censo[\"Poblacion\"].sum()\n",
    "# total_poblacion"
   ]
  },
  {
   "cell_type": "code",
   "execution_count": 104,
   "metadata": {},
   "outputs": [],
   "source": [
    "#hide\n",
    "# new_censo[\"Porcentaje\"] = np.round(100*new_censo[\"Poblacion\"]/total_poblacion, decimals=1)"
   ]
  },
  {
   "cell_type": "code",
   "execution_count": 105,
   "metadata": {},
   "outputs": [],
   "source": [
    "#hide\n",
    "# new_censo['Texto'] = \\\n",
    "# [f\"{format(new_censo['Poblacion'].iloc[i],',').replace(',', '.')} ({new_censo['Porcentaje'].iloc[i]}%)\" for i, val in new_censo.iterrows()]"
   ]
  },
  {
   "cell_type": "code",
   "execution_count": 106,
   "metadata": {},
   "outputs": [],
   "source": [
    "#hide\n",
    "# bars = alt.Chart(new_censo.reset_index()).mark_bar(opacity=0.8, size=30).encode(\n",
    "#     x = alt.X('Poblacion', axis=alt.Axis(title=\"Población\")),\n",
    "#     y = alt.Y('Grupo de edad', sort=grupo_de_edad),\n",
    "#     tooltip = ['Grupo de edad', 'Poblacion', 'Porcentaje'],\n",
    "#     color = alt.Color('Grupo de edad', scale=alt.Scale(scheme='category10'), legend=None),\n",
    "#     order = alt.Order('index:O')\n",
    "# )\n",
    "\n",
    "# text = bars.mark_text(\n",
    "#     align='left',\n",
    "#     baseline='middle',\n",
    "#     dx=3  # Nudges text to right so it doesn't appear on top of the bar\n",
    "# ).encode(\n",
    "#     text=alt.Text('Texto')\n",
    "# )\n",
    "\n",
    "# bars.properties(\n",
    "#     title = f\"Población Censo 2017\",\n",
    "#     width = 600,\n",
    "#     height = alt.Step(40)\n",
    "# ) + text"
   ]
  },
  {
   "cell_type": "markdown",
   "metadata": {},
   "source": [
    "# Pacientes UCI por rango de edad"
   ]
  },
  {
   "cell_type": "code",
   "execution_count": 107,
   "metadata": {},
   "outputs": [],
   "source": [
    "#hide\n",
    "pacientes_raw = pd.read_csv(\n",
    "    'https://raw.githubusercontent.com/MinCiencia/Datos-COVID19/'\n",
    "    + 'master/output/producto9/HospitalizadosUCIEtario.csv'\n",
    ")"
   ]
  },
  {
   "cell_type": "code",
   "execution_count": 108,
   "metadata": {},
   "outputs": [],
   "source": [
    "#hide\n",
    "pacientes = pacientes_raw[['Grupo de edad', last_date]]"
   ]
  },
  {
   "cell_type": "code",
   "execution_count": 109,
   "metadata": {},
   "outputs": [
    {
     "data": {
      "text/plain": [
       "2078"
      ]
     },
     "execution_count": 109,
     "metadata": {},
     "output_type": "execute_result"
    }
   ],
   "source": [
    "#hide\n",
    "total_pacientes = pacientes[last_date].sum()\n",
    "total_pacientes"
   ]
  },
  {
   "cell_type": "code",
   "execution_count": 110,
   "metadata": {},
   "outputs": [],
   "source": [
    "#hide\n",
    "pacientes = pacientes.rename(columns={last_date: \"Pacientes UCI\"})"
   ]
  },
  {
   "cell_type": "code",
   "execution_count": 111,
   "metadata": {
    "scrolled": true
   },
   "outputs": [],
   "source": [
    "#hide\n",
    "pacientes['Porcentaje'] = np.round(100*pacientes[\"Pacientes UCI\"]/total_pacientes, decimals=1)"
   ]
  },
  {
   "cell_type": "code",
   "execution_count": 112,
   "metadata": {},
   "outputs": [],
   "source": [
    "#hide\n",
    "pacientes['Texto'] = \\\n",
    "[f\"{pacientes['Pacientes UCI'].iloc[i]} ({pacientes['Porcentaje'].iloc[i]}%)\" for i, val in pacientes.iterrows()]"
   ]
  },
  {
   "cell_type": "code",
   "execution_count": 113,
   "metadata": {
    "scrolled": true
   },
   "outputs": [
    {
     "data": {
      "text/html": [
       "\n",
       "<div id=\"altair-viz-e584ae8651834460b132a372f13582dd\"></div>\n",
       "<script type=\"text/javascript\">\n",
       "  (function(spec, embedOpt){\n",
       "    let outputDiv = document.currentScript.previousElementSibling;\n",
       "    if (outputDiv.id !== \"altair-viz-e584ae8651834460b132a372f13582dd\") {\n",
       "      outputDiv = document.getElementById(\"altair-viz-e584ae8651834460b132a372f13582dd\");\n",
       "    }\n",
       "    const paths = {\n",
       "      \"vega\": \"https://cdn.jsdelivr.net/npm//vega@5?noext\",\n",
       "      \"vega-lib\": \"https://cdn.jsdelivr.net/npm//vega-lib?noext\",\n",
       "      \"vega-lite\": \"https://cdn.jsdelivr.net/npm//vega-lite@4.8.1?noext\",\n",
       "      \"vega-embed\": \"https://cdn.jsdelivr.net/npm//vega-embed@6?noext\",\n",
       "    };\n",
       "\n",
       "    function loadScript(lib) {\n",
       "      return new Promise(function(resolve, reject) {\n",
       "        var s = document.createElement('script');\n",
       "        s.src = paths[lib];\n",
       "        s.async = true;\n",
       "        s.onload = () => resolve(paths[lib]);\n",
       "        s.onerror = () => reject(`Error loading script: ${paths[lib]}`);\n",
       "        document.getElementsByTagName(\"head\")[0].appendChild(s);\n",
       "      });\n",
       "    }\n",
       "\n",
       "    function showError(err) {\n",
       "      outputDiv.innerHTML = `<div class=\"error\" style=\"color:red;\">${err}</div>`;\n",
       "      throw err;\n",
       "    }\n",
       "\n",
       "    function displayChart(vegaEmbed) {\n",
       "      vegaEmbed(outputDiv, spec, embedOpt)\n",
       "        .catch(err => showError(`Javascript Error: ${err.message}<br>This usually means there's a typo in your chart specification. See the javascript console for the full traceback.`));\n",
       "    }\n",
       "\n",
       "    if(typeof define === \"function\" && define.amd) {\n",
       "      requirejs.config({paths});\n",
       "      require([\"vega-embed\"], displayChart, err => showError(`Error loading script: ${err.message}`));\n",
       "    } else if (typeof vegaEmbed === \"function\") {\n",
       "      displayChart(vegaEmbed);\n",
       "    } else {\n",
       "      loadScript(\"vega\")\n",
       "        .then(() => loadScript(\"vega-lite\"))\n",
       "        .then(() => loadScript(\"vega-embed\"))\n",
       "        .catch(showError)\n",
       "        .then(() => displayChart(vegaEmbed));\n",
       "    }\n",
       "  })({\"config\": {\"view\": {\"continuousWidth\": 400, \"continuousHeight\": 300}}, \"layer\": [{\"mark\": {\"type\": \"bar\", \"opacity\": 0.8, \"size\": 30}, \"encoding\": {\"color\": {\"type\": \"nominal\", \"field\": \"Grupo de edad\", \"legend\": null, \"scale\": {\"scheme\": \"category10\"}}, \"order\": {\"type\": \"ordinal\", \"field\": \"index\"}, \"tooltip\": [{\"type\": \"nominal\", \"field\": \"Grupo de edad\"}, {\"type\": \"quantitative\", \"field\": \"Pacientes UCI\"}, {\"type\": \"quantitative\", \"field\": \"Porcentaje\"}], \"x\": {\"type\": \"quantitative\", \"field\": \"Pacientes UCI\"}, \"y\": {\"type\": \"nominal\", \"field\": \"Grupo de edad\", \"sort\": [\"<=39\", \"40-49\", \"50-59\", \"60-69\", \"70-79\", \"80-89\", \">=90\"]}}, \"height\": {\"step\": 40}, \"title\": \"Pacientes UCI presentes el 05/07/2020\", \"width\": 600}, {\"mark\": {\"type\": \"text\", \"align\": \"left\", \"baseline\": \"middle\", \"dx\": 3}, \"encoding\": {\"color\": {\"type\": \"nominal\", \"field\": \"Grupo de edad\", \"legend\": null, \"scale\": {\"scheme\": \"category10\"}}, \"order\": {\"type\": \"ordinal\", \"field\": \"index\"}, \"text\": {\"type\": \"nominal\", \"field\": \"Texto\"}, \"tooltip\": [{\"type\": \"nominal\", \"field\": \"Grupo de edad\"}, {\"type\": \"quantitative\", \"field\": \"Pacientes UCI\"}, {\"type\": \"quantitative\", \"field\": \"Porcentaje\"}], \"x\": {\"type\": \"quantitative\", \"field\": \"Pacientes UCI\"}, \"y\": {\"type\": \"nominal\", \"field\": \"Grupo de edad\", \"sort\": [\"<=39\", \"40-49\", \"50-59\", \"60-69\", \"70-79\", \"80-89\", \">=90\"]}}}], \"data\": {\"name\": \"data-70670fbbe7c79b52cc90252c35a2510a\"}, \"$schema\": \"https://vega.github.io/schema/vega-lite/v4.8.1.json\", \"datasets\": {\"data-70670fbbe7c79b52cc90252c35a2510a\": [{\"index\": 0, \"Grupo de edad\": \"<=39\", \"Pacientes UCI\": 157, \"Porcentaje\": 7.6, \"Texto\": \"157 (7.6%)\"}, {\"index\": 1, \"Grupo de edad\": \"40-49\", \"Pacientes UCI\": 221, \"Porcentaje\": 10.6, \"Texto\": \"221 (10.6%)\"}, {\"index\": 2, \"Grupo de edad\": \"50-59\", \"Pacientes UCI\": 536, \"Porcentaje\": 25.8, \"Texto\": \"536 (25.8%)\"}, {\"index\": 3, \"Grupo de edad\": \"60-69\", \"Pacientes UCI\": 759, \"Porcentaje\": 36.5, \"Texto\": \"759 (36.5%)\"}, {\"index\": 4, \"Grupo de edad\": \">=70\", \"Pacientes UCI\": 405, \"Porcentaje\": 19.5, \"Texto\": \"405 (19.5%)\"}]}}, {\"mode\": \"vega-lite\"});\n",
       "</script>"
      ],
      "text/plain": [
       "alt.LayerChart(...)"
      ]
     },
     "execution_count": 113,
     "metadata": {},
     "output_type": "execute_result"
    }
   ],
   "source": [
    "#hide_input\n",
    "bars = alt.Chart(pacientes.reset_index()).mark_bar(opacity=0.8, size=30).encode(\n",
    "    x = alt.X('Pacientes UCI'),\n",
    "    y = alt.Y('Grupo de edad', sort=grupo_de_edad),\n",
    "    order = alt.Order('index:O'),\n",
    "    tooltip = ['Grupo de edad', 'Pacientes UCI', 'Porcentaje'],\n",
    "    color = alt.Color('Grupo de edad', scale=alt.Scale(scheme='category10'), legend=None)\n",
    ")\n",
    "\n",
    "text = bars.mark_text(\n",
    "    align='left',\n",
    "    baseline='middle',\n",
    "    dx=3  # Nudges text to right so it doesn't appear on top of the bar\n",
    ").encode(\n",
    "    text=alt.Text('Texto')\n",
    ")\n",
    "\n",
    "bars.properties(\n",
    "    title = f\"Pacientes UCI presentes el {pd.to_datetime(last_date).strftime('%d/%m/%Y')}\",\n",
    "    width = 600,\n",
    "    height = alt.Step(40)\n",
    ") + text"
   ]
  },
  {
   "cell_type": "markdown",
   "metadata": {},
   "source": [
    "# Evolución de casos confirmados por rango de edad"
   ]
  },
  {
   "cell_type": "code",
   "execution_count": 114,
   "metadata": {},
   "outputs": [],
   "source": [
    "#hide\n",
    "cases_raw = pd.read_csv(\n",
    "    'https://raw.githubusercontent.com/MinCiencia/Datos-COVID19/' \\\n",
    "    + 'master/output/producto16/CasosGeneroEtario.csv'\n",
    ")"
   ]
  },
  {
   "cell_type": "code",
   "execution_count": 115,
   "metadata": {},
   "outputs": [],
   "source": [
    "#hide\n",
    "cases = pd.DataFrame()\n",
    "cases['<=39'] = cases_raw.groupby('Grupo de edad').sum().iloc[:8].sum()\n",
    "cases['40-49'] = cases_raw.groupby('Grupo de edad').sum().iloc[8:10].sum()\n",
    "cases['50-59'] = cases_raw.groupby('Grupo de edad').sum().iloc[10:12].sum()\n",
    "cases['60-69'] = cases_raw.groupby('Grupo de edad').sum().iloc[12:14].sum()\n",
    "cases['70-79'] = cases_raw.groupby('Grupo de edad').sum().iloc[14:16].sum()\n",
    "cases['>=80'] = cases_raw.groupby('Grupo de edad').sum().iloc[16:].sum()"
   ]
  },
  {
   "cell_type": "code",
   "execution_count": 116,
   "metadata": {},
   "outputs": [],
   "source": [
    "#hide\n",
    "cases = cases.T.reset_index()\n",
    "cases = cases.rename(columns={'index': 'Grupo de edad'})"
   ]
  },
  {
   "cell_type": "code",
   "execution_count": 117,
   "metadata": {},
   "outputs": [],
   "source": [
    "#hide\n",
    "cases = cases.reset_index().melt(['index', 'Grupo de edad'], var_name=\"fecha (año-mes-día)\", value_name=\"casos confirmados\")"
   ]
  },
  {
   "cell_type": "code",
   "execution_count": 118,
   "metadata": {
    "scrolled": true
   },
   "outputs": [
    {
     "data": {
      "text/html": [
       "\n",
       "<div id=\"altair-viz-7fa4602a07ed4310a5fd84caed009bde\"></div>\n",
       "<script type=\"text/javascript\">\n",
       "  (function(spec, embedOpt){\n",
       "    let outputDiv = document.currentScript.previousElementSibling;\n",
       "    if (outputDiv.id !== \"altair-viz-7fa4602a07ed4310a5fd84caed009bde\") {\n",
       "      outputDiv = document.getElementById(\"altair-viz-7fa4602a07ed4310a5fd84caed009bde\");\n",
       "    }\n",
       "    const paths = {\n",
       "      \"vega\": \"https://cdn.jsdelivr.net/npm//vega@5?noext\",\n",
       "      \"vega-lib\": \"https://cdn.jsdelivr.net/npm//vega-lib?noext\",\n",
       "      \"vega-lite\": \"https://cdn.jsdelivr.net/npm//vega-lite@4.8.1?noext\",\n",
       "      \"vega-embed\": \"https://cdn.jsdelivr.net/npm//vega-embed@6?noext\",\n",
       "    };\n",
       "\n",
       "    function loadScript(lib) {\n",
       "      return new Promise(function(resolve, reject) {\n",
       "        var s = document.createElement('script');\n",
       "        s.src = paths[lib];\n",
       "        s.async = true;\n",
       "        s.onload = () => resolve(paths[lib]);\n",
       "        s.onerror = () => reject(`Error loading script: ${paths[lib]}`);\n",
       "        document.getElementsByTagName(\"head\")[0].appendChild(s);\n",
       "      });\n",
       "    }\n",
       "\n",
       "    function showError(err) {\n",
       "      outputDiv.innerHTML = `<div class=\"error\" style=\"color:red;\">${err}</div>`;\n",
       "      throw err;\n",
       "    }\n",
       "\n",
       "    function displayChart(vegaEmbed) {\n",
       "      vegaEmbed(outputDiv, spec, embedOpt)\n",
       "        .catch(err => showError(`Javascript Error: ${err.message}<br>This usually means there's a typo in your chart specification. See the javascript console for the full traceback.`));\n",
       "    }\n",
       "\n",
       "    if(typeof define === \"function\" && define.amd) {\n",
       "      requirejs.config({paths});\n",
       "      require([\"vega-embed\"], displayChart, err => showError(`Error loading script: ${err.message}`));\n",
       "    } else if (typeof vegaEmbed === \"function\") {\n",
       "      displayChart(vegaEmbed);\n",
       "    } else {\n",
       "      loadScript(\"vega\")\n",
       "        .then(() => loadScript(\"vega-lite\"))\n",
       "        .then(() => loadScript(\"vega-embed\"))\n",
       "        .catch(showError)\n",
       "        .then(() => displayChart(vegaEmbed));\n",
       "    }\n",
       "  })({\"config\": {\"view\": {\"continuousWidth\": 400, \"continuousHeight\": 300}}, \"hconcat\": [{\"mark\": \"bar\", \"encoding\": {\"color\": {\"condition\": {\"type\": \"nominal\", \"field\": \"Grupo de edad\", \"legend\": null, \"scale\": {\"scheme\": \"tableau20\"}, \"selection\": {\"or\": [\" \", \"selector003\"]}}, \"value\": \"lightgray\"}, \"order\": {\"type\": \"quantitative\", \"field\": \"index\", \"sort\": \"descending\"}, \"tooltip\": [{\"type\": \"nominal\", \"field\": \"fecha (a\\u00f1o-mes-d\\u00eda)\"}, {\"type\": \"nominal\", \"field\": \"Grupo de edad\"}, {\"type\": \"quantitative\", \"field\": \"casos confirmados\"}], \"x\": {\"type\": \"nominal\", \"field\": \"fecha (a\\u00f1o-mes-d\\u00eda)\"}, \"y\": {\"type\": \"quantitative\", \"field\": \"casos confirmados\"}}, \"selection\": {\" \": {\"type\": \"single\", \"fields\": [\"Grupo de edad\"], \"bind\": {\"input\": \"select\", \"options\": [\"<=39\", \"40-49\", \"50-59\", \"60-69\", \"70-79\", \">=80\"]}}, \"selector003\": {\"type\": \"multi\", \"fields\": [\"Grupo de edad\"], \"on\": \"mouseover\"}}, \"title\": \"COVID-19 en Chile: Evoluci\\u00f3n de casos confirmados por rango de edad\", \"transform\": [{\"filter\": {\"selection\": \" \"}}], \"width\": 600}, {\"mark\": \"point\", \"encoding\": {\"color\": {\"condition\": {\"type\": \"nominal\", \"field\": \"Grupo de edad\", \"legend\": null, \"scale\": {\"scheme\": \"tableau20\"}, \"selection\": {\"or\": [\" \", \"selector003\"]}}, \"value\": \"lightgray\"}, \"y\": {\"type\": \"nominal\", \"axis\": {\"orient\": \"right\"}, \"field\": \"Grupo de edad\", \"sort\": [\"<=39\", \"40-49\", \"50-59\", \"60-69\", \"70-79\", \"80-89\", \">=90\"]}}, \"selection\": {\" \": {\"type\": \"single\", \"fields\": [\"Grupo de edad\"], \"bind\": {\"input\": \"select\", \"options\": [\"<=39\", \"40-49\", \"50-59\", \"60-69\", \"70-79\", \">=80\"]}}, \"selector003\": {\"type\": \"multi\", \"fields\": [\"Grupo de edad\"], \"on\": \"mouseover\"}}}], \"data\": {\"name\": \"data-a609beae160624aa0a8051a52a0e860f\"}, \"$schema\": \"https://vega.github.io/schema/vega-lite/v4.8.1.json\", \"datasets\": {\"data-a609beae160624aa0a8051a52a0e860f\": [{\"index\": 0, \"Grupo de edad\": \"<=39\", \"fecha (a\\u00f1o-mes-d\\u00eda)\": \"2020-03-25\", \"casos confirmados\": 558}, {\"index\": 1, \"Grupo de edad\": \"40-49\", \"fecha (a\\u00f1o-mes-d\\u00eda)\": \"2020-03-25\", \"casos confirmados\": 220}, {\"index\": 2, \"Grupo de edad\": \"50-59\", \"fecha (a\\u00f1o-mes-d\\u00eda)\": \"2020-03-25\", \"casos confirmados\": 119}, {\"index\": 3, \"Grupo de edad\": \"60-69\", \"fecha (a\\u00f1o-mes-d\\u00eda)\": \"2020-03-25\", \"casos confirmados\": 69}, {\"index\": 4, \"Grupo de edad\": \"70-79\", \"fecha (a\\u00f1o-mes-d\\u00eda)\": \"2020-03-25\", \"casos confirmados\": 38}, {\"index\": 5, \"Grupo de edad\": \">=80\", \"fecha (a\\u00f1o-mes-d\\u00eda)\": \"2020-03-25\", \"casos confirmados\": 8}, {\"index\": 0, \"Grupo de edad\": \"<=39\", \"fecha (a\\u00f1o-mes-d\\u00eda)\": \"2020-03-26\", \"casos confirmados\": 672}, {\"index\": 1, \"Grupo de edad\": \"40-49\", \"fecha (a\\u00f1o-mes-d\\u00eda)\": \"2020-03-26\", \"casos confirmados\": 268}, {\"index\": 2, \"Grupo de edad\": \"50-59\", \"fecha (a\\u00f1o-mes-d\\u00eda)\": \"2020-03-26\", \"casos confirmados\": 162}, {\"index\": 3, \"Grupo de edad\": \"60-69\", \"fecha (a\\u00f1o-mes-d\\u00eda)\": \"2020-03-26\", \"casos confirmados\": 91}, {\"index\": 4, \"Grupo de edad\": \"70-79\", \"fecha (a\\u00f1o-mes-d\\u00eda)\": \"2020-03-26\", \"casos confirmados\": 48}, {\"index\": 5, \"Grupo de edad\": \">=80\", \"fecha (a\\u00f1o-mes-d\\u00eda)\": \"2020-03-26\", \"casos confirmados\": 11}, {\"index\": 0, \"Grupo de edad\": \"<=39\", \"fecha (a\\u00f1o-mes-d\\u00eda)\": \"2020-03-27\", \"casos confirmados\": 754}, {\"index\": 1, \"Grupo de edad\": \"40-49\", \"fecha (a\\u00f1o-mes-d\\u00eda)\": \"2020-03-27\", \"casos confirmados\": 310}, {\"index\": 2, \"Grupo de edad\": \"50-59\", \"fecha (a\\u00f1o-mes-d\\u00eda)\": \"2020-03-27\", \"casos confirmados\": 190}, {\"index\": 3, \"Grupo de edad\": \"60-69\", \"fecha (a\\u00f1o-mes-d\\u00eda)\": \"2020-03-27\", \"casos confirmados\": 112}, {\"index\": 4, \"Grupo de edad\": \"70-79\", \"fecha (a\\u00f1o-mes-d\\u00eda)\": \"2020-03-27\", \"casos confirmados\": 56}, {\"index\": 5, \"Grupo de edad\": \">=80\", \"fecha (a\\u00f1o-mes-d\\u00eda)\": \"2020-03-27\", \"casos confirmados\": 12}, {\"index\": 0, \"Grupo de edad\": \"<=39\", \"fecha (a\\u00f1o-mes-d\\u00eda)\": \"2020-03-28\", \"casos confirmados\": 890}, {\"index\": 1, \"Grupo de edad\": \"40-49\", \"fecha (a\\u00f1o-mes-d\\u00eda)\": \"2020-03-28\", \"casos confirmados\": 357}, {\"index\": 2, \"Grupo de edad\": \"50-59\", \"fecha (a\\u00f1o-mes-d\\u00eda)\": \"2020-03-28\", \"casos confirmados\": 251}, {\"index\": 3, \"Grupo de edad\": \"60-69\", \"fecha (a\\u00f1o-mes-d\\u00eda)\": \"2020-03-28\", \"casos confirmados\": 138}, {\"index\": 4, \"Grupo de edad\": \"70-79\", \"fecha (a\\u00f1o-mes-d\\u00eda)\": \"2020-03-28\", \"casos confirmados\": 67}, {\"index\": 5, \"Grupo de edad\": \">=80\", \"fecha (a\\u00f1o-mes-d\\u00eda)\": \"2020-03-28\", \"casos confirmados\": 20}, {\"index\": 0, \"Grupo de edad\": \"<=39\", \"fecha (a\\u00f1o-mes-d\\u00eda)\": \"2020-03-29\", \"casos confirmados\": 964}, {\"index\": 1, \"Grupo de edad\": \"40-49\", \"fecha (a\\u00f1o-mes-d\\u00eda)\": \"2020-03-29\", \"casos confirmados\": 407}, {\"index\": 2, \"Grupo de edad\": \"50-59\", \"fecha (a\\u00f1o-mes-d\\u00eda)\": \"2020-03-29\", \"casos confirmados\": 272}, {\"index\": 3, \"Grupo de edad\": \"60-69\", \"fecha (a\\u00f1o-mes-d\\u00eda)\": \"2020-03-29\", \"casos confirmados\": 165}, {\"index\": 4, \"Grupo de edad\": \"70-79\", \"fecha (a\\u00f1o-mes-d\\u00eda)\": \"2020-03-29\", \"casos confirmados\": 75}, {\"index\": 5, \"Grupo de edad\": \">=80\", \"fecha (a\\u00f1o-mes-d\\u00eda)\": \"2020-03-29\", \"casos confirmados\": 23}, {\"index\": 0, \"Grupo de edad\": \"<=39\", \"fecha (a\\u00f1o-mes-d\\u00eda)\": \"2020-03-30\", \"casos confirmados\": 1041}, {\"index\": 1, \"Grupo de edad\": \"40-49\", \"fecha (a\\u00f1o-mes-d\\u00eda)\": \"2020-03-30\", \"casos confirmados\": 451}, {\"index\": 2, \"Grupo de edad\": \"50-59\", \"fecha (a\\u00f1o-mes-d\\u00eda)\": \"2020-03-30\", \"casos confirmados\": 304}, {\"index\": 3, \"Grupo de edad\": \"60-69\", \"fecha (a\\u00f1o-mes-d\\u00eda)\": \"2020-03-30\", \"casos confirmados\": 182}, {\"index\": 4, \"Grupo de edad\": \"70-79\", \"fecha (a\\u00f1o-mes-d\\u00eda)\": \"2020-03-30\", \"casos confirmados\": 84}, {\"index\": 5, \"Grupo de edad\": \">=80\", \"fecha (a\\u00f1o-mes-d\\u00eda)\": \"2020-03-30\", \"casos confirmados\": 26}, {\"index\": 0, \"Grupo de edad\": \"<=39\", \"fecha (a\\u00f1o-mes-d\\u00eda)\": \"2020-03-31\", \"casos confirmados\": 1182}, {\"index\": 1, \"Grupo de edad\": \"40-49\", \"fecha (a\\u00f1o-mes-d\\u00eda)\": \"2020-03-31\", \"casos confirmados\": 511}, {\"index\": 2, \"Grupo de edad\": \"50-59\", \"fecha (a\\u00f1o-mes-d\\u00eda)\": \"2020-03-31\", \"casos confirmados\": 348}, {\"index\": 3, \"Grupo de edad\": \"60-69\", \"fecha (a\\u00f1o-mes-d\\u00eda)\": \"2020-03-31\", \"casos confirmados\": 209}, {\"index\": 4, \"Grupo de edad\": \"70-79\", \"fecha (a\\u00f1o-mes-d\\u00eda)\": \"2020-03-31\", \"casos confirmados\": 92}, {\"index\": 5, \"Grupo de edad\": \">=80\", \"fecha (a\\u00f1o-mes-d\\u00eda)\": \"2020-03-31\", \"casos confirmados\": 31}, {\"index\": 0, \"Grupo de edad\": \"<=39\", \"fecha (a\\u00f1o-mes-d\\u00eda)\": \"2020-04-01\", \"casos confirmados\": 1335}, {\"index\": 1, \"Grupo de edad\": \"40-49\", \"fecha (a\\u00f1o-mes-d\\u00eda)\": \"2020-04-01\", \"casos confirmados\": 584}, {\"index\": 2, \"Grupo de edad\": \"50-59\", \"fecha (a\\u00f1o-mes-d\\u00eda)\": \"2020-04-01\", \"casos confirmados\": 423}, {\"index\": 3, \"Grupo de edad\": \"60-69\", \"fecha (a\\u00f1o-mes-d\\u00eda)\": \"2020-04-01\", \"casos confirmados\": 243}, {\"index\": 4, \"Grupo de edad\": \"70-79\", \"fecha (a\\u00f1o-mes-d\\u00eda)\": \"2020-04-01\", \"casos confirmados\": 120}, {\"index\": 5, \"Grupo de edad\": \">=80\", \"fecha (a\\u00f1o-mes-d\\u00eda)\": \"2020-04-01\", \"casos confirmados\": 39}, {\"index\": 0, \"Grupo de edad\": \"<=39\", \"fecha (a\\u00f1o-mes-d\\u00eda)\": \"2020-04-02\", \"casos confirmados\": 1434}, {\"index\": 1, \"Grupo de edad\": \"40-49\", \"fecha (a\\u00f1o-mes-d\\u00eda)\": \"2020-04-02\", \"casos confirmados\": 616}, {\"index\": 2, \"Grupo de edad\": \"50-59\", \"fecha (a\\u00f1o-mes-d\\u00eda)\": \"2020-04-02\", \"casos confirmados\": 453}, {\"index\": 3, \"Grupo de edad\": \"60-69\", \"fecha (a\\u00f1o-mes-d\\u00eda)\": \"2020-04-02\", \"casos confirmados\": 264}, {\"index\": 4, \"Grupo de edad\": \"70-79\", \"fecha (a\\u00f1o-mes-d\\u00eda)\": \"2020-04-02\", \"casos confirmados\": 127}, {\"index\": 5, \"Grupo de edad\": \">=80\", \"fecha (a\\u00f1o-mes-d\\u00eda)\": \"2020-04-02\", \"casos confirmados\": 44}, {\"index\": 0, \"Grupo de edad\": \"<=39\", \"fecha (a\\u00f1o-mes-d\\u00eda)\": \"2020-04-03\", \"casos confirmados\": 1678}, {\"index\": 1, \"Grupo de edad\": \"40-49\", \"fecha (a\\u00f1o-mes-d\\u00eda)\": \"2020-04-03\", \"casos confirmados\": 695}, {\"index\": 2, \"Grupo de edad\": \"50-59\", \"fecha (a\\u00f1o-mes-d\\u00eda)\": \"2020-04-03\", \"casos confirmados\": 521}, {\"index\": 3, \"Grupo de edad\": \"60-69\", \"fecha (a\\u00f1o-mes-d\\u00eda)\": \"2020-04-03\", \"casos confirmados\": 296}, {\"index\": 4, \"Grupo de edad\": \"70-79\", \"fecha (a\\u00f1o-mes-d\\u00eda)\": \"2020-04-03\", \"casos confirmados\": 155}, {\"index\": 5, \"Grupo de edad\": \">=80\", \"fecha (a\\u00f1o-mes-d\\u00eda)\": \"2020-04-03\", \"casos confirmados\": 53}, {\"index\": 0, \"Grupo de edad\": \"<=39\", \"fecha (a\\u00f1o-mes-d\\u00eda)\": \"2020-04-04\", \"casos confirmados\": 1866}, {\"index\": 1, \"Grupo de edad\": \"40-49\", \"fecha (a\\u00f1o-mes-d\\u00eda)\": \"2020-04-04\", \"casos confirmados\": 762}, {\"index\": 2, \"Grupo de edad\": \"50-59\", \"fecha (a\\u00f1o-mes-d\\u00eda)\": \"2020-04-04\", \"casos confirmados\": 575}, {\"index\": 3, \"Grupo de edad\": \"60-69\", \"fecha (a\\u00f1o-mes-d\\u00eda)\": \"2020-04-04\", \"casos confirmados\": 336}, {\"index\": 4, \"Grupo de edad\": \"70-79\", \"fecha (a\\u00f1o-mes-d\\u00eda)\": \"2020-04-04\", \"casos confirmados\": 185}, {\"index\": 5, \"Grupo de edad\": \">=80\", \"fecha (a\\u00f1o-mes-d\\u00eda)\": \"2020-04-04\", \"casos confirmados\": 61}, {\"index\": 0, \"Grupo de edad\": \"<=39\", \"fecha (a\\u00f1o-mes-d\\u00eda)\": \"2020-04-05\", \"casos confirmados\": 2007}, {\"index\": 1, \"Grupo de edad\": \"40-49\", \"fecha (a\\u00f1o-mes-d\\u00eda)\": \"2020-04-05\", \"casos confirmados\": 831}, {\"index\": 2, \"Grupo de edad\": \"50-59\", \"fecha (a\\u00f1o-mes-d\\u00eda)\": \"2020-04-05\", \"casos confirmados\": 620}, {\"index\": 3, \"Grupo de edad\": \"60-69\", \"fecha (a\\u00f1o-mes-d\\u00eda)\": \"2020-04-05\", \"casos confirmados\": 354}, {\"index\": 4, \"Grupo de edad\": \"70-79\", \"fecha (a\\u00f1o-mes-d\\u00eda)\": \"2020-04-05\", \"casos confirmados\": 202}, {\"index\": 5, \"Grupo de edad\": \">=80\", \"fecha (a\\u00f1o-mes-d\\u00eda)\": \"2020-04-05\", \"casos confirmados\": 68}, {\"index\": 0, \"Grupo de edad\": \"<=39\", \"fecha (a\\u00f1o-mes-d\\u00eda)\": \"2020-04-06\", \"casos confirmados\": 2140}, {\"index\": 1, \"Grupo de edad\": \"40-49\", \"fecha (a\\u00f1o-mes-d\\u00eda)\": \"2020-04-06\", \"casos confirmados\": 876}, {\"index\": 2, \"Grupo de edad\": \"50-59\", \"fecha (a\\u00f1o-mes-d\\u00eda)\": \"2020-04-06\", \"casos confirmados\": 662}, {\"index\": 3, \"Grupo de edad\": \"60-69\", \"fecha (a\\u00f1o-mes-d\\u00eda)\": \"2020-04-06\", \"casos confirmados\": 377}, {\"index\": 4, \"Grupo de edad\": \"70-79\", \"fecha (a\\u00f1o-mes-d\\u00eda)\": \"2020-04-06\", \"casos confirmados\": 214}, {\"index\": 5, \"Grupo de edad\": \">=80\", \"fecha (a\\u00f1o-mes-d\\u00eda)\": \"2020-04-06\", \"casos confirmados\": 77}, {\"index\": 0, \"Grupo de edad\": \"<=39\", \"fecha (a\\u00f1o-mes-d\\u00eda)\": \"2020-04-07\", \"casos confirmados\": 2257}, {\"index\": 1, \"Grupo de edad\": \"40-49\", \"fecha (a\\u00f1o-mes-d\\u00eda)\": \"2020-04-07\", \"casos confirmados\": 926}, {\"index\": 2, \"Grupo de edad\": \"50-59\", \"fecha (a\\u00f1o-mes-d\\u00eda)\": \"2020-04-07\", \"casos confirmados\": 707}, {\"index\": 3, \"Grupo de edad\": \"60-69\", \"fecha (a\\u00f1o-mes-d\\u00eda)\": \"2020-04-07\", \"casos confirmados\": 415}, {\"index\": 4, \"Grupo de edad\": \"70-79\", \"fecha (a\\u00f1o-mes-d\\u00eda)\": \"2020-04-07\", \"casos confirmados\": 225}, {\"index\": 5, \"Grupo de edad\": \">=80\", \"fecha (a\\u00f1o-mes-d\\u00eda)\": \"2020-04-07\", \"casos confirmados\": 87}, {\"index\": 0, \"Grupo de edad\": \"<=39\", \"fecha (a\\u00f1o-mes-d\\u00eda)\": \"2020-04-08\", \"casos confirmados\": 2636}, {\"index\": 1, \"Grupo de edad\": \"40-49\", \"fecha (a\\u00f1o-mes-d\\u00eda)\": \"2020-04-08\", \"casos confirmados\": 1079}, {\"index\": 2, \"Grupo de edad\": \"50-59\", \"fecha (a\\u00f1o-mes-d\\u00eda)\": \"2020-04-08\", \"casos confirmados\": 839}, {\"index\": 3, \"Grupo de edad\": \"60-69\", \"fecha (a\\u00f1o-mes-d\\u00eda)\": \"2020-04-08\", \"casos confirmados\": 468}, {\"index\": 4, \"Grupo de edad\": \"70-79\", \"fecha (a\\u00f1o-mes-d\\u00eda)\": \"2020-04-08\", \"casos confirmados\": 263}, {\"index\": 5, \"Grupo de edad\": \">=80\", \"fecha (a\\u00f1o-mes-d\\u00eda)\": \"2020-04-08\", \"casos confirmados\": 112}, {\"index\": 0, \"Grupo de edad\": \"<=39\", \"fecha (a\\u00f1o-mes-d\\u00eda)\": \"2020-04-09\", \"casos confirmados\": 2837}, {\"index\": 1, \"Grupo de edad\": \"40-49\", \"fecha (a\\u00f1o-mes-d\\u00eda)\": \"2020-04-09\", \"casos confirmados\": 1153}, {\"index\": 2, \"Grupo de edad\": \"50-59\", \"fecha (a\\u00f1o-mes-d\\u00eda)\": \"2020-04-09\", \"casos confirmados\": 903}, {\"index\": 3, \"Grupo de edad\": \"60-69\", \"fecha (a\\u00f1o-mes-d\\u00eda)\": \"2020-04-09\", \"casos confirmados\": 502}, {\"index\": 4, \"Grupo de edad\": \"70-79\", \"fecha (a\\u00f1o-mes-d\\u00eda)\": \"2020-04-09\", \"casos confirmados\": 284}, {\"index\": 5, \"Grupo de edad\": \">=80\", \"fecha (a\\u00f1o-mes-d\\u00eda)\": \"2020-04-09\", \"casos confirmados\": 131}, {\"index\": 0, \"Grupo de edad\": \"<=39\", \"fecha (a\\u00f1o-mes-d\\u00eda)\": \"2020-04-10\", \"casos confirmados\": 3084}, {\"index\": 1, \"Grupo de edad\": \"40-49\", \"fecha (a\\u00f1o-mes-d\\u00eda)\": \"2020-04-10\", \"casos confirmados\": 1227}, {\"index\": 2, \"Grupo de edad\": \"50-59\", \"fecha (a\\u00f1o-mes-d\\u00eda)\": \"2020-04-10\", \"casos confirmados\": 975}, {\"index\": 3, \"Grupo de edad\": \"60-69\", \"fecha (a\\u00f1o-mes-d\\u00eda)\": \"2020-04-10\", \"casos confirmados\": 544}, {\"index\": 4, \"Grupo de edad\": \"70-79\", \"fecha (a\\u00f1o-mes-d\\u00eda)\": \"2020-04-10\", \"casos confirmados\": 309}, {\"index\": 5, \"Grupo de edad\": \">=80\", \"fecha (a\\u00f1o-mes-d\\u00eda)\": \"2020-04-10\", \"casos confirmados\": 153}, {\"index\": 0, \"Grupo de edad\": \"<=39\", \"fecha (a\\u00f1o-mes-d\\u00eda)\": \"2020-04-11\", \"casos confirmados\": 3302}, {\"index\": 1, \"Grupo de edad\": \"40-49\", \"fecha (a\\u00f1o-mes-d\\u00eda)\": \"2020-04-11\", \"casos confirmados\": 1297}, {\"index\": 2, \"Grupo de edad\": \"50-59\", \"fecha (a\\u00f1o-mes-d\\u00eda)\": \"2020-04-11\", \"casos confirmados\": 1022}, {\"index\": 3, \"Grupo de edad\": \"60-69\", \"fecha (a\\u00f1o-mes-d\\u00eda)\": \"2020-04-11\", \"casos confirmados\": 584}, {\"index\": 4, \"Grupo de edad\": \"70-79\", \"fecha (a\\u00f1o-mes-d\\u00eda)\": \"2020-04-11\", \"casos confirmados\": 328}, {\"index\": 5, \"Grupo de edad\": \">=80\", \"fecha (a\\u00f1o-mes-d\\u00eda)\": \"2020-04-11\", \"casos confirmados\": 169}, {\"index\": 0, \"Grupo de edad\": \"<=39\", \"fecha (a\\u00f1o-mes-d\\u00eda)\": \"2020-04-12\", \"casos confirmados\": 3454}, {\"index\": 1, \"Grupo de edad\": \"40-49\", \"fecha (a\\u00f1o-mes-d\\u00eda)\": \"2020-04-12\", \"casos confirmados\": 1361}, {\"index\": 2, \"Grupo de edad\": \"50-59\", \"fecha (a\\u00f1o-mes-d\\u00eda)\": \"2020-04-12\", \"casos confirmados\": 1068}, {\"index\": 3, \"Grupo de edad\": \"60-69\", \"fecha (a\\u00f1o-mes-d\\u00eda)\": \"2020-04-12\", \"casos confirmados\": 611}, {\"index\": 4, \"Grupo de edad\": \"70-79\", \"fecha (a\\u00f1o-mes-d\\u00eda)\": \"2020-04-12\", \"casos confirmados\": 343}, {\"index\": 5, \"Grupo de edad\": \">=80\", \"fecha (a\\u00f1o-mes-d\\u00eda)\": \"2020-04-12\", \"casos confirmados\": 179}, {\"index\": 0, \"Grupo de edad\": \"<=39\", \"fecha (a\\u00f1o-mes-d\\u00eda)\": \"2020-04-13\", \"casos confirmados\": 3646}, {\"index\": 1, \"Grupo de edad\": \"40-49\", \"fecha (a\\u00f1o-mes-d\\u00eda)\": \"2020-04-13\", \"casos confirmados\": 1451}, {\"index\": 2, \"Grupo de edad\": \"50-59\", \"fecha (a\\u00f1o-mes-d\\u00eda)\": \"2020-04-13\", \"casos confirmados\": 1134}, {\"index\": 3, \"Grupo de edad\": \"60-69\", \"fecha (a\\u00f1o-mes-d\\u00eda)\": \"2020-04-13\", \"casos confirmados\": 643}, {\"index\": 4, \"Grupo de edad\": \"70-79\", \"fecha (a\\u00f1o-mes-d\\u00eda)\": \"2020-04-13\", \"casos confirmados\": 351}, {\"index\": 5, \"Grupo de edad\": \">=80\", \"fecha (a\\u00f1o-mes-d\\u00eda)\": \"2020-04-13\", \"casos confirmados\": 187}, {\"index\": 0, \"Grupo de edad\": \"<=39\", \"fecha (a\\u00f1o-mes-d\\u00eda)\": \"2020-04-14\", \"casos confirmados\": 3806}, {\"index\": 1, \"Grupo de edad\": \"40-49\", \"fecha (a\\u00f1o-mes-d\\u00eda)\": \"2020-04-14\", \"casos confirmados\": 1488}, {\"index\": 2, \"Grupo de edad\": \"50-59\", \"fecha (a\\u00f1o-mes-d\\u00eda)\": \"2020-04-14\", \"casos confirmados\": 1173}, {\"index\": 3, \"Grupo de edad\": \"60-69\", \"fecha (a\\u00f1o-mes-d\\u00eda)\": \"2020-04-14\", \"casos confirmados\": 686}, {\"index\": 4, \"Grupo de edad\": \"70-79\", \"fecha (a\\u00f1o-mes-d\\u00eda)\": \"2020-04-14\", \"casos confirmados\": 366}, {\"index\": 5, \"Grupo de edad\": \">=80\", \"fecha (a\\u00f1o-mes-d\\u00eda)\": \"2020-04-14\", \"casos confirmados\": 197}, {\"index\": 0, \"Grupo de edad\": \"<=39\", \"fecha (a\\u00f1o-mes-d\\u00eda)\": \"2020-04-15\", \"casos confirmados\": 4052}, {\"index\": 1, \"Grupo de edad\": \"40-49\", \"fecha (a\\u00f1o-mes-d\\u00eda)\": \"2020-04-15\", \"casos confirmados\": 1582}, {\"index\": 2, \"Grupo de edad\": \"50-59\", \"fecha (a\\u00f1o-mes-d\\u00eda)\": \"2020-04-15\", \"casos confirmados\": 1251}, {\"index\": 3, \"Grupo de edad\": \"60-69\", \"fecha (a\\u00f1o-mes-d\\u00eda)\": \"2020-04-15\", \"casos confirmados\": 726}, {\"index\": 4, \"Grupo de edad\": \"70-79\", \"fecha (a\\u00f1o-mes-d\\u00eda)\": \"2020-04-15\", \"casos confirmados\": 396}, {\"index\": 5, \"Grupo de edad\": \">=80\", \"fecha (a\\u00f1o-mes-d\\u00eda)\": \"2020-04-15\", \"casos confirmados\": 209}, {\"index\": 0, \"Grupo de edad\": \"<=39\", \"fecha (a\\u00f1o-mes-d\\u00eda)\": \"2020-04-16\", \"casos confirmados\": 4306}, {\"index\": 1, \"Grupo de edad\": \"40-49\", \"fecha (a\\u00f1o-mes-d\\u00eda)\": \"2020-04-16\", \"casos confirmados\": 1684}, {\"index\": 2, \"Grupo de edad\": \"50-59\", \"fecha (a\\u00f1o-mes-d\\u00eda)\": \"2020-04-16\", \"casos confirmados\": 1341}, {\"index\": 3, \"Grupo de edad\": \"60-69\", \"fecha (a\\u00f1o-mes-d\\u00eda)\": \"2020-04-16\", \"casos confirmados\": 766}, {\"index\": 4, \"Grupo de edad\": \"70-79\", \"fecha (a\\u00f1o-mes-d\\u00eda)\": \"2020-04-16\", \"casos confirmados\": 422}, {\"index\": 5, \"Grupo de edad\": \">=80\", \"fecha (a\\u00f1o-mes-d\\u00eda)\": \"2020-04-16\", \"casos confirmados\": 221}, {\"index\": 0, \"Grupo de edad\": \"<=39\", \"fecha (a\\u00f1o-mes-d\\u00eda)\": \"2020-04-17\", \"casos confirmados\": 4555}, {\"index\": 1, \"Grupo de edad\": \"40-49\", \"fecha (a\\u00f1o-mes-d\\u00eda)\": \"2020-04-17\", \"casos confirmados\": 1781}, {\"index\": 2, \"Grupo de edad\": \"50-59\", \"fecha (a\\u00f1o-mes-d\\u00eda)\": \"2020-04-17\", \"casos confirmados\": 1408}, {\"index\": 3, \"Grupo de edad\": \"60-69\", \"fecha (a\\u00f1o-mes-d\\u00eda)\": \"2020-04-17\", \"casos confirmados\": 819}, {\"index\": 4, \"Grupo de edad\": \"70-79\", \"fecha (a\\u00f1o-mes-d\\u00eda)\": \"2020-04-17\", \"casos confirmados\": 451}, {\"index\": 5, \"Grupo de edad\": \">=80\", \"fecha (a\\u00f1o-mes-d\\u00eda)\": \"2020-04-17\", \"casos confirmados\": 238}, {\"index\": 0, \"Grupo de edad\": \"<=39\", \"fecha (a\\u00f1o-mes-d\\u00eda)\": \"2020-04-18\", \"casos confirmados\": 4811}, {\"index\": 1, \"Grupo de edad\": \"40-49\", \"fecha (a\\u00f1o-mes-d\\u00eda)\": \"2020-04-18\", \"casos confirmados\": 1855}, {\"index\": 2, \"Grupo de edad\": \"50-59\", \"fecha (a\\u00f1o-mes-d\\u00eda)\": \"2020-04-18\", \"casos confirmados\": 1477}, {\"index\": 3, \"Grupo de edad\": \"60-69\", \"fecha (a\\u00f1o-mes-d\\u00eda)\": \"2020-04-18\", \"casos confirmados\": 854}, {\"index\": 4, \"Grupo de edad\": \"70-79\", \"fecha (a\\u00f1o-mes-d\\u00eda)\": \"2020-04-18\", \"casos confirmados\": 480}, {\"index\": 5, \"Grupo de edad\": \">=80\", \"fecha (a\\u00f1o-mes-d\\u00eda)\": \"2020-04-18\", \"casos confirmados\": 253}, {\"index\": 0, \"Grupo de edad\": \"<=39\", \"fecha (a\\u00f1o-mes-d\\u00eda)\": \"2020-04-19\", \"casos confirmados\": 4999}, {\"index\": 1, \"Grupo de edad\": \"40-49\", \"fecha (a\\u00f1o-mes-d\\u00eda)\": \"2020-04-19\", \"casos confirmados\": 1926}, {\"index\": 2, \"Grupo de edad\": \"50-59\", \"fecha (a\\u00f1o-mes-d\\u00eda)\": \"2020-04-19\", \"casos confirmados\": 1522}, {\"index\": 3, \"Grupo de edad\": \"60-69\", \"fecha (a\\u00f1o-mes-d\\u00eda)\": \"2020-04-19\", \"casos confirmados\": 873}, {\"index\": 4, \"Grupo de edad\": \"70-79\", \"fecha (a\\u00f1o-mes-d\\u00eda)\": \"2020-04-19\", \"casos confirmados\": 497}, {\"index\": 5, \"Grupo de edad\": \">=80\", \"fecha (a\\u00f1o-mes-d\\u00eda)\": \"2020-04-19\", \"casos confirmados\": 271}, {\"index\": 0, \"Grupo de edad\": \"<=39\", \"fecha (a\\u00f1o-mes-d\\u00eda)\": \"2020-04-20\", \"casos confirmados\": 5200}, {\"index\": 1, \"Grupo de edad\": \"40-49\", \"fecha (a\\u00f1o-mes-d\\u00eda)\": \"2020-04-20\", \"casos confirmados\": 1979}, {\"index\": 2, \"Grupo de edad\": \"50-59\", \"fecha (a\\u00f1o-mes-d\\u00eda)\": \"2020-04-20\", \"casos confirmados\": 1572}, {\"index\": 3, \"Grupo de edad\": \"60-69\", \"fecha (a\\u00f1o-mes-d\\u00eda)\": \"2020-04-20\", \"casos confirmados\": 901}, {\"index\": 4, \"Grupo de edad\": \"70-79\", \"fecha (a\\u00f1o-mes-d\\u00eda)\": \"2020-04-20\", \"casos confirmados\": 515}, {\"index\": 5, \"Grupo de edad\": \">=80\", \"fecha (a\\u00f1o-mes-d\\u00eda)\": \"2020-04-20\", \"casos confirmados\": 284}, {\"index\": 0, \"Grupo de edad\": \"<=39\", \"fecha (a\\u00f1o-mes-d\\u00eda)\": \"2020-04-21\", \"casos confirmados\": 5434}, {\"index\": 1, \"Grupo de edad\": \"40-49\", \"fecha (a\\u00f1o-mes-d\\u00eda)\": \"2020-04-21\", \"casos confirmados\": 2029}, {\"index\": 2, \"Grupo de edad\": \"50-59\", \"fecha (a\\u00f1o-mes-d\\u00eda)\": \"2020-04-21\", \"casos confirmados\": 1620}, {\"index\": 3, \"Grupo de edad\": \"60-69\", \"fecha (a\\u00f1o-mes-d\\u00eda)\": \"2020-04-21\", \"casos confirmados\": 933}, {\"index\": 4, \"Grupo de edad\": \"70-79\", \"fecha (a\\u00f1o-mes-d\\u00eda)\": \"2020-04-21\", \"casos confirmados\": 528}, {\"index\": 5, \"Grupo de edad\": \">=80\", \"fecha (a\\u00f1o-mes-d\\u00eda)\": \"2020-04-21\", \"casos confirmados\": 288}, {\"index\": 0, \"Grupo de edad\": \"<=39\", \"fecha (a\\u00f1o-mes-d\\u00eda)\": \"2020-04-22\", \"casos confirmados\": 5682}, {\"index\": 1, \"Grupo de edad\": \"40-49\", \"fecha (a\\u00f1o-mes-d\\u00eda)\": \"2020-04-22\", \"casos confirmados\": 2102}, {\"index\": 2, \"Grupo de edad\": \"50-59\", \"fecha (a\\u00f1o-mes-d\\u00eda)\": \"2020-04-22\", \"casos confirmados\": 1693}, {\"index\": 3, \"Grupo de edad\": \"60-69\", \"fecha (a\\u00f1o-mes-d\\u00eda)\": \"2020-04-22\", \"casos confirmados\": 971}, {\"index\": 4, \"Grupo de edad\": \"70-79\", \"fecha (a\\u00f1o-mes-d\\u00eda)\": \"2020-04-22\", \"casos confirmados\": 544}, {\"index\": 5, \"Grupo de edad\": \">=80\", \"fecha (a\\u00f1o-mes-d\\u00eda)\": \"2020-04-22\", \"casos confirmados\": 304}, {\"index\": 0, \"Grupo de edad\": \"<=39\", \"fecha (a\\u00f1o-mes-d\\u00eda)\": \"2020-04-23\", \"casos confirmados\": 5951}, {\"index\": 1, \"Grupo de edad\": \"40-49\", \"fecha (a\\u00f1o-mes-d\\u00eda)\": \"2020-04-23\", \"casos confirmados\": 2194}, {\"index\": 2, \"Grupo de edad\": \"50-59\", \"fecha (a\\u00f1o-mes-d\\u00eda)\": \"2020-04-23\", \"casos confirmados\": 1769}, {\"index\": 3, \"Grupo de edad\": \"60-69\", \"fecha (a\\u00f1o-mes-d\\u00eda)\": \"2020-04-23\", \"casos confirmados\": 1017}, {\"index\": 4, \"Grupo de edad\": \"70-79\", \"fecha (a\\u00f1o-mes-d\\u00eda)\": \"2020-04-23\", \"casos confirmados\": 561}, {\"index\": 5, \"Grupo de edad\": \">=80\", \"fecha (a\\u00f1o-mes-d\\u00eda)\": \"2020-04-23\", \"casos confirmados\": 320}, {\"index\": 0, \"Grupo de edad\": \"<=39\", \"fecha (a\\u00f1o-mes-d\\u00eda)\": \"2020-04-24\", \"casos confirmados\": 6178}, {\"index\": 1, \"Grupo de edad\": \"40-49\", \"fecha (a\\u00f1o-mes-d\\u00eda)\": \"2020-04-24\", \"casos confirmados\": 2261}, {\"index\": 2, \"Grupo de edad\": \"50-59\", \"fecha (a\\u00f1o-mes-d\\u00eda)\": \"2020-04-24\", \"casos confirmados\": 1829}, {\"index\": 3, \"Grupo de edad\": \"60-69\", \"fecha (a\\u00f1o-mes-d\\u00eda)\": \"2020-04-24\", \"casos confirmados\": 1048}, {\"index\": 4, \"Grupo de edad\": \"70-79\", \"fecha (a\\u00f1o-mes-d\\u00eda)\": \"2020-04-24\", \"casos confirmados\": 572}, {\"index\": 5, \"Grupo de edad\": \">=80\", \"fecha (a\\u00f1o-mes-d\\u00eda)\": \"2020-04-24\", \"casos confirmados\": 326}, {\"index\": 0, \"Grupo de edad\": \"<=39\", \"fecha (a\\u00f1o-mes-d\\u00eda)\": \"2020-04-25\", \"casos confirmados\": 6495}, {\"index\": 1, \"Grupo de edad\": \"40-49\", \"fecha (a\\u00f1o-mes-d\\u00eda)\": \"2020-04-25\", \"casos confirmados\": 2357}, {\"index\": 2, \"Grupo de edad\": \"50-59\", \"fecha (a\\u00f1o-mes-d\\u00eda)\": \"2020-04-25\", \"casos confirmados\": 1913}, {\"index\": 3, \"Grupo de edad\": \"60-69\", \"fecha (a\\u00f1o-mes-d\\u00eda)\": \"2020-04-25\", \"casos confirmados\": 1083}, {\"index\": 4, \"Grupo de edad\": \"70-79\", \"fecha (a\\u00f1o-mes-d\\u00eda)\": \"2020-04-25\", \"casos confirmados\": 592}, {\"index\": 5, \"Grupo de edad\": \">=80\", \"fecha (a\\u00f1o-mes-d\\u00eda)\": \"2020-04-25\", \"casos confirmados\": 345}, {\"index\": 0, \"Grupo de edad\": \"<=39\", \"fecha (a\\u00f1o-mes-d\\u00eda)\": \"2020-04-26\", \"casos confirmados\": 6772}, {\"index\": 1, \"Grupo de edad\": \"40-49\", \"fecha (a\\u00f1o-mes-d\\u00eda)\": \"2020-04-26\", \"casos confirmados\": 2421}, {\"index\": 2, \"Grupo de edad\": \"50-59\", \"fecha (a\\u00f1o-mes-d\\u00eda)\": \"2020-04-26\", \"casos confirmados\": 1991}, {\"index\": 3, \"Grupo de edad\": \"60-69\", \"fecha (a\\u00f1o-mes-d\\u00eda)\": \"2020-04-26\", \"casos confirmados\": 1115}, {\"index\": 4, \"Grupo de edad\": \"70-79\", \"fecha (a\\u00f1o-mes-d\\u00eda)\": \"2020-04-26\", \"casos confirmados\": 616}, {\"index\": 5, \"Grupo de edad\": \">=80\", \"fecha (a\\u00f1o-mes-d\\u00eda)\": \"2020-04-26\", \"casos confirmados\": 369}, {\"index\": 0, \"Grupo de edad\": \"<=39\", \"fecha (a\\u00f1o-mes-d\\u00eda)\": \"2020-04-27\", \"casos confirmados\": 7006}, {\"index\": 1, \"Grupo de edad\": \"40-49\", \"fecha (a\\u00f1o-mes-d\\u00eda)\": \"2020-04-27\", \"casos confirmados\": 2492}, {\"index\": 2, \"Grupo de edad\": \"50-59\", \"fecha (a\\u00f1o-mes-d\\u00eda)\": \"2020-04-27\", \"casos confirmados\": 2036}, {\"index\": 3, \"Grupo de edad\": \"60-69\", \"fecha (a\\u00f1o-mes-d\\u00eda)\": \"2020-04-27\", \"casos confirmados\": 1156}, {\"index\": 4, \"Grupo de edad\": \"70-79\", \"fecha (a\\u00f1o-mes-d\\u00eda)\": \"2020-04-27\", \"casos confirmados\": 627}, {\"index\": 5, \"Grupo de edad\": \">=80\", \"fecha (a\\u00f1o-mes-d\\u00eda)\": \"2020-04-27\", \"casos confirmados\": 387}, {\"index\": 0, \"Grupo de edad\": \"<=39\", \"fecha (a\\u00f1o-mes-d\\u00eda)\": \"2020-04-28\", \"casos confirmados\": 7358}, {\"index\": 1, \"Grupo de edad\": \"40-49\", \"fecha (a\\u00f1o-mes-d\\u00eda)\": \"2020-04-28\", \"casos confirmados\": 2597}, {\"index\": 2, \"Grupo de edad\": \"50-59\", \"fecha (a\\u00f1o-mes-d\\u00eda)\": \"2020-04-28\", \"casos confirmados\": 2118}, {\"index\": 3, \"Grupo de edad\": \"60-69\", \"fecha (a\\u00f1o-mes-d\\u00eda)\": \"2020-04-28\", \"casos confirmados\": 1206}, {\"index\": 4, \"Grupo de edad\": \"70-79\", \"fecha (a\\u00f1o-mes-d\\u00eda)\": \"2020-04-28\", \"casos confirmados\": 664}, {\"index\": 5, \"Grupo de edad\": \">=80\", \"fecha (a\\u00f1o-mes-d\\u00eda)\": \"2020-04-28\", \"casos confirmados\": 419}, {\"index\": 0, \"Grupo de edad\": \"<=39\", \"fecha (a\\u00f1o-mes-d\\u00eda)\": \"2020-05-01\", \"casos confirmados\": 8841}, {\"index\": 1, \"Grupo de edad\": \"40-49\", \"fecha (a\\u00f1o-mes-d\\u00eda)\": \"2020-05-01\", \"casos confirmados\": 3038}, {\"index\": 2, \"Grupo de edad\": \"50-59\", \"fecha (a\\u00f1o-mes-d\\u00eda)\": \"2020-05-01\", \"casos confirmados\": 2507}, {\"index\": 3, \"Grupo de edad\": \"60-69\", \"fecha (a\\u00f1o-mes-d\\u00eda)\": \"2020-05-01\", \"casos confirmados\": 1387}, {\"index\": 4, \"Grupo de edad\": \"70-79\", \"fecha (a\\u00f1o-mes-d\\u00eda)\": \"2020-05-01\", \"casos confirmados\": 746}, {\"index\": 5, \"Grupo de edad\": \">=80\", \"fecha (a\\u00f1o-mes-d\\u00eda)\": \"2020-05-01\", \"casos confirmados\": 489}, {\"index\": 0, \"Grupo de edad\": \"<=39\", \"fecha (a\\u00f1o-mes-d\\u00eda)\": \"2020-05-02\", \"casos confirmados\": 9636}, {\"index\": 1, \"Grupo de edad\": \"40-49\", \"fecha (a\\u00f1o-mes-d\\u00eda)\": \"2020-05-02\", \"casos confirmados\": 3287}, {\"index\": 2, \"Grupo de edad\": \"50-59\", \"fecha (a\\u00f1o-mes-d\\u00eda)\": \"2020-05-02\", \"casos confirmados\": 2709}, {\"index\": 3, \"Grupo de edad\": \"60-69\", \"fecha (a\\u00f1o-mes-d\\u00eda)\": \"2020-05-02\", \"casos confirmados\": 1503}, {\"index\": 4, \"Grupo de edad\": \"70-79\", \"fecha (a\\u00f1o-mes-d\\u00eda)\": \"2020-05-02\", \"casos confirmados\": 787}, {\"index\": 5, \"Grupo de edad\": \">=80\", \"fecha (a\\u00f1o-mes-d\\u00eda)\": \"2020-05-02\", \"casos confirmados\": 511}, {\"index\": 0, \"Grupo de edad\": \"<=39\", \"fecha (a\\u00f1o-mes-d\\u00eda)\": \"2020-05-04\", \"casos confirmados\": 10795}, {\"index\": 1, \"Grupo de edad\": \"40-49\", \"fecha (a\\u00f1o-mes-d\\u00eda)\": \"2020-05-04\", \"casos confirmados\": 3625}, {\"index\": 2, \"Grupo de edad\": \"50-59\", \"fecha (a\\u00f1o-mes-d\\u00eda)\": \"2020-05-04\", \"casos confirmados\": 3023}, {\"index\": 3, \"Grupo de edad\": \"60-69\", \"fecha (a\\u00f1o-mes-d\\u00eda)\": \"2020-05-04\", \"casos confirmados\": 1680}, {\"index\": 4, \"Grupo de edad\": \"70-79\", \"fecha (a\\u00f1o-mes-d\\u00eda)\": \"2020-05-04\", \"casos confirmados\": 877}, {\"index\": 5, \"Grupo de edad\": \">=80\", \"fecha (a\\u00f1o-mes-d\\u00eda)\": \"2020-05-04\", \"casos confirmados\": 567}, {\"index\": 0, \"Grupo de edad\": \"<=39\", \"fecha (a\\u00f1o-mes-d\\u00eda)\": \"2020-05-06\", \"casos confirmados\": 12183}, {\"index\": 1, \"Grupo de edad\": \"40-49\", \"fecha (a\\u00f1o-mes-d\\u00eda)\": \"2020-05-06\", \"casos confirmados\": 4029}, {\"index\": 2, \"Grupo de edad\": \"50-59\", \"fecha (a\\u00f1o-mes-d\\u00eda)\": \"2020-05-06\", \"casos confirmados\": 3361}, {\"index\": 3, \"Grupo de edad\": \"60-69\", \"fecha (a\\u00f1o-mes-d\\u00eda)\": \"2020-05-06\", \"casos confirmados\": 1864}, {\"index\": 4, \"Grupo de edad\": \"70-79\", \"fecha (a\\u00f1o-mes-d\\u00eda)\": \"2020-05-06\", \"casos confirmados\": 952}, {\"index\": 5, \"Grupo de edad\": \">=80\", \"fecha (a\\u00f1o-mes-d\\u00eda)\": \"2020-05-06\", \"casos confirmados\": 622}, {\"index\": 0, \"Grupo de edad\": \"<=39\", \"fecha (a\\u00f1o-mes-d\\u00eda)\": \"2020-05-08\", \"casos confirmados\": 13750}, {\"index\": 1, \"Grupo de edad\": \"40-49\", \"fecha (a\\u00f1o-mes-d\\u00eda)\": \"2020-05-08\", \"casos confirmados\": 4556}, {\"index\": 2, \"Grupo de edad\": \"50-59\", \"fecha (a\\u00f1o-mes-d\\u00eda)\": \"2020-05-08\", \"casos confirmados\": 3768}, {\"index\": 3, \"Grupo de edad\": \"60-69\", \"fecha (a\\u00f1o-mes-d\\u00eda)\": \"2020-05-08\", \"casos confirmados\": 2138}, {\"index\": 4, \"Grupo de edad\": \"70-79\", \"fecha (a\\u00f1o-mes-d\\u00eda)\": \"2020-05-08\", \"casos confirmados\": 1052}, {\"index\": 5, \"Grupo de edad\": \">=80\", \"fecha (a\\u00f1o-mes-d\\u00eda)\": \"2020-05-08\", \"casos confirmados\": 688}, {\"index\": 0, \"Grupo de edad\": \"<=39\", \"fecha (a\\u00f1o-mes-d\\u00eda)\": \"2020-05-11\", \"casos confirmados\": 16047}, {\"index\": 1, \"Grupo de edad\": \"40-49\", \"fecha (a\\u00f1o-mes-d\\u00eda)\": \"2020-05-11\", \"casos confirmados\": 5219}, {\"index\": 2, \"Grupo de edad\": \"50-59\", \"fecha (a\\u00f1o-mes-d\\u00eda)\": \"2020-05-11\", \"casos confirmados\": 4314}, {\"index\": 3, \"Grupo de edad\": \"60-69\", \"fecha (a\\u00f1o-mes-d\\u00eda)\": \"2020-05-11\", \"casos confirmados\": 2470}, {\"index\": 4, \"Grupo de edad\": \"70-79\", \"fecha (a\\u00f1o-mes-d\\u00eda)\": \"2020-05-11\", \"casos confirmados\": 1208}, {\"index\": 5, \"Grupo de edad\": \">=80\", \"fecha (a\\u00f1o-mes-d\\u00eda)\": \"2020-05-11\", \"casos confirmados\": 789}, {\"index\": 0, \"Grupo de edad\": \"<=39\", \"fecha (a\\u00f1o-mes-d\\u00eda)\": \"2020-05-15\", \"casos confirmados\": 21306}, {\"index\": 1, \"Grupo de edad\": \"40-49\", \"fecha (a\\u00f1o-mes-d\\u00eda)\": \"2020-05-15\", \"casos confirmados\": 6821}, {\"index\": 2, \"Grupo de edad\": \"50-59\", \"fecha (a\\u00f1o-mes-d\\u00eda)\": \"2020-05-15\", \"casos confirmados\": 5674}, {\"index\": 3, \"Grupo de edad\": \"60-69\", \"fecha (a\\u00f1o-mes-d\\u00eda)\": \"2020-05-15\", \"casos confirmados\": 3190}, {\"index\": 4, \"Grupo de edad\": \"70-79\", \"fecha (a\\u00f1o-mes-d\\u00eda)\": \"2020-05-15\", \"casos confirmados\": 1541}, {\"index\": 5, \"Grupo de edad\": \">=80\", \"fecha (a\\u00f1o-mes-d\\u00eda)\": \"2020-05-15\", \"casos confirmados\": 979}, {\"index\": 0, \"Grupo de edad\": \"<=39\", \"fecha (a\\u00f1o-mes-d\\u00eda)\": \"2020-05-18\", \"casos confirmados\": 24830}, {\"index\": 1, \"Grupo de edad\": \"40-49\", \"fecha (a\\u00f1o-mes-d\\u00eda)\": \"2020-05-18\", \"casos confirmados\": 7953}, {\"index\": 2, \"Grupo de edad\": \"50-59\", \"fecha (a\\u00f1o-mes-d\\u00eda)\": \"2020-05-18\", \"casos confirmados\": 6624}, {\"index\": 3, \"Grupo de edad\": \"60-69\", \"fecha (a\\u00f1o-mes-d\\u00eda)\": \"2020-05-18\", \"casos confirmados\": 3748}, {\"index\": 4, \"Grupo de edad\": \"70-79\", \"fecha (a\\u00f1o-mes-d\\u00eda)\": \"2020-05-18\", \"casos confirmados\": 1785}, {\"index\": 5, \"Grupo de edad\": \">=80\", \"fecha (a\\u00f1o-mes-d\\u00eda)\": \"2020-05-18\", \"casos confirmados\": 1108}, {\"index\": 0, \"Grupo de edad\": \"<=39\", \"fecha (a\\u00f1o-mes-d\\u00eda)\": \"2020-05-22\", \"casos confirmados\": 33248}, {\"index\": 1, \"Grupo de edad\": \"40-49\", \"fecha (a\\u00f1o-mes-d\\u00eda)\": \"2020-05-22\", \"casos confirmados\": 10674}, {\"index\": 2, \"Grupo de edad\": \"50-59\", \"fecha (a\\u00f1o-mes-d\\u00eda)\": \"2020-05-22\", \"casos confirmados\": 9078}, {\"index\": 3, \"Grupo de edad\": \"60-69\", \"fecha (a\\u00f1o-mes-d\\u00eda)\": \"2020-05-22\", \"casos confirmados\": 5061}, {\"index\": 4, \"Grupo de edad\": \"70-79\", \"fecha (a\\u00f1o-mes-d\\u00eda)\": \"2020-05-22\", \"casos confirmados\": 2372}, {\"index\": 5, \"Grupo de edad\": \">=80\", \"fecha (a\\u00f1o-mes-d\\u00eda)\": \"2020-05-22\", \"casos confirmados\": 1415}, {\"index\": 0, \"Grupo de edad\": \"<=39\", \"fecha (a\\u00f1o-mes-d\\u00eda)\": \"2020-05-25\", \"casos confirmados\": 39590}, {\"index\": 1, \"Grupo de edad\": \"40-49\", \"fecha (a\\u00f1o-mes-d\\u00eda)\": \"2020-05-25\", \"casos confirmados\": 12938}, {\"index\": 2, \"Grupo de edad\": \"50-59\", \"fecha (a\\u00f1o-mes-d\\u00eda)\": \"2020-05-25\", \"casos confirmados\": 10932}, {\"index\": 3, \"Grupo de edad\": \"60-69\", \"fecha (a\\u00f1o-mes-d\\u00eda)\": \"2020-05-25\", \"casos confirmados\": 6021}, {\"index\": 4, \"Grupo de edad\": \"70-79\", \"fecha (a\\u00f1o-mes-d\\u00eda)\": \"2020-05-25\", \"casos confirmados\": 2822}, {\"index\": 5, \"Grupo de edad\": \">=80\", \"fecha (a\\u00f1o-mes-d\\u00eda)\": \"2020-05-25\", \"casos confirmados\": 1692}, {\"index\": 0, \"Grupo de edad\": \"<=39\", \"fecha (a\\u00f1o-mes-d\\u00eda)\": \"2020-05-29\", \"casos confirmados\": 48246}, {\"index\": 1, \"Grupo de edad\": \"40-49\", \"fecha (a\\u00f1o-mes-d\\u00eda)\": \"2020-05-29\", \"casos confirmados\": 15665}, {\"index\": 2, \"Grupo de edad\": \"50-59\", \"fecha (a\\u00f1o-mes-d\\u00eda)\": \"2020-05-29\", \"casos confirmados\": 13525}, {\"index\": 3, \"Grupo de edad\": \"60-69\", \"fecha (a\\u00f1o-mes-d\\u00eda)\": \"2020-05-29\", \"casos confirmados\": 7515}, {\"index\": 4, \"Grupo de edad\": \"70-79\", \"fecha (a\\u00f1o-mes-d\\u00eda)\": \"2020-05-29\", \"casos confirmados\": 3548}, {\"index\": 5, \"Grupo de edad\": \">=80\", \"fecha (a\\u00f1o-mes-d\\u00eda)\": \"2020-05-29\", \"casos confirmados\": 2135}, {\"index\": 0, \"Grupo de edad\": \"<=39\", \"fecha (a\\u00f1o-mes-d\\u00eda)\": \"2020-06-01\", \"casos confirmados\": 55579}, {\"index\": 1, \"Grupo de edad\": \"40-49\", \"fecha (a\\u00f1o-mes-d\\u00eda)\": \"2020-06-01\", \"casos confirmados\": 18150}, {\"index\": 2, \"Grupo de edad\": \"50-59\", \"fecha (a\\u00f1o-mes-d\\u00eda)\": \"2020-06-01\", \"casos confirmados\": 15817}, {\"index\": 3, \"Grupo de edad\": \"60-69\", \"fecha (a\\u00f1o-mes-d\\u00eda)\": \"2020-06-01\", \"casos confirmados\": 8836}, {\"index\": 4, \"Grupo de edad\": \"70-79\", \"fecha (a\\u00f1o-mes-d\\u00eda)\": \"2020-06-01\", \"casos confirmados\": 4249}, {\"index\": 5, \"Grupo de edad\": \">=80\", \"fecha (a\\u00f1o-mes-d\\u00eda)\": \"2020-06-01\", \"casos confirmados\": 2526}, {\"index\": 0, \"Grupo de edad\": \"<=39\", \"fecha (a\\u00f1o-mes-d\\u00eda)\": \"2020-06-05\", \"casos confirmados\": 64367}, {\"index\": 1, \"Grupo de edad\": \"40-49\", \"fecha (a\\u00f1o-mes-d\\u00eda)\": \"2020-06-05\", \"casos confirmados\": 21192}, {\"index\": 2, \"Grupo de edad\": \"50-59\", \"fecha (a\\u00f1o-mes-d\\u00eda)\": \"2020-06-05\", \"casos confirmados\": 18555}, {\"index\": 3, \"Grupo de edad\": \"60-69\", \"fecha (a\\u00f1o-mes-d\\u00eda)\": \"2020-06-05\", \"casos confirmados\": 10378}, {\"index\": 4, \"Grupo de edad\": \"70-79\", \"fecha (a\\u00f1o-mes-d\\u00eda)\": \"2020-06-05\", \"casos confirmados\": 5033}, {\"index\": 5, \"Grupo de edad\": \">=80\", \"fecha (a\\u00f1o-mes-d\\u00eda)\": \"2020-06-05\", \"casos confirmados\": 2970}, {\"index\": 0, \"Grupo de edad\": \"<=39\", \"fecha (a\\u00f1o-mes-d\\u00eda)\": \"2020-06-08\", \"casos confirmados\": 72445}, {\"index\": 1, \"Grupo de edad\": \"40-49\", \"fecha (a\\u00f1o-mes-d\\u00eda)\": \"2020-06-08\", \"casos confirmados\": 24095}, {\"index\": 2, \"Grupo de edad\": \"50-59\", \"fecha (a\\u00f1o-mes-d\\u00eda)\": \"2020-06-08\", \"casos confirmados\": 21225}, {\"index\": 3, \"Grupo de edad\": \"60-69\", \"fecha (a\\u00f1o-mes-d\\u00eda)\": \"2020-06-08\", \"casos confirmados\": 11880}, {\"index\": 4, \"Grupo de edad\": \"70-79\", \"fecha (a\\u00f1o-mes-d\\u00eda)\": \"2020-06-08\", \"casos confirmados\": 5771}, {\"index\": 5, \"Grupo de edad\": \">=80\", \"fecha (a\\u00f1o-mes-d\\u00eda)\": \"2020-06-08\", \"casos confirmados\": 3426}, {\"index\": 0, \"Grupo de edad\": \"<=39\", \"fecha (a\\u00f1o-mes-d\\u00eda)\": \"2020-06-12\", \"casos confirmados\": 83297}, {\"index\": 1, \"Grupo de edad\": \"40-49\", \"fecha (a\\u00f1o-mes-d\\u00eda)\": \"2020-06-12\", \"casos confirmados\": 27767}, {\"index\": 2, \"Grupo de edad\": \"50-59\", \"fecha (a\\u00f1o-mes-d\\u00eda)\": \"2020-06-12\", \"casos confirmados\": 24756}, {\"index\": 3, \"Grupo de edad\": \"60-69\", \"fecha (a\\u00f1o-mes-d\\u00eda)\": \"2020-06-12\", \"casos confirmados\": 14011}, {\"index\": 4, \"Grupo de edad\": \"70-79\", \"fecha (a\\u00f1o-mes-d\\u00eda)\": \"2020-06-12\", \"casos confirmados\": 6827}, {\"index\": 5, \"Grupo de edad\": \">=80\", \"fecha (a\\u00f1o-mes-d\\u00eda)\": \"2020-06-12\", \"casos confirmados\": 4182}, {\"index\": 0, \"Grupo de edad\": \"<=39\", \"fecha (a\\u00f1o-mes-d\\u00eda)\": \"2020-06-15\", \"casos confirmados\": 92142}, {\"index\": 1, \"Grupo de edad\": \"40-49\", \"fecha (a\\u00f1o-mes-d\\u00eda)\": \"2020-06-15\", \"casos confirmados\": 31008}, {\"index\": 2, \"Grupo de edad\": \"50-59\", \"fecha (a\\u00f1o-mes-d\\u00eda)\": \"2020-06-15\", \"casos confirmados\": 28049}, {\"index\": 3, \"Grupo de edad\": \"60-69\", \"fecha (a\\u00f1o-mes-d\\u00eda)\": \"2020-06-15\", \"casos confirmados\": 15780}, {\"index\": 4, \"Grupo de edad\": \"70-79\", \"fecha (a\\u00f1o-mes-d\\u00eda)\": \"2020-06-15\", \"casos confirmados\": 7737}, {\"index\": 5, \"Grupo de edad\": \">=80\", \"fecha (a\\u00f1o-mes-d\\u00eda)\": \"2020-06-15\", \"casos confirmados\": 4714}, {\"index\": 0, \"Grupo de edad\": \"<=39\", \"fecha (a\\u00f1o-mes-d\\u00eda)\": \"2020-06-19\", \"casos confirmados\": 119298}, {\"index\": 1, \"Grupo de edad\": \"40-49\", \"fecha (a\\u00f1o-mes-d\\u00eda)\": \"2020-06-19\", \"casos confirmados\": 39668}, {\"index\": 2, \"Grupo de edad\": \"50-59\", \"fecha (a\\u00f1o-mes-d\\u00eda)\": \"2020-06-19\", \"casos confirmados\": 36128}, {\"index\": 3, \"Grupo de edad\": \"60-69\", \"fecha (a\\u00f1o-mes-d\\u00eda)\": \"2020-06-19\", \"casos confirmados\": 20250}, {\"index\": 4, \"Grupo de edad\": \"70-79\", \"fecha (a\\u00f1o-mes-d\\u00eda)\": \"2020-06-19\", \"casos confirmados\": 9905}, {\"index\": 5, \"Grupo de edad\": \">=80\", \"fecha (a\\u00f1o-mes-d\\u00eda)\": \"2020-06-19\", \"casos confirmados\": 6103}, {\"index\": 0, \"Grupo de edad\": \"<=39\", \"fecha (a\\u00f1o-mes-d\\u00eda)\": \"2020-06-23\", \"casos confirmados\": 131528}, {\"index\": 1, \"Grupo de edad\": \"40-49\", \"fecha (a\\u00f1o-mes-d\\u00eda)\": \"2020-06-23\", \"casos confirmados\": 43710}, {\"index\": 2, \"Grupo de edad\": \"50-59\", \"fecha (a\\u00f1o-mes-d\\u00eda)\": \"2020-06-23\", \"casos confirmados\": 39940}, {\"index\": 3, \"Grupo de edad\": \"60-69\", \"fecha (a\\u00f1o-mes-d\\u00eda)\": \"2020-06-23\", \"casos confirmados\": 22457}, {\"index\": 4, \"Grupo de edad\": \"70-79\", \"fecha (a\\u00f1o-mes-d\\u00eda)\": \"2020-06-23\", \"casos confirmados\": 10922}, {\"index\": 5, \"Grupo de edad\": \">=80\", \"fecha (a\\u00f1o-mes-d\\u00eda)\": \"2020-06-23\", \"casos confirmados\": 6804}, {\"index\": 0, \"Grupo de edad\": \"<=39\", \"fecha (a\\u00f1o-mes-d\\u00eda)\": \"2020-06-28\", \"casos confirmados\": 144968}, {\"index\": 1, \"Grupo de edad\": \"40-49\", \"fecha (a\\u00f1o-mes-d\\u00eda)\": \"2020-06-28\", \"casos confirmados\": 48112}, {\"index\": 2, \"Grupo de edad\": \"50-59\", \"fecha (a\\u00f1o-mes-d\\u00eda)\": \"2020-06-28\", \"casos confirmados\": 43958}, {\"index\": 3, \"Grupo de edad\": \"60-69\", \"fecha (a\\u00f1o-mes-d\\u00eda)\": \"2020-06-28\", \"casos confirmados\": 24809}, {\"index\": 4, \"Grupo de edad\": \"70-79\", \"fecha (a\\u00f1o-mes-d\\u00eda)\": \"2020-06-28\", \"casos confirmados\": 12067}, {\"index\": 5, \"Grupo de edad\": \">=80\", \"fecha (a\\u00f1o-mes-d\\u00eda)\": \"2020-06-28\", \"casos confirmados\": 7544}, {\"index\": 0, \"Grupo de edad\": \"<=39\", \"fecha (a\\u00f1o-mes-d\\u00eda)\": \"2020-07-01\", \"casos confirmados\": 150348}, {\"index\": 1, \"Grupo de edad\": \"40-49\", \"fecha (a\\u00f1o-mes-d\\u00eda)\": \"2020-07-01\", \"casos confirmados\": 49910}, {\"index\": 2, \"Grupo de edad\": \"50-59\", \"fecha (a\\u00f1o-mes-d\\u00eda)\": \"2020-07-01\", \"casos confirmados\": 45651}, {\"index\": 3, \"Grupo de edad\": \"60-69\", \"fecha (a\\u00f1o-mes-d\\u00eda)\": \"2020-07-01\", \"casos confirmados\": 25838}, {\"index\": 4, \"Grupo de edad\": \"70-79\", \"fecha (a\\u00f1o-mes-d\\u00eda)\": \"2020-07-01\", \"casos confirmados\": 12594}, {\"index\": 5, \"Grupo de edad\": \">=80\", \"fecha (a\\u00f1o-mes-d\\u00eda)\": \"2020-07-01\", \"casos confirmados\": 7847}, {\"index\": 0, \"Grupo de edad\": \"<=39\", \"fecha (a\\u00f1o-mes-d\\u00eda)\": \"2020-07-05\", \"casos confirmados\": 158970}, {\"index\": 1, \"Grupo de edad\": \"40-49\", \"fecha (a\\u00f1o-mes-d\\u00eda)\": \"2020-07-05\", \"casos confirmados\": 52793}, {\"index\": 2, \"Grupo de edad\": \"50-59\", \"fecha (a\\u00f1o-mes-d\\u00eda)\": \"2020-07-05\", \"casos confirmados\": 48431}, {\"index\": 3, \"Grupo de edad\": \"60-69\", \"fecha (a\\u00f1o-mes-d\\u00eda)\": \"2020-07-05\", \"casos confirmados\": 27482}, {\"index\": 4, \"Grupo de edad\": \"70-79\", \"fecha (a\\u00f1o-mes-d\\u00eda)\": \"2020-07-05\", \"casos confirmados\": 13360}, {\"index\": 5, \"Grupo de edad\": \">=80\", \"fecha (a\\u00f1o-mes-d\\u00eda)\": \"2020-07-05\", \"casos confirmados\": 8320}]}}, {\"mode\": \"vega-lite\"});\n",
       "</script>"
      ],
      "text/plain": [
       "alt.HConcatChart(...)"
      ]
     },
     "execution_count": 118,
     "metadata": {},
     "output_type": "execute_result"
    }
   ],
   "source": [
    "#hide_input\n",
    "input_dropdown = alt.binding_select(options=data['Grupo de edad'].unique())\n",
    "selection1 = alt.selection_single(fields=['Grupo de edad'], bind=input_dropdown, name=' ')\n",
    "selection2 = alt.selection_multi(fields=['Grupo de edad'], on='mouseover')\n",
    "\n",
    "color = alt.condition(selection1 | selection2,\n",
    "                    alt.Color('Grupo de edad:N', scale=alt.Scale(scheme='tableau20'), legend=None),\n",
    "                    alt.value('lightgray'))\n",
    "\n",
    "bars = alt.Chart(cases).mark_bar().encode(\n",
    "    x = 'fecha (año-mes-día):N',\n",
    "    y = 'casos confirmados:Q',\n",
    "    color = color,\n",
    "    tooltip = ['fecha (año-mes-día)', 'Grupo de edad', 'casos confirmados'],\n",
    "    order=alt.Order(\n",
    "    # Sort the segments of the bars by this field\n",
    "    'index',\n",
    "    sort='descending'\n",
    "    )\n",
    ").add_selection(\n",
    "    selection1, selection2\n",
    ").transform_filter(\n",
    "    selection1\n",
    ")\n",
    "\n",
    "legend = alt.Chart(cases).mark_point().encode(\n",
    "    y=alt.Y('Grupo de edad', axis=alt.Axis(orient='right'), sort=grupo_de_edad),\n",
    "    color=color\n",
    ").add_selection(\n",
    "    selection1, selection2\n",
    ")\n",
    "\n",
    "bars.properties(\n",
    "    title = 'COVID-19 en Chile: Evolución de casos confirmados por rango de edad',\n",
    "    width = 600\n",
    ") | legend"
   ]
  },
  {
   "cell_type": "code",
   "execution_count": 119,
   "metadata": {},
   "outputs": [
    {
     "data": {
      "text/html": [
       "\n",
       "<div id=\"altair-viz-c64909e6c8ab465cb32b6d205fde8e05\"></div>\n",
       "<script type=\"text/javascript\">\n",
       "  (function(spec, embedOpt){\n",
       "    let outputDiv = document.currentScript.previousElementSibling;\n",
       "    if (outputDiv.id !== \"altair-viz-c64909e6c8ab465cb32b6d205fde8e05\") {\n",
       "      outputDiv = document.getElementById(\"altair-viz-c64909e6c8ab465cb32b6d205fde8e05\");\n",
       "    }\n",
       "    const paths = {\n",
       "      \"vega\": \"https://cdn.jsdelivr.net/npm//vega@5?noext\",\n",
       "      \"vega-lib\": \"https://cdn.jsdelivr.net/npm//vega-lib?noext\",\n",
       "      \"vega-lite\": \"https://cdn.jsdelivr.net/npm//vega-lite@4.8.1?noext\",\n",
       "      \"vega-embed\": \"https://cdn.jsdelivr.net/npm//vega-embed@6?noext\",\n",
       "    };\n",
       "\n",
       "    function loadScript(lib) {\n",
       "      return new Promise(function(resolve, reject) {\n",
       "        var s = document.createElement('script');\n",
       "        s.src = paths[lib];\n",
       "        s.async = true;\n",
       "        s.onload = () => resolve(paths[lib]);\n",
       "        s.onerror = () => reject(`Error loading script: ${paths[lib]}`);\n",
       "        document.getElementsByTagName(\"head\")[0].appendChild(s);\n",
       "      });\n",
       "    }\n",
       "\n",
       "    function showError(err) {\n",
       "      outputDiv.innerHTML = `<div class=\"error\" style=\"color:red;\">${err}</div>`;\n",
       "      throw err;\n",
       "    }\n",
       "\n",
       "    function displayChart(vegaEmbed) {\n",
       "      vegaEmbed(outputDiv, spec, embedOpt)\n",
       "        .catch(err => showError(`Javascript Error: ${err.message}<br>This usually means there's a typo in your chart specification. See the javascript console for the full traceback.`));\n",
       "    }\n",
       "\n",
       "    if(typeof define === \"function\" && define.amd) {\n",
       "      requirejs.config({paths});\n",
       "      require([\"vega-embed\"], displayChart, err => showError(`Error loading script: ${err.message}`));\n",
       "    } else if (typeof vegaEmbed === \"function\") {\n",
       "      displayChart(vegaEmbed);\n",
       "    } else {\n",
       "      loadScript(\"vega\")\n",
       "        .then(() => loadScript(\"vega-lite\"))\n",
       "        .then(() => loadScript(\"vega-embed\"))\n",
       "        .catch(showError)\n",
       "        .then(() => displayChart(vegaEmbed));\n",
       "    }\n",
       "  })({\"config\": {\"view\": {\"continuousWidth\": 400, \"continuousHeight\": 300}}, \"hconcat\": [{\"mark\": \"area\", \"encoding\": {\"color\": {\"condition\": {\"type\": \"nominal\", \"field\": \"Grupo de edad\", \"legend\": null, \"scale\": {\"scheme\": \"tableau20\"}, \"selection\": \"selector004\"}, \"value\": \"lightgray\"}, \"order\": {\"type\": \"quantitative\", \"field\": \"index\", \"sort\": \"descending\"}, \"tooltip\": [{\"type\": \"nominal\", \"field\": \"fecha (a\\u00f1o-mes-d\\u00eda)\"}, {\"type\": \"nominal\", \"field\": \"Grupo de edad\"}, {\"type\": \"quantitative\", \"field\": \"casos confirmados\"}], \"x\": {\"type\": \"nominal\", \"field\": \"fecha (a\\u00f1o-mes-d\\u00eda)\"}, \"y\": {\"type\": \"quantitative\", \"field\": \"casos confirmados\", \"stack\": \"normalize\"}}, \"selection\": {\"selector004\": {\"type\": \"multi\", \"fields\": [\"Grupo de edad\"], \"on\": \"mouseover\"}}, \"title\": \"COVID-19 en Chile: Evoluci\\u00f3n de casos confirmados por rango de edad\", \"width\": 600}, {\"mark\": \"point\", \"encoding\": {\"color\": {\"condition\": {\"type\": \"nominal\", \"field\": \"Grupo de edad\", \"legend\": null, \"scale\": {\"scheme\": \"tableau20\"}, \"selection\": \"selector004\"}, \"value\": \"lightgray\"}, \"y\": {\"type\": \"nominal\", \"axis\": {\"orient\": \"right\"}, \"field\": \"Grupo de edad\", \"sort\": [\"<=39\", \"40-49\", \"50-59\", \"60-69\", \"70-79\", \"80-89\", \">=90\"]}}, \"selection\": {\"selector004\": {\"type\": \"multi\", \"fields\": [\"Grupo de edad\"], \"on\": \"mouseover\"}}}], \"data\": {\"name\": \"data-a609beae160624aa0a8051a52a0e860f\"}, \"$schema\": \"https://vega.github.io/schema/vega-lite/v4.8.1.json\", \"datasets\": {\"data-a609beae160624aa0a8051a52a0e860f\": [{\"index\": 0, \"Grupo de edad\": \"<=39\", \"fecha (a\\u00f1o-mes-d\\u00eda)\": \"2020-03-25\", \"casos confirmados\": 558}, {\"index\": 1, \"Grupo de edad\": \"40-49\", \"fecha (a\\u00f1o-mes-d\\u00eda)\": \"2020-03-25\", \"casos confirmados\": 220}, {\"index\": 2, \"Grupo de edad\": \"50-59\", \"fecha (a\\u00f1o-mes-d\\u00eda)\": \"2020-03-25\", \"casos confirmados\": 119}, {\"index\": 3, \"Grupo de edad\": \"60-69\", \"fecha (a\\u00f1o-mes-d\\u00eda)\": \"2020-03-25\", \"casos confirmados\": 69}, {\"index\": 4, \"Grupo de edad\": \"70-79\", \"fecha (a\\u00f1o-mes-d\\u00eda)\": \"2020-03-25\", \"casos confirmados\": 38}, {\"index\": 5, \"Grupo de edad\": \">=80\", \"fecha (a\\u00f1o-mes-d\\u00eda)\": \"2020-03-25\", \"casos confirmados\": 8}, {\"index\": 0, \"Grupo de edad\": \"<=39\", \"fecha (a\\u00f1o-mes-d\\u00eda)\": \"2020-03-26\", \"casos confirmados\": 672}, {\"index\": 1, \"Grupo de edad\": \"40-49\", \"fecha (a\\u00f1o-mes-d\\u00eda)\": \"2020-03-26\", \"casos confirmados\": 268}, {\"index\": 2, \"Grupo de edad\": \"50-59\", \"fecha (a\\u00f1o-mes-d\\u00eda)\": \"2020-03-26\", \"casos confirmados\": 162}, {\"index\": 3, \"Grupo de edad\": \"60-69\", \"fecha (a\\u00f1o-mes-d\\u00eda)\": \"2020-03-26\", \"casos confirmados\": 91}, {\"index\": 4, \"Grupo de edad\": \"70-79\", \"fecha (a\\u00f1o-mes-d\\u00eda)\": \"2020-03-26\", \"casos confirmados\": 48}, {\"index\": 5, \"Grupo de edad\": \">=80\", \"fecha (a\\u00f1o-mes-d\\u00eda)\": \"2020-03-26\", \"casos confirmados\": 11}, {\"index\": 0, \"Grupo de edad\": \"<=39\", \"fecha (a\\u00f1o-mes-d\\u00eda)\": \"2020-03-27\", \"casos confirmados\": 754}, {\"index\": 1, \"Grupo de edad\": \"40-49\", \"fecha (a\\u00f1o-mes-d\\u00eda)\": \"2020-03-27\", \"casos confirmados\": 310}, {\"index\": 2, \"Grupo de edad\": \"50-59\", \"fecha (a\\u00f1o-mes-d\\u00eda)\": \"2020-03-27\", \"casos confirmados\": 190}, {\"index\": 3, \"Grupo de edad\": \"60-69\", \"fecha (a\\u00f1o-mes-d\\u00eda)\": \"2020-03-27\", \"casos confirmados\": 112}, {\"index\": 4, \"Grupo de edad\": \"70-79\", \"fecha (a\\u00f1o-mes-d\\u00eda)\": \"2020-03-27\", \"casos confirmados\": 56}, {\"index\": 5, \"Grupo de edad\": \">=80\", \"fecha (a\\u00f1o-mes-d\\u00eda)\": \"2020-03-27\", \"casos confirmados\": 12}, {\"index\": 0, \"Grupo de edad\": \"<=39\", \"fecha (a\\u00f1o-mes-d\\u00eda)\": \"2020-03-28\", \"casos confirmados\": 890}, {\"index\": 1, \"Grupo de edad\": \"40-49\", \"fecha (a\\u00f1o-mes-d\\u00eda)\": \"2020-03-28\", \"casos confirmados\": 357}, {\"index\": 2, \"Grupo de edad\": \"50-59\", \"fecha (a\\u00f1o-mes-d\\u00eda)\": \"2020-03-28\", \"casos confirmados\": 251}, {\"index\": 3, \"Grupo de edad\": \"60-69\", \"fecha (a\\u00f1o-mes-d\\u00eda)\": \"2020-03-28\", \"casos confirmados\": 138}, {\"index\": 4, \"Grupo de edad\": \"70-79\", \"fecha (a\\u00f1o-mes-d\\u00eda)\": \"2020-03-28\", \"casos confirmados\": 67}, {\"index\": 5, \"Grupo de edad\": \">=80\", \"fecha (a\\u00f1o-mes-d\\u00eda)\": \"2020-03-28\", \"casos confirmados\": 20}, {\"index\": 0, \"Grupo de edad\": \"<=39\", \"fecha (a\\u00f1o-mes-d\\u00eda)\": \"2020-03-29\", \"casos confirmados\": 964}, {\"index\": 1, \"Grupo de edad\": \"40-49\", \"fecha (a\\u00f1o-mes-d\\u00eda)\": \"2020-03-29\", \"casos confirmados\": 407}, {\"index\": 2, \"Grupo de edad\": \"50-59\", \"fecha (a\\u00f1o-mes-d\\u00eda)\": \"2020-03-29\", \"casos confirmados\": 272}, {\"index\": 3, \"Grupo de edad\": \"60-69\", \"fecha (a\\u00f1o-mes-d\\u00eda)\": \"2020-03-29\", \"casos confirmados\": 165}, {\"index\": 4, \"Grupo de edad\": \"70-79\", \"fecha (a\\u00f1o-mes-d\\u00eda)\": \"2020-03-29\", \"casos confirmados\": 75}, {\"index\": 5, \"Grupo de edad\": \">=80\", \"fecha (a\\u00f1o-mes-d\\u00eda)\": \"2020-03-29\", \"casos confirmados\": 23}, {\"index\": 0, \"Grupo de edad\": \"<=39\", \"fecha (a\\u00f1o-mes-d\\u00eda)\": \"2020-03-30\", \"casos confirmados\": 1041}, {\"index\": 1, \"Grupo de edad\": \"40-49\", \"fecha (a\\u00f1o-mes-d\\u00eda)\": \"2020-03-30\", \"casos confirmados\": 451}, {\"index\": 2, \"Grupo de edad\": \"50-59\", \"fecha (a\\u00f1o-mes-d\\u00eda)\": \"2020-03-30\", \"casos confirmados\": 304}, {\"index\": 3, \"Grupo de edad\": \"60-69\", \"fecha (a\\u00f1o-mes-d\\u00eda)\": \"2020-03-30\", \"casos confirmados\": 182}, {\"index\": 4, \"Grupo de edad\": \"70-79\", \"fecha (a\\u00f1o-mes-d\\u00eda)\": \"2020-03-30\", \"casos confirmados\": 84}, {\"index\": 5, \"Grupo de edad\": \">=80\", \"fecha (a\\u00f1o-mes-d\\u00eda)\": \"2020-03-30\", \"casos confirmados\": 26}, {\"index\": 0, \"Grupo de edad\": \"<=39\", \"fecha (a\\u00f1o-mes-d\\u00eda)\": \"2020-03-31\", \"casos confirmados\": 1182}, {\"index\": 1, \"Grupo de edad\": \"40-49\", \"fecha (a\\u00f1o-mes-d\\u00eda)\": \"2020-03-31\", \"casos confirmados\": 511}, {\"index\": 2, \"Grupo de edad\": \"50-59\", \"fecha (a\\u00f1o-mes-d\\u00eda)\": \"2020-03-31\", \"casos confirmados\": 348}, {\"index\": 3, \"Grupo de edad\": \"60-69\", \"fecha (a\\u00f1o-mes-d\\u00eda)\": \"2020-03-31\", \"casos confirmados\": 209}, {\"index\": 4, \"Grupo de edad\": \"70-79\", \"fecha (a\\u00f1o-mes-d\\u00eda)\": \"2020-03-31\", \"casos confirmados\": 92}, {\"index\": 5, \"Grupo de edad\": \">=80\", \"fecha (a\\u00f1o-mes-d\\u00eda)\": \"2020-03-31\", \"casos confirmados\": 31}, {\"index\": 0, \"Grupo de edad\": \"<=39\", \"fecha (a\\u00f1o-mes-d\\u00eda)\": \"2020-04-01\", \"casos confirmados\": 1335}, {\"index\": 1, \"Grupo de edad\": \"40-49\", \"fecha (a\\u00f1o-mes-d\\u00eda)\": \"2020-04-01\", \"casos confirmados\": 584}, {\"index\": 2, \"Grupo de edad\": \"50-59\", \"fecha (a\\u00f1o-mes-d\\u00eda)\": \"2020-04-01\", \"casos confirmados\": 423}, {\"index\": 3, \"Grupo de edad\": \"60-69\", \"fecha (a\\u00f1o-mes-d\\u00eda)\": \"2020-04-01\", \"casos confirmados\": 243}, {\"index\": 4, \"Grupo de edad\": \"70-79\", \"fecha (a\\u00f1o-mes-d\\u00eda)\": \"2020-04-01\", \"casos confirmados\": 120}, {\"index\": 5, \"Grupo de edad\": \">=80\", \"fecha (a\\u00f1o-mes-d\\u00eda)\": \"2020-04-01\", \"casos confirmados\": 39}, {\"index\": 0, \"Grupo de edad\": \"<=39\", \"fecha (a\\u00f1o-mes-d\\u00eda)\": \"2020-04-02\", \"casos confirmados\": 1434}, {\"index\": 1, \"Grupo de edad\": \"40-49\", \"fecha (a\\u00f1o-mes-d\\u00eda)\": \"2020-04-02\", \"casos confirmados\": 616}, {\"index\": 2, \"Grupo de edad\": \"50-59\", \"fecha (a\\u00f1o-mes-d\\u00eda)\": \"2020-04-02\", \"casos confirmados\": 453}, {\"index\": 3, \"Grupo de edad\": \"60-69\", \"fecha (a\\u00f1o-mes-d\\u00eda)\": \"2020-04-02\", \"casos confirmados\": 264}, {\"index\": 4, \"Grupo de edad\": \"70-79\", \"fecha (a\\u00f1o-mes-d\\u00eda)\": \"2020-04-02\", \"casos confirmados\": 127}, {\"index\": 5, \"Grupo de edad\": \">=80\", \"fecha (a\\u00f1o-mes-d\\u00eda)\": \"2020-04-02\", \"casos confirmados\": 44}, {\"index\": 0, \"Grupo de edad\": \"<=39\", \"fecha (a\\u00f1o-mes-d\\u00eda)\": \"2020-04-03\", \"casos confirmados\": 1678}, {\"index\": 1, \"Grupo de edad\": \"40-49\", \"fecha (a\\u00f1o-mes-d\\u00eda)\": \"2020-04-03\", \"casos confirmados\": 695}, {\"index\": 2, \"Grupo de edad\": \"50-59\", \"fecha (a\\u00f1o-mes-d\\u00eda)\": \"2020-04-03\", \"casos confirmados\": 521}, {\"index\": 3, \"Grupo de edad\": \"60-69\", \"fecha (a\\u00f1o-mes-d\\u00eda)\": \"2020-04-03\", \"casos confirmados\": 296}, {\"index\": 4, \"Grupo de edad\": \"70-79\", \"fecha (a\\u00f1o-mes-d\\u00eda)\": \"2020-04-03\", \"casos confirmados\": 155}, {\"index\": 5, \"Grupo de edad\": \">=80\", \"fecha (a\\u00f1o-mes-d\\u00eda)\": \"2020-04-03\", \"casos confirmados\": 53}, {\"index\": 0, \"Grupo de edad\": \"<=39\", \"fecha (a\\u00f1o-mes-d\\u00eda)\": \"2020-04-04\", \"casos confirmados\": 1866}, {\"index\": 1, \"Grupo de edad\": \"40-49\", \"fecha (a\\u00f1o-mes-d\\u00eda)\": \"2020-04-04\", \"casos confirmados\": 762}, {\"index\": 2, \"Grupo de edad\": \"50-59\", \"fecha (a\\u00f1o-mes-d\\u00eda)\": \"2020-04-04\", \"casos confirmados\": 575}, {\"index\": 3, \"Grupo de edad\": \"60-69\", \"fecha (a\\u00f1o-mes-d\\u00eda)\": \"2020-04-04\", \"casos confirmados\": 336}, {\"index\": 4, \"Grupo de edad\": \"70-79\", \"fecha (a\\u00f1o-mes-d\\u00eda)\": \"2020-04-04\", \"casos confirmados\": 185}, {\"index\": 5, \"Grupo de edad\": \">=80\", \"fecha (a\\u00f1o-mes-d\\u00eda)\": \"2020-04-04\", \"casos confirmados\": 61}, {\"index\": 0, \"Grupo de edad\": \"<=39\", \"fecha (a\\u00f1o-mes-d\\u00eda)\": \"2020-04-05\", \"casos confirmados\": 2007}, {\"index\": 1, \"Grupo de edad\": \"40-49\", \"fecha (a\\u00f1o-mes-d\\u00eda)\": \"2020-04-05\", \"casos confirmados\": 831}, {\"index\": 2, \"Grupo de edad\": \"50-59\", \"fecha (a\\u00f1o-mes-d\\u00eda)\": \"2020-04-05\", \"casos confirmados\": 620}, {\"index\": 3, \"Grupo de edad\": \"60-69\", \"fecha (a\\u00f1o-mes-d\\u00eda)\": \"2020-04-05\", \"casos confirmados\": 354}, {\"index\": 4, \"Grupo de edad\": \"70-79\", \"fecha (a\\u00f1o-mes-d\\u00eda)\": \"2020-04-05\", \"casos confirmados\": 202}, {\"index\": 5, \"Grupo de edad\": \">=80\", \"fecha (a\\u00f1o-mes-d\\u00eda)\": \"2020-04-05\", \"casos confirmados\": 68}, {\"index\": 0, \"Grupo de edad\": \"<=39\", \"fecha (a\\u00f1o-mes-d\\u00eda)\": \"2020-04-06\", \"casos confirmados\": 2140}, {\"index\": 1, \"Grupo de edad\": \"40-49\", \"fecha (a\\u00f1o-mes-d\\u00eda)\": \"2020-04-06\", \"casos confirmados\": 876}, {\"index\": 2, \"Grupo de edad\": \"50-59\", \"fecha (a\\u00f1o-mes-d\\u00eda)\": \"2020-04-06\", \"casos confirmados\": 662}, {\"index\": 3, \"Grupo de edad\": \"60-69\", \"fecha (a\\u00f1o-mes-d\\u00eda)\": \"2020-04-06\", \"casos confirmados\": 377}, {\"index\": 4, \"Grupo de edad\": \"70-79\", \"fecha (a\\u00f1o-mes-d\\u00eda)\": \"2020-04-06\", \"casos confirmados\": 214}, {\"index\": 5, \"Grupo de edad\": \">=80\", \"fecha (a\\u00f1o-mes-d\\u00eda)\": \"2020-04-06\", \"casos confirmados\": 77}, {\"index\": 0, \"Grupo de edad\": \"<=39\", \"fecha (a\\u00f1o-mes-d\\u00eda)\": \"2020-04-07\", \"casos confirmados\": 2257}, {\"index\": 1, \"Grupo de edad\": \"40-49\", \"fecha (a\\u00f1o-mes-d\\u00eda)\": \"2020-04-07\", \"casos confirmados\": 926}, {\"index\": 2, \"Grupo de edad\": \"50-59\", \"fecha (a\\u00f1o-mes-d\\u00eda)\": \"2020-04-07\", \"casos confirmados\": 707}, {\"index\": 3, \"Grupo de edad\": \"60-69\", \"fecha (a\\u00f1o-mes-d\\u00eda)\": \"2020-04-07\", \"casos confirmados\": 415}, {\"index\": 4, \"Grupo de edad\": \"70-79\", \"fecha (a\\u00f1o-mes-d\\u00eda)\": \"2020-04-07\", \"casos confirmados\": 225}, {\"index\": 5, \"Grupo de edad\": \">=80\", \"fecha (a\\u00f1o-mes-d\\u00eda)\": \"2020-04-07\", \"casos confirmados\": 87}, {\"index\": 0, \"Grupo de edad\": \"<=39\", \"fecha (a\\u00f1o-mes-d\\u00eda)\": \"2020-04-08\", \"casos confirmados\": 2636}, {\"index\": 1, \"Grupo de edad\": \"40-49\", \"fecha (a\\u00f1o-mes-d\\u00eda)\": \"2020-04-08\", \"casos confirmados\": 1079}, {\"index\": 2, \"Grupo de edad\": \"50-59\", \"fecha (a\\u00f1o-mes-d\\u00eda)\": \"2020-04-08\", \"casos confirmados\": 839}, {\"index\": 3, \"Grupo de edad\": \"60-69\", \"fecha (a\\u00f1o-mes-d\\u00eda)\": \"2020-04-08\", \"casos confirmados\": 468}, {\"index\": 4, \"Grupo de edad\": \"70-79\", \"fecha (a\\u00f1o-mes-d\\u00eda)\": \"2020-04-08\", \"casos confirmados\": 263}, {\"index\": 5, \"Grupo de edad\": \">=80\", \"fecha (a\\u00f1o-mes-d\\u00eda)\": \"2020-04-08\", \"casos confirmados\": 112}, {\"index\": 0, \"Grupo de edad\": \"<=39\", \"fecha (a\\u00f1o-mes-d\\u00eda)\": \"2020-04-09\", \"casos confirmados\": 2837}, {\"index\": 1, \"Grupo de edad\": \"40-49\", \"fecha (a\\u00f1o-mes-d\\u00eda)\": \"2020-04-09\", \"casos confirmados\": 1153}, {\"index\": 2, \"Grupo de edad\": \"50-59\", \"fecha (a\\u00f1o-mes-d\\u00eda)\": \"2020-04-09\", \"casos confirmados\": 903}, {\"index\": 3, \"Grupo de edad\": \"60-69\", \"fecha (a\\u00f1o-mes-d\\u00eda)\": \"2020-04-09\", \"casos confirmados\": 502}, {\"index\": 4, \"Grupo de edad\": \"70-79\", \"fecha (a\\u00f1o-mes-d\\u00eda)\": \"2020-04-09\", \"casos confirmados\": 284}, {\"index\": 5, \"Grupo de edad\": \">=80\", \"fecha (a\\u00f1o-mes-d\\u00eda)\": \"2020-04-09\", \"casos confirmados\": 131}, {\"index\": 0, \"Grupo de edad\": \"<=39\", \"fecha (a\\u00f1o-mes-d\\u00eda)\": \"2020-04-10\", \"casos confirmados\": 3084}, {\"index\": 1, \"Grupo de edad\": \"40-49\", \"fecha (a\\u00f1o-mes-d\\u00eda)\": \"2020-04-10\", \"casos confirmados\": 1227}, {\"index\": 2, \"Grupo de edad\": \"50-59\", \"fecha (a\\u00f1o-mes-d\\u00eda)\": \"2020-04-10\", \"casos confirmados\": 975}, {\"index\": 3, \"Grupo de edad\": \"60-69\", \"fecha (a\\u00f1o-mes-d\\u00eda)\": \"2020-04-10\", \"casos confirmados\": 544}, {\"index\": 4, \"Grupo de edad\": \"70-79\", \"fecha (a\\u00f1o-mes-d\\u00eda)\": \"2020-04-10\", \"casos confirmados\": 309}, {\"index\": 5, \"Grupo de edad\": \">=80\", \"fecha (a\\u00f1o-mes-d\\u00eda)\": \"2020-04-10\", \"casos confirmados\": 153}, {\"index\": 0, \"Grupo de edad\": \"<=39\", \"fecha (a\\u00f1o-mes-d\\u00eda)\": \"2020-04-11\", \"casos confirmados\": 3302}, {\"index\": 1, \"Grupo de edad\": \"40-49\", \"fecha (a\\u00f1o-mes-d\\u00eda)\": \"2020-04-11\", \"casos confirmados\": 1297}, {\"index\": 2, \"Grupo de edad\": \"50-59\", \"fecha (a\\u00f1o-mes-d\\u00eda)\": \"2020-04-11\", \"casos confirmados\": 1022}, {\"index\": 3, \"Grupo de edad\": \"60-69\", \"fecha (a\\u00f1o-mes-d\\u00eda)\": \"2020-04-11\", \"casos confirmados\": 584}, {\"index\": 4, \"Grupo de edad\": \"70-79\", \"fecha (a\\u00f1o-mes-d\\u00eda)\": \"2020-04-11\", \"casos confirmados\": 328}, {\"index\": 5, \"Grupo de edad\": \">=80\", \"fecha (a\\u00f1o-mes-d\\u00eda)\": \"2020-04-11\", \"casos confirmados\": 169}, {\"index\": 0, \"Grupo de edad\": \"<=39\", \"fecha (a\\u00f1o-mes-d\\u00eda)\": \"2020-04-12\", \"casos confirmados\": 3454}, {\"index\": 1, \"Grupo de edad\": \"40-49\", \"fecha (a\\u00f1o-mes-d\\u00eda)\": \"2020-04-12\", \"casos confirmados\": 1361}, {\"index\": 2, \"Grupo de edad\": \"50-59\", \"fecha (a\\u00f1o-mes-d\\u00eda)\": \"2020-04-12\", \"casos confirmados\": 1068}, {\"index\": 3, \"Grupo de edad\": \"60-69\", \"fecha (a\\u00f1o-mes-d\\u00eda)\": \"2020-04-12\", \"casos confirmados\": 611}, {\"index\": 4, \"Grupo de edad\": \"70-79\", \"fecha (a\\u00f1o-mes-d\\u00eda)\": \"2020-04-12\", \"casos confirmados\": 343}, {\"index\": 5, \"Grupo de edad\": \">=80\", \"fecha (a\\u00f1o-mes-d\\u00eda)\": \"2020-04-12\", \"casos confirmados\": 179}, {\"index\": 0, \"Grupo de edad\": \"<=39\", \"fecha (a\\u00f1o-mes-d\\u00eda)\": \"2020-04-13\", \"casos confirmados\": 3646}, {\"index\": 1, \"Grupo de edad\": \"40-49\", \"fecha (a\\u00f1o-mes-d\\u00eda)\": \"2020-04-13\", \"casos confirmados\": 1451}, {\"index\": 2, \"Grupo de edad\": \"50-59\", \"fecha (a\\u00f1o-mes-d\\u00eda)\": \"2020-04-13\", \"casos confirmados\": 1134}, {\"index\": 3, \"Grupo de edad\": \"60-69\", \"fecha (a\\u00f1o-mes-d\\u00eda)\": \"2020-04-13\", \"casos confirmados\": 643}, {\"index\": 4, \"Grupo de edad\": \"70-79\", \"fecha (a\\u00f1o-mes-d\\u00eda)\": \"2020-04-13\", \"casos confirmados\": 351}, {\"index\": 5, \"Grupo de edad\": \">=80\", \"fecha (a\\u00f1o-mes-d\\u00eda)\": \"2020-04-13\", \"casos confirmados\": 187}, {\"index\": 0, \"Grupo de edad\": \"<=39\", \"fecha (a\\u00f1o-mes-d\\u00eda)\": \"2020-04-14\", \"casos confirmados\": 3806}, {\"index\": 1, \"Grupo de edad\": \"40-49\", \"fecha (a\\u00f1o-mes-d\\u00eda)\": \"2020-04-14\", \"casos confirmados\": 1488}, {\"index\": 2, \"Grupo de edad\": \"50-59\", \"fecha (a\\u00f1o-mes-d\\u00eda)\": \"2020-04-14\", \"casos confirmados\": 1173}, {\"index\": 3, \"Grupo de edad\": \"60-69\", \"fecha (a\\u00f1o-mes-d\\u00eda)\": \"2020-04-14\", \"casos confirmados\": 686}, {\"index\": 4, \"Grupo de edad\": \"70-79\", \"fecha (a\\u00f1o-mes-d\\u00eda)\": \"2020-04-14\", \"casos confirmados\": 366}, {\"index\": 5, \"Grupo de edad\": \">=80\", \"fecha (a\\u00f1o-mes-d\\u00eda)\": \"2020-04-14\", \"casos confirmados\": 197}, {\"index\": 0, \"Grupo de edad\": \"<=39\", \"fecha (a\\u00f1o-mes-d\\u00eda)\": \"2020-04-15\", \"casos confirmados\": 4052}, {\"index\": 1, \"Grupo de edad\": \"40-49\", \"fecha (a\\u00f1o-mes-d\\u00eda)\": \"2020-04-15\", \"casos confirmados\": 1582}, {\"index\": 2, \"Grupo de edad\": \"50-59\", \"fecha (a\\u00f1o-mes-d\\u00eda)\": \"2020-04-15\", \"casos confirmados\": 1251}, {\"index\": 3, \"Grupo de edad\": \"60-69\", \"fecha (a\\u00f1o-mes-d\\u00eda)\": \"2020-04-15\", \"casos confirmados\": 726}, {\"index\": 4, \"Grupo de edad\": \"70-79\", \"fecha (a\\u00f1o-mes-d\\u00eda)\": \"2020-04-15\", \"casos confirmados\": 396}, {\"index\": 5, \"Grupo de edad\": \">=80\", \"fecha (a\\u00f1o-mes-d\\u00eda)\": \"2020-04-15\", \"casos confirmados\": 209}, {\"index\": 0, \"Grupo de edad\": \"<=39\", \"fecha (a\\u00f1o-mes-d\\u00eda)\": \"2020-04-16\", \"casos confirmados\": 4306}, {\"index\": 1, \"Grupo de edad\": \"40-49\", \"fecha (a\\u00f1o-mes-d\\u00eda)\": \"2020-04-16\", \"casos confirmados\": 1684}, {\"index\": 2, \"Grupo de edad\": \"50-59\", \"fecha (a\\u00f1o-mes-d\\u00eda)\": \"2020-04-16\", \"casos confirmados\": 1341}, {\"index\": 3, \"Grupo de edad\": \"60-69\", \"fecha (a\\u00f1o-mes-d\\u00eda)\": \"2020-04-16\", \"casos confirmados\": 766}, {\"index\": 4, \"Grupo de edad\": \"70-79\", \"fecha (a\\u00f1o-mes-d\\u00eda)\": \"2020-04-16\", \"casos confirmados\": 422}, {\"index\": 5, \"Grupo de edad\": \">=80\", \"fecha (a\\u00f1o-mes-d\\u00eda)\": \"2020-04-16\", \"casos confirmados\": 221}, {\"index\": 0, \"Grupo de edad\": \"<=39\", \"fecha (a\\u00f1o-mes-d\\u00eda)\": \"2020-04-17\", \"casos confirmados\": 4555}, {\"index\": 1, \"Grupo de edad\": \"40-49\", \"fecha (a\\u00f1o-mes-d\\u00eda)\": \"2020-04-17\", \"casos confirmados\": 1781}, {\"index\": 2, \"Grupo de edad\": \"50-59\", \"fecha (a\\u00f1o-mes-d\\u00eda)\": \"2020-04-17\", \"casos confirmados\": 1408}, {\"index\": 3, \"Grupo de edad\": \"60-69\", \"fecha (a\\u00f1o-mes-d\\u00eda)\": \"2020-04-17\", \"casos confirmados\": 819}, {\"index\": 4, \"Grupo de edad\": \"70-79\", \"fecha (a\\u00f1o-mes-d\\u00eda)\": \"2020-04-17\", \"casos confirmados\": 451}, {\"index\": 5, \"Grupo de edad\": \">=80\", \"fecha (a\\u00f1o-mes-d\\u00eda)\": \"2020-04-17\", \"casos confirmados\": 238}, {\"index\": 0, \"Grupo de edad\": \"<=39\", \"fecha (a\\u00f1o-mes-d\\u00eda)\": \"2020-04-18\", \"casos confirmados\": 4811}, {\"index\": 1, \"Grupo de edad\": \"40-49\", \"fecha (a\\u00f1o-mes-d\\u00eda)\": \"2020-04-18\", \"casos confirmados\": 1855}, {\"index\": 2, \"Grupo de edad\": \"50-59\", \"fecha (a\\u00f1o-mes-d\\u00eda)\": \"2020-04-18\", \"casos confirmados\": 1477}, {\"index\": 3, \"Grupo de edad\": \"60-69\", \"fecha (a\\u00f1o-mes-d\\u00eda)\": \"2020-04-18\", \"casos confirmados\": 854}, {\"index\": 4, \"Grupo de edad\": \"70-79\", \"fecha (a\\u00f1o-mes-d\\u00eda)\": \"2020-04-18\", \"casos confirmados\": 480}, {\"index\": 5, \"Grupo de edad\": \">=80\", \"fecha (a\\u00f1o-mes-d\\u00eda)\": \"2020-04-18\", \"casos confirmados\": 253}, {\"index\": 0, \"Grupo de edad\": \"<=39\", \"fecha (a\\u00f1o-mes-d\\u00eda)\": \"2020-04-19\", \"casos confirmados\": 4999}, {\"index\": 1, \"Grupo de edad\": \"40-49\", \"fecha (a\\u00f1o-mes-d\\u00eda)\": \"2020-04-19\", \"casos confirmados\": 1926}, {\"index\": 2, \"Grupo de edad\": \"50-59\", \"fecha (a\\u00f1o-mes-d\\u00eda)\": \"2020-04-19\", \"casos confirmados\": 1522}, {\"index\": 3, \"Grupo de edad\": \"60-69\", \"fecha (a\\u00f1o-mes-d\\u00eda)\": \"2020-04-19\", \"casos confirmados\": 873}, {\"index\": 4, \"Grupo de edad\": \"70-79\", \"fecha (a\\u00f1o-mes-d\\u00eda)\": \"2020-04-19\", \"casos confirmados\": 497}, {\"index\": 5, \"Grupo de edad\": \">=80\", \"fecha (a\\u00f1o-mes-d\\u00eda)\": \"2020-04-19\", \"casos confirmados\": 271}, {\"index\": 0, \"Grupo de edad\": \"<=39\", \"fecha (a\\u00f1o-mes-d\\u00eda)\": \"2020-04-20\", \"casos confirmados\": 5200}, {\"index\": 1, \"Grupo de edad\": \"40-49\", \"fecha (a\\u00f1o-mes-d\\u00eda)\": \"2020-04-20\", \"casos confirmados\": 1979}, {\"index\": 2, \"Grupo de edad\": \"50-59\", \"fecha (a\\u00f1o-mes-d\\u00eda)\": \"2020-04-20\", \"casos confirmados\": 1572}, {\"index\": 3, \"Grupo de edad\": \"60-69\", \"fecha (a\\u00f1o-mes-d\\u00eda)\": \"2020-04-20\", \"casos confirmados\": 901}, {\"index\": 4, \"Grupo de edad\": \"70-79\", \"fecha (a\\u00f1o-mes-d\\u00eda)\": \"2020-04-20\", \"casos confirmados\": 515}, {\"index\": 5, \"Grupo de edad\": \">=80\", \"fecha (a\\u00f1o-mes-d\\u00eda)\": \"2020-04-20\", \"casos confirmados\": 284}, {\"index\": 0, \"Grupo de edad\": \"<=39\", \"fecha (a\\u00f1o-mes-d\\u00eda)\": \"2020-04-21\", \"casos confirmados\": 5434}, {\"index\": 1, \"Grupo de edad\": \"40-49\", \"fecha (a\\u00f1o-mes-d\\u00eda)\": \"2020-04-21\", \"casos confirmados\": 2029}, {\"index\": 2, \"Grupo de edad\": \"50-59\", \"fecha (a\\u00f1o-mes-d\\u00eda)\": \"2020-04-21\", \"casos confirmados\": 1620}, {\"index\": 3, \"Grupo de edad\": \"60-69\", \"fecha (a\\u00f1o-mes-d\\u00eda)\": \"2020-04-21\", \"casos confirmados\": 933}, {\"index\": 4, \"Grupo de edad\": \"70-79\", \"fecha (a\\u00f1o-mes-d\\u00eda)\": \"2020-04-21\", \"casos confirmados\": 528}, {\"index\": 5, \"Grupo de edad\": \">=80\", \"fecha (a\\u00f1o-mes-d\\u00eda)\": \"2020-04-21\", \"casos confirmados\": 288}, {\"index\": 0, \"Grupo de edad\": \"<=39\", \"fecha (a\\u00f1o-mes-d\\u00eda)\": \"2020-04-22\", \"casos confirmados\": 5682}, {\"index\": 1, \"Grupo de edad\": \"40-49\", \"fecha (a\\u00f1o-mes-d\\u00eda)\": \"2020-04-22\", \"casos confirmados\": 2102}, {\"index\": 2, \"Grupo de edad\": \"50-59\", \"fecha (a\\u00f1o-mes-d\\u00eda)\": \"2020-04-22\", \"casos confirmados\": 1693}, {\"index\": 3, \"Grupo de edad\": \"60-69\", \"fecha (a\\u00f1o-mes-d\\u00eda)\": \"2020-04-22\", \"casos confirmados\": 971}, {\"index\": 4, \"Grupo de edad\": \"70-79\", \"fecha (a\\u00f1o-mes-d\\u00eda)\": \"2020-04-22\", \"casos confirmados\": 544}, {\"index\": 5, \"Grupo de edad\": \">=80\", \"fecha (a\\u00f1o-mes-d\\u00eda)\": \"2020-04-22\", \"casos confirmados\": 304}, {\"index\": 0, \"Grupo de edad\": \"<=39\", \"fecha (a\\u00f1o-mes-d\\u00eda)\": \"2020-04-23\", \"casos confirmados\": 5951}, {\"index\": 1, \"Grupo de edad\": \"40-49\", \"fecha (a\\u00f1o-mes-d\\u00eda)\": \"2020-04-23\", \"casos confirmados\": 2194}, {\"index\": 2, \"Grupo de edad\": \"50-59\", \"fecha (a\\u00f1o-mes-d\\u00eda)\": \"2020-04-23\", \"casos confirmados\": 1769}, {\"index\": 3, \"Grupo de edad\": \"60-69\", \"fecha (a\\u00f1o-mes-d\\u00eda)\": \"2020-04-23\", \"casos confirmados\": 1017}, {\"index\": 4, \"Grupo de edad\": \"70-79\", \"fecha (a\\u00f1o-mes-d\\u00eda)\": \"2020-04-23\", \"casos confirmados\": 561}, {\"index\": 5, \"Grupo de edad\": \">=80\", \"fecha (a\\u00f1o-mes-d\\u00eda)\": \"2020-04-23\", \"casos confirmados\": 320}, {\"index\": 0, \"Grupo de edad\": \"<=39\", \"fecha (a\\u00f1o-mes-d\\u00eda)\": \"2020-04-24\", \"casos confirmados\": 6178}, {\"index\": 1, \"Grupo de edad\": \"40-49\", \"fecha (a\\u00f1o-mes-d\\u00eda)\": \"2020-04-24\", \"casos confirmados\": 2261}, {\"index\": 2, \"Grupo de edad\": \"50-59\", \"fecha (a\\u00f1o-mes-d\\u00eda)\": \"2020-04-24\", \"casos confirmados\": 1829}, {\"index\": 3, \"Grupo de edad\": \"60-69\", \"fecha (a\\u00f1o-mes-d\\u00eda)\": \"2020-04-24\", \"casos confirmados\": 1048}, {\"index\": 4, \"Grupo de edad\": \"70-79\", \"fecha (a\\u00f1o-mes-d\\u00eda)\": \"2020-04-24\", \"casos confirmados\": 572}, {\"index\": 5, \"Grupo de edad\": \">=80\", \"fecha (a\\u00f1o-mes-d\\u00eda)\": \"2020-04-24\", \"casos confirmados\": 326}, {\"index\": 0, \"Grupo de edad\": \"<=39\", \"fecha (a\\u00f1o-mes-d\\u00eda)\": \"2020-04-25\", \"casos confirmados\": 6495}, {\"index\": 1, \"Grupo de edad\": \"40-49\", \"fecha (a\\u00f1o-mes-d\\u00eda)\": \"2020-04-25\", \"casos confirmados\": 2357}, {\"index\": 2, \"Grupo de edad\": \"50-59\", \"fecha (a\\u00f1o-mes-d\\u00eda)\": \"2020-04-25\", \"casos confirmados\": 1913}, {\"index\": 3, \"Grupo de edad\": \"60-69\", \"fecha (a\\u00f1o-mes-d\\u00eda)\": \"2020-04-25\", \"casos confirmados\": 1083}, {\"index\": 4, \"Grupo de edad\": \"70-79\", \"fecha (a\\u00f1o-mes-d\\u00eda)\": \"2020-04-25\", \"casos confirmados\": 592}, {\"index\": 5, \"Grupo de edad\": \">=80\", \"fecha (a\\u00f1o-mes-d\\u00eda)\": \"2020-04-25\", \"casos confirmados\": 345}, {\"index\": 0, \"Grupo de edad\": \"<=39\", \"fecha (a\\u00f1o-mes-d\\u00eda)\": \"2020-04-26\", \"casos confirmados\": 6772}, {\"index\": 1, \"Grupo de edad\": \"40-49\", \"fecha (a\\u00f1o-mes-d\\u00eda)\": \"2020-04-26\", \"casos confirmados\": 2421}, {\"index\": 2, \"Grupo de edad\": \"50-59\", \"fecha (a\\u00f1o-mes-d\\u00eda)\": \"2020-04-26\", \"casos confirmados\": 1991}, {\"index\": 3, \"Grupo de edad\": \"60-69\", \"fecha (a\\u00f1o-mes-d\\u00eda)\": \"2020-04-26\", \"casos confirmados\": 1115}, {\"index\": 4, \"Grupo de edad\": \"70-79\", \"fecha (a\\u00f1o-mes-d\\u00eda)\": \"2020-04-26\", \"casos confirmados\": 616}, {\"index\": 5, \"Grupo de edad\": \">=80\", \"fecha (a\\u00f1o-mes-d\\u00eda)\": \"2020-04-26\", \"casos confirmados\": 369}, {\"index\": 0, \"Grupo de edad\": \"<=39\", \"fecha (a\\u00f1o-mes-d\\u00eda)\": \"2020-04-27\", \"casos confirmados\": 7006}, {\"index\": 1, \"Grupo de edad\": \"40-49\", \"fecha (a\\u00f1o-mes-d\\u00eda)\": \"2020-04-27\", \"casos confirmados\": 2492}, {\"index\": 2, \"Grupo de edad\": \"50-59\", \"fecha (a\\u00f1o-mes-d\\u00eda)\": \"2020-04-27\", \"casos confirmados\": 2036}, {\"index\": 3, \"Grupo de edad\": \"60-69\", \"fecha (a\\u00f1o-mes-d\\u00eda)\": \"2020-04-27\", \"casos confirmados\": 1156}, {\"index\": 4, \"Grupo de edad\": \"70-79\", \"fecha (a\\u00f1o-mes-d\\u00eda)\": \"2020-04-27\", \"casos confirmados\": 627}, {\"index\": 5, \"Grupo de edad\": \">=80\", \"fecha (a\\u00f1o-mes-d\\u00eda)\": \"2020-04-27\", \"casos confirmados\": 387}, {\"index\": 0, \"Grupo de edad\": \"<=39\", \"fecha (a\\u00f1o-mes-d\\u00eda)\": \"2020-04-28\", \"casos confirmados\": 7358}, {\"index\": 1, \"Grupo de edad\": \"40-49\", \"fecha (a\\u00f1o-mes-d\\u00eda)\": \"2020-04-28\", \"casos confirmados\": 2597}, {\"index\": 2, \"Grupo de edad\": \"50-59\", \"fecha (a\\u00f1o-mes-d\\u00eda)\": \"2020-04-28\", \"casos confirmados\": 2118}, {\"index\": 3, \"Grupo de edad\": \"60-69\", \"fecha (a\\u00f1o-mes-d\\u00eda)\": \"2020-04-28\", \"casos confirmados\": 1206}, {\"index\": 4, \"Grupo de edad\": \"70-79\", \"fecha (a\\u00f1o-mes-d\\u00eda)\": \"2020-04-28\", \"casos confirmados\": 664}, {\"index\": 5, \"Grupo de edad\": \">=80\", \"fecha (a\\u00f1o-mes-d\\u00eda)\": \"2020-04-28\", \"casos confirmados\": 419}, {\"index\": 0, \"Grupo de edad\": \"<=39\", \"fecha (a\\u00f1o-mes-d\\u00eda)\": \"2020-05-01\", \"casos confirmados\": 8841}, {\"index\": 1, \"Grupo de edad\": \"40-49\", \"fecha (a\\u00f1o-mes-d\\u00eda)\": \"2020-05-01\", \"casos confirmados\": 3038}, {\"index\": 2, \"Grupo de edad\": \"50-59\", \"fecha (a\\u00f1o-mes-d\\u00eda)\": \"2020-05-01\", \"casos confirmados\": 2507}, {\"index\": 3, \"Grupo de edad\": \"60-69\", \"fecha (a\\u00f1o-mes-d\\u00eda)\": \"2020-05-01\", \"casos confirmados\": 1387}, {\"index\": 4, \"Grupo de edad\": \"70-79\", \"fecha (a\\u00f1o-mes-d\\u00eda)\": \"2020-05-01\", \"casos confirmados\": 746}, {\"index\": 5, \"Grupo de edad\": \">=80\", \"fecha (a\\u00f1o-mes-d\\u00eda)\": \"2020-05-01\", \"casos confirmados\": 489}, {\"index\": 0, \"Grupo de edad\": \"<=39\", \"fecha (a\\u00f1o-mes-d\\u00eda)\": \"2020-05-02\", \"casos confirmados\": 9636}, {\"index\": 1, \"Grupo de edad\": \"40-49\", \"fecha (a\\u00f1o-mes-d\\u00eda)\": \"2020-05-02\", \"casos confirmados\": 3287}, {\"index\": 2, \"Grupo de edad\": \"50-59\", \"fecha (a\\u00f1o-mes-d\\u00eda)\": \"2020-05-02\", \"casos confirmados\": 2709}, {\"index\": 3, \"Grupo de edad\": \"60-69\", \"fecha (a\\u00f1o-mes-d\\u00eda)\": \"2020-05-02\", \"casos confirmados\": 1503}, {\"index\": 4, \"Grupo de edad\": \"70-79\", \"fecha (a\\u00f1o-mes-d\\u00eda)\": \"2020-05-02\", \"casos confirmados\": 787}, {\"index\": 5, \"Grupo de edad\": \">=80\", \"fecha (a\\u00f1o-mes-d\\u00eda)\": \"2020-05-02\", \"casos confirmados\": 511}, {\"index\": 0, \"Grupo de edad\": \"<=39\", \"fecha (a\\u00f1o-mes-d\\u00eda)\": \"2020-05-04\", \"casos confirmados\": 10795}, {\"index\": 1, \"Grupo de edad\": \"40-49\", \"fecha (a\\u00f1o-mes-d\\u00eda)\": \"2020-05-04\", \"casos confirmados\": 3625}, {\"index\": 2, \"Grupo de edad\": \"50-59\", \"fecha (a\\u00f1o-mes-d\\u00eda)\": \"2020-05-04\", \"casos confirmados\": 3023}, {\"index\": 3, \"Grupo de edad\": \"60-69\", \"fecha (a\\u00f1o-mes-d\\u00eda)\": \"2020-05-04\", \"casos confirmados\": 1680}, {\"index\": 4, \"Grupo de edad\": \"70-79\", \"fecha (a\\u00f1o-mes-d\\u00eda)\": \"2020-05-04\", \"casos confirmados\": 877}, {\"index\": 5, \"Grupo de edad\": \">=80\", \"fecha (a\\u00f1o-mes-d\\u00eda)\": \"2020-05-04\", \"casos confirmados\": 567}, {\"index\": 0, \"Grupo de edad\": \"<=39\", \"fecha (a\\u00f1o-mes-d\\u00eda)\": \"2020-05-06\", \"casos confirmados\": 12183}, {\"index\": 1, \"Grupo de edad\": \"40-49\", \"fecha (a\\u00f1o-mes-d\\u00eda)\": \"2020-05-06\", \"casos confirmados\": 4029}, {\"index\": 2, \"Grupo de edad\": \"50-59\", \"fecha (a\\u00f1o-mes-d\\u00eda)\": \"2020-05-06\", \"casos confirmados\": 3361}, {\"index\": 3, \"Grupo de edad\": \"60-69\", \"fecha (a\\u00f1o-mes-d\\u00eda)\": \"2020-05-06\", \"casos confirmados\": 1864}, {\"index\": 4, \"Grupo de edad\": \"70-79\", \"fecha (a\\u00f1o-mes-d\\u00eda)\": \"2020-05-06\", \"casos confirmados\": 952}, {\"index\": 5, \"Grupo de edad\": \">=80\", \"fecha (a\\u00f1o-mes-d\\u00eda)\": \"2020-05-06\", \"casos confirmados\": 622}, {\"index\": 0, \"Grupo de edad\": \"<=39\", \"fecha (a\\u00f1o-mes-d\\u00eda)\": \"2020-05-08\", \"casos confirmados\": 13750}, {\"index\": 1, \"Grupo de edad\": \"40-49\", \"fecha (a\\u00f1o-mes-d\\u00eda)\": \"2020-05-08\", \"casos confirmados\": 4556}, {\"index\": 2, \"Grupo de edad\": \"50-59\", \"fecha (a\\u00f1o-mes-d\\u00eda)\": \"2020-05-08\", \"casos confirmados\": 3768}, {\"index\": 3, \"Grupo de edad\": \"60-69\", \"fecha (a\\u00f1o-mes-d\\u00eda)\": \"2020-05-08\", \"casos confirmados\": 2138}, {\"index\": 4, \"Grupo de edad\": \"70-79\", \"fecha (a\\u00f1o-mes-d\\u00eda)\": \"2020-05-08\", \"casos confirmados\": 1052}, {\"index\": 5, \"Grupo de edad\": \">=80\", \"fecha (a\\u00f1o-mes-d\\u00eda)\": \"2020-05-08\", \"casos confirmados\": 688}, {\"index\": 0, \"Grupo de edad\": \"<=39\", \"fecha (a\\u00f1o-mes-d\\u00eda)\": \"2020-05-11\", \"casos confirmados\": 16047}, {\"index\": 1, \"Grupo de edad\": \"40-49\", \"fecha (a\\u00f1o-mes-d\\u00eda)\": \"2020-05-11\", \"casos confirmados\": 5219}, {\"index\": 2, \"Grupo de edad\": \"50-59\", \"fecha (a\\u00f1o-mes-d\\u00eda)\": \"2020-05-11\", \"casos confirmados\": 4314}, {\"index\": 3, \"Grupo de edad\": \"60-69\", \"fecha (a\\u00f1o-mes-d\\u00eda)\": \"2020-05-11\", \"casos confirmados\": 2470}, {\"index\": 4, \"Grupo de edad\": \"70-79\", \"fecha (a\\u00f1o-mes-d\\u00eda)\": \"2020-05-11\", \"casos confirmados\": 1208}, {\"index\": 5, \"Grupo de edad\": \">=80\", \"fecha (a\\u00f1o-mes-d\\u00eda)\": \"2020-05-11\", \"casos confirmados\": 789}, {\"index\": 0, \"Grupo de edad\": \"<=39\", \"fecha (a\\u00f1o-mes-d\\u00eda)\": \"2020-05-15\", \"casos confirmados\": 21306}, {\"index\": 1, \"Grupo de edad\": \"40-49\", \"fecha (a\\u00f1o-mes-d\\u00eda)\": \"2020-05-15\", \"casos confirmados\": 6821}, {\"index\": 2, \"Grupo de edad\": \"50-59\", \"fecha (a\\u00f1o-mes-d\\u00eda)\": \"2020-05-15\", \"casos confirmados\": 5674}, {\"index\": 3, \"Grupo de edad\": \"60-69\", \"fecha (a\\u00f1o-mes-d\\u00eda)\": \"2020-05-15\", \"casos confirmados\": 3190}, {\"index\": 4, \"Grupo de edad\": \"70-79\", \"fecha (a\\u00f1o-mes-d\\u00eda)\": \"2020-05-15\", \"casos confirmados\": 1541}, {\"index\": 5, \"Grupo de edad\": \">=80\", \"fecha (a\\u00f1o-mes-d\\u00eda)\": \"2020-05-15\", \"casos confirmados\": 979}, {\"index\": 0, \"Grupo de edad\": \"<=39\", \"fecha (a\\u00f1o-mes-d\\u00eda)\": \"2020-05-18\", \"casos confirmados\": 24830}, {\"index\": 1, \"Grupo de edad\": \"40-49\", \"fecha (a\\u00f1o-mes-d\\u00eda)\": \"2020-05-18\", \"casos confirmados\": 7953}, {\"index\": 2, \"Grupo de edad\": \"50-59\", \"fecha (a\\u00f1o-mes-d\\u00eda)\": \"2020-05-18\", \"casos confirmados\": 6624}, {\"index\": 3, \"Grupo de edad\": \"60-69\", \"fecha (a\\u00f1o-mes-d\\u00eda)\": \"2020-05-18\", \"casos confirmados\": 3748}, {\"index\": 4, \"Grupo de edad\": \"70-79\", \"fecha (a\\u00f1o-mes-d\\u00eda)\": \"2020-05-18\", \"casos confirmados\": 1785}, {\"index\": 5, \"Grupo de edad\": \">=80\", \"fecha (a\\u00f1o-mes-d\\u00eda)\": \"2020-05-18\", \"casos confirmados\": 1108}, {\"index\": 0, \"Grupo de edad\": \"<=39\", \"fecha (a\\u00f1o-mes-d\\u00eda)\": \"2020-05-22\", \"casos confirmados\": 33248}, {\"index\": 1, \"Grupo de edad\": \"40-49\", \"fecha (a\\u00f1o-mes-d\\u00eda)\": \"2020-05-22\", \"casos confirmados\": 10674}, {\"index\": 2, \"Grupo de edad\": \"50-59\", \"fecha (a\\u00f1o-mes-d\\u00eda)\": \"2020-05-22\", \"casos confirmados\": 9078}, {\"index\": 3, \"Grupo de edad\": \"60-69\", \"fecha (a\\u00f1o-mes-d\\u00eda)\": \"2020-05-22\", \"casos confirmados\": 5061}, {\"index\": 4, \"Grupo de edad\": \"70-79\", \"fecha (a\\u00f1o-mes-d\\u00eda)\": \"2020-05-22\", \"casos confirmados\": 2372}, {\"index\": 5, \"Grupo de edad\": \">=80\", \"fecha (a\\u00f1o-mes-d\\u00eda)\": \"2020-05-22\", \"casos confirmados\": 1415}, {\"index\": 0, \"Grupo de edad\": \"<=39\", \"fecha (a\\u00f1o-mes-d\\u00eda)\": \"2020-05-25\", \"casos confirmados\": 39590}, {\"index\": 1, \"Grupo de edad\": \"40-49\", \"fecha (a\\u00f1o-mes-d\\u00eda)\": \"2020-05-25\", \"casos confirmados\": 12938}, {\"index\": 2, \"Grupo de edad\": \"50-59\", \"fecha (a\\u00f1o-mes-d\\u00eda)\": \"2020-05-25\", \"casos confirmados\": 10932}, {\"index\": 3, \"Grupo de edad\": \"60-69\", \"fecha (a\\u00f1o-mes-d\\u00eda)\": \"2020-05-25\", \"casos confirmados\": 6021}, {\"index\": 4, \"Grupo de edad\": \"70-79\", \"fecha (a\\u00f1o-mes-d\\u00eda)\": \"2020-05-25\", \"casos confirmados\": 2822}, {\"index\": 5, \"Grupo de edad\": \">=80\", \"fecha (a\\u00f1o-mes-d\\u00eda)\": \"2020-05-25\", \"casos confirmados\": 1692}, {\"index\": 0, \"Grupo de edad\": \"<=39\", \"fecha (a\\u00f1o-mes-d\\u00eda)\": \"2020-05-29\", \"casos confirmados\": 48246}, {\"index\": 1, \"Grupo de edad\": \"40-49\", \"fecha (a\\u00f1o-mes-d\\u00eda)\": \"2020-05-29\", \"casos confirmados\": 15665}, {\"index\": 2, \"Grupo de edad\": \"50-59\", \"fecha (a\\u00f1o-mes-d\\u00eda)\": \"2020-05-29\", \"casos confirmados\": 13525}, {\"index\": 3, \"Grupo de edad\": \"60-69\", \"fecha (a\\u00f1o-mes-d\\u00eda)\": \"2020-05-29\", \"casos confirmados\": 7515}, {\"index\": 4, \"Grupo de edad\": \"70-79\", \"fecha (a\\u00f1o-mes-d\\u00eda)\": \"2020-05-29\", \"casos confirmados\": 3548}, {\"index\": 5, \"Grupo de edad\": \">=80\", \"fecha (a\\u00f1o-mes-d\\u00eda)\": \"2020-05-29\", \"casos confirmados\": 2135}, {\"index\": 0, \"Grupo de edad\": \"<=39\", \"fecha (a\\u00f1o-mes-d\\u00eda)\": \"2020-06-01\", \"casos confirmados\": 55579}, {\"index\": 1, \"Grupo de edad\": \"40-49\", \"fecha (a\\u00f1o-mes-d\\u00eda)\": \"2020-06-01\", \"casos confirmados\": 18150}, {\"index\": 2, \"Grupo de edad\": \"50-59\", \"fecha (a\\u00f1o-mes-d\\u00eda)\": \"2020-06-01\", \"casos confirmados\": 15817}, {\"index\": 3, \"Grupo de edad\": \"60-69\", \"fecha (a\\u00f1o-mes-d\\u00eda)\": \"2020-06-01\", \"casos confirmados\": 8836}, {\"index\": 4, \"Grupo de edad\": \"70-79\", \"fecha (a\\u00f1o-mes-d\\u00eda)\": \"2020-06-01\", \"casos confirmados\": 4249}, {\"index\": 5, \"Grupo de edad\": \">=80\", \"fecha (a\\u00f1o-mes-d\\u00eda)\": \"2020-06-01\", \"casos confirmados\": 2526}, {\"index\": 0, \"Grupo de edad\": \"<=39\", \"fecha (a\\u00f1o-mes-d\\u00eda)\": \"2020-06-05\", \"casos confirmados\": 64367}, {\"index\": 1, \"Grupo de edad\": \"40-49\", \"fecha (a\\u00f1o-mes-d\\u00eda)\": \"2020-06-05\", \"casos confirmados\": 21192}, {\"index\": 2, \"Grupo de edad\": \"50-59\", \"fecha (a\\u00f1o-mes-d\\u00eda)\": \"2020-06-05\", \"casos confirmados\": 18555}, {\"index\": 3, \"Grupo de edad\": \"60-69\", \"fecha (a\\u00f1o-mes-d\\u00eda)\": \"2020-06-05\", \"casos confirmados\": 10378}, {\"index\": 4, \"Grupo de edad\": \"70-79\", \"fecha (a\\u00f1o-mes-d\\u00eda)\": \"2020-06-05\", \"casos confirmados\": 5033}, {\"index\": 5, \"Grupo de edad\": \">=80\", \"fecha (a\\u00f1o-mes-d\\u00eda)\": \"2020-06-05\", \"casos confirmados\": 2970}, {\"index\": 0, \"Grupo de edad\": \"<=39\", \"fecha (a\\u00f1o-mes-d\\u00eda)\": \"2020-06-08\", \"casos confirmados\": 72445}, {\"index\": 1, \"Grupo de edad\": \"40-49\", \"fecha (a\\u00f1o-mes-d\\u00eda)\": \"2020-06-08\", \"casos confirmados\": 24095}, {\"index\": 2, \"Grupo de edad\": \"50-59\", \"fecha (a\\u00f1o-mes-d\\u00eda)\": \"2020-06-08\", \"casos confirmados\": 21225}, {\"index\": 3, \"Grupo de edad\": \"60-69\", \"fecha (a\\u00f1o-mes-d\\u00eda)\": \"2020-06-08\", \"casos confirmados\": 11880}, {\"index\": 4, \"Grupo de edad\": \"70-79\", \"fecha (a\\u00f1o-mes-d\\u00eda)\": \"2020-06-08\", \"casos confirmados\": 5771}, {\"index\": 5, \"Grupo de edad\": \">=80\", \"fecha (a\\u00f1o-mes-d\\u00eda)\": \"2020-06-08\", \"casos confirmados\": 3426}, {\"index\": 0, \"Grupo de edad\": \"<=39\", \"fecha (a\\u00f1o-mes-d\\u00eda)\": \"2020-06-12\", \"casos confirmados\": 83297}, {\"index\": 1, \"Grupo de edad\": \"40-49\", \"fecha (a\\u00f1o-mes-d\\u00eda)\": \"2020-06-12\", \"casos confirmados\": 27767}, {\"index\": 2, \"Grupo de edad\": \"50-59\", \"fecha (a\\u00f1o-mes-d\\u00eda)\": \"2020-06-12\", \"casos confirmados\": 24756}, {\"index\": 3, \"Grupo de edad\": \"60-69\", \"fecha (a\\u00f1o-mes-d\\u00eda)\": \"2020-06-12\", \"casos confirmados\": 14011}, {\"index\": 4, \"Grupo de edad\": \"70-79\", \"fecha (a\\u00f1o-mes-d\\u00eda)\": \"2020-06-12\", \"casos confirmados\": 6827}, {\"index\": 5, \"Grupo de edad\": \">=80\", \"fecha (a\\u00f1o-mes-d\\u00eda)\": \"2020-06-12\", \"casos confirmados\": 4182}, {\"index\": 0, \"Grupo de edad\": \"<=39\", \"fecha (a\\u00f1o-mes-d\\u00eda)\": \"2020-06-15\", \"casos confirmados\": 92142}, {\"index\": 1, \"Grupo de edad\": \"40-49\", \"fecha (a\\u00f1o-mes-d\\u00eda)\": \"2020-06-15\", \"casos confirmados\": 31008}, {\"index\": 2, \"Grupo de edad\": \"50-59\", \"fecha (a\\u00f1o-mes-d\\u00eda)\": \"2020-06-15\", \"casos confirmados\": 28049}, {\"index\": 3, \"Grupo de edad\": \"60-69\", \"fecha (a\\u00f1o-mes-d\\u00eda)\": \"2020-06-15\", \"casos confirmados\": 15780}, {\"index\": 4, \"Grupo de edad\": \"70-79\", \"fecha (a\\u00f1o-mes-d\\u00eda)\": \"2020-06-15\", \"casos confirmados\": 7737}, {\"index\": 5, \"Grupo de edad\": \">=80\", \"fecha (a\\u00f1o-mes-d\\u00eda)\": \"2020-06-15\", \"casos confirmados\": 4714}, {\"index\": 0, \"Grupo de edad\": \"<=39\", \"fecha (a\\u00f1o-mes-d\\u00eda)\": \"2020-06-19\", \"casos confirmados\": 119298}, {\"index\": 1, \"Grupo de edad\": \"40-49\", \"fecha (a\\u00f1o-mes-d\\u00eda)\": \"2020-06-19\", \"casos confirmados\": 39668}, {\"index\": 2, \"Grupo de edad\": \"50-59\", \"fecha (a\\u00f1o-mes-d\\u00eda)\": \"2020-06-19\", \"casos confirmados\": 36128}, {\"index\": 3, \"Grupo de edad\": \"60-69\", \"fecha (a\\u00f1o-mes-d\\u00eda)\": \"2020-06-19\", \"casos confirmados\": 20250}, {\"index\": 4, \"Grupo de edad\": \"70-79\", \"fecha (a\\u00f1o-mes-d\\u00eda)\": \"2020-06-19\", \"casos confirmados\": 9905}, {\"index\": 5, \"Grupo de edad\": \">=80\", \"fecha (a\\u00f1o-mes-d\\u00eda)\": \"2020-06-19\", \"casos confirmados\": 6103}, {\"index\": 0, \"Grupo de edad\": \"<=39\", \"fecha (a\\u00f1o-mes-d\\u00eda)\": \"2020-06-23\", \"casos confirmados\": 131528}, {\"index\": 1, \"Grupo de edad\": \"40-49\", \"fecha (a\\u00f1o-mes-d\\u00eda)\": \"2020-06-23\", \"casos confirmados\": 43710}, {\"index\": 2, \"Grupo de edad\": \"50-59\", \"fecha (a\\u00f1o-mes-d\\u00eda)\": \"2020-06-23\", \"casos confirmados\": 39940}, {\"index\": 3, \"Grupo de edad\": \"60-69\", \"fecha (a\\u00f1o-mes-d\\u00eda)\": \"2020-06-23\", \"casos confirmados\": 22457}, {\"index\": 4, \"Grupo de edad\": \"70-79\", \"fecha (a\\u00f1o-mes-d\\u00eda)\": \"2020-06-23\", \"casos confirmados\": 10922}, {\"index\": 5, \"Grupo de edad\": \">=80\", \"fecha (a\\u00f1o-mes-d\\u00eda)\": \"2020-06-23\", \"casos confirmados\": 6804}, {\"index\": 0, \"Grupo de edad\": \"<=39\", \"fecha (a\\u00f1o-mes-d\\u00eda)\": \"2020-06-28\", \"casos confirmados\": 144968}, {\"index\": 1, \"Grupo de edad\": \"40-49\", \"fecha (a\\u00f1o-mes-d\\u00eda)\": \"2020-06-28\", \"casos confirmados\": 48112}, {\"index\": 2, \"Grupo de edad\": \"50-59\", \"fecha (a\\u00f1o-mes-d\\u00eda)\": \"2020-06-28\", \"casos confirmados\": 43958}, {\"index\": 3, \"Grupo de edad\": \"60-69\", \"fecha (a\\u00f1o-mes-d\\u00eda)\": \"2020-06-28\", \"casos confirmados\": 24809}, {\"index\": 4, \"Grupo de edad\": \"70-79\", \"fecha (a\\u00f1o-mes-d\\u00eda)\": \"2020-06-28\", \"casos confirmados\": 12067}, {\"index\": 5, \"Grupo de edad\": \">=80\", \"fecha (a\\u00f1o-mes-d\\u00eda)\": \"2020-06-28\", \"casos confirmados\": 7544}, {\"index\": 0, \"Grupo de edad\": \"<=39\", \"fecha (a\\u00f1o-mes-d\\u00eda)\": \"2020-07-01\", \"casos confirmados\": 150348}, {\"index\": 1, \"Grupo de edad\": \"40-49\", \"fecha (a\\u00f1o-mes-d\\u00eda)\": \"2020-07-01\", \"casos confirmados\": 49910}, {\"index\": 2, \"Grupo de edad\": \"50-59\", \"fecha (a\\u00f1o-mes-d\\u00eda)\": \"2020-07-01\", \"casos confirmados\": 45651}, {\"index\": 3, \"Grupo de edad\": \"60-69\", \"fecha (a\\u00f1o-mes-d\\u00eda)\": \"2020-07-01\", \"casos confirmados\": 25838}, {\"index\": 4, \"Grupo de edad\": \"70-79\", \"fecha (a\\u00f1o-mes-d\\u00eda)\": \"2020-07-01\", \"casos confirmados\": 12594}, {\"index\": 5, \"Grupo de edad\": \">=80\", \"fecha (a\\u00f1o-mes-d\\u00eda)\": \"2020-07-01\", \"casos confirmados\": 7847}, {\"index\": 0, \"Grupo de edad\": \"<=39\", \"fecha (a\\u00f1o-mes-d\\u00eda)\": \"2020-07-05\", \"casos confirmados\": 158970}, {\"index\": 1, \"Grupo de edad\": \"40-49\", \"fecha (a\\u00f1o-mes-d\\u00eda)\": \"2020-07-05\", \"casos confirmados\": 52793}, {\"index\": 2, \"Grupo de edad\": \"50-59\", \"fecha (a\\u00f1o-mes-d\\u00eda)\": \"2020-07-05\", \"casos confirmados\": 48431}, {\"index\": 3, \"Grupo de edad\": \"60-69\", \"fecha (a\\u00f1o-mes-d\\u00eda)\": \"2020-07-05\", \"casos confirmados\": 27482}, {\"index\": 4, \"Grupo de edad\": \"70-79\", \"fecha (a\\u00f1o-mes-d\\u00eda)\": \"2020-07-05\", \"casos confirmados\": 13360}, {\"index\": 5, \"Grupo de edad\": \">=80\", \"fecha (a\\u00f1o-mes-d\\u00eda)\": \"2020-07-05\", \"casos confirmados\": 8320}]}}, {\"mode\": \"vega-lite\"});\n",
       "</script>"
      ],
      "text/plain": [
       "alt.HConcatChart(...)"
      ]
     },
     "execution_count": 119,
     "metadata": {},
     "output_type": "execute_result"
    }
   ],
   "source": [
    "#hide_input\n",
    "selection2 = alt.selection_multi(fields=['Grupo de edad'], on='mouseover')\n",
    "\n",
    "color = alt.condition(selection2,\n",
    "                    alt.Color('Grupo de edad:N', scale=alt.Scale(scheme='tableau20'), legend=None),\n",
    "                    alt.value('lightgray'))\n",
    "\n",
    "bars = alt.Chart(cases).mark_area().encode(\n",
    "    x = 'fecha (año-mes-día):N',\n",
    "    y = alt.Y('casos confirmados:Q', stack=\"normalize\"),\n",
    "    color = color,\n",
    "    tooltip = ['fecha (año-mes-día)', 'Grupo de edad', 'casos confirmados'],\n",
    "    order=alt.Order(\n",
    "    # Sort the segments of the bars by this field\n",
    "    'index',\n",
    "    sort='descending'\n",
    "    )\n",
    ").add_selection(\n",
    "    selection2\n",
    ")\n",
    "\n",
    "legend = alt.Chart(cases).mark_point().encode(\n",
    "    y=alt.Y('Grupo de edad', axis=alt.Axis(orient='right'), sort=grupo_de_edad),\n",
    "    color=color\n",
    ").add_selection(\n",
    "    selection2\n",
    ")\n",
    "\n",
    "bars.properties(\n",
    "    title = 'COVID-19 en Chile: Evolución de casos confirmados por rango de edad',\n",
    "    width = 600\n",
    ") | legend"
   ]
  },
  {
   "cell_type": "markdown",
   "metadata": {
    "collapsed": true
   },
   "source": [
    "# Evolución de fallecidos confirmados por rango de edad"
   ]
  },
  {
   "cell_type": "code",
   "execution_count": 120,
   "metadata": {},
   "outputs": [],
   "source": [
    "#hide\n",
    "data = deaths_raw.reset_index().melt(['index', 'Grupo de edad'])"
   ]
  },
  {
   "cell_type": "code",
   "execution_count": 121,
   "metadata": {},
   "outputs": [],
   "source": [
    "#hide\n",
    "data = data.rename(columns={'variable': \"fecha (año-mes-día)\", 'value': \"fallecidos confirmados\"})"
   ]
  },
  {
   "cell_type": "code",
   "execution_count": 122,
   "metadata": {},
   "outputs": [
    {
     "data": {
      "text/html": [
       "\n",
       "<div id=\"altair-viz-76d0cb6edeff4f80adfee489a4ddf299\"></div>\n",
       "<script type=\"text/javascript\">\n",
       "  (function(spec, embedOpt){\n",
       "    let outputDiv = document.currentScript.previousElementSibling;\n",
       "    if (outputDiv.id !== \"altair-viz-76d0cb6edeff4f80adfee489a4ddf299\") {\n",
       "      outputDiv = document.getElementById(\"altair-viz-76d0cb6edeff4f80adfee489a4ddf299\");\n",
       "    }\n",
       "    const paths = {\n",
       "      \"vega\": \"https://cdn.jsdelivr.net/npm//vega@5?noext\",\n",
       "      \"vega-lib\": \"https://cdn.jsdelivr.net/npm//vega-lib?noext\",\n",
       "      \"vega-lite\": \"https://cdn.jsdelivr.net/npm//vega-lite@4.8.1?noext\",\n",
       "      \"vega-embed\": \"https://cdn.jsdelivr.net/npm//vega-embed@6?noext\",\n",
       "    };\n",
       "\n",
       "    function loadScript(lib) {\n",
       "      return new Promise(function(resolve, reject) {\n",
       "        var s = document.createElement('script');\n",
       "        s.src = paths[lib];\n",
       "        s.async = true;\n",
       "        s.onload = () => resolve(paths[lib]);\n",
       "        s.onerror = () => reject(`Error loading script: ${paths[lib]}`);\n",
       "        document.getElementsByTagName(\"head\")[0].appendChild(s);\n",
       "      });\n",
       "    }\n",
       "\n",
       "    function showError(err) {\n",
       "      outputDiv.innerHTML = `<div class=\"error\" style=\"color:red;\">${err}</div>`;\n",
       "      throw err;\n",
       "    }\n",
       "\n",
       "    function displayChart(vegaEmbed) {\n",
       "      vegaEmbed(outputDiv, spec, embedOpt)\n",
       "        .catch(err => showError(`Javascript Error: ${err.message}<br>This usually means there's a typo in your chart specification. See the javascript console for the full traceback.`));\n",
       "    }\n",
       "\n",
       "    if(typeof define === \"function\" && define.amd) {\n",
       "      requirejs.config({paths});\n",
       "      require([\"vega-embed\"], displayChart, err => showError(`Error loading script: ${err.message}`));\n",
       "    } else if (typeof vegaEmbed === \"function\") {\n",
       "      displayChart(vegaEmbed);\n",
       "    } else {\n",
       "      loadScript(\"vega\")\n",
       "        .then(() => loadScript(\"vega-lite\"))\n",
       "        .then(() => loadScript(\"vega-embed\"))\n",
       "        .catch(showError)\n",
       "        .then(() => displayChart(vegaEmbed));\n",
       "    }\n",
       "  })({\"config\": {\"view\": {\"continuousWidth\": 400, \"continuousHeight\": 300}}, \"hconcat\": [{\"mark\": \"bar\", \"encoding\": {\"color\": {\"condition\": {\"type\": \"nominal\", \"field\": \"Grupo de edad\", \"legend\": null, \"scale\": {\"scheme\": \"tableau20\"}, \"selection\": {\"or\": [\" \", \"selector005\"]}}, \"value\": \"lightgray\"}, \"order\": {\"type\": \"quantitative\", \"field\": \"index\", \"sort\": \"descending\"}, \"tooltip\": [{\"type\": \"nominal\", \"field\": \"fecha (a\\u00f1o-mes-d\\u00eda)\"}, {\"type\": \"nominal\", \"field\": \"Grupo de edad\"}, {\"type\": \"quantitative\", \"field\": \"fallecidos confirmados\"}], \"x\": {\"type\": \"nominal\", \"field\": \"fecha (a\\u00f1o-mes-d\\u00eda)\"}, \"y\": {\"type\": \"quantitative\", \"field\": \"fallecidos confirmados\"}}, \"selection\": {\" \": {\"type\": \"single\", \"fields\": [\"Grupo de edad\"], \"bind\": {\"input\": \"select\", \"options\": [\"<=39\", \"40-49\", \"50-59\", \"60-69\", \"70-79\", \"80-89\", \">=90\"]}}, \"selector005\": {\"type\": \"multi\", \"fields\": [\"Grupo de edad\"], \"on\": \"mouseover\"}}, \"title\": \"COVID-19 en Chile: Evoluci\\u00f3n de fallecidos confirmados por rango de edad\", \"transform\": [{\"filter\": {\"selection\": \" \"}}], \"width\": 600}, {\"mark\": \"point\", \"encoding\": {\"color\": {\"condition\": {\"type\": \"nominal\", \"field\": \"Grupo de edad\", \"legend\": null, \"scale\": {\"scheme\": \"tableau20\"}, \"selection\": {\"or\": [\" \", \"selector005\"]}}, \"value\": \"lightgray\"}, \"y\": {\"type\": \"nominal\", \"axis\": {\"orient\": \"right\"}, \"field\": \"Grupo de edad\", \"sort\": [\"<=39\", \"40-49\", \"50-59\", \"60-69\", \"70-79\", \"80-89\", \">=90\"]}}, \"selection\": {\" \": {\"type\": \"single\", \"fields\": [\"Grupo de edad\"], \"bind\": {\"input\": \"select\", \"options\": [\"<=39\", \"40-49\", \"50-59\", \"60-69\", \"70-79\", \"80-89\", \">=90\"]}}, \"selector005\": {\"type\": \"multi\", \"fields\": [\"Grupo de edad\"], \"on\": \"mouseover\"}}}], \"data\": {\"name\": \"data-e2bc09ba581df55750dda807120b3289\"}, \"$schema\": \"https://vega.github.io/schema/vega-lite/v4.8.1.json\", \"datasets\": {\"data-e2bc09ba581df55750dda807120b3289\": [{\"index\": 0, \"Grupo de edad\": \"<=39\", \"fecha (a\\u00f1o-mes-d\\u00eda)\": \"2020-04-09\", \"fallecidos confirmados\": 2}, {\"index\": 1, \"Grupo de edad\": \"40-49\", \"fecha (a\\u00f1o-mes-d\\u00eda)\": \"2020-04-09\", \"fallecidos confirmados\": 1}, {\"index\": 2, \"Grupo de edad\": \"50-59\", \"fecha (a\\u00f1o-mes-d\\u00eda)\": \"2020-04-09\", \"fallecidos confirmados\": 1}, {\"index\": 3, \"Grupo de edad\": \"60-69\", \"fecha (a\\u00f1o-mes-d\\u00eda)\": \"2020-04-09\", \"fallecidos confirmados\": 9}, {\"index\": 4, \"Grupo de edad\": \"70-79\", \"fecha (a\\u00f1o-mes-d\\u00eda)\": \"2020-04-09\", \"fallecidos confirmados\": 21}, {\"index\": 5, \"Grupo de edad\": \"80-89\", \"fecha (a\\u00f1o-mes-d\\u00eda)\": \"2020-04-09\", \"fallecidos confirmados\": 19}, {\"index\": 6, \"Grupo de edad\": \">=90\", \"fecha (a\\u00f1o-mes-d\\u00eda)\": \"2020-04-09\", \"fallecidos confirmados\": 4}, {\"index\": 0, \"Grupo de edad\": \"<=39\", \"fecha (a\\u00f1o-mes-d\\u00eda)\": \"2020-04-10\", \"fallecidos confirmados\": 2}, {\"index\": 1, \"Grupo de edad\": \"40-49\", \"fecha (a\\u00f1o-mes-d\\u00eda)\": \"2020-04-10\", \"fallecidos confirmados\": 2}, {\"index\": 2, \"Grupo de edad\": \"50-59\", \"fecha (a\\u00f1o-mes-d\\u00eda)\": \"2020-04-10\", \"fallecidos confirmados\": 2}, {\"index\": 3, \"Grupo de edad\": \"60-69\", \"fecha (a\\u00f1o-mes-d\\u00eda)\": \"2020-04-10\", \"fallecidos confirmados\": 10}, {\"index\": 4, \"Grupo de edad\": \"70-79\", \"fecha (a\\u00f1o-mes-d\\u00eda)\": \"2020-04-10\", \"fallecidos confirmados\": 22}, {\"index\": 5, \"Grupo de edad\": \"80-89\", \"fecha (a\\u00f1o-mes-d\\u00eda)\": \"2020-04-10\", \"fallecidos confirmados\": 21}, {\"index\": 6, \"Grupo de edad\": \">=90\", \"fecha (a\\u00f1o-mes-d\\u00eda)\": \"2020-04-10\", \"fallecidos confirmados\": 6}, {\"index\": 0, \"Grupo de edad\": \"<=39\", \"fecha (a\\u00f1o-mes-d\\u00eda)\": \"2020-04-11\", \"fallecidos confirmados\": 3}, {\"index\": 1, \"Grupo de edad\": \"40-49\", \"fecha (a\\u00f1o-mes-d\\u00eda)\": \"2020-04-11\", \"fallecidos confirmados\": 2}, {\"index\": 2, \"Grupo de edad\": \"50-59\", \"fecha (a\\u00f1o-mes-d\\u00eda)\": \"2020-04-11\", \"fallecidos confirmados\": 2}, {\"index\": 3, \"Grupo de edad\": \"60-69\", \"fecha (a\\u00f1o-mes-d\\u00eda)\": \"2020-04-11\", \"fallecidos confirmados\": 12}, {\"index\": 4, \"Grupo de edad\": \"70-79\", \"fecha (a\\u00f1o-mes-d\\u00eda)\": \"2020-04-11\", \"fallecidos confirmados\": 24}, {\"index\": 5, \"Grupo de edad\": \"80-89\", \"fecha (a\\u00f1o-mes-d\\u00eda)\": \"2020-04-11\", \"fallecidos confirmados\": 24}, {\"index\": 6, \"Grupo de edad\": \">=90\", \"fecha (a\\u00f1o-mes-d\\u00eda)\": \"2020-04-11\", \"fallecidos confirmados\": 6}, {\"index\": 0, \"Grupo de edad\": \"<=39\", \"fecha (a\\u00f1o-mes-d\\u00eda)\": \"2020-04-12\", \"fallecidos confirmados\": 3}, {\"index\": 1, \"Grupo de edad\": \"40-49\", \"fecha (a\\u00f1o-mes-d\\u00eda)\": \"2020-04-12\", \"fallecidos confirmados\": 2}, {\"index\": 2, \"Grupo de edad\": \"50-59\", \"fecha (a\\u00f1o-mes-d\\u00eda)\": \"2020-04-12\", \"fallecidos confirmados\": 3}, {\"index\": 3, \"Grupo de edad\": \"60-69\", \"fecha (a\\u00f1o-mes-d\\u00eda)\": \"2020-04-12\", \"fallecidos confirmados\": 12}, {\"index\": 4, \"Grupo de edad\": \"70-79\", \"fecha (a\\u00f1o-mes-d\\u00eda)\": \"2020-04-12\", \"fallecidos confirmados\": 28}, {\"index\": 5, \"Grupo de edad\": \"80-89\", \"fecha (a\\u00f1o-mes-d\\u00eda)\": \"2020-04-12\", \"fallecidos confirmados\": 25}, {\"index\": 6, \"Grupo de edad\": \">=90\", \"fecha (a\\u00f1o-mes-d\\u00eda)\": \"2020-04-12\", \"fallecidos confirmados\": 7}, {\"index\": 0, \"Grupo de edad\": \"<=39\", \"fecha (a\\u00f1o-mes-d\\u00eda)\": \"2020-04-13\", \"fallecidos confirmados\": 3}, {\"index\": 1, \"Grupo de edad\": \"40-49\", \"fecha (a\\u00f1o-mes-d\\u00eda)\": \"2020-04-13\", \"fallecidos confirmados\": 2}, {\"index\": 2, \"Grupo de edad\": \"50-59\", \"fecha (a\\u00f1o-mes-d\\u00eda)\": \"2020-04-13\", \"fallecidos confirmados\": 3}, {\"index\": 3, \"Grupo de edad\": \"60-69\", \"fecha (a\\u00f1o-mes-d\\u00eda)\": \"2020-04-13\", \"fallecidos confirmados\": 12}, {\"index\": 4, \"Grupo de edad\": \"70-79\", \"fecha (a\\u00f1o-mes-d\\u00eda)\": \"2020-04-13\", \"fallecidos confirmados\": 29}, {\"index\": 5, \"Grupo de edad\": \"80-89\", \"fecha (a\\u00f1o-mes-d\\u00eda)\": \"2020-04-13\", \"fallecidos confirmados\": 26}, {\"index\": 6, \"Grupo de edad\": \">=90\", \"fecha (a\\u00f1o-mes-d\\u00eda)\": \"2020-04-13\", \"fallecidos confirmados\": 7}, {\"index\": 0, \"Grupo de edad\": \"<=39\", \"fecha (a\\u00f1o-mes-d\\u00eda)\": \"2020-04-14\", \"fallecidos confirmados\": 3}, {\"index\": 1, \"Grupo de edad\": \"40-49\", \"fecha (a\\u00f1o-mes-d\\u00eda)\": \"2020-04-14\", \"fallecidos confirmados\": 2}, {\"index\": 2, \"Grupo de edad\": \"50-59\", \"fecha (a\\u00f1o-mes-d\\u00eda)\": \"2020-04-14\", \"fallecidos confirmados\": 5}, {\"index\": 3, \"Grupo de edad\": \"60-69\", \"fecha (a\\u00f1o-mes-d\\u00eda)\": \"2020-04-14\", \"fallecidos confirmados\": 12}, {\"index\": 4, \"Grupo de edad\": \"70-79\", \"fecha (a\\u00f1o-mes-d\\u00eda)\": \"2020-04-14\", \"fallecidos confirmados\": 30}, {\"index\": 5, \"Grupo de edad\": \"80-89\", \"fecha (a\\u00f1o-mes-d\\u00eda)\": \"2020-04-14\", \"fallecidos confirmados\": 32}, {\"index\": 6, \"Grupo de edad\": \">=90\", \"fecha (a\\u00f1o-mes-d\\u00eda)\": \"2020-04-14\", \"fallecidos confirmados\": 8}, {\"index\": 0, \"Grupo de edad\": \"<=39\", \"fecha (a\\u00f1o-mes-d\\u00eda)\": \"2020-04-15\", \"fallecidos confirmados\": 3}, {\"index\": 1, \"Grupo de edad\": \"40-49\", \"fecha (a\\u00f1o-mes-d\\u00eda)\": \"2020-04-15\", \"fallecidos confirmados\": 2}, {\"index\": 2, \"Grupo de edad\": \"50-59\", \"fecha (a\\u00f1o-mes-d\\u00eda)\": \"2020-04-15\", \"fallecidos confirmados\": 5}, {\"index\": 3, \"Grupo de edad\": \"60-69\", \"fecha (a\\u00f1o-mes-d\\u00eda)\": \"2020-04-15\", \"fallecidos confirmados\": 12}, {\"index\": 4, \"Grupo de edad\": \"70-79\", \"fecha (a\\u00f1o-mes-d\\u00eda)\": \"2020-04-15\", \"fallecidos confirmados\": 31}, {\"index\": 5, \"Grupo de edad\": \"80-89\", \"fecha (a\\u00f1o-mes-d\\u00eda)\": \"2020-04-15\", \"fallecidos confirmados\": 33}, {\"index\": 6, \"Grupo de edad\": \">=90\", \"fecha (a\\u00f1o-mes-d\\u00eda)\": \"2020-04-15\", \"fallecidos confirmados\": 8}, {\"index\": 0, \"Grupo de edad\": \"<=39\", \"fecha (a\\u00f1o-mes-d\\u00eda)\": \"2020-04-16\", \"fallecidos confirmados\": 3}, {\"index\": 1, \"Grupo de edad\": \"40-49\", \"fecha (a\\u00f1o-mes-d\\u00eda)\": \"2020-04-16\", \"fallecidos confirmados\": 2}, {\"index\": 2, \"Grupo de edad\": \"50-59\", \"fecha (a\\u00f1o-mes-d\\u00eda)\": \"2020-04-16\", \"fallecidos confirmados\": 6}, {\"index\": 3, \"Grupo de edad\": \"60-69\", \"fecha (a\\u00f1o-mes-d\\u00eda)\": \"2020-04-16\", \"fallecidos confirmados\": 14}, {\"index\": 4, \"Grupo de edad\": \"70-79\", \"fecha (a\\u00f1o-mes-d\\u00eda)\": \"2020-04-16\", \"fallecidos confirmados\": 32}, {\"index\": 5, \"Grupo de edad\": \"80-89\", \"fecha (a\\u00f1o-mes-d\\u00eda)\": \"2020-04-16\", \"fallecidos confirmados\": 38}, {\"index\": 6, \"Grupo de edad\": \">=90\", \"fecha (a\\u00f1o-mes-d\\u00eda)\": \"2020-04-16\", \"fallecidos confirmados\": 10}, {\"index\": 0, \"Grupo de edad\": \"<=39\", \"fecha (a\\u00f1o-mes-d\\u00eda)\": \"2020-04-17\", \"fallecidos confirmados\": 4}, {\"index\": 1, \"Grupo de edad\": \"40-49\", \"fecha (a\\u00f1o-mes-d\\u00eda)\": \"2020-04-17\", \"fallecidos confirmados\": 2}, {\"index\": 2, \"Grupo de edad\": \"50-59\", \"fecha (a\\u00f1o-mes-d\\u00eda)\": \"2020-04-17\", \"fallecidos confirmados\": 8}, {\"index\": 3, \"Grupo de edad\": \"60-69\", \"fecha (a\\u00f1o-mes-d\\u00eda)\": \"2020-04-17\", \"fallecidos confirmados\": 16}, {\"index\": 4, \"Grupo de edad\": \"70-79\", \"fecha (a\\u00f1o-mes-d\\u00eda)\": \"2020-04-17\", \"fallecidos confirmados\": 36}, {\"index\": 5, \"Grupo de edad\": \"80-89\", \"fecha (a\\u00f1o-mes-d\\u00eda)\": \"2020-04-17\", \"fallecidos confirmados\": 40}, {\"index\": 6, \"Grupo de edad\": \">=90\", \"fecha (a\\u00f1o-mes-d\\u00eda)\": \"2020-04-17\", \"fallecidos confirmados\": 10}, {\"index\": 0, \"Grupo de edad\": \"<=39\", \"fecha (a\\u00f1o-mes-d\\u00eda)\": \"2020-04-18\", \"fallecidos confirmados\": 4}, {\"index\": 1, \"Grupo de edad\": \"40-49\", \"fecha (a\\u00f1o-mes-d\\u00eda)\": \"2020-04-18\", \"fallecidos confirmados\": 2}, {\"index\": 2, \"Grupo de edad\": \"50-59\", \"fecha (a\\u00f1o-mes-d\\u00eda)\": \"2020-04-18\", \"fallecidos confirmados\": 8}, {\"index\": 3, \"Grupo de edad\": \"60-69\", \"fecha (a\\u00f1o-mes-d\\u00eda)\": \"2020-04-18\", \"fallecidos confirmados\": 17}, {\"index\": 4, \"Grupo de edad\": \"70-79\", \"fecha (a\\u00f1o-mes-d\\u00eda)\": \"2020-04-18\", \"fallecidos confirmados\": 39}, {\"index\": 5, \"Grupo de edad\": \"80-89\", \"fecha (a\\u00f1o-mes-d\\u00eda)\": \"2020-04-18\", \"fallecidos confirmados\": 44}, {\"index\": 6, \"Grupo de edad\": \">=90\", \"fecha (a\\u00f1o-mes-d\\u00eda)\": \"2020-04-18\", \"fallecidos confirmados\": 12}, {\"index\": 0, \"Grupo de edad\": \"<=39\", \"fecha (a\\u00f1o-mes-d\\u00eda)\": \"2020-04-19\", \"fallecidos confirmados\": 4}, {\"index\": 1, \"Grupo de edad\": \"40-49\", \"fecha (a\\u00f1o-mes-d\\u00eda)\": \"2020-04-19\", \"fallecidos confirmados\": 2}, {\"index\": 2, \"Grupo de edad\": \"50-59\", \"fecha (a\\u00f1o-mes-d\\u00eda)\": \"2020-04-19\", \"fallecidos confirmados\": 9}, {\"index\": 3, \"Grupo de edad\": \"60-69\", \"fecha (a\\u00f1o-mes-d\\u00eda)\": \"2020-04-19\", \"fallecidos confirmados\": 18}, {\"index\": 4, \"Grupo de edad\": \"70-79\", \"fecha (a\\u00f1o-mes-d\\u00eda)\": \"2020-04-19\", \"fallecidos confirmados\": 41}, {\"index\": 5, \"Grupo de edad\": \"80-89\", \"fecha (a\\u00f1o-mes-d\\u00eda)\": \"2020-04-19\", \"fallecidos confirmados\": 46}, {\"index\": 6, \"Grupo de edad\": \">=90\", \"fecha (a\\u00f1o-mes-d\\u00eda)\": \"2020-04-19\", \"fallecidos confirmados\": 13}, {\"index\": 0, \"Grupo de edad\": \"<=39\", \"fecha (a\\u00f1o-mes-d\\u00eda)\": \"2020-04-20\", \"fallecidos confirmados\": 4}, {\"index\": 1, \"Grupo de edad\": \"40-49\", \"fecha (a\\u00f1o-mes-d\\u00eda)\": \"2020-04-20\", \"fallecidos confirmados\": 2}, {\"index\": 2, \"Grupo de edad\": \"50-59\", \"fecha (a\\u00f1o-mes-d\\u00eda)\": \"2020-04-20\", \"fallecidos confirmados\": 11}, {\"index\": 3, \"Grupo de edad\": \"60-69\", \"fecha (a\\u00f1o-mes-d\\u00eda)\": \"2020-04-20\", \"fallecidos confirmados\": 19}, {\"index\": 4, \"Grupo de edad\": \"70-79\", \"fecha (a\\u00f1o-mes-d\\u00eda)\": \"2020-04-20\", \"fallecidos confirmados\": 42}, {\"index\": 5, \"Grupo de edad\": \"80-89\", \"fecha (a\\u00f1o-mes-d\\u00eda)\": \"2020-04-20\", \"fallecidos confirmados\": 47}, {\"index\": 6, \"Grupo de edad\": \">=90\", \"fecha (a\\u00f1o-mes-d\\u00eda)\": \"2020-04-20\", \"fallecidos confirmados\": 14}, {\"index\": 0, \"Grupo de edad\": \"<=39\", \"fecha (a\\u00f1o-mes-d\\u00eda)\": \"2020-04-21\", \"fallecidos confirmados\": 5}, {\"index\": 1, \"Grupo de edad\": \"40-49\", \"fecha (a\\u00f1o-mes-d\\u00eda)\": \"2020-04-21\", \"fallecidos confirmados\": 2}, {\"index\": 2, \"Grupo de edad\": \"50-59\", \"fecha (a\\u00f1o-mes-d\\u00eda)\": \"2020-04-21\", \"fallecidos confirmados\": 13}, {\"index\": 3, \"Grupo de edad\": \"60-69\", \"fecha (a\\u00f1o-mes-d\\u00eda)\": \"2020-04-21\", \"fallecidos confirmados\": 20}, {\"index\": 4, \"Grupo de edad\": \"70-79\", \"fecha (a\\u00f1o-mes-d\\u00eda)\": \"2020-04-21\", \"fallecidos confirmados\": 43}, {\"index\": 5, \"Grupo de edad\": \"80-89\", \"fecha (a\\u00f1o-mes-d\\u00eda)\": \"2020-04-21\", \"fallecidos confirmados\": 50}, {\"index\": 6, \"Grupo de edad\": \">=90\", \"fecha (a\\u00f1o-mes-d\\u00eda)\": \"2020-04-21\", \"fallecidos confirmados\": 14}, {\"index\": 0, \"Grupo de edad\": \"<=39\", \"fecha (a\\u00f1o-mes-d\\u00eda)\": \"2020-04-22\", \"fallecidos confirmados\": 5}, {\"index\": 1, \"Grupo de edad\": \"40-49\", \"fecha (a\\u00f1o-mes-d\\u00eda)\": \"2020-04-22\", \"fallecidos confirmados\": 2}, {\"index\": 2, \"Grupo de edad\": \"50-59\", \"fecha (a\\u00f1o-mes-d\\u00eda)\": \"2020-04-22\", \"fallecidos confirmados\": 14}, {\"index\": 3, \"Grupo de edad\": \"60-69\", \"fecha (a\\u00f1o-mes-d\\u00eda)\": \"2020-04-22\", \"fallecidos confirmados\": 26}, {\"index\": 4, \"Grupo de edad\": \"70-79\", \"fecha (a\\u00f1o-mes-d\\u00eda)\": \"2020-04-22\", \"fallecidos confirmados\": 47}, {\"index\": 5, \"Grupo de edad\": \"80-89\", \"fecha (a\\u00f1o-mes-d\\u00eda)\": \"2020-04-22\", \"fallecidos confirmados\": 51}, {\"index\": 6, \"Grupo de edad\": \">=90\", \"fecha (a\\u00f1o-mes-d\\u00eda)\": \"2020-04-22\", \"fallecidos confirmados\": 15}, {\"index\": 0, \"Grupo de edad\": \"<=39\", \"fecha (a\\u00f1o-mes-d\\u00eda)\": \"2020-04-23\", \"fallecidos confirmados\": 5}, {\"index\": 1, \"Grupo de edad\": \"40-49\", \"fecha (a\\u00f1o-mes-d\\u00eda)\": \"2020-04-23\", \"fallecidos confirmados\": 3}, {\"index\": 2, \"Grupo de edad\": \"50-59\", \"fecha (a\\u00f1o-mes-d\\u00eda)\": \"2020-04-23\", \"fallecidos confirmados\": 14}, {\"index\": 3, \"Grupo de edad\": \"60-69\", \"fecha (a\\u00f1o-mes-d\\u00eda)\": \"2020-04-23\", \"fallecidos confirmados\": 28}, {\"index\": 4, \"Grupo de edad\": \"70-79\", \"fecha (a\\u00f1o-mes-d\\u00eda)\": \"2020-04-23\", \"fallecidos confirmados\": 48}, {\"index\": 5, \"Grupo de edad\": \"80-89\", \"fecha (a\\u00f1o-mes-d\\u00eda)\": \"2020-04-23\", \"fallecidos confirmados\": 54}, {\"index\": 6, \"Grupo de edad\": \">=90\", \"fecha (a\\u00f1o-mes-d\\u00eda)\": \"2020-04-23\", \"fallecidos confirmados\": 16}, {\"index\": 0, \"Grupo de edad\": \"<=39\", \"fecha (a\\u00f1o-mes-d\\u00eda)\": \"2020-04-24\", \"fallecidos confirmados\": 5}, {\"index\": 1, \"Grupo de edad\": \"40-49\", \"fecha (a\\u00f1o-mes-d\\u00eda)\": \"2020-04-24\", \"fallecidos confirmados\": 4}, {\"index\": 2, \"Grupo de edad\": \"50-59\", \"fecha (a\\u00f1o-mes-d\\u00eda)\": \"2020-04-24\", \"fallecidos confirmados\": 14}, {\"index\": 3, \"Grupo de edad\": \"60-69\", \"fecha (a\\u00f1o-mes-d\\u00eda)\": \"2020-04-24\", \"fallecidos confirmados\": 30}, {\"index\": 4, \"Grupo de edad\": \"70-79\", \"fecha (a\\u00f1o-mes-d\\u00eda)\": \"2020-04-24\", \"fallecidos confirmados\": 49}, {\"index\": 5, \"Grupo de edad\": \"80-89\", \"fecha (a\\u00f1o-mes-d\\u00eda)\": \"2020-04-24\", \"fallecidos confirmados\": 56}, {\"index\": 6, \"Grupo de edad\": \">=90\", \"fecha (a\\u00f1o-mes-d\\u00eda)\": \"2020-04-24\", \"fallecidos confirmados\": 16}, {\"index\": 0, \"Grupo de edad\": \"<=39\", \"fecha (a\\u00f1o-mes-d\\u00eda)\": \"2020-04-25\", \"fallecidos confirmados\": 6}, {\"index\": 1, \"Grupo de edad\": \"40-49\", \"fecha (a\\u00f1o-mes-d\\u00eda)\": \"2020-04-25\", \"fallecidos confirmados\": 6}, {\"index\": 2, \"Grupo de edad\": \"50-59\", \"fecha (a\\u00f1o-mes-d\\u00eda)\": \"2020-04-25\", \"fallecidos confirmados\": 15}, {\"index\": 3, \"Grupo de edad\": \"60-69\", \"fecha (a\\u00f1o-mes-d\\u00eda)\": \"2020-04-25\", \"fallecidos confirmados\": 31}, {\"index\": 4, \"Grupo de edad\": \"70-79\", \"fecha (a\\u00f1o-mes-d\\u00eda)\": \"2020-04-25\", \"fallecidos confirmados\": 50}, {\"index\": 5, \"Grupo de edad\": \"80-89\", \"fecha (a\\u00f1o-mes-d\\u00eda)\": \"2020-04-25\", \"fallecidos confirmados\": 57}, {\"index\": 6, \"Grupo de edad\": \">=90\", \"fecha (a\\u00f1o-mes-d\\u00eda)\": \"2020-04-25\", \"fallecidos confirmados\": 16}, {\"index\": 0, \"Grupo de edad\": \"<=39\", \"fecha (a\\u00f1o-mes-d\\u00eda)\": \"2020-04-26\", \"fallecidos confirmados\": 6}, {\"index\": 1, \"Grupo de edad\": \"40-49\", \"fecha (a\\u00f1o-mes-d\\u00eda)\": \"2020-04-26\", \"fallecidos confirmados\": 7}, {\"index\": 2, \"Grupo de edad\": \"50-59\", \"fecha (a\\u00f1o-mes-d\\u00eda)\": \"2020-04-26\", \"fallecidos confirmados\": 15}, {\"index\": 3, \"Grupo de edad\": \"60-69\", \"fecha (a\\u00f1o-mes-d\\u00eda)\": \"2020-04-26\", \"fallecidos confirmados\": 33}, {\"index\": 4, \"Grupo de edad\": \"70-79\", \"fecha (a\\u00f1o-mes-d\\u00eda)\": \"2020-04-26\", \"fallecidos confirmados\": 52}, {\"index\": 5, \"Grupo de edad\": \"80-89\", \"fecha (a\\u00f1o-mes-d\\u00eda)\": \"2020-04-26\", \"fallecidos confirmados\": 59}, {\"index\": 6, \"Grupo de edad\": \">=90\", \"fecha (a\\u00f1o-mes-d\\u00eda)\": \"2020-04-26\", \"fallecidos confirmados\": 17}, {\"index\": 0, \"Grupo de edad\": \"<=39\", \"fecha (a\\u00f1o-mes-d\\u00eda)\": \"2020-04-27\", \"fallecidos confirmados\": 6}, {\"index\": 1, \"Grupo de edad\": \"40-49\", \"fecha (a\\u00f1o-mes-d\\u00eda)\": \"2020-04-27\", \"fallecidos confirmados\": 7}, {\"index\": 2, \"Grupo de edad\": \"50-59\", \"fecha (a\\u00f1o-mes-d\\u00eda)\": \"2020-04-27\", \"fallecidos confirmados\": 16}, {\"index\": 3, \"Grupo de edad\": \"60-69\", \"fecha (a\\u00f1o-mes-d\\u00eda)\": \"2020-04-27\", \"fallecidos confirmados\": 35}, {\"index\": 4, \"Grupo de edad\": \"70-79\", \"fecha (a\\u00f1o-mes-d\\u00eda)\": \"2020-04-27\", \"fallecidos confirmados\": 57}, {\"index\": 5, \"Grupo de edad\": \"80-89\", \"fecha (a\\u00f1o-mes-d\\u00eda)\": \"2020-04-27\", \"fallecidos confirmados\": 60}, {\"index\": 6, \"Grupo de edad\": \">=90\", \"fecha (a\\u00f1o-mes-d\\u00eda)\": \"2020-04-27\", \"fallecidos confirmados\": 17}, {\"index\": 0, \"Grupo de edad\": \"<=39\", \"fecha (a\\u00f1o-mes-d\\u00eda)\": \"2020-04-28\", \"fallecidos confirmados\": 6}, {\"index\": 1, \"Grupo de edad\": \"40-49\", \"fecha (a\\u00f1o-mes-d\\u00eda)\": \"2020-04-28\", \"fallecidos confirmados\": 8}, {\"index\": 2, \"Grupo de edad\": \"50-59\", \"fecha (a\\u00f1o-mes-d\\u00eda)\": \"2020-04-28\", \"fallecidos confirmados\": 16}, {\"index\": 3, \"Grupo de edad\": \"60-69\", \"fecha (a\\u00f1o-mes-d\\u00eda)\": \"2020-04-28\", \"fallecidos confirmados\": 35}, {\"index\": 4, \"Grupo de edad\": \"70-79\", \"fecha (a\\u00f1o-mes-d\\u00eda)\": \"2020-04-28\", \"fallecidos confirmados\": 60}, {\"index\": 5, \"Grupo de edad\": \"80-89\", \"fecha (a\\u00f1o-mes-d\\u00eda)\": \"2020-04-28\", \"fallecidos confirmados\": 62}, {\"index\": 6, \"Grupo de edad\": \">=90\", \"fecha (a\\u00f1o-mes-d\\u00eda)\": \"2020-04-28\", \"fallecidos confirmados\": 20}, {\"index\": 0, \"Grupo de edad\": \"<=39\", \"fecha (a\\u00f1o-mes-d\\u00eda)\": \"2020-04-29\", \"fallecidos confirmados\": 6}, {\"index\": 1, \"Grupo de edad\": \"40-49\", \"fecha (a\\u00f1o-mes-d\\u00eda)\": \"2020-04-29\", \"fallecidos confirmados\": 9}, {\"index\": 2, \"Grupo de edad\": \"50-59\", \"fecha (a\\u00f1o-mes-d\\u00eda)\": \"2020-04-29\", \"fallecidos confirmados\": 17}, {\"index\": 3, \"Grupo de edad\": \"60-69\", \"fecha (a\\u00f1o-mes-d\\u00eda)\": \"2020-04-29\", \"fallecidos confirmados\": 38}, {\"index\": 4, \"Grupo de edad\": \"70-79\", \"fecha (a\\u00f1o-mes-d\\u00eda)\": \"2020-04-29\", \"fallecidos confirmados\": 60}, {\"index\": 5, \"Grupo de edad\": \"80-89\", \"fecha (a\\u00f1o-mes-d\\u00eda)\": \"2020-04-29\", \"fallecidos confirmados\": 65}, {\"index\": 6, \"Grupo de edad\": \">=90\", \"fecha (a\\u00f1o-mes-d\\u00eda)\": \"2020-04-29\", \"fallecidos confirmados\": 21}, {\"index\": 0, \"Grupo de edad\": \"<=39\", \"fecha (a\\u00f1o-mes-d\\u00eda)\": \"2020-04-30\", \"fallecidos confirmados\": 6}, {\"index\": 1, \"Grupo de edad\": \"40-49\", \"fecha (a\\u00f1o-mes-d\\u00eda)\": \"2020-04-30\", \"fallecidos confirmados\": 10}, {\"index\": 2, \"Grupo de edad\": \"50-59\", \"fecha (a\\u00f1o-mes-d\\u00eda)\": \"2020-04-30\", \"fallecidos confirmados\": 17}, {\"index\": 3, \"Grupo de edad\": \"60-69\", \"fecha (a\\u00f1o-mes-d\\u00eda)\": \"2020-04-30\", \"fallecidos confirmados\": 40}, {\"index\": 4, \"Grupo de edad\": \"70-79\", \"fecha (a\\u00f1o-mes-d\\u00eda)\": \"2020-04-30\", \"fallecidos confirmados\": 65}, {\"index\": 5, \"Grupo de edad\": \"80-89\", \"fecha (a\\u00f1o-mes-d\\u00eda)\": \"2020-04-30\", \"fallecidos confirmados\": 68}, {\"index\": 6, \"Grupo de edad\": \">=90\", \"fecha (a\\u00f1o-mes-d\\u00eda)\": \"2020-04-30\", \"fallecidos confirmados\": 21}, {\"index\": 0, \"Grupo de edad\": \"<=39\", \"fecha (a\\u00f1o-mes-d\\u00eda)\": \"2020-05-01\", \"fallecidos confirmados\": 6}, {\"index\": 1, \"Grupo de edad\": \"40-49\", \"fecha (a\\u00f1o-mes-d\\u00eda)\": \"2020-05-01\", \"fallecidos confirmados\": 10}, {\"index\": 2, \"Grupo de edad\": \"50-59\", \"fecha (a\\u00f1o-mes-d\\u00eda)\": \"2020-05-01\", \"fallecidos confirmados\": 18}, {\"index\": 3, \"Grupo de edad\": \"60-69\", \"fecha (a\\u00f1o-mes-d\\u00eda)\": \"2020-05-01\", \"fallecidos confirmados\": 41}, {\"index\": 4, \"Grupo de edad\": \"70-79\", \"fecha (a\\u00f1o-mes-d\\u00eda)\": \"2020-05-01\", \"fallecidos confirmados\": 68}, {\"index\": 5, \"Grupo de edad\": \"80-89\", \"fecha (a\\u00f1o-mes-d\\u00eda)\": \"2020-05-01\", \"fallecidos confirmados\": 70}, {\"index\": 6, \"Grupo de edad\": \">=90\", \"fecha (a\\u00f1o-mes-d\\u00eda)\": \"2020-05-01\", \"fallecidos confirmados\": 21}, {\"index\": 0, \"Grupo de edad\": \"<=39\", \"fecha (a\\u00f1o-mes-d\\u00eda)\": \"2020-05-02\", \"fallecidos confirmados\": 6}, {\"index\": 1, \"Grupo de edad\": \"40-49\", \"fecha (a\\u00f1o-mes-d\\u00eda)\": \"2020-05-02\", \"fallecidos confirmados\": 11}, {\"index\": 2, \"Grupo de edad\": \"50-59\", \"fecha (a\\u00f1o-mes-d\\u00eda)\": \"2020-05-02\", \"fallecidos confirmados\": 18}, {\"index\": 3, \"Grupo de edad\": \"60-69\", \"fecha (a\\u00f1o-mes-d\\u00eda)\": \"2020-05-02\", \"fallecidos confirmados\": 43}, {\"index\": 4, \"Grupo de edad\": \"70-79\", \"fecha (a\\u00f1o-mes-d\\u00eda)\": \"2020-05-02\", \"fallecidos confirmados\": 72}, {\"index\": 5, \"Grupo de edad\": \"80-89\", \"fecha (a\\u00f1o-mes-d\\u00eda)\": \"2020-05-02\", \"fallecidos confirmados\": 75}, {\"index\": 6, \"Grupo de edad\": \">=90\", \"fecha (a\\u00f1o-mes-d\\u00eda)\": \"2020-05-02\", \"fallecidos confirmados\": 23}, {\"index\": 0, \"Grupo de edad\": \"<=39\", \"fecha (a\\u00f1o-mes-d\\u00eda)\": \"2020-05-03\", \"fallecidos confirmados\": 6}, {\"index\": 1, \"Grupo de edad\": \"40-49\", \"fecha (a\\u00f1o-mes-d\\u00eda)\": \"2020-05-03\", \"fallecidos confirmados\": 12}, {\"index\": 2, \"Grupo de edad\": \"50-59\", \"fecha (a\\u00f1o-mes-d\\u00eda)\": \"2020-05-03\", \"fallecidos confirmados\": 18}, {\"index\": 3, \"Grupo de edad\": \"60-69\", \"fecha (a\\u00f1o-mes-d\\u00eda)\": \"2020-05-03\", \"fallecidos confirmados\": 45}, {\"index\": 4, \"Grupo de edad\": \"70-79\", \"fecha (a\\u00f1o-mes-d\\u00eda)\": \"2020-05-03\", \"fallecidos confirmados\": 73}, {\"index\": 5, \"Grupo de edad\": \"80-89\", \"fecha (a\\u00f1o-mes-d\\u00eda)\": \"2020-05-03\", \"fallecidos confirmados\": 80}, {\"index\": 6, \"Grupo de edad\": \">=90\", \"fecha (a\\u00f1o-mes-d\\u00eda)\": \"2020-05-03\", \"fallecidos confirmados\": 26}, {\"index\": 0, \"Grupo de edad\": \"<=39\", \"fecha (a\\u00f1o-mes-d\\u00eda)\": \"2020-05-04\", \"fallecidos confirmados\": 6}, {\"index\": 1, \"Grupo de edad\": \"40-49\", \"fecha (a\\u00f1o-mes-d\\u00eda)\": \"2020-05-04\", \"fallecidos confirmados\": 12}, {\"index\": 2, \"Grupo de edad\": \"50-59\", \"fecha (a\\u00f1o-mes-d\\u00eda)\": \"2020-05-04\", \"fallecidos confirmados\": 20}, {\"index\": 3, \"Grupo de edad\": \"60-69\", \"fecha (a\\u00f1o-mes-d\\u00eda)\": \"2020-05-04\", \"fallecidos confirmados\": 46}, {\"index\": 4, \"Grupo de edad\": \"70-79\", \"fecha (a\\u00f1o-mes-d\\u00eda)\": \"2020-05-04\", \"fallecidos confirmados\": 76}, {\"index\": 5, \"Grupo de edad\": \"80-89\", \"fecha (a\\u00f1o-mes-d\\u00eda)\": \"2020-05-04\", \"fallecidos confirmados\": 83}, {\"index\": 6, \"Grupo de edad\": \">=90\", \"fecha (a\\u00f1o-mes-d\\u00eda)\": \"2020-05-04\", \"fallecidos confirmados\": 27}, {\"index\": 0, \"Grupo de edad\": \"<=39\", \"fecha (a\\u00f1o-mes-d\\u00eda)\": \"2020-05-05\", \"fallecidos confirmados\": 6}, {\"index\": 1, \"Grupo de edad\": \"40-49\", \"fecha (a\\u00f1o-mes-d\\u00eda)\": \"2020-05-05\", \"fallecidos confirmados\": 13}, {\"index\": 2, \"Grupo de edad\": \"50-59\", \"fecha (a\\u00f1o-mes-d\\u00eda)\": \"2020-05-05\", \"fallecidos confirmados\": 20}, {\"index\": 3, \"Grupo de edad\": \"60-69\", \"fecha (a\\u00f1o-mes-d\\u00eda)\": \"2020-05-05\", \"fallecidos confirmados\": 46}, {\"index\": 4, \"Grupo de edad\": \"70-79\", \"fecha (a\\u00f1o-mes-d\\u00eda)\": \"2020-05-05\", \"fallecidos confirmados\": 76}, {\"index\": 5, \"Grupo de edad\": \"80-89\", \"fecha (a\\u00f1o-mes-d\\u00eda)\": \"2020-05-05\", \"fallecidos confirmados\": 85}, {\"index\": 6, \"Grupo de edad\": \">=90\", \"fecha (a\\u00f1o-mes-d\\u00eda)\": \"2020-05-05\", \"fallecidos confirmados\": 29}, {\"index\": 0, \"Grupo de edad\": \"<=39\", \"fecha (a\\u00f1o-mes-d\\u00eda)\": \"2020-05-06\", \"fallecidos confirmados\": 6}, {\"index\": 1, \"Grupo de edad\": \"40-49\", \"fecha (a\\u00f1o-mes-d\\u00eda)\": \"2020-05-06\", \"fallecidos confirmados\": 13}, {\"index\": 2, \"Grupo de edad\": \"50-59\", \"fecha (a\\u00f1o-mes-d\\u00eda)\": \"2020-05-06\", \"fallecidos confirmados\": 20}, {\"index\": 3, \"Grupo de edad\": \"60-69\", \"fecha (a\\u00f1o-mes-d\\u00eda)\": \"2020-05-06\", \"fallecidos confirmados\": 47}, {\"index\": 4, \"Grupo de edad\": \"70-79\", \"fecha (a\\u00f1o-mes-d\\u00eda)\": \"2020-05-06\", \"fallecidos confirmados\": 76}, {\"index\": 5, \"Grupo de edad\": \"80-89\", \"fecha (a\\u00f1o-mes-d\\u00eda)\": \"2020-05-06\", \"fallecidos confirmados\": 89}, {\"index\": 6, \"Grupo de edad\": \">=90\", \"fecha (a\\u00f1o-mes-d\\u00eda)\": \"2020-05-06\", \"fallecidos confirmados\": 30}, {\"index\": 0, \"Grupo de edad\": \"<=39\", \"fecha (a\\u00f1o-mes-d\\u00eda)\": \"2020-05-07\", \"fallecidos confirmados\": 6}, {\"index\": 1, \"Grupo de edad\": \"40-49\", \"fecha (a\\u00f1o-mes-d\\u00eda)\": \"2020-05-07\", \"fallecidos confirmados\": 13}, {\"index\": 2, \"Grupo de edad\": \"50-59\", \"fecha (a\\u00f1o-mes-d\\u00eda)\": \"2020-05-07\", \"fallecidos confirmados\": 21}, {\"index\": 3, \"Grupo de edad\": \"60-69\", \"fecha (a\\u00f1o-mes-d\\u00eda)\": \"2020-05-07\", \"fallecidos confirmados\": 47}, {\"index\": 4, \"Grupo de edad\": \"70-79\", \"fecha (a\\u00f1o-mes-d\\u00eda)\": \"2020-05-07\", \"fallecidos confirmados\": 76}, {\"index\": 5, \"Grupo de edad\": \"80-89\", \"fecha (a\\u00f1o-mes-d\\u00eda)\": \"2020-05-07\", \"fallecidos confirmados\": 92}, {\"index\": 6, \"Grupo de edad\": \">=90\", \"fecha (a\\u00f1o-mes-d\\u00eda)\": \"2020-05-07\", \"fallecidos confirmados\": 30}, {\"index\": 0, \"Grupo de edad\": \"<=39\", \"fecha (a\\u00f1o-mes-d\\u00eda)\": \"2020-05-08\", \"fallecidos confirmados\": 7}, {\"index\": 1, \"Grupo de edad\": \"40-49\", \"fecha (a\\u00f1o-mes-d\\u00eda)\": \"2020-05-08\", \"fallecidos confirmados\": 14}, {\"index\": 2, \"Grupo de edad\": \"50-59\", \"fecha (a\\u00f1o-mes-d\\u00eda)\": \"2020-05-08\", \"fallecidos confirmados\": 21}, {\"index\": 3, \"Grupo de edad\": \"60-69\", \"fecha (a\\u00f1o-mes-d\\u00eda)\": \"2020-05-08\", \"fallecidos confirmados\": 49}, {\"index\": 4, \"Grupo de edad\": \"70-79\", \"fecha (a\\u00f1o-mes-d\\u00eda)\": \"2020-05-08\", \"fallecidos confirmados\": 80}, {\"index\": 5, \"Grupo de edad\": \"80-89\", \"fecha (a\\u00f1o-mes-d\\u00eda)\": \"2020-05-08\", \"fallecidos confirmados\": 93}, {\"index\": 6, \"Grupo de edad\": \">=90\", \"fecha (a\\u00f1o-mes-d\\u00eda)\": \"2020-05-08\", \"fallecidos confirmados\": 30}, {\"index\": 0, \"Grupo de edad\": \"<=39\", \"fecha (a\\u00f1o-mes-d\\u00eda)\": \"2020-05-09\", \"fallecidos confirmados\": 7}, {\"index\": 1, \"Grupo de edad\": \"40-49\", \"fecha (a\\u00f1o-mes-d\\u00eda)\": \"2020-05-09\", \"fallecidos confirmados\": 15}, {\"index\": 2, \"Grupo de edad\": \"50-59\", \"fecha (a\\u00f1o-mes-d\\u00eda)\": \"2020-05-09\", \"fallecidos confirmados\": 22}, {\"index\": 3, \"Grupo de edad\": \"60-69\", \"fecha (a\\u00f1o-mes-d\\u00eda)\": \"2020-05-09\", \"fallecidos confirmados\": 52}, {\"index\": 4, \"Grupo de edad\": \"70-79\", \"fecha (a\\u00f1o-mes-d\\u00eda)\": \"2020-05-09\", \"fallecidos confirmados\": 82}, {\"index\": 5, \"Grupo de edad\": \"80-89\", \"fecha (a\\u00f1o-mes-d\\u00eda)\": \"2020-05-09\", \"fallecidos confirmados\": 93}, {\"index\": 6, \"Grupo de edad\": \">=90\", \"fecha (a\\u00f1o-mes-d\\u00eda)\": \"2020-05-09\", \"fallecidos confirmados\": 33}, {\"index\": 0, \"Grupo de edad\": \"<=39\", \"fecha (a\\u00f1o-mes-d\\u00eda)\": \"2020-05-10\", \"fallecidos confirmados\": 7}, {\"index\": 1, \"Grupo de edad\": \"40-49\", \"fecha (a\\u00f1o-mes-d\\u00eda)\": \"2020-05-10\", \"fallecidos confirmados\": 16}, {\"index\": 2, \"Grupo de edad\": \"50-59\", \"fecha (a\\u00f1o-mes-d\\u00eda)\": \"2020-05-10\", \"fallecidos confirmados\": 22}, {\"index\": 3, \"Grupo de edad\": \"60-69\", \"fecha (a\\u00f1o-mes-d\\u00eda)\": \"2020-05-10\", \"fallecidos confirmados\": 54}, {\"index\": 4, \"Grupo de edad\": \"70-79\", \"fecha (a\\u00f1o-mes-d\\u00eda)\": \"2020-05-10\", \"fallecidos confirmados\": 84}, {\"index\": 5, \"Grupo de edad\": \"80-89\", \"fecha (a\\u00f1o-mes-d\\u00eda)\": \"2020-05-10\", \"fallecidos confirmados\": 95}, {\"index\": 6, \"Grupo de edad\": \">=90\", \"fecha (a\\u00f1o-mes-d\\u00eda)\": \"2020-05-10\", \"fallecidos confirmados\": 34}, {\"index\": 0, \"Grupo de edad\": \"<=39\", \"fecha (a\\u00f1o-mes-d\\u00eda)\": \"2020-05-11\", \"fallecidos confirmados\": 7}, {\"index\": 1, \"Grupo de edad\": \"40-49\", \"fecha (a\\u00f1o-mes-d\\u00eda)\": \"2020-05-11\", \"fallecidos confirmados\": 16}, {\"index\": 2, \"Grupo de edad\": \"50-59\", \"fecha (a\\u00f1o-mes-d\\u00eda)\": \"2020-05-11\", \"fallecidos confirmados\": 23}, {\"index\": 3, \"Grupo de edad\": \"60-69\", \"fecha (a\\u00f1o-mes-d\\u00eda)\": \"2020-05-11\", \"fallecidos confirmados\": 56}, {\"index\": 4, \"Grupo de edad\": \"70-79\", \"fecha (a\\u00f1o-mes-d\\u00eda)\": \"2020-05-11\", \"fallecidos confirmados\": 89}, {\"index\": 5, \"Grupo de edad\": \"80-89\", \"fecha (a\\u00f1o-mes-d\\u00eda)\": \"2020-05-11\", \"fallecidos confirmados\": 96}, {\"index\": 6, \"Grupo de edad\": \">=90\", \"fecha (a\\u00f1o-mes-d\\u00eda)\": \"2020-05-11\", \"fallecidos confirmados\": 36}, {\"index\": 0, \"Grupo de edad\": \"<=39\", \"fecha (a\\u00f1o-mes-d\\u00eda)\": \"2020-05-12\", \"fallecidos confirmados\": 8}, {\"index\": 1, \"Grupo de edad\": \"40-49\", \"fecha (a\\u00f1o-mes-d\\u00eda)\": \"2020-05-12\", \"fallecidos confirmados\": 18}, {\"index\": 2, \"Grupo de edad\": \"50-59\", \"fecha (a\\u00f1o-mes-d\\u00eda)\": \"2020-05-12\", \"fallecidos confirmados\": 24}, {\"index\": 3, \"Grupo de edad\": \"60-69\", \"fecha (a\\u00f1o-mes-d\\u00eda)\": \"2020-05-12\", \"fallecidos confirmados\": 56}, {\"index\": 4, \"Grupo de edad\": \"70-79\", \"fecha (a\\u00f1o-mes-d\\u00eda)\": \"2020-05-12\", \"fallecidos confirmados\": 92}, {\"index\": 5, \"Grupo de edad\": \"80-89\", \"fecha (a\\u00f1o-mes-d\\u00eda)\": \"2020-05-12\", \"fallecidos confirmados\": 99}, {\"index\": 6, \"Grupo de edad\": \">=90\", \"fecha (a\\u00f1o-mes-d\\u00eda)\": \"2020-05-12\", \"fallecidos confirmados\": 38}, {\"index\": 0, \"Grupo de edad\": \"<=39\", \"fecha (a\\u00f1o-mes-d\\u00eda)\": \"2020-05-13\", \"fallecidos confirmados\": 8}, {\"index\": 1, \"Grupo de edad\": \"40-49\", \"fecha (a\\u00f1o-mes-d\\u00eda)\": \"2020-05-13\", \"fallecidos confirmados\": 19}, {\"index\": 2, \"Grupo de edad\": \"50-59\", \"fecha (a\\u00f1o-mes-d\\u00eda)\": \"2020-05-13\", \"fallecidos confirmados\": 27}, {\"index\": 3, \"Grupo de edad\": \"60-69\", \"fecha (a\\u00f1o-mes-d\\u00eda)\": \"2020-05-13\", \"fallecidos confirmados\": 58}, {\"index\": 4, \"Grupo de edad\": \"70-79\", \"fecha (a\\u00f1o-mes-d\\u00eda)\": \"2020-05-13\", \"fallecidos confirmados\": 94}, {\"index\": 5, \"Grupo de edad\": \"80-89\", \"fecha (a\\u00f1o-mes-d\\u00eda)\": \"2020-05-13\", \"fallecidos confirmados\": 102}, {\"index\": 6, \"Grupo de edad\": \">=90\", \"fecha (a\\u00f1o-mes-d\\u00eda)\": \"2020-05-13\", \"fallecidos confirmados\": 38}, {\"index\": 0, \"Grupo de edad\": \"<=39\", \"fecha (a\\u00f1o-mes-d\\u00eda)\": \"2020-05-14\", \"fallecidos confirmados\": 9}, {\"index\": 1, \"Grupo de edad\": \"40-49\", \"fecha (a\\u00f1o-mes-d\\u00eda)\": \"2020-05-14\", \"fallecidos confirmados\": 22}, {\"index\": 2, \"Grupo de edad\": \"50-59\", \"fecha (a\\u00f1o-mes-d\\u00eda)\": \"2020-05-14\", \"fallecidos confirmados\": 27}, {\"index\": 3, \"Grupo de edad\": \"60-69\", \"fecha (a\\u00f1o-mes-d\\u00eda)\": \"2020-05-14\", \"fallecidos confirmados\": 63}, {\"index\": 4, \"Grupo de edad\": \"70-79\", \"fecha (a\\u00f1o-mes-d\\u00eda)\": \"2020-05-14\", \"fallecidos confirmados\": 102}, {\"index\": 5, \"Grupo de edad\": \"80-89\", \"fecha (a\\u00f1o-mes-d\\u00eda)\": \"2020-05-14\", \"fallecidos confirmados\": 107}, {\"index\": 6, \"Grupo de edad\": \">=90\", \"fecha (a\\u00f1o-mes-d\\u00eda)\": \"2020-05-14\", \"fallecidos confirmados\": 38}, {\"index\": 0, \"Grupo de edad\": \"<=39\", \"fecha (a\\u00f1o-mes-d\\u00eda)\": \"2020-05-15\", \"fallecidos confirmados\": 10}, {\"index\": 1, \"Grupo de edad\": \"40-49\", \"fecha (a\\u00f1o-mes-d\\u00eda)\": \"2020-05-15\", \"fallecidos confirmados\": 22}, {\"index\": 2, \"Grupo de edad\": \"50-59\", \"fecha (a\\u00f1o-mes-d\\u00eda)\": \"2020-05-15\", \"fallecidos confirmados\": 31}, {\"index\": 3, \"Grupo de edad\": \"60-69\", \"fecha (a\\u00f1o-mes-d\\u00eda)\": \"2020-05-15\", \"fallecidos confirmados\": 65}, {\"index\": 4, \"Grupo de edad\": \"70-79\", \"fecha (a\\u00f1o-mes-d\\u00eda)\": \"2020-05-15\", \"fallecidos confirmados\": 110}, {\"index\": 5, \"Grupo de edad\": \"80-89\", \"fecha (a\\u00f1o-mes-d\\u00eda)\": \"2020-05-15\", \"fallecidos confirmados\": 117}, {\"index\": 6, \"Grupo de edad\": \">=90\", \"fecha (a\\u00f1o-mes-d\\u00eda)\": \"2020-05-15\", \"fallecidos confirmados\": 39}, {\"index\": 0, \"Grupo de edad\": \"<=39\", \"fecha (a\\u00f1o-mes-d\\u00eda)\": \"2020-05-16\", \"fallecidos confirmados\": 10}, {\"index\": 1, \"Grupo de edad\": \"40-49\", \"fecha (a\\u00f1o-mes-d\\u00eda)\": \"2020-05-16\", \"fallecidos confirmados\": 24}, {\"index\": 2, \"Grupo de edad\": \"50-59\", \"fecha (a\\u00f1o-mes-d\\u00eda)\": \"2020-05-16\", \"fallecidos confirmados\": 32}, {\"index\": 3, \"Grupo de edad\": \"60-69\", \"fecha (a\\u00f1o-mes-d\\u00eda)\": \"2020-05-16\", \"fallecidos confirmados\": 73}, {\"index\": 4, \"Grupo de edad\": \"70-79\", \"fecha (a\\u00f1o-mes-d\\u00eda)\": \"2020-05-16\", \"fallecidos confirmados\": 118}, {\"index\": 5, \"Grupo de edad\": \"80-89\", \"fecha (a\\u00f1o-mes-d\\u00eda)\": \"2020-05-16\", \"fallecidos confirmados\": 123}, {\"index\": 6, \"Grupo de edad\": \">=90\", \"fecha (a\\u00f1o-mes-d\\u00eda)\": \"2020-05-16\", \"fallecidos confirmados\": 41}, {\"index\": 0, \"Grupo de edad\": \"<=39\", \"fecha (a\\u00f1o-mes-d\\u00eda)\": \"2020-05-17\", \"fallecidos confirmados\": 10}, {\"index\": 1, \"Grupo de edad\": \"40-49\", \"fecha (a\\u00f1o-mes-d\\u00eda)\": \"2020-05-17\", \"fallecidos confirmados\": 25}, {\"index\": 2, \"Grupo de edad\": \"50-59\", \"fecha (a\\u00f1o-mes-d\\u00eda)\": \"2020-05-17\", \"fallecidos confirmados\": 35}, {\"index\": 3, \"Grupo de edad\": \"60-69\", \"fecha (a\\u00f1o-mes-d\\u00eda)\": \"2020-05-17\", \"fallecidos confirmados\": 78}, {\"index\": 4, \"Grupo de edad\": \"70-79\", \"fecha (a\\u00f1o-mes-d\\u00eda)\": \"2020-05-17\", \"fallecidos confirmados\": 126}, {\"index\": 5, \"Grupo de edad\": \"80-89\", \"fecha (a\\u00f1o-mes-d\\u00eda)\": \"2020-05-17\", \"fallecidos confirmados\": 132}, {\"index\": 6, \"Grupo de edad\": \">=90\", \"fecha (a\\u00f1o-mes-d\\u00eda)\": \"2020-05-17\", \"fallecidos confirmados\": 44}, {\"index\": 0, \"Grupo de edad\": \"<=39\", \"fecha (a\\u00f1o-mes-d\\u00eda)\": \"2020-05-18\", \"fallecidos confirmados\": 10}, {\"index\": 1, \"Grupo de edad\": \"40-49\", \"fecha (a\\u00f1o-mes-d\\u00eda)\": \"2020-05-18\", \"fallecidos confirmados\": 28}, {\"index\": 2, \"Grupo de edad\": \"50-59\", \"fecha (a\\u00f1o-mes-d\\u00eda)\": \"2020-05-18\", \"fallecidos confirmados\": 40}, {\"index\": 3, \"Grupo de edad\": \"60-69\", \"fecha (a\\u00f1o-mes-d\\u00eda)\": \"2020-05-18\", \"fallecidos confirmados\": 82}, {\"index\": 4, \"Grupo de edad\": \"70-79\", \"fecha (a\\u00f1o-mes-d\\u00eda)\": \"2020-05-18\", \"fallecidos confirmados\": 133}, {\"index\": 5, \"Grupo de edad\": \"80-89\", \"fecha (a\\u00f1o-mes-d\\u00eda)\": \"2020-05-18\", \"fallecidos confirmados\": 136}, {\"index\": 6, \"Grupo de edad\": \">=90\", \"fecha (a\\u00f1o-mes-d\\u00eda)\": \"2020-05-18\", \"fallecidos confirmados\": 49}, {\"index\": 0, \"Grupo de edad\": \"<=39\", \"fecha (a\\u00f1o-mes-d\\u00eda)\": \"2020-05-19\", \"fallecidos confirmados\": 11}, {\"index\": 1, \"Grupo de edad\": \"40-49\", \"fecha (a\\u00f1o-mes-d\\u00eda)\": \"2020-05-19\", \"fallecidos confirmados\": 30}, {\"index\": 2, \"Grupo de edad\": \"50-59\", \"fecha (a\\u00f1o-mes-d\\u00eda)\": \"2020-05-19\", \"fallecidos confirmados\": 47}, {\"index\": 3, \"Grupo de edad\": \"60-69\", \"fecha (a\\u00f1o-mes-d\\u00eda)\": \"2020-05-19\", \"fallecidos confirmados\": 83}, {\"index\": 4, \"Grupo de edad\": \"70-79\", \"fecha (a\\u00f1o-mes-d\\u00eda)\": \"2020-05-19\", \"fallecidos confirmados\": 141}, {\"index\": 5, \"Grupo de edad\": \"80-89\", \"fecha (a\\u00f1o-mes-d\\u00eda)\": \"2020-05-19\", \"fallecidos confirmados\": 145}, {\"index\": 6, \"Grupo de edad\": \">=90\", \"fecha (a\\u00f1o-mes-d\\u00eda)\": \"2020-05-19\", \"fallecidos confirmados\": 52}, {\"index\": 0, \"Grupo de edad\": \"<=39\", \"fecha (a\\u00f1o-mes-d\\u00eda)\": \"2020-05-20\", \"fallecidos confirmados\": 11}, {\"index\": 1, \"Grupo de edad\": \"40-49\", \"fecha (a\\u00f1o-mes-d\\u00eda)\": \"2020-05-20\", \"fallecidos confirmados\": 31}, {\"index\": 2, \"Grupo de edad\": \"50-59\", \"fecha (a\\u00f1o-mes-d\\u00eda)\": \"2020-05-20\", \"fallecidos confirmados\": 51}, {\"index\": 3, \"Grupo de edad\": \"60-69\", \"fecha (a\\u00f1o-mes-d\\u00eda)\": \"2020-05-20\", \"fallecidos confirmados\": 92}, {\"index\": 4, \"Grupo de edad\": \"70-79\", \"fecha (a\\u00f1o-mes-d\\u00eda)\": \"2020-05-20\", \"fallecidos confirmados\": 152}, {\"index\": 5, \"Grupo de edad\": \"80-89\", \"fecha (a\\u00f1o-mes-d\\u00eda)\": \"2020-05-20\", \"fallecidos confirmados\": 152}, {\"index\": 6, \"Grupo de edad\": \">=90\", \"fecha (a\\u00f1o-mes-d\\u00eda)\": \"2020-05-20\", \"fallecidos confirmados\": 55}, {\"index\": 0, \"Grupo de edad\": \"<=39\", \"fecha (a\\u00f1o-mes-d\\u00eda)\": \"2020-05-21\", \"fallecidos confirmados\": 12}, {\"index\": 1, \"Grupo de edad\": \"40-49\", \"fecha (a\\u00f1o-mes-d\\u00eda)\": \"2020-05-21\", \"fallecidos confirmados\": 32}, {\"index\": 2, \"Grupo de edad\": \"50-59\", \"fecha (a\\u00f1o-mes-d\\u00eda)\": \"2020-05-21\", \"fallecidos confirmados\": 57}, {\"index\": 3, \"Grupo de edad\": \"60-69\", \"fecha (a\\u00f1o-mes-d\\u00eda)\": \"2020-05-21\", \"fallecidos confirmados\": 99}, {\"index\": 4, \"Grupo de edad\": \"70-79\", \"fecha (a\\u00f1o-mes-d\\u00eda)\": \"2020-05-21\", \"fallecidos confirmados\": 173}, {\"index\": 5, \"Grupo de edad\": \"80-89\", \"fecha (a\\u00f1o-mes-d\\u00eda)\": \"2020-05-21\", \"fallecidos confirmados\": 159}, {\"index\": 6, \"Grupo de edad\": \">=90\", \"fecha (a\\u00f1o-mes-d\\u00eda)\": \"2020-05-21\", \"fallecidos confirmados\": 57}, {\"index\": 0, \"Grupo de edad\": \"<=39\", \"fecha (a\\u00f1o-mes-d\\u00eda)\": \"2020-05-22\", \"fallecidos confirmados\": 13}, {\"index\": 1, \"Grupo de edad\": \"40-49\", \"fecha (a\\u00f1o-mes-d\\u00eda)\": \"2020-05-22\", \"fallecidos confirmados\": 33}, {\"index\": 2, \"Grupo de edad\": \"50-59\", \"fecha (a\\u00f1o-mes-d\\u00eda)\": \"2020-05-22\", \"fallecidos confirmados\": 58}, {\"index\": 3, \"Grupo de edad\": \"60-69\", \"fecha (a\\u00f1o-mes-d\\u00eda)\": \"2020-05-22\", \"fallecidos confirmados\": 106}, {\"index\": 4, \"Grupo de edad\": \"70-79\", \"fecha (a\\u00f1o-mes-d\\u00eda)\": \"2020-05-22\", \"fallecidos confirmados\": 183}, {\"index\": 5, \"Grupo de edad\": \"80-89\", \"fecha (a\\u00f1o-mes-d\\u00eda)\": \"2020-05-22\", \"fallecidos confirmados\": 178}, {\"index\": 6, \"Grupo de edad\": \">=90\", \"fecha (a\\u00f1o-mes-d\\u00eda)\": \"2020-05-22\", \"fallecidos confirmados\": 59}, {\"index\": 0, \"Grupo de edad\": \"<=39\", \"fecha (a\\u00f1o-mes-d\\u00eda)\": \"2020-05-23\", \"fallecidos confirmados\": 14}, {\"index\": 1, \"Grupo de edad\": \"40-49\", \"fecha (a\\u00f1o-mes-d\\u00eda)\": \"2020-05-23\", \"fallecidos confirmados\": 35}, {\"index\": 2, \"Grupo de edad\": \"50-59\", \"fecha (a\\u00f1o-mes-d\\u00eda)\": \"2020-05-23\", \"fallecidos confirmados\": 64}, {\"index\": 3, \"Grupo de edad\": \"60-69\", \"fecha (a\\u00f1o-mes-d\\u00eda)\": \"2020-05-23\", \"fallecidos confirmados\": 112}, {\"index\": 4, \"Grupo de edad\": \"70-79\", \"fecha (a\\u00f1o-mes-d\\u00eda)\": \"2020-05-23\", \"fallecidos confirmados\": 193}, {\"index\": 5, \"Grupo de edad\": \"80-89\", \"fecha (a\\u00f1o-mes-d\\u00eda)\": \"2020-05-23\", \"fallecidos confirmados\": 193}, {\"index\": 6, \"Grupo de edad\": \">=90\", \"fecha (a\\u00f1o-mes-d\\u00eda)\": \"2020-05-23\", \"fallecidos confirmados\": 62}, {\"index\": 0, \"Grupo de edad\": \"<=39\", \"fecha (a\\u00f1o-mes-d\\u00eda)\": \"2020-05-24\", \"fallecidos confirmados\": 16}, {\"index\": 1, \"Grupo de edad\": \"40-49\", \"fecha (a\\u00f1o-mes-d\\u00eda)\": \"2020-05-24\", \"fallecidos confirmados\": 38}, {\"index\": 2, \"Grupo de edad\": \"50-59\", \"fecha (a\\u00f1o-mes-d\\u00eda)\": \"2020-05-24\", \"fallecidos confirmados\": 67}, {\"index\": 3, \"Grupo de edad\": \"60-69\", \"fecha (a\\u00f1o-mes-d\\u00eda)\": \"2020-05-24\", \"fallecidos confirmados\": 121}, {\"index\": 4, \"Grupo de edad\": \"70-79\", \"fecha (a\\u00f1o-mes-d\\u00eda)\": \"2020-05-24\", \"fallecidos confirmados\": 210}, {\"index\": 5, \"Grupo de edad\": \"80-89\", \"fecha (a\\u00f1o-mes-d\\u00eda)\": \"2020-05-24\", \"fallecidos confirmados\": 200}, {\"index\": 6, \"Grupo de edad\": \">=90\", \"fecha (a\\u00f1o-mes-d\\u00eda)\": \"2020-05-24\", \"fallecidos confirmados\": 66}, {\"index\": 0, \"Grupo de edad\": \"<=39\", \"fecha (a\\u00f1o-mes-d\\u00eda)\": \"2020-05-25\", \"fallecidos confirmados\": 16}, {\"index\": 1, \"Grupo de edad\": \"40-49\", \"fecha (a\\u00f1o-mes-d\\u00eda)\": \"2020-05-25\", \"fallecidos confirmados\": 41}, {\"index\": 2, \"Grupo de edad\": \"50-59\", \"fecha (a\\u00f1o-mes-d\\u00eda)\": \"2020-05-25\", \"fallecidos confirmados\": 69}, {\"index\": 3, \"Grupo de edad\": \"60-69\", \"fecha (a\\u00f1o-mes-d\\u00eda)\": \"2020-05-25\", \"fallecidos confirmados\": 128}, {\"index\": 4, \"Grupo de edad\": \"70-79\", \"fecha (a\\u00f1o-mes-d\\u00eda)\": \"2020-05-25\", \"fallecidos confirmados\": 225}, {\"index\": 5, \"Grupo de edad\": \"80-89\", \"fecha (a\\u00f1o-mes-d\\u00eda)\": \"2020-05-25\", \"fallecidos confirmados\": 208}, {\"index\": 6, \"Grupo de edad\": \">=90\", \"fecha (a\\u00f1o-mes-d\\u00eda)\": \"2020-05-25\", \"fallecidos confirmados\": 74}, {\"index\": 0, \"Grupo de edad\": \"<=39\", \"fecha (a\\u00f1o-mes-d\\u00eda)\": \"2020-05-26\", \"fallecidos confirmados\": 16}, {\"index\": 1, \"Grupo de edad\": \"40-49\", \"fecha (a\\u00f1o-mes-d\\u00eda)\": \"2020-05-26\", \"fallecidos confirmados\": 42}, {\"index\": 2, \"Grupo de edad\": \"50-59\", \"fecha (a\\u00f1o-mes-d\\u00eda)\": \"2020-05-26\", \"fallecidos confirmados\": 76}, {\"index\": 3, \"Grupo de edad\": \"60-69\", \"fecha (a\\u00f1o-mes-d\\u00eda)\": \"2020-05-26\", \"fallecidos confirmados\": 137}, {\"index\": 4, \"Grupo de edad\": \"70-79\", \"fecha (a\\u00f1o-mes-d\\u00eda)\": \"2020-05-26\", \"fallecidos confirmados\": 239}, {\"index\": 5, \"Grupo de edad\": \"80-89\", \"fecha (a\\u00f1o-mes-d\\u00eda)\": \"2020-05-26\", \"fallecidos confirmados\": 218}, {\"index\": 6, \"Grupo de edad\": \">=90\", \"fecha (a\\u00f1o-mes-d\\u00eda)\": \"2020-05-26\", \"fallecidos confirmados\": 78}, {\"index\": 0, \"Grupo de edad\": \"<=39\", \"fecha (a\\u00f1o-mes-d\\u00eda)\": \"2020-05-27\", \"fallecidos confirmados\": 16}, {\"index\": 1, \"Grupo de edad\": \"40-49\", \"fecha (a\\u00f1o-mes-d\\u00eda)\": \"2020-05-27\", \"fallecidos confirmados\": 43}, {\"index\": 2, \"Grupo de edad\": \"50-59\", \"fecha (a\\u00f1o-mes-d\\u00eda)\": \"2020-05-27\", \"fallecidos confirmados\": 81}, {\"index\": 3, \"Grupo de edad\": \"60-69\", \"fecha (a\\u00f1o-mes-d\\u00eda)\": \"2020-05-27\", \"fallecidos confirmados\": 150}, {\"index\": 4, \"Grupo de edad\": \"70-79\", \"fecha (a\\u00f1o-mes-d\\u00eda)\": \"2020-05-27\", \"fallecidos confirmados\": 250}, {\"index\": 5, \"Grupo de edad\": \"80-89\", \"fecha (a\\u00f1o-mes-d\\u00eda)\": \"2020-05-27\", \"fallecidos confirmados\": 218}, {\"index\": 6, \"Grupo de edad\": \">=90\", \"fecha (a\\u00f1o-mes-d\\u00eda)\": \"2020-05-27\", \"fallecidos confirmados\": 83}, {\"index\": 0, \"Grupo de edad\": \"<=39\", \"fecha (a\\u00f1o-mes-d\\u00eda)\": \"2020-05-28\", \"fallecidos confirmados\": 18}, {\"index\": 1, \"Grupo de edad\": \"40-49\", \"fecha (a\\u00f1o-mes-d\\u00eda)\": \"2020-05-28\", \"fallecidos confirmados\": 44}, {\"index\": 2, \"Grupo de edad\": \"50-59\", \"fecha (a\\u00f1o-mes-d\\u00eda)\": \"2020-05-28\", \"fallecidos confirmados\": 89}, {\"index\": 3, \"Grupo de edad\": \"60-69\", \"fecha (a\\u00f1o-mes-d\\u00eda)\": \"2020-05-28\", \"fallecidos confirmados\": 165}, {\"index\": 4, \"Grupo de edad\": \"70-79\", \"fecha (a\\u00f1o-mes-d\\u00eda)\": \"2020-05-28\", \"fallecidos confirmados\": 259}, {\"index\": 5, \"Grupo de edad\": \"80-89\", \"fecha (a\\u00f1o-mes-d\\u00eda)\": \"2020-05-28\", \"fallecidos confirmados\": 228}, {\"index\": 6, \"Grupo de edad\": \">=90\", \"fecha (a\\u00f1o-mes-d\\u00eda)\": \"2020-05-28\", \"fallecidos confirmados\": 87}, {\"index\": 0, \"Grupo de edad\": \"<=39\", \"fecha (a\\u00f1o-mes-d\\u00eda)\": \"2020-05-29\", \"fallecidos confirmados\": 19}, {\"index\": 1, \"Grupo de edad\": \"40-49\", \"fecha (a\\u00f1o-mes-d\\u00eda)\": \"2020-05-29\", \"fallecidos confirmados\": 46}, {\"index\": 2, \"Grupo de edad\": \"50-59\", \"fecha (a\\u00f1o-mes-d\\u00eda)\": \"2020-05-29\", \"fallecidos confirmados\": 94}, {\"index\": 3, \"Grupo de edad\": \"60-69\", \"fecha (a\\u00f1o-mes-d\\u00eda)\": \"2020-05-29\", \"fallecidos confirmados\": 173}, {\"index\": 4, \"Grupo de edad\": \"70-79\", \"fecha (a\\u00f1o-mes-d\\u00eda)\": \"2020-05-29\", \"fallecidos confirmados\": 279}, {\"index\": 5, \"Grupo de edad\": \"80-89\", \"fecha (a\\u00f1o-mes-d\\u00eda)\": \"2020-05-29\", \"fallecidos confirmados\": 242}, {\"index\": 6, \"Grupo de edad\": \">=90\", \"fecha (a\\u00f1o-mes-d\\u00eda)\": \"2020-05-29\", \"fallecidos confirmados\": 91}, {\"index\": 0, \"Grupo de edad\": \"<=39\", \"fecha (a\\u00f1o-mes-d\\u00eda)\": \"2020-05-30\", \"fallecidos confirmados\": 23}, {\"index\": 1, \"Grupo de edad\": \"40-49\", \"fecha (a\\u00f1o-mes-d\\u00eda)\": \"2020-05-30\", \"fallecidos confirmados\": 48}, {\"index\": 2, \"Grupo de edad\": \"50-59\", \"fecha (a\\u00f1o-mes-d\\u00eda)\": \"2020-05-30\", \"fallecidos confirmados\": 97}, {\"index\": 3, \"Grupo de edad\": \"60-69\", \"fecha (a\\u00f1o-mes-d\\u00eda)\": \"2020-05-30\", \"fallecidos confirmados\": 185}, {\"index\": 4, \"Grupo de edad\": \"70-79\", \"fecha (a\\u00f1o-mes-d\\u00eda)\": \"2020-05-30\", \"fallecidos confirmados\": 295}, {\"index\": 5, \"Grupo de edad\": \"80-89\", \"fecha (a\\u00f1o-mes-d\\u00eda)\": \"2020-05-30\", \"fallecidos confirmados\": 255}, {\"index\": 6, \"Grupo de edad\": \">=90\", \"fecha (a\\u00f1o-mes-d\\u00eda)\": \"2020-05-30\", \"fallecidos confirmados\": 94}, {\"index\": 0, \"Grupo de edad\": \"<=39\", \"fecha (a\\u00f1o-mes-d\\u00eda)\": \"2020-05-31\", \"fallecidos confirmados\": 28}, {\"index\": 1, \"Grupo de edad\": \"40-49\", \"fecha (a\\u00f1o-mes-d\\u00eda)\": \"2020-05-31\", \"fallecidos confirmados\": 50}, {\"index\": 2, \"Grupo de edad\": \"50-59\", \"fecha (a\\u00f1o-mes-d\\u00eda)\": \"2020-05-31\", \"fallecidos confirmados\": 105}, {\"index\": 3, \"Grupo de edad\": \"60-69\", \"fecha (a\\u00f1o-mes-d\\u00eda)\": \"2020-05-31\", \"fallecidos confirmados\": 189}, {\"index\": 4, \"Grupo de edad\": \"70-79\", \"fecha (a\\u00f1o-mes-d\\u00eda)\": \"2020-05-31\", \"fallecidos confirmados\": 309}, {\"index\": 5, \"Grupo de edad\": \"80-89\", \"fecha (a\\u00f1o-mes-d\\u00eda)\": \"2020-05-31\", \"fallecidos confirmados\": 275}, {\"index\": 6, \"Grupo de edad\": \">=90\", \"fecha (a\\u00f1o-mes-d\\u00eda)\": \"2020-05-31\", \"fallecidos confirmados\": 98}, {\"index\": 0, \"Grupo de edad\": \"<=39\", \"fecha (a\\u00f1o-mes-d\\u00eda)\": \"2020-06-01\", \"fallecidos confirmados\": 29}, {\"index\": 1, \"Grupo de edad\": \"40-49\", \"fecha (a\\u00f1o-mes-d\\u00eda)\": \"2020-06-01\", \"fallecidos confirmados\": 51}, {\"index\": 2, \"Grupo de edad\": \"50-59\", \"fecha (a\\u00f1o-mes-d\\u00eda)\": \"2020-06-01\", \"fallecidos confirmados\": 114}, {\"index\": 3, \"Grupo de edad\": \"60-69\", \"fecha (a\\u00f1o-mes-d\\u00eda)\": \"2020-06-01\", \"fallecidos confirmados\": 200}, {\"index\": 4, \"Grupo de edad\": \"70-79\", \"fecha (a\\u00f1o-mes-d\\u00eda)\": \"2020-06-01\", \"fallecidos confirmados\": 326}, {\"index\": 5, \"Grupo de edad\": \"80-89\", \"fecha (a\\u00f1o-mes-d\\u00eda)\": \"2020-06-01\", \"fallecidos confirmados\": 293}, {\"index\": 6, \"Grupo de edad\": \">=90\", \"fecha (a\\u00f1o-mes-d\\u00eda)\": \"2020-06-01\", \"fallecidos confirmados\": 100}, {\"index\": 0, \"Grupo de edad\": \"<=39\", \"fecha (a\\u00f1o-mes-d\\u00eda)\": \"2020-06-02\", \"fallecidos confirmados\": 31}, {\"index\": 1, \"Grupo de edad\": \"40-49\", \"fecha (a\\u00f1o-mes-d\\u00eda)\": \"2020-06-02\", \"fallecidos confirmados\": 51}, {\"index\": 2, \"Grupo de edad\": \"50-59\", \"fecha (a\\u00f1o-mes-d\\u00eda)\": \"2020-06-02\", \"fallecidos confirmados\": 124}, {\"index\": 3, \"Grupo de edad\": \"60-69\", \"fecha (a\\u00f1o-mes-d\\u00eda)\": \"2020-06-02\", \"fallecidos confirmados\": 214}, {\"index\": 4, \"Grupo de edad\": \"70-79\", \"fecha (a\\u00f1o-mes-d\\u00eda)\": \"2020-06-02\", \"fallecidos confirmados\": 350}, {\"index\": 5, \"Grupo de edad\": \"80-89\", \"fecha (a\\u00f1o-mes-d\\u00eda)\": \"2020-06-02\", \"fallecidos confirmados\": 313}, {\"index\": 6, \"Grupo de edad\": \">=90\", \"fecha (a\\u00f1o-mes-d\\u00eda)\": \"2020-06-02\", \"fallecidos confirmados\": 105}, {\"index\": 0, \"Grupo de edad\": \"<=39\", \"fecha (a\\u00f1o-mes-d\\u00eda)\": \"2020-06-03\", \"fallecidos confirmados\": 32}, {\"index\": 1, \"Grupo de edad\": \"40-49\", \"fecha (a\\u00f1o-mes-d\\u00eda)\": \"2020-06-03\", \"fallecidos confirmados\": 55}, {\"index\": 2, \"Grupo de edad\": \"50-59\", \"fecha (a\\u00f1o-mes-d\\u00eda)\": \"2020-06-03\", \"fallecidos confirmados\": 136}, {\"index\": 3, \"Grupo de edad\": \"60-69\", \"fecha (a\\u00f1o-mes-d\\u00eda)\": \"2020-06-03\", \"fallecidos confirmados\": 235}, {\"index\": 4, \"Grupo de edad\": \"70-79\", \"fecha (a\\u00f1o-mes-d\\u00eda)\": \"2020-06-03\", \"fallecidos confirmados\": 376}, {\"index\": 5, \"Grupo de edad\": \"80-89\", \"fecha (a\\u00f1o-mes-d\\u00eda)\": \"2020-06-03\", \"fallecidos confirmados\": 329}, {\"index\": 6, \"Grupo de edad\": \">=90\", \"fecha (a\\u00f1o-mes-d\\u00eda)\": \"2020-06-03\", \"fallecidos confirmados\": 112}, {\"index\": 0, \"Grupo de edad\": \"<=39\", \"fecha (a\\u00f1o-mes-d\\u00eda)\": \"2020-06-04\", \"fallecidos confirmados\": 35}, {\"index\": 1, \"Grupo de edad\": \"40-49\", \"fecha (a\\u00f1o-mes-d\\u00eda)\": \"2020-06-04\", \"fallecidos confirmados\": 60}, {\"index\": 2, \"Grupo de edad\": \"50-59\", \"fecha (a\\u00f1o-mes-d\\u00eda)\": \"2020-06-04\", \"fallecidos confirmados\": 144}, {\"index\": 3, \"Grupo de edad\": \"60-69\", \"fecha (a\\u00f1o-mes-d\\u00eda)\": \"2020-06-04\", \"fallecidos confirmados\": 252}, {\"index\": 4, \"Grupo de edad\": \"70-79\", \"fecha (a\\u00f1o-mes-d\\u00eda)\": \"2020-06-04\", \"fallecidos confirmados\": 397}, {\"index\": 5, \"Grupo de edad\": \"80-89\", \"fecha (a\\u00f1o-mes-d\\u00eda)\": \"2020-06-04\", \"fallecidos confirmados\": 352}, {\"index\": 6, \"Grupo de edad\": \">=90\", \"fecha (a\\u00f1o-mes-d\\u00eda)\": \"2020-06-04\", \"fallecidos confirmados\": 116}, {\"index\": 0, \"Grupo de edad\": \"<=39\", \"fecha (a\\u00f1o-mes-d\\u00eda)\": \"2020-06-05\", \"fallecidos confirmados\": 36}, {\"index\": 1, \"Grupo de edad\": \"40-49\", \"fecha (a\\u00f1o-mes-d\\u00eda)\": \"2020-06-05\", \"fallecidos confirmados\": 62}, {\"index\": 2, \"Grupo de edad\": \"50-59\", \"fecha (a\\u00f1o-mes-d\\u00eda)\": \"2020-06-05\", \"fallecidos confirmados\": 152}, {\"index\": 3, \"Grupo de edad\": \"60-69\", \"fecha (a\\u00f1o-mes-d\\u00eda)\": \"2020-06-05\", \"fallecidos confirmados\": 271}, {\"index\": 4, \"Grupo de edad\": \"70-79\", \"fecha (a\\u00f1o-mes-d\\u00eda)\": \"2020-06-05\", \"fallecidos confirmados\": 432}, {\"index\": 5, \"Grupo de edad\": \"80-89\", \"fecha (a\\u00f1o-mes-d\\u00eda)\": \"2020-06-05\", \"fallecidos confirmados\": 372}, {\"index\": 6, \"Grupo de edad\": \">=90\", \"fecha (a\\u00f1o-mes-d\\u00eda)\": \"2020-06-05\", \"fallecidos confirmados\": 123}, {\"index\": 0, \"Grupo de edad\": \"<=39\", \"fecha (a\\u00f1o-mes-d\\u00eda)\": \"2020-06-06\", \"fallecidos confirmados\": 37}, {\"index\": 1, \"Grupo de edad\": \"40-49\", \"fecha (a\\u00f1o-mes-d\\u00eda)\": \"2020-06-06\", \"fallecidos confirmados\": 67}, {\"index\": 2, \"Grupo de edad\": \"50-59\", \"fecha (a\\u00f1o-mes-d\\u00eda)\": \"2020-06-06\", \"fallecidos confirmados\": 162}, {\"index\": 3, \"Grupo de edad\": \"60-69\", \"fecha (a\\u00f1o-mes-d\\u00eda)\": \"2020-06-06\", \"fallecidos confirmados\": 281}, {\"index\": 4, \"Grupo de edad\": \"70-79\", \"fecha (a\\u00f1o-mes-d\\u00eda)\": \"2020-06-06\", \"fallecidos confirmados\": 467}, {\"index\": 5, \"Grupo de edad\": \"80-89\", \"fecha (a\\u00f1o-mes-d\\u00eda)\": \"2020-06-06\", \"fallecidos confirmados\": 398}, {\"index\": 6, \"Grupo de edad\": \">=90\", \"fecha (a\\u00f1o-mes-d\\u00eda)\": \"2020-06-06\", \"fallecidos confirmados\": 129}, {\"index\": 0, \"Grupo de edad\": \"<=39\", \"fecha (a\\u00f1o-mes-d\\u00eda)\": \"2020-06-07\", \"fallecidos confirmados\": 57}, {\"index\": 1, \"Grupo de edad\": \"40-49\", \"fecha (a\\u00f1o-mes-d\\u00eda)\": \"2020-06-07\", \"fallecidos confirmados\": 74}, {\"index\": 2, \"Grupo de edad\": \"50-59\", \"fecha (a\\u00f1o-mes-d\\u00eda)\": \"2020-06-07\", \"fallecidos confirmados\": 210}, {\"index\": 3, \"Grupo de edad\": \"60-69\", \"fecha (a\\u00f1o-mes-d\\u00eda)\": \"2020-06-07\", \"fallecidos confirmados\": 405}, {\"index\": 4, \"Grupo de edad\": \"70-79\", \"fecha (a\\u00f1o-mes-d\\u00eda)\": \"2020-06-07\", \"fallecidos confirmados\": 662}, {\"index\": 5, \"Grupo de edad\": \"80-89\", \"fecha (a\\u00f1o-mes-d\\u00eda)\": \"2020-06-07\", \"fallecidos confirmados\": 603}, {\"index\": 6, \"Grupo de edad\": \">=90\", \"fecha (a\\u00f1o-mes-d\\u00eda)\": \"2020-06-07\", \"fallecidos confirmados\": 179}, {\"index\": 0, \"Grupo de edad\": \"<=39\", \"fecha (a\\u00f1o-mes-d\\u00eda)\": \"2020-06-08\", \"fallecidos confirmados\": 60}, {\"index\": 1, \"Grupo de edad\": \"40-49\", \"fecha (a\\u00f1o-mes-d\\u00eda)\": \"2020-06-08\", \"fallecidos confirmados\": 78}, {\"index\": 2, \"Grupo de edad\": \"50-59\", \"fecha (a\\u00f1o-mes-d\\u00eda)\": \"2020-06-08\", \"fallecidos confirmados\": 219}, {\"index\": 3, \"Grupo de edad\": \"60-69\", \"fecha (a\\u00f1o-mes-d\\u00eda)\": \"2020-06-08\", \"fallecidos confirmados\": 421}, {\"index\": 4, \"Grupo de edad\": \"70-79\", \"fecha (a\\u00f1o-mes-d\\u00eda)\": \"2020-06-08\", \"fallecidos confirmados\": 682}, {\"index\": 5, \"Grupo de edad\": \"80-89\", \"fecha (a\\u00f1o-mes-d\\u00eda)\": \"2020-06-08\", \"fallecidos confirmados\": 618}, {\"index\": 6, \"Grupo de edad\": \">=90\", \"fecha (a\\u00f1o-mes-d\\u00eda)\": \"2020-06-08\", \"fallecidos confirmados\": 186}, {\"index\": 0, \"Grupo de edad\": \"<=39\", \"fecha (a\\u00f1o-mes-d\\u00eda)\": \"2020-06-09\", \"fallecidos confirmados\": 60}, {\"index\": 1, \"Grupo de edad\": \"40-49\", \"fecha (a\\u00f1o-mes-d\\u00eda)\": \"2020-06-09\", \"fallecidos confirmados\": 79}, {\"index\": 2, \"Grupo de edad\": \"50-59\", \"fecha (a\\u00f1o-mes-d\\u00eda)\": \"2020-06-09\", \"fallecidos confirmados\": 221}, {\"index\": 3, \"Grupo de edad\": \"60-69\", \"fecha (a\\u00f1o-mes-d\\u00eda)\": \"2020-06-09\", \"fallecidos confirmados\": 427}, {\"index\": 4, \"Grupo de edad\": \"70-79\", \"fecha (a\\u00f1o-mes-d\\u00eda)\": \"2020-06-09\", \"fallecidos confirmados\": 686}, {\"index\": 5, \"Grupo de edad\": \"80-89\", \"fecha (a\\u00f1o-mes-d\\u00eda)\": \"2020-06-09\", \"fallecidos confirmados\": 623}, {\"index\": 6, \"Grupo de edad\": \">=90\", \"fecha (a\\u00f1o-mes-d\\u00eda)\": \"2020-06-09\", \"fallecidos confirmados\": 187}, {\"index\": 0, \"Grupo de edad\": \"<=39\", \"fecha (a\\u00f1o-mes-d\\u00eda)\": \"2020-06-10\", \"fallecidos confirmados\": 63}, {\"index\": 1, \"Grupo de edad\": \"40-49\", \"fecha (a\\u00f1o-mes-d\\u00eda)\": \"2020-06-10\", \"fallecidos confirmados\": 86}, {\"index\": 2, \"Grupo de edad\": \"50-59\", \"fecha (a\\u00f1o-mes-d\\u00eda)\": \"2020-06-10\", \"fallecidos confirmados\": 238}, {\"index\": 3, \"Grupo de edad\": \"60-69\", \"fecha (a\\u00f1o-mes-d\\u00eda)\": \"2020-06-10\", \"fallecidos confirmados\": 475}, {\"index\": 4, \"Grupo de edad\": \"70-79\", \"fecha (a\\u00f1o-mes-d\\u00eda)\": \"2020-06-10\", \"fallecidos confirmados\": 751}, {\"index\": 5, \"Grupo de edad\": \"80-89\", \"fecha (a\\u00f1o-mes-d\\u00eda)\": \"2020-06-10\", \"fallecidos confirmados\": 668}, {\"index\": 6, \"Grupo de edad\": \">=90\", \"fecha (a\\u00f1o-mes-d\\u00eda)\": \"2020-06-10\", \"fallecidos confirmados\": 194}, {\"index\": 0, \"Grupo de edad\": \"<=39\", \"fecha (a\\u00f1o-mes-d\\u00eda)\": \"2020-06-11\", \"fallecidos confirmados\": 68}, {\"index\": 1, \"Grupo de edad\": \"40-49\", \"fecha (a\\u00f1o-mes-d\\u00eda)\": \"2020-06-11\", \"fallecidos confirmados\": 92}, {\"index\": 2, \"Grupo de edad\": \"50-59\", \"fecha (a\\u00f1o-mes-d\\u00eda)\": \"2020-06-11\", \"fallecidos confirmados\": 249}, {\"index\": 3, \"Grupo de edad\": \"60-69\", \"fecha (a\\u00f1o-mes-d\\u00eda)\": \"2020-06-11\", \"fallecidos confirmados\": 508}, {\"index\": 4, \"Grupo de edad\": \"70-79\", \"fecha (a\\u00f1o-mes-d\\u00eda)\": \"2020-06-11\", \"fallecidos confirmados\": 807}, {\"index\": 5, \"Grupo de edad\": \"80-89\", \"fecha (a\\u00f1o-mes-d\\u00eda)\": \"2020-06-11\", \"fallecidos confirmados\": 715}, {\"index\": 6, \"Grupo de edad\": \">=90\", \"fecha (a\\u00f1o-mes-d\\u00eda)\": \"2020-06-11\", \"fallecidos confirmados\": 209}, {\"index\": 0, \"Grupo de edad\": \"<=39\", \"fecha (a\\u00f1o-mes-d\\u00eda)\": \"2020-06-12\", \"fallecidos confirmados\": 73}, {\"index\": 1, \"Grupo de edad\": \"40-49\", \"fecha (a\\u00f1o-mes-d\\u00eda)\": \"2020-06-12\", \"fallecidos confirmados\": 100}, {\"index\": 2, \"Grupo de edad\": \"50-59\", \"fecha (a\\u00f1o-mes-d\\u00eda)\": \"2020-06-12\", \"fallecidos confirmados\": 267}, {\"index\": 3, \"Grupo de edad\": \"60-69\", \"fecha (a\\u00f1o-mes-d\\u00eda)\": \"2020-06-12\", \"fallecidos confirmados\": 557}, {\"index\": 4, \"Grupo de edad\": \"70-79\", \"fecha (a\\u00f1o-mes-d\\u00eda)\": \"2020-06-12\", \"fallecidos confirmados\": 872}, {\"index\": 5, \"Grupo de edad\": \"80-89\", \"fecha (a\\u00f1o-mes-d\\u00eda)\": \"2020-06-12\", \"fallecidos confirmados\": 775}, {\"index\": 6, \"Grupo de edad\": \">=90\", \"fecha (a\\u00f1o-mes-d\\u00eda)\": \"2020-06-12\", \"fallecidos confirmados\": 226}, {\"index\": 0, \"Grupo de edad\": \"<=39\", \"fecha (a\\u00f1o-mes-d\\u00eda)\": \"2020-06-13\", \"fallecidos confirmados\": 80}, {\"index\": 1, \"Grupo de edad\": \"40-49\", \"fecha (a\\u00f1o-mes-d\\u00eda)\": \"2020-06-13\", \"fallecidos confirmados\": 106}, {\"index\": 2, \"Grupo de edad\": \"50-59\", \"fecha (a\\u00f1o-mes-d\\u00eda)\": \"2020-06-13\", \"fallecidos confirmados\": 295}, {\"index\": 3, \"Grupo de edad\": \"60-69\", \"fecha (a\\u00f1o-mes-d\\u00eda)\": \"2020-06-13\", \"fallecidos confirmados\": 613}, {\"index\": 4, \"Grupo de edad\": \"70-79\", \"fecha (a\\u00f1o-mes-d\\u00eda)\": \"2020-06-13\", \"fallecidos confirmados\": 933}, {\"index\": 5, \"Grupo de edad\": \"80-89\", \"fecha (a\\u00f1o-mes-d\\u00eda)\": \"2020-06-13\", \"fallecidos confirmados\": 838}, {\"index\": 6, \"Grupo de edad\": \">=90\", \"fecha (a\\u00f1o-mes-d\\u00eda)\": \"2020-06-13\", \"fallecidos confirmados\": 236}, {\"index\": 0, \"Grupo de edad\": \"<=39\", \"fecha (a\\u00f1o-mes-d\\u00eda)\": \"2020-06-14\", \"fallecidos confirmados\": 81}, {\"index\": 1, \"Grupo de edad\": \"40-49\", \"fecha (a\\u00f1o-mes-d\\u00eda)\": \"2020-06-14\", \"fallecidos confirmados\": 110}, {\"index\": 2, \"Grupo de edad\": \"50-59\", \"fecha (a\\u00f1o-mes-d\\u00eda)\": \"2020-06-14\", \"fallecidos confirmados\": 322}, {\"index\": 3, \"Grupo de edad\": \"60-69\", \"fecha (a\\u00f1o-mes-d\\u00eda)\": \"2020-06-14\", \"fallecidos confirmados\": 656}, {\"index\": 4, \"Grupo de edad\": \"70-79\", \"fecha (a\\u00f1o-mes-d\\u00eda)\": \"2020-06-14\", \"fallecidos confirmados\": 1006}, {\"index\": 5, \"Grupo de edad\": \"80-89\", \"fecha (a\\u00f1o-mes-d\\u00eda)\": \"2020-06-14\", \"fallecidos confirmados\": 893}, {\"index\": 6, \"Grupo de edad\": \">=90\", \"fecha (a\\u00f1o-mes-d\\u00eda)\": \"2020-06-14\", \"fallecidos confirmados\": 255}, {\"index\": 0, \"Grupo de edad\": \"<=39\", \"fecha (a\\u00f1o-mes-d\\u00eda)\": \"2020-06-15\", \"fallecidos confirmados\": 84}, {\"index\": 1, \"Grupo de edad\": \"40-49\", \"fecha (a\\u00f1o-mes-d\\u00eda)\": \"2020-06-15\", \"fallecidos confirmados\": 111}, {\"index\": 2, \"Grupo de edad\": \"50-59\", \"fecha (a\\u00f1o-mes-d\\u00eda)\": \"2020-06-15\", \"fallecidos confirmados\": 325}, {\"index\": 3, \"Grupo de edad\": \"60-69\", \"fecha (a\\u00f1o-mes-d\\u00eda)\": \"2020-06-15\", \"fallecidos confirmados\": 669}, {\"index\": 4, \"Grupo de edad\": \"70-79\", \"fecha (a\\u00f1o-mes-d\\u00eda)\": \"2020-06-15\", \"fallecidos confirmados\": 1015}, {\"index\": 5, \"Grupo de edad\": \"80-89\", \"fecha (a\\u00f1o-mes-d\\u00eda)\": \"2020-06-15\", \"fallecidos confirmados\": 899}, {\"index\": 6, \"Grupo de edad\": \">=90\", \"fecha (a\\u00f1o-mes-d\\u00eda)\": \"2020-06-15\", \"fallecidos confirmados\": 259}, {\"index\": 0, \"Grupo de edad\": \"<=39\", \"fecha (a\\u00f1o-mes-d\\u00eda)\": \"2020-06-16\", \"fallecidos confirmados\": 84}, {\"index\": 1, \"Grupo de edad\": \"40-49\", \"fecha (a\\u00f1o-mes-d\\u00eda)\": \"2020-06-16\", \"fallecidos confirmados\": 112}, {\"index\": 2, \"Grupo de edad\": \"50-59\", \"fecha (a\\u00f1o-mes-d\\u00eda)\": \"2020-06-16\", \"fallecidos confirmados\": 327}, {\"index\": 3, \"Grupo de edad\": \"60-69\", \"fecha (a\\u00f1o-mes-d\\u00eda)\": \"2020-06-16\", \"fallecidos confirmados\": 675}, {\"index\": 4, \"Grupo de edad\": \"70-79\", \"fecha (a\\u00f1o-mes-d\\u00eda)\": \"2020-06-16\", \"fallecidos confirmados\": 1020}, {\"index\": 5, \"Grupo de edad\": \"80-89\", \"fecha (a\\u00f1o-mes-d\\u00eda)\": \"2020-06-16\", \"fallecidos confirmados\": 904}, {\"index\": 6, \"Grupo de edad\": \">=90\", \"fecha (a\\u00f1o-mes-d\\u00eda)\": \"2020-06-16\", \"fallecidos confirmados\": 261}, {\"index\": 0, \"Grupo de edad\": \"<=39\", \"fecha (a\\u00f1o-mes-d\\u00eda)\": \"2020-06-17\", \"fallecidos confirmados\": 88}, {\"index\": 1, \"Grupo de edad\": \"40-49\", \"fecha (a\\u00f1o-mes-d\\u00eda)\": \"2020-06-17\", \"fallecidos confirmados\": 127}, {\"index\": 2, \"Grupo de edad\": \"50-59\", \"fecha (a\\u00f1o-mes-d\\u00eda)\": \"2020-06-17\", \"fallecidos confirmados\": 351}, {\"index\": 3, \"Grupo de edad\": \"60-69\", \"fecha (a\\u00f1o-mes-d\\u00eda)\": \"2020-06-17\", \"fallecidos confirmados\": 723}, {\"index\": 4, \"Grupo de edad\": \"70-79\", \"fecha (a\\u00f1o-mes-d\\u00eda)\": \"2020-06-17\", \"fallecidos confirmados\": 1085}, {\"index\": 5, \"Grupo de edad\": \"80-89\", \"fecha (a\\u00f1o-mes-d\\u00eda)\": \"2020-06-17\", \"fallecidos confirmados\": 966}, {\"index\": 6, \"Grupo de edad\": \">=90\", \"fecha (a\\u00f1o-mes-d\\u00eda)\": \"2020-06-17\", \"fallecidos confirmados\": 275}, {\"index\": 0, \"Grupo de edad\": \"<=39\", \"fecha (a\\u00f1o-mes-d\\u00eda)\": \"2020-06-18\", \"fallecidos confirmados\": 89}, {\"index\": 1, \"Grupo de edad\": \"40-49\", \"fecha (a\\u00f1o-mes-d\\u00eda)\": \"2020-06-18\", \"fallecidos confirmados\": 136}, {\"index\": 2, \"Grupo de edad\": \"50-59\", \"fecha (a\\u00f1o-mes-d\\u00eda)\": \"2020-06-18\", \"fallecidos confirmados\": 369}, {\"index\": 3, \"Grupo de edad\": \"60-69\", \"fecha (a\\u00f1o-mes-d\\u00eda)\": \"2020-06-18\", \"fallecidos confirmados\": 787}, {\"index\": 4, \"Grupo de edad\": \"70-79\", \"fecha (a\\u00f1o-mes-d\\u00eda)\": \"2020-06-18\", \"fallecidos confirmados\": 1146}, {\"index\": 5, \"Grupo de edad\": \"80-89\", \"fecha (a\\u00f1o-mes-d\\u00eda)\": \"2020-06-18\", \"fallecidos confirmados\": 1030}, {\"index\": 6, \"Grupo de edad\": \">=90\", \"fecha (a\\u00f1o-mes-d\\u00eda)\": \"2020-06-18\", \"fallecidos confirmados\": 284}, {\"index\": 0, \"Grupo de edad\": \"<=39\", \"fecha (a\\u00f1o-mes-d\\u00eda)\": \"2020-06-19\", \"fallecidos confirmados\": 93}, {\"index\": 1, \"Grupo de edad\": \"40-49\", \"fecha (a\\u00f1o-mes-d\\u00eda)\": \"2020-06-19\", \"fallecidos confirmados\": 140}, {\"index\": 2, \"Grupo de edad\": \"50-59\", \"fecha (a\\u00f1o-mes-d\\u00eda)\": \"2020-06-19\", \"fallecidos confirmados\": 395}, {\"index\": 3, \"Grupo de edad\": \"60-69\", \"fecha (a\\u00f1o-mes-d\\u00eda)\": \"2020-06-19\", \"fallecidos confirmados\": 847}, {\"index\": 4, \"Grupo de edad\": \"70-79\", \"fecha (a\\u00f1o-mes-d\\u00eda)\": \"2020-06-19\", \"fallecidos confirmados\": 1222}, {\"index\": 5, \"Grupo de edad\": \"80-89\", \"fecha (a\\u00f1o-mes-d\\u00eda)\": \"2020-06-19\", \"fallecidos confirmados\": 1099}, {\"index\": 6, \"Grupo de edad\": \">=90\", \"fecha (a\\u00f1o-mes-d\\u00eda)\": \"2020-06-19\", \"fallecidos confirmados\": 297}, {\"index\": 0, \"Grupo de edad\": \"<=39\", \"fecha (a\\u00f1o-mes-d\\u00eda)\": \"2020-06-20\", \"fallecidos confirmados\": 94}, {\"index\": 1, \"Grupo de edad\": \"40-49\", \"fecha (a\\u00f1o-mes-d\\u00eda)\": \"2020-06-20\", \"fallecidos confirmados\": 144}, {\"index\": 2, \"Grupo de edad\": \"50-59\", \"fecha (a\\u00f1o-mes-d\\u00eda)\": \"2020-06-20\", \"fallecidos confirmados\": 413}, {\"index\": 3, \"Grupo de edad\": \"60-69\", \"fecha (a\\u00f1o-mes-d\\u00eda)\": \"2020-06-20\", \"fallecidos confirmados\": 895}, {\"index\": 4, \"Grupo de edad\": \"70-79\", \"fecha (a\\u00f1o-mes-d\\u00eda)\": \"2020-06-20\", \"fallecidos confirmados\": 1281}, {\"index\": 5, \"Grupo de edad\": \"80-89\", \"fecha (a\\u00f1o-mes-d\\u00eda)\": \"2020-06-20\", \"fallecidos confirmados\": 1152}, {\"index\": 6, \"Grupo de edad\": \">=90\", \"fecha (a\\u00f1o-mes-d\\u00eda)\": \"2020-06-20\", \"fallecidos confirmados\": 316}, {\"index\": 0, \"Grupo de edad\": \"<=39\", \"fecha (a\\u00f1o-mes-d\\u00eda)\": \"2020-06-21\", \"fallecidos confirmados\": 97}, {\"index\": 1, \"Grupo de edad\": \"40-49\", \"fecha (a\\u00f1o-mes-d\\u00eda)\": \"2020-06-21\", \"fallecidos confirmados\": 150}, {\"index\": 2, \"Grupo de edad\": \"50-59\", \"fecha (a\\u00f1o-mes-d\\u00eda)\": \"2020-06-21\", \"fallecidos confirmados\": 433}, {\"index\": 3, \"Grupo de edad\": \"60-69\", \"fecha (a\\u00f1o-mes-d\\u00eda)\": \"2020-06-21\", \"fallecidos confirmados\": 934}, {\"index\": 4, \"Grupo de edad\": \"70-79\", \"fecha (a\\u00f1o-mes-d\\u00eda)\": \"2020-06-21\", \"fallecidos confirmados\": 1337}, {\"index\": 5, \"Grupo de edad\": \"80-89\", \"fecha (a\\u00f1o-mes-d\\u00eda)\": \"2020-06-21\", \"fallecidos confirmados\": 1198}, {\"index\": 6, \"Grupo de edad\": \">=90\", \"fecha (a\\u00f1o-mes-d\\u00eda)\": \"2020-06-21\", \"fallecidos confirmados\": 330}, {\"index\": 0, \"Grupo de edad\": \"<=39\", \"fecha (a\\u00f1o-mes-d\\u00eda)\": \"2020-06-22\", \"fallecidos confirmados\": 98}, {\"index\": 1, \"Grupo de edad\": \"40-49\", \"fecha (a\\u00f1o-mes-d\\u00eda)\": \"2020-06-22\", \"fallecidos confirmados\": 150}, {\"index\": 2, \"Grupo de edad\": \"50-59\", \"fecha (a\\u00f1o-mes-d\\u00eda)\": \"2020-06-22\", \"fallecidos confirmados\": 434}, {\"index\": 3, \"Grupo de edad\": \"60-69\", \"fecha (a\\u00f1o-mes-d\\u00eda)\": \"2020-06-22\", \"fallecidos confirmados\": 942}, {\"index\": 4, \"Grupo de edad\": \"70-79\", \"fecha (a\\u00f1o-mes-d\\u00eda)\": \"2020-06-22\", \"fallecidos confirmados\": 1344}, {\"index\": 5, \"Grupo de edad\": \"80-89\", \"fecha (a\\u00f1o-mes-d\\u00eda)\": \"2020-06-22\", \"fallecidos confirmados\": 1204}, {\"index\": 6, \"Grupo de edad\": \">=90\", \"fecha (a\\u00f1o-mes-d\\u00eda)\": \"2020-06-22\", \"fallecidos confirmados\": 330}, {\"index\": 0, \"Grupo de edad\": \"<=39\", \"fecha (a\\u00f1o-mes-d\\u00eda)\": \"2020-06-23\", \"fallecidos confirmados\": 98}, {\"index\": 1, \"Grupo de edad\": \"40-49\", \"fecha (a\\u00f1o-mes-d\\u00eda)\": \"2020-06-23\", \"fallecidos confirmados\": 150}, {\"index\": 2, \"Grupo de edad\": \"50-59\", \"fecha (a\\u00f1o-mes-d\\u00eda)\": \"2020-06-23\", \"fallecidos confirmados\": 434}, {\"index\": 3, \"Grupo de edad\": \"60-69\", \"fecha (a\\u00f1o-mes-d\\u00eda)\": \"2020-06-23\", \"fallecidos confirmados\": 942}, {\"index\": 4, \"Grupo de edad\": \"70-79\", \"fecha (a\\u00f1o-mes-d\\u00eda)\": \"2020-06-23\", \"fallecidos confirmados\": 1344}, {\"index\": 5, \"Grupo de edad\": \"80-89\", \"fecha (a\\u00f1o-mes-d\\u00eda)\": \"2020-06-23\", \"fallecidos confirmados\": 1206}, {\"index\": 6, \"Grupo de edad\": \">=90\", \"fecha (a\\u00f1o-mes-d\\u00eda)\": \"2020-06-23\", \"fallecidos confirmados\": 331}, {\"index\": 0, \"Grupo de edad\": \"<=39\", \"fecha (a\\u00f1o-mes-d\\u00eda)\": \"2020-06-24\", \"fallecidos confirmados\": 105}, {\"index\": 1, \"Grupo de edad\": \"40-49\", \"fecha (a\\u00f1o-mes-d\\u00eda)\": \"2020-06-24\", \"fallecidos confirmados\": 157}, {\"index\": 2, \"Grupo de edad\": \"50-59\", \"fecha (a\\u00f1o-mes-d\\u00eda)\": \"2020-06-24\", \"fallecidos confirmados\": 458}, {\"index\": 3, \"Grupo de edad\": \"60-69\", \"fecha (a\\u00f1o-mes-d\\u00eda)\": \"2020-06-24\", \"fallecidos confirmados\": 987}, {\"index\": 4, \"Grupo de edad\": \"70-79\", \"fecha (a\\u00f1o-mes-d\\u00eda)\": \"2020-06-24\", \"fallecidos confirmados\": 1414}, {\"index\": 5, \"Grupo de edad\": \"80-89\", \"fecha (a\\u00f1o-mes-d\\u00eda)\": \"2020-06-24\", \"fallecidos confirmados\": 1259}, {\"index\": 6, \"Grupo de edad\": \">=90\", \"fecha (a\\u00f1o-mes-d\\u00eda)\": \"2020-06-24\", \"fallecidos confirmados\": 351}, {\"index\": 0, \"Grupo de edad\": \"<=39\", \"fecha (a\\u00f1o-mes-d\\u00eda)\": \"2020-06-25\", \"fallecidos confirmados\": 107}, {\"index\": 1, \"Grupo de edad\": \"40-49\", \"fecha (a\\u00f1o-mes-d\\u00eda)\": \"2020-06-25\", \"fallecidos confirmados\": 160}, {\"index\": 2, \"Grupo de edad\": \"50-59\", \"fecha (a\\u00f1o-mes-d\\u00eda)\": \"2020-06-25\", \"fallecidos confirmados\": 473}, {\"index\": 3, \"Grupo de edad\": \"60-69\", \"fecha (a\\u00f1o-mes-d\\u00eda)\": \"2020-06-25\", \"fallecidos confirmados\": 1035}, {\"index\": 4, \"Grupo de edad\": \"70-79\", \"fecha (a\\u00f1o-mes-d\\u00eda)\": \"2020-06-25\", \"fallecidos confirmados\": 1460}, {\"index\": 5, \"Grupo de edad\": \"80-89\", \"fecha (a\\u00f1o-mes-d\\u00eda)\": \"2020-06-25\", \"fallecidos confirmados\": 1299}, {\"index\": 6, \"Grupo de edad\": \">=90\", \"fecha (a\\u00f1o-mes-d\\u00eda)\": \"2020-06-25\", \"fallecidos confirmados\": 369}, {\"index\": 0, \"Grupo de edad\": \"<=39\", \"fecha (a\\u00f1o-mes-d\\u00eda)\": \"2020-06-26\", \"fallecidos confirmados\": 109}, {\"index\": 1, \"Grupo de edad\": \"40-49\", \"fecha (a\\u00f1o-mes-d\\u00eda)\": \"2020-06-26\", \"fallecidos confirmados\": 162}, {\"index\": 2, \"Grupo de edad\": \"50-59\", \"fecha (a\\u00f1o-mes-d\\u00eda)\": \"2020-06-26\", \"fallecidos confirmados\": 499}, {\"index\": 3, \"Grupo de edad\": \"60-69\", \"fecha (a\\u00f1o-mes-d\\u00eda)\": \"2020-06-26\", \"fallecidos confirmados\": 1071}, {\"index\": 4, \"Grupo de edad\": \"70-79\", \"fecha (a\\u00f1o-mes-d\\u00eda)\": \"2020-06-26\", \"fallecidos confirmados\": 1511}, {\"index\": 5, \"Grupo de edad\": \"80-89\", \"fecha (a\\u00f1o-mes-d\\u00eda)\": \"2020-06-26\", \"fallecidos confirmados\": 1338}, {\"index\": 6, \"Grupo de edad\": \">=90\", \"fecha (a\\u00f1o-mes-d\\u00eda)\": \"2020-06-26\", \"fallecidos confirmados\": 378}, {\"index\": 0, \"Grupo de edad\": \"<=39\", \"fecha (a\\u00f1o-mes-d\\u00eda)\": \"2020-06-27\", \"fallecidos confirmados\": 115}, {\"index\": 1, \"Grupo de edad\": \"40-49\", \"fecha (a\\u00f1o-mes-d\\u00eda)\": \"2020-06-27\", \"fallecidos confirmados\": 172}, {\"index\": 2, \"Grupo de edad\": \"50-59\", \"fecha (a\\u00f1o-mes-d\\u00eda)\": \"2020-06-27\", \"fallecidos confirmados\": 513}, {\"index\": 3, \"Grupo de edad\": \"60-69\", \"fecha (a\\u00f1o-mes-d\\u00eda)\": \"2020-06-27\", \"fallecidos confirmados\": 1125}, {\"index\": 4, \"Grupo de edad\": \"70-79\", \"fecha (a\\u00f1o-mes-d\\u00eda)\": \"2020-06-27\", \"fallecidos confirmados\": 1567}, {\"index\": 5, \"Grupo de edad\": \"80-89\", \"fecha (a\\u00f1o-mes-d\\u00eda)\": \"2020-06-27\", \"fallecidos confirmados\": 1388}, {\"index\": 6, \"Grupo de edad\": \">=90\", \"fecha (a\\u00f1o-mes-d\\u00eda)\": \"2020-06-27\", \"fallecidos confirmados\": 467}, {\"index\": 0, \"Grupo de edad\": \"<=39\", \"fecha (a\\u00f1o-mes-d\\u00eda)\": \"2020-06-28\", \"fallecidos confirmados\": 117}, {\"index\": 1, \"Grupo de edad\": \"40-49\", \"fecha (a\\u00f1o-mes-d\\u00eda)\": \"2020-06-28\", \"fallecidos confirmados\": 178}, {\"index\": 2, \"Grupo de edad\": \"50-59\", \"fecha (a\\u00f1o-mes-d\\u00eda)\": \"2020-06-28\", \"fallecidos confirmados\": 532}, {\"index\": 3, \"Grupo de edad\": \"60-69\", \"fecha (a\\u00f1o-mes-d\\u00eda)\": \"2020-06-28\", \"fallecidos confirmados\": 1159}, {\"index\": 4, \"Grupo de edad\": \"70-79\", \"fecha (a\\u00f1o-mes-d\\u00eda)\": \"2020-06-28\", \"fallecidos confirmados\": 1608}, {\"index\": 5, \"Grupo de edad\": \"80-89\", \"fecha (a\\u00f1o-mes-d\\u00eda)\": \"2020-06-28\", \"fallecidos confirmados\": 1430}, {\"index\": 6, \"Grupo de edad\": \">=90\", \"fecha (a\\u00f1o-mes-d\\u00eda)\": \"2020-06-28\", \"fallecidos confirmados\": 485}, {\"index\": 0, \"Grupo de edad\": \"<=39\", \"fecha (a\\u00f1o-mes-d\\u00eda)\": \"2020-06-29\", \"fallecidos confirmados\": 117}, {\"index\": 1, \"Grupo de edad\": \"40-49\", \"fecha (a\\u00f1o-mes-d\\u00eda)\": \"2020-06-29\", \"fallecidos confirmados\": 181}, {\"index\": 2, \"Grupo de edad\": \"50-59\", \"fecha (a\\u00f1o-mes-d\\u00eda)\": \"2020-06-29\", \"fallecidos confirmados\": 538}, {\"index\": 3, \"Grupo de edad\": \"60-69\", \"fecha (a\\u00f1o-mes-d\\u00eda)\": \"2020-06-29\", \"fallecidos confirmados\": 1174}, {\"index\": 4, \"Grupo de edad\": \"70-79\", \"fecha (a\\u00f1o-mes-d\\u00eda)\": \"2020-06-29\", \"fallecidos confirmados\": 1627}, {\"index\": 5, \"Grupo de edad\": \"80-89\", \"fecha (a\\u00f1o-mes-d\\u00eda)\": \"2020-06-29\", \"fallecidos confirmados\": 1444}, {\"index\": 6, \"Grupo de edad\": \">=90\", \"fecha (a\\u00f1o-mes-d\\u00eda)\": \"2020-06-29\", \"fallecidos confirmados\": 494}, {\"index\": 0, \"Grupo de edad\": \"<=39\", \"fecha (a\\u00f1o-mes-d\\u00eda)\": \"2020-06-30\", \"fallecidos confirmados\": 117}, {\"index\": 1, \"Grupo de edad\": \"40-49\", \"fecha (a\\u00f1o-mes-d\\u00eda)\": \"2020-06-30\", \"fallecidos confirmados\": 184}, {\"index\": 2, \"Grupo de edad\": \"50-59\", \"fecha (a\\u00f1o-mes-d\\u00eda)\": \"2020-06-30\", \"fallecidos confirmados\": 549}, {\"index\": 3, \"Grupo de edad\": \"60-69\", \"fecha (a\\u00f1o-mes-d\\u00eda)\": \"2020-06-30\", \"fallecidos confirmados\": 1192}, {\"index\": 4, \"Grupo de edad\": \"70-79\", \"fecha (a\\u00f1o-mes-d\\u00eda)\": \"2020-06-30\", \"fallecidos confirmados\": 1660}, {\"index\": 5, \"Grupo de edad\": \"80-89\", \"fecha (a\\u00f1o-mes-d\\u00eda)\": \"2020-06-30\", \"fallecidos confirmados\": 1479}, {\"index\": 6, \"Grupo de edad\": \">=90\", \"fecha (a\\u00f1o-mes-d\\u00eda)\": \"2020-06-30\", \"fallecidos confirmados\": 507}, {\"index\": 0, \"Grupo de edad\": \"<=39\", \"fecha (a\\u00f1o-mes-d\\u00eda)\": \"2020-07-01\", \"fallecidos confirmados\": 119}, {\"index\": 1, \"Grupo de edad\": \"40-49\", \"fecha (a\\u00f1o-mes-d\\u00eda)\": \"2020-07-01\", \"fallecidos confirmados\": 186}, {\"index\": 2, \"Grupo de edad\": \"50-59\", \"fecha (a\\u00f1o-mes-d\\u00eda)\": \"2020-07-01\", \"fallecidos confirmados\": 556}, {\"index\": 3, \"Grupo de edad\": \"60-69\", \"fecha (a\\u00f1o-mes-d\\u00eda)\": \"2020-07-01\", \"fallecidos confirmados\": 1205}, {\"index\": 4, \"Grupo de edad\": \"70-79\", \"fecha (a\\u00f1o-mes-d\\u00eda)\": \"2020-07-01\", \"fallecidos confirmados\": 1673}, {\"index\": 5, \"Grupo de edad\": \"80-89\", \"fecha (a\\u00f1o-mes-d\\u00eda)\": \"2020-07-01\", \"fallecidos confirmados\": 1495}, {\"index\": 6, \"Grupo de edad\": \">=90\", \"fecha (a\\u00f1o-mes-d\\u00eda)\": \"2020-07-01\", \"fallecidos confirmados\": 519}, {\"index\": 0, \"Grupo de edad\": \"<=39\", \"fecha (a\\u00f1o-mes-d\\u00eda)\": \"2020-07-02\", \"fallecidos confirmados\": 124}, {\"index\": 1, \"Grupo de edad\": \"40-49\", \"fecha (a\\u00f1o-mes-d\\u00eda)\": \"2020-07-02\", \"fallecidos confirmados\": 189}, {\"index\": 2, \"Grupo de edad\": \"50-59\", \"fecha (a\\u00f1o-mes-d\\u00eda)\": \"2020-07-02\", \"fallecidos confirmados\": 580}, {\"index\": 3, \"Grupo de edad\": \"60-69\", \"fecha (a\\u00f1o-mes-d\\u00eda)\": \"2020-07-02\", \"fallecidos confirmados\": 1248}, {\"index\": 4, \"Grupo de edad\": \"70-79\", \"fecha (a\\u00f1o-mes-d\\u00eda)\": \"2020-07-02\", \"fallecidos confirmados\": 1706}, {\"index\": 5, \"Grupo de edad\": \"80-89\", \"fecha (a\\u00f1o-mes-d\\u00eda)\": \"2020-07-02\", \"fallecidos confirmados\": 1532}, {\"index\": 6, \"Grupo de edad\": \">=90\", \"fecha (a\\u00f1o-mes-d\\u00eda)\": \"2020-07-02\", \"fallecidos confirmados\": 541}, {\"index\": 0, \"Grupo de edad\": \"<=39\", \"fecha (a\\u00f1o-mes-d\\u00eda)\": \"2020-07-03\", \"fallecidos confirmados\": 124}, {\"index\": 1, \"Grupo de edad\": \"40-49\", \"fecha (a\\u00f1o-mes-d\\u00eda)\": \"2020-07-03\", \"fallecidos confirmados\": 194}, {\"index\": 2, \"Grupo de edad\": \"50-59\", \"fecha (a\\u00f1o-mes-d\\u00eda)\": \"2020-07-03\", \"fallecidos confirmados\": 594}, {\"index\": 3, \"Grupo de edad\": \"60-69\", \"fecha (a\\u00f1o-mes-d\\u00eda)\": \"2020-07-03\", \"fallecidos confirmados\": 1275}, {\"index\": 4, \"Grupo de edad\": \"70-79\", \"fecha (a\\u00f1o-mes-d\\u00eda)\": \"2020-07-03\", \"fallecidos confirmados\": 1745}, {\"index\": 5, \"Grupo de edad\": \"80-89\", \"fecha (a\\u00f1o-mes-d\\u00eda)\": \"2020-07-03\", \"fallecidos confirmados\": 1571}, {\"index\": 6, \"Grupo de edad\": \">=90\", \"fecha (a\\u00f1o-mes-d\\u00eda)\": \"2020-07-03\", \"fallecidos confirmados\": 548}, {\"index\": 0, \"Grupo de edad\": \"<=39\", \"fecha (a\\u00f1o-mes-d\\u00eda)\": \"2020-07-04\", \"fallecidos confirmados\": 126}, {\"index\": 1, \"Grupo de edad\": \"40-49\", \"fecha (a\\u00f1o-mes-d\\u00eda)\": \"2020-07-04\", \"fallecidos confirmados\": 196}, {\"index\": 2, \"Grupo de edad\": \"50-59\", \"fecha (a\\u00f1o-mes-d\\u00eda)\": \"2020-07-04\", \"fallecidos confirmados\": 603}, {\"index\": 3, \"Grupo de edad\": \"60-69\", \"fecha (a\\u00f1o-mes-d\\u00eda)\": \"2020-07-04\", \"fallecidos confirmados\": 1313}, {\"index\": 4, \"Grupo de edad\": \"70-79\", \"fecha (a\\u00f1o-mes-d\\u00eda)\": \"2020-07-04\", \"fallecidos confirmados\": 1779}, {\"index\": 5, \"Grupo de edad\": \"80-89\", \"fecha (a\\u00f1o-mes-d\\u00eda)\": \"2020-07-04\", \"fallecidos confirmados\": 1610}, {\"index\": 6, \"Grupo de edad\": \">=90\", \"fecha (a\\u00f1o-mes-d\\u00eda)\": \"2020-07-04\", \"fallecidos confirmados\": 565}, {\"index\": 0, \"Grupo de edad\": \"<=39\", \"fecha (a\\u00f1o-mes-d\\u00eda)\": \"2020-07-05\", \"fallecidos confirmados\": 128}, {\"index\": 1, \"Grupo de edad\": \"40-49\", \"fecha (a\\u00f1o-mes-d\\u00eda)\": \"2020-07-05\", \"fallecidos confirmados\": 198}, {\"index\": 2, \"Grupo de edad\": \"50-59\", \"fecha (a\\u00f1o-mes-d\\u00eda)\": \"2020-07-05\", \"fallecidos confirmados\": 618}, {\"index\": 3, \"Grupo de edad\": \"60-69\", \"fecha (a\\u00f1o-mes-d\\u00eda)\": \"2020-07-05\", \"fallecidos confirmados\": 1337}, {\"index\": 4, \"Grupo de edad\": \"70-79\", \"fecha (a\\u00f1o-mes-d\\u00eda)\": \"2020-07-05\", \"fallecidos confirmados\": 1816}, {\"index\": 5, \"Grupo de edad\": \"80-89\", \"fecha (a\\u00f1o-mes-d\\u00eda)\": \"2020-07-05\", \"fallecidos confirmados\": 1633}, {\"index\": 6, \"Grupo de edad\": \">=90\", \"fecha (a\\u00f1o-mes-d\\u00eda)\": \"2020-07-05\", \"fallecidos confirmados\": 578}, {\"index\": 0, \"Grupo de edad\": \"<=39\", \"fecha (a\\u00f1o-mes-d\\u00eda)\": \"2020-07-06\", \"fallecidos confirmados\": 130}, {\"index\": 1, \"Grupo de edad\": \"40-49\", \"fecha (a\\u00f1o-mes-d\\u00eda)\": \"2020-07-06\", \"fallecidos confirmados\": 202}, {\"index\": 2, \"Grupo de edad\": \"50-59\", \"fecha (a\\u00f1o-mes-d\\u00eda)\": \"2020-07-06\", \"fallecidos confirmados\": 625}, {\"index\": 3, \"Grupo de edad\": \"60-69\", \"fecha (a\\u00f1o-mes-d\\u00eda)\": \"2020-07-06\", \"fallecidos confirmados\": 1354}, {\"index\": 4, \"Grupo de edad\": \"70-79\", \"fecha (a\\u00f1o-mes-d\\u00eda)\": \"2020-07-06\", \"fallecidos confirmados\": 1839}, {\"index\": 5, \"Grupo de edad\": \"80-89\", \"fecha (a\\u00f1o-mes-d\\u00eda)\": \"2020-07-06\", \"fallecidos confirmados\": 1650}, {\"index\": 6, \"Grupo de edad\": \">=90\", \"fecha (a\\u00f1o-mes-d\\u00eda)\": \"2020-07-06\", \"fallecidos confirmados\": 584}]}}, {\"mode\": \"vega-lite\"});\n",
       "</script>"
      ],
      "text/plain": [
       "alt.HConcatChart(...)"
      ]
     },
     "execution_count": 122,
     "metadata": {},
     "output_type": "execute_result"
    }
   ],
   "source": [
    "#hide_input\n",
    "input_dropdown = alt.binding_select(options=data['Grupo de edad'].unique())\n",
    "selection1 = alt.selection_single(fields=['Grupo de edad'], bind=input_dropdown, name=' ')\n",
    "selection2 = alt.selection_multi(fields=['Grupo de edad'], on='mouseover')\n",
    "\n",
    "color = alt.condition(selection1 | selection2,\n",
    "                    alt.Color('Grupo de edad:N', scale=alt.Scale(scheme='tableau20'), legend=None),\n",
    "                    alt.value('lightgray'))\n",
    "\n",
    "bars = alt.Chart(data).mark_bar().encode(\n",
    "    x = 'fecha (año-mes-día):N',\n",
    "    y = 'fallecidos confirmados:Q',\n",
    "    color = color,\n",
    "    tooltip = ['fecha (año-mes-día)', 'Grupo de edad', 'fallecidos confirmados'],\n",
    "    order=alt.Order(\n",
    "    # Sort the segments of the bars by this field\n",
    "    'index',\n",
    "    sort='descending'\n",
    "    )\n",
    ").add_selection(\n",
    "    selection1, selection2\n",
    ").transform_filter(\n",
    "    selection1\n",
    ")\n",
    "\n",
    "legend = alt.Chart(data).mark_point().encode(\n",
    "    y=alt.Y('Grupo de edad', axis=alt.Axis(orient='right'), sort=grupo_de_edad),\n",
    "    color=color\n",
    ").add_selection(\n",
    "    selection1, selection2\n",
    ")\n",
    "\n",
    "bars.properties(\n",
    "    title = 'COVID-19 en Chile: Evolución de fallecidos confirmados por rango de edad',\n",
    "    width = 600\n",
    ") | legend"
   ]
  },
  {
   "cell_type": "code",
   "execution_count": 123,
   "metadata": {},
   "outputs": [
    {
     "data": {
      "text/html": [
       "\n",
       "<div id=\"altair-viz-ea48b07460344494bef4ff34721f3bff\"></div>\n",
       "<script type=\"text/javascript\">\n",
       "  (function(spec, embedOpt){\n",
       "    let outputDiv = document.currentScript.previousElementSibling;\n",
       "    if (outputDiv.id !== \"altair-viz-ea48b07460344494bef4ff34721f3bff\") {\n",
       "      outputDiv = document.getElementById(\"altair-viz-ea48b07460344494bef4ff34721f3bff\");\n",
       "    }\n",
       "    const paths = {\n",
       "      \"vega\": \"https://cdn.jsdelivr.net/npm//vega@5?noext\",\n",
       "      \"vega-lib\": \"https://cdn.jsdelivr.net/npm//vega-lib?noext\",\n",
       "      \"vega-lite\": \"https://cdn.jsdelivr.net/npm//vega-lite@4.8.1?noext\",\n",
       "      \"vega-embed\": \"https://cdn.jsdelivr.net/npm//vega-embed@6?noext\",\n",
       "    };\n",
       "\n",
       "    function loadScript(lib) {\n",
       "      return new Promise(function(resolve, reject) {\n",
       "        var s = document.createElement('script');\n",
       "        s.src = paths[lib];\n",
       "        s.async = true;\n",
       "        s.onload = () => resolve(paths[lib]);\n",
       "        s.onerror = () => reject(`Error loading script: ${paths[lib]}`);\n",
       "        document.getElementsByTagName(\"head\")[0].appendChild(s);\n",
       "      });\n",
       "    }\n",
       "\n",
       "    function showError(err) {\n",
       "      outputDiv.innerHTML = `<div class=\"error\" style=\"color:red;\">${err}</div>`;\n",
       "      throw err;\n",
       "    }\n",
       "\n",
       "    function displayChart(vegaEmbed) {\n",
       "      vegaEmbed(outputDiv, spec, embedOpt)\n",
       "        .catch(err => showError(`Javascript Error: ${err.message}<br>This usually means there's a typo in your chart specification. See the javascript console for the full traceback.`));\n",
       "    }\n",
       "\n",
       "    if(typeof define === \"function\" && define.amd) {\n",
       "      requirejs.config({paths});\n",
       "      require([\"vega-embed\"], displayChart, err => showError(`Error loading script: ${err.message}`));\n",
       "    } else if (typeof vegaEmbed === \"function\") {\n",
       "      displayChart(vegaEmbed);\n",
       "    } else {\n",
       "      loadScript(\"vega\")\n",
       "        .then(() => loadScript(\"vega-lite\"))\n",
       "        .then(() => loadScript(\"vega-embed\"))\n",
       "        .catch(showError)\n",
       "        .then(() => displayChart(vegaEmbed));\n",
       "    }\n",
       "  })({\"config\": {\"view\": {\"continuousWidth\": 400, \"continuousHeight\": 300}}, \"hconcat\": [{\"mark\": \"area\", \"encoding\": {\"color\": {\"condition\": {\"type\": \"nominal\", \"field\": \"Grupo de edad\", \"legend\": null, \"scale\": {\"scheme\": \"tableau20\"}, \"selection\": \"selector006\"}, \"value\": \"lightgray\"}, \"order\": {\"type\": \"quantitative\", \"field\": \"index\", \"sort\": \"descending\"}, \"tooltip\": [{\"type\": \"nominal\", \"field\": \"fecha (a\\u00f1o-mes-d\\u00eda)\"}, {\"type\": \"nominal\", \"field\": \"Grupo de edad\"}, {\"type\": \"quantitative\", \"field\": \"fallecidos confirmados\"}], \"x\": {\"type\": \"nominal\", \"field\": \"fecha (a\\u00f1o-mes-d\\u00eda)\"}, \"y\": {\"type\": \"quantitative\", \"field\": \"fallecidos confirmados\", \"sort\": [\"<=39\", \"40-49\", \"50-59\", \"60-69\", \"70-79\", \"80-89\", \">=90\"], \"stack\": \"normalize\"}}, \"selection\": {\"selector006\": {\"type\": \"multi\", \"fields\": [\"Grupo de edad\"], \"on\": \"mouseover\"}}, \"title\": \"COVID-19 en Chile: Evoluci\\u00f3n de fallecidos confirmados normalizados por rango de edad\", \"width\": 600}, {\"mark\": \"point\", \"encoding\": {\"color\": {\"condition\": {\"type\": \"nominal\", \"field\": \"Grupo de edad\", \"legend\": null, \"scale\": {\"scheme\": \"tableau20\"}, \"selection\": \"selector006\"}, \"value\": \"lightgray\"}, \"y\": {\"type\": \"nominal\", \"axis\": {\"orient\": \"right\"}, \"field\": \"Grupo de edad\", \"sort\": [\"<=39\", \"40-49\", \"50-59\", \"60-69\", \"70-79\", \"80-89\", \">=90\"]}}, \"selection\": {\"selector006\": {\"type\": \"multi\", \"fields\": [\"Grupo de edad\"], \"on\": \"mouseover\"}}}], \"data\": {\"name\": \"data-e2bc09ba581df55750dda807120b3289\"}, \"$schema\": \"https://vega.github.io/schema/vega-lite/v4.8.1.json\", \"datasets\": {\"data-e2bc09ba581df55750dda807120b3289\": [{\"index\": 0, \"Grupo de edad\": \"<=39\", \"fecha (a\\u00f1o-mes-d\\u00eda)\": \"2020-04-09\", \"fallecidos confirmados\": 2}, {\"index\": 1, \"Grupo de edad\": \"40-49\", \"fecha (a\\u00f1o-mes-d\\u00eda)\": \"2020-04-09\", \"fallecidos confirmados\": 1}, {\"index\": 2, \"Grupo de edad\": \"50-59\", \"fecha (a\\u00f1o-mes-d\\u00eda)\": \"2020-04-09\", \"fallecidos confirmados\": 1}, {\"index\": 3, \"Grupo de edad\": \"60-69\", \"fecha (a\\u00f1o-mes-d\\u00eda)\": \"2020-04-09\", \"fallecidos confirmados\": 9}, {\"index\": 4, \"Grupo de edad\": \"70-79\", \"fecha (a\\u00f1o-mes-d\\u00eda)\": \"2020-04-09\", \"fallecidos confirmados\": 21}, {\"index\": 5, \"Grupo de edad\": \"80-89\", \"fecha (a\\u00f1o-mes-d\\u00eda)\": \"2020-04-09\", \"fallecidos confirmados\": 19}, {\"index\": 6, \"Grupo de edad\": \">=90\", \"fecha (a\\u00f1o-mes-d\\u00eda)\": \"2020-04-09\", \"fallecidos confirmados\": 4}, {\"index\": 0, \"Grupo de edad\": \"<=39\", \"fecha (a\\u00f1o-mes-d\\u00eda)\": \"2020-04-10\", \"fallecidos confirmados\": 2}, {\"index\": 1, \"Grupo de edad\": \"40-49\", \"fecha (a\\u00f1o-mes-d\\u00eda)\": \"2020-04-10\", \"fallecidos confirmados\": 2}, {\"index\": 2, \"Grupo de edad\": \"50-59\", \"fecha (a\\u00f1o-mes-d\\u00eda)\": \"2020-04-10\", \"fallecidos confirmados\": 2}, {\"index\": 3, \"Grupo de edad\": \"60-69\", \"fecha (a\\u00f1o-mes-d\\u00eda)\": \"2020-04-10\", \"fallecidos confirmados\": 10}, {\"index\": 4, \"Grupo de edad\": \"70-79\", \"fecha (a\\u00f1o-mes-d\\u00eda)\": \"2020-04-10\", \"fallecidos confirmados\": 22}, {\"index\": 5, \"Grupo de edad\": \"80-89\", \"fecha (a\\u00f1o-mes-d\\u00eda)\": \"2020-04-10\", \"fallecidos confirmados\": 21}, {\"index\": 6, \"Grupo de edad\": \">=90\", \"fecha (a\\u00f1o-mes-d\\u00eda)\": \"2020-04-10\", \"fallecidos confirmados\": 6}, {\"index\": 0, \"Grupo de edad\": \"<=39\", \"fecha (a\\u00f1o-mes-d\\u00eda)\": \"2020-04-11\", \"fallecidos confirmados\": 3}, {\"index\": 1, \"Grupo de edad\": \"40-49\", \"fecha (a\\u00f1o-mes-d\\u00eda)\": \"2020-04-11\", \"fallecidos confirmados\": 2}, {\"index\": 2, \"Grupo de edad\": \"50-59\", \"fecha (a\\u00f1o-mes-d\\u00eda)\": \"2020-04-11\", \"fallecidos confirmados\": 2}, {\"index\": 3, \"Grupo de edad\": \"60-69\", \"fecha (a\\u00f1o-mes-d\\u00eda)\": \"2020-04-11\", \"fallecidos confirmados\": 12}, {\"index\": 4, \"Grupo de edad\": \"70-79\", \"fecha (a\\u00f1o-mes-d\\u00eda)\": \"2020-04-11\", \"fallecidos confirmados\": 24}, {\"index\": 5, \"Grupo de edad\": \"80-89\", \"fecha (a\\u00f1o-mes-d\\u00eda)\": \"2020-04-11\", \"fallecidos confirmados\": 24}, {\"index\": 6, \"Grupo de edad\": \">=90\", \"fecha (a\\u00f1o-mes-d\\u00eda)\": \"2020-04-11\", \"fallecidos confirmados\": 6}, {\"index\": 0, \"Grupo de edad\": \"<=39\", \"fecha (a\\u00f1o-mes-d\\u00eda)\": \"2020-04-12\", \"fallecidos confirmados\": 3}, {\"index\": 1, \"Grupo de edad\": \"40-49\", \"fecha (a\\u00f1o-mes-d\\u00eda)\": \"2020-04-12\", \"fallecidos confirmados\": 2}, {\"index\": 2, \"Grupo de edad\": \"50-59\", \"fecha (a\\u00f1o-mes-d\\u00eda)\": \"2020-04-12\", \"fallecidos confirmados\": 3}, {\"index\": 3, \"Grupo de edad\": \"60-69\", \"fecha (a\\u00f1o-mes-d\\u00eda)\": \"2020-04-12\", \"fallecidos confirmados\": 12}, {\"index\": 4, \"Grupo de edad\": \"70-79\", \"fecha (a\\u00f1o-mes-d\\u00eda)\": \"2020-04-12\", \"fallecidos confirmados\": 28}, {\"index\": 5, \"Grupo de edad\": \"80-89\", \"fecha (a\\u00f1o-mes-d\\u00eda)\": \"2020-04-12\", \"fallecidos confirmados\": 25}, {\"index\": 6, \"Grupo de edad\": \">=90\", \"fecha (a\\u00f1o-mes-d\\u00eda)\": \"2020-04-12\", \"fallecidos confirmados\": 7}, {\"index\": 0, \"Grupo de edad\": \"<=39\", \"fecha (a\\u00f1o-mes-d\\u00eda)\": \"2020-04-13\", \"fallecidos confirmados\": 3}, {\"index\": 1, \"Grupo de edad\": \"40-49\", \"fecha (a\\u00f1o-mes-d\\u00eda)\": \"2020-04-13\", \"fallecidos confirmados\": 2}, {\"index\": 2, \"Grupo de edad\": \"50-59\", \"fecha (a\\u00f1o-mes-d\\u00eda)\": \"2020-04-13\", \"fallecidos confirmados\": 3}, {\"index\": 3, \"Grupo de edad\": \"60-69\", \"fecha (a\\u00f1o-mes-d\\u00eda)\": \"2020-04-13\", \"fallecidos confirmados\": 12}, {\"index\": 4, \"Grupo de edad\": \"70-79\", \"fecha (a\\u00f1o-mes-d\\u00eda)\": \"2020-04-13\", \"fallecidos confirmados\": 29}, {\"index\": 5, \"Grupo de edad\": \"80-89\", \"fecha (a\\u00f1o-mes-d\\u00eda)\": \"2020-04-13\", \"fallecidos confirmados\": 26}, {\"index\": 6, \"Grupo de edad\": \">=90\", \"fecha (a\\u00f1o-mes-d\\u00eda)\": \"2020-04-13\", \"fallecidos confirmados\": 7}, {\"index\": 0, \"Grupo de edad\": \"<=39\", \"fecha (a\\u00f1o-mes-d\\u00eda)\": \"2020-04-14\", \"fallecidos confirmados\": 3}, {\"index\": 1, \"Grupo de edad\": \"40-49\", \"fecha (a\\u00f1o-mes-d\\u00eda)\": \"2020-04-14\", \"fallecidos confirmados\": 2}, {\"index\": 2, \"Grupo de edad\": \"50-59\", \"fecha (a\\u00f1o-mes-d\\u00eda)\": \"2020-04-14\", \"fallecidos confirmados\": 5}, {\"index\": 3, \"Grupo de edad\": \"60-69\", \"fecha (a\\u00f1o-mes-d\\u00eda)\": \"2020-04-14\", \"fallecidos confirmados\": 12}, {\"index\": 4, \"Grupo de edad\": \"70-79\", \"fecha (a\\u00f1o-mes-d\\u00eda)\": \"2020-04-14\", \"fallecidos confirmados\": 30}, {\"index\": 5, \"Grupo de edad\": \"80-89\", \"fecha (a\\u00f1o-mes-d\\u00eda)\": \"2020-04-14\", \"fallecidos confirmados\": 32}, {\"index\": 6, \"Grupo de edad\": \">=90\", \"fecha (a\\u00f1o-mes-d\\u00eda)\": \"2020-04-14\", \"fallecidos confirmados\": 8}, {\"index\": 0, \"Grupo de edad\": \"<=39\", \"fecha (a\\u00f1o-mes-d\\u00eda)\": \"2020-04-15\", \"fallecidos confirmados\": 3}, {\"index\": 1, \"Grupo de edad\": \"40-49\", \"fecha (a\\u00f1o-mes-d\\u00eda)\": \"2020-04-15\", \"fallecidos confirmados\": 2}, {\"index\": 2, \"Grupo de edad\": \"50-59\", \"fecha (a\\u00f1o-mes-d\\u00eda)\": \"2020-04-15\", \"fallecidos confirmados\": 5}, {\"index\": 3, \"Grupo de edad\": \"60-69\", \"fecha (a\\u00f1o-mes-d\\u00eda)\": \"2020-04-15\", \"fallecidos confirmados\": 12}, {\"index\": 4, \"Grupo de edad\": \"70-79\", \"fecha (a\\u00f1o-mes-d\\u00eda)\": \"2020-04-15\", \"fallecidos confirmados\": 31}, {\"index\": 5, \"Grupo de edad\": \"80-89\", \"fecha (a\\u00f1o-mes-d\\u00eda)\": \"2020-04-15\", \"fallecidos confirmados\": 33}, {\"index\": 6, \"Grupo de edad\": \">=90\", \"fecha (a\\u00f1o-mes-d\\u00eda)\": \"2020-04-15\", \"fallecidos confirmados\": 8}, {\"index\": 0, \"Grupo de edad\": \"<=39\", \"fecha (a\\u00f1o-mes-d\\u00eda)\": \"2020-04-16\", \"fallecidos confirmados\": 3}, {\"index\": 1, \"Grupo de edad\": \"40-49\", \"fecha (a\\u00f1o-mes-d\\u00eda)\": \"2020-04-16\", \"fallecidos confirmados\": 2}, {\"index\": 2, \"Grupo de edad\": \"50-59\", \"fecha (a\\u00f1o-mes-d\\u00eda)\": \"2020-04-16\", \"fallecidos confirmados\": 6}, {\"index\": 3, \"Grupo de edad\": \"60-69\", \"fecha (a\\u00f1o-mes-d\\u00eda)\": \"2020-04-16\", \"fallecidos confirmados\": 14}, {\"index\": 4, \"Grupo de edad\": \"70-79\", \"fecha (a\\u00f1o-mes-d\\u00eda)\": \"2020-04-16\", \"fallecidos confirmados\": 32}, {\"index\": 5, \"Grupo de edad\": \"80-89\", \"fecha (a\\u00f1o-mes-d\\u00eda)\": \"2020-04-16\", \"fallecidos confirmados\": 38}, {\"index\": 6, \"Grupo de edad\": \">=90\", \"fecha (a\\u00f1o-mes-d\\u00eda)\": \"2020-04-16\", \"fallecidos confirmados\": 10}, {\"index\": 0, \"Grupo de edad\": \"<=39\", \"fecha (a\\u00f1o-mes-d\\u00eda)\": \"2020-04-17\", \"fallecidos confirmados\": 4}, {\"index\": 1, \"Grupo de edad\": \"40-49\", \"fecha (a\\u00f1o-mes-d\\u00eda)\": \"2020-04-17\", \"fallecidos confirmados\": 2}, {\"index\": 2, \"Grupo de edad\": \"50-59\", \"fecha (a\\u00f1o-mes-d\\u00eda)\": \"2020-04-17\", \"fallecidos confirmados\": 8}, {\"index\": 3, \"Grupo de edad\": \"60-69\", \"fecha (a\\u00f1o-mes-d\\u00eda)\": \"2020-04-17\", \"fallecidos confirmados\": 16}, {\"index\": 4, \"Grupo de edad\": \"70-79\", \"fecha (a\\u00f1o-mes-d\\u00eda)\": \"2020-04-17\", \"fallecidos confirmados\": 36}, {\"index\": 5, \"Grupo de edad\": \"80-89\", \"fecha (a\\u00f1o-mes-d\\u00eda)\": \"2020-04-17\", \"fallecidos confirmados\": 40}, {\"index\": 6, \"Grupo de edad\": \">=90\", \"fecha (a\\u00f1o-mes-d\\u00eda)\": \"2020-04-17\", \"fallecidos confirmados\": 10}, {\"index\": 0, \"Grupo de edad\": \"<=39\", \"fecha (a\\u00f1o-mes-d\\u00eda)\": \"2020-04-18\", \"fallecidos confirmados\": 4}, {\"index\": 1, \"Grupo de edad\": \"40-49\", \"fecha (a\\u00f1o-mes-d\\u00eda)\": \"2020-04-18\", \"fallecidos confirmados\": 2}, {\"index\": 2, \"Grupo de edad\": \"50-59\", \"fecha (a\\u00f1o-mes-d\\u00eda)\": \"2020-04-18\", \"fallecidos confirmados\": 8}, {\"index\": 3, \"Grupo de edad\": \"60-69\", \"fecha (a\\u00f1o-mes-d\\u00eda)\": \"2020-04-18\", \"fallecidos confirmados\": 17}, {\"index\": 4, \"Grupo de edad\": \"70-79\", \"fecha (a\\u00f1o-mes-d\\u00eda)\": \"2020-04-18\", \"fallecidos confirmados\": 39}, {\"index\": 5, \"Grupo de edad\": \"80-89\", \"fecha (a\\u00f1o-mes-d\\u00eda)\": \"2020-04-18\", \"fallecidos confirmados\": 44}, {\"index\": 6, \"Grupo de edad\": \">=90\", \"fecha (a\\u00f1o-mes-d\\u00eda)\": \"2020-04-18\", \"fallecidos confirmados\": 12}, {\"index\": 0, \"Grupo de edad\": \"<=39\", \"fecha (a\\u00f1o-mes-d\\u00eda)\": \"2020-04-19\", \"fallecidos confirmados\": 4}, {\"index\": 1, \"Grupo de edad\": \"40-49\", \"fecha (a\\u00f1o-mes-d\\u00eda)\": \"2020-04-19\", \"fallecidos confirmados\": 2}, {\"index\": 2, \"Grupo de edad\": \"50-59\", \"fecha (a\\u00f1o-mes-d\\u00eda)\": \"2020-04-19\", \"fallecidos confirmados\": 9}, {\"index\": 3, \"Grupo de edad\": \"60-69\", \"fecha (a\\u00f1o-mes-d\\u00eda)\": \"2020-04-19\", \"fallecidos confirmados\": 18}, {\"index\": 4, \"Grupo de edad\": \"70-79\", \"fecha (a\\u00f1o-mes-d\\u00eda)\": \"2020-04-19\", \"fallecidos confirmados\": 41}, {\"index\": 5, \"Grupo de edad\": \"80-89\", \"fecha (a\\u00f1o-mes-d\\u00eda)\": \"2020-04-19\", \"fallecidos confirmados\": 46}, {\"index\": 6, \"Grupo de edad\": \">=90\", \"fecha (a\\u00f1o-mes-d\\u00eda)\": \"2020-04-19\", \"fallecidos confirmados\": 13}, {\"index\": 0, \"Grupo de edad\": \"<=39\", \"fecha (a\\u00f1o-mes-d\\u00eda)\": \"2020-04-20\", \"fallecidos confirmados\": 4}, {\"index\": 1, \"Grupo de edad\": \"40-49\", \"fecha (a\\u00f1o-mes-d\\u00eda)\": \"2020-04-20\", \"fallecidos confirmados\": 2}, {\"index\": 2, \"Grupo de edad\": \"50-59\", \"fecha (a\\u00f1o-mes-d\\u00eda)\": \"2020-04-20\", \"fallecidos confirmados\": 11}, {\"index\": 3, \"Grupo de edad\": \"60-69\", \"fecha (a\\u00f1o-mes-d\\u00eda)\": \"2020-04-20\", \"fallecidos confirmados\": 19}, {\"index\": 4, \"Grupo de edad\": \"70-79\", \"fecha (a\\u00f1o-mes-d\\u00eda)\": \"2020-04-20\", \"fallecidos confirmados\": 42}, {\"index\": 5, \"Grupo de edad\": \"80-89\", \"fecha (a\\u00f1o-mes-d\\u00eda)\": \"2020-04-20\", \"fallecidos confirmados\": 47}, {\"index\": 6, \"Grupo de edad\": \">=90\", \"fecha (a\\u00f1o-mes-d\\u00eda)\": \"2020-04-20\", \"fallecidos confirmados\": 14}, {\"index\": 0, \"Grupo de edad\": \"<=39\", \"fecha (a\\u00f1o-mes-d\\u00eda)\": \"2020-04-21\", \"fallecidos confirmados\": 5}, {\"index\": 1, \"Grupo de edad\": \"40-49\", \"fecha (a\\u00f1o-mes-d\\u00eda)\": \"2020-04-21\", \"fallecidos confirmados\": 2}, {\"index\": 2, \"Grupo de edad\": \"50-59\", \"fecha (a\\u00f1o-mes-d\\u00eda)\": \"2020-04-21\", \"fallecidos confirmados\": 13}, {\"index\": 3, \"Grupo de edad\": \"60-69\", \"fecha (a\\u00f1o-mes-d\\u00eda)\": \"2020-04-21\", \"fallecidos confirmados\": 20}, {\"index\": 4, \"Grupo de edad\": \"70-79\", \"fecha (a\\u00f1o-mes-d\\u00eda)\": \"2020-04-21\", \"fallecidos confirmados\": 43}, {\"index\": 5, \"Grupo de edad\": \"80-89\", \"fecha (a\\u00f1o-mes-d\\u00eda)\": \"2020-04-21\", \"fallecidos confirmados\": 50}, {\"index\": 6, \"Grupo de edad\": \">=90\", \"fecha (a\\u00f1o-mes-d\\u00eda)\": \"2020-04-21\", \"fallecidos confirmados\": 14}, {\"index\": 0, \"Grupo de edad\": \"<=39\", \"fecha (a\\u00f1o-mes-d\\u00eda)\": \"2020-04-22\", \"fallecidos confirmados\": 5}, {\"index\": 1, \"Grupo de edad\": \"40-49\", \"fecha (a\\u00f1o-mes-d\\u00eda)\": \"2020-04-22\", \"fallecidos confirmados\": 2}, {\"index\": 2, \"Grupo de edad\": \"50-59\", \"fecha (a\\u00f1o-mes-d\\u00eda)\": \"2020-04-22\", \"fallecidos confirmados\": 14}, {\"index\": 3, \"Grupo de edad\": \"60-69\", \"fecha (a\\u00f1o-mes-d\\u00eda)\": \"2020-04-22\", \"fallecidos confirmados\": 26}, {\"index\": 4, \"Grupo de edad\": \"70-79\", \"fecha (a\\u00f1o-mes-d\\u00eda)\": \"2020-04-22\", \"fallecidos confirmados\": 47}, {\"index\": 5, \"Grupo de edad\": \"80-89\", \"fecha (a\\u00f1o-mes-d\\u00eda)\": \"2020-04-22\", \"fallecidos confirmados\": 51}, {\"index\": 6, \"Grupo de edad\": \">=90\", \"fecha (a\\u00f1o-mes-d\\u00eda)\": \"2020-04-22\", \"fallecidos confirmados\": 15}, {\"index\": 0, \"Grupo de edad\": \"<=39\", \"fecha (a\\u00f1o-mes-d\\u00eda)\": \"2020-04-23\", \"fallecidos confirmados\": 5}, {\"index\": 1, \"Grupo de edad\": \"40-49\", \"fecha (a\\u00f1o-mes-d\\u00eda)\": \"2020-04-23\", \"fallecidos confirmados\": 3}, {\"index\": 2, \"Grupo de edad\": \"50-59\", \"fecha (a\\u00f1o-mes-d\\u00eda)\": \"2020-04-23\", \"fallecidos confirmados\": 14}, {\"index\": 3, \"Grupo de edad\": \"60-69\", \"fecha (a\\u00f1o-mes-d\\u00eda)\": \"2020-04-23\", \"fallecidos confirmados\": 28}, {\"index\": 4, \"Grupo de edad\": \"70-79\", \"fecha (a\\u00f1o-mes-d\\u00eda)\": \"2020-04-23\", \"fallecidos confirmados\": 48}, {\"index\": 5, \"Grupo de edad\": \"80-89\", \"fecha (a\\u00f1o-mes-d\\u00eda)\": \"2020-04-23\", \"fallecidos confirmados\": 54}, {\"index\": 6, \"Grupo de edad\": \">=90\", \"fecha (a\\u00f1o-mes-d\\u00eda)\": \"2020-04-23\", \"fallecidos confirmados\": 16}, {\"index\": 0, \"Grupo de edad\": \"<=39\", \"fecha (a\\u00f1o-mes-d\\u00eda)\": \"2020-04-24\", \"fallecidos confirmados\": 5}, {\"index\": 1, \"Grupo de edad\": \"40-49\", \"fecha (a\\u00f1o-mes-d\\u00eda)\": \"2020-04-24\", \"fallecidos confirmados\": 4}, {\"index\": 2, \"Grupo de edad\": \"50-59\", \"fecha (a\\u00f1o-mes-d\\u00eda)\": \"2020-04-24\", \"fallecidos confirmados\": 14}, {\"index\": 3, \"Grupo de edad\": \"60-69\", \"fecha (a\\u00f1o-mes-d\\u00eda)\": \"2020-04-24\", \"fallecidos confirmados\": 30}, {\"index\": 4, \"Grupo de edad\": \"70-79\", \"fecha (a\\u00f1o-mes-d\\u00eda)\": \"2020-04-24\", \"fallecidos confirmados\": 49}, {\"index\": 5, \"Grupo de edad\": \"80-89\", \"fecha (a\\u00f1o-mes-d\\u00eda)\": \"2020-04-24\", \"fallecidos confirmados\": 56}, {\"index\": 6, \"Grupo de edad\": \">=90\", \"fecha (a\\u00f1o-mes-d\\u00eda)\": \"2020-04-24\", \"fallecidos confirmados\": 16}, {\"index\": 0, \"Grupo de edad\": \"<=39\", \"fecha (a\\u00f1o-mes-d\\u00eda)\": \"2020-04-25\", \"fallecidos confirmados\": 6}, {\"index\": 1, \"Grupo de edad\": \"40-49\", \"fecha (a\\u00f1o-mes-d\\u00eda)\": \"2020-04-25\", \"fallecidos confirmados\": 6}, {\"index\": 2, \"Grupo de edad\": \"50-59\", \"fecha (a\\u00f1o-mes-d\\u00eda)\": \"2020-04-25\", \"fallecidos confirmados\": 15}, {\"index\": 3, \"Grupo de edad\": \"60-69\", \"fecha (a\\u00f1o-mes-d\\u00eda)\": \"2020-04-25\", \"fallecidos confirmados\": 31}, {\"index\": 4, \"Grupo de edad\": \"70-79\", \"fecha (a\\u00f1o-mes-d\\u00eda)\": \"2020-04-25\", \"fallecidos confirmados\": 50}, {\"index\": 5, \"Grupo de edad\": \"80-89\", \"fecha (a\\u00f1o-mes-d\\u00eda)\": \"2020-04-25\", \"fallecidos confirmados\": 57}, {\"index\": 6, \"Grupo de edad\": \">=90\", \"fecha (a\\u00f1o-mes-d\\u00eda)\": \"2020-04-25\", \"fallecidos confirmados\": 16}, {\"index\": 0, \"Grupo de edad\": \"<=39\", \"fecha (a\\u00f1o-mes-d\\u00eda)\": \"2020-04-26\", \"fallecidos confirmados\": 6}, {\"index\": 1, \"Grupo de edad\": \"40-49\", \"fecha (a\\u00f1o-mes-d\\u00eda)\": \"2020-04-26\", \"fallecidos confirmados\": 7}, {\"index\": 2, \"Grupo de edad\": \"50-59\", \"fecha (a\\u00f1o-mes-d\\u00eda)\": \"2020-04-26\", \"fallecidos confirmados\": 15}, {\"index\": 3, \"Grupo de edad\": \"60-69\", \"fecha (a\\u00f1o-mes-d\\u00eda)\": \"2020-04-26\", \"fallecidos confirmados\": 33}, {\"index\": 4, \"Grupo de edad\": \"70-79\", \"fecha (a\\u00f1o-mes-d\\u00eda)\": \"2020-04-26\", \"fallecidos confirmados\": 52}, {\"index\": 5, \"Grupo de edad\": \"80-89\", \"fecha (a\\u00f1o-mes-d\\u00eda)\": \"2020-04-26\", \"fallecidos confirmados\": 59}, {\"index\": 6, \"Grupo de edad\": \">=90\", \"fecha (a\\u00f1o-mes-d\\u00eda)\": \"2020-04-26\", \"fallecidos confirmados\": 17}, {\"index\": 0, \"Grupo de edad\": \"<=39\", \"fecha (a\\u00f1o-mes-d\\u00eda)\": \"2020-04-27\", \"fallecidos confirmados\": 6}, {\"index\": 1, \"Grupo de edad\": \"40-49\", \"fecha (a\\u00f1o-mes-d\\u00eda)\": \"2020-04-27\", \"fallecidos confirmados\": 7}, {\"index\": 2, \"Grupo de edad\": \"50-59\", \"fecha (a\\u00f1o-mes-d\\u00eda)\": \"2020-04-27\", \"fallecidos confirmados\": 16}, {\"index\": 3, \"Grupo de edad\": \"60-69\", \"fecha (a\\u00f1o-mes-d\\u00eda)\": \"2020-04-27\", \"fallecidos confirmados\": 35}, {\"index\": 4, \"Grupo de edad\": \"70-79\", \"fecha (a\\u00f1o-mes-d\\u00eda)\": \"2020-04-27\", \"fallecidos confirmados\": 57}, {\"index\": 5, \"Grupo de edad\": \"80-89\", \"fecha (a\\u00f1o-mes-d\\u00eda)\": \"2020-04-27\", \"fallecidos confirmados\": 60}, {\"index\": 6, \"Grupo de edad\": \">=90\", \"fecha (a\\u00f1o-mes-d\\u00eda)\": \"2020-04-27\", \"fallecidos confirmados\": 17}, {\"index\": 0, \"Grupo de edad\": \"<=39\", \"fecha (a\\u00f1o-mes-d\\u00eda)\": \"2020-04-28\", \"fallecidos confirmados\": 6}, {\"index\": 1, \"Grupo de edad\": \"40-49\", \"fecha (a\\u00f1o-mes-d\\u00eda)\": \"2020-04-28\", \"fallecidos confirmados\": 8}, {\"index\": 2, \"Grupo de edad\": \"50-59\", \"fecha (a\\u00f1o-mes-d\\u00eda)\": \"2020-04-28\", \"fallecidos confirmados\": 16}, {\"index\": 3, \"Grupo de edad\": \"60-69\", \"fecha (a\\u00f1o-mes-d\\u00eda)\": \"2020-04-28\", \"fallecidos confirmados\": 35}, {\"index\": 4, \"Grupo de edad\": \"70-79\", \"fecha (a\\u00f1o-mes-d\\u00eda)\": \"2020-04-28\", \"fallecidos confirmados\": 60}, {\"index\": 5, \"Grupo de edad\": \"80-89\", \"fecha (a\\u00f1o-mes-d\\u00eda)\": \"2020-04-28\", \"fallecidos confirmados\": 62}, {\"index\": 6, \"Grupo de edad\": \">=90\", \"fecha (a\\u00f1o-mes-d\\u00eda)\": \"2020-04-28\", \"fallecidos confirmados\": 20}, {\"index\": 0, \"Grupo de edad\": \"<=39\", \"fecha (a\\u00f1o-mes-d\\u00eda)\": \"2020-04-29\", \"fallecidos confirmados\": 6}, {\"index\": 1, \"Grupo de edad\": \"40-49\", \"fecha (a\\u00f1o-mes-d\\u00eda)\": \"2020-04-29\", \"fallecidos confirmados\": 9}, {\"index\": 2, \"Grupo de edad\": \"50-59\", \"fecha (a\\u00f1o-mes-d\\u00eda)\": \"2020-04-29\", \"fallecidos confirmados\": 17}, {\"index\": 3, \"Grupo de edad\": \"60-69\", \"fecha (a\\u00f1o-mes-d\\u00eda)\": \"2020-04-29\", \"fallecidos confirmados\": 38}, {\"index\": 4, \"Grupo de edad\": \"70-79\", \"fecha (a\\u00f1o-mes-d\\u00eda)\": \"2020-04-29\", \"fallecidos confirmados\": 60}, {\"index\": 5, \"Grupo de edad\": \"80-89\", \"fecha (a\\u00f1o-mes-d\\u00eda)\": \"2020-04-29\", \"fallecidos confirmados\": 65}, {\"index\": 6, \"Grupo de edad\": \">=90\", \"fecha (a\\u00f1o-mes-d\\u00eda)\": \"2020-04-29\", \"fallecidos confirmados\": 21}, {\"index\": 0, \"Grupo de edad\": \"<=39\", \"fecha (a\\u00f1o-mes-d\\u00eda)\": \"2020-04-30\", \"fallecidos confirmados\": 6}, {\"index\": 1, \"Grupo de edad\": \"40-49\", \"fecha (a\\u00f1o-mes-d\\u00eda)\": \"2020-04-30\", \"fallecidos confirmados\": 10}, {\"index\": 2, \"Grupo de edad\": \"50-59\", \"fecha (a\\u00f1o-mes-d\\u00eda)\": \"2020-04-30\", \"fallecidos confirmados\": 17}, {\"index\": 3, \"Grupo de edad\": \"60-69\", \"fecha (a\\u00f1o-mes-d\\u00eda)\": \"2020-04-30\", \"fallecidos confirmados\": 40}, {\"index\": 4, \"Grupo de edad\": \"70-79\", \"fecha (a\\u00f1o-mes-d\\u00eda)\": \"2020-04-30\", \"fallecidos confirmados\": 65}, {\"index\": 5, \"Grupo de edad\": \"80-89\", \"fecha (a\\u00f1o-mes-d\\u00eda)\": \"2020-04-30\", \"fallecidos confirmados\": 68}, {\"index\": 6, \"Grupo de edad\": \">=90\", \"fecha (a\\u00f1o-mes-d\\u00eda)\": \"2020-04-30\", \"fallecidos confirmados\": 21}, {\"index\": 0, \"Grupo de edad\": \"<=39\", \"fecha (a\\u00f1o-mes-d\\u00eda)\": \"2020-05-01\", \"fallecidos confirmados\": 6}, {\"index\": 1, \"Grupo de edad\": \"40-49\", \"fecha (a\\u00f1o-mes-d\\u00eda)\": \"2020-05-01\", \"fallecidos confirmados\": 10}, {\"index\": 2, \"Grupo de edad\": \"50-59\", \"fecha (a\\u00f1o-mes-d\\u00eda)\": \"2020-05-01\", \"fallecidos confirmados\": 18}, {\"index\": 3, \"Grupo de edad\": \"60-69\", \"fecha (a\\u00f1o-mes-d\\u00eda)\": \"2020-05-01\", \"fallecidos confirmados\": 41}, {\"index\": 4, \"Grupo de edad\": \"70-79\", \"fecha (a\\u00f1o-mes-d\\u00eda)\": \"2020-05-01\", \"fallecidos confirmados\": 68}, {\"index\": 5, \"Grupo de edad\": \"80-89\", \"fecha (a\\u00f1o-mes-d\\u00eda)\": \"2020-05-01\", \"fallecidos confirmados\": 70}, {\"index\": 6, \"Grupo de edad\": \">=90\", \"fecha (a\\u00f1o-mes-d\\u00eda)\": \"2020-05-01\", \"fallecidos confirmados\": 21}, {\"index\": 0, \"Grupo de edad\": \"<=39\", \"fecha (a\\u00f1o-mes-d\\u00eda)\": \"2020-05-02\", \"fallecidos confirmados\": 6}, {\"index\": 1, \"Grupo de edad\": \"40-49\", \"fecha (a\\u00f1o-mes-d\\u00eda)\": \"2020-05-02\", \"fallecidos confirmados\": 11}, {\"index\": 2, \"Grupo de edad\": \"50-59\", \"fecha (a\\u00f1o-mes-d\\u00eda)\": \"2020-05-02\", \"fallecidos confirmados\": 18}, {\"index\": 3, \"Grupo de edad\": \"60-69\", \"fecha (a\\u00f1o-mes-d\\u00eda)\": \"2020-05-02\", \"fallecidos confirmados\": 43}, {\"index\": 4, \"Grupo de edad\": \"70-79\", \"fecha (a\\u00f1o-mes-d\\u00eda)\": \"2020-05-02\", \"fallecidos confirmados\": 72}, {\"index\": 5, \"Grupo de edad\": \"80-89\", \"fecha (a\\u00f1o-mes-d\\u00eda)\": \"2020-05-02\", \"fallecidos confirmados\": 75}, {\"index\": 6, \"Grupo de edad\": \">=90\", \"fecha (a\\u00f1o-mes-d\\u00eda)\": \"2020-05-02\", \"fallecidos confirmados\": 23}, {\"index\": 0, \"Grupo de edad\": \"<=39\", \"fecha (a\\u00f1o-mes-d\\u00eda)\": \"2020-05-03\", \"fallecidos confirmados\": 6}, {\"index\": 1, \"Grupo de edad\": \"40-49\", \"fecha (a\\u00f1o-mes-d\\u00eda)\": \"2020-05-03\", \"fallecidos confirmados\": 12}, {\"index\": 2, \"Grupo de edad\": \"50-59\", \"fecha (a\\u00f1o-mes-d\\u00eda)\": \"2020-05-03\", \"fallecidos confirmados\": 18}, {\"index\": 3, \"Grupo de edad\": \"60-69\", \"fecha (a\\u00f1o-mes-d\\u00eda)\": \"2020-05-03\", \"fallecidos confirmados\": 45}, {\"index\": 4, \"Grupo de edad\": \"70-79\", \"fecha (a\\u00f1o-mes-d\\u00eda)\": \"2020-05-03\", \"fallecidos confirmados\": 73}, {\"index\": 5, \"Grupo de edad\": \"80-89\", \"fecha (a\\u00f1o-mes-d\\u00eda)\": \"2020-05-03\", \"fallecidos confirmados\": 80}, {\"index\": 6, \"Grupo de edad\": \">=90\", \"fecha (a\\u00f1o-mes-d\\u00eda)\": \"2020-05-03\", \"fallecidos confirmados\": 26}, {\"index\": 0, \"Grupo de edad\": \"<=39\", \"fecha (a\\u00f1o-mes-d\\u00eda)\": \"2020-05-04\", \"fallecidos confirmados\": 6}, {\"index\": 1, \"Grupo de edad\": \"40-49\", \"fecha (a\\u00f1o-mes-d\\u00eda)\": \"2020-05-04\", \"fallecidos confirmados\": 12}, {\"index\": 2, \"Grupo de edad\": \"50-59\", \"fecha (a\\u00f1o-mes-d\\u00eda)\": \"2020-05-04\", \"fallecidos confirmados\": 20}, {\"index\": 3, \"Grupo de edad\": \"60-69\", \"fecha (a\\u00f1o-mes-d\\u00eda)\": \"2020-05-04\", \"fallecidos confirmados\": 46}, {\"index\": 4, \"Grupo de edad\": \"70-79\", \"fecha (a\\u00f1o-mes-d\\u00eda)\": \"2020-05-04\", \"fallecidos confirmados\": 76}, {\"index\": 5, \"Grupo de edad\": \"80-89\", \"fecha (a\\u00f1o-mes-d\\u00eda)\": \"2020-05-04\", \"fallecidos confirmados\": 83}, {\"index\": 6, \"Grupo de edad\": \">=90\", \"fecha (a\\u00f1o-mes-d\\u00eda)\": \"2020-05-04\", \"fallecidos confirmados\": 27}, {\"index\": 0, \"Grupo de edad\": \"<=39\", \"fecha (a\\u00f1o-mes-d\\u00eda)\": \"2020-05-05\", \"fallecidos confirmados\": 6}, {\"index\": 1, \"Grupo de edad\": \"40-49\", \"fecha (a\\u00f1o-mes-d\\u00eda)\": \"2020-05-05\", \"fallecidos confirmados\": 13}, {\"index\": 2, \"Grupo de edad\": \"50-59\", \"fecha (a\\u00f1o-mes-d\\u00eda)\": \"2020-05-05\", \"fallecidos confirmados\": 20}, {\"index\": 3, \"Grupo de edad\": \"60-69\", \"fecha (a\\u00f1o-mes-d\\u00eda)\": \"2020-05-05\", \"fallecidos confirmados\": 46}, {\"index\": 4, \"Grupo de edad\": \"70-79\", \"fecha (a\\u00f1o-mes-d\\u00eda)\": \"2020-05-05\", \"fallecidos confirmados\": 76}, {\"index\": 5, \"Grupo de edad\": \"80-89\", \"fecha (a\\u00f1o-mes-d\\u00eda)\": \"2020-05-05\", \"fallecidos confirmados\": 85}, {\"index\": 6, \"Grupo de edad\": \">=90\", \"fecha (a\\u00f1o-mes-d\\u00eda)\": \"2020-05-05\", \"fallecidos confirmados\": 29}, {\"index\": 0, \"Grupo de edad\": \"<=39\", \"fecha (a\\u00f1o-mes-d\\u00eda)\": \"2020-05-06\", \"fallecidos confirmados\": 6}, {\"index\": 1, \"Grupo de edad\": \"40-49\", \"fecha (a\\u00f1o-mes-d\\u00eda)\": \"2020-05-06\", \"fallecidos confirmados\": 13}, {\"index\": 2, \"Grupo de edad\": \"50-59\", \"fecha (a\\u00f1o-mes-d\\u00eda)\": \"2020-05-06\", \"fallecidos confirmados\": 20}, {\"index\": 3, \"Grupo de edad\": \"60-69\", \"fecha (a\\u00f1o-mes-d\\u00eda)\": \"2020-05-06\", \"fallecidos confirmados\": 47}, {\"index\": 4, \"Grupo de edad\": \"70-79\", \"fecha (a\\u00f1o-mes-d\\u00eda)\": \"2020-05-06\", \"fallecidos confirmados\": 76}, {\"index\": 5, \"Grupo de edad\": \"80-89\", \"fecha (a\\u00f1o-mes-d\\u00eda)\": \"2020-05-06\", \"fallecidos confirmados\": 89}, {\"index\": 6, \"Grupo de edad\": \">=90\", \"fecha (a\\u00f1o-mes-d\\u00eda)\": \"2020-05-06\", \"fallecidos confirmados\": 30}, {\"index\": 0, \"Grupo de edad\": \"<=39\", \"fecha (a\\u00f1o-mes-d\\u00eda)\": \"2020-05-07\", \"fallecidos confirmados\": 6}, {\"index\": 1, \"Grupo de edad\": \"40-49\", \"fecha (a\\u00f1o-mes-d\\u00eda)\": \"2020-05-07\", \"fallecidos confirmados\": 13}, {\"index\": 2, \"Grupo de edad\": \"50-59\", \"fecha (a\\u00f1o-mes-d\\u00eda)\": \"2020-05-07\", \"fallecidos confirmados\": 21}, {\"index\": 3, \"Grupo de edad\": \"60-69\", \"fecha (a\\u00f1o-mes-d\\u00eda)\": \"2020-05-07\", \"fallecidos confirmados\": 47}, {\"index\": 4, \"Grupo de edad\": \"70-79\", \"fecha (a\\u00f1o-mes-d\\u00eda)\": \"2020-05-07\", \"fallecidos confirmados\": 76}, {\"index\": 5, \"Grupo de edad\": \"80-89\", \"fecha (a\\u00f1o-mes-d\\u00eda)\": \"2020-05-07\", \"fallecidos confirmados\": 92}, {\"index\": 6, \"Grupo de edad\": \">=90\", \"fecha (a\\u00f1o-mes-d\\u00eda)\": \"2020-05-07\", \"fallecidos confirmados\": 30}, {\"index\": 0, \"Grupo de edad\": \"<=39\", \"fecha (a\\u00f1o-mes-d\\u00eda)\": \"2020-05-08\", \"fallecidos confirmados\": 7}, {\"index\": 1, \"Grupo de edad\": \"40-49\", \"fecha (a\\u00f1o-mes-d\\u00eda)\": \"2020-05-08\", \"fallecidos confirmados\": 14}, {\"index\": 2, \"Grupo de edad\": \"50-59\", \"fecha (a\\u00f1o-mes-d\\u00eda)\": \"2020-05-08\", \"fallecidos confirmados\": 21}, {\"index\": 3, \"Grupo de edad\": \"60-69\", \"fecha (a\\u00f1o-mes-d\\u00eda)\": \"2020-05-08\", \"fallecidos confirmados\": 49}, {\"index\": 4, \"Grupo de edad\": \"70-79\", \"fecha (a\\u00f1o-mes-d\\u00eda)\": \"2020-05-08\", \"fallecidos confirmados\": 80}, {\"index\": 5, \"Grupo de edad\": \"80-89\", \"fecha (a\\u00f1o-mes-d\\u00eda)\": \"2020-05-08\", \"fallecidos confirmados\": 93}, {\"index\": 6, \"Grupo de edad\": \">=90\", \"fecha (a\\u00f1o-mes-d\\u00eda)\": \"2020-05-08\", \"fallecidos confirmados\": 30}, {\"index\": 0, \"Grupo de edad\": \"<=39\", \"fecha (a\\u00f1o-mes-d\\u00eda)\": \"2020-05-09\", \"fallecidos confirmados\": 7}, {\"index\": 1, \"Grupo de edad\": \"40-49\", \"fecha (a\\u00f1o-mes-d\\u00eda)\": \"2020-05-09\", \"fallecidos confirmados\": 15}, {\"index\": 2, \"Grupo de edad\": \"50-59\", \"fecha (a\\u00f1o-mes-d\\u00eda)\": \"2020-05-09\", \"fallecidos confirmados\": 22}, {\"index\": 3, \"Grupo de edad\": \"60-69\", \"fecha (a\\u00f1o-mes-d\\u00eda)\": \"2020-05-09\", \"fallecidos confirmados\": 52}, {\"index\": 4, \"Grupo de edad\": \"70-79\", \"fecha (a\\u00f1o-mes-d\\u00eda)\": \"2020-05-09\", \"fallecidos confirmados\": 82}, {\"index\": 5, \"Grupo de edad\": \"80-89\", \"fecha (a\\u00f1o-mes-d\\u00eda)\": \"2020-05-09\", \"fallecidos confirmados\": 93}, {\"index\": 6, \"Grupo de edad\": \">=90\", \"fecha (a\\u00f1o-mes-d\\u00eda)\": \"2020-05-09\", \"fallecidos confirmados\": 33}, {\"index\": 0, \"Grupo de edad\": \"<=39\", \"fecha (a\\u00f1o-mes-d\\u00eda)\": \"2020-05-10\", \"fallecidos confirmados\": 7}, {\"index\": 1, \"Grupo de edad\": \"40-49\", \"fecha (a\\u00f1o-mes-d\\u00eda)\": \"2020-05-10\", \"fallecidos confirmados\": 16}, {\"index\": 2, \"Grupo de edad\": \"50-59\", \"fecha (a\\u00f1o-mes-d\\u00eda)\": \"2020-05-10\", \"fallecidos confirmados\": 22}, {\"index\": 3, \"Grupo de edad\": \"60-69\", \"fecha (a\\u00f1o-mes-d\\u00eda)\": \"2020-05-10\", \"fallecidos confirmados\": 54}, {\"index\": 4, \"Grupo de edad\": \"70-79\", \"fecha (a\\u00f1o-mes-d\\u00eda)\": \"2020-05-10\", \"fallecidos confirmados\": 84}, {\"index\": 5, \"Grupo de edad\": \"80-89\", \"fecha (a\\u00f1o-mes-d\\u00eda)\": \"2020-05-10\", \"fallecidos confirmados\": 95}, {\"index\": 6, \"Grupo de edad\": \">=90\", \"fecha (a\\u00f1o-mes-d\\u00eda)\": \"2020-05-10\", \"fallecidos confirmados\": 34}, {\"index\": 0, \"Grupo de edad\": \"<=39\", \"fecha (a\\u00f1o-mes-d\\u00eda)\": \"2020-05-11\", \"fallecidos confirmados\": 7}, {\"index\": 1, \"Grupo de edad\": \"40-49\", \"fecha (a\\u00f1o-mes-d\\u00eda)\": \"2020-05-11\", \"fallecidos confirmados\": 16}, {\"index\": 2, \"Grupo de edad\": \"50-59\", \"fecha (a\\u00f1o-mes-d\\u00eda)\": \"2020-05-11\", \"fallecidos confirmados\": 23}, {\"index\": 3, \"Grupo de edad\": \"60-69\", \"fecha (a\\u00f1o-mes-d\\u00eda)\": \"2020-05-11\", \"fallecidos confirmados\": 56}, {\"index\": 4, \"Grupo de edad\": \"70-79\", \"fecha (a\\u00f1o-mes-d\\u00eda)\": \"2020-05-11\", \"fallecidos confirmados\": 89}, {\"index\": 5, \"Grupo de edad\": \"80-89\", \"fecha (a\\u00f1o-mes-d\\u00eda)\": \"2020-05-11\", \"fallecidos confirmados\": 96}, {\"index\": 6, \"Grupo de edad\": \">=90\", \"fecha (a\\u00f1o-mes-d\\u00eda)\": \"2020-05-11\", \"fallecidos confirmados\": 36}, {\"index\": 0, \"Grupo de edad\": \"<=39\", \"fecha (a\\u00f1o-mes-d\\u00eda)\": \"2020-05-12\", \"fallecidos confirmados\": 8}, {\"index\": 1, \"Grupo de edad\": \"40-49\", \"fecha (a\\u00f1o-mes-d\\u00eda)\": \"2020-05-12\", \"fallecidos confirmados\": 18}, {\"index\": 2, \"Grupo de edad\": \"50-59\", \"fecha (a\\u00f1o-mes-d\\u00eda)\": \"2020-05-12\", \"fallecidos confirmados\": 24}, {\"index\": 3, \"Grupo de edad\": \"60-69\", \"fecha (a\\u00f1o-mes-d\\u00eda)\": \"2020-05-12\", \"fallecidos confirmados\": 56}, {\"index\": 4, \"Grupo de edad\": \"70-79\", \"fecha (a\\u00f1o-mes-d\\u00eda)\": \"2020-05-12\", \"fallecidos confirmados\": 92}, {\"index\": 5, \"Grupo de edad\": \"80-89\", \"fecha (a\\u00f1o-mes-d\\u00eda)\": \"2020-05-12\", \"fallecidos confirmados\": 99}, {\"index\": 6, \"Grupo de edad\": \">=90\", \"fecha (a\\u00f1o-mes-d\\u00eda)\": \"2020-05-12\", \"fallecidos confirmados\": 38}, {\"index\": 0, \"Grupo de edad\": \"<=39\", \"fecha (a\\u00f1o-mes-d\\u00eda)\": \"2020-05-13\", \"fallecidos confirmados\": 8}, {\"index\": 1, \"Grupo de edad\": \"40-49\", \"fecha (a\\u00f1o-mes-d\\u00eda)\": \"2020-05-13\", \"fallecidos confirmados\": 19}, {\"index\": 2, \"Grupo de edad\": \"50-59\", \"fecha (a\\u00f1o-mes-d\\u00eda)\": \"2020-05-13\", \"fallecidos confirmados\": 27}, {\"index\": 3, \"Grupo de edad\": \"60-69\", \"fecha (a\\u00f1o-mes-d\\u00eda)\": \"2020-05-13\", \"fallecidos confirmados\": 58}, {\"index\": 4, \"Grupo de edad\": \"70-79\", \"fecha (a\\u00f1o-mes-d\\u00eda)\": \"2020-05-13\", \"fallecidos confirmados\": 94}, {\"index\": 5, \"Grupo de edad\": \"80-89\", \"fecha (a\\u00f1o-mes-d\\u00eda)\": \"2020-05-13\", \"fallecidos confirmados\": 102}, {\"index\": 6, \"Grupo de edad\": \">=90\", \"fecha (a\\u00f1o-mes-d\\u00eda)\": \"2020-05-13\", \"fallecidos confirmados\": 38}, {\"index\": 0, \"Grupo de edad\": \"<=39\", \"fecha (a\\u00f1o-mes-d\\u00eda)\": \"2020-05-14\", \"fallecidos confirmados\": 9}, {\"index\": 1, \"Grupo de edad\": \"40-49\", \"fecha (a\\u00f1o-mes-d\\u00eda)\": \"2020-05-14\", \"fallecidos confirmados\": 22}, {\"index\": 2, \"Grupo de edad\": \"50-59\", \"fecha (a\\u00f1o-mes-d\\u00eda)\": \"2020-05-14\", \"fallecidos confirmados\": 27}, {\"index\": 3, \"Grupo de edad\": \"60-69\", \"fecha (a\\u00f1o-mes-d\\u00eda)\": \"2020-05-14\", \"fallecidos confirmados\": 63}, {\"index\": 4, \"Grupo de edad\": \"70-79\", \"fecha (a\\u00f1o-mes-d\\u00eda)\": \"2020-05-14\", \"fallecidos confirmados\": 102}, {\"index\": 5, \"Grupo de edad\": \"80-89\", \"fecha (a\\u00f1o-mes-d\\u00eda)\": \"2020-05-14\", \"fallecidos confirmados\": 107}, {\"index\": 6, \"Grupo de edad\": \">=90\", \"fecha (a\\u00f1o-mes-d\\u00eda)\": \"2020-05-14\", \"fallecidos confirmados\": 38}, {\"index\": 0, \"Grupo de edad\": \"<=39\", \"fecha (a\\u00f1o-mes-d\\u00eda)\": \"2020-05-15\", \"fallecidos confirmados\": 10}, {\"index\": 1, \"Grupo de edad\": \"40-49\", \"fecha (a\\u00f1o-mes-d\\u00eda)\": \"2020-05-15\", \"fallecidos confirmados\": 22}, {\"index\": 2, \"Grupo de edad\": \"50-59\", \"fecha (a\\u00f1o-mes-d\\u00eda)\": \"2020-05-15\", \"fallecidos confirmados\": 31}, {\"index\": 3, \"Grupo de edad\": \"60-69\", \"fecha (a\\u00f1o-mes-d\\u00eda)\": \"2020-05-15\", \"fallecidos confirmados\": 65}, {\"index\": 4, \"Grupo de edad\": \"70-79\", \"fecha (a\\u00f1o-mes-d\\u00eda)\": \"2020-05-15\", \"fallecidos confirmados\": 110}, {\"index\": 5, \"Grupo de edad\": \"80-89\", \"fecha (a\\u00f1o-mes-d\\u00eda)\": \"2020-05-15\", \"fallecidos confirmados\": 117}, {\"index\": 6, \"Grupo de edad\": \">=90\", \"fecha (a\\u00f1o-mes-d\\u00eda)\": \"2020-05-15\", \"fallecidos confirmados\": 39}, {\"index\": 0, \"Grupo de edad\": \"<=39\", \"fecha (a\\u00f1o-mes-d\\u00eda)\": \"2020-05-16\", \"fallecidos confirmados\": 10}, {\"index\": 1, \"Grupo de edad\": \"40-49\", \"fecha (a\\u00f1o-mes-d\\u00eda)\": \"2020-05-16\", \"fallecidos confirmados\": 24}, {\"index\": 2, \"Grupo de edad\": \"50-59\", \"fecha (a\\u00f1o-mes-d\\u00eda)\": \"2020-05-16\", \"fallecidos confirmados\": 32}, {\"index\": 3, \"Grupo de edad\": \"60-69\", \"fecha (a\\u00f1o-mes-d\\u00eda)\": \"2020-05-16\", \"fallecidos confirmados\": 73}, {\"index\": 4, \"Grupo de edad\": \"70-79\", \"fecha (a\\u00f1o-mes-d\\u00eda)\": \"2020-05-16\", \"fallecidos confirmados\": 118}, {\"index\": 5, \"Grupo de edad\": \"80-89\", \"fecha (a\\u00f1o-mes-d\\u00eda)\": \"2020-05-16\", \"fallecidos confirmados\": 123}, {\"index\": 6, \"Grupo de edad\": \">=90\", \"fecha (a\\u00f1o-mes-d\\u00eda)\": \"2020-05-16\", \"fallecidos confirmados\": 41}, {\"index\": 0, \"Grupo de edad\": \"<=39\", \"fecha (a\\u00f1o-mes-d\\u00eda)\": \"2020-05-17\", \"fallecidos confirmados\": 10}, {\"index\": 1, \"Grupo de edad\": \"40-49\", \"fecha (a\\u00f1o-mes-d\\u00eda)\": \"2020-05-17\", \"fallecidos confirmados\": 25}, {\"index\": 2, \"Grupo de edad\": \"50-59\", \"fecha (a\\u00f1o-mes-d\\u00eda)\": \"2020-05-17\", \"fallecidos confirmados\": 35}, {\"index\": 3, \"Grupo de edad\": \"60-69\", \"fecha (a\\u00f1o-mes-d\\u00eda)\": \"2020-05-17\", \"fallecidos confirmados\": 78}, {\"index\": 4, \"Grupo de edad\": \"70-79\", \"fecha (a\\u00f1o-mes-d\\u00eda)\": \"2020-05-17\", \"fallecidos confirmados\": 126}, {\"index\": 5, \"Grupo de edad\": \"80-89\", \"fecha (a\\u00f1o-mes-d\\u00eda)\": \"2020-05-17\", \"fallecidos confirmados\": 132}, {\"index\": 6, \"Grupo de edad\": \">=90\", \"fecha (a\\u00f1o-mes-d\\u00eda)\": \"2020-05-17\", \"fallecidos confirmados\": 44}, {\"index\": 0, \"Grupo de edad\": \"<=39\", \"fecha (a\\u00f1o-mes-d\\u00eda)\": \"2020-05-18\", \"fallecidos confirmados\": 10}, {\"index\": 1, \"Grupo de edad\": \"40-49\", \"fecha (a\\u00f1o-mes-d\\u00eda)\": \"2020-05-18\", \"fallecidos confirmados\": 28}, {\"index\": 2, \"Grupo de edad\": \"50-59\", \"fecha (a\\u00f1o-mes-d\\u00eda)\": \"2020-05-18\", \"fallecidos confirmados\": 40}, {\"index\": 3, \"Grupo de edad\": \"60-69\", \"fecha (a\\u00f1o-mes-d\\u00eda)\": \"2020-05-18\", \"fallecidos confirmados\": 82}, {\"index\": 4, \"Grupo de edad\": \"70-79\", \"fecha (a\\u00f1o-mes-d\\u00eda)\": \"2020-05-18\", \"fallecidos confirmados\": 133}, {\"index\": 5, \"Grupo de edad\": \"80-89\", \"fecha (a\\u00f1o-mes-d\\u00eda)\": \"2020-05-18\", \"fallecidos confirmados\": 136}, {\"index\": 6, \"Grupo de edad\": \">=90\", \"fecha (a\\u00f1o-mes-d\\u00eda)\": \"2020-05-18\", \"fallecidos confirmados\": 49}, {\"index\": 0, \"Grupo de edad\": \"<=39\", \"fecha (a\\u00f1o-mes-d\\u00eda)\": \"2020-05-19\", \"fallecidos confirmados\": 11}, {\"index\": 1, \"Grupo de edad\": \"40-49\", \"fecha (a\\u00f1o-mes-d\\u00eda)\": \"2020-05-19\", \"fallecidos confirmados\": 30}, {\"index\": 2, \"Grupo de edad\": \"50-59\", \"fecha (a\\u00f1o-mes-d\\u00eda)\": \"2020-05-19\", \"fallecidos confirmados\": 47}, {\"index\": 3, \"Grupo de edad\": \"60-69\", \"fecha (a\\u00f1o-mes-d\\u00eda)\": \"2020-05-19\", \"fallecidos confirmados\": 83}, {\"index\": 4, \"Grupo de edad\": \"70-79\", \"fecha (a\\u00f1o-mes-d\\u00eda)\": \"2020-05-19\", \"fallecidos confirmados\": 141}, {\"index\": 5, \"Grupo de edad\": \"80-89\", \"fecha (a\\u00f1o-mes-d\\u00eda)\": \"2020-05-19\", \"fallecidos confirmados\": 145}, {\"index\": 6, \"Grupo de edad\": \">=90\", \"fecha (a\\u00f1o-mes-d\\u00eda)\": \"2020-05-19\", \"fallecidos confirmados\": 52}, {\"index\": 0, \"Grupo de edad\": \"<=39\", \"fecha (a\\u00f1o-mes-d\\u00eda)\": \"2020-05-20\", \"fallecidos confirmados\": 11}, {\"index\": 1, \"Grupo de edad\": \"40-49\", \"fecha (a\\u00f1o-mes-d\\u00eda)\": \"2020-05-20\", \"fallecidos confirmados\": 31}, {\"index\": 2, \"Grupo de edad\": \"50-59\", \"fecha (a\\u00f1o-mes-d\\u00eda)\": \"2020-05-20\", \"fallecidos confirmados\": 51}, {\"index\": 3, \"Grupo de edad\": \"60-69\", \"fecha (a\\u00f1o-mes-d\\u00eda)\": \"2020-05-20\", \"fallecidos confirmados\": 92}, {\"index\": 4, \"Grupo de edad\": \"70-79\", \"fecha (a\\u00f1o-mes-d\\u00eda)\": \"2020-05-20\", \"fallecidos confirmados\": 152}, {\"index\": 5, \"Grupo de edad\": \"80-89\", \"fecha (a\\u00f1o-mes-d\\u00eda)\": \"2020-05-20\", \"fallecidos confirmados\": 152}, {\"index\": 6, \"Grupo de edad\": \">=90\", \"fecha (a\\u00f1o-mes-d\\u00eda)\": \"2020-05-20\", \"fallecidos confirmados\": 55}, {\"index\": 0, \"Grupo de edad\": \"<=39\", \"fecha (a\\u00f1o-mes-d\\u00eda)\": \"2020-05-21\", \"fallecidos confirmados\": 12}, {\"index\": 1, \"Grupo de edad\": \"40-49\", \"fecha (a\\u00f1o-mes-d\\u00eda)\": \"2020-05-21\", \"fallecidos confirmados\": 32}, {\"index\": 2, \"Grupo de edad\": \"50-59\", \"fecha (a\\u00f1o-mes-d\\u00eda)\": \"2020-05-21\", \"fallecidos confirmados\": 57}, {\"index\": 3, \"Grupo de edad\": \"60-69\", \"fecha (a\\u00f1o-mes-d\\u00eda)\": \"2020-05-21\", \"fallecidos confirmados\": 99}, {\"index\": 4, \"Grupo de edad\": \"70-79\", \"fecha (a\\u00f1o-mes-d\\u00eda)\": \"2020-05-21\", \"fallecidos confirmados\": 173}, {\"index\": 5, \"Grupo de edad\": \"80-89\", \"fecha (a\\u00f1o-mes-d\\u00eda)\": \"2020-05-21\", \"fallecidos confirmados\": 159}, {\"index\": 6, \"Grupo de edad\": \">=90\", \"fecha (a\\u00f1o-mes-d\\u00eda)\": \"2020-05-21\", \"fallecidos confirmados\": 57}, {\"index\": 0, \"Grupo de edad\": \"<=39\", \"fecha (a\\u00f1o-mes-d\\u00eda)\": \"2020-05-22\", \"fallecidos confirmados\": 13}, {\"index\": 1, \"Grupo de edad\": \"40-49\", \"fecha (a\\u00f1o-mes-d\\u00eda)\": \"2020-05-22\", \"fallecidos confirmados\": 33}, {\"index\": 2, \"Grupo de edad\": \"50-59\", \"fecha (a\\u00f1o-mes-d\\u00eda)\": \"2020-05-22\", \"fallecidos confirmados\": 58}, {\"index\": 3, \"Grupo de edad\": \"60-69\", \"fecha (a\\u00f1o-mes-d\\u00eda)\": \"2020-05-22\", \"fallecidos confirmados\": 106}, {\"index\": 4, \"Grupo de edad\": \"70-79\", \"fecha (a\\u00f1o-mes-d\\u00eda)\": \"2020-05-22\", \"fallecidos confirmados\": 183}, {\"index\": 5, \"Grupo de edad\": \"80-89\", \"fecha (a\\u00f1o-mes-d\\u00eda)\": \"2020-05-22\", \"fallecidos confirmados\": 178}, {\"index\": 6, \"Grupo de edad\": \">=90\", \"fecha (a\\u00f1o-mes-d\\u00eda)\": \"2020-05-22\", \"fallecidos confirmados\": 59}, {\"index\": 0, \"Grupo de edad\": \"<=39\", \"fecha (a\\u00f1o-mes-d\\u00eda)\": \"2020-05-23\", \"fallecidos confirmados\": 14}, {\"index\": 1, \"Grupo de edad\": \"40-49\", \"fecha (a\\u00f1o-mes-d\\u00eda)\": \"2020-05-23\", \"fallecidos confirmados\": 35}, {\"index\": 2, \"Grupo de edad\": \"50-59\", \"fecha (a\\u00f1o-mes-d\\u00eda)\": \"2020-05-23\", \"fallecidos confirmados\": 64}, {\"index\": 3, \"Grupo de edad\": \"60-69\", \"fecha (a\\u00f1o-mes-d\\u00eda)\": \"2020-05-23\", \"fallecidos confirmados\": 112}, {\"index\": 4, \"Grupo de edad\": \"70-79\", \"fecha (a\\u00f1o-mes-d\\u00eda)\": \"2020-05-23\", \"fallecidos confirmados\": 193}, {\"index\": 5, \"Grupo de edad\": \"80-89\", \"fecha (a\\u00f1o-mes-d\\u00eda)\": \"2020-05-23\", \"fallecidos confirmados\": 193}, {\"index\": 6, \"Grupo de edad\": \">=90\", \"fecha (a\\u00f1o-mes-d\\u00eda)\": \"2020-05-23\", \"fallecidos confirmados\": 62}, {\"index\": 0, \"Grupo de edad\": \"<=39\", \"fecha (a\\u00f1o-mes-d\\u00eda)\": \"2020-05-24\", \"fallecidos confirmados\": 16}, {\"index\": 1, \"Grupo de edad\": \"40-49\", \"fecha (a\\u00f1o-mes-d\\u00eda)\": \"2020-05-24\", \"fallecidos confirmados\": 38}, {\"index\": 2, \"Grupo de edad\": \"50-59\", \"fecha (a\\u00f1o-mes-d\\u00eda)\": \"2020-05-24\", \"fallecidos confirmados\": 67}, {\"index\": 3, \"Grupo de edad\": \"60-69\", \"fecha (a\\u00f1o-mes-d\\u00eda)\": \"2020-05-24\", \"fallecidos confirmados\": 121}, {\"index\": 4, \"Grupo de edad\": \"70-79\", \"fecha (a\\u00f1o-mes-d\\u00eda)\": \"2020-05-24\", \"fallecidos confirmados\": 210}, {\"index\": 5, \"Grupo de edad\": \"80-89\", \"fecha (a\\u00f1o-mes-d\\u00eda)\": \"2020-05-24\", \"fallecidos confirmados\": 200}, {\"index\": 6, \"Grupo de edad\": \">=90\", \"fecha (a\\u00f1o-mes-d\\u00eda)\": \"2020-05-24\", \"fallecidos confirmados\": 66}, {\"index\": 0, \"Grupo de edad\": \"<=39\", \"fecha (a\\u00f1o-mes-d\\u00eda)\": \"2020-05-25\", \"fallecidos confirmados\": 16}, {\"index\": 1, \"Grupo de edad\": \"40-49\", \"fecha (a\\u00f1o-mes-d\\u00eda)\": \"2020-05-25\", \"fallecidos confirmados\": 41}, {\"index\": 2, \"Grupo de edad\": \"50-59\", \"fecha (a\\u00f1o-mes-d\\u00eda)\": \"2020-05-25\", \"fallecidos confirmados\": 69}, {\"index\": 3, \"Grupo de edad\": \"60-69\", \"fecha (a\\u00f1o-mes-d\\u00eda)\": \"2020-05-25\", \"fallecidos confirmados\": 128}, {\"index\": 4, \"Grupo de edad\": \"70-79\", \"fecha (a\\u00f1o-mes-d\\u00eda)\": \"2020-05-25\", \"fallecidos confirmados\": 225}, {\"index\": 5, \"Grupo de edad\": \"80-89\", \"fecha (a\\u00f1o-mes-d\\u00eda)\": \"2020-05-25\", \"fallecidos confirmados\": 208}, {\"index\": 6, \"Grupo de edad\": \">=90\", \"fecha (a\\u00f1o-mes-d\\u00eda)\": \"2020-05-25\", \"fallecidos confirmados\": 74}, {\"index\": 0, \"Grupo de edad\": \"<=39\", \"fecha (a\\u00f1o-mes-d\\u00eda)\": \"2020-05-26\", \"fallecidos confirmados\": 16}, {\"index\": 1, \"Grupo de edad\": \"40-49\", \"fecha (a\\u00f1o-mes-d\\u00eda)\": \"2020-05-26\", \"fallecidos confirmados\": 42}, {\"index\": 2, \"Grupo de edad\": \"50-59\", \"fecha (a\\u00f1o-mes-d\\u00eda)\": \"2020-05-26\", \"fallecidos confirmados\": 76}, {\"index\": 3, \"Grupo de edad\": \"60-69\", \"fecha (a\\u00f1o-mes-d\\u00eda)\": \"2020-05-26\", \"fallecidos confirmados\": 137}, {\"index\": 4, \"Grupo de edad\": \"70-79\", \"fecha (a\\u00f1o-mes-d\\u00eda)\": \"2020-05-26\", \"fallecidos confirmados\": 239}, {\"index\": 5, \"Grupo de edad\": \"80-89\", \"fecha (a\\u00f1o-mes-d\\u00eda)\": \"2020-05-26\", \"fallecidos confirmados\": 218}, {\"index\": 6, \"Grupo de edad\": \">=90\", \"fecha (a\\u00f1o-mes-d\\u00eda)\": \"2020-05-26\", \"fallecidos confirmados\": 78}, {\"index\": 0, \"Grupo de edad\": \"<=39\", \"fecha (a\\u00f1o-mes-d\\u00eda)\": \"2020-05-27\", \"fallecidos confirmados\": 16}, {\"index\": 1, \"Grupo de edad\": \"40-49\", \"fecha (a\\u00f1o-mes-d\\u00eda)\": \"2020-05-27\", \"fallecidos confirmados\": 43}, {\"index\": 2, \"Grupo de edad\": \"50-59\", \"fecha (a\\u00f1o-mes-d\\u00eda)\": \"2020-05-27\", \"fallecidos confirmados\": 81}, {\"index\": 3, \"Grupo de edad\": \"60-69\", \"fecha (a\\u00f1o-mes-d\\u00eda)\": \"2020-05-27\", \"fallecidos confirmados\": 150}, {\"index\": 4, \"Grupo de edad\": \"70-79\", \"fecha (a\\u00f1o-mes-d\\u00eda)\": \"2020-05-27\", \"fallecidos confirmados\": 250}, {\"index\": 5, \"Grupo de edad\": \"80-89\", \"fecha (a\\u00f1o-mes-d\\u00eda)\": \"2020-05-27\", \"fallecidos confirmados\": 218}, {\"index\": 6, \"Grupo de edad\": \">=90\", \"fecha (a\\u00f1o-mes-d\\u00eda)\": \"2020-05-27\", \"fallecidos confirmados\": 83}, {\"index\": 0, \"Grupo de edad\": \"<=39\", \"fecha (a\\u00f1o-mes-d\\u00eda)\": \"2020-05-28\", \"fallecidos confirmados\": 18}, {\"index\": 1, \"Grupo de edad\": \"40-49\", \"fecha (a\\u00f1o-mes-d\\u00eda)\": \"2020-05-28\", \"fallecidos confirmados\": 44}, {\"index\": 2, \"Grupo de edad\": \"50-59\", \"fecha (a\\u00f1o-mes-d\\u00eda)\": \"2020-05-28\", \"fallecidos confirmados\": 89}, {\"index\": 3, \"Grupo de edad\": \"60-69\", \"fecha (a\\u00f1o-mes-d\\u00eda)\": \"2020-05-28\", \"fallecidos confirmados\": 165}, {\"index\": 4, \"Grupo de edad\": \"70-79\", \"fecha (a\\u00f1o-mes-d\\u00eda)\": \"2020-05-28\", \"fallecidos confirmados\": 259}, {\"index\": 5, \"Grupo de edad\": \"80-89\", \"fecha (a\\u00f1o-mes-d\\u00eda)\": \"2020-05-28\", \"fallecidos confirmados\": 228}, {\"index\": 6, \"Grupo de edad\": \">=90\", \"fecha (a\\u00f1o-mes-d\\u00eda)\": \"2020-05-28\", \"fallecidos confirmados\": 87}, {\"index\": 0, \"Grupo de edad\": \"<=39\", \"fecha (a\\u00f1o-mes-d\\u00eda)\": \"2020-05-29\", \"fallecidos confirmados\": 19}, {\"index\": 1, \"Grupo de edad\": \"40-49\", \"fecha (a\\u00f1o-mes-d\\u00eda)\": \"2020-05-29\", \"fallecidos confirmados\": 46}, {\"index\": 2, \"Grupo de edad\": \"50-59\", \"fecha (a\\u00f1o-mes-d\\u00eda)\": \"2020-05-29\", \"fallecidos confirmados\": 94}, {\"index\": 3, \"Grupo de edad\": \"60-69\", \"fecha (a\\u00f1o-mes-d\\u00eda)\": \"2020-05-29\", \"fallecidos confirmados\": 173}, {\"index\": 4, \"Grupo de edad\": \"70-79\", \"fecha (a\\u00f1o-mes-d\\u00eda)\": \"2020-05-29\", \"fallecidos confirmados\": 279}, {\"index\": 5, \"Grupo de edad\": \"80-89\", \"fecha (a\\u00f1o-mes-d\\u00eda)\": \"2020-05-29\", \"fallecidos confirmados\": 242}, {\"index\": 6, \"Grupo de edad\": \">=90\", \"fecha (a\\u00f1o-mes-d\\u00eda)\": \"2020-05-29\", \"fallecidos confirmados\": 91}, {\"index\": 0, \"Grupo de edad\": \"<=39\", \"fecha (a\\u00f1o-mes-d\\u00eda)\": \"2020-05-30\", \"fallecidos confirmados\": 23}, {\"index\": 1, \"Grupo de edad\": \"40-49\", \"fecha (a\\u00f1o-mes-d\\u00eda)\": \"2020-05-30\", \"fallecidos confirmados\": 48}, {\"index\": 2, \"Grupo de edad\": \"50-59\", \"fecha (a\\u00f1o-mes-d\\u00eda)\": \"2020-05-30\", \"fallecidos confirmados\": 97}, {\"index\": 3, \"Grupo de edad\": \"60-69\", \"fecha (a\\u00f1o-mes-d\\u00eda)\": \"2020-05-30\", \"fallecidos confirmados\": 185}, {\"index\": 4, \"Grupo de edad\": \"70-79\", \"fecha (a\\u00f1o-mes-d\\u00eda)\": \"2020-05-30\", \"fallecidos confirmados\": 295}, {\"index\": 5, \"Grupo de edad\": \"80-89\", \"fecha (a\\u00f1o-mes-d\\u00eda)\": \"2020-05-30\", \"fallecidos confirmados\": 255}, {\"index\": 6, \"Grupo de edad\": \">=90\", \"fecha (a\\u00f1o-mes-d\\u00eda)\": \"2020-05-30\", \"fallecidos confirmados\": 94}, {\"index\": 0, \"Grupo de edad\": \"<=39\", \"fecha (a\\u00f1o-mes-d\\u00eda)\": \"2020-05-31\", \"fallecidos confirmados\": 28}, {\"index\": 1, \"Grupo de edad\": \"40-49\", \"fecha (a\\u00f1o-mes-d\\u00eda)\": \"2020-05-31\", \"fallecidos confirmados\": 50}, {\"index\": 2, \"Grupo de edad\": \"50-59\", \"fecha (a\\u00f1o-mes-d\\u00eda)\": \"2020-05-31\", \"fallecidos confirmados\": 105}, {\"index\": 3, \"Grupo de edad\": \"60-69\", \"fecha (a\\u00f1o-mes-d\\u00eda)\": \"2020-05-31\", \"fallecidos confirmados\": 189}, {\"index\": 4, \"Grupo de edad\": \"70-79\", \"fecha (a\\u00f1o-mes-d\\u00eda)\": \"2020-05-31\", \"fallecidos confirmados\": 309}, {\"index\": 5, \"Grupo de edad\": \"80-89\", \"fecha (a\\u00f1o-mes-d\\u00eda)\": \"2020-05-31\", \"fallecidos confirmados\": 275}, {\"index\": 6, \"Grupo de edad\": \">=90\", \"fecha (a\\u00f1o-mes-d\\u00eda)\": \"2020-05-31\", \"fallecidos confirmados\": 98}, {\"index\": 0, \"Grupo de edad\": \"<=39\", \"fecha (a\\u00f1o-mes-d\\u00eda)\": \"2020-06-01\", \"fallecidos confirmados\": 29}, {\"index\": 1, \"Grupo de edad\": \"40-49\", \"fecha (a\\u00f1o-mes-d\\u00eda)\": \"2020-06-01\", \"fallecidos confirmados\": 51}, {\"index\": 2, \"Grupo de edad\": \"50-59\", \"fecha (a\\u00f1o-mes-d\\u00eda)\": \"2020-06-01\", \"fallecidos confirmados\": 114}, {\"index\": 3, \"Grupo de edad\": \"60-69\", \"fecha (a\\u00f1o-mes-d\\u00eda)\": \"2020-06-01\", \"fallecidos confirmados\": 200}, {\"index\": 4, \"Grupo de edad\": \"70-79\", \"fecha (a\\u00f1o-mes-d\\u00eda)\": \"2020-06-01\", \"fallecidos confirmados\": 326}, {\"index\": 5, \"Grupo de edad\": \"80-89\", \"fecha (a\\u00f1o-mes-d\\u00eda)\": \"2020-06-01\", \"fallecidos confirmados\": 293}, {\"index\": 6, \"Grupo de edad\": \">=90\", \"fecha (a\\u00f1o-mes-d\\u00eda)\": \"2020-06-01\", \"fallecidos confirmados\": 100}, {\"index\": 0, \"Grupo de edad\": \"<=39\", \"fecha (a\\u00f1o-mes-d\\u00eda)\": \"2020-06-02\", \"fallecidos confirmados\": 31}, {\"index\": 1, \"Grupo de edad\": \"40-49\", \"fecha (a\\u00f1o-mes-d\\u00eda)\": \"2020-06-02\", \"fallecidos confirmados\": 51}, {\"index\": 2, \"Grupo de edad\": \"50-59\", \"fecha (a\\u00f1o-mes-d\\u00eda)\": \"2020-06-02\", \"fallecidos confirmados\": 124}, {\"index\": 3, \"Grupo de edad\": \"60-69\", \"fecha (a\\u00f1o-mes-d\\u00eda)\": \"2020-06-02\", \"fallecidos confirmados\": 214}, {\"index\": 4, \"Grupo de edad\": \"70-79\", \"fecha (a\\u00f1o-mes-d\\u00eda)\": \"2020-06-02\", \"fallecidos confirmados\": 350}, {\"index\": 5, \"Grupo de edad\": \"80-89\", \"fecha (a\\u00f1o-mes-d\\u00eda)\": \"2020-06-02\", \"fallecidos confirmados\": 313}, {\"index\": 6, \"Grupo de edad\": \">=90\", \"fecha (a\\u00f1o-mes-d\\u00eda)\": \"2020-06-02\", \"fallecidos confirmados\": 105}, {\"index\": 0, \"Grupo de edad\": \"<=39\", \"fecha (a\\u00f1o-mes-d\\u00eda)\": \"2020-06-03\", \"fallecidos confirmados\": 32}, {\"index\": 1, \"Grupo de edad\": \"40-49\", \"fecha (a\\u00f1o-mes-d\\u00eda)\": \"2020-06-03\", \"fallecidos confirmados\": 55}, {\"index\": 2, \"Grupo de edad\": \"50-59\", \"fecha (a\\u00f1o-mes-d\\u00eda)\": \"2020-06-03\", \"fallecidos confirmados\": 136}, {\"index\": 3, \"Grupo de edad\": \"60-69\", \"fecha (a\\u00f1o-mes-d\\u00eda)\": \"2020-06-03\", \"fallecidos confirmados\": 235}, {\"index\": 4, \"Grupo de edad\": \"70-79\", \"fecha (a\\u00f1o-mes-d\\u00eda)\": \"2020-06-03\", \"fallecidos confirmados\": 376}, {\"index\": 5, \"Grupo de edad\": \"80-89\", \"fecha (a\\u00f1o-mes-d\\u00eda)\": \"2020-06-03\", \"fallecidos confirmados\": 329}, {\"index\": 6, \"Grupo de edad\": \">=90\", \"fecha (a\\u00f1o-mes-d\\u00eda)\": \"2020-06-03\", \"fallecidos confirmados\": 112}, {\"index\": 0, \"Grupo de edad\": \"<=39\", \"fecha (a\\u00f1o-mes-d\\u00eda)\": \"2020-06-04\", \"fallecidos confirmados\": 35}, {\"index\": 1, \"Grupo de edad\": \"40-49\", \"fecha (a\\u00f1o-mes-d\\u00eda)\": \"2020-06-04\", \"fallecidos confirmados\": 60}, {\"index\": 2, \"Grupo de edad\": \"50-59\", \"fecha (a\\u00f1o-mes-d\\u00eda)\": \"2020-06-04\", \"fallecidos confirmados\": 144}, {\"index\": 3, \"Grupo de edad\": \"60-69\", \"fecha (a\\u00f1o-mes-d\\u00eda)\": \"2020-06-04\", \"fallecidos confirmados\": 252}, {\"index\": 4, \"Grupo de edad\": \"70-79\", \"fecha (a\\u00f1o-mes-d\\u00eda)\": \"2020-06-04\", \"fallecidos confirmados\": 397}, {\"index\": 5, \"Grupo de edad\": \"80-89\", \"fecha (a\\u00f1o-mes-d\\u00eda)\": \"2020-06-04\", \"fallecidos confirmados\": 352}, {\"index\": 6, \"Grupo de edad\": \">=90\", \"fecha (a\\u00f1o-mes-d\\u00eda)\": \"2020-06-04\", \"fallecidos confirmados\": 116}, {\"index\": 0, \"Grupo de edad\": \"<=39\", \"fecha (a\\u00f1o-mes-d\\u00eda)\": \"2020-06-05\", \"fallecidos confirmados\": 36}, {\"index\": 1, \"Grupo de edad\": \"40-49\", \"fecha (a\\u00f1o-mes-d\\u00eda)\": \"2020-06-05\", \"fallecidos confirmados\": 62}, {\"index\": 2, \"Grupo de edad\": \"50-59\", \"fecha (a\\u00f1o-mes-d\\u00eda)\": \"2020-06-05\", \"fallecidos confirmados\": 152}, {\"index\": 3, \"Grupo de edad\": \"60-69\", \"fecha (a\\u00f1o-mes-d\\u00eda)\": \"2020-06-05\", \"fallecidos confirmados\": 271}, {\"index\": 4, \"Grupo de edad\": \"70-79\", \"fecha (a\\u00f1o-mes-d\\u00eda)\": \"2020-06-05\", \"fallecidos confirmados\": 432}, {\"index\": 5, \"Grupo de edad\": \"80-89\", \"fecha (a\\u00f1o-mes-d\\u00eda)\": \"2020-06-05\", \"fallecidos confirmados\": 372}, {\"index\": 6, \"Grupo de edad\": \">=90\", \"fecha (a\\u00f1o-mes-d\\u00eda)\": \"2020-06-05\", \"fallecidos confirmados\": 123}, {\"index\": 0, \"Grupo de edad\": \"<=39\", \"fecha (a\\u00f1o-mes-d\\u00eda)\": \"2020-06-06\", \"fallecidos confirmados\": 37}, {\"index\": 1, \"Grupo de edad\": \"40-49\", \"fecha (a\\u00f1o-mes-d\\u00eda)\": \"2020-06-06\", \"fallecidos confirmados\": 67}, {\"index\": 2, \"Grupo de edad\": \"50-59\", \"fecha (a\\u00f1o-mes-d\\u00eda)\": \"2020-06-06\", \"fallecidos confirmados\": 162}, {\"index\": 3, \"Grupo de edad\": \"60-69\", \"fecha (a\\u00f1o-mes-d\\u00eda)\": \"2020-06-06\", \"fallecidos confirmados\": 281}, {\"index\": 4, \"Grupo de edad\": \"70-79\", \"fecha (a\\u00f1o-mes-d\\u00eda)\": \"2020-06-06\", \"fallecidos confirmados\": 467}, {\"index\": 5, \"Grupo de edad\": \"80-89\", \"fecha (a\\u00f1o-mes-d\\u00eda)\": \"2020-06-06\", \"fallecidos confirmados\": 398}, {\"index\": 6, \"Grupo de edad\": \">=90\", \"fecha (a\\u00f1o-mes-d\\u00eda)\": \"2020-06-06\", \"fallecidos confirmados\": 129}, {\"index\": 0, \"Grupo de edad\": \"<=39\", \"fecha (a\\u00f1o-mes-d\\u00eda)\": \"2020-06-07\", \"fallecidos confirmados\": 57}, {\"index\": 1, \"Grupo de edad\": \"40-49\", \"fecha (a\\u00f1o-mes-d\\u00eda)\": \"2020-06-07\", \"fallecidos confirmados\": 74}, {\"index\": 2, \"Grupo de edad\": \"50-59\", \"fecha (a\\u00f1o-mes-d\\u00eda)\": \"2020-06-07\", \"fallecidos confirmados\": 210}, {\"index\": 3, \"Grupo de edad\": \"60-69\", \"fecha (a\\u00f1o-mes-d\\u00eda)\": \"2020-06-07\", \"fallecidos confirmados\": 405}, {\"index\": 4, \"Grupo de edad\": \"70-79\", \"fecha (a\\u00f1o-mes-d\\u00eda)\": \"2020-06-07\", \"fallecidos confirmados\": 662}, {\"index\": 5, \"Grupo de edad\": \"80-89\", \"fecha (a\\u00f1o-mes-d\\u00eda)\": \"2020-06-07\", \"fallecidos confirmados\": 603}, {\"index\": 6, \"Grupo de edad\": \">=90\", \"fecha (a\\u00f1o-mes-d\\u00eda)\": \"2020-06-07\", \"fallecidos confirmados\": 179}, {\"index\": 0, \"Grupo de edad\": \"<=39\", \"fecha (a\\u00f1o-mes-d\\u00eda)\": \"2020-06-08\", \"fallecidos confirmados\": 60}, {\"index\": 1, \"Grupo de edad\": \"40-49\", \"fecha (a\\u00f1o-mes-d\\u00eda)\": \"2020-06-08\", \"fallecidos confirmados\": 78}, {\"index\": 2, \"Grupo de edad\": \"50-59\", \"fecha (a\\u00f1o-mes-d\\u00eda)\": \"2020-06-08\", \"fallecidos confirmados\": 219}, {\"index\": 3, \"Grupo de edad\": \"60-69\", \"fecha (a\\u00f1o-mes-d\\u00eda)\": \"2020-06-08\", \"fallecidos confirmados\": 421}, {\"index\": 4, \"Grupo de edad\": \"70-79\", \"fecha (a\\u00f1o-mes-d\\u00eda)\": \"2020-06-08\", \"fallecidos confirmados\": 682}, {\"index\": 5, \"Grupo de edad\": \"80-89\", \"fecha (a\\u00f1o-mes-d\\u00eda)\": \"2020-06-08\", \"fallecidos confirmados\": 618}, {\"index\": 6, \"Grupo de edad\": \">=90\", \"fecha (a\\u00f1o-mes-d\\u00eda)\": \"2020-06-08\", \"fallecidos confirmados\": 186}, {\"index\": 0, \"Grupo de edad\": \"<=39\", \"fecha (a\\u00f1o-mes-d\\u00eda)\": \"2020-06-09\", \"fallecidos confirmados\": 60}, {\"index\": 1, \"Grupo de edad\": \"40-49\", \"fecha (a\\u00f1o-mes-d\\u00eda)\": \"2020-06-09\", \"fallecidos confirmados\": 79}, {\"index\": 2, \"Grupo de edad\": \"50-59\", \"fecha (a\\u00f1o-mes-d\\u00eda)\": \"2020-06-09\", \"fallecidos confirmados\": 221}, {\"index\": 3, \"Grupo de edad\": \"60-69\", \"fecha (a\\u00f1o-mes-d\\u00eda)\": \"2020-06-09\", \"fallecidos confirmados\": 427}, {\"index\": 4, \"Grupo de edad\": \"70-79\", \"fecha (a\\u00f1o-mes-d\\u00eda)\": \"2020-06-09\", \"fallecidos confirmados\": 686}, {\"index\": 5, \"Grupo de edad\": \"80-89\", \"fecha (a\\u00f1o-mes-d\\u00eda)\": \"2020-06-09\", \"fallecidos confirmados\": 623}, {\"index\": 6, \"Grupo de edad\": \">=90\", \"fecha (a\\u00f1o-mes-d\\u00eda)\": \"2020-06-09\", \"fallecidos confirmados\": 187}, {\"index\": 0, \"Grupo de edad\": \"<=39\", \"fecha (a\\u00f1o-mes-d\\u00eda)\": \"2020-06-10\", \"fallecidos confirmados\": 63}, {\"index\": 1, \"Grupo de edad\": \"40-49\", \"fecha (a\\u00f1o-mes-d\\u00eda)\": \"2020-06-10\", \"fallecidos confirmados\": 86}, {\"index\": 2, \"Grupo de edad\": \"50-59\", \"fecha (a\\u00f1o-mes-d\\u00eda)\": \"2020-06-10\", \"fallecidos confirmados\": 238}, {\"index\": 3, \"Grupo de edad\": \"60-69\", \"fecha (a\\u00f1o-mes-d\\u00eda)\": \"2020-06-10\", \"fallecidos confirmados\": 475}, {\"index\": 4, \"Grupo de edad\": \"70-79\", \"fecha (a\\u00f1o-mes-d\\u00eda)\": \"2020-06-10\", \"fallecidos confirmados\": 751}, {\"index\": 5, \"Grupo de edad\": \"80-89\", \"fecha (a\\u00f1o-mes-d\\u00eda)\": \"2020-06-10\", \"fallecidos confirmados\": 668}, {\"index\": 6, \"Grupo de edad\": \">=90\", \"fecha (a\\u00f1o-mes-d\\u00eda)\": \"2020-06-10\", \"fallecidos confirmados\": 194}, {\"index\": 0, \"Grupo de edad\": \"<=39\", \"fecha (a\\u00f1o-mes-d\\u00eda)\": \"2020-06-11\", \"fallecidos confirmados\": 68}, {\"index\": 1, \"Grupo de edad\": \"40-49\", \"fecha (a\\u00f1o-mes-d\\u00eda)\": \"2020-06-11\", \"fallecidos confirmados\": 92}, {\"index\": 2, \"Grupo de edad\": \"50-59\", \"fecha (a\\u00f1o-mes-d\\u00eda)\": \"2020-06-11\", \"fallecidos confirmados\": 249}, {\"index\": 3, \"Grupo de edad\": \"60-69\", \"fecha (a\\u00f1o-mes-d\\u00eda)\": \"2020-06-11\", \"fallecidos confirmados\": 508}, {\"index\": 4, \"Grupo de edad\": \"70-79\", \"fecha (a\\u00f1o-mes-d\\u00eda)\": \"2020-06-11\", \"fallecidos confirmados\": 807}, {\"index\": 5, \"Grupo de edad\": \"80-89\", \"fecha (a\\u00f1o-mes-d\\u00eda)\": \"2020-06-11\", \"fallecidos confirmados\": 715}, {\"index\": 6, \"Grupo de edad\": \">=90\", \"fecha (a\\u00f1o-mes-d\\u00eda)\": \"2020-06-11\", \"fallecidos confirmados\": 209}, {\"index\": 0, \"Grupo de edad\": \"<=39\", \"fecha (a\\u00f1o-mes-d\\u00eda)\": \"2020-06-12\", \"fallecidos confirmados\": 73}, {\"index\": 1, \"Grupo de edad\": \"40-49\", \"fecha (a\\u00f1o-mes-d\\u00eda)\": \"2020-06-12\", \"fallecidos confirmados\": 100}, {\"index\": 2, \"Grupo de edad\": \"50-59\", \"fecha (a\\u00f1o-mes-d\\u00eda)\": \"2020-06-12\", \"fallecidos confirmados\": 267}, {\"index\": 3, \"Grupo de edad\": \"60-69\", \"fecha (a\\u00f1o-mes-d\\u00eda)\": \"2020-06-12\", \"fallecidos confirmados\": 557}, {\"index\": 4, \"Grupo de edad\": \"70-79\", \"fecha (a\\u00f1o-mes-d\\u00eda)\": \"2020-06-12\", \"fallecidos confirmados\": 872}, {\"index\": 5, \"Grupo de edad\": \"80-89\", \"fecha (a\\u00f1o-mes-d\\u00eda)\": \"2020-06-12\", \"fallecidos confirmados\": 775}, {\"index\": 6, \"Grupo de edad\": \">=90\", \"fecha (a\\u00f1o-mes-d\\u00eda)\": \"2020-06-12\", \"fallecidos confirmados\": 226}, {\"index\": 0, \"Grupo de edad\": \"<=39\", \"fecha (a\\u00f1o-mes-d\\u00eda)\": \"2020-06-13\", \"fallecidos confirmados\": 80}, {\"index\": 1, \"Grupo de edad\": \"40-49\", \"fecha (a\\u00f1o-mes-d\\u00eda)\": \"2020-06-13\", \"fallecidos confirmados\": 106}, {\"index\": 2, \"Grupo de edad\": \"50-59\", \"fecha (a\\u00f1o-mes-d\\u00eda)\": \"2020-06-13\", \"fallecidos confirmados\": 295}, {\"index\": 3, \"Grupo de edad\": \"60-69\", \"fecha (a\\u00f1o-mes-d\\u00eda)\": \"2020-06-13\", \"fallecidos confirmados\": 613}, {\"index\": 4, \"Grupo de edad\": \"70-79\", \"fecha (a\\u00f1o-mes-d\\u00eda)\": \"2020-06-13\", \"fallecidos confirmados\": 933}, {\"index\": 5, \"Grupo de edad\": \"80-89\", \"fecha (a\\u00f1o-mes-d\\u00eda)\": \"2020-06-13\", \"fallecidos confirmados\": 838}, {\"index\": 6, \"Grupo de edad\": \">=90\", \"fecha (a\\u00f1o-mes-d\\u00eda)\": \"2020-06-13\", \"fallecidos confirmados\": 236}, {\"index\": 0, \"Grupo de edad\": \"<=39\", \"fecha (a\\u00f1o-mes-d\\u00eda)\": \"2020-06-14\", \"fallecidos confirmados\": 81}, {\"index\": 1, \"Grupo de edad\": \"40-49\", \"fecha (a\\u00f1o-mes-d\\u00eda)\": \"2020-06-14\", \"fallecidos confirmados\": 110}, {\"index\": 2, \"Grupo de edad\": \"50-59\", \"fecha (a\\u00f1o-mes-d\\u00eda)\": \"2020-06-14\", \"fallecidos confirmados\": 322}, {\"index\": 3, \"Grupo de edad\": \"60-69\", \"fecha (a\\u00f1o-mes-d\\u00eda)\": \"2020-06-14\", \"fallecidos confirmados\": 656}, {\"index\": 4, \"Grupo de edad\": \"70-79\", \"fecha (a\\u00f1o-mes-d\\u00eda)\": \"2020-06-14\", \"fallecidos confirmados\": 1006}, {\"index\": 5, \"Grupo de edad\": \"80-89\", \"fecha (a\\u00f1o-mes-d\\u00eda)\": \"2020-06-14\", \"fallecidos confirmados\": 893}, {\"index\": 6, \"Grupo de edad\": \">=90\", \"fecha (a\\u00f1o-mes-d\\u00eda)\": \"2020-06-14\", \"fallecidos confirmados\": 255}, {\"index\": 0, \"Grupo de edad\": \"<=39\", \"fecha (a\\u00f1o-mes-d\\u00eda)\": \"2020-06-15\", \"fallecidos confirmados\": 84}, {\"index\": 1, \"Grupo de edad\": \"40-49\", \"fecha (a\\u00f1o-mes-d\\u00eda)\": \"2020-06-15\", \"fallecidos confirmados\": 111}, {\"index\": 2, \"Grupo de edad\": \"50-59\", \"fecha (a\\u00f1o-mes-d\\u00eda)\": \"2020-06-15\", \"fallecidos confirmados\": 325}, {\"index\": 3, \"Grupo de edad\": \"60-69\", \"fecha (a\\u00f1o-mes-d\\u00eda)\": \"2020-06-15\", \"fallecidos confirmados\": 669}, {\"index\": 4, \"Grupo de edad\": \"70-79\", \"fecha (a\\u00f1o-mes-d\\u00eda)\": \"2020-06-15\", \"fallecidos confirmados\": 1015}, {\"index\": 5, \"Grupo de edad\": \"80-89\", \"fecha (a\\u00f1o-mes-d\\u00eda)\": \"2020-06-15\", \"fallecidos confirmados\": 899}, {\"index\": 6, \"Grupo de edad\": \">=90\", \"fecha (a\\u00f1o-mes-d\\u00eda)\": \"2020-06-15\", \"fallecidos confirmados\": 259}, {\"index\": 0, \"Grupo de edad\": \"<=39\", \"fecha (a\\u00f1o-mes-d\\u00eda)\": \"2020-06-16\", \"fallecidos confirmados\": 84}, {\"index\": 1, \"Grupo de edad\": \"40-49\", \"fecha (a\\u00f1o-mes-d\\u00eda)\": \"2020-06-16\", \"fallecidos confirmados\": 112}, {\"index\": 2, \"Grupo de edad\": \"50-59\", \"fecha (a\\u00f1o-mes-d\\u00eda)\": \"2020-06-16\", \"fallecidos confirmados\": 327}, {\"index\": 3, \"Grupo de edad\": \"60-69\", \"fecha (a\\u00f1o-mes-d\\u00eda)\": \"2020-06-16\", \"fallecidos confirmados\": 675}, {\"index\": 4, \"Grupo de edad\": \"70-79\", \"fecha (a\\u00f1o-mes-d\\u00eda)\": \"2020-06-16\", \"fallecidos confirmados\": 1020}, {\"index\": 5, \"Grupo de edad\": \"80-89\", \"fecha (a\\u00f1o-mes-d\\u00eda)\": \"2020-06-16\", \"fallecidos confirmados\": 904}, {\"index\": 6, \"Grupo de edad\": \">=90\", \"fecha (a\\u00f1o-mes-d\\u00eda)\": \"2020-06-16\", \"fallecidos confirmados\": 261}, {\"index\": 0, \"Grupo de edad\": \"<=39\", \"fecha (a\\u00f1o-mes-d\\u00eda)\": \"2020-06-17\", \"fallecidos confirmados\": 88}, {\"index\": 1, \"Grupo de edad\": \"40-49\", \"fecha (a\\u00f1o-mes-d\\u00eda)\": \"2020-06-17\", \"fallecidos confirmados\": 127}, {\"index\": 2, \"Grupo de edad\": \"50-59\", \"fecha (a\\u00f1o-mes-d\\u00eda)\": \"2020-06-17\", \"fallecidos confirmados\": 351}, {\"index\": 3, \"Grupo de edad\": \"60-69\", \"fecha (a\\u00f1o-mes-d\\u00eda)\": \"2020-06-17\", \"fallecidos confirmados\": 723}, {\"index\": 4, \"Grupo de edad\": \"70-79\", \"fecha (a\\u00f1o-mes-d\\u00eda)\": \"2020-06-17\", \"fallecidos confirmados\": 1085}, {\"index\": 5, \"Grupo de edad\": \"80-89\", \"fecha (a\\u00f1o-mes-d\\u00eda)\": \"2020-06-17\", \"fallecidos confirmados\": 966}, {\"index\": 6, \"Grupo de edad\": \">=90\", \"fecha (a\\u00f1o-mes-d\\u00eda)\": \"2020-06-17\", \"fallecidos confirmados\": 275}, {\"index\": 0, \"Grupo de edad\": \"<=39\", \"fecha (a\\u00f1o-mes-d\\u00eda)\": \"2020-06-18\", \"fallecidos confirmados\": 89}, {\"index\": 1, \"Grupo de edad\": \"40-49\", \"fecha (a\\u00f1o-mes-d\\u00eda)\": \"2020-06-18\", \"fallecidos confirmados\": 136}, {\"index\": 2, \"Grupo de edad\": \"50-59\", \"fecha (a\\u00f1o-mes-d\\u00eda)\": \"2020-06-18\", \"fallecidos confirmados\": 369}, {\"index\": 3, \"Grupo de edad\": \"60-69\", \"fecha (a\\u00f1o-mes-d\\u00eda)\": \"2020-06-18\", \"fallecidos confirmados\": 787}, {\"index\": 4, \"Grupo de edad\": \"70-79\", \"fecha (a\\u00f1o-mes-d\\u00eda)\": \"2020-06-18\", \"fallecidos confirmados\": 1146}, {\"index\": 5, \"Grupo de edad\": \"80-89\", \"fecha (a\\u00f1o-mes-d\\u00eda)\": \"2020-06-18\", \"fallecidos confirmados\": 1030}, {\"index\": 6, \"Grupo de edad\": \">=90\", \"fecha (a\\u00f1o-mes-d\\u00eda)\": \"2020-06-18\", \"fallecidos confirmados\": 284}, {\"index\": 0, \"Grupo de edad\": \"<=39\", \"fecha (a\\u00f1o-mes-d\\u00eda)\": \"2020-06-19\", \"fallecidos confirmados\": 93}, {\"index\": 1, \"Grupo de edad\": \"40-49\", \"fecha (a\\u00f1o-mes-d\\u00eda)\": \"2020-06-19\", \"fallecidos confirmados\": 140}, {\"index\": 2, \"Grupo de edad\": \"50-59\", \"fecha (a\\u00f1o-mes-d\\u00eda)\": \"2020-06-19\", \"fallecidos confirmados\": 395}, {\"index\": 3, \"Grupo de edad\": \"60-69\", \"fecha (a\\u00f1o-mes-d\\u00eda)\": \"2020-06-19\", \"fallecidos confirmados\": 847}, {\"index\": 4, \"Grupo de edad\": \"70-79\", \"fecha (a\\u00f1o-mes-d\\u00eda)\": \"2020-06-19\", \"fallecidos confirmados\": 1222}, {\"index\": 5, \"Grupo de edad\": \"80-89\", \"fecha (a\\u00f1o-mes-d\\u00eda)\": \"2020-06-19\", \"fallecidos confirmados\": 1099}, {\"index\": 6, \"Grupo de edad\": \">=90\", \"fecha (a\\u00f1o-mes-d\\u00eda)\": \"2020-06-19\", \"fallecidos confirmados\": 297}, {\"index\": 0, \"Grupo de edad\": \"<=39\", \"fecha (a\\u00f1o-mes-d\\u00eda)\": \"2020-06-20\", \"fallecidos confirmados\": 94}, {\"index\": 1, \"Grupo de edad\": \"40-49\", \"fecha (a\\u00f1o-mes-d\\u00eda)\": \"2020-06-20\", \"fallecidos confirmados\": 144}, {\"index\": 2, \"Grupo de edad\": \"50-59\", \"fecha (a\\u00f1o-mes-d\\u00eda)\": \"2020-06-20\", \"fallecidos confirmados\": 413}, {\"index\": 3, \"Grupo de edad\": \"60-69\", \"fecha (a\\u00f1o-mes-d\\u00eda)\": \"2020-06-20\", \"fallecidos confirmados\": 895}, {\"index\": 4, \"Grupo de edad\": \"70-79\", \"fecha (a\\u00f1o-mes-d\\u00eda)\": \"2020-06-20\", \"fallecidos confirmados\": 1281}, {\"index\": 5, \"Grupo de edad\": \"80-89\", \"fecha (a\\u00f1o-mes-d\\u00eda)\": \"2020-06-20\", \"fallecidos confirmados\": 1152}, {\"index\": 6, \"Grupo de edad\": \">=90\", \"fecha (a\\u00f1o-mes-d\\u00eda)\": \"2020-06-20\", \"fallecidos confirmados\": 316}, {\"index\": 0, \"Grupo de edad\": \"<=39\", \"fecha (a\\u00f1o-mes-d\\u00eda)\": \"2020-06-21\", \"fallecidos confirmados\": 97}, {\"index\": 1, \"Grupo de edad\": \"40-49\", \"fecha (a\\u00f1o-mes-d\\u00eda)\": \"2020-06-21\", \"fallecidos confirmados\": 150}, {\"index\": 2, \"Grupo de edad\": \"50-59\", \"fecha (a\\u00f1o-mes-d\\u00eda)\": \"2020-06-21\", \"fallecidos confirmados\": 433}, {\"index\": 3, \"Grupo de edad\": \"60-69\", \"fecha (a\\u00f1o-mes-d\\u00eda)\": \"2020-06-21\", \"fallecidos confirmados\": 934}, {\"index\": 4, \"Grupo de edad\": \"70-79\", \"fecha (a\\u00f1o-mes-d\\u00eda)\": \"2020-06-21\", \"fallecidos confirmados\": 1337}, {\"index\": 5, \"Grupo de edad\": \"80-89\", \"fecha (a\\u00f1o-mes-d\\u00eda)\": \"2020-06-21\", \"fallecidos confirmados\": 1198}, {\"index\": 6, \"Grupo de edad\": \">=90\", \"fecha (a\\u00f1o-mes-d\\u00eda)\": \"2020-06-21\", \"fallecidos confirmados\": 330}, {\"index\": 0, \"Grupo de edad\": \"<=39\", \"fecha (a\\u00f1o-mes-d\\u00eda)\": \"2020-06-22\", \"fallecidos confirmados\": 98}, {\"index\": 1, \"Grupo de edad\": \"40-49\", \"fecha (a\\u00f1o-mes-d\\u00eda)\": \"2020-06-22\", \"fallecidos confirmados\": 150}, {\"index\": 2, \"Grupo de edad\": \"50-59\", \"fecha (a\\u00f1o-mes-d\\u00eda)\": \"2020-06-22\", \"fallecidos confirmados\": 434}, {\"index\": 3, \"Grupo de edad\": \"60-69\", \"fecha (a\\u00f1o-mes-d\\u00eda)\": \"2020-06-22\", \"fallecidos confirmados\": 942}, {\"index\": 4, \"Grupo de edad\": \"70-79\", \"fecha (a\\u00f1o-mes-d\\u00eda)\": \"2020-06-22\", \"fallecidos confirmados\": 1344}, {\"index\": 5, \"Grupo de edad\": \"80-89\", \"fecha (a\\u00f1o-mes-d\\u00eda)\": \"2020-06-22\", \"fallecidos confirmados\": 1204}, {\"index\": 6, \"Grupo de edad\": \">=90\", \"fecha (a\\u00f1o-mes-d\\u00eda)\": \"2020-06-22\", \"fallecidos confirmados\": 330}, {\"index\": 0, \"Grupo de edad\": \"<=39\", \"fecha (a\\u00f1o-mes-d\\u00eda)\": \"2020-06-23\", \"fallecidos confirmados\": 98}, {\"index\": 1, \"Grupo de edad\": \"40-49\", \"fecha (a\\u00f1o-mes-d\\u00eda)\": \"2020-06-23\", \"fallecidos confirmados\": 150}, {\"index\": 2, \"Grupo de edad\": \"50-59\", \"fecha (a\\u00f1o-mes-d\\u00eda)\": \"2020-06-23\", \"fallecidos confirmados\": 434}, {\"index\": 3, \"Grupo de edad\": \"60-69\", \"fecha (a\\u00f1o-mes-d\\u00eda)\": \"2020-06-23\", \"fallecidos confirmados\": 942}, {\"index\": 4, \"Grupo de edad\": \"70-79\", \"fecha (a\\u00f1o-mes-d\\u00eda)\": \"2020-06-23\", \"fallecidos confirmados\": 1344}, {\"index\": 5, \"Grupo de edad\": \"80-89\", \"fecha (a\\u00f1o-mes-d\\u00eda)\": \"2020-06-23\", \"fallecidos confirmados\": 1206}, {\"index\": 6, \"Grupo de edad\": \">=90\", \"fecha (a\\u00f1o-mes-d\\u00eda)\": \"2020-06-23\", \"fallecidos confirmados\": 331}, {\"index\": 0, \"Grupo de edad\": \"<=39\", \"fecha (a\\u00f1o-mes-d\\u00eda)\": \"2020-06-24\", \"fallecidos confirmados\": 105}, {\"index\": 1, \"Grupo de edad\": \"40-49\", \"fecha (a\\u00f1o-mes-d\\u00eda)\": \"2020-06-24\", \"fallecidos confirmados\": 157}, {\"index\": 2, \"Grupo de edad\": \"50-59\", \"fecha (a\\u00f1o-mes-d\\u00eda)\": \"2020-06-24\", \"fallecidos confirmados\": 458}, {\"index\": 3, \"Grupo de edad\": \"60-69\", \"fecha (a\\u00f1o-mes-d\\u00eda)\": \"2020-06-24\", \"fallecidos confirmados\": 987}, {\"index\": 4, \"Grupo de edad\": \"70-79\", \"fecha (a\\u00f1o-mes-d\\u00eda)\": \"2020-06-24\", \"fallecidos confirmados\": 1414}, {\"index\": 5, \"Grupo de edad\": \"80-89\", \"fecha (a\\u00f1o-mes-d\\u00eda)\": \"2020-06-24\", \"fallecidos confirmados\": 1259}, {\"index\": 6, \"Grupo de edad\": \">=90\", \"fecha (a\\u00f1o-mes-d\\u00eda)\": \"2020-06-24\", \"fallecidos confirmados\": 351}, {\"index\": 0, \"Grupo de edad\": \"<=39\", \"fecha (a\\u00f1o-mes-d\\u00eda)\": \"2020-06-25\", \"fallecidos confirmados\": 107}, {\"index\": 1, \"Grupo de edad\": \"40-49\", \"fecha (a\\u00f1o-mes-d\\u00eda)\": \"2020-06-25\", \"fallecidos confirmados\": 160}, {\"index\": 2, \"Grupo de edad\": \"50-59\", \"fecha (a\\u00f1o-mes-d\\u00eda)\": \"2020-06-25\", \"fallecidos confirmados\": 473}, {\"index\": 3, \"Grupo de edad\": \"60-69\", \"fecha (a\\u00f1o-mes-d\\u00eda)\": \"2020-06-25\", \"fallecidos confirmados\": 1035}, {\"index\": 4, \"Grupo de edad\": \"70-79\", \"fecha (a\\u00f1o-mes-d\\u00eda)\": \"2020-06-25\", \"fallecidos confirmados\": 1460}, {\"index\": 5, \"Grupo de edad\": \"80-89\", \"fecha (a\\u00f1o-mes-d\\u00eda)\": \"2020-06-25\", \"fallecidos confirmados\": 1299}, {\"index\": 6, \"Grupo de edad\": \">=90\", \"fecha (a\\u00f1o-mes-d\\u00eda)\": \"2020-06-25\", \"fallecidos confirmados\": 369}, {\"index\": 0, \"Grupo de edad\": \"<=39\", \"fecha (a\\u00f1o-mes-d\\u00eda)\": \"2020-06-26\", \"fallecidos confirmados\": 109}, {\"index\": 1, \"Grupo de edad\": \"40-49\", \"fecha (a\\u00f1o-mes-d\\u00eda)\": \"2020-06-26\", \"fallecidos confirmados\": 162}, {\"index\": 2, \"Grupo de edad\": \"50-59\", \"fecha (a\\u00f1o-mes-d\\u00eda)\": \"2020-06-26\", \"fallecidos confirmados\": 499}, {\"index\": 3, \"Grupo de edad\": \"60-69\", \"fecha (a\\u00f1o-mes-d\\u00eda)\": \"2020-06-26\", \"fallecidos confirmados\": 1071}, {\"index\": 4, \"Grupo de edad\": \"70-79\", \"fecha (a\\u00f1o-mes-d\\u00eda)\": \"2020-06-26\", \"fallecidos confirmados\": 1511}, {\"index\": 5, \"Grupo de edad\": \"80-89\", \"fecha (a\\u00f1o-mes-d\\u00eda)\": \"2020-06-26\", \"fallecidos confirmados\": 1338}, {\"index\": 6, \"Grupo de edad\": \">=90\", \"fecha (a\\u00f1o-mes-d\\u00eda)\": \"2020-06-26\", \"fallecidos confirmados\": 378}, {\"index\": 0, \"Grupo de edad\": \"<=39\", \"fecha (a\\u00f1o-mes-d\\u00eda)\": \"2020-06-27\", \"fallecidos confirmados\": 115}, {\"index\": 1, \"Grupo de edad\": \"40-49\", \"fecha (a\\u00f1o-mes-d\\u00eda)\": \"2020-06-27\", \"fallecidos confirmados\": 172}, {\"index\": 2, \"Grupo de edad\": \"50-59\", \"fecha (a\\u00f1o-mes-d\\u00eda)\": \"2020-06-27\", \"fallecidos confirmados\": 513}, {\"index\": 3, \"Grupo de edad\": \"60-69\", \"fecha (a\\u00f1o-mes-d\\u00eda)\": \"2020-06-27\", \"fallecidos confirmados\": 1125}, {\"index\": 4, \"Grupo de edad\": \"70-79\", \"fecha (a\\u00f1o-mes-d\\u00eda)\": \"2020-06-27\", \"fallecidos confirmados\": 1567}, {\"index\": 5, \"Grupo de edad\": \"80-89\", \"fecha (a\\u00f1o-mes-d\\u00eda)\": \"2020-06-27\", \"fallecidos confirmados\": 1388}, {\"index\": 6, \"Grupo de edad\": \">=90\", \"fecha (a\\u00f1o-mes-d\\u00eda)\": \"2020-06-27\", \"fallecidos confirmados\": 467}, {\"index\": 0, \"Grupo de edad\": \"<=39\", \"fecha (a\\u00f1o-mes-d\\u00eda)\": \"2020-06-28\", \"fallecidos confirmados\": 117}, {\"index\": 1, \"Grupo de edad\": \"40-49\", \"fecha (a\\u00f1o-mes-d\\u00eda)\": \"2020-06-28\", \"fallecidos confirmados\": 178}, {\"index\": 2, \"Grupo de edad\": \"50-59\", \"fecha (a\\u00f1o-mes-d\\u00eda)\": \"2020-06-28\", \"fallecidos confirmados\": 532}, {\"index\": 3, \"Grupo de edad\": \"60-69\", \"fecha (a\\u00f1o-mes-d\\u00eda)\": \"2020-06-28\", \"fallecidos confirmados\": 1159}, {\"index\": 4, \"Grupo de edad\": \"70-79\", \"fecha (a\\u00f1o-mes-d\\u00eda)\": \"2020-06-28\", \"fallecidos confirmados\": 1608}, {\"index\": 5, \"Grupo de edad\": \"80-89\", \"fecha (a\\u00f1o-mes-d\\u00eda)\": \"2020-06-28\", \"fallecidos confirmados\": 1430}, {\"index\": 6, \"Grupo de edad\": \">=90\", \"fecha (a\\u00f1o-mes-d\\u00eda)\": \"2020-06-28\", \"fallecidos confirmados\": 485}, {\"index\": 0, \"Grupo de edad\": \"<=39\", \"fecha (a\\u00f1o-mes-d\\u00eda)\": \"2020-06-29\", \"fallecidos confirmados\": 117}, {\"index\": 1, \"Grupo de edad\": \"40-49\", \"fecha (a\\u00f1o-mes-d\\u00eda)\": \"2020-06-29\", \"fallecidos confirmados\": 181}, {\"index\": 2, \"Grupo de edad\": \"50-59\", \"fecha (a\\u00f1o-mes-d\\u00eda)\": \"2020-06-29\", \"fallecidos confirmados\": 538}, {\"index\": 3, \"Grupo de edad\": \"60-69\", \"fecha (a\\u00f1o-mes-d\\u00eda)\": \"2020-06-29\", \"fallecidos confirmados\": 1174}, {\"index\": 4, \"Grupo de edad\": \"70-79\", \"fecha (a\\u00f1o-mes-d\\u00eda)\": \"2020-06-29\", \"fallecidos confirmados\": 1627}, {\"index\": 5, \"Grupo de edad\": \"80-89\", \"fecha (a\\u00f1o-mes-d\\u00eda)\": \"2020-06-29\", \"fallecidos confirmados\": 1444}, {\"index\": 6, \"Grupo de edad\": \">=90\", \"fecha (a\\u00f1o-mes-d\\u00eda)\": \"2020-06-29\", \"fallecidos confirmados\": 494}, {\"index\": 0, \"Grupo de edad\": \"<=39\", \"fecha (a\\u00f1o-mes-d\\u00eda)\": \"2020-06-30\", \"fallecidos confirmados\": 117}, {\"index\": 1, \"Grupo de edad\": \"40-49\", \"fecha (a\\u00f1o-mes-d\\u00eda)\": \"2020-06-30\", \"fallecidos confirmados\": 184}, {\"index\": 2, \"Grupo de edad\": \"50-59\", \"fecha (a\\u00f1o-mes-d\\u00eda)\": \"2020-06-30\", \"fallecidos confirmados\": 549}, {\"index\": 3, \"Grupo de edad\": \"60-69\", \"fecha (a\\u00f1o-mes-d\\u00eda)\": \"2020-06-30\", \"fallecidos confirmados\": 1192}, {\"index\": 4, \"Grupo de edad\": \"70-79\", \"fecha (a\\u00f1o-mes-d\\u00eda)\": \"2020-06-30\", \"fallecidos confirmados\": 1660}, {\"index\": 5, \"Grupo de edad\": \"80-89\", \"fecha (a\\u00f1o-mes-d\\u00eda)\": \"2020-06-30\", \"fallecidos confirmados\": 1479}, {\"index\": 6, \"Grupo de edad\": \">=90\", \"fecha (a\\u00f1o-mes-d\\u00eda)\": \"2020-06-30\", \"fallecidos confirmados\": 507}, {\"index\": 0, \"Grupo de edad\": \"<=39\", \"fecha (a\\u00f1o-mes-d\\u00eda)\": \"2020-07-01\", \"fallecidos confirmados\": 119}, {\"index\": 1, \"Grupo de edad\": \"40-49\", \"fecha (a\\u00f1o-mes-d\\u00eda)\": \"2020-07-01\", \"fallecidos confirmados\": 186}, {\"index\": 2, \"Grupo de edad\": \"50-59\", \"fecha (a\\u00f1o-mes-d\\u00eda)\": \"2020-07-01\", \"fallecidos confirmados\": 556}, {\"index\": 3, \"Grupo de edad\": \"60-69\", \"fecha (a\\u00f1o-mes-d\\u00eda)\": \"2020-07-01\", \"fallecidos confirmados\": 1205}, {\"index\": 4, \"Grupo de edad\": \"70-79\", \"fecha (a\\u00f1o-mes-d\\u00eda)\": \"2020-07-01\", \"fallecidos confirmados\": 1673}, {\"index\": 5, \"Grupo de edad\": \"80-89\", \"fecha (a\\u00f1o-mes-d\\u00eda)\": \"2020-07-01\", \"fallecidos confirmados\": 1495}, {\"index\": 6, \"Grupo de edad\": \">=90\", \"fecha (a\\u00f1o-mes-d\\u00eda)\": \"2020-07-01\", \"fallecidos confirmados\": 519}, {\"index\": 0, \"Grupo de edad\": \"<=39\", \"fecha (a\\u00f1o-mes-d\\u00eda)\": \"2020-07-02\", \"fallecidos confirmados\": 124}, {\"index\": 1, \"Grupo de edad\": \"40-49\", \"fecha (a\\u00f1o-mes-d\\u00eda)\": \"2020-07-02\", \"fallecidos confirmados\": 189}, {\"index\": 2, \"Grupo de edad\": \"50-59\", \"fecha (a\\u00f1o-mes-d\\u00eda)\": \"2020-07-02\", \"fallecidos confirmados\": 580}, {\"index\": 3, \"Grupo de edad\": \"60-69\", \"fecha (a\\u00f1o-mes-d\\u00eda)\": \"2020-07-02\", \"fallecidos confirmados\": 1248}, {\"index\": 4, \"Grupo de edad\": \"70-79\", \"fecha (a\\u00f1o-mes-d\\u00eda)\": \"2020-07-02\", \"fallecidos confirmados\": 1706}, {\"index\": 5, \"Grupo de edad\": \"80-89\", \"fecha (a\\u00f1o-mes-d\\u00eda)\": \"2020-07-02\", \"fallecidos confirmados\": 1532}, {\"index\": 6, \"Grupo de edad\": \">=90\", \"fecha (a\\u00f1o-mes-d\\u00eda)\": \"2020-07-02\", \"fallecidos confirmados\": 541}, {\"index\": 0, \"Grupo de edad\": \"<=39\", \"fecha (a\\u00f1o-mes-d\\u00eda)\": \"2020-07-03\", \"fallecidos confirmados\": 124}, {\"index\": 1, \"Grupo de edad\": \"40-49\", \"fecha (a\\u00f1o-mes-d\\u00eda)\": \"2020-07-03\", \"fallecidos confirmados\": 194}, {\"index\": 2, \"Grupo de edad\": \"50-59\", \"fecha (a\\u00f1o-mes-d\\u00eda)\": \"2020-07-03\", \"fallecidos confirmados\": 594}, {\"index\": 3, \"Grupo de edad\": \"60-69\", \"fecha (a\\u00f1o-mes-d\\u00eda)\": \"2020-07-03\", \"fallecidos confirmados\": 1275}, {\"index\": 4, \"Grupo de edad\": \"70-79\", \"fecha (a\\u00f1o-mes-d\\u00eda)\": \"2020-07-03\", \"fallecidos confirmados\": 1745}, {\"index\": 5, \"Grupo de edad\": \"80-89\", \"fecha (a\\u00f1o-mes-d\\u00eda)\": \"2020-07-03\", \"fallecidos confirmados\": 1571}, {\"index\": 6, \"Grupo de edad\": \">=90\", \"fecha (a\\u00f1o-mes-d\\u00eda)\": \"2020-07-03\", \"fallecidos confirmados\": 548}, {\"index\": 0, \"Grupo de edad\": \"<=39\", \"fecha (a\\u00f1o-mes-d\\u00eda)\": \"2020-07-04\", \"fallecidos confirmados\": 126}, {\"index\": 1, \"Grupo de edad\": \"40-49\", \"fecha (a\\u00f1o-mes-d\\u00eda)\": \"2020-07-04\", \"fallecidos confirmados\": 196}, {\"index\": 2, \"Grupo de edad\": \"50-59\", \"fecha (a\\u00f1o-mes-d\\u00eda)\": \"2020-07-04\", \"fallecidos confirmados\": 603}, {\"index\": 3, \"Grupo de edad\": \"60-69\", \"fecha (a\\u00f1o-mes-d\\u00eda)\": \"2020-07-04\", \"fallecidos confirmados\": 1313}, {\"index\": 4, \"Grupo de edad\": \"70-79\", \"fecha (a\\u00f1o-mes-d\\u00eda)\": \"2020-07-04\", \"fallecidos confirmados\": 1779}, {\"index\": 5, \"Grupo de edad\": \"80-89\", \"fecha (a\\u00f1o-mes-d\\u00eda)\": \"2020-07-04\", \"fallecidos confirmados\": 1610}, {\"index\": 6, \"Grupo de edad\": \">=90\", \"fecha (a\\u00f1o-mes-d\\u00eda)\": \"2020-07-04\", \"fallecidos confirmados\": 565}, {\"index\": 0, \"Grupo de edad\": \"<=39\", \"fecha (a\\u00f1o-mes-d\\u00eda)\": \"2020-07-05\", \"fallecidos confirmados\": 128}, {\"index\": 1, \"Grupo de edad\": \"40-49\", \"fecha (a\\u00f1o-mes-d\\u00eda)\": \"2020-07-05\", \"fallecidos confirmados\": 198}, {\"index\": 2, \"Grupo de edad\": \"50-59\", \"fecha (a\\u00f1o-mes-d\\u00eda)\": \"2020-07-05\", \"fallecidos confirmados\": 618}, {\"index\": 3, \"Grupo de edad\": \"60-69\", \"fecha (a\\u00f1o-mes-d\\u00eda)\": \"2020-07-05\", \"fallecidos confirmados\": 1337}, {\"index\": 4, \"Grupo de edad\": \"70-79\", \"fecha (a\\u00f1o-mes-d\\u00eda)\": \"2020-07-05\", \"fallecidos confirmados\": 1816}, {\"index\": 5, \"Grupo de edad\": \"80-89\", \"fecha (a\\u00f1o-mes-d\\u00eda)\": \"2020-07-05\", \"fallecidos confirmados\": 1633}, {\"index\": 6, \"Grupo de edad\": \">=90\", \"fecha (a\\u00f1o-mes-d\\u00eda)\": \"2020-07-05\", \"fallecidos confirmados\": 578}, {\"index\": 0, \"Grupo de edad\": \"<=39\", \"fecha (a\\u00f1o-mes-d\\u00eda)\": \"2020-07-06\", \"fallecidos confirmados\": 130}, {\"index\": 1, \"Grupo de edad\": \"40-49\", \"fecha (a\\u00f1o-mes-d\\u00eda)\": \"2020-07-06\", \"fallecidos confirmados\": 202}, {\"index\": 2, \"Grupo de edad\": \"50-59\", \"fecha (a\\u00f1o-mes-d\\u00eda)\": \"2020-07-06\", \"fallecidos confirmados\": 625}, {\"index\": 3, \"Grupo de edad\": \"60-69\", \"fecha (a\\u00f1o-mes-d\\u00eda)\": \"2020-07-06\", \"fallecidos confirmados\": 1354}, {\"index\": 4, \"Grupo de edad\": \"70-79\", \"fecha (a\\u00f1o-mes-d\\u00eda)\": \"2020-07-06\", \"fallecidos confirmados\": 1839}, {\"index\": 5, \"Grupo de edad\": \"80-89\", \"fecha (a\\u00f1o-mes-d\\u00eda)\": \"2020-07-06\", \"fallecidos confirmados\": 1650}, {\"index\": 6, \"Grupo de edad\": \">=90\", \"fecha (a\\u00f1o-mes-d\\u00eda)\": \"2020-07-06\", \"fallecidos confirmados\": 584}]}}, {\"mode\": \"vega-lite\"});\n",
       "</script>"
      ],
      "text/plain": [
       "alt.HConcatChart(...)"
      ]
     },
     "execution_count": 123,
     "metadata": {},
     "output_type": "execute_result"
    }
   ],
   "source": [
    "#hide_input\n",
    "selection2 = alt.selection_multi(fields=['Grupo de edad'], on='mouseover')\n",
    "\n",
    "color = alt.condition(selection2,\n",
    "                    alt.Color('Grupo de edad:N', scale=alt.Scale(scheme='tableau20'), legend=None),\n",
    "                    alt.value('lightgray'))\n",
    "\n",
    "bars = alt.Chart(data).mark_area().encode(\n",
    "    x = 'fecha (año-mes-día):N',\n",
    "    y = alt.Y('fallecidos confirmados:Q', stack=\"normalize\", sort=grupo_de_edad),\n",
    "    color = color,\n",
    "    tooltip = ['fecha (año-mes-día)', 'Grupo de edad', 'fallecidos confirmados'],\n",
    "    order=alt.Order(\n",
    "    # Sort the segments of the bars by this field\n",
    "    'index',\n",
    "    sort='descending'\n",
    "    )\n",
    ").add_selection(\n",
    "    selection2\n",
    ")\n",
    "\n",
    "legend = alt.Chart(data).mark_point().encode(\n",
    "    y=alt.Y('Grupo de edad',  axis=alt.Axis(orient='right'), sort=grupo_de_edad),\n",
    "    color=color\n",
    ").add_selection(\n",
    "    selection2\n",
    ")\n",
    "\n",
    "bars.properties(\n",
    "    title = 'COVID-19 en Chile: Evolución de fallecidos confirmados normalizados por rango de edad',\n",
    "    width = 600\n",
    ") | legend"
   ]
  },
  {
   "cell_type": "markdown",
   "metadata": {},
   "source": [
    "# Evolución de la letalidad por rango de edad"
   ]
  },
  {
   "cell_type": "code",
   "execution_count": 124,
   "metadata": {},
   "outputs": [],
   "source": [
    "#hide\n",
    "deaths = deaths_raw.iloc[:5]\n",
    "deaths = deaths.append(deaths_raw.iloc[5:].sum(), ignore_index=True)\n",
    "deaths.loc[5, \"Grupo de edad\"] = \">=80\""
   ]
  },
  {
   "cell_type": "code",
   "execution_count": 125,
   "metadata": {},
   "outputs": [],
   "source": [
    "#hide\n",
    "cases = pd.DataFrame()\n",
    "cases['<=39'] = cases_raw.groupby('Grupo de edad').sum().iloc[:8].sum()\n",
    "cases['40-49'] = cases_raw.groupby('Grupo de edad').sum().iloc[8:10].sum()\n",
    "cases['50-59'] = cases_raw.groupby('Grupo de edad').sum().iloc[10:12].sum()\n",
    "cases['60-69'] = cases_raw.groupby('Grupo de edad').sum().iloc[12:14].sum()\n",
    "cases['70-79'] = cases_raw.groupby('Grupo de edad').sum().iloc[14:16].sum()\n",
    "cases['>=80'] = cases_raw.groupby('Grupo de edad').sum().iloc[16:].sum()"
   ]
  },
  {
   "cell_type": "code",
   "execution_count": 126,
   "metadata": {},
   "outputs": [],
   "source": [
    "#hide\n",
    "cases = cases.T.reset_index()\n",
    "cases = cases.rename(columns={'index': 'Grupo de edad'})"
   ]
  },
  {
   "cell_type": "code",
   "execution_count": 127,
   "metadata": {},
   "outputs": [],
   "source": [
    "#hide\n",
    "deaths = deaths.set_index(\"Grupo de edad\").T\n",
    "cases = cases.set_index(\"Grupo de edad\").T\n",
    "letalidad = deaths.divide(cases['2020-04-09':])"
   ]
  },
  {
   "cell_type": "code",
   "execution_count": 128,
   "metadata": {
    "scrolled": true
   },
   "outputs": [
    {
     "data": {
      "text/html": [
       "<div>\n",
       "<style scoped>\n",
       "    .dataframe tbody tr th:only-of-type {\n",
       "        vertical-align: middle;\n",
       "    }\n",
       "\n",
       "    .dataframe tbody tr th {\n",
       "        vertical-align: top;\n",
       "    }\n",
       "\n",
       "    .dataframe thead th {\n",
       "        text-align: right;\n",
       "    }\n",
       "</style>\n",
       "<table border=\"1\" class=\"dataframe\">\n",
       "  <thead>\n",
       "    <tr style=\"text-align: right;\">\n",
       "      <th>Grupo de edad</th>\n",
       "      <th>&lt;=39</th>\n",
       "      <th>40-49</th>\n",
       "      <th>50-59</th>\n",
       "      <th>60-69</th>\n",
       "      <th>70-79</th>\n",
       "      <th>&gt;=80</th>\n",
       "    </tr>\n",
       "  </thead>\n",
       "  <tbody>\n",
       "    <tr>\n",
       "      <th>2020-06-28</th>\n",
       "      <td>144968</td>\n",
       "      <td>48112</td>\n",
       "      <td>43958</td>\n",
       "      <td>24809</td>\n",
       "      <td>12067</td>\n",
       "      <td>7544</td>\n",
       "    </tr>\n",
       "    <tr>\n",
       "      <th>2020-07-01</th>\n",
       "      <td>150348</td>\n",
       "      <td>49910</td>\n",
       "      <td>45651</td>\n",
       "      <td>25838</td>\n",
       "      <td>12594</td>\n",
       "      <td>7847</td>\n",
       "    </tr>\n",
       "    <tr>\n",
       "      <th>2020-07-05</th>\n",
       "      <td>158970</td>\n",
       "      <td>52793</td>\n",
       "      <td>48431</td>\n",
       "      <td>27482</td>\n",
       "      <td>13360</td>\n",
       "      <td>8320</td>\n",
       "    </tr>\n",
       "  </tbody>\n",
       "</table>\n",
       "</div>"
      ],
      "text/plain": [
       "Grupo de edad    <=39  40-49  50-59  60-69  70-79  >=80\n",
       "2020-06-28     144968  48112  43958  24809  12067  7544\n",
       "2020-07-01     150348  49910  45651  25838  12594  7847\n",
       "2020-07-05     158970  52793  48431  27482  13360  8320"
      ]
     },
     "execution_count": 128,
     "metadata": {},
     "output_type": "execute_result"
    }
   ],
   "source": [
    "#hide\n",
    "cases.tail(3)"
   ]
  },
  {
   "cell_type": "code",
   "execution_count": 129,
   "metadata": {},
   "outputs": [
    {
     "data": {
      "text/html": [
       "<div>\n",
       "<style scoped>\n",
       "    .dataframe tbody tr th:only-of-type {\n",
       "        vertical-align: middle;\n",
       "    }\n",
       "\n",
       "    .dataframe tbody tr th {\n",
       "        vertical-align: top;\n",
       "    }\n",
       "\n",
       "    .dataframe thead th {\n",
       "        text-align: right;\n",
       "    }\n",
       "</style>\n",
       "<table border=\"1\" class=\"dataframe\">\n",
       "  <thead>\n",
       "    <tr style=\"text-align: right;\">\n",
       "      <th>Grupo de edad</th>\n",
       "      <th>&lt;=39</th>\n",
       "      <th>40-49</th>\n",
       "      <th>50-59</th>\n",
       "      <th>60-69</th>\n",
       "      <th>70-79</th>\n",
       "      <th>&gt;=80</th>\n",
       "    </tr>\n",
       "  </thead>\n",
       "  <tbody>\n",
       "    <tr>\n",
       "      <th>2020-07-04</th>\n",
       "      <td>126</td>\n",
       "      <td>196</td>\n",
       "      <td>603</td>\n",
       "      <td>1313</td>\n",
       "      <td>1779</td>\n",
       "      <td>2175</td>\n",
       "    </tr>\n",
       "    <tr>\n",
       "      <th>2020-07-05</th>\n",
       "      <td>128</td>\n",
       "      <td>198</td>\n",
       "      <td>618</td>\n",
       "      <td>1337</td>\n",
       "      <td>1816</td>\n",
       "      <td>2211</td>\n",
       "    </tr>\n",
       "    <tr>\n",
       "      <th>2020-07-06</th>\n",
       "      <td>130</td>\n",
       "      <td>202</td>\n",
       "      <td>625</td>\n",
       "      <td>1354</td>\n",
       "      <td>1839</td>\n",
       "      <td>2234</td>\n",
       "    </tr>\n",
       "  </tbody>\n",
       "</table>\n",
       "</div>"
      ],
      "text/plain": [
       "Grupo de edad  <=39  40-49  50-59  60-69  70-79  >=80\n",
       "2020-07-04      126    196    603   1313   1779  2175\n",
       "2020-07-05      128    198    618   1337   1816  2211\n",
       "2020-07-06      130    202    625   1354   1839  2234"
      ]
     },
     "execution_count": 129,
     "metadata": {},
     "output_type": "execute_result"
    }
   ],
   "source": [
    "#hide\n",
    "deaths.tail(3)"
   ]
  },
  {
   "cell_type": "code",
   "execution_count": 130,
   "metadata": {},
   "outputs": [],
   "source": [
    "#hide\n",
    "letalidad = letalidad.reset_index().melt(\"index\")\n",
    "letalidad = letalidad.rename(columns={\"index\": \"fecha (año-mes-día)\", \"value\": \"letalidad\"})\n",
    "letalidad = letalidad.dropna()"
   ]
  },
  {
   "cell_type": "code",
   "execution_count": 131,
   "metadata": {},
   "outputs": [
    {
     "data": {
      "text/html": [
       "\n",
       "<div id=\"altair-viz-77505ba9c93a43c1a3910cc116aeeb3b\"></div>\n",
       "<script type=\"text/javascript\">\n",
       "  (function(spec, embedOpt){\n",
       "    let outputDiv = document.currentScript.previousElementSibling;\n",
       "    if (outputDiv.id !== \"altair-viz-77505ba9c93a43c1a3910cc116aeeb3b\") {\n",
       "      outputDiv = document.getElementById(\"altair-viz-77505ba9c93a43c1a3910cc116aeeb3b\");\n",
       "    }\n",
       "    const paths = {\n",
       "      \"vega\": \"https://cdn.jsdelivr.net/npm//vega@5?noext\",\n",
       "      \"vega-lib\": \"https://cdn.jsdelivr.net/npm//vega-lib?noext\",\n",
       "      \"vega-lite\": \"https://cdn.jsdelivr.net/npm//vega-lite@4.8.1?noext\",\n",
       "      \"vega-embed\": \"https://cdn.jsdelivr.net/npm//vega-embed@6?noext\",\n",
       "    };\n",
       "\n",
       "    function loadScript(lib) {\n",
       "      return new Promise(function(resolve, reject) {\n",
       "        var s = document.createElement('script');\n",
       "        s.src = paths[lib];\n",
       "        s.async = true;\n",
       "        s.onload = () => resolve(paths[lib]);\n",
       "        s.onerror = () => reject(`Error loading script: ${paths[lib]}`);\n",
       "        document.getElementsByTagName(\"head\")[0].appendChild(s);\n",
       "      });\n",
       "    }\n",
       "\n",
       "    function showError(err) {\n",
       "      outputDiv.innerHTML = `<div class=\"error\" style=\"color:red;\">${err}</div>`;\n",
       "      throw err;\n",
       "    }\n",
       "\n",
       "    function displayChart(vegaEmbed) {\n",
       "      vegaEmbed(outputDiv, spec, embedOpt)\n",
       "        .catch(err => showError(`Javascript Error: ${err.message}<br>This usually means there's a typo in your chart specification. See the javascript console for the full traceback.`));\n",
       "    }\n",
       "\n",
       "    if(typeof define === \"function\" && define.amd) {\n",
       "      requirejs.config({paths});\n",
       "      require([\"vega-embed\"], displayChart, err => showError(`Error loading script: ${err.message}`));\n",
       "    } else if (typeof vegaEmbed === \"function\") {\n",
       "      displayChart(vegaEmbed);\n",
       "    } else {\n",
       "      loadScript(\"vega\")\n",
       "        .then(() => loadScript(\"vega-lite\"))\n",
       "        .then(() => loadScript(\"vega-embed\"))\n",
       "        .catch(showError)\n",
       "        .then(() => displayChart(vegaEmbed));\n",
       "    }\n",
       "  })({\"config\": {\"view\": {\"continuousWidth\": 400, \"continuousHeight\": 300}}, \"hconcat\": [{\"layer\": [{\"mark\": \"line\", \"encoding\": {\"color\": {\"condition\": {\"type\": \"nominal\", \"field\": \"Grupo de edad\", \"legend\": null, \"scale\": {\"scheme\": \"tableau10\"}, \"selection\": {\"or\": [\" \", \"selector008\"]}}, \"value\": \"lightgray\"}, \"tooltip\": [{\"type\": \"nominal\", \"field\": \"fecha (a\\u00f1o-mes-d\\u00eda)\"}, {\"type\": \"nominal\", \"field\": \"Grupo de edad\"}, {\"type\": \"quantitative\", \"field\": \"letalidad\"}], \"x\": {\"type\": \"nominal\", \"field\": \"fecha (a\\u00f1o-mes-d\\u00eda)\"}, \"y\": {\"type\": \"quantitative\", \"axis\": {\"format\": \"%\"}, \"field\": \"letalidad\", \"sort\": [\"<=39\", \"40-49\", \"50-59\", \"60-69\", \"70-79\", \">=80\"]}}, \"selection\": {\"selector007\": {\"type\": \"single\", \"encodings\": [\"x\"], \"on\": \"mouseover\", \"nearest\": true, \"empty\": \"none\"}, \" \": {\"type\": \"single\", \"fields\": [\"Grupo de edad\"], \"bind\": {\"input\": \"select\", \"options\": [\"<=39\", \"40-49\", \"50-59\", \"60-69\", \"70-79\", \">=80\"]}}, \"selector008\": {\"type\": \"multi\", \"fields\": [\"Grupo de edad\"], \"on\": \"mouseover\"}}, \"transform\": [{\"filter\": {\"selection\": \" \"}}]}, {\"mark\": {\"type\": \"rule\", \"color\": \"#aaa\"}, \"encoding\": {\"x\": {\"type\": \"nominal\", \"axis\": {\"title\": \"fecha (a\\u00f1o-mes-d\\u00eda):N\"}, \"field\": \"fecha (a\\u00f1o-mes-d\\u00eda)\", \"sort\": null}}, \"transform\": [{\"filter\": {\"selection\": \"selector007\"}}]}, {\"mark\": \"circle\", \"encoding\": {\"color\": {\"condition\": {\"type\": \"nominal\", \"field\": \"Grupo de edad\", \"legend\": null, \"scale\": {\"scheme\": \"tableau10\"}, \"selection\": {\"or\": [\" \", \"selector008\"]}}, \"value\": \"lightgray\"}, \"opacity\": {\"condition\": {\"value\": 1, \"selection\": \"selector007\"}, \"value\": 0}, \"tooltip\": [{\"type\": \"nominal\", \"field\": \"fecha (a\\u00f1o-mes-d\\u00eda)\"}, {\"type\": \"nominal\", \"field\": \"Grupo de edad\"}, {\"type\": \"quantitative\", \"field\": \"letalidad\"}], \"x\": {\"type\": \"nominal\", \"field\": \"fecha (a\\u00f1o-mes-d\\u00eda)\"}, \"y\": {\"type\": \"quantitative\", \"axis\": {\"format\": \"%\"}, \"field\": \"letalidad\", \"sort\": [\"<=39\", \"40-49\", \"50-59\", \"60-69\", \"70-79\", \">=80\"]}}, \"selection\": {\"selector007\": {\"type\": \"single\", \"encodings\": [\"x\"], \"on\": \"mouseover\", \"nearest\": true, \"empty\": \"none\"}, \" \": {\"type\": \"single\", \"fields\": [\"Grupo de edad\"], \"bind\": {\"input\": \"select\", \"options\": [\"<=39\", \"40-49\", \"50-59\", \"60-69\", \"70-79\", \">=80\"]}}, \"selector008\": {\"type\": \"multi\", \"fields\": [\"Grupo de edad\"], \"on\": \"mouseover\"}}, \"transform\": [{\"filter\": {\"selection\": \" \"}}]}, {\"mark\": {\"type\": \"text\", \"align\": \"left\", \"dx\": 5, \"dy\": -5, \"stroke\": \"white\", \"strokeWidth\": 2}, \"encoding\": {\"color\": {\"condition\": {\"type\": \"nominal\", \"field\": \"Grupo de edad\", \"legend\": null, \"scale\": {\"scheme\": \"tableau10\"}, \"selection\": {\"or\": [\" \", \"selector008\"]}}, \"value\": \"lightgray\"}, \"text\": {\"type\": \"quantitative\", \"field\": \"letalidad\"}, \"tooltip\": [{\"type\": \"nominal\", \"field\": \"fecha (a\\u00f1o-mes-d\\u00eda)\"}, {\"type\": \"nominal\", \"field\": \"Grupo de edad\"}, {\"type\": \"quantitative\", \"field\": \"letalidad\"}], \"x\": {\"type\": \"nominal\", \"field\": \"fecha (a\\u00f1o-mes-d\\u00eda)\"}, \"y\": {\"type\": \"quantitative\", \"axis\": {\"format\": \"%\"}, \"field\": \"letalidad\", \"sort\": [\"<=39\", \"40-49\", \"50-59\", \"60-69\", \"70-79\", \">=80\"]}}, \"selection\": {\"selector007\": {\"type\": \"single\", \"encodings\": [\"x\"], \"on\": \"mouseover\", \"nearest\": true, \"empty\": \"none\"}, \" \": {\"type\": \"single\", \"fields\": [\"Grupo de edad\"], \"bind\": {\"input\": \"select\", \"options\": [\"<=39\", \"40-49\", \"50-59\", \"60-69\", \"70-79\", \">=80\"]}}, \"selector008\": {\"type\": \"multi\", \"fields\": [\"Grupo de edad\"], \"on\": \"mouseover\"}}, \"transform\": [{\"filter\": {\"selection\": \" \"}}, {\"filter\": {\"selection\": \"selector007\"}}]}, {\"mark\": {\"type\": \"text\", \"align\": \"left\", \"dx\": 5, \"dy\": -5}, \"encoding\": {\"color\": {\"condition\": {\"type\": \"nominal\", \"field\": \"Grupo de edad\", \"legend\": null, \"scale\": {\"scheme\": \"tableau10\"}, \"selection\": {\"or\": [\" \", \"selector008\"]}}, \"value\": \"lightgray\"}, \"text\": {\"type\": \"quantitative\", \"field\": \"letalidad\"}, \"tooltip\": [{\"type\": \"nominal\", \"field\": \"fecha (a\\u00f1o-mes-d\\u00eda)\"}, {\"type\": \"nominal\", \"field\": \"Grupo de edad\"}, {\"type\": \"quantitative\", \"field\": \"letalidad\"}], \"x\": {\"type\": \"nominal\", \"field\": \"fecha (a\\u00f1o-mes-d\\u00eda)\"}, \"y\": {\"type\": \"quantitative\", \"axis\": {\"format\": \"%\"}, \"field\": \"letalidad\", \"sort\": [\"<=39\", \"40-49\", \"50-59\", \"60-69\", \"70-79\", \">=80\"]}}, \"selection\": {\"selector007\": {\"type\": \"single\", \"encodings\": [\"x\"], \"on\": \"mouseover\", \"nearest\": true, \"empty\": \"none\"}, \" \": {\"type\": \"single\", \"fields\": [\"Grupo de edad\"], \"bind\": {\"input\": \"select\", \"options\": [\"<=39\", \"40-49\", \"50-59\", \"60-69\", \"70-79\", \">=80\"]}}, \"selector008\": {\"type\": \"multi\", \"fields\": [\"Grupo de edad\"], \"on\": \"mouseover\"}}, \"transform\": [{\"filter\": {\"selection\": \" \"}}, {\"filter\": {\"selection\": \"selector007\"}}]}], \"title\": \"COVID-19 en Chile: Evoluci\\u00f3n de la letalidad por rango de edad\", \"width\": 600}, {\"mark\": \"point\", \"encoding\": {\"color\": {\"condition\": {\"type\": \"nominal\", \"field\": \"Grupo de edad\", \"legend\": null, \"scale\": {\"scheme\": \"tableau10\"}, \"selection\": {\"or\": [\" \", \"selector008\"]}}, \"value\": \"lightgray\"}, \"y\": {\"type\": \"nominal\", \"axis\": {\"orient\": \"right\"}, \"field\": \"Grupo de edad\", \"sort\": [\">=80\", \"70-79\", \"60-69\", \"50-59\", \"40-49\", \"<=39\"]}}, \"selection\": {\" \": {\"type\": \"single\", \"fields\": [\"Grupo de edad\"], \"bind\": {\"input\": \"select\", \"options\": [\"<=39\", \"40-49\", \"50-59\", \"60-69\", \"70-79\", \">=80\"]}}, \"selector008\": {\"type\": \"multi\", \"fields\": [\"Grupo de edad\"], \"on\": \"mouseover\"}}}], \"data\": {\"name\": \"data-22562b812962786344652f343d63ae09\"}, \"$schema\": \"https://vega.github.io/schema/vega-lite/v4.8.1.json\", \"datasets\": {\"data-22562b812962786344652f343d63ae09\": [{\"fecha (a\\u00f1o-mes-d\\u00eda)\": \"2020-04-09\", \"Grupo de edad\": \"<=39\", \"letalidad\": 0.0007049700387733521}, {\"fecha (a\\u00f1o-mes-d\\u00eda)\": \"2020-04-10\", \"Grupo de edad\": \"<=39\", \"letalidad\": 0.0006485084306095979}, {\"fecha (a\\u00f1o-mes-d\\u00eda)\": \"2020-04-11\", \"Grupo de edad\": \"<=39\", \"letalidad\": 0.0009085402786190188}, {\"fecha (a\\u00f1o-mes-d\\u00eda)\": \"2020-04-12\", \"Grupo de edad\": \"<=39\", \"letalidad\": 0.0008685581933989577}, {\"fecha (a\\u00f1o-mes-d\\u00eda)\": \"2020-04-13\", \"Grupo de edad\": \"<=39\", \"letalidad\": 0.0008228195282501371}, {\"fecha (a\\u00f1o-mes-d\\u00eda)\": \"2020-04-14\", \"Grupo de edad\": \"<=39\", \"letalidad\": 0.0007882291119285339}, {\"fecha (a\\u00f1o-mes-d\\u00eda)\": \"2020-04-15\", \"Grupo de edad\": \"<=39\", \"letalidad\": 0.0007403751233958539}, {\"fecha (a\\u00f1o-mes-d\\u00eda)\": \"2020-04-16\", \"Grupo de edad\": \"<=39\", \"letalidad\": 0.0006967022758941013}, {\"fecha (a\\u00f1o-mes-d\\u00eda)\": \"2020-04-17\", \"Grupo de edad\": \"<=39\", \"letalidad\": 0.0008781558726673985}, {\"fecha (a\\u00f1o-mes-d\\u00eda)\": \"2020-04-18\", \"Grupo de edad\": \"<=39\", \"letalidad\": 0.0008314279775514446}, {\"fecha (a\\u00f1o-mes-d\\u00eda)\": \"2020-04-19\", \"Grupo de edad\": \"<=39\", \"letalidad\": 0.0008001600320064013}, {\"fecha (a\\u00f1o-mes-d\\u00eda)\": \"2020-04-20\", \"Grupo de edad\": \"<=39\", \"letalidad\": 0.0007692307692307692}, {\"fecha (a\\u00f1o-mes-d\\u00eda)\": \"2020-04-21\", \"Grupo de edad\": \"<=39\", \"letalidad\": 0.0009201324990798675}, {\"fecha (a\\u00f1o-mes-d\\u00eda)\": \"2020-04-22\", \"Grupo de edad\": \"<=39\", \"letalidad\": 0.0008799718409010912}, {\"fecha (a\\u00f1o-mes-d\\u00eda)\": \"2020-04-23\", \"Grupo de edad\": \"<=39\", \"letalidad\": 0.0008401949252226517}, {\"fecha (a\\u00f1o-mes-d\\u00eda)\": \"2020-04-24\", \"Grupo de edad\": \"<=39\", \"letalidad\": 0.0008093234056328909}, {\"fecha (a\\u00f1o-mes-d\\u00eda)\": \"2020-04-25\", \"Grupo de edad\": \"<=39\", \"letalidad\": 0.0009237875288683603}, {\"fecha (a\\u00f1o-mes-d\\u00eda)\": \"2020-04-26\", \"Grupo de edad\": \"<=39\", \"letalidad\": 0.0008860011813349084}, {\"fecha (a\\u00f1o-mes-d\\u00eda)\": \"2020-04-27\", \"Grupo de edad\": \"<=39\", \"letalidad\": 0.0008564087924636027}, {\"fecha (a\\u00f1o-mes-d\\u00eda)\": \"2020-04-28\", \"Grupo de edad\": \"<=39\", \"letalidad\": 0.0008154389779831476}, {\"fecha (a\\u00f1o-mes-d\\u00eda)\": \"2020-05-01\", \"Grupo de edad\": \"<=39\", \"letalidad\": 0.0006786562606040041}, {\"fecha (a\\u00f1o-mes-d\\u00eda)\": \"2020-05-02\", \"Grupo de edad\": \"<=39\", \"letalidad\": 0.0006226650062266501}, {\"fecha (a\\u00f1o-mes-d\\u00eda)\": \"2020-05-04\", \"Grupo de edad\": \"<=39\", \"letalidad\": 0.000555812876331635}, {\"fecha (a\\u00f1o-mes-d\\u00eda)\": \"2020-05-06\", \"Grupo de edad\": \"<=39\", \"letalidad\": 0.0004924895345973898}, {\"fecha (a\\u00f1o-mes-d\\u00eda)\": \"2020-05-08\", \"Grupo de edad\": \"<=39\", \"letalidad\": 0.0005090909090909091}, {\"fecha (a\\u00f1o-mes-d\\u00eda)\": \"2020-05-11\", \"Grupo de edad\": \"<=39\", \"letalidad\": 0.00043621860783947156}, {\"fecha (a\\u00f1o-mes-d\\u00eda)\": \"2020-05-15\", \"Grupo de edad\": \"<=39\", \"letalidad\": 0.00046935135642542006}, {\"fecha (a\\u00f1o-mes-d\\u00eda)\": \"2020-05-18\", \"Grupo de edad\": \"<=39\", \"letalidad\": 0.0004027386226339106}, {\"fecha (a\\u00f1o-mes-d\\u00eda)\": \"2020-05-22\", \"Grupo de edad\": \"<=39\", \"letalidad\": 0.0003910009624639076}, {\"fecha (a\\u00f1o-mes-d\\u00eda)\": \"2020-05-25\", \"Grupo de edad\": \"<=39\", \"letalidad\": 0.0004041424602172266}, {\"fecha (a\\u00f1o-mes-d\\u00eda)\": \"2020-05-29\", \"Grupo de edad\": \"<=39\", \"letalidad\": 0.0003938150312979314}, {\"fecha (a\\u00f1o-mes-d\\u00eda)\": \"2020-06-01\", \"Grupo de edad\": \"<=39\", \"letalidad\": 0.0005217798089206354}, {\"fecha (a\\u00f1o-mes-d\\u00eda)\": \"2020-06-05\", \"Grupo de edad\": \"<=39\", \"letalidad\": 0.0005592928053194961}, {\"fecha (a\\u00f1o-mes-d\\u00eda)\": \"2020-06-08\", \"Grupo de edad\": \"<=39\", \"letalidad\": 0.0008282145075574574}, {\"fecha (a\\u00f1o-mes-d\\u00eda)\": \"2020-06-12\", \"Grupo de edad\": \"<=39\", \"letalidad\": 0.0008763821025967322}, {\"fecha (a\\u00f1o-mes-d\\u00eda)\": \"2020-06-15\", \"Grupo de edad\": \"<=39\", \"letalidad\": 0.0009116363873152308}, {\"fecha (a\\u00f1o-mes-d\\u00eda)\": \"2020-06-19\", \"Grupo de edad\": \"<=39\", \"letalidad\": 0.0007795604285067646}, {\"fecha (a\\u00f1o-mes-d\\u00eda)\": \"2020-06-23\", \"Grupo de edad\": \"<=39\", \"letalidad\": 0.0007450884982665288}, {\"fecha (a\\u00f1o-mes-d\\u00eda)\": \"2020-06-28\", \"Grupo de edad\": \"<=39\", \"letalidad\": 0.0008070746647536008}, {\"fecha (a\\u00f1o-mes-d\\u00eda)\": \"2020-07-01\", \"Grupo de edad\": \"<=39\", \"letalidad\": 0.0007914970601537765}, {\"fecha (a\\u00f1o-mes-d\\u00eda)\": \"2020-07-05\", \"Grupo de edad\": \"<=39\", \"letalidad\": 0.0008051833679310562}, {\"fecha (a\\u00f1o-mes-d\\u00eda)\": \"2020-04-09\", \"Grupo de edad\": \"40-49\", \"letalidad\": 0.0008673026886383347}, {\"fecha (a\\u00f1o-mes-d\\u00eda)\": \"2020-04-10\", \"Grupo de edad\": \"40-49\", \"letalidad\": 0.0016299918500407497}, {\"fecha (a\\u00f1o-mes-d\\u00eda)\": \"2020-04-11\", \"Grupo de edad\": \"40-49\", \"letalidad\": 0.0015420200462606013}, {\"fecha (a\\u00f1o-mes-d\\u00eda)\": \"2020-04-12\", \"Grupo de edad\": \"40-49\", \"letalidad\": 0.0014695077149155032}, {\"fecha (a\\u00f1o-mes-d\\u00eda)\": \"2020-04-13\", \"Grupo de edad\": \"40-49\", \"letalidad\": 0.0013783597518952446}, {\"fecha (a\\u00f1o-mes-d\\u00eda)\": \"2020-04-14\", \"Grupo de edad\": \"40-49\", \"letalidad\": 0.0013440860215053765}, {\"fecha (a\\u00f1o-mes-d\\u00eda)\": \"2020-04-15\", \"Grupo de edad\": \"40-49\", \"letalidad\": 0.0012642225031605564}, {\"fecha (a\\u00f1o-mes-d\\u00eda)\": \"2020-04-16\", \"Grupo de edad\": \"40-49\", \"letalidad\": 0.0011876484560570072}, {\"fecha (a\\u00f1o-mes-d\\u00eda)\": \"2020-04-17\", \"Grupo de edad\": \"40-49\", \"letalidad\": 0.0011229646266142617}, {\"fecha (a\\u00f1o-mes-d\\u00eda)\": \"2020-04-18\", \"Grupo de edad\": \"40-49\", \"letalidad\": 0.001078167115902965}, {\"fecha (a\\u00f1o-mes-d\\u00eda)\": \"2020-04-19\", \"Grupo de edad\": \"40-49\", \"letalidad\": 0.0010384215991692627}, {\"fecha (a\\u00f1o-mes-d\\u00eda)\": \"2020-04-20\", \"Grupo de edad\": \"40-49\", \"letalidad\": 0.001010611419909045}, {\"fecha (a\\u00f1o-mes-d\\u00eda)\": \"2020-04-21\", \"Grupo de edad\": \"40-49\", \"letalidad\": 0.0009857072449482504}, {\"fecha (a\\u00f1o-mes-d\\u00eda)\": \"2020-04-22\", \"Grupo de edad\": \"40-49\", \"letalidad\": 0.0009514747859181732}, {\"fecha (a\\u00f1o-mes-d\\u00eda)\": \"2020-04-23\", \"Grupo de edad\": \"40-49\", \"letalidad\": 0.0013673655423883319}, {\"fecha (a\\u00f1o-mes-d\\u00eda)\": \"2020-04-24\", \"Grupo de edad\": \"40-49\", \"letalidad\": 0.0017691287041132243}, {\"fecha (a\\u00f1o-mes-d\\u00eda)\": \"2020-04-25\", \"Grupo de edad\": \"40-49\", \"letalidad\": 0.002545608824777259}, {\"fecha (a\\u00f1o-mes-d\\u00eda)\": \"2020-04-26\", \"Grupo de edad\": \"40-49\", \"letalidad\": 0.0028913672036348617}, {\"fecha (a\\u00f1o-mes-d\\u00eda)\": \"2020-04-27\", \"Grupo de edad\": \"40-49\", \"letalidad\": 0.0028089887640449437}, {\"fecha (a\\u00f1o-mes-d\\u00eda)\": \"2020-04-28\", \"Grupo de edad\": \"40-49\", \"letalidad\": 0.0030804774740084712}, {\"fecha (a\\u00f1o-mes-d\\u00eda)\": \"2020-05-01\", \"Grupo de edad\": \"40-49\", \"letalidad\": 0.0032916392363396972}, {\"fecha (a\\u00f1o-mes-d\\u00eda)\": \"2020-05-02\", \"Grupo de edad\": \"40-49\", \"letalidad\": 0.003346516580468512}, {\"fecha (a\\u00f1o-mes-d\\u00eda)\": \"2020-05-04\", \"Grupo de edad\": \"40-49\", \"letalidad\": 0.003310344827586207}, {\"fecha (a\\u00f1o-mes-d\\u00eda)\": \"2020-05-06\", \"Grupo de edad\": \"40-49\", \"letalidad\": 0.003226607098535617}, {\"fecha (a\\u00f1o-mes-d\\u00eda)\": \"2020-05-08\", \"Grupo de edad\": \"40-49\", \"letalidad\": 0.0030728709394205445}, {\"fecha (a\\u00f1o-mes-d\\u00eda)\": \"2020-05-11\", \"Grupo de edad\": \"40-49\", \"letalidad\": 0.003065721402567542}, {\"fecha (a\\u00f1o-mes-d\\u00eda)\": \"2020-05-15\", \"Grupo de edad\": \"40-49\", \"letalidad\": 0.0032253335288080927}, {\"fecha (a\\u00f1o-mes-d\\u00eda)\": \"2020-05-18\", \"Grupo de edad\": \"40-49\", \"letalidad\": 0.00352068401860933}, {\"fecha (a\\u00f1o-mes-d\\u00eda)\": \"2020-05-22\", \"Grupo de edad\": \"40-49\", \"letalidad\": 0.0030916245081506464}, {\"fecha (a\\u00f1o-mes-d\\u00eda)\": \"2020-05-25\", \"Grupo de edad\": \"40-49\", \"letalidad\": 0.003168959653733189}, {\"fecha (a\\u00f1o-mes-d\\u00eda)\": \"2020-05-29\", \"Grupo de edad\": \"40-49\", \"letalidad\": 0.002936482604532397}, {\"fecha (a\\u00f1o-mes-d\\u00eda)\": \"2020-06-01\", \"Grupo de edad\": \"40-49\", \"letalidad\": 0.0028099173553719006}, {\"fecha (a\\u00f1o-mes-d\\u00eda)\": \"2020-06-05\", \"Grupo de edad\": \"40-49\", \"letalidad\": 0.0029256323140807853}, {\"fecha (a\\u00f1o-mes-d\\u00eda)\": \"2020-06-08\", \"Grupo de edad\": \"40-49\", \"letalidad\": 0.003237186138202947}, {\"fecha (a\\u00f1o-mes-d\\u00eda)\": \"2020-06-12\", \"Grupo de edad\": \"40-49\", \"letalidad\": 0.0036013973421687613}, {\"fecha (a\\u00f1o-mes-d\\u00eda)\": \"2020-06-15\", \"Grupo de edad\": \"40-49\", \"letalidad\": 0.0035797213622291023}, {\"fecha (a\\u00f1o-mes-d\\u00eda)\": \"2020-06-19\", \"Grupo de edad\": \"40-49\", \"letalidad\": 0.0035292931330039327}, {\"fecha (a\\u00f1o-mes-d\\u00eda)\": \"2020-06-23\", \"Grupo de edad\": \"40-49\", \"letalidad\": 0.0034317089910775567}, {\"fecha (a\\u00f1o-mes-d\\u00eda)\": \"2020-06-28\", \"Grupo de edad\": \"40-49\", \"letalidad\": 0.003699700698370469}, {\"fecha (a\\u00f1o-mes-d\\u00eda)\": \"2020-07-01\", \"Grupo de edad\": \"40-49\", \"letalidad\": 0.0037267080745341614}, {\"fecha (a\\u00f1o-mes-d\\u00eda)\": \"2020-07-05\", \"Grupo de edad\": \"40-49\", \"letalidad\": 0.0037504972250108916}, {\"fecha (a\\u00f1o-mes-d\\u00eda)\": \"2020-04-09\", \"Grupo de edad\": \"50-59\", \"letalidad\": 0.0011074197120708748}, {\"fecha (a\\u00f1o-mes-d\\u00eda)\": \"2020-04-10\", \"Grupo de edad\": \"50-59\", \"letalidad\": 0.0020512820512820513}, {\"fecha (a\\u00f1o-mes-d\\u00eda)\": \"2020-04-11\", \"Grupo de edad\": \"50-59\", \"letalidad\": 0.0019569471624266144}, {\"fecha (a\\u00f1o-mes-d\\u00eda)\": \"2020-04-12\", \"Grupo de edad\": \"50-59\", \"letalidad\": 0.0028089887640449437}, {\"fecha (a\\u00f1o-mes-d\\u00eda)\": \"2020-04-13\", \"Grupo de edad\": \"50-59\", \"letalidad\": 0.0026455026455026454}, {\"fecha (a\\u00f1o-mes-d\\u00eda)\": \"2020-04-14\", \"Grupo de edad\": \"50-59\", \"letalidad\": 0.004262574595055414}, {\"fecha (a\\u00f1o-mes-d\\u00eda)\": \"2020-04-15\", \"Grupo de edad\": \"50-59\", \"letalidad\": 0.003996802557953637}, {\"fecha (a\\u00f1o-mes-d\\u00eda)\": \"2020-04-16\", \"Grupo de edad\": \"50-59\", \"letalidad\": 0.0044742729306487695}, {\"fecha (a\\u00f1o-mes-d\\u00eda)\": \"2020-04-17\", \"Grupo de edad\": \"50-59\", \"letalidad\": 0.005681818181818182}, {\"fecha (a\\u00f1o-mes-d\\u00eda)\": \"2020-04-18\", \"Grupo de edad\": \"50-59\", \"letalidad\": 0.005416384563303994}, {\"fecha (a\\u00f1o-mes-d\\u00eda)\": \"2020-04-19\", \"Grupo de edad\": \"50-59\", \"letalidad\": 0.005913272010512484}, {\"fecha (a\\u00f1o-mes-d\\u00eda)\": \"2020-04-20\", \"Grupo de edad\": \"50-59\", \"letalidad\": 0.006997455470737914}, {\"fecha (a\\u00f1o-mes-d\\u00eda)\": \"2020-04-21\", \"Grupo de edad\": \"50-59\", \"letalidad\": 0.008024691358024692}, {\"fecha (a\\u00f1o-mes-d\\u00eda)\": \"2020-04-22\", \"Grupo de edad\": \"50-59\", \"letalidad\": 0.008269344359125812}, {\"fecha (a\\u00f1o-mes-d\\u00eda)\": \"2020-04-23\", \"Grupo de edad\": \"50-59\", \"letalidad\": 0.00791407574901074}, {\"fecha (a\\u00f1o-mes-d\\u00eda)\": \"2020-04-24\", \"Grupo de edad\": \"50-59\", \"letalidad\": 0.007654455986878075}, {\"fecha (a\\u00f1o-mes-d\\u00eda)\": \"2020-04-25\", \"Grupo de edad\": \"50-59\", \"letalidad\": 0.007841087297438577}, {\"fecha (a\\u00f1o-mes-d\\u00eda)\": \"2020-04-26\", \"Grupo de edad\": \"50-59\", \"letalidad\": 0.007533902561526871}, {\"fecha (a\\u00f1o-mes-d\\u00eda)\": \"2020-04-27\", \"Grupo de edad\": \"50-59\", \"letalidad\": 0.007858546168958742}, {\"fecha (a\\u00f1o-mes-d\\u00eda)\": \"2020-04-28\", \"Grupo de edad\": \"50-59\", \"letalidad\": 0.007554296506137866}, {\"fecha (a\\u00f1o-mes-d\\u00eda)\": \"2020-05-01\", \"Grupo de edad\": \"50-59\", \"letalidad\": 0.007179896290386917}, {\"fecha (a\\u00f1o-mes-d\\u00eda)\": \"2020-05-02\", \"Grupo de edad\": \"50-59\", \"letalidad\": 0.006644518272425249}, {\"fecha (a\\u00f1o-mes-d\\u00eda)\": \"2020-05-04\", \"Grupo de edad\": \"50-59\", \"letalidad\": 0.006615944426066821}, {\"fecha (a\\u00f1o-mes-d\\u00eda)\": \"2020-05-06\", \"Grupo de edad\": \"50-59\", \"letalidad\": 0.005950609937518596}, {\"fecha (a\\u00f1o-mes-d\\u00eda)\": \"2020-05-08\", \"Grupo de edad\": \"50-59\", \"letalidad\": 0.005573248407643312}, {\"fecha (a\\u00f1o-mes-d\\u00eda)\": \"2020-05-11\", \"Grupo de edad\": \"50-59\", \"letalidad\": 0.005331478905887807}, {\"fecha (a\\u00f1o-mes-d\\u00eda)\": \"2020-05-15\", \"Grupo de edad\": \"50-59\", \"letalidad\": 0.005463517800493479}, {\"fecha (a\\u00f1o-mes-d\\u00eda)\": \"2020-05-18\", \"Grupo de edad\": \"50-59\", \"letalidad\": 0.006038647342995169}, {\"fecha (a\\u00f1o-mes-d\\u00eda)\": \"2020-05-22\", \"Grupo de edad\": \"50-59\", \"letalidad\": 0.006389072482925755}, {\"fecha (a\\u00f1o-mes-d\\u00eda)\": \"2020-05-25\", \"Grupo de edad\": \"50-59\", \"letalidad\": 0.006311745334796927}, {\"fecha (a\\u00f1o-mes-d\\u00eda)\": \"2020-05-29\", \"Grupo de edad\": \"50-59\", \"letalidad\": 0.0069500924214417744}, {\"fecha (a\\u00f1o-mes-d\\u00eda)\": \"2020-06-01\", \"Grupo de edad\": \"50-59\", \"letalidad\": 0.007207435038249984}, {\"fecha (a\\u00f1o-mes-d\\u00eda)\": \"2020-06-05\", \"Grupo de edad\": \"50-59\", \"letalidad\": 0.00819186203179736}, {\"fecha (a\\u00f1o-mes-d\\u00eda)\": \"2020-06-08\", \"Grupo de edad\": \"50-59\", \"letalidad\": 0.010318021201413428}, {\"fecha (a\\u00f1o-mes-d\\u00eda)\": \"2020-06-12\", \"Grupo de edad\": \"50-59\", \"letalidad\": 0.010785264178380998}, {\"fecha (a\\u00f1o-mes-d\\u00eda)\": \"2020-06-15\", \"Grupo de edad\": \"50-59\", \"letalidad\": 0.011586865841919498}, {\"fecha (a\\u00f1o-mes-d\\u00eda)\": \"2020-06-19\", \"Grupo de edad\": \"50-59\", \"letalidad\": 0.010933348095659877}, {\"fecha (a\\u00f1o-mes-d\\u00eda)\": \"2020-06-23\", \"Grupo de edad\": \"50-59\", \"letalidad\": 0.01086629944917376}, {\"fecha (a\\u00f1o-mes-d\\u00eda)\": \"2020-06-28\", \"Grupo de edad\": \"50-59\", \"letalidad\": 0.0121024614404659}, {\"fecha (a\\u00f1o-mes-d\\u00eda)\": \"2020-07-01\", \"Grupo de edad\": \"50-59\", \"letalidad\": 0.012179360802611115}, {\"fecha (a\\u00f1o-mes-d\\u00eda)\": \"2020-07-05\", \"Grupo de edad\": \"50-59\", \"letalidad\": 0.01276042204373232}, {\"fecha (a\\u00f1o-mes-d\\u00eda)\": \"2020-04-09\", \"Grupo de edad\": \"60-69\", \"letalidad\": 0.017928286852589643}, {\"fecha (a\\u00f1o-mes-d\\u00eda)\": \"2020-04-10\", \"Grupo de edad\": \"60-69\", \"letalidad\": 0.01838235294117647}, {\"fecha (a\\u00f1o-mes-d\\u00eda)\": \"2020-04-11\", \"Grupo de edad\": \"60-69\", \"letalidad\": 0.02054794520547945}, {\"fecha (a\\u00f1o-mes-d\\u00eda)\": \"2020-04-12\", \"Grupo de edad\": \"60-69\", \"letalidad\": 0.019639934533551555}, {\"fecha (a\\u00f1o-mes-d\\u00eda)\": \"2020-04-13\", \"Grupo de edad\": \"60-69\", \"letalidad\": 0.01866251944012442}, {\"fecha (a\\u00f1o-mes-d\\u00eda)\": \"2020-04-14\", \"Grupo de edad\": \"60-69\", \"letalidad\": 0.01749271137026239}, {\"fecha (a\\u00f1o-mes-d\\u00eda)\": \"2020-04-15\", \"Grupo de edad\": \"60-69\", \"letalidad\": 0.01652892561983471}, {\"fecha (a\\u00f1o-mes-d\\u00eda)\": \"2020-04-16\", \"Grupo de edad\": \"60-69\", \"letalidad\": 0.018276762402088774}, {\"fecha (a\\u00f1o-mes-d\\u00eda)\": \"2020-04-17\", \"Grupo de edad\": \"60-69\", \"letalidad\": 0.019536019536019536}, {\"fecha (a\\u00f1o-mes-d\\u00eda)\": \"2020-04-18\", \"Grupo de edad\": \"60-69\", \"letalidad\": 0.01990632318501171}, {\"fecha (a\\u00f1o-mes-d\\u00eda)\": \"2020-04-19\", \"Grupo de edad\": \"60-69\", \"letalidad\": 0.020618556701030927}, {\"fecha (a\\u00f1o-mes-d\\u00eda)\": \"2020-04-20\", \"Grupo de edad\": \"60-69\", \"letalidad\": 0.021087680355160933}, {\"fecha (a\\u00f1o-mes-d\\u00eda)\": \"2020-04-21\", \"Grupo de edad\": \"60-69\", \"letalidad\": 0.021436227224008574}, {\"fecha (a\\u00f1o-mes-d\\u00eda)\": \"2020-04-22\", \"Grupo de edad\": \"60-69\", \"letalidad\": 0.026776519052523172}, {\"fecha (a\\u00f1o-mes-d\\u00eda)\": \"2020-04-23\", \"Grupo de edad\": \"60-69\", \"letalidad\": 0.02753195673549656}, {\"fecha (a\\u00f1o-mes-d\\u00eda)\": \"2020-04-24\", \"Grupo de edad\": \"60-69\", \"letalidad\": 0.02862595419847328}, {\"fecha (a\\u00f1o-mes-d\\u00eda)\": \"2020-04-25\", \"Grupo de edad\": \"60-69\", \"letalidad\": 0.028624192059095107}, {\"fecha (a\\u00f1o-mes-d\\u00eda)\": \"2020-04-26\", \"Grupo de edad\": \"60-69\", \"letalidad\": 0.029596412556053813}, {\"fecha (a\\u00f1o-mes-d\\u00eda)\": \"2020-04-27\", \"Grupo de edad\": \"60-69\", \"letalidad\": 0.03027681660899654}, {\"fecha (a\\u00f1o-mes-d\\u00eda)\": \"2020-04-28\", \"Grupo de edad\": \"60-69\", \"letalidad\": 0.02902155887230514}, {\"fecha (a\\u00f1o-mes-d\\u00eda)\": \"2020-05-01\", \"Grupo de edad\": \"60-69\", \"letalidad\": 0.029560201874549386}, {\"fecha (a\\u00f1o-mes-d\\u00eda)\": \"2020-05-02\", \"Grupo de edad\": \"60-69\", \"letalidad\": 0.028609447771124417}, {\"fecha (a\\u00f1o-mes-d\\u00eda)\": \"2020-05-04\", \"Grupo de edad\": \"60-69\", \"letalidad\": 0.02738095238095238}, {\"fecha (a\\u00f1o-mes-d\\u00eda)\": \"2020-05-06\", \"Grupo de edad\": \"60-69\", \"letalidad\": 0.02521459227467811}, {\"fecha (a\\u00f1o-mes-d\\u00eda)\": \"2020-05-08\", \"Grupo de edad\": \"60-69\", \"letalidad\": 0.022918615528531337}, {\"fecha (a\\u00f1o-mes-d\\u00eda)\": \"2020-05-11\", \"Grupo de edad\": \"60-69\", \"letalidad\": 0.022672064777327937}, {\"fecha (a\\u00f1o-mes-d\\u00eda)\": \"2020-05-15\", \"Grupo de edad\": \"60-69\", \"letalidad\": 0.02037617554858934}, {\"fecha (a\\u00f1o-mes-d\\u00eda)\": \"2020-05-18\", \"Grupo de edad\": \"60-69\", \"letalidad\": 0.021878335112059766}, {\"fecha (a\\u00f1o-mes-d\\u00eda)\": \"2020-05-22\", \"Grupo de edad\": \"60-69\", \"letalidad\": 0.020944477376012644}, {\"fecha (a\\u00f1o-mes-d\\u00eda)\": \"2020-05-25\", \"Grupo de edad\": \"60-69\", \"letalidad\": 0.0212589270885235}, {\"fecha (a\\u00f1o-mes-d\\u00eda)\": \"2020-05-29\", \"Grupo de edad\": \"60-69\", \"letalidad\": 0.023020625415834998}, {\"fecha (a\\u00f1o-mes-d\\u00eda)\": \"2020-06-01\", \"Grupo de edad\": \"60-69\", \"letalidad\": 0.022634676324128564}, {\"fecha (a\\u00f1o-mes-d\\u00eda)\": \"2020-06-05\", \"Grupo de edad\": \"60-69\", \"letalidad\": 0.02611293120061669}, {\"fecha (a\\u00f1o-mes-d\\u00eda)\": \"2020-06-08\", \"Grupo de edad\": \"60-69\", \"letalidad\": 0.035437710437710435}, {\"fecha (a\\u00f1o-mes-d\\u00eda)\": \"2020-06-12\", \"Grupo de edad\": \"60-69\", \"letalidad\": 0.039754478623938334}, {\"fecha (a\\u00f1o-mes-d\\u00eda)\": \"2020-06-15\", \"Grupo de edad\": \"60-69\", \"letalidad\": 0.042395437262357415}, {\"fecha (a\\u00f1o-mes-d\\u00eda)\": \"2020-06-19\", \"Grupo de edad\": \"60-69\", \"letalidad\": 0.04182716049382716}, {\"fecha (a\\u00f1o-mes-d\\u00eda)\": \"2020-06-23\", \"Grupo de edad\": \"60-69\", \"letalidad\": 0.04194683172284811}, {\"fecha (a\\u00f1o-mes-d\\u00eda)\": \"2020-06-28\", \"Grupo de edad\": \"60-69\", \"letalidad\": 0.046716917247772986}, {\"fecha (a\\u00f1o-mes-d\\u00eda)\": \"2020-07-01\", \"Grupo de edad\": \"60-69\", \"letalidad\": 0.04663673658951931}, {\"fecha (a\\u00f1o-mes-d\\u00eda)\": \"2020-07-05\", \"Grupo de edad\": \"60-69\", \"letalidad\": 0.04865002547121752}, {\"fecha (a\\u00f1o-mes-d\\u00eda)\": \"2020-04-09\", \"Grupo de edad\": \"70-79\", \"letalidad\": 0.07394366197183098}, {\"fecha (a\\u00f1o-mes-d\\u00eda)\": \"2020-04-10\", \"Grupo de edad\": \"70-79\", \"letalidad\": 0.07119741100323625}, {\"fecha (a\\u00f1o-mes-d\\u00eda)\": \"2020-04-11\", \"Grupo de edad\": \"70-79\", \"letalidad\": 0.07317073170731707}, {\"fecha (a\\u00f1o-mes-d\\u00eda)\": \"2020-04-12\", \"Grupo de edad\": \"70-79\", \"letalidad\": 0.08163265306122448}, {\"fecha (a\\u00f1o-mes-d\\u00eda)\": \"2020-04-13\", \"Grupo de edad\": \"70-79\", \"letalidad\": 0.08262108262108261}, {\"fecha (a\\u00f1o-mes-d\\u00eda)\": \"2020-04-14\", \"Grupo de edad\": \"70-79\", \"letalidad\": 0.08196721311475409}, {\"fecha (a\\u00f1o-mes-d\\u00eda)\": \"2020-04-15\", \"Grupo de edad\": \"70-79\", \"letalidad\": 0.07828282828282829}, {\"fecha (a\\u00f1o-mes-d\\u00eda)\": \"2020-04-16\", \"Grupo de edad\": \"70-79\", \"letalidad\": 0.07582938388625593}, {\"fecha (a\\u00f1o-mes-d\\u00eda)\": \"2020-04-17\", \"Grupo de edad\": \"70-79\", \"letalidad\": 0.07982261640798226}, {\"fecha (a\\u00f1o-mes-d\\u00eda)\": \"2020-04-18\", \"Grupo de edad\": \"70-79\", \"letalidad\": 0.08125}, {\"fecha (a\\u00f1o-mes-d\\u00eda)\": \"2020-04-19\", \"Grupo de edad\": \"70-79\", \"letalidad\": 0.08249496981891348}, {\"fecha (a\\u00f1o-mes-d\\u00eda)\": \"2020-04-20\", \"Grupo de edad\": \"70-79\", \"letalidad\": 0.08155339805825243}, {\"fecha (a\\u00f1o-mes-d\\u00eda)\": \"2020-04-21\", \"Grupo de edad\": \"70-79\", \"letalidad\": 0.08143939393939394}, {\"fecha (a\\u00f1o-mes-d\\u00eda)\": \"2020-04-22\", \"Grupo de edad\": \"70-79\", \"letalidad\": 0.08639705882352941}, {\"fecha (a\\u00f1o-mes-d\\u00eda)\": \"2020-04-23\", \"Grupo de edad\": \"70-79\", \"letalidad\": 0.0855614973262032}, {\"fecha (a\\u00f1o-mes-d\\u00eda)\": \"2020-04-24\", \"Grupo de edad\": \"70-79\", \"letalidad\": 0.08566433566433566}, {\"fecha (a\\u00f1o-mes-d\\u00eda)\": \"2020-04-25\", \"Grupo de edad\": \"70-79\", \"letalidad\": 0.08445945945945946}, {\"fecha (a\\u00f1o-mes-d\\u00eda)\": \"2020-04-26\", \"Grupo de edad\": \"70-79\", \"letalidad\": 0.08441558441558442}, {\"fecha (a\\u00f1o-mes-d\\u00eda)\": \"2020-04-27\", \"Grupo de edad\": \"70-79\", \"letalidad\": 0.09090909090909091}, {\"fecha (a\\u00f1o-mes-d\\u00eda)\": \"2020-04-28\", \"Grupo de edad\": \"70-79\", \"letalidad\": 0.09036144578313253}, {\"fecha (a\\u00f1o-mes-d\\u00eda)\": \"2020-05-01\", \"Grupo de edad\": \"70-79\", \"letalidad\": 0.09115281501340483}, {\"fecha (a\\u00f1o-mes-d\\u00eda)\": \"2020-05-02\", \"Grupo de edad\": \"70-79\", \"letalidad\": 0.09148665819567979}, {\"fecha (a\\u00f1o-mes-d\\u00eda)\": \"2020-05-04\", \"Grupo de edad\": \"70-79\", \"letalidad\": 0.08665906499429875}, {\"fecha (a\\u00f1o-mes-d\\u00eda)\": \"2020-05-06\", \"Grupo de edad\": \"70-79\", \"letalidad\": 0.07983193277310924}, {\"fecha (a\\u00f1o-mes-d\\u00eda)\": \"2020-05-08\", \"Grupo de edad\": \"70-79\", \"letalidad\": 0.07604562737642585}, {\"fecha (a\\u00f1o-mes-d\\u00eda)\": \"2020-05-11\", \"Grupo de edad\": \"70-79\", \"letalidad\": 0.07367549668874172}, {\"fecha (a\\u00f1o-mes-d\\u00eda)\": \"2020-05-15\", \"Grupo de edad\": \"70-79\", \"letalidad\": 0.07138221933809215}, {\"fecha (a\\u00f1o-mes-d\\u00eda)\": \"2020-05-18\", \"Grupo de edad\": \"70-79\", \"letalidad\": 0.07450980392156863}, {\"fecha (a\\u00f1o-mes-d\\u00eda)\": \"2020-05-22\", \"Grupo de edad\": \"70-79\", \"letalidad\": 0.07715008431703205}, {\"fecha (a\\u00f1o-mes-d\\u00eda)\": \"2020-05-25\", \"Grupo de edad\": \"70-79\", \"letalidad\": 0.07973068745570518}, {\"fecha (a\\u00f1o-mes-d\\u00eda)\": \"2020-05-29\", \"Grupo de edad\": \"70-79\", \"letalidad\": 0.0786358511837655}, {\"fecha (a\\u00f1o-mes-d\\u00eda)\": \"2020-06-01\", \"Grupo de edad\": \"70-79\", \"letalidad\": 0.07672393504353965}, {\"fecha (a\\u00f1o-mes-d\\u00eda)\": \"2020-06-05\", \"Grupo de edad\": \"70-79\", \"letalidad\": 0.0858334989072124}, {\"fecha (a\\u00f1o-mes-d\\u00eda)\": \"2020-06-08\", \"Grupo de edad\": \"70-79\", \"letalidad\": 0.11817709235834344}, {\"fecha (a\\u00f1o-mes-d\\u00eda)\": \"2020-06-12\", \"Grupo de edad\": \"70-79\", \"letalidad\": 0.1277281382744983}, {\"fecha (a\\u00f1o-mes-d\\u00eda)\": \"2020-06-15\", \"Grupo de edad\": \"70-79\", \"letalidad\": 0.13118779888845805}, {\"fecha (a\\u00f1o-mes-d\\u00eda)\": \"2020-06-19\", \"Grupo de edad\": \"70-79\", \"letalidad\": 0.12337203432609793}, {\"fecha (a\\u00f1o-mes-d\\u00eda)\": \"2020-06-23\", \"Grupo de edad\": \"70-79\", \"letalidad\": 0.123054385643655}, {\"fecha (a\\u00f1o-mes-d\\u00eda)\": \"2020-06-28\", \"Grupo de edad\": \"70-79\", \"letalidad\": 0.13325598740366287}, {\"fecha (a\\u00f1o-mes-d\\u00eda)\": \"2020-07-01\", \"Grupo de edad\": \"70-79\", \"letalidad\": 0.13284103541368905}, {\"fecha (a\\u00f1o-mes-d\\u00eda)\": \"2020-07-05\", \"Grupo de edad\": \"70-79\", \"letalidad\": 0.13592814371257486}, {\"fecha (a\\u00f1o-mes-d\\u00eda)\": \"2020-04-09\", \"Grupo de edad\": \">=80\", \"letalidad\": 0.17557251908396945}, {\"fecha (a\\u00f1o-mes-d\\u00eda)\": \"2020-04-10\", \"Grupo de edad\": \">=80\", \"letalidad\": 0.17647058823529413}, {\"fecha (a\\u00f1o-mes-d\\u00eda)\": \"2020-04-11\", \"Grupo de edad\": \">=80\", \"letalidad\": 0.17751479289940827}, {\"fecha (a\\u00f1o-mes-d\\u00eda)\": \"2020-04-12\", \"Grupo de edad\": \">=80\", \"letalidad\": 0.1787709497206704}, {\"fecha (a\\u00f1o-mes-d\\u00eda)\": \"2020-04-13\", \"Grupo de edad\": \">=80\", \"letalidad\": 0.17647058823529413}, {\"fecha (a\\u00f1o-mes-d\\u00eda)\": \"2020-04-14\", \"Grupo de edad\": \">=80\", \"letalidad\": 0.20304568527918782}, {\"fecha (a\\u00f1o-mes-d\\u00eda)\": \"2020-04-15\", \"Grupo de edad\": \">=80\", \"letalidad\": 0.19617224880382775}, {\"fecha (a\\u00f1o-mes-d\\u00eda)\": \"2020-04-16\", \"Grupo de edad\": \">=80\", \"letalidad\": 0.2171945701357466}, {\"fecha (a\\u00f1o-mes-d\\u00eda)\": \"2020-04-17\", \"Grupo de edad\": \">=80\", \"letalidad\": 0.21008403361344538}, {\"fecha (a\\u00f1o-mes-d\\u00eda)\": \"2020-04-18\", \"Grupo de edad\": \">=80\", \"letalidad\": 0.22134387351778656}, {\"fecha (a\\u00f1o-mes-d\\u00eda)\": \"2020-04-19\", \"Grupo de edad\": \">=80\", \"letalidad\": 0.2177121771217712}, {\"fecha (a\\u00f1o-mes-d\\u00eda)\": \"2020-04-20\", \"Grupo de edad\": \">=80\", \"letalidad\": 0.2147887323943662}, {\"fecha (a\\u00f1o-mes-d\\u00eda)\": \"2020-04-21\", \"Grupo de edad\": \">=80\", \"letalidad\": 0.2222222222222222}, {\"fecha (a\\u00f1o-mes-d\\u00eda)\": \"2020-04-22\", \"Grupo de edad\": \">=80\", \"letalidad\": 0.21710526315789475}, {\"fecha (a\\u00f1o-mes-d\\u00eda)\": \"2020-04-23\", \"Grupo de edad\": \">=80\", \"letalidad\": 0.21875}, {\"fecha (a\\u00f1o-mes-d\\u00eda)\": \"2020-04-24\", \"Grupo de edad\": \">=80\", \"letalidad\": 0.22085889570552147}, {\"fecha (a\\u00f1o-mes-d\\u00eda)\": \"2020-04-25\", \"Grupo de edad\": \">=80\", \"letalidad\": 0.21159420289855072}, {\"fecha (a\\u00f1o-mes-d\\u00eda)\": \"2020-04-26\", \"Grupo de edad\": \">=80\", \"letalidad\": 0.20596205962059622}, {\"fecha (a\\u00f1o-mes-d\\u00eda)\": \"2020-04-27\", \"Grupo de edad\": \">=80\", \"letalidad\": 0.19896640826873385}, {\"fecha (a\\u00f1o-mes-d\\u00eda)\": \"2020-04-28\", \"Grupo de edad\": \">=80\", \"letalidad\": 0.1957040572792363}, {\"fecha (a\\u00f1o-mes-d\\u00eda)\": \"2020-05-01\", \"Grupo de edad\": \">=80\", \"letalidad\": 0.18609406952965235}, {\"fecha (a\\u00f1o-mes-d\\u00eda)\": \"2020-05-02\", \"Grupo de edad\": \">=80\", \"letalidad\": 0.1917808219178082}, {\"fecha (a\\u00f1o-mes-d\\u00eda)\": \"2020-05-04\", \"Grupo de edad\": \">=80\", \"letalidad\": 0.19400352733686066}, {\"fecha (a\\u00f1o-mes-d\\u00eda)\": \"2020-05-06\", \"Grupo de edad\": \">=80\", \"letalidad\": 0.19131832797427653}, {\"fecha (a\\u00f1o-mes-d\\u00eda)\": \"2020-05-08\", \"Grupo de edad\": \">=80\", \"letalidad\": 0.17877906976744187}, {\"fecha (a\\u00f1o-mes-d\\u00eda)\": \"2020-05-11\", \"Grupo de edad\": \">=80\", \"letalidad\": 0.16730038022813687}, {\"fecha (a\\u00f1o-mes-d\\u00eda)\": \"2020-05-15\", \"Grupo de edad\": \">=80\", \"letalidad\": 0.15934627170582227}, {\"fecha (a\\u00f1o-mes-d\\u00eda)\": \"2020-05-18\", \"Grupo de edad\": \">=80\", \"letalidad\": 0.16696750902527077}, {\"fecha (a\\u00f1o-mes-d\\u00eda)\": \"2020-05-22\", \"Grupo de edad\": \">=80\", \"letalidad\": 0.1674911660777385}, {\"fecha (a\\u00f1o-mes-d\\u00eda)\": \"2020-05-25\", \"Grupo de edad\": \">=80\", \"letalidad\": 0.16666666666666666}, {\"fecha (a\\u00f1o-mes-d\\u00eda)\": \"2020-05-29\", \"Grupo de edad\": \">=80\", \"letalidad\": 0.1559718969555035}, {\"fecha (a\\u00f1o-mes-d\\u00eda)\": \"2020-06-01\", \"Grupo de edad\": \">=80\", \"letalidad\": 0.15558194774346792}, {\"fecha (a\\u00f1o-mes-d\\u00eda)\": \"2020-06-05\", \"Grupo de edad\": \">=80\", \"letalidad\": 0.16666666666666666}, {\"fecha (a\\u00f1o-mes-d\\u00eda)\": \"2020-06-08\", \"Grupo de edad\": \">=80\", \"letalidad\": 0.23467600700525393}, {\"fecha (a\\u00f1o-mes-d\\u00eda)\": \"2020-06-12\", \"Grupo de edad\": \">=80\", \"letalidad\": 0.23935915829746532}, {\"fecha (a\\u00f1o-mes-d\\u00eda)\": \"2020-06-15\", \"Grupo de edad\": \">=80\", \"letalidad\": 0.2456512515910055}, {\"fecha (a\\u00f1o-mes-d\\u00eda)\": \"2020-06-19\", \"Grupo de edad\": \">=80\", \"letalidad\": 0.22873996395215468}, {\"fecha (a\\u00f1o-mes-d\\u00eda)\": \"2020-06-23\", \"Grupo de edad\": \">=80\", \"letalidad\": 0.22589653145208702}, {\"fecha (a\\u00f1o-mes-d\\u00eda)\": \"2020-06-28\", \"Grupo de edad\": \">=80\", \"letalidad\": 0.2538441145281018}, {\"fecha (a\\u00f1o-mes-d\\u00eda)\": \"2020-07-01\", \"Grupo de edad\": \">=80\", \"letalidad\": 0.2566585956416465}, {\"fecha (a\\u00f1o-mes-d\\u00eda)\": \"2020-07-05\", \"Grupo de edad\": \">=80\", \"letalidad\": 0.26574519230769234}]}}, {\"mode\": \"vega-lite\"});\n",
       "</script>"
      ],
      "text/plain": [
       "alt.HConcatChart(...)"
      ]
     },
     "execution_count": 131,
     "metadata": {},
     "output_type": "execute_result"
    }
   ],
   "source": [
    "#hide\n",
    "label = alt.selection_single(\n",
    "    encodings=['x'], # limit selection to x-axis value\n",
    "    on='mouseover',  # select on mouseover events\n",
    "    nearest=True,    # select data point nearest the cursor\n",
    "    empty='none'     # empty selection includes no data points\n",
    ")\n",
    "\n",
    "input_dropdown = alt.binding_select(options=letalidad['Grupo de edad'].unique())\n",
    "selection1 = alt.selection_single(fields=['Grupo de edad'], bind=input_dropdown, name=' ')\n",
    "selection2 = alt.selection_multi(fields=['Grupo de edad'], on='mouseover')\n",
    "\n",
    "color = alt.condition(selection1 | selection2,\n",
    "                    alt.Color('Grupo de edad:N', scale=alt.Scale(scheme='tableau10'), legend=None),\n",
    "                    alt.value('lightgray'))\n",
    "\n",
    "\n",
    "base = alt.Chart(letalidad).mark_line().encode(\n",
    "    x = 'fecha (año-mes-día):N',\n",
    "    y = alt.Y('letalidad:Q', sort=['<=39', '40-49', '50-59', '60-69', '70-79', '>=80'], axis=alt.Axis(format='%')),\n",
    "    color = color,\n",
    "    tooltip = ['fecha (año-mes-día)', 'Grupo de edad', 'letalidad'],\n",
    ").add_selection(\n",
    "    label, selection1, selection2\n",
    ").transform_filter(\n",
    "    selection1\n",
    ")\n",
    "\n",
    "chart = alt.layer(\n",
    "    base, # base line chart\n",
    "    \n",
    "    # add a rule mark to serve as a guide line\n",
    "    alt.Chart().mark_rule(color='#aaa').encode(\n",
    "        x = alt.X('fecha (año-mes-día):N', axis=alt.Axis(title='fecha (año-mes-día):N'), sort=None)\n",
    "    ).transform_filter(label),\n",
    "    \n",
    "    # add circle marks for selected time points, hide unselected points\n",
    "    base.mark_circle().encode(\n",
    "        opacity=alt.condition(label, alt.value(1), alt.value(0))\n",
    "    ).add_selection(label),\n",
    "    \n",
    "    # add white stroked text to provide a legible background for labels\n",
    "    base.mark_text(align='left', dx=5, dy=-5, stroke='white', strokeWidth=2).encode(\n",
    "        text='letalidad:Q'\n",
    "    ).transform_filter(label),\n",
    "    \n",
    "    # add text labels for stock prices\n",
    "    base.mark_text(align='left', dx=5, dy=-5).encode(\n",
    "        text='letalidad:Q'\n",
    "    ).transform_filter(label),\n",
    "    \n",
    "    data=letalidad\n",
    ")\n",
    "\n",
    "legend = alt.Chart(letalidad).mark_point().encode(\n",
    "    y=alt.Y('Grupo de edad', axis=alt.Axis(orient='right'), sort=['>=80','70-79','60-69','50-59','40-49','<=39']),\n",
    "    color=color\n",
    ").add_selection(\n",
    "    selection1, selection2\n",
    ")\n",
    "\n",
    "chart.properties(\n",
    "    title = 'COVID-19 en Chile: Evolución de la letalidad por rango de edad',\n",
    "    width = 600\n",
    ") | legend"
   ]
  },
  {
   "cell_type": "code",
   "execution_count": 132,
   "metadata": {},
   "outputs": [
    {
     "data": {
      "text/html": [
       "\n",
       "<div id=\"altair-viz-5aaed0219550490c976eef8594088c65\"></div>\n",
       "<script type=\"text/javascript\">\n",
       "  (function(spec, embedOpt){\n",
       "    let outputDiv = document.currentScript.previousElementSibling;\n",
       "    if (outputDiv.id !== \"altair-viz-5aaed0219550490c976eef8594088c65\") {\n",
       "      outputDiv = document.getElementById(\"altair-viz-5aaed0219550490c976eef8594088c65\");\n",
       "    }\n",
       "    const paths = {\n",
       "      \"vega\": \"https://cdn.jsdelivr.net/npm//vega@5?noext\",\n",
       "      \"vega-lib\": \"https://cdn.jsdelivr.net/npm//vega-lib?noext\",\n",
       "      \"vega-lite\": \"https://cdn.jsdelivr.net/npm//vega-lite@4.8.1?noext\",\n",
       "      \"vega-embed\": \"https://cdn.jsdelivr.net/npm//vega-embed@6?noext\",\n",
       "    };\n",
       "\n",
       "    function loadScript(lib) {\n",
       "      return new Promise(function(resolve, reject) {\n",
       "        var s = document.createElement('script');\n",
       "        s.src = paths[lib];\n",
       "        s.async = true;\n",
       "        s.onload = () => resolve(paths[lib]);\n",
       "        s.onerror = () => reject(`Error loading script: ${paths[lib]}`);\n",
       "        document.getElementsByTagName(\"head\")[0].appendChild(s);\n",
       "      });\n",
       "    }\n",
       "\n",
       "    function showError(err) {\n",
       "      outputDiv.innerHTML = `<div class=\"error\" style=\"color:red;\">${err}</div>`;\n",
       "      throw err;\n",
       "    }\n",
       "\n",
       "    function displayChart(vegaEmbed) {\n",
       "      vegaEmbed(outputDiv, spec, embedOpt)\n",
       "        .catch(err => showError(`Javascript Error: ${err.message}<br>This usually means there's a typo in your chart specification. See the javascript console for the full traceback.`));\n",
       "    }\n",
       "\n",
       "    if(typeof define === \"function\" && define.amd) {\n",
       "      requirejs.config({paths});\n",
       "      require([\"vega-embed\"], displayChart, err => showError(`Error loading script: ${err.message}`));\n",
       "    } else if (typeof vegaEmbed === \"function\") {\n",
       "      displayChart(vegaEmbed);\n",
       "    } else {\n",
       "      loadScript(\"vega\")\n",
       "        .then(() => loadScript(\"vega-lite\"))\n",
       "        .then(() => loadScript(\"vega-embed\"))\n",
       "        .catch(showError)\n",
       "        .then(() => displayChart(vegaEmbed));\n",
       "    }\n",
       "  })({\"config\": {\"view\": {\"continuousWidth\": 400, \"continuousHeight\": 300}}, \"hconcat\": [{\"layer\": [{\"mark\": {\"type\": \"line\", \"point\": true}, \"encoding\": {\"color\": {\"type\": \"nominal\", \"field\": \"Grupo de edad\", \"legend\": null, \"scale\": {\"scheme\": \"tableau10\"}}, \"x\": {\"type\": \"nominal\", \"field\": \"fecha (a\\u00f1o-mes-d\\u00eda)\"}, \"y\": {\"type\": \"quantitative\", \"axis\": {\"format\": \"%\"}, \"field\": \"letalidad\", \"sort\": [\"<=39\", \"40-49\", \"50-59\", \"60-69\", \"70-79\", \">=80\"]}}}, {\"mark\": {\"type\": \"rule\", \"color\": \"#aaa\"}, \"encoding\": {\"x\": {\"type\": \"nominal\", \"axis\": {\"title\": \"fecha (a\\u00f1o-mes-d\\u00eda)\"}, \"field\": \"fecha (a\\u00f1o-mes-d\\u00eda)\", \"sort\": null}}, \"transform\": [{\"filter\": {\"selection\": \"selector009\"}}]}, {\"mark\": \"circle\", \"encoding\": {\"color\": {\"type\": \"nominal\", \"field\": \"Grupo de edad\", \"legend\": null, \"scale\": {\"scheme\": \"tableau10\"}}, \"opacity\": {\"condition\": {\"value\": 1, \"selection\": \"selector009\"}, \"value\": 0}, \"x\": {\"type\": \"nominal\", \"field\": \"fecha (a\\u00f1o-mes-d\\u00eda)\"}, \"y\": {\"type\": \"quantitative\", \"axis\": {\"format\": \"%\"}, \"field\": \"letalidad\", \"sort\": [\"<=39\", \"40-49\", \"50-59\", \"60-69\", \"70-79\", \">=80\"]}}, \"selection\": {\"selector009\": {\"type\": \"single\", \"encodings\": [\"x\"], \"on\": \"mouseover\", \"nearest\": true, \"empty\": \"none\"}}}, {\"mark\": {\"type\": \"text\", \"align\": \"left\", \"dx\": 5, \"dy\": -5, \"stroke\": \"white\", \"strokeWidth\": 2}, \"encoding\": {\"color\": {\"type\": \"nominal\", \"field\": \"Grupo de edad\", \"legend\": null, \"scale\": {\"scheme\": \"tableau10\"}}, \"text\": {\"type\": \"quantitative\", \"field\": \"letalidad\"}, \"x\": {\"type\": \"nominal\", \"field\": \"fecha (a\\u00f1o-mes-d\\u00eda)\"}, \"y\": {\"type\": \"quantitative\", \"axis\": {\"format\": \"%\"}, \"field\": \"letalidad\", \"sort\": [\"<=39\", \"40-49\", \"50-59\", \"60-69\", \"70-79\", \">=80\"]}}, \"transform\": [{\"filter\": {\"selection\": \"selector009\"}}]}, {\"mark\": {\"type\": \"text\", \"align\": \"left\", \"dx\": 5, \"dy\": -5}, \"encoding\": {\"color\": {\"type\": \"nominal\", \"field\": \"Grupo de edad\", \"legend\": null, \"scale\": {\"scheme\": \"tableau10\"}}, \"text\": {\"type\": \"quantitative\", \"field\": \"letalidad\"}, \"x\": {\"type\": \"nominal\", \"field\": \"fecha (a\\u00f1o-mes-d\\u00eda)\"}, \"y\": {\"type\": \"quantitative\", \"axis\": {\"format\": \"%\"}, \"field\": \"letalidad\", \"sort\": [\"<=39\", \"40-49\", \"50-59\", \"60-69\", \"70-79\", \">=80\"]}}, \"transform\": [{\"filter\": {\"selection\": \"selector009\"}}]}], \"title\": \"COVID-19 en Chile: Evoluci\\u00f3n de la letalidad por rango de edad\", \"width\": 600}, {\"mark\": \"point\", \"encoding\": {\"color\": {\"type\": \"nominal\", \"field\": \"Grupo de edad\", \"legend\": null, \"scale\": {\"scheme\": \"tableau10\"}}, \"y\": {\"type\": \"nominal\", \"axis\": {\"orient\": \"right\"}, \"field\": \"Grupo de edad\", \"sort\": [\">=80\", \"70-79\", \"60-69\", \"50-59\", \"40-49\", \"<=39\"]}}}], \"data\": {\"name\": \"data-22562b812962786344652f343d63ae09\"}, \"$schema\": \"https://vega.github.io/schema/vega-lite/v4.8.1.json\", \"datasets\": {\"data-22562b812962786344652f343d63ae09\": [{\"fecha (a\\u00f1o-mes-d\\u00eda)\": \"2020-04-09\", \"Grupo de edad\": \"<=39\", \"letalidad\": 0.0007049700387733521}, {\"fecha (a\\u00f1o-mes-d\\u00eda)\": \"2020-04-10\", \"Grupo de edad\": \"<=39\", \"letalidad\": 0.0006485084306095979}, {\"fecha (a\\u00f1o-mes-d\\u00eda)\": \"2020-04-11\", \"Grupo de edad\": \"<=39\", \"letalidad\": 0.0009085402786190188}, {\"fecha (a\\u00f1o-mes-d\\u00eda)\": \"2020-04-12\", \"Grupo de edad\": \"<=39\", \"letalidad\": 0.0008685581933989577}, {\"fecha (a\\u00f1o-mes-d\\u00eda)\": \"2020-04-13\", \"Grupo de edad\": \"<=39\", \"letalidad\": 0.0008228195282501371}, {\"fecha (a\\u00f1o-mes-d\\u00eda)\": \"2020-04-14\", \"Grupo de edad\": \"<=39\", \"letalidad\": 0.0007882291119285339}, {\"fecha (a\\u00f1o-mes-d\\u00eda)\": \"2020-04-15\", \"Grupo de edad\": \"<=39\", \"letalidad\": 0.0007403751233958539}, {\"fecha (a\\u00f1o-mes-d\\u00eda)\": \"2020-04-16\", \"Grupo de edad\": \"<=39\", \"letalidad\": 0.0006967022758941013}, {\"fecha (a\\u00f1o-mes-d\\u00eda)\": \"2020-04-17\", \"Grupo de edad\": \"<=39\", \"letalidad\": 0.0008781558726673985}, {\"fecha (a\\u00f1o-mes-d\\u00eda)\": \"2020-04-18\", \"Grupo de edad\": \"<=39\", \"letalidad\": 0.0008314279775514446}, {\"fecha (a\\u00f1o-mes-d\\u00eda)\": \"2020-04-19\", \"Grupo de edad\": \"<=39\", \"letalidad\": 0.0008001600320064013}, {\"fecha (a\\u00f1o-mes-d\\u00eda)\": \"2020-04-20\", \"Grupo de edad\": \"<=39\", \"letalidad\": 0.0007692307692307692}, {\"fecha (a\\u00f1o-mes-d\\u00eda)\": \"2020-04-21\", \"Grupo de edad\": \"<=39\", \"letalidad\": 0.0009201324990798675}, {\"fecha (a\\u00f1o-mes-d\\u00eda)\": \"2020-04-22\", \"Grupo de edad\": \"<=39\", \"letalidad\": 0.0008799718409010912}, {\"fecha (a\\u00f1o-mes-d\\u00eda)\": \"2020-04-23\", \"Grupo de edad\": \"<=39\", \"letalidad\": 0.0008401949252226517}, {\"fecha (a\\u00f1o-mes-d\\u00eda)\": \"2020-04-24\", \"Grupo de edad\": \"<=39\", \"letalidad\": 0.0008093234056328909}, {\"fecha (a\\u00f1o-mes-d\\u00eda)\": \"2020-04-25\", \"Grupo de edad\": \"<=39\", \"letalidad\": 0.0009237875288683603}, {\"fecha (a\\u00f1o-mes-d\\u00eda)\": \"2020-04-26\", \"Grupo de edad\": \"<=39\", \"letalidad\": 0.0008860011813349084}, {\"fecha (a\\u00f1o-mes-d\\u00eda)\": \"2020-04-27\", \"Grupo de edad\": \"<=39\", \"letalidad\": 0.0008564087924636027}, {\"fecha (a\\u00f1o-mes-d\\u00eda)\": \"2020-04-28\", \"Grupo de edad\": \"<=39\", \"letalidad\": 0.0008154389779831476}, {\"fecha (a\\u00f1o-mes-d\\u00eda)\": \"2020-05-01\", \"Grupo de edad\": \"<=39\", \"letalidad\": 0.0006786562606040041}, {\"fecha (a\\u00f1o-mes-d\\u00eda)\": \"2020-05-02\", \"Grupo de edad\": \"<=39\", \"letalidad\": 0.0006226650062266501}, {\"fecha (a\\u00f1o-mes-d\\u00eda)\": \"2020-05-04\", \"Grupo de edad\": \"<=39\", \"letalidad\": 0.000555812876331635}, {\"fecha (a\\u00f1o-mes-d\\u00eda)\": \"2020-05-06\", \"Grupo de edad\": \"<=39\", \"letalidad\": 0.0004924895345973898}, {\"fecha (a\\u00f1o-mes-d\\u00eda)\": \"2020-05-08\", \"Grupo de edad\": \"<=39\", \"letalidad\": 0.0005090909090909091}, {\"fecha (a\\u00f1o-mes-d\\u00eda)\": \"2020-05-11\", \"Grupo de edad\": \"<=39\", \"letalidad\": 0.00043621860783947156}, {\"fecha (a\\u00f1o-mes-d\\u00eda)\": \"2020-05-15\", \"Grupo de edad\": \"<=39\", \"letalidad\": 0.00046935135642542006}, {\"fecha (a\\u00f1o-mes-d\\u00eda)\": \"2020-05-18\", \"Grupo de edad\": \"<=39\", \"letalidad\": 0.0004027386226339106}, {\"fecha (a\\u00f1o-mes-d\\u00eda)\": \"2020-05-22\", \"Grupo de edad\": \"<=39\", \"letalidad\": 0.0003910009624639076}, {\"fecha (a\\u00f1o-mes-d\\u00eda)\": \"2020-05-25\", \"Grupo de edad\": \"<=39\", \"letalidad\": 0.0004041424602172266}, {\"fecha (a\\u00f1o-mes-d\\u00eda)\": \"2020-05-29\", \"Grupo de edad\": \"<=39\", \"letalidad\": 0.0003938150312979314}, {\"fecha (a\\u00f1o-mes-d\\u00eda)\": \"2020-06-01\", \"Grupo de edad\": \"<=39\", \"letalidad\": 0.0005217798089206354}, {\"fecha (a\\u00f1o-mes-d\\u00eda)\": \"2020-06-05\", \"Grupo de edad\": \"<=39\", \"letalidad\": 0.0005592928053194961}, {\"fecha (a\\u00f1o-mes-d\\u00eda)\": \"2020-06-08\", \"Grupo de edad\": \"<=39\", \"letalidad\": 0.0008282145075574574}, {\"fecha (a\\u00f1o-mes-d\\u00eda)\": \"2020-06-12\", \"Grupo de edad\": \"<=39\", \"letalidad\": 0.0008763821025967322}, {\"fecha (a\\u00f1o-mes-d\\u00eda)\": \"2020-06-15\", \"Grupo de edad\": \"<=39\", \"letalidad\": 0.0009116363873152308}, {\"fecha (a\\u00f1o-mes-d\\u00eda)\": \"2020-06-19\", \"Grupo de edad\": \"<=39\", \"letalidad\": 0.0007795604285067646}, {\"fecha (a\\u00f1o-mes-d\\u00eda)\": \"2020-06-23\", \"Grupo de edad\": \"<=39\", \"letalidad\": 0.0007450884982665288}, {\"fecha (a\\u00f1o-mes-d\\u00eda)\": \"2020-06-28\", \"Grupo de edad\": \"<=39\", \"letalidad\": 0.0008070746647536008}, {\"fecha (a\\u00f1o-mes-d\\u00eda)\": \"2020-07-01\", \"Grupo de edad\": \"<=39\", \"letalidad\": 0.0007914970601537765}, {\"fecha (a\\u00f1o-mes-d\\u00eda)\": \"2020-07-05\", \"Grupo de edad\": \"<=39\", \"letalidad\": 0.0008051833679310562}, {\"fecha (a\\u00f1o-mes-d\\u00eda)\": \"2020-04-09\", \"Grupo de edad\": \"40-49\", \"letalidad\": 0.0008673026886383347}, {\"fecha (a\\u00f1o-mes-d\\u00eda)\": \"2020-04-10\", \"Grupo de edad\": \"40-49\", \"letalidad\": 0.0016299918500407497}, {\"fecha (a\\u00f1o-mes-d\\u00eda)\": \"2020-04-11\", \"Grupo de edad\": \"40-49\", \"letalidad\": 0.0015420200462606013}, {\"fecha (a\\u00f1o-mes-d\\u00eda)\": \"2020-04-12\", \"Grupo de edad\": \"40-49\", \"letalidad\": 0.0014695077149155032}, {\"fecha (a\\u00f1o-mes-d\\u00eda)\": \"2020-04-13\", \"Grupo de edad\": \"40-49\", \"letalidad\": 0.0013783597518952446}, {\"fecha (a\\u00f1o-mes-d\\u00eda)\": \"2020-04-14\", \"Grupo de edad\": \"40-49\", \"letalidad\": 0.0013440860215053765}, {\"fecha (a\\u00f1o-mes-d\\u00eda)\": \"2020-04-15\", \"Grupo de edad\": \"40-49\", \"letalidad\": 0.0012642225031605564}, {\"fecha (a\\u00f1o-mes-d\\u00eda)\": \"2020-04-16\", \"Grupo de edad\": \"40-49\", \"letalidad\": 0.0011876484560570072}, {\"fecha (a\\u00f1o-mes-d\\u00eda)\": \"2020-04-17\", \"Grupo de edad\": \"40-49\", \"letalidad\": 0.0011229646266142617}, {\"fecha (a\\u00f1o-mes-d\\u00eda)\": \"2020-04-18\", \"Grupo de edad\": \"40-49\", \"letalidad\": 0.001078167115902965}, {\"fecha (a\\u00f1o-mes-d\\u00eda)\": \"2020-04-19\", \"Grupo de edad\": \"40-49\", \"letalidad\": 0.0010384215991692627}, {\"fecha (a\\u00f1o-mes-d\\u00eda)\": \"2020-04-20\", \"Grupo de edad\": \"40-49\", \"letalidad\": 0.001010611419909045}, {\"fecha (a\\u00f1o-mes-d\\u00eda)\": \"2020-04-21\", \"Grupo de edad\": \"40-49\", \"letalidad\": 0.0009857072449482504}, {\"fecha (a\\u00f1o-mes-d\\u00eda)\": \"2020-04-22\", \"Grupo de edad\": \"40-49\", \"letalidad\": 0.0009514747859181732}, {\"fecha (a\\u00f1o-mes-d\\u00eda)\": \"2020-04-23\", \"Grupo de edad\": \"40-49\", \"letalidad\": 0.0013673655423883319}, {\"fecha (a\\u00f1o-mes-d\\u00eda)\": \"2020-04-24\", \"Grupo de edad\": \"40-49\", \"letalidad\": 0.0017691287041132243}, {\"fecha (a\\u00f1o-mes-d\\u00eda)\": \"2020-04-25\", \"Grupo de edad\": \"40-49\", \"letalidad\": 0.002545608824777259}, {\"fecha (a\\u00f1o-mes-d\\u00eda)\": \"2020-04-26\", \"Grupo de edad\": \"40-49\", \"letalidad\": 0.0028913672036348617}, {\"fecha (a\\u00f1o-mes-d\\u00eda)\": \"2020-04-27\", \"Grupo de edad\": \"40-49\", \"letalidad\": 0.0028089887640449437}, {\"fecha (a\\u00f1o-mes-d\\u00eda)\": \"2020-04-28\", \"Grupo de edad\": \"40-49\", \"letalidad\": 0.0030804774740084712}, {\"fecha (a\\u00f1o-mes-d\\u00eda)\": \"2020-05-01\", \"Grupo de edad\": \"40-49\", \"letalidad\": 0.0032916392363396972}, {\"fecha (a\\u00f1o-mes-d\\u00eda)\": \"2020-05-02\", \"Grupo de edad\": \"40-49\", \"letalidad\": 0.003346516580468512}, {\"fecha (a\\u00f1o-mes-d\\u00eda)\": \"2020-05-04\", \"Grupo de edad\": \"40-49\", \"letalidad\": 0.003310344827586207}, {\"fecha (a\\u00f1o-mes-d\\u00eda)\": \"2020-05-06\", \"Grupo de edad\": \"40-49\", \"letalidad\": 0.003226607098535617}, {\"fecha (a\\u00f1o-mes-d\\u00eda)\": \"2020-05-08\", \"Grupo de edad\": \"40-49\", \"letalidad\": 0.0030728709394205445}, {\"fecha (a\\u00f1o-mes-d\\u00eda)\": \"2020-05-11\", \"Grupo de edad\": \"40-49\", \"letalidad\": 0.003065721402567542}, {\"fecha (a\\u00f1o-mes-d\\u00eda)\": \"2020-05-15\", \"Grupo de edad\": \"40-49\", \"letalidad\": 0.0032253335288080927}, {\"fecha (a\\u00f1o-mes-d\\u00eda)\": \"2020-05-18\", \"Grupo de edad\": \"40-49\", \"letalidad\": 0.00352068401860933}, {\"fecha (a\\u00f1o-mes-d\\u00eda)\": \"2020-05-22\", \"Grupo de edad\": \"40-49\", \"letalidad\": 0.0030916245081506464}, {\"fecha (a\\u00f1o-mes-d\\u00eda)\": \"2020-05-25\", \"Grupo de edad\": \"40-49\", \"letalidad\": 0.003168959653733189}, {\"fecha (a\\u00f1o-mes-d\\u00eda)\": \"2020-05-29\", \"Grupo de edad\": \"40-49\", \"letalidad\": 0.002936482604532397}, {\"fecha (a\\u00f1o-mes-d\\u00eda)\": \"2020-06-01\", \"Grupo de edad\": \"40-49\", \"letalidad\": 0.0028099173553719006}, {\"fecha (a\\u00f1o-mes-d\\u00eda)\": \"2020-06-05\", \"Grupo de edad\": \"40-49\", \"letalidad\": 0.0029256323140807853}, {\"fecha (a\\u00f1o-mes-d\\u00eda)\": \"2020-06-08\", \"Grupo de edad\": \"40-49\", \"letalidad\": 0.003237186138202947}, {\"fecha (a\\u00f1o-mes-d\\u00eda)\": \"2020-06-12\", \"Grupo de edad\": \"40-49\", \"letalidad\": 0.0036013973421687613}, {\"fecha (a\\u00f1o-mes-d\\u00eda)\": \"2020-06-15\", \"Grupo de edad\": \"40-49\", \"letalidad\": 0.0035797213622291023}, {\"fecha (a\\u00f1o-mes-d\\u00eda)\": \"2020-06-19\", \"Grupo de edad\": \"40-49\", \"letalidad\": 0.0035292931330039327}, {\"fecha (a\\u00f1o-mes-d\\u00eda)\": \"2020-06-23\", \"Grupo de edad\": \"40-49\", \"letalidad\": 0.0034317089910775567}, {\"fecha (a\\u00f1o-mes-d\\u00eda)\": \"2020-06-28\", \"Grupo de edad\": \"40-49\", \"letalidad\": 0.003699700698370469}, {\"fecha (a\\u00f1o-mes-d\\u00eda)\": \"2020-07-01\", \"Grupo de edad\": \"40-49\", \"letalidad\": 0.0037267080745341614}, {\"fecha (a\\u00f1o-mes-d\\u00eda)\": \"2020-07-05\", \"Grupo de edad\": \"40-49\", \"letalidad\": 0.0037504972250108916}, {\"fecha (a\\u00f1o-mes-d\\u00eda)\": \"2020-04-09\", \"Grupo de edad\": \"50-59\", \"letalidad\": 0.0011074197120708748}, {\"fecha (a\\u00f1o-mes-d\\u00eda)\": \"2020-04-10\", \"Grupo de edad\": \"50-59\", \"letalidad\": 0.0020512820512820513}, {\"fecha (a\\u00f1o-mes-d\\u00eda)\": \"2020-04-11\", \"Grupo de edad\": \"50-59\", \"letalidad\": 0.0019569471624266144}, {\"fecha (a\\u00f1o-mes-d\\u00eda)\": \"2020-04-12\", \"Grupo de edad\": \"50-59\", \"letalidad\": 0.0028089887640449437}, {\"fecha (a\\u00f1o-mes-d\\u00eda)\": \"2020-04-13\", \"Grupo de edad\": \"50-59\", \"letalidad\": 0.0026455026455026454}, {\"fecha (a\\u00f1o-mes-d\\u00eda)\": \"2020-04-14\", \"Grupo de edad\": \"50-59\", \"letalidad\": 0.004262574595055414}, {\"fecha (a\\u00f1o-mes-d\\u00eda)\": \"2020-04-15\", \"Grupo de edad\": \"50-59\", \"letalidad\": 0.003996802557953637}, {\"fecha (a\\u00f1o-mes-d\\u00eda)\": \"2020-04-16\", \"Grupo de edad\": \"50-59\", \"letalidad\": 0.0044742729306487695}, {\"fecha (a\\u00f1o-mes-d\\u00eda)\": \"2020-04-17\", \"Grupo de edad\": \"50-59\", \"letalidad\": 0.005681818181818182}, {\"fecha (a\\u00f1o-mes-d\\u00eda)\": \"2020-04-18\", \"Grupo de edad\": \"50-59\", \"letalidad\": 0.005416384563303994}, {\"fecha (a\\u00f1o-mes-d\\u00eda)\": \"2020-04-19\", \"Grupo de edad\": \"50-59\", \"letalidad\": 0.005913272010512484}, {\"fecha (a\\u00f1o-mes-d\\u00eda)\": \"2020-04-20\", \"Grupo de edad\": \"50-59\", \"letalidad\": 0.006997455470737914}, {\"fecha (a\\u00f1o-mes-d\\u00eda)\": \"2020-04-21\", \"Grupo de edad\": \"50-59\", \"letalidad\": 0.008024691358024692}, {\"fecha (a\\u00f1o-mes-d\\u00eda)\": \"2020-04-22\", \"Grupo de edad\": \"50-59\", \"letalidad\": 0.008269344359125812}, {\"fecha (a\\u00f1o-mes-d\\u00eda)\": \"2020-04-23\", \"Grupo de edad\": \"50-59\", \"letalidad\": 0.00791407574901074}, {\"fecha (a\\u00f1o-mes-d\\u00eda)\": \"2020-04-24\", \"Grupo de edad\": \"50-59\", \"letalidad\": 0.007654455986878075}, {\"fecha (a\\u00f1o-mes-d\\u00eda)\": \"2020-04-25\", \"Grupo de edad\": \"50-59\", \"letalidad\": 0.007841087297438577}, {\"fecha (a\\u00f1o-mes-d\\u00eda)\": \"2020-04-26\", \"Grupo de edad\": \"50-59\", \"letalidad\": 0.007533902561526871}, {\"fecha (a\\u00f1o-mes-d\\u00eda)\": \"2020-04-27\", \"Grupo de edad\": \"50-59\", \"letalidad\": 0.007858546168958742}, {\"fecha (a\\u00f1o-mes-d\\u00eda)\": \"2020-04-28\", \"Grupo de edad\": \"50-59\", \"letalidad\": 0.007554296506137866}, {\"fecha (a\\u00f1o-mes-d\\u00eda)\": \"2020-05-01\", \"Grupo de edad\": \"50-59\", \"letalidad\": 0.007179896290386917}, {\"fecha (a\\u00f1o-mes-d\\u00eda)\": \"2020-05-02\", \"Grupo de edad\": \"50-59\", \"letalidad\": 0.006644518272425249}, {\"fecha (a\\u00f1o-mes-d\\u00eda)\": \"2020-05-04\", \"Grupo de edad\": \"50-59\", \"letalidad\": 0.006615944426066821}, {\"fecha (a\\u00f1o-mes-d\\u00eda)\": \"2020-05-06\", \"Grupo de edad\": \"50-59\", \"letalidad\": 0.005950609937518596}, {\"fecha (a\\u00f1o-mes-d\\u00eda)\": \"2020-05-08\", \"Grupo de edad\": \"50-59\", \"letalidad\": 0.005573248407643312}, {\"fecha (a\\u00f1o-mes-d\\u00eda)\": \"2020-05-11\", \"Grupo de edad\": \"50-59\", \"letalidad\": 0.005331478905887807}, {\"fecha (a\\u00f1o-mes-d\\u00eda)\": \"2020-05-15\", \"Grupo de edad\": \"50-59\", \"letalidad\": 0.005463517800493479}, {\"fecha (a\\u00f1o-mes-d\\u00eda)\": \"2020-05-18\", \"Grupo de edad\": \"50-59\", \"letalidad\": 0.006038647342995169}, {\"fecha (a\\u00f1o-mes-d\\u00eda)\": \"2020-05-22\", \"Grupo de edad\": \"50-59\", \"letalidad\": 0.006389072482925755}, {\"fecha (a\\u00f1o-mes-d\\u00eda)\": \"2020-05-25\", \"Grupo de edad\": \"50-59\", \"letalidad\": 0.006311745334796927}, {\"fecha (a\\u00f1o-mes-d\\u00eda)\": \"2020-05-29\", \"Grupo de edad\": \"50-59\", \"letalidad\": 0.0069500924214417744}, {\"fecha (a\\u00f1o-mes-d\\u00eda)\": \"2020-06-01\", \"Grupo de edad\": \"50-59\", \"letalidad\": 0.007207435038249984}, {\"fecha (a\\u00f1o-mes-d\\u00eda)\": \"2020-06-05\", \"Grupo de edad\": \"50-59\", \"letalidad\": 0.00819186203179736}, {\"fecha (a\\u00f1o-mes-d\\u00eda)\": \"2020-06-08\", \"Grupo de edad\": \"50-59\", \"letalidad\": 0.010318021201413428}, {\"fecha (a\\u00f1o-mes-d\\u00eda)\": \"2020-06-12\", \"Grupo de edad\": \"50-59\", \"letalidad\": 0.010785264178380998}, {\"fecha (a\\u00f1o-mes-d\\u00eda)\": \"2020-06-15\", \"Grupo de edad\": \"50-59\", \"letalidad\": 0.011586865841919498}, {\"fecha (a\\u00f1o-mes-d\\u00eda)\": \"2020-06-19\", \"Grupo de edad\": \"50-59\", \"letalidad\": 0.010933348095659877}, {\"fecha (a\\u00f1o-mes-d\\u00eda)\": \"2020-06-23\", \"Grupo de edad\": \"50-59\", \"letalidad\": 0.01086629944917376}, {\"fecha (a\\u00f1o-mes-d\\u00eda)\": \"2020-06-28\", \"Grupo de edad\": \"50-59\", \"letalidad\": 0.0121024614404659}, {\"fecha (a\\u00f1o-mes-d\\u00eda)\": \"2020-07-01\", \"Grupo de edad\": \"50-59\", \"letalidad\": 0.012179360802611115}, {\"fecha (a\\u00f1o-mes-d\\u00eda)\": \"2020-07-05\", \"Grupo de edad\": \"50-59\", \"letalidad\": 0.01276042204373232}, {\"fecha (a\\u00f1o-mes-d\\u00eda)\": \"2020-04-09\", \"Grupo de edad\": \"60-69\", \"letalidad\": 0.017928286852589643}, {\"fecha (a\\u00f1o-mes-d\\u00eda)\": \"2020-04-10\", \"Grupo de edad\": \"60-69\", \"letalidad\": 0.01838235294117647}, {\"fecha (a\\u00f1o-mes-d\\u00eda)\": \"2020-04-11\", \"Grupo de edad\": \"60-69\", \"letalidad\": 0.02054794520547945}, {\"fecha (a\\u00f1o-mes-d\\u00eda)\": \"2020-04-12\", \"Grupo de edad\": \"60-69\", \"letalidad\": 0.019639934533551555}, {\"fecha (a\\u00f1o-mes-d\\u00eda)\": \"2020-04-13\", \"Grupo de edad\": \"60-69\", \"letalidad\": 0.01866251944012442}, {\"fecha (a\\u00f1o-mes-d\\u00eda)\": \"2020-04-14\", \"Grupo de edad\": \"60-69\", \"letalidad\": 0.01749271137026239}, {\"fecha (a\\u00f1o-mes-d\\u00eda)\": \"2020-04-15\", \"Grupo de edad\": \"60-69\", \"letalidad\": 0.01652892561983471}, {\"fecha (a\\u00f1o-mes-d\\u00eda)\": \"2020-04-16\", \"Grupo de edad\": \"60-69\", \"letalidad\": 0.018276762402088774}, {\"fecha (a\\u00f1o-mes-d\\u00eda)\": \"2020-04-17\", \"Grupo de edad\": \"60-69\", \"letalidad\": 0.019536019536019536}, {\"fecha (a\\u00f1o-mes-d\\u00eda)\": \"2020-04-18\", \"Grupo de edad\": \"60-69\", \"letalidad\": 0.01990632318501171}, {\"fecha (a\\u00f1o-mes-d\\u00eda)\": \"2020-04-19\", \"Grupo de edad\": \"60-69\", \"letalidad\": 0.020618556701030927}, {\"fecha (a\\u00f1o-mes-d\\u00eda)\": \"2020-04-20\", \"Grupo de edad\": \"60-69\", \"letalidad\": 0.021087680355160933}, {\"fecha (a\\u00f1o-mes-d\\u00eda)\": \"2020-04-21\", \"Grupo de edad\": \"60-69\", \"letalidad\": 0.021436227224008574}, {\"fecha (a\\u00f1o-mes-d\\u00eda)\": \"2020-04-22\", \"Grupo de edad\": \"60-69\", \"letalidad\": 0.026776519052523172}, {\"fecha (a\\u00f1o-mes-d\\u00eda)\": \"2020-04-23\", \"Grupo de edad\": \"60-69\", \"letalidad\": 0.02753195673549656}, {\"fecha (a\\u00f1o-mes-d\\u00eda)\": \"2020-04-24\", \"Grupo de edad\": \"60-69\", \"letalidad\": 0.02862595419847328}, {\"fecha (a\\u00f1o-mes-d\\u00eda)\": \"2020-04-25\", \"Grupo de edad\": \"60-69\", \"letalidad\": 0.028624192059095107}, {\"fecha (a\\u00f1o-mes-d\\u00eda)\": \"2020-04-26\", \"Grupo de edad\": \"60-69\", \"letalidad\": 0.029596412556053813}, {\"fecha (a\\u00f1o-mes-d\\u00eda)\": \"2020-04-27\", \"Grupo de edad\": \"60-69\", \"letalidad\": 0.03027681660899654}, {\"fecha (a\\u00f1o-mes-d\\u00eda)\": \"2020-04-28\", \"Grupo de edad\": \"60-69\", \"letalidad\": 0.02902155887230514}, {\"fecha (a\\u00f1o-mes-d\\u00eda)\": \"2020-05-01\", \"Grupo de edad\": \"60-69\", \"letalidad\": 0.029560201874549386}, {\"fecha (a\\u00f1o-mes-d\\u00eda)\": \"2020-05-02\", \"Grupo de edad\": \"60-69\", \"letalidad\": 0.028609447771124417}, {\"fecha (a\\u00f1o-mes-d\\u00eda)\": \"2020-05-04\", \"Grupo de edad\": \"60-69\", \"letalidad\": 0.02738095238095238}, {\"fecha (a\\u00f1o-mes-d\\u00eda)\": \"2020-05-06\", \"Grupo de edad\": \"60-69\", \"letalidad\": 0.02521459227467811}, {\"fecha (a\\u00f1o-mes-d\\u00eda)\": \"2020-05-08\", \"Grupo de edad\": \"60-69\", \"letalidad\": 0.022918615528531337}, {\"fecha (a\\u00f1o-mes-d\\u00eda)\": \"2020-05-11\", \"Grupo de edad\": \"60-69\", \"letalidad\": 0.022672064777327937}, {\"fecha (a\\u00f1o-mes-d\\u00eda)\": \"2020-05-15\", \"Grupo de edad\": \"60-69\", \"letalidad\": 0.02037617554858934}, {\"fecha (a\\u00f1o-mes-d\\u00eda)\": \"2020-05-18\", \"Grupo de edad\": \"60-69\", \"letalidad\": 0.021878335112059766}, {\"fecha (a\\u00f1o-mes-d\\u00eda)\": \"2020-05-22\", \"Grupo de edad\": \"60-69\", \"letalidad\": 0.020944477376012644}, {\"fecha (a\\u00f1o-mes-d\\u00eda)\": \"2020-05-25\", \"Grupo de edad\": \"60-69\", \"letalidad\": 0.0212589270885235}, {\"fecha (a\\u00f1o-mes-d\\u00eda)\": \"2020-05-29\", \"Grupo de edad\": \"60-69\", \"letalidad\": 0.023020625415834998}, {\"fecha (a\\u00f1o-mes-d\\u00eda)\": \"2020-06-01\", \"Grupo de edad\": \"60-69\", \"letalidad\": 0.022634676324128564}, {\"fecha (a\\u00f1o-mes-d\\u00eda)\": \"2020-06-05\", \"Grupo de edad\": \"60-69\", \"letalidad\": 0.02611293120061669}, {\"fecha (a\\u00f1o-mes-d\\u00eda)\": \"2020-06-08\", \"Grupo de edad\": \"60-69\", \"letalidad\": 0.035437710437710435}, {\"fecha (a\\u00f1o-mes-d\\u00eda)\": \"2020-06-12\", \"Grupo de edad\": \"60-69\", \"letalidad\": 0.039754478623938334}, {\"fecha (a\\u00f1o-mes-d\\u00eda)\": \"2020-06-15\", \"Grupo de edad\": \"60-69\", \"letalidad\": 0.042395437262357415}, {\"fecha (a\\u00f1o-mes-d\\u00eda)\": \"2020-06-19\", \"Grupo de edad\": \"60-69\", \"letalidad\": 0.04182716049382716}, {\"fecha (a\\u00f1o-mes-d\\u00eda)\": \"2020-06-23\", \"Grupo de edad\": \"60-69\", \"letalidad\": 0.04194683172284811}, {\"fecha (a\\u00f1o-mes-d\\u00eda)\": \"2020-06-28\", \"Grupo de edad\": \"60-69\", \"letalidad\": 0.046716917247772986}, {\"fecha (a\\u00f1o-mes-d\\u00eda)\": \"2020-07-01\", \"Grupo de edad\": \"60-69\", \"letalidad\": 0.04663673658951931}, {\"fecha (a\\u00f1o-mes-d\\u00eda)\": \"2020-07-05\", \"Grupo de edad\": \"60-69\", \"letalidad\": 0.04865002547121752}, {\"fecha (a\\u00f1o-mes-d\\u00eda)\": \"2020-04-09\", \"Grupo de edad\": \"70-79\", \"letalidad\": 0.07394366197183098}, {\"fecha (a\\u00f1o-mes-d\\u00eda)\": \"2020-04-10\", \"Grupo de edad\": \"70-79\", \"letalidad\": 0.07119741100323625}, {\"fecha (a\\u00f1o-mes-d\\u00eda)\": \"2020-04-11\", \"Grupo de edad\": \"70-79\", \"letalidad\": 0.07317073170731707}, {\"fecha (a\\u00f1o-mes-d\\u00eda)\": \"2020-04-12\", \"Grupo de edad\": \"70-79\", \"letalidad\": 0.08163265306122448}, {\"fecha (a\\u00f1o-mes-d\\u00eda)\": \"2020-04-13\", \"Grupo de edad\": \"70-79\", \"letalidad\": 0.08262108262108261}, {\"fecha (a\\u00f1o-mes-d\\u00eda)\": \"2020-04-14\", \"Grupo de edad\": \"70-79\", \"letalidad\": 0.08196721311475409}, {\"fecha (a\\u00f1o-mes-d\\u00eda)\": \"2020-04-15\", \"Grupo de edad\": \"70-79\", \"letalidad\": 0.07828282828282829}, {\"fecha (a\\u00f1o-mes-d\\u00eda)\": \"2020-04-16\", \"Grupo de edad\": \"70-79\", \"letalidad\": 0.07582938388625593}, {\"fecha (a\\u00f1o-mes-d\\u00eda)\": \"2020-04-17\", \"Grupo de edad\": \"70-79\", \"letalidad\": 0.07982261640798226}, {\"fecha (a\\u00f1o-mes-d\\u00eda)\": \"2020-04-18\", \"Grupo de edad\": \"70-79\", \"letalidad\": 0.08125}, {\"fecha (a\\u00f1o-mes-d\\u00eda)\": \"2020-04-19\", \"Grupo de edad\": \"70-79\", \"letalidad\": 0.08249496981891348}, {\"fecha (a\\u00f1o-mes-d\\u00eda)\": \"2020-04-20\", \"Grupo de edad\": \"70-79\", \"letalidad\": 0.08155339805825243}, {\"fecha (a\\u00f1o-mes-d\\u00eda)\": \"2020-04-21\", \"Grupo de edad\": \"70-79\", \"letalidad\": 0.08143939393939394}, {\"fecha (a\\u00f1o-mes-d\\u00eda)\": \"2020-04-22\", \"Grupo de edad\": \"70-79\", \"letalidad\": 0.08639705882352941}, {\"fecha (a\\u00f1o-mes-d\\u00eda)\": \"2020-04-23\", \"Grupo de edad\": \"70-79\", \"letalidad\": 0.0855614973262032}, {\"fecha (a\\u00f1o-mes-d\\u00eda)\": \"2020-04-24\", \"Grupo de edad\": \"70-79\", \"letalidad\": 0.08566433566433566}, {\"fecha (a\\u00f1o-mes-d\\u00eda)\": \"2020-04-25\", \"Grupo de edad\": \"70-79\", \"letalidad\": 0.08445945945945946}, {\"fecha (a\\u00f1o-mes-d\\u00eda)\": \"2020-04-26\", \"Grupo de edad\": \"70-79\", \"letalidad\": 0.08441558441558442}, {\"fecha (a\\u00f1o-mes-d\\u00eda)\": \"2020-04-27\", \"Grupo de edad\": \"70-79\", \"letalidad\": 0.09090909090909091}, {\"fecha (a\\u00f1o-mes-d\\u00eda)\": \"2020-04-28\", \"Grupo de edad\": \"70-79\", \"letalidad\": 0.09036144578313253}, {\"fecha (a\\u00f1o-mes-d\\u00eda)\": \"2020-05-01\", \"Grupo de edad\": \"70-79\", \"letalidad\": 0.09115281501340483}, {\"fecha (a\\u00f1o-mes-d\\u00eda)\": \"2020-05-02\", \"Grupo de edad\": \"70-79\", \"letalidad\": 0.09148665819567979}, {\"fecha (a\\u00f1o-mes-d\\u00eda)\": \"2020-05-04\", \"Grupo de edad\": \"70-79\", \"letalidad\": 0.08665906499429875}, {\"fecha (a\\u00f1o-mes-d\\u00eda)\": \"2020-05-06\", \"Grupo de edad\": \"70-79\", \"letalidad\": 0.07983193277310924}, {\"fecha (a\\u00f1o-mes-d\\u00eda)\": \"2020-05-08\", \"Grupo de edad\": \"70-79\", \"letalidad\": 0.07604562737642585}, {\"fecha (a\\u00f1o-mes-d\\u00eda)\": \"2020-05-11\", \"Grupo de edad\": \"70-79\", \"letalidad\": 0.07367549668874172}, {\"fecha (a\\u00f1o-mes-d\\u00eda)\": \"2020-05-15\", \"Grupo de edad\": \"70-79\", \"letalidad\": 0.07138221933809215}, {\"fecha (a\\u00f1o-mes-d\\u00eda)\": \"2020-05-18\", \"Grupo de edad\": \"70-79\", \"letalidad\": 0.07450980392156863}, {\"fecha (a\\u00f1o-mes-d\\u00eda)\": \"2020-05-22\", \"Grupo de edad\": \"70-79\", \"letalidad\": 0.07715008431703205}, {\"fecha (a\\u00f1o-mes-d\\u00eda)\": \"2020-05-25\", \"Grupo de edad\": \"70-79\", \"letalidad\": 0.07973068745570518}, {\"fecha (a\\u00f1o-mes-d\\u00eda)\": \"2020-05-29\", \"Grupo de edad\": \"70-79\", \"letalidad\": 0.0786358511837655}, {\"fecha (a\\u00f1o-mes-d\\u00eda)\": \"2020-06-01\", \"Grupo de edad\": \"70-79\", \"letalidad\": 0.07672393504353965}, {\"fecha (a\\u00f1o-mes-d\\u00eda)\": \"2020-06-05\", \"Grupo de edad\": \"70-79\", \"letalidad\": 0.0858334989072124}, {\"fecha (a\\u00f1o-mes-d\\u00eda)\": \"2020-06-08\", \"Grupo de edad\": \"70-79\", \"letalidad\": 0.11817709235834344}, {\"fecha (a\\u00f1o-mes-d\\u00eda)\": \"2020-06-12\", \"Grupo de edad\": \"70-79\", \"letalidad\": 0.1277281382744983}, {\"fecha (a\\u00f1o-mes-d\\u00eda)\": \"2020-06-15\", \"Grupo de edad\": \"70-79\", \"letalidad\": 0.13118779888845805}, {\"fecha (a\\u00f1o-mes-d\\u00eda)\": \"2020-06-19\", \"Grupo de edad\": \"70-79\", \"letalidad\": 0.12337203432609793}, {\"fecha (a\\u00f1o-mes-d\\u00eda)\": \"2020-06-23\", \"Grupo de edad\": \"70-79\", \"letalidad\": 0.123054385643655}, {\"fecha (a\\u00f1o-mes-d\\u00eda)\": \"2020-06-28\", \"Grupo de edad\": \"70-79\", \"letalidad\": 0.13325598740366287}, {\"fecha (a\\u00f1o-mes-d\\u00eda)\": \"2020-07-01\", \"Grupo de edad\": \"70-79\", \"letalidad\": 0.13284103541368905}, {\"fecha (a\\u00f1o-mes-d\\u00eda)\": \"2020-07-05\", \"Grupo de edad\": \"70-79\", \"letalidad\": 0.13592814371257486}, {\"fecha (a\\u00f1o-mes-d\\u00eda)\": \"2020-04-09\", \"Grupo de edad\": \">=80\", \"letalidad\": 0.17557251908396945}, {\"fecha (a\\u00f1o-mes-d\\u00eda)\": \"2020-04-10\", \"Grupo de edad\": \">=80\", \"letalidad\": 0.17647058823529413}, {\"fecha (a\\u00f1o-mes-d\\u00eda)\": \"2020-04-11\", \"Grupo de edad\": \">=80\", \"letalidad\": 0.17751479289940827}, {\"fecha (a\\u00f1o-mes-d\\u00eda)\": \"2020-04-12\", \"Grupo de edad\": \">=80\", \"letalidad\": 0.1787709497206704}, {\"fecha (a\\u00f1o-mes-d\\u00eda)\": \"2020-04-13\", \"Grupo de edad\": \">=80\", \"letalidad\": 0.17647058823529413}, {\"fecha (a\\u00f1o-mes-d\\u00eda)\": \"2020-04-14\", \"Grupo de edad\": \">=80\", \"letalidad\": 0.20304568527918782}, {\"fecha (a\\u00f1o-mes-d\\u00eda)\": \"2020-04-15\", \"Grupo de edad\": \">=80\", \"letalidad\": 0.19617224880382775}, {\"fecha (a\\u00f1o-mes-d\\u00eda)\": \"2020-04-16\", \"Grupo de edad\": \">=80\", \"letalidad\": 0.2171945701357466}, {\"fecha (a\\u00f1o-mes-d\\u00eda)\": \"2020-04-17\", \"Grupo de edad\": \">=80\", \"letalidad\": 0.21008403361344538}, {\"fecha (a\\u00f1o-mes-d\\u00eda)\": \"2020-04-18\", \"Grupo de edad\": \">=80\", \"letalidad\": 0.22134387351778656}, {\"fecha (a\\u00f1o-mes-d\\u00eda)\": \"2020-04-19\", \"Grupo de edad\": \">=80\", \"letalidad\": 0.2177121771217712}, {\"fecha (a\\u00f1o-mes-d\\u00eda)\": \"2020-04-20\", \"Grupo de edad\": \">=80\", \"letalidad\": 0.2147887323943662}, {\"fecha (a\\u00f1o-mes-d\\u00eda)\": \"2020-04-21\", \"Grupo de edad\": \">=80\", \"letalidad\": 0.2222222222222222}, {\"fecha (a\\u00f1o-mes-d\\u00eda)\": \"2020-04-22\", \"Grupo de edad\": \">=80\", \"letalidad\": 0.21710526315789475}, {\"fecha (a\\u00f1o-mes-d\\u00eda)\": \"2020-04-23\", \"Grupo de edad\": \">=80\", \"letalidad\": 0.21875}, {\"fecha (a\\u00f1o-mes-d\\u00eda)\": \"2020-04-24\", \"Grupo de edad\": \">=80\", \"letalidad\": 0.22085889570552147}, {\"fecha (a\\u00f1o-mes-d\\u00eda)\": \"2020-04-25\", \"Grupo de edad\": \">=80\", \"letalidad\": 0.21159420289855072}, {\"fecha (a\\u00f1o-mes-d\\u00eda)\": \"2020-04-26\", \"Grupo de edad\": \">=80\", \"letalidad\": 0.20596205962059622}, {\"fecha (a\\u00f1o-mes-d\\u00eda)\": \"2020-04-27\", \"Grupo de edad\": \">=80\", \"letalidad\": 0.19896640826873385}, {\"fecha (a\\u00f1o-mes-d\\u00eda)\": \"2020-04-28\", \"Grupo de edad\": \">=80\", \"letalidad\": 0.1957040572792363}, {\"fecha (a\\u00f1o-mes-d\\u00eda)\": \"2020-05-01\", \"Grupo de edad\": \">=80\", \"letalidad\": 0.18609406952965235}, {\"fecha (a\\u00f1o-mes-d\\u00eda)\": \"2020-05-02\", \"Grupo de edad\": \">=80\", \"letalidad\": 0.1917808219178082}, {\"fecha (a\\u00f1o-mes-d\\u00eda)\": \"2020-05-04\", \"Grupo de edad\": \">=80\", \"letalidad\": 0.19400352733686066}, {\"fecha (a\\u00f1o-mes-d\\u00eda)\": \"2020-05-06\", \"Grupo de edad\": \">=80\", \"letalidad\": 0.19131832797427653}, {\"fecha (a\\u00f1o-mes-d\\u00eda)\": \"2020-05-08\", \"Grupo de edad\": \">=80\", \"letalidad\": 0.17877906976744187}, {\"fecha (a\\u00f1o-mes-d\\u00eda)\": \"2020-05-11\", \"Grupo de edad\": \">=80\", \"letalidad\": 0.16730038022813687}, {\"fecha (a\\u00f1o-mes-d\\u00eda)\": \"2020-05-15\", \"Grupo de edad\": \">=80\", \"letalidad\": 0.15934627170582227}, {\"fecha (a\\u00f1o-mes-d\\u00eda)\": \"2020-05-18\", \"Grupo de edad\": \">=80\", \"letalidad\": 0.16696750902527077}, {\"fecha (a\\u00f1o-mes-d\\u00eda)\": \"2020-05-22\", \"Grupo de edad\": \">=80\", \"letalidad\": 0.1674911660777385}, {\"fecha (a\\u00f1o-mes-d\\u00eda)\": \"2020-05-25\", \"Grupo de edad\": \">=80\", \"letalidad\": 0.16666666666666666}, {\"fecha (a\\u00f1o-mes-d\\u00eda)\": \"2020-05-29\", \"Grupo de edad\": \">=80\", \"letalidad\": 0.1559718969555035}, {\"fecha (a\\u00f1o-mes-d\\u00eda)\": \"2020-06-01\", \"Grupo de edad\": \">=80\", \"letalidad\": 0.15558194774346792}, {\"fecha (a\\u00f1o-mes-d\\u00eda)\": \"2020-06-05\", \"Grupo de edad\": \">=80\", \"letalidad\": 0.16666666666666666}, {\"fecha (a\\u00f1o-mes-d\\u00eda)\": \"2020-06-08\", \"Grupo de edad\": \">=80\", \"letalidad\": 0.23467600700525393}, {\"fecha (a\\u00f1o-mes-d\\u00eda)\": \"2020-06-12\", \"Grupo de edad\": \">=80\", \"letalidad\": 0.23935915829746532}, {\"fecha (a\\u00f1o-mes-d\\u00eda)\": \"2020-06-15\", \"Grupo de edad\": \">=80\", \"letalidad\": 0.2456512515910055}, {\"fecha (a\\u00f1o-mes-d\\u00eda)\": \"2020-06-19\", \"Grupo de edad\": \">=80\", \"letalidad\": 0.22873996395215468}, {\"fecha (a\\u00f1o-mes-d\\u00eda)\": \"2020-06-23\", \"Grupo de edad\": \">=80\", \"letalidad\": 0.22589653145208702}, {\"fecha (a\\u00f1o-mes-d\\u00eda)\": \"2020-06-28\", \"Grupo de edad\": \">=80\", \"letalidad\": 0.2538441145281018}, {\"fecha (a\\u00f1o-mes-d\\u00eda)\": \"2020-07-01\", \"Grupo de edad\": \">=80\", \"letalidad\": 0.2566585956416465}, {\"fecha (a\\u00f1o-mes-d\\u00eda)\": \"2020-07-05\", \"Grupo de edad\": \">=80\", \"letalidad\": 0.26574519230769234}]}}, {\"mode\": \"vega-lite\"});\n",
       "</script>"
      ],
      "text/plain": [
       "alt.HConcatChart(...)"
      ]
     },
     "execution_count": 132,
     "metadata": {},
     "output_type": "execute_result"
    }
   ],
   "source": [
    "#hide_input\n",
    "label = alt.selection_single(\n",
    "    encodings=['x'], # limit selection to x-axis value\n",
    "    on='mouseover',  # select on mouseover events\n",
    "    nearest=True,    # select data point nearest the cursor\n",
    "    empty='none'     # empty selection includes no data points\n",
    ")\n",
    "\n",
    "base = alt.Chart(letalidad).mark_line(point=True).encode(\n",
    "    x = 'fecha (año-mes-día):N',\n",
    "    y = alt.Y('letalidad:Q', sort=['<=39', '40-49', '50-59', '60-69', '70-79', '>=80'], axis=alt.Axis(format='%')),\n",
    "    color = alt.Color('Grupo de edad:N', scale=alt.Scale(scheme='tableau10'), legend=None),\n",
    "    #tooltip = ['fecha (año-mes-día)', 'Grupo de edad', 'letalidad'],\n",
    ")\n",
    "\n",
    "legend = alt.Chart(letalidad).mark_point().encode(\n",
    "    y=alt.Y('Grupo de edad', axis=alt.Axis(orient='right'), sort=['>=80','70-79','60-69','50-59','40-49','<=39']),\n",
    "    color=alt.Color('Grupo de edad:N', scale=alt.Scale(scheme='tableau10'), legend=None)\n",
    ")\n",
    "\n",
    "alt.layer(\n",
    "    base, # base line chart\n",
    "    \n",
    "    # add a rule mark to serve as a guide line\n",
    "    alt.Chart().mark_rule(color='#aaa').encode(\n",
    "        x = alt.X('fecha (año-mes-día):N', axis=alt.Axis(title='fecha (año-mes-día)'), sort=None)\n",
    "    ).transform_filter(label),\n",
    "    \n",
    "    # add circle marks for selected time points, hide unselected points\n",
    "    base.mark_circle().encode(\n",
    "        opacity=alt.condition(label, alt.value(1), alt.value(0))\n",
    "    ).add_selection(label),\n",
    "    \n",
    "    # add white stroked text to provide a legible background for labels\n",
    "    base.mark_text(align='left', dx=5, dy=-5, stroke='white', strokeWidth=2).encode(\n",
    "        text='letalidad:Q'\n",
    "    ).transform_filter(label),\n",
    "    \n",
    "    # add text labels for stock prices\n",
    "    base.mark_text(align='left', dx=5, dy=-5).encode(\n",
    "        text='letalidad:Q'\n",
    "    ).transform_filter(label),\n",
    "    \n",
    "    data=letalidad\n",
    ").properties(\n",
    "    title = 'COVID-19 en Chile: Evolución de la letalidad por rango de edad',\n",
    "    width = 600\n",
    ") | legend\n",
    "\n",
    "# legend = alt.Chart(letalidad).mark_point().encode(\n",
    "#     y=alt.Y('Grupo de edad', axis=alt.Axis(orient='right'), sort=['>=80','70-79','60-69','50-59','40-49','<=39']),\n",
    "#     color=color\n",
    "# )\n",
    "\n",
    "# chart.properties(\n",
    "#     title = 'COVID-19 en Chile: Evolución de la letalidad por rango de edad',\n",
    "#     width = 600\n",
    "# ) | legend"
   ]
  },
  {
   "cell_type": "code",
   "execution_count": null,
   "metadata": {},
   "outputs": [],
   "source": []
  }
 ],
 "metadata": {
  "kernelspec": {
   "display_name": "Python 3",
   "language": "python",
   "name": "python3"
  },
  "language_info": {
   "codemirror_mode": {
    "name": "ipython",
    "version": 3
   },
   "file_extension": ".py",
   "mimetype": "text/x-python",
   "name": "python",
   "nbconvert_exporter": "python",
   "pygments_lexer": "ipython3",
   "version": "3.8.2"
  }
 },
 "nbformat": 4,
 "nbformat_minor": 2
}
