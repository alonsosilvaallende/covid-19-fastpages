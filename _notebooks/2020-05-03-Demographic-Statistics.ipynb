{
 "cells": [
  {
   "cell_type": "markdown",
   "metadata": {},
   "source": [
    "# \"COVID-19 en Chile: Estadísticas demográficas\"\n",
    "> Total de casos confirmados, fallecidos confirmados, pacientes en UCI por sexo y rango de edad.\n",
    "\n",
    "- toc: true \n",
    "- badges: true\n",
    "- comments: true\n",
    "- author: Alonso Silva Allende\n",
    "- categories: [jupyter]\n",
    "- image: images/diagram.png"
   ]
  },
  {
   "cell_type": "code",
   "execution_count": 2,
   "metadata": {},
   "outputs": [],
   "source": [
    "#hide\n",
    "import numpy as np\n",
    "import pandas as pd\n",
    "import altair as alt"
   ]
  },
  {
   "cell_type": "markdown",
   "metadata": {},
   "source": [
    "# Evolución de casos confirmados por sexo"
   ]
  },
  {
   "cell_type": "code",
   "execution_count": 3,
   "metadata": {},
   "outputs": [],
   "source": [
    "#hide\n",
    "cases_raw = pd.read_csv(\n",
    "    'https://raw.githubusercontent.com/MinCiencia/Datos-COVID19/' \\\n",
    "    + 'master/output/producto16/CasosGeneroEtario.csv'\n",
    ")"
   ]
  },
  {
   "cell_type": "code",
   "execution_count": 4,
   "metadata": {},
   "outputs": [
    {
     "data": {
      "text/plain": [
       "'2020-06-23'"
      ]
     },
     "execution_count": 4,
     "metadata": {},
     "output_type": "execute_result"
    }
   ],
   "source": [
    "#hide\n",
    "today = cases_raw.iloc[:,-1].name\n",
    "update_date = pd.to_datetime(today)\n",
    "today"
   ]
  },
  {
   "cell_type": "code",
   "execution_count": 5,
   "metadata": {},
   "outputs": [],
   "source": [
    "#hide\n",
    "cases_sex = cases_raw.groupby('Sexo').sum()\n",
    "cases_sex = cases_sex.reset_index().melt('Sexo', var_name=\"Fecha (año-mes-día)\", value_name=\"Casos confirmados\")"
   ]
  },
  {
   "cell_type": "code",
   "execution_count": 6,
   "metadata": {},
   "outputs": [],
   "source": [
    "#hide\n",
    "cases_sex = cases_sex.set_index(\"Fecha (año-mes-día)\")\n",
    "cases_sex[\"Porcentaje\"] = cases_sex[\"Casos confirmados\"]/cases_raw.sum().drop([\"Grupo de edad\", \"Sexo\"])\n",
    "cases_sex = cases_sex.reset_index()"
   ]
  },
  {
   "cell_type": "code",
   "execution_count": 7,
   "metadata": {
    "scrolled": false
   },
   "outputs": [
    {
     "data": {
      "text/html": [
       "\n",
       "<div id=\"altair-viz-da27155d99c94416ba4ffafd986f3455\"></div>\n",
       "<script type=\"text/javascript\">\n",
       "  (function(spec, embedOpt){\n",
       "    let outputDiv = document.currentScript.previousElementSibling;\n",
       "    if (outputDiv.id !== \"altair-viz-da27155d99c94416ba4ffafd986f3455\") {\n",
       "      outputDiv = document.getElementById(\"altair-viz-da27155d99c94416ba4ffafd986f3455\");\n",
       "    }\n",
       "    const paths = {\n",
       "      \"vega\": \"https://cdn.jsdelivr.net/npm//vega@5?noext\",\n",
       "      \"vega-lib\": \"https://cdn.jsdelivr.net/npm//vega-lib?noext\",\n",
       "      \"vega-lite\": \"https://cdn.jsdelivr.net/npm//vega-lite@4.8.1?noext\",\n",
       "      \"vega-embed\": \"https://cdn.jsdelivr.net/npm//vega-embed@6?noext\",\n",
       "    };\n",
       "\n",
       "    function loadScript(lib) {\n",
       "      return new Promise(function(resolve, reject) {\n",
       "        var s = document.createElement('script');\n",
       "        s.src = paths[lib];\n",
       "        s.async = true;\n",
       "        s.onload = () => resolve(paths[lib]);\n",
       "        s.onerror = () => reject(`Error loading script: ${paths[lib]}`);\n",
       "        document.getElementsByTagName(\"head\")[0].appendChild(s);\n",
       "      });\n",
       "    }\n",
       "\n",
       "    function showError(err) {\n",
       "      outputDiv.innerHTML = `<div class=\"error\" style=\"color:red;\">${err}</div>`;\n",
       "      throw err;\n",
       "    }\n",
       "\n",
       "    function displayChart(vegaEmbed) {\n",
       "      vegaEmbed(outputDiv, spec, embedOpt)\n",
       "        .catch(err => showError(`Javascript Error: ${err.message}<br>This usually means there's a typo in your chart specification. See the javascript console for the full traceback.`));\n",
       "    }\n",
       "\n",
       "    if(typeof define === \"function\" && define.amd) {\n",
       "      requirejs.config({paths});\n",
       "      require([\"vega-embed\"], displayChart, err => showError(`Error loading script: ${err.message}`));\n",
       "    } else if (typeof vegaEmbed === \"function\") {\n",
       "      displayChart(vegaEmbed);\n",
       "    } else {\n",
       "      loadScript(\"vega\")\n",
       "        .then(() => loadScript(\"vega-lite\"))\n",
       "        .then(() => loadScript(\"vega-embed\"))\n",
       "        .catch(showError)\n",
       "        .then(() => displayChart(vegaEmbed));\n",
       "    }\n",
       "  })({\"config\": {\"view\": {\"continuousWidth\": 400, \"continuousHeight\": 300, \"stroke\": null}, \"concat\": {\"spacing\": 1}}, \"vconcat\": [{\"hconcat\": [{\"mark\": \"bar\", \"encoding\": {\"color\": {\"condition\": {\"type\": \"nominal\", \"field\": \"Sexo\", \"legend\": null, \"scale\": {\"scheme\": \"tableau10\"}, \"selection\": {\"or\": [\" \", \"selector001\"]}}, \"value\": \"lightgray\"}, \"tooltip\": [{\"type\": \"nominal\", \"field\": \"Fecha (a\\u00f1o-mes-d\\u00eda)\"}, {\"type\": \"quantitative\", \"field\": \"Casos confirmados\"}, {\"type\": \"quantitative\", \"field\": \"Porcentaje\"}], \"x\": {\"type\": \"nominal\", \"axis\": {\"title\": \"\"}, \"field\": \"Fecha (a\\u00f1o-mes-d\\u00eda)\"}, \"y\": {\"type\": \"quantitative\", \"field\": \"Casos confirmados\"}}, \"selection\": {\" \": {\"type\": \"single\", \"fields\": [\"Sexo\"], \"bind\": {\"input\": \"select\", \"options\": [\"F\", \"M\"]}}, \"selector001\": {\"type\": \"multi\", \"fields\": [\"Sexo\"], \"on\": \"mouseover\"}}, \"title\": \"COVID-19 en Chile: Evoluci\\u00f3n de casos confirmados por sexo\", \"transform\": [{\"filter\": {\"selection\": \" \"}}], \"width\": 600}, {\"mark\": \"point\", \"encoding\": {\"color\": {\"condition\": {\"type\": \"nominal\", \"field\": \"Sexo\", \"legend\": null, \"scale\": {\"scheme\": \"tableau10\"}, \"selection\": {\"or\": [\" \", \"selector001\"]}}, \"value\": \"lightgray\"}, \"y\": {\"type\": \"nominal\", \"axis\": {\"orient\": \"right\"}, \"field\": \"Sexo\"}}, \"selection\": {\" \": {\"type\": \"single\", \"fields\": [\"Sexo\"], \"bind\": {\"input\": \"select\", \"options\": [\"F\", \"M\"]}}, \"selector001\": {\"type\": \"multi\", \"fields\": [\"Sexo\"], \"on\": \"mouseover\"}}}]}, {\"mark\": \"bar\", \"encoding\": {\"color\": {\"condition\": {\"type\": \"nominal\", \"field\": \"Sexo\", \"legend\": null, \"scale\": {\"scheme\": \"tableau10\"}, \"selection\": {\"or\": [\" \", \"selector001\"]}}, \"value\": \"lightgray\"}, \"tooltip\": [{\"type\": \"nominal\", \"field\": \"Fecha (a\\u00f1o-mes-d\\u00eda)\"}, {\"type\": \"quantitative\", \"field\": \"Casos confirmados\"}, {\"type\": \"quantitative\", \"field\": \"Porcentaje\"}], \"x\": {\"type\": \"nominal\", \"axis\": {\"labels\": false, \"ticks\": false, \"title\": \"Fecha (a\\u00f1o-mes-d\\u00eda)\"}, \"field\": \"Fecha (a\\u00f1o-mes-d\\u00eda)\"}, \"y\": {\"type\": \"quantitative\", \"axis\": {\"format\": \"%\", \"title\": \"Normalizados\"}, \"field\": \"Casos confirmados\", \"stack\": \"normalize\"}}, \"height\": 80, \"selection\": {\" \": {\"type\": \"single\", \"fields\": [\"Sexo\"], \"bind\": {\"input\": \"select\", \"options\": [\"F\", \"M\"]}}, \"selector001\": {\"type\": \"multi\", \"fields\": [\"Sexo\"], \"on\": \"mouseover\"}}, \"transform\": [{\"filter\": {\"selection\": \" \"}}], \"width\": 600}], \"data\": {\"name\": \"data-dda39cd608e0edd7eef6062e5682f092\"}, \"$schema\": \"https://vega.github.io/schema/vega-lite/v4.8.1.json\", \"datasets\": {\"data-dda39cd608e0edd7eef6062e5682f092\": [{\"Fecha (a\\u00f1o-mes-d\\u00eda)\": \"2020-03-25\", \"Sexo\": \"F\", \"Casos confirmados\": 516, \"Porcentaje\": 0.5098814229249012}, {\"Fecha (a\\u00f1o-mes-d\\u00eda)\": \"2020-03-25\", \"Sexo\": \"M\", \"Casos confirmados\": 496, \"Porcentaje\": 0.4901185770750988}, {\"Fecha (a\\u00f1o-mes-d\\u00eda)\": \"2020-03-26\", \"Sexo\": \"F\", \"Casos confirmados\": 642, \"Porcentaje\": 0.512779552715655}, {\"Fecha (a\\u00f1o-mes-d\\u00eda)\": \"2020-03-26\", \"Sexo\": \"M\", \"Casos confirmados\": 610, \"Porcentaje\": 0.48722044728434505}, {\"Fecha (a\\u00f1o-mes-d\\u00eda)\": \"2020-03-27\", \"Sexo\": \"F\", \"Casos confirmados\": 730, \"Porcentaje\": 0.5090655509065551}, {\"Fecha (a\\u00f1o-mes-d\\u00eda)\": \"2020-03-27\", \"Sexo\": \"M\", \"Casos confirmados\": 704, \"Porcentaje\": 0.4909344490934449}, {\"Fecha (a\\u00f1o-mes-d\\u00eda)\": \"2020-03-28\", \"Sexo\": \"F\", \"Casos confirmados\": 856, \"Porcentaje\": 0.4968078932095183}, {\"Fecha (a\\u00f1o-mes-d\\u00eda)\": \"2020-03-28\", \"Sexo\": \"M\", \"Casos confirmados\": 867, \"Porcentaje\": 0.5031921067904818}, {\"Fecha (a\\u00f1o-mes-d\\u00eda)\": \"2020-03-29\", \"Sexo\": \"F\", \"Casos confirmados\": 947, \"Porcentaje\": 0.4968520461699895}, {\"Fecha (a\\u00f1o-mes-d\\u00eda)\": \"2020-03-29\", \"Sexo\": \"M\", \"Casos confirmados\": 959, \"Porcentaje\": 0.5031479538300105}, {\"Fecha (a\\u00f1o-mes-d\\u00eda)\": \"2020-03-30\", \"Sexo\": \"F\", \"Casos confirmados\": 1037, \"Porcentaje\": 0.4966475095785441}, {\"Fecha (a\\u00f1o-mes-d\\u00eda)\": \"2020-03-30\", \"Sexo\": \"M\", \"Casos confirmados\": 1051, \"Porcentaje\": 0.5033524904214559}, {\"Fecha (a\\u00f1o-mes-d\\u00eda)\": \"2020-03-31\", \"Sexo\": \"F\", \"Casos confirmados\": 1186, \"Porcentaje\": 0.4997892962494732}, {\"Fecha (a\\u00f1o-mes-d\\u00eda)\": \"2020-03-31\", \"Sexo\": \"M\", \"Casos confirmados\": 1187, \"Porcentaje\": 0.5002107037505268}, {\"Fecha (a\\u00f1o-mes-d\\u00eda)\": \"2020-04-01\", \"Sexo\": \"F\", \"Casos confirmados\": 1375, \"Porcentaje\": 0.5010932944606414}, {\"Fecha (a\\u00f1o-mes-d\\u00eda)\": \"2020-04-01\", \"Sexo\": \"M\", \"Casos confirmados\": 1369, \"Porcentaje\": 0.4989067055393586}, {\"Fecha (a\\u00f1o-mes-d\\u00eda)\": \"2020-04-02\", \"Sexo\": \"F\", \"Casos confirmados\": 1475, \"Porcentaje\": 0.5020422055820286}, {\"Fecha (a\\u00f1o-mes-d\\u00eda)\": \"2020-04-02\", \"Sexo\": \"M\", \"Casos confirmados\": 1463, \"Porcentaje\": 0.4979577944179714}, {\"Fecha (a\\u00f1o-mes-d\\u00eda)\": \"2020-04-03\", \"Sexo\": \"F\", \"Casos confirmados\": 1714, \"Porcentaje\": 0.5044143613890524}, {\"Fecha (a\\u00f1o-mes-d\\u00eda)\": \"2020-04-03\", \"Sexo\": \"M\", \"Casos confirmados\": 1684, \"Porcentaje\": 0.4955856386109476}, {\"Fecha (a\\u00f1o-mes-d\\u00eda)\": \"2020-04-04\", \"Sexo\": \"F\", \"Casos confirmados\": 1888, \"Porcentaje\": 0.4988110964332893}, {\"Fecha (a\\u00f1o-mes-d\\u00eda)\": \"2020-04-04\", \"Sexo\": \"M\", \"Casos confirmados\": 1897, \"Porcentaje\": 0.5011889035667108}, {\"Fecha (a\\u00f1o-mes-d\\u00eda)\": \"2020-04-05\", \"Sexo\": \"F\", \"Casos confirmados\": 2040, \"Porcentaje\": 0.4997550220480157}, {\"Fecha (a\\u00f1o-mes-d\\u00eda)\": \"2020-04-05\", \"Sexo\": \"M\", \"Casos confirmados\": 2042, \"Porcentaje\": 0.5002449779519843}, {\"Fecha (a\\u00f1o-mes-d\\u00eda)\": \"2020-04-06\", \"Sexo\": \"F\", \"Casos confirmados\": 2155, \"Porcentaje\": 0.4958582604693971}, {\"Fecha (a\\u00f1o-mes-d\\u00eda)\": \"2020-04-06\", \"Sexo\": \"M\", \"Casos confirmados\": 2191, \"Porcentaje\": 0.5041417395306028}, {\"Fecha (a\\u00f1o-mes-d\\u00eda)\": \"2020-04-07\", \"Sexo\": \"F\", \"Casos confirmados\": 2291, \"Porcentaje\": 0.49620965995235}, {\"Fecha (a\\u00f1o-mes-d\\u00eda)\": \"2020-04-07\", \"Sexo\": \"M\", \"Casos confirmados\": 2326, \"Porcentaje\": 0.50379034004765}, {\"Fecha (a\\u00f1o-mes-d\\u00eda)\": \"2020-04-08\", \"Sexo\": \"F\", \"Casos confirmados\": 2690, \"Porcentaje\": 0.49842505095423384}, {\"Fecha (a\\u00f1o-mes-d\\u00eda)\": \"2020-04-08\", \"Sexo\": \"M\", \"Casos confirmados\": 2707, \"Porcentaje\": 0.5015749490457662}, {\"Fecha (a\\u00f1o-mes-d\\u00eda)\": \"2020-04-09\", \"Sexo\": \"F\", \"Casos confirmados\": 2911, \"Porcentaje\": 0.5010327022375215}, {\"Fecha (a\\u00f1o-mes-d\\u00eda)\": \"2020-04-09\", \"Sexo\": \"M\", \"Casos confirmados\": 2899, \"Porcentaje\": 0.4989672977624785}, {\"Fecha (a\\u00f1o-mes-d\\u00eda)\": \"2020-04-10\", \"Sexo\": \"F\", \"Casos confirmados\": 3142, \"Porcentaje\": 0.4993642720915448}, {\"Fecha (a\\u00f1o-mes-d\\u00eda)\": \"2020-04-10\", \"Sexo\": \"M\", \"Casos confirmados\": 3150, \"Porcentaje\": 0.5006357279084552}, {\"Fecha (a\\u00f1o-mes-d\\u00eda)\": \"2020-04-11\", \"Sexo\": \"F\", \"Casos confirmados\": 3350, \"Porcentaje\": 0.4998507908087138}, {\"Fecha (a\\u00f1o-mes-d\\u00eda)\": \"2020-04-11\", \"Sexo\": \"M\", \"Casos confirmados\": 3352, \"Porcentaje\": 0.5001492091912861}, {\"Fecha (a\\u00f1o-mes-d\\u00eda)\": \"2020-04-12\", \"Sexo\": \"F\", \"Casos confirmados\": 3515, \"Porcentaje\": 0.5009977194982896}, {\"Fecha (a\\u00f1o-mes-d\\u00eda)\": \"2020-04-12\", \"Sexo\": \"M\", \"Casos confirmados\": 3501, \"Porcentaje\": 0.49900228050171036}, {\"Fecha (a\\u00f1o-mes-d\\u00eda)\": \"2020-04-13\", \"Sexo\": \"F\", \"Casos confirmados\": 3713, \"Porcentaje\": 0.500944414463033}, {\"Fecha (a\\u00f1o-mes-d\\u00eda)\": \"2020-04-13\", \"Sexo\": \"M\", \"Casos confirmados\": 3699, \"Porcentaje\": 0.4990555855369671}, {\"Fecha (a\\u00f1o-mes-d\\u00eda)\": \"2020-04-14\", \"Sexo\": \"F\", \"Casos confirmados\": 3856, \"Porcentaje\": 0.4997407983411094}, {\"Fecha (a\\u00f1o-mes-d\\u00eda)\": \"2020-04-14\", \"Sexo\": \"M\", \"Casos confirmados\": 3860, \"Porcentaje\": 0.5002592016588906}, {\"Fecha (a\\u00f1o-mes-d\\u00eda)\": \"2020-04-15\", \"Sexo\": \"F\", \"Casos confirmados\": 4117, \"Porcentaje\": 0.501095423563778}, {\"Fecha (a\\u00f1o-mes-d\\u00eda)\": \"2020-04-15\", \"Sexo\": \"M\", \"Casos confirmados\": 4099, \"Porcentaje\": 0.498904576436222}, {\"Fecha (a\\u00f1o-mes-d\\u00eda)\": \"2020-04-16\", \"Sexo\": \"F\", \"Casos confirmados\": 4374, \"Porcentaje\": 0.5004576659038902}, {\"Fecha (a\\u00f1o-mes-d\\u00eda)\": \"2020-04-16\", \"Sexo\": \"M\", \"Casos confirmados\": 4366, \"Porcentaje\": 0.4995423340961098}, {\"Fecha (a\\u00f1o-mes-d\\u00eda)\": \"2020-04-17\", \"Sexo\": \"F\", \"Casos confirmados\": 4636, \"Porcentaje\": 0.5010808473843493}, {\"Fecha (a\\u00f1o-mes-d\\u00eda)\": \"2020-04-17\", \"Sexo\": \"M\", \"Casos confirmados\": 4616, \"Porcentaje\": 0.4989191526156507}, {\"Fecha (a\\u00f1o-mes-d\\u00eda)\": \"2020-04-18\", \"Sexo\": \"F\", \"Casos confirmados\": 4895, \"Porcentaje\": 0.5030832476875642}, {\"Fecha (a\\u00f1o-mes-d\\u00eda)\": \"2020-04-18\", \"Sexo\": \"M\", \"Casos confirmados\": 4835, \"Porcentaje\": 0.49691675231243576}, {\"Fecha (a\\u00f1o-mes-d\\u00eda)\": \"2020-04-19\", \"Sexo\": \"F\", \"Casos confirmados\": 5097, \"Porcentaje\": 0.505253766851705}, {\"Fecha (a\\u00f1o-mes-d\\u00eda)\": \"2020-04-19\", \"Sexo\": \"M\", \"Casos confirmados\": 4991, \"Porcentaje\": 0.494746233148295}, {\"Fecha (a\\u00f1o-mes-d\\u00eda)\": \"2020-04-20\", \"Sexo\": \"F\", \"Casos confirmados\": 5284, \"Porcentaje\": 0.5055975504736389}, {\"Fecha (a\\u00f1o-mes-d\\u00eda)\": \"2020-04-20\", \"Sexo\": \"M\", \"Casos confirmados\": 5167, \"Porcentaje\": 0.4944024495263611}, {\"Fecha (a\\u00f1o-mes-d\\u00eda)\": \"2020-04-21\", \"Sexo\": \"F\", \"Casos confirmados\": 5483, \"Porcentaje\": 0.506185376661743}, {\"Fecha (a\\u00f1o-mes-d\\u00eda)\": \"2020-04-21\", \"Sexo\": \"M\", \"Casos confirmados\": 5349, \"Porcentaje\": 0.49381462333825704}, {\"Fecha (a\\u00f1o-mes-d\\u00eda)\": \"2020-04-22\", \"Sexo\": \"F\", \"Casos confirmados\": 5689, \"Porcentaje\": 0.5036296033994334}, {\"Fecha (a\\u00f1o-mes-d\\u00eda)\": \"2020-04-22\", \"Sexo\": \"M\", \"Casos confirmados\": 5607, \"Porcentaje\": 0.4963703966005666}, {\"Fecha (a\\u00f1o-mes-d\\u00eda)\": \"2020-04-23\", \"Sexo\": \"F\", \"Casos confirmados\": 5920, \"Porcentaje\": 0.5011852353538774}, {\"Fecha (a\\u00f1o-mes-d\\u00eda)\": \"2020-04-23\", \"Sexo\": \"M\", \"Casos confirmados\": 5892, \"Porcentaje\": 0.49881476464612257}, {\"Fecha (a\\u00f1o-mes-d\\u00eda)\": \"2020-04-24\", \"Sexo\": \"F\", \"Casos confirmados\": 6123, \"Porcentaje\": 0.5013099721630916}, {\"Fecha (a\\u00f1o-mes-d\\u00eda)\": \"2020-04-24\", \"Sexo\": \"M\", \"Casos confirmados\": 6091, \"Porcentaje\": 0.49869002783690847}, {\"Fecha (a\\u00f1o-mes-d\\u00eda)\": \"2020-04-25\", \"Sexo\": \"F\", \"Casos confirmados\": 6394, \"Porcentaje\": 0.5001173249902229}, {\"Fecha (a\\u00f1o-mes-d\\u00eda)\": \"2020-04-25\", \"Sexo\": \"M\", \"Casos confirmados\": 6391, \"Porcentaje\": 0.49988267500977707}, {\"Fecha (a\\u00f1o-mes-d\\u00eda)\": \"2020-04-26\", \"Sexo\": \"F\", \"Casos confirmados\": 6640, \"Porcentaje\": 0.49984944293887384}, {\"Fecha (a\\u00f1o-mes-d\\u00eda)\": \"2020-04-26\", \"Sexo\": \"M\", \"Casos confirmados\": 6644, \"Porcentaje\": 0.5001505570611262}, {\"Fecha (a\\u00f1o-mes-d\\u00eda)\": \"2020-04-27\", \"Sexo\": \"F\", \"Casos confirmados\": 6843, \"Porcentaje\": 0.49934325744308233}, {\"Fecha (a\\u00f1o-mes-d\\u00eda)\": \"2020-04-27\", \"Sexo\": \"M\", \"Casos confirmados\": 6861, \"Porcentaje\": 0.5006567425569177}, {\"Fecha (a\\u00f1o-mes-d\\u00eda)\": \"2020-04-28\", \"Sexo\": \"F\", \"Casos confirmados\": 7150, \"Porcentaje\": 0.4978415262498259}, {\"Fecha (a\\u00f1o-mes-d\\u00eda)\": \"2020-04-28\", \"Sexo\": \"M\", \"Casos confirmados\": 7212, \"Porcentaje\": 0.5021584737501741}, {\"Fecha (a\\u00f1o-mes-d\\u00eda)\": \"2020-05-01\", \"Sexo\": \"F\", \"Casos confirmados\": 8338, \"Porcentaje\": 0.4902398871119473}, {\"Fecha (a\\u00f1o-mes-d\\u00eda)\": \"2020-05-01\", \"Sexo\": \"M\", \"Casos confirmados\": 8670, \"Porcentaje\": 0.5097601128880527}, {\"Fecha (a\\u00f1o-mes-d\\u00eda)\": \"2020-05-02\", \"Sexo\": \"F\", \"Casos confirmados\": 8956, \"Porcentaje\": 0.4858677372104378}, {\"Fecha (a\\u00f1o-mes-d\\u00eda)\": \"2020-05-02\", \"Sexo\": \"M\", \"Casos confirmados\": 9477, \"Porcentaje\": 0.5141322627895621}, {\"Fecha (a\\u00f1o-mes-d\\u00eda)\": \"2020-05-04\", \"Sexo\": \"F\", \"Casos confirmados\": 9914, \"Porcentaje\": 0.482034326834249}, {\"Fecha (a\\u00f1o-mes-d\\u00eda)\": \"2020-05-04\", \"Sexo\": \"M\", \"Casos confirmados\": 10653, \"Porcentaje\": 0.5179656731657509}, {\"Fecha (a\\u00f1o-mes-d\\u00eda)\": \"2020-05-06\", \"Sexo\": \"F\", \"Casos confirmados\": 11009, \"Porcentaje\": 0.4784233627395593}, {\"Fecha (a\\u00f1o-mes-d\\u00eda)\": \"2020-05-06\", \"Sexo\": \"M\", \"Casos confirmados\": 12002, \"Porcentaje\": 0.5215766372604407}, {\"Fecha (a\\u00f1o-mes-d\\u00eda)\": \"2020-05-08\", \"Sexo\": \"F\", \"Casos confirmados\": 12298, \"Porcentaje\": 0.4738748458692972}, {\"Fecha (a\\u00f1o-mes-d\\u00eda)\": \"2020-05-08\", \"Sexo\": \"M\", \"Casos confirmados\": 13654, \"Porcentaje\": 0.5261251541307028}, {\"Fecha (a\\u00f1o-mes-d\\u00eda)\": \"2020-05-11\", \"Sexo\": \"F\", \"Casos confirmados\": 14098, \"Porcentaje\": 0.46919825606549737}, {\"Fecha (a\\u00f1o-mes-d\\u00eda)\": \"2020-05-11\", \"Sexo\": \"M\", \"Casos confirmados\": 15949, \"Porcentaje\": 0.5308017439345026}, {\"Fecha (a\\u00f1o-mes-d\\u00eda)\": \"2020-05-15\", \"Sexo\": \"F\", \"Casos confirmados\": 18501, \"Porcentaje\": 0.4682493482827567}, {\"Fecha (a\\u00f1o-mes-d\\u00eda)\": \"2020-05-15\", \"Sexo\": \"M\", \"Casos confirmados\": 21010, \"Porcentaje\": 0.5317506517172433}, {\"Fecha (a\\u00f1o-mes-d\\u00eda)\": \"2020-05-18\", \"Sexo\": \"F\", \"Casos confirmados\": 21525, \"Porcentaje\": 0.4674470118137595}, {\"Fecha (a\\u00f1o-mes-d\\u00eda)\": \"2020-05-18\", \"Sexo\": \"M\", \"Casos confirmados\": 24523, \"Porcentaje\": 0.5325529881862404}, {\"Fecha (a\\u00f1o-mes-d\\u00eda)\": \"2020-05-22\", \"Sexo\": \"F\", \"Casos confirmados\": 29030, \"Porcentaje\": 0.4693765360238003}, {\"Fecha (a\\u00f1o-mes-d\\u00eda)\": \"2020-05-22\", \"Sexo\": \"M\", \"Casos confirmados\": 32818, \"Porcentaje\": 0.5306234639761997}, {\"Fecha (a\\u00f1o-mes-d\\u00eda)\": \"2020-05-25\", \"Sexo\": \"F\", \"Casos confirmados\": 34719, \"Porcentaje\": 0.46920737887695113}, {\"Fecha (a\\u00f1o-mes-d\\u00eda)\": \"2020-05-25\", \"Sexo\": \"M\", \"Casos confirmados\": 39276, \"Porcentaje\": 0.5307926211230488}, {\"Fecha (a\\u00f1o-mes-d\\u00eda)\": \"2020-05-29\", \"Sexo\": \"F\", \"Casos confirmados\": 42589, \"Porcentaje\": 0.4699009201844782}, {\"Fecha (a\\u00f1o-mes-d\\u00eda)\": \"2020-05-29\", \"Sexo\": \"M\", \"Casos confirmados\": 48045, \"Porcentaje\": 0.5300990798155217}, {\"Fecha (a\\u00f1o-mes-d\\u00eda)\": \"2020-06-01\", \"Sexo\": \"F\", \"Casos confirmados\": 49656, \"Porcentaje\": 0.4722082219918788}, {\"Fecha (a\\u00f1o-mes-d\\u00eda)\": \"2020-06-01\", \"Sexo\": \"M\", \"Casos confirmados\": 55501, \"Porcentaje\": 0.5277917780081212}, {\"Fecha (a\\u00f1o-mes-d\\u00eda)\": \"2020-06-05\", \"Sexo\": \"F\", \"Casos confirmados\": 57919, \"Porcentaje\": 0.47282746234540185}, {\"Fecha (a\\u00f1o-mes-d\\u00eda)\": \"2020-06-05\", \"Sexo\": \"M\", \"Casos confirmados\": 64576, \"Porcentaje\": 0.5271725376545982}, {\"Fecha (a\\u00f1o-mes-d\\u00eda)\": \"2020-06-08\", \"Sexo\": \"F\", \"Casos confirmados\": 65602, \"Porcentaje\": 0.47249391394534795}, {\"Fecha (a\\u00f1o-mes-d\\u00eda)\": \"2020-06-08\", \"Sexo\": \"M\", \"Casos confirmados\": 73240, \"Porcentaje\": 0.5275060860546521}, {\"Fecha (a\\u00f1o-mes-d\\u00eda)\": \"2020-06-12\", \"Sexo\": \"F\", \"Casos confirmados\": 76292, \"Porcentaje\": 0.47433474260134295}, {\"Fecha (a\\u00f1o-mes-d\\u00eda)\": \"2020-06-12\", \"Sexo\": \"M\", \"Casos confirmados\": 84548, \"Porcentaje\": 0.5256652573986571}, {\"Fecha (a\\u00f1o-mes-d\\u00eda)\": \"2020-06-15\", \"Sexo\": \"F\", \"Casos confirmados\": 85229, \"Porcentaje\": 0.47499860669899124}, {\"Fecha (a\\u00f1o-mes-d\\u00eda)\": \"2020-06-15\", \"Sexo\": \"M\", \"Casos confirmados\": 94201, \"Porcentaje\": 0.5250013933010087}, {\"Fecha (a\\u00f1o-mes-d\\u00eda)\": \"2020-06-19\", \"Sexo\": \"F\", \"Casos confirmados\": 111462, \"Porcentaje\": 0.48178533144299596}, {\"Fecha (a\\u00f1o-mes-d\\u00eda)\": \"2020-06-19\", \"Sexo\": \"M\", \"Casos confirmados\": 119890, \"Porcentaje\": 0.518214668557004}, {\"Fecha (a\\u00f1o-mes-d\\u00eda)\": \"2020-06-23\", \"Sexo\": \"F\", \"Casos confirmados\": 123044, \"Porcentaje\": 0.48184335117735283}, {\"Fecha (a\\u00f1o-mes-d\\u00eda)\": \"2020-06-23\", \"Sexo\": \"M\", \"Casos confirmados\": 132317, \"Porcentaje\": 0.5181566488226471}]}}, {\"mode\": \"vega-lite\"});\n",
       "</script>"
      ],
      "text/plain": [
       "alt.VConcatChart(...)"
      ]
     },
     "execution_count": 7,
     "metadata": {},
     "output_type": "execute_result"
    }
   ],
   "source": [
    "#hide_input\n",
    "input_dropdown = alt.binding_select(options=cases_sex['Sexo'].unique())\n",
    "selection1 = alt.selection_single(fields=['Sexo'], bind=input_dropdown, name=' ')\n",
    "selection2 = alt.selection_multi(fields=['Sexo'], on='mouseover')\n",
    "\n",
    "color = alt.condition(selection1 | selection2,\n",
    "                    alt.Color('Sexo:N', scale=alt.Scale(scheme='tableau10'), legend=None),\n",
    "                    alt.value('lightgray'))\n",
    "\n",
    "bars1 = alt.Chart(cases_sex).mark_bar().encode(\n",
    "    x=alt.X(\"Fecha (año-mes-día)\", axis=alt.Axis(title=\"\")),\n",
    "    y=alt.Y(\"Casos confirmados\"),\n",
    "    tooltip = [\"Fecha (año-mes-día)\", \"Casos confirmados\", \"Porcentaje\"],\n",
    "    color=color\n",
    ").add_selection(\n",
    "    selection1, selection2\n",
    ").transform_filter(\n",
    "    selection1\n",
    ")\n",
    "\n",
    "legend = alt.Chart(cases_sex).mark_point().encode(\n",
    "    y=alt.Y('Sexo:N', axis=alt.Axis(orient='right')),\n",
    "    color=color\n",
    ").add_selection(\n",
    "    selection1, selection2\n",
    ")\n",
    "\n",
    "bars2 = alt.Chart(cases_sex).mark_bar().encode(\n",
    "    x=alt.X(\"Fecha (año-mes-día)\", axis=alt.Axis(title=\"Fecha (año-mes-día)\", ticks=False, labels=False)),\n",
    "    y=alt.Y(\"Casos confirmados\", axis=alt.Axis(title=\"Normalizados\", format='%'), stack=\"normalize\"),\n",
    "    color=color,\n",
    "    tooltip = [\"Fecha (año-mes-día)\", \"Casos confirmados\", \"Porcentaje\"],\n",
    ").add_selection(\n",
    "    selection1, selection2\n",
    ").transform_filter(\n",
    "    selection1\n",
    ")\n",
    "\n",
    "alt.vconcat(\n",
    "    bars1.properties(\n",
    "        title = 'COVID-19 en Chile: Evolución de casos confirmados por sexo',\n",
    "        width=600) | legend,\n",
    "    bars2.properties(\n",
    "        height = 80,\n",
    "        width=600)\n",
    ").configure_view(\n",
    "    stroke=None\n",
    ").configure_concat(\n",
    "    spacing=1\n",
    ")"
   ]
  },
  {
   "cell_type": "code",
   "execution_count": 8,
   "metadata": {},
   "outputs": [],
   "source": [
    "#hide\n",
    "censo_raw = pd.read_csv(\n",
    "    'https://raw.githubusercontent.com/alonsosilvaallende/COVID-19/master/data/Censo_2017_Chile.csv',\n",
    "    thousands='.'\n",
    ")"
   ]
  },
  {
   "cell_type": "code",
   "execution_count": 9,
   "metadata": {},
   "outputs": [
    {
     "data": {
      "text/plain": [
       "(8601989, 8972014, 0.48947237575867036)"
      ]
     },
     "execution_count": 9,
     "metadata": {},
     "output_type": "execute_result"
    }
   ],
   "source": [
    "#hide\n",
    "censo_raw[\"Hombre\"].sum(), censo_raw[\"Mujer\"].sum(), censo_raw[\"Hombre\"].sum()/(censo_raw[\"Hombre\"].sum()+censo_raw[\"Mujer\"].sum())"
   ]
  },
  {
   "cell_type": "code",
   "execution_count": 10,
   "metadata": {},
   "outputs": [
    {
     "data": {
      "text/plain": [
       "{'M': 8601989, 'F': 8972014}"
      ]
     },
     "execution_count": 10,
     "metadata": {},
     "output_type": "execute_result"
    }
   ],
   "source": [
    "#hide\n",
    "d = {'M': censo_raw[\"Hombre\"].sum(), 'F': censo_raw[\"Mujer\"].sum()}\n",
    "d"
   ]
  },
  {
   "cell_type": "code",
   "execution_count": 11,
   "metadata": {},
   "outputs": [],
   "source": [
    "#hide\n",
    "censo_sex = pd.DataFrame(d, index=['Sex'])"
   ]
  },
  {
   "cell_type": "markdown",
   "metadata": {},
   "source": [
    "# Casos confirmados por grupo de edad"
   ]
  },
  {
   "cell_type": "code",
   "execution_count": 12,
   "metadata": {
    "scrolled": true
   },
   "outputs": [],
   "source": [
    "#hide\n",
    "cases_raw = cases_raw.groupby('Grupo de edad').sum()"
   ]
  },
  {
   "cell_type": "code",
   "execution_count": 13,
   "metadata": {},
   "outputs": [],
   "source": [
    "#hide\n",
    "cases = pd.DataFrame()\n",
    "cases['Grupo de edad'] = ['<=39', '40-49', '50-59', '60-69', '70-79', '>=80']"
   ]
  },
  {
   "cell_type": "code",
   "execution_count": 14,
   "metadata": {},
   "outputs": [],
   "source": [
    "#hide\n",
    "cases[\"Casos confirmados\"] = [\n",
    "    cases_raw.iloc[:8,-1].sum(),\n",
    "    cases_raw.iloc[8:10,-1].sum(),\n",
    "    cases_raw.iloc[10:12,-1].sum(),\n",
    "    cases_raw.iloc[12:14,-1].sum(),\n",
    "    cases_raw.iloc[14:16,-1].sum(),\n",
    "    cases_raw.iloc[16:,-1].sum()\n",
    "]"
   ]
  },
  {
   "cell_type": "code",
   "execution_count": 15,
   "metadata": {},
   "outputs": [
    {
     "data": {
      "text/plain": [
       "255361"
      ]
     },
     "execution_count": 15,
     "metadata": {},
     "output_type": "execute_result"
    }
   ],
   "source": [
    "#hide\n",
    "total_cases = cases[\"Casos confirmados\"].sum()\n",
    "total_cases"
   ]
  },
  {
   "cell_type": "code",
   "execution_count": 16,
   "metadata": {},
   "outputs": [],
   "source": [
    "#hide\n",
    "cases[\"Porcentaje\"] = np.round(100*cases[\"Casos confirmados\"]/total_cases, decimals=1)"
   ]
  },
  {
   "cell_type": "code",
   "execution_count": 17,
   "metadata": {},
   "outputs": [],
   "source": [
    "#hide\n",
    "cases[\"Texto\"] = \\\n",
    "[f\"{cases['Casos confirmados'].iloc[i]} ({cases['Porcentaje'].iloc[i]}%)\" for i, val in cases.iterrows()]"
   ]
  },
  {
   "cell_type": "code",
   "execution_count": 18,
   "metadata": {},
   "outputs": [
    {
     "data": {
      "text/html": [
       "\n",
       "<div id=\"altair-viz-e28fda8cfa2b4e9381d40cf9cadadcd8\"></div>\n",
       "<script type=\"text/javascript\">\n",
       "  (function(spec, embedOpt){\n",
       "    let outputDiv = document.currentScript.previousElementSibling;\n",
       "    if (outputDiv.id !== \"altair-viz-e28fda8cfa2b4e9381d40cf9cadadcd8\") {\n",
       "      outputDiv = document.getElementById(\"altair-viz-e28fda8cfa2b4e9381d40cf9cadadcd8\");\n",
       "    }\n",
       "    const paths = {\n",
       "      \"vega\": \"https://cdn.jsdelivr.net/npm//vega@5?noext\",\n",
       "      \"vega-lib\": \"https://cdn.jsdelivr.net/npm//vega-lib?noext\",\n",
       "      \"vega-lite\": \"https://cdn.jsdelivr.net/npm//vega-lite@4.8.1?noext\",\n",
       "      \"vega-embed\": \"https://cdn.jsdelivr.net/npm//vega-embed@6?noext\",\n",
       "    };\n",
       "\n",
       "    function loadScript(lib) {\n",
       "      return new Promise(function(resolve, reject) {\n",
       "        var s = document.createElement('script');\n",
       "        s.src = paths[lib];\n",
       "        s.async = true;\n",
       "        s.onload = () => resolve(paths[lib]);\n",
       "        s.onerror = () => reject(`Error loading script: ${paths[lib]}`);\n",
       "        document.getElementsByTagName(\"head\")[0].appendChild(s);\n",
       "      });\n",
       "    }\n",
       "\n",
       "    function showError(err) {\n",
       "      outputDiv.innerHTML = `<div class=\"error\" style=\"color:red;\">${err}</div>`;\n",
       "      throw err;\n",
       "    }\n",
       "\n",
       "    function displayChart(vegaEmbed) {\n",
       "      vegaEmbed(outputDiv, spec, embedOpt)\n",
       "        .catch(err => showError(`Javascript Error: ${err.message}<br>This usually means there's a typo in your chart specification. See the javascript console for the full traceback.`));\n",
       "    }\n",
       "\n",
       "    if(typeof define === \"function\" && define.amd) {\n",
       "      requirejs.config({paths});\n",
       "      require([\"vega-embed\"], displayChart, err => showError(`Error loading script: ${err.message}`));\n",
       "    } else if (typeof vegaEmbed === \"function\") {\n",
       "      displayChart(vegaEmbed);\n",
       "    } else {\n",
       "      loadScript(\"vega\")\n",
       "        .then(() => loadScript(\"vega-lite\"))\n",
       "        .then(() => loadScript(\"vega-embed\"))\n",
       "        .catch(showError)\n",
       "        .then(() => displayChart(vegaEmbed));\n",
       "    }\n",
       "  })({\"config\": {\"view\": {\"continuousWidth\": 400, \"continuousHeight\": 300}}, \"layer\": [{\"mark\": {\"type\": \"bar\", \"opacity\": 0.8, \"size\": 30}, \"encoding\": {\"color\": {\"type\": \"nominal\", \"field\": \"Grupo de edad\", \"legend\": null, \"scale\": {\"scheme\": \"category10\"}}, \"order\": {\"type\": \"ordinal\", \"field\": \"index\"}, \"tooltip\": [{\"type\": \"nominal\", \"field\": \"Grupo de edad\"}, {\"type\": \"quantitative\", \"field\": \"Casos confirmados\"}, {\"type\": \"quantitative\", \"field\": \"Porcentaje\"}], \"x\": {\"type\": \"quantitative\", \"field\": \"Casos confirmados\"}, \"y\": {\"type\": \"nominal\", \"field\": \"Grupo de edad\", \"sort\": [\"<=39\", \"40-49\", \"50-59\", \"60-69\", \"70-79\", \">=80\"]}}, \"height\": {\"step\": 40}, \"title\": \"Covid-19 en Chile: Casos confirmados por grupo de edad al 23/06/2020\", \"width\": 600}, {\"mark\": {\"type\": \"text\", \"align\": \"left\", \"baseline\": \"middle\", \"dx\": 3}, \"encoding\": {\"color\": {\"type\": \"nominal\", \"field\": \"Grupo de edad\", \"legend\": null, \"scale\": {\"scheme\": \"category10\"}}, \"order\": {\"type\": \"ordinal\", \"field\": \"index\"}, \"text\": {\"type\": \"nominal\", \"field\": \"Texto\"}, \"tooltip\": [{\"type\": \"nominal\", \"field\": \"Grupo de edad\"}, {\"type\": \"quantitative\", \"field\": \"Casos confirmados\"}, {\"type\": \"quantitative\", \"field\": \"Porcentaje\"}], \"x\": {\"type\": \"quantitative\", \"field\": \"Casos confirmados\"}, \"y\": {\"type\": \"nominal\", \"field\": \"Grupo de edad\", \"sort\": [\"<=39\", \"40-49\", \"50-59\", \"60-69\", \"70-79\", \">=80\"]}}}], \"data\": {\"name\": \"data-9a46c89c5c017447a0daba6f4c7f4fd6\"}, \"$schema\": \"https://vega.github.io/schema/vega-lite/v4.8.1.json\", \"datasets\": {\"data-9a46c89c5c017447a0daba6f4c7f4fd6\": [{\"index\": 0, \"Grupo de edad\": \"<=39\", \"Casos confirmados\": 131528, \"Porcentaje\": 51.5, \"Texto\": \"131528 (51.5%)\"}, {\"index\": 1, \"Grupo de edad\": \"40-49\", \"Casos confirmados\": 43710, \"Porcentaje\": 17.1, \"Texto\": \"43710 (17.1%)\"}, {\"index\": 2, \"Grupo de edad\": \"50-59\", \"Casos confirmados\": 39940, \"Porcentaje\": 15.6, \"Texto\": \"39940 (15.6%)\"}, {\"index\": 3, \"Grupo de edad\": \"60-69\", \"Casos confirmados\": 22457, \"Porcentaje\": 8.8, \"Texto\": \"22457 (8.8%)\"}, {\"index\": 4, \"Grupo de edad\": \"70-79\", \"Casos confirmados\": 10922, \"Porcentaje\": 4.3, \"Texto\": \"10922 (4.3%)\"}, {\"index\": 5, \"Grupo de edad\": \">=80\", \"Casos confirmados\": 6804, \"Porcentaje\": 2.7, \"Texto\": \"6804 (2.7%)\"}]}}, {\"mode\": \"vega-lite\"});\n",
       "</script>"
      ],
      "text/plain": [
       "alt.LayerChart(...)"
      ]
     },
     "execution_count": 18,
     "metadata": {},
     "output_type": "execute_result"
    }
   ],
   "source": [
    "#hide_input\n",
    "bars = alt.Chart(cases.reset_index()).mark_bar(opacity=0.8, size=30).encode(\n",
    "    x = alt.X('Casos confirmados'),\n",
    "    y = alt.Y('Grupo de edad', sort=['<=39', '40-49', '50-59', '60-69', '70-79', '>=80']),\n",
    "    tooltip = ['Grupo de edad', 'Casos confirmados', 'Porcentaje'],\n",
    "    color = alt.Color('Grupo de edad', scale=alt.Scale(scheme='category10'), legend=None),\n",
    "    order = alt.Order('index:O')\n",
    ")\n",
    "\n",
    "text = bars.mark_text(\n",
    "    align='left',\n",
    "    baseline='middle',\n",
    "    dx=3  # Nudges text to right so it doesn't appear on top of the bar\n",
    ").encode(\n",
    "    text=alt.Text('Texto')\n",
    ")\n",
    "\n",
    "bars.properties(\n",
    "    title = f\"Covid-19 en Chile: Casos confirmados por grupo de edad al {pd.to_datetime(today).strftime('%d/%m/%Y')}\",\n",
    "    width = 600,\n",
    "    height = alt.Step(40)\n",
    ") + text"
   ]
  },
  {
   "cell_type": "markdown",
   "metadata": {},
   "source": [
    "# Fallecidos confirmados por grupo de edad"
   ]
  },
  {
   "cell_type": "code",
   "execution_count": 19,
   "metadata": {},
   "outputs": [],
   "source": [
    "#hide\n",
    "deaths_raw = pd.read_csv(\n",
    "    'https://raw.githubusercontent.com/MinCiencia/Datos-COVID19/' + \\\n",
    "    'master/output/producto10/FallecidosEtario.csv'\n",
    ")"
   ]
  },
  {
   "cell_type": "code",
   "execution_count": 20,
   "metadata": {},
   "outputs": [],
   "source": [
    "#hide\n",
    "grupo_de_edad = ['<=39', '40-49', '50-59', '60-69', '70-79', '80-89', '>=90']"
   ]
  },
  {
   "cell_type": "code",
   "execution_count": 21,
   "metadata": {},
   "outputs": [],
   "source": [
    "#hide\n",
    "deaths = deaths_raw[['Grupo de edad', today]].copy()"
   ]
  },
  {
   "cell_type": "code",
   "execution_count": 22,
   "metadata": {},
   "outputs": [
    {
     "data": {
      "text/plain": [
       "4505"
      ]
     },
     "execution_count": 22,
     "metadata": {},
     "output_type": "execute_result"
    }
   ],
   "source": [
    "#hide\n",
    "total_deaths = deaths[today].sum()\n",
    "total_deaths"
   ]
  },
  {
   "cell_type": "code",
   "execution_count": 23,
   "metadata": {},
   "outputs": [],
   "source": [
    "#hide\n",
    "deaths = deaths.rename(columns={today: \"Fallecidos confirmados\"})"
   ]
  },
  {
   "cell_type": "code",
   "execution_count": 24,
   "metadata": {
    "scrolled": false
   },
   "outputs": [],
   "source": [
    "#hide\n",
    "deaths['Porcentaje'] = np.round(100*deaths[\"Fallecidos confirmados\"]/total_deaths, decimals=1)"
   ]
  },
  {
   "cell_type": "code",
   "execution_count": 25,
   "metadata": {},
   "outputs": [],
   "source": [
    "#hide\n",
    "deaths['Texto'] = \\\n",
    "[f\"{deaths['Fallecidos confirmados'].iloc[i]} ({deaths['Porcentaje'].iloc[i]}%)\" for i, val in deaths.iterrows()]"
   ]
  },
  {
   "cell_type": "code",
   "execution_count": 26,
   "metadata": {},
   "outputs": [
    {
     "data": {
      "text/html": [
       "\n",
       "<div id=\"altair-viz-8d772f6c70b3440f90365865994705d0\"></div>\n",
       "<script type=\"text/javascript\">\n",
       "  (function(spec, embedOpt){\n",
       "    let outputDiv = document.currentScript.previousElementSibling;\n",
       "    if (outputDiv.id !== \"altair-viz-8d772f6c70b3440f90365865994705d0\") {\n",
       "      outputDiv = document.getElementById(\"altair-viz-8d772f6c70b3440f90365865994705d0\");\n",
       "    }\n",
       "    const paths = {\n",
       "      \"vega\": \"https://cdn.jsdelivr.net/npm//vega@5?noext\",\n",
       "      \"vega-lib\": \"https://cdn.jsdelivr.net/npm//vega-lib?noext\",\n",
       "      \"vega-lite\": \"https://cdn.jsdelivr.net/npm//vega-lite@4.8.1?noext\",\n",
       "      \"vega-embed\": \"https://cdn.jsdelivr.net/npm//vega-embed@6?noext\",\n",
       "    };\n",
       "\n",
       "    function loadScript(lib) {\n",
       "      return new Promise(function(resolve, reject) {\n",
       "        var s = document.createElement('script');\n",
       "        s.src = paths[lib];\n",
       "        s.async = true;\n",
       "        s.onload = () => resolve(paths[lib]);\n",
       "        s.onerror = () => reject(`Error loading script: ${paths[lib]}`);\n",
       "        document.getElementsByTagName(\"head\")[0].appendChild(s);\n",
       "      });\n",
       "    }\n",
       "\n",
       "    function showError(err) {\n",
       "      outputDiv.innerHTML = `<div class=\"error\" style=\"color:red;\">${err}</div>`;\n",
       "      throw err;\n",
       "    }\n",
       "\n",
       "    function displayChart(vegaEmbed) {\n",
       "      vegaEmbed(outputDiv, spec, embedOpt)\n",
       "        .catch(err => showError(`Javascript Error: ${err.message}<br>This usually means there's a typo in your chart specification. See the javascript console for the full traceback.`));\n",
       "    }\n",
       "\n",
       "    if(typeof define === \"function\" && define.amd) {\n",
       "      requirejs.config({paths});\n",
       "      require([\"vega-embed\"], displayChart, err => showError(`Error loading script: ${err.message}`));\n",
       "    } else if (typeof vegaEmbed === \"function\") {\n",
       "      displayChart(vegaEmbed);\n",
       "    } else {\n",
       "      loadScript(\"vega\")\n",
       "        .then(() => loadScript(\"vega-lite\"))\n",
       "        .then(() => loadScript(\"vega-embed\"))\n",
       "        .catch(showError)\n",
       "        .then(() => displayChart(vegaEmbed));\n",
       "    }\n",
       "  })({\"config\": {\"view\": {\"continuousWidth\": 400, \"continuousHeight\": 300}}, \"layer\": [{\"mark\": {\"type\": \"bar\", \"opacity\": 0.8, \"size\": 30}, \"encoding\": {\"color\": {\"type\": \"nominal\", \"field\": \"Grupo de edad\", \"legend\": null, \"scale\": {\"scheme\": \"category10\"}}, \"order\": {\"type\": \"ordinal\", \"field\": \"index\"}, \"tooltip\": [{\"type\": \"nominal\", \"field\": \"Grupo de edad\"}, {\"type\": \"quantitative\", \"field\": \"Fallecidos confirmados\"}, {\"type\": \"quantitative\", \"field\": \"Porcentaje\"}], \"x\": {\"type\": \"quantitative\", \"field\": \"Fallecidos confirmados\"}, \"y\": {\"type\": \"nominal\", \"field\": \"Grupo de edad\", \"sort\": [\"<=39\", \"40-49\", \"50-59\", \"60-69\", \"70-79\", \"80-89\", \">=90\"]}}, \"height\": {\"step\": 40}, \"title\": \"Covid-19 en Chile: Fallecidos confirmados por grupo de edad al 23/06/2020\", \"width\": 600}, {\"mark\": {\"type\": \"text\", \"align\": \"left\", \"baseline\": \"middle\", \"dx\": 3}, \"encoding\": {\"color\": {\"type\": \"nominal\", \"field\": \"Grupo de edad\", \"legend\": null, \"scale\": {\"scheme\": \"category10\"}}, \"order\": {\"type\": \"ordinal\", \"field\": \"index\"}, \"text\": {\"type\": \"nominal\", \"field\": \"Texto\"}, \"tooltip\": [{\"type\": \"nominal\", \"field\": \"Grupo de edad\"}, {\"type\": \"quantitative\", \"field\": \"Fallecidos confirmados\"}, {\"type\": \"quantitative\", \"field\": \"Porcentaje\"}], \"x\": {\"type\": \"quantitative\", \"field\": \"Fallecidos confirmados\"}, \"y\": {\"type\": \"nominal\", \"field\": \"Grupo de edad\", \"sort\": [\"<=39\", \"40-49\", \"50-59\", \"60-69\", \"70-79\", \"80-89\", \">=90\"]}}}], \"data\": {\"name\": \"data-31e48e5708dc451634e9b4eb739252fb\"}, \"$schema\": \"https://vega.github.io/schema/vega-lite/v4.8.1.json\", \"datasets\": {\"data-31e48e5708dc451634e9b4eb739252fb\": [{\"index\": 0, \"Grupo de edad\": \"<=39\", \"Fallecidos confirmados\": 98, \"Porcentaje\": 2.2, \"Texto\": \"98 (2.2%)\"}, {\"index\": 1, \"Grupo de edad\": \"40-49\", \"Fallecidos confirmados\": 150, \"Porcentaje\": 3.3, \"Texto\": \"150 (3.3%)\"}, {\"index\": 2, \"Grupo de edad\": \"50-59\", \"Fallecidos confirmados\": 434, \"Porcentaje\": 9.6, \"Texto\": \"434 (9.6%)\"}, {\"index\": 3, \"Grupo de edad\": \"60-69\", \"Fallecidos confirmados\": 942, \"Porcentaje\": 20.9, \"Texto\": \"942 (20.9%)\"}, {\"index\": 4, \"Grupo de edad\": \"70-79\", \"Fallecidos confirmados\": 1344, \"Porcentaje\": 29.8, \"Texto\": \"1344 (29.8%)\"}, {\"index\": 5, \"Grupo de edad\": \"80-89\", \"Fallecidos confirmados\": 1206, \"Porcentaje\": 26.8, \"Texto\": \"1206 (26.8%)\"}, {\"index\": 6, \"Grupo de edad\": \">=90\", \"Fallecidos confirmados\": 331, \"Porcentaje\": 7.3, \"Texto\": \"331 (7.3%)\"}]}}, {\"mode\": \"vega-lite\"});\n",
       "</script>"
      ],
      "text/plain": [
       "alt.LayerChart(...)"
      ]
     },
     "execution_count": 26,
     "metadata": {},
     "output_type": "execute_result"
    }
   ],
   "source": [
    "#hide_input\n",
    "bars = alt.Chart(deaths.reset_index()).mark_bar(opacity=0.8, size=30).encode(\n",
    "    x = alt.X('Fallecidos confirmados'),\n",
    "    y = alt.Y('Grupo de edad', sort=grupo_de_edad),\n",
    "    tooltip = ['Grupo de edad', 'Fallecidos confirmados', 'Porcentaje'],\n",
    "    color = alt.Color('Grupo de edad', scale=alt.Scale(scheme='category10'), legend=None),\n",
    "    order = alt.Order('index:O')\n",
    ")\n",
    "\n",
    "text = bars.mark_text(\n",
    "    align='left',\n",
    "    baseline='middle',\n",
    "    dx=3  # Nudges text to right so it doesn't appear on top of the bar\n",
    ").encode(\n",
    "    text=alt.Text('Texto')\n",
    ")\n",
    "\n",
    "bars.properties(\n",
    "    title = f\"Covid-19 en Chile: Fallecidos confirmados por grupo de edad al {pd.to_datetime(today).strftime('%d/%m/%Y')}\",\n",
    "    width = 600,\n",
    "    height = alt.Step(40)\n",
    ") + text"
   ]
  },
  {
   "cell_type": "markdown",
   "metadata": {},
   "source": [
    "# Letalidad por grupo de edad"
   ]
  },
  {
   "cell_type": "code",
   "execution_count": 27,
   "metadata": {},
   "outputs": [],
   "source": [
    "#hide\n",
    "data = cases.drop(columns=[\"Porcentaje\", \"Texto\"])"
   ]
  },
  {
   "cell_type": "code",
   "execution_count": 28,
   "metadata": {},
   "outputs": [
    {
     "data": {
      "text/plain": [
       "[98, 150, 434, 942, 1344]"
      ]
     },
     "execution_count": 28,
     "metadata": {},
     "output_type": "execute_result"
    }
   ],
   "source": [
    "#hide\n",
    "a = list(deaths[\"Fallecidos confirmados\"][:5])\n",
    "a"
   ]
  },
  {
   "cell_type": "code",
   "execution_count": 29,
   "metadata": {},
   "outputs": [
    {
     "data": {
      "text/plain": [
       "[98, 150, 434, 942, 1344, 1537]"
      ]
     },
     "execution_count": 29,
     "metadata": {},
     "output_type": "execute_result"
    }
   ],
   "source": [
    "#hide\n",
    "a.append(deaths[\"Fallecidos confirmados\"][5:].sum())\n",
    "a"
   ]
  },
  {
   "cell_type": "code",
   "execution_count": 30,
   "metadata": {},
   "outputs": [],
   "source": [
    "#hide\n",
    "data[\"Fallecidos confirmados\"] = a"
   ]
  },
  {
   "cell_type": "code",
   "execution_count": 31,
   "metadata": {},
   "outputs": [],
   "source": [
    "#hide\n",
    "data[\"Letalidad\"] = 100*data[\"Fallecidos confirmados\"]/data[\"Casos confirmados\"]"
   ]
  },
  {
   "cell_type": "code",
   "execution_count": 32,
   "metadata": {},
   "outputs": [],
   "source": [
    "#hide\n",
    "data['Texto'] = \\\n",
    "[f\"{data['Letalidad'].iloc[i]:.2f}\" for i, val in data.iterrows()]"
   ]
  },
  {
   "cell_type": "code",
   "execution_count": 33,
   "metadata": {
    "scrolled": true
   },
   "outputs": [
    {
     "data": {
      "text/html": [
       "\n",
       "<div id=\"altair-viz-2062e8fb5cb045be88fe9ff5c13c93ec\"></div>\n",
       "<script type=\"text/javascript\">\n",
       "  (function(spec, embedOpt){\n",
       "    let outputDiv = document.currentScript.previousElementSibling;\n",
       "    if (outputDiv.id !== \"altair-viz-2062e8fb5cb045be88fe9ff5c13c93ec\") {\n",
       "      outputDiv = document.getElementById(\"altair-viz-2062e8fb5cb045be88fe9ff5c13c93ec\");\n",
       "    }\n",
       "    const paths = {\n",
       "      \"vega\": \"https://cdn.jsdelivr.net/npm//vega@5?noext\",\n",
       "      \"vega-lib\": \"https://cdn.jsdelivr.net/npm//vega-lib?noext\",\n",
       "      \"vega-lite\": \"https://cdn.jsdelivr.net/npm//vega-lite@4.8.1?noext\",\n",
       "      \"vega-embed\": \"https://cdn.jsdelivr.net/npm//vega-embed@6?noext\",\n",
       "    };\n",
       "\n",
       "    function loadScript(lib) {\n",
       "      return new Promise(function(resolve, reject) {\n",
       "        var s = document.createElement('script');\n",
       "        s.src = paths[lib];\n",
       "        s.async = true;\n",
       "        s.onload = () => resolve(paths[lib]);\n",
       "        s.onerror = () => reject(`Error loading script: ${paths[lib]}`);\n",
       "        document.getElementsByTagName(\"head\")[0].appendChild(s);\n",
       "      });\n",
       "    }\n",
       "\n",
       "    function showError(err) {\n",
       "      outputDiv.innerHTML = `<div class=\"error\" style=\"color:red;\">${err}</div>`;\n",
       "      throw err;\n",
       "    }\n",
       "\n",
       "    function displayChart(vegaEmbed) {\n",
       "      vegaEmbed(outputDiv, spec, embedOpt)\n",
       "        .catch(err => showError(`Javascript Error: ${err.message}<br>This usually means there's a typo in your chart specification. See the javascript console for the full traceback.`));\n",
       "    }\n",
       "\n",
       "    if(typeof define === \"function\" && define.amd) {\n",
       "      requirejs.config({paths});\n",
       "      require([\"vega-embed\"], displayChart, err => showError(`Error loading script: ${err.message}`));\n",
       "    } else if (typeof vegaEmbed === \"function\") {\n",
       "      displayChart(vegaEmbed);\n",
       "    } else {\n",
       "      loadScript(\"vega\")\n",
       "        .then(() => loadScript(\"vega-lite\"))\n",
       "        .then(() => loadScript(\"vega-embed\"))\n",
       "        .catch(showError)\n",
       "        .then(() => displayChart(vegaEmbed));\n",
       "    }\n",
       "  })({\"config\": {\"view\": {\"continuousWidth\": 400, \"continuousHeight\": 300}}, \"layer\": [{\"mark\": {\"type\": \"bar\", \"opacity\": 0.8, \"size\": 30}, \"encoding\": {\"color\": {\"type\": \"nominal\", \"field\": \"Grupo de edad\", \"legend\": null, \"scale\": {\"scheme\": \"category10\"}}, \"order\": {\"type\": \"ordinal\", \"field\": \"index\"}, \"tooltip\": [{\"type\": \"nominal\", \"field\": \"Grupo de edad\"}, {\"type\": \"quantitative\", \"field\": \"Casos confirmados\"}, {\"type\": \"quantitative\", \"field\": \"Fallecidos confirmados\"}, {\"type\": \"quantitative\", \"field\": \"Letalidad\"}], \"x\": {\"type\": \"quantitative\", \"field\": \"Letalidad\"}, \"y\": {\"type\": \"nominal\", \"field\": \"Grupo de edad\", \"sort\": [\"<=39\", \"40-49\", \"50-59\", \"60-69\", \"70-79\", \"80-89\", \">=90\"]}}, \"height\": {\"step\": 40}, \"title\": \"Covid-19 en Chile: Letalidad por grupo de edad al 23/06/2020\", \"width\": 600}, {\"mark\": {\"type\": \"text\", \"align\": \"left\", \"baseline\": \"middle\", \"dx\": 3}, \"encoding\": {\"color\": {\"type\": \"nominal\", \"field\": \"Grupo de edad\", \"legend\": null, \"scale\": {\"scheme\": \"category10\"}}, \"order\": {\"type\": \"ordinal\", \"field\": \"index\"}, \"text\": {\"type\": \"nominal\", \"field\": \"Texto\"}, \"tooltip\": [{\"type\": \"nominal\", \"field\": \"Grupo de edad\"}, {\"type\": \"quantitative\", \"field\": \"Casos confirmados\"}, {\"type\": \"quantitative\", \"field\": \"Fallecidos confirmados\"}, {\"type\": \"quantitative\", \"field\": \"Letalidad\"}], \"x\": {\"type\": \"quantitative\", \"field\": \"Letalidad\"}, \"y\": {\"type\": \"nominal\", \"field\": \"Grupo de edad\", \"sort\": [\"<=39\", \"40-49\", \"50-59\", \"60-69\", \"70-79\", \"80-89\", \">=90\"]}}}], \"data\": {\"name\": \"data-9788cf649bb09301d19c2abd5103893c\"}, \"$schema\": \"https://vega.github.io/schema/vega-lite/v4.8.1.json\", \"datasets\": {\"data-9788cf649bb09301d19c2abd5103893c\": [{\"index\": 0, \"Grupo de edad\": \"<=39\", \"Casos confirmados\": 131528, \"Fallecidos confirmados\": 98, \"Letalidad\": 0.07450884982665287, \"Texto\": \"0.07\"}, {\"index\": 1, \"Grupo de edad\": \"40-49\", \"Casos confirmados\": 43710, \"Fallecidos confirmados\": 150, \"Letalidad\": 0.34317089910775567, \"Texto\": \"0.34\"}, {\"index\": 2, \"Grupo de edad\": \"50-59\", \"Casos confirmados\": 39940, \"Fallecidos confirmados\": 434, \"Letalidad\": 1.086629944917376, \"Texto\": \"1.09\"}, {\"index\": 3, \"Grupo de edad\": \"60-69\", \"Casos confirmados\": 22457, \"Fallecidos confirmados\": 942, \"Letalidad\": 4.194683172284811, \"Texto\": \"4.19\"}, {\"index\": 4, \"Grupo de edad\": \"70-79\", \"Casos confirmados\": 10922, \"Fallecidos confirmados\": 1344, \"Letalidad\": 12.3054385643655, \"Texto\": \"12.31\"}, {\"index\": 5, \"Grupo de edad\": \">=80\", \"Casos confirmados\": 6804, \"Fallecidos confirmados\": 1537, \"Letalidad\": 22.5896531452087, \"Texto\": \"22.59\"}]}}, {\"mode\": \"vega-lite\"});\n",
       "</script>"
      ],
      "text/plain": [
       "alt.LayerChart(...)"
      ]
     },
     "execution_count": 33,
     "metadata": {},
     "output_type": "execute_result"
    }
   ],
   "source": [
    "#hide_input\n",
    "bars = alt.Chart(data.reset_index()).mark_bar(opacity=0.8, size=30).encode(\n",
    "    x = alt.X('Letalidad'),\n",
    "    y = alt.Y('Grupo de edad', sort=grupo_de_edad),\n",
    "    tooltip = ['Grupo de edad', 'Casos confirmados', 'Fallecidos confirmados', 'Letalidad'],\n",
    "    color = alt.Color('Grupo de edad', scale=alt.Scale(scheme='category10'), legend=None),\n",
    "    order = alt.Order('index:O')\n",
    ")\n",
    "\n",
    "text = bars.mark_text(\n",
    "    align='left',\n",
    "    baseline='middle',\n",
    "    dx=3  # Nudges text to right so it doesn't appear on top of the bar\n",
    ").encode(\n",
    "    text=alt.Text('Texto')\n",
    ")\n",
    "\n",
    "bars.properties(\n",
    "    title = f\"Covid-19 en Chile: Letalidad por grupo de edad al {pd.to_datetime(today).strftime('%d/%m/%Y')}\",\n",
    "    width = 600,\n",
    "    height = alt.Step(40)\n",
    ") + text"
   ]
  },
  {
   "cell_type": "code",
   "execution_count": 34,
   "metadata": {
    "scrolled": true
   },
   "outputs": [
    {
     "data": {
      "text/plain": [
       "1.7641691566057465"
      ]
     },
     "execution_count": 34,
     "metadata": {},
     "output_type": "execute_result"
    }
   ],
   "source": [
    "#hide\n",
    "100*deaths[\"Fallecidos confirmados\"].sum()/cases[\"Casos confirmados\"].sum()"
   ]
  },
  {
   "cell_type": "markdown",
   "metadata": {},
   "source": [
    "# Población por grupo de edad"
   ]
  },
  {
   "cell_type": "code",
   "execution_count": 35,
   "metadata": {},
   "outputs": [],
   "source": [
    "#hide\n",
    "censo = pd.DataFrame()\n",
    "censo['Grupo de edad'] = censo_raw['Grupo de edad']"
   ]
  },
  {
   "cell_type": "code",
   "execution_count": 36,
   "metadata": {
    "scrolled": true
   },
   "outputs": [],
   "source": [
    "#hide\n",
    "censo['Poblacion'] = censo_raw.drop(columns='Grupo de edad').sum(axis=1)"
   ]
  },
  {
   "cell_type": "code",
   "execution_count": 37,
   "metadata": {},
   "outputs": [],
   "source": [
    "#hide\n",
    "new_censo = pd.DataFrame()\n",
    "new_censo['Grupo de edad'] = grupo_de_edad"
   ]
  },
  {
   "cell_type": "code",
   "execution_count": 38,
   "metadata": {},
   "outputs": [],
   "source": [
    "#hide\n",
    "new_censo[\"Poblacion\"] = \\\n",
    "[censo.iloc[:8][\"Poblacion\"].sum(), \\\n",
    "censo.iloc[8:10][\"Poblacion\"].sum(), \\\n",
    "censo.iloc[10:12][\"Poblacion\"].sum(), \\\n",
    "censo.iloc[12:14][\"Poblacion\"].sum(), \\\n",
    "censo.iloc[14:16][\"Poblacion\"].sum(), \\\n",
    "censo.iloc[16:18][\"Poblacion\"].sum(), \\\n",
    "censo.iloc[18:][\"Poblacion\"].sum()]"
   ]
  },
  {
   "cell_type": "code",
   "execution_count": 39,
   "metadata": {},
   "outputs": [
    {
     "data": {
      "text/plain": [
       "17574003"
      ]
     },
     "execution_count": 39,
     "metadata": {},
     "output_type": "execute_result"
    }
   ],
   "source": [
    "#hide\n",
    "total_poblacion = new_censo[\"Poblacion\"].sum()\n",
    "total_poblacion"
   ]
  },
  {
   "cell_type": "code",
   "execution_count": 40,
   "metadata": {},
   "outputs": [],
   "source": [
    "#hide\n",
    "new_censo[\"Porcentaje\"] = np.round(100*new_censo[\"Poblacion\"]/total_poblacion, decimals=1)"
   ]
  },
  {
   "cell_type": "code",
   "execution_count": 41,
   "metadata": {},
   "outputs": [],
   "source": [
    "#hide\n",
    "new_censo['Texto'] = \\\n",
    "[f\"{format(new_censo['Poblacion'].iloc[i],',').replace(',', '.')} ({new_censo['Porcentaje'].iloc[i]}%)\" for i, val in new_censo.iterrows()]"
   ]
  },
  {
   "cell_type": "code",
   "execution_count": 42,
   "metadata": {},
   "outputs": [
    {
     "data": {
      "text/html": [
       "\n",
       "<div id=\"altair-viz-a62705c720d9437892be6dfe2465a70b\"></div>\n",
       "<script type=\"text/javascript\">\n",
       "  (function(spec, embedOpt){\n",
       "    let outputDiv = document.currentScript.previousElementSibling;\n",
       "    if (outputDiv.id !== \"altair-viz-a62705c720d9437892be6dfe2465a70b\") {\n",
       "      outputDiv = document.getElementById(\"altair-viz-a62705c720d9437892be6dfe2465a70b\");\n",
       "    }\n",
       "    const paths = {\n",
       "      \"vega\": \"https://cdn.jsdelivr.net/npm//vega@5?noext\",\n",
       "      \"vega-lib\": \"https://cdn.jsdelivr.net/npm//vega-lib?noext\",\n",
       "      \"vega-lite\": \"https://cdn.jsdelivr.net/npm//vega-lite@4.8.1?noext\",\n",
       "      \"vega-embed\": \"https://cdn.jsdelivr.net/npm//vega-embed@6?noext\",\n",
       "    };\n",
       "\n",
       "    function loadScript(lib) {\n",
       "      return new Promise(function(resolve, reject) {\n",
       "        var s = document.createElement('script');\n",
       "        s.src = paths[lib];\n",
       "        s.async = true;\n",
       "        s.onload = () => resolve(paths[lib]);\n",
       "        s.onerror = () => reject(`Error loading script: ${paths[lib]}`);\n",
       "        document.getElementsByTagName(\"head\")[0].appendChild(s);\n",
       "      });\n",
       "    }\n",
       "\n",
       "    function showError(err) {\n",
       "      outputDiv.innerHTML = `<div class=\"error\" style=\"color:red;\">${err}</div>`;\n",
       "      throw err;\n",
       "    }\n",
       "\n",
       "    function displayChart(vegaEmbed) {\n",
       "      vegaEmbed(outputDiv, spec, embedOpt)\n",
       "        .catch(err => showError(`Javascript Error: ${err.message}<br>This usually means there's a typo in your chart specification. See the javascript console for the full traceback.`));\n",
       "    }\n",
       "\n",
       "    if(typeof define === \"function\" && define.amd) {\n",
       "      requirejs.config({paths});\n",
       "      require([\"vega-embed\"], displayChart, err => showError(`Error loading script: ${err.message}`));\n",
       "    } else if (typeof vegaEmbed === \"function\") {\n",
       "      displayChart(vegaEmbed);\n",
       "    } else {\n",
       "      loadScript(\"vega\")\n",
       "        .then(() => loadScript(\"vega-lite\"))\n",
       "        .then(() => loadScript(\"vega-embed\"))\n",
       "        .catch(showError)\n",
       "        .then(() => displayChart(vegaEmbed));\n",
       "    }\n",
       "  })({\"config\": {\"view\": {\"continuousWidth\": 400, \"continuousHeight\": 300}}, \"layer\": [{\"mark\": {\"type\": \"bar\", \"opacity\": 0.8, \"size\": 30}, \"encoding\": {\"color\": {\"type\": \"nominal\", \"field\": \"Grupo de edad\", \"legend\": null, \"scale\": {\"scheme\": \"category10\"}}, \"order\": {\"type\": \"ordinal\", \"field\": \"index\"}, \"tooltip\": [{\"type\": \"nominal\", \"field\": \"Grupo de edad\"}, {\"type\": \"quantitative\", \"field\": \"Poblacion\"}, {\"type\": \"quantitative\", \"field\": \"Porcentaje\"}], \"x\": {\"type\": \"quantitative\", \"axis\": {\"title\": \"Poblaci\\u00f3n\"}, \"field\": \"Poblacion\"}, \"y\": {\"type\": \"nominal\", \"field\": \"Grupo de edad\", \"sort\": [\"<=39\", \"40-49\", \"50-59\", \"60-69\", \"70-79\", \"80-89\", \">=90\"]}}, \"height\": {\"step\": 40}, \"title\": \"Poblaci\\u00f3n Censo 2017\", \"width\": 600}, {\"mark\": {\"type\": \"text\", \"align\": \"left\", \"baseline\": \"middle\", \"dx\": 3}, \"encoding\": {\"color\": {\"type\": \"nominal\", \"field\": \"Grupo de edad\", \"legend\": null, \"scale\": {\"scheme\": \"category10\"}}, \"order\": {\"type\": \"ordinal\", \"field\": \"index\"}, \"text\": {\"type\": \"nominal\", \"field\": \"Texto\"}, \"tooltip\": [{\"type\": \"nominal\", \"field\": \"Grupo de edad\"}, {\"type\": \"quantitative\", \"field\": \"Poblacion\"}, {\"type\": \"quantitative\", \"field\": \"Porcentaje\"}], \"x\": {\"type\": \"quantitative\", \"axis\": {\"title\": \"Poblaci\\u00f3n\"}, \"field\": \"Poblacion\"}, \"y\": {\"type\": \"nominal\", \"field\": \"Grupo de edad\", \"sort\": [\"<=39\", \"40-49\", \"50-59\", \"60-69\", \"70-79\", \"80-89\", \">=90\"]}}}], \"data\": {\"name\": \"data-e769c588c5c6be5dc493db10bec4ffdf\"}, \"$schema\": \"https://vega.github.io/schema/vega-lite/v4.8.1.json\", \"datasets\": {\"data-e769c588c5c6be5dc493db10bec4ffdf\": [{\"index\": 0, \"Grupo de edad\": \"<=39\", \"Poblacion\": 10131833, \"Porcentaje\": 57.7, \"Texto\": \"10.131.833 (57.7%)\"}, {\"index\": 1, \"Grupo de edad\": \"40-49\", \"Poblacion\": 2359266, \"Porcentaje\": 13.4, \"Texto\": \"2.359.266 (13.4%)\"}, {\"index\": 2, \"Grupo de edad\": \"50-59\", \"Poblacion\": 2232733, \"Porcentaje\": 12.7, \"Texto\": \"2.232.733 (12.7%)\"}, {\"index\": 3, \"Grupo de edad\": \"60-69\", \"Poblacion\": 1499917, \"Porcentaje\": 8.5, \"Texto\": \"1.499.917 (8.5%)\"}, {\"index\": 4, \"Grupo de edad\": \"70-79\", \"Poblacion\": 879498, \"Porcentaje\": 5.0, \"Texto\": \"879.498 (5.0%)\"}, {\"index\": 5, \"Grupo de edad\": \"80-89\", \"Poblacion\": 391247, \"Porcentaje\": 2.2, \"Texto\": \"391.247 (2.2%)\"}, {\"index\": 6, \"Grupo de edad\": \">=90\", \"Poblacion\": 79509, \"Porcentaje\": 0.5, \"Texto\": \"79.509 (0.5%)\"}]}}, {\"mode\": \"vega-lite\"});\n",
       "</script>"
      ],
      "text/plain": [
       "alt.LayerChart(...)"
      ]
     },
     "execution_count": 42,
     "metadata": {},
     "output_type": "execute_result"
    }
   ],
   "source": [
    "#hide_input\n",
    "bars = alt.Chart(new_censo.reset_index()).mark_bar(opacity=0.8, size=30).encode(\n",
    "    x = alt.X('Poblacion', axis=alt.Axis(title=\"Población\")),\n",
    "    y = alt.Y('Grupo de edad', sort=grupo_de_edad),\n",
    "    tooltip = ['Grupo de edad', 'Poblacion', 'Porcentaje'],\n",
    "    color = alt.Color('Grupo de edad', scale=alt.Scale(scheme='category10'), legend=None),\n",
    "    order = alt.Order('index:O')\n",
    ")\n",
    "\n",
    "text = bars.mark_text(\n",
    "    align='left',\n",
    "    baseline='middle',\n",
    "    dx=3  # Nudges text to right so it doesn't appear on top of the bar\n",
    ").encode(\n",
    "    text=alt.Text('Texto')\n",
    ")\n",
    "\n",
    "bars.properties(\n",
    "    title = f\"Población Censo 2017\",\n",
    "    width = 600,\n",
    "    height = alt.Step(40)\n",
    ") + text"
   ]
  },
  {
   "cell_type": "markdown",
   "metadata": {},
   "source": [
    "# Pacientes UCI por rango de edad"
   ]
  },
  {
   "cell_type": "code",
   "execution_count": 43,
   "metadata": {},
   "outputs": [],
   "source": [
    "#hide\n",
    "pacientes_raw = pd.read_csv(\n",
    "    'https://raw.githubusercontent.com/MinCiencia/Datos-COVID19/'\n",
    "    + 'master/output/producto9/HospitalizadosUCIEtario.csv'\n",
    ")"
   ]
  },
  {
   "cell_type": "code",
   "execution_count": 44,
   "metadata": {},
   "outputs": [],
   "source": [
    "#hide\n",
    "pacientes = pacientes_raw[['Grupo de edad', today]]"
   ]
  },
  {
   "cell_type": "code",
   "execution_count": 45,
   "metadata": {},
   "outputs": [
    {
     "data": {
      "text/plain": [
       "2009"
      ]
     },
     "execution_count": 45,
     "metadata": {},
     "output_type": "execute_result"
    }
   ],
   "source": [
    "#hide\n",
    "total_pacientes = pacientes[today].sum()\n",
    "total_pacientes"
   ]
  },
  {
   "cell_type": "code",
   "execution_count": 46,
   "metadata": {},
   "outputs": [],
   "source": [
    "#hide\n",
    "pacientes = pacientes.rename(columns={today: \"Pacientes UCI\"})"
   ]
  },
  {
   "cell_type": "code",
   "execution_count": 47,
   "metadata": {
    "scrolled": true
   },
   "outputs": [],
   "source": [
    "#hide\n",
    "pacientes['Porcentaje'] = np.round(100*pacientes[\"Pacientes UCI\"]/total_pacientes, decimals=1)"
   ]
  },
  {
   "cell_type": "code",
   "execution_count": 48,
   "metadata": {},
   "outputs": [],
   "source": [
    "#hide\n",
    "pacientes['Texto'] = \\\n",
    "[f\"{pacientes['Pacientes UCI'].iloc[i]} ({pacientes['Porcentaje'].iloc[i]}%)\" for i, val in pacientes.iterrows()]"
   ]
  },
  {
   "cell_type": "code",
   "execution_count": 49,
   "metadata": {
    "scrolled": true
   },
   "outputs": [
    {
     "data": {
      "text/html": [
       "\n",
       "<div id=\"altair-viz-69358277f46b4f0292484192c575f069\"></div>\n",
       "<script type=\"text/javascript\">\n",
       "  (function(spec, embedOpt){\n",
       "    let outputDiv = document.currentScript.previousElementSibling;\n",
       "    if (outputDiv.id !== \"altair-viz-69358277f46b4f0292484192c575f069\") {\n",
       "      outputDiv = document.getElementById(\"altair-viz-69358277f46b4f0292484192c575f069\");\n",
       "    }\n",
       "    const paths = {\n",
       "      \"vega\": \"https://cdn.jsdelivr.net/npm//vega@5?noext\",\n",
       "      \"vega-lib\": \"https://cdn.jsdelivr.net/npm//vega-lib?noext\",\n",
       "      \"vega-lite\": \"https://cdn.jsdelivr.net/npm//vega-lite@4.8.1?noext\",\n",
       "      \"vega-embed\": \"https://cdn.jsdelivr.net/npm//vega-embed@6?noext\",\n",
       "    };\n",
       "\n",
       "    function loadScript(lib) {\n",
       "      return new Promise(function(resolve, reject) {\n",
       "        var s = document.createElement('script');\n",
       "        s.src = paths[lib];\n",
       "        s.async = true;\n",
       "        s.onload = () => resolve(paths[lib]);\n",
       "        s.onerror = () => reject(`Error loading script: ${paths[lib]}`);\n",
       "        document.getElementsByTagName(\"head\")[0].appendChild(s);\n",
       "      });\n",
       "    }\n",
       "\n",
       "    function showError(err) {\n",
       "      outputDiv.innerHTML = `<div class=\"error\" style=\"color:red;\">${err}</div>`;\n",
       "      throw err;\n",
       "    }\n",
       "\n",
       "    function displayChart(vegaEmbed) {\n",
       "      vegaEmbed(outputDiv, spec, embedOpt)\n",
       "        .catch(err => showError(`Javascript Error: ${err.message}<br>This usually means there's a typo in your chart specification. See the javascript console for the full traceback.`));\n",
       "    }\n",
       "\n",
       "    if(typeof define === \"function\" && define.amd) {\n",
       "      requirejs.config({paths});\n",
       "      require([\"vega-embed\"], displayChart, err => showError(`Error loading script: ${err.message}`));\n",
       "    } else if (typeof vegaEmbed === \"function\") {\n",
       "      displayChart(vegaEmbed);\n",
       "    } else {\n",
       "      loadScript(\"vega\")\n",
       "        .then(() => loadScript(\"vega-lite\"))\n",
       "        .then(() => loadScript(\"vega-embed\"))\n",
       "        .catch(showError)\n",
       "        .then(() => displayChart(vegaEmbed));\n",
       "    }\n",
       "  })({\"config\": {\"view\": {\"continuousWidth\": 400, \"continuousHeight\": 300}}, \"layer\": [{\"mark\": {\"type\": \"bar\", \"opacity\": 0.8, \"size\": 30}, \"encoding\": {\"color\": {\"type\": \"nominal\", \"field\": \"Grupo de edad\", \"legend\": null, \"scale\": {\"scheme\": \"category10\"}}, \"order\": {\"type\": \"ordinal\", \"field\": \"index\"}, \"tooltip\": [{\"type\": \"nominal\", \"field\": \"Grupo de edad\"}, {\"type\": \"quantitative\", \"field\": \"Pacientes UCI\"}, {\"type\": \"quantitative\", \"field\": \"Porcentaje\"}], \"x\": {\"type\": \"quantitative\", \"field\": \"Pacientes UCI\"}, \"y\": {\"type\": \"nominal\", \"field\": \"Grupo de edad\", \"sort\": [\"<=39\", \"40-49\", \"50-59\", \"60-69\", \"70-79\", \"80-89\", \">=90\"]}}, \"height\": {\"step\": 40}, \"title\": \"Pacientes UCI presentes el 23/06/2020\", \"width\": 600}, {\"mark\": {\"type\": \"text\", \"align\": \"left\", \"baseline\": \"middle\", \"dx\": 3}, \"encoding\": {\"color\": {\"type\": \"nominal\", \"field\": \"Grupo de edad\", \"legend\": null, \"scale\": {\"scheme\": \"category10\"}}, \"order\": {\"type\": \"ordinal\", \"field\": \"index\"}, \"text\": {\"type\": \"nominal\", \"field\": \"Texto\"}, \"tooltip\": [{\"type\": \"nominal\", \"field\": \"Grupo de edad\"}, {\"type\": \"quantitative\", \"field\": \"Pacientes UCI\"}, {\"type\": \"quantitative\", \"field\": \"Porcentaje\"}], \"x\": {\"type\": \"quantitative\", \"field\": \"Pacientes UCI\"}, \"y\": {\"type\": \"nominal\", \"field\": \"Grupo de edad\", \"sort\": [\"<=39\", \"40-49\", \"50-59\", \"60-69\", \"70-79\", \"80-89\", \">=90\"]}}}], \"data\": {\"name\": \"data-03d475dd6be04e600cb84ebba3e4805d\"}, \"$schema\": \"https://vega.github.io/schema/vega-lite/v4.8.1.json\", \"datasets\": {\"data-03d475dd6be04e600cb84ebba3e4805d\": [{\"index\": 0, \"Grupo de edad\": \"<=39\", \"Pacientes UCI\": 176, \"Porcentaje\": 8.8, \"Texto\": \"176 (8.8%)\"}, {\"index\": 1, \"Grupo de edad\": \"40-49\", \"Pacientes UCI\": 261, \"Porcentaje\": 13.0, \"Texto\": \"261 (13.0%)\"}, {\"index\": 2, \"Grupo de edad\": \"50-59\", \"Pacientes UCI\": 556, \"Porcentaje\": 27.7, \"Texto\": \"556 (27.7%)\"}, {\"index\": 3, \"Grupo de edad\": \"60-69\", \"Pacientes UCI\": 666, \"Porcentaje\": 33.2, \"Texto\": \"666 (33.2%)\"}, {\"index\": 4, \"Grupo de edad\": \">=70\", \"Pacientes UCI\": 350, \"Porcentaje\": 17.4, \"Texto\": \"350 (17.4%)\"}]}}, {\"mode\": \"vega-lite\"});\n",
       "</script>"
      ],
      "text/plain": [
       "alt.LayerChart(...)"
      ]
     },
     "execution_count": 49,
     "metadata": {},
     "output_type": "execute_result"
    }
   ],
   "source": [
    "#hide_input\n",
    "bars = alt.Chart(pacientes.reset_index()).mark_bar(opacity=0.8, size=30).encode(\n",
    "    x = alt.X('Pacientes UCI'),\n",
    "    y = alt.Y('Grupo de edad', sort=grupo_de_edad),\n",
    "    order = alt.Order('index:O'),\n",
    "    tooltip = ['Grupo de edad', 'Pacientes UCI', 'Porcentaje'],\n",
    "    color = alt.Color('Grupo de edad', scale=alt.Scale(scheme='category10'), legend=None)\n",
    ")\n",
    "\n",
    "text = bars.mark_text(\n",
    "    align='left',\n",
    "    baseline='middle',\n",
    "    dx=3  # Nudges text to right so it doesn't appear on top of the bar\n",
    ").encode(\n",
    "    text=alt.Text('Texto')\n",
    ")\n",
    "\n",
    "bars.properties(\n",
    "    title = f\"Pacientes UCI presentes el {pd.to_datetime(today).strftime('%d/%m/%Y')}\",\n",
    "    width = 600,\n",
    "    height = alt.Step(40)\n",
    ") + text"
   ]
  },
  {
   "cell_type": "markdown",
   "metadata": {},
   "source": [
    "# Evolución de casos confirmados por rango de edad"
   ]
  },
  {
   "cell_type": "code",
   "execution_count": 50,
   "metadata": {},
   "outputs": [],
   "source": [
    "#hide\n",
    "cases_raw = pd.read_csv(\n",
    "    'https://raw.githubusercontent.com/MinCiencia/Datos-COVID19/' \\\n",
    "    + 'master/output/producto16/CasosGeneroEtario.csv'\n",
    ")"
   ]
  },
  {
   "cell_type": "code",
   "execution_count": 51,
   "metadata": {},
   "outputs": [],
   "source": [
    "#hide\n",
    "cases = pd.DataFrame()\n",
    "cases['<=39'] = cases_raw.groupby('Grupo de edad').sum().iloc[:8].sum()\n",
    "cases['40-49'] = cases_raw.groupby('Grupo de edad').sum().iloc[8:10].sum()\n",
    "cases['50-59'] = cases_raw.groupby('Grupo de edad').sum().iloc[10:12].sum()\n",
    "cases['60-69'] = cases_raw.groupby('Grupo de edad').sum().iloc[12:14].sum()\n",
    "cases['70-79'] = cases_raw.groupby('Grupo de edad').sum().iloc[14:16].sum()\n",
    "cases['>=80'] = cases_raw.groupby('Grupo de edad').sum().iloc[16:].sum()"
   ]
  },
  {
   "cell_type": "code",
   "execution_count": 52,
   "metadata": {},
   "outputs": [],
   "source": [
    "#hide\n",
    "cases = cases.T.reset_index()\n",
    "cases = cases.rename(columns={'index': 'Grupo de edad'})"
   ]
  },
  {
   "cell_type": "code",
   "execution_count": 53,
   "metadata": {},
   "outputs": [],
   "source": [
    "#hide\n",
    "cases = cases.reset_index().melt(['index', 'Grupo de edad'], var_name=\"fecha (año-mes-día)\", value_name=\"casos confirmados\")"
   ]
  },
  {
   "cell_type": "code",
   "execution_count": 54,
   "metadata": {
    "scrolled": true
   },
   "outputs": [
    {
     "data": {
      "text/html": [
       "\n",
       "<div id=\"altair-viz-78827d1b71a1447e87c3d810ead18b4d\"></div>\n",
       "<script type=\"text/javascript\">\n",
       "  (function(spec, embedOpt){\n",
       "    let outputDiv = document.currentScript.previousElementSibling;\n",
       "    if (outputDiv.id !== \"altair-viz-78827d1b71a1447e87c3d810ead18b4d\") {\n",
       "      outputDiv = document.getElementById(\"altair-viz-78827d1b71a1447e87c3d810ead18b4d\");\n",
       "    }\n",
       "    const paths = {\n",
       "      \"vega\": \"https://cdn.jsdelivr.net/npm//vega@5?noext\",\n",
       "      \"vega-lib\": \"https://cdn.jsdelivr.net/npm//vega-lib?noext\",\n",
       "      \"vega-lite\": \"https://cdn.jsdelivr.net/npm//vega-lite@4.8.1?noext\",\n",
       "      \"vega-embed\": \"https://cdn.jsdelivr.net/npm//vega-embed@6?noext\",\n",
       "    };\n",
       "\n",
       "    function loadScript(lib) {\n",
       "      return new Promise(function(resolve, reject) {\n",
       "        var s = document.createElement('script');\n",
       "        s.src = paths[lib];\n",
       "        s.async = true;\n",
       "        s.onload = () => resolve(paths[lib]);\n",
       "        s.onerror = () => reject(`Error loading script: ${paths[lib]}`);\n",
       "        document.getElementsByTagName(\"head\")[0].appendChild(s);\n",
       "      });\n",
       "    }\n",
       "\n",
       "    function showError(err) {\n",
       "      outputDiv.innerHTML = `<div class=\"error\" style=\"color:red;\">${err}</div>`;\n",
       "      throw err;\n",
       "    }\n",
       "\n",
       "    function displayChart(vegaEmbed) {\n",
       "      vegaEmbed(outputDiv, spec, embedOpt)\n",
       "        .catch(err => showError(`Javascript Error: ${err.message}<br>This usually means there's a typo in your chart specification. See the javascript console for the full traceback.`));\n",
       "    }\n",
       "\n",
       "    if(typeof define === \"function\" && define.amd) {\n",
       "      requirejs.config({paths});\n",
       "      require([\"vega-embed\"], displayChart, err => showError(`Error loading script: ${err.message}`));\n",
       "    } else if (typeof vegaEmbed === \"function\") {\n",
       "      displayChart(vegaEmbed);\n",
       "    } else {\n",
       "      loadScript(\"vega\")\n",
       "        .then(() => loadScript(\"vega-lite\"))\n",
       "        .then(() => loadScript(\"vega-embed\"))\n",
       "        .catch(showError)\n",
       "        .then(() => displayChart(vegaEmbed));\n",
       "    }\n",
       "  })({\"config\": {\"view\": {\"continuousWidth\": 400, \"continuousHeight\": 300}}, \"hconcat\": [{\"mark\": \"bar\", \"encoding\": {\"color\": {\"condition\": {\"type\": \"nominal\", \"field\": \"Grupo de edad\", \"legend\": null, \"scale\": {\"scheme\": \"tableau20\"}, \"selection\": {\"or\": [\" \", \"selector002\"]}}, \"value\": \"lightgray\"}, \"order\": {\"type\": \"quantitative\", \"field\": \"index\", \"sort\": \"descending\"}, \"tooltip\": [{\"type\": \"nominal\", \"field\": \"fecha (a\\u00f1o-mes-d\\u00eda)\"}, {\"type\": \"nominal\", \"field\": \"Grupo de edad\"}, {\"type\": \"quantitative\", \"field\": \"casos confirmados\"}], \"x\": {\"type\": \"nominal\", \"field\": \"fecha (a\\u00f1o-mes-d\\u00eda)\"}, \"y\": {\"type\": \"quantitative\", \"field\": \"casos confirmados\"}}, \"selection\": {\" \": {\"type\": \"single\", \"fields\": [\"Grupo de edad\"], \"bind\": {\"input\": \"select\", \"options\": [\"<=39\", \"40-49\", \"50-59\", \"60-69\", \"70-79\", \">=80\"]}}, \"selector002\": {\"type\": \"multi\", \"fields\": [\"Grupo de edad\"], \"on\": \"mouseover\"}}, \"title\": \"COVID-19 en Chile: Evoluci\\u00f3n de casos confirmados por rango de edad\", \"transform\": [{\"filter\": {\"selection\": \" \"}}], \"width\": 600}, {\"mark\": \"point\", \"encoding\": {\"color\": {\"condition\": {\"type\": \"nominal\", \"field\": \"Grupo de edad\", \"legend\": null, \"scale\": {\"scheme\": \"tableau20\"}, \"selection\": {\"or\": [\" \", \"selector002\"]}}, \"value\": \"lightgray\"}, \"y\": {\"type\": \"nominal\", \"axis\": {\"orient\": \"right\"}, \"field\": \"Grupo de edad\", \"sort\": [\"<=39\", \"40-49\", \"50-59\", \"60-69\", \"70-79\", \"80-89\", \">=90\"]}}, \"selection\": {\" \": {\"type\": \"single\", \"fields\": [\"Grupo de edad\"], \"bind\": {\"input\": \"select\", \"options\": [\"<=39\", \"40-49\", \"50-59\", \"60-69\", \"70-79\", \">=80\"]}}, \"selector002\": {\"type\": \"multi\", \"fields\": [\"Grupo de edad\"], \"on\": \"mouseover\"}}}], \"data\": {\"name\": \"data-2bb87cd9bba6969415b94d597c94afbe\"}, \"$schema\": \"https://vega.github.io/schema/vega-lite/v4.8.1.json\", \"datasets\": {\"data-2bb87cd9bba6969415b94d597c94afbe\": [{\"index\": 0, \"Grupo de edad\": \"<=39\", \"fecha (a\\u00f1o-mes-d\\u00eda)\": \"2020-03-25\", \"casos confirmados\": 558}, {\"index\": 1, \"Grupo de edad\": \"40-49\", \"fecha (a\\u00f1o-mes-d\\u00eda)\": \"2020-03-25\", \"casos confirmados\": 220}, {\"index\": 2, \"Grupo de edad\": \"50-59\", \"fecha (a\\u00f1o-mes-d\\u00eda)\": \"2020-03-25\", \"casos confirmados\": 119}, {\"index\": 3, \"Grupo de edad\": \"60-69\", \"fecha (a\\u00f1o-mes-d\\u00eda)\": \"2020-03-25\", \"casos confirmados\": 69}, {\"index\": 4, \"Grupo de edad\": \"70-79\", \"fecha (a\\u00f1o-mes-d\\u00eda)\": \"2020-03-25\", \"casos confirmados\": 38}, {\"index\": 5, \"Grupo de edad\": \">=80\", \"fecha (a\\u00f1o-mes-d\\u00eda)\": \"2020-03-25\", \"casos confirmados\": 8}, {\"index\": 0, \"Grupo de edad\": \"<=39\", \"fecha (a\\u00f1o-mes-d\\u00eda)\": \"2020-03-26\", \"casos confirmados\": 672}, {\"index\": 1, \"Grupo de edad\": \"40-49\", \"fecha (a\\u00f1o-mes-d\\u00eda)\": \"2020-03-26\", \"casos confirmados\": 268}, {\"index\": 2, \"Grupo de edad\": \"50-59\", \"fecha (a\\u00f1o-mes-d\\u00eda)\": \"2020-03-26\", \"casos confirmados\": 162}, {\"index\": 3, \"Grupo de edad\": \"60-69\", \"fecha (a\\u00f1o-mes-d\\u00eda)\": \"2020-03-26\", \"casos confirmados\": 91}, {\"index\": 4, \"Grupo de edad\": \"70-79\", \"fecha (a\\u00f1o-mes-d\\u00eda)\": \"2020-03-26\", \"casos confirmados\": 48}, {\"index\": 5, \"Grupo de edad\": \">=80\", \"fecha (a\\u00f1o-mes-d\\u00eda)\": \"2020-03-26\", \"casos confirmados\": 11}, {\"index\": 0, \"Grupo de edad\": \"<=39\", \"fecha (a\\u00f1o-mes-d\\u00eda)\": \"2020-03-27\", \"casos confirmados\": 754}, {\"index\": 1, \"Grupo de edad\": \"40-49\", \"fecha (a\\u00f1o-mes-d\\u00eda)\": \"2020-03-27\", \"casos confirmados\": 310}, {\"index\": 2, \"Grupo de edad\": \"50-59\", \"fecha (a\\u00f1o-mes-d\\u00eda)\": \"2020-03-27\", \"casos confirmados\": 190}, {\"index\": 3, \"Grupo de edad\": \"60-69\", \"fecha (a\\u00f1o-mes-d\\u00eda)\": \"2020-03-27\", \"casos confirmados\": 112}, {\"index\": 4, \"Grupo de edad\": \"70-79\", \"fecha (a\\u00f1o-mes-d\\u00eda)\": \"2020-03-27\", \"casos confirmados\": 56}, {\"index\": 5, \"Grupo de edad\": \">=80\", \"fecha (a\\u00f1o-mes-d\\u00eda)\": \"2020-03-27\", \"casos confirmados\": 12}, {\"index\": 0, \"Grupo de edad\": \"<=39\", \"fecha (a\\u00f1o-mes-d\\u00eda)\": \"2020-03-28\", \"casos confirmados\": 890}, {\"index\": 1, \"Grupo de edad\": \"40-49\", \"fecha (a\\u00f1o-mes-d\\u00eda)\": \"2020-03-28\", \"casos confirmados\": 357}, {\"index\": 2, \"Grupo de edad\": \"50-59\", \"fecha (a\\u00f1o-mes-d\\u00eda)\": \"2020-03-28\", \"casos confirmados\": 251}, {\"index\": 3, \"Grupo de edad\": \"60-69\", \"fecha (a\\u00f1o-mes-d\\u00eda)\": \"2020-03-28\", \"casos confirmados\": 138}, {\"index\": 4, \"Grupo de edad\": \"70-79\", \"fecha (a\\u00f1o-mes-d\\u00eda)\": \"2020-03-28\", \"casos confirmados\": 67}, {\"index\": 5, \"Grupo de edad\": \">=80\", \"fecha (a\\u00f1o-mes-d\\u00eda)\": \"2020-03-28\", \"casos confirmados\": 20}, {\"index\": 0, \"Grupo de edad\": \"<=39\", \"fecha (a\\u00f1o-mes-d\\u00eda)\": \"2020-03-29\", \"casos confirmados\": 964}, {\"index\": 1, \"Grupo de edad\": \"40-49\", \"fecha (a\\u00f1o-mes-d\\u00eda)\": \"2020-03-29\", \"casos confirmados\": 407}, {\"index\": 2, \"Grupo de edad\": \"50-59\", \"fecha (a\\u00f1o-mes-d\\u00eda)\": \"2020-03-29\", \"casos confirmados\": 272}, {\"index\": 3, \"Grupo de edad\": \"60-69\", \"fecha (a\\u00f1o-mes-d\\u00eda)\": \"2020-03-29\", \"casos confirmados\": 165}, {\"index\": 4, \"Grupo de edad\": \"70-79\", \"fecha (a\\u00f1o-mes-d\\u00eda)\": \"2020-03-29\", \"casos confirmados\": 75}, {\"index\": 5, \"Grupo de edad\": \">=80\", \"fecha (a\\u00f1o-mes-d\\u00eda)\": \"2020-03-29\", \"casos confirmados\": 23}, {\"index\": 0, \"Grupo de edad\": \"<=39\", \"fecha (a\\u00f1o-mes-d\\u00eda)\": \"2020-03-30\", \"casos confirmados\": 1041}, {\"index\": 1, \"Grupo de edad\": \"40-49\", \"fecha (a\\u00f1o-mes-d\\u00eda)\": \"2020-03-30\", \"casos confirmados\": 451}, {\"index\": 2, \"Grupo de edad\": \"50-59\", \"fecha (a\\u00f1o-mes-d\\u00eda)\": \"2020-03-30\", \"casos confirmados\": 304}, {\"index\": 3, \"Grupo de edad\": \"60-69\", \"fecha (a\\u00f1o-mes-d\\u00eda)\": \"2020-03-30\", \"casos confirmados\": 182}, {\"index\": 4, \"Grupo de edad\": \"70-79\", \"fecha (a\\u00f1o-mes-d\\u00eda)\": \"2020-03-30\", \"casos confirmados\": 84}, {\"index\": 5, \"Grupo de edad\": \">=80\", \"fecha (a\\u00f1o-mes-d\\u00eda)\": \"2020-03-30\", \"casos confirmados\": 26}, {\"index\": 0, \"Grupo de edad\": \"<=39\", \"fecha (a\\u00f1o-mes-d\\u00eda)\": \"2020-03-31\", \"casos confirmados\": 1182}, {\"index\": 1, \"Grupo de edad\": \"40-49\", \"fecha (a\\u00f1o-mes-d\\u00eda)\": \"2020-03-31\", \"casos confirmados\": 511}, {\"index\": 2, \"Grupo de edad\": \"50-59\", \"fecha (a\\u00f1o-mes-d\\u00eda)\": \"2020-03-31\", \"casos confirmados\": 348}, {\"index\": 3, \"Grupo de edad\": \"60-69\", \"fecha (a\\u00f1o-mes-d\\u00eda)\": \"2020-03-31\", \"casos confirmados\": 209}, {\"index\": 4, \"Grupo de edad\": \"70-79\", \"fecha (a\\u00f1o-mes-d\\u00eda)\": \"2020-03-31\", \"casos confirmados\": 92}, {\"index\": 5, \"Grupo de edad\": \">=80\", \"fecha (a\\u00f1o-mes-d\\u00eda)\": \"2020-03-31\", \"casos confirmados\": 31}, {\"index\": 0, \"Grupo de edad\": \"<=39\", \"fecha (a\\u00f1o-mes-d\\u00eda)\": \"2020-04-01\", \"casos confirmados\": 1335}, {\"index\": 1, \"Grupo de edad\": \"40-49\", \"fecha (a\\u00f1o-mes-d\\u00eda)\": \"2020-04-01\", \"casos confirmados\": 584}, {\"index\": 2, \"Grupo de edad\": \"50-59\", \"fecha (a\\u00f1o-mes-d\\u00eda)\": \"2020-04-01\", \"casos confirmados\": 423}, {\"index\": 3, \"Grupo de edad\": \"60-69\", \"fecha (a\\u00f1o-mes-d\\u00eda)\": \"2020-04-01\", \"casos confirmados\": 243}, {\"index\": 4, \"Grupo de edad\": \"70-79\", \"fecha (a\\u00f1o-mes-d\\u00eda)\": \"2020-04-01\", \"casos confirmados\": 120}, {\"index\": 5, \"Grupo de edad\": \">=80\", \"fecha (a\\u00f1o-mes-d\\u00eda)\": \"2020-04-01\", \"casos confirmados\": 39}, {\"index\": 0, \"Grupo de edad\": \"<=39\", \"fecha (a\\u00f1o-mes-d\\u00eda)\": \"2020-04-02\", \"casos confirmados\": 1434}, {\"index\": 1, \"Grupo de edad\": \"40-49\", \"fecha (a\\u00f1o-mes-d\\u00eda)\": \"2020-04-02\", \"casos confirmados\": 616}, {\"index\": 2, \"Grupo de edad\": \"50-59\", \"fecha (a\\u00f1o-mes-d\\u00eda)\": \"2020-04-02\", \"casos confirmados\": 453}, {\"index\": 3, \"Grupo de edad\": \"60-69\", \"fecha (a\\u00f1o-mes-d\\u00eda)\": \"2020-04-02\", \"casos confirmados\": 264}, {\"index\": 4, \"Grupo de edad\": \"70-79\", \"fecha (a\\u00f1o-mes-d\\u00eda)\": \"2020-04-02\", \"casos confirmados\": 127}, {\"index\": 5, \"Grupo de edad\": \">=80\", \"fecha (a\\u00f1o-mes-d\\u00eda)\": \"2020-04-02\", \"casos confirmados\": 44}, {\"index\": 0, \"Grupo de edad\": \"<=39\", \"fecha (a\\u00f1o-mes-d\\u00eda)\": \"2020-04-03\", \"casos confirmados\": 1678}, {\"index\": 1, \"Grupo de edad\": \"40-49\", \"fecha (a\\u00f1o-mes-d\\u00eda)\": \"2020-04-03\", \"casos confirmados\": 695}, {\"index\": 2, \"Grupo de edad\": \"50-59\", \"fecha (a\\u00f1o-mes-d\\u00eda)\": \"2020-04-03\", \"casos confirmados\": 521}, {\"index\": 3, \"Grupo de edad\": \"60-69\", \"fecha (a\\u00f1o-mes-d\\u00eda)\": \"2020-04-03\", \"casos confirmados\": 296}, {\"index\": 4, \"Grupo de edad\": \"70-79\", \"fecha (a\\u00f1o-mes-d\\u00eda)\": \"2020-04-03\", \"casos confirmados\": 155}, {\"index\": 5, \"Grupo de edad\": \">=80\", \"fecha (a\\u00f1o-mes-d\\u00eda)\": \"2020-04-03\", \"casos confirmados\": 53}, {\"index\": 0, \"Grupo de edad\": \"<=39\", \"fecha (a\\u00f1o-mes-d\\u00eda)\": \"2020-04-04\", \"casos confirmados\": 1866}, {\"index\": 1, \"Grupo de edad\": \"40-49\", \"fecha (a\\u00f1o-mes-d\\u00eda)\": \"2020-04-04\", \"casos confirmados\": 762}, {\"index\": 2, \"Grupo de edad\": \"50-59\", \"fecha (a\\u00f1o-mes-d\\u00eda)\": \"2020-04-04\", \"casos confirmados\": 575}, {\"index\": 3, \"Grupo de edad\": \"60-69\", \"fecha (a\\u00f1o-mes-d\\u00eda)\": \"2020-04-04\", \"casos confirmados\": 336}, {\"index\": 4, \"Grupo de edad\": \"70-79\", \"fecha (a\\u00f1o-mes-d\\u00eda)\": \"2020-04-04\", \"casos confirmados\": 185}, {\"index\": 5, \"Grupo de edad\": \">=80\", \"fecha (a\\u00f1o-mes-d\\u00eda)\": \"2020-04-04\", \"casos confirmados\": 61}, {\"index\": 0, \"Grupo de edad\": \"<=39\", \"fecha (a\\u00f1o-mes-d\\u00eda)\": \"2020-04-05\", \"casos confirmados\": 2007}, {\"index\": 1, \"Grupo de edad\": \"40-49\", \"fecha (a\\u00f1o-mes-d\\u00eda)\": \"2020-04-05\", \"casos confirmados\": 831}, {\"index\": 2, \"Grupo de edad\": \"50-59\", \"fecha (a\\u00f1o-mes-d\\u00eda)\": \"2020-04-05\", \"casos confirmados\": 620}, {\"index\": 3, \"Grupo de edad\": \"60-69\", \"fecha (a\\u00f1o-mes-d\\u00eda)\": \"2020-04-05\", \"casos confirmados\": 354}, {\"index\": 4, \"Grupo de edad\": \"70-79\", \"fecha (a\\u00f1o-mes-d\\u00eda)\": \"2020-04-05\", \"casos confirmados\": 202}, {\"index\": 5, \"Grupo de edad\": \">=80\", \"fecha (a\\u00f1o-mes-d\\u00eda)\": \"2020-04-05\", \"casos confirmados\": 68}, {\"index\": 0, \"Grupo de edad\": \"<=39\", \"fecha (a\\u00f1o-mes-d\\u00eda)\": \"2020-04-06\", \"casos confirmados\": 2140}, {\"index\": 1, \"Grupo de edad\": \"40-49\", \"fecha (a\\u00f1o-mes-d\\u00eda)\": \"2020-04-06\", \"casos confirmados\": 876}, {\"index\": 2, \"Grupo de edad\": \"50-59\", \"fecha (a\\u00f1o-mes-d\\u00eda)\": \"2020-04-06\", \"casos confirmados\": 662}, {\"index\": 3, \"Grupo de edad\": \"60-69\", \"fecha (a\\u00f1o-mes-d\\u00eda)\": \"2020-04-06\", \"casos confirmados\": 377}, {\"index\": 4, \"Grupo de edad\": \"70-79\", \"fecha (a\\u00f1o-mes-d\\u00eda)\": \"2020-04-06\", \"casos confirmados\": 214}, {\"index\": 5, \"Grupo de edad\": \">=80\", \"fecha (a\\u00f1o-mes-d\\u00eda)\": \"2020-04-06\", \"casos confirmados\": 77}, {\"index\": 0, \"Grupo de edad\": \"<=39\", \"fecha (a\\u00f1o-mes-d\\u00eda)\": \"2020-04-07\", \"casos confirmados\": 2257}, {\"index\": 1, \"Grupo de edad\": \"40-49\", \"fecha (a\\u00f1o-mes-d\\u00eda)\": \"2020-04-07\", \"casos confirmados\": 926}, {\"index\": 2, \"Grupo de edad\": \"50-59\", \"fecha (a\\u00f1o-mes-d\\u00eda)\": \"2020-04-07\", \"casos confirmados\": 707}, {\"index\": 3, \"Grupo de edad\": \"60-69\", \"fecha (a\\u00f1o-mes-d\\u00eda)\": \"2020-04-07\", \"casos confirmados\": 415}, {\"index\": 4, \"Grupo de edad\": \"70-79\", \"fecha (a\\u00f1o-mes-d\\u00eda)\": \"2020-04-07\", \"casos confirmados\": 225}, {\"index\": 5, \"Grupo de edad\": \">=80\", \"fecha (a\\u00f1o-mes-d\\u00eda)\": \"2020-04-07\", \"casos confirmados\": 87}, {\"index\": 0, \"Grupo de edad\": \"<=39\", \"fecha (a\\u00f1o-mes-d\\u00eda)\": \"2020-04-08\", \"casos confirmados\": 2636}, {\"index\": 1, \"Grupo de edad\": \"40-49\", \"fecha (a\\u00f1o-mes-d\\u00eda)\": \"2020-04-08\", \"casos confirmados\": 1079}, {\"index\": 2, \"Grupo de edad\": \"50-59\", \"fecha (a\\u00f1o-mes-d\\u00eda)\": \"2020-04-08\", \"casos confirmados\": 839}, {\"index\": 3, \"Grupo de edad\": \"60-69\", \"fecha (a\\u00f1o-mes-d\\u00eda)\": \"2020-04-08\", \"casos confirmados\": 468}, {\"index\": 4, \"Grupo de edad\": \"70-79\", \"fecha (a\\u00f1o-mes-d\\u00eda)\": \"2020-04-08\", \"casos confirmados\": 263}, {\"index\": 5, \"Grupo de edad\": \">=80\", \"fecha (a\\u00f1o-mes-d\\u00eda)\": \"2020-04-08\", \"casos confirmados\": 112}, {\"index\": 0, \"Grupo de edad\": \"<=39\", \"fecha (a\\u00f1o-mes-d\\u00eda)\": \"2020-04-09\", \"casos confirmados\": 2837}, {\"index\": 1, \"Grupo de edad\": \"40-49\", \"fecha (a\\u00f1o-mes-d\\u00eda)\": \"2020-04-09\", \"casos confirmados\": 1153}, {\"index\": 2, \"Grupo de edad\": \"50-59\", \"fecha (a\\u00f1o-mes-d\\u00eda)\": \"2020-04-09\", \"casos confirmados\": 903}, {\"index\": 3, \"Grupo de edad\": \"60-69\", \"fecha (a\\u00f1o-mes-d\\u00eda)\": \"2020-04-09\", \"casos confirmados\": 502}, {\"index\": 4, \"Grupo de edad\": \"70-79\", \"fecha (a\\u00f1o-mes-d\\u00eda)\": \"2020-04-09\", \"casos confirmados\": 284}, {\"index\": 5, \"Grupo de edad\": \">=80\", \"fecha (a\\u00f1o-mes-d\\u00eda)\": \"2020-04-09\", \"casos confirmados\": 131}, {\"index\": 0, \"Grupo de edad\": \"<=39\", \"fecha (a\\u00f1o-mes-d\\u00eda)\": \"2020-04-10\", \"casos confirmados\": 3084}, {\"index\": 1, \"Grupo de edad\": \"40-49\", \"fecha (a\\u00f1o-mes-d\\u00eda)\": \"2020-04-10\", \"casos confirmados\": 1227}, {\"index\": 2, \"Grupo de edad\": \"50-59\", \"fecha (a\\u00f1o-mes-d\\u00eda)\": \"2020-04-10\", \"casos confirmados\": 975}, {\"index\": 3, \"Grupo de edad\": \"60-69\", \"fecha (a\\u00f1o-mes-d\\u00eda)\": \"2020-04-10\", \"casos confirmados\": 544}, {\"index\": 4, \"Grupo de edad\": \"70-79\", \"fecha (a\\u00f1o-mes-d\\u00eda)\": \"2020-04-10\", \"casos confirmados\": 309}, {\"index\": 5, \"Grupo de edad\": \">=80\", \"fecha (a\\u00f1o-mes-d\\u00eda)\": \"2020-04-10\", \"casos confirmados\": 153}, {\"index\": 0, \"Grupo de edad\": \"<=39\", \"fecha (a\\u00f1o-mes-d\\u00eda)\": \"2020-04-11\", \"casos confirmados\": 3302}, {\"index\": 1, \"Grupo de edad\": \"40-49\", \"fecha (a\\u00f1o-mes-d\\u00eda)\": \"2020-04-11\", \"casos confirmados\": 1297}, {\"index\": 2, \"Grupo de edad\": \"50-59\", \"fecha (a\\u00f1o-mes-d\\u00eda)\": \"2020-04-11\", \"casos confirmados\": 1022}, {\"index\": 3, \"Grupo de edad\": \"60-69\", \"fecha (a\\u00f1o-mes-d\\u00eda)\": \"2020-04-11\", \"casos confirmados\": 584}, {\"index\": 4, \"Grupo de edad\": \"70-79\", \"fecha (a\\u00f1o-mes-d\\u00eda)\": \"2020-04-11\", \"casos confirmados\": 328}, {\"index\": 5, \"Grupo de edad\": \">=80\", \"fecha (a\\u00f1o-mes-d\\u00eda)\": \"2020-04-11\", \"casos confirmados\": 169}, {\"index\": 0, \"Grupo de edad\": \"<=39\", \"fecha (a\\u00f1o-mes-d\\u00eda)\": \"2020-04-12\", \"casos confirmados\": 3454}, {\"index\": 1, \"Grupo de edad\": \"40-49\", \"fecha (a\\u00f1o-mes-d\\u00eda)\": \"2020-04-12\", \"casos confirmados\": 1361}, {\"index\": 2, \"Grupo de edad\": \"50-59\", \"fecha (a\\u00f1o-mes-d\\u00eda)\": \"2020-04-12\", \"casos confirmados\": 1068}, {\"index\": 3, \"Grupo de edad\": \"60-69\", \"fecha (a\\u00f1o-mes-d\\u00eda)\": \"2020-04-12\", \"casos confirmados\": 611}, {\"index\": 4, \"Grupo de edad\": \"70-79\", \"fecha (a\\u00f1o-mes-d\\u00eda)\": \"2020-04-12\", \"casos confirmados\": 343}, {\"index\": 5, \"Grupo de edad\": \">=80\", \"fecha (a\\u00f1o-mes-d\\u00eda)\": \"2020-04-12\", \"casos confirmados\": 179}, {\"index\": 0, \"Grupo de edad\": \"<=39\", \"fecha (a\\u00f1o-mes-d\\u00eda)\": \"2020-04-13\", \"casos confirmados\": 3646}, {\"index\": 1, \"Grupo de edad\": \"40-49\", \"fecha (a\\u00f1o-mes-d\\u00eda)\": \"2020-04-13\", \"casos confirmados\": 1451}, {\"index\": 2, \"Grupo de edad\": \"50-59\", \"fecha (a\\u00f1o-mes-d\\u00eda)\": \"2020-04-13\", \"casos confirmados\": 1134}, {\"index\": 3, \"Grupo de edad\": \"60-69\", \"fecha (a\\u00f1o-mes-d\\u00eda)\": \"2020-04-13\", \"casos confirmados\": 643}, {\"index\": 4, \"Grupo de edad\": \"70-79\", \"fecha (a\\u00f1o-mes-d\\u00eda)\": \"2020-04-13\", \"casos confirmados\": 351}, {\"index\": 5, \"Grupo de edad\": \">=80\", \"fecha (a\\u00f1o-mes-d\\u00eda)\": \"2020-04-13\", \"casos confirmados\": 187}, {\"index\": 0, \"Grupo de edad\": \"<=39\", \"fecha (a\\u00f1o-mes-d\\u00eda)\": \"2020-04-14\", \"casos confirmados\": 3806}, {\"index\": 1, \"Grupo de edad\": \"40-49\", \"fecha (a\\u00f1o-mes-d\\u00eda)\": \"2020-04-14\", \"casos confirmados\": 1488}, {\"index\": 2, \"Grupo de edad\": \"50-59\", \"fecha (a\\u00f1o-mes-d\\u00eda)\": \"2020-04-14\", \"casos confirmados\": 1173}, {\"index\": 3, \"Grupo de edad\": \"60-69\", \"fecha (a\\u00f1o-mes-d\\u00eda)\": \"2020-04-14\", \"casos confirmados\": 686}, {\"index\": 4, \"Grupo de edad\": \"70-79\", \"fecha (a\\u00f1o-mes-d\\u00eda)\": \"2020-04-14\", \"casos confirmados\": 366}, {\"index\": 5, \"Grupo de edad\": \">=80\", \"fecha (a\\u00f1o-mes-d\\u00eda)\": \"2020-04-14\", \"casos confirmados\": 197}, {\"index\": 0, \"Grupo de edad\": \"<=39\", \"fecha (a\\u00f1o-mes-d\\u00eda)\": \"2020-04-15\", \"casos confirmados\": 4052}, {\"index\": 1, \"Grupo de edad\": \"40-49\", \"fecha (a\\u00f1o-mes-d\\u00eda)\": \"2020-04-15\", \"casos confirmados\": 1582}, {\"index\": 2, \"Grupo de edad\": \"50-59\", \"fecha (a\\u00f1o-mes-d\\u00eda)\": \"2020-04-15\", \"casos confirmados\": 1251}, {\"index\": 3, \"Grupo de edad\": \"60-69\", \"fecha (a\\u00f1o-mes-d\\u00eda)\": \"2020-04-15\", \"casos confirmados\": 726}, {\"index\": 4, \"Grupo de edad\": \"70-79\", \"fecha (a\\u00f1o-mes-d\\u00eda)\": \"2020-04-15\", \"casos confirmados\": 396}, {\"index\": 5, \"Grupo de edad\": \">=80\", \"fecha (a\\u00f1o-mes-d\\u00eda)\": \"2020-04-15\", \"casos confirmados\": 209}, {\"index\": 0, \"Grupo de edad\": \"<=39\", \"fecha (a\\u00f1o-mes-d\\u00eda)\": \"2020-04-16\", \"casos confirmados\": 4306}, {\"index\": 1, \"Grupo de edad\": \"40-49\", \"fecha (a\\u00f1o-mes-d\\u00eda)\": \"2020-04-16\", \"casos confirmados\": 1684}, {\"index\": 2, \"Grupo de edad\": \"50-59\", \"fecha (a\\u00f1o-mes-d\\u00eda)\": \"2020-04-16\", \"casos confirmados\": 1341}, {\"index\": 3, \"Grupo de edad\": \"60-69\", \"fecha (a\\u00f1o-mes-d\\u00eda)\": \"2020-04-16\", \"casos confirmados\": 766}, {\"index\": 4, \"Grupo de edad\": \"70-79\", \"fecha (a\\u00f1o-mes-d\\u00eda)\": \"2020-04-16\", \"casos confirmados\": 422}, {\"index\": 5, \"Grupo de edad\": \">=80\", \"fecha (a\\u00f1o-mes-d\\u00eda)\": \"2020-04-16\", \"casos confirmados\": 221}, {\"index\": 0, \"Grupo de edad\": \"<=39\", \"fecha (a\\u00f1o-mes-d\\u00eda)\": \"2020-04-17\", \"casos confirmados\": 4555}, {\"index\": 1, \"Grupo de edad\": \"40-49\", \"fecha (a\\u00f1o-mes-d\\u00eda)\": \"2020-04-17\", \"casos confirmados\": 1781}, {\"index\": 2, \"Grupo de edad\": \"50-59\", \"fecha (a\\u00f1o-mes-d\\u00eda)\": \"2020-04-17\", \"casos confirmados\": 1408}, {\"index\": 3, \"Grupo de edad\": \"60-69\", \"fecha (a\\u00f1o-mes-d\\u00eda)\": \"2020-04-17\", \"casos confirmados\": 819}, {\"index\": 4, \"Grupo de edad\": \"70-79\", \"fecha (a\\u00f1o-mes-d\\u00eda)\": \"2020-04-17\", \"casos confirmados\": 451}, {\"index\": 5, \"Grupo de edad\": \">=80\", \"fecha (a\\u00f1o-mes-d\\u00eda)\": \"2020-04-17\", \"casos confirmados\": 238}, {\"index\": 0, \"Grupo de edad\": \"<=39\", \"fecha (a\\u00f1o-mes-d\\u00eda)\": \"2020-04-18\", \"casos confirmados\": 4811}, {\"index\": 1, \"Grupo de edad\": \"40-49\", \"fecha (a\\u00f1o-mes-d\\u00eda)\": \"2020-04-18\", \"casos confirmados\": 1855}, {\"index\": 2, \"Grupo de edad\": \"50-59\", \"fecha (a\\u00f1o-mes-d\\u00eda)\": \"2020-04-18\", \"casos confirmados\": 1477}, {\"index\": 3, \"Grupo de edad\": \"60-69\", \"fecha (a\\u00f1o-mes-d\\u00eda)\": \"2020-04-18\", \"casos confirmados\": 854}, {\"index\": 4, \"Grupo de edad\": \"70-79\", \"fecha (a\\u00f1o-mes-d\\u00eda)\": \"2020-04-18\", \"casos confirmados\": 480}, {\"index\": 5, \"Grupo de edad\": \">=80\", \"fecha (a\\u00f1o-mes-d\\u00eda)\": \"2020-04-18\", \"casos confirmados\": 253}, {\"index\": 0, \"Grupo de edad\": \"<=39\", \"fecha (a\\u00f1o-mes-d\\u00eda)\": \"2020-04-19\", \"casos confirmados\": 4999}, {\"index\": 1, \"Grupo de edad\": \"40-49\", \"fecha (a\\u00f1o-mes-d\\u00eda)\": \"2020-04-19\", \"casos confirmados\": 1926}, {\"index\": 2, \"Grupo de edad\": \"50-59\", \"fecha (a\\u00f1o-mes-d\\u00eda)\": \"2020-04-19\", \"casos confirmados\": 1522}, {\"index\": 3, \"Grupo de edad\": \"60-69\", \"fecha (a\\u00f1o-mes-d\\u00eda)\": \"2020-04-19\", \"casos confirmados\": 873}, {\"index\": 4, \"Grupo de edad\": \"70-79\", \"fecha (a\\u00f1o-mes-d\\u00eda)\": \"2020-04-19\", \"casos confirmados\": 497}, {\"index\": 5, \"Grupo de edad\": \">=80\", \"fecha (a\\u00f1o-mes-d\\u00eda)\": \"2020-04-19\", \"casos confirmados\": 271}, {\"index\": 0, \"Grupo de edad\": \"<=39\", \"fecha (a\\u00f1o-mes-d\\u00eda)\": \"2020-04-20\", \"casos confirmados\": 5200}, {\"index\": 1, \"Grupo de edad\": \"40-49\", \"fecha (a\\u00f1o-mes-d\\u00eda)\": \"2020-04-20\", \"casos confirmados\": 1979}, {\"index\": 2, \"Grupo de edad\": \"50-59\", \"fecha (a\\u00f1o-mes-d\\u00eda)\": \"2020-04-20\", \"casos confirmados\": 1572}, {\"index\": 3, \"Grupo de edad\": \"60-69\", \"fecha (a\\u00f1o-mes-d\\u00eda)\": \"2020-04-20\", \"casos confirmados\": 901}, {\"index\": 4, \"Grupo de edad\": \"70-79\", \"fecha (a\\u00f1o-mes-d\\u00eda)\": \"2020-04-20\", \"casos confirmados\": 515}, {\"index\": 5, \"Grupo de edad\": \">=80\", \"fecha (a\\u00f1o-mes-d\\u00eda)\": \"2020-04-20\", \"casos confirmados\": 284}, {\"index\": 0, \"Grupo de edad\": \"<=39\", \"fecha (a\\u00f1o-mes-d\\u00eda)\": \"2020-04-21\", \"casos confirmados\": 5434}, {\"index\": 1, \"Grupo de edad\": \"40-49\", \"fecha (a\\u00f1o-mes-d\\u00eda)\": \"2020-04-21\", \"casos confirmados\": 2029}, {\"index\": 2, \"Grupo de edad\": \"50-59\", \"fecha (a\\u00f1o-mes-d\\u00eda)\": \"2020-04-21\", \"casos confirmados\": 1620}, {\"index\": 3, \"Grupo de edad\": \"60-69\", \"fecha (a\\u00f1o-mes-d\\u00eda)\": \"2020-04-21\", \"casos confirmados\": 933}, {\"index\": 4, \"Grupo de edad\": \"70-79\", \"fecha (a\\u00f1o-mes-d\\u00eda)\": \"2020-04-21\", \"casos confirmados\": 528}, {\"index\": 5, \"Grupo de edad\": \">=80\", \"fecha (a\\u00f1o-mes-d\\u00eda)\": \"2020-04-21\", \"casos confirmados\": 288}, {\"index\": 0, \"Grupo de edad\": \"<=39\", \"fecha (a\\u00f1o-mes-d\\u00eda)\": \"2020-04-22\", \"casos confirmados\": 5682}, {\"index\": 1, \"Grupo de edad\": \"40-49\", \"fecha (a\\u00f1o-mes-d\\u00eda)\": \"2020-04-22\", \"casos confirmados\": 2102}, {\"index\": 2, \"Grupo de edad\": \"50-59\", \"fecha (a\\u00f1o-mes-d\\u00eda)\": \"2020-04-22\", \"casos confirmados\": 1693}, {\"index\": 3, \"Grupo de edad\": \"60-69\", \"fecha (a\\u00f1o-mes-d\\u00eda)\": \"2020-04-22\", \"casos confirmados\": 971}, {\"index\": 4, \"Grupo de edad\": \"70-79\", \"fecha (a\\u00f1o-mes-d\\u00eda)\": \"2020-04-22\", \"casos confirmados\": 544}, {\"index\": 5, \"Grupo de edad\": \">=80\", \"fecha (a\\u00f1o-mes-d\\u00eda)\": \"2020-04-22\", \"casos confirmados\": 304}, {\"index\": 0, \"Grupo de edad\": \"<=39\", \"fecha (a\\u00f1o-mes-d\\u00eda)\": \"2020-04-23\", \"casos confirmados\": 5951}, {\"index\": 1, \"Grupo de edad\": \"40-49\", \"fecha (a\\u00f1o-mes-d\\u00eda)\": \"2020-04-23\", \"casos confirmados\": 2194}, {\"index\": 2, \"Grupo de edad\": \"50-59\", \"fecha (a\\u00f1o-mes-d\\u00eda)\": \"2020-04-23\", \"casos confirmados\": 1769}, {\"index\": 3, \"Grupo de edad\": \"60-69\", \"fecha (a\\u00f1o-mes-d\\u00eda)\": \"2020-04-23\", \"casos confirmados\": 1017}, {\"index\": 4, \"Grupo de edad\": \"70-79\", \"fecha (a\\u00f1o-mes-d\\u00eda)\": \"2020-04-23\", \"casos confirmados\": 561}, {\"index\": 5, \"Grupo de edad\": \">=80\", \"fecha (a\\u00f1o-mes-d\\u00eda)\": \"2020-04-23\", \"casos confirmados\": 320}, {\"index\": 0, \"Grupo de edad\": \"<=39\", \"fecha (a\\u00f1o-mes-d\\u00eda)\": \"2020-04-24\", \"casos confirmados\": 6178}, {\"index\": 1, \"Grupo de edad\": \"40-49\", \"fecha (a\\u00f1o-mes-d\\u00eda)\": \"2020-04-24\", \"casos confirmados\": 2261}, {\"index\": 2, \"Grupo de edad\": \"50-59\", \"fecha (a\\u00f1o-mes-d\\u00eda)\": \"2020-04-24\", \"casos confirmados\": 1829}, {\"index\": 3, \"Grupo de edad\": \"60-69\", \"fecha (a\\u00f1o-mes-d\\u00eda)\": \"2020-04-24\", \"casos confirmados\": 1048}, {\"index\": 4, \"Grupo de edad\": \"70-79\", \"fecha (a\\u00f1o-mes-d\\u00eda)\": \"2020-04-24\", \"casos confirmados\": 572}, {\"index\": 5, \"Grupo de edad\": \">=80\", \"fecha (a\\u00f1o-mes-d\\u00eda)\": \"2020-04-24\", \"casos confirmados\": 326}, {\"index\": 0, \"Grupo de edad\": \"<=39\", \"fecha (a\\u00f1o-mes-d\\u00eda)\": \"2020-04-25\", \"casos confirmados\": 6495}, {\"index\": 1, \"Grupo de edad\": \"40-49\", \"fecha (a\\u00f1o-mes-d\\u00eda)\": \"2020-04-25\", \"casos confirmados\": 2357}, {\"index\": 2, \"Grupo de edad\": \"50-59\", \"fecha (a\\u00f1o-mes-d\\u00eda)\": \"2020-04-25\", \"casos confirmados\": 1913}, {\"index\": 3, \"Grupo de edad\": \"60-69\", \"fecha (a\\u00f1o-mes-d\\u00eda)\": \"2020-04-25\", \"casos confirmados\": 1083}, {\"index\": 4, \"Grupo de edad\": \"70-79\", \"fecha (a\\u00f1o-mes-d\\u00eda)\": \"2020-04-25\", \"casos confirmados\": 592}, {\"index\": 5, \"Grupo de edad\": \">=80\", \"fecha (a\\u00f1o-mes-d\\u00eda)\": \"2020-04-25\", \"casos confirmados\": 345}, {\"index\": 0, \"Grupo de edad\": \"<=39\", \"fecha (a\\u00f1o-mes-d\\u00eda)\": \"2020-04-26\", \"casos confirmados\": 6772}, {\"index\": 1, \"Grupo de edad\": \"40-49\", \"fecha (a\\u00f1o-mes-d\\u00eda)\": \"2020-04-26\", \"casos confirmados\": 2421}, {\"index\": 2, \"Grupo de edad\": \"50-59\", \"fecha (a\\u00f1o-mes-d\\u00eda)\": \"2020-04-26\", \"casos confirmados\": 1991}, {\"index\": 3, \"Grupo de edad\": \"60-69\", \"fecha (a\\u00f1o-mes-d\\u00eda)\": \"2020-04-26\", \"casos confirmados\": 1115}, {\"index\": 4, \"Grupo de edad\": \"70-79\", \"fecha (a\\u00f1o-mes-d\\u00eda)\": \"2020-04-26\", \"casos confirmados\": 616}, {\"index\": 5, \"Grupo de edad\": \">=80\", \"fecha (a\\u00f1o-mes-d\\u00eda)\": \"2020-04-26\", \"casos confirmados\": 369}, {\"index\": 0, \"Grupo de edad\": \"<=39\", \"fecha (a\\u00f1o-mes-d\\u00eda)\": \"2020-04-27\", \"casos confirmados\": 7006}, {\"index\": 1, \"Grupo de edad\": \"40-49\", \"fecha (a\\u00f1o-mes-d\\u00eda)\": \"2020-04-27\", \"casos confirmados\": 2492}, {\"index\": 2, \"Grupo de edad\": \"50-59\", \"fecha (a\\u00f1o-mes-d\\u00eda)\": \"2020-04-27\", \"casos confirmados\": 2036}, {\"index\": 3, \"Grupo de edad\": \"60-69\", \"fecha (a\\u00f1o-mes-d\\u00eda)\": \"2020-04-27\", \"casos confirmados\": 1156}, {\"index\": 4, \"Grupo de edad\": \"70-79\", \"fecha (a\\u00f1o-mes-d\\u00eda)\": \"2020-04-27\", \"casos confirmados\": 627}, {\"index\": 5, \"Grupo de edad\": \">=80\", \"fecha (a\\u00f1o-mes-d\\u00eda)\": \"2020-04-27\", \"casos confirmados\": 387}, {\"index\": 0, \"Grupo de edad\": \"<=39\", \"fecha (a\\u00f1o-mes-d\\u00eda)\": \"2020-04-28\", \"casos confirmados\": 7358}, {\"index\": 1, \"Grupo de edad\": \"40-49\", \"fecha (a\\u00f1o-mes-d\\u00eda)\": \"2020-04-28\", \"casos confirmados\": 2597}, {\"index\": 2, \"Grupo de edad\": \"50-59\", \"fecha (a\\u00f1o-mes-d\\u00eda)\": \"2020-04-28\", \"casos confirmados\": 2118}, {\"index\": 3, \"Grupo de edad\": \"60-69\", \"fecha (a\\u00f1o-mes-d\\u00eda)\": \"2020-04-28\", \"casos confirmados\": 1206}, {\"index\": 4, \"Grupo de edad\": \"70-79\", \"fecha (a\\u00f1o-mes-d\\u00eda)\": \"2020-04-28\", \"casos confirmados\": 664}, {\"index\": 5, \"Grupo de edad\": \">=80\", \"fecha (a\\u00f1o-mes-d\\u00eda)\": \"2020-04-28\", \"casos confirmados\": 419}, {\"index\": 0, \"Grupo de edad\": \"<=39\", \"fecha (a\\u00f1o-mes-d\\u00eda)\": \"2020-05-01\", \"casos confirmados\": 8841}, {\"index\": 1, \"Grupo de edad\": \"40-49\", \"fecha (a\\u00f1o-mes-d\\u00eda)\": \"2020-05-01\", \"casos confirmados\": 3038}, {\"index\": 2, \"Grupo de edad\": \"50-59\", \"fecha (a\\u00f1o-mes-d\\u00eda)\": \"2020-05-01\", \"casos confirmados\": 2507}, {\"index\": 3, \"Grupo de edad\": \"60-69\", \"fecha (a\\u00f1o-mes-d\\u00eda)\": \"2020-05-01\", \"casos confirmados\": 1387}, {\"index\": 4, \"Grupo de edad\": \"70-79\", \"fecha (a\\u00f1o-mes-d\\u00eda)\": \"2020-05-01\", \"casos confirmados\": 746}, {\"index\": 5, \"Grupo de edad\": \">=80\", \"fecha (a\\u00f1o-mes-d\\u00eda)\": \"2020-05-01\", \"casos confirmados\": 489}, {\"index\": 0, \"Grupo de edad\": \"<=39\", \"fecha (a\\u00f1o-mes-d\\u00eda)\": \"2020-05-02\", \"casos confirmados\": 9636}, {\"index\": 1, \"Grupo de edad\": \"40-49\", \"fecha (a\\u00f1o-mes-d\\u00eda)\": \"2020-05-02\", \"casos confirmados\": 3287}, {\"index\": 2, \"Grupo de edad\": \"50-59\", \"fecha (a\\u00f1o-mes-d\\u00eda)\": \"2020-05-02\", \"casos confirmados\": 2709}, {\"index\": 3, \"Grupo de edad\": \"60-69\", \"fecha (a\\u00f1o-mes-d\\u00eda)\": \"2020-05-02\", \"casos confirmados\": 1503}, {\"index\": 4, \"Grupo de edad\": \"70-79\", \"fecha (a\\u00f1o-mes-d\\u00eda)\": \"2020-05-02\", \"casos confirmados\": 787}, {\"index\": 5, \"Grupo de edad\": \">=80\", \"fecha (a\\u00f1o-mes-d\\u00eda)\": \"2020-05-02\", \"casos confirmados\": 511}, {\"index\": 0, \"Grupo de edad\": \"<=39\", \"fecha (a\\u00f1o-mes-d\\u00eda)\": \"2020-05-04\", \"casos confirmados\": 10795}, {\"index\": 1, \"Grupo de edad\": \"40-49\", \"fecha (a\\u00f1o-mes-d\\u00eda)\": \"2020-05-04\", \"casos confirmados\": 3625}, {\"index\": 2, \"Grupo de edad\": \"50-59\", \"fecha (a\\u00f1o-mes-d\\u00eda)\": \"2020-05-04\", \"casos confirmados\": 3023}, {\"index\": 3, \"Grupo de edad\": \"60-69\", \"fecha (a\\u00f1o-mes-d\\u00eda)\": \"2020-05-04\", \"casos confirmados\": 1680}, {\"index\": 4, \"Grupo de edad\": \"70-79\", \"fecha (a\\u00f1o-mes-d\\u00eda)\": \"2020-05-04\", \"casos confirmados\": 877}, {\"index\": 5, \"Grupo de edad\": \">=80\", \"fecha (a\\u00f1o-mes-d\\u00eda)\": \"2020-05-04\", \"casos confirmados\": 567}, {\"index\": 0, \"Grupo de edad\": \"<=39\", \"fecha (a\\u00f1o-mes-d\\u00eda)\": \"2020-05-06\", \"casos confirmados\": 12183}, {\"index\": 1, \"Grupo de edad\": \"40-49\", \"fecha (a\\u00f1o-mes-d\\u00eda)\": \"2020-05-06\", \"casos confirmados\": 4029}, {\"index\": 2, \"Grupo de edad\": \"50-59\", \"fecha (a\\u00f1o-mes-d\\u00eda)\": \"2020-05-06\", \"casos confirmados\": 3361}, {\"index\": 3, \"Grupo de edad\": \"60-69\", \"fecha (a\\u00f1o-mes-d\\u00eda)\": \"2020-05-06\", \"casos confirmados\": 1864}, {\"index\": 4, \"Grupo de edad\": \"70-79\", \"fecha (a\\u00f1o-mes-d\\u00eda)\": \"2020-05-06\", \"casos confirmados\": 952}, {\"index\": 5, \"Grupo de edad\": \">=80\", \"fecha (a\\u00f1o-mes-d\\u00eda)\": \"2020-05-06\", \"casos confirmados\": 622}, {\"index\": 0, \"Grupo de edad\": \"<=39\", \"fecha (a\\u00f1o-mes-d\\u00eda)\": \"2020-05-08\", \"casos confirmados\": 13750}, {\"index\": 1, \"Grupo de edad\": \"40-49\", \"fecha (a\\u00f1o-mes-d\\u00eda)\": \"2020-05-08\", \"casos confirmados\": 4556}, {\"index\": 2, \"Grupo de edad\": \"50-59\", \"fecha (a\\u00f1o-mes-d\\u00eda)\": \"2020-05-08\", \"casos confirmados\": 3768}, {\"index\": 3, \"Grupo de edad\": \"60-69\", \"fecha (a\\u00f1o-mes-d\\u00eda)\": \"2020-05-08\", \"casos confirmados\": 2138}, {\"index\": 4, \"Grupo de edad\": \"70-79\", \"fecha (a\\u00f1o-mes-d\\u00eda)\": \"2020-05-08\", \"casos confirmados\": 1052}, {\"index\": 5, \"Grupo de edad\": \">=80\", \"fecha (a\\u00f1o-mes-d\\u00eda)\": \"2020-05-08\", \"casos confirmados\": 688}, {\"index\": 0, \"Grupo de edad\": \"<=39\", \"fecha (a\\u00f1o-mes-d\\u00eda)\": \"2020-05-11\", \"casos confirmados\": 16047}, {\"index\": 1, \"Grupo de edad\": \"40-49\", \"fecha (a\\u00f1o-mes-d\\u00eda)\": \"2020-05-11\", \"casos confirmados\": 5219}, {\"index\": 2, \"Grupo de edad\": \"50-59\", \"fecha (a\\u00f1o-mes-d\\u00eda)\": \"2020-05-11\", \"casos confirmados\": 4314}, {\"index\": 3, \"Grupo de edad\": \"60-69\", \"fecha (a\\u00f1o-mes-d\\u00eda)\": \"2020-05-11\", \"casos confirmados\": 2470}, {\"index\": 4, \"Grupo de edad\": \"70-79\", \"fecha (a\\u00f1o-mes-d\\u00eda)\": \"2020-05-11\", \"casos confirmados\": 1208}, {\"index\": 5, \"Grupo de edad\": \">=80\", \"fecha (a\\u00f1o-mes-d\\u00eda)\": \"2020-05-11\", \"casos confirmados\": 789}, {\"index\": 0, \"Grupo de edad\": \"<=39\", \"fecha (a\\u00f1o-mes-d\\u00eda)\": \"2020-05-15\", \"casos confirmados\": 21306}, {\"index\": 1, \"Grupo de edad\": \"40-49\", \"fecha (a\\u00f1o-mes-d\\u00eda)\": \"2020-05-15\", \"casos confirmados\": 6821}, {\"index\": 2, \"Grupo de edad\": \"50-59\", \"fecha (a\\u00f1o-mes-d\\u00eda)\": \"2020-05-15\", \"casos confirmados\": 5674}, {\"index\": 3, \"Grupo de edad\": \"60-69\", \"fecha (a\\u00f1o-mes-d\\u00eda)\": \"2020-05-15\", \"casos confirmados\": 3190}, {\"index\": 4, \"Grupo de edad\": \"70-79\", \"fecha (a\\u00f1o-mes-d\\u00eda)\": \"2020-05-15\", \"casos confirmados\": 1541}, {\"index\": 5, \"Grupo de edad\": \">=80\", \"fecha (a\\u00f1o-mes-d\\u00eda)\": \"2020-05-15\", \"casos confirmados\": 979}, {\"index\": 0, \"Grupo de edad\": \"<=39\", \"fecha (a\\u00f1o-mes-d\\u00eda)\": \"2020-05-18\", \"casos confirmados\": 24830}, {\"index\": 1, \"Grupo de edad\": \"40-49\", \"fecha (a\\u00f1o-mes-d\\u00eda)\": \"2020-05-18\", \"casos confirmados\": 7953}, {\"index\": 2, \"Grupo de edad\": \"50-59\", \"fecha (a\\u00f1o-mes-d\\u00eda)\": \"2020-05-18\", \"casos confirmados\": 6624}, {\"index\": 3, \"Grupo de edad\": \"60-69\", \"fecha (a\\u00f1o-mes-d\\u00eda)\": \"2020-05-18\", \"casos confirmados\": 3748}, {\"index\": 4, \"Grupo de edad\": \"70-79\", \"fecha (a\\u00f1o-mes-d\\u00eda)\": \"2020-05-18\", \"casos confirmados\": 1785}, {\"index\": 5, \"Grupo de edad\": \">=80\", \"fecha (a\\u00f1o-mes-d\\u00eda)\": \"2020-05-18\", \"casos confirmados\": 1108}, {\"index\": 0, \"Grupo de edad\": \"<=39\", \"fecha (a\\u00f1o-mes-d\\u00eda)\": \"2020-05-22\", \"casos confirmados\": 33248}, {\"index\": 1, \"Grupo de edad\": \"40-49\", \"fecha (a\\u00f1o-mes-d\\u00eda)\": \"2020-05-22\", \"casos confirmados\": 10674}, {\"index\": 2, \"Grupo de edad\": \"50-59\", \"fecha (a\\u00f1o-mes-d\\u00eda)\": \"2020-05-22\", \"casos confirmados\": 9078}, {\"index\": 3, \"Grupo de edad\": \"60-69\", \"fecha (a\\u00f1o-mes-d\\u00eda)\": \"2020-05-22\", \"casos confirmados\": 5061}, {\"index\": 4, \"Grupo de edad\": \"70-79\", \"fecha (a\\u00f1o-mes-d\\u00eda)\": \"2020-05-22\", \"casos confirmados\": 2372}, {\"index\": 5, \"Grupo de edad\": \">=80\", \"fecha (a\\u00f1o-mes-d\\u00eda)\": \"2020-05-22\", \"casos confirmados\": 1415}, {\"index\": 0, \"Grupo de edad\": \"<=39\", \"fecha (a\\u00f1o-mes-d\\u00eda)\": \"2020-05-25\", \"casos confirmados\": 39590}, {\"index\": 1, \"Grupo de edad\": \"40-49\", \"fecha (a\\u00f1o-mes-d\\u00eda)\": \"2020-05-25\", \"casos confirmados\": 12938}, {\"index\": 2, \"Grupo de edad\": \"50-59\", \"fecha (a\\u00f1o-mes-d\\u00eda)\": \"2020-05-25\", \"casos confirmados\": 10932}, {\"index\": 3, \"Grupo de edad\": \"60-69\", \"fecha (a\\u00f1o-mes-d\\u00eda)\": \"2020-05-25\", \"casos confirmados\": 6021}, {\"index\": 4, \"Grupo de edad\": \"70-79\", \"fecha (a\\u00f1o-mes-d\\u00eda)\": \"2020-05-25\", \"casos confirmados\": 2822}, {\"index\": 5, \"Grupo de edad\": \">=80\", \"fecha (a\\u00f1o-mes-d\\u00eda)\": \"2020-05-25\", \"casos confirmados\": 1692}, {\"index\": 0, \"Grupo de edad\": \"<=39\", \"fecha (a\\u00f1o-mes-d\\u00eda)\": \"2020-05-29\", \"casos confirmados\": 48246}, {\"index\": 1, \"Grupo de edad\": \"40-49\", \"fecha (a\\u00f1o-mes-d\\u00eda)\": \"2020-05-29\", \"casos confirmados\": 15665}, {\"index\": 2, \"Grupo de edad\": \"50-59\", \"fecha (a\\u00f1o-mes-d\\u00eda)\": \"2020-05-29\", \"casos confirmados\": 13525}, {\"index\": 3, \"Grupo de edad\": \"60-69\", \"fecha (a\\u00f1o-mes-d\\u00eda)\": \"2020-05-29\", \"casos confirmados\": 7515}, {\"index\": 4, \"Grupo de edad\": \"70-79\", \"fecha (a\\u00f1o-mes-d\\u00eda)\": \"2020-05-29\", \"casos confirmados\": 3548}, {\"index\": 5, \"Grupo de edad\": \">=80\", \"fecha (a\\u00f1o-mes-d\\u00eda)\": \"2020-05-29\", \"casos confirmados\": 2135}, {\"index\": 0, \"Grupo de edad\": \"<=39\", \"fecha (a\\u00f1o-mes-d\\u00eda)\": \"2020-06-01\", \"casos confirmados\": 55579}, {\"index\": 1, \"Grupo de edad\": \"40-49\", \"fecha (a\\u00f1o-mes-d\\u00eda)\": \"2020-06-01\", \"casos confirmados\": 18150}, {\"index\": 2, \"Grupo de edad\": \"50-59\", \"fecha (a\\u00f1o-mes-d\\u00eda)\": \"2020-06-01\", \"casos confirmados\": 15817}, {\"index\": 3, \"Grupo de edad\": \"60-69\", \"fecha (a\\u00f1o-mes-d\\u00eda)\": \"2020-06-01\", \"casos confirmados\": 8836}, {\"index\": 4, \"Grupo de edad\": \"70-79\", \"fecha (a\\u00f1o-mes-d\\u00eda)\": \"2020-06-01\", \"casos confirmados\": 4249}, {\"index\": 5, \"Grupo de edad\": \">=80\", \"fecha (a\\u00f1o-mes-d\\u00eda)\": \"2020-06-01\", \"casos confirmados\": 2526}, {\"index\": 0, \"Grupo de edad\": \"<=39\", \"fecha (a\\u00f1o-mes-d\\u00eda)\": \"2020-06-05\", \"casos confirmados\": 64367}, {\"index\": 1, \"Grupo de edad\": \"40-49\", \"fecha (a\\u00f1o-mes-d\\u00eda)\": \"2020-06-05\", \"casos confirmados\": 21192}, {\"index\": 2, \"Grupo de edad\": \"50-59\", \"fecha (a\\u00f1o-mes-d\\u00eda)\": \"2020-06-05\", \"casos confirmados\": 18555}, {\"index\": 3, \"Grupo de edad\": \"60-69\", \"fecha (a\\u00f1o-mes-d\\u00eda)\": \"2020-06-05\", \"casos confirmados\": 10378}, {\"index\": 4, \"Grupo de edad\": \"70-79\", \"fecha (a\\u00f1o-mes-d\\u00eda)\": \"2020-06-05\", \"casos confirmados\": 5033}, {\"index\": 5, \"Grupo de edad\": \">=80\", \"fecha (a\\u00f1o-mes-d\\u00eda)\": \"2020-06-05\", \"casos confirmados\": 2970}, {\"index\": 0, \"Grupo de edad\": \"<=39\", \"fecha (a\\u00f1o-mes-d\\u00eda)\": \"2020-06-08\", \"casos confirmados\": 72445}, {\"index\": 1, \"Grupo de edad\": \"40-49\", \"fecha (a\\u00f1o-mes-d\\u00eda)\": \"2020-06-08\", \"casos confirmados\": 24095}, {\"index\": 2, \"Grupo de edad\": \"50-59\", \"fecha (a\\u00f1o-mes-d\\u00eda)\": \"2020-06-08\", \"casos confirmados\": 21225}, {\"index\": 3, \"Grupo de edad\": \"60-69\", \"fecha (a\\u00f1o-mes-d\\u00eda)\": \"2020-06-08\", \"casos confirmados\": 11880}, {\"index\": 4, \"Grupo de edad\": \"70-79\", \"fecha (a\\u00f1o-mes-d\\u00eda)\": \"2020-06-08\", \"casos confirmados\": 5771}, {\"index\": 5, \"Grupo de edad\": \">=80\", \"fecha (a\\u00f1o-mes-d\\u00eda)\": \"2020-06-08\", \"casos confirmados\": 3426}, {\"index\": 0, \"Grupo de edad\": \"<=39\", \"fecha (a\\u00f1o-mes-d\\u00eda)\": \"2020-06-12\", \"casos confirmados\": 83297}, {\"index\": 1, \"Grupo de edad\": \"40-49\", \"fecha (a\\u00f1o-mes-d\\u00eda)\": \"2020-06-12\", \"casos confirmados\": 27767}, {\"index\": 2, \"Grupo de edad\": \"50-59\", \"fecha (a\\u00f1o-mes-d\\u00eda)\": \"2020-06-12\", \"casos confirmados\": 24756}, {\"index\": 3, \"Grupo de edad\": \"60-69\", \"fecha (a\\u00f1o-mes-d\\u00eda)\": \"2020-06-12\", \"casos confirmados\": 14011}, {\"index\": 4, \"Grupo de edad\": \"70-79\", \"fecha (a\\u00f1o-mes-d\\u00eda)\": \"2020-06-12\", \"casos confirmados\": 6827}, {\"index\": 5, \"Grupo de edad\": \">=80\", \"fecha (a\\u00f1o-mes-d\\u00eda)\": \"2020-06-12\", \"casos confirmados\": 4182}, {\"index\": 0, \"Grupo de edad\": \"<=39\", \"fecha (a\\u00f1o-mes-d\\u00eda)\": \"2020-06-15\", \"casos confirmados\": 92142}, {\"index\": 1, \"Grupo de edad\": \"40-49\", \"fecha (a\\u00f1o-mes-d\\u00eda)\": \"2020-06-15\", \"casos confirmados\": 31008}, {\"index\": 2, \"Grupo de edad\": \"50-59\", \"fecha (a\\u00f1o-mes-d\\u00eda)\": \"2020-06-15\", \"casos confirmados\": 28049}, {\"index\": 3, \"Grupo de edad\": \"60-69\", \"fecha (a\\u00f1o-mes-d\\u00eda)\": \"2020-06-15\", \"casos confirmados\": 15780}, {\"index\": 4, \"Grupo de edad\": \"70-79\", \"fecha (a\\u00f1o-mes-d\\u00eda)\": \"2020-06-15\", \"casos confirmados\": 7737}, {\"index\": 5, \"Grupo de edad\": \">=80\", \"fecha (a\\u00f1o-mes-d\\u00eda)\": \"2020-06-15\", \"casos confirmados\": 4714}, {\"index\": 0, \"Grupo de edad\": \"<=39\", \"fecha (a\\u00f1o-mes-d\\u00eda)\": \"2020-06-19\", \"casos confirmados\": 119298}, {\"index\": 1, \"Grupo de edad\": \"40-49\", \"fecha (a\\u00f1o-mes-d\\u00eda)\": \"2020-06-19\", \"casos confirmados\": 39668}, {\"index\": 2, \"Grupo de edad\": \"50-59\", \"fecha (a\\u00f1o-mes-d\\u00eda)\": \"2020-06-19\", \"casos confirmados\": 36128}, {\"index\": 3, \"Grupo de edad\": \"60-69\", \"fecha (a\\u00f1o-mes-d\\u00eda)\": \"2020-06-19\", \"casos confirmados\": 20250}, {\"index\": 4, \"Grupo de edad\": \"70-79\", \"fecha (a\\u00f1o-mes-d\\u00eda)\": \"2020-06-19\", \"casos confirmados\": 9905}, {\"index\": 5, \"Grupo de edad\": \">=80\", \"fecha (a\\u00f1o-mes-d\\u00eda)\": \"2020-06-19\", \"casos confirmados\": 6103}, {\"index\": 0, \"Grupo de edad\": \"<=39\", \"fecha (a\\u00f1o-mes-d\\u00eda)\": \"2020-06-23\", \"casos confirmados\": 131528}, {\"index\": 1, \"Grupo de edad\": \"40-49\", \"fecha (a\\u00f1o-mes-d\\u00eda)\": \"2020-06-23\", \"casos confirmados\": 43710}, {\"index\": 2, \"Grupo de edad\": \"50-59\", \"fecha (a\\u00f1o-mes-d\\u00eda)\": \"2020-06-23\", \"casos confirmados\": 39940}, {\"index\": 3, \"Grupo de edad\": \"60-69\", \"fecha (a\\u00f1o-mes-d\\u00eda)\": \"2020-06-23\", \"casos confirmados\": 22457}, {\"index\": 4, \"Grupo de edad\": \"70-79\", \"fecha (a\\u00f1o-mes-d\\u00eda)\": \"2020-06-23\", \"casos confirmados\": 10922}, {\"index\": 5, \"Grupo de edad\": \">=80\", \"fecha (a\\u00f1o-mes-d\\u00eda)\": \"2020-06-23\", \"casos confirmados\": 6804}]}}, {\"mode\": \"vega-lite\"});\n",
       "</script>"
      ],
      "text/plain": [
       "alt.HConcatChart(...)"
      ]
     },
     "execution_count": 54,
     "metadata": {},
     "output_type": "execute_result"
    }
   ],
   "source": [
    "#hide_input\n",
    "input_dropdown = alt.binding_select(options=data['Grupo de edad'].unique())\n",
    "selection1 = alt.selection_single(fields=['Grupo de edad'], bind=input_dropdown, name=' ')\n",
    "selection2 = alt.selection_multi(fields=['Grupo de edad'], on='mouseover')\n",
    "\n",
    "color = alt.condition(selection1 | selection2,\n",
    "                    alt.Color('Grupo de edad:N', scale=alt.Scale(scheme='tableau20'), legend=None),\n",
    "                    alt.value('lightgray'))\n",
    "\n",
    "bars = alt.Chart(cases).mark_bar().encode(\n",
    "    x = 'fecha (año-mes-día):N',\n",
    "    y = 'casos confirmados:Q',\n",
    "    color = color,\n",
    "    tooltip = ['fecha (año-mes-día)', 'Grupo de edad', 'casos confirmados'],\n",
    "    order=alt.Order(\n",
    "    # Sort the segments of the bars by this field\n",
    "    'index',\n",
    "    sort='descending'\n",
    "    )\n",
    ").add_selection(\n",
    "    selection1, selection2\n",
    ").transform_filter(\n",
    "    selection1\n",
    ")\n",
    "\n",
    "legend = alt.Chart(cases).mark_point().encode(\n",
    "    y=alt.Y('Grupo de edad', axis=alt.Axis(orient='right'), sort=grupo_de_edad),\n",
    "    color=color\n",
    ").add_selection(\n",
    "    selection1, selection2\n",
    ")\n",
    "\n",
    "bars.properties(\n",
    "    title = 'COVID-19 en Chile: Evolución de casos confirmados por rango de edad',\n",
    "    width = 600\n",
    ") | legend"
   ]
  },
  {
   "cell_type": "code",
   "execution_count": 55,
   "metadata": {},
   "outputs": [
    {
     "data": {
      "text/html": [
       "\n",
       "<div id=\"altair-viz-d92ff4ab68b649008db6571b07493074\"></div>\n",
       "<script type=\"text/javascript\">\n",
       "  (function(spec, embedOpt){\n",
       "    let outputDiv = document.currentScript.previousElementSibling;\n",
       "    if (outputDiv.id !== \"altair-viz-d92ff4ab68b649008db6571b07493074\") {\n",
       "      outputDiv = document.getElementById(\"altair-viz-d92ff4ab68b649008db6571b07493074\");\n",
       "    }\n",
       "    const paths = {\n",
       "      \"vega\": \"https://cdn.jsdelivr.net/npm//vega@5?noext\",\n",
       "      \"vega-lib\": \"https://cdn.jsdelivr.net/npm//vega-lib?noext\",\n",
       "      \"vega-lite\": \"https://cdn.jsdelivr.net/npm//vega-lite@4.8.1?noext\",\n",
       "      \"vega-embed\": \"https://cdn.jsdelivr.net/npm//vega-embed@6?noext\",\n",
       "    };\n",
       "\n",
       "    function loadScript(lib) {\n",
       "      return new Promise(function(resolve, reject) {\n",
       "        var s = document.createElement('script');\n",
       "        s.src = paths[lib];\n",
       "        s.async = true;\n",
       "        s.onload = () => resolve(paths[lib]);\n",
       "        s.onerror = () => reject(`Error loading script: ${paths[lib]}`);\n",
       "        document.getElementsByTagName(\"head\")[0].appendChild(s);\n",
       "      });\n",
       "    }\n",
       "\n",
       "    function showError(err) {\n",
       "      outputDiv.innerHTML = `<div class=\"error\" style=\"color:red;\">${err}</div>`;\n",
       "      throw err;\n",
       "    }\n",
       "\n",
       "    function displayChart(vegaEmbed) {\n",
       "      vegaEmbed(outputDiv, spec, embedOpt)\n",
       "        .catch(err => showError(`Javascript Error: ${err.message}<br>This usually means there's a typo in your chart specification. See the javascript console for the full traceback.`));\n",
       "    }\n",
       "\n",
       "    if(typeof define === \"function\" && define.amd) {\n",
       "      requirejs.config({paths});\n",
       "      require([\"vega-embed\"], displayChart, err => showError(`Error loading script: ${err.message}`));\n",
       "    } else if (typeof vegaEmbed === \"function\") {\n",
       "      displayChart(vegaEmbed);\n",
       "    } else {\n",
       "      loadScript(\"vega\")\n",
       "        .then(() => loadScript(\"vega-lite\"))\n",
       "        .then(() => loadScript(\"vega-embed\"))\n",
       "        .catch(showError)\n",
       "        .then(() => displayChart(vegaEmbed));\n",
       "    }\n",
       "  })({\"config\": {\"view\": {\"continuousWidth\": 400, \"continuousHeight\": 300}}, \"hconcat\": [{\"mark\": \"area\", \"encoding\": {\"color\": {\"condition\": {\"type\": \"nominal\", \"field\": \"Grupo de edad\", \"legend\": null, \"scale\": {\"scheme\": \"tableau20\"}, \"selection\": \"selector003\"}, \"value\": \"lightgray\"}, \"order\": {\"type\": \"quantitative\", \"field\": \"index\", \"sort\": \"descending\"}, \"tooltip\": [{\"type\": \"nominal\", \"field\": \"fecha (a\\u00f1o-mes-d\\u00eda)\"}, {\"type\": \"nominal\", \"field\": \"Grupo de edad\"}, {\"type\": \"quantitative\", \"field\": \"casos confirmados\"}], \"x\": {\"type\": \"nominal\", \"field\": \"fecha (a\\u00f1o-mes-d\\u00eda)\"}, \"y\": {\"type\": \"quantitative\", \"field\": \"casos confirmados\", \"stack\": \"normalize\"}}, \"selection\": {\"selector003\": {\"type\": \"multi\", \"fields\": [\"Grupo de edad\"], \"on\": \"mouseover\"}}, \"title\": \"COVID-19 en Chile: Evoluci\\u00f3n de casos confirmados por rango de edad\", \"width\": 600}, {\"mark\": \"point\", \"encoding\": {\"color\": {\"condition\": {\"type\": \"nominal\", \"field\": \"Grupo de edad\", \"legend\": null, \"scale\": {\"scheme\": \"tableau20\"}, \"selection\": \"selector003\"}, \"value\": \"lightgray\"}, \"y\": {\"type\": \"nominal\", \"axis\": {\"orient\": \"right\"}, \"field\": \"Grupo de edad\", \"sort\": [\"<=39\", \"40-49\", \"50-59\", \"60-69\", \"70-79\", \"80-89\", \">=90\"]}}, \"selection\": {\"selector003\": {\"type\": \"multi\", \"fields\": [\"Grupo de edad\"], \"on\": \"mouseover\"}}}], \"data\": {\"name\": \"data-2bb87cd9bba6969415b94d597c94afbe\"}, \"$schema\": \"https://vega.github.io/schema/vega-lite/v4.8.1.json\", \"datasets\": {\"data-2bb87cd9bba6969415b94d597c94afbe\": [{\"index\": 0, \"Grupo de edad\": \"<=39\", \"fecha (a\\u00f1o-mes-d\\u00eda)\": \"2020-03-25\", \"casos confirmados\": 558}, {\"index\": 1, \"Grupo de edad\": \"40-49\", \"fecha (a\\u00f1o-mes-d\\u00eda)\": \"2020-03-25\", \"casos confirmados\": 220}, {\"index\": 2, \"Grupo de edad\": \"50-59\", \"fecha (a\\u00f1o-mes-d\\u00eda)\": \"2020-03-25\", \"casos confirmados\": 119}, {\"index\": 3, \"Grupo de edad\": \"60-69\", \"fecha (a\\u00f1o-mes-d\\u00eda)\": \"2020-03-25\", \"casos confirmados\": 69}, {\"index\": 4, \"Grupo de edad\": \"70-79\", \"fecha (a\\u00f1o-mes-d\\u00eda)\": \"2020-03-25\", \"casos confirmados\": 38}, {\"index\": 5, \"Grupo de edad\": \">=80\", \"fecha (a\\u00f1o-mes-d\\u00eda)\": \"2020-03-25\", \"casos confirmados\": 8}, {\"index\": 0, \"Grupo de edad\": \"<=39\", \"fecha (a\\u00f1o-mes-d\\u00eda)\": \"2020-03-26\", \"casos confirmados\": 672}, {\"index\": 1, \"Grupo de edad\": \"40-49\", \"fecha (a\\u00f1o-mes-d\\u00eda)\": \"2020-03-26\", \"casos confirmados\": 268}, {\"index\": 2, \"Grupo de edad\": \"50-59\", \"fecha (a\\u00f1o-mes-d\\u00eda)\": \"2020-03-26\", \"casos confirmados\": 162}, {\"index\": 3, \"Grupo de edad\": \"60-69\", \"fecha (a\\u00f1o-mes-d\\u00eda)\": \"2020-03-26\", \"casos confirmados\": 91}, {\"index\": 4, \"Grupo de edad\": \"70-79\", \"fecha (a\\u00f1o-mes-d\\u00eda)\": \"2020-03-26\", \"casos confirmados\": 48}, {\"index\": 5, \"Grupo de edad\": \">=80\", \"fecha (a\\u00f1o-mes-d\\u00eda)\": \"2020-03-26\", \"casos confirmados\": 11}, {\"index\": 0, \"Grupo de edad\": \"<=39\", \"fecha (a\\u00f1o-mes-d\\u00eda)\": \"2020-03-27\", \"casos confirmados\": 754}, {\"index\": 1, \"Grupo de edad\": \"40-49\", \"fecha (a\\u00f1o-mes-d\\u00eda)\": \"2020-03-27\", \"casos confirmados\": 310}, {\"index\": 2, \"Grupo de edad\": \"50-59\", \"fecha (a\\u00f1o-mes-d\\u00eda)\": \"2020-03-27\", \"casos confirmados\": 190}, {\"index\": 3, \"Grupo de edad\": \"60-69\", \"fecha (a\\u00f1o-mes-d\\u00eda)\": \"2020-03-27\", \"casos confirmados\": 112}, {\"index\": 4, \"Grupo de edad\": \"70-79\", \"fecha (a\\u00f1o-mes-d\\u00eda)\": \"2020-03-27\", \"casos confirmados\": 56}, {\"index\": 5, \"Grupo de edad\": \">=80\", \"fecha (a\\u00f1o-mes-d\\u00eda)\": \"2020-03-27\", \"casos confirmados\": 12}, {\"index\": 0, \"Grupo de edad\": \"<=39\", \"fecha (a\\u00f1o-mes-d\\u00eda)\": \"2020-03-28\", \"casos confirmados\": 890}, {\"index\": 1, \"Grupo de edad\": \"40-49\", \"fecha (a\\u00f1o-mes-d\\u00eda)\": \"2020-03-28\", \"casos confirmados\": 357}, {\"index\": 2, \"Grupo de edad\": \"50-59\", \"fecha (a\\u00f1o-mes-d\\u00eda)\": \"2020-03-28\", \"casos confirmados\": 251}, {\"index\": 3, \"Grupo de edad\": \"60-69\", \"fecha (a\\u00f1o-mes-d\\u00eda)\": \"2020-03-28\", \"casos confirmados\": 138}, {\"index\": 4, \"Grupo de edad\": \"70-79\", \"fecha (a\\u00f1o-mes-d\\u00eda)\": \"2020-03-28\", \"casos confirmados\": 67}, {\"index\": 5, \"Grupo de edad\": \">=80\", \"fecha (a\\u00f1o-mes-d\\u00eda)\": \"2020-03-28\", \"casos confirmados\": 20}, {\"index\": 0, \"Grupo de edad\": \"<=39\", \"fecha (a\\u00f1o-mes-d\\u00eda)\": \"2020-03-29\", \"casos confirmados\": 964}, {\"index\": 1, \"Grupo de edad\": \"40-49\", \"fecha (a\\u00f1o-mes-d\\u00eda)\": \"2020-03-29\", \"casos confirmados\": 407}, {\"index\": 2, \"Grupo de edad\": \"50-59\", \"fecha (a\\u00f1o-mes-d\\u00eda)\": \"2020-03-29\", \"casos confirmados\": 272}, {\"index\": 3, \"Grupo de edad\": \"60-69\", \"fecha (a\\u00f1o-mes-d\\u00eda)\": \"2020-03-29\", \"casos confirmados\": 165}, {\"index\": 4, \"Grupo de edad\": \"70-79\", \"fecha (a\\u00f1o-mes-d\\u00eda)\": \"2020-03-29\", \"casos confirmados\": 75}, {\"index\": 5, \"Grupo de edad\": \">=80\", \"fecha (a\\u00f1o-mes-d\\u00eda)\": \"2020-03-29\", \"casos confirmados\": 23}, {\"index\": 0, \"Grupo de edad\": \"<=39\", \"fecha (a\\u00f1o-mes-d\\u00eda)\": \"2020-03-30\", \"casos confirmados\": 1041}, {\"index\": 1, \"Grupo de edad\": \"40-49\", \"fecha (a\\u00f1o-mes-d\\u00eda)\": \"2020-03-30\", \"casos confirmados\": 451}, {\"index\": 2, \"Grupo de edad\": \"50-59\", \"fecha (a\\u00f1o-mes-d\\u00eda)\": \"2020-03-30\", \"casos confirmados\": 304}, {\"index\": 3, \"Grupo de edad\": \"60-69\", \"fecha (a\\u00f1o-mes-d\\u00eda)\": \"2020-03-30\", \"casos confirmados\": 182}, {\"index\": 4, \"Grupo de edad\": \"70-79\", \"fecha (a\\u00f1o-mes-d\\u00eda)\": \"2020-03-30\", \"casos confirmados\": 84}, {\"index\": 5, \"Grupo de edad\": \">=80\", \"fecha (a\\u00f1o-mes-d\\u00eda)\": \"2020-03-30\", \"casos confirmados\": 26}, {\"index\": 0, \"Grupo de edad\": \"<=39\", \"fecha (a\\u00f1o-mes-d\\u00eda)\": \"2020-03-31\", \"casos confirmados\": 1182}, {\"index\": 1, \"Grupo de edad\": \"40-49\", \"fecha (a\\u00f1o-mes-d\\u00eda)\": \"2020-03-31\", \"casos confirmados\": 511}, {\"index\": 2, \"Grupo de edad\": \"50-59\", \"fecha (a\\u00f1o-mes-d\\u00eda)\": \"2020-03-31\", \"casos confirmados\": 348}, {\"index\": 3, \"Grupo de edad\": \"60-69\", \"fecha (a\\u00f1o-mes-d\\u00eda)\": \"2020-03-31\", \"casos confirmados\": 209}, {\"index\": 4, \"Grupo de edad\": \"70-79\", \"fecha (a\\u00f1o-mes-d\\u00eda)\": \"2020-03-31\", \"casos confirmados\": 92}, {\"index\": 5, \"Grupo de edad\": \">=80\", \"fecha (a\\u00f1o-mes-d\\u00eda)\": \"2020-03-31\", \"casos confirmados\": 31}, {\"index\": 0, \"Grupo de edad\": \"<=39\", \"fecha (a\\u00f1o-mes-d\\u00eda)\": \"2020-04-01\", \"casos confirmados\": 1335}, {\"index\": 1, \"Grupo de edad\": \"40-49\", \"fecha (a\\u00f1o-mes-d\\u00eda)\": \"2020-04-01\", \"casos confirmados\": 584}, {\"index\": 2, \"Grupo de edad\": \"50-59\", \"fecha (a\\u00f1o-mes-d\\u00eda)\": \"2020-04-01\", \"casos confirmados\": 423}, {\"index\": 3, \"Grupo de edad\": \"60-69\", \"fecha (a\\u00f1o-mes-d\\u00eda)\": \"2020-04-01\", \"casos confirmados\": 243}, {\"index\": 4, \"Grupo de edad\": \"70-79\", \"fecha (a\\u00f1o-mes-d\\u00eda)\": \"2020-04-01\", \"casos confirmados\": 120}, {\"index\": 5, \"Grupo de edad\": \">=80\", \"fecha (a\\u00f1o-mes-d\\u00eda)\": \"2020-04-01\", \"casos confirmados\": 39}, {\"index\": 0, \"Grupo de edad\": \"<=39\", \"fecha (a\\u00f1o-mes-d\\u00eda)\": \"2020-04-02\", \"casos confirmados\": 1434}, {\"index\": 1, \"Grupo de edad\": \"40-49\", \"fecha (a\\u00f1o-mes-d\\u00eda)\": \"2020-04-02\", \"casos confirmados\": 616}, {\"index\": 2, \"Grupo de edad\": \"50-59\", \"fecha (a\\u00f1o-mes-d\\u00eda)\": \"2020-04-02\", \"casos confirmados\": 453}, {\"index\": 3, \"Grupo de edad\": \"60-69\", \"fecha (a\\u00f1o-mes-d\\u00eda)\": \"2020-04-02\", \"casos confirmados\": 264}, {\"index\": 4, \"Grupo de edad\": \"70-79\", \"fecha (a\\u00f1o-mes-d\\u00eda)\": \"2020-04-02\", \"casos confirmados\": 127}, {\"index\": 5, \"Grupo de edad\": \">=80\", \"fecha (a\\u00f1o-mes-d\\u00eda)\": \"2020-04-02\", \"casos confirmados\": 44}, {\"index\": 0, \"Grupo de edad\": \"<=39\", \"fecha (a\\u00f1o-mes-d\\u00eda)\": \"2020-04-03\", \"casos confirmados\": 1678}, {\"index\": 1, \"Grupo de edad\": \"40-49\", \"fecha (a\\u00f1o-mes-d\\u00eda)\": \"2020-04-03\", \"casos confirmados\": 695}, {\"index\": 2, \"Grupo de edad\": \"50-59\", \"fecha (a\\u00f1o-mes-d\\u00eda)\": \"2020-04-03\", \"casos confirmados\": 521}, {\"index\": 3, \"Grupo de edad\": \"60-69\", \"fecha (a\\u00f1o-mes-d\\u00eda)\": \"2020-04-03\", \"casos confirmados\": 296}, {\"index\": 4, \"Grupo de edad\": \"70-79\", \"fecha (a\\u00f1o-mes-d\\u00eda)\": \"2020-04-03\", \"casos confirmados\": 155}, {\"index\": 5, \"Grupo de edad\": \">=80\", \"fecha (a\\u00f1o-mes-d\\u00eda)\": \"2020-04-03\", \"casos confirmados\": 53}, {\"index\": 0, \"Grupo de edad\": \"<=39\", \"fecha (a\\u00f1o-mes-d\\u00eda)\": \"2020-04-04\", \"casos confirmados\": 1866}, {\"index\": 1, \"Grupo de edad\": \"40-49\", \"fecha (a\\u00f1o-mes-d\\u00eda)\": \"2020-04-04\", \"casos confirmados\": 762}, {\"index\": 2, \"Grupo de edad\": \"50-59\", \"fecha (a\\u00f1o-mes-d\\u00eda)\": \"2020-04-04\", \"casos confirmados\": 575}, {\"index\": 3, \"Grupo de edad\": \"60-69\", \"fecha (a\\u00f1o-mes-d\\u00eda)\": \"2020-04-04\", \"casos confirmados\": 336}, {\"index\": 4, \"Grupo de edad\": \"70-79\", \"fecha (a\\u00f1o-mes-d\\u00eda)\": \"2020-04-04\", \"casos confirmados\": 185}, {\"index\": 5, \"Grupo de edad\": \">=80\", \"fecha (a\\u00f1o-mes-d\\u00eda)\": \"2020-04-04\", \"casos confirmados\": 61}, {\"index\": 0, \"Grupo de edad\": \"<=39\", \"fecha (a\\u00f1o-mes-d\\u00eda)\": \"2020-04-05\", \"casos confirmados\": 2007}, {\"index\": 1, \"Grupo de edad\": \"40-49\", \"fecha (a\\u00f1o-mes-d\\u00eda)\": \"2020-04-05\", \"casos confirmados\": 831}, {\"index\": 2, \"Grupo de edad\": \"50-59\", \"fecha (a\\u00f1o-mes-d\\u00eda)\": \"2020-04-05\", \"casos confirmados\": 620}, {\"index\": 3, \"Grupo de edad\": \"60-69\", \"fecha (a\\u00f1o-mes-d\\u00eda)\": \"2020-04-05\", \"casos confirmados\": 354}, {\"index\": 4, \"Grupo de edad\": \"70-79\", \"fecha (a\\u00f1o-mes-d\\u00eda)\": \"2020-04-05\", \"casos confirmados\": 202}, {\"index\": 5, \"Grupo de edad\": \">=80\", \"fecha (a\\u00f1o-mes-d\\u00eda)\": \"2020-04-05\", \"casos confirmados\": 68}, {\"index\": 0, \"Grupo de edad\": \"<=39\", \"fecha (a\\u00f1o-mes-d\\u00eda)\": \"2020-04-06\", \"casos confirmados\": 2140}, {\"index\": 1, \"Grupo de edad\": \"40-49\", \"fecha (a\\u00f1o-mes-d\\u00eda)\": \"2020-04-06\", \"casos confirmados\": 876}, {\"index\": 2, \"Grupo de edad\": \"50-59\", \"fecha (a\\u00f1o-mes-d\\u00eda)\": \"2020-04-06\", \"casos confirmados\": 662}, {\"index\": 3, \"Grupo de edad\": \"60-69\", \"fecha (a\\u00f1o-mes-d\\u00eda)\": \"2020-04-06\", \"casos confirmados\": 377}, {\"index\": 4, \"Grupo de edad\": \"70-79\", \"fecha (a\\u00f1o-mes-d\\u00eda)\": \"2020-04-06\", \"casos confirmados\": 214}, {\"index\": 5, \"Grupo de edad\": \">=80\", \"fecha (a\\u00f1o-mes-d\\u00eda)\": \"2020-04-06\", \"casos confirmados\": 77}, {\"index\": 0, \"Grupo de edad\": \"<=39\", \"fecha (a\\u00f1o-mes-d\\u00eda)\": \"2020-04-07\", \"casos confirmados\": 2257}, {\"index\": 1, \"Grupo de edad\": \"40-49\", \"fecha (a\\u00f1o-mes-d\\u00eda)\": \"2020-04-07\", \"casos confirmados\": 926}, {\"index\": 2, \"Grupo de edad\": \"50-59\", \"fecha (a\\u00f1o-mes-d\\u00eda)\": \"2020-04-07\", \"casos confirmados\": 707}, {\"index\": 3, \"Grupo de edad\": \"60-69\", \"fecha (a\\u00f1o-mes-d\\u00eda)\": \"2020-04-07\", \"casos confirmados\": 415}, {\"index\": 4, \"Grupo de edad\": \"70-79\", \"fecha (a\\u00f1o-mes-d\\u00eda)\": \"2020-04-07\", \"casos confirmados\": 225}, {\"index\": 5, \"Grupo de edad\": \">=80\", \"fecha (a\\u00f1o-mes-d\\u00eda)\": \"2020-04-07\", \"casos confirmados\": 87}, {\"index\": 0, \"Grupo de edad\": \"<=39\", \"fecha (a\\u00f1o-mes-d\\u00eda)\": \"2020-04-08\", \"casos confirmados\": 2636}, {\"index\": 1, \"Grupo de edad\": \"40-49\", \"fecha (a\\u00f1o-mes-d\\u00eda)\": \"2020-04-08\", \"casos confirmados\": 1079}, {\"index\": 2, \"Grupo de edad\": \"50-59\", \"fecha (a\\u00f1o-mes-d\\u00eda)\": \"2020-04-08\", \"casos confirmados\": 839}, {\"index\": 3, \"Grupo de edad\": \"60-69\", \"fecha (a\\u00f1o-mes-d\\u00eda)\": \"2020-04-08\", \"casos confirmados\": 468}, {\"index\": 4, \"Grupo de edad\": \"70-79\", \"fecha (a\\u00f1o-mes-d\\u00eda)\": \"2020-04-08\", \"casos confirmados\": 263}, {\"index\": 5, \"Grupo de edad\": \">=80\", \"fecha (a\\u00f1o-mes-d\\u00eda)\": \"2020-04-08\", \"casos confirmados\": 112}, {\"index\": 0, \"Grupo de edad\": \"<=39\", \"fecha (a\\u00f1o-mes-d\\u00eda)\": \"2020-04-09\", \"casos confirmados\": 2837}, {\"index\": 1, \"Grupo de edad\": \"40-49\", \"fecha (a\\u00f1o-mes-d\\u00eda)\": \"2020-04-09\", \"casos confirmados\": 1153}, {\"index\": 2, \"Grupo de edad\": \"50-59\", \"fecha (a\\u00f1o-mes-d\\u00eda)\": \"2020-04-09\", \"casos confirmados\": 903}, {\"index\": 3, \"Grupo de edad\": \"60-69\", \"fecha (a\\u00f1o-mes-d\\u00eda)\": \"2020-04-09\", \"casos confirmados\": 502}, {\"index\": 4, \"Grupo de edad\": \"70-79\", \"fecha (a\\u00f1o-mes-d\\u00eda)\": \"2020-04-09\", \"casos confirmados\": 284}, {\"index\": 5, \"Grupo de edad\": \">=80\", \"fecha (a\\u00f1o-mes-d\\u00eda)\": \"2020-04-09\", \"casos confirmados\": 131}, {\"index\": 0, \"Grupo de edad\": \"<=39\", \"fecha (a\\u00f1o-mes-d\\u00eda)\": \"2020-04-10\", \"casos confirmados\": 3084}, {\"index\": 1, \"Grupo de edad\": \"40-49\", \"fecha (a\\u00f1o-mes-d\\u00eda)\": \"2020-04-10\", \"casos confirmados\": 1227}, {\"index\": 2, \"Grupo de edad\": \"50-59\", \"fecha (a\\u00f1o-mes-d\\u00eda)\": \"2020-04-10\", \"casos confirmados\": 975}, {\"index\": 3, \"Grupo de edad\": \"60-69\", \"fecha (a\\u00f1o-mes-d\\u00eda)\": \"2020-04-10\", \"casos confirmados\": 544}, {\"index\": 4, \"Grupo de edad\": \"70-79\", \"fecha (a\\u00f1o-mes-d\\u00eda)\": \"2020-04-10\", \"casos confirmados\": 309}, {\"index\": 5, \"Grupo de edad\": \">=80\", \"fecha (a\\u00f1o-mes-d\\u00eda)\": \"2020-04-10\", \"casos confirmados\": 153}, {\"index\": 0, \"Grupo de edad\": \"<=39\", \"fecha (a\\u00f1o-mes-d\\u00eda)\": \"2020-04-11\", \"casos confirmados\": 3302}, {\"index\": 1, \"Grupo de edad\": \"40-49\", \"fecha (a\\u00f1o-mes-d\\u00eda)\": \"2020-04-11\", \"casos confirmados\": 1297}, {\"index\": 2, \"Grupo de edad\": \"50-59\", \"fecha (a\\u00f1o-mes-d\\u00eda)\": \"2020-04-11\", \"casos confirmados\": 1022}, {\"index\": 3, \"Grupo de edad\": \"60-69\", \"fecha (a\\u00f1o-mes-d\\u00eda)\": \"2020-04-11\", \"casos confirmados\": 584}, {\"index\": 4, \"Grupo de edad\": \"70-79\", \"fecha (a\\u00f1o-mes-d\\u00eda)\": \"2020-04-11\", \"casos confirmados\": 328}, {\"index\": 5, \"Grupo de edad\": \">=80\", \"fecha (a\\u00f1o-mes-d\\u00eda)\": \"2020-04-11\", \"casos confirmados\": 169}, {\"index\": 0, \"Grupo de edad\": \"<=39\", \"fecha (a\\u00f1o-mes-d\\u00eda)\": \"2020-04-12\", \"casos confirmados\": 3454}, {\"index\": 1, \"Grupo de edad\": \"40-49\", \"fecha (a\\u00f1o-mes-d\\u00eda)\": \"2020-04-12\", \"casos confirmados\": 1361}, {\"index\": 2, \"Grupo de edad\": \"50-59\", \"fecha (a\\u00f1o-mes-d\\u00eda)\": \"2020-04-12\", \"casos confirmados\": 1068}, {\"index\": 3, \"Grupo de edad\": \"60-69\", \"fecha (a\\u00f1o-mes-d\\u00eda)\": \"2020-04-12\", \"casos confirmados\": 611}, {\"index\": 4, \"Grupo de edad\": \"70-79\", \"fecha (a\\u00f1o-mes-d\\u00eda)\": \"2020-04-12\", \"casos confirmados\": 343}, {\"index\": 5, \"Grupo de edad\": \">=80\", \"fecha (a\\u00f1o-mes-d\\u00eda)\": \"2020-04-12\", \"casos confirmados\": 179}, {\"index\": 0, \"Grupo de edad\": \"<=39\", \"fecha (a\\u00f1o-mes-d\\u00eda)\": \"2020-04-13\", \"casos confirmados\": 3646}, {\"index\": 1, \"Grupo de edad\": \"40-49\", \"fecha (a\\u00f1o-mes-d\\u00eda)\": \"2020-04-13\", \"casos confirmados\": 1451}, {\"index\": 2, \"Grupo de edad\": \"50-59\", \"fecha (a\\u00f1o-mes-d\\u00eda)\": \"2020-04-13\", \"casos confirmados\": 1134}, {\"index\": 3, \"Grupo de edad\": \"60-69\", \"fecha (a\\u00f1o-mes-d\\u00eda)\": \"2020-04-13\", \"casos confirmados\": 643}, {\"index\": 4, \"Grupo de edad\": \"70-79\", \"fecha (a\\u00f1o-mes-d\\u00eda)\": \"2020-04-13\", \"casos confirmados\": 351}, {\"index\": 5, \"Grupo de edad\": \">=80\", \"fecha (a\\u00f1o-mes-d\\u00eda)\": \"2020-04-13\", \"casos confirmados\": 187}, {\"index\": 0, \"Grupo de edad\": \"<=39\", \"fecha (a\\u00f1o-mes-d\\u00eda)\": \"2020-04-14\", \"casos confirmados\": 3806}, {\"index\": 1, \"Grupo de edad\": \"40-49\", \"fecha (a\\u00f1o-mes-d\\u00eda)\": \"2020-04-14\", \"casos confirmados\": 1488}, {\"index\": 2, \"Grupo de edad\": \"50-59\", \"fecha (a\\u00f1o-mes-d\\u00eda)\": \"2020-04-14\", \"casos confirmados\": 1173}, {\"index\": 3, \"Grupo de edad\": \"60-69\", \"fecha (a\\u00f1o-mes-d\\u00eda)\": \"2020-04-14\", \"casos confirmados\": 686}, {\"index\": 4, \"Grupo de edad\": \"70-79\", \"fecha (a\\u00f1o-mes-d\\u00eda)\": \"2020-04-14\", \"casos confirmados\": 366}, {\"index\": 5, \"Grupo de edad\": \">=80\", \"fecha (a\\u00f1o-mes-d\\u00eda)\": \"2020-04-14\", \"casos confirmados\": 197}, {\"index\": 0, \"Grupo de edad\": \"<=39\", \"fecha (a\\u00f1o-mes-d\\u00eda)\": \"2020-04-15\", \"casos confirmados\": 4052}, {\"index\": 1, \"Grupo de edad\": \"40-49\", \"fecha (a\\u00f1o-mes-d\\u00eda)\": \"2020-04-15\", \"casos confirmados\": 1582}, {\"index\": 2, \"Grupo de edad\": \"50-59\", \"fecha (a\\u00f1o-mes-d\\u00eda)\": \"2020-04-15\", \"casos confirmados\": 1251}, {\"index\": 3, \"Grupo de edad\": \"60-69\", \"fecha (a\\u00f1o-mes-d\\u00eda)\": \"2020-04-15\", \"casos confirmados\": 726}, {\"index\": 4, \"Grupo de edad\": \"70-79\", \"fecha (a\\u00f1o-mes-d\\u00eda)\": \"2020-04-15\", \"casos confirmados\": 396}, {\"index\": 5, \"Grupo de edad\": \">=80\", \"fecha (a\\u00f1o-mes-d\\u00eda)\": \"2020-04-15\", \"casos confirmados\": 209}, {\"index\": 0, \"Grupo de edad\": \"<=39\", \"fecha (a\\u00f1o-mes-d\\u00eda)\": \"2020-04-16\", \"casos confirmados\": 4306}, {\"index\": 1, \"Grupo de edad\": \"40-49\", \"fecha (a\\u00f1o-mes-d\\u00eda)\": \"2020-04-16\", \"casos confirmados\": 1684}, {\"index\": 2, \"Grupo de edad\": \"50-59\", \"fecha (a\\u00f1o-mes-d\\u00eda)\": \"2020-04-16\", \"casos confirmados\": 1341}, {\"index\": 3, \"Grupo de edad\": \"60-69\", \"fecha (a\\u00f1o-mes-d\\u00eda)\": \"2020-04-16\", \"casos confirmados\": 766}, {\"index\": 4, \"Grupo de edad\": \"70-79\", \"fecha (a\\u00f1o-mes-d\\u00eda)\": \"2020-04-16\", \"casos confirmados\": 422}, {\"index\": 5, \"Grupo de edad\": \">=80\", \"fecha (a\\u00f1o-mes-d\\u00eda)\": \"2020-04-16\", \"casos confirmados\": 221}, {\"index\": 0, \"Grupo de edad\": \"<=39\", \"fecha (a\\u00f1o-mes-d\\u00eda)\": \"2020-04-17\", \"casos confirmados\": 4555}, {\"index\": 1, \"Grupo de edad\": \"40-49\", \"fecha (a\\u00f1o-mes-d\\u00eda)\": \"2020-04-17\", \"casos confirmados\": 1781}, {\"index\": 2, \"Grupo de edad\": \"50-59\", \"fecha (a\\u00f1o-mes-d\\u00eda)\": \"2020-04-17\", \"casos confirmados\": 1408}, {\"index\": 3, \"Grupo de edad\": \"60-69\", \"fecha (a\\u00f1o-mes-d\\u00eda)\": \"2020-04-17\", \"casos confirmados\": 819}, {\"index\": 4, \"Grupo de edad\": \"70-79\", \"fecha (a\\u00f1o-mes-d\\u00eda)\": \"2020-04-17\", \"casos confirmados\": 451}, {\"index\": 5, \"Grupo de edad\": \">=80\", \"fecha (a\\u00f1o-mes-d\\u00eda)\": \"2020-04-17\", \"casos confirmados\": 238}, {\"index\": 0, \"Grupo de edad\": \"<=39\", \"fecha (a\\u00f1o-mes-d\\u00eda)\": \"2020-04-18\", \"casos confirmados\": 4811}, {\"index\": 1, \"Grupo de edad\": \"40-49\", \"fecha (a\\u00f1o-mes-d\\u00eda)\": \"2020-04-18\", \"casos confirmados\": 1855}, {\"index\": 2, \"Grupo de edad\": \"50-59\", \"fecha (a\\u00f1o-mes-d\\u00eda)\": \"2020-04-18\", \"casos confirmados\": 1477}, {\"index\": 3, \"Grupo de edad\": \"60-69\", \"fecha (a\\u00f1o-mes-d\\u00eda)\": \"2020-04-18\", \"casos confirmados\": 854}, {\"index\": 4, \"Grupo de edad\": \"70-79\", \"fecha (a\\u00f1o-mes-d\\u00eda)\": \"2020-04-18\", \"casos confirmados\": 480}, {\"index\": 5, \"Grupo de edad\": \">=80\", \"fecha (a\\u00f1o-mes-d\\u00eda)\": \"2020-04-18\", \"casos confirmados\": 253}, {\"index\": 0, \"Grupo de edad\": \"<=39\", \"fecha (a\\u00f1o-mes-d\\u00eda)\": \"2020-04-19\", \"casos confirmados\": 4999}, {\"index\": 1, \"Grupo de edad\": \"40-49\", \"fecha (a\\u00f1o-mes-d\\u00eda)\": \"2020-04-19\", \"casos confirmados\": 1926}, {\"index\": 2, \"Grupo de edad\": \"50-59\", \"fecha (a\\u00f1o-mes-d\\u00eda)\": \"2020-04-19\", \"casos confirmados\": 1522}, {\"index\": 3, \"Grupo de edad\": \"60-69\", \"fecha (a\\u00f1o-mes-d\\u00eda)\": \"2020-04-19\", \"casos confirmados\": 873}, {\"index\": 4, \"Grupo de edad\": \"70-79\", \"fecha (a\\u00f1o-mes-d\\u00eda)\": \"2020-04-19\", \"casos confirmados\": 497}, {\"index\": 5, \"Grupo de edad\": \">=80\", \"fecha (a\\u00f1o-mes-d\\u00eda)\": \"2020-04-19\", \"casos confirmados\": 271}, {\"index\": 0, \"Grupo de edad\": \"<=39\", \"fecha (a\\u00f1o-mes-d\\u00eda)\": \"2020-04-20\", \"casos confirmados\": 5200}, {\"index\": 1, \"Grupo de edad\": \"40-49\", \"fecha (a\\u00f1o-mes-d\\u00eda)\": \"2020-04-20\", \"casos confirmados\": 1979}, {\"index\": 2, \"Grupo de edad\": \"50-59\", \"fecha (a\\u00f1o-mes-d\\u00eda)\": \"2020-04-20\", \"casos confirmados\": 1572}, {\"index\": 3, \"Grupo de edad\": \"60-69\", \"fecha (a\\u00f1o-mes-d\\u00eda)\": \"2020-04-20\", \"casos confirmados\": 901}, {\"index\": 4, \"Grupo de edad\": \"70-79\", \"fecha (a\\u00f1o-mes-d\\u00eda)\": \"2020-04-20\", \"casos confirmados\": 515}, {\"index\": 5, \"Grupo de edad\": \">=80\", \"fecha (a\\u00f1o-mes-d\\u00eda)\": \"2020-04-20\", \"casos confirmados\": 284}, {\"index\": 0, \"Grupo de edad\": \"<=39\", \"fecha (a\\u00f1o-mes-d\\u00eda)\": \"2020-04-21\", \"casos confirmados\": 5434}, {\"index\": 1, \"Grupo de edad\": \"40-49\", \"fecha (a\\u00f1o-mes-d\\u00eda)\": \"2020-04-21\", \"casos confirmados\": 2029}, {\"index\": 2, \"Grupo de edad\": \"50-59\", \"fecha (a\\u00f1o-mes-d\\u00eda)\": \"2020-04-21\", \"casos confirmados\": 1620}, {\"index\": 3, \"Grupo de edad\": \"60-69\", \"fecha (a\\u00f1o-mes-d\\u00eda)\": \"2020-04-21\", \"casos confirmados\": 933}, {\"index\": 4, \"Grupo de edad\": \"70-79\", \"fecha (a\\u00f1o-mes-d\\u00eda)\": \"2020-04-21\", \"casos confirmados\": 528}, {\"index\": 5, \"Grupo de edad\": \">=80\", \"fecha (a\\u00f1o-mes-d\\u00eda)\": \"2020-04-21\", \"casos confirmados\": 288}, {\"index\": 0, \"Grupo de edad\": \"<=39\", \"fecha (a\\u00f1o-mes-d\\u00eda)\": \"2020-04-22\", \"casos confirmados\": 5682}, {\"index\": 1, \"Grupo de edad\": \"40-49\", \"fecha (a\\u00f1o-mes-d\\u00eda)\": \"2020-04-22\", \"casos confirmados\": 2102}, {\"index\": 2, \"Grupo de edad\": \"50-59\", \"fecha (a\\u00f1o-mes-d\\u00eda)\": \"2020-04-22\", \"casos confirmados\": 1693}, {\"index\": 3, \"Grupo de edad\": \"60-69\", \"fecha (a\\u00f1o-mes-d\\u00eda)\": \"2020-04-22\", \"casos confirmados\": 971}, {\"index\": 4, \"Grupo de edad\": \"70-79\", \"fecha (a\\u00f1o-mes-d\\u00eda)\": \"2020-04-22\", \"casos confirmados\": 544}, {\"index\": 5, \"Grupo de edad\": \">=80\", \"fecha (a\\u00f1o-mes-d\\u00eda)\": \"2020-04-22\", \"casos confirmados\": 304}, {\"index\": 0, \"Grupo de edad\": \"<=39\", \"fecha (a\\u00f1o-mes-d\\u00eda)\": \"2020-04-23\", \"casos confirmados\": 5951}, {\"index\": 1, \"Grupo de edad\": \"40-49\", \"fecha (a\\u00f1o-mes-d\\u00eda)\": \"2020-04-23\", \"casos confirmados\": 2194}, {\"index\": 2, \"Grupo de edad\": \"50-59\", \"fecha (a\\u00f1o-mes-d\\u00eda)\": \"2020-04-23\", \"casos confirmados\": 1769}, {\"index\": 3, \"Grupo de edad\": \"60-69\", \"fecha (a\\u00f1o-mes-d\\u00eda)\": \"2020-04-23\", \"casos confirmados\": 1017}, {\"index\": 4, \"Grupo de edad\": \"70-79\", \"fecha (a\\u00f1o-mes-d\\u00eda)\": \"2020-04-23\", \"casos confirmados\": 561}, {\"index\": 5, \"Grupo de edad\": \">=80\", \"fecha (a\\u00f1o-mes-d\\u00eda)\": \"2020-04-23\", \"casos confirmados\": 320}, {\"index\": 0, \"Grupo de edad\": \"<=39\", \"fecha (a\\u00f1o-mes-d\\u00eda)\": \"2020-04-24\", \"casos confirmados\": 6178}, {\"index\": 1, \"Grupo de edad\": \"40-49\", \"fecha (a\\u00f1o-mes-d\\u00eda)\": \"2020-04-24\", \"casos confirmados\": 2261}, {\"index\": 2, \"Grupo de edad\": \"50-59\", \"fecha (a\\u00f1o-mes-d\\u00eda)\": \"2020-04-24\", \"casos confirmados\": 1829}, {\"index\": 3, \"Grupo de edad\": \"60-69\", \"fecha (a\\u00f1o-mes-d\\u00eda)\": \"2020-04-24\", \"casos confirmados\": 1048}, {\"index\": 4, \"Grupo de edad\": \"70-79\", \"fecha (a\\u00f1o-mes-d\\u00eda)\": \"2020-04-24\", \"casos confirmados\": 572}, {\"index\": 5, \"Grupo de edad\": \">=80\", \"fecha (a\\u00f1o-mes-d\\u00eda)\": \"2020-04-24\", \"casos confirmados\": 326}, {\"index\": 0, \"Grupo de edad\": \"<=39\", \"fecha (a\\u00f1o-mes-d\\u00eda)\": \"2020-04-25\", \"casos confirmados\": 6495}, {\"index\": 1, \"Grupo de edad\": \"40-49\", \"fecha (a\\u00f1o-mes-d\\u00eda)\": \"2020-04-25\", \"casos confirmados\": 2357}, {\"index\": 2, \"Grupo de edad\": \"50-59\", \"fecha (a\\u00f1o-mes-d\\u00eda)\": \"2020-04-25\", \"casos confirmados\": 1913}, {\"index\": 3, \"Grupo de edad\": \"60-69\", \"fecha (a\\u00f1o-mes-d\\u00eda)\": \"2020-04-25\", \"casos confirmados\": 1083}, {\"index\": 4, \"Grupo de edad\": \"70-79\", \"fecha (a\\u00f1o-mes-d\\u00eda)\": \"2020-04-25\", \"casos confirmados\": 592}, {\"index\": 5, \"Grupo de edad\": \">=80\", \"fecha (a\\u00f1o-mes-d\\u00eda)\": \"2020-04-25\", \"casos confirmados\": 345}, {\"index\": 0, \"Grupo de edad\": \"<=39\", \"fecha (a\\u00f1o-mes-d\\u00eda)\": \"2020-04-26\", \"casos confirmados\": 6772}, {\"index\": 1, \"Grupo de edad\": \"40-49\", \"fecha (a\\u00f1o-mes-d\\u00eda)\": \"2020-04-26\", \"casos confirmados\": 2421}, {\"index\": 2, \"Grupo de edad\": \"50-59\", \"fecha (a\\u00f1o-mes-d\\u00eda)\": \"2020-04-26\", \"casos confirmados\": 1991}, {\"index\": 3, \"Grupo de edad\": \"60-69\", \"fecha (a\\u00f1o-mes-d\\u00eda)\": \"2020-04-26\", \"casos confirmados\": 1115}, {\"index\": 4, \"Grupo de edad\": \"70-79\", \"fecha (a\\u00f1o-mes-d\\u00eda)\": \"2020-04-26\", \"casos confirmados\": 616}, {\"index\": 5, \"Grupo de edad\": \">=80\", \"fecha (a\\u00f1o-mes-d\\u00eda)\": \"2020-04-26\", \"casos confirmados\": 369}, {\"index\": 0, \"Grupo de edad\": \"<=39\", \"fecha (a\\u00f1o-mes-d\\u00eda)\": \"2020-04-27\", \"casos confirmados\": 7006}, {\"index\": 1, \"Grupo de edad\": \"40-49\", \"fecha (a\\u00f1o-mes-d\\u00eda)\": \"2020-04-27\", \"casos confirmados\": 2492}, {\"index\": 2, \"Grupo de edad\": \"50-59\", \"fecha (a\\u00f1o-mes-d\\u00eda)\": \"2020-04-27\", \"casos confirmados\": 2036}, {\"index\": 3, \"Grupo de edad\": \"60-69\", \"fecha (a\\u00f1o-mes-d\\u00eda)\": \"2020-04-27\", \"casos confirmados\": 1156}, {\"index\": 4, \"Grupo de edad\": \"70-79\", \"fecha (a\\u00f1o-mes-d\\u00eda)\": \"2020-04-27\", \"casos confirmados\": 627}, {\"index\": 5, \"Grupo de edad\": \">=80\", \"fecha (a\\u00f1o-mes-d\\u00eda)\": \"2020-04-27\", \"casos confirmados\": 387}, {\"index\": 0, \"Grupo de edad\": \"<=39\", \"fecha (a\\u00f1o-mes-d\\u00eda)\": \"2020-04-28\", \"casos confirmados\": 7358}, {\"index\": 1, \"Grupo de edad\": \"40-49\", \"fecha (a\\u00f1o-mes-d\\u00eda)\": \"2020-04-28\", \"casos confirmados\": 2597}, {\"index\": 2, \"Grupo de edad\": \"50-59\", \"fecha (a\\u00f1o-mes-d\\u00eda)\": \"2020-04-28\", \"casos confirmados\": 2118}, {\"index\": 3, \"Grupo de edad\": \"60-69\", \"fecha (a\\u00f1o-mes-d\\u00eda)\": \"2020-04-28\", \"casos confirmados\": 1206}, {\"index\": 4, \"Grupo de edad\": \"70-79\", \"fecha (a\\u00f1o-mes-d\\u00eda)\": \"2020-04-28\", \"casos confirmados\": 664}, {\"index\": 5, \"Grupo de edad\": \">=80\", \"fecha (a\\u00f1o-mes-d\\u00eda)\": \"2020-04-28\", \"casos confirmados\": 419}, {\"index\": 0, \"Grupo de edad\": \"<=39\", \"fecha (a\\u00f1o-mes-d\\u00eda)\": \"2020-05-01\", \"casos confirmados\": 8841}, {\"index\": 1, \"Grupo de edad\": \"40-49\", \"fecha (a\\u00f1o-mes-d\\u00eda)\": \"2020-05-01\", \"casos confirmados\": 3038}, {\"index\": 2, \"Grupo de edad\": \"50-59\", \"fecha (a\\u00f1o-mes-d\\u00eda)\": \"2020-05-01\", \"casos confirmados\": 2507}, {\"index\": 3, \"Grupo de edad\": \"60-69\", \"fecha (a\\u00f1o-mes-d\\u00eda)\": \"2020-05-01\", \"casos confirmados\": 1387}, {\"index\": 4, \"Grupo de edad\": \"70-79\", \"fecha (a\\u00f1o-mes-d\\u00eda)\": \"2020-05-01\", \"casos confirmados\": 746}, {\"index\": 5, \"Grupo de edad\": \">=80\", \"fecha (a\\u00f1o-mes-d\\u00eda)\": \"2020-05-01\", \"casos confirmados\": 489}, {\"index\": 0, \"Grupo de edad\": \"<=39\", \"fecha (a\\u00f1o-mes-d\\u00eda)\": \"2020-05-02\", \"casos confirmados\": 9636}, {\"index\": 1, \"Grupo de edad\": \"40-49\", \"fecha (a\\u00f1o-mes-d\\u00eda)\": \"2020-05-02\", \"casos confirmados\": 3287}, {\"index\": 2, \"Grupo de edad\": \"50-59\", \"fecha (a\\u00f1o-mes-d\\u00eda)\": \"2020-05-02\", \"casos confirmados\": 2709}, {\"index\": 3, \"Grupo de edad\": \"60-69\", \"fecha (a\\u00f1o-mes-d\\u00eda)\": \"2020-05-02\", \"casos confirmados\": 1503}, {\"index\": 4, \"Grupo de edad\": \"70-79\", \"fecha (a\\u00f1o-mes-d\\u00eda)\": \"2020-05-02\", \"casos confirmados\": 787}, {\"index\": 5, \"Grupo de edad\": \">=80\", \"fecha (a\\u00f1o-mes-d\\u00eda)\": \"2020-05-02\", \"casos confirmados\": 511}, {\"index\": 0, \"Grupo de edad\": \"<=39\", \"fecha (a\\u00f1o-mes-d\\u00eda)\": \"2020-05-04\", \"casos confirmados\": 10795}, {\"index\": 1, \"Grupo de edad\": \"40-49\", \"fecha (a\\u00f1o-mes-d\\u00eda)\": \"2020-05-04\", \"casos confirmados\": 3625}, {\"index\": 2, \"Grupo de edad\": \"50-59\", \"fecha (a\\u00f1o-mes-d\\u00eda)\": \"2020-05-04\", \"casos confirmados\": 3023}, {\"index\": 3, \"Grupo de edad\": \"60-69\", \"fecha (a\\u00f1o-mes-d\\u00eda)\": \"2020-05-04\", \"casos confirmados\": 1680}, {\"index\": 4, \"Grupo de edad\": \"70-79\", \"fecha (a\\u00f1o-mes-d\\u00eda)\": \"2020-05-04\", \"casos confirmados\": 877}, {\"index\": 5, \"Grupo de edad\": \">=80\", \"fecha (a\\u00f1o-mes-d\\u00eda)\": \"2020-05-04\", \"casos confirmados\": 567}, {\"index\": 0, \"Grupo de edad\": \"<=39\", \"fecha (a\\u00f1o-mes-d\\u00eda)\": \"2020-05-06\", \"casos confirmados\": 12183}, {\"index\": 1, \"Grupo de edad\": \"40-49\", \"fecha (a\\u00f1o-mes-d\\u00eda)\": \"2020-05-06\", \"casos confirmados\": 4029}, {\"index\": 2, \"Grupo de edad\": \"50-59\", \"fecha (a\\u00f1o-mes-d\\u00eda)\": \"2020-05-06\", \"casos confirmados\": 3361}, {\"index\": 3, \"Grupo de edad\": \"60-69\", \"fecha (a\\u00f1o-mes-d\\u00eda)\": \"2020-05-06\", \"casos confirmados\": 1864}, {\"index\": 4, \"Grupo de edad\": \"70-79\", \"fecha (a\\u00f1o-mes-d\\u00eda)\": \"2020-05-06\", \"casos confirmados\": 952}, {\"index\": 5, \"Grupo de edad\": \">=80\", \"fecha (a\\u00f1o-mes-d\\u00eda)\": \"2020-05-06\", \"casos confirmados\": 622}, {\"index\": 0, \"Grupo de edad\": \"<=39\", \"fecha (a\\u00f1o-mes-d\\u00eda)\": \"2020-05-08\", \"casos confirmados\": 13750}, {\"index\": 1, \"Grupo de edad\": \"40-49\", \"fecha (a\\u00f1o-mes-d\\u00eda)\": \"2020-05-08\", \"casos confirmados\": 4556}, {\"index\": 2, \"Grupo de edad\": \"50-59\", \"fecha (a\\u00f1o-mes-d\\u00eda)\": \"2020-05-08\", \"casos confirmados\": 3768}, {\"index\": 3, \"Grupo de edad\": \"60-69\", \"fecha (a\\u00f1o-mes-d\\u00eda)\": \"2020-05-08\", \"casos confirmados\": 2138}, {\"index\": 4, \"Grupo de edad\": \"70-79\", \"fecha (a\\u00f1o-mes-d\\u00eda)\": \"2020-05-08\", \"casos confirmados\": 1052}, {\"index\": 5, \"Grupo de edad\": \">=80\", \"fecha (a\\u00f1o-mes-d\\u00eda)\": \"2020-05-08\", \"casos confirmados\": 688}, {\"index\": 0, \"Grupo de edad\": \"<=39\", \"fecha (a\\u00f1o-mes-d\\u00eda)\": \"2020-05-11\", \"casos confirmados\": 16047}, {\"index\": 1, \"Grupo de edad\": \"40-49\", \"fecha (a\\u00f1o-mes-d\\u00eda)\": \"2020-05-11\", \"casos confirmados\": 5219}, {\"index\": 2, \"Grupo de edad\": \"50-59\", \"fecha (a\\u00f1o-mes-d\\u00eda)\": \"2020-05-11\", \"casos confirmados\": 4314}, {\"index\": 3, \"Grupo de edad\": \"60-69\", \"fecha (a\\u00f1o-mes-d\\u00eda)\": \"2020-05-11\", \"casos confirmados\": 2470}, {\"index\": 4, \"Grupo de edad\": \"70-79\", \"fecha (a\\u00f1o-mes-d\\u00eda)\": \"2020-05-11\", \"casos confirmados\": 1208}, {\"index\": 5, \"Grupo de edad\": \">=80\", \"fecha (a\\u00f1o-mes-d\\u00eda)\": \"2020-05-11\", \"casos confirmados\": 789}, {\"index\": 0, \"Grupo de edad\": \"<=39\", \"fecha (a\\u00f1o-mes-d\\u00eda)\": \"2020-05-15\", \"casos confirmados\": 21306}, {\"index\": 1, \"Grupo de edad\": \"40-49\", \"fecha (a\\u00f1o-mes-d\\u00eda)\": \"2020-05-15\", \"casos confirmados\": 6821}, {\"index\": 2, \"Grupo de edad\": \"50-59\", \"fecha (a\\u00f1o-mes-d\\u00eda)\": \"2020-05-15\", \"casos confirmados\": 5674}, {\"index\": 3, \"Grupo de edad\": \"60-69\", \"fecha (a\\u00f1o-mes-d\\u00eda)\": \"2020-05-15\", \"casos confirmados\": 3190}, {\"index\": 4, \"Grupo de edad\": \"70-79\", \"fecha (a\\u00f1o-mes-d\\u00eda)\": \"2020-05-15\", \"casos confirmados\": 1541}, {\"index\": 5, \"Grupo de edad\": \">=80\", \"fecha (a\\u00f1o-mes-d\\u00eda)\": \"2020-05-15\", \"casos confirmados\": 979}, {\"index\": 0, \"Grupo de edad\": \"<=39\", \"fecha (a\\u00f1o-mes-d\\u00eda)\": \"2020-05-18\", \"casos confirmados\": 24830}, {\"index\": 1, \"Grupo de edad\": \"40-49\", \"fecha (a\\u00f1o-mes-d\\u00eda)\": \"2020-05-18\", \"casos confirmados\": 7953}, {\"index\": 2, \"Grupo de edad\": \"50-59\", \"fecha (a\\u00f1o-mes-d\\u00eda)\": \"2020-05-18\", \"casos confirmados\": 6624}, {\"index\": 3, \"Grupo de edad\": \"60-69\", \"fecha (a\\u00f1o-mes-d\\u00eda)\": \"2020-05-18\", \"casos confirmados\": 3748}, {\"index\": 4, \"Grupo de edad\": \"70-79\", \"fecha (a\\u00f1o-mes-d\\u00eda)\": \"2020-05-18\", \"casos confirmados\": 1785}, {\"index\": 5, \"Grupo de edad\": \">=80\", \"fecha (a\\u00f1o-mes-d\\u00eda)\": \"2020-05-18\", \"casos confirmados\": 1108}, {\"index\": 0, \"Grupo de edad\": \"<=39\", \"fecha (a\\u00f1o-mes-d\\u00eda)\": \"2020-05-22\", \"casos confirmados\": 33248}, {\"index\": 1, \"Grupo de edad\": \"40-49\", \"fecha (a\\u00f1o-mes-d\\u00eda)\": \"2020-05-22\", \"casos confirmados\": 10674}, {\"index\": 2, \"Grupo de edad\": \"50-59\", \"fecha (a\\u00f1o-mes-d\\u00eda)\": \"2020-05-22\", \"casos confirmados\": 9078}, {\"index\": 3, \"Grupo de edad\": \"60-69\", \"fecha (a\\u00f1o-mes-d\\u00eda)\": \"2020-05-22\", \"casos confirmados\": 5061}, {\"index\": 4, \"Grupo de edad\": \"70-79\", \"fecha (a\\u00f1o-mes-d\\u00eda)\": \"2020-05-22\", \"casos confirmados\": 2372}, {\"index\": 5, \"Grupo de edad\": \">=80\", \"fecha (a\\u00f1o-mes-d\\u00eda)\": \"2020-05-22\", \"casos confirmados\": 1415}, {\"index\": 0, \"Grupo de edad\": \"<=39\", \"fecha (a\\u00f1o-mes-d\\u00eda)\": \"2020-05-25\", \"casos confirmados\": 39590}, {\"index\": 1, \"Grupo de edad\": \"40-49\", \"fecha (a\\u00f1o-mes-d\\u00eda)\": \"2020-05-25\", \"casos confirmados\": 12938}, {\"index\": 2, \"Grupo de edad\": \"50-59\", \"fecha (a\\u00f1o-mes-d\\u00eda)\": \"2020-05-25\", \"casos confirmados\": 10932}, {\"index\": 3, \"Grupo de edad\": \"60-69\", \"fecha (a\\u00f1o-mes-d\\u00eda)\": \"2020-05-25\", \"casos confirmados\": 6021}, {\"index\": 4, \"Grupo de edad\": \"70-79\", \"fecha (a\\u00f1o-mes-d\\u00eda)\": \"2020-05-25\", \"casos confirmados\": 2822}, {\"index\": 5, \"Grupo de edad\": \">=80\", \"fecha (a\\u00f1o-mes-d\\u00eda)\": \"2020-05-25\", \"casos confirmados\": 1692}, {\"index\": 0, \"Grupo de edad\": \"<=39\", \"fecha (a\\u00f1o-mes-d\\u00eda)\": \"2020-05-29\", \"casos confirmados\": 48246}, {\"index\": 1, \"Grupo de edad\": \"40-49\", \"fecha (a\\u00f1o-mes-d\\u00eda)\": \"2020-05-29\", \"casos confirmados\": 15665}, {\"index\": 2, \"Grupo de edad\": \"50-59\", \"fecha (a\\u00f1o-mes-d\\u00eda)\": \"2020-05-29\", \"casos confirmados\": 13525}, {\"index\": 3, \"Grupo de edad\": \"60-69\", \"fecha (a\\u00f1o-mes-d\\u00eda)\": \"2020-05-29\", \"casos confirmados\": 7515}, {\"index\": 4, \"Grupo de edad\": \"70-79\", \"fecha (a\\u00f1o-mes-d\\u00eda)\": \"2020-05-29\", \"casos confirmados\": 3548}, {\"index\": 5, \"Grupo de edad\": \">=80\", \"fecha (a\\u00f1o-mes-d\\u00eda)\": \"2020-05-29\", \"casos confirmados\": 2135}, {\"index\": 0, \"Grupo de edad\": \"<=39\", \"fecha (a\\u00f1o-mes-d\\u00eda)\": \"2020-06-01\", \"casos confirmados\": 55579}, {\"index\": 1, \"Grupo de edad\": \"40-49\", \"fecha (a\\u00f1o-mes-d\\u00eda)\": \"2020-06-01\", \"casos confirmados\": 18150}, {\"index\": 2, \"Grupo de edad\": \"50-59\", \"fecha (a\\u00f1o-mes-d\\u00eda)\": \"2020-06-01\", \"casos confirmados\": 15817}, {\"index\": 3, \"Grupo de edad\": \"60-69\", \"fecha (a\\u00f1o-mes-d\\u00eda)\": \"2020-06-01\", \"casos confirmados\": 8836}, {\"index\": 4, \"Grupo de edad\": \"70-79\", \"fecha (a\\u00f1o-mes-d\\u00eda)\": \"2020-06-01\", \"casos confirmados\": 4249}, {\"index\": 5, \"Grupo de edad\": \">=80\", \"fecha (a\\u00f1o-mes-d\\u00eda)\": \"2020-06-01\", \"casos confirmados\": 2526}, {\"index\": 0, \"Grupo de edad\": \"<=39\", \"fecha (a\\u00f1o-mes-d\\u00eda)\": \"2020-06-05\", \"casos confirmados\": 64367}, {\"index\": 1, \"Grupo de edad\": \"40-49\", \"fecha (a\\u00f1o-mes-d\\u00eda)\": \"2020-06-05\", \"casos confirmados\": 21192}, {\"index\": 2, \"Grupo de edad\": \"50-59\", \"fecha (a\\u00f1o-mes-d\\u00eda)\": \"2020-06-05\", \"casos confirmados\": 18555}, {\"index\": 3, \"Grupo de edad\": \"60-69\", \"fecha (a\\u00f1o-mes-d\\u00eda)\": \"2020-06-05\", \"casos confirmados\": 10378}, {\"index\": 4, \"Grupo de edad\": \"70-79\", \"fecha (a\\u00f1o-mes-d\\u00eda)\": \"2020-06-05\", \"casos confirmados\": 5033}, {\"index\": 5, \"Grupo de edad\": \">=80\", \"fecha (a\\u00f1o-mes-d\\u00eda)\": \"2020-06-05\", \"casos confirmados\": 2970}, {\"index\": 0, \"Grupo de edad\": \"<=39\", \"fecha (a\\u00f1o-mes-d\\u00eda)\": \"2020-06-08\", \"casos confirmados\": 72445}, {\"index\": 1, \"Grupo de edad\": \"40-49\", \"fecha (a\\u00f1o-mes-d\\u00eda)\": \"2020-06-08\", \"casos confirmados\": 24095}, {\"index\": 2, \"Grupo de edad\": \"50-59\", \"fecha (a\\u00f1o-mes-d\\u00eda)\": \"2020-06-08\", \"casos confirmados\": 21225}, {\"index\": 3, \"Grupo de edad\": \"60-69\", \"fecha (a\\u00f1o-mes-d\\u00eda)\": \"2020-06-08\", \"casos confirmados\": 11880}, {\"index\": 4, \"Grupo de edad\": \"70-79\", \"fecha (a\\u00f1o-mes-d\\u00eda)\": \"2020-06-08\", \"casos confirmados\": 5771}, {\"index\": 5, \"Grupo de edad\": \">=80\", \"fecha (a\\u00f1o-mes-d\\u00eda)\": \"2020-06-08\", \"casos confirmados\": 3426}, {\"index\": 0, \"Grupo de edad\": \"<=39\", \"fecha (a\\u00f1o-mes-d\\u00eda)\": \"2020-06-12\", \"casos confirmados\": 83297}, {\"index\": 1, \"Grupo de edad\": \"40-49\", \"fecha (a\\u00f1o-mes-d\\u00eda)\": \"2020-06-12\", \"casos confirmados\": 27767}, {\"index\": 2, \"Grupo de edad\": \"50-59\", \"fecha (a\\u00f1o-mes-d\\u00eda)\": \"2020-06-12\", \"casos confirmados\": 24756}, {\"index\": 3, \"Grupo de edad\": \"60-69\", \"fecha (a\\u00f1o-mes-d\\u00eda)\": \"2020-06-12\", \"casos confirmados\": 14011}, {\"index\": 4, \"Grupo de edad\": \"70-79\", \"fecha (a\\u00f1o-mes-d\\u00eda)\": \"2020-06-12\", \"casos confirmados\": 6827}, {\"index\": 5, \"Grupo de edad\": \">=80\", \"fecha (a\\u00f1o-mes-d\\u00eda)\": \"2020-06-12\", \"casos confirmados\": 4182}, {\"index\": 0, \"Grupo de edad\": \"<=39\", \"fecha (a\\u00f1o-mes-d\\u00eda)\": \"2020-06-15\", \"casos confirmados\": 92142}, {\"index\": 1, \"Grupo de edad\": \"40-49\", \"fecha (a\\u00f1o-mes-d\\u00eda)\": \"2020-06-15\", \"casos confirmados\": 31008}, {\"index\": 2, \"Grupo de edad\": \"50-59\", \"fecha (a\\u00f1o-mes-d\\u00eda)\": \"2020-06-15\", \"casos confirmados\": 28049}, {\"index\": 3, \"Grupo de edad\": \"60-69\", \"fecha (a\\u00f1o-mes-d\\u00eda)\": \"2020-06-15\", \"casos confirmados\": 15780}, {\"index\": 4, \"Grupo de edad\": \"70-79\", \"fecha (a\\u00f1o-mes-d\\u00eda)\": \"2020-06-15\", \"casos confirmados\": 7737}, {\"index\": 5, \"Grupo de edad\": \">=80\", \"fecha (a\\u00f1o-mes-d\\u00eda)\": \"2020-06-15\", \"casos confirmados\": 4714}, {\"index\": 0, \"Grupo de edad\": \"<=39\", \"fecha (a\\u00f1o-mes-d\\u00eda)\": \"2020-06-19\", \"casos confirmados\": 119298}, {\"index\": 1, \"Grupo de edad\": \"40-49\", \"fecha (a\\u00f1o-mes-d\\u00eda)\": \"2020-06-19\", \"casos confirmados\": 39668}, {\"index\": 2, \"Grupo de edad\": \"50-59\", \"fecha (a\\u00f1o-mes-d\\u00eda)\": \"2020-06-19\", \"casos confirmados\": 36128}, {\"index\": 3, \"Grupo de edad\": \"60-69\", \"fecha (a\\u00f1o-mes-d\\u00eda)\": \"2020-06-19\", \"casos confirmados\": 20250}, {\"index\": 4, \"Grupo de edad\": \"70-79\", \"fecha (a\\u00f1o-mes-d\\u00eda)\": \"2020-06-19\", \"casos confirmados\": 9905}, {\"index\": 5, \"Grupo de edad\": \">=80\", \"fecha (a\\u00f1o-mes-d\\u00eda)\": \"2020-06-19\", \"casos confirmados\": 6103}, {\"index\": 0, \"Grupo de edad\": \"<=39\", \"fecha (a\\u00f1o-mes-d\\u00eda)\": \"2020-06-23\", \"casos confirmados\": 131528}, {\"index\": 1, \"Grupo de edad\": \"40-49\", \"fecha (a\\u00f1o-mes-d\\u00eda)\": \"2020-06-23\", \"casos confirmados\": 43710}, {\"index\": 2, \"Grupo de edad\": \"50-59\", \"fecha (a\\u00f1o-mes-d\\u00eda)\": \"2020-06-23\", \"casos confirmados\": 39940}, {\"index\": 3, \"Grupo de edad\": \"60-69\", \"fecha (a\\u00f1o-mes-d\\u00eda)\": \"2020-06-23\", \"casos confirmados\": 22457}, {\"index\": 4, \"Grupo de edad\": \"70-79\", \"fecha (a\\u00f1o-mes-d\\u00eda)\": \"2020-06-23\", \"casos confirmados\": 10922}, {\"index\": 5, \"Grupo de edad\": \">=80\", \"fecha (a\\u00f1o-mes-d\\u00eda)\": \"2020-06-23\", \"casos confirmados\": 6804}]}}, {\"mode\": \"vega-lite\"});\n",
       "</script>"
      ],
      "text/plain": [
       "alt.HConcatChart(...)"
      ]
     },
     "execution_count": 55,
     "metadata": {},
     "output_type": "execute_result"
    }
   ],
   "source": [
    "#hide_input\n",
    "selection2 = alt.selection_multi(fields=['Grupo de edad'], on='mouseover')\n",
    "\n",
    "color = alt.condition(selection2,\n",
    "                    alt.Color('Grupo de edad:N', scale=alt.Scale(scheme='tableau20'), legend=None),\n",
    "                    alt.value('lightgray'))\n",
    "\n",
    "bars = alt.Chart(cases).mark_area().encode(\n",
    "    x = 'fecha (año-mes-día):N',\n",
    "    y = alt.Y('casos confirmados:Q', stack=\"normalize\"),\n",
    "    color = color,\n",
    "    tooltip = ['fecha (año-mes-día)', 'Grupo de edad', 'casos confirmados'],\n",
    "    order=alt.Order(\n",
    "    # Sort the segments of the bars by this field\n",
    "    'index',\n",
    "    sort='descending'\n",
    "    )\n",
    ").add_selection(\n",
    "    selection2\n",
    ")\n",
    "\n",
    "legend = alt.Chart(cases).mark_point().encode(\n",
    "    y=alt.Y('Grupo de edad', axis=alt.Axis(orient='right'), sort=grupo_de_edad),\n",
    "    color=color\n",
    ").add_selection(\n",
    "    selection2\n",
    ")\n",
    "\n",
    "bars.properties(\n",
    "    title = 'COVID-19 en Chile: Evolución de casos confirmados por rango de edad',\n",
    "    width = 600\n",
    ") | legend"
   ]
  },
  {
   "cell_type": "markdown",
   "metadata": {
    "collapsed": true
   },
   "source": [
    "# Evolución de fallecidos confirmados por rango de edad"
   ]
  },
  {
   "cell_type": "code",
   "execution_count": 56,
   "metadata": {},
   "outputs": [],
   "source": [
    "#hide\n",
    "data = deaths_raw.reset_index().melt(['index', 'Grupo de edad'])"
   ]
  },
  {
   "cell_type": "code",
   "execution_count": 57,
   "metadata": {},
   "outputs": [],
   "source": [
    "#hide\n",
    "data = data.rename(columns={'variable': \"fecha (año-mes-día)\", 'value': \"fallecidos confirmados\"})"
   ]
  },
  {
   "cell_type": "code",
   "execution_count": 58,
   "metadata": {},
   "outputs": [
    {
     "data": {
      "text/html": [
       "\n",
       "<div id=\"altair-viz-1b94f4b019324f62b9832acc9598d953\"></div>\n",
       "<script type=\"text/javascript\">\n",
       "  (function(spec, embedOpt){\n",
       "    let outputDiv = document.currentScript.previousElementSibling;\n",
       "    if (outputDiv.id !== \"altair-viz-1b94f4b019324f62b9832acc9598d953\") {\n",
       "      outputDiv = document.getElementById(\"altair-viz-1b94f4b019324f62b9832acc9598d953\");\n",
       "    }\n",
       "    const paths = {\n",
       "      \"vega\": \"https://cdn.jsdelivr.net/npm//vega@5?noext\",\n",
       "      \"vega-lib\": \"https://cdn.jsdelivr.net/npm//vega-lib?noext\",\n",
       "      \"vega-lite\": \"https://cdn.jsdelivr.net/npm//vega-lite@4.8.1?noext\",\n",
       "      \"vega-embed\": \"https://cdn.jsdelivr.net/npm//vega-embed@6?noext\",\n",
       "    };\n",
       "\n",
       "    function loadScript(lib) {\n",
       "      return new Promise(function(resolve, reject) {\n",
       "        var s = document.createElement('script');\n",
       "        s.src = paths[lib];\n",
       "        s.async = true;\n",
       "        s.onload = () => resolve(paths[lib]);\n",
       "        s.onerror = () => reject(`Error loading script: ${paths[lib]}`);\n",
       "        document.getElementsByTagName(\"head\")[0].appendChild(s);\n",
       "      });\n",
       "    }\n",
       "\n",
       "    function showError(err) {\n",
       "      outputDiv.innerHTML = `<div class=\"error\" style=\"color:red;\">${err}</div>`;\n",
       "      throw err;\n",
       "    }\n",
       "\n",
       "    function displayChart(vegaEmbed) {\n",
       "      vegaEmbed(outputDiv, spec, embedOpt)\n",
       "        .catch(err => showError(`Javascript Error: ${err.message}<br>This usually means there's a typo in your chart specification. See the javascript console for the full traceback.`));\n",
       "    }\n",
       "\n",
       "    if(typeof define === \"function\" && define.amd) {\n",
       "      requirejs.config({paths});\n",
       "      require([\"vega-embed\"], displayChart, err => showError(`Error loading script: ${err.message}`));\n",
       "    } else if (typeof vegaEmbed === \"function\") {\n",
       "      displayChart(vegaEmbed);\n",
       "    } else {\n",
       "      loadScript(\"vega\")\n",
       "        .then(() => loadScript(\"vega-lite\"))\n",
       "        .then(() => loadScript(\"vega-embed\"))\n",
       "        .catch(showError)\n",
       "        .then(() => displayChart(vegaEmbed));\n",
       "    }\n",
       "  })({\"config\": {\"view\": {\"continuousWidth\": 400, \"continuousHeight\": 300}}, \"hconcat\": [{\"mark\": \"bar\", \"encoding\": {\"color\": {\"condition\": {\"type\": \"nominal\", \"field\": \"Grupo de edad\", \"legend\": null, \"scale\": {\"scheme\": \"tableau20\"}, \"selection\": {\"or\": [\" \", \"selector004\"]}}, \"value\": \"lightgray\"}, \"order\": {\"type\": \"quantitative\", \"field\": \"index\", \"sort\": \"descending\"}, \"tooltip\": [{\"type\": \"nominal\", \"field\": \"fecha (a\\u00f1o-mes-d\\u00eda)\"}, {\"type\": \"nominal\", \"field\": \"Grupo de edad\"}, {\"type\": \"quantitative\", \"field\": \"fallecidos confirmados\"}], \"x\": {\"type\": \"nominal\", \"field\": \"fecha (a\\u00f1o-mes-d\\u00eda)\"}, \"y\": {\"type\": \"quantitative\", \"field\": \"fallecidos confirmados\"}}, \"selection\": {\" \": {\"type\": \"single\", \"fields\": [\"Grupo de edad\"], \"bind\": {\"input\": \"select\", \"options\": [\"<=39\", \"40-49\", \"50-59\", \"60-69\", \"70-79\", \"80-89\", \">=90\"]}}, \"selector004\": {\"type\": \"multi\", \"fields\": [\"Grupo de edad\"], \"on\": \"mouseover\"}}, \"title\": \"COVID-19 en Chile: Evoluci\\u00f3n de fallecidos confirmados por rango de edad\", \"transform\": [{\"filter\": {\"selection\": \" \"}}], \"width\": 600}, {\"mark\": \"point\", \"encoding\": {\"color\": {\"condition\": {\"type\": \"nominal\", \"field\": \"Grupo de edad\", \"legend\": null, \"scale\": {\"scheme\": \"tableau20\"}, \"selection\": {\"or\": [\" \", \"selector004\"]}}, \"value\": \"lightgray\"}, \"y\": {\"type\": \"nominal\", \"axis\": {\"orient\": \"right\"}, \"field\": \"Grupo de edad\", \"sort\": [\"<=39\", \"40-49\", \"50-59\", \"60-69\", \"70-79\", \"80-89\", \">=90\"]}}, \"selection\": {\" \": {\"type\": \"single\", \"fields\": [\"Grupo de edad\"], \"bind\": {\"input\": \"select\", \"options\": [\"<=39\", \"40-49\", \"50-59\", \"60-69\", \"70-79\", \"80-89\", \">=90\"]}}, \"selector004\": {\"type\": \"multi\", \"fields\": [\"Grupo de edad\"], \"on\": \"mouseover\"}}}], \"data\": {\"name\": \"data-f32361c53fa63be787ade6f7aec308cf\"}, \"$schema\": \"https://vega.github.io/schema/vega-lite/v4.8.1.json\", \"datasets\": {\"data-f32361c53fa63be787ade6f7aec308cf\": [{\"index\": 0, \"Grupo de edad\": \"<=39\", \"fecha (a\\u00f1o-mes-d\\u00eda)\": \"2020-04-09\", \"fallecidos confirmados\": 2}, {\"index\": 1, \"Grupo de edad\": \"40-49\", \"fecha (a\\u00f1o-mes-d\\u00eda)\": \"2020-04-09\", \"fallecidos confirmados\": 1}, {\"index\": 2, \"Grupo de edad\": \"50-59\", \"fecha (a\\u00f1o-mes-d\\u00eda)\": \"2020-04-09\", \"fallecidos confirmados\": 1}, {\"index\": 3, \"Grupo de edad\": \"60-69\", \"fecha (a\\u00f1o-mes-d\\u00eda)\": \"2020-04-09\", \"fallecidos confirmados\": 9}, {\"index\": 4, \"Grupo de edad\": \"70-79\", \"fecha (a\\u00f1o-mes-d\\u00eda)\": \"2020-04-09\", \"fallecidos confirmados\": 21}, {\"index\": 5, \"Grupo de edad\": \"80-89\", \"fecha (a\\u00f1o-mes-d\\u00eda)\": \"2020-04-09\", \"fallecidos confirmados\": 19}, {\"index\": 6, \"Grupo de edad\": \">=90\", \"fecha (a\\u00f1o-mes-d\\u00eda)\": \"2020-04-09\", \"fallecidos confirmados\": 4}, {\"index\": 0, \"Grupo de edad\": \"<=39\", \"fecha (a\\u00f1o-mes-d\\u00eda)\": \"2020-04-10\", \"fallecidos confirmados\": 2}, {\"index\": 1, \"Grupo de edad\": \"40-49\", \"fecha (a\\u00f1o-mes-d\\u00eda)\": \"2020-04-10\", \"fallecidos confirmados\": 2}, {\"index\": 2, \"Grupo de edad\": \"50-59\", \"fecha (a\\u00f1o-mes-d\\u00eda)\": \"2020-04-10\", \"fallecidos confirmados\": 2}, {\"index\": 3, \"Grupo de edad\": \"60-69\", \"fecha (a\\u00f1o-mes-d\\u00eda)\": \"2020-04-10\", \"fallecidos confirmados\": 10}, {\"index\": 4, \"Grupo de edad\": \"70-79\", \"fecha (a\\u00f1o-mes-d\\u00eda)\": \"2020-04-10\", \"fallecidos confirmados\": 22}, {\"index\": 5, \"Grupo de edad\": \"80-89\", \"fecha (a\\u00f1o-mes-d\\u00eda)\": \"2020-04-10\", \"fallecidos confirmados\": 21}, {\"index\": 6, \"Grupo de edad\": \">=90\", \"fecha (a\\u00f1o-mes-d\\u00eda)\": \"2020-04-10\", \"fallecidos confirmados\": 6}, {\"index\": 0, \"Grupo de edad\": \"<=39\", \"fecha (a\\u00f1o-mes-d\\u00eda)\": \"2020-04-11\", \"fallecidos confirmados\": 3}, {\"index\": 1, \"Grupo de edad\": \"40-49\", \"fecha (a\\u00f1o-mes-d\\u00eda)\": \"2020-04-11\", \"fallecidos confirmados\": 2}, {\"index\": 2, \"Grupo de edad\": \"50-59\", \"fecha (a\\u00f1o-mes-d\\u00eda)\": \"2020-04-11\", \"fallecidos confirmados\": 2}, {\"index\": 3, \"Grupo de edad\": \"60-69\", \"fecha (a\\u00f1o-mes-d\\u00eda)\": \"2020-04-11\", \"fallecidos confirmados\": 12}, {\"index\": 4, \"Grupo de edad\": \"70-79\", \"fecha (a\\u00f1o-mes-d\\u00eda)\": \"2020-04-11\", \"fallecidos confirmados\": 24}, {\"index\": 5, \"Grupo de edad\": \"80-89\", \"fecha (a\\u00f1o-mes-d\\u00eda)\": \"2020-04-11\", \"fallecidos confirmados\": 24}, {\"index\": 6, \"Grupo de edad\": \">=90\", \"fecha (a\\u00f1o-mes-d\\u00eda)\": \"2020-04-11\", \"fallecidos confirmados\": 6}, {\"index\": 0, \"Grupo de edad\": \"<=39\", \"fecha (a\\u00f1o-mes-d\\u00eda)\": \"2020-04-12\", \"fallecidos confirmados\": 3}, {\"index\": 1, \"Grupo de edad\": \"40-49\", \"fecha (a\\u00f1o-mes-d\\u00eda)\": \"2020-04-12\", \"fallecidos confirmados\": 2}, {\"index\": 2, \"Grupo de edad\": \"50-59\", \"fecha (a\\u00f1o-mes-d\\u00eda)\": \"2020-04-12\", \"fallecidos confirmados\": 3}, {\"index\": 3, \"Grupo de edad\": \"60-69\", \"fecha (a\\u00f1o-mes-d\\u00eda)\": \"2020-04-12\", \"fallecidos confirmados\": 12}, {\"index\": 4, \"Grupo de edad\": \"70-79\", \"fecha (a\\u00f1o-mes-d\\u00eda)\": \"2020-04-12\", \"fallecidos confirmados\": 28}, {\"index\": 5, \"Grupo de edad\": \"80-89\", \"fecha (a\\u00f1o-mes-d\\u00eda)\": \"2020-04-12\", \"fallecidos confirmados\": 25}, {\"index\": 6, \"Grupo de edad\": \">=90\", \"fecha (a\\u00f1o-mes-d\\u00eda)\": \"2020-04-12\", \"fallecidos confirmados\": 7}, {\"index\": 0, \"Grupo de edad\": \"<=39\", \"fecha (a\\u00f1o-mes-d\\u00eda)\": \"2020-04-13\", \"fallecidos confirmados\": 3}, {\"index\": 1, \"Grupo de edad\": \"40-49\", \"fecha (a\\u00f1o-mes-d\\u00eda)\": \"2020-04-13\", \"fallecidos confirmados\": 2}, {\"index\": 2, \"Grupo de edad\": \"50-59\", \"fecha (a\\u00f1o-mes-d\\u00eda)\": \"2020-04-13\", \"fallecidos confirmados\": 3}, {\"index\": 3, \"Grupo de edad\": \"60-69\", \"fecha (a\\u00f1o-mes-d\\u00eda)\": \"2020-04-13\", \"fallecidos confirmados\": 12}, {\"index\": 4, \"Grupo de edad\": \"70-79\", \"fecha (a\\u00f1o-mes-d\\u00eda)\": \"2020-04-13\", \"fallecidos confirmados\": 29}, {\"index\": 5, \"Grupo de edad\": \"80-89\", \"fecha (a\\u00f1o-mes-d\\u00eda)\": \"2020-04-13\", \"fallecidos confirmados\": 26}, {\"index\": 6, \"Grupo de edad\": \">=90\", \"fecha (a\\u00f1o-mes-d\\u00eda)\": \"2020-04-13\", \"fallecidos confirmados\": 7}, {\"index\": 0, \"Grupo de edad\": \"<=39\", \"fecha (a\\u00f1o-mes-d\\u00eda)\": \"2020-04-14\", \"fallecidos confirmados\": 3}, {\"index\": 1, \"Grupo de edad\": \"40-49\", \"fecha (a\\u00f1o-mes-d\\u00eda)\": \"2020-04-14\", \"fallecidos confirmados\": 2}, {\"index\": 2, \"Grupo de edad\": \"50-59\", \"fecha (a\\u00f1o-mes-d\\u00eda)\": \"2020-04-14\", \"fallecidos confirmados\": 5}, {\"index\": 3, \"Grupo de edad\": \"60-69\", \"fecha (a\\u00f1o-mes-d\\u00eda)\": \"2020-04-14\", \"fallecidos confirmados\": 12}, {\"index\": 4, \"Grupo de edad\": \"70-79\", \"fecha (a\\u00f1o-mes-d\\u00eda)\": \"2020-04-14\", \"fallecidos confirmados\": 30}, {\"index\": 5, \"Grupo de edad\": \"80-89\", \"fecha (a\\u00f1o-mes-d\\u00eda)\": \"2020-04-14\", \"fallecidos confirmados\": 32}, {\"index\": 6, \"Grupo de edad\": \">=90\", \"fecha (a\\u00f1o-mes-d\\u00eda)\": \"2020-04-14\", \"fallecidos confirmados\": 8}, {\"index\": 0, \"Grupo de edad\": \"<=39\", \"fecha (a\\u00f1o-mes-d\\u00eda)\": \"2020-04-15\", \"fallecidos confirmados\": 3}, {\"index\": 1, \"Grupo de edad\": \"40-49\", \"fecha (a\\u00f1o-mes-d\\u00eda)\": \"2020-04-15\", \"fallecidos confirmados\": 2}, {\"index\": 2, \"Grupo de edad\": \"50-59\", \"fecha (a\\u00f1o-mes-d\\u00eda)\": \"2020-04-15\", \"fallecidos confirmados\": 5}, {\"index\": 3, \"Grupo de edad\": \"60-69\", \"fecha (a\\u00f1o-mes-d\\u00eda)\": \"2020-04-15\", \"fallecidos confirmados\": 12}, {\"index\": 4, \"Grupo de edad\": \"70-79\", \"fecha (a\\u00f1o-mes-d\\u00eda)\": \"2020-04-15\", \"fallecidos confirmados\": 31}, {\"index\": 5, \"Grupo de edad\": \"80-89\", \"fecha (a\\u00f1o-mes-d\\u00eda)\": \"2020-04-15\", \"fallecidos confirmados\": 33}, {\"index\": 6, \"Grupo de edad\": \">=90\", \"fecha (a\\u00f1o-mes-d\\u00eda)\": \"2020-04-15\", \"fallecidos confirmados\": 8}, {\"index\": 0, \"Grupo de edad\": \"<=39\", \"fecha (a\\u00f1o-mes-d\\u00eda)\": \"2020-04-16\", \"fallecidos confirmados\": 3}, {\"index\": 1, \"Grupo de edad\": \"40-49\", \"fecha (a\\u00f1o-mes-d\\u00eda)\": \"2020-04-16\", \"fallecidos confirmados\": 2}, {\"index\": 2, \"Grupo de edad\": \"50-59\", \"fecha (a\\u00f1o-mes-d\\u00eda)\": \"2020-04-16\", \"fallecidos confirmados\": 6}, {\"index\": 3, \"Grupo de edad\": \"60-69\", \"fecha (a\\u00f1o-mes-d\\u00eda)\": \"2020-04-16\", \"fallecidos confirmados\": 14}, {\"index\": 4, \"Grupo de edad\": \"70-79\", \"fecha (a\\u00f1o-mes-d\\u00eda)\": \"2020-04-16\", \"fallecidos confirmados\": 32}, {\"index\": 5, \"Grupo de edad\": \"80-89\", \"fecha (a\\u00f1o-mes-d\\u00eda)\": \"2020-04-16\", \"fallecidos confirmados\": 38}, {\"index\": 6, \"Grupo de edad\": \">=90\", \"fecha (a\\u00f1o-mes-d\\u00eda)\": \"2020-04-16\", \"fallecidos confirmados\": 10}, {\"index\": 0, \"Grupo de edad\": \"<=39\", \"fecha (a\\u00f1o-mes-d\\u00eda)\": \"2020-04-17\", \"fallecidos confirmados\": 4}, {\"index\": 1, \"Grupo de edad\": \"40-49\", \"fecha (a\\u00f1o-mes-d\\u00eda)\": \"2020-04-17\", \"fallecidos confirmados\": 2}, {\"index\": 2, \"Grupo de edad\": \"50-59\", \"fecha (a\\u00f1o-mes-d\\u00eda)\": \"2020-04-17\", \"fallecidos confirmados\": 8}, {\"index\": 3, \"Grupo de edad\": \"60-69\", \"fecha (a\\u00f1o-mes-d\\u00eda)\": \"2020-04-17\", \"fallecidos confirmados\": 16}, {\"index\": 4, \"Grupo de edad\": \"70-79\", \"fecha (a\\u00f1o-mes-d\\u00eda)\": \"2020-04-17\", \"fallecidos confirmados\": 36}, {\"index\": 5, \"Grupo de edad\": \"80-89\", \"fecha (a\\u00f1o-mes-d\\u00eda)\": \"2020-04-17\", \"fallecidos confirmados\": 40}, {\"index\": 6, \"Grupo de edad\": \">=90\", \"fecha (a\\u00f1o-mes-d\\u00eda)\": \"2020-04-17\", \"fallecidos confirmados\": 10}, {\"index\": 0, \"Grupo de edad\": \"<=39\", \"fecha (a\\u00f1o-mes-d\\u00eda)\": \"2020-04-18\", \"fallecidos confirmados\": 4}, {\"index\": 1, \"Grupo de edad\": \"40-49\", \"fecha (a\\u00f1o-mes-d\\u00eda)\": \"2020-04-18\", \"fallecidos confirmados\": 2}, {\"index\": 2, \"Grupo de edad\": \"50-59\", \"fecha (a\\u00f1o-mes-d\\u00eda)\": \"2020-04-18\", \"fallecidos confirmados\": 8}, {\"index\": 3, \"Grupo de edad\": \"60-69\", \"fecha (a\\u00f1o-mes-d\\u00eda)\": \"2020-04-18\", \"fallecidos confirmados\": 17}, {\"index\": 4, \"Grupo de edad\": \"70-79\", \"fecha (a\\u00f1o-mes-d\\u00eda)\": \"2020-04-18\", \"fallecidos confirmados\": 39}, {\"index\": 5, \"Grupo de edad\": \"80-89\", \"fecha (a\\u00f1o-mes-d\\u00eda)\": \"2020-04-18\", \"fallecidos confirmados\": 44}, {\"index\": 6, \"Grupo de edad\": \">=90\", \"fecha (a\\u00f1o-mes-d\\u00eda)\": \"2020-04-18\", \"fallecidos confirmados\": 12}, {\"index\": 0, \"Grupo de edad\": \"<=39\", \"fecha (a\\u00f1o-mes-d\\u00eda)\": \"2020-04-19\", \"fallecidos confirmados\": 4}, {\"index\": 1, \"Grupo de edad\": \"40-49\", \"fecha (a\\u00f1o-mes-d\\u00eda)\": \"2020-04-19\", \"fallecidos confirmados\": 2}, {\"index\": 2, \"Grupo de edad\": \"50-59\", \"fecha (a\\u00f1o-mes-d\\u00eda)\": \"2020-04-19\", \"fallecidos confirmados\": 9}, {\"index\": 3, \"Grupo de edad\": \"60-69\", \"fecha (a\\u00f1o-mes-d\\u00eda)\": \"2020-04-19\", \"fallecidos confirmados\": 18}, {\"index\": 4, \"Grupo de edad\": \"70-79\", \"fecha (a\\u00f1o-mes-d\\u00eda)\": \"2020-04-19\", \"fallecidos confirmados\": 41}, {\"index\": 5, \"Grupo de edad\": \"80-89\", \"fecha (a\\u00f1o-mes-d\\u00eda)\": \"2020-04-19\", \"fallecidos confirmados\": 46}, {\"index\": 6, \"Grupo de edad\": \">=90\", \"fecha (a\\u00f1o-mes-d\\u00eda)\": \"2020-04-19\", \"fallecidos confirmados\": 13}, {\"index\": 0, \"Grupo de edad\": \"<=39\", \"fecha (a\\u00f1o-mes-d\\u00eda)\": \"2020-04-20\", \"fallecidos confirmados\": 4}, {\"index\": 1, \"Grupo de edad\": \"40-49\", \"fecha (a\\u00f1o-mes-d\\u00eda)\": \"2020-04-20\", \"fallecidos confirmados\": 2}, {\"index\": 2, \"Grupo de edad\": \"50-59\", \"fecha (a\\u00f1o-mes-d\\u00eda)\": \"2020-04-20\", \"fallecidos confirmados\": 11}, {\"index\": 3, \"Grupo de edad\": \"60-69\", \"fecha (a\\u00f1o-mes-d\\u00eda)\": \"2020-04-20\", \"fallecidos confirmados\": 19}, {\"index\": 4, \"Grupo de edad\": \"70-79\", \"fecha (a\\u00f1o-mes-d\\u00eda)\": \"2020-04-20\", \"fallecidos confirmados\": 42}, {\"index\": 5, \"Grupo de edad\": \"80-89\", \"fecha (a\\u00f1o-mes-d\\u00eda)\": \"2020-04-20\", \"fallecidos confirmados\": 47}, {\"index\": 6, \"Grupo de edad\": \">=90\", \"fecha (a\\u00f1o-mes-d\\u00eda)\": \"2020-04-20\", \"fallecidos confirmados\": 14}, {\"index\": 0, \"Grupo de edad\": \"<=39\", \"fecha (a\\u00f1o-mes-d\\u00eda)\": \"2020-04-21\", \"fallecidos confirmados\": 5}, {\"index\": 1, \"Grupo de edad\": \"40-49\", \"fecha (a\\u00f1o-mes-d\\u00eda)\": \"2020-04-21\", \"fallecidos confirmados\": 2}, {\"index\": 2, \"Grupo de edad\": \"50-59\", \"fecha (a\\u00f1o-mes-d\\u00eda)\": \"2020-04-21\", \"fallecidos confirmados\": 13}, {\"index\": 3, \"Grupo de edad\": \"60-69\", \"fecha (a\\u00f1o-mes-d\\u00eda)\": \"2020-04-21\", \"fallecidos confirmados\": 20}, {\"index\": 4, \"Grupo de edad\": \"70-79\", \"fecha (a\\u00f1o-mes-d\\u00eda)\": \"2020-04-21\", \"fallecidos confirmados\": 43}, {\"index\": 5, \"Grupo de edad\": \"80-89\", \"fecha (a\\u00f1o-mes-d\\u00eda)\": \"2020-04-21\", \"fallecidos confirmados\": 50}, {\"index\": 6, \"Grupo de edad\": \">=90\", \"fecha (a\\u00f1o-mes-d\\u00eda)\": \"2020-04-21\", \"fallecidos confirmados\": 14}, {\"index\": 0, \"Grupo de edad\": \"<=39\", \"fecha (a\\u00f1o-mes-d\\u00eda)\": \"2020-04-22\", \"fallecidos confirmados\": 5}, {\"index\": 1, \"Grupo de edad\": \"40-49\", \"fecha (a\\u00f1o-mes-d\\u00eda)\": \"2020-04-22\", \"fallecidos confirmados\": 2}, {\"index\": 2, \"Grupo de edad\": \"50-59\", \"fecha (a\\u00f1o-mes-d\\u00eda)\": \"2020-04-22\", \"fallecidos confirmados\": 14}, {\"index\": 3, \"Grupo de edad\": \"60-69\", \"fecha (a\\u00f1o-mes-d\\u00eda)\": \"2020-04-22\", \"fallecidos confirmados\": 26}, {\"index\": 4, \"Grupo de edad\": \"70-79\", \"fecha (a\\u00f1o-mes-d\\u00eda)\": \"2020-04-22\", \"fallecidos confirmados\": 47}, {\"index\": 5, \"Grupo de edad\": \"80-89\", \"fecha (a\\u00f1o-mes-d\\u00eda)\": \"2020-04-22\", \"fallecidos confirmados\": 51}, {\"index\": 6, \"Grupo de edad\": \">=90\", \"fecha (a\\u00f1o-mes-d\\u00eda)\": \"2020-04-22\", \"fallecidos confirmados\": 15}, {\"index\": 0, \"Grupo de edad\": \"<=39\", \"fecha (a\\u00f1o-mes-d\\u00eda)\": \"2020-04-23\", \"fallecidos confirmados\": 5}, {\"index\": 1, \"Grupo de edad\": \"40-49\", \"fecha (a\\u00f1o-mes-d\\u00eda)\": \"2020-04-23\", \"fallecidos confirmados\": 3}, {\"index\": 2, \"Grupo de edad\": \"50-59\", \"fecha (a\\u00f1o-mes-d\\u00eda)\": \"2020-04-23\", \"fallecidos confirmados\": 14}, {\"index\": 3, \"Grupo de edad\": \"60-69\", \"fecha (a\\u00f1o-mes-d\\u00eda)\": \"2020-04-23\", \"fallecidos confirmados\": 28}, {\"index\": 4, \"Grupo de edad\": \"70-79\", \"fecha (a\\u00f1o-mes-d\\u00eda)\": \"2020-04-23\", \"fallecidos confirmados\": 48}, {\"index\": 5, \"Grupo de edad\": \"80-89\", \"fecha (a\\u00f1o-mes-d\\u00eda)\": \"2020-04-23\", \"fallecidos confirmados\": 54}, {\"index\": 6, \"Grupo de edad\": \">=90\", \"fecha (a\\u00f1o-mes-d\\u00eda)\": \"2020-04-23\", \"fallecidos confirmados\": 16}, {\"index\": 0, \"Grupo de edad\": \"<=39\", \"fecha (a\\u00f1o-mes-d\\u00eda)\": \"2020-04-24\", \"fallecidos confirmados\": 5}, {\"index\": 1, \"Grupo de edad\": \"40-49\", \"fecha (a\\u00f1o-mes-d\\u00eda)\": \"2020-04-24\", \"fallecidos confirmados\": 4}, {\"index\": 2, \"Grupo de edad\": \"50-59\", \"fecha (a\\u00f1o-mes-d\\u00eda)\": \"2020-04-24\", \"fallecidos confirmados\": 14}, {\"index\": 3, \"Grupo de edad\": \"60-69\", \"fecha (a\\u00f1o-mes-d\\u00eda)\": \"2020-04-24\", \"fallecidos confirmados\": 30}, {\"index\": 4, \"Grupo de edad\": \"70-79\", \"fecha (a\\u00f1o-mes-d\\u00eda)\": \"2020-04-24\", \"fallecidos confirmados\": 49}, {\"index\": 5, \"Grupo de edad\": \"80-89\", \"fecha (a\\u00f1o-mes-d\\u00eda)\": \"2020-04-24\", \"fallecidos confirmados\": 56}, {\"index\": 6, \"Grupo de edad\": \">=90\", \"fecha (a\\u00f1o-mes-d\\u00eda)\": \"2020-04-24\", \"fallecidos confirmados\": 16}, {\"index\": 0, \"Grupo de edad\": \"<=39\", \"fecha (a\\u00f1o-mes-d\\u00eda)\": \"2020-04-25\", \"fallecidos confirmados\": 6}, {\"index\": 1, \"Grupo de edad\": \"40-49\", \"fecha (a\\u00f1o-mes-d\\u00eda)\": \"2020-04-25\", \"fallecidos confirmados\": 6}, {\"index\": 2, \"Grupo de edad\": \"50-59\", \"fecha (a\\u00f1o-mes-d\\u00eda)\": \"2020-04-25\", \"fallecidos confirmados\": 15}, {\"index\": 3, \"Grupo de edad\": \"60-69\", \"fecha (a\\u00f1o-mes-d\\u00eda)\": \"2020-04-25\", \"fallecidos confirmados\": 31}, {\"index\": 4, \"Grupo de edad\": \"70-79\", \"fecha (a\\u00f1o-mes-d\\u00eda)\": \"2020-04-25\", \"fallecidos confirmados\": 50}, {\"index\": 5, \"Grupo de edad\": \"80-89\", \"fecha (a\\u00f1o-mes-d\\u00eda)\": \"2020-04-25\", \"fallecidos confirmados\": 57}, {\"index\": 6, \"Grupo de edad\": \">=90\", \"fecha (a\\u00f1o-mes-d\\u00eda)\": \"2020-04-25\", \"fallecidos confirmados\": 16}, {\"index\": 0, \"Grupo de edad\": \"<=39\", \"fecha (a\\u00f1o-mes-d\\u00eda)\": \"2020-04-26\", \"fallecidos confirmados\": 6}, {\"index\": 1, \"Grupo de edad\": \"40-49\", \"fecha (a\\u00f1o-mes-d\\u00eda)\": \"2020-04-26\", \"fallecidos confirmados\": 7}, {\"index\": 2, \"Grupo de edad\": \"50-59\", \"fecha (a\\u00f1o-mes-d\\u00eda)\": \"2020-04-26\", \"fallecidos confirmados\": 15}, {\"index\": 3, \"Grupo de edad\": \"60-69\", \"fecha (a\\u00f1o-mes-d\\u00eda)\": \"2020-04-26\", \"fallecidos confirmados\": 33}, {\"index\": 4, \"Grupo de edad\": \"70-79\", \"fecha (a\\u00f1o-mes-d\\u00eda)\": \"2020-04-26\", \"fallecidos confirmados\": 52}, {\"index\": 5, \"Grupo de edad\": \"80-89\", \"fecha (a\\u00f1o-mes-d\\u00eda)\": \"2020-04-26\", \"fallecidos confirmados\": 59}, {\"index\": 6, \"Grupo de edad\": \">=90\", \"fecha (a\\u00f1o-mes-d\\u00eda)\": \"2020-04-26\", \"fallecidos confirmados\": 17}, {\"index\": 0, \"Grupo de edad\": \"<=39\", \"fecha (a\\u00f1o-mes-d\\u00eda)\": \"2020-04-27\", \"fallecidos confirmados\": 6}, {\"index\": 1, \"Grupo de edad\": \"40-49\", \"fecha (a\\u00f1o-mes-d\\u00eda)\": \"2020-04-27\", \"fallecidos confirmados\": 7}, {\"index\": 2, \"Grupo de edad\": \"50-59\", \"fecha (a\\u00f1o-mes-d\\u00eda)\": \"2020-04-27\", \"fallecidos confirmados\": 16}, {\"index\": 3, \"Grupo de edad\": \"60-69\", \"fecha (a\\u00f1o-mes-d\\u00eda)\": \"2020-04-27\", \"fallecidos confirmados\": 35}, {\"index\": 4, \"Grupo de edad\": \"70-79\", \"fecha (a\\u00f1o-mes-d\\u00eda)\": \"2020-04-27\", \"fallecidos confirmados\": 57}, {\"index\": 5, \"Grupo de edad\": \"80-89\", \"fecha (a\\u00f1o-mes-d\\u00eda)\": \"2020-04-27\", \"fallecidos confirmados\": 60}, {\"index\": 6, \"Grupo de edad\": \">=90\", \"fecha (a\\u00f1o-mes-d\\u00eda)\": \"2020-04-27\", \"fallecidos confirmados\": 17}, {\"index\": 0, \"Grupo de edad\": \"<=39\", \"fecha (a\\u00f1o-mes-d\\u00eda)\": \"2020-04-28\", \"fallecidos confirmados\": 6}, {\"index\": 1, \"Grupo de edad\": \"40-49\", \"fecha (a\\u00f1o-mes-d\\u00eda)\": \"2020-04-28\", \"fallecidos confirmados\": 8}, {\"index\": 2, \"Grupo de edad\": \"50-59\", \"fecha (a\\u00f1o-mes-d\\u00eda)\": \"2020-04-28\", \"fallecidos confirmados\": 16}, {\"index\": 3, \"Grupo de edad\": \"60-69\", \"fecha (a\\u00f1o-mes-d\\u00eda)\": \"2020-04-28\", \"fallecidos confirmados\": 35}, {\"index\": 4, \"Grupo de edad\": \"70-79\", \"fecha (a\\u00f1o-mes-d\\u00eda)\": \"2020-04-28\", \"fallecidos confirmados\": 60}, {\"index\": 5, \"Grupo de edad\": \"80-89\", \"fecha (a\\u00f1o-mes-d\\u00eda)\": \"2020-04-28\", \"fallecidos confirmados\": 62}, {\"index\": 6, \"Grupo de edad\": \">=90\", \"fecha (a\\u00f1o-mes-d\\u00eda)\": \"2020-04-28\", \"fallecidos confirmados\": 20}, {\"index\": 0, \"Grupo de edad\": \"<=39\", \"fecha (a\\u00f1o-mes-d\\u00eda)\": \"2020-04-29\", \"fallecidos confirmados\": 6}, {\"index\": 1, \"Grupo de edad\": \"40-49\", \"fecha (a\\u00f1o-mes-d\\u00eda)\": \"2020-04-29\", \"fallecidos confirmados\": 9}, {\"index\": 2, \"Grupo de edad\": \"50-59\", \"fecha (a\\u00f1o-mes-d\\u00eda)\": \"2020-04-29\", \"fallecidos confirmados\": 17}, {\"index\": 3, \"Grupo de edad\": \"60-69\", \"fecha (a\\u00f1o-mes-d\\u00eda)\": \"2020-04-29\", \"fallecidos confirmados\": 38}, {\"index\": 4, \"Grupo de edad\": \"70-79\", \"fecha (a\\u00f1o-mes-d\\u00eda)\": \"2020-04-29\", \"fallecidos confirmados\": 60}, {\"index\": 5, \"Grupo de edad\": \"80-89\", \"fecha (a\\u00f1o-mes-d\\u00eda)\": \"2020-04-29\", \"fallecidos confirmados\": 65}, {\"index\": 6, \"Grupo de edad\": \">=90\", \"fecha (a\\u00f1o-mes-d\\u00eda)\": \"2020-04-29\", \"fallecidos confirmados\": 21}, {\"index\": 0, \"Grupo de edad\": \"<=39\", \"fecha (a\\u00f1o-mes-d\\u00eda)\": \"2020-04-30\", \"fallecidos confirmados\": 6}, {\"index\": 1, \"Grupo de edad\": \"40-49\", \"fecha (a\\u00f1o-mes-d\\u00eda)\": \"2020-04-30\", \"fallecidos confirmados\": 10}, {\"index\": 2, \"Grupo de edad\": \"50-59\", \"fecha (a\\u00f1o-mes-d\\u00eda)\": \"2020-04-30\", \"fallecidos confirmados\": 17}, {\"index\": 3, \"Grupo de edad\": \"60-69\", \"fecha (a\\u00f1o-mes-d\\u00eda)\": \"2020-04-30\", \"fallecidos confirmados\": 40}, {\"index\": 4, \"Grupo de edad\": \"70-79\", \"fecha (a\\u00f1o-mes-d\\u00eda)\": \"2020-04-30\", \"fallecidos confirmados\": 65}, {\"index\": 5, \"Grupo de edad\": \"80-89\", \"fecha (a\\u00f1o-mes-d\\u00eda)\": \"2020-04-30\", \"fallecidos confirmados\": 68}, {\"index\": 6, \"Grupo de edad\": \">=90\", \"fecha (a\\u00f1o-mes-d\\u00eda)\": \"2020-04-30\", \"fallecidos confirmados\": 21}, {\"index\": 0, \"Grupo de edad\": \"<=39\", \"fecha (a\\u00f1o-mes-d\\u00eda)\": \"2020-05-01\", \"fallecidos confirmados\": 6}, {\"index\": 1, \"Grupo de edad\": \"40-49\", \"fecha (a\\u00f1o-mes-d\\u00eda)\": \"2020-05-01\", \"fallecidos confirmados\": 10}, {\"index\": 2, \"Grupo de edad\": \"50-59\", \"fecha (a\\u00f1o-mes-d\\u00eda)\": \"2020-05-01\", \"fallecidos confirmados\": 18}, {\"index\": 3, \"Grupo de edad\": \"60-69\", \"fecha (a\\u00f1o-mes-d\\u00eda)\": \"2020-05-01\", \"fallecidos confirmados\": 41}, {\"index\": 4, \"Grupo de edad\": \"70-79\", \"fecha (a\\u00f1o-mes-d\\u00eda)\": \"2020-05-01\", \"fallecidos confirmados\": 68}, {\"index\": 5, \"Grupo de edad\": \"80-89\", \"fecha (a\\u00f1o-mes-d\\u00eda)\": \"2020-05-01\", \"fallecidos confirmados\": 70}, {\"index\": 6, \"Grupo de edad\": \">=90\", \"fecha (a\\u00f1o-mes-d\\u00eda)\": \"2020-05-01\", \"fallecidos confirmados\": 21}, {\"index\": 0, \"Grupo de edad\": \"<=39\", \"fecha (a\\u00f1o-mes-d\\u00eda)\": \"2020-05-02\", \"fallecidos confirmados\": 6}, {\"index\": 1, \"Grupo de edad\": \"40-49\", \"fecha (a\\u00f1o-mes-d\\u00eda)\": \"2020-05-02\", \"fallecidos confirmados\": 11}, {\"index\": 2, \"Grupo de edad\": \"50-59\", \"fecha (a\\u00f1o-mes-d\\u00eda)\": \"2020-05-02\", \"fallecidos confirmados\": 18}, {\"index\": 3, \"Grupo de edad\": \"60-69\", \"fecha (a\\u00f1o-mes-d\\u00eda)\": \"2020-05-02\", \"fallecidos confirmados\": 43}, {\"index\": 4, \"Grupo de edad\": \"70-79\", \"fecha (a\\u00f1o-mes-d\\u00eda)\": \"2020-05-02\", \"fallecidos confirmados\": 72}, {\"index\": 5, \"Grupo de edad\": \"80-89\", \"fecha (a\\u00f1o-mes-d\\u00eda)\": \"2020-05-02\", \"fallecidos confirmados\": 75}, {\"index\": 6, \"Grupo de edad\": \">=90\", \"fecha (a\\u00f1o-mes-d\\u00eda)\": \"2020-05-02\", \"fallecidos confirmados\": 23}, {\"index\": 0, \"Grupo de edad\": \"<=39\", \"fecha (a\\u00f1o-mes-d\\u00eda)\": \"2020-05-03\", \"fallecidos confirmados\": 6}, {\"index\": 1, \"Grupo de edad\": \"40-49\", \"fecha (a\\u00f1o-mes-d\\u00eda)\": \"2020-05-03\", \"fallecidos confirmados\": 12}, {\"index\": 2, \"Grupo de edad\": \"50-59\", \"fecha (a\\u00f1o-mes-d\\u00eda)\": \"2020-05-03\", \"fallecidos confirmados\": 18}, {\"index\": 3, \"Grupo de edad\": \"60-69\", \"fecha (a\\u00f1o-mes-d\\u00eda)\": \"2020-05-03\", \"fallecidos confirmados\": 45}, {\"index\": 4, \"Grupo de edad\": \"70-79\", \"fecha (a\\u00f1o-mes-d\\u00eda)\": \"2020-05-03\", \"fallecidos confirmados\": 73}, {\"index\": 5, \"Grupo de edad\": \"80-89\", \"fecha (a\\u00f1o-mes-d\\u00eda)\": \"2020-05-03\", \"fallecidos confirmados\": 80}, {\"index\": 6, \"Grupo de edad\": \">=90\", \"fecha (a\\u00f1o-mes-d\\u00eda)\": \"2020-05-03\", \"fallecidos confirmados\": 26}, {\"index\": 0, \"Grupo de edad\": \"<=39\", \"fecha (a\\u00f1o-mes-d\\u00eda)\": \"2020-05-04\", \"fallecidos confirmados\": 6}, {\"index\": 1, \"Grupo de edad\": \"40-49\", \"fecha (a\\u00f1o-mes-d\\u00eda)\": \"2020-05-04\", \"fallecidos confirmados\": 12}, {\"index\": 2, \"Grupo de edad\": \"50-59\", \"fecha (a\\u00f1o-mes-d\\u00eda)\": \"2020-05-04\", \"fallecidos confirmados\": 20}, {\"index\": 3, \"Grupo de edad\": \"60-69\", \"fecha (a\\u00f1o-mes-d\\u00eda)\": \"2020-05-04\", \"fallecidos confirmados\": 46}, {\"index\": 4, \"Grupo de edad\": \"70-79\", \"fecha (a\\u00f1o-mes-d\\u00eda)\": \"2020-05-04\", \"fallecidos confirmados\": 76}, {\"index\": 5, \"Grupo de edad\": \"80-89\", \"fecha (a\\u00f1o-mes-d\\u00eda)\": \"2020-05-04\", \"fallecidos confirmados\": 83}, {\"index\": 6, \"Grupo de edad\": \">=90\", \"fecha (a\\u00f1o-mes-d\\u00eda)\": \"2020-05-04\", \"fallecidos confirmados\": 27}, {\"index\": 0, \"Grupo de edad\": \"<=39\", \"fecha (a\\u00f1o-mes-d\\u00eda)\": \"2020-05-05\", \"fallecidos confirmados\": 6}, {\"index\": 1, \"Grupo de edad\": \"40-49\", \"fecha (a\\u00f1o-mes-d\\u00eda)\": \"2020-05-05\", \"fallecidos confirmados\": 13}, {\"index\": 2, \"Grupo de edad\": \"50-59\", \"fecha (a\\u00f1o-mes-d\\u00eda)\": \"2020-05-05\", \"fallecidos confirmados\": 20}, {\"index\": 3, \"Grupo de edad\": \"60-69\", \"fecha (a\\u00f1o-mes-d\\u00eda)\": \"2020-05-05\", \"fallecidos confirmados\": 46}, {\"index\": 4, \"Grupo de edad\": \"70-79\", \"fecha (a\\u00f1o-mes-d\\u00eda)\": \"2020-05-05\", \"fallecidos confirmados\": 76}, {\"index\": 5, \"Grupo de edad\": \"80-89\", \"fecha (a\\u00f1o-mes-d\\u00eda)\": \"2020-05-05\", \"fallecidos confirmados\": 85}, {\"index\": 6, \"Grupo de edad\": \">=90\", \"fecha (a\\u00f1o-mes-d\\u00eda)\": \"2020-05-05\", \"fallecidos confirmados\": 29}, {\"index\": 0, \"Grupo de edad\": \"<=39\", \"fecha (a\\u00f1o-mes-d\\u00eda)\": \"2020-05-06\", \"fallecidos confirmados\": 6}, {\"index\": 1, \"Grupo de edad\": \"40-49\", \"fecha (a\\u00f1o-mes-d\\u00eda)\": \"2020-05-06\", \"fallecidos confirmados\": 13}, {\"index\": 2, \"Grupo de edad\": \"50-59\", \"fecha (a\\u00f1o-mes-d\\u00eda)\": \"2020-05-06\", \"fallecidos confirmados\": 20}, {\"index\": 3, \"Grupo de edad\": \"60-69\", \"fecha (a\\u00f1o-mes-d\\u00eda)\": \"2020-05-06\", \"fallecidos confirmados\": 47}, {\"index\": 4, \"Grupo de edad\": \"70-79\", \"fecha (a\\u00f1o-mes-d\\u00eda)\": \"2020-05-06\", \"fallecidos confirmados\": 76}, {\"index\": 5, \"Grupo de edad\": \"80-89\", \"fecha (a\\u00f1o-mes-d\\u00eda)\": \"2020-05-06\", \"fallecidos confirmados\": 89}, {\"index\": 6, \"Grupo de edad\": \">=90\", \"fecha (a\\u00f1o-mes-d\\u00eda)\": \"2020-05-06\", \"fallecidos confirmados\": 30}, {\"index\": 0, \"Grupo de edad\": \"<=39\", \"fecha (a\\u00f1o-mes-d\\u00eda)\": \"2020-05-07\", \"fallecidos confirmados\": 6}, {\"index\": 1, \"Grupo de edad\": \"40-49\", \"fecha (a\\u00f1o-mes-d\\u00eda)\": \"2020-05-07\", \"fallecidos confirmados\": 13}, {\"index\": 2, \"Grupo de edad\": \"50-59\", \"fecha (a\\u00f1o-mes-d\\u00eda)\": \"2020-05-07\", \"fallecidos confirmados\": 21}, {\"index\": 3, \"Grupo de edad\": \"60-69\", \"fecha (a\\u00f1o-mes-d\\u00eda)\": \"2020-05-07\", \"fallecidos confirmados\": 47}, {\"index\": 4, \"Grupo de edad\": \"70-79\", \"fecha (a\\u00f1o-mes-d\\u00eda)\": \"2020-05-07\", \"fallecidos confirmados\": 76}, {\"index\": 5, \"Grupo de edad\": \"80-89\", \"fecha (a\\u00f1o-mes-d\\u00eda)\": \"2020-05-07\", \"fallecidos confirmados\": 92}, {\"index\": 6, \"Grupo de edad\": \">=90\", \"fecha (a\\u00f1o-mes-d\\u00eda)\": \"2020-05-07\", \"fallecidos confirmados\": 30}, {\"index\": 0, \"Grupo de edad\": \"<=39\", \"fecha (a\\u00f1o-mes-d\\u00eda)\": \"2020-05-08\", \"fallecidos confirmados\": 7}, {\"index\": 1, \"Grupo de edad\": \"40-49\", \"fecha (a\\u00f1o-mes-d\\u00eda)\": \"2020-05-08\", \"fallecidos confirmados\": 14}, {\"index\": 2, \"Grupo de edad\": \"50-59\", \"fecha (a\\u00f1o-mes-d\\u00eda)\": \"2020-05-08\", \"fallecidos confirmados\": 21}, {\"index\": 3, \"Grupo de edad\": \"60-69\", \"fecha (a\\u00f1o-mes-d\\u00eda)\": \"2020-05-08\", \"fallecidos confirmados\": 49}, {\"index\": 4, \"Grupo de edad\": \"70-79\", \"fecha (a\\u00f1o-mes-d\\u00eda)\": \"2020-05-08\", \"fallecidos confirmados\": 80}, {\"index\": 5, \"Grupo de edad\": \"80-89\", \"fecha (a\\u00f1o-mes-d\\u00eda)\": \"2020-05-08\", \"fallecidos confirmados\": 93}, {\"index\": 6, \"Grupo de edad\": \">=90\", \"fecha (a\\u00f1o-mes-d\\u00eda)\": \"2020-05-08\", \"fallecidos confirmados\": 30}, {\"index\": 0, \"Grupo de edad\": \"<=39\", \"fecha (a\\u00f1o-mes-d\\u00eda)\": \"2020-05-09\", \"fallecidos confirmados\": 7}, {\"index\": 1, \"Grupo de edad\": \"40-49\", \"fecha (a\\u00f1o-mes-d\\u00eda)\": \"2020-05-09\", \"fallecidos confirmados\": 15}, {\"index\": 2, \"Grupo de edad\": \"50-59\", \"fecha (a\\u00f1o-mes-d\\u00eda)\": \"2020-05-09\", \"fallecidos confirmados\": 22}, {\"index\": 3, \"Grupo de edad\": \"60-69\", \"fecha (a\\u00f1o-mes-d\\u00eda)\": \"2020-05-09\", \"fallecidos confirmados\": 52}, {\"index\": 4, \"Grupo de edad\": \"70-79\", \"fecha (a\\u00f1o-mes-d\\u00eda)\": \"2020-05-09\", \"fallecidos confirmados\": 82}, {\"index\": 5, \"Grupo de edad\": \"80-89\", \"fecha (a\\u00f1o-mes-d\\u00eda)\": \"2020-05-09\", \"fallecidos confirmados\": 93}, {\"index\": 6, \"Grupo de edad\": \">=90\", \"fecha (a\\u00f1o-mes-d\\u00eda)\": \"2020-05-09\", \"fallecidos confirmados\": 33}, {\"index\": 0, \"Grupo de edad\": \"<=39\", \"fecha (a\\u00f1o-mes-d\\u00eda)\": \"2020-05-10\", \"fallecidos confirmados\": 7}, {\"index\": 1, \"Grupo de edad\": \"40-49\", \"fecha (a\\u00f1o-mes-d\\u00eda)\": \"2020-05-10\", \"fallecidos confirmados\": 16}, {\"index\": 2, \"Grupo de edad\": \"50-59\", \"fecha (a\\u00f1o-mes-d\\u00eda)\": \"2020-05-10\", \"fallecidos confirmados\": 22}, {\"index\": 3, \"Grupo de edad\": \"60-69\", \"fecha (a\\u00f1o-mes-d\\u00eda)\": \"2020-05-10\", \"fallecidos confirmados\": 54}, {\"index\": 4, \"Grupo de edad\": \"70-79\", \"fecha (a\\u00f1o-mes-d\\u00eda)\": \"2020-05-10\", \"fallecidos confirmados\": 84}, {\"index\": 5, \"Grupo de edad\": \"80-89\", \"fecha (a\\u00f1o-mes-d\\u00eda)\": \"2020-05-10\", \"fallecidos confirmados\": 95}, {\"index\": 6, \"Grupo de edad\": \">=90\", \"fecha (a\\u00f1o-mes-d\\u00eda)\": \"2020-05-10\", \"fallecidos confirmados\": 34}, {\"index\": 0, \"Grupo de edad\": \"<=39\", \"fecha (a\\u00f1o-mes-d\\u00eda)\": \"2020-05-11\", \"fallecidos confirmados\": 7}, {\"index\": 1, \"Grupo de edad\": \"40-49\", \"fecha (a\\u00f1o-mes-d\\u00eda)\": \"2020-05-11\", \"fallecidos confirmados\": 16}, {\"index\": 2, \"Grupo de edad\": \"50-59\", \"fecha (a\\u00f1o-mes-d\\u00eda)\": \"2020-05-11\", \"fallecidos confirmados\": 23}, {\"index\": 3, \"Grupo de edad\": \"60-69\", \"fecha (a\\u00f1o-mes-d\\u00eda)\": \"2020-05-11\", \"fallecidos confirmados\": 56}, {\"index\": 4, \"Grupo de edad\": \"70-79\", \"fecha (a\\u00f1o-mes-d\\u00eda)\": \"2020-05-11\", \"fallecidos confirmados\": 89}, {\"index\": 5, \"Grupo de edad\": \"80-89\", \"fecha (a\\u00f1o-mes-d\\u00eda)\": \"2020-05-11\", \"fallecidos confirmados\": 96}, {\"index\": 6, \"Grupo de edad\": \">=90\", \"fecha (a\\u00f1o-mes-d\\u00eda)\": \"2020-05-11\", \"fallecidos confirmados\": 36}, {\"index\": 0, \"Grupo de edad\": \"<=39\", \"fecha (a\\u00f1o-mes-d\\u00eda)\": \"2020-05-12\", \"fallecidos confirmados\": 8}, {\"index\": 1, \"Grupo de edad\": \"40-49\", \"fecha (a\\u00f1o-mes-d\\u00eda)\": \"2020-05-12\", \"fallecidos confirmados\": 18}, {\"index\": 2, \"Grupo de edad\": \"50-59\", \"fecha (a\\u00f1o-mes-d\\u00eda)\": \"2020-05-12\", \"fallecidos confirmados\": 24}, {\"index\": 3, \"Grupo de edad\": \"60-69\", \"fecha (a\\u00f1o-mes-d\\u00eda)\": \"2020-05-12\", \"fallecidos confirmados\": 56}, {\"index\": 4, \"Grupo de edad\": \"70-79\", \"fecha (a\\u00f1o-mes-d\\u00eda)\": \"2020-05-12\", \"fallecidos confirmados\": 92}, {\"index\": 5, \"Grupo de edad\": \"80-89\", \"fecha (a\\u00f1o-mes-d\\u00eda)\": \"2020-05-12\", \"fallecidos confirmados\": 99}, {\"index\": 6, \"Grupo de edad\": \">=90\", \"fecha (a\\u00f1o-mes-d\\u00eda)\": \"2020-05-12\", \"fallecidos confirmados\": 38}, {\"index\": 0, \"Grupo de edad\": \"<=39\", \"fecha (a\\u00f1o-mes-d\\u00eda)\": \"2020-05-13\", \"fallecidos confirmados\": 8}, {\"index\": 1, \"Grupo de edad\": \"40-49\", \"fecha (a\\u00f1o-mes-d\\u00eda)\": \"2020-05-13\", \"fallecidos confirmados\": 19}, {\"index\": 2, \"Grupo de edad\": \"50-59\", \"fecha (a\\u00f1o-mes-d\\u00eda)\": \"2020-05-13\", \"fallecidos confirmados\": 27}, {\"index\": 3, \"Grupo de edad\": \"60-69\", \"fecha (a\\u00f1o-mes-d\\u00eda)\": \"2020-05-13\", \"fallecidos confirmados\": 58}, {\"index\": 4, \"Grupo de edad\": \"70-79\", \"fecha (a\\u00f1o-mes-d\\u00eda)\": \"2020-05-13\", \"fallecidos confirmados\": 94}, {\"index\": 5, \"Grupo de edad\": \"80-89\", \"fecha (a\\u00f1o-mes-d\\u00eda)\": \"2020-05-13\", \"fallecidos confirmados\": 102}, {\"index\": 6, \"Grupo de edad\": \">=90\", \"fecha (a\\u00f1o-mes-d\\u00eda)\": \"2020-05-13\", \"fallecidos confirmados\": 38}, {\"index\": 0, \"Grupo de edad\": \"<=39\", \"fecha (a\\u00f1o-mes-d\\u00eda)\": \"2020-05-14\", \"fallecidos confirmados\": 9}, {\"index\": 1, \"Grupo de edad\": \"40-49\", \"fecha (a\\u00f1o-mes-d\\u00eda)\": \"2020-05-14\", \"fallecidos confirmados\": 22}, {\"index\": 2, \"Grupo de edad\": \"50-59\", \"fecha (a\\u00f1o-mes-d\\u00eda)\": \"2020-05-14\", \"fallecidos confirmados\": 27}, {\"index\": 3, \"Grupo de edad\": \"60-69\", \"fecha (a\\u00f1o-mes-d\\u00eda)\": \"2020-05-14\", \"fallecidos confirmados\": 63}, {\"index\": 4, \"Grupo de edad\": \"70-79\", \"fecha (a\\u00f1o-mes-d\\u00eda)\": \"2020-05-14\", \"fallecidos confirmados\": 102}, {\"index\": 5, \"Grupo de edad\": \"80-89\", \"fecha (a\\u00f1o-mes-d\\u00eda)\": \"2020-05-14\", \"fallecidos confirmados\": 107}, {\"index\": 6, \"Grupo de edad\": \">=90\", \"fecha (a\\u00f1o-mes-d\\u00eda)\": \"2020-05-14\", \"fallecidos confirmados\": 38}, {\"index\": 0, \"Grupo de edad\": \"<=39\", \"fecha (a\\u00f1o-mes-d\\u00eda)\": \"2020-05-15\", \"fallecidos confirmados\": 10}, {\"index\": 1, \"Grupo de edad\": \"40-49\", \"fecha (a\\u00f1o-mes-d\\u00eda)\": \"2020-05-15\", \"fallecidos confirmados\": 22}, {\"index\": 2, \"Grupo de edad\": \"50-59\", \"fecha (a\\u00f1o-mes-d\\u00eda)\": \"2020-05-15\", \"fallecidos confirmados\": 31}, {\"index\": 3, \"Grupo de edad\": \"60-69\", \"fecha (a\\u00f1o-mes-d\\u00eda)\": \"2020-05-15\", \"fallecidos confirmados\": 65}, {\"index\": 4, \"Grupo de edad\": \"70-79\", \"fecha (a\\u00f1o-mes-d\\u00eda)\": \"2020-05-15\", \"fallecidos confirmados\": 110}, {\"index\": 5, \"Grupo de edad\": \"80-89\", \"fecha (a\\u00f1o-mes-d\\u00eda)\": \"2020-05-15\", \"fallecidos confirmados\": 117}, {\"index\": 6, \"Grupo de edad\": \">=90\", \"fecha (a\\u00f1o-mes-d\\u00eda)\": \"2020-05-15\", \"fallecidos confirmados\": 39}, {\"index\": 0, \"Grupo de edad\": \"<=39\", \"fecha (a\\u00f1o-mes-d\\u00eda)\": \"2020-05-16\", \"fallecidos confirmados\": 10}, {\"index\": 1, \"Grupo de edad\": \"40-49\", \"fecha (a\\u00f1o-mes-d\\u00eda)\": \"2020-05-16\", \"fallecidos confirmados\": 24}, {\"index\": 2, \"Grupo de edad\": \"50-59\", \"fecha (a\\u00f1o-mes-d\\u00eda)\": \"2020-05-16\", \"fallecidos confirmados\": 32}, {\"index\": 3, \"Grupo de edad\": \"60-69\", \"fecha (a\\u00f1o-mes-d\\u00eda)\": \"2020-05-16\", \"fallecidos confirmados\": 73}, {\"index\": 4, \"Grupo de edad\": \"70-79\", \"fecha (a\\u00f1o-mes-d\\u00eda)\": \"2020-05-16\", \"fallecidos confirmados\": 118}, {\"index\": 5, \"Grupo de edad\": \"80-89\", \"fecha (a\\u00f1o-mes-d\\u00eda)\": \"2020-05-16\", \"fallecidos confirmados\": 123}, {\"index\": 6, \"Grupo de edad\": \">=90\", \"fecha (a\\u00f1o-mes-d\\u00eda)\": \"2020-05-16\", \"fallecidos confirmados\": 41}, {\"index\": 0, \"Grupo de edad\": \"<=39\", \"fecha (a\\u00f1o-mes-d\\u00eda)\": \"2020-05-17\", \"fallecidos confirmados\": 10}, {\"index\": 1, \"Grupo de edad\": \"40-49\", \"fecha (a\\u00f1o-mes-d\\u00eda)\": \"2020-05-17\", \"fallecidos confirmados\": 25}, {\"index\": 2, \"Grupo de edad\": \"50-59\", \"fecha (a\\u00f1o-mes-d\\u00eda)\": \"2020-05-17\", \"fallecidos confirmados\": 35}, {\"index\": 3, \"Grupo de edad\": \"60-69\", \"fecha (a\\u00f1o-mes-d\\u00eda)\": \"2020-05-17\", \"fallecidos confirmados\": 78}, {\"index\": 4, \"Grupo de edad\": \"70-79\", \"fecha (a\\u00f1o-mes-d\\u00eda)\": \"2020-05-17\", \"fallecidos confirmados\": 126}, {\"index\": 5, \"Grupo de edad\": \"80-89\", \"fecha (a\\u00f1o-mes-d\\u00eda)\": \"2020-05-17\", \"fallecidos confirmados\": 132}, {\"index\": 6, \"Grupo de edad\": \">=90\", \"fecha (a\\u00f1o-mes-d\\u00eda)\": \"2020-05-17\", \"fallecidos confirmados\": 44}, {\"index\": 0, \"Grupo de edad\": \"<=39\", \"fecha (a\\u00f1o-mes-d\\u00eda)\": \"2020-05-18\", \"fallecidos confirmados\": 10}, {\"index\": 1, \"Grupo de edad\": \"40-49\", \"fecha (a\\u00f1o-mes-d\\u00eda)\": \"2020-05-18\", \"fallecidos confirmados\": 28}, {\"index\": 2, \"Grupo de edad\": \"50-59\", \"fecha (a\\u00f1o-mes-d\\u00eda)\": \"2020-05-18\", \"fallecidos confirmados\": 40}, {\"index\": 3, \"Grupo de edad\": \"60-69\", \"fecha (a\\u00f1o-mes-d\\u00eda)\": \"2020-05-18\", \"fallecidos confirmados\": 82}, {\"index\": 4, \"Grupo de edad\": \"70-79\", \"fecha (a\\u00f1o-mes-d\\u00eda)\": \"2020-05-18\", \"fallecidos confirmados\": 133}, {\"index\": 5, \"Grupo de edad\": \"80-89\", \"fecha (a\\u00f1o-mes-d\\u00eda)\": \"2020-05-18\", \"fallecidos confirmados\": 136}, {\"index\": 6, \"Grupo de edad\": \">=90\", \"fecha (a\\u00f1o-mes-d\\u00eda)\": \"2020-05-18\", \"fallecidos confirmados\": 49}, {\"index\": 0, \"Grupo de edad\": \"<=39\", \"fecha (a\\u00f1o-mes-d\\u00eda)\": \"2020-05-19\", \"fallecidos confirmados\": 11}, {\"index\": 1, \"Grupo de edad\": \"40-49\", \"fecha (a\\u00f1o-mes-d\\u00eda)\": \"2020-05-19\", \"fallecidos confirmados\": 30}, {\"index\": 2, \"Grupo de edad\": \"50-59\", \"fecha (a\\u00f1o-mes-d\\u00eda)\": \"2020-05-19\", \"fallecidos confirmados\": 47}, {\"index\": 3, \"Grupo de edad\": \"60-69\", \"fecha (a\\u00f1o-mes-d\\u00eda)\": \"2020-05-19\", \"fallecidos confirmados\": 83}, {\"index\": 4, \"Grupo de edad\": \"70-79\", \"fecha (a\\u00f1o-mes-d\\u00eda)\": \"2020-05-19\", \"fallecidos confirmados\": 141}, {\"index\": 5, \"Grupo de edad\": \"80-89\", \"fecha (a\\u00f1o-mes-d\\u00eda)\": \"2020-05-19\", \"fallecidos confirmados\": 145}, {\"index\": 6, \"Grupo de edad\": \">=90\", \"fecha (a\\u00f1o-mes-d\\u00eda)\": \"2020-05-19\", \"fallecidos confirmados\": 52}, {\"index\": 0, \"Grupo de edad\": \"<=39\", \"fecha (a\\u00f1o-mes-d\\u00eda)\": \"2020-05-20\", \"fallecidos confirmados\": 11}, {\"index\": 1, \"Grupo de edad\": \"40-49\", \"fecha (a\\u00f1o-mes-d\\u00eda)\": \"2020-05-20\", \"fallecidos confirmados\": 31}, {\"index\": 2, \"Grupo de edad\": \"50-59\", \"fecha (a\\u00f1o-mes-d\\u00eda)\": \"2020-05-20\", \"fallecidos confirmados\": 51}, {\"index\": 3, \"Grupo de edad\": \"60-69\", \"fecha (a\\u00f1o-mes-d\\u00eda)\": \"2020-05-20\", \"fallecidos confirmados\": 92}, {\"index\": 4, \"Grupo de edad\": \"70-79\", \"fecha (a\\u00f1o-mes-d\\u00eda)\": \"2020-05-20\", \"fallecidos confirmados\": 152}, {\"index\": 5, \"Grupo de edad\": \"80-89\", \"fecha (a\\u00f1o-mes-d\\u00eda)\": \"2020-05-20\", \"fallecidos confirmados\": 152}, {\"index\": 6, \"Grupo de edad\": \">=90\", \"fecha (a\\u00f1o-mes-d\\u00eda)\": \"2020-05-20\", \"fallecidos confirmados\": 55}, {\"index\": 0, \"Grupo de edad\": \"<=39\", \"fecha (a\\u00f1o-mes-d\\u00eda)\": \"2020-05-21\", \"fallecidos confirmados\": 12}, {\"index\": 1, \"Grupo de edad\": \"40-49\", \"fecha (a\\u00f1o-mes-d\\u00eda)\": \"2020-05-21\", \"fallecidos confirmados\": 32}, {\"index\": 2, \"Grupo de edad\": \"50-59\", \"fecha (a\\u00f1o-mes-d\\u00eda)\": \"2020-05-21\", \"fallecidos confirmados\": 57}, {\"index\": 3, \"Grupo de edad\": \"60-69\", \"fecha (a\\u00f1o-mes-d\\u00eda)\": \"2020-05-21\", \"fallecidos confirmados\": 99}, {\"index\": 4, \"Grupo de edad\": \"70-79\", \"fecha (a\\u00f1o-mes-d\\u00eda)\": \"2020-05-21\", \"fallecidos confirmados\": 173}, {\"index\": 5, \"Grupo de edad\": \"80-89\", \"fecha (a\\u00f1o-mes-d\\u00eda)\": \"2020-05-21\", \"fallecidos confirmados\": 159}, {\"index\": 6, \"Grupo de edad\": \">=90\", \"fecha (a\\u00f1o-mes-d\\u00eda)\": \"2020-05-21\", \"fallecidos confirmados\": 57}, {\"index\": 0, \"Grupo de edad\": \"<=39\", \"fecha (a\\u00f1o-mes-d\\u00eda)\": \"2020-05-22\", \"fallecidos confirmados\": 13}, {\"index\": 1, \"Grupo de edad\": \"40-49\", \"fecha (a\\u00f1o-mes-d\\u00eda)\": \"2020-05-22\", \"fallecidos confirmados\": 33}, {\"index\": 2, \"Grupo de edad\": \"50-59\", \"fecha (a\\u00f1o-mes-d\\u00eda)\": \"2020-05-22\", \"fallecidos confirmados\": 58}, {\"index\": 3, \"Grupo de edad\": \"60-69\", \"fecha (a\\u00f1o-mes-d\\u00eda)\": \"2020-05-22\", \"fallecidos confirmados\": 106}, {\"index\": 4, \"Grupo de edad\": \"70-79\", \"fecha (a\\u00f1o-mes-d\\u00eda)\": \"2020-05-22\", \"fallecidos confirmados\": 183}, {\"index\": 5, \"Grupo de edad\": \"80-89\", \"fecha (a\\u00f1o-mes-d\\u00eda)\": \"2020-05-22\", \"fallecidos confirmados\": 178}, {\"index\": 6, \"Grupo de edad\": \">=90\", \"fecha (a\\u00f1o-mes-d\\u00eda)\": \"2020-05-22\", \"fallecidos confirmados\": 59}, {\"index\": 0, \"Grupo de edad\": \"<=39\", \"fecha (a\\u00f1o-mes-d\\u00eda)\": \"2020-05-23\", \"fallecidos confirmados\": 14}, {\"index\": 1, \"Grupo de edad\": \"40-49\", \"fecha (a\\u00f1o-mes-d\\u00eda)\": \"2020-05-23\", \"fallecidos confirmados\": 35}, {\"index\": 2, \"Grupo de edad\": \"50-59\", \"fecha (a\\u00f1o-mes-d\\u00eda)\": \"2020-05-23\", \"fallecidos confirmados\": 64}, {\"index\": 3, \"Grupo de edad\": \"60-69\", \"fecha (a\\u00f1o-mes-d\\u00eda)\": \"2020-05-23\", \"fallecidos confirmados\": 112}, {\"index\": 4, \"Grupo de edad\": \"70-79\", \"fecha (a\\u00f1o-mes-d\\u00eda)\": \"2020-05-23\", \"fallecidos confirmados\": 193}, {\"index\": 5, \"Grupo de edad\": \"80-89\", \"fecha (a\\u00f1o-mes-d\\u00eda)\": \"2020-05-23\", \"fallecidos confirmados\": 193}, {\"index\": 6, \"Grupo de edad\": \">=90\", \"fecha (a\\u00f1o-mes-d\\u00eda)\": \"2020-05-23\", \"fallecidos confirmados\": 62}, {\"index\": 0, \"Grupo de edad\": \"<=39\", \"fecha (a\\u00f1o-mes-d\\u00eda)\": \"2020-05-24\", \"fallecidos confirmados\": 16}, {\"index\": 1, \"Grupo de edad\": \"40-49\", \"fecha (a\\u00f1o-mes-d\\u00eda)\": \"2020-05-24\", \"fallecidos confirmados\": 38}, {\"index\": 2, \"Grupo de edad\": \"50-59\", \"fecha (a\\u00f1o-mes-d\\u00eda)\": \"2020-05-24\", \"fallecidos confirmados\": 67}, {\"index\": 3, \"Grupo de edad\": \"60-69\", \"fecha (a\\u00f1o-mes-d\\u00eda)\": \"2020-05-24\", \"fallecidos confirmados\": 121}, {\"index\": 4, \"Grupo de edad\": \"70-79\", \"fecha (a\\u00f1o-mes-d\\u00eda)\": \"2020-05-24\", \"fallecidos confirmados\": 210}, {\"index\": 5, \"Grupo de edad\": \"80-89\", \"fecha (a\\u00f1o-mes-d\\u00eda)\": \"2020-05-24\", \"fallecidos confirmados\": 200}, {\"index\": 6, \"Grupo de edad\": \">=90\", \"fecha (a\\u00f1o-mes-d\\u00eda)\": \"2020-05-24\", \"fallecidos confirmados\": 66}, {\"index\": 0, \"Grupo de edad\": \"<=39\", \"fecha (a\\u00f1o-mes-d\\u00eda)\": \"2020-05-25\", \"fallecidos confirmados\": 16}, {\"index\": 1, \"Grupo de edad\": \"40-49\", \"fecha (a\\u00f1o-mes-d\\u00eda)\": \"2020-05-25\", \"fallecidos confirmados\": 41}, {\"index\": 2, \"Grupo de edad\": \"50-59\", \"fecha (a\\u00f1o-mes-d\\u00eda)\": \"2020-05-25\", \"fallecidos confirmados\": 69}, {\"index\": 3, \"Grupo de edad\": \"60-69\", \"fecha (a\\u00f1o-mes-d\\u00eda)\": \"2020-05-25\", \"fallecidos confirmados\": 128}, {\"index\": 4, \"Grupo de edad\": \"70-79\", \"fecha (a\\u00f1o-mes-d\\u00eda)\": \"2020-05-25\", \"fallecidos confirmados\": 225}, {\"index\": 5, \"Grupo de edad\": \"80-89\", \"fecha (a\\u00f1o-mes-d\\u00eda)\": \"2020-05-25\", \"fallecidos confirmados\": 208}, {\"index\": 6, \"Grupo de edad\": \">=90\", \"fecha (a\\u00f1o-mes-d\\u00eda)\": \"2020-05-25\", \"fallecidos confirmados\": 74}, {\"index\": 0, \"Grupo de edad\": \"<=39\", \"fecha (a\\u00f1o-mes-d\\u00eda)\": \"2020-05-26\", \"fallecidos confirmados\": 16}, {\"index\": 1, \"Grupo de edad\": \"40-49\", \"fecha (a\\u00f1o-mes-d\\u00eda)\": \"2020-05-26\", \"fallecidos confirmados\": 42}, {\"index\": 2, \"Grupo de edad\": \"50-59\", \"fecha (a\\u00f1o-mes-d\\u00eda)\": \"2020-05-26\", \"fallecidos confirmados\": 76}, {\"index\": 3, \"Grupo de edad\": \"60-69\", \"fecha (a\\u00f1o-mes-d\\u00eda)\": \"2020-05-26\", \"fallecidos confirmados\": 137}, {\"index\": 4, \"Grupo de edad\": \"70-79\", \"fecha (a\\u00f1o-mes-d\\u00eda)\": \"2020-05-26\", \"fallecidos confirmados\": 239}, {\"index\": 5, \"Grupo de edad\": \"80-89\", \"fecha (a\\u00f1o-mes-d\\u00eda)\": \"2020-05-26\", \"fallecidos confirmados\": 218}, {\"index\": 6, \"Grupo de edad\": \">=90\", \"fecha (a\\u00f1o-mes-d\\u00eda)\": \"2020-05-26\", \"fallecidos confirmados\": 78}, {\"index\": 0, \"Grupo de edad\": \"<=39\", \"fecha (a\\u00f1o-mes-d\\u00eda)\": \"2020-05-27\", \"fallecidos confirmados\": 16}, {\"index\": 1, \"Grupo de edad\": \"40-49\", \"fecha (a\\u00f1o-mes-d\\u00eda)\": \"2020-05-27\", \"fallecidos confirmados\": 43}, {\"index\": 2, \"Grupo de edad\": \"50-59\", \"fecha (a\\u00f1o-mes-d\\u00eda)\": \"2020-05-27\", \"fallecidos confirmados\": 81}, {\"index\": 3, \"Grupo de edad\": \"60-69\", \"fecha (a\\u00f1o-mes-d\\u00eda)\": \"2020-05-27\", \"fallecidos confirmados\": 150}, {\"index\": 4, \"Grupo de edad\": \"70-79\", \"fecha (a\\u00f1o-mes-d\\u00eda)\": \"2020-05-27\", \"fallecidos confirmados\": 250}, {\"index\": 5, \"Grupo de edad\": \"80-89\", \"fecha (a\\u00f1o-mes-d\\u00eda)\": \"2020-05-27\", \"fallecidos confirmados\": 218}, {\"index\": 6, \"Grupo de edad\": \">=90\", \"fecha (a\\u00f1o-mes-d\\u00eda)\": \"2020-05-27\", \"fallecidos confirmados\": 83}, {\"index\": 0, \"Grupo de edad\": \"<=39\", \"fecha (a\\u00f1o-mes-d\\u00eda)\": \"2020-05-28\", \"fallecidos confirmados\": 18}, {\"index\": 1, \"Grupo de edad\": \"40-49\", \"fecha (a\\u00f1o-mes-d\\u00eda)\": \"2020-05-28\", \"fallecidos confirmados\": 44}, {\"index\": 2, \"Grupo de edad\": \"50-59\", \"fecha (a\\u00f1o-mes-d\\u00eda)\": \"2020-05-28\", \"fallecidos confirmados\": 89}, {\"index\": 3, \"Grupo de edad\": \"60-69\", \"fecha (a\\u00f1o-mes-d\\u00eda)\": \"2020-05-28\", \"fallecidos confirmados\": 165}, {\"index\": 4, \"Grupo de edad\": \"70-79\", \"fecha (a\\u00f1o-mes-d\\u00eda)\": \"2020-05-28\", \"fallecidos confirmados\": 259}, {\"index\": 5, \"Grupo de edad\": \"80-89\", \"fecha (a\\u00f1o-mes-d\\u00eda)\": \"2020-05-28\", \"fallecidos confirmados\": 228}, {\"index\": 6, \"Grupo de edad\": \">=90\", \"fecha (a\\u00f1o-mes-d\\u00eda)\": \"2020-05-28\", \"fallecidos confirmados\": 87}, {\"index\": 0, \"Grupo de edad\": \"<=39\", \"fecha (a\\u00f1o-mes-d\\u00eda)\": \"2020-05-29\", \"fallecidos confirmados\": 19}, {\"index\": 1, \"Grupo de edad\": \"40-49\", \"fecha (a\\u00f1o-mes-d\\u00eda)\": \"2020-05-29\", \"fallecidos confirmados\": 46}, {\"index\": 2, \"Grupo de edad\": \"50-59\", \"fecha (a\\u00f1o-mes-d\\u00eda)\": \"2020-05-29\", \"fallecidos confirmados\": 94}, {\"index\": 3, \"Grupo de edad\": \"60-69\", \"fecha (a\\u00f1o-mes-d\\u00eda)\": \"2020-05-29\", \"fallecidos confirmados\": 173}, {\"index\": 4, \"Grupo de edad\": \"70-79\", \"fecha (a\\u00f1o-mes-d\\u00eda)\": \"2020-05-29\", \"fallecidos confirmados\": 279}, {\"index\": 5, \"Grupo de edad\": \"80-89\", \"fecha (a\\u00f1o-mes-d\\u00eda)\": \"2020-05-29\", \"fallecidos confirmados\": 242}, {\"index\": 6, \"Grupo de edad\": \">=90\", \"fecha (a\\u00f1o-mes-d\\u00eda)\": \"2020-05-29\", \"fallecidos confirmados\": 91}, {\"index\": 0, \"Grupo de edad\": \"<=39\", \"fecha (a\\u00f1o-mes-d\\u00eda)\": \"2020-05-30\", \"fallecidos confirmados\": 23}, {\"index\": 1, \"Grupo de edad\": \"40-49\", \"fecha (a\\u00f1o-mes-d\\u00eda)\": \"2020-05-30\", \"fallecidos confirmados\": 48}, {\"index\": 2, \"Grupo de edad\": \"50-59\", \"fecha (a\\u00f1o-mes-d\\u00eda)\": \"2020-05-30\", \"fallecidos confirmados\": 97}, {\"index\": 3, \"Grupo de edad\": \"60-69\", \"fecha (a\\u00f1o-mes-d\\u00eda)\": \"2020-05-30\", \"fallecidos confirmados\": 185}, {\"index\": 4, \"Grupo de edad\": \"70-79\", \"fecha (a\\u00f1o-mes-d\\u00eda)\": \"2020-05-30\", \"fallecidos confirmados\": 295}, {\"index\": 5, \"Grupo de edad\": \"80-89\", \"fecha (a\\u00f1o-mes-d\\u00eda)\": \"2020-05-30\", \"fallecidos confirmados\": 255}, {\"index\": 6, \"Grupo de edad\": \">=90\", \"fecha (a\\u00f1o-mes-d\\u00eda)\": \"2020-05-30\", \"fallecidos confirmados\": 94}, {\"index\": 0, \"Grupo de edad\": \"<=39\", \"fecha (a\\u00f1o-mes-d\\u00eda)\": \"2020-05-31\", \"fallecidos confirmados\": 28}, {\"index\": 1, \"Grupo de edad\": \"40-49\", \"fecha (a\\u00f1o-mes-d\\u00eda)\": \"2020-05-31\", \"fallecidos confirmados\": 50}, {\"index\": 2, \"Grupo de edad\": \"50-59\", \"fecha (a\\u00f1o-mes-d\\u00eda)\": \"2020-05-31\", \"fallecidos confirmados\": 105}, {\"index\": 3, \"Grupo de edad\": \"60-69\", \"fecha (a\\u00f1o-mes-d\\u00eda)\": \"2020-05-31\", \"fallecidos confirmados\": 189}, {\"index\": 4, \"Grupo de edad\": \"70-79\", \"fecha (a\\u00f1o-mes-d\\u00eda)\": \"2020-05-31\", \"fallecidos confirmados\": 309}, {\"index\": 5, \"Grupo de edad\": \"80-89\", \"fecha (a\\u00f1o-mes-d\\u00eda)\": \"2020-05-31\", \"fallecidos confirmados\": 275}, {\"index\": 6, \"Grupo de edad\": \">=90\", \"fecha (a\\u00f1o-mes-d\\u00eda)\": \"2020-05-31\", \"fallecidos confirmados\": 98}, {\"index\": 0, \"Grupo de edad\": \"<=39\", \"fecha (a\\u00f1o-mes-d\\u00eda)\": \"2020-06-01\", \"fallecidos confirmados\": 29}, {\"index\": 1, \"Grupo de edad\": \"40-49\", \"fecha (a\\u00f1o-mes-d\\u00eda)\": \"2020-06-01\", \"fallecidos confirmados\": 51}, {\"index\": 2, \"Grupo de edad\": \"50-59\", \"fecha (a\\u00f1o-mes-d\\u00eda)\": \"2020-06-01\", \"fallecidos confirmados\": 114}, {\"index\": 3, \"Grupo de edad\": \"60-69\", \"fecha (a\\u00f1o-mes-d\\u00eda)\": \"2020-06-01\", \"fallecidos confirmados\": 200}, {\"index\": 4, \"Grupo de edad\": \"70-79\", \"fecha (a\\u00f1o-mes-d\\u00eda)\": \"2020-06-01\", \"fallecidos confirmados\": 326}, {\"index\": 5, \"Grupo de edad\": \"80-89\", \"fecha (a\\u00f1o-mes-d\\u00eda)\": \"2020-06-01\", \"fallecidos confirmados\": 293}, {\"index\": 6, \"Grupo de edad\": \">=90\", \"fecha (a\\u00f1o-mes-d\\u00eda)\": \"2020-06-01\", \"fallecidos confirmados\": 100}, {\"index\": 0, \"Grupo de edad\": \"<=39\", \"fecha (a\\u00f1o-mes-d\\u00eda)\": \"2020-06-02\", \"fallecidos confirmados\": 31}, {\"index\": 1, \"Grupo de edad\": \"40-49\", \"fecha (a\\u00f1o-mes-d\\u00eda)\": \"2020-06-02\", \"fallecidos confirmados\": 51}, {\"index\": 2, \"Grupo de edad\": \"50-59\", \"fecha (a\\u00f1o-mes-d\\u00eda)\": \"2020-06-02\", \"fallecidos confirmados\": 124}, {\"index\": 3, \"Grupo de edad\": \"60-69\", \"fecha (a\\u00f1o-mes-d\\u00eda)\": \"2020-06-02\", \"fallecidos confirmados\": 214}, {\"index\": 4, \"Grupo de edad\": \"70-79\", \"fecha (a\\u00f1o-mes-d\\u00eda)\": \"2020-06-02\", \"fallecidos confirmados\": 350}, {\"index\": 5, \"Grupo de edad\": \"80-89\", \"fecha (a\\u00f1o-mes-d\\u00eda)\": \"2020-06-02\", \"fallecidos confirmados\": 313}, {\"index\": 6, \"Grupo de edad\": \">=90\", \"fecha (a\\u00f1o-mes-d\\u00eda)\": \"2020-06-02\", \"fallecidos confirmados\": 105}, {\"index\": 0, \"Grupo de edad\": \"<=39\", \"fecha (a\\u00f1o-mes-d\\u00eda)\": \"2020-06-03\", \"fallecidos confirmados\": 32}, {\"index\": 1, \"Grupo de edad\": \"40-49\", \"fecha (a\\u00f1o-mes-d\\u00eda)\": \"2020-06-03\", \"fallecidos confirmados\": 55}, {\"index\": 2, \"Grupo de edad\": \"50-59\", \"fecha (a\\u00f1o-mes-d\\u00eda)\": \"2020-06-03\", \"fallecidos confirmados\": 136}, {\"index\": 3, \"Grupo de edad\": \"60-69\", \"fecha (a\\u00f1o-mes-d\\u00eda)\": \"2020-06-03\", \"fallecidos confirmados\": 235}, {\"index\": 4, \"Grupo de edad\": \"70-79\", \"fecha (a\\u00f1o-mes-d\\u00eda)\": \"2020-06-03\", \"fallecidos confirmados\": 376}, {\"index\": 5, \"Grupo de edad\": \"80-89\", \"fecha (a\\u00f1o-mes-d\\u00eda)\": \"2020-06-03\", \"fallecidos confirmados\": 329}, {\"index\": 6, \"Grupo de edad\": \">=90\", \"fecha (a\\u00f1o-mes-d\\u00eda)\": \"2020-06-03\", \"fallecidos confirmados\": 112}, {\"index\": 0, \"Grupo de edad\": \"<=39\", \"fecha (a\\u00f1o-mes-d\\u00eda)\": \"2020-06-04\", \"fallecidos confirmados\": 35}, {\"index\": 1, \"Grupo de edad\": \"40-49\", \"fecha (a\\u00f1o-mes-d\\u00eda)\": \"2020-06-04\", \"fallecidos confirmados\": 60}, {\"index\": 2, \"Grupo de edad\": \"50-59\", \"fecha (a\\u00f1o-mes-d\\u00eda)\": \"2020-06-04\", \"fallecidos confirmados\": 144}, {\"index\": 3, \"Grupo de edad\": \"60-69\", \"fecha (a\\u00f1o-mes-d\\u00eda)\": \"2020-06-04\", \"fallecidos confirmados\": 252}, {\"index\": 4, \"Grupo de edad\": \"70-79\", \"fecha (a\\u00f1o-mes-d\\u00eda)\": \"2020-06-04\", \"fallecidos confirmados\": 397}, {\"index\": 5, \"Grupo de edad\": \"80-89\", \"fecha (a\\u00f1o-mes-d\\u00eda)\": \"2020-06-04\", \"fallecidos confirmados\": 352}, {\"index\": 6, \"Grupo de edad\": \">=90\", \"fecha (a\\u00f1o-mes-d\\u00eda)\": \"2020-06-04\", \"fallecidos confirmados\": 116}, {\"index\": 0, \"Grupo de edad\": \"<=39\", \"fecha (a\\u00f1o-mes-d\\u00eda)\": \"2020-06-05\", \"fallecidos confirmados\": 36}, {\"index\": 1, \"Grupo de edad\": \"40-49\", \"fecha (a\\u00f1o-mes-d\\u00eda)\": \"2020-06-05\", \"fallecidos confirmados\": 62}, {\"index\": 2, \"Grupo de edad\": \"50-59\", \"fecha (a\\u00f1o-mes-d\\u00eda)\": \"2020-06-05\", \"fallecidos confirmados\": 152}, {\"index\": 3, \"Grupo de edad\": \"60-69\", \"fecha (a\\u00f1o-mes-d\\u00eda)\": \"2020-06-05\", \"fallecidos confirmados\": 271}, {\"index\": 4, \"Grupo de edad\": \"70-79\", \"fecha (a\\u00f1o-mes-d\\u00eda)\": \"2020-06-05\", \"fallecidos confirmados\": 432}, {\"index\": 5, \"Grupo de edad\": \"80-89\", \"fecha (a\\u00f1o-mes-d\\u00eda)\": \"2020-06-05\", \"fallecidos confirmados\": 372}, {\"index\": 6, \"Grupo de edad\": \">=90\", \"fecha (a\\u00f1o-mes-d\\u00eda)\": \"2020-06-05\", \"fallecidos confirmados\": 123}, {\"index\": 0, \"Grupo de edad\": \"<=39\", \"fecha (a\\u00f1o-mes-d\\u00eda)\": \"2020-06-06\", \"fallecidos confirmados\": 37}, {\"index\": 1, \"Grupo de edad\": \"40-49\", \"fecha (a\\u00f1o-mes-d\\u00eda)\": \"2020-06-06\", \"fallecidos confirmados\": 67}, {\"index\": 2, \"Grupo de edad\": \"50-59\", \"fecha (a\\u00f1o-mes-d\\u00eda)\": \"2020-06-06\", \"fallecidos confirmados\": 162}, {\"index\": 3, \"Grupo de edad\": \"60-69\", \"fecha (a\\u00f1o-mes-d\\u00eda)\": \"2020-06-06\", \"fallecidos confirmados\": 281}, {\"index\": 4, \"Grupo de edad\": \"70-79\", \"fecha (a\\u00f1o-mes-d\\u00eda)\": \"2020-06-06\", \"fallecidos confirmados\": 467}, {\"index\": 5, \"Grupo de edad\": \"80-89\", \"fecha (a\\u00f1o-mes-d\\u00eda)\": \"2020-06-06\", \"fallecidos confirmados\": 398}, {\"index\": 6, \"Grupo de edad\": \">=90\", \"fecha (a\\u00f1o-mes-d\\u00eda)\": \"2020-06-06\", \"fallecidos confirmados\": 129}, {\"index\": 0, \"Grupo de edad\": \"<=39\", \"fecha (a\\u00f1o-mes-d\\u00eda)\": \"2020-06-07\", \"fallecidos confirmados\": 57}, {\"index\": 1, \"Grupo de edad\": \"40-49\", \"fecha (a\\u00f1o-mes-d\\u00eda)\": \"2020-06-07\", \"fallecidos confirmados\": 74}, {\"index\": 2, \"Grupo de edad\": \"50-59\", \"fecha (a\\u00f1o-mes-d\\u00eda)\": \"2020-06-07\", \"fallecidos confirmados\": 210}, {\"index\": 3, \"Grupo de edad\": \"60-69\", \"fecha (a\\u00f1o-mes-d\\u00eda)\": \"2020-06-07\", \"fallecidos confirmados\": 405}, {\"index\": 4, \"Grupo de edad\": \"70-79\", \"fecha (a\\u00f1o-mes-d\\u00eda)\": \"2020-06-07\", \"fallecidos confirmados\": 662}, {\"index\": 5, \"Grupo de edad\": \"80-89\", \"fecha (a\\u00f1o-mes-d\\u00eda)\": \"2020-06-07\", \"fallecidos confirmados\": 603}, {\"index\": 6, \"Grupo de edad\": \">=90\", \"fecha (a\\u00f1o-mes-d\\u00eda)\": \"2020-06-07\", \"fallecidos confirmados\": 179}, {\"index\": 0, \"Grupo de edad\": \"<=39\", \"fecha (a\\u00f1o-mes-d\\u00eda)\": \"2020-06-08\", \"fallecidos confirmados\": 60}, {\"index\": 1, \"Grupo de edad\": \"40-49\", \"fecha (a\\u00f1o-mes-d\\u00eda)\": \"2020-06-08\", \"fallecidos confirmados\": 78}, {\"index\": 2, \"Grupo de edad\": \"50-59\", \"fecha (a\\u00f1o-mes-d\\u00eda)\": \"2020-06-08\", \"fallecidos confirmados\": 219}, {\"index\": 3, \"Grupo de edad\": \"60-69\", \"fecha (a\\u00f1o-mes-d\\u00eda)\": \"2020-06-08\", \"fallecidos confirmados\": 421}, {\"index\": 4, \"Grupo de edad\": \"70-79\", \"fecha (a\\u00f1o-mes-d\\u00eda)\": \"2020-06-08\", \"fallecidos confirmados\": 682}, {\"index\": 5, \"Grupo de edad\": \"80-89\", \"fecha (a\\u00f1o-mes-d\\u00eda)\": \"2020-06-08\", \"fallecidos confirmados\": 618}, {\"index\": 6, \"Grupo de edad\": \">=90\", \"fecha (a\\u00f1o-mes-d\\u00eda)\": \"2020-06-08\", \"fallecidos confirmados\": 186}, {\"index\": 0, \"Grupo de edad\": \"<=39\", \"fecha (a\\u00f1o-mes-d\\u00eda)\": \"2020-06-09\", \"fallecidos confirmados\": 60}, {\"index\": 1, \"Grupo de edad\": \"40-49\", \"fecha (a\\u00f1o-mes-d\\u00eda)\": \"2020-06-09\", \"fallecidos confirmados\": 79}, {\"index\": 2, \"Grupo de edad\": \"50-59\", \"fecha (a\\u00f1o-mes-d\\u00eda)\": \"2020-06-09\", \"fallecidos confirmados\": 221}, {\"index\": 3, \"Grupo de edad\": \"60-69\", \"fecha (a\\u00f1o-mes-d\\u00eda)\": \"2020-06-09\", \"fallecidos confirmados\": 427}, {\"index\": 4, \"Grupo de edad\": \"70-79\", \"fecha (a\\u00f1o-mes-d\\u00eda)\": \"2020-06-09\", \"fallecidos confirmados\": 686}, {\"index\": 5, \"Grupo de edad\": \"80-89\", \"fecha (a\\u00f1o-mes-d\\u00eda)\": \"2020-06-09\", \"fallecidos confirmados\": 623}, {\"index\": 6, \"Grupo de edad\": \">=90\", \"fecha (a\\u00f1o-mes-d\\u00eda)\": \"2020-06-09\", \"fallecidos confirmados\": 187}, {\"index\": 0, \"Grupo de edad\": \"<=39\", \"fecha (a\\u00f1o-mes-d\\u00eda)\": \"2020-06-10\", \"fallecidos confirmados\": 63}, {\"index\": 1, \"Grupo de edad\": \"40-49\", \"fecha (a\\u00f1o-mes-d\\u00eda)\": \"2020-06-10\", \"fallecidos confirmados\": 86}, {\"index\": 2, \"Grupo de edad\": \"50-59\", \"fecha (a\\u00f1o-mes-d\\u00eda)\": \"2020-06-10\", \"fallecidos confirmados\": 238}, {\"index\": 3, \"Grupo de edad\": \"60-69\", \"fecha (a\\u00f1o-mes-d\\u00eda)\": \"2020-06-10\", \"fallecidos confirmados\": 475}, {\"index\": 4, \"Grupo de edad\": \"70-79\", \"fecha (a\\u00f1o-mes-d\\u00eda)\": \"2020-06-10\", \"fallecidos confirmados\": 751}, {\"index\": 5, \"Grupo de edad\": \"80-89\", \"fecha (a\\u00f1o-mes-d\\u00eda)\": \"2020-06-10\", \"fallecidos confirmados\": 668}, {\"index\": 6, \"Grupo de edad\": \">=90\", \"fecha (a\\u00f1o-mes-d\\u00eda)\": \"2020-06-10\", \"fallecidos confirmados\": 194}, {\"index\": 0, \"Grupo de edad\": \"<=39\", \"fecha (a\\u00f1o-mes-d\\u00eda)\": \"2020-06-11\", \"fallecidos confirmados\": 68}, {\"index\": 1, \"Grupo de edad\": \"40-49\", \"fecha (a\\u00f1o-mes-d\\u00eda)\": \"2020-06-11\", \"fallecidos confirmados\": 92}, {\"index\": 2, \"Grupo de edad\": \"50-59\", \"fecha (a\\u00f1o-mes-d\\u00eda)\": \"2020-06-11\", \"fallecidos confirmados\": 249}, {\"index\": 3, \"Grupo de edad\": \"60-69\", \"fecha (a\\u00f1o-mes-d\\u00eda)\": \"2020-06-11\", \"fallecidos confirmados\": 508}, {\"index\": 4, \"Grupo de edad\": \"70-79\", \"fecha (a\\u00f1o-mes-d\\u00eda)\": \"2020-06-11\", \"fallecidos confirmados\": 807}, {\"index\": 5, \"Grupo de edad\": \"80-89\", \"fecha (a\\u00f1o-mes-d\\u00eda)\": \"2020-06-11\", \"fallecidos confirmados\": 715}, {\"index\": 6, \"Grupo de edad\": \">=90\", \"fecha (a\\u00f1o-mes-d\\u00eda)\": \"2020-06-11\", \"fallecidos confirmados\": 209}, {\"index\": 0, \"Grupo de edad\": \"<=39\", \"fecha (a\\u00f1o-mes-d\\u00eda)\": \"2020-06-12\", \"fallecidos confirmados\": 73}, {\"index\": 1, \"Grupo de edad\": \"40-49\", \"fecha (a\\u00f1o-mes-d\\u00eda)\": \"2020-06-12\", \"fallecidos confirmados\": 100}, {\"index\": 2, \"Grupo de edad\": \"50-59\", \"fecha (a\\u00f1o-mes-d\\u00eda)\": \"2020-06-12\", \"fallecidos confirmados\": 267}, {\"index\": 3, \"Grupo de edad\": \"60-69\", \"fecha (a\\u00f1o-mes-d\\u00eda)\": \"2020-06-12\", \"fallecidos confirmados\": 557}, {\"index\": 4, \"Grupo de edad\": \"70-79\", \"fecha (a\\u00f1o-mes-d\\u00eda)\": \"2020-06-12\", \"fallecidos confirmados\": 872}, {\"index\": 5, \"Grupo de edad\": \"80-89\", \"fecha (a\\u00f1o-mes-d\\u00eda)\": \"2020-06-12\", \"fallecidos confirmados\": 775}, {\"index\": 6, \"Grupo de edad\": \">=90\", \"fecha (a\\u00f1o-mes-d\\u00eda)\": \"2020-06-12\", \"fallecidos confirmados\": 226}, {\"index\": 0, \"Grupo de edad\": \"<=39\", \"fecha (a\\u00f1o-mes-d\\u00eda)\": \"2020-06-13\", \"fallecidos confirmados\": 80}, {\"index\": 1, \"Grupo de edad\": \"40-49\", \"fecha (a\\u00f1o-mes-d\\u00eda)\": \"2020-06-13\", \"fallecidos confirmados\": 106}, {\"index\": 2, \"Grupo de edad\": \"50-59\", \"fecha (a\\u00f1o-mes-d\\u00eda)\": \"2020-06-13\", \"fallecidos confirmados\": 295}, {\"index\": 3, \"Grupo de edad\": \"60-69\", \"fecha (a\\u00f1o-mes-d\\u00eda)\": \"2020-06-13\", \"fallecidos confirmados\": 613}, {\"index\": 4, \"Grupo de edad\": \"70-79\", \"fecha (a\\u00f1o-mes-d\\u00eda)\": \"2020-06-13\", \"fallecidos confirmados\": 933}, {\"index\": 5, \"Grupo de edad\": \"80-89\", \"fecha (a\\u00f1o-mes-d\\u00eda)\": \"2020-06-13\", \"fallecidos confirmados\": 838}, {\"index\": 6, \"Grupo de edad\": \">=90\", \"fecha (a\\u00f1o-mes-d\\u00eda)\": \"2020-06-13\", \"fallecidos confirmados\": 236}, {\"index\": 0, \"Grupo de edad\": \"<=39\", \"fecha (a\\u00f1o-mes-d\\u00eda)\": \"2020-06-14\", \"fallecidos confirmados\": 81}, {\"index\": 1, \"Grupo de edad\": \"40-49\", \"fecha (a\\u00f1o-mes-d\\u00eda)\": \"2020-06-14\", \"fallecidos confirmados\": 110}, {\"index\": 2, \"Grupo de edad\": \"50-59\", \"fecha (a\\u00f1o-mes-d\\u00eda)\": \"2020-06-14\", \"fallecidos confirmados\": 322}, {\"index\": 3, \"Grupo de edad\": \"60-69\", \"fecha (a\\u00f1o-mes-d\\u00eda)\": \"2020-06-14\", \"fallecidos confirmados\": 656}, {\"index\": 4, \"Grupo de edad\": \"70-79\", \"fecha (a\\u00f1o-mes-d\\u00eda)\": \"2020-06-14\", \"fallecidos confirmados\": 1006}, {\"index\": 5, \"Grupo de edad\": \"80-89\", \"fecha (a\\u00f1o-mes-d\\u00eda)\": \"2020-06-14\", \"fallecidos confirmados\": 893}, {\"index\": 6, \"Grupo de edad\": \">=90\", \"fecha (a\\u00f1o-mes-d\\u00eda)\": \"2020-06-14\", \"fallecidos confirmados\": 255}, {\"index\": 0, \"Grupo de edad\": \"<=39\", \"fecha (a\\u00f1o-mes-d\\u00eda)\": \"2020-06-15\", \"fallecidos confirmados\": 84}, {\"index\": 1, \"Grupo de edad\": \"40-49\", \"fecha (a\\u00f1o-mes-d\\u00eda)\": \"2020-06-15\", \"fallecidos confirmados\": 111}, {\"index\": 2, \"Grupo de edad\": \"50-59\", \"fecha (a\\u00f1o-mes-d\\u00eda)\": \"2020-06-15\", \"fallecidos confirmados\": 325}, {\"index\": 3, \"Grupo de edad\": \"60-69\", \"fecha (a\\u00f1o-mes-d\\u00eda)\": \"2020-06-15\", \"fallecidos confirmados\": 669}, {\"index\": 4, \"Grupo de edad\": \"70-79\", \"fecha (a\\u00f1o-mes-d\\u00eda)\": \"2020-06-15\", \"fallecidos confirmados\": 1015}, {\"index\": 5, \"Grupo de edad\": \"80-89\", \"fecha (a\\u00f1o-mes-d\\u00eda)\": \"2020-06-15\", \"fallecidos confirmados\": 899}, {\"index\": 6, \"Grupo de edad\": \">=90\", \"fecha (a\\u00f1o-mes-d\\u00eda)\": \"2020-06-15\", \"fallecidos confirmados\": 259}, {\"index\": 0, \"Grupo de edad\": \"<=39\", \"fecha (a\\u00f1o-mes-d\\u00eda)\": \"2020-06-16\", \"fallecidos confirmados\": 84}, {\"index\": 1, \"Grupo de edad\": \"40-49\", \"fecha (a\\u00f1o-mes-d\\u00eda)\": \"2020-06-16\", \"fallecidos confirmados\": 112}, {\"index\": 2, \"Grupo de edad\": \"50-59\", \"fecha (a\\u00f1o-mes-d\\u00eda)\": \"2020-06-16\", \"fallecidos confirmados\": 327}, {\"index\": 3, \"Grupo de edad\": \"60-69\", \"fecha (a\\u00f1o-mes-d\\u00eda)\": \"2020-06-16\", \"fallecidos confirmados\": 675}, {\"index\": 4, \"Grupo de edad\": \"70-79\", \"fecha (a\\u00f1o-mes-d\\u00eda)\": \"2020-06-16\", \"fallecidos confirmados\": 1020}, {\"index\": 5, \"Grupo de edad\": \"80-89\", \"fecha (a\\u00f1o-mes-d\\u00eda)\": \"2020-06-16\", \"fallecidos confirmados\": 904}, {\"index\": 6, \"Grupo de edad\": \">=90\", \"fecha (a\\u00f1o-mes-d\\u00eda)\": \"2020-06-16\", \"fallecidos confirmados\": 261}, {\"index\": 0, \"Grupo de edad\": \"<=39\", \"fecha (a\\u00f1o-mes-d\\u00eda)\": \"2020-06-17\", \"fallecidos confirmados\": 88}, {\"index\": 1, \"Grupo de edad\": \"40-49\", \"fecha (a\\u00f1o-mes-d\\u00eda)\": \"2020-06-17\", \"fallecidos confirmados\": 127}, {\"index\": 2, \"Grupo de edad\": \"50-59\", \"fecha (a\\u00f1o-mes-d\\u00eda)\": \"2020-06-17\", \"fallecidos confirmados\": 351}, {\"index\": 3, \"Grupo de edad\": \"60-69\", \"fecha (a\\u00f1o-mes-d\\u00eda)\": \"2020-06-17\", \"fallecidos confirmados\": 723}, {\"index\": 4, \"Grupo de edad\": \"70-79\", \"fecha (a\\u00f1o-mes-d\\u00eda)\": \"2020-06-17\", \"fallecidos confirmados\": 1085}, {\"index\": 5, \"Grupo de edad\": \"80-89\", \"fecha (a\\u00f1o-mes-d\\u00eda)\": \"2020-06-17\", \"fallecidos confirmados\": 966}, {\"index\": 6, \"Grupo de edad\": \">=90\", \"fecha (a\\u00f1o-mes-d\\u00eda)\": \"2020-06-17\", \"fallecidos confirmados\": 275}, {\"index\": 0, \"Grupo de edad\": \"<=39\", \"fecha (a\\u00f1o-mes-d\\u00eda)\": \"2020-06-18\", \"fallecidos confirmados\": 89}, {\"index\": 1, \"Grupo de edad\": \"40-49\", \"fecha (a\\u00f1o-mes-d\\u00eda)\": \"2020-06-18\", \"fallecidos confirmados\": 136}, {\"index\": 2, \"Grupo de edad\": \"50-59\", \"fecha (a\\u00f1o-mes-d\\u00eda)\": \"2020-06-18\", \"fallecidos confirmados\": 369}, {\"index\": 3, \"Grupo de edad\": \"60-69\", \"fecha (a\\u00f1o-mes-d\\u00eda)\": \"2020-06-18\", \"fallecidos confirmados\": 787}, {\"index\": 4, \"Grupo de edad\": \"70-79\", \"fecha (a\\u00f1o-mes-d\\u00eda)\": \"2020-06-18\", \"fallecidos confirmados\": 1146}, {\"index\": 5, \"Grupo de edad\": \"80-89\", \"fecha (a\\u00f1o-mes-d\\u00eda)\": \"2020-06-18\", \"fallecidos confirmados\": 1030}, {\"index\": 6, \"Grupo de edad\": \">=90\", \"fecha (a\\u00f1o-mes-d\\u00eda)\": \"2020-06-18\", \"fallecidos confirmados\": 284}, {\"index\": 0, \"Grupo de edad\": \"<=39\", \"fecha (a\\u00f1o-mes-d\\u00eda)\": \"2020-06-19\", \"fallecidos confirmados\": 93}, {\"index\": 1, \"Grupo de edad\": \"40-49\", \"fecha (a\\u00f1o-mes-d\\u00eda)\": \"2020-06-19\", \"fallecidos confirmados\": 140}, {\"index\": 2, \"Grupo de edad\": \"50-59\", \"fecha (a\\u00f1o-mes-d\\u00eda)\": \"2020-06-19\", \"fallecidos confirmados\": 395}, {\"index\": 3, \"Grupo de edad\": \"60-69\", \"fecha (a\\u00f1o-mes-d\\u00eda)\": \"2020-06-19\", \"fallecidos confirmados\": 847}, {\"index\": 4, \"Grupo de edad\": \"70-79\", \"fecha (a\\u00f1o-mes-d\\u00eda)\": \"2020-06-19\", \"fallecidos confirmados\": 1222}, {\"index\": 5, \"Grupo de edad\": \"80-89\", \"fecha (a\\u00f1o-mes-d\\u00eda)\": \"2020-06-19\", \"fallecidos confirmados\": 1099}, {\"index\": 6, \"Grupo de edad\": \">=90\", \"fecha (a\\u00f1o-mes-d\\u00eda)\": \"2020-06-19\", \"fallecidos confirmados\": 297}, {\"index\": 0, \"Grupo de edad\": \"<=39\", \"fecha (a\\u00f1o-mes-d\\u00eda)\": \"2020-06-20\", \"fallecidos confirmados\": 94}, {\"index\": 1, \"Grupo de edad\": \"40-49\", \"fecha (a\\u00f1o-mes-d\\u00eda)\": \"2020-06-20\", \"fallecidos confirmados\": 144}, {\"index\": 2, \"Grupo de edad\": \"50-59\", \"fecha (a\\u00f1o-mes-d\\u00eda)\": \"2020-06-20\", \"fallecidos confirmados\": 413}, {\"index\": 3, \"Grupo de edad\": \"60-69\", \"fecha (a\\u00f1o-mes-d\\u00eda)\": \"2020-06-20\", \"fallecidos confirmados\": 895}, {\"index\": 4, \"Grupo de edad\": \"70-79\", \"fecha (a\\u00f1o-mes-d\\u00eda)\": \"2020-06-20\", \"fallecidos confirmados\": 1281}, {\"index\": 5, \"Grupo de edad\": \"80-89\", \"fecha (a\\u00f1o-mes-d\\u00eda)\": \"2020-06-20\", \"fallecidos confirmados\": 1152}, {\"index\": 6, \"Grupo de edad\": \">=90\", \"fecha (a\\u00f1o-mes-d\\u00eda)\": \"2020-06-20\", \"fallecidos confirmados\": 316}, {\"index\": 0, \"Grupo de edad\": \"<=39\", \"fecha (a\\u00f1o-mes-d\\u00eda)\": \"2020-06-21\", \"fallecidos confirmados\": 97}, {\"index\": 1, \"Grupo de edad\": \"40-49\", \"fecha (a\\u00f1o-mes-d\\u00eda)\": \"2020-06-21\", \"fallecidos confirmados\": 150}, {\"index\": 2, \"Grupo de edad\": \"50-59\", \"fecha (a\\u00f1o-mes-d\\u00eda)\": \"2020-06-21\", \"fallecidos confirmados\": 433}, {\"index\": 3, \"Grupo de edad\": \"60-69\", \"fecha (a\\u00f1o-mes-d\\u00eda)\": \"2020-06-21\", \"fallecidos confirmados\": 934}, {\"index\": 4, \"Grupo de edad\": \"70-79\", \"fecha (a\\u00f1o-mes-d\\u00eda)\": \"2020-06-21\", \"fallecidos confirmados\": 1337}, {\"index\": 5, \"Grupo de edad\": \"80-89\", \"fecha (a\\u00f1o-mes-d\\u00eda)\": \"2020-06-21\", \"fallecidos confirmados\": 1198}, {\"index\": 6, \"Grupo de edad\": \">=90\", \"fecha (a\\u00f1o-mes-d\\u00eda)\": \"2020-06-21\", \"fallecidos confirmados\": 330}, {\"index\": 0, \"Grupo de edad\": \"<=39\", \"fecha (a\\u00f1o-mes-d\\u00eda)\": \"2020-06-22\", \"fallecidos confirmados\": 98}, {\"index\": 1, \"Grupo de edad\": \"40-49\", \"fecha (a\\u00f1o-mes-d\\u00eda)\": \"2020-06-22\", \"fallecidos confirmados\": 150}, {\"index\": 2, \"Grupo de edad\": \"50-59\", \"fecha (a\\u00f1o-mes-d\\u00eda)\": \"2020-06-22\", \"fallecidos confirmados\": 434}, {\"index\": 3, \"Grupo de edad\": \"60-69\", \"fecha (a\\u00f1o-mes-d\\u00eda)\": \"2020-06-22\", \"fallecidos confirmados\": 942}, {\"index\": 4, \"Grupo de edad\": \"70-79\", \"fecha (a\\u00f1o-mes-d\\u00eda)\": \"2020-06-22\", \"fallecidos confirmados\": 1344}, {\"index\": 5, \"Grupo de edad\": \"80-89\", \"fecha (a\\u00f1o-mes-d\\u00eda)\": \"2020-06-22\", \"fallecidos confirmados\": 1204}, {\"index\": 6, \"Grupo de edad\": \">=90\", \"fecha (a\\u00f1o-mes-d\\u00eda)\": \"2020-06-22\", \"fallecidos confirmados\": 330}, {\"index\": 0, \"Grupo de edad\": \"<=39\", \"fecha (a\\u00f1o-mes-d\\u00eda)\": \"2020-06-23\", \"fallecidos confirmados\": 98}, {\"index\": 1, \"Grupo de edad\": \"40-49\", \"fecha (a\\u00f1o-mes-d\\u00eda)\": \"2020-06-23\", \"fallecidos confirmados\": 150}, {\"index\": 2, \"Grupo de edad\": \"50-59\", \"fecha (a\\u00f1o-mes-d\\u00eda)\": \"2020-06-23\", \"fallecidos confirmados\": 434}, {\"index\": 3, \"Grupo de edad\": \"60-69\", \"fecha (a\\u00f1o-mes-d\\u00eda)\": \"2020-06-23\", \"fallecidos confirmados\": 942}, {\"index\": 4, \"Grupo de edad\": \"70-79\", \"fecha (a\\u00f1o-mes-d\\u00eda)\": \"2020-06-23\", \"fallecidos confirmados\": 1344}, {\"index\": 5, \"Grupo de edad\": \"80-89\", \"fecha (a\\u00f1o-mes-d\\u00eda)\": \"2020-06-23\", \"fallecidos confirmados\": 1206}, {\"index\": 6, \"Grupo de edad\": \">=90\", \"fecha (a\\u00f1o-mes-d\\u00eda)\": \"2020-06-23\", \"fallecidos confirmados\": 331}, {\"index\": 0, \"Grupo de edad\": \"<=39\", \"fecha (a\\u00f1o-mes-d\\u00eda)\": \"2020-06-24\", \"fallecidos confirmados\": 105}, {\"index\": 1, \"Grupo de edad\": \"40-49\", \"fecha (a\\u00f1o-mes-d\\u00eda)\": \"2020-06-24\", \"fallecidos confirmados\": 157}, {\"index\": 2, \"Grupo de edad\": \"50-59\", \"fecha (a\\u00f1o-mes-d\\u00eda)\": \"2020-06-24\", \"fallecidos confirmados\": 458}, {\"index\": 3, \"Grupo de edad\": \"60-69\", \"fecha (a\\u00f1o-mes-d\\u00eda)\": \"2020-06-24\", \"fallecidos confirmados\": 987}, {\"index\": 4, \"Grupo de edad\": \"70-79\", \"fecha (a\\u00f1o-mes-d\\u00eda)\": \"2020-06-24\", \"fallecidos confirmados\": 1414}, {\"index\": 5, \"Grupo de edad\": \"80-89\", \"fecha (a\\u00f1o-mes-d\\u00eda)\": \"2020-06-24\", \"fallecidos confirmados\": 1259}, {\"index\": 6, \"Grupo de edad\": \">=90\", \"fecha (a\\u00f1o-mes-d\\u00eda)\": \"2020-06-24\", \"fallecidos confirmados\": 351}, {\"index\": 0, \"Grupo de edad\": \"<=39\", \"fecha (a\\u00f1o-mes-d\\u00eda)\": \"2020-06-25\", \"fallecidos confirmados\": 107}, {\"index\": 1, \"Grupo de edad\": \"40-49\", \"fecha (a\\u00f1o-mes-d\\u00eda)\": \"2020-06-25\", \"fallecidos confirmados\": 160}, {\"index\": 2, \"Grupo de edad\": \"50-59\", \"fecha (a\\u00f1o-mes-d\\u00eda)\": \"2020-06-25\", \"fallecidos confirmados\": 473}, {\"index\": 3, \"Grupo de edad\": \"60-69\", \"fecha (a\\u00f1o-mes-d\\u00eda)\": \"2020-06-25\", \"fallecidos confirmados\": 1035}, {\"index\": 4, \"Grupo de edad\": \"70-79\", \"fecha (a\\u00f1o-mes-d\\u00eda)\": \"2020-06-25\", \"fallecidos confirmados\": 1460}, {\"index\": 5, \"Grupo de edad\": \"80-89\", \"fecha (a\\u00f1o-mes-d\\u00eda)\": \"2020-06-25\", \"fallecidos confirmados\": 1299}, {\"index\": 6, \"Grupo de edad\": \">=90\", \"fecha (a\\u00f1o-mes-d\\u00eda)\": \"2020-06-25\", \"fallecidos confirmados\": 369}, {\"index\": 0, \"Grupo de edad\": \"<=39\", \"fecha (a\\u00f1o-mes-d\\u00eda)\": \"2020-06-26\", \"fallecidos confirmados\": 109}, {\"index\": 1, \"Grupo de edad\": \"40-49\", \"fecha (a\\u00f1o-mes-d\\u00eda)\": \"2020-06-26\", \"fallecidos confirmados\": 162}, {\"index\": 2, \"Grupo de edad\": \"50-59\", \"fecha (a\\u00f1o-mes-d\\u00eda)\": \"2020-06-26\", \"fallecidos confirmados\": 499}, {\"index\": 3, \"Grupo de edad\": \"60-69\", \"fecha (a\\u00f1o-mes-d\\u00eda)\": \"2020-06-26\", \"fallecidos confirmados\": 1071}, {\"index\": 4, \"Grupo de edad\": \"70-79\", \"fecha (a\\u00f1o-mes-d\\u00eda)\": \"2020-06-26\", \"fallecidos confirmados\": 1511}, {\"index\": 5, \"Grupo de edad\": \"80-89\", \"fecha (a\\u00f1o-mes-d\\u00eda)\": \"2020-06-26\", \"fallecidos confirmados\": 1338}, {\"index\": 6, \"Grupo de edad\": \">=90\", \"fecha (a\\u00f1o-mes-d\\u00eda)\": \"2020-06-26\", \"fallecidos confirmados\": 378}]}}, {\"mode\": \"vega-lite\"});\n",
       "</script>"
      ],
      "text/plain": [
       "alt.HConcatChart(...)"
      ]
     },
     "execution_count": 58,
     "metadata": {},
     "output_type": "execute_result"
    }
   ],
   "source": [
    "#hide_input\n",
    "input_dropdown = alt.binding_select(options=data['Grupo de edad'].unique())\n",
    "selection1 = alt.selection_single(fields=['Grupo de edad'], bind=input_dropdown, name=' ')\n",
    "selection2 = alt.selection_multi(fields=['Grupo de edad'], on='mouseover')\n",
    "\n",
    "color = alt.condition(selection1 | selection2,\n",
    "                    alt.Color('Grupo de edad:N', scale=alt.Scale(scheme='tableau20'), legend=None),\n",
    "                    alt.value('lightgray'))\n",
    "\n",
    "bars = alt.Chart(data).mark_bar().encode(\n",
    "    x = 'fecha (año-mes-día):N',\n",
    "    y = 'fallecidos confirmados:Q',\n",
    "    color = color,\n",
    "    tooltip = ['fecha (año-mes-día)', 'Grupo de edad', 'fallecidos confirmados'],\n",
    "    order=alt.Order(\n",
    "    # Sort the segments of the bars by this field\n",
    "    'index',\n",
    "    sort='descending'\n",
    "    )\n",
    ").add_selection(\n",
    "    selection1, selection2\n",
    ").transform_filter(\n",
    "    selection1\n",
    ")\n",
    "\n",
    "legend = alt.Chart(data).mark_point().encode(\n",
    "    y=alt.Y('Grupo de edad', axis=alt.Axis(orient='right'), sort=grupo_de_edad),\n",
    "    color=color\n",
    ").add_selection(\n",
    "    selection1, selection2\n",
    ")\n",
    "\n",
    "bars.properties(\n",
    "    title = 'COVID-19 en Chile: Evolución de fallecidos confirmados por rango de edad',\n",
    "    width = 600\n",
    ") | legend"
   ]
  },
  {
   "cell_type": "code",
   "execution_count": 59,
   "metadata": {},
   "outputs": [
    {
     "data": {
      "text/html": [
       "\n",
       "<div id=\"altair-viz-39be872f5a134676b0c05ade48e11eac\"></div>\n",
       "<script type=\"text/javascript\">\n",
       "  (function(spec, embedOpt){\n",
       "    let outputDiv = document.currentScript.previousElementSibling;\n",
       "    if (outputDiv.id !== \"altair-viz-39be872f5a134676b0c05ade48e11eac\") {\n",
       "      outputDiv = document.getElementById(\"altair-viz-39be872f5a134676b0c05ade48e11eac\");\n",
       "    }\n",
       "    const paths = {\n",
       "      \"vega\": \"https://cdn.jsdelivr.net/npm//vega@5?noext\",\n",
       "      \"vega-lib\": \"https://cdn.jsdelivr.net/npm//vega-lib?noext\",\n",
       "      \"vega-lite\": \"https://cdn.jsdelivr.net/npm//vega-lite@4.8.1?noext\",\n",
       "      \"vega-embed\": \"https://cdn.jsdelivr.net/npm//vega-embed@6?noext\",\n",
       "    };\n",
       "\n",
       "    function loadScript(lib) {\n",
       "      return new Promise(function(resolve, reject) {\n",
       "        var s = document.createElement('script');\n",
       "        s.src = paths[lib];\n",
       "        s.async = true;\n",
       "        s.onload = () => resolve(paths[lib]);\n",
       "        s.onerror = () => reject(`Error loading script: ${paths[lib]}`);\n",
       "        document.getElementsByTagName(\"head\")[0].appendChild(s);\n",
       "      });\n",
       "    }\n",
       "\n",
       "    function showError(err) {\n",
       "      outputDiv.innerHTML = `<div class=\"error\" style=\"color:red;\">${err}</div>`;\n",
       "      throw err;\n",
       "    }\n",
       "\n",
       "    function displayChart(vegaEmbed) {\n",
       "      vegaEmbed(outputDiv, spec, embedOpt)\n",
       "        .catch(err => showError(`Javascript Error: ${err.message}<br>This usually means there's a typo in your chart specification. See the javascript console for the full traceback.`));\n",
       "    }\n",
       "\n",
       "    if(typeof define === \"function\" && define.amd) {\n",
       "      requirejs.config({paths});\n",
       "      require([\"vega-embed\"], displayChart, err => showError(`Error loading script: ${err.message}`));\n",
       "    } else if (typeof vegaEmbed === \"function\") {\n",
       "      displayChart(vegaEmbed);\n",
       "    } else {\n",
       "      loadScript(\"vega\")\n",
       "        .then(() => loadScript(\"vega-lite\"))\n",
       "        .then(() => loadScript(\"vega-embed\"))\n",
       "        .catch(showError)\n",
       "        .then(() => displayChart(vegaEmbed));\n",
       "    }\n",
       "  })({\"config\": {\"view\": {\"continuousWidth\": 400, \"continuousHeight\": 300}}, \"hconcat\": [{\"mark\": \"area\", \"encoding\": {\"color\": {\"condition\": {\"type\": \"nominal\", \"field\": \"Grupo de edad\", \"legend\": null, \"scale\": {\"scheme\": \"tableau20\"}, \"selection\": \"selector005\"}, \"value\": \"lightgray\"}, \"order\": {\"type\": \"quantitative\", \"field\": \"index\", \"sort\": \"descending\"}, \"tooltip\": [{\"type\": \"nominal\", \"field\": \"fecha (a\\u00f1o-mes-d\\u00eda)\"}, {\"type\": \"nominal\", \"field\": \"Grupo de edad\"}, {\"type\": \"quantitative\", \"field\": \"fallecidos confirmados\"}], \"x\": {\"type\": \"nominal\", \"field\": \"fecha (a\\u00f1o-mes-d\\u00eda)\"}, \"y\": {\"type\": \"quantitative\", \"field\": \"fallecidos confirmados\", \"sort\": [\"<=39\", \"40-49\", \"50-59\", \"60-69\", \"70-79\", \"80-89\", \">=90\"], \"stack\": \"normalize\"}}, \"selection\": {\"selector005\": {\"type\": \"multi\", \"fields\": [\"Grupo de edad\"], \"on\": \"mouseover\"}}, \"title\": \"COVID-19 en Chile: Evoluci\\u00f3n de fallecidos confirmados normalizados por rango de edad\", \"width\": 600}, {\"mark\": \"point\", \"encoding\": {\"color\": {\"condition\": {\"type\": \"nominal\", \"field\": \"Grupo de edad\", \"legend\": null, \"scale\": {\"scheme\": \"tableau20\"}, \"selection\": \"selector005\"}, \"value\": \"lightgray\"}, \"y\": {\"type\": \"nominal\", \"axis\": {\"orient\": \"right\"}, \"field\": \"Grupo de edad\", \"sort\": [\"<=39\", \"40-49\", \"50-59\", \"60-69\", \"70-79\", \"80-89\", \">=90\"]}}, \"selection\": {\"selector005\": {\"type\": \"multi\", \"fields\": [\"Grupo de edad\"], \"on\": \"mouseover\"}}}], \"data\": {\"name\": \"data-f32361c53fa63be787ade6f7aec308cf\"}, \"$schema\": \"https://vega.github.io/schema/vega-lite/v4.8.1.json\", \"datasets\": {\"data-f32361c53fa63be787ade6f7aec308cf\": [{\"index\": 0, \"Grupo de edad\": \"<=39\", \"fecha (a\\u00f1o-mes-d\\u00eda)\": \"2020-04-09\", \"fallecidos confirmados\": 2}, {\"index\": 1, \"Grupo de edad\": \"40-49\", \"fecha (a\\u00f1o-mes-d\\u00eda)\": \"2020-04-09\", \"fallecidos confirmados\": 1}, {\"index\": 2, \"Grupo de edad\": \"50-59\", \"fecha (a\\u00f1o-mes-d\\u00eda)\": \"2020-04-09\", \"fallecidos confirmados\": 1}, {\"index\": 3, \"Grupo de edad\": \"60-69\", \"fecha (a\\u00f1o-mes-d\\u00eda)\": \"2020-04-09\", \"fallecidos confirmados\": 9}, {\"index\": 4, \"Grupo de edad\": \"70-79\", \"fecha (a\\u00f1o-mes-d\\u00eda)\": \"2020-04-09\", \"fallecidos confirmados\": 21}, {\"index\": 5, \"Grupo de edad\": \"80-89\", \"fecha (a\\u00f1o-mes-d\\u00eda)\": \"2020-04-09\", \"fallecidos confirmados\": 19}, {\"index\": 6, \"Grupo de edad\": \">=90\", \"fecha (a\\u00f1o-mes-d\\u00eda)\": \"2020-04-09\", \"fallecidos confirmados\": 4}, {\"index\": 0, \"Grupo de edad\": \"<=39\", \"fecha (a\\u00f1o-mes-d\\u00eda)\": \"2020-04-10\", \"fallecidos confirmados\": 2}, {\"index\": 1, \"Grupo de edad\": \"40-49\", \"fecha (a\\u00f1o-mes-d\\u00eda)\": \"2020-04-10\", \"fallecidos confirmados\": 2}, {\"index\": 2, \"Grupo de edad\": \"50-59\", \"fecha (a\\u00f1o-mes-d\\u00eda)\": \"2020-04-10\", \"fallecidos confirmados\": 2}, {\"index\": 3, \"Grupo de edad\": \"60-69\", \"fecha (a\\u00f1o-mes-d\\u00eda)\": \"2020-04-10\", \"fallecidos confirmados\": 10}, {\"index\": 4, \"Grupo de edad\": \"70-79\", \"fecha (a\\u00f1o-mes-d\\u00eda)\": \"2020-04-10\", \"fallecidos confirmados\": 22}, {\"index\": 5, \"Grupo de edad\": \"80-89\", \"fecha (a\\u00f1o-mes-d\\u00eda)\": \"2020-04-10\", \"fallecidos confirmados\": 21}, {\"index\": 6, \"Grupo de edad\": \">=90\", \"fecha (a\\u00f1o-mes-d\\u00eda)\": \"2020-04-10\", \"fallecidos confirmados\": 6}, {\"index\": 0, \"Grupo de edad\": \"<=39\", \"fecha (a\\u00f1o-mes-d\\u00eda)\": \"2020-04-11\", \"fallecidos confirmados\": 3}, {\"index\": 1, \"Grupo de edad\": \"40-49\", \"fecha (a\\u00f1o-mes-d\\u00eda)\": \"2020-04-11\", \"fallecidos confirmados\": 2}, {\"index\": 2, \"Grupo de edad\": \"50-59\", \"fecha (a\\u00f1o-mes-d\\u00eda)\": \"2020-04-11\", \"fallecidos confirmados\": 2}, {\"index\": 3, \"Grupo de edad\": \"60-69\", \"fecha (a\\u00f1o-mes-d\\u00eda)\": \"2020-04-11\", \"fallecidos confirmados\": 12}, {\"index\": 4, \"Grupo de edad\": \"70-79\", \"fecha (a\\u00f1o-mes-d\\u00eda)\": \"2020-04-11\", \"fallecidos confirmados\": 24}, {\"index\": 5, \"Grupo de edad\": \"80-89\", \"fecha (a\\u00f1o-mes-d\\u00eda)\": \"2020-04-11\", \"fallecidos confirmados\": 24}, {\"index\": 6, \"Grupo de edad\": \">=90\", \"fecha (a\\u00f1o-mes-d\\u00eda)\": \"2020-04-11\", \"fallecidos confirmados\": 6}, {\"index\": 0, \"Grupo de edad\": \"<=39\", \"fecha (a\\u00f1o-mes-d\\u00eda)\": \"2020-04-12\", \"fallecidos confirmados\": 3}, {\"index\": 1, \"Grupo de edad\": \"40-49\", \"fecha (a\\u00f1o-mes-d\\u00eda)\": \"2020-04-12\", \"fallecidos confirmados\": 2}, {\"index\": 2, \"Grupo de edad\": \"50-59\", \"fecha (a\\u00f1o-mes-d\\u00eda)\": \"2020-04-12\", \"fallecidos confirmados\": 3}, {\"index\": 3, \"Grupo de edad\": \"60-69\", \"fecha (a\\u00f1o-mes-d\\u00eda)\": \"2020-04-12\", \"fallecidos confirmados\": 12}, {\"index\": 4, \"Grupo de edad\": \"70-79\", \"fecha (a\\u00f1o-mes-d\\u00eda)\": \"2020-04-12\", \"fallecidos confirmados\": 28}, {\"index\": 5, \"Grupo de edad\": \"80-89\", \"fecha (a\\u00f1o-mes-d\\u00eda)\": \"2020-04-12\", \"fallecidos confirmados\": 25}, {\"index\": 6, \"Grupo de edad\": \">=90\", \"fecha (a\\u00f1o-mes-d\\u00eda)\": \"2020-04-12\", \"fallecidos confirmados\": 7}, {\"index\": 0, \"Grupo de edad\": \"<=39\", \"fecha (a\\u00f1o-mes-d\\u00eda)\": \"2020-04-13\", \"fallecidos confirmados\": 3}, {\"index\": 1, \"Grupo de edad\": \"40-49\", \"fecha (a\\u00f1o-mes-d\\u00eda)\": \"2020-04-13\", \"fallecidos confirmados\": 2}, {\"index\": 2, \"Grupo de edad\": \"50-59\", \"fecha (a\\u00f1o-mes-d\\u00eda)\": \"2020-04-13\", \"fallecidos confirmados\": 3}, {\"index\": 3, \"Grupo de edad\": \"60-69\", \"fecha (a\\u00f1o-mes-d\\u00eda)\": \"2020-04-13\", \"fallecidos confirmados\": 12}, {\"index\": 4, \"Grupo de edad\": \"70-79\", \"fecha (a\\u00f1o-mes-d\\u00eda)\": \"2020-04-13\", \"fallecidos confirmados\": 29}, {\"index\": 5, \"Grupo de edad\": \"80-89\", \"fecha (a\\u00f1o-mes-d\\u00eda)\": \"2020-04-13\", \"fallecidos confirmados\": 26}, {\"index\": 6, \"Grupo de edad\": \">=90\", \"fecha (a\\u00f1o-mes-d\\u00eda)\": \"2020-04-13\", \"fallecidos confirmados\": 7}, {\"index\": 0, \"Grupo de edad\": \"<=39\", \"fecha (a\\u00f1o-mes-d\\u00eda)\": \"2020-04-14\", \"fallecidos confirmados\": 3}, {\"index\": 1, \"Grupo de edad\": \"40-49\", \"fecha (a\\u00f1o-mes-d\\u00eda)\": \"2020-04-14\", \"fallecidos confirmados\": 2}, {\"index\": 2, \"Grupo de edad\": \"50-59\", \"fecha (a\\u00f1o-mes-d\\u00eda)\": \"2020-04-14\", \"fallecidos confirmados\": 5}, {\"index\": 3, \"Grupo de edad\": \"60-69\", \"fecha (a\\u00f1o-mes-d\\u00eda)\": \"2020-04-14\", \"fallecidos confirmados\": 12}, {\"index\": 4, \"Grupo de edad\": \"70-79\", \"fecha (a\\u00f1o-mes-d\\u00eda)\": \"2020-04-14\", \"fallecidos confirmados\": 30}, {\"index\": 5, \"Grupo de edad\": \"80-89\", \"fecha (a\\u00f1o-mes-d\\u00eda)\": \"2020-04-14\", \"fallecidos confirmados\": 32}, {\"index\": 6, \"Grupo de edad\": \">=90\", \"fecha (a\\u00f1o-mes-d\\u00eda)\": \"2020-04-14\", \"fallecidos confirmados\": 8}, {\"index\": 0, \"Grupo de edad\": \"<=39\", \"fecha (a\\u00f1o-mes-d\\u00eda)\": \"2020-04-15\", \"fallecidos confirmados\": 3}, {\"index\": 1, \"Grupo de edad\": \"40-49\", \"fecha (a\\u00f1o-mes-d\\u00eda)\": \"2020-04-15\", \"fallecidos confirmados\": 2}, {\"index\": 2, \"Grupo de edad\": \"50-59\", \"fecha (a\\u00f1o-mes-d\\u00eda)\": \"2020-04-15\", \"fallecidos confirmados\": 5}, {\"index\": 3, \"Grupo de edad\": \"60-69\", \"fecha (a\\u00f1o-mes-d\\u00eda)\": \"2020-04-15\", \"fallecidos confirmados\": 12}, {\"index\": 4, \"Grupo de edad\": \"70-79\", \"fecha (a\\u00f1o-mes-d\\u00eda)\": \"2020-04-15\", \"fallecidos confirmados\": 31}, {\"index\": 5, \"Grupo de edad\": \"80-89\", \"fecha (a\\u00f1o-mes-d\\u00eda)\": \"2020-04-15\", \"fallecidos confirmados\": 33}, {\"index\": 6, \"Grupo de edad\": \">=90\", \"fecha (a\\u00f1o-mes-d\\u00eda)\": \"2020-04-15\", \"fallecidos confirmados\": 8}, {\"index\": 0, \"Grupo de edad\": \"<=39\", \"fecha (a\\u00f1o-mes-d\\u00eda)\": \"2020-04-16\", \"fallecidos confirmados\": 3}, {\"index\": 1, \"Grupo de edad\": \"40-49\", \"fecha (a\\u00f1o-mes-d\\u00eda)\": \"2020-04-16\", \"fallecidos confirmados\": 2}, {\"index\": 2, \"Grupo de edad\": \"50-59\", \"fecha (a\\u00f1o-mes-d\\u00eda)\": \"2020-04-16\", \"fallecidos confirmados\": 6}, {\"index\": 3, \"Grupo de edad\": \"60-69\", \"fecha (a\\u00f1o-mes-d\\u00eda)\": \"2020-04-16\", \"fallecidos confirmados\": 14}, {\"index\": 4, \"Grupo de edad\": \"70-79\", \"fecha (a\\u00f1o-mes-d\\u00eda)\": \"2020-04-16\", \"fallecidos confirmados\": 32}, {\"index\": 5, \"Grupo de edad\": \"80-89\", \"fecha (a\\u00f1o-mes-d\\u00eda)\": \"2020-04-16\", \"fallecidos confirmados\": 38}, {\"index\": 6, \"Grupo de edad\": \">=90\", \"fecha (a\\u00f1o-mes-d\\u00eda)\": \"2020-04-16\", \"fallecidos confirmados\": 10}, {\"index\": 0, \"Grupo de edad\": \"<=39\", \"fecha (a\\u00f1o-mes-d\\u00eda)\": \"2020-04-17\", \"fallecidos confirmados\": 4}, {\"index\": 1, \"Grupo de edad\": \"40-49\", \"fecha (a\\u00f1o-mes-d\\u00eda)\": \"2020-04-17\", \"fallecidos confirmados\": 2}, {\"index\": 2, \"Grupo de edad\": \"50-59\", \"fecha (a\\u00f1o-mes-d\\u00eda)\": \"2020-04-17\", \"fallecidos confirmados\": 8}, {\"index\": 3, \"Grupo de edad\": \"60-69\", \"fecha (a\\u00f1o-mes-d\\u00eda)\": \"2020-04-17\", \"fallecidos confirmados\": 16}, {\"index\": 4, \"Grupo de edad\": \"70-79\", \"fecha (a\\u00f1o-mes-d\\u00eda)\": \"2020-04-17\", \"fallecidos confirmados\": 36}, {\"index\": 5, \"Grupo de edad\": \"80-89\", \"fecha (a\\u00f1o-mes-d\\u00eda)\": \"2020-04-17\", \"fallecidos confirmados\": 40}, {\"index\": 6, \"Grupo de edad\": \">=90\", \"fecha (a\\u00f1o-mes-d\\u00eda)\": \"2020-04-17\", \"fallecidos confirmados\": 10}, {\"index\": 0, \"Grupo de edad\": \"<=39\", \"fecha (a\\u00f1o-mes-d\\u00eda)\": \"2020-04-18\", \"fallecidos confirmados\": 4}, {\"index\": 1, \"Grupo de edad\": \"40-49\", \"fecha (a\\u00f1o-mes-d\\u00eda)\": \"2020-04-18\", \"fallecidos confirmados\": 2}, {\"index\": 2, \"Grupo de edad\": \"50-59\", \"fecha (a\\u00f1o-mes-d\\u00eda)\": \"2020-04-18\", \"fallecidos confirmados\": 8}, {\"index\": 3, \"Grupo de edad\": \"60-69\", \"fecha (a\\u00f1o-mes-d\\u00eda)\": \"2020-04-18\", \"fallecidos confirmados\": 17}, {\"index\": 4, \"Grupo de edad\": \"70-79\", \"fecha (a\\u00f1o-mes-d\\u00eda)\": \"2020-04-18\", \"fallecidos confirmados\": 39}, {\"index\": 5, \"Grupo de edad\": \"80-89\", \"fecha (a\\u00f1o-mes-d\\u00eda)\": \"2020-04-18\", \"fallecidos confirmados\": 44}, {\"index\": 6, \"Grupo de edad\": \">=90\", \"fecha (a\\u00f1o-mes-d\\u00eda)\": \"2020-04-18\", \"fallecidos confirmados\": 12}, {\"index\": 0, \"Grupo de edad\": \"<=39\", \"fecha (a\\u00f1o-mes-d\\u00eda)\": \"2020-04-19\", \"fallecidos confirmados\": 4}, {\"index\": 1, \"Grupo de edad\": \"40-49\", \"fecha (a\\u00f1o-mes-d\\u00eda)\": \"2020-04-19\", \"fallecidos confirmados\": 2}, {\"index\": 2, \"Grupo de edad\": \"50-59\", \"fecha (a\\u00f1o-mes-d\\u00eda)\": \"2020-04-19\", \"fallecidos confirmados\": 9}, {\"index\": 3, \"Grupo de edad\": \"60-69\", \"fecha (a\\u00f1o-mes-d\\u00eda)\": \"2020-04-19\", \"fallecidos confirmados\": 18}, {\"index\": 4, \"Grupo de edad\": \"70-79\", \"fecha (a\\u00f1o-mes-d\\u00eda)\": \"2020-04-19\", \"fallecidos confirmados\": 41}, {\"index\": 5, \"Grupo de edad\": \"80-89\", \"fecha (a\\u00f1o-mes-d\\u00eda)\": \"2020-04-19\", \"fallecidos confirmados\": 46}, {\"index\": 6, \"Grupo de edad\": \">=90\", \"fecha (a\\u00f1o-mes-d\\u00eda)\": \"2020-04-19\", \"fallecidos confirmados\": 13}, {\"index\": 0, \"Grupo de edad\": \"<=39\", \"fecha (a\\u00f1o-mes-d\\u00eda)\": \"2020-04-20\", \"fallecidos confirmados\": 4}, {\"index\": 1, \"Grupo de edad\": \"40-49\", \"fecha (a\\u00f1o-mes-d\\u00eda)\": \"2020-04-20\", \"fallecidos confirmados\": 2}, {\"index\": 2, \"Grupo de edad\": \"50-59\", \"fecha (a\\u00f1o-mes-d\\u00eda)\": \"2020-04-20\", \"fallecidos confirmados\": 11}, {\"index\": 3, \"Grupo de edad\": \"60-69\", \"fecha (a\\u00f1o-mes-d\\u00eda)\": \"2020-04-20\", \"fallecidos confirmados\": 19}, {\"index\": 4, \"Grupo de edad\": \"70-79\", \"fecha (a\\u00f1o-mes-d\\u00eda)\": \"2020-04-20\", \"fallecidos confirmados\": 42}, {\"index\": 5, \"Grupo de edad\": \"80-89\", \"fecha (a\\u00f1o-mes-d\\u00eda)\": \"2020-04-20\", \"fallecidos confirmados\": 47}, {\"index\": 6, \"Grupo de edad\": \">=90\", \"fecha (a\\u00f1o-mes-d\\u00eda)\": \"2020-04-20\", \"fallecidos confirmados\": 14}, {\"index\": 0, \"Grupo de edad\": \"<=39\", \"fecha (a\\u00f1o-mes-d\\u00eda)\": \"2020-04-21\", \"fallecidos confirmados\": 5}, {\"index\": 1, \"Grupo de edad\": \"40-49\", \"fecha (a\\u00f1o-mes-d\\u00eda)\": \"2020-04-21\", \"fallecidos confirmados\": 2}, {\"index\": 2, \"Grupo de edad\": \"50-59\", \"fecha (a\\u00f1o-mes-d\\u00eda)\": \"2020-04-21\", \"fallecidos confirmados\": 13}, {\"index\": 3, \"Grupo de edad\": \"60-69\", \"fecha (a\\u00f1o-mes-d\\u00eda)\": \"2020-04-21\", \"fallecidos confirmados\": 20}, {\"index\": 4, \"Grupo de edad\": \"70-79\", \"fecha (a\\u00f1o-mes-d\\u00eda)\": \"2020-04-21\", \"fallecidos confirmados\": 43}, {\"index\": 5, \"Grupo de edad\": \"80-89\", \"fecha (a\\u00f1o-mes-d\\u00eda)\": \"2020-04-21\", \"fallecidos confirmados\": 50}, {\"index\": 6, \"Grupo de edad\": \">=90\", \"fecha (a\\u00f1o-mes-d\\u00eda)\": \"2020-04-21\", \"fallecidos confirmados\": 14}, {\"index\": 0, \"Grupo de edad\": \"<=39\", \"fecha (a\\u00f1o-mes-d\\u00eda)\": \"2020-04-22\", \"fallecidos confirmados\": 5}, {\"index\": 1, \"Grupo de edad\": \"40-49\", \"fecha (a\\u00f1o-mes-d\\u00eda)\": \"2020-04-22\", \"fallecidos confirmados\": 2}, {\"index\": 2, \"Grupo de edad\": \"50-59\", \"fecha (a\\u00f1o-mes-d\\u00eda)\": \"2020-04-22\", \"fallecidos confirmados\": 14}, {\"index\": 3, \"Grupo de edad\": \"60-69\", \"fecha (a\\u00f1o-mes-d\\u00eda)\": \"2020-04-22\", \"fallecidos confirmados\": 26}, {\"index\": 4, \"Grupo de edad\": \"70-79\", \"fecha (a\\u00f1o-mes-d\\u00eda)\": \"2020-04-22\", \"fallecidos confirmados\": 47}, {\"index\": 5, \"Grupo de edad\": \"80-89\", \"fecha (a\\u00f1o-mes-d\\u00eda)\": \"2020-04-22\", \"fallecidos confirmados\": 51}, {\"index\": 6, \"Grupo de edad\": \">=90\", \"fecha (a\\u00f1o-mes-d\\u00eda)\": \"2020-04-22\", \"fallecidos confirmados\": 15}, {\"index\": 0, \"Grupo de edad\": \"<=39\", \"fecha (a\\u00f1o-mes-d\\u00eda)\": \"2020-04-23\", \"fallecidos confirmados\": 5}, {\"index\": 1, \"Grupo de edad\": \"40-49\", \"fecha (a\\u00f1o-mes-d\\u00eda)\": \"2020-04-23\", \"fallecidos confirmados\": 3}, {\"index\": 2, \"Grupo de edad\": \"50-59\", \"fecha (a\\u00f1o-mes-d\\u00eda)\": \"2020-04-23\", \"fallecidos confirmados\": 14}, {\"index\": 3, \"Grupo de edad\": \"60-69\", \"fecha (a\\u00f1o-mes-d\\u00eda)\": \"2020-04-23\", \"fallecidos confirmados\": 28}, {\"index\": 4, \"Grupo de edad\": \"70-79\", \"fecha (a\\u00f1o-mes-d\\u00eda)\": \"2020-04-23\", \"fallecidos confirmados\": 48}, {\"index\": 5, \"Grupo de edad\": \"80-89\", \"fecha (a\\u00f1o-mes-d\\u00eda)\": \"2020-04-23\", \"fallecidos confirmados\": 54}, {\"index\": 6, \"Grupo de edad\": \">=90\", \"fecha (a\\u00f1o-mes-d\\u00eda)\": \"2020-04-23\", \"fallecidos confirmados\": 16}, {\"index\": 0, \"Grupo de edad\": \"<=39\", \"fecha (a\\u00f1o-mes-d\\u00eda)\": \"2020-04-24\", \"fallecidos confirmados\": 5}, {\"index\": 1, \"Grupo de edad\": \"40-49\", \"fecha (a\\u00f1o-mes-d\\u00eda)\": \"2020-04-24\", \"fallecidos confirmados\": 4}, {\"index\": 2, \"Grupo de edad\": \"50-59\", \"fecha (a\\u00f1o-mes-d\\u00eda)\": \"2020-04-24\", \"fallecidos confirmados\": 14}, {\"index\": 3, \"Grupo de edad\": \"60-69\", \"fecha (a\\u00f1o-mes-d\\u00eda)\": \"2020-04-24\", \"fallecidos confirmados\": 30}, {\"index\": 4, \"Grupo de edad\": \"70-79\", \"fecha (a\\u00f1o-mes-d\\u00eda)\": \"2020-04-24\", \"fallecidos confirmados\": 49}, {\"index\": 5, \"Grupo de edad\": \"80-89\", \"fecha (a\\u00f1o-mes-d\\u00eda)\": \"2020-04-24\", \"fallecidos confirmados\": 56}, {\"index\": 6, \"Grupo de edad\": \">=90\", \"fecha (a\\u00f1o-mes-d\\u00eda)\": \"2020-04-24\", \"fallecidos confirmados\": 16}, {\"index\": 0, \"Grupo de edad\": \"<=39\", \"fecha (a\\u00f1o-mes-d\\u00eda)\": \"2020-04-25\", \"fallecidos confirmados\": 6}, {\"index\": 1, \"Grupo de edad\": \"40-49\", \"fecha (a\\u00f1o-mes-d\\u00eda)\": \"2020-04-25\", \"fallecidos confirmados\": 6}, {\"index\": 2, \"Grupo de edad\": \"50-59\", \"fecha (a\\u00f1o-mes-d\\u00eda)\": \"2020-04-25\", \"fallecidos confirmados\": 15}, {\"index\": 3, \"Grupo de edad\": \"60-69\", \"fecha (a\\u00f1o-mes-d\\u00eda)\": \"2020-04-25\", \"fallecidos confirmados\": 31}, {\"index\": 4, \"Grupo de edad\": \"70-79\", \"fecha (a\\u00f1o-mes-d\\u00eda)\": \"2020-04-25\", \"fallecidos confirmados\": 50}, {\"index\": 5, \"Grupo de edad\": \"80-89\", \"fecha (a\\u00f1o-mes-d\\u00eda)\": \"2020-04-25\", \"fallecidos confirmados\": 57}, {\"index\": 6, \"Grupo de edad\": \">=90\", \"fecha (a\\u00f1o-mes-d\\u00eda)\": \"2020-04-25\", \"fallecidos confirmados\": 16}, {\"index\": 0, \"Grupo de edad\": \"<=39\", \"fecha (a\\u00f1o-mes-d\\u00eda)\": \"2020-04-26\", \"fallecidos confirmados\": 6}, {\"index\": 1, \"Grupo de edad\": \"40-49\", \"fecha (a\\u00f1o-mes-d\\u00eda)\": \"2020-04-26\", \"fallecidos confirmados\": 7}, {\"index\": 2, \"Grupo de edad\": \"50-59\", \"fecha (a\\u00f1o-mes-d\\u00eda)\": \"2020-04-26\", \"fallecidos confirmados\": 15}, {\"index\": 3, \"Grupo de edad\": \"60-69\", \"fecha (a\\u00f1o-mes-d\\u00eda)\": \"2020-04-26\", \"fallecidos confirmados\": 33}, {\"index\": 4, \"Grupo de edad\": \"70-79\", \"fecha (a\\u00f1o-mes-d\\u00eda)\": \"2020-04-26\", \"fallecidos confirmados\": 52}, {\"index\": 5, \"Grupo de edad\": \"80-89\", \"fecha (a\\u00f1o-mes-d\\u00eda)\": \"2020-04-26\", \"fallecidos confirmados\": 59}, {\"index\": 6, \"Grupo de edad\": \">=90\", \"fecha (a\\u00f1o-mes-d\\u00eda)\": \"2020-04-26\", \"fallecidos confirmados\": 17}, {\"index\": 0, \"Grupo de edad\": \"<=39\", \"fecha (a\\u00f1o-mes-d\\u00eda)\": \"2020-04-27\", \"fallecidos confirmados\": 6}, {\"index\": 1, \"Grupo de edad\": \"40-49\", \"fecha (a\\u00f1o-mes-d\\u00eda)\": \"2020-04-27\", \"fallecidos confirmados\": 7}, {\"index\": 2, \"Grupo de edad\": \"50-59\", \"fecha (a\\u00f1o-mes-d\\u00eda)\": \"2020-04-27\", \"fallecidos confirmados\": 16}, {\"index\": 3, \"Grupo de edad\": \"60-69\", \"fecha (a\\u00f1o-mes-d\\u00eda)\": \"2020-04-27\", \"fallecidos confirmados\": 35}, {\"index\": 4, \"Grupo de edad\": \"70-79\", \"fecha (a\\u00f1o-mes-d\\u00eda)\": \"2020-04-27\", \"fallecidos confirmados\": 57}, {\"index\": 5, \"Grupo de edad\": \"80-89\", \"fecha (a\\u00f1o-mes-d\\u00eda)\": \"2020-04-27\", \"fallecidos confirmados\": 60}, {\"index\": 6, \"Grupo de edad\": \">=90\", \"fecha (a\\u00f1o-mes-d\\u00eda)\": \"2020-04-27\", \"fallecidos confirmados\": 17}, {\"index\": 0, \"Grupo de edad\": \"<=39\", \"fecha (a\\u00f1o-mes-d\\u00eda)\": \"2020-04-28\", \"fallecidos confirmados\": 6}, {\"index\": 1, \"Grupo de edad\": \"40-49\", \"fecha (a\\u00f1o-mes-d\\u00eda)\": \"2020-04-28\", \"fallecidos confirmados\": 8}, {\"index\": 2, \"Grupo de edad\": \"50-59\", \"fecha (a\\u00f1o-mes-d\\u00eda)\": \"2020-04-28\", \"fallecidos confirmados\": 16}, {\"index\": 3, \"Grupo de edad\": \"60-69\", \"fecha (a\\u00f1o-mes-d\\u00eda)\": \"2020-04-28\", \"fallecidos confirmados\": 35}, {\"index\": 4, \"Grupo de edad\": \"70-79\", \"fecha (a\\u00f1o-mes-d\\u00eda)\": \"2020-04-28\", \"fallecidos confirmados\": 60}, {\"index\": 5, \"Grupo de edad\": \"80-89\", \"fecha (a\\u00f1o-mes-d\\u00eda)\": \"2020-04-28\", \"fallecidos confirmados\": 62}, {\"index\": 6, \"Grupo de edad\": \">=90\", \"fecha (a\\u00f1o-mes-d\\u00eda)\": \"2020-04-28\", \"fallecidos confirmados\": 20}, {\"index\": 0, \"Grupo de edad\": \"<=39\", \"fecha (a\\u00f1o-mes-d\\u00eda)\": \"2020-04-29\", \"fallecidos confirmados\": 6}, {\"index\": 1, \"Grupo de edad\": \"40-49\", \"fecha (a\\u00f1o-mes-d\\u00eda)\": \"2020-04-29\", \"fallecidos confirmados\": 9}, {\"index\": 2, \"Grupo de edad\": \"50-59\", \"fecha (a\\u00f1o-mes-d\\u00eda)\": \"2020-04-29\", \"fallecidos confirmados\": 17}, {\"index\": 3, \"Grupo de edad\": \"60-69\", \"fecha (a\\u00f1o-mes-d\\u00eda)\": \"2020-04-29\", \"fallecidos confirmados\": 38}, {\"index\": 4, \"Grupo de edad\": \"70-79\", \"fecha (a\\u00f1o-mes-d\\u00eda)\": \"2020-04-29\", \"fallecidos confirmados\": 60}, {\"index\": 5, \"Grupo de edad\": \"80-89\", \"fecha (a\\u00f1o-mes-d\\u00eda)\": \"2020-04-29\", \"fallecidos confirmados\": 65}, {\"index\": 6, \"Grupo de edad\": \">=90\", \"fecha (a\\u00f1o-mes-d\\u00eda)\": \"2020-04-29\", \"fallecidos confirmados\": 21}, {\"index\": 0, \"Grupo de edad\": \"<=39\", \"fecha (a\\u00f1o-mes-d\\u00eda)\": \"2020-04-30\", \"fallecidos confirmados\": 6}, {\"index\": 1, \"Grupo de edad\": \"40-49\", \"fecha (a\\u00f1o-mes-d\\u00eda)\": \"2020-04-30\", \"fallecidos confirmados\": 10}, {\"index\": 2, \"Grupo de edad\": \"50-59\", \"fecha (a\\u00f1o-mes-d\\u00eda)\": \"2020-04-30\", \"fallecidos confirmados\": 17}, {\"index\": 3, \"Grupo de edad\": \"60-69\", \"fecha (a\\u00f1o-mes-d\\u00eda)\": \"2020-04-30\", \"fallecidos confirmados\": 40}, {\"index\": 4, \"Grupo de edad\": \"70-79\", \"fecha (a\\u00f1o-mes-d\\u00eda)\": \"2020-04-30\", \"fallecidos confirmados\": 65}, {\"index\": 5, \"Grupo de edad\": \"80-89\", \"fecha (a\\u00f1o-mes-d\\u00eda)\": \"2020-04-30\", \"fallecidos confirmados\": 68}, {\"index\": 6, \"Grupo de edad\": \">=90\", \"fecha (a\\u00f1o-mes-d\\u00eda)\": \"2020-04-30\", \"fallecidos confirmados\": 21}, {\"index\": 0, \"Grupo de edad\": \"<=39\", \"fecha (a\\u00f1o-mes-d\\u00eda)\": \"2020-05-01\", \"fallecidos confirmados\": 6}, {\"index\": 1, \"Grupo de edad\": \"40-49\", \"fecha (a\\u00f1o-mes-d\\u00eda)\": \"2020-05-01\", \"fallecidos confirmados\": 10}, {\"index\": 2, \"Grupo de edad\": \"50-59\", \"fecha (a\\u00f1o-mes-d\\u00eda)\": \"2020-05-01\", \"fallecidos confirmados\": 18}, {\"index\": 3, \"Grupo de edad\": \"60-69\", \"fecha (a\\u00f1o-mes-d\\u00eda)\": \"2020-05-01\", \"fallecidos confirmados\": 41}, {\"index\": 4, \"Grupo de edad\": \"70-79\", \"fecha (a\\u00f1o-mes-d\\u00eda)\": \"2020-05-01\", \"fallecidos confirmados\": 68}, {\"index\": 5, \"Grupo de edad\": \"80-89\", \"fecha (a\\u00f1o-mes-d\\u00eda)\": \"2020-05-01\", \"fallecidos confirmados\": 70}, {\"index\": 6, \"Grupo de edad\": \">=90\", \"fecha (a\\u00f1o-mes-d\\u00eda)\": \"2020-05-01\", \"fallecidos confirmados\": 21}, {\"index\": 0, \"Grupo de edad\": \"<=39\", \"fecha (a\\u00f1o-mes-d\\u00eda)\": \"2020-05-02\", \"fallecidos confirmados\": 6}, {\"index\": 1, \"Grupo de edad\": \"40-49\", \"fecha (a\\u00f1o-mes-d\\u00eda)\": \"2020-05-02\", \"fallecidos confirmados\": 11}, {\"index\": 2, \"Grupo de edad\": \"50-59\", \"fecha (a\\u00f1o-mes-d\\u00eda)\": \"2020-05-02\", \"fallecidos confirmados\": 18}, {\"index\": 3, \"Grupo de edad\": \"60-69\", \"fecha (a\\u00f1o-mes-d\\u00eda)\": \"2020-05-02\", \"fallecidos confirmados\": 43}, {\"index\": 4, \"Grupo de edad\": \"70-79\", \"fecha (a\\u00f1o-mes-d\\u00eda)\": \"2020-05-02\", \"fallecidos confirmados\": 72}, {\"index\": 5, \"Grupo de edad\": \"80-89\", \"fecha (a\\u00f1o-mes-d\\u00eda)\": \"2020-05-02\", \"fallecidos confirmados\": 75}, {\"index\": 6, \"Grupo de edad\": \">=90\", \"fecha (a\\u00f1o-mes-d\\u00eda)\": \"2020-05-02\", \"fallecidos confirmados\": 23}, {\"index\": 0, \"Grupo de edad\": \"<=39\", \"fecha (a\\u00f1o-mes-d\\u00eda)\": \"2020-05-03\", \"fallecidos confirmados\": 6}, {\"index\": 1, \"Grupo de edad\": \"40-49\", \"fecha (a\\u00f1o-mes-d\\u00eda)\": \"2020-05-03\", \"fallecidos confirmados\": 12}, {\"index\": 2, \"Grupo de edad\": \"50-59\", \"fecha (a\\u00f1o-mes-d\\u00eda)\": \"2020-05-03\", \"fallecidos confirmados\": 18}, {\"index\": 3, \"Grupo de edad\": \"60-69\", \"fecha (a\\u00f1o-mes-d\\u00eda)\": \"2020-05-03\", \"fallecidos confirmados\": 45}, {\"index\": 4, \"Grupo de edad\": \"70-79\", \"fecha (a\\u00f1o-mes-d\\u00eda)\": \"2020-05-03\", \"fallecidos confirmados\": 73}, {\"index\": 5, \"Grupo de edad\": \"80-89\", \"fecha (a\\u00f1o-mes-d\\u00eda)\": \"2020-05-03\", \"fallecidos confirmados\": 80}, {\"index\": 6, \"Grupo de edad\": \">=90\", \"fecha (a\\u00f1o-mes-d\\u00eda)\": \"2020-05-03\", \"fallecidos confirmados\": 26}, {\"index\": 0, \"Grupo de edad\": \"<=39\", \"fecha (a\\u00f1o-mes-d\\u00eda)\": \"2020-05-04\", \"fallecidos confirmados\": 6}, {\"index\": 1, \"Grupo de edad\": \"40-49\", \"fecha (a\\u00f1o-mes-d\\u00eda)\": \"2020-05-04\", \"fallecidos confirmados\": 12}, {\"index\": 2, \"Grupo de edad\": \"50-59\", \"fecha (a\\u00f1o-mes-d\\u00eda)\": \"2020-05-04\", \"fallecidos confirmados\": 20}, {\"index\": 3, \"Grupo de edad\": \"60-69\", \"fecha (a\\u00f1o-mes-d\\u00eda)\": \"2020-05-04\", \"fallecidos confirmados\": 46}, {\"index\": 4, \"Grupo de edad\": \"70-79\", \"fecha (a\\u00f1o-mes-d\\u00eda)\": \"2020-05-04\", \"fallecidos confirmados\": 76}, {\"index\": 5, \"Grupo de edad\": \"80-89\", \"fecha (a\\u00f1o-mes-d\\u00eda)\": \"2020-05-04\", \"fallecidos confirmados\": 83}, {\"index\": 6, \"Grupo de edad\": \">=90\", \"fecha (a\\u00f1o-mes-d\\u00eda)\": \"2020-05-04\", \"fallecidos confirmados\": 27}, {\"index\": 0, \"Grupo de edad\": \"<=39\", \"fecha (a\\u00f1o-mes-d\\u00eda)\": \"2020-05-05\", \"fallecidos confirmados\": 6}, {\"index\": 1, \"Grupo de edad\": \"40-49\", \"fecha (a\\u00f1o-mes-d\\u00eda)\": \"2020-05-05\", \"fallecidos confirmados\": 13}, {\"index\": 2, \"Grupo de edad\": \"50-59\", \"fecha (a\\u00f1o-mes-d\\u00eda)\": \"2020-05-05\", \"fallecidos confirmados\": 20}, {\"index\": 3, \"Grupo de edad\": \"60-69\", \"fecha (a\\u00f1o-mes-d\\u00eda)\": \"2020-05-05\", \"fallecidos confirmados\": 46}, {\"index\": 4, \"Grupo de edad\": \"70-79\", \"fecha (a\\u00f1o-mes-d\\u00eda)\": \"2020-05-05\", \"fallecidos confirmados\": 76}, {\"index\": 5, \"Grupo de edad\": \"80-89\", \"fecha (a\\u00f1o-mes-d\\u00eda)\": \"2020-05-05\", \"fallecidos confirmados\": 85}, {\"index\": 6, \"Grupo de edad\": \">=90\", \"fecha (a\\u00f1o-mes-d\\u00eda)\": \"2020-05-05\", \"fallecidos confirmados\": 29}, {\"index\": 0, \"Grupo de edad\": \"<=39\", \"fecha (a\\u00f1o-mes-d\\u00eda)\": \"2020-05-06\", \"fallecidos confirmados\": 6}, {\"index\": 1, \"Grupo de edad\": \"40-49\", \"fecha (a\\u00f1o-mes-d\\u00eda)\": \"2020-05-06\", \"fallecidos confirmados\": 13}, {\"index\": 2, \"Grupo de edad\": \"50-59\", \"fecha (a\\u00f1o-mes-d\\u00eda)\": \"2020-05-06\", \"fallecidos confirmados\": 20}, {\"index\": 3, \"Grupo de edad\": \"60-69\", \"fecha (a\\u00f1o-mes-d\\u00eda)\": \"2020-05-06\", \"fallecidos confirmados\": 47}, {\"index\": 4, \"Grupo de edad\": \"70-79\", \"fecha (a\\u00f1o-mes-d\\u00eda)\": \"2020-05-06\", \"fallecidos confirmados\": 76}, {\"index\": 5, \"Grupo de edad\": \"80-89\", \"fecha (a\\u00f1o-mes-d\\u00eda)\": \"2020-05-06\", \"fallecidos confirmados\": 89}, {\"index\": 6, \"Grupo de edad\": \">=90\", \"fecha (a\\u00f1o-mes-d\\u00eda)\": \"2020-05-06\", \"fallecidos confirmados\": 30}, {\"index\": 0, \"Grupo de edad\": \"<=39\", \"fecha (a\\u00f1o-mes-d\\u00eda)\": \"2020-05-07\", \"fallecidos confirmados\": 6}, {\"index\": 1, \"Grupo de edad\": \"40-49\", \"fecha (a\\u00f1o-mes-d\\u00eda)\": \"2020-05-07\", \"fallecidos confirmados\": 13}, {\"index\": 2, \"Grupo de edad\": \"50-59\", \"fecha (a\\u00f1o-mes-d\\u00eda)\": \"2020-05-07\", \"fallecidos confirmados\": 21}, {\"index\": 3, \"Grupo de edad\": \"60-69\", \"fecha (a\\u00f1o-mes-d\\u00eda)\": \"2020-05-07\", \"fallecidos confirmados\": 47}, {\"index\": 4, \"Grupo de edad\": \"70-79\", \"fecha (a\\u00f1o-mes-d\\u00eda)\": \"2020-05-07\", \"fallecidos confirmados\": 76}, {\"index\": 5, \"Grupo de edad\": \"80-89\", \"fecha (a\\u00f1o-mes-d\\u00eda)\": \"2020-05-07\", \"fallecidos confirmados\": 92}, {\"index\": 6, \"Grupo de edad\": \">=90\", \"fecha (a\\u00f1o-mes-d\\u00eda)\": \"2020-05-07\", \"fallecidos confirmados\": 30}, {\"index\": 0, \"Grupo de edad\": \"<=39\", \"fecha (a\\u00f1o-mes-d\\u00eda)\": \"2020-05-08\", \"fallecidos confirmados\": 7}, {\"index\": 1, \"Grupo de edad\": \"40-49\", \"fecha (a\\u00f1o-mes-d\\u00eda)\": \"2020-05-08\", \"fallecidos confirmados\": 14}, {\"index\": 2, \"Grupo de edad\": \"50-59\", \"fecha (a\\u00f1o-mes-d\\u00eda)\": \"2020-05-08\", \"fallecidos confirmados\": 21}, {\"index\": 3, \"Grupo de edad\": \"60-69\", \"fecha (a\\u00f1o-mes-d\\u00eda)\": \"2020-05-08\", \"fallecidos confirmados\": 49}, {\"index\": 4, \"Grupo de edad\": \"70-79\", \"fecha (a\\u00f1o-mes-d\\u00eda)\": \"2020-05-08\", \"fallecidos confirmados\": 80}, {\"index\": 5, \"Grupo de edad\": \"80-89\", \"fecha (a\\u00f1o-mes-d\\u00eda)\": \"2020-05-08\", \"fallecidos confirmados\": 93}, {\"index\": 6, \"Grupo de edad\": \">=90\", \"fecha (a\\u00f1o-mes-d\\u00eda)\": \"2020-05-08\", \"fallecidos confirmados\": 30}, {\"index\": 0, \"Grupo de edad\": \"<=39\", \"fecha (a\\u00f1o-mes-d\\u00eda)\": \"2020-05-09\", \"fallecidos confirmados\": 7}, {\"index\": 1, \"Grupo de edad\": \"40-49\", \"fecha (a\\u00f1o-mes-d\\u00eda)\": \"2020-05-09\", \"fallecidos confirmados\": 15}, {\"index\": 2, \"Grupo de edad\": \"50-59\", \"fecha (a\\u00f1o-mes-d\\u00eda)\": \"2020-05-09\", \"fallecidos confirmados\": 22}, {\"index\": 3, \"Grupo de edad\": \"60-69\", \"fecha (a\\u00f1o-mes-d\\u00eda)\": \"2020-05-09\", \"fallecidos confirmados\": 52}, {\"index\": 4, \"Grupo de edad\": \"70-79\", \"fecha (a\\u00f1o-mes-d\\u00eda)\": \"2020-05-09\", \"fallecidos confirmados\": 82}, {\"index\": 5, \"Grupo de edad\": \"80-89\", \"fecha (a\\u00f1o-mes-d\\u00eda)\": \"2020-05-09\", \"fallecidos confirmados\": 93}, {\"index\": 6, \"Grupo de edad\": \">=90\", \"fecha (a\\u00f1o-mes-d\\u00eda)\": \"2020-05-09\", \"fallecidos confirmados\": 33}, {\"index\": 0, \"Grupo de edad\": \"<=39\", \"fecha (a\\u00f1o-mes-d\\u00eda)\": \"2020-05-10\", \"fallecidos confirmados\": 7}, {\"index\": 1, \"Grupo de edad\": \"40-49\", \"fecha (a\\u00f1o-mes-d\\u00eda)\": \"2020-05-10\", \"fallecidos confirmados\": 16}, {\"index\": 2, \"Grupo de edad\": \"50-59\", \"fecha (a\\u00f1o-mes-d\\u00eda)\": \"2020-05-10\", \"fallecidos confirmados\": 22}, {\"index\": 3, \"Grupo de edad\": \"60-69\", \"fecha (a\\u00f1o-mes-d\\u00eda)\": \"2020-05-10\", \"fallecidos confirmados\": 54}, {\"index\": 4, \"Grupo de edad\": \"70-79\", \"fecha (a\\u00f1o-mes-d\\u00eda)\": \"2020-05-10\", \"fallecidos confirmados\": 84}, {\"index\": 5, \"Grupo de edad\": \"80-89\", \"fecha (a\\u00f1o-mes-d\\u00eda)\": \"2020-05-10\", \"fallecidos confirmados\": 95}, {\"index\": 6, \"Grupo de edad\": \">=90\", \"fecha (a\\u00f1o-mes-d\\u00eda)\": \"2020-05-10\", \"fallecidos confirmados\": 34}, {\"index\": 0, \"Grupo de edad\": \"<=39\", \"fecha (a\\u00f1o-mes-d\\u00eda)\": \"2020-05-11\", \"fallecidos confirmados\": 7}, {\"index\": 1, \"Grupo de edad\": \"40-49\", \"fecha (a\\u00f1o-mes-d\\u00eda)\": \"2020-05-11\", \"fallecidos confirmados\": 16}, {\"index\": 2, \"Grupo de edad\": \"50-59\", \"fecha (a\\u00f1o-mes-d\\u00eda)\": \"2020-05-11\", \"fallecidos confirmados\": 23}, {\"index\": 3, \"Grupo de edad\": \"60-69\", \"fecha (a\\u00f1o-mes-d\\u00eda)\": \"2020-05-11\", \"fallecidos confirmados\": 56}, {\"index\": 4, \"Grupo de edad\": \"70-79\", \"fecha (a\\u00f1o-mes-d\\u00eda)\": \"2020-05-11\", \"fallecidos confirmados\": 89}, {\"index\": 5, \"Grupo de edad\": \"80-89\", \"fecha (a\\u00f1o-mes-d\\u00eda)\": \"2020-05-11\", \"fallecidos confirmados\": 96}, {\"index\": 6, \"Grupo de edad\": \">=90\", \"fecha (a\\u00f1o-mes-d\\u00eda)\": \"2020-05-11\", \"fallecidos confirmados\": 36}, {\"index\": 0, \"Grupo de edad\": \"<=39\", \"fecha (a\\u00f1o-mes-d\\u00eda)\": \"2020-05-12\", \"fallecidos confirmados\": 8}, {\"index\": 1, \"Grupo de edad\": \"40-49\", \"fecha (a\\u00f1o-mes-d\\u00eda)\": \"2020-05-12\", \"fallecidos confirmados\": 18}, {\"index\": 2, \"Grupo de edad\": \"50-59\", \"fecha (a\\u00f1o-mes-d\\u00eda)\": \"2020-05-12\", \"fallecidos confirmados\": 24}, {\"index\": 3, \"Grupo de edad\": \"60-69\", \"fecha (a\\u00f1o-mes-d\\u00eda)\": \"2020-05-12\", \"fallecidos confirmados\": 56}, {\"index\": 4, \"Grupo de edad\": \"70-79\", \"fecha (a\\u00f1o-mes-d\\u00eda)\": \"2020-05-12\", \"fallecidos confirmados\": 92}, {\"index\": 5, \"Grupo de edad\": \"80-89\", \"fecha (a\\u00f1o-mes-d\\u00eda)\": \"2020-05-12\", \"fallecidos confirmados\": 99}, {\"index\": 6, \"Grupo de edad\": \">=90\", \"fecha (a\\u00f1o-mes-d\\u00eda)\": \"2020-05-12\", \"fallecidos confirmados\": 38}, {\"index\": 0, \"Grupo de edad\": \"<=39\", \"fecha (a\\u00f1o-mes-d\\u00eda)\": \"2020-05-13\", \"fallecidos confirmados\": 8}, {\"index\": 1, \"Grupo de edad\": \"40-49\", \"fecha (a\\u00f1o-mes-d\\u00eda)\": \"2020-05-13\", \"fallecidos confirmados\": 19}, {\"index\": 2, \"Grupo de edad\": \"50-59\", \"fecha (a\\u00f1o-mes-d\\u00eda)\": \"2020-05-13\", \"fallecidos confirmados\": 27}, {\"index\": 3, \"Grupo de edad\": \"60-69\", \"fecha (a\\u00f1o-mes-d\\u00eda)\": \"2020-05-13\", \"fallecidos confirmados\": 58}, {\"index\": 4, \"Grupo de edad\": \"70-79\", \"fecha (a\\u00f1o-mes-d\\u00eda)\": \"2020-05-13\", \"fallecidos confirmados\": 94}, {\"index\": 5, \"Grupo de edad\": \"80-89\", \"fecha (a\\u00f1o-mes-d\\u00eda)\": \"2020-05-13\", \"fallecidos confirmados\": 102}, {\"index\": 6, \"Grupo de edad\": \">=90\", \"fecha (a\\u00f1o-mes-d\\u00eda)\": \"2020-05-13\", \"fallecidos confirmados\": 38}, {\"index\": 0, \"Grupo de edad\": \"<=39\", \"fecha (a\\u00f1o-mes-d\\u00eda)\": \"2020-05-14\", \"fallecidos confirmados\": 9}, {\"index\": 1, \"Grupo de edad\": \"40-49\", \"fecha (a\\u00f1o-mes-d\\u00eda)\": \"2020-05-14\", \"fallecidos confirmados\": 22}, {\"index\": 2, \"Grupo de edad\": \"50-59\", \"fecha (a\\u00f1o-mes-d\\u00eda)\": \"2020-05-14\", \"fallecidos confirmados\": 27}, {\"index\": 3, \"Grupo de edad\": \"60-69\", \"fecha (a\\u00f1o-mes-d\\u00eda)\": \"2020-05-14\", \"fallecidos confirmados\": 63}, {\"index\": 4, \"Grupo de edad\": \"70-79\", \"fecha (a\\u00f1o-mes-d\\u00eda)\": \"2020-05-14\", \"fallecidos confirmados\": 102}, {\"index\": 5, \"Grupo de edad\": \"80-89\", \"fecha (a\\u00f1o-mes-d\\u00eda)\": \"2020-05-14\", \"fallecidos confirmados\": 107}, {\"index\": 6, \"Grupo de edad\": \">=90\", \"fecha (a\\u00f1o-mes-d\\u00eda)\": \"2020-05-14\", \"fallecidos confirmados\": 38}, {\"index\": 0, \"Grupo de edad\": \"<=39\", \"fecha (a\\u00f1o-mes-d\\u00eda)\": \"2020-05-15\", \"fallecidos confirmados\": 10}, {\"index\": 1, \"Grupo de edad\": \"40-49\", \"fecha (a\\u00f1o-mes-d\\u00eda)\": \"2020-05-15\", \"fallecidos confirmados\": 22}, {\"index\": 2, \"Grupo de edad\": \"50-59\", \"fecha (a\\u00f1o-mes-d\\u00eda)\": \"2020-05-15\", \"fallecidos confirmados\": 31}, {\"index\": 3, \"Grupo de edad\": \"60-69\", \"fecha (a\\u00f1o-mes-d\\u00eda)\": \"2020-05-15\", \"fallecidos confirmados\": 65}, {\"index\": 4, \"Grupo de edad\": \"70-79\", \"fecha (a\\u00f1o-mes-d\\u00eda)\": \"2020-05-15\", \"fallecidos confirmados\": 110}, {\"index\": 5, \"Grupo de edad\": \"80-89\", \"fecha (a\\u00f1o-mes-d\\u00eda)\": \"2020-05-15\", \"fallecidos confirmados\": 117}, {\"index\": 6, \"Grupo de edad\": \">=90\", \"fecha (a\\u00f1o-mes-d\\u00eda)\": \"2020-05-15\", \"fallecidos confirmados\": 39}, {\"index\": 0, \"Grupo de edad\": \"<=39\", \"fecha (a\\u00f1o-mes-d\\u00eda)\": \"2020-05-16\", \"fallecidos confirmados\": 10}, {\"index\": 1, \"Grupo de edad\": \"40-49\", \"fecha (a\\u00f1o-mes-d\\u00eda)\": \"2020-05-16\", \"fallecidos confirmados\": 24}, {\"index\": 2, \"Grupo de edad\": \"50-59\", \"fecha (a\\u00f1o-mes-d\\u00eda)\": \"2020-05-16\", \"fallecidos confirmados\": 32}, {\"index\": 3, \"Grupo de edad\": \"60-69\", \"fecha (a\\u00f1o-mes-d\\u00eda)\": \"2020-05-16\", \"fallecidos confirmados\": 73}, {\"index\": 4, \"Grupo de edad\": \"70-79\", \"fecha (a\\u00f1o-mes-d\\u00eda)\": \"2020-05-16\", \"fallecidos confirmados\": 118}, {\"index\": 5, \"Grupo de edad\": \"80-89\", \"fecha (a\\u00f1o-mes-d\\u00eda)\": \"2020-05-16\", \"fallecidos confirmados\": 123}, {\"index\": 6, \"Grupo de edad\": \">=90\", \"fecha (a\\u00f1o-mes-d\\u00eda)\": \"2020-05-16\", \"fallecidos confirmados\": 41}, {\"index\": 0, \"Grupo de edad\": \"<=39\", \"fecha (a\\u00f1o-mes-d\\u00eda)\": \"2020-05-17\", \"fallecidos confirmados\": 10}, {\"index\": 1, \"Grupo de edad\": \"40-49\", \"fecha (a\\u00f1o-mes-d\\u00eda)\": \"2020-05-17\", \"fallecidos confirmados\": 25}, {\"index\": 2, \"Grupo de edad\": \"50-59\", \"fecha (a\\u00f1o-mes-d\\u00eda)\": \"2020-05-17\", \"fallecidos confirmados\": 35}, {\"index\": 3, \"Grupo de edad\": \"60-69\", \"fecha (a\\u00f1o-mes-d\\u00eda)\": \"2020-05-17\", \"fallecidos confirmados\": 78}, {\"index\": 4, \"Grupo de edad\": \"70-79\", \"fecha (a\\u00f1o-mes-d\\u00eda)\": \"2020-05-17\", \"fallecidos confirmados\": 126}, {\"index\": 5, \"Grupo de edad\": \"80-89\", \"fecha (a\\u00f1o-mes-d\\u00eda)\": \"2020-05-17\", \"fallecidos confirmados\": 132}, {\"index\": 6, \"Grupo de edad\": \">=90\", \"fecha (a\\u00f1o-mes-d\\u00eda)\": \"2020-05-17\", \"fallecidos confirmados\": 44}, {\"index\": 0, \"Grupo de edad\": \"<=39\", \"fecha (a\\u00f1o-mes-d\\u00eda)\": \"2020-05-18\", \"fallecidos confirmados\": 10}, {\"index\": 1, \"Grupo de edad\": \"40-49\", \"fecha (a\\u00f1o-mes-d\\u00eda)\": \"2020-05-18\", \"fallecidos confirmados\": 28}, {\"index\": 2, \"Grupo de edad\": \"50-59\", \"fecha (a\\u00f1o-mes-d\\u00eda)\": \"2020-05-18\", \"fallecidos confirmados\": 40}, {\"index\": 3, \"Grupo de edad\": \"60-69\", \"fecha (a\\u00f1o-mes-d\\u00eda)\": \"2020-05-18\", \"fallecidos confirmados\": 82}, {\"index\": 4, \"Grupo de edad\": \"70-79\", \"fecha (a\\u00f1o-mes-d\\u00eda)\": \"2020-05-18\", \"fallecidos confirmados\": 133}, {\"index\": 5, \"Grupo de edad\": \"80-89\", \"fecha (a\\u00f1o-mes-d\\u00eda)\": \"2020-05-18\", \"fallecidos confirmados\": 136}, {\"index\": 6, \"Grupo de edad\": \">=90\", \"fecha (a\\u00f1o-mes-d\\u00eda)\": \"2020-05-18\", \"fallecidos confirmados\": 49}, {\"index\": 0, \"Grupo de edad\": \"<=39\", \"fecha (a\\u00f1o-mes-d\\u00eda)\": \"2020-05-19\", \"fallecidos confirmados\": 11}, {\"index\": 1, \"Grupo de edad\": \"40-49\", \"fecha (a\\u00f1o-mes-d\\u00eda)\": \"2020-05-19\", \"fallecidos confirmados\": 30}, {\"index\": 2, \"Grupo de edad\": \"50-59\", \"fecha (a\\u00f1o-mes-d\\u00eda)\": \"2020-05-19\", \"fallecidos confirmados\": 47}, {\"index\": 3, \"Grupo de edad\": \"60-69\", \"fecha (a\\u00f1o-mes-d\\u00eda)\": \"2020-05-19\", \"fallecidos confirmados\": 83}, {\"index\": 4, \"Grupo de edad\": \"70-79\", \"fecha (a\\u00f1o-mes-d\\u00eda)\": \"2020-05-19\", \"fallecidos confirmados\": 141}, {\"index\": 5, \"Grupo de edad\": \"80-89\", \"fecha (a\\u00f1o-mes-d\\u00eda)\": \"2020-05-19\", \"fallecidos confirmados\": 145}, {\"index\": 6, \"Grupo de edad\": \">=90\", \"fecha (a\\u00f1o-mes-d\\u00eda)\": \"2020-05-19\", \"fallecidos confirmados\": 52}, {\"index\": 0, \"Grupo de edad\": \"<=39\", \"fecha (a\\u00f1o-mes-d\\u00eda)\": \"2020-05-20\", \"fallecidos confirmados\": 11}, {\"index\": 1, \"Grupo de edad\": \"40-49\", \"fecha (a\\u00f1o-mes-d\\u00eda)\": \"2020-05-20\", \"fallecidos confirmados\": 31}, {\"index\": 2, \"Grupo de edad\": \"50-59\", \"fecha (a\\u00f1o-mes-d\\u00eda)\": \"2020-05-20\", \"fallecidos confirmados\": 51}, {\"index\": 3, \"Grupo de edad\": \"60-69\", \"fecha (a\\u00f1o-mes-d\\u00eda)\": \"2020-05-20\", \"fallecidos confirmados\": 92}, {\"index\": 4, \"Grupo de edad\": \"70-79\", \"fecha (a\\u00f1o-mes-d\\u00eda)\": \"2020-05-20\", \"fallecidos confirmados\": 152}, {\"index\": 5, \"Grupo de edad\": \"80-89\", \"fecha (a\\u00f1o-mes-d\\u00eda)\": \"2020-05-20\", \"fallecidos confirmados\": 152}, {\"index\": 6, \"Grupo de edad\": \">=90\", \"fecha (a\\u00f1o-mes-d\\u00eda)\": \"2020-05-20\", \"fallecidos confirmados\": 55}, {\"index\": 0, \"Grupo de edad\": \"<=39\", \"fecha (a\\u00f1o-mes-d\\u00eda)\": \"2020-05-21\", \"fallecidos confirmados\": 12}, {\"index\": 1, \"Grupo de edad\": \"40-49\", \"fecha (a\\u00f1o-mes-d\\u00eda)\": \"2020-05-21\", \"fallecidos confirmados\": 32}, {\"index\": 2, \"Grupo de edad\": \"50-59\", \"fecha (a\\u00f1o-mes-d\\u00eda)\": \"2020-05-21\", \"fallecidos confirmados\": 57}, {\"index\": 3, \"Grupo de edad\": \"60-69\", \"fecha (a\\u00f1o-mes-d\\u00eda)\": \"2020-05-21\", \"fallecidos confirmados\": 99}, {\"index\": 4, \"Grupo de edad\": \"70-79\", \"fecha (a\\u00f1o-mes-d\\u00eda)\": \"2020-05-21\", \"fallecidos confirmados\": 173}, {\"index\": 5, \"Grupo de edad\": \"80-89\", \"fecha (a\\u00f1o-mes-d\\u00eda)\": \"2020-05-21\", \"fallecidos confirmados\": 159}, {\"index\": 6, \"Grupo de edad\": \">=90\", \"fecha (a\\u00f1o-mes-d\\u00eda)\": \"2020-05-21\", \"fallecidos confirmados\": 57}, {\"index\": 0, \"Grupo de edad\": \"<=39\", \"fecha (a\\u00f1o-mes-d\\u00eda)\": \"2020-05-22\", \"fallecidos confirmados\": 13}, {\"index\": 1, \"Grupo de edad\": \"40-49\", \"fecha (a\\u00f1o-mes-d\\u00eda)\": \"2020-05-22\", \"fallecidos confirmados\": 33}, {\"index\": 2, \"Grupo de edad\": \"50-59\", \"fecha (a\\u00f1o-mes-d\\u00eda)\": \"2020-05-22\", \"fallecidos confirmados\": 58}, {\"index\": 3, \"Grupo de edad\": \"60-69\", \"fecha (a\\u00f1o-mes-d\\u00eda)\": \"2020-05-22\", \"fallecidos confirmados\": 106}, {\"index\": 4, \"Grupo de edad\": \"70-79\", \"fecha (a\\u00f1o-mes-d\\u00eda)\": \"2020-05-22\", \"fallecidos confirmados\": 183}, {\"index\": 5, \"Grupo de edad\": \"80-89\", \"fecha (a\\u00f1o-mes-d\\u00eda)\": \"2020-05-22\", \"fallecidos confirmados\": 178}, {\"index\": 6, \"Grupo de edad\": \">=90\", \"fecha (a\\u00f1o-mes-d\\u00eda)\": \"2020-05-22\", \"fallecidos confirmados\": 59}, {\"index\": 0, \"Grupo de edad\": \"<=39\", \"fecha (a\\u00f1o-mes-d\\u00eda)\": \"2020-05-23\", \"fallecidos confirmados\": 14}, {\"index\": 1, \"Grupo de edad\": \"40-49\", \"fecha (a\\u00f1o-mes-d\\u00eda)\": \"2020-05-23\", \"fallecidos confirmados\": 35}, {\"index\": 2, \"Grupo de edad\": \"50-59\", \"fecha (a\\u00f1o-mes-d\\u00eda)\": \"2020-05-23\", \"fallecidos confirmados\": 64}, {\"index\": 3, \"Grupo de edad\": \"60-69\", \"fecha (a\\u00f1o-mes-d\\u00eda)\": \"2020-05-23\", \"fallecidos confirmados\": 112}, {\"index\": 4, \"Grupo de edad\": \"70-79\", \"fecha (a\\u00f1o-mes-d\\u00eda)\": \"2020-05-23\", \"fallecidos confirmados\": 193}, {\"index\": 5, \"Grupo de edad\": \"80-89\", \"fecha (a\\u00f1o-mes-d\\u00eda)\": \"2020-05-23\", \"fallecidos confirmados\": 193}, {\"index\": 6, \"Grupo de edad\": \">=90\", \"fecha (a\\u00f1o-mes-d\\u00eda)\": \"2020-05-23\", \"fallecidos confirmados\": 62}, {\"index\": 0, \"Grupo de edad\": \"<=39\", \"fecha (a\\u00f1o-mes-d\\u00eda)\": \"2020-05-24\", \"fallecidos confirmados\": 16}, {\"index\": 1, \"Grupo de edad\": \"40-49\", \"fecha (a\\u00f1o-mes-d\\u00eda)\": \"2020-05-24\", \"fallecidos confirmados\": 38}, {\"index\": 2, \"Grupo de edad\": \"50-59\", \"fecha (a\\u00f1o-mes-d\\u00eda)\": \"2020-05-24\", \"fallecidos confirmados\": 67}, {\"index\": 3, \"Grupo de edad\": \"60-69\", \"fecha (a\\u00f1o-mes-d\\u00eda)\": \"2020-05-24\", \"fallecidos confirmados\": 121}, {\"index\": 4, \"Grupo de edad\": \"70-79\", \"fecha (a\\u00f1o-mes-d\\u00eda)\": \"2020-05-24\", \"fallecidos confirmados\": 210}, {\"index\": 5, \"Grupo de edad\": \"80-89\", \"fecha (a\\u00f1o-mes-d\\u00eda)\": \"2020-05-24\", \"fallecidos confirmados\": 200}, {\"index\": 6, \"Grupo de edad\": \">=90\", \"fecha (a\\u00f1o-mes-d\\u00eda)\": \"2020-05-24\", \"fallecidos confirmados\": 66}, {\"index\": 0, \"Grupo de edad\": \"<=39\", \"fecha (a\\u00f1o-mes-d\\u00eda)\": \"2020-05-25\", \"fallecidos confirmados\": 16}, {\"index\": 1, \"Grupo de edad\": \"40-49\", \"fecha (a\\u00f1o-mes-d\\u00eda)\": \"2020-05-25\", \"fallecidos confirmados\": 41}, {\"index\": 2, \"Grupo de edad\": \"50-59\", \"fecha (a\\u00f1o-mes-d\\u00eda)\": \"2020-05-25\", \"fallecidos confirmados\": 69}, {\"index\": 3, \"Grupo de edad\": \"60-69\", \"fecha (a\\u00f1o-mes-d\\u00eda)\": \"2020-05-25\", \"fallecidos confirmados\": 128}, {\"index\": 4, \"Grupo de edad\": \"70-79\", \"fecha (a\\u00f1o-mes-d\\u00eda)\": \"2020-05-25\", \"fallecidos confirmados\": 225}, {\"index\": 5, \"Grupo de edad\": \"80-89\", \"fecha (a\\u00f1o-mes-d\\u00eda)\": \"2020-05-25\", \"fallecidos confirmados\": 208}, {\"index\": 6, \"Grupo de edad\": \">=90\", \"fecha (a\\u00f1o-mes-d\\u00eda)\": \"2020-05-25\", \"fallecidos confirmados\": 74}, {\"index\": 0, \"Grupo de edad\": \"<=39\", \"fecha (a\\u00f1o-mes-d\\u00eda)\": \"2020-05-26\", \"fallecidos confirmados\": 16}, {\"index\": 1, \"Grupo de edad\": \"40-49\", \"fecha (a\\u00f1o-mes-d\\u00eda)\": \"2020-05-26\", \"fallecidos confirmados\": 42}, {\"index\": 2, \"Grupo de edad\": \"50-59\", \"fecha (a\\u00f1o-mes-d\\u00eda)\": \"2020-05-26\", \"fallecidos confirmados\": 76}, {\"index\": 3, \"Grupo de edad\": \"60-69\", \"fecha (a\\u00f1o-mes-d\\u00eda)\": \"2020-05-26\", \"fallecidos confirmados\": 137}, {\"index\": 4, \"Grupo de edad\": \"70-79\", \"fecha (a\\u00f1o-mes-d\\u00eda)\": \"2020-05-26\", \"fallecidos confirmados\": 239}, {\"index\": 5, \"Grupo de edad\": \"80-89\", \"fecha (a\\u00f1o-mes-d\\u00eda)\": \"2020-05-26\", \"fallecidos confirmados\": 218}, {\"index\": 6, \"Grupo de edad\": \">=90\", \"fecha (a\\u00f1o-mes-d\\u00eda)\": \"2020-05-26\", \"fallecidos confirmados\": 78}, {\"index\": 0, \"Grupo de edad\": \"<=39\", \"fecha (a\\u00f1o-mes-d\\u00eda)\": \"2020-05-27\", \"fallecidos confirmados\": 16}, {\"index\": 1, \"Grupo de edad\": \"40-49\", \"fecha (a\\u00f1o-mes-d\\u00eda)\": \"2020-05-27\", \"fallecidos confirmados\": 43}, {\"index\": 2, \"Grupo de edad\": \"50-59\", \"fecha (a\\u00f1o-mes-d\\u00eda)\": \"2020-05-27\", \"fallecidos confirmados\": 81}, {\"index\": 3, \"Grupo de edad\": \"60-69\", \"fecha (a\\u00f1o-mes-d\\u00eda)\": \"2020-05-27\", \"fallecidos confirmados\": 150}, {\"index\": 4, \"Grupo de edad\": \"70-79\", \"fecha (a\\u00f1o-mes-d\\u00eda)\": \"2020-05-27\", \"fallecidos confirmados\": 250}, {\"index\": 5, \"Grupo de edad\": \"80-89\", \"fecha (a\\u00f1o-mes-d\\u00eda)\": \"2020-05-27\", \"fallecidos confirmados\": 218}, {\"index\": 6, \"Grupo de edad\": \">=90\", \"fecha (a\\u00f1o-mes-d\\u00eda)\": \"2020-05-27\", \"fallecidos confirmados\": 83}, {\"index\": 0, \"Grupo de edad\": \"<=39\", \"fecha (a\\u00f1o-mes-d\\u00eda)\": \"2020-05-28\", \"fallecidos confirmados\": 18}, {\"index\": 1, \"Grupo de edad\": \"40-49\", \"fecha (a\\u00f1o-mes-d\\u00eda)\": \"2020-05-28\", \"fallecidos confirmados\": 44}, {\"index\": 2, \"Grupo de edad\": \"50-59\", \"fecha (a\\u00f1o-mes-d\\u00eda)\": \"2020-05-28\", \"fallecidos confirmados\": 89}, {\"index\": 3, \"Grupo de edad\": \"60-69\", \"fecha (a\\u00f1o-mes-d\\u00eda)\": \"2020-05-28\", \"fallecidos confirmados\": 165}, {\"index\": 4, \"Grupo de edad\": \"70-79\", \"fecha (a\\u00f1o-mes-d\\u00eda)\": \"2020-05-28\", \"fallecidos confirmados\": 259}, {\"index\": 5, \"Grupo de edad\": \"80-89\", \"fecha (a\\u00f1o-mes-d\\u00eda)\": \"2020-05-28\", \"fallecidos confirmados\": 228}, {\"index\": 6, \"Grupo de edad\": \">=90\", \"fecha (a\\u00f1o-mes-d\\u00eda)\": \"2020-05-28\", \"fallecidos confirmados\": 87}, {\"index\": 0, \"Grupo de edad\": \"<=39\", \"fecha (a\\u00f1o-mes-d\\u00eda)\": \"2020-05-29\", \"fallecidos confirmados\": 19}, {\"index\": 1, \"Grupo de edad\": \"40-49\", \"fecha (a\\u00f1o-mes-d\\u00eda)\": \"2020-05-29\", \"fallecidos confirmados\": 46}, {\"index\": 2, \"Grupo de edad\": \"50-59\", \"fecha (a\\u00f1o-mes-d\\u00eda)\": \"2020-05-29\", \"fallecidos confirmados\": 94}, {\"index\": 3, \"Grupo de edad\": \"60-69\", \"fecha (a\\u00f1o-mes-d\\u00eda)\": \"2020-05-29\", \"fallecidos confirmados\": 173}, {\"index\": 4, \"Grupo de edad\": \"70-79\", \"fecha (a\\u00f1o-mes-d\\u00eda)\": \"2020-05-29\", \"fallecidos confirmados\": 279}, {\"index\": 5, \"Grupo de edad\": \"80-89\", \"fecha (a\\u00f1o-mes-d\\u00eda)\": \"2020-05-29\", \"fallecidos confirmados\": 242}, {\"index\": 6, \"Grupo de edad\": \">=90\", \"fecha (a\\u00f1o-mes-d\\u00eda)\": \"2020-05-29\", \"fallecidos confirmados\": 91}, {\"index\": 0, \"Grupo de edad\": \"<=39\", \"fecha (a\\u00f1o-mes-d\\u00eda)\": \"2020-05-30\", \"fallecidos confirmados\": 23}, {\"index\": 1, \"Grupo de edad\": \"40-49\", \"fecha (a\\u00f1o-mes-d\\u00eda)\": \"2020-05-30\", \"fallecidos confirmados\": 48}, {\"index\": 2, \"Grupo de edad\": \"50-59\", \"fecha (a\\u00f1o-mes-d\\u00eda)\": \"2020-05-30\", \"fallecidos confirmados\": 97}, {\"index\": 3, \"Grupo de edad\": \"60-69\", \"fecha (a\\u00f1o-mes-d\\u00eda)\": \"2020-05-30\", \"fallecidos confirmados\": 185}, {\"index\": 4, \"Grupo de edad\": \"70-79\", \"fecha (a\\u00f1o-mes-d\\u00eda)\": \"2020-05-30\", \"fallecidos confirmados\": 295}, {\"index\": 5, \"Grupo de edad\": \"80-89\", \"fecha (a\\u00f1o-mes-d\\u00eda)\": \"2020-05-30\", \"fallecidos confirmados\": 255}, {\"index\": 6, \"Grupo de edad\": \">=90\", \"fecha (a\\u00f1o-mes-d\\u00eda)\": \"2020-05-30\", \"fallecidos confirmados\": 94}, {\"index\": 0, \"Grupo de edad\": \"<=39\", \"fecha (a\\u00f1o-mes-d\\u00eda)\": \"2020-05-31\", \"fallecidos confirmados\": 28}, {\"index\": 1, \"Grupo de edad\": \"40-49\", \"fecha (a\\u00f1o-mes-d\\u00eda)\": \"2020-05-31\", \"fallecidos confirmados\": 50}, {\"index\": 2, \"Grupo de edad\": \"50-59\", \"fecha (a\\u00f1o-mes-d\\u00eda)\": \"2020-05-31\", \"fallecidos confirmados\": 105}, {\"index\": 3, \"Grupo de edad\": \"60-69\", \"fecha (a\\u00f1o-mes-d\\u00eda)\": \"2020-05-31\", \"fallecidos confirmados\": 189}, {\"index\": 4, \"Grupo de edad\": \"70-79\", \"fecha (a\\u00f1o-mes-d\\u00eda)\": \"2020-05-31\", \"fallecidos confirmados\": 309}, {\"index\": 5, \"Grupo de edad\": \"80-89\", \"fecha (a\\u00f1o-mes-d\\u00eda)\": \"2020-05-31\", \"fallecidos confirmados\": 275}, {\"index\": 6, \"Grupo de edad\": \">=90\", \"fecha (a\\u00f1o-mes-d\\u00eda)\": \"2020-05-31\", \"fallecidos confirmados\": 98}, {\"index\": 0, \"Grupo de edad\": \"<=39\", \"fecha (a\\u00f1o-mes-d\\u00eda)\": \"2020-06-01\", \"fallecidos confirmados\": 29}, {\"index\": 1, \"Grupo de edad\": \"40-49\", \"fecha (a\\u00f1o-mes-d\\u00eda)\": \"2020-06-01\", \"fallecidos confirmados\": 51}, {\"index\": 2, \"Grupo de edad\": \"50-59\", \"fecha (a\\u00f1o-mes-d\\u00eda)\": \"2020-06-01\", \"fallecidos confirmados\": 114}, {\"index\": 3, \"Grupo de edad\": \"60-69\", \"fecha (a\\u00f1o-mes-d\\u00eda)\": \"2020-06-01\", \"fallecidos confirmados\": 200}, {\"index\": 4, \"Grupo de edad\": \"70-79\", \"fecha (a\\u00f1o-mes-d\\u00eda)\": \"2020-06-01\", \"fallecidos confirmados\": 326}, {\"index\": 5, \"Grupo de edad\": \"80-89\", \"fecha (a\\u00f1o-mes-d\\u00eda)\": \"2020-06-01\", \"fallecidos confirmados\": 293}, {\"index\": 6, \"Grupo de edad\": \">=90\", \"fecha (a\\u00f1o-mes-d\\u00eda)\": \"2020-06-01\", \"fallecidos confirmados\": 100}, {\"index\": 0, \"Grupo de edad\": \"<=39\", \"fecha (a\\u00f1o-mes-d\\u00eda)\": \"2020-06-02\", \"fallecidos confirmados\": 31}, {\"index\": 1, \"Grupo de edad\": \"40-49\", \"fecha (a\\u00f1o-mes-d\\u00eda)\": \"2020-06-02\", \"fallecidos confirmados\": 51}, {\"index\": 2, \"Grupo de edad\": \"50-59\", \"fecha (a\\u00f1o-mes-d\\u00eda)\": \"2020-06-02\", \"fallecidos confirmados\": 124}, {\"index\": 3, \"Grupo de edad\": \"60-69\", \"fecha (a\\u00f1o-mes-d\\u00eda)\": \"2020-06-02\", \"fallecidos confirmados\": 214}, {\"index\": 4, \"Grupo de edad\": \"70-79\", \"fecha (a\\u00f1o-mes-d\\u00eda)\": \"2020-06-02\", \"fallecidos confirmados\": 350}, {\"index\": 5, \"Grupo de edad\": \"80-89\", \"fecha (a\\u00f1o-mes-d\\u00eda)\": \"2020-06-02\", \"fallecidos confirmados\": 313}, {\"index\": 6, \"Grupo de edad\": \">=90\", \"fecha (a\\u00f1o-mes-d\\u00eda)\": \"2020-06-02\", \"fallecidos confirmados\": 105}, {\"index\": 0, \"Grupo de edad\": \"<=39\", \"fecha (a\\u00f1o-mes-d\\u00eda)\": \"2020-06-03\", \"fallecidos confirmados\": 32}, {\"index\": 1, \"Grupo de edad\": \"40-49\", \"fecha (a\\u00f1o-mes-d\\u00eda)\": \"2020-06-03\", \"fallecidos confirmados\": 55}, {\"index\": 2, \"Grupo de edad\": \"50-59\", \"fecha (a\\u00f1o-mes-d\\u00eda)\": \"2020-06-03\", \"fallecidos confirmados\": 136}, {\"index\": 3, \"Grupo de edad\": \"60-69\", \"fecha (a\\u00f1o-mes-d\\u00eda)\": \"2020-06-03\", \"fallecidos confirmados\": 235}, {\"index\": 4, \"Grupo de edad\": \"70-79\", \"fecha (a\\u00f1o-mes-d\\u00eda)\": \"2020-06-03\", \"fallecidos confirmados\": 376}, {\"index\": 5, \"Grupo de edad\": \"80-89\", \"fecha (a\\u00f1o-mes-d\\u00eda)\": \"2020-06-03\", \"fallecidos confirmados\": 329}, {\"index\": 6, \"Grupo de edad\": \">=90\", \"fecha (a\\u00f1o-mes-d\\u00eda)\": \"2020-06-03\", \"fallecidos confirmados\": 112}, {\"index\": 0, \"Grupo de edad\": \"<=39\", \"fecha (a\\u00f1o-mes-d\\u00eda)\": \"2020-06-04\", \"fallecidos confirmados\": 35}, {\"index\": 1, \"Grupo de edad\": \"40-49\", \"fecha (a\\u00f1o-mes-d\\u00eda)\": \"2020-06-04\", \"fallecidos confirmados\": 60}, {\"index\": 2, \"Grupo de edad\": \"50-59\", \"fecha (a\\u00f1o-mes-d\\u00eda)\": \"2020-06-04\", \"fallecidos confirmados\": 144}, {\"index\": 3, \"Grupo de edad\": \"60-69\", \"fecha (a\\u00f1o-mes-d\\u00eda)\": \"2020-06-04\", \"fallecidos confirmados\": 252}, {\"index\": 4, \"Grupo de edad\": \"70-79\", \"fecha (a\\u00f1o-mes-d\\u00eda)\": \"2020-06-04\", \"fallecidos confirmados\": 397}, {\"index\": 5, \"Grupo de edad\": \"80-89\", \"fecha (a\\u00f1o-mes-d\\u00eda)\": \"2020-06-04\", \"fallecidos confirmados\": 352}, {\"index\": 6, \"Grupo de edad\": \">=90\", \"fecha (a\\u00f1o-mes-d\\u00eda)\": \"2020-06-04\", \"fallecidos confirmados\": 116}, {\"index\": 0, \"Grupo de edad\": \"<=39\", \"fecha (a\\u00f1o-mes-d\\u00eda)\": \"2020-06-05\", \"fallecidos confirmados\": 36}, {\"index\": 1, \"Grupo de edad\": \"40-49\", \"fecha (a\\u00f1o-mes-d\\u00eda)\": \"2020-06-05\", \"fallecidos confirmados\": 62}, {\"index\": 2, \"Grupo de edad\": \"50-59\", \"fecha (a\\u00f1o-mes-d\\u00eda)\": \"2020-06-05\", \"fallecidos confirmados\": 152}, {\"index\": 3, \"Grupo de edad\": \"60-69\", \"fecha (a\\u00f1o-mes-d\\u00eda)\": \"2020-06-05\", \"fallecidos confirmados\": 271}, {\"index\": 4, \"Grupo de edad\": \"70-79\", \"fecha (a\\u00f1o-mes-d\\u00eda)\": \"2020-06-05\", \"fallecidos confirmados\": 432}, {\"index\": 5, \"Grupo de edad\": \"80-89\", \"fecha (a\\u00f1o-mes-d\\u00eda)\": \"2020-06-05\", \"fallecidos confirmados\": 372}, {\"index\": 6, \"Grupo de edad\": \">=90\", \"fecha (a\\u00f1o-mes-d\\u00eda)\": \"2020-06-05\", \"fallecidos confirmados\": 123}, {\"index\": 0, \"Grupo de edad\": \"<=39\", \"fecha (a\\u00f1o-mes-d\\u00eda)\": \"2020-06-06\", \"fallecidos confirmados\": 37}, {\"index\": 1, \"Grupo de edad\": \"40-49\", \"fecha (a\\u00f1o-mes-d\\u00eda)\": \"2020-06-06\", \"fallecidos confirmados\": 67}, {\"index\": 2, \"Grupo de edad\": \"50-59\", \"fecha (a\\u00f1o-mes-d\\u00eda)\": \"2020-06-06\", \"fallecidos confirmados\": 162}, {\"index\": 3, \"Grupo de edad\": \"60-69\", \"fecha (a\\u00f1o-mes-d\\u00eda)\": \"2020-06-06\", \"fallecidos confirmados\": 281}, {\"index\": 4, \"Grupo de edad\": \"70-79\", \"fecha (a\\u00f1o-mes-d\\u00eda)\": \"2020-06-06\", \"fallecidos confirmados\": 467}, {\"index\": 5, \"Grupo de edad\": \"80-89\", \"fecha (a\\u00f1o-mes-d\\u00eda)\": \"2020-06-06\", \"fallecidos confirmados\": 398}, {\"index\": 6, \"Grupo de edad\": \">=90\", \"fecha (a\\u00f1o-mes-d\\u00eda)\": \"2020-06-06\", \"fallecidos confirmados\": 129}, {\"index\": 0, \"Grupo de edad\": \"<=39\", \"fecha (a\\u00f1o-mes-d\\u00eda)\": \"2020-06-07\", \"fallecidos confirmados\": 57}, {\"index\": 1, \"Grupo de edad\": \"40-49\", \"fecha (a\\u00f1o-mes-d\\u00eda)\": \"2020-06-07\", \"fallecidos confirmados\": 74}, {\"index\": 2, \"Grupo de edad\": \"50-59\", \"fecha (a\\u00f1o-mes-d\\u00eda)\": \"2020-06-07\", \"fallecidos confirmados\": 210}, {\"index\": 3, \"Grupo de edad\": \"60-69\", \"fecha (a\\u00f1o-mes-d\\u00eda)\": \"2020-06-07\", \"fallecidos confirmados\": 405}, {\"index\": 4, \"Grupo de edad\": \"70-79\", \"fecha (a\\u00f1o-mes-d\\u00eda)\": \"2020-06-07\", \"fallecidos confirmados\": 662}, {\"index\": 5, \"Grupo de edad\": \"80-89\", \"fecha (a\\u00f1o-mes-d\\u00eda)\": \"2020-06-07\", \"fallecidos confirmados\": 603}, {\"index\": 6, \"Grupo de edad\": \">=90\", \"fecha (a\\u00f1o-mes-d\\u00eda)\": \"2020-06-07\", \"fallecidos confirmados\": 179}, {\"index\": 0, \"Grupo de edad\": \"<=39\", \"fecha (a\\u00f1o-mes-d\\u00eda)\": \"2020-06-08\", \"fallecidos confirmados\": 60}, {\"index\": 1, \"Grupo de edad\": \"40-49\", \"fecha (a\\u00f1o-mes-d\\u00eda)\": \"2020-06-08\", \"fallecidos confirmados\": 78}, {\"index\": 2, \"Grupo de edad\": \"50-59\", \"fecha (a\\u00f1o-mes-d\\u00eda)\": \"2020-06-08\", \"fallecidos confirmados\": 219}, {\"index\": 3, \"Grupo de edad\": \"60-69\", \"fecha (a\\u00f1o-mes-d\\u00eda)\": \"2020-06-08\", \"fallecidos confirmados\": 421}, {\"index\": 4, \"Grupo de edad\": \"70-79\", \"fecha (a\\u00f1o-mes-d\\u00eda)\": \"2020-06-08\", \"fallecidos confirmados\": 682}, {\"index\": 5, \"Grupo de edad\": \"80-89\", \"fecha (a\\u00f1o-mes-d\\u00eda)\": \"2020-06-08\", \"fallecidos confirmados\": 618}, {\"index\": 6, \"Grupo de edad\": \">=90\", \"fecha (a\\u00f1o-mes-d\\u00eda)\": \"2020-06-08\", \"fallecidos confirmados\": 186}, {\"index\": 0, \"Grupo de edad\": \"<=39\", \"fecha (a\\u00f1o-mes-d\\u00eda)\": \"2020-06-09\", \"fallecidos confirmados\": 60}, {\"index\": 1, \"Grupo de edad\": \"40-49\", \"fecha (a\\u00f1o-mes-d\\u00eda)\": \"2020-06-09\", \"fallecidos confirmados\": 79}, {\"index\": 2, \"Grupo de edad\": \"50-59\", \"fecha (a\\u00f1o-mes-d\\u00eda)\": \"2020-06-09\", \"fallecidos confirmados\": 221}, {\"index\": 3, \"Grupo de edad\": \"60-69\", \"fecha (a\\u00f1o-mes-d\\u00eda)\": \"2020-06-09\", \"fallecidos confirmados\": 427}, {\"index\": 4, \"Grupo de edad\": \"70-79\", \"fecha (a\\u00f1o-mes-d\\u00eda)\": \"2020-06-09\", \"fallecidos confirmados\": 686}, {\"index\": 5, \"Grupo de edad\": \"80-89\", \"fecha (a\\u00f1o-mes-d\\u00eda)\": \"2020-06-09\", \"fallecidos confirmados\": 623}, {\"index\": 6, \"Grupo de edad\": \">=90\", \"fecha (a\\u00f1o-mes-d\\u00eda)\": \"2020-06-09\", \"fallecidos confirmados\": 187}, {\"index\": 0, \"Grupo de edad\": \"<=39\", \"fecha (a\\u00f1o-mes-d\\u00eda)\": \"2020-06-10\", \"fallecidos confirmados\": 63}, {\"index\": 1, \"Grupo de edad\": \"40-49\", \"fecha (a\\u00f1o-mes-d\\u00eda)\": \"2020-06-10\", \"fallecidos confirmados\": 86}, {\"index\": 2, \"Grupo de edad\": \"50-59\", \"fecha (a\\u00f1o-mes-d\\u00eda)\": \"2020-06-10\", \"fallecidos confirmados\": 238}, {\"index\": 3, \"Grupo de edad\": \"60-69\", \"fecha (a\\u00f1o-mes-d\\u00eda)\": \"2020-06-10\", \"fallecidos confirmados\": 475}, {\"index\": 4, \"Grupo de edad\": \"70-79\", \"fecha (a\\u00f1o-mes-d\\u00eda)\": \"2020-06-10\", \"fallecidos confirmados\": 751}, {\"index\": 5, \"Grupo de edad\": \"80-89\", \"fecha (a\\u00f1o-mes-d\\u00eda)\": \"2020-06-10\", \"fallecidos confirmados\": 668}, {\"index\": 6, \"Grupo de edad\": \">=90\", \"fecha (a\\u00f1o-mes-d\\u00eda)\": \"2020-06-10\", \"fallecidos confirmados\": 194}, {\"index\": 0, \"Grupo de edad\": \"<=39\", \"fecha (a\\u00f1o-mes-d\\u00eda)\": \"2020-06-11\", \"fallecidos confirmados\": 68}, {\"index\": 1, \"Grupo de edad\": \"40-49\", \"fecha (a\\u00f1o-mes-d\\u00eda)\": \"2020-06-11\", \"fallecidos confirmados\": 92}, {\"index\": 2, \"Grupo de edad\": \"50-59\", \"fecha (a\\u00f1o-mes-d\\u00eda)\": \"2020-06-11\", \"fallecidos confirmados\": 249}, {\"index\": 3, \"Grupo de edad\": \"60-69\", \"fecha (a\\u00f1o-mes-d\\u00eda)\": \"2020-06-11\", \"fallecidos confirmados\": 508}, {\"index\": 4, \"Grupo de edad\": \"70-79\", \"fecha (a\\u00f1o-mes-d\\u00eda)\": \"2020-06-11\", \"fallecidos confirmados\": 807}, {\"index\": 5, \"Grupo de edad\": \"80-89\", \"fecha (a\\u00f1o-mes-d\\u00eda)\": \"2020-06-11\", \"fallecidos confirmados\": 715}, {\"index\": 6, \"Grupo de edad\": \">=90\", \"fecha (a\\u00f1o-mes-d\\u00eda)\": \"2020-06-11\", \"fallecidos confirmados\": 209}, {\"index\": 0, \"Grupo de edad\": \"<=39\", \"fecha (a\\u00f1o-mes-d\\u00eda)\": \"2020-06-12\", \"fallecidos confirmados\": 73}, {\"index\": 1, \"Grupo de edad\": \"40-49\", \"fecha (a\\u00f1o-mes-d\\u00eda)\": \"2020-06-12\", \"fallecidos confirmados\": 100}, {\"index\": 2, \"Grupo de edad\": \"50-59\", \"fecha (a\\u00f1o-mes-d\\u00eda)\": \"2020-06-12\", \"fallecidos confirmados\": 267}, {\"index\": 3, \"Grupo de edad\": \"60-69\", \"fecha (a\\u00f1o-mes-d\\u00eda)\": \"2020-06-12\", \"fallecidos confirmados\": 557}, {\"index\": 4, \"Grupo de edad\": \"70-79\", \"fecha (a\\u00f1o-mes-d\\u00eda)\": \"2020-06-12\", \"fallecidos confirmados\": 872}, {\"index\": 5, \"Grupo de edad\": \"80-89\", \"fecha (a\\u00f1o-mes-d\\u00eda)\": \"2020-06-12\", \"fallecidos confirmados\": 775}, {\"index\": 6, \"Grupo de edad\": \">=90\", \"fecha (a\\u00f1o-mes-d\\u00eda)\": \"2020-06-12\", \"fallecidos confirmados\": 226}, {\"index\": 0, \"Grupo de edad\": \"<=39\", \"fecha (a\\u00f1o-mes-d\\u00eda)\": \"2020-06-13\", \"fallecidos confirmados\": 80}, {\"index\": 1, \"Grupo de edad\": \"40-49\", \"fecha (a\\u00f1o-mes-d\\u00eda)\": \"2020-06-13\", \"fallecidos confirmados\": 106}, {\"index\": 2, \"Grupo de edad\": \"50-59\", \"fecha (a\\u00f1o-mes-d\\u00eda)\": \"2020-06-13\", \"fallecidos confirmados\": 295}, {\"index\": 3, \"Grupo de edad\": \"60-69\", \"fecha (a\\u00f1o-mes-d\\u00eda)\": \"2020-06-13\", \"fallecidos confirmados\": 613}, {\"index\": 4, \"Grupo de edad\": \"70-79\", \"fecha (a\\u00f1o-mes-d\\u00eda)\": \"2020-06-13\", \"fallecidos confirmados\": 933}, {\"index\": 5, \"Grupo de edad\": \"80-89\", \"fecha (a\\u00f1o-mes-d\\u00eda)\": \"2020-06-13\", \"fallecidos confirmados\": 838}, {\"index\": 6, \"Grupo de edad\": \">=90\", \"fecha (a\\u00f1o-mes-d\\u00eda)\": \"2020-06-13\", \"fallecidos confirmados\": 236}, {\"index\": 0, \"Grupo de edad\": \"<=39\", \"fecha (a\\u00f1o-mes-d\\u00eda)\": \"2020-06-14\", \"fallecidos confirmados\": 81}, {\"index\": 1, \"Grupo de edad\": \"40-49\", \"fecha (a\\u00f1o-mes-d\\u00eda)\": \"2020-06-14\", \"fallecidos confirmados\": 110}, {\"index\": 2, \"Grupo de edad\": \"50-59\", \"fecha (a\\u00f1o-mes-d\\u00eda)\": \"2020-06-14\", \"fallecidos confirmados\": 322}, {\"index\": 3, \"Grupo de edad\": \"60-69\", \"fecha (a\\u00f1o-mes-d\\u00eda)\": \"2020-06-14\", \"fallecidos confirmados\": 656}, {\"index\": 4, \"Grupo de edad\": \"70-79\", \"fecha (a\\u00f1o-mes-d\\u00eda)\": \"2020-06-14\", \"fallecidos confirmados\": 1006}, {\"index\": 5, \"Grupo de edad\": \"80-89\", \"fecha (a\\u00f1o-mes-d\\u00eda)\": \"2020-06-14\", \"fallecidos confirmados\": 893}, {\"index\": 6, \"Grupo de edad\": \">=90\", \"fecha (a\\u00f1o-mes-d\\u00eda)\": \"2020-06-14\", \"fallecidos confirmados\": 255}, {\"index\": 0, \"Grupo de edad\": \"<=39\", \"fecha (a\\u00f1o-mes-d\\u00eda)\": \"2020-06-15\", \"fallecidos confirmados\": 84}, {\"index\": 1, \"Grupo de edad\": \"40-49\", \"fecha (a\\u00f1o-mes-d\\u00eda)\": \"2020-06-15\", \"fallecidos confirmados\": 111}, {\"index\": 2, \"Grupo de edad\": \"50-59\", \"fecha (a\\u00f1o-mes-d\\u00eda)\": \"2020-06-15\", \"fallecidos confirmados\": 325}, {\"index\": 3, \"Grupo de edad\": \"60-69\", \"fecha (a\\u00f1o-mes-d\\u00eda)\": \"2020-06-15\", \"fallecidos confirmados\": 669}, {\"index\": 4, \"Grupo de edad\": \"70-79\", \"fecha (a\\u00f1o-mes-d\\u00eda)\": \"2020-06-15\", \"fallecidos confirmados\": 1015}, {\"index\": 5, \"Grupo de edad\": \"80-89\", \"fecha (a\\u00f1o-mes-d\\u00eda)\": \"2020-06-15\", \"fallecidos confirmados\": 899}, {\"index\": 6, \"Grupo de edad\": \">=90\", \"fecha (a\\u00f1o-mes-d\\u00eda)\": \"2020-06-15\", \"fallecidos confirmados\": 259}, {\"index\": 0, \"Grupo de edad\": \"<=39\", \"fecha (a\\u00f1o-mes-d\\u00eda)\": \"2020-06-16\", \"fallecidos confirmados\": 84}, {\"index\": 1, \"Grupo de edad\": \"40-49\", \"fecha (a\\u00f1o-mes-d\\u00eda)\": \"2020-06-16\", \"fallecidos confirmados\": 112}, {\"index\": 2, \"Grupo de edad\": \"50-59\", \"fecha (a\\u00f1o-mes-d\\u00eda)\": \"2020-06-16\", \"fallecidos confirmados\": 327}, {\"index\": 3, \"Grupo de edad\": \"60-69\", \"fecha (a\\u00f1o-mes-d\\u00eda)\": \"2020-06-16\", \"fallecidos confirmados\": 675}, {\"index\": 4, \"Grupo de edad\": \"70-79\", \"fecha (a\\u00f1o-mes-d\\u00eda)\": \"2020-06-16\", \"fallecidos confirmados\": 1020}, {\"index\": 5, \"Grupo de edad\": \"80-89\", \"fecha (a\\u00f1o-mes-d\\u00eda)\": \"2020-06-16\", \"fallecidos confirmados\": 904}, {\"index\": 6, \"Grupo de edad\": \">=90\", \"fecha (a\\u00f1o-mes-d\\u00eda)\": \"2020-06-16\", \"fallecidos confirmados\": 261}, {\"index\": 0, \"Grupo de edad\": \"<=39\", \"fecha (a\\u00f1o-mes-d\\u00eda)\": \"2020-06-17\", \"fallecidos confirmados\": 88}, {\"index\": 1, \"Grupo de edad\": \"40-49\", \"fecha (a\\u00f1o-mes-d\\u00eda)\": \"2020-06-17\", \"fallecidos confirmados\": 127}, {\"index\": 2, \"Grupo de edad\": \"50-59\", \"fecha (a\\u00f1o-mes-d\\u00eda)\": \"2020-06-17\", \"fallecidos confirmados\": 351}, {\"index\": 3, \"Grupo de edad\": \"60-69\", \"fecha (a\\u00f1o-mes-d\\u00eda)\": \"2020-06-17\", \"fallecidos confirmados\": 723}, {\"index\": 4, \"Grupo de edad\": \"70-79\", \"fecha (a\\u00f1o-mes-d\\u00eda)\": \"2020-06-17\", \"fallecidos confirmados\": 1085}, {\"index\": 5, \"Grupo de edad\": \"80-89\", \"fecha (a\\u00f1o-mes-d\\u00eda)\": \"2020-06-17\", \"fallecidos confirmados\": 966}, {\"index\": 6, \"Grupo de edad\": \">=90\", \"fecha (a\\u00f1o-mes-d\\u00eda)\": \"2020-06-17\", \"fallecidos confirmados\": 275}, {\"index\": 0, \"Grupo de edad\": \"<=39\", \"fecha (a\\u00f1o-mes-d\\u00eda)\": \"2020-06-18\", \"fallecidos confirmados\": 89}, {\"index\": 1, \"Grupo de edad\": \"40-49\", \"fecha (a\\u00f1o-mes-d\\u00eda)\": \"2020-06-18\", \"fallecidos confirmados\": 136}, {\"index\": 2, \"Grupo de edad\": \"50-59\", \"fecha (a\\u00f1o-mes-d\\u00eda)\": \"2020-06-18\", \"fallecidos confirmados\": 369}, {\"index\": 3, \"Grupo de edad\": \"60-69\", \"fecha (a\\u00f1o-mes-d\\u00eda)\": \"2020-06-18\", \"fallecidos confirmados\": 787}, {\"index\": 4, \"Grupo de edad\": \"70-79\", \"fecha (a\\u00f1o-mes-d\\u00eda)\": \"2020-06-18\", \"fallecidos confirmados\": 1146}, {\"index\": 5, \"Grupo de edad\": \"80-89\", \"fecha (a\\u00f1o-mes-d\\u00eda)\": \"2020-06-18\", \"fallecidos confirmados\": 1030}, {\"index\": 6, \"Grupo de edad\": \">=90\", \"fecha (a\\u00f1o-mes-d\\u00eda)\": \"2020-06-18\", \"fallecidos confirmados\": 284}, {\"index\": 0, \"Grupo de edad\": \"<=39\", \"fecha (a\\u00f1o-mes-d\\u00eda)\": \"2020-06-19\", \"fallecidos confirmados\": 93}, {\"index\": 1, \"Grupo de edad\": \"40-49\", \"fecha (a\\u00f1o-mes-d\\u00eda)\": \"2020-06-19\", \"fallecidos confirmados\": 140}, {\"index\": 2, \"Grupo de edad\": \"50-59\", \"fecha (a\\u00f1o-mes-d\\u00eda)\": \"2020-06-19\", \"fallecidos confirmados\": 395}, {\"index\": 3, \"Grupo de edad\": \"60-69\", \"fecha (a\\u00f1o-mes-d\\u00eda)\": \"2020-06-19\", \"fallecidos confirmados\": 847}, {\"index\": 4, \"Grupo de edad\": \"70-79\", \"fecha (a\\u00f1o-mes-d\\u00eda)\": \"2020-06-19\", \"fallecidos confirmados\": 1222}, {\"index\": 5, \"Grupo de edad\": \"80-89\", \"fecha (a\\u00f1o-mes-d\\u00eda)\": \"2020-06-19\", \"fallecidos confirmados\": 1099}, {\"index\": 6, \"Grupo de edad\": \">=90\", \"fecha (a\\u00f1o-mes-d\\u00eda)\": \"2020-06-19\", \"fallecidos confirmados\": 297}, {\"index\": 0, \"Grupo de edad\": \"<=39\", \"fecha (a\\u00f1o-mes-d\\u00eda)\": \"2020-06-20\", \"fallecidos confirmados\": 94}, {\"index\": 1, \"Grupo de edad\": \"40-49\", \"fecha (a\\u00f1o-mes-d\\u00eda)\": \"2020-06-20\", \"fallecidos confirmados\": 144}, {\"index\": 2, \"Grupo de edad\": \"50-59\", \"fecha (a\\u00f1o-mes-d\\u00eda)\": \"2020-06-20\", \"fallecidos confirmados\": 413}, {\"index\": 3, \"Grupo de edad\": \"60-69\", \"fecha (a\\u00f1o-mes-d\\u00eda)\": \"2020-06-20\", \"fallecidos confirmados\": 895}, {\"index\": 4, \"Grupo de edad\": \"70-79\", \"fecha (a\\u00f1o-mes-d\\u00eda)\": \"2020-06-20\", \"fallecidos confirmados\": 1281}, {\"index\": 5, \"Grupo de edad\": \"80-89\", \"fecha (a\\u00f1o-mes-d\\u00eda)\": \"2020-06-20\", \"fallecidos confirmados\": 1152}, {\"index\": 6, \"Grupo de edad\": \">=90\", \"fecha (a\\u00f1o-mes-d\\u00eda)\": \"2020-06-20\", \"fallecidos confirmados\": 316}, {\"index\": 0, \"Grupo de edad\": \"<=39\", \"fecha (a\\u00f1o-mes-d\\u00eda)\": \"2020-06-21\", \"fallecidos confirmados\": 97}, {\"index\": 1, \"Grupo de edad\": \"40-49\", \"fecha (a\\u00f1o-mes-d\\u00eda)\": \"2020-06-21\", \"fallecidos confirmados\": 150}, {\"index\": 2, \"Grupo de edad\": \"50-59\", \"fecha (a\\u00f1o-mes-d\\u00eda)\": \"2020-06-21\", \"fallecidos confirmados\": 433}, {\"index\": 3, \"Grupo de edad\": \"60-69\", \"fecha (a\\u00f1o-mes-d\\u00eda)\": \"2020-06-21\", \"fallecidos confirmados\": 934}, {\"index\": 4, \"Grupo de edad\": \"70-79\", \"fecha (a\\u00f1o-mes-d\\u00eda)\": \"2020-06-21\", \"fallecidos confirmados\": 1337}, {\"index\": 5, \"Grupo de edad\": \"80-89\", \"fecha (a\\u00f1o-mes-d\\u00eda)\": \"2020-06-21\", \"fallecidos confirmados\": 1198}, {\"index\": 6, \"Grupo de edad\": \">=90\", \"fecha (a\\u00f1o-mes-d\\u00eda)\": \"2020-06-21\", \"fallecidos confirmados\": 330}, {\"index\": 0, \"Grupo de edad\": \"<=39\", \"fecha (a\\u00f1o-mes-d\\u00eda)\": \"2020-06-22\", \"fallecidos confirmados\": 98}, {\"index\": 1, \"Grupo de edad\": \"40-49\", \"fecha (a\\u00f1o-mes-d\\u00eda)\": \"2020-06-22\", \"fallecidos confirmados\": 150}, {\"index\": 2, \"Grupo de edad\": \"50-59\", \"fecha (a\\u00f1o-mes-d\\u00eda)\": \"2020-06-22\", \"fallecidos confirmados\": 434}, {\"index\": 3, \"Grupo de edad\": \"60-69\", \"fecha (a\\u00f1o-mes-d\\u00eda)\": \"2020-06-22\", \"fallecidos confirmados\": 942}, {\"index\": 4, \"Grupo de edad\": \"70-79\", \"fecha (a\\u00f1o-mes-d\\u00eda)\": \"2020-06-22\", \"fallecidos confirmados\": 1344}, {\"index\": 5, \"Grupo de edad\": \"80-89\", \"fecha (a\\u00f1o-mes-d\\u00eda)\": \"2020-06-22\", \"fallecidos confirmados\": 1204}, {\"index\": 6, \"Grupo de edad\": \">=90\", \"fecha (a\\u00f1o-mes-d\\u00eda)\": \"2020-06-22\", \"fallecidos confirmados\": 330}, {\"index\": 0, \"Grupo de edad\": \"<=39\", \"fecha (a\\u00f1o-mes-d\\u00eda)\": \"2020-06-23\", \"fallecidos confirmados\": 98}, {\"index\": 1, \"Grupo de edad\": \"40-49\", \"fecha (a\\u00f1o-mes-d\\u00eda)\": \"2020-06-23\", \"fallecidos confirmados\": 150}, {\"index\": 2, \"Grupo de edad\": \"50-59\", \"fecha (a\\u00f1o-mes-d\\u00eda)\": \"2020-06-23\", \"fallecidos confirmados\": 434}, {\"index\": 3, \"Grupo de edad\": \"60-69\", \"fecha (a\\u00f1o-mes-d\\u00eda)\": \"2020-06-23\", \"fallecidos confirmados\": 942}, {\"index\": 4, \"Grupo de edad\": \"70-79\", \"fecha (a\\u00f1o-mes-d\\u00eda)\": \"2020-06-23\", \"fallecidos confirmados\": 1344}, {\"index\": 5, \"Grupo de edad\": \"80-89\", \"fecha (a\\u00f1o-mes-d\\u00eda)\": \"2020-06-23\", \"fallecidos confirmados\": 1206}, {\"index\": 6, \"Grupo de edad\": \">=90\", \"fecha (a\\u00f1o-mes-d\\u00eda)\": \"2020-06-23\", \"fallecidos confirmados\": 331}, {\"index\": 0, \"Grupo de edad\": \"<=39\", \"fecha (a\\u00f1o-mes-d\\u00eda)\": \"2020-06-24\", \"fallecidos confirmados\": 105}, {\"index\": 1, \"Grupo de edad\": \"40-49\", \"fecha (a\\u00f1o-mes-d\\u00eda)\": \"2020-06-24\", \"fallecidos confirmados\": 157}, {\"index\": 2, \"Grupo de edad\": \"50-59\", \"fecha (a\\u00f1o-mes-d\\u00eda)\": \"2020-06-24\", \"fallecidos confirmados\": 458}, {\"index\": 3, \"Grupo de edad\": \"60-69\", \"fecha (a\\u00f1o-mes-d\\u00eda)\": \"2020-06-24\", \"fallecidos confirmados\": 987}, {\"index\": 4, \"Grupo de edad\": \"70-79\", \"fecha (a\\u00f1o-mes-d\\u00eda)\": \"2020-06-24\", \"fallecidos confirmados\": 1414}, {\"index\": 5, \"Grupo de edad\": \"80-89\", \"fecha (a\\u00f1o-mes-d\\u00eda)\": \"2020-06-24\", \"fallecidos confirmados\": 1259}, {\"index\": 6, \"Grupo de edad\": \">=90\", \"fecha (a\\u00f1o-mes-d\\u00eda)\": \"2020-06-24\", \"fallecidos confirmados\": 351}, {\"index\": 0, \"Grupo de edad\": \"<=39\", \"fecha (a\\u00f1o-mes-d\\u00eda)\": \"2020-06-25\", \"fallecidos confirmados\": 107}, {\"index\": 1, \"Grupo de edad\": \"40-49\", \"fecha (a\\u00f1o-mes-d\\u00eda)\": \"2020-06-25\", \"fallecidos confirmados\": 160}, {\"index\": 2, \"Grupo de edad\": \"50-59\", \"fecha (a\\u00f1o-mes-d\\u00eda)\": \"2020-06-25\", \"fallecidos confirmados\": 473}, {\"index\": 3, \"Grupo de edad\": \"60-69\", \"fecha (a\\u00f1o-mes-d\\u00eda)\": \"2020-06-25\", \"fallecidos confirmados\": 1035}, {\"index\": 4, \"Grupo de edad\": \"70-79\", \"fecha (a\\u00f1o-mes-d\\u00eda)\": \"2020-06-25\", \"fallecidos confirmados\": 1460}, {\"index\": 5, \"Grupo de edad\": \"80-89\", \"fecha (a\\u00f1o-mes-d\\u00eda)\": \"2020-06-25\", \"fallecidos confirmados\": 1299}, {\"index\": 6, \"Grupo de edad\": \">=90\", \"fecha (a\\u00f1o-mes-d\\u00eda)\": \"2020-06-25\", \"fallecidos confirmados\": 369}, {\"index\": 0, \"Grupo de edad\": \"<=39\", \"fecha (a\\u00f1o-mes-d\\u00eda)\": \"2020-06-26\", \"fallecidos confirmados\": 109}, {\"index\": 1, \"Grupo de edad\": \"40-49\", \"fecha (a\\u00f1o-mes-d\\u00eda)\": \"2020-06-26\", \"fallecidos confirmados\": 162}, {\"index\": 2, \"Grupo de edad\": \"50-59\", \"fecha (a\\u00f1o-mes-d\\u00eda)\": \"2020-06-26\", \"fallecidos confirmados\": 499}, {\"index\": 3, \"Grupo de edad\": \"60-69\", \"fecha (a\\u00f1o-mes-d\\u00eda)\": \"2020-06-26\", \"fallecidos confirmados\": 1071}, {\"index\": 4, \"Grupo de edad\": \"70-79\", \"fecha (a\\u00f1o-mes-d\\u00eda)\": \"2020-06-26\", \"fallecidos confirmados\": 1511}, {\"index\": 5, \"Grupo de edad\": \"80-89\", \"fecha (a\\u00f1o-mes-d\\u00eda)\": \"2020-06-26\", \"fallecidos confirmados\": 1338}, {\"index\": 6, \"Grupo de edad\": \">=90\", \"fecha (a\\u00f1o-mes-d\\u00eda)\": \"2020-06-26\", \"fallecidos confirmados\": 378}]}}, {\"mode\": \"vega-lite\"});\n",
       "</script>"
      ],
      "text/plain": [
       "alt.HConcatChart(...)"
      ]
     },
     "execution_count": 59,
     "metadata": {},
     "output_type": "execute_result"
    }
   ],
   "source": [
    "#hide_input\n",
    "selection2 = alt.selection_multi(fields=['Grupo de edad'], on='mouseover')\n",
    "\n",
    "color = alt.condition(selection2,\n",
    "                    alt.Color('Grupo de edad:N', scale=alt.Scale(scheme='tableau20'), legend=None),\n",
    "                    alt.value('lightgray'))\n",
    "\n",
    "bars = alt.Chart(data).mark_area().encode(\n",
    "    x = 'fecha (año-mes-día):N',\n",
    "    y = alt.Y('fallecidos confirmados:Q', stack=\"normalize\", sort=grupo_de_edad),\n",
    "    color = color,\n",
    "    tooltip = ['fecha (año-mes-día)', 'Grupo de edad', 'fallecidos confirmados'],\n",
    "    order=alt.Order(\n",
    "    # Sort the segments of the bars by this field\n",
    "    'index',\n",
    "    sort='descending'\n",
    "    )\n",
    ").add_selection(\n",
    "    selection2\n",
    ")\n",
    "\n",
    "legend = alt.Chart(data).mark_point().encode(\n",
    "    y=alt.Y('Grupo de edad',  axis=alt.Axis(orient='right'), sort=grupo_de_edad),\n",
    "    color=color\n",
    ").add_selection(\n",
    "    selection2\n",
    ")\n",
    "\n",
    "bars.properties(\n",
    "    title = 'COVID-19 en Chile: Evolución de fallecidos confirmados normalizados por rango de edad',\n",
    "    width = 600\n",
    ") | legend"
   ]
  },
  {
   "cell_type": "markdown",
   "metadata": {},
   "source": [
    "# Evolución de la letalidad por rango de edad"
   ]
  },
  {
   "cell_type": "code",
   "execution_count": 60,
   "metadata": {},
   "outputs": [],
   "source": [
    "#hide\n",
    "deaths = deaths_raw.iloc[:5]\n",
    "deaths = deaths.append(deaths_raw.iloc[5:].sum(), ignore_index=True)\n",
    "deaths.loc[5, \"Grupo de edad\"] = \">=80\""
   ]
  },
  {
   "cell_type": "code",
   "execution_count": 61,
   "metadata": {},
   "outputs": [],
   "source": [
    "#hide\n",
    "cases = pd.DataFrame()\n",
    "cases['<=39'] = cases_raw.groupby('Grupo de edad').sum().iloc[:8].sum()\n",
    "cases['40-49'] = cases_raw.groupby('Grupo de edad').sum().iloc[8:10].sum()\n",
    "cases['50-59'] = cases_raw.groupby('Grupo de edad').sum().iloc[10:12].sum()\n",
    "cases['60-69'] = cases_raw.groupby('Grupo de edad').sum().iloc[12:14].sum()\n",
    "cases['70-79'] = cases_raw.groupby('Grupo de edad').sum().iloc[14:16].sum()\n",
    "cases['>=80'] = cases_raw.groupby('Grupo de edad').sum().iloc[16:].sum()"
   ]
  },
  {
   "cell_type": "code",
   "execution_count": 62,
   "metadata": {},
   "outputs": [],
   "source": [
    "#hide\n",
    "cases = cases.T.reset_index()\n",
    "cases = cases.rename(columns={'index': 'Grupo de edad'})"
   ]
  },
  {
   "cell_type": "code",
   "execution_count": 63,
   "metadata": {},
   "outputs": [],
   "source": [
    "#hide\n",
    "deaths = deaths.set_index(\"Grupo de edad\").T\n",
    "cases = cases.set_index(\"Grupo de edad\").T\n",
    "letalidad = deaths.divide(cases['2020-04-09':])"
   ]
  },
  {
   "cell_type": "code",
   "execution_count": 64,
   "metadata": {
    "scrolled": true
   },
   "outputs": [
    {
     "data": {
      "text/html": [
       "<div>\n",
       "<style scoped>\n",
       "    .dataframe tbody tr th:only-of-type {\n",
       "        vertical-align: middle;\n",
       "    }\n",
       "\n",
       "    .dataframe tbody tr th {\n",
       "        vertical-align: top;\n",
       "    }\n",
       "\n",
       "    .dataframe thead th {\n",
       "        text-align: right;\n",
       "    }\n",
       "</style>\n",
       "<table border=\"1\" class=\"dataframe\">\n",
       "  <thead>\n",
       "    <tr style=\"text-align: right;\">\n",
       "      <th>Grupo de edad</th>\n",
       "      <th>&lt;=39</th>\n",
       "      <th>40-49</th>\n",
       "      <th>50-59</th>\n",
       "      <th>60-69</th>\n",
       "      <th>70-79</th>\n",
       "      <th>&gt;=80</th>\n",
       "    </tr>\n",
       "  </thead>\n",
       "  <tbody>\n",
       "    <tr>\n",
       "      <th>2020-06-15</th>\n",
       "      <td>92142</td>\n",
       "      <td>31008</td>\n",
       "      <td>28049</td>\n",
       "      <td>15780</td>\n",
       "      <td>7737</td>\n",
       "      <td>4714</td>\n",
       "    </tr>\n",
       "    <tr>\n",
       "      <th>2020-06-19</th>\n",
       "      <td>119298</td>\n",
       "      <td>39668</td>\n",
       "      <td>36128</td>\n",
       "      <td>20250</td>\n",
       "      <td>9905</td>\n",
       "      <td>6103</td>\n",
       "    </tr>\n",
       "    <tr>\n",
       "      <th>2020-06-23</th>\n",
       "      <td>131528</td>\n",
       "      <td>43710</td>\n",
       "      <td>39940</td>\n",
       "      <td>22457</td>\n",
       "      <td>10922</td>\n",
       "      <td>6804</td>\n",
       "    </tr>\n",
       "  </tbody>\n",
       "</table>\n",
       "</div>"
      ],
      "text/plain": [
       "Grupo de edad    <=39  40-49  50-59  60-69  70-79  >=80\n",
       "2020-06-15      92142  31008  28049  15780   7737  4714\n",
       "2020-06-19     119298  39668  36128  20250   9905  6103\n",
       "2020-06-23     131528  43710  39940  22457  10922  6804"
      ]
     },
     "execution_count": 64,
     "metadata": {},
     "output_type": "execute_result"
    }
   ],
   "source": [
    "#hide\n",
    "cases.tail(3)"
   ]
  },
  {
   "cell_type": "code",
   "execution_count": 65,
   "metadata": {},
   "outputs": [
    {
     "data": {
      "text/html": [
       "<div>\n",
       "<style scoped>\n",
       "    .dataframe tbody tr th:only-of-type {\n",
       "        vertical-align: middle;\n",
       "    }\n",
       "\n",
       "    .dataframe tbody tr th {\n",
       "        vertical-align: top;\n",
       "    }\n",
       "\n",
       "    .dataframe thead th {\n",
       "        text-align: right;\n",
       "    }\n",
       "</style>\n",
       "<table border=\"1\" class=\"dataframe\">\n",
       "  <thead>\n",
       "    <tr style=\"text-align: right;\">\n",
       "      <th>Grupo de edad</th>\n",
       "      <th>&lt;=39</th>\n",
       "      <th>40-49</th>\n",
       "      <th>50-59</th>\n",
       "      <th>60-69</th>\n",
       "      <th>70-79</th>\n",
       "      <th>&gt;=80</th>\n",
       "    </tr>\n",
       "  </thead>\n",
       "  <tbody>\n",
       "    <tr>\n",
       "      <th>2020-06-24</th>\n",
       "      <td>105</td>\n",
       "      <td>157</td>\n",
       "      <td>458</td>\n",
       "      <td>987</td>\n",
       "      <td>1414</td>\n",
       "      <td>1610</td>\n",
       "    </tr>\n",
       "    <tr>\n",
       "      <th>2020-06-25</th>\n",
       "      <td>107</td>\n",
       "      <td>160</td>\n",
       "      <td>473</td>\n",
       "      <td>1035</td>\n",
       "      <td>1460</td>\n",
       "      <td>1668</td>\n",
       "    </tr>\n",
       "    <tr>\n",
       "      <th>2020-06-26</th>\n",
       "      <td>109</td>\n",
       "      <td>162</td>\n",
       "      <td>499</td>\n",
       "      <td>1071</td>\n",
       "      <td>1511</td>\n",
       "      <td>1716</td>\n",
       "    </tr>\n",
       "  </tbody>\n",
       "</table>\n",
       "</div>"
      ],
      "text/plain": [
       "Grupo de edad  <=39  40-49  50-59  60-69  70-79  >=80\n",
       "2020-06-24      105    157    458    987   1414  1610\n",
       "2020-06-25      107    160    473   1035   1460  1668\n",
       "2020-06-26      109    162    499   1071   1511  1716"
      ]
     },
     "execution_count": 65,
     "metadata": {},
     "output_type": "execute_result"
    }
   ],
   "source": [
    "#hide\n",
    "deaths.tail(3)"
   ]
  },
  {
   "cell_type": "code",
   "execution_count": 66,
   "metadata": {},
   "outputs": [],
   "source": [
    "#hide\n",
    "letalidad = letalidad.reset_index().melt(\"index\")\n",
    "letalidad = letalidad.rename(columns={\"index\": \"fecha (año-mes-día)\", \"value\": \"letalidad\"})\n",
    "letalidad = letalidad.dropna()"
   ]
  },
  {
   "cell_type": "code",
   "execution_count": 67,
   "metadata": {},
   "outputs": [
    {
     "data": {
      "text/html": [
       "\n",
       "<div id=\"altair-viz-8b8d98c943284abfac1d028c291af8fe\"></div>\n",
       "<script type=\"text/javascript\">\n",
       "  (function(spec, embedOpt){\n",
       "    let outputDiv = document.currentScript.previousElementSibling;\n",
       "    if (outputDiv.id !== \"altair-viz-8b8d98c943284abfac1d028c291af8fe\") {\n",
       "      outputDiv = document.getElementById(\"altair-viz-8b8d98c943284abfac1d028c291af8fe\");\n",
       "    }\n",
       "    const paths = {\n",
       "      \"vega\": \"https://cdn.jsdelivr.net/npm//vega@5?noext\",\n",
       "      \"vega-lib\": \"https://cdn.jsdelivr.net/npm//vega-lib?noext\",\n",
       "      \"vega-lite\": \"https://cdn.jsdelivr.net/npm//vega-lite@4.8.1?noext\",\n",
       "      \"vega-embed\": \"https://cdn.jsdelivr.net/npm//vega-embed@6?noext\",\n",
       "    };\n",
       "\n",
       "    function loadScript(lib) {\n",
       "      return new Promise(function(resolve, reject) {\n",
       "        var s = document.createElement('script');\n",
       "        s.src = paths[lib];\n",
       "        s.async = true;\n",
       "        s.onload = () => resolve(paths[lib]);\n",
       "        s.onerror = () => reject(`Error loading script: ${paths[lib]}`);\n",
       "        document.getElementsByTagName(\"head\")[0].appendChild(s);\n",
       "      });\n",
       "    }\n",
       "\n",
       "    function showError(err) {\n",
       "      outputDiv.innerHTML = `<div class=\"error\" style=\"color:red;\">${err}</div>`;\n",
       "      throw err;\n",
       "    }\n",
       "\n",
       "    function displayChart(vegaEmbed) {\n",
       "      vegaEmbed(outputDiv, spec, embedOpt)\n",
       "        .catch(err => showError(`Javascript Error: ${err.message}<br>This usually means there's a typo in your chart specification. See the javascript console for the full traceback.`));\n",
       "    }\n",
       "\n",
       "    if(typeof define === \"function\" && define.amd) {\n",
       "      requirejs.config({paths});\n",
       "      require([\"vega-embed\"], displayChart, err => showError(`Error loading script: ${err.message}`));\n",
       "    } else if (typeof vegaEmbed === \"function\") {\n",
       "      displayChart(vegaEmbed);\n",
       "    } else {\n",
       "      loadScript(\"vega\")\n",
       "        .then(() => loadScript(\"vega-lite\"))\n",
       "        .then(() => loadScript(\"vega-embed\"))\n",
       "        .catch(showError)\n",
       "        .then(() => displayChart(vegaEmbed));\n",
       "    }\n",
       "  })({\"config\": {\"view\": {\"continuousWidth\": 400, \"continuousHeight\": 300}}, \"hconcat\": [{\"layer\": [{\"mark\": \"line\", \"encoding\": {\"color\": {\"condition\": {\"type\": \"nominal\", \"field\": \"Grupo de edad\", \"legend\": null, \"scale\": {\"scheme\": \"tableau10\"}, \"selection\": {\"or\": [\" \", \"selector007\"]}}, \"value\": \"lightgray\"}, \"tooltip\": [{\"type\": \"nominal\", \"field\": \"fecha (a\\u00f1o-mes-d\\u00eda)\"}, {\"type\": \"nominal\", \"field\": \"Grupo de edad\"}, {\"type\": \"quantitative\", \"field\": \"letalidad\"}], \"x\": {\"type\": \"nominal\", \"field\": \"fecha (a\\u00f1o-mes-d\\u00eda)\"}, \"y\": {\"type\": \"quantitative\", \"axis\": {\"format\": \"%\"}, \"field\": \"letalidad\", \"sort\": [\"<=39\", \"40-49\", \"50-59\", \"60-69\", \"70-79\", \">=80\"]}}, \"selection\": {\"selector006\": {\"type\": \"single\", \"encodings\": [\"x\"], \"on\": \"mouseover\", \"nearest\": true, \"empty\": \"none\"}, \" \": {\"type\": \"single\", \"fields\": [\"Grupo de edad\"], \"bind\": {\"input\": \"select\", \"options\": [\"<=39\", \"40-49\", \"50-59\", \"60-69\", \"70-79\", \">=80\"]}}, \"selector007\": {\"type\": \"multi\", \"fields\": [\"Grupo de edad\"], \"on\": \"mouseover\"}}, \"transform\": [{\"filter\": {\"selection\": \" \"}}]}, {\"mark\": {\"type\": \"rule\", \"color\": \"#aaa\"}, \"encoding\": {\"x\": {\"type\": \"nominal\", \"axis\": {\"title\": \"fecha (a\\u00f1o-mes-d\\u00eda):N\"}, \"field\": \"fecha (a\\u00f1o-mes-d\\u00eda)\", \"sort\": null}}, \"transform\": [{\"filter\": {\"selection\": \"selector006\"}}]}, {\"mark\": \"circle\", \"encoding\": {\"color\": {\"condition\": {\"type\": \"nominal\", \"field\": \"Grupo de edad\", \"legend\": null, \"scale\": {\"scheme\": \"tableau10\"}, \"selection\": {\"or\": [\" \", \"selector007\"]}}, \"value\": \"lightgray\"}, \"opacity\": {\"condition\": {\"value\": 1, \"selection\": \"selector006\"}, \"value\": 0}, \"tooltip\": [{\"type\": \"nominal\", \"field\": \"fecha (a\\u00f1o-mes-d\\u00eda)\"}, {\"type\": \"nominal\", \"field\": \"Grupo de edad\"}, {\"type\": \"quantitative\", \"field\": \"letalidad\"}], \"x\": {\"type\": \"nominal\", \"field\": \"fecha (a\\u00f1o-mes-d\\u00eda)\"}, \"y\": {\"type\": \"quantitative\", \"axis\": {\"format\": \"%\"}, \"field\": \"letalidad\", \"sort\": [\"<=39\", \"40-49\", \"50-59\", \"60-69\", \"70-79\", \">=80\"]}}, \"selection\": {\"selector006\": {\"type\": \"single\", \"encodings\": [\"x\"], \"on\": \"mouseover\", \"nearest\": true, \"empty\": \"none\"}, \" \": {\"type\": \"single\", \"fields\": [\"Grupo de edad\"], \"bind\": {\"input\": \"select\", \"options\": [\"<=39\", \"40-49\", \"50-59\", \"60-69\", \"70-79\", \">=80\"]}}, \"selector007\": {\"type\": \"multi\", \"fields\": [\"Grupo de edad\"], \"on\": \"mouseover\"}}, \"transform\": [{\"filter\": {\"selection\": \" \"}}]}, {\"mark\": {\"type\": \"text\", \"align\": \"left\", \"dx\": 5, \"dy\": -5, \"stroke\": \"white\", \"strokeWidth\": 2}, \"encoding\": {\"color\": {\"condition\": {\"type\": \"nominal\", \"field\": \"Grupo de edad\", \"legend\": null, \"scale\": {\"scheme\": \"tableau10\"}, \"selection\": {\"or\": [\" \", \"selector007\"]}}, \"value\": \"lightgray\"}, \"text\": {\"type\": \"quantitative\", \"field\": \"letalidad\"}, \"tooltip\": [{\"type\": \"nominal\", \"field\": \"fecha (a\\u00f1o-mes-d\\u00eda)\"}, {\"type\": \"nominal\", \"field\": \"Grupo de edad\"}, {\"type\": \"quantitative\", \"field\": \"letalidad\"}], \"x\": {\"type\": \"nominal\", \"field\": \"fecha (a\\u00f1o-mes-d\\u00eda)\"}, \"y\": {\"type\": \"quantitative\", \"axis\": {\"format\": \"%\"}, \"field\": \"letalidad\", \"sort\": [\"<=39\", \"40-49\", \"50-59\", \"60-69\", \"70-79\", \">=80\"]}}, \"selection\": {\"selector006\": {\"type\": \"single\", \"encodings\": [\"x\"], \"on\": \"mouseover\", \"nearest\": true, \"empty\": \"none\"}, \" \": {\"type\": \"single\", \"fields\": [\"Grupo de edad\"], \"bind\": {\"input\": \"select\", \"options\": [\"<=39\", \"40-49\", \"50-59\", \"60-69\", \"70-79\", \">=80\"]}}, \"selector007\": {\"type\": \"multi\", \"fields\": [\"Grupo de edad\"], \"on\": \"mouseover\"}}, \"transform\": [{\"filter\": {\"selection\": \" \"}}, {\"filter\": {\"selection\": \"selector006\"}}]}, {\"mark\": {\"type\": \"text\", \"align\": \"left\", \"dx\": 5, \"dy\": -5}, \"encoding\": {\"color\": {\"condition\": {\"type\": \"nominal\", \"field\": \"Grupo de edad\", \"legend\": null, \"scale\": {\"scheme\": \"tableau10\"}, \"selection\": {\"or\": [\" \", \"selector007\"]}}, \"value\": \"lightgray\"}, \"text\": {\"type\": \"quantitative\", \"field\": \"letalidad\"}, \"tooltip\": [{\"type\": \"nominal\", \"field\": \"fecha (a\\u00f1o-mes-d\\u00eda)\"}, {\"type\": \"nominal\", \"field\": \"Grupo de edad\"}, {\"type\": \"quantitative\", \"field\": \"letalidad\"}], \"x\": {\"type\": \"nominal\", \"field\": \"fecha (a\\u00f1o-mes-d\\u00eda)\"}, \"y\": {\"type\": \"quantitative\", \"axis\": {\"format\": \"%\"}, \"field\": \"letalidad\", \"sort\": [\"<=39\", \"40-49\", \"50-59\", \"60-69\", \"70-79\", \">=80\"]}}, \"selection\": {\"selector006\": {\"type\": \"single\", \"encodings\": [\"x\"], \"on\": \"mouseover\", \"nearest\": true, \"empty\": \"none\"}, \" \": {\"type\": \"single\", \"fields\": [\"Grupo de edad\"], \"bind\": {\"input\": \"select\", \"options\": [\"<=39\", \"40-49\", \"50-59\", \"60-69\", \"70-79\", \">=80\"]}}, \"selector007\": {\"type\": \"multi\", \"fields\": [\"Grupo de edad\"], \"on\": \"mouseover\"}}, \"transform\": [{\"filter\": {\"selection\": \" \"}}, {\"filter\": {\"selection\": \"selector006\"}}]}], \"title\": \"COVID-19 en Chile: Evoluci\\u00f3n de la letalidad por rango de edad\", \"width\": 600}, {\"mark\": \"point\", \"encoding\": {\"color\": {\"condition\": {\"type\": \"nominal\", \"field\": \"Grupo de edad\", \"legend\": null, \"scale\": {\"scheme\": \"tableau10\"}, \"selection\": {\"or\": [\" \", \"selector007\"]}}, \"value\": \"lightgray\"}, \"y\": {\"type\": \"nominal\", \"axis\": {\"orient\": \"right\"}, \"field\": \"Grupo de edad\", \"sort\": [\">=80\", \"70-79\", \"60-69\", \"50-59\", \"40-49\", \"<=39\"]}}, \"selection\": {\" \": {\"type\": \"single\", \"fields\": [\"Grupo de edad\"], \"bind\": {\"input\": \"select\", \"options\": [\"<=39\", \"40-49\", \"50-59\", \"60-69\", \"70-79\", \">=80\"]}}, \"selector007\": {\"type\": \"multi\", \"fields\": [\"Grupo de edad\"], \"on\": \"mouseover\"}}}], \"data\": {\"name\": \"data-b6e7e8cecf1565a909dbe9462e19671f\"}, \"$schema\": \"https://vega.github.io/schema/vega-lite/v4.8.1.json\", \"datasets\": {\"data-b6e7e8cecf1565a909dbe9462e19671f\": [{\"fecha (a\\u00f1o-mes-d\\u00eda)\": \"2020-04-09\", \"Grupo de edad\": \"<=39\", \"letalidad\": 0.0007049700387733521}, {\"fecha (a\\u00f1o-mes-d\\u00eda)\": \"2020-04-10\", \"Grupo de edad\": \"<=39\", \"letalidad\": 0.0006485084306095979}, {\"fecha (a\\u00f1o-mes-d\\u00eda)\": \"2020-04-11\", \"Grupo de edad\": \"<=39\", \"letalidad\": 0.0009085402786190188}, {\"fecha (a\\u00f1o-mes-d\\u00eda)\": \"2020-04-12\", \"Grupo de edad\": \"<=39\", \"letalidad\": 0.0008685581933989577}, {\"fecha (a\\u00f1o-mes-d\\u00eda)\": \"2020-04-13\", \"Grupo de edad\": \"<=39\", \"letalidad\": 0.0008228195282501371}, {\"fecha (a\\u00f1o-mes-d\\u00eda)\": \"2020-04-14\", \"Grupo de edad\": \"<=39\", \"letalidad\": 0.0007882291119285339}, {\"fecha (a\\u00f1o-mes-d\\u00eda)\": \"2020-04-15\", \"Grupo de edad\": \"<=39\", \"letalidad\": 0.0007403751233958539}, {\"fecha (a\\u00f1o-mes-d\\u00eda)\": \"2020-04-16\", \"Grupo de edad\": \"<=39\", \"letalidad\": 0.0006967022758941013}, {\"fecha (a\\u00f1o-mes-d\\u00eda)\": \"2020-04-17\", \"Grupo de edad\": \"<=39\", \"letalidad\": 0.0008781558726673985}, {\"fecha (a\\u00f1o-mes-d\\u00eda)\": \"2020-04-18\", \"Grupo de edad\": \"<=39\", \"letalidad\": 0.0008314279775514446}, {\"fecha (a\\u00f1o-mes-d\\u00eda)\": \"2020-04-19\", \"Grupo de edad\": \"<=39\", \"letalidad\": 0.0008001600320064013}, {\"fecha (a\\u00f1o-mes-d\\u00eda)\": \"2020-04-20\", \"Grupo de edad\": \"<=39\", \"letalidad\": 0.0007692307692307692}, {\"fecha (a\\u00f1o-mes-d\\u00eda)\": \"2020-04-21\", \"Grupo de edad\": \"<=39\", \"letalidad\": 0.0009201324990798675}, {\"fecha (a\\u00f1o-mes-d\\u00eda)\": \"2020-04-22\", \"Grupo de edad\": \"<=39\", \"letalidad\": 0.0008799718409010912}, {\"fecha (a\\u00f1o-mes-d\\u00eda)\": \"2020-04-23\", \"Grupo de edad\": \"<=39\", \"letalidad\": 0.0008401949252226517}, {\"fecha (a\\u00f1o-mes-d\\u00eda)\": \"2020-04-24\", \"Grupo de edad\": \"<=39\", \"letalidad\": 0.0008093234056328909}, {\"fecha (a\\u00f1o-mes-d\\u00eda)\": \"2020-04-25\", \"Grupo de edad\": \"<=39\", \"letalidad\": 0.0009237875288683603}, {\"fecha (a\\u00f1o-mes-d\\u00eda)\": \"2020-04-26\", \"Grupo de edad\": \"<=39\", \"letalidad\": 0.0008860011813349084}, {\"fecha (a\\u00f1o-mes-d\\u00eda)\": \"2020-04-27\", \"Grupo de edad\": \"<=39\", \"letalidad\": 0.0008564087924636027}, {\"fecha (a\\u00f1o-mes-d\\u00eda)\": \"2020-04-28\", \"Grupo de edad\": \"<=39\", \"letalidad\": 0.0008154389779831476}, {\"fecha (a\\u00f1o-mes-d\\u00eda)\": \"2020-05-01\", \"Grupo de edad\": \"<=39\", \"letalidad\": 0.0006786562606040041}, {\"fecha (a\\u00f1o-mes-d\\u00eda)\": \"2020-05-02\", \"Grupo de edad\": \"<=39\", \"letalidad\": 0.0006226650062266501}, {\"fecha (a\\u00f1o-mes-d\\u00eda)\": \"2020-05-04\", \"Grupo de edad\": \"<=39\", \"letalidad\": 0.000555812876331635}, {\"fecha (a\\u00f1o-mes-d\\u00eda)\": \"2020-05-06\", \"Grupo de edad\": \"<=39\", \"letalidad\": 0.0004924895345973898}, {\"fecha (a\\u00f1o-mes-d\\u00eda)\": \"2020-05-08\", \"Grupo de edad\": \"<=39\", \"letalidad\": 0.0005090909090909091}, {\"fecha (a\\u00f1o-mes-d\\u00eda)\": \"2020-05-11\", \"Grupo de edad\": \"<=39\", \"letalidad\": 0.00043621860783947156}, {\"fecha (a\\u00f1o-mes-d\\u00eda)\": \"2020-05-15\", \"Grupo de edad\": \"<=39\", \"letalidad\": 0.00046935135642542006}, {\"fecha (a\\u00f1o-mes-d\\u00eda)\": \"2020-05-18\", \"Grupo de edad\": \"<=39\", \"letalidad\": 0.0004027386226339106}, {\"fecha (a\\u00f1o-mes-d\\u00eda)\": \"2020-05-22\", \"Grupo de edad\": \"<=39\", \"letalidad\": 0.0003910009624639076}, {\"fecha (a\\u00f1o-mes-d\\u00eda)\": \"2020-05-25\", \"Grupo de edad\": \"<=39\", \"letalidad\": 0.0004041424602172266}, {\"fecha (a\\u00f1o-mes-d\\u00eda)\": \"2020-05-29\", \"Grupo de edad\": \"<=39\", \"letalidad\": 0.0003938150312979314}, {\"fecha (a\\u00f1o-mes-d\\u00eda)\": \"2020-06-01\", \"Grupo de edad\": \"<=39\", \"letalidad\": 0.0005217798089206354}, {\"fecha (a\\u00f1o-mes-d\\u00eda)\": \"2020-06-05\", \"Grupo de edad\": \"<=39\", \"letalidad\": 0.0005592928053194961}, {\"fecha (a\\u00f1o-mes-d\\u00eda)\": \"2020-06-08\", \"Grupo de edad\": \"<=39\", \"letalidad\": 0.0008282145075574574}, {\"fecha (a\\u00f1o-mes-d\\u00eda)\": \"2020-06-12\", \"Grupo de edad\": \"<=39\", \"letalidad\": 0.0008763821025967322}, {\"fecha (a\\u00f1o-mes-d\\u00eda)\": \"2020-06-15\", \"Grupo de edad\": \"<=39\", \"letalidad\": 0.0009116363873152308}, {\"fecha (a\\u00f1o-mes-d\\u00eda)\": \"2020-06-19\", \"Grupo de edad\": \"<=39\", \"letalidad\": 0.0007795604285067646}, {\"fecha (a\\u00f1o-mes-d\\u00eda)\": \"2020-06-23\", \"Grupo de edad\": \"<=39\", \"letalidad\": 0.0007450884982665288}, {\"fecha (a\\u00f1o-mes-d\\u00eda)\": \"2020-04-09\", \"Grupo de edad\": \"40-49\", \"letalidad\": 0.0008673026886383347}, {\"fecha (a\\u00f1o-mes-d\\u00eda)\": \"2020-04-10\", \"Grupo de edad\": \"40-49\", \"letalidad\": 0.0016299918500407497}, {\"fecha (a\\u00f1o-mes-d\\u00eda)\": \"2020-04-11\", \"Grupo de edad\": \"40-49\", \"letalidad\": 0.0015420200462606013}, {\"fecha (a\\u00f1o-mes-d\\u00eda)\": \"2020-04-12\", \"Grupo de edad\": \"40-49\", \"letalidad\": 0.0014695077149155032}, {\"fecha (a\\u00f1o-mes-d\\u00eda)\": \"2020-04-13\", \"Grupo de edad\": \"40-49\", \"letalidad\": 0.0013783597518952446}, {\"fecha (a\\u00f1o-mes-d\\u00eda)\": \"2020-04-14\", \"Grupo de edad\": \"40-49\", \"letalidad\": 0.0013440860215053765}, {\"fecha (a\\u00f1o-mes-d\\u00eda)\": \"2020-04-15\", \"Grupo de edad\": \"40-49\", \"letalidad\": 0.0012642225031605564}, {\"fecha (a\\u00f1o-mes-d\\u00eda)\": \"2020-04-16\", \"Grupo de edad\": \"40-49\", \"letalidad\": 0.0011876484560570072}, {\"fecha (a\\u00f1o-mes-d\\u00eda)\": \"2020-04-17\", \"Grupo de edad\": \"40-49\", \"letalidad\": 0.0011229646266142617}, {\"fecha (a\\u00f1o-mes-d\\u00eda)\": \"2020-04-18\", \"Grupo de edad\": \"40-49\", \"letalidad\": 0.001078167115902965}, {\"fecha (a\\u00f1o-mes-d\\u00eda)\": \"2020-04-19\", \"Grupo de edad\": \"40-49\", \"letalidad\": 0.0010384215991692627}, {\"fecha (a\\u00f1o-mes-d\\u00eda)\": \"2020-04-20\", \"Grupo de edad\": \"40-49\", \"letalidad\": 0.001010611419909045}, {\"fecha (a\\u00f1o-mes-d\\u00eda)\": \"2020-04-21\", \"Grupo de edad\": \"40-49\", \"letalidad\": 0.0009857072449482504}, {\"fecha (a\\u00f1o-mes-d\\u00eda)\": \"2020-04-22\", \"Grupo de edad\": \"40-49\", \"letalidad\": 0.0009514747859181732}, {\"fecha (a\\u00f1o-mes-d\\u00eda)\": \"2020-04-23\", \"Grupo de edad\": \"40-49\", \"letalidad\": 0.0013673655423883319}, {\"fecha (a\\u00f1o-mes-d\\u00eda)\": \"2020-04-24\", \"Grupo de edad\": \"40-49\", \"letalidad\": 0.0017691287041132243}, {\"fecha (a\\u00f1o-mes-d\\u00eda)\": \"2020-04-25\", \"Grupo de edad\": \"40-49\", \"letalidad\": 0.002545608824777259}, {\"fecha (a\\u00f1o-mes-d\\u00eda)\": \"2020-04-26\", \"Grupo de edad\": \"40-49\", \"letalidad\": 0.0028913672036348617}, {\"fecha (a\\u00f1o-mes-d\\u00eda)\": \"2020-04-27\", \"Grupo de edad\": \"40-49\", \"letalidad\": 0.0028089887640449437}, {\"fecha (a\\u00f1o-mes-d\\u00eda)\": \"2020-04-28\", \"Grupo de edad\": \"40-49\", \"letalidad\": 0.0030804774740084712}, {\"fecha (a\\u00f1o-mes-d\\u00eda)\": \"2020-05-01\", \"Grupo de edad\": \"40-49\", \"letalidad\": 0.0032916392363396972}, {\"fecha (a\\u00f1o-mes-d\\u00eda)\": \"2020-05-02\", \"Grupo de edad\": \"40-49\", \"letalidad\": 0.003346516580468512}, {\"fecha (a\\u00f1o-mes-d\\u00eda)\": \"2020-05-04\", \"Grupo de edad\": \"40-49\", \"letalidad\": 0.003310344827586207}, {\"fecha (a\\u00f1o-mes-d\\u00eda)\": \"2020-05-06\", \"Grupo de edad\": \"40-49\", \"letalidad\": 0.003226607098535617}, {\"fecha (a\\u00f1o-mes-d\\u00eda)\": \"2020-05-08\", \"Grupo de edad\": \"40-49\", \"letalidad\": 0.0030728709394205445}, {\"fecha (a\\u00f1o-mes-d\\u00eda)\": \"2020-05-11\", \"Grupo de edad\": \"40-49\", \"letalidad\": 0.003065721402567542}, {\"fecha (a\\u00f1o-mes-d\\u00eda)\": \"2020-05-15\", \"Grupo de edad\": \"40-49\", \"letalidad\": 0.0032253335288080927}, {\"fecha (a\\u00f1o-mes-d\\u00eda)\": \"2020-05-18\", \"Grupo de edad\": \"40-49\", \"letalidad\": 0.00352068401860933}, {\"fecha (a\\u00f1o-mes-d\\u00eda)\": \"2020-05-22\", \"Grupo de edad\": \"40-49\", \"letalidad\": 0.0030916245081506464}, {\"fecha (a\\u00f1o-mes-d\\u00eda)\": \"2020-05-25\", \"Grupo de edad\": \"40-49\", \"letalidad\": 0.003168959653733189}, {\"fecha (a\\u00f1o-mes-d\\u00eda)\": \"2020-05-29\", \"Grupo de edad\": \"40-49\", \"letalidad\": 0.002936482604532397}, {\"fecha (a\\u00f1o-mes-d\\u00eda)\": \"2020-06-01\", \"Grupo de edad\": \"40-49\", \"letalidad\": 0.0028099173553719006}, {\"fecha (a\\u00f1o-mes-d\\u00eda)\": \"2020-06-05\", \"Grupo de edad\": \"40-49\", \"letalidad\": 0.0029256323140807853}, {\"fecha (a\\u00f1o-mes-d\\u00eda)\": \"2020-06-08\", \"Grupo de edad\": \"40-49\", \"letalidad\": 0.003237186138202947}, {\"fecha (a\\u00f1o-mes-d\\u00eda)\": \"2020-06-12\", \"Grupo de edad\": \"40-49\", \"letalidad\": 0.0036013973421687613}, {\"fecha (a\\u00f1o-mes-d\\u00eda)\": \"2020-06-15\", \"Grupo de edad\": \"40-49\", \"letalidad\": 0.0035797213622291023}, {\"fecha (a\\u00f1o-mes-d\\u00eda)\": \"2020-06-19\", \"Grupo de edad\": \"40-49\", \"letalidad\": 0.0035292931330039327}, {\"fecha (a\\u00f1o-mes-d\\u00eda)\": \"2020-06-23\", \"Grupo de edad\": \"40-49\", \"letalidad\": 0.0034317089910775567}, {\"fecha (a\\u00f1o-mes-d\\u00eda)\": \"2020-04-09\", \"Grupo de edad\": \"50-59\", \"letalidad\": 0.0011074197120708748}, {\"fecha (a\\u00f1o-mes-d\\u00eda)\": \"2020-04-10\", \"Grupo de edad\": \"50-59\", \"letalidad\": 0.0020512820512820513}, {\"fecha (a\\u00f1o-mes-d\\u00eda)\": \"2020-04-11\", \"Grupo de edad\": \"50-59\", \"letalidad\": 0.0019569471624266144}, {\"fecha (a\\u00f1o-mes-d\\u00eda)\": \"2020-04-12\", \"Grupo de edad\": \"50-59\", \"letalidad\": 0.0028089887640449437}, {\"fecha (a\\u00f1o-mes-d\\u00eda)\": \"2020-04-13\", \"Grupo de edad\": \"50-59\", \"letalidad\": 0.0026455026455026454}, {\"fecha (a\\u00f1o-mes-d\\u00eda)\": \"2020-04-14\", \"Grupo de edad\": \"50-59\", \"letalidad\": 0.004262574595055414}, {\"fecha (a\\u00f1o-mes-d\\u00eda)\": \"2020-04-15\", \"Grupo de edad\": \"50-59\", \"letalidad\": 0.003996802557953637}, {\"fecha (a\\u00f1o-mes-d\\u00eda)\": \"2020-04-16\", \"Grupo de edad\": \"50-59\", \"letalidad\": 0.0044742729306487695}, {\"fecha (a\\u00f1o-mes-d\\u00eda)\": \"2020-04-17\", \"Grupo de edad\": \"50-59\", \"letalidad\": 0.005681818181818182}, {\"fecha (a\\u00f1o-mes-d\\u00eda)\": \"2020-04-18\", \"Grupo de edad\": \"50-59\", \"letalidad\": 0.005416384563303994}, {\"fecha (a\\u00f1o-mes-d\\u00eda)\": \"2020-04-19\", \"Grupo de edad\": \"50-59\", \"letalidad\": 0.005913272010512484}, {\"fecha (a\\u00f1o-mes-d\\u00eda)\": \"2020-04-20\", \"Grupo de edad\": \"50-59\", \"letalidad\": 0.006997455470737914}, {\"fecha (a\\u00f1o-mes-d\\u00eda)\": \"2020-04-21\", \"Grupo de edad\": \"50-59\", \"letalidad\": 0.008024691358024692}, {\"fecha (a\\u00f1o-mes-d\\u00eda)\": \"2020-04-22\", \"Grupo de edad\": \"50-59\", \"letalidad\": 0.008269344359125812}, {\"fecha (a\\u00f1o-mes-d\\u00eda)\": \"2020-04-23\", \"Grupo de edad\": \"50-59\", \"letalidad\": 0.00791407574901074}, {\"fecha (a\\u00f1o-mes-d\\u00eda)\": \"2020-04-24\", \"Grupo de edad\": \"50-59\", \"letalidad\": 0.007654455986878075}, {\"fecha (a\\u00f1o-mes-d\\u00eda)\": \"2020-04-25\", \"Grupo de edad\": \"50-59\", \"letalidad\": 0.007841087297438577}, {\"fecha (a\\u00f1o-mes-d\\u00eda)\": \"2020-04-26\", \"Grupo de edad\": \"50-59\", \"letalidad\": 0.007533902561526871}, {\"fecha (a\\u00f1o-mes-d\\u00eda)\": \"2020-04-27\", \"Grupo de edad\": \"50-59\", \"letalidad\": 0.007858546168958742}, {\"fecha (a\\u00f1o-mes-d\\u00eda)\": \"2020-04-28\", \"Grupo de edad\": \"50-59\", \"letalidad\": 0.007554296506137866}, {\"fecha (a\\u00f1o-mes-d\\u00eda)\": \"2020-05-01\", \"Grupo de edad\": \"50-59\", \"letalidad\": 0.007179896290386917}, {\"fecha (a\\u00f1o-mes-d\\u00eda)\": \"2020-05-02\", \"Grupo de edad\": \"50-59\", \"letalidad\": 0.006644518272425249}, {\"fecha (a\\u00f1o-mes-d\\u00eda)\": \"2020-05-04\", \"Grupo de edad\": \"50-59\", \"letalidad\": 0.006615944426066821}, {\"fecha (a\\u00f1o-mes-d\\u00eda)\": \"2020-05-06\", \"Grupo de edad\": \"50-59\", \"letalidad\": 0.005950609937518596}, {\"fecha (a\\u00f1o-mes-d\\u00eda)\": \"2020-05-08\", \"Grupo de edad\": \"50-59\", \"letalidad\": 0.005573248407643312}, {\"fecha (a\\u00f1o-mes-d\\u00eda)\": \"2020-05-11\", \"Grupo de edad\": \"50-59\", \"letalidad\": 0.005331478905887807}, {\"fecha (a\\u00f1o-mes-d\\u00eda)\": \"2020-05-15\", \"Grupo de edad\": \"50-59\", \"letalidad\": 0.005463517800493479}, {\"fecha (a\\u00f1o-mes-d\\u00eda)\": \"2020-05-18\", \"Grupo de edad\": \"50-59\", \"letalidad\": 0.006038647342995169}, {\"fecha (a\\u00f1o-mes-d\\u00eda)\": \"2020-05-22\", \"Grupo de edad\": \"50-59\", \"letalidad\": 0.006389072482925755}, {\"fecha (a\\u00f1o-mes-d\\u00eda)\": \"2020-05-25\", \"Grupo de edad\": \"50-59\", \"letalidad\": 0.006311745334796927}, {\"fecha (a\\u00f1o-mes-d\\u00eda)\": \"2020-05-29\", \"Grupo de edad\": \"50-59\", \"letalidad\": 0.0069500924214417744}, {\"fecha (a\\u00f1o-mes-d\\u00eda)\": \"2020-06-01\", \"Grupo de edad\": \"50-59\", \"letalidad\": 0.007207435038249984}, {\"fecha (a\\u00f1o-mes-d\\u00eda)\": \"2020-06-05\", \"Grupo de edad\": \"50-59\", \"letalidad\": 0.00819186203179736}, {\"fecha (a\\u00f1o-mes-d\\u00eda)\": \"2020-06-08\", \"Grupo de edad\": \"50-59\", \"letalidad\": 0.010318021201413428}, {\"fecha (a\\u00f1o-mes-d\\u00eda)\": \"2020-06-12\", \"Grupo de edad\": \"50-59\", \"letalidad\": 0.010785264178380998}, {\"fecha (a\\u00f1o-mes-d\\u00eda)\": \"2020-06-15\", \"Grupo de edad\": \"50-59\", \"letalidad\": 0.011586865841919498}, {\"fecha (a\\u00f1o-mes-d\\u00eda)\": \"2020-06-19\", \"Grupo de edad\": \"50-59\", \"letalidad\": 0.010933348095659877}, {\"fecha (a\\u00f1o-mes-d\\u00eda)\": \"2020-06-23\", \"Grupo de edad\": \"50-59\", \"letalidad\": 0.01086629944917376}, {\"fecha (a\\u00f1o-mes-d\\u00eda)\": \"2020-04-09\", \"Grupo de edad\": \"60-69\", \"letalidad\": 0.017928286852589643}, {\"fecha (a\\u00f1o-mes-d\\u00eda)\": \"2020-04-10\", \"Grupo de edad\": \"60-69\", \"letalidad\": 0.01838235294117647}, {\"fecha (a\\u00f1o-mes-d\\u00eda)\": \"2020-04-11\", \"Grupo de edad\": \"60-69\", \"letalidad\": 0.02054794520547945}, {\"fecha (a\\u00f1o-mes-d\\u00eda)\": \"2020-04-12\", \"Grupo de edad\": \"60-69\", \"letalidad\": 0.019639934533551555}, {\"fecha (a\\u00f1o-mes-d\\u00eda)\": \"2020-04-13\", \"Grupo de edad\": \"60-69\", \"letalidad\": 0.01866251944012442}, {\"fecha (a\\u00f1o-mes-d\\u00eda)\": \"2020-04-14\", \"Grupo de edad\": \"60-69\", \"letalidad\": 0.01749271137026239}, {\"fecha (a\\u00f1o-mes-d\\u00eda)\": \"2020-04-15\", \"Grupo de edad\": \"60-69\", \"letalidad\": 0.01652892561983471}, {\"fecha (a\\u00f1o-mes-d\\u00eda)\": \"2020-04-16\", \"Grupo de edad\": \"60-69\", \"letalidad\": 0.018276762402088774}, {\"fecha (a\\u00f1o-mes-d\\u00eda)\": \"2020-04-17\", \"Grupo de edad\": \"60-69\", \"letalidad\": 0.019536019536019536}, {\"fecha (a\\u00f1o-mes-d\\u00eda)\": \"2020-04-18\", \"Grupo de edad\": \"60-69\", \"letalidad\": 0.01990632318501171}, {\"fecha (a\\u00f1o-mes-d\\u00eda)\": \"2020-04-19\", \"Grupo de edad\": \"60-69\", \"letalidad\": 0.020618556701030927}, {\"fecha (a\\u00f1o-mes-d\\u00eda)\": \"2020-04-20\", \"Grupo de edad\": \"60-69\", \"letalidad\": 0.021087680355160933}, {\"fecha (a\\u00f1o-mes-d\\u00eda)\": \"2020-04-21\", \"Grupo de edad\": \"60-69\", \"letalidad\": 0.021436227224008574}, {\"fecha (a\\u00f1o-mes-d\\u00eda)\": \"2020-04-22\", \"Grupo de edad\": \"60-69\", \"letalidad\": 0.026776519052523172}, {\"fecha (a\\u00f1o-mes-d\\u00eda)\": \"2020-04-23\", \"Grupo de edad\": \"60-69\", \"letalidad\": 0.02753195673549656}, {\"fecha (a\\u00f1o-mes-d\\u00eda)\": \"2020-04-24\", \"Grupo de edad\": \"60-69\", \"letalidad\": 0.02862595419847328}, {\"fecha (a\\u00f1o-mes-d\\u00eda)\": \"2020-04-25\", \"Grupo de edad\": \"60-69\", \"letalidad\": 0.028624192059095107}, {\"fecha (a\\u00f1o-mes-d\\u00eda)\": \"2020-04-26\", \"Grupo de edad\": \"60-69\", \"letalidad\": 0.029596412556053813}, {\"fecha (a\\u00f1o-mes-d\\u00eda)\": \"2020-04-27\", \"Grupo de edad\": \"60-69\", \"letalidad\": 0.03027681660899654}, {\"fecha (a\\u00f1o-mes-d\\u00eda)\": \"2020-04-28\", \"Grupo de edad\": \"60-69\", \"letalidad\": 0.02902155887230514}, {\"fecha (a\\u00f1o-mes-d\\u00eda)\": \"2020-05-01\", \"Grupo de edad\": \"60-69\", \"letalidad\": 0.029560201874549386}, {\"fecha (a\\u00f1o-mes-d\\u00eda)\": \"2020-05-02\", \"Grupo de edad\": \"60-69\", \"letalidad\": 0.028609447771124417}, {\"fecha (a\\u00f1o-mes-d\\u00eda)\": \"2020-05-04\", \"Grupo de edad\": \"60-69\", \"letalidad\": 0.02738095238095238}, {\"fecha (a\\u00f1o-mes-d\\u00eda)\": \"2020-05-06\", \"Grupo de edad\": \"60-69\", \"letalidad\": 0.02521459227467811}, {\"fecha (a\\u00f1o-mes-d\\u00eda)\": \"2020-05-08\", \"Grupo de edad\": \"60-69\", \"letalidad\": 0.022918615528531337}, {\"fecha (a\\u00f1o-mes-d\\u00eda)\": \"2020-05-11\", \"Grupo de edad\": \"60-69\", \"letalidad\": 0.022672064777327937}, {\"fecha (a\\u00f1o-mes-d\\u00eda)\": \"2020-05-15\", \"Grupo de edad\": \"60-69\", \"letalidad\": 0.02037617554858934}, {\"fecha (a\\u00f1o-mes-d\\u00eda)\": \"2020-05-18\", \"Grupo de edad\": \"60-69\", \"letalidad\": 0.021878335112059766}, {\"fecha (a\\u00f1o-mes-d\\u00eda)\": \"2020-05-22\", \"Grupo de edad\": \"60-69\", \"letalidad\": 0.020944477376012644}, {\"fecha (a\\u00f1o-mes-d\\u00eda)\": \"2020-05-25\", \"Grupo de edad\": \"60-69\", \"letalidad\": 0.0212589270885235}, {\"fecha (a\\u00f1o-mes-d\\u00eda)\": \"2020-05-29\", \"Grupo de edad\": \"60-69\", \"letalidad\": 0.023020625415834998}, {\"fecha (a\\u00f1o-mes-d\\u00eda)\": \"2020-06-01\", \"Grupo de edad\": \"60-69\", \"letalidad\": 0.022634676324128564}, {\"fecha (a\\u00f1o-mes-d\\u00eda)\": \"2020-06-05\", \"Grupo de edad\": \"60-69\", \"letalidad\": 0.02611293120061669}, {\"fecha (a\\u00f1o-mes-d\\u00eda)\": \"2020-06-08\", \"Grupo de edad\": \"60-69\", \"letalidad\": 0.035437710437710435}, {\"fecha (a\\u00f1o-mes-d\\u00eda)\": \"2020-06-12\", \"Grupo de edad\": \"60-69\", \"letalidad\": 0.039754478623938334}, {\"fecha (a\\u00f1o-mes-d\\u00eda)\": \"2020-06-15\", \"Grupo de edad\": \"60-69\", \"letalidad\": 0.042395437262357415}, {\"fecha (a\\u00f1o-mes-d\\u00eda)\": \"2020-06-19\", \"Grupo de edad\": \"60-69\", \"letalidad\": 0.04182716049382716}, {\"fecha (a\\u00f1o-mes-d\\u00eda)\": \"2020-06-23\", \"Grupo de edad\": \"60-69\", \"letalidad\": 0.04194683172284811}, {\"fecha (a\\u00f1o-mes-d\\u00eda)\": \"2020-04-09\", \"Grupo de edad\": \"70-79\", \"letalidad\": 0.07394366197183098}, {\"fecha (a\\u00f1o-mes-d\\u00eda)\": \"2020-04-10\", \"Grupo de edad\": \"70-79\", \"letalidad\": 0.07119741100323625}, {\"fecha (a\\u00f1o-mes-d\\u00eda)\": \"2020-04-11\", \"Grupo de edad\": \"70-79\", \"letalidad\": 0.07317073170731707}, {\"fecha (a\\u00f1o-mes-d\\u00eda)\": \"2020-04-12\", \"Grupo de edad\": \"70-79\", \"letalidad\": 0.08163265306122448}, {\"fecha (a\\u00f1o-mes-d\\u00eda)\": \"2020-04-13\", \"Grupo de edad\": \"70-79\", \"letalidad\": 0.08262108262108261}, {\"fecha (a\\u00f1o-mes-d\\u00eda)\": \"2020-04-14\", \"Grupo de edad\": \"70-79\", \"letalidad\": 0.08196721311475409}, {\"fecha (a\\u00f1o-mes-d\\u00eda)\": \"2020-04-15\", \"Grupo de edad\": \"70-79\", \"letalidad\": 0.07828282828282829}, {\"fecha (a\\u00f1o-mes-d\\u00eda)\": \"2020-04-16\", \"Grupo de edad\": \"70-79\", \"letalidad\": 0.07582938388625593}, {\"fecha (a\\u00f1o-mes-d\\u00eda)\": \"2020-04-17\", \"Grupo de edad\": \"70-79\", \"letalidad\": 0.07982261640798226}, {\"fecha (a\\u00f1o-mes-d\\u00eda)\": \"2020-04-18\", \"Grupo de edad\": \"70-79\", \"letalidad\": 0.08125}, {\"fecha (a\\u00f1o-mes-d\\u00eda)\": \"2020-04-19\", \"Grupo de edad\": \"70-79\", \"letalidad\": 0.08249496981891348}, {\"fecha (a\\u00f1o-mes-d\\u00eda)\": \"2020-04-20\", \"Grupo de edad\": \"70-79\", \"letalidad\": 0.08155339805825243}, {\"fecha (a\\u00f1o-mes-d\\u00eda)\": \"2020-04-21\", \"Grupo de edad\": \"70-79\", \"letalidad\": 0.08143939393939394}, {\"fecha (a\\u00f1o-mes-d\\u00eda)\": \"2020-04-22\", \"Grupo de edad\": \"70-79\", \"letalidad\": 0.08639705882352941}, {\"fecha (a\\u00f1o-mes-d\\u00eda)\": \"2020-04-23\", \"Grupo de edad\": \"70-79\", \"letalidad\": 0.0855614973262032}, {\"fecha (a\\u00f1o-mes-d\\u00eda)\": \"2020-04-24\", \"Grupo de edad\": \"70-79\", \"letalidad\": 0.08566433566433566}, {\"fecha (a\\u00f1o-mes-d\\u00eda)\": \"2020-04-25\", \"Grupo de edad\": \"70-79\", \"letalidad\": 0.08445945945945946}, {\"fecha (a\\u00f1o-mes-d\\u00eda)\": \"2020-04-26\", \"Grupo de edad\": \"70-79\", \"letalidad\": 0.08441558441558442}, {\"fecha (a\\u00f1o-mes-d\\u00eda)\": \"2020-04-27\", \"Grupo de edad\": \"70-79\", \"letalidad\": 0.09090909090909091}, {\"fecha (a\\u00f1o-mes-d\\u00eda)\": \"2020-04-28\", \"Grupo de edad\": \"70-79\", \"letalidad\": 0.09036144578313253}, {\"fecha (a\\u00f1o-mes-d\\u00eda)\": \"2020-05-01\", \"Grupo de edad\": \"70-79\", \"letalidad\": 0.09115281501340483}, {\"fecha (a\\u00f1o-mes-d\\u00eda)\": \"2020-05-02\", \"Grupo de edad\": \"70-79\", \"letalidad\": 0.09148665819567979}, {\"fecha (a\\u00f1o-mes-d\\u00eda)\": \"2020-05-04\", \"Grupo de edad\": \"70-79\", \"letalidad\": 0.08665906499429875}, {\"fecha (a\\u00f1o-mes-d\\u00eda)\": \"2020-05-06\", \"Grupo de edad\": \"70-79\", \"letalidad\": 0.07983193277310924}, {\"fecha (a\\u00f1o-mes-d\\u00eda)\": \"2020-05-08\", \"Grupo de edad\": \"70-79\", \"letalidad\": 0.07604562737642585}, {\"fecha (a\\u00f1o-mes-d\\u00eda)\": \"2020-05-11\", \"Grupo de edad\": \"70-79\", \"letalidad\": 0.07367549668874172}, {\"fecha (a\\u00f1o-mes-d\\u00eda)\": \"2020-05-15\", \"Grupo de edad\": \"70-79\", \"letalidad\": 0.07138221933809215}, {\"fecha (a\\u00f1o-mes-d\\u00eda)\": \"2020-05-18\", \"Grupo de edad\": \"70-79\", \"letalidad\": 0.07450980392156863}, {\"fecha (a\\u00f1o-mes-d\\u00eda)\": \"2020-05-22\", \"Grupo de edad\": \"70-79\", \"letalidad\": 0.07715008431703205}, {\"fecha (a\\u00f1o-mes-d\\u00eda)\": \"2020-05-25\", \"Grupo de edad\": \"70-79\", \"letalidad\": 0.07973068745570518}, {\"fecha (a\\u00f1o-mes-d\\u00eda)\": \"2020-05-29\", \"Grupo de edad\": \"70-79\", \"letalidad\": 0.0786358511837655}, {\"fecha (a\\u00f1o-mes-d\\u00eda)\": \"2020-06-01\", \"Grupo de edad\": \"70-79\", \"letalidad\": 0.07672393504353965}, {\"fecha (a\\u00f1o-mes-d\\u00eda)\": \"2020-06-05\", \"Grupo de edad\": \"70-79\", \"letalidad\": 0.0858334989072124}, {\"fecha (a\\u00f1o-mes-d\\u00eda)\": \"2020-06-08\", \"Grupo de edad\": \"70-79\", \"letalidad\": 0.11817709235834344}, {\"fecha (a\\u00f1o-mes-d\\u00eda)\": \"2020-06-12\", \"Grupo de edad\": \"70-79\", \"letalidad\": 0.1277281382744983}, {\"fecha (a\\u00f1o-mes-d\\u00eda)\": \"2020-06-15\", \"Grupo de edad\": \"70-79\", \"letalidad\": 0.13118779888845805}, {\"fecha (a\\u00f1o-mes-d\\u00eda)\": \"2020-06-19\", \"Grupo de edad\": \"70-79\", \"letalidad\": 0.12337203432609793}, {\"fecha (a\\u00f1o-mes-d\\u00eda)\": \"2020-06-23\", \"Grupo de edad\": \"70-79\", \"letalidad\": 0.123054385643655}, {\"fecha (a\\u00f1o-mes-d\\u00eda)\": \"2020-04-09\", \"Grupo de edad\": \">=80\", \"letalidad\": 0.17557251908396945}, {\"fecha (a\\u00f1o-mes-d\\u00eda)\": \"2020-04-10\", \"Grupo de edad\": \">=80\", \"letalidad\": 0.17647058823529413}, {\"fecha (a\\u00f1o-mes-d\\u00eda)\": \"2020-04-11\", \"Grupo de edad\": \">=80\", \"letalidad\": 0.17751479289940827}, {\"fecha (a\\u00f1o-mes-d\\u00eda)\": \"2020-04-12\", \"Grupo de edad\": \">=80\", \"letalidad\": 0.1787709497206704}, {\"fecha (a\\u00f1o-mes-d\\u00eda)\": \"2020-04-13\", \"Grupo de edad\": \">=80\", \"letalidad\": 0.17647058823529413}, {\"fecha (a\\u00f1o-mes-d\\u00eda)\": \"2020-04-14\", \"Grupo de edad\": \">=80\", \"letalidad\": 0.20304568527918782}, {\"fecha (a\\u00f1o-mes-d\\u00eda)\": \"2020-04-15\", \"Grupo de edad\": \">=80\", \"letalidad\": 0.19617224880382775}, {\"fecha (a\\u00f1o-mes-d\\u00eda)\": \"2020-04-16\", \"Grupo de edad\": \">=80\", \"letalidad\": 0.2171945701357466}, {\"fecha (a\\u00f1o-mes-d\\u00eda)\": \"2020-04-17\", \"Grupo de edad\": \">=80\", \"letalidad\": 0.21008403361344538}, {\"fecha (a\\u00f1o-mes-d\\u00eda)\": \"2020-04-18\", \"Grupo de edad\": \">=80\", \"letalidad\": 0.22134387351778656}, {\"fecha (a\\u00f1o-mes-d\\u00eda)\": \"2020-04-19\", \"Grupo de edad\": \">=80\", \"letalidad\": 0.2177121771217712}, {\"fecha (a\\u00f1o-mes-d\\u00eda)\": \"2020-04-20\", \"Grupo de edad\": \">=80\", \"letalidad\": 0.2147887323943662}, {\"fecha (a\\u00f1o-mes-d\\u00eda)\": \"2020-04-21\", \"Grupo de edad\": \">=80\", \"letalidad\": 0.2222222222222222}, {\"fecha (a\\u00f1o-mes-d\\u00eda)\": \"2020-04-22\", \"Grupo de edad\": \">=80\", \"letalidad\": 0.21710526315789475}, {\"fecha (a\\u00f1o-mes-d\\u00eda)\": \"2020-04-23\", \"Grupo de edad\": \">=80\", \"letalidad\": 0.21875}, {\"fecha (a\\u00f1o-mes-d\\u00eda)\": \"2020-04-24\", \"Grupo de edad\": \">=80\", \"letalidad\": 0.22085889570552147}, {\"fecha (a\\u00f1o-mes-d\\u00eda)\": \"2020-04-25\", \"Grupo de edad\": \">=80\", \"letalidad\": 0.21159420289855072}, {\"fecha (a\\u00f1o-mes-d\\u00eda)\": \"2020-04-26\", \"Grupo de edad\": \">=80\", \"letalidad\": 0.20596205962059622}, {\"fecha (a\\u00f1o-mes-d\\u00eda)\": \"2020-04-27\", \"Grupo de edad\": \">=80\", \"letalidad\": 0.19896640826873385}, {\"fecha (a\\u00f1o-mes-d\\u00eda)\": \"2020-04-28\", \"Grupo de edad\": \">=80\", \"letalidad\": 0.1957040572792363}, {\"fecha (a\\u00f1o-mes-d\\u00eda)\": \"2020-05-01\", \"Grupo de edad\": \">=80\", \"letalidad\": 0.18609406952965235}, {\"fecha (a\\u00f1o-mes-d\\u00eda)\": \"2020-05-02\", \"Grupo de edad\": \">=80\", \"letalidad\": 0.1917808219178082}, {\"fecha (a\\u00f1o-mes-d\\u00eda)\": \"2020-05-04\", \"Grupo de edad\": \">=80\", \"letalidad\": 0.19400352733686066}, {\"fecha (a\\u00f1o-mes-d\\u00eda)\": \"2020-05-06\", \"Grupo de edad\": \">=80\", \"letalidad\": 0.19131832797427653}, {\"fecha (a\\u00f1o-mes-d\\u00eda)\": \"2020-05-08\", \"Grupo de edad\": \">=80\", \"letalidad\": 0.17877906976744187}, {\"fecha (a\\u00f1o-mes-d\\u00eda)\": \"2020-05-11\", \"Grupo de edad\": \">=80\", \"letalidad\": 0.16730038022813687}, {\"fecha (a\\u00f1o-mes-d\\u00eda)\": \"2020-05-15\", \"Grupo de edad\": \">=80\", \"letalidad\": 0.15934627170582227}, {\"fecha (a\\u00f1o-mes-d\\u00eda)\": \"2020-05-18\", \"Grupo de edad\": \">=80\", \"letalidad\": 0.16696750902527077}, {\"fecha (a\\u00f1o-mes-d\\u00eda)\": \"2020-05-22\", \"Grupo de edad\": \">=80\", \"letalidad\": 0.1674911660777385}, {\"fecha (a\\u00f1o-mes-d\\u00eda)\": \"2020-05-25\", \"Grupo de edad\": \">=80\", \"letalidad\": 0.16666666666666666}, {\"fecha (a\\u00f1o-mes-d\\u00eda)\": \"2020-05-29\", \"Grupo de edad\": \">=80\", \"letalidad\": 0.1559718969555035}, {\"fecha (a\\u00f1o-mes-d\\u00eda)\": \"2020-06-01\", \"Grupo de edad\": \">=80\", \"letalidad\": 0.15558194774346792}, {\"fecha (a\\u00f1o-mes-d\\u00eda)\": \"2020-06-05\", \"Grupo de edad\": \">=80\", \"letalidad\": 0.16666666666666666}, {\"fecha (a\\u00f1o-mes-d\\u00eda)\": \"2020-06-08\", \"Grupo de edad\": \">=80\", \"letalidad\": 0.23467600700525393}, {\"fecha (a\\u00f1o-mes-d\\u00eda)\": \"2020-06-12\", \"Grupo de edad\": \">=80\", \"letalidad\": 0.23935915829746532}, {\"fecha (a\\u00f1o-mes-d\\u00eda)\": \"2020-06-15\", \"Grupo de edad\": \">=80\", \"letalidad\": 0.2456512515910055}, {\"fecha (a\\u00f1o-mes-d\\u00eda)\": \"2020-06-19\", \"Grupo de edad\": \">=80\", \"letalidad\": 0.22873996395215468}, {\"fecha (a\\u00f1o-mes-d\\u00eda)\": \"2020-06-23\", \"Grupo de edad\": \">=80\", \"letalidad\": 0.22589653145208702}]}}, {\"mode\": \"vega-lite\"});\n",
       "</script>"
      ],
      "text/plain": [
       "alt.HConcatChart(...)"
      ]
     },
     "execution_count": 67,
     "metadata": {},
     "output_type": "execute_result"
    }
   ],
   "source": [
    "#hide\n",
    "label = alt.selection_single(\n",
    "    encodings=['x'], # limit selection to x-axis value\n",
    "    on='mouseover',  # select on mouseover events\n",
    "    nearest=True,    # select data point nearest the cursor\n",
    "    empty='none'     # empty selection includes no data points\n",
    ")\n",
    "\n",
    "input_dropdown = alt.binding_select(options=letalidad['Grupo de edad'].unique())\n",
    "selection1 = alt.selection_single(fields=['Grupo de edad'], bind=input_dropdown, name=' ')\n",
    "selection2 = alt.selection_multi(fields=['Grupo de edad'], on='mouseover')\n",
    "\n",
    "color = alt.condition(selection1 | selection2,\n",
    "                    alt.Color('Grupo de edad:N', scale=alt.Scale(scheme='tableau10'), legend=None),\n",
    "                    alt.value('lightgray'))\n",
    "\n",
    "\n",
    "base = alt.Chart(letalidad).mark_line().encode(\n",
    "    x = 'fecha (año-mes-día):N',\n",
    "    y = alt.Y('letalidad:Q', sort=['<=39', '40-49', '50-59', '60-69', '70-79', '>=80'], axis=alt.Axis(format='%')),\n",
    "    color = color,\n",
    "    tooltip = ['fecha (año-mes-día)', 'Grupo de edad', 'letalidad'],\n",
    ").add_selection(\n",
    "    label, selection1, selection2\n",
    ").transform_filter(\n",
    "    selection1\n",
    ")\n",
    "\n",
    "chart = alt.layer(\n",
    "    base, # base line chart\n",
    "    \n",
    "    # add a rule mark to serve as a guide line\n",
    "    alt.Chart().mark_rule(color='#aaa').encode(\n",
    "        x = alt.X('fecha (año-mes-día):N', axis=alt.Axis(title='fecha (año-mes-día):N'), sort=None)\n",
    "    ).transform_filter(label),\n",
    "    \n",
    "    # add circle marks for selected time points, hide unselected points\n",
    "    base.mark_circle().encode(\n",
    "        opacity=alt.condition(label, alt.value(1), alt.value(0))\n",
    "    ).add_selection(label),\n",
    "    \n",
    "    # add white stroked text to provide a legible background for labels\n",
    "    base.mark_text(align='left', dx=5, dy=-5, stroke='white', strokeWidth=2).encode(\n",
    "        text='letalidad:Q'\n",
    "    ).transform_filter(label),\n",
    "    \n",
    "    # add text labels for stock prices\n",
    "    base.mark_text(align='left', dx=5, dy=-5).encode(\n",
    "        text='letalidad:Q'\n",
    "    ).transform_filter(label),\n",
    "    \n",
    "    data=letalidad\n",
    ")\n",
    "\n",
    "legend = alt.Chart(letalidad).mark_point().encode(\n",
    "    y=alt.Y('Grupo de edad', axis=alt.Axis(orient='right'), sort=['>=80','70-79','60-69','50-59','40-49','<=39']),\n",
    "    color=color\n",
    ").add_selection(\n",
    "    selection1, selection2\n",
    ")\n",
    "\n",
    "chart.properties(\n",
    "    title = 'COVID-19 en Chile: Evolución de la letalidad por rango de edad',\n",
    "    width = 600\n",
    ") | legend"
   ]
  },
  {
   "cell_type": "code",
   "execution_count": 68,
   "metadata": {},
   "outputs": [
    {
     "data": {
      "text/html": [
       "\n",
       "<div id=\"altair-viz-f218db022d364444a211c437cda34b52\"></div>\n",
       "<script type=\"text/javascript\">\n",
       "  (function(spec, embedOpt){\n",
       "    let outputDiv = document.currentScript.previousElementSibling;\n",
       "    if (outputDiv.id !== \"altair-viz-f218db022d364444a211c437cda34b52\") {\n",
       "      outputDiv = document.getElementById(\"altair-viz-f218db022d364444a211c437cda34b52\");\n",
       "    }\n",
       "    const paths = {\n",
       "      \"vega\": \"https://cdn.jsdelivr.net/npm//vega@5?noext\",\n",
       "      \"vega-lib\": \"https://cdn.jsdelivr.net/npm//vega-lib?noext\",\n",
       "      \"vega-lite\": \"https://cdn.jsdelivr.net/npm//vega-lite@4.8.1?noext\",\n",
       "      \"vega-embed\": \"https://cdn.jsdelivr.net/npm//vega-embed@6?noext\",\n",
       "    };\n",
       "\n",
       "    function loadScript(lib) {\n",
       "      return new Promise(function(resolve, reject) {\n",
       "        var s = document.createElement('script');\n",
       "        s.src = paths[lib];\n",
       "        s.async = true;\n",
       "        s.onload = () => resolve(paths[lib]);\n",
       "        s.onerror = () => reject(`Error loading script: ${paths[lib]}`);\n",
       "        document.getElementsByTagName(\"head\")[0].appendChild(s);\n",
       "      });\n",
       "    }\n",
       "\n",
       "    function showError(err) {\n",
       "      outputDiv.innerHTML = `<div class=\"error\" style=\"color:red;\">${err}</div>`;\n",
       "      throw err;\n",
       "    }\n",
       "\n",
       "    function displayChart(vegaEmbed) {\n",
       "      vegaEmbed(outputDiv, spec, embedOpt)\n",
       "        .catch(err => showError(`Javascript Error: ${err.message}<br>This usually means there's a typo in your chart specification. See the javascript console for the full traceback.`));\n",
       "    }\n",
       "\n",
       "    if(typeof define === \"function\" && define.amd) {\n",
       "      requirejs.config({paths});\n",
       "      require([\"vega-embed\"], displayChart, err => showError(`Error loading script: ${err.message}`));\n",
       "    } else if (typeof vegaEmbed === \"function\") {\n",
       "      displayChart(vegaEmbed);\n",
       "    } else {\n",
       "      loadScript(\"vega\")\n",
       "        .then(() => loadScript(\"vega-lite\"))\n",
       "        .then(() => loadScript(\"vega-embed\"))\n",
       "        .catch(showError)\n",
       "        .then(() => displayChart(vegaEmbed));\n",
       "    }\n",
       "  })({\"config\": {\"view\": {\"continuousWidth\": 400, \"continuousHeight\": 300}}, \"hconcat\": [{\"layer\": [{\"mark\": {\"type\": \"line\", \"point\": true}, \"encoding\": {\"color\": {\"type\": \"nominal\", \"field\": \"Grupo de edad\", \"legend\": null, \"scale\": {\"scheme\": \"tableau10\"}}, \"x\": {\"type\": \"nominal\", \"field\": \"fecha (a\\u00f1o-mes-d\\u00eda)\"}, \"y\": {\"type\": \"quantitative\", \"axis\": {\"format\": \"%\"}, \"field\": \"letalidad\", \"sort\": [\"<=39\", \"40-49\", \"50-59\", \"60-69\", \"70-79\", \">=80\"]}}}, {\"mark\": {\"type\": \"rule\", \"color\": \"#aaa\"}, \"encoding\": {\"x\": {\"type\": \"nominal\", \"axis\": {\"title\": \"fecha (a\\u00f1o-mes-d\\u00eda)\"}, \"field\": \"fecha (a\\u00f1o-mes-d\\u00eda)\", \"sort\": null}}, \"transform\": [{\"filter\": {\"selection\": \"selector008\"}}]}, {\"mark\": \"circle\", \"encoding\": {\"color\": {\"type\": \"nominal\", \"field\": \"Grupo de edad\", \"legend\": null, \"scale\": {\"scheme\": \"tableau10\"}}, \"opacity\": {\"condition\": {\"value\": 1, \"selection\": \"selector008\"}, \"value\": 0}, \"x\": {\"type\": \"nominal\", \"field\": \"fecha (a\\u00f1o-mes-d\\u00eda)\"}, \"y\": {\"type\": \"quantitative\", \"axis\": {\"format\": \"%\"}, \"field\": \"letalidad\", \"sort\": [\"<=39\", \"40-49\", \"50-59\", \"60-69\", \"70-79\", \">=80\"]}}, \"selection\": {\"selector008\": {\"type\": \"single\", \"encodings\": [\"x\"], \"on\": \"mouseover\", \"nearest\": true, \"empty\": \"none\"}}}, {\"mark\": {\"type\": \"text\", \"align\": \"left\", \"dx\": 5, \"dy\": -5, \"stroke\": \"white\", \"strokeWidth\": 2}, \"encoding\": {\"color\": {\"type\": \"nominal\", \"field\": \"Grupo de edad\", \"legend\": null, \"scale\": {\"scheme\": \"tableau10\"}}, \"text\": {\"type\": \"quantitative\", \"field\": \"letalidad\"}, \"x\": {\"type\": \"nominal\", \"field\": \"fecha (a\\u00f1o-mes-d\\u00eda)\"}, \"y\": {\"type\": \"quantitative\", \"axis\": {\"format\": \"%\"}, \"field\": \"letalidad\", \"sort\": [\"<=39\", \"40-49\", \"50-59\", \"60-69\", \"70-79\", \">=80\"]}}, \"transform\": [{\"filter\": {\"selection\": \"selector008\"}}]}, {\"mark\": {\"type\": \"text\", \"align\": \"left\", \"dx\": 5, \"dy\": -5}, \"encoding\": {\"color\": {\"type\": \"nominal\", \"field\": \"Grupo de edad\", \"legend\": null, \"scale\": {\"scheme\": \"tableau10\"}}, \"text\": {\"type\": \"quantitative\", \"field\": \"letalidad\"}, \"x\": {\"type\": \"nominal\", \"field\": \"fecha (a\\u00f1o-mes-d\\u00eda)\"}, \"y\": {\"type\": \"quantitative\", \"axis\": {\"format\": \"%\"}, \"field\": \"letalidad\", \"sort\": [\"<=39\", \"40-49\", \"50-59\", \"60-69\", \"70-79\", \">=80\"]}}, \"transform\": [{\"filter\": {\"selection\": \"selector008\"}}]}], \"title\": \"COVID-19 en Chile: Evoluci\\u00f3n de la letalidad por rango de edad\", \"width\": 600}, {\"mark\": \"point\", \"encoding\": {\"color\": {\"type\": \"nominal\", \"field\": \"Grupo de edad\", \"legend\": null, \"scale\": {\"scheme\": \"tableau10\"}}, \"y\": {\"type\": \"nominal\", \"axis\": {\"orient\": \"right\"}, \"field\": \"Grupo de edad\", \"sort\": [\">=80\", \"70-79\", \"60-69\", \"50-59\", \"40-49\", \"<=39\"]}}}], \"data\": {\"name\": \"data-b6e7e8cecf1565a909dbe9462e19671f\"}, \"$schema\": \"https://vega.github.io/schema/vega-lite/v4.8.1.json\", \"datasets\": {\"data-b6e7e8cecf1565a909dbe9462e19671f\": [{\"fecha (a\\u00f1o-mes-d\\u00eda)\": \"2020-04-09\", \"Grupo de edad\": \"<=39\", \"letalidad\": 0.0007049700387733521}, {\"fecha (a\\u00f1o-mes-d\\u00eda)\": \"2020-04-10\", \"Grupo de edad\": \"<=39\", \"letalidad\": 0.0006485084306095979}, {\"fecha (a\\u00f1o-mes-d\\u00eda)\": \"2020-04-11\", \"Grupo de edad\": \"<=39\", \"letalidad\": 0.0009085402786190188}, {\"fecha (a\\u00f1o-mes-d\\u00eda)\": \"2020-04-12\", \"Grupo de edad\": \"<=39\", \"letalidad\": 0.0008685581933989577}, {\"fecha (a\\u00f1o-mes-d\\u00eda)\": \"2020-04-13\", \"Grupo de edad\": \"<=39\", \"letalidad\": 0.0008228195282501371}, {\"fecha (a\\u00f1o-mes-d\\u00eda)\": \"2020-04-14\", \"Grupo de edad\": \"<=39\", \"letalidad\": 0.0007882291119285339}, {\"fecha (a\\u00f1o-mes-d\\u00eda)\": \"2020-04-15\", \"Grupo de edad\": \"<=39\", \"letalidad\": 0.0007403751233958539}, {\"fecha (a\\u00f1o-mes-d\\u00eda)\": \"2020-04-16\", \"Grupo de edad\": \"<=39\", \"letalidad\": 0.0006967022758941013}, {\"fecha (a\\u00f1o-mes-d\\u00eda)\": \"2020-04-17\", \"Grupo de edad\": \"<=39\", \"letalidad\": 0.0008781558726673985}, {\"fecha (a\\u00f1o-mes-d\\u00eda)\": \"2020-04-18\", \"Grupo de edad\": \"<=39\", \"letalidad\": 0.0008314279775514446}, {\"fecha (a\\u00f1o-mes-d\\u00eda)\": \"2020-04-19\", \"Grupo de edad\": \"<=39\", \"letalidad\": 0.0008001600320064013}, {\"fecha (a\\u00f1o-mes-d\\u00eda)\": \"2020-04-20\", \"Grupo de edad\": \"<=39\", \"letalidad\": 0.0007692307692307692}, {\"fecha (a\\u00f1o-mes-d\\u00eda)\": \"2020-04-21\", \"Grupo de edad\": \"<=39\", \"letalidad\": 0.0009201324990798675}, {\"fecha (a\\u00f1o-mes-d\\u00eda)\": \"2020-04-22\", \"Grupo de edad\": \"<=39\", \"letalidad\": 0.0008799718409010912}, {\"fecha (a\\u00f1o-mes-d\\u00eda)\": \"2020-04-23\", \"Grupo de edad\": \"<=39\", \"letalidad\": 0.0008401949252226517}, {\"fecha (a\\u00f1o-mes-d\\u00eda)\": \"2020-04-24\", \"Grupo de edad\": \"<=39\", \"letalidad\": 0.0008093234056328909}, {\"fecha (a\\u00f1o-mes-d\\u00eda)\": \"2020-04-25\", \"Grupo de edad\": \"<=39\", \"letalidad\": 0.0009237875288683603}, {\"fecha (a\\u00f1o-mes-d\\u00eda)\": \"2020-04-26\", \"Grupo de edad\": \"<=39\", \"letalidad\": 0.0008860011813349084}, {\"fecha (a\\u00f1o-mes-d\\u00eda)\": \"2020-04-27\", \"Grupo de edad\": \"<=39\", \"letalidad\": 0.0008564087924636027}, {\"fecha (a\\u00f1o-mes-d\\u00eda)\": \"2020-04-28\", \"Grupo de edad\": \"<=39\", \"letalidad\": 0.0008154389779831476}, {\"fecha (a\\u00f1o-mes-d\\u00eda)\": \"2020-05-01\", \"Grupo de edad\": \"<=39\", \"letalidad\": 0.0006786562606040041}, {\"fecha (a\\u00f1o-mes-d\\u00eda)\": \"2020-05-02\", \"Grupo de edad\": \"<=39\", \"letalidad\": 0.0006226650062266501}, {\"fecha (a\\u00f1o-mes-d\\u00eda)\": \"2020-05-04\", \"Grupo de edad\": \"<=39\", \"letalidad\": 0.000555812876331635}, {\"fecha (a\\u00f1o-mes-d\\u00eda)\": \"2020-05-06\", \"Grupo de edad\": \"<=39\", \"letalidad\": 0.0004924895345973898}, {\"fecha (a\\u00f1o-mes-d\\u00eda)\": \"2020-05-08\", \"Grupo de edad\": \"<=39\", \"letalidad\": 0.0005090909090909091}, {\"fecha (a\\u00f1o-mes-d\\u00eda)\": \"2020-05-11\", \"Grupo de edad\": \"<=39\", \"letalidad\": 0.00043621860783947156}, {\"fecha (a\\u00f1o-mes-d\\u00eda)\": \"2020-05-15\", \"Grupo de edad\": \"<=39\", \"letalidad\": 0.00046935135642542006}, {\"fecha (a\\u00f1o-mes-d\\u00eda)\": \"2020-05-18\", \"Grupo de edad\": \"<=39\", \"letalidad\": 0.0004027386226339106}, {\"fecha (a\\u00f1o-mes-d\\u00eda)\": \"2020-05-22\", \"Grupo de edad\": \"<=39\", \"letalidad\": 0.0003910009624639076}, {\"fecha (a\\u00f1o-mes-d\\u00eda)\": \"2020-05-25\", \"Grupo de edad\": \"<=39\", \"letalidad\": 0.0004041424602172266}, {\"fecha (a\\u00f1o-mes-d\\u00eda)\": \"2020-05-29\", \"Grupo de edad\": \"<=39\", \"letalidad\": 0.0003938150312979314}, {\"fecha (a\\u00f1o-mes-d\\u00eda)\": \"2020-06-01\", \"Grupo de edad\": \"<=39\", \"letalidad\": 0.0005217798089206354}, {\"fecha (a\\u00f1o-mes-d\\u00eda)\": \"2020-06-05\", \"Grupo de edad\": \"<=39\", \"letalidad\": 0.0005592928053194961}, {\"fecha (a\\u00f1o-mes-d\\u00eda)\": \"2020-06-08\", \"Grupo de edad\": \"<=39\", \"letalidad\": 0.0008282145075574574}, {\"fecha (a\\u00f1o-mes-d\\u00eda)\": \"2020-06-12\", \"Grupo de edad\": \"<=39\", \"letalidad\": 0.0008763821025967322}, {\"fecha (a\\u00f1o-mes-d\\u00eda)\": \"2020-06-15\", \"Grupo de edad\": \"<=39\", \"letalidad\": 0.0009116363873152308}, {\"fecha (a\\u00f1o-mes-d\\u00eda)\": \"2020-06-19\", \"Grupo de edad\": \"<=39\", \"letalidad\": 0.0007795604285067646}, {\"fecha (a\\u00f1o-mes-d\\u00eda)\": \"2020-06-23\", \"Grupo de edad\": \"<=39\", \"letalidad\": 0.0007450884982665288}, {\"fecha (a\\u00f1o-mes-d\\u00eda)\": \"2020-04-09\", \"Grupo de edad\": \"40-49\", \"letalidad\": 0.0008673026886383347}, {\"fecha (a\\u00f1o-mes-d\\u00eda)\": \"2020-04-10\", \"Grupo de edad\": \"40-49\", \"letalidad\": 0.0016299918500407497}, {\"fecha (a\\u00f1o-mes-d\\u00eda)\": \"2020-04-11\", \"Grupo de edad\": \"40-49\", \"letalidad\": 0.0015420200462606013}, {\"fecha (a\\u00f1o-mes-d\\u00eda)\": \"2020-04-12\", \"Grupo de edad\": \"40-49\", \"letalidad\": 0.0014695077149155032}, {\"fecha (a\\u00f1o-mes-d\\u00eda)\": \"2020-04-13\", \"Grupo de edad\": \"40-49\", \"letalidad\": 0.0013783597518952446}, {\"fecha (a\\u00f1o-mes-d\\u00eda)\": \"2020-04-14\", \"Grupo de edad\": \"40-49\", \"letalidad\": 0.0013440860215053765}, {\"fecha (a\\u00f1o-mes-d\\u00eda)\": \"2020-04-15\", \"Grupo de edad\": \"40-49\", \"letalidad\": 0.0012642225031605564}, {\"fecha (a\\u00f1o-mes-d\\u00eda)\": \"2020-04-16\", \"Grupo de edad\": \"40-49\", \"letalidad\": 0.0011876484560570072}, {\"fecha (a\\u00f1o-mes-d\\u00eda)\": \"2020-04-17\", \"Grupo de edad\": \"40-49\", \"letalidad\": 0.0011229646266142617}, {\"fecha (a\\u00f1o-mes-d\\u00eda)\": \"2020-04-18\", \"Grupo de edad\": \"40-49\", \"letalidad\": 0.001078167115902965}, {\"fecha (a\\u00f1o-mes-d\\u00eda)\": \"2020-04-19\", \"Grupo de edad\": \"40-49\", \"letalidad\": 0.0010384215991692627}, {\"fecha (a\\u00f1o-mes-d\\u00eda)\": \"2020-04-20\", \"Grupo de edad\": \"40-49\", \"letalidad\": 0.001010611419909045}, {\"fecha (a\\u00f1o-mes-d\\u00eda)\": \"2020-04-21\", \"Grupo de edad\": \"40-49\", \"letalidad\": 0.0009857072449482504}, {\"fecha (a\\u00f1o-mes-d\\u00eda)\": \"2020-04-22\", \"Grupo de edad\": \"40-49\", \"letalidad\": 0.0009514747859181732}, {\"fecha (a\\u00f1o-mes-d\\u00eda)\": \"2020-04-23\", \"Grupo de edad\": \"40-49\", \"letalidad\": 0.0013673655423883319}, {\"fecha (a\\u00f1o-mes-d\\u00eda)\": \"2020-04-24\", \"Grupo de edad\": \"40-49\", \"letalidad\": 0.0017691287041132243}, {\"fecha (a\\u00f1o-mes-d\\u00eda)\": \"2020-04-25\", \"Grupo de edad\": \"40-49\", \"letalidad\": 0.002545608824777259}, {\"fecha (a\\u00f1o-mes-d\\u00eda)\": \"2020-04-26\", \"Grupo de edad\": \"40-49\", \"letalidad\": 0.0028913672036348617}, {\"fecha (a\\u00f1o-mes-d\\u00eda)\": \"2020-04-27\", \"Grupo de edad\": \"40-49\", \"letalidad\": 0.0028089887640449437}, {\"fecha (a\\u00f1o-mes-d\\u00eda)\": \"2020-04-28\", \"Grupo de edad\": \"40-49\", \"letalidad\": 0.0030804774740084712}, {\"fecha (a\\u00f1o-mes-d\\u00eda)\": \"2020-05-01\", \"Grupo de edad\": \"40-49\", \"letalidad\": 0.0032916392363396972}, {\"fecha (a\\u00f1o-mes-d\\u00eda)\": \"2020-05-02\", \"Grupo de edad\": \"40-49\", \"letalidad\": 0.003346516580468512}, {\"fecha (a\\u00f1o-mes-d\\u00eda)\": \"2020-05-04\", \"Grupo de edad\": \"40-49\", \"letalidad\": 0.003310344827586207}, {\"fecha (a\\u00f1o-mes-d\\u00eda)\": \"2020-05-06\", \"Grupo de edad\": \"40-49\", \"letalidad\": 0.003226607098535617}, {\"fecha (a\\u00f1o-mes-d\\u00eda)\": \"2020-05-08\", \"Grupo de edad\": \"40-49\", \"letalidad\": 0.0030728709394205445}, {\"fecha (a\\u00f1o-mes-d\\u00eda)\": \"2020-05-11\", \"Grupo de edad\": \"40-49\", \"letalidad\": 0.003065721402567542}, {\"fecha (a\\u00f1o-mes-d\\u00eda)\": \"2020-05-15\", \"Grupo de edad\": \"40-49\", \"letalidad\": 0.0032253335288080927}, {\"fecha (a\\u00f1o-mes-d\\u00eda)\": \"2020-05-18\", \"Grupo de edad\": \"40-49\", \"letalidad\": 0.00352068401860933}, {\"fecha (a\\u00f1o-mes-d\\u00eda)\": \"2020-05-22\", \"Grupo de edad\": \"40-49\", \"letalidad\": 0.0030916245081506464}, {\"fecha (a\\u00f1o-mes-d\\u00eda)\": \"2020-05-25\", \"Grupo de edad\": \"40-49\", \"letalidad\": 0.003168959653733189}, {\"fecha (a\\u00f1o-mes-d\\u00eda)\": \"2020-05-29\", \"Grupo de edad\": \"40-49\", \"letalidad\": 0.002936482604532397}, {\"fecha (a\\u00f1o-mes-d\\u00eda)\": \"2020-06-01\", \"Grupo de edad\": \"40-49\", \"letalidad\": 0.0028099173553719006}, {\"fecha (a\\u00f1o-mes-d\\u00eda)\": \"2020-06-05\", \"Grupo de edad\": \"40-49\", \"letalidad\": 0.0029256323140807853}, {\"fecha (a\\u00f1o-mes-d\\u00eda)\": \"2020-06-08\", \"Grupo de edad\": \"40-49\", \"letalidad\": 0.003237186138202947}, {\"fecha (a\\u00f1o-mes-d\\u00eda)\": \"2020-06-12\", \"Grupo de edad\": \"40-49\", \"letalidad\": 0.0036013973421687613}, {\"fecha (a\\u00f1o-mes-d\\u00eda)\": \"2020-06-15\", \"Grupo de edad\": \"40-49\", \"letalidad\": 0.0035797213622291023}, {\"fecha (a\\u00f1o-mes-d\\u00eda)\": \"2020-06-19\", \"Grupo de edad\": \"40-49\", \"letalidad\": 0.0035292931330039327}, {\"fecha (a\\u00f1o-mes-d\\u00eda)\": \"2020-06-23\", \"Grupo de edad\": \"40-49\", \"letalidad\": 0.0034317089910775567}, {\"fecha (a\\u00f1o-mes-d\\u00eda)\": \"2020-04-09\", \"Grupo de edad\": \"50-59\", \"letalidad\": 0.0011074197120708748}, {\"fecha (a\\u00f1o-mes-d\\u00eda)\": \"2020-04-10\", \"Grupo de edad\": \"50-59\", \"letalidad\": 0.0020512820512820513}, {\"fecha (a\\u00f1o-mes-d\\u00eda)\": \"2020-04-11\", \"Grupo de edad\": \"50-59\", \"letalidad\": 0.0019569471624266144}, {\"fecha (a\\u00f1o-mes-d\\u00eda)\": \"2020-04-12\", \"Grupo de edad\": \"50-59\", \"letalidad\": 0.0028089887640449437}, {\"fecha (a\\u00f1o-mes-d\\u00eda)\": \"2020-04-13\", \"Grupo de edad\": \"50-59\", \"letalidad\": 0.0026455026455026454}, {\"fecha (a\\u00f1o-mes-d\\u00eda)\": \"2020-04-14\", \"Grupo de edad\": \"50-59\", \"letalidad\": 0.004262574595055414}, {\"fecha (a\\u00f1o-mes-d\\u00eda)\": \"2020-04-15\", \"Grupo de edad\": \"50-59\", \"letalidad\": 0.003996802557953637}, {\"fecha (a\\u00f1o-mes-d\\u00eda)\": \"2020-04-16\", \"Grupo de edad\": \"50-59\", \"letalidad\": 0.0044742729306487695}, {\"fecha (a\\u00f1o-mes-d\\u00eda)\": \"2020-04-17\", \"Grupo de edad\": \"50-59\", \"letalidad\": 0.005681818181818182}, {\"fecha (a\\u00f1o-mes-d\\u00eda)\": \"2020-04-18\", \"Grupo de edad\": \"50-59\", \"letalidad\": 0.005416384563303994}, {\"fecha (a\\u00f1o-mes-d\\u00eda)\": \"2020-04-19\", \"Grupo de edad\": \"50-59\", \"letalidad\": 0.005913272010512484}, {\"fecha (a\\u00f1o-mes-d\\u00eda)\": \"2020-04-20\", \"Grupo de edad\": \"50-59\", \"letalidad\": 0.006997455470737914}, {\"fecha (a\\u00f1o-mes-d\\u00eda)\": \"2020-04-21\", \"Grupo de edad\": \"50-59\", \"letalidad\": 0.008024691358024692}, {\"fecha (a\\u00f1o-mes-d\\u00eda)\": \"2020-04-22\", \"Grupo de edad\": \"50-59\", \"letalidad\": 0.008269344359125812}, {\"fecha (a\\u00f1o-mes-d\\u00eda)\": \"2020-04-23\", \"Grupo de edad\": \"50-59\", \"letalidad\": 0.00791407574901074}, {\"fecha (a\\u00f1o-mes-d\\u00eda)\": \"2020-04-24\", \"Grupo de edad\": \"50-59\", \"letalidad\": 0.007654455986878075}, {\"fecha (a\\u00f1o-mes-d\\u00eda)\": \"2020-04-25\", \"Grupo de edad\": \"50-59\", \"letalidad\": 0.007841087297438577}, {\"fecha (a\\u00f1o-mes-d\\u00eda)\": \"2020-04-26\", \"Grupo de edad\": \"50-59\", \"letalidad\": 0.007533902561526871}, {\"fecha (a\\u00f1o-mes-d\\u00eda)\": \"2020-04-27\", \"Grupo de edad\": \"50-59\", \"letalidad\": 0.007858546168958742}, {\"fecha (a\\u00f1o-mes-d\\u00eda)\": \"2020-04-28\", \"Grupo de edad\": \"50-59\", \"letalidad\": 0.007554296506137866}, {\"fecha (a\\u00f1o-mes-d\\u00eda)\": \"2020-05-01\", \"Grupo de edad\": \"50-59\", \"letalidad\": 0.007179896290386917}, {\"fecha (a\\u00f1o-mes-d\\u00eda)\": \"2020-05-02\", \"Grupo de edad\": \"50-59\", \"letalidad\": 0.006644518272425249}, {\"fecha (a\\u00f1o-mes-d\\u00eda)\": \"2020-05-04\", \"Grupo de edad\": \"50-59\", \"letalidad\": 0.006615944426066821}, {\"fecha (a\\u00f1o-mes-d\\u00eda)\": \"2020-05-06\", \"Grupo de edad\": \"50-59\", \"letalidad\": 0.005950609937518596}, {\"fecha (a\\u00f1o-mes-d\\u00eda)\": \"2020-05-08\", \"Grupo de edad\": \"50-59\", \"letalidad\": 0.005573248407643312}, {\"fecha (a\\u00f1o-mes-d\\u00eda)\": \"2020-05-11\", \"Grupo de edad\": \"50-59\", \"letalidad\": 0.005331478905887807}, {\"fecha (a\\u00f1o-mes-d\\u00eda)\": \"2020-05-15\", \"Grupo de edad\": \"50-59\", \"letalidad\": 0.005463517800493479}, {\"fecha (a\\u00f1o-mes-d\\u00eda)\": \"2020-05-18\", \"Grupo de edad\": \"50-59\", \"letalidad\": 0.006038647342995169}, {\"fecha (a\\u00f1o-mes-d\\u00eda)\": \"2020-05-22\", \"Grupo de edad\": \"50-59\", \"letalidad\": 0.006389072482925755}, {\"fecha (a\\u00f1o-mes-d\\u00eda)\": \"2020-05-25\", \"Grupo de edad\": \"50-59\", \"letalidad\": 0.006311745334796927}, {\"fecha (a\\u00f1o-mes-d\\u00eda)\": \"2020-05-29\", \"Grupo de edad\": \"50-59\", \"letalidad\": 0.0069500924214417744}, {\"fecha (a\\u00f1o-mes-d\\u00eda)\": \"2020-06-01\", \"Grupo de edad\": \"50-59\", \"letalidad\": 0.007207435038249984}, {\"fecha (a\\u00f1o-mes-d\\u00eda)\": \"2020-06-05\", \"Grupo de edad\": \"50-59\", \"letalidad\": 0.00819186203179736}, {\"fecha (a\\u00f1o-mes-d\\u00eda)\": \"2020-06-08\", \"Grupo de edad\": \"50-59\", \"letalidad\": 0.010318021201413428}, {\"fecha (a\\u00f1o-mes-d\\u00eda)\": \"2020-06-12\", \"Grupo de edad\": \"50-59\", \"letalidad\": 0.010785264178380998}, {\"fecha (a\\u00f1o-mes-d\\u00eda)\": \"2020-06-15\", \"Grupo de edad\": \"50-59\", \"letalidad\": 0.011586865841919498}, {\"fecha (a\\u00f1o-mes-d\\u00eda)\": \"2020-06-19\", \"Grupo de edad\": \"50-59\", \"letalidad\": 0.010933348095659877}, {\"fecha (a\\u00f1o-mes-d\\u00eda)\": \"2020-06-23\", \"Grupo de edad\": \"50-59\", \"letalidad\": 0.01086629944917376}, {\"fecha (a\\u00f1o-mes-d\\u00eda)\": \"2020-04-09\", \"Grupo de edad\": \"60-69\", \"letalidad\": 0.017928286852589643}, {\"fecha (a\\u00f1o-mes-d\\u00eda)\": \"2020-04-10\", \"Grupo de edad\": \"60-69\", \"letalidad\": 0.01838235294117647}, {\"fecha (a\\u00f1o-mes-d\\u00eda)\": \"2020-04-11\", \"Grupo de edad\": \"60-69\", \"letalidad\": 0.02054794520547945}, {\"fecha (a\\u00f1o-mes-d\\u00eda)\": \"2020-04-12\", \"Grupo de edad\": \"60-69\", \"letalidad\": 0.019639934533551555}, {\"fecha (a\\u00f1o-mes-d\\u00eda)\": \"2020-04-13\", \"Grupo de edad\": \"60-69\", \"letalidad\": 0.01866251944012442}, {\"fecha (a\\u00f1o-mes-d\\u00eda)\": \"2020-04-14\", \"Grupo de edad\": \"60-69\", \"letalidad\": 0.01749271137026239}, {\"fecha (a\\u00f1o-mes-d\\u00eda)\": \"2020-04-15\", \"Grupo de edad\": \"60-69\", \"letalidad\": 0.01652892561983471}, {\"fecha (a\\u00f1o-mes-d\\u00eda)\": \"2020-04-16\", \"Grupo de edad\": \"60-69\", \"letalidad\": 0.018276762402088774}, {\"fecha (a\\u00f1o-mes-d\\u00eda)\": \"2020-04-17\", \"Grupo de edad\": \"60-69\", \"letalidad\": 0.019536019536019536}, {\"fecha (a\\u00f1o-mes-d\\u00eda)\": \"2020-04-18\", \"Grupo de edad\": \"60-69\", \"letalidad\": 0.01990632318501171}, {\"fecha (a\\u00f1o-mes-d\\u00eda)\": \"2020-04-19\", \"Grupo de edad\": \"60-69\", \"letalidad\": 0.020618556701030927}, {\"fecha (a\\u00f1o-mes-d\\u00eda)\": \"2020-04-20\", \"Grupo de edad\": \"60-69\", \"letalidad\": 0.021087680355160933}, {\"fecha (a\\u00f1o-mes-d\\u00eda)\": \"2020-04-21\", \"Grupo de edad\": \"60-69\", \"letalidad\": 0.021436227224008574}, {\"fecha (a\\u00f1o-mes-d\\u00eda)\": \"2020-04-22\", \"Grupo de edad\": \"60-69\", \"letalidad\": 0.026776519052523172}, {\"fecha (a\\u00f1o-mes-d\\u00eda)\": \"2020-04-23\", \"Grupo de edad\": \"60-69\", \"letalidad\": 0.02753195673549656}, {\"fecha (a\\u00f1o-mes-d\\u00eda)\": \"2020-04-24\", \"Grupo de edad\": \"60-69\", \"letalidad\": 0.02862595419847328}, {\"fecha (a\\u00f1o-mes-d\\u00eda)\": \"2020-04-25\", \"Grupo de edad\": \"60-69\", \"letalidad\": 0.028624192059095107}, {\"fecha (a\\u00f1o-mes-d\\u00eda)\": \"2020-04-26\", \"Grupo de edad\": \"60-69\", \"letalidad\": 0.029596412556053813}, {\"fecha (a\\u00f1o-mes-d\\u00eda)\": \"2020-04-27\", \"Grupo de edad\": \"60-69\", \"letalidad\": 0.03027681660899654}, {\"fecha (a\\u00f1o-mes-d\\u00eda)\": \"2020-04-28\", \"Grupo de edad\": \"60-69\", \"letalidad\": 0.02902155887230514}, {\"fecha (a\\u00f1o-mes-d\\u00eda)\": \"2020-05-01\", \"Grupo de edad\": \"60-69\", \"letalidad\": 0.029560201874549386}, {\"fecha (a\\u00f1o-mes-d\\u00eda)\": \"2020-05-02\", \"Grupo de edad\": \"60-69\", \"letalidad\": 0.028609447771124417}, {\"fecha (a\\u00f1o-mes-d\\u00eda)\": \"2020-05-04\", \"Grupo de edad\": \"60-69\", \"letalidad\": 0.02738095238095238}, {\"fecha (a\\u00f1o-mes-d\\u00eda)\": \"2020-05-06\", \"Grupo de edad\": \"60-69\", \"letalidad\": 0.02521459227467811}, {\"fecha (a\\u00f1o-mes-d\\u00eda)\": \"2020-05-08\", \"Grupo de edad\": \"60-69\", \"letalidad\": 0.022918615528531337}, {\"fecha (a\\u00f1o-mes-d\\u00eda)\": \"2020-05-11\", \"Grupo de edad\": \"60-69\", \"letalidad\": 0.022672064777327937}, {\"fecha (a\\u00f1o-mes-d\\u00eda)\": \"2020-05-15\", \"Grupo de edad\": \"60-69\", \"letalidad\": 0.02037617554858934}, {\"fecha (a\\u00f1o-mes-d\\u00eda)\": \"2020-05-18\", \"Grupo de edad\": \"60-69\", \"letalidad\": 0.021878335112059766}, {\"fecha (a\\u00f1o-mes-d\\u00eda)\": \"2020-05-22\", \"Grupo de edad\": \"60-69\", \"letalidad\": 0.020944477376012644}, {\"fecha (a\\u00f1o-mes-d\\u00eda)\": \"2020-05-25\", \"Grupo de edad\": \"60-69\", \"letalidad\": 0.0212589270885235}, {\"fecha (a\\u00f1o-mes-d\\u00eda)\": \"2020-05-29\", \"Grupo de edad\": \"60-69\", \"letalidad\": 0.023020625415834998}, {\"fecha (a\\u00f1o-mes-d\\u00eda)\": \"2020-06-01\", \"Grupo de edad\": \"60-69\", \"letalidad\": 0.022634676324128564}, {\"fecha (a\\u00f1o-mes-d\\u00eda)\": \"2020-06-05\", \"Grupo de edad\": \"60-69\", \"letalidad\": 0.02611293120061669}, {\"fecha (a\\u00f1o-mes-d\\u00eda)\": \"2020-06-08\", \"Grupo de edad\": \"60-69\", \"letalidad\": 0.035437710437710435}, {\"fecha (a\\u00f1o-mes-d\\u00eda)\": \"2020-06-12\", \"Grupo de edad\": \"60-69\", \"letalidad\": 0.039754478623938334}, {\"fecha (a\\u00f1o-mes-d\\u00eda)\": \"2020-06-15\", \"Grupo de edad\": \"60-69\", \"letalidad\": 0.042395437262357415}, {\"fecha (a\\u00f1o-mes-d\\u00eda)\": \"2020-06-19\", \"Grupo de edad\": \"60-69\", \"letalidad\": 0.04182716049382716}, {\"fecha (a\\u00f1o-mes-d\\u00eda)\": \"2020-06-23\", \"Grupo de edad\": \"60-69\", \"letalidad\": 0.04194683172284811}, {\"fecha (a\\u00f1o-mes-d\\u00eda)\": \"2020-04-09\", \"Grupo de edad\": \"70-79\", \"letalidad\": 0.07394366197183098}, {\"fecha (a\\u00f1o-mes-d\\u00eda)\": \"2020-04-10\", \"Grupo de edad\": \"70-79\", \"letalidad\": 0.07119741100323625}, {\"fecha (a\\u00f1o-mes-d\\u00eda)\": \"2020-04-11\", \"Grupo de edad\": \"70-79\", \"letalidad\": 0.07317073170731707}, {\"fecha (a\\u00f1o-mes-d\\u00eda)\": \"2020-04-12\", \"Grupo de edad\": \"70-79\", \"letalidad\": 0.08163265306122448}, {\"fecha (a\\u00f1o-mes-d\\u00eda)\": \"2020-04-13\", \"Grupo de edad\": \"70-79\", \"letalidad\": 0.08262108262108261}, {\"fecha (a\\u00f1o-mes-d\\u00eda)\": \"2020-04-14\", \"Grupo de edad\": \"70-79\", \"letalidad\": 0.08196721311475409}, {\"fecha (a\\u00f1o-mes-d\\u00eda)\": \"2020-04-15\", \"Grupo de edad\": \"70-79\", \"letalidad\": 0.07828282828282829}, {\"fecha (a\\u00f1o-mes-d\\u00eda)\": \"2020-04-16\", \"Grupo de edad\": \"70-79\", \"letalidad\": 0.07582938388625593}, {\"fecha (a\\u00f1o-mes-d\\u00eda)\": \"2020-04-17\", \"Grupo de edad\": \"70-79\", \"letalidad\": 0.07982261640798226}, {\"fecha (a\\u00f1o-mes-d\\u00eda)\": \"2020-04-18\", \"Grupo de edad\": \"70-79\", \"letalidad\": 0.08125}, {\"fecha (a\\u00f1o-mes-d\\u00eda)\": \"2020-04-19\", \"Grupo de edad\": \"70-79\", \"letalidad\": 0.08249496981891348}, {\"fecha (a\\u00f1o-mes-d\\u00eda)\": \"2020-04-20\", \"Grupo de edad\": \"70-79\", \"letalidad\": 0.08155339805825243}, {\"fecha (a\\u00f1o-mes-d\\u00eda)\": \"2020-04-21\", \"Grupo de edad\": \"70-79\", \"letalidad\": 0.08143939393939394}, {\"fecha (a\\u00f1o-mes-d\\u00eda)\": \"2020-04-22\", \"Grupo de edad\": \"70-79\", \"letalidad\": 0.08639705882352941}, {\"fecha (a\\u00f1o-mes-d\\u00eda)\": \"2020-04-23\", \"Grupo de edad\": \"70-79\", \"letalidad\": 0.0855614973262032}, {\"fecha (a\\u00f1o-mes-d\\u00eda)\": \"2020-04-24\", \"Grupo de edad\": \"70-79\", \"letalidad\": 0.08566433566433566}, {\"fecha (a\\u00f1o-mes-d\\u00eda)\": \"2020-04-25\", \"Grupo de edad\": \"70-79\", \"letalidad\": 0.08445945945945946}, {\"fecha (a\\u00f1o-mes-d\\u00eda)\": \"2020-04-26\", \"Grupo de edad\": \"70-79\", \"letalidad\": 0.08441558441558442}, {\"fecha (a\\u00f1o-mes-d\\u00eda)\": \"2020-04-27\", \"Grupo de edad\": \"70-79\", \"letalidad\": 0.09090909090909091}, {\"fecha (a\\u00f1o-mes-d\\u00eda)\": \"2020-04-28\", \"Grupo de edad\": \"70-79\", \"letalidad\": 0.09036144578313253}, {\"fecha (a\\u00f1o-mes-d\\u00eda)\": \"2020-05-01\", \"Grupo de edad\": \"70-79\", \"letalidad\": 0.09115281501340483}, {\"fecha (a\\u00f1o-mes-d\\u00eda)\": \"2020-05-02\", \"Grupo de edad\": \"70-79\", \"letalidad\": 0.09148665819567979}, {\"fecha (a\\u00f1o-mes-d\\u00eda)\": \"2020-05-04\", \"Grupo de edad\": \"70-79\", \"letalidad\": 0.08665906499429875}, {\"fecha (a\\u00f1o-mes-d\\u00eda)\": \"2020-05-06\", \"Grupo de edad\": \"70-79\", \"letalidad\": 0.07983193277310924}, {\"fecha (a\\u00f1o-mes-d\\u00eda)\": \"2020-05-08\", \"Grupo de edad\": \"70-79\", \"letalidad\": 0.07604562737642585}, {\"fecha (a\\u00f1o-mes-d\\u00eda)\": \"2020-05-11\", \"Grupo de edad\": \"70-79\", \"letalidad\": 0.07367549668874172}, {\"fecha (a\\u00f1o-mes-d\\u00eda)\": \"2020-05-15\", \"Grupo de edad\": \"70-79\", \"letalidad\": 0.07138221933809215}, {\"fecha (a\\u00f1o-mes-d\\u00eda)\": \"2020-05-18\", \"Grupo de edad\": \"70-79\", \"letalidad\": 0.07450980392156863}, {\"fecha (a\\u00f1o-mes-d\\u00eda)\": \"2020-05-22\", \"Grupo de edad\": \"70-79\", \"letalidad\": 0.07715008431703205}, {\"fecha (a\\u00f1o-mes-d\\u00eda)\": \"2020-05-25\", \"Grupo de edad\": \"70-79\", \"letalidad\": 0.07973068745570518}, {\"fecha (a\\u00f1o-mes-d\\u00eda)\": \"2020-05-29\", \"Grupo de edad\": \"70-79\", \"letalidad\": 0.0786358511837655}, {\"fecha (a\\u00f1o-mes-d\\u00eda)\": \"2020-06-01\", \"Grupo de edad\": \"70-79\", \"letalidad\": 0.07672393504353965}, {\"fecha (a\\u00f1o-mes-d\\u00eda)\": \"2020-06-05\", \"Grupo de edad\": \"70-79\", \"letalidad\": 0.0858334989072124}, {\"fecha (a\\u00f1o-mes-d\\u00eda)\": \"2020-06-08\", \"Grupo de edad\": \"70-79\", \"letalidad\": 0.11817709235834344}, {\"fecha (a\\u00f1o-mes-d\\u00eda)\": \"2020-06-12\", \"Grupo de edad\": \"70-79\", \"letalidad\": 0.1277281382744983}, {\"fecha (a\\u00f1o-mes-d\\u00eda)\": \"2020-06-15\", \"Grupo de edad\": \"70-79\", \"letalidad\": 0.13118779888845805}, {\"fecha (a\\u00f1o-mes-d\\u00eda)\": \"2020-06-19\", \"Grupo de edad\": \"70-79\", \"letalidad\": 0.12337203432609793}, {\"fecha (a\\u00f1o-mes-d\\u00eda)\": \"2020-06-23\", \"Grupo de edad\": \"70-79\", \"letalidad\": 0.123054385643655}, {\"fecha (a\\u00f1o-mes-d\\u00eda)\": \"2020-04-09\", \"Grupo de edad\": \">=80\", \"letalidad\": 0.17557251908396945}, {\"fecha (a\\u00f1o-mes-d\\u00eda)\": \"2020-04-10\", \"Grupo de edad\": \">=80\", \"letalidad\": 0.17647058823529413}, {\"fecha (a\\u00f1o-mes-d\\u00eda)\": \"2020-04-11\", \"Grupo de edad\": \">=80\", \"letalidad\": 0.17751479289940827}, {\"fecha (a\\u00f1o-mes-d\\u00eda)\": \"2020-04-12\", \"Grupo de edad\": \">=80\", \"letalidad\": 0.1787709497206704}, {\"fecha (a\\u00f1o-mes-d\\u00eda)\": \"2020-04-13\", \"Grupo de edad\": \">=80\", \"letalidad\": 0.17647058823529413}, {\"fecha (a\\u00f1o-mes-d\\u00eda)\": \"2020-04-14\", \"Grupo de edad\": \">=80\", \"letalidad\": 0.20304568527918782}, {\"fecha (a\\u00f1o-mes-d\\u00eda)\": \"2020-04-15\", \"Grupo de edad\": \">=80\", \"letalidad\": 0.19617224880382775}, {\"fecha (a\\u00f1o-mes-d\\u00eda)\": \"2020-04-16\", \"Grupo de edad\": \">=80\", \"letalidad\": 0.2171945701357466}, {\"fecha (a\\u00f1o-mes-d\\u00eda)\": \"2020-04-17\", \"Grupo de edad\": \">=80\", \"letalidad\": 0.21008403361344538}, {\"fecha (a\\u00f1o-mes-d\\u00eda)\": \"2020-04-18\", \"Grupo de edad\": \">=80\", \"letalidad\": 0.22134387351778656}, {\"fecha (a\\u00f1o-mes-d\\u00eda)\": \"2020-04-19\", \"Grupo de edad\": \">=80\", \"letalidad\": 0.2177121771217712}, {\"fecha (a\\u00f1o-mes-d\\u00eda)\": \"2020-04-20\", \"Grupo de edad\": \">=80\", \"letalidad\": 0.2147887323943662}, {\"fecha (a\\u00f1o-mes-d\\u00eda)\": \"2020-04-21\", \"Grupo de edad\": \">=80\", \"letalidad\": 0.2222222222222222}, {\"fecha (a\\u00f1o-mes-d\\u00eda)\": \"2020-04-22\", \"Grupo de edad\": \">=80\", \"letalidad\": 0.21710526315789475}, {\"fecha (a\\u00f1o-mes-d\\u00eda)\": \"2020-04-23\", \"Grupo de edad\": \">=80\", \"letalidad\": 0.21875}, {\"fecha (a\\u00f1o-mes-d\\u00eda)\": \"2020-04-24\", \"Grupo de edad\": \">=80\", \"letalidad\": 0.22085889570552147}, {\"fecha (a\\u00f1o-mes-d\\u00eda)\": \"2020-04-25\", \"Grupo de edad\": \">=80\", \"letalidad\": 0.21159420289855072}, {\"fecha (a\\u00f1o-mes-d\\u00eda)\": \"2020-04-26\", \"Grupo de edad\": \">=80\", \"letalidad\": 0.20596205962059622}, {\"fecha (a\\u00f1o-mes-d\\u00eda)\": \"2020-04-27\", \"Grupo de edad\": \">=80\", \"letalidad\": 0.19896640826873385}, {\"fecha (a\\u00f1o-mes-d\\u00eda)\": \"2020-04-28\", \"Grupo de edad\": \">=80\", \"letalidad\": 0.1957040572792363}, {\"fecha (a\\u00f1o-mes-d\\u00eda)\": \"2020-05-01\", \"Grupo de edad\": \">=80\", \"letalidad\": 0.18609406952965235}, {\"fecha (a\\u00f1o-mes-d\\u00eda)\": \"2020-05-02\", \"Grupo de edad\": \">=80\", \"letalidad\": 0.1917808219178082}, {\"fecha (a\\u00f1o-mes-d\\u00eda)\": \"2020-05-04\", \"Grupo de edad\": \">=80\", \"letalidad\": 0.19400352733686066}, {\"fecha (a\\u00f1o-mes-d\\u00eda)\": \"2020-05-06\", \"Grupo de edad\": \">=80\", \"letalidad\": 0.19131832797427653}, {\"fecha (a\\u00f1o-mes-d\\u00eda)\": \"2020-05-08\", \"Grupo de edad\": \">=80\", \"letalidad\": 0.17877906976744187}, {\"fecha (a\\u00f1o-mes-d\\u00eda)\": \"2020-05-11\", \"Grupo de edad\": \">=80\", \"letalidad\": 0.16730038022813687}, {\"fecha (a\\u00f1o-mes-d\\u00eda)\": \"2020-05-15\", \"Grupo de edad\": \">=80\", \"letalidad\": 0.15934627170582227}, {\"fecha (a\\u00f1o-mes-d\\u00eda)\": \"2020-05-18\", \"Grupo de edad\": \">=80\", \"letalidad\": 0.16696750902527077}, {\"fecha (a\\u00f1o-mes-d\\u00eda)\": \"2020-05-22\", \"Grupo de edad\": \">=80\", \"letalidad\": 0.1674911660777385}, {\"fecha (a\\u00f1o-mes-d\\u00eda)\": \"2020-05-25\", \"Grupo de edad\": \">=80\", \"letalidad\": 0.16666666666666666}, {\"fecha (a\\u00f1o-mes-d\\u00eda)\": \"2020-05-29\", \"Grupo de edad\": \">=80\", \"letalidad\": 0.1559718969555035}, {\"fecha (a\\u00f1o-mes-d\\u00eda)\": \"2020-06-01\", \"Grupo de edad\": \">=80\", \"letalidad\": 0.15558194774346792}, {\"fecha (a\\u00f1o-mes-d\\u00eda)\": \"2020-06-05\", \"Grupo de edad\": \">=80\", \"letalidad\": 0.16666666666666666}, {\"fecha (a\\u00f1o-mes-d\\u00eda)\": \"2020-06-08\", \"Grupo de edad\": \">=80\", \"letalidad\": 0.23467600700525393}, {\"fecha (a\\u00f1o-mes-d\\u00eda)\": \"2020-06-12\", \"Grupo de edad\": \">=80\", \"letalidad\": 0.23935915829746532}, {\"fecha (a\\u00f1o-mes-d\\u00eda)\": \"2020-06-15\", \"Grupo de edad\": \">=80\", \"letalidad\": 0.2456512515910055}, {\"fecha (a\\u00f1o-mes-d\\u00eda)\": \"2020-06-19\", \"Grupo de edad\": \">=80\", \"letalidad\": 0.22873996395215468}, {\"fecha (a\\u00f1o-mes-d\\u00eda)\": \"2020-06-23\", \"Grupo de edad\": \">=80\", \"letalidad\": 0.22589653145208702}]}}, {\"mode\": \"vega-lite\"});\n",
       "</script>"
      ],
      "text/plain": [
       "alt.HConcatChart(...)"
      ]
     },
     "execution_count": 68,
     "metadata": {},
     "output_type": "execute_result"
    }
   ],
   "source": [
    "#hide_input\n",
    "label = alt.selection_single(\n",
    "    encodings=['x'], # limit selection to x-axis value\n",
    "    on='mouseover',  # select on mouseover events\n",
    "    nearest=True,    # select data point nearest the cursor\n",
    "    empty='none'     # empty selection includes no data points\n",
    ")\n",
    "\n",
    "base = alt.Chart(letalidad).mark_line(point=True).encode(\n",
    "    x = 'fecha (año-mes-día):N',\n",
    "    y = alt.Y('letalidad:Q', sort=['<=39', '40-49', '50-59', '60-69', '70-79', '>=80'], axis=alt.Axis(format='%')),\n",
    "    color = alt.Color('Grupo de edad:N', scale=alt.Scale(scheme='tableau10'), legend=None),\n",
    "    #tooltip = ['fecha (año-mes-día)', 'Grupo de edad', 'letalidad'],\n",
    ")\n",
    "\n",
    "legend = alt.Chart(letalidad).mark_point().encode(\n",
    "    y=alt.Y('Grupo de edad', axis=alt.Axis(orient='right'), sort=['>=80','70-79','60-69','50-59','40-49','<=39']),\n",
    "    color=alt.Color('Grupo de edad:N', scale=alt.Scale(scheme='tableau10'), legend=None)\n",
    ")\n",
    "\n",
    "alt.layer(\n",
    "    base, # base line chart\n",
    "    \n",
    "    # add a rule mark to serve as a guide line\n",
    "    alt.Chart().mark_rule(color='#aaa').encode(\n",
    "        x = alt.X('fecha (año-mes-día):N', axis=alt.Axis(title='fecha (año-mes-día)'), sort=None)\n",
    "    ).transform_filter(label),\n",
    "    \n",
    "    # add circle marks for selected time points, hide unselected points\n",
    "    base.mark_circle().encode(\n",
    "        opacity=alt.condition(label, alt.value(1), alt.value(0))\n",
    "    ).add_selection(label),\n",
    "    \n",
    "    # add white stroked text to provide a legible background for labels\n",
    "    base.mark_text(align='left', dx=5, dy=-5, stroke='white', strokeWidth=2).encode(\n",
    "        text='letalidad:Q'\n",
    "    ).transform_filter(label),\n",
    "    \n",
    "    # add text labels for stock prices\n",
    "    base.mark_text(align='left', dx=5, dy=-5).encode(\n",
    "        text='letalidad:Q'\n",
    "    ).transform_filter(label),\n",
    "    \n",
    "    data=letalidad\n",
    ").properties(\n",
    "    title = 'COVID-19 en Chile: Evolución de la letalidad por rango de edad',\n",
    "    width = 600\n",
    ") | legend\n",
    "\n",
    "# legend = alt.Chart(letalidad).mark_point().encode(\n",
    "#     y=alt.Y('Grupo de edad', axis=alt.Axis(orient='right'), sort=['>=80','70-79','60-69','50-59','40-49','<=39']),\n",
    "#     color=color\n",
    "# )\n",
    "\n",
    "# chart.properties(\n",
    "#     title = 'COVID-19 en Chile: Evolución de la letalidad por rango de edad',\n",
    "#     width = 600\n",
    "# ) | legend"
   ]
  },
  {
   "cell_type": "code",
   "execution_count": null,
   "metadata": {},
   "outputs": [],
   "source": []
  }
 ],
 "metadata": {
  "kernelspec": {
   "display_name": "Python 3",
   "language": "python",
   "name": "python3"
  },
  "language_info": {
   "codemirror_mode": {
    "name": "ipython",
    "version": 3
   },
   "file_extension": ".py",
   "mimetype": "text/x-python",
   "name": "python",
   "nbconvert_exporter": "python",
   "pygments_lexer": "ipython3",
   "version": "3.8.2"
  }
 },
 "nbformat": 4,
 "nbformat_minor": 2
}
