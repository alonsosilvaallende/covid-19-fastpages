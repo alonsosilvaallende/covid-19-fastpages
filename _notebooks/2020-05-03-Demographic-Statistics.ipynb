{
 "cells": [
  {
   "cell_type": "markdown",
   "metadata": {},
   "source": [
    "# \"DRAFT: COVID-19 en Chile: Estadísticas demográficas\"\n",
    "> Total de casos confirmados, fallecidos confirmados, pacientes en UCI por sexo y rango de edad.\n",
    "\n",
    "- toc: true \n",
    "- badges: true\n",
    "- comments: true\n",
    "- author: Alonso Silva Allende\n",
    "- categories: [jupyter]\n",
    "- image: images/diagram.png"
   ]
  },
  {
   "cell_type": "code",
   "execution_count": 1,
   "metadata": {},
   "outputs": [],
   "source": [
    "#hide\n",
    "import numpy as np\n",
    "import pandas as pd\n",
    "import altair as alt"
   ]
  },
  {
   "cell_type": "markdown",
   "metadata": {},
   "source": [
    "# Casos confirmados por grupo de edad"
   ]
  },
  {
   "cell_type": "code",
   "execution_count": 2,
   "metadata": {},
   "outputs": [],
   "source": [
    "#hide\n",
    "cases_raw = pd.read_csv(\n",
    "    'https://raw.githubusercontent.com/MinCiencia/Datos-COVID19/' \\\n",
    "    + 'master/output/producto16/CasosGeneroEtario.csv'\n",
    ")"
   ]
  },
  {
   "cell_type": "code",
   "execution_count": 3,
   "metadata": {},
   "outputs": [
    {
     "data": {
      "text/plain": [
       "'2020-05-18'"
      ]
     },
     "execution_count": 3,
     "metadata": {},
     "output_type": "execute_result"
    }
   ],
   "source": [
    "#hide\n",
    "today = cases_raw.iloc[:,-1].name\n",
    "update_date = pd.to_datetime(today)\n",
    "today"
   ]
  },
  {
   "cell_type": "code",
   "execution_count": 4,
   "metadata": {
    "scrolled": true
   },
   "outputs": [],
   "source": [
    "#hide\n",
    "cases_raw = cases_raw[['Grupo de edad', 'Sexo', today]].copy()"
   ]
  },
  {
   "cell_type": "code",
   "execution_count": 5,
   "metadata": {},
   "outputs": [
    {
     "data": {
      "text/html": [
       "<div>\n",
       "<style scoped>\n",
       "    .dataframe tbody tr th:only-of-type {\n",
       "        vertical-align: middle;\n",
       "    }\n",
       "\n",
       "    .dataframe tbody tr th {\n",
       "        vertical-align: top;\n",
       "    }\n",
       "\n",
       "    .dataframe thead th {\n",
       "        text-align: right;\n",
       "    }\n",
       "</style>\n",
       "<table border=\"1\" class=\"dataframe\">\n",
       "  <thead>\n",
       "    <tr style=\"text-align: right;\">\n",
       "      <th></th>\n",
       "      <th>2020-05-18</th>\n",
       "    </tr>\n",
       "    <tr>\n",
       "      <th>Sexo</th>\n",
       "      <th></th>\n",
       "    </tr>\n",
       "  </thead>\n",
       "  <tbody>\n",
       "    <tr>\n",
       "      <th>F</th>\n",
       "      <td>21525</td>\n",
       "    </tr>\n",
       "    <tr>\n",
       "      <th>M</th>\n",
       "      <td>24523</td>\n",
       "    </tr>\n",
       "  </tbody>\n",
       "</table>\n",
       "</div>"
      ],
      "text/plain": [
       "      2020-05-18\n",
       "Sexo            \n",
       "F          21525\n",
       "M          24523"
      ]
     },
     "execution_count": 5,
     "metadata": {},
     "output_type": "execute_result"
    }
   ],
   "source": [
    "#hide\n",
    "cases_raw.groupby('Sexo').sum()"
   ]
  },
  {
   "cell_type": "code",
   "execution_count": 6,
   "metadata": {
    "scrolled": true
   },
   "outputs": [],
   "source": [
    "#hide\n",
    "cases_raw = cases_raw.groupby('Grupo de edad').sum()"
   ]
  },
  {
   "cell_type": "code",
   "execution_count": 7,
   "metadata": {},
   "outputs": [],
   "source": [
    "#hide\n",
    "cases = pd.DataFrame()\n",
    "cases['Grupo de edad'] = ['<=39', '40-49', '50-59', '60-69', '70-79', '>=80']"
   ]
  },
  {
   "cell_type": "code",
   "execution_count": 8,
   "metadata": {},
   "outputs": [],
   "source": [
    "#hide\n",
    "cases[\"Casos confirmados\"] = [\n",
    "    cases_raw.iloc[:8].values.sum(),\n",
    "    cases_raw.iloc[8:10].values.sum(),\n",
    "    cases_raw.iloc[10:12].values.sum(),\n",
    "    cases_raw.iloc[12:14].values.sum(),\n",
    "    cases_raw.iloc[14:16].values.sum(),\n",
    "    cases_raw.iloc[16:].values.sum()\n",
    "]"
   ]
  },
  {
   "cell_type": "code",
   "execution_count": 9,
   "metadata": {},
   "outputs": [
    {
     "data": {
      "text/plain": [
       "46048"
      ]
     },
     "execution_count": 9,
     "metadata": {},
     "output_type": "execute_result"
    }
   ],
   "source": [
    "#hide\n",
    "total_cases = cases[\"Casos confirmados\"].sum()\n",
    "total_cases"
   ]
  },
  {
   "cell_type": "code",
   "execution_count": 10,
   "metadata": {},
   "outputs": [],
   "source": [
    "#hide\n",
    "cases[\"Porcentaje\"] = np.round(100*cases[\"Casos confirmados\"]/total_cases, decimals=1)"
   ]
  },
  {
   "cell_type": "code",
   "execution_count": 11,
   "metadata": {},
   "outputs": [],
   "source": [
    "#hide\n",
    "cases[\"Texto\"] = \\\n",
    "[f\"{cases['Casos confirmados'].iloc[i]} ({cases['Porcentaje'].iloc[i]}%)\" for i, val in cases.iterrows()]"
   ]
  },
  {
   "cell_type": "code",
   "execution_count": 12,
   "metadata": {},
   "outputs": [
    {
     "data": {
      "text/html": [
       "\n",
       "<div id=\"altair-viz-fa17c1ef82a1494cb057b5c2c973822e\"></div>\n",
       "<script type=\"text/javascript\">\n",
       "  (function(spec, embedOpt){\n",
       "    let outputDiv = document.currentScript.previousElementSibling;\n",
       "    if (outputDiv.id !== \"altair-viz-fa17c1ef82a1494cb057b5c2c973822e\") {\n",
       "      outputDiv = document.getElementById(\"altair-viz-fa17c1ef82a1494cb057b5c2c973822e\");\n",
       "    }\n",
       "    const paths = {\n",
       "      \"vega\": \"https://cdn.jsdelivr.net/npm//vega@5?noext\",\n",
       "      \"vega-lib\": \"https://cdn.jsdelivr.net/npm//vega-lib?noext\",\n",
       "      \"vega-lite\": \"https://cdn.jsdelivr.net/npm//vega-lite@4.8.1?noext\",\n",
       "      \"vega-embed\": \"https://cdn.jsdelivr.net/npm//vega-embed@6?noext\",\n",
       "    };\n",
       "\n",
       "    function loadScript(lib) {\n",
       "      return new Promise(function(resolve, reject) {\n",
       "        var s = document.createElement('script');\n",
       "        s.src = paths[lib];\n",
       "        s.async = true;\n",
       "        s.onload = () => resolve(paths[lib]);\n",
       "        s.onerror = () => reject(`Error loading script: ${paths[lib]}`);\n",
       "        document.getElementsByTagName(\"head\")[0].appendChild(s);\n",
       "      });\n",
       "    }\n",
       "\n",
       "    function showError(err) {\n",
       "      outputDiv.innerHTML = `<div class=\"error\" style=\"color:red;\">${err}</div>`;\n",
       "      throw err;\n",
       "    }\n",
       "\n",
       "    function displayChart(vegaEmbed) {\n",
       "      vegaEmbed(outputDiv, spec, embedOpt)\n",
       "        .catch(err => showError(`Javascript Error: ${err.message}<br>This usually means there's a typo in your chart specification. See the javascript console for the full traceback.`));\n",
       "    }\n",
       "\n",
       "    if(typeof define === \"function\" && define.amd) {\n",
       "      requirejs.config({paths});\n",
       "      require([\"vega-embed\"], displayChart, err => showError(`Error loading script: ${err.message}`));\n",
       "    } else if (typeof vegaEmbed === \"function\") {\n",
       "      displayChart(vegaEmbed);\n",
       "    } else {\n",
       "      loadScript(\"vega\")\n",
       "        .then(() => loadScript(\"vega-lite\"))\n",
       "        .then(() => loadScript(\"vega-embed\"))\n",
       "        .catch(showError)\n",
       "        .then(() => displayChart(vegaEmbed));\n",
       "    }\n",
       "  })({\"config\": {\"view\": {\"continuousWidth\": 400, \"continuousHeight\": 300}}, \"layer\": [{\"mark\": {\"type\": \"bar\", \"opacity\": 0.8, \"size\": 30}, \"encoding\": {\"color\": {\"type\": \"nominal\", \"field\": \"Grupo de edad\", \"legend\": null, \"scale\": {\"scheme\": \"category10\"}}, \"order\": {\"type\": \"ordinal\", \"field\": \"index\"}, \"tooltip\": [{\"type\": \"nominal\", \"field\": \"Grupo de edad\"}, {\"type\": \"quantitative\", \"field\": \"Casos confirmados\"}, {\"type\": \"quantitative\", \"field\": \"Porcentaje\"}], \"x\": {\"type\": \"quantitative\", \"field\": \"Casos confirmados\"}, \"y\": {\"type\": \"nominal\", \"field\": \"Grupo de edad\", \"sort\": [\"<=39\", \"40-49\", \"50-59\", \"60-69\", \"70-79\", \">=80\"]}}, \"height\": {\"step\": 40}, \"title\": \"Covid-19 en Chile: Casos confirmados por grupo de edad al 18/05/2020\", \"width\": 600}, {\"mark\": {\"type\": \"text\", \"align\": \"left\", \"baseline\": \"middle\", \"dx\": 3}, \"encoding\": {\"color\": {\"type\": \"nominal\", \"field\": \"Grupo de edad\", \"legend\": null, \"scale\": {\"scheme\": \"category10\"}}, \"order\": {\"type\": \"ordinal\", \"field\": \"index\"}, \"text\": {\"type\": \"nominal\", \"field\": \"Texto\"}, \"tooltip\": [{\"type\": \"nominal\", \"field\": \"Grupo de edad\"}, {\"type\": \"quantitative\", \"field\": \"Casos confirmados\"}, {\"type\": \"quantitative\", \"field\": \"Porcentaje\"}], \"x\": {\"type\": \"quantitative\", \"field\": \"Casos confirmados\"}, \"y\": {\"type\": \"nominal\", \"field\": \"Grupo de edad\", \"sort\": [\"<=39\", \"40-49\", \"50-59\", \"60-69\", \"70-79\", \">=80\"]}}}], \"data\": {\"name\": \"data-9d4120e5eb00042e7742bf3c466468bc\"}, \"$schema\": \"https://vega.github.io/schema/vega-lite/v4.8.1.json\", \"datasets\": {\"data-9d4120e5eb00042e7742bf3c466468bc\": [{\"index\": 0, \"Grupo de edad\": \"<=39\", \"Casos confirmados\": 24830, \"Porcentaje\": 53.9, \"Texto\": \"24830 (53.9%)\"}, {\"index\": 1, \"Grupo de edad\": \"40-49\", \"Casos confirmados\": 7953, \"Porcentaje\": 17.3, \"Texto\": \"7953 (17.3%)\"}, {\"index\": 2, \"Grupo de edad\": \"50-59\", \"Casos confirmados\": 6624, \"Porcentaje\": 14.4, \"Texto\": \"6624 (14.4%)\"}, {\"index\": 3, \"Grupo de edad\": \"60-69\", \"Casos confirmados\": 3748, \"Porcentaje\": 8.1, \"Texto\": \"3748 (8.1%)\"}, {\"index\": 4, \"Grupo de edad\": \"70-79\", \"Casos confirmados\": 1785, \"Porcentaje\": 3.9, \"Texto\": \"1785 (3.9%)\"}, {\"index\": 5, \"Grupo de edad\": \">=80\", \"Casos confirmados\": 1108, \"Porcentaje\": 2.4, \"Texto\": \"1108 (2.4%)\"}]}}, {\"mode\": \"vega-lite\"});\n",
       "</script>"
      ],
      "text/plain": [
       "alt.LayerChart(...)"
      ]
     },
     "execution_count": 12,
     "metadata": {},
     "output_type": "execute_result"
    }
   ],
   "source": [
    "#hide_input\n",
    "bars = alt.Chart(cases.reset_index()).mark_bar(opacity=0.8, size=30).encode(\n",
    "    x = alt.X('Casos confirmados'),\n",
    "    y = alt.Y('Grupo de edad', sort=['<=39', '40-49', '50-59', '60-69', '70-79', '>=80']),\n",
    "    tooltip = ['Grupo de edad', 'Casos confirmados', 'Porcentaje'],\n",
    "    color = alt.Color('Grupo de edad', scale=alt.Scale(scheme='category10'), legend=None),\n",
    "    order = alt.Order('index:O')\n",
    ")\n",
    "\n",
    "text = bars.mark_text(\n",
    "    align='left',\n",
    "    baseline='middle',\n",
    "    dx=3  # Nudges text to right so it doesn't appear on top of the bar\n",
    ").encode(\n",
    "    text=alt.Text('Texto')\n",
    ")\n",
    "\n",
    "bars.properties(\n",
    "    title = f\"Covid-19 en Chile: Casos confirmados por grupo de edad al {pd.to_datetime(today).strftime('%d/%m/%Y')}\",\n",
    "    width = 600,\n",
    "    height = alt.Step(40)\n",
    ") + text"
   ]
  },
  {
   "cell_type": "markdown",
   "metadata": {},
   "source": [
    "# Fallecidos confirmados por grupo de edad"
   ]
  },
  {
   "cell_type": "code",
   "execution_count": 13,
   "metadata": {},
   "outputs": [],
   "source": [
    "#hide\n",
    "deaths_raw = pd.read_csv(\n",
    "    'https://raw.githubusercontent.com/MinCiencia/Datos-COVID19/' + \\\n",
    "    'master/output/producto10/FallecidosEtario.csv'\n",
    ")"
   ]
  },
  {
   "cell_type": "code",
   "execution_count": 14,
   "metadata": {},
   "outputs": [],
   "source": [
    "#hide\n",
    "grupo_de_edad = ['<=39', '40-49', '50-59', '60-69', '70-79', '80-89', '>=90']"
   ]
  },
  {
   "cell_type": "code",
   "execution_count": 15,
   "metadata": {},
   "outputs": [],
   "source": [
    "#hide\n",
    "deaths = deaths_raw[['Grupo de edad', today]].copy()"
   ]
  },
  {
   "cell_type": "code",
   "execution_count": 16,
   "metadata": {},
   "outputs": [
    {
     "data": {
      "text/plain": [
       "478"
      ]
     },
     "execution_count": 16,
     "metadata": {},
     "output_type": "execute_result"
    }
   ],
   "source": [
    "#hide\n",
    "total_deaths = deaths[today].sum()\n",
    "total_deaths"
   ]
  },
  {
   "cell_type": "code",
   "execution_count": 17,
   "metadata": {},
   "outputs": [],
   "source": [
    "#hide\n",
    "deaths = deaths.rename(columns={today: \"Fallecidos confirmados\"})"
   ]
  },
  {
   "cell_type": "code",
   "execution_count": 18,
   "metadata": {
    "scrolled": false
   },
   "outputs": [],
   "source": [
    "#hide\n",
    "deaths['Porcentaje'] = np.round(100*deaths[\"Fallecidos confirmados\"]/total_deaths, decimals=1)"
   ]
  },
  {
   "cell_type": "code",
   "execution_count": 19,
   "metadata": {},
   "outputs": [],
   "source": [
    "#hide\n",
    "deaths['Texto'] = \\\n",
    "[f\"{deaths['Fallecidos confirmados'].iloc[i]} ({deaths['Porcentaje'].iloc[i]}%)\" for i, val in deaths.iterrows()]"
   ]
  },
  {
   "cell_type": "code",
   "execution_count": 20,
   "metadata": {},
   "outputs": [
    {
     "data": {
      "text/html": [
       "\n",
       "<div id=\"altair-viz-5b4a5bf1807146669a6a5967c345bf60\"></div>\n",
       "<script type=\"text/javascript\">\n",
       "  (function(spec, embedOpt){\n",
       "    let outputDiv = document.currentScript.previousElementSibling;\n",
       "    if (outputDiv.id !== \"altair-viz-5b4a5bf1807146669a6a5967c345bf60\") {\n",
       "      outputDiv = document.getElementById(\"altair-viz-5b4a5bf1807146669a6a5967c345bf60\");\n",
       "    }\n",
       "    const paths = {\n",
       "      \"vega\": \"https://cdn.jsdelivr.net/npm//vega@5?noext\",\n",
       "      \"vega-lib\": \"https://cdn.jsdelivr.net/npm//vega-lib?noext\",\n",
       "      \"vega-lite\": \"https://cdn.jsdelivr.net/npm//vega-lite@4.8.1?noext\",\n",
       "      \"vega-embed\": \"https://cdn.jsdelivr.net/npm//vega-embed@6?noext\",\n",
       "    };\n",
       "\n",
       "    function loadScript(lib) {\n",
       "      return new Promise(function(resolve, reject) {\n",
       "        var s = document.createElement('script');\n",
       "        s.src = paths[lib];\n",
       "        s.async = true;\n",
       "        s.onload = () => resolve(paths[lib]);\n",
       "        s.onerror = () => reject(`Error loading script: ${paths[lib]}`);\n",
       "        document.getElementsByTagName(\"head\")[0].appendChild(s);\n",
       "      });\n",
       "    }\n",
       "\n",
       "    function showError(err) {\n",
       "      outputDiv.innerHTML = `<div class=\"error\" style=\"color:red;\">${err}</div>`;\n",
       "      throw err;\n",
       "    }\n",
       "\n",
       "    function displayChart(vegaEmbed) {\n",
       "      vegaEmbed(outputDiv, spec, embedOpt)\n",
       "        .catch(err => showError(`Javascript Error: ${err.message}<br>This usually means there's a typo in your chart specification. See the javascript console for the full traceback.`));\n",
       "    }\n",
       "\n",
       "    if(typeof define === \"function\" && define.amd) {\n",
       "      requirejs.config({paths});\n",
       "      require([\"vega-embed\"], displayChart, err => showError(`Error loading script: ${err.message}`));\n",
       "    } else if (typeof vegaEmbed === \"function\") {\n",
       "      displayChart(vegaEmbed);\n",
       "    } else {\n",
       "      loadScript(\"vega\")\n",
       "        .then(() => loadScript(\"vega-lite\"))\n",
       "        .then(() => loadScript(\"vega-embed\"))\n",
       "        .catch(showError)\n",
       "        .then(() => displayChart(vegaEmbed));\n",
       "    }\n",
       "  })({\"config\": {\"view\": {\"continuousWidth\": 400, \"continuousHeight\": 300}}, \"layer\": [{\"mark\": {\"type\": \"bar\", \"opacity\": 0.8, \"size\": 30}, \"encoding\": {\"color\": {\"type\": \"nominal\", \"field\": \"Grupo de edad\", \"legend\": null, \"scale\": {\"scheme\": \"category10\"}}, \"order\": {\"type\": \"ordinal\", \"field\": \"index\"}, \"tooltip\": [{\"type\": \"nominal\", \"field\": \"Grupo de edad\"}, {\"type\": \"quantitative\", \"field\": \"Fallecidos confirmados\"}, {\"type\": \"quantitative\", \"field\": \"Porcentaje\"}], \"x\": {\"type\": \"quantitative\", \"field\": \"Fallecidos confirmados\"}, \"y\": {\"type\": \"nominal\", \"field\": \"Grupo de edad\", \"sort\": [\"<=39\", \"40-49\", \"50-59\", \"60-69\", \"70-79\", \"80-89\", \">=90\"]}}, \"height\": {\"step\": 40}, \"title\": \"Covid-19 en Chile: Fallecidos confirmados por grupo de edad al 18/05/2020\", \"width\": 600}, {\"mark\": {\"type\": \"text\", \"align\": \"left\", \"baseline\": \"middle\", \"dx\": 3}, \"encoding\": {\"color\": {\"type\": \"nominal\", \"field\": \"Grupo de edad\", \"legend\": null, \"scale\": {\"scheme\": \"category10\"}}, \"order\": {\"type\": \"ordinal\", \"field\": \"index\"}, \"text\": {\"type\": \"nominal\", \"field\": \"Texto\"}, \"tooltip\": [{\"type\": \"nominal\", \"field\": \"Grupo de edad\"}, {\"type\": \"quantitative\", \"field\": \"Fallecidos confirmados\"}, {\"type\": \"quantitative\", \"field\": \"Porcentaje\"}], \"x\": {\"type\": \"quantitative\", \"field\": \"Fallecidos confirmados\"}, \"y\": {\"type\": \"nominal\", \"field\": \"Grupo de edad\", \"sort\": [\"<=39\", \"40-49\", \"50-59\", \"60-69\", \"70-79\", \"80-89\", \">=90\"]}}}], \"data\": {\"name\": \"data-2b3799a5604ec8c2931be6027c9bb70a\"}, \"$schema\": \"https://vega.github.io/schema/vega-lite/v4.8.1.json\", \"datasets\": {\"data-2b3799a5604ec8c2931be6027c9bb70a\": [{\"index\": 0, \"Grupo de edad\": \"<=39\", \"Fallecidos confirmados\": 10, \"Porcentaje\": 2.1, \"Texto\": \"10 (2.1%)\"}, {\"index\": 1, \"Grupo de edad\": \"40-49\", \"Fallecidos confirmados\": 28, \"Porcentaje\": 5.9, \"Texto\": \"28 (5.9%)\"}, {\"index\": 2, \"Grupo de edad\": \"50-59\", \"Fallecidos confirmados\": 40, \"Porcentaje\": 8.4, \"Texto\": \"40 (8.4%)\"}, {\"index\": 3, \"Grupo de edad\": \"60-69\", \"Fallecidos confirmados\": 82, \"Porcentaje\": 17.2, \"Texto\": \"82 (17.2%)\"}, {\"index\": 4, \"Grupo de edad\": \"70-79\", \"Fallecidos confirmados\": 133, \"Porcentaje\": 27.8, \"Texto\": \"133 (27.8%)\"}, {\"index\": 5, \"Grupo de edad\": \"80-89\", \"Fallecidos confirmados\": 136, \"Porcentaje\": 28.5, \"Texto\": \"136 (28.5%)\"}, {\"index\": 6, \"Grupo de edad\": \">=90\", \"Fallecidos confirmados\": 49, \"Porcentaje\": 10.3, \"Texto\": \"49 (10.3%)\"}]}}, {\"mode\": \"vega-lite\"});\n",
       "</script>"
      ],
      "text/plain": [
       "alt.LayerChart(...)"
      ]
     },
     "execution_count": 20,
     "metadata": {},
     "output_type": "execute_result"
    }
   ],
   "source": [
    "#hide_input\n",
    "bars = alt.Chart(deaths.reset_index()).mark_bar(opacity=0.8, size=30).encode(\n",
    "    x = alt.X('Fallecidos confirmados'),\n",
    "    y = alt.Y('Grupo de edad', sort=grupo_de_edad),\n",
    "    tooltip = ['Grupo de edad', 'Fallecidos confirmados', 'Porcentaje'],\n",
    "    color = alt.Color('Grupo de edad', scale=alt.Scale(scheme='category10'), legend=None),\n",
    "    order = alt.Order('index:O')\n",
    ")\n",
    "\n",
    "text = bars.mark_text(\n",
    "    align='left',\n",
    "    baseline='middle',\n",
    "    dx=3  # Nudges text to right so it doesn't appear on top of the bar\n",
    ").encode(\n",
    "    text=alt.Text('Texto')\n",
    ")\n",
    "\n",
    "bars.properties(\n",
    "    title = f\"Covid-19 en Chile: Fallecidos confirmados por grupo de edad al {pd.to_datetime(today).strftime('%d/%m/%Y')}\",\n",
    "    width = 600,\n",
    "    height = alt.Step(40)\n",
    ") + text"
   ]
  },
  {
   "cell_type": "markdown",
   "metadata": {},
   "source": [
    "# Letalidad por grupo de edad"
   ]
  },
  {
   "cell_type": "code",
   "execution_count": 21,
   "metadata": {},
   "outputs": [],
   "source": [
    "#hide\n",
    "data = cases.drop(columns=[\"Porcentaje\", \"Texto\"])"
   ]
  },
  {
   "cell_type": "code",
   "execution_count": 22,
   "metadata": {},
   "outputs": [
    {
     "data": {
      "text/plain": [
       "[10, 28, 40, 82, 133]"
      ]
     },
     "execution_count": 22,
     "metadata": {},
     "output_type": "execute_result"
    }
   ],
   "source": [
    "#hide\n",
    "a = list(deaths[\"Fallecidos confirmados\"][:5])\n",
    "a"
   ]
  },
  {
   "cell_type": "code",
   "execution_count": 23,
   "metadata": {},
   "outputs": [
    {
     "data": {
      "text/plain": [
       "[10, 28, 40, 82, 133, 185]"
      ]
     },
     "execution_count": 23,
     "metadata": {},
     "output_type": "execute_result"
    }
   ],
   "source": [
    "#hide\n",
    "a.append(deaths[\"Fallecidos confirmados\"][5:].sum())\n",
    "a"
   ]
  },
  {
   "cell_type": "code",
   "execution_count": 24,
   "metadata": {},
   "outputs": [],
   "source": [
    "#hide\n",
    "data[\"Fallecidos confirmados\"] = a"
   ]
  },
  {
   "cell_type": "code",
   "execution_count": 25,
   "metadata": {},
   "outputs": [],
   "source": [
    "#hide\n",
    "data[\"Letalidad\"] = 100*data[\"Fallecidos confirmados\"]/data[\"Casos confirmados\"]"
   ]
  },
  {
   "cell_type": "code",
   "execution_count": 26,
   "metadata": {},
   "outputs": [],
   "source": [
    "#hide\n",
    "data['Texto'] = \\\n",
    "[f\"{data['Letalidad'].iloc[i]:.2f}\" for i, val in data.iterrows()]"
   ]
  },
  {
   "cell_type": "code",
   "execution_count": 27,
   "metadata": {
    "scrolled": true
   },
   "outputs": [
    {
     "data": {
      "text/html": [
       "\n",
       "<div id=\"altair-viz-bc851f448956440ebbcec07bd159a69b\"></div>\n",
       "<script type=\"text/javascript\">\n",
       "  (function(spec, embedOpt){\n",
       "    let outputDiv = document.currentScript.previousElementSibling;\n",
       "    if (outputDiv.id !== \"altair-viz-bc851f448956440ebbcec07bd159a69b\") {\n",
       "      outputDiv = document.getElementById(\"altair-viz-bc851f448956440ebbcec07bd159a69b\");\n",
       "    }\n",
       "    const paths = {\n",
       "      \"vega\": \"https://cdn.jsdelivr.net/npm//vega@5?noext\",\n",
       "      \"vega-lib\": \"https://cdn.jsdelivr.net/npm//vega-lib?noext\",\n",
       "      \"vega-lite\": \"https://cdn.jsdelivr.net/npm//vega-lite@4.8.1?noext\",\n",
       "      \"vega-embed\": \"https://cdn.jsdelivr.net/npm//vega-embed@6?noext\",\n",
       "    };\n",
       "\n",
       "    function loadScript(lib) {\n",
       "      return new Promise(function(resolve, reject) {\n",
       "        var s = document.createElement('script');\n",
       "        s.src = paths[lib];\n",
       "        s.async = true;\n",
       "        s.onload = () => resolve(paths[lib]);\n",
       "        s.onerror = () => reject(`Error loading script: ${paths[lib]}`);\n",
       "        document.getElementsByTagName(\"head\")[0].appendChild(s);\n",
       "      });\n",
       "    }\n",
       "\n",
       "    function showError(err) {\n",
       "      outputDiv.innerHTML = `<div class=\"error\" style=\"color:red;\">${err}</div>`;\n",
       "      throw err;\n",
       "    }\n",
       "\n",
       "    function displayChart(vegaEmbed) {\n",
       "      vegaEmbed(outputDiv, spec, embedOpt)\n",
       "        .catch(err => showError(`Javascript Error: ${err.message}<br>This usually means there's a typo in your chart specification. See the javascript console for the full traceback.`));\n",
       "    }\n",
       "\n",
       "    if(typeof define === \"function\" && define.amd) {\n",
       "      requirejs.config({paths});\n",
       "      require([\"vega-embed\"], displayChart, err => showError(`Error loading script: ${err.message}`));\n",
       "    } else if (typeof vegaEmbed === \"function\") {\n",
       "      displayChart(vegaEmbed);\n",
       "    } else {\n",
       "      loadScript(\"vega\")\n",
       "        .then(() => loadScript(\"vega-lite\"))\n",
       "        .then(() => loadScript(\"vega-embed\"))\n",
       "        .catch(showError)\n",
       "        .then(() => displayChart(vegaEmbed));\n",
       "    }\n",
       "  })({\"config\": {\"view\": {\"continuousWidth\": 400, \"continuousHeight\": 300}}, \"layer\": [{\"mark\": {\"type\": \"bar\", \"opacity\": 0.8, \"size\": 30}, \"encoding\": {\"color\": {\"type\": \"nominal\", \"field\": \"Grupo de edad\", \"legend\": null, \"scale\": {\"scheme\": \"category10\"}}, \"order\": {\"type\": \"ordinal\", \"field\": \"index\"}, \"tooltip\": [{\"type\": \"nominal\", \"field\": \"Grupo de edad\"}, {\"type\": \"quantitative\", \"field\": \"Casos confirmados\"}, {\"type\": \"quantitative\", \"field\": \"Fallecidos confirmados\"}, {\"type\": \"quantitative\", \"field\": \"Letalidad\"}], \"x\": {\"type\": \"quantitative\", \"field\": \"Letalidad\"}, \"y\": {\"type\": \"nominal\", \"field\": \"Grupo de edad\", \"sort\": [\"<=39\", \"40-49\", \"50-59\", \"60-69\", \"70-79\", \"80-89\", \">=90\"]}}, \"height\": {\"step\": 40}, \"title\": \"Covid-19 en Chile: Letalidad por grupo de edad al 18/05/2020\", \"width\": 600}, {\"mark\": {\"type\": \"text\", \"align\": \"left\", \"baseline\": \"middle\", \"dx\": 3}, \"encoding\": {\"color\": {\"type\": \"nominal\", \"field\": \"Grupo de edad\", \"legend\": null, \"scale\": {\"scheme\": \"category10\"}}, \"order\": {\"type\": \"ordinal\", \"field\": \"index\"}, \"text\": {\"type\": \"nominal\", \"field\": \"Texto\"}, \"tooltip\": [{\"type\": \"nominal\", \"field\": \"Grupo de edad\"}, {\"type\": \"quantitative\", \"field\": \"Casos confirmados\"}, {\"type\": \"quantitative\", \"field\": \"Fallecidos confirmados\"}, {\"type\": \"quantitative\", \"field\": \"Letalidad\"}], \"x\": {\"type\": \"quantitative\", \"field\": \"Letalidad\"}, \"y\": {\"type\": \"nominal\", \"field\": \"Grupo de edad\", \"sort\": [\"<=39\", \"40-49\", \"50-59\", \"60-69\", \"70-79\", \"80-89\", \">=90\"]}}}], \"data\": {\"name\": \"data-14356d36f02558377eb0caaa595bda8e\"}, \"$schema\": \"https://vega.github.io/schema/vega-lite/v4.8.1.json\", \"datasets\": {\"data-14356d36f02558377eb0caaa595bda8e\": [{\"index\": 0, \"Grupo de edad\": \"<=39\", \"Casos confirmados\": 24830, \"Fallecidos confirmados\": 10, \"Letalidad\": 0.04027386226339106, \"Texto\": \"0.04\"}, {\"index\": 1, \"Grupo de edad\": \"40-49\", \"Casos confirmados\": 7953, \"Fallecidos confirmados\": 28, \"Letalidad\": 0.35206840186093297, \"Texto\": \"0.35\"}, {\"index\": 2, \"Grupo de edad\": \"50-59\", \"Casos confirmados\": 6624, \"Fallecidos confirmados\": 40, \"Letalidad\": 0.6038647342995169, \"Texto\": \"0.60\"}, {\"index\": 3, \"Grupo de edad\": \"60-69\", \"Casos confirmados\": 3748, \"Fallecidos confirmados\": 82, \"Letalidad\": 2.1878335112059766, \"Texto\": \"2.19\"}, {\"index\": 4, \"Grupo de edad\": \"70-79\", \"Casos confirmados\": 1785, \"Fallecidos confirmados\": 133, \"Letalidad\": 7.450980392156863, \"Texto\": \"7.45\"}, {\"index\": 5, \"Grupo de edad\": \">=80\", \"Casos confirmados\": 1108, \"Fallecidos confirmados\": 185, \"Letalidad\": 16.696750902527075, \"Texto\": \"16.70\"}]}}, {\"mode\": \"vega-lite\"});\n",
       "</script>"
      ],
      "text/plain": [
       "alt.LayerChart(...)"
      ]
     },
     "execution_count": 27,
     "metadata": {},
     "output_type": "execute_result"
    }
   ],
   "source": [
    "#hide_input\n",
    "bars = alt.Chart(data.reset_index()).mark_bar(opacity=0.8, size=30).encode(\n",
    "    x = alt.X('Letalidad'),\n",
    "    y = alt.Y('Grupo de edad', sort=grupo_de_edad),\n",
    "    tooltip = ['Grupo de edad', 'Casos confirmados', 'Fallecidos confirmados', 'Letalidad'],\n",
    "    color = alt.Color('Grupo de edad', scale=alt.Scale(scheme='category10'), legend=None),\n",
    "    order = alt.Order('index:O')\n",
    ")\n",
    "\n",
    "text = bars.mark_text(\n",
    "    align='left',\n",
    "    baseline='middle',\n",
    "    dx=3  # Nudges text to right so it doesn't appear on top of the bar\n",
    ").encode(\n",
    "    text=alt.Text('Texto')\n",
    ")\n",
    "\n",
    "bars.properties(\n",
    "    title = f\"Covid-19 en Chile: Letalidad por grupo de edad al {pd.to_datetime(today).strftime('%d/%m/%Y')}\",\n",
    "    width = 600,\n",
    "    height = alt.Step(40)\n",
    ") + text"
   ]
  },
  {
   "cell_type": "code",
   "execution_count": 28,
   "metadata": {
    "scrolled": true
   },
   "outputs": [
    {
     "data": {
      "text/plain": [
       "1.038047255038221"
      ]
     },
     "execution_count": 28,
     "metadata": {},
     "output_type": "execute_result"
    }
   ],
   "source": [
    "#hide\n",
    "100*deaths[\"Fallecidos confirmados\"].sum()/cases[\"Casos confirmados\"].sum()"
   ]
  },
  {
   "cell_type": "markdown",
   "metadata": {},
   "source": [
    "# Población por grupo de edad"
   ]
  },
  {
   "cell_type": "code",
   "execution_count": 29,
   "metadata": {},
   "outputs": [],
   "source": [
    "#hide\n",
    "censo_raw = pd.read_csv(\n",
    "    'https://raw.githubusercontent.com/alonsosilvaallende/COVID-19/master/data/Censo_2017_Chile.csv',\n",
    "    thousands='.'\n",
    ")"
   ]
  },
  {
   "cell_type": "code",
   "execution_count": 30,
   "metadata": {},
   "outputs": [],
   "source": [
    "#hide\n",
    "censo = pd.DataFrame()\n",
    "censo['Grupo de edad'] = censo_raw['Grupo de edad']"
   ]
  },
  {
   "cell_type": "code",
   "execution_count": 31,
   "metadata": {
    "scrolled": true
   },
   "outputs": [],
   "source": [
    "#hide\n",
    "censo['Poblacion'] = censo_raw.drop(columns='Grupo de edad').sum(axis=1)"
   ]
  },
  {
   "cell_type": "code",
   "execution_count": 32,
   "metadata": {},
   "outputs": [],
   "source": [
    "#hide\n",
    "new_censo = pd.DataFrame()\n",
    "new_censo['Grupo de edad'] = grupo_de_edad"
   ]
  },
  {
   "cell_type": "code",
   "execution_count": 33,
   "metadata": {},
   "outputs": [],
   "source": [
    "#hide\n",
    "new_censo[\"Poblacion\"] = \\\n",
    "[censo.iloc[:8][\"Poblacion\"].sum(), \\\n",
    "censo.iloc[8:10][\"Poblacion\"].sum(), \\\n",
    "censo.iloc[10:12][\"Poblacion\"].sum(), \\\n",
    "censo.iloc[12:14][\"Poblacion\"].sum(), \\\n",
    "censo.iloc[14:16][\"Poblacion\"].sum(), \\\n",
    "censo.iloc[16:18][\"Poblacion\"].sum(), \\\n",
    "censo.iloc[18:][\"Poblacion\"].sum()]"
   ]
  },
  {
   "cell_type": "code",
   "execution_count": 34,
   "metadata": {},
   "outputs": [
    {
     "data": {
      "text/plain": [
       "17574003"
      ]
     },
     "execution_count": 34,
     "metadata": {},
     "output_type": "execute_result"
    }
   ],
   "source": [
    "#hide\n",
    "total_poblacion = new_censo[\"Poblacion\"].sum()\n",
    "total_poblacion"
   ]
  },
  {
   "cell_type": "code",
   "execution_count": 35,
   "metadata": {},
   "outputs": [],
   "source": [
    "#hide\n",
    "new_censo[\"Porcentaje\"] = np.round(100*new_censo[\"Poblacion\"]/total_poblacion, decimals=1)"
   ]
  },
  {
   "cell_type": "code",
   "execution_count": 36,
   "metadata": {},
   "outputs": [],
   "source": [
    "#hide\n",
    "new_censo['Texto'] = \\\n",
    "[f\"{format(new_censo['Poblacion'].iloc[i],',').replace(',', '.')} ({new_censo['Porcentaje'].iloc[i]}%)\" for i, val in new_censo.iterrows()]"
   ]
  },
  {
   "cell_type": "code",
   "execution_count": 37,
   "metadata": {},
   "outputs": [
    {
     "data": {
      "text/html": [
       "\n",
       "<div id=\"altair-viz-dfd5a49ddb22455d885f40d5b6d90a51\"></div>\n",
       "<script type=\"text/javascript\">\n",
       "  (function(spec, embedOpt){\n",
       "    let outputDiv = document.currentScript.previousElementSibling;\n",
       "    if (outputDiv.id !== \"altair-viz-dfd5a49ddb22455d885f40d5b6d90a51\") {\n",
       "      outputDiv = document.getElementById(\"altair-viz-dfd5a49ddb22455d885f40d5b6d90a51\");\n",
       "    }\n",
       "    const paths = {\n",
       "      \"vega\": \"https://cdn.jsdelivr.net/npm//vega@5?noext\",\n",
       "      \"vega-lib\": \"https://cdn.jsdelivr.net/npm//vega-lib?noext\",\n",
       "      \"vega-lite\": \"https://cdn.jsdelivr.net/npm//vega-lite@4.8.1?noext\",\n",
       "      \"vega-embed\": \"https://cdn.jsdelivr.net/npm//vega-embed@6?noext\",\n",
       "    };\n",
       "\n",
       "    function loadScript(lib) {\n",
       "      return new Promise(function(resolve, reject) {\n",
       "        var s = document.createElement('script');\n",
       "        s.src = paths[lib];\n",
       "        s.async = true;\n",
       "        s.onload = () => resolve(paths[lib]);\n",
       "        s.onerror = () => reject(`Error loading script: ${paths[lib]}`);\n",
       "        document.getElementsByTagName(\"head\")[0].appendChild(s);\n",
       "      });\n",
       "    }\n",
       "\n",
       "    function showError(err) {\n",
       "      outputDiv.innerHTML = `<div class=\"error\" style=\"color:red;\">${err}</div>`;\n",
       "      throw err;\n",
       "    }\n",
       "\n",
       "    function displayChart(vegaEmbed) {\n",
       "      vegaEmbed(outputDiv, spec, embedOpt)\n",
       "        .catch(err => showError(`Javascript Error: ${err.message}<br>This usually means there's a typo in your chart specification. See the javascript console for the full traceback.`));\n",
       "    }\n",
       "\n",
       "    if(typeof define === \"function\" && define.amd) {\n",
       "      requirejs.config({paths});\n",
       "      require([\"vega-embed\"], displayChart, err => showError(`Error loading script: ${err.message}`));\n",
       "    } else if (typeof vegaEmbed === \"function\") {\n",
       "      displayChart(vegaEmbed);\n",
       "    } else {\n",
       "      loadScript(\"vega\")\n",
       "        .then(() => loadScript(\"vega-lite\"))\n",
       "        .then(() => loadScript(\"vega-embed\"))\n",
       "        .catch(showError)\n",
       "        .then(() => displayChart(vegaEmbed));\n",
       "    }\n",
       "  })({\"config\": {\"view\": {\"continuousWidth\": 400, \"continuousHeight\": 300}}, \"layer\": [{\"mark\": {\"type\": \"bar\", \"opacity\": 0.8, \"size\": 30}, \"encoding\": {\"color\": {\"type\": \"nominal\", \"field\": \"Grupo de edad\", \"legend\": null, \"scale\": {\"scheme\": \"category10\"}}, \"order\": {\"type\": \"ordinal\", \"field\": \"index\"}, \"tooltip\": [{\"type\": \"nominal\", \"field\": \"Grupo de edad\"}, {\"type\": \"quantitative\", \"field\": \"Poblacion\"}, {\"type\": \"quantitative\", \"field\": \"Porcentaje\"}], \"x\": {\"type\": \"quantitative\", \"axis\": {\"title\": \"Poblaci\\u00f3n\"}, \"field\": \"Poblacion\"}, \"y\": {\"type\": \"nominal\", \"field\": \"Grupo de edad\", \"sort\": [\"<=39\", \"40-49\", \"50-59\", \"60-69\", \"70-79\", \"80-89\", \">=90\"]}}, \"height\": {\"step\": 40}, \"title\": \"Poblaci\\u00f3n Censo 2017\", \"width\": 600}, {\"mark\": {\"type\": \"text\", \"align\": \"left\", \"baseline\": \"middle\", \"dx\": 3}, \"encoding\": {\"color\": {\"type\": \"nominal\", \"field\": \"Grupo de edad\", \"legend\": null, \"scale\": {\"scheme\": \"category10\"}}, \"order\": {\"type\": \"ordinal\", \"field\": \"index\"}, \"text\": {\"type\": \"nominal\", \"field\": \"Texto\"}, \"tooltip\": [{\"type\": \"nominal\", \"field\": \"Grupo de edad\"}, {\"type\": \"quantitative\", \"field\": \"Poblacion\"}, {\"type\": \"quantitative\", \"field\": \"Porcentaje\"}], \"x\": {\"type\": \"quantitative\", \"axis\": {\"title\": \"Poblaci\\u00f3n\"}, \"field\": \"Poblacion\"}, \"y\": {\"type\": \"nominal\", \"field\": \"Grupo de edad\", \"sort\": [\"<=39\", \"40-49\", \"50-59\", \"60-69\", \"70-79\", \"80-89\", \">=90\"]}}}], \"data\": {\"name\": \"data-e769c588c5c6be5dc493db10bec4ffdf\"}, \"$schema\": \"https://vega.github.io/schema/vega-lite/v4.8.1.json\", \"datasets\": {\"data-e769c588c5c6be5dc493db10bec4ffdf\": [{\"index\": 0, \"Grupo de edad\": \"<=39\", \"Poblacion\": 10131833, \"Porcentaje\": 57.7, \"Texto\": \"10.131.833 (57.7%)\"}, {\"index\": 1, \"Grupo de edad\": \"40-49\", \"Poblacion\": 2359266, \"Porcentaje\": 13.4, \"Texto\": \"2.359.266 (13.4%)\"}, {\"index\": 2, \"Grupo de edad\": \"50-59\", \"Poblacion\": 2232733, \"Porcentaje\": 12.7, \"Texto\": \"2.232.733 (12.7%)\"}, {\"index\": 3, \"Grupo de edad\": \"60-69\", \"Poblacion\": 1499917, \"Porcentaje\": 8.5, \"Texto\": \"1.499.917 (8.5%)\"}, {\"index\": 4, \"Grupo de edad\": \"70-79\", \"Poblacion\": 879498, \"Porcentaje\": 5.0, \"Texto\": \"879.498 (5.0%)\"}, {\"index\": 5, \"Grupo de edad\": \"80-89\", \"Poblacion\": 391247, \"Porcentaje\": 2.2, \"Texto\": \"391.247 (2.2%)\"}, {\"index\": 6, \"Grupo de edad\": \">=90\", \"Poblacion\": 79509, \"Porcentaje\": 0.5, \"Texto\": \"79.509 (0.5%)\"}]}}, {\"mode\": \"vega-lite\"});\n",
       "</script>"
      ],
      "text/plain": [
       "alt.LayerChart(...)"
      ]
     },
     "execution_count": 37,
     "metadata": {},
     "output_type": "execute_result"
    }
   ],
   "source": [
    "#hide_input\n",
    "bars = alt.Chart(new_censo.reset_index()).mark_bar(opacity=0.8, size=30).encode(\n",
    "    x = alt.X('Poblacion', axis=alt.Axis(title=\"Población\")),\n",
    "    y = alt.Y('Grupo de edad', sort=grupo_de_edad),\n",
    "    tooltip = ['Grupo de edad', 'Poblacion', 'Porcentaje'],\n",
    "    color = alt.Color('Grupo de edad', scale=alt.Scale(scheme='category10'), legend=None),\n",
    "    order = alt.Order('index:O')\n",
    ")\n",
    "\n",
    "text = bars.mark_text(\n",
    "    align='left',\n",
    "    baseline='middle',\n",
    "    dx=3  # Nudges text to right so it doesn't appear on top of the bar\n",
    ").encode(\n",
    "    text=alt.Text('Texto')\n",
    ")\n",
    "\n",
    "bars.properties(\n",
    "    title = f\"Población Censo 2017\",\n",
    "    width = 600,\n",
    "    height = alt.Step(40)\n",
    ") + text"
   ]
  },
  {
   "cell_type": "markdown",
   "metadata": {},
   "source": [
    "# Pacientes UCI por rango de edad"
   ]
  },
  {
   "cell_type": "code",
   "execution_count": 38,
   "metadata": {},
   "outputs": [],
   "source": [
    "#hide\n",
    "pacientes_raw = pd.read_csv(\n",
    "    'https://raw.githubusercontent.com/MinCiencia/Datos-COVID19/'\n",
    "    + 'master/output/producto9/HospitalizadosUCIEtario.csv'\n",
    ")"
   ]
  },
  {
   "cell_type": "code",
   "execution_count": 39,
   "metadata": {},
   "outputs": [],
   "source": [
    "#hide\n",
    "pacientes = pacientes_raw[['Grupo de edad', today]]"
   ]
  },
  {
   "cell_type": "code",
   "execution_count": 40,
   "metadata": {},
   "outputs": [
    {
     "data": {
      "text/plain": [
       "807"
      ]
     },
     "execution_count": 40,
     "metadata": {},
     "output_type": "execute_result"
    }
   ],
   "source": [
    "#hide\n",
    "total_pacientes = pacientes[today].sum()\n",
    "total_pacientes"
   ]
  },
  {
   "cell_type": "code",
   "execution_count": 41,
   "metadata": {},
   "outputs": [],
   "source": [
    "#hide\n",
    "pacientes = pacientes.rename(columns={today: \"Pacientes UCI\"})"
   ]
  },
  {
   "cell_type": "code",
   "execution_count": 42,
   "metadata": {
    "scrolled": true
   },
   "outputs": [],
   "source": [
    "#hide\n",
    "pacientes['Porcentaje'] = np.round(100*pacientes[\"Pacientes UCI\"]/total_pacientes, decimals=1)"
   ]
  },
  {
   "cell_type": "code",
   "execution_count": 43,
   "metadata": {},
   "outputs": [],
   "source": [
    "#hide\n",
    "pacientes['Texto'] = \\\n",
    "[f\"{pacientes['Pacientes UCI'].iloc[i]} ({pacientes['Porcentaje'].iloc[i]}%)\" for i, val in pacientes.iterrows()]"
   ]
  },
  {
   "cell_type": "code",
   "execution_count": 44,
   "metadata": {
    "scrolled": true
   },
   "outputs": [
    {
     "data": {
      "text/html": [
       "\n",
       "<div id=\"altair-viz-ecc80ecb49d9442c9ca3e18243c4abb2\"></div>\n",
       "<script type=\"text/javascript\">\n",
       "  (function(spec, embedOpt){\n",
       "    let outputDiv = document.currentScript.previousElementSibling;\n",
       "    if (outputDiv.id !== \"altair-viz-ecc80ecb49d9442c9ca3e18243c4abb2\") {\n",
       "      outputDiv = document.getElementById(\"altair-viz-ecc80ecb49d9442c9ca3e18243c4abb2\");\n",
       "    }\n",
       "    const paths = {\n",
       "      \"vega\": \"https://cdn.jsdelivr.net/npm//vega@5?noext\",\n",
       "      \"vega-lib\": \"https://cdn.jsdelivr.net/npm//vega-lib?noext\",\n",
       "      \"vega-lite\": \"https://cdn.jsdelivr.net/npm//vega-lite@4.8.1?noext\",\n",
       "      \"vega-embed\": \"https://cdn.jsdelivr.net/npm//vega-embed@6?noext\",\n",
       "    };\n",
       "\n",
       "    function loadScript(lib) {\n",
       "      return new Promise(function(resolve, reject) {\n",
       "        var s = document.createElement('script');\n",
       "        s.src = paths[lib];\n",
       "        s.async = true;\n",
       "        s.onload = () => resolve(paths[lib]);\n",
       "        s.onerror = () => reject(`Error loading script: ${paths[lib]}`);\n",
       "        document.getElementsByTagName(\"head\")[0].appendChild(s);\n",
       "      });\n",
       "    }\n",
       "\n",
       "    function showError(err) {\n",
       "      outputDiv.innerHTML = `<div class=\"error\" style=\"color:red;\">${err}</div>`;\n",
       "      throw err;\n",
       "    }\n",
       "\n",
       "    function displayChart(vegaEmbed) {\n",
       "      vegaEmbed(outputDiv, spec, embedOpt)\n",
       "        .catch(err => showError(`Javascript Error: ${err.message}<br>This usually means there's a typo in your chart specification. See the javascript console for the full traceback.`));\n",
       "    }\n",
       "\n",
       "    if(typeof define === \"function\" && define.amd) {\n",
       "      requirejs.config({paths});\n",
       "      require([\"vega-embed\"], displayChart, err => showError(`Error loading script: ${err.message}`));\n",
       "    } else if (typeof vegaEmbed === \"function\") {\n",
       "      displayChart(vegaEmbed);\n",
       "    } else {\n",
       "      loadScript(\"vega\")\n",
       "        .then(() => loadScript(\"vega-lite\"))\n",
       "        .then(() => loadScript(\"vega-embed\"))\n",
       "        .catch(showError)\n",
       "        .then(() => displayChart(vegaEmbed));\n",
       "    }\n",
       "  })({\"config\": {\"view\": {\"continuousWidth\": 400, \"continuousHeight\": 300}}, \"layer\": [{\"mark\": {\"type\": \"bar\", \"opacity\": 0.8, \"size\": 30}, \"encoding\": {\"color\": {\"type\": \"nominal\", \"field\": \"Grupo de edad\", \"legend\": null, \"scale\": {\"scheme\": \"category10\"}}, \"order\": {\"type\": \"ordinal\", \"field\": \"index\"}, \"tooltip\": [{\"type\": \"nominal\", \"field\": \"Grupo de edad\"}, {\"type\": \"quantitative\", \"field\": \"Pacientes UCI\"}, {\"type\": \"quantitative\", \"field\": \"Porcentaje\"}], \"x\": {\"type\": \"quantitative\", \"field\": \"Pacientes UCI\"}, \"y\": {\"type\": \"nominal\", \"field\": \"Grupo de edad\", \"sort\": [\"<=39\", \"40-49\", \"50-59\", \"60-69\", \"70-79\", \"80-89\", \">=90\"]}}, \"height\": {\"step\": 40}, \"title\": \"Pacientes UCI presentes el 18/05/2020\", \"width\": 600}, {\"mark\": {\"type\": \"text\", \"align\": \"left\", \"baseline\": \"middle\", \"dx\": 3}, \"encoding\": {\"color\": {\"type\": \"nominal\", \"field\": \"Grupo de edad\", \"legend\": null, \"scale\": {\"scheme\": \"category10\"}}, \"order\": {\"type\": \"ordinal\", \"field\": \"index\"}, \"text\": {\"type\": \"nominal\", \"field\": \"Texto\"}, \"tooltip\": [{\"type\": \"nominal\", \"field\": \"Grupo de edad\"}, {\"type\": \"quantitative\", \"field\": \"Pacientes UCI\"}, {\"type\": \"quantitative\", \"field\": \"Porcentaje\"}], \"x\": {\"type\": \"quantitative\", \"field\": \"Pacientes UCI\"}, \"y\": {\"type\": \"nominal\", \"field\": \"Grupo de edad\", \"sort\": [\"<=39\", \"40-49\", \"50-59\", \"60-69\", \"70-79\", \"80-89\", \">=90\"]}}}], \"data\": {\"name\": \"data-7749555cc4dce9adba80ae7607e057ab\"}, \"$schema\": \"https://vega.github.io/schema/vega-lite/v4.8.1.json\", \"datasets\": {\"data-7749555cc4dce9adba80ae7607e057ab\": [{\"index\": 0, \"Grupo de edad\": \"<=39\", \"Pacientes UCI\": 100, \"Porcentaje\": 12.4, \"Texto\": \"100 (12.4%)\"}, {\"index\": 1, \"Grupo de edad\": \"40-49\", \"Pacientes UCI\": 98, \"Porcentaje\": 12.1, \"Texto\": \"98 (12.1%)\"}, {\"index\": 2, \"Grupo de edad\": \"50-59\", \"Pacientes UCI\": 211, \"Porcentaje\": 26.1, \"Texto\": \"211 (26.1%)\"}, {\"index\": 3, \"Grupo de edad\": \"60-69\", \"Pacientes UCI\": 222, \"Porcentaje\": 27.5, \"Texto\": \"222 (27.5%)\"}, {\"index\": 4, \"Grupo de edad\": \">=70\", \"Pacientes UCI\": 176, \"Porcentaje\": 21.8, \"Texto\": \"176 (21.8%)\"}]}}, {\"mode\": \"vega-lite\"});\n",
       "</script>"
      ],
      "text/plain": [
       "alt.LayerChart(...)"
      ]
     },
     "execution_count": 44,
     "metadata": {},
     "output_type": "execute_result"
    }
   ],
   "source": [
    "#hide_input\n",
    "bars = alt.Chart(pacientes.reset_index()).mark_bar(opacity=0.8, size=30).encode(\n",
    "    x = alt.X('Pacientes UCI'),\n",
    "    y = alt.Y('Grupo de edad', sort=grupo_de_edad),\n",
    "    order = alt.Order('index:O'),\n",
    "    tooltip = ['Grupo de edad', 'Pacientes UCI', 'Porcentaje'],\n",
    "    color = alt.Color('Grupo de edad', scale=alt.Scale(scheme='category10'), legend=None)\n",
    ")\n",
    "\n",
    "text = bars.mark_text(\n",
    "    align='left',\n",
    "    baseline='middle',\n",
    "    dx=3  # Nudges text to right so it doesn't appear on top of the bar\n",
    ").encode(\n",
    "    text=alt.Text('Texto')\n",
    ")\n",
    "\n",
    "bars.properties(\n",
    "    title = f\"Pacientes UCI presentes el {pd.to_datetime(today).strftime('%d/%m/%Y')}\",\n",
    "    width = 600,\n",
    "    height = alt.Step(40)\n",
    ") + text"
   ]
  },
  {
   "cell_type": "markdown",
   "metadata": {},
   "source": [
    "# Evolución de casos confirmados por rango de edad"
   ]
  },
  {
   "cell_type": "code",
   "execution_count": 45,
   "metadata": {},
   "outputs": [],
   "source": [
    "#hide\n",
    "cases_raw = pd.read_csv(\n",
    "    'https://raw.githubusercontent.com/MinCiencia/Datos-COVID19/' \\\n",
    "    + 'master/output/producto16/CasosGeneroEtario.csv'\n",
    ")"
   ]
  },
  {
   "cell_type": "code",
   "execution_count": 46,
   "metadata": {},
   "outputs": [],
   "source": [
    "#hide\n",
    "cases = pd.DataFrame()\n",
    "cases['<=39'] = cases_raw.groupby('Grupo de edad').sum().iloc[:8].sum()\n",
    "cases['40-49'] = cases_raw.groupby('Grupo de edad').sum().iloc[8:10].sum()\n",
    "cases['50-59'] = cases_raw.groupby('Grupo de edad').sum().iloc[10:12].sum()\n",
    "cases['60-69'] = cases_raw.groupby('Grupo de edad').sum().iloc[12:14].sum()\n",
    "cases['70-79'] = cases_raw.groupby('Grupo de edad').sum().iloc[14:16].sum()\n",
    "cases['>=80'] = cases_raw.groupby('Grupo de edad').sum().iloc[16:].sum()"
   ]
  },
  {
   "cell_type": "code",
   "execution_count": 47,
   "metadata": {},
   "outputs": [],
   "source": [
    "#hide\n",
    "cases = cases.T.reset_index()\n",
    "cases = cases.rename(columns={'index': 'Grupo de edad'})"
   ]
  },
  {
   "cell_type": "code",
   "execution_count": 48,
   "metadata": {},
   "outputs": [],
   "source": [
    "#hide\n",
    "cases = cases.reset_index().melt(['index', 'Grupo de edad'], var_name=\"fecha (año-mes-día)\", value_name=\"casos confirmados\")"
   ]
  },
  {
   "cell_type": "code",
   "execution_count": 49,
   "metadata": {
    "scrolled": true
   },
   "outputs": [
    {
     "data": {
      "text/html": [
       "\n",
       "<div id=\"altair-viz-f09395b9caff45e68b883911dbab7ffd\"></div>\n",
       "<script type=\"text/javascript\">\n",
       "  (function(spec, embedOpt){\n",
       "    let outputDiv = document.currentScript.previousElementSibling;\n",
       "    if (outputDiv.id !== \"altair-viz-f09395b9caff45e68b883911dbab7ffd\") {\n",
       "      outputDiv = document.getElementById(\"altair-viz-f09395b9caff45e68b883911dbab7ffd\");\n",
       "    }\n",
       "    const paths = {\n",
       "      \"vega\": \"https://cdn.jsdelivr.net/npm//vega@5?noext\",\n",
       "      \"vega-lib\": \"https://cdn.jsdelivr.net/npm//vega-lib?noext\",\n",
       "      \"vega-lite\": \"https://cdn.jsdelivr.net/npm//vega-lite@4.8.1?noext\",\n",
       "      \"vega-embed\": \"https://cdn.jsdelivr.net/npm//vega-embed@6?noext\",\n",
       "    };\n",
       "\n",
       "    function loadScript(lib) {\n",
       "      return new Promise(function(resolve, reject) {\n",
       "        var s = document.createElement('script');\n",
       "        s.src = paths[lib];\n",
       "        s.async = true;\n",
       "        s.onload = () => resolve(paths[lib]);\n",
       "        s.onerror = () => reject(`Error loading script: ${paths[lib]}`);\n",
       "        document.getElementsByTagName(\"head\")[0].appendChild(s);\n",
       "      });\n",
       "    }\n",
       "\n",
       "    function showError(err) {\n",
       "      outputDiv.innerHTML = `<div class=\"error\" style=\"color:red;\">${err}</div>`;\n",
       "      throw err;\n",
       "    }\n",
       "\n",
       "    function displayChart(vegaEmbed) {\n",
       "      vegaEmbed(outputDiv, spec, embedOpt)\n",
       "        .catch(err => showError(`Javascript Error: ${err.message}<br>This usually means there's a typo in your chart specification. See the javascript console for the full traceback.`));\n",
       "    }\n",
       "\n",
       "    if(typeof define === \"function\" && define.amd) {\n",
       "      requirejs.config({paths});\n",
       "      require([\"vega-embed\"], displayChart, err => showError(`Error loading script: ${err.message}`));\n",
       "    } else if (typeof vegaEmbed === \"function\") {\n",
       "      displayChart(vegaEmbed);\n",
       "    } else {\n",
       "      loadScript(\"vega\")\n",
       "        .then(() => loadScript(\"vega-lite\"))\n",
       "        .then(() => loadScript(\"vega-embed\"))\n",
       "        .catch(showError)\n",
       "        .then(() => displayChart(vegaEmbed));\n",
       "    }\n",
       "  })({\"config\": {\"view\": {\"continuousWidth\": 400, \"continuousHeight\": 300}}, \"hconcat\": [{\"mark\": \"bar\", \"encoding\": {\"color\": {\"condition\": {\"type\": \"nominal\", \"field\": \"Grupo de edad\", \"legend\": null, \"scale\": {\"scheme\": \"tableau20\"}, \"selection\": {\"or\": [\" \", \"selector001\"]}}, \"value\": \"lightgray\"}, \"order\": {\"type\": \"quantitative\", \"field\": \"index\", \"sort\": \"descending\"}, \"tooltip\": [{\"type\": \"nominal\", \"field\": \"fecha (a\\u00f1o-mes-d\\u00eda)\"}, {\"type\": \"nominal\", \"field\": \"Grupo de edad\"}, {\"type\": \"quantitative\", \"field\": \"casos confirmados\"}], \"x\": {\"type\": \"nominal\", \"field\": \"fecha (a\\u00f1o-mes-d\\u00eda)\"}, \"y\": {\"type\": \"quantitative\", \"field\": \"casos confirmados\"}}, \"selection\": {\" \": {\"type\": \"single\", \"fields\": [\"Grupo de edad\"], \"bind\": {\"input\": \"select\", \"options\": [\"<=39\", \"40-49\", \"50-59\", \"60-69\", \"70-79\", \">=80\"]}}, \"selector001\": {\"type\": \"multi\", \"fields\": [\"Grupo de edad\"], \"on\": \"mouseover\"}}, \"title\": \"COVID-19 en Chile: Evoluci\\u00f3n de casos confirmados por rango de edad\", \"transform\": [{\"filter\": {\"selection\": \" \"}}], \"width\": 600}, {\"mark\": \"point\", \"encoding\": {\"color\": {\"condition\": {\"type\": \"nominal\", \"field\": \"Grupo de edad\", \"legend\": null, \"scale\": {\"scheme\": \"tableau20\"}, \"selection\": {\"or\": [\" \", \"selector001\"]}}, \"value\": \"lightgray\"}, \"y\": {\"type\": \"nominal\", \"axis\": {\"orient\": \"right\"}, \"field\": \"Grupo de edad\", \"sort\": [\"<=39\", \"40-49\", \"50-59\", \"60-69\", \"70-79\", \"80-89\", \">=90\"]}}, \"selection\": {\" \": {\"type\": \"single\", \"fields\": [\"Grupo de edad\"], \"bind\": {\"input\": \"select\", \"options\": [\"<=39\", \"40-49\", \"50-59\", \"60-69\", \"70-79\", \">=80\"]}}, \"selector001\": {\"type\": \"multi\", \"fields\": [\"Grupo de edad\"], \"on\": \"mouseover\"}}}], \"data\": {\"name\": \"data-762f3e16696bc8003351fbc3f692be86\"}, \"$schema\": \"https://vega.github.io/schema/vega-lite/v4.8.1.json\", \"datasets\": {\"data-762f3e16696bc8003351fbc3f692be86\": [{\"index\": 0, \"Grupo de edad\": \"<=39\", \"fecha (a\\u00f1o-mes-d\\u00eda)\": \"2020-03-25\", \"casos confirmados\": 558}, {\"index\": 1, \"Grupo de edad\": \"40-49\", \"fecha (a\\u00f1o-mes-d\\u00eda)\": \"2020-03-25\", \"casos confirmados\": 220}, {\"index\": 2, \"Grupo de edad\": \"50-59\", \"fecha (a\\u00f1o-mes-d\\u00eda)\": \"2020-03-25\", \"casos confirmados\": 119}, {\"index\": 3, \"Grupo de edad\": \"60-69\", \"fecha (a\\u00f1o-mes-d\\u00eda)\": \"2020-03-25\", \"casos confirmados\": 69}, {\"index\": 4, \"Grupo de edad\": \"70-79\", \"fecha (a\\u00f1o-mes-d\\u00eda)\": \"2020-03-25\", \"casos confirmados\": 38}, {\"index\": 5, \"Grupo de edad\": \">=80\", \"fecha (a\\u00f1o-mes-d\\u00eda)\": \"2020-03-25\", \"casos confirmados\": 8}, {\"index\": 0, \"Grupo de edad\": \"<=39\", \"fecha (a\\u00f1o-mes-d\\u00eda)\": \"2020-03-26\", \"casos confirmados\": 672}, {\"index\": 1, \"Grupo de edad\": \"40-49\", \"fecha (a\\u00f1o-mes-d\\u00eda)\": \"2020-03-26\", \"casos confirmados\": 268}, {\"index\": 2, \"Grupo de edad\": \"50-59\", \"fecha (a\\u00f1o-mes-d\\u00eda)\": \"2020-03-26\", \"casos confirmados\": 162}, {\"index\": 3, \"Grupo de edad\": \"60-69\", \"fecha (a\\u00f1o-mes-d\\u00eda)\": \"2020-03-26\", \"casos confirmados\": 91}, {\"index\": 4, \"Grupo de edad\": \"70-79\", \"fecha (a\\u00f1o-mes-d\\u00eda)\": \"2020-03-26\", \"casos confirmados\": 48}, {\"index\": 5, \"Grupo de edad\": \">=80\", \"fecha (a\\u00f1o-mes-d\\u00eda)\": \"2020-03-26\", \"casos confirmados\": 11}, {\"index\": 0, \"Grupo de edad\": \"<=39\", \"fecha (a\\u00f1o-mes-d\\u00eda)\": \"2020-03-27\", \"casos confirmados\": 754}, {\"index\": 1, \"Grupo de edad\": \"40-49\", \"fecha (a\\u00f1o-mes-d\\u00eda)\": \"2020-03-27\", \"casos confirmados\": 310}, {\"index\": 2, \"Grupo de edad\": \"50-59\", \"fecha (a\\u00f1o-mes-d\\u00eda)\": \"2020-03-27\", \"casos confirmados\": 190}, {\"index\": 3, \"Grupo de edad\": \"60-69\", \"fecha (a\\u00f1o-mes-d\\u00eda)\": \"2020-03-27\", \"casos confirmados\": 112}, {\"index\": 4, \"Grupo de edad\": \"70-79\", \"fecha (a\\u00f1o-mes-d\\u00eda)\": \"2020-03-27\", \"casos confirmados\": 56}, {\"index\": 5, \"Grupo de edad\": \">=80\", \"fecha (a\\u00f1o-mes-d\\u00eda)\": \"2020-03-27\", \"casos confirmados\": 12}, {\"index\": 0, \"Grupo de edad\": \"<=39\", \"fecha (a\\u00f1o-mes-d\\u00eda)\": \"2020-03-28\", \"casos confirmados\": 890}, {\"index\": 1, \"Grupo de edad\": \"40-49\", \"fecha (a\\u00f1o-mes-d\\u00eda)\": \"2020-03-28\", \"casos confirmados\": 357}, {\"index\": 2, \"Grupo de edad\": \"50-59\", \"fecha (a\\u00f1o-mes-d\\u00eda)\": \"2020-03-28\", \"casos confirmados\": 251}, {\"index\": 3, \"Grupo de edad\": \"60-69\", \"fecha (a\\u00f1o-mes-d\\u00eda)\": \"2020-03-28\", \"casos confirmados\": 138}, {\"index\": 4, \"Grupo de edad\": \"70-79\", \"fecha (a\\u00f1o-mes-d\\u00eda)\": \"2020-03-28\", \"casos confirmados\": 67}, {\"index\": 5, \"Grupo de edad\": \">=80\", \"fecha (a\\u00f1o-mes-d\\u00eda)\": \"2020-03-28\", \"casos confirmados\": 20}, {\"index\": 0, \"Grupo de edad\": \"<=39\", \"fecha (a\\u00f1o-mes-d\\u00eda)\": \"2020-03-29\", \"casos confirmados\": 964}, {\"index\": 1, \"Grupo de edad\": \"40-49\", \"fecha (a\\u00f1o-mes-d\\u00eda)\": \"2020-03-29\", \"casos confirmados\": 407}, {\"index\": 2, \"Grupo de edad\": \"50-59\", \"fecha (a\\u00f1o-mes-d\\u00eda)\": \"2020-03-29\", \"casos confirmados\": 272}, {\"index\": 3, \"Grupo de edad\": \"60-69\", \"fecha (a\\u00f1o-mes-d\\u00eda)\": \"2020-03-29\", \"casos confirmados\": 165}, {\"index\": 4, \"Grupo de edad\": \"70-79\", \"fecha (a\\u00f1o-mes-d\\u00eda)\": \"2020-03-29\", \"casos confirmados\": 75}, {\"index\": 5, \"Grupo de edad\": \">=80\", \"fecha (a\\u00f1o-mes-d\\u00eda)\": \"2020-03-29\", \"casos confirmados\": 23}, {\"index\": 0, \"Grupo de edad\": \"<=39\", \"fecha (a\\u00f1o-mes-d\\u00eda)\": \"2020-03-30\", \"casos confirmados\": 1041}, {\"index\": 1, \"Grupo de edad\": \"40-49\", \"fecha (a\\u00f1o-mes-d\\u00eda)\": \"2020-03-30\", \"casos confirmados\": 451}, {\"index\": 2, \"Grupo de edad\": \"50-59\", \"fecha (a\\u00f1o-mes-d\\u00eda)\": \"2020-03-30\", \"casos confirmados\": 304}, {\"index\": 3, \"Grupo de edad\": \"60-69\", \"fecha (a\\u00f1o-mes-d\\u00eda)\": \"2020-03-30\", \"casos confirmados\": 182}, {\"index\": 4, \"Grupo de edad\": \"70-79\", \"fecha (a\\u00f1o-mes-d\\u00eda)\": \"2020-03-30\", \"casos confirmados\": 84}, {\"index\": 5, \"Grupo de edad\": \">=80\", \"fecha (a\\u00f1o-mes-d\\u00eda)\": \"2020-03-30\", \"casos confirmados\": 26}, {\"index\": 0, \"Grupo de edad\": \"<=39\", \"fecha (a\\u00f1o-mes-d\\u00eda)\": \"2020-03-31\", \"casos confirmados\": 1182}, {\"index\": 1, \"Grupo de edad\": \"40-49\", \"fecha (a\\u00f1o-mes-d\\u00eda)\": \"2020-03-31\", \"casos confirmados\": 511}, {\"index\": 2, \"Grupo de edad\": \"50-59\", \"fecha (a\\u00f1o-mes-d\\u00eda)\": \"2020-03-31\", \"casos confirmados\": 348}, {\"index\": 3, \"Grupo de edad\": \"60-69\", \"fecha (a\\u00f1o-mes-d\\u00eda)\": \"2020-03-31\", \"casos confirmados\": 209}, {\"index\": 4, \"Grupo de edad\": \"70-79\", \"fecha (a\\u00f1o-mes-d\\u00eda)\": \"2020-03-31\", \"casos confirmados\": 92}, {\"index\": 5, \"Grupo de edad\": \">=80\", \"fecha (a\\u00f1o-mes-d\\u00eda)\": \"2020-03-31\", \"casos confirmados\": 31}, {\"index\": 0, \"Grupo de edad\": \"<=39\", \"fecha (a\\u00f1o-mes-d\\u00eda)\": \"2020-04-01\", \"casos confirmados\": 1335}, {\"index\": 1, \"Grupo de edad\": \"40-49\", \"fecha (a\\u00f1o-mes-d\\u00eda)\": \"2020-04-01\", \"casos confirmados\": 584}, {\"index\": 2, \"Grupo de edad\": \"50-59\", \"fecha (a\\u00f1o-mes-d\\u00eda)\": \"2020-04-01\", \"casos confirmados\": 423}, {\"index\": 3, \"Grupo de edad\": \"60-69\", \"fecha (a\\u00f1o-mes-d\\u00eda)\": \"2020-04-01\", \"casos confirmados\": 243}, {\"index\": 4, \"Grupo de edad\": \"70-79\", \"fecha (a\\u00f1o-mes-d\\u00eda)\": \"2020-04-01\", \"casos confirmados\": 120}, {\"index\": 5, \"Grupo de edad\": \">=80\", \"fecha (a\\u00f1o-mes-d\\u00eda)\": \"2020-04-01\", \"casos confirmados\": 39}, {\"index\": 0, \"Grupo de edad\": \"<=39\", \"fecha (a\\u00f1o-mes-d\\u00eda)\": \"2020-04-02\", \"casos confirmados\": 1434}, {\"index\": 1, \"Grupo de edad\": \"40-49\", \"fecha (a\\u00f1o-mes-d\\u00eda)\": \"2020-04-02\", \"casos confirmados\": 616}, {\"index\": 2, \"Grupo de edad\": \"50-59\", \"fecha (a\\u00f1o-mes-d\\u00eda)\": \"2020-04-02\", \"casos confirmados\": 453}, {\"index\": 3, \"Grupo de edad\": \"60-69\", \"fecha (a\\u00f1o-mes-d\\u00eda)\": \"2020-04-02\", \"casos confirmados\": 264}, {\"index\": 4, \"Grupo de edad\": \"70-79\", \"fecha (a\\u00f1o-mes-d\\u00eda)\": \"2020-04-02\", \"casos confirmados\": 127}, {\"index\": 5, \"Grupo de edad\": \">=80\", \"fecha (a\\u00f1o-mes-d\\u00eda)\": \"2020-04-02\", \"casos confirmados\": 44}, {\"index\": 0, \"Grupo de edad\": \"<=39\", \"fecha (a\\u00f1o-mes-d\\u00eda)\": \"2020-04-03\", \"casos confirmados\": 1678}, {\"index\": 1, \"Grupo de edad\": \"40-49\", \"fecha (a\\u00f1o-mes-d\\u00eda)\": \"2020-04-03\", \"casos confirmados\": 695}, {\"index\": 2, \"Grupo de edad\": \"50-59\", \"fecha (a\\u00f1o-mes-d\\u00eda)\": \"2020-04-03\", \"casos confirmados\": 521}, {\"index\": 3, \"Grupo de edad\": \"60-69\", \"fecha (a\\u00f1o-mes-d\\u00eda)\": \"2020-04-03\", \"casos confirmados\": 296}, {\"index\": 4, \"Grupo de edad\": \"70-79\", \"fecha (a\\u00f1o-mes-d\\u00eda)\": \"2020-04-03\", \"casos confirmados\": 155}, {\"index\": 5, \"Grupo de edad\": \">=80\", \"fecha (a\\u00f1o-mes-d\\u00eda)\": \"2020-04-03\", \"casos confirmados\": 53}, {\"index\": 0, \"Grupo de edad\": \"<=39\", \"fecha (a\\u00f1o-mes-d\\u00eda)\": \"2020-04-04\", \"casos confirmados\": 1866}, {\"index\": 1, \"Grupo de edad\": \"40-49\", \"fecha (a\\u00f1o-mes-d\\u00eda)\": \"2020-04-04\", \"casos confirmados\": 762}, {\"index\": 2, \"Grupo de edad\": \"50-59\", \"fecha (a\\u00f1o-mes-d\\u00eda)\": \"2020-04-04\", \"casos confirmados\": 575}, {\"index\": 3, \"Grupo de edad\": \"60-69\", \"fecha (a\\u00f1o-mes-d\\u00eda)\": \"2020-04-04\", \"casos confirmados\": 336}, {\"index\": 4, \"Grupo de edad\": \"70-79\", \"fecha (a\\u00f1o-mes-d\\u00eda)\": \"2020-04-04\", \"casos confirmados\": 185}, {\"index\": 5, \"Grupo de edad\": \">=80\", \"fecha (a\\u00f1o-mes-d\\u00eda)\": \"2020-04-04\", \"casos confirmados\": 61}, {\"index\": 0, \"Grupo de edad\": \"<=39\", \"fecha (a\\u00f1o-mes-d\\u00eda)\": \"2020-04-05\", \"casos confirmados\": 2007}, {\"index\": 1, \"Grupo de edad\": \"40-49\", \"fecha (a\\u00f1o-mes-d\\u00eda)\": \"2020-04-05\", \"casos confirmados\": 831}, {\"index\": 2, \"Grupo de edad\": \"50-59\", \"fecha (a\\u00f1o-mes-d\\u00eda)\": \"2020-04-05\", \"casos confirmados\": 620}, {\"index\": 3, \"Grupo de edad\": \"60-69\", \"fecha (a\\u00f1o-mes-d\\u00eda)\": \"2020-04-05\", \"casos confirmados\": 354}, {\"index\": 4, \"Grupo de edad\": \"70-79\", \"fecha (a\\u00f1o-mes-d\\u00eda)\": \"2020-04-05\", \"casos confirmados\": 202}, {\"index\": 5, \"Grupo de edad\": \">=80\", \"fecha (a\\u00f1o-mes-d\\u00eda)\": \"2020-04-05\", \"casos confirmados\": 68}, {\"index\": 0, \"Grupo de edad\": \"<=39\", \"fecha (a\\u00f1o-mes-d\\u00eda)\": \"2020-04-06\", \"casos confirmados\": 2140}, {\"index\": 1, \"Grupo de edad\": \"40-49\", \"fecha (a\\u00f1o-mes-d\\u00eda)\": \"2020-04-06\", \"casos confirmados\": 876}, {\"index\": 2, \"Grupo de edad\": \"50-59\", \"fecha (a\\u00f1o-mes-d\\u00eda)\": \"2020-04-06\", \"casos confirmados\": 662}, {\"index\": 3, \"Grupo de edad\": \"60-69\", \"fecha (a\\u00f1o-mes-d\\u00eda)\": \"2020-04-06\", \"casos confirmados\": 377}, {\"index\": 4, \"Grupo de edad\": \"70-79\", \"fecha (a\\u00f1o-mes-d\\u00eda)\": \"2020-04-06\", \"casos confirmados\": 214}, {\"index\": 5, \"Grupo de edad\": \">=80\", \"fecha (a\\u00f1o-mes-d\\u00eda)\": \"2020-04-06\", \"casos confirmados\": 77}, {\"index\": 0, \"Grupo de edad\": \"<=39\", \"fecha (a\\u00f1o-mes-d\\u00eda)\": \"2020-04-07\", \"casos confirmados\": 2257}, {\"index\": 1, \"Grupo de edad\": \"40-49\", \"fecha (a\\u00f1o-mes-d\\u00eda)\": \"2020-04-07\", \"casos confirmados\": 926}, {\"index\": 2, \"Grupo de edad\": \"50-59\", \"fecha (a\\u00f1o-mes-d\\u00eda)\": \"2020-04-07\", \"casos confirmados\": 707}, {\"index\": 3, \"Grupo de edad\": \"60-69\", \"fecha (a\\u00f1o-mes-d\\u00eda)\": \"2020-04-07\", \"casos confirmados\": 415}, {\"index\": 4, \"Grupo de edad\": \"70-79\", \"fecha (a\\u00f1o-mes-d\\u00eda)\": \"2020-04-07\", \"casos confirmados\": 225}, {\"index\": 5, \"Grupo de edad\": \">=80\", \"fecha (a\\u00f1o-mes-d\\u00eda)\": \"2020-04-07\", \"casos confirmados\": 87}, {\"index\": 0, \"Grupo de edad\": \"<=39\", \"fecha (a\\u00f1o-mes-d\\u00eda)\": \"2020-04-08\", \"casos confirmados\": 2636}, {\"index\": 1, \"Grupo de edad\": \"40-49\", \"fecha (a\\u00f1o-mes-d\\u00eda)\": \"2020-04-08\", \"casos confirmados\": 1079}, {\"index\": 2, \"Grupo de edad\": \"50-59\", \"fecha (a\\u00f1o-mes-d\\u00eda)\": \"2020-04-08\", \"casos confirmados\": 839}, {\"index\": 3, \"Grupo de edad\": \"60-69\", \"fecha (a\\u00f1o-mes-d\\u00eda)\": \"2020-04-08\", \"casos confirmados\": 468}, {\"index\": 4, \"Grupo de edad\": \"70-79\", \"fecha (a\\u00f1o-mes-d\\u00eda)\": \"2020-04-08\", \"casos confirmados\": 263}, {\"index\": 5, \"Grupo de edad\": \">=80\", \"fecha (a\\u00f1o-mes-d\\u00eda)\": \"2020-04-08\", \"casos confirmados\": 112}, {\"index\": 0, \"Grupo de edad\": \"<=39\", \"fecha (a\\u00f1o-mes-d\\u00eda)\": \"2020-04-09\", \"casos confirmados\": 2837}, {\"index\": 1, \"Grupo de edad\": \"40-49\", \"fecha (a\\u00f1o-mes-d\\u00eda)\": \"2020-04-09\", \"casos confirmados\": 1153}, {\"index\": 2, \"Grupo de edad\": \"50-59\", \"fecha (a\\u00f1o-mes-d\\u00eda)\": \"2020-04-09\", \"casos confirmados\": 903}, {\"index\": 3, \"Grupo de edad\": \"60-69\", \"fecha (a\\u00f1o-mes-d\\u00eda)\": \"2020-04-09\", \"casos confirmados\": 502}, {\"index\": 4, \"Grupo de edad\": \"70-79\", \"fecha (a\\u00f1o-mes-d\\u00eda)\": \"2020-04-09\", \"casos confirmados\": 284}, {\"index\": 5, \"Grupo de edad\": \">=80\", \"fecha (a\\u00f1o-mes-d\\u00eda)\": \"2020-04-09\", \"casos confirmados\": 131}, {\"index\": 0, \"Grupo de edad\": \"<=39\", \"fecha (a\\u00f1o-mes-d\\u00eda)\": \"2020-04-10\", \"casos confirmados\": 3084}, {\"index\": 1, \"Grupo de edad\": \"40-49\", \"fecha (a\\u00f1o-mes-d\\u00eda)\": \"2020-04-10\", \"casos confirmados\": 1227}, {\"index\": 2, \"Grupo de edad\": \"50-59\", \"fecha (a\\u00f1o-mes-d\\u00eda)\": \"2020-04-10\", \"casos confirmados\": 975}, {\"index\": 3, \"Grupo de edad\": \"60-69\", \"fecha (a\\u00f1o-mes-d\\u00eda)\": \"2020-04-10\", \"casos confirmados\": 544}, {\"index\": 4, \"Grupo de edad\": \"70-79\", \"fecha (a\\u00f1o-mes-d\\u00eda)\": \"2020-04-10\", \"casos confirmados\": 309}, {\"index\": 5, \"Grupo de edad\": \">=80\", \"fecha (a\\u00f1o-mes-d\\u00eda)\": \"2020-04-10\", \"casos confirmados\": 153}, {\"index\": 0, \"Grupo de edad\": \"<=39\", \"fecha (a\\u00f1o-mes-d\\u00eda)\": \"2020-04-11\", \"casos confirmados\": 3302}, {\"index\": 1, \"Grupo de edad\": \"40-49\", \"fecha (a\\u00f1o-mes-d\\u00eda)\": \"2020-04-11\", \"casos confirmados\": 1297}, {\"index\": 2, \"Grupo de edad\": \"50-59\", \"fecha (a\\u00f1o-mes-d\\u00eda)\": \"2020-04-11\", \"casos confirmados\": 1022}, {\"index\": 3, \"Grupo de edad\": \"60-69\", \"fecha (a\\u00f1o-mes-d\\u00eda)\": \"2020-04-11\", \"casos confirmados\": 584}, {\"index\": 4, \"Grupo de edad\": \"70-79\", \"fecha (a\\u00f1o-mes-d\\u00eda)\": \"2020-04-11\", \"casos confirmados\": 328}, {\"index\": 5, \"Grupo de edad\": \">=80\", \"fecha (a\\u00f1o-mes-d\\u00eda)\": \"2020-04-11\", \"casos confirmados\": 169}, {\"index\": 0, \"Grupo de edad\": \"<=39\", \"fecha (a\\u00f1o-mes-d\\u00eda)\": \"2020-04-12\", \"casos confirmados\": 3454}, {\"index\": 1, \"Grupo de edad\": \"40-49\", \"fecha (a\\u00f1o-mes-d\\u00eda)\": \"2020-04-12\", \"casos confirmados\": 1361}, {\"index\": 2, \"Grupo de edad\": \"50-59\", \"fecha (a\\u00f1o-mes-d\\u00eda)\": \"2020-04-12\", \"casos confirmados\": 1068}, {\"index\": 3, \"Grupo de edad\": \"60-69\", \"fecha (a\\u00f1o-mes-d\\u00eda)\": \"2020-04-12\", \"casos confirmados\": 611}, {\"index\": 4, \"Grupo de edad\": \"70-79\", \"fecha (a\\u00f1o-mes-d\\u00eda)\": \"2020-04-12\", \"casos confirmados\": 343}, {\"index\": 5, \"Grupo de edad\": \">=80\", \"fecha (a\\u00f1o-mes-d\\u00eda)\": \"2020-04-12\", \"casos confirmados\": 179}, {\"index\": 0, \"Grupo de edad\": \"<=39\", \"fecha (a\\u00f1o-mes-d\\u00eda)\": \"2020-04-13\", \"casos confirmados\": 3646}, {\"index\": 1, \"Grupo de edad\": \"40-49\", \"fecha (a\\u00f1o-mes-d\\u00eda)\": \"2020-04-13\", \"casos confirmados\": 1451}, {\"index\": 2, \"Grupo de edad\": \"50-59\", \"fecha (a\\u00f1o-mes-d\\u00eda)\": \"2020-04-13\", \"casos confirmados\": 1134}, {\"index\": 3, \"Grupo de edad\": \"60-69\", \"fecha (a\\u00f1o-mes-d\\u00eda)\": \"2020-04-13\", \"casos confirmados\": 643}, {\"index\": 4, \"Grupo de edad\": \"70-79\", \"fecha (a\\u00f1o-mes-d\\u00eda)\": \"2020-04-13\", \"casos confirmados\": 351}, {\"index\": 5, \"Grupo de edad\": \">=80\", \"fecha (a\\u00f1o-mes-d\\u00eda)\": \"2020-04-13\", \"casos confirmados\": 187}, {\"index\": 0, \"Grupo de edad\": \"<=39\", \"fecha (a\\u00f1o-mes-d\\u00eda)\": \"2020-04-14\", \"casos confirmados\": 3806}, {\"index\": 1, \"Grupo de edad\": \"40-49\", \"fecha (a\\u00f1o-mes-d\\u00eda)\": \"2020-04-14\", \"casos confirmados\": 1488}, {\"index\": 2, \"Grupo de edad\": \"50-59\", \"fecha (a\\u00f1o-mes-d\\u00eda)\": \"2020-04-14\", \"casos confirmados\": 1173}, {\"index\": 3, \"Grupo de edad\": \"60-69\", \"fecha (a\\u00f1o-mes-d\\u00eda)\": \"2020-04-14\", \"casos confirmados\": 686}, {\"index\": 4, \"Grupo de edad\": \"70-79\", \"fecha (a\\u00f1o-mes-d\\u00eda)\": \"2020-04-14\", \"casos confirmados\": 366}, {\"index\": 5, \"Grupo de edad\": \">=80\", \"fecha (a\\u00f1o-mes-d\\u00eda)\": \"2020-04-14\", \"casos confirmados\": 197}, {\"index\": 0, \"Grupo de edad\": \"<=39\", \"fecha (a\\u00f1o-mes-d\\u00eda)\": \"2020-04-15\", \"casos confirmados\": 4052}, {\"index\": 1, \"Grupo de edad\": \"40-49\", \"fecha (a\\u00f1o-mes-d\\u00eda)\": \"2020-04-15\", \"casos confirmados\": 1582}, {\"index\": 2, \"Grupo de edad\": \"50-59\", \"fecha (a\\u00f1o-mes-d\\u00eda)\": \"2020-04-15\", \"casos confirmados\": 1251}, {\"index\": 3, \"Grupo de edad\": \"60-69\", \"fecha (a\\u00f1o-mes-d\\u00eda)\": \"2020-04-15\", \"casos confirmados\": 726}, {\"index\": 4, \"Grupo de edad\": \"70-79\", \"fecha (a\\u00f1o-mes-d\\u00eda)\": \"2020-04-15\", \"casos confirmados\": 396}, {\"index\": 5, \"Grupo de edad\": \">=80\", \"fecha (a\\u00f1o-mes-d\\u00eda)\": \"2020-04-15\", \"casos confirmados\": 209}, {\"index\": 0, \"Grupo de edad\": \"<=39\", \"fecha (a\\u00f1o-mes-d\\u00eda)\": \"2020-04-16\", \"casos confirmados\": 4306}, {\"index\": 1, \"Grupo de edad\": \"40-49\", \"fecha (a\\u00f1o-mes-d\\u00eda)\": \"2020-04-16\", \"casos confirmados\": 1684}, {\"index\": 2, \"Grupo de edad\": \"50-59\", \"fecha (a\\u00f1o-mes-d\\u00eda)\": \"2020-04-16\", \"casos confirmados\": 1341}, {\"index\": 3, \"Grupo de edad\": \"60-69\", \"fecha (a\\u00f1o-mes-d\\u00eda)\": \"2020-04-16\", \"casos confirmados\": 766}, {\"index\": 4, \"Grupo de edad\": \"70-79\", \"fecha (a\\u00f1o-mes-d\\u00eda)\": \"2020-04-16\", \"casos confirmados\": 422}, {\"index\": 5, \"Grupo de edad\": \">=80\", \"fecha (a\\u00f1o-mes-d\\u00eda)\": \"2020-04-16\", \"casos confirmados\": 221}, {\"index\": 0, \"Grupo de edad\": \"<=39\", \"fecha (a\\u00f1o-mes-d\\u00eda)\": \"2020-04-17\", \"casos confirmados\": 4555}, {\"index\": 1, \"Grupo de edad\": \"40-49\", \"fecha (a\\u00f1o-mes-d\\u00eda)\": \"2020-04-17\", \"casos confirmados\": 1781}, {\"index\": 2, \"Grupo de edad\": \"50-59\", \"fecha (a\\u00f1o-mes-d\\u00eda)\": \"2020-04-17\", \"casos confirmados\": 1408}, {\"index\": 3, \"Grupo de edad\": \"60-69\", \"fecha (a\\u00f1o-mes-d\\u00eda)\": \"2020-04-17\", \"casos confirmados\": 819}, {\"index\": 4, \"Grupo de edad\": \"70-79\", \"fecha (a\\u00f1o-mes-d\\u00eda)\": \"2020-04-17\", \"casos confirmados\": 451}, {\"index\": 5, \"Grupo de edad\": \">=80\", \"fecha (a\\u00f1o-mes-d\\u00eda)\": \"2020-04-17\", \"casos confirmados\": 238}, {\"index\": 0, \"Grupo de edad\": \"<=39\", \"fecha (a\\u00f1o-mes-d\\u00eda)\": \"2020-04-18\", \"casos confirmados\": 4811}, {\"index\": 1, \"Grupo de edad\": \"40-49\", \"fecha (a\\u00f1o-mes-d\\u00eda)\": \"2020-04-18\", \"casos confirmados\": 1855}, {\"index\": 2, \"Grupo de edad\": \"50-59\", \"fecha (a\\u00f1o-mes-d\\u00eda)\": \"2020-04-18\", \"casos confirmados\": 1477}, {\"index\": 3, \"Grupo de edad\": \"60-69\", \"fecha (a\\u00f1o-mes-d\\u00eda)\": \"2020-04-18\", \"casos confirmados\": 854}, {\"index\": 4, \"Grupo de edad\": \"70-79\", \"fecha (a\\u00f1o-mes-d\\u00eda)\": \"2020-04-18\", \"casos confirmados\": 480}, {\"index\": 5, \"Grupo de edad\": \">=80\", \"fecha (a\\u00f1o-mes-d\\u00eda)\": \"2020-04-18\", \"casos confirmados\": 253}, {\"index\": 0, \"Grupo de edad\": \"<=39\", \"fecha (a\\u00f1o-mes-d\\u00eda)\": \"2020-04-19\", \"casos confirmados\": 4999}, {\"index\": 1, \"Grupo de edad\": \"40-49\", \"fecha (a\\u00f1o-mes-d\\u00eda)\": \"2020-04-19\", \"casos confirmados\": 1926}, {\"index\": 2, \"Grupo de edad\": \"50-59\", \"fecha (a\\u00f1o-mes-d\\u00eda)\": \"2020-04-19\", \"casos confirmados\": 1522}, {\"index\": 3, \"Grupo de edad\": \"60-69\", \"fecha (a\\u00f1o-mes-d\\u00eda)\": \"2020-04-19\", \"casos confirmados\": 873}, {\"index\": 4, \"Grupo de edad\": \"70-79\", \"fecha (a\\u00f1o-mes-d\\u00eda)\": \"2020-04-19\", \"casos confirmados\": 497}, {\"index\": 5, \"Grupo de edad\": \">=80\", \"fecha (a\\u00f1o-mes-d\\u00eda)\": \"2020-04-19\", \"casos confirmados\": 271}, {\"index\": 0, \"Grupo de edad\": \"<=39\", \"fecha (a\\u00f1o-mes-d\\u00eda)\": \"2020-04-20\", \"casos confirmados\": 5200}, {\"index\": 1, \"Grupo de edad\": \"40-49\", \"fecha (a\\u00f1o-mes-d\\u00eda)\": \"2020-04-20\", \"casos confirmados\": 1979}, {\"index\": 2, \"Grupo de edad\": \"50-59\", \"fecha (a\\u00f1o-mes-d\\u00eda)\": \"2020-04-20\", \"casos confirmados\": 1572}, {\"index\": 3, \"Grupo de edad\": \"60-69\", \"fecha (a\\u00f1o-mes-d\\u00eda)\": \"2020-04-20\", \"casos confirmados\": 901}, {\"index\": 4, \"Grupo de edad\": \"70-79\", \"fecha (a\\u00f1o-mes-d\\u00eda)\": \"2020-04-20\", \"casos confirmados\": 515}, {\"index\": 5, \"Grupo de edad\": \">=80\", \"fecha (a\\u00f1o-mes-d\\u00eda)\": \"2020-04-20\", \"casos confirmados\": 284}, {\"index\": 0, \"Grupo de edad\": \"<=39\", \"fecha (a\\u00f1o-mes-d\\u00eda)\": \"2020-04-21\", \"casos confirmados\": 5434}, {\"index\": 1, \"Grupo de edad\": \"40-49\", \"fecha (a\\u00f1o-mes-d\\u00eda)\": \"2020-04-21\", \"casos confirmados\": 2029}, {\"index\": 2, \"Grupo de edad\": \"50-59\", \"fecha (a\\u00f1o-mes-d\\u00eda)\": \"2020-04-21\", \"casos confirmados\": 1620}, {\"index\": 3, \"Grupo de edad\": \"60-69\", \"fecha (a\\u00f1o-mes-d\\u00eda)\": \"2020-04-21\", \"casos confirmados\": 933}, {\"index\": 4, \"Grupo de edad\": \"70-79\", \"fecha (a\\u00f1o-mes-d\\u00eda)\": \"2020-04-21\", \"casos confirmados\": 528}, {\"index\": 5, \"Grupo de edad\": \">=80\", \"fecha (a\\u00f1o-mes-d\\u00eda)\": \"2020-04-21\", \"casos confirmados\": 288}, {\"index\": 0, \"Grupo de edad\": \"<=39\", \"fecha (a\\u00f1o-mes-d\\u00eda)\": \"2020-04-22\", \"casos confirmados\": 5682}, {\"index\": 1, \"Grupo de edad\": \"40-49\", \"fecha (a\\u00f1o-mes-d\\u00eda)\": \"2020-04-22\", \"casos confirmados\": 2102}, {\"index\": 2, \"Grupo de edad\": \"50-59\", \"fecha (a\\u00f1o-mes-d\\u00eda)\": \"2020-04-22\", \"casos confirmados\": 1693}, {\"index\": 3, \"Grupo de edad\": \"60-69\", \"fecha (a\\u00f1o-mes-d\\u00eda)\": \"2020-04-22\", \"casos confirmados\": 971}, {\"index\": 4, \"Grupo de edad\": \"70-79\", \"fecha (a\\u00f1o-mes-d\\u00eda)\": \"2020-04-22\", \"casos confirmados\": 544}, {\"index\": 5, \"Grupo de edad\": \">=80\", \"fecha (a\\u00f1o-mes-d\\u00eda)\": \"2020-04-22\", \"casos confirmados\": 304}, {\"index\": 0, \"Grupo de edad\": \"<=39\", \"fecha (a\\u00f1o-mes-d\\u00eda)\": \"2020-04-23\", \"casos confirmados\": 5951}, {\"index\": 1, \"Grupo de edad\": \"40-49\", \"fecha (a\\u00f1o-mes-d\\u00eda)\": \"2020-04-23\", \"casos confirmados\": 2194}, {\"index\": 2, \"Grupo de edad\": \"50-59\", \"fecha (a\\u00f1o-mes-d\\u00eda)\": \"2020-04-23\", \"casos confirmados\": 1769}, {\"index\": 3, \"Grupo de edad\": \"60-69\", \"fecha (a\\u00f1o-mes-d\\u00eda)\": \"2020-04-23\", \"casos confirmados\": 1017}, {\"index\": 4, \"Grupo de edad\": \"70-79\", \"fecha (a\\u00f1o-mes-d\\u00eda)\": \"2020-04-23\", \"casos confirmados\": 561}, {\"index\": 5, \"Grupo de edad\": \">=80\", \"fecha (a\\u00f1o-mes-d\\u00eda)\": \"2020-04-23\", \"casos confirmados\": 320}, {\"index\": 0, \"Grupo de edad\": \"<=39\", \"fecha (a\\u00f1o-mes-d\\u00eda)\": \"2020-04-24\", \"casos confirmados\": 6178}, {\"index\": 1, \"Grupo de edad\": \"40-49\", \"fecha (a\\u00f1o-mes-d\\u00eda)\": \"2020-04-24\", \"casos confirmados\": 2261}, {\"index\": 2, \"Grupo de edad\": \"50-59\", \"fecha (a\\u00f1o-mes-d\\u00eda)\": \"2020-04-24\", \"casos confirmados\": 1829}, {\"index\": 3, \"Grupo de edad\": \"60-69\", \"fecha (a\\u00f1o-mes-d\\u00eda)\": \"2020-04-24\", \"casos confirmados\": 1048}, {\"index\": 4, \"Grupo de edad\": \"70-79\", \"fecha (a\\u00f1o-mes-d\\u00eda)\": \"2020-04-24\", \"casos confirmados\": 572}, {\"index\": 5, \"Grupo de edad\": \">=80\", \"fecha (a\\u00f1o-mes-d\\u00eda)\": \"2020-04-24\", \"casos confirmados\": 326}, {\"index\": 0, \"Grupo de edad\": \"<=39\", \"fecha (a\\u00f1o-mes-d\\u00eda)\": \"2020-04-25\", \"casos confirmados\": 6495}, {\"index\": 1, \"Grupo de edad\": \"40-49\", \"fecha (a\\u00f1o-mes-d\\u00eda)\": \"2020-04-25\", \"casos confirmados\": 2357}, {\"index\": 2, \"Grupo de edad\": \"50-59\", \"fecha (a\\u00f1o-mes-d\\u00eda)\": \"2020-04-25\", \"casos confirmados\": 1913}, {\"index\": 3, \"Grupo de edad\": \"60-69\", \"fecha (a\\u00f1o-mes-d\\u00eda)\": \"2020-04-25\", \"casos confirmados\": 1083}, {\"index\": 4, \"Grupo de edad\": \"70-79\", \"fecha (a\\u00f1o-mes-d\\u00eda)\": \"2020-04-25\", \"casos confirmados\": 592}, {\"index\": 5, \"Grupo de edad\": \">=80\", \"fecha (a\\u00f1o-mes-d\\u00eda)\": \"2020-04-25\", \"casos confirmados\": 345}, {\"index\": 0, \"Grupo de edad\": \"<=39\", \"fecha (a\\u00f1o-mes-d\\u00eda)\": \"2020-04-26\", \"casos confirmados\": 6772}, {\"index\": 1, \"Grupo de edad\": \"40-49\", \"fecha (a\\u00f1o-mes-d\\u00eda)\": \"2020-04-26\", \"casos confirmados\": 2421}, {\"index\": 2, \"Grupo de edad\": \"50-59\", \"fecha (a\\u00f1o-mes-d\\u00eda)\": \"2020-04-26\", \"casos confirmados\": 1991}, {\"index\": 3, \"Grupo de edad\": \"60-69\", \"fecha (a\\u00f1o-mes-d\\u00eda)\": \"2020-04-26\", \"casos confirmados\": 1115}, {\"index\": 4, \"Grupo de edad\": \"70-79\", \"fecha (a\\u00f1o-mes-d\\u00eda)\": \"2020-04-26\", \"casos confirmados\": 616}, {\"index\": 5, \"Grupo de edad\": \">=80\", \"fecha (a\\u00f1o-mes-d\\u00eda)\": \"2020-04-26\", \"casos confirmados\": 369}, {\"index\": 0, \"Grupo de edad\": \"<=39\", \"fecha (a\\u00f1o-mes-d\\u00eda)\": \"2020-04-27\", \"casos confirmados\": 7006}, {\"index\": 1, \"Grupo de edad\": \"40-49\", \"fecha (a\\u00f1o-mes-d\\u00eda)\": \"2020-04-27\", \"casos confirmados\": 2492}, {\"index\": 2, \"Grupo de edad\": \"50-59\", \"fecha (a\\u00f1o-mes-d\\u00eda)\": \"2020-04-27\", \"casos confirmados\": 2036}, {\"index\": 3, \"Grupo de edad\": \"60-69\", \"fecha (a\\u00f1o-mes-d\\u00eda)\": \"2020-04-27\", \"casos confirmados\": 1156}, {\"index\": 4, \"Grupo de edad\": \"70-79\", \"fecha (a\\u00f1o-mes-d\\u00eda)\": \"2020-04-27\", \"casos confirmados\": 627}, {\"index\": 5, \"Grupo de edad\": \">=80\", \"fecha (a\\u00f1o-mes-d\\u00eda)\": \"2020-04-27\", \"casos confirmados\": 387}, {\"index\": 0, \"Grupo de edad\": \"<=39\", \"fecha (a\\u00f1o-mes-d\\u00eda)\": \"2020-04-28\", \"casos confirmados\": 7358}, {\"index\": 1, \"Grupo de edad\": \"40-49\", \"fecha (a\\u00f1o-mes-d\\u00eda)\": \"2020-04-28\", \"casos confirmados\": 2597}, {\"index\": 2, \"Grupo de edad\": \"50-59\", \"fecha (a\\u00f1o-mes-d\\u00eda)\": \"2020-04-28\", \"casos confirmados\": 2118}, {\"index\": 3, \"Grupo de edad\": \"60-69\", \"fecha (a\\u00f1o-mes-d\\u00eda)\": \"2020-04-28\", \"casos confirmados\": 1206}, {\"index\": 4, \"Grupo de edad\": \"70-79\", \"fecha (a\\u00f1o-mes-d\\u00eda)\": \"2020-04-28\", \"casos confirmados\": 664}, {\"index\": 5, \"Grupo de edad\": \">=80\", \"fecha (a\\u00f1o-mes-d\\u00eda)\": \"2020-04-28\", \"casos confirmados\": 419}, {\"index\": 0, \"Grupo de edad\": \"<=39\", \"fecha (a\\u00f1o-mes-d\\u00eda)\": \"2020-05-01\", \"casos confirmados\": 8841}, {\"index\": 1, \"Grupo de edad\": \"40-49\", \"fecha (a\\u00f1o-mes-d\\u00eda)\": \"2020-05-01\", \"casos confirmados\": 3038}, {\"index\": 2, \"Grupo de edad\": \"50-59\", \"fecha (a\\u00f1o-mes-d\\u00eda)\": \"2020-05-01\", \"casos confirmados\": 2507}, {\"index\": 3, \"Grupo de edad\": \"60-69\", \"fecha (a\\u00f1o-mes-d\\u00eda)\": \"2020-05-01\", \"casos confirmados\": 1387}, {\"index\": 4, \"Grupo de edad\": \"70-79\", \"fecha (a\\u00f1o-mes-d\\u00eda)\": \"2020-05-01\", \"casos confirmados\": 746}, {\"index\": 5, \"Grupo de edad\": \">=80\", \"fecha (a\\u00f1o-mes-d\\u00eda)\": \"2020-05-01\", \"casos confirmados\": 489}, {\"index\": 0, \"Grupo de edad\": \"<=39\", \"fecha (a\\u00f1o-mes-d\\u00eda)\": \"2020-05-02\", \"casos confirmados\": 9636}, {\"index\": 1, \"Grupo de edad\": \"40-49\", \"fecha (a\\u00f1o-mes-d\\u00eda)\": \"2020-05-02\", \"casos confirmados\": 3287}, {\"index\": 2, \"Grupo de edad\": \"50-59\", \"fecha (a\\u00f1o-mes-d\\u00eda)\": \"2020-05-02\", \"casos confirmados\": 2709}, {\"index\": 3, \"Grupo de edad\": \"60-69\", \"fecha (a\\u00f1o-mes-d\\u00eda)\": \"2020-05-02\", \"casos confirmados\": 1503}, {\"index\": 4, \"Grupo de edad\": \"70-79\", \"fecha (a\\u00f1o-mes-d\\u00eda)\": \"2020-05-02\", \"casos confirmados\": 787}, {\"index\": 5, \"Grupo de edad\": \">=80\", \"fecha (a\\u00f1o-mes-d\\u00eda)\": \"2020-05-02\", \"casos confirmados\": 511}, {\"index\": 0, \"Grupo de edad\": \"<=39\", \"fecha (a\\u00f1o-mes-d\\u00eda)\": \"2020-05-04\", \"casos confirmados\": 10795}, {\"index\": 1, \"Grupo de edad\": \"40-49\", \"fecha (a\\u00f1o-mes-d\\u00eda)\": \"2020-05-04\", \"casos confirmados\": 3625}, {\"index\": 2, \"Grupo de edad\": \"50-59\", \"fecha (a\\u00f1o-mes-d\\u00eda)\": \"2020-05-04\", \"casos confirmados\": 3023}, {\"index\": 3, \"Grupo de edad\": \"60-69\", \"fecha (a\\u00f1o-mes-d\\u00eda)\": \"2020-05-04\", \"casos confirmados\": 1680}, {\"index\": 4, \"Grupo de edad\": \"70-79\", \"fecha (a\\u00f1o-mes-d\\u00eda)\": \"2020-05-04\", \"casos confirmados\": 877}, {\"index\": 5, \"Grupo de edad\": \">=80\", \"fecha (a\\u00f1o-mes-d\\u00eda)\": \"2020-05-04\", \"casos confirmados\": 567}, {\"index\": 0, \"Grupo de edad\": \"<=39\", \"fecha (a\\u00f1o-mes-d\\u00eda)\": \"2020-05-06\", \"casos confirmados\": 12183}, {\"index\": 1, \"Grupo de edad\": \"40-49\", \"fecha (a\\u00f1o-mes-d\\u00eda)\": \"2020-05-06\", \"casos confirmados\": 4029}, {\"index\": 2, \"Grupo de edad\": \"50-59\", \"fecha (a\\u00f1o-mes-d\\u00eda)\": \"2020-05-06\", \"casos confirmados\": 3361}, {\"index\": 3, \"Grupo de edad\": \"60-69\", \"fecha (a\\u00f1o-mes-d\\u00eda)\": \"2020-05-06\", \"casos confirmados\": 1864}, {\"index\": 4, \"Grupo de edad\": \"70-79\", \"fecha (a\\u00f1o-mes-d\\u00eda)\": \"2020-05-06\", \"casos confirmados\": 952}, {\"index\": 5, \"Grupo de edad\": \">=80\", \"fecha (a\\u00f1o-mes-d\\u00eda)\": \"2020-05-06\", \"casos confirmados\": 622}, {\"index\": 0, \"Grupo de edad\": \"<=39\", \"fecha (a\\u00f1o-mes-d\\u00eda)\": \"2020-05-08\", \"casos confirmados\": 13750}, {\"index\": 1, \"Grupo de edad\": \"40-49\", \"fecha (a\\u00f1o-mes-d\\u00eda)\": \"2020-05-08\", \"casos confirmados\": 4556}, {\"index\": 2, \"Grupo de edad\": \"50-59\", \"fecha (a\\u00f1o-mes-d\\u00eda)\": \"2020-05-08\", \"casos confirmados\": 3768}, {\"index\": 3, \"Grupo de edad\": \"60-69\", \"fecha (a\\u00f1o-mes-d\\u00eda)\": \"2020-05-08\", \"casos confirmados\": 2138}, {\"index\": 4, \"Grupo de edad\": \"70-79\", \"fecha (a\\u00f1o-mes-d\\u00eda)\": \"2020-05-08\", \"casos confirmados\": 1052}, {\"index\": 5, \"Grupo de edad\": \">=80\", \"fecha (a\\u00f1o-mes-d\\u00eda)\": \"2020-05-08\", \"casos confirmados\": 688}, {\"index\": 0, \"Grupo de edad\": \"<=39\", \"fecha (a\\u00f1o-mes-d\\u00eda)\": \"2020-05-11\", \"casos confirmados\": 16047}, {\"index\": 1, \"Grupo de edad\": \"40-49\", \"fecha (a\\u00f1o-mes-d\\u00eda)\": \"2020-05-11\", \"casos confirmados\": 5219}, {\"index\": 2, \"Grupo de edad\": \"50-59\", \"fecha (a\\u00f1o-mes-d\\u00eda)\": \"2020-05-11\", \"casos confirmados\": 4314}, {\"index\": 3, \"Grupo de edad\": \"60-69\", \"fecha (a\\u00f1o-mes-d\\u00eda)\": \"2020-05-11\", \"casos confirmados\": 2470}, {\"index\": 4, \"Grupo de edad\": \"70-79\", \"fecha (a\\u00f1o-mes-d\\u00eda)\": \"2020-05-11\", \"casos confirmados\": 1208}, {\"index\": 5, \"Grupo de edad\": \">=80\", \"fecha (a\\u00f1o-mes-d\\u00eda)\": \"2020-05-11\", \"casos confirmados\": 789}, {\"index\": 0, \"Grupo de edad\": \"<=39\", \"fecha (a\\u00f1o-mes-d\\u00eda)\": \"2020-05-15\", \"casos confirmados\": 21306}, {\"index\": 1, \"Grupo de edad\": \"40-49\", \"fecha (a\\u00f1o-mes-d\\u00eda)\": \"2020-05-15\", \"casos confirmados\": 6821}, {\"index\": 2, \"Grupo de edad\": \"50-59\", \"fecha (a\\u00f1o-mes-d\\u00eda)\": \"2020-05-15\", \"casos confirmados\": 5674}, {\"index\": 3, \"Grupo de edad\": \"60-69\", \"fecha (a\\u00f1o-mes-d\\u00eda)\": \"2020-05-15\", \"casos confirmados\": 3190}, {\"index\": 4, \"Grupo de edad\": \"70-79\", \"fecha (a\\u00f1o-mes-d\\u00eda)\": \"2020-05-15\", \"casos confirmados\": 1541}, {\"index\": 5, \"Grupo de edad\": \">=80\", \"fecha (a\\u00f1o-mes-d\\u00eda)\": \"2020-05-15\", \"casos confirmados\": 979}, {\"index\": 0, \"Grupo de edad\": \"<=39\", \"fecha (a\\u00f1o-mes-d\\u00eda)\": \"2020-05-18\", \"casos confirmados\": 24830}, {\"index\": 1, \"Grupo de edad\": \"40-49\", \"fecha (a\\u00f1o-mes-d\\u00eda)\": \"2020-05-18\", \"casos confirmados\": 7953}, {\"index\": 2, \"Grupo de edad\": \"50-59\", \"fecha (a\\u00f1o-mes-d\\u00eda)\": \"2020-05-18\", \"casos confirmados\": 6624}, {\"index\": 3, \"Grupo de edad\": \"60-69\", \"fecha (a\\u00f1o-mes-d\\u00eda)\": \"2020-05-18\", \"casos confirmados\": 3748}, {\"index\": 4, \"Grupo de edad\": \"70-79\", \"fecha (a\\u00f1o-mes-d\\u00eda)\": \"2020-05-18\", \"casos confirmados\": 1785}, {\"index\": 5, \"Grupo de edad\": \">=80\", \"fecha (a\\u00f1o-mes-d\\u00eda)\": \"2020-05-18\", \"casos confirmados\": 1108}]}}, {\"mode\": \"vega-lite\"});\n",
       "</script>"
      ],
      "text/plain": [
       "alt.HConcatChart(...)"
      ]
     },
     "execution_count": 49,
     "metadata": {},
     "output_type": "execute_result"
    }
   ],
   "source": [
    "#hide_input\n",
    "input_dropdown = alt.binding_select(options=data['Grupo de edad'].unique())\n",
    "selection1 = alt.selection_single(fields=['Grupo de edad'], bind=input_dropdown, name=' ')\n",
    "selection2 = alt.selection_multi(fields=['Grupo de edad'], on='mouseover')\n",
    "\n",
    "color = alt.condition(selection1 | selection2,\n",
    "                    alt.Color('Grupo de edad:N', scale=alt.Scale(scheme='tableau20'), legend=None),\n",
    "                    alt.value('lightgray'))\n",
    "\n",
    "bars = alt.Chart(cases).mark_bar().encode(\n",
    "    x = 'fecha (año-mes-día):N',\n",
    "    y = 'casos confirmados:Q',\n",
    "    color = color,\n",
    "    tooltip = ['fecha (año-mes-día)', 'Grupo de edad', 'casos confirmados'],\n",
    "    order=alt.Order(\n",
    "    # Sort the segments of the bars by this field\n",
    "    'index',\n",
    "    sort='descending'\n",
    "    )\n",
    ").add_selection(\n",
    "    selection1, selection2\n",
    ").transform_filter(\n",
    "    selection1\n",
    ")\n",
    "\n",
    "legend = alt.Chart(cases).mark_point().encode(\n",
    "    y=alt.Y('Grupo de edad', axis=alt.Axis(orient='right'), sort=grupo_de_edad),\n",
    "    color=color\n",
    ").add_selection(\n",
    "    selection1, selection2\n",
    ")\n",
    "\n",
    "bars.properties(\n",
    "    title = 'COVID-19 en Chile: Evolución de casos confirmados por rango de edad',\n",
    "    width = 600\n",
    ") | legend"
   ]
  },
  {
   "cell_type": "markdown",
   "metadata": {},
   "source": [
    "##### hide_input\n",
    "selection2 = alt.selection_multi(fields=['Grupo de edad'], on='mouseover')\n",
    "\n",
    "color = alt.condition(selection2,\n",
    "                    alt.Color('Grupo de edad:N', scale=alt.Scale(scheme='tableau20'), legend=None),\n",
    "                    alt.value('lightgray'))\n",
    "\n",
    "bars = alt.Chart(cases).mark_area().encode(\n",
    "    x = 'fecha (año-mes-día):N',\n",
    "    y = alt.Y('casos confirmados:Q', stack=\"normalize\"),\n",
    "    color = color,\n",
    "    tooltip = ['fecha (año-mes-día)', 'Grupo de edad', 'casos confirmados'],\n",
    "    order=alt.Order(\n",
    "    # Sort the segments of the bars by this field\n",
    "    'index',\n",
    "    sort='descending'\n",
    "    )\n",
    ").add_selection(\n",
    "    selection2\n",
    ")\n",
    "\n",
    "legend = alt.Chart(cases).mark_point().encode(\n",
    "    y=alt.Y('Grupo de edad', axis=alt.Axis(orient='right'), sort=grupo_de_edad),\n",
    "    color=color\n",
    ").add_selection(\n",
    "    selection2\n",
    ")\n",
    "\n",
    "bars.properties(\n",
    "    title = 'COVID-19 en Chile: Evolución de casos confirmados por rango de edad',\n",
    "    width = 600\n",
    ") | legend"
   ]
  },
  {
   "cell_type": "markdown",
   "metadata": {
    "collapsed": true
   },
   "source": [
    "# Evolución de fallecidos confirmados por rango de edad"
   ]
  },
  {
   "cell_type": "code",
   "execution_count": 51,
   "metadata": {},
   "outputs": [],
   "source": [
    "#hide\n",
    "data = deaths_raw.reset_index().melt(['index', 'Grupo de edad'])"
   ]
  },
  {
   "cell_type": "code",
   "execution_count": 52,
   "metadata": {},
   "outputs": [],
   "source": [
    "#hide\n",
    "data = data.rename(columns={'variable': \"fecha (año-mes-día)\", 'value': \"fallecidos confirmados\"})"
   ]
  },
  {
   "cell_type": "code",
   "execution_count": 53,
   "metadata": {},
   "outputs": [
    {
     "data": {
      "text/html": [
       "\n",
       "<div id=\"altair-viz-481610895dca42e496009137274aaa67\"></div>\n",
       "<script type=\"text/javascript\">\n",
       "  (function(spec, embedOpt){\n",
       "    let outputDiv = document.currentScript.previousElementSibling;\n",
       "    if (outputDiv.id !== \"altair-viz-481610895dca42e496009137274aaa67\") {\n",
       "      outputDiv = document.getElementById(\"altair-viz-481610895dca42e496009137274aaa67\");\n",
       "    }\n",
       "    const paths = {\n",
       "      \"vega\": \"https://cdn.jsdelivr.net/npm//vega@5?noext\",\n",
       "      \"vega-lib\": \"https://cdn.jsdelivr.net/npm//vega-lib?noext\",\n",
       "      \"vega-lite\": \"https://cdn.jsdelivr.net/npm//vega-lite@4.8.1?noext\",\n",
       "      \"vega-embed\": \"https://cdn.jsdelivr.net/npm//vega-embed@6?noext\",\n",
       "    };\n",
       "\n",
       "    function loadScript(lib) {\n",
       "      return new Promise(function(resolve, reject) {\n",
       "        var s = document.createElement('script');\n",
       "        s.src = paths[lib];\n",
       "        s.async = true;\n",
       "        s.onload = () => resolve(paths[lib]);\n",
       "        s.onerror = () => reject(`Error loading script: ${paths[lib]}`);\n",
       "        document.getElementsByTagName(\"head\")[0].appendChild(s);\n",
       "      });\n",
       "    }\n",
       "\n",
       "    function showError(err) {\n",
       "      outputDiv.innerHTML = `<div class=\"error\" style=\"color:red;\">${err}</div>`;\n",
       "      throw err;\n",
       "    }\n",
       "\n",
       "    function displayChart(vegaEmbed) {\n",
       "      vegaEmbed(outputDiv, spec, embedOpt)\n",
       "        .catch(err => showError(`Javascript Error: ${err.message}<br>This usually means there's a typo in your chart specification. See the javascript console for the full traceback.`));\n",
       "    }\n",
       "\n",
       "    if(typeof define === \"function\" && define.amd) {\n",
       "      requirejs.config({paths});\n",
       "      require([\"vega-embed\"], displayChart, err => showError(`Error loading script: ${err.message}`));\n",
       "    } else if (typeof vegaEmbed === \"function\") {\n",
       "      displayChart(vegaEmbed);\n",
       "    } else {\n",
       "      loadScript(\"vega\")\n",
       "        .then(() => loadScript(\"vega-lite\"))\n",
       "        .then(() => loadScript(\"vega-embed\"))\n",
       "        .catch(showError)\n",
       "        .then(() => displayChart(vegaEmbed));\n",
       "    }\n",
       "  })({\"config\": {\"view\": {\"continuousWidth\": 400, \"continuousHeight\": 300}}, \"hconcat\": [{\"mark\": \"bar\", \"encoding\": {\"color\": {\"condition\": {\"type\": \"nominal\", \"field\": \"Grupo de edad\", \"legend\": null, \"scale\": {\"scheme\": \"tableau20\"}, \"selection\": {\"or\": [\" \", \"selector003\"]}}, \"value\": \"lightgray\"}, \"order\": {\"type\": \"quantitative\", \"field\": \"index\", \"sort\": \"descending\"}, \"tooltip\": [{\"type\": \"nominal\", \"field\": \"fecha (a\\u00f1o-mes-d\\u00eda)\"}, {\"type\": \"nominal\", \"field\": \"Grupo de edad\"}, {\"type\": \"quantitative\", \"field\": \"fallecidos confirmados\"}], \"x\": {\"type\": \"nominal\", \"field\": \"fecha (a\\u00f1o-mes-d\\u00eda)\"}, \"y\": {\"type\": \"quantitative\", \"field\": \"fallecidos confirmados\"}}, \"selection\": {\" \": {\"type\": \"single\", \"fields\": [\"Grupo de edad\"], \"bind\": {\"input\": \"select\", \"options\": [\"<=39\", \"40-49\", \"50-59\", \"60-69\", \"70-79\", \"80-89\", \">=90\"]}}, \"selector003\": {\"type\": \"multi\", \"fields\": [\"Grupo de edad\"], \"on\": \"mouseover\"}}, \"title\": \"COVID-19 en Chile: Evoluci\\u00f3n de fallecidos confirmados por rango de edad\", \"transform\": [{\"filter\": {\"selection\": \" \"}}], \"width\": 600}, {\"mark\": \"point\", \"encoding\": {\"color\": {\"condition\": {\"type\": \"nominal\", \"field\": \"Grupo de edad\", \"legend\": null, \"scale\": {\"scheme\": \"tableau20\"}, \"selection\": {\"or\": [\" \", \"selector003\"]}}, \"value\": \"lightgray\"}, \"y\": {\"type\": \"nominal\", \"axis\": {\"orient\": \"right\"}, \"field\": \"Grupo de edad\", \"sort\": [\"<=39\", \"40-49\", \"50-59\", \"60-69\", \"70-79\", \"80-89\", \">=90\"]}}, \"selection\": {\" \": {\"type\": \"single\", \"fields\": [\"Grupo de edad\"], \"bind\": {\"input\": \"select\", \"options\": [\"<=39\", \"40-49\", \"50-59\", \"60-69\", \"70-79\", \"80-89\", \">=90\"]}}, \"selector003\": {\"type\": \"multi\", \"fields\": [\"Grupo de edad\"], \"on\": \"mouseover\"}}}], \"data\": {\"name\": \"data-e7fbdd99606b189ed3a066460353f759\"}, \"$schema\": \"https://vega.github.io/schema/vega-lite/v4.8.1.json\", \"datasets\": {\"data-e7fbdd99606b189ed3a066460353f759\": [{\"index\": 0, \"Grupo de edad\": \"<=39\", \"fecha (a\\u00f1o-mes-d\\u00eda)\": \"2020-04-09\", \"fallecidos confirmados\": 2}, {\"index\": 1, \"Grupo de edad\": \"40-49\", \"fecha (a\\u00f1o-mes-d\\u00eda)\": \"2020-04-09\", \"fallecidos confirmados\": 1}, {\"index\": 2, \"Grupo de edad\": \"50-59\", \"fecha (a\\u00f1o-mes-d\\u00eda)\": \"2020-04-09\", \"fallecidos confirmados\": 1}, {\"index\": 3, \"Grupo de edad\": \"60-69\", \"fecha (a\\u00f1o-mes-d\\u00eda)\": \"2020-04-09\", \"fallecidos confirmados\": 9}, {\"index\": 4, \"Grupo de edad\": \"70-79\", \"fecha (a\\u00f1o-mes-d\\u00eda)\": \"2020-04-09\", \"fallecidos confirmados\": 21}, {\"index\": 5, \"Grupo de edad\": \"80-89\", \"fecha (a\\u00f1o-mes-d\\u00eda)\": \"2020-04-09\", \"fallecidos confirmados\": 19}, {\"index\": 6, \"Grupo de edad\": \">=90\", \"fecha (a\\u00f1o-mes-d\\u00eda)\": \"2020-04-09\", \"fallecidos confirmados\": 4}, {\"index\": 0, \"Grupo de edad\": \"<=39\", \"fecha (a\\u00f1o-mes-d\\u00eda)\": \"2020-04-10\", \"fallecidos confirmados\": 2}, {\"index\": 1, \"Grupo de edad\": \"40-49\", \"fecha (a\\u00f1o-mes-d\\u00eda)\": \"2020-04-10\", \"fallecidos confirmados\": 2}, {\"index\": 2, \"Grupo de edad\": \"50-59\", \"fecha (a\\u00f1o-mes-d\\u00eda)\": \"2020-04-10\", \"fallecidos confirmados\": 2}, {\"index\": 3, \"Grupo de edad\": \"60-69\", \"fecha (a\\u00f1o-mes-d\\u00eda)\": \"2020-04-10\", \"fallecidos confirmados\": 10}, {\"index\": 4, \"Grupo de edad\": \"70-79\", \"fecha (a\\u00f1o-mes-d\\u00eda)\": \"2020-04-10\", \"fallecidos confirmados\": 22}, {\"index\": 5, \"Grupo de edad\": \"80-89\", \"fecha (a\\u00f1o-mes-d\\u00eda)\": \"2020-04-10\", \"fallecidos confirmados\": 21}, {\"index\": 6, \"Grupo de edad\": \">=90\", \"fecha (a\\u00f1o-mes-d\\u00eda)\": \"2020-04-10\", \"fallecidos confirmados\": 6}, {\"index\": 0, \"Grupo de edad\": \"<=39\", \"fecha (a\\u00f1o-mes-d\\u00eda)\": \"2020-04-11\", \"fallecidos confirmados\": 3}, {\"index\": 1, \"Grupo de edad\": \"40-49\", \"fecha (a\\u00f1o-mes-d\\u00eda)\": \"2020-04-11\", \"fallecidos confirmados\": 2}, {\"index\": 2, \"Grupo de edad\": \"50-59\", \"fecha (a\\u00f1o-mes-d\\u00eda)\": \"2020-04-11\", \"fallecidos confirmados\": 2}, {\"index\": 3, \"Grupo de edad\": \"60-69\", \"fecha (a\\u00f1o-mes-d\\u00eda)\": \"2020-04-11\", \"fallecidos confirmados\": 12}, {\"index\": 4, \"Grupo de edad\": \"70-79\", \"fecha (a\\u00f1o-mes-d\\u00eda)\": \"2020-04-11\", \"fallecidos confirmados\": 24}, {\"index\": 5, \"Grupo de edad\": \"80-89\", \"fecha (a\\u00f1o-mes-d\\u00eda)\": \"2020-04-11\", \"fallecidos confirmados\": 24}, {\"index\": 6, \"Grupo de edad\": \">=90\", \"fecha (a\\u00f1o-mes-d\\u00eda)\": \"2020-04-11\", \"fallecidos confirmados\": 6}, {\"index\": 0, \"Grupo de edad\": \"<=39\", \"fecha (a\\u00f1o-mes-d\\u00eda)\": \"2020-04-12\", \"fallecidos confirmados\": 3}, {\"index\": 1, \"Grupo de edad\": \"40-49\", \"fecha (a\\u00f1o-mes-d\\u00eda)\": \"2020-04-12\", \"fallecidos confirmados\": 2}, {\"index\": 2, \"Grupo de edad\": \"50-59\", \"fecha (a\\u00f1o-mes-d\\u00eda)\": \"2020-04-12\", \"fallecidos confirmados\": 3}, {\"index\": 3, \"Grupo de edad\": \"60-69\", \"fecha (a\\u00f1o-mes-d\\u00eda)\": \"2020-04-12\", \"fallecidos confirmados\": 12}, {\"index\": 4, \"Grupo de edad\": \"70-79\", \"fecha (a\\u00f1o-mes-d\\u00eda)\": \"2020-04-12\", \"fallecidos confirmados\": 28}, {\"index\": 5, \"Grupo de edad\": \"80-89\", \"fecha (a\\u00f1o-mes-d\\u00eda)\": \"2020-04-12\", \"fallecidos confirmados\": 25}, {\"index\": 6, \"Grupo de edad\": \">=90\", \"fecha (a\\u00f1o-mes-d\\u00eda)\": \"2020-04-12\", \"fallecidos confirmados\": 7}, {\"index\": 0, \"Grupo de edad\": \"<=39\", \"fecha (a\\u00f1o-mes-d\\u00eda)\": \"2020-04-13\", \"fallecidos confirmados\": 3}, {\"index\": 1, \"Grupo de edad\": \"40-49\", \"fecha (a\\u00f1o-mes-d\\u00eda)\": \"2020-04-13\", \"fallecidos confirmados\": 2}, {\"index\": 2, \"Grupo de edad\": \"50-59\", \"fecha (a\\u00f1o-mes-d\\u00eda)\": \"2020-04-13\", \"fallecidos confirmados\": 3}, {\"index\": 3, \"Grupo de edad\": \"60-69\", \"fecha (a\\u00f1o-mes-d\\u00eda)\": \"2020-04-13\", \"fallecidos confirmados\": 12}, {\"index\": 4, \"Grupo de edad\": \"70-79\", \"fecha (a\\u00f1o-mes-d\\u00eda)\": \"2020-04-13\", \"fallecidos confirmados\": 29}, {\"index\": 5, \"Grupo de edad\": \"80-89\", \"fecha (a\\u00f1o-mes-d\\u00eda)\": \"2020-04-13\", \"fallecidos confirmados\": 26}, {\"index\": 6, \"Grupo de edad\": \">=90\", \"fecha (a\\u00f1o-mes-d\\u00eda)\": \"2020-04-13\", \"fallecidos confirmados\": 7}, {\"index\": 0, \"Grupo de edad\": \"<=39\", \"fecha (a\\u00f1o-mes-d\\u00eda)\": \"2020-04-14\", \"fallecidos confirmados\": 3}, {\"index\": 1, \"Grupo de edad\": \"40-49\", \"fecha (a\\u00f1o-mes-d\\u00eda)\": \"2020-04-14\", \"fallecidos confirmados\": 2}, {\"index\": 2, \"Grupo de edad\": \"50-59\", \"fecha (a\\u00f1o-mes-d\\u00eda)\": \"2020-04-14\", \"fallecidos confirmados\": 5}, {\"index\": 3, \"Grupo de edad\": \"60-69\", \"fecha (a\\u00f1o-mes-d\\u00eda)\": \"2020-04-14\", \"fallecidos confirmados\": 12}, {\"index\": 4, \"Grupo de edad\": \"70-79\", \"fecha (a\\u00f1o-mes-d\\u00eda)\": \"2020-04-14\", \"fallecidos confirmados\": 30}, {\"index\": 5, \"Grupo de edad\": \"80-89\", \"fecha (a\\u00f1o-mes-d\\u00eda)\": \"2020-04-14\", \"fallecidos confirmados\": 32}, {\"index\": 6, \"Grupo de edad\": \">=90\", \"fecha (a\\u00f1o-mes-d\\u00eda)\": \"2020-04-14\", \"fallecidos confirmados\": 8}, {\"index\": 0, \"Grupo de edad\": \"<=39\", \"fecha (a\\u00f1o-mes-d\\u00eda)\": \"2020-04-15\", \"fallecidos confirmados\": 3}, {\"index\": 1, \"Grupo de edad\": \"40-49\", \"fecha (a\\u00f1o-mes-d\\u00eda)\": \"2020-04-15\", \"fallecidos confirmados\": 2}, {\"index\": 2, \"Grupo de edad\": \"50-59\", \"fecha (a\\u00f1o-mes-d\\u00eda)\": \"2020-04-15\", \"fallecidos confirmados\": 5}, {\"index\": 3, \"Grupo de edad\": \"60-69\", \"fecha (a\\u00f1o-mes-d\\u00eda)\": \"2020-04-15\", \"fallecidos confirmados\": 12}, {\"index\": 4, \"Grupo de edad\": \"70-79\", \"fecha (a\\u00f1o-mes-d\\u00eda)\": \"2020-04-15\", \"fallecidos confirmados\": 31}, {\"index\": 5, \"Grupo de edad\": \"80-89\", \"fecha (a\\u00f1o-mes-d\\u00eda)\": \"2020-04-15\", \"fallecidos confirmados\": 33}, {\"index\": 6, \"Grupo de edad\": \">=90\", \"fecha (a\\u00f1o-mes-d\\u00eda)\": \"2020-04-15\", \"fallecidos confirmados\": 8}, {\"index\": 0, \"Grupo de edad\": \"<=39\", \"fecha (a\\u00f1o-mes-d\\u00eda)\": \"2020-04-16\", \"fallecidos confirmados\": 3}, {\"index\": 1, \"Grupo de edad\": \"40-49\", \"fecha (a\\u00f1o-mes-d\\u00eda)\": \"2020-04-16\", \"fallecidos confirmados\": 2}, {\"index\": 2, \"Grupo de edad\": \"50-59\", \"fecha (a\\u00f1o-mes-d\\u00eda)\": \"2020-04-16\", \"fallecidos confirmados\": 6}, {\"index\": 3, \"Grupo de edad\": \"60-69\", \"fecha (a\\u00f1o-mes-d\\u00eda)\": \"2020-04-16\", \"fallecidos confirmados\": 14}, {\"index\": 4, \"Grupo de edad\": \"70-79\", \"fecha (a\\u00f1o-mes-d\\u00eda)\": \"2020-04-16\", \"fallecidos confirmados\": 32}, {\"index\": 5, \"Grupo de edad\": \"80-89\", \"fecha (a\\u00f1o-mes-d\\u00eda)\": \"2020-04-16\", \"fallecidos confirmados\": 38}, {\"index\": 6, \"Grupo de edad\": \">=90\", \"fecha (a\\u00f1o-mes-d\\u00eda)\": \"2020-04-16\", \"fallecidos confirmados\": 10}, {\"index\": 0, \"Grupo de edad\": \"<=39\", \"fecha (a\\u00f1o-mes-d\\u00eda)\": \"2020-04-17\", \"fallecidos confirmados\": 4}, {\"index\": 1, \"Grupo de edad\": \"40-49\", \"fecha (a\\u00f1o-mes-d\\u00eda)\": \"2020-04-17\", \"fallecidos confirmados\": 2}, {\"index\": 2, \"Grupo de edad\": \"50-59\", \"fecha (a\\u00f1o-mes-d\\u00eda)\": \"2020-04-17\", \"fallecidos confirmados\": 8}, {\"index\": 3, \"Grupo de edad\": \"60-69\", \"fecha (a\\u00f1o-mes-d\\u00eda)\": \"2020-04-17\", \"fallecidos confirmados\": 16}, {\"index\": 4, \"Grupo de edad\": \"70-79\", \"fecha (a\\u00f1o-mes-d\\u00eda)\": \"2020-04-17\", \"fallecidos confirmados\": 36}, {\"index\": 5, \"Grupo de edad\": \"80-89\", \"fecha (a\\u00f1o-mes-d\\u00eda)\": \"2020-04-17\", \"fallecidos confirmados\": 40}, {\"index\": 6, \"Grupo de edad\": \">=90\", \"fecha (a\\u00f1o-mes-d\\u00eda)\": \"2020-04-17\", \"fallecidos confirmados\": 10}, {\"index\": 0, \"Grupo de edad\": \"<=39\", \"fecha (a\\u00f1o-mes-d\\u00eda)\": \"2020-04-18\", \"fallecidos confirmados\": 4}, {\"index\": 1, \"Grupo de edad\": \"40-49\", \"fecha (a\\u00f1o-mes-d\\u00eda)\": \"2020-04-18\", \"fallecidos confirmados\": 2}, {\"index\": 2, \"Grupo de edad\": \"50-59\", \"fecha (a\\u00f1o-mes-d\\u00eda)\": \"2020-04-18\", \"fallecidos confirmados\": 8}, {\"index\": 3, \"Grupo de edad\": \"60-69\", \"fecha (a\\u00f1o-mes-d\\u00eda)\": \"2020-04-18\", \"fallecidos confirmados\": 17}, {\"index\": 4, \"Grupo de edad\": \"70-79\", \"fecha (a\\u00f1o-mes-d\\u00eda)\": \"2020-04-18\", \"fallecidos confirmados\": 39}, {\"index\": 5, \"Grupo de edad\": \"80-89\", \"fecha (a\\u00f1o-mes-d\\u00eda)\": \"2020-04-18\", \"fallecidos confirmados\": 44}, {\"index\": 6, \"Grupo de edad\": \">=90\", \"fecha (a\\u00f1o-mes-d\\u00eda)\": \"2020-04-18\", \"fallecidos confirmados\": 12}, {\"index\": 0, \"Grupo de edad\": \"<=39\", \"fecha (a\\u00f1o-mes-d\\u00eda)\": \"2020-04-19\", \"fallecidos confirmados\": 4}, {\"index\": 1, \"Grupo de edad\": \"40-49\", \"fecha (a\\u00f1o-mes-d\\u00eda)\": \"2020-04-19\", \"fallecidos confirmados\": 2}, {\"index\": 2, \"Grupo de edad\": \"50-59\", \"fecha (a\\u00f1o-mes-d\\u00eda)\": \"2020-04-19\", \"fallecidos confirmados\": 9}, {\"index\": 3, \"Grupo de edad\": \"60-69\", \"fecha (a\\u00f1o-mes-d\\u00eda)\": \"2020-04-19\", \"fallecidos confirmados\": 18}, {\"index\": 4, \"Grupo de edad\": \"70-79\", \"fecha (a\\u00f1o-mes-d\\u00eda)\": \"2020-04-19\", \"fallecidos confirmados\": 41}, {\"index\": 5, \"Grupo de edad\": \"80-89\", \"fecha (a\\u00f1o-mes-d\\u00eda)\": \"2020-04-19\", \"fallecidos confirmados\": 46}, {\"index\": 6, \"Grupo de edad\": \">=90\", \"fecha (a\\u00f1o-mes-d\\u00eda)\": \"2020-04-19\", \"fallecidos confirmados\": 13}, {\"index\": 0, \"Grupo de edad\": \"<=39\", \"fecha (a\\u00f1o-mes-d\\u00eda)\": \"2020-04-20\", \"fallecidos confirmados\": 4}, {\"index\": 1, \"Grupo de edad\": \"40-49\", \"fecha (a\\u00f1o-mes-d\\u00eda)\": \"2020-04-20\", \"fallecidos confirmados\": 2}, {\"index\": 2, \"Grupo de edad\": \"50-59\", \"fecha (a\\u00f1o-mes-d\\u00eda)\": \"2020-04-20\", \"fallecidos confirmados\": 11}, {\"index\": 3, \"Grupo de edad\": \"60-69\", \"fecha (a\\u00f1o-mes-d\\u00eda)\": \"2020-04-20\", \"fallecidos confirmados\": 19}, {\"index\": 4, \"Grupo de edad\": \"70-79\", \"fecha (a\\u00f1o-mes-d\\u00eda)\": \"2020-04-20\", \"fallecidos confirmados\": 42}, {\"index\": 5, \"Grupo de edad\": \"80-89\", \"fecha (a\\u00f1o-mes-d\\u00eda)\": \"2020-04-20\", \"fallecidos confirmados\": 47}, {\"index\": 6, \"Grupo de edad\": \">=90\", \"fecha (a\\u00f1o-mes-d\\u00eda)\": \"2020-04-20\", \"fallecidos confirmados\": 14}, {\"index\": 0, \"Grupo de edad\": \"<=39\", \"fecha (a\\u00f1o-mes-d\\u00eda)\": \"2020-04-21\", \"fallecidos confirmados\": 5}, {\"index\": 1, \"Grupo de edad\": \"40-49\", \"fecha (a\\u00f1o-mes-d\\u00eda)\": \"2020-04-21\", \"fallecidos confirmados\": 2}, {\"index\": 2, \"Grupo de edad\": \"50-59\", \"fecha (a\\u00f1o-mes-d\\u00eda)\": \"2020-04-21\", \"fallecidos confirmados\": 13}, {\"index\": 3, \"Grupo de edad\": \"60-69\", \"fecha (a\\u00f1o-mes-d\\u00eda)\": \"2020-04-21\", \"fallecidos confirmados\": 20}, {\"index\": 4, \"Grupo de edad\": \"70-79\", \"fecha (a\\u00f1o-mes-d\\u00eda)\": \"2020-04-21\", \"fallecidos confirmados\": 43}, {\"index\": 5, \"Grupo de edad\": \"80-89\", \"fecha (a\\u00f1o-mes-d\\u00eda)\": \"2020-04-21\", \"fallecidos confirmados\": 50}, {\"index\": 6, \"Grupo de edad\": \">=90\", \"fecha (a\\u00f1o-mes-d\\u00eda)\": \"2020-04-21\", \"fallecidos confirmados\": 14}, {\"index\": 0, \"Grupo de edad\": \"<=39\", \"fecha (a\\u00f1o-mes-d\\u00eda)\": \"2020-04-22\", \"fallecidos confirmados\": 5}, {\"index\": 1, \"Grupo de edad\": \"40-49\", \"fecha (a\\u00f1o-mes-d\\u00eda)\": \"2020-04-22\", \"fallecidos confirmados\": 2}, {\"index\": 2, \"Grupo de edad\": \"50-59\", \"fecha (a\\u00f1o-mes-d\\u00eda)\": \"2020-04-22\", \"fallecidos confirmados\": 14}, {\"index\": 3, \"Grupo de edad\": \"60-69\", \"fecha (a\\u00f1o-mes-d\\u00eda)\": \"2020-04-22\", \"fallecidos confirmados\": 26}, {\"index\": 4, \"Grupo de edad\": \"70-79\", \"fecha (a\\u00f1o-mes-d\\u00eda)\": \"2020-04-22\", \"fallecidos confirmados\": 47}, {\"index\": 5, \"Grupo de edad\": \"80-89\", \"fecha (a\\u00f1o-mes-d\\u00eda)\": \"2020-04-22\", \"fallecidos confirmados\": 51}, {\"index\": 6, \"Grupo de edad\": \">=90\", \"fecha (a\\u00f1o-mes-d\\u00eda)\": \"2020-04-22\", \"fallecidos confirmados\": 15}, {\"index\": 0, \"Grupo de edad\": \"<=39\", \"fecha (a\\u00f1o-mes-d\\u00eda)\": \"2020-04-23\", \"fallecidos confirmados\": 5}, {\"index\": 1, \"Grupo de edad\": \"40-49\", \"fecha (a\\u00f1o-mes-d\\u00eda)\": \"2020-04-23\", \"fallecidos confirmados\": 3}, {\"index\": 2, \"Grupo de edad\": \"50-59\", \"fecha (a\\u00f1o-mes-d\\u00eda)\": \"2020-04-23\", \"fallecidos confirmados\": 14}, {\"index\": 3, \"Grupo de edad\": \"60-69\", \"fecha (a\\u00f1o-mes-d\\u00eda)\": \"2020-04-23\", \"fallecidos confirmados\": 28}, {\"index\": 4, \"Grupo de edad\": \"70-79\", \"fecha (a\\u00f1o-mes-d\\u00eda)\": \"2020-04-23\", \"fallecidos confirmados\": 48}, {\"index\": 5, \"Grupo de edad\": \"80-89\", \"fecha (a\\u00f1o-mes-d\\u00eda)\": \"2020-04-23\", \"fallecidos confirmados\": 54}, {\"index\": 6, \"Grupo de edad\": \">=90\", \"fecha (a\\u00f1o-mes-d\\u00eda)\": \"2020-04-23\", \"fallecidos confirmados\": 16}, {\"index\": 0, \"Grupo de edad\": \"<=39\", \"fecha (a\\u00f1o-mes-d\\u00eda)\": \"2020-04-24\", \"fallecidos confirmados\": 5}, {\"index\": 1, \"Grupo de edad\": \"40-49\", \"fecha (a\\u00f1o-mes-d\\u00eda)\": \"2020-04-24\", \"fallecidos confirmados\": 4}, {\"index\": 2, \"Grupo de edad\": \"50-59\", \"fecha (a\\u00f1o-mes-d\\u00eda)\": \"2020-04-24\", \"fallecidos confirmados\": 14}, {\"index\": 3, \"Grupo de edad\": \"60-69\", \"fecha (a\\u00f1o-mes-d\\u00eda)\": \"2020-04-24\", \"fallecidos confirmados\": 30}, {\"index\": 4, \"Grupo de edad\": \"70-79\", \"fecha (a\\u00f1o-mes-d\\u00eda)\": \"2020-04-24\", \"fallecidos confirmados\": 49}, {\"index\": 5, \"Grupo de edad\": \"80-89\", \"fecha (a\\u00f1o-mes-d\\u00eda)\": \"2020-04-24\", \"fallecidos confirmados\": 56}, {\"index\": 6, \"Grupo de edad\": \">=90\", \"fecha (a\\u00f1o-mes-d\\u00eda)\": \"2020-04-24\", \"fallecidos confirmados\": 16}, {\"index\": 0, \"Grupo de edad\": \"<=39\", \"fecha (a\\u00f1o-mes-d\\u00eda)\": \"2020-04-25\", \"fallecidos confirmados\": 6}, {\"index\": 1, \"Grupo de edad\": \"40-49\", \"fecha (a\\u00f1o-mes-d\\u00eda)\": \"2020-04-25\", \"fallecidos confirmados\": 6}, {\"index\": 2, \"Grupo de edad\": \"50-59\", \"fecha (a\\u00f1o-mes-d\\u00eda)\": \"2020-04-25\", \"fallecidos confirmados\": 15}, {\"index\": 3, \"Grupo de edad\": \"60-69\", \"fecha (a\\u00f1o-mes-d\\u00eda)\": \"2020-04-25\", \"fallecidos confirmados\": 31}, {\"index\": 4, \"Grupo de edad\": \"70-79\", \"fecha (a\\u00f1o-mes-d\\u00eda)\": \"2020-04-25\", \"fallecidos confirmados\": 50}, {\"index\": 5, \"Grupo de edad\": \"80-89\", \"fecha (a\\u00f1o-mes-d\\u00eda)\": \"2020-04-25\", \"fallecidos confirmados\": 57}, {\"index\": 6, \"Grupo de edad\": \">=90\", \"fecha (a\\u00f1o-mes-d\\u00eda)\": \"2020-04-25\", \"fallecidos confirmados\": 16}, {\"index\": 0, \"Grupo de edad\": \"<=39\", \"fecha (a\\u00f1o-mes-d\\u00eda)\": \"2020-04-26\", \"fallecidos confirmados\": 6}, {\"index\": 1, \"Grupo de edad\": \"40-49\", \"fecha (a\\u00f1o-mes-d\\u00eda)\": \"2020-04-26\", \"fallecidos confirmados\": 7}, {\"index\": 2, \"Grupo de edad\": \"50-59\", \"fecha (a\\u00f1o-mes-d\\u00eda)\": \"2020-04-26\", \"fallecidos confirmados\": 15}, {\"index\": 3, \"Grupo de edad\": \"60-69\", \"fecha (a\\u00f1o-mes-d\\u00eda)\": \"2020-04-26\", \"fallecidos confirmados\": 33}, {\"index\": 4, \"Grupo de edad\": \"70-79\", \"fecha (a\\u00f1o-mes-d\\u00eda)\": \"2020-04-26\", \"fallecidos confirmados\": 52}, {\"index\": 5, \"Grupo de edad\": \"80-89\", \"fecha (a\\u00f1o-mes-d\\u00eda)\": \"2020-04-26\", \"fallecidos confirmados\": 59}, {\"index\": 6, \"Grupo de edad\": \">=90\", \"fecha (a\\u00f1o-mes-d\\u00eda)\": \"2020-04-26\", \"fallecidos confirmados\": 17}, {\"index\": 0, \"Grupo de edad\": \"<=39\", \"fecha (a\\u00f1o-mes-d\\u00eda)\": \"2020-04-27\", \"fallecidos confirmados\": 6}, {\"index\": 1, \"Grupo de edad\": \"40-49\", \"fecha (a\\u00f1o-mes-d\\u00eda)\": \"2020-04-27\", \"fallecidos confirmados\": 7}, {\"index\": 2, \"Grupo de edad\": \"50-59\", \"fecha (a\\u00f1o-mes-d\\u00eda)\": \"2020-04-27\", \"fallecidos confirmados\": 16}, {\"index\": 3, \"Grupo de edad\": \"60-69\", \"fecha (a\\u00f1o-mes-d\\u00eda)\": \"2020-04-27\", \"fallecidos confirmados\": 35}, {\"index\": 4, \"Grupo de edad\": \"70-79\", \"fecha (a\\u00f1o-mes-d\\u00eda)\": \"2020-04-27\", \"fallecidos confirmados\": 57}, {\"index\": 5, \"Grupo de edad\": \"80-89\", \"fecha (a\\u00f1o-mes-d\\u00eda)\": \"2020-04-27\", \"fallecidos confirmados\": 60}, {\"index\": 6, \"Grupo de edad\": \">=90\", \"fecha (a\\u00f1o-mes-d\\u00eda)\": \"2020-04-27\", \"fallecidos confirmados\": 17}, {\"index\": 0, \"Grupo de edad\": \"<=39\", \"fecha (a\\u00f1o-mes-d\\u00eda)\": \"2020-04-28\", \"fallecidos confirmados\": 6}, {\"index\": 1, \"Grupo de edad\": \"40-49\", \"fecha (a\\u00f1o-mes-d\\u00eda)\": \"2020-04-28\", \"fallecidos confirmados\": 8}, {\"index\": 2, \"Grupo de edad\": \"50-59\", \"fecha (a\\u00f1o-mes-d\\u00eda)\": \"2020-04-28\", \"fallecidos confirmados\": 16}, {\"index\": 3, \"Grupo de edad\": \"60-69\", \"fecha (a\\u00f1o-mes-d\\u00eda)\": \"2020-04-28\", \"fallecidos confirmados\": 35}, {\"index\": 4, \"Grupo de edad\": \"70-79\", \"fecha (a\\u00f1o-mes-d\\u00eda)\": \"2020-04-28\", \"fallecidos confirmados\": 60}, {\"index\": 5, \"Grupo de edad\": \"80-89\", \"fecha (a\\u00f1o-mes-d\\u00eda)\": \"2020-04-28\", \"fallecidos confirmados\": 62}, {\"index\": 6, \"Grupo de edad\": \">=90\", \"fecha (a\\u00f1o-mes-d\\u00eda)\": \"2020-04-28\", \"fallecidos confirmados\": 20}, {\"index\": 0, \"Grupo de edad\": \"<=39\", \"fecha (a\\u00f1o-mes-d\\u00eda)\": \"2020-04-29\", \"fallecidos confirmados\": 6}, {\"index\": 1, \"Grupo de edad\": \"40-49\", \"fecha (a\\u00f1o-mes-d\\u00eda)\": \"2020-04-29\", \"fallecidos confirmados\": 9}, {\"index\": 2, \"Grupo de edad\": \"50-59\", \"fecha (a\\u00f1o-mes-d\\u00eda)\": \"2020-04-29\", \"fallecidos confirmados\": 17}, {\"index\": 3, \"Grupo de edad\": \"60-69\", \"fecha (a\\u00f1o-mes-d\\u00eda)\": \"2020-04-29\", \"fallecidos confirmados\": 38}, {\"index\": 4, \"Grupo de edad\": \"70-79\", \"fecha (a\\u00f1o-mes-d\\u00eda)\": \"2020-04-29\", \"fallecidos confirmados\": 60}, {\"index\": 5, \"Grupo de edad\": \"80-89\", \"fecha (a\\u00f1o-mes-d\\u00eda)\": \"2020-04-29\", \"fallecidos confirmados\": 65}, {\"index\": 6, \"Grupo de edad\": \">=90\", \"fecha (a\\u00f1o-mes-d\\u00eda)\": \"2020-04-29\", \"fallecidos confirmados\": 21}, {\"index\": 0, \"Grupo de edad\": \"<=39\", \"fecha (a\\u00f1o-mes-d\\u00eda)\": \"2020-04-30\", \"fallecidos confirmados\": 6}, {\"index\": 1, \"Grupo de edad\": \"40-49\", \"fecha (a\\u00f1o-mes-d\\u00eda)\": \"2020-04-30\", \"fallecidos confirmados\": 10}, {\"index\": 2, \"Grupo de edad\": \"50-59\", \"fecha (a\\u00f1o-mes-d\\u00eda)\": \"2020-04-30\", \"fallecidos confirmados\": 17}, {\"index\": 3, \"Grupo de edad\": \"60-69\", \"fecha (a\\u00f1o-mes-d\\u00eda)\": \"2020-04-30\", \"fallecidos confirmados\": 40}, {\"index\": 4, \"Grupo de edad\": \"70-79\", \"fecha (a\\u00f1o-mes-d\\u00eda)\": \"2020-04-30\", \"fallecidos confirmados\": 65}, {\"index\": 5, \"Grupo de edad\": \"80-89\", \"fecha (a\\u00f1o-mes-d\\u00eda)\": \"2020-04-30\", \"fallecidos confirmados\": 68}, {\"index\": 6, \"Grupo de edad\": \">=90\", \"fecha (a\\u00f1o-mes-d\\u00eda)\": \"2020-04-30\", \"fallecidos confirmados\": 21}, {\"index\": 0, \"Grupo de edad\": \"<=39\", \"fecha (a\\u00f1o-mes-d\\u00eda)\": \"2020-05-01\", \"fallecidos confirmados\": 6}, {\"index\": 1, \"Grupo de edad\": \"40-49\", \"fecha (a\\u00f1o-mes-d\\u00eda)\": \"2020-05-01\", \"fallecidos confirmados\": 10}, {\"index\": 2, \"Grupo de edad\": \"50-59\", \"fecha (a\\u00f1o-mes-d\\u00eda)\": \"2020-05-01\", \"fallecidos confirmados\": 18}, {\"index\": 3, \"Grupo de edad\": \"60-69\", \"fecha (a\\u00f1o-mes-d\\u00eda)\": \"2020-05-01\", \"fallecidos confirmados\": 41}, {\"index\": 4, \"Grupo de edad\": \"70-79\", \"fecha (a\\u00f1o-mes-d\\u00eda)\": \"2020-05-01\", \"fallecidos confirmados\": 68}, {\"index\": 5, \"Grupo de edad\": \"80-89\", \"fecha (a\\u00f1o-mes-d\\u00eda)\": \"2020-05-01\", \"fallecidos confirmados\": 70}, {\"index\": 6, \"Grupo de edad\": \">=90\", \"fecha (a\\u00f1o-mes-d\\u00eda)\": \"2020-05-01\", \"fallecidos confirmados\": 21}, {\"index\": 0, \"Grupo de edad\": \"<=39\", \"fecha (a\\u00f1o-mes-d\\u00eda)\": \"2020-05-02\", \"fallecidos confirmados\": 6}, {\"index\": 1, \"Grupo de edad\": \"40-49\", \"fecha (a\\u00f1o-mes-d\\u00eda)\": \"2020-05-02\", \"fallecidos confirmados\": 11}, {\"index\": 2, \"Grupo de edad\": \"50-59\", \"fecha (a\\u00f1o-mes-d\\u00eda)\": \"2020-05-02\", \"fallecidos confirmados\": 18}, {\"index\": 3, \"Grupo de edad\": \"60-69\", \"fecha (a\\u00f1o-mes-d\\u00eda)\": \"2020-05-02\", \"fallecidos confirmados\": 43}, {\"index\": 4, \"Grupo de edad\": \"70-79\", \"fecha (a\\u00f1o-mes-d\\u00eda)\": \"2020-05-02\", \"fallecidos confirmados\": 72}, {\"index\": 5, \"Grupo de edad\": \"80-89\", \"fecha (a\\u00f1o-mes-d\\u00eda)\": \"2020-05-02\", \"fallecidos confirmados\": 75}, {\"index\": 6, \"Grupo de edad\": \">=90\", \"fecha (a\\u00f1o-mes-d\\u00eda)\": \"2020-05-02\", \"fallecidos confirmados\": 23}, {\"index\": 0, \"Grupo de edad\": \"<=39\", \"fecha (a\\u00f1o-mes-d\\u00eda)\": \"2020-05-03\", \"fallecidos confirmados\": 6}, {\"index\": 1, \"Grupo de edad\": \"40-49\", \"fecha (a\\u00f1o-mes-d\\u00eda)\": \"2020-05-03\", \"fallecidos confirmados\": 12}, {\"index\": 2, \"Grupo de edad\": \"50-59\", \"fecha (a\\u00f1o-mes-d\\u00eda)\": \"2020-05-03\", \"fallecidos confirmados\": 18}, {\"index\": 3, \"Grupo de edad\": \"60-69\", \"fecha (a\\u00f1o-mes-d\\u00eda)\": \"2020-05-03\", \"fallecidos confirmados\": 45}, {\"index\": 4, \"Grupo de edad\": \"70-79\", \"fecha (a\\u00f1o-mes-d\\u00eda)\": \"2020-05-03\", \"fallecidos confirmados\": 73}, {\"index\": 5, \"Grupo de edad\": \"80-89\", \"fecha (a\\u00f1o-mes-d\\u00eda)\": \"2020-05-03\", \"fallecidos confirmados\": 80}, {\"index\": 6, \"Grupo de edad\": \">=90\", \"fecha (a\\u00f1o-mes-d\\u00eda)\": \"2020-05-03\", \"fallecidos confirmados\": 26}, {\"index\": 0, \"Grupo de edad\": \"<=39\", \"fecha (a\\u00f1o-mes-d\\u00eda)\": \"2020-05-04\", \"fallecidos confirmados\": 6}, {\"index\": 1, \"Grupo de edad\": \"40-49\", \"fecha (a\\u00f1o-mes-d\\u00eda)\": \"2020-05-04\", \"fallecidos confirmados\": 12}, {\"index\": 2, \"Grupo de edad\": \"50-59\", \"fecha (a\\u00f1o-mes-d\\u00eda)\": \"2020-05-04\", \"fallecidos confirmados\": 20}, {\"index\": 3, \"Grupo de edad\": \"60-69\", \"fecha (a\\u00f1o-mes-d\\u00eda)\": \"2020-05-04\", \"fallecidos confirmados\": 46}, {\"index\": 4, \"Grupo de edad\": \"70-79\", \"fecha (a\\u00f1o-mes-d\\u00eda)\": \"2020-05-04\", \"fallecidos confirmados\": 76}, {\"index\": 5, \"Grupo de edad\": \"80-89\", \"fecha (a\\u00f1o-mes-d\\u00eda)\": \"2020-05-04\", \"fallecidos confirmados\": 83}, {\"index\": 6, \"Grupo de edad\": \">=90\", \"fecha (a\\u00f1o-mes-d\\u00eda)\": \"2020-05-04\", \"fallecidos confirmados\": 27}, {\"index\": 0, \"Grupo de edad\": \"<=39\", \"fecha (a\\u00f1o-mes-d\\u00eda)\": \"2020-05-05\", \"fallecidos confirmados\": 6}, {\"index\": 1, \"Grupo de edad\": \"40-49\", \"fecha (a\\u00f1o-mes-d\\u00eda)\": \"2020-05-05\", \"fallecidos confirmados\": 13}, {\"index\": 2, \"Grupo de edad\": \"50-59\", \"fecha (a\\u00f1o-mes-d\\u00eda)\": \"2020-05-05\", \"fallecidos confirmados\": 20}, {\"index\": 3, \"Grupo de edad\": \"60-69\", \"fecha (a\\u00f1o-mes-d\\u00eda)\": \"2020-05-05\", \"fallecidos confirmados\": 46}, {\"index\": 4, \"Grupo de edad\": \"70-79\", \"fecha (a\\u00f1o-mes-d\\u00eda)\": \"2020-05-05\", \"fallecidos confirmados\": 76}, {\"index\": 5, \"Grupo de edad\": \"80-89\", \"fecha (a\\u00f1o-mes-d\\u00eda)\": \"2020-05-05\", \"fallecidos confirmados\": 85}, {\"index\": 6, \"Grupo de edad\": \">=90\", \"fecha (a\\u00f1o-mes-d\\u00eda)\": \"2020-05-05\", \"fallecidos confirmados\": 29}, {\"index\": 0, \"Grupo de edad\": \"<=39\", \"fecha (a\\u00f1o-mes-d\\u00eda)\": \"2020-05-06\", \"fallecidos confirmados\": 6}, {\"index\": 1, \"Grupo de edad\": \"40-49\", \"fecha (a\\u00f1o-mes-d\\u00eda)\": \"2020-05-06\", \"fallecidos confirmados\": 13}, {\"index\": 2, \"Grupo de edad\": \"50-59\", \"fecha (a\\u00f1o-mes-d\\u00eda)\": \"2020-05-06\", \"fallecidos confirmados\": 20}, {\"index\": 3, \"Grupo de edad\": \"60-69\", \"fecha (a\\u00f1o-mes-d\\u00eda)\": \"2020-05-06\", \"fallecidos confirmados\": 47}, {\"index\": 4, \"Grupo de edad\": \"70-79\", \"fecha (a\\u00f1o-mes-d\\u00eda)\": \"2020-05-06\", \"fallecidos confirmados\": 76}, {\"index\": 5, \"Grupo de edad\": \"80-89\", \"fecha (a\\u00f1o-mes-d\\u00eda)\": \"2020-05-06\", \"fallecidos confirmados\": 89}, {\"index\": 6, \"Grupo de edad\": \">=90\", \"fecha (a\\u00f1o-mes-d\\u00eda)\": \"2020-05-06\", \"fallecidos confirmados\": 30}, {\"index\": 0, \"Grupo de edad\": \"<=39\", \"fecha (a\\u00f1o-mes-d\\u00eda)\": \"2020-05-07\", \"fallecidos confirmados\": 6}, {\"index\": 1, \"Grupo de edad\": \"40-49\", \"fecha (a\\u00f1o-mes-d\\u00eda)\": \"2020-05-07\", \"fallecidos confirmados\": 13}, {\"index\": 2, \"Grupo de edad\": \"50-59\", \"fecha (a\\u00f1o-mes-d\\u00eda)\": \"2020-05-07\", \"fallecidos confirmados\": 21}, {\"index\": 3, \"Grupo de edad\": \"60-69\", \"fecha (a\\u00f1o-mes-d\\u00eda)\": \"2020-05-07\", \"fallecidos confirmados\": 47}, {\"index\": 4, \"Grupo de edad\": \"70-79\", \"fecha (a\\u00f1o-mes-d\\u00eda)\": \"2020-05-07\", \"fallecidos confirmados\": 76}, {\"index\": 5, \"Grupo de edad\": \"80-89\", \"fecha (a\\u00f1o-mes-d\\u00eda)\": \"2020-05-07\", \"fallecidos confirmados\": 92}, {\"index\": 6, \"Grupo de edad\": \">=90\", \"fecha (a\\u00f1o-mes-d\\u00eda)\": \"2020-05-07\", \"fallecidos confirmados\": 30}, {\"index\": 0, \"Grupo de edad\": \"<=39\", \"fecha (a\\u00f1o-mes-d\\u00eda)\": \"2020-05-08\", \"fallecidos confirmados\": 7}, {\"index\": 1, \"Grupo de edad\": \"40-49\", \"fecha (a\\u00f1o-mes-d\\u00eda)\": \"2020-05-08\", \"fallecidos confirmados\": 14}, {\"index\": 2, \"Grupo de edad\": \"50-59\", \"fecha (a\\u00f1o-mes-d\\u00eda)\": \"2020-05-08\", \"fallecidos confirmados\": 21}, {\"index\": 3, \"Grupo de edad\": \"60-69\", \"fecha (a\\u00f1o-mes-d\\u00eda)\": \"2020-05-08\", \"fallecidos confirmados\": 49}, {\"index\": 4, \"Grupo de edad\": \"70-79\", \"fecha (a\\u00f1o-mes-d\\u00eda)\": \"2020-05-08\", \"fallecidos confirmados\": 80}, {\"index\": 5, \"Grupo de edad\": \"80-89\", \"fecha (a\\u00f1o-mes-d\\u00eda)\": \"2020-05-08\", \"fallecidos confirmados\": 93}, {\"index\": 6, \"Grupo de edad\": \">=90\", \"fecha (a\\u00f1o-mes-d\\u00eda)\": \"2020-05-08\", \"fallecidos confirmados\": 30}, {\"index\": 0, \"Grupo de edad\": \"<=39\", \"fecha (a\\u00f1o-mes-d\\u00eda)\": \"2020-05-09\", \"fallecidos confirmados\": 7}, {\"index\": 1, \"Grupo de edad\": \"40-49\", \"fecha (a\\u00f1o-mes-d\\u00eda)\": \"2020-05-09\", \"fallecidos confirmados\": 15}, {\"index\": 2, \"Grupo de edad\": \"50-59\", \"fecha (a\\u00f1o-mes-d\\u00eda)\": \"2020-05-09\", \"fallecidos confirmados\": 22}, {\"index\": 3, \"Grupo de edad\": \"60-69\", \"fecha (a\\u00f1o-mes-d\\u00eda)\": \"2020-05-09\", \"fallecidos confirmados\": 52}, {\"index\": 4, \"Grupo de edad\": \"70-79\", \"fecha (a\\u00f1o-mes-d\\u00eda)\": \"2020-05-09\", \"fallecidos confirmados\": 82}, {\"index\": 5, \"Grupo de edad\": \"80-89\", \"fecha (a\\u00f1o-mes-d\\u00eda)\": \"2020-05-09\", \"fallecidos confirmados\": 93}, {\"index\": 6, \"Grupo de edad\": \">=90\", \"fecha (a\\u00f1o-mes-d\\u00eda)\": \"2020-05-09\", \"fallecidos confirmados\": 33}, {\"index\": 0, \"Grupo de edad\": \"<=39\", \"fecha (a\\u00f1o-mes-d\\u00eda)\": \"2020-05-10\", \"fallecidos confirmados\": 7}, {\"index\": 1, \"Grupo de edad\": \"40-49\", \"fecha (a\\u00f1o-mes-d\\u00eda)\": \"2020-05-10\", \"fallecidos confirmados\": 16}, {\"index\": 2, \"Grupo de edad\": \"50-59\", \"fecha (a\\u00f1o-mes-d\\u00eda)\": \"2020-05-10\", \"fallecidos confirmados\": 22}, {\"index\": 3, \"Grupo de edad\": \"60-69\", \"fecha (a\\u00f1o-mes-d\\u00eda)\": \"2020-05-10\", \"fallecidos confirmados\": 54}, {\"index\": 4, \"Grupo de edad\": \"70-79\", \"fecha (a\\u00f1o-mes-d\\u00eda)\": \"2020-05-10\", \"fallecidos confirmados\": 84}, {\"index\": 5, \"Grupo de edad\": \"80-89\", \"fecha (a\\u00f1o-mes-d\\u00eda)\": \"2020-05-10\", \"fallecidos confirmados\": 95}, {\"index\": 6, \"Grupo de edad\": \">=90\", \"fecha (a\\u00f1o-mes-d\\u00eda)\": \"2020-05-10\", \"fallecidos confirmados\": 34}, {\"index\": 0, \"Grupo de edad\": \"<=39\", \"fecha (a\\u00f1o-mes-d\\u00eda)\": \"2020-05-11\", \"fallecidos confirmados\": 7}, {\"index\": 1, \"Grupo de edad\": \"40-49\", \"fecha (a\\u00f1o-mes-d\\u00eda)\": \"2020-05-11\", \"fallecidos confirmados\": 16}, {\"index\": 2, \"Grupo de edad\": \"50-59\", \"fecha (a\\u00f1o-mes-d\\u00eda)\": \"2020-05-11\", \"fallecidos confirmados\": 23}, {\"index\": 3, \"Grupo de edad\": \"60-69\", \"fecha (a\\u00f1o-mes-d\\u00eda)\": \"2020-05-11\", \"fallecidos confirmados\": 56}, {\"index\": 4, \"Grupo de edad\": \"70-79\", \"fecha (a\\u00f1o-mes-d\\u00eda)\": \"2020-05-11\", \"fallecidos confirmados\": 89}, {\"index\": 5, \"Grupo de edad\": \"80-89\", \"fecha (a\\u00f1o-mes-d\\u00eda)\": \"2020-05-11\", \"fallecidos confirmados\": 96}, {\"index\": 6, \"Grupo de edad\": \">=90\", \"fecha (a\\u00f1o-mes-d\\u00eda)\": \"2020-05-11\", \"fallecidos confirmados\": 36}, {\"index\": 0, \"Grupo de edad\": \"<=39\", \"fecha (a\\u00f1o-mes-d\\u00eda)\": \"2020-05-12\", \"fallecidos confirmados\": 8}, {\"index\": 1, \"Grupo de edad\": \"40-49\", \"fecha (a\\u00f1o-mes-d\\u00eda)\": \"2020-05-12\", \"fallecidos confirmados\": 18}, {\"index\": 2, \"Grupo de edad\": \"50-59\", \"fecha (a\\u00f1o-mes-d\\u00eda)\": \"2020-05-12\", \"fallecidos confirmados\": 24}, {\"index\": 3, \"Grupo de edad\": \"60-69\", \"fecha (a\\u00f1o-mes-d\\u00eda)\": \"2020-05-12\", \"fallecidos confirmados\": 56}, {\"index\": 4, \"Grupo de edad\": \"70-79\", \"fecha (a\\u00f1o-mes-d\\u00eda)\": \"2020-05-12\", \"fallecidos confirmados\": 92}, {\"index\": 5, \"Grupo de edad\": \"80-89\", \"fecha (a\\u00f1o-mes-d\\u00eda)\": \"2020-05-12\", \"fallecidos confirmados\": 99}, {\"index\": 6, \"Grupo de edad\": \">=90\", \"fecha (a\\u00f1o-mes-d\\u00eda)\": \"2020-05-12\", \"fallecidos confirmados\": 38}, {\"index\": 0, \"Grupo de edad\": \"<=39\", \"fecha (a\\u00f1o-mes-d\\u00eda)\": \"2020-05-13\", \"fallecidos confirmados\": 8}, {\"index\": 1, \"Grupo de edad\": \"40-49\", \"fecha (a\\u00f1o-mes-d\\u00eda)\": \"2020-05-13\", \"fallecidos confirmados\": 19}, {\"index\": 2, \"Grupo de edad\": \"50-59\", \"fecha (a\\u00f1o-mes-d\\u00eda)\": \"2020-05-13\", \"fallecidos confirmados\": 27}, {\"index\": 3, \"Grupo de edad\": \"60-69\", \"fecha (a\\u00f1o-mes-d\\u00eda)\": \"2020-05-13\", \"fallecidos confirmados\": 58}, {\"index\": 4, \"Grupo de edad\": \"70-79\", \"fecha (a\\u00f1o-mes-d\\u00eda)\": \"2020-05-13\", \"fallecidos confirmados\": 94}, {\"index\": 5, \"Grupo de edad\": \"80-89\", \"fecha (a\\u00f1o-mes-d\\u00eda)\": \"2020-05-13\", \"fallecidos confirmados\": 102}, {\"index\": 6, \"Grupo de edad\": \">=90\", \"fecha (a\\u00f1o-mes-d\\u00eda)\": \"2020-05-13\", \"fallecidos confirmados\": 38}, {\"index\": 0, \"Grupo de edad\": \"<=39\", \"fecha (a\\u00f1o-mes-d\\u00eda)\": \"2020-05-14\", \"fallecidos confirmados\": 9}, {\"index\": 1, \"Grupo de edad\": \"40-49\", \"fecha (a\\u00f1o-mes-d\\u00eda)\": \"2020-05-14\", \"fallecidos confirmados\": 22}, {\"index\": 2, \"Grupo de edad\": \"50-59\", \"fecha (a\\u00f1o-mes-d\\u00eda)\": \"2020-05-14\", \"fallecidos confirmados\": 27}, {\"index\": 3, \"Grupo de edad\": \"60-69\", \"fecha (a\\u00f1o-mes-d\\u00eda)\": \"2020-05-14\", \"fallecidos confirmados\": 63}, {\"index\": 4, \"Grupo de edad\": \"70-79\", \"fecha (a\\u00f1o-mes-d\\u00eda)\": \"2020-05-14\", \"fallecidos confirmados\": 102}, {\"index\": 5, \"Grupo de edad\": \"80-89\", \"fecha (a\\u00f1o-mes-d\\u00eda)\": \"2020-05-14\", \"fallecidos confirmados\": 107}, {\"index\": 6, \"Grupo de edad\": \">=90\", \"fecha (a\\u00f1o-mes-d\\u00eda)\": \"2020-05-14\", \"fallecidos confirmados\": 38}, {\"index\": 0, \"Grupo de edad\": \"<=39\", \"fecha (a\\u00f1o-mes-d\\u00eda)\": \"2020-05-15\", \"fallecidos confirmados\": 10}, {\"index\": 1, \"Grupo de edad\": \"40-49\", \"fecha (a\\u00f1o-mes-d\\u00eda)\": \"2020-05-15\", \"fallecidos confirmados\": 22}, {\"index\": 2, \"Grupo de edad\": \"50-59\", \"fecha (a\\u00f1o-mes-d\\u00eda)\": \"2020-05-15\", \"fallecidos confirmados\": 31}, {\"index\": 3, \"Grupo de edad\": \"60-69\", \"fecha (a\\u00f1o-mes-d\\u00eda)\": \"2020-05-15\", \"fallecidos confirmados\": 65}, {\"index\": 4, \"Grupo de edad\": \"70-79\", \"fecha (a\\u00f1o-mes-d\\u00eda)\": \"2020-05-15\", \"fallecidos confirmados\": 110}, {\"index\": 5, \"Grupo de edad\": \"80-89\", \"fecha (a\\u00f1o-mes-d\\u00eda)\": \"2020-05-15\", \"fallecidos confirmados\": 117}, {\"index\": 6, \"Grupo de edad\": \">=90\", \"fecha (a\\u00f1o-mes-d\\u00eda)\": \"2020-05-15\", \"fallecidos confirmados\": 39}, {\"index\": 0, \"Grupo de edad\": \"<=39\", \"fecha (a\\u00f1o-mes-d\\u00eda)\": \"2020-05-16\", \"fallecidos confirmados\": 10}, {\"index\": 1, \"Grupo de edad\": \"40-49\", \"fecha (a\\u00f1o-mes-d\\u00eda)\": \"2020-05-16\", \"fallecidos confirmados\": 24}, {\"index\": 2, \"Grupo de edad\": \"50-59\", \"fecha (a\\u00f1o-mes-d\\u00eda)\": \"2020-05-16\", \"fallecidos confirmados\": 32}, {\"index\": 3, \"Grupo de edad\": \"60-69\", \"fecha (a\\u00f1o-mes-d\\u00eda)\": \"2020-05-16\", \"fallecidos confirmados\": 73}, {\"index\": 4, \"Grupo de edad\": \"70-79\", \"fecha (a\\u00f1o-mes-d\\u00eda)\": \"2020-05-16\", \"fallecidos confirmados\": 118}, {\"index\": 5, \"Grupo de edad\": \"80-89\", \"fecha (a\\u00f1o-mes-d\\u00eda)\": \"2020-05-16\", \"fallecidos confirmados\": 123}, {\"index\": 6, \"Grupo de edad\": \">=90\", \"fecha (a\\u00f1o-mes-d\\u00eda)\": \"2020-05-16\", \"fallecidos confirmados\": 41}, {\"index\": 0, \"Grupo de edad\": \"<=39\", \"fecha (a\\u00f1o-mes-d\\u00eda)\": \"2020-05-17\", \"fallecidos confirmados\": 10}, {\"index\": 1, \"Grupo de edad\": \"40-49\", \"fecha (a\\u00f1o-mes-d\\u00eda)\": \"2020-05-17\", \"fallecidos confirmados\": 25}, {\"index\": 2, \"Grupo de edad\": \"50-59\", \"fecha (a\\u00f1o-mes-d\\u00eda)\": \"2020-05-17\", \"fallecidos confirmados\": 35}, {\"index\": 3, \"Grupo de edad\": \"60-69\", \"fecha (a\\u00f1o-mes-d\\u00eda)\": \"2020-05-17\", \"fallecidos confirmados\": 78}, {\"index\": 4, \"Grupo de edad\": \"70-79\", \"fecha (a\\u00f1o-mes-d\\u00eda)\": \"2020-05-17\", \"fallecidos confirmados\": 126}, {\"index\": 5, \"Grupo de edad\": \"80-89\", \"fecha (a\\u00f1o-mes-d\\u00eda)\": \"2020-05-17\", \"fallecidos confirmados\": 132}, {\"index\": 6, \"Grupo de edad\": \">=90\", \"fecha (a\\u00f1o-mes-d\\u00eda)\": \"2020-05-17\", \"fallecidos confirmados\": 44}, {\"index\": 0, \"Grupo de edad\": \"<=39\", \"fecha (a\\u00f1o-mes-d\\u00eda)\": \"2020-05-18\", \"fallecidos confirmados\": 10}, {\"index\": 1, \"Grupo de edad\": \"40-49\", \"fecha (a\\u00f1o-mes-d\\u00eda)\": \"2020-05-18\", \"fallecidos confirmados\": 28}, {\"index\": 2, \"Grupo de edad\": \"50-59\", \"fecha (a\\u00f1o-mes-d\\u00eda)\": \"2020-05-18\", \"fallecidos confirmados\": 40}, {\"index\": 3, \"Grupo de edad\": \"60-69\", \"fecha (a\\u00f1o-mes-d\\u00eda)\": \"2020-05-18\", \"fallecidos confirmados\": 82}, {\"index\": 4, \"Grupo de edad\": \"70-79\", \"fecha (a\\u00f1o-mes-d\\u00eda)\": \"2020-05-18\", \"fallecidos confirmados\": 133}, {\"index\": 5, \"Grupo de edad\": \"80-89\", \"fecha (a\\u00f1o-mes-d\\u00eda)\": \"2020-05-18\", \"fallecidos confirmados\": 136}, {\"index\": 6, \"Grupo de edad\": \">=90\", \"fecha (a\\u00f1o-mes-d\\u00eda)\": \"2020-05-18\", \"fallecidos confirmados\": 49}, {\"index\": 0, \"Grupo de edad\": \"<=39\", \"fecha (a\\u00f1o-mes-d\\u00eda)\": \"2020-05-19\", \"fallecidos confirmados\": 11}, {\"index\": 1, \"Grupo de edad\": \"40-49\", \"fecha (a\\u00f1o-mes-d\\u00eda)\": \"2020-05-19\", \"fallecidos confirmados\": 30}, {\"index\": 2, \"Grupo de edad\": \"50-59\", \"fecha (a\\u00f1o-mes-d\\u00eda)\": \"2020-05-19\", \"fallecidos confirmados\": 47}, {\"index\": 3, \"Grupo de edad\": \"60-69\", \"fecha (a\\u00f1o-mes-d\\u00eda)\": \"2020-05-19\", \"fallecidos confirmados\": 83}, {\"index\": 4, \"Grupo de edad\": \"70-79\", \"fecha (a\\u00f1o-mes-d\\u00eda)\": \"2020-05-19\", \"fallecidos confirmados\": 141}, {\"index\": 5, \"Grupo de edad\": \"80-89\", \"fecha (a\\u00f1o-mes-d\\u00eda)\": \"2020-05-19\", \"fallecidos confirmados\": 145}, {\"index\": 6, \"Grupo de edad\": \">=90\", \"fecha (a\\u00f1o-mes-d\\u00eda)\": \"2020-05-19\", \"fallecidos confirmados\": 52}, {\"index\": 0, \"Grupo de edad\": \"<=39\", \"fecha (a\\u00f1o-mes-d\\u00eda)\": \"2020-05-20\", \"fallecidos confirmados\": 11}, {\"index\": 1, \"Grupo de edad\": \"40-49\", \"fecha (a\\u00f1o-mes-d\\u00eda)\": \"2020-05-20\", \"fallecidos confirmados\": 31}, {\"index\": 2, \"Grupo de edad\": \"50-59\", \"fecha (a\\u00f1o-mes-d\\u00eda)\": \"2020-05-20\", \"fallecidos confirmados\": 51}, {\"index\": 3, \"Grupo de edad\": \"60-69\", \"fecha (a\\u00f1o-mes-d\\u00eda)\": \"2020-05-20\", \"fallecidos confirmados\": 92}, {\"index\": 4, \"Grupo de edad\": \"70-79\", \"fecha (a\\u00f1o-mes-d\\u00eda)\": \"2020-05-20\", \"fallecidos confirmados\": 152}, {\"index\": 5, \"Grupo de edad\": \"80-89\", \"fecha (a\\u00f1o-mes-d\\u00eda)\": \"2020-05-20\", \"fallecidos confirmados\": 152}, {\"index\": 6, \"Grupo de edad\": \">=90\", \"fecha (a\\u00f1o-mes-d\\u00eda)\": \"2020-05-20\", \"fallecidos confirmados\": 55}]}}, {\"mode\": \"vega-lite\"});\n",
       "</script>"
      ],
      "text/plain": [
       "alt.HConcatChart(...)"
      ]
     },
     "execution_count": 53,
     "metadata": {},
     "output_type": "execute_result"
    }
   ],
   "source": [
    "#hide_input\n",
    "input_dropdown = alt.binding_select(options=data['Grupo de edad'].unique())\n",
    "selection1 = alt.selection_single(fields=['Grupo de edad'], bind=input_dropdown, name=' ')\n",
    "selection2 = alt.selection_multi(fields=['Grupo de edad'], on='mouseover')\n",
    "\n",
    "color = alt.condition(selection1 | selection2,\n",
    "                    alt.Color('Grupo de edad:N', scale=alt.Scale(scheme='tableau20'), legend=None),\n",
    "                    alt.value('lightgray'))\n",
    "\n",
    "bars = alt.Chart(data).mark_bar().encode(\n",
    "    x = 'fecha (año-mes-día):N',\n",
    "    y = 'fallecidos confirmados:Q',\n",
    "    color = color,\n",
    "    tooltip = ['fecha (año-mes-día)', 'Grupo de edad', 'fallecidos confirmados'],\n",
    "    order=alt.Order(\n",
    "    # Sort the segments of the bars by this field\n",
    "    'index',\n",
    "    sort='descending'\n",
    "    )\n",
    ").add_selection(\n",
    "    selection1, selection2\n",
    ").transform_filter(\n",
    "    selection1\n",
    ")\n",
    "\n",
    "legend = alt.Chart(data).mark_point().encode(\n",
    "    y=alt.Y('Grupo de edad', axis=alt.Axis(orient='right'), sort=grupo_de_edad),\n",
    "    color=color\n",
    ").add_selection(\n",
    "    selection1, selection2\n",
    ")\n",
    "\n",
    "bars.properties(\n",
    "    title = 'COVID-19 en Chile: Evolución de fallecidos confirmados por rango de edad',\n",
    "    width = 600\n",
    ") | legend"
   ]
  },
  {
   "cell_type": "code",
   "execution_count": 54,
   "metadata": {},
   "outputs": [
    {
     "data": {
      "text/html": [
       "\n",
       "<div id=\"altair-viz-1f55a879afcd496a92b792e4cd334de6\"></div>\n",
       "<script type=\"text/javascript\">\n",
       "  (function(spec, embedOpt){\n",
       "    let outputDiv = document.currentScript.previousElementSibling;\n",
       "    if (outputDiv.id !== \"altair-viz-1f55a879afcd496a92b792e4cd334de6\") {\n",
       "      outputDiv = document.getElementById(\"altair-viz-1f55a879afcd496a92b792e4cd334de6\");\n",
       "    }\n",
       "    const paths = {\n",
       "      \"vega\": \"https://cdn.jsdelivr.net/npm//vega@5?noext\",\n",
       "      \"vega-lib\": \"https://cdn.jsdelivr.net/npm//vega-lib?noext\",\n",
       "      \"vega-lite\": \"https://cdn.jsdelivr.net/npm//vega-lite@4.8.1?noext\",\n",
       "      \"vega-embed\": \"https://cdn.jsdelivr.net/npm//vega-embed@6?noext\",\n",
       "    };\n",
       "\n",
       "    function loadScript(lib) {\n",
       "      return new Promise(function(resolve, reject) {\n",
       "        var s = document.createElement('script');\n",
       "        s.src = paths[lib];\n",
       "        s.async = true;\n",
       "        s.onload = () => resolve(paths[lib]);\n",
       "        s.onerror = () => reject(`Error loading script: ${paths[lib]}`);\n",
       "        document.getElementsByTagName(\"head\")[0].appendChild(s);\n",
       "      });\n",
       "    }\n",
       "\n",
       "    function showError(err) {\n",
       "      outputDiv.innerHTML = `<div class=\"error\" style=\"color:red;\">${err}</div>`;\n",
       "      throw err;\n",
       "    }\n",
       "\n",
       "    function displayChart(vegaEmbed) {\n",
       "      vegaEmbed(outputDiv, spec, embedOpt)\n",
       "        .catch(err => showError(`Javascript Error: ${err.message}<br>This usually means there's a typo in your chart specification. See the javascript console for the full traceback.`));\n",
       "    }\n",
       "\n",
       "    if(typeof define === \"function\" && define.amd) {\n",
       "      requirejs.config({paths});\n",
       "      require([\"vega-embed\"], displayChart, err => showError(`Error loading script: ${err.message}`));\n",
       "    } else if (typeof vegaEmbed === \"function\") {\n",
       "      displayChart(vegaEmbed);\n",
       "    } else {\n",
       "      loadScript(\"vega\")\n",
       "        .then(() => loadScript(\"vega-lite\"))\n",
       "        .then(() => loadScript(\"vega-embed\"))\n",
       "        .catch(showError)\n",
       "        .then(() => displayChart(vegaEmbed));\n",
       "    }\n",
       "  })({\"config\": {\"view\": {\"continuousWidth\": 400, \"continuousHeight\": 300}}, \"hconcat\": [{\"mark\": \"area\", \"encoding\": {\"color\": {\"condition\": {\"type\": \"nominal\", \"field\": \"Grupo de edad\", \"legend\": null, \"scale\": {\"scheme\": \"tableau20\"}, \"selection\": \"selector004\"}, \"value\": \"lightgray\"}, \"order\": {\"type\": \"quantitative\", \"field\": \"index\", \"sort\": \"descending\"}, \"tooltip\": [{\"type\": \"nominal\", \"field\": \"fecha (a\\u00f1o-mes-d\\u00eda)\"}, {\"type\": \"nominal\", \"field\": \"Grupo de edad\"}, {\"type\": \"quantitative\", \"field\": \"fallecidos confirmados\"}], \"x\": {\"type\": \"nominal\", \"field\": \"fecha (a\\u00f1o-mes-d\\u00eda)\"}, \"y\": {\"type\": \"quantitative\", \"field\": \"fallecidos confirmados\", \"sort\": [\"<=39\", \"40-49\", \"50-59\", \"60-69\", \"70-79\", \"80-89\", \">=90\"], \"stack\": \"normalize\"}}, \"selection\": {\"selector004\": {\"type\": \"multi\", \"fields\": [\"Grupo de edad\"], \"on\": \"mouseover\"}}, \"title\": \"COVID-19 en Chile: Evoluci\\u00f3n de fallecidos confirmados normalizados por rango de edad\", \"width\": 600}, {\"mark\": \"point\", \"encoding\": {\"color\": {\"condition\": {\"type\": \"nominal\", \"field\": \"Grupo de edad\", \"legend\": null, \"scale\": {\"scheme\": \"tableau20\"}, \"selection\": \"selector004\"}, \"value\": \"lightgray\"}, \"y\": {\"type\": \"nominal\", \"axis\": {\"orient\": \"right\"}, \"field\": \"Grupo de edad\", \"sort\": [\"<=39\", \"40-49\", \"50-59\", \"60-69\", \"70-79\", \"80-89\", \">=90\"]}}, \"selection\": {\"selector004\": {\"type\": \"multi\", \"fields\": [\"Grupo de edad\"], \"on\": \"mouseover\"}}}], \"data\": {\"name\": \"data-e7fbdd99606b189ed3a066460353f759\"}, \"$schema\": \"https://vega.github.io/schema/vega-lite/v4.8.1.json\", \"datasets\": {\"data-e7fbdd99606b189ed3a066460353f759\": [{\"index\": 0, \"Grupo de edad\": \"<=39\", \"fecha (a\\u00f1o-mes-d\\u00eda)\": \"2020-04-09\", \"fallecidos confirmados\": 2}, {\"index\": 1, \"Grupo de edad\": \"40-49\", \"fecha (a\\u00f1o-mes-d\\u00eda)\": \"2020-04-09\", \"fallecidos confirmados\": 1}, {\"index\": 2, \"Grupo de edad\": \"50-59\", \"fecha (a\\u00f1o-mes-d\\u00eda)\": \"2020-04-09\", \"fallecidos confirmados\": 1}, {\"index\": 3, \"Grupo de edad\": \"60-69\", \"fecha (a\\u00f1o-mes-d\\u00eda)\": \"2020-04-09\", \"fallecidos confirmados\": 9}, {\"index\": 4, \"Grupo de edad\": \"70-79\", \"fecha (a\\u00f1o-mes-d\\u00eda)\": \"2020-04-09\", \"fallecidos confirmados\": 21}, {\"index\": 5, \"Grupo de edad\": \"80-89\", \"fecha (a\\u00f1o-mes-d\\u00eda)\": \"2020-04-09\", \"fallecidos confirmados\": 19}, {\"index\": 6, \"Grupo de edad\": \">=90\", \"fecha (a\\u00f1o-mes-d\\u00eda)\": \"2020-04-09\", \"fallecidos confirmados\": 4}, {\"index\": 0, \"Grupo de edad\": \"<=39\", \"fecha (a\\u00f1o-mes-d\\u00eda)\": \"2020-04-10\", \"fallecidos confirmados\": 2}, {\"index\": 1, \"Grupo de edad\": \"40-49\", \"fecha (a\\u00f1o-mes-d\\u00eda)\": \"2020-04-10\", \"fallecidos confirmados\": 2}, {\"index\": 2, \"Grupo de edad\": \"50-59\", \"fecha (a\\u00f1o-mes-d\\u00eda)\": \"2020-04-10\", \"fallecidos confirmados\": 2}, {\"index\": 3, \"Grupo de edad\": \"60-69\", \"fecha (a\\u00f1o-mes-d\\u00eda)\": \"2020-04-10\", \"fallecidos confirmados\": 10}, {\"index\": 4, \"Grupo de edad\": \"70-79\", \"fecha (a\\u00f1o-mes-d\\u00eda)\": \"2020-04-10\", \"fallecidos confirmados\": 22}, {\"index\": 5, \"Grupo de edad\": \"80-89\", \"fecha (a\\u00f1o-mes-d\\u00eda)\": \"2020-04-10\", \"fallecidos confirmados\": 21}, {\"index\": 6, \"Grupo de edad\": \">=90\", \"fecha (a\\u00f1o-mes-d\\u00eda)\": \"2020-04-10\", \"fallecidos confirmados\": 6}, {\"index\": 0, \"Grupo de edad\": \"<=39\", \"fecha (a\\u00f1o-mes-d\\u00eda)\": \"2020-04-11\", \"fallecidos confirmados\": 3}, {\"index\": 1, \"Grupo de edad\": \"40-49\", \"fecha (a\\u00f1o-mes-d\\u00eda)\": \"2020-04-11\", \"fallecidos confirmados\": 2}, {\"index\": 2, \"Grupo de edad\": \"50-59\", \"fecha (a\\u00f1o-mes-d\\u00eda)\": \"2020-04-11\", \"fallecidos confirmados\": 2}, {\"index\": 3, \"Grupo de edad\": \"60-69\", \"fecha (a\\u00f1o-mes-d\\u00eda)\": \"2020-04-11\", \"fallecidos confirmados\": 12}, {\"index\": 4, \"Grupo de edad\": \"70-79\", \"fecha (a\\u00f1o-mes-d\\u00eda)\": \"2020-04-11\", \"fallecidos confirmados\": 24}, {\"index\": 5, \"Grupo de edad\": \"80-89\", \"fecha (a\\u00f1o-mes-d\\u00eda)\": \"2020-04-11\", \"fallecidos confirmados\": 24}, {\"index\": 6, \"Grupo de edad\": \">=90\", \"fecha (a\\u00f1o-mes-d\\u00eda)\": \"2020-04-11\", \"fallecidos confirmados\": 6}, {\"index\": 0, \"Grupo de edad\": \"<=39\", \"fecha (a\\u00f1o-mes-d\\u00eda)\": \"2020-04-12\", \"fallecidos confirmados\": 3}, {\"index\": 1, \"Grupo de edad\": \"40-49\", \"fecha (a\\u00f1o-mes-d\\u00eda)\": \"2020-04-12\", \"fallecidos confirmados\": 2}, {\"index\": 2, \"Grupo de edad\": \"50-59\", \"fecha (a\\u00f1o-mes-d\\u00eda)\": \"2020-04-12\", \"fallecidos confirmados\": 3}, {\"index\": 3, \"Grupo de edad\": \"60-69\", \"fecha (a\\u00f1o-mes-d\\u00eda)\": \"2020-04-12\", \"fallecidos confirmados\": 12}, {\"index\": 4, \"Grupo de edad\": \"70-79\", \"fecha (a\\u00f1o-mes-d\\u00eda)\": \"2020-04-12\", \"fallecidos confirmados\": 28}, {\"index\": 5, \"Grupo de edad\": \"80-89\", \"fecha (a\\u00f1o-mes-d\\u00eda)\": \"2020-04-12\", \"fallecidos confirmados\": 25}, {\"index\": 6, \"Grupo de edad\": \">=90\", \"fecha (a\\u00f1o-mes-d\\u00eda)\": \"2020-04-12\", \"fallecidos confirmados\": 7}, {\"index\": 0, \"Grupo de edad\": \"<=39\", \"fecha (a\\u00f1o-mes-d\\u00eda)\": \"2020-04-13\", \"fallecidos confirmados\": 3}, {\"index\": 1, \"Grupo de edad\": \"40-49\", \"fecha (a\\u00f1o-mes-d\\u00eda)\": \"2020-04-13\", \"fallecidos confirmados\": 2}, {\"index\": 2, \"Grupo de edad\": \"50-59\", \"fecha (a\\u00f1o-mes-d\\u00eda)\": \"2020-04-13\", \"fallecidos confirmados\": 3}, {\"index\": 3, \"Grupo de edad\": \"60-69\", \"fecha (a\\u00f1o-mes-d\\u00eda)\": \"2020-04-13\", \"fallecidos confirmados\": 12}, {\"index\": 4, \"Grupo de edad\": \"70-79\", \"fecha (a\\u00f1o-mes-d\\u00eda)\": \"2020-04-13\", \"fallecidos confirmados\": 29}, {\"index\": 5, \"Grupo de edad\": \"80-89\", \"fecha (a\\u00f1o-mes-d\\u00eda)\": \"2020-04-13\", \"fallecidos confirmados\": 26}, {\"index\": 6, \"Grupo de edad\": \">=90\", \"fecha (a\\u00f1o-mes-d\\u00eda)\": \"2020-04-13\", \"fallecidos confirmados\": 7}, {\"index\": 0, \"Grupo de edad\": \"<=39\", \"fecha (a\\u00f1o-mes-d\\u00eda)\": \"2020-04-14\", \"fallecidos confirmados\": 3}, {\"index\": 1, \"Grupo de edad\": \"40-49\", \"fecha (a\\u00f1o-mes-d\\u00eda)\": \"2020-04-14\", \"fallecidos confirmados\": 2}, {\"index\": 2, \"Grupo de edad\": \"50-59\", \"fecha (a\\u00f1o-mes-d\\u00eda)\": \"2020-04-14\", \"fallecidos confirmados\": 5}, {\"index\": 3, \"Grupo de edad\": \"60-69\", \"fecha (a\\u00f1o-mes-d\\u00eda)\": \"2020-04-14\", \"fallecidos confirmados\": 12}, {\"index\": 4, \"Grupo de edad\": \"70-79\", \"fecha (a\\u00f1o-mes-d\\u00eda)\": \"2020-04-14\", \"fallecidos confirmados\": 30}, {\"index\": 5, \"Grupo de edad\": \"80-89\", \"fecha (a\\u00f1o-mes-d\\u00eda)\": \"2020-04-14\", \"fallecidos confirmados\": 32}, {\"index\": 6, \"Grupo de edad\": \">=90\", \"fecha (a\\u00f1o-mes-d\\u00eda)\": \"2020-04-14\", \"fallecidos confirmados\": 8}, {\"index\": 0, \"Grupo de edad\": \"<=39\", \"fecha (a\\u00f1o-mes-d\\u00eda)\": \"2020-04-15\", \"fallecidos confirmados\": 3}, {\"index\": 1, \"Grupo de edad\": \"40-49\", \"fecha (a\\u00f1o-mes-d\\u00eda)\": \"2020-04-15\", \"fallecidos confirmados\": 2}, {\"index\": 2, \"Grupo de edad\": \"50-59\", \"fecha (a\\u00f1o-mes-d\\u00eda)\": \"2020-04-15\", \"fallecidos confirmados\": 5}, {\"index\": 3, \"Grupo de edad\": \"60-69\", \"fecha (a\\u00f1o-mes-d\\u00eda)\": \"2020-04-15\", \"fallecidos confirmados\": 12}, {\"index\": 4, \"Grupo de edad\": \"70-79\", \"fecha (a\\u00f1o-mes-d\\u00eda)\": \"2020-04-15\", \"fallecidos confirmados\": 31}, {\"index\": 5, \"Grupo de edad\": \"80-89\", \"fecha (a\\u00f1o-mes-d\\u00eda)\": \"2020-04-15\", \"fallecidos confirmados\": 33}, {\"index\": 6, \"Grupo de edad\": \">=90\", \"fecha (a\\u00f1o-mes-d\\u00eda)\": \"2020-04-15\", \"fallecidos confirmados\": 8}, {\"index\": 0, \"Grupo de edad\": \"<=39\", \"fecha (a\\u00f1o-mes-d\\u00eda)\": \"2020-04-16\", \"fallecidos confirmados\": 3}, {\"index\": 1, \"Grupo de edad\": \"40-49\", \"fecha (a\\u00f1o-mes-d\\u00eda)\": \"2020-04-16\", \"fallecidos confirmados\": 2}, {\"index\": 2, \"Grupo de edad\": \"50-59\", \"fecha (a\\u00f1o-mes-d\\u00eda)\": \"2020-04-16\", \"fallecidos confirmados\": 6}, {\"index\": 3, \"Grupo de edad\": \"60-69\", \"fecha (a\\u00f1o-mes-d\\u00eda)\": \"2020-04-16\", \"fallecidos confirmados\": 14}, {\"index\": 4, \"Grupo de edad\": \"70-79\", \"fecha (a\\u00f1o-mes-d\\u00eda)\": \"2020-04-16\", \"fallecidos confirmados\": 32}, {\"index\": 5, \"Grupo de edad\": \"80-89\", \"fecha (a\\u00f1o-mes-d\\u00eda)\": \"2020-04-16\", \"fallecidos confirmados\": 38}, {\"index\": 6, \"Grupo de edad\": \">=90\", \"fecha (a\\u00f1o-mes-d\\u00eda)\": \"2020-04-16\", \"fallecidos confirmados\": 10}, {\"index\": 0, \"Grupo de edad\": \"<=39\", \"fecha (a\\u00f1o-mes-d\\u00eda)\": \"2020-04-17\", \"fallecidos confirmados\": 4}, {\"index\": 1, \"Grupo de edad\": \"40-49\", \"fecha (a\\u00f1o-mes-d\\u00eda)\": \"2020-04-17\", \"fallecidos confirmados\": 2}, {\"index\": 2, \"Grupo de edad\": \"50-59\", \"fecha (a\\u00f1o-mes-d\\u00eda)\": \"2020-04-17\", \"fallecidos confirmados\": 8}, {\"index\": 3, \"Grupo de edad\": \"60-69\", \"fecha (a\\u00f1o-mes-d\\u00eda)\": \"2020-04-17\", \"fallecidos confirmados\": 16}, {\"index\": 4, \"Grupo de edad\": \"70-79\", \"fecha (a\\u00f1o-mes-d\\u00eda)\": \"2020-04-17\", \"fallecidos confirmados\": 36}, {\"index\": 5, \"Grupo de edad\": \"80-89\", \"fecha (a\\u00f1o-mes-d\\u00eda)\": \"2020-04-17\", \"fallecidos confirmados\": 40}, {\"index\": 6, \"Grupo de edad\": \">=90\", \"fecha (a\\u00f1o-mes-d\\u00eda)\": \"2020-04-17\", \"fallecidos confirmados\": 10}, {\"index\": 0, \"Grupo de edad\": \"<=39\", \"fecha (a\\u00f1o-mes-d\\u00eda)\": \"2020-04-18\", \"fallecidos confirmados\": 4}, {\"index\": 1, \"Grupo de edad\": \"40-49\", \"fecha (a\\u00f1o-mes-d\\u00eda)\": \"2020-04-18\", \"fallecidos confirmados\": 2}, {\"index\": 2, \"Grupo de edad\": \"50-59\", \"fecha (a\\u00f1o-mes-d\\u00eda)\": \"2020-04-18\", \"fallecidos confirmados\": 8}, {\"index\": 3, \"Grupo de edad\": \"60-69\", \"fecha (a\\u00f1o-mes-d\\u00eda)\": \"2020-04-18\", \"fallecidos confirmados\": 17}, {\"index\": 4, \"Grupo de edad\": \"70-79\", \"fecha (a\\u00f1o-mes-d\\u00eda)\": \"2020-04-18\", \"fallecidos confirmados\": 39}, {\"index\": 5, \"Grupo de edad\": \"80-89\", \"fecha (a\\u00f1o-mes-d\\u00eda)\": \"2020-04-18\", \"fallecidos confirmados\": 44}, {\"index\": 6, \"Grupo de edad\": \">=90\", \"fecha (a\\u00f1o-mes-d\\u00eda)\": \"2020-04-18\", \"fallecidos confirmados\": 12}, {\"index\": 0, \"Grupo de edad\": \"<=39\", \"fecha (a\\u00f1o-mes-d\\u00eda)\": \"2020-04-19\", \"fallecidos confirmados\": 4}, {\"index\": 1, \"Grupo de edad\": \"40-49\", \"fecha (a\\u00f1o-mes-d\\u00eda)\": \"2020-04-19\", \"fallecidos confirmados\": 2}, {\"index\": 2, \"Grupo de edad\": \"50-59\", \"fecha (a\\u00f1o-mes-d\\u00eda)\": \"2020-04-19\", \"fallecidos confirmados\": 9}, {\"index\": 3, \"Grupo de edad\": \"60-69\", \"fecha (a\\u00f1o-mes-d\\u00eda)\": \"2020-04-19\", \"fallecidos confirmados\": 18}, {\"index\": 4, \"Grupo de edad\": \"70-79\", \"fecha (a\\u00f1o-mes-d\\u00eda)\": \"2020-04-19\", \"fallecidos confirmados\": 41}, {\"index\": 5, \"Grupo de edad\": \"80-89\", \"fecha (a\\u00f1o-mes-d\\u00eda)\": \"2020-04-19\", \"fallecidos confirmados\": 46}, {\"index\": 6, \"Grupo de edad\": \">=90\", \"fecha (a\\u00f1o-mes-d\\u00eda)\": \"2020-04-19\", \"fallecidos confirmados\": 13}, {\"index\": 0, \"Grupo de edad\": \"<=39\", \"fecha (a\\u00f1o-mes-d\\u00eda)\": \"2020-04-20\", \"fallecidos confirmados\": 4}, {\"index\": 1, \"Grupo de edad\": \"40-49\", \"fecha (a\\u00f1o-mes-d\\u00eda)\": \"2020-04-20\", \"fallecidos confirmados\": 2}, {\"index\": 2, \"Grupo de edad\": \"50-59\", \"fecha (a\\u00f1o-mes-d\\u00eda)\": \"2020-04-20\", \"fallecidos confirmados\": 11}, {\"index\": 3, \"Grupo de edad\": \"60-69\", \"fecha (a\\u00f1o-mes-d\\u00eda)\": \"2020-04-20\", \"fallecidos confirmados\": 19}, {\"index\": 4, \"Grupo de edad\": \"70-79\", \"fecha (a\\u00f1o-mes-d\\u00eda)\": \"2020-04-20\", \"fallecidos confirmados\": 42}, {\"index\": 5, \"Grupo de edad\": \"80-89\", \"fecha (a\\u00f1o-mes-d\\u00eda)\": \"2020-04-20\", \"fallecidos confirmados\": 47}, {\"index\": 6, \"Grupo de edad\": \">=90\", \"fecha (a\\u00f1o-mes-d\\u00eda)\": \"2020-04-20\", \"fallecidos confirmados\": 14}, {\"index\": 0, \"Grupo de edad\": \"<=39\", \"fecha (a\\u00f1o-mes-d\\u00eda)\": \"2020-04-21\", \"fallecidos confirmados\": 5}, {\"index\": 1, \"Grupo de edad\": \"40-49\", \"fecha (a\\u00f1o-mes-d\\u00eda)\": \"2020-04-21\", \"fallecidos confirmados\": 2}, {\"index\": 2, \"Grupo de edad\": \"50-59\", \"fecha (a\\u00f1o-mes-d\\u00eda)\": \"2020-04-21\", \"fallecidos confirmados\": 13}, {\"index\": 3, \"Grupo de edad\": \"60-69\", \"fecha (a\\u00f1o-mes-d\\u00eda)\": \"2020-04-21\", \"fallecidos confirmados\": 20}, {\"index\": 4, \"Grupo de edad\": \"70-79\", \"fecha (a\\u00f1o-mes-d\\u00eda)\": \"2020-04-21\", \"fallecidos confirmados\": 43}, {\"index\": 5, \"Grupo de edad\": \"80-89\", \"fecha (a\\u00f1o-mes-d\\u00eda)\": \"2020-04-21\", \"fallecidos confirmados\": 50}, {\"index\": 6, \"Grupo de edad\": \">=90\", \"fecha (a\\u00f1o-mes-d\\u00eda)\": \"2020-04-21\", \"fallecidos confirmados\": 14}, {\"index\": 0, \"Grupo de edad\": \"<=39\", \"fecha (a\\u00f1o-mes-d\\u00eda)\": \"2020-04-22\", \"fallecidos confirmados\": 5}, {\"index\": 1, \"Grupo de edad\": \"40-49\", \"fecha (a\\u00f1o-mes-d\\u00eda)\": \"2020-04-22\", \"fallecidos confirmados\": 2}, {\"index\": 2, \"Grupo de edad\": \"50-59\", \"fecha (a\\u00f1o-mes-d\\u00eda)\": \"2020-04-22\", \"fallecidos confirmados\": 14}, {\"index\": 3, \"Grupo de edad\": \"60-69\", \"fecha (a\\u00f1o-mes-d\\u00eda)\": \"2020-04-22\", \"fallecidos confirmados\": 26}, {\"index\": 4, \"Grupo de edad\": \"70-79\", \"fecha (a\\u00f1o-mes-d\\u00eda)\": \"2020-04-22\", \"fallecidos confirmados\": 47}, {\"index\": 5, \"Grupo de edad\": \"80-89\", \"fecha (a\\u00f1o-mes-d\\u00eda)\": \"2020-04-22\", \"fallecidos confirmados\": 51}, {\"index\": 6, \"Grupo de edad\": \">=90\", \"fecha (a\\u00f1o-mes-d\\u00eda)\": \"2020-04-22\", \"fallecidos confirmados\": 15}, {\"index\": 0, \"Grupo de edad\": \"<=39\", \"fecha (a\\u00f1o-mes-d\\u00eda)\": \"2020-04-23\", \"fallecidos confirmados\": 5}, {\"index\": 1, \"Grupo de edad\": \"40-49\", \"fecha (a\\u00f1o-mes-d\\u00eda)\": \"2020-04-23\", \"fallecidos confirmados\": 3}, {\"index\": 2, \"Grupo de edad\": \"50-59\", \"fecha (a\\u00f1o-mes-d\\u00eda)\": \"2020-04-23\", \"fallecidos confirmados\": 14}, {\"index\": 3, \"Grupo de edad\": \"60-69\", \"fecha (a\\u00f1o-mes-d\\u00eda)\": \"2020-04-23\", \"fallecidos confirmados\": 28}, {\"index\": 4, \"Grupo de edad\": \"70-79\", \"fecha (a\\u00f1o-mes-d\\u00eda)\": \"2020-04-23\", \"fallecidos confirmados\": 48}, {\"index\": 5, \"Grupo de edad\": \"80-89\", \"fecha (a\\u00f1o-mes-d\\u00eda)\": \"2020-04-23\", \"fallecidos confirmados\": 54}, {\"index\": 6, \"Grupo de edad\": \">=90\", \"fecha (a\\u00f1o-mes-d\\u00eda)\": \"2020-04-23\", \"fallecidos confirmados\": 16}, {\"index\": 0, \"Grupo de edad\": \"<=39\", \"fecha (a\\u00f1o-mes-d\\u00eda)\": \"2020-04-24\", \"fallecidos confirmados\": 5}, {\"index\": 1, \"Grupo de edad\": \"40-49\", \"fecha (a\\u00f1o-mes-d\\u00eda)\": \"2020-04-24\", \"fallecidos confirmados\": 4}, {\"index\": 2, \"Grupo de edad\": \"50-59\", \"fecha (a\\u00f1o-mes-d\\u00eda)\": \"2020-04-24\", \"fallecidos confirmados\": 14}, {\"index\": 3, \"Grupo de edad\": \"60-69\", \"fecha (a\\u00f1o-mes-d\\u00eda)\": \"2020-04-24\", \"fallecidos confirmados\": 30}, {\"index\": 4, \"Grupo de edad\": \"70-79\", \"fecha (a\\u00f1o-mes-d\\u00eda)\": \"2020-04-24\", \"fallecidos confirmados\": 49}, {\"index\": 5, \"Grupo de edad\": \"80-89\", \"fecha (a\\u00f1o-mes-d\\u00eda)\": \"2020-04-24\", \"fallecidos confirmados\": 56}, {\"index\": 6, \"Grupo de edad\": \">=90\", \"fecha (a\\u00f1o-mes-d\\u00eda)\": \"2020-04-24\", \"fallecidos confirmados\": 16}, {\"index\": 0, \"Grupo de edad\": \"<=39\", \"fecha (a\\u00f1o-mes-d\\u00eda)\": \"2020-04-25\", \"fallecidos confirmados\": 6}, {\"index\": 1, \"Grupo de edad\": \"40-49\", \"fecha (a\\u00f1o-mes-d\\u00eda)\": \"2020-04-25\", \"fallecidos confirmados\": 6}, {\"index\": 2, \"Grupo de edad\": \"50-59\", \"fecha (a\\u00f1o-mes-d\\u00eda)\": \"2020-04-25\", \"fallecidos confirmados\": 15}, {\"index\": 3, \"Grupo de edad\": \"60-69\", \"fecha (a\\u00f1o-mes-d\\u00eda)\": \"2020-04-25\", \"fallecidos confirmados\": 31}, {\"index\": 4, \"Grupo de edad\": \"70-79\", \"fecha (a\\u00f1o-mes-d\\u00eda)\": \"2020-04-25\", \"fallecidos confirmados\": 50}, {\"index\": 5, \"Grupo de edad\": \"80-89\", \"fecha (a\\u00f1o-mes-d\\u00eda)\": \"2020-04-25\", \"fallecidos confirmados\": 57}, {\"index\": 6, \"Grupo de edad\": \">=90\", \"fecha (a\\u00f1o-mes-d\\u00eda)\": \"2020-04-25\", \"fallecidos confirmados\": 16}, {\"index\": 0, \"Grupo de edad\": \"<=39\", \"fecha (a\\u00f1o-mes-d\\u00eda)\": \"2020-04-26\", \"fallecidos confirmados\": 6}, {\"index\": 1, \"Grupo de edad\": \"40-49\", \"fecha (a\\u00f1o-mes-d\\u00eda)\": \"2020-04-26\", \"fallecidos confirmados\": 7}, {\"index\": 2, \"Grupo de edad\": \"50-59\", \"fecha (a\\u00f1o-mes-d\\u00eda)\": \"2020-04-26\", \"fallecidos confirmados\": 15}, {\"index\": 3, \"Grupo de edad\": \"60-69\", \"fecha (a\\u00f1o-mes-d\\u00eda)\": \"2020-04-26\", \"fallecidos confirmados\": 33}, {\"index\": 4, \"Grupo de edad\": \"70-79\", \"fecha (a\\u00f1o-mes-d\\u00eda)\": \"2020-04-26\", \"fallecidos confirmados\": 52}, {\"index\": 5, \"Grupo de edad\": \"80-89\", \"fecha (a\\u00f1o-mes-d\\u00eda)\": \"2020-04-26\", \"fallecidos confirmados\": 59}, {\"index\": 6, \"Grupo de edad\": \">=90\", \"fecha (a\\u00f1o-mes-d\\u00eda)\": \"2020-04-26\", \"fallecidos confirmados\": 17}, {\"index\": 0, \"Grupo de edad\": \"<=39\", \"fecha (a\\u00f1o-mes-d\\u00eda)\": \"2020-04-27\", \"fallecidos confirmados\": 6}, {\"index\": 1, \"Grupo de edad\": \"40-49\", \"fecha (a\\u00f1o-mes-d\\u00eda)\": \"2020-04-27\", \"fallecidos confirmados\": 7}, {\"index\": 2, \"Grupo de edad\": \"50-59\", \"fecha (a\\u00f1o-mes-d\\u00eda)\": \"2020-04-27\", \"fallecidos confirmados\": 16}, {\"index\": 3, \"Grupo de edad\": \"60-69\", \"fecha (a\\u00f1o-mes-d\\u00eda)\": \"2020-04-27\", \"fallecidos confirmados\": 35}, {\"index\": 4, \"Grupo de edad\": \"70-79\", \"fecha (a\\u00f1o-mes-d\\u00eda)\": \"2020-04-27\", \"fallecidos confirmados\": 57}, {\"index\": 5, \"Grupo de edad\": \"80-89\", \"fecha (a\\u00f1o-mes-d\\u00eda)\": \"2020-04-27\", \"fallecidos confirmados\": 60}, {\"index\": 6, \"Grupo de edad\": \">=90\", \"fecha (a\\u00f1o-mes-d\\u00eda)\": \"2020-04-27\", \"fallecidos confirmados\": 17}, {\"index\": 0, \"Grupo de edad\": \"<=39\", \"fecha (a\\u00f1o-mes-d\\u00eda)\": \"2020-04-28\", \"fallecidos confirmados\": 6}, {\"index\": 1, \"Grupo de edad\": \"40-49\", \"fecha (a\\u00f1o-mes-d\\u00eda)\": \"2020-04-28\", \"fallecidos confirmados\": 8}, {\"index\": 2, \"Grupo de edad\": \"50-59\", \"fecha (a\\u00f1o-mes-d\\u00eda)\": \"2020-04-28\", \"fallecidos confirmados\": 16}, {\"index\": 3, \"Grupo de edad\": \"60-69\", \"fecha (a\\u00f1o-mes-d\\u00eda)\": \"2020-04-28\", \"fallecidos confirmados\": 35}, {\"index\": 4, \"Grupo de edad\": \"70-79\", \"fecha (a\\u00f1o-mes-d\\u00eda)\": \"2020-04-28\", \"fallecidos confirmados\": 60}, {\"index\": 5, \"Grupo de edad\": \"80-89\", \"fecha (a\\u00f1o-mes-d\\u00eda)\": \"2020-04-28\", \"fallecidos confirmados\": 62}, {\"index\": 6, \"Grupo de edad\": \">=90\", \"fecha (a\\u00f1o-mes-d\\u00eda)\": \"2020-04-28\", \"fallecidos confirmados\": 20}, {\"index\": 0, \"Grupo de edad\": \"<=39\", \"fecha (a\\u00f1o-mes-d\\u00eda)\": \"2020-04-29\", \"fallecidos confirmados\": 6}, {\"index\": 1, \"Grupo de edad\": \"40-49\", \"fecha (a\\u00f1o-mes-d\\u00eda)\": \"2020-04-29\", \"fallecidos confirmados\": 9}, {\"index\": 2, \"Grupo de edad\": \"50-59\", \"fecha (a\\u00f1o-mes-d\\u00eda)\": \"2020-04-29\", \"fallecidos confirmados\": 17}, {\"index\": 3, \"Grupo de edad\": \"60-69\", \"fecha (a\\u00f1o-mes-d\\u00eda)\": \"2020-04-29\", \"fallecidos confirmados\": 38}, {\"index\": 4, \"Grupo de edad\": \"70-79\", \"fecha (a\\u00f1o-mes-d\\u00eda)\": \"2020-04-29\", \"fallecidos confirmados\": 60}, {\"index\": 5, \"Grupo de edad\": \"80-89\", \"fecha (a\\u00f1o-mes-d\\u00eda)\": \"2020-04-29\", \"fallecidos confirmados\": 65}, {\"index\": 6, \"Grupo de edad\": \">=90\", \"fecha (a\\u00f1o-mes-d\\u00eda)\": \"2020-04-29\", \"fallecidos confirmados\": 21}, {\"index\": 0, \"Grupo de edad\": \"<=39\", \"fecha (a\\u00f1o-mes-d\\u00eda)\": \"2020-04-30\", \"fallecidos confirmados\": 6}, {\"index\": 1, \"Grupo de edad\": \"40-49\", \"fecha (a\\u00f1o-mes-d\\u00eda)\": \"2020-04-30\", \"fallecidos confirmados\": 10}, {\"index\": 2, \"Grupo de edad\": \"50-59\", \"fecha (a\\u00f1o-mes-d\\u00eda)\": \"2020-04-30\", \"fallecidos confirmados\": 17}, {\"index\": 3, \"Grupo de edad\": \"60-69\", \"fecha (a\\u00f1o-mes-d\\u00eda)\": \"2020-04-30\", \"fallecidos confirmados\": 40}, {\"index\": 4, \"Grupo de edad\": \"70-79\", \"fecha (a\\u00f1o-mes-d\\u00eda)\": \"2020-04-30\", \"fallecidos confirmados\": 65}, {\"index\": 5, \"Grupo de edad\": \"80-89\", \"fecha (a\\u00f1o-mes-d\\u00eda)\": \"2020-04-30\", \"fallecidos confirmados\": 68}, {\"index\": 6, \"Grupo de edad\": \">=90\", \"fecha (a\\u00f1o-mes-d\\u00eda)\": \"2020-04-30\", \"fallecidos confirmados\": 21}, {\"index\": 0, \"Grupo de edad\": \"<=39\", \"fecha (a\\u00f1o-mes-d\\u00eda)\": \"2020-05-01\", \"fallecidos confirmados\": 6}, {\"index\": 1, \"Grupo de edad\": \"40-49\", \"fecha (a\\u00f1o-mes-d\\u00eda)\": \"2020-05-01\", \"fallecidos confirmados\": 10}, {\"index\": 2, \"Grupo de edad\": \"50-59\", \"fecha (a\\u00f1o-mes-d\\u00eda)\": \"2020-05-01\", \"fallecidos confirmados\": 18}, {\"index\": 3, \"Grupo de edad\": \"60-69\", \"fecha (a\\u00f1o-mes-d\\u00eda)\": \"2020-05-01\", \"fallecidos confirmados\": 41}, {\"index\": 4, \"Grupo de edad\": \"70-79\", \"fecha (a\\u00f1o-mes-d\\u00eda)\": \"2020-05-01\", \"fallecidos confirmados\": 68}, {\"index\": 5, \"Grupo de edad\": \"80-89\", \"fecha (a\\u00f1o-mes-d\\u00eda)\": \"2020-05-01\", \"fallecidos confirmados\": 70}, {\"index\": 6, \"Grupo de edad\": \">=90\", \"fecha (a\\u00f1o-mes-d\\u00eda)\": \"2020-05-01\", \"fallecidos confirmados\": 21}, {\"index\": 0, \"Grupo de edad\": \"<=39\", \"fecha (a\\u00f1o-mes-d\\u00eda)\": \"2020-05-02\", \"fallecidos confirmados\": 6}, {\"index\": 1, \"Grupo de edad\": \"40-49\", \"fecha (a\\u00f1o-mes-d\\u00eda)\": \"2020-05-02\", \"fallecidos confirmados\": 11}, {\"index\": 2, \"Grupo de edad\": \"50-59\", \"fecha (a\\u00f1o-mes-d\\u00eda)\": \"2020-05-02\", \"fallecidos confirmados\": 18}, {\"index\": 3, \"Grupo de edad\": \"60-69\", \"fecha (a\\u00f1o-mes-d\\u00eda)\": \"2020-05-02\", \"fallecidos confirmados\": 43}, {\"index\": 4, \"Grupo de edad\": \"70-79\", \"fecha (a\\u00f1o-mes-d\\u00eda)\": \"2020-05-02\", \"fallecidos confirmados\": 72}, {\"index\": 5, \"Grupo de edad\": \"80-89\", \"fecha (a\\u00f1o-mes-d\\u00eda)\": \"2020-05-02\", \"fallecidos confirmados\": 75}, {\"index\": 6, \"Grupo de edad\": \">=90\", \"fecha (a\\u00f1o-mes-d\\u00eda)\": \"2020-05-02\", \"fallecidos confirmados\": 23}, {\"index\": 0, \"Grupo de edad\": \"<=39\", \"fecha (a\\u00f1o-mes-d\\u00eda)\": \"2020-05-03\", \"fallecidos confirmados\": 6}, {\"index\": 1, \"Grupo de edad\": \"40-49\", \"fecha (a\\u00f1o-mes-d\\u00eda)\": \"2020-05-03\", \"fallecidos confirmados\": 12}, {\"index\": 2, \"Grupo de edad\": \"50-59\", \"fecha (a\\u00f1o-mes-d\\u00eda)\": \"2020-05-03\", \"fallecidos confirmados\": 18}, {\"index\": 3, \"Grupo de edad\": \"60-69\", \"fecha (a\\u00f1o-mes-d\\u00eda)\": \"2020-05-03\", \"fallecidos confirmados\": 45}, {\"index\": 4, \"Grupo de edad\": \"70-79\", \"fecha (a\\u00f1o-mes-d\\u00eda)\": \"2020-05-03\", \"fallecidos confirmados\": 73}, {\"index\": 5, \"Grupo de edad\": \"80-89\", \"fecha (a\\u00f1o-mes-d\\u00eda)\": \"2020-05-03\", \"fallecidos confirmados\": 80}, {\"index\": 6, \"Grupo de edad\": \">=90\", \"fecha (a\\u00f1o-mes-d\\u00eda)\": \"2020-05-03\", \"fallecidos confirmados\": 26}, {\"index\": 0, \"Grupo de edad\": \"<=39\", \"fecha (a\\u00f1o-mes-d\\u00eda)\": \"2020-05-04\", \"fallecidos confirmados\": 6}, {\"index\": 1, \"Grupo de edad\": \"40-49\", \"fecha (a\\u00f1o-mes-d\\u00eda)\": \"2020-05-04\", \"fallecidos confirmados\": 12}, {\"index\": 2, \"Grupo de edad\": \"50-59\", \"fecha (a\\u00f1o-mes-d\\u00eda)\": \"2020-05-04\", \"fallecidos confirmados\": 20}, {\"index\": 3, \"Grupo de edad\": \"60-69\", \"fecha (a\\u00f1o-mes-d\\u00eda)\": \"2020-05-04\", \"fallecidos confirmados\": 46}, {\"index\": 4, \"Grupo de edad\": \"70-79\", \"fecha (a\\u00f1o-mes-d\\u00eda)\": \"2020-05-04\", \"fallecidos confirmados\": 76}, {\"index\": 5, \"Grupo de edad\": \"80-89\", \"fecha (a\\u00f1o-mes-d\\u00eda)\": \"2020-05-04\", \"fallecidos confirmados\": 83}, {\"index\": 6, \"Grupo de edad\": \">=90\", \"fecha (a\\u00f1o-mes-d\\u00eda)\": \"2020-05-04\", \"fallecidos confirmados\": 27}, {\"index\": 0, \"Grupo de edad\": \"<=39\", \"fecha (a\\u00f1o-mes-d\\u00eda)\": \"2020-05-05\", \"fallecidos confirmados\": 6}, {\"index\": 1, \"Grupo de edad\": \"40-49\", \"fecha (a\\u00f1o-mes-d\\u00eda)\": \"2020-05-05\", \"fallecidos confirmados\": 13}, {\"index\": 2, \"Grupo de edad\": \"50-59\", \"fecha (a\\u00f1o-mes-d\\u00eda)\": \"2020-05-05\", \"fallecidos confirmados\": 20}, {\"index\": 3, \"Grupo de edad\": \"60-69\", \"fecha (a\\u00f1o-mes-d\\u00eda)\": \"2020-05-05\", \"fallecidos confirmados\": 46}, {\"index\": 4, \"Grupo de edad\": \"70-79\", \"fecha (a\\u00f1o-mes-d\\u00eda)\": \"2020-05-05\", \"fallecidos confirmados\": 76}, {\"index\": 5, \"Grupo de edad\": \"80-89\", \"fecha (a\\u00f1o-mes-d\\u00eda)\": \"2020-05-05\", \"fallecidos confirmados\": 85}, {\"index\": 6, \"Grupo de edad\": \">=90\", \"fecha (a\\u00f1o-mes-d\\u00eda)\": \"2020-05-05\", \"fallecidos confirmados\": 29}, {\"index\": 0, \"Grupo de edad\": \"<=39\", \"fecha (a\\u00f1o-mes-d\\u00eda)\": \"2020-05-06\", \"fallecidos confirmados\": 6}, {\"index\": 1, \"Grupo de edad\": \"40-49\", \"fecha (a\\u00f1o-mes-d\\u00eda)\": \"2020-05-06\", \"fallecidos confirmados\": 13}, {\"index\": 2, \"Grupo de edad\": \"50-59\", \"fecha (a\\u00f1o-mes-d\\u00eda)\": \"2020-05-06\", \"fallecidos confirmados\": 20}, {\"index\": 3, \"Grupo de edad\": \"60-69\", \"fecha (a\\u00f1o-mes-d\\u00eda)\": \"2020-05-06\", \"fallecidos confirmados\": 47}, {\"index\": 4, \"Grupo de edad\": \"70-79\", \"fecha (a\\u00f1o-mes-d\\u00eda)\": \"2020-05-06\", \"fallecidos confirmados\": 76}, {\"index\": 5, \"Grupo de edad\": \"80-89\", \"fecha (a\\u00f1o-mes-d\\u00eda)\": \"2020-05-06\", \"fallecidos confirmados\": 89}, {\"index\": 6, \"Grupo de edad\": \">=90\", \"fecha (a\\u00f1o-mes-d\\u00eda)\": \"2020-05-06\", \"fallecidos confirmados\": 30}, {\"index\": 0, \"Grupo de edad\": \"<=39\", \"fecha (a\\u00f1o-mes-d\\u00eda)\": \"2020-05-07\", \"fallecidos confirmados\": 6}, {\"index\": 1, \"Grupo de edad\": \"40-49\", \"fecha (a\\u00f1o-mes-d\\u00eda)\": \"2020-05-07\", \"fallecidos confirmados\": 13}, {\"index\": 2, \"Grupo de edad\": \"50-59\", \"fecha (a\\u00f1o-mes-d\\u00eda)\": \"2020-05-07\", \"fallecidos confirmados\": 21}, {\"index\": 3, \"Grupo de edad\": \"60-69\", \"fecha (a\\u00f1o-mes-d\\u00eda)\": \"2020-05-07\", \"fallecidos confirmados\": 47}, {\"index\": 4, \"Grupo de edad\": \"70-79\", \"fecha (a\\u00f1o-mes-d\\u00eda)\": \"2020-05-07\", \"fallecidos confirmados\": 76}, {\"index\": 5, \"Grupo de edad\": \"80-89\", \"fecha (a\\u00f1o-mes-d\\u00eda)\": \"2020-05-07\", \"fallecidos confirmados\": 92}, {\"index\": 6, \"Grupo de edad\": \">=90\", \"fecha (a\\u00f1o-mes-d\\u00eda)\": \"2020-05-07\", \"fallecidos confirmados\": 30}, {\"index\": 0, \"Grupo de edad\": \"<=39\", \"fecha (a\\u00f1o-mes-d\\u00eda)\": \"2020-05-08\", \"fallecidos confirmados\": 7}, {\"index\": 1, \"Grupo de edad\": \"40-49\", \"fecha (a\\u00f1o-mes-d\\u00eda)\": \"2020-05-08\", \"fallecidos confirmados\": 14}, {\"index\": 2, \"Grupo de edad\": \"50-59\", \"fecha (a\\u00f1o-mes-d\\u00eda)\": \"2020-05-08\", \"fallecidos confirmados\": 21}, {\"index\": 3, \"Grupo de edad\": \"60-69\", \"fecha (a\\u00f1o-mes-d\\u00eda)\": \"2020-05-08\", \"fallecidos confirmados\": 49}, {\"index\": 4, \"Grupo de edad\": \"70-79\", \"fecha (a\\u00f1o-mes-d\\u00eda)\": \"2020-05-08\", \"fallecidos confirmados\": 80}, {\"index\": 5, \"Grupo de edad\": \"80-89\", \"fecha (a\\u00f1o-mes-d\\u00eda)\": \"2020-05-08\", \"fallecidos confirmados\": 93}, {\"index\": 6, \"Grupo de edad\": \">=90\", \"fecha (a\\u00f1o-mes-d\\u00eda)\": \"2020-05-08\", \"fallecidos confirmados\": 30}, {\"index\": 0, \"Grupo de edad\": \"<=39\", \"fecha (a\\u00f1o-mes-d\\u00eda)\": \"2020-05-09\", \"fallecidos confirmados\": 7}, {\"index\": 1, \"Grupo de edad\": \"40-49\", \"fecha (a\\u00f1o-mes-d\\u00eda)\": \"2020-05-09\", \"fallecidos confirmados\": 15}, {\"index\": 2, \"Grupo de edad\": \"50-59\", \"fecha (a\\u00f1o-mes-d\\u00eda)\": \"2020-05-09\", \"fallecidos confirmados\": 22}, {\"index\": 3, \"Grupo de edad\": \"60-69\", \"fecha (a\\u00f1o-mes-d\\u00eda)\": \"2020-05-09\", \"fallecidos confirmados\": 52}, {\"index\": 4, \"Grupo de edad\": \"70-79\", \"fecha (a\\u00f1o-mes-d\\u00eda)\": \"2020-05-09\", \"fallecidos confirmados\": 82}, {\"index\": 5, \"Grupo de edad\": \"80-89\", \"fecha (a\\u00f1o-mes-d\\u00eda)\": \"2020-05-09\", \"fallecidos confirmados\": 93}, {\"index\": 6, \"Grupo de edad\": \">=90\", \"fecha (a\\u00f1o-mes-d\\u00eda)\": \"2020-05-09\", \"fallecidos confirmados\": 33}, {\"index\": 0, \"Grupo de edad\": \"<=39\", \"fecha (a\\u00f1o-mes-d\\u00eda)\": \"2020-05-10\", \"fallecidos confirmados\": 7}, {\"index\": 1, \"Grupo de edad\": \"40-49\", \"fecha (a\\u00f1o-mes-d\\u00eda)\": \"2020-05-10\", \"fallecidos confirmados\": 16}, {\"index\": 2, \"Grupo de edad\": \"50-59\", \"fecha (a\\u00f1o-mes-d\\u00eda)\": \"2020-05-10\", \"fallecidos confirmados\": 22}, {\"index\": 3, \"Grupo de edad\": \"60-69\", \"fecha (a\\u00f1o-mes-d\\u00eda)\": \"2020-05-10\", \"fallecidos confirmados\": 54}, {\"index\": 4, \"Grupo de edad\": \"70-79\", \"fecha (a\\u00f1o-mes-d\\u00eda)\": \"2020-05-10\", \"fallecidos confirmados\": 84}, {\"index\": 5, \"Grupo de edad\": \"80-89\", \"fecha (a\\u00f1o-mes-d\\u00eda)\": \"2020-05-10\", \"fallecidos confirmados\": 95}, {\"index\": 6, \"Grupo de edad\": \">=90\", \"fecha (a\\u00f1o-mes-d\\u00eda)\": \"2020-05-10\", \"fallecidos confirmados\": 34}, {\"index\": 0, \"Grupo de edad\": \"<=39\", \"fecha (a\\u00f1o-mes-d\\u00eda)\": \"2020-05-11\", \"fallecidos confirmados\": 7}, {\"index\": 1, \"Grupo de edad\": \"40-49\", \"fecha (a\\u00f1o-mes-d\\u00eda)\": \"2020-05-11\", \"fallecidos confirmados\": 16}, {\"index\": 2, \"Grupo de edad\": \"50-59\", \"fecha (a\\u00f1o-mes-d\\u00eda)\": \"2020-05-11\", \"fallecidos confirmados\": 23}, {\"index\": 3, \"Grupo de edad\": \"60-69\", \"fecha (a\\u00f1o-mes-d\\u00eda)\": \"2020-05-11\", \"fallecidos confirmados\": 56}, {\"index\": 4, \"Grupo de edad\": \"70-79\", \"fecha (a\\u00f1o-mes-d\\u00eda)\": \"2020-05-11\", \"fallecidos confirmados\": 89}, {\"index\": 5, \"Grupo de edad\": \"80-89\", \"fecha (a\\u00f1o-mes-d\\u00eda)\": \"2020-05-11\", \"fallecidos confirmados\": 96}, {\"index\": 6, \"Grupo de edad\": \">=90\", \"fecha (a\\u00f1o-mes-d\\u00eda)\": \"2020-05-11\", \"fallecidos confirmados\": 36}, {\"index\": 0, \"Grupo de edad\": \"<=39\", \"fecha (a\\u00f1o-mes-d\\u00eda)\": \"2020-05-12\", \"fallecidos confirmados\": 8}, {\"index\": 1, \"Grupo de edad\": \"40-49\", \"fecha (a\\u00f1o-mes-d\\u00eda)\": \"2020-05-12\", \"fallecidos confirmados\": 18}, {\"index\": 2, \"Grupo de edad\": \"50-59\", \"fecha (a\\u00f1o-mes-d\\u00eda)\": \"2020-05-12\", \"fallecidos confirmados\": 24}, {\"index\": 3, \"Grupo de edad\": \"60-69\", \"fecha (a\\u00f1o-mes-d\\u00eda)\": \"2020-05-12\", \"fallecidos confirmados\": 56}, {\"index\": 4, \"Grupo de edad\": \"70-79\", \"fecha (a\\u00f1o-mes-d\\u00eda)\": \"2020-05-12\", \"fallecidos confirmados\": 92}, {\"index\": 5, \"Grupo de edad\": \"80-89\", \"fecha (a\\u00f1o-mes-d\\u00eda)\": \"2020-05-12\", \"fallecidos confirmados\": 99}, {\"index\": 6, \"Grupo de edad\": \">=90\", \"fecha (a\\u00f1o-mes-d\\u00eda)\": \"2020-05-12\", \"fallecidos confirmados\": 38}, {\"index\": 0, \"Grupo de edad\": \"<=39\", \"fecha (a\\u00f1o-mes-d\\u00eda)\": \"2020-05-13\", \"fallecidos confirmados\": 8}, {\"index\": 1, \"Grupo de edad\": \"40-49\", \"fecha (a\\u00f1o-mes-d\\u00eda)\": \"2020-05-13\", \"fallecidos confirmados\": 19}, {\"index\": 2, \"Grupo de edad\": \"50-59\", \"fecha (a\\u00f1o-mes-d\\u00eda)\": \"2020-05-13\", \"fallecidos confirmados\": 27}, {\"index\": 3, \"Grupo de edad\": \"60-69\", \"fecha (a\\u00f1o-mes-d\\u00eda)\": \"2020-05-13\", \"fallecidos confirmados\": 58}, {\"index\": 4, \"Grupo de edad\": \"70-79\", \"fecha (a\\u00f1o-mes-d\\u00eda)\": \"2020-05-13\", \"fallecidos confirmados\": 94}, {\"index\": 5, \"Grupo de edad\": \"80-89\", \"fecha (a\\u00f1o-mes-d\\u00eda)\": \"2020-05-13\", \"fallecidos confirmados\": 102}, {\"index\": 6, \"Grupo de edad\": \">=90\", \"fecha (a\\u00f1o-mes-d\\u00eda)\": \"2020-05-13\", \"fallecidos confirmados\": 38}, {\"index\": 0, \"Grupo de edad\": \"<=39\", \"fecha (a\\u00f1o-mes-d\\u00eda)\": \"2020-05-14\", \"fallecidos confirmados\": 9}, {\"index\": 1, \"Grupo de edad\": \"40-49\", \"fecha (a\\u00f1o-mes-d\\u00eda)\": \"2020-05-14\", \"fallecidos confirmados\": 22}, {\"index\": 2, \"Grupo de edad\": \"50-59\", \"fecha (a\\u00f1o-mes-d\\u00eda)\": \"2020-05-14\", \"fallecidos confirmados\": 27}, {\"index\": 3, \"Grupo de edad\": \"60-69\", \"fecha (a\\u00f1o-mes-d\\u00eda)\": \"2020-05-14\", \"fallecidos confirmados\": 63}, {\"index\": 4, \"Grupo de edad\": \"70-79\", \"fecha (a\\u00f1o-mes-d\\u00eda)\": \"2020-05-14\", \"fallecidos confirmados\": 102}, {\"index\": 5, \"Grupo de edad\": \"80-89\", \"fecha (a\\u00f1o-mes-d\\u00eda)\": \"2020-05-14\", \"fallecidos confirmados\": 107}, {\"index\": 6, \"Grupo de edad\": \">=90\", \"fecha (a\\u00f1o-mes-d\\u00eda)\": \"2020-05-14\", \"fallecidos confirmados\": 38}, {\"index\": 0, \"Grupo de edad\": \"<=39\", \"fecha (a\\u00f1o-mes-d\\u00eda)\": \"2020-05-15\", \"fallecidos confirmados\": 10}, {\"index\": 1, \"Grupo de edad\": \"40-49\", \"fecha (a\\u00f1o-mes-d\\u00eda)\": \"2020-05-15\", \"fallecidos confirmados\": 22}, {\"index\": 2, \"Grupo de edad\": \"50-59\", \"fecha (a\\u00f1o-mes-d\\u00eda)\": \"2020-05-15\", \"fallecidos confirmados\": 31}, {\"index\": 3, \"Grupo de edad\": \"60-69\", \"fecha (a\\u00f1o-mes-d\\u00eda)\": \"2020-05-15\", \"fallecidos confirmados\": 65}, {\"index\": 4, \"Grupo de edad\": \"70-79\", \"fecha (a\\u00f1o-mes-d\\u00eda)\": \"2020-05-15\", \"fallecidos confirmados\": 110}, {\"index\": 5, \"Grupo de edad\": \"80-89\", \"fecha (a\\u00f1o-mes-d\\u00eda)\": \"2020-05-15\", \"fallecidos confirmados\": 117}, {\"index\": 6, \"Grupo de edad\": \">=90\", \"fecha (a\\u00f1o-mes-d\\u00eda)\": \"2020-05-15\", \"fallecidos confirmados\": 39}, {\"index\": 0, \"Grupo de edad\": \"<=39\", \"fecha (a\\u00f1o-mes-d\\u00eda)\": \"2020-05-16\", \"fallecidos confirmados\": 10}, {\"index\": 1, \"Grupo de edad\": \"40-49\", \"fecha (a\\u00f1o-mes-d\\u00eda)\": \"2020-05-16\", \"fallecidos confirmados\": 24}, {\"index\": 2, \"Grupo de edad\": \"50-59\", \"fecha (a\\u00f1o-mes-d\\u00eda)\": \"2020-05-16\", \"fallecidos confirmados\": 32}, {\"index\": 3, \"Grupo de edad\": \"60-69\", \"fecha (a\\u00f1o-mes-d\\u00eda)\": \"2020-05-16\", \"fallecidos confirmados\": 73}, {\"index\": 4, \"Grupo de edad\": \"70-79\", \"fecha (a\\u00f1o-mes-d\\u00eda)\": \"2020-05-16\", \"fallecidos confirmados\": 118}, {\"index\": 5, \"Grupo de edad\": \"80-89\", \"fecha (a\\u00f1o-mes-d\\u00eda)\": \"2020-05-16\", \"fallecidos confirmados\": 123}, {\"index\": 6, \"Grupo de edad\": \">=90\", \"fecha (a\\u00f1o-mes-d\\u00eda)\": \"2020-05-16\", \"fallecidos confirmados\": 41}, {\"index\": 0, \"Grupo de edad\": \"<=39\", \"fecha (a\\u00f1o-mes-d\\u00eda)\": \"2020-05-17\", \"fallecidos confirmados\": 10}, {\"index\": 1, \"Grupo de edad\": \"40-49\", \"fecha (a\\u00f1o-mes-d\\u00eda)\": \"2020-05-17\", \"fallecidos confirmados\": 25}, {\"index\": 2, \"Grupo de edad\": \"50-59\", \"fecha (a\\u00f1o-mes-d\\u00eda)\": \"2020-05-17\", \"fallecidos confirmados\": 35}, {\"index\": 3, \"Grupo de edad\": \"60-69\", \"fecha (a\\u00f1o-mes-d\\u00eda)\": \"2020-05-17\", \"fallecidos confirmados\": 78}, {\"index\": 4, \"Grupo de edad\": \"70-79\", \"fecha (a\\u00f1o-mes-d\\u00eda)\": \"2020-05-17\", \"fallecidos confirmados\": 126}, {\"index\": 5, \"Grupo de edad\": \"80-89\", \"fecha (a\\u00f1o-mes-d\\u00eda)\": \"2020-05-17\", \"fallecidos confirmados\": 132}, {\"index\": 6, \"Grupo de edad\": \">=90\", \"fecha (a\\u00f1o-mes-d\\u00eda)\": \"2020-05-17\", \"fallecidos confirmados\": 44}, {\"index\": 0, \"Grupo de edad\": \"<=39\", \"fecha (a\\u00f1o-mes-d\\u00eda)\": \"2020-05-18\", \"fallecidos confirmados\": 10}, {\"index\": 1, \"Grupo de edad\": \"40-49\", \"fecha (a\\u00f1o-mes-d\\u00eda)\": \"2020-05-18\", \"fallecidos confirmados\": 28}, {\"index\": 2, \"Grupo de edad\": \"50-59\", \"fecha (a\\u00f1o-mes-d\\u00eda)\": \"2020-05-18\", \"fallecidos confirmados\": 40}, {\"index\": 3, \"Grupo de edad\": \"60-69\", \"fecha (a\\u00f1o-mes-d\\u00eda)\": \"2020-05-18\", \"fallecidos confirmados\": 82}, {\"index\": 4, \"Grupo de edad\": \"70-79\", \"fecha (a\\u00f1o-mes-d\\u00eda)\": \"2020-05-18\", \"fallecidos confirmados\": 133}, {\"index\": 5, \"Grupo de edad\": \"80-89\", \"fecha (a\\u00f1o-mes-d\\u00eda)\": \"2020-05-18\", \"fallecidos confirmados\": 136}, {\"index\": 6, \"Grupo de edad\": \">=90\", \"fecha (a\\u00f1o-mes-d\\u00eda)\": \"2020-05-18\", \"fallecidos confirmados\": 49}, {\"index\": 0, \"Grupo de edad\": \"<=39\", \"fecha (a\\u00f1o-mes-d\\u00eda)\": \"2020-05-19\", \"fallecidos confirmados\": 11}, {\"index\": 1, \"Grupo de edad\": \"40-49\", \"fecha (a\\u00f1o-mes-d\\u00eda)\": \"2020-05-19\", \"fallecidos confirmados\": 30}, {\"index\": 2, \"Grupo de edad\": \"50-59\", \"fecha (a\\u00f1o-mes-d\\u00eda)\": \"2020-05-19\", \"fallecidos confirmados\": 47}, {\"index\": 3, \"Grupo de edad\": \"60-69\", \"fecha (a\\u00f1o-mes-d\\u00eda)\": \"2020-05-19\", \"fallecidos confirmados\": 83}, {\"index\": 4, \"Grupo de edad\": \"70-79\", \"fecha (a\\u00f1o-mes-d\\u00eda)\": \"2020-05-19\", \"fallecidos confirmados\": 141}, {\"index\": 5, \"Grupo de edad\": \"80-89\", \"fecha (a\\u00f1o-mes-d\\u00eda)\": \"2020-05-19\", \"fallecidos confirmados\": 145}, {\"index\": 6, \"Grupo de edad\": \">=90\", \"fecha (a\\u00f1o-mes-d\\u00eda)\": \"2020-05-19\", \"fallecidos confirmados\": 52}, {\"index\": 0, \"Grupo de edad\": \"<=39\", \"fecha (a\\u00f1o-mes-d\\u00eda)\": \"2020-05-20\", \"fallecidos confirmados\": 11}, {\"index\": 1, \"Grupo de edad\": \"40-49\", \"fecha (a\\u00f1o-mes-d\\u00eda)\": \"2020-05-20\", \"fallecidos confirmados\": 31}, {\"index\": 2, \"Grupo de edad\": \"50-59\", \"fecha (a\\u00f1o-mes-d\\u00eda)\": \"2020-05-20\", \"fallecidos confirmados\": 51}, {\"index\": 3, \"Grupo de edad\": \"60-69\", \"fecha (a\\u00f1o-mes-d\\u00eda)\": \"2020-05-20\", \"fallecidos confirmados\": 92}, {\"index\": 4, \"Grupo de edad\": \"70-79\", \"fecha (a\\u00f1o-mes-d\\u00eda)\": \"2020-05-20\", \"fallecidos confirmados\": 152}, {\"index\": 5, \"Grupo de edad\": \"80-89\", \"fecha (a\\u00f1o-mes-d\\u00eda)\": \"2020-05-20\", \"fallecidos confirmados\": 152}, {\"index\": 6, \"Grupo de edad\": \">=90\", \"fecha (a\\u00f1o-mes-d\\u00eda)\": \"2020-05-20\", \"fallecidos confirmados\": 55}]}}, {\"mode\": \"vega-lite\"});\n",
       "</script>"
      ],
      "text/plain": [
       "alt.HConcatChart(...)"
      ]
     },
     "execution_count": 54,
     "metadata": {},
     "output_type": "execute_result"
    }
   ],
   "source": [
    "#hide_input\n",
    "selection2 = alt.selection_multi(fields=['Grupo de edad'], on='mouseover')\n",
    "\n",
    "color = alt.condition(selection2,\n",
    "                    alt.Color('Grupo de edad:N', scale=alt.Scale(scheme='tableau20'), legend=None),\n",
    "                    alt.value('lightgray'))\n",
    "\n",
    "bars = alt.Chart(data).mark_area().encode(\n",
    "    x = 'fecha (año-mes-día):N',\n",
    "    y = alt.Y('fallecidos confirmados:Q', stack=\"normalize\", sort=grupo_de_edad),\n",
    "    color = color,\n",
    "    tooltip = ['fecha (año-mes-día)', 'Grupo de edad', 'fallecidos confirmados'],\n",
    "    order=alt.Order(\n",
    "    # Sort the segments of the bars by this field\n",
    "    'index',\n",
    "    sort='descending'\n",
    "    )\n",
    ").add_selection(\n",
    "    selection2\n",
    ")\n",
    "\n",
    "legend = alt.Chart(data).mark_point().encode(\n",
    "    y=alt.Y('Grupo de edad',  axis=alt.Axis(orient='right'), sort=grupo_de_edad),\n",
    "    color=color\n",
    ").add_selection(\n",
    "    selection2\n",
    ")\n",
    "\n",
    "bars.properties(\n",
    "    title = 'COVID-19 en Chile: Evolución de fallecidos confirmados normalizados por rango de edad',\n",
    "    width = 600\n",
    ") | legend"
   ]
  },
  {
   "cell_type": "code",
   "execution_count": null,
   "metadata": {},
   "outputs": [],
   "source": []
  }
 ],
 "metadata": {
  "kernelspec": {
   "display_name": "Python 3",
   "language": "python",
   "name": "python3"
  },
  "language_info": {
   "codemirror_mode": {
    "name": "ipython",
    "version": 3
   },
   "file_extension": ".py",
   "mimetype": "text/x-python",
   "name": "python",
   "nbconvert_exporter": "python",
   "pygments_lexer": "ipython3",
   "version": "3.8.2"
  }
 },
 "nbformat": 4,
 "nbformat_minor": 2
}
