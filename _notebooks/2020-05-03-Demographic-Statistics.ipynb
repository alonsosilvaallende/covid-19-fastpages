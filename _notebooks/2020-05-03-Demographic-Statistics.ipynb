{
 "cells": [
  {
   "cell_type": "markdown",
   "metadata": {},
   "source": [
    "# \"COVID-19 en Chile: Estadísticas demográficas\"\n",
    "> Total de casos confirmados, fallecidos confirmados, pacientes en UCI por sexo y rango de edad.\n",
    "\n",
    "- toc: true \n",
    "- badges: true\n",
    "- comments: true\n",
    "- author: Alonso Silva Allende\n",
    "- categories: [jupyter]\n",
    "- image: images/diagram.png"
   ]
  },
  {
   "cell_type": "code",
   "execution_count": 22,
   "metadata": {},
   "outputs": [],
   "source": [
    "#hide\n",
    "import numpy as np\n",
    "import pandas as pd\n",
    "import altair as alt\n",
    "from IPython.display import display, Markdown, display_html, HTML"
   ]
  },
  {
   "cell_type": "code",
   "execution_count": 23,
   "metadata": {},
   "outputs": [],
   "source": [
    "#hide\n",
    "update_date = pd.to_datetime('today') - pd.offsets.Hour(1)"
   ]
  },
  {
   "cell_type": "code",
   "execution_count": 24,
   "metadata": {},
   "outputs": [
    {
     "data": {
      "text/markdown": [
       "Última actualización: 19/03/2021."
      ],
      "text/plain": [
       "<IPython.core.display.Markdown object>"
      ]
     },
     "metadata": {},
     "output_type": "display_data"
    }
   ],
   "source": [
    "#hide_input\n",
    "display(Markdown(f\"Última actualización: {update_date.strftime('%d/%m/%Y')}.\"))"
   ]
  },
  {
   "cell_type": "markdown",
   "metadata": {},
   "source": [
    "# Evolución de casos confirmados por sexo"
   ]
  },
  {
   "cell_type": "code",
   "execution_count": 25,
   "metadata": {},
   "outputs": [],
   "source": [
    "#hide\n",
    "cases_raw = pd.read_csv(\n",
    "    'https://raw.githubusercontent.com/MinCiencia/Datos-COVID19/' \\\n",
    "    + 'master/output/producto16/CasosGeneroEtario.csv'\n",
    ")"
   ]
  },
  {
   "cell_type": "code",
   "execution_count": 26,
   "metadata": {},
   "outputs": [
    {
     "data": {
      "text/plain": [
       "('2020-03-25', '2021-03-15')"
      ]
     },
     "execution_count": 26,
     "metadata": {},
     "output_type": "execute_result"
    }
   ],
   "source": [
    "#hide\n",
    "#first and last report date\n",
    "first_date = cases_raw.T.iloc[2].name\n",
    "last_date = cases_raw.T.iloc[-1].name\n",
    "first_date, last_date"
   ]
  },
  {
   "cell_type": "code",
   "execution_count": 27,
   "metadata": {},
   "outputs": [],
   "source": [
    "#hide\n",
    "cases_sex = cases_raw.groupby('Sexo').sum()\n",
    "cases_sex = cases_sex.reset_index().melt('Sexo', var_name=\"Fecha (año-mes-día)\", value_name=\"Casos confirmados\")"
   ]
  },
  {
   "cell_type": "code",
   "execution_count": 28,
   "metadata": {},
   "outputs": [],
   "source": [
    "#hide\n",
    "cases_sex = cases_sex.set_index(\"Fecha (año-mes-día)\")\n",
    "cases_sex[\"Porcentaje\"] = cases_sex[\"Casos confirmados\"]/cases_raw.sum().drop([\"Grupo de edad\", \"Sexo\"])\n",
    "cases_sex = cases_sex.reset_index()"
   ]
  },
  {
   "cell_type": "code",
   "execution_count": 29,
   "metadata": {},
   "outputs": [
    {
     "data": {
      "text/html": [
       "\n",
       "<div id=\"altair-viz-ae7b826510ab4fb38c0d586b9c93453f\"></div>\n",
       "<script type=\"text/javascript\">\n",
       "  (function(spec, embedOpt){\n",
       "    let outputDiv = document.currentScript.previousElementSibling;\n",
       "    if (outputDiv.id !== \"altair-viz-ae7b826510ab4fb38c0d586b9c93453f\") {\n",
       "      outputDiv = document.getElementById(\"altair-viz-ae7b826510ab4fb38c0d586b9c93453f\");\n",
       "    }\n",
       "    const paths = {\n",
       "      \"vega\": \"https://cdn.jsdelivr.net/npm//vega@5?noext\",\n",
       "      \"vega-lib\": \"https://cdn.jsdelivr.net/npm//vega-lib?noext\",\n",
       "      \"vega-lite\": \"https://cdn.jsdelivr.net/npm//vega-lite@4.8.1?noext\",\n",
       "      \"vega-embed\": \"https://cdn.jsdelivr.net/npm//vega-embed@6?noext\",\n",
       "    };\n",
       "\n",
       "    function loadScript(lib) {\n",
       "      return new Promise(function(resolve, reject) {\n",
       "        var s = document.createElement('script');\n",
       "        s.src = paths[lib];\n",
       "        s.async = true;\n",
       "        s.onload = () => resolve(paths[lib]);\n",
       "        s.onerror = () => reject(`Error loading script: ${paths[lib]}`);\n",
       "        document.getElementsByTagName(\"head\")[0].appendChild(s);\n",
       "      });\n",
       "    }\n",
       "\n",
       "    function showError(err) {\n",
       "      outputDiv.innerHTML = `<div class=\"error\" style=\"color:red;\">${err}</div>`;\n",
       "      throw err;\n",
       "    }\n",
       "\n",
       "    function displayChart(vegaEmbed) {\n",
       "      vegaEmbed(outputDiv, spec, embedOpt)\n",
       "        .catch(err => showError(`Javascript Error: ${err.message}<br>This usually means there's a typo in your chart specification. See the javascript console for the full traceback.`));\n",
       "    }\n",
       "\n",
       "    if(typeof define === \"function\" && define.amd) {\n",
       "      requirejs.config({paths});\n",
       "      require([\"vega-embed\"], displayChart, err => showError(`Error loading script: ${err.message}`));\n",
       "    } else if (typeof vegaEmbed === \"function\") {\n",
       "      displayChart(vegaEmbed);\n",
       "    } else {\n",
       "      loadScript(\"vega\")\n",
       "        .then(() => loadScript(\"vega-lite\"))\n",
       "        .then(() => loadScript(\"vega-embed\"))\n",
       "        .catch(showError)\n",
       "        .then(() => displayChart(vegaEmbed));\n",
       "    }\n",
       "  })({\"config\": {\"view\": {\"continuousWidth\": 400, \"continuousHeight\": 300, \"stroke\": null}, \"concat\": {\"spacing\": 1}}, \"vconcat\": [{\"hconcat\": [{\"mark\": \"bar\", \"encoding\": {\"color\": {\"condition\": {\"type\": \"nominal\", \"field\": \"Sexo\", \"legend\": null, \"scale\": {\"scheme\": \"tableau10\"}, \"selection\": {\"or\": [\" \", \"selector002\"]}}, \"value\": \"lightgray\"}, \"tooltip\": [{\"type\": \"nominal\", \"field\": \"Fecha (a\\u00f1o-mes-d\\u00eda)\"}, {\"type\": \"quantitative\", \"field\": \"Casos confirmados\"}, {\"type\": \"quantitative\", \"field\": \"Porcentaje\"}], \"x\": {\"type\": \"nominal\", \"axis\": {\"title\": \"\"}, \"field\": \"Fecha (a\\u00f1o-mes-d\\u00eda)\"}, \"y\": {\"type\": \"quantitative\", \"field\": \"Casos confirmados\"}}, \"selection\": {\" \": {\"type\": \"single\", \"fields\": [\"Sexo\"], \"bind\": {\"input\": \"select\", \"options\": [\"F\", \"M\"]}}, \"selector002\": {\"type\": \"multi\", \"fields\": [\"Sexo\"], \"on\": \"mouseover\"}}, \"title\": \"COVID-19 en Chile: Evoluci\\u00f3n de casos confirmados por sexo\", \"transform\": [{\"filter\": {\"selection\": \" \"}}], \"width\": 600}, {\"mark\": \"point\", \"encoding\": {\"color\": {\"condition\": {\"type\": \"nominal\", \"field\": \"Sexo\", \"legend\": null, \"scale\": {\"scheme\": \"tableau10\"}, \"selection\": {\"or\": [\" \", \"selector002\"]}}, \"value\": \"lightgray\"}, \"y\": {\"type\": \"nominal\", \"axis\": {\"orient\": \"right\"}, \"field\": \"Sexo\"}}, \"selection\": {\" \": {\"type\": \"single\", \"fields\": [\"Sexo\"], \"bind\": {\"input\": \"select\", \"options\": [\"F\", \"M\"]}}, \"selector002\": {\"type\": \"multi\", \"fields\": [\"Sexo\"], \"on\": \"mouseover\"}}}]}, {\"mark\": \"bar\", \"encoding\": {\"color\": {\"condition\": {\"type\": \"nominal\", \"field\": \"Sexo\", \"legend\": null, \"scale\": {\"scheme\": \"tableau10\"}, \"selection\": {\"or\": [\" \", \"selector002\"]}}, \"value\": \"lightgray\"}, \"tooltip\": [{\"type\": \"nominal\", \"field\": \"Fecha (a\\u00f1o-mes-d\\u00eda)\"}, {\"type\": \"quantitative\", \"field\": \"Casos confirmados\"}, {\"type\": \"quantitative\", \"field\": \"Porcentaje\"}], \"x\": {\"type\": \"nominal\", \"axis\": {\"labels\": false, \"ticks\": false, \"title\": \"Fecha (a\\u00f1o-mes-d\\u00eda)\"}, \"field\": \"Fecha (a\\u00f1o-mes-d\\u00eda)\"}, \"y\": {\"type\": \"quantitative\", \"axis\": {\"format\": \"%\", \"title\": \"Normalizados\"}, \"field\": \"Casos confirmados\", \"stack\": \"normalize\"}}, \"height\": 80, \"selection\": {\" \": {\"type\": \"single\", \"fields\": [\"Sexo\"], \"bind\": {\"input\": \"select\", \"options\": [\"F\", \"M\"]}}, \"selector002\": {\"type\": \"multi\", \"fields\": [\"Sexo\"], \"on\": \"mouseover\"}}, \"transform\": [{\"filter\": {\"selection\": \" \"}}], \"width\": 600}], \"data\": {\"name\": \"data-38a96d197fed7756b20074c9cd99963e\"}, \"$schema\": \"https://vega.github.io/schema/vega-lite/v4.8.1.json\", \"datasets\": {\"data-38a96d197fed7756b20074c9cd99963e\": [{\"Fecha (a\\u00f1o-mes-d\\u00eda)\": \"2020-03-25\", \"Sexo\": \"F\", \"Casos confirmados\": 516, \"Porcentaje\": 0.5098814229249012}, {\"Fecha (a\\u00f1o-mes-d\\u00eda)\": \"2020-03-25\", \"Sexo\": \"M\", \"Casos confirmados\": 496, \"Porcentaje\": 0.4901185770750988}, {\"Fecha (a\\u00f1o-mes-d\\u00eda)\": \"2020-03-26\", \"Sexo\": \"F\", \"Casos confirmados\": 642, \"Porcentaje\": 0.512779552715655}, {\"Fecha (a\\u00f1o-mes-d\\u00eda)\": \"2020-03-26\", \"Sexo\": \"M\", \"Casos confirmados\": 610, \"Porcentaje\": 0.48722044728434505}, {\"Fecha (a\\u00f1o-mes-d\\u00eda)\": \"2020-03-27\", \"Sexo\": \"F\", \"Casos confirmados\": 730, \"Porcentaje\": 0.5090655509065551}, {\"Fecha (a\\u00f1o-mes-d\\u00eda)\": \"2020-03-27\", \"Sexo\": \"M\", \"Casos confirmados\": 704, \"Porcentaje\": 0.4909344490934449}, {\"Fecha (a\\u00f1o-mes-d\\u00eda)\": \"2020-03-28\", \"Sexo\": \"F\", \"Casos confirmados\": 856, \"Porcentaje\": 0.4968078932095183}, {\"Fecha (a\\u00f1o-mes-d\\u00eda)\": \"2020-03-28\", \"Sexo\": \"M\", \"Casos confirmados\": 867, \"Porcentaje\": 0.5031921067904818}, {\"Fecha (a\\u00f1o-mes-d\\u00eda)\": \"2020-03-29\", \"Sexo\": \"F\", \"Casos confirmados\": 947, \"Porcentaje\": 0.4968520461699895}, {\"Fecha (a\\u00f1o-mes-d\\u00eda)\": \"2020-03-29\", \"Sexo\": \"M\", \"Casos confirmados\": 959, \"Porcentaje\": 0.5031479538300105}, {\"Fecha (a\\u00f1o-mes-d\\u00eda)\": \"2020-03-30\", \"Sexo\": \"F\", \"Casos confirmados\": 1037, \"Porcentaje\": 0.4966475095785441}, {\"Fecha (a\\u00f1o-mes-d\\u00eda)\": \"2020-03-30\", \"Sexo\": \"M\", \"Casos confirmados\": 1051, \"Porcentaje\": 0.5033524904214559}, {\"Fecha (a\\u00f1o-mes-d\\u00eda)\": \"2020-03-31\", \"Sexo\": \"F\", \"Casos confirmados\": 1186, \"Porcentaje\": 0.4997892962494732}, {\"Fecha (a\\u00f1o-mes-d\\u00eda)\": \"2020-03-31\", \"Sexo\": \"M\", \"Casos confirmados\": 1187, \"Porcentaje\": 0.5002107037505268}, {\"Fecha (a\\u00f1o-mes-d\\u00eda)\": \"2020-04-01\", \"Sexo\": \"F\", \"Casos confirmados\": 1375, \"Porcentaje\": 0.5010932944606414}, {\"Fecha (a\\u00f1o-mes-d\\u00eda)\": \"2020-04-01\", \"Sexo\": \"M\", \"Casos confirmados\": 1369, \"Porcentaje\": 0.4989067055393586}, {\"Fecha (a\\u00f1o-mes-d\\u00eda)\": \"2020-04-02\", \"Sexo\": \"F\", \"Casos confirmados\": 1475, \"Porcentaje\": 0.5020422055820286}, {\"Fecha (a\\u00f1o-mes-d\\u00eda)\": \"2020-04-02\", \"Sexo\": \"M\", \"Casos confirmados\": 1463, \"Porcentaje\": 0.4979577944179714}, {\"Fecha (a\\u00f1o-mes-d\\u00eda)\": \"2020-04-03\", \"Sexo\": \"F\", \"Casos confirmados\": 1714, \"Porcentaje\": 0.5044143613890524}, {\"Fecha (a\\u00f1o-mes-d\\u00eda)\": \"2020-04-03\", \"Sexo\": \"M\", \"Casos confirmados\": 1684, \"Porcentaje\": 0.4955856386109476}, {\"Fecha (a\\u00f1o-mes-d\\u00eda)\": \"2020-04-04\", \"Sexo\": \"F\", \"Casos confirmados\": 1888, \"Porcentaje\": 0.4988110964332893}, {\"Fecha (a\\u00f1o-mes-d\\u00eda)\": \"2020-04-04\", \"Sexo\": \"M\", \"Casos confirmados\": 1897, \"Porcentaje\": 0.5011889035667108}, {\"Fecha (a\\u00f1o-mes-d\\u00eda)\": \"2020-04-05\", \"Sexo\": \"F\", \"Casos confirmados\": 2040, \"Porcentaje\": 0.4997550220480157}, {\"Fecha (a\\u00f1o-mes-d\\u00eda)\": \"2020-04-05\", \"Sexo\": \"M\", \"Casos confirmados\": 2042, \"Porcentaje\": 0.5002449779519843}, {\"Fecha (a\\u00f1o-mes-d\\u00eda)\": \"2020-04-06\", \"Sexo\": \"F\", \"Casos confirmados\": 2155, \"Porcentaje\": 0.4958582604693971}, {\"Fecha (a\\u00f1o-mes-d\\u00eda)\": \"2020-04-06\", \"Sexo\": \"M\", \"Casos confirmados\": 2191, \"Porcentaje\": 0.5041417395306028}, {\"Fecha (a\\u00f1o-mes-d\\u00eda)\": \"2020-04-07\", \"Sexo\": \"F\", \"Casos confirmados\": 2291, \"Porcentaje\": 0.49620965995235}, {\"Fecha (a\\u00f1o-mes-d\\u00eda)\": \"2020-04-07\", \"Sexo\": \"M\", \"Casos confirmados\": 2326, \"Porcentaje\": 0.50379034004765}, {\"Fecha (a\\u00f1o-mes-d\\u00eda)\": \"2020-04-08\", \"Sexo\": \"F\", \"Casos confirmados\": 2690, \"Porcentaje\": 0.49842505095423384}, {\"Fecha (a\\u00f1o-mes-d\\u00eda)\": \"2020-04-08\", \"Sexo\": \"M\", \"Casos confirmados\": 2707, \"Porcentaje\": 0.5015749490457662}, {\"Fecha (a\\u00f1o-mes-d\\u00eda)\": \"2020-04-09\", \"Sexo\": \"F\", \"Casos confirmados\": 2911, \"Porcentaje\": 0.5010327022375215}, {\"Fecha (a\\u00f1o-mes-d\\u00eda)\": \"2020-04-09\", \"Sexo\": \"M\", \"Casos confirmados\": 2899, \"Porcentaje\": 0.4989672977624785}, {\"Fecha (a\\u00f1o-mes-d\\u00eda)\": \"2020-04-10\", \"Sexo\": \"F\", \"Casos confirmados\": 3142, \"Porcentaje\": 0.4993642720915448}, {\"Fecha (a\\u00f1o-mes-d\\u00eda)\": \"2020-04-10\", \"Sexo\": \"M\", \"Casos confirmados\": 3150, \"Porcentaje\": 0.5006357279084552}, {\"Fecha (a\\u00f1o-mes-d\\u00eda)\": \"2020-04-11\", \"Sexo\": \"F\", \"Casos confirmados\": 3350, \"Porcentaje\": 0.4998507908087138}, {\"Fecha (a\\u00f1o-mes-d\\u00eda)\": \"2020-04-11\", \"Sexo\": \"M\", \"Casos confirmados\": 3352, \"Porcentaje\": 0.5001492091912861}, {\"Fecha (a\\u00f1o-mes-d\\u00eda)\": \"2020-04-12\", \"Sexo\": \"F\", \"Casos confirmados\": 3515, \"Porcentaje\": 0.5009977194982896}, {\"Fecha (a\\u00f1o-mes-d\\u00eda)\": \"2020-04-12\", \"Sexo\": \"M\", \"Casos confirmados\": 3501, \"Porcentaje\": 0.49900228050171036}, {\"Fecha (a\\u00f1o-mes-d\\u00eda)\": \"2020-04-13\", \"Sexo\": \"F\", \"Casos confirmados\": 3713, \"Porcentaje\": 0.500944414463033}, {\"Fecha (a\\u00f1o-mes-d\\u00eda)\": \"2020-04-13\", \"Sexo\": \"M\", \"Casos confirmados\": 3699, \"Porcentaje\": 0.4990555855369671}, {\"Fecha (a\\u00f1o-mes-d\\u00eda)\": \"2020-04-14\", \"Sexo\": \"F\", \"Casos confirmados\": 3856, \"Porcentaje\": 0.4997407983411094}, {\"Fecha (a\\u00f1o-mes-d\\u00eda)\": \"2020-04-14\", \"Sexo\": \"M\", \"Casos confirmados\": 3860, \"Porcentaje\": 0.5002592016588906}, {\"Fecha (a\\u00f1o-mes-d\\u00eda)\": \"2020-04-15\", \"Sexo\": \"F\", \"Casos confirmados\": 4117, \"Porcentaje\": 0.501095423563778}, {\"Fecha (a\\u00f1o-mes-d\\u00eda)\": \"2020-04-15\", \"Sexo\": \"M\", \"Casos confirmados\": 4099, \"Porcentaje\": 0.498904576436222}, {\"Fecha (a\\u00f1o-mes-d\\u00eda)\": \"2020-04-16\", \"Sexo\": \"F\", \"Casos confirmados\": 4374, \"Porcentaje\": 0.5004576659038902}, {\"Fecha (a\\u00f1o-mes-d\\u00eda)\": \"2020-04-16\", \"Sexo\": \"M\", \"Casos confirmados\": 4366, \"Porcentaje\": 0.4995423340961098}, {\"Fecha (a\\u00f1o-mes-d\\u00eda)\": \"2020-04-17\", \"Sexo\": \"F\", \"Casos confirmados\": 4636, \"Porcentaje\": 0.5010808473843493}, {\"Fecha (a\\u00f1o-mes-d\\u00eda)\": \"2020-04-17\", \"Sexo\": \"M\", \"Casos confirmados\": 4616, \"Porcentaje\": 0.4989191526156507}, {\"Fecha (a\\u00f1o-mes-d\\u00eda)\": \"2020-04-18\", \"Sexo\": \"F\", \"Casos confirmados\": 4895, \"Porcentaje\": 0.5030832476875642}, {\"Fecha (a\\u00f1o-mes-d\\u00eda)\": \"2020-04-18\", \"Sexo\": \"M\", \"Casos confirmados\": 4835, \"Porcentaje\": 0.49691675231243576}, {\"Fecha (a\\u00f1o-mes-d\\u00eda)\": \"2020-04-19\", \"Sexo\": \"F\", \"Casos confirmados\": 5097, \"Porcentaje\": 0.505253766851705}, {\"Fecha (a\\u00f1o-mes-d\\u00eda)\": \"2020-04-19\", \"Sexo\": \"M\", \"Casos confirmados\": 4991, \"Porcentaje\": 0.494746233148295}, {\"Fecha (a\\u00f1o-mes-d\\u00eda)\": \"2020-04-20\", \"Sexo\": \"F\", \"Casos confirmados\": 5284, \"Porcentaje\": 0.5055975504736389}, {\"Fecha (a\\u00f1o-mes-d\\u00eda)\": \"2020-04-20\", \"Sexo\": \"M\", \"Casos confirmados\": 5167, \"Porcentaje\": 0.4944024495263611}, {\"Fecha (a\\u00f1o-mes-d\\u00eda)\": \"2020-04-21\", \"Sexo\": \"F\", \"Casos confirmados\": 5483, \"Porcentaje\": 0.506185376661743}, {\"Fecha (a\\u00f1o-mes-d\\u00eda)\": \"2020-04-21\", \"Sexo\": \"M\", \"Casos confirmados\": 5349, \"Porcentaje\": 0.49381462333825704}, {\"Fecha (a\\u00f1o-mes-d\\u00eda)\": \"2020-04-22\", \"Sexo\": \"F\", \"Casos confirmados\": 5689, \"Porcentaje\": 0.5036296033994334}, {\"Fecha (a\\u00f1o-mes-d\\u00eda)\": \"2020-04-22\", \"Sexo\": \"M\", \"Casos confirmados\": 5607, \"Porcentaje\": 0.4963703966005666}, {\"Fecha (a\\u00f1o-mes-d\\u00eda)\": \"2020-04-23\", \"Sexo\": \"F\", \"Casos confirmados\": 5920, \"Porcentaje\": 0.5011852353538774}, {\"Fecha (a\\u00f1o-mes-d\\u00eda)\": \"2020-04-23\", \"Sexo\": \"M\", \"Casos confirmados\": 5892, \"Porcentaje\": 0.49881476464612257}, {\"Fecha (a\\u00f1o-mes-d\\u00eda)\": \"2020-04-24\", \"Sexo\": \"F\", \"Casos confirmados\": 6123, \"Porcentaje\": 0.5013099721630916}, {\"Fecha (a\\u00f1o-mes-d\\u00eda)\": \"2020-04-24\", \"Sexo\": \"M\", \"Casos confirmados\": 6091, \"Porcentaje\": 0.49869002783690847}, {\"Fecha (a\\u00f1o-mes-d\\u00eda)\": \"2020-04-25\", \"Sexo\": \"F\", \"Casos confirmados\": 6394, \"Porcentaje\": 0.5001173249902229}, {\"Fecha (a\\u00f1o-mes-d\\u00eda)\": \"2020-04-25\", \"Sexo\": \"M\", \"Casos confirmados\": 6391, \"Porcentaje\": 0.49988267500977707}, {\"Fecha (a\\u00f1o-mes-d\\u00eda)\": \"2020-04-26\", \"Sexo\": \"F\", \"Casos confirmados\": 6640, \"Porcentaje\": 0.49984944293887384}, {\"Fecha (a\\u00f1o-mes-d\\u00eda)\": \"2020-04-26\", \"Sexo\": \"M\", \"Casos confirmados\": 6644, \"Porcentaje\": 0.5001505570611262}, {\"Fecha (a\\u00f1o-mes-d\\u00eda)\": \"2020-04-27\", \"Sexo\": \"F\", \"Casos confirmados\": 6843, \"Porcentaje\": 0.49934325744308233}, {\"Fecha (a\\u00f1o-mes-d\\u00eda)\": \"2020-04-27\", \"Sexo\": \"M\", \"Casos confirmados\": 6861, \"Porcentaje\": 0.5006567425569177}, {\"Fecha (a\\u00f1o-mes-d\\u00eda)\": \"2020-04-28\", \"Sexo\": \"F\", \"Casos confirmados\": 7150, \"Porcentaje\": 0.4978415262498259}, {\"Fecha (a\\u00f1o-mes-d\\u00eda)\": \"2020-04-28\", \"Sexo\": \"M\", \"Casos confirmados\": 7212, \"Porcentaje\": 0.5021584737501741}, {\"Fecha (a\\u00f1o-mes-d\\u00eda)\": \"2020-05-01\", \"Sexo\": \"F\", \"Casos confirmados\": 8338, \"Porcentaje\": 0.4902398871119473}, {\"Fecha (a\\u00f1o-mes-d\\u00eda)\": \"2020-05-01\", \"Sexo\": \"M\", \"Casos confirmados\": 8670, \"Porcentaje\": 0.5097601128880527}, {\"Fecha (a\\u00f1o-mes-d\\u00eda)\": \"2020-05-02\", \"Sexo\": \"F\", \"Casos confirmados\": 8956, \"Porcentaje\": 0.4858677372104378}, {\"Fecha (a\\u00f1o-mes-d\\u00eda)\": \"2020-05-02\", \"Sexo\": \"M\", \"Casos confirmados\": 9477, \"Porcentaje\": 0.5141322627895621}, {\"Fecha (a\\u00f1o-mes-d\\u00eda)\": \"2020-05-04\", \"Sexo\": \"F\", \"Casos confirmados\": 9914, \"Porcentaje\": 0.482034326834249}, {\"Fecha (a\\u00f1o-mes-d\\u00eda)\": \"2020-05-04\", \"Sexo\": \"M\", \"Casos confirmados\": 10653, \"Porcentaje\": 0.5179656731657509}, {\"Fecha (a\\u00f1o-mes-d\\u00eda)\": \"2020-05-06\", \"Sexo\": \"F\", \"Casos confirmados\": 11009, \"Porcentaje\": 0.4784233627395593}, {\"Fecha (a\\u00f1o-mes-d\\u00eda)\": \"2020-05-06\", \"Sexo\": \"M\", \"Casos confirmados\": 12002, \"Porcentaje\": 0.5215766372604407}, {\"Fecha (a\\u00f1o-mes-d\\u00eda)\": \"2020-05-08\", \"Sexo\": \"F\", \"Casos confirmados\": 12298, \"Porcentaje\": 0.4738748458692972}, {\"Fecha (a\\u00f1o-mes-d\\u00eda)\": \"2020-05-08\", \"Sexo\": \"M\", \"Casos confirmados\": 13654, \"Porcentaje\": 0.5261251541307028}, {\"Fecha (a\\u00f1o-mes-d\\u00eda)\": \"2020-05-11\", \"Sexo\": \"F\", \"Casos confirmados\": 14098, \"Porcentaje\": 0.46919825606549737}, {\"Fecha (a\\u00f1o-mes-d\\u00eda)\": \"2020-05-11\", \"Sexo\": \"M\", \"Casos confirmados\": 15949, \"Porcentaje\": 0.5308017439345026}, {\"Fecha (a\\u00f1o-mes-d\\u00eda)\": \"2020-05-15\", \"Sexo\": \"F\", \"Casos confirmados\": 18501, \"Porcentaje\": 0.4682493482827567}, {\"Fecha (a\\u00f1o-mes-d\\u00eda)\": \"2020-05-15\", \"Sexo\": \"M\", \"Casos confirmados\": 21010, \"Porcentaje\": 0.5317506517172433}, {\"Fecha (a\\u00f1o-mes-d\\u00eda)\": \"2020-05-18\", \"Sexo\": \"F\", \"Casos confirmados\": 21525, \"Porcentaje\": 0.4674470118137595}, {\"Fecha (a\\u00f1o-mes-d\\u00eda)\": \"2020-05-18\", \"Sexo\": \"M\", \"Casos confirmados\": 24523, \"Porcentaje\": 0.5325529881862404}, {\"Fecha (a\\u00f1o-mes-d\\u00eda)\": \"2020-05-22\", \"Sexo\": \"F\", \"Casos confirmados\": 29030, \"Porcentaje\": 0.4693765360238003}, {\"Fecha (a\\u00f1o-mes-d\\u00eda)\": \"2020-05-22\", \"Sexo\": \"M\", \"Casos confirmados\": 32818, \"Porcentaje\": 0.5306234639761997}, {\"Fecha (a\\u00f1o-mes-d\\u00eda)\": \"2020-05-25\", \"Sexo\": \"F\", \"Casos confirmados\": 34719, \"Porcentaje\": 0.46920737887695113}, {\"Fecha (a\\u00f1o-mes-d\\u00eda)\": \"2020-05-25\", \"Sexo\": \"M\", \"Casos confirmados\": 39276, \"Porcentaje\": 0.5307926211230488}, {\"Fecha (a\\u00f1o-mes-d\\u00eda)\": \"2020-05-29\", \"Sexo\": \"F\", \"Casos confirmados\": 42589, \"Porcentaje\": 0.4699009201844782}, {\"Fecha (a\\u00f1o-mes-d\\u00eda)\": \"2020-05-29\", \"Sexo\": \"M\", \"Casos confirmados\": 48045, \"Porcentaje\": 0.5300990798155217}, {\"Fecha (a\\u00f1o-mes-d\\u00eda)\": \"2020-06-01\", \"Sexo\": \"F\", \"Casos confirmados\": 49656, \"Porcentaje\": 0.4722082219918788}, {\"Fecha (a\\u00f1o-mes-d\\u00eda)\": \"2020-06-01\", \"Sexo\": \"M\", \"Casos confirmados\": 55501, \"Porcentaje\": 0.5277917780081212}, {\"Fecha (a\\u00f1o-mes-d\\u00eda)\": \"2020-06-05\", \"Sexo\": \"F\", \"Casos confirmados\": 57919, \"Porcentaje\": 0.47282746234540185}, {\"Fecha (a\\u00f1o-mes-d\\u00eda)\": \"2020-06-05\", \"Sexo\": \"M\", \"Casos confirmados\": 64576, \"Porcentaje\": 0.5271725376545982}, {\"Fecha (a\\u00f1o-mes-d\\u00eda)\": \"2020-06-08\", \"Sexo\": \"F\", \"Casos confirmados\": 65602, \"Porcentaje\": 0.47249391394534795}, {\"Fecha (a\\u00f1o-mes-d\\u00eda)\": \"2020-06-08\", \"Sexo\": \"M\", \"Casos confirmados\": 73240, \"Porcentaje\": 0.5275060860546521}, {\"Fecha (a\\u00f1o-mes-d\\u00eda)\": \"2020-06-12\", \"Sexo\": \"F\", \"Casos confirmados\": 76292, \"Porcentaje\": 0.47433474260134295}, {\"Fecha (a\\u00f1o-mes-d\\u00eda)\": \"2020-06-12\", \"Sexo\": \"M\", \"Casos confirmados\": 84548, \"Porcentaje\": 0.5256652573986571}, {\"Fecha (a\\u00f1o-mes-d\\u00eda)\": \"2020-06-15\", \"Sexo\": \"F\", \"Casos confirmados\": 85229, \"Porcentaje\": 0.47499860669899124}, {\"Fecha (a\\u00f1o-mes-d\\u00eda)\": \"2020-06-15\", \"Sexo\": \"M\", \"Casos confirmados\": 94201, \"Porcentaje\": 0.5250013933010087}, {\"Fecha (a\\u00f1o-mes-d\\u00eda)\": \"2020-06-19\", \"Sexo\": \"F\", \"Casos confirmados\": 111462, \"Porcentaje\": 0.48178533144299596}, {\"Fecha (a\\u00f1o-mes-d\\u00eda)\": \"2020-06-19\", \"Sexo\": \"M\", \"Casos confirmados\": 119890, \"Porcentaje\": 0.518214668557004}, {\"Fecha (a\\u00f1o-mes-d\\u00eda)\": \"2020-06-23\", \"Sexo\": \"F\", \"Casos confirmados\": 123044, \"Porcentaje\": 0.48184335117735283}, {\"Fecha (a\\u00f1o-mes-d\\u00eda)\": \"2020-06-23\", \"Sexo\": \"M\", \"Casos confirmados\": 132317, \"Porcentaje\": 0.5181566488226471}, {\"Fecha (a\\u00f1o-mes-d\\u00eda)\": \"2020-06-28\", \"Sexo\": \"F\", \"Casos confirmados\": 135564, \"Porcentaje\": 0.48164912704559826}, {\"Fecha (a\\u00f1o-mes-d\\u00eda)\": \"2020-06-28\", \"Sexo\": \"M\", \"Casos confirmados\": 145894, \"Porcentaje\": 0.5183508729544017}, {\"Fecha (a\\u00f1o-mes-d\\u00eda)\": \"2020-07-01\", \"Sexo\": \"F\", \"Casos confirmados\": 140852, \"Porcentaje\": 0.48205949594096953}, {\"Fecha (a\\u00f1o-mes-d\\u00eda)\": \"2020-07-01\", \"Sexo\": \"M\", \"Casos confirmados\": 151336, \"Porcentaje\": 0.5179405040590305}, {\"Fecha (a\\u00f1o-mes-d\\u00eda)\": \"2020-07-05\", \"Sexo\": \"F\", \"Casos confirmados\": 149238, \"Porcentaje\": 0.48241508165349956}, {\"Fecha (a\\u00f1o-mes-d\\u00eda)\": \"2020-07-05\", \"Sexo\": \"M\", \"Casos confirmados\": 160118, \"Porcentaje\": 0.5175849183465004}, {\"Fecha (a\\u00f1o-mes-d\\u00eda)\": \"2020-07-10\", \"Sexo\": \"F\", \"Casos confirmados\": 157594, \"Porcentaje\": 0.4833104345052626}, {\"Fecha (a\\u00f1o-mes-d\\u00eda)\": \"2020-07-10\", \"Sexo\": \"M\", \"Casos confirmados\": 168478, \"Porcentaje\": 0.5166895654947373}, {\"Fecha (a\\u00f1o-mes-d\\u00eda)\": \"2020-07-13\", \"Sexo\": \"F\", \"Casos confirmados\": 162639, \"Porcentaje\": 0.4836790045620275}, {\"Fecha (a\\u00f1o-mes-d\\u00eda)\": \"2020-07-13\", \"Sexo\": \"M\", \"Casos confirmados\": 173615, \"Porcentaje\": 0.5163209954379725}, {\"Fecha (a\\u00f1o-mes-d\\u00eda)\": \"2020-07-17\", \"Sexo\": \"F\", \"Casos confirmados\": 167697, \"Porcentaje\": 0.4839935812702389}, {\"Fecha (a\\u00f1o-mes-d\\u00eda)\": \"2020-07-17\", \"Sexo\": \"M\", \"Casos confirmados\": 178789, \"Porcentaje\": 0.516006418729761}, {\"Fecha (a\\u00f1o-mes-d\\u00eda)\": \"2020-07-24\", \"Sexo\": \"F\", \"Casos confirmados\": 175270, \"Porcentaje\": 0.4843826863658724}, {\"Fecha (a\\u00f1o-mes-d\\u00eda)\": \"2020-07-24\", \"Sexo\": \"M\", \"Casos confirmados\": 186572, \"Porcentaje\": 0.5156173136341275}, {\"Fecha (a\\u00f1o-mes-d\\u00eda)\": \"2020-07-27\", \"Sexo\": \"F\", \"Casos confirmados\": 178459, \"Porcentaje\": 0.4843690627408831}, {\"Fecha (a\\u00f1o-mes-d\\u00eda)\": \"2020-07-27\", \"Sexo\": \"M\", \"Casos confirmados\": 189977, \"Porcentaje\": 0.5156309372591169}, {\"Fecha (a\\u00f1o-mes-d\\u00eda)\": \"2020-07-31\", \"Sexo\": \"F\", \"Casos confirmados\": 182230, \"Porcentaje\": 0.48437599676781423}, {\"Fecha (a\\u00f1o-mes-d\\u00eda)\": \"2020-07-31\", \"Sexo\": \"M\", \"Casos confirmados\": 193986, \"Porcentaje\": 0.5156240032321857}, {\"Fecha (a\\u00f1o-mes-d\\u00eda)\": \"2020-08-03\", \"Sexo\": \"F\", \"Casos confirmados\": 185142, \"Porcentaje\": 0.4845190583986496}, {\"Fecha (a\\u00f1o-mes-d\\u00eda)\": \"2020-08-03\", \"Sexo\": \"M\", \"Casos confirmados\": 196973, \"Porcentaje\": 0.5154809416013504}, {\"Fecha (a\\u00f1o-mes-d\\u00eda)\": \"2020-08-07\", \"Sexo\": \"F\", \"Casos confirmados\": 190104, \"Porcentaje\": 0.4849542351608657}, {\"Fecha (a\\u00f1o-mes-d\\u00eda)\": \"2020-08-07\", \"Sexo\": \"M\", \"Casos confirmados\": 201900, \"Porcentaje\": 0.5150457648391343}, {\"Fecha (a\\u00f1o-mes-d\\u00eda)\": \"2020-08-10\", \"Sexo\": \"F\", \"Casos confirmados\": 193996, \"Porcentaje\": 0.48519378138818303}, {\"Fecha (a\\u00f1o-mes-d\\u00eda)\": \"2020-08-10\", \"Sexo\": \"M\", \"Casos confirmados\": 205836, \"Porcentaje\": 0.514806218611817}, {\"Fecha (a\\u00f1o-mes-d\\u00eda)\": \"2020-08-14\", \"Sexo\": \"F\", \"Casos confirmados\": 198754, \"Porcentaje\": 0.4859178344758794}, {\"Fecha (a\\u00f1o-mes-d\\u00eda)\": \"2020-08-14\", \"Sexo\": \"M\", \"Casos confirmados\": 210274, \"Porcentaje\": 0.5140821655241206}, {\"Fecha (a\\u00f1o-mes-d\\u00eda)\": \"2020-08-17\", \"Sexo\": \"F\", \"Casos confirmados\": 201915, \"Porcentaje\": 0.48611462207937595}, {\"Fecha (a\\u00f1o-mes-d\\u00eda)\": \"2020-08-17\", \"Sexo\": \"M\", \"Casos confirmados\": 213450, \"Porcentaje\": 0.513885377920624}, {\"Fecha (a\\u00f1o-mes-d\\u00eda)\": \"2020-08-21\", \"Sexo\": \"F\", \"Casos confirmados\": 205923, \"Porcentaje\": 0.4867948881607875}, {\"Fecha (a\\u00f1o-mes-d\\u00eda)\": \"2020-08-21\", \"Sexo\": \"M\", \"Casos confirmados\": 217095, \"Porcentaje\": 0.5132051118392125}, {\"Fecha (a\\u00f1o-mes-d\\u00eda)\": \"2020-08-24\", \"Sexo\": \"F\", \"Casos confirmados\": 209497, \"Porcentaje\": 0.4874074901295662}, {\"Fecha (a\\u00f1o-mes-d\\u00eda)\": \"2020-08-24\", \"Sexo\": \"M\", \"Casos confirmados\": 220322, \"Porcentaje\": 0.5125925098704338}, {\"Fecha (a\\u00f1o-mes-d\\u00eda)\": \"2020-08-28\", \"Sexo\": \"F\", \"Casos confirmados\": 213888, \"Porcentaje\": 0.48807915586549344}, {\"Fecha (a\\u00f1o-mes-d\\u00eda)\": \"2020-08-28\", \"Sexo\": \"M\", \"Casos confirmados\": 224336, \"Porcentaje\": 0.5119208441345066}, {\"Fecha (a\\u00f1o-mes-d\\u00eda)\": \"2020-08-31\", \"Sexo\": \"F\", \"Casos confirmados\": 217279, \"Porcentaje\": 0.488354112303083}, {\"Fecha (a\\u00f1o-mes-d\\u00eda)\": \"2020-08-31\", \"Sexo\": \"M\", \"Casos confirmados\": 227642, \"Porcentaje\": 0.511645887696917}, {\"Fecha (a\\u00f1o-mes-d\\u00eda)\": \"2020-09-04\", \"Sexo\": \"F\", \"Casos confirmados\": 221698, \"Porcentaje\": 0.48893005612711854}, {\"Fecha (a\\u00f1o-mes-d\\u00eda)\": \"2020-09-04\", \"Sexo\": \"M\", \"Casos confirmados\": 231737, \"Porcentaje\": 0.5110699438728814}, {\"Fecha (a\\u00f1o-mes-d\\u00eda)\": \"2020-09-07\", \"Sexo\": \"F\", \"Casos confirmados\": 225283, \"Porcentaje\": 0.48923833329351957}, {\"Fecha (a\\u00f1o-mes-d\\u00eda)\": \"2020-09-07\", \"Sexo\": \"M\", \"Casos confirmados\": 235194, \"Porcentaje\": 0.5107616667064805}, {\"Fecha (a\\u00f1o-mes-d\\u00eda)\": \"2020-09-11\", \"Sexo\": \"F\", \"Casos confirmados\": 229397, \"Porcentaje\": 0.4895954275372217}, {\"Fecha (a\\u00f1o-mes-d\\u00eda)\": \"2020-09-11\", \"Sexo\": \"M\", \"Casos confirmados\": 239147, \"Porcentaje\": 0.5104045724627783}, {\"Fecha (a\\u00f1o-mes-d\\u00eda)\": \"2020-09-14\", \"Sexo\": \"F\", \"Casos confirmados\": 232761, \"Porcentaje\": 0.4896046747411686}, {\"Fecha (a\\u00f1o-mes-d\\u00eda)\": \"2020-09-14\", \"Sexo\": \"M\", \"Casos confirmados\": 242645, \"Porcentaje\": 0.5103953252588314}, {\"Fecha (a\\u00f1o-mes-d\\u00eda)\": \"2020-09-18\", \"Sexo\": \"F\", \"Casos confirmados\": 236674, \"Porcentaje\": 0.48987034706583654}, {\"Fecha (a\\u00f1o-mes-d\\u00eda)\": \"2020-09-18\", \"Sexo\": \"M\", \"Casos confirmados\": 246462, \"Porcentaje\": 0.5101296529341635}, {\"Fecha (a\\u00f1o-mes-d\\u00eda)\": \"2020-09-21\", \"Sexo\": \"F\", \"Casos confirmados\": 239265, \"Porcentaje\": 0.4900942642594664}, {\"Fecha (a\\u00f1o-mes-d\\u00eda)\": \"2020-09-21\", \"Sexo\": \"M\", \"Casos confirmados\": 248937, \"Porcentaje\": 0.5099057357405337}, {\"Fecha (a\\u00f1o-mes-d\\u00eda)\": \"2020-09-25\", \"Sexo\": \"F\", \"Casos confirmados\": 243496, \"Porcentaje\": 0.4905119134912129}, {\"Fecha (a\\u00f1o-mes-d\\u00eda)\": \"2020-09-25\", \"Sexo\": \"M\", \"Casos confirmados\": 252916, \"Porcentaje\": 0.5094880865087871}, {\"Fecha (a\\u00f1o-mes-d\\u00eda)\": \"2020-09-28\", \"Sexo\": \"F\", \"Casos confirmados\": 247066, \"Porcentaje\": 0.49079947158791803}, {\"Fecha (a\\u00f1o-mes-d\\u00eda)\": \"2020-09-28\", \"Sexo\": \"M\", \"Casos confirmados\": 256329, \"Porcentaje\": 0.509200528412082}, {\"Fecha (a\\u00f1o-mes-d\\u00eda)\": \"2020-10-02\", \"Sexo\": \"F\", \"Casos confirmados\": 251346, \"Porcentaje\": 0.49111926562481684}, {\"Fecha (a\\u00f1o-mes-d\\u00eda)\": \"2020-10-02\", \"Sexo\": \"M\", \"Casos confirmados\": 260436, \"Porcentaje\": 0.5088807343751832}, {\"Fecha (a\\u00f1o-mes-d\\u00eda)\": \"2020-10-05\", \"Sexo\": \"F\", \"Casos confirmados\": 251346, \"Porcentaje\": 0.49111926562481684}, {\"Fecha (a\\u00f1o-mes-d\\u00eda)\": \"2020-10-05\", \"Sexo\": \"M\", \"Casos confirmados\": 260436, \"Porcentaje\": 0.5088807343751832}, {\"Fecha (a\\u00f1o-mes-d\\u00eda)\": \"2020-10-09\", \"Sexo\": \"F\", \"Casos confirmados\": 257867, \"Porcentaje\": 0.4913774047989268}, {\"Fecha (a\\u00f1o-mes-d\\u00eda)\": \"2020-10-09\", \"Sexo\": \"M\", \"Casos confirmados\": 266917, \"Porcentaje\": 0.5086225952010732}, {\"Fecha (a\\u00f1o-mes-d\\u00eda)\": \"2020-10-12\", \"Sexo\": \"F\", \"Casos confirmados\": 260823, \"Porcentaje\": 0.4915707201969125}, {\"Fecha (a\\u00f1o-mes-d\\u00eda)\": \"2020-10-12\", \"Sexo\": \"M\", \"Casos confirmados\": 269768, \"Porcentaje\": 0.5084292798030875}, {\"Fecha (a\\u00f1o-mes-d\\u00eda)\": \"2020-10-16\", \"Sexo\": \"F\", \"Casos confirmados\": 263995, \"Porcentaje\": 0.4917454126176067}, {\"Fecha (a\\u00f1o-mes-d\\u00eda)\": \"2020-10-16\", \"Sexo\": \"M\", \"Casos confirmados\": 272858, \"Porcentaje\": 0.5082545873823933}, {\"Fecha (a\\u00f1o-mes-d\\u00eda)\": \"2020-10-19\", \"Sexo\": \"F\", \"Casos confirmados\": 266970, \"Porcentaje\": 0.4918911748123418}, {\"Fecha (a\\u00f1o-mes-d\\u00eda)\": \"2020-10-19\", \"Sexo\": \"M\", \"Casos confirmados\": 275772, \"Porcentaje\": 0.5081088251876582}, {\"Fecha (a\\u00f1o-mes-d\\u00eda)\": \"2020-10-24\", \"Sexo\": \"F\", \"Casos confirmados\": 271511, \"Porcentaje\": 0.492246747949055}, {\"Fecha (a\\u00f1o-mes-d\\u00eda)\": \"2020-10-24\", \"Sexo\": \"M\", \"Casos confirmados\": 280064, \"Porcentaje\": 0.507753252050945}, {\"Fecha (a\\u00f1o-mes-d\\u00eda)\": \"2020-10-26\", \"Sexo\": \"F\", \"Casos confirmados\": 273283, \"Porcentaje\": 0.49238494538024824}, {\"Fecha (a\\u00f1o-mes-d\\u00eda)\": \"2020-10-26\", \"Sexo\": \"M\", \"Casos confirmados\": 281736, \"Porcentaje\": 0.5076150546197518}, {\"Fecha (a\\u00f1o-mes-d\\u00eda)\": \"2020-10-30\", \"Sexo\": \"F\", \"Casos confirmados\": 276394, \"Porcentaje\": 0.4925474737682482}, {\"Fecha (a\\u00f1o-mes-d\\u00eda)\": \"2020-10-30\", \"Sexo\": \"M\", \"Casos confirmados\": 284758, \"Porcentaje\": 0.5074525262317519}, {\"Fecha (a\\u00f1o-mes-d\\u00eda)\": \"2020-11-02\", \"Sexo\": \"F\", \"Casos confirmados\": 279230, \"Porcentaje\": 0.4928907442874416}, {\"Fecha (a\\u00f1o-mes-d\\u00eda)\": \"2020-11-02\", \"Sexo\": \"M\", \"Casos confirmados\": 287285, \"Porcentaje\": 0.5071092557125584}, {\"Fecha (a\\u00f1o-mes-d\\u00eda)\": \"2020-11-06\", \"Sexo\": \"F\", \"Casos confirmados\": 282297, \"Porcentaje\": 0.4929539834876996}, {\"Fecha (a\\u00f1o-mes-d\\u00eda)\": \"2020-11-06\", \"Sexo\": \"M\", \"Casos confirmados\": 290367, \"Porcentaje\": 0.5070460165123004}, {\"Fecha (a\\u00f1o-mes-d\\u00eda)\": \"2020-11-09\", \"Sexo\": \"F\", \"Casos confirmados\": 284951, \"Porcentaje\": 0.49309974267880535}, {\"Fecha (a\\u00f1o-mes-d\\u00eda)\": \"2020-11-09\", \"Sexo\": \"M\", \"Casos confirmados\": 292926, \"Porcentaje\": 0.5069002573211947}, {\"Fecha (a\\u00f1o-mes-d\\u00eda)\": \"2020-11-13\", \"Sexo\": \"F\", \"Casos confirmados\": 288126, \"Porcentaje\": 0.49323975006419585}, {\"Fecha (a\\u00f1o-mes-d\\u00eda)\": \"2020-11-13\", \"Sexo\": \"M\", \"Casos confirmados\": 296024, \"Porcentaje\": 0.5067602499358042}, {\"Fecha (a\\u00f1o-mes-d\\u00eda)\": \"2020-11-16\", \"Sexo\": \"F\", \"Casos confirmados\": 290806, \"Porcentaje\": 0.49338658450513057}, {\"Fecha (a\\u00f1o-mes-d\\u00eda)\": \"2020-11-16\", \"Sexo\": \"M\", \"Casos confirmados\": 298602, \"Porcentaje\": 0.5066134154948694}, {\"Fecha (a\\u00f1o-mes-d\\u00eda)\": \"2020-11-20\", \"Sexo\": \"F\", \"Casos confirmados\": 294007, \"Porcentaje\": 0.49360759801822945}, {\"Fecha (a\\u00f1o-mes-d\\u00eda)\": \"2020-11-20\", \"Sexo\": \"M\", \"Casos confirmados\": 301622, \"Porcentaje\": 0.5063924019817705}, {\"Fecha (a\\u00f1o-mes-d\\u00eda)\": \"2020-11-23\", \"Sexo\": \"F\", \"Casos confirmados\": 296652, \"Porcentaje\": 0.49380192459105354}, {\"Fecha (a\\u00f1o-mes-d\\u00eda)\": \"2020-11-23\", \"Sexo\": \"M\", \"Casos confirmados\": 304099, \"Porcentaje\": 0.5061980754089465}, {\"Fecha (a\\u00f1o-mes-d\\u00eda)\": \"2020-11-27\", \"Sexo\": \"F\", \"Casos confirmados\": 299920, \"Porcentaje\": 0.49400773493039224}, {\"Fecha (a\\u00f1o-mes-d\\u00eda)\": \"2020-11-27\", \"Sexo\": \"M\", \"Casos confirmados\": 307196, \"Porcentaje\": 0.5059922650696078}, {\"Fecha (a\\u00f1o-mes-d\\u00eda)\": \"2020-11-30\", \"Sexo\": \"F\", \"Casos confirmados\": 302950, \"Porcentaje\": 0.49405164751832614}, {\"Fecha (a\\u00f1o-mes-d\\u00eda)\": \"2020-11-30\", \"Sexo\": \"M\", \"Casos confirmados\": 310245, \"Porcentaje\": 0.5059483524816738}, {\"Fecha (a\\u00f1o-mes-d\\u00eda)\": \"2020-12-04\", \"Sexo\": \"F\", \"Casos confirmados\": 306251, \"Porcentaje\": 0.49412377820731673}, {\"Fecha (a\\u00f1o-mes-d\\u00eda)\": \"2020-12-04\", \"Sexo\": \"M\", \"Casos confirmados\": 313535, \"Porcentaje\": 0.5058762217926833}, {\"Fecha (a\\u00f1o-mes-d\\u00eda)\": \"2020-12-07\", \"Sexo\": \"F\", \"Casos confirmados\": 309083, \"Porcentaje\": 0.49417225192499553}, {\"Fecha (a\\u00f1o-mes-d\\u00eda)\": \"2020-12-07\", \"Sexo\": \"M\", \"Casos confirmados\": 316373, \"Porcentaje\": 0.5058277480750045}, {\"Fecha (a\\u00f1o-mes-d\\u00eda)\": \"2020-12-11\", \"Sexo\": \"F\", \"Casos confirmados\": 312676, \"Porcentaje\": 0.4944056872877229}, {\"Fecha (a\\u00f1o-mes-d\\u00eda)\": \"2020-12-11\", \"Sexo\": \"M\", \"Casos confirmados\": 319752, \"Porcentaje\": 0.5055943127122772}, {\"Fecha (a\\u00f1o-mes-d\\u00eda)\": \"2020-12-14\", \"Sexo\": \"F\", \"Casos confirmados\": 316280, \"Porcentaje\": 0.4946380843799899}, {\"Fecha (a\\u00f1o-mes-d\\u00eda)\": \"2020-12-14\", \"Sexo\": \"M\", \"Casos confirmados\": 323137, \"Porcentaje\": 0.5053619156200101}, {\"Fecha (a\\u00f1o-mes-d\\u00eda)\": \"2020-12-18\", \"Sexo\": \"F\", \"Casos confirmados\": 320873, \"Porcentaje\": 0.4949574569170302}, {\"Fecha (a\\u00f1o-mes-d\\u00eda)\": \"2020-12-18\", \"Sexo\": \"M\", \"Casos confirmados\": 327411, \"Porcentaje\": 0.5050425430829698}, {\"Fecha (a\\u00f1o-mes-d\\u00eda)\": \"2020-12-21\", \"Sexo\": \"F\", \"Casos confirmados\": 324538, \"Porcentaje\": 0.49514600138227965}, {\"Fecha (a\\u00f1o-mes-d\\u00eda)\": \"2020-12-21\", \"Sexo\": \"M\", \"Casos confirmados\": 330901, \"Porcentaje\": 0.5048539986177203}, {\"Fecha (a\\u00f1o-mes-d\\u00eda)\": \"2020-12-25\", \"Sexo\": \"F\", \"Casos confirmados\": 329396, \"Porcentaje\": 0.4952169043305696}, {\"Fecha (a\\u00f1o-mes-d\\u00eda)\": \"2020-12-25\", \"Sexo\": \"M\", \"Casos confirmados\": 335759, \"Porcentaje\": 0.5047830956694305}, {\"Fecha (a\\u00f1o-mes-d\\u00eda)\": \"2020-12-28\", \"Sexo\": \"F\", \"Casos confirmados\": 332705, \"Porcentaje\": 0.4952522294946776}, {\"Fecha (a\\u00f1o-mes-d\\u00eda)\": \"2020-12-28\", \"Sexo\": \"M\", \"Casos confirmados\": 339084, \"Porcentaje\": 0.5047477705053224}, {\"Fecha (a\\u00f1o-mes-d\\u00eda)\": \"2021-01-01\", \"Sexo\": \"F\", \"Casos confirmados\": 339235, \"Porcentaje\": 0.49568584474885846}, {\"Fecha (a\\u00f1o-mes-d\\u00eda)\": \"2021-01-01\", \"Sexo\": \"M\", \"Casos confirmados\": 345140, \"Porcentaje\": 0.5043141552511415}, {\"Fecha (a\\u00f1o-mes-d\\u00eda)\": \"2021-01-04\", \"Sexo\": \"F\", \"Casos confirmados\": 343846, \"Porcentaje\": 0.49604787274712875}, {\"Fecha (a\\u00f1o-mes-d\\u00eda)\": \"2021-01-04\", \"Sexo\": \"M\", \"Casos confirmados\": 349325, \"Porcentaje\": 0.5039521272528712}, {\"Fecha (a\\u00f1o-mes-d\\u00eda)\": \"2021-01-08\", \"Sexo\": \"F\", \"Casos confirmados\": 351953, \"Porcentaje\": 0.4966885361113973}, {\"Fecha (a\\u00f1o-mes-d\\u00eda)\": \"2021-01-08\", \"Sexo\": \"M\", \"Casos confirmados\": 356646, \"Porcentaje\": 0.5033114638886027}, {\"Fecha (a\\u00f1o-mes-d\\u00eda)\": \"2021-01-11\", \"Sexo\": \"F\", \"Casos confirmados\": 359200, \"Porcentaje\": 0.49702435723764044}, {\"Fecha (a\\u00f1o-mes-d\\u00eda)\": \"2021-01-11\", \"Sexo\": \"M\", \"Casos confirmados\": 363501, \"Porcentaje\": 0.5029756427623595}, {\"Fecha (a\\u00f1o-mes-d\\u00eda)\": \"2021-01-15\", \"Sexo\": \"F\", \"Casos confirmados\": 368351, \"Porcentaje\": 0.4973233585403427}, {\"Fecha (a\\u00f1o-mes-d\\u00eda)\": \"2021-01-15\", \"Sexo\": \"M\", \"Casos confirmados\": 372316, \"Porcentaje\": 0.5026766414596573}, {\"Fecha (a\\u00f1o-mes-d\\u00eda)\": \"2021-01-18\", \"Sexo\": \"F\", \"Casos confirmados\": 375583, \"Porcentaje\": 0.49751496188990063}, {\"Fecha (a\\u00f1o-mes-d\\u00eda)\": \"2021-01-18\", \"Sexo\": \"M\", \"Casos confirmados\": 379335, \"Porcentaje\": 0.5024850381100994}, {\"Fecha (a\\u00f1o-mes-d\\u00eda)\": \"2021-01-22\", \"Sexo\": \"F\", \"Casos confirmados\": 385465, \"Porcentaje\": 0.4978965030412549}, {\"Fecha (a\\u00f1o-mes-d\\u00eda)\": \"2021-01-22\", \"Sexo\": \"M\", \"Casos confirmados\": 388722, \"Porcentaje\": 0.5021034969587451}, {\"Fecha (a\\u00f1o-mes-d\\u00eda)\": \"2021-01-25\", \"Sexo\": \"F\", \"Casos confirmados\": 392922, \"Porcentaje\": 0.49808143536775973}, {\"Fecha (a\\u00f1o-mes-d\\u00eda)\": \"2021-01-25\", \"Sexo\": \"M\", \"Casos confirmados\": 395949, \"Porcentaje\": 0.5019185646322403}, {\"Fecha (a\\u00f1o-mes-d\\u00eda)\": \"2021-01-29\", \"Sexo\": \"F\", \"Casos confirmados\": 402326, \"Porcentaje\": 0.498374781363499}, {\"Fecha (a\\u00f1o-mes-d\\u00eda)\": \"2021-01-29\", \"Sexo\": \"M\", \"Casos confirmados\": 404950, \"Porcentaje\": 0.501625218636501}, {\"Fecha (a\\u00f1o-mes-d\\u00eda)\": \"2021-02-01\", \"Sexo\": \"F\", \"Casos confirmados\": 409316, \"Porcentaje\": 0.498526280917652}, {\"Fecha (a\\u00f1o-mes-d\\u00eda)\": \"2021-02-01\", \"Sexo\": \"M\", \"Casos confirmados\": 411736, \"Porcentaje\": 0.5014737190823481}, {\"Fecha (a\\u00f1o-mes-d\\u00eda)\": \"2021-02-05\", \"Sexo\": \"F\", \"Casos confirmados\": 417281, \"Porcentaje\": 0.4987068646127884}, {\"Fecha (a\\u00f1o-mes-d\\u00eda)\": \"2021-02-05\", \"Sexo\": \"M\", \"Casos confirmados\": 419445, \"Porcentaje\": 0.5012931353872115}, {\"Fecha (a\\u00f1o-mes-d\\u00eda)\": \"2021-02-08\", \"Sexo\": \"F\", \"Casos confirmados\": 423637, \"Porcentaje\": 0.49892415625467407}, {\"Fecha (a\\u00f1o-mes-d\\u00eda)\": \"2021-02-08\", \"Sexo\": \"M\", \"Casos confirmados\": 425464, \"Porcentaje\": 0.501075843745326}, {\"Fecha (a\\u00f1o-mes-d\\u00eda)\": \"2021-02-12\", \"Sexo\": \"F\", \"Casos confirmados\": 431386, \"Porcentaje\": 0.4990583063396576}, {\"Fecha (a\\u00f1o-mes-d\\u00eda)\": \"2021-02-12\", \"Sexo\": \"M\", \"Casos confirmados\": 433014, \"Porcentaje\": 0.5009416936603425}, {\"Fecha (a\\u00f1o-mes-d\\u00eda)\": \"2021-02-15\", \"Sexo\": \"F\", \"Casos confirmados\": 437610, \"Porcentaje\": 0.4992009089446865}, {\"Fecha (a\\u00f1o-mes-d\\u00eda)\": \"2021-02-15\", \"Sexo\": \"M\", \"Casos confirmados\": 439011, \"Porcentaje\": 0.5007990910553135}, {\"Fecha (a\\u00f1o-mes-d\\u00eda)\": \"2021-02-19\", \"Sexo\": \"F\", \"Casos confirmados\": 445069, \"Porcentaje\": 0.499427710910972}, {\"Fecha (a\\u00f1o-mes-d\\u00eda)\": \"2021-02-19\", \"Sexo\": \"M\", \"Casos confirmados\": 446089, \"Porcentaje\": 0.500572289089028}, {\"Fecha (a\\u00f1o-mes-d\\u00eda)\": \"2021-02-22\", \"Sexo\": \"F\", \"Casos confirmados\": 451384, \"Porcentaje\": 0.49965795352152903}, {\"Fecha (a\\u00f1o-mes-d\\u00eda)\": \"2021-02-22\", \"Sexo\": \"M\", \"Casos confirmados\": 452002, \"Porcentaje\": 0.500342046478471}, {\"Fecha (a\\u00f1o-mes-d\\u00eda)\": \"2021-02-26\", \"Sexo\": \"F\", \"Casos confirmados\": 460931, \"Porcentaje\": 0.5000357996780199}, {\"Fecha (a\\u00f1o-mes-d\\u00eda)\": \"2021-02-26\", \"Sexo\": \"M\", \"Casos confirmados\": 460865, \"Porcentaje\": 0.49996420032198013}, {\"Fecha (a\\u00f1o-mes-d\\u00eda)\": \"2021-03-01\", \"Sexo\": \"F\", \"Casos confirmados\": 469138, \"Porcentaje\": 0.5004805974129884}, {\"Fecha (a\\u00f1o-mes-d\\u00eda)\": \"2021-03-01\", \"Sexo\": \"M\", \"Casos confirmados\": 468237, \"Porcentaje\": 0.4995194025870116}, {\"Fecha (a\\u00f1o-mes-d\\u00eda)\": \"2021-03-05\", \"Sexo\": \"F\", \"Casos confirmados\": 480679, \"Porcentaje\": 0.5008899077788778}, {\"Fecha (a\\u00f1o-mes-d\\u00eda)\": \"2021-03-05\", \"Sexo\": \"M\", \"Casos confirmados\": 478971, \"Porcentaje\": 0.4991100922211223}, {\"Fecha (a\\u00f1o-mes-d\\u00eda)\": \"2021-03-08\", \"Sexo\": \"F\", \"Casos confirmados\": 490133, \"Porcentaje\": 0.5011784723521695}, {\"Fecha (a\\u00f1o-mes-d\\u00eda)\": \"2021-03-08\", \"Sexo\": \"M\", \"Casos confirmados\": 487828, \"Porcentaje\": 0.49882152764783055}, {\"Fecha (a\\u00f1o-mes-d\\u00eda)\": \"2021-03-12\", \"Sexo\": \"F\", \"Casos confirmados\": 503645, \"Porcentaje\": 0.5014945911929646}, {\"Fecha (a\\u00f1o-mes-d\\u00eda)\": \"2021-03-12\", \"Sexo\": \"M\", \"Casos confirmados\": 500643, \"Porcentaje\": 0.4985054088070354}, {\"Fecha (a\\u00f1o-mes-d\\u00eda)\": \"2021-03-15\", \"Sexo\": \"F\", \"Casos confirmados\": 514356, \"Porcentaje\": 0.5018038778006935}, {\"Fecha (a\\u00f1o-mes-d\\u00eda)\": \"2021-03-15\", \"Sexo\": \"M\", \"Casos confirmados\": 510658, \"Porcentaje\": 0.49819612219930653}]}}, {\"mode\": \"vega-lite\"});\n",
       "</script>"
      ],
      "text/plain": [
       "alt.VConcatChart(...)"
      ]
     },
     "execution_count": 29,
     "metadata": {},
     "output_type": "execute_result"
    }
   ],
   "source": [
    "#hide_input\n",
    "input_dropdown = alt.binding_select(options=cases_sex['Sexo'].unique())\n",
    "selection1 = alt.selection_single(fields=['Sexo'], bind=input_dropdown, name=' ')\n",
    "selection2 = alt.selection_multi(fields=['Sexo'], on='mouseover')\n",
    "\n",
    "color = alt.condition(selection1 | selection2,\n",
    "                    alt.Color('Sexo:N', scale=alt.Scale(scheme='tableau10'), legend=None),\n",
    "                    alt.value('lightgray'))\n",
    "\n",
    "bars1 = alt.Chart(cases_sex).mark_bar().encode(\n",
    "    x=alt.X(\"Fecha (año-mes-día)\", axis=alt.Axis(title=\"\")),\n",
    "    y=alt.Y(\"Casos confirmados\"),\n",
    "    tooltip = [\"Fecha (año-mes-día)\", \"Casos confirmados\", \"Porcentaje\"],\n",
    "    color=color\n",
    ").add_selection(\n",
    "    selection1, selection2\n",
    ").transform_filter(\n",
    "    selection1\n",
    ")\n",
    "\n",
    "legend = alt.Chart(cases_sex).mark_point().encode(\n",
    "    y=alt.Y('Sexo:N', axis=alt.Axis(orient='right')),\n",
    "    color=color\n",
    ").add_selection(\n",
    "    selection1, selection2\n",
    ")\n",
    "\n",
    "bars2 = alt.Chart(cases_sex).mark_bar().encode(\n",
    "    x=alt.X(\"Fecha (año-mes-día)\", axis=alt.Axis(title=\"Fecha (año-mes-día)\", ticks=False, labels=False)),\n",
    "    y=alt.Y(\"Casos confirmados\", axis=alt.Axis(title=\"Normalizados\", format='%'), stack=\"normalize\"),\n",
    "    color=color,\n",
    "    tooltip = [\"Fecha (año-mes-día)\", \"Casos confirmados\", \"Porcentaje\"],\n",
    ").add_selection(\n",
    "    selection1, selection2\n",
    ").transform_filter(\n",
    "    selection1\n",
    ")\n",
    "\n",
    "alt.vconcat(\n",
    "    bars1.properties(\n",
    "        title = 'COVID-19 en Chile: Evolución de casos confirmados por sexo',\n",
    "        width=600) | legend,\n",
    "    bars2.properties(\n",
    "        height = 80,\n",
    "        width=600)\n",
    ").configure_view(\n",
    "    stroke=None\n",
    ").configure_concat(\n",
    "    spacing=1\n",
    ")"
   ]
  },
  {
   "cell_type": "code",
   "execution_count": 30,
   "metadata": {},
   "outputs": [],
   "source": [
    "#hide\n",
    "#build dataframe with all the dates since first date to last date\n",
    "cases_by_sex = pd.DataFrame()\n",
    "cases_by_sex[\"Fecha\"] = pd.date_range(start=first_date, end=last_date).strftime('%Y-%m-%d')\n",
    "cases_by_sex = cases_by_sex.set_index(\"Fecha\")"
   ]
  },
  {
   "cell_type": "code",
   "execution_count": 31,
   "metadata": {},
   "outputs": [],
   "source": [
    "#hide\n",
    "cases_by_sex[[\"Mujeres\", \"Hombres\"]] = cases_raw.groupby('Sexo').sum().T"
   ]
  },
  {
   "cell_type": "code",
   "execution_count": 32,
   "metadata": {},
   "outputs": [],
   "source": [
    "#hide\n",
    "cases_by_sex_long_form = cases_by_sex.reset_index().melt('Fecha', var_name='Sexo', value_name='Casos confirmados')"
   ]
  },
  {
   "cell_type": "code",
   "execution_count": 33,
   "metadata": {},
   "outputs": [],
   "source": [
    "#hide\n",
    "cases_by_sex_long_form = cases_by_sex_long_form.set_index(\"Fecha\")"
   ]
  },
  {
   "cell_type": "code",
   "execution_count": 34,
   "metadata": {},
   "outputs": [],
   "source": [
    "#hide\n",
    "cases_by_sex_long_form[\"Porcentaje\"] = \\\n",
    "(cases_by_sex_long_form[\"Casos confirmados\"]/cases_raw.sum().drop([\"Grupo de edad\", \"Sexo\"])).values"
   ]
  },
  {
   "cell_type": "code",
   "execution_count": 35,
   "metadata": {},
   "outputs": [
    {
     "data": {
      "text/html": [
       "<div>\n",
       "<style scoped>\n",
       "    .dataframe tbody tr th:only-of-type {\n",
       "        vertical-align: middle;\n",
       "    }\n",
       "\n",
       "    .dataframe tbody tr th {\n",
       "        vertical-align: top;\n",
       "    }\n",
       "\n",
       "    .dataframe thead th {\n",
       "        text-align: right;\n",
       "    }\n",
       "</style>\n",
       "<table border=\"1\" class=\"dataframe\">\n",
       "  <thead>\n",
       "    <tr style=\"text-align: right;\">\n",
       "      <th></th>\n",
       "      <th>Sexo</th>\n",
       "      <th>Casos confirmados</th>\n",
       "      <th>Porcentaje</th>\n",
       "    </tr>\n",
       "    <tr>\n",
       "      <th>Fecha</th>\n",
       "      <th></th>\n",
       "      <th></th>\n",
       "      <th></th>\n",
       "    </tr>\n",
       "  </thead>\n",
       "  <tbody>\n",
       "    <tr>\n",
       "      <th>2020-03-25</th>\n",
       "      <td>Mujeres</td>\n",
       "      <td>516.0</td>\n",
       "      <td>0.509881</td>\n",
       "    </tr>\n",
       "    <tr>\n",
       "      <th>2020-03-26</th>\n",
       "      <td>Mujeres</td>\n",
       "      <td>642.0</td>\n",
       "      <td>0.490119</td>\n",
       "    </tr>\n",
       "    <tr>\n",
       "      <th>2020-03-27</th>\n",
       "      <td>Mujeres</td>\n",
       "      <td>730.0</td>\n",
       "      <td>0.51278</td>\n",
       "    </tr>\n",
       "    <tr>\n",
       "      <th>2020-03-28</th>\n",
       "      <td>Mujeres</td>\n",
       "      <td>856.0</td>\n",
       "      <td>0.48722</td>\n",
       "    </tr>\n",
       "    <tr>\n",
       "      <th>2020-03-29</th>\n",
       "      <td>Mujeres</td>\n",
       "      <td>947.0</td>\n",
       "      <td>0.509066</td>\n",
       "    </tr>\n",
       "  </tbody>\n",
       "</table>\n",
       "</div>"
      ],
      "text/plain": [
       "               Sexo  Casos confirmados Porcentaje\n",
       "Fecha                                            \n",
       "2020-03-25  Mujeres              516.0   0.509881\n",
       "2020-03-26  Mujeres              642.0   0.490119\n",
       "2020-03-27  Mujeres              730.0    0.51278\n",
       "2020-03-28  Mujeres              856.0    0.48722\n",
       "2020-03-29  Mujeres              947.0   0.509066"
      ]
     },
     "execution_count": 35,
     "metadata": {},
     "output_type": "execute_result"
    }
   ],
   "source": [
    "#hide\n",
    "cases_by_sex_long_form.head()"
   ]
  },
  {
   "cell_type": "code",
   "execution_count": 36,
   "metadata": {
    "scrolled": false
   },
   "outputs": [
    {
     "data": {
      "text/html": [
       "\n",
       "<div id=\"altair-viz-137fda27a81c47a5b8b1277a3c591dc6\"></div>\n",
       "<script type=\"text/javascript\">\n",
       "  (function(spec, embedOpt){\n",
       "    let outputDiv = document.currentScript.previousElementSibling;\n",
       "    if (outputDiv.id !== \"altair-viz-137fda27a81c47a5b8b1277a3c591dc6\") {\n",
       "      outputDiv = document.getElementById(\"altair-viz-137fda27a81c47a5b8b1277a3c591dc6\");\n",
       "    }\n",
       "    const paths = {\n",
       "      \"vega\": \"https://cdn.jsdelivr.net/npm//vega@5?noext\",\n",
       "      \"vega-lib\": \"https://cdn.jsdelivr.net/npm//vega-lib?noext\",\n",
       "      \"vega-lite\": \"https://cdn.jsdelivr.net/npm//vega-lite@4.8.1?noext\",\n",
       "      \"vega-embed\": \"https://cdn.jsdelivr.net/npm//vega-embed@6?noext\",\n",
       "    };\n",
       "\n",
       "    function loadScript(lib) {\n",
       "      return new Promise(function(resolve, reject) {\n",
       "        var s = document.createElement('script');\n",
       "        s.src = paths[lib];\n",
       "        s.async = true;\n",
       "        s.onload = () => resolve(paths[lib]);\n",
       "        s.onerror = () => reject(`Error loading script: ${paths[lib]}`);\n",
       "        document.getElementsByTagName(\"head\")[0].appendChild(s);\n",
       "      });\n",
       "    }\n",
       "\n",
       "    function showError(err) {\n",
       "      outputDiv.innerHTML = `<div class=\"error\" style=\"color:red;\">${err}</div>`;\n",
       "      throw err;\n",
       "    }\n",
       "\n",
       "    function displayChart(vegaEmbed) {\n",
       "      vegaEmbed(outputDiv, spec, embedOpt)\n",
       "        .catch(err => showError(`Javascript Error: ${err.message}<br>This usually means there's a typo in your chart specification. See the javascript console for the full traceback.`));\n",
       "    }\n",
       "\n",
       "    if(typeof define === \"function\" && define.amd) {\n",
       "      requirejs.config({paths});\n",
       "      require([\"vega-embed\"], displayChart, err => showError(`Error loading script: ${err.message}`));\n",
       "    } else if (typeof vegaEmbed === \"function\") {\n",
       "      displayChart(vegaEmbed);\n",
       "    } else {\n",
       "      loadScript(\"vega\")\n",
       "        .then(() => loadScript(\"vega-lite\"))\n",
       "        .then(() => loadScript(\"vega-embed\"))\n",
       "        .catch(showError)\n",
       "        .then(() => displayChart(vegaEmbed));\n",
       "    }\n",
       "  })({\"config\": {\"view\": {\"continuousWidth\": 400, \"continuousHeight\": 300, \"stroke\": null}, \"concat\": {\"spacing\": 1}}, \"vconcat\": [{\"hconcat\": [{\"data\": {\"name\": \"data-b3e9990fbc979fd259d52bf40e70ad1f\"}, \"mark\": \"bar\", \"encoding\": {\"color\": {\"condition\": {\"type\": \"nominal\", \"field\": \"Sexo\", \"legend\": null, \"scale\": {\"scheme\": \"tableau10\"}, \"selection\": {\"or\": [\" \", \"selector003\"]}}, \"value\": \"lightgray\"}, \"tooltip\": [{\"type\": \"nominal\", \"field\": \"Fecha\"}, {\"type\": \"quantitative\", \"field\": \"Casos confirmados\"}], \"x\": {\"type\": \"nominal\", \"axis\": {\"title\": \"\"}, \"field\": \"Fecha\"}, \"y\": {\"type\": \"quantitative\", \"field\": \"Casos confirmados\"}}, \"selection\": {\" \": {\"type\": \"single\", \"fields\": [\"Sexo\"], \"bind\": {\"input\": \"select\", \"options\": [\"Mujeres\", \"Hombres\"]}}, \"selector003\": {\"type\": \"multi\", \"fields\": [\"Sexo\"], \"on\": \"mouseover\"}}, \"title\": \"COVID-19 en Chile: Evoluci\\u00f3n de casos confirmados por sexo\", \"transform\": [{\"filter\": {\"selection\": \" \"}}], \"width\": 600}, {\"data\": {\"name\": \"data-b3e9990fbc979fd259d52bf40e70ad1f\"}, \"mark\": \"point\", \"encoding\": {\"color\": {\"condition\": {\"type\": \"nominal\", \"field\": \"Sexo\", \"legend\": null, \"scale\": {\"scheme\": \"tableau10\"}, \"selection\": {\"or\": [\" \", \"selector003\"]}}, \"value\": \"lightgray\"}, \"y\": {\"type\": \"nominal\", \"axis\": {\"orient\": \"right\"}, \"field\": \"Sexo\"}}, \"selection\": {\" \": {\"type\": \"single\", \"fields\": [\"Sexo\"], \"bind\": {\"input\": \"select\", \"options\": [\"Mujeres\", \"Hombres\"]}}, \"selector003\": {\"type\": \"multi\", \"fields\": [\"Sexo\"], \"on\": \"mouseover\"}}}]}, {\"data\": {\"name\": \"data-b3e9990fbc979fd259d52bf40e70ad1f\"}, \"mark\": \"bar\", \"encoding\": {\"color\": {\"condition\": {\"type\": \"nominal\", \"field\": \"Sexo\", \"legend\": null, \"scale\": {\"scheme\": \"tableau10\"}, \"selection\": {\"or\": [\" \", \"selector003\"]}}, \"value\": \"lightgray\"}, \"tooltip\": [{\"type\": \"nominal\", \"field\": \"Fecha\"}, {\"type\": \"quantitative\", \"field\": \"Casos confirmados\"}], \"x\": {\"type\": \"nominal\", \"axis\": {\"labels\": false, \"ticks\": false, \"title\": \"Fecha\"}, \"field\": \"Fecha\"}, \"y\": {\"type\": \"quantitative\", \"axis\": {\"format\": \"%\", \"title\": \"Normalizados\"}, \"field\": \"Casos confirmados\", \"stack\": \"normalize\"}}, \"height\": 80, \"selection\": {\" \": {\"type\": \"single\", \"fields\": [\"Sexo\"], \"bind\": {\"input\": \"select\", \"options\": [\"Mujeres\", \"Hombres\"]}}, \"selector003\": {\"type\": \"multi\", \"fields\": [\"Sexo\"], \"on\": \"mouseover\"}}, \"transform\": [{\"filter\": {\"selection\": \" \"}}], \"width\": 600}], \"$schema\": \"https://vega.github.io/schema/vega-lite/v4.8.1.json\", \"datasets\": {\"data-b3e9990fbc979fd259d52bf40e70ad1f\": [{\"Fecha\": \"2020-03-25\", \"Sexo\": \"Mujeres\", \"Casos confirmados\": 516.0, \"Porcentaje\": 0.5098814229249012}, {\"Fecha\": \"2020-03-26\", \"Sexo\": \"Mujeres\", \"Casos confirmados\": 642.0, \"Porcentaje\": 0.4901185770750988}, {\"Fecha\": \"2020-03-27\", \"Sexo\": \"Mujeres\", \"Casos confirmados\": 730.0, \"Porcentaje\": 0.512779552715655}, {\"Fecha\": \"2020-03-28\", \"Sexo\": \"Mujeres\", \"Casos confirmados\": 856.0, \"Porcentaje\": 0.48722044728434505}, {\"Fecha\": \"2020-03-29\", \"Sexo\": \"Mujeres\", \"Casos confirmados\": 947.0, \"Porcentaje\": 0.5090655509065551}, {\"Fecha\": \"2020-03-30\", \"Sexo\": \"Mujeres\", \"Casos confirmados\": 1037.0, \"Porcentaje\": 0.4909344490934449}, {\"Fecha\": \"2020-03-31\", \"Sexo\": \"Mujeres\", \"Casos confirmados\": 1186.0, \"Porcentaje\": 0.4968078932095183}, {\"Fecha\": \"2020-04-01\", \"Sexo\": \"Mujeres\", \"Casos confirmados\": 1375.0, \"Porcentaje\": 0.5031921067904818}, {\"Fecha\": \"2020-04-02\", \"Sexo\": \"Mujeres\", \"Casos confirmados\": 1475.0, \"Porcentaje\": 0.4968520461699895}, {\"Fecha\": \"2020-04-03\", \"Sexo\": \"Mujeres\", \"Casos confirmados\": 1714.0, \"Porcentaje\": 0.5031479538300105}, {\"Fecha\": \"2020-04-04\", \"Sexo\": \"Mujeres\", \"Casos confirmados\": 1888.0, \"Porcentaje\": 0.4966475095785441}, {\"Fecha\": \"2020-04-05\", \"Sexo\": \"Mujeres\", \"Casos confirmados\": 2040.0, \"Porcentaje\": 0.5033524904214559}, {\"Fecha\": \"2020-04-06\", \"Sexo\": \"Mujeres\", \"Casos confirmados\": 2155.0, \"Porcentaje\": 0.4997892962494732}, {\"Fecha\": \"2020-04-07\", \"Sexo\": \"Mujeres\", \"Casos confirmados\": 2291.0, \"Porcentaje\": 0.5002107037505268}, {\"Fecha\": \"2020-04-08\", \"Sexo\": \"Mujeres\", \"Casos confirmados\": 2690.0, \"Porcentaje\": 0.5010932944606414}, {\"Fecha\": \"2020-04-09\", \"Sexo\": \"Mujeres\", \"Casos confirmados\": 2911.0, \"Porcentaje\": 0.4989067055393586}, {\"Fecha\": \"2020-04-10\", \"Sexo\": \"Mujeres\", \"Casos confirmados\": 3142.0, \"Porcentaje\": 0.5020422055820286}, {\"Fecha\": \"2020-04-11\", \"Sexo\": \"Mujeres\", \"Casos confirmados\": 3350.0, \"Porcentaje\": 0.4979577944179714}, {\"Fecha\": \"2020-04-12\", \"Sexo\": \"Mujeres\", \"Casos confirmados\": 3515.0, \"Porcentaje\": 0.5044143613890524}, {\"Fecha\": \"2020-04-13\", \"Sexo\": \"Mujeres\", \"Casos confirmados\": 3713.0, \"Porcentaje\": 0.4955856386109476}, {\"Fecha\": \"2020-04-14\", \"Sexo\": \"Mujeres\", \"Casos confirmados\": 3856.0, \"Porcentaje\": 0.4988110964332893}, {\"Fecha\": \"2020-04-15\", \"Sexo\": \"Mujeres\", \"Casos confirmados\": 4117.0, \"Porcentaje\": 0.5011889035667108}, {\"Fecha\": \"2020-04-16\", \"Sexo\": \"Mujeres\", \"Casos confirmados\": 4374.0, \"Porcentaje\": 0.4997550220480157}, {\"Fecha\": \"2020-04-17\", \"Sexo\": \"Mujeres\", \"Casos confirmados\": 4636.0, \"Porcentaje\": 0.5002449779519843}, {\"Fecha\": \"2020-04-18\", \"Sexo\": \"Mujeres\", \"Casos confirmados\": 4895.0, \"Porcentaje\": 0.4958582604693971}, {\"Fecha\": \"2020-04-19\", \"Sexo\": \"Mujeres\", \"Casos confirmados\": 5097.0, \"Porcentaje\": 0.5041417395306028}, {\"Fecha\": \"2020-04-20\", \"Sexo\": \"Mujeres\", \"Casos confirmados\": 5284.0, \"Porcentaje\": 0.49620965995235}, {\"Fecha\": \"2020-04-21\", \"Sexo\": \"Mujeres\", \"Casos confirmados\": 5483.0, \"Porcentaje\": 0.50379034004765}, {\"Fecha\": \"2020-04-22\", \"Sexo\": \"Mujeres\", \"Casos confirmados\": 5689.0, \"Porcentaje\": 0.49842505095423384}, {\"Fecha\": \"2020-04-23\", \"Sexo\": \"Mujeres\", \"Casos confirmados\": 5920.0, \"Porcentaje\": 0.5015749490457662}, {\"Fecha\": \"2020-04-24\", \"Sexo\": \"Mujeres\", \"Casos confirmados\": 6123.0, \"Porcentaje\": 0.5010327022375215}, {\"Fecha\": \"2020-04-25\", \"Sexo\": \"Mujeres\", \"Casos confirmados\": 6394.0, \"Porcentaje\": 0.4989672977624785}, {\"Fecha\": \"2020-04-26\", \"Sexo\": \"Mujeres\", \"Casos confirmados\": 6640.0, \"Porcentaje\": 0.4993642720915448}, {\"Fecha\": \"2020-04-27\", \"Sexo\": \"Mujeres\", \"Casos confirmados\": 6843.0, \"Porcentaje\": 0.5006357279084552}, {\"Fecha\": \"2020-04-28\", \"Sexo\": \"Mujeres\", \"Casos confirmados\": 7150.0, \"Porcentaje\": 0.4998507908087138}, {\"Fecha\": \"2020-04-29\", \"Sexo\": \"Mujeres\", \"Casos confirmados\": null, \"Porcentaje\": 0.5001492091912861}, {\"Fecha\": \"2020-04-30\", \"Sexo\": \"Mujeres\", \"Casos confirmados\": null, \"Porcentaje\": 0.5009977194982896}, {\"Fecha\": \"2020-05-01\", \"Sexo\": \"Mujeres\", \"Casos confirmados\": 8338.0, \"Porcentaje\": 0.49900228050171036}, {\"Fecha\": \"2020-05-02\", \"Sexo\": \"Mujeres\", \"Casos confirmados\": 8956.0, \"Porcentaje\": 0.500944414463033}, {\"Fecha\": \"2020-05-03\", \"Sexo\": \"Mujeres\", \"Casos confirmados\": null, \"Porcentaje\": 0.4990555855369671}, {\"Fecha\": \"2020-05-04\", \"Sexo\": \"Mujeres\", \"Casos confirmados\": 9914.0, \"Porcentaje\": 0.4997407983411094}, {\"Fecha\": \"2020-05-05\", \"Sexo\": \"Mujeres\", \"Casos confirmados\": null, \"Porcentaje\": 0.5002592016588906}, {\"Fecha\": \"2020-05-06\", \"Sexo\": \"Mujeres\", \"Casos confirmados\": 11009.0, \"Porcentaje\": 0.501095423563778}, {\"Fecha\": \"2020-05-07\", \"Sexo\": \"Mujeres\", \"Casos confirmados\": null, \"Porcentaje\": 0.498904576436222}, {\"Fecha\": \"2020-05-08\", \"Sexo\": \"Mujeres\", \"Casos confirmados\": 12298.0, \"Porcentaje\": 0.5004576659038902}, {\"Fecha\": \"2020-05-09\", \"Sexo\": \"Mujeres\", \"Casos confirmados\": null, \"Porcentaje\": 0.4995423340961098}, {\"Fecha\": \"2020-05-10\", \"Sexo\": \"Mujeres\", \"Casos confirmados\": null, \"Porcentaje\": 0.5010808473843493}, {\"Fecha\": \"2020-05-11\", \"Sexo\": \"Mujeres\", \"Casos confirmados\": 14098.0, \"Porcentaje\": 0.4989191526156507}, {\"Fecha\": \"2020-05-12\", \"Sexo\": \"Mujeres\", \"Casos confirmados\": null, \"Porcentaje\": 0.5030832476875642}, {\"Fecha\": \"2020-05-13\", \"Sexo\": \"Mujeres\", \"Casos confirmados\": null, \"Porcentaje\": 0.49691675231243576}, {\"Fecha\": \"2020-05-14\", \"Sexo\": \"Mujeres\", \"Casos confirmados\": null, \"Porcentaje\": 0.505253766851705}, {\"Fecha\": \"2020-05-15\", \"Sexo\": \"Mujeres\", \"Casos confirmados\": 18501.0, \"Porcentaje\": 0.494746233148295}, {\"Fecha\": \"2020-05-16\", \"Sexo\": \"Mujeres\", \"Casos confirmados\": null, \"Porcentaje\": 0.5055975504736389}, {\"Fecha\": \"2020-05-17\", \"Sexo\": \"Mujeres\", \"Casos confirmados\": null, \"Porcentaje\": 0.4944024495263611}, {\"Fecha\": \"2020-05-18\", \"Sexo\": \"Mujeres\", \"Casos confirmados\": 21525.0, \"Porcentaje\": 0.506185376661743}, {\"Fecha\": \"2020-05-19\", \"Sexo\": \"Mujeres\", \"Casos confirmados\": null, \"Porcentaje\": 0.49381462333825704}, {\"Fecha\": \"2020-05-20\", \"Sexo\": \"Mujeres\", \"Casos confirmados\": null, \"Porcentaje\": 0.5036296033994334}, {\"Fecha\": \"2020-05-21\", \"Sexo\": \"Mujeres\", \"Casos confirmados\": null, \"Porcentaje\": 0.4963703966005666}, {\"Fecha\": \"2020-05-22\", \"Sexo\": \"Mujeres\", \"Casos confirmados\": 29030.0, \"Porcentaje\": 0.5011852353538774}, {\"Fecha\": \"2020-05-23\", \"Sexo\": \"Mujeres\", \"Casos confirmados\": null, \"Porcentaje\": 0.49881476464612257}, {\"Fecha\": \"2020-05-24\", \"Sexo\": \"Mujeres\", \"Casos confirmados\": null, \"Porcentaje\": 0.5013099721630916}, {\"Fecha\": \"2020-05-25\", \"Sexo\": \"Mujeres\", \"Casos confirmados\": 34719.0, \"Porcentaje\": 0.49869002783690847}, {\"Fecha\": \"2020-05-26\", \"Sexo\": \"Mujeres\", \"Casos confirmados\": null, \"Porcentaje\": 0.5001173249902229}, {\"Fecha\": \"2020-05-27\", \"Sexo\": \"Mujeres\", \"Casos confirmados\": null, \"Porcentaje\": 0.49988267500977707}, {\"Fecha\": \"2020-05-28\", \"Sexo\": \"Mujeres\", \"Casos confirmados\": null, \"Porcentaje\": 0.49984944293887384}, {\"Fecha\": \"2020-05-29\", \"Sexo\": \"Mujeres\", \"Casos confirmados\": 42589.0, \"Porcentaje\": 0.5001505570611262}, {\"Fecha\": \"2020-05-30\", \"Sexo\": \"Mujeres\", \"Casos confirmados\": null, \"Porcentaje\": 0.49934325744308233}, {\"Fecha\": \"2020-05-31\", \"Sexo\": \"Mujeres\", \"Casos confirmados\": null, \"Porcentaje\": 0.5006567425569177}, {\"Fecha\": \"2020-06-01\", \"Sexo\": \"Mujeres\", \"Casos confirmados\": 49656.0, \"Porcentaje\": 0.4978415262498259}, {\"Fecha\": \"2020-06-02\", \"Sexo\": \"Mujeres\", \"Casos confirmados\": null, \"Porcentaje\": 0.5021584737501741}, {\"Fecha\": \"2020-06-03\", \"Sexo\": \"Mujeres\", \"Casos confirmados\": null, \"Porcentaje\": null}, {\"Fecha\": \"2020-06-04\", \"Sexo\": \"Mujeres\", \"Casos confirmados\": null, \"Porcentaje\": null}, {\"Fecha\": \"2020-06-05\", \"Sexo\": \"Mujeres\", \"Casos confirmados\": 57919.0, \"Porcentaje\": null}, {\"Fecha\": \"2020-06-06\", \"Sexo\": \"Mujeres\", \"Casos confirmados\": null, \"Porcentaje\": null}, {\"Fecha\": \"2020-06-07\", \"Sexo\": \"Mujeres\", \"Casos confirmados\": null, \"Porcentaje\": 0.4902398871119473}, {\"Fecha\": \"2020-06-08\", \"Sexo\": \"Mujeres\", \"Casos confirmados\": 65602.0, \"Porcentaje\": 0.5097601128880527}, {\"Fecha\": \"2020-06-09\", \"Sexo\": \"Mujeres\", \"Casos confirmados\": null, \"Porcentaje\": 0.4858677372104378}, {\"Fecha\": \"2020-06-10\", \"Sexo\": \"Mujeres\", \"Casos confirmados\": null, \"Porcentaje\": 0.5141322627895621}, {\"Fecha\": \"2020-06-11\", \"Sexo\": \"Mujeres\", \"Casos confirmados\": null, \"Porcentaje\": null}, {\"Fecha\": \"2020-06-12\", \"Sexo\": \"Mujeres\", \"Casos confirmados\": 76292.0, \"Porcentaje\": null}, {\"Fecha\": \"2020-06-13\", \"Sexo\": \"Mujeres\", \"Casos confirmados\": null, \"Porcentaje\": 0.482034326834249}, {\"Fecha\": \"2020-06-14\", \"Sexo\": \"Mujeres\", \"Casos confirmados\": null, \"Porcentaje\": 0.5179656731657509}, {\"Fecha\": \"2020-06-15\", \"Sexo\": \"Mujeres\", \"Casos confirmados\": 85229.0, \"Porcentaje\": null}, {\"Fecha\": \"2020-06-16\", \"Sexo\": \"Mujeres\", \"Casos confirmados\": null, \"Porcentaje\": null}, {\"Fecha\": \"2020-06-17\", \"Sexo\": \"Mujeres\", \"Casos confirmados\": null, \"Porcentaje\": 0.4784233627395593}, {\"Fecha\": \"2020-06-18\", \"Sexo\": \"Mujeres\", \"Casos confirmados\": null, \"Porcentaje\": 0.5215766372604407}, {\"Fecha\": \"2020-06-19\", \"Sexo\": \"Mujeres\", \"Casos confirmados\": 111462.0, \"Porcentaje\": null}, {\"Fecha\": \"2020-06-20\", \"Sexo\": \"Mujeres\", \"Casos confirmados\": null, \"Porcentaje\": null}, {\"Fecha\": \"2020-06-21\", \"Sexo\": \"Mujeres\", \"Casos confirmados\": null, \"Porcentaje\": 0.4738748458692972}, {\"Fecha\": \"2020-06-22\", \"Sexo\": \"Mujeres\", \"Casos confirmados\": null, \"Porcentaje\": 0.5261251541307028}, {\"Fecha\": \"2020-06-23\", \"Sexo\": \"Mujeres\", \"Casos confirmados\": 123044.0, \"Porcentaje\": null}, {\"Fecha\": \"2020-06-24\", \"Sexo\": \"Mujeres\", \"Casos confirmados\": null, \"Porcentaje\": null}, {\"Fecha\": \"2020-06-25\", \"Sexo\": \"Mujeres\", \"Casos confirmados\": null, \"Porcentaje\": null}, {\"Fecha\": \"2020-06-26\", \"Sexo\": \"Mujeres\", \"Casos confirmados\": null, \"Porcentaje\": null}, {\"Fecha\": \"2020-06-27\", \"Sexo\": \"Mujeres\", \"Casos confirmados\": null, \"Porcentaje\": 0.46919825606549737}, {\"Fecha\": \"2020-06-28\", \"Sexo\": \"Mujeres\", \"Casos confirmados\": 135564.0, \"Porcentaje\": 0.5308017439345026}, {\"Fecha\": \"2020-06-29\", \"Sexo\": \"Mujeres\", \"Casos confirmados\": null, \"Porcentaje\": null}, {\"Fecha\": \"2020-06-30\", \"Sexo\": \"Mujeres\", \"Casos confirmados\": null, \"Porcentaje\": null}, {\"Fecha\": \"2020-07-01\", \"Sexo\": \"Mujeres\", \"Casos confirmados\": 140852.0, \"Porcentaje\": null}, {\"Fecha\": \"2020-07-02\", \"Sexo\": \"Mujeres\", \"Casos confirmados\": null, \"Porcentaje\": null}, {\"Fecha\": \"2020-07-03\", \"Sexo\": \"Mujeres\", \"Casos confirmados\": null, \"Porcentaje\": null}, {\"Fecha\": \"2020-07-04\", \"Sexo\": \"Mujeres\", \"Casos confirmados\": null, \"Porcentaje\": null}, {\"Fecha\": \"2020-07-05\", \"Sexo\": \"Mujeres\", \"Casos confirmados\": 149238.0, \"Porcentaje\": 0.4682493482827567}, {\"Fecha\": \"2020-07-06\", \"Sexo\": \"Mujeres\", \"Casos confirmados\": null, \"Porcentaje\": 0.5317506517172433}, {\"Fecha\": \"2020-07-07\", \"Sexo\": \"Mujeres\", \"Casos confirmados\": null, \"Porcentaje\": null}, {\"Fecha\": \"2020-07-08\", \"Sexo\": \"Mujeres\", \"Casos confirmados\": null, \"Porcentaje\": null}, {\"Fecha\": \"2020-07-09\", \"Sexo\": \"Mujeres\", \"Casos confirmados\": null, \"Porcentaje\": null}, {\"Fecha\": \"2020-07-10\", \"Sexo\": \"Mujeres\", \"Casos confirmados\": 157594.0, \"Porcentaje\": null}, {\"Fecha\": \"2020-07-11\", \"Sexo\": \"Mujeres\", \"Casos confirmados\": null, \"Porcentaje\": 0.4674470118137595}, {\"Fecha\": \"2020-07-12\", \"Sexo\": \"Mujeres\", \"Casos confirmados\": null, \"Porcentaje\": 0.5325529881862404}, {\"Fecha\": \"2020-07-13\", \"Sexo\": \"Mujeres\", \"Casos confirmados\": 162639.0, \"Porcentaje\": null}, {\"Fecha\": \"2020-07-14\", \"Sexo\": \"Mujeres\", \"Casos confirmados\": null, \"Porcentaje\": null}, {\"Fecha\": \"2020-07-15\", \"Sexo\": \"Mujeres\", \"Casos confirmados\": null, \"Porcentaje\": null}, {\"Fecha\": \"2020-07-16\", \"Sexo\": \"Mujeres\", \"Casos confirmados\": null, \"Porcentaje\": null}, {\"Fecha\": \"2020-07-17\", \"Sexo\": \"Mujeres\", \"Casos confirmados\": 167697.0, \"Porcentaje\": null}, {\"Fecha\": \"2020-07-18\", \"Sexo\": \"Mujeres\", \"Casos confirmados\": null, \"Porcentaje\": null}, {\"Fecha\": \"2020-07-19\", \"Sexo\": \"Mujeres\", \"Casos confirmados\": null, \"Porcentaje\": 0.4693765360238003}, {\"Fecha\": \"2020-07-20\", \"Sexo\": \"Mujeres\", \"Casos confirmados\": null, \"Porcentaje\": 0.5306234639761997}, {\"Fecha\": \"2020-07-21\", \"Sexo\": \"Mujeres\", \"Casos confirmados\": null, \"Porcentaje\": null}, {\"Fecha\": \"2020-07-22\", \"Sexo\": \"Mujeres\", \"Casos confirmados\": null, \"Porcentaje\": null}, {\"Fecha\": \"2020-07-23\", \"Sexo\": \"Mujeres\", \"Casos confirmados\": null, \"Porcentaje\": null}, {\"Fecha\": \"2020-07-24\", \"Sexo\": \"Mujeres\", \"Casos confirmados\": 175270.0, \"Porcentaje\": null}, {\"Fecha\": \"2020-07-25\", \"Sexo\": \"Mujeres\", \"Casos confirmados\": null, \"Porcentaje\": 0.46920737887695113}, {\"Fecha\": \"2020-07-26\", \"Sexo\": \"Mujeres\", \"Casos confirmados\": null, \"Porcentaje\": 0.5307926211230488}, {\"Fecha\": \"2020-07-27\", \"Sexo\": \"Mujeres\", \"Casos confirmados\": 178459.0, \"Porcentaje\": null}, {\"Fecha\": \"2020-07-28\", \"Sexo\": \"Mujeres\", \"Casos confirmados\": null, \"Porcentaje\": null}, {\"Fecha\": \"2020-07-29\", \"Sexo\": \"Mujeres\", \"Casos confirmados\": null, \"Porcentaje\": null}, {\"Fecha\": \"2020-07-30\", \"Sexo\": \"Mujeres\", \"Casos confirmados\": null, \"Porcentaje\": null}, {\"Fecha\": \"2020-07-31\", \"Sexo\": \"Mujeres\", \"Casos confirmados\": 182230.0, \"Porcentaje\": null}, {\"Fecha\": \"2020-08-01\", \"Sexo\": \"Mujeres\", \"Casos confirmados\": null, \"Porcentaje\": null}, {\"Fecha\": \"2020-08-02\", \"Sexo\": \"Mujeres\", \"Casos confirmados\": null, \"Porcentaje\": 0.4699009201844782}, {\"Fecha\": \"2020-08-03\", \"Sexo\": \"Mujeres\", \"Casos confirmados\": 185142.0, \"Porcentaje\": 0.5300990798155217}, {\"Fecha\": \"2020-08-04\", \"Sexo\": \"Mujeres\", \"Casos confirmados\": null, \"Porcentaje\": null}, {\"Fecha\": \"2020-08-05\", \"Sexo\": \"Mujeres\", \"Casos confirmados\": null, \"Porcentaje\": null}, {\"Fecha\": \"2020-08-06\", \"Sexo\": \"Mujeres\", \"Casos confirmados\": null, \"Porcentaje\": null}, {\"Fecha\": \"2020-08-07\", \"Sexo\": \"Mujeres\", \"Casos confirmados\": 190104.0, \"Porcentaje\": null}, {\"Fecha\": \"2020-08-08\", \"Sexo\": \"Mujeres\", \"Casos confirmados\": null, \"Porcentaje\": 0.4722082219918788}, {\"Fecha\": \"2020-08-09\", \"Sexo\": \"Mujeres\", \"Casos confirmados\": null, \"Porcentaje\": 0.5277917780081212}, {\"Fecha\": \"2020-08-10\", \"Sexo\": \"Mujeres\", \"Casos confirmados\": 193996.0, \"Porcentaje\": null}, {\"Fecha\": \"2020-08-11\", \"Sexo\": \"Mujeres\", \"Casos confirmados\": null, \"Porcentaje\": null}, {\"Fecha\": \"2020-08-12\", \"Sexo\": \"Mujeres\", \"Casos confirmados\": null, \"Porcentaje\": null}, {\"Fecha\": \"2020-08-13\", \"Sexo\": \"Mujeres\", \"Casos confirmados\": null, \"Porcentaje\": null}, {\"Fecha\": \"2020-08-14\", \"Sexo\": \"Mujeres\", \"Casos confirmados\": 198754.0, \"Porcentaje\": null}, {\"Fecha\": \"2020-08-15\", \"Sexo\": \"Mujeres\", \"Casos confirmados\": null, \"Porcentaje\": null}, {\"Fecha\": \"2020-08-16\", \"Sexo\": \"Mujeres\", \"Casos confirmados\": null, \"Porcentaje\": 0.47282746234540185}, {\"Fecha\": \"2020-08-17\", \"Sexo\": \"Mujeres\", \"Casos confirmados\": 201915.0, \"Porcentaje\": 0.5271725376545982}, {\"Fecha\": \"2020-08-18\", \"Sexo\": \"Mujeres\", \"Casos confirmados\": null, \"Porcentaje\": null}, {\"Fecha\": \"2020-08-19\", \"Sexo\": \"Mujeres\", \"Casos confirmados\": null, \"Porcentaje\": null}, {\"Fecha\": \"2020-08-20\", \"Sexo\": \"Mujeres\", \"Casos confirmados\": null, \"Porcentaje\": null}, {\"Fecha\": \"2020-08-21\", \"Sexo\": \"Mujeres\", \"Casos confirmados\": 205923.0, \"Porcentaje\": null}, {\"Fecha\": \"2020-08-22\", \"Sexo\": \"Mujeres\", \"Casos confirmados\": null, \"Porcentaje\": 0.47249391394534795}, {\"Fecha\": \"2020-08-23\", \"Sexo\": \"Mujeres\", \"Casos confirmados\": null, \"Porcentaje\": 0.5275060860546521}, {\"Fecha\": \"2020-08-24\", \"Sexo\": \"Mujeres\", \"Casos confirmados\": 209497.0, \"Porcentaje\": null}, {\"Fecha\": \"2020-08-25\", \"Sexo\": \"Mujeres\", \"Casos confirmados\": null, \"Porcentaje\": null}, {\"Fecha\": \"2020-08-26\", \"Sexo\": \"Mujeres\", \"Casos confirmados\": null, \"Porcentaje\": null}, {\"Fecha\": \"2020-08-27\", \"Sexo\": \"Mujeres\", \"Casos confirmados\": null, \"Porcentaje\": null}, {\"Fecha\": \"2020-08-28\", \"Sexo\": \"Mujeres\", \"Casos confirmados\": 213888.0, \"Porcentaje\": null}, {\"Fecha\": \"2020-08-29\", \"Sexo\": \"Mujeres\", \"Casos confirmados\": null, \"Porcentaje\": null}, {\"Fecha\": \"2020-08-30\", \"Sexo\": \"Mujeres\", \"Casos confirmados\": null, \"Porcentaje\": 0.47433474260134295}, {\"Fecha\": \"2020-08-31\", \"Sexo\": \"Mujeres\", \"Casos confirmados\": 217279.0, \"Porcentaje\": 0.5256652573986571}, {\"Fecha\": \"2020-09-01\", \"Sexo\": \"Mujeres\", \"Casos confirmados\": null, \"Porcentaje\": null}, {\"Fecha\": \"2020-09-02\", \"Sexo\": \"Mujeres\", \"Casos confirmados\": null, \"Porcentaje\": null}, {\"Fecha\": \"2020-09-03\", \"Sexo\": \"Mujeres\", \"Casos confirmados\": null, \"Porcentaje\": null}, {\"Fecha\": \"2020-09-04\", \"Sexo\": \"Mujeres\", \"Casos confirmados\": 221698.0, \"Porcentaje\": null}, {\"Fecha\": \"2020-09-05\", \"Sexo\": \"Mujeres\", \"Casos confirmados\": null, \"Porcentaje\": 0.47499860669899124}, {\"Fecha\": \"2020-09-06\", \"Sexo\": \"Mujeres\", \"Casos confirmados\": null, \"Porcentaje\": 0.5250013933010087}, {\"Fecha\": \"2020-09-07\", \"Sexo\": \"Mujeres\", \"Casos confirmados\": 225283.0, \"Porcentaje\": null}, {\"Fecha\": \"2020-09-08\", \"Sexo\": \"Mujeres\", \"Casos confirmados\": null, \"Porcentaje\": null}, {\"Fecha\": \"2020-09-09\", \"Sexo\": \"Mujeres\", \"Casos confirmados\": null, \"Porcentaje\": null}, {\"Fecha\": \"2020-09-10\", \"Sexo\": \"Mujeres\", \"Casos confirmados\": null, \"Porcentaje\": null}, {\"Fecha\": \"2020-09-11\", \"Sexo\": \"Mujeres\", \"Casos confirmados\": 229397.0, \"Porcentaje\": null}, {\"Fecha\": \"2020-09-12\", \"Sexo\": \"Mujeres\", \"Casos confirmados\": null, \"Porcentaje\": null}, {\"Fecha\": \"2020-09-13\", \"Sexo\": \"Mujeres\", \"Casos confirmados\": null, \"Porcentaje\": 0.48178533144299596}, {\"Fecha\": \"2020-09-14\", \"Sexo\": \"Mujeres\", \"Casos confirmados\": 232761.0, \"Porcentaje\": 0.518214668557004}, {\"Fecha\": \"2020-09-15\", \"Sexo\": \"Mujeres\", \"Casos confirmados\": null, \"Porcentaje\": null}, {\"Fecha\": \"2020-09-16\", \"Sexo\": \"Mujeres\", \"Casos confirmados\": null, \"Porcentaje\": null}, {\"Fecha\": \"2020-09-17\", \"Sexo\": \"Mujeres\", \"Casos confirmados\": null, \"Porcentaje\": null}, {\"Fecha\": \"2020-09-18\", \"Sexo\": \"Mujeres\", \"Casos confirmados\": 236674.0, \"Porcentaje\": null}, {\"Fecha\": \"2020-09-19\", \"Sexo\": \"Mujeres\", \"Casos confirmados\": null, \"Porcentaje\": null}, {\"Fecha\": \"2020-09-20\", \"Sexo\": \"Mujeres\", \"Casos confirmados\": null, \"Porcentaje\": null}, {\"Fecha\": \"2020-09-21\", \"Sexo\": \"Mujeres\", \"Casos confirmados\": 239265.0, \"Porcentaje\": 0.48184335117735283}, {\"Fecha\": \"2020-09-22\", \"Sexo\": \"Mujeres\", \"Casos confirmados\": null, \"Porcentaje\": 0.5181566488226471}, {\"Fecha\": \"2020-09-23\", \"Sexo\": \"Mujeres\", \"Casos confirmados\": null, \"Porcentaje\": null}, {\"Fecha\": \"2020-09-24\", \"Sexo\": \"Mujeres\", \"Casos confirmados\": null, \"Porcentaje\": null}, {\"Fecha\": \"2020-09-25\", \"Sexo\": \"Mujeres\", \"Casos confirmados\": 243496.0, \"Porcentaje\": null}, {\"Fecha\": \"2020-09-26\", \"Sexo\": \"Mujeres\", \"Casos confirmados\": null, \"Porcentaje\": null}, {\"Fecha\": \"2020-09-27\", \"Sexo\": \"Mujeres\", \"Casos confirmados\": null, \"Porcentaje\": null}, {\"Fecha\": \"2020-09-28\", \"Sexo\": \"Mujeres\", \"Casos confirmados\": 247066.0, \"Porcentaje\": null}, {\"Fecha\": \"2020-09-29\", \"Sexo\": \"Mujeres\", \"Casos confirmados\": null, \"Porcentaje\": null}, {\"Fecha\": \"2020-09-30\", \"Sexo\": \"Mujeres\", \"Casos confirmados\": null, \"Porcentaje\": null}, {\"Fecha\": \"2020-10-01\", \"Sexo\": \"Mujeres\", \"Casos confirmados\": null, \"Porcentaje\": 0.48164912704559826}, {\"Fecha\": \"2020-10-02\", \"Sexo\": \"Mujeres\", \"Casos confirmados\": 251346.0, \"Porcentaje\": 0.5183508729544017}, {\"Fecha\": \"2020-10-03\", \"Sexo\": \"Mujeres\", \"Casos confirmados\": null, \"Porcentaje\": null}, {\"Fecha\": \"2020-10-04\", \"Sexo\": \"Mujeres\", \"Casos confirmados\": null, \"Porcentaje\": null}, {\"Fecha\": \"2020-10-05\", \"Sexo\": \"Mujeres\", \"Casos confirmados\": 251346.0, \"Porcentaje\": null}, {\"Fecha\": \"2020-10-06\", \"Sexo\": \"Mujeres\", \"Casos confirmados\": null, \"Porcentaje\": null}, {\"Fecha\": \"2020-10-07\", \"Sexo\": \"Mujeres\", \"Casos confirmados\": null, \"Porcentaje\": 0.48205949594096953}, {\"Fecha\": \"2020-10-08\", \"Sexo\": \"Mujeres\", \"Casos confirmados\": null, \"Porcentaje\": 0.5179405040590305}, {\"Fecha\": \"2020-10-09\", \"Sexo\": \"Mujeres\", \"Casos confirmados\": 257867.0, \"Porcentaje\": null}, {\"Fecha\": \"2020-10-10\", \"Sexo\": \"Mujeres\", \"Casos confirmados\": null, \"Porcentaje\": null}, {\"Fecha\": \"2020-10-11\", \"Sexo\": \"Mujeres\", \"Casos confirmados\": null, \"Porcentaje\": null}, {\"Fecha\": \"2020-10-12\", \"Sexo\": \"Mujeres\", \"Casos confirmados\": 260823.0, \"Porcentaje\": null}, {\"Fecha\": \"2020-10-13\", \"Sexo\": \"Mujeres\", \"Casos confirmados\": null, \"Porcentaje\": null}, {\"Fecha\": \"2020-10-14\", \"Sexo\": \"Mujeres\", \"Casos confirmados\": null, \"Porcentaje\": null}, {\"Fecha\": \"2020-10-15\", \"Sexo\": \"Mujeres\", \"Casos confirmados\": null, \"Porcentaje\": 0.48241508165349956}, {\"Fecha\": \"2020-10-16\", \"Sexo\": \"Mujeres\", \"Casos confirmados\": 263995.0, \"Porcentaje\": 0.5175849183465004}, {\"Fecha\": \"2020-10-17\", \"Sexo\": \"Mujeres\", \"Casos confirmados\": null, \"Porcentaje\": null}, {\"Fecha\": \"2020-10-18\", \"Sexo\": \"Mujeres\", \"Casos confirmados\": null, \"Porcentaje\": null}, {\"Fecha\": \"2020-10-19\", \"Sexo\": \"Mujeres\", \"Casos confirmados\": 266970.0, \"Porcentaje\": null}, {\"Fecha\": \"2020-10-20\", \"Sexo\": \"Mujeres\", \"Casos confirmados\": null, \"Porcentaje\": null}, {\"Fecha\": \"2020-10-21\", \"Sexo\": \"Mujeres\", \"Casos confirmados\": null, \"Porcentaje\": null}, {\"Fecha\": \"2020-10-22\", \"Sexo\": \"Mujeres\", \"Casos confirmados\": null, \"Porcentaje\": null}, {\"Fecha\": \"2020-10-23\", \"Sexo\": \"Mujeres\", \"Casos confirmados\": null, \"Porcentaje\": null}, {\"Fecha\": \"2020-10-24\", \"Sexo\": \"Mujeres\", \"Casos confirmados\": 271511.0, \"Porcentaje\": null}, {\"Fecha\": \"2020-10-25\", \"Sexo\": \"Mujeres\", \"Casos confirmados\": null, \"Porcentaje\": 0.4833104345052626}, {\"Fecha\": \"2020-10-26\", \"Sexo\": \"Mujeres\", \"Casos confirmados\": 273283.0, \"Porcentaje\": 0.5166895654947373}, {\"Fecha\": \"2020-10-27\", \"Sexo\": \"Mujeres\", \"Casos confirmados\": null, \"Porcentaje\": null}, {\"Fecha\": \"2020-10-28\", \"Sexo\": \"Mujeres\", \"Casos confirmados\": null, \"Porcentaje\": null}, {\"Fecha\": \"2020-10-29\", \"Sexo\": \"Mujeres\", \"Casos confirmados\": null, \"Porcentaje\": null}, {\"Fecha\": \"2020-10-30\", \"Sexo\": \"Mujeres\", \"Casos confirmados\": 276394.0, \"Porcentaje\": null}, {\"Fecha\": \"2020-10-31\", \"Sexo\": \"Mujeres\", \"Casos confirmados\": null, \"Porcentaje\": 0.4836790045620275}, {\"Fecha\": \"2020-11-01\", \"Sexo\": \"Mujeres\", \"Casos confirmados\": null, \"Porcentaje\": 0.5163209954379725}, {\"Fecha\": \"2020-11-02\", \"Sexo\": \"Mujeres\", \"Casos confirmados\": 279230.0, \"Porcentaje\": null}, {\"Fecha\": \"2020-11-03\", \"Sexo\": \"Mujeres\", \"Casos confirmados\": null, \"Porcentaje\": null}, {\"Fecha\": \"2020-11-04\", \"Sexo\": \"Mujeres\", \"Casos confirmados\": null, \"Porcentaje\": null}, {\"Fecha\": \"2020-11-05\", \"Sexo\": \"Mujeres\", \"Casos confirmados\": null, \"Porcentaje\": null}, {\"Fecha\": \"2020-11-06\", \"Sexo\": \"Mujeres\", \"Casos confirmados\": 282297.0, \"Porcentaje\": null}, {\"Fecha\": \"2020-11-07\", \"Sexo\": \"Mujeres\", \"Casos confirmados\": null, \"Porcentaje\": null}, {\"Fecha\": \"2020-11-08\", \"Sexo\": \"Mujeres\", \"Casos confirmados\": null, \"Porcentaje\": 0.4839935812702389}, {\"Fecha\": \"2020-11-09\", \"Sexo\": \"Mujeres\", \"Casos confirmados\": 284951.0, \"Porcentaje\": 0.516006418729761}, {\"Fecha\": \"2020-11-10\", \"Sexo\": \"Mujeres\", \"Casos confirmados\": null, \"Porcentaje\": null}, {\"Fecha\": \"2020-11-11\", \"Sexo\": \"Mujeres\", \"Casos confirmados\": null, \"Porcentaje\": null}, {\"Fecha\": \"2020-11-12\", \"Sexo\": \"Mujeres\", \"Casos confirmados\": null, \"Porcentaje\": null}, {\"Fecha\": \"2020-11-13\", \"Sexo\": \"Mujeres\", \"Casos confirmados\": 288126.0, \"Porcentaje\": null}, {\"Fecha\": \"2020-11-14\", \"Sexo\": \"Mujeres\", \"Casos confirmados\": null, \"Porcentaje\": null}, {\"Fecha\": \"2020-11-15\", \"Sexo\": \"Mujeres\", \"Casos confirmados\": null, \"Porcentaje\": null}, {\"Fecha\": \"2020-11-16\", \"Sexo\": \"Mujeres\", \"Casos confirmados\": 290806.0, \"Porcentaje\": null}, {\"Fecha\": \"2020-11-17\", \"Sexo\": \"Mujeres\", \"Casos confirmados\": null, \"Porcentaje\": null}, {\"Fecha\": \"2020-11-18\", \"Sexo\": \"Mujeres\", \"Casos confirmados\": null, \"Porcentaje\": null}, {\"Fecha\": \"2020-11-19\", \"Sexo\": \"Mujeres\", \"Casos confirmados\": null, \"Porcentaje\": null}, {\"Fecha\": \"2020-11-20\", \"Sexo\": \"Mujeres\", \"Casos confirmados\": 294007.0, \"Porcentaje\": null}, {\"Fecha\": \"2020-11-21\", \"Sexo\": \"Mujeres\", \"Casos confirmados\": null, \"Porcentaje\": null}, {\"Fecha\": \"2020-11-22\", \"Sexo\": \"Mujeres\", \"Casos confirmados\": null, \"Porcentaje\": 0.4843826863658724}, {\"Fecha\": \"2020-11-23\", \"Sexo\": \"Mujeres\", \"Casos confirmados\": 296652.0, \"Porcentaje\": 0.5156173136341275}, {\"Fecha\": \"2020-11-24\", \"Sexo\": \"Mujeres\", \"Casos confirmados\": null, \"Porcentaje\": null}, {\"Fecha\": \"2020-11-25\", \"Sexo\": \"Mujeres\", \"Casos confirmados\": null, \"Porcentaje\": null}, {\"Fecha\": \"2020-11-26\", \"Sexo\": \"Mujeres\", \"Casos confirmados\": null, \"Porcentaje\": null}, {\"Fecha\": \"2020-11-27\", \"Sexo\": \"Mujeres\", \"Casos confirmados\": 299920.0, \"Porcentaje\": null}, {\"Fecha\": \"2020-11-28\", \"Sexo\": \"Mujeres\", \"Casos confirmados\": null, \"Porcentaje\": 0.4843690627408831}, {\"Fecha\": \"2020-11-29\", \"Sexo\": \"Mujeres\", \"Casos confirmados\": null, \"Porcentaje\": 0.5156309372591169}, {\"Fecha\": \"2020-11-30\", \"Sexo\": \"Mujeres\", \"Casos confirmados\": 302950.0, \"Porcentaje\": null}, {\"Fecha\": \"2020-12-01\", \"Sexo\": \"Mujeres\", \"Casos confirmados\": null, \"Porcentaje\": null}, {\"Fecha\": \"2020-12-02\", \"Sexo\": \"Mujeres\", \"Casos confirmados\": null, \"Porcentaje\": null}, {\"Fecha\": \"2020-12-03\", \"Sexo\": \"Mujeres\", \"Casos confirmados\": null, \"Porcentaje\": null}, {\"Fecha\": \"2020-12-04\", \"Sexo\": \"Mujeres\", \"Casos confirmados\": 306251.0, \"Porcentaje\": null}, {\"Fecha\": \"2020-12-05\", \"Sexo\": \"Mujeres\", \"Casos confirmados\": null, \"Porcentaje\": null}, {\"Fecha\": \"2020-12-06\", \"Sexo\": \"Mujeres\", \"Casos confirmados\": null, \"Porcentaje\": 0.48437599676781423}, {\"Fecha\": \"2020-12-07\", \"Sexo\": \"Mujeres\", \"Casos confirmados\": 309083.0, \"Porcentaje\": 0.5156240032321857}, {\"Fecha\": \"2020-12-08\", \"Sexo\": \"Mujeres\", \"Casos confirmados\": null, \"Porcentaje\": null}, {\"Fecha\": \"2020-12-09\", \"Sexo\": \"Mujeres\", \"Casos confirmados\": null, \"Porcentaje\": null}, {\"Fecha\": \"2020-12-10\", \"Sexo\": \"Mujeres\", \"Casos confirmados\": null, \"Porcentaje\": null}, {\"Fecha\": \"2020-12-11\", \"Sexo\": \"Mujeres\", \"Casos confirmados\": 312676.0, \"Porcentaje\": null}, {\"Fecha\": \"2020-12-12\", \"Sexo\": \"Mujeres\", \"Casos confirmados\": null, \"Porcentaje\": 0.4845190583986496}, {\"Fecha\": \"2020-12-13\", \"Sexo\": \"Mujeres\", \"Casos confirmados\": null, \"Porcentaje\": 0.5154809416013504}, {\"Fecha\": \"2020-12-14\", \"Sexo\": \"Mujeres\", \"Casos confirmados\": 316280.0, \"Porcentaje\": null}, {\"Fecha\": \"2020-12-15\", \"Sexo\": \"Mujeres\", \"Casos confirmados\": null, \"Porcentaje\": null}, {\"Fecha\": \"2020-12-16\", \"Sexo\": \"Mujeres\", \"Casos confirmados\": null, \"Porcentaje\": null}, {\"Fecha\": \"2020-12-17\", \"Sexo\": \"Mujeres\", \"Casos confirmados\": null, \"Porcentaje\": null}, {\"Fecha\": \"2020-12-18\", \"Sexo\": \"Mujeres\", \"Casos confirmados\": 320873.0, \"Porcentaje\": null}, {\"Fecha\": \"2020-12-19\", \"Sexo\": \"Mujeres\", \"Casos confirmados\": null, \"Porcentaje\": null}, {\"Fecha\": \"2020-12-20\", \"Sexo\": \"Mujeres\", \"Casos confirmados\": null, \"Porcentaje\": 0.4849542351608657}, {\"Fecha\": \"2020-12-21\", \"Sexo\": \"Mujeres\", \"Casos confirmados\": 324538.0, \"Porcentaje\": 0.5150457648391343}, {\"Fecha\": \"2020-12-22\", \"Sexo\": \"Mujeres\", \"Casos confirmados\": null, \"Porcentaje\": null}, {\"Fecha\": \"2020-12-23\", \"Sexo\": \"Mujeres\", \"Casos confirmados\": null, \"Porcentaje\": null}, {\"Fecha\": \"2020-12-24\", \"Sexo\": \"Mujeres\", \"Casos confirmados\": null, \"Porcentaje\": null}, {\"Fecha\": \"2020-12-25\", \"Sexo\": \"Mujeres\", \"Casos confirmados\": 329396.0, \"Porcentaje\": null}, {\"Fecha\": \"2020-12-26\", \"Sexo\": \"Mujeres\", \"Casos confirmados\": null, \"Porcentaje\": 0.48519378138818303}, {\"Fecha\": \"2020-12-27\", \"Sexo\": \"Mujeres\", \"Casos confirmados\": null, \"Porcentaje\": 0.514806218611817}, {\"Fecha\": \"2020-12-28\", \"Sexo\": \"Mujeres\", \"Casos confirmados\": 332705.0, \"Porcentaje\": null}, {\"Fecha\": \"2020-12-29\", \"Sexo\": \"Mujeres\", \"Casos confirmados\": null, \"Porcentaje\": null}, {\"Fecha\": \"2020-12-30\", \"Sexo\": \"Mujeres\", \"Casos confirmados\": null, \"Porcentaje\": null}, {\"Fecha\": \"2020-12-31\", \"Sexo\": \"Mujeres\", \"Casos confirmados\": null, \"Porcentaje\": null}, {\"Fecha\": \"2021-01-01\", \"Sexo\": \"Mujeres\", \"Casos confirmados\": 339235.0, \"Porcentaje\": null}, {\"Fecha\": \"2021-01-02\", \"Sexo\": \"Mujeres\", \"Casos confirmados\": null, \"Porcentaje\": null}, {\"Fecha\": \"2021-01-03\", \"Sexo\": \"Mujeres\", \"Casos confirmados\": null, \"Porcentaje\": 0.4859178344758794}, {\"Fecha\": \"2021-01-04\", \"Sexo\": \"Mujeres\", \"Casos confirmados\": 343846.0, \"Porcentaje\": 0.5140821655241206}, {\"Fecha\": \"2021-01-05\", \"Sexo\": \"Mujeres\", \"Casos confirmados\": null, \"Porcentaje\": null}, {\"Fecha\": \"2021-01-06\", \"Sexo\": \"Mujeres\", \"Casos confirmados\": null, \"Porcentaje\": null}, {\"Fecha\": \"2021-01-07\", \"Sexo\": \"Mujeres\", \"Casos confirmados\": null, \"Porcentaje\": null}, {\"Fecha\": \"2021-01-08\", \"Sexo\": \"Mujeres\", \"Casos confirmados\": 351953.0, \"Porcentaje\": null}, {\"Fecha\": \"2021-01-09\", \"Sexo\": \"Mujeres\", \"Casos confirmados\": null, \"Porcentaje\": 0.48611462207937595}, {\"Fecha\": \"2021-01-10\", \"Sexo\": \"Mujeres\", \"Casos confirmados\": null, \"Porcentaje\": 0.513885377920624}, {\"Fecha\": \"2021-01-11\", \"Sexo\": \"Mujeres\", \"Casos confirmados\": 359200.0, \"Porcentaje\": null}, {\"Fecha\": \"2021-01-12\", \"Sexo\": \"Mujeres\", \"Casos confirmados\": null, \"Porcentaje\": null}, {\"Fecha\": \"2021-01-13\", \"Sexo\": \"Mujeres\", \"Casos confirmados\": null, \"Porcentaje\": null}, {\"Fecha\": \"2021-01-14\", \"Sexo\": \"Mujeres\", \"Casos confirmados\": null, \"Porcentaje\": null}, {\"Fecha\": \"2021-01-15\", \"Sexo\": \"Mujeres\", \"Casos confirmados\": 368351.0, \"Porcentaje\": null}, {\"Fecha\": \"2021-01-16\", \"Sexo\": \"Mujeres\", \"Casos confirmados\": null, \"Porcentaje\": null}, {\"Fecha\": \"2021-01-17\", \"Sexo\": \"Mujeres\", \"Casos confirmados\": null, \"Porcentaje\": 0.4867948881607875}, {\"Fecha\": \"2021-01-18\", \"Sexo\": \"Mujeres\", \"Casos confirmados\": 375583.0, \"Porcentaje\": 0.5132051118392125}, {\"Fecha\": \"2021-01-19\", \"Sexo\": \"Mujeres\", \"Casos confirmados\": null, \"Porcentaje\": null}, {\"Fecha\": \"2021-01-20\", \"Sexo\": \"Mujeres\", \"Casos confirmados\": null, \"Porcentaje\": null}, {\"Fecha\": \"2021-01-21\", \"Sexo\": \"Mujeres\", \"Casos confirmados\": null, \"Porcentaje\": null}, {\"Fecha\": \"2021-01-22\", \"Sexo\": \"Mujeres\", \"Casos confirmados\": 385465.0, \"Porcentaje\": null}, {\"Fecha\": \"2021-01-23\", \"Sexo\": \"Mujeres\", \"Casos confirmados\": null, \"Porcentaje\": 0.4874074901295662}, {\"Fecha\": \"2021-01-24\", \"Sexo\": \"Mujeres\", \"Casos confirmados\": null, \"Porcentaje\": 0.5125925098704338}, {\"Fecha\": \"2021-01-25\", \"Sexo\": \"Mujeres\", \"Casos confirmados\": 392922.0, \"Porcentaje\": null}, {\"Fecha\": \"2021-01-26\", \"Sexo\": \"Mujeres\", \"Casos confirmados\": null, \"Porcentaje\": null}, {\"Fecha\": \"2021-01-27\", \"Sexo\": \"Mujeres\", \"Casos confirmados\": null, \"Porcentaje\": null}, {\"Fecha\": \"2021-01-28\", \"Sexo\": \"Mujeres\", \"Casos confirmados\": null, \"Porcentaje\": null}, {\"Fecha\": \"2021-01-29\", \"Sexo\": \"Mujeres\", \"Casos confirmados\": 402326.0, \"Porcentaje\": null}, {\"Fecha\": \"2021-01-30\", \"Sexo\": \"Mujeres\", \"Casos confirmados\": null, \"Porcentaje\": null}, {\"Fecha\": \"2021-01-31\", \"Sexo\": \"Mujeres\", \"Casos confirmados\": null, \"Porcentaje\": 0.48807915586549344}, {\"Fecha\": \"2021-02-01\", \"Sexo\": \"Mujeres\", \"Casos confirmados\": 409316.0, \"Porcentaje\": 0.5119208441345066}, {\"Fecha\": \"2021-02-02\", \"Sexo\": \"Mujeres\", \"Casos confirmados\": null, \"Porcentaje\": null}, {\"Fecha\": \"2021-02-03\", \"Sexo\": \"Mujeres\", \"Casos confirmados\": null, \"Porcentaje\": null}, {\"Fecha\": \"2021-02-04\", \"Sexo\": \"Mujeres\", \"Casos confirmados\": null, \"Porcentaje\": null}, {\"Fecha\": \"2021-02-05\", \"Sexo\": \"Mujeres\", \"Casos confirmados\": 417281.0, \"Porcentaje\": null}, {\"Fecha\": \"2021-02-06\", \"Sexo\": \"Mujeres\", \"Casos confirmados\": null, \"Porcentaje\": 0.488354112303083}, {\"Fecha\": \"2021-02-07\", \"Sexo\": \"Mujeres\", \"Casos confirmados\": null, \"Porcentaje\": 0.511645887696917}, {\"Fecha\": \"2021-02-08\", \"Sexo\": \"Mujeres\", \"Casos confirmados\": 423637.0, \"Porcentaje\": null}, {\"Fecha\": \"2021-02-09\", \"Sexo\": \"Mujeres\", \"Casos confirmados\": null, \"Porcentaje\": null}, {\"Fecha\": \"2021-02-10\", \"Sexo\": \"Mujeres\", \"Casos confirmados\": null, \"Porcentaje\": null}, {\"Fecha\": \"2021-02-11\", \"Sexo\": \"Mujeres\", \"Casos confirmados\": null, \"Porcentaje\": null}, {\"Fecha\": \"2021-02-12\", \"Sexo\": \"Mujeres\", \"Casos confirmados\": 431386.0, \"Porcentaje\": null}, {\"Fecha\": \"2021-02-13\", \"Sexo\": \"Mujeres\", \"Casos confirmados\": null, \"Porcentaje\": null}, {\"Fecha\": \"2021-02-14\", \"Sexo\": \"Mujeres\", \"Casos confirmados\": null, \"Porcentaje\": 0.48893005612711854}, {\"Fecha\": \"2021-02-15\", \"Sexo\": \"Mujeres\", \"Casos confirmados\": 437610.0, \"Porcentaje\": 0.5110699438728814}, {\"Fecha\": \"2021-02-16\", \"Sexo\": \"Mujeres\", \"Casos confirmados\": null, \"Porcentaje\": null}, {\"Fecha\": \"2021-02-17\", \"Sexo\": \"Mujeres\", \"Casos confirmados\": null, \"Porcentaje\": null}, {\"Fecha\": \"2021-02-18\", \"Sexo\": \"Mujeres\", \"Casos confirmados\": null, \"Porcentaje\": null}, {\"Fecha\": \"2021-02-19\", \"Sexo\": \"Mujeres\", \"Casos confirmados\": 445069.0, \"Porcentaje\": null}, {\"Fecha\": \"2021-02-20\", \"Sexo\": \"Mujeres\", \"Casos confirmados\": null, \"Porcentaje\": 0.48923833329351957}, {\"Fecha\": \"2021-02-21\", \"Sexo\": \"Mujeres\", \"Casos confirmados\": null, \"Porcentaje\": 0.5107616667064805}, {\"Fecha\": \"2021-02-22\", \"Sexo\": \"Mujeres\", \"Casos confirmados\": 451384.0, \"Porcentaje\": null}, {\"Fecha\": \"2021-02-23\", \"Sexo\": \"Mujeres\", \"Casos confirmados\": null, \"Porcentaje\": null}, {\"Fecha\": \"2021-02-24\", \"Sexo\": \"Mujeres\", \"Casos confirmados\": null, \"Porcentaje\": null}, {\"Fecha\": \"2021-02-25\", \"Sexo\": \"Mujeres\", \"Casos confirmados\": null, \"Porcentaje\": null}, {\"Fecha\": \"2021-02-26\", \"Sexo\": \"Mujeres\", \"Casos confirmados\": 460931.0, \"Porcentaje\": null}, {\"Fecha\": \"2021-02-27\", \"Sexo\": \"Mujeres\", \"Casos confirmados\": null, \"Porcentaje\": null}, {\"Fecha\": \"2021-02-28\", \"Sexo\": \"Mujeres\", \"Casos confirmados\": null, \"Porcentaje\": 0.4895954275372217}, {\"Fecha\": \"2021-03-01\", \"Sexo\": \"Mujeres\", \"Casos confirmados\": 469138.0, \"Porcentaje\": 0.5104045724627783}, {\"Fecha\": \"2021-03-02\", \"Sexo\": \"Mujeres\", \"Casos confirmados\": null, \"Porcentaje\": null}, {\"Fecha\": \"2021-03-03\", \"Sexo\": \"Mujeres\", \"Casos confirmados\": null, \"Porcentaje\": null}, {\"Fecha\": \"2021-03-04\", \"Sexo\": \"Mujeres\", \"Casos confirmados\": null, \"Porcentaje\": null}, {\"Fecha\": \"2021-03-05\", \"Sexo\": \"Mujeres\", \"Casos confirmados\": 480679.0, \"Porcentaje\": null}, {\"Fecha\": \"2021-03-06\", \"Sexo\": \"Mujeres\", \"Casos confirmados\": null, \"Porcentaje\": 0.4896046747411686}, {\"Fecha\": \"2021-03-07\", \"Sexo\": \"Mujeres\", \"Casos confirmados\": null, \"Porcentaje\": 0.5103953252588314}, {\"Fecha\": \"2021-03-08\", \"Sexo\": \"Mujeres\", \"Casos confirmados\": 490133.0, \"Porcentaje\": null}, {\"Fecha\": \"2021-03-09\", \"Sexo\": \"Mujeres\", \"Casos confirmados\": null, \"Porcentaje\": null}, {\"Fecha\": \"2021-03-10\", \"Sexo\": \"Mujeres\", \"Casos confirmados\": null, \"Porcentaje\": null}, {\"Fecha\": \"2021-03-11\", \"Sexo\": \"Mujeres\", \"Casos confirmados\": null, \"Porcentaje\": null}, {\"Fecha\": \"2021-03-12\", \"Sexo\": \"Mujeres\", \"Casos confirmados\": 503645.0, \"Porcentaje\": null}, {\"Fecha\": \"2021-03-13\", \"Sexo\": \"Mujeres\", \"Casos confirmados\": null, \"Porcentaje\": null}, {\"Fecha\": \"2021-03-14\", \"Sexo\": \"Mujeres\", \"Casos confirmados\": null, \"Porcentaje\": 0.48987034706583654}, {\"Fecha\": \"2021-03-15\", \"Sexo\": \"Mujeres\", \"Casos confirmados\": 514356.0, \"Porcentaje\": 0.5101296529341635}, {\"Fecha\": \"2020-03-25\", \"Sexo\": \"Hombres\", \"Casos confirmados\": 496.0, \"Porcentaje\": null}, {\"Fecha\": \"2020-03-26\", \"Sexo\": \"Hombres\", \"Casos confirmados\": 610.0, \"Porcentaje\": null}, {\"Fecha\": \"2020-03-27\", \"Sexo\": \"Hombres\", \"Casos confirmados\": 704.0, \"Porcentaje\": null}, {\"Fecha\": \"2020-03-28\", \"Sexo\": \"Hombres\", \"Casos confirmados\": 867.0, \"Porcentaje\": null}, {\"Fecha\": \"2020-03-29\", \"Sexo\": \"Hombres\", \"Casos confirmados\": 959.0, \"Porcentaje\": 0.4900942642594664}, {\"Fecha\": \"2020-03-30\", \"Sexo\": \"Hombres\", \"Casos confirmados\": 1051.0, \"Porcentaje\": 0.5099057357405337}, {\"Fecha\": \"2020-03-31\", \"Sexo\": \"Hombres\", \"Casos confirmados\": 1187.0, \"Porcentaje\": null}, {\"Fecha\": \"2020-04-01\", \"Sexo\": \"Hombres\", \"Casos confirmados\": 1369.0, \"Porcentaje\": null}, {\"Fecha\": \"2020-04-02\", \"Sexo\": \"Hombres\", \"Casos confirmados\": 1463.0, \"Porcentaje\": null}, {\"Fecha\": \"2020-04-03\", \"Sexo\": \"Hombres\", \"Casos confirmados\": 1684.0, \"Porcentaje\": null}, {\"Fecha\": \"2020-04-04\", \"Sexo\": \"Hombres\", \"Casos confirmados\": 1897.0, \"Porcentaje\": null}, {\"Fecha\": \"2020-04-05\", \"Sexo\": \"Hombres\", \"Casos confirmados\": 2042.0, \"Porcentaje\": null}, {\"Fecha\": \"2020-04-06\", \"Sexo\": \"Hombres\", \"Casos confirmados\": 2191.0, \"Porcentaje\": 0.4905119134912129}, {\"Fecha\": \"2020-04-07\", \"Sexo\": \"Hombres\", \"Casos confirmados\": 2326.0, \"Porcentaje\": 0.5094880865087871}, {\"Fecha\": \"2020-04-08\", \"Sexo\": \"Hombres\", \"Casos confirmados\": 2707.0, \"Porcentaje\": null}, {\"Fecha\": \"2020-04-09\", \"Sexo\": \"Hombres\", \"Casos confirmados\": 2899.0, \"Porcentaje\": null}, {\"Fecha\": \"2020-04-10\", \"Sexo\": \"Hombres\", \"Casos confirmados\": 3150.0, \"Porcentaje\": null}, {\"Fecha\": \"2020-04-11\", \"Sexo\": \"Hombres\", \"Casos confirmados\": 3352.0, \"Porcentaje\": null}, {\"Fecha\": \"2020-04-12\", \"Sexo\": \"Hombres\", \"Casos confirmados\": 3501.0, \"Porcentaje\": 0.49079947158791803}, {\"Fecha\": \"2020-04-13\", \"Sexo\": \"Hombres\", \"Casos confirmados\": 3699.0, \"Porcentaje\": 0.509200528412082}, {\"Fecha\": \"2020-04-14\", \"Sexo\": \"Hombres\", \"Casos confirmados\": 3860.0, \"Porcentaje\": null}, {\"Fecha\": \"2020-04-15\", \"Sexo\": \"Hombres\", \"Casos confirmados\": 4099.0, \"Porcentaje\": null}, {\"Fecha\": \"2020-04-16\", \"Sexo\": \"Hombres\", \"Casos confirmados\": 4366.0, \"Porcentaje\": null}, {\"Fecha\": \"2020-04-17\", \"Sexo\": \"Hombres\", \"Casos confirmados\": 4616.0, \"Porcentaje\": null}, {\"Fecha\": \"2020-04-18\", \"Sexo\": \"Hombres\", \"Casos confirmados\": 4835.0, \"Porcentaje\": null}, {\"Fecha\": \"2020-04-19\", \"Sexo\": \"Hombres\", \"Casos confirmados\": 4991.0, \"Porcentaje\": null}, {\"Fecha\": \"2020-04-20\", \"Sexo\": \"Hombres\", \"Casos confirmados\": 5167.0, \"Porcentaje\": 0.49111926562481684}, {\"Fecha\": \"2020-04-21\", \"Sexo\": \"Hombres\", \"Casos confirmados\": 5349.0, \"Porcentaje\": 0.5088807343751832}, {\"Fecha\": \"2020-04-22\", \"Sexo\": \"Hombres\", \"Casos confirmados\": 5607.0, \"Porcentaje\": null}, {\"Fecha\": \"2020-04-23\", \"Sexo\": \"Hombres\", \"Casos confirmados\": 5892.0, \"Porcentaje\": null}, {\"Fecha\": \"2020-04-24\", \"Sexo\": \"Hombres\", \"Casos confirmados\": 6091.0, \"Porcentaje\": null}, {\"Fecha\": \"2020-04-25\", \"Sexo\": \"Hombres\", \"Casos confirmados\": 6391.0, \"Porcentaje\": null}, {\"Fecha\": \"2020-04-26\", \"Sexo\": \"Hombres\", \"Casos confirmados\": 6644.0, \"Porcentaje\": 0.49111926562481684}, {\"Fecha\": \"2020-04-27\", \"Sexo\": \"Hombres\", \"Casos confirmados\": 6861.0, \"Porcentaje\": 0.5088807343751832}, {\"Fecha\": \"2020-04-28\", \"Sexo\": \"Hombres\", \"Casos confirmados\": 7212.0, \"Porcentaje\": null}, {\"Fecha\": \"2020-04-29\", \"Sexo\": \"Hombres\", \"Casos confirmados\": null, \"Porcentaje\": null}, {\"Fecha\": \"2020-04-30\", \"Sexo\": \"Hombres\", \"Casos confirmados\": null, \"Porcentaje\": null}, {\"Fecha\": \"2020-05-01\", \"Sexo\": \"Hombres\", \"Casos confirmados\": 8670.0, \"Porcentaje\": null}, {\"Fecha\": \"2020-05-02\", \"Sexo\": \"Hombres\", \"Casos confirmados\": 9477.0, \"Porcentaje\": null}, {\"Fecha\": \"2020-05-03\", \"Sexo\": \"Hombres\", \"Casos confirmados\": null, \"Porcentaje\": null}, {\"Fecha\": \"2020-05-04\", \"Sexo\": \"Hombres\", \"Casos confirmados\": 10653.0, \"Porcentaje\": 0.4913774047989268}, {\"Fecha\": \"2020-05-05\", \"Sexo\": \"Hombres\", \"Casos confirmados\": null, \"Porcentaje\": 0.5086225952010732}, {\"Fecha\": \"2020-05-06\", \"Sexo\": \"Hombres\", \"Casos confirmados\": 12002.0, \"Porcentaje\": null}, {\"Fecha\": \"2020-05-07\", \"Sexo\": \"Hombres\", \"Casos confirmados\": null, \"Porcentaje\": null}, {\"Fecha\": \"2020-05-08\", \"Sexo\": \"Hombres\", \"Casos confirmados\": 13654.0, \"Porcentaje\": null}, {\"Fecha\": \"2020-05-09\", \"Sexo\": \"Hombres\", \"Casos confirmados\": null, \"Porcentaje\": null}, {\"Fecha\": \"2020-05-10\", \"Sexo\": \"Hombres\", \"Casos confirmados\": null, \"Porcentaje\": 0.4915707201969125}, {\"Fecha\": \"2020-05-11\", \"Sexo\": \"Hombres\", \"Casos confirmados\": 15949.0, \"Porcentaje\": 0.5084292798030875}, {\"Fecha\": \"2020-05-12\", \"Sexo\": \"Hombres\", \"Casos confirmados\": null, \"Porcentaje\": null}, {\"Fecha\": \"2020-05-13\", \"Sexo\": \"Hombres\", \"Casos confirmados\": null, \"Porcentaje\": null}, {\"Fecha\": \"2020-05-14\", \"Sexo\": \"Hombres\", \"Casos confirmados\": null, \"Porcentaje\": null}, {\"Fecha\": \"2020-05-15\", \"Sexo\": \"Hombres\", \"Casos confirmados\": 21010.0, \"Porcentaje\": null}, {\"Fecha\": \"2020-05-16\", \"Sexo\": \"Hombres\", \"Casos confirmados\": null, \"Porcentaje\": null}, {\"Fecha\": \"2020-05-17\", \"Sexo\": \"Hombres\", \"Casos confirmados\": null, \"Porcentaje\": null}, {\"Fecha\": \"2020-05-18\", \"Sexo\": \"Hombres\", \"Casos confirmados\": 24523.0, \"Porcentaje\": 0.4917454126176067}, {\"Fecha\": \"2020-05-19\", \"Sexo\": \"Hombres\", \"Casos confirmados\": null, \"Porcentaje\": 0.5082545873823933}, {\"Fecha\": \"2020-05-20\", \"Sexo\": \"Hombres\", \"Casos confirmados\": null, \"Porcentaje\": null}, {\"Fecha\": \"2020-05-21\", \"Sexo\": \"Hombres\", \"Casos confirmados\": null, \"Porcentaje\": null}, {\"Fecha\": \"2020-05-22\", \"Sexo\": \"Hombres\", \"Casos confirmados\": 32818.0, \"Porcentaje\": null}, {\"Fecha\": \"2020-05-23\", \"Sexo\": \"Hombres\", \"Casos confirmados\": null, \"Porcentaje\": null}, {\"Fecha\": \"2020-05-24\", \"Sexo\": \"Hombres\", \"Casos confirmados\": null, \"Porcentaje\": 0.4918911748123418}, {\"Fecha\": \"2020-05-25\", \"Sexo\": \"Hombres\", \"Casos confirmados\": 39276.0, \"Porcentaje\": 0.5081088251876582}, {\"Fecha\": \"2020-05-26\", \"Sexo\": \"Hombres\", \"Casos confirmados\": null, \"Porcentaje\": null}, {\"Fecha\": \"2020-05-27\", \"Sexo\": \"Hombres\", \"Casos confirmados\": null, \"Porcentaje\": null}, {\"Fecha\": \"2020-05-28\", \"Sexo\": \"Hombres\", \"Casos confirmados\": null, \"Porcentaje\": null}, {\"Fecha\": \"2020-05-29\", \"Sexo\": \"Hombres\", \"Casos confirmados\": 48045.0, \"Porcentaje\": null}, {\"Fecha\": \"2020-05-30\", \"Sexo\": \"Hombres\", \"Casos confirmados\": null, \"Porcentaje\": null}, {\"Fecha\": \"2020-05-31\", \"Sexo\": \"Hombres\", \"Casos confirmados\": null, \"Porcentaje\": null}, {\"Fecha\": \"2020-06-01\", \"Sexo\": \"Hombres\", \"Casos confirmados\": 55501.0, \"Porcentaje\": null}, {\"Fecha\": \"2020-06-02\", \"Sexo\": \"Hombres\", \"Casos confirmados\": null, \"Porcentaje\": null}, {\"Fecha\": \"2020-06-03\", \"Sexo\": \"Hombres\", \"Casos confirmados\": null, \"Porcentaje\": 0.492246747949055}, {\"Fecha\": \"2020-06-04\", \"Sexo\": \"Hombres\", \"Casos confirmados\": null, \"Porcentaje\": 0.507753252050945}, {\"Fecha\": \"2020-06-05\", \"Sexo\": \"Hombres\", \"Casos confirmados\": 64576.0, \"Porcentaje\": null}, {\"Fecha\": \"2020-06-06\", \"Sexo\": \"Hombres\", \"Casos confirmados\": null, \"Porcentaje\": null}, {\"Fecha\": \"2020-06-07\", \"Sexo\": \"Hombres\", \"Casos confirmados\": null, \"Porcentaje\": 0.49238494538024824}, {\"Fecha\": \"2020-06-08\", \"Sexo\": \"Hombres\", \"Casos confirmados\": 73240.0, \"Porcentaje\": 0.5076150546197518}, {\"Fecha\": \"2020-06-09\", \"Sexo\": \"Hombres\", \"Casos confirmados\": null, \"Porcentaje\": null}, {\"Fecha\": \"2020-06-10\", \"Sexo\": \"Hombres\", \"Casos confirmados\": null, \"Porcentaje\": null}, {\"Fecha\": \"2020-06-11\", \"Sexo\": \"Hombres\", \"Casos confirmados\": null, \"Porcentaje\": null}, {\"Fecha\": \"2020-06-12\", \"Sexo\": \"Hombres\", \"Casos confirmados\": 84548.0, \"Porcentaje\": null}, {\"Fecha\": \"2020-06-13\", \"Sexo\": \"Hombres\", \"Casos confirmados\": null, \"Porcentaje\": null}, {\"Fecha\": \"2020-06-14\", \"Sexo\": \"Hombres\", \"Casos confirmados\": null, \"Porcentaje\": null}, {\"Fecha\": \"2020-06-15\", \"Sexo\": \"Hombres\", \"Casos confirmados\": 94201.0, \"Porcentaje\": 0.4925474737682482}, {\"Fecha\": \"2020-06-16\", \"Sexo\": \"Hombres\", \"Casos confirmados\": null, \"Porcentaje\": 0.5074525262317519}, {\"Fecha\": \"2020-06-17\", \"Sexo\": \"Hombres\", \"Casos confirmados\": null, \"Porcentaje\": null}, {\"Fecha\": \"2020-06-18\", \"Sexo\": \"Hombres\", \"Casos confirmados\": null, \"Porcentaje\": null}, {\"Fecha\": \"2020-06-19\", \"Sexo\": \"Hombres\", \"Casos confirmados\": 119890.0, \"Porcentaje\": null}, {\"Fecha\": \"2020-06-20\", \"Sexo\": \"Hombres\", \"Casos confirmados\": null, \"Porcentaje\": null}, {\"Fecha\": \"2020-06-21\", \"Sexo\": \"Hombres\", \"Casos confirmados\": null, \"Porcentaje\": 0.4928907442874416}, {\"Fecha\": \"2020-06-22\", \"Sexo\": \"Hombres\", \"Casos confirmados\": null, \"Porcentaje\": 0.5071092557125584}, {\"Fecha\": \"2020-06-23\", \"Sexo\": \"Hombres\", \"Casos confirmados\": 132317.0, \"Porcentaje\": null}, {\"Fecha\": \"2020-06-24\", \"Sexo\": \"Hombres\", \"Casos confirmados\": null, \"Porcentaje\": null}, {\"Fecha\": \"2020-06-25\", \"Sexo\": \"Hombres\", \"Casos confirmados\": null, \"Porcentaje\": null}, {\"Fecha\": \"2020-06-26\", \"Sexo\": \"Hombres\", \"Casos confirmados\": null, \"Porcentaje\": null}, {\"Fecha\": \"2020-06-27\", \"Sexo\": \"Hombres\", \"Casos confirmados\": null, \"Porcentaje\": null}, {\"Fecha\": \"2020-06-28\", \"Sexo\": \"Hombres\", \"Casos confirmados\": 145894.0, \"Porcentaje\": null}, {\"Fecha\": \"2020-06-29\", \"Sexo\": \"Hombres\", \"Casos confirmados\": null, \"Porcentaje\": 0.4929539834876996}, {\"Fecha\": \"2020-06-30\", \"Sexo\": \"Hombres\", \"Casos confirmados\": null, \"Porcentaje\": 0.5070460165123004}, {\"Fecha\": \"2020-07-01\", \"Sexo\": \"Hombres\", \"Casos confirmados\": 151336.0, \"Porcentaje\": null}, {\"Fecha\": \"2020-07-02\", \"Sexo\": \"Hombres\", \"Casos confirmados\": null, \"Porcentaje\": null}, {\"Fecha\": \"2020-07-03\", \"Sexo\": \"Hombres\", \"Casos confirmados\": null, \"Porcentaje\": null}, {\"Fecha\": \"2020-07-04\", \"Sexo\": \"Hombres\", \"Casos confirmados\": null, \"Porcentaje\": null}, {\"Fecha\": \"2020-07-05\", \"Sexo\": \"Hombres\", \"Casos confirmados\": 160118.0, \"Porcentaje\": 0.49309974267880535}, {\"Fecha\": \"2020-07-06\", \"Sexo\": \"Hombres\", \"Casos confirmados\": null, \"Porcentaje\": 0.5069002573211947}, {\"Fecha\": \"2020-07-07\", \"Sexo\": \"Hombres\", \"Casos confirmados\": null, \"Porcentaje\": null}, {\"Fecha\": \"2020-07-08\", \"Sexo\": \"Hombres\", \"Casos confirmados\": null, \"Porcentaje\": null}, {\"Fecha\": \"2020-07-09\", \"Sexo\": \"Hombres\", \"Casos confirmados\": null, \"Porcentaje\": null}, {\"Fecha\": \"2020-07-10\", \"Sexo\": \"Hombres\", \"Casos confirmados\": 168478.0, \"Porcentaje\": null}, {\"Fecha\": \"2020-07-11\", \"Sexo\": \"Hombres\", \"Casos confirmados\": null, \"Porcentaje\": null}, {\"Fecha\": \"2020-07-12\", \"Sexo\": \"Hombres\", \"Casos confirmados\": null, \"Porcentaje\": null}, {\"Fecha\": \"2020-07-13\", \"Sexo\": \"Hombres\", \"Casos confirmados\": 173615.0, \"Porcentaje\": 0.49323975006419585}, {\"Fecha\": \"2020-07-14\", \"Sexo\": \"Hombres\", \"Casos confirmados\": null, \"Porcentaje\": 0.5067602499358042}, {\"Fecha\": \"2020-07-15\", \"Sexo\": \"Hombres\", \"Casos confirmados\": null, \"Porcentaje\": null}, {\"Fecha\": \"2020-07-16\", \"Sexo\": \"Hombres\", \"Casos confirmados\": null, \"Porcentaje\": null}, {\"Fecha\": \"2020-07-17\", \"Sexo\": \"Hombres\", \"Casos confirmados\": 178789.0, \"Porcentaje\": null}, {\"Fecha\": \"2020-07-18\", \"Sexo\": \"Hombres\", \"Casos confirmados\": null, \"Porcentaje\": null}, {\"Fecha\": \"2020-07-19\", \"Sexo\": \"Hombres\", \"Casos confirmados\": null, \"Porcentaje\": 0.49338658450513057}, {\"Fecha\": \"2020-07-20\", \"Sexo\": \"Hombres\", \"Casos confirmados\": null, \"Porcentaje\": 0.5066134154948694}, {\"Fecha\": \"2020-07-21\", \"Sexo\": \"Hombres\", \"Casos confirmados\": null, \"Porcentaje\": null}, {\"Fecha\": \"2020-07-22\", \"Sexo\": \"Hombres\", \"Casos confirmados\": null, \"Porcentaje\": null}, {\"Fecha\": \"2020-07-23\", \"Sexo\": \"Hombres\", \"Casos confirmados\": null, \"Porcentaje\": null}, {\"Fecha\": \"2020-07-24\", \"Sexo\": \"Hombres\", \"Casos confirmados\": 186572.0, \"Porcentaje\": null}, {\"Fecha\": \"2020-07-25\", \"Sexo\": \"Hombres\", \"Casos confirmados\": null, \"Porcentaje\": null}, {\"Fecha\": \"2020-07-26\", \"Sexo\": \"Hombres\", \"Casos confirmados\": null, \"Porcentaje\": null}, {\"Fecha\": \"2020-07-27\", \"Sexo\": \"Hombres\", \"Casos confirmados\": 189977.0, \"Porcentaje\": 0.49360759801822945}, {\"Fecha\": \"2020-07-28\", \"Sexo\": \"Hombres\", \"Casos confirmados\": null, \"Porcentaje\": 0.5063924019817705}, {\"Fecha\": \"2020-07-29\", \"Sexo\": \"Hombres\", \"Casos confirmados\": null, \"Porcentaje\": null}, {\"Fecha\": \"2020-07-30\", \"Sexo\": \"Hombres\", \"Casos confirmados\": null, \"Porcentaje\": null}, {\"Fecha\": \"2020-07-31\", \"Sexo\": \"Hombres\", \"Casos confirmados\": 193986.0, \"Porcentaje\": null}, {\"Fecha\": \"2020-08-01\", \"Sexo\": \"Hombres\", \"Casos confirmados\": null, \"Porcentaje\": null}, {\"Fecha\": \"2020-08-02\", \"Sexo\": \"Hombres\", \"Casos confirmados\": null, \"Porcentaje\": 0.49380192459105354}, {\"Fecha\": \"2020-08-03\", \"Sexo\": \"Hombres\", \"Casos confirmados\": 196973.0, \"Porcentaje\": 0.5061980754089465}, {\"Fecha\": \"2020-08-04\", \"Sexo\": \"Hombres\", \"Casos confirmados\": null, \"Porcentaje\": null}, {\"Fecha\": \"2020-08-05\", \"Sexo\": \"Hombres\", \"Casos confirmados\": null, \"Porcentaje\": null}, {\"Fecha\": \"2020-08-06\", \"Sexo\": \"Hombres\", \"Casos confirmados\": null, \"Porcentaje\": null}, {\"Fecha\": \"2020-08-07\", \"Sexo\": \"Hombres\", \"Casos confirmados\": 201900.0, \"Porcentaje\": null}, {\"Fecha\": \"2020-08-08\", \"Sexo\": \"Hombres\", \"Casos confirmados\": null, \"Porcentaje\": null}, {\"Fecha\": \"2020-08-09\", \"Sexo\": \"Hombres\", \"Casos confirmados\": null, \"Porcentaje\": null}, {\"Fecha\": \"2020-08-10\", \"Sexo\": \"Hombres\", \"Casos confirmados\": 205836.0, \"Porcentaje\": 0.49400773493039224}, {\"Fecha\": \"2020-08-11\", \"Sexo\": \"Hombres\", \"Casos confirmados\": null, \"Porcentaje\": 0.5059922650696078}, {\"Fecha\": \"2020-08-12\", \"Sexo\": \"Hombres\", \"Casos confirmados\": null, \"Porcentaje\": null}, {\"Fecha\": \"2020-08-13\", \"Sexo\": \"Hombres\", \"Casos confirmados\": null, \"Porcentaje\": null}, {\"Fecha\": \"2020-08-14\", \"Sexo\": \"Hombres\", \"Casos confirmados\": 210274.0, \"Porcentaje\": null}, {\"Fecha\": \"2020-08-15\", \"Sexo\": \"Hombres\", \"Casos confirmados\": null, \"Porcentaje\": null}, {\"Fecha\": \"2020-08-16\", \"Sexo\": \"Hombres\", \"Casos confirmados\": null, \"Porcentaje\": 0.49405164751832614}, {\"Fecha\": \"2020-08-17\", \"Sexo\": \"Hombres\", \"Casos confirmados\": 213450.0, \"Porcentaje\": 0.5059483524816738}, {\"Fecha\": \"2020-08-18\", \"Sexo\": \"Hombres\", \"Casos confirmados\": null, \"Porcentaje\": null}, {\"Fecha\": \"2020-08-19\", \"Sexo\": \"Hombres\", \"Casos confirmados\": null, \"Porcentaje\": null}, {\"Fecha\": \"2020-08-20\", \"Sexo\": \"Hombres\", \"Casos confirmados\": null, \"Porcentaje\": null}, {\"Fecha\": \"2020-08-21\", \"Sexo\": \"Hombres\", \"Casos confirmados\": 217095.0, \"Porcentaje\": null}, {\"Fecha\": \"2020-08-22\", \"Sexo\": \"Hombres\", \"Casos confirmados\": null, \"Porcentaje\": null}, {\"Fecha\": \"2020-08-23\", \"Sexo\": \"Hombres\", \"Casos confirmados\": null, \"Porcentaje\": null}, {\"Fecha\": \"2020-08-24\", \"Sexo\": \"Hombres\", \"Casos confirmados\": 220322.0, \"Porcentaje\": 0.49412377820731673}, {\"Fecha\": \"2020-08-25\", \"Sexo\": \"Hombres\", \"Casos confirmados\": null, \"Porcentaje\": 0.5058762217926833}, {\"Fecha\": \"2020-08-26\", \"Sexo\": \"Hombres\", \"Casos confirmados\": null, \"Porcentaje\": null}, {\"Fecha\": \"2020-08-27\", \"Sexo\": \"Hombres\", \"Casos confirmados\": null, \"Porcentaje\": null}, {\"Fecha\": \"2020-08-28\", \"Sexo\": \"Hombres\", \"Casos confirmados\": 224336.0, \"Porcentaje\": null}, {\"Fecha\": \"2020-08-29\", \"Sexo\": \"Hombres\", \"Casos confirmados\": null, \"Porcentaje\": null}, {\"Fecha\": \"2020-08-30\", \"Sexo\": \"Hombres\", \"Casos confirmados\": null, \"Porcentaje\": 0.49417225192499553}, {\"Fecha\": \"2020-08-31\", \"Sexo\": \"Hombres\", \"Casos confirmados\": 227642.0, \"Porcentaje\": 0.5058277480750045}, {\"Fecha\": \"2020-09-01\", \"Sexo\": \"Hombres\", \"Casos confirmados\": null, \"Porcentaje\": null}, {\"Fecha\": \"2020-09-02\", \"Sexo\": \"Hombres\", \"Casos confirmados\": null, \"Porcentaje\": null}, {\"Fecha\": \"2020-09-03\", \"Sexo\": \"Hombres\", \"Casos confirmados\": null, \"Porcentaje\": null}, {\"Fecha\": \"2020-09-04\", \"Sexo\": \"Hombres\", \"Casos confirmados\": 231737.0, \"Porcentaje\": null}, {\"Fecha\": \"2020-09-05\", \"Sexo\": \"Hombres\", \"Casos confirmados\": null, \"Porcentaje\": null}, {\"Fecha\": \"2020-09-06\", \"Sexo\": \"Hombres\", \"Casos confirmados\": null, \"Porcentaje\": null}, {\"Fecha\": \"2020-09-07\", \"Sexo\": \"Hombres\", \"Casos confirmados\": 235194.0, \"Porcentaje\": 0.4944056872877229}, {\"Fecha\": \"2020-09-08\", \"Sexo\": \"Hombres\", \"Casos confirmados\": null, \"Porcentaje\": 0.5055943127122772}, {\"Fecha\": \"2020-09-09\", \"Sexo\": \"Hombres\", \"Casos confirmados\": null, \"Porcentaje\": null}, {\"Fecha\": \"2020-09-10\", \"Sexo\": \"Hombres\", \"Casos confirmados\": null, \"Porcentaje\": null}, {\"Fecha\": \"2020-09-11\", \"Sexo\": \"Hombres\", \"Casos confirmados\": 239147.0, \"Porcentaje\": null}, {\"Fecha\": \"2020-09-12\", \"Sexo\": \"Hombres\", \"Casos confirmados\": null, \"Porcentaje\": null}, {\"Fecha\": \"2020-09-13\", \"Sexo\": \"Hombres\", \"Casos confirmados\": null, \"Porcentaje\": 0.4946380843799899}, {\"Fecha\": \"2020-09-14\", \"Sexo\": \"Hombres\", \"Casos confirmados\": 242645.0, \"Porcentaje\": 0.5053619156200101}, {\"Fecha\": \"2020-09-15\", \"Sexo\": \"Hombres\", \"Casos confirmados\": null, \"Porcentaje\": null}, {\"Fecha\": \"2020-09-16\", \"Sexo\": \"Hombres\", \"Casos confirmados\": null, \"Porcentaje\": null}, {\"Fecha\": \"2020-09-17\", \"Sexo\": \"Hombres\", \"Casos confirmados\": null, \"Porcentaje\": null}, {\"Fecha\": \"2020-09-18\", \"Sexo\": \"Hombres\", \"Casos confirmados\": 246462.0, \"Porcentaje\": null}, {\"Fecha\": \"2020-09-19\", \"Sexo\": \"Hombres\", \"Casos confirmados\": null, \"Porcentaje\": null}, {\"Fecha\": \"2020-09-20\", \"Sexo\": \"Hombres\", \"Casos confirmados\": null, \"Porcentaje\": null}, {\"Fecha\": \"2020-09-21\", \"Sexo\": \"Hombres\", \"Casos confirmados\": 248937.0, \"Porcentaje\": 0.4949574569170302}, {\"Fecha\": \"2020-09-22\", \"Sexo\": \"Hombres\", \"Casos confirmados\": null, \"Porcentaje\": 0.5050425430829698}, {\"Fecha\": \"2020-09-23\", \"Sexo\": \"Hombres\", \"Casos confirmados\": null, \"Porcentaje\": null}, {\"Fecha\": \"2020-09-24\", \"Sexo\": \"Hombres\", \"Casos confirmados\": null, \"Porcentaje\": null}, {\"Fecha\": \"2020-09-25\", \"Sexo\": \"Hombres\", \"Casos confirmados\": 252916.0, \"Porcentaje\": null}, {\"Fecha\": \"2020-09-26\", \"Sexo\": \"Hombres\", \"Casos confirmados\": null, \"Porcentaje\": null}, {\"Fecha\": \"2020-09-27\", \"Sexo\": \"Hombres\", \"Casos confirmados\": null, \"Porcentaje\": 0.49514600138227965}, {\"Fecha\": \"2020-09-28\", \"Sexo\": \"Hombres\", \"Casos confirmados\": 256329.0, \"Porcentaje\": 0.5048539986177203}, {\"Fecha\": \"2020-09-29\", \"Sexo\": \"Hombres\", \"Casos confirmados\": null, \"Porcentaje\": null}, {\"Fecha\": \"2020-09-30\", \"Sexo\": \"Hombres\", \"Casos confirmados\": null, \"Porcentaje\": null}, {\"Fecha\": \"2020-10-01\", \"Sexo\": \"Hombres\", \"Casos confirmados\": null, \"Porcentaje\": null}, {\"Fecha\": \"2020-10-02\", \"Sexo\": \"Hombres\", \"Casos confirmados\": 260436.0, \"Porcentaje\": null}, {\"Fecha\": \"2020-10-03\", \"Sexo\": \"Hombres\", \"Casos confirmados\": null, \"Porcentaje\": null}, {\"Fecha\": \"2020-10-04\", \"Sexo\": \"Hombres\", \"Casos confirmados\": null, \"Porcentaje\": null}, {\"Fecha\": \"2020-10-05\", \"Sexo\": \"Hombres\", \"Casos confirmados\": 260436.0, \"Porcentaje\": 0.4952169043305696}, {\"Fecha\": \"2020-10-06\", \"Sexo\": \"Hombres\", \"Casos confirmados\": null, \"Porcentaje\": 0.5047830956694305}, {\"Fecha\": \"2020-10-07\", \"Sexo\": \"Hombres\", \"Casos confirmados\": null, \"Porcentaje\": null}, {\"Fecha\": \"2020-10-08\", \"Sexo\": \"Hombres\", \"Casos confirmados\": null, \"Porcentaje\": null}, {\"Fecha\": \"2020-10-09\", \"Sexo\": \"Hombres\", \"Casos confirmados\": 266917.0, \"Porcentaje\": null}, {\"Fecha\": \"2020-10-10\", \"Sexo\": \"Hombres\", \"Casos confirmados\": null, \"Porcentaje\": null}, {\"Fecha\": \"2020-10-11\", \"Sexo\": \"Hombres\", \"Casos confirmados\": null, \"Porcentaje\": 0.4952522294946776}, {\"Fecha\": \"2020-10-12\", \"Sexo\": \"Hombres\", \"Casos confirmados\": 269768.0, \"Porcentaje\": 0.5047477705053224}, {\"Fecha\": \"2020-10-13\", \"Sexo\": \"Hombres\", \"Casos confirmados\": null, \"Porcentaje\": null}, {\"Fecha\": \"2020-10-14\", \"Sexo\": \"Hombres\", \"Casos confirmados\": null, \"Porcentaje\": null}, {\"Fecha\": \"2020-10-15\", \"Sexo\": \"Hombres\", \"Casos confirmados\": null, \"Porcentaje\": null}, {\"Fecha\": \"2020-10-16\", \"Sexo\": \"Hombres\", \"Casos confirmados\": 272858.0, \"Porcentaje\": null}, {\"Fecha\": \"2020-10-17\", \"Sexo\": \"Hombres\", \"Casos confirmados\": null, \"Porcentaje\": null}, {\"Fecha\": \"2020-10-18\", \"Sexo\": \"Hombres\", \"Casos confirmados\": null, \"Porcentaje\": null}, {\"Fecha\": \"2020-10-19\", \"Sexo\": \"Hombres\", \"Casos confirmados\": 275772.0, \"Porcentaje\": 0.49568584474885846}, {\"Fecha\": \"2020-10-20\", \"Sexo\": \"Hombres\", \"Casos confirmados\": null, \"Porcentaje\": 0.5043141552511415}, {\"Fecha\": \"2020-10-21\", \"Sexo\": \"Hombres\", \"Casos confirmados\": null, \"Porcentaje\": null}, {\"Fecha\": \"2020-10-22\", \"Sexo\": \"Hombres\", \"Casos confirmados\": null, \"Porcentaje\": null}, {\"Fecha\": \"2020-10-23\", \"Sexo\": \"Hombres\", \"Casos confirmados\": null, \"Porcentaje\": null}, {\"Fecha\": \"2020-10-24\", \"Sexo\": \"Hombres\", \"Casos confirmados\": 280064.0, \"Porcentaje\": null}, {\"Fecha\": \"2020-10-25\", \"Sexo\": \"Hombres\", \"Casos confirmados\": null, \"Porcentaje\": 0.49604787274712875}, {\"Fecha\": \"2020-10-26\", \"Sexo\": \"Hombres\", \"Casos confirmados\": 281736.0, \"Porcentaje\": 0.5039521272528712}, {\"Fecha\": \"2020-10-27\", \"Sexo\": \"Hombres\", \"Casos confirmados\": null, \"Porcentaje\": null}, {\"Fecha\": \"2020-10-28\", \"Sexo\": \"Hombres\", \"Casos confirmados\": null, \"Porcentaje\": null}, {\"Fecha\": \"2020-10-29\", \"Sexo\": \"Hombres\", \"Casos confirmados\": null, \"Porcentaje\": null}, {\"Fecha\": \"2020-10-30\", \"Sexo\": \"Hombres\", \"Casos confirmados\": 284758.0, \"Porcentaje\": null}, {\"Fecha\": \"2020-10-31\", \"Sexo\": \"Hombres\", \"Casos confirmados\": null, \"Porcentaje\": null}, {\"Fecha\": \"2020-11-01\", \"Sexo\": \"Hombres\", \"Casos confirmados\": null, \"Porcentaje\": null}, {\"Fecha\": \"2020-11-02\", \"Sexo\": \"Hombres\", \"Casos confirmados\": 287285.0, \"Porcentaje\": 0.4966885361113973}, {\"Fecha\": \"2020-11-03\", \"Sexo\": \"Hombres\", \"Casos confirmados\": null, \"Porcentaje\": 0.5033114638886027}, {\"Fecha\": \"2020-11-04\", \"Sexo\": \"Hombres\", \"Casos confirmados\": null, \"Porcentaje\": null}, {\"Fecha\": \"2020-11-05\", \"Sexo\": \"Hombres\", \"Casos confirmados\": null, \"Porcentaje\": null}, {\"Fecha\": \"2020-11-06\", \"Sexo\": \"Hombres\", \"Casos confirmados\": 290367.0, \"Porcentaje\": null}, {\"Fecha\": \"2020-11-07\", \"Sexo\": \"Hombres\", \"Casos confirmados\": null, \"Porcentaje\": null}, {\"Fecha\": \"2020-11-08\", \"Sexo\": \"Hombres\", \"Casos confirmados\": null, \"Porcentaje\": 0.49702435723764044}, {\"Fecha\": \"2020-11-09\", \"Sexo\": \"Hombres\", \"Casos confirmados\": 292926.0, \"Porcentaje\": 0.5029756427623595}, {\"Fecha\": \"2020-11-10\", \"Sexo\": \"Hombres\", \"Casos confirmados\": null, \"Porcentaje\": null}, {\"Fecha\": \"2020-11-11\", \"Sexo\": \"Hombres\", \"Casos confirmados\": null, \"Porcentaje\": null}, {\"Fecha\": \"2020-11-12\", \"Sexo\": \"Hombres\", \"Casos confirmados\": null, \"Porcentaje\": null}, {\"Fecha\": \"2020-11-13\", \"Sexo\": \"Hombres\", \"Casos confirmados\": 296024.0, \"Porcentaje\": null}, {\"Fecha\": \"2020-11-14\", \"Sexo\": \"Hombres\", \"Casos confirmados\": null, \"Porcentaje\": null}, {\"Fecha\": \"2020-11-15\", \"Sexo\": \"Hombres\", \"Casos confirmados\": null, \"Porcentaje\": null}, {\"Fecha\": \"2020-11-16\", \"Sexo\": \"Hombres\", \"Casos confirmados\": 298602.0, \"Porcentaje\": 0.4973233585403427}, {\"Fecha\": \"2020-11-17\", \"Sexo\": \"Hombres\", \"Casos confirmados\": null, \"Porcentaje\": 0.5026766414596573}, {\"Fecha\": \"2020-11-18\", \"Sexo\": \"Hombres\", \"Casos confirmados\": null, \"Porcentaje\": null}, {\"Fecha\": \"2020-11-19\", \"Sexo\": \"Hombres\", \"Casos confirmados\": null, \"Porcentaje\": null}, {\"Fecha\": \"2020-11-20\", \"Sexo\": \"Hombres\", \"Casos confirmados\": 301622.0, \"Porcentaje\": null}, {\"Fecha\": \"2020-11-21\", \"Sexo\": \"Hombres\", \"Casos confirmados\": null, \"Porcentaje\": null}, {\"Fecha\": \"2020-11-22\", \"Sexo\": \"Hombres\", \"Casos confirmados\": null, \"Porcentaje\": 0.49751496188990063}, {\"Fecha\": \"2020-11-23\", \"Sexo\": \"Hombres\", \"Casos confirmados\": 304099.0, \"Porcentaje\": 0.5024850381100994}, {\"Fecha\": \"2020-11-24\", \"Sexo\": \"Hombres\", \"Casos confirmados\": null, \"Porcentaje\": null}, {\"Fecha\": \"2020-11-25\", \"Sexo\": \"Hombres\", \"Casos confirmados\": null, \"Porcentaje\": null}, {\"Fecha\": \"2020-11-26\", \"Sexo\": \"Hombres\", \"Casos confirmados\": null, \"Porcentaje\": null}, {\"Fecha\": \"2020-11-27\", \"Sexo\": \"Hombres\", \"Casos confirmados\": 307196.0, \"Porcentaje\": null}, {\"Fecha\": \"2020-11-28\", \"Sexo\": \"Hombres\", \"Casos confirmados\": null, \"Porcentaje\": null}, {\"Fecha\": \"2020-11-29\", \"Sexo\": \"Hombres\", \"Casos confirmados\": null, \"Porcentaje\": null}, {\"Fecha\": \"2020-11-30\", \"Sexo\": \"Hombres\", \"Casos confirmados\": 310245.0, \"Porcentaje\": 0.4978965030412549}, {\"Fecha\": \"2020-12-01\", \"Sexo\": \"Hombres\", \"Casos confirmados\": null, \"Porcentaje\": 0.5021034969587451}, {\"Fecha\": \"2020-12-02\", \"Sexo\": \"Hombres\", \"Casos confirmados\": null, \"Porcentaje\": null}, {\"Fecha\": \"2020-12-03\", \"Sexo\": \"Hombres\", \"Casos confirmados\": null, \"Porcentaje\": null}, {\"Fecha\": \"2020-12-04\", \"Sexo\": \"Hombres\", \"Casos confirmados\": 313535.0, \"Porcentaje\": null}, {\"Fecha\": \"2020-12-05\", \"Sexo\": \"Hombres\", \"Casos confirmados\": null, \"Porcentaje\": null}, {\"Fecha\": \"2020-12-06\", \"Sexo\": \"Hombres\", \"Casos confirmados\": null, \"Porcentaje\": 0.49808143536775973}, {\"Fecha\": \"2020-12-07\", \"Sexo\": \"Hombres\", \"Casos confirmados\": 316373.0, \"Porcentaje\": 0.5019185646322403}, {\"Fecha\": \"2020-12-08\", \"Sexo\": \"Hombres\", \"Casos confirmados\": null, \"Porcentaje\": null}, {\"Fecha\": \"2020-12-09\", \"Sexo\": \"Hombres\", \"Casos confirmados\": null, \"Porcentaje\": null}, {\"Fecha\": \"2020-12-10\", \"Sexo\": \"Hombres\", \"Casos confirmados\": null, \"Porcentaje\": null}, {\"Fecha\": \"2020-12-11\", \"Sexo\": \"Hombres\", \"Casos confirmados\": 319752.0, \"Porcentaje\": null}, {\"Fecha\": \"2020-12-12\", \"Sexo\": \"Hombres\", \"Casos confirmados\": null, \"Porcentaje\": null}, {\"Fecha\": \"2020-12-13\", \"Sexo\": \"Hombres\", \"Casos confirmados\": null, \"Porcentaje\": null}, {\"Fecha\": \"2020-12-14\", \"Sexo\": \"Hombres\", \"Casos confirmados\": 323137.0, \"Porcentaje\": 0.498374781363499}, {\"Fecha\": \"2020-12-15\", \"Sexo\": \"Hombres\", \"Casos confirmados\": null, \"Porcentaje\": 0.501625218636501}, {\"Fecha\": \"2020-12-16\", \"Sexo\": \"Hombres\", \"Casos confirmados\": null, \"Porcentaje\": null}, {\"Fecha\": \"2020-12-17\", \"Sexo\": \"Hombres\", \"Casos confirmados\": null, \"Porcentaje\": null}, {\"Fecha\": \"2020-12-18\", \"Sexo\": \"Hombres\", \"Casos confirmados\": 327411.0, \"Porcentaje\": null}, {\"Fecha\": \"2020-12-19\", \"Sexo\": \"Hombres\", \"Casos confirmados\": null, \"Porcentaje\": null}, {\"Fecha\": \"2020-12-20\", \"Sexo\": \"Hombres\", \"Casos confirmados\": null, \"Porcentaje\": 0.498526280917652}, {\"Fecha\": \"2020-12-21\", \"Sexo\": \"Hombres\", \"Casos confirmados\": 330901.0, \"Porcentaje\": 0.5014737190823481}, {\"Fecha\": \"2020-12-22\", \"Sexo\": \"Hombres\", \"Casos confirmados\": null, \"Porcentaje\": null}, {\"Fecha\": \"2020-12-23\", \"Sexo\": \"Hombres\", \"Casos confirmados\": null, \"Porcentaje\": null}, {\"Fecha\": \"2020-12-24\", \"Sexo\": \"Hombres\", \"Casos confirmados\": null, \"Porcentaje\": null}, {\"Fecha\": \"2020-12-25\", \"Sexo\": \"Hombres\", \"Casos confirmados\": 335759.0, \"Porcentaje\": null}, {\"Fecha\": \"2020-12-26\", \"Sexo\": \"Hombres\", \"Casos confirmados\": null, \"Porcentaje\": null}, {\"Fecha\": \"2020-12-27\", \"Sexo\": \"Hombres\", \"Casos confirmados\": null, \"Porcentaje\": null}, {\"Fecha\": \"2020-12-28\", \"Sexo\": \"Hombres\", \"Casos confirmados\": 339084.0, \"Porcentaje\": 0.4987068646127884}, {\"Fecha\": \"2020-12-29\", \"Sexo\": \"Hombres\", \"Casos confirmados\": null, \"Porcentaje\": 0.5012931353872115}, {\"Fecha\": \"2020-12-30\", \"Sexo\": \"Hombres\", \"Casos confirmados\": null, \"Porcentaje\": null}, {\"Fecha\": \"2020-12-31\", \"Sexo\": \"Hombres\", \"Casos confirmados\": null, \"Porcentaje\": null}, {\"Fecha\": \"2021-01-01\", \"Sexo\": \"Hombres\", \"Casos confirmados\": 345140.0, \"Porcentaje\": null}, {\"Fecha\": \"2021-01-02\", \"Sexo\": \"Hombres\", \"Casos confirmados\": null, \"Porcentaje\": null}, {\"Fecha\": \"2021-01-03\", \"Sexo\": \"Hombres\", \"Casos confirmados\": null, \"Porcentaje\": 0.49892415625467407}, {\"Fecha\": \"2021-01-04\", \"Sexo\": \"Hombres\", \"Casos confirmados\": 349325.0, \"Porcentaje\": 0.501075843745326}, {\"Fecha\": \"2021-01-05\", \"Sexo\": \"Hombres\", \"Casos confirmados\": null, \"Porcentaje\": null}, {\"Fecha\": \"2021-01-06\", \"Sexo\": \"Hombres\", \"Casos confirmados\": null, \"Porcentaje\": null}, {\"Fecha\": \"2021-01-07\", \"Sexo\": \"Hombres\", \"Casos confirmados\": null, \"Porcentaje\": null}, {\"Fecha\": \"2021-01-08\", \"Sexo\": \"Hombres\", \"Casos confirmados\": 356646.0, \"Porcentaje\": null}, {\"Fecha\": \"2021-01-09\", \"Sexo\": \"Hombres\", \"Casos confirmados\": null, \"Porcentaje\": null}, {\"Fecha\": \"2021-01-10\", \"Sexo\": \"Hombres\", \"Casos confirmados\": null, \"Porcentaje\": null}, {\"Fecha\": \"2021-01-11\", \"Sexo\": \"Hombres\", \"Casos confirmados\": 363501.0, \"Porcentaje\": 0.4990583063396576}, {\"Fecha\": \"2021-01-12\", \"Sexo\": \"Hombres\", \"Casos confirmados\": null, \"Porcentaje\": 0.5009416936603425}, {\"Fecha\": \"2021-01-13\", \"Sexo\": \"Hombres\", \"Casos confirmados\": null, \"Porcentaje\": null}, {\"Fecha\": \"2021-01-14\", \"Sexo\": \"Hombres\", \"Casos confirmados\": null, \"Porcentaje\": null}, {\"Fecha\": \"2021-01-15\", \"Sexo\": \"Hombres\", \"Casos confirmados\": 372316.0, \"Porcentaje\": null}, {\"Fecha\": \"2021-01-16\", \"Sexo\": \"Hombres\", \"Casos confirmados\": null, \"Porcentaje\": null}, {\"Fecha\": \"2021-01-17\", \"Sexo\": \"Hombres\", \"Casos confirmados\": null, \"Porcentaje\": 0.4992009089446865}, {\"Fecha\": \"2021-01-18\", \"Sexo\": \"Hombres\", \"Casos confirmados\": 379335.0, \"Porcentaje\": 0.5007990910553135}, {\"Fecha\": \"2021-01-19\", \"Sexo\": \"Hombres\", \"Casos confirmados\": null, \"Porcentaje\": null}, {\"Fecha\": \"2021-01-20\", \"Sexo\": \"Hombres\", \"Casos confirmados\": null, \"Porcentaje\": null}, {\"Fecha\": \"2021-01-21\", \"Sexo\": \"Hombres\", \"Casos confirmados\": null, \"Porcentaje\": null}, {\"Fecha\": \"2021-01-22\", \"Sexo\": \"Hombres\", \"Casos confirmados\": 388722.0, \"Porcentaje\": null}, {\"Fecha\": \"2021-01-23\", \"Sexo\": \"Hombres\", \"Casos confirmados\": null, \"Porcentaje\": null}, {\"Fecha\": \"2021-01-24\", \"Sexo\": \"Hombres\", \"Casos confirmados\": null, \"Porcentaje\": null}, {\"Fecha\": \"2021-01-25\", \"Sexo\": \"Hombres\", \"Casos confirmados\": 395949.0, \"Porcentaje\": 0.499427710910972}, {\"Fecha\": \"2021-01-26\", \"Sexo\": \"Hombres\", \"Casos confirmados\": null, \"Porcentaje\": 0.500572289089028}, {\"Fecha\": \"2021-01-27\", \"Sexo\": \"Hombres\", \"Casos confirmados\": null, \"Porcentaje\": null}, {\"Fecha\": \"2021-01-28\", \"Sexo\": \"Hombres\", \"Casos confirmados\": null, \"Porcentaje\": null}, {\"Fecha\": \"2021-01-29\", \"Sexo\": \"Hombres\", \"Casos confirmados\": 404950.0, \"Porcentaje\": null}, {\"Fecha\": \"2021-01-30\", \"Sexo\": \"Hombres\", \"Casos confirmados\": null, \"Porcentaje\": null}, {\"Fecha\": \"2021-01-31\", \"Sexo\": \"Hombres\", \"Casos confirmados\": null, \"Porcentaje\": 0.49965795352152903}, {\"Fecha\": \"2021-02-01\", \"Sexo\": \"Hombres\", \"Casos confirmados\": 411736.0, \"Porcentaje\": 0.500342046478471}, {\"Fecha\": \"2021-02-02\", \"Sexo\": \"Hombres\", \"Casos confirmados\": null, \"Porcentaje\": null}, {\"Fecha\": \"2021-02-03\", \"Sexo\": \"Hombres\", \"Casos confirmados\": null, \"Porcentaje\": null}, {\"Fecha\": \"2021-02-04\", \"Sexo\": \"Hombres\", \"Casos confirmados\": null, \"Porcentaje\": null}, {\"Fecha\": \"2021-02-05\", \"Sexo\": \"Hombres\", \"Casos confirmados\": 419445.0, \"Porcentaje\": null}, {\"Fecha\": \"2021-02-06\", \"Sexo\": \"Hombres\", \"Casos confirmados\": null, \"Porcentaje\": null}, {\"Fecha\": \"2021-02-07\", \"Sexo\": \"Hombres\", \"Casos confirmados\": null, \"Porcentaje\": null}, {\"Fecha\": \"2021-02-08\", \"Sexo\": \"Hombres\", \"Casos confirmados\": 425464.0, \"Porcentaje\": 0.5000357996780199}, {\"Fecha\": \"2021-02-09\", \"Sexo\": \"Hombres\", \"Casos confirmados\": null, \"Porcentaje\": 0.49996420032198013}, {\"Fecha\": \"2021-02-10\", \"Sexo\": \"Hombres\", \"Casos confirmados\": null, \"Porcentaje\": null}, {\"Fecha\": \"2021-02-11\", \"Sexo\": \"Hombres\", \"Casos confirmados\": null, \"Porcentaje\": null}, {\"Fecha\": \"2021-02-12\", \"Sexo\": \"Hombres\", \"Casos confirmados\": 433014.0, \"Porcentaje\": null}, {\"Fecha\": \"2021-02-13\", \"Sexo\": \"Hombres\", \"Casos confirmados\": null, \"Porcentaje\": null}, {\"Fecha\": \"2021-02-14\", \"Sexo\": \"Hombres\", \"Casos confirmados\": null, \"Porcentaje\": 0.5004805974129884}, {\"Fecha\": \"2021-02-15\", \"Sexo\": \"Hombres\", \"Casos confirmados\": 439011.0, \"Porcentaje\": 0.4995194025870116}, {\"Fecha\": \"2021-02-16\", \"Sexo\": \"Hombres\", \"Casos confirmados\": null, \"Porcentaje\": null}, {\"Fecha\": \"2021-02-17\", \"Sexo\": \"Hombres\", \"Casos confirmados\": null, \"Porcentaje\": null}, {\"Fecha\": \"2021-02-18\", \"Sexo\": \"Hombres\", \"Casos confirmados\": null, \"Porcentaje\": null}, {\"Fecha\": \"2021-02-19\", \"Sexo\": \"Hombres\", \"Casos confirmados\": 446089.0, \"Porcentaje\": null}, {\"Fecha\": \"2021-02-20\", \"Sexo\": \"Hombres\", \"Casos confirmados\": null, \"Porcentaje\": null}, {\"Fecha\": \"2021-02-21\", \"Sexo\": \"Hombres\", \"Casos confirmados\": null, \"Porcentaje\": null}, {\"Fecha\": \"2021-02-22\", \"Sexo\": \"Hombres\", \"Casos confirmados\": 452002.0, \"Porcentaje\": 0.5008899077788778}, {\"Fecha\": \"2021-02-23\", \"Sexo\": \"Hombres\", \"Casos confirmados\": null, \"Porcentaje\": 0.4991100922211223}, {\"Fecha\": \"2021-02-24\", \"Sexo\": \"Hombres\", \"Casos confirmados\": null, \"Porcentaje\": null}, {\"Fecha\": \"2021-02-25\", \"Sexo\": \"Hombres\", \"Casos confirmados\": null, \"Porcentaje\": null}, {\"Fecha\": \"2021-02-26\", \"Sexo\": \"Hombres\", \"Casos confirmados\": 460865.0, \"Porcentaje\": null}, {\"Fecha\": \"2021-02-27\", \"Sexo\": \"Hombres\", \"Casos confirmados\": null, \"Porcentaje\": null}, {\"Fecha\": \"2021-02-28\", \"Sexo\": \"Hombres\", \"Casos confirmados\": null, \"Porcentaje\": 0.5011784723521695}, {\"Fecha\": \"2021-03-01\", \"Sexo\": \"Hombres\", \"Casos confirmados\": 468237.0, \"Porcentaje\": 0.49882152764783055}, {\"Fecha\": \"2021-03-02\", \"Sexo\": \"Hombres\", \"Casos confirmados\": null, \"Porcentaje\": null}, {\"Fecha\": \"2021-03-03\", \"Sexo\": \"Hombres\", \"Casos confirmados\": null, \"Porcentaje\": null}, {\"Fecha\": \"2021-03-04\", \"Sexo\": \"Hombres\", \"Casos confirmados\": null, \"Porcentaje\": null}, {\"Fecha\": \"2021-03-05\", \"Sexo\": \"Hombres\", \"Casos confirmados\": 478971.0, \"Porcentaje\": null}, {\"Fecha\": \"2021-03-06\", \"Sexo\": \"Hombres\", \"Casos confirmados\": null, \"Porcentaje\": null}, {\"Fecha\": \"2021-03-07\", \"Sexo\": \"Hombres\", \"Casos confirmados\": null, \"Porcentaje\": null}, {\"Fecha\": \"2021-03-08\", \"Sexo\": \"Hombres\", \"Casos confirmados\": 487828.0, \"Porcentaje\": 0.5014945911929646}, {\"Fecha\": \"2021-03-09\", \"Sexo\": \"Hombres\", \"Casos confirmados\": null, \"Porcentaje\": 0.4985054088070354}, {\"Fecha\": \"2021-03-10\", \"Sexo\": \"Hombres\", \"Casos confirmados\": null, \"Porcentaje\": null}, {\"Fecha\": \"2021-03-11\", \"Sexo\": \"Hombres\", \"Casos confirmados\": null, \"Porcentaje\": null}, {\"Fecha\": \"2021-03-12\", \"Sexo\": \"Hombres\", \"Casos confirmados\": 500643.0, \"Porcentaje\": null}, {\"Fecha\": \"2021-03-13\", \"Sexo\": \"Hombres\", \"Casos confirmados\": null, \"Porcentaje\": null}, {\"Fecha\": \"2021-03-14\", \"Sexo\": \"Hombres\", \"Casos confirmados\": null, \"Porcentaje\": 0.5018038778006935}, {\"Fecha\": \"2021-03-15\", \"Sexo\": \"Hombres\", \"Casos confirmados\": 510658.0, \"Porcentaje\": 0.49819612219930653}]}}, {\"mode\": \"vega-lite\"});\n",
       "</script>"
      ],
      "text/plain": [
       "alt.VConcatChart(...)"
      ]
     },
     "execution_count": 36,
     "metadata": {},
     "output_type": "execute_result"
    }
   ],
   "source": [
    "#hide\n",
    "input_dropdown = alt.binding_select(options=cases_by_sex_long_form['Sexo'].unique())\n",
    "selection1 = alt.selection_single(fields=['Sexo'], bind=input_dropdown, name=' ')\n",
    "selection2 = alt.selection_multi(fields=['Sexo'], on='mouseover')\n",
    "\n",
    "color = alt.condition(selection1 | selection2,\n",
    "                    alt.Color('Sexo:N', scale=alt.Scale(scheme='tableau10'), legend=None),\n",
    "                    alt.value('lightgray'))\n",
    "\n",
    "bars1 = alt.Chart(cases_by_sex_long_form.reset_index()).mark_bar().encode(\n",
    "    x=alt.X(\"Fecha\", axis=alt.Axis(title=\"\")),\n",
    "    y=alt.Y(\"Casos confirmados\"),\n",
    "    tooltip = [\"Fecha\", \"Casos confirmados\"],\n",
    "    color=color\n",
    ").add_selection(\n",
    "    selection1, selection2\n",
    ").transform_filter(\n",
    "    selection1\n",
    ")\n",
    "\n",
    "legend = alt.Chart(cases_by_sex_long_form.reset_index()).mark_point().encode(\n",
    "    y=alt.Y('Sexo:N', axis=alt.Axis(orient='right')),\n",
    "    color=color\n",
    ").add_selection(\n",
    "    selection1, selection2\n",
    ")\n",
    "\n",
    "bars2 = alt.Chart(cases_by_sex_long_form.reset_index()).mark_bar().encode(\n",
    "    x=alt.X(\"Fecha\", axis=alt.Axis(title=\"Fecha\", ticks=False, labels=False)),\n",
    "    y=alt.Y(\"Casos confirmados\", axis=alt.Axis(title=\"Normalizados\", format='%'), stack=\"normalize\"),\n",
    "    color=color,\n",
    "    tooltip = [\"Fecha\", \"Casos confirmados\"],\n",
    ").add_selection(\n",
    "    selection1, selection2\n",
    ").transform_filter(\n",
    "    selection1\n",
    ")\n",
    "\n",
    "alt.vconcat(\n",
    "    bars1.properties(\n",
    "        title = 'COVID-19 en Chile: Evolución de casos confirmados por sexo',\n",
    "        width=600) | legend,\n",
    "    bars2.properties(\n",
    "        height = 80,\n",
    "        width=600)\n",
    ").configure_view(\n",
    "    stroke=None\n",
    ").configure_concat(\n",
    "    spacing=1\n",
    ")"
   ]
  },
  {
   "cell_type": "code",
   "execution_count": 37,
   "metadata": {},
   "outputs": [],
   "source": [
    "#hide\n",
    "#country_population = pd.read_csv(\"http://www.ine.cl/docs/default-source/proyecciones-de-poblacion/cuadros-estadisticos/base-2017/ine_estimaciones-y-proyecciones-de-poblaci%C3%B3n-1992-2050_base-2017_base-de-datos.csv\",\n",
    "#                         encoding='ISO-8859-1', sep=\";\", header=1, thousands='.')"
   ]
  },
  {
   "cell_type": "code",
   "execution_count": 38,
   "metadata": {},
   "outputs": [],
   "source": [
    "#hide\n",
    "#country_population.query(\"EDAD == 'TOTAL'\")"
   ]
  },
  {
   "cell_type": "code",
   "execution_count": 39,
   "metadata": {},
   "outputs": [],
   "source": [
    "#hide\n",
    "#pop_hombres = country_population.loc[206, \"2020\"] # 9599101\n",
    "#pop_mujeres = country_population.loc[311, \"2020\"] # 9859209\n",
    "#pop_hombres, pop_mujeres"
   ]
  },
  {
   "cell_type": "code",
   "execution_count": 40,
   "metadata": {},
   "outputs": [],
   "source": [
    "#hide\n",
    "pop_hombres, pop_mujeres = 9599101, 9859209"
   ]
  },
  {
   "cell_type": "code",
   "execution_count": 41,
   "metadata": {},
   "outputs": [],
   "source": [
    "#hide\n",
    "cases_sex = cases_raw.groupby('Sexo').sum()"
   ]
  },
  {
   "cell_type": "code",
   "execution_count": 42,
   "metadata": {},
   "outputs": [
    {
     "data": {
      "text/plain": [
       "Sexo\n",
       "F    514356\n",
       "M    510658\n",
       "Name: 2021-03-15, dtype: int64"
      ]
     },
     "execution_count": 42,
     "metadata": {},
     "output_type": "execute_result"
    }
   ],
   "source": [
    "#hide\n",
    "cases_sex[last_date]"
   ]
  },
  {
   "cell_type": "code",
   "execution_count": 43,
   "metadata": {},
   "outputs": [
    {
     "data": {
      "text/plain": [
       "(510658, 514356)"
      ]
     },
     "execution_count": 43,
     "metadata": {},
     "output_type": "execute_result"
    }
   ],
   "source": [
    "#hide\n",
    "casos_hombres = cases_sex.loc[\"M\",last_date]\n",
    "casos_mujeres = cases_sex.loc[\"F\",last_date]\n",
    "casos_hombres, casos_mujeres"
   ]
  },
  {
   "cell_type": "code",
   "execution_count": 44,
   "metadata": {},
   "outputs": [],
   "source": [
    "#hide\n",
    "df_casos = pd.DataFrame()\n",
    "df_casos[\"Sexo\"] = [\"Hombres\", \"Mujeres\"]\n",
    "df_casos[\"Casos confirmados\"] = [casos_hombres, casos_mujeres]"
   ]
  },
  {
   "cell_type": "code",
   "execution_count": 45,
   "metadata": {},
   "outputs": [
    {
     "data": {
      "text/html": [
       "<div>\n",
       "<style scoped>\n",
       "    .dataframe tbody tr th:only-of-type {\n",
       "        vertical-align: middle;\n",
       "    }\n",
       "\n",
       "    .dataframe tbody tr th {\n",
       "        vertical-align: top;\n",
       "    }\n",
       "\n",
       "    .dataframe thead th {\n",
       "        text-align: right;\n",
       "    }\n",
       "</style>\n",
       "<table border=\"1\" class=\"dataframe\">\n",
       "  <thead>\n",
       "    <tr style=\"text-align: right;\">\n",
       "      <th></th>\n",
       "      <th>Sexo</th>\n",
       "      <th>Casos confirmados</th>\n",
       "    </tr>\n",
       "  </thead>\n",
       "  <tbody>\n",
       "    <tr>\n",
       "      <th>0</th>\n",
       "      <td>Hombres</td>\n",
       "      <td>510658</td>\n",
       "    </tr>\n",
       "    <tr>\n",
       "      <th>1</th>\n",
       "      <td>Mujeres</td>\n",
       "      <td>514356</td>\n",
       "    </tr>\n",
       "  </tbody>\n",
       "</table>\n",
       "</div>"
      ],
      "text/plain": [
       "      Sexo  Casos confirmados\n",
       "0  Hombres             510658\n",
       "1  Mujeres             514356"
      ]
     },
     "execution_count": 45,
     "metadata": {},
     "output_type": "execute_result"
    }
   ],
   "source": [
    "#hide\n",
    "df_casos"
   ]
  },
  {
   "cell_type": "code",
   "execution_count": 46,
   "metadata": {},
   "outputs": [],
   "source": [
    "#hide\n",
    "def my_plot(df, last_date=last_date, precision=0):\n",
    "  field = df.drop(columns='Sexo').columns[0]\n",
    "  bars = alt.Chart(df).mark_bar(opacity=0.9).encode(\n",
    "    x = alt.X(f\"{field}\"),\n",
    "    y = alt.Y(\"Sexo\"),\n",
    "    color = alt.Color('Sexo'),\n",
    "    tooltip = alt.Tooltip(['Sexo:N', f'{field}'])\n",
    "  )\n",
    "  text = alt.Chart(df).mark_text(dx=-22, dy=0, color=\"white\").encode(\n",
    "     x=alt.X(f\"{field}\", stack='zero'),\n",
    "     y=alt.Y('Sexo'),\n",
    "     text=alt.Text(f\"{field}\", format=f',.{precision}f')\n",
    "  )\n",
    "  return (bars+text).properties(\n",
    "    title = f\"{field} por sexo al {pd.to_datetime(last_date).strftime('%d/%m')}\",\n",
    "    width = 600,\n",
    "    height = alt.Step(30)\n",
    "  )"
   ]
  },
  {
   "cell_type": "code",
   "execution_count": 47,
   "metadata": {},
   "outputs": [
    {
     "data": {
      "text/html": [
       "\n",
       "<div id=\"altair-viz-3ee4d858b7da4f988f5406f8d734f533\"></div>\n",
       "<script type=\"text/javascript\">\n",
       "  (function(spec, embedOpt){\n",
       "    let outputDiv = document.currentScript.previousElementSibling;\n",
       "    if (outputDiv.id !== \"altair-viz-3ee4d858b7da4f988f5406f8d734f533\") {\n",
       "      outputDiv = document.getElementById(\"altair-viz-3ee4d858b7da4f988f5406f8d734f533\");\n",
       "    }\n",
       "    const paths = {\n",
       "      \"vega\": \"https://cdn.jsdelivr.net/npm//vega@5?noext\",\n",
       "      \"vega-lib\": \"https://cdn.jsdelivr.net/npm//vega-lib?noext\",\n",
       "      \"vega-lite\": \"https://cdn.jsdelivr.net/npm//vega-lite@4.8.1?noext\",\n",
       "      \"vega-embed\": \"https://cdn.jsdelivr.net/npm//vega-embed@6?noext\",\n",
       "    };\n",
       "\n",
       "    function loadScript(lib) {\n",
       "      return new Promise(function(resolve, reject) {\n",
       "        var s = document.createElement('script');\n",
       "        s.src = paths[lib];\n",
       "        s.async = true;\n",
       "        s.onload = () => resolve(paths[lib]);\n",
       "        s.onerror = () => reject(`Error loading script: ${paths[lib]}`);\n",
       "        document.getElementsByTagName(\"head\")[0].appendChild(s);\n",
       "      });\n",
       "    }\n",
       "\n",
       "    function showError(err) {\n",
       "      outputDiv.innerHTML = `<div class=\"error\" style=\"color:red;\">${err}</div>`;\n",
       "      throw err;\n",
       "    }\n",
       "\n",
       "    function displayChart(vegaEmbed) {\n",
       "      vegaEmbed(outputDiv, spec, embedOpt)\n",
       "        .catch(err => showError(`Javascript Error: ${err.message}<br>This usually means there's a typo in your chart specification. See the javascript console for the full traceback.`));\n",
       "    }\n",
       "\n",
       "    if(typeof define === \"function\" && define.amd) {\n",
       "      requirejs.config({paths});\n",
       "      require([\"vega-embed\"], displayChart, err => showError(`Error loading script: ${err.message}`));\n",
       "    } else if (typeof vegaEmbed === \"function\") {\n",
       "      displayChart(vegaEmbed);\n",
       "    } else {\n",
       "      loadScript(\"vega\")\n",
       "        .then(() => loadScript(\"vega-lite\"))\n",
       "        .then(() => loadScript(\"vega-embed\"))\n",
       "        .catch(showError)\n",
       "        .then(() => displayChart(vegaEmbed));\n",
       "    }\n",
       "  })({\"config\": {\"view\": {\"continuousWidth\": 400, \"continuousHeight\": 300}}, \"layer\": [{\"mark\": {\"type\": \"bar\", \"opacity\": 0.9}, \"encoding\": {\"color\": {\"type\": \"nominal\", \"field\": \"Sexo\"}, \"tooltip\": [{\"type\": \"nominal\", \"field\": \"Sexo\"}, {\"type\": \"quantitative\", \"field\": \"Casos confirmados\"}], \"x\": {\"type\": \"quantitative\", \"field\": \"Casos confirmados\"}, \"y\": {\"type\": \"nominal\", \"field\": \"Sexo\"}}}, {\"mark\": {\"type\": \"text\", \"color\": \"white\", \"dx\": -22, \"dy\": 0}, \"encoding\": {\"text\": {\"type\": \"quantitative\", \"field\": \"Casos confirmados\", \"format\": \",.0f\"}, \"x\": {\"type\": \"quantitative\", \"field\": \"Casos confirmados\", \"stack\": \"zero\"}, \"y\": {\"type\": \"nominal\", \"field\": \"Sexo\"}}}], \"data\": {\"name\": \"data-9475ddf6efcae2a72adf2ff60f0fbbb6\"}, \"height\": {\"step\": 30}, \"title\": \"Casos confirmados por sexo al 15/03\", \"width\": 600, \"$schema\": \"https://vega.github.io/schema/vega-lite/v4.8.1.json\", \"datasets\": {\"data-9475ddf6efcae2a72adf2ff60f0fbbb6\": [{\"Sexo\": \"Hombres\", \"Casos confirmados\": 510658}, {\"Sexo\": \"Mujeres\", \"Casos confirmados\": 514356}]}}, {\"mode\": \"vega-lite\"});\n",
       "</script>"
      ],
      "text/plain": [
       "alt.LayerChart(...)"
      ]
     },
     "execution_count": 47,
     "metadata": {},
     "output_type": "execute_result"
    }
   ],
   "source": [
    "#hide\n",
    "my_plot(df_casos)"
   ]
  },
  {
   "cell_type": "code",
   "execution_count": 48,
   "metadata": {},
   "outputs": [],
   "source": [
    "#hide\n",
    "ti_hombres = 100000*casos_hombres/pop_hombres\n",
    "ti_mujeres = 100000*casos_mujeres/pop_mujeres"
   ]
  },
  {
   "cell_type": "code",
   "execution_count": 49,
   "metadata": {},
   "outputs": [],
   "source": [
    "#hide\n",
    "df_ti = pd.DataFrame()\n",
    "df_ti[\"Sexo\"] = [\"Hombres\", \"Mujeres\"]\n",
    "df_ti[\"Tasa de incidencia\"] = [ti_hombres, ti_mujeres]"
   ]
  },
  {
   "cell_type": "code",
   "execution_count": 50,
   "metadata": {},
   "outputs": [
    {
     "data": {
      "text/html": [
       "\n",
       "<div id=\"altair-viz-c73c31ae2ff6418886a46b45b354d55d\"></div>\n",
       "<script type=\"text/javascript\">\n",
       "  (function(spec, embedOpt){\n",
       "    let outputDiv = document.currentScript.previousElementSibling;\n",
       "    if (outputDiv.id !== \"altair-viz-c73c31ae2ff6418886a46b45b354d55d\") {\n",
       "      outputDiv = document.getElementById(\"altair-viz-c73c31ae2ff6418886a46b45b354d55d\");\n",
       "    }\n",
       "    const paths = {\n",
       "      \"vega\": \"https://cdn.jsdelivr.net/npm//vega@5?noext\",\n",
       "      \"vega-lib\": \"https://cdn.jsdelivr.net/npm//vega-lib?noext\",\n",
       "      \"vega-lite\": \"https://cdn.jsdelivr.net/npm//vega-lite@4.8.1?noext\",\n",
       "      \"vega-embed\": \"https://cdn.jsdelivr.net/npm//vega-embed@6?noext\",\n",
       "    };\n",
       "\n",
       "    function loadScript(lib) {\n",
       "      return new Promise(function(resolve, reject) {\n",
       "        var s = document.createElement('script');\n",
       "        s.src = paths[lib];\n",
       "        s.async = true;\n",
       "        s.onload = () => resolve(paths[lib]);\n",
       "        s.onerror = () => reject(`Error loading script: ${paths[lib]}`);\n",
       "        document.getElementsByTagName(\"head\")[0].appendChild(s);\n",
       "      });\n",
       "    }\n",
       "\n",
       "    function showError(err) {\n",
       "      outputDiv.innerHTML = `<div class=\"error\" style=\"color:red;\">${err}</div>`;\n",
       "      throw err;\n",
       "    }\n",
       "\n",
       "    function displayChart(vegaEmbed) {\n",
       "      vegaEmbed(outputDiv, spec, embedOpt)\n",
       "        .catch(err => showError(`Javascript Error: ${err.message}<br>This usually means there's a typo in your chart specification. See the javascript console for the full traceback.`));\n",
       "    }\n",
       "\n",
       "    if(typeof define === \"function\" && define.amd) {\n",
       "      requirejs.config({paths});\n",
       "      require([\"vega-embed\"], displayChart, err => showError(`Error loading script: ${err.message}`));\n",
       "    } else if (typeof vegaEmbed === \"function\") {\n",
       "      displayChart(vegaEmbed);\n",
       "    } else {\n",
       "      loadScript(\"vega\")\n",
       "        .then(() => loadScript(\"vega-lite\"))\n",
       "        .then(() => loadScript(\"vega-embed\"))\n",
       "        .catch(showError)\n",
       "        .then(() => displayChart(vegaEmbed));\n",
       "    }\n",
       "  })({\"config\": {\"view\": {\"continuousWidth\": 400, \"continuousHeight\": 300}}, \"layer\": [{\"mark\": {\"type\": \"bar\", \"opacity\": 0.9}, \"encoding\": {\"color\": {\"type\": \"nominal\", \"field\": \"Sexo\"}, \"tooltip\": [{\"type\": \"nominal\", \"field\": \"Sexo\"}, {\"type\": \"quantitative\", \"field\": \"Tasa de incidencia\"}], \"x\": {\"type\": \"quantitative\", \"field\": \"Tasa de incidencia\"}, \"y\": {\"type\": \"nominal\", \"field\": \"Sexo\"}}}, {\"mark\": {\"type\": \"text\", \"color\": \"white\", \"dx\": -22, \"dy\": 0}, \"encoding\": {\"text\": {\"type\": \"quantitative\", \"field\": \"Tasa de incidencia\", \"format\": \",.0f\"}, \"x\": {\"type\": \"quantitative\", \"field\": \"Tasa de incidencia\", \"stack\": \"zero\"}, \"y\": {\"type\": \"nominal\", \"field\": \"Sexo\"}}}], \"data\": {\"name\": \"data-f12da010072180cb094e0f374602f98b\"}, \"height\": {\"step\": 30}, \"title\": \"Tasa de incidencia por sexo al 15/03\", \"width\": 600, \"$schema\": \"https://vega.github.io/schema/vega-lite/v4.8.1.json\", \"datasets\": {\"data-f12da010072180cb094e0f374602f98b\": [{\"Sexo\": \"Hombres\", \"Tasa de incidencia\": 5319.852348673068}, {\"Sexo\": \"Mujeres\", \"Tasa de incidencia\": 5217.010816993534}]}}, {\"mode\": \"vega-lite\"});\n",
       "</script>"
      ],
      "text/plain": [
       "alt.LayerChart(...)"
      ]
     },
     "execution_count": 50,
     "metadata": {},
     "output_type": "execute_result"
    }
   ],
   "source": [
    "#hide\n",
    "my_plot(df_ti, last_date)"
   ]
  },
  {
   "cell_type": "code",
   "execution_count": 51,
   "metadata": {},
   "outputs": [],
   "source": [
    "#hide\n",
    "covid19_deaths_raw = pd.read_csv(\n",
    "    \"/Users/alonsosilva/COVID-19/DEFUNCIONES_FUENTE_DEIS_2016_2020_03072020.csv\", sep=\";\")"
   ]
  },
  {
   "cell_type": "code",
   "execution_count": 52,
   "metadata": {},
   "outputs": [],
   "source": [
    "#hide\n",
    "#covid19_deaths_raw = pd.read_csv(\n",
    "#    \"https://raw.githubusercontent.com/alonsosilvaallende/COVID-19/master/data/DEIS_causa_COVID.csv\")"
   ]
  },
  {
   "cell_type": "code",
   "execution_count": 53,
   "metadata": {},
   "outputs": [],
   "source": [
    "#hide\n",
    "covid19_deaths_raw = covid19_deaths_raw.T.reset_index().T"
   ]
  },
  {
   "cell_type": "code",
   "execution_count": 54,
   "metadata": {},
   "outputs": [],
   "source": [
    "#hide\n",
    "covid19_deaths_raw = covid19_deaths_raw.rename(\n",
    "    columns={0:\"año\",\n",
    "             1:\"fecha\",\n",
    "             2:\"género\", \n",
    "             3:\"edad\", \n",
    "             4:\"comuna_código\", \n",
    "             5:\"comuna\", \n",
    "             6:\"región\", \n",
    "             7:\"código_detalle\",\n",
    "             8:\"causa_detalle\",\n",
    "             9:\"código\",\n",
    "            10:\"causa\"})"
   ]
  },
  {
   "cell_type": "code",
   "execution_count": 55,
   "metadata": {},
   "outputs": [
    {
     "data": {
      "text/plain": [
       "'2020-07-03'"
      ]
     },
     "execution_count": 55,
     "metadata": {},
     "output_type": "execute_result"
    }
   ],
   "source": [
    "#hide\n",
    "deaths_last_date = (pd.to_datetime(covid19_deaths_raw[\"fecha\"]).sort_values().iloc[-1]+pd.offsets.Day(1)).strftime(\"%Y-%m-%d\")\n",
    "deaths_last_date"
   ]
  },
  {
   "cell_type": "code",
   "execution_count": 56,
   "metadata": {},
   "outputs": [],
   "source": [
    "#hide\n",
    "confirmado = covid19_deaths_raw.query(\"código_detalle == 'U07.1'\")"
   ]
  },
  {
   "cell_type": "code",
   "execution_count": 57,
   "metadata": {},
   "outputs": [
    {
     "data": {
      "text/plain": [
       "(4090, 2967)"
      ]
     },
     "execution_count": 57,
     "metadata": {},
     "output_type": "execute_result"
    }
   ],
   "source": [
    "#hide\n",
    "muertes_hombres = len(confirmado.query(\"género == 'Hombre'\"))\n",
    "muertes_mujeres = len(confirmado.query(\"género == 'Mujer'\"))\n",
    "muertes_hombres, muertes_mujeres"
   ]
  },
  {
   "cell_type": "code",
   "execution_count": 58,
   "metadata": {},
   "outputs": [],
   "source": [
    "#hide\n",
    "df_muertes = pd.DataFrame()\n",
    "df_muertes[\"Sexo\"] = [\"Hombres\", \"Mujeres\"]\n",
    "df_muertes[\"Fallecimientos confirmados\"] = [muertes_hombres, muertes_mujeres]"
   ]
  },
  {
   "cell_type": "code",
   "execution_count": 59,
   "metadata": {},
   "outputs": [
    {
     "data": {
      "text/html": [
       "<div>\n",
       "<style scoped>\n",
       "    .dataframe tbody tr th:only-of-type {\n",
       "        vertical-align: middle;\n",
       "    }\n",
       "\n",
       "    .dataframe tbody tr th {\n",
       "        vertical-align: top;\n",
       "    }\n",
       "\n",
       "    .dataframe thead th {\n",
       "        text-align: right;\n",
       "    }\n",
       "</style>\n",
       "<table border=\"1\" class=\"dataframe\">\n",
       "  <thead>\n",
       "    <tr style=\"text-align: right;\">\n",
       "      <th></th>\n",
       "      <th>Sexo</th>\n",
       "      <th>Fallecimientos confirmados</th>\n",
       "    </tr>\n",
       "  </thead>\n",
       "  <tbody>\n",
       "    <tr>\n",
       "      <th>0</th>\n",
       "      <td>Hombres</td>\n",
       "      <td>4090</td>\n",
       "    </tr>\n",
       "    <tr>\n",
       "      <th>1</th>\n",
       "      <td>Mujeres</td>\n",
       "      <td>2967</td>\n",
       "    </tr>\n",
       "  </tbody>\n",
       "</table>\n",
       "</div>"
      ],
      "text/plain": [
       "      Sexo  Fallecimientos confirmados\n",
       "0  Hombres                        4090\n",
       "1  Mujeres                        2967"
      ]
     },
     "execution_count": 59,
     "metadata": {},
     "output_type": "execute_result"
    }
   ],
   "source": [
    "#hide\n",
    "df_muertes"
   ]
  },
  {
   "cell_type": "code",
   "execution_count": 60,
   "metadata": {},
   "outputs": [
    {
     "data": {
      "text/html": [
       "\n",
       "<div id=\"altair-viz-82407d010b524bc3bcff39aec7890d4c\"></div>\n",
       "<script type=\"text/javascript\">\n",
       "  (function(spec, embedOpt){\n",
       "    let outputDiv = document.currentScript.previousElementSibling;\n",
       "    if (outputDiv.id !== \"altair-viz-82407d010b524bc3bcff39aec7890d4c\") {\n",
       "      outputDiv = document.getElementById(\"altair-viz-82407d010b524bc3bcff39aec7890d4c\");\n",
       "    }\n",
       "    const paths = {\n",
       "      \"vega\": \"https://cdn.jsdelivr.net/npm//vega@5?noext\",\n",
       "      \"vega-lib\": \"https://cdn.jsdelivr.net/npm//vega-lib?noext\",\n",
       "      \"vega-lite\": \"https://cdn.jsdelivr.net/npm//vega-lite@4.8.1?noext\",\n",
       "      \"vega-embed\": \"https://cdn.jsdelivr.net/npm//vega-embed@6?noext\",\n",
       "    };\n",
       "\n",
       "    function loadScript(lib) {\n",
       "      return new Promise(function(resolve, reject) {\n",
       "        var s = document.createElement('script');\n",
       "        s.src = paths[lib];\n",
       "        s.async = true;\n",
       "        s.onload = () => resolve(paths[lib]);\n",
       "        s.onerror = () => reject(`Error loading script: ${paths[lib]}`);\n",
       "        document.getElementsByTagName(\"head\")[0].appendChild(s);\n",
       "      });\n",
       "    }\n",
       "\n",
       "    function showError(err) {\n",
       "      outputDiv.innerHTML = `<div class=\"error\" style=\"color:red;\">${err}</div>`;\n",
       "      throw err;\n",
       "    }\n",
       "\n",
       "    function displayChart(vegaEmbed) {\n",
       "      vegaEmbed(outputDiv, spec, embedOpt)\n",
       "        .catch(err => showError(`Javascript Error: ${err.message}<br>This usually means there's a typo in your chart specification. See the javascript console for the full traceback.`));\n",
       "    }\n",
       "\n",
       "    if(typeof define === \"function\" && define.amd) {\n",
       "      requirejs.config({paths});\n",
       "      require([\"vega-embed\"], displayChart, err => showError(`Error loading script: ${err.message}`));\n",
       "    } else if (typeof vegaEmbed === \"function\") {\n",
       "      displayChart(vegaEmbed);\n",
       "    } else {\n",
       "      loadScript(\"vega\")\n",
       "        .then(() => loadScript(\"vega-lite\"))\n",
       "        .then(() => loadScript(\"vega-embed\"))\n",
       "        .catch(showError)\n",
       "        .then(() => displayChart(vegaEmbed));\n",
       "    }\n",
       "  })({\"config\": {\"view\": {\"continuousWidth\": 400, \"continuousHeight\": 300}}, \"layer\": [{\"mark\": {\"type\": \"bar\", \"opacity\": 0.9}, \"encoding\": {\"color\": {\"type\": \"nominal\", \"field\": \"Sexo\"}, \"tooltip\": [{\"type\": \"nominal\", \"field\": \"Sexo\"}, {\"type\": \"quantitative\", \"field\": \"Fallecimientos confirmados\"}], \"x\": {\"type\": \"quantitative\", \"field\": \"Fallecimientos confirmados\"}, \"y\": {\"type\": \"nominal\", \"field\": \"Sexo\"}}}, {\"mark\": {\"type\": \"text\", \"color\": \"white\", \"dx\": -22, \"dy\": 0}, \"encoding\": {\"text\": {\"type\": \"quantitative\", \"field\": \"Fallecimientos confirmados\", \"format\": \",.0f\"}, \"x\": {\"type\": \"quantitative\", \"field\": \"Fallecimientos confirmados\", \"stack\": \"zero\"}, \"y\": {\"type\": \"nominal\", \"field\": \"Sexo\"}}}], \"data\": {\"name\": \"data-b200e8ddfb07951ff44809cb2c7343ec\"}, \"height\": {\"step\": 30}, \"title\": \"Fallecimientos confirmados por sexo al 03/07\", \"width\": 600, \"$schema\": \"https://vega.github.io/schema/vega-lite/v4.8.1.json\", \"datasets\": {\"data-b200e8ddfb07951ff44809cb2c7343ec\": [{\"Sexo\": \"Hombres\", \"Fallecimientos confirmados\": 4090}, {\"Sexo\": \"Mujeres\", \"Fallecimientos confirmados\": 2967}]}}, {\"mode\": \"vega-lite\"});\n",
       "</script>"
      ],
      "text/plain": [
       "alt.LayerChart(...)"
      ]
     },
     "execution_count": 60,
     "metadata": {},
     "output_type": "execute_result"
    }
   ],
   "source": [
    "#hide\n",
    "my_plot(df_muertes, deaths_last_date)"
   ]
  },
  {
   "cell_type": "code",
   "execution_count": 61,
   "metadata": {},
   "outputs": [],
   "source": [
    "#hide\n",
    "tm_hombres = 100000*muertes_hombres/pop_hombres\n",
    "tm_mujeres = 100000*muertes_mujeres/pop_mujeres"
   ]
  },
  {
   "cell_type": "code",
   "execution_count": 62,
   "metadata": {},
   "outputs": [],
   "source": [
    "#hide\n",
    "df_tm = pd.DataFrame()\n",
    "df_tm[\"Sexo\"] = [\"Hombres\", \"Mujeres\"]\n",
    "df_tm[\"Tasa de mortalidad\"] = [tm_hombres, tm_mujeres]"
   ]
  },
  {
   "cell_type": "code",
   "execution_count": 63,
   "metadata": {},
   "outputs": [
    {
     "data": {
      "text/html": [
       "<div>\n",
       "<style scoped>\n",
       "    .dataframe tbody tr th:only-of-type {\n",
       "        vertical-align: middle;\n",
       "    }\n",
       "\n",
       "    .dataframe tbody tr th {\n",
       "        vertical-align: top;\n",
       "    }\n",
       "\n",
       "    .dataframe thead th {\n",
       "        text-align: right;\n",
       "    }\n",
       "</style>\n",
       "<table border=\"1\" class=\"dataframe\">\n",
       "  <thead>\n",
       "    <tr style=\"text-align: right;\">\n",
       "      <th></th>\n",
       "      <th>Sexo</th>\n",
       "      <th>Tasa de mortalidad</th>\n",
       "    </tr>\n",
       "  </thead>\n",
       "  <tbody>\n",
       "    <tr>\n",
       "      <th>0</th>\n",
       "      <td>Hombres</td>\n",
       "      <td>42.608157</td>\n",
       "    </tr>\n",
       "    <tr>\n",
       "      <th>1</th>\n",
       "      <td>Mujeres</td>\n",
       "      <td>30.093692</td>\n",
       "    </tr>\n",
       "  </tbody>\n",
       "</table>\n",
       "</div>"
      ],
      "text/plain": [
       "      Sexo  Tasa de mortalidad\n",
       "0  Hombres           42.608157\n",
       "1  Mujeres           30.093692"
      ]
     },
     "execution_count": 63,
     "metadata": {},
     "output_type": "execute_result"
    }
   ],
   "source": [
    "#hide\n",
    "df_tm"
   ]
  },
  {
   "cell_type": "code",
   "execution_count": 64,
   "metadata": {
    "scrolled": true
   },
   "outputs": [
    {
     "data": {
      "text/html": [
       "\n",
       "<div id=\"altair-viz-19ae43aab5f243cfb014aac741b0be06\"></div>\n",
       "<script type=\"text/javascript\">\n",
       "  (function(spec, embedOpt){\n",
       "    let outputDiv = document.currentScript.previousElementSibling;\n",
       "    if (outputDiv.id !== \"altair-viz-19ae43aab5f243cfb014aac741b0be06\") {\n",
       "      outputDiv = document.getElementById(\"altair-viz-19ae43aab5f243cfb014aac741b0be06\");\n",
       "    }\n",
       "    const paths = {\n",
       "      \"vega\": \"https://cdn.jsdelivr.net/npm//vega@5?noext\",\n",
       "      \"vega-lib\": \"https://cdn.jsdelivr.net/npm//vega-lib?noext\",\n",
       "      \"vega-lite\": \"https://cdn.jsdelivr.net/npm//vega-lite@4.8.1?noext\",\n",
       "      \"vega-embed\": \"https://cdn.jsdelivr.net/npm//vega-embed@6?noext\",\n",
       "    };\n",
       "\n",
       "    function loadScript(lib) {\n",
       "      return new Promise(function(resolve, reject) {\n",
       "        var s = document.createElement('script');\n",
       "        s.src = paths[lib];\n",
       "        s.async = true;\n",
       "        s.onload = () => resolve(paths[lib]);\n",
       "        s.onerror = () => reject(`Error loading script: ${paths[lib]}`);\n",
       "        document.getElementsByTagName(\"head\")[0].appendChild(s);\n",
       "      });\n",
       "    }\n",
       "\n",
       "    function showError(err) {\n",
       "      outputDiv.innerHTML = `<div class=\"error\" style=\"color:red;\">${err}</div>`;\n",
       "      throw err;\n",
       "    }\n",
       "\n",
       "    function displayChart(vegaEmbed) {\n",
       "      vegaEmbed(outputDiv, spec, embedOpt)\n",
       "        .catch(err => showError(`Javascript Error: ${err.message}<br>This usually means there's a typo in your chart specification. See the javascript console for the full traceback.`));\n",
       "    }\n",
       "\n",
       "    if(typeof define === \"function\" && define.amd) {\n",
       "      requirejs.config({paths});\n",
       "      require([\"vega-embed\"], displayChart, err => showError(`Error loading script: ${err.message}`));\n",
       "    } else if (typeof vegaEmbed === \"function\") {\n",
       "      displayChart(vegaEmbed);\n",
       "    } else {\n",
       "      loadScript(\"vega\")\n",
       "        .then(() => loadScript(\"vega-lite\"))\n",
       "        .then(() => loadScript(\"vega-embed\"))\n",
       "        .catch(showError)\n",
       "        .then(() => displayChart(vegaEmbed));\n",
       "    }\n",
       "  })({\"config\": {\"view\": {\"continuousWidth\": 400, \"continuousHeight\": 300}}, \"layer\": [{\"mark\": {\"type\": \"bar\", \"opacity\": 0.9}, \"encoding\": {\"color\": {\"type\": \"nominal\", \"field\": \"Sexo\"}, \"tooltip\": [{\"type\": \"nominal\", \"field\": \"Sexo\"}, {\"type\": \"quantitative\", \"field\": \"Tasa de mortalidad\"}], \"x\": {\"type\": \"quantitative\", \"field\": \"Tasa de mortalidad\"}, \"y\": {\"type\": \"nominal\", \"field\": \"Sexo\"}}}, {\"mark\": {\"type\": \"text\", \"color\": \"white\", \"dx\": -22, \"dy\": 0}, \"encoding\": {\"text\": {\"type\": \"quantitative\", \"field\": \"Tasa de mortalidad\", \"format\": \",.1f\"}, \"x\": {\"type\": \"quantitative\", \"field\": \"Tasa de mortalidad\", \"stack\": \"zero\"}, \"y\": {\"type\": \"nominal\", \"field\": \"Sexo\"}}}], \"data\": {\"name\": \"data-5eb6f04861a33ff14d1e13b2174a7b1d\"}, \"height\": {\"step\": 30}, \"title\": \"Tasa de mortalidad por sexo al 03/07\", \"width\": 600, \"$schema\": \"https://vega.github.io/schema/vega-lite/v4.8.1.json\", \"datasets\": {\"data-5eb6f04861a33ff14d1e13b2174a7b1d\": [{\"Sexo\": \"Hombres\", \"Tasa de mortalidad\": 42.60815674301166}, {\"Sexo\": \"Mujeres\", \"Tasa de mortalidad\": 30.093692100451467}]}}, {\"mode\": \"vega-lite\"});\n",
       "</script>"
      ],
      "text/plain": [
       "alt.LayerChart(...)"
      ]
     },
     "execution_count": 64,
     "metadata": {},
     "output_type": "execute_result"
    }
   ],
   "source": [
    "#hide\n",
    "my_plot(df_tm, deaths_last_date, 1)"
   ]
  },
  {
   "cell_type": "code",
   "execution_count": 65,
   "metadata": {},
   "outputs": [
    {
     "data": {
      "text/plain": [
       "(151336, 140852)"
      ]
     },
     "execution_count": 65,
     "metadata": {},
     "output_type": "execute_result"
    }
   ],
   "source": [
    "#hide\n",
    "df_cfr = pd.DataFrame()\n",
    "df_cfr[\"Sexo\"] = [\"Hombres\", \"Mujeres\"]\n",
    "casos_hombres = cases_sex.loc[\"M\",\"2020-07-01\"]\n",
    "casos_mujeres = cases_sex.loc[\"F\",\"2020-07-01\"]\n",
    "casos_hombres, casos_mujeres"
   ]
  },
  {
   "cell_type": "code",
   "execution_count": 66,
   "metadata": {},
   "outputs": [
    {
     "data": {
      "text/plain": [
       "(2.7025955489771105, 2.106466361854997)"
      ]
     },
     "execution_count": 66,
     "metadata": {},
     "output_type": "execute_result"
    }
   ],
   "source": [
    "#hide\n",
    "cfr_hombres = 100*muertes_hombres/casos_hombres\n",
    "cfr_mujeres = 100*muertes_mujeres/casos_mujeres\n",
    "cfr_hombres, cfr_mujeres"
   ]
  },
  {
   "cell_type": "code",
   "execution_count": 67,
   "metadata": {},
   "outputs": [],
   "source": [
    "#hide\n",
    "df_cfr[\"Tasa de letalidad (CFR)\"] = [cfr_hombres, cfr_mujeres]"
   ]
  },
  {
   "cell_type": "code",
   "execution_count": 68,
   "metadata": {},
   "outputs": [
    {
     "data": {
      "text/html": [
       "<div>\n",
       "<style scoped>\n",
       "    .dataframe tbody tr th:only-of-type {\n",
       "        vertical-align: middle;\n",
       "    }\n",
       "\n",
       "    .dataframe tbody tr th {\n",
       "        vertical-align: top;\n",
       "    }\n",
       "\n",
       "    .dataframe thead th {\n",
       "        text-align: right;\n",
       "    }\n",
       "</style>\n",
       "<table border=\"1\" class=\"dataframe\">\n",
       "  <thead>\n",
       "    <tr style=\"text-align: right;\">\n",
       "      <th></th>\n",
       "      <th>Sexo</th>\n",
       "      <th>Tasa de letalidad (CFR)</th>\n",
       "    </tr>\n",
       "  </thead>\n",
       "  <tbody>\n",
       "    <tr>\n",
       "      <th>0</th>\n",
       "      <td>Hombres</td>\n",
       "      <td>2.702596</td>\n",
       "    </tr>\n",
       "    <tr>\n",
       "      <th>1</th>\n",
       "      <td>Mujeres</td>\n",
       "      <td>2.106466</td>\n",
       "    </tr>\n",
       "  </tbody>\n",
       "</table>\n",
       "</div>"
      ],
      "text/plain": [
       "      Sexo  Tasa de letalidad (CFR)\n",
       "0  Hombres                 2.702596\n",
       "1  Mujeres                 2.106466"
      ]
     },
     "execution_count": 68,
     "metadata": {},
     "output_type": "execute_result"
    }
   ],
   "source": [
    "#hide\n",
    "df_cfr"
   ]
  },
  {
   "cell_type": "code",
   "execution_count": 69,
   "metadata": {},
   "outputs": [
    {
     "data": {
      "text/html": [
       "\n",
       "<div id=\"altair-viz-522b0859c60c4aeab21097044fd39a13\"></div>\n",
       "<script type=\"text/javascript\">\n",
       "  (function(spec, embedOpt){\n",
       "    let outputDiv = document.currentScript.previousElementSibling;\n",
       "    if (outputDiv.id !== \"altair-viz-522b0859c60c4aeab21097044fd39a13\") {\n",
       "      outputDiv = document.getElementById(\"altair-viz-522b0859c60c4aeab21097044fd39a13\");\n",
       "    }\n",
       "    const paths = {\n",
       "      \"vega\": \"https://cdn.jsdelivr.net/npm//vega@5?noext\",\n",
       "      \"vega-lib\": \"https://cdn.jsdelivr.net/npm//vega-lib?noext\",\n",
       "      \"vega-lite\": \"https://cdn.jsdelivr.net/npm//vega-lite@4.8.1?noext\",\n",
       "      \"vega-embed\": \"https://cdn.jsdelivr.net/npm//vega-embed@6?noext\",\n",
       "    };\n",
       "\n",
       "    function loadScript(lib) {\n",
       "      return new Promise(function(resolve, reject) {\n",
       "        var s = document.createElement('script');\n",
       "        s.src = paths[lib];\n",
       "        s.async = true;\n",
       "        s.onload = () => resolve(paths[lib]);\n",
       "        s.onerror = () => reject(`Error loading script: ${paths[lib]}`);\n",
       "        document.getElementsByTagName(\"head\")[0].appendChild(s);\n",
       "      });\n",
       "    }\n",
       "\n",
       "    function showError(err) {\n",
       "      outputDiv.innerHTML = `<div class=\"error\" style=\"color:red;\">${err}</div>`;\n",
       "      throw err;\n",
       "    }\n",
       "\n",
       "    function displayChart(vegaEmbed) {\n",
       "      vegaEmbed(outputDiv, spec, embedOpt)\n",
       "        .catch(err => showError(`Javascript Error: ${err.message}<br>This usually means there's a typo in your chart specification. See the javascript console for the full traceback.`));\n",
       "    }\n",
       "\n",
       "    if(typeof define === \"function\" && define.amd) {\n",
       "      requirejs.config({paths});\n",
       "      require([\"vega-embed\"], displayChart, err => showError(`Error loading script: ${err.message}`));\n",
       "    } else if (typeof vegaEmbed === \"function\") {\n",
       "      displayChart(vegaEmbed);\n",
       "    } else {\n",
       "      loadScript(\"vega\")\n",
       "        .then(() => loadScript(\"vega-lite\"))\n",
       "        .then(() => loadScript(\"vega-embed\"))\n",
       "        .catch(showError)\n",
       "        .then(() => displayChart(vegaEmbed));\n",
       "    }\n",
       "  })({\"config\": {\"view\": {\"continuousWidth\": 400, \"continuousHeight\": 300}}, \"layer\": [{\"mark\": {\"type\": \"bar\", \"opacity\": 0.9}, \"encoding\": {\"color\": {\"type\": \"nominal\", \"field\": \"Sexo\"}, \"tooltip\": [{\"type\": \"nominal\", \"field\": \"Sexo\"}, {\"type\": \"quantitative\", \"field\": \"Tasa de letalidad (CFR)\"}], \"x\": {\"type\": \"quantitative\", \"field\": \"Tasa de letalidad (CFR)\"}, \"y\": {\"type\": \"nominal\", \"field\": \"Sexo\"}}}, {\"mark\": {\"type\": \"text\", \"color\": \"white\", \"dx\": -22, \"dy\": 0}, \"encoding\": {\"text\": {\"type\": \"quantitative\", \"field\": \"Tasa de letalidad (CFR)\", \"format\": \",.2f\"}, \"x\": {\"type\": \"quantitative\", \"field\": \"Tasa de letalidad (CFR)\", \"stack\": \"zero\"}, \"y\": {\"type\": \"nominal\", \"field\": \"Sexo\"}}}], \"data\": {\"name\": \"data-e6ee9696e05480f272c3f161b5fb531c\"}, \"height\": {\"step\": 30}, \"title\": \"Tasa de letalidad (CFR) por sexo al 03/07\", \"width\": 600, \"$schema\": \"https://vega.github.io/schema/vega-lite/v4.8.1.json\", \"datasets\": {\"data-e6ee9696e05480f272c3f161b5fb531c\": [{\"Sexo\": \"Hombres\", \"Tasa de letalidad (CFR)\": 2.7025955489771105}, {\"Sexo\": \"Mujeres\", \"Tasa de letalidad (CFR)\": 2.106466361854997}]}}, {\"mode\": \"vega-lite\"});\n",
       "</script>"
      ],
      "text/plain": [
       "alt.LayerChart(...)"
      ]
     },
     "execution_count": 69,
     "metadata": {},
     "output_type": "execute_result"
    }
   ],
   "source": [
    "#hide\n",
    "my_plot(df_cfr, deaths_last_date, 2)"
   ]
  },
  {
   "cell_type": "code",
   "execution_count": 70,
   "metadata": {},
   "outputs": [
    {
     "data": {
      "text/html": [
       "\n",
       "<div id=\"altair-viz-669ae8dcd7a6449baaa56a37cab818b1\"></div>\n",
       "<script type=\"text/javascript\">\n",
       "  (function(spec, embedOpt){\n",
       "    let outputDiv = document.currentScript.previousElementSibling;\n",
       "    if (outputDiv.id !== \"altair-viz-669ae8dcd7a6449baaa56a37cab818b1\") {\n",
       "      outputDiv = document.getElementById(\"altair-viz-669ae8dcd7a6449baaa56a37cab818b1\");\n",
       "    }\n",
       "    const paths = {\n",
       "      \"vega\": \"https://cdn.jsdelivr.net/npm//vega@5?noext\",\n",
       "      \"vega-lib\": \"https://cdn.jsdelivr.net/npm//vega-lib?noext\",\n",
       "      \"vega-lite\": \"https://cdn.jsdelivr.net/npm//vega-lite@4.8.1?noext\",\n",
       "      \"vega-embed\": \"https://cdn.jsdelivr.net/npm//vega-embed@6?noext\",\n",
       "    };\n",
       "\n",
       "    function loadScript(lib) {\n",
       "      return new Promise(function(resolve, reject) {\n",
       "        var s = document.createElement('script');\n",
       "        s.src = paths[lib];\n",
       "        s.async = true;\n",
       "        s.onload = () => resolve(paths[lib]);\n",
       "        s.onerror = () => reject(`Error loading script: ${paths[lib]}`);\n",
       "        document.getElementsByTagName(\"head\")[0].appendChild(s);\n",
       "      });\n",
       "    }\n",
       "\n",
       "    function showError(err) {\n",
       "      outputDiv.innerHTML = `<div class=\"error\" style=\"color:red;\">${err}</div>`;\n",
       "      throw err;\n",
       "    }\n",
       "\n",
       "    function displayChart(vegaEmbed) {\n",
       "      vegaEmbed(outputDiv, spec, embedOpt)\n",
       "        .catch(err => showError(`Javascript Error: ${err.message}<br>This usually means there's a typo in your chart specification. See the javascript console for the full traceback.`));\n",
       "    }\n",
       "\n",
       "    if(typeof define === \"function\" && define.amd) {\n",
       "      requirejs.config({paths});\n",
       "      require([\"vega-embed\"], displayChart, err => showError(`Error loading script: ${err.message}`));\n",
       "    } else if (typeof vegaEmbed === \"function\") {\n",
       "      displayChart(vegaEmbed);\n",
       "    } else {\n",
       "      loadScript(\"vega\")\n",
       "        .then(() => loadScript(\"vega-lite\"))\n",
       "        .then(() => loadScript(\"vega-embed\"))\n",
       "        .catch(showError)\n",
       "        .then(() => displayChart(vegaEmbed));\n",
       "    }\n",
       "  })({\"config\": {\"view\": {\"continuousWidth\": 400, \"continuousHeight\": 300}}, \"vconcat\": [{\"layer\": [{\"mark\": {\"type\": \"bar\", \"opacity\": 0.9}, \"encoding\": {\"color\": {\"type\": \"nominal\", \"field\": \"Sexo\"}, \"tooltip\": [{\"type\": \"nominal\", \"field\": \"Sexo\"}, {\"type\": \"quantitative\", \"field\": \"Casos confirmados\"}], \"x\": {\"type\": \"quantitative\", \"field\": \"Casos confirmados\"}, \"y\": {\"type\": \"nominal\", \"field\": \"Sexo\"}}}, {\"mark\": {\"type\": \"text\", \"color\": \"white\", \"dx\": -22, \"dy\": 0}, \"encoding\": {\"text\": {\"type\": \"quantitative\", \"field\": \"Casos confirmados\", \"format\": \",.0f\"}, \"x\": {\"type\": \"quantitative\", \"field\": \"Casos confirmados\", \"stack\": \"zero\"}, \"y\": {\"type\": \"nominal\", \"field\": \"Sexo\"}}}], \"data\": {\"name\": \"data-9475ddf6efcae2a72adf2ff60f0fbbb6\"}, \"height\": {\"step\": 30}, \"title\": \"Casos confirmados por sexo al 15/03\", \"width\": 600}, {\"layer\": [{\"mark\": {\"type\": \"bar\", \"opacity\": 0.9}, \"encoding\": {\"color\": {\"type\": \"nominal\", \"field\": \"Sexo\"}, \"tooltip\": [{\"type\": \"nominal\", \"field\": \"Sexo\"}, {\"type\": \"quantitative\", \"field\": \"Fallecimientos confirmados\"}], \"x\": {\"type\": \"quantitative\", \"field\": \"Fallecimientos confirmados\"}, \"y\": {\"type\": \"nominal\", \"field\": \"Sexo\"}}}, {\"mark\": {\"type\": \"text\", \"color\": \"white\", \"dx\": -22, \"dy\": 0}, \"encoding\": {\"text\": {\"type\": \"quantitative\", \"field\": \"Fallecimientos confirmados\", \"format\": \",.0f\"}, \"x\": {\"type\": \"quantitative\", \"field\": \"Fallecimientos confirmados\", \"stack\": \"zero\"}, \"y\": {\"type\": \"nominal\", \"field\": \"Sexo\"}}}], \"data\": {\"name\": \"data-b200e8ddfb07951ff44809cb2c7343ec\"}, \"height\": {\"step\": 30}, \"title\": \"Fallecimientos confirmados por sexo al 03/07\", \"width\": 600}, {\"layer\": [{\"mark\": {\"type\": \"bar\", \"opacity\": 0.9}, \"encoding\": {\"color\": {\"type\": \"nominal\", \"field\": \"Sexo\"}, \"tooltip\": [{\"type\": \"nominal\", \"field\": \"Sexo\"}, {\"type\": \"quantitative\", \"field\": \"Tasa de incidencia\"}], \"x\": {\"type\": \"quantitative\", \"field\": \"Tasa de incidencia\"}, \"y\": {\"type\": \"nominal\", \"field\": \"Sexo\"}}}, {\"mark\": {\"type\": \"text\", \"color\": \"white\", \"dx\": -22, \"dy\": 0}, \"encoding\": {\"text\": {\"type\": \"quantitative\", \"field\": \"Tasa de incidencia\", \"format\": \",.0f\"}, \"x\": {\"type\": \"quantitative\", \"field\": \"Tasa de incidencia\", \"stack\": \"zero\"}, \"y\": {\"type\": \"nominal\", \"field\": \"Sexo\"}}}], \"data\": {\"name\": \"data-f12da010072180cb094e0f374602f98b\"}, \"height\": {\"step\": 30}, \"title\": \"Tasa de incidencia por sexo al 15/03\", \"width\": 600}, {\"layer\": [{\"mark\": {\"type\": \"bar\", \"opacity\": 0.9}, \"encoding\": {\"color\": {\"type\": \"nominal\", \"field\": \"Sexo\"}, \"tooltip\": [{\"type\": \"nominal\", \"field\": \"Sexo\"}, {\"type\": \"quantitative\", \"field\": \"Tasa de mortalidad\"}], \"x\": {\"type\": \"quantitative\", \"field\": \"Tasa de mortalidad\"}, \"y\": {\"type\": \"nominal\", \"field\": \"Sexo\"}}}, {\"mark\": {\"type\": \"text\", \"color\": \"white\", \"dx\": -22, \"dy\": 0}, \"encoding\": {\"text\": {\"type\": \"quantitative\", \"field\": \"Tasa de mortalidad\", \"format\": \",.1f\"}, \"x\": {\"type\": \"quantitative\", \"field\": \"Tasa de mortalidad\", \"stack\": \"zero\"}, \"y\": {\"type\": \"nominal\", \"field\": \"Sexo\"}}}], \"data\": {\"name\": \"data-5eb6f04861a33ff14d1e13b2174a7b1d\"}, \"height\": {\"step\": 30}, \"title\": \"Tasa de mortalidad por sexo al 03/07\", \"width\": 600}, {\"layer\": [{\"mark\": {\"type\": \"bar\", \"opacity\": 0.9}, \"encoding\": {\"color\": {\"type\": \"nominal\", \"field\": \"Sexo\"}, \"tooltip\": [{\"type\": \"nominal\", \"field\": \"Sexo\"}, {\"type\": \"quantitative\", \"field\": \"Tasa de letalidad (CFR)\"}], \"x\": {\"type\": \"quantitative\", \"field\": \"Tasa de letalidad (CFR)\"}, \"y\": {\"type\": \"nominal\", \"field\": \"Sexo\"}}}, {\"mark\": {\"type\": \"text\", \"color\": \"white\", \"dx\": -22, \"dy\": 0}, \"encoding\": {\"text\": {\"type\": \"quantitative\", \"field\": \"Tasa de letalidad (CFR)\", \"format\": \",.2f\"}, \"x\": {\"type\": \"quantitative\", \"field\": \"Tasa de letalidad (CFR)\", \"stack\": \"zero\"}, \"y\": {\"type\": \"nominal\", \"field\": \"Sexo\"}}}], \"data\": {\"name\": \"data-e6ee9696e05480f272c3f161b5fb531c\"}, \"height\": {\"step\": 30}, \"title\": \"Tasa de letalidad (CFR) por sexo al 03/07\", \"width\": 600}], \"$schema\": \"https://vega.github.io/schema/vega-lite/v4.8.1.json\", \"datasets\": {\"data-9475ddf6efcae2a72adf2ff60f0fbbb6\": [{\"Sexo\": \"Hombres\", \"Casos confirmados\": 510658}, {\"Sexo\": \"Mujeres\", \"Casos confirmados\": 514356}], \"data-b200e8ddfb07951ff44809cb2c7343ec\": [{\"Sexo\": \"Hombres\", \"Fallecimientos confirmados\": 4090}, {\"Sexo\": \"Mujeres\", \"Fallecimientos confirmados\": 2967}], \"data-f12da010072180cb094e0f374602f98b\": [{\"Sexo\": \"Hombres\", \"Tasa de incidencia\": 5319.852348673068}, {\"Sexo\": \"Mujeres\", \"Tasa de incidencia\": 5217.010816993534}], \"data-5eb6f04861a33ff14d1e13b2174a7b1d\": [{\"Sexo\": \"Hombres\", \"Tasa de mortalidad\": 42.60815674301166}, {\"Sexo\": \"Mujeres\", \"Tasa de mortalidad\": 30.093692100451467}], \"data-e6ee9696e05480f272c3f161b5fb531c\": [{\"Sexo\": \"Hombres\", \"Tasa de letalidad (CFR)\": 2.7025955489771105}, {\"Sexo\": \"Mujeres\", \"Tasa de letalidad (CFR)\": 2.106466361854997}]}}, {\"mode\": \"vega-lite\"});\n",
       "</script>"
      ],
      "text/plain": [
       "alt.VConcatChart(...)"
      ]
     },
     "execution_count": 70,
     "metadata": {},
     "output_type": "execute_result"
    }
   ],
   "source": [
    "#hide_input\n",
    "alt.vconcat(my_plot(df_casos, last_date), my_plot(df_muertes, deaths_last_date), my_plot(df_ti, last_date), my_plot(df_tm, deaths_last_date, 1), my_plot(df_cfr, deaths_last_date, 2))#.save(f'CC.png', scale_factor=8.0)"
   ]
  },
  {
   "cell_type": "code",
   "execution_count": 71,
   "metadata": {},
   "outputs": [
    {
     "data": {
      "text/markdown": [
       " + Los hombres tienen un 7.4% más casos confirmados y una tasa de incidencia 2.0% mayor que las mujeres al 15/03."
      ],
      "text/plain": [
       "<IPython.core.display.Markdown object>"
      ]
     },
     "metadata": {},
     "output_type": "display_data"
    }
   ],
   "source": [
    "#hide_input\n",
    "display(Markdown(f\" + Los hombres tienen un {100*(casos_hombres/casos_mujeres-1):.1f}% más casos confirmados y una tasa de incidencia {100*(ti_hombres/ti_mujeres-1):.1f}% mayor que las mujeres al {pd.to_datetime(last_date).strftime('%d/%m')}.\"))"
   ]
  },
  {
   "cell_type": "code",
   "execution_count": 72,
   "metadata": {},
   "outputs": [
    {
     "data": {
      "text/markdown": [
       " + Los hombres tienen un 37.8% más fallecimientos confirmados que las mujeres y una tasa de mortalidad 41.6% mayor que las mujeres al 28/06."
      ],
      "text/plain": [
       "<IPython.core.display.Markdown object>"
      ]
     },
     "metadata": {},
     "output_type": "display_data"
    }
   ],
   "source": [
    "#hide_input\n",
    "display(\n",
    "    Markdown(\n",
    "        f\" + Los hombres tienen un {100*(muertes_hombres/muertes_mujeres-1):.1f}% más fallecimientos confirmados que las mujeres y una tasa de mortalidad {100*(tm_hombres/tm_mujeres-1):.1f}% mayor que las mujeres al {pd.to_datetime('2020-06-28').strftime('%d/%m')}.\"))"
   ]
  },
  {
   "cell_type": "code",
   "execution_count": 73,
   "metadata": {},
   "outputs": [
    {
     "data": {
      "text/markdown": [
       " + Los hombres tienen una tasa de letalidad 28.3% mayor que las mujeres al 28/06."
      ],
      "text/plain": [
       "<IPython.core.display.Markdown object>"
      ]
     },
     "metadata": {},
     "output_type": "display_data"
    }
   ],
   "source": [
    "#hide_input\n",
    "display(\n",
    "    Markdown(\n",
    "        f\" + Los hombres tienen una tasa de letalidad {100*(cfr_hombres/cfr_mujeres-1):.1f}% mayor que las mujeres al {pd.to_datetime('2020-06-28').strftime('%d/%m')}.\")) "
   ]
  },
  {
   "cell_type": "markdown",
   "metadata": {},
   "source": [
    "# Casos confirmados por grupo de edad"
   ]
  },
  {
   "cell_type": "code",
   "execution_count": 74,
   "metadata": {
    "scrolled": true
   },
   "outputs": [],
   "source": [
    "#hide\n",
    "cases_raw = cases_raw.groupby('Grupo de edad').sum()"
   ]
  },
  {
   "cell_type": "code",
   "execution_count": 75,
   "metadata": {},
   "outputs": [],
   "source": [
    "#hide\n",
    "cases = pd.DataFrame()\n",
    "cases['Grupo de edad'] = ['<=39', '40-49', '50-59', '60-69', '70-79', '>=80']"
   ]
  },
  {
   "cell_type": "code",
   "execution_count": 76,
   "metadata": {},
   "outputs": [],
   "source": [
    "#hide\n",
    "cases[\"Casos confirmados\"] = [\n",
    "    cases_raw.iloc[:8,-1].sum(),\n",
    "    cases_raw.iloc[8:10,-1].sum(),\n",
    "    cases_raw.iloc[10:12,-1].sum(),\n",
    "    cases_raw.iloc[12:14,-1].sum(),\n",
    "    cases_raw.iloc[14:16,-1].sum(),\n",
    "    cases_raw.iloc[16:,-1].sum()\n",
    "]"
   ]
  },
  {
   "cell_type": "code",
   "execution_count": 77,
   "metadata": {},
   "outputs": [
    {
     "data": {
      "text/plain": [
       "1025014"
      ]
     },
     "execution_count": 77,
     "metadata": {},
     "output_type": "execute_result"
    }
   ],
   "source": [
    "#hide\n",
    "total_cases = cases[\"Casos confirmados\"].sum()\n",
    "total_cases"
   ]
  },
  {
   "cell_type": "code",
   "execution_count": 78,
   "metadata": {},
   "outputs": [],
   "source": [
    "#hide\n",
    "cases[\"Porcentaje\"] = np.round(100*cases[\"Casos confirmados\"]/total_cases, decimals=1)"
   ]
  },
  {
   "cell_type": "code",
   "execution_count": 79,
   "metadata": {},
   "outputs": [],
   "source": [
    "#hide\n",
    "cases[\"Texto\"] = \\\n",
    "[f\"{cases['Casos confirmados'].iloc[i]} ({cases['Porcentaje'].iloc[i]}%)\" for i, val in cases.iterrows()]"
   ]
  },
  {
   "cell_type": "code",
   "execution_count": 80,
   "metadata": {},
   "outputs": [
    {
     "data": {
      "text/html": [
       "\n",
       "<div id=\"altair-viz-343dc77a69124a2690782fe14840a3e3\"></div>\n",
       "<script type=\"text/javascript\">\n",
       "  (function(spec, embedOpt){\n",
       "    let outputDiv = document.currentScript.previousElementSibling;\n",
       "    if (outputDiv.id !== \"altair-viz-343dc77a69124a2690782fe14840a3e3\") {\n",
       "      outputDiv = document.getElementById(\"altair-viz-343dc77a69124a2690782fe14840a3e3\");\n",
       "    }\n",
       "    const paths = {\n",
       "      \"vega\": \"https://cdn.jsdelivr.net/npm//vega@5?noext\",\n",
       "      \"vega-lib\": \"https://cdn.jsdelivr.net/npm//vega-lib?noext\",\n",
       "      \"vega-lite\": \"https://cdn.jsdelivr.net/npm//vega-lite@4.8.1?noext\",\n",
       "      \"vega-embed\": \"https://cdn.jsdelivr.net/npm//vega-embed@6?noext\",\n",
       "    };\n",
       "\n",
       "    function loadScript(lib) {\n",
       "      return new Promise(function(resolve, reject) {\n",
       "        var s = document.createElement('script');\n",
       "        s.src = paths[lib];\n",
       "        s.async = true;\n",
       "        s.onload = () => resolve(paths[lib]);\n",
       "        s.onerror = () => reject(`Error loading script: ${paths[lib]}`);\n",
       "        document.getElementsByTagName(\"head\")[0].appendChild(s);\n",
       "      });\n",
       "    }\n",
       "\n",
       "    function showError(err) {\n",
       "      outputDiv.innerHTML = `<div class=\"error\" style=\"color:red;\">${err}</div>`;\n",
       "      throw err;\n",
       "    }\n",
       "\n",
       "    function displayChart(vegaEmbed) {\n",
       "      vegaEmbed(outputDiv, spec, embedOpt)\n",
       "        .catch(err => showError(`Javascript Error: ${err.message}<br>This usually means there's a typo in your chart specification. See the javascript console for the full traceback.`));\n",
       "    }\n",
       "\n",
       "    if(typeof define === \"function\" && define.amd) {\n",
       "      requirejs.config({paths});\n",
       "      require([\"vega-embed\"], displayChart, err => showError(`Error loading script: ${err.message}`));\n",
       "    } else if (typeof vegaEmbed === \"function\") {\n",
       "      displayChart(vegaEmbed);\n",
       "    } else {\n",
       "      loadScript(\"vega\")\n",
       "        .then(() => loadScript(\"vega-lite\"))\n",
       "        .then(() => loadScript(\"vega-embed\"))\n",
       "        .catch(showError)\n",
       "        .then(() => displayChart(vegaEmbed));\n",
       "    }\n",
       "  })({\"config\": {\"view\": {\"continuousWidth\": 400, \"continuousHeight\": 300}}, \"layer\": [{\"mark\": {\"type\": \"bar\", \"opacity\": 0.8, \"size\": 30}, \"encoding\": {\"color\": {\"type\": \"nominal\", \"field\": \"Grupo de edad\", \"legend\": null, \"scale\": {\"scheme\": \"category10\"}}, \"order\": {\"type\": \"ordinal\", \"field\": \"index\"}, \"tooltip\": [{\"type\": \"nominal\", \"field\": \"Grupo de edad\"}, {\"type\": \"quantitative\", \"field\": \"Casos confirmados\"}, {\"type\": \"quantitative\", \"field\": \"Porcentaje\"}], \"x\": {\"type\": \"quantitative\", \"field\": \"Casos confirmados\"}, \"y\": {\"type\": \"nominal\", \"field\": \"Grupo de edad\", \"sort\": [\"<=39\", \"40-49\", \"50-59\", \"60-69\", \"70-79\", \">=80\"]}}, \"height\": {\"step\": 40}, \"title\": \"Covid-19 en Chile: Casos confirmados por grupo de edad al 15/03/2021\", \"width\": 600}, {\"mark\": {\"type\": \"text\", \"align\": \"left\", \"baseline\": \"middle\", \"dx\": 3}, \"encoding\": {\"color\": {\"type\": \"nominal\", \"field\": \"Grupo de edad\", \"legend\": null, \"scale\": {\"scheme\": \"category10\"}}, \"order\": {\"type\": \"ordinal\", \"field\": \"index\"}, \"text\": {\"type\": \"nominal\", \"field\": \"Texto\"}, \"tooltip\": [{\"type\": \"nominal\", \"field\": \"Grupo de edad\"}, {\"type\": \"quantitative\", \"field\": \"Casos confirmados\"}, {\"type\": \"quantitative\", \"field\": \"Porcentaje\"}], \"x\": {\"type\": \"quantitative\", \"field\": \"Casos confirmados\"}, \"y\": {\"type\": \"nominal\", \"field\": \"Grupo de edad\", \"sort\": [\"<=39\", \"40-49\", \"50-59\", \"60-69\", \"70-79\", \">=80\"]}}}], \"data\": {\"name\": \"data-8ee8195a3eab4618c3b88b6fd7d43dd9\"}, \"$schema\": \"https://vega.github.io/schema/vega-lite/v4.8.1.json\", \"datasets\": {\"data-8ee8195a3eab4618c3b88b6fd7d43dd9\": [{\"index\": 0, \"Grupo de edad\": \"<=39\", \"Casos confirmados\": 544368, \"Porcentaje\": 53.1, \"Texto\": \"544368 (53.1%)\"}, {\"index\": 1, \"Grupo de edad\": \"40-49\", \"Casos confirmados\": 163536, \"Porcentaje\": 16.0, \"Texto\": \"163536 (16.0%)\"}, {\"index\": 2, \"Grupo de edad\": \"50-59\", \"Casos confirmados\": 151857, \"Porcentaje\": 14.8, \"Texto\": \"151857 (14.8%)\"}, {\"index\": 3, \"Grupo de edad\": \"60-69\", \"Casos confirmados\": 91584, \"Porcentaje\": 8.9, \"Texto\": \"91584 (8.9%)\"}, {\"index\": 4, \"Grupo de edad\": \"70-79\", \"Casos confirmados\": 46189, \"Porcentaje\": 4.5, \"Texto\": \"46189 (4.5%)\"}, {\"index\": 5, \"Grupo de edad\": \">=80\", \"Casos confirmados\": 27480, \"Porcentaje\": 2.7, \"Texto\": \"27480 (2.7%)\"}]}}, {\"mode\": \"vega-lite\"});\n",
       "</script>"
      ],
      "text/plain": [
       "alt.LayerChart(...)"
      ]
     },
     "execution_count": 80,
     "metadata": {},
     "output_type": "execute_result"
    }
   ],
   "source": [
    "#hide_input\n",
    "bars = alt.Chart(cases.reset_index()).mark_bar(opacity=0.8, size=30).encode(\n",
    "    x = alt.X('Casos confirmados'),\n",
    "    y = alt.Y('Grupo de edad', sort=['<=39', '40-49', '50-59', '60-69', '70-79', '>=80']),\n",
    "    tooltip = ['Grupo de edad', 'Casos confirmados', 'Porcentaje'],\n",
    "    color = alt.Color('Grupo de edad', scale=alt.Scale(scheme='category10'), legend=None),\n",
    "    order = alt.Order('index:O')\n",
    ")\n",
    "\n",
    "text = bars.mark_text(\n",
    "    align='left',\n",
    "    baseline='middle',\n",
    "    dx=3  # Nudges text to right so it doesn't appear on top of the bar\n",
    ").encode(\n",
    "    text=alt.Text('Texto')\n",
    ")\n",
    "\n",
    "bars.properties(\n",
    "    title = f\"Covid-19 en Chile: Casos confirmados por grupo de edad al {pd.to_datetime(last_date).strftime('%d/%m/%Y')}\",\n",
    "    width = 600,\n",
    "    height = alt.Step(40)\n",
    ") + text"
   ]
  },
  {
   "cell_type": "markdown",
   "metadata": {},
   "source": [
    "# Fallecidos confirmados por grupo de edad"
   ]
  },
  {
   "cell_type": "code",
   "execution_count": 81,
   "metadata": {},
   "outputs": [],
   "source": [
    "#hide\n",
    "deaths_raw = pd.read_csv(\n",
    "    'https://raw.githubusercontent.com/MinCiencia/Datos-COVID19/' + \\\n",
    "    'master/output/producto10/FallecidosEtario.csv'\n",
    ")"
   ]
  },
  {
   "cell_type": "code",
   "execution_count": 82,
   "metadata": {},
   "outputs": [],
   "source": [
    "#hide\n",
    "grupo_de_edad = ['<=39', '40-49', '50-59', '60-69', '70-79', '80-89', '>=90']"
   ]
  },
  {
   "cell_type": "code",
   "execution_count": 83,
   "metadata": {},
   "outputs": [],
   "source": [
    "#hide\n",
    "deaths = deaths_raw[['Grupo de edad', last_date]].copy()"
   ]
  },
  {
   "cell_type": "code",
   "execution_count": 84,
   "metadata": {},
   "outputs": [
    {
     "data": {
      "text/plain": [
       "21772"
      ]
     },
     "execution_count": 84,
     "metadata": {},
     "output_type": "execute_result"
    }
   ],
   "source": [
    "#hide\n",
    "total_deaths = deaths[last_date].sum()\n",
    "total_deaths"
   ]
  },
  {
   "cell_type": "code",
   "execution_count": 85,
   "metadata": {},
   "outputs": [],
   "source": [
    "#hide\n",
    "deaths = deaths.rename(columns={last_date: \"Fallecidos confirmados\"})"
   ]
  },
  {
   "cell_type": "code",
   "execution_count": 86,
   "metadata": {
    "scrolled": false
   },
   "outputs": [],
   "source": [
    "#hide\n",
    "deaths['Porcentaje'] = np.round(100*deaths[\"Fallecidos confirmados\"]/total_deaths, decimals=1)"
   ]
  },
  {
   "cell_type": "code",
   "execution_count": 87,
   "metadata": {},
   "outputs": [],
   "source": [
    "#hide\n",
    "deaths['Texto'] = \\\n",
    "[f\"{deaths['Fallecidos confirmados'].iloc[i]} ({deaths['Porcentaje'].iloc[i]}%)\" for i, val in deaths.iterrows()]"
   ]
  },
  {
   "cell_type": "code",
   "execution_count": 88,
   "metadata": {},
   "outputs": [
    {
     "data": {
      "text/html": [
       "\n",
       "<div id=\"altair-viz-cbeedf60be3e479c874cac5f5018f6bd\"></div>\n",
       "<script type=\"text/javascript\">\n",
       "  (function(spec, embedOpt){\n",
       "    let outputDiv = document.currentScript.previousElementSibling;\n",
       "    if (outputDiv.id !== \"altair-viz-cbeedf60be3e479c874cac5f5018f6bd\") {\n",
       "      outputDiv = document.getElementById(\"altair-viz-cbeedf60be3e479c874cac5f5018f6bd\");\n",
       "    }\n",
       "    const paths = {\n",
       "      \"vega\": \"https://cdn.jsdelivr.net/npm//vega@5?noext\",\n",
       "      \"vega-lib\": \"https://cdn.jsdelivr.net/npm//vega-lib?noext\",\n",
       "      \"vega-lite\": \"https://cdn.jsdelivr.net/npm//vega-lite@4.8.1?noext\",\n",
       "      \"vega-embed\": \"https://cdn.jsdelivr.net/npm//vega-embed@6?noext\",\n",
       "    };\n",
       "\n",
       "    function loadScript(lib) {\n",
       "      return new Promise(function(resolve, reject) {\n",
       "        var s = document.createElement('script');\n",
       "        s.src = paths[lib];\n",
       "        s.async = true;\n",
       "        s.onload = () => resolve(paths[lib]);\n",
       "        s.onerror = () => reject(`Error loading script: ${paths[lib]}`);\n",
       "        document.getElementsByTagName(\"head\")[0].appendChild(s);\n",
       "      });\n",
       "    }\n",
       "\n",
       "    function showError(err) {\n",
       "      outputDiv.innerHTML = `<div class=\"error\" style=\"color:red;\">${err}</div>`;\n",
       "      throw err;\n",
       "    }\n",
       "\n",
       "    function displayChart(vegaEmbed) {\n",
       "      vegaEmbed(outputDiv, spec, embedOpt)\n",
       "        .catch(err => showError(`Javascript Error: ${err.message}<br>This usually means there's a typo in your chart specification. See the javascript console for the full traceback.`));\n",
       "    }\n",
       "\n",
       "    if(typeof define === \"function\" && define.amd) {\n",
       "      requirejs.config({paths});\n",
       "      require([\"vega-embed\"], displayChart, err => showError(`Error loading script: ${err.message}`));\n",
       "    } else if (typeof vegaEmbed === \"function\") {\n",
       "      displayChart(vegaEmbed);\n",
       "    } else {\n",
       "      loadScript(\"vega\")\n",
       "        .then(() => loadScript(\"vega-lite\"))\n",
       "        .then(() => loadScript(\"vega-embed\"))\n",
       "        .catch(showError)\n",
       "        .then(() => displayChart(vegaEmbed));\n",
       "    }\n",
       "  })({\"config\": {\"view\": {\"continuousWidth\": 400, \"continuousHeight\": 300}}, \"layer\": [{\"mark\": {\"type\": \"bar\", \"opacity\": 0.8, \"size\": 30}, \"encoding\": {\"color\": {\"type\": \"nominal\", \"field\": \"Grupo de edad\", \"legend\": null, \"scale\": {\"scheme\": \"category10\"}}, \"order\": {\"type\": \"ordinal\", \"field\": \"index\"}, \"tooltip\": [{\"type\": \"nominal\", \"field\": \"Grupo de edad\"}, {\"type\": \"quantitative\", \"field\": \"Fallecidos confirmados\"}, {\"type\": \"quantitative\", \"field\": \"Porcentaje\"}], \"x\": {\"type\": \"quantitative\", \"field\": \"Fallecidos confirmados\"}, \"y\": {\"type\": \"nominal\", \"field\": \"Grupo de edad\", \"sort\": [\"<=39\", \"40-49\", \"50-59\", \"60-69\", \"70-79\", \"80-89\", \">=90\"]}}, \"height\": {\"step\": 40}, \"title\": \"Covid-19 en Chile: Fallecidos confirmados por grupo de edad al 15/03/2021\", \"width\": 600}, {\"mark\": {\"type\": \"text\", \"align\": \"left\", \"baseline\": \"middle\", \"dx\": 3}, \"encoding\": {\"color\": {\"type\": \"nominal\", \"field\": \"Grupo de edad\", \"legend\": null, \"scale\": {\"scheme\": \"category10\"}}, \"order\": {\"type\": \"ordinal\", \"field\": \"index\"}, \"text\": {\"type\": \"nominal\", \"field\": \"Texto\"}, \"tooltip\": [{\"type\": \"nominal\", \"field\": \"Grupo de edad\"}, {\"type\": \"quantitative\", \"field\": \"Fallecidos confirmados\"}, {\"type\": \"quantitative\", \"field\": \"Porcentaje\"}], \"x\": {\"type\": \"quantitative\", \"field\": \"Fallecidos confirmados\"}, \"y\": {\"type\": \"nominal\", \"field\": \"Grupo de edad\", \"sort\": [\"<=39\", \"40-49\", \"50-59\", \"60-69\", \"70-79\", \"80-89\", \">=90\"]}}}], \"data\": {\"name\": \"data-6a849b3ec19bac5b4a49dfb9e74985b4\"}, \"$schema\": \"https://vega.github.io/schema/vega-lite/v4.8.1.json\", \"datasets\": {\"data-6a849b3ec19bac5b4a49dfb9e74985b4\": [{\"index\": 0, \"Grupo de edad\": \"<=39\", \"Fallecidos confirmados\": 490, \"Porcentaje\": 2.3, \"Texto\": \"490 (2.3%)\"}, {\"index\": 1, \"Grupo de edad\": \"40-49\", \"Fallecidos confirmados\": 737, \"Porcentaje\": 3.4, \"Texto\": \"737 (3.4%)\"}, {\"index\": 2, \"Grupo de edad\": \"50-59\", \"Fallecidos confirmados\": 2122, \"Porcentaje\": 9.7, \"Texto\": \"2122 (9.7%)\"}, {\"index\": 3, \"Grupo de edad\": \"60-69\", \"Fallecidos confirmados\": 4487, \"Porcentaje\": 20.6, \"Texto\": \"4487 (20.6%)\"}, {\"index\": 4, \"Grupo de edad\": \"70-79\", \"Fallecidos confirmados\": 6145, \"Porcentaje\": 28.2, \"Texto\": \"6145 (28.2%)\"}, {\"index\": 5, \"Grupo de edad\": \"80-89\", \"Fallecidos confirmados\": 5693, \"Porcentaje\": 26.1, \"Texto\": \"5693 (26.1%)\"}, {\"index\": 6, \"Grupo de edad\": \">=90\", \"Fallecidos confirmados\": 2098, \"Porcentaje\": 9.6, \"Texto\": \"2098 (9.6%)\"}]}}, {\"mode\": \"vega-lite\"});\n",
       "</script>"
      ],
      "text/plain": [
       "alt.LayerChart(...)"
      ]
     },
     "execution_count": 88,
     "metadata": {},
     "output_type": "execute_result"
    }
   ],
   "source": [
    "#hide_input\n",
    "bars = alt.Chart(deaths.reset_index()).mark_bar(opacity=0.8, size=30).encode(\n",
    "    x = alt.X('Fallecidos confirmados'),\n",
    "    y = alt.Y('Grupo de edad', sort=grupo_de_edad),\n",
    "    tooltip = ['Grupo de edad', 'Fallecidos confirmados', 'Porcentaje'],\n",
    "    color = alt.Color('Grupo de edad', scale=alt.Scale(scheme='category10'), legend=None),\n",
    "    order = alt.Order('index:O')\n",
    ")\n",
    "\n",
    "text = bars.mark_text(\n",
    "    align='left',\n",
    "    baseline='middle',\n",
    "    dx=3  # Nudges text to right so it doesn't appear on top of the bar\n",
    ").encode(\n",
    "    text=alt.Text('Texto')\n",
    ")\n",
    "\n",
    "bars.properties(\n",
    "    title = f\"Covid-19 en Chile: Fallecidos confirmados por grupo de edad al {pd.to_datetime(last_date).strftime('%d/%m/%Y')}\",\n",
    "    width = 600,\n",
    "    height = alt.Step(40)\n",
    ") + text"
   ]
  },
  {
   "cell_type": "markdown",
   "metadata": {},
   "source": [
    "# Letalidad por grupo de edad"
   ]
  },
  {
   "cell_type": "code",
   "execution_count": 89,
   "metadata": {},
   "outputs": [],
   "source": [
    "#hide\n",
    "data = cases.drop(columns=[\"Porcentaje\", \"Texto\"])"
   ]
  },
  {
   "cell_type": "code",
   "execution_count": 90,
   "metadata": {},
   "outputs": [
    {
     "data": {
      "text/plain": [
       "[490, 737, 2122, 4487, 6145]"
      ]
     },
     "execution_count": 90,
     "metadata": {},
     "output_type": "execute_result"
    }
   ],
   "source": [
    "#hide\n",
    "a = list(deaths[\"Fallecidos confirmados\"][:5])\n",
    "a"
   ]
  },
  {
   "cell_type": "code",
   "execution_count": 91,
   "metadata": {},
   "outputs": [
    {
     "data": {
      "text/plain": [
       "[490, 737, 2122, 4487, 6145, 7791]"
      ]
     },
     "execution_count": 91,
     "metadata": {},
     "output_type": "execute_result"
    }
   ],
   "source": [
    "#hide\n",
    "a.append(deaths[\"Fallecidos confirmados\"][5:].sum())\n",
    "a"
   ]
  },
  {
   "cell_type": "code",
   "execution_count": 92,
   "metadata": {},
   "outputs": [],
   "source": [
    "#hide\n",
    "data[\"Fallecidos confirmados\"] = a"
   ]
  },
  {
   "cell_type": "code",
   "execution_count": 93,
   "metadata": {},
   "outputs": [],
   "source": [
    "#hide\n",
    "data[\"Letalidad\"] = 100*data[\"Fallecidos confirmados\"]/data[\"Casos confirmados\"]"
   ]
  },
  {
   "cell_type": "code",
   "execution_count": 94,
   "metadata": {},
   "outputs": [],
   "source": [
    "#hide\n",
    "data['Texto'] = \\\n",
    "[f\"{data['Letalidad'].iloc[i]:.2f}\" for i, val in data.iterrows()]"
   ]
  },
  {
   "cell_type": "code",
   "execution_count": 95,
   "metadata": {
    "scrolled": true
   },
   "outputs": [
    {
     "data": {
      "text/html": [
       "\n",
       "<div id=\"altair-viz-8a66ec587b9a4d57b6a90fa8b9c91320\"></div>\n",
       "<script type=\"text/javascript\">\n",
       "  (function(spec, embedOpt){\n",
       "    let outputDiv = document.currentScript.previousElementSibling;\n",
       "    if (outputDiv.id !== \"altair-viz-8a66ec587b9a4d57b6a90fa8b9c91320\") {\n",
       "      outputDiv = document.getElementById(\"altair-viz-8a66ec587b9a4d57b6a90fa8b9c91320\");\n",
       "    }\n",
       "    const paths = {\n",
       "      \"vega\": \"https://cdn.jsdelivr.net/npm//vega@5?noext\",\n",
       "      \"vega-lib\": \"https://cdn.jsdelivr.net/npm//vega-lib?noext\",\n",
       "      \"vega-lite\": \"https://cdn.jsdelivr.net/npm//vega-lite@4.8.1?noext\",\n",
       "      \"vega-embed\": \"https://cdn.jsdelivr.net/npm//vega-embed@6?noext\",\n",
       "    };\n",
       "\n",
       "    function loadScript(lib) {\n",
       "      return new Promise(function(resolve, reject) {\n",
       "        var s = document.createElement('script');\n",
       "        s.src = paths[lib];\n",
       "        s.async = true;\n",
       "        s.onload = () => resolve(paths[lib]);\n",
       "        s.onerror = () => reject(`Error loading script: ${paths[lib]}`);\n",
       "        document.getElementsByTagName(\"head\")[0].appendChild(s);\n",
       "      });\n",
       "    }\n",
       "\n",
       "    function showError(err) {\n",
       "      outputDiv.innerHTML = `<div class=\"error\" style=\"color:red;\">${err}</div>`;\n",
       "      throw err;\n",
       "    }\n",
       "\n",
       "    function displayChart(vegaEmbed) {\n",
       "      vegaEmbed(outputDiv, spec, embedOpt)\n",
       "        .catch(err => showError(`Javascript Error: ${err.message}<br>This usually means there's a typo in your chart specification. See the javascript console for the full traceback.`));\n",
       "    }\n",
       "\n",
       "    if(typeof define === \"function\" && define.amd) {\n",
       "      requirejs.config({paths});\n",
       "      require([\"vega-embed\"], displayChart, err => showError(`Error loading script: ${err.message}`));\n",
       "    } else if (typeof vegaEmbed === \"function\") {\n",
       "      displayChart(vegaEmbed);\n",
       "    } else {\n",
       "      loadScript(\"vega\")\n",
       "        .then(() => loadScript(\"vega-lite\"))\n",
       "        .then(() => loadScript(\"vega-embed\"))\n",
       "        .catch(showError)\n",
       "        .then(() => displayChart(vegaEmbed));\n",
       "    }\n",
       "  })({\"config\": {\"view\": {\"continuousWidth\": 400, \"continuousHeight\": 300}}, \"layer\": [{\"mark\": {\"type\": \"bar\", \"opacity\": 0.8, \"size\": 30}, \"encoding\": {\"color\": {\"type\": \"nominal\", \"field\": \"Grupo de edad\", \"legend\": null, \"scale\": {\"scheme\": \"category10\"}}, \"order\": {\"type\": \"ordinal\", \"field\": \"index\"}, \"tooltip\": [{\"type\": \"nominal\", \"field\": \"Grupo de edad\"}, {\"type\": \"quantitative\", \"field\": \"Casos confirmados\"}, {\"type\": \"quantitative\", \"field\": \"Fallecidos confirmados\"}, {\"type\": \"quantitative\", \"field\": \"Letalidad\"}], \"x\": {\"type\": \"quantitative\", \"field\": \"Letalidad\"}, \"y\": {\"type\": \"nominal\", \"field\": \"Grupo de edad\", \"sort\": [\"<=39\", \"40-49\", \"50-59\", \"60-69\", \"70-79\", \"80-89\", \">=90\"]}}, \"height\": {\"step\": 40}, \"title\": \"Covid-19 en Chile: Letalidad por grupo de edad al 15/03/2021\", \"width\": 600}, {\"mark\": {\"type\": \"text\", \"align\": \"left\", \"baseline\": \"middle\", \"dx\": 3}, \"encoding\": {\"color\": {\"type\": \"nominal\", \"field\": \"Grupo de edad\", \"legend\": null, \"scale\": {\"scheme\": \"category10\"}}, \"order\": {\"type\": \"ordinal\", \"field\": \"index\"}, \"text\": {\"type\": \"nominal\", \"field\": \"Texto\"}, \"tooltip\": [{\"type\": \"nominal\", \"field\": \"Grupo de edad\"}, {\"type\": \"quantitative\", \"field\": \"Casos confirmados\"}, {\"type\": \"quantitative\", \"field\": \"Fallecidos confirmados\"}, {\"type\": \"quantitative\", \"field\": \"Letalidad\"}], \"x\": {\"type\": \"quantitative\", \"field\": \"Letalidad\"}, \"y\": {\"type\": \"nominal\", \"field\": \"Grupo de edad\", \"sort\": [\"<=39\", \"40-49\", \"50-59\", \"60-69\", \"70-79\", \"80-89\", \">=90\"]}}}], \"data\": {\"name\": \"data-1dd11578ad552a8b0ab2ef3fbc61843b\"}, \"$schema\": \"https://vega.github.io/schema/vega-lite/v4.8.1.json\", \"datasets\": {\"data-1dd11578ad552a8b0ab2ef3fbc61843b\": [{\"index\": 0, \"Grupo de edad\": \"<=39\", \"Casos confirmados\": 544368, \"Fallecidos confirmados\": 490, \"Letalidad\": 0.09001263850924375, \"Texto\": \"0.09\"}, {\"index\": 1, \"Grupo de edad\": \"40-49\", \"Casos confirmados\": 163536, \"Fallecidos confirmados\": 737, \"Letalidad\": 0.4506652969376773, \"Texto\": \"0.45\"}, {\"index\": 2, \"Grupo de edad\": \"50-59\", \"Casos confirmados\": 151857, \"Fallecidos confirmados\": 2122, \"Letalidad\": 1.3973672599880151, \"Texto\": \"1.40\"}, {\"index\": 3, \"Grupo de edad\": \"60-69\", \"Casos confirmados\": 91584, \"Fallecidos confirmados\": 4487, \"Letalidad\": 4.899327393431167, \"Texto\": \"4.90\"}, {\"index\": 4, \"Grupo de edad\": \"70-79\", \"Casos confirmados\": 46189, \"Fallecidos confirmados\": 6145, \"Letalidad\": 13.304033427872437, \"Texto\": \"13.30\"}, {\"index\": 5, \"Grupo de edad\": \">=80\", \"Casos confirmados\": 27480, \"Fallecidos confirmados\": 7791, \"Letalidad\": 28.351528384279476, \"Texto\": \"28.35\"}]}}, {\"mode\": \"vega-lite\"});\n",
       "</script>"
      ],
      "text/plain": [
       "alt.LayerChart(...)"
      ]
     },
     "execution_count": 95,
     "metadata": {},
     "output_type": "execute_result"
    }
   ],
   "source": [
    "#hide_input\n",
    "bars = alt.Chart(data.reset_index()).mark_bar(opacity=0.8, size=30).encode(\n",
    "    x = alt.X('Letalidad'),\n",
    "    y = alt.Y('Grupo de edad', sort=grupo_de_edad),\n",
    "    tooltip = ['Grupo de edad', 'Casos confirmados', 'Fallecidos confirmados', 'Letalidad'],\n",
    "    color = alt.Color('Grupo de edad', scale=alt.Scale(scheme='category10'), legend=None),\n",
    "    order = alt.Order('index:O')\n",
    ")\n",
    "\n",
    "text = bars.mark_text(\n",
    "    align='left',\n",
    "    baseline='middle',\n",
    "    dx=3  # Nudges text to right so it doesn't appear on top of the bar\n",
    ").encode(\n",
    "    text=alt.Text('Texto')\n",
    ")\n",
    "\n",
    "bars.properties(\n",
    "    title = f\"Covid-19 en Chile: Letalidad por grupo de edad al {pd.to_datetime(last_date).strftime('%d/%m/%Y')}\",\n",
    "    width = 600,\n",
    "    height = alt.Step(40)\n",
    ") + text"
   ]
  },
  {
   "cell_type": "code",
   "execution_count": 96,
   "metadata": {
    "scrolled": true
   },
   "outputs": [
    {
     "data": {
      "text/plain": [
       "2.1240685493076192"
      ]
     },
     "execution_count": 96,
     "metadata": {},
     "output_type": "execute_result"
    }
   ],
   "source": [
    "#hide\n",
    "100*deaths[\"Fallecidos confirmados\"].sum()/cases[\"Casos confirmados\"].sum()"
   ]
  },
  {
   "cell_type": "code",
   "execution_count": 97,
   "metadata": {},
   "outputs": [],
   "source": [
    "#hide\n",
    "# Población por grupo de edad"
   ]
  },
  {
   "cell_type": "code",
   "execution_count": 98,
   "metadata": {},
   "outputs": [],
   "source": [
    "#hide\n",
    "# censo = pd.DataFrame()\n",
    "# censo['Grupo de edad'] = censo_raw['Grupo de edad']"
   ]
  },
  {
   "cell_type": "code",
   "execution_count": 99,
   "metadata": {
    "scrolled": true
   },
   "outputs": [],
   "source": [
    "#hide\n",
    "# censo['Poblacion'] = censo_raw.drop(columns='Grupo de edad').sum(axis=1)"
   ]
  },
  {
   "cell_type": "code",
   "execution_count": 100,
   "metadata": {},
   "outputs": [],
   "source": [
    "#hide\n",
    "# new_censo = pd.DataFrame()\n",
    "# new_censo['Grupo de edad'] = grupo_de_edad"
   ]
  },
  {
   "cell_type": "code",
   "execution_count": 101,
   "metadata": {},
   "outputs": [],
   "source": [
    "#hide\n",
    "# new_censo[\"Poblacion\"] = \\\n",
    "# [censo.iloc[:8][\"Poblacion\"].sum(), \\\n",
    "# censo.iloc[8:10][\"Poblacion\"].sum(), \\\n",
    "# censo.iloc[10:12][\"Poblacion\"].sum(), \\\n",
    "# censo.iloc[12:14][\"Poblacion\"].sum(), \\\n",
    "# censo.iloc[14:16][\"Poblacion\"].sum(), \\\n",
    "# censo.iloc[16:18][\"Poblacion\"].sum(), \\\n",
    "# censo.iloc[18:][\"Poblacion\"].sum()]"
   ]
  },
  {
   "cell_type": "code",
   "execution_count": 102,
   "metadata": {},
   "outputs": [],
   "source": [
    "#hide\n",
    "# total_poblacion = new_censo[\"Poblacion\"].sum()\n",
    "# total_poblacion"
   ]
  },
  {
   "cell_type": "code",
   "execution_count": 103,
   "metadata": {},
   "outputs": [],
   "source": [
    "#hide\n",
    "# new_censo[\"Porcentaje\"] = np.round(100*new_censo[\"Poblacion\"]/total_poblacion, decimals=1)"
   ]
  },
  {
   "cell_type": "code",
   "execution_count": 104,
   "metadata": {},
   "outputs": [],
   "source": [
    "#hide\n",
    "# new_censo['Texto'] = \\\n",
    "# [f\"{format(new_censo['Poblacion'].iloc[i],',').replace(',', '.')} ({new_censo['Porcentaje'].iloc[i]}%)\" for i, val in new_censo.iterrows()]"
   ]
  },
  {
   "cell_type": "code",
   "execution_count": 105,
   "metadata": {},
   "outputs": [],
   "source": [
    "#hide\n",
    "# bars = alt.Chart(new_censo.reset_index()).mark_bar(opacity=0.8, size=30).encode(\n",
    "#     x = alt.X('Poblacion', axis=alt.Axis(title=\"Población\")),\n",
    "#     y = alt.Y('Grupo de edad', sort=grupo_de_edad),\n",
    "#     tooltip = ['Grupo de edad', 'Poblacion', 'Porcentaje'],\n",
    "#     color = alt.Color('Grupo de edad', scale=alt.Scale(scheme='category10'), legend=None),\n",
    "#     order = alt.Order('index:O')\n",
    "# )\n",
    "\n",
    "# text = bars.mark_text(\n",
    "#     align='left',\n",
    "#     baseline='middle',\n",
    "#     dx=3  # Nudges text to right so it doesn't appear on top of the bar\n",
    "# ).encode(\n",
    "#     text=alt.Text('Texto')\n",
    "# )\n",
    "\n",
    "# bars.properties(\n",
    "#     title = f\"Población Censo 2017\",\n",
    "#     width = 600,\n",
    "#     height = alt.Step(40)\n",
    "# ) + text"
   ]
  },
  {
   "cell_type": "markdown",
   "metadata": {},
   "source": [
    "# Pacientes UCI por rango de edad"
   ]
  },
  {
   "cell_type": "code",
   "execution_count": 106,
   "metadata": {},
   "outputs": [],
   "source": [
    "#hide\n",
    "pacientes_raw = pd.read_csv(\n",
    "    'https://raw.githubusercontent.com/MinCiencia/Datos-COVID19/'\n",
    "    + 'master/output/producto9/HospitalizadosUCIEtario.csv'\n",
    ")"
   ]
  },
  {
   "cell_type": "code",
   "execution_count": 107,
   "metadata": {},
   "outputs": [],
   "source": [
    "#hide\n",
    "pacientes = pacientes_raw[['Grupo de edad', last_date]]"
   ]
  },
  {
   "cell_type": "code",
   "execution_count": 108,
   "metadata": {},
   "outputs": [
    {
     "data": {
      "text/plain": [
       "1981"
      ]
     },
     "execution_count": 108,
     "metadata": {},
     "output_type": "execute_result"
    }
   ],
   "source": [
    "#hide\n",
    "total_pacientes = pacientes[last_date].sum()\n",
    "total_pacientes"
   ]
  },
  {
   "cell_type": "code",
   "execution_count": 109,
   "metadata": {},
   "outputs": [],
   "source": [
    "#hide\n",
    "pacientes = pacientes.rename(columns={last_date: \"Pacientes UCI\"})"
   ]
  },
  {
   "cell_type": "code",
   "execution_count": 110,
   "metadata": {
    "scrolled": true
   },
   "outputs": [],
   "source": [
    "#hide\n",
    "pacientes['Porcentaje'] = np.round(100*pacientes[\"Pacientes UCI\"]/total_pacientes, decimals=1)"
   ]
  },
  {
   "cell_type": "code",
   "execution_count": 111,
   "metadata": {},
   "outputs": [],
   "source": [
    "#hide\n",
    "pacientes['Texto'] = \\\n",
    "[f\"{pacientes['Pacientes UCI'].iloc[i]} ({pacientes['Porcentaje'].iloc[i]}%)\" for i, val in pacientes.iterrows()]"
   ]
  },
  {
   "cell_type": "code",
   "execution_count": 112,
   "metadata": {
    "scrolled": true
   },
   "outputs": [
    {
     "data": {
      "text/html": [
       "\n",
       "<div id=\"altair-viz-a7384182afcd416395077894b38875a8\"></div>\n",
       "<script type=\"text/javascript\">\n",
       "  (function(spec, embedOpt){\n",
       "    let outputDiv = document.currentScript.previousElementSibling;\n",
       "    if (outputDiv.id !== \"altair-viz-a7384182afcd416395077894b38875a8\") {\n",
       "      outputDiv = document.getElementById(\"altair-viz-a7384182afcd416395077894b38875a8\");\n",
       "    }\n",
       "    const paths = {\n",
       "      \"vega\": \"https://cdn.jsdelivr.net/npm//vega@5?noext\",\n",
       "      \"vega-lib\": \"https://cdn.jsdelivr.net/npm//vega-lib?noext\",\n",
       "      \"vega-lite\": \"https://cdn.jsdelivr.net/npm//vega-lite@4.8.1?noext\",\n",
       "      \"vega-embed\": \"https://cdn.jsdelivr.net/npm//vega-embed@6?noext\",\n",
       "    };\n",
       "\n",
       "    function loadScript(lib) {\n",
       "      return new Promise(function(resolve, reject) {\n",
       "        var s = document.createElement('script');\n",
       "        s.src = paths[lib];\n",
       "        s.async = true;\n",
       "        s.onload = () => resolve(paths[lib]);\n",
       "        s.onerror = () => reject(`Error loading script: ${paths[lib]}`);\n",
       "        document.getElementsByTagName(\"head\")[0].appendChild(s);\n",
       "      });\n",
       "    }\n",
       "\n",
       "    function showError(err) {\n",
       "      outputDiv.innerHTML = `<div class=\"error\" style=\"color:red;\">${err}</div>`;\n",
       "      throw err;\n",
       "    }\n",
       "\n",
       "    function displayChart(vegaEmbed) {\n",
       "      vegaEmbed(outputDiv, spec, embedOpt)\n",
       "        .catch(err => showError(`Javascript Error: ${err.message}<br>This usually means there's a typo in your chart specification. See the javascript console for the full traceback.`));\n",
       "    }\n",
       "\n",
       "    if(typeof define === \"function\" && define.amd) {\n",
       "      requirejs.config({paths});\n",
       "      require([\"vega-embed\"], displayChart, err => showError(`Error loading script: ${err.message}`));\n",
       "    } else if (typeof vegaEmbed === \"function\") {\n",
       "      displayChart(vegaEmbed);\n",
       "    } else {\n",
       "      loadScript(\"vega\")\n",
       "        .then(() => loadScript(\"vega-lite\"))\n",
       "        .then(() => loadScript(\"vega-embed\"))\n",
       "        .catch(showError)\n",
       "        .then(() => displayChart(vegaEmbed));\n",
       "    }\n",
       "  })({\"config\": {\"view\": {\"continuousWidth\": 400, \"continuousHeight\": 300}}, \"layer\": [{\"mark\": {\"type\": \"bar\", \"opacity\": 0.8, \"size\": 30}, \"encoding\": {\"color\": {\"type\": \"nominal\", \"field\": \"Grupo de edad\", \"legend\": null, \"scale\": {\"scheme\": \"category10\"}}, \"order\": {\"type\": \"ordinal\", \"field\": \"index\"}, \"tooltip\": [{\"type\": \"nominal\", \"field\": \"Grupo de edad\"}, {\"type\": \"quantitative\", \"field\": \"Pacientes UCI\"}, {\"type\": \"quantitative\", \"field\": \"Porcentaje\"}], \"x\": {\"type\": \"quantitative\", \"field\": \"Pacientes UCI\"}, \"y\": {\"type\": \"nominal\", \"field\": \"Grupo de edad\", \"sort\": [\"<=39\", \"40-49\", \"50-59\", \"60-69\", \"70-79\", \"80-89\", \">=90\"]}}, \"height\": {\"step\": 40}, \"title\": \"Pacientes UCI presentes el 15/03/2021\", \"width\": 600}, {\"mark\": {\"type\": \"text\", \"align\": \"left\", \"baseline\": \"middle\", \"dx\": 3}, \"encoding\": {\"color\": {\"type\": \"nominal\", \"field\": \"Grupo de edad\", \"legend\": null, \"scale\": {\"scheme\": \"category10\"}}, \"order\": {\"type\": \"ordinal\", \"field\": \"index\"}, \"text\": {\"type\": \"nominal\", \"field\": \"Texto\"}, \"tooltip\": [{\"type\": \"nominal\", \"field\": \"Grupo de edad\"}, {\"type\": \"quantitative\", \"field\": \"Pacientes UCI\"}, {\"type\": \"quantitative\", \"field\": \"Porcentaje\"}], \"x\": {\"type\": \"quantitative\", \"field\": \"Pacientes UCI\"}, \"y\": {\"type\": \"nominal\", \"field\": \"Grupo de edad\", \"sort\": [\"<=39\", \"40-49\", \"50-59\", \"60-69\", \"70-79\", \"80-89\", \">=90\"]}}}], \"data\": {\"name\": \"data-2f00ff8ff1aacd86bfc123cf68a98731\"}, \"$schema\": \"https://vega.github.io/schema/vega-lite/v4.8.1.json\", \"datasets\": {\"data-2f00ff8ff1aacd86bfc123cf68a98731\": [{\"index\": 0, \"Grupo de edad\": \"<=39\", \"Pacientes UCI\": 178, \"Porcentaje\": 9.0, \"Texto\": \"178 (9.0%)\"}, {\"index\": 1, \"Grupo de edad\": \"40-49\", \"Pacientes UCI\": 238, \"Porcentaje\": 12.0, \"Texto\": \"238 (12.0%)\"}, {\"index\": 2, \"Grupo de edad\": \"50-59\", \"Pacientes UCI\": 495, \"Porcentaje\": 25.0, \"Texto\": \"495 (25.0%)\"}, {\"index\": 3, \"Grupo de edad\": \"60-69\", \"Pacientes UCI\": 607, \"Porcentaje\": 30.6, \"Texto\": \"607 (30.6%)\"}, {\"index\": 4, \"Grupo de edad\": \">=70\", \"Pacientes UCI\": 463, \"Porcentaje\": 23.4, \"Texto\": \"463 (23.4%)\"}]}}, {\"mode\": \"vega-lite\"});\n",
       "</script>"
      ],
      "text/plain": [
       "alt.LayerChart(...)"
      ]
     },
     "execution_count": 112,
     "metadata": {},
     "output_type": "execute_result"
    }
   ],
   "source": [
    "#hide_input\n",
    "bars = alt.Chart(pacientes.reset_index()).mark_bar(opacity=0.8, size=30).encode(\n",
    "    x = alt.X('Pacientes UCI'),\n",
    "    y = alt.Y('Grupo de edad', sort=grupo_de_edad),\n",
    "    order = alt.Order('index:O'),\n",
    "    tooltip = ['Grupo de edad', 'Pacientes UCI', 'Porcentaje'],\n",
    "    color = alt.Color('Grupo de edad', scale=alt.Scale(scheme='category10'), legend=None)\n",
    ")\n",
    "\n",
    "text = bars.mark_text(\n",
    "    align='left',\n",
    "    baseline='middle',\n",
    "    dx=3  # Nudges text to right so it doesn't appear on top of the bar\n",
    ").encode(\n",
    "    text=alt.Text('Texto')\n",
    ")\n",
    "\n",
    "bars.properties(\n",
    "    title = f\"Pacientes UCI presentes el {pd.to_datetime(last_date).strftime('%d/%m/%Y')}\",\n",
    "    width = 600,\n",
    "    height = alt.Step(40)\n",
    ") + text"
   ]
  },
  {
   "cell_type": "markdown",
   "metadata": {},
   "source": [
    "# Evolución de casos confirmados por rango de edad"
   ]
  },
  {
   "cell_type": "code",
   "execution_count": 113,
   "metadata": {},
   "outputs": [],
   "source": [
    "#hide\n",
    "cases_raw = pd.read_csv(\n",
    "    'https://raw.githubusercontent.com/MinCiencia/Datos-COVID19/' \\\n",
    "    + 'master/output/producto16/CasosGeneroEtario.csv'\n",
    ")"
   ]
  },
  {
   "cell_type": "code",
   "execution_count": 114,
   "metadata": {},
   "outputs": [],
   "source": [
    "#hide\n",
    "cases = pd.DataFrame()\n",
    "cases['<=39'] = cases_raw.groupby('Grupo de edad').sum().iloc[:8].sum()\n",
    "cases['40-49'] = cases_raw.groupby('Grupo de edad').sum().iloc[8:10].sum()\n",
    "cases['50-59'] = cases_raw.groupby('Grupo de edad').sum().iloc[10:12].sum()\n",
    "cases['60-69'] = cases_raw.groupby('Grupo de edad').sum().iloc[12:14].sum()\n",
    "cases['70-79'] = cases_raw.groupby('Grupo de edad').sum().iloc[14:16].sum()\n",
    "cases['>=80'] = cases_raw.groupby('Grupo de edad').sum().iloc[16:].sum()"
   ]
  },
  {
   "cell_type": "code",
   "execution_count": 115,
   "metadata": {},
   "outputs": [],
   "source": [
    "#hide\n",
    "cases = cases.T.reset_index()\n",
    "cases = cases.rename(columns={'index': 'Grupo de edad'})"
   ]
  },
  {
   "cell_type": "code",
   "execution_count": 116,
   "metadata": {},
   "outputs": [],
   "source": [
    "#hide\n",
    "cases = cases.reset_index().melt(['index', 'Grupo de edad'], var_name=\"fecha (año-mes-día)\", value_name=\"casos confirmados\")"
   ]
  },
  {
   "cell_type": "code",
   "execution_count": 117,
   "metadata": {
    "scrolled": true
   },
   "outputs": [
    {
     "data": {
      "text/html": [
       "\n",
       "<div id=\"altair-viz-246c55ee43874413ba3c7316e419223f\"></div>\n",
       "<script type=\"text/javascript\">\n",
       "  (function(spec, embedOpt){\n",
       "    let outputDiv = document.currentScript.previousElementSibling;\n",
       "    if (outputDiv.id !== \"altair-viz-246c55ee43874413ba3c7316e419223f\") {\n",
       "      outputDiv = document.getElementById(\"altair-viz-246c55ee43874413ba3c7316e419223f\");\n",
       "    }\n",
       "    const paths = {\n",
       "      \"vega\": \"https://cdn.jsdelivr.net/npm//vega@5?noext\",\n",
       "      \"vega-lib\": \"https://cdn.jsdelivr.net/npm//vega-lib?noext\",\n",
       "      \"vega-lite\": \"https://cdn.jsdelivr.net/npm//vega-lite@4.8.1?noext\",\n",
       "      \"vega-embed\": \"https://cdn.jsdelivr.net/npm//vega-embed@6?noext\",\n",
       "    };\n",
       "\n",
       "    function loadScript(lib) {\n",
       "      return new Promise(function(resolve, reject) {\n",
       "        var s = document.createElement('script');\n",
       "        s.src = paths[lib];\n",
       "        s.async = true;\n",
       "        s.onload = () => resolve(paths[lib]);\n",
       "        s.onerror = () => reject(`Error loading script: ${paths[lib]}`);\n",
       "        document.getElementsByTagName(\"head\")[0].appendChild(s);\n",
       "      });\n",
       "    }\n",
       "\n",
       "    function showError(err) {\n",
       "      outputDiv.innerHTML = `<div class=\"error\" style=\"color:red;\">${err}</div>`;\n",
       "      throw err;\n",
       "    }\n",
       "\n",
       "    function displayChart(vegaEmbed) {\n",
       "      vegaEmbed(outputDiv, spec, embedOpt)\n",
       "        .catch(err => showError(`Javascript Error: ${err.message}<br>This usually means there's a typo in your chart specification. See the javascript console for the full traceback.`));\n",
       "    }\n",
       "\n",
       "    if(typeof define === \"function\" && define.amd) {\n",
       "      requirejs.config({paths});\n",
       "      require([\"vega-embed\"], displayChart, err => showError(`Error loading script: ${err.message}`));\n",
       "    } else if (typeof vegaEmbed === \"function\") {\n",
       "      displayChart(vegaEmbed);\n",
       "    } else {\n",
       "      loadScript(\"vega\")\n",
       "        .then(() => loadScript(\"vega-lite\"))\n",
       "        .then(() => loadScript(\"vega-embed\"))\n",
       "        .catch(showError)\n",
       "        .then(() => displayChart(vegaEmbed));\n",
       "    }\n",
       "  })({\"config\": {\"view\": {\"continuousWidth\": 400, \"continuousHeight\": 300}}, \"hconcat\": [{\"mark\": \"bar\", \"encoding\": {\"color\": {\"condition\": {\"type\": \"nominal\", \"field\": \"Grupo de edad\", \"legend\": null, \"scale\": {\"scheme\": \"tableau20\"}, \"selection\": {\"or\": [\" \", \"selector004\"]}}, \"value\": \"lightgray\"}, \"order\": {\"type\": \"quantitative\", \"field\": \"index\", \"sort\": \"descending\"}, \"tooltip\": [{\"type\": \"nominal\", \"field\": \"fecha (a\\u00f1o-mes-d\\u00eda)\"}, {\"type\": \"nominal\", \"field\": \"Grupo de edad\"}, {\"type\": \"quantitative\", \"field\": \"casos confirmados\"}], \"x\": {\"type\": \"nominal\", \"field\": \"fecha (a\\u00f1o-mes-d\\u00eda)\"}, \"y\": {\"type\": \"quantitative\", \"field\": \"casos confirmados\"}}, \"selection\": {\" \": {\"type\": \"single\", \"fields\": [\"Grupo de edad\"], \"bind\": {\"input\": \"select\", \"options\": [\"<=39\", \"40-49\", \"50-59\", \"60-69\", \"70-79\", \">=80\"]}}, \"selector004\": {\"type\": \"multi\", \"fields\": [\"Grupo de edad\"], \"on\": \"mouseover\"}}, \"title\": \"COVID-19 en Chile: Evoluci\\u00f3n de casos confirmados por rango de edad\", \"transform\": [{\"filter\": {\"selection\": \" \"}}], \"width\": 600}, {\"mark\": \"point\", \"encoding\": {\"color\": {\"condition\": {\"type\": \"nominal\", \"field\": \"Grupo de edad\", \"legend\": null, \"scale\": {\"scheme\": \"tableau20\"}, \"selection\": {\"or\": [\" \", \"selector004\"]}}, \"value\": \"lightgray\"}, \"y\": {\"type\": \"nominal\", \"axis\": {\"orient\": \"right\"}, \"field\": \"Grupo de edad\", \"sort\": [\"<=39\", \"40-49\", \"50-59\", \"60-69\", \"70-79\", \"80-89\", \">=90\"]}}, \"selection\": {\" \": {\"type\": \"single\", \"fields\": [\"Grupo de edad\"], \"bind\": {\"input\": \"select\", \"options\": [\"<=39\", \"40-49\", \"50-59\", \"60-69\", \"70-79\", \">=80\"]}}, \"selector004\": {\"type\": \"multi\", \"fields\": [\"Grupo de edad\"], \"on\": \"mouseover\"}}}], \"data\": {\"name\": \"data-e72153e0feeb3137a74884a811115f3b\"}, \"$schema\": \"https://vega.github.io/schema/vega-lite/v4.8.1.json\", \"datasets\": {\"data-e72153e0feeb3137a74884a811115f3b\": [{\"index\": 0, \"Grupo de edad\": \"<=39\", \"fecha (a\\u00f1o-mes-d\\u00eda)\": \"2020-03-25\", \"casos confirmados\": 558}, {\"index\": 1, \"Grupo de edad\": \"40-49\", \"fecha (a\\u00f1o-mes-d\\u00eda)\": \"2020-03-25\", \"casos confirmados\": 220}, {\"index\": 2, \"Grupo de edad\": \"50-59\", \"fecha (a\\u00f1o-mes-d\\u00eda)\": \"2020-03-25\", \"casos confirmados\": 119}, {\"index\": 3, \"Grupo de edad\": \"60-69\", \"fecha (a\\u00f1o-mes-d\\u00eda)\": \"2020-03-25\", \"casos confirmados\": 69}, {\"index\": 4, \"Grupo de edad\": \"70-79\", \"fecha (a\\u00f1o-mes-d\\u00eda)\": \"2020-03-25\", \"casos confirmados\": 38}, {\"index\": 5, \"Grupo de edad\": \">=80\", \"fecha (a\\u00f1o-mes-d\\u00eda)\": \"2020-03-25\", \"casos confirmados\": 8}, {\"index\": 0, \"Grupo de edad\": \"<=39\", \"fecha (a\\u00f1o-mes-d\\u00eda)\": \"2020-03-26\", \"casos confirmados\": 672}, {\"index\": 1, \"Grupo de edad\": \"40-49\", \"fecha (a\\u00f1o-mes-d\\u00eda)\": \"2020-03-26\", \"casos confirmados\": 268}, {\"index\": 2, \"Grupo de edad\": \"50-59\", \"fecha (a\\u00f1o-mes-d\\u00eda)\": \"2020-03-26\", \"casos confirmados\": 162}, {\"index\": 3, \"Grupo de edad\": \"60-69\", \"fecha (a\\u00f1o-mes-d\\u00eda)\": \"2020-03-26\", \"casos confirmados\": 91}, {\"index\": 4, \"Grupo de edad\": \"70-79\", \"fecha (a\\u00f1o-mes-d\\u00eda)\": \"2020-03-26\", \"casos confirmados\": 48}, {\"index\": 5, \"Grupo de edad\": \">=80\", \"fecha (a\\u00f1o-mes-d\\u00eda)\": \"2020-03-26\", \"casos confirmados\": 11}, {\"index\": 0, \"Grupo de edad\": \"<=39\", \"fecha (a\\u00f1o-mes-d\\u00eda)\": \"2020-03-27\", \"casos confirmados\": 754}, {\"index\": 1, \"Grupo de edad\": \"40-49\", \"fecha (a\\u00f1o-mes-d\\u00eda)\": \"2020-03-27\", \"casos confirmados\": 310}, {\"index\": 2, \"Grupo de edad\": \"50-59\", \"fecha (a\\u00f1o-mes-d\\u00eda)\": \"2020-03-27\", \"casos confirmados\": 190}, {\"index\": 3, \"Grupo de edad\": \"60-69\", \"fecha (a\\u00f1o-mes-d\\u00eda)\": \"2020-03-27\", \"casos confirmados\": 112}, {\"index\": 4, \"Grupo de edad\": \"70-79\", \"fecha (a\\u00f1o-mes-d\\u00eda)\": \"2020-03-27\", \"casos confirmados\": 56}, {\"index\": 5, \"Grupo de edad\": \">=80\", \"fecha (a\\u00f1o-mes-d\\u00eda)\": \"2020-03-27\", \"casos confirmados\": 12}, {\"index\": 0, \"Grupo de edad\": \"<=39\", \"fecha (a\\u00f1o-mes-d\\u00eda)\": \"2020-03-28\", \"casos confirmados\": 890}, {\"index\": 1, \"Grupo de edad\": \"40-49\", \"fecha (a\\u00f1o-mes-d\\u00eda)\": \"2020-03-28\", \"casos confirmados\": 357}, {\"index\": 2, \"Grupo de edad\": \"50-59\", \"fecha (a\\u00f1o-mes-d\\u00eda)\": \"2020-03-28\", \"casos confirmados\": 251}, {\"index\": 3, \"Grupo de edad\": \"60-69\", \"fecha (a\\u00f1o-mes-d\\u00eda)\": \"2020-03-28\", \"casos confirmados\": 138}, {\"index\": 4, \"Grupo de edad\": \"70-79\", \"fecha (a\\u00f1o-mes-d\\u00eda)\": \"2020-03-28\", \"casos confirmados\": 67}, {\"index\": 5, \"Grupo de edad\": \">=80\", \"fecha (a\\u00f1o-mes-d\\u00eda)\": \"2020-03-28\", \"casos confirmados\": 20}, {\"index\": 0, \"Grupo de edad\": \"<=39\", \"fecha (a\\u00f1o-mes-d\\u00eda)\": \"2020-03-29\", \"casos confirmados\": 964}, {\"index\": 1, \"Grupo de edad\": \"40-49\", \"fecha (a\\u00f1o-mes-d\\u00eda)\": \"2020-03-29\", \"casos confirmados\": 407}, {\"index\": 2, \"Grupo de edad\": \"50-59\", \"fecha (a\\u00f1o-mes-d\\u00eda)\": \"2020-03-29\", \"casos confirmados\": 272}, {\"index\": 3, \"Grupo de edad\": \"60-69\", \"fecha (a\\u00f1o-mes-d\\u00eda)\": \"2020-03-29\", \"casos confirmados\": 165}, {\"index\": 4, \"Grupo de edad\": \"70-79\", \"fecha (a\\u00f1o-mes-d\\u00eda)\": \"2020-03-29\", \"casos confirmados\": 75}, {\"index\": 5, \"Grupo de edad\": \">=80\", \"fecha (a\\u00f1o-mes-d\\u00eda)\": \"2020-03-29\", \"casos confirmados\": 23}, {\"index\": 0, \"Grupo de edad\": \"<=39\", \"fecha (a\\u00f1o-mes-d\\u00eda)\": \"2020-03-30\", \"casos confirmados\": 1041}, {\"index\": 1, \"Grupo de edad\": \"40-49\", \"fecha (a\\u00f1o-mes-d\\u00eda)\": \"2020-03-30\", \"casos confirmados\": 451}, {\"index\": 2, \"Grupo de edad\": \"50-59\", \"fecha (a\\u00f1o-mes-d\\u00eda)\": \"2020-03-30\", \"casos confirmados\": 304}, {\"index\": 3, \"Grupo de edad\": \"60-69\", \"fecha (a\\u00f1o-mes-d\\u00eda)\": \"2020-03-30\", \"casos confirmados\": 182}, {\"index\": 4, \"Grupo de edad\": \"70-79\", \"fecha (a\\u00f1o-mes-d\\u00eda)\": \"2020-03-30\", \"casos confirmados\": 84}, {\"index\": 5, \"Grupo de edad\": \">=80\", \"fecha (a\\u00f1o-mes-d\\u00eda)\": \"2020-03-30\", \"casos confirmados\": 26}, {\"index\": 0, \"Grupo de edad\": \"<=39\", \"fecha (a\\u00f1o-mes-d\\u00eda)\": \"2020-03-31\", \"casos confirmados\": 1182}, {\"index\": 1, \"Grupo de edad\": \"40-49\", \"fecha (a\\u00f1o-mes-d\\u00eda)\": \"2020-03-31\", \"casos confirmados\": 511}, {\"index\": 2, \"Grupo de edad\": \"50-59\", \"fecha (a\\u00f1o-mes-d\\u00eda)\": \"2020-03-31\", \"casos confirmados\": 348}, {\"index\": 3, \"Grupo de edad\": \"60-69\", \"fecha (a\\u00f1o-mes-d\\u00eda)\": \"2020-03-31\", \"casos confirmados\": 209}, {\"index\": 4, \"Grupo de edad\": \"70-79\", \"fecha (a\\u00f1o-mes-d\\u00eda)\": \"2020-03-31\", \"casos confirmados\": 92}, {\"index\": 5, \"Grupo de edad\": \">=80\", \"fecha (a\\u00f1o-mes-d\\u00eda)\": \"2020-03-31\", \"casos confirmados\": 31}, {\"index\": 0, \"Grupo de edad\": \"<=39\", \"fecha (a\\u00f1o-mes-d\\u00eda)\": \"2020-04-01\", \"casos confirmados\": 1335}, {\"index\": 1, \"Grupo de edad\": \"40-49\", \"fecha (a\\u00f1o-mes-d\\u00eda)\": \"2020-04-01\", \"casos confirmados\": 584}, {\"index\": 2, \"Grupo de edad\": \"50-59\", \"fecha (a\\u00f1o-mes-d\\u00eda)\": \"2020-04-01\", \"casos confirmados\": 423}, {\"index\": 3, \"Grupo de edad\": \"60-69\", \"fecha (a\\u00f1o-mes-d\\u00eda)\": \"2020-04-01\", \"casos confirmados\": 243}, {\"index\": 4, \"Grupo de edad\": \"70-79\", \"fecha (a\\u00f1o-mes-d\\u00eda)\": \"2020-04-01\", \"casos confirmados\": 120}, {\"index\": 5, \"Grupo de edad\": \">=80\", \"fecha (a\\u00f1o-mes-d\\u00eda)\": \"2020-04-01\", \"casos confirmados\": 39}, {\"index\": 0, \"Grupo de edad\": \"<=39\", \"fecha (a\\u00f1o-mes-d\\u00eda)\": \"2020-04-02\", \"casos confirmados\": 1434}, {\"index\": 1, \"Grupo de edad\": \"40-49\", \"fecha (a\\u00f1o-mes-d\\u00eda)\": \"2020-04-02\", \"casos confirmados\": 616}, {\"index\": 2, \"Grupo de edad\": \"50-59\", \"fecha (a\\u00f1o-mes-d\\u00eda)\": \"2020-04-02\", \"casos confirmados\": 453}, {\"index\": 3, \"Grupo de edad\": \"60-69\", \"fecha (a\\u00f1o-mes-d\\u00eda)\": \"2020-04-02\", \"casos confirmados\": 264}, {\"index\": 4, \"Grupo de edad\": \"70-79\", \"fecha (a\\u00f1o-mes-d\\u00eda)\": \"2020-04-02\", \"casos confirmados\": 127}, {\"index\": 5, \"Grupo de edad\": \">=80\", \"fecha (a\\u00f1o-mes-d\\u00eda)\": \"2020-04-02\", \"casos confirmados\": 44}, {\"index\": 0, \"Grupo de edad\": \"<=39\", \"fecha (a\\u00f1o-mes-d\\u00eda)\": \"2020-04-03\", \"casos confirmados\": 1678}, {\"index\": 1, \"Grupo de edad\": \"40-49\", \"fecha (a\\u00f1o-mes-d\\u00eda)\": \"2020-04-03\", \"casos confirmados\": 695}, {\"index\": 2, \"Grupo de edad\": \"50-59\", \"fecha (a\\u00f1o-mes-d\\u00eda)\": \"2020-04-03\", \"casos confirmados\": 521}, {\"index\": 3, \"Grupo de edad\": \"60-69\", \"fecha (a\\u00f1o-mes-d\\u00eda)\": \"2020-04-03\", \"casos confirmados\": 296}, {\"index\": 4, \"Grupo de edad\": \"70-79\", \"fecha (a\\u00f1o-mes-d\\u00eda)\": \"2020-04-03\", \"casos confirmados\": 155}, {\"index\": 5, \"Grupo de edad\": \">=80\", \"fecha (a\\u00f1o-mes-d\\u00eda)\": \"2020-04-03\", \"casos confirmados\": 53}, {\"index\": 0, \"Grupo de edad\": \"<=39\", \"fecha (a\\u00f1o-mes-d\\u00eda)\": \"2020-04-04\", \"casos confirmados\": 1866}, {\"index\": 1, \"Grupo de edad\": \"40-49\", \"fecha (a\\u00f1o-mes-d\\u00eda)\": \"2020-04-04\", \"casos confirmados\": 762}, {\"index\": 2, \"Grupo de edad\": \"50-59\", \"fecha (a\\u00f1o-mes-d\\u00eda)\": \"2020-04-04\", \"casos confirmados\": 575}, {\"index\": 3, \"Grupo de edad\": \"60-69\", \"fecha (a\\u00f1o-mes-d\\u00eda)\": \"2020-04-04\", \"casos confirmados\": 336}, {\"index\": 4, \"Grupo de edad\": \"70-79\", \"fecha (a\\u00f1o-mes-d\\u00eda)\": \"2020-04-04\", \"casos confirmados\": 185}, {\"index\": 5, \"Grupo de edad\": \">=80\", \"fecha (a\\u00f1o-mes-d\\u00eda)\": \"2020-04-04\", \"casos confirmados\": 61}, {\"index\": 0, \"Grupo de edad\": \"<=39\", \"fecha (a\\u00f1o-mes-d\\u00eda)\": \"2020-04-05\", \"casos confirmados\": 2007}, {\"index\": 1, \"Grupo de edad\": \"40-49\", \"fecha (a\\u00f1o-mes-d\\u00eda)\": \"2020-04-05\", \"casos confirmados\": 831}, {\"index\": 2, \"Grupo de edad\": \"50-59\", \"fecha (a\\u00f1o-mes-d\\u00eda)\": \"2020-04-05\", \"casos confirmados\": 620}, {\"index\": 3, \"Grupo de edad\": \"60-69\", \"fecha (a\\u00f1o-mes-d\\u00eda)\": \"2020-04-05\", \"casos confirmados\": 354}, {\"index\": 4, \"Grupo de edad\": \"70-79\", \"fecha (a\\u00f1o-mes-d\\u00eda)\": \"2020-04-05\", \"casos confirmados\": 202}, {\"index\": 5, \"Grupo de edad\": \">=80\", \"fecha (a\\u00f1o-mes-d\\u00eda)\": \"2020-04-05\", \"casos confirmados\": 68}, {\"index\": 0, \"Grupo de edad\": \"<=39\", \"fecha (a\\u00f1o-mes-d\\u00eda)\": \"2020-04-06\", \"casos confirmados\": 2140}, {\"index\": 1, \"Grupo de edad\": \"40-49\", \"fecha (a\\u00f1o-mes-d\\u00eda)\": \"2020-04-06\", \"casos confirmados\": 876}, {\"index\": 2, \"Grupo de edad\": \"50-59\", \"fecha (a\\u00f1o-mes-d\\u00eda)\": \"2020-04-06\", \"casos confirmados\": 662}, {\"index\": 3, \"Grupo de edad\": \"60-69\", \"fecha (a\\u00f1o-mes-d\\u00eda)\": \"2020-04-06\", \"casos confirmados\": 377}, {\"index\": 4, \"Grupo de edad\": \"70-79\", \"fecha (a\\u00f1o-mes-d\\u00eda)\": \"2020-04-06\", \"casos confirmados\": 214}, {\"index\": 5, \"Grupo de edad\": \">=80\", \"fecha (a\\u00f1o-mes-d\\u00eda)\": \"2020-04-06\", \"casos confirmados\": 77}, {\"index\": 0, \"Grupo de edad\": \"<=39\", \"fecha (a\\u00f1o-mes-d\\u00eda)\": \"2020-04-07\", \"casos confirmados\": 2257}, {\"index\": 1, \"Grupo de edad\": \"40-49\", \"fecha (a\\u00f1o-mes-d\\u00eda)\": \"2020-04-07\", \"casos confirmados\": 926}, {\"index\": 2, \"Grupo de edad\": \"50-59\", \"fecha (a\\u00f1o-mes-d\\u00eda)\": \"2020-04-07\", \"casos confirmados\": 707}, {\"index\": 3, \"Grupo de edad\": \"60-69\", \"fecha (a\\u00f1o-mes-d\\u00eda)\": \"2020-04-07\", \"casos confirmados\": 415}, {\"index\": 4, \"Grupo de edad\": \"70-79\", \"fecha (a\\u00f1o-mes-d\\u00eda)\": \"2020-04-07\", \"casos confirmados\": 225}, {\"index\": 5, \"Grupo de edad\": \">=80\", \"fecha (a\\u00f1o-mes-d\\u00eda)\": \"2020-04-07\", \"casos confirmados\": 87}, {\"index\": 0, \"Grupo de edad\": \"<=39\", \"fecha (a\\u00f1o-mes-d\\u00eda)\": \"2020-04-08\", \"casos confirmados\": 2636}, {\"index\": 1, \"Grupo de edad\": \"40-49\", \"fecha (a\\u00f1o-mes-d\\u00eda)\": \"2020-04-08\", \"casos confirmados\": 1079}, {\"index\": 2, \"Grupo de edad\": \"50-59\", \"fecha (a\\u00f1o-mes-d\\u00eda)\": \"2020-04-08\", \"casos confirmados\": 839}, {\"index\": 3, \"Grupo de edad\": \"60-69\", \"fecha (a\\u00f1o-mes-d\\u00eda)\": \"2020-04-08\", \"casos confirmados\": 468}, {\"index\": 4, \"Grupo de edad\": \"70-79\", \"fecha (a\\u00f1o-mes-d\\u00eda)\": \"2020-04-08\", \"casos confirmados\": 263}, {\"index\": 5, \"Grupo de edad\": \">=80\", \"fecha (a\\u00f1o-mes-d\\u00eda)\": \"2020-04-08\", \"casos confirmados\": 112}, {\"index\": 0, \"Grupo de edad\": \"<=39\", \"fecha (a\\u00f1o-mes-d\\u00eda)\": \"2020-04-09\", \"casos confirmados\": 2837}, {\"index\": 1, \"Grupo de edad\": \"40-49\", \"fecha (a\\u00f1o-mes-d\\u00eda)\": \"2020-04-09\", \"casos confirmados\": 1153}, {\"index\": 2, \"Grupo de edad\": \"50-59\", \"fecha (a\\u00f1o-mes-d\\u00eda)\": \"2020-04-09\", \"casos confirmados\": 903}, {\"index\": 3, \"Grupo de edad\": \"60-69\", \"fecha (a\\u00f1o-mes-d\\u00eda)\": \"2020-04-09\", \"casos confirmados\": 502}, {\"index\": 4, \"Grupo de edad\": \"70-79\", \"fecha (a\\u00f1o-mes-d\\u00eda)\": \"2020-04-09\", \"casos confirmados\": 284}, {\"index\": 5, \"Grupo de edad\": \">=80\", \"fecha (a\\u00f1o-mes-d\\u00eda)\": \"2020-04-09\", \"casos confirmados\": 131}, {\"index\": 0, \"Grupo de edad\": \"<=39\", \"fecha (a\\u00f1o-mes-d\\u00eda)\": \"2020-04-10\", \"casos confirmados\": 3084}, {\"index\": 1, \"Grupo de edad\": \"40-49\", \"fecha (a\\u00f1o-mes-d\\u00eda)\": \"2020-04-10\", \"casos confirmados\": 1227}, {\"index\": 2, \"Grupo de edad\": \"50-59\", \"fecha (a\\u00f1o-mes-d\\u00eda)\": \"2020-04-10\", \"casos confirmados\": 975}, {\"index\": 3, \"Grupo de edad\": \"60-69\", \"fecha (a\\u00f1o-mes-d\\u00eda)\": \"2020-04-10\", \"casos confirmados\": 544}, {\"index\": 4, \"Grupo de edad\": \"70-79\", \"fecha (a\\u00f1o-mes-d\\u00eda)\": \"2020-04-10\", \"casos confirmados\": 309}, {\"index\": 5, \"Grupo de edad\": \">=80\", \"fecha (a\\u00f1o-mes-d\\u00eda)\": \"2020-04-10\", \"casos confirmados\": 153}, {\"index\": 0, \"Grupo de edad\": \"<=39\", \"fecha (a\\u00f1o-mes-d\\u00eda)\": \"2020-04-11\", \"casos confirmados\": 3302}, {\"index\": 1, \"Grupo de edad\": \"40-49\", \"fecha (a\\u00f1o-mes-d\\u00eda)\": \"2020-04-11\", \"casos confirmados\": 1297}, {\"index\": 2, \"Grupo de edad\": \"50-59\", \"fecha (a\\u00f1o-mes-d\\u00eda)\": \"2020-04-11\", \"casos confirmados\": 1022}, {\"index\": 3, \"Grupo de edad\": \"60-69\", \"fecha (a\\u00f1o-mes-d\\u00eda)\": \"2020-04-11\", \"casos confirmados\": 584}, {\"index\": 4, \"Grupo de edad\": \"70-79\", \"fecha (a\\u00f1o-mes-d\\u00eda)\": \"2020-04-11\", \"casos confirmados\": 328}, {\"index\": 5, \"Grupo de edad\": \">=80\", \"fecha (a\\u00f1o-mes-d\\u00eda)\": \"2020-04-11\", \"casos confirmados\": 169}, {\"index\": 0, \"Grupo de edad\": \"<=39\", \"fecha (a\\u00f1o-mes-d\\u00eda)\": \"2020-04-12\", \"casos confirmados\": 3454}, {\"index\": 1, \"Grupo de edad\": \"40-49\", \"fecha (a\\u00f1o-mes-d\\u00eda)\": \"2020-04-12\", \"casos confirmados\": 1361}, {\"index\": 2, \"Grupo de edad\": \"50-59\", \"fecha (a\\u00f1o-mes-d\\u00eda)\": \"2020-04-12\", \"casos confirmados\": 1068}, {\"index\": 3, \"Grupo de edad\": \"60-69\", \"fecha (a\\u00f1o-mes-d\\u00eda)\": \"2020-04-12\", \"casos confirmados\": 611}, {\"index\": 4, \"Grupo de edad\": \"70-79\", \"fecha (a\\u00f1o-mes-d\\u00eda)\": \"2020-04-12\", \"casos confirmados\": 343}, {\"index\": 5, \"Grupo de edad\": \">=80\", \"fecha (a\\u00f1o-mes-d\\u00eda)\": \"2020-04-12\", \"casos confirmados\": 179}, {\"index\": 0, \"Grupo de edad\": \"<=39\", \"fecha (a\\u00f1o-mes-d\\u00eda)\": \"2020-04-13\", \"casos confirmados\": 3646}, {\"index\": 1, \"Grupo de edad\": \"40-49\", \"fecha (a\\u00f1o-mes-d\\u00eda)\": \"2020-04-13\", \"casos confirmados\": 1451}, {\"index\": 2, \"Grupo de edad\": \"50-59\", \"fecha (a\\u00f1o-mes-d\\u00eda)\": \"2020-04-13\", \"casos confirmados\": 1134}, {\"index\": 3, \"Grupo de edad\": \"60-69\", \"fecha (a\\u00f1o-mes-d\\u00eda)\": \"2020-04-13\", \"casos confirmados\": 643}, {\"index\": 4, \"Grupo de edad\": \"70-79\", \"fecha (a\\u00f1o-mes-d\\u00eda)\": \"2020-04-13\", \"casos confirmados\": 351}, {\"index\": 5, \"Grupo de edad\": \">=80\", \"fecha (a\\u00f1o-mes-d\\u00eda)\": \"2020-04-13\", \"casos confirmados\": 187}, {\"index\": 0, \"Grupo de edad\": \"<=39\", \"fecha (a\\u00f1o-mes-d\\u00eda)\": \"2020-04-14\", \"casos confirmados\": 3806}, {\"index\": 1, \"Grupo de edad\": \"40-49\", \"fecha (a\\u00f1o-mes-d\\u00eda)\": \"2020-04-14\", \"casos confirmados\": 1488}, {\"index\": 2, \"Grupo de edad\": \"50-59\", \"fecha (a\\u00f1o-mes-d\\u00eda)\": \"2020-04-14\", \"casos confirmados\": 1173}, {\"index\": 3, \"Grupo de edad\": \"60-69\", \"fecha (a\\u00f1o-mes-d\\u00eda)\": \"2020-04-14\", \"casos confirmados\": 686}, {\"index\": 4, \"Grupo de edad\": \"70-79\", \"fecha (a\\u00f1o-mes-d\\u00eda)\": \"2020-04-14\", \"casos confirmados\": 366}, {\"index\": 5, \"Grupo de edad\": \">=80\", \"fecha (a\\u00f1o-mes-d\\u00eda)\": \"2020-04-14\", \"casos confirmados\": 197}, {\"index\": 0, \"Grupo de edad\": \"<=39\", \"fecha (a\\u00f1o-mes-d\\u00eda)\": \"2020-04-15\", \"casos confirmados\": 4052}, {\"index\": 1, \"Grupo de edad\": \"40-49\", \"fecha (a\\u00f1o-mes-d\\u00eda)\": \"2020-04-15\", \"casos confirmados\": 1582}, {\"index\": 2, \"Grupo de edad\": \"50-59\", \"fecha (a\\u00f1o-mes-d\\u00eda)\": \"2020-04-15\", \"casos confirmados\": 1251}, {\"index\": 3, \"Grupo de edad\": \"60-69\", \"fecha (a\\u00f1o-mes-d\\u00eda)\": \"2020-04-15\", \"casos confirmados\": 726}, {\"index\": 4, \"Grupo de edad\": \"70-79\", \"fecha (a\\u00f1o-mes-d\\u00eda)\": \"2020-04-15\", \"casos confirmados\": 396}, {\"index\": 5, \"Grupo de edad\": \">=80\", \"fecha (a\\u00f1o-mes-d\\u00eda)\": \"2020-04-15\", \"casos confirmados\": 209}, {\"index\": 0, \"Grupo de edad\": \"<=39\", \"fecha (a\\u00f1o-mes-d\\u00eda)\": \"2020-04-16\", \"casos confirmados\": 4306}, {\"index\": 1, \"Grupo de edad\": \"40-49\", \"fecha (a\\u00f1o-mes-d\\u00eda)\": \"2020-04-16\", \"casos confirmados\": 1684}, {\"index\": 2, \"Grupo de edad\": \"50-59\", \"fecha (a\\u00f1o-mes-d\\u00eda)\": \"2020-04-16\", \"casos confirmados\": 1341}, {\"index\": 3, \"Grupo de edad\": \"60-69\", \"fecha (a\\u00f1o-mes-d\\u00eda)\": \"2020-04-16\", \"casos confirmados\": 766}, {\"index\": 4, \"Grupo de edad\": \"70-79\", \"fecha (a\\u00f1o-mes-d\\u00eda)\": \"2020-04-16\", \"casos confirmados\": 422}, {\"index\": 5, \"Grupo de edad\": \">=80\", \"fecha (a\\u00f1o-mes-d\\u00eda)\": \"2020-04-16\", \"casos confirmados\": 221}, {\"index\": 0, \"Grupo de edad\": \"<=39\", \"fecha (a\\u00f1o-mes-d\\u00eda)\": \"2020-04-17\", \"casos confirmados\": 4555}, {\"index\": 1, \"Grupo de edad\": \"40-49\", \"fecha (a\\u00f1o-mes-d\\u00eda)\": \"2020-04-17\", \"casos confirmados\": 1781}, {\"index\": 2, \"Grupo de edad\": \"50-59\", \"fecha (a\\u00f1o-mes-d\\u00eda)\": \"2020-04-17\", \"casos confirmados\": 1408}, {\"index\": 3, \"Grupo de edad\": \"60-69\", \"fecha (a\\u00f1o-mes-d\\u00eda)\": \"2020-04-17\", \"casos confirmados\": 819}, {\"index\": 4, \"Grupo de edad\": \"70-79\", \"fecha (a\\u00f1o-mes-d\\u00eda)\": \"2020-04-17\", \"casos confirmados\": 451}, {\"index\": 5, \"Grupo de edad\": \">=80\", \"fecha (a\\u00f1o-mes-d\\u00eda)\": \"2020-04-17\", \"casos confirmados\": 238}, {\"index\": 0, \"Grupo de edad\": \"<=39\", \"fecha (a\\u00f1o-mes-d\\u00eda)\": \"2020-04-18\", \"casos confirmados\": 4811}, {\"index\": 1, \"Grupo de edad\": \"40-49\", \"fecha (a\\u00f1o-mes-d\\u00eda)\": \"2020-04-18\", \"casos confirmados\": 1855}, {\"index\": 2, \"Grupo de edad\": \"50-59\", \"fecha (a\\u00f1o-mes-d\\u00eda)\": \"2020-04-18\", \"casos confirmados\": 1477}, {\"index\": 3, \"Grupo de edad\": \"60-69\", \"fecha (a\\u00f1o-mes-d\\u00eda)\": \"2020-04-18\", \"casos confirmados\": 854}, {\"index\": 4, \"Grupo de edad\": \"70-79\", \"fecha (a\\u00f1o-mes-d\\u00eda)\": \"2020-04-18\", \"casos confirmados\": 480}, {\"index\": 5, \"Grupo de edad\": \">=80\", \"fecha (a\\u00f1o-mes-d\\u00eda)\": \"2020-04-18\", \"casos confirmados\": 253}, {\"index\": 0, \"Grupo de edad\": \"<=39\", \"fecha (a\\u00f1o-mes-d\\u00eda)\": \"2020-04-19\", \"casos confirmados\": 4999}, {\"index\": 1, \"Grupo de edad\": \"40-49\", \"fecha (a\\u00f1o-mes-d\\u00eda)\": \"2020-04-19\", \"casos confirmados\": 1926}, {\"index\": 2, \"Grupo de edad\": \"50-59\", \"fecha (a\\u00f1o-mes-d\\u00eda)\": \"2020-04-19\", \"casos confirmados\": 1522}, {\"index\": 3, \"Grupo de edad\": \"60-69\", \"fecha (a\\u00f1o-mes-d\\u00eda)\": \"2020-04-19\", \"casos confirmados\": 873}, {\"index\": 4, \"Grupo de edad\": \"70-79\", \"fecha (a\\u00f1o-mes-d\\u00eda)\": \"2020-04-19\", \"casos confirmados\": 497}, {\"index\": 5, \"Grupo de edad\": \">=80\", \"fecha (a\\u00f1o-mes-d\\u00eda)\": \"2020-04-19\", \"casos confirmados\": 271}, {\"index\": 0, \"Grupo de edad\": \"<=39\", \"fecha (a\\u00f1o-mes-d\\u00eda)\": \"2020-04-20\", \"casos confirmados\": 5200}, {\"index\": 1, \"Grupo de edad\": \"40-49\", \"fecha (a\\u00f1o-mes-d\\u00eda)\": \"2020-04-20\", \"casos confirmados\": 1979}, {\"index\": 2, \"Grupo de edad\": \"50-59\", \"fecha (a\\u00f1o-mes-d\\u00eda)\": \"2020-04-20\", \"casos confirmados\": 1572}, {\"index\": 3, \"Grupo de edad\": \"60-69\", \"fecha (a\\u00f1o-mes-d\\u00eda)\": \"2020-04-20\", \"casos confirmados\": 901}, {\"index\": 4, \"Grupo de edad\": \"70-79\", \"fecha (a\\u00f1o-mes-d\\u00eda)\": \"2020-04-20\", \"casos confirmados\": 515}, {\"index\": 5, \"Grupo de edad\": \">=80\", \"fecha (a\\u00f1o-mes-d\\u00eda)\": \"2020-04-20\", \"casos confirmados\": 284}, {\"index\": 0, \"Grupo de edad\": \"<=39\", \"fecha (a\\u00f1o-mes-d\\u00eda)\": \"2020-04-21\", \"casos confirmados\": 5434}, {\"index\": 1, \"Grupo de edad\": \"40-49\", \"fecha (a\\u00f1o-mes-d\\u00eda)\": \"2020-04-21\", \"casos confirmados\": 2029}, {\"index\": 2, \"Grupo de edad\": \"50-59\", \"fecha (a\\u00f1o-mes-d\\u00eda)\": \"2020-04-21\", \"casos confirmados\": 1620}, {\"index\": 3, \"Grupo de edad\": \"60-69\", \"fecha (a\\u00f1o-mes-d\\u00eda)\": \"2020-04-21\", \"casos confirmados\": 933}, {\"index\": 4, \"Grupo de edad\": \"70-79\", \"fecha (a\\u00f1o-mes-d\\u00eda)\": \"2020-04-21\", \"casos confirmados\": 528}, {\"index\": 5, \"Grupo de edad\": \">=80\", \"fecha (a\\u00f1o-mes-d\\u00eda)\": \"2020-04-21\", \"casos confirmados\": 288}, {\"index\": 0, \"Grupo de edad\": \"<=39\", \"fecha (a\\u00f1o-mes-d\\u00eda)\": \"2020-04-22\", \"casos confirmados\": 5682}, {\"index\": 1, \"Grupo de edad\": \"40-49\", \"fecha (a\\u00f1o-mes-d\\u00eda)\": \"2020-04-22\", \"casos confirmados\": 2102}, {\"index\": 2, \"Grupo de edad\": \"50-59\", \"fecha (a\\u00f1o-mes-d\\u00eda)\": \"2020-04-22\", \"casos confirmados\": 1693}, {\"index\": 3, \"Grupo de edad\": \"60-69\", \"fecha (a\\u00f1o-mes-d\\u00eda)\": \"2020-04-22\", \"casos confirmados\": 971}, {\"index\": 4, \"Grupo de edad\": \"70-79\", \"fecha (a\\u00f1o-mes-d\\u00eda)\": \"2020-04-22\", \"casos confirmados\": 544}, {\"index\": 5, \"Grupo de edad\": \">=80\", \"fecha (a\\u00f1o-mes-d\\u00eda)\": \"2020-04-22\", \"casos confirmados\": 304}, {\"index\": 0, \"Grupo de edad\": \"<=39\", \"fecha (a\\u00f1o-mes-d\\u00eda)\": \"2020-04-23\", \"casos confirmados\": 5951}, {\"index\": 1, \"Grupo de edad\": \"40-49\", \"fecha (a\\u00f1o-mes-d\\u00eda)\": \"2020-04-23\", \"casos confirmados\": 2194}, {\"index\": 2, \"Grupo de edad\": \"50-59\", \"fecha (a\\u00f1o-mes-d\\u00eda)\": \"2020-04-23\", \"casos confirmados\": 1769}, {\"index\": 3, \"Grupo de edad\": \"60-69\", \"fecha (a\\u00f1o-mes-d\\u00eda)\": \"2020-04-23\", \"casos confirmados\": 1017}, {\"index\": 4, \"Grupo de edad\": \"70-79\", \"fecha (a\\u00f1o-mes-d\\u00eda)\": \"2020-04-23\", \"casos confirmados\": 561}, {\"index\": 5, \"Grupo de edad\": \">=80\", \"fecha (a\\u00f1o-mes-d\\u00eda)\": \"2020-04-23\", \"casos confirmados\": 320}, {\"index\": 0, \"Grupo de edad\": \"<=39\", \"fecha (a\\u00f1o-mes-d\\u00eda)\": \"2020-04-24\", \"casos confirmados\": 6178}, {\"index\": 1, \"Grupo de edad\": \"40-49\", \"fecha (a\\u00f1o-mes-d\\u00eda)\": \"2020-04-24\", \"casos confirmados\": 2261}, {\"index\": 2, \"Grupo de edad\": \"50-59\", \"fecha (a\\u00f1o-mes-d\\u00eda)\": \"2020-04-24\", \"casos confirmados\": 1829}, {\"index\": 3, \"Grupo de edad\": \"60-69\", \"fecha (a\\u00f1o-mes-d\\u00eda)\": \"2020-04-24\", \"casos confirmados\": 1048}, {\"index\": 4, \"Grupo de edad\": \"70-79\", \"fecha (a\\u00f1o-mes-d\\u00eda)\": \"2020-04-24\", \"casos confirmados\": 572}, {\"index\": 5, \"Grupo de edad\": \">=80\", \"fecha (a\\u00f1o-mes-d\\u00eda)\": \"2020-04-24\", \"casos confirmados\": 326}, {\"index\": 0, \"Grupo de edad\": \"<=39\", \"fecha (a\\u00f1o-mes-d\\u00eda)\": \"2020-04-25\", \"casos confirmados\": 6495}, {\"index\": 1, \"Grupo de edad\": \"40-49\", \"fecha (a\\u00f1o-mes-d\\u00eda)\": \"2020-04-25\", \"casos confirmados\": 2357}, {\"index\": 2, \"Grupo de edad\": \"50-59\", \"fecha (a\\u00f1o-mes-d\\u00eda)\": \"2020-04-25\", \"casos confirmados\": 1913}, {\"index\": 3, \"Grupo de edad\": \"60-69\", \"fecha (a\\u00f1o-mes-d\\u00eda)\": \"2020-04-25\", \"casos confirmados\": 1083}, {\"index\": 4, \"Grupo de edad\": \"70-79\", \"fecha (a\\u00f1o-mes-d\\u00eda)\": \"2020-04-25\", \"casos confirmados\": 592}, {\"index\": 5, \"Grupo de edad\": \">=80\", \"fecha (a\\u00f1o-mes-d\\u00eda)\": \"2020-04-25\", \"casos confirmados\": 345}, {\"index\": 0, \"Grupo de edad\": \"<=39\", \"fecha (a\\u00f1o-mes-d\\u00eda)\": \"2020-04-26\", \"casos confirmados\": 6772}, {\"index\": 1, \"Grupo de edad\": \"40-49\", \"fecha (a\\u00f1o-mes-d\\u00eda)\": \"2020-04-26\", \"casos confirmados\": 2421}, {\"index\": 2, \"Grupo de edad\": \"50-59\", \"fecha (a\\u00f1o-mes-d\\u00eda)\": \"2020-04-26\", \"casos confirmados\": 1991}, {\"index\": 3, \"Grupo de edad\": \"60-69\", \"fecha (a\\u00f1o-mes-d\\u00eda)\": \"2020-04-26\", \"casos confirmados\": 1115}, {\"index\": 4, \"Grupo de edad\": \"70-79\", \"fecha (a\\u00f1o-mes-d\\u00eda)\": \"2020-04-26\", \"casos confirmados\": 616}, {\"index\": 5, \"Grupo de edad\": \">=80\", \"fecha (a\\u00f1o-mes-d\\u00eda)\": \"2020-04-26\", \"casos confirmados\": 369}, {\"index\": 0, \"Grupo de edad\": \"<=39\", \"fecha (a\\u00f1o-mes-d\\u00eda)\": \"2020-04-27\", \"casos confirmados\": 7006}, {\"index\": 1, \"Grupo de edad\": \"40-49\", \"fecha (a\\u00f1o-mes-d\\u00eda)\": \"2020-04-27\", \"casos confirmados\": 2492}, {\"index\": 2, \"Grupo de edad\": \"50-59\", \"fecha (a\\u00f1o-mes-d\\u00eda)\": \"2020-04-27\", \"casos confirmados\": 2036}, {\"index\": 3, \"Grupo de edad\": \"60-69\", \"fecha (a\\u00f1o-mes-d\\u00eda)\": \"2020-04-27\", \"casos confirmados\": 1156}, {\"index\": 4, \"Grupo de edad\": \"70-79\", \"fecha (a\\u00f1o-mes-d\\u00eda)\": \"2020-04-27\", \"casos confirmados\": 627}, {\"index\": 5, \"Grupo de edad\": \">=80\", \"fecha (a\\u00f1o-mes-d\\u00eda)\": \"2020-04-27\", \"casos confirmados\": 387}, {\"index\": 0, \"Grupo de edad\": \"<=39\", \"fecha (a\\u00f1o-mes-d\\u00eda)\": \"2020-04-28\", \"casos confirmados\": 7358}, {\"index\": 1, \"Grupo de edad\": \"40-49\", \"fecha (a\\u00f1o-mes-d\\u00eda)\": \"2020-04-28\", \"casos confirmados\": 2597}, {\"index\": 2, \"Grupo de edad\": \"50-59\", \"fecha (a\\u00f1o-mes-d\\u00eda)\": \"2020-04-28\", \"casos confirmados\": 2118}, {\"index\": 3, \"Grupo de edad\": \"60-69\", \"fecha (a\\u00f1o-mes-d\\u00eda)\": \"2020-04-28\", \"casos confirmados\": 1206}, {\"index\": 4, \"Grupo de edad\": \"70-79\", \"fecha (a\\u00f1o-mes-d\\u00eda)\": \"2020-04-28\", \"casos confirmados\": 664}, {\"index\": 5, \"Grupo de edad\": \">=80\", \"fecha (a\\u00f1o-mes-d\\u00eda)\": \"2020-04-28\", \"casos confirmados\": 419}, {\"index\": 0, \"Grupo de edad\": \"<=39\", \"fecha (a\\u00f1o-mes-d\\u00eda)\": \"2020-05-01\", \"casos confirmados\": 8841}, {\"index\": 1, \"Grupo de edad\": \"40-49\", \"fecha (a\\u00f1o-mes-d\\u00eda)\": \"2020-05-01\", \"casos confirmados\": 3038}, {\"index\": 2, \"Grupo de edad\": \"50-59\", \"fecha (a\\u00f1o-mes-d\\u00eda)\": \"2020-05-01\", \"casos confirmados\": 2507}, {\"index\": 3, \"Grupo de edad\": \"60-69\", \"fecha (a\\u00f1o-mes-d\\u00eda)\": \"2020-05-01\", \"casos confirmados\": 1387}, {\"index\": 4, \"Grupo de edad\": \"70-79\", \"fecha (a\\u00f1o-mes-d\\u00eda)\": \"2020-05-01\", \"casos confirmados\": 746}, {\"index\": 5, \"Grupo de edad\": \">=80\", \"fecha (a\\u00f1o-mes-d\\u00eda)\": \"2020-05-01\", \"casos confirmados\": 489}, {\"index\": 0, \"Grupo de edad\": \"<=39\", \"fecha (a\\u00f1o-mes-d\\u00eda)\": \"2020-05-02\", \"casos confirmados\": 9636}, {\"index\": 1, \"Grupo de edad\": \"40-49\", \"fecha (a\\u00f1o-mes-d\\u00eda)\": \"2020-05-02\", \"casos confirmados\": 3287}, {\"index\": 2, \"Grupo de edad\": \"50-59\", \"fecha (a\\u00f1o-mes-d\\u00eda)\": \"2020-05-02\", \"casos confirmados\": 2709}, {\"index\": 3, \"Grupo de edad\": \"60-69\", \"fecha (a\\u00f1o-mes-d\\u00eda)\": \"2020-05-02\", \"casos confirmados\": 1503}, {\"index\": 4, \"Grupo de edad\": \"70-79\", \"fecha (a\\u00f1o-mes-d\\u00eda)\": \"2020-05-02\", \"casos confirmados\": 787}, {\"index\": 5, \"Grupo de edad\": \">=80\", \"fecha (a\\u00f1o-mes-d\\u00eda)\": \"2020-05-02\", \"casos confirmados\": 511}, {\"index\": 0, \"Grupo de edad\": \"<=39\", \"fecha (a\\u00f1o-mes-d\\u00eda)\": \"2020-05-04\", \"casos confirmados\": 10795}, {\"index\": 1, \"Grupo de edad\": \"40-49\", \"fecha (a\\u00f1o-mes-d\\u00eda)\": \"2020-05-04\", \"casos confirmados\": 3625}, {\"index\": 2, \"Grupo de edad\": \"50-59\", \"fecha (a\\u00f1o-mes-d\\u00eda)\": \"2020-05-04\", \"casos confirmados\": 3023}, {\"index\": 3, \"Grupo de edad\": \"60-69\", \"fecha (a\\u00f1o-mes-d\\u00eda)\": \"2020-05-04\", \"casos confirmados\": 1680}, {\"index\": 4, \"Grupo de edad\": \"70-79\", \"fecha (a\\u00f1o-mes-d\\u00eda)\": \"2020-05-04\", \"casos confirmados\": 877}, {\"index\": 5, \"Grupo de edad\": \">=80\", \"fecha (a\\u00f1o-mes-d\\u00eda)\": \"2020-05-04\", \"casos confirmados\": 567}, {\"index\": 0, \"Grupo de edad\": \"<=39\", \"fecha (a\\u00f1o-mes-d\\u00eda)\": \"2020-05-06\", \"casos confirmados\": 12183}, {\"index\": 1, \"Grupo de edad\": \"40-49\", \"fecha (a\\u00f1o-mes-d\\u00eda)\": \"2020-05-06\", \"casos confirmados\": 4029}, {\"index\": 2, \"Grupo de edad\": \"50-59\", \"fecha (a\\u00f1o-mes-d\\u00eda)\": \"2020-05-06\", \"casos confirmados\": 3361}, {\"index\": 3, \"Grupo de edad\": \"60-69\", \"fecha (a\\u00f1o-mes-d\\u00eda)\": \"2020-05-06\", \"casos confirmados\": 1864}, {\"index\": 4, \"Grupo de edad\": \"70-79\", \"fecha (a\\u00f1o-mes-d\\u00eda)\": \"2020-05-06\", \"casos confirmados\": 952}, {\"index\": 5, \"Grupo de edad\": \">=80\", \"fecha (a\\u00f1o-mes-d\\u00eda)\": \"2020-05-06\", \"casos confirmados\": 622}, {\"index\": 0, \"Grupo de edad\": \"<=39\", \"fecha (a\\u00f1o-mes-d\\u00eda)\": \"2020-05-08\", \"casos confirmados\": 13750}, {\"index\": 1, \"Grupo de edad\": \"40-49\", \"fecha (a\\u00f1o-mes-d\\u00eda)\": \"2020-05-08\", \"casos confirmados\": 4556}, {\"index\": 2, \"Grupo de edad\": \"50-59\", \"fecha (a\\u00f1o-mes-d\\u00eda)\": \"2020-05-08\", \"casos confirmados\": 3768}, {\"index\": 3, \"Grupo de edad\": \"60-69\", \"fecha (a\\u00f1o-mes-d\\u00eda)\": \"2020-05-08\", \"casos confirmados\": 2138}, {\"index\": 4, \"Grupo de edad\": \"70-79\", \"fecha (a\\u00f1o-mes-d\\u00eda)\": \"2020-05-08\", \"casos confirmados\": 1052}, {\"index\": 5, \"Grupo de edad\": \">=80\", \"fecha (a\\u00f1o-mes-d\\u00eda)\": \"2020-05-08\", \"casos confirmados\": 688}, {\"index\": 0, \"Grupo de edad\": \"<=39\", \"fecha (a\\u00f1o-mes-d\\u00eda)\": \"2020-05-11\", \"casos confirmados\": 16047}, {\"index\": 1, \"Grupo de edad\": \"40-49\", \"fecha (a\\u00f1o-mes-d\\u00eda)\": \"2020-05-11\", \"casos confirmados\": 5219}, {\"index\": 2, \"Grupo de edad\": \"50-59\", \"fecha (a\\u00f1o-mes-d\\u00eda)\": \"2020-05-11\", \"casos confirmados\": 4314}, {\"index\": 3, \"Grupo de edad\": \"60-69\", \"fecha (a\\u00f1o-mes-d\\u00eda)\": \"2020-05-11\", \"casos confirmados\": 2470}, {\"index\": 4, \"Grupo de edad\": \"70-79\", \"fecha (a\\u00f1o-mes-d\\u00eda)\": \"2020-05-11\", \"casos confirmados\": 1208}, {\"index\": 5, \"Grupo de edad\": \">=80\", \"fecha (a\\u00f1o-mes-d\\u00eda)\": \"2020-05-11\", \"casos confirmados\": 789}, {\"index\": 0, \"Grupo de edad\": \"<=39\", \"fecha (a\\u00f1o-mes-d\\u00eda)\": \"2020-05-15\", \"casos confirmados\": 21306}, {\"index\": 1, \"Grupo de edad\": \"40-49\", \"fecha (a\\u00f1o-mes-d\\u00eda)\": \"2020-05-15\", \"casos confirmados\": 6821}, {\"index\": 2, \"Grupo de edad\": \"50-59\", \"fecha (a\\u00f1o-mes-d\\u00eda)\": \"2020-05-15\", \"casos confirmados\": 5674}, {\"index\": 3, \"Grupo de edad\": \"60-69\", \"fecha (a\\u00f1o-mes-d\\u00eda)\": \"2020-05-15\", \"casos confirmados\": 3190}, {\"index\": 4, \"Grupo de edad\": \"70-79\", \"fecha (a\\u00f1o-mes-d\\u00eda)\": \"2020-05-15\", \"casos confirmados\": 1541}, {\"index\": 5, \"Grupo de edad\": \">=80\", \"fecha (a\\u00f1o-mes-d\\u00eda)\": \"2020-05-15\", \"casos confirmados\": 979}, {\"index\": 0, \"Grupo de edad\": \"<=39\", \"fecha (a\\u00f1o-mes-d\\u00eda)\": \"2020-05-18\", \"casos confirmados\": 24830}, {\"index\": 1, \"Grupo de edad\": \"40-49\", \"fecha (a\\u00f1o-mes-d\\u00eda)\": \"2020-05-18\", \"casos confirmados\": 7953}, {\"index\": 2, \"Grupo de edad\": \"50-59\", \"fecha (a\\u00f1o-mes-d\\u00eda)\": \"2020-05-18\", \"casos confirmados\": 6624}, {\"index\": 3, \"Grupo de edad\": \"60-69\", \"fecha (a\\u00f1o-mes-d\\u00eda)\": \"2020-05-18\", \"casos confirmados\": 3748}, {\"index\": 4, \"Grupo de edad\": \"70-79\", \"fecha (a\\u00f1o-mes-d\\u00eda)\": \"2020-05-18\", \"casos confirmados\": 1785}, {\"index\": 5, \"Grupo de edad\": \">=80\", \"fecha (a\\u00f1o-mes-d\\u00eda)\": \"2020-05-18\", \"casos confirmados\": 1108}, {\"index\": 0, \"Grupo de edad\": \"<=39\", \"fecha (a\\u00f1o-mes-d\\u00eda)\": \"2020-05-22\", \"casos confirmados\": 33248}, {\"index\": 1, \"Grupo de edad\": \"40-49\", \"fecha (a\\u00f1o-mes-d\\u00eda)\": \"2020-05-22\", \"casos confirmados\": 10674}, {\"index\": 2, \"Grupo de edad\": \"50-59\", \"fecha (a\\u00f1o-mes-d\\u00eda)\": \"2020-05-22\", \"casos confirmados\": 9078}, {\"index\": 3, \"Grupo de edad\": \"60-69\", \"fecha (a\\u00f1o-mes-d\\u00eda)\": \"2020-05-22\", \"casos confirmados\": 5061}, {\"index\": 4, \"Grupo de edad\": \"70-79\", \"fecha (a\\u00f1o-mes-d\\u00eda)\": \"2020-05-22\", \"casos confirmados\": 2372}, {\"index\": 5, \"Grupo de edad\": \">=80\", \"fecha (a\\u00f1o-mes-d\\u00eda)\": \"2020-05-22\", \"casos confirmados\": 1415}, {\"index\": 0, \"Grupo de edad\": \"<=39\", \"fecha (a\\u00f1o-mes-d\\u00eda)\": \"2020-05-25\", \"casos confirmados\": 39590}, {\"index\": 1, \"Grupo de edad\": \"40-49\", \"fecha (a\\u00f1o-mes-d\\u00eda)\": \"2020-05-25\", \"casos confirmados\": 12938}, {\"index\": 2, \"Grupo de edad\": \"50-59\", \"fecha (a\\u00f1o-mes-d\\u00eda)\": \"2020-05-25\", \"casos confirmados\": 10932}, {\"index\": 3, \"Grupo de edad\": \"60-69\", \"fecha (a\\u00f1o-mes-d\\u00eda)\": \"2020-05-25\", \"casos confirmados\": 6021}, {\"index\": 4, \"Grupo de edad\": \"70-79\", \"fecha (a\\u00f1o-mes-d\\u00eda)\": \"2020-05-25\", \"casos confirmados\": 2822}, {\"index\": 5, \"Grupo de edad\": \">=80\", \"fecha (a\\u00f1o-mes-d\\u00eda)\": \"2020-05-25\", \"casos confirmados\": 1692}, {\"index\": 0, \"Grupo de edad\": \"<=39\", \"fecha (a\\u00f1o-mes-d\\u00eda)\": \"2020-05-29\", \"casos confirmados\": 48246}, {\"index\": 1, \"Grupo de edad\": \"40-49\", \"fecha (a\\u00f1o-mes-d\\u00eda)\": \"2020-05-29\", \"casos confirmados\": 15665}, {\"index\": 2, \"Grupo de edad\": \"50-59\", \"fecha (a\\u00f1o-mes-d\\u00eda)\": \"2020-05-29\", \"casos confirmados\": 13525}, {\"index\": 3, \"Grupo de edad\": \"60-69\", \"fecha (a\\u00f1o-mes-d\\u00eda)\": \"2020-05-29\", \"casos confirmados\": 7515}, {\"index\": 4, \"Grupo de edad\": \"70-79\", \"fecha (a\\u00f1o-mes-d\\u00eda)\": \"2020-05-29\", \"casos confirmados\": 3548}, {\"index\": 5, \"Grupo de edad\": \">=80\", \"fecha (a\\u00f1o-mes-d\\u00eda)\": \"2020-05-29\", \"casos confirmados\": 2135}, {\"index\": 0, \"Grupo de edad\": \"<=39\", \"fecha (a\\u00f1o-mes-d\\u00eda)\": \"2020-06-01\", \"casos confirmados\": 55579}, {\"index\": 1, \"Grupo de edad\": \"40-49\", \"fecha (a\\u00f1o-mes-d\\u00eda)\": \"2020-06-01\", \"casos confirmados\": 18150}, {\"index\": 2, \"Grupo de edad\": \"50-59\", \"fecha (a\\u00f1o-mes-d\\u00eda)\": \"2020-06-01\", \"casos confirmados\": 15817}, {\"index\": 3, \"Grupo de edad\": \"60-69\", \"fecha (a\\u00f1o-mes-d\\u00eda)\": \"2020-06-01\", \"casos confirmados\": 8836}, {\"index\": 4, \"Grupo de edad\": \"70-79\", \"fecha (a\\u00f1o-mes-d\\u00eda)\": \"2020-06-01\", \"casos confirmados\": 4249}, {\"index\": 5, \"Grupo de edad\": \">=80\", \"fecha (a\\u00f1o-mes-d\\u00eda)\": \"2020-06-01\", \"casos confirmados\": 2526}, {\"index\": 0, \"Grupo de edad\": \"<=39\", \"fecha (a\\u00f1o-mes-d\\u00eda)\": \"2020-06-05\", \"casos confirmados\": 64367}, {\"index\": 1, \"Grupo de edad\": \"40-49\", \"fecha (a\\u00f1o-mes-d\\u00eda)\": \"2020-06-05\", \"casos confirmados\": 21192}, {\"index\": 2, \"Grupo de edad\": \"50-59\", \"fecha (a\\u00f1o-mes-d\\u00eda)\": \"2020-06-05\", \"casos confirmados\": 18555}, {\"index\": 3, \"Grupo de edad\": \"60-69\", \"fecha (a\\u00f1o-mes-d\\u00eda)\": \"2020-06-05\", \"casos confirmados\": 10378}, {\"index\": 4, \"Grupo de edad\": \"70-79\", \"fecha (a\\u00f1o-mes-d\\u00eda)\": \"2020-06-05\", \"casos confirmados\": 5033}, {\"index\": 5, \"Grupo de edad\": \">=80\", \"fecha (a\\u00f1o-mes-d\\u00eda)\": \"2020-06-05\", \"casos confirmados\": 2970}, {\"index\": 0, \"Grupo de edad\": \"<=39\", \"fecha (a\\u00f1o-mes-d\\u00eda)\": \"2020-06-08\", \"casos confirmados\": 72445}, {\"index\": 1, \"Grupo de edad\": \"40-49\", \"fecha (a\\u00f1o-mes-d\\u00eda)\": \"2020-06-08\", \"casos confirmados\": 24095}, {\"index\": 2, \"Grupo de edad\": \"50-59\", \"fecha (a\\u00f1o-mes-d\\u00eda)\": \"2020-06-08\", \"casos confirmados\": 21225}, {\"index\": 3, \"Grupo de edad\": \"60-69\", \"fecha (a\\u00f1o-mes-d\\u00eda)\": \"2020-06-08\", \"casos confirmados\": 11880}, {\"index\": 4, \"Grupo de edad\": \"70-79\", \"fecha (a\\u00f1o-mes-d\\u00eda)\": \"2020-06-08\", \"casos confirmados\": 5771}, {\"index\": 5, \"Grupo de edad\": \">=80\", \"fecha (a\\u00f1o-mes-d\\u00eda)\": \"2020-06-08\", \"casos confirmados\": 3426}, {\"index\": 0, \"Grupo de edad\": \"<=39\", \"fecha (a\\u00f1o-mes-d\\u00eda)\": \"2020-06-12\", \"casos confirmados\": 83297}, {\"index\": 1, \"Grupo de edad\": \"40-49\", \"fecha (a\\u00f1o-mes-d\\u00eda)\": \"2020-06-12\", \"casos confirmados\": 27767}, {\"index\": 2, \"Grupo de edad\": \"50-59\", \"fecha (a\\u00f1o-mes-d\\u00eda)\": \"2020-06-12\", \"casos confirmados\": 24756}, {\"index\": 3, \"Grupo de edad\": \"60-69\", \"fecha (a\\u00f1o-mes-d\\u00eda)\": \"2020-06-12\", \"casos confirmados\": 14011}, {\"index\": 4, \"Grupo de edad\": \"70-79\", \"fecha (a\\u00f1o-mes-d\\u00eda)\": \"2020-06-12\", \"casos confirmados\": 6827}, {\"index\": 5, \"Grupo de edad\": \">=80\", \"fecha (a\\u00f1o-mes-d\\u00eda)\": \"2020-06-12\", \"casos confirmados\": 4182}, {\"index\": 0, \"Grupo de edad\": \"<=39\", \"fecha (a\\u00f1o-mes-d\\u00eda)\": \"2020-06-15\", \"casos confirmados\": 92142}, {\"index\": 1, \"Grupo de edad\": \"40-49\", \"fecha (a\\u00f1o-mes-d\\u00eda)\": \"2020-06-15\", \"casos confirmados\": 31008}, {\"index\": 2, \"Grupo de edad\": \"50-59\", \"fecha (a\\u00f1o-mes-d\\u00eda)\": \"2020-06-15\", \"casos confirmados\": 28049}, {\"index\": 3, \"Grupo de edad\": \"60-69\", \"fecha (a\\u00f1o-mes-d\\u00eda)\": \"2020-06-15\", \"casos confirmados\": 15780}, {\"index\": 4, \"Grupo de edad\": \"70-79\", \"fecha (a\\u00f1o-mes-d\\u00eda)\": \"2020-06-15\", \"casos confirmados\": 7737}, {\"index\": 5, \"Grupo de edad\": \">=80\", \"fecha (a\\u00f1o-mes-d\\u00eda)\": \"2020-06-15\", \"casos confirmados\": 4714}, {\"index\": 0, \"Grupo de edad\": \"<=39\", \"fecha (a\\u00f1o-mes-d\\u00eda)\": \"2020-06-19\", \"casos confirmados\": 119298}, {\"index\": 1, \"Grupo de edad\": \"40-49\", \"fecha (a\\u00f1o-mes-d\\u00eda)\": \"2020-06-19\", \"casos confirmados\": 39668}, {\"index\": 2, \"Grupo de edad\": \"50-59\", \"fecha (a\\u00f1o-mes-d\\u00eda)\": \"2020-06-19\", \"casos confirmados\": 36128}, {\"index\": 3, \"Grupo de edad\": \"60-69\", \"fecha (a\\u00f1o-mes-d\\u00eda)\": \"2020-06-19\", \"casos confirmados\": 20250}, {\"index\": 4, \"Grupo de edad\": \"70-79\", \"fecha (a\\u00f1o-mes-d\\u00eda)\": \"2020-06-19\", \"casos confirmados\": 9905}, {\"index\": 5, \"Grupo de edad\": \">=80\", \"fecha (a\\u00f1o-mes-d\\u00eda)\": \"2020-06-19\", \"casos confirmados\": 6103}, {\"index\": 0, \"Grupo de edad\": \"<=39\", \"fecha (a\\u00f1o-mes-d\\u00eda)\": \"2020-06-23\", \"casos confirmados\": 131528}, {\"index\": 1, \"Grupo de edad\": \"40-49\", \"fecha (a\\u00f1o-mes-d\\u00eda)\": \"2020-06-23\", \"casos confirmados\": 43710}, {\"index\": 2, \"Grupo de edad\": \"50-59\", \"fecha (a\\u00f1o-mes-d\\u00eda)\": \"2020-06-23\", \"casos confirmados\": 39940}, {\"index\": 3, \"Grupo de edad\": \"60-69\", \"fecha (a\\u00f1o-mes-d\\u00eda)\": \"2020-06-23\", \"casos confirmados\": 22457}, {\"index\": 4, \"Grupo de edad\": \"70-79\", \"fecha (a\\u00f1o-mes-d\\u00eda)\": \"2020-06-23\", \"casos confirmados\": 10922}, {\"index\": 5, \"Grupo de edad\": \">=80\", \"fecha (a\\u00f1o-mes-d\\u00eda)\": \"2020-06-23\", \"casos confirmados\": 6804}, {\"index\": 0, \"Grupo de edad\": \"<=39\", \"fecha (a\\u00f1o-mes-d\\u00eda)\": \"2020-06-28\", \"casos confirmados\": 144968}, {\"index\": 1, \"Grupo de edad\": \"40-49\", \"fecha (a\\u00f1o-mes-d\\u00eda)\": \"2020-06-28\", \"casos confirmados\": 48112}, {\"index\": 2, \"Grupo de edad\": \"50-59\", \"fecha (a\\u00f1o-mes-d\\u00eda)\": \"2020-06-28\", \"casos confirmados\": 43958}, {\"index\": 3, \"Grupo de edad\": \"60-69\", \"fecha (a\\u00f1o-mes-d\\u00eda)\": \"2020-06-28\", \"casos confirmados\": 24809}, {\"index\": 4, \"Grupo de edad\": \"70-79\", \"fecha (a\\u00f1o-mes-d\\u00eda)\": \"2020-06-28\", \"casos confirmados\": 12067}, {\"index\": 5, \"Grupo de edad\": \">=80\", \"fecha (a\\u00f1o-mes-d\\u00eda)\": \"2020-06-28\", \"casos confirmados\": 7544}, {\"index\": 0, \"Grupo de edad\": \"<=39\", \"fecha (a\\u00f1o-mes-d\\u00eda)\": \"2020-07-01\", \"casos confirmados\": 150348}, {\"index\": 1, \"Grupo de edad\": \"40-49\", \"fecha (a\\u00f1o-mes-d\\u00eda)\": \"2020-07-01\", \"casos confirmados\": 49910}, {\"index\": 2, \"Grupo de edad\": \"50-59\", \"fecha (a\\u00f1o-mes-d\\u00eda)\": \"2020-07-01\", \"casos confirmados\": 45651}, {\"index\": 3, \"Grupo de edad\": \"60-69\", \"fecha (a\\u00f1o-mes-d\\u00eda)\": \"2020-07-01\", \"casos confirmados\": 25838}, {\"index\": 4, \"Grupo de edad\": \"70-79\", \"fecha (a\\u00f1o-mes-d\\u00eda)\": \"2020-07-01\", \"casos confirmados\": 12594}, {\"index\": 5, \"Grupo de edad\": \">=80\", \"fecha (a\\u00f1o-mes-d\\u00eda)\": \"2020-07-01\", \"casos confirmados\": 7847}, {\"index\": 0, \"Grupo de edad\": \"<=39\", \"fecha (a\\u00f1o-mes-d\\u00eda)\": \"2020-07-05\", \"casos confirmados\": 158970}, {\"index\": 1, \"Grupo de edad\": \"40-49\", \"fecha (a\\u00f1o-mes-d\\u00eda)\": \"2020-07-05\", \"casos confirmados\": 52793}, {\"index\": 2, \"Grupo de edad\": \"50-59\", \"fecha (a\\u00f1o-mes-d\\u00eda)\": \"2020-07-05\", \"casos confirmados\": 48431}, {\"index\": 3, \"Grupo de edad\": \"60-69\", \"fecha (a\\u00f1o-mes-d\\u00eda)\": \"2020-07-05\", \"casos confirmados\": 27482}, {\"index\": 4, \"Grupo de edad\": \"70-79\", \"fecha (a\\u00f1o-mes-d\\u00eda)\": \"2020-07-05\", \"casos confirmados\": 13360}, {\"index\": 5, \"Grupo de edad\": \">=80\", \"fecha (a\\u00f1o-mes-d\\u00eda)\": \"2020-07-05\", \"casos confirmados\": 8320}, {\"index\": 0, \"Grupo de edad\": \"<=39\", \"fecha (a\\u00f1o-mes-d\\u00eda)\": \"2020-07-10\", \"casos confirmados\": 167415}, {\"index\": 1, \"Grupo de edad\": \"40-49\", \"fecha (a\\u00f1o-mes-d\\u00eda)\": \"2020-07-10\", \"casos confirmados\": 55525}, {\"index\": 2, \"Grupo de edad\": \"50-59\", \"fecha (a\\u00f1o-mes-d\\u00eda)\": \"2020-07-10\", \"casos confirmados\": 50928}, {\"index\": 3, \"Grupo de edad\": \"60-69\", \"fecha (a\\u00f1o-mes-d\\u00eda)\": \"2020-07-10\", \"casos confirmados\": 29089}, {\"index\": 4, \"Grupo de edad\": \"70-79\", \"fecha (a\\u00f1o-mes-d\\u00eda)\": \"2020-07-10\", \"casos confirmados\": 14229}, {\"index\": 5, \"Grupo de edad\": \">=80\", \"fecha (a\\u00f1o-mes-d\\u00eda)\": \"2020-07-10\", \"casos confirmados\": 8886}, {\"index\": 0, \"Grupo de edad\": \"<=39\", \"fecha (a\\u00f1o-mes-d\\u00eda)\": \"2020-07-13\", \"casos confirmados\": 172702}, {\"index\": 1, \"Grupo de edad\": \"40-49\", \"fecha (a\\u00f1o-mes-d\\u00eda)\": \"2020-07-13\", \"casos confirmados\": 57189}, {\"index\": 2, \"Grupo de edad\": \"50-59\", \"fecha (a\\u00f1o-mes-d\\u00eda)\": \"2020-07-13\", \"casos confirmados\": 52424}, {\"index\": 3, \"Grupo de edad\": \"60-69\", \"fecha (a\\u00f1o-mes-d\\u00eda)\": \"2020-07-13\", \"casos confirmados\": 30047}, {\"index\": 4, \"Grupo de edad\": \"70-79\", \"fecha (a\\u00f1o-mes-d\\u00eda)\": \"2020-07-13\", \"casos confirmados\": 14680}, {\"index\": 5, \"Grupo de edad\": \">=80\", \"fecha (a\\u00f1o-mes-d\\u00eda)\": \"2020-07-13\", \"casos confirmados\": 9212}, {\"index\": 0, \"Grupo de edad\": \"<=39\", \"fecha (a\\u00f1o-mes-d\\u00eda)\": \"2020-07-17\", \"casos confirmados\": 177959}, {\"index\": 1, \"Grupo de edad\": \"40-49\", \"fecha (a\\u00f1o-mes-d\\u00eda)\": \"2020-07-17\", \"casos confirmados\": 58898}, {\"index\": 2, \"Grupo de edad\": \"50-59\", \"fecha (a\\u00f1o-mes-d\\u00eda)\": \"2020-07-17\", \"casos confirmados\": 53945}, {\"index\": 3, \"Grupo de edad\": \"60-69\", \"fecha (a\\u00f1o-mes-d\\u00eda)\": \"2020-07-17\", \"casos confirmados\": 30971}, {\"index\": 4, \"Grupo de edad\": \"70-79\", \"fecha (a\\u00f1o-mes-d\\u00eda)\": \"2020-07-17\", \"casos confirmados\": 15158}, {\"index\": 5, \"Grupo de edad\": \">=80\", \"fecha (a\\u00f1o-mes-d\\u00eda)\": \"2020-07-17\", \"casos confirmados\": 9555}, {\"index\": 0, \"Grupo de edad\": \"<=39\", \"fecha (a\\u00f1o-mes-d\\u00eda)\": \"2020-07-24\", \"casos confirmados\": 185563}, {\"index\": 1, \"Grupo de edad\": \"40-49\", \"fecha (a\\u00f1o-mes-d\\u00eda)\": \"2020-07-24\", \"casos confirmados\": 61402}, {\"index\": 2, \"Grupo de edad\": \"50-59\", \"fecha (a\\u00f1o-mes-d\\u00eda)\": \"2020-07-24\", \"casos confirmados\": 56321}, {\"index\": 3, \"Grupo de edad\": \"60-69\", \"fecha (a\\u00f1o-mes-d\\u00eda)\": \"2020-07-24\", \"casos confirmados\": 32496}, {\"index\": 4, \"Grupo de edad\": \"70-79\", \"fecha (a\\u00f1o-mes-d\\u00eda)\": \"2020-07-24\", \"casos confirmados\": 15970}, {\"index\": 5, \"Grupo de edad\": \">=80\", \"fecha (a\\u00f1o-mes-d\\u00eda)\": \"2020-07-24\", \"casos confirmados\": 10090}, {\"index\": 0, \"Grupo de edad\": \"<=39\", \"fecha (a\\u00f1o-mes-d\\u00eda)\": \"2020-07-27\", \"casos confirmados\": 188907}, {\"index\": 1, \"Grupo de edad\": \"40-49\", \"fecha (a\\u00f1o-mes-d\\u00eda)\": \"2020-07-27\", \"casos confirmados\": 62455}, {\"index\": 2, \"Grupo de edad\": \"50-59\", \"fecha (a\\u00f1o-mes-d\\u00eda)\": \"2020-07-27\", \"casos confirmados\": 57330}, {\"index\": 3, \"Grupo de edad\": \"60-69\", \"fecha (a\\u00f1o-mes-d\\u00eda)\": \"2020-07-27\", \"casos confirmados\": 33082}, {\"index\": 4, \"Grupo de edad\": \"70-79\", \"fecha (a\\u00f1o-mes-d\\u00eda)\": \"2020-07-27\", \"casos confirmados\": 16314}, {\"index\": 5, \"Grupo de edad\": \">=80\", \"fecha (a\\u00f1o-mes-d\\u00eda)\": \"2020-07-27\", \"casos confirmados\": 10348}, {\"index\": 0, \"Grupo de edad\": \"<=39\", \"fecha (a\\u00f1o-mes-d\\u00eda)\": \"2020-07-31\", \"casos confirmados\": 192692}, {\"index\": 1, \"Grupo de edad\": \"40-49\", \"fecha (a\\u00f1o-mes-d\\u00eda)\": \"2020-07-31\", \"casos confirmados\": 63751}, {\"index\": 2, \"Grupo de edad\": \"50-59\", \"fecha (a\\u00f1o-mes-d\\u00eda)\": \"2020-07-31\", \"casos confirmados\": 58580}, {\"index\": 3, \"Grupo de edad\": \"60-69\", \"fecha (a\\u00f1o-mes-d\\u00eda)\": \"2020-07-31\", \"casos confirmados\": 33859}, {\"index\": 4, \"Grupo de edad\": \"70-79\", \"fecha (a\\u00f1o-mes-d\\u00eda)\": \"2020-07-31\", \"casos confirmados\": 16728}, {\"index\": 5, \"Grupo de edad\": \">=80\", \"fecha (a\\u00f1o-mes-d\\u00eda)\": \"2020-07-31\", \"casos confirmados\": 10606}, {\"index\": 0, \"Grupo de edad\": \"<=39\", \"fecha (a\\u00f1o-mes-d\\u00eda)\": \"2020-08-03\", \"casos confirmados\": 195645}, {\"index\": 1, \"Grupo de edad\": \"40-49\", \"fecha (a\\u00f1o-mes-d\\u00eda)\": \"2020-08-03\", \"casos confirmados\": 64699}, {\"index\": 2, \"Grupo de edad\": \"50-59\", \"fecha (a\\u00f1o-mes-d\\u00eda)\": \"2020-08-03\", \"casos confirmados\": 59538}, {\"index\": 3, \"Grupo de edad\": \"60-69\", \"fecha (a\\u00f1o-mes-d\\u00eda)\": \"2020-08-03\", \"casos confirmados\": 34433}, {\"index\": 4, \"Grupo de edad\": \"70-79\", \"fecha (a\\u00f1o-mes-d\\u00eda)\": \"2020-08-03\", \"casos confirmados\": 17026}, {\"index\": 5, \"Grupo de edad\": \">=80\", \"fecha (a\\u00f1o-mes-d\\u00eda)\": \"2020-08-03\", \"casos confirmados\": 10774}, {\"index\": 0, \"Grupo de edad\": \"<=39\", \"fecha (a\\u00f1o-mes-d\\u00eda)\": \"2020-08-07\", \"casos confirmados\": 201153}, {\"index\": 1, \"Grupo de edad\": \"40-49\", \"fecha (a\\u00f1o-mes-d\\u00eda)\": \"2020-08-07\", \"casos confirmados\": 66248}, {\"index\": 2, \"Grupo de edad\": \"50-59\", \"fecha (a\\u00f1o-mes-d\\u00eda)\": \"2020-08-07\", \"casos confirmados\": 60883}, {\"index\": 3, \"Grupo de edad\": \"60-69\", \"fecha (a\\u00f1o-mes-d\\u00eda)\": \"2020-08-07\", \"casos confirmados\": 35260}, {\"index\": 4, \"Grupo de edad\": \"70-79\", \"fecha (a\\u00f1o-mes-d\\u00eda)\": \"2020-08-07\", \"casos confirmados\": 17448}, {\"index\": 5, \"Grupo de edad\": \">=80\", \"fecha (a\\u00f1o-mes-d\\u00eda)\": \"2020-08-07\", \"casos confirmados\": 11012}, {\"index\": 0, \"Grupo de edad\": \"<=39\", \"fecha (a\\u00f1o-mes-d\\u00eda)\": \"2020-08-10\", \"casos confirmados\": 205353}, {\"index\": 1, \"Grupo de edad\": \"40-49\", \"fecha (a\\u00f1o-mes-d\\u00eda)\": \"2020-08-10\", \"casos confirmados\": 67456}, {\"index\": 2, \"Grupo de edad\": \"50-59\", \"fecha (a\\u00f1o-mes-d\\u00eda)\": \"2020-08-10\", \"casos confirmados\": 62072}, {\"index\": 3, \"Grupo de edad\": \"60-69\", \"fecha (a\\u00f1o-mes-d\\u00eda)\": \"2020-08-10\", \"casos confirmados\": 35915}, {\"index\": 4, \"Grupo de edad\": \"70-79\", \"fecha (a\\u00f1o-mes-d\\u00eda)\": \"2020-08-10\", \"casos confirmados\": 17818}, {\"index\": 5, \"Grupo de edad\": \">=80\", \"fecha (a\\u00f1o-mes-d\\u00eda)\": \"2020-08-10\", \"casos confirmados\": 11218}, {\"index\": 0, \"Grupo de edad\": \"<=39\", \"fecha (a\\u00f1o-mes-d\\u00eda)\": \"2020-08-14\", \"casos confirmados\": 210240}, {\"index\": 1, \"Grupo de edad\": \"40-49\", \"fecha (a\\u00f1o-mes-d\\u00eda)\": \"2020-08-14\", \"casos confirmados\": 68948}, {\"index\": 2, \"Grupo de edad\": \"50-59\", \"fecha (a\\u00f1o-mes-d\\u00eda)\": \"2020-08-14\", \"casos confirmados\": 63410}, {\"index\": 3, \"Grupo de edad\": \"60-69\", \"fecha (a\\u00f1o-mes-d\\u00eda)\": \"2020-08-14\", \"casos confirmados\": 36701}, {\"index\": 4, \"Grupo de edad\": \"70-79\", \"fecha (a\\u00f1o-mes-d\\u00eda)\": \"2020-08-14\", \"casos confirmados\": 18256}, {\"index\": 5, \"Grupo de edad\": \">=80\", \"fecha (a\\u00f1o-mes-d\\u00eda)\": \"2020-08-14\", \"casos confirmados\": 11473}, {\"index\": 0, \"Grupo de edad\": \"<=39\", \"fecha (a\\u00f1o-mes-d\\u00eda)\": \"2020-08-17\", \"casos confirmados\": 213631}, {\"index\": 1, \"Grupo de edad\": \"40-49\", \"fecha (a\\u00f1o-mes-d\\u00eda)\": \"2020-08-17\", \"casos confirmados\": 69894}, {\"index\": 2, \"Grupo de edad\": \"50-59\", \"fecha (a\\u00f1o-mes-d\\u00eda)\": \"2020-08-17\", \"casos confirmados\": 64276}, {\"index\": 3, \"Grupo de edad\": \"60-69\", \"fecha (a\\u00f1o-mes-d\\u00eda)\": \"2020-08-17\", \"casos confirmados\": 37305}, {\"index\": 4, \"Grupo de edad\": \"70-79\", \"fecha (a\\u00f1o-mes-d\\u00eda)\": \"2020-08-17\", \"casos confirmados\": 18589}, {\"index\": 5, \"Grupo de edad\": \">=80\", \"fecha (a\\u00f1o-mes-d\\u00eda)\": \"2020-08-17\", \"casos confirmados\": 11670}, {\"index\": 0, \"Grupo de edad\": \"<=39\", \"fecha (a\\u00f1o-mes-d\\u00eda)\": \"2020-08-21\", \"casos confirmados\": 217687}, {\"index\": 1, \"Grupo de edad\": \"40-49\", \"fecha (a\\u00f1o-mes-d\\u00eda)\": \"2020-08-21\", \"casos confirmados\": 71090}, {\"index\": 2, \"Grupo de edad\": \"50-59\", \"fecha (a\\u00f1o-mes-d\\u00eda)\": \"2020-08-21\", \"casos confirmados\": 65395}, {\"index\": 3, \"Grupo de edad\": \"60-69\", \"fecha (a\\u00f1o-mes-d\\u00eda)\": \"2020-08-21\", \"casos confirmados\": 38026}, {\"index\": 4, \"Grupo de edad\": \"70-79\", \"fecha (a\\u00f1o-mes-d\\u00eda)\": \"2020-08-21\", \"casos confirmados\": 18922}, {\"index\": 5, \"Grupo de edad\": \">=80\", \"fecha (a\\u00f1o-mes-d\\u00eda)\": \"2020-08-21\", \"casos confirmados\": 11898}, {\"index\": 0, \"Grupo de edad\": \"<=39\", \"fecha (a\\u00f1o-mes-d\\u00eda)\": \"2020-08-24\", \"casos confirmados\": 221403}, {\"index\": 1, \"Grupo de edad\": \"40-49\", \"fecha (a\\u00f1o-mes-d\\u00eda)\": \"2020-08-24\", \"casos confirmados\": 72074}, {\"index\": 2, \"Grupo de edad\": \"50-59\", \"fecha (a\\u00f1o-mes-d\\u00eda)\": \"2020-08-24\", \"casos confirmados\": 66365}, {\"index\": 3, \"Grupo de edad\": \"60-69\", \"fecha (a\\u00f1o-mes-d\\u00eda)\": \"2020-08-24\", \"casos confirmados\": 38655}, {\"index\": 4, \"Grupo de edad\": \"70-79\", \"fecha (a\\u00f1o-mes-d\\u00eda)\": \"2020-08-24\", \"casos confirmados\": 19235}, {\"index\": 5, \"Grupo de edad\": \">=80\", \"fecha (a\\u00f1o-mes-d\\u00eda)\": \"2020-08-24\", \"casos confirmados\": 12087}, {\"index\": 0, \"Grupo de edad\": \"<=39\", \"fecha (a\\u00f1o-mes-d\\u00eda)\": \"2020-08-28\", \"casos confirmados\": 226008}, {\"index\": 1, \"Grupo de edad\": \"40-49\", \"fecha (a\\u00f1o-mes-d\\u00eda)\": \"2020-08-28\", \"casos confirmados\": 73293}, {\"index\": 2, \"Grupo de edad\": \"50-59\", \"fecha (a\\u00f1o-mes-d\\u00eda)\": \"2020-08-28\", \"casos confirmados\": 67589}, {\"index\": 3, \"Grupo de edad\": \"60-69\", \"fecha (a\\u00f1o-mes-d\\u00eda)\": \"2020-08-28\", \"casos confirmados\": 39367}, {\"index\": 4, \"Grupo de edad\": \"70-79\", \"fecha (a\\u00f1o-mes-d\\u00eda)\": \"2020-08-28\", \"casos confirmados\": 19617}, {\"index\": 5, \"Grupo de edad\": \">=80\", \"fecha (a\\u00f1o-mes-d\\u00eda)\": \"2020-08-28\", \"casos confirmados\": 12350}, {\"index\": 0, \"Grupo de edad\": \"<=39\", \"fecha (a\\u00f1o-mes-d\\u00eda)\": \"2020-08-31\", \"casos confirmados\": 229600}, {\"index\": 1, \"Grupo de edad\": \"40-49\", \"fecha (a\\u00f1o-mes-d\\u00eda)\": \"2020-08-31\", \"casos confirmados\": 74296}, {\"index\": 2, \"Grupo de edad\": \"50-59\", \"fecha (a\\u00f1o-mes-d\\u00eda)\": \"2020-08-31\", \"casos confirmados\": 68555}, {\"index\": 3, \"Grupo de edad\": \"60-69\", \"fecha (a\\u00f1o-mes-d\\u00eda)\": \"2020-08-31\", \"casos confirmados\": 40003}, {\"index\": 4, \"Grupo de edad\": \"70-79\", \"fecha (a\\u00f1o-mes-d\\u00eda)\": \"2020-08-31\", \"casos confirmados\": 19923}, {\"index\": 5, \"Grupo de edad\": \">=80\", \"fecha (a\\u00f1o-mes-d\\u00eda)\": \"2020-08-31\", \"casos confirmados\": 12544}, {\"index\": 0, \"Grupo de edad\": \"<=39\", \"fecha (a\\u00f1o-mes-d\\u00eda)\": \"2020-09-04\", \"casos confirmados\": 234217}, {\"index\": 1, \"Grupo de edad\": \"40-49\", \"fecha (a\\u00f1o-mes-d\\u00eda)\": \"2020-09-04\", \"casos confirmados\": 75614}, {\"index\": 2, \"Grupo de edad\": \"50-59\", \"fecha (a\\u00f1o-mes-d\\u00eda)\": \"2020-09-04\", \"casos confirmados\": 69721}, {\"index\": 3, \"Grupo de edad\": \"60-69\", \"fecha (a\\u00f1o-mes-d\\u00eda)\": \"2020-09-04\", \"casos confirmados\": 40752}, {\"index\": 4, \"Grupo de edad\": \"70-79\", \"fecha (a\\u00f1o-mes-d\\u00eda)\": \"2020-09-04\", \"casos confirmados\": 20312}, {\"index\": 5, \"Grupo de edad\": \">=80\", \"fecha (a\\u00f1o-mes-d\\u00eda)\": \"2020-09-04\", \"casos confirmados\": 12819}, {\"index\": 0, \"Grupo de edad\": \"<=39\", \"fecha (a\\u00f1o-mes-d\\u00eda)\": \"2020-09-07\", \"casos confirmados\": 237962}, {\"index\": 1, \"Grupo de edad\": \"40-49\", \"fecha (a\\u00f1o-mes-d\\u00eda)\": \"2020-09-07\", \"casos confirmados\": 76631}, {\"index\": 2, \"Grupo de edad\": \"50-59\", \"fecha (a\\u00f1o-mes-d\\u00eda)\": \"2020-09-07\", \"casos confirmados\": 70741}, {\"index\": 3, \"Grupo de edad\": \"60-69\", \"fecha (a\\u00f1o-mes-d\\u00eda)\": \"2020-09-07\", \"casos confirmados\": 41407}, {\"index\": 4, \"Grupo de edad\": \"70-79\", \"fecha (a\\u00f1o-mes-d\\u00eda)\": \"2020-09-07\", \"casos confirmados\": 20693}, {\"index\": 5, \"Grupo de edad\": \">=80\", \"fecha (a\\u00f1o-mes-d\\u00eda)\": \"2020-09-07\", \"casos confirmados\": 13043}, {\"index\": 0, \"Grupo de edad\": \"<=39\", \"fecha (a\\u00f1o-mes-d\\u00eda)\": \"2020-09-11\", \"casos confirmados\": 242364}, {\"index\": 1, \"Grupo de edad\": \"40-49\", \"fecha (a\\u00f1o-mes-d\\u00eda)\": \"2020-09-11\", \"casos confirmados\": 77838}, {\"index\": 2, \"Grupo de edad\": \"50-59\", \"fecha (a\\u00f1o-mes-d\\u00eda)\": \"2020-09-11\", \"casos confirmados\": 71886}, {\"index\": 3, \"Grupo de edad\": \"60-69\", \"fecha (a\\u00f1o-mes-d\\u00eda)\": \"2020-09-11\", \"casos confirmados\": 42086}, {\"index\": 4, \"Grupo de edad\": \"70-79\", \"fecha (a\\u00f1o-mes-d\\u00eda)\": \"2020-09-11\", \"casos confirmados\": 21094}, {\"index\": 5, \"Grupo de edad\": \">=80\", \"fecha (a\\u00f1o-mes-d\\u00eda)\": \"2020-09-11\", \"casos confirmados\": 13276}, {\"index\": 0, \"Grupo de edad\": \"<=39\", \"fecha (a\\u00f1o-mes-d\\u00eda)\": \"2020-09-14\", \"casos confirmados\": 246083}, {\"index\": 1, \"Grupo de edad\": \"40-49\", \"fecha (a\\u00f1o-mes-d\\u00eda)\": \"2020-09-14\", \"casos confirmados\": 78918}, {\"index\": 2, \"Grupo de edad\": \"50-59\", \"fecha (a\\u00f1o-mes-d\\u00eda)\": \"2020-09-14\", \"casos confirmados\": 72844}, {\"index\": 3, \"Grupo de edad\": \"60-69\", \"fecha (a\\u00f1o-mes-d\\u00eda)\": \"2020-09-14\", \"casos confirmados\": 42709}, {\"index\": 4, \"Grupo de edad\": \"70-79\", \"fecha (a\\u00f1o-mes-d\\u00eda)\": \"2020-09-14\", \"casos confirmados\": 21379}, {\"index\": 5, \"Grupo de edad\": \">=80\", \"fecha (a\\u00f1o-mes-d\\u00eda)\": \"2020-09-14\", \"casos confirmados\": 13473}, {\"index\": 0, \"Grupo de edad\": \"<=39\", \"fecha (a\\u00f1o-mes-d\\u00eda)\": \"2020-09-18\", \"casos confirmados\": 250285}, {\"index\": 1, \"Grupo de edad\": \"40-49\", \"fecha (a\\u00f1o-mes-d\\u00eda)\": \"2020-09-18\", \"casos confirmados\": 80044}, {\"index\": 2, \"Grupo de edad\": \"50-59\", \"fecha (a\\u00f1o-mes-d\\u00eda)\": \"2020-09-18\", \"casos confirmados\": 73958}, {\"index\": 3, \"Grupo de edad\": \"60-69\", \"fecha (a\\u00f1o-mes-d\\u00eda)\": \"2020-09-18\", \"casos confirmados\": 43419}, {\"index\": 4, \"Grupo de edad\": \"70-79\", \"fecha (a\\u00f1o-mes-d\\u00eda)\": \"2020-09-18\", \"casos confirmados\": 21745}, {\"index\": 5, \"Grupo de edad\": \">=80\", \"fecha (a\\u00f1o-mes-d\\u00eda)\": \"2020-09-18\", \"casos confirmados\": 13685}, {\"index\": 0, \"Grupo de edad\": \"<=39\", \"fecha (a\\u00f1o-mes-d\\u00eda)\": \"2020-09-21\", \"casos confirmados\": 253012}, {\"index\": 1, \"Grupo de edad\": \"40-49\", \"fecha (a\\u00f1o-mes-d\\u00eda)\": \"2020-09-21\", \"casos confirmados\": 80794}, {\"index\": 2, \"Grupo de edad\": \"50-59\", \"fecha (a\\u00f1o-mes-d\\u00eda)\": \"2020-09-21\", \"casos confirmados\": 74665}, {\"index\": 3, \"Grupo de edad\": \"60-69\", \"fecha (a\\u00f1o-mes-d\\u00eda)\": \"2020-09-21\", \"casos confirmados\": 43886}, {\"index\": 4, \"Grupo de edad\": \"70-79\", \"fecha (a\\u00f1o-mes-d\\u00eda)\": \"2020-09-21\", \"casos confirmados\": 22012}, {\"index\": 5, \"Grupo de edad\": \">=80\", \"fecha (a\\u00f1o-mes-d\\u00eda)\": \"2020-09-21\", \"casos confirmados\": 13833}, {\"index\": 0, \"Grupo de edad\": \"<=39\", \"fecha (a\\u00f1o-mes-d\\u00eda)\": \"2020-09-25\", \"casos confirmados\": 257374}, {\"index\": 1, \"Grupo de edad\": \"40-49\", \"fecha (a\\u00f1o-mes-d\\u00eda)\": \"2020-09-25\", \"casos confirmados\": 82044}, {\"index\": 2, \"Grupo de edad\": \"50-59\", \"fecha (a\\u00f1o-mes-d\\u00eda)\": \"2020-09-25\", \"casos confirmados\": 75853}, {\"index\": 3, \"Grupo de edad\": \"60-69\", \"fecha (a\\u00f1o-mes-d\\u00eda)\": \"2020-09-25\", \"casos confirmados\": 44639}, {\"index\": 4, \"Grupo de edad\": \"70-79\", \"fecha (a\\u00f1o-mes-d\\u00eda)\": \"2020-09-25\", \"casos confirmados\": 22385}, {\"index\": 5, \"Grupo de edad\": \">=80\", \"fecha (a\\u00f1o-mes-d\\u00eda)\": \"2020-09-25\", \"casos confirmados\": 14117}, {\"index\": 0, \"Grupo de edad\": \"<=39\", \"fecha (a\\u00f1o-mes-d\\u00eda)\": \"2020-09-28\", \"casos confirmados\": 261234}, {\"index\": 1, \"Grupo de edad\": \"40-49\", \"fecha (a\\u00f1o-mes-d\\u00eda)\": \"2020-09-28\", \"casos confirmados\": 83081}, {\"index\": 2, \"Grupo de edad\": \"50-59\", \"fecha (a\\u00f1o-mes-d\\u00eda)\": \"2020-09-28\", \"casos confirmados\": 76849}, {\"index\": 3, \"Grupo de edad\": \"60-69\", \"fecha (a\\u00f1o-mes-d\\u00eda)\": \"2020-09-28\", \"casos confirmados\": 45229}, {\"index\": 4, \"Grupo de edad\": \"70-79\", \"fecha (a\\u00f1o-mes-d\\u00eda)\": \"2020-09-28\", \"casos confirmados\": 22699}, {\"index\": 5, \"Grupo de edad\": \">=80\", \"fecha (a\\u00f1o-mes-d\\u00eda)\": \"2020-09-28\", \"casos confirmados\": 14303}, {\"index\": 0, \"Grupo de edad\": \"<=39\", \"fecha (a\\u00f1o-mes-d\\u00eda)\": \"2020-10-02\", \"casos confirmados\": 265800}, {\"index\": 1, \"Grupo de edad\": \"40-49\", \"fecha (a\\u00f1o-mes-d\\u00eda)\": \"2020-10-02\", \"casos confirmados\": 84347}, {\"index\": 2, \"Grupo de edad\": \"50-59\", \"fecha (a\\u00f1o-mes-d\\u00eda)\": \"2020-10-02\", \"casos confirmados\": 78034}, {\"index\": 3, \"Grupo de edad\": \"60-69\", \"fecha (a\\u00f1o-mes-d\\u00eda)\": \"2020-10-02\", \"casos confirmados\": 45988}, {\"index\": 4, \"Grupo de edad\": \"70-79\", \"fecha (a\\u00f1o-mes-d\\u00eda)\": \"2020-10-02\", \"casos confirmados\": 23070}, {\"index\": 5, \"Grupo de edad\": \">=80\", \"fecha (a\\u00f1o-mes-d\\u00eda)\": \"2020-10-02\", \"casos confirmados\": 14543}, {\"index\": 0, \"Grupo de edad\": \"<=39\", \"fecha (a\\u00f1o-mes-d\\u00eda)\": \"2020-10-05\", \"casos confirmados\": 265800}, {\"index\": 1, \"Grupo de edad\": \"40-49\", \"fecha (a\\u00f1o-mes-d\\u00eda)\": \"2020-10-05\", \"casos confirmados\": 84347}, {\"index\": 2, \"Grupo de edad\": \"50-59\", \"fecha (a\\u00f1o-mes-d\\u00eda)\": \"2020-10-05\", \"casos confirmados\": 78034}, {\"index\": 3, \"Grupo de edad\": \"60-69\", \"fecha (a\\u00f1o-mes-d\\u00eda)\": \"2020-10-05\", \"casos confirmados\": 45988}, {\"index\": 4, \"Grupo de edad\": \"70-79\", \"fecha (a\\u00f1o-mes-d\\u00eda)\": \"2020-10-05\", \"casos confirmados\": 23070}, {\"index\": 5, \"Grupo de edad\": \">=80\", \"fecha (a\\u00f1o-mes-d\\u00eda)\": \"2020-10-05\", \"casos confirmados\": 14543}, {\"index\": 0, \"Grupo de edad\": \"<=39\", \"fecha (a\\u00f1o-mes-d\\u00eda)\": \"2020-10-09\", \"casos confirmados\": 272843}, {\"index\": 1, \"Grupo de edad\": \"40-49\", \"fecha (a\\u00f1o-mes-d\\u00eda)\": \"2020-10-09\", \"casos confirmados\": 86276}, {\"index\": 2, \"Grupo de edad\": \"50-59\", \"fecha (a\\u00f1o-mes-d\\u00eda)\": \"2020-10-09\", \"casos confirmados\": 79840}, {\"index\": 3, \"Grupo de edad\": \"60-69\", \"fecha (a\\u00f1o-mes-d\\u00eda)\": \"2020-10-09\", \"casos confirmados\": 47150}, {\"index\": 4, \"Grupo de edad\": \"70-79\", \"fecha (a\\u00f1o-mes-d\\u00eda)\": \"2020-10-09\", \"casos confirmados\": 23665}, {\"index\": 5, \"Grupo de edad\": \">=80\", \"fecha (a\\u00f1o-mes-d\\u00eda)\": \"2020-10-09\", \"casos confirmados\": 15010}, {\"index\": 0, \"Grupo de edad\": \"<=39\", \"fecha (a\\u00f1o-mes-d\\u00eda)\": \"2020-10-12\", \"casos confirmados\": 276049}, {\"index\": 1, \"Grupo de edad\": \"40-49\", \"fecha (a\\u00f1o-mes-d\\u00eda)\": \"2020-10-12\", \"casos confirmados\": 87132}, {\"index\": 2, \"Grupo de edad\": \"50-59\", \"fecha (a\\u00f1o-mes-d\\u00eda)\": \"2020-10-12\", \"casos confirmados\": 80641}, {\"index\": 3, \"Grupo de edad\": \"60-69\", \"fecha (a\\u00f1o-mes-d\\u00eda)\": \"2020-10-12\", \"casos confirmados\": 47656}, {\"index\": 4, \"Grupo de edad\": \"70-79\", \"fecha (a\\u00f1o-mes-d\\u00eda)\": \"2020-10-12\", \"casos confirmados\": 23961}, {\"index\": 5, \"Grupo de edad\": \">=80\", \"fecha (a\\u00f1o-mes-d\\u00eda)\": \"2020-10-12\", \"casos confirmados\": 15152}, {\"index\": 0, \"Grupo de edad\": \"<=39\", \"fecha (a\\u00f1o-mes-d\\u00eda)\": \"2020-10-16\", \"casos confirmados\": 279468}, {\"index\": 1, \"Grupo de edad\": \"40-49\", \"fecha (a\\u00f1o-mes-d\\u00eda)\": \"2020-10-16\", \"casos confirmados\": 88098}, {\"index\": 2, \"Grupo de edad\": \"50-59\", \"fecha (a\\u00f1o-mes-d\\u00eda)\": \"2020-10-16\", \"casos confirmados\": 81551}, {\"index\": 3, \"Grupo de edad\": \"60-69\", \"fecha (a\\u00f1o-mes-d\\u00eda)\": \"2020-10-16\", \"casos confirmados\": 48170}, {\"index\": 4, \"Grupo de edad\": \"70-79\", \"fecha (a\\u00f1o-mes-d\\u00eda)\": \"2020-10-16\", \"casos confirmados\": 24243}, {\"index\": 5, \"Grupo de edad\": \">=80\", \"fecha (a\\u00f1o-mes-d\\u00eda)\": \"2020-10-16\", \"casos confirmados\": 15323}, {\"index\": 0, \"Grupo de edad\": \"<=39\", \"fecha (a\\u00f1o-mes-d\\u00eda)\": \"2020-10-19\", \"casos confirmados\": 282615}, {\"index\": 1, \"Grupo de edad\": \"40-49\", \"fecha (a\\u00f1o-mes-d\\u00eda)\": \"2020-10-19\", \"casos confirmados\": 89018}, {\"index\": 2, \"Grupo de edad\": \"50-59\", \"fecha (a\\u00f1o-mes-d\\u00eda)\": \"2020-10-19\", \"casos confirmados\": 82341}, {\"index\": 3, \"Grupo de edad\": \"60-69\", \"fecha (a\\u00f1o-mes-d\\u00eda)\": \"2020-10-19\", \"casos confirmados\": 48711}, {\"index\": 4, \"Grupo de edad\": \"70-79\", \"fecha (a\\u00f1o-mes-d\\u00eda)\": \"2020-10-19\", \"casos confirmados\": 24558}, {\"index\": 5, \"Grupo de edad\": \">=80\", \"fecha (a\\u00f1o-mes-d\\u00eda)\": \"2020-10-19\", \"casos confirmados\": 15499}, {\"index\": 0, \"Grupo de edad\": \"<=39\", \"fecha (a\\u00f1o-mes-d\\u00eda)\": \"2020-10-24\", \"casos confirmados\": 287376}, {\"index\": 1, \"Grupo de edad\": \"40-49\", \"fecha (a\\u00f1o-mes-d\\u00eda)\": \"2020-10-24\", \"casos confirmados\": 90370}, {\"index\": 2, \"Grupo de edad\": \"50-59\", \"fecha (a\\u00f1o-mes-d\\u00eda)\": \"2020-10-24\", \"casos confirmados\": 83604}, {\"index\": 3, \"Grupo de edad\": \"60-69\", \"fecha (a\\u00f1o-mes-d\\u00eda)\": \"2020-10-24\", \"casos confirmados\": 49542}, {\"index\": 4, \"Grupo de edad\": \"70-79\", \"fecha (a\\u00f1o-mes-d\\u00eda)\": \"2020-10-24\", \"casos confirmados\": 24947}, {\"index\": 5, \"Grupo de edad\": \">=80\", \"fecha (a\\u00f1o-mes-d\\u00eda)\": \"2020-10-24\", \"casos confirmados\": 15736}, {\"index\": 0, \"Grupo de edad\": \"<=39\", \"fecha (a\\u00f1o-mes-d\\u00eda)\": \"2020-10-26\", \"casos confirmados\": 289311}, {\"index\": 1, \"Grupo de edad\": \"40-49\", \"fecha (a\\u00f1o-mes-d\\u00eda)\": \"2020-10-26\", \"casos confirmados\": 90891}, {\"index\": 2, \"Grupo de edad\": \"50-59\", \"fecha (a\\u00f1o-mes-d\\u00eda)\": \"2020-10-26\", \"casos confirmados\": 84059}, {\"index\": 3, \"Grupo de edad\": \"60-69\", \"fecha (a\\u00f1o-mes-d\\u00eda)\": \"2020-10-26\", \"casos confirmados\": 49841}, {\"index\": 4, \"Grupo de edad\": \"70-79\", \"fecha (a\\u00f1o-mes-d\\u00eda)\": \"2020-10-26\", \"casos confirmados\": 25101}, {\"index\": 5, \"Grupo de edad\": \">=80\", \"fecha (a\\u00f1o-mes-d\\u00eda)\": \"2020-10-26\", \"casos confirmados\": 15816}, {\"index\": 0, \"Grupo de edad\": \"<=39\", \"fecha (a\\u00f1o-mes-d\\u00eda)\": \"2020-10-30\", \"casos confirmados\": 292757}, {\"index\": 1, \"Grupo de edad\": \"40-49\", \"fecha (a\\u00f1o-mes-d\\u00eda)\": \"2020-10-30\", \"casos confirmados\": 91798}, {\"index\": 2, \"Grupo de edad\": \"50-59\", \"fecha (a\\u00f1o-mes-d\\u00eda)\": \"2020-10-30\", \"casos confirmados\": 84923}, {\"index\": 3, \"Grupo de edad\": \"60-69\", \"fecha (a\\u00f1o-mes-d\\u00eda)\": \"2020-10-30\", \"casos confirmados\": 50348}, {\"index\": 4, \"Grupo de edad\": \"70-79\", \"fecha (a\\u00f1o-mes-d\\u00eda)\": \"2020-10-30\", \"casos confirmados\": 25373}, {\"index\": 5, \"Grupo de edad\": \">=80\", \"fecha (a\\u00f1o-mes-d\\u00eda)\": \"2020-10-30\", \"casos confirmados\": 15953}, {\"index\": 0, \"Grupo de edad\": \"<=39\", \"fecha (a\\u00f1o-mes-d\\u00eda)\": \"2020-11-02\", \"casos confirmados\": 295632}, {\"index\": 1, \"Grupo de edad\": \"40-49\", \"fecha (a\\u00f1o-mes-d\\u00eda)\": \"2020-11-02\", \"casos confirmados\": 92590}, {\"index\": 2, \"Grupo de edad\": \"50-59\", \"fecha (a\\u00f1o-mes-d\\u00eda)\": \"2020-11-02\", \"casos confirmados\": 85673}, {\"index\": 3, \"Grupo de edad\": \"60-69\", \"fecha (a\\u00f1o-mes-d\\u00eda)\": \"2020-11-02\", \"casos confirmados\": 50837}, {\"index\": 4, \"Grupo de edad\": \"70-79\", \"fecha (a\\u00f1o-mes-d\\u00eda)\": \"2020-11-02\", \"casos confirmados\": 25649}, {\"index\": 5, \"Grupo de edad\": \">=80\", \"fecha (a\\u00f1o-mes-d\\u00eda)\": \"2020-11-02\", \"casos confirmados\": 16134}, {\"index\": 0, \"Grupo de edad\": \"<=39\", \"fecha (a\\u00f1o-mes-d\\u00eda)\": \"2020-11-06\", \"casos confirmados\": 299018}, {\"index\": 1, \"Grupo de edad\": \"40-49\", \"fecha (a\\u00f1o-mes-d\\u00eda)\": \"2020-11-06\", \"casos confirmados\": 93435}, {\"index\": 2, \"Grupo de edad\": \"50-59\", \"fecha (a\\u00f1o-mes-d\\u00eda)\": \"2020-11-06\", \"casos confirmados\": 86530}, {\"index\": 3, \"Grupo de edad\": \"60-69\", \"fecha (a\\u00f1o-mes-d\\u00eda)\": \"2020-11-06\", \"casos confirmados\": 51394}, {\"index\": 4, \"Grupo de edad\": \"70-79\", \"fecha (a\\u00f1o-mes-d\\u00eda)\": \"2020-11-06\", \"casos confirmados\": 25961}, {\"index\": 5, \"Grupo de edad\": \">=80\", \"fecha (a\\u00f1o-mes-d\\u00eda)\": \"2020-11-06\", \"casos confirmados\": 16326}, {\"index\": 0, \"Grupo de edad\": \"<=39\", \"fecha (a\\u00f1o-mes-d\\u00eda)\": \"2020-11-09\", \"casos confirmados\": 301860}, {\"index\": 1, \"Grupo de edad\": \"40-49\", \"fecha (a\\u00f1o-mes-d\\u00eda)\": \"2020-11-09\", \"casos confirmados\": 94205}, {\"index\": 2, \"Grupo de edad\": \"50-59\", \"fecha (a\\u00f1o-mes-d\\u00eda)\": \"2020-11-09\", \"casos confirmados\": 87271}, {\"index\": 3, \"Grupo de edad\": \"60-69\", \"fecha (a\\u00f1o-mes-d\\u00eda)\": \"2020-11-09\", \"casos confirmados\": 51878}, {\"index\": 4, \"Grupo de edad\": \"70-79\", \"fecha (a\\u00f1o-mes-d\\u00eda)\": \"2020-11-09\", \"casos confirmados\": 26176}, {\"index\": 5, \"Grupo de edad\": \">=80\", \"fecha (a\\u00f1o-mes-d\\u00eda)\": \"2020-11-09\", \"casos confirmados\": 16487}, {\"index\": 0, \"Grupo de edad\": \"<=39\", \"fecha (a\\u00f1o-mes-d\\u00eda)\": \"2020-11-13\", \"casos confirmados\": 305360}, {\"index\": 1, \"Grupo de edad\": \"40-49\", \"fecha (a\\u00f1o-mes-d\\u00eda)\": \"2020-11-13\", \"casos confirmados\": 95099}, {\"index\": 2, \"Grupo de edad\": \"50-59\", \"fecha (a\\u00f1o-mes-d\\u00eda)\": \"2020-11-13\", \"casos confirmados\": 88116}, {\"index\": 3, \"Grupo de edad\": \"60-69\", \"fecha (a\\u00f1o-mes-d\\u00eda)\": \"2020-11-13\", \"casos confirmados\": 52449}, {\"index\": 4, \"Grupo de edad\": \"70-79\", \"fecha (a\\u00f1o-mes-d\\u00eda)\": \"2020-11-13\", \"casos confirmados\": 26457}, {\"index\": 5, \"Grupo de edad\": \">=80\", \"fecha (a\\u00f1o-mes-d\\u00eda)\": \"2020-11-13\", \"casos confirmados\": 16669}, {\"index\": 0, \"Grupo de edad\": \"<=39\", \"fecha (a\\u00f1o-mes-d\\u00eda)\": \"2020-11-16\", \"casos confirmados\": 308243}, {\"index\": 1, \"Grupo de edad\": \"40-49\", \"fecha (a\\u00f1o-mes-d\\u00eda)\": \"2020-11-16\", \"casos confirmados\": 95860}, {\"index\": 2, \"Grupo de edad\": \"50-59\", \"fecha (a\\u00f1o-mes-d\\u00eda)\": \"2020-11-16\", \"casos confirmados\": 88870}, {\"index\": 3, \"Grupo de edad\": \"60-69\", \"fecha (a\\u00f1o-mes-d\\u00eda)\": \"2020-11-16\", \"casos confirmados\": 52903}, {\"index\": 4, \"Grupo de edad\": \"70-79\", \"fecha (a\\u00f1o-mes-d\\u00eda)\": \"2020-11-16\", \"casos confirmados\": 26707}, {\"index\": 5, \"Grupo de edad\": \">=80\", \"fecha (a\\u00f1o-mes-d\\u00eda)\": \"2020-11-16\", \"casos confirmados\": 16825}, {\"index\": 0, \"Grupo de edad\": \"<=39\", \"fecha (a\\u00f1o-mes-d\\u00eda)\": \"2020-11-20\", \"casos confirmados\": 311644}, {\"index\": 1, \"Grupo de edad\": \"40-49\", \"fecha (a\\u00f1o-mes-d\\u00eda)\": \"2020-11-20\", \"casos confirmados\": 96800}, {\"index\": 2, \"Grupo de edad\": \"50-59\", \"fecha (a\\u00f1o-mes-d\\u00eda)\": \"2020-11-20\", \"casos confirmados\": 89805}, {\"index\": 3, \"Grupo de edad\": \"60-69\", \"fecha (a\\u00f1o-mes-d\\u00eda)\": \"2020-11-20\", \"casos confirmados\": 53443}, {\"index\": 4, \"Grupo de edad\": \"70-79\", \"fecha (a\\u00f1o-mes-d\\u00eda)\": \"2020-11-20\", \"casos confirmados\": 26976}, {\"index\": 5, \"Grupo de edad\": \">=80\", \"fecha (a\\u00f1o-mes-d\\u00eda)\": \"2020-11-20\", \"casos confirmados\": 16961}, {\"index\": 0, \"Grupo de edad\": \"<=39\", \"fecha (a\\u00f1o-mes-d\\u00eda)\": \"2020-11-23\", \"casos confirmados\": 314488}, {\"index\": 1, \"Grupo de edad\": \"40-49\", \"fecha (a\\u00f1o-mes-d\\u00eda)\": \"2020-11-23\", \"casos confirmados\": 97557}, {\"index\": 2, \"Grupo de edad\": \"50-59\", \"fecha (a\\u00f1o-mes-d\\u00eda)\": \"2020-11-23\", \"casos confirmados\": 90507}, {\"index\": 3, \"Grupo de edad\": \"60-69\", \"fecha (a\\u00f1o-mes-d\\u00eda)\": \"2020-11-23\", \"casos confirmados\": 53898}, {\"index\": 4, \"Grupo de edad\": \"70-79\", \"fecha (a\\u00f1o-mes-d\\u00eda)\": \"2020-11-23\", \"casos confirmados\": 27209}, {\"index\": 5, \"Grupo de edad\": \">=80\", \"fecha (a\\u00f1o-mes-d\\u00eda)\": \"2020-11-23\", \"casos confirmados\": 17092}, {\"index\": 0, \"Grupo de edad\": \"<=39\", \"fecha (a\\u00f1o-mes-d\\u00eda)\": \"2020-11-27\", \"casos confirmados\": 317943}, {\"index\": 1, \"Grupo de edad\": \"40-49\", \"fecha (a\\u00f1o-mes-d\\u00eda)\": \"2020-11-27\", \"casos confirmados\": 98533}, {\"index\": 2, \"Grupo de edad\": \"50-59\", \"fecha (a\\u00f1o-mes-d\\u00eda)\": \"2020-11-27\", \"casos confirmados\": 91426}, {\"index\": 3, \"Grupo de edad\": \"60-69\", \"fecha (a\\u00f1o-mes-d\\u00eda)\": \"2020-11-27\", \"casos confirmados\": 54493}, {\"index\": 4, \"Grupo de edad\": \"70-79\", \"fecha (a\\u00f1o-mes-d\\u00eda)\": \"2020-11-27\", \"casos confirmados\": 27493}, {\"index\": 5, \"Grupo de edad\": \">=80\", \"fecha (a\\u00f1o-mes-d\\u00eda)\": \"2020-11-27\", \"casos confirmados\": 17228}, {\"index\": 0, \"Grupo de edad\": \"<=39\", \"fecha (a\\u00f1o-mes-d\\u00eda)\": \"2020-11-30\", \"casos confirmados\": 321286}, {\"index\": 1, \"Grupo de edad\": \"40-49\", \"fecha (a\\u00f1o-mes-d\\u00eda)\": \"2020-11-30\", \"casos confirmados\": 99491}, {\"index\": 2, \"Grupo de edad\": \"50-59\", \"fecha (a\\u00f1o-mes-d\\u00eda)\": \"2020-11-30\", \"casos confirmados\": 92306}, {\"index\": 3, \"Grupo de edad\": \"60-69\", \"fecha (a\\u00f1o-mes-d\\u00eda)\": \"2020-11-30\", \"casos confirmados\": 55025}, {\"index\": 4, \"Grupo de edad\": \"70-79\", \"fecha (a\\u00f1o-mes-d\\u00eda)\": \"2020-11-30\", \"casos confirmados\": 27724}, {\"index\": 5, \"Grupo de edad\": \">=80\", \"fecha (a\\u00f1o-mes-d\\u00eda)\": \"2020-11-30\", \"casos confirmados\": 17363}, {\"index\": 0, \"Grupo de edad\": \"<=39\", \"fecha (a\\u00f1o-mes-d\\u00eda)\": \"2020-12-04\", \"casos confirmados\": 324837}, {\"index\": 1, \"Grupo de edad\": \"40-49\", \"fecha (a\\u00f1o-mes-d\\u00eda)\": \"2020-12-04\", \"casos confirmados\": 100575}, {\"index\": 2, \"Grupo de edad\": \"50-59\", \"fecha (a\\u00f1o-mes-d\\u00eda)\": \"2020-12-04\", \"casos confirmados\": 93233}, {\"index\": 3, \"Grupo de edad\": \"60-69\", \"fecha (a\\u00f1o-mes-d\\u00eda)\": \"2020-12-04\", \"casos confirmados\": 55597}, {\"index\": 4, \"Grupo de edad\": \"70-79\", \"fecha (a\\u00f1o-mes-d\\u00eda)\": \"2020-12-04\", \"casos confirmados\": 28026}, {\"index\": 5, \"Grupo de edad\": \">=80\", \"fecha (a\\u00f1o-mes-d\\u00eda)\": \"2020-12-04\", \"casos confirmados\": 17518}, {\"index\": 0, \"Grupo de edad\": \"<=39\", \"fecha (a\\u00f1o-mes-d\\u00eda)\": \"2020-12-07\", \"casos confirmados\": 327871}, {\"index\": 1, \"Grupo de edad\": \"40-49\", \"fecha (a\\u00f1o-mes-d\\u00eda)\": \"2020-12-07\", \"casos confirmados\": 101459}, {\"index\": 2, \"Grupo de edad\": \"50-59\", \"fecha (a\\u00f1o-mes-d\\u00eda)\": \"2020-12-07\", \"casos confirmados\": 94058}, {\"index\": 3, \"Grupo de edad\": \"60-69\", \"fecha (a\\u00f1o-mes-d\\u00eda)\": \"2020-12-07\", \"casos confirmados\": 56110}, {\"index\": 4, \"Grupo de edad\": \"70-79\", \"fecha (a\\u00f1o-mes-d\\u00eda)\": \"2020-12-07\", \"casos confirmados\": 28294}, {\"index\": 5, \"Grupo de edad\": \">=80\", \"fecha (a\\u00f1o-mes-d\\u00eda)\": \"2020-12-07\", \"casos confirmados\": 17664}, {\"index\": 0, \"Grupo de edad\": \"<=39\", \"fecha (a\\u00f1o-mes-d\\u00eda)\": \"2020-12-11\", \"casos confirmados\": 331625}, {\"index\": 1, \"Grupo de edad\": \"40-49\", \"fecha (a\\u00f1o-mes-d\\u00eda)\": \"2020-12-11\", \"casos confirmados\": 102529}, {\"index\": 2, \"Grupo de edad\": \"50-59\", \"fecha (a\\u00f1o-mes-d\\u00eda)\": \"2020-12-11\", \"casos confirmados\": 95075}, {\"index\": 3, \"Grupo de edad\": \"60-69\", \"fecha (a\\u00f1o-mes-d\\u00eda)\": \"2020-12-11\", \"casos confirmados\": 56748}, {\"index\": 4, \"Grupo de edad\": \"70-79\", \"fecha (a\\u00f1o-mes-d\\u00eda)\": \"2020-12-11\", \"casos confirmados\": 28623}, {\"index\": 5, \"Grupo de edad\": \">=80\", \"fecha (a\\u00f1o-mes-d\\u00eda)\": \"2020-12-11\", \"casos confirmados\": 17828}, {\"index\": 0, \"Grupo de edad\": \"<=39\", \"fecha (a\\u00f1o-mes-d\\u00eda)\": \"2020-12-14\", \"casos confirmados\": 335390}, {\"index\": 1, \"Grupo de edad\": \"40-49\", \"fecha (a\\u00f1o-mes-d\\u00eda)\": \"2020-12-14\", \"casos confirmados\": 103606}, {\"index\": 2, \"Grupo de edad\": \"50-59\", \"fecha (a\\u00f1o-mes-d\\u00eda)\": \"2020-12-14\", \"casos confirmados\": 96070}, {\"index\": 3, \"Grupo de edad\": \"60-69\", \"fecha (a\\u00f1o-mes-d\\u00eda)\": \"2020-12-14\", \"casos confirmados\": 57309}, {\"index\": 4, \"Grupo de edad\": \"70-79\", \"fecha (a\\u00f1o-mes-d\\u00eda)\": \"2020-12-14\", \"casos confirmados\": 28987}, {\"index\": 5, \"Grupo de edad\": \">=80\", \"fecha (a\\u00f1o-mes-d\\u00eda)\": \"2020-12-14\", \"casos confirmados\": 18055}, {\"index\": 0, \"Grupo de edad\": \"<=39\", \"fecha (a\\u00f1o-mes-d\\u00eda)\": \"2020-12-18\", \"casos confirmados\": 340156}, {\"index\": 1, \"Grupo de edad\": \"40-49\", \"fecha (a\\u00f1o-mes-d\\u00eda)\": \"2020-12-18\", \"casos confirmados\": 105002}, {\"index\": 2, \"Grupo de edad\": \"50-59\", \"fecha (a\\u00f1o-mes-d\\u00eda)\": \"2020-12-18\", \"casos confirmados\": 97389}, {\"index\": 3, \"Grupo de edad\": \"60-69\", \"fecha (a\\u00f1o-mes-d\\u00eda)\": \"2020-12-18\", \"casos confirmados\": 58070}, {\"index\": 4, \"Grupo de edad\": \"70-79\", \"fecha (a\\u00f1o-mes-d\\u00eda)\": \"2020-12-18\", \"casos confirmados\": 29404}, {\"index\": 5, \"Grupo de edad\": \">=80\", \"fecha (a\\u00f1o-mes-d\\u00eda)\": \"2020-12-18\", \"casos confirmados\": 18263}, {\"index\": 0, \"Grupo de edad\": \"<=39\", \"fecha (a\\u00f1o-mes-d\\u00eda)\": \"2020-12-21\", \"casos confirmados\": 344036}, {\"index\": 1, \"Grupo de edad\": \"40-49\", \"fecha (a\\u00f1o-mes-d\\u00eda)\": \"2020-12-21\", \"casos confirmados\": 106064}, {\"index\": 2, \"Grupo de edad\": \"50-59\", \"fecha (a\\u00f1o-mes-d\\u00eda)\": \"2020-12-21\", \"casos confirmados\": 98424}, {\"index\": 3, \"Grupo de edad\": \"60-69\", \"fecha (a\\u00f1o-mes-d\\u00eda)\": \"2020-12-21\", \"casos confirmados\": 58722}, {\"index\": 4, \"Grupo de edad\": \"70-79\", \"fecha (a\\u00f1o-mes-d\\u00eda)\": \"2020-12-21\", \"casos confirmados\": 29745}, {\"index\": 5, \"Grupo de edad\": \">=80\", \"fecha (a\\u00f1o-mes-d\\u00eda)\": \"2020-12-21\", \"casos confirmados\": 18448}, {\"index\": 0, \"Grupo de edad\": \"<=39\", \"fecha (a\\u00f1o-mes-d\\u00eda)\": \"2020-12-25\", \"casos confirmados\": 349308}, {\"index\": 1, \"Grupo de edad\": \"40-49\", \"fecha (a\\u00f1o-mes-d\\u00eda)\": \"2020-12-25\", \"casos confirmados\": 107595}, {\"index\": 2, \"Grupo de edad\": \"50-59\", \"fecha (a\\u00f1o-mes-d\\u00eda)\": \"2020-12-25\", \"casos confirmados\": 99847}, {\"index\": 3, \"Grupo de edad\": \"60-69\", \"fecha (a\\u00f1o-mes-d\\u00eda)\": \"2020-12-25\", \"casos confirmados\": 59581}, {\"index\": 4, \"Grupo de edad\": \"70-79\", \"fecha (a\\u00f1o-mes-d\\u00eda)\": \"2020-12-25\", \"casos confirmados\": 30158}, {\"index\": 5, \"Grupo de edad\": \">=80\", \"fecha (a\\u00f1o-mes-d\\u00eda)\": \"2020-12-25\", \"casos confirmados\": 18666}, {\"index\": 0, \"Grupo de edad\": \"<=39\", \"fecha (a\\u00f1o-mes-d\\u00eda)\": \"2020-12-28\", \"casos confirmados\": 352861}, {\"index\": 1, \"Grupo de edad\": \"40-49\", \"fecha (a\\u00f1o-mes-d\\u00eda)\": \"2020-12-28\", \"casos confirmados\": 108589}, {\"index\": 2, \"Grupo de edad\": \"50-59\", \"fecha (a\\u00f1o-mes-d\\u00eda)\": \"2020-12-28\", \"casos confirmados\": 100817}, {\"index\": 3, \"Grupo de edad\": \"60-69\", \"fecha (a\\u00f1o-mes-d\\u00eda)\": \"2020-12-28\", \"casos confirmados\": 60249}, {\"index\": 4, \"Grupo de edad\": \"70-79\", \"fecha (a\\u00f1o-mes-d\\u00eda)\": \"2020-12-28\", \"casos confirmados\": 30451}, {\"index\": 5, \"Grupo de edad\": \">=80\", \"fecha (a\\u00f1o-mes-d\\u00eda)\": \"2020-12-28\", \"casos confirmados\": 18822}, {\"index\": 0, \"Grupo de edad\": \"<=39\", \"fecha (a\\u00f1o-mes-d\\u00eda)\": \"2021-01-01\", \"casos confirmados\": 359784}, {\"index\": 1, \"Grupo de edad\": \"40-49\", \"fecha (a\\u00f1o-mes-d\\u00eda)\": \"2021-01-01\", \"casos confirmados\": 110537}, {\"index\": 2, \"Grupo de edad\": \"50-59\", \"fecha (a\\u00f1o-mes-d\\u00eda)\": \"2021-01-01\", \"casos confirmados\": 102622}, {\"index\": 3, \"Grupo de edad\": \"60-69\", \"fecha (a\\u00f1o-mes-d\\u00eda)\": \"2021-01-01\", \"casos confirmados\": 61312}, {\"index\": 4, \"Grupo de edad\": \"70-79\", \"fecha (a\\u00f1o-mes-d\\u00eda)\": \"2021-01-01\", \"casos confirmados\": 30998}, {\"index\": 5, \"Grupo de edad\": \">=80\", \"fecha (a\\u00f1o-mes-d\\u00eda)\": \"2021-01-01\", \"casos confirmados\": 19122}, {\"index\": 0, \"Grupo de edad\": \"<=39\", \"fecha (a\\u00f1o-mes-d\\u00eda)\": \"2021-01-04\", \"casos confirmados\": 364605}, {\"index\": 1, \"Grupo de edad\": \"40-49\", \"fecha (a\\u00f1o-mes-d\\u00eda)\": \"2021-01-04\", \"casos confirmados\": 111804}, {\"index\": 2, \"Grupo de edad\": \"50-59\", \"fecha (a\\u00f1o-mes-d\\u00eda)\": \"2021-01-04\", \"casos confirmados\": 103834}, {\"index\": 3, \"Grupo de edad\": \"60-69\", \"fecha (a\\u00f1o-mes-d\\u00eda)\": \"2021-01-04\", \"casos confirmados\": 62145}, {\"index\": 4, \"Grupo de edad\": \"70-79\", \"fecha (a\\u00f1o-mes-d\\u00eda)\": \"2021-01-04\", \"casos confirmados\": 31399}, {\"index\": 5, \"Grupo de edad\": \">=80\", \"fecha (a\\u00f1o-mes-d\\u00eda)\": \"2021-01-04\", \"casos confirmados\": 19384}, {\"index\": 0, \"Grupo de edad\": \"<=39\", \"fecha (a\\u00f1o-mes-d\\u00eda)\": \"2021-01-08\", \"casos confirmados\": 373109}, {\"index\": 1, \"Grupo de edad\": \"40-49\", \"fecha (a\\u00f1o-mes-d\\u00eda)\": \"2021-01-08\", \"casos confirmados\": 114179}, {\"index\": 2, \"Grupo de edad\": \"50-59\", \"fecha (a\\u00f1o-mes-d\\u00eda)\": \"2021-01-08\", \"casos confirmados\": 106006}, {\"index\": 3, \"Grupo de edad\": \"60-69\", \"fecha (a\\u00f1o-mes-d\\u00eda)\": \"2021-01-08\", \"casos confirmados\": 63529}, {\"index\": 4, \"Grupo de edad\": \"70-79\", \"fecha (a\\u00f1o-mes-d\\u00eda)\": \"2021-01-08\", \"casos confirmados\": 32050}, {\"index\": 5, \"Grupo de edad\": \">=80\", \"fecha (a\\u00f1o-mes-d\\u00eda)\": \"2021-01-08\", \"casos confirmados\": 19726}, {\"index\": 0, \"Grupo de edad\": \"<=39\", \"fecha (a\\u00f1o-mes-d\\u00eda)\": \"2021-01-11\", \"casos confirmados\": 380932}, {\"index\": 1, \"Grupo de edad\": \"40-49\", \"fecha (a\\u00f1o-mes-d\\u00eda)\": \"2021-01-11\", \"casos confirmados\": 116304}, {\"index\": 2, \"Grupo de edad\": \"50-59\", \"fecha (a\\u00f1o-mes-d\\u00eda)\": \"2021-01-11\", \"casos confirmados\": 107968}, {\"index\": 3, \"Grupo de edad\": \"60-69\", \"fecha (a\\u00f1o-mes-d\\u00eda)\": \"2021-01-11\", \"casos confirmados\": 64735}, {\"index\": 4, \"Grupo de edad\": \"70-79\", \"fecha (a\\u00f1o-mes-d\\u00eda)\": \"2021-01-11\", \"casos confirmados\": 32691}, {\"index\": 5, \"Grupo de edad\": \">=80\", \"fecha (a\\u00f1o-mes-d\\u00eda)\": \"2021-01-11\", \"casos confirmados\": 20071}, {\"index\": 0, \"Grupo de edad\": \"<=39\", \"fecha (a\\u00f1o-mes-d\\u00eda)\": \"2021-01-15\", \"casos confirmados\": 390689}, {\"index\": 1, \"Grupo de edad\": \"40-49\", \"fecha (a\\u00f1o-mes-d\\u00eda)\": \"2021-01-15\", \"casos confirmados\": 119050}, {\"index\": 2, \"Grupo de edad\": \"50-59\", \"fecha (a\\u00f1o-mes-d\\u00eda)\": \"2021-01-15\", \"casos confirmados\": 110546}, {\"index\": 3, \"Grupo de edad\": \"60-69\", \"fecha (a\\u00f1o-mes-d\\u00eda)\": \"2021-01-15\", \"casos confirmados\": 66399}, {\"index\": 4, \"Grupo de edad\": \"70-79\", \"fecha (a\\u00f1o-mes-d\\u00eda)\": \"2021-01-15\", \"casos confirmados\": 33519}, {\"index\": 5, \"Grupo de edad\": \">=80\", \"fecha (a\\u00f1o-mes-d\\u00eda)\": \"2021-01-15\", \"casos confirmados\": 20464}, {\"index\": 0, \"Grupo de edad\": \"<=39\", \"fecha (a\\u00f1o-mes-d\\u00eda)\": \"2021-01-18\", \"casos confirmados\": 398357}, {\"index\": 1, \"Grupo de edad\": \"40-49\", \"fecha (a\\u00f1o-mes-d\\u00eda)\": \"2021-01-18\", \"casos confirmados\": 121314}, {\"index\": 2, \"Grupo de edad\": \"50-59\", \"fecha (a\\u00f1o-mes-d\\u00eda)\": \"2021-01-18\", \"casos confirmados\": 112630}, {\"index\": 3, \"Grupo de edad\": \"60-69\", \"fecha (a\\u00f1o-mes-d\\u00eda)\": \"2021-01-18\", \"casos confirmados\": 67672}, {\"index\": 4, \"Grupo de edad\": \"70-79\", \"fecha (a\\u00f1o-mes-d\\u00eda)\": \"2021-01-18\", \"casos confirmados\": 34149}, {\"index\": 5, \"Grupo de edad\": \">=80\", \"fecha (a\\u00f1o-mes-d\\u00eda)\": \"2021-01-18\", \"casos confirmados\": 20796}, {\"index\": 0, \"Grupo de edad\": \"<=39\", \"fecha (a\\u00f1o-mes-d\\u00eda)\": \"2021-01-22\", \"casos confirmados\": 408713}, {\"index\": 1, \"Grupo de edad\": \"40-49\", \"fecha (a\\u00f1o-mes-d\\u00eda)\": \"2021-01-22\", \"casos confirmados\": 124378}, {\"index\": 2, \"Grupo de edad\": \"50-59\", \"fecha (a\\u00f1o-mes-d\\u00eda)\": \"2021-01-22\", \"casos confirmados\": 115505}, {\"index\": 3, \"Grupo de edad\": \"60-69\", \"fecha (a\\u00f1o-mes-d\\u00eda)\": \"2021-01-22\", \"casos confirmados\": 69375}, {\"index\": 4, \"Grupo de edad\": \"70-79\", \"fecha (a\\u00f1o-mes-d\\u00eda)\": \"2021-01-22\", \"casos confirmados\": 34994}, {\"index\": 5, \"Grupo de edad\": \">=80\", \"fecha (a\\u00f1o-mes-d\\u00eda)\": \"2021-01-22\", \"casos confirmados\": 21222}, {\"index\": 0, \"Grupo de edad\": \"<=39\", \"fecha (a\\u00f1o-mes-d\\u00eda)\": \"2021-01-25\", \"casos confirmados\": 416637}, {\"index\": 1, \"Grupo de edad\": \"40-49\", \"fecha (a\\u00f1o-mes-d\\u00eda)\": \"2021-01-25\", \"casos confirmados\": 126655}, {\"index\": 2, \"Grupo de edad\": \"50-59\", \"fecha (a\\u00f1o-mes-d\\u00eda)\": \"2021-01-25\", \"casos confirmados\": 117590}, {\"index\": 3, \"Grupo de edad\": \"60-69\", \"fecha (a\\u00f1o-mes-d\\u00eda)\": \"2021-01-25\", \"casos confirmados\": 70706}, {\"index\": 4, \"Grupo de edad\": \"70-79\", \"fecha (a\\u00f1o-mes-d\\u00eda)\": \"2021-01-25\", \"casos confirmados\": 35702}, {\"index\": 5, \"Grupo de edad\": \">=80\", \"fecha (a\\u00f1o-mes-d\\u00eda)\": \"2021-01-25\", \"casos confirmados\": 21581}, {\"index\": 0, \"Grupo de edad\": \"<=39\", \"fecha (a\\u00f1o-mes-d\\u00eda)\": \"2021-01-29\", \"casos confirmados\": 426305}, {\"index\": 1, \"Grupo de edad\": \"40-49\", \"fecha (a\\u00f1o-mes-d\\u00eda)\": \"2021-01-29\", \"casos confirmados\": 129530}, {\"index\": 2, \"Grupo de edad\": \"50-59\", \"fecha (a\\u00f1o-mes-d\\u00eda)\": \"2021-01-29\", \"casos confirmados\": 120431}, {\"index\": 3, \"Grupo de edad\": \"60-69\", \"fecha (a\\u00f1o-mes-d\\u00eda)\": \"2021-01-29\", \"casos confirmados\": 72348}, {\"index\": 4, \"Grupo de edad\": \"70-79\", \"fecha (a\\u00f1o-mes-d\\u00eda)\": \"2021-01-29\", \"casos confirmados\": 36631}, {\"index\": 5, \"Grupo de edad\": \">=80\", \"fecha (a\\u00f1o-mes-d\\u00eda)\": \"2021-01-29\", \"casos confirmados\": 22031}, {\"index\": 0, \"Grupo de edad\": \"<=39\", \"fecha (a\\u00f1o-mes-d\\u00eda)\": \"2021-02-01\", \"casos confirmados\": 433556}, {\"index\": 1, \"Grupo de edad\": \"40-49\", \"fecha (a\\u00f1o-mes-d\\u00eda)\": \"2021-02-01\", \"casos confirmados\": 131774}, {\"index\": 2, \"Grupo de edad\": \"50-59\", \"fecha (a\\u00f1o-mes-d\\u00eda)\": \"2021-02-01\", \"casos confirmados\": 122463}, {\"index\": 3, \"Grupo de edad\": \"60-69\", \"fecha (a\\u00f1o-mes-d\\u00eda)\": \"2021-02-01\", \"casos confirmados\": 73582}, {\"index\": 4, \"Grupo de edad\": \"70-79\", \"fecha (a\\u00f1o-mes-d\\u00eda)\": \"2021-02-01\", \"casos confirmados\": 37291}, {\"index\": 5, \"Grupo de edad\": \">=80\", \"fecha (a\\u00f1o-mes-d\\u00eda)\": \"2021-02-01\", \"casos confirmados\": 22386}, {\"index\": 0, \"Grupo de edad\": \"<=39\", \"fecha (a\\u00f1o-mes-d\\u00eda)\": \"2021-02-05\", \"casos confirmados\": 441717}, {\"index\": 1, \"Grupo de edad\": \"40-49\", \"fecha (a\\u00f1o-mes-d\\u00eda)\": \"2021-02-05\", \"casos confirmados\": 134261}, {\"index\": 2, \"Grupo de edad\": \"50-59\", \"fecha (a\\u00f1o-mes-d\\u00eda)\": \"2021-02-05\", \"casos confirmados\": 124786}, {\"index\": 3, \"Grupo de edad\": \"60-69\", \"fecha (a\\u00f1o-mes-d\\u00eda)\": \"2021-02-05\", \"casos confirmados\": 75057}, {\"index\": 4, \"Grupo de edad\": \"70-79\", \"fecha (a\\u00f1o-mes-d\\u00eda)\": \"2021-02-05\", \"casos confirmados\": 38079}, {\"index\": 5, \"Grupo de edad\": \">=80\", \"fecha (a\\u00f1o-mes-d\\u00eda)\": \"2021-02-05\", \"casos confirmados\": 22826}, {\"index\": 0, \"Grupo de edad\": \"<=39\", \"fecha (a\\u00f1o-mes-d\\u00eda)\": \"2021-02-08\", \"casos confirmados\": 448190}, {\"index\": 1, \"Grupo de edad\": \"40-49\", \"fecha (a\\u00f1o-mes-d\\u00eda)\": \"2021-02-08\", \"casos confirmados\": 136214}, {\"index\": 2, \"Grupo de edad\": \"50-59\", \"fecha (a\\u00f1o-mes-d\\u00eda)\": \"2021-02-08\", \"casos confirmados\": 126609}, {\"index\": 3, \"Grupo de edad\": \"60-69\", \"fecha (a\\u00f1o-mes-d\\u00eda)\": \"2021-02-08\", \"casos confirmados\": 76268}, {\"index\": 4, \"Grupo de edad\": \"70-79\", \"fecha (a\\u00f1o-mes-d\\u00eda)\": \"2021-02-08\", \"casos confirmados\": 38681}, {\"index\": 5, \"Grupo de edad\": \">=80\", \"fecha (a\\u00f1o-mes-d\\u00eda)\": \"2021-02-08\", \"casos confirmados\": 23139}, {\"index\": 0, \"Grupo de edad\": \"<=39\", \"fecha (a\\u00f1o-mes-d\\u00eda)\": \"2021-02-12\", \"casos confirmados\": 456232}, {\"index\": 1, \"Grupo de edad\": \"40-49\", \"fecha (a\\u00f1o-mes-d\\u00eda)\": \"2021-02-12\", \"casos confirmados\": 138660}, {\"index\": 2, \"Grupo de edad\": \"50-59\", \"fecha (a\\u00f1o-mes-d\\u00eda)\": \"2021-02-12\", \"casos confirmados\": 128900}, {\"index\": 3, \"Grupo de edad\": \"60-69\", \"fecha (a\\u00f1o-mes-d\\u00eda)\": \"2021-02-12\", \"casos confirmados\": 77684}, {\"index\": 4, \"Grupo de edad\": \"70-79\", \"fecha (a\\u00f1o-mes-d\\u00eda)\": \"2021-02-12\", \"casos confirmados\": 39385}, {\"index\": 5, \"Grupo de edad\": \">=80\", \"fecha (a\\u00f1o-mes-d\\u00eda)\": \"2021-02-12\", \"casos confirmados\": 23539}, {\"index\": 0, \"Grupo de edad\": \"<=39\", \"fecha (a\\u00f1o-mes-d\\u00eda)\": \"2021-02-15\", \"casos confirmados\": 462803}, {\"index\": 1, \"Grupo de edad\": \"40-49\", \"fecha (a\\u00f1o-mes-d\\u00eda)\": \"2021-02-15\", \"casos confirmados\": 140538}, {\"index\": 2, \"Grupo de edad\": \"50-59\", \"fecha (a\\u00f1o-mes-d\\u00eda)\": \"2021-02-15\", \"casos confirmados\": 130643}, {\"index\": 3, \"Grupo de edad\": \"60-69\", \"fecha (a\\u00f1o-mes-d\\u00eda)\": \"2021-02-15\", \"casos confirmados\": 78833}, {\"index\": 4, \"Grupo de edad\": \"70-79\", \"fecha (a\\u00f1o-mes-d\\u00eda)\": \"2021-02-15\", \"casos confirmados\": 39958}, {\"index\": 5, \"Grupo de edad\": \">=80\", \"fecha (a\\u00f1o-mes-d\\u00eda)\": \"2021-02-15\", \"casos confirmados\": 23846}, {\"index\": 0, \"Grupo de edad\": \"<=39\", \"fecha (a\\u00f1o-mes-d\\u00eda)\": \"2021-02-19\", \"casos confirmados\": 470550}, {\"index\": 1, \"Grupo de edad\": \"40-49\", \"fecha (a\\u00f1o-mes-d\\u00eda)\": \"2021-02-19\", \"casos confirmados\": 142776}, {\"index\": 2, \"Grupo de edad\": \"50-59\", \"fecha (a\\u00f1o-mes-d\\u00eda)\": \"2021-02-19\", \"casos confirmados\": 132837}, {\"index\": 3, \"Grupo de edad\": \"60-69\", \"fecha (a\\u00f1o-mes-d\\u00eda)\": \"2021-02-19\", \"casos confirmados\": 80164}, {\"index\": 4, \"Grupo de edad\": \"70-79\", \"fecha (a\\u00f1o-mes-d\\u00eda)\": \"2021-02-19\", \"casos confirmados\": 40629}, {\"index\": 5, \"Grupo de edad\": \">=80\", \"fecha (a\\u00f1o-mes-d\\u00eda)\": \"2021-02-19\", \"casos confirmados\": 24202}, {\"index\": 0, \"Grupo de edad\": \"<=39\", \"fecha (a\\u00f1o-mes-d\\u00eda)\": \"2021-02-22\", \"casos confirmados\": 477149}, {\"index\": 1, \"Grupo de edad\": \"40-49\", \"fecha (a\\u00f1o-mes-d\\u00eda)\": \"2021-02-22\", \"casos confirmados\": 144672}, {\"index\": 2, \"Grupo de edad\": \"50-59\", \"fecha (a\\u00f1o-mes-d\\u00eda)\": \"2021-02-22\", \"casos confirmados\": 134625}, {\"index\": 3, \"Grupo de edad\": \"60-69\", \"fecha (a\\u00f1o-mes-d\\u00eda)\": \"2021-02-22\", \"casos confirmados\": 81280}, {\"index\": 4, \"Grupo de edad\": \"70-79\", \"fecha (a\\u00f1o-mes-d\\u00eda)\": \"2021-02-22\", \"casos confirmados\": 41177}, {\"index\": 5, \"Grupo de edad\": \">=80\", \"fecha (a\\u00f1o-mes-d\\u00eda)\": \"2021-02-22\", \"casos confirmados\": 24483}, {\"index\": 0, \"Grupo de edad\": \"<=39\", \"fecha (a\\u00f1o-mes-d\\u00eda)\": \"2021-02-26\", \"casos confirmados\": 487300}, {\"index\": 1, \"Grupo de edad\": \"40-49\", \"fecha (a\\u00f1o-mes-d\\u00eda)\": \"2021-02-26\", \"casos confirmados\": 147479}, {\"index\": 2, \"Grupo de edad\": \"50-59\", \"fecha (a\\u00f1o-mes-d\\u00eda)\": \"2021-02-26\", \"casos confirmados\": 137279}, {\"index\": 3, \"Grupo de edad\": \"60-69\", \"fecha (a\\u00f1o-mes-d\\u00eda)\": \"2021-02-26\", \"casos confirmados\": 82792}, {\"index\": 4, \"Grupo de edad\": \"70-79\", \"fecha (a\\u00f1o-mes-d\\u00eda)\": \"2021-02-26\", \"casos confirmados\": 41988}, {\"index\": 5, \"Grupo de edad\": \">=80\", \"fecha (a\\u00f1o-mes-d\\u00eda)\": \"2021-02-26\", \"casos confirmados\": 24958}, {\"index\": 0, \"Grupo de edad\": \"<=39\", \"fecha (a\\u00f1o-mes-d\\u00eda)\": \"2021-03-01\", \"casos confirmados\": 495773}, {\"index\": 1, \"Grupo de edad\": \"40-49\", \"fecha (a\\u00f1o-mes-d\\u00eda)\": \"2021-03-01\", \"casos confirmados\": 149814}, {\"index\": 2, \"Grupo de edad\": \"50-59\", \"fecha (a\\u00f1o-mes-d\\u00eda)\": \"2021-03-01\", \"casos confirmados\": 139464}, {\"index\": 3, \"Grupo de edad\": \"60-69\", \"fecha (a\\u00f1o-mes-d\\u00eda)\": \"2021-03-01\", \"casos confirmados\": 84152}, {\"index\": 4, \"Grupo de edad\": \"70-79\", \"fecha (a\\u00f1o-mes-d\\u00eda)\": \"2021-03-01\", \"casos confirmados\": 42716}, {\"index\": 5, \"Grupo de edad\": \">=80\", \"fecha (a\\u00f1o-mes-d\\u00eda)\": \"2021-03-01\", \"casos confirmados\": 25456}, {\"index\": 0, \"Grupo de edad\": \"<=39\", \"fecha (a\\u00f1o-mes-d\\u00eda)\": \"2021-03-05\", \"casos confirmados\": 507987}, {\"index\": 1, \"Grupo de edad\": \"40-49\", \"fecha (a\\u00f1o-mes-d\\u00eda)\": \"2021-03-05\", \"casos confirmados\": 153380}, {\"index\": 2, \"Grupo de edad\": \"50-59\", \"fecha (a\\u00f1o-mes-d\\u00eda)\": \"2021-03-05\", \"casos confirmados\": 142579}, {\"index\": 3, \"Grupo de edad\": \"60-69\", \"fecha (a\\u00f1o-mes-d\\u00eda)\": \"2021-03-05\", \"casos confirmados\": 86096}, {\"index\": 4, \"Grupo de edad\": \"70-79\", \"fecha (a\\u00f1o-mes-d\\u00eda)\": \"2021-03-05\", \"casos confirmados\": 43622}, {\"index\": 5, \"Grupo de edad\": \">=80\", \"fecha (a\\u00f1o-mes-d\\u00eda)\": \"2021-03-05\", \"casos confirmados\": 25986}, {\"index\": 0, \"Grupo de edad\": \"<=39\", \"fecha (a\\u00f1o-mes-d\\u00eda)\": \"2021-03-08\", \"casos confirmados\": 518123}, {\"index\": 1, \"Grupo de edad\": \"40-49\", \"fecha (a\\u00f1o-mes-d\\u00eda)\": \"2021-03-08\", \"casos confirmados\": 156170}, {\"index\": 2, \"Grupo de edad\": \"50-59\", \"fecha (a\\u00f1o-mes-d\\u00eda)\": \"2021-03-08\", \"casos confirmados\": 145175}, {\"index\": 3, \"Grupo de edad\": \"60-69\", \"fecha (a\\u00f1o-mes-d\\u00eda)\": \"2021-03-08\", \"casos confirmados\": 87622}, {\"index\": 4, \"Grupo de edad\": \"70-79\", \"fecha (a\\u00f1o-mes-d\\u00eda)\": \"2021-03-08\", \"casos confirmados\": 44450}, {\"index\": 5, \"Grupo de edad\": \">=80\", \"fecha (a\\u00f1o-mes-d\\u00eda)\": \"2021-03-08\", \"casos confirmados\": 26421}, {\"index\": 0, \"Grupo de edad\": \"<=39\", \"fecha (a\\u00f1o-mes-d\\u00eda)\": \"2021-03-12\", \"casos confirmados\": 532863}, {\"index\": 1, \"Grupo de edad\": \"40-49\", \"fecha (a\\u00f1o-mes-d\\u00eda)\": \"2021-03-12\", \"casos confirmados\": 160311}, {\"index\": 2, \"Grupo de edad\": \"50-59\", \"fecha (a\\u00f1o-mes-d\\u00eda)\": \"2021-03-12\", \"casos confirmados\": 148868}, {\"index\": 3, \"Grupo de edad\": \"60-69\", \"fecha (a\\u00f1o-mes-d\\u00eda)\": \"2021-03-12\", \"casos confirmados\": 89810}, {\"index\": 4, \"Grupo de edad\": \"70-79\", \"fecha (a\\u00f1o-mes-d\\u00eda)\": \"2021-03-12\", \"casos confirmados\": 45445}, {\"index\": 5, \"Grupo de edad\": \">=80\", \"fecha (a\\u00f1o-mes-d\\u00eda)\": \"2021-03-12\", \"casos confirmados\": 26991}, {\"index\": 0, \"Grupo de edad\": \"<=39\", \"fecha (a\\u00f1o-mes-d\\u00eda)\": \"2021-03-15\", \"casos confirmados\": 544368}, {\"index\": 1, \"Grupo de edad\": \"40-49\", \"fecha (a\\u00f1o-mes-d\\u00eda)\": \"2021-03-15\", \"casos confirmados\": 163536}, {\"index\": 2, \"Grupo de edad\": \"50-59\", \"fecha (a\\u00f1o-mes-d\\u00eda)\": \"2021-03-15\", \"casos confirmados\": 151857}, {\"index\": 3, \"Grupo de edad\": \"60-69\", \"fecha (a\\u00f1o-mes-d\\u00eda)\": \"2021-03-15\", \"casos confirmados\": 91584}, {\"index\": 4, \"Grupo de edad\": \"70-79\", \"fecha (a\\u00f1o-mes-d\\u00eda)\": \"2021-03-15\", \"casos confirmados\": 46189}, {\"index\": 5, \"Grupo de edad\": \">=80\", \"fecha (a\\u00f1o-mes-d\\u00eda)\": \"2021-03-15\", \"casos confirmados\": 27480}]}}, {\"mode\": \"vega-lite\"});\n",
       "</script>"
      ],
      "text/plain": [
       "alt.HConcatChart(...)"
      ]
     },
     "execution_count": 117,
     "metadata": {},
     "output_type": "execute_result"
    }
   ],
   "source": [
    "#hide_input\n",
    "input_dropdown = alt.binding_select(options=data['Grupo de edad'].unique())\n",
    "selection1 = alt.selection_single(fields=['Grupo de edad'], bind=input_dropdown, name=' ')\n",
    "selection2 = alt.selection_multi(fields=['Grupo de edad'], on='mouseover')\n",
    "\n",
    "color = alt.condition(selection1 | selection2,\n",
    "                    alt.Color('Grupo de edad:N', scale=alt.Scale(scheme='tableau20'), legend=None),\n",
    "                    alt.value('lightgray'))\n",
    "\n",
    "bars = alt.Chart(cases).mark_bar().encode(\n",
    "    x = 'fecha (año-mes-día):N',\n",
    "    y = 'casos confirmados:Q',\n",
    "    color = color,\n",
    "    tooltip = ['fecha (año-mes-día)', 'Grupo de edad', 'casos confirmados'],\n",
    "    order=alt.Order(\n",
    "    # Sort the segments of the bars by this field\n",
    "    'index',\n",
    "    sort='descending'\n",
    "    )\n",
    ").add_selection(\n",
    "    selection1, selection2\n",
    ").transform_filter(\n",
    "    selection1\n",
    ")\n",
    "\n",
    "legend = alt.Chart(cases).mark_point().encode(\n",
    "    y=alt.Y('Grupo de edad', axis=alt.Axis(orient='right'), sort=grupo_de_edad),\n",
    "    color=color\n",
    ").add_selection(\n",
    "    selection1, selection2\n",
    ")\n",
    "\n",
    "bars.properties(\n",
    "    title = 'COVID-19 en Chile: Evolución de casos confirmados por rango de edad',\n",
    "    width = 600\n",
    ") | legend"
   ]
  },
  {
   "cell_type": "code",
   "execution_count": 118,
   "metadata": {},
   "outputs": [
    {
     "data": {
      "text/html": [
       "\n",
       "<div id=\"altair-viz-42af7397e92d4cf7aba2f3fbd100bd1a\"></div>\n",
       "<script type=\"text/javascript\">\n",
       "  (function(spec, embedOpt){\n",
       "    let outputDiv = document.currentScript.previousElementSibling;\n",
       "    if (outputDiv.id !== \"altair-viz-42af7397e92d4cf7aba2f3fbd100bd1a\") {\n",
       "      outputDiv = document.getElementById(\"altair-viz-42af7397e92d4cf7aba2f3fbd100bd1a\");\n",
       "    }\n",
       "    const paths = {\n",
       "      \"vega\": \"https://cdn.jsdelivr.net/npm//vega@5?noext\",\n",
       "      \"vega-lib\": \"https://cdn.jsdelivr.net/npm//vega-lib?noext\",\n",
       "      \"vega-lite\": \"https://cdn.jsdelivr.net/npm//vega-lite@4.8.1?noext\",\n",
       "      \"vega-embed\": \"https://cdn.jsdelivr.net/npm//vega-embed@6?noext\",\n",
       "    };\n",
       "\n",
       "    function loadScript(lib) {\n",
       "      return new Promise(function(resolve, reject) {\n",
       "        var s = document.createElement('script');\n",
       "        s.src = paths[lib];\n",
       "        s.async = true;\n",
       "        s.onload = () => resolve(paths[lib]);\n",
       "        s.onerror = () => reject(`Error loading script: ${paths[lib]}`);\n",
       "        document.getElementsByTagName(\"head\")[0].appendChild(s);\n",
       "      });\n",
       "    }\n",
       "\n",
       "    function showError(err) {\n",
       "      outputDiv.innerHTML = `<div class=\"error\" style=\"color:red;\">${err}</div>`;\n",
       "      throw err;\n",
       "    }\n",
       "\n",
       "    function displayChart(vegaEmbed) {\n",
       "      vegaEmbed(outputDiv, spec, embedOpt)\n",
       "        .catch(err => showError(`Javascript Error: ${err.message}<br>This usually means there's a typo in your chart specification. See the javascript console for the full traceback.`));\n",
       "    }\n",
       "\n",
       "    if(typeof define === \"function\" && define.amd) {\n",
       "      requirejs.config({paths});\n",
       "      require([\"vega-embed\"], displayChart, err => showError(`Error loading script: ${err.message}`));\n",
       "    } else if (typeof vegaEmbed === \"function\") {\n",
       "      displayChart(vegaEmbed);\n",
       "    } else {\n",
       "      loadScript(\"vega\")\n",
       "        .then(() => loadScript(\"vega-lite\"))\n",
       "        .then(() => loadScript(\"vega-embed\"))\n",
       "        .catch(showError)\n",
       "        .then(() => displayChart(vegaEmbed));\n",
       "    }\n",
       "  })({\"config\": {\"view\": {\"continuousWidth\": 400, \"continuousHeight\": 300}}, \"hconcat\": [{\"mark\": \"area\", \"encoding\": {\"color\": {\"condition\": {\"type\": \"nominal\", \"field\": \"Grupo de edad\", \"legend\": null, \"scale\": {\"scheme\": \"tableau20\"}, \"selection\": \"selector005\"}, \"value\": \"lightgray\"}, \"order\": {\"type\": \"quantitative\", \"field\": \"index\", \"sort\": \"descending\"}, \"tooltip\": [{\"type\": \"nominal\", \"field\": \"fecha (a\\u00f1o-mes-d\\u00eda)\"}, {\"type\": \"nominal\", \"field\": \"Grupo de edad\"}, {\"type\": \"quantitative\", \"field\": \"casos confirmados\"}], \"x\": {\"type\": \"nominal\", \"field\": \"fecha (a\\u00f1o-mes-d\\u00eda)\"}, \"y\": {\"type\": \"quantitative\", \"field\": \"casos confirmados\", \"stack\": \"normalize\"}}, \"selection\": {\"selector005\": {\"type\": \"multi\", \"fields\": [\"Grupo de edad\"], \"on\": \"mouseover\"}}, \"title\": \"COVID-19 en Chile: Evoluci\\u00f3n de casos confirmados por rango de edad\", \"width\": 600}, {\"mark\": \"point\", \"encoding\": {\"color\": {\"condition\": {\"type\": \"nominal\", \"field\": \"Grupo de edad\", \"legend\": null, \"scale\": {\"scheme\": \"tableau20\"}, \"selection\": \"selector005\"}, \"value\": \"lightgray\"}, \"y\": {\"type\": \"nominal\", \"axis\": {\"orient\": \"right\"}, \"field\": \"Grupo de edad\", \"sort\": [\"<=39\", \"40-49\", \"50-59\", \"60-69\", \"70-79\", \"80-89\", \">=90\"]}}, \"selection\": {\"selector005\": {\"type\": \"multi\", \"fields\": [\"Grupo de edad\"], \"on\": \"mouseover\"}}}], \"data\": {\"name\": \"data-e72153e0feeb3137a74884a811115f3b\"}, \"$schema\": \"https://vega.github.io/schema/vega-lite/v4.8.1.json\", \"datasets\": {\"data-e72153e0feeb3137a74884a811115f3b\": [{\"index\": 0, \"Grupo de edad\": \"<=39\", \"fecha (a\\u00f1o-mes-d\\u00eda)\": \"2020-03-25\", \"casos confirmados\": 558}, {\"index\": 1, \"Grupo de edad\": \"40-49\", \"fecha (a\\u00f1o-mes-d\\u00eda)\": \"2020-03-25\", \"casos confirmados\": 220}, {\"index\": 2, \"Grupo de edad\": \"50-59\", \"fecha (a\\u00f1o-mes-d\\u00eda)\": \"2020-03-25\", \"casos confirmados\": 119}, {\"index\": 3, \"Grupo de edad\": \"60-69\", \"fecha (a\\u00f1o-mes-d\\u00eda)\": \"2020-03-25\", \"casos confirmados\": 69}, {\"index\": 4, \"Grupo de edad\": \"70-79\", \"fecha (a\\u00f1o-mes-d\\u00eda)\": \"2020-03-25\", \"casos confirmados\": 38}, {\"index\": 5, \"Grupo de edad\": \">=80\", \"fecha (a\\u00f1o-mes-d\\u00eda)\": \"2020-03-25\", \"casos confirmados\": 8}, {\"index\": 0, \"Grupo de edad\": \"<=39\", \"fecha (a\\u00f1o-mes-d\\u00eda)\": \"2020-03-26\", \"casos confirmados\": 672}, {\"index\": 1, \"Grupo de edad\": \"40-49\", \"fecha (a\\u00f1o-mes-d\\u00eda)\": \"2020-03-26\", \"casos confirmados\": 268}, {\"index\": 2, \"Grupo de edad\": \"50-59\", \"fecha (a\\u00f1o-mes-d\\u00eda)\": \"2020-03-26\", \"casos confirmados\": 162}, {\"index\": 3, \"Grupo de edad\": \"60-69\", \"fecha (a\\u00f1o-mes-d\\u00eda)\": \"2020-03-26\", \"casos confirmados\": 91}, {\"index\": 4, \"Grupo de edad\": \"70-79\", \"fecha (a\\u00f1o-mes-d\\u00eda)\": \"2020-03-26\", \"casos confirmados\": 48}, {\"index\": 5, \"Grupo de edad\": \">=80\", \"fecha (a\\u00f1o-mes-d\\u00eda)\": \"2020-03-26\", \"casos confirmados\": 11}, {\"index\": 0, \"Grupo de edad\": \"<=39\", \"fecha (a\\u00f1o-mes-d\\u00eda)\": \"2020-03-27\", \"casos confirmados\": 754}, {\"index\": 1, \"Grupo de edad\": \"40-49\", \"fecha (a\\u00f1o-mes-d\\u00eda)\": \"2020-03-27\", \"casos confirmados\": 310}, {\"index\": 2, \"Grupo de edad\": \"50-59\", \"fecha (a\\u00f1o-mes-d\\u00eda)\": \"2020-03-27\", \"casos confirmados\": 190}, {\"index\": 3, \"Grupo de edad\": \"60-69\", \"fecha (a\\u00f1o-mes-d\\u00eda)\": \"2020-03-27\", \"casos confirmados\": 112}, {\"index\": 4, \"Grupo de edad\": \"70-79\", \"fecha (a\\u00f1o-mes-d\\u00eda)\": \"2020-03-27\", \"casos confirmados\": 56}, {\"index\": 5, \"Grupo de edad\": \">=80\", \"fecha (a\\u00f1o-mes-d\\u00eda)\": \"2020-03-27\", \"casos confirmados\": 12}, {\"index\": 0, \"Grupo de edad\": \"<=39\", \"fecha (a\\u00f1o-mes-d\\u00eda)\": \"2020-03-28\", \"casos confirmados\": 890}, {\"index\": 1, \"Grupo de edad\": \"40-49\", \"fecha (a\\u00f1o-mes-d\\u00eda)\": \"2020-03-28\", \"casos confirmados\": 357}, {\"index\": 2, \"Grupo de edad\": \"50-59\", \"fecha (a\\u00f1o-mes-d\\u00eda)\": \"2020-03-28\", \"casos confirmados\": 251}, {\"index\": 3, \"Grupo de edad\": \"60-69\", \"fecha (a\\u00f1o-mes-d\\u00eda)\": \"2020-03-28\", \"casos confirmados\": 138}, {\"index\": 4, \"Grupo de edad\": \"70-79\", \"fecha (a\\u00f1o-mes-d\\u00eda)\": \"2020-03-28\", \"casos confirmados\": 67}, {\"index\": 5, \"Grupo de edad\": \">=80\", \"fecha (a\\u00f1o-mes-d\\u00eda)\": \"2020-03-28\", \"casos confirmados\": 20}, {\"index\": 0, \"Grupo de edad\": \"<=39\", \"fecha (a\\u00f1o-mes-d\\u00eda)\": \"2020-03-29\", \"casos confirmados\": 964}, {\"index\": 1, \"Grupo de edad\": \"40-49\", \"fecha (a\\u00f1o-mes-d\\u00eda)\": \"2020-03-29\", \"casos confirmados\": 407}, {\"index\": 2, \"Grupo de edad\": \"50-59\", \"fecha (a\\u00f1o-mes-d\\u00eda)\": \"2020-03-29\", \"casos confirmados\": 272}, {\"index\": 3, \"Grupo de edad\": \"60-69\", \"fecha (a\\u00f1o-mes-d\\u00eda)\": \"2020-03-29\", \"casos confirmados\": 165}, {\"index\": 4, \"Grupo de edad\": \"70-79\", \"fecha (a\\u00f1o-mes-d\\u00eda)\": \"2020-03-29\", \"casos confirmados\": 75}, {\"index\": 5, \"Grupo de edad\": \">=80\", \"fecha (a\\u00f1o-mes-d\\u00eda)\": \"2020-03-29\", \"casos confirmados\": 23}, {\"index\": 0, \"Grupo de edad\": \"<=39\", \"fecha (a\\u00f1o-mes-d\\u00eda)\": \"2020-03-30\", \"casos confirmados\": 1041}, {\"index\": 1, \"Grupo de edad\": \"40-49\", \"fecha (a\\u00f1o-mes-d\\u00eda)\": \"2020-03-30\", \"casos confirmados\": 451}, {\"index\": 2, \"Grupo de edad\": \"50-59\", \"fecha (a\\u00f1o-mes-d\\u00eda)\": \"2020-03-30\", \"casos confirmados\": 304}, {\"index\": 3, \"Grupo de edad\": \"60-69\", \"fecha (a\\u00f1o-mes-d\\u00eda)\": \"2020-03-30\", \"casos confirmados\": 182}, {\"index\": 4, \"Grupo de edad\": \"70-79\", \"fecha (a\\u00f1o-mes-d\\u00eda)\": \"2020-03-30\", \"casos confirmados\": 84}, {\"index\": 5, \"Grupo de edad\": \">=80\", \"fecha (a\\u00f1o-mes-d\\u00eda)\": \"2020-03-30\", \"casos confirmados\": 26}, {\"index\": 0, \"Grupo de edad\": \"<=39\", \"fecha (a\\u00f1o-mes-d\\u00eda)\": \"2020-03-31\", \"casos confirmados\": 1182}, {\"index\": 1, \"Grupo de edad\": \"40-49\", \"fecha (a\\u00f1o-mes-d\\u00eda)\": \"2020-03-31\", \"casos confirmados\": 511}, {\"index\": 2, \"Grupo de edad\": \"50-59\", \"fecha (a\\u00f1o-mes-d\\u00eda)\": \"2020-03-31\", \"casos confirmados\": 348}, {\"index\": 3, \"Grupo de edad\": \"60-69\", \"fecha (a\\u00f1o-mes-d\\u00eda)\": \"2020-03-31\", \"casos confirmados\": 209}, {\"index\": 4, \"Grupo de edad\": \"70-79\", \"fecha (a\\u00f1o-mes-d\\u00eda)\": \"2020-03-31\", \"casos confirmados\": 92}, {\"index\": 5, \"Grupo de edad\": \">=80\", \"fecha (a\\u00f1o-mes-d\\u00eda)\": \"2020-03-31\", \"casos confirmados\": 31}, {\"index\": 0, \"Grupo de edad\": \"<=39\", \"fecha (a\\u00f1o-mes-d\\u00eda)\": \"2020-04-01\", \"casos confirmados\": 1335}, {\"index\": 1, \"Grupo de edad\": \"40-49\", \"fecha (a\\u00f1o-mes-d\\u00eda)\": \"2020-04-01\", \"casos confirmados\": 584}, {\"index\": 2, \"Grupo de edad\": \"50-59\", \"fecha (a\\u00f1o-mes-d\\u00eda)\": \"2020-04-01\", \"casos confirmados\": 423}, {\"index\": 3, \"Grupo de edad\": \"60-69\", \"fecha (a\\u00f1o-mes-d\\u00eda)\": \"2020-04-01\", \"casos confirmados\": 243}, {\"index\": 4, \"Grupo de edad\": \"70-79\", \"fecha (a\\u00f1o-mes-d\\u00eda)\": \"2020-04-01\", \"casos confirmados\": 120}, {\"index\": 5, \"Grupo de edad\": \">=80\", \"fecha (a\\u00f1o-mes-d\\u00eda)\": \"2020-04-01\", \"casos confirmados\": 39}, {\"index\": 0, \"Grupo de edad\": \"<=39\", \"fecha (a\\u00f1o-mes-d\\u00eda)\": \"2020-04-02\", \"casos confirmados\": 1434}, {\"index\": 1, \"Grupo de edad\": \"40-49\", \"fecha (a\\u00f1o-mes-d\\u00eda)\": \"2020-04-02\", \"casos confirmados\": 616}, {\"index\": 2, \"Grupo de edad\": \"50-59\", \"fecha (a\\u00f1o-mes-d\\u00eda)\": \"2020-04-02\", \"casos confirmados\": 453}, {\"index\": 3, \"Grupo de edad\": \"60-69\", \"fecha (a\\u00f1o-mes-d\\u00eda)\": \"2020-04-02\", \"casos confirmados\": 264}, {\"index\": 4, \"Grupo de edad\": \"70-79\", \"fecha (a\\u00f1o-mes-d\\u00eda)\": \"2020-04-02\", \"casos confirmados\": 127}, {\"index\": 5, \"Grupo de edad\": \">=80\", \"fecha (a\\u00f1o-mes-d\\u00eda)\": \"2020-04-02\", \"casos confirmados\": 44}, {\"index\": 0, \"Grupo de edad\": \"<=39\", \"fecha (a\\u00f1o-mes-d\\u00eda)\": \"2020-04-03\", \"casos confirmados\": 1678}, {\"index\": 1, \"Grupo de edad\": \"40-49\", \"fecha (a\\u00f1o-mes-d\\u00eda)\": \"2020-04-03\", \"casos confirmados\": 695}, {\"index\": 2, \"Grupo de edad\": \"50-59\", \"fecha (a\\u00f1o-mes-d\\u00eda)\": \"2020-04-03\", \"casos confirmados\": 521}, {\"index\": 3, \"Grupo de edad\": \"60-69\", \"fecha (a\\u00f1o-mes-d\\u00eda)\": \"2020-04-03\", \"casos confirmados\": 296}, {\"index\": 4, \"Grupo de edad\": \"70-79\", \"fecha (a\\u00f1o-mes-d\\u00eda)\": \"2020-04-03\", \"casos confirmados\": 155}, {\"index\": 5, \"Grupo de edad\": \">=80\", \"fecha (a\\u00f1o-mes-d\\u00eda)\": \"2020-04-03\", \"casos confirmados\": 53}, {\"index\": 0, \"Grupo de edad\": \"<=39\", \"fecha (a\\u00f1o-mes-d\\u00eda)\": \"2020-04-04\", \"casos confirmados\": 1866}, {\"index\": 1, \"Grupo de edad\": \"40-49\", \"fecha (a\\u00f1o-mes-d\\u00eda)\": \"2020-04-04\", \"casos confirmados\": 762}, {\"index\": 2, \"Grupo de edad\": \"50-59\", \"fecha (a\\u00f1o-mes-d\\u00eda)\": \"2020-04-04\", \"casos confirmados\": 575}, {\"index\": 3, \"Grupo de edad\": \"60-69\", \"fecha (a\\u00f1o-mes-d\\u00eda)\": \"2020-04-04\", \"casos confirmados\": 336}, {\"index\": 4, \"Grupo de edad\": \"70-79\", \"fecha (a\\u00f1o-mes-d\\u00eda)\": \"2020-04-04\", \"casos confirmados\": 185}, {\"index\": 5, \"Grupo de edad\": \">=80\", \"fecha (a\\u00f1o-mes-d\\u00eda)\": \"2020-04-04\", \"casos confirmados\": 61}, {\"index\": 0, \"Grupo de edad\": \"<=39\", \"fecha (a\\u00f1o-mes-d\\u00eda)\": \"2020-04-05\", \"casos confirmados\": 2007}, {\"index\": 1, \"Grupo de edad\": \"40-49\", \"fecha (a\\u00f1o-mes-d\\u00eda)\": \"2020-04-05\", \"casos confirmados\": 831}, {\"index\": 2, \"Grupo de edad\": \"50-59\", \"fecha (a\\u00f1o-mes-d\\u00eda)\": \"2020-04-05\", \"casos confirmados\": 620}, {\"index\": 3, \"Grupo de edad\": \"60-69\", \"fecha (a\\u00f1o-mes-d\\u00eda)\": \"2020-04-05\", \"casos confirmados\": 354}, {\"index\": 4, \"Grupo de edad\": \"70-79\", \"fecha (a\\u00f1o-mes-d\\u00eda)\": \"2020-04-05\", \"casos confirmados\": 202}, {\"index\": 5, \"Grupo de edad\": \">=80\", \"fecha (a\\u00f1o-mes-d\\u00eda)\": \"2020-04-05\", \"casos confirmados\": 68}, {\"index\": 0, \"Grupo de edad\": \"<=39\", \"fecha (a\\u00f1o-mes-d\\u00eda)\": \"2020-04-06\", \"casos confirmados\": 2140}, {\"index\": 1, \"Grupo de edad\": \"40-49\", \"fecha (a\\u00f1o-mes-d\\u00eda)\": \"2020-04-06\", \"casos confirmados\": 876}, {\"index\": 2, \"Grupo de edad\": \"50-59\", \"fecha (a\\u00f1o-mes-d\\u00eda)\": \"2020-04-06\", \"casos confirmados\": 662}, {\"index\": 3, \"Grupo de edad\": \"60-69\", \"fecha (a\\u00f1o-mes-d\\u00eda)\": \"2020-04-06\", \"casos confirmados\": 377}, {\"index\": 4, \"Grupo de edad\": \"70-79\", \"fecha (a\\u00f1o-mes-d\\u00eda)\": \"2020-04-06\", \"casos confirmados\": 214}, {\"index\": 5, \"Grupo de edad\": \">=80\", \"fecha (a\\u00f1o-mes-d\\u00eda)\": \"2020-04-06\", \"casos confirmados\": 77}, {\"index\": 0, \"Grupo de edad\": \"<=39\", \"fecha (a\\u00f1o-mes-d\\u00eda)\": \"2020-04-07\", \"casos confirmados\": 2257}, {\"index\": 1, \"Grupo de edad\": \"40-49\", \"fecha (a\\u00f1o-mes-d\\u00eda)\": \"2020-04-07\", \"casos confirmados\": 926}, {\"index\": 2, \"Grupo de edad\": \"50-59\", \"fecha (a\\u00f1o-mes-d\\u00eda)\": \"2020-04-07\", \"casos confirmados\": 707}, {\"index\": 3, \"Grupo de edad\": \"60-69\", \"fecha (a\\u00f1o-mes-d\\u00eda)\": \"2020-04-07\", \"casos confirmados\": 415}, {\"index\": 4, \"Grupo de edad\": \"70-79\", \"fecha (a\\u00f1o-mes-d\\u00eda)\": \"2020-04-07\", \"casos confirmados\": 225}, {\"index\": 5, \"Grupo de edad\": \">=80\", \"fecha (a\\u00f1o-mes-d\\u00eda)\": \"2020-04-07\", \"casos confirmados\": 87}, {\"index\": 0, \"Grupo de edad\": \"<=39\", \"fecha (a\\u00f1o-mes-d\\u00eda)\": \"2020-04-08\", \"casos confirmados\": 2636}, {\"index\": 1, \"Grupo de edad\": \"40-49\", \"fecha (a\\u00f1o-mes-d\\u00eda)\": \"2020-04-08\", \"casos confirmados\": 1079}, {\"index\": 2, \"Grupo de edad\": \"50-59\", \"fecha (a\\u00f1o-mes-d\\u00eda)\": \"2020-04-08\", \"casos confirmados\": 839}, {\"index\": 3, \"Grupo de edad\": \"60-69\", \"fecha (a\\u00f1o-mes-d\\u00eda)\": \"2020-04-08\", \"casos confirmados\": 468}, {\"index\": 4, \"Grupo de edad\": \"70-79\", \"fecha (a\\u00f1o-mes-d\\u00eda)\": \"2020-04-08\", \"casos confirmados\": 263}, {\"index\": 5, \"Grupo de edad\": \">=80\", \"fecha (a\\u00f1o-mes-d\\u00eda)\": \"2020-04-08\", \"casos confirmados\": 112}, {\"index\": 0, \"Grupo de edad\": \"<=39\", \"fecha (a\\u00f1o-mes-d\\u00eda)\": \"2020-04-09\", \"casos confirmados\": 2837}, {\"index\": 1, \"Grupo de edad\": \"40-49\", \"fecha (a\\u00f1o-mes-d\\u00eda)\": \"2020-04-09\", \"casos confirmados\": 1153}, {\"index\": 2, \"Grupo de edad\": \"50-59\", \"fecha (a\\u00f1o-mes-d\\u00eda)\": \"2020-04-09\", \"casos confirmados\": 903}, {\"index\": 3, \"Grupo de edad\": \"60-69\", \"fecha (a\\u00f1o-mes-d\\u00eda)\": \"2020-04-09\", \"casos confirmados\": 502}, {\"index\": 4, \"Grupo de edad\": \"70-79\", \"fecha (a\\u00f1o-mes-d\\u00eda)\": \"2020-04-09\", \"casos confirmados\": 284}, {\"index\": 5, \"Grupo de edad\": \">=80\", \"fecha (a\\u00f1o-mes-d\\u00eda)\": \"2020-04-09\", \"casos confirmados\": 131}, {\"index\": 0, \"Grupo de edad\": \"<=39\", \"fecha (a\\u00f1o-mes-d\\u00eda)\": \"2020-04-10\", \"casos confirmados\": 3084}, {\"index\": 1, \"Grupo de edad\": \"40-49\", \"fecha (a\\u00f1o-mes-d\\u00eda)\": \"2020-04-10\", \"casos confirmados\": 1227}, {\"index\": 2, \"Grupo de edad\": \"50-59\", \"fecha (a\\u00f1o-mes-d\\u00eda)\": \"2020-04-10\", \"casos confirmados\": 975}, {\"index\": 3, \"Grupo de edad\": \"60-69\", \"fecha (a\\u00f1o-mes-d\\u00eda)\": \"2020-04-10\", \"casos confirmados\": 544}, {\"index\": 4, \"Grupo de edad\": \"70-79\", \"fecha (a\\u00f1o-mes-d\\u00eda)\": \"2020-04-10\", \"casos confirmados\": 309}, {\"index\": 5, \"Grupo de edad\": \">=80\", \"fecha (a\\u00f1o-mes-d\\u00eda)\": \"2020-04-10\", \"casos confirmados\": 153}, {\"index\": 0, \"Grupo de edad\": \"<=39\", \"fecha (a\\u00f1o-mes-d\\u00eda)\": \"2020-04-11\", \"casos confirmados\": 3302}, {\"index\": 1, \"Grupo de edad\": \"40-49\", \"fecha (a\\u00f1o-mes-d\\u00eda)\": \"2020-04-11\", \"casos confirmados\": 1297}, {\"index\": 2, \"Grupo de edad\": \"50-59\", \"fecha (a\\u00f1o-mes-d\\u00eda)\": \"2020-04-11\", \"casos confirmados\": 1022}, {\"index\": 3, \"Grupo de edad\": \"60-69\", \"fecha (a\\u00f1o-mes-d\\u00eda)\": \"2020-04-11\", \"casos confirmados\": 584}, {\"index\": 4, \"Grupo de edad\": \"70-79\", \"fecha (a\\u00f1o-mes-d\\u00eda)\": \"2020-04-11\", \"casos confirmados\": 328}, {\"index\": 5, \"Grupo de edad\": \">=80\", \"fecha (a\\u00f1o-mes-d\\u00eda)\": \"2020-04-11\", \"casos confirmados\": 169}, {\"index\": 0, \"Grupo de edad\": \"<=39\", \"fecha (a\\u00f1o-mes-d\\u00eda)\": \"2020-04-12\", \"casos confirmados\": 3454}, {\"index\": 1, \"Grupo de edad\": \"40-49\", \"fecha (a\\u00f1o-mes-d\\u00eda)\": \"2020-04-12\", \"casos confirmados\": 1361}, {\"index\": 2, \"Grupo de edad\": \"50-59\", \"fecha (a\\u00f1o-mes-d\\u00eda)\": \"2020-04-12\", \"casos confirmados\": 1068}, {\"index\": 3, \"Grupo de edad\": \"60-69\", \"fecha (a\\u00f1o-mes-d\\u00eda)\": \"2020-04-12\", \"casos confirmados\": 611}, {\"index\": 4, \"Grupo de edad\": \"70-79\", \"fecha (a\\u00f1o-mes-d\\u00eda)\": \"2020-04-12\", \"casos confirmados\": 343}, {\"index\": 5, \"Grupo de edad\": \">=80\", \"fecha (a\\u00f1o-mes-d\\u00eda)\": \"2020-04-12\", \"casos confirmados\": 179}, {\"index\": 0, \"Grupo de edad\": \"<=39\", \"fecha (a\\u00f1o-mes-d\\u00eda)\": \"2020-04-13\", \"casos confirmados\": 3646}, {\"index\": 1, \"Grupo de edad\": \"40-49\", \"fecha (a\\u00f1o-mes-d\\u00eda)\": \"2020-04-13\", \"casos confirmados\": 1451}, {\"index\": 2, \"Grupo de edad\": \"50-59\", \"fecha (a\\u00f1o-mes-d\\u00eda)\": \"2020-04-13\", \"casos confirmados\": 1134}, {\"index\": 3, \"Grupo de edad\": \"60-69\", \"fecha (a\\u00f1o-mes-d\\u00eda)\": \"2020-04-13\", \"casos confirmados\": 643}, {\"index\": 4, \"Grupo de edad\": \"70-79\", \"fecha (a\\u00f1o-mes-d\\u00eda)\": \"2020-04-13\", \"casos confirmados\": 351}, {\"index\": 5, \"Grupo de edad\": \">=80\", \"fecha (a\\u00f1o-mes-d\\u00eda)\": \"2020-04-13\", \"casos confirmados\": 187}, {\"index\": 0, \"Grupo de edad\": \"<=39\", \"fecha (a\\u00f1o-mes-d\\u00eda)\": \"2020-04-14\", \"casos confirmados\": 3806}, {\"index\": 1, \"Grupo de edad\": \"40-49\", \"fecha (a\\u00f1o-mes-d\\u00eda)\": \"2020-04-14\", \"casos confirmados\": 1488}, {\"index\": 2, \"Grupo de edad\": \"50-59\", \"fecha (a\\u00f1o-mes-d\\u00eda)\": \"2020-04-14\", \"casos confirmados\": 1173}, {\"index\": 3, \"Grupo de edad\": \"60-69\", \"fecha (a\\u00f1o-mes-d\\u00eda)\": \"2020-04-14\", \"casos confirmados\": 686}, {\"index\": 4, \"Grupo de edad\": \"70-79\", \"fecha (a\\u00f1o-mes-d\\u00eda)\": \"2020-04-14\", \"casos confirmados\": 366}, {\"index\": 5, \"Grupo de edad\": \">=80\", \"fecha (a\\u00f1o-mes-d\\u00eda)\": \"2020-04-14\", \"casos confirmados\": 197}, {\"index\": 0, \"Grupo de edad\": \"<=39\", \"fecha (a\\u00f1o-mes-d\\u00eda)\": \"2020-04-15\", \"casos confirmados\": 4052}, {\"index\": 1, \"Grupo de edad\": \"40-49\", \"fecha (a\\u00f1o-mes-d\\u00eda)\": \"2020-04-15\", \"casos confirmados\": 1582}, {\"index\": 2, \"Grupo de edad\": \"50-59\", \"fecha (a\\u00f1o-mes-d\\u00eda)\": \"2020-04-15\", \"casos confirmados\": 1251}, {\"index\": 3, \"Grupo de edad\": \"60-69\", \"fecha (a\\u00f1o-mes-d\\u00eda)\": \"2020-04-15\", \"casos confirmados\": 726}, {\"index\": 4, \"Grupo de edad\": \"70-79\", \"fecha (a\\u00f1o-mes-d\\u00eda)\": \"2020-04-15\", \"casos confirmados\": 396}, {\"index\": 5, \"Grupo de edad\": \">=80\", \"fecha (a\\u00f1o-mes-d\\u00eda)\": \"2020-04-15\", \"casos confirmados\": 209}, {\"index\": 0, \"Grupo de edad\": \"<=39\", \"fecha (a\\u00f1o-mes-d\\u00eda)\": \"2020-04-16\", \"casos confirmados\": 4306}, {\"index\": 1, \"Grupo de edad\": \"40-49\", \"fecha (a\\u00f1o-mes-d\\u00eda)\": \"2020-04-16\", \"casos confirmados\": 1684}, {\"index\": 2, \"Grupo de edad\": \"50-59\", \"fecha (a\\u00f1o-mes-d\\u00eda)\": \"2020-04-16\", \"casos confirmados\": 1341}, {\"index\": 3, \"Grupo de edad\": \"60-69\", \"fecha (a\\u00f1o-mes-d\\u00eda)\": \"2020-04-16\", \"casos confirmados\": 766}, {\"index\": 4, \"Grupo de edad\": \"70-79\", \"fecha (a\\u00f1o-mes-d\\u00eda)\": \"2020-04-16\", \"casos confirmados\": 422}, {\"index\": 5, \"Grupo de edad\": \">=80\", \"fecha (a\\u00f1o-mes-d\\u00eda)\": \"2020-04-16\", \"casos confirmados\": 221}, {\"index\": 0, \"Grupo de edad\": \"<=39\", \"fecha (a\\u00f1o-mes-d\\u00eda)\": \"2020-04-17\", \"casos confirmados\": 4555}, {\"index\": 1, \"Grupo de edad\": \"40-49\", \"fecha (a\\u00f1o-mes-d\\u00eda)\": \"2020-04-17\", \"casos confirmados\": 1781}, {\"index\": 2, \"Grupo de edad\": \"50-59\", \"fecha (a\\u00f1o-mes-d\\u00eda)\": \"2020-04-17\", \"casos confirmados\": 1408}, {\"index\": 3, \"Grupo de edad\": \"60-69\", \"fecha (a\\u00f1o-mes-d\\u00eda)\": \"2020-04-17\", \"casos confirmados\": 819}, {\"index\": 4, \"Grupo de edad\": \"70-79\", \"fecha (a\\u00f1o-mes-d\\u00eda)\": \"2020-04-17\", \"casos confirmados\": 451}, {\"index\": 5, \"Grupo de edad\": \">=80\", \"fecha (a\\u00f1o-mes-d\\u00eda)\": \"2020-04-17\", \"casos confirmados\": 238}, {\"index\": 0, \"Grupo de edad\": \"<=39\", \"fecha (a\\u00f1o-mes-d\\u00eda)\": \"2020-04-18\", \"casos confirmados\": 4811}, {\"index\": 1, \"Grupo de edad\": \"40-49\", \"fecha (a\\u00f1o-mes-d\\u00eda)\": \"2020-04-18\", \"casos confirmados\": 1855}, {\"index\": 2, \"Grupo de edad\": \"50-59\", \"fecha (a\\u00f1o-mes-d\\u00eda)\": \"2020-04-18\", \"casos confirmados\": 1477}, {\"index\": 3, \"Grupo de edad\": \"60-69\", \"fecha (a\\u00f1o-mes-d\\u00eda)\": \"2020-04-18\", \"casos confirmados\": 854}, {\"index\": 4, \"Grupo de edad\": \"70-79\", \"fecha (a\\u00f1o-mes-d\\u00eda)\": \"2020-04-18\", \"casos confirmados\": 480}, {\"index\": 5, \"Grupo de edad\": \">=80\", \"fecha (a\\u00f1o-mes-d\\u00eda)\": \"2020-04-18\", \"casos confirmados\": 253}, {\"index\": 0, \"Grupo de edad\": \"<=39\", \"fecha (a\\u00f1o-mes-d\\u00eda)\": \"2020-04-19\", \"casos confirmados\": 4999}, {\"index\": 1, \"Grupo de edad\": \"40-49\", \"fecha (a\\u00f1o-mes-d\\u00eda)\": \"2020-04-19\", \"casos confirmados\": 1926}, {\"index\": 2, \"Grupo de edad\": \"50-59\", \"fecha (a\\u00f1o-mes-d\\u00eda)\": \"2020-04-19\", \"casos confirmados\": 1522}, {\"index\": 3, \"Grupo de edad\": \"60-69\", \"fecha (a\\u00f1o-mes-d\\u00eda)\": \"2020-04-19\", \"casos confirmados\": 873}, {\"index\": 4, \"Grupo de edad\": \"70-79\", \"fecha (a\\u00f1o-mes-d\\u00eda)\": \"2020-04-19\", \"casos confirmados\": 497}, {\"index\": 5, \"Grupo de edad\": \">=80\", \"fecha (a\\u00f1o-mes-d\\u00eda)\": \"2020-04-19\", \"casos confirmados\": 271}, {\"index\": 0, \"Grupo de edad\": \"<=39\", \"fecha (a\\u00f1o-mes-d\\u00eda)\": \"2020-04-20\", \"casos confirmados\": 5200}, {\"index\": 1, \"Grupo de edad\": \"40-49\", \"fecha (a\\u00f1o-mes-d\\u00eda)\": \"2020-04-20\", \"casos confirmados\": 1979}, {\"index\": 2, \"Grupo de edad\": \"50-59\", \"fecha (a\\u00f1o-mes-d\\u00eda)\": \"2020-04-20\", \"casos confirmados\": 1572}, {\"index\": 3, \"Grupo de edad\": \"60-69\", \"fecha (a\\u00f1o-mes-d\\u00eda)\": \"2020-04-20\", \"casos confirmados\": 901}, {\"index\": 4, \"Grupo de edad\": \"70-79\", \"fecha (a\\u00f1o-mes-d\\u00eda)\": \"2020-04-20\", \"casos confirmados\": 515}, {\"index\": 5, \"Grupo de edad\": \">=80\", \"fecha (a\\u00f1o-mes-d\\u00eda)\": \"2020-04-20\", \"casos confirmados\": 284}, {\"index\": 0, \"Grupo de edad\": \"<=39\", \"fecha (a\\u00f1o-mes-d\\u00eda)\": \"2020-04-21\", \"casos confirmados\": 5434}, {\"index\": 1, \"Grupo de edad\": \"40-49\", \"fecha (a\\u00f1o-mes-d\\u00eda)\": \"2020-04-21\", \"casos confirmados\": 2029}, {\"index\": 2, \"Grupo de edad\": \"50-59\", \"fecha (a\\u00f1o-mes-d\\u00eda)\": \"2020-04-21\", \"casos confirmados\": 1620}, {\"index\": 3, \"Grupo de edad\": \"60-69\", \"fecha (a\\u00f1o-mes-d\\u00eda)\": \"2020-04-21\", \"casos confirmados\": 933}, {\"index\": 4, \"Grupo de edad\": \"70-79\", \"fecha (a\\u00f1o-mes-d\\u00eda)\": \"2020-04-21\", \"casos confirmados\": 528}, {\"index\": 5, \"Grupo de edad\": \">=80\", \"fecha (a\\u00f1o-mes-d\\u00eda)\": \"2020-04-21\", \"casos confirmados\": 288}, {\"index\": 0, \"Grupo de edad\": \"<=39\", \"fecha (a\\u00f1o-mes-d\\u00eda)\": \"2020-04-22\", \"casos confirmados\": 5682}, {\"index\": 1, \"Grupo de edad\": \"40-49\", \"fecha (a\\u00f1o-mes-d\\u00eda)\": \"2020-04-22\", \"casos confirmados\": 2102}, {\"index\": 2, \"Grupo de edad\": \"50-59\", \"fecha (a\\u00f1o-mes-d\\u00eda)\": \"2020-04-22\", \"casos confirmados\": 1693}, {\"index\": 3, \"Grupo de edad\": \"60-69\", \"fecha (a\\u00f1o-mes-d\\u00eda)\": \"2020-04-22\", \"casos confirmados\": 971}, {\"index\": 4, \"Grupo de edad\": \"70-79\", \"fecha (a\\u00f1o-mes-d\\u00eda)\": \"2020-04-22\", \"casos confirmados\": 544}, {\"index\": 5, \"Grupo de edad\": \">=80\", \"fecha (a\\u00f1o-mes-d\\u00eda)\": \"2020-04-22\", \"casos confirmados\": 304}, {\"index\": 0, \"Grupo de edad\": \"<=39\", \"fecha (a\\u00f1o-mes-d\\u00eda)\": \"2020-04-23\", \"casos confirmados\": 5951}, {\"index\": 1, \"Grupo de edad\": \"40-49\", \"fecha (a\\u00f1o-mes-d\\u00eda)\": \"2020-04-23\", \"casos confirmados\": 2194}, {\"index\": 2, \"Grupo de edad\": \"50-59\", \"fecha (a\\u00f1o-mes-d\\u00eda)\": \"2020-04-23\", \"casos confirmados\": 1769}, {\"index\": 3, \"Grupo de edad\": \"60-69\", \"fecha (a\\u00f1o-mes-d\\u00eda)\": \"2020-04-23\", \"casos confirmados\": 1017}, {\"index\": 4, \"Grupo de edad\": \"70-79\", \"fecha (a\\u00f1o-mes-d\\u00eda)\": \"2020-04-23\", \"casos confirmados\": 561}, {\"index\": 5, \"Grupo de edad\": \">=80\", \"fecha (a\\u00f1o-mes-d\\u00eda)\": \"2020-04-23\", \"casos confirmados\": 320}, {\"index\": 0, \"Grupo de edad\": \"<=39\", \"fecha (a\\u00f1o-mes-d\\u00eda)\": \"2020-04-24\", \"casos confirmados\": 6178}, {\"index\": 1, \"Grupo de edad\": \"40-49\", \"fecha (a\\u00f1o-mes-d\\u00eda)\": \"2020-04-24\", \"casos confirmados\": 2261}, {\"index\": 2, \"Grupo de edad\": \"50-59\", \"fecha (a\\u00f1o-mes-d\\u00eda)\": \"2020-04-24\", \"casos confirmados\": 1829}, {\"index\": 3, \"Grupo de edad\": \"60-69\", \"fecha (a\\u00f1o-mes-d\\u00eda)\": \"2020-04-24\", \"casos confirmados\": 1048}, {\"index\": 4, \"Grupo de edad\": \"70-79\", \"fecha (a\\u00f1o-mes-d\\u00eda)\": \"2020-04-24\", \"casos confirmados\": 572}, {\"index\": 5, \"Grupo de edad\": \">=80\", \"fecha (a\\u00f1o-mes-d\\u00eda)\": \"2020-04-24\", \"casos confirmados\": 326}, {\"index\": 0, \"Grupo de edad\": \"<=39\", \"fecha (a\\u00f1o-mes-d\\u00eda)\": \"2020-04-25\", \"casos confirmados\": 6495}, {\"index\": 1, \"Grupo de edad\": \"40-49\", \"fecha (a\\u00f1o-mes-d\\u00eda)\": \"2020-04-25\", \"casos confirmados\": 2357}, {\"index\": 2, \"Grupo de edad\": \"50-59\", \"fecha (a\\u00f1o-mes-d\\u00eda)\": \"2020-04-25\", \"casos confirmados\": 1913}, {\"index\": 3, \"Grupo de edad\": \"60-69\", \"fecha (a\\u00f1o-mes-d\\u00eda)\": \"2020-04-25\", \"casos confirmados\": 1083}, {\"index\": 4, \"Grupo de edad\": \"70-79\", \"fecha (a\\u00f1o-mes-d\\u00eda)\": \"2020-04-25\", \"casos confirmados\": 592}, {\"index\": 5, \"Grupo de edad\": \">=80\", \"fecha (a\\u00f1o-mes-d\\u00eda)\": \"2020-04-25\", \"casos confirmados\": 345}, {\"index\": 0, \"Grupo de edad\": \"<=39\", \"fecha (a\\u00f1o-mes-d\\u00eda)\": \"2020-04-26\", \"casos confirmados\": 6772}, {\"index\": 1, \"Grupo de edad\": \"40-49\", \"fecha (a\\u00f1o-mes-d\\u00eda)\": \"2020-04-26\", \"casos confirmados\": 2421}, {\"index\": 2, \"Grupo de edad\": \"50-59\", \"fecha (a\\u00f1o-mes-d\\u00eda)\": \"2020-04-26\", \"casos confirmados\": 1991}, {\"index\": 3, \"Grupo de edad\": \"60-69\", \"fecha (a\\u00f1o-mes-d\\u00eda)\": \"2020-04-26\", \"casos confirmados\": 1115}, {\"index\": 4, \"Grupo de edad\": \"70-79\", \"fecha (a\\u00f1o-mes-d\\u00eda)\": \"2020-04-26\", \"casos confirmados\": 616}, {\"index\": 5, \"Grupo de edad\": \">=80\", \"fecha (a\\u00f1o-mes-d\\u00eda)\": \"2020-04-26\", \"casos confirmados\": 369}, {\"index\": 0, \"Grupo de edad\": \"<=39\", \"fecha (a\\u00f1o-mes-d\\u00eda)\": \"2020-04-27\", \"casos confirmados\": 7006}, {\"index\": 1, \"Grupo de edad\": \"40-49\", \"fecha (a\\u00f1o-mes-d\\u00eda)\": \"2020-04-27\", \"casos confirmados\": 2492}, {\"index\": 2, \"Grupo de edad\": \"50-59\", \"fecha (a\\u00f1o-mes-d\\u00eda)\": \"2020-04-27\", \"casos confirmados\": 2036}, {\"index\": 3, \"Grupo de edad\": \"60-69\", \"fecha (a\\u00f1o-mes-d\\u00eda)\": \"2020-04-27\", \"casos confirmados\": 1156}, {\"index\": 4, \"Grupo de edad\": \"70-79\", \"fecha (a\\u00f1o-mes-d\\u00eda)\": \"2020-04-27\", \"casos confirmados\": 627}, {\"index\": 5, \"Grupo de edad\": \">=80\", \"fecha (a\\u00f1o-mes-d\\u00eda)\": \"2020-04-27\", \"casos confirmados\": 387}, {\"index\": 0, \"Grupo de edad\": \"<=39\", \"fecha (a\\u00f1o-mes-d\\u00eda)\": \"2020-04-28\", \"casos confirmados\": 7358}, {\"index\": 1, \"Grupo de edad\": \"40-49\", \"fecha (a\\u00f1o-mes-d\\u00eda)\": \"2020-04-28\", \"casos confirmados\": 2597}, {\"index\": 2, \"Grupo de edad\": \"50-59\", \"fecha (a\\u00f1o-mes-d\\u00eda)\": \"2020-04-28\", \"casos confirmados\": 2118}, {\"index\": 3, \"Grupo de edad\": \"60-69\", \"fecha (a\\u00f1o-mes-d\\u00eda)\": \"2020-04-28\", \"casos confirmados\": 1206}, {\"index\": 4, \"Grupo de edad\": \"70-79\", \"fecha (a\\u00f1o-mes-d\\u00eda)\": \"2020-04-28\", \"casos confirmados\": 664}, {\"index\": 5, \"Grupo de edad\": \">=80\", \"fecha (a\\u00f1o-mes-d\\u00eda)\": \"2020-04-28\", \"casos confirmados\": 419}, {\"index\": 0, \"Grupo de edad\": \"<=39\", \"fecha (a\\u00f1o-mes-d\\u00eda)\": \"2020-05-01\", \"casos confirmados\": 8841}, {\"index\": 1, \"Grupo de edad\": \"40-49\", \"fecha (a\\u00f1o-mes-d\\u00eda)\": \"2020-05-01\", \"casos confirmados\": 3038}, {\"index\": 2, \"Grupo de edad\": \"50-59\", \"fecha (a\\u00f1o-mes-d\\u00eda)\": \"2020-05-01\", \"casos confirmados\": 2507}, {\"index\": 3, \"Grupo de edad\": \"60-69\", \"fecha (a\\u00f1o-mes-d\\u00eda)\": \"2020-05-01\", \"casos confirmados\": 1387}, {\"index\": 4, \"Grupo de edad\": \"70-79\", \"fecha (a\\u00f1o-mes-d\\u00eda)\": \"2020-05-01\", \"casos confirmados\": 746}, {\"index\": 5, \"Grupo de edad\": \">=80\", \"fecha (a\\u00f1o-mes-d\\u00eda)\": \"2020-05-01\", \"casos confirmados\": 489}, {\"index\": 0, \"Grupo de edad\": \"<=39\", \"fecha (a\\u00f1o-mes-d\\u00eda)\": \"2020-05-02\", \"casos confirmados\": 9636}, {\"index\": 1, \"Grupo de edad\": \"40-49\", \"fecha (a\\u00f1o-mes-d\\u00eda)\": \"2020-05-02\", \"casos confirmados\": 3287}, {\"index\": 2, \"Grupo de edad\": \"50-59\", \"fecha (a\\u00f1o-mes-d\\u00eda)\": \"2020-05-02\", \"casos confirmados\": 2709}, {\"index\": 3, \"Grupo de edad\": \"60-69\", \"fecha (a\\u00f1o-mes-d\\u00eda)\": \"2020-05-02\", \"casos confirmados\": 1503}, {\"index\": 4, \"Grupo de edad\": \"70-79\", \"fecha (a\\u00f1o-mes-d\\u00eda)\": \"2020-05-02\", \"casos confirmados\": 787}, {\"index\": 5, \"Grupo de edad\": \">=80\", \"fecha (a\\u00f1o-mes-d\\u00eda)\": \"2020-05-02\", \"casos confirmados\": 511}, {\"index\": 0, \"Grupo de edad\": \"<=39\", \"fecha (a\\u00f1o-mes-d\\u00eda)\": \"2020-05-04\", \"casos confirmados\": 10795}, {\"index\": 1, \"Grupo de edad\": \"40-49\", \"fecha (a\\u00f1o-mes-d\\u00eda)\": \"2020-05-04\", \"casos confirmados\": 3625}, {\"index\": 2, \"Grupo de edad\": \"50-59\", \"fecha (a\\u00f1o-mes-d\\u00eda)\": \"2020-05-04\", \"casos confirmados\": 3023}, {\"index\": 3, \"Grupo de edad\": \"60-69\", \"fecha (a\\u00f1o-mes-d\\u00eda)\": \"2020-05-04\", \"casos confirmados\": 1680}, {\"index\": 4, \"Grupo de edad\": \"70-79\", \"fecha (a\\u00f1o-mes-d\\u00eda)\": \"2020-05-04\", \"casos confirmados\": 877}, {\"index\": 5, \"Grupo de edad\": \">=80\", \"fecha (a\\u00f1o-mes-d\\u00eda)\": \"2020-05-04\", \"casos confirmados\": 567}, {\"index\": 0, \"Grupo de edad\": \"<=39\", \"fecha (a\\u00f1o-mes-d\\u00eda)\": \"2020-05-06\", \"casos confirmados\": 12183}, {\"index\": 1, \"Grupo de edad\": \"40-49\", \"fecha (a\\u00f1o-mes-d\\u00eda)\": \"2020-05-06\", \"casos confirmados\": 4029}, {\"index\": 2, \"Grupo de edad\": \"50-59\", \"fecha (a\\u00f1o-mes-d\\u00eda)\": \"2020-05-06\", \"casos confirmados\": 3361}, {\"index\": 3, \"Grupo de edad\": \"60-69\", \"fecha (a\\u00f1o-mes-d\\u00eda)\": \"2020-05-06\", \"casos confirmados\": 1864}, {\"index\": 4, \"Grupo de edad\": \"70-79\", \"fecha (a\\u00f1o-mes-d\\u00eda)\": \"2020-05-06\", \"casos confirmados\": 952}, {\"index\": 5, \"Grupo de edad\": \">=80\", \"fecha (a\\u00f1o-mes-d\\u00eda)\": \"2020-05-06\", \"casos confirmados\": 622}, {\"index\": 0, \"Grupo de edad\": \"<=39\", \"fecha (a\\u00f1o-mes-d\\u00eda)\": \"2020-05-08\", \"casos confirmados\": 13750}, {\"index\": 1, \"Grupo de edad\": \"40-49\", \"fecha (a\\u00f1o-mes-d\\u00eda)\": \"2020-05-08\", \"casos confirmados\": 4556}, {\"index\": 2, \"Grupo de edad\": \"50-59\", \"fecha (a\\u00f1o-mes-d\\u00eda)\": \"2020-05-08\", \"casos confirmados\": 3768}, {\"index\": 3, \"Grupo de edad\": \"60-69\", \"fecha (a\\u00f1o-mes-d\\u00eda)\": \"2020-05-08\", \"casos confirmados\": 2138}, {\"index\": 4, \"Grupo de edad\": \"70-79\", \"fecha (a\\u00f1o-mes-d\\u00eda)\": \"2020-05-08\", \"casos confirmados\": 1052}, {\"index\": 5, \"Grupo de edad\": \">=80\", \"fecha (a\\u00f1o-mes-d\\u00eda)\": \"2020-05-08\", \"casos confirmados\": 688}, {\"index\": 0, \"Grupo de edad\": \"<=39\", \"fecha (a\\u00f1o-mes-d\\u00eda)\": \"2020-05-11\", \"casos confirmados\": 16047}, {\"index\": 1, \"Grupo de edad\": \"40-49\", \"fecha (a\\u00f1o-mes-d\\u00eda)\": \"2020-05-11\", \"casos confirmados\": 5219}, {\"index\": 2, \"Grupo de edad\": \"50-59\", \"fecha (a\\u00f1o-mes-d\\u00eda)\": \"2020-05-11\", \"casos confirmados\": 4314}, {\"index\": 3, \"Grupo de edad\": \"60-69\", \"fecha (a\\u00f1o-mes-d\\u00eda)\": \"2020-05-11\", \"casos confirmados\": 2470}, {\"index\": 4, \"Grupo de edad\": \"70-79\", \"fecha (a\\u00f1o-mes-d\\u00eda)\": \"2020-05-11\", \"casos confirmados\": 1208}, {\"index\": 5, \"Grupo de edad\": \">=80\", \"fecha (a\\u00f1o-mes-d\\u00eda)\": \"2020-05-11\", \"casos confirmados\": 789}, {\"index\": 0, \"Grupo de edad\": \"<=39\", \"fecha (a\\u00f1o-mes-d\\u00eda)\": \"2020-05-15\", \"casos confirmados\": 21306}, {\"index\": 1, \"Grupo de edad\": \"40-49\", \"fecha (a\\u00f1o-mes-d\\u00eda)\": \"2020-05-15\", \"casos confirmados\": 6821}, {\"index\": 2, \"Grupo de edad\": \"50-59\", \"fecha (a\\u00f1o-mes-d\\u00eda)\": \"2020-05-15\", \"casos confirmados\": 5674}, {\"index\": 3, \"Grupo de edad\": \"60-69\", \"fecha (a\\u00f1o-mes-d\\u00eda)\": \"2020-05-15\", \"casos confirmados\": 3190}, {\"index\": 4, \"Grupo de edad\": \"70-79\", \"fecha (a\\u00f1o-mes-d\\u00eda)\": \"2020-05-15\", \"casos confirmados\": 1541}, {\"index\": 5, \"Grupo de edad\": \">=80\", \"fecha (a\\u00f1o-mes-d\\u00eda)\": \"2020-05-15\", \"casos confirmados\": 979}, {\"index\": 0, \"Grupo de edad\": \"<=39\", \"fecha (a\\u00f1o-mes-d\\u00eda)\": \"2020-05-18\", \"casos confirmados\": 24830}, {\"index\": 1, \"Grupo de edad\": \"40-49\", \"fecha (a\\u00f1o-mes-d\\u00eda)\": \"2020-05-18\", \"casos confirmados\": 7953}, {\"index\": 2, \"Grupo de edad\": \"50-59\", \"fecha (a\\u00f1o-mes-d\\u00eda)\": \"2020-05-18\", \"casos confirmados\": 6624}, {\"index\": 3, \"Grupo de edad\": \"60-69\", \"fecha (a\\u00f1o-mes-d\\u00eda)\": \"2020-05-18\", \"casos confirmados\": 3748}, {\"index\": 4, \"Grupo de edad\": \"70-79\", \"fecha (a\\u00f1o-mes-d\\u00eda)\": \"2020-05-18\", \"casos confirmados\": 1785}, {\"index\": 5, \"Grupo de edad\": \">=80\", \"fecha (a\\u00f1o-mes-d\\u00eda)\": \"2020-05-18\", \"casos confirmados\": 1108}, {\"index\": 0, \"Grupo de edad\": \"<=39\", \"fecha (a\\u00f1o-mes-d\\u00eda)\": \"2020-05-22\", \"casos confirmados\": 33248}, {\"index\": 1, \"Grupo de edad\": \"40-49\", \"fecha (a\\u00f1o-mes-d\\u00eda)\": \"2020-05-22\", \"casos confirmados\": 10674}, {\"index\": 2, \"Grupo de edad\": \"50-59\", \"fecha (a\\u00f1o-mes-d\\u00eda)\": \"2020-05-22\", \"casos confirmados\": 9078}, {\"index\": 3, \"Grupo de edad\": \"60-69\", \"fecha (a\\u00f1o-mes-d\\u00eda)\": \"2020-05-22\", \"casos confirmados\": 5061}, {\"index\": 4, \"Grupo de edad\": \"70-79\", \"fecha (a\\u00f1o-mes-d\\u00eda)\": \"2020-05-22\", \"casos confirmados\": 2372}, {\"index\": 5, \"Grupo de edad\": \">=80\", \"fecha (a\\u00f1o-mes-d\\u00eda)\": \"2020-05-22\", \"casos confirmados\": 1415}, {\"index\": 0, \"Grupo de edad\": \"<=39\", \"fecha (a\\u00f1o-mes-d\\u00eda)\": \"2020-05-25\", \"casos confirmados\": 39590}, {\"index\": 1, \"Grupo de edad\": \"40-49\", \"fecha (a\\u00f1o-mes-d\\u00eda)\": \"2020-05-25\", \"casos confirmados\": 12938}, {\"index\": 2, \"Grupo de edad\": \"50-59\", \"fecha (a\\u00f1o-mes-d\\u00eda)\": \"2020-05-25\", \"casos confirmados\": 10932}, {\"index\": 3, \"Grupo de edad\": \"60-69\", \"fecha (a\\u00f1o-mes-d\\u00eda)\": \"2020-05-25\", \"casos confirmados\": 6021}, {\"index\": 4, \"Grupo de edad\": \"70-79\", \"fecha (a\\u00f1o-mes-d\\u00eda)\": \"2020-05-25\", \"casos confirmados\": 2822}, {\"index\": 5, \"Grupo de edad\": \">=80\", \"fecha (a\\u00f1o-mes-d\\u00eda)\": \"2020-05-25\", \"casos confirmados\": 1692}, {\"index\": 0, \"Grupo de edad\": \"<=39\", \"fecha (a\\u00f1o-mes-d\\u00eda)\": \"2020-05-29\", \"casos confirmados\": 48246}, {\"index\": 1, \"Grupo de edad\": \"40-49\", \"fecha (a\\u00f1o-mes-d\\u00eda)\": \"2020-05-29\", \"casos confirmados\": 15665}, {\"index\": 2, \"Grupo de edad\": \"50-59\", \"fecha (a\\u00f1o-mes-d\\u00eda)\": \"2020-05-29\", \"casos confirmados\": 13525}, {\"index\": 3, \"Grupo de edad\": \"60-69\", \"fecha (a\\u00f1o-mes-d\\u00eda)\": \"2020-05-29\", \"casos confirmados\": 7515}, {\"index\": 4, \"Grupo de edad\": \"70-79\", \"fecha (a\\u00f1o-mes-d\\u00eda)\": \"2020-05-29\", \"casos confirmados\": 3548}, {\"index\": 5, \"Grupo de edad\": \">=80\", \"fecha (a\\u00f1o-mes-d\\u00eda)\": \"2020-05-29\", \"casos confirmados\": 2135}, {\"index\": 0, \"Grupo de edad\": \"<=39\", \"fecha (a\\u00f1o-mes-d\\u00eda)\": \"2020-06-01\", \"casos confirmados\": 55579}, {\"index\": 1, \"Grupo de edad\": \"40-49\", \"fecha (a\\u00f1o-mes-d\\u00eda)\": \"2020-06-01\", \"casos confirmados\": 18150}, {\"index\": 2, \"Grupo de edad\": \"50-59\", \"fecha (a\\u00f1o-mes-d\\u00eda)\": \"2020-06-01\", \"casos confirmados\": 15817}, {\"index\": 3, \"Grupo de edad\": \"60-69\", \"fecha (a\\u00f1o-mes-d\\u00eda)\": \"2020-06-01\", \"casos confirmados\": 8836}, {\"index\": 4, \"Grupo de edad\": \"70-79\", \"fecha (a\\u00f1o-mes-d\\u00eda)\": \"2020-06-01\", \"casos confirmados\": 4249}, {\"index\": 5, \"Grupo de edad\": \">=80\", \"fecha (a\\u00f1o-mes-d\\u00eda)\": \"2020-06-01\", \"casos confirmados\": 2526}, {\"index\": 0, \"Grupo de edad\": \"<=39\", \"fecha (a\\u00f1o-mes-d\\u00eda)\": \"2020-06-05\", \"casos confirmados\": 64367}, {\"index\": 1, \"Grupo de edad\": \"40-49\", \"fecha (a\\u00f1o-mes-d\\u00eda)\": \"2020-06-05\", \"casos confirmados\": 21192}, {\"index\": 2, \"Grupo de edad\": \"50-59\", \"fecha (a\\u00f1o-mes-d\\u00eda)\": \"2020-06-05\", \"casos confirmados\": 18555}, {\"index\": 3, \"Grupo de edad\": \"60-69\", \"fecha (a\\u00f1o-mes-d\\u00eda)\": \"2020-06-05\", \"casos confirmados\": 10378}, {\"index\": 4, \"Grupo de edad\": \"70-79\", \"fecha (a\\u00f1o-mes-d\\u00eda)\": \"2020-06-05\", \"casos confirmados\": 5033}, {\"index\": 5, \"Grupo de edad\": \">=80\", \"fecha (a\\u00f1o-mes-d\\u00eda)\": \"2020-06-05\", \"casos confirmados\": 2970}, {\"index\": 0, \"Grupo de edad\": \"<=39\", \"fecha (a\\u00f1o-mes-d\\u00eda)\": \"2020-06-08\", \"casos confirmados\": 72445}, {\"index\": 1, \"Grupo de edad\": \"40-49\", \"fecha (a\\u00f1o-mes-d\\u00eda)\": \"2020-06-08\", \"casos confirmados\": 24095}, {\"index\": 2, \"Grupo de edad\": \"50-59\", \"fecha (a\\u00f1o-mes-d\\u00eda)\": \"2020-06-08\", \"casos confirmados\": 21225}, {\"index\": 3, \"Grupo de edad\": \"60-69\", \"fecha (a\\u00f1o-mes-d\\u00eda)\": \"2020-06-08\", \"casos confirmados\": 11880}, {\"index\": 4, \"Grupo de edad\": \"70-79\", \"fecha (a\\u00f1o-mes-d\\u00eda)\": \"2020-06-08\", \"casos confirmados\": 5771}, {\"index\": 5, \"Grupo de edad\": \">=80\", \"fecha (a\\u00f1o-mes-d\\u00eda)\": \"2020-06-08\", \"casos confirmados\": 3426}, {\"index\": 0, \"Grupo de edad\": \"<=39\", \"fecha (a\\u00f1o-mes-d\\u00eda)\": \"2020-06-12\", \"casos confirmados\": 83297}, {\"index\": 1, \"Grupo de edad\": \"40-49\", \"fecha (a\\u00f1o-mes-d\\u00eda)\": \"2020-06-12\", \"casos confirmados\": 27767}, {\"index\": 2, \"Grupo de edad\": \"50-59\", \"fecha (a\\u00f1o-mes-d\\u00eda)\": \"2020-06-12\", \"casos confirmados\": 24756}, {\"index\": 3, \"Grupo de edad\": \"60-69\", \"fecha (a\\u00f1o-mes-d\\u00eda)\": \"2020-06-12\", \"casos confirmados\": 14011}, {\"index\": 4, \"Grupo de edad\": \"70-79\", \"fecha (a\\u00f1o-mes-d\\u00eda)\": \"2020-06-12\", \"casos confirmados\": 6827}, {\"index\": 5, \"Grupo de edad\": \">=80\", \"fecha (a\\u00f1o-mes-d\\u00eda)\": \"2020-06-12\", \"casos confirmados\": 4182}, {\"index\": 0, \"Grupo de edad\": \"<=39\", \"fecha (a\\u00f1o-mes-d\\u00eda)\": \"2020-06-15\", \"casos confirmados\": 92142}, {\"index\": 1, \"Grupo de edad\": \"40-49\", \"fecha (a\\u00f1o-mes-d\\u00eda)\": \"2020-06-15\", \"casos confirmados\": 31008}, {\"index\": 2, \"Grupo de edad\": \"50-59\", \"fecha (a\\u00f1o-mes-d\\u00eda)\": \"2020-06-15\", \"casos confirmados\": 28049}, {\"index\": 3, \"Grupo de edad\": \"60-69\", \"fecha (a\\u00f1o-mes-d\\u00eda)\": \"2020-06-15\", \"casos confirmados\": 15780}, {\"index\": 4, \"Grupo de edad\": \"70-79\", \"fecha (a\\u00f1o-mes-d\\u00eda)\": \"2020-06-15\", \"casos confirmados\": 7737}, {\"index\": 5, \"Grupo de edad\": \">=80\", \"fecha (a\\u00f1o-mes-d\\u00eda)\": \"2020-06-15\", \"casos confirmados\": 4714}, {\"index\": 0, \"Grupo de edad\": \"<=39\", \"fecha (a\\u00f1o-mes-d\\u00eda)\": \"2020-06-19\", \"casos confirmados\": 119298}, {\"index\": 1, \"Grupo de edad\": \"40-49\", \"fecha (a\\u00f1o-mes-d\\u00eda)\": \"2020-06-19\", \"casos confirmados\": 39668}, {\"index\": 2, \"Grupo de edad\": \"50-59\", \"fecha (a\\u00f1o-mes-d\\u00eda)\": \"2020-06-19\", \"casos confirmados\": 36128}, {\"index\": 3, \"Grupo de edad\": \"60-69\", \"fecha (a\\u00f1o-mes-d\\u00eda)\": \"2020-06-19\", \"casos confirmados\": 20250}, {\"index\": 4, \"Grupo de edad\": \"70-79\", \"fecha (a\\u00f1o-mes-d\\u00eda)\": \"2020-06-19\", \"casos confirmados\": 9905}, {\"index\": 5, \"Grupo de edad\": \">=80\", \"fecha (a\\u00f1o-mes-d\\u00eda)\": \"2020-06-19\", \"casos confirmados\": 6103}, {\"index\": 0, \"Grupo de edad\": \"<=39\", \"fecha (a\\u00f1o-mes-d\\u00eda)\": \"2020-06-23\", \"casos confirmados\": 131528}, {\"index\": 1, \"Grupo de edad\": \"40-49\", \"fecha (a\\u00f1o-mes-d\\u00eda)\": \"2020-06-23\", \"casos confirmados\": 43710}, {\"index\": 2, \"Grupo de edad\": \"50-59\", \"fecha (a\\u00f1o-mes-d\\u00eda)\": \"2020-06-23\", \"casos confirmados\": 39940}, {\"index\": 3, \"Grupo de edad\": \"60-69\", \"fecha (a\\u00f1o-mes-d\\u00eda)\": \"2020-06-23\", \"casos confirmados\": 22457}, {\"index\": 4, \"Grupo de edad\": \"70-79\", \"fecha (a\\u00f1o-mes-d\\u00eda)\": \"2020-06-23\", \"casos confirmados\": 10922}, {\"index\": 5, \"Grupo de edad\": \">=80\", \"fecha (a\\u00f1o-mes-d\\u00eda)\": \"2020-06-23\", \"casos confirmados\": 6804}, {\"index\": 0, \"Grupo de edad\": \"<=39\", \"fecha (a\\u00f1o-mes-d\\u00eda)\": \"2020-06-28\", \"casos confirmados\": 144968}, {\"index\": 1, \"Grupo de edad\": \"40-49\", \"fecha (a\\u00f1o-mes-d\\u00eda)\": \"2020-06-28\", \"casos confirmados\": 48112}, {\"index\": 2, \"Grupo de edad\": \"50-59\", \"fecha (a\\u00f1o-mes-d\\u00eda)\": \"2020-06-28\", \"casos confirmados\": 43958}, {\"index\": 3, \"Grupo de edad\": \"60-69\", \"fecha (a\\u00f1o-mes-d\\u00eda)\": \"2020-06-28\", \"casos confirmados\": 24809}, {\"index\": 4, \"Grupo de edad\": \"70-79\", \"fecha (a\\u00f1o-mes-d\\u00eda)\": \"2020-06-28\", \"casos confirmados\": 12067}, {\"index\": 5, \"Grupo de edad\": \">=80\", \"fecha (a\\u00f1o-mes-d\\u00eda)\": \"2020-06-28\", \"casos confirmados\": 7544}, {\"index\": 0, \"Grupo de edad\": \"<=39\", \"fecha (a\\u00f1o-mes-d\\u00eda)\": \"2020-07-01\", \"casos confirmados\": 150348}, {\"index\": 1, \"Grupo de edad\": \"40-49\", \"fecha (a\\u00f1o-mes-d\\u00eda)\": \"2020-07-01\", \"casos confirmados\": 49910}, {\"index\": 2, \"Grupo de edad\": \"50-59\", \"fecha (a\\u00f1o-mes-d\\u00eda)\": \"2020-07-01\", \"casos confirmados\": 45651}, {\"index\": 3, \"Grupo de edad\": \"60-69\", \"fecha (a\\u00f1o-mes-d\\u00eda)\": \"2020-07-01\", \"casos confirmados\": 25838}, {\"index\": 4, \"Grupo de edad\": \"70-79\", \"fecha (a\\u00f1o-mes-d\\u00eda)\": \"2020-07-01\", \"casos confirmados\": 12594}, {\"index\": 5, \"Grupo de edad\": \">=80\", \"fecha (a\\u00f1o-mes-d\\u00eda)\": \"2020-07-01\", \"casos confirmados\": 7847}, {\"index\": 0, \"Grupo de edad\": \"<=39\", \"fecha (a\\u00f1o-mes-d\\u00eda)\": \"2020-07-05\", \"casos confirmados\": 158970}, {\"index\": 1, \"Grupo de edad\": \"40-49\", \"fecha (a\\u00f1o-mes-d\\u00eda)\": \"2020-07-05\", \"casos confirmados\": 52793}, {\"index\": 2, \"Grupo de edad\": \"50-59\", \"fecha (a\\u00f1o-mes-d\\u00eda)\": \"2020-07-05\", \"casos confirmados\": 48431}, {\"index\": 3, \"Grupo de edad\": \"60-69\", \"fecha (a\\u00f1o-mes-d\\u00eda)\": \"2020-07-05\", \"casos confirmados\": 27482}, {\"index\": 4, \"Grupo de edad\": \"70-79\", \"fecha (a\\u00f1o-mes-d\\u00eda)\": \"2020-07-05\", \"casos confirmados\": 13360}, {\"index\": 5, \"Grupo de edad\": \">=80\", \"fecha (a\\u00f1o-mes-d\\u00eda)\": \"2020-07-05\", \"casos confirmados\": 8320}, {\"index\": 0, \"Grupo de edad\": \"<=39\", \"fecha (a\\u00f1o-mes-d\\u00eda)\": \"2020-07-10\", \"casos confirmados\": 167415}, {\"index\": 1, \"Grupo de edad\": \"40-49\", \"fecha (a\\u00f1o-mes-d\\u00eda)\": \"2020-07-10\", \"casos confirmados\": 55525}, {\"index\": 2, \"Grupo de edad\": \"50-59\", \"fecha (a\\u00f1o-mes-d\\u00eda)\": \"2020-07-10\", \"casos confirmados\": 50928}, {\"index\": 3, \"Grupo de edad\": \"60-69\", \"fecha (a\\u00f1o-mes-d\\u00eda)\": \"2020-07-10\", \"casos confirmados\": 29089}, {\"index\": 4, \"Grupo de edad\": \"70-79\", \"fecha (a\\u00f1o-mes-d\\u00eda)\": \"2020-07-10\", \"casos confirmados\": 14229}, {\"index\": 5, \"Grupo de edad\": \">=80\", \"fecha (a\\u00f1o-mes-d\\u00eda)\": \"2020-07-10\", \"casos confirmados\": 8886}, {\"index\": 0, \"Grupo de edad\": \"<=39\", \"fecha (a\\u00f1o-mes-d\\u00eda)\": \"2020-07-13\", \"casos confirmados\": 172702}, {\"index\": 1, \"Grupo de edad\": \"40-49\", \"fecha (a\\u00f1o-mes-d\\u00eda)\": \"2020-07-13\", \"casos confirmados\": 57189}, {\"index\": 2, \"Grupo de edad\": \"50-59\", \"fecha (a\\u00f1o-mes-d\\u00eda)\": \"2020-07-13\", \"casos confirmados\": 52424}, {\"index\": 3, \"Grupo de edad\": \"60-69\", \"fecha (a\\u00f1o-mes-d\\u00eda)\": \"2020-07-13\", \"casos confirmados\": 30047}, {\"index\": 4, \"Grupo de edad\": \"70-79\", \"fecha (a\\u00f1o-mes-d\\u00eda)\": \"2020-07-13\", \"casos confirmados\": 14680}, {\"index\": 5, \"Grupo de edad\": \">=80\", \"fecha (a\\u00f1o-mes-d\\u00eda)\": \"2020-07-13\", \"casos confirmados\": 9212}, {\"index\": 0, \"Grupo de edad\": \"<=39\", \"fecha (a\\u00f1o-mes-d\\u00eda)\": \"2020-07-17\", \"casos confirmados\": 177959}, {\"index\": 1, \"Grupo de edad\": \"40-49\", \"fecha (a\\u00f1o-mes-d\\u00eda)\": \"2020-07-17\", \"casos confirmados\": 58898}, {\"index\": 2, \"Grupo de edad\": \"50-59\", \"fecha (a\\u00f1o-mes-d\\u00eda)\": \"2020-07-17\", \"casos confirmados\": 53945}, {\"index\": 3, \"Grupo de edad\": \"60-69\", \"fecha (a\\u00f1o-mes-d\\u00eda)\": \"2020-07-17\", \"casos confirmados\": 30971}, {\"index\": 4, \"Grupo de edad\": \"70-79\", \"fecha (a\\u00f1o-mes-d\\u00eda)\": \"2020-07-17\", \"casos confirmados\": 15158}, {\"index\": 5, \"Grupo de edad\": \">=80\", \"fecha (a\\u00f1o-mes-d\\u00eda)\": \"2020-07-17\", \"casos confirmados\": 9555}, {\"index\": 0, \"Grupo de edad\": \"<=39\", \"fecha (a\\u00f1o-mes-d\\u00eda)\": \"2020-07-24\", \"casos confirmados\": 185563}, {\"index\": 1, \"Grupo de edad\": \"40-49\", \"fecha (a\\u00f1o-mes-d\\u00eda)\": \"2020-07-24\", \"casos confirmados\": 61402}, {\"index\": 2, \"Grupo de edad\": \"50-59\", \"fecha (a\\u00f1o-mes-d\\u00eda)\": \"2020-07-24\", \"casos confirmados\": 56321}, {\"index\": 3, \"Grupo de edad\": \"60-69\", \"fecha (a\\u00f1o-mes-d\\u00eda)\": \"2020-07-24\", \"casos confirmados\": 32496}, {\"index\": 4, \"Grupo de edad\": \"70-79\", \"fecha (a\\u00f1o-mes-d\\u00eda)\": \"2020-07-24\", \"casos confirmados\": 15970}, {\"index\": 5, \"Grupo de edad\": \">=80\", \"fecha (a\\u00f1o-mes-d\\u00eda)\": \"2020-07-24\", \"casos confirmados\": 10090}, {\"index\": 0, \"Grupo de edad\": \"<=39\", \"fecha (a\\u00f1o-mes-d\\u00eda)\": \"2020-07-27\", \"casos confirmados\": 188907}, {\"index\": 1, \"Grupo de edad\": \"40-49\", \"fecha (a\\u00f1o-mes-d\\u00eda)\": \"2020-07-27\", \"casos confirmados\": 62455}, {\"index\": 2, \"Grupo de edad\": \"50-59\", \"fecha (a\\u00f1o-mes-d\\u00eda)\": \"2020-07-27\", \"casos confirmados\": 57330}, {\"index\": 3, \"Grupo de edad\": \"60-69\", \"fecha (a\\u00f1o-mes-d\\u00eda)\": \"2020-07-27\", \"casos confirmados\": 33082}, {\"index\": 4, \"Grupo de edad\": \"70-79\", \"fecha (a\\u00f1o-mes-d\\u00eda)\": \"2020-07-27\", \"casos confirmados\": 16314}, {\"index\": 5, \"Grupo de edad\": \">=80\", \"fecha (a\\u00f1o-mes-d\\u00eda)\": \"2020-07-27\", \"casos confirmados\": 10348}, {\"index\": 0, \"Grupo de edad\": \"<=39\", \"fecha (a\\u00f1o-mes-d\\u00eda)\": \"2020-07-31\", \"casos confirmados\": 192692}, {\"index\": 1, \"Grupo de edad\": \"40-49\", \"fecha (a\\u00f1o-mes-d\\u00eda)\": \"2020-07-31\", \"casos confirmados\": 63751}, {\"index\": 2, \"Grupo de edad\": \"50-59\", \"fecha (a\\u00f1o-mes-d\\u00eda)\": \"2020-07-31\", \"casos confirmados\": 58580}, {\"index\": 3, \"Grupo de edad\": \"60-69\", \"fecha (a\\u00f1o-mes-d\\u00eda)\": \"2020-07-31\", \"casos confirmados\": 33859}, {\"index\": 4, \"Grupo de edad\": \"70-79\", \"fecha (a\\u00f1o-mes-d\\u00eda)\": \"2020-07-31\", \"casos confirmados\": 16728}, {\"index\": 5, \"Grupo de edad\": \">=80\", \"fecha (a\\u00f1o-mes-d\\u00eda)\": \"2020-07-31\", \"casos confirmados\": 10606}, {\"index\": 0, \"Grupo de edad\": \"<=39\", \"fecha (a\\u00f1o-mes-d\\u00eda)\": \"2020-08-03\", \"casos confirmados\": 195645}, {\"index\": 1, \"Grupo de edad\": \"40-49\", \"fecha (a\\u00f1o-mes-d\\u00eda)\": \"2020-08-03\", \"casos confirmados\": 64699}, {\"index\": 2, \"Grupo de edad\": \"50-59\", \"fecha (a\\u00f1o-mes-d\\u00eda)\": \"2020-08-03\", \"casos confirmados\": 59538}, {\"index\": 3, \"Grupo de edad\": \"60-69\", \"fecha (a\\u00f1o-mes-d\\u00eda)\": \"2020-08-03\", \"casos confirmados\": 34433}, {\"index\": 4, \"Grupo de edad\": \"70-79\", \"fecha (a\\u00f1o-mes-d\\u00eda)\": \"2020-08-03\", \"casos confirmados\": 17026}, {\"index\": 5, \"Grupo de edad\": \">=80\", \"fecha (a\\u00f1o-mes-d\\u00eda)\": \"2020-08-03\", \"casos confirmados\": 10774}, {\"index\": 0, \"Grupo de edad\": \"<=39\", \"fecha (a\\u00f1o-mes-d\\u00eda)\": \"2020-08-07\", \"casos confirmados\": 201153}, {\"index\": 1, \"Grupo de edad\": \"40-49\", \"fecha (a\\u00f1o-mes-d\\u00eda)\": \"2020-08-07\", \"casos confirmados\": 66248}, {\"index\": 2, \"Grupo de edad\": \"50-59\", \"fecha (a\\u00f1o-mes-d\\u00eda)\": \"2020-08-07\", \"casos confirmados\": 60883}, {\"index\": 3, \"Grupo de edad\": \"60-69\", \"fecha (a\\u00f1o-mes-d\\u00eda)\": \"2020-08-07\", \"casos confirmados\": 35260}, {\"index\": 4, \"Grupo de edad\": \"70-79\", \"fecha (a\\u00f1o-mes-d\\u00eda)\": \"2020-08-07\", \"casos confirmados\": 17448}, {\"index\": 5, \"Grupo de edad\": \">=80\", \"fecha (a\\u00f1o-mes-d\\u00eda)\": \"2020-08-07\", \"casos confirmados\": 11012}, {\"index\": 0, \"Grupo de edad\": \"<=39\", \"fecha (a\\u00f1o-mes-d\\u00eda)\": \"2020-08-10\", \"casos confirmados\": 205353}, {\"index\": 1, \"Grupo de edad\": \"40-49\", \"fecha (a\\u00f1o-mes-d\\u00eda)\": \"2020-08-10\", \"casos confirmados\": 67456}, {\"index\": 2, \"Grupo de edad\": \"50-59\", \"fecha (a\\u00f1o-mes-d\\u00eda)\": \"2020-08-10\", \"casos confirmados\": 62072}, {\"index\": 3, \"Grupo de edad\": \"60-69\", \"fecha (a\\u00f1o-mes-d\\u00eda)\": \"2020-08-10\", \"casos confirmados\": 35915}, {\"index\": 4, \"Grupo de edad\": \"70-79\", \"fecha (a\\u00f1o-mes-d\\u00eda)\": \"2020-08-10\", \"casos confirmados\": 17818}, {\"index\": 5, \"Grupo de edad\": \">=80\", \"fecha (a\\u00f1o-mes-d\\u00eda)\": \"2020-08-10\", \"casos confirmados\": 11218}, {\"index\": 0, \"Grupo de edad\": \"<=39\", \"fecha (a\\u00f1o-mes-d\\u00eda)\": \"2020-08-14\", \"casos confirmados\": 210240}, {\"index\": 1, \"Grupo de edad\": \"40-49\", \"fecha (a\\u00f1o-mes-d\\u00eda)\": \"2020-08-14\", \"casos confirmados\": 68948}, {\"index\": 2, \"Grupo de edad\": \"50-59\", \"fecha (a\\u00f1o-mes-d\\u00eda)\": \"2020-08-14\", \"casos confirmados\": 63410}, {\"index\": 3, \"Grupo de edad\": \"60-69\", \"fecha (a\\u00f1o-mes-d\\u00eda)\": \"2020-08-14\", \"casos confirmados\": 36701}, {\"index\": 4, \"Grupo de edad\": \"70-79\", \"fecha (a\\u00f1o-mes-d\\u00eda)\": \"2020-08-14\", \"casos confirmados\": 18256}, {\"index\": 5, \"Grupo de edad\": \">=80\", \"fecha (a\\u00f1o-mes-d\\u00eda)\": \"2020-08-14\", \"casos confirmados\": 11473}, {\"index\": 0, \"Grupo de edad\": \"<=39\", \"fecha (a\\u00f1o-mes-d\\u00eda)\": \"2020-08-17\", \"casos confirmados\": 213631}, {\"index\": 1, \"Grupo de edad\": \"40-49\", \"fecha (a\\u00f1o-mes-d\\u00eda)\": \"2020-08-17\", \"casos confirmados\": 69894}, {\"index\": 2, \"Grupo de edad\": \"50-59\", \"fecha (a\\u00f1o-mes-d\\u00eda)\": \"2020-08-17\", \"casos confirmados\": 64276}, {\"index\": 3, \"Grupo de edad\": \"60-69\", \"fecha (a\\u00f1o-mes-d\\u00eda)\": \"2020-08-17\", \"casos confirmados\": 37305}, {\"index\": 4, \"Grupo de edad\": \"70-79\", \"fecha (a\\u00f1o-mes-d\\u00eda)\": \"2020-08-17\", \"casos confirmados\": 18589}, {\"index\": 5, \"Grupo de edad\": \">=80\", \"fecha (a\\u00f1o-mes-d\\u00eda)\": \"2020-08-17\", \"casos confirmados\": 11670}, {\"index\": 0, \"Grupo de edad\": \"<=39\", \"fecha (a\\u00f1o-mes-d\\u00eda)\": \"2020-08-21\", \"casos confirmados\": 217687}, {\"index\": 1, \"Grupo de edad\": \"40-49\", \"fecha (a\\u00f1o-mes-d\\u00eda)\": \"2020-08-21\", \"casos confirmados\": 71090}, {\"index\": 2, \"Grupo de edad\": \"50-59\", \"fecha (a\\u00f1o-mes-d\\u00eda)\": \"2020-08-21\", \"casos confirmados\": 65395}, {\"index\": 3, \"Grupo de edad\": \"60-69\", \"fecha (a\\u00f1o-mes-d\\u00eda)\": \"2020-08-21\", \"casos confirmados\": 38026}, {\"index\": 4, \"Grupo de edad\": \"70-79\", \"fecha (a\\u00f1o-mes-d\\u00eda)\": \"2020-08-21\", \"casos confirmados\": 18922}, {\"index\": 5, \"Grupo de edad\": \">=80\", \"fecha (a\\u00f1o-mes-d\\u00eda)\": \"2020-08-21\", \"casos confirmados\": 11898}, {\"index\": 0, \"Grupo de edad\": \"<=39\", \"fecha (a\\u00f1o-mes-d\\u00eda)\": \"2020-08-24\", \"casos confirmados\": 221403}, {\"index\": 1, \"Grupo de edad\": \"40-49\", \"fecha (a\\u00f1o-mes-d\\u00eda)\": \"2020-08-24\", \"casos confirmados\": 72074}, {\"index\": 2, \"Grupo de edad\": \"50-59\", \"fecha (a\\u00f1o-mes-d\\u00eda)\": \"2020-08-24\", \"casos confirmados\": 66365}, {\"index\": 3, \"Grupo de edad\": \"60-69\", \"fecha (a\\u00f1o-mes-d\\u00eda)\": \"2020-08-24\", \"casos confirmados\": 38655}, {\"index\": 4, \"Grupo de edad\": \"70-79\", \"fecha (a\\u00f1o-mes-d\\u00eda)\": \"2020-08-24\", \"casos confirmados\": 19235}, {\"index\": 5, \"Grupo de edad\": \">=80\", \"fecha (a\\u00f1o-mes-d\\u00eda)\": \"2020-08-24\", \"casos confirmados\": 12087}, {\"index\": 0, \"Grupo de edad\": \"<=39\", \"fecha (a\\u00f1o-mes-d\\u00eda)\": \"2020-08-28\", \"casos confirmados\": 226008}, {\"index\": 1, \"Grupo de edad\": \"40-49\", \"fecha (a\\u00f1o-mes-d\\u00eda)\": \"2020-08-28\", \"casos confirmados\": 73293}, {\"index\": 2, \"Grupo de edad\": \"50-59\", \"fecha (a\\u00f1o-mes-d\\u00eda)\": \"2020-08-28\", \"casos confirmados\": 67589}, {\"index\": 3, \"Grupo de edad\": \"60-69\", \"fecha (a\\u00f1o-mes-d\\u00eda)\": \"2020-08-28\", \"casos confirmados\": 39367}, {\"index\": 4, \"Grupo de edad\": \"70-79\", \"fecha (a\\u00f1o-mes-d\\u00eda)\": \"2020-08-28\", \"casos confirmados\": 19617}, {\"index\": 5, \"Grupo de edad\": \">=80\", \"fecha (a\\u00f1o-mes-d\\u00eda)\": \"2020-08-28\", \"casos confirmados\": 12350}, {\"index\": 0, \"Grupo de edad\": \"<=39\", \"fecha (a\\u00f1o-mes-d\\u00eda)\": \"2020-08-31\", \"casos confirmados\": 229600}, {\"index\": 1, \"Grupo de edad\": \"40-49\", \"fecha (a\\u00f1o-mes-d\\u00eda)\": \"2020-08-31\", \"casos confirmados\": 74296}, {\"index\": 2, \"Grupo de edad\": \"50-59\", \"fecha (a\\u00f1o-mes-d\\u00eda)\": \"2020-08-31\", \"casos confirmados\": 68555}, {\"index\": 3, \"Grupo de edad\": \"60-69\", \"fecha (a\\u00f1o-mes-d\\u00eda)\": \"2020-08-31\", \"casos confirmados\": 40003}, {\"index\": 4, \"Grupo de edad\": \"70-79\", \"fecha (a\\u00f1o-mes-d\\u00eda)\": \"2020-08-31\", \"casos confirmados\": 19923}, {\"index\": 5, \"Grupo de edad\": \">=80\", \"fecha (a\\u00f1o-mes-d\\u00eda)\": \"2020-08-31\", \"casos confirmados\": 12544}, {\"index\": 0, \"Grupo de edad\": \"<=39\", \"fecha (a\\u00f1o-mes-d\\u00eda)\": \"2020-09-04\", \"casos confirmados\": 234217}, {\"index\": 1, \"Grupo de edad\": \"40-49\", \"fecha (a\\u00f1o-mes-d\\u00eda)\": \"2020-09-04\", \"casos confirmados\": 75614}, {\"index\": 2, \"Grupo de edad\": \"50-59\", \"fecha (a\\u00f1o-mes-d\\u00eda)\": \"2020-09-04\", \"casos confirmados\": 69721}, {\"index\": 3, \"Grupo de edad\": \"60-69\", \"fecha (a\\u00f1o-mes-d\\u00eda)\": \"2020-09-04\", \"casos confirmados\": 40752}, {\"index\": 4, \"Grupo de edad\": \"70-79\", \"fecha (a\\u00f1o-mes-d\\u00eda)\": \"2020-09-04\", \"casos confirmados\": 20312}, {\"index\": 5, \"Grupo de edad\": \">=80\", \"fecha (a\\u00f1o-mes-d\\u00eda)\": \"2020-09-04\", \"casos confirmados\": 12819}, {\"index\": 0, \"Grupo de edad\": \"<=39\", \"fecha (a\\u00f1o-mes-d\\u00eda)\": \"2020-09-07\", \"casos confirmados\": 237962}, {\"index\": 1, \"Grupo de edad\": \"40-49\", \"fecha (a\\u00f1o-mes-d\\u00eda)\": \"2020-09-07\", \"casos confirmados\": 76631}, {\"index\": 2, \"Grupo de edad\": \"50-59\", \"fecha (a\\u00f1o-mes-d\\u00eda)\": \"2020-09-07\", \"casos confirmados\": 70741}, {\"index\": 3, \"Grupo de edad\": \"60-69\", \"fecha (a\\u00f1o-mes-d\\u00eda)\": \"2020-09-07\", \"casos confirmados\": 41407}, {\"index\": 4, \"Grupo de edad\": \"70-79\", \"fecha (a\\u00f1o-mes-d\\u00eda)\": \"2020-09-07\", \"casos confirmados\": 20693}, {\"index\": 5, \"Grupo de edad\": \">=80\", \"fecha (a\\u00f1o-mes-d\\u00eda)\": \"2020-09-07\", \"casos confirmados\": 13043}, {\"index\": 0, \"Grupo de edad\": \"<=39\", \"fecha (a\\u00f1o-mes-d\\u00eda)\": \"2020-09-11\", \"casos confirmados\": 242364}, {\"index\": 1, \"Grupo de edad\": \"40-49\", \"fecha (a\\u00f1o-mes-d\\u00eda)\": \"2020-09-11\", \"casos confirmados\": 77838}, {\"index\": 2, \"Grupo de edad\": \"50-59\", \"fecha (a\\u00f1o-mes-d\\u00eda)\": \"2020-09-11\", \"casos confirmados\": 71886}, {\"index\": 3, \"Grupo de edad\": \"60-69\", \"fecha (a\\u00f1o-mes-d\\u00eda)\": \"2020-09-11\", \"casos confirmados\": 42086}, {\"index\": 4, \"Grupo de edad\": \"70-79\", \"fecha (a\\u00f1o-mes-d\\u00eda)\": \"2020-09-11\", \"casos confirmados\": 21094}, {\"index\": 5, \"Grupo de edad\": \">=80\", \"fecha (a\\u00f1o-mes-d\\u00eda)\": \"2020-09-11\", \"casos confirmados\": 13276}, {\"index\": 0, \"Grupo de edad\": \"<=39\", \"fecha (a\\u00f1o-mes-d\\u00eda)\": \"2020-09-14\", \"casos confirmados\": 246083}, {\"index\": 1, \"Grupo de edad\": \"40-49\", \"fecha (a\\u00f1o-mes-d\\u00eda)\": \"2020-09-14\", \"casos confirmados\": 78918}, {\"index\": 2, \"Grupo de edad\": \"50-59\", \"fecha (a\\u00f1o-mes-d\\u00eda)\": \"2020-09-14\", \"casos confirmados\": 72844}, {\"index\": 3, \"Grupo de edad\": \"60-69\", \"fecha (a\\u00f1o-mes-d\\u00eda)\": \"2020-09-14\", \"casos confirmados\": 42709}, {\"index\": 4, \"Grupo de edad\": \"70-79\", \"fecha (a\\u00f1o-mes-d\\u00eda)\": \"2020-09-14\", \"casos confirmados\": 21379}, {\"index\": 5, \"Grupo de edad\": \">=80\", \"fecha (a\\u00f1o-mes-d\\u00eda)\": \"2020-09-14\", \"casos confirmados\": 13473}, {\"index\": 0, \"Grupo de edad\": \"<=39\", \"fecha (a\\u00f1o-mes-d\\u00eda)\": \"2020-09-18\", \"casos confirmados\": 250285}, {\"index\": 1, \"Grupo de edad\": \"40-49\", \"fecha (a\\u00f1o-mes-d\\u00eda)\": \"2020-09-18\", \"casos confirmados\": 80044}, {\"index\": 2, \"Grupo de edad\": \"50-59\", \"fecha (a\\u00f1o-mes-d\\u00eda)\": \"2020-09-18\", \"casos confirmados\": 73958}, {\"index\": 3, \"Grupo de edad\": \"60-69\", \"fecha (a\\u00f1o-mes-d\\u00eda)\": \"2020-09-18\", \"casos confirmados\": 43419}, {\"index\": 4, \"Grupo de edad\": \"70-79\", \"fecha (a\\u00f1o-mes-d\\u00eda)\": \"2020-09-18\", \"casos confirmados\": 21745}, {\"index\": 5, \"Grupo de edad\": \">=80\", \"fecha (a\\u00f1o-mes-d\\u00eda)\": \"2020-09-18\", \"casos confirmados\": 13685}, {\"index\": 0, \"Grupo de edad\": \"<=39\", \"fecha (a\\u00f1o-mes-d\\u00eda)\": \"2020-09-21\", \"casos confirmados\": 253012}, {\"index\": 1, \"Grupo de edad\": \"40-49\", \"fecha (a\\u00f1o-mes-d\\u00eda)\": \"2020-09-21\", \"casos confirmados\": 80794}, {\"index\": 2, \"Grupo de edad\": \"50-59\", \"fecha (a\\u00f1o-mes-d\\u00eda)\": \"2020-09-21\", \"casos confirmados\": 74665}, {\"index\": 3, \"Grupo de edad\": \"60-69\", \"fecha (a\\u00f1o-mes-d\\u00eda)\": \"2020-09-21\", \"casos confirmados\": 43886}, {\"index\": 4, \"Grupo de edad\": \"70-79\", \"fecha (a\\u00f1o-mes-d\\u00eda)\": \"2020-09-21\", \"casos confirmados\": 22012}, {\"index\": 5, \"Grupo de edad\": \">=80\", \"fecha (a\\u00f1o-mes-d\\u00eda)\": \"2020-09-21\", \"casos confirmados\": 13833}, {\"index\": 0, \"Grupo de edad\": \"<=39\", \"fecha (a\\u00f1o-mes-d\\u00eda)\": \"2020-09-25\", \"casos confirmados\": 257374}, {\"index\": 1, \"Grupo de edad\": \"40-49\", \"fecha (a\\u00f1o-mes-d\\u00eda)\": \"2020-09-25\", \"casos confirmados\": 82044}, {\"index\": 2, \"Grupo de edad\": \"50-59\", \"fecha (a\\u00f1o-mes-d\\u00eda)\": \"2020-09-25\", \"casos confirmados\": 75853}, {\"index\": 3, \"Grupo de edad\": \"60-69\", \"fecha (a\\u00f1o-mes-d\\u00eda)\": \"2020-09-25\", \"casos confirmados\": 44639}, {\"index\": 4, \"Grupo de edad\": \"70-79\", \"fecha (a\\u00f1o-mes-d\\u00eda)\": \"2020-09-25\", \"casos confirmados\": 22385}, {\"index\": 5, \"Grupo de edad\": \">=80\", \"fecha (a\\u00f1o-mes-d\\u00eda)\": \"2020-09-25\", \"casos confirmados\": 14117}, {\"index\": 0, \"Grupo de edad\": \"<=39\", \"fecha (a\\u00f1o-mes-d\\u00eda)\": \"2020-09-28\", \"casos confirmados\": 261234}, {\"index\": 1, \"Grupo de edad\": \"40-49\", \"fecha (a\\u00f1o-mes-d\\u00eda)\": \"2020-09-28\", \"casos confirmados\": 83081}, {\"index\": 2, \"Grupo de edad\": \"50-59\", \"fecha (a\\u00f1o-mes-d\\u00eda)\": \"2020-09-28\", \"casos confirmados\": 76849}, {\"index\": 3, \"Grupo de edad\": \"60-69\", \"fecha (a\\u00f1o-mes-d\\u00eda)\": \"2020-09-28\", \"casos confirmados\": 45229}, {\"index\": 4, \"Grupo de edad\": \"70-79\", \"fecha (a\\u00f1o-mes-d\\u00eda)\": \"2020-09-28\", \"casos confirmados\": 22699}, {\"index\": 5, \"Grupo de edad\": \">=80\", \"fecha (a\\u00f1o-mes-d\\u00eda)\": \"2020-09-28\", \"casos confirmados\": 14303}, {\"index\": 0, \"Grupo de edad\": \"<=39\", \"fecha (a\\u00f1o-mes-d\\u00eda)\": \"2020-10-02\", \"casos confirmados\": 265800}, {\"index\": 1, \"Grupo de edad\": \"40-49\", \"fecha (a\\u00f1o-mes-d\\u00eda)\": \"2020-10-02\", \"casos confirmados\": 84347}, {\"index\": 2, \"Grupo de edad\": \"50-59\", \"fecha (a\\u00f1o-mes-d\\u00eda)\": \"2020-10-02\", \"casos confirmados\": 78034}, {\"index\": 3, \"Grupo de edad\": \"60-69\", \"fecha (a\\u00f1o-mes-d\\u00eda)\": \"2020-10-02\", \"casos confirmados\": 45988}, {\"index\": 4, \"Grupo de edad\": \"70-79\", \"fecha (a\\u00f1o-mes-d\\u00eda)\": \"2020-10-02\", \"casos confirmados\": 23070}, {\"index\": 5, \"Grupo de edad\": \">=80\", \"fecha (a\\u00f1o-mes-d\\u00eda)\": \"2020-10-02\", \"casos confirmados\": 14543}, {\"index\": 0, \"Grupo de edad\": \"<=39\", \"fecha (a\\u00f1o-mes-d\\u00eda)\": \"2020-10-05\", \"casos confirmados\": 265800}, {\"index\": 1, \"Grupo de edad\": \"40-49\", \"fecha (a\\u00f1o-mes-d\\u00eda)\": \"2020-10-05\", \"casos confirmados\": 84347}, {\"index\": 2, \"Grupo de edad\": \"50-59\", \"fecha (a\\u00f1o-mes-d\\u00eda)\": \"2020-10-05\", \"casos confirmados\": 78034}, {\"index\": 3, \"Grupo de edad\": \"60-69\", \"fecha (a\\u00f1o-mes-d\\u00eda)\": \"2020-10-05\", \"casos confirmados\": 45988}, {\"index\": 4, \"Grupo de edad\": \"70-79\", \"fecha (a\\u00f1o-mes-d\\u00eda)\": \"2020-10-05\", \"casos confirmados\": 23070}, {\"index\": 5, \"Grupo de edad\": \">=80\", \"fecha (a\\u00f1o-mes-d\\u00eda)\": \"2020-10-05\", \"casos confirmados\": 14543}, {\"index\": 0, \"Grupo de edad\": \"<=39\", \"fecha (a\\u00f1o-mes-d\\u00eda)\": \"2020-10-09\", \"casos confirmados\": 272843}, {\"index\": 1, \"Grupo de edad\": \"40-49\", \"fecha (a\\u00f1o-mes-d\\u00eda)\": \"2020-10-09\", \"casos confirmados\": 86276}, {\"index\": 2, \"Grupo de edad\": \"50-59\", \"fecha (a\\u00f1o-mes-d\\u00eda)\": \"2020-10-09\", \"casos confirmados\": 79840}, {\"index\": 3, \"Grupo de edad\": \"60-69\", \"fecha (a\\u00f1o-mes-d\\u00eda)\": \"2020-10-09\", \"casos confirmados\": 47150}, {\"index\": 4, \"Grupo de edad\": \"70-79\", \"fecha (a\\u00f1o-mes-d\\u00eda)\": \"2020-10-09\", \"casos confirmados\": 23665}, {\"index\": 5, \"Grupo de edad\": \">=80\", \"fecha (a\\u00f1o-mes-d\\u00eda)\": \"2020-10-09\", \"casos confirmados\": 15010}, {\"index\": 0, \"Grupo de edad\": \"<=39\", \"fecha (a\\u00f1o-mes-d\\u00eda)\": \"2020-10-12\", \"casos confirmados\": 276049}, {\"index\": 1, \"Grupo de edad\": \"40-49\", \"fecha (a\\u00f1o-mes-d\\u00eda)\": \"2020-10-12\", \"casos confirmados\": 87132}, {\"index\": 2, \"Grupo de edad\": \"50-59\", \"fecha (a\\u00f1o-mes-d\\u00eda)\": \"2020-10-12\", \"casos confirmados\": 80641}, {\"index\": 3, \"Grupo de edad\": \"60-69\", \"fecha (a\\u00f1o-mes-d\\u00eda)\": \"2020-10-12\", \"casos confirmados\": 47656}, {\"index\": 4, \"Grupo de edad\": \"70-79\", \"fecha (a\\u00f1o-mes-d\\u00eda)\": \"2020-10-12\", \"casos confirmados\": 23961}, {\"index\": 5, \"Grupo de edad\": \">=80\", \"fecha (a\\u00f1o-mes-d\\u00eda)\": \"2020-10-12\", \"casos confirmados\": 15152}, {\"index\": 0, \"Grupo de edad\": \"<=39\", \"fecha (a\\u00f1o-mes-d\\u00eda)\": \"2020-10-16\", \"casos confirmados\": 279468}, {\"index\": 1, \"Grupo de edad\": \"40-49\", \"fecha (a\\u00f1o-mes-d\\u00eda)\": \"2020-10-16\", \"casos confirmados\": 88098}, {\"index\": 2, \"Grupo de edad\": \"50-59\", \"fecha (a\\u00f1o-mes-d\\u00eda)\": \"2020-10-16\", \"casos confirmados\": 81551}, {\"index\": 3, \"Grupo de edad\": \"60-69\", \"fecha (a\\u00f1o-mes-d\\u00eda)\": \"2020-10-16\", \"casos confirmados\": 48170}, {\"index\": 4, \"Grupo de edad\": \"70-79\", \"fecha (a\\u00f1o-mes-d\\u00eda)\": \"2020-10-16\", \"casos confirmados\": 24243}, {\"index\": 5, \"Grupo de edad\": \">=80\", \"fecha (a\\u00f1o-mes-d\\u00eda)\": \"2020-10-16\", \"casos confirmados\": 15323}, {\"index\": 0, \"Grupo de edad\": \"<=39\", \"fecha (a\\u00f1o-mes-d\\u00eda)\": \"2020-10-19\", \"casos confirmados\": 282615}, {\"index\": 1, \"Grupo de edad\": \"40-49\", \"fecha (a\\u00f1o-mes-d\\u00eda)\": \"2020-10-19\", \"casos confirmados\": 89018}, {\"index\": 2, \"Grupo de edad\": \"50-59\", \"fecha (a\\u00f1o-mes-d\\u00eda)\": \"2020-10-19\", \"casos confirmados\": 82341}, {\"index\": 3, \"Grupo de edad\": \"60-69\", \"fecha (a\\u00f1o-mes-d\\u00eda)\": \"2020-10-19\", \"casos confirmados\": 48711}, {\"index\": 4, \"Grupo de edad\": \"70-79\", \"fecha (a\\u00f1o-mes-d\\u00eda)\": \"2020-10-19\", \"casos confirmados\": 24558}, {\"index\": 5, \"Grupo de edad\": \">=80\", \"fecha (a\\u00f1o-mes-d\\u00eda)\": \"2020-10-19\", \"casos confirmados\": 15499}, {\"index\": 0, \"Grupo de edad\": \"<=39\", \"fecha (a\\u00f1o-mes-d\\u00eda)\": \"2020-10-24\", \"casos confirmados\": 287376}, {\"index\": 1, \"Grupo de edad\": \"40-49\", \"fecha (a\\u00f1o-mes-d\\u00eda)\": \"2020-10-24\", \"casos confirmados\": 90370}, {\"index\": 2, \"Grupo de edad\": \"50-59\", \"fecha (a\\u00f1o-mes-d\\u00eda)\": \"2020-10-24\", \"casos confirmados\": 83604}, {\"index\": 3, \"Grupo de edad\": \"60-69\", \"fecha (a\\u00f1o-mes-d\\u00eda)\": \"2020-10-24\", \"casos confirmados\": 49542}, {\"index\": 4, \"Grupo de edad\": \"70-79\", \"fecha (a\\u00f1o-mes-d\\u00eda)\": \"2020-10-24\", \"casos confirmados\": 24947}, {\"index\": 5, \"Grupo de edad\": \">=80\", \"fecha (a\\u00f1o-mes-d\\u00eda)\": \"2020-10-24\", \"casos confirmados\": 15736}, {\"index\": 0, \"Grupo de edad\": \"<=39\", \"fecha (a\\u00f1o-mes-d\\u00eda)\": \"2020-10-26\", \"casos confirmados\": 289311}, {\"index\": 1, \"Grupo de edad\": \"40-49\", \"fecha (a\\u00f1o-mes-d\\u00eda)\": \"2020-10-26\", \"casos confirmados\": 90891}, {\"index\": 2, \"Grupo de edad\": \"50-59\", \"fecha (a\\u00f1o-mes-d\\u00eda)\": \"2020-10-26\", \"casos confirmados\": 84059}, {\"index\": 3, \"Grupo de edad\": \"60-69\", \"fecha (a\\u00f1o-mes-d\\u00eda)\": \"2020-10-26\", \"casos confirmados\": 49841}, {\"index\": 4, \"Grupo de edad\": \"70-79\", \"fecha (a\\u00f1o-mes-d\\u00eda)\": \"2020-10-26\", \"casos confirmados\": 25101}, {\"index\": 5, \"Grupo de edad\": \">=80\", \"fecha (a\\u00f1o-mes-d\\u00eda)\": \"2020-10-26\", \"casos confirmados\": 15816}, {\"index\": 0, \"Grupo de edad\": \"<=39\", \"fecha (a\\u00f1o-mes-d\\u00eda)\": \"2020-10-30\", \"casos confirmados\": 292757}, {\"index\": 1, \"Grupo de edad\": \"40-49\", \"fecha (a\\u00f1o-mes-d\\u00eda)\": \"2020-10-30\", \"casos confirmados\": 91798}, {\"index\": 2, \"Grupo de edad\": \"50-59\", \"fecha (a\\u00f1o-mes-d\\u00eda)\": \"2020-10-30\", \"casos confirmados\": 84923}, {\"index\": 3, \"Grupo de edad\": \"60-69\", \"fecha (a\\u00f1o-mes-d\\u00eda)\": \"2020-10-30\", \"casos confirmados\": 50348}, {\"index\": 4, \"Grupo de edad\": \"70-79\", \"fecha (a\\u00f1o-mes-d\\u00eda)\": \"2020-10-30\", \"casos confirmados\": 25373}, {\"index\": 5, \"Grupo de edad\": \">=80\", \"fecha (a\\u00f1o-mes-d\\u00eda)\": \"2020-10-30\", \"casos confirmados\": 15953}, {\"index\": 0, \"Grupo de edad\": \"<=39\", \"fecha (a\\u00f1o-mes-d\\u00eda)\": \"2020-11-02\", \"casos confirmados\": 295632}, {\"index\": 1, \"Grupo de edad\": \"40-49\", \"fecha (a\\u00f1o-mes-d\\u00eda)\": \"2020-11-02\", \"casos confirmados\": 92590}, {\"index\": 2, \"Grupo de edad\": \"50-59\", \"fecha (a\\u00f1o-mes-d\\u00eda)\": \"2020-11-02\", \"casos confirmados\": 85673}, {\"index\": 3, \"Grupo de edad\": \"60-69\", \"fecha (a\\u00f1o-mes-d\\u00eda)\": \"2020-11-02\", \"casos confirmados\": 50837}, {\"index\": 4, \"Grupo de edad\": \"70-79\", \"fecha (a\\u00f1o-mes-d\\u00eda)\": \"2020-11-02\", \"casos confirmados\": 25649}, {\"index\": 5, \"Grupo de edad\": \">=80\", \"fecha (a\\u00f1o-mes-d\\u00eda)\": \"2020-11-02\", \"casos confirmados\": 16134}, {\"index\": 0, \"Grupo de edad\": \"<=39\", \"fecha (a\\u00f1o-mes-d\\u00eda)\": \"2020-11-06\", \"casos confirmados\": 299018}, {\"index\": 1, \"Grupo de edad\": \"40-49\", \"fecha (a\\u00f1o-mes-d\\u00eda)\": \"2020-11-06\", \"casos confirmados\": 93435}, {\"index\": 2, \"Grupo de edad\": \"50-59\", \"fecha (a\\u00f1o-mes-d\\u00eda)\": \"2020-11-06\", \"casos confirmados\": 86530}, {\"index\": 3, \"Grupo de edad\": \"60-69\", \"fecha (a\\u00f1o-mes-d\\u00eda)\": \"2020-11-06\", \"casos confirmados\": 51394}, {\"index\": 4, \"Grupo de edad\": \"70-79\", \"fecha (a\\u00f1o-mes-d\\u00eda)\": \"2020-11-06\", \"casos confirmados\": 25961}, {\"index\": 5, \"Grupo de edad\": \">=80\", \"fecha (a\\u00f1o-mes-d\\u00eda)\": \"2020-11-06\", \"casos confirmados\": 16326}, {\"index\": 0, \"Grupo de edad\": \"<=39\", \"fecha (a\\u00f1o-mes-d\\u00eda)\": \"2020-11-09\", \"casos confirmados\": 301860}, {\"index\": 1, \"Grupo de edad\": \"40-49\", \"fecha (a\\u00f1o-mes-d\\u00eda)\": \"2020-11-09\", \"casos confirmados\": 94205}, {\"index\": 2, \"Grupo de edad\": \"50-59\", \"fecha (a\\u00f1o-mes-d\\u00eda)\": \"2020-11-09\", \"casos confirmados\": 87271}, {\"index\": 3, \"Grupo de edad\": \"60-69\", \"fecha (a\\u00f1o-mes-d\\u00eda)\": \"2020-11-09\", \"casos confirmados\": 51878}, {\"index\": 4, \"Grupo de edad\": \"70-79\", \"fecha (a\\u00f1o-mes-d\\u00eda)\": \"2020-11-09\", \"casos confirmados\": 26176}, {\"index\": 5, \"Grupo de edad\": \">=80\", \"fecha (a\\u00f1o-mes-d\\u00eda)\": \"2020-11-09\", \"casos confirmados\": 16487}, {\"index\": 0, \"Grupo de edad\": \"<=39\", \"fecha (a\\u00f1o-mes-d\\u00eda)\": \"2020-11-13\", \"casos confirmados\": 305360}, {\"index\": 1, \"Grupo de edad\": \"40-49\", \"fecha (a\\u00f1o-mes-d\\u00eda)\": \"2020-11-13\", \"casos confirmados\": 95099}, {\"index\": 2, \"Grupo de edad\": \"50-59\", \"fecha (a\\u00f1o-mes-d\\u00eda)\": \"2020-11-13\", \"casos confirmados\": 88116}, {\"index\": 3, \"Grupo de edad\": \"60-69\", \"fecha (a\\u00f1o-mes-d\\u00eda)\": \"2020-11-13\", \"casos confirmados\": 52449}, {\"index\": 4, \"Grupo de edad\": \"70-79\", \"fecha (a\\u00f1o-mes-d\\u00eda)\": \"2020-11-13\", \"casos confirmados\": 26457}, {\"index\": 5, \"Grupo de edad\": \">=80\", \"fecha (a\\u00f1o-mes-d\\u00eda)\": \"2020-11-13\", \"casos confirmados\": 16669}, {\"index\": 0, \"Grupo de edad\": \"<=39\", \"fecha (a\\u00f1o-mes-d\\u00eda)\": \"2020-11-16\", \"casos confirmados\": 308243}, {\"index\": 1, \"Grupo de edad\": \"40-49\", \"fecha (a\\u00f1o-mes-d\\u00eda)\": \"2020-11-16\", \"casos confirmados\": 95860}, {\"index\": 2, \"Grupo de edad\": \"50-59\", \"fecha (a\\u00f1o-mes-d\\u00eda)\": \"2020-11-16\", \"casos confirmados\": 88870}, {\"index\": 3, \"Grupo de edad\": \"60-69\", \"fecha (a\\u00f1o-mes-d\\u00eda)\": \"2020-11-16\", \"casos confirmados\": 52903}, {\"index\": 4, \"Grupo de edad\": \"70-79\", \"fecha (a\\u00f1o-mes-d\\u00eda)\": \"2020-11-16\", \"casos confirmados\": 26707}, {\"index\": 5, \"Grupo de edad\": \">=80\", \"fecha (a\\u00f1o-mes-d\\u00eda)\": \"2020-11-16\", \"casos confirmados\": 16825}, {\"index\": 0, \"Grupo de edad\": \"<=39\", \"fecha (a\\u00f1o-mes-d\\u00eda)\": \"2020-11-20\", \"casos confirmados\": 311644}, {\"index\": 1, \"Grupo de edad\": \"40-49\", \"fecha (a\\u00f1o-mes-d\\u00eda)\": \"2020-11-20\", \"casos confirmados\": 96800}, {\"index\": 2, \"Grupo de edad\": \"50-59\", \"fecha (a\\u00f1o-mes-d\\u00eda)\": \"2020-11-20\", \"casos confirmados\": 89805}, {\"index\": 3, \"Grupo de edad\": \"60-69\", \"fecha (a\\u00f1o-mes-d\\u00eda)\": \"2020-11-20\", \"casos confirmados\": 53443}, {\"index\": 4, \"Grupo de edad\": \"70-79\", \"fecha (a\\u00f1o-mes-d\\u00eda)\": \"2020-11-20\", \"casos confirmados\": 26976}, {\"index\": 5, \"Grupo de edad\": \">=80\", \"fecha (a\\u00f1o-mes-d\\u00eda)\": \"2020-11-20\", \"casos confirmados\": 16961}, {\"index\": 0, \"Grupo de edad\": \"<=39\", \"fecha (a\\u00f1o-mes-d\\u00eda)\": \"2020-11-23\", \"casos confirmados\": 314488}, {\"index\": 1, \"Grupo de edad\": \"40-49\", \"fecha (a\\u00f1o-mes-d\\u00eda)\": \"2020-11-23\", \"casos confirmados\": 97557}, {\"index\": 2, \"Grupo de edad\": \"50-59\", \"fecha (a\\u00f1o-mes-d\\u00eda)\": \"2020-11-23\", \"casos confirmados\": 90507}, {\"index\": 3, \"Grupo de edad\": \"60-69\", \"fecha (a\\u00f1o-mes-d\\u00eda)\": \"2020-11-23\", \"casos confirmados\": 53898}, {\"index\": 4, \"Grupo de edad\": \"70-79\", \"fecha (a\\u00f1o-mes-d\\u00eda)\": \"2020-11-23\", \"casos confirmados\": 27209}, {\"index\": 5, \"Grupo de edad\": \">=80\", \"fecha (a\\u00f1o-mes-d\\u00eda)\": \"2020-11-23\", \"casos confirmados\": 17092}, {\"index\": 0, \"Grupo de edad\": \"<=39\", \"fecha (a\\u00f1o-mes-d\\u00eda)\": \"2020-11-27\", \"casos confirmados\": 317943}, {\"index\": 1, \"Grupo de edad\": \"40-49\", \"fecha (a\\u00f1o-mes-d\\u00eda)\": \"2020-11-27\", \"casos confirmados\": 98533}, {\"index\": 2, \"Grupo de edad\": \"50-59\", \"fecha (a\\u00f1o-mes-d\\u00eda)\": \"2020-11-27\", \"casos confirmados\": 91426}, {\"index\": 3, \"Grupo de edad\": \"60-69\", \"fecha (a\\u00f1o-mes-d\\u00eda)\": \"2020-11-27\", \"casos confirmados\": 54493}, {\"index\": 4, \"Grupo de edad\": \"70-79\", \"fecha (a\\u00f1o-mes-d\\u00eda)\": \"2020-11-27\", \"casos confirmados\": 27493}, {\"index\": 5, \"Grupo de edad\": \">=80\", \"fecha (a\\u00f1o-mes-d\\u00eda)\": \"2020-11-27\", \"casos confirmados\": 17228}, {\"index\": 0, \"Grupo de edad\": \"<=39\", \"fecha (a\\u00f1o-mes-d\\u00eda)\": \"2020-11-30\", \"casos confirmados\": 321286}, {\"index\": 1, \"Grupo de edad\": \"40-49\", \"fecha (a\\u00f1o-mes-d\\u00eda)\": \"2020-11-30\", \"casos confirmados\": 99491}, {\"index\": 2, \"Grupo de edad\": \"50-59\", \"fecha (a\\u00f1o-mes-d\\u00eda)\": \"2020-11-30\", \"casos confirmados\": 92306}, {\"index\": 3, \"Grupo de edad\": \"60-69\", \"fecha (a\\u00f1o-mes-d\\u00eda)\": \"2020-11-30\", \"casos confirmados\": 55025}, {\"index\": 4, \"Grupo de edad\": \"70-79\", \"fecha (a\\u00f1o-mes-d\\u00eda)\": \"2020-11-30\", \"casos confirmados\": 27724}, {\"index\": 5, \"Grupo de edad\": \">=80\", \"fecha (a\\u00f1o-mes-d\\u00eda)\": \"2020-11-30\", \"casos confirmados\": 17363}, {\"index\": 0, \"Grupo de edad\": \"<=39\", \"fecha (a\\u00f1o-mes-d\\u00eda)\": \"2020-12-04\", \"casos confirmados\": 324837}, {\"index\": 1, \"Grupo de edad\": \"40-49\", \"fecha (a\\u00f1o-mes-d\\u00eda)\": \"2020-12-04\", \"casos confirmados\": 100575}, {\"index\": 2, \"Grupo de edad\": \"50-59\", \"fecha (a\\u00f1o-mes-d\\u00eda)\": \"2020-12-04\", \"casos confirmados\": 93233}, {\"index\": 3, \"Grupo de edad\": \"60-69\", \"fecha (a\\u00f1o-mes-d\\u00eda)\": \"2020-12-04\", \"casos confirmados\": 55597}, {\"index\": 4, \"Grupo de edad\": \"70-79\", \"fecha (a\\u00f1o-mes-d\\u00eda)\": \"2020-12-04\", \"casos confirmados\": 28026}, {\"index\": 5, \"Grupo de edad\": \">=80\", \"fecha (a\\u00f1o-mes-d\\u00eda)\": \"2020-12-04\", \"casos confirmados\": 17518}, {\"index\": 0, \"Grupo de edad\": \"<=39\", \"fecha (a\\u00f1o-mes-d\\u00eda)\": \"2020-12-07\", \"casos confirmados\": 327871}, {\"index\": 1, \"Grupo de edad\": \"40-49\", \"fecha (a\\u00f1o-mes-d\\u00eda)\": \"2020-12-07\", \"casos confirmados\": 101459}, {\"index\": 2, \"Grupo de edad\": \"50-59\", \"fecha (a\\u00f1o-mes-d\\u00eda)\": \"2020-12-07\", \"casos confirmados\": 94058}, {\"index\": 3, \"Grupo de edad\": \"60-69\", \"fecha (a\\u00f1o-mes-d\\u00eda)\": \"2020-12-07\", \"casos confirmados\": 56110}, {\"index\": 4, \"Grupo de edad\": \"70-79\", \"fecha (a\\u00f1o-mes-d\\u00eda)\": \"2020-12-07\", \"casos confirmados\": 28294}, {\"index\": 5, \"Grupo de edad\": \">=80\", \"fecha (a\\u00f1o-mes-d\\u00eda)\": \"2020-12-07\", \"casos confirmados\": 17664}, {\"index\": 0, \"Grupo de edad\": \"<=39\", \"fecha (a\\u00f1o-mes-d\\u00eda)\": \"2020-12-11\", \"casos confirmados\": 331625}, {\"index\": 1, \"Grupo de edad\": \"40-49\", \"fecha (a\\u00f1o-mes-d\\u00eda)\": \"2020-12-11\", \"casos confirmados\": 102529}, {\"index\": 2, \"Grupo de edad\": \"50-59\", \"fecha (a\\u00f1o-mes-d\\u00eda)\": \"2020-12-11\", \"casos confirmados\": 95075}, {\"index\": 3, \"Grupo de edad\": \"60-69\", \"fecha (a\\u00f1o-mes-d\\u00eda)\": \"2020-12-11\", \"casos confirmados\": 56748}, {\"index\": 4, \"Grupo de edad\": \"70-79\", \"fecha (a\\u00f1o-mes-d\\u00eda)\": \"2020-12-11\", \"casos confirmados\": 28623}, {\"index\": 5, \"Grupo de edad\": \">=80\", \"fecha (a\\u00f1o-mes-d\\u00eda)\": \"2020-12-11\", \"casos confirmados\": 17828}, {\"index\": 0, \"Grupo de edad\": \"<=39\", \"fecha (a\\u00f1o-mes-d\\u00eda)\": \"2020-12-14\", \"casos confirmados\": 335390}, {\"index\": 1, \"Grupo de edad\": \"40-49\", \"fecha (a\\u00f1o-mes-d\\u00eda)\": \"2020-12-14\", \"casos confirmados\": 103606}, {\"index\": 2, \"Grupo de edad\": \"50-59\", \"fecha (a\\u00f1o-mes-d\\u00eda)\": \"2020-12-14\", \"casos confirmados\": 96070}, {\"index\": 3, \"Grupo de edad\": \"60-69\", \"fecha (a\\u00f1o-mes-d\\u00eda)\": \"2020-12-14\", \"casos confirmados\": 57309}, {\"index\": 4, \"Grupo de edad\": \"70-79\", \"fecha (a\\u00f1o-mes-d\\u00eda)\": \"2020-12-14\", \"casos confirmados\": 28987}, {\"index\": 5, \"Grupo de edad\": \">=80\", \"fecha (a\\u00f1o-mes-d\\u00eda)\": \"2020-12-14\", \"casos confirmados\": 18055}, {\"index\": 0, \"Grupo de edad\": \"<=39\", \"fecha (a\\u00f1o-mes-d\\u00eda)\": \"2020-12-18\", \"casos confirmados\": 340156}, {\"index\": 1, \"Grupo de edad\": \"40-49\", \"fecha (a\\u00f1o-mes-d\\u00eda)\": \"2020-12-18\", \"casos confirmados\": 105002}, {\"index\": 2, \"Grupo de edad\": \"50-59\", \"fecha (a\\u00f1o-mes-d\\u00eda)\": \"2020-12-18\", \"casos confirmados\": 97389}, {\"index\": 3, \"Grupo de edad\": \"60-69\", \"fecha (a\\u00f1o-mes-d\\u00eda)\": \"2020-12-18\", \"casos confirmados\": 58070}, {\"index\": 4, \"Grupo de edad\": \"70-79\", \"fecha (a\\u00f1o-mes-d\\u00eda)\": \"2020-12-18\", \"casos confirmados\": 29404}, {\"index\": 5, \"Grupo de edad\": \">=80\", \"fecha (a\\u00f1o-mes-d\\u00eda)\": \"2020-12-18\", \"casos confirmados\": 18263}, {\"index\": 0, \"Grupo de edad\": \"<=39\", \"fecha (a\\u00f1o-mes-d\\u00eda)\": \"2020-12-21\", \"casos confirmados\": 344036}, {\"index\": 1, \"Grupo de edad\": \"40-49\", \"fecha (a\\u00f1o-mes-d\\u00eda)\": \"2020-12-21\", \"casos confirmados\": 106064}, {\"index\": 2, \"Grupo de edad\": \"50-59\", \"fecha (a\\u00f1o-mes-d\\u00eda)\": \"2020-12-21\", \"casos confirmados\": 98424}, {\"index\": 3, \"Grupo de edad\": \"60-69\", \"fecha (a\\u00f1o-mes-d\\u00eda)\": \"2020-12-21\", \"casos confirmados\": 58722}, {\"index\": 4, \"Grupo de edad\": \"70-79\", \"fecha (a\\u00f1o-mes-d\\u00eda)\": \"2020-12-21\", \"casos confirmados\": 29745}, {\"index\": 5, \"Grupo de edad\": \">=80\", \"fecha (a\\u00f1o-mes-d\\u00eda)\": \"2020-12-21\", \"casos confirmados\": 18448}, {\"index\": 0, \"Grupo de edad\": \"<=39\", \"fecha (a\\u00f1o-mes-d\\u00eda)\": \"2020-12-25\", \"casos confirmados\": 349308}, {\"index\": 1, \"Grupo de edad\": \"40-49\", \"fecha (a\\u00f1o-mes-d\\u00eda)\": \"2020-12-25\", \"casos confirmados\": 107595}, {\"index\": 2, \"Grupo de edad\": \"50-59\", \"fecha (a\\u00f1o-mes-d\\u00eda)\": \"2020-12-25\", \"casos confirmados\": 99847}, {\"index\": 3, \"Grupo de edad\": \"60-69\", \"fecha (a\\u00f1o-mes-d\\u00eda)\": \"2020-12-25\", \"casos confirmados\": 59581}, {\"index\": 4, \"Grupo de edad\": \"70-79\", \"fecha (a\\u00f1o-mes-d\\u00eda)\": \"2020-12-25\", \"casos confirmados\": 30158}, {\"index\": 5, \"Grupo de edad\": \">=80\", \"fecha (a\\u00f1o-mes-d\\u00eda)\": \"2020-12-25\", \"casos confirmados\": 18666}, {\"index\": 0, \"Grupo de edad\": \"<=39\", \"fecha (a\\u00f1o-mes-d\\u00eda)\": \"2020-12-28\", \"casos confirmados\": 352861}, {\"index\": 1, \"Grupo de edad\": \"40-49\", \"fecha (a\\u00f1o-mes-d\\u00eda)\": \"2020-12-28\", \"casos confirmados\": 108589}, {\"index\": 2, \"Grupo de edad\": \"50-59\", \"fecha (a\\u00f1o-mes-d\\u00eda)\": \"2020-12-28\", \"casos confirmados\": 100817}, {\"index\": 3, \"Grupo de edad\": \"60-69\", \"fecha (a\\u00f1o-mes-d\\u00eda)\": \"2020-12-28\", \"casos confirmados\": 60249}, {\"index\": 4, \"Grupo de edad\": \"70-79\", \"fecha (a\\u00f1o-mes-d\\u00eda)\": \"2020-12-28\", \"casos confirmados\": 30451}, {\"index\": 5, \"Grupo de edad\": \">=80\", \"fecha (a\\u00f1o-mes-d\\u00eda)\": \"2020-12-28\", \"casos confirmados\": 18822}, {\"index\": 0, \"Grupo de edad\": \"<=39\", \"fecha (a\\u00f1o-mes-d\\u00eda)\": \"2021-01-01\", \"casos confirmados\": 359784}, {\"index\": 1, \"Grupo de edad\": \"40-49\", \"fecha (a\\u00f1o-mes-d\\u00eda)\": \"2021-01-01\", \"casos confirmados\": 110537}, {\"index\": 2, \"Grupo de edad\": \"50-59\", \"fecha (a\\u00f1o-mes-d\\u00eda)\": \"2021-01-01\", \"casos confirmados\": 102622}, {\"index\": 3, \"Grupo de edad\": \"60-69\", \"fecha (a\\u00f1o-mes-d\\u00eda)\": \"2021-01-01\", \"casos confirmados\": 61312}, {\"index\": 4, \"Grupo de edad\": \"70-79\", \"fecha (a\\u00f1o-mes-d\\u00eda)\": \"2021-01-01\", \"casos confirmados\": 30998}, {\"index\": 5, \"Grupo de edad\": \">=80\", \"fecha (a\\u00f1o-mes-d\\u00eda)\": \"2021-01-01\", \"casos confirmados\": 19122}, {\"index\": 0, \"Grupo de edad\": \"<=39\", \"fecha (a\\u00f1o-mes-d\\u00eda)\": \"2021-01-04\", \"casos confirmados\": 364605}, {\"index\": 1, \"Grupo de edad\": \"40-49\", \"fecha (a\\u00f1o-mes-d\\u00eda)\": \"2021-01-04\", \"casos confirmados\": 111804}, {\"index\": 2, \"Grupo de edad\": \"50-59\", \"fecha (a\\u00f1o-mes-d\\u00eda)\": \"2021-01-04\", \"casos confirmados\": 103834}, {\"index\": 3, \"Grupo de edad\": \"60-69\", \"fecha (a\\u00f1o-mes-d\\u00eda)\": \"2021-01-04\", \"casos confirmados\": 62145}, {\"index\": 4, \"Grupo de edad\": \"70-79\", \"fecha (a\\u00f1o-mes-d\\u00eda)\": \"2021-01-04\", \"casos confirmados\": 31399}, {\"index\": 5, \"Grupo de edad\": \">=80\", \"fecha (a\\u00f1o-mes-d\\u00eda)\": \"2021-01-04\", \"casos confirmados\": 19384}, {\"index\": 0, \"Grupo de edad\": \"<=39\", \"fecha (a\\u00f1o-mes-d\\u00eda)\": \"2021-01-08\", \"casos confirmados\": 373109}, {\"index\": 1, \"Grupo de edad\": \"40-49\", \"fecha (a\\u00f1o-mes-d\\u00eda)\": \"2021-01-08\", \"casos confirmados\": 114179}, {\"index\": 2, \"Grupo de edad\": \"50-59\", \"fecha (a\\u00f1o-mes-d\\u00eda)\": \"2021-01-08\", \"casos confirmados\": 106006}, {\"index\": 3, \"Grupo de edad\": \"60-69\", \"fecha (a\\u00f1o-mes-d\\u00eda)\": \"2021-01-08\", \"casos confirmados\": 63529}, {\"index\": 4, \"Grupo de edad\": \"70-79\", \"fecha (a\\u00f1o-mes-d\\u00eda)\": \"2021-01-08\", \"casos confirmados\": 32050}, {\"index\": 5, \"Grupo de edad\": \">=80\", \"fecha (a\\u00f1o-mes-d\\u00eda)\": \"2021-01-08\", \"casos confirmados\": 19726}, {\"index\": 0, \"Grupo de edad\": \"<=39\", \"fecha (a\\u00f1o-mes-d\\u00eda)\": \"2021-01-11\", \"casos confirmados\": 380932}, {\"index\": 1, \"Grupo de edad\": \"40-49\", \"fecha (a\\u00f1o-mes-d\\u00eda)\": \"2021-01-11\", \"casos confirmados\": 116304}, {\"index\": 2, \"Grupo de edad\": \"50-59\", \"fecha (a\\u00f1o-mes-d\\u00eda)\": \"2021-01-11\", \"casos confirmados\": 107968}, {\"index\": 3, \"Grupo de edad\": \"60-69\", \"fecha (a\\u00f1o-mes-d\\u00eda)\": \"2021-01-11\", \"casos confirmados\": 64735}, {\"index\": 4, \"Grupo de edad\": \"70-79\", \"fecha (a\\u00f1o-mes-d\\u00eda)\": \"2021-01-11\", \"casos confirmados\": 32691}, {\"index\": 5, \"Grupo de edad\": \">=80\", \"fecha (a\\u00f1o-mes-d\\u00eda)\": \"2021-01-11\", \"casos confirmados\": 20071}, {\"index\": 0, \"Grupo de edad\": \"<=39\", \"fecha (a\\u00f1o-mes-d\\u00eda)\": \"2021-01-15\", \"casos confirmados\": 390689}, {\"index\": 1, \"Grupo de edad\": \"40-49\", \"fecha (a\\u00f1o-mes-d\\u00eda)\": \"2021-01-15\", \"casos confirmados\": 119050}, {\"index\": 2, \"Grupo de edad\": \"50-59\", \"fecha (a\\u00f1o-mes-d\\u00eda)\": \"2021-01-15\", \"casos confirmados\": 110546}, {\"index\": 3, \"Grupo de edad\": \"60-69\", \"fecha (a\\u00f1o-mes-d\\u00eda)\": \"2021-01-15\", \"casos confirmados\": 66399}, {\"index\": 4, \"Grupo de edad\": \"70-79\", \"fecha (a\\u00f1o-mes-d\\u00eda)\": \"2021-01-15\", \"casos confirmados\": 33519}, {\"index\": 5, \"Grupo de edad\": \">=80\", \"fecha (a\\u00f1o-mes-d\\u00eda)\": \"2021-01-15\", \"casos confirmados\": 20464}, {\"index\": 0, \"Grupo de edad\": \"<=39\", \"fecha (a\\u00f1o-mes-d\\u00eda)\": \"2021-01-18\", \"casos confirmados\": 398357}, {\"index\": 1, \"Grupo de edad\": \"40-49\", \"fecha (a\\u00f1o-mes-d\\u00eda)\": \"2021-01-18\", \"casos confirmados\": 121314}, {\"index\": 2, \"Grupo de edad\": \"50-59\", \"fecha (a\\u00f1o-mes-d\\u00eda)\": \"2021-01-18\", \"casos confirmados\": 112630}, {\"index\": 3, \"Grupo de edad\": \"60-69\", \"fecha (a\\u00f1o-mes-d\\u00eda)\": \"2021-01-18\", \"casos confirmados\": 67672}, {\"index\": 4, \"Grupo de edad\": \"70-79\", \"fecha (a\\u00f1o-mes-d\\u00eda)\": \"2021-01-18\", \"casos confirmados\": 34149}, {\"index\": 5, \"Grupo de edad\": \">=80\", \"fecha (a\\u00f1o-mes-d\\u00eda)\": \"2021-01-18\", \"casos confirmados\": 20796}, {\"index\": 0, \"Grupo de edad\": \"<=39\", \"fecha (a\\u00f1o-mes-d\\u00eda)\": \"2021-01-22\", \"casos confirmados\": 408713}, {\"index\": 1, \"Grupo de edad\": \"40-49\", \"fecha (a\\u00f1o-mes-d\\u00eda)\": \"2021-01-22\", \"casos confirmados\": 124378}, {\"index\": 2, \"Grupo de edad\": \"50-59\", \"fecha (a\\u00f1o-mes-d\\u00eda)\": \"2021-01-22\", \"casos confirmados\": 115505}, {\"index\": 3, \"Grupo de edad\": \"60-69\", \"fecha (a\\u00f1o-mes-d\\u00eda)\": \"2021-01-22\", \"casos confirmados\": 69375}, {\"index\": 4, \"Grupo de edad\": \"70-79\", \"fecha (a\\u00f1o-mes-d\\u00eda)\": \"2021-01-22\", \"casos confirmados\": 34994}, {\"index\": 5, \"Grupo de edad\": \">=80\", \"fecha (a\\u00f1o-mes-d\\u00eda)\": \"2021-01-22\", \"casos confirmados\": 21222}, {\"index\": 0, \"Grupo de edad\": \"<=39\", \"fecha (a\\u00f1o-mes-d\\u00eda)\": \"2021-01-25\", \"casos confirmados\": 416637}, {\"index\": 1, \"Grupo de edad\": \"40-49\", \"fecha (a\\u00f1o-mes-d\\u00eda)\": \"2021-01-25\", \"casos confirmados\": 126655}, {\"index\": 2, \"Grupo de edad\": \"50-59\", \"fecha (a\\u00f1o-mes-d\\u00eda)\": \"2021-01-25\", \"casos confirmados\": 117590}, {\"index\": 3, \"Grupo de edad\": \"60-69\", \"fecha (a\\u00f1o-mes-d\\u00eda)\": \"2021-01-25\", \"casos confirmados\": 70706}, {\"index\": 4, \"Grupo de edad\": \"70-79\", \"fecha (a\\u00f1o-mes-d\\u00eda)\": \"2021-01-25\", \"casos confirmados\": 35702}, {\"index\": 5, \"Grupo de edad\": \">=80\", \"fecha (a\\u00f1o-mes-d\\u00eda)\": \"2021-01-25\", \"casos confirmados\": 21581}, {\"index\": 0, \"Grupo de edad\": \"<=39\", \"fecha (a\\u00f1o-mes-d\\u00eda)\": \"2021-01-29\", \"casos confirmados\": 426305}, {\"index\": 1, \"Grupo de edad\": \"40-49\", \"fecha (a\\u00f1o-mes-d\\u00eda)\": \"2021-01-29\", \"casos confirmados\": 129530}, {\"index\": 2, \"Grupo de edad\": \"50-59\", \"fecha (a\\u00f1o-mes-d\\u00eda)\": \"2021-01-29\", \"casos confirmados\": 120431}, {\"index\": 3, \"Grupo de edad\": \"60-69\", \"fecha (a\\u00f1o-mes-d\\u00eda)\": \"2021-01-29\", \"casos confirmados\": 72348}, {\"index\": 4, \"Grupo de edad\": \"70-79\", \"fecha (a\\u00f1o-mes-d\\u00eda)\": \"2021-01-29\", \"casos confirmados\": 36631}, {\"index\": 5, \"Grupo de edad\": \">=80\", \"fecha (a\\u00f1o-mes-d\\u00eda)\": \"2021-01-29\", \"casos confirmados\": 22031}, {\"index\": 0, \"Grupo de edad\": \"<=39\", \"fecha (a\\u00f1o-mes-d\\u00eda)\": \"2021-02-01\", \"casos confirmados\": 433556}, {\"index\": 1, \"Grupo de edad\": \"40-49\", \"fecha (a\\u00f1o-mes-d\\u00eda)\": \"2021-02-01\", \"casos confirmados\": 131774}, {\"index\": 2, \"Grupo de edad\": \"50-59\", \"fecha (a\\u00f1o-mes-d\\u00eda)\": \"2021-02-01\", \"casos confirmados\": 122463}, {\"index\": 3, \"Grupo de edad\": \"60-69\", \"fecha (a\\u00f1o-mes-d\\u00eda)\": \"2021-02-01\", \"casos confirmados\": 73582}, {\"index\": 4, \"Grupo de edad\": \"70-79\", \"fecha (a\\u00f1o-mes-d\\u00eda)\": \"2021-02-01\", \"casos confirmados\": 37291}, {\"index\": 5, \"Grupo de edad\": \">=80\", \"fecha (a\\u00f1o-mes-d\\u00eda)\": \"2021-02-01\", \"casos confirmados\": 22386}, {\"index\": 0, \"Grupo de edad\": \"<=39\", \"fecha (a\\u00f1o-mes-d\\u00eda)\": \"2021-02-05\", \"casos confirmados\": 441717}, {\"index\": 1, \"Grupo de edad\": \"40-49\", \"fecha (a\\u00f1o-mes-d\\u00eda)\": \"2021-02-05\", \"casos confirmados\": 134261}, {\"index\": 2, \"Grupo de edad\": \"50-59\", \"fecha (a\\u00f1o-mes-d\\u00eda)\": \"2021-02-05\", \"casos confirmados\": 124786}, {\"index\": 3, \"Grupo de edad\": \"60-69\", \"fecha (a\\u00f1o-mes-d\\u00eda)\": \"2021-02-05\", \"casos confirmados\": 75057}, {\"index\": 4, \"Grupo de edad\": \"70-79\", \"fecha (a\\u00f1o-mes-d\\u00eda)\": \"2021-02-05\", \"casos confirmados\": 38079}, {\"index\": 5, \"Grupo de edad\": \">=80\", \"fecha (a\\u00f1o-mes-d\\u00eda)\": \"2021-02-05\", \"casos confirmados\": 22826}, {\"index\": 0, \"Grupo de edad\": \"<=39\", \"fecha (a\\u00f1o-mes-d\\u00eda)\": \"2021-02-08\", \"casos confirmados\": 448190}, {\"index\": 1, \"Grupo de edad\": \"40-49\", \"fecha (a\\u00f1o-mes-d\\u00eda)\": \"2021-02-08\", \"casos confirmados\": 136214}, {\"index\": 2, \"Grupo de edad\": \"50-59\", \"fecha (a\\u00f1o-mes-d\\u00eda)\": \"2021-02-08\", \"casos confirmados\": 126609}, {\"index\": 3, \"Grupo de edad\": \"60-69\", \"fecha (a\\u00f1o-mes-d\\u00eda)\": \"2021-02-08\", \"casos confirmados\": 76268}, {\"index\": 4, \"Grupo de edad\": \"70-79\", \"fecha (a\\u00f1o-mes-d\\u00eda)\": \"2021-02-08\", \"casos confirmados\": 38681}, {\"index\": 5, \"Grupo de edad\": \">=80\", \"fecha (a\\u00f1o-mes-d\\u00eda)\": \"2021-02-08\", \"casos confirmados\": 23139}, {\"index\": 0, \"Grupo de edad\": \"<=39\", \"fecha (a\\u00f1o-mes-d\\u00eda)\": \"2021-02-12\", \"casos confirmados\": 456232}, {\"index\": 1, \"Grupo de edad\": \"40-49\", \"fecha (a\\u00f1o-mes-d\\u00eda)\": \"2021-02-12\", \"casos confirmados\": 138660}, {\"index\": 2, \"Grupo de edad\": \"50-59\", \"fecha (a\\u00f1o-mes-d\\u00eda)\": \"2021-02-12\", \"casos confirmados\": 128900}, {\"index\": 3, \"Grupo de edad\": \"60-69\", \"fecha (a\\u00f1o-mes-d\\u00eda)\": \"2021-02-12\", \"casos confirmados\": 77684}, {\"index\": 4, \"Grupo de edad\": \"70-79\", \"fecha (a\\u00f1o-mes-d\\u00eda)\": \"2021-02-12\", \"casos confirmados\": 39385}, {\"index\": 5, \"Grupo de edad\": \">=80\", \"fecha (a\\u00f1o-mes-d\\u00eda)\": \"2021-02-12\", \"casos confirmados\": 23539}, {\"index\": 0, \"Grupo de edad\": \"<=39\", \"fecha (a\\u00f1o-mes-d\\u00eda)\": \"2021-02-15\", \"casos confirmados\": 462803}, {\"index\": 1, \"Grupo de edad\": \"40-49\", \"fecha (a\\u00f1o-mes-d\\u00eda)\": \"2021-02-15\", \"casos confirmados\": 140538}, {\"index\": 2, \"Grupo de edad\": \"50-59\", \"fecha (a\\u00f1o-mes-d\\u00eda)\": \"2021-02-15\", \"casos confirmados\": 130643}, {\"index\": 3, \"Grupo de edad\": \"60-69\", \"fecha (a\\u00f1o-mes-d\\u00eda)\": \"2021-02-15\", \"casos confirmados\": 78833}, {\"index\": 4, \"Grupo de edad\": \"70-79\", \"fecha (a\\u00f1o-mes-d\\u00eda)\": \"2021-02-15\", \"casos confirmados\": 39958}, {\"index\": 5, \"Grupo de edad\": \">=80\", \"fecha (a\\u00f1o-mes-d\\u00eda)\": \"2021-02-15\", \"casos confirmados\": 23846}, {\"index\": 0, \"Grupo de edad\": \"<=39\", \"fecha (a\\u00f1o-mes-d\\u00eda)\": \"2021-02-19\", \"casos confirmados\": 470550}, {\"index\": 1, \"Grupo de edad\": \"40-49\", \"fecha (a\\u00f1o-mes-d\\u00eda)\": \"2021-02-19\", \"casos confirmados\": 142776}, {\"index\": 2, \"Grupo de edad\": \"50-59\", \"fecha (a\\u00f1o-mes-d\\u00eda)\": \"2021-02-19\", \"casos confirmados\": 132837}, {\"index\": 3, \"Grupo de edad\": \"60-69\", \"fecha (a\\u00f1o-mes-d\\u00eda)\": \"2021-02-19\", \"casos confirmados\": 80164}, {\"index\": 4, \"Grupo de edad\": \"70-79\", \"fecha (a\\u00f1o-mes-d\\u00eda)\": \"2021-02-19\", \"casos confirmados\": 40629}, {\"index\": 5, \"Grupo de edad\": \">=80\", \"fecha (a\\u00f1o-mes-d\\u00eda)\": \"2021-02-19\", \"casos confirmados\": 24202}, {\"index\": 0, \"Grupo de edad\": \"<=39\", \"fecha (a\\u00f1o-mes-d\\u00eda)\": \"2021-02-22\", \"casos confirmados\": 477149}, {\"index\": 1, \"Grupo de edad\": \"40-49\", \"fecha (a\\u00f1o-mes-d\\u00eda)\": \"2021-02-22\", \"casos confirmados\": 144672}, {\"index\": 2, \"Grupo de edad\": \"50-59\", \"fecha (a\\u00f1o-mes-d\\u00eda)\": \"2021-02-22\", \"casos confirmados\": 134625}, {\"index\": 3, \"Grupo de edad\": \"60-69\", \"fecha (a\\u00f1o-mes-d\\u00eda)\": \"2021-02-22\", \"casos confirmados\": 81280}, {\"index\": 4, \"Grupo de edad\": \"70-79\", \"fecha (a\\u00f1o-mes-d\\u00eda)\": \"2021-02-22\", \"casos confirmados\": 41177}, {\"index\": 5, \"Grupo de edad\": \">=80\", \"fecha (a\\u00f1o-mes-d\\u00eda)\": \"2021-02-22\", \"casos confirmados\": 24483}, {\"index\": 0, \"Grupo de edad\": \"<=39\", \"fecha (a\\u00f1o-mes-d\\u00eda)\": \"2021-02-26\", \"casos confirmados\": 487300}, {\"index\": 1, \"Grupo de edad\": \"40-49\", \"fecha (a\\u00f1o-mes-d\\u00eda)\": \"2021-02-26\", \"casos confirmados\": 147479}, {\"index\": 2, \"Grupo de edad\": \"50-59\", \"fecha (a\\u00f1o-mes-d\\u00eda)\": \"2021-02-26\", \"casos confirmados\": 137279}, {\"index\": 3, \"Grupo de edad\": \"60-69\", \"fecha (a\\u00f1o-mes-d\\u00eda)\": \"2021-02-26\", \"casos confirmados\": 82792}, {\"index\": 4, \"Grupo de edad\": \"70-79\", \"fecha (a\\u00f1o-mes-d\\u00eda)\": \"2021-02-26\", \"casos confirmados\": 41988}, {\"index\": 5, \"Grupo de edad\": \">=80\", \"fecha (a\\u00f1o-mes-d\\u00eda)\": \"2021-02-26\", \"casos confirmados\": 24958}, {\"index\": 0, \"Grupo de edad\": \"<=39\", \"fecha (a\\u00f1o-mes-d\\u00eda)\": \"2021-03-01\", \"casos confirmados\": 495773}, {\"index\": 1, \"Grupo de edad\": \"40-49\", \"fecha (a\\u00f1o-mes-d\\u00eda)\": \"2021-03-01\", \"casos confirmados\": 149814}, {\"index\": 2, \"Grupo de edad\": \"50-59\", \"fecha (a\\u00f1o-mes-d\\u00eda)\": \"2021-03-01\", \"casos confirmados\": 139464}, {\"index\": 3, \"Grupo de edad\": \"60-69\", \"fecha (a\\u00f1o-mes-d\\u00eda)\": \"2021-03-01\", \"casos confirmados\": 84152}, {\"index\": 4, \"Grupo de edad\": \"70-79\", \"fecha (a\\u00f1o-mes-d\\u00eda)\": \"2021-03-01\", \"casos confirmados\": 42716}, {\"index\": 5, \"Grupo de edad\": \">=80\", \"fecha (a\\u00f1o-mes-d\\u00eda)\": \"2021-03-01\", \"casos confirmados\": 25456}, {\"index\": 0, \"Grupo de edad\": \"<=39\", \"fecha (a\\u00f1o-mes-d\\u00eda)\": \"2021-03-05\", \"casos confirmados\": 507987}, {\"index\": 1, \"Grupo de edad\": \"40-49\", \"fecha (a\\u00f1o-mes-d\\u00eda)\": \"2021-03-05\", \"casos confirmados\": 153380}, {\"index\": 2, \"Grupo de edad\": \"50-59\", \"fecha (a\\u00f1o-mes-d\\u00eda)\": \"2021-03-05\", \"casos confirmados\": 142579}, {\"index\": 3, \"Grupo de edad\": \"60-69\", \"fecha (a\\u00f1o-mes-d\\u00eda)\": \"2021-03-05\", \"casos confirmados\": 86096}, {\"index\": 4, \"Grupo de edad\": \"70-79\", \"fecha (a\\u00f1o-mes-d\\u00eda)\": \"2021-03-05\", \"casos confirmados\": 43622}, {\"index\": 5, \"Grupo de edad\": \">=80\", \"fecha (a\\u00f1o-mes-d\\u00eda)\": \"2021-03-05\", \"casos confirmados\": 25986}, {\"index\": 0, \"Grupo de edad\": \"<=39\", \"fecha (a\\u00f1o-mes-d\\u00eda)\": \"2021-03-08\", \"casos confirmados\": 518123}, {\"index\": 1, \"Grupo de edad\": \"40-49\", \"fecha (a\\u00f1o-mes-d\\u00eda)\": \"2021-03-08\", \"casos confirmados\": 156170}, {\"index\": 2, \"Grupo de edad\": \"50-59\", \"fecha (a\\u00f1o-mes-d\\u00eda)\": \"2021-03-08\", \"casos confirmados\": 145175}, {\"index\": 3, \"Grupo de edad\": \"60-69\", \"fecha (a\\u00f1o-mes-d\\u00eda)\": \"2021-03-08\", \"casos confirmados\": 87622}, {\"index\": 4, \"Grupo de edad\": \"70-79\", \"fecha (a\\u00f1o-mes-d\\u00eda)\": \"2021-03-08\", \"casos confirmados\": 44450}, {\"index\": 5, \"Grupo de edad\": \">=80\", \"fecha (a\\u00f1o-mes-d\\u00eda)\": \"2021-03-08\", \"casos confirmados\": 26421}, {\"index\": 0, \"Grupo de edad\": \"<=39\", \"fecha (a\\u00f1o-mes-d\\u00eda)\": \"2021-03-12\", \"casos confirmados\": 532863}, {\"index\": 1, \"Grupo de edad\": \"40-49\", \"fecha (a\\u00f1o-mes-d\\u00eda)\": \"2021-03-12\", \"casos confirmados\": 160311}, {\"index\": 2, \"Grupo de edad\": \"50-59\", \"fecha (a\\u00f1o-mes-d\\u00eda)\": \"2021-03-12\", \"casos confirmados\": 148868}, {\"index\": 3, \"Grupo de edad\": \"60-69\", \"fecha (a\\u00f1o-mes-d\\u00eda)\": \"2021-03-12\", \"casos confirmados\": 89810}, {\"index\": 4, \"Grupo de edad\": \"70-79\", \"fecha (a\\u00f1o-mes-d\\u00eda)\": \"2021-03-12\", \"casos confirmados\": 45445}, {\"index\": 5, \"Grupo de edad\": \">=80\", \"fecha (a\\u00f1o-mes-d\\u00eda)\": \"2021-03-12\", \"casos confirmados\": 26991}, {\"index\": 0, \"Grupo de edad\": \"<=39\", \"fecha (a\\u00f1o-mes-d\\u00eda)\": \"2021-03-15\", \"casos confirmados\": 544368}, {\"index\": 1, \"Grupo de edad\": \"40-49\", \"fecha (a\\u00f1o-mes-d\\u00eda)\": \"2021-03-15\", \"casos confirmados\": 163536}, {\"index\": 2, \"Grupo de edad\": \"50-59\", \"fecha (a\\u00f1o-mes-d\\u00eda)\": \"2021-03-15\", \"casos confirmados\": 151857}, {\"index\": 3, \"Grupo de edad\": \"60-69\", \"fecha (a\\u00f1o-mes-d\\u00eda)\": \"2021-03-15\", \"casos confirmados\": 91584}, {\"index\": 4, \"Grupo de edad\": \"70-79\", \"fecha (a\\u00f1o-mes-d\\u00eda)\": \"2021-03-15\", \"casos confirmados\": 46189}, {\"index\": 5, \"Grupo de edad\": \">=80\", \"fecha (a\\u00f1o-mes-d\\u00eda)\": \"2021-03-15\", \"casos confirmados\": 27480}]}}, {\"mode\": \"vega-lite\"});\n",
       "</script>"
      ],
      "text/plain": [
       "alt.HConcatChart(...)"
      ]
     },
     "execution_count": 118,
     "metadata": {},
     "output_type": "execute_result"
    }
   ],
   "source": [
    "#hide_input\n",
    "selection2 = alt.selection_multi(fields=['Grupo de edad'], on='mouseover')\n",
    "\n",
    "color = alt.condition(selection2,\n",
    "                    alt.Color('Grupo de edad:N', scale=alt.Scale(scheme='tableau20'), legend=None),\n",
    "                    alt.value('lightgray'))\n",
    "\n",
    "bars = alt.Chart(cases).mark_area().encode(\n",
    "    x = 'fecha (año-mes-día):N',\n",
    "    y = alt.Y('casos confirmados:Q', stack=\"normalize\"),\n",
    "    color = color,\n",
    "    tooltip = ['fecha (año-mes-día)', 'Grupo de edad', 'casos confirmados'],\n",
    "    order=alt.Order(\n",
    "    # Sort the segments of the bars by this field\n",
    "    'index',\n",
    "    sort='descending'\n",
    "    )\n",
    ").add_selection(\n",
    "    selection2\n",
    ")\n",
    "\n",
    "legend = alt.Chart(cases).mark_point().encode(\n",
    "    y=alt.Y('Grupo de edad', axis=alt.Axis(orient='right'), sort=grupo_de_edad),\n",
    "    color=color\n",
    ").add_selection(\n",
    "    selection2\n",
    ")\n",
    "\n",
    "bars.properties(\n",
    "    title = 'COVID-19 en Chile: Evolución de casos confirmados por rango de edad',\n",
    "    width = 600\n",
    ") | legend"
   ]
  },
  {
   "cell_type": "markdown",
   "metadata": {
    "collapsed": true
   },
   "source": [
    "# Evolución de fallecidos confirmados por rango de edad"
   ]
  },
  {
   "cell_type": "code",
   "execution_count": 21,
   "metadata": {},
   "outputs": [
    {
     "ename": "NameError",
     "evalue": "name 'deaths_raw' is not defined",
     "output_type": "error",
     "traceback": [
      "\u001b[0;31m---------------------------------------------------------------------------\u001b[0m",
      "\u001b[0;31mNameError\u001b[0m                                 Traceback (most recent call last)",
      "\u001b[0;32m<ipython-input-21-473300728005>\u001b[0m in \u001b[0;36m<module>\u001b[0;34m\u001b[0m\n\u001b[1;32m      1\u001b[0m \u001b[0;31m#hide\u001b[0m\u001b[0;34m\u001b[0m\u001b[0;34m\u001b[0m\u001b[0;34m\u001b[0m\u001b[0m\n\u001b[0;32m----> 2\u001b[0;31m \u001b[0mdata\u001b[0m \u001b[0;34m=\u001b[0m \u001b[0mdeaths_raw\u001b[0m\u001b[0;34m.\u001b[0m\u001b[0mreset_index\u001b[0m\u001b[0;34m(\u001b[0m\u001b[0;34m)\u001b[0m\u001b[0;34m.\u001b[0m\u001b[0mmelt\u001b[0m\u001b[0;34m(\u001b[0m\u001b[0;34m[\u001b[0m\u001b[0;34m'index'\u001b[0m\u001b[0;34m,\u001b[0m \u001b[0;34m'Grupo de edad'\u001b[0m\u001b[0;34m]\u001b[0m\u001b[0;34m)\u001b[0m\u001b[0;34m\u001b[0m\u001b[0;34m\u001b[0m\u001b[0m\n\u001b[0m",
      "\u001b[0;31mNameError\u001b[0m: name 'deaths_raw' is not defined"
     ]
    }
   ],
   "source": [
    "#hide\n",
    "data = deaths_raw.reset_index().melt(['index', 'Grupo de edad'])"
   ]
  },
  {
   "cell_type": "code",
   "execution_count": null,
   "metadata": {},
   "outputs": [],
   "source": [
    "#hide\n",
    "data = data.rename(columns={'variable': \"fecha (año-mes-día)\", 'value': \"fallecidos confirmados\"})"
   ]
  },
  {
   "cell_type": "code",
   "execution_count": null,
   "metadata": {},
   "outputs": [],
   "source": [
    "#hide_input\n",
    "input_dropdown = alt.binding_select(options=data['Grupo de edad'].unique())\n",
    "selection1 = alt.selection_single(fields=['Grupo de edad'], bind=input_dropdown, name=' ')\n",
    "selection2 = alt.selection_multi(fields=['Grupo de edad'], on='mouseover')\n",
    "\n",
    "color = alt.condition(selection1 | selection2,\n",
    "                    alt.Color('Grupo de edad:N', scale=alt.Scale(scheme='tableau20'), legend=None),\n",
    "                    alt.value('lightgray'))\n",
    "\n",
    "bars = alt.Chart(data).mark_bar().encode(\n",
    "    x = 'fecha (año-mes-día):N',\n",
    "    y = 'fallecidos confirmados:Q',\n",
    "    color = color,\n",
    "    tooltip = ['fecha (año-mes-día)', 'Grupo de edad', 'fallecidos confirmados'],\n",
    "    order=alt.Order(\n",
    "    # Sort the segments of the bars by this field\n",
    "    'index',\n",
    "    sort='descending'\n",
    "    )\n",
    ").add_selection(\n",
    "    selection1, selection2\n",
    ").transform_filter(\n",
    "    selection1\n",
    ")\n",
    "\n",
    "legend = alt.Chart(data).mark_point().encode(\n",
    "    y=alt.Y('Grupo de edad', axis=alt.Axis(orient='right'), sort=grupo_de_edad),\n",
    "    color=color\n",
    ").add_selection(\n",
    "    selection1, selection2\n",
    ")\n",
    "\n",
    "bars.properties(\n",
    "    title = 'COVID-19 en Chile: Evolución de fallecidos confirmados por rango de edad',\n",
    "    width = 600\n",
    ") | legend"
   ]
  },
  {
   "cell_type": "code",
   "execution_count": null,
   "metadata": {},
   "outputs": [],
   "source": [
    "#hide_input\n",
    "selection2 = alt.selection_multi(fields=['Grupo de edad'], on='mouseover')\n",
    "\n",
    "color = alt.condition(selection2,\n",
    "                    alt.Color('Grupo de edad:N', scale=alt.Scale(scheme='tableau20'), legend=None),\n",
    "                    alt.value('lightgray'))\n",
    "\n",
    "bars = alt.Chart(data).mark_area().encode(\n",
    "    x = 'fecha (año-mes-día):N',\n",
    "    y = alt.Y('fallecidos confirmados:Q', stack=\"normalize\", sort=grupo_de_edad),\n",
    "    color = color,\n",
    "    tooltip = ['fecha (año-mes-día)', 'Grupo de edad', 'fallecidos confirmados'],\n",
    "    order=alt.Order(\n",
    "    # Sort the segments of the bars by this field\n",
    "    'index',\n",
    "    sort='descending'\n",
    "    )\n",
    ").add_selection(\n",
    "    selection2\n",
    ")\n",
    "\n",
    "legend = alt.Chart(data).mark_point().encode(\n",
    "    y=alt.Y('Grupo de edad',  axis=alt.Axis(orient='right'), sort=grupo_de_edad),\n",
    "    color=color\n",
    ").add_selection(\n",
    "    selection2\n",
    ")\n",
    "\n",
    "bars.properties(\n",
    "    title = 'COVID-19 en Chile: Evolución de fallecidos confirmados normalizados por rango de edad',\n",
    "    width = 600\n",
    ") | legend"
   ]
  },
  {
   "cell_type": "markdown",
   "metadata": {},
   "source": [
    "# Evolución de la letalidad por rango de edad"
   ]
  },
  {
   "cell_type": "code",
   "execution_count": null,
   "metadata": {},
   "outputs": [],
   "source": [
    "#hide\n",
    "deaths = deaths_raw.iloc[:5]\n",
    "deaths = deaths.append(deaths_raw.iloc[5:].sum(), ignore_index=True)\n",
    "deaths.loc[5, \"Grupo de edad\"] = \">=80\""
   ]
  },
  {
   "cell_type": "code",
   "execution_count": null,
   "metadata": {},
   "outputs": [],
   "source": [
    "#hide\n",
    "cases = pd.DataFrame()\n",
    "cases['<=39'] = cases_raw.groupby('Grupo de edad').sum().iloc[:8].sum()\n",
    "cases['40-49'] = cases_raw.groupby('Grupo de edad').sum().iloc[8:10].sum()\n",
    "cases['50-59'] = cases_raw.groupby('Grupo de edad').sum().iloc[10:12].sum()\n",
    "cases['60-69'] = cases_raw.groupby('Grupo de edad').sum().iloc[12:14].sum()\n",
    "cases['70-79'] = cases_raw.groupby('Grupo de edad').sum().iloc[14:16].sum()\n",
    "cases['>=80'] = cases_raw.groupby('Grupo de edad').sum().iloc[16:].sum()"
   ]
  },
  {
   "cell_type": "code",
   "execution_count": null,
   "metadata": {},
   "outputs": [],
   "source": [
    "#hide\n",
    "cases = cases.T.reset_index()\n",
    "cases = cases.rename(columns={'index': 'Grupo de edad'})"
   ]
  },
  {
   "cell_type": "code",
   "execution_count": null,
   "metadata": {},
   "outputs": [],
   "source": [
    "#hide\n",
    "deaths = deaths.set_index(\"Grupo de edad\").T\n",
    "cases = cases.set_index(\"Grupo de edad\").T\n",
    "letalidad = deaths.divide(cases['2020-04-09':])"
   ]
  },
  {
   "cell_type": "code",
   "execution_count": null,
   "metadata": {
    "scrolled": true
   },
   "outputs": [],
   "source": [
    "#hide\n",
    "cases.tail(3)"
   ]
  },
  {
   "cell_type": "code",
   "execution_count": null,
   "metadata": {},
   "outputs": [],
   "source": [
    "#hide\n",
    "deaths.tail(3)"
   ]
  },
  {
   "cell_type": "code",
   "execution_count": null,
   "metadata": {},
   "outputs": [],
   "source": [
    "#hide\n",
    "letalidad = letalidad.reset_index().melt(\"index\")\n",
    "letalidad = letalidad.rename(columns={\"index\": \"fecha (año-mes-día)\", \"value\": \"letalidad\"})\n",
    "letalidad = letalidad.dropna()"
   ]
  },
  {
   "cell_type": "code",
   "execution_count": null,
   "metadata": {},
   "outputs": [],
   "source": [
    "#hide\n",
    "label = alt.selection_single(\n",
    "    encodings=['x'], # limit selection to x-axis value\n",
    "    on='mouseover',  # select on mouseover events\n",
    "    nearest=True,    # select data point nearest the cursor\n",
    "    empty='none'     # empty selection includes no data points\n",
    ")\n",
    "\n",
    "input_dropdown = alt.binding_select(options=letalidad['Grupo de edad'].unique())\n",
    "selection1 = alt.selection_single(fields=['Grupo de edad'], bind=input_dropdown, name=' ')\n",
    "selection2 = alt.selection_multi(fields=['Grupo de edad'], on='mouseover')\n",
    "\n",
    "color = alt.condition(selection1 | selection2,\n",
    "                    alt.Color('Grupo de edad:N', scale=alt.Scale(scheme='tableau10'), legend=None),\n",
    "                    alt.value('lightgray'))\n",
    "\n",
    "\n",
    "base = alt.Chart(letalidad).mark_line().encode(\n",
    "    x = 'fecha (año-mes-día):N',\n",
    "    y = alt.Y('letalidad:Q', sort=['<=39', '40-49', '50-59', '60-69', '70-79', '>=80'], axis=alt.Axis(format='%')),\n",
    "    color = color,\n",
    "    tooltip = ['fecha (año-mes-día)', 'Grupo de edad', 'letalidad'],\n",
    ").add_selection(\n",
    "    label, selection1, selection2\n",
    ").transform_filter(\n",
    "    selection1\n",
    ")\n",
    "\n",
    "chart = alt.layer(\n",
    "    base, # base line chart\n",
    "    \n",
    "    # add a rule mark to serve as a guide line\n",
    "    alt.Chart().mark_rule(color='#aaa').encode(\n",
    "        x = alt.X('fecha (año-mes-día):N', axis=alt.Axis(title='fecha (año-mes-día):N'), sort=None)\n",
    "    ).transform_filter(label),\n",
    "    \n",
    "    # add circle marks for selected time points, hide unselected points\n",
    "    base.mark_circle().encode(\n",
    "        opacity=alt.condition(label, alt.value(1), alt.value(0))\n",
    "    ).add_selection(label),\n",
    "    \n",
    "    # add white stroked text to provide a legible background for labels\n",
    "    base.mark_text(align='left', dx=5, dy=-5, stroke='white', strokeWidth=2).encode(\n",
    "        text='letalidad:Q'\n",
    "    ).transform_filter(label),\n",
    "    \n",
    "    # add text labels for stock prices\n",
    "    base.mark_text(align='left', dx=5, dy=-5).encode(\n",
    "        text='letalidad:Q'\n",
    "    ).transform_filter(label),\n",
    "    \n",
    "    data=letalidad\n",
    ")\n",
    "\n",
    "legend = alt.Chart(letalidad).mark_point().encode(\n",
    "    y=alt.Y('Grupo de edad', axis=alt.Axis(orient='right'), sort=['>=80','70-79','60-69','50-59','40-49','<=39']),\n",
    "    color=color\n",
    ").add_selection(\n",
    "    selection1, selection2\n",
    ")\n",
    "\n",
    "chart.properties(\n",
    "    title = 'COVID-19 en Chile: Evolución de la letalidad por rango de edad',\n",
    "    width = 600\n",
    ") | legend"
   ]
  },
  {
   "cell_type": "code",
   "execution_count": null,
   "metadata": {},
   "outputs": [],
   "source": [
    "#hide_input\n",
    "label = alt.selection_single(\n",
    "    encodings=['x'], # limit selection to x-axis value\n",
    "    on='mouseover',  # select on mouseover events\n",
    "    nearest=True,    # select data point nearest the cursor\n",
    "    empty='none'     # empty selection includes no data points\n",
    ")\n",
    "\n",
    "base = alt.Chart(letalidad).mark_line(point=True).encode(\n",
    "    x = 'fecha (año-mes-día):N',\n",
    "    y = alt.Y('letalidad:Q', sort=['<=39', '40-49', '50-59', '60-69', '70-79', '>=80'], axis=alt.Axis(format='%')),\n",
    "    color = alt.Color('Grupo de edad:N', scale=alt.Scale(scheme='tableau10'), legend=None),\n",
    "    #tooltip = ['fecha (año-mes-día)', 'Grupo de edad', 'letalidad'],\n",
    ")\n",
    "\n",
    "legend = alt.Chart(letalidad).mark_point().encode(\n",
    "    y=alt.Y('Grupo de edad', axis=alt.Axis(orient='right'), sort=['>=80','70-79','60-69','50-59','40-49','<=39']),\n",
    "    color=alt.Color('Grupo de edad:N', scale=alt.Scale(scheme='tableau10'), legend=None)\n",
    ")\n",
    "\n",
    "alt.layer(\n",
    "    base, # base line chart\n",
    "    \n",
    "    # add a rule mark to serve as a guide line\n",
    "    alt.Chart().mark_rule(color='#aaa').encode(\n",
    "        x = alt.X('fecha (año-mes-día):N', axis=alt.Axis(title='fecha (año-mes-día)'), sort=None)\n",
    "    ).transform_filter(label),\n",
    "    \n",
    "    # add circle marks for selected time points, hide unselected points\n",
    "    base.mark_circle().encode(\n",
    "        opacity=alt.condition(label, alt.value(1), alt.value(0))\n",
    "    ).add_selection(label),\n",
    "    \n",
    "    # add white stroked text to provide a legible background for labels\n",
    "    base.mark_text(align='left', dx=5, dy=-5, stroke='white', strokeWidth=2).encode(\n",
    "        text='letalidad:Q'\n",
    "    ).transform_filter(label),\n",
    "    \n",
    "    # add text labels for stock prices\n",
    "    base.mark_text(align='left', dx=5, dy=-5).encode(\n",
    "        text='letalidad:Q'\n",
    "    ).transform_filter(label),\n",
    "    \n",
    "    data=letalidad\n",
    ").properties(\n",
    "    title = 'COVID-19 en Chile: Evolución de la letalidad por rango de edad',\n",
    "    width = 600\n",
    ") | legend\n",
    "\n",
    "# legend = alt.Chart(letalidad).mark_point().encode(\n",
    "#     y=alt.Y('Grupo de edad', axis=alt.Axis(orient='right'), sort=['>=80','70-79','60-69','50-59','40-49','<=39']),\n",
    "#     color=color\n",
    "# )\n",
    "\n",
    "# chart.properties(\n",
    "#     title = 'COVID-19 en Chile: Evolución de la letalidad por rango de edad',\n",
    "#     width = 600\n",
    "# ) | legend"
   ]
  },
  {
   "cell_type": "code",
   "execution_count": null,
   "metadata": {},
   "outputs": [],
   "source": []
  }
 ],
 "metadata": {
  "kernelspec": {
   "display_name": "Python 3",
   "language": "python",
   "name": "python3"
  },
  "language_info": {
   "codemirror_mode": {
    "name": "ipython",
    "version": 3
   },
   "file_extension": ".py",
   "mimetype": "text/x-python",
   "name": "python",
   "nbconvert_exporter": "python",
   "pygments_lexer": "ipython3",
   "version": "3.8.2"
  }
 },
 "nbformat": 4,
 "nbformat_minor": 2
}
