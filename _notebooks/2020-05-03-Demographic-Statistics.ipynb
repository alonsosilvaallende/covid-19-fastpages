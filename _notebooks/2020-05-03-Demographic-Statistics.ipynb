{
 "cells": [
  {
   "cell_type": "markdown",
   "metadata": {},
   "source": [
    "# \"DRAFT: COVID-19 en Chile: Estadísticas demográficas\"\n",
    "> Total de casos confirmados, fallecidos confirmados, pacientes en UCI por sexo y rango de edad.\n",
    "\n",
    "- toc: true \n",
    "- badges: true\n",
    "- comments: true\n",
    "- author: Alonso Silva Allende\n",
    "- categories: [jupyter]\n",
    "- image: images/diagram.png"
   ]
  },
  {
   "cell_type": "markdown",
   "metadata": {},
   "source": [
    "# Fallecidos confirmados por grupo de edad"
   ]
  },
  {
   "cell_type": "code",
   "execution_count": 1,
   "metadata": {},
   "outputs": [],
   "source": [
    "#hide\n",
    "import numpy as np\n",
    "import pandas as pd\n",
    "import altair as alt"
   ]
  },
  {
   "cell_type": "code",
   "execution_count": 2,
   "metadata": {},
   "outputs": [],
   "source": [
    "#hide\n",
    "deaths_raw = pd.read_csv(\n",
    "    'https://raw.githubusercontent.com/MinCiencia/Datos-COVID19/' + \\\n",
    "    'master/output/producto10/FallecidosEtario.csv'\n",
    ")"
   ]
  },
  {
   "cell_type": "code",
   "execution_count": 3,
   "metadata": {},
   "outputs": [
    {
     "data": {
      "text/plain": [
       "'2020-05-01'"
      ]
     },
     "execution_count": 3,
     "metadata": {},
     "output_type": "execute_result"
    }
   ],
   "source": [
    "#hide\n",
    "update_date = pd.to_datetime('today')-pd.offsets.Hour(19)\n",
    "today = update_date.strftime('%Y-%m-%d')\n",
    "today"
   ]
  },
  {
   "cell_type": "code",
   "execution_count": 4,
   "metadata": {},
   "outputs": [],
   "source": [
    "#hide\n",
    "grupo_de_edad = deaths_raw['Grupo de edad'].values"
   ]
  },
  {
   "cell_type": "code",
   "execution_count": 5,
   "metadata": {},
   "outputs": [],
   "source": [
    "#hide\n",
    "deaths = deaths_raw[['Grupo de edad', today]].copy()"
   ]
  },
  {
   "cell_type": "code",
   "execution_count": 6,
   "metadata": {},
   "outputs": [
    {
     "data": {
      "text/plain": [
       "234"
      ]
     },
     "execution_count": 6,
     "metadata": {},
     "output_type": "execute_result"
    }
   ],
   "source": [
    "#hide\n",
    "total_deaths = deaths[today].sum()\n",
    "total_deaths"
   ]
  },
  {
   "cell_type": "code",
   "execution_count": 7,
   "metadata": {},
   "outputs": [],
   "source": [
    "#hide\n",
    "deaths = deaths.rename(columns={today: \"Fallecidos confirmados\"})"
   ]
  },
  {
   "cell_type": "code",
   "execution_count": 8,
   "metadata": {
    "scrolled": false
   },
   "outputs": [],
   "source": [
    "#hide\n",
    "deaths['Porcentaje'] = np.round(100*deaths[\"Fallecidos confirmados\"]/total_deaths, decimals=1)"
   ]
  },
  {
   "cell_type": "code",
   "execution_count": 9,
   "metadata": {},
   "outputs": [],
   "source": [
    "#hide\n",
    "deaths['Texto'] = \\\n",
    "[f\"{deaths['Fallecidos confirmados'].iloc[i]} ({deaths['Porcentaje'].iloc[i]}%)\" for i, val in deaths.iterrows()]"
   ]
  },
  {
   "cell_type": "code",
   "execution_count": 10,
   "metadata": {},
   "outputs": [
    {
     "data": {
      "text/html": [
       "\n",
       "<div id=\"altair-viz-94a0ca25de5f413a9a2249cf5056094e\"></div>\n",
       "<script type=\"text/javascript\">\n",
       "  (function(spec, embedOpt){\n",
       "    let outputDiv = document.currentScript.previousElementSibling;\n",
       "    if (outputDiv.id !== \"altair-viz-94a0ca25de5f413a9a2249cf5056094e\") {\n",
       "      outputDiv = document.getElementById(\"altair-viz-94a0ca25de5f413a9a2249cf5056094e\");\n",
       "    }\n",
       "    const paths = {\n",
       "      \"vega\": \"https://cdn.jsdelivr.net/npm//vega@5?noext\",\n",
       "      \"vega-lib\": \"https://cdn.jsdelivr.net/npm//vega-lib?noext\",\n",
       "      \"vega-lite\": \"https://cdn.jsdelivr.net/npm//vega-lite@4.8.1?noext\",\n",
       "      \"vega-embed\": \"https://cdn.jsdelivr.net/npm//vega-embed@6?noext\",\n",
       "    };\n",
       "\n",
       "    function loadScript(lib) {\n",
       "      return new Promise(function(resolve, reject) {\n",
       "        var s = document.createElement('script');\n",
       "        s.src = paths[lib];\n",
       "        s.async = true;\n",
       "        s.onload = () => resolve(paths[lib]);\n",
       "        s.onerror = () => reject(`Error loading script: ${paths[lib]}`);\n",
       "        document.getElementsByTagName(\"head\")[0].appendChild(s);\n",
       "      });\n",
       "    }\n",
       "\n",
       "    function showError(err) {\n",
       "      outputDiv.innerHTML = `<div class=\"error\" style=\"color:red;\">${err}</div>`;\n",
       "      throw err;\n",
       "    }\n",
       "\n",
       "    function displayChart(vegaEmbed) {\n",
       "      vegaEmbed(outputDiv, spec, embedOpt)\n",
       "        .catch(err => showError(`Javascript Error: ${err.message}<br>This usually means there's a typo in your chart specification. See the javascript console for the full traceback.`));\n",
       "    }\n",
       "\n",
       "    if(typeof define === \"function\" && define.amd) {\n",
       "      requirejs.config({paths});\n",
       "      require([\"vega-embed\"], displayChart, err => showError(`Error loading script: ${err.message}`));\n",
       "    } else if (typeof vegaEmbed === \"function\") {\n",
       "      displayChart(vegaEmbed);\n",
       "    } else {\n",
       "      loadScript(\"vega\")\n",
       "        .then(() => loadScript(\"vega-lite\"))\n",
       "        .then(() => loadScript(\"vega-embed\"))\n",
       "        .catch(showError)\n",
       "        .then(() => displayChart(vegaEmbed));\n",
       "    }\n",
       "  })({\"config\": {\"view\": {\"continuousWidth\": 400, \"continuousHeight\": 300}}, \"layer\": [{\"mark\": {\"type\": \"bar\", \"opacity\": 0.8, \"size\": 30}, \"encoding\": {\"color\": {\"type\": \"nominal\", \"field\": \"Grupo de edad\", \"legend\": null, \"scale\": {\"scheme\": \"category10\"}}, \"order\": {\"type\": \"ordinal\", \"field\": \"index\"}, \"tooltip\": [{\"type\": \"nominal\", \"field\": \"Grupo de edad\"}, {\"type\": \"quantitative\", \"field\": \"Fallecidos confirmados\"}, {\"type\": \"quantitative\", \"field\": \"Porcentaje\"}], \"x\": {\"type\": \"quantitative\", \"field\": \"Fallecidos confirmados\"}, \"y\": {\"type\": \"nominal\", \"field\": \"Grupo de edad\", \"sort\": [\"<=39\", \"40-49\", \"50-59\", \"60-69\", \"70-79\", \"80-89\", \">=90\"]}}, \"height\": {\"step\": 40}, \"title\": \"Covid-19 en Chile: Fallecidos confirmados al 01/05/2020\", \"width\": 600}, {\"mark\": {\"type\": \"text\", \"align\": \"left\", \"baseline\": \"middle\", \"dx\": 3}, \"encoding\": {\"color\": {\"type\": \"nominal\", \"field\": \"Grupo de edad\", \"legend\": null, \"scale\": {\"scheme\": \"category10\"}}, \"order\": {\"type\": \"ordinal\", \"field\": \"index\"}, \"text\": {\"type\": \"nominal\", \"field\": \"Texto\"}, \"tooltip\": [{\"type\": \"nominal\", \"field\": \"Grupo de edad\"}, {\"type\": \"quantitative\", \"field\": \"Fallecidos confirmados\"}, {\"type\": \"quantitative\", \"field\": \"Porcentaje\"}], \"x\": {\"type\": \"quantitative\", \"field\": \"Fallecidos confirmados\"}, \"y\": {\"type\": \"nominal\", \"field\": \"Grupo de edad\", \"sort\": [\"<=39\", \"40-49\", \"50-59\", \"60-69\", \"70-79\", \"80-89\", \">=90\"]}}}], \"data\": {\"name\": \"data-4c93d3fc3a0e44b27d0b37131dfdad82\"}, \"$schema\": \"https://vega.github.io/schema/vega-lite/v4.8.1.json\", \"datasets\": {\"data-4c93d3fc3a0e44b27d0b37131dfdad82\": [{\"index\": 0, \"Grupo de edad\": \"<=39\", \"Fallecidos confirmados\": 6, \"Porcentaje\": 2.6, \"Texto\": \"6 (2.6%)\"}, {\"index\": 1, \"Grupo de edad\": \"40-49\", \"Fallecidos confirmados\": 10, \"Porcentaje\": 4.3, \"Texto\": \"10 (4.3%)\"}, {\"index\": 2, \"Grupo de edad\": \"50-59\", \"Fallecidos confirmados\": 18, \"Porcentaje\": 7.7, \"Texto\": \"18 (7.7%)\"}, {\"index\": 3, \"Grupo de edad\": \"60-69\", \"Fallecidos confirmados\": 41, \"Porcentaje\": 17.5, \"Texto\": \"41 (17.5%)\"}, {\"index\": 4, \"Grupo de edad\": \"70-79\", \"Fallecidos confirmados\": 68, \"Porcentaje\": 29.1, \"Texto\": \"68 (29.1%)\"}, {\"index\": 5, \"Grupo de edad\": \"80-89\", \"Fallecidos confirmados\": 70, \"Porcentaje\": 29.9, \"Texto\": \"70 (29.9%)\"}, {\"index\": 6, \"Grupo de edad\": \">=90\", \"Fallecidos confirmados\": 21, \"Porcentaje\": 9.0, \"Texto\": \"21 (9.0%)\"}]}}, {\"mode\": \"vega-lite\"});\n",
       "</script>"
      ],
      "text/plain": [
       "alt.LayerChart(...)"
      ]
     },
     "execution_count": 10,
     "metadata": {},
     "output_type": "execute_result"
    }
   ],
   "source": [
    "#hide_input\n",
    "bars = alt.Chart(deaths.reset_index()).mark_bar(opacity=0.8, size=30).encode(\n",
    "    x = alt.X('Fallecidos confirmados'),\n",
    "    y = alt.Y('Grupo de edad', sort=grupo_de_edad),\n",
    "    tooltip = ['Grupo de edad', 'Fallecidos confirmados', 'Porcentaje'],\n",
    "    color = alt.Color('Grupo de edad', scale=alt.Scale(scheme='category10'), legend=None),\n",
    "    order = alt.Order('index:O')\n",
    ")\n",
    "\n",
    "text = bars.mark_text(\n",
    "    align='left',\n",
    "    baseline='middle',\n",
    "    dx=3  # Nudges text to right so it doesn't appear on top of the bar\n",
    ").encode(\n",
    "    text=alt.Text('Texto')\n",
    ")\n",
    "\n",
    "bars.properties(\n",
    "    title = f\"Covid-19 en Chile: Fallecidos confirmados al {update_date.strftime('%d/%m/%Y')}\",\n",
    "    width = 600,\n",
    "    height = alt.Step(40)\n",
    ") + text"
   ]
  },
  {
   "cell_type": "markdown",
   "metadata": {},
   "source": [
    "# Casos confirmados por grupo de edad"
   ]
  },
  {
   "cell_type": "code",
   "execution_count": 11,
   "metadata": {},
   "outputs": [],
   "source": [
    "#hide\n",
    "cases_raw = pd.read_csv(\n",
    "    'https://raw.githubusercontent.com/MinCiencia/Datos-COVID19/' \\\n",
    "    + 'master/output/producto16/CasosGeneroEtario.csv'\n",
    ")"
   ]
  },
  {
   "cell_type": "code",
   "execution_count": 12,
   "metadata": {
    "scrolled": true
   },
   "outputs": [],
   "source": [
    "#hide\n",
    "cases_raw = cases_raw[['Grupo de edad', 'Sexo', '2020-04-28']].copy()"
   ]
  },
  {
   "cell_type": "code",
   "execution_count": 13,
   "metadata": {},
   "outputs": [
    {
     "data": {
      "text/html": [
       "<div>\n",
       "<style scoped>\n",
       "    .dataframe tbody tr th:only-of-type {\n",
       "        vertical-align: middle;\n",
       "    }\n",
       "\n",
       "    .dataframe tbody tr th {\n",
       "        vertical-align: top;\n",
       "    }\n",
       "\n",
       "    .dataframe thead th {\n",
       "        text-align: right;\n",
       "    }\n",
       "</style>\n",
       "<table border=\"1\" class=\"dataframe\">\n",
       "  <thead>\n",
       "    <tr style=\"text-align: right;\">\n",
       "      <th></th>\n",
       "      <th>2020-04-28</th>\n",
       "    </tr>\n",
       "    <tr>\n",
       "      <th>Sexo</th>\n",
       "      <th></th>\n",
       "    </tr>\n",
       "  </thead>\n",
       "  <tbody>\n",
       "    <tr>\n",
       "      <th>F</th>\n",
       "      <td>7150</td>\n",
       "    </tr>\n",
       "    <tr>\n",
       "      <th>M</th>\n",
       "      <td>7212</td>\n",
       "    </tr>\n",
       "  </tbody>\n",
       "</table>\n",
       "</div>"
      ],
      "text/plain": [
       "      2020-04-28\n",
       "Sexo            \n",
       "F           7150\n",
       "M           7212"
      ]
     },
     "execution_count": 13,
     "metadata": {},
     "output_type": "execute_result"
    }
   ],
   "source": [
    "#hide\n",
    "cases_raw.groupby('Sexo').sum()"
   ]
  },
  {
   "cell_type": "code",
   "execution_count": 14,
   "metadata": {
    "scrolled": true
   },
   "outputs": [],
   "source": [
    "#hide\n",
    "cases_raw = cases_raw.groupby('Grupo de edad').sum()"
   ]
  },
  {
   "cell_type": "code",
   "execution_count": 15,
   "metadata": {},
   "outputs": [],
   "source": [
    "#hide\n",
    "cases = pd.DataFrame()\n",
    "cases['Grupo de edad'] = ['<=39', '40-49', '50-59', '60-69', '70-79', '>=80']"
   ]
  },
  {
   "cell_type": "code",
   "execution_count": 16,
   "metadata": {},
   "outputs": [],
   "source": [
    "#hide\n",
    "cases[\"Casos confirmados\"] = [\n",
    "    cases_raw.iloc[:8].values.sum(),\n",
    "    cases_raw.iloc[8:10].values.sum(),\n",
    "    cases_raw.iloc[10:12].values.sum(),\n",
    "    cases_raw.iloc[12:14].values.sum(),\n",
    "    cases_raw.iloc[14:16].values.sum(),\n",
    "    cases_raw.iloc[16:].values.sum()\n",
    "]"
   ]
  },
  {
   "cell_type": "code",
   "execution_count": 17,
   "metadata": {},
   "outputs": [
    {
     "data": {
      "text/plain": [
       "14362"
      ]
     },
     "execution_count": 17,
     "metadata": {},
     "output_type": "execute_result"
    }
   ],
   "source": [
    "#hide\n",
    "total_cases = cases[\"Casos confirmados\"].sum()\n",
    "total_cases"
   ]
  },
  {
   "cell_type": "code",
   "execution_count": 18,
   "metadata": {},
   "outputs": [],
   "source": [
    "#hide\n",
    "cases[\"Porcentaje\"] = np.round(100*cases[\"Casos confirmados\"]/total_cases, decimals=1)"
   ]
  },
  {
   "cell_type": "code",
   "execution_count": 19,
   "metadata": {},
   "outputs": [],
   "source": [
    "#hide\n",
    "cases[\"Texto\"] = \\\n",
    "[f\"{cases['Casos confirmados'].iloc[i]} ({cases['Porcentaje'].iloc[i]}%)\" for i, val in cases.iterrows()]"
   ]
  },
  {
   "cell_type": "code",
   "execution_count": 20,
   "metadata": {},
   "outputs": [
    {
     "data": {
      "text/html": [
       "\n",
       "<div id=\"altair-viz-50813ef252fd42aa9d4e3cfd2cfd352f\"></div>\n",
       "<script type=\"text/javascript\">\n",
       "  (function(spec, embedOpt){\n",
       "    let outputDiv = document.currentScript.previousElementSibling;\n",
       "    if (outputDiv.id !== \"altair-viz-50813ef252fd42aa9d4e3cfd2cfd352f\") {\n",
       "      outputDiv = document.getElementById(\"altair-viz-50813ef252fd42aa9d4e3cfd2cfd352f\");\n",
       "    }\n",
       "    const paths = {\n",
       "      \"vega\": \"https://cdn.jsdelivr.net/npm//vega@5?noext\",\n",
       "      \"vega-lib\": \"https://cdn.jsdelivr.net/npm//vega-lib?noext\",\n",
       "      \"vega-lite\": \"https://cdn.jsdelivr.net/npm//vega-lite@4.8.1?noext\",\n",
       "      \"vega-embed\": \"https://cdn.jsdelivr.net/npm//vega-embed@6?noext\",\n",
       "    };\n",
       "\n",
       "    function loadScript(lib) {\n",
       "      return new Promise(function(resolve, reject) {\n",
       "        var s = document.createElement('script');\n",
       "        s.src = paths[lib];\n",
       "        s.async = true;\n",
       "        s.onload = () => resolve(paths[lib]);\n",
       "        s.onerror = () => reject(`Error loading script: ${paths[lib]}`);\n",
       "        document.getElementsByTagName(\"head\")[0].appendChild(s);\n",
       "      });\n",
       "    }\n",
       "\n",
       "    function showError(err) {\n",
       "      outputDiv.innerHTML = `<div class=\"error\" style=\"color:red;\">${err}</div>`;\n",
       "      throw err;\n",
       "    }\n",
       "\n",
       "    function displayChart(vegaEmbed) {\n",
       "      vegaEmbed(outputDiv, spec, embedOpt)\n",
       "        .catch(err => showError(`Javascript Error: ${err.message}<br>This usually means there's a typo in your chart specification. See the javascript console for the full traceback.`));\n",
       "    }\n",
       "\n",
       "    if(typeof define === \"function\" && define.amd) {\n",
       "      requirejs.config({paths});\n",
       "      require([\"vega-embed\"], displayChart, err => showError(`Error loading script: ${err.message}`));\n",
       "    } else if (typeof vegaEmbed === \"function\") {\n",
       "      displayChart(vegaEmbed);\n",
       "    } else {\n",
       "      loadScript(\"vega\")\n",
       "        .then(() => loadScript(\"vega-lite\"))\n",
       "        .then(() => loadScript(\"vega-embed\"))\n",
       "        .catch(showError)\n",
       "        .then(() => displayChart(vegaEmbed));\n",
       "    }\n",
       "  })({\"config\": {\"view\": {\"continuousWidth\": 400, \"continuousHeight\": 300}}, \"layer\": [{\"mark\": {\"type\": \"bar\", \"opacity\": 0.8, \"size\": 30}, \"encoding\": {\"color\": {\"type\": \"nominal\", \"field\": \"Grupo de edad\", \"legend\": null, \"scale\": {\"scheme\": \"category10\"}}, \"order\": {\"type\": \"ordinal\", \"field\": \"index\"}, \"tooltip\": [{\"type\": \"nominal\", \"field\": \"Grupo de edad\"}, {\"type\": \"quantitative\", \"field\": \"Casos confirmados\"}, {\"type\": \"quantitative\", \"field\": \"Porcentaje\"}], \"x\": {\"type\": \"quantitative\", \"field\": \"Casos confirmados\"}, \"y\": {\"type\": \"nominal\", \"field\": \"Grupo de edad\", \"sort\": [\"<=39\", \"40-49\", \"50-59\", \"60-69\", \"70-79\", \">=80\"]}}, \"height\": {\"step\": 40}, \"title\": \"Covid-19 en Chile: Casos confirmados al 01/05/2020\", \"width\": 600}, {\"mark\": {\"type\": \"text\", \"align\": \"left\", \"baseline\": \"middle\", \"dx\": 3}, \"encoding\": {\"color\": {\"type\": \"nominal\", \"field\": \"Grupo de edad\", \"legend\": null, \"scale\": {\"scheme\": \"category10\"}}, \"order\": {\"type\": \"ordinal\", \"field\": \"index\"}, \"text\": {\"type\": \"nominal\", \"field\": \"Texto\"}, \"tooltip\": [{\"type\": \"nominal\", \"field\": \"Grupo de edad\"}, {\"type\": \"quantitative\", \"field\": \"Casos confirmados\"}, {\"type\": \"quantitative\", \"field\": \"Porcentaje\"}], \"x\": {\"type\": \"quantitative\", \"field\": \"Casos confirmados\"}, \"y\": {\"type\": \"nominal\", \"field\": \"Grupo de edad\", \"sort\": [\"<=39\", \"40-49\", \"50-59\", \"60-69\", \"70-79\", \">=80\"]}}}], \"data\": {\"name\": \"data-ff11abcfbcad270f2f783fc567530a74\"}, \"$schema\": \"https://vega.github.io/schema/vega-lite/v4.8.1.json\", \"datasets\": {\"data-ff11abcfbcad270f2f783fc567530a74\": [{\"index\": 0, \"Grupo de edad\": \"<=39\", \"Casos confirmados\": 7358, \"Porcentaje\": 51.2, \"Texto\": \"7358 (51.2%)\"}, {\"index\": 1, \"Grupo de edad\": \"40-49\", \"Casos confirmados\": 2597, \"Porcentaje\": 18.1, \"Texto\": \"2597 (18.1%)\"}, {\"index\": 2, \"Grupo de edad\": \"50-59\", \"Casos confirmados\": 2118, \"Porcentaje\": 14.7, \"Texto\": \"2118 (14.7%)\"}, {\"index\": 3, \"Grupo de edad\": \"60-69\", \"Casos confirmados\": 1206, \"Porcentaje\": 8.4, \"Texto\": \"1206 (8.4%)\"}, {\"index\": 4, \"Grupo de edad\": \"70-79\", \"Casos confirmados\": 664, \"Porcentaje\": 4.6, \"Texto\": \"664 (4.6%)\"}, {\"index\": 5, \"Grupo de edad\": \">=80\", \"Casos confirmados\": 419, \"Porcentaje\": 2.9, \"Texto\": \"419 (2.9%)\"}]}}, {\"mode\": \"vega-lite\"});\n",
       "</script>"
      ],
      "text/plain": [
       "alt.LayerChart(...)"
      ]
     },
     "execution_count": 20,
     "metadata": {},
     "output_type": "execute_result"
    }
   ],
   "source": [
    "#hide_input\n",
    "bars = alt.Chart(cases.reset_index()).mark_bar(opacity=0.8, size=30).encode(\n",
    "    x = alt.X('Casos confirmados'),\n",
    "    y = alt.Y('Grupo de edad', sort=['<=39', '40-49', '50-59', '60-69', '70-79', '>=80']),\n",
    "    tooltip = ['Grupo de edad', 'Casos confirmados', 'Porcentaje'],\n",
    "    color = alt.Color('Grupo de edad', scale=alt.Scale(scheme='category10'), legend=None),\n",
    "    order = alt.Order('index:O')\n",
    ")\n",
    "\n",
    "text = bars.mark_text(\n",
    "    align='left',\n",
    "    baseline='middle',\n",
    "    dx=3  # Nudges text to right so it doesn't appear on top of the bar\n",
    ").encode(\n",
    "    text=alt.Text('Texto')\n",
    ")\n",
    "\n",
    "bars.properties(\n",
    "    title = f\"Covid-19 en Chile: Casos confirmados al {pd.to_datetime(today).strftime('%d/%m/%Y')}\",\n",
    "    width = 600,\n",
    "    height = alt.Step(40)\n",
    ") + text"
   ]
  },
  {
   "cell_type": "markdown",
   "metadata": {},
   "source": [
    "# Pacientes UCI por rango de edad"
   ]
  },
  {
   "cell_type": "code",
   "execution_count": 21,
   "metadata": {},
   "outputs": [],
   "source": [
    "#hide\n",
    "pacientes_raw = pd.read_csv(\n",
    "    'https://raw.githubusercontent.com/MinCiencia/Datos-COVID19/'\n",
    "    + 'master/output/producto9/HospitalizadosUCIEtario.csv'\n",
    ")"
   ]
  },
  {
   "cell_type": "code",
   "execution_count": 22,
   "metadata": {},
   "outputs": [],
   "source": [
    "#hide\n",
    "pacientes = pacientes_raw[['Grupo de edad', today]]"
   ]
  },
  {
   "cell_type": "code",
   "execution_count": 23,
   "metadata": {},
   "outputs": [
    {
     "data": {
      "text/plain": [
       "428"
      ]
     },
     "execution_count": 23,
     "metadata": {},
     "output_type": "execute_result"
    }
   ],
   "source": [
    "#hide\n",
    "total_pacientes = pacientes[today].sum()\n",
    "total_pacientes"
   ]
  },
  {
   "cell_type": "code",
   "execution_count": 24,
   "metadata": {},
   "outputs": [],
   "source": [
    "#hide\n",
    "pacientes = pacientes.rename(columns={today: \"Pacientes UCI\"})"
   ]
  },
  {
   "cell_type": "code",
   "execution_count": 25,
   "metadata": {
    "scrolled": true
   },
   "outputs": [],
   "source": [
    "#hide\n",
    "pacientes['Porcentaje'] = np.round(100*pacientes[\"Pacientes UCI\"]/total_pacientes, decimals=1)"
   ]
  },
  {
   "cell_type": "code",
   "execution_count": 26,
   "metadata": {},
   "outputs": [],
   "source": [
    "#hide\n",
    "pacientes['Texto'] = \\\n",
    "[f\"{pacientes['Pacientes UCI'].iloc[i]} ({pacientes['Porcentaje'].iloc[i]}%)\" for i, val in pacientes.iterrows()]"
   ]
  },
  {
   "cell_type": "code",
   "execution_count": 27,
   "metadata": {
    "scrolled": true
   },
   "outputs": [
    {
     "data": {
      "text/html": [
       "\n",
       "<div id=\"altair-viz-5d099dbe6e9c42b0a61c4e1871961077\"></div>\n",
       "<script type=\"text/javascript\">\n",
       "  (function(spec, embedOpt){\n",
       "    let outputDiv = document.currentScript.previousElementSibling;\n",
       "    if (outputDiv.id !== \"altair-viz-5d099dbe6e9c42b0a61c4e1871961077\") {\n",
       "      outputDiv = document.getElementById(\"altair-viz-5d099dbe6e9c42b0a61c4e1871961077\");\n",
       "    }\n",
       "    const paths = {\n",
       "      \"vega\": \"https://cdn.jsdelivr.net/npm//vega@5?noext\",\n",
       "      \"vega-lib\": \"https://cdn.jsdelivr.net/npm//vega-lib?noext\",\n",
       "      \"vega-lite\": \"https://cdn.jsdelivr.net/npm//vega-lite@4.8.1?noext\",\n",
       "      \"vega-embed\": \"https://cdn.jsdelivr.net/npm//vega-embed@6?noext\",\n",
       "    };\n",
       "\n",
       "    function loadScript(lib) {\n",
       "      return new Promise(function(resolve, reject) {\n",
       "        var s = document.createElement('script');\n",
       "        s.src = paths[lib];\n",
       "        s.async = true;\n",
       "        s.onload = () => resolve(paths[lib]);\n",
       "        s.onerror = () => reject(`Error loading script: ${paths[lib]}`);\n",
       "        document.getElementsByTagName(\"head\")[0].appendChild(s);\n",
       "      });\n",
       "    }\n",
       "\n",
       "    function showError(err) {\n",
       "      outputDiv.innerHTML = `<div class=\"error\" style=\"color:red;\">${err}</div>`;\n",
       "      throw err;\n",
       "    }\n",
       "\n",
       "    function displayChart(vegaEmbed) {\n",
       "      vegaEmbed(outputDiv, spec, embedOpt)\n",
       "        .catch(err => showError(`Javascript Error: ${err.message}<br>This usually means there's a typo in your chart specification. See the javascript console for the full traceback.`));\n",
       "    }\n",
       "\n",
       "    if(typeof define === \"function\" && define.amd) {\n",
       "      requirejs.config({paths});\n",
       "      require([\"vega-embed\"], displayChart, err => showError(`Error loading script: ${err.message}`));\n",
       "    } else if (typeof vegaEmbed === \"function\") {\n",
       "      displayChart(vegaEmbed);\n",
       "    } else {\n",
       "      loadScript(\"vega\")\n",
       "        .then(() => loadScript(\"vega-lite\"))\n",
       "        .then(() => loadScript(\"vega-embed\"))\n",
       "        .catch(showError)\n",
       "        .then(() => displayChart(vegaEmbed));\n",
       "    }\n",
       "  })({\"config\": {\"view\": {\"continuousWidth\": 400, \"continuousHeight\": 300}}, \"layer\": [{\"mark\": {\"type\": \"bar\", \"opacity\": 0.8, \"size\": 30}, \"encoding\": {\"color\": {\"type\": \"nominal\", \"field\": \"Grupo de edad\", \"legend\": null, \"scale\": {\"scheme\": \"category10\"}}, \"order\": {\"type\": \"ordinal\", \"field\": \"index\"}, \"tooltip\": [{\"type\": \"nominal\", \"field\": \"Grupo de edad\"}, {\"type\": \"quantitative\", \"field\": \"Pacientes UCI\"}, {\"type\": \"quantitative\", \"field\": \"Porcentaje\"}], \"x\": {\"type\": \"quantitative\", \"field\": \"Pacientes UCI\"}, \"y\": {\"type\": \"nominal\", \"field\": \"Grupo de edad\", \"sort\": [\"<=39\", \"40-49\", \"50-59\", \"60-69\", \"70-79\", \"80-89\", \">=90\"]}}, \"height\": {\"step\": 40}, \"title\": \"Pacientes UCI presentes el 01/05/2020\", \"width\": 600}, {\"mark\": {\"type\": \"text\", \"align\": \"left\", \"baseline\": \"middle\", \"dx\": 3}, \"encoding\": {\"color\": {\"type\": \"nominal\", \"field\": \"Grupo de edad\", \"legend\": null, \"scale\": {\"scheme\": \"category10\"}}, \"order\": {\"type\": \"ordinal\", \"field\": \"index\"}, \"text\": {\"type\": \"nominal\", \"field\": \"Texto\"}, \"tooltip\": [{\"type\": \"nominal\", \"field\": \"Grupo de edad\"}, {\"type\": \"quantitative\", \"field\": \"Pacientes UCI\"}, {\"type\": \"quantitative\", \"field\": \"Porcentaje\"}], \"x\": {\"type\": \"quantitative\", \"field\": \"Pacientes UCI\"}, \"y\": {\"type\": \"nominal\", \"field\": \"Grupo de edad\", \"sort\": [\"<=39\", \"40-49\", \"50-59\", \"60-69\", \"70-79\", \"80-89\", \">=90\"]}}}], \"data\": {\"name\": \"data-7e43d7a5006c8620566727ad5f49f31b\"}, \"$schema\": \"https://vega.github.io/schema/vega-lite/v4.8.1.json\", \"datasets\": {\"data-7e43d7a5006c8620566727ad5f49f31b\": [{\"index\": 0, \"Grupo de edad\": \"<=39\", \"Pacientes UCI\": 50, \"Porcentaje\": 11.7, \"Texto\": \"50 (11.7%)\"}, {\"index\": 1, \"Grupo de edad\": \"40-49\", \"Pacientes UCI\": 44, \"Porcentaje\": 10.3, \"Texto\": \"44 (10.3%)\"}, {\"index\": 2, \"Grupo de edad\": \"50-59\", \"Pacientes UCI\": 108, \"Porcentaje\": 25.2, \"Texto\": \"108 (25.2%)\"}, {\"index\": 3, \"Grupo de edad\": \"60-69\", \"Pacientes UCI\": 115, \"Porcentaje\": 26.9, \"Texto\": \"115 (26.9%)\"}, {\"index\": 4, \"Grupo de edad\": \">=70\", \"Pacientes UCI\": 111, \"Porcentaje\": 25.9, \"Texto\": \"111 (25.9%)\"}]}}, {\"mode\": \"vega-lite\"});\n",
       "</script>"
      ],
      "text/plain": [
       "alt.LayerChart(...)"
      ]
     },
     "execution_count": 27,
     "metadata": {},
     "output_type": "execute_result"
    }
   ],
   "source": [
    "#hide_input\n",
    "bars = alt.Chart(pacientes.reset_index()).mark_bar(opacity=0.8, size=30).encode(\n",
    "    x = alt.X('Pacientes UCI'),\n",
    "    y = alt.Y('Grupo de edad', sort=grupo_de_edad),\n",
    "    order = alt.Order('index:O'),\n",
    "    tooltip = ['Grupo de edad', 'Pacientes UCI', 'Porcentaje'],\n",
    "    color = alt.Color('Grupo de edad', scale=alt.Scale(scheme='category10'), legend=None)\n",
    ")\n",
    "\n",
    "text = bars.mark_text(\n",
    "    align='left',\n",
    "    baseline='middle',\n",
    "    dx=3  # Nudges text to right so it doesn't appear on top of the bar\n",
    ").encode(\n",
    "    text=alt.Text('Texto')\n",
    ")\n",
    "\n",
    "bars.properties(\n",
    "    title = f\"Pacientes UCI presentes el {pd.to_datetime(today).strftime('%d/%m/%Y')}\",\n",
    "    width = 600,\n",
    "    height = alt.Step(40)\n",
    ") + text"
   ]
  },
  {
   "cell_type": "markdown",
   "metadata": {},
   "source": [
    "# Evolución de fallecidos confirmados por rango de edad"
   ]
  },
  {
   "cell_type": "code",
   "execution_count": 28,
   "metadata": {},
   "outputs": [],
   "source": [
    "#hide\n",
    "data = deaths_raw.reset_index().melt(['index', 'Grupo de edad'])"
   ]
  },
  {
   "cell_type": "code",
   "execution_count": 29,
   "metadata": {},
   "outputs": [],
   "source": [
    "#hide\n",
    "data = data.rename(columns={'variable': \"fecha (año-mes-día)\", 'value': \"fallecidos confirmados\"})"
   ]
  },
  {
   "cell_type": "code",
   "execution_count": 30,
   "metadata": {},
   "outputs": [
    {
     "data": {
      "text/html": [
       "\n",
       "<div id=\"altair-viz-45a41c1ffa2345e1ab20bd15c4b59999\"></div>\n",
       "<script type=\"text/javascript\">\n",
       "  (function(spec, embedOpt){\n",
       "    let outputDiv = document.currentScript.previousElementSibling;\n",
       "    if (outputDiv.id !== \"altair-viz-45a41c1ffa2345e1ab20bd15c4b59999\") {\n",
       "      outputDiv = document.getElementById(\"altair-viz-45a41c1ffa2345e1ab20bd15c4b59999\");\n",
       "    }\n",
       "    const paths = {\n",
       "      \"vega\": \"https://cdn.jsdelivr.net/npm//vega@5?noext\",\n",
       "      \"vega-lib\": \"https://cdn.jsdelivr.net/npm//vega-lib?noext\",\n",
       "      \"vega-lite\": \"https://cdn.jsdelivr.net/npm//vega-lite@4.8.1?noext\",\n",
       "      \"vega-embed\": \"https://cdn.jsdelivr.net/npm//vega-embed@6?noext\",\n",
       "    };\n",
       "\n",
       "    function loadScript(lib) {\n",
       "      return new Promise(function(resolve, reject) {\n",
       "        var s = document.createElement('script');\n",
       "        s.src = paths[lib];\n",
       "        s.async = true;\n",
       "        s.onload = () => resolve(paths[lib]);\n",
       "        s.onerror = () => reject(`Error loading script: ${paths[lib]}`);\n",
       "        document.getElementsByTagName(\"head\")[0].appendChild(s);\n",
       "      });\n",
       "    }\n",
       "\n",
       "    function showError(err) {\n",
       "      outputDiv.innerHTML = `<div class=\"error\" style=\"color:red;\">${err}</div>`;\n",
       "      throw err;\n",
       "    }\n",
       "\n",
       "    function displayChart(vegaEmbed) {\n",
       "      vegaEmbed(outputDiv, spec, embedOpt)\n",
       "        .catch(err => showError(`Javascript Error: ${err.message}<br>This usually means there's a typo in your chart specification. See the javascript console for the full traceback.`));\n",
       "    }\n",
       "\n",
       "    if(typeof define === \"function\" && define.amd) {\n",
       "      requirejs.config({paths});\n",
       "      require([\"vega-embed\"], displayChart, err => showError(`Error loading script: ${err.message}`));\n",
       "    } else if (typeof vegaEmbed === \"function\") {\n",
       "      displayChart(vegaEmbed);\n",
       "    } else {\n",
       "      loadScript(\"vega\")\n",
       "        .then(() => loadScript(\"vega-lite\"))\n",
       "        .then(() => loadScript(\"vega-embed\"))\n",
       "        .catch(showError)\n",
       "        .then(() => displayChart(vegaEmbed));\n",
       "    }\n",
       "  })({\"config\": {\"view\": {\"continuousWidth\": 400, \"continuousHeight\": 300}}, \"hconcat\": [{\"mark\": \"bar\", \"encoding\": {\"color\": {\"condition\": {\"type\": \"nominal\", \"field\": \"Grupo de edad\", \"legend\": null, \"scale\": {\"scheme\": \"tableau20\"}, \"selection\": {\"or\": [\" \", \"selector001\"]}}, \"value\": \"lightgray\"}, \"order\": {\"type\": \"quantitative\", \"field\": \"index\", \"sort\": \"ascending\"}, \"tooltip\": [{\"type\": \"nominal\", \"field\": \"fecha (a\\u00f1o-mes-d\\u00eda)\"}, {\"type\": \"nominal\", \"field\": \"Grupo de edad\"}, {\"type\": \"quantitative\", \"field\": \"fallecidos confirmados\"}], \"x\": {\"type\": \"nominal\", \"field\": \"fecha (a\\u00f1o-mes-d\\u00eda)\"}, \"y\": {\"type\": \"quantitative\", \"field\": \"fallecidos confirmados\"}}, \"selection\": {\" \": {\"type\": \"single\", \"fields\": [\"Grupo de edad\"], \"bind\": {\"input\": \"select\", \"options\": [\"<=39\", \"40-49\", \"50-59\", \"60-69\", \"70-79\", \"80-89\", \">=90\"]}}, \"selector001\": {\"type\": \"multi\", \"fields\": [\"Grupo de edad\"], \"on\": \"mouseover\"}}, \"title\": \"COVID-19 en Chile: Evoluci\\u00f3n de fallecidos confirmados por rango de edad\", \"transform\": [{\"filter\": {\"selection\": \" \"}}], \"width\": 600}, {\"mark\": \"point\", \"encoding\": {\"color\": {\"condition\": {\"type\": \"nominal\", \"field\": \"Grupo de edad\", \"legend\": null, \"scale\": {\"scheme\": \"tableau20\"}, \"selection\": {\"or\": [\" \", \"selector001\"]}}, \"value\": \"lightgray\"}, \"order\": {\"type\": \"quantitative\", \"field\": \"index\", \"sort\": \"descending\"}, \"y\": {\"type\": \"nominal\", \"axis\": {\"orient\": \"right\"}, \"field\": \"Grupo de edad\", \"sort\": [\"<=39\", \"40-49\", \"50-59\", \"60-69\", \"70-79\", \"80-89\", \">=90\"]}}, \"selection\": {\" \": {\"type\": \"single\", \"fields\": [\"Grupo de edad\"], \"bind\": {\"input\": \"select\", \"options\": [\"<=39\", \"40-49\", \"50-59\", \"60-69\", \"70-79\", \"80-89\", \">=90\"]}}, \"selector001\": {\"type\": \"multi\", \"fields\": [\"Grupo de edad\"], \"on\": \"mouseover\"}}}], \"data\": {\"name\": \"data-9cd55f0cf633bdf63878ebb1647d5bd7\"}, \"$schema\": \"https://vega.github.io/schema/vega-lite/v4.8.1.json\", \"datasets\": {\"data-9cd55f0cf633bdf63878ebb1647d5bd7\": [{\"index\": 0, \"Grupo de edad\": \"<=39\", \"fecha (a\\u00f1o-mes-d\\u00eda)\": \"2020-04-09\", \"fallecidos confirmados\": 2}, {\"index\": 1, \"Grupo de edad\": \"40-49\", \"fecha (a\\u00f1o-mes-d\\u00eda)\": \"2020-04-09\", \"fallecidos confirmados\": 1}, {\"index\": 2, \"Grupo de edad\": \"50-59\", \"fecha (a\\u00f1o-mes-d\\u00eda)\": \"2020-04-09\", \"fallecidos confirmados\": 1}, {\"index\": 3, \"Grupo de edad\": \"60-69\", \"fecha (a\\u00f1o-mes-d\\u00eda)\": \"2020-04-09\", \"fallecidos confirmados\": 9}, {\"index\": 4, \"Grupo de edad\": \"70-79\", \"fecha (a\\u00f1o-mes-d\\u00eda)\": \"2020-04-09\", \"fallecidos confirmados\": 21}, {\"index\": 5, \"Grupo de edad\": \"80-89\", \"fecha (a\\u00f1o-mes-d\\u00eda)\": \"2020-04-09\", \"fallecidos confirmados\": 19}, {\"index\": 6, \"Grupo de edad\": \">=90\", \"fecha (a\\u00f1o-mes-d\\u00eda)\": \"2020-04-09\", \"fallecidos confirmados\": 4}, {\"index\": 0, \"Grupo de edad\": \"<=39\", \"fecha (a\\u00f1o-mes-d\\u00eda)\": \"2020-04-10\", \"fallecidos confirmados\": 2}, {\"index\": 1, \"Grupo de edad\": \"40-49\", \"fecha (a\\u00f1o-mes-d\\u00eda)\": \"2020-04-10\", \"fallecidos confirmados\": 2}, {\"index\": 2, \"Grupo de edad\": \"50-59\", \"fecha (a\\u00f1o-mes-d\\u00eda)\": \"2020-04-10\", \"fallecidos confirmados\": 2}, {\"index\": 3, \"Grupo de edad\": \"60-69\", \"fecha (a\\u00f1o-mes-d\\u00eda)\": \"2020-04-10\", \"fallecidos confirmados\": 10}, {\"index\": 4, \"Grupo de edad\": \"70-79\", \"fecha (a\\u00f1o-mes-d\\u00eda)\": \"2020-04-10\", \"fallecidos confirmados\": 22}, {\"index\": 5, \"Grupo de edad\": \"80-89\", \"fecha (a\\u00f1o-mes-d\\u00eda)\": \"2020-04-10\", \"fallecidos confirmados\": 21}, {\"index\": 6, \"Grupo de edad\": \">=90\", \"fecha (a\\u00f1o-mes-d\\u00eda)\": \"2020-04-10\", \"fallecidos confirmados\": 6}, {\"index\": 0, \"Grupo de edad\": \"<=39\", \"fecha (a\\u00f1o-mes-d\\u00eda)\": \"2020-04-11\", \"fallecidos confirmados\": 3}, {\"index\": 1, \"Grupo de edad\": \"40-49\", \"fecha (a\\u00f1o-mes-d\\u00eda)\": \"2020-04-11\", \"fallecidos confirmados\": 2}, {\"index\": 2, \"Grupo de edad\": \"50-59\", \"fecha (a\\u00f1o-mes-d\\u00eda)\": \"2020-04-11\", \"fallecidos confirmados\": 2}, {\"index\": 3, \"Grupo de edad\": \"60-69\", \"fecha (a\\u00f1o-mes-d\\u00eda)\": \"2020-04-11\", \"fallecidos confirmados\": 12}, {\"index\": 4, \"Grupo de edad\": \"70-79\", \"fecha (a\\u00f1o-mes-d\\u00eda)\": \"2020-04-11\", \"fallecidos confirmados\": 24}, {\"index\": 5, \"Grupo de edad\": \"80-89\", \"fecha (a\\u00f1o-mes-d\\u00eda)\": \"2020-04-11\", \"fallecidos confirmados\": 24}, {\"index\": 6, \"Grupo de edad\": \">=90\", \"fecha (a\\u00f1o-mes-d\\u00eda)\": \"2020-04-11\", \"fallecidos confirmados\": 6}, {\"index\": 0, \"Grupo de edad\": \"<=39\", \"fecha (a\\u00f1o-mes-d\\u00eda)\": \"2020-04-12\", \"fallecidos confirmados\": 3}, {\"index\": 1, \"Grupo de edad\": \"40-49\", \"fecha (a\\u00f1o-mes-d\\u00eda)\": \"2020-04-12\", \"fallecidos confirmados\": 2}, {\"index\": 2, \"Grupo de edad\": \"50-59\", \"fecha (a\\u00f1o-mes-d\\u00eda)\": \"2020-04-12\", \"fallecidos confirmados\": 3}, {\"index\": 3, \"Grupo de edad\": \"60-69\", \"fecha (a\\u00f1o-mes-d\\u00eda)\": \"2020-04-12\", \"fallecidos confirmados\": 12}, {\"index\": 4, \"Grupo de edad\": \"70-79\", \"fecha (a\\u00f1o-mes-d\\u00eda)\": \"2020-04-12\", \"fallecidos confirmados\": 28}, {\"index\": 5, \"Grupo de edad\": \"80-89\", \"fecha (a\\u00f1o-mes-d\\u00eda)\": \"2020-04-12\", \"fallecidos confirmados\": 25}, {\"index\": 6, \"Grupo de edad\": \">=90\", \"fecha (a\\u00f1o-mes-d\\u00eda)\": \"2020-04-12\", \"fallecidos confirmados\": 7}, {\"index\": 0, \"Grupo de edad\": \"<=39\", \"fecha (a\\u00f1o-mes-d\\u00eda)\": \"2020-04-13\", \"fallecidos confirmados\": 3}, {\"index\": 1, \"Grupo de edad\": \"40-49\", \"fecha (a\\u00f1o-mes-d\\u00eda)\": \"2020-04-13\", \"fallecidos confirmados\": 2}, {\"index\": 2, \"Grupo de edad\": \"50-59\", \"fecha (a\\u00f1o-mes-d\\u00eda)\": \"2020-04-13\", \"fallecidos confirmados\": 3}, {\"index\": 3, \"Grupo de edad\": \"60-69\", \"fecha (a\\u00f1o-mes-d\\u00eda)\": \"2020-04-13\", \"fallecidos confirmados\": 12}, {\"index\": 4, \"Grupo de edad\": \"70-79\", \"fecha (a\\u00f1o-mes-d\\u00eda)\": \"2020-04-13\", \"fallecidos confirmados\": 29}, {\"index\": 5, \"Grupo de edad\": \"80-89\", \"fecha (a\\u00f1o-mes-d\\u00eda)\": \"2020-04-13\", \"fallecidos confirmados\": 26}, {\"index\": 6, \"Grupo de edad\": \">=90\", \"fecha (a\\u00f1o-mes-d\\u00eda)\": \"2020-04-13\", \"fallecidos confirmados\": 7}, {\"index\": 0, \"Grupo de edad\": \"<=39\", \"fecha (a\\u00f1o-mes-d\\u00eda)\": \"2020-04-14\", \"fallecidos confirmados\": 3}, {\"index\": 1, \"Grupo de edad\": \"40-49\", \"fecha (a\\u00f1o-mes-d\\u00eda)\": \"2020-04-14\", \"fallecidos confirmados\": 2}, {\"index\": 2, \"Grupo de edad\": \"50-59\", \"fecha (a\\u00f1o-mes-d\\u00eda)\": \"2020-04-14\", \"fallecidos confirmados\": 5}, {\"index\": 3, \"Grupo de edad\": \"60-69\", \"fecha (a\\u00f1o-mes-d\\u00eda)\": \"2020-04-14\", \"fallecidos confirmados\": 12}, {\"index\": 4, \"Grupo de edad\": \"70-79\", \"fecha (a\\u00f1o-mes-d\\u00eda)\": \"2020-04-14\", \"fallecidos confirmados\": 30}, {\"index\": 5, \"Grupo de edad\": \"80-89\", \"fecha (a\\u00f1o-mes-d\\u00eda)\": \"2020-04-14\", \"fallecidos confirmados\": 32}, {\"index\": 6, \"Grupo de edad\": \">=90\", \"fecha (a\\u00f1o-mes-d\\u00eda)\": \"2020-04-14\", \"fallecidos confirmados\": 8}, {\"index\": 0, \"Grupo de edad\": \"<=39\", \"fecha (a\\u00f1o-mes-d\\u00eda)\": \"2020-04-15\", \"fallecidos confirmados\": 3}, {\"index\": 1, \"Grupo de edad\": \"40-49\", \"fecha (a\\u00f1o-mes-d\\u00eda)\": \"2020-04-15\", \"fallecidos confirmados\": 2}, {\"index\": 2, \"Grupo de edad\": \"50-59\", \"fecha (a\\u00f1o-mes-d\\u00eda)\": \"2020-04-15\", \"fallecidos confirmados\": 5}, {\"index\": 3, \"Grupo de edad\": \"60-69\", \"fecha (a\\u00f1o-mes-d\\u00eda)\": \"2020-04-15\", \"fallecidos confirmados\": 12}, {\"index\": 4, \"Grupo de edad\": \"70-79\", \"fecha (a\\u00f1o-mes-d\\u00eda)\": \"2020-04-15\", \"fallecidos confirmados\": 31}, {\"index\": 5, \"Grupo de edad\": \"80-89\", \"fecha (a\\u00f1o-mes-d\\u00eda)\": \"2020-04-15\", \"fallecidos confirmados\": 33}, {\"index\": 6, \"Grupo de edad\": \">=90\", \"fecha (a\\u00f1o-mes-d\\u00eda)\": \"2020-04-15\", \"fallecidos confirmados\": 8}, {\"index\": 0, \"Grupo de edad\": \"<=39\", \"fecha (a\\u00f1o-mes-d\\u00eda)\": \"2020-04-16\", \"fallecidos confirmados\": 3}, {\"index\": 1, \"Grupo de edad\": \"40-49\", \"fecha (a\\u00f1o-mes-d\\u00eda)\": \"2020-04-16\", \"fallecidos confirmados\": 2}, {\"index\": 2, \"Grupo de edad\": \"50-59\", \"fecha (a\\u00f1o-mes-d\\u00eda)\": \"2020-04-16\", \"fallecidos confirmados\": 6}, {\"index\": 3, \"Grupo de edad\": \"60-69\", \"fecha (a\\u00f1o-mes-d\\u00eda)\": \"2020-04-16\", \"fallecidos confirmados\": 14}, {\"index\": 4, \"Grupo de edad\": \"70-79\", \"fecha (a\\u00f1o-mes-d\\u00eda)\": \"2020-04-16\", \"fallecidos confirmados\": 32}, {\"index\": 5, \"Grupo de edad\": \"80-89\", \"fecha (a\\u00f1o-mes-d\\u00eda)\": \"2020-04-16\", \"fallecidos confirmados\": 38}, {\"index\": 6, \"Grupo de edad\": \">=90\", \"fecha (a\\u00f1o-mes-d\\u00eda)\": \"2020-04-16\", \"fallecidos confirmados\": 10}, {\"index\": 0, \"Grupo de edad\": \"<=39\", \"fecha (a\\u00f1o-mes-d\\u00eda)\": \"2020-04-17\", \"fallecidos confirmados\": 4}, {\"index\": 1, \"Grupo de edad\": \"40-49\", \"fecha (a\\u00f1o-mes-d\\u00eda)\": \"2020-04-17\", \"fallecidos confirmados\": 2}, {\"index\": 2, \"Grupo de edad\": \"50-59\", \"fecha (a\\u00f1o-mes-d\\u00eda)\": \"2020-04-17\", \"fallecidos confirmados\": 8}, {\"index\": 3, \"Grupo de edad\": \"60-69\", \"fecha (a\\u00f1o-mes-d\\u00eda)\": \"2020-04-17\", \"fallecidos confirmados\": 16}, {\"index\": 4, \"Grupo de edad\": \"70-79\", \"fecha (a\\u00f1o-mes-d\\u00eda)\": \"2020-04-17\", \"fallecidos confirmados\": 36}, {\"index\": 5, \"Grupo de edad\": \"80-89\", \"fecha (a\\u00f1o-mes-d\\u00eda)\": \"2020-04-17\", \"fallecidos confirmados\": 40}, {\"index\": 6, \"Grupo de edad\": \">=90\", \"fecha (a\\u00f1o-mes-d\\u00eda)\": \"2020-04-17\", \"fallecidos confirmados\": 10}, {\"index\": 0, \"Grupo de edad\": \"<=39\", \"fecha (a\\u00f1o-mes-d\\u00eda)\": \"2020-04-18\", \"fallecidos confirmados\": 4}, {\"index\": 1, \"Grupo de edad\": \"40-49\", \"fecha (a\\u00f1o-mes-d\\u00eda)\": \"2020-04-18\", \"fallecidos confirmados\": 2}, {\"index\": 2, \"Grupo de edad\": \"50-59\", \"fecha (a\\u00f1o-mes-d\\u00eda)\": \"2020-04-18\", \"fallecidos confirmados\": 8}, {\"index\": 3, \"Grupo de edad\": \"60-69\", \"fecha (a\\u00f1o-mes-d\\u00eda)\": \"2020-04-18\", \"fallecidos confirmados\": 17}, {\"index\": 4, \"Grupo de edad\": \"70-79\", \"fecha (a\\u00f1o-mes-d\\u00eda)\": \"2020-04-18\", \"fallecidos confirmados\": 39}, {\"index\": 5, \"Grupo de edad\": \"80-89\", \"fecha (a\\u00f1o-mes-d\\u00eda)\": \"2020-04-18\", \"fallecidos confirmados\": 44}, {\"index\": 6, \"Grupo de edad\": \">=90\", \"fecha (a\\u00f1o-mes-d\\u00eda)\": \"2020-04-18\", \"fallecidos confirmados\": 12}, {\"index\": 0, \"Grupo de edad\": \"<=39\", \"fecha (a\\u00f1o-mes-d\\u00eda)\": \"2020-04-19\", \"fallecidos confirmados\": 4}, {\"index\": 1, \"Grupo de edad\": \"40-49\", \"fecha (a\\u00f1o-mes-d\\u00eda)\": \"2020-04-19\", \"fallecidos confirmados\": 2}, {\"index\": 2, \"Grupo de edad\": \"50-59\", \"fecha (a\\u00f1o-mes-d\\u00eda)\": \"2020-04-19\", \"fallecidos confirmados\": 9}, {\"index\": 3, \"Grupo de edad\": \"60-69\", \"fecha (a\\u00f1o-mes-d\\u00eda)\": \"2020-04-19\", \"fallecidos confirmados\": 18}, {\"index\": 4, \"Grupo de edad\": \"70-79\", \"fecha (a\\u00f1o-mes-d\\u00eda)\": \"2020-04-19\", \"fallecidos confirmados\": 41}, {\"index\": 5, \"Grupo de edad\": \"80-89\", \"fecha (a\\u00f1o-mes-d\\u00eda)\": \"2020-04-19\", \"fallecidos confirmados\": 46}, {\"index\": 6, \"Grupo de edad\": \">=90\", \"fecha (a\\u00f1o-mes-d\\u00eda)\": \"2020-04-19\", \"fallecidos confirmados\": 13}, {\"index\": 0, \"Grupo de edad\": \"<=39\", \"fecha (a\\u00f1o-mes-d\\u00eda)\": \"2020-04-20\", \"fallecidos confirmados\": 4}, {\"index\": 1, \"Grupo de edad\": \"40-49\", \"fecha (a\\u00f1o-mes-d\\u00eda)\": \"2020-04-20\", \"fallecidos confirmados\": 2}, {\"index\": 2, \"Grupo de edad\": \"50-59\", \"fecha (a\\u00f1o-mes-d\\u00eda)\": \"2020-04-20\", \"fallecidos confirmados\": 11}, {\"index\": 3, \"Grupo de edad\": \"60-69\", \"fecha (a\\u00f1o-mes-d\\u00eda)\": \"2020-04-20\", \"fallecidos confirmados\": 19}, {\"index\": 4, \"Grupo de edad\": \"70-79\", \"fecha (a\\u00f1o-mes-d\\u00eda)\": \"2020-04-20\", \"fallecidos confirmados\": 42}, {\"index\": 5, \"Grupo de edad\": \"80-89\", \"fecha (a\\u00f1o-mes-d\\u00eda)\": \"2020-04-20\", \"fallecidos confirmados\": 47}, {\"index\": 6, \"Grupo de edad\": \">=90\", \"fecha (a\\u00f1o-mes-d\\u00eda)\": \"2020-04-20\", \"fallecidos confirmados\": 14}, {\"index\": 0, \"Grupo de edad\": \"<=39\", \"fecha (a\\u00f1o-mes-d\\u00eda)\": \"2020-04-21\", \"fallecidos confirmados\": 5}, {\"index\": 1, \"Grupo de edad\": \"40-49\", \"fecha (a\\u00f1o-mes-d\\u00eda)\": \"2020-04-21\", \"fallecidos confirmados\": 2}, {\"index\": 2, \"Grupo de edad\": \"50-59\", \"fecha (a\\u00f1o-mes-d\\u00eda)\": \"2020-04-21\", \"fallecidos confirmados\": 13}, {\"index\": 3, \"Grupo de edad\": \"60-69\", \"fecha (a\\u00f1o-mes-d\\u00eda)\": \"2020-04-21\", \"fallecidos confirmados\": 20}, {\"index\": 4, \"Grupo de edad\": \"70-79\", \"fecha (a\\u00f1o-mes-d\\u00eda)\": \"2020-04-21\", \"fallecidos confirmados\": 43}, {\"index\": 5, \"Grupo de edad\": \"80-89\", \"fecha (a\\u00f1o-mes-d\\u00eda)\": \"2020-04-21\", \"fallecidos confirmados\": 50}, {\"index\": 6, \"Grupo de edad\": \">=90\", \"fecha (a\\u00f1o-mes-d\\u00eda)\": \"2020-04-21\", \"fallecidos confirmados\": 14}, {\"index\": 0, \"Grupo de edad\": \"<=39\", \"fecha (a\\u00f1o-mes-d\\u00eda)\": \"2020-04-22\", \"fallecidos confirmados\": 5}, {\"index\": 1, \"Grupo de edad\": \"40-49\", \"fecha (a\\u00f1o-mes-d\\u00eda)\": \"2020-04-22\", \"fallecidos confirmados\": 2}, {\"index\": 2, \"Grupo de edad\": \"50-59\", \"fecha (a\\u00f1o-mes-d\\u00eda)\": \"2020-04-22\", \"fallecidos confirmados\": 14}, {\"index\": 3, \"Grupo de edad\": \"60-69\", \"fecha (a\\u00f1o-mes-d\\u00eda)\": \"2020-04-22\", \"fallecidos confirmados\": 26}, {\"index\": 4, \"Grupo de edad\": \"70-79\", \"fecha (a\\u00f1o-mes-d\\u00eda)\": \"2020-04-22\", \"fallecidos confirmados\": 47}, {\"index\": 5, \"Grupo de edad\": \"80-89\", \"fecha (a\\u00f1o-mes-d\\u00eda)\": \"2020-04-22\", \"fallecidos confirmados\": 51}, {\"index\": 6, \"Grupo de edad\": \">=90\", \"fecha (a\\u00f1o-mes-d\\u00eda)\": \"2020-04-22\", \"fallecidos confirmados\": 15}, {\"index\": 0, \"Grupo de edad\": \"<=39\", \"fecha (a\\u00f1o-mes-d\\u00eda)\": \"2020-04-23\", \"fallecidos confirmados\": 5}, {\"index\": 1, \"Grupo de edad\": \"40-49\", \"fecha (a\\u00f1o-mes-d\\u00eda)\": \"2020-04-23\", \"fallecidos confirmados\": 3}, {\"index\": 2, \"Grupo de edad\": \"50-59\", \"fecha (a\\u00f1o-mes-d\\u00eda)\": \"2020-04-23\", \"fallecidos confirmados\": 14}, {\"index\": 3, \"Grupo de edad\": \"60-69\", \"fecha (a\\u00f1o-mes-d\\u00eda)\": \"2020-04-23\", \"fallecidos confirmados\": 28}, {\"index\": 4, \"Grupo de edad\": \"70-79\", \"fecha (a\\u00f1o-mes-d\\u00eda)\": \"2020-04-23\", \"fallecidos confirmados\": 48}, {\"index\": 5, \"Grupo de edad\": \"80-89\", \"fecha (a\\u00f1o-mes-d\\u00eda)\": \"2020-04-23\", \"fallecidos confirmados\": 54}, {\"index\": 6, \"Grupo de edad\": \">=90\", \"fecha (a\\u00f1o-mes-d\\u00eda)\": \"2020-04-23\", \"fallecidos confirmados\": 16}, {\"index\": 0, \"Grupo de edad\": \"<=39\", \"fecha (a\\u00f1o-mes-d\\u00eda)\": \"2020-04-24\", \"fallecidos confirmados\": 5}, {\"index\": 1, \"Grupo de edad\": \"40-49\", \"fecha (a\\u00f1o-mes-d\\u00eda)\": \"2020-04-24\", \"fallecidos confirmados\": 4}, {\"index\": 2, \"Grupo de edad\": \"50-59\", \"fecha (a\\u00f1o-mes-d\\u00eda)\": \"2020-04-24\", \"fallecidos confirmados\": 14}, {\"index\": 3, \"Grupo de edad\": \"60-69\", \"fecha (a\\u00f1o-mes-d\\u00eda)\": \"2020-04-24\", \"fallecidos confirmados\": 30}, {\"index\": 4, \"Grupo de edad\": \"70-79\", \"fecha (a\\u00f1o-mes-d\\u00eda)\": \"2020-04-24\", \"fallecidos confirmados\": 49}, {\"index\": 5, \"Grupo de edad\": \"80-89\", \"fecha (a\\u00f1o-mes-d\\u00eda)\": \"2020-04-24\", \"fallecidos confirmados\": 56}, {\"index\": 6, \"Grupo de edad\": \">=90\", \"fecha (a\\u00f1o-mes-d\\u00eda)\": \"2020-04-24\", \"fallecidos confirmados\": 16}, {\"index\": 0, \"Grupo de edad\": \"<=39\", \"fecha (a\\u00f1o-mes-d\\u00eda)\": \"2020-04-25\", \"fallecidos confirmados\": 6}, {\"index\": 1, \"Grupo de edad\": \"40-49\", \"fecha (a\\u00f1o-mes-d\\u00eda)\": \"2020-04-25\", \"fallecidos confirmados\": 6}, {\"index\": 2, \"Grupo de edad\": \"50-59\", \"fecha (a\\u00f1o-mes-d\\u00eda)\": \"2020-04-25\", \"fallecidos confirmados\": 15}, {\"index\": 3, \"Grupo de edad\": \"60-69\", \"fecha (a\\u00f1o-mes-d\\u00eda)\": \"2020-04-25\", \"fallecidos confirmados\": 31}, {\"index\": 4, \"Grupo de edad\": \"70-79\", \"fecha (a\\u00f1o-mes-d\\u00eda)\": \"2020-04-25\", \"fallecidos confirmados\": 50}, {\"index\": 5, \"Grupo de edad\": \"80-89\", \"fecha (a\\u00f1o-mes-d\\u00eda)\": \"2020-04-25\", \"fallecidos confirmados\": 57}, {\"index\": 6, \"Grupo de edad\": \">=90\", \"fecha (a\\u00f1o-mes-d\\u00eda)\": \"2020-04-25\", \"fallecidos confirmados\": 16}, {\"index\": 0, \"Grupo de edad\": \"<=39\", \"fecha (a\\u00f1o-mes-d\\u00eda)\": \"2020-04-26\", \"fallecidos confirmados\": 6}, {\"index\": 1, \"Grupo de edad\": \"40-49\", \"fecha (a\\u00f1o-mes-d\\u00eda)\": \"2020-04-26\", \"fallecidos confirmados\": 7}, {\"index\": 2, \"Grupo de edad\": \"50-59\", \"fecha (a\\u00f1o-mes-d\\u00eda)\": \"2020-04-26\", \"fallecidos confirmados\": 15}, {\"index\": 3, \"Grupo de edad\": \"60-69\", \"fecha (a\\u00f1o-mes-d\\u00eda)\": \"2020-04-26\", \"fallecidos confirmados\": 33}, {\"index\": 4, \"Grupo de edad\": \"70-79\", \"fecha (a\\u00f1o-mes-d\\u00eda)\": \"2020-04-26\", \"fallecidos confirmados\": 52}, {\"index\": 5, \"Grupo de edad\": \"80-89\", \"fecha (a\\u00f1o-mes-d\\u00eda)\": \"2020-04-26\", \"fallecidos confirmados\": 59}, {\"index\": 6, \"Grupo de edad\": \">=90\", \"fecha (a\\u00f1o-mes-d\\u00eda)\": \"2020-04-26\", \"fallecidos confirmados\": 17}, {\"index\": 0, \"Grupo de edad\": \"<=39\", \"fecha (a\\u00f1o-mes-d\\u00eda)\": \"2020-04-27\", \"fallecidos confirmados\": 6}, {\"index\": 1, \"Grupo de edad\": \"40-49\", \"fecha (a\\u00f1o-mes-d\\u00eda)\": \"2020-04-27\", \"fallecidos confirmados\": 7}, {\"index\": 2, \"Grupo de edad\": \"50-59\", \"fecha (a\\u00f1o-mes-d\\u00eda)\": \"2020-04-27\", \"fallecidos confirmados\": 16}, {\"index\": 3, \"Grupo de edad\": \"60-69\", \"fecha (a\\u00f1o-mes-d\\u00eda)\": \"2020-04-27\", \"fallecidos confirmados\": 35}, {\"index\": 4, \"Grupo de edad\": \"70-79\", \"fecha (a\\u00f1o-mes-d\\u00eda)\": \"2020-04-27\", \"fallecidos confirmados\": 57}, {\"index\": 5, \"Grupo de edad\": \"80-89\", \"fecha (a\\u00f1o-mes-d\\u00eda)\": \"2020-04-27\", \"fallecidos confirmados\": 60}, {\"index\": 6, \"Grupo de edad\": \">=90\", \"fecha (a\\u00f1o-mes-d\\u00eda)\": \"2020-04-27\", \"fallecidos confirmados\": 17}, {\"index\": 0, \"Grupo de edad\": \"<=39\", \"fecha (a\\u00f1o-mes-d\\u00eda)\": \"2020-04-28\", \"fallecidos confirmados\": 6}, {\"index\": 1, \"Grupo de edad\": \"40-49\", \"fecha (a\\u00f1o-mes-d\\u00eda)\": \"2020-04-28\", \"fallecidos confirmados\": 8}, {\"index\": 2, \"Grupo de edad\": \"50-59\", \"fecha (a\\u00f1o-mes-d\\u00eda)\": \"2020-04-28\", \"fallecidos confirmados\": 16}, {\"index\": 3, \"Grupo de edad\": \"60-69\", \"fecha (a\\u00f1o-mes-d\\u00eda)\": \"2020-04-28\", \"fallecidos confirmados\": 35}, {\"index\": 4, \"Grupo de edad\": \"70-79\", \"fecha (a\\u00f1o-mes-d\\u00eda)\": \"2020-04-28\", \"fallecidos confirmados\": 60}, {\"index\": 5, \"Grupo de edad\": \"80-89\", \"fecha (a\\u00f1o-mes-d\\u00eda)\": \"2020-04-28\", \"fallecidos confirmados\": 62}, {\"index\": 6, \"Grupo de edad\": \">=90\", \"fecha (a\\u00f1o-mes-d\\u00eda)\": \"2020-04-28\", \"fallecidos confirmados\": 20}, {\"index\": 0, \"Grupo de edad\": \"<=39\", \"fecha (a\\u00f1o-mes-d\\u00eda)\": \"2020-04-29\", \"fallecidos confirmados\": 6}, {\"index\": 1, \"Grupo de edad\": \"40-49\", \"fecha (a\\u00f1o-mes-d\\u00eda)\": \"2020-04-29\", \"fallecidos confirmados\": 9}, {\"index\": 2, \"Grupo de edad\": \"50-59\", \"fecha (a\\u00f1o-mes-d\\u00eda)\": \"2020-04-29\", \"fallecidos confirmados\": 17}, {\"index\": 3, \"Grupo de edad\": \"60-69\", \"fecha (a\\u00f1o-mes-d\\u00eda)\": \"2020-04-29\", \"fallecidos confirmados\": 38}, {\"index\": 4, \"Grupo de edad\": \"70-79\", \"fecha (a\\u00f1o-mes-d\\u00eda)\": \"2020-04-29\", \"fallecidos confirmados\": 60}, {\"index\": 5, \"Grupo de edad\": \"80-89\", \"fecha (a\\u00f1o-mes-d\\u00eda)\": \"2020-04-29\", \"fallecidos confirmados\": 65}, {\"index\": 6, \"Grupo de edad\": \">=90\", \"fecha (a\\u00f1o-mes-d\\u00eda)\": \"2020-04-29\", \"fallecidos confirmados\": 21}, {\"index\": 0, \"Grupo de edad\": \"<=39\", \"fecha (a\\u00f1o-mes-d\\u00eda)\": \"2020-04-30\", \"fallecidos confirmados\": 6}, {\"index\": 1, \"Grupo de edad\": \"40-49\", \"fecha (a\\u00f1o-mes-d\\u00eda)\": \"2020-04-30\", \"fallecidos confirmados\": 10}, {\"index\": 2, \"Grupo de edad\": \"50-59\", \"fecha (a\\u00f1o-mes-d\\u00eda)\": \"2020-04-30\", \"fallecidos confirmados\": 17}, {\"index\": 3, \"Grupo de edad\": \"60-69\", \"fecha (a\\u00f1o-mes-d\\u00eda)\": \"2020-04-30\", \"fallecidos confirmados\": 40}, {\"index\": 4, \"Grupo de edad\": \"70-79\", \"fecha (a\\u00f1o-mes-d\\u00eda)\": \"2020-04-30\", \"fallecidos confirmados\": 65}, {\"index\": 5, \"Grupo de edad\": \"80-89\", \"fecha (a\\u00f1o-mes-d\\u00eda)\": \"2020-04-30\", \"fallecidos confirmados\": 68}, {\"index\": 6, \"Grupo de edad\": \">=90\", \"fecha (a\\u00f1o-mes-d\\u00eda)\": \"2020-04-30\", \"fallecidos confirmados\": 21}, {\"index\": 0, \"Grupo de edad\": \"<=39\", \"fecha (a\\u00f1o-mes-d\\u00eda)\": \"2020-05-01\", \"fallecidos confirmados\": 6}, {\"index\": 1, \"Grupo de edad\": \"40-49\", \"fecha (a\\u00f1o-mes-d\\u00eda)\": \"2020-05-01\", \"fallecidos confirmados\": 10}, {\"index\": 2, \"Grupo de edad\": \"50-59\", \"fecha (a\\u00f1o-mes-d\\u00eda)\": \"2020-05-01\", \"fallecidos confirmados\": 18}, {\"index\": 3, \"Grupo de edad\": \"60-69\", \"fecha (a\\u00f1o-mes-d\\u00eda)\": \"2020-05-01\", \"fallecidos confirmados\": 41}, {\"index\": 4, \"Grupo de edad\": \"70-79\", \"fecha (a\\u00f1o-mes-d\\u00eda)\": \"2020-05-01\", \"fallecidos confirmados\": 68}, {\"index\": 5, \"Grupo de edad\": \"80-89\", \"fecha (a\\u00f1o-mes-d\\u00eda)\": \"2020-05-01\", \"fallecidos confirmados\": 70}, {\"index\": 6, \"Grupo de edad\": \">=90\", \"fecha (a\\u00f1o-mes-d\\u00eda)\": \"2020-05-01\", \"fallecidos confirmados\": 21}]}}, {\"mode\": \"vega-lite\"});\n",
       "</script>"
      ],
      "text/plain": [
       "alt.HConcatChart(...)"
      ]
     },
     "execution_count": 30,
     "metadata": {},
     "output_type": "execute_result"
    }
   ],
   "source": [
    "#hide_input\n",
    "input_dropdown = alt.binding_select(options=data['Grupo de edad'].unique())\n",
    "selection1 = alt.selection_single(fields=['Grupo de edad'], bind=input_dropdown, name=' ')\n",
    "selection2 = alt.selection_multi(fields=['Grupo de edad'], on='mouseover')\n",
    "\n",
    "color = alt.condition(selection1 | selection2,\n",
    "                    alt.Color('Grupo de edad:N', scale=alt.Scale(scheme='tableau20'), legend=None),\n",
    "                    alt.value('lightgray'))\n",
    "\n",
    "bars = alt.Chart(data).mark_bar().encode(\n",
    "    x = 'fecha (año-mes-día):N',\n",
    "    y = 'fallecidos confirmados:Q',\n",
    "    color = color,\n",
    "    tooltip = ['fecha (año-mes-día)', 'Grupo de edad', 'fallecidos confirmados'],\n",
    "    order=alt.Order(\n",
    "    # Sort the segments of the bars by this field\n",
    "    'index',\n",
    "    sort='ascending'\n",
    "    )\n",
    ").add_selection(\n",
    "    selection1, selection2\n",
    ").transform_filter(\n",
    "    selection1\n",
    ")\n",
    "\n",
    "legend = alt.Chart(data).mark_point().encode(\n",
    "    y=alt.Y('Grupo de edad', axis=alt.Axis(orient='right'), sort=grupo_de_edad),\n",
    "    color=color,\n",
    "    order=alt.Order(\n",
    "    # Sort the segments of the bars by this field\n",
    "    'index',\n",
    "    sort='descending'\n",
    "    )\n",
    ").add_selection(\n",
    "    selection1, selection2\n",
    ")\n",
    "\n",
    "bars.properties(\n",
    "    title = 'COVID-19 en Chile: Evolución de fallecidos confirmados por rango de edad',\n",
    "    width = 600\n",
    ") | legend"
   ]
  },
  {
   "cell_type": "code",
   "execution_count": null,
   "metadata": {},
   "outputs": [],
   "source": []
  }
 ],
 "metadata": {
  "kernelspec": {
   "display_name": "Python 3",
   "language": "python",
   "name": "python3"
  },
  "language_info": {
   "codemirror_mode": {
    "name": "ipython",
    "version": 3
   },
   "file_extension": ".py",
   "mimetype": "text/x-python",
   "name": "python",
   "nbconvert_exporter": "python",
   "pygments_lexer": "ipython3",
   "version": "3.7.5"
  }
 },
 "nbformat": 4,
 "nbformat_minor": 2
}
