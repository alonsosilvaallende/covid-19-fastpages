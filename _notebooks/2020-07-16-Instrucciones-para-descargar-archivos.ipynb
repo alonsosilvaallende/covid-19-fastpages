{
 "cells": [
  {
   "cell_type": "markdown",
   "metadata": {},
   "source": [
    "# Instrucciones para descargar archivos\n",
    "> Instrucciones para descargar archivos de defunciones por causa básica de muerte, datos de población por comuna y datos del censo 2002\n",
    "\n",
    "- toc: true \n",
    "- badges: true\n",
    "- comments: true\n",
    "- author: Alonso Silva Allende\n",
    "- categories: [jupyter]\n",
    "- image: images/diagram.png"
   ]
  },
  {
   "cell_type": "markdown",
   "metadata": {},
   "source": [
    "## Datos de defunciones por causa básica de muerte"
   ]
  },
  {
   "cell_type": "markdown",
   "metadata": {},
   "source": [
    "Los datos de defunciones por causa básica de muerte del [Departamento de Estadísticas e Información de Salud (DEIS)](https://deis.minsal.cl/) se pueden descargar en el sitio:\n",
    "\n",
    "> https://deis.minsal.cl/#datosabiertos\n",
    "\n",
    "El archivo se llama \"Datos Informe Estadísticas de Defunciones por Causa Básica de Muerte\"."
   ]
  },
  {
   "cell_type": "markdown",
   "metadata": {},
   "source": [
    "## Datos de población por comuna"
   ]
  },
  {
   "cell_type": "markdown",
   "metadata": {},
   "source": [
    "Los datos del [Institutio Nacional de Estadísticas (INE)](https://www.ine.cl/) se pueden descargar en el sitio:\n",
    "\n",
    "> https://ine.cl/estadisticas/sociales/demografia-y-vitales/proyecciones-de-poblacion\n",
    "\n",
    "- Seleccionar \"Cuadros Estadísticos\"\n",
    "- Seleccionar \"Proyección base 2017\"\n",
    "- Descargar el archivo \"Estimaciones y proyecciones 2002-2035, comunas\""
   ]
  },
  {
   "cell_type": "markdown",
   "metadata": {},
   "source": [
    "## Datos de censo 2002"
   ]
  },
  {
   "cell_type": "markdown",
   "metadata": {},
   "source": [
    "Los datos del [Institutio Nacional de Estadísticas (INE)](https://www.ine.cl/) se pueden descargar en el sitio:\n",
    "\n",
    "> https://ine.cl/estadisticas/sociales/demografia-y-vitales/proyecciones-de-poblacion\n",
    "\n",
    "- Seleccionar \"Cuadros Estadísticos\"\n",
    "- Seleccionar \"Proyecciones anteriores\"\n",
    "- Descargar el archivo \"Base 2002 (2014) país y regiones población total e indicadores\""
   ]
  }
 ],
 "metadata": {
  "kernelspec": {
   "display_name": "Python 3",
   "language": "python",
   "name": "python3"
  },
  "language_info": {
   "codemirror_mode": {
    "name": "ipython",
    "version": 3
   },
   "file_extension": ".py",
   "mimetype": "text/x-python",
   "name": "python",
   "nbconvert_exporter": "python",
   "pygments_lexer": "ipython3",
   "version": "3.8.2"
  }
 },
 "nbformat": 4,
 "nbformat_minor": 4
}
