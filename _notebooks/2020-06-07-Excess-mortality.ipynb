{
 "cells": [
  {
   "cell_type": "markdown",
   "metadata": {},
   "source": [
    "# Exceso de mortalidad en Chile\n",
    "> Exceso de mortalidad en Chile\n",
    "\n",
    "- toc: true \n",
    "- badges: true\n",
    "- comments: true\n",
    "- author: Alonso Silva Allende\n",
    "- categories: [jupyter]\n",
    "- image: images/fallecimientos.png"
   ]
  },
  {
   "cell_type": "code",
   "execution_count": 1,
   "metadata": {
    "colab": {},
    "colab_type": "code",
    "id": "1Xxv_8Y9axUI"
   },
   "outputs": [],
   "source": [
    "#hide\n",
    "import numpy as np\n",
    "import pandas as pd\n",
    "import matplotlib.pyplot as plt\n",
    "import altair as alt\n",
    "import datetime"
   ]
  },
  {
   "cell_type": "code",
   "execution_count": 106,
   "metadata": {},
   "outputs": [],
   "source": [
    "#hide\n",
    "from IPython.display import display, Markdown, display_html, HTML"
   ]
  },
  {
   "cell_type": "code",
   "execution_count": 2,
   "metadata": {
    "colab": {},
    "colab_type": "code",
    "id": "WNhnjKRPa0AC"
   },
   "outputs": [],
   "source": [
    "#hide\n",
    "deaths_raw = pd.read_csv(\n",
    "    \"https://raw.githubusercontent.com/MinCiencia/Datos-COVID19/master/output/producto32/Defunciones.csv\")"
   ]
  },
  {
   "cell_type": "markdown",
   "metadata": {},
   "source": [
    "# Exceso de mortalidad en Chile"
   ]
  },
  {
   "cell_type": "code",
   "execution_count": 3,
   "metadata": {
    "colab": {},
    "colab_type": "code",
    "id": "J7b9IXZXVU4y"
   },
   "outputs": [],
   "source": [
    "#hide\n",
    "deaths = deaths_raw.drop(columns=[\"Region\", \"Codigo region\", \"Comuna\", \"Codigo comuna\"]).sum()"
   ]
  },
  {
   "cell_type": "code",
   "execution_count": 4,
   "metadata": {
    "colab": {
     "base_uri": "https://localhost:8080/",
     "height": 34
    },
    "colab_type": "code",
    "id": "LdPJZBSiVsaQ",
    "outputId": "8e954194-4a07-43b9-b7f1-708de285e406"
   },
   "outputs": [
    {
     "data": {
      "text/plain": [
       "'2020-06-04'"
      ]
     },
     "execution_count": 4,
     "metadata": {},
     "output_type": "execute_result"
    }
   ],
   "source": [
    "#hide\n",
    "# sort rows by date/index\n",
    "deaths.index = pd.to_datetime(deaths.index)\n",
    "deaths = deaths.sort_index()\n",
    "last_day = deaths.index[-1]\n",
    "last_day.strftime(\"%Y-%m-%d\")"
   ]
  },
  {
   "cell_type": "code",
   "execution_count": 23,
   "metadata": {},
   "outputs": [
    {
     "data": {
      "text/plain": [
       "23"
      ]
     },
     "execution_count": 23,
     "metadata": {},
     "output_type": "execute_result"
    }
   ],
   "source": [
    "#hide\n",
    "#Give two days so that they have time to add inscriptions\n",
    "_, current_week, _ = (last_day-pd.DateOffset(2)).isocalendar()\n",
    "current_week"
   ]
  },
  {
   "cell_type": "code",
   "execution_count": 6,
   "metadata": {
    "colab": {},
    "colab_type": "code",
    "id": "PUH-w_ftbA1j"
   },
   "outputs": [],
   "source": [
    "#hide\n",
    "deaths = (deaths\n",
    "          .reset_index()\n",
    "          .rename(columns={\"index\": \"fecha\", 0: \"fallecidos\"})\n",
    "          )"
   ]
  },
  {
   "cell_type": "code",
   "execution_count": 7,
   "metadata": {
    "colab": {},
    "colab_type": "code",
    "id": "d1lY2mLvbidc"
   },
   "outputs": [],
   "source": [
    "#hide\n",
    "def get_isoyear_isoweek(row):\n",
    "    isoyear, isoweek, _ = row[\"fecha\"].isocalendar()\n",
    "    return pd.Series({\"año\": isoyear, \"semana\": isoweek})"
   ]
  },
  {
   "cell_type": "code",
   "execution_count": 8,
   "metadata": {
    "colab": {},
    "colab_type": "code",
    "id": "JePVFAVAb72z"
   },
   "outputs": [],
   "source": [
    "#hide\n",
    "deaths[[\"año\", \"semana\"]] = deaths.apply(get_isoyear_isoweek, axis=\"columns\")"
   ]
  },
  {
   "cell_type": "code",
   "execution_count": 9,
   "metadata": {
    "colab": {},
    "colab_type": "code",
    "id": "yhZw2DjScERS"
   },
   "outputs": [],
   "source": [
    "#hide\n",
    "deaths_year_week = (deaths\n",
    "                    .drop(columns=[\"fecha\"])\n",
    "                    .groupby([\"año\", \"semana\"])\n",
    "                    .sum()\n",
    "                    [\"fallecidos\"]\n",
    "                    .unstack()\n",
    "                    .astype(\"Float16\")\n",
    "                    )"
   ]
  },
  {
   "cell_type": "code",
   "execution_count": 10,
   "metadata": {
    "colab": {},
    "colab_type": "code",
    "id": "UwjXuH4Gcqgm"
   },
   "outputs": [],
   "source": [
    "#hide\n",
    "deaths_year_week = deaths_year_week.iloc[1:,:-1]"
   ]
  },
  {
   "cell_type": "code",
   "execution_count": 11,
   "metadata": {
    "colab": {
     "base_uri": "https://localhost:8080/",
     "height": 446
    },
    "colab_type": "code",
    "id": "Tt8ggjKdcHJP",
    "outputId": "80519779-6d7b-4e56-a9bc-3a377b75c07a",
    "scrolled": false
   },
   "outputs": [
    {
     "data": {
      "text/html": [
       "<div>\n",
       "<style scoped>\n",
       "    .dataframe tbody tr th:only-of-type {\n",
       "        vertical-align: middle;\n",
       "    }\n",
       "\n",
       "    .dataframe tbody tr th {\n",
       "        vertical-align: top;\n",
       "    }\n",
       "\n",
       "    .dataframe thead th {\n",
       "        text-align: right;\n",
       "    }\n",
       "</style>\n",
       "<table border=\"1\" class=\"dataframe\">\n",
       "  <thead>\n",
       "    <tr style=\"text-align: right;\">\n",
       "      <th>semana</th>\n",
       "      <th>1</th>\n",
       "      <th>2</th>\n",
       "      <th>3</th>\n",
       "      <th>4</th>\n",
       "      <th>5</th>\n",
       "      <th>6</th>\n",
       "      <th>7</th>\n",
       "      <th>8</th>\n",
       "      <th>9</th>\n",
       "      <th>10</th>\n",
       "      <th>...</th>\n",
       "      <th>43</th>\n",
       "      <th>44</th>\n",
       "      <th>45</th>\n",
       "      <th>46</th>\n",
       "      <th>47</th>\n",
       "      <th>48</th>\n",
       "      <th>49</th>\n",
       "      <th>50</th>\n",
       "      <th>51</th>\n",
       "      <th>52</th>\n",
       "    </tr>\n",
       "    <tr>\n",
       "      <th>año</th>\n",
       "      <th></th>\n",
       "      <th></th>\n",
       "      <th></th>\n",
       "      <th></th>\n",
       "      <th></th>\n",
       "      <th></th>\n",
       "      <th></th>\n",
       "      <th></th>\n",
       "      <th></th>\n",
       "      <th></th>\n",
       "      <th></th>\n",
       "      <th></th>\n",
       "      <th></th>\n",
       "      <th></th>\n",
       "      <th></th>\n",
       "      <th></th>\n",
       "      <th></th>\n",
       "      <th></th>\n",
       "      <th></th>\n",
       "      <th></th>\n",
       "      <th></th>\n",
       "    </tr>\n",
       "  </thead>\n",
       "  <tbody>\n",
       "    <tr>\n",
       "      <th>2010</th>\n",
       "      <td>1786.0</td>\n",
       "      <td>1672.0</td>\n",
       "      <td>1775.0</td>\n",
       "      <td>1689.0</td>\n",
       "      <td>1687.0</td>\n",
       "      <td>1645.0</td>\n",
       "      <td>1685.0</td>\n",
       "      <td>1641.0</td>\n",
       "      <td>1865.0</td>\n",
       "      <td>1852.0</td>\n",
       "      <td>...</td>\n",
       "      <td>1906.0</td>\n",
       "      <td>1783.0</td>\n",
       "      <td>1722.0</td>\n",
       "      <td>1703.0</td>\n",
       "      <td>1738.0</td>\n",
       "      <td>1617.0</td>\n",
       "      <td>1810.0</td>\n",
       "      <td>1663.0</td>\n",
       "      <td>1725.0</td>\n",
       "      <td>1789.0</td>\n",
       "    </tr>\n",
       "    <tr>\n",
       "      <th>2011</th>\n",
       "      <td>1814.0</td>\n",
       "      <td>1718.0</td>\n",
       "      <td>1743.0</td>\n",
       "      <td>1795.0</td>\n",
       "      <td>1703.0</td>\n",
       "      <td>1618.0</td>\n",
       "      <td>1562.0</td>\n",
       "      <td>1657.0</td>\n",
       "      <td>1679.0</td>\n",
       "      <td>1542.0</td>\n",
       "      <td>...</td>\n",
       "      <td>1837.0</td>\n",
       "      <td>1673.0</td>\n",
       "      <td>1751.0</td>\n",
       "      <td>1714.0</td>\n",
       "      <td>1743.0</td>\n",
       "      <td>1750.0</td>\n",
       "      <td>1720.0</td>\n",
       "      <td>1735.0</td>\n",
       "      <td>1654.0</td>\n",
       "      <td>1911.0</td>\n",
       "    </tr>\n",
       "    <tr>\n",
       "      <th>2012</th>\n",
       "      <td>1937.0</td>\n",
       "      <td>1736.0</td>\n",
       "      <td>1730.0</td>\n",
       "      <td>1717.0</td>\n",
       "      <td>1731.0</td>\n",
       "      <td>1718.0</td>\n",
       "      <td>1669.0</td>\n",
       "      <td>1654.0</td>\n",
       "      <td>1697.0</td>\n",
       "      <td>1767.0</td>\n",
       "      <td>...</td>\n",
       "      <td>1923.0</td>\n",
       "      <td>1670.0</td>\n",
       "      <td>2019.0</td>\n",
       "      <td>1871.0</td>\n",
       "      <td>1728.0</td>\n",
       "      <td>1799.0</td>\n",
       "      <td>1812.0</td>\n",
       "      <td>1657.0</td>\n",
       "      <td>1759.0</td>\n",
       "      <td>1853.0</td>\n",
       "    </tr>\n",
       "    <tr>\n",
       "      <th>2013</th>\n",
       "      <td>1866.0</td>\n",
       "      <td>1855.0</td>\n",
       "      <td>1756.0</td>\n",
       "      <td>1817.0</td>\n",
       "      <td>1729.0</td>\n",
       "      <td>1867.0</td>\n",
       "      <td>1698.0</td>\n",
       "      <td>1643.0</td>\n",
       "      <td>1822.0</td>\n",
       "      <td>1708.0</td>\n",
       "      <td>...</td>\n",
       "      <td>1848.0</td>\n",
       "      <td>1619.0</td>\n",
       "      <td>2038.0</td>\n",
       "      <td>1904.0</td>\n",
       "      <td>1890.0</td>\n",
       "      <td>1756.0</td>\n",
       "      <td>1880.0</td>\n",
       "      <td>1705.0</td>\n",
       "      <td>1917.0</td>\n",
       "      <td>1855.0</td>\n",
       "    </tr>\n",
       "    <tr>\n",
       "      <th>2014</th>\n",
       "      <td>1841.0</td>\n",
       "      <td>1949.0</td>\n",
       "      <td>1852.0</td>\n",
       "      <td>1829.0</td>\n",
       "      <td>1744.0</td>\n",
       "      <td>1683.0</td>\n",
       "      <td>1756.0</td>\n",
       "      <td>1756.0</td>\n",
       "      <td>1701.0</td>\n",
       "      <td>1691.0</td>\n",
       "      <td>...</td>\n",
       "      <td>1934.0</td>\n",
       "      <td>1716.0</td>\n",
       "      <td>2052.0</td>\n",
       "      <td>1967.0</td>\n",
       "      <td>1855.0</td>\n",
       "      <td>1846.0</td>\n",
       "      <td>1910.0</td>\n",
       "      <td>1745.0</td>\n",
       "      <td>1827.0</td>\n",
       "      <td>1822.0</td>\n",
       "    </tr>\n",
       "    <tr>\n",
       "      <th>2015</th>\n",
       "      <td>1796.0</td>\n",
       "      <td>1888.0</td>\n",
       "      <td>1852.0</td>\n",
       "      <td>1792.0</td>\n",
       "      <td>1812.0</td>\n",
       "      <td>1875.0</td>\n",
       "      <td>1829.0</td>\n",
       "      <td>1824.0</td>\n",
       "      <td>1844.0</td>\n",
       "      <td>1703.0</td>\n",
       "      <td>...</td>\n",
       "      <td>1992.0</td>\n",
       "      <td>1619.0</td>\n",
       "      <td>2028.0</td>\n",
       "      <td>2236.0</td>\n",
       "      <td>1949.0</td>\n",
       "      <td>1863.0</td>\n",
       "      <td>1960.0</td>\n",
       "      <td>1915.0</td>\n",
       "      <td>1879.0</td>\n",
       "      <td>1768.0</td>\n",
       "    </tr>\n",
       "    <tr>\n",
       "      <th>2016</th>\n",
       "      <td>2116.0</td>\n",
       "      <td>1858.0</td>\n",
       "      <td>1932.0</td>\n",
       "      <td>1863.0</td>\n",
       "      <td>1910.0</td>\n",
       "      <td>1749.0</td>\n",
       "      <td>1724.0</td>\n",
       "      <td>1836.0</td>\n",
       "      <td>1854.0</td>\n",
       "      <td>1765.0</td>\n",
       "      <td>...</td>\n",
       "      <td>2088.0</td>\n",
       "      <td>1761.0</td>\n",
       "      <td>1927.0</td>\n",
       "      <td>1800.0</td>\n",
       "      <td>1854.0</td>\n",
       "      <td>1874.0</td>\n",
       "      <td>1811.0</td>\n",
       "      <td>1891.0</td>\n",
       "      <td>1788.0</td>\n",
       "      <td>1825.0</td>\n",
       "    </tr>\n",
       "    <tr>\n",
       "      <th>2017</th>\n",
       "      <td>1874.0</td>\n",
       "      <td>1874.0</td>\n",
       "      <td>1958.0</td>\n",
       "      <td>2110.0</td>\n",
       "      <td>1940.0</td>\n",
       "      <td>1815.0</td>\n",
       "      <td>1854.0</td>\n",
       "      <td>1893.0</td>\n",
       "      <td>1830.0</td>\n",
       "      <td>1731.0</td>\n",
       "      <td>...</td>\n",
       "      <td>1800.0</td>\n",
       "      <td>1930.0</td>\n",
       "      <td>1973.0</td>\n",
       "      <td>1816.0</td>\n",
       "      <td>1943.0</td>\n",
       "      <td>1907.0</td>\n",
       "      <td>1737.0</td>\n",
       "      <td>2006.0</td>\n",
       "      <td>2023.0</td>\n",
       "      <td>1936.0</td>\n",
       "    </tr>\n",
       "    <tr>\n",
       "      <th>2018</th>\n",
       "      <td>1861.0</td>\n",
       "      <td>1865.0</td>\n",
       "      <td>1778.0</td>\n",
       "      <td>1779.0</td>\n",
       "      <td>1860.0</td>\n",
       "      <td>1885.0</td>\n",
       "      <td>1868.0</td>\n",
       "      <td>1818.0</td>\n",
       "      <td>1780.0</td>\n",
       "      <td>1904.0</td>\n",
       "      <td>...</td>\n",
       "      <td>2064.0</td>\n",
       "      <td>1761.0</td>\n",
       "      <td>2226.0</td>\n",
       "      <td>1927.0</td>\n",
       "      <td>1986.0</td>\n",
       "      <td>1906.0</td>\n",
       "      <td>1932.0</td>\n",
       "      <td>1907.0</td>\n",
       "      <td>1980.0</td>\n",
       "      <td>1892.0</td>\n",
       "    </tr>\n",
       "    <tr>\n",
       "      <th>2019</th>\n",
       "      <td>1939.0</td>\n",
       "      <td>1889.0</td>\n",
       "      <td>1807.0</td>\n",
       "      <td>1943.0</td>\n",
       "      <td>1932.0</td>\n",
       "      <td>2021.0</td>\n",
       "      <td>1893.0</td>\n",
       "      <td>1936.0</td>\n",
       "      <td>1885.0</td>\n",
       "      <td>1804.0</td>\n",
       "      <td>...</td>\n",
       "      <td>2017.0</td>\n",
       "      <td>1898.0</td>\n",
       "      <td>2222.0</td>\n",
       "      <td>2003.0</td>\n",
       "      <td>2072.0</td>\n",
       "      <td>1960.0</td>\n",
       "      <td>1963.0</td>\n",
       "      <td>1878.0</td>\n",
       "      <td>1893.0</td>\n",
       "      <td>1980.0</td>\n",
       "    </tr>\n",
       "    <tr>\n",
       "      <th>2020</th>\n",
       "      <td>2060.0</td>\n",
       "      <td>2116.0</td>\n",
       "      <td>2060.0</td>\n",
       "      <td>1987.0</td>\n",
       "      <td>2033.0</td>\n",
       "      <td>1906.0</td>\n",
       "      <td>1959.0</td>\n",
       "      <td>1818.0</td>\n",
       "      <td>1855.0</td>\n",
       "      <td>2017.0</td>\n",
       "      <td>...</td>\n",
       "      <td>NaN</td>\n",
       "      <td>NaN</td>\n",
       "      <td>NaN</td>\n",
       "      <td>NaN</td>\n",
       "      <td>NaN</td>\n",
       "      <td>NaN</td>\n",
       "      <td>NaN</td>\n",
       "      <td>NaN</td>\n",
       "      <td>NaN</td>\n",
       "      <td>NaN</td>\n",
       "    </tr>\n",
       "  </tbody>\n",
       "</table>\n",
       "<p>11 rows × 52 columns</p>\n",
       "</div>"
      ],
      "text/plain": [
       "semana      1       2       3       4       5       6       7       8   \\\n",
       "año                                                                      \n",
       "2010    1786.0  1672.0  1775.0  1689.0  1687.0  1645.0  1685.0  1641.0   \n",
       "2011    1814.0  1718.0  1743.0  1795.0  1703.0  1618.0  1562.0  1657.0   \n",
       "2012    1937.0  1736.0  1730.0  1717.0  1731.0  1718.0  1669.0  1654.0   \n",
       "2013    1866.0  1855.0  1756.0  1817.0  1729.0  1867.0  1698.0  1643.0   \n",
       "2014    1841.0  1949.0  1852.0  1829.0  1744.0  1683.0  1756.0  1756.0   \n",
       "2015    1796.0  1888.0  1852.0  1792.0  1812.0  1875.0  1829.0  1824.0   \n",
       "2016    2116.0  1858.0  1932.0  1863.0  1910.0  1749.0  1724.0  1836.0   \n",
       "2017    1874.0  1874.0  1958.0  2110.0  1940.0  1815.0  1854.0  1893.0   \n",
       "2018    1861.0  1865.0  1778.0  1779.0  1860.0  1885.0  1868.0  1818.0   \n",
       "2019    1939.0  1889.0  1807.0  1943.0  1932.0  2021.0  1893.0  1936.0   \n",
       "2020    2060.0  2116.0  2060.0  1987.0  2033.0  1906.0  1959.0  1818.0   \n",
       "\n",
       "semana      9       10  ...      43      44      45      46      47      48  \\\n",
       "año                     ...                                                   \n",
       "2010    1865.0  1852.0  ...  1906.0  1783.0  1722.0  1703.0  1738.0  1617.0   \n",
       "2011    1679.0  1542.0  ...  1837.0  1673.0  1751.0  1714.0  1743.0  1750.0   \n",
       "2012    1697.0  1767.0  ...  1923.0  1670.0  2019.0  1871.0  1728.0  1799.0   \n",
       "2013    1822.0  1708.0  ...  1848.0  1619.0  2038.0  1904.0  1890.0  1756.0   \n",
       "2014    1701.0  1691.0  ...  1934.0  1716.0  2052.0  1967.0  1855.0  1846.0   \n",
       "2015    1844.0  1703.0  ...  1992.0  1619.0  2028.0  2236.0  1949.0  1863.0   \n",
       "2016    1854.0  1765.0  ...  2088.0  1761.0  1927.0  1800.0  1854.0  1874.0   \n",
       "2017    1830.0  1731.0  ...  1800.0  1930.0  1973.0  1816.0  1943.0  1907.0   \n",
       "2018    1780.0  1904.0  ...  2064.0  1761.0  2226.0  1927.0  1986.0  1906.0   \n",
       "2019    1885.0  1804.0  ...  2017.0  1898.0  2222.0  2003.0  2072.0  1960.0   \n",
       "2020    1855.0  2017.0  ...     NaN     NaN     NaN     NaN     NaN     NaN   \n",
       "\n",
       "semana      49      50      51      52  \n",
       "año                                     \n",
       "2010    1810.0  1663.0  1725.0  1789.0  \n",
       "2011    1720.0  1735.0  1654.0  1911.0  \n",
       "2012    1812.0  1657.0  1759.0  1853.0  \n",
       "2013    1880.0  1705.0  1917.0  1855.0  \n",
       "2014    1910.0  1745.0  1827.0  1822.0  \n",
       "2015    1960.0  1915.0  1879.0  1768.0  \n",
       "2016    1811.0  1891.0  1788.0  1825.0  \n",
       "2017    1737.0  2006.0  2023.0  1936.0  \n",
       "2018    1932.0  1907.0  1980.0  1892.0  \n",
       "2019    1963.0  1878.0  1893.0  1980.0  \n",
       "2020       NaN     NaN     NaN     NaN  \n",
       "\n",
       "[11 rows x 52 columns]"
      ]
     },
     "execution_count": 11,
     "metadata": {},
     "output_type": "execute_result"
    }
   ],
   "source": [
    "#hide\n",
    "deaths_year_week"
   ]
  },
  {
   "cell_type": "code",
   "execution_count": 13,
   "metadata": {},
   "outputs": [],
   "source": [
    "#hide\n",
    "deaths_year_week.loc[2020,current_week] = np.NaN"
   ]
  },
  {
   "cell_type": "code",
   "execution_count": 25,
   "metadata": {},
   "outputs": [],
   "source": [
    "#hide\n",
    "expected = deaths_year_week.loc[2015:2019].mean()"
   ]
  },
  {
   "cell_type": "code",
   "execution_count": 26,
   "metadata": {},
   "outputs": [],
   "source": [
    "#hide\n",
    "ci = deaths_year_week.loc[2015:2019].std(ddof=1)"
   ]
  },
  {
   "cell_type": "code",
   "execution_count": 191,
   "metadata": {},
   "outputs": [],
   "source": [
    "#hide\n",
    "df_expected = pd.DataFrame()\n",
    "df_expected[\"Expected\"] = expected\n",
    "df_expected[\"lower\"] = expected - ci\n",
    "df_expected[\"upper\"] = expected + ci\n",
    "df_expected[\"lower 2\"] = expected - 2*ci\n",
    "df_expected[\"upper 2\"] = expected + 2*ci"
   ]
  },
  {
   "cell_type": "code",
   "execution_count": 193,
   "metadata": {},
   "outputs": [
    {
     "data": {
      "text/html": [
       "<div>\n",
       "<style scoped>\n",
       "    .dataframe tbody tr th:only-of-type {\n",
       "        vertical-align: middle;\n",
       "    }\n",
       "\n",
       "    .dataframe tbody tr th {\n",
       "        vertical-align: top;\n",
       "    }\n",
       "\n",
       "    .dataframe thead th {\n",
       "        text-align: right;\n",
       "    }\n",
       "</style>\n",
       "<table border=\"1\" class=\"dataframe\">\n",
       "  <thead>\n",
       "    <tr style=\"text-align: right;\">\n",
       "      <th></th>\n",
       "      <th>Expected</th>\n",
       "      <th>lower</th>\n",
       "      <th>upper</th>\n",
       "      <th>lower 2</th>\n",
       "      <th>upper 2</th>\n",
       "    </tr>\n",
       "    <tr>\n",
       "      <th>semana</th>\n",
       "      <th></th>\n",
       "      <th></th>\n",
       "      <th></th>\n",
       "      <th></th>\n",
       "      <th></th>\n",
       "    </tr>\n",
       "  </thead>\n",
       "  <tbody>\n",
       "    <tr>\n",
       "      <th>1</th>\n",
       "      <td>2009.149791</td>\n",
       "      <td>1869.291341</td>\n",
       "      <td>2149.008242</td>\n",
       "      <td>1729.432890</td>\n",
       "      <td>2288.866693</td>\n",
       "    </tr>\n",
       "    <tr>\n",
       "      <th>2</th>\n",
       "      <td>1964.573910</td>\n",
       "      <td>1919.941011</td>\n",
       "      <td>2009.206809</td>\n",
       "      <td>1875.308113</td>\n",
       "      <td>2053.839708</td>\n",
       "    </tr>\n",
       "  </tbody>\n",
       "</table>\n",
       "</div>"
      ],
      "text/plain": [
       "           Expected        lower        upper      lower 2      upper 2\n",
       "semana                                                                 \n",
       "1       2009.149791  1869.291341  2149.008242  1729.432890  2288.866693\n",
       "2       1964.573910  1919.941011  2009.206809  1875.308113  2053.839708"
      ]
     },
     "execution_count": 193,
     "metadata": {},
     "output_type": "execute_result"
    }
   ],
   "source": [
    "#hide\n",
    "df_expected.head(2)"
   ]
  },
  {
   "cell_type": "code",
   "execution_count": 194,
   "metadata": {
    "scrolled": false
   },
   "outputs": [
    {
     "data": {
      "text/html": [
       "\n",
       "<div id=\"altair-viz-db73216513584d00b4572614150c7c6a\"></div>\n",
       "<script type=\"text/javascript\">\n",
       "  (function(spec, embedOpt){\n",
       "    let outputDiv = document.currentScript.previousElementSibling;\n",
       "    if (outputDiv.id !== \"altair-viz-db73216513584d00b4572614150c7c6a\") {\n",
       "      outputDiv = document.getElementById(\"altair-viz-db73216513584d00b4572614150c7c6a\");\n",
       "    }\n",
       "    const paths = {\n",
       "      \"vega\": \"https://cdn.jsdelivr.net/npm//vega@5?noext\",\n",
       "      \"vega-lib\": \"https://cdn.jsdelivr.net/npm//vega-lib?noext\",\n",
       "      \"vega-lite\": \"https://cdn.jsdelivr.net/npm//vega-lite@4.8.1?noext\",\n",
       "      \"vega-embed\": \"https://cdn.jsdelivr.net/npm//vega-embed@6?noext\",\n",
       "    };\n",
       "\n",
       "    function loadScript(lib) {\n",
       "      return new Promise(function(resolve, reject) {\n",
       "        var s = document.createElement('script');\n",
       "        s.src = paths[lib];\n",
       "        s.async = true;\n",
       "        s.onload = () => resolve(paths[lib]);\n",
       "        s.onerror = () => reject(`Error loading script: ${paths[lib]}`);\n",
       "        document.getElementsByTagName(\"head\")[0].appendChild(s);\n",
       "      });\n",
       "    }\n",
       "\n",
       "    function showError(err) {\n",
       "      outputDiv.innerHTML = `<div class=\"error\" style=\"color:red;\">${err}</div>`;\n",
       "      throw err;\n",
       "    }\n",
       "\n",
       "    function displayChart(vegaEmbed) {\n",
       "      vegaEmbed(outputDiv, spec, embedOpt)\n",
       "        .catch(err => showError(`Javascript Error: ${err.message}<br>This usually means there's a typo in your chart specification. See the javascript console for the full traceback.`));\n",
       "    }\n",
       "\n",
       "    if(typeof define === \"function\" && define.amd) {\n",
       "      requirejs.config({paths});\n",
       "      require([\"vega-embed\"], displayChart, err => showError(`Error loading script: ${err.message}`));\n",
       "    } else if (typeof vegaEmbed === \"function\") {\n",
       "      displayChart(vegaEmbed);\n",
       "    } else {\n",
       "      loadScript(\"vega\")\n",
       "        .then(() => loadScript(\"vega-lite\"))\n",
       "        .then(() => loadScript(\"vega-embed\"))\n",
       "        .catch(showError)\n",
       "        .then(() => displayChart(vegaEmbed));\n",
       "    }\n",
       "  })({\"config\": {\"view\": {\"continuousWidth\": 400, \"continuousHeight\": 300}}, \"layer\": [{\"data\": {\"name\": \"data-55d9f920d87ca93000fad97d4e84ea9f\"}, \"mark\": {\"type\": \"line\", \"point\": true}, \"encoding\": {\"color\": {\"type\": \"nominal\", \"field\": \"a\\u00f1o\", \"scale\": {\"domain\": [\"2010\", \"2011\", \"2012\", \"2013\", \"2014\", \"2015\", \"2016\", \"2017\", \"2018\", \"2019\", \"2020\"], \"range\": [\"lightgray\", \"lightgray\", \"lightgray\", \"lightgray\", \"lightgray\", \"lightgray\", \"lightgray\", \"lightgray\", \"lightgray\", \"lightgray\", \"red\"]}}, \"x\": {\"type\": \"quantitative\", \"field\": \"semana\", \"scale\": {\"domain\": [1, 52]}}, \"y\": {\"type\": \"quantitative\", \"field\": \"defunciones\", \"scale\": {\"domain\": [0, 3500]}}}}, {\"data\": {\"name\": \"data-cd5781f3278eafc8abc1891616ef21ff\"}, \"mark\": {\"type\": \"line\", \"point\": true}, \"encoding\": {\"x\": {\"type\": \"quantitative\", \"field\": \"semana\"}, \"y\": {\"type\": \"quantitative\", \"field\": \"defunciones\"}}}, {\"data\": {\"name\": \"data-60fba3aa1a35dbd372704cf340e49488\"}, \"mark\": {\"type\": \"area\", \"opacity\": 0.5}, \"encoding\": {\"x\": {\"type\": \"quantitative\", \"field\": \"semana\"}, \"y\": {\"type\": \"quantitative\", \"field\": \"lower\"}, \"y2\": {\"field\": \"upper\"}}}, {\"data\": {\"name\": \"data-60fba3aa1a35dbd372704cf340e49488\"}, \"mark\": {\"type\": \"area\", \"opacity\": 0.3}, \"encoding\": {\"x\": {\"type\": \"quantitative\", \"field\": \"semana\"}, \"y\": {\"type\": \"quantitative\", \"field\": \"lower 2\"}, \"y2\": {\"field\": \"upper 2\"}}}, {\"mark\": {\"type\": \"rule\", \"color\": \"#aaa\"}, \"encoding\": {\"x\": {\"type\": \"quantitative\", \"axis\": {\"title\": \"semana\"}, \"field\": \"semana\", \"scale\": {\"domain\": [1, 52]}, \"sort\": null}}, \"transform\": [{\"filter\": {\"selection\": \"selector015\"}}]}, {\"data\": {\"name\": \"data-55d9f920d87ca93000fad97d4e84ea9f\"}, \"mark\": \"circle\", \"encoding\": {\"color\": {\"type\": \"nominal\", \"field\": \"a\\u00f1o\", \"scale\": {\"domain\": [\"2010\", \"2011\", \"2012\", \"2013\", \"2014\", \"2015\", \"2016\", \"2017\", \"2018\", \"2019\", \"2020\"], \"range\": [\"lightgray\", \"lightgray\", \"lightgray\", \"lightgray\", \"lightgray\", \"lightgray\", \"lightgray\", \"lightgray\", \"lightgray\", \"lightgray\", \"red\"]}}, \"opacity\": {\"condition\": {\"value\": 1, \"selection\": \"selector015\"}, \"value\": 0}, \"x\": {\"type\": \"quantitative\", \"field\": \"semana\", \"scale\": {\"domain\": [1, 52]}}, \"y\": {\"type\": \"quantitative\", \"field\": \"defunciones\", \"scale\": {\"domain\": [0, 3500]}}}, \"selection\": {\"selector015\": {\"type\": \"single\", \"encodings\": [\"x\"], \"on\": \"mouseover\", \"nearest\": true, \"empty\": \"none\"}}}, {\"data\": {\"name\": \"data-55d9f920d87ca93000fad97d4e84ea9f\"}, \"mark\": {\"type\": \"text\", \"align\": \"left\", \"dx\": 5, \"dy\": -5, \"stroke\": \"white\", \"strokeWidth\": 2}, \"encoding\": {\"color\": {\"type\": \"nominal\", \"field\": \"a\\u00f1o\", \"scale\": {\"domain\": [\"2010\", \"2011\", \"2012\", \"2013\", \"2014\", \"2015\", \"2016\", \"2017\", \"2018\", \"2019\", \"2020\"], \"range\": [\"lightgray\", \"lightgray\", \"lightgray\", \"lightgray\", \"lightgray\", \"lightgray\", \"lightgray\", \"lightgray\", \"lightgray\", \"lightgray\", \"red\"]}}, \"text\": {\"type\": \"quantitative\", \"field\": \"defunciones\"}, \"x\": {\"type\": \"quantitative\", \"field\": \"semana\", \"scale\": {\"domain\": [1, 52]}}, \"y\": {\"type\": \"quantitative\", \"field\": \"defunciones\", \"scale\": {\"domain\": [0, 3500]}}}, \"transform\": [{\"filter\": {\"selection\": \"selector015\"}}]}, {\"data\": {\"name\": \"data-55d9f920d87ca93000fad97d4e84ea9f\"}, \"mark\": {\"type\": \"text\", \"align\": \"left\", \"dx\": 5, \"dy\": -5}, \"encoding\": {\"color\": {\"type\": \"nominal\", \"field\": \"a\\u00f1o\", \"scale\": {\"domain\": [\"2010\", \"2011\", \"2012\", \"2013\", \"2014\", \"2015\", \"2016\", \"2017\", \"2018\", \"2019\", \"2020\"], \"range\": [\"lightgray\", \"lightgray\", \"lightgray\", \"lightgray\", \"lightgray\", \"lightgray\", \"lightgray\", \"lightgray\", \"lightgray\", \"lightgray\", \"red\"]}}, \"text\": {\"type\": \"quantitative\", \"field\": \"defunciones\"}, \"x\": {\"type\": \"quantitative\", \"field\": \"semana\", \"scale\": {\"domain\": [1, 52]}}, \"y\": {\"type\": \"quantitative\", \"field\": \"defunciones\", \"scale\": {\"domain\": [0, 3500]}}}, \"transform\": [{\"filter\": {\"selection\": \"selector015\"}}]}], \"data\": {\"name\": \"data-55d9f920d87ca93000fad97d4e84ea9f\"}, \"title\": \"Defunciones inscritas en Chile por semana (sin corregir) hasta semana 22\", \"width\": 600, \"$schema\": \"https://vega.github.io/schema/vega-lite/v4.8.1.json\", \"datasets\": {\"data-55d9f920d87ca93000fad97d4e84ea9f\": [{\"a\\u00f1o\": 2010, \"semana\": 1, \"defunciones\": 1786.0}, {\"a\\u00f1o\": 2011, \"semana\": 1, \"defunciones\": 1814.0}, {\"a\\u00f1o\": 2012, \"semana\": 1, \"defunciones\": 1937.0}, {\"a\\u00f1o\": 2013, \"semana\": 1, \"defunciones\": 1866.0}, {\"a\\u00f1o\": 2014, \"semana\": 1, \"defunciones\": 1841.0}, {\"a\\u00f1o\": 2015, \"semana\": 1, \"defunciones\": 1796.0}, {\"a\\u00f1o\": 2016, \"semana\": 1, \"defunciones\": 2116.0}, {\"a\\u00f1o\": 2017, \"semana\": 1, \"defunciones\": 1874.0}, {\"a\\u00f1o\": 2018, \"semana\": 1, \"defunciones\": 1861.0}, {\"a\\u00f1o\": 2019, \"semana\": 1, \"defunciones\": 1939.0}, {\"a\\u00f1o\": 2020, \"semana\": 1, \"defunciones\": 2060.0}, {\"a\\u00f1o\": 2010, \"semana\": 2, \"defunciones\": 1672.0}, {\"a\\u00f1o\": 2011, \"semana\": 2, \"defunciones\": 1718.0}, {\"a\\u00f1o\": 2012, \"semana\": 2, \"defunciones\": 1736.0}, {\"a\\u00f1o\": 2013, \"semana\": 2, \"defunciones\": 1855.0}, {\"a\\u00f1o\": 2014, \"semana\": 2, \"defunciones\": 1949.0}, {\"a\\u00f1o\": 2015, \"semana\": 2, \"defunciones\": 1888.0}, {\"a\\u00f1o\": 2016, \"semana\": 2, \"defunciones\": 1858.0}, {\"a\\u00f1o\": 2017, \"semana\": 2, \"defunciones\": 1874.0}, {\"a\\u00f1o\": 2018, \"semana\": 2, \"defunciones\": 1865.0}, {\"a\\u00f1o\": 2019, \"semana\": 2, \"defunciones\": 1889.0}, {\"a\\u00f1o\": 2020, \"semana\": 2, \"defunciones\": 2116.0}, {\"a\\u00f1o\": 2010, \"semana\": 3, \"defunciones\": 1775.0}, {\"a\\u00f1o\": 2011, \"semana\": 3, \"defunciones\": 1743.0}, {\"a\\u00f1o\": 2012, \"semana\": 3, \"defunciones\": 1730.0}, {\"a\\u00f1o\": 2013, \"semana\": 3, \"defunciones\": 1756.0}, {\"a\\u00f1o\": 2014, \"semana\": 3, \"defunciones\": 1852.0}, {\"a\\u00f1o\": 2015, \"semana\": 3, \"defunciones\": 1852.0}, {\"a\\u00f1o\": 2016, \"semana\": 3, \"defunciones\": 1932.0}, {\"a\\u00f1o\": 2017, \"semana\": 3, \"defunciones\": 1958.0}, {\"a\\u00f1o\": 2018, \"semana\": 3, \"defunciones\": 1778.0}, {\"a\\u00f1o\": 2019, \"semana\": 3, \"defunciones\": 1807.0}, {\"a\\u00f1o\": 2020, \"semana\": 3, \"defunciones\": 2060.0}, {\"a\\u00f1o\": 2010, \"semana\": 4, \"defunciones\": 1689.0}, {\"a\\u00f1o\": 2011, \"semana\": 4, \"defunciones\": 1795.0}, {\"a\\u00f1o\": 2012, \"semana\": 4, \"defunciones\": 1717.0}, {\"a\\u00f1o\": 2013, \"semana\": 4, \"defunciones\": 1817.0}, {\"a\\u00f1o\": 2014, \"semana\": 4, \"defunciones\": 1829.0}, {\"a\\u00f1o\": 2015, \"semana\": 4, \"defunciones\": 1792.0}, {\"a\\u00f1o\": 2016, \"semana\": 4, \"defunciones\": 1863.0}, {\"a\\u00f1o\": 2017, \"semana\": 4, \"defunciones\": 2110.0}, {\"a\\u00f1o\": 2018, \"semana\": 4, \"defunciones\": 1779.0}, {\"a\\u00f1o\": 2019, \"semana\": 4, \"defunciones\": 1943.0}, {\"a\\u00f1o\": 2020, \"semana\": 4, \"defunciones\": 1987.0}, {\"a\\u00f1o\": 2010, \"semana\": 5, \"defunciones\": 1687.0}, {\"a\\u00f1o\": 2011, \"semana\": 5, \"defunciones\": 1703.0}, {\"a\\u00f1o\": 2012, \"semana\": 5, \"defunciones\": 1731.0}, {\"a\\u00f1o\": 2013, \"semana\": 5, \"defunciones\": 1729.0}, {\"a\\u00f1o\": 2014, \"semana\": 5, \"defunciones\": 1744.0}, {\"a\\u00f1o\": 2015, \"semana\": 5, \"defunciones\": 1812.0}, {\"a\\u00f1o\": 2016, \"semana\": 5, \"defunciones\": 1910.0}, {\"a\\u00f1o\": 2017, \"semana\": 5, \"defunciones\": 1940.0}, {\"a\\u00f1o\": 2018, \"semana\": 5, \"defunciones\": 1860.0}, {\"a\\u00f1o\": 2019, \"semana\": 5, \"defunciones\": 1932.0}, {\"a\\u00f1o\": 2020, \"semana\": 5, \"defunciones\": 2033.0}, {\"a\\u00f1o\": 2010, \"semana\": 6, \"defunciones\": 1645.0}, {\"a\\u00f1o\": 2011, \"semana\": 6, \"defunciones\": 1618.0}, {\"a\\u00f1o\": 2012, \"semana\": 6, \"defunciones\": 1718.0}, {\"a\\u00f1o\": 2013, \"semana\": 6, \"defunciones\": 1867.0}, {\"a\\u00f1o\": 2014, \"semana\": 6, \"defunciones\": 1683.0}, {\"a\\u00f1o\": 2015, \"semana\": 6, \"defunciones\": 1875.0}, {\"a\\u00f1o\": 2016, \"semana\": 6, \"defunciones\": 1749.0}, {\"a\\u00f1o\": 2017, \"semana\": 6, \"defunciones\": 1815.0}, {\"a\\u00f1o\": 2018, \"semana\": 6, \"defunciones\": 1885.0}, {\"a\\u00f1o\": 2019, \"semana\": 6, \"defunciones\": 2021.0}, {\"a\\u00f1o\": 2020, \"semana\": 6, \"defunciones\": 1906.0}, {\"a\\u00f1o\": 2010, \"semana\": 7, \"defunciones\": 1685.0}, {\"a\\u00f1o\": 2011, \"semana\": 7, \"defunciones\": 1562.0}, {\"a\\u00f1o\": 2012, \"semana\": 7, \"defunciones\": 1669.0}, {\"a\\u00f1o\": 2013, \"semana\": 7, \"defunciones\": 1698.0}, {\"a\\u00f1o\": 2014, \"semana\": 7, \"defunciones\": 1756.0}, {\"a\\u00f1o\": 2015, \"semana\": 7, \"defunciones\": 1829.0}, {\"a\\u00f1o\": 2016, \"semana\": 7, \"defunciones\": 1724.0}, {\"a\\u00f1o\": 2017, \"semana\": 7, \"defunciones\": 1854.0}, {\"a\\u00f1o\": 2018, \"semana\": 7, \"defunciones\": 1868.0}, {\"a\\u00f1o\": 2019, \"semana\": 7, \"defunciones\": 1893.0}, {\"a\\u00f1o\": 2020, \"semana\": 7, \"defunciones\": 1959.0}, {\"a\\u00f1o\": 2010, \"semana\": 8, \"defunciones\": 1641.0}, {\"a\\u00f1o\": 2011, \"semana\": 8, \"defunciones\": 1657.0}, {\"a\\u00f1o\": 2012, \"semana\": 8, \"defunciones\": 1654.0}, {\"a\\u00f1o\": 2013, \"semana\": 8, \"defunciones\": 1643.0}, {\"a\\u00f1o\": 2014, \"semana\": 8, \"defunciones\": 1756.0}, {\"a\\u00f1o\": 2015, \"semana\": 8, \"defunciones\": 1824.0}, {\"a\\u00f1o\": 2016, \"semana\": 8, \"defunciones\": 1836.0}, {\"a\\u00f1o\": 2017, \"semana\": 8, \"defunciones\": 1893.0}, {\"a\\u00f1o\": 2018, \"semana\": 8, \"defunciones\": 1818.0}, {\"a\\u00f1o\": 2019, \"semana\": 8, \"defunciones\": 1936.0}, {\"a\\u00f1o\": 2020, \"semana\": 8, \"defunciones\": 1818.0}, {\"a\\u00f1o\": 2010, \"semana\": 9, \"defunciones\": 1865.0}, {\"a\\u00f1o\": 2011, \"semana\": 9, \"defunciones\": 1679.0}, {\"a\\u00f1o\": 2012, \"semana\": 9, \"defunciones\": 1697.0}, {\"a\\u00f1o\": 2013, \"semana\": 9, \"defunciones\": 1822.0}, {\"a\\u00f1o\": 2014, \"semana\": 9, \"defunciones\": 1701.0}, {\"a\\u00f1o\": 2015, \"semana\": 9, \"defunciones\": 1844.0}, {\"a\\u00f1o\": 2016, \"semana\": 9, \"defunciones\": 1854.0}, {\"a\\u00f1o\": 2017, \"semana\": 9, \"defunciones\": 1830.0}, {\"a\\u00f1o\": 2018, \"semana\": 9, \"defunciones\": 1780.0}, {\"a\\u00f1o\": 2019, \"semana\": 9, \"defunciones\": 1885.0}, {\"a\\u00f1o\": 2020, \"semana\": 9, \"defunciones\": 1855.0}, {\"a\\u00f1o\": 2010, \"semana\": 10, \"defunciones\": 1852.0}, {\"a\\u00f1o\": 2011, \"semana\": 10, \"defunciones\": 1542.0}, {\"a\\u00f1o\": 2012, \"semana\": 10, \"defunciones\": 1767.0}, {\"a\\u00f1o\": 2013, \"semana\": 10, \"defunciones\": 1708.0}, {\"a\\u00f1o\": 2014, \"semana\": 10, \"defunciones\": 1691.0}, {\"a\\u00f1o\": 2015, \"semana\": 10, \"defunciones\": 1703.0}, {\"a\\u00f1o\": 2016, \"semana\": 10, \"defunciones\": 1765.0}, {\"a\\u00f1o\": 2017, \"semana\": 10, \"defunciones\": 1731.0}, {\"a\\u00f1o\": 2018, \"semana\": 10, \"defunciones\": 1904.0}, {\"a\\u00f1o\": 2019, \"semana\": 10, \"defunciones\": 1804.0}, {\"a\\u00f1o\": 2020, \"semana\": 10, \"defunciones\": 2017.0}, {\"a\\u00f1o\": 2010, \"semana\": 11, \"defunciones\": 1753.0}, {\"a\\u00f1o\": 2011, \"semana\": 11, \"defunciones\": 1557.0}, {\"a\\u00f1o\": 2012, \"semana\": 11, \"defunciones\": 1703.0}, {\"a\\u00f1o\": 2013, \"semana\": 11, \"defunciones\": 1742.0}, {\"a\\u00f1o\": 2014, \"semana\": 11, \"defunciones\": 1699.0}, {\"a\\u00f1o\": 2015, \"semana\": 11, \"defunciones\": 1861.0}, {\"a\\u00f1o\": 2016, \"semana\": 11, \"defunciones\": 1710.0}, {\"a\\u00f1o\": 2017, \"semana\": 11, \"defunciones\": 1747.0}, {\"a\\u00f1o\": 2018, \"semana\": 11, \"defunciones\": 1791.0}, {\"a\\u00f1o\": 2019, \"semana\": 11, \"defunciones\": 1885.0}, {\"a\\u00f1o\": 2020, \"semana\": 11, \"defunciones\": 1962.0}, {\"a\\u00f1o\": 2010, \"semana\": 12, \"defunciones\": 1726.0}, {\"a\\u00f1o\": 2011, \"semana\": 12, \"defunciones\": 1622.0}, {\"a\\u00f1o\": 2012, \"semana\": 12, \"defunciones\": 1645.0}, {\"a\\u00f1o\": 2013, \"semana\": 12, \"defunciones\": 1706.0}, {\"a\\u00f1o\": 2014, \"semana\": 12, \"defunciones\": 1781.0}, {\"a\\u00f1o\": 2015, \"semana\": 12, \"defunciones\": 1803.0}, {\"a\\u00f1o\": 2016, \"semana\": 12, \"defunciones\": 1671.0}, {\"a\\u00f1o\": 2017, \"semana\": 12, \"defunciones\": 1761.0}, {\"a\\u00f1o\": 2018, \"semana\": 12, \"defunciones\": 1848.0}, {\"a\\u00f1o\": 2019, \"semana\": 12, \"defunciones\": 1857.0}, {\"a\\u00f1o\": 2020, \"semana\": 12, \"defunciones\": 1983.0}, {\"a\\u00f1o\": 2010, \"semana\": 13, \"defunciones\": 1513.0}, {\"a\\u00f1o\": 2011, \"semana\": 13, \"defunciones\": 1698.0}, {\"a\\u00f1o\": 2012, \"semana\": 13, \"defunciones\": 1689.0}, {\"a\\u00f1o\": 2013, \"semana\": 13, \"defunciones\": 1616.0}, {\"a\\u00f1o\": 2014, \"semana\": 13, \"defunciones\": 1745.0}, {\"a\\u00f1o\": 2015, \"semana\": 13, \"defunciones\": 1775.0}, {\"a\\u00f1o\": 2016, \"semana\": 13, \"defunciones\": 1851.0}, {\"a\\u00f1o\": 2017, \"semana\": 13, \"defunciones\": 1834.0}, {\"a\\u00f1o\": 2018, \"semana\": 13, \"defunciones\": 1788.0}, {\"a\\u00f1o\": 2019, \"semana\": 13, \"defunciones\": 1842.0}, {\"a\\u00f1o\": 2020, \"semana\": 13, \"defunciones\": 1924.0}, {\"a\\u00f1o\": 2010, \"semana\": 14, \"defunciones\": 1798.0}, {\"a\\u00f1o\": 2011, \"semana\": 14, \"defunciones\": 1745.0}, {\"a\\u00f1o\": 2012, \"semana\": 14, \"defunciones\": 1616.0}, {\"a\\u00f1o\": 2013, \"semana\": 14, \"defunciones\": 1799.0}, {\"a\\u00f1o\": 2014, \"semana\": 14, \"defunciones\": 1789.0}, {\"a\\u00f1o\": 2015, \"semana\": 14, \"defunciones\": 1635.0}, {\"a\\u00f1o\": 2016, \"semana\": 14, \"defunciones\": 1836.0}, {\"a\\u00f1o\": 2017, \"semana\": 14, \"defunciones\": 1868.0}, {\"a\\u00f1o\": 2018, \"semana\": 14, \"defunciones\": 2016.0}, {\"a\\u00f1o\": 2019, \"semana\": 14, \"defunciones\": 1930.0}, {\"a\\u00f1o\": 2020, \"semana\": 14, \"defunciones\": 2019.0}, {\"a\\u00f1o\": 2010, \"semana\": 15, \"defunciones\": 1731.0}, {\"a\\u00f1o\": 2011, \"semana\": 15, \"defunciones\": 1683.0}, {\"a\\u00f1o\": 2012, \"semana\": 15, \"defunciones\": 1899.0}, {\"a\\u00f1o\": 2013, \"semana\": 15, \"defunciones\": 1834.0}, {\"a\\u00f1o\": 2014, \"semana\": 15, \"defunciones\": 1943.0}, {\"a\\u00f1o\": 2015, \"semana\": 15, \"defunciones\": 1920.0}, {\"a\\u00f1o\": 2016, \"semana\": 15, \"defunciones\": 1908.0}, {\"a\\u00f1o\": 2017, \"semana\": 15, \"defunciones\": 1843.0}, {\"a\\u00f1o\": 2018, \"semana\": 15, \"defunciones\": 1969.0}, {\"a\\u00f1o\": 2019, \"semana\": 15, \"defunciones\": 1980.0}, {\"a\\u00f1o\": 2020, \"semana\": 15, \"defunciones\": 1951.0}, {\"a\\u00f1o\": 2010, \"semana\": 16, \"defunciones\": 1695.0}, {\"a\\u00f1o\": 2011, \"semana\": 16, \"defunciones\": 1602.0}, {\"a\\u00f1o\": 2012, \"semana\": 16, \"defunciones\": 1701.0}, {\"a\\u00f1o\": 2013, \"semana\": 16, \"defunciones\": 1763.0}, {\"a\\u00f1o\": 2014, \"semana\": 16, \"defunciones\": 1726.0}, {\"a\\u00f1o\": 2015, \"semana\": 16, \"defunciones\": 1809.0}, {\"a\\u00f1o\": 2016, \"semana\": 16, \"defunciones\": 1880.0}, {\"a\\u00f1o\": 2017, \"semana\": 16, \"defunciones\": 1994.0}, {\"a\\u00f1o\": 2018, \"semana\": 16, \"defunciones\": 1898.0}, {\"a\\u00f1o\": 2019, \"semana\": 16, \"defunciones\": 1913.0}, {\"a\\u00f1o\": 2020, \"semana\": 16, \"defunciones\": 2188.0}, {\"a\\u00f1o\": 2010, \"semana\": 17, \"defunciones\": 1854.0}, {\"a\\u00f1o\": 2011, \"semana\": 17, \"defunciones\": 1850.0}, {\"a\\u00f1o\": 2012, \"semana\": 17, \"defunciones\": 1810.0}, {\"a\\u00f1o\": 2013, \"semana\": 17, \"defunciones\": 1798.0}, {\"a\\u00f1o\": 2014, \"semana\": 17, \"defunciones\": 2116.0}, {\"a\\u00f1o\": 2015, \"semana\": 17, \"defunciones\": 1955.0}, {\"a\\u00f1o\": 2016, \"semana\": 17, \"defunciones\": 1970.0}, {\"a\\u00f1o\": 2017, \"semana\": 17, \"defunciones\": 1958.0}, {\"a\\u00f1o\": 2018, \"semana\": 17, \"defunciones\": 1974.0}, {\"a\\u00f1o\": 2019, \"semana\": 17, \"defunciones\": 2108.0}, {\"a\\u00f1o\": 2020, \"semana\": 17, \"defunciones\": 2088.0}, {\"a\\u00f1o\": 2010, \"semana\": 18, \"defunciones\": 1930.0}, {\"a\\u00f1o\": 2011, \"semana\": 18, \"defunciones\": 1788.0}, {\"a\\u00f1o\": 2012, \"semana\": 18, \"defunciones\": 1868.0}, {\"a\\u00f1o\": 2013, \"semana\": 18, \"defunciones\": 1868.0}, {\"a\\u00f1o\": 2014, \"semana\": 18, \"defunciones\": 1861.0}, {\"a\\u00f1o\": 2015, \"semana\": 18, \"defunciones\": 1805.0}, {\"a\\u00f1o\": 2016, \"semana\": 18, \"defunciones\": 1988.0}, {\"a\\u00f1o\": 2017, \"semana\": 18, \"defunciones\": 1927.0}, {\"a\\u00f1o\": 2018, \"semana\": 18, \"defunciones\": 1960.0}, {\"a\\u00f1o\": 2019, \"semana\": 18, \"defunciones\": 2052.0}, {\"a\\u00f1o\": 2020, \"semana\": 18, \"defunciones\": 1971.0}, {\"a\\u00f1o\": 2010, \"semana\": 19, \"defunciones\": 1846.0}, {\"a\\u00f1o\": 2011, \"semana\": 19, \"defunciones\": 1863.0}, {\"a\\u00f1o\": 2012, \"semana\": 19, \"defunciones\": 1830.0}, {\"a\\u00f1o\": 2013, \"semana\": 19, \"defunciones\": 1817.0}, {\"a\\u00f1o\": 2014, \"semana\": 19, \"defunciones\": 2007.0}, {\"a\\u00f1o\": 2015, \"semana\": 19, \"defunciones\": 2016.0}, {\"a\\u00f1o\": 2016, \"semana\": 19, \"defunciones\": 1910.0}, {\"a\\u00f1o\": 2017, \"semana\": 19, \"defunciones\": 1924.0}, {\"a\\u00f1o\": 2018, \"semana\": 19, \"defunciones\": 1863.0}, {\"a\\u00f1o\": 2019, \"semana\": 19, \"defunciones\": 2048.0}, {\"a\\u00f1o\": 2020, \"semana\": 19, \"defunciones\": 2360.0}, {\"a\\u00f1o\": 2010, \"semana\": 20, \"defunciones\": 1701.0}, {\"a\\u00f1o\": 2011, \"semana\": 20, \"defunciones\": 1828.0}, {\"a\\u00f1o\": 2012, \"semana\": 20, \"defunciones\": 1886.0}, {\"a\\u00f1o\": 2013, \"semana\": 20, \"defunciones\": 1929.0}, {\"a\\u00f1o\": 2014, \"semana\": 20, \"defunciones\": 1807.0}, {\"a\\u00f1o\": 2015, \"semana\": 20, \"defunciones\": 1936.0}, {\"a\\u00f1o\": 2016, \"semana\": 20, \"defunciones\": 2009.0}, {\"a\\u00f1o\": 2017, \"semana\": 20, \"defunciones\": 2015.0}, {\"a\\u00f1o\": 2018, \"semana\": 20, \"defunciones\": 2022.0}, {\"a\\u00f1o\": 2019, \"semana\": 20, \"defunciones\": 2252.0}, {\"a\\u00f1o\": 2020, \"semana\": 20, \"defunciones\": 2416.0}, {\"a\\u00f1o\": 2010, \"semana\": 21, \"defunciones\": 1996.0}, {\"a\\u00f1o\": 2011, \"semana\": 21, \"defunciones\": 1886.0}, {\"a\\u00f1o\": 2012, \"semana\": 21, \"defunciones\": 1917.0}, {\"a\\u00f1o\": 2013, \"semana\": 21, \"defunciones\": 1932.0}, {\"a\\u00f1o\": 2014, \"semana\": 21, \"defunciones\": 1858.0}, {\"a\\u00f1o\": 2015, \"semana\": 21, \"defunciones\": 1943.0}, {\"a\\u00f1o\": 2016, \"semana\": 21, \"defunciones\": 2010.0}, {\"a\\u00f1o\": 2017, \"semana\": 21, \"defunciones\": 2156.0}, {\"a\\u00f1o\": 2018, \"semana\": 21, \"defunciones\": 2052.0}, {\"a\\u00f1o\": 2019, \"semana\": 21, \"defunciones\": 2232.0}, {\"a\\u00f1o\": 2020, \"semana\": 21, \"defunciones\": 2674.0}, {\"a\\u00f1o\": 2010, \"semana\": 22, \"defunciones\": 1947.0}, {\"a\\u00f1o\": 2011, \"semana\": 22, \"defunciones\": 1923.0}, {\"a\\u00f1o\": 2012, \"semana\": 22, \"defunciones\": 1936.0}, {\"a\\u00f1o\": 2013, \"semana\": 22, \"defunciones\": 2021.0}, {\"a\\u00f1o\": 2014, \"semana\": 22, \"defunciones\": 2027.0}, {\"a\\u00f1o\": 2015, \"semana\": 22, \"defunciones\": 2144.0}, {\"a\\u00f1o\": 2016, \"semana\": 22, \"defunciones\": 2056.0}, {\"a\\u00f1o\": 2017, \"semana\": 22, \"defunciones\": 2312.0}, {\"a\\u00f1o\": 2018, \"semana\": 22, \"defunciones\": 2126.0}, {\"a\\u00f1o\": 2019, \"semana\": 22, \"defunciones\": 2374.0}, {\"a\\u00f1o\": 2020, \"semana\": 22, \"defunciones\": 2980.0}, {\"a\\u00f1o\": 2010, \"semana\": 23, \"defunciones\": 1988.0}, {\"a\\u00f1o\": 2011, \"semana\": 23, \"defunciones\": 1988.0}, {\"a\\u00f1o\": 2012, \"semana\": 23, \"defunciones\": 1948.0}, {\"a\\u00f1o\": 2013, \"semana\": 23, \"defunciones\": 1974.0}, {\"a\\u00f1o\": 2014, \"semana\": 23, \"defunciones\": 2026.0}, {\"a\\u00f1o\": 2015, \"semana\": 23, \"defunciones\": 2035.0}, {\"a\\u00f1o\": 2016, \"semana\": 23, \"defunciones\": 2104.0}, {\"a\\u00f1o\": 2017, \"semana\": 23, \"defunciones\": 2356.0}, {\"a\\u00f1o\": 2018, \"semana\": 23, \"defunciones\": 2294.0}, {\"a\\u00f1o\": 2019, \"semana\": 23, \"defunciones\": 2380.0}, {\"a\\u00f1o\": 2020, \"semana\": 23, \"defunciones\": null}, {\"a\\u00f1o\": 2010, \"semana\": 24, \"defunciones\": 2023.0}, {\"a\\u00f1o\": 2011, \"semana\": 24, \"defunciones\": 1953.0}, {\"a\\u00f1o\": 2012, \"semana\": 24, \"defunciones\": 2100.0}, {\"a\\u00f1o\": 2013, \"semana\": 24, \"defunciones\": 2088.0}, {\"a\\u00f1o\": 2014, \"semana\": 24, \"defunciones\": 2212.0}, {\"a\\u00f1o\": 2015, \"semana\": 24, \"defunciones\": 2068.0}, {\"a\\u00f1o\": 2016, \"semana\": 24, \"defunciones\": 2172.0}, {\"a\\u00f1o\": 2017, \"semana\": 24, \"defunciones\": 2602.0}, {\"a\\u00f1o\": 2018, \"semana\": 24, \"defunciones\": 2400.0}, {\"a\\u00f1o\": 2019, \"semana\": 24, \"defunciones\": 2338.0}, {\"a\\u00f1o\": 2020, \"semana\": 24, \"defunciones\": null}, {\"a\\u00f1o\": 2010, \"semana\": 25, \"defunciones\": 1962.0}, {\"a\\u00f1o\": 2011, \"semana\": 25, \"defunciones\": 2112.0}, {\"a\\u00f1o\": 2012, \"semana\": 25, \"defunciones\": 2052.0}, {\"a\\u00f1o\": 2013, \"semana\": 25, \"defunciones\": 2036.0}, {\"a\\u00f1o\": 2014, \"semana\": 25, \"defunciones\": 2384.0}, {\"a\\u00f1o\": 2015, \"semana\": 25, \"defunciones\": 2076.0}, {\"a\\u00f1o\": 2016, \"semana\": 25, \"defunciones\": 2328.0}, {\"a\\u00f1o\": 2017, \"semana\": 25, \"defunciones\": 2744.0}, {\"a\\u00f1o\": 2018, \"semana\": 25, \"defunciones\": 2330.0}, {\"a\\u00f1o\": 2019, \"semana\": 25, \"defunciones\": 2512.0}, {\"a\\u00f1o\": 2020, \"semana\": 25, \"defunciones\": null}, {\"a\\u00f1o\": 2010, \"semana\": 26, \"defunciones\": 2026.0}, {\"a\\u00f1o\": 2011, \"semana\": 26, \"defunciones\": 2020.0}, {\"a\\u00f1o\": 2012, \"semana\": 26, \"defunciones\": 2246.0}, {\"a\\u00f1o\": 2013, \"semana\": 26, \"defunciones\": 2124.0}, {\"a\\u00f1o\": 2014, \"semana\": 26, \"defunciones\": 2174.0}, {\"a\\u00f1o\": 2015, \"semana\": 26, \"defunciones\": 2348.0}, {\"a\\u00f1o\": 2016, \"semana\": 26, \"defunciones\": 2328.0}, {\"a\\u00f1o\": 2017, \"semana\": 26, \"defunciones\": 2376.0}, {\"a\\u00f1o\": 2018, \"semana\": 26, \"defunciones\": 2382.0}, {\"a\\u00f1o\": 2019, \"semana\": 26, \"defunciones\": 2516.0}, {\"a\\u00f1o\": 2020, \"semana\": 26, \"defunciones\": null}, {\"a\\u00f1o\": 2010, \"semana\": 27, \"defunciones\": 2019.0}, {\"a\\u00f1o\": 2011, \"semana\": 27, \"defunciones\": 2246.0}, {\"a\\u00f1o\": 2012, \"semana\": 27, \"defunciones\": 2136.0}, {\"a\\u00f1o\": 2013, \"semana\": 27, \"defunciones\": 2284.0}, {\"a\\u00f1o\": 2014, \"semana\": 27, \"defunciones\": 2432.0}, {\"a\\u00f1o\": 2015, \"semana\": 27, \"defunciones\": 2124.0}, {\"a\\u00f1o\": 2016, \"semana\": 27, \"defunciones\": 2342.0}, {\"a\\u00f1o\": 2017, \"semana\": 27, \"defunciones\": 2498.0}, {\"a\\u00f1o\": 2018, \"semana\": 27, \"defunciones\": 2280.0}, {\"a\\u00f1o\": 2019, \"semana\": 27, \"defunciones\": 2420.0}, {\"a\\u00f1o\": 2020, \"semana\": 27, \"defunciones\": null}, {\"a\\u00f1o\": 2010, \"semana\": 28, \"defunciones\": 1949.0}, {\"a\\u00f1o\": 2011, \"semana\": 28, \"defunciones\": 2094.0}, {\"a\\u00f1o\": 2012, \"semana\": 28, \"defunciones\": 2486.0}, {\"a\\u00f1o\": 2013, \"semana\": 28, \"defunciones\": 2188.0}, {\"a\\u00f1o\": 2014, \"semana\": 28, \"defunciones\": 2512.0}, {\"a\\u00f1o\": 2015, \"semana\": 28, \"defunciones\": 2240.0}, {\"a\\u00f1o\": 2016, \"semana\": 28, \"defunciones\": 2470.0}, {\"a\\u00f1o\": 2017, \"semana\": 28, \"defunciones\": 2346.0}, {\"a\\u00f1o\": 2018, \"semana\": 28, \"defunciones\": 2370.0}, {\"a\\u00f1o\": 2019, \"semana\": 28, \"defunciones\": 2446.0}, {\"a\\u00f1o\": 2020, \"semana\": 28, \"defunciones\": null}, {\"a\\u00f1o\": 2010, \"semana\": 29, \"defunciones\": 2336.0}, {\"a\\u00f1o\": 2011, \"semana\": 29, \"defunciones\": 2098.0}, {\"a\\u00f1o\": 2012, \"semana\": 29, \"defunciones\": 2228.0}, {\"a\\u00f1o\": 2013, \"semana\": 29, \"defunciones\": 2192.0}, {\"a\\u00f1o\": 2014, \"semana\": 29, \"defunciones\": 2538.0}, {\"a\\u00f1o\": 2015, \"semana\": 29, \"defunciones\": 2220.0}, {\"a\\u00f1o\": 2016, \"semana\": 29, \"defunciones\": 2540.0}, {\"a\\u00f1o\": 2017, \"semana\": 29, \"defunciones\": 2458.0}, {\"a\\u00f1o\": 2018, \"semana\": 29, \"defunciones\": 2216.0}, {\"a\\u00f1o\": 2019, \"semana\": 29, \"defunciones\": 2404.0}, {\"a\\u00f1o\": 2020, \"semana\": 29, \"defunciones\": null}, {\"a\\u00f1o\": 2010, \"semana\": 30, \"defunciones\": 2146.0}, {\"a\\u00f1o\": 2011, \"semana\": 30, \"defunciones\": 2096.0}, {\"a\\u00f1o\": 2012, \"semana\": 30, \"defunciones\": 2102.0}, {\"a\\u00f1o\": 2013, \"semana\": 30, \"defunciones\": 2278.0}, {\"a\\u00f1o\": 2014, \"semana\": 30, \"defunciones\": 2232.0}, {\"a\\u00f1o\": 2015, \"semana\": 30, \"defunciones\": 2300.0}, {\"a\\u00f1o\": 2016, \"semana\": 30, \"defunciones\": 2376.0}, {\"a\\u00f1o\": 2017, \"semana\": 30, \"defunciones\": 2308.0}, {\"a\\u00f1o\": 2018, \"semana\": 30, \"defunciones\": 2506.0}, {\"a\\u00f1o\": 2019, \"semana\": 30, \"defunciones\": 2356.0}, {\"a\\u00f1o\": 2020, \"semana\": 30, \"defunciones\": null}, {\"a\\u00f1o\": 2010, \"semana\": 31, \"defunciones\": 2222.0}, {\"a\\u00f1o\": 2011, \"semana\": 31, \"defunciones\": 2140.0}, {\"a\\u00f1o\": 2012, \"semana\": 31, \"defunciones\": 2232.0}, {\"a\\u00f1o\": 2013, \"semana\": 31, \"defunciones\": 2180.0}, {\"a\\u00f1o\": 2014, \"semana\": 31, \"defunciones\": 2432.0}, {\"a\\u00f1o\": 2015, \"semana\": 31, \"defunciones\": 2252.0}, {\"a\\u00f1o\": 2016, \"semana\": 31, \"defunciones\": 2298.0}, {\"a\\u00f1o\": 2017, \"semana\": 31, \"defunciones\": 2324.0}, {\"a\\u00f1o\": 2018, \"semana\": 31, \"defunciones\": 2494.0}, {\"a\\u00f1o\": 2019, \"semana\": 31, \"defunciones\": 2370.0}, {\"a\\u00f1o\": 2020, \"semana\": 31, \"defunciones\": null}, {\"a\\u00f1o\": 2010, \"semana\": 32, \"defunciones\": 2094.0}, {\"a\\u00f1o\": 2011, \"semana\": 32, \"defunciones\": 2094.0}, {\"a\\u00f1o\": 2012, \"semana\": 32, \"defunciones\": 2108.0}, {\"a\\u00f1o\": 2013, \"semana\": 32, \"defunciones\": 2134.0}, {\"a\\u00f1o\": 2014, \"semana\": 32, \"defunciones\": 2162.0}, {\"a\\u00f1o\": 2015, \"semana\": 32, \"defunciones\": 2244.0}, {\"a\\u00f1o\": 2016, \"semana\": 32, \"defunciones\": 2272.0}, {\"a\\u00f1o\": 2017, \"semana\": 32, \"defunciones\": 2244.0}, {\"a\\u00f1o\": 2018, \"semana\": 32, \"defunciones\": 2508.0}, {\"a\\u00f1o\": 2019, \"semana\": 32, \"defunciones\": 2284.0}, {\"a\\u00f1o\": 2020, \"semana\": 32, \"defunciones\": null}, {\"a\\u00f1o\": 2010, \"semana\": 33, \"defunciones\": 2122.0}, {\"a\\u00f1o\": 2011, \"semana\": 33, \"defunciones\": 1881.0}, {\"a\\u00f1o\": 2012, \"semana\": 33, \"defunciones\": 2136.0}, {\"a\\u00f1o\": 2013, \"semana\": 33, \"defunciones\": 2144.0}, {\"a\\u00f1o\": 2014, \"semana\": 33, \"defunciones\": 1901.0}, {\"a\\u00f1o\": 2015, \"semana\": 33, \"defunciones\": 2152.0}, {\"a\\u00f1o\": 2016, \"semana\": 33, \"defunciones\": 2124.0}, {\"a\\u00f1o\": 2017, \"semana\": 33, \"defunciones\": 2196.0}, {\"a\\u00f1o\": 2018, \"semana\": 33, \"defunciones\": 2332.0}, {\"a\\u00f1o\": 2019, \"semana\": 33, \"defunciones\": 2296.0}, {\"a\\u00f1o\": 2020, \"semana\": 33, \"defunciones\": null}, {\"a\\u00f1o\": 2010, \"semana\": 34, \"defunciones\": 2043.0}, {\"a\\u00f1o\": 2011, \"semana\": 34, \"defunciones\": 1922.0}, {\"a\\u00f1o\": 2012, \"semana\": 34, \"defunciones\": 2072.0}, {\"a\\u00f1o\": 2013, \"semana\": 34, \"defunciones\": 2120.0}, {\"a\\u00f1o\": 2014, \"semana\": 34, \"defunciones\": 2256.0}, {\"a\\u00f1o\": 2015, \"semana\": 34, \"defunciones\": 2180.0}, {\"a\\u00f1o\": 2016, \"semana\": 34, \"defunciones\": 2158.0}, {\"a\\u00f1o\": 2017, \"semana\": 34, \"defunciones\": 2116.0}, {\"a\\u00f1o\": 2018, \"semana\": 34, \"defunciones\": 2350.0}, {\"a\\u00f1o\": 2019, \"semana\": 34, \"defunciones\": 2260.0}, {\"a\\u00f1o\": 2020, \"semana\": 34, \"defunciones\": null}, {\"a\\u00f1o\": 2010, \"semana\": 35, \"defunciones\": 2132.0}, {\"a\\u00f1o\": 2011, \"semana\": 35, \"defunciones\": 2020.0}, {\"a\\u00f1o\": 2012, \"semana\": 35, \"defunciones\": 2132.0}, {\"a\\u00f1o\": 2013, \"semana\": 35, \"defunciones\": 1950.0}, {\"a\\u00f1o\": 2014, \"semana\": 35, \"defunciones\": 1978.0}, {\"a\\u00f1o\": 2015, \"semana\": 35, \"defunciones\": 2192.0}, {\"a\\u00f1o\": 2016, \"semana\": 35, \"defunciones\": 2096.0}, {\"a\\u00f1o\": 2017, \"semana\": 35, \"defunciones\": 2144.0}, {\"a\\u00f1o\": 2018, \"semana\": 35, \"defunciones\": 2284.0}, {\"a\\u00f1o\": 2019, \"semana\": 35, \"defunciones\": 2172.0}, {\"a\\u00f1o\": 2020, \"semana\": 35, \"defunciones\": null}, {\"a\\u00f1o\": 2010, \"semana\": 36, \"defunciones\": 2192.0}, {\"a\\u00f1o\": 2011, \"semana\": 36, \"defunciones\": 1951.0}, {\"a\\u00f1o\": 2012, \"semana\": 36, \"defunciones\": 2056.0}, {\"a\\u00f1o\": 2013, \"semana\": 36, \"defunciones\": 1920.0}, {\"a\\u00f1o\": 2014, \"semana\": 36, \"defunciones\": 1966.0}, {\"a\\u00f1o\": 2015, \"semana\": 36, \"defunciones\": 2160.0}, {\"a\\u00f1o\": 2016, \"semana\": 36, \"defunciones\": 2296.0}, {\"a\\u00f1o\": 2017, \"semana\": 36, \"defunciones\": 2144.0}, {\"a\\u00f1o\": 2018, \"semana\": 36, \"defunciones\": 2224.0}, {\"a\\u00f1o\": 2019, \"semana\": 36, \"defunciones\": 2228.0}, {\"a\\u00f1o\": 2020, \"semana\": 36, \"defunciones\": null}, {\"a\\u00f1o\": 2010, \"semana\": 37, \"defunciones\": 2054.0}, {\"a\\u00f1o\": 2011, \"semana\": 37, \"defunciones\": 1991.0}, {\"a\\u00f1o\": 2012, \"semana\": 37, \"defunciones\": 2084.0}, {\"a\\u00f1o\": 2013, \"semana\": 37, \"defunciones\": 1913.0}, {\"a\\u00f1o\": 2014, \"semana\": 37, \"defunciones\": 2021.0}, {\"a\\u00f1o\": 2015, \"semana\": 37, \"defunciones\": 2054.0}, {\"a\\u00f1o\": 2016, \"semana\": 37, \"defunciones\": 2214.0}, {\"a\\u00f1o\": 2017, \"semana\": 37, \"defunciones\": 2328.0}, {\"a\\u00f1o\": 2018, \"semana\": 37, \"defunciones\": 2296.0}, {\"a\\u00f1o\": 2019, \"semana\": 37, \"defunciones\": 2212.0}, {\"a\\u00f1o\": 2020, \"semana\": 37, \"defunciones\": null}, {\"a\\u00f1o\": 2010, \"semana\": 38, \"defunciones\": 2354.0}, {\"a\\u00f1o\": 2011, \"semana\": 38, \"defunciones\": 1837.0}, {\"a\\u00f1o\": 2012, \"semana\": 38, \"defunciones\": 1778.0}, {\"a\\u00f1o\": 2013, \"semana\": 38, \"defunciones\": 1539.0}, {\"a\\u00f1o\": 2014, \"semana\": 38, \"defunciones\": 1731.0}, {\"a\\u00f1o\": 2015, \"semana\": 38, \"defunciones\": 1963.0}, {\"a\\u00f1o\": 2016, \"semana\": 38, \"defunciones\": 2108.0}, {\"a\\u00f1o\": 2017, \"semana\": 38, \"defunciones\": 2072.0}, {\"a\\u00f1o\": 2018, \"semana\": 38, \"defunciones\": 1979.0}, {\"a\\u00f1o\": 2019, \"semana\": 38, \"defunciones\": 1805.0}, {\"a\\u00f1o\": 2020, \"semana\": 38, \"defunciones\": null}, {\"a\\u00f1o\": 2010, \"semana\": 39, \"defunciones\": 2160.0}, {\"a\\u00f1o\": 2011, \"semana\": 39, \"defunciones\": 1843.0}, {\"a\\u00f1o\": 2012, \"semana\": 39, \"defunciones\": 2068.0}, {\"a\\u00f1o\": 2013, \"semana\": 39, \"defunciones\": 2446.0}, {\"a\\u00f1o\": 2014, \"semana\": 39, \"defunciones\": 2336.0}, {\"a\\u00f1o\": 2015, \"semana\": 39, \"defunciones\": 2468.0}, {\"a\\u00f1o\": 2016, \"semana\": 39, \"defunciones\": 2036.0}, {\"a\\u00f1o\": 2017, \"semana\": 39, \"defunciones\": 2184.0}, {\"a\\u00f1o\": 2018, \"semana\": 39, \"defunciones\": 2184.0}, {\"a\\u00f1o\": 2019, \"semana\": 39, \"defunciones\": 2656.0}, {\"a\\u00f1o\": 2020, \"semana\": 39, \"defunciones\": null}, {\"a\\u00f1o\": 2010, \"semana\": 40, \"defunciones\": 2192.0}, {\"a\\u00f1o\": 2011, \"semana\": 40, \"defunciones\": 1775.0}, {\"a\\u00f1o\": 2012, \"semana\": 40, \"defunciones\": 1949.0}, {\"a\\u00f1o\": 2013, \"semana\": 40, \"defunciones\": 2344.0}, {\"a\\u00f1o\": 2014, \"semana\": 40, \"defunciones\": 2056.0}, {\"a\\u00f1o\": 2015, \"semana\": 40, \"defunciones\": 2048.0}, {\"a\\u00f1o\": 2016, \"semana\": 40, \"defunciones\": 2100.0}, {\"a\\u00f1o\": 2017, \"semana\": 40, \"defunciones\": 2176.0}, {\"a\\u00f1o\": 2018, \"semana\": 40, \"defunciones\": 2094.0}, {\"a\\u00f1o\": 2019, \"semana\": 40, \"defunciones\": 2180.0}, {\"a\\u00f1o\": 2020, \"semana\": 40, \"defunciones\": null}, {\"a\\u00f1o\": 2010, \"semana\": 41, \"defunciones\": 1918.0}, {\"a\\u00f1o\": 2011, \"semana\": 41, \"defunciones\": 1669.0}, {\"a\\u00f1o\": 2012, \"semana\": 41, \"defunciones\": 2016.0}, {\"a\\u00f1o\": 2013, \"semana\": 41, \"defunciones\": 2072.0}, {\"a\\u00f1o\": 2014, \"semana\": 41, \"defunciones\": 1923.0}, {\"a\\u00f1o\": 2015, \"semana\": 41, \"defunciones\": 2124.0}, {\"a\\u00f1o\": 2016, \"semana\": 41, \"defunciones\": 1905.0}, {\"a\\u00f1o\": 2017, \"semana\": 41, \"defunciones\": 1964.0}, {\"a\\u00f1o\": 2018, \"semana\": 41, \"defunciones\": 2044.0}, {\"a\\u00f1o\": 2019, \"semana\": 41, \"defunciones\": 2210.0}, {\"a\\u00f1o\": 2020, \"semana\": 41, \"defunciones\": null}, {\"a\\u00f1o\": 2010, \"semana\": 42, \"defunciones\": 1883.0}, {\"a\\u00f1o\": 2011, \"semana\": 42, \"defunciones\": 1845.0}, {\"a\\u00f1o\": 2012, \"semana\": 42, \"defunciones\": 1780.0}, {\"a\\u00f1o\": 2013, \"semana\": 42, \"defunciones\": 1977.0}, {\"a\\u00f1o\": 2014, \"semana\": 42, \"defunciones\": 1894.0}, {\"a\\u00f1o\": 2015, \"semana\": 42, \"defunciones\": 1934.0}, {\"a\\u00f1o\": 2016, \"semana\": 42, \"defunciones\": 1826.0}, {\"a\\u00f1o\": 2017, \"semana\": 42, \"defunciones\": 1982.0}, {\"a\\u00f1o\": 2018, \"semana\": 42, \"defunciones\": 1902.0}, {\"a\\u00f1o\": 2019, \"semana\": 42, \"defunciones\": 2003.0}, {\"a\\u00f1o\": 2020, \"semana\": 42, \"defunciones\": null}, {\"a\\u00f1o\": 2010, \"semana\": 43, \"defunciones\": 1906.0}, {\"a\\u00f1o\": 2011, \"semana\": 43, \"defunciones\": 1837.0}, {\"a\\u00f1o\": 2012, \"semana\": 43, \"defunciones\": 1923.0}, {\"a\\u00f1o\": 2013, \"semana\": 43, \"defunciones\": 1848.0}, {\"a\\u00f1o\": 2014, \"semana\": 43, \"defunciones\": 1934.0}, {\"a\\u00f1o\": 2015, \"semana\": 43, \"defunciones\": 1992.0}, {\"a\\u00f1o\": 2016, \"semana\": 43, \"defunciones\": 2088.0}, {\"a\\u00f1o\": 2017, \"semana\": 43, \"defunciones\": 1800.0}, {\"a\\u00f1o\": 2018, \"semana\": 43, \"defunciones\": 2064.0}, {\"a\\u00f1o\": 2019, \"semana\": 43, \"defunciones\": 2017.0}, {\"a\\u00f1o\": 2020, \"semana\": 43, \"defunciones\": null}, {\"a\\u00f1o\": 2010, \"semana\": 44, \"defunciones\": 1783.0}, {\"a\\u00f1o\": 2011, \"semana\": 44, \"defunciones\": 1673.0}, {\"a\\u00f1o\": 2012, \"semana\": 44, \"defunciones\": 1670.0}, {\"a\\u00f1o\": 2013, \"semana\": 44, \"defunciones\": 1619.0}, {\"a\\u00f1o\": 2014, \"semana\": 44, \"defunciones\": 1716.0}, {\"a\\u00f1o\": 2015, \"semana\": 44, \"defunciones\": 1619.0}, {\"a\\u00f1o\": 2016, \"semana\": 44, \"defunciones\": 1761.0}, {\"a\\u00f1o\": 2017, \"semana\": 44, \"defunciones\": 1930.0}, {\"a\\u00f1o\": 2018, \"semana\": 44, \"defunciones\": 1761.0}, {\"a\\u00f1o\": 2019, \"semana\": 44, \"defunciones\": 1898.0}, {\"a\\u00f1o\": 2020, \"semana\": 44, \"defunciones\": null}, {\"a\\u00f1o\": 2010, \"semana\": 45, \"defunciones\": 1722.0}, {\"a\\u00f1o\": 2011, \"semana\": 45, \"defunciones\": 1751.0}, {\"a\\u00f1o\": 2012, \"semana\": 45, \"defunciones\": 2019.0}, {\"a\\u00f1o\": 2013, \"semana\": 45, \"defunciones\": 2038.0}, {\"a\\u00f1o\": 2014, \"semana\": 45, \"defunciones\": 2052.0}, {\"a\\u00f1o\": 2015, \"semana\": 45, \"defunciones\": 2028.0}, {\"a\\u00f1o\": 2016, \"semana\": 45, \"defunciones\": 1927.0}, {\"a\\u00f1o\": 2017, \"semana\": 45, \"defunciones\": 1973.0}, {\"a\\u00f1o\": 2018, \"semana\": 45, \"defunciones\": 2226.0}, {\"a\\u00f1o\": 2019, \"semana\": 45, \"defunciones\": 2222.0}, {\"a\\u00f1o\": 2020, \"semana\": 45, \"defunciones\": null}, {\"a\\u00f1o\": 2010, \"semana\": 46, \"defunciones\": 1703.0}, {\"a\\u00f1o\": 2011, \"semana\": 46, \"defunciones\": 1714.0}, {\"a\\u00f1o\": 2012, \"semana\": 46, \"defunciones\": 1871.0}, {\"a\\u00f1o\": 2013, \"semana\": 46, \"defunciones\": 1904.0}, {\"a\\u00f1o\": 2014, \"semana\": 46, \"defunciones\": 1967.0}, {\"a\\u00f1o\": 2015, \"semana\": 46, \"defunciones\": 2236.0}, {\"a\\u00f1o\": 2016, \"semana\": 46, \"defunciones\": 1800.0}, {\"a\\u00f1o\": 2017, \"semana\": 46, \"defunciones\": 1816.0}, {\"a\\u00f1o\": 2018, \"semana\": 46, \"defunciones\": 1927.0}, {\"a\\u00f1o\": 2019, \"semana\": 46, \"defunciones\": 2003.0}, {\"a\\u00f1o\": 2020, \"semana\": 46, \"defunciones\": null}, {\"a\\u00f1o\": 2010, \"semana\": 47, \"defunciones\": 1738.0}, {\"a\\u00f1o\": 2011, \"semana\": 47, \"defunciones\": 1743.0}, {\"a\\u00f1o\": 2012, \"semana\": 47, \"defunciones\": 1728.0}, {\"a\\u00f1o\": 2013, \"semana\": 47, \"defunciones\": 1890.0}, {\"a\\u00f1o\": 2014, \"semana\": 47, \"defunciones\": 1855.0}, {\"a\\u00f1o\": 2015, \"semana\": 47, \"defunciones\": 1949.0}, {\"a\\u00f1o\": 2016, \"semana\": 47, \"defunciones\": 1854.0}, {\"a\\u00f1o\": 2017, \"semana\": 47, \"defunciones\": 1943.0}, {\"a\\u00f1o\": 2018, \"semana\": 47, \"defunciones\": 1986.0}, {\"a\\u00f1o\": 2019, \"semana\": 47, \"defunciones\": 2072.0}, {\"a\\u00f1o\": 2020, \"semana\": 47, \"defunciones\": null}, {\"a\\u00f1o\": 2010, \"semana\": 48, \"defunciones\": 1617.0}, {\"a\\u00f1o\": 2011, \"semana\": 48, \"defunciones\": 1750.0}, {\"a\\u00f1o\": 2012, \"semana\": 48, \"defunciones\": 1799.0}, {\"a\\u00f1o\": 2013, \"semana\": 48, \"defunciones\": 1756.0}, {\"a\\u00f1o\": 2014, \"semana\": 48, \"defunciones\": 1846.0}, {\"a\\u00f1o\": 2015, \"semana\": 48, \"defunciones\": 1863.0}, {\"a\\u00f1o\": 2016, \"semana\": 48, \"defunciones\": 1874.0}, {\"a\\u00f1o\": 2017, \"semana\": 48, \"defunciones\": 1907.0}, {\"a\\u00f1o\": 2018, \"semana\": 48, \"defunciones\": 1906.0}, {\"a\\u00f1o\": 2019, \"semana\": 48, \"defunciones\": 1960.0}, {\"a\\u00f1o\": 2020, \"semana\": 48, \"defunciones\": null}, {\"a\\u00f1o\": 2010, \"semana\": 49, \"defunciones\": 1810.0}, {\"a\\u00f1o\": 2011, \"semana\": 49, \"defunciones\": 1720.0}, {\"a\\u00f1o\": 2012, \"semana\": 49, \"defunciones\": 1812.0}, {\"a\\u00f1o\": 2013, \"semana\": 49, \"defunciones\": 1880.0}, {\"a\\u00f1o\": 2014, \"semana\": 49, \"defunciones\": 1910.0}, {\"a\\u00f1o\": 2015, \"semana\": 49, \"defunciones\": 1960.0}, {\"a\\u00f1o\": 2016, \"semana\": 49, \"defunciones\": 1811.0}, {\"a\\u00f1o\": 2017, \"semana\": 49, \"defunciones\": 1737.0}, {\"a\\u00f1o\": 2018, \"semana\": 49, \"defunciones\": 1932.0}, {\"a\\u00f1o\": 2019, \"semana\": 49, \"defunciones\": 1963.0}, {\"a\\u00f1o\": 2020, \"semana\": 49, \"defunciones\": null}, {\"a\\u00f1o\": 2010, \"semana\": 50, \"defunciones\": 1663.0}, {\"a\\u00f1o\": 2011, \"semana\": 50, \"defunciones\": 1735.0}, {\"a\\u00f1o\": 2012, \"semana\": 50, \"defunciones\": 1657.0}, {\"a\\u00f1o\": 2013, \"semana\": 50, \"defunciones\": 1705.0}, {\"a\\u00f1o\": 2014, \"semana\": 50, \"defunciones\": 1745.0}, {\"a\\u00f1o\": 2015, \"semana\": 50, \"defunciones\": 1915.0}, {\"a\\u00f1o\": 2016, \"semana\": 50, \"defunciones\": 1891.0}, {\"a\\u00f1o\": 2017, \"semana\": 50, \"defunciones\": 2006.0}, {\"a\\u00f1o\": 2018, \"semana\": 50, \"defunciones\": 1907.0}, {\"a\\u00f1o\": 2019, \"semana\": 50, \"defunciones\": 1878.0}, {\"a\\u00f1o\": 2020, \"semana\": 50, \"defunciones\": null}, {\"a\\u00f1o\": 2010, \"semana\": 51, \"defunciones\": 1725.0}, {\"a\\u00f1o\": 2011, \"semana\": 51, \"defunciones\": 1654.0}, {\"a\\u00f1o\": 2012, \"semana\": 51, \"defunciones\": 1759.0}, {\"a\\u00f1o\": 2013, \"semana\": 51, \"defunciones\": 1917.0}, {\"a\\u00f1o\": 2014, \"semana\": 51, \"defunciones\": 1827.0}, {\"a\\u00f1o\": 2015, \"semana\": 51, \"defunciones\": 1879.0}, {\"a\\u00f1o\": 2016, \"semana\": 51, \"defunciones\": 1788.0}, {\"a\\u00f1o\": 2017, \"semana\": 51, \"defunciones\": 2023.0}, {\"a\\u00f1o\": 2018, \"semana\": 51, \"defunciones\": 1980.0}, {\"a\\u00f1o\": 2019, \"semana\": 51, \"defunciones\": 1893.0}, {\"a\\u00f1o\": 2020, \"semana\": 51, \"defunciones\": null}, {\"a\\u00f1o\": 2010, \"semana\": 52, \"defunciones\": 1789.0}, {\"a\\u00f1o\": 2011, \"semana\": 52, \"defunciones\": 1911.0}, {\"a\\u00f1o\": 2012, \"semana\": 52, \"defunciones\": 1853.0}, {\"a\\u00f1o\": 2013, \"semana\": 52, \"defunciones\": 1855.0}, {\"a\\u00f1o\": 2014, \"semana\": 52, \"defunciones\": 1822.0}, {\"a\\u00f1o\": 2015, \"semana\": 52, \"defunciones\": 1768.0}, {\"a\\u00f1o\": 2016, \"semana\": 52, \"defunciones\": 1825.0}, {\"a\\u00f1o\": 2017, \"semana\": 52, \"defunciones\": 1936.0}, {\"a\\u00f1o\": 2018, \"semana\": 52, \"defunciones\": 1892.0}, {\"a\\u00f1o\": 2019, \"semana\": 52, \"defunciones\": 1980.0}, {\"a\\u00f1o\": 2020, \"semana\": 52, \"defunciones\": null}], \"data-cd5781f3278eafc8abc1891616ef21ff\": [{\"semana\": 1, \"defunciones\": 2009.1497914840038}, {\"semana\": 2, \"defunciones\": 1964.5739101846186}, {\"semana\": 3, \"defunciones\": 1955.3283217716205}, {\"semana\": 4, \"defunciones\": 1987.114440434701}, {\"semana\": 5, \"defunciones\": 1980.7242144586846}, {\"semana\": 6, \"defunciones\": 1957.2024796198725}, {\"semana\": 7, \"defunciones\": 1920.5468509495036}, {\"semana\": 8, \"defunciones\": 1949.80812293199}, {\"semana\": 9, \"defunciones\": 1926.5892149780434}, {\"semana\": 10, \"defunciones\": 1866.0110855971554}, {\"semana\": 11, \"defunciones\": 1884.5426170702638}, {\"semana\": 12, \"defunciones\": 1872.8224461310933}, {\"semana\": 13, \"defunciones\": 1904.8590546970972}, {\"semana\": 14, \"defunciones\": 1943.911903652074}, {\"semana\": 15, \"defunciones\": 2015.8130358028873}, {\"semana\": 16, \"defunciones\": 1988.9586288988787}, {\"semana\": 17, \"defunciones\": 2087.5277160402343}, {\"semana\": 18, \"defunciones\": 2038.340853639756}, {\"semana\": 19, \"defunciones\": 2045.4969825633957}, {\"semana\": 20, \"defunciones\": 2142.8430459957967}, {\"semana\": 21, \"defunciones\": 2176.0727672695807}, {\"semana\": 22, \"defunciones\": 2305.847898974723}, {\"semana\": 23, \"defunciones\": 2337.9637994659192}, {\"semana\": 24, \"defunciones\": 2424.2833493650032}, {\"semana\": 25, \"defunciones\": 2509.5897439837327}, {\"semana\": 26, \"defunciones\": 2503.2573835233934}, {\"semana\": 27, \"defunciones\": 2442.6642194254114}, {\"semana\": 28, \"defunciones\": 2487.3618193321668}, {\"semana\": 29, \"defunciones\": 2480.7050261837153}, {\"semana\": 30, \"defunciones\": 2482.352642611642}, {\"semana\": 31, \"defunciones\": 2459.041447483016}, {\"semana\": 32, \"defunciones\": 2420.585440589874}, {\"semana\": 33, \"defunciones\": 2325.004394288836}, {\"semana\": 34, \"defunciones\": 2318.0899589326086}, {\"semana\": 35, \"defunciones\": 2281.6589457952514}, {\"semana\": 36, \"defunciones\": 2316.33561366981}, {\"semana\": 37, \"defunciones\": 2326.0172467031794}, {\"semana\": 38, \"defunciones\": 2081.9374112216806}, {\"semana\": 39, \"defunciones\": 2414.0481382345224}, {\"semana\": 40, \"defunciones\": 2220.235339126869}, {\"semana\": 41, \"defunciones\": 2146.571112557157}, {\"semana\": 42, \"defunciones\": 2020.9571492189175}, {\"semana\": 43, \"defunciones\": 2088.0788729235815}, {\"semana\": 44, \"defunciones\": 1877.7751228756383}, {\"semana\": 45, \"defunciones\": 2172.790085136582}, {\"semana\": 46, \"defunciones\": 2051.113725157708}, {\"semana\": 47, \"defunciones\": 2053.546616529872}, {\"semana\": 48, \"defunciones\": 1992.4187751611232}, {\"semana\": 49, \"defunciones\": 1970.523455534551}, {\"semana\": 50, \"defunciones\": 2011.3933419932673}, {\"semana\": 51, \"defunciones\": 2003.434970970537}, {\"semana\": 52, \"defunciones\": 1968.682816581574}], \"data-60fba3aa1a35dbd372704cf340e49488\": [{\"semana\": 1, \"Expected\": 2009.1497914840038, \"lower\": 1869.2913405194276, \"upper\": 2149.00824244858, \"lower 2\": 1729.4328895548515, \"upper 2\": 2288.866693413156}, {\"semana\": 2, \"Expected\": 1964.5739101846186, \"lower\": 1919.941011351786, \"upper\": 2009.2068090174512, \"lower 2\": 1875.3081125189535, \"upper 2\": 2053.839707850284}, {\"semana\": 3, \"Expected\": 1955.3283217716205, \"lower\": 1849.3217802468405, \"upper\": 2061.3348632964007, \"lower 2\": 1743.3152387220603, \"upper 2\": 2167.3414048211807}, {\"semana\": 4, \"Expected\": 1987.114440434701, \"lower\": 1859.8439771601804, \"upper\": 2114.3849037092214, \"lower 2\": 1732.57351388566, \"upper 2\": 2241.655366983742}, {\"semana\": 5, \"Expected\": 1980.7242144586846, \"lower\": 1936.162056471881, \"upper\": 2025.2863724454883, \"lower 2\": 1891.5998984850773, \"upper 2\": 2069.848530432292}, {\"semana\": 6, \"Expected\": 1957.2024796198725, \"lower\": 1876.8865251264638, \"upper\": 2037.5184341132813, \"lower 2\": 1796.570570633055, \"upper 2\": 2117.83438860669}, {\"semana\": 7, \"Expected\": 1920.5468509495036, \"lower\": 1871.8371354133722, \"upper\": 1969.256566485635, \"lower 2\": 1823.1274198772405, \"upper 2\": 2017.9662820217666}, {\"semana\": 8, \"Expected\": 1949.80812293199, \"lower\": 1917.439341243288, \"upper\": 1982.176904620692, \"lower 2\": 1885.0705595545862, \"upper 2\": 2014.545686309394}, {\"semana\": 9, \"Expected\": 1926.5892149780434, \"lower\": 1871.063734644002, \"upper\": 1982.114695312085, \"lower 2\": 1815.5382543099604, \"upper 2\": 2037.6401756461264}, {\"semana\": 10, \"Expected\": 1866.0110855971554, \"lower\": 1794.745569132942, \"upper\": 1937.276602061369, \"lower 2\": 1723.4800526687286, \"upper 2\": 2008.5421185255823}, {\"semana\": 11, \"Expected\": 1884.5426170702638, \"lower\": 1807.7602675083695, \"upper\": 1961.324966632158, \"lower 2\": 1730.9779179464751, \"upper 2\": 2038.1073161940524}, {\"semana\": 12, \"Expected\": 1872.8224461310933, \"lower\": 1807.3926977174833, \"upper\": 1938.2521945447033, \"lower 2\": 1741.9629493038733, \"upper 2\": 2003.6819429583134}, {\"semana\": 13, \"Expected\": 1904.8590546970972, \"lower\": 1859.6931781753447, \"upper\": 1950.0249312188498, \"lower 2\": 1814.527301653592, \"upper 2\": 1995.1908077406024}, {\"semana\": 14, \"Expected\": 1943.911903652074, \"lower\": 1823.445783700582, \"upper\": 2064.378023603566, \"lower 2\": 1702.9796637490904, \"upper 2\": 2184.8441435550576}, {\"semana\": 15, \"Expected\": 2015.8130358028873, \"lower\": 1956.520469528787, \"upper\": 2075.1056020769875, \"lower 2\": 1897.227903254687, \"upper 2\": 2134.398168351088}, {\"semana\": 16, \"Expected\": 1988.9586288988787, \"lower\": 1935.2030380617357, \"upper\": 2042.7142197360217, \"lower 2\": 1881.4474472245927, \"upper 2\": 2096.4698105731645}, {\"semana\": 17, \"Expected\": 2087.5277160402343, \"lower\": 2045.7239706615474, \"upper\": 2129.331461418921, \"lower 2\": 2003.9202252828602, \"upper 2\": 2171.135206797608}, {\"semana\": 18, \"Expected\": 2038.340853639756, \"lower\": 1969.13231243235, \"upper\": 2107.5493948471617, \"lower 2\": 1899.9237712249442, \"upper 2\": 2176.757936054568}, {\"semana\": 19, \"Expected\": 2045.4969825633957, \"lower\": 1958.734511452502, \"upper\": 2132.2594536742895, \"lower 2\": 1871.9720403416081, \"upper 2\": 2219.0219247851833}, {\"semana\": 20, \"Expected\": 2142.8430459957967, \"lower\": 2059.6704150082483, \"upper\": 2226.015676983345, \"lower 2\": 1976.4977840207, \"upper 2\": 2309.188307970893}, {\"semana\": 21, \"Expected\": 2176.0727672695807, \"lower\": 2101.7743973203997, \"upper\": 2250.3711372187618, \"lower 2\": 2027.4760273712186, \"upper 2\": 2324.669507167943}, {\"semana\": 22, \"Expected\": 2305.847898974723, \"lower\": 2203.7961135805685, \"upper\": 2407.899684368878, \"lower 2\": 2101.7443281864134, \"upper 2\": 2509.951469763033}, {\"semana\": 23, \"Expected\": 2337.9637994659192, \"lower\": 2224.6911072989174, \"upper\": 2451.236491632921, \"lower 2\": 2111.418415131916, \"upper 2\": 2564.5091837999225}, {\"semana\": 24, \"Expected\": 2424.2833493650032, \"lower\": 2238.7194670591466, \"upper\": 2609.84723167086, \"lower 2\": 2053.15558475329, \"upper 2\": 2795.4111139767165}, {\"semana\": 25, \"Expected\": 2509.5897439837327, \"lower\": 2284.2900771593077, \"upper\": 2734.8894108081577, \"lower 2\": 2058.9904103348827, \"upper 2\": 2960.1890776325827}, {\"semana\": 26, \"Expected\": 2503.2573835233934, \"lower\": 2467.2861553775633, \"upper\": 2539.2286116692235, \"lower 2\": 2431.314927231733, \"upper 2\": 2575.199839815054}, {\"semana\": 27, \"Expected\": 2442.6642194254114, \"lower\": 2323.7136693667285, \"upper\": 2561.6147694840943, \"lower 2\": 2204.7631193080456, \"upper 2\": 2680.565319542777}, {\"semana\": 28, \"Expected\": 2487.3618193321668, \"lower\": 2399.9719655218814, \"upper\": 2574.751673142452, \"lower 2\": 2312.582111711596, \"upper 2\": 2662.1415269527374}, {\"semana\": 29, \"Expected\": 2480.7050261837153, \"lower\": 2323.579255670624, \"upper\": 2637.8307966968064, \"lower 2\": 2166.4534851575336, \"upper 2\": 2794.956567209897}, {\"semana\": 30, \"Expected\": 2482.352642611642, \"lower\": 2390.5167342371956, \"upper\": 2574.188550986088, \"lower 2\": 2298.680825862749, \"upper 2\": 2666.024459360535}, {\"semana\": 31, \"Expected\": 2459.041447483016, \"lower\": 2380.6780451951886, \"upper\": 2537.404849770843, \"lower 2\": 2302.3146429073613, \"upper 2\": 2615.7682520586704}, {\"semana\": 32, \"Expected\": 2420.585440589874, \"lower\": 2304.3425528899684, \"upper\": 2536.8283282897796, \"lower 2\": 2188.0996651900628, \"upper 2\": 2653.0712159896852}, {\"semana\": 33, \"Expected\": 2325.004394288836, \"lower\": 2262.43848628383, \"upper\": 2387.570302293842, \"lower 2\": 2199.8725782788238, \"upper 2\": 2450.1362102988483}, {\"semana\": 34, \"Expected\": 2318.0899589326086, \"lower\": 2228.8898771346835, \"upper\": 2407.2900407305337, \"lower 2\": 2139.6897953367584, \"upper 2\": 2496.490122528459}, {\"semana\": 35, \"Expected\": 2281.6589457952514, \"lower\": 2201.222735323409, \"upper\": 2362.095156267094, \"lower 2\": 2120.786524851567, \"upper 2\": 2442.531366738936}, {\"semana\": 36, \"Expected\": 2316.33561366981, \"lower\": 2231.8695347802636, \"upper\": 2400.801692559356, \"lower 2\": 2147.4034558907174, \"upper 2\": 2485.2677714489023}, {\"semana\": 37, \"Expected\": 2326.0172467031794, \"lower\": 2233.7640281962, \"upper\": 2418.270465210159, \"lower 2\": 2141.5108096892204, \"upper 2\": 2510.5236837171383}, {\"semana\": 38, \"Expected\": 2081.9374112216806, \"lower\": 1926.0625410595217, \"upper\": 2237.8122813838395, \"lower 2\": 1770.1876708973625, \"upper 2\": 2393.687151545999}, {\"semana\": 39, \"Expected\": 2414.0481382345224, \"lower\": 2170.562387391355, \"upper\": 2657.5338890776898, \"lower 2\": 1927.0766365481875, \"upper 2\": 2901.019639920857}, {\"semana\": 40, \"Expected\": 2220.235339126869, \"lower\": 2187.8491700943605, \"upper\": 2252.6215081593773, \"lower 2\": 2155.4630010618516, \"upper 2\": 2285.007677191886}, {\"semana\": 41, \"Expected\": 2146.571112557157, \"lower\": 2031.2997363315103, \"upper\": 2261.8424887828037, \"lower 2\": 1916.0283601058636, \"upper 2\": 2377.1138650084504}, {\"semana\": 42, \"Expected\": 2020.9571492189175, \"lower\": 1965.2028872080743, \"upper\": 2076.7114112297604, \"lower 2\": 1909.4486251972312, \"upper 2\": 2132.465673240604}, {\"semana\": 43, \"Expected\": 2088.0788729235815, \"lower\": 1951.248618035359, \"upper\": 2224.909127811804, \"lower 2\": 1814.4183631471365, \"upper 2\": 2361.7393827000265}, {\"semana\": 44, \"Expected\": 1877.7751228756383, \"lower\": 1778.6899001963222, \"upper\": 1976.8603455549544, \"lower 2\": 1679.604677517006, \"upper 2\": 2075.9455682342705}, {\"semana\": 45, \"Expected\": 2172.790085136582, \"lower\": 2054.5434382379176, \"upper\": 2291.0367320352466, \"lower 2\": 1936.2967913392529, \"upper 2\": 2409.2833789339115}, {\"semana\": 46, \"Expected\": 2051.113725157708, \"lower\": 1843.3674814478397, \"upper\": 2258.8599688675763, \"lower 2\": 1635.6212377379713, \"upper 2\": 2466.6062125774442}, {\"semana\": 47, \"Expected\": 2053.546616529872, \"lower\": 2000.2050827990222, \"upper\": 2106.8881502607223, \"lower 2\": 1946.863549068172, \"upper 2\": 2160.229683991572}, {\"semana\": 48, \"Expected\": 1992.4187751611232, \"lower\": 1982.40160590239, \"upper\": 2002.4359444198565, \"lower 2\": 1972.3844366436565, \"upper 2\": 2012.45311367859}, {\"semana\": 49, \"Expected\": 1970.523455534551, \"lower\": 1858.7031788229765, \"upper\": 2082.3437322461255, \"lower 2\": 1746.8829021114022, \"upper 2\": 2194.1640089577}, {\"semana\": 50, \"Expected\": 2011.3933419932673, \"lower\": 1940.92617327754, \"upper\": 2081.8605107089943, \"lower 2\": 1870.459004561813, \"upper 2\": 2152.3276794247217}, {\"semana\": 51, \"Expected\": 2003.434970970537, \"lower\": 1917.5620635258324, \"upper\": 2089.3078784152417, \"lower 2\": 1831.6891560811277, \"upper 2\": 2175.1807858599464}, {\"semana\": 52, \"Expected\": 1968.682816581574, \"lower\": 1922.8768680908126, \"upper\": 2014.4887650723351, \"lower 2\": 1877.0709196000516, \"upper 2\": 2060.294713563096}]}}, {\"mode\": \"vega-lite\"});\n",
       "</script>"
      ],
      "text/plain": [
       "alt.LayerChart(...)"
      ]
     },
     "execution_count": 194,
     "metadata": {},
     "output_type": "execute_result"
    }
   ],
   "source": [
    "#hide_input\n",
    "label = alt.selection_single(\n",
    "    encodings=['x'], # limit selection to x-axis value\n",
    "    on='mouseover',  # select on mouseover events\n",
    "    nearest=True,    # select data point nearest the cursor\n",
    "    empty='none'     # empty selection includes no data points\n",
    ")\n",
    "\n",
    "base = alt.Chart(deaths_year_week.reset_index().melt(\"año\", value_name=\"defunciones\")).mark_line(point=True).encode(\n",
    "    x = alt.X(\"semana:Q\",scale=alt.Scale(domain=(1, 52))),\n",
    "    y = alt.Y(\"defunciones\", scale=alt.Scale(domain=(0,3500))),\n",
    "    #size=alt.Size('año:N', legend=None),\n",
    "    color=alt.Color('año:N', scale=alt.Scale(range=['lightgray','lightgray', 'lightgray', 'lightgray', 'lightgray', 'lightgray', 'lightgray', 'lightgray', 'lightgray', 'lightgray', 'red'], \n",
    "                                             domain=[\"2010\", \"2011\", \"2012\", \"2013\", \"2014\", \"2015\", \"2016\", \"2017\", \"2018\", \"2019\", \"2020\"]))\n",
    ")\n",
    "\n",
    "alt.layer(\n",
    "    base, # base line chart\n",
    "    \n",
    "    alt.Chart(expected.reset_index().rename(columns={0:\"defunciones\"})).mark_line(point=True).encode(\n",
    "    x = \"semana\",\n",
    "    y = \"defunciones\"\n",
    "    ),\n",
    "    \n",
    "    alt.Chart(df_expected.reset_index()).mark_area(\n",
    "        opacity=0.5\n",
    "    ).encode(\n",
    "        x=\"semana\",\n",
    "        y=\"lower:Q\",\n",
    "        y2=\"upper:Q\"\n",
    "    ),\n",
    "    \n",
    "    alt.Chart(df_expected.reset_index()).mark_area(\n",
    "        opacity=0.3\n",
    "    ).encode(\n",
    "        x=\"semana\",\n",
    "        y=\"lower 2:Q\",\n",
    "        y2=\"upper 2:Q\"\n",
    "    ),\n",
    "    # add a rule mark to serve as a guide line\n",
    "    alt.Chart().mark_rule(color='#aaa').encode(\n",
    "        x = alt.X('semana:Q', scale=alt.Scale(domain=(1, 52)), axis=alt.Axis(title='semana'), sort=None)\n",
    "    ).transform_filter(label),\n",
    "    \n",
    "    # add circle marks for selected time points, hide unselected points\n",
    "    base.mark_circle().encode(\n",
    "        opacity=alt.condition(label, alt.value(1), alt.value(0))\n",
    "    ).add_selection(label),\n",
    "\n",
    "    # add white stroked text to provide a legible background for labels\n",
    "    base.mark_text(align='left', dx=5, dy=-5, stroke='white', strokeWidth=2).encode(\n",
    "        text='defunciones'\n",
    "    ).transform_filter(label),\n",
    "\n",
    "    # add text labels for stock prices\n",
    "    base.mark_text(align='left', dx=5, dy=-5).encode(\n",
    "        text='defunciones'\n",
    "    ).transform_filter(label),\n",
    "    \n",
    "    data=deaths_year_week.reset_index().melt(\"año\", value_name=\"defunciones\")\n",
    ").properties(\n",
    "    title = f'Defunciones inscritas en Chile por semana (sin corregir) hasta semana {current_week-1}',\n",
    "    width=600\n",
    ")"
   ]
  },
  {
   "cell_type": "markdown",
   "metadata": {},
   "source": [
    "Fuente: [Ministerio de Ciencia](https://github.com/MinCiencia/Datos-COVID19) [Registro Civil](https://www.registrocivil.cl/)"
   ]
  },
  {
   "cell_type": "code",
   "execution_count": 74,
   "metadata": {},
   "outputs": [],
   "source": [
    "#hide\n",
    "n_defunciones = []\n",
    "for year in np.arange(2010,2020):\n",
    "    n_defunciones.append(deaths_year_week.loc[year,:].astype(int).sum())\n",
    "\n",
    "df = pd.DataFrame()\n",
    "df[\"Año\"] = np.arange(2010,2020)\n",
    "df[\"Número de defunciones\"] = n_defunciones \n",
    "df = df.set_index(\"Año\")"
   ]
  },
  {
   "cell_type": "code",
   "execution_count": 75,
   "metadata": {
    "scrolled": true
   },
   "outputs": [
    {
     "name": "stderr",
     "output_type": "stream",
     "text": [
      "/Users/alonsosilva/opt/anaconda3/envs/fastpages/lib/python3.8/site-packages/pandas/core/indexing.py:671: SettingWithCopyWarning: \n",
      "A value is trying to be set on a copy of a slice from a DataFrame\n",
      "\n",
      "See the caveats in the documentation: https://pandas.pydata.org/pandas-docs/stable/user_guide/indexing.html#returning-a-view-versus-a-copy\n",
      "  self._setitem_with_indexer(indexer, value)\n"
     ]
    }
   ],
   "source": [
    "#hide\n",
    "adjustment = 365/366\n",
    "df[\"ajustado a 365 días\"] = df[\"Número de defunciones\"].copy()\n",
    "df[\"ajustado a 365 días\"].loc[2012] *= adjustment\n",
    "df[\"ajustado a 365 días\"].loc[2016] *= adjustment\n",
    "df[\"ajustado a 365 días\"] = df[\"ajustado a 365 días\"].astype(int)"
   ]
  },
  {
   "cell_type": "code",
   "execution_count": 76,
   "metadata": {
    "scrolled": true
   },
   "outputs": [
    {
     "data": {
      "text/plain": [
       "[0.9681922943564013,\n",
       " 1.036307523778426,\n",
       " 1.0153985323115078,\n",
       " 1.0210208106024965,\n",
       " 1.0118332173213989,\n",
       " 1.0060557321137897,\n",
       " 1.0290659039033834,\n",
       " 0.9991015526293624,\n",
       " 1.025300922673411]"
      ]
     },
     "execution_count": 76,
     "metadata": {},
     "output_type": "execute_result"
    }
   ],
   "source": [
    "#hide\n",
    "growth_rate = []\n",
    "for year in np.arange(2011, 2020):\n",
    "    growth_rate.append(df[\"ajustado a 365 días\"].loc[year]/df[\"ajustado a 365 días\"].loc[year-1])\n",
    "growth_rate"
   ]
  },
  {
   "cell_type": "code",
   "execution_count": 77,
   "metadata": {},
   "outputs": [
    {
     "data": {
      "text/plain": [
       "1.0153966673650499"
      ]
     },
     "execution_count": 77,
     "metadata": {},
     "output_type": "execute_result"
    }
   ],
   "source": [
    "#hide\n",
    "gr_mean_iso = np.mean(growth_rate[2:])\n",
    "gr_mean_iso"
   ]
  },
  {
   "cell_type": "code",
   "execution_count": 78,
   "metadata": {},
   "outputs": [
    {
     "data": {
      "text/plain": [
       "0.010661889319897802"
      ]
     },
     "execution_count": 78,
     "metadata": {},
     "output_type": "execute_result"
    }
   ],
   "source": [
    "#hide\n",
    "gr_std_iso = np.std(growth_rate[2:], ddof=1)\n",
    "gr_std_iso"
   ]
  },
  {
   "cell_type": "code",
   "execution_count": 79,
   "metadata": {},
   "outputs": [
    {
     "name": "stdout",
     "output_type": "stream",
     "text": [
      "Promedio de las tasas de crecimiento anual entre 2012 y 2019: 1.54\n"
     ]
    }
   ],
   "source": [
    "#hide\n",
    "print(f\"Promedio de las tasas de crecimiento anual entre 2012 y 2019: {100*(np.mean(growth_rate[2:])-1):.2f}\")"
   ]
  },
  {
   "cell_type": "code",
   "execution_count": 62,
   "metadata": {
    "colab": {},
    "colab_type": "code",
    "id": "NCz1cigeSEWa"
   },
   "outputs": [],
   "source": [
    "#hide\n",
    "deaths = deaths_raw.drop(columns=[\"Region\", \"Codigo region\", \"Comuna\", \"Codigo comuna\"]).sum()\n",
    "n_defunciones = []\n",
    "for year in np.arange(2010,2020):\n",
    "    n_defunciones.append(deaths.loc[f\"{year}-01-01\":f\"{year}-12-31\"].sum())\n",
    "df = pd.DataFrame()\n",
    "df[\"Año\"] = np.arange(2010,2020)\n",
    "df[\"Número de defunciones\"] = n_defunciones \n",
    "df = df.set_index(\"Año\")"
   ]
  },
  {
   "cell_type": "code",
   "execution_count": 63,
   "metadata": {
    "colab": {
     "base_uri": "https://localhost:8080/",
     "height": 104
    },
    "colab_type": "code",
    "id": "c5KMn_M8Spru",
    "outputId": "6b6d19c3-8460-4658-b723-8cf332b64d70"
   },
   "outputs": [],
   "source": [
    "#hide\n",
    "adjustment = 365/366\n",
    "df[\"ajustado a 365 días\"] = df[\"Número de defunciones\"].copy()\n",
    "df[\"ajustado a 365 días\"].loc[2012] *= adjustment\n",
    "df[\"ajustado a 365 días\"].loc[2016] *= adjustment\n",
    "df[\"ajustado a 365 días\"] = df[\"ajustado a 365 días\"].astype(int)"
   ]
  },
  {
   "cell_type": "code",
   "execution_count": 65,
   "metadata": {},
   "outputs": [
    {
     "data": {
      "text/html": [
       "<div>\n",
       "<style scoped>\n",
       "    .dataframe tbody tr th:only-of-type {\n",
       "        vertical-align: middle;\n",
       "    }\n",
       "\n",
       "    .dataframe tbody tr th {\n",
       "        vertical-align: top;\n",
       "    }\n",
       "\n",
       "    .dataframe thead th {\n",
       "        text-align: right;\n",
       "    }\n",
       "</style>\n",
       "<table border=\"1\" class=\"dataframe\">\n",
       "  <thead>\n",
       "    <tr style=\"text-align: right;\">\n",
       "      <th></th>\n",
       "      <th>Número de defunciones</th>\n",
       "      <th>ajustado a 365 días</th>\n",
       "    </tr>\n",
       "    <tr>\n",
       "      <th>Año</th>\n",
       "      <th></th>\n",
       "      <th></th>\n",
       "    </tr>\n",
       "  </thead>\n",
       "  <tbody>\n",
       "    <tr>\n",
       "      <th>2010</th>\n",
       "      <td>98178</td>\n",
       "      <td>98178</td>\n",
       "    </tr>\n",
       "    <tr>\n",
       "      <th>2011</th>\n",
       "      <td>95105</td>\n",
       "      <td>95105</td>\n",
       "    </tr>\n",
       "    <tr>\n",
       "      <th>2012</th>\n",
       "      <td>99169</td>\n",
       "      <td>98898</td>\n",
       "    </tr>\n",
       "    <tr>\n",
       "      <th>2013</th>\n",
       "      <td>100286</td>\n",
       "      <td>100286</td>\n",
       "    </tr>\n",
       "    <tr>\n",
       "      <th>2014</th>\n",
       "      <td>102252</td>\n",
       "      <td>102252</td>\n",
       "    </tr>\n",
       "    <tr>\n",
       "      <th>2015</th>\n",
       "      <td>103710</td>\n",
       "      <td>103710</td>\n",
       "    </tr>\n",
       "    <tr>\n",
       "      <th>2016</th>\n",
       "      <td>104390</td>\n",
       "      <td>104104</td>\n",
       "    </tr>\n",
       "    <tr>\n",
       "      <th>2017</th>\n",
       "      <td>106877</td>\n",
       "      <td>106877</td>\n",
       "    </tr>\n",
       "    <tr>\n",
       "      <th>2018</th>\n",
       "      <td>107286</td>\n",
       "      <td>107286</td>\n",
       "    </tr>\n",
       "    <tr>\n",
       "      <th>2019</th>\n",
       "      <td>109837</td>\n",
       "      <td>109837</td>\n",
       "    </tr>\n",
       "  </tbody>\n",
       "</table>\n",
       "</div>"
      ],
      "text/plain": [
       "      Número de defunciones  ajustado a 365 días\n",
       "Año                                             \n",
       "2010                  98178                98178\n",
       "2011                  95105                95105\n",
       "2012                  99169                98898\n",
       "2013                 100286               100286\n",
       "2014                 102252               102252\n",
       "2015                 103710               103710\n",
       "2016                 104390               104104\n",
       "2017                 106877               106877\n",
       "2018                 107286               107286\n",
       "2019                 109837               109837"
      ]
     },
     "execution_count": 65,
     "metadata": {},
     "output_type": "execute_result"
    }
   ],
   "source": [
    "#hide\n",
    "df"
   ]
  },
  {
   "cell_type": "code",
   "execution_count": 66,
   "metadata": {
    "colab": {},
    "colab_type": "code",
    "id": "hXFPz0z9Ssnh"
   },
   "outputs": [
    {
     "data": {
      "text/plain": [
       "[0.9686997086923751,\n",
       " 1.0398822354240052,\n",
       " 1.014034661974964,\n",
       " 1.0196039327523283,\n",
       " 1.0142588898016665,\n",
       " 1.0037990550573714,\n",
       " 1.0266368247137478,\n",
       " 1.0038268289716217,\n",
       " 1.0237775665044833]"
      ]
     },
     "execution_count": 66,
     "metadata": {},
     "output_type": "execute_result"
    }
   ],
   "source": [
    "#hide\n",
    "growth_rate = []\n",
    "for year in np.arange(2011, 2020):\n",
    "    growth_rate.append(df[\"ajustado a 365 días\"].loc[year]/df[\"ajustado a 365 días\"].loc[year-1])\n",
    "growth_rate"
   ]
  },
  {
   "cell_type": "code",
   "execution_count": 67,
   "metadata": {
    "colab": {},
    "colab_type": "code",
    "id": "-Nkc1DzZgiwo"
   },
   "outputs": [],
   "source": [
    "#hide\n",
    "growth_rate_percentage = [f\"{100*(r - 1):.2f}%\" for r in growth_rate]"
   ]
  },
  {
   "cell_type": "code",
   "execution_count": 68,
   "metadata": {
    "colab": {},
    "colab_type": "code",
    "id": "Dtui9C8dgplH"
   },
   "outputs": [],
   "source": [
    "#hide\n",
    "df[\"Variación c/r año anterior\"] = [\"-\"]+growth_rate_percentage"
   ]
  },
  {
   "cell_type": "code",
   "execution_count": 69,
   "metadata": {
    "colab": {
     "base_uri": "https://localhost:8080/",
     "height": 34
    },
    "colab_type": "code",
    "id": "CF5n_GwdSv6J",
    "outputId": "f7bf1e2e-0431-4714-c5b0-541221e5a774"
   },
   "outputs": [
    {
     "data": {
      "text/plain": [
       "1.0151339656823117"
      ]
     },
     "execution_count": 69,
     "metadata": {},
     "output_type": "execute_result"
    }
   ],
   "source": [
    "#hide\n",
    "gr_mean = np.mean(growth_rate[2:])\n",
    "gr_mean"
   ]
  },
  {
   "cell_type": "code",
   "execution_count": 70,
   "metadata": {},
   "outputs": [
    {
     "data": {
      "text/plain": [
       "0.008993645651094097"
      ]
     },
     "execution_count": 70,
     "metadata": {},
     "output_type": "execute_result"
    }
   ],
   "source": [
    "#hide\n",
    "gr_std = np.std(growth_rate[2:], ddof=1)\n",
    "gr_std"
   ]
  },
  {
   "cell_type": "code",
   "execution_count": 72,
   "metadata": {
    "colab": {
     "base_uri": "https://localhost:8080/",
     "height": 394
    },
    "colab_type": "code",
    "id": "8aYabPUBgsIA",
    "outputId": "5da6b23e-a90d-4117-f755-b20d04652127"
   },
   "outputs": [
    {
     "data": {
      "text/html": [
       "<div>\n",
       "<style scoped>\n",
       "    .dataframe tbody tr th:only-of-type {\n",
       "        vertical-align: middle;\n",
       "    }\n",
       "\n",
       "    .dataframe tbody tr th {\n",
       "        vertical-align: top;\n",
       "    }\n",
       "\n",
       "    .dataframe thead th {\n",
       "        text-align: right;\n",
       "    }\n",
       "</style>\n",
       "<table border=\"1\" class=\"dataframe\">\n",
       "  <thead>\n",
       "    <tr style=\"text-align: right;\">\n",
       "      <th></th>\n",
       "      <th>Número de defunciones</th>\n",
       "      <th>ajustado a 365 días</th>\n",
       "      <th>Variación c/r año anterior</th>\n",
       "    </tr>\n",
       "    <tr>\n",
       "      <th>Año</th>\n",
       "      <th></th>\n",
       "      <th></th>\n",
       "      <th></th>\n",
       "    </tr>\n",
       "  </thead>\n",
       "  <tbody>\n",
       "    <tr>\n",
       "      <th>2010</th>\n",
       "      <td>98178</td>\n",
       "      <td>98178</td>\n",
       "      <td>-</td>\n",
       "    </tr>\n",
       "    <tr>\n",
       "      <th>2011</th>\n",
       "      <td>95105</td>\n",
       "      <td>95105</td>\n",
       "      <td>-3.13%</td>\n",
       "    </tr>\n",
       "    <tr>\n",
       "      <th>2012</th>\n",
       "      <td>99169</td>\n",
       "      <td>98898</td>\n",
       "      <td>3.99%</td>\n",
       "    </tr>\n",
       "    <tr>\n",
       "      <th>2013</th>\n",
       "      <td>100286</td>\n",
       "      <td>100286</td>\n",
       "      <td>1.40%</td>\n",
       "    </tr>\n",
       "    <tr>\n",
       "      <th>2014</th>\n",
       "      <td>102252</td>\n",
       "      <td>102252</td>\n",
       "      <td>1.96%</td>\n",
       "    </tr>\n",
       "    <tr>\n",
       "      <th>2015</th>\n",
       "      <td>103710</td>\n",
       "      <td>103710</td>\n",
       "      <td>1.43%</td>\n",
       "    </tr>\n",
       "    <tr>\n",
       "      <th>2016</th>\n",
       "      <td>104390</td>\n",
       "      <td>104104</td>\n",
       "      <td>0.38%</td>\n",
       "    </tr>\n",
       "    <tr>\n",
       "      <th>2017</th>\n",
       "      <td>106877</td>\n",
       "      <td>106877</td>\n",
       "      <td>2.66%</td>\n",
       "    </tr>\n",
       "    <tr>\n",
       "      <th>2018</th>\n",
       "      <td>107286</td>\n",
       "      <td>107286</td>\n",
       "      <td>0.38%</td>\n",
       "    </tr>\n",
       "    <tr>\n",
       "      <th>2019</th>\n",
       "      <td>109837</td>\n",
       "      <td>109837</td>\n",
       "      <td>2.38%</td>\n",
       "    </tr>\n",
       "  </tbody>\n",
       "</table>\n",
       "</div>"
      ],
      "text/plain": [
       "      Número de defunciones  ajustado a 365 días Variación c/r año anterior\n",
       "Año                                                                        \n",
       "2010                  98178                98178                          -\n",
       "2011                  95105                95105                     -3.13%\n",
       "2012                  99169                98898                      3.99%\n",
       "2013                 100286               100286                      1.40%\n",
       "2014                 102252               102252                      1.96%\n",
       "2015                 103710               103710                      1.43%\n",
       "2016                 104390               104104                      0.38%\n",
       "2017                 106877               106877                      2.66%\n",
       "2018                 107286               107286                      0.38%\n",
       "2019                 109837               109837                      2.38%"
      ]
     },
     "execution_count": 72,
     "metadata": {},
     "output_type": "execute_result"
    }
   ],
   "source": [
    "#hide\n",
    "df"
   ]
  },
  {
   "cell_type": "code",
   "execution_count": 73,
   "metadata": {
    "colab": {
     "base_uri": "https://localhost:8080/",
     "height": 34
    },
    "colab_type": "code",
    "id": "IN4zLoTCg8sA",
    "outputId": "84e42435-2921-4a72-9cbc-2996ab78bfd2"
   },
   "outputs": [
    {
     "name": "stdout",
     "output_type": "stream",
     "text": [
      "Promedio de las tasas de crecimiento anual entre 2012 y 2019: 1.51\n"
     ]
    }
   ],
   "source": [
    "#hide\n",
    "print(f\"Promedio de las tasas de crecimiento anual entre 2012 y 2019: {100*(np.mean(growth_rate[2:])-1):.2f}\")"
   ]
  },
  {
   "cell_type": "code",
   "execution_count": 88,
   "metadata": {},
   "outputs": [],
   "source": [
    "#hide\n",
    "amended_deaths = pd.DataFrame()\n",
    "for year in deaths_year_week.index[2:-1]:\n",
    "    amended_deaths[year] = \\\n",
    "    deaths_year_week.loc[year]*df.loc[2019,\"Número de defunciones\"]/df.loc[year,\"Número de defunciones\"]*gr_mean\n",
    "amended_deaths[2020] = deaths_year_week.loc[2020,:22]"
   ]
  },
  {
   "cell_type": "code",
   "execution_count": 90,
   "metadata": {
    "colab": {},
    "colab_type": "code",
    "id": "wS28fZ3GSyBY"
   },
   "outputs": [],
   "source": [
    "#hide\n",
    "# amended_deaths = pd.DataFrame()\n",
    "# i = 8\n",
    "# for year in deaths_year_week.index[2:-1]:\n",
    "#     amended_deaths[year] = deaths_year_week.loc[year]*(gr_mean**i)\n",
    "#     i -=1\n",
    "# amended_deaths[2020] = deaths_year_week.loc[2020,:22]*(gr_mean**i)"
   ]
  },
  {
   "cell_type": "code",
   "execution_count": 91,
   "metadata": {
    "colab": {},
    "colab_type": "code",
    "id": "5fhs41KvTsMw"
   },
   "outputs": [
    {
     "data": {
      "text/html": [
       "<div>\n",
       "<style scoped>\n",
       "    .dataframe tbody tr th:only-of-type {\n",
       "        vertical-align: middle;\n",
       "    }\n",
       "\n",
       "    .dataframe tbody tr th {\n",
       "        vertical-align: top;\n",
       "    }\n",
       "\n",
       "    .dataframe thead th {\n",
       "        text-align: right;\n",
       "    }\n",
       "</style>\n",
       "<table border=\"1\" class=\"dataframe\">\n",
       "  <thead>\n",
       "    <tr style=\"text-align: right;\">\n",
       "      <th>semana</th>\n",
       "      <th>1</th>\n",
       "      <th>2</th>\n",
       "      <th>3</th>\n",
       "      <th>4</th>\n",
       "      <th>5</th>\n",
       "      <th>6</th>\n",
       "      <th>7</th>\n",
       "      <th>8</th>\n",
       "      <th>9</th>\n",
       "      <th>10</th>\n",
       "      <th>...</th>\n",
       "      <th>43</th>\n",
       "      <th>44</th>\n",
       "      <th>45</th>\n",
       "      <th>46</th>\n",
       "      <th>47</th>\n",
       "      <th>48</th>\n",
       "      <th>49</th>\n",
       "      <th>50</th>\n",
       "      <th>51</th>\n",
       "      <th>52</th>\n",
       "    </tr>\n",
       "  </thead>\n",
       "  <tbody>\n",
       "    <tr>\n",
       "      <th>2012</th>\n",
       "      <td>2181.569484</td>\n",
       "      <td>1955.190823</td>\n",
       "      <td>1948.433251</td>\n",
       "      <td>1933.791845</td>\n",
       "      <td>1949.559513</td>\n",
       "      <td>1934.918107</td>\n",
       "      <td>1879.731269</td>\n",
       "      <td>1862.837339</td>\n",
       "      <td>1911.266605</td>\n",
       "      <td>1990.104945</td>\n",
       "      <td>...</td>\n",
       "      <td>2165.801816</td>\n",
       "      <td>1880.857531</td>\n",
       "      <td>2273.922967</td>\n",
       "      <td>2107.236192</td>\n",
       "      <td>1946.180727</td>\n",
       "      <td>2026.145328</td>\n",
       "      <td>2040.786734</td>\n",
       "      <td>1866.216125</td>\n",
       "      <td>1981.094849</td>\n",
       "      <td>2086.963476</td>\n",
       "    </tr>\n",
       "    <tr>\n",
       "      <th>2013</th>\n",
       "      <td>2075.413972</td>\n",
       "      <td>2063.179485</td>\n",
       "      <td>1953.069097</td>\n",
       "      <td>2020.914892</td>\n",
       "      <td>1923.038991</td>\n",
       "      <td>2076.526198</td>\n",
       "      <td>1888.559981</td>\n",
       "      <td>1827.387544</td>\n",
       "      <td>2026.476022</td>\n",
       "      <td>1899.682243</td>\n",
       "      <td>...</td>\n",
       "      <td>2055.393902</td>\n",
       "      <td>1800.694116</td>\n",
       "      <td>2266.716868</td>\n",
       "      <td>2117.678566</td>\n",
       "      <td>2102.107400</td>\n",
       "      <td>1953.069097</td>\n",
       "      <td>2090.985138</td>\n",
       "      <td>1896.345564</td>\n",
       "      <td>2132.137505</td>\n",
       "      <td>2063.179485</td>\n",
       "    </tr>\n",
       "    <tr>\n",
       "      <th>2014</th>\n",
       "      <td>2005.452090</td>\n",
       "      <td>2123.099470</td>\n",
       "      <td>2017.434694</td>\n",
       "      <td>1992.380159</td>\n",
       "      <td>1899.787314</td>\n",
       "      <td>1833.338331</td>\n",
       "      <td>1912.859245</td>\n",
       "      <td>1912.859245</td>\n",
       "      <td>1852.946228</td>\n",
       "      <td>1842.052952</td>\n",
       "      <td>...</td>\n",
       "      <td>2106.759556</td>\n",
       "      <td>1869.286142</td>\n",
       "      <td>2235.300211</td>\n",
       "      <td>2142.707366</td>\n",
       "      <td>2020.702677</td>\n",
       "      <td>2010.898728</td>\n",
       "      <td>2080.615694</td>\n",
       "      <td>1900.876642</td>\n",
       "      <td>1990.201504</td>\n",
       "      <td>1984.754866</td>\n",
       "    </tr>\n",
       "    <tr>\n",
       "      <th>2015</th>\n",
       "      <td>1933.552205</td>\n",
       "      <td>2032.598309</td>\n",
       "      <td>1993.841138</td>\n",
       "      <td>1929.245853</td>\n",
       "      <td>1950.777615</td>\n",
       "      <td>2018.602664</td>\n",
       "      <td>1969.079612</td>\n",
       "      <td>1963.696672</td>\n",
       "      <td>1985.228434</td>\n",
       "      <td>1833.429513</td>\n",
       "      <td>...</td>\n",
       "      <td>2144.563471</td>\n",
       "      <td>1742.996114</td>\n",
       "      <td>2183.320642</td>\n",
       "      <td>2407.250964</td>\n",
       "      <td>2098.270183</td>\n",
       "      <td>2005.683607</td>\n",
       "      <td>2110.112652</td>\n",
       "      <td>2061.666188</td>\n",
       "      <td>2022.909017</td>\n",
       "      <td>1903.407739</td>\n",
       "    </tr>\n",
       "    <tr>\n",
       "      <th>2016</th>\n",
       "      <td>2258.149956</td>\n",
       "      <td>1982.817872</td>\n",
       "      <td>2061.789090</td>\n",
       "      <td>1988.153765</td>\n",
       "      <td>2038.311160</td>\n",
       "      <td>1866.495403</td>\n",
       "      <td>1839.815937</td>\n",
       "      <td>1959.339943</td>\n",
       "      <td>1978.549158</td>\n",
       "      <td>1883.570261</td>\n",
       "      <td>...</td>\n",
       "      <td>2228.268954</td>\n",
       "      <td>1879.301546</td>\n",
       "      <td>2056.453197</td>\n",
       "      <td>1920.921512</td>\n",
       "      <td>1978.549158</td>\n",
       "      <td>1999.892730</td>\n",
       "      <td>1932.660477</td>\n",
       "      <td>2018.034767</td>\n",
       "      <td>1908.115369</td>\n",
       "      <td>1947.600978</td>\n",
       "    </tr>\n",
       "    <tr>\n",
       "      <th>2017</th>\n",
       "      <td>1948.740127</td>\n",
       "      <td>1948.740127</td>\n",
       "      <td>2036.090271</td>\n",
       "      <td>2194.152437</td>\n",
       "      <td>2017.372383</td>\n",
       "      <td>1887.387049</td>\n",
       "      <td>1927.942473</td>\n",
       "      <td>1968.497897</td>\n",
       "      <td>1902.985289</td>\n",
       "      <td>1800.036905</td>\n",
       "      <td>...</td>\n",
       "      <td>1871.788809</td>\n",
       "      <td>2006.973556</td>\n",
       "      <td>2051.688511</td>\n",
       "      <td>1888.426932</td>\n",
       "      <td>2020.492031</td>\n",
       "      <td>1983.056255</td>\n",
       "      <td>1806.276201</td>\n",
       "      <td>2086.004639</td>\n",
       "      <td>2103.682645</td>\n",
       "      <td>2013.212852</td>\n",
       "    </tr>\n",
       "    <tr>\n",
       "      <th>2018</th>\n",
       "      <td>1936.961910</td>\n",
       "      <td>1941.125181</td>\n",
       "      <td>1850.574034</td>\n",
       "      <td>1851.614851</td>\n",
       "      <td>1935.921092</td>\n",
       "      <td>1961.941537</td>\n",
       "      <td>1944.247635</td>\n",
       "      <td>1892.206745</td>\n",
       "      <td>1852.655669</td>\n",
       "      <td>1981.717075</td>\n",
       "      <td>...</td>\n",
       "      <td>2148.247922</td>\n",
       "      <td>1832.880131</td>\n",
       "      <td>2316.860404</td>\n",
       "      <td>2005.655885</td>\n",
       "      <td>2067.064134</td>\n",
       "      <td>1983.798711</td>\n",
       "      <td>2010.859973</td>\n",
       "      <td>1984.839529</td>\n",
       "      <td>2060.819227</td>\n",
       "      <td>1969.227262</td>\n",
       "    </tr>\n",
       "    <tr>\n",
       "      <th>2019</th>\n",
       "      <td>1968.344759</td>\n",
       "      <td>1917.588061</td>\n",
       "      <td>1834.347076</td>\n",
       "      <td>1972.405295</td>\n",
       "      <td>1961.238822</td>\n",
       "      <td>2051.585745</td>\n",
       "      <td>1921.648597</td>\n",
       "      <td>1965.299358</td>\n",
       "      <td>1913.527525</td>\n",
       "      <td>1831.301674</td>\n",
       "      <td>...</td>\n",
       "      <td>2047.525209</td>\n",
       "      <td>1926.724267</td>\n",
       "      <td>2255.627672</td>\n",
       "      <td>2033.313333</td>\n",
       "      <td>2103.357577</td>\n",
       "      <td>1989.662573</td>\n",
       "      <td>1992.707975</td>\n",
       "      <td>1906.421588</td>\n",
       "      <td>1921.648597</td>\n",
       "      <td>2009.965252</td>\n",
       "    </tr>\n",
       "    <tr>\n",
       "      <th>2020</th>\n",
       "      <td>2060.000000</td>\n",
       "      <td>2116.000000</td>\n",
       "      <td>2060.000000</td>\n",
       "      <td>1987.000000</td>\n",
       "      <td>2033.000000</td>\n",
       "      <td>1906.000000</td>\n",
       "      <td>1959.000000</td>\n",
       "      <td>1818.000000</td>\n",
       "      <td>1855.000000</td>\n",
       "      <td>2017.000000</td>\n",
       "      <td>...</td>\n",
       "      <td>NaN</td>\n",
       "      <td>NaN</td>\n",
       "      <td>NaN</td>\n",
       "      <td>NaN</td>\n",
       "      <td>NaN</td>\n",
       "      <td>NaN</td>\n",
       "      <td>NaN</td>\n",
       "      <td>NaN</td>\n",
       "      <td>NaN</td>\n",
       "      <td>NaN</td>\n",
       "    </tr>\n",
       "  </tbody>\n",
       "</table>\n",
       "<p>9 rows × 52 columns</p>\n",
       "</div>"
      ],
      "text/plain": [
       "semana           1            2            3            4            5   \\\n",
       "2012    2181.569484  1955.190823  1948.433251  1933.791845  1949.559513   \n",
       "2013    2075.413972  2063.179485  1953.069097  2020.914892  1923.038991   \n",
       "2014    2005.452090  2123.099470  2017.434694  1992.380159  1899.787314   \n",
       "2015    1933.552205  2032.598309  1993.841138  1929.245853  1950.777615   \n",
       "2016    2258.149956  1982.817872  2061.789090  1988.153765  2038.311160   \n",
       "2017    1948.740127  1948.740127  2036.090271  2194.152437  2017.372383   \n",
       "2018    1936.961910  1941.125181  1850.574034  1851.614851  1935.921092   \n",
       "2019    1968.344759  1917.588061  1834.347076  1972.405295  1961.238822   \n",
       "2020    2060.000000  2116.000000  2060.000000  1987.000000  2033.000000   \n",
       "\n",
       "semana           6            7            8            9            10  ...  \\\n",
       "2012    1934.918107  1879.731269  1862.837339  1911.266605  1990.104945  ...   \n",
       "2013    2076.526198  1888.559981  1827.387544  2026.476022  1899.682243  ...   \n",
       "2014    1833.338331  1912.859245  1912.859245  1852.946228  1842.052952  ...   \n",
       "2015    2018.602664  1969.079612  1963.696672  1985.228434  1833.429513  ...   \n",
       "2016    1866.495403  1839.815937  1959.339943  1978.549158  1883.570261  ...   \n",
       "2017    1887.387049  1927.942473  1968.497897  1902.985289  1800.036905  ...   \n",
       "2018    1961.941537  1944.247635  1892.206745  1852.655669  1981.717075  ...   \n",
       "2019    2051.585745  1921.648597  1965.299358  1913.527525  1831.301674  ...   \n",
       "2020    1906.000000  1959.000000  1818.000000  1855.000000  2017.000000  ...   \n",
       "\n",
       "semana           43           44           45           46           47  \\\n",
       "2012    2165.801816  1880.857531  2273.922967  2107.236192  1946.180727   \n",
       "2013    2055.393902  1800.694116  2266.716868  2117.678566  2102.107400   \n",
       "2014    2106.759556  1869.286142  2235.300211  2142.707366  2020.702677   \n",
       "2015    2144.563471  1742.996114  2183.320642  2407.250964  2098.270183   \n",
       "2016    2228.268954  1879.301546  2056.453197  1920.921512  1978.549158   \n",
       "2017    1871.788809  2006.973556  2051.688511  1888.426932  2020.492031   \n",
       "2018    2148.247922  1832.880131  2316.860404  2005.655885  2067.064134   \n",
       "2019    2047.525209  1926.724267  2255.627672  2033.313333  2103.357577   \n",
       "2020            NaN          NaN          NaN          NaN          NaN   \n",
       "\n",
       "semana           48           49           50           51           52  \n",
       "2012    2026.145328  2040.786734  1866.216125  1981.094849  2086.963476  \n",
       "2013    1953.069097  2090.985138  1896.345564  2132.137505  2063.179485  \n",
       "2014    2010.898728  2080.615694  1900.876642  1990.201504  1984.754866  \n",
       "2015    2005.683607  2110.112652  2061.666188  2022.909017  1903.407739  \n",
       "2016    1999.892730  1932.660477  2018.034767  1908.115369  1947.600978  \n",
       "2017    1983.056255  1806.276201  2086.004639  2103.682645  2013.212852  \n",
       "2018    1983.798711  2010.859973  1984.839529  2060.819227  1969.227262  \n",
       "2019    1989.662573  1992.707975  1906.421588  1921.648597  2009.965252  \n",
       "2020            NaN          NaN          NaN          NaN          NaN  \n",
       "\n",
       "[9 rows x 52 columns]"
      ]
     },
     "execution_count": 91,
     "metadata": {},
     "output_type": "execute_result"
    }
   ],
   "source": [
    "#hide\n",
    "amended_deaths = amended_deaths.T\n",
    "amended_deaths"
   ]
  },
  {
   "cell_type": "code",
   "execution_count": 197,
   "metadata": {
    "colab": {},
    "colab_type": "code",
    "id": "RaDRbFAlTtdw"
   },
   "outputs": [],
   "source": [
    "#hide\n",
    "expected = amended_deaths.loc[2015:2019].mean()\n",
    "ci = amended_deaths.loc[2015:2019].std(ddof=1)"
   ]
  },
  {
   "cell_type": "code",
   "execution_count": 198,
   "metadata": {},
   "outputs": [],
   "source": [
    "#hide\n",
    "df_expected = pd.DataFrame()\n",
    "df_expected[\"Expected\"] = expected\n",
    "df_expected[\"lower\"] = expected - ci\n",
    "df_expected[\"upper\"] = expected + ci\n",
    "df_expected[\"lower 2\"] = expected - 2*ci\n",
    "df_expected[\"upper 2\"] = expected + 2*ci"
   ]
  },
  {
   "cell_type": "code",
   "execution_count": 199,
   "metadata": {
    "scrolled": true
   },
   "outputs": [
    {
     "data": {
      "text/html": [
       "\n",
       "<div id=\"altair-viz-73a1ed67a60840ae9d081df64ffc8ab7\"></div>\n",
       "<script type=\"text/javascript\">\n",
       "  (function(spec, embedOpt){\n",
       "    let outputDiv = document.currentScript.previousElementSibling;\n",
       "    if (outputDiv.id !== \"altair-viz-73a1ed67a60840ae9d081df64ffc8ab7\") {\n",
       "      outputDiv = document.getElementById(\"altair-viz-73a1ed67a60840ae9d081df64ffc8ab7\");\n",
       "    }\n",
       "    const paths = {\n",
       "      \"vega\": \"https://cdn.jsdelivr.net/npm//vega@5?noext\",\n",
       "      \"vega-lib\": \"https://cdn.jsdelivr.net/npm//vega-lib?noext\",\n",
       "      \"vega-lite\": \"https://cdn.jsdelivr.net/npm//vega-lite@4.8.1?noext\",\n",
       "      \"vega-embed\": \"https://cdn.jsdelivr.net/npm//vega-embed@6?noext\",\n",
       "    };\n",
       "\n",
       "    function loadScript(lib) {\n",
       "      return new Promise(function(resolve, reject) {\n",
       "        var s = document.createElement('script');\n",
       "        s.src = paths[lib];\n",
       "        s.async = true;\n",
       "        s.onload = () => resolve(paths[lib]);\n",
       "        s.onerror = () => reject(`Error loading script: ${paths[lib]}`);\n",
       "        document.getElementsByTagName(\"head\")[0].appendChild(s);\n",
       "      });\n",
       "    }\n",
       "\n",
       "    function showError(err) {\n",
       "      outputDiv.innerHTML = `<div class=\"error\" style=\"color:red;\">${err}</div>`;\n",
       "      throw err;\n",
       "    }\n",
       "\n",
       "    function displayChart(vegaEmbed) {\n",
       "      vegaEmbed(outputDiv, spec, embedOpt)\n",
       "        .catch(err => showError(`Javascript Error: ${err.message}<br>This usually means there's a typo in your chart specification. See the javascript console for the full traceback.`));\n",
       "    }\n",
       "\n",
       "    if(typeof define === \"function\" && define.amd) {\n",
       "      requirejs.config({paths});\n",
       "      require([\"vega-embed\"], displayChart, err => showError(`Error loading script: ${err.message}`));\n",
       "    } else if (typeof vegaEmbed === \"function\") {\n",
       "      displayChart(vegaEmbed);\n",
       "    } else {\n",
       "      loadScript(\"vega\")\n",
       "        .then(() => loadScript(\"vega-lite\"))\n",
       "        .then(() => loadScript(\"vega-embed\"))\n",
       "        .catch(showError)\n",
       "        .then(() => displayChart(vegaEmbed));\n",
       "    }\n",
       "  })({\"config\": {\"view\": {\"continuousWidth\": 400, \"continuousHeight\": 300}}, \"layer\": [{\"data\": {\"name\": \"data-d8349ce90c0e34902e6236b05f403666\"}, \"mark\": {\"type\": \"line\", \"point\": true}, \"encoding\": {\"color\": {\"type\": \"nominal\", \"field\": \"a\\u00f1o\", \"scale\": {\"domain\": [\"2010\", \"2011\", \"2012\", \"2013\", \"2014\", \"2015\", \"2016\", \"2017\", \"2018\", \"2019\", \"2020\"], \"range\": [\"lightgray\", \"lightgray\", \"lightgray\", \"lightgray\", \"lightgray\", \"lightgray\", \"lightgray\", \"lightgray\", \"lightgray\", \"lightgray\", \"red\"]}}, \"x\": {\"type\": \"quantitative\", \"field\": \"semana\", \"scale\": {\"domain\": [1, 52]}}, \"y\": {\"type\": \"quantitative\", \"field\": \"defunciones\", \"scale\": {\"domain\": [0, 3500]}}}}, {\"data\": {\"name\": \"data-60fba3aa1a35dbd372704cf340e49488\"}, \"mark\": {\"type\": \"area\", \"opacity\": 0.5}, \"encoding\": {\"x\": {\"type\": \"quantitative\", \"field\": \"semana\"}, \"y\": {\"type\": \"quantitative\", \"field\": \"lower\"}, \"y2\": {\"field\": \"upper\"}}}, {\"data\": {\"name\": \"data-60fba3aa1a35dbd372704cf340e49488\"}, \"mark\": {\"type\": \"area\", \"opacity\": 0.3}, \"encoding\": {\"x\": {\"type\": \"quantitative\", \"field\": \"semana\"}, \"y\": {\"type\": \"quantitative\", \"field\": \"lower 2\"}, \"y2\": {\"field\": \"upper 2\"}}}, {\"data\": {\"name\": \"data-cd5781f3278eafc8abc1891616ef21ff\"}, \"mark\": {\"type\": \"line\", \"point\": true}, \"encoding\": {\"x\": {\"type\": \"quantitative\", \"field\": \"semana\"}, \"y\": {\"type\": \"quantitative\", \"field\": \"defunciones\"}}}, {\"mark\": {\"type\": \"rule\", \"color\": \"#aaa\"}, \"encoding\": {\"x\": {\"type\": \"quantitative\", \"axis\": {\"title\": \"Semanas\"}, \"field\": \"semana\", \"scale\": {\"domain\": [1, 52]}, \"sort\": null}}, \"transform\": [{\"filter\": {\"selection\": \"selector017\"}}]}, {\"data\": {\"name\": \"data-d8349ce90c0e34902e6236b05f403666\"}, \"mark\": \"circle\", \"encoding\": {\"color\": {\"type\": \"nominal\", \"field\": \"a\\u00f1o\", \"scale\": {\"domain\": [\"2010\", \"2011\", \"2012\", \"2013\", \"2014\", \"2015\", \"2016\", \"2017\", \"2018\", \"2019\", \"2020\"], \"range\": [\"lightgray\", \"lightgray\", \"lightgray\", \"lightgray\", \"lightgray\", \"lightgray\", \"lightgray\", \"lightgray\", \"lightgray\", \"lightgray\", \"red\"]}}, \"opacity\": {\"condition\": {\"value\": 1, \"selection\": \"selector017\"}, \"value\": 0}, \"x\": {\"type\": \"quantitative\", \"field\": \"semana\", \"scale\": {\"domain\": [1, 52]}}, \"y\": {\"type\": \"quantitative\", \"field\": \"defunciones\", \"scale\": {\"domain\": [0, 3500]}}}, \"selection\": {\"selector017\": {\"type\": \"single\", \"encodings\": [\"x\"], \"on\": \"mouseover\", \"nearest\": true, \"empty\": \"none\"}}}, {\"data\": {\"name\": \"data-d8349ce90c0e34902e6236b05f403666\"}, \"mark\": {\"type\": \"text\", \"align\": \"left\", \"dx\": 5, \"dy\": -5, \"stroke\": \"white\", \"strokeWidth\": 2}, \"encoding\": {\"color\": {\"type\": \"nominal\", \"field\": \"a\\u00f1o\", \"scale\": {\"domain\": [\"2010\", \"2011\", \"2012\", \"2013\", \"2014\", \"2015\", \"2016\", \"2017\", \"2018\", \"2019\", \"2020\"], \"range\": [\"lightgray\", \"lightgray\", \"lightgray\", \"lightgray\", \"lightgray\", \"lightgray\", \"lightgray\", \"lightgray\", \"lightgray\", \"lightgray\", \"red\"]}}, \"text\": {\"type\": \"quantitative\", \"field\": \"defunciones\"}, \"x\": {\"type\": \"quantitative\", \"field\": \"semana\", \"scale\": {\"domain\": [1, 52]}}, \"y\": {\"type\": \"quantitative\", \"field\": \"defunciones\", \"scale\": {\"domain\": [0, 3500]}}}, \"transform\": [{\"filter\": {\"selection\": \"selector017\"}}]}, {\"data\": {\"name\": \"data-d8349ce90c0e34902e6236b05f403666\"}, \"mark\": {\"type\": \"text\", \"align\": \"left\", \"dx\": 5, \"dy\": -5}, \"encoding\": {\"color\": {\"type\": \"nominal\", \"field\": \"a\\u00f1o\", \"scale\": {\"domain\": [\"2010\", \"2011\", \"2012\", \"2013\", \"2014\", \"2015\", \"2016\", \"2017\", \"2018\", \"2019\", \"2020\"], \"range\": [\"lightgray\", \"lightgray\", \"lightgray\", \"lightgray\", \"lightgray\", \"lightgray\", \"lightgray\", \"lightgray\", \"lightgray\", \"lightgray\", \"red\"]}}, \"text\": {\"type\": \"quantitative\", \"field\": \"defunciones\"}, \"x\": {\"type\": \"quantitative\", \"field\": \"semana\", \"scale\": {\"domain\": [1, 52]}}, \"y\": {\"type\": \"quantitative\", \"field\": \"defunciones\", \"scale\": {\"domain\": [0, 3500]}}}, \"transform\": [{\"filter\": {\"selection\": \"selector017\"}}]}], \"data\": {\"name\": \"data-d8349ce90c0e34902e6236b05f403666\"}, \"title\": \"Defunciones inscritas en Chile por semana (corregido) hasta semana 22\", \"width\": 600, \"$schema\": \"https://vega.github.io/schema/vega-lite/v4.8.1.json\", \"datasets\": {\"data-d8349ce90c0e34902e6236b05f403666\": [{\"a\\u00f1o\": 2012, \"semana\": 1, \"defunciones\": 2181.569483706411}, {\"a\\u00f1o\": 2013, \"semana\": 1, \"defunciones\": 2075.4139723010912}, {\"a\\u00f1o\": 2014, \"semana\": 1, \"defunciones\": 2005.4520903045877}, {\"a\\u00f1o\": 2015, \"semana\": 1, \"defunciones\": 1933.552205376625}, {\"a\\u00f1o\": 2016, \"semana\": 1, \"defunciones\": 2258.149955663594}, {\"a\\u00f1o\": 2017, \"semana\": 1, \"defunciones\": 1948.740126658928}, {\"a\\u00f1o\": 2018, \"semana\": 1, \"defunciones\": 1936.9619102628703}, {\"a\\u00f1o\": 2019, \"semana\": 1, \"defunciones\": 1968.3447594580025}, {\"a\\u00f1o\": 2020, \"semana\": 1, \"defunciones\": 2060.0}, {\"a\\u00f1o\": 2012, \"semana\": 2, \"defunciones\": 1955.1908227745632}, {\"a\\u00f1o\": 2013, \"semana\": 2, \"defunciones\": 2063.179484790206}, {\"a\\u00f1o\": 2014, \"semana\": 2, \"defunciones\": 2123.0994698553186}, {\"a\\u00f1o\": 2015, \"semana\": 2, \"defunciones\": 2032.5983094382339}, {\"a\\u00f1o\": 2016, \"semana\": 2, \"defunciones\": 1982.81787222257}, {\"a\\u00f1o\": 2017, \"semana\": 2, \"defunciones\": 1948.740126658928}, {\"a\\u00f1o\": 2018, \"semana\": 2, \"defunciones\": 1941.125181429475}, {\"a\\u00f1o\": 2019, \"semana\": 2, \"defunciones\": 1917.588061173887}, {\"a\\u00f1o\": 2020, \"semana\": 2, \"defunciones\": 2116.0}, {\"a\\u00f1o\": 2012, \"semana\": 3, \"defunciones\": 1948.4332508064485}, {\"a\\u00f1o\": 2013, \"semana\": 3, \"defunciones\": 1953.0690971922384}, {\"a\\u00f1o\": 2014, \"semana\": 3, \"defunciones\": 2017.4346937773473}, {\"a\\u00f1o\": 2015, \"semana\": 3, \"defunciones\": 1993.8411382836912}, {\"a\\u00f1o\": 2016, \"semana\": 3, \"defunciones\": 2061.7890899537165}, {\"a\\u00f1o\": 2017, \"semana\": 3, \"defunciones\": 2036.0902710769376}, {\"a\\u00f1o\": 2018, \"semana\": 3, \"defunciones\": 1850.5740335558212}, {\"a\\u00f1o\": 2019, \"semana\": 3, \"defunciones\": 1834.3470759879374}, {\"a\\u00f1o\": 2020, \"semana\": 3, \"defunciones\": 2060.0}, {\"a\\u00f1o\": 2012, \"semana\": 4, \"defunciones\": 1933.7918448755331}, {\"a\\u00f1o\": 2013, \"semana\": 4, \"defunciones\": 2020.914891570784}, {\"a\\u00f1o\": 2014, \"semana\": 4, \"defunciones\": 1992.3801592433954}, {\"a\\u00f1o\": 2015, \"semana\": 4, \"defunciones\": 1929.2458530261204}, {\"a\\u00f1o\": 2016, \"semana\": 4, \"defunciones\": 1988.1537653125124}, {\"a\\u00f1o\": 2017, \"semana\": 4, \"defunciones\": 2194.152437166669}, {\"a\\u00f1o\": 2018, \"semana\": 4, \"defunciones\": 1851.6148513474723}, {\"a\\u00f1o\": 2019, \"semana\": 4, \"defunciones\": 1972.4052953207317}, {\"a\\u00f1o\": 2020, \"semana\": 4, \"defunciones\": 1987.0}, {\"a\\u00f1o\": 2012, \"semana\": 5, \"defunciones\": 1949.5595128011344}, {\"a\\u00f1o\": 2013, \"semana\": 5, \"defunciones\": 1923.0389914837015}, {\"a\\u00f1o\": 2014, \"semana\": 5, \"defunciones\": 1899.7873142266164}, {\"a\\u00f1o\": 2015, \"semana\": 5, \"defunciones\": 1950.777614778644}, {\"a\\u00f1o\": 2016, \"semana\": 5, \"defunciones\": 2038.3111603579703}, {\"a\\u00f1o\": 2017, \"semana\": 5, \"defunciones\": 2017.372382987364}, {\"a\\u00f1o\": 2018, \"semana\": 5, \"defunciones\": 1935.921092471219}, {\"a\\u00f1o\": 2019, \"semana\": 5, \"defunciones\": 1961.2388216982263}, {\"a\\u00f1o\": 2020, \"semana\": 5, \"defunciones\": 2033.0}, {\"a\\u00f1o\": 2012, \"semana\": 6, \"defunciones\": 1934.9181068702187}, {\"a\\u00f1o\": 2013, \"semana\": 6, \"defunciones\": 2076.5261984384447}, {\"a\\u00f1o\": 2014, \"semana\": 6, \"defunciones\": 1833.3383313322222}, {\"a\\u00f1o\": 2015, \"semana\": 6, \"defunciones\": 2018.6026642990935}, {\"a\\u00f1o\": 2016, \"semana\": 6, \"defunciones\": 1866.4954028618272}, {\"a\\u00f1o\": 2017, \"semana\": 6, \"defunciones\": 1887.3870490319925}, {\"a\\u00f1o\": 2018, \"semana\": 6, \"defunciones\": 1961.941537262499}, {\"a\\u00f1o\": 2019, \"semana\": 6, \"defunciones\": 2051.5857446439522}, {\"a\\u00f1o\": 2020, \"semana\": 6, \"defunciones\": 1906.0}, {\"a\\u00f1o\": 2012, \"semana\": 7, \"defunciones\": 1879.7312691306142}, {\"a\\u00f1o\": 2013, \"semana\": 7, \"defunciones\": 1888.559981225752}, {\"a\\u00f1o\": 2014, \"semana\": 7, \"defunciones\": 1912.8592452878088}, {\"a\\u00f1o\": 2015, \"semana\": 7, \"defunciones\": 1969.079612268289}, {\"a\\u00f1o\": 2016, \"semana\": 7, \"defunciones\": 1839.8159374121155}, {\"a\\u00f1o\": 2017, \"semana\": 7, \"defunciones\": 1927.9424732260686}, {\"a\\u00f1o\": 2018, \"semana\": 7, \"defunciones\": 1944.2476348044286}, {\"a\\u00f1o\": 2019, \"semana\": 7, \"defunciones\": 1921.6485970366161}, {\"a\\u00f1o\": 2020, \"semana\": 7, \"defunciones\": 1959.0}, {\"a\\u00f1o\": 2012, \"semana\": 8, \"defunciones\": 1862.837339210327}, {\"a\\u00f1o\": 2013, \"semana\": 8, \"defunciones\": 1827.3875436713254}, {\"a\\u00f1o\": 2014, \"semana\": 8, \"defunciones\": 1912.8592452878088}, {\"a\\u00f1o\": 2015, \"semana\": 8, \"defunciones\": 1963.696671830158}, {\"a\\u00f1o\": 2016, \"semana\": 8, \"defunciones\": 1959.3399426268238}, {\"a\\u00f1o\": 2017, \"semana\": 8, \"defunciones\": 1968.4978974201445}, {\"a\\u00f1o\": 2018, \"semana\": 8, \"defunciones\": 1892.206745221869}, {\"a\\u00f1o\": 2019, \"semana\": 8, \"defunciones\": 1965.2993575609555}, {\"a\\u00f1o\": 2020, \"semana\": 8, \"defunciones\": 1818.0}, {\"a\\u00f1o\": 2012, \"semana\": 9, \"defunciones\": 1911.2666049818167}, {\"a\\u00f1o\": 2013, \"semana\": 9, \"defunciones\": 2026.47602225755}, {\"a\\u00f1o\": 2014, \"semana\": 9, \"defunciones\": 1852.9462279240106}, {\"a\\u00f1o\": 2015, \"semana\": 9, \"defunciones\": 1985.2284335826816}, {\"a\\u00f1o\": 2016, \"semana\": 9, \"defunciones\": 1978.5491577506161}, {\"a\\u00f1o\": 2017, \"semana\": 9, \"defunciones\": 1902.9852891066373}, {\"a\\u00f1o\": 2018, \"semana\": 9, \"defunciones\": 1852.6556691391236}, {\"a\\u00f1o\": 2019, \"semana\": 9, \"defunciones\": 1913.5275253111577}, {\"a\\u00f1o\": 2020, \"semana\": 9, \"defunciones\": 1855.0}, {\"a\\u00f1o\": 2012, \"semana\": 10, \"defunciones\": 1990.1049446098234}, {\"a\\u00f1o\": 2013, \"semana\": 10, \"defunciones\": 1899.682242599284}, {\"a\\u00f1o\": 2014, \"semana\": 10, \"defunciones\": 1842.0529520396838}, {\"a\\u00f1o\": 2015, \"semana\": 10, \"defunciones\": 1833.4295132273899}, {\"a\\u00f1o\": 2016, \"semana\": 10, \"defunciones\": 1883.5702607496426}, {\"a\\u00f1o\": 2017, \"semana\": 10, \"defunciones\": 1800.036904613983}, {\"a\\u00f1o\": 2018, \"semana\": 10, \"defunciones\": 1981.7170753038715}, {\"a\\u00f1o\": 2019, \"semana\": 10, \"defunciones\": 1831.3016740908904}, {\"a\\u00f1o\": 2020, \"semana\": 10, \"defunciones\": 2017.0}, {\"a\\u00f1o\": 2012, \"semana\": 11, \"defunciones\": 1918.0241769499316}, {\"a\\u00f1o\": 2013, \"semana\": 11, \"defunciones\": 1937.4979312692933}, {\"a\\u00f1o\": 2014, \"semana\": 11, \"defunciones\": 1850.7675727471453}, {\"a\\u00f1o\": 2015, \"semana\": 11, \"defunciones\": 2003.5304310723268}, {\"a\\u00f1o\": 2016, \"semana\": 11, \"defunciones\": 1824.8754367602771}, {\"a\\u00f1o\": 2017, \"semana\": 11, \"defunciones\": 1816.6750273602706}, {\"a\\u00f1o\": 2018, \"semana\": 11, \"defunciones\": 1864.1046648472866}, {\"a\\u00f1o\": 2019, \"semana\": 11, \"defunciones\": 1913.5275253111577}, {\"a\\u00f1o\": 2020, \"semana\": 11, \"defunciones\": 1962.0}, {\"a\\u00f1o\": 2012, \"semana\": 12, \"defunciones\": 1852.7009812581548}, {\"a\\u00f1o\": 2013, \"semana\": 12, \"defunciones\": 1897.4577903245777}, {\"a\\u00f1o\": 2014, \"semana\": 12, \"defunciones\": 1940.092434998626}, {\"a\\u00f1o\": 2015, \"semana\": 12, \"defunciones\": 1941.0883219900084}, {\"a\\u00f1o\": 2016, \"semana\": 12, \"defunciones\": 1783.2554706587268}, {\"a\\u00f1o\": 2017, \"semana\": 12, \"defunciones\": 1831.2333847632722}, {\"a\\u00f1o\": 2018, \"semana\": 12, \"defunciones\": 1923.4312789714047}, {\"a\\u00f1o\": 2019, \"semana\": 12, \"defunciones\": 1885.103774272053}, {\"a\\u00f1o\": 2020, \"semana\": 12, \"defunciones\": 1983.0}, {\"a\\u00f1o\": 2012, \"semana\": 13, \"defunciones\": 1902.2565090243304}, {\"a\\u00f1o\": 2013, \"semana\": 13, \"defunciones\": 1797.3574379627887}, {\"a\\u00f1o\": 2014, \"semana\": 13, \"defunciones\": 1900.8766418150492}, {\"a\\u00f1o\": 2015, \"semana\": 13, \"defunciones\": 1910.9438555364752}, {\"a\\u00f1o\": 2016, \"semana\": 13, \"defunciones\": 1975.3476218966507}, {\"a\\u00f1o\": 2017, \"semana\": 13, \"defunciones\": 1907.144819793209}, {\"a\\u00f1o\": 2018, \"semana\": 13, \"defunciones\": 1860.9822114723331}, {\"a\\u00f1o\": 2019, \"semana\": 13, \"defunciones\": 1869.8767647868183}, {\"a\\u00f1o\": 2020, \"semana\": 13, \"defunciones\": 1924.0}, {\"a\\u00f1o\": 2012, \"semana\": 14, \"defunciones\": 1820.0393834122663}, {\"a\\u00f1o\": 2013, \"semana\": 14, \"defunciones\": 2000.8948210984263}, {\"a\\u00f1o\": 2014, \"semana\": 14, \"defunciones\": 1948.8070557060876}, {\"a\\u00f1o\": 2015, \"semana\": 14, \"defunciones\": 1760.2215232688095}, {\"a\\u00f1o\": 2016, \"semana\": 14, \"defunciones\": 1959.3399426268238}, {\"a\\u00f1o\": 2017, \"semana\": 14, \"defunciones\": 1942.5008306290702}, {\"a\\u00f1o\": 2018, \"semana\": 14, \"defunciones\": 2098.2886679688054}, {\"a\\u00f1o\": 2019, \"semana\": 14, \"defunciones\": 1959.2085537668615}, {\"a\\u00f1o\": 2020, \"semana\": 14, \"defunciones\": 2019.0}, {\"a\\u00f1o\": 2012, \"semana\": 15, \"defunciones\": 2138.77152790835}, {\"a\\u00f1o\": 2013, \"semana\": 15, \"defunciones\": 2039.8227359057887}, {\"a\\u00f1o\": 2014, \"semana\": 15, \"defunciones\": 2116.563504324722}, {\"a\\u00f1o\": 2015, \"semana\": 15, \"defunciones\": 2067.0491282422718}, {\"a\\u00f1o\": 2016, \"semana\": 15, \"defunciones\": 2036.1768031219933}, {\"a\\u00f1o\": 2017, \"semana\": 15, \"defunciones\": 1916.5037638379958}, {\"a\\u00f1o\": 2018, \"semana\": 15, \"defunciones\": 2049.370231761199}, {\"a\\u00f1o\": 2019, \"semana\": 15, \"defunciones\": 2009.9652520509771}, {\"a\\u00f1o\": 2020, \"semana\": 15, \"defunciones\": 1951.0}, {\"a\\u00f1o\": 2012, \"semana\": 16, \"defunciones\": 1915.7716529605602}, {\"a\\u00f1o\": 2013, \"semana\": 16, \"defunciones\": 1960.8546801537107}, {\"a\\u00f1o\": 2014, \"semana\": 16, \"defunciones\": 1880.179417634828}, {\"a\\u00f1o\": 2015, \"semana\": 16, \"defunciones\": 1947.5478505157653}, {\"a\\u00f1o\": 2016, \"semana\": 16, \"defunciones\": 2006.2958018183162}, {\"a\\u00f1o\": 2017, \"semana\": 16, \"defunciones\": 2073.5260472560844}, {\"a\\u00f1o\": 2018, \"semana\": 16, \"defunciones\": 1975.4721685539646}, {\"a\\u00f1o\": 2019, \"semana\": 16, \"defunciones\": 1941.9512763502623}, {\"a\\u00f1o\": 2020, \"semana\": 16, \"defunciones\": 2188.0}, {\"a\\u00f1o\": 2012, \"semana\": 17, \"defunciones\": 2038.5342103813134}, {\"a\\u00f1o\": 2013, \"semana\": 17, \"defunciones\": 1999.782594961073}, {\"a\\u00f1o\": 2014, \"semana\": 17, \"defunciones\": 2305.017177123578}, {\"a\\u00f1o\": 2015, \"semana\": 17, \"defunciones\": 2104.729711309188}, {\"a\\u00f1o\": 2016, \"semana\": 17, \"defunciones\": 2102.3418774372785}, {\"a\\u00f1o\": 2017, \"semana\": 17, \"defunciones\": 2036.0902710769376}, {\"a\\u00f1o\": 2018, \"semana\": 17, \"defunciones\": 2054.574320719455}, {\"a\\u00f1o\": 2019, \"semana\": 17, \"defunciones\": 2139.9023996583132}, {\"a\\u00f1o\": 2020, \"semana\": 17, \"defunciones\": 2088.0}, {\"a\\u00f1o\": 2012, \"semana\": 18, \"defunciones\": 2103.8574060730903}, {\"a\\u00f1o\": 2013, \"semana\": 18, \"defunciones\": 2077.6384245757977}, {\"a\\u00f1o\": 2014, \"semana\": 18, \"defunciones\": 2027.2386420732416}, {\"a\\u00f1o\": 2015, \"semana\": 18, \"defunciones\": 1943.2414981652607}, {\"a\\u00f1o\": 2016, \"semana\": 18, \"defunciones\": 2121.5510925610706}, {\"a\\u00f1o\": 2017, \"semana\": 18, \"defunciones\": 2003.8539082560055}, {\"a\\u00f1o\": 2018, \"semana\": 18, \"defunciones\": 2040.0028716363383}, {\"a\\u00f1o\": 2019, \"semana\": 18, \"defunciones\": 2083.054897580104}, {\"a\\u00f1o\": 2020, \"semana\": 18, \"defunciones\": 1971.0}, {\"a\\u00f1o\": 2012, \"semana\": 19, \"defunciones\": 2061.0594502750296}, {\"a\\u00f1o\": 2013, \"semana\": 19, \"defunciones\": 2020.914891570784}, {\"a\\u00f1o\": 2014, \"semana\": 19, \"defunciones\": 2186.2804699844146}, {\"a\\u00f1o\": 2015, \"semana\": 19, \"defunciones\": 2170.4015846543853}, {\"a\\u00f1o\": 2016, \"semana\": 19, \"defunciones\": 2038.3111603579703}, {\"a\\u00f1o\": 2017, \"semana\": 19, \"defunciones\": 2000.7342602410765}, {\"a\\u00f1o\": 2018, \"semana\": 19, \"defunciones\": 1939.0435458461727}, {\"a\\u00f1o\": 2019, \"semana\": 19, \"defunciones\": 2078.9943617173744}, {\"a\\u00f1o\": 2020, \"semana\": 19, \"defunciones\": 2360.0}, {\"a\\u00f1o\": 2012, \"semana\": 20, \"defunciones\": 2124.1301219774346}, {\"a\\u00f1o\": 2013, \"semana\": 20, \"defunciones\": 2145.4842189543438}, {\"a\\u00f1o\": 2014, \"semana\": 20, \"defunciones\": 1968.4149522978762}, {\"a\\u00f1o\": 2015, \"semana\": 20, \"defunciones\": 2084.2745376442904}, {\"a\\u00f1o\": 2016, \"semana\": 20, \"defunciones\": 2143.9618435388284}, {\"a\\u00f1o\": 2017, \"semana\": 20, \"defunciones\": 2095.3635833605867}, {\"a\\u00f1o\": 2018, \"semana\": 20, \"defunciones\": 2104.5335747187123}, {\"a\\u00f1o\": 2019, \"semana\": 20, \"defunciones\": 2286.081690716566}, {\"a\\u00f1o\": 2020, \"semana\": 20, \"defunciones\": 2416.0}, {\"a\\u00f1o\": 2012, \"semana\": 21, \"defunciones\": 2159.0442438126947}, {\"a\\u00f1o\": 2013, \"semana\": 21, \"defunciones\": 2148.820897366403}, {\"a\\u00f1o\": 2014, \"semana\": 21, \"defunciones\": 2023.9706593079436}, {\"a\\u00f1o\": 2015, \"semana\": 21, \"defunciones\": 2091.8106542576743}, {\"a\\u00f1o\": 2016, \"semana\": 21, \"defunciones\": 2145.029022156817}, {\"a\\u00f1o\": 2017, \"semana\": 21, \"defunciones\": 2241.987040062246}, {\"a\\u00f1o\": 2018, \"semana\": 21, \"defunciones\": 2135.7581084682483}, {\"a\\u00f1o\": 2019, \"semana\": 21, \"defunciones\": 2265.77901140292}, {\"a\\u00f1o\": 2020, \"semana\": 21, \"defunciones\": 2674.0}, {\"a\\u00f1o\": 2012, \"semana\": 22, \"defunciones\": 2180.443221711725}, {\"a\\u00f1o\": 2013, \"semana\": 22, \"defunciones\": 2247.8090235908394}, {\"a\\u00f1o\": 2014, \"semana\": 22, \"defunciones\": 2208.0670217530687}, {\"a\\u00f1o\": 2015, \"semana\": 22, \"defunciones\": 2308.204859870537}, {\"a\\u00f1o\": 2016, \"semana\": 22, \"defunciones\": 2194.1192385842864}, {\"a\\u00f1o\": 2017, \"semana\": 22, \"defunciones\": 2404.208736838549}, {\"a\\u00f1o\": 2018, \"semana\": 22, \"defunciones\": 2212.7786250504364}, {\"a\\u00f1o\": 2019, \"semana\": 22, \"defunciones\": 2409.928034529808}, {\"a\\u00f1o\": 2020, \"semana\": 22, \"defunciones\": 2980.0}, {\"a\\u00f1o\": 2012, \"semana\": 23, \"defunciones\": 2193.958365647955}, {\"a\\u00f1o\": 2013, \"semana\": 23, \"defunciones\": 2195.534395135238}, {\"a\\u00f1o\": 2014, \"semana\": 23, \"defunciones\": 2206.977694164636}, {\"a\\u00f1o\": 2015, \"semana\": 23, \"defunciones\": 2190.856758319283}, {\"a\\u00f1o\": 2016, \"semana\": 23, \"defunciones\": 2245.343812247733}, {\"a\\u00f1o\": 2017, \"semana\": 23, \"defunciones\": 2449.96357439084}, {\"a\\u00f1o\": 2018, \"semana\": 23, \"defunciones\": 2387.636014047837}, {\"a\\u00f1o\": 2019, \"semana\": 23, \"defunciones\": 2416.018838323902}, {\"a\\u00f1o\": 2020, \"semana\": 23, \"defunciones\": null}, {\"a\\u00f1o\": 2012, \"semana\": 24, \"defunciones\": 2365.1501888401976}, {\"a\\u00f1o\": 2013, \"semana\": 24, \"defunciones\": 2322.328174793504}, {\"a\\u00f1o\": 2014, \"semana\": 24, \"defunciones\": 2409.5926256131165}, {\"a\\u00f1o\": 2015, \"semana\": 24, \"defunciones\": 2226.384165210947}, {\"a\\u00f1o\": 2016, \"semana\": 24, \"defunciones\": 2317.9119582709486}, {\"a\\u00f1o\": 2017, \"semana\": 24, \"defunciones\": 2705.774711615011}, {\"a\\u00f1o\": 2018, \"semana\": 24, \"defunciones\": 2497.962699962863}, {\"a\\u00f1o\": 2019, \"semana\": 24, \"defunciones\": 2373.383211765245}, {\"a\\u00f1o\": 2020, \"semana\": 24, \"defunciones\": null}, {\"a\\u00f1o\": 2012, \"semana\": 25, \"defunciones\": 2311.0896130952788}, {\"a\\u00f1o\": 2013, \"semana\": 25, \"defunciones\": 2264.492415651137}, {\"a\\u00f1o\": 2014, \"semana\": 25, \"defunciones\": 2596.9569708235404}, {\"a\\u00f1o\": 2015, \"semana\": 25, \"defunciones\": 2234.9968699119563}, {\"a\\u00f1o\": 2016, \"semana\": 25, \"defunciones\": 2484.391822677149}, {\"a\\u00f1o\": 2017, \"semana\": 25, \"defunciones\": 2853.4380509883126}, {\"a\\u00f1o\": 2018, \"semana\": 25, \"defunciones\": 2425.1054545472794}, {\"a\\u00f1o\": 2019, \"semana\": 25, \"defunciones\": 2550.016521793967}, {\"a\\u00f1o\": 2020, \"semana\": 25, \"defunciones\": null}, {\"a\\u00f1o\": 2012, \"semana\": 26, \"defunciones\": 2529.5844400643255}, {\"a\\u00f1o\": 2013, \"semana\": 26, \"defunciones\": 2362.3683157382197}, {\"a\\u00f1o\": 2014, \"semana\": 26, \"defunciones\": 2368.1981772526747}, {\"a\\u00f1o\": 2015, \"semana\": 26, \"defunciones\": 2527.828829746278}, {\"a\\u00f1o\": 2016, \"semana\": 26, \"defunciones\": 2484.391822677149}, {\"a\\u00f1o\": 2017, \"semana\": 26, \"defunciones\": 2470.7612278236993}, {\"a\\u00f1o\": 2018, \"semana\": 26, \"defunciones\": 2479.227979713142}, {\"a\\u00f1o\": 2019, \"semana\": 26, \"defunciones\": 2554.0770576566965}, {\"a\\u00f1o\": 2020, \"semana\": 26, \"defunciones\": null}, {\"a\\u00f1o\": 2012, \"semana\": 27, \"defunciones\": 2405.6956206488867}, {\"a\\u00f1o\": 2013, \"semana\": 27, \"defunciones\": 2540.3244977147333}, {\"a\\u00f1o\": 2014, \"semana\": 27, \"defunciones\": 2649.2446950683093}, {\"a\\u00f1o\": 2015, \"semana\": 27, \"defunciones\": 2286.673098118013}, {\"a\\u00f1o\": 2016, \"semana\": 27, \"defunciones\": 2499.332323328988}, {\"a\\u00f1o\": 2017, \"semana\": 27, \"defunciones\": 2597.626913764142}, {\"a\\u00f1o\": 2018, \"semana\": 27, \"defunciones\": 2373.0645649647204}, {\"a\\u00f1o\": 2019, \"semana\": 27, \"defunciones\": 2456.6241969511943}, {\"a\\u00f1o\": 2020, \"semana\": 27, \"defunciones\": null}, {\"a\\u00f1o\": 2012, \"semana\": 28, \"defunciones\": 2799.88731878892}, {\"a\\u00f1o\": 2013, \"semana\": 28, \"defunciones\": 2433.5507885288253}, {\"a\\u00f1o\": 2014, \"semana\": 28, \"defunciones\": 2736.390902142925}, {\"a\\u00f1o\": 2015, \"semana\": 28, \"defunciones\": 2411.5573162826504}, {\"a\\u00f1o\": 2016, \"semana\": 28, \"defunciones\": 2635.9311864315114}, {\"a\\u00f1o\": 2017, \"semana\": 28, \"defunciones\": 2439.5647476744102}, {\"a\\u00f1o\": 2018, \"semana\": 28, \"defunciones\": 2466.7381662133275}, {\"a\\u00f1o\": 2019, \"semana\": 28, \"defunciones\": 2483.0176800589343}, {\"a\\u00f1o\": 2020, \"semana\": 28, \"defunciones\": null}, {\"a\\u00f1o\": 2012, \"semana\": 29, \"defunciones\": 2509.311724159981}, {\"a\\u00f1o\": 2013, \"semana\": 29, \"defunciones\": 2437.999693078238}, {\"a\\u00f1o\": 2014, \"semana\": 29, \"defunciones\": 2764.7134194421747}, {\"a\\u00f1o\": 2015, \"semana\": 29, \"defunciones\": 2390.0255545301266}, {\"a\\u00f1o\": 2016, \"semana\": 29, \"defunciones\": 2710.633689690704}, {\"a\\u00f1o\": 2017, \"semana\": 29, \"defunciones\": 2556.031606898423}, {\"a\\u00f1o\": 2018, \"semana\": 29, \"defunciones\": 2306.452226299044}, {\"a\\u00f1o\": 2019, \"semana\": 29, \"defunciones\": 2440.3820535002774}, {\"a\\u00f1o\": 2020, \"semana\": 29, \"defunciones\": null}, {\"a\\u00f1o\": 2012, \"semana\": 30, \"defunciones\": 2367.4027128295693}, {\"a\\u00f1o\": 2013, \"semana\": 30, \"defunciones\": 2533.651140890614}, {\"a\\u00f1o\": 2014, \"semana\": 30, \"defunciones\": 2431.3791773817707}, {\"a\\u00f1o\": 2015, \"semana\": 30, \"defunciones\": 2476.152601540221}, {\"a\\u00f1o\": 2016, \"semana\": 30, \"defunciones\": 2535.616396340595}, {\"a\\u00f1o\": 2017, \"semana\": 30, \"defunciones\": 2400.0492061519776}, {\"a\\u00f1o\": 2018, \"semana\": 30, \"defunciones\": 2608.28938587789}, {\"a\\u00f1o\": 2019, \"semana\": 30, \"defunciones\": 2391.6556231475265}, {\"a\\u00f1o\": 2020, \"semana\": 30, \"defunciones\": null}, {\"a\\u00f1o\": 2012, \"semana\": 31, \"defunciones\": 2513.816772138724}, {\"a\\u00f1o\": 2013, \"semana\": 31, \"defunciones\": 2424.6529794299995}, {\"a\\u00f1o\": 2014, \"semana\": 31, \"defunciones\": 2649.2446950683093}, {\"a\\u00f1o\": 2015, \"semana\": 31, \"defunciones\": 2424.4763733341642}, {\"a\\u00f1o\": 2016, \"semana\": 31, \"defunciones\": 2452.376464137495}, {\"a\\u00f1o\": 2017, \"semana\": 31, \"defunciones\": 2416.687328898265}, {\"a\\u00f1o\": 2018, \"semana\": 31, \"defunciones\": 2595.7995723780755}, {\"a\\u00f1o\": 2019, \"semana\": 31, \"defunciones\": 2405.867498667079}, {\"a\\u00f1o\": 2020, \"semana\": 31, \"defunciones\": null}, {\"a\\u00f1o\": 2012, \"semana\": 32, \"defunciones\": 2374.160284797684}, {\"a\\u00f1o\": 2013, \"semana\": 32, \"defunciones\": 2373.490577111752}, {\"a\\u00f1o\": 2014, \"semana\": 32, \"defunciones\": 2355.126246191482}, {\"a\\u00f1o\": 2015, \"semana\": 32, \"defunciones\": 2415.863668633155}, {\"a\\u00f1o\": 2016, \"semana\": 32, \"defunciones\": 2424.629820069795}, {\"a\\u00f1o\": 2017, \"semana\": 32, \"defunciones\": 2333.496715166827}, {\"a\\u00f1o\": 2018, \"semana\": 32, \"defunciones\": 2610.3710214611924}, {\"a\\u00f1o\": 2019, \"semana\": 32, \"defunciones\": 2318.5659776184}, {\"a\\u00f1o\": 2020, \"semana\": 32, \"defunciones\": null}, {\"a\\u00f1o\": 2012, \"semana\": 33, \"defunciones\": 2405.6956206488867}, {\"a\\u00f1o\": 2013, \"semana\": 33, \"defunciones\": 2384.6128384852836}, {\"a\\u00f1o\": 2014, \"semana\": 33, \"defunciones\": 2070.811745610549}, {\"a\\u00f1o\": 2015, \"semana\": 33, \"defunciones\": 2316.8175645715464}, {\"a\\u00f1o\": 2016, \"semana\": 33, \"defunciones\": 2266.687384607502}, {\"a\\u00f1o\": 2017, \"semana\": 33, \"defunciones\": 2283.5823469279644}, {\"a\\u00f1o\": 2018, \"semana\": 33, \"defunciones\": 2427.187090130582}, {\"a\\u00f1o\": 2019, \"semana\": 33, \"defunciones\": 2330.7475852065877}, {\"a\\u00f1o\": 2020, \"semana\": 33, \"defunciones\": null}, {\"a\\u00f1o\": 2012, \"semana\": 34, \"defunciones\": 2333.614852988995}, {\"a\\u00f1o\": 2013, \"semana\": 34, \"defunciones\": 2357.919411188807}, {\"a\\u00f1o\": 2014, \"semana\": 34, \"defunciones\": 2457.5230395041553}, {\"a\\u00f1o\": 2015, \"semana\": 34, \"defunciones\": 2346.9620310250793}, {\"a\\u00f1o\": 2016, \"semana\": 34, \"defunciones\": 2302.97145761911}, {\"a\\u00f1o\": 2017, \"semana\": 34, \"defunciones\": 2200.3917331965267}, {\"a\\u00f1o\": 2018, \"semana\": 34, \"defunciones\": 2445.9218103803037}, {\"a\\u00f1o\": 2019, \"semana\": 34, \"defunciones\": 2294.2027624420243}, {\"a\\u00f1o\": 2020, \"semana\": 34, \"defunciones\": null}, {\"a\\u00f1o\": 2012, \"semana\": 35, \"defunciones\": 2401.190572670144}, {\"a\\u00f1o\": 2013, \"semana\": 35, \"defunciones\": 2168.840967838761}, {\"a\\u00f1o\": 2014, \"semana\": 35, \"defunciones\": 2154.689969919867}, {\"a\\u00f1o\": 2015, \"semana\": 35, \"defunciones\": 2359.8810880765936}, {\"a\\u00f1o\": 2016, \"semana\": 35, \"defunciones\": 2236.806383303825}, {\"a\\u00f1o\": 2017, \"semana\": 35, \"defunciones\": 2229.5084480025303}, {\"a\\u00f1o\": 2018, \"semana\": 35, \"defunciones\": 2377.227836131325}, {\"a\\u00f1o\": 2019, \"semana\": 35, \"defunciones\": 2204.870973461981}, {\"a\\u00f1o\": 2020, \"semana\": 35, \"defunciones\": null}, {\"a\\u00f1o\": 2012, \"semana\": 36, \"defunciones\": 2315.594661074022}, {\"a\\u00f1o\": 2013, \"semana\": 36, \"defunciones\": 2135.4741837181646}, {\"a\\u00f1o\": 2014, \"semana\": 36, \"defunciones\": 2141.618038858674}, {\"a\\u00f1o\": 2015, \"semana\": 36, \"defunciones\": 2325.4302692725555}, {\"a\\u00f1o\": 2016, \"semana\": 36, \"defunciones\": 2450.242106901518}, {\"a\\u00f1o\": 2017, \"semana\": 36, \"defunciones\": 2229.5084480025303}, {\"a\\u00f1o\": 2018, \"semana\": 36, \"defunciones\": 2314.7787686322536}, {\"a\\u00f1o\": 2019, \"semana\": 36, \"defunciones\": 2261.7184755401904}, {\"a\\u00f1o\": 2020, \"semana\": 36, \"defunciones\": null}, {\"a\\u00f1o\": 2012, \"semana\": 37, \"defunciones\": 2347.1299969252245}, {\"a\\u00f1o\": 2013, \"semana\": 37, \"defunciones\": 2127.6886007566923}, {\"a\\u00f1o\": 2014, \"semana\": 37, \"defunciones\": 2201.531056222472}, {\"a\\u00f1o\": 2015, \"semana\": 37, \"defunciones\": 2211.3119319841803}, {\"a\\u00f1o\": 2016, \"semana\": 37, \"defunciones\": 2362.733460226464}, {\"a\\u00f1o\": 2017, \"semana\": 37, \"defunciones\": 2420.8468595848367}, {\"a\\u00f1o\": 2018, \"semana\": 37, \"defunciones\": 2389.7176496311395}, {\"a\\u00f1o\": 2019, \"semana\": 37, \"defunciones\": 2245.4763320892735}, {\"a\\u00f1o\": 2020, \"semana\": 37, \"defunciones\": null}, {\"a\\u00f1o\": 2012, \"semana\": 38, \"defunciones\": 2002.4938265513672}, {\"a\\u00f1o\": 2013, \"semana\": 38, \"defunciones\": 1711.7160253865916}, {\"a\\u00f1o\": 2014, \"semana\": 38, \"defunciones\": 1885.6260555769913}, {\"a\\u00f1o\": 2015, \"semana\": 38, \"defunciones\": 2113.3424160101977}, {\"a\\u00f1o\": 2016, \"semana\": 38, \"defunciones\": 2249.6125267196862}, {\"a\\u00f1o\": 2017, \"semana\": 38, \"defunciones\": 2154.6368956442366}, {\"a\\u00f1o\": 2018, \"semana\": 38, \"defunciones\": 2059.778409677711}, {\"a\\u00f1o\": 2019, \"semana\": 38, \"defunciones\": 1832.3168080565727}, {\"a\\u00f1o\": 2020, \"semana\": 38, \"defunciones\": null}, {\"a\\u00f1o\": 2012, \"semana\": 39, \"defunciones\": 2329.1098050102514}, {\"a\\u00f1o\": 2013, \"semana\": 39, \"defunciones\": 2720.5051319659538}, {\"a\\u00f1o\": 2014, \"semana\": 39, \"defunciones\": 2544.669246578771}, {\"a\\u00f1o\": 2015, \"semana\": 39, \"defunciones\": 2657.0194002614203}, {\"a\\u00f1o\": 2016, \"semana\": 39, \"defunciones\": 2172.775666224517}, {\"a\\u00f1o\": 2017, \"semana\": 39, \"defunciones\": 2271.103754868249}, {\"a\\u00f1o\": 2018, \"semana\": 39, \"defunciones\": 2273.1460569662054}, {\"a\\u00f1o\": 2019, \"semana\": 39, \"defunciones\": 2696.19581285222}, {\"a\\u00f1o\": 2020, \"semana\": 39, \"defunciones\": null}, {\"a\\u00f1o\": 2012, \"semana\": 40, \"defunciones\": 2195.0846276426405}, {\"a\\u00f1o\": 2013, \"semana\": 40, \"defunciones\": 2607.058065955926}, {\"a\\u00f1o\": 2014, \"semana\": 40, \"defunciones\": 2239.6575218176167}, {\"a\\u00f1o\": 2015, \"semana\": 40, \"defunciones\": 2204.8524034584234}, {\"a\\u00f1o\": 2016, \"semana\": 40, \"defunciones\": 2241.075097775779}, {\"a\\u00f1o\": 2017, \"semana\": 40, \"defunciones\": 2262.7846934951053}, {\"a\\u00f1o\": 2018, \"semana\": 40, \"defunciones\": 2179.472455717598}, {\"a\\u00f1o\": 2019, \"semana\": 40, \"defunciones\": 2212.9920451874395}, {\"a\\u00f1o\": 2020, \"semana\": 40, \"defunciones\": null}, {\"a\\u00f1o\": 2012, \"semana\": 41, \"defunciones\": 2270.5441812865897}, {\"a\\u00f1o\": 2013, \"semana\": 41, \"defunciones\": 2304.532556595853}, {\"a\\u00f1o\": 2014, \"semana\": 41, \"defunciones\": 2094.7769525560684}, {\"a\\u00f1o\": 2015, \"semana\": 41, \"defunciones\": 2286.673098118013}, {\"a\\u00f1o\": 2016, \"semana\": 41, \"defunciones\": 2032.975267268028}, {\"a\\u00f1o\": 2017, \"semana\": 41, \"defunciones\": 2042.3295671067954}, {\"a\\u00f1o\": 2018, \"semana\": 41, \"defunciones\": 2127.431566135039}, {\"a\\u00f1o\": 2019, \"semana\": 41, \"defunciones\": 2243.446064157909}, {\"a\\u00f1o\": 2020, \"semana\": 41, \"defunciones\": null}, {\"a\\u00f1o\": 2012, \"semana\": 42, \"defunciones\": 2004.7463505407388}, {\"a\\u00f1o\": 2013, \"semana\": 42, \"defunciones\": 2198.871073547298}, {\"a\\u00f1o\": 2014, \"semana\": 42, \"defunciones\": 2063.1864524915204}, {\"a\\u00f1o\": 2015, \"semana\": 42, \"defunciones\": 2082.1213614690387}, {\"a\\u00f1o\": 2016, \"semana\": 42, \"defunciones\": 1948.668156446939}, {\"a\\u00f1o\": 2017, \"semana\": 42, \"defunciones\": 2061.047455196369}, {\"a\\u00f1o\": 2018, \"semana\": 42, \"defunciones\": 1979.6354397205691}, {\"a\\u00f1o\": 2019, \"semana\": 42, \"defunciones\": 2033.3133332616703}, {\"a\\u00f1o\": 2020, \"semana\": 42, \"defunciones\": null}, {\"a\\u00f1o\": 2012, \"semana\": 43, \"defunciones\": 2165.8018157808096}, {\"a\\u00f1o\": 2013, \"semana\": 43, \"defunciones\": 2055.3939018287338}, {\"a\\u00f1o\": 2014, \"semana\": 43, \"defunciones\": 2106.7595560288282}, {\"a\\u00f1o\": 2015, \"semana\": 43, \"defunciones\": 2144.5634705513567}, {\"a\\u00f1o\": 2016, \"semana\": 43, \"defunciones\": 2228.268954359917}, {\"a\\u00f1o\": 2017, \"semana\": 43, \"defunciones\": 1871.7888089573482}, {\"a\\u00f1o\": 2018, \"semana\": 43, \"defunciones\": 2148.2479219680627}, {\"a\\u00f1o\": 2019, \"semana\": 43, \"defunciones\": 2047.5252087812228}, {\"a\\u00f1o\": 2020, \"semana\": 43, \"defunciones\": null}, {\"a\\u00f1o\": 2012, \"semana\": 44, \"defunciones\": 1880.8575311253}, {\"a\\u00f1o\": 2013, \"semana\": 44, \"defunciones\": 1800.6941163748484}, {\"a\\u00f1o\": 2014, \"semana\": 44, \"defunciones\": 1869.286141750501}, {\"a\\u00f1o\": 2015, \"semana\": 44, \"defunciones\": 1742.9961138667907}, {\"a\\u00f1o\": 2016, \"semana\": 44, \"defunciones\": 1879.3015462776887}, {\"a\\u00f1o\": 2017, \"semana\": 44, \"defunciones\": 2006.9735562709345}, {\"a\\u00f1o\": 2018, \"semana\": 44, \"defunciones\": 1832.880131097751}, {\"a\\u00f1o\": 2019, \"semana\": 44, \"defunciones\": 1926.7242668650276}, {\"a\\u00f1o\": 2020, \"semana\": 44, \"defunciones\": null}, {\"a\\u00f1o\": 2012, \"semana\": 45, \"defunciones\": 2273.922967270647}, {\"a\\u00f1o\": 2013, \"semana\": 45, \"defunciones\": 2266.716867925844}, {\"a\\u00f1o\": 2014, \"semana\": 45, \"defunciones\": 2235.3002114638857}, {\"a\\u00f1o\": 2015, \"semana\": 45, \"defunciones\": 2183.3206417058996}, {\"a\\u00f1o\": 2016, \"semana\": 45, \"defunciones\": 2056.4531968637743}, {\"a\\u00f1o\": 2017, \"semana\": 45, \"defunciones\": 2051.688511151582}, {\"a\\u00f1o\": 2018, \"semana\": 45, \"defunciones\": 2316.8604042155557}, {\"a\\u00f1o\": 2019, \"semana\": 45, \"defunciones\": 2255.627671746097}, {\"a\\u00f1o\": 2020, \"semana\": 45, \"defunciones\": null}, {\"a\\u00f1o\": 2012, \"semana\": 46, \"defunciones\": 2107.2361920571475}, {\"a\\u00f1o\": 2013, \"semana\": 46, \"defunciones\": 2117.6785655205135}, {\"a\\u00f1o\": 2014, \"semana\": 46, \"defunciones\": 2142.7073664471072}, {\"a\\u00f1o\": 2015, \"semana\": 46, \"defunciones\": 2407.2509639321456}, {\"a\\u00f1o\": 2016, \"semana\": 46, \"defunciones\": 1920.921512379239}, {\"a\\u00f1o\": 2017, \"semana\": 46, \"defunciones\": 1888.4269317036355}, {\"a\\u00f1o\": 2018, \"semana\": 46, \"defunciones\": 2005.6558845118489}, {\"a\\u00f1o\": 2019, \"semana\": 46, \"defunciones\": 2033.3133332616703}, {\"a\\u00f1o\": 2020, \"semana\": 46, \"defunciones\": null}, {\"a\\u00f1o\": 2012, \"semana\": 47, \"defunciones\": 1946.180726817077}, {\"a\\u00f1o\": 2013, \"semana\": 47, \"defunciones\": 2102.1073995975685}, {\"a\\u00f1o\": 2014, \"semana\": 47, \"defunciones\": 2020.7026765426453}, {\"a\\u00f1o\": 2015, \"semana\": 47, \"defunciones\": 2098.2701827834308}, {\"a\\u00f1o\": 2016, \"semana\": 47, \"defunciones\": 1978.5491577506161}, {\"a\\u00f1o\": 2017, \"semana\": 47, \"defunciones\": 2020.492031002293}, {\"a\\u00f1o\": 2018, \"semana\": 47, \"defunciones\": 2067.0641342192694}, {\"a\\u00f1o\": 2019, \"semana\": 47, \"defunciones\": 2103.35757689375}, {\"a\\u00f1o\": 2020, \"semana\": 47, \"defunciones\": null}, {\"a\\u00f1o\": 2012, \"semana\": 48, \"defunciones\": 2026.1453284397694}, {\"a\\u00f1o\": 2013, \"semana\": 48, \"defunciones\": 1953.0690971922384}, {\"a\\u00f1o\": 2014, \"semana\": 48, \"defunciones\": 2010.898728246751}, {\"a\\u00f1o\": 2015, \"semana\": 48, \"defunciones\": 2005.6836072475792}, {\"a\\u00f1o\": 2016, \"semana\": 48, \"defunciones\": 1999.8927301103856}, {\"a\\u00f1o\": 2017, \"semana\": 48, \"defunciones\": 1983.056254823146}, {\"a\\u00f1o\": 2018, \"semana\": 48, \"defunciones\": 1983.798710887174}, {\"a\\u00f1o\": 2019, \"semana\": 48, \"defunciones\": 1989.662572737331}, {\"a\\u00f1o\": 2020, \"semana\": 48, \"defunciones\": null}, {\"a\\u00f1o\": 2012, \"semana\": 49, \"defunciones\": 2040.7867343706848}, {\"a\\u00f1o\": 2013, \"semana\": 49, \"defunciones\": 2090.9851382240363}, {\"a\\u00f1o\": 2014, \"semana\": 49, \"defunciones\": 2080.6156939064435}, {\"a\\u00f1o\": 2015, \"semana\": 49, \"defunciones\": 2110.112651747319}, {\"a\\u00f1o\": 2016, \"semana\": 49, \"defunciones\": 1932.6604771771122}, {\"a\\u00f1o\": 2017, \"semana\": 49, \"defunciones\": 1806.2762006438409}, {\"a\\u00f1o\": 2018, \"semana\": 49, \"defunciones\": 2010.859973470105}, {\"a\\u00f1o\": 2019, \"semana\": 49, \"defunciones\": 1992.707974634378}, {\"a\\u00f1o\": 2020, \"semana\": 49, \"defunciones\": null}, {\"a\\u00f1o\": 2012, \"semana\": 50, \"defunciones\": 1866.2161251943846}, {\"a\\u00f1o\": 2013, \"semana\": 50, \"defunciones\": 1896.3455641872245}, {\"a\\u00f1o\": 2014, \"semana\": 50, \"defunciones\": 1900.8766418150492}, {\"a\\u00f1o\": 2015, \"semana\": 50, \"defunciones\": 2061.666187804141}, {\"a\\u00f1o\": 2016, \"semana\": 50, \"defunciones\": 2018.0347666161892}, {\"a\\u00f1o\": 2017, \"semana\": 50, \"defunciones\": 2086.0046393158}, {\"a\\u00f1o\": 2018, \"semana\": 50, \"defunciones\": 1984.839528678825}, {\"a\\u00f1o\": 2019, \"semana\": 50, \"defunciones\": 1906.4215875513814}, {\"a\\u00f1o\": 2020, \"semana\": 50, \"defunciones\": null}, {\"a\\u00f1o\": 2012, \"semana\": 51, \"defunciones\": 1981.094848652337}, {\"a\\u00f1o\": 2013, \"semana\": 51, \"defunciones\": 2132.137505306105}, {\"a\\u00f1o\": 2014, \"semana\": 51, \"defunciones\": 1990.20150406653}, {\"a\\u00f1o\": 2015, \"semana\": 51, \"defunciones\": 2022.9090166495982}, {\"a\\u00f1o\": 2016, \"semana\": 51, \"defunciones\": 1908.1153689633773}, {\"a\\u00f1o\": 2017, \"semana\": 51, \"defunciones\": 2103.6826447337307}, {\"a\\u00f1o\": 2018, \"semana\": 51, \"defunciones\": 2060.819227469362}, {\"a\\u00f1o\": 2019, \"semana\": 51, \"defunciones\": 1921.6485970366161}, {\"a\\u00f1o\": 2020, \"semana\": 51, \"defunciones\": null}, {\"a\\u00f1o\": 2012, \"semana\": 52, \"defunciones\": 2086.9634761528027}, {\"a\\u00f1o\": 2013, \"semana\": 52, \"defunciones\": 2063.179484790206}, {\"a\\u00f1o\": 2014, \"semana\": 52, \"defunciones\": 1984.7548661243666}, {\"a\\u00f1o\": 2015, \"semana\": 52, \"defunciones\": 1903.407738923092}, {\"a\\u00f1o\": 2016, \"semana\": 52, \"defunciones\": 1947.6009778289506}, {\"a\\u00f1o\": 2017, \"semana\": 52, \"defunciones\": 2013.2128523007923}, {\"a\\u00f1o\": 2018, \"semana\": 52, \"defunciones\": 1969.2272618040574}, {\"a\\u00f1o\": 2019, \"semana\": 52, \"defunciones\": 2009.9652520509771}, {\"a\\u00f1o\": 2020, \"semana\": 52, \"defunciones\": null}], \"data-60fba3aa1a35dbd372704cf340e49488\": [{\"semana\": 1, \"Expected\": 2009.1497914840038, \"lower\": 1869.2913405194276, \"upper\": 2149.00824244858, \"lower 2\": 1729.4328895548515, \"upper 2\": 2288.866693413156}, {\"semana\": 2, \"Expected\": 1964.5739101846186, \"lower\": 1919.941011351786, \"upper\": 2009.2068090174512, \"lower 2\": 1875.3081125189535, \"upper 2\": 2053.839707850284}, {\"semana\": 3, \"Expected\": 1955.3283217716205, \"lower\": 1849.3217802468405, \"upper\": 2061.3348632964007, \"lower 2\": 1743.3152387220603, \"upper 2\": 2167.3414048211807}, {\"semana\": 4, \"Expected\": 1987.114440434701, \"lower\": 1859.8439771601804, \"upper\": 2114.3849037092214, \"lower 2\": 1732.57351388566, \"upper 2\": 2241.655366983742}, {\"semana\": 5, \"Expected\": 1980.7242144586846, \"lower\": 1936.162056471881, \"upper\": 2025.2863724454883, \"lower 2\": 1891.5998984850773, \"upper 2\": 2069.848530432292}, {\"semana\": 6, \"Expected\": 1957.2024796198725, \"lower\": 1876.8865251264638, \"upper\": 2037.5184341132813, \"lower 2\": 1796.570570633055, \"upper 2\": 2117.83438860669}, {\"semana\": 7, \"Expected\": 1920.5468509495036, \"lower\": 1871.8371354133722, \"upper\": 1969.256566485635, \"lower 2\": 1823.1274198772405, \"upper 2\": 2017.9662820217666}, {\"semana\": 8, \"Expected\": 1949.80812293199, \"lower\": 1917.439341243288, \"upper\": 1982.176904620692, \"lower 2\": 1885.0705595545862, \"upper 2\": 2014.545686309394}, {\"semana\": 9, \"Expected\": 1926.5892149780434, \"lower\": 1871.063734644002, \"upper\": 1982.114695312085, \"lower 2\": 1815.5382543099604, \"upper 2\": 2037.6401756461264}, {\"semana\": 10, \"Expected\": 1866.0110855971554, \"lower\": 1794.745569132942, \"upper\": 1937.276602061369, \"lower 2\": 1723.4800526687286, \"upper 2\": 2008.5421185255823}, {\"semana\": 11, \"Expected\": 1884.5426170702638, \"lower\": 1807.7602675083695, \"upper\": 1961.324966632158, \"lower 2\": 1730.9779179464751, \"upper 2\": 2038.1073161940524}, {\"semana\": 12, \"Expected\": 1872.8224461310933, \"lower\": 1807.3926977174833, \"upper\": 1938.2521945447033, \"lower 2\": 1741.9629493038733, \"upper 2\": 2003.6819429583134}, {\"semana\": 13, \"Expected\": 1904.8590546970972, \"lower\": 1859.6931781753447, \"upper\": 1950.0249312188498, \"lower 2\": 1814.527301653592, \"upper 2\": 1995.1908077406024}, {\"semana\": 14, \"Expected\": 1943.911903652074, \"lower\": 1823.445783700582, \"upper\": 2064.378023603566, \"lower 2\": 1702.9796637490904, \"upper 2\": 2184.8441435550576}, {\"semana\": 15, \"Expected\": 2015.8130358028873, \"lower\": 1956.520469528787, \"upper\": 2075.1056020769875, \"lower 2\": 1897.227903254687, \"upper 2\": 2134.398168351088}, {\"semana\": 16, \"Expected\": 1988.9586288988787, \"lower\": 1935.2030380617357, \"upper\": 2042.7142197360217, \"lower 2\": 1881.4474472245927, \"upper 2\": 2096.4698105731645}, {\"semana\": 17, \"Expected\": 2087.5277160402343, \"lower\": 2045.7239706615474, \"upper\": 2129.331461418921, \"lower 2\": 2003.9202252828602, \"upper 2\": 2171.135206797608}, {\"semana\": 18, \"Expected\": 2038.340853639756, \"lower\": 1969.13231243235, \"upper\": 2107.5493948471617, \"lower 2\": 1899.9237712249442, \"upper 2\": 2176.757936054568}, {\"semana\": 19, \"Expected\": 2045.4969825633957, \"lower\": 1958.734511452502, \"upper\": 2132.2594536742895, \"lower 2\": 1871.9720403416081, \"upper 2\": 2219.0219247851833}, {\"semana\": 20, \"Expected\": 2142.8430459957967, \"lower\": 2059.6704150082483, \"upper\": 2226.015676983345, \"lower 2\": 1976.4977840207, \"upper 2\": 2309.188307970893}, {\"semana\": 21, \"Expected\": 2176.0727672695807, \"lower\": 2101.7743973203997, \"upper\": 2250.3711372187618, \"lower 2\": 2027.4760273712186, \"upper 2\": 2324.669507167943}, {\"semana\": 22, \"Expected\": 2305.847898974723, \"lower\": 2203.7961135805685, \"upper\": 2407.899684368878, \"lower 2\": 2101.7443281864134, \"upper 2\": 2509.951469763033}, {\"semana\": 23, \"Expected\": 2337.9637994659192, \"lower\": 2224.6911072989174, \"upper\": 2451.236491632921, \"lower 2\": 2111.418415131916, \"upper 2\": 2564.5091837999225}, {\"semana\": 24, \"Expected\": 2424.2833493650032, \"lower\": 2238.7194670591466, \"upper\": 2609.84723167086, \"lower 2\": 2053.15558475329, \"upper 2\": 2795.4111139767165}, {\"semana\": 25, \"Expected\": 2509.5897439837327, \"lower\": 2284.2900771593077, \"upper\": 2734.8894108081577, \"lower 2\": 2058.9904103348827, \"upper 2\": 2960.1890776325827}, {\"semana\": 26, \"Expected\": 2503.2573835233934, \"lower\": 2467.2861553775633, \"upper\": 2539.2286116692235, \"lower 2\": 2431.314927231733, \"upper 2\": 2575.199839815054}, {\"semana\": 27, \"Expected\": 2442.6642194254114, \"lower\": 2323.7136693667285, \"upper\": 2561.6147694840943, \"lower 2\": 2204.7631193080456, \"upper 2\": 2680.565319542777}, {\"semana\": 28, \"Expected\": 2487.3618193321668, \"lower\": 2399.9719655218814, \"upper\": 2574.751673142452, \"lower 2\": 2312.582111711596, \"upper 2\": 2662.1415269527374}, {\"semana\": 29, \"Expected\": 2480.7050261837153, \"lower\": 2323.579255670624, \"upper\": 2637.8307966968064, \"lower 2\": 2166.4534851575336, \"upper 2\": 2794.956567209897}, {\"semana\": 30, \"Expected\": 2482.352642611642, \"lower\": 2390.5167342371956, \"upper\": 2574.188550986088, \"lower 2\": 2298.680825862749, \"upper 2\": 2666.024459360535}, {\"semana\": 31, \"Expected\": 2459.041447483016, \"lower\": 2380.6780451951886, \"upper\": 2537.404849770843, \"lower 2\": 2302.3146429073613, \"upper 2\": 2615.7682520586704}, {\"semana\": 32, \"Expected\": 2420.585440589874, \"lower\": 2304.3425528899684, \"upper\": 2536.8283282897796, \"lower 2\": 2188.0996651900628, \"upper 2\": 2653.0712159896852}, {\"semana\": 33, \"Expected\": 2325.004394288836, \"lower\": 2262.43848628383, \"upper\": 2387.570302293842, \"lower 2\": 2199.8725782788238, \"upper 2\": 2450.1362102988483}, {\"semana\": 34, \"Expected\": 2318.0899589326086, \"lower\": 2228.8898771346835, \"upper\": 2407.2900407305337, \"lower 2\": 2139.6897953367584, \"upper 2\": 2496.490122528459}, {\"semana\": 35, \"Expected\": 2281.6589457952514, \"lower\": 2201.222735323409, \"upper\": 2362.095156267094, \"lower 2\": 2120.786524851567, \"upper 2\": 2442.531366738936}, {\"semana\": 36, \"Expected\": 2316.33561366981, \"lower\": 2231.8695347802636, \"upper\": 2400.801692559356, \"lower 2\": 2147.4034558907174, \"upper 2\": 2485.2677714489023}, {\"semana\": 37, \"Expected\": 2326.0172467031794, \"lower\": 2233.7640281962, \"upper\": 2418.270465210159, \"lower 2\": 2141.5108096892204, \"upper 2\": 2510.5236837171383}, {\"semana\": 38, \"Expected\": 2081.9374112216806, \"lower\": 1926.0625410595217, \"upper\": 2237.8122813838395, \"lower 2\": 1770.1876708973625, \"upper 2\": 2393.687151545999}, {\"semana\": 39, \"Expected\": 2414.0481382345224, \"lower\": 2170.562387391355, \"upper\": 2657.5338890776898, \"lower 2\": 1927.0766365481875, \"upper 2\": 2901.019639920857}, {\"semana\": 40, \"Expected\": 2220.235339126869, \"lower\": 2187.8491700943605, \"upper\": 2252.6215081593773, \"lower 2\": 2155.4630010618516, \"upper 2\": 2285.007677191886}, {\"semana\": 41, \"Expected\": 2146.571112557157, \"lower\": 2031.2997363315103, \"upper\": 2261.8424887828037, \"lower 2\": 1916.0283601058636, \"upper 2\": 2377.1138650084504}, {\"semana\": 42, \"Expected\": 2020.9571492189175, \"lower\": 1965.2028872080743, \"upper\": 2076.7114112297604, \"lower 2\": 1909.4486251972312, \"upper 2\": 2132.465673240604}, {\"semana\": 43, \"Expected\": 2088.0788729235815, \"lower\": 1951.248618035359, \"upper\": 2224.909127811804, \"lower 2\": 1814.4183631471365, \"upper 2\": 2361.7393827000265}, {\"semana\": 44, \"Expected\": 1877.7751228756383, \"lower\": 1778.6899001963222, \"upper\": 1976.8603455549544, \"lower 2\": 1679.604677517006, \"upper 2\": 2075.9455682342705}, {\"semana\": 45, \"Expected\": 2172.790085136582, \"lower\": 2054.5434382379176, \"upper\": 2291.0367320352466, \"lower 2\": 1936.2967913392529, \"upper 2\": 2409.2833789339115}, {\"semana\": 46, \"Expected\": 2051.113725157708, \"lower\": 1843.3674814478397, \"upper\": 2258.8599688675763, \"lower 2\": 1635.6212377379713, \"upper 2\": 2466.6062125774442}, {\"semana\": 47, \"Expected\": 2053.546616529872, \"lower\": 2000.2050827990222, \"upper\": 2106.8881502607223, \"lower 2\": 1946.863549068172, \"upper 2\": 2160.229683991572}, {\"semana\": 48, \"Expected\": 1992.4187751611232, \"lower\": 1982.40160590239, \"upper\": 2002.4359444198565, \"lower 2\": 1972.3844366436565, \"upper 2\": 2012.45311367859}, {\"semana\": 49, \"Expected\": 1970.523455534551, \"lower\": 1858.7031788229765, \"upper\": 2082.3437322461255, \"lower 2\": 1746.8829021114022, \"upper 2\": 2194.1640089577}, {\"semana\": 50, \"Expected\": 2011.3933419932673, \"lower\": 1940.92617327754, \"upper\": 2081.8605107089943, \"lower 2\": 1870.459004561813, \"upper 2\": 2152.3276794247217}, {\"semana\": 51, \"Expected\": 2003.434970970537, \"lower\": 1917.5620635258324, \"upper\": 2089.3078784152417, \"lower 2\": 1831.6891560811277, \"upper 2\": 2175.1807858599464}, {\"semana\": 52, \"Expected\": 1968.682816581574, \"lower\": 1922.8768680908126, \"upper\": 2014.4887650723351, \"lower 2\": 1877.0709196000516, \"upper 2\": 2060.294713563096}], \"data-cd5781f3278eafc8abc1891616ef21ff\": [{\"semana\": 1, \"defunciones\": 2009.1497914840038}, {\"semana\": 2, \"defunciones\": 1964.5739101846186}, {\"semana\": 3, \"defunciones\": 1955.3283217716205}, {\"semana\": 4, \"defunciones\": 1987.114440434701}, {\"semana\": 5, \"defunciones\": 1980.7242144586846}, {\"semana\": 6, \"defunciones\": 1957.2024796198725}, {\"semana\": 7, \"defunciones\": 1920.5468509495036}, {\"semana\": 8, \"defunciones\": 1949.80812293199}, {\"semana\": 9, \"defunciones\": 1926.5892149780434}, {\"semana\": 10, \"defunciones\": 1866.0110855971554}, {\"semana\": 11, \"defunciones\": 1884.5426170702638}, {\"semana\": 12, \"defunciones\": 1872.8224461310933}, {\"semana\": 13, \"defunciones\": 1904.8590546970972}, {\"semana\": 14, \"defunciones\": 1943.911903652074}, {\"semana\": 15, \"defunciones\": 2015.8130358028873}, {\"semana\": 16, \"defunciones\": 1988.9586288988787}, {\"semana\": 17, \"defunciones\": 2087.5277160402343}, {\"semana\": 18, \"defunciones\": 2038.340853639756}, {\"semana\": 19, \"defunciones\": 2045.4969825633957}, {\"semana\": 20, \"defunciones\": 2142.8430459957967}, {\"semana\": 21, \"defunciones\": 2176.0727672695807}, {\"semana\": 22, \"defunciones\": 2305.847898974723}, {\"semana\": 23, \"defunciones\": 2337.9637994659192}, {\"semana\": 24, \"defunciones\": 2424.2833493650032}, {\"semana\": 25, \"defunciones\": 2509.5897439837327}, {\"semana\": 26, \"defunciones\": 2503.2573835233934}, {\"semana\": 27, \"defunciones\": 2442.6642194254114}, {\"semana\": 28, \"defunciones\": 2487.3618193321668}, {\"semana\": 29, \"defunciones\": 2480.7050261837153}, {\"semana\": 30, \"defunciones\": 2482.352642611642}, {\"semana\": 31, \"defunciones\": 2459.041447483016}, {\"semana\": 32, \"defunciones\": 2420.585440589874}, {\"semana\": 33, \"defunciones\": 2325.004394288836}, {\"semana\": 34, \"defunciones\": 2318.0899589326086}, {\"semana\": 35, \"defunciones\": 2281.6589457952514}, {\"semana\": 36, \"defunciones\": 2316.33561366981}, {\"semana\": 37, \"defunciones\": 2326.0172467031794}, {\"semana\": 38, \"defunciones\": 2081.9374112216806}, {\"semana\": 39, \"defunciones\": 2414.0481382345224}, {\"semana\": 40, \"defunciones\": 2220.235339126869}, {\"semana\": 41, \"defunciones\": 2146.571112557157}, {\"semana\": 42, \"defunciones\": 2020.9571492189175}, {\"semana\": 43, \"defunciones\": 2088.0788729235815}, {\"semana\": 44, \"defunciones\": 1877.7751228756383}, {\"semana\": 45, \"defunciones\": 2172.790085136582}, {\"semana\": 46, \"defunciones\": 2051.113725157708}, {\"semana\": 47, \"defunciones\": 2053.546616529872}, {\"semana\": 48, \"defunciones\": 1992.4187751611232}, {\"semana\": 49, \"defunciones\": 1970.523455534551}, {\"semana\": 50, \"defunciones\": 2011.3933419932673}, {\"semana\": 51, \"defunciones\": 2003.434970970537}, {\"semana\": 52, \"defunciones\": 1968.682816581574}]}}, {\"mode\": \"vega-lite\"});\n",
       "</script>"
      ],
      "text/plain": [
       "alt.LayerChart(...)"
      ]
     },
     "execution_count": 199,
     "metadata": {},
     "output_type": "execute_result"
    }
   ],
   "source": [
    "#hide_input\n",
    "label = alt.selection_single(\n",
    "    encodings=['x'], # limit selection to x-axis value\n",
    "    on='mouseover',  # select on mouseover events\n",
    "    nearest=True,    # select data point nearest the cursor\n",
    "    empty='none'     # empty selection includes no data points\n",
    ")\n",
    "\n",
    "base = alt.Chart(amended_deaths.reset_index().melt(\"index\", value_name=\"defunciones\").rename(columns={\"index\":\"año\"})).mark_line(point=True).encode(\n",
    "    x = alt.X(\"semana:Q\",scale=alt.Scale(domain=(1, 52))),\n",
    "    y = alt.Y(\"defunciones\", scale=alt.Scale(domain=(0,3500))),\n",
    "    #size=alt.Size('año:N', legend=None),\n",
    "    color=alt.Color('año:N', scale=alt.Scale(range=['lightgray','lightgray', 'lightgray', 'lightgray', 'lightgray', 'lightgray', 'lightgray', 'lightgray', 'lightgray', 'lightgray', 'red'], \n",
    "                                             domain=[\"2010\", \"2011\", \"2012\", \"2013\", \"2014\", \"2015\", \"2016\", \"2017\", \"2018\", \"2019\", \"2020\"]))\n",
    ")\n",
    "\n",
    "alt.layer(\n",
    "    base, # base line chart\n",
    "    \n",
    "    alt.Chart(df_expected.reset_index()).mark_area(\n",
    "        opacity=0.5\n",
    "    ).encode(\n",
    "        x=\"semana\",\n",
    "        y=\"lower:Q\",\n",
    "        y2=\"upper:Q\"\n",
    "    ),\n",
    "    \n",
    "    alt.Chart(df_expected.reset_index()).mark_area(\n",
    "        opacity=0.3\n",
    "    ).encode(\n",
    "        x=\"semana\",\n",
    "        y=\"lower 2:Q\",\n",
    "        y2=\"upper 2:Q\"\n",
    "    ),\n",
    "    \n",
    "    alt.Chart(expected.reset_index().rename(columns={0:\"defunciones\"})).mark_line(point=True).encode(\n",
    "    x = \"semana\",\n",
    "    y = \"defunciones\"\n",
    "    ),\n",
    "    # add a rule mark to serve as a guide line\n",
    "    alt.Chart().mark_rule(color='#aaa').encode(\n",
    "        x = alt.X('semana:Q', scale=alt.Scale(domain=(1, 52)), axis=alt.Axis(title='Semanas'), sort=None)\n",
    "    ).transform_filter(label),\n",
    "    \n",
    "    # add circle marks for selected time points, hide unselected points\n",
    "    base.mark_circle().encode(\n",
    "        opacity=alt.condition(label, alt.value(1), alt.value(0))\n",
    "    ).add_selection(label),\n",
    "\n",
    "    # add white stroked text to provide a legible background for labels\n",
    "    base.mark_text(align='left', dx=5, dy=-5, stroke='white', strokeWidth=2).encode(\n",
    "        text='defunciones'\n",
    "    ).transform_filter(label),\n",
    "\n",
    "    # add text labels for stock prices\n",
    "    base.mark_text(align='left', dx=5, dy=-5).encode(\n",
    "        text='defunciones'\n",
    "    ).transform_filter(label),\n",
    "    \n",
    "    data=amended_deaths.reset_index().melt(\"index\", value_name=\"defunciones\").rename(columns={\"index\":\"año\"})\n",
    ").properties(\n",
    "    title = f'Defunciones inscritas en Chile por semana (corregido) hasta semana {current_week-1}',\n",
    "    width=600\n",
    ")"
   ]
  },
  {
   "cell_type": "code",
   "execution_count": 93,
   "metadata": {
    "colab": {
     "base_uri": "https://localhost:8080/",
     "height": 34
    },
    "colab_type": "code",
    "id": "Jy8aOR9lUmt2",
    "outputId": "ff30ef19-3e92-4cba-c0cf-366bfc9ed1cb"
   },
   "outputs": [
    {
     "data": {
      "text/plain": [
       "Int64Index([2012, 2013, 2014, 2015, 2016, 2017, 2018, 2019, 2020], dtype='int64')"
      ]
     },
     "execution_count": 93,
     "metadata": {},
     "output_type": "execute_result"
    }
   ],
   "source": [
    "#hide\n",
    "amended_deaths.index"
   ]
  },
  {
   "cell_type": "code",
   "execution_count": 157,
   "metadata": {
    "colab": {
     "base_uri": "https://localhost:8080/",
     "height": 34
    },
    "colab_type": "code",
    "id": "xtnqH0PthQcA",
    "outputId": "1a2e97f7-9e1f-42b0-8e60-01c90ea9e576",
    "scrolled": true
   },
   "outputs": [
    {
     "data": {
      "text/plain": [
       "481.5865043884494"
      ]
     },
     "execution_count": 157,
     "metadata": {},
     "output_type": "execute_result"
    }
   ],
   "source": [
    "#hide\n",
    "(amended_deaths.loc[2020,:12] - expected).sum()"
   ]
  },
  {
   "cell_type": "code",
   "execution_count": 158,
   "metadata": {
    "colab": {},
    "colab_type": "code",
    "id": "2IXcwDo4i9Zz"
   },
   "outputs": [],
   "source": [
    "#hide\n",
    "excess_mortality = []\n",
    "for i in np.arange(1,23):\n",
    "    excess_mortality.append((amended_deaths.loc[2020,:i] - expected).sum())"
   ]
  },
  {
   "cell_type": "code",
   "execution_count": 159,
   "metadata": {
    "colab": {},
    "colab_type": "code",
    "id": "JrWzYMKHjTYj"
   },
   "outputs": [
    {
     "data": {
      "text/plain": [
       "0       50.850209\n",
       "1      202.276298\n",
       "2      306.947977\n",
       "3      306.833536\n",
       "4      359.109322\n",
       "5      307.906842\n",
       "6      346.359991\n",
       "7      214.551868\n",
       "8      142.962653\n",
       "9      293.951568\n",
       "10     371.408951\n",
       "11     481.586504\n",
       "12     500.727450\n",
       "13     575.815546\n",
       "14     511.002510\n",
       "15     710.043881\n",
       "16     710.516165\n",
       "17     643.175312\n",
       "18     957.678329\n",
       "19    1230.835283\n",
       "20    1728.762516\n",
       "21    2402.914617\n",
       "dtype: float64"
      ]
     },
     "execution_count": 159,
     "metadata": {},
     "output_type": "execute_result"
    }
   ],
   "source": [
    "#hide\n",
    "excess_mortality = pd.Series(excess_mortality)\n",
    "excess_mortality"
   ]
  },
  {
   "cell_type": "code",
   "execution_count": 161,
   "metadata": {
    "colab": {},
    "colab_type": "code",
    "id": "3yhSSdR6jrPF"
   },
   "outputs": [],
   "source": [
    "#hide\n",
    "casos_raw = pd.read_csv(\n",
    "    \"https://raw.githubusercontent.com/MinCiencia/Datos-COVID19/master/output/producto3/CasosTotalesCumulativo.csv\",\n",
    "    index_col='Region')"
   ]
  },
  {
   "cell_type": "code",
   "execution_count": 162,
   "metadata": {
    "colab": {
     "base_uri": "https://localhost:8080/",
     "height": 225
    },
    "colab_type": "code",
    "id": "7K2JMgn8rrSJ",
    "outputId": "6109ead7-f2e3-4bbd-b135-2dd171864759"
   },
   "outputs": [
    {
     "data": {
      "text/plain": [
       "2020-03-03    0\n",
       "2020-03-04    1\n",
       "Name: Metropolitana, dtype: int64"
      ]
     },
     "execution_count": 162,
     "metadata": {},
     "output_type": "execute_result"
    }
   ],
   "source": [
    "#hide\n",
    "casos_raw.loc[\"Metropolitana\"].head(2)"
   ]
  },
  {
   "cell_type": "code",
   "execution_count": 163,
   "metadata": {
    "colab": {
     "base_uri": "https://localhost:8080/",
     "height": 34
    },
    "colab_type": "code",
    "id": "l4upf3Cmixfw",
    "outputId": "818554ba-f67a-487e-d670-b53e4ec78ce5"
   },
   "outputs": [
    {
     "data": {
      "text/plain": [
       "10"
      ]
     },
     "execution_count": 163,
     "metadata": {},
     "output_type": "execute_result"
    }
   ],
   "source": [
    "#hide\n",
    "_, week_first_case, _ = pd.to_datetime(\"2020-03-03\").isocalendar()\n",
    "week_first_case"
   ]
  },
  {
   "cell_type": "code",
   "execution_count": 184,
   "metadata": {
    "colab": {},
    "colab_type": "code",
    "id": "OrGpiFBKkBUo"
   },
   "outputs": [],
   "source": [
    "#hide\n",
    "deaths_raw = pd.read_csv(\"https://raw.githubusercontent.com/MinCiencia/Datos-COVID19/master/output/producto5/TotalesNacionales_T.csv\")"
   ]
  },
  {
   "cell_type": "code",
   "execution_count": 165,
   "metadata": {},
   "outputs": [
    {
     "data": {
      "text/html": [
       "<div>\n",
       "<style scoped>\n",
       "    .dataframe tbody tr th:only-of-type {\n",
       "        vertical-align: middle;\n",
       "    }\n",
       "\n",
       "    .dataframe tbody tr th {\n",
       "        vertical-align: top;\n",
       "    }\n",
       "\n",
       "    .dataframe thead th {\n",
       "        text-align: right;\n",
       "    }\n",
       "</style>\n",
       "<table border=\"1\" class=\"dataframe\">\n",
       "  <thead>\n",
       "    <tr style=\"text-align: right;\">\n",
       "      <th></th>\n",
       "      <th>Fecha</th>\n",
       "      <th>Casos nuevos con sintomas</th>\n",
       "      <th>Casos totales</th>\n",
       "      <th>Casos recuperados</th>\n",
       "      <th>Fallecidos</th>\n",
       "      <th>Casos activos</th>\n",
       "      <th>Casos nuevos sin sintomas</th>\n",
       "      <th>Casos nuevos totales</th>\n",
       "    </tr>\n",
       "  </thead>\n",
       "  <tbody>\n",
       "    <tr>\n",
       "      <th>19</th>\n",
       "      <td>2020-03-22</td>\n",
       "      <td>95.0</td>\n",
       "      <td>632.0</td>\n",
       "      <td>8.0</td>\n",
       "      <td>1.0</td>\n",
       "      <td>623.0</td>\n",
       "      <td>NaN</td>\n",
       "      <td>95.0</td>\n",
       "    </tr>\n",
       "    <tr>\n",
       "      <th>20</th>\n",
       "      <td>2020-03-23</td>\n",
       "      <td>114.0</td>\n",
       "      <td>746.0</td>\n",
       "      <td>11.0</td>\n",
       "      <td>1.0</td>\n",
       "      <td>734.0</td>\n",
       "      <td>NaN</td>\n",
       "      <td>114.0</td>\n",
       "    </tr>\n",
       "  </tbody>\n",
       "</table>\n",
       "</div>"
      ],
      "text/plain": [
       "         Fecha  Casos nuevos con sintomas  Casos totales  Casos recuperados  \\\n",
       "19  2020-03-22                       95.0          632.0                8.0   \n",
       "20  2020-03-23                      114.0          746.0               11.0   \n",
       "\n",
       "    Fallecidos  Casos activos  Casos nuevos sin sintomas  Casos nuevos totales  \n",
       "19         1.0          623.0                        NaN                  95.0  \n",
       "20         1.0          734.0                        NaN                 114.0  "
      ]
     },
     "execution_count": 165,
     "metadata": {},
     "output_type": "execute_result"
    }
   ],
   "source": [
    "#hide\n",
    "deaths_raw[deaths_raw[\"Fallecidos\"]>0].head(2)"
   ]
  },
  {
   "cell_type": "code",
   "execution_count": 166,
   "metadata": {},
   "outputs": [
    {
     "data": {
      "text/plain": [
       "12"
      ]
     },
     "execution_count": 166,
     "metadata": {},
     "output_type": "execute_result"
    }
   ],
   "source": [
    "#hide\n",
    "_, week_first_death, _ = pd.to_datetime(\"2020-03-22\").isocalendar()\n",
    "week_first_death"
   ]
  },
  {
   "cell_type": "code",
   "execution_count": 167,
   "metadata": {},
   "outputs": [
    {
     "data": {
      "text/markdown": [
       "Entre las semanas 12 y 22, hubo un total de 24554 defunciones inscritas."
      ],
      "text/plain": [
       "<IPython.core.display.Markdown object>"
      ]
     },
     "metadata": {},
     "output_type": "display_data"
    },
    {
     "data": {
      "text/markdown": [
       "El número esperado de defunciones inscritas entre esas semanas es de 22522, para una tase de crecimiento de defunciones inscritas entre 2019/2020 de 1.51%"
      ],
      "text/plain": [
       "<IPython.core.display.Markdown object>"
      ]
     },
     "metadata": {},
     "output_type": "display_data"
    },
    {
     "data": {
      "text/markdown": [
       "Exceso de defunciones inscritas: 2032"
      ],
      "text/plain": [
       "<IPython.core.display.Markdown object>"
      ]
     },
     "metadata": {},
     "output_type": "display_data"
    }
   ],
   "source": [
    "#hide_input\n",
    "display(Markdown(f\"Entre las semanas 12 y {current_week-1}, hubo un total de {amended_deaths.loc[2020,12:22].sum():.0f} defunciones inscritas.\"))\n",
    "display(Markdown(f\"El número esperado de defunciones inscritas entre esas semanas es de {expected.loc[12:22].sum():.0f}, para una tase de crecimiento de defunciones inscritas entre 2019/2020 de {100*(gr_mean-1):.2f}%\"))\n",
    "display(Markdown(f\"Exceso de defunciones inscritas: {(amended_deaths.loc[2020,12:22].sum()-expected.loc[12:22].sum()):.0f}\"))"
   ]
  },
  {
   "cell_type": "code",
   "execution_count": 168,
   "metadata": {
    "colab": {},
    "colab_type": "code",
    "id": "9mHbAAQzipZa"
   },
   "outputs": [],
   "source": [
    "#hide\n",
    "totales_covid19 = pd.read_csv(\n",
    "    \"https://raw.githubusercontent.com/MinCiencia/Datos-COVID19/master/output/producto5/TotalesNacionales_T.csv\",\n",
    "    index_col=\"Fecha\")"
   ]
  },
  {
   "cell_type": "code",
   "execution_count": 169,
   "metadata": {
    "colab": {
     "base_uri": "https://localhost:8080/",
     "height": 255
    },
    "colab_type": "code",
    "id": "BRqrCf1airT2",
    "outputId": "f444ed45-eb90-4123-dbd1-2190a7b98070"
   },
   "outputs": [
    {
     "data": {
      "text/html": [
       "<div>\n",
       "<style scoped>\n",
       "    .dataframe tbody tr th:only-of-type {\n",
       "        vertical-align: middle;\n",
       "    }\n",
       "\n",
       "    .dataframe tbody tr th {\n",
       "        vertical-align: top;\n",
       "    }\n",
       "\n",
       "    .dataframe thead th {\n",
       "        text-align: right;\n",
       "    }\n",
       "</style>\n",
       "<table border=\"1\" class=\"dataframe\">\n",
       "  <thead>\n",
       "    <tr style=\"text-align: right;\">\n",
       "      <th></th>\n",
       "      <th>Casos nuevos con sintomas</th>\n",
       "      <th>Casos totales</th>\n",
       "      <th>Casos recuperados</th>\n",
       "      <th>Fallecidos</th>\n",
       "      <th>Casos activos</th>\n",
       "      <th>Casos nuevos sin sintomas</th>\n",
       "      <th>Casos nuevos totales</th>\n",
       "    </tr>\n",
       "    <tr>\n",
       "      <th>Fecha</th>\n",
       "      <th></th>\n",
       "      <th></th>\n",
       "      <th></th>\n",
       "      <th></th>\n",
       "      <th></th>\n",
       "      <th></th>\n",
       "      <th></th>\n",
       "    </tr>\n",
       "  </thead>\n",
       "  <tbody>\n",
       "    <tr>\n",
       "      <th>2020-03-03</th>\n",
       "      <td>0.0</td>\n",
       "      <td>1.0</td>\n",
       "      <td>0.0</td>\n",
       "      <td>0.0</td>\n",
       "      <td>1.0</td>\n",
       "      <td>NaN</td>\n",
       "      <td>0.0</td>\n",
       "    </tr>\n",
       "    <tr>\n",
       "      <th>2020-03-04</th>\n",
       "      <td>2.0</td>\n",
       "      <td>3.0</td>\n",
       "      <td>0.0</td>\n",
       "      <td>0.0</td>\n",
       "      <td>3.0</td>\n",
       "      <td>NaN</td>\n",
       "      <td>2.0</td>\n",
       "    </tr>\n",
       "  </tbody>\n",
       "</table>\n",
       "</div>"
      ],
      "text/plain": [
       "            Casos nuevos con sintomas  Casos totales  Casos recuperados  \\\n",
       "Fecha                                                                     \n",
       "2020-03-03                        0.0            1.0                0.0   \n",
       "2020-03-04                        2.0            3.0                0.0   \n",
       "\n",
       "            Fallecidos  Casos activos  Casos nuevos sin sintomas  \\\n",
       "Fecha                                                              \n",
       "2020-03-03         0.0            1.0                        NaN   \n",
       "2020-03-04         0.0            3.0                        NaN   \n",
       "\n",
       "            Casos nuevos totales  \n",
       "Fecha                             \n",
       "2020-03-03                   0.0  \n",
       "2020-03-04                   2.0  "
      ]
     },
     "execution_count": 169,
     "metadata": {},
     "output_type": "execute_result"
    }
   ],
   "source": [
    "#hide\n",
    "totales_covid19.head(2)"
   ]
  },
  {
   "cell_type": "code",
   "execution_count": 170,
   "metadata": {
    "colab": {
     "base_uri": "https://localhost:8080/",
     "height": 34
    },
    "colab_type": "code",
    "id": "l4upf3Cmixfw",
    "outputId": "818554ba-f67a-487e-d670-b53e4ec78ce5"
   },
   "outputs": [
    {
     "data": {
      "text/plain": [
       "10"
      ]
     },
     "execution_count": 170,
     "metadata": {},
     "output_type": "execute_result"
    }
   ],
   "source": [
    "#hide\n",
    "_, week_first_case, _ = pd.to_datetime(\"2020-03-03\").isocalendar()\n",
    "week_first_case"
   ]
  },
  {
   "cell_type": "code",
   "execution_count": 171,
   "metadata": {
    "colab": {},
    "colab_type": "code",
    "id": "3yhSSdR6jrPF"
   },
   "outputs": [],
   "source": [
    "#hide\n",
    "casos_raw = pd.read_csv(\n",
    "    \"https://raw.githubusercontent.com/MinCiencia/Datos-COVID19/master/output/producto3/CasosTotalesCumulativo.csv\",\n",
    "    index_col='Region')"
   ]
  },
  {
   "cell_type": "code",
   "execution_count": 172,
   "metadata": {
    "colab": {
     "base_uri": "https://localhost:8080/",
     "height": 225
    },
    "colab_type": "code",
    "id": "7K2JMgn8rrSJ",
    "outputId": "6109ead7-f2e3-4bbd-b135-2dd171864759"
   },
   "outputs": [
    {
     "data": {
      "text/plain": [
       "2020-03-03    0\n",
       "2020-03-04    1\n",
       "Name: Metropolitana, dtype: int64"
      ]
     },
     "execution_count": 172,
     "metadata": {},
     "output_type": "execute_result"
    }
   ],
   "source": [
    "#hide\n",
    "casos_raw.loc[\"Metropolitana\"].head(2)"
   ]
  },
  {
   "cell_type": "code",
   "execution_count": 175,
   "metadata": {
    "colab": {},
    "colab_type": "code",
    "id": "OrGpiFBKkBUo"
   },
   "outputs": [],
   "source": [
    "#hide\n",
    "deaths_raw = pd.read_csv(\"https://raw.githubusercontent.com/MinCiencia/Datos-COVID19/master/output/producto5/TotalesNacionales_T.csv\")"
   ]
  },
  {
   "cell_type": "code",
   "execution_count": 176,
   "metadata": {},
   "outputs": [
    {
     "data": {
      "text/html": [
       "<div>\n",
       "<style scoped>\n",
       "    .dataframe tbody tr th:only-of-type {\n",
       "        vertical-align: middle;\n",
       "    }\n",
       "\n",
       "    .dataframe tbody tr th {\n",
       "        vertical-align: top;\n",
       "    }\n",
       "\n",
       "    .dataframe thead th {\n",
       "        text-align: right;\n",
       "    }\n",
       "</style>\n",
       "<table border=\"1\" class=\"dataframe\">\n",
       "  <thead>\n",
       "    <tr style=\"text-align: right;\">\n",
       "      <th></th>\n",
       "      <th>Fecha</th>\n",
       "      <th>Casos nuevos con sintomas</th>\n",
       "      <th>Casos totales</th>\n",
       "      <th>Casos recuperados</th>\n",
       "      <th>Fallecidos</th>\n",
       "      <th>Casos activos</th>\n",
       "      <th>Casos nuevos sin sintomas</th>\n",
       "      <th>Casos nuevos totales</th>\n",
       "    </tr>\n",
       "  </thead>\n",
       "  <tbody>\n",
       "    <tr>\n",
       "      <th>19</th>\n",
       "      <td>2020-03-22</td>\n",
       "      <td>95.0</td>\n",
       "      <td>632.0</td>\n",
       "      <td>8.0</td>\n",
       "      <td>1.0</td>\n",
       "      <td>623.0</td>\n",
       "      <td>NaN</td>\n",
       "      <td>95.0</td>\n",
       "    </tr>\n",
       "    <tr>\n",
       "      <th>20</th>\n",
       "      <td>2020-03-23</td>\n",
       "      <td>114.0</td>\n",
       "      <td>746.0</td>\n",
       "      <td>11.0</td>\n",
       "      <td>1.0</td>\n",
       "      <td>734.0</td>\n",
       "      <td>NaN</td>\n",
       "      <td>114.0</td>\n",
       "    </tr>\n",
       "  </tbody>\n",
       "</table>\n",
       "</div>"
      ],
      "text/plain": [
       "         Fecha  Casos nuevos con sintomas  Casos totales  Casos recuperados  \\\n",
       "19  2020-03-22                       95.0          632.0                8.0   \n",
       "20  2020-03-23                      114.0          746.0               11.0   \n",
       "\n",
       "    Fallecidos  Casos activos  Casos nuevos sin sintomas  Casos nuevos totales  \n",
       "19         1.0          623.0                        NaN                  95.0  \n",
       "20         1.0          734.0                        NaN                 114.0  "
      ]
     },
     "execution_count": 176,
     "metadata": {},
     "output_type": "execute_result"
    }
   ],
   "source": [
    "#hide\n",
    "deaths_raw[deaths_raw[\"Fallecidos\"]>0].head(2)"
   ]
  },
  {
   "cell_type": "code",
   "execution_count": 142,
   "metadata": {},
   "outputs": [
    {
     "data": {
      "text/plain": [
       "12"
      ]
     },
     "execution_count": 142,
     "metadata": {},
     "output_type": "execute_result"
    }
   ],
   "source": [
    "#hide\n",
    "_, week_first_death, _ = pd.to_datetime(\"2020-03-22\").isocalendar()\n",
    "week_first_death"
   ]
  },
  {
   "cell_type": "code",
   "execution_count": 177,
   "metadata": {
    "colab": {},
    "colab_type": "code",
    "id": "PFZfMsZDkfxU"
   },
   "outputs": [],
   "source": [
    "#hide\n",
    "data = pd.DataFrame()\n",
    "data_raw = pd.read_csv(\n",
    "    \"https://raw.githubusercontent.com/MinCiencia/Datos-COVID19/master/output/producto4/2020-03-24-CasosConfirmados-totalRegional.csv\",\n",
    "    index_col='Region')\n",
    "data['2020-03-24'] = data_raw['Fallecidos']"
   ]
  },
  {
   "cell_type": "code",
   "execution_count": 178,
   "metadata": {
    "colab": {},
    "colab_type": "code",
    "id": "XWCSiMSqlIZe"
   },
   "outputs": [],
   "source": [
    "#hide\n",
    "first_death_date = '2020-03-24'\n",
    "total_days = (pd.to_datetime(today)-pd.to_datetime(first_death_date)).days"
   ]
  },
  {
   "cell_type": "code",
   "execution_count": 179,
   "metadata": {
    "colab": {
     "base_uri": "https://localhost:8080/",
     "height": 34
    },
    "colab_type": "code",
    "id": "S9Pnut23owbO",
    "outputId": "0b843d21-dafb-4d38-d1a2-24e3938fe87d"
   },
   "outputs": [
    {
     "data": {
      "text/plain": [
       "(2020, 23, 1)"
      ]
     },
     "execution_count": 179,
     "metadata": {},
     "output_type": "execute_result"
    }
   ],
   "source": [
    "#hide\n",
    "pd.to_datetime(\"2020-06-01\").isocalendar()"
   ]
  },
  {
   "cell_type": "code",
   "execution_count": 181,
   "metadata": {
    "colab": {},
    "colab_type": "code",
    "id": "ye1c15eRlfsH"
   },
   "outputs": [],
   "source": [
    "#hide\n",
    "# s = \"https://raw.githubusercontent.com/MinCiencia/Datos-COVID19/master/output/producto4/\" + date + \"-CasosConfirmados-totalRegional.csv\"\n",
    "# data_by_date = pd.read_csv(s)\n",
    "# idx_fallecidos = [i for i, x in enumerate(data_by_date.columns.str.contains(\"Fallecidos\", case=False)) if x]"
   ]
  },
  {
   "cell_type": "code",
   "execution_count": 182,
   "metadata": {
    "colab": {},
    "colab_type": "code",
    "id": "ub1SmBWflMAN"
   },
   "outputs": [],
   "source": [
    "#hide\n",
    "for i in np.arange(total_days+1):\n",
    "    date = (pd.to_datetime(first_death_date)+pd.DateOffset(i)).strftime('%Y-%m-%d')\n",
    "    s = \"https://raw.githubusercontent.com/MinCiencia/Datos-COVID19/master/output/producto4/\" + date + \"-CasosConfirmados-totalRegional.csv\"\n",
    "    data_by_date = pd.read_csv(s)\n",
    "    if 'Fallecidos' in data_by_date.columns:\n",
    "        data[date] = data_by_date[\"Fallecidos\"].values\n",
    "    elif 'Casos fallecidos' in data_by_date.columns:\n",
    "        data[date] = data_by_date[\"Casos fallecidos\"].values\n",
    "    elif 'Fallecidos totales' in data_by_date.columns:\n",
    "        data[date] = data_by_date[\"Fallecidos totales\"].values\n",
    "    elif 'Fallecidos totales ' in data_by_date.columns:\n",
    "        data[date] = data_by_date[\"Fallecidos totales \"].values\n",
    "    else:\n",
    "        data[date] = data_by_date[\" Casos fallecidos\"].values"
   ]
  },
  {
   "cell_type": "code",
   "execution_count": 183,
   "metadata": {},
   "outputs": [
    {
     "data": {
      "text/html": [
       "<div>\n",
       "<style scoped>\n",
       "    .dataframe tbody tr th:only-of-type {\n",
       "        vertical-align: middle;\n",
       "    }\n",
       "\n",
       "    .dataframe tbody tr th {\n",
       "        vertical-align: top;\n",
       "    }\n",
       "\n",
       "    .dataframe thead th {\n",
       "        text-align: right;\n",
       "    }\n",
       "</style>\n",
       "<table border=\"1\" class=\"dataframe\">\n",
       "  <thead>\n",
       "    <tr style=\"text-align: right;\">\n",
       "      <th></th>\n",
       "      <th>2020-03-24</th>\n",
       "      <th>2020-03-25</th>\n",
       "      <th>2020-03-26</th>\n",
       "      <th>2020-03-27</th>\n",
       "      <th>2020-03-28</th>\n",
       "      <th>2020-03-29</th>\n",
       "      <th>2020-03-30</th>\n",
       "      <th>2020-03-31</th>\n",
       "      <th>2020-04-01</th>\n",
       "      <th>2020-04-02</th>\n",
       "      <th>...</th>\n",
       "      <th>2020-05-26</th>\n",
       "      <th>2020-05-27</th>\n",
       "      <th>2020-05-28</th>\n",
       "      <th>2020-05-29</th>\n",
       "      <th>2020-05-30</th>\n",
       "      <th>2020-05-31</th>\n",
       "      <th>2020-06-01</th>\n",
       "      <th>2020-06-02</th>\n",
       "      <th>2020-06-03</th>\n",
       "      <th>2020-06-04</th>\n",
       "    </tr>\n",
       "    <tr>\n",
       "      <th>Region</th>\n",
       "      <th></th>\n",
       "      <th></th>\n",
       "      <th></th>\n",
       "      <th></th>\n",
       "      <th></th>\n",
       "      <th></th>\n",
       "      <th></th>\n",
       "      <th></th>\n",
       "      <th></th>\n",
       "      <th></th>\n",
       "      <th></th>\n",
       "      <th></th>\n",
       "      <th></th>\n",
       "      <th></th>\n",
       "      <th></th>\n",
       "      <th></th>\n",
       "      <th></th>\n",
       "      <th></th>\n",
       "      <th></th>\n",
       "      <th></th>\n",
       "      <th></th>\n",
       "    </tr>\n",
       "  </thead>\n",
       "  <tbody>\n",
       "    <tr>\n",
       "      <th>Arica y Parinacota</th>\n",
       "      <td>0</td>\n",
       "      <td>0</td>\n",
       "      <td>0</td>\n",
       "      <td>0</td>\n",
       "      <td>0</td>\n",
       "      <td>0</td>\n",
       "      <td>0</td>\n",
       "      <td>0</td>\n",
       "      <td>0</td>\n",
       "      <td>0</td>\n",
       "      <td>...</td>\n",
       "      <td>7</td>\n",
       "      <td>7</td>\n",
       "      <td>7</td>\n",
       "      <td>7</td>\n",
       "      <td>7</td>\n",
       "      <td>7</td>\n",
       "      <td>8</td>\n",
       "      <td>8</td>\n",
       "      <td>8</td>\n",
       "      <td>8</td>\n",
       "    </tr>\n",
       "    <tr>\n",
       "      <th>Tarapacá</th>\n",
       "      <td>0</td>\n",
       "      <td>0</td>\n",
       "      <td>0</td>\n",
       "      <td>0</td>\n",
       "      <td>0</td>\n",
       "      <td>0</td>\n",
       "      <td>0</td>\n",
       "      <td>0</td>\n",
       "      <td>0</td>\n",
       "      <td>0</td>\n",
       "      <td>...</td>\n",
       "      <td>8</td>\n",
       "      <td>11</td>\n",
       "      <td>12</td>\n",
       "      <td>14</td>\n",
       "      <td>18</td>\n",
       "      <td>21</td>\n",
       "      <td>22</td>\n",
       "      <td>23</td>\n",
       "      <td>28</td>\n",
       "      <td>28</td>\n",
       "    </tr>\n",
       "    <tr>\n",
       "      <th>Antofagasta</th>\n",
       "      <td>0</td>\n",
       "      <td>0</td>\n",
       "      <td>0</td>\n",
       "      <td>0</td>\n",
       "      <td>0</td>\n",
       "      <td>0</td>\n",
       "      <td>0</td>\n",
       "      <td>0</td>\n",
       "      <td>0</td>\n",
       "      <td>0</td>\n",
       "      <td>...</td>\n",
       "      <td>23</td>\n",
       "      <td>25</td>\n",
       "      <td>28</td>\n",
       "      <td>28</td>\n",
       "      <td>29</td>\n",
       "      <td>31</td>\n",
       "      <td>32</td>\n",
       "      <td>34</td>\n",
       "      <td>36</td>\n",
       "      <td>38</td>\n",
       "    </tr>\n",
       "    <tr>\n",
       "      <th>Atacama</th>\n",
       "      <td>0</td>\n",
       "      <td>0</td>\n",
       "      <td>0</td>\n",
       "      <td>0</td>\n",
       "      <td>0</td>\n",
       "      <td>0</td>\n",
       "      <td>0</td>\n",
       "      <td>0</td>\n",
       "      <td>0</td>\n",
       "      <td>0</td>\n",
       "      <td>...</td>\n",
       "      <td>0</td>\n",
       "      <td>0</td>\n",
       "      <td>0</td>\n",
       "      <td>0</td>\n",
       "      <td>0</td>\n",
       "      <td>0</td>\n",
       "      <td>0</td>\n",
       "      <td>0</td>\n",
       "      <td>0</td>\n",
       "      <td>0</td>\n",
       "    </tr>\n",
       "    <tr>\n",
       "      <th>Coquimbo</th>\n",
       "      <td>0</td>\n",
       "      <td>0</td>\n",
       "      <td>0</td>\n",
       "      <td>0</td>\n",
       "      <td>0</td>\n",
       "      <td>0</td>\n",
       "      <td>0</td>\n",
       "      <td>0</td>\n",
       "      <td>0</td>\n",
       "      <td>0</td>\n",
       "      <td>...</td>\n",
       "      <td>2</td>\n",
       "      <td>2</td>\n",
       "      <td>2</td>\n",
       "      <td>2</td>\n",
       "      <td>2</td>\n",
       "      <td>2</td>\n",
       "      <td>2</td>\n",
       "      <td>2</td>\n",
       "      <td>4</td>\n",
       "      <td>4</td>\n",
       "    </tr>\n",
       "    <tr>\n",
       "      <th>Valparaíso</th>\n",
       "      <td>0</td>\n",
       "      <td>0</td>\n",
       "      <td>0</td>\n",
       "      <td>0</td>\n",
       "      <td>0</td>\n",
       "      <td>0</td>\n",
       "      <td>0</td>\n",
       "      <td>1</td>\n",
       "      <td>1</td>\n",
       "      <td>1</td>\n",
       "      <td>...</td>\n",
       "      <td>57</td>\n",
       "      <td>58</td>\n",
       "      <td>60</td>\n",
       "      <td>61</td>\n",
       "      <td>63</td>\n",
       "      <td>66</td>\n",
       "      <td>70</td>\n",
       "      <td>72</td>\n",
       "      <td>77</td>\n",
       "      <td>78</td>\n",
       "    </tr>\n",
       "    <tr>\n",
       "      <th>Metropolitana</th>\n",
       "      <td>2</td>\n",
       "      <td>2</td>\n",
       "      <td>3</td>\n",
       "      <td>3</td>\n",
       "      <td>3</td>\n",
       "      <td>3</td>\n",
       "      <td>3</td>\n",
       "      <td>4</td>\n",
       "      <td>5</td>\n",
       "      <td>6</td>\n",
       "      <td>...</td>\n",
       "      <td>567</td>\n",
       "      <td>595</td>\n",
       "      <td>638</td>\n",
       "      <td>685</td>\n",
       "      <td>728</td>\n",
       "      <td>775</td>\n",
       "      <td>824</td>\n",
       "      <td>894</td>\n",
       "      <td>961</td>\n",
       "      <td>1034</td>\n",
       "    </tr>\n",
       "    <tr>\n",
       "      <th>O’Higgins</th>\n",
       "      <td>0</td>\n",
       "      <td>0</td>\n",
       "      <td>0</td>\n",
       "      <td>0</td>\n",
       "      <td>0</td>\n",
       "      <td>0</td>\n",
       "      <td>0</td>\n",
       "      <td>0</td>\n",
       "      <td>0</td>\n",
       "      <td>0</td>\n",
       "      <td>...</td>\n",
       "      <td>13</td>\n",
       "      <td>14</td>\n",
       "      <td>14</td>\n",
       "      <td>14</td>\n",
       "      <td>16</td>\n",
       "      <td>18</td>\n",
       "      <td>18</td>\n",
       "      <td>18</td>\n",
       "      <td>20</td>\n",
       "      <td>21</td>\n",
       "    </tr>\n",
       "    <tr>\n",
       "      <th>Maule</th>\n",
       "      <td>0</td>\n",
       "      <td>0</td>\n",
       "      <td>0</td>\n",
       "      <td>0</td>\n",
       "      <td>0</td>\n",
       "      <td>0</td>\n",
       "      <td>1</td>\n",
       "      <td>1</td>\n",
       "      <td>1</td>\n",
       "      <td>1</td>\n",
       "      <td>...</td>\n",
       "      <td>15</td>\n",
       "      <td>15</td>\n",
       "      <td>15</td>\n",
       "      <td>15</td>\n",
       "      <td>15</td>\n",
       "      <td>15</td>\n",
       "      <td>17</td>\n",
       "      <td>17</td>\n",
       "      <td>19</td>\n",
       "      <td>21</td>\n",
       "    </tr>\n",
       "    <tr>\n",
       "      <th>Ñuble</th>\n",
       "      <td>0</td>\n",
       "      <td>0</td>\n",
       "      <td>0</td>\n",
       "      <td>0</td>\n",
       "      <td>0</td>\n",
       "      <td>0</td>\n",
       "      <td>0</td>\n",
       "      <td>0</td>\n",
       "      <td>0</td>\n",
       "      <td>0</td>\n",
       "      <td>...</td>\n",
       "      <td>22</td>\n",
       "      <td>22</td>\n",
       "      <td>22</td>\n",
       "      <td>22</td>\n",
       "      <td>23</td>\n",
       "      <td>23</td>\n",
       "      <td>23</td>\n",
       "      <td>23</td>\n",
       "      <td>24</td>\n",
       "      <td>24</td>\n",
       "    </tr>\n",
       "    <tr>\n",
       "      <th>Biobío</th>\n",
       "      <td>0</td>\n",
       "      <td>1</td>\n",
       "      <td>1</td>\n",
       "      <td>2</td>\n",
       "      <td>2</td>\n",
       "      <td>2</td>\n",
       "      <td>2</td>\n",
       "      <td>2</td>\n",
       "      <td>2</td>\n",
       "      <td>2</td>\n",
       "      <td>...</td>\n",
       "      <td>10</td>\n",
       "      <td>10</td>\n",
       "      <td>10</td>\n",
       "      <td>11</td>\n",
       "      <td>11</td>\n",
       "      <td>11</td>\n",
       "      <td>11</td>\n",
       "      <td>11</td>\n",
       "      <td>11</td>\n",
       "      <td>13</td>\n",
       "    </tr>\n",
       "    <tr>\n",
       "      <th>Araucanía</th>\n",
       "      <td>0</td>\n",
       "      <td>0</td>\n",
       "      <td>0</td>\n",
       "      <td>0</td>\n",
       "      <td>1</td>\n",
       "      <td>2</td>\n",
       "      <td>2</td>\n",
       "      <td>4</td>\n",
       "      <td>6</td>\n",
       "      <td>7</td>\n",
       "      <td>...</td>\n",
       "      <td>45</td>\n",
       "      <td>45</td>\n",
       "      <td>45</td>\n",
       "      <td>47</td>\n",
       "      <td>47</td>\n",
       "      <td>47</td>\n",
       "      <td>47</td>\n",
       "      <td>47</td>\n",
       "      <td>47</td>\n",
       "      <td>47</td>\n",
       "    </tr>\n",
       "    <tr>\n",
       "      <th>Los Ríos</th>\n",
       "      <td>0</td>\n",
       "      <td>0</td>\n",
       "      <td>0</td>\n",
       "      <td>0</td>\n",
       "      <td>0</td>\n",
       "      <td>0</td>\n",
       "      <td>0</td>\n",
       "      <td>0</td>\n",
       "      <td>1</td>\n",
       "      <td>1</td>\n",
       "      <td>...</td>\n",
       "      <td>6</td>\n",
       "      <td>6</td>\n",
       "      <td>6</td>\n",
       "      <td>6</td>\n",
       "      <td>6</td>\n",
       "      <td>6</td>\n",
       "      <td>7</td>\n",
       "      <td>7</td>\n",
       "      <td>8</td>\n",
       "      <td>8</td>\n",
       "    </tr>\n",
       "    <tr>\n",
       "      <th>Los Lagos</th>\n",
       "      <td>0</td>\n",
       "      <td>0</td>\n",
       "      <td>0</td>\n",
       "      <td>0</td>\n",
       "      <td>0</td>\n",
       "      <td>0</td>\n",
       "      <td>0</td>\n",
       "      <td>0</td>\n",
       "      <td>0</td>\n",
       "      <td>0</td>\n",
       "      <td>...</td>\n",
       "      <td>13</td>\n",
       "      <td>13</td>\n",
       "      <td>13</td>\n",
       "      <td>13</td>\n",
       "      <td>13</td>\n",
       "      <td>13</td>\n",
       "      <td>13</td>\n",
       "      <td>13</td>\n",
       "      <td>13</td>\n",
       "      <td>13</td>\n",
       "    </tr>\n",
       "    <tr>\n",
       "      <th>Aysén</th>\n",
       "      <td>0</td>\n",
       "      <td>0</td>\n",
       "      <td>0</td>\n",
       "      <td>0</td>\n",
       "      <td>0</td>\n",
       "      <td>0</td>\n",
       "      <td>0</td>\n",
       "      <td>0</td>\n",
       "      <td>0</td>\n",
       "      <td>0</td>\n",
       "      <td>...</td>\n",
       "      <td>0</td>\n",
       "      <td>0</td>\n",
       "      <td>0</td>\n",
       "      <td>0</td>\n",
       "      <td>0</td>\n",
       "      <td>0</td>\n",
       "      <td>0</td>\n",
       "      <td>0</td>\n",
       "      <td>0</td>\n",
       "      <td>0</td>\n",
       "    </tr>\n",
       "    <tr>\n",
       "      <th>Magallanes</th>\n",
       "      <td>0</td>\n",
       "      <td>0</td>\n",
       "      <td>0</td>\n",
       "      <td>0</td>\n",
       "      <td>0</td>\n",
       "      <td>0</td>\n",
       "      <td>0</td>\n",
       "      <td>0</td>\n",
       "      <td>0</td>\n",
       "      <td>0</td>\n",
       "      <td>...</td>\n",
       "      <td>18</td>\n",
       "      <td>18</td>\n",
       "      <td>18</td>\n",
       "      <td>19</td>\n",
       "      <td>19</td>\n",
       "      <td>19</td>\n",
       "      <td>19</td>\n",
       "      <td>19</td>\n",
       "      <td>19</td>\n",
       "      <td>19</td>\n",
       "    </tr>\n",
       "    <tr>\n",
       "      <th>Total</th>\n",
       "      <td>2</td>\n",
       "      <td>3</td>\n",
       "      <td>4</td>\n",
       "      <td>5</td>\n",
       "      <td>6</td>\n",
       "      <td>7</td>\n",
       "      <td>8</td>\n",
       "      <td>12</td>\n",
       "      <td>16</td>\n",
       "      <td>18</td>\n",
       "      <td>...</td>\n",
       "      <td>806</td>\n",
       "      <td>841</td>\n",
       "      <td>890</td>\n",
       "      <td>944</td>\n",
       "      <td>997</td>\n",
       "      <td>1054</td>\n",
       "      <td>1113</td>\n",
       "      <td>1188</td>\n",
       "      <td>1275</td>\n",
       "      <td>1356</td>\n",
       "    </tr>\n",
       "  </tbody>\n",
       "</table>\n",
       "<p>17 rows × 73 columns</p>\n",
       "</div>"
      ],
      "text/plain": [
       "                    2020-03-24  2020-03-25  2020-03-26  2020-03-27  \\\n",
       "Region                                                               \n",
       "Arica y Parinacota           0           0           0           0   \n",
       "Tarapacá                     0           0           0           0   \n",
       "Antofagasta                  0           0           0           0   \n",
       "Atacama                      0           0           0           0   \n",
       "Coquimbo                     0           0           0           0   \n",
       "Valparaíso                   0           0           0           0   \n",
       "Metropolitana                2           2           3           3   \n",
       "O’Higgins                    0           0           0           0   \n",
       "Maule                        0           0           0           0   \n",
       "Ñuble                        0           0           0           0   \n",
       "Biobío                       0           1           1           2   \n",
       "Araucanía                    0           0           0           0   \n",
       "Los Ríos                     0           0           0           0   \n",
       "Los Lagos                    0           0           0           0   \n",
       "Aysén                        0           0           0           0   \n",
       "Magallanes                   0           0           0           0   \n",
       "Total                        2           3           4           5   \n",
       "\n",
       "                    2020-03-28  2020-03-29  2020-03-30  2020-03-31  \\\n",
       "Region                                                               \n",
       "Arica y Parinacota           0           0           0           0   \n",
       "Tarapacá                     0           0           0           0   \n",
       "Antofagasta                  0           0           0           0   \n",
       "Atacama                      0           0           0           0   \n",
       "Coquimbo                     0           0           0           0   \n",
       "Valparaíso                   0           0           0           1   \n",
       "Metropolitana                3           3           3           4   \n",
       "O’Higgins                    0           0           0           0   \n",
       "Maule                        0           0           1           1   \n",
       "Ñuble                        0           0           0           0   \n",
       "Biobío                       2           2           2           2   \n",
       "Araucanía                    1           2           2           4   \n",
       "Los Ríos                     0           0           0           0   \n",
       "Los Lagos                    0           0           0           0   \n",
       "Aysén                        0           0           0           0   \n",
       "Magallanes                   0           0           0           0   \n",
       "Total                        6           7           8          12   \n",
       "\n",
       "                    2020-04-01  2020-04-02  ...  2020-05-26  2020-05-27  \\\n",
       "Region                                      ...                           \n",
       "Arica y Parinacota           0           0  ...           7           7   \n",
       "Tarapacá                     0           0  ...           8          11   \n",
       "Antofagasta                  0           0  ...          23          25   \n",
       "Atacama                      0           0  ...           0           0   \n",
       "Coquimbo                     0           0  ...           2           2   \n",
       "Valparaíso                   1           1  ...          57          58   \n",
       "Metropolitana                5           6  ...         567         595   \n",
       "O’Higgins                    0           0  ...          13          14   \n",
       "Maule                        1           1  ...          15          15   \n",
       "Ñuble                        0           0  ...          22          22   \n",
       "Biobío                       2           2  ...          10          10   \n",
       "Araucanía                    6           7  ...          45          45   \n",
       "Los Ríos                     1           1  ...           6           6   \n",
       "Los Lagos                    0           0  ...          13          13   \n",
       "Aysén                        0           0  ...           0           0   \n",
       "Magallanes                   0           0  ...          18          18   \n",
       "Total                       16          18  ...         806         841   \n",
       "\n",
       "                    2020-05-28  2020-05-29  2020-05-30  2020-05-31  \\\n",
       "Region                                                               \n",
       "Arica y Parinacota           7           7           7           7   \n",
       "Tarapacá                    12          14          18          21   \n",
       "Antofagasta                 28          28          29          31   \n",
       "Atacama                      0           0           0           0   \n",
       "Coquimbo                     2           2           2           2   \n",
       "Valparaíso                  60          61          63          66   \n",
       "Metropolitana              638         685         728         775   \n",
       "O’Higgins                   14          14          16          18   \n",
       "Maule                       15          15          15          15   \n",
       "Ñuble                       22          22          23          23   \n",
       "Biobío                      10          11          11          11   \n",
       "Araucanía                   45          47          47          47   \n",
       "Los Ríos                     6           6           6           6   \n",
       "Los Lagos                   13          13          13          13   \n",
       "Aysén                        0           0           0           0   \n",
       "Magallanes                  18          19          19          19   \n",
       "Total                      890         944         997        1054   \n",
       "\n",
       "                    2020-06-01  2020-06-02  2020-06-03  2020-06-04  \n",
       "Region                                                              \n",
       "Arica y Parinacota           8           8           8           8  \n",
       "Tarapacá                    22          23          28          28  \n",
       "Antofagasta                 32          34          36          38  \n",
       "Atacama                      0           0           0           0  \n",
       "Coquimbo                     2           2           4           4  \n",
       "Valparaíso                  70          72          77          78  \n",
       "Metropolitana              824         894         961        1034  \n",
       "O’Higgins                   18          18          20          21  \n",
       "Maule                       17          17          19          21  \n",
       "Ñuble                       23          23          24          24  \n",
       "Biobío                      11          11          11          13  \n",
       "Araucanía                   47          47          47          47  \n",
       "Los Ríos                     7           7           8           8  \n",
       "Los Lagos                   13          13          13          13  \n",
       "Aysén                        0           0           0           0  \n",
       "Magallanes                  19          19          19          19  \n",
       "Total                     1113        1188        1275        1356  \n",
       "\n",
       "[17 rows x 73 columns]"
      ]
     },
     "execution_count": 183,
     "metadata": {},
     "output_type": "execute_result"
    }
   ],
   "source": [
    "#hide\n",
    "data"
   ]
  }
 ],
 "metadata": {
  "colab": {
   "collapsed_sections": [],
   "name": "Excess-mortality-RM.ipynb",
   "provenance": []
  },
  "kernelspec": {
   "display_name": "Python 3",
   "language": "python",
   "name": "python3"
  },
  "language_info": {
   "codemirror_mode": {
    "name": "ipython",
    "version": 3
   },
   "file_extension": ".py",
   "mimetype": "text/x-python",
   "name": "python",
   "nbconvert_exporter": "python",
   "pygments_lexer": "ipython3",
   "version": "3.8.2"
  }
 },
 "nbformat": 4,
 "nbformat_minor": 1
}
