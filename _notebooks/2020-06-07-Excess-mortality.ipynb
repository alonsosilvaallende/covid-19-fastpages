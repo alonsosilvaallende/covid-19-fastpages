{
 "cells": [
  {
   "cell_type": "markdown",
   "metadata": {},
   "source": [
    "# Exceso de mortalidad en Chile\n",
    "> Exceso de mortalidad en Chile\n",
    "\n",
    "- toc: true \n",
    "- badges: true\n",
    "- comments: true\n",
    "- author: Alonso Silva Allende\n",
    "- categories: [jupyter]\n",
    "- image: images/fallecimientos.png"
   ]
  },
  {
   "cell_type": "code",
   "execution_count": 1,
   "metadata": {
    "colab": {},
    "colab_type": "code",
    "id": "1Xxv_8Y9axUI"
   },
   "outputs": [],
   "source": [
    "#hide\n",
    "import numpy as np\n",
    "import pandas as pd\n",
    "import matplotlib.pyplot as plt\n",
    "import altair as alt\n",
    "import datetime"
   ]
  },
  {
   "cell_type": "code",
   "execution_count": 2,
   "metadata": {},
   "outputs": [],
   "source": [
    "#hide\n",
    "from IPython.display import display, Markdown, display_html, HTML"
   ]
  },
  {
   "cell_type": "code",
   "execution_count": 122,
   "metadata": {
    "colab": {},
    "colab_type": "code",
    "id": "WNhnjKRPa0AC"
   },
   "outputs": [],
   "source": [
    "#hide\n",
    "deaths_raw = pd.read_csv(\n",
    "    \"https://raw.githubusercontent.com/MinCiencia/Datos-COVID19/master/output/producto32/Defunciones.csv\")"
   ]
  },
  {
   "cell_type": "markdown",
   "metadata": {},
   "source": [
    "# Exceso de mortalidad en Chile"
   ]
  },
  {
   "cell_type": "markdown",
   "metadata": {},
   "source": [
    "Durante una pandemia mundial, la recolección de datos de calidad es un problema de logística complicado. Además, las definiciones de indicadores se han modificado a través del tiempo. Por ejemplo, en Chile, el término \"recuperado\" ha tenido 3 definiciones distintas en dos meses. De igual modo, caso confirmado también ha sido modificado (sintomático vs asintomático) y recientemente fallecido confirmado (con PCR positivo vs en espera de resultado de exámen PCR y con PCR positivo), etc.\n",
    "No hay un indicador perfecto, sin embargo, existe un indicador que es difícil de modificar su definición: defunciones inscritas.\n",
    "\n",
    "El exceso de mortalidad es un cálculo sencillo a partir de los datos de defunciones inscritas en el registro civil: resulta de comparar las muertes de este año con el promedio (ponderado o no) de los años anteriores, semana a semana. En azul, el promedio (ponderado o no), en gris, los años anteriores y en rojo este año. "
   ]
  },
  {
   "cell_type": "code",
   "execution_count": 123,
   "metadata": {
    "colab": {},
    "colab_type": "code",
    "id": "J7b9IXZXVU4y"
   },
   "outputs": [],
   "source": [
    "#hide\n",
    "# Defunciones inscritas en todo Chile\n",
    "deaths = deaths_raw.drop(columns=[\"Region\", \"Codigo region\", \"Comuna\", \"Codigo comuna\"]).sum()"
   ]
  },
  {
   "cell_type": "code",
   "execution_count": 5,
   "metadata": {
    "colab": {
     "base_uri": "https://localhost:8080/",
     "height": 34
    },
    "colab_type": "code",
    "id": "LdPJZBSiVsaQ",
    "outputId": "8e954194-4a07-43b9-b7f1-708de285e406"
   },
   "outputs": [
    {
     "data": {
      "text/plain": [
       "'2020-06-05'"
      ]
     },
     "execution_count": 5,
     "metadata": {},
     "output_type": "execute_result"
    }
   ],
   "source": [
    "#hide\n",
    "# sort rows by date/index\n",
    "deaths.index = pd.to_datetime(deaths.index)\n",
    "deaths = deaths.sort_index()\n",
    "last_day = deaths.index[-1]\n",
    "last_day.strftime(\"%Y-%m-%d\")"
   ]
  },
  {
   "cell_type": "code",
   "execution_count": 6,
   "metadata": {},
   "outputs": [
    {
     "data": {
      "text/plain": [
       "23"
      ]
     },
     "execution_count": 6,
     "metadata": {},
     "output_type": "execute_result"
    }
   ],
   "source": [
    "#hide\n",
    "#Give two days so that they have time to add inscriptions\n",
    "_, current_week, _ = (last_day-pd.DateOffset(3)).isocalendar()\n",
    "current_week"
   ]
  },
  {
   "cell_type": "code",
   "execution_count": 7,
   "metadata": {
    "colab": {},
    "colab_type": "code",
    "id": "PUH-w_ftbA1j"
   },
   "outputs": [],
   "source": [
    "#hide\n",
    "deaths = (deaths\n",
    "          .reset_index()\n",
    "          .rename(columns={\"index\": \"fecha\", 0: \"fallecidos\"})\n",
    "          )"
   ]
  },
  {
   "cell_type": "code",
   "execution_count": 8,
   "metadata": {
    "colab": {},
    "colab_type": "code",
    "id": "d1lY2mLvbidc"
   },
   "outputs": [],
   "source": [
    "#hide\n",
    "def get_isoyear_isoweek(row):\n",
    "    isoyear, isoweek, _ = row[\"fecha\"].isocalendar()\n",
    "    return pd.Series({\"año\": isoyear, \"semana\": isoweek})"
   ]
  },
  {
   "cell_type": "code",
   "execution_count": 9,
   "metadata": {
    "colab": {},
    "colab_type": "code",
    "id": "JePVFAVAb72z"
   },
   "outputs": [],
   "source": [
    "#hide\n",
    "deaths[[\"año\", \"semana\"]] = deaths.apply(get_isoyear_isoweek, axis=\"columns\")"
   ]
  },
  {
   "cell_type": "code",
   "execution_count": 10,
   "metadata": {
    "colab": {},
    "colab_type": "code",
    "id": "yhZw2DjScERS"
   },
   "outputs": [],
   "source": [
    "#hide\n",
    "deaths_year_week = (deaths\n",
    "                    .drop(columns=[\"fecha\"])\n",
    "                    .groupby([\"año\", \"semana\"])\n",
    "                    .sum()\n",
    "                    [\"fallecidos\"]\n",
    "                    .unstack()\n",
    "                    .astype(\"Float16\")\n",
    "                    )"
   ]
  },
  {
   "cell_type": "code",
   "execution_count": 11,
   "metadata": {
    "colab": {},
    "colab_type": "code",
    "id": "UwjXuH4Gcqgm"
   },
   "outputs": [],
   "source": [
    "#hide\n",
    "deaths_year_week = deaths_year_week.iloc[1:,:-1]"
   ]
  },
  {
   "cell_type": "code",
   "execution_count": 12,
   "metadata": {
    "colab": {
     "base_uri": "https://localhost:8080/",
     "height": 446
    },
    "colab_type": "code",
    "id": "Tt8ggjKdcHJP",
    "outputId": "80519779-6d7b-4e56-a9bc-3a377b75c07a",
    "scrolled": false
   },
   "outputs": [
    {
     "data": {
      "text/html": [
       "<div>\n",
       "<style scoped>\n",
       "    .dataframe tbody tr th:only-of-type {\n",
       "        vertical-align: middle;\n",
       "    }\n",
       "\n",
       "    .dataframe tbody tr th {\n",
       "        vertical-align: top;\n",
       "    }\n",
       "\n",
       "    .dataframe thead th {\n",
       "        text-align: right;\n",
       "    }\n",
       "</style>\n",
       "<table border=\"1\" class=\"dataframe\">\n",
       "  <thead>\n",
       "    <tr style=\"text-align: right;\">\n",
       "      <th>semana</th>\n",
       "      <th>1</th>\n",
       "      <th>2</th>\n",
       "      <th>3</th>\n",
       "      <th>4</th>\n",
       "      <th>5</th>\n",
       "      <th>6</th>\n",
       "      <th>7</th>\n",
       "      <th>8</th>\n",
       "      <th>9</th>\n",
       "      <th>10</th>\n",
       "      <th>...</th>\n",
       "      <th>43</th>\n",
       "      <th>44</th>\n",
       "      <th>45</th>\n",
       "      <th>46</th>\n",
       "      <th>47</th>\n",
       "      <th>48</th>\n",
       "      <th>49</th>\n",
       "      <th>50</th>\n",
       "      <th>51</th>\n",
       "      <th>52</th>\n",
       "    </tr>\n",
       "    <tr>\n",
       "      <th>año</th>\n",
       "      <th></th>\n",
       "      <th></th>\n",
       "      <th></th>\n",
       "      <th></th>\n",
       "      <th></th>\n",
       "      <th></th>\n",
       "      <th></th>\n",
       "      <th></th>\n",
       "      <th></th>\n",
       "      <th></th>\n",
       "      <th></th>\n",
       "      <th></th>\n",
       "      <th></th>\n",
       "      <th></th>\n",
       "      <th></th>\n",
       "      <th></th>\n",
       "      <th></th>\n",
       "      <th></th>\n",
       "      <th></th>\n",
       "      <th></th>\n",
       "      <th></th>\n",
       "    </tr>\n",
       "  </thead>\n",
       "  <tbody>\n",
       "    <tr>\n",
       "      <th>2010</th>\n",
       "      <td>1786.0</td>\n",
       "      <td>1672.0</td>\n",
       "      <td>1775.0</td>\n",
       "      <td>1689.0</td>\n",
       "      <td>1687.0</td>\n",
       "      <td>1645.0</td>\n",
       "      <td>1685.0</td>\n",
       "      <td>1641.0</td>\n",
       "      <td>1865.0</td>\n",
       "      <td>1852.0</td>\n",
       "      <td>...</td>\n",
       "      <td>1906.0</td>\n",
       "      <td>1783.0</td>\n",
       "      <td>1722.0</td>\n",
       "      <td>1703.0</td>\n",
       "      <td>1738.0</td>\n",
       "      <td>1617.0</td>\n",
       "      <td>1810.0</td>\n",
       "      <td>1663.0</td>\n",
       "      <td>1725.0</td>\n",
       "      <td>1789.0</td>\n",
       "    </tr>\n",
       "    <tr>\n",
       "      <th>2011</th>\n",
       "      <td>1814.0</td>\n",
       "      <td>1718.0</td>\n",
       "      <td>1743.0</td>\n",
       "      <td>1795.0</td>\n",
       "      <td>1703.0</td>\n",
       "      <td>1618.0</td>\n",
       "      <td>1562.0</td>\n",
       "      <td>1657.0</td>\n",
       "      <td>1679.0</td>\n",
       "      <td>1542.0</td>\n",
       "      <td>...</td>\n",
       "      <td>1837.0</td>\n",
       "      <td>1673.0</td>\n",
       "      <td>1751.0</td>\n",
       "      <td>1714.0</td>\n",
       "      <td>1743.0</td>\n",
       "      <td>1750.0</td>\n",
       "      <td>1720.0</td>\n",
       "      <td>1735.0</td>\n",
       "      <td>1654.0</td>\n",
       "      <td>1911.0</td>\n",
       "    </tr>\n",
       "    <tr>\n",
       "      <th>2012</th>\n",
       "      <td>1937.0</td>\n",
       "      <td>1736.0</td>\n",
       "      <td>1730.0</td>\n",
       "      <td>1717.0</td>\n",
       "      <td>1731.0</td>\n",
       "      <td>1718.0</td>\n",
       "      <td>1669.0</td>\n",
       "      <td>1654.0</td>\n",
       "      <td>1697.0</td>\n",
       "      <td>1767.0</td>\n",
       "      <td>...</td>\n",
       "      <td>1923.0</td>\n",
       "      <td>1670.0</td>\n",
       "      <td>2019.0</td>\n",
       "      <td>1871.0</td>\n",
       "      <td>1728.0</td>\n",
       "      <td>1799.0</td>\n",
       "      <td>1812.0</td>\n",
       "      <td>1657.0</td>\n",
       "      <td>1759.0</td>\n",
       "      <td>1853.0</td>\n",
       "    </tr>\n",
       "    <tr>\n",
       "      <th>2013</th>\n",
       "      <td>1866.0</td>\n",
       "      <td>1855.0</td>\n",
       "      <td>1756.0</td>\n",
       "      <td>1817.0</td>\n",
       "      <td>1729.0</td>\n",
       "      <td>1867.0</td>\n",
       "      <td>1698.0</td>\n",
       "      <td>1643.0</td>\n",
       "      <td>1822.0</td>\n",
       "      <td>1708.0</td>\n",
       "      <td>...</td>\n",
       "      <td>1848.0</td>\n",
       "      <td>1619.0</td>\n",
       "      <td>2038.0</td>\n",
       "      <td>1904.0</td>\n",
       "      <td>1890.0</td>\n",
       "      <td>1756.0</td>\n",
       "      <td>1880.0</td>\n",
       "      <td>1705.0</td>\n",
       "      <td>1917.0</td>\n",
       "      <td>1855.0</td>\n",
       "    </tr>\n",
       "    <tr>\n",
       "      <th>2014</th>\n",
       "      <td>1841.0</td>\n",
       "      <td>1949.0</td>\n",
       "      <td>1852.0</td>\n",
       "      <td>1829.0</td>\n",
       "      <td>1744.0</td>\n",
       "      <td>1683.0</td>\n",
       "      <td>1756.0</td>\n",
       "      <td>1756.0</td>\n",
       "      <td>1701.0</td>\n",
       "      <td>1691.0</td>\n",
       "      <td>...</td>\n",
       "      <td>1934.0</td>\n",
       "      <td>1716.0</td>\n",
       "      <td>2052.0</td>\n",
       "      <td>1967.0</td>\n",
       "      <td>1855.0</td>\n",
       "      <td>1846.0</td>\n",
       "      <td>1910.0</td>\n",
       "      <td>1745.0</td>\n",
       "      <td>1827.0</td>\n",
       "      <td>1822.0</td>\n",
       "    </tr>\n",
       "    <tr>\n",
       "      <th>2015</th>\n",
       "      <td>1796.0</td>\n",
       "      <td>1888.0</td>\n",
       "      <td>1852.0</td>\n",
       "      <td>1792.0</td>\n",
       "      <td>1812.0</td>\n",
       "      <td>1875.0</td>\n",
       "      <td>1829.0</td>\n",
       "      <td>1824.0</td>\n",
       "      <td>1844.0</td>\n",
       "      <td>1703.0</td>\n",
       "      <td>...</td>\n",
       "      <td>1992.0</td>\n",
       "      <td>1619.0</td>\n",
       "      <td>2028.0</td>\n",
       "      <td>2236.0</td>\n",
       "      <td>1949.0</td>\n",
       "      <td>1863.0</td>\n",
       "      <td>1960.0</td>\n",
       "      <td>1915.0</td>\n",
       "      <td>1879.0</td>\n",
       "      <td>1768.0</td>\n",
       "    </tr>\n",
       "    <tr>\n",
       "      <th>2016</th>\n",
       "      <td>2116.0</td>\n",
       "      <td>1858.0</td>\n",
       "      <td>1932.0</td>\n",
       "      <td>1863.0</td>\n",
       "      <td>1910.0</td>\n",
       "      <td>1749.0</td>\n",
       "      <td>1724.0</td>\n",
       "      <td>1836.0</td>\n",
       "      <td>1854.0</td>\n",
       "      <td>1765.0</td>\n",
       "      <td>...</td>\n",
       "      <td>2088.0</td>\n",
       "      <td>1761.0</td>\n",
       "      <td>1927.0</td>\n",
       "      <td>1800.0</td>\n",
       "      <td>1854.0</td>\n",
       "      <td>1874.0</td>\n",
       "      <td>1811.0</td>\n",
       "      <td>1891.0</td>\n",
       "      <td>1788.0</td>\n",
       "      <td>1825.0</td>\n",
       "    </tr>\n",
       "    <tr>\n",
       "      <th>2017</th>\n",
       "      <td>1874.0</td>\n",
       "      <td>1874.0</td>\n",
       "      <td>1958.0</td>\n",
       "      <td>2110.0</td>\n",
       "      <td>1940.0</td>\n",
       "      <td>1815.0</td>\n",
       "      <td>1854.0</td>\n",
       "      <td>1893.0</td>\n",
       "      <td>1830.0</td>\n",
       "      <td>1731.0</td>\n",
       "      <td>...</td>\n",
       "      <td>1800.0</td>\n",
       "      <td>1930.0</td>\n",
       "      <td>1973.0</td>\n",
       "      <td>1816.0</td>\n",
       "      <td>1943.0</td>\n",
       "      <td>1907.0</td>\n",
       "      <td>1737.0</td>\n",
       "      <td>2006.0</td>\n",
       "      <td>2023.0</td>\n",
       "      <td>1936.0</td>\n",
       "    </tr>\n",
       "    <tr>\n",
       "      <th>2018</th>\n",
       "      <td>1861.0</td>\n",
       "      <td>1865.0</td>\n",
       "      <td>1778.0</td>\n",
       "      <td>1779.0</td>\n",
       "      <td>1860.0</td>\n",
       "      <td>1885.0</td>\n",
       "      <td>1868.0</td>\n",
       "      <td>1818.0</td>\n",
       "      <td>1780.0</td>\n",
       "      <td>1904.0</td>\n",
       "      <td>...</td>\n",
       "      <td>2064.0</td>\n",
       "      <td>1761.0</td>\n",
       "      <td>2226.0</td>\n",
       "      <td>1927.0</td>\n",
       "      <td>1986.0</td>\n",
       "      <td>1906.0</td>\n",
       "      <td>1932.0</td>\n",
       "      <td>1907.0</td>\n",
       "      <td>1980.0</td>\n",
       "      <td>1892.0</td>\n",
       "    </tr>\n",
       "    <tr>\n",
       "      <th>2019</th>\n",
       "      <td>1939.0</td>\n",
       "      <td>1889.0</td>\n",
       "      <td>1807.0</td>\n",
       "      <td>1943.0</td>\n",
       "      <td>1932.0</td>\n",
       "      <td>2021.0</td>\n",
       "      <td>1893.0</td>\n",
       "      <td>1936.0</td>\n",
       "      <td>1885.0</td>\n",
       "      <td>1804.0</td>\n",
       "      <td>...</td>\n",
       "      <td>2017.0</td>\n",
       "      <td>1898.0</td>\n",
       "      <td>2222.0</td>\n",
       "      <td>2003.0</td>\n",
       "      <td>2072.0</td>\n",
       "      <td>1960.0</td>\n",
       "      <td>1963.0</td>\n",
       "      <td>1878.0</td>\n",
       "      <td>1893.0</td>\n",
       "      <td>1980.0</td>\n",
       "    </tr>\n",
       "    <tr>\n",
       "      <th>2020</th>\n",
       "      <td>2060.0</td>\n",
       "      <td>2116.0</td>\n",
       "      <td>2060.0</td>\n",
       "      <td>1987.0</td>\n",
       "      <td>2033.0</td>\n",
       "      <td>1906.0</td>\n",
       "      <td>1959.0</td>\n",
       "      <td>1818.0</td>\n",
       "      <td>1855.0</td>\n",
       "      <td>2017.0</td>\n",
       "      <td>...</td>\n",
       "      <td>NaN</td>\n",
       "      <td>NaN</td>\n",
       "      <td>NaN</td>\n",
       "      <td>NaN</td>\n",
       "      <td>NaN</td>\n",
       "      <td>NaN</td>\n",
       "      <td>NaN</td>\n",
       "      <td>NaN</td>\n",
       "      <td>NaN</td>\n",
       "      <td>NaN</td>\n",
       "    </tr>\n",
       "  </tbody>\n",
       "</table>\n",
       "<p>11 rows × 52 columns</p>\n",
       "</div>"
      ],
      "text/plain": [
       "semana      1       2       3       4       5       6       7       8   \\\n",
       "año                                                                      \n",
       "2010    1786.0  1672.0  1775.0  1689.0  1687.0  1645.0  1685.0  1641.0   \n",
       "2011    1814.0  1718.0  1743.0  1795.0  1703.0  1618.0  1562.0  1657.0   \n",
       "2012    1937.0  1736.0  1730.0  1717.0  1731.0  1718.0  1669.0  1654.0   \n",
       "2013    1866.0  1855.0  1756.0  1817.0  1729.0  1867.0  1698.0  1643.0   \n",
       "2014    1841.0  1949.0  1852.0  1829.0  1744.0  1683.0  1756.0  1756.0   \n",
       "2015    1796.0  1888.0  1852.0  1792.0  1812.0  1875.0  1829.0  1824.0   \n",
       "2016    2116.0  1858.0  1932.0  1863.0  1910.0  1749.0  1724.0  1836.0   \n",
       "2017    1874.0  1874.0  1958.0  2110.0  1940.0  1815.0  1854.0  1893.0   \n",
       "2018    1861.0  1865.0  1778.0  1779.0  1860.0  1885.0  1868.0  1818.0   \n",
       "2019    1939.0  1889.0  1807.0  1943.0  1932.0  2021.0  1893.0  1936.0   \n",
       "2020    2060.0  2116.0  2060.0  1987.0  2033.0  1906.0  1959.0  1818.0   \n",
       "\n",
       "semana      9       10  ...      43      44      45      46      47      48  \\\n",
       "año                     ...                                                   \n",
       "2010    1865.0  1852.0  ...  1906.0  1783.0  1722.0  1703.0  1738.0  1617.0   \n",
       "2011    1679.0  1542.0  ...  1837.0  1673.0  1751.0  1714.0  1743.0  1750.0   \n",
       "2012    1697.0  1767.0  ...  1923.0  1670.0  2019.0  1871.0  1728.0  1799.0   \n",
       "2013    1822.0  1708.0  ...  1848.0  1619.0  2038.0  1904.0  1890.0  1756.0   \n",
       "2014    1701.0  1691.0  ...  1934.0  1716.0  2052.0  1967.0  1855.0  1846.0   \n",
       "2015    1844.0  1703.0  ...  1992.0  1619.0  2028.0  2236.0  1949.0  1863.0   \n",
       "2016    1854.0  1765.0  ...  2088.0  1761.0  1927.0  1800.0  1854.0  1874.0   \n",
       "2017    1830.0  1731.0  ...  1800.0  1930.0  1973.0  1816.0  1943.0  1907.0   \n",
       "2018    1780.0  1904.0  ...  2064.0  1761.0  2226.0  1927.0  1986.0  1906.0   \n",
       "2019    1885.0  1804.0  ...  2017.0  1898.0  2222.0  2003.0  2072.0  1960.0   \n",
       "2020    1855.0  2017.0  ...     NaN     NaN     NaN     NaN     NaN     NaN   \n",
       "\n",
       "semana      49      50      51      52  \n",
       "año                                     \n",
       "2010    1810.0  1663.0  1725.0  1789.0  \n",
       "2011    1720.0  1735.0  1654.0  1911.0  \n",
       "2012    1812.0  1657.0  1759.0  1853.0  \n",
       "2013    1880.0  1705.0  1917.0  1855.0  \n",
       "2014    1910.0  1745.0  1827.0  1822.0  \n",
       "2015    1960.0  1915.0  1879.0  1768.0  \n",
       "2016    1811.0  1891.0  1788.0  1825.0  \n",
       "2017    1737.0  2006.0  2023.0  1936.0  \n",
       "2018    1932.0  1907.0  1980.0  1892.0  \n",
       "2019    1963.0  1878.0  1893.0  1980.0  \n",
       "2020       NaN     NaN     NaN     NaN  \n",
       "\n",
       "[11 rows x 52 columns]"
      ]
     },
     "execution_count": 12,
     "metadata": {},
     "output_type": "execute_result"
    }
   ],
   "source": [
    "#hide\n",
    "deaths_year_week"
   ]
  },
  {
   "cell_type": "code",
   "execution_count": 13,
   "metadata": {},
   "outputs": [],
   "source": [
    "#hide\n",
    "deaths_year_week.loc[2020,current_week] = np.NaN"
   ]
  },
  {
   "cell_type": "code",
   "execution_count": 14,
   "metadata": {},
   "outputs": [],
   "source": [
    "#hide\n",
    "expected = deaths_year_week.loc[2015:2019].mean()"
   ]
  },
  {
   "cell_type": "code",
   "execution_count": 15,
   "metadata": {},
   "outputs": [],
   "source": [
    "#hide\n",
    "ci = deaths_year_week.loc[2015:2019].std(ddof=1)"
   ]
  },
  {
   "cell_type": "code",
   "execution_count": 16,
   "metadata": {},
   "outputs": [],
   "source": [
    "#hide\n",
    "df_expected = pd.DataFrame()\n",
    "df_expected[\"Expected\"] = expected\n",
    "df_expected[\"lower\"] = expected - ci\n",
    "df_expected[\"upper\"] = expected + ci\n",
    "df_expected[\"lower 2\"] = expected - 2*ci\n",
    "df_expected[\"upper 2\"] = expected + 2*ci"
   ]
  },
  {
   "cell_type": "code",
   "execution_count": 17,
   "metadata": {
    "scrolled": true
   },
   "outputs": [
    {
     "data": {
      "text/html": [
       "<div>\n",
       "<style scoped>\n",
       "    .dataframe tbody tr th:only-of-type {\n",
       "        vertical-align: middle;\n",
       "    }\n",
       "\n",
       "    .dataframe tbody tr th {\n",
       "        vertical-align: top;\n",
       "    }\n",
       "\n",
       "    .dataframe thead th {\n",
       "        text-align: right;\n",
       "    }\n",
       "</style>\n",
       "<table border=\"1\" class=\"dataframe\">\n",
       "  <thead>\n",
       "    <tr style=\"text-align: right;\">\n",
       "      <th></th>\n",
       "      <th>Expected</th>\n",
       "      <th>lower</th>\n",
       "      <th>upper</th>\n",
       "      <th>lower 2</th>\n",
       "      <th>upper 2</th>\n",
       "    </tr>\n",
       "    <tr>\n",
       "      <th>semana</th>\n",
       "      <th></th>\n",
       "      <th></th>\n",
       "      <th></th>\n",
       "      <th></th>\n",
       "      <th></th>\n",
       "    </tr>\n",
       "  </thead>\n",
       "  <tbody>\n",
       "    <tr>\n",
       "      <th>1</th>\n",
       "      <td>1917.0</td>\n",
       "      <td>1795.0</td>\n",
       "      <td>2039.0</td>\n",
       "      <td>1673.0</td>\n",
       "      <td>2162.0</td>\n",
       "    </tr>\n",
       "    <tr>\n",
       "      <th>2</th>\n",
       "      <td>1875.0</td>\n",
       "      <td>1861.0</td>\n",
       "      <td>1889.0</td>\n",
       "      <td>1848.0</td>\n",
       "      <td>1902.0</td>\n",
       "    </tr>\n",
       "  </tbody>\n",
       "</table>\n",
       "</div>"
      ],
      "text/plain": [
       "        Expected   lower   upper  lower 2  upper 2\n",
       "semana                                            \n",
       "1         1917.0  1795.0  2039.0   1673.0   2162.0\n",
       "2         1875.0  1861.0  1889.0   1848.0   1902.0"
      ]
     },
     "execution_count": 17,
     "metadata": {},
     "output_type": "execute_result"
    }
   ],
   "source": [
    "#hide\n",
    "df_expected.head(2)"
   ]
  },
  {
   "cell_type": "code",
   "execution_count": 147,
   "metadata": {},
   "outputs": [],
   "source": [
    "#hide\n",
    "deaths_year_week = deaths_year_week.T\n",
    "deaths_year_week[\"Promedio últimos 5 años\"] = expected\n",
    "deaths_year_week = deaths_year_week.T"
   ]
  },
  {
   "cell_type": "code",
   "execution_count": 19,
   "metadata": {
    "scrolled": false
   },
   "outputs": [
    {
     "data": {
      "text/html": [
       "\n",
       "<div id=\"altair-viz-efc86ed87c974b7e8272a8d211161ba7\"></div>\n",
       "<script type=\"text/javascript\">\n",
       "  (function(spec, embedOpt){\n",
       "    let outputDiv = document.currentScript.previousElementSibling;\n",
       "    if (outputDiv.id !== \"altair-viz-efc86ed87c974b7e8272a8d211161ba7\") {\n",
       "      outputDiv = document.getElementById(\"altair-viz-efc86ed87c974b7e8272a8d211161ba7\");\n",
       "    }\n",
       "    const paths = {\n",
       "      \"vega\": \"https://cdn.jsdelivr.net/npm//vega@5?noext\",\n",
       "      \"vega-lib\": \"https://cdn.jsdelivr.net/npm//vega-lib?noext\",\n",
       "      \"vega-lite\": \"https://cdn.jsdelivr.net/npm//vega-lite@4.8.1?noext\",\n",
       "      \"vega-embed\": \"https://cdn.jsdelivr.net/npm//vega-embed@6?noext\",\n",
       "    };\n",
       "\n",
       "    function loadScript(lib) {\n",
       "      return new Promise(function(resolve, reject) {\n",
       "        var s = document.createElement('script');\n",
       "        s.src = paths[lib];\n",
       "        s.async = true;\n",
       "        s.onload = () => resolve(paths[lib]);\n",
       "        s.onerror = () => reject(`Error loading script: ${paths[lib]}`);\n",
       "        document.getElementsByTagName(\"head\")[0].appendChild(s);\n",
       "      });\n",
       "    }\n",
       "\n",
       "    function showError(err) {\n",
       "      outputDiv.innerHTML = `<div class=\"error\" style=\"color:red;\">${err}</div>`;\n",
       "      throw err;\n",
       "    }\n",
       "\n",
       "    function displayChart(vegaEmbed) {\n",
       "      vegaEmbed(outputDiv, spec, embedOpt)\n",
       "        .catch(err => showError(`Javascript Error: ${err.message}<br>This usually means there's a typo in your chart specification. See the javascript console for the full traceback.`));\n",
       "    }\n",
       "\n",
       "    if(typeof define === \"function\" && define.amd) {\n",
       "      requirejs.config({paths});\n",
       "      require([\"vega-embed\"], displayChart, err => showError(`Error loading script: ${err.message}`));\n",
       "    } else if (typeof vegaEmbed === \"function\") {\n",
       "      displayChart(vegaEmbed);\n",
       "    } else {\n",
       "      loadScript(\"vega\")\n",
       "        .then(() => loadScript(\"vega-lite\"))\n",
       "        .then(() => loadScript(\"vega-embed\"))\n",
       "        .catch(showError)\n",
       "        .then(() => displayChart(vegaEmbed));\n",
       "    }\n",
       "  })({\"config\": {\"view\": {\"continuousWidth\": 400, \"continuousHeight\": 300}}, \"layer\": [{\"data\": {\"name\": \"data-f079d6935d9db81a7b47558b34f696d6\"}, \"mark\": {\"type\": \"line\", \"point\": true}, \"encoding\": {\"color\": {\"type\": \"nominal\", \"field\": \"a\\u00f1o\", \"scale\": {\"domain\": [\"2015\", \"2016\", \"2017\", \"2018\", \"2019\", \"2020\", \"Promedio \\u00faltimos 5 a\\u00f1os\"], \"range\": [\"lightgray\", \"lightgray\", \"lightgray\", \"lightgray\", \"lightgray\", \"red\", \"blue\"]}}, \"x\": {\"type\": \"quantitative\", \"field\": \"semana\", \"scale\": {\"domain\": [1, 52]}}, \"y\": {\"type\": \"quantitative\", \"field\": \"defunciones\", \"scale\": {\"domain\": [0, 3500]}}}}, {\"data\": {\"name\": \"data-3a2e35957f1ba8fd87d25a2554e382c3\"}, \"mark\": {\"type\": \"area\", \"opacity\": 0.5}, \"encoding\": {\"x\": {\"type\": \"quantitative\", \"field\": \"semana\", \"scale\": {\"domain\": [1, 52]}}, \"y\": {\"type\": \"quantitative\", \"axis\": {\"title\": \"defunciones\"}, \"field\": \"lower\"}, \"y2\": {\"field\": \"upper\"}}}, {\"data\": {\"name\": \"data-3a2e35957f1ba8fd87d25a2554e382c3\"}, \"mark\": {\"type\": \"area\", \"opacity\": 0.3}, \"encoding\": {\"x\": {\"type\": \"quantitative\", \"field\": \"semana\", \"scale\": {\"domain\": [1, 52]}}, \"y\": {\"type\": \"quantitative\", \"field\": \"lower 2\"}, \"y2\": {\"field\": \"upper 2\"}}}, {\"mark\": {\"type\": \"rule\", \"color\": \"#aaa\"}, \"encoding\": {\"x\": {\"type\": \"quantitative\", \"axis\": {\"title\": \"semana\"}, \"field\": \"semana\", \"scale\": {\"domain\": [1, 52]}, \"sort\": null}}, \"transform\": [{\"filter\": {\"selection\": \"selector001\"}}]}, {\"data\": {\"name\": \"data-f079d6935d9db81a7b47558b34f696d6\"}, \"mark\": \"circle\", \"encoding\": {\"color\": {\"type\": \"nominal\", \"field\": \"a\\u00f1o\", \"scale\": {\"domain\": [\"2015\", \"2016\", \"2017\", \"2018\", \"2019\", \"2020\", \"Promedio \\u00faltimos 5 a\\u00f1os\"], \"range\": [\"lightgray\", \"lightgray\", \"lightgray\", \"lightgray\", \"lightgray\", \"red\", \"blue\"]}}, \"opacity\": {\"condition\": {\"value\": 1, \"selection\": \"selector001\"}, \"value\": 0}, \"x\": {\"type\": \"quantitative\", \"field\": \"semana\", \"scale\": {\"domain\": [1, 52]}}, \"y\": {\"type\": \"quantitative\", \"field\": \"defunciones\", \"scale\": {\"domain\": [0, 3500]}}}, \"selection\": {\"selector001\": {\"type\": \"single\", \"encodings\": [\"x\"], \"on\": \"mouseover\", \"nearest\": true, \"empty\": \"none\"}}}, {\"data\": {\"name\": \"data-f079d6935d9db81a7b47558b34f696d6\"}, \"mark\": {\"type\": \"text\", \"align\": \"left\", \"dx\": 5, \"dy\": -5, \"stroke\": \"white\", \"strokeWidth\": 2}, \"encoding\": {\"color\": {\"type\": \"nominal\", \"field\": \"a\\u00f1o\", \"scale\": {\"domain\": [\"2015\", \"2016\", \"2017\", \"2018\", \"2019\", \"2020\", \"Promedio \\u00faltimos 5 a\\u00f1os\"], \"range\": [\"lightgray\", \"lightgray\", \"lightgray\", \"lightgray\", \"lightgray\", \"red\", \"blue\"]}}, \"text\": {\"type\": \"quantitative\", \"field\": \"defunciones\"}, \"x\": {\"type\": \"quantitative\", \"field\": \"semana\", \"scale\": {\"domain\": [1, 52]}}, \"y\": {\"type\": \"quantitative\", \"field\": \"defunciones\", \"scale\": {\"domain\": [0, 3500]}}}, \"transform\": [{\"filter\": {\"selection\": \"selector001\"}}]}, {\"data\": {\"name\": \"data-f079d6935d9db81a7b47558b34f696d6\"}, \"mark\": {\"type\": \"text\", \"align\": \"left\", \"dx\": 5, \"dy\": -5}, \"encoding\": {\"color\": {\"type\": \"nominal\", \"field\": \"a\\u00f1o\", \"scale\": {\"domain\": [\"2015\", \"2016\", \"2017\", \"2018\", \"2019\", \"2020\", \"Promedio \\u00faltimos 5 a\\u00f1os\"], \"range\": [\"lightgray\", \"lightgray\", \"lightgray\", \"lightgray\", \"lightgray\", \"red\", \"blue\"]}}, \"text\": {\"type\": \"quantitative\", \"field\": \"defunciones\"}, \"x\": {\"type\": \"quantitative\", \"field\": \"semana\", \"scale\": {\"domain\": [1, 52]}}, \"y\": {\"type\": \"quantitative\", \"field\": \"defunciones\", \"scale\": {\"domain\": [0, 3500]}}}, \"transform\": [{\"filter\": {\"selection\": \"selector001\"}}]}], \"data\": {\"name\": \"data-f079d6935d9db81a7b47558b34f696d6\"}, \"title\": \"Defunciones inscritas en Chile por semana (sin corregir) hasta semana 22\", \"width\": 600, \"$schema\": \"https://vega.github.io/schema/vega-lite/v4.8.1.json\", \"datasets\": {\"data-f079d6935d9db81a7b47558b34f696d6\": [{\"a\\u00f1o\": 2015, \"semana\": 1, \"defunciones\": 1796.0}, {\"a\\u00f1o\": 2016, \"semana\": 1, \"defunciones\": 2116.0}, {\"a\\u00f1o\": 2017, \"semana\": 1, \"defunciones\": 1874.0}, {\"a\\u00f1o\": 2018, \"semana\": 1, \"defunciones\": 1861.0}, {\"a\\u00f1o\": 2019, \"semana\": 1, \"defunciones\": 1939.0}, {\"a\\u00f1o\": 2020, \"semana\": 1, \"defunciones\": 2060.0}, {\"a\\u00f1o\": \"Promedio \\u00faltimos 5 a\\u00f1os\", \"semana\": 1, \"defunciones\": 1917.0}, {\"a\\u00f1o\": 2015, \"semana\": 2, \"defunciones\": 1888.0}, {\"a\\u00f1o\": 2016, \"semana\": 2, \"defunciones\": 1858.0}, {\"a\\u00f1o\": 2017, \"semana\": 2, \"defunciones\": 1874.0}, {\"a\\u00f1o\": 2018, \"semana\": 2, \"defunciones\": 1865.0}, {\"a\\u00f1o\": 2019, \"semana\": 2, \"defunciones\": 1889.0}, {\"a\\u00f1o\": 2020, \"semana\": 2, \"defunciones\": 2116.0}, {\"a\\u00f1o\": \"Promedio \\u00faltimos 5 a\\u00f1os\", \"semana\": 2, \"defunciones\": 1875.0}, {\"a\\u00f1o\": 2015, \"semana\": 3, \"defunciones\": 1852.0}, {\"a\\u00f1o\": 2016, \"semana\": 3, \"defunciones\": 1932.0}, {\"a\\u00f1o\": 2017, \"semana\": 3, \"defunciones\": 1958.0}, {\"a\\u00f1o\": 2018, \"semana\": 3, \"defunciones\": 1778.0}, {\"a\\u00f1o\": 2019, \"semana\": 3, \"defunciones\": 1807.0}, {\"a\\u00f1o\": 2020, \"semana\": 3, \"defunciones\": 2060.0}, {\"a\\u00f1o\": \"Promedio \\u00faltimos 5 a\\u00f1os\", \"semana\": 3, \"defunciones\": 1866.0}, {\"a\\u00f1o\": 2015, \"semana\": 4, \"defunciones\": 1792.0}, {\"a\\u00f1o\": 2016, \"semana\": 4, \"defunciones\": 1863.0}, {\"a\\u00f1o\": 2017, \"semana\": 4, \"defunciones\": 2110.0}, {\"a\\u00f1o\": 2018, \"semana\": 4, \"defunciones\": 1779.0}, {\"a\\u00f1o\": 2019, \"semana\": 4, \"defunciones\": 1943.0}, {\"a\\u00f1o\": 2020, \"semana\": 4, \"defunciones\": 1987.0}, {\"a\\u00f1o\": \"Promedio \\u00faltimos 5 a\\u00f1os\", \"semana\": 4, \"defunciones\": 1898.0}, {\"a\\u00f1o\": 2015, \"semana\": 5, \"defunciones\": 1812.0}, {\"a\\u00f1o\": 2016, \"semana\": 5, \"defunciones\": 1910.0}, {\"a\\u00f1o\": 2017, \"semana\": 5, \"defunciones\": 1940.0}, {\"a\\u00f1o\": 2018, \"semana\": 5, \"defunciones\": 1860.0}, {\"a\\u00f1o\": 2019, \"semana\": 5, \"defunciones\": 1932.0}, {\"a\\u00f1o\": 2020, \"semana\": 5, \"defunciones\": 2033.0}, {\"a\\u00f1o\": \"Promedio \\u00faltimos 5 a\\u00f1os\", \"semana\": 5, \"defunciones\": 1891.0}, {\"a\\u00f1o\": 2015, \"semana\": 6, \"defunciones\": 1875.0}, {\"a\\u00f1o\": 2016, \"semana\": 6, \"defunciones\": 1749.0}, {\"a\\u00f1o\": 2017, \"semana\": 6, \"defunciones\": 1815.0}, {\"a\\u00f1o\": 2018, \"semana\": 6, \"defunciones\": 1885.0}, {\"a\\u00f1o\": 2019, \"semana\": 6, \"defunciones\": 2021.0}, {\"a\\u00f1o\": 2020, \"semana\": 6, \"defunciones\": 1906.0}, {\"a\\u00f1o\": \"Promedio \\u00faltimos 5 a\\u00f1os\", \"semana\": 6, \"defunciones\": 1869.0}, {\"a\\u00f1o\": 2015, \"semana\": 7, \"defunciones\": 1829.0}, {\"a\\u00f1o\": 2016, \"semana\": 7, \"defunciones\": 1724.0}, {\"a\\u00f1o\": 2017, \"semana\": 7, \"defunciones\": 1854.0}, {\"a\\u00f1o\": 2018, \"semana\": 7, \"defunciones\": 1868.0}, {\"a\\u00f1o\": 2019, \"semana\": 7, \"defunciones\": 1893.0}, {\"a\\u00f1o\": 2020, \"semana\": 7, \"defunciones\": 1959.0}, {\"a\\u00f1o\": \"Promedio \\u00faltimos 5 a\\u00f1os\", \"semana\": 7, \"defunciones\": 1834.0}, {\"a\\u00f1o\": 2015, \"semana\": 8, \"defunciones\": 1824.0}, {\"a\\u00f1o\": 2016, \"semana\": 8, \"defunciones\": 1836.0}, {\"a\\u00f1o\": 2017, \"semana\": 8, \"defunciones\": 1893.0}, {\"a\\u00f1o\": 2018, \"semana\": 8, \"defunciones\": 1818.0}, {\"a\\u00f1o\": 2019, \"semana\": 8, \"defunciones\": 1936.0}, {\"a\\u00f1o\": 2020, \"semana\": 8, \"defunciones\": 1818.0}, {\"a\\u00f1o\": \"Promedio \\u00faltimos 5 a\\u00f1os\", \"semana\": 8, \"defunciones\": 1861.0}, {\"a\\u00f1o\": 2015, \"semana\": 9, \"defunciones\": 1844.0}, {\"a\\u00f1o\": 2016, \"semana\": 9, \"defunciones\": 1854.0}, {\"a\\u00f1o\": 2017, \"semana\": 9, \"defunciones\": 1830.0}, {\"a\\u00f1o\": 2018, \"semana\": 9, \"defunciones\": 1780.0}, {\"a\\u00f1o\": 2019, \"semana\": 9, \"defunciones\": 1885.0}, {\"a\\u00f1o\": 2020, \"semana\": 9, \"defunciones\": 1855.0}, {\"a\\u00f1o\": \"Promedio \\u00faltimos 5 a\\u00f1os\", \"semana\": 9, \"defunciones\": 1838.0}, {\"a\\u00f1o\": 2015, \"semana\": 10, \"defunciones\": 1703.0}, {\"a\\u00f1o\": 2016, \"semana\": 10, \"defunciones\": 1765.0}, {\"a\\u00f1o\": 2017, \"semana\": 10, \"defunciones\": 1731.0}, {\"a\\u00f1o\": 2018, \"semana\": 10, \"defunciones\": 1904.0}, {\"a\\u00f1o\": 2019, \"semana\": 10, \"defunciones\": 1804.0}, {\"a\\u00f1o\": 2020, \"semana\": 10, \"defunciones\": 2017.0}, {\"a\\u00f1o\": \"Promedio \\u00faltimos 5 a\\u00f1os\", \"semana\": 10, \"defunciones\": 1782.0}, {\"a\\u00f1o\": 2015, \"semana\": 11, \"defunciones\": 1861.0}, {\"a\\u00f1o\": 2016, \"semana\": 11, \"defunciones\": 1710.0}, {\"a\\u00f1o\": 2017, \"semana\": 11, \"defunciones\": 1747.0}, {\"a\\u00f1o\": 2018, \"semana\": 11, \"defunciones\": 1791.0}, {\"a\\u00f1o\": 2019, \"semana\": 11, \"defunciones\": 1885.0}, {\"a\\u00f1o\": 2020, \"semana\": 11, \"defunciones\": 1962.0}, {\"a\\u00f1o\": \"Promedio \\u00faltimos 5 a\\u00f1os\", \"semana\": 11, \"defunciones\": 1800.0}, {\"a\\u00f1o\": 2015, \"semana\": 12, \"defunciones\": 1803.0}, {\"a\\u00f1o\": 2016, \"semana\": 12, \"defunciones\": 1671.0}, {\"a\\u00f1o\": 2017, \"semana\": 12, \"defunciones\": 1761.0}, {\"a\\u00f1o\": 2018, \"semana\": 12, \"defunciones\": 1848.0}, {\"a\\u00f1o\": 2019, \"semana\": 12, \"defunciones\": 1857.0}, {\"a\\u00f1o\": 2020, \"semana\": 12, \"defunciones\": 1983.0}, {\"a\\u00f1o\": \"Promedio \\u00faltimos 5 a\\u00f1os\", \"semana\": 12, \"defunciones\": 1789.0}, {\"a\\u00f1o\": 2015, \"semana\": 13, \"defunciones\": 1775.0}, {\"a\\u00f1o\": 2016, \"semana\": 13, \"defunciones\": 1851.0}, {\"a\\u00f1o\": 2017, \"semana\": 13, \"defunciones\": 1834.0}, {\"a\\u00f1o\": 2018, \"semana\": 13, \"defunciones\": 1788.0}, {\"a\\u00f1o\": 2019, \"semana\": 13, \"defunciones\": 1842.0}, {\"a\\u00f1o\": 2020, \"semana\": 13, \"defunciones\": 1924.0}, {\"a\\u00f1o\": \"Promedio \\u00faltimos 5 a\\u00f1os\", \"semana\": 13, \"defunciones\": 1818.0}, {\"a\\u00f1o\": 2015, \"semana\": 14, \"defunciones\": 1635.0}, {\"a\\u00f1o\": 2016, \"semana\": 14, \"defunciones\": 1836.0}, {\"a\\u00f1o\": 2017, \"semana\": 14, \"defunciones\": 1868.0}, {\"a\\u00f1o\": 2018, \"semana\": 14, \"defunciones\": 2016.0}, {\"a\\u00f1o\": 2019, \"semana\": 14, \"defunciones\": 1930.0}, {\"a\\u00f1o\": 2020, \"semana\": 14, \"defunciones\": 2019.0}, {\"a\\u00f1o\": \"Promedio \\u00faltimos 5 a\\u00f1os\", \"semana\": 14, \"defunciones\": 1858.0}, {\"a\\u00f1o\": 2015, \"semana\": 15, \"defunciones\": 1920.0}, {\"a\\u00f1o\": 2016, \"semana\": 15, \"defunciones\": 1908.0}, {\"a\\u00f1o\": 2017, \"semana\": 15, \"defunciones\": 1843.0}, {\"a\\u00f1o\": 2018, \"semana\": 15, \"defunciones\": 1969.0}, {\"a\\u00f1o\": 2019, \"semana\": 15, \"defunciones\": 1980.0}, {\"a\\u00f1o\": 2020, \"semana\": 15, \"defunciones\": 1951.0}, {\"a\\u00f1o\": \"Promedio \\u00faltimos 5 a\\u00f1os\", \"semana\": 15, \"defunciones\": 1923.0}, {\"a\\u00f1o\": 2015, \"semana\": 16, \"defunciones\": 1809.0}, {\"a\\u00f1o\": 2016, \"semana\": 16, \"defunciones\": 1880.0}, {\"a\\u00f1o\": 2017, \"semana\": 16, \"defunciones\": 1994.0}, {\"a\\u00f1o\": 2018, \"semana\": 16, \"defunciones\": 1898.0}, {\"a\\u00f1o\": 2019, \"semana\": 16, \"defunciones\": 1913.0}, {\"a\\u00f1o\": 2020, \"semana\": 16, \"defunciones\": 2188.0}, {\"a\\u00f1o\": \"Promedio \\u00faltimos 5 a\\u00f1os\", \"semana\": 16, \"defunciones\": 1898.0}, {\"a\\u00f1o\": 2015, \"semana\": 17, \"defunciones\": 1955.0}, {\"a\\u00f1o\": 2016, \"semana\": 17, \"defunciones\": 1970.0}, {\"a\\u00f1o\": 2017, \"semana\": 17, \"defunciones\": 1958.0}, {\"a\\u00f1o\": 2018, \"semana\": 17, \"defunciones\": 1974.0}, {\"a\\u00f1o\": 2019, \"semana\": 17, \"defunciones\": 2108.0}, {\"a\\u00f1o\": 2020, \"semana\": 17, \"defunciones\": 2088.0}, {\"a\\u00f1o\": \"Promedio \\u00faltimos 5 a\\u00f1os\", \"semana\": 17, \"defunciones\": 1994.0}, {\"a\\u00f1o\": 2015, \"semana\": 18, \"defunciones\": 1805.0}, {\"a\\u00f1o\": 2016, \"semana\": 18, \"defunciones\": 1988.0}, {\"a\\u00f1o\": 2017, \"semana\": 18, \"defunciones\": 1927.0}, {\"a\\u00f1o\": 2018, \"semana\": 18, \"defunciones\": 1960.0}, {\"a\\u00f1o\": 2019, \"semana\": 18, \"defunciones\": 2052.0}, {\"a\\u00f1o\": 2020, \"semana\": 18, \"defunciones\": 1971.0}, {\"a\\u00f1o\": \"Promedio \\u00faltimos 5 a\\u00f1os\", \"semana\": 18, \"defunciones\": 1946.0}, {\"a\\u00f1o\": 2015, \"semana\": 19, \"defunciones\": 2016.0}, {\"a\\u00f1o\": 2016, \"semana\": 19, \"defunciones\": 1910.0}, {\"a\\u00f1o\": 2017, \"semana\": 19, \"defunciones\": 1924.0}, {\"a\\u00f1o\": 2018, \"semana\": 19, \"defunciones\": 1863.0}, {\"a\\u00f1o\": 2019, \"semana\": 19, \"defunciones\": 2048.0}, {\"a\\u00f1o\": 2020, \"semana\": 19, \"defunciones\": 2360.0}, {\"a\\u00f1o\": \"Promedio \\u00faltimos 5 a\\u00f1os\", \"semana\": 19, \"defunciones\": 1952.0}, {\"a\\u00f1o\": 2015, \"semana\": 20, \"defunciones\": 1936.0}, {\"a\\u00f1o\": 2016, \"semana\": 20, \"defunciones\": 2009.0}, {\"a\\u00f1o\": 2017, \"semana\": 20, \"defunciones\": 2015.0}, {\"a\\u00f1o\": 2018, \"semana\": 20, \"defunciones\": 2022.0}, {\"a\\u00f1o\": 2019, \"semana\": 20, \"defunciones\": 2252.0}, {\"a\\u00f1o\": 2020, \"semana\": 20, \"defunciones\": 2416.0}, {\"a\\u00f1o\": \"Promedio \\u00faltimos 5 a\\u00f1os\", \"semana\": 20, \"defunciones\": 2048.0}, {\"a\\u00f1o\": 2015, \"semana\": 21, \"defunciones\": 1943.0}, {\"a\\u00f1o\": 2016, \"semana\": 21, \"defunciones\": 2010.0}, {\"a\\u00f1o\": 2017, \"semana\": 21, \"defunciones\": 2156.0}, {\"a\\u00f1o\": 2018, \"semana\": 21, \"defunciones\": 2052.0}, {\"a\\u00f1o\": 2019, \"semana\": 21, \"defunciones\": 2232.0}, {\"a\\u00f1o\": 2020, \"semana\": 21, \"defunciones\": 2688.0}, {\"a\\u00f1o\": \"Promedio \\u00faltimos 5 a\\u00f1os\", \"semana\": 21, \"defunciones\": 2078.0}, {\"a\\u00f1o\": 2015, \"semana\": 22, \"defunciones\": 2144.0}, {\"a\\u00f1o\": 2016, \"semana\": 22, \"defunciones\": 2056.0}, {\"a\\u00f1o\": 2017, \"semana\": 22, \"defunciones\": 2312.0}, {\"a\\u00f1o\": 2018, \"semana\": 22, \"defunciones\": 2126.0}, {\"a\\u00f1o\": 2019, \"semana\": 22, \"defunciones\": 2374.0}, {\"a\\u00f1o\": 2020, \"semana\": 22, \"defunciones\": 3124.0}, {\"a\\u00f1o\": \"Promedio \\u00faltimos 5 a\\u00f1os\", \"semana\": 22, \"defunciones\": 2204.0}, {\"a\\u00f1o\": 2015, \"semana\": 23, \"defunciones\": 2035.0}, {\"a\\u00f1o\": 2016, \"semana\": 23, \"defunciones\": 2104.0}, {\"a\\u00f1o\": 2017, \"semana\": 23, \"defunciones\": 2356.0}, {\"a\\u00f1o\": 2018, \"semana\": 23, \"defunciones\": 2294.0}, {\"a\\u00f1o\": 2019, \"semana\": 23, \"defunciones\": 2380.0}, {\"a\\u00f1o\": 2020, \"semana\": 23, \"defunciones\": null}, {\"a\\u00f1o\": \"Promedio \\u00faltimos 5 a\\u00f1os\", \"semana\": 23, \"defunciones\": 2234.0}, {\"a\\u00f1o\": 2015, \"semana\": 24, \"defunciones\": 2068.0}, {\"a\\u00f1o\": 2016, \"semana\": 24, \"defunciones\": 2172.0}, {\"a\\u00f1o\": 2017, \"semana\": 24, \"defunciones\": 2602.0}, {\"a\\u00f1o\": 2018, \"semana\": 24, \"defunciones\": 2400.0}, {\"a\\u00f1o\": 2019, \"semana\": 24, \"defunciones\": 2338.0}, {\"a\\u00f1o\": 2020, \"semana\": 24, \"defunciones\": null}, {\"a\\u00f1o\": \"Promedio \\u00faltimos 5 a\\u00f1os\", \"semana\": 24, \"defunciones\": 2316.0}, {\"a\\u00f1o\": 2015, \"semana\": 25, \"defunciones\": 2076.0}, {\"a\\u00f1o\": 2016, \"semana\": 25, \"defunciones\": 2328.0}, {\"a\\u00f1o\": 2017, \"semana\": 25, \"defunciones\": 2744.0}, {\"a\\u00f1o\": 2018, \"semana\": 25, \"defunciones\": 2330.0}, {\"a\\u00f1o\": 2019, \"semana\": 25, \"defunciones\": 2512.0}, {\"a\\u00f1o\": 2020, \"semana\": 25, \"defunciones\": null}, {\"a\\u00f1o\": \"Promedio \\u00faltimos 5 a\\u00f1os\", \"semana\": 25, \"defunciones\": 2398.0}, {\"a\\u00f1o\": 2015, \"semana\": 26, \"defunciones\": 2348.0}, {\"a\\u00f1o\": 2016, \"semana\": 26, \"defunciones\": 2328.0}, {\"a\\u00f1o\": 2017, \"semana\": 26, \"defunciones\": 2376.0}, {\"a\\u00f1o\": 2018, \"semana\": 26, \"defunciones\": 2382.0}, {\"a\\u00f1o\": 2019, \"semana\": 26, \"defunciones\": 2516.0}, {\"a\\u00f1o\": 2020, \"semana\": 26, \"defunciones\": null}, {\"a\\u00f1o\": \"Promedio \\u00faltimos 5 a\\u00f1os\", \"semana\": 26, \"defunciones\": 2390.0}, {\"a\\u00f1o\": 2015, \"semana\": 27, \"defunciones\": 2124.0}, {\"a\\u00f1o\": 2016, \"semana\": 27, \"defunciones\": 2342.0}, {\"a\\u00f1o\": 2017, \"semana\": 27, \"defunciones\": 2498.0}, {\"a\\u00f1o\": 2018, \"semana\": 27, \"defunciones\": 2280.0}, {\"a\\u00f1o\": 2019, \"semana\": 27, \"defunciones\": 2420.0}, {\"a\\u00f1o\": 2020, \"semana\": 27, \"defunciones\": null}, {\"a\\u00f1o\": \"Promedio \\u00faltimos 5 a\\u00f1os\", \"semana\": 27, \"defunciones\": 2332.0}, {\"a\\u00f1o\": 2015, \"semana\": 28, \"defunciones\": 2240.0}, {\"a\\u00f1o\": 2016, \"semana\": 28, \"defunciones\": 2470.0}, {\"a\\u00f1o\": 2017, \"semana\": 28, \"defunciones\": 2346.0}, {\"a\\u00f1o\": 2018, \"semana\": 28, \"defunciones\": 2370.0}, {\"a\\u00f1o\": 2019, \"semana\": 28, \"defunciones\": 2446.0}, {\"a\\u00f1o\": 2020, \"semana\": 28, \"defunciones\": null}, {\"a\\u00f1o\": \"Promedio \\u00faltimos 5 a\\u00f1os\", \"semana\": 28, \"defunciones\": 2374.0}, {\"a\\u00f1o\": 2015, \"semana\": 29, \"defunciones\": 2220.0}, {\"a\\u00f1o\": 2016, \"semana\": 29, \"defunciones\": 2540.0}, {\"a\\u00f1o\": 2017, \"semana\": 29, \"defunciones\": 2458.0}, {\"a\\u00f1o\": 2018, \"semana\": 29, \"defunciones\": 2216.0}, {\"a\\u00f1o\": 2019, \"semana\": 29, \"defunciones\": 2404.0}, {\"a\\u00f1o\": 2020, \"semana\": 29, \"defunciones\": null}, {\"a\\u00f1o\": \"Promedio \\u00faltimos 5 a\\u00f1os\", \"semana\": 29, \"defunciones\": 2368.0}, {\"a\\u00f1o\": 2015, \"semana\": 30, \"defunciones\": 2300.0}, {\"a\\u00f1o\": 2016, \"semana\": 30, \"defunciones\": 2376.0}, {\"a\\u00f1o\": 2017, \"semana\": 30, \"defunciones\": 2308.0}, {\"a\\u00f1o\": 2018, \"semana\": 30, \"defunciones\": 2506.0}, {\"a\\u00f1o\": 2019, \"semana\": 30, \"defunciones\": 2356.0}, {\"a\\u00f1o\": 2020, \"semana\": 30, \"defunciones\": null}, {\"a\\u00f1o\": \"Promedio \\u00faltimos 5 a\\u00f1os\", \"semana\": 30, \"defunciones\": 2368.0}, {\"a\\u00f1o\": 2015, \"semana\": 31, \"defunciones\": 2252.0}, {\"a\\u00f1o\": 2016, \"semana\": 31, \"defunciones\": 2298.0}, {\"a\\u00f1o\": 2017, \"semana\": 31, \"defunciones\": 2324.0}, {\"a\\u00f1o\": 2018, \"semana\": 31, \"defunciones\": 2494.0}, {\"a\\u00f1o\": 2019, \"semana\": 31, \"defunciones\": 2370.0}, {\"a\\u00f1o\": 2020, \"semana\": 31, \"defunciones\": null}, {\"a\\u00f1o\": \"Promedio \\u00faltimos 5 a\\u00f1os\", \"semana\": 31, \"defunciones\": 2348.0}, {\"a\\u00f1o\": 2015, \"semana\": 32, \"defunciones\": 2244.0}, {\"a\\u00f1o\": 2016, \"semana\": 32, \"defunciones\": 2272.0}, {\"a\\u00f1o\": 2017, \"semana\": 32, \"defunciones\": 2244.0}, {\"a\\u00f1o\": 2018, \"semana\": 32, \"defunciones\": 2508.0}, {\"a\\u00f1o\": 2019, \"semana\": 32, \"defunciones\": 2284.0}, {\"a\\u00f1o\": 2020, \"semana\": 32, \"defunciones\": null}, {\"a\\u00f1o\": \"Promedio \\u00faltimos 5 a\\u00f1os\", \"semana\": 32, \"defunciones\": 2310.0}, {\"a\\u00f1o\": 2015, \"semana\": 33, \"defunciones\": 2152.0}, {\"a\\u00f1o\": 2016, \"semana\": 33, \"defunciones\": 2124.0}, {\"a\\u00f1o\": 2017, \"semana\": 33, \"defunciones\": 2196.0}, {\"a\\u00f1o\": 2018, \"semana\": 33, \"defunciones\": 2332.0}, {\"a\\u00f1o\": 2019, \"semana\": 33, \"defunciones\": 2296.0}, {\"a\\u00f1o\": 2020, \"semana\": 33, \"defunciones\": null}, {\"a\\u00f1o\": \"Promedio \\u00faltimos 5 a\\u00f1os\", \"semana\": 33, \"defunciones\": 2220.0}, {\"a\\u00f1o\": 2015, \"semana\": 34, \"defunciones\": 2180.0}, {\"a\\u00f1o\": 2016, \"semana\": 34, \"defunciones\": 2158.0}, {\"a\\u00f1o\": 2017, \"semana\": 34, \"defunciones\": 2116.0}, {\"a\\u00f1o\": 2018, \"semana\": 34, \"defunciones\": 2350.0}, {\"a\\u00f1o\": 2019, \"semana\": 34, \"defunciones\": 2260.0}, {\"a\\u00f1o\": 2020, \"semana\": 34, \"defunciones\": null}, {\"a\\u00f1o\": \"Promedio \\u00faltimos 5 a\\u00f1os\", \"semana\": 34, \"defunciones\": 2212.0}, {\"a\\u00f1o\": 2015, \"semana\": 35, \"defunciones\": 2192.0}, {\"a\\u00f1o\": 2016, \"semana\": 35, \"defunciones\": 2096.0}, {\"a\\u00f1o\": 2017, \"semana\": 35, \"defunciones\": 2144.0}, {\"a\\u00f1o\": 2018, \"semana\": 35, \"defunciones\": 2284.0}, {\"a\\u00f1o\": 2019, \"semana\": 35, \"defunciones\": 2172.0}, {\"a\\u00f1o\": 2020, \"semana\": 35, \"defunciones\": null}, {\"a\\u00f1o\": \"Promedio \\u00faltimos 5 a\\u00f1os\", \"semana\": 35, \"defunciones\": 2180.0}, {\"a\\u00f1o\": 2015, \"semana\": 36, \"defunciones\": 2160.0}, {\"a\\u00f1o\": 2016, \"semana\": 36, \"defunciones\": 2296.0}, {\"a\\u00f1o\": 2017, \"semana\": 36, \"defunciones\": 2144.0}, {\"a\\u00f1o\": 2018, \"semana\": 36, \"defunciones\": 2224.0}, {\"a\\u00f1o\": 2019, \"semana\": 36, \"defunciones\": 2228.0}, {\"a\\u00f1o\": 2020, \"semana\": 36, \"defunciones\": null}, {\"a\\u00f1o\": \"Promedio \\u00faltimos 5 a\\u00f1os\", \"semana\": 36, \"defunciones\": 2212.0}, {\"a\\u00f1o\": 2015, \"semana\": 37, \"defunciones\": 2054.0}, {\"a\\u00f1o\": 2016, \"semana\": 37, \"defunciones\": 2214.0}, {\"a\\u00f1o\": 2017, \"semana\": 37, \"defunciones\": 2328.0}, {\"a\\u00f1o\": 2018, \"semana\": 37, \"defunciones\": 2296.0}, {\"a\\u00f1o\": 2019, \"semana\": 37, \"defunciones\": 2212.0}, {\"a\\u00f1o\": 2020, \"semana\": 37, \"defunciones\": null}, {\"a\\u00f1o\": \"Promedio \\u00faltimos 5 a\\u00f1os\", \"semana\": 37, \"defunciones\": 2220.0}, {\"a\\u00f1o\": 2015, \"semana\": 38, \"defunciones\": 1963.0}, {\"a\\u00f1o\": 2016, \"semana\": 38, \"defunciones\": 2108.0}, {\"a\\u00f1o\": 2017, \"semana\": 38, \"defunciones\": 2072.0}, {\"a\\u00f1o\": 2018, \"semana\": 38, \"defunciones\": 1979.0}, {\"a\\u00f1o\": 2019, \"semana\": 38, \"defunciones\": 1805.0}, {\"a\\u00f1o\": 2020, \"semana\": 38, \"defunciones\": null}, {\"a\\u00f1o\": \"Promedio \\u00faltimos 5 a\\u00f1os\", \"semana\": 38, \"defunciones\": 1986.0}, {\"a\\u00f1o\": 2015, \"semana\": 39, \"defunciones\": 2468.0}, {\"a\\u00f1o\": 2016, \"semana\": 39, \"defunciones\": 2036.0}, {\"a\\u00f1o\": 2017, \"semana\": 39, \"defunciones\": 2184.0}, {\"a\\u00f1o\": 2018, \"semana\": 39, \"defunciones\": 2184.0}, {\"a\\u00f1o\": 2019, \"semana\": 39, \"defunciones\": 2656.0}, {\"a\\u00f1o\": 2020, \"semana\": 39, \"defunciones\": null}, {\"a\\u00f1o\": \"Promedio \\u00faltimos 5 a\\u00f1os\", \"semana\": 39, \"defunciones\": 2306.0}, {\"a\\u00f1o\": 2015, \"semana\": 40, \"defunciones\": 2048.0}, {\"a\\u00f1o\": 2016, \"semana\": 40, \"defunciones\": 2100.0}, {\"a\\u00f1o\": 2017, \"semana\": 40, \"defunciones\": 2176.0}, {\"a\\u00f1o\": 2018, \"semana\": 40, \"defunciones\": 2094.0}, {\"a\\u00f1o\": 2019, \"semana\": 40, \"defunciones\": 2180.0}, {\"a\\u00f1o\": 2020, \"semana\": 40, \"defunciones\": null}, {\"a\\u00f1o\": \"Promedio \\u00faltimos 5 a\\u00f1os\", \"semana\": 40, \"defunciones\": 2118.0}, {\"a\\u00f1o\": 2015, \"semana\": 41, \"defunciones\": 2124.0}, {\"a\\u00f1o\": 2016, \"semana\": 41, \"defunciones\": 1905.0}, {\"a\\u00f1o\": 2017, \"semana\": 41, \"defunciones\": 1964.0}, {\"a\\u00f1o\": 2018, \"semana\": 41, \"defunciones\": 2044.0}, {\"a\\u00f1o\": 2019, \"semana\": 41, \"defunciones\": 2210.0}, {\"a\\u00f1o\": 2020, \"semana\": 41, \"defunciones\": null}, {\"a\\u00f1o\": \"Promedio \\u00faltimos 5 a\\u00f1os\", \"semana\": 41, \"defunciones\": 2050.0}, {\"a\\u00f1o\": 2015, \"semana\": 42, \"defunciones\": 1934.0}, {\"a\\u00f1o\": 2016, \"semana\": 42, \"defunciones\": 1826.0}, {\"a\\u00f1o\": 2017, \"semana\": 42, \"defunciones\": 1982.0}, {\"a\\u00f1o\": 2018, \"semana\": 42, \"defunciones\": 1902.0}, {\"a\\u00f1o\": 2019, \"semana\": 42, \"defunciones\": 2003.0}, {\"a\\u00f1o\": 2020, \"semana\": 42, \"defunciones\": null}, {\"a\\u00f1o\": \"Promedio \\u00faltimos 5 a\\u00f1os\", \"semana\": 42, \"defunciones\": 1930.0}, {\"a\\u00f1o\": 2015, \"semana\": 43, \"defunciones\": 1992.0}, {\"a\\u00f1o\": 2016, \"semana\": 43, \"defunciones\": 2088.0}, {\"a\\u00f1o\": 2017, \"semana\": 43, \"defunciones\": 1800.0}, {\"a\\u00f1o\": 2018, \"semana\": 43, \"defunciones\": 2064.0}, {\"a\\u00f1o\": 2019, \"semana\": 43, \"defunciones\": 2017.0}, {\"a\\u00f1o\": 2020, \"semana\": 43, \"defunciones\": null}, {\"a\\u00f1o\": \"Promedio \\u00faltimos 5 a\\u00f1os\", \"semana\": 43, \"defunciones\": 1992.0}, {\"a\\u00f1o\": 2015, \"semana\": 44, \"defunciones\": 1619.0}, {\"a\\u00f1o\": 2016, \"semana\": 44, \"defunciones\": 1761.0}, {\"a\\u00f1o\": 2017, \"semana\": 44, \"defunciones\": 1930.0}, {\"a\\u00f1o\": 2018, \"semana\": 44, \"defunciones\": 1761.0}, {\"a\\u00f1o\": 2019, \"semana\": 44, \"defunciones\": 1898.0}, {\"a\\u00f1o\": 2020, \"semana\": 44, \"defunciones\": null}, {\"a\\u00f1o\": \"Promedio \\u00faltimos 5 a\\u00f1os\", \"semana\": 44, \"defunciones\": 1794.0}, {\"a\\u00f1o\": 2015, \"semana\": 45, \"defunciones\": 2028.0}, {\"a\\u00f1o\": 2016, \"semana\": 45, \"defunciones\": 1927.0}, {\"a\\u00f1o\": 2017, \"semana\": 45, \"defunciones\": 1973.0}, {\"a\\u00f1o\": 2018, \"semana\": 45, \"defunciones\": 2226.0}, {\"a\\u00f1o\": 2019, \"semana\": 45, \"defunciones\": 2222.0}, {\"a\\u00f1o\": 2020, \"semana\": 45, \"defunciones\": null}, {\"a\\u00f1o\": \"Promedio \\u00faltimos 5 a\\u00f1os\", \"semana\": 45, \"defunciones\": 2076.0}, {\"a\\u00f1o\": 2015, \"semana\": 46, \"defunciones\": 2236.0}, {\"a\\u00f1o\": 2016, \"semana\": 46, \"defunciones\": 1800.0}, {\"a\\u00f1o\": 2017, \"semana\": 46, \"defunciones\": 1816.0}, {\"a\\u00f1o\": 2018, \"semana\": 46, \"defunciones\": 1927.0}, {\"a\\u00f1o\": 2019, \"semana\": 46, \"defunciones\": 2003.0}, {\"a\\u00f1o\": 2020, \"semana\": 46, \"defunciones\": null}, {\"a\\u00f1o\": \"Promedio \\u00faltimos 5 a\\u00f1os\", \"semana\": 46, \"defunciones\": 1957.0}, {\"a\\u00f1o\": 2015, \"semana\": 47, \"defunciones\": 1949.0}, {\"a\\u00f1o\": 2016, \"semana\": 47, \"defunciones\": 1854.0}, {\"a\\u00f1o\": 2017, \"semana\": 47, \"defunciones\": 1943.0}, {\"a\\u00f1o\": 2018, \"semana\": 47, \"defunciones\": 1986.0}, {\"a\\u00f1o\": 2019, \"semana\": 47, \"defunciones\": 2072.0}, {\"a\\u00f1o\": 2020, \"semana\": 47, \"defunciones\": null}, {\"a\\u00f1o\": \"Promedio \\u00faltimos 5 a\\u00f1os\", \"semana\": 47, \"defunciones\": 1962.0}, {\"a\\u00f1o\": 2015, \"semana\": 48, \"defunciones\": 1863.0}, {\"a\\u00f1o\": 2016, \"semana\": 48, \"defunciones\": 1874.0}, {\"a\\u00f1o\": 2017, \"semana\": 48, \"defunciones\": 1907.0}, {\"a\\u00f1o\": 2018, \"semana\": 48, \"defunciones\": 1906.0}, {\"a\\u00f1o\": 2019, \"semana\": 48, \"defunciones\": 1960.0}, {\"a\\u00f1o\": 2020, \"semana\": 48, \"defunciones\": null}, {\"a\\u00f1o\": \"Promedio \\u00faltimos 5 a\\u00f1os\", \"semana\": 48, \"defunciones\": 1902.0}, {\"a\\u00f1o\": 2015, \"semana\": 49, \"defunciones\": 1960.0}, {\"a\\u00f1o\": 2016, \"semana\": 49, \"defunciones\": 1811.0}, {\"a\\u00f1o\": 2017, \"semana\": 49, \"defunciones\": 1737.0}, {\"a\\u00f1o\": 2018, \"semana\": 49, \"defunciones\": 1932.0}, {\"a\\u00f1o\": 2019, \"semana\": 49, \"defunciones\": 1963.0}, {\"a\\u00f1o\": 2020, \"semana\": 49, \"defunciones\": null}, {\"a\\u00f1o\": \"Promedio \\u00faltimos 5 a\\u00f1os\", \"semana\": 49, \"defunciones\": 1880.0}, {\"a\\u00f1o\": 2015, \"semana\": 50, \"defunciones\": 1915.0}, {\"a\\u00f1o\": 2016, \"semana\": 50, \"defunciones\": 1891.0}, {\"a\\u00f1o\": 2017, \"semana\": 50, \"defunciones\": 2006.0}, {\"a\\u00f1o\": 2018, \"semana\": 50, \"defunciones\": 1907.0}, {\"a\\u00f1o\": 2019, \"semana\": 50, \"defunciones\": 1878.0}, {\"a\\u00f1o\": 2020, \"semana\": 50, \"defunciones\": null}, {\"a\\u00f1o\": \"Promedio \\u00faltimos 5 a\\u00f1os\", \"semana\": 50, \"defunciones\": 1920.0}, {\"a\\u00f1o\": 2015, \"semana\": 51, \"defunciones\": 1879.0}, {\"a\\u00f1o\": 2016, \"semana\": 51, \"defunciones\": 1788.0}, {\"a\\u00f1o\": 2017, \"semana\": 51, \"defunciones\": 2023.0}, {\"a\\u00f1o\": 2018, \"semana\": 51, \"defunciones\": 1980.0}, {\"a\\u00f1o\": 2019, \"semana\": 51, \"defunciones\": 1893.0}, {\"a\\u00f1o\": 2020, \"semana\": 51, \"defunciones\": null}, {\"a\\u00f1o\": \"Promedio \\u00faltimos 5 a\\u00f1os\", \"semana\": 51, \"defunciones\": 1914.0}, {\"a\\u00f1o\": 2015, \"semana\": 52, \"defunciones\": 1768.0}, {\"a\\u00f1o\": 2016, \"semana\": 52, \"defunciones\": 1825.0}, {\"a\\u00f1o\": 2017, \"semana\": 52, \"defunciones\": 1936.0}, {\"a\\u00f1o\": 2018, \"semana\": 52, \"defunciones\": 1892.0}, {\"a\\u00f1o\": 2019, \"semana\": 52, \"defunciones\": 1980.0}, {\"a\\u00f1o\": 2020, \"semana\": 52, \"defunciones\": null}, {\"a\\u00f1o\": \"Promedio \\u00faltimos 5 a\\u00f1os\", \"semana\": 52, \"defunciones\": 1880.0}], \"data-3a2e35957f1ba8fd87d25a2554e382c3\": [{\"semana\": 1, \"Expected\": 1917.0, \"lower\": 1795.0, \"upper\": 2039.0, \"lower 2\": 1673.0, \"upper 2\": 2162.0}, {\"semana\": 2, \"Expected\": 1875.0, \"lower\": 1861.0, \"upper\": 1889.0, \"lower 2\": 1848.0, \"upper 2\": 1902.0}, {\"semana\": 3, \"Expected\": 1866.0, \"lower\": 1788.0, \"upper\": 1944.0, \"lower 2\": 1710.0, \"upper 2\": 2022.0}, {\"semana\": 4, \"Expected\": 1898.0, \"lower\": 1762.0, \"upper\": 2034.0, \"lower 2\": 1627.0, \"upper 2\": 2170.0}, {\"semana\": 5, \"Expected\": 1891.0, \"lower\": 1837.0, \"upper\": 1945.0, \"lower 2\": 1783.0, \"upper 2\": 1999.0}, {\"semana\": 6, \"Expected\": 1869.0, \"lower\": 1768.0, \"upper\": 1970.0, \"lower 2\": 1667.0, \"upper 2\": 2070.0}, {\"semana\": 7, \"Expected\": 1834.0, \"lower\": 1768.0, \"upper\": 1900.0, \"lower 2\": 1703.0, \"upper 2\": 1965.0}, {\"semana\": 8, \"Expected\": 1861.0, \"lower\": 1810.0, \"upper\": 1912.0, \"lower 2\": 1759.0, \"upper 2\": 1963.0}, {\"semana\": 9, \"Expected\": 1838.0, \"lower\": 1800.0, \"upper\": 1876.0, \"lower 2\": 1761.0, \"upper 2\": 1915.0}, {\"semana\": 10, \"Expected\": 1782.0, \"lower\": 1704.0, \"upper\": 1860.0, \"lower 2\": 1626.0, \"upper 2\": 1938.0}, {\"semana\": 11, \"Expected\": 1800.0, \"lower\": 1726.0, \"upper\": 1874.0, \"lower 2\": 1652.0, \"upper 2\": 1948.0}, {\"semana\": 12, \"Expected\": 1789.0, \"lower\": 1713.0, \"upper\": 1865.0, \"lower 2\": 1637.0, \"upper 2\": 1941.0}, {\"semana\": 13, \"Expected\": 1818.0, \"lower\": 1784.0, \"upper\": 1852.0, \"lower 2\": 1750.0, \"upper 2\": 1886.0}, {\"semana\": 14, \"Expected\": 1858.0, \"lower\": 1716.0, \"upper\": 2000.0, \"lower 2\": 1574.0, \"upper 2\": 2142.0}, {\"semana\": 15, \"Expected\": 1923.0, \"lower\": 1868.0, \"upper\": 1978.0, \"lower 2\": 1814.0, \"upper 2\": 2032.0}, {\"semana\": 16, \"Expected\": 1898.0, \"lower\": 1832.0, \"upper\": 1964.0, \"lower 2\": 1765.0, \"upper 2\": 2031.0}, {\"semana\": 17, \"Expected\": 1994.0, \"lower\": 1929.0, \"upper\": 2058.0, \"lower 2\": 1864.0, \"upper 2\": 2124.0}, {\"semana\": 18, \"Expected\": 1946.0, \"lower\": 1855.0, \"upper\": 2037.0, \"lower 2\": 1763.0, \"upper 2\": 2128.0}, {\"semana\": 19, \"Expected\": 1952.0, \"lower\": 1875.0, \"upper\": 2029.0, \"lower 2\": 1798.0, \"upper 2\": 2106.0}, {\"semana\": 20, \"Expected\": 2048.0, \"lower\": 1928.0, \"upper\": 2168.0, \"lower 2\": 1808.0, \"upper 2\": 2288.0}, {\"semana\": 21, \"Expected\": 2078.0, \"lower\": 1963.0, \"upper\": 2194.0, \"lower 2\": 1847.0, \"upper 2\": 2308.0}, {\"semana\": 22, \"Expected\": 2204.0, \"lower\": 2070.0, \"upper\": 2338.0, \"lower 2\": 1936.0, \"upper 2\": 2472.0}, {\"semana\": 23, \"Expected\": 2234.0, \"lower\": 2078.0, \"upper\": 2390.0, \"lower 2\": 1924.0, \"upper 2\": 2544.0}, {\"semana\": 24, \"Expected\": 2316.0, \"lower\": 2108.0, \"upper\": 2524.0, \"lower 2\": 1902.0, \"upper 2\": 2730.0}, {\"semana\": 25, \"Expected\": 2398.0, \"lower\": 2150.0, \"upper\": 2646.0, \"lower 2\": 1902.0, \"upper 2\": 2894.0}, {\"semana\": 26, \"Expected\": 2390.0, \"lower\": 2316.0, \"upper\": 2464.0, \"lower 2\": 2242.0, \"upper 2\": 2538.0}, {\"semana\": 27, \"Expected\": 2332.0, \"lower\": 2190.0, \"upper\": 2474.0, \"lower 2\": 2047.0, \"upper 2\": 2618.0}, {\"semana\": 28, \"Expected\": 2374.0, \"lower\": 2282.0, \"upper\": 2466.0, \"lower 2\": 2192.0, \"upper 2\": 2556.0}, {\"semana\": 29, \"Expected\": 2368.0, \"lower\": 2224.0, \"upper\": 2512.0, \"lower 2\": 2078.0, \"upper 2\": 2658.0}, {\"semana\": 30, \"Expected\": 2368.0, \"lower\": 2286.0, \"upper\": 2450.0, \"lower 2\": 2202.0, \"upper 2\": 2534.0}, {\"semana\": 31, \"Expected\": 2348.0, \"lower\": 2256.0, \"upper\": 2440.0, \"lower 2\": 2164.0, \"upper 2\": 2532.0}, {\"semana\": 32, \"Expected\": 2310.0, \"lower\": 2198.0, \"upper\": 2422.0, \"lower 2\": 2086.0, \"upper 2\": 2534.0}, {\"semana\": 33, \"Expected\": 2220.0, \"lower\": 2130.0, \"upper\": 2310.0, \"lower 2\": 2039.0, \"upper 2\": 2400.0}, {\"semana\": 34, \"Expected\": 2212.0, \"lower\": 2120.0, \"upper\": 2304.0, \"lower 2\": 2026.0, \"upper 2\": 2398.0}, {\"semana\": 35, \"Expected\": 2180.0, \"lower\": 2110.0, \"upper\": 2250.0, \"lower 2\": 2041.0, \"upper 2\": 2320.0}, {\"semana\": 36, \"Expected\": 2212.0, \"lower\": 2152.0, \"upper\": 2272.0, \"lower 2\": 2090.0, \"upper 2\": 2334.0}, {\"semana\": 37, \"Expected\": 2220.0, \"lower\": 2114.0, \"upper\": 2326.0, \"lower 2\": 2008.0, \"upper 2\": 2432.0}, {\"semana\": 38, \"Expected\": 1986.0, \"lower\": 1868.0, \"upper\": 2104.0, \"lower 2\": 1750.0, \"upper 2\": 2222.0}, {\"semana\": 39, \"Expected\": 2306.0, \"lower\": 2056.0, \"upper\": 2556.0, \"lower 2\": 1804.0, \"upper 2\": 2808.0}, {\"semana\": 40, \"Expected\": 2118.0, \"lower\": 2060.0, \"upper\": 2176.0, \"lower 2\": 2004.0, \"upper 2\": 2232.0}, {\"semana\": 41, \"Expected\": 2050.0, \"lower\": 1928.0, \"upper\": 2172.0, \"lower 2\": 1806.0, \"upper 2\": 2294.0}, {\"semana\": 42, \"Expected\": 1930.0, \"lower\": 1860.0, \"upper\": 2000.0, \"lower 2\": 1790.0, \"upper 2\": 2070.0}, {\"semana\": 43, \"Expected\": 1992.0, \"lower\": 1878.0, \"upper\": 2106.0, \"lower 2\": 1764.0, \"upper 2\": 2220.0}, {\"semana\": 44, \"Expected\": 1794.0, \"lower\": 1669.0, \"upper\": 1919.0, \"lower 2\": 1545.0, \"upper 2\": 2043.0}, {\"semana\": 45, \"Expected\": 2076.0, \"lower\": 1936.0, \"upper\": 2216.0, \"lower 2\": 1795.0, \"upper 2\": 2356.0}, {\"semana\": 46, \"Expected\": 1957.0, \"lower\": 1780.0, \"upper\": 2134.0, \"lower 2\": 1603.0, \"upper 2\": 2312.0}, {\"semana\": 47, \"Expected\": 1962.0, \"lower\": 1883.0, \"upper\": 2041.0, \"lower 2\": 1804.0, \"upper 2\": 2120.0}, {\"semana\": 48, \"Expected\": 1902.0, \"lower\": 1864.0, \"upper\": 1940.0, \"lower 2\": 1826.0, \"upper 2\": 1978.0}, {\"semana\": 49, \"Expected\": 1880.0, \"lower\": 1778.0, \"upper\": 1982.0, \"lower 2\": 1677.0, \"upper 2\": 2084.0}, {\"semana\": 50, \"Expected\": 1920.0, \"lower\": 1870.0, \"upper\": 1970.0, \"lower 2\": 1819.0, \"upper 2\": 2021.0}, {\"semana\": 51, \"Expected\": 1914.0, \"lower\": 1822.0, \"upper\": 2006.0, \"lower 2\": 1730.0, \"upper 2\": 2098.0}, {\"semana\": 52, \"Expected\": 1880.0, \"lower\": 1795.0, \"upper\": 1965.0, \"lower 2\": 1710.0, \"upper 2\": 2050.0}]}}, {\"mode\": \"vega-lite\"});\n",
       "</script>"
      ],
      "text/plain": [
       "alt.LayerChart(...)"
      ]
     },
     "execution_count": 19,
     "metadata": {},
     "output_type": "execute_result"
    }
   ],
   "source": [
    "#hide_input\n",
    "label = alt.selection_single(\n",
    "    encodings=['x'], # limit selection to x-axis value\n",
    "    on='mouseover',  # select on mouseover events\n",
    "    nearest=True,    # select data point nearest the cursor\n",
    "    empty='none'     # empty selection includes no data points\n",
    ")\n",
    "\n",
    "base = alt.Chart(deaths_year_week.drop([i for i in np.arange(2010,2015)]).reset_index().melt(\"año\", value_name=\"defunciones\")).mark_line(point=True).encode(\n",
    "    x = alt.X(\"semana:Q\",scale=alt.Scale(domain=(1, 52))),\n",
    "    y = alt.Y(\"defunciones\", scale=alt.Scale(domain=(0,3500))),\n",
    "    color=alt.Color('año:N', scale=alt.Scale(range=['lightgray', 'lightgray', 'lightgray', 'lightgray', 'lightgray', 'red',\"blue\"], \n",
    "                                             domain=[\"2015\", \"2016\", \"2017\", \"2018\", \"2019\", \"2020\", \"Promedio últimos 5 años\"]))\n",
    ")\n",
    "\n",
    "alt.layer(\n",
    "    base, # base line chart\n",
    "    \n",
    "    alt.Chart(df_expected.reset_index()).mark_area(\n",
    "        opacity=0.5\n",
    "    ).encode(\n",
    "        x=alt.X(\"semana\", scale=alt.Scale(domain=(1, 52))),\n",
    "        y=alt.Y(\"lower:Q\", axis=alt.Axis(title=\"defunciones\")),\n",
    "        y2=\"upper:Q\"\n",
    "    ),\n",
    "    \n",
    "    alt.Chart(df_expected.reset_index()).mark_area(\n",
    "        opacity=0.3\n",
    "    ).encode(\n",
    "        x=alt.X(\"semana\", scale=alt.Scale(domain=(1, 52))),\n",
    "        y=\"lower 2:Q\",\n",
    "        y2=\"upper 2:Q\"\n",
    "    ),\n",
    "    # add a rule mark to serve as a guide line\n",
    "    alt.Chart().mark_rule(color='#aaa').encode(\n",
    "        x = alt.X('semana:Q', scale=alt.Scale(domain=(1, 52)), axis=alt.Axis(title='semana'), sort=None)\n",
    "    ).transform_filter(label),\n",
    "    \n",
    "    # add circle marks for selected time points, hide unselected points\n",
    "    base.mark_circle().encode(\n",
    "        opacity=alt.condition(label, alt.value(1), alt.value(0))\n",
    "    ).add_selection(label),\n",
    "\n",
    "    # add white stroked text to provide a legible background for labels\n",
    "    base.mark_text(align='left', dx=5, dy=-5, stroke='white', strokeWidth=2).encode(\n",
    "        text='defunciones'\n",
    "    ).transform_filter(label),\n",
    "\n",
    "    # add text labels for stock prices\n",
    "    base.mark_text(align='left', dx=5, dy=-5).encode(\n",
    "        text='defunciones'\n",
    "    ).transform_filter(label),\n",
    "    \n",
    "    data=deaths_year_week.drop([i for i in np.arange(2010,2015)]).reset_index().melt(\"año\", value_name=\"defunciones\")\n",
    ").properties(\n",
    "    title = f'Defunciones inscritas en Chile por semana (sin corregir) hasta semana {current_week-1}',\n",
    "    width=600\n",
    ")"
   ]
  },
  {
   "cell_type": "markdown",
   "metadata": {},
   "source": [
    "Fuente: [Ministerio de Ciencia](https://github.com/MinCiencia/Datos-COVID19), [Registro Civil](https://www.registrocivil.cl/)"
   ]
  },
  {
   "cell_type": "code",
   "execution_count": 20,
   "metadata": {},
   "outputs": [],
   "source": [
    "#hide\n",
    "deaths_year_week = deaths_year_week.drop(\"Promedio últimos 5 años\")"
   ]
  },
  {
   "cell_type": "code",
   "execution_count": 21,
   "metadata": {},
   "outputs": [],
   "source": [
    "#hide\n",
    "n_defunciones = []\n",
    "for year in np.arange(2010,2020):\n",
    "    n_defunciones.append(deaths_year_week.loc[year,:].astype(int).sum())\n",
    "\n",
    "df = pd.DataFrame()\n",
    "df[\"Año\"] = np.arange(2010,2020)\n",
    "df[\"Número de defunciones\"] = n_defunciones \n",
    "df = df.set_index(\"Año\")"
   ]
  },
  {
   "cell_type": "code",
   "execution_count": 22,
   "metadata": {
    "scrolled": true
   },
   "outputs": [
    {
     "name": "stderr",
     "output_type": "stream",
     "text": [
      "/Users/alonsosilva/opt/anaconda3/envs/fastpages/lib/python3.8/site-packages/pandas/core/indexing.py:671: SettingWithCopyWarning: \n",
      "A value is trying to be set on a copy of a slice from a DataFrame\n",
      "\n",
      "See the caveats in the documentation: https://pandas.pydata.org/pandas-docs/stable/user_guide/indexing.html#returning-a-view-versus-a-copy\n",
      "  self._setitem_with_indexer(indexer, value)\n"
     ]
    }
   ],
   "source": [
    "#hide\n",
    "adjustment = 365/366\n",
    "df[\"ajustado a 365 días\"] = df[\"Número de defunciones\"].copy()\n",
    "df[\"ajustado a 365 días\"].loc[2012] *= adjustment\n",
    "df[\"ajustado a 365 días\"].loc[2016] *= adjustment\n",
    "df[\"ajustado a 365 días\"] = df[\"ajustado a 365 días\"].astype(int)"
   ]
  },
  {
   "cell_type": "code",
   "execution_count": 23,
   "metadata": {
    "scrolled": true
   },
   "outputs": [
    {
     "data": {
      "text/plain": [
       "[0.9681922943564013,\n",
       " 1.036307523778426,\n",
       " 1.0153985323115078,\n",
       " 1.0210208106024965,\n",
       " 1.0118332173213989,\n",
       " 1.0060557321137897,\n",
       " 1.0290659039033834,\n",
       " 0.9991015526293624,\n",
       " 1.025300922673411]"
      ]
     },
     "execution_count": 23,
     "metadata": {},
     "output_type": "execute_result"
    }
   ],
   "source": [
    "#hide\n",
    "growth_rate = []\n",
    "for year in np.arange(2011, 2020):\n",
    "    growth_rate.append(df[\"ajustado a 365 días\"].loc[year]/df[\"ajustado a 365 días\"].loc[year-1])\n",
    "growth_rate"
   ]
  },
  {
   "cell_type": "code",
   "execution_count": 24,
   "metadata": {},
   "outputs": [
    {
     "data": {
      "text/plain": [
       "1.0153966673650499"
      ]
     },
     "execution_count": 24,
     "metadata": {},
     "output_type": "execute_result"
    }
   ],
   "source": [
    "#hide\n",
    "gr_mean_iso = np.mean(growth_rate[2:])\n",
    "gr_mean_iso"
   ]
  },
  {
   "cell_type": "code",
   "execution_count": 25,
   "metadata": {},
   "outputs": [
    {
     "data": {
      "text/plain": [
       "0.010661889319897802"
      ]
     },
     "execution_count": 25,
     "metadata": {},
     "output_type": "execute_result"
    }
   ],
   "source": [
    "#hide\n",
    "gr_std_iso = np.std(growth_rate[2:], ddof=1)\n",
    "gr_std_iso"
   ]
  },
  {
   "cell_type": "code",
   "execution_count": 26,
   "metadata": {},
   "outputs": [
    {
     "name": "stdout",
     "output_type": "stream",
     "text": [
      "Promedio de las tasas de crecimiento anual entre 2012 y 2019: 1.54\n"
     ]
    }
   ],
   "source": [
    "#hide\n",
    "print(f\"Promedio de las tasas de crecimiento anual entre 2012 y 2019: {100*(np.mean(growth_rate[2:])-1):.2f}\")"
   ]
  },
  {
   "cell_type": "code",
   "execution_count": 27,
   "metadata": {
    "colab": {},
    "colab_type": "code",
    "id": "NCz1cigeSEWa"
   },
   "outputs": [],
   "source": [
    "#hide\n",
    "deaths = deaths_raw.drop(columns=[\"Region\", \"Codigo region\", \"Comuna\", \"Codigo comuna\"]).sum()\n",
    "n_defunciones = []\n",
    "for year in np.arange(2010,2020):\n",
    "    n_defunciones.append(deaths.loc[f\"{year}-01-01\":f\"{year}-12-31\"].sum())\n",
    "df = pd.DataFrame()\n",
    "df[\"Año\"] = np.arange(2010,2020)\n",
    "df[\"Número de defunciones\"] = n_defunciones \n",
    "df = df.set_index(\"Año\")"
   ]
  },
  {
   "cell_type": "code",
   "execution_count": 28,
   "metadata": {
    "colab": {
     "base_uri": "https://localhost:8080/",
     "height": 104
    },
    "colab_type": "code",
    "id": "c5KMn_M8Spru",
    "outputId": "6b6d19c3-8460-4658-b723-8cf332b64d70"
   },
   "outputs": [],
   "source": [
    "#hide\n",
    "adjustment = 365/366\n",
    "df[\"ajustado a 365 días\"] = df[\"Número de defunciones\"].copy()\n",
    "df[\"ajustado a 365 días\"].loc[2012] *= adjustment\n",
    "df[\"ajustado a 365 días\"].loc[2016] *= adjustment\n",
    "df[\"ajustado a 365 días\"] = df[\"ajustado a 365 días\"].astype(int)"
   ]
  },
  {
   "cell_type": "code",
   "execution_count": 29,
   "metadata": {},
   "outputs": [
    {
     "data": {
      "text/html": [
       "<div>\n",
       "<style scoped>\n",
       "    .dataframe tbody tr th:only-of-type {\n",
       "        vertical-align: middle;\n",
       "    }\n",
       "\n",
       "    .dataframe tbody tr th {\n",
       "        vertical-align: top;\n",
       "    }\n",
       "\n",
       "    .dataframe thead th {\n",
       "        text-align: right;\n",
       "    }\n",
       "</style>\n",
       "<table border=\"1\" class=\"dataframe\">\n",
       "  <thead>\n",
       "    <tr style=\"text-align: right;\">\n",
       "      <th></th>\n",
       "      <th>Número de defunciones</th>\n",
       "      <th>ajustado a 365 días</th>\n",
       "    </tr>\n",
       "    <tr>\n",
       "      <th>Año</th>\n",
       "      <th></th>\n",
       "      <th></th>\n",
       "    </tr>\n",
       "  </thead>\n",
       "  <tbody>\n",
       "    <tr>\n",
       "      <th>2010</th>\n",
       "      <td>98178</td>\n",
       "      <td>98178</td>\n",
       "    </tr>\n",
       "    <tr>\n",
       "      <th>2011</th>\n",
       "      <td>95105</td>\n",
       "      <td>95105</td>\n",
       "    </tr>\n",
       "    <tr>\n",
       "      <th>2012</th>\n",
       "      <td>99169</td>\n",
       "      <td>98898</td>\n",
       "    </tr>\n",
       "    <tr>\n",
       "      <th>2013</th>\n",
       "      <td>100286</td>\n",
       "      <td>100286</td>\n",
       "    </tr>\n",
       "    <tr>\n",
       "      <th>2014</th>\n",
       "      <td>102252</td>\n",
       "      <td>102252</td>\n",
       "    </tr>\n",
       "    <tr>\n",
       "      <th>2015</th>\n",
       "      <td>103710</td>\n",
       "      <td>103710</td>\n",
       "    </tr>\n",
       "    <tr>\n",
       "      <th>2016</th>\n",
       "      <td>104390</td>\n",
       "      <td>104104</td>\n",
       "    </tr>\n",
       "    <tr>\n",
       "      <th>2017</th>\n",
       "      <td>106877</td>\n",
       "      <td>106877</td>\n",
       "    </tr>\n",
       "    <tr>\n",
       "      <th>2018</th>\n",
       "      <td>107286</td>\n",
       "      <td>107286</td>\n",
       "    </tr>\n",
       "    <tr>\n",
       "      <th>2019</th>\n",
       "      <td>109837</td>\n",
       "      <td>109837</td>\n",
       "    </tr>\n",
       "  </tbody>\n",
       "</table>\n",
       "</div>"
      ],
      "text/plain": [
       "      Número de defunciones  ajustado a 365 días\n",
       "Año                                             \n",
       "2010                  98178                98178\n",
       "2011                  95105                95105\n",
       "2012                  99169                98898\n",
       "2013                 100286               100286\n",
       "2014                 102252               102252\n",
       "2015                 103710               103710\n",
       "2016                 104390               104104\n",
       "2017                 106877               106877\n",
       "2018                 107286               107286\n",
       "2019                 109837               109837"
      ]
     },
     "execution_count": 29,
     "metadata": {},
     "output_type": "execute_result"
    }
   ],
   "source": [
    "#hide\n",
    "df"
   ]
  },
  {
   "cell_type": "code",
   "execution_count": 30,
   "metadata": {
    "colab": {},
    "colab_type": "code",
    "id": "hXFPz0z9Ssnh"
   },
   "outputs": [
    {
     "data": {
      "text/plain": [
       "[0.9686997086923751,\n",
       " 1.0398822354240052,\n",
       " 1.014034661974964,\n",
       " 1.0196039327523283,\n",
       " 1.0142588898016665,\n",
       " 1.0037990550573714,\n",
       " 1.0266368247137478,\n",
       " 1.0038268289716217,\n",
       " 1.0237775665044833]"
      ]
     },
     "execution_count": 30,
     "metadata": {},
     "output_type": "execute_result"
    }
   ],
   "source": [
    "#hide\n",
    "growth_rate = []\n",
    "for year in np.arange(2011, 2020):\n",
    "    growth_rate.append(df[\"ajustado a 365 días\"].loc[year]/df[\"ajustado a 365 días\"].loc[year-1])\n",
    "growth_rate"
   ]
  },
  {
   "cell_type": "code",
   "execution_count": 31,
   "metadata": {
    "colab": {},
    "colab_type": "code",
    "id": "-Nkc1DzZgiwo"
   },
   "outputs": [],
   "source": [
    "#hide\n",
    "growth_rate_percentage = [f\"{100*(r - 1):.2f}%\" for r in growth_rate]"
   ]
  },
  {
   "cell_type": "code",
   "execution_count": 32,
   "metadata": {
    "colab": {},
    "colab_type": "code",
    "id": "Dtui9C8dgplH"
   },
   "outputs": [],
   "source": [
    "#hide\n",
    "df[\"Variación c/r año anterior\"] = [\"-\"]+growth_rate_percentage"
   ]
  },
  {
   "cell_type": "code",
   "execution_count": 33,
   "metadata": {
    "colab": {
     "base_uri": "https://localhost:8080/",
     "height": 34
    },
    "colab_type": "code",
    "id": "CF5n_GwdSv6J",
    "outputId": "f7bf1e2e-0431-4714-c5b0-541221e5a774"
   },
   "outputs": [
    {
     "data": {
      "text/plain": [
       "1.0151339656823117"
      ]
     },
     "execution_count": 33,
     "metadata": {},
     "output_type": "execute_result"
    }
   ],
   "source": [
    "#hide\n",
    "gr_mean = np.mean(growth_rate[2:])\n",
    "gr_mean"
   ]
  },
  {
   "cell_type": "code",
   "execution_count": 34,
   "metadata": {},
   "outputs": [
    {
     "data": {
      "text/plain": [
       "0.008993645651094097"
      ]
     },
     "execution_count": 34,
     "metadata": {},
     "output_type": "execute_result"
    }
   ],
   "source": [
    "#hide\n",
    "gr_std = np.std(growth_rate[2:], ddof=1)\n",
    "gr_std"
   ]
  },
  {
   "cell_type": "code",
   "execution_count": 35,
   "metadata": {
    "colab": {
     "base_uri": "https://localhost:8080/",
     "height": 394
    },
    "colab_type": "code",
    "id": "8aYabPUBgsIA",
    "outputId": "5da6b23e-a90d-4117-f755-b20d04652127"
   },
   "outputs": [
    {
     "data": {
      "text/html": [
       "<div>\n",
       "<style scoped>\n",
       "    .dataframe tbody tr th:only-of-type {\n",
       "        vertical-align: middle;\n",
       "    }\n",
       "\n",
       "    .dataframe tbody tr th {\n",
       "        vertical-align: top;\n",
       "    }\n",
       "\n",
       "    .dataframe thead th {\n",
       "        text-align: right;\n",
       "    }\n",
       "</style>\n",
       "<table border=\"1\" class=\"dataframe\">\n",
       "  <thead>\n",
       "    <tr style=\"text-align: right;\">\n",
       "      <th></th>\n",
       "      <th>Número de defunciones</th>\n",
       "      <th>ajustado a 365 días</th>\n",
       "      <th>Variación c/r año anterior</th>\n",
       "    </tr>\n",
       "    <tr>\n",
       "      <th>Año</th>\n",
       "      <th></th>\n",
       "      <th></th>\n",
       "      <th></th>\n",
       "    </tr>\n",
       "  </thead>\n",
       "  <tbody>\n",
       "    <tr>\n",
       "      <th>2010</th>\n",
       "      <td>98178</td>\n",
       "      <td>98178</td>\n",
       "      <td>-</td>\n",
       "    </tr>\n",
       "    <tr>\n",
       "      <th>2011</th>\n",
       "      <td>95105</td>\n",
       "      <td>95105</td>\n",
       "      <td>-3.13%</td>\n",
       "    </tr>\n",
       "    <tr>\n",
       "      <th>2012</th>\n",
       "      <td>99169</td>\n",
       "      <td>98898</td>\n",
       "      <td>3.99%</td>\n",
       "    </tr>\n",
       "    <tr>\n",
       "      <th>2013</th>\n",
       "      <td>100286</td>\n",
       "      <td>100286</td>\n",
       "      <td>1.40%</td>\n",
       "    </tr>\n",
       "    <tr>\n",
       "      <th>2014</th>\n",
       "      <td>102252</td>\n",
       "      <td>102252</td>\n",
       "      <td>1.96%</td>\n",
       "    </tr>\n",
       "    <tr>\n",
       "      <th>2015</th>\n",
       "      <td>103710</td>\n",
       "      <td>103710</td>\n",
       "      <td>1.43%</td>\n",
       "    </tr>\n",
       "    <tr>\n",
       "      <th>2016</th>\n",
       "      <td>104390</td>\n",
       "      <td>104104</td>\n",
       "      <td>0.38%</td>\n",
       "    </tr>\n",
       "    <tr>\n",
       "      <th>2017</th>\n",
       "      <td>106877</td>\n",
       "      <td>106877</td>\n",
       "      <td>2.66%</td>\n",
       "    </tr>\n",
       "    <tr>\n",
       "      <th>2018</th>\n",
       "      <td>107286</td>\n",
       "      <td>107286</td>\n",
       "      <td>0.38%</td>\n",
       "    </tr>\n",
       "    <tr>\n",
       "      <th>2019</th>\n",
       "      <td>109837</td>\n",
       "      <td>109837</td>\n",
       "      <td>2.38%</td>\n",
       "    </tr>\n",
       "  </tbody>\n",
       "</table>\n",
       "</div>"
      ],
      "text/plain": [
       "      Número de defunciones  ajustado a 365 días Variación c/r año anterior\n",
       "Año                                                                        \n",
       "2010                  98178                98178                          -\n",
       "2011                  95105                95105                     -3.13%\n",
       "2012                  99169                98898                      3.99%\n",
       "2013                 100286               100286                      1.40%\n",
       "2014                 102252               102252                      1.96%\n",
       "2015                 103710               103710                      1.43%\n",
       "2016                 104390               104104                      0.38%\n",
       "2017                 106877               106877                      2.66%\n",
       "2018                 107286               107286                      0.38%\n",
       "2019                 109837               109837                      2.38%"
      ]
     },
     "execution_count": 35,
     "metadata": {},
     "output_type": "execute_result"
    }
   ],
   "source": [
    "#hide\n",
    "df"
   ]
  },
  {
   "cell_type": "code",
   "execution_count": 36,
   "metadata": {
    "colab": {
     "base_uri": "https://localhost:8080/",
     "height": 34
    },
    "colab_type": "code",
    "id": "IN4zLoTCg8sA",
    "outputId": "84e42435-2921-4a72-9cbc-2996ab78bfd2"
   },
   "outputs": [
    {
     "name": "stdout",
     "output_type": "stream",
     "text": [
      "Promedio de las tasas de crecimiento anual entre 2012 y 2019: 1.51\n"
     ]
    }
   ],
   "source": [
    "#hide\n",
    "print(f\"Promedio de las tasas de crecimiento anual entre 2012 y 2019: {100*(np.mean(growth_rate[2:])-1):.2f}\")"
   ]
  },
  {
   "cell_type": "code",
   "execution_count": 45,
   "metadata": {},
   "outputs": [],
   "source": [
    "#hide\n",
    "amended_deaths = pd.DataFrame()\n",
    "for year in deaths_year_week.index[2:-1]:\n",
    "    amended_deaths[year] = \\\n",
    "    deaths_year_week.loc[year]*(df.loc[2019,\"Número de defunciones\"]/df.loc[year,\"Número de defunciones\"])*gr_mean\n",
    "amended_deaths[2020] = deaths_year_week.loc[2020,:22]"
   ]
  },
  {
   "cell_type": "code",
   "execution_count": 46,
   "metadata": {
    "colab": {},
    "colab_type": "code",
    "id": "wS28fZ3GSyBY"
   },
   "outputs": [],
   "source": [
    "#hide\n",
    "# amended_deaths = pd.DataFrame()\n",
    "# i = 8\n",
    "# for year in deaths_year_week.index[2:-1]:\n",
    "#     amended_deaths[year] = deaths_year_week.loc[year]*(gr_mean**i)\n",
    "#     i -=1\n",
    "# amended_deaths[2020] = deaths_year_week.loc[2020,:22]*(gr_mean**i)"
   ]
  },
  {
   "cell_type": "code",
   "execution_count": 47,
   "metadata": {
    "colab": {},
    "colab_type": "code",
    "id": "5fhs41KvTsMw"
   },
   "outputs": [
    {
     "data": {
      "text/html": [
       "<div>\n",
       "<style scoped>\n",
       "    .dataframe tbody tr th:only-of-type {\n",
       "        vertical-align: middle;\n",
       "    }\n",
       "\n",
       "    .dataframe tbody tr th {\n",
       "        vertical-align: top;\n",
       "    }\n",
       "\n",
       "    .dataframe thead th {\n",
       "        text-align: right;\n",
       "    }\n",
       "</style>\n",
       "<table border=\"1\" class=\"dataframe\">\n",
       "  <thead>\n",
       "    <tr style=\"text-align: right;\">\n",
       "      <th>semana</th>\n",
       "      <th>1</th>\n",
       "      <th>2</th>\n",
       "      <th>3</th>\n",
       "      <th>4</th>\n",
       "      <th>5</th>\n",
       "      <th>6</th>\n",
       "      <th>7</th>\n",
       "      <th>8</th>\n",
       "      <th>9</th>\n",
       "      <th>10</th>\n",
       "      <th>...</th>\n",
       "      <th>43</th>\n",
       "      <th>44</th>\n",
       "      <th>45</th>\n",
       "      <th>46</th>\n",
       "      <th>47</th>\n",
       "      <th>48</th>\n",
       "      <th>49</th>\n",
       "      <th>50</th>\n",
       "      <th>51</th>\n",
       "      <th>52</th>\n",
       "    </tr>\n",
       "  </thead>\n",
       "  <tbody>\n",
       "    <tr>\n",
       "      <th>2012</th>\n",
       "      <td>2177.838688</td>\n",
       "      <td>1951.847167</td>\n",
       "      <td>1945.101151</td>\n",
       "      <td>1930.484784</td>\n",
       "      <td>1946.225487</td>\n",
       "      <td>1931.609120</td>\n",
       "      <td>1876.516660</td>\n",
       "      <td>1859.651621</td>\n",
       "      <td>1907.998065</td>\n",
       "      <td>1986.701580</td>\n",
       "      <td>...</td>\n",
       "      <td>2162.097985</td>\n",
       "      <td>1877.640995</td>\n",
       "      <td>2270.034233</td>\n",
       "      <td>2103.632516</td>\n",
       "      <td>1942.852479</td>\n",
       "      <td>2022.680330</td>\n",
       "      <td>2037.296697</td>\n",
       "      <td>1863.024628</td>\n",
       "      <td>1977.706893</td>\n",
       "      <td>2083.394470</td>\n",
       "    </tr>\n",
       "    <tr>\n",
       "      <th>2013</th>\n",
       "      <td>2074.642888</td>\n",
       "      <td>2062.412946</td>\n",
       "      <td>1952.343468</td>\n",
       "      <td>2020.164056</td>\n",
       "      <td>1922.324520</td>\n",
       "      <td>2075.754701</td>\n",
       "      <td>1887.858319</td>\n",
       "      <td>1826.708609</td>\n",
       "      <td>2025.723120</td>\n",
       "      <td>1898.976449</td>\n",
       "      <td>...</td>\n",
       "      <td>2054.630256</td>\n",
       "      <td>1800.025100</td>\n",
       "      <td>2265.874708</td>\n",
       "      <td>2116.891779</td>\n",
       "      <td>2101.326398</td>\n",
       "      <td>1952.343468</td>\n",
       "      <td>2090.208269</td>\n",
       "      <td>1895.641010</td>\n",
       "      <td>2131.345346</td>\n",
       "      <td>2062.412946</td>\n",
       "    </tr>\n",
       "    <tr>\n",
       "      <th>2014</th>\n",
       "      <td>2007.492811</td>\n",
       "      <td>2125.259907</td>\n",
       "      <td>2019.487608</td>\n",
       "      <td>1994.407578</td>\n",
       "      <td>1901.720512</td>\n",
       "      <td>1835.203912</td>\n",
       "      <td>1914.805745</td>\n",
       "      <td>1914.805745</td>\n",
       "      <td>1854.831761</td>\n",
       "      <td>1843.927400</td>\n",
       "      <td>...</td>\n",
       "      <td>2108.903366</td>\n",
       "      <td>1871.188302</td>\n",
       "      <td>2237.574823</td>\n",
       "      <td>2144.887757</td>\n",
       "      <td>2022.758916</td>\n",
       "      <td>2012.944992</td>\n",
       "      <td>2082.732900</td>\n",
       "      <td>1902.810948</td>\n",
       "      <td>1992.226706</td>\n",
       "      <td>1986.774526</td>\n",
       "    </tr>\n",
       "    <tr>\n",
       "      <th>2015</th>\n",
       "      <td>1930.890828</td>\n",
       "      <td>2029.800604</td>\n",
       "      <td>1991.096779</td>\n",
       "      <td>1926.590403</td>\n",
       "      <td>1948.092529</td>\n",
       "      <td>2015.824222</td>\n",
       "      <td>1966.369335</td>\n",
       "      <td>1960.993804</td>\n",
       "      <td>1982.495929</td>\n",
       "      <td>1830.905947</td>\n",
       "      <td>...</td>\n",
       "      <td>2141.611654</td>\n",
       "      <td>1740.597022</td>\n",
       "      <td>2180.315479</td>\n",
       "      <td>2403.937579</td>\n",
       "      <td>2095.382085</td>\n",
       "      <td>2002.922947</td>\n",
       "      <td>2107.208254</td>\n",
       "      <td>2058.828472</td>\n",
       "      <td>2020.124647</td>\n",
       "      <td>1900.787853</td>\n",
       "    </tr>\n",
       "    <tr>\n",
       "      <th>2016</th>\n",
       "      <td>2260.105892</td>\n",
       "      <td>1984.535324</td>\n",
       "      <td>2063.574945</td>\n",
       "      <td>1989.875839</td>\n",
       "      <td>2040.076679</td>\n",
       "      <td>1868.112100</td>\n",
       "      <td>1841.409526</td>\n",
       "      <td>1961.037059</td>\n",
       "      <td>1980.262913</td>\n",
       "      <td>1885.201748</td>\n",
       "      <td>...</td>\n",
       "      <td>2230.199008</td>\n",
       "      <td>1880.929336</td>\n",
       "      <td>2058.234430</td>\n",
       "      <td>1922.585352</td>\n",
       "      <td>1980.262913</td>\n",
       "      <td>2001.624972</td>\n",
       "      <td>1934.334485</td>\n",
       "      <td>2019.782723</td>\n",
       "      <td>1909.768116</td>\n",
       "      <td>1949.287926</td>\n",
       "    </tr>\n",
       "    <tr>\n",
       "      <th>2017</th>\n",
       "      <td>1955.047679</td>\n",
       "      <td>1955.047679</td>\n",
       "      <td>2042.680553</td>\n",
       "      <td>2201.254324</td>\n",
       "      <td>2023.902080</td>\n",
       "      <td>1893.496018</td>\n",
       "      <td>1934.182710</td>\n",
       "      <td>1974.869401</td>\n",
       "      <td>1909.144746</td>\n",
       "      <td>1805.863145</td>\n",
       "      <td>...</td>\n",
       "      <td>1877.847291</td>\n",
       "      <td>2013.469595</td>\n",
       "      <td>2058.329280</td>\n",
       "      <td>1894.539267</td>\n",
       "      <td>2027.031826</td>\n",
       "      <td>1989.474880</td>\n",
       "      <td>1812.122636</td>\n",
       "      <td>2092.756481</td>\n",
       "      <td>2110.491705</td>\n",
       "      <td>2019.729086</td>\n",
       "    </tr>\n",
       "    <tr>\n",
       "      <th>2018</th>\n",
       "      <td>1934.084040</td>\n",
       "      <td>1938.241126</td>\n",
       "      <td>1847.824516</td>\n",
       "      <td>1848.863787</td>\n",
       "      <td>1933.044769</td>\n",
       "      <td>1959.026553</td>\n",
       "      <td>1941.358940</td>\n",
       "      <td>1889.395371</td>\n",
       "      <td>1849.903058</td>\n",
       "      <td>1978.772710</td>\n",
       "      <td>...</td>\n",
       "      <td>2145.056131</td>\n",
       "      <td>1830.156902</td>\n",
       "      <td>2313.418094</td>\n",
       "      <td>2002.675951</td>\n",
       "      <td>2063.992963</td>\n",
       "      <td>1980.851252</td>\n",
       "      <td>2007.872308</td>\n",
       "      <td>1981.890524</td>\n",
       "      <td>2057.757335</td>\n",
       "      <td>1966.301453</td>\n",
       "    </tr>\n",
       "    <tr>\n",
       "      <th>2019</th>\n",
       "      <td>1968.344759</td>\n",
       "      <td>1917.588061</td>\n",
       "      <td>1834.347076</td>\n",
       "      <td>1972.405295</td>\n",
       "      <td>1961.238822</td>\n",
       "      <td>2051.585745</td>\n",
       "      <td>1921.648597</td>\n",
       "      <td>1965.299358</td>\n",
       "      <td>1913.527525</td>\n",
       "      <td>1831.301674</td>\n",
       "      <td>...</td>\n",
       "      <td>2047.525209</td>\n",
       "      <td>1926.724267</td>\n",
       "      <td>2255.627672</td>\n",
       "      <td>2033.313333</td>\n",
       "      <td>2103.357577</td>\n",
       "      <td>1989.662573</td>\n",
       "      <td>1992.707975</td>\n",
       "      <td>1906.421588</td>\n",
       "      <td>1921.648597</td>\n",
       "      <td>2009.965252</td>\n",
       "    </tr>\n",
       "    <tr>\n",
       "      <th>2020</th>\n",
       "      <td>2060.000000</td>\n",
       "      <td>2116.000000</td>\n",
       "      <td>2060.000000</td>\n",
       "      <td>1987.000000</td>\n",
       "      <td>2033.000000</td>\n",
       "      <td>1906.000000</td>\n",
       "      <td>1959.000000</td>\n",
       "      <td>1818.000000</td>\n",
       "      <td>1855.000000</td>\n",
       "      <td>2017.000000</td>\n",
       "      <td>...</td>\n",
       "      <td>NaN</td>\n",
       "      <td>NaN</td>\n",
       "      <td>NaN</td>\n",
       "      <td>NaN</td>\n",
       "      <td>NaN</td>\n",
       "      <td>NaN</td>\n",
       "      <td>NaN</td>\n",
       "      <td>NaN</td>\n",
       "      <td>NaN</td>\n",
       "      <td>NaN</td>\n",
       "    </tr>\n",
       "  </tbody>\n",
       "</table>\n",
       "<p>9 rows × 52 columns</p>\n",
       "</div>"
      ],
      "text/plain": [
       "semana           1            2            3            4            5   \\\n",
       "2012    2177.838688  1951.847167  1945.101151  1930.484784  1946.225487   \n",
       "2013    2074.642888  2062.412946  1952.343468  2020.164056  1922.324520   \n",
       "2014    2007.492811  2125.259907  2019.487608  1994.407578  1901.720512   \n",
       "2015    1930.890828  2029.800604  1991.096779  1926.590403  1948.092529   \n",
       "2016    2260.105892  1984.535324  2063.574945  1989.875839  2040.076679   \n",
       "2017    1955.047679  1955.047679  2042.680553  2201.254324  2023.902080   \n",
       "2018    1934.084040  1938.241126  1847.824516  1848.863787  1933.044769   \n",
       "2019    1968.344759  1917.588061  1834.347076  1972.405295  1961.238822   \n",
       "2020    2060.000000  2116.000000  2060.000000  1987.000000  2033.000000   \n",
       "\n",
       "semana           6            7            8            9            10  ...  \\\n",
       "2012    1931.609120  1876.516660  1859.651621  1907.998065  1986.701580  ...   \n",
       "2013    2075.754701  1887.858319  1826.708609  2025.723120  1898.976449  ...   \n",
       "2014    1835.203912  1914.805745  1914.805745  1854.831761  1843.927400  ...   \n",
       "2015    2015.824222  1966.369335  1960.993804  1982.495929  1830.905947  ...   \n",
       "2016    1868.112100  1841.409526  1961.037059  1980.262913  1885.201748  ...   \n",
       "2017    1893.496018  1934.182710  1974.869401  1909.144746  1805.863145  ...   \n",
       "2018    1959.026553  1941.358940  1889.395371  1849.903058  1978.772710  ...   \n",
       "2019    2051.585745  1921.648597  1965.299358  1913.527525  1831.301674  ...   \n",
       "2020    1906.000000  1959.000000  1818.000000  1855.000000  2017.000000  ...   \n",
       "\n",
       "semana           43           44           45           46           47  \\\n",
       "2012    2162.097985  1877.640995  2270.034233  2103.632516  1942.852479   \n",
       "2013    2054.630256  1800.025100  2265.874708  2116.891779  2101.326398   \n",
       "2014    2108.903366  1871.188302  2237.574823  2144.887757  2022.758916   \n",
       "2015    2141.611654  1740.597022  2180.315479  2403.937579  2095.382085   \n",
       "2016    2230.199008  1880.929336  2058.234430  1922.585352  1980.262913   \n",
       "2017    1877.847291  2013.469595  2058.329280  1894.539267  2027.031826   \n",
       "2018    2145.056131  1830.156902  2313.418094  2002.675951  2063.992963   \n",
       "2019    2047.525209  1926.724267  2255.627672  2033.313333  2103.357577   \n",
       "2020            NaN          NaN          NaN          NaN          NaN   \n",
       "\n",
       "semana           48           49           50           51           52  \n",
       "2012    2022.680330  2037.296697  1863.024628  1977.706893  2083.394470  \n",
       "2013    1952.343468  2090.208269  1895.641010  2131.345346  2062.412946  \n",
       "2014    2012.944992  2082.732900  1902.810948  1992.226706  1986.774526  \n",
       "2015    2002.922947  2107.208254  2058.828472  2020.124647  1900.787853  \n",
       "2016    2001.624972  1934.334485  2019.782723  1909.768116  1949.287926  \n",
       "2017    1989.474880  1812.122636  2092.756481  2110.491705  2019.729086  \n",
       "2018    1980.851252  2007.872308  1981.890524  2057.757335  1966.301453  \n",
       "2019    1989.662573  1992.707975  1906.421588  1921.648597  2009.965252  \n",
       "2020            NaN          NaN          NaN          NaN          NaN  \n",
       "\n",
       "[9 rows x 52 columns]"
      ]
     },
     "execution_count": 47,
     "metadata": {},
     "output_type": "execute_result"
    }
   ],
   "source": [
    "#hide\n",
    "amended_deaths = amended_deaths.T\n",
    "amended_deaths"
   ]
  },
  {
   "cell_type": "code",
   "execution_count": 48,
   "metadata": {
    "colab": {},
    "colab_type": "code",
    "id": "RaDRbFAlTtdw"
   },
   "outputs": [],
   "source": [
    "#hide\n",
    "expected = amended_deaths.loc[2015:2019].mean()\n",
    "ci = amended_deaths.loc[2015:2019].std(ddof=1)"
   ]
  },
  {
   "cell_type": "code",
   "execution_count": 49,
   "metadata": {},
   "outputs": [],
   "source": [
    "#hide\n",
    "df_expected = pd.DataFrame()\n",
    "df_expected[\"Expected\"] = expected\n",
    "df_expected[\"lower\"] = expected - ci\n",
    "df_expected[\"upper\"] = expected + ci\n",
    "df_expected[\"lower 2\"] = expected - 2*ci\n",
    "df_expected[\"upper 2\"] = expected + 2*ci"
   ]
  },
  {
   "cell_type": "code",
   "execution_count": 52,
   "metadata": {},
   "outputs": [],
   "source": [
    "#hide\n",
    "amended_deaths = amended_deaths.T\n",
    "amended_deaths[\"Promedio últimos 5 años\"] = expected\n",
    "amended_deaths = amended_deaths.T"
   ]
  },
  {
   "cell_type": "code",
   "execution_count": 68,
   "metadata": {
    "scrolled": true
   },
   "outputs": [
    {
     "data": {
      "text/html": [
       "\n",
       "<div id=\"altair-viz-0f0c1b5be781416091f54ec1fa16192b\"></div>\n",
       "<script type=\"text/javascript\">\n",
       "  (function(spec, embedOpt){\n",
       "    let outputDiv = document.currentScript.previousElementSibling;\n",
       "    if (outputDiv.id !== \"altair-viz-0f0c1b5be781416091f54ec1fa16192b\") {\n",
       "      outputDiv = document.getElementById(\"altair-viz-0f0c1b5be781416091f54ec1fa16192b\");\n",
       "    }\n",
       "    const paths = {\n",
       "      \"vega\": \"https://cdn.jsdelivr.net/npm//vega@5?noext\",\n",
       "      \"vega-lib\": \"https://cdn.jsdelivr.net/npm//vega-lib?noext\",\n",
       "      \"vega-lite\": \"https://cdn.jsdelivr.net/npm//vega-lite@4.8.1?noext\",\n",
       "      \"vega-embed\": \"https://cdn.jsdelivr.net/npm//vega-embed@6?noext\",\n",
       "    };\n",
       "\n",
       "    function loadScript(lib) {\n",
       "      return new Promise(function(resolve, reject) {\n",
       "        var s = document.createElement('script');\n",
       "        s.src = paths[lib];\n",
       "        s.async = true;\n",
       "        s.onload = () => resolve(paths[lib]);\n",
       "        s.onerror = () => reject(`Error loading script: ${paths[lib]}`);\n",
       "        document.getElementsByTagName(\"head\")[0].appendChild(s);\n",
       "      });\n",
       "    }\n",
       "\n",
       "    function showError(err) {\n",
       "      outputDiv.innerHTML = `<div class=\"error\" style=\"color:red;\">${err}</div>`;\n",
       "      throw err;\n",
       "    }\n",
       "\n",
       "    function displayChart(vegaEmbed) {\n",
       "      vegaEmbed(outputDiv, spec, embedOpt)\n",
       "        .catch(err => showError(`Javascript Error: ${err.message}<br>This usually means there's a typo in your chart specification. See the javascript console for the full traceback.`));\n",
       "    }\n",
       "\n",
       "    if(typeof define === \"function\" && define.amd) {\n",
       "      requirejs.config({paths});\n",
       "      require([\"vega-embed\"], displayChart, err => showError(`Error loading script: ${err.message}`));\n",
       "    } else if (typeof vegaEmbed === \"function\") {\n",
       "      displayChart(vegaEmbed);\n",
       "    } else {\n",
       "      loadScript(\"vega\")\n",
       "        .then(() => loadScript(\"vega-lite\"))\n",
       "        .then(() => loadScript(\"vega-embed\"))\n",
       "        .catch(showError)\n",
       "        .then(() => displayChart(vegaEmbed));\n",
       "    }\n",
       "  })({\"config\": {\"view\": {\"continuousWidth\": 400, \"continuousHeight\": 300}}, \"layer\": [{\"data\": {\"name\": \"data-1a1a55f52f457c1a5f2710ea2bd7b25f\"}, \"mark\": {\"type\": \"line\", \"point\": true}, \"encoding\": {\"color\": {\"type\": \"nominal\", \"field\": \"a\\u00f1o\", \"scale\": {\"domain\": [\"2015\", \"2016\", \"2017\", \"2018\", \"2019\", \"2020\", \"Promedio \\u00faltimos 5 a\\u00f1os\"], \"range\": [\"lightgray\", \"lightgray\", \"lightgray\", \"lightgray\", \"lightgray\", \"red\", \"blue\"]}}, \"x\": {\"type\": \"quantitative\", \"field\": \"semana\", \"scale\": {\"domain\": [1, 52]}}, \"y\": {\"type\": \"quantitative\", \"field\": \"defunciones\", \"scale\": {\"domain\": [0, 3500]}}}}, {\"data\": {\"name\": \"data-7a06e5c884e93a75b425daeef3f3ca5c\"}, \"mark\": {\"type\": \"area\", \"opacity\": 0.5}, \"encoding\": {\"x\": {\"type\": \"quantitative\", \"field\": \"semana\"}, \"y\": {\"type\": \"quantitative\", \"axis\": {\"title\": \"defunciones\"}, \"field\": \"lower\"}, \"y2\": {\"field\": \"upper\"}}}, {\"data\": {\"name\": \"data-7a06e5c884e93a75b425daeef3f3ca5c\"}, \"mark\": {\"type\": \"area\", \"opacity\": 0.3}, \"encoding\": {\"x\": {\"type\": \"quantitative\", \"field\": \"semana\"}, \"y\": {\"type\": \"quantitative\", \"field\": \"lower 2\"}, \"y2\": {\"field\": \"upper 2\"}}}, {\"mark\": {\"type\": \"rule\", \"color\": \"#aaa\"}, \"encoding\": {\"x\": {\"type\": \"quantitative\", \"axis\": {\"title\": \"Semanas\"}, \"field\": \"semana\", \"scale\": {\"domain\": [1, 52]}, \"sort\": null}}, \"transform\": [{\"filter\": {\"selection\": \"selector007\"}}]}, {\"data\": {\"name\": \"data-1a1a55f52f457c1a5f2710ea2bd7b25f\"}, \"mark\": \"circle\", \"encoding\": {\"color\": {\"type\": \"nominal\", \"field\": \"a\\u00f1o\", \"scale\": {\"domain\": [\"2015\", \"2016\", \"2017\", \"2018\", \"2019\", \"2020\", \"Promedio \\u00faltimos 5 a\\u00f1os\"], \"range\": [\"lightgray\", \"lightgray\", \"lightgray\", \"lightgray\", \"lightgray\", \"red\", \"blue\"]}}, \"opacity\": {\"condition\": {\"value\": 1, \"selection\": \"selector007\"}, \"value\": 0}, \"x\": {\"type\": \"quantitative\", \"field\": \"semana\", \"scale\": {\"domain\": [1, 52]}}, \"y\": {\"type\": \"quantitative\", \"field\": \"defunciones\", \"scale\": {\"domain\": [0, 3500]}}}, \"selection\": {\"selector007\": {\"type\": \"single\", \"encodings\": [\"x\"], \"on\": \"mouseover\", \"nearest\": true, \"empty\": \"none\"}}}, {\"data\": {\"name\": \"data-1a1a55f52f457c1a5f2710ea2bd7b25f\"}, \"mark\": {\"type\": \"text\", \"align\": \"left\", \"dx\": 5, \"dy\": -5, \"stroke\": \"white\", \"strokeWidth\": 2}, \"encoding\": {\"color\": {\"type\": \"nominal\", \"field\": \"a\\u00f1o\", \"scale\": {\"domain\": [\"2015\", \"2016\", \"2017\", \"2018\", \"2019\", \"2020\", \"Promedio \\u00faltimos 5 a\\u00f1os\"], \"range\": [\"lightgray\", \"lightgray\", \"lightgray\", \"lightgray\", \"lightgray\", \"red\", \"blue\"]}}, \"text\": {\"type\": \"quantitative\", \"field\": \"defunciones\"}, \"x\": {\"type\": \"quantitative\", \"field\": \"semana\", \"scale\": {\"domain\": [1, 52]}}, \"y\": {\"type\": \"quantitative\", \"field\": \"defunciones\", \"scale\": {\"domain\": [0, 3500]}}}, \"transform\": [{\"filter\": {\"selection\": \"selector007\"}}]}, {\"data\": {\"name\": \"data-1a1a55f52f457c1a5f2710ea2bd7b25f\"}, \"mark\": {\"type\": \"text\", \"align\": \"left\", \"dx\": 5, \"dy\": -5}, \"encoding\": {\"color\": {\"type\": \"nominal\", \"field\": \"a\\u00f1o\", \"scale\": {\"domain\": [\"2015\", \"2016\", \"2017\", \"2018\", \"2019\", \"2020\", \"Promedio \\u00faltimos 5 a\\u00f1os\"], \"range\": [\"lightgray\", \"lightgray\", \"lightgray\", \"lightgray\", \"lightgray\", \"red\", \"blue\"]}}, \"text\": {\"type\": \"quantitative\", \"field\": \"defunciones\"}, \"x\": {\"type\": \"quantitative\", \"field\": \"semana\", \"scale\": {\"domain\": [1, 52]}}, \"y\": {\"type\": \"quantitative\", \"field\": \"defunciones\", \"scale\": {\"domain\": [0, 3500]}}}, \"transform\": [{\"filter\": {\"selection\": \"selector007\"}}]}], \"data\": {\"name\": \"data-1a1a55f52f457c1a5f2710ea2bd7b25f\"}, \"title\": \"Defunciones inscritas en Chile por semana (corregido) hasta semana 22\", \"width\": 600, \"$schema\": \"https://vega.github.io/schema/vega-lite/v4.8.1.json\", \"datasets\": {\"data-1a1a55f52f457c1a5f2710ea2bd7b25f\": [{\"a\\u00f1o\": 2015, \"semana\": 1, \"defunciones\": 1930.8908284833858}, {\"a\\u00f1o\": 2016, \"semana\": 1, \"defunciones\": 2260.1058916216048}, {\"a\\u00f1o\": 2017, \"semana\": 1, \"defunciones\": 1955.0476794289368}, {\"a\\u00f1o\": 2018, \"semana\": 1, \"defunciones\": 1934.0840401569083}, {\"a\\u00f1o\": 2019, \"semana\": 1, \"defunciones\": 1968.3447594580025}, {\"a\\u00f1o\": 2020, \"semana\": 1, \"defunciones\": 2060.0}, {\"a\\u00f1o\": \"Promedio \\u00faltimos 5 a\\u00f1os\", \"semana\": 1, \"defunciones\": 2009.6946398297678}, {\"a\\u00f1o\": 2015, \"semana\": 2, \"defunciones\": 2029.800603661822}, {\"a\\u00f1o\": 2016, \"semana\": 2, \"defunciones\": 1984.5353244957191}, {\"a\\u00f1o\": 2017, \"semana\": 2, \"defunciones\": 1955.0476794289368}, {\"a\\u00f1o\": 2018, \"semana\": 2, \"defunciones\": 1938.2411256811574}, {\"a\\u00f1o\": 2019, \"semana\": 2, \"defunciones\": 1917.588061173887}, {\"a\\u00f1o\": 2020, \"semana\": 2, \"defunciones\": 2116.0}, {\"a\\u00f1o\": \"Promedio \\u00faltimos 5 a\\u00f1os\", \"semana\": 2, \"defunciones\": 1965.0425588883045}, {\"a\\u00f1o\": 2015, \"semana\": 3, \"defunciones\": 1991.096778591999}, {\"a\\u00f1o\": 2016, \"semana\": 3, \"defunciones\": 2063.574944524074}, {\"a\\u00f1o\": 2017, \"semana\": 3, \"defunciones\": 2042.6805529999244}, {\"a\\u00f1o\": 2018, \"semana\": 3, \"defunciones\": 1847.8245155287386}, {\"a\\u00f1o\": 2019, \"semana\": 3, \"defunciones\": 1834.3470759879374}, {\"a\\u00f1o\": 2020, \"semana\": 3, \"defunciones\": 2060.0}, {\"a\\u00f1o\": \"Promedio \\u00faltimos 5 a\\u00f1os\", \"semana\": 3, \"defunciones\": 1955.9047735265347}, {\"a\\u00f1o\": 2015, \"semana\": 4, \"defunciones\": 1926.590403475628}, {\"a\\u00f1o\": 2016, \"semana\": 4, \"defunciones\": 1989.8758393624998}, {\"a\\u00f1o\": 2017, \"semana\": 4, \"defunciones\": 2201.254324223616}, {\"a\\u00f1o\": 2018, \"semana\": 4, \"defunciones\": 1848.863786909801}, {\"a\\u00f1o\": 2019, \"semana\": 4, \"defunciones\": 1972.4052953207317}, {\"a\\u00f1o\": 2020, \"semana\": 4, \"defunciones\": 1987.0}, {\"a\\u00f1o\": \"Promedio \\u00faltimos 5 a\\u00f1os\", \"semana\": 4, \"defunciones\": 1987.7979298584553}, {\"a\\u00f1o\": 2015, \"semana\": 5, \"defunciones\": 1948.092528514418}, {\"a\\u00f1o\": 2016, \"semana\": 5, \"defunciones\": 2040.0766791102387}, {\"a\\u00f1o\": 2017, \"semana\": 5, \"defunciones\": 2023.9020800918556}, {\"a\\u00f1o\": 2018, \"semana\": 5, \"defunciones\": 1933.0447687758463}, {\"a\\u00f1o\": 2019, \"semana\": 5, \"defunciones\": 1961.2388216982263}, {\"a\\u00f1o\": 2020, \"semana\": 5, \"defunciones\": 2033.0}, {\"a\\u00f1o\": \"Promedio \\u00faltimos 5 a\\u00f1os\", \"semana\": 5, \"defunciones\": 1981.2709756381169}, {\"a\\u00f1o\": 2015, \"semana\": 6, \"defunciones\": 2015.8242223866082}, {\"a\\u00f1o\": 2016, \"semana\": 6, \"defunciones\": 1868.1121003998992}, {\"a\\u00f1o\": 2017, \"semana\": 6, \"defunciones\": 1893.496018230267}, {\"a\\u00f1o\": 2018, \"semana\": 6, \"defunciones\": 1959.026553302403}, {\"a\\u00f1o\": 2019, \"semana\": 6, \"defunciones\": 2051.5857446439522}, {\"a\\u00f1o\": 2020, \"semana\": 6, \"defunciones\": 1906.0}, {\"a\\u00f1o\": \"Promedio \\u00faltimos 5 a\\u00f1os\", \"semana\": 6, \"defunciones\": 1957.6089277926258}, {\"a\\u00f1o\": 2015, \"semana\": 7, \"defunciones\": 1966.3693347973901}, {\"a\\u00f1o\": 2016, \"semana\": 7, \"defunciones\": 1841.4095260659956}, {\"a\\u00f1o\": 2017, \"semana\": 7, \"defunciones\": 1934.1827095310828}, {\"a\\u00f1o\": 2018, \"semana\": 7, \"defunciones\": 1941.3589398243441}, {\"a\\u00f1o\": 2019, \"semana\": 7, \"defunciones\": 1921.6485970366161}, {\"a\\u00f1o\": 2020, \"semana\": 7, \"defunciones\": 1959.0}, {\"a\\u00f1o\": \"Promedio \\u00faltimos 5 a\\u00f1os\", \"semana\": 7, \"defunciones\": 1920.9938214510858}, {\"a\\u00f1o\": 2015, \"semana\": 8, \"defunciones\": 1960.9938035376927}, {\"a\\u00f1o\": 2016, \"semana\": 8, \"defunciones\": 1961.037059081884}, {\"a\\u00f1o\": 2017, \"semana\": 8, \"defunciones\": 1974.8694008318982}, {\"a\\u00f1o\": 2018, \"semana\": 8, \"defunciones\": 1889.39537077123}, {\"a\\u00f1o\": 2019, \"semana\": 8, \"defunciones\": 1965.2993575609555}, {\"a\\u00f1o\": 2020, \"semana\": 8, \"defunciones\": 1818.0}, {\"a\\u00f1o\": \"Promedio \\u00faltimos 5 a\\u00f1os\", \"semana\": 8, \"defunciones\": 1950.3189983567322}, {\"a\\u00f1o\": 2015, \"semana\": 9, \"defunciones\": 1982.4959285764828}, {\"a\\u00f1o\": 2016, \"semana\": 9, \"defunciones\": 1980.2629126022946}, {\"a\\u00f1o\": 2017, \"semana\": 9, \"defunciones\": 1909.1447456536578}, {\"a\\u00f1o\": 2018, \"semana\": 9, \"defunciones\": 1849.9030582908636}, {\"a\\u00f1o\": 2019, \"semana\": 9, \"defunciones\": 1913.5275253111577}, {\"a\\u00f1o\": 2020, \"semana\": 9, \"defunciones\": 1855.0}, {\"a\\u00f1o\": \"Promedio \\u00faltimos 5 a\\u00f1os\", \"semana\": 9, \"defunciones\": 1927.0668340868913}, {\"a\\u00f1o\": 2015, \"semana\": 10, \"defunciones\": 1830.9059470530099}, {\"a\\u00f1o\": 2016, \"semana\": 10, \"defunciones\": 1885.2017479735975}, {\"a\\u00f1o\": 2017, \"semana\": 10, \"defunciones\": 1805.8631446592794}, {\"a\\u00f1o\": 2018, \"semana\": 10, \"defunciones\": 1978.7727095425864}, {\"a\\u00f1o\": 2019, \"semana\": 10, \"defunciones\": 1831.3016740908904}, {\"a\\u00f1o\": 2020, \"semana\": 10, \"defunciones\": 2017.0}, {\"a\\u00f1o\": \"Promedio \\u00faltimos 5 a\\u00f1os\", \"semana\": 10, \"defunciones\": 1866.4090446638725}, {\"a\\u00f1o\": 2015, \"semana\": 11, \"defunciones\": 2000.7727348594549}, {\"a\\u00f1o\": 2016, \"semana\": 11, \"defunciones\": 1826.4560844390096}, {\"a\\u00f1o\": 2017, \"semana\": 11, \"defunciones\": 1822.5551205775628}, {\"a\\u00f1o\": 2018, \"semana\": 11, \"defunciones\": 1861.3350434825486}, {\"a\\u00f1o\": 2019, \"semana\": 11, \"defunciones\": 1913.5275253111577}, {\"a\\u00f1o\": 2020, \"semana\": 11, \"defunciones\": 1962.0}, {\"a\\u00f1o\": \"Promedio \\u00faltimos 5 a\\u00f1os\", \"semana\": 11, \"defunciones\": 1884.9293017339467}, {\"a\\u00f1o\": 2015, \"semana\": 12, \"defunciones\": 1938.4165722469625}, {\"a\\u00f1o\": 2016, \"semana\": 12, \"defunciones\": 1784.80006847812}, {\"a\\u00f1o\": 2017, \"semana\": 12, \"defunciones\": 1837.1605995060606}, {\"a\\u00f1o\": 2018, \"semana\": 12, \"defunciones\": 1920.5735122030985}, {\"a\\u00f1o\": 2019, \"semana\": 12, \"defunciones\": 1885.103774272053}, {\"a\\u00f1o\": 2020, \"semana\": 12, \"defunciones\": 1983.0}, {\"a\\u00f1o\": \"Promedio \\u00faltimos 5 a\\u00f1os\", \"semana\": 12, \"defunciones\": 1873.2109053412591}, {\"a\\u00f1o\": 2015, \"semana\": 13, \"defunciones\": 1908.3135971926558}, {\"a\\u00f1o\": 2016, \"semana\": 13, \"defunciones\": 1977.058603682226}, {\"a\\u00f1o\": 2017, \"semana\": 13, \"defunciones\": 1913.3177396332285}, {\"a\\u00f1o\": 2018, \"semana\": 13, \"defunciones\": 1858.2172293393617}, {\"a\\u00f1o\": 2019, \"semana\": 13, \"defunciones\": 1869.8767647868183}, {\"a\\u00f1o\": 2020, \"semana\": 13, \"defunciones\": 1924.0}, {\"a\\u00f1o\": \"Promedio \\u00faltimos 5 a\\u00f1os\", \"semana\": 13, \"defunciones\": 1905.356786926858}, {\"a\\u00f1o\": 2015, \"semana\": 14, \"defunciones\": 1757.7987219211223}, {\"a\\u00f1o\": 2016, \"semana\": 14, \"defunciones\": 1961.037059081884}, {\"a\\u00f1o\": 2017, \"semana\": 14, \"defunciones\": 1948.7881884595806}, {\"a\\u00f1o\": 2018, \"semana\": 14, \"defunciones\": 2095.171104221562}, {\"a\\u00f1o\": 2019, \"semana\": 14, \"defunciones\": 1959.2085537668615}, {\"a\\u00f1o\": 2020, \"semana\": 14, \"defunciones\": 2019.0}, {\"a\\u00f1o\": \"Promedio \\u00faltimos 5 a\\u00f1os\", \"semana\": 14, \"defunciones\": 1944.4007254902021}, {\"a\\u00f1o\": 2015, \"semana\": 15, \"defunciones\": 2064.2040037238867}, {\"a\\u00f1o\": 2016, \"semana\": 15, \"defunciones\": 2037.9404731635263}, {\"a\\u00f1o\": 2017, \"semana\": 15, \"defunciones\": 1922.706976087263}, {\"a\\u00f1o\": 2018, \"semana\": 15, \"defunciones\": 2046.3253493116347}, {\"a\\u00f1o\": 2019, \"semana\": 15, \"defunciones\": 2009.9652520509771}, {\"a\\u00f1o\": 2020, \"semana\": 15, \"defunciones\": 1951.0}, {\"a\\u00f1o\": \"Promedio \\u00faltimos 5 a\\u00f1os\", \"semana\": 15, \"defunciones\": 2016.2284108674576}, {\"a\\u00f1o\": 2015, \"semana\": 16, \"defunciones\": 1944.8672097585995}, {\"a\\u00f1o\": 2016, \"semana\": 16, \"defunciones\": 2008.0335899095544}, {\"a\\u00f1o\": 2017, \"semana\": 16, \"defunciones\": 2080.237498816062}, {\"a\\u00f1o\": 2018, \"semana\": 16, \"defunciones\": 1972.5370812562128}, {\"a\\u00f1o\": 2019, \"semana\": 16, \"defunciones\": 1941.9512763502623}, {\"a\\u00f1o\": 2020, \"semana\": 16, \"defunciones\": 2188.0}, {\"a\\u00f1o\": \"Promedio \\u00faltimos 5 a\\u00f1os\", \"semana\": 16, \"defunciones\": 1989.5253312181383}, {\"a\\u00f1o\": 2015, \"semana\": 17, \"defunciones\": 2101.83272254177}, {\"a\\u00f1o\": 2016, \"semana\": 17, \"defunciones\": 2104.1628575116074}, {\"a\\u00f1o\": 2017, \"semana\": 17, \"defunciones\": 2042.6805529999244}, {\"a\\u00f1o\": 2018, \"semana\": 17, \"defunciones\": 2051.5217062169463}, {\"a\\u00f1o\": 2019, \"semana\": 17, \"defunciones\": 2139.9023996583132}, {\"a\\u00f1o\": 2020, \"semana\": 17, \"defunciones\": 2088.0}, {\"a\\u00f1o\": \"Promedio \\u00faltimos 5 a\\u00f1os\", \"semana\": 17, \"defunciones\": 2088.020047785712}, {\"a\\u00f1o\": 2015, \"semana\": 18, \"defunciones\": 1940.5667847508416}, {\"a\\u00f1o\": 2016, \"semana\": 18, \"defunciones\": 2123.388711032018}, {\"a\\u00f1o\": 2017, \"semana\": 18, \"defunciones\": 2010.3398496582506}, {\"a\\u00f1o\": 2018, \"semana\": 18, \"defunciones\": 2036.9719068820743}, {\"a\\u00f1o\": 2019, \"semana\": 18, \"defunciones\": 2083.054897580104}, {\"a\\u00f1o\": 2020, \"semana\": 18, \"defunciones\": 1971.0}, {\"a\\u00f1o\": \"Promedio \\u00faltimos 5 a\\u00f1os\", \"semana\": 18, \"defunciones\": 2038.8644299806576}, {\"a\\u00f1o\": 2015, \"semana\": 19, \"defunciones\": 2167.414203910081}, {\"a\\u00f1o\": 2016, \"semana\": 19, \"defunciones\": 2040.0766791102387}, {\"a\\u00f1o\": 2017, \"semana\": 19, \"defunciones\": 2007.2101041735725}, {\"a\\u00f1o\": 2018, \"semana\": 19, \"defunciones\": 1936.1625829190327}, {\"a\\u00f1o\": 2019, \"semana\": 19, \"defunciones\": 2078.9943617173744}, {\"a\\u00f1o\": 2020, \"semana\": 19, \"defunciones\": 2360.0}, {\"a\\u00f1o\": \"Promedio \\u00faltimos 5 a\\u00f1os\", \"semana\": 19, \"defunciones\": 2045.97158636606}, {\"a\\u00f1o\": 2015, \"semana\": 20, \"defunciones\": 2081.405703754919}, {\"a\\u00f1o\": 2016, \"semana\": 20, \"defunciones\": 2145.818873472497}, {\"a\\u00f1o\": 2017, \"semana\": 20, \"defunciones\": 2102.145717208809}, {\"a\\u00f1o\": 2018, \"semana\": 20, \"defunciones\": 2101.406732507936}, {\"a\\u00f1o\": 2019, \"semana\": 20, \"defunciones\": 2286.081690716566}, {\"a\\u00f1o\": 2020, \"semana\": 20, \"defunciones\": 2416.0}, {\"a\\u00f1o\": \"Promedio \\u00faltimos 5 a\\u00f1os\", \"semana\": 20, \"defunciones\": 2143.3717435321455}, {\"a\\u00f1o\": 2015, \"semana\": 21, \"defunciones\": 2088.931447518496}, {\"a\\u00f1o\": 2016, \"semana\": 21, \"defunciones\": 2146.8869764458536}, {\"a\\u00f1o\": 2017, \"semana\": 21, \"defunciones\": 2249.2437549886813}, {\"a\\u00f1o\": 2018, \"semana\": 21, \"defunciones\": 2132.5848739398048}, {\"a\\u00f1o\": 2019, \"semana\": 21, \"defunciones\": 2265.77901140292}, {\"a\\u00f1o\": 2020, \"semana\": 21, \"defunciones\": 2688.0}, {\"a\\u00f1o\": \"Promedio \\u00faltimos 5 a\\u00f1os\", \"semana\": 21, \"defunciones\": 2176.685212859151}, {\"a\\u00f1o\": 2015, \"semana\": 22, \"defunciones\": 2305.02780415834}, {\"a\\u00f1o\": 2016, \"semana\": 22, \"defunciones\": 2196.019713220236}, {\"a\\u00f1o\": 2017, \"semana\": 22, \"defunciones\": 2411.9905201919437}, {\"a\\u00f1o\": 2018, \"semana\": 22, \"defunciones\": 2209.4909561384134}, {\"a\\u00f1o\": 2019, \"semana\": 22, \"defunciones\": 2409.928034529808}, {\"a\\u00f1o\": 2020, \"semana\": 22, \"defunciones\": 3124.0}, {\"a\\u00f1o\": \"Promedio \\u00faltimos 5 a\\u00f1os\", \"semana\": 22, \"defunciones\": 2306.4914056477483}, {\"a\\u00f1o\": 2015, \"semana\": 23, \"defunciones\": 2187.841222696932}, {\"a\\u00f1o\": 2016, \"semana\": 23, \"defunciones\": 2247.2886559413314}, {\"a\\u00f1o\": 2017, \"semana\": 23, \"defunciones\": 2457.8934539672227}, {\"a\\u00f1o\": 2018, \"semana\": 23, \"defunciones\": 2384.0885481568766}, {\"a\\u00f1o\": 2019, \"semana\": 23, \"defunciones\": 2416.018838323902}, {\"a\\u00f1o\": 2020, \"semana\": 23, \"defunciones\": null}, {\"a\\u00f1o\": \"Promedio \\u00faltimos 5 a\\u00f1os\", \"semana\": 23, \"defunciones\": 2338.626143817253}, {\"a\\u00f1o\": 2015, \"semana\": 24, \"defunciones\": 2223.3197290109365}, {\"a\\u00f1o\": 2016, \"semana\": 24, \"defunciones\": 2319.919658129549}, {\"a\\u00f1o\": 2017, \"semana\": 24, \"defunciones\": 2714.5325837108294}, {\"a\\u00f1o\": 2018, \"semana\": 24, \"defunciones\": 2494.251314549479}, {\"a\\u00f1o\": 2019, \"semana\": 24, \"defunciones\": 2373.383211765245}, {\"a\\u00f1o\": 2020, \"semana\": 24, \"defunciones\": null}, {\"a\\u00f1o\": \"Promedio \\u00faltimos 5 a\\u00f1os\", \"semana\": 24, \"defunciones\": 2425.0812994332077}, {\"a\\u00f1o\": 2015, \"semana\": 25, \"defunciones\": 2231.9205790264527}, {\"a\\u00f1o\": 2016, \"semana\": 25, \"defunciones\": 2486.543721973108}, {\"a\\u00f1o\": 2017, \"semana\": 25, \"defunciones\": 2862.6738699855937}, {\"a\\u00f1o\": 2018, \"semana\": 25, \"defunciones\": 2421.502317875119}, {\"a\\u00f1o\": 2019, \"semana\": 25, \"defunciones\": 2550.016521793967}, {\"a\\u00f1o\": 2020, \"semana\": 25, \"defunciones\": null}, {\"a\\u00f1o\": \"Promedio \\u00faltimos 5 a\\u00f1os\", \"semana\": 25, \"defunciones\": 2510.531402130848}, {\"a\\u00f1o\": 2015, \"semana\": 26, \"defunciones\": 2524.349479554003}, {\"a\\u00f1o\": 2016, \"semana\": 26, \"defunciones\": 2486.543721973108}, {\"a\\u00f1o\": 2017, \"semana\": 26, \"defunciones\": 2478.758423865077}, {\"a\\u00f1o\": 2018, \"semana\": 26, \"defunciones\": 2475.5444296903574}, {\"a\\u00f1o\": 2019, \"semana\": 26, \"defunciones\": 2554.0770576566965}, {\"a\\u00f1o\": 2020, \"semana\": 26, \"defunciones\": null}, {\"a\\u00f1o\": \"Promedio \\u00faltimos 5 a\\u00f1os\", \"semana\": 26, \"defunciones\": 2503.8546225478485}, {\"a\\u00f1o\": 2015, \"semana\": 27, \"defunciones\": 2283.5256791195497}, {\"a\\u00f1o\": 2016, \"semana\": 27, \"defunciones\": 2501.4971636000937}, {\"a\\u00f1o\": 2017, \"semana\": 27, \"defunciones\": 2606.0347402419875}, {\"a\\u00f1o\": 2018, \"semana\": 27, \"defunciones\": 2369.5387488220044}, {\"a\\u00f1o\": 2019, \"semana\": 27, \"defunciones\": 2456.6241969511943}, {\"a\\u00f1o\": 2020, \"semana\": 27, \"defunciones\": null}, {\"a\\u00f1o\": \"Promedio \\u00faltimos 5 a\\u00f1os\", \"semana\": 27, \"defunciones\": 2443.4441057469658}, {\"a\\u00f1o\": 2015, \"semana\": 28, \"defunciones\": 2408.2380043445346}, {\"a\\u00f1o\": 2016, \"semana\": 28, \"defunciones\": 2638.2143441896806}, {\"a\\u00f1o\": 2017, \"semana\": 28, \"defunciones\": 2447.460969018296}, {\"a\\u00f1o\": 2018, \"semana\": 28, \"defunciones\": 2463.07317311761}, {\"a\\u00f1o\": 2019, \"semana\": 28, \"defunciones\": 2483.0176800589343}, {\"a\\u00f1o\": 2020, \"semana\": 28, \"defunciones\": null}, {\"a\\u00f1o\": \"Promedio \\u00faltimos 5 a\\u00f1os\", \"semana\": 28, \"defunciones\": 2488.0008341458115}, {\"a\\u00f1o\": 2015, \"semana\": 29, \"defunciones\": 2386.735879305744}, {\"a\\u00f1o\": 2016, \"semana\": 29, \"defunciones\": 2712.9815523246107}, {\"a\\u00f1o\": 2017, \"semana\": 29, \"defunciones\": 2564.304800446279}, {\"a\\u00f1o\": 2018, \"semana\": 29, \"defunciones\": 2303.025380434019}, {\"a\\u00f1o\": 2019, \"semana\": 29, \"defunciones\": 2440.3820535002774}, {\"a\\u00f1o\": 2020, \"semana\": 29, \"defunciones\": null}, {\"a\\u00f1o\": \"Promedio \\u00faltimos 5 a\\u00f1os\", \"semana\": 29, \"defunciones\": 2481.4859332021865}, {\"a\\u00f1o\": 2015, \"semana\": 30, \"defunciones\": 2472.744379460906}, {\"a\\u00f1o\": 2016, \"semana\": 30, \"defunciones\": 2537.812664694203}, {\"a\\u00f1o\": 2017, \"semana\": 30, \"defunciones\": 2407.8175262123727}, {\"a\\u00f1o\": 2018, \"semana\": 30, \"defunciones\": 2604.414080942081}, {\"a\\u00f1o\": 2019, \"semana\": 30, \"defunciones\": 2391.6556231475265}, {\"a\\u00f1o\": 2020, \"semana\": 30, \"defunciones\": null}, {\"a\\u00f1o\": \"Promedio \\u00faltimos 5 a\\u00f1os\", \"semana\": 30, \"defunciones\": 2482.8888548914174}, {\"a\\u00f1o\": 2015, \"semana\": 31, \"defunciones\": 2421.1392793678087}, {\"a\\u00f1o\": 2016, \"semana\": 31, \"defunciones\": 2454.500632772423}, {\"a\\u00f1o\": 2017, \"semana\": 31, \"defunciones\": 2424.509502130656}, {\"a\\u00f1o\": 2018, \"semana\": 31, \"defunciones\": 2591.9428243693333}, {\"a\\u00f1o\": 2019, \"semana\": 31, \"defunciones\": 2405.867498667079}, {\"a\\u00f1o\": 2020, \"semana\": 31, \"defunciones\": null}, {\"a\\u00f1o\": \"Promedio \\u00faltimos 5 a\\u00f1os\", \"semana\": 31, \"defunciones\": 2459.59194746146}, {\"a\\u00f1o\": 2015, \"semana\": 32, \"defunciones\": 2412.538429352293}, {\"a\\u00f1o\": 2016, \"semana\": 32, \"defunciones\": 2426.7299554651636}, {\"a\\u00f1o\": 2017, \"semana\": 32, \"defunciones\": 2341.0496225392394}, {\"a\\u00f1o\": 2018, \"semana\": 32, \"defunciones\": 2606.492623704205}, {\"a\\u00f1o\": 2019, \"semana\": 32, \"defunciones\": 2318.5659776184}, {\"a\\u00f1o\": 2020, \"semana\": 32, \"defunciones\": null}, {\"a\\u00f1o\": \"Promedio \\u00faltimos 5 a\\u00f1os\", \"semana\": 32, \"defunciones\": 2421.0753217358606}, {\"a\\u00f1o\": 2015, \"semana\": 33, \"defunciones\": 2313.6286541738564}, {\"a\\u00f1o\": 2016, \"semana\": 33, \"defunciones\": 2268.650715408454}, {\"a\\u00f1o\": 2017, \"semana\": 33, \"defunciones\": 2290.9736947843894}, {\"a\\u00f1o\": 2018, \"semana\": 33, \"defunciones\": 2423.580860637244}, {\"a\\u00f1o\": 2019, \"semana\": 33, \"defunciones\": 2330.7475852065877}, {\"a\\u00f1o\": 2020, \"semana\": 33, \"defunciones\": null}, {\"a\\u00f1o\": \"Promedio \\u00faltimos 5 a\\u00f1os\", \"semana\": 33, \"defunciones\": 2325.516302042106}, {\"a\\u00f1o\": 2015, \"semana\": 34, \"defunciones\": 2343.7316292281635}, {\"a\\u00f1o\": 2016, \"semana\": 34, \"defunciones\": 2304.966216502563}, {\"a\\u00f1o\": 2017, \"semana\": 34, \"defunciones\": 2207.5138151929723}, {\"a\\u00f1o\": 2018, \"semana\": 34, \"defunciones\": 2442.2877454963646}, {\"a\\u00f1o\": 2019, \"semana\": 34, \"defunciones\": 2294.2027624420243}, {\"a\\u00f1o\": 2020, \"semana\": 34, \"defunciones\": null}, {\"a\\u00f1o\": \"Promedio \\u00faltimos 5 a\\u00f1os\", \"semana\": 34, \"defunciones\": 2318.5404337724176}, {\"a\\u00f1o\": 2015, \"semana\": 35, \"defunciones\": 2356.632904251437}, {\"a\\u00f1o\": 2016, \"semana\": 35, \"defunciones\": 2238.743832154482}, {\"a\\u00f1o\": 2017, \"semana\": 35, \"defunciones\": 2236.7247730499685}, {\"a\\u00f1o\": 2018, \"semana\": 35, \"defunciones\": 2373.6958343462543}, {\"a\\u00f1o\": 2019, \"semana\": 35, \"defunciones\": 2204.870973461981}, {\"a\\u00f1o\": 2020, \"semana\": 35, \"defunciones\": null}, {\"a\\u00f1o\": \"Promedio \\u00faltimos 5 a\\u00f1os\", \"semana\": 35, \"defunciones\": 2282.1336634528243}, {\"a\\u00f1o\": 2015, \"semana\": 36, \"defunciones\": 2322.2295041893726}, {\"a\\u00f1o\": 2016, \"semana\": 36, \"defunciones\": 2452.364426825711}, {\"a\\u00f1o\": 2017, \"semana\": 36, \"defunciones\": 2236.7247730499685}, {\"a\\u00f1o\": 2018, \"semana\": 36, \"defunciones\": 2311.339551482517}, {\"a\\u00f1o\": 2019, \"semana\": 36, \"defunciones\": 2261.7184755401904}, {\"a\\u00f1o\": 2020, \"semana\": 36, \"defunciones\": null}, {\"a\\u00f1o\": \"Promedio \\u00faltimos 5 a\\u00f1os\", \"semana\": 36, \"defunciones\": 2316.875346217552}, {\"a\\u00f1o\": 2015, \"semana\": 37, \"defunciones\": 2208.268241483783}, {\"a\\u00f1o\": 2016, \"semana\": 37, \"defunciones\": 2364.779983010507}, {\"a\\u00f1o\": 2017, \"semana\": 37, \"defunciones\": 2428.682496110227}, {\"a\\u00f1o\": 2018, \"semana\": 37, \"defunciones\": 2386.167090919001}, {\"a\\u00f1o\": 2019, \"semana\": 37, \"defunciones\": 2245.4763320892735}, {\"a\\u00f1o\": 2020, \"semana\": 37, \"defunciones\": null}, {\"a\\u00f1o\": \"Promedio \\u00faltimos 5 a\\u00f1os\", \"semana\": 37, \"defunciones\": 2326.6748287225587}, {\"a\\u00f1o\": 2015, \"semana\": 38, \"defunciones\": 2110.4335725572864}, {\"a\\u00f1o\": 2016, \"semana\": 38, \"defunciones\": 2251.5610678347557}, {\"a\\u00f1o\": 2017, \"semana\": 38, \"defunciones\": 2161.6108814176932}, {\"a\\u00f1o\": 2018, \"semana\": 38, \"defunciones\": 2056.7180631222577}, {\"a\\u00f1o\": 2019, \"semana\": 38, \"defunciones\": 1832.3168080565727}, {\"a\\u00f1o\": 2020, \"semana\": 38, \"defunciones\": null}, {\"a\\u00f1o\": \"Promedio \\u00faltimos 5 a\\u00f1os\", \"semana\": 38, \"defunciones\": 2082.528078597713}, {\"a\\u00f1o\": 2015, \"semana\": 39, \"defunciones\": 2653.362229786746}, {\"a\\u00f1o\": 2016, \"semana\": 39, \"defunciones\": 2174.6576537531128}, {\"a\\u00f1o\": 2017, \"semana\": 39, \"defunciones\": 2278.4547128456766}, {\"a\\u00f1o\": 2018, \"semana\": 39, \"defunciones\": 2269.7686962400257}, {\"a\\u00f1o\": 2019, \"semana\": 39, \"defunciones\": 2696.19581285222}, {\"a\\u00f1o\": 2020, \"semana\": 39, \"defunciones\": null}, {\"a\\u00f1o\": \"Promedio \\u00faltimos 5 a\\u00f1os\", \"semana\": 39, \"defunciones\": 2414.4878210955562}, {\"a\\u00f1o\": 2015, \"semana\": 40, \"defunciones\": 2201.817603972146}, {\"a\\u00f1o\": 2016, \"semana\": 40, \"defunciones\": 2243.0162440479066}, {\"a\\u00f1o\": 2017, \"semana\": 40, \"defunciones\": 2270.108724886535}, {\"a\\u00f1o\": 2018, \"semana\": 40, \"defunciones\": 2176.2342719444205}, {\"a\\u00f1o\": 2019, \"semana\": 40, \"defunciones\": 2212.9920451874395}, {\"a\\u00f1o\": 2020, \"semana\": 40, \"defunciones\": null}, {\"a\\u00f1o\": \"Promedio \\u00faltimos 5 a\\u00f1os\", \"semana\": 40, \"defunciones\": 2220.8337780076895}, {\"a\\u00f1o\": 2015, \"semana\": 41, \"defunciones\": 2283.5256791195497}, {\"a\\u00f1o\": 2016, \"semana\": 41, \"defunciones\": 2034.736164243458}, {\"a\\u00f1o\": 2017, \"semana\": 41, \"defunciones\": 2048.940043969281}, {\"a\\u00f1o\": 2018, \"semana\": 41, \"defunciones\": 2124.270702891306}, {\"a\\u00f1o\": 2019, \"semana\": 41, \"defunciones\": 2243.446064157909}, {\"a\\u00f1o\": 2020, \"semana\": 41, \"defunciones\": null}, {\"a\\u00f1o\": \"Promedio \\u00faltimos 5 a\\u00f1os\", \"semana\": 41, \"defunciones\": 2146.983730876301}, {\"a\\u00f1o\": 2015, \"semana\": 42, \"defunciones\": 2079.25549125104}, {\"a\\u00f1o\": 2016, \"semana\": 42, \"defunciones\": 1950.3560293483224}, {\"a\\u00f1o\": 2017, \"semana\": 42, \"defunciones\": 2067.7185168773494}, {\"a\\u00f1o\": 2018, \"semana\": 42, \"defunciones\": 1976.694166780462}, {\"a\\u00f1o\": 2019, \"semana\": 42, \"defunciones\": 2033.3133332616703}, {\"a\\u00f1o\": 2020, \"semana\": 42, \"defunciones\": null}, {\"a\\u00f1o\": \"Promedio \\u00faltimos 5 a\\u00f1os\", \"semana\": 42, \"defunciones\": 2021.467507503769}, {\"a\\u00f1o\": 2015, \"semana\": 43, \"defunciones\": 2141.6116538635324}, {\"a\\u00f1o\": 2016, \"semana\": 43, \"defunciones\": 2230.199008367633}, {\"a\\u00f1o\": 2017, \"semana\": 43, \"defunciones\": 1877.8472908068766}, {\"a\\u00f1o\": 2018, \"semana\": 43, \"defunciones\": 2145.0561305125516}, {\"a\\u00f1o\": 2019, \"semana\": 43, \"defunciones\": 2047.5252087812228}, {\"a\\u00f1o\": 2020, \"semana\": 43, \"defunciones\": null}, {\"a\\u00f1o\": \"Promedio \\u00faltimos 5 a\\u00f1os\", \"semana\": 43, \"defunciones\": 2088.4478584663634}, {\"a\\u00f1o\": 2015, \"semana\": 44, \"defunciones\": 1740.59702189009}, {\"a\\u00f1o\": 2016, \"semana\": 44, \"defunciones\": 1880.9293360801728}, {\"a\\u00f1o\": 2017, \"semana\": 44, \"defunciones\": 2013.4695951429285}, {\"a\\u00f1o\": 2018, \"semana\": 44, \"defunciones\": 1830.15690205068}, {\"a\\u00f1o\": 2019, \"semana\": 44, \"defunciones\": 1926.7242668650276}, {\"a\\u00f1o\": 2020, \"semana\": 44, \"defunciones\": null}, {\"a\\u00f1o\": \"Promedio \\u00faltimos 5 a\\u00f1os\", \"semana\": 44, \"defunciones\": 1878.3754244057795}, {\"a\\u00f1o\": 2015, \"semana\": 45, \"defunciones\": 2180.3154789333557}, {\"a\\u00f1o\": 2016, \"semana\": 45, \"defunciones\": 2058.2344296572933}, {\"a\\u00f1o\": 2017, \"semana\": 45, \"defunciones\": 2058.329280423315}, {\"a\\u00f1o\": 2018, \"semana\": 45, \"defunciones\": 2313.418094244642}, {\"a\\u00f1o\": 2019, \"semana\": 45, \"defunciones\": 2255.627671746097}, {\"a\\u00f1o\": 2020, \"semana\": 45, \"defunciones\": null}, {\"a\\u00f1o\": \"Promedio \\u00faltimos 5 a\\u00f1os\", \"semana\": 45, \"defunciones\": 2173.1849910009405}, {\"a\\u00f1o\": 2015, \"semana\": 46, \"defunciones\": 2403.9375793367763}, {\"a\\u00f1o\": 2016, \"semana\": 46, \"defunciones\": 1922.5853520410628}, {\"a\\u00f1o\": 2017, \"semana\": 46, \"defunciones\": 1894.5392667251597}, {\"a\\u00f1o\": 2018, \"semana\": 46, \"defunciones\": 2002.675951307019}, {\"a\\u00f1o\": 2019, \"semana\": 46, \"defunciones\": 2033.3133332616703}, {\"a\\u00f1o\": 2020, \"semana\": 46, \"defunciones\": null}, {\"a\\u00f1o\": \"Promedio \\u00faltimos 5 a\\u00f1os\", \"semana\": 46, \"defunciones\": 2051.4102965343377}, {\"a\\u00f1o\": 2015, \"semana\": 47, \"defunciones\": 2095.382085030133}, {\"a\\u00f1o\": 2016, \"semana\": 47, \"defunciones\": 1980.2629126022946}, {\"a\\u00f1o\": 2017, \"semana\": 47, \"defunciones\": 2027.031825576534}, {\"a\\u00f1o\": 2018, \"semana\": 47, \"defunciones\": 2063.9929627896936}, {\"a\\u00f1o\": 2019, \"semana\": 47, \"defunciones\": 2103.35757689375}, {\"a\\u00f1o\": 2020, \"semana\": 47, \"defunciones\": null}, {\"a\\u00f1o\": \"Promedio \\u00faltimos 5 a\\u00f1os\", \"semana\": 47, \"defunciones\": 2054.0054725784807}, {\"a\\u00f1o\": 2015, \"semana\": 48, \"defunciones\": 2002.9229473633338}, {\"a\\u00f1o\": 2016, \"semana\": 48, \"defunciones\": 2001.6249720694175}, {\"a\\u00f1o\": 2017, \"semana\": 48, \"defunciones\": 1989.4748797603963}, {\"a\\u00f1o\": 2018, \"semana\": 48, \"defunciones\": 1980.851252304711}, {\"a\\u00f1o\": 2019, \"semana\": 48, \"defunciones\": 1989.662572737331}, {\"a\\u00f1o\": 2020, \"semana\": 48, \"defunciones\": null}, {\"a\\u00f1o\": \"Promedio \\u00faltimos 5 a\\u00f1os\", \"semana\": 48, \"defunciones\": 1992.9073248470381}, {\"a\\u00f1o\": 2015, \"semana\": 49, \"defunciones\": 2107.208253801468}, {\"a\\u00f1o\": 2016, \"semana\": 49, \"defunciones\": 1934.3344847479802}, {\"a\\u00f1o\": 2017, \"semana\": 49, \"defunciones\": 1812.1226356286359}, {\"a\\u00f1o\": 2018, \"semana\": 49, \"defunciones\": 2007.8723082123304}, {\"a\\u00f1o\": 2019, \"semana\": 49, \"defunciones\": 1992.707974634378}, {\"a\\u00f1o\": 2020, \"semana\": 49, \"defunciones\": null}, {\"a\\u00f1o\": \"Promedio \\u00faltimos 5 a\\u00f1os\", \"semana\": 49, \"defunciones\": 1970.8491314049584}, {\"a\\u00f1o\": 2015, \"semana\": 50, \"defunciones\": 2058.828472464189}, {\"a\\u00f1o\": 2016, \"semana\": 50, \"defunciones\": 2019.7827226164718}, {\"a\\u00f1o\": 2017, \"semana\": 50, \"defunciones\": 2092.7564807547747}, {\"a\\u00f1o\": 2018, \"semana\": 50, \"defunciones\": 1981.8905236857734}, {\"a\\u00f1o\": 2019, \"semana\": 50, \"defunciones\": 1906.4215875513814}, {\"a\\u00f1o\": 2020, \"semana\": 50, \"defunciones\": null}, {\"a\\u00f1o\": \"Promedio \\u00faltimos 5 a\\u00f1os\", \"semana\": 50, \"defunciones\": 2011.9359574145183}, {\"a\\u00f1o\": 2015, \"semana\": 51, \"defunciones\": 2020.1246473943663}, {\"a\\u00f1o\": 2016, \"semana\": 51, \"defunciones\": 1909.768116360789}, {\"a\\u00f1o\": 2017, \"semana\": 51, \"defunciones\": 2110.491705167951}, {\"a\\u00f1o\": 2018, \"semana\": 51, \"defunciones\": 2057.75733450332}, {\"a\\u00f1o\": 2019, \"semana\": 51, \"defunciones\": 1921.6485970366161}, {\"a\\u00f1o\": 2020, \"semana\": 51, \"defunciones\": null}, {\"a\\u00f1o\": \"Promedio \\u00faltimos 5 a\\u00f1os\", \"semana\": 51, \"defunciones\": 2003.9580800926083}, {\"a\\u00f1o\": 2015, \"semana\": 52, \"defunciones\": 1900.787853429079}, {\"a\\u00f1o\": 2016, \"semana\": 52, \"defunciones\": 1949.2879263749664}, {\"a\\u00f1o\": 2017, \"semana\": 52, \"defunciones\": 2019.729086112285}, {\"a\\u00f1o\": 2018, \"semana\": 52, \"defunciones\": 1966.301452969839}, {\"a\\u00f1o\": 2019, \"semana\": 52, \"defunciones\": 2009.9652520509771}, {\"a\\u00f1o\": 2020, \"semana\": 52, \"defunciones\": null}, {\"a\\u00f1o\": \"Promedio \\u00faltimos 5 a\\u00f1os\", \"semana\": 52, \"defunciones\": 1969.2143141874294}], \"data-7a06e5c884e93a75b425daeef3f3ca5c\": [{\"semana\": 1, \"Expected\": 2009.6946398297678, \"lower\": 1868.8677058137835, \"upper\": 2150.5215738457523, \"lower 2\": 1728.0407717977992, \"upper 2\": 2291.3485078617364}, {\"semana\": 2, \"Expected\": 1965.0425588883045, \"lower\": 1921.3283848008114, \"upper\": 2008.7567329757976, \"lower 2\": 1877.6142107133182, \"upper 2\": 2052.4709070632907}, {\"semana\": 3, \"Expected\": 1955.9047735265347, \"lower\": 1847.7162865626522, \"upper\": 2064.093260490417, \"lower 2\": 1739.5277995987697, \"upper 2\": 2172.2817474542994}, {\"semana\": 4, \"Expected\": 1987.7979298584553, \"lower\": 1856.5977578272461, \"upper\": 2118.9981018896647, \"lower 2\": 1725.3975857960368, \"upper 2\": 2250.198273920874}, {\"semana\": 5, \"Expected\": 1981.2709756381169, \"lower\": 1933.565144230597, \"upper\": 2028.9768070456366, \"lower 2\": 1885.8593128230775, \"upper 2\": 2076.6826384531564}, {\"semana\": 6, \"Expected\": 1957.6089277926258, \"lower\": 1879.5979997469785, \"upper\": 2035.619855838273, \"lower 2\": 1801.5870717013313, \"upper 2\": 2113.6307838839202}, {\"semana\": 7, \"Expected\": 1920.9938214510858, \"lower\": 1873.6078772545393, \"upper\": 1968.3797656476322, \"lower 2\": 1826.2219330579928, \"upper 2\": 2015.7657098441787}, {\"semana\": 8, \"Expected\": 1950.3189983567322, \"lower\": 1915.7949121518932, \"upper\": 1984.8430845615712, \"lower 2\": 1881.270825947054, \"upper 2\": 2019.3671707664105}, {\"semana\": 9, \"Expected\": 1927.0668340868913, \"lower\": 1871.4768850934222, \"upper\": 1982.6567830803604, \"lower 2\": 1815.8869360999531, \"upper 2\": 2038.2467320738294}, {\"semana\": 10, \"Expected\": 1866.4090446638725, \"lower\": 1797.2397554190338, \"upper\": 1935.578333908711, \"lower 2\": 1728.0704661741952, \"upper 2\": 2004.7476231535497}, {\"semana\": 11, \"Expected\": 1884.9293017339467, \"lower\": 1810.5923929532808, \"upper\": 1959.2662105146126, \"lower 2\": 1736.2554841726146, \"upper 2\": 2033.6031192952787}, {\"semana\": 12, \"Expected\": 1873.2109053412591, \"lower\": 1810.4563507606877, \"upper\": 1935.9654599218306, \"lower 2\": 1747.7017961801162, \"upper 2\": 1998.7200145024021}, {\"semana\": 13, \"Expected\": 1905.356786926858, \"lower\": 1858.7353329556336, \"upper\": 1951.9782408980823, \"lower 2\": 1812.1138789844092, \"upper 2\": 1998.5996948693066}, {\"semana\": 14, \"Expected\": 1944.4007254902021, \"lower\": 1823.9149337513575, \"upper\": 2064.886517229047, \"lower 2\": 1703.4291420125128, \"upper 2\": 2185.3723089678915}, {\"semana\": 15, \"Expected\": 2016.2284108674576, \"lower\": 1960.406410758868, \"upper\": 2072.0504109760473, \"lower 2\": 1904.5844106502786, \"upper 2\": 2127.8724110846365}, {\"semana\": 16, \"Expected\": 1989.5253312181383, \"lower\": 1932.2595208778105, \"upper\": 2046.791141558466, \"lower 2\": 1874.9937105374825, \"upper 2\": 2104.056951898794}, {\"semana\": 17, \"Expected\": 2088.020047785712, \"lower\": 2047.6128780930192, \"upper\": 2128.4272174784046, \"lower 2\": 2007.2057084003266, \"upper 2\": 2168.8343871710977}, {\"semana\": 18, \"Expected\": 2038.8644299806576, \"lower\": 1968.9058495600225, \"upper\": 2108.823010401293, \"lower 2\": 1898.9472691393871, \"upper 2\": 2178.781590821928}, {\"semana\": 19, \"Expected\": 2045.97158636606, \"lower\": 1960.1898390080273, \"upper\": 2131.7533337240925, \"lower 2\": 1874.408091649995, \"upper 2\": 2217.535081082125}, {\"semana\": 20, \"Expected\": 2143.3717435321455, \"lower\": 2060.1963941901195, \"upper\": 2226.5470928741715, \"lower 2\": 1977.0210448480934, \"upper 2\": 2309.7224422161976}, {\"semana\": 21, \"Expected\": 2176.685212859151, \"lower\": 2099.6528412668663, \"upper\": 2253.7175844514354, \"lower 2\": 2022.6204696745817, \"upper 2\": 2330.74995604372}, {\"semana\": 22, \"Expected\": 2306.4914056477483, \"lower\": 2202.27477606515, \"upper\": 2410.7080352303465, \"lower 2\": 2098.058146482552, \"upper 2\": 2514.9246648129447}, {\"semana\": 23, \"Expected\": 2338.626143817253, \"lower\": 2223.1274644195064, \"upper\": 2454.124823214999, \"lower 2\": 2107.6287850217605, \"upper 2\": 2569.623502612745}, {\"semana\": 24, \"Expected\": 2425.0812994332077, \"lower\": 2236.0006742156734, \"upper\": 2614.161924650742, \"lower 2\": 2046.9200489981392, \"upper 2\": 2803.242549868276}, {\"semana\": 25, \"Expected\": 2510.531402130848, \"lower\": 2280.483054095422, \"upper\": 2740.579750166274, \"lower 2\": 2050.434706059996, \"upper 2\": 2970.6280982017}, {\"semana\": 26, \"Expected\": 2503.8546225478485, \"lower\": 2469.673905620657, \"upper\": 2538.03533947504, \"lower 2\": 2435.4931886934655, \"upper 2\": 2572.2160564022315}, {\"semana\": 27, \"Expected\": 2443.4441057469658, \"lower\": 2319.937535362089, \"upper\": 2566.9506761318426, \"lower 2\": 2196.4309649772117, \"upper 2\": 2690.45724651672}, {\"semana\": 28, \"Expected\": 2488.0008341458115, \"lower\": 2399.6607124694824, \"upper\": 2576.3409558221406, \"lower 2\": 2311.320590793153, \"upper 2\": 2664.68107749847}, {\"semana\": 29, \"Expected\": 2481.4859332021865, \"lower\": 2321.0455572219516, \"upper\": 2641.9263091824214, \"lower 2\": 2160.6051812417163, \"upper 2\": 2802.3666851626567}, {\"semana\": 30, \"Expected\": 2482.8888548914174, \"lower\": 2393.6600439672693, \"upper\": 2572.1176658155655, \"lower 2\": 2304.4312330431217, \"upper 2\": 2661.346476739713}, {\"semana\": 31, \"Expected\": 2459.59194746146, \"lower\": 2383.5354254601957, \"upper\": 2535.6484694627247, \"lower 2\": 2307.4789034589317, \"upper 2\": 2611.704991463989}, {\"semana\": 32, \"Expected\": 2421.0753217358606, \"lower\": 2307.7211120139655, \"upper\": 2534.4295314577557, \"lower 2\": 2194.366902292071, \"upper 2\": 2647.7837411796504}, {\"semana\": 33, \"Expected\": 2325.516302042106, \"lower\": 2265.9087798507, \"upper\": 2385.123824233512, \"lower 2\": 2206.3012576592932, \"upper 2\": 2444.7313464249187}, {\"semana\": 34, \"Expected\": 2318.5404337724176, \"lower\": 2233.3179526702247, \"upper\": 2403.7629148746105, \"lower 2\": 2148.0954715680323, \"upper 2\": 2488.985395976803}, {\"semana\": 35, \"Expected\": 2282.1336634528243, \"lower\": 2204.919778576745, \"upper\": 2359.3475483289035, \"lower 2\": 2127.705893700666, \"upper 2\": 2436.5614332049827}, {\"semana\": 36, \"Expected\": 2316.875346217552, \"lower\": 2233.3843320947867, \"upper\": 2400.366360340317, \"lower 2\": 2149.8933179720216, \"upper 2\": 2483.857374463082}, {\"semana\": 37, \"Expected\": 2326.6748287225587, \"lower\": 2231.793044370304, \"upper\": 2421.5566130748134, \"lower 2\": 2136.9112600180492, \"upper 2\": 2516.438397427068}, {\"semana\": 38, \"Expected\": 2082.528078597713, \"lower\": 1925.3046750042458, \"upper\": 2239.75148219118, \"lower 2\": 1768.081271410779, \"upper 2\": 2396.974885784647}, {\"semana\": 39, \"Expected\": 2414.4878210955562, \"lower\": 2172.9368344727955, \"upper\": 2656.038807718317, \"lower 2\": 1931.3858478500347, \"upper 2\": 2897.589794341078}, {\"semana\": 40, \"Expected\": 2220.8337780076895, \"lower\": 2184.322458601236, \"upper\": 2257.345097414143, \"lower 2\": 2147.8111391947823, \"upper 2\": 2293.8564168205967}, {\"semana\": 41, \"Expected\": 2146.983730876301, \"lower\": 2034.426359094443, \"upper\": 2259.5411026581587, \"lower 2\": 1921.868987312585, \"upper 2\": 2372.0984744400166}, {\"semana\": 42, \"Expected\": 2021.467507503769, \"lower\": 1965.1638111630439, \"upper\": 2077.7712038444943, \"lower 2\": 1908.8601148223188, \"upper 2\": 2134.074900185219}, {\"semana\": 43, \"Expected\": 2088.4478584663634, \"lower\": 1954.142668265863, \"upper\": 2222.753048666864, \"lower 2\": 1819.8374780653628, \"upper 2\": 2357.0582388673643}, {\"semana\": 44, \"Expected\": 1878.3754244057795, \"lower\": 1776.0249455390049, \"upper\": 1980.7259032725542, \"lower 2\": 1673.6744666722302, \"upper 2\": 2083.076382139329}, {\"semana\": 45, \"Expected\": 2173.1849910009405, \"lower\": 2058.1649617479106, \"upper\": 2288.2050202539704, \"lower 2\": 1943.1449324948803, \"upper 2\": 2403.2250495070007}, {\"semana\": 46, \"Expected\": 2051.4102965343377, \"lower\": 1846.360053958533, \"upper\": 2256.4605391101427, \"lower 2\": 1641.309811382728, \"upper 2\": 2461.510781685947}, {\"semana\": 47, \"Expected\": 2054.0054725784807, \"lower\": 2002.983548360882, \"upper\": 2105.0273967960793, \"lower 2\": 1951.9616241432832, \"upper 2\": 2156.0493210136783}, {\"semana\": 48, \"Expected\": 1992.9073248470381, \"lower\": 1983.634123563839, \"upper\": 2002.1805261302372, \"lower 2\": 1974.36092228064, \"upper 2\": 2011.4537274134364}, {\"semana\": 49, \"Expected\": 1970.8491314049584, \"lower\": 1862.4865977610607, \"upper\": 2079.211665048856, \"lower 2\": 1754.124064117163, \"upper 2\": 2187.5741986927537}, {\"semana\": 50, \"Expected\": 2011.9359574145183, \"lower\": 1939.7756376044345, \"upper\": 2084.096277224602, \"lower 2\": 1867.6153177943504, \"upper 2\": 2156.256597034686}, {\"semana\": 51, \"Expected\": 2003.9580800926083, \"lower\": 1917.1368107890694, \"upper\": 2090.779349396147, \"lower 2\": 1830.3155414855305, \"upper 2\": 2177.600618699686}, {\"semana\": 52, \"Expected\": 1969.2143141874294, \"lower\": 1920.995782109455, \"upper\": 2017.432846265404, \"lower 2\": 1872.7772500314807, \"upper 2\": 2065.6513783433784}]}}, {\"mode\": \"vega-lite\"});\n",
       "</script>"
      ],
      "text/plain": [
       "alt.LayerChart(...)"
      ]
     },
     "execution_count": 68,
     "metadata": {},
     "output_type": "execute_result"
    }
   ],
   "source": [
    "#hide_input\n",
    "label = alt.selection_single(\n",
    "    encodings=['x'], # limit selection to x-axis value\n",
    "    on='mouseover',  # select on mouseover events\n",
    "    nearest=True,    # select data point nearest the cursor\n",
    "    empty='none'     # empty selection includes no data points\n",
    ")\n",
    "\n",
    "base = alt.Chart(amended_deaths.drop([i for i in np.arange(2012,2015)]).reset_index().melt(\"index\", value_name=\"defunciones\").rename(columns={\"index\":\"año\"})).mark_line(point=True).encode(\n",
    "    x = alt.X(\"semana:Q\",scale=alt.Scale(domain=(1, 52))),\n",
    "    y = alt.Y(\"defunciones\", scale=alt.Scale(domain=(0,3500))),\n",
    "    color=alt.Color('año:N', scale=alt.Scale(range=['lightgray', 'lightgray', 'lightgray', 'lightgray', 'lightgray', 'red', 'blue'], \n",
    "                                             domain=[\"2015\", \"2016\", \"2017\", \"2018\", \"2019\", \"2020\", \"Promedio últimos 5 años\"]))\n",
    ")\n",
    "\n",
    "alt.layer(\n",
    "    base, # base line chart\n",
    "    \n",
    "    alt.Chart(df_expected.reset_index()).mark_area(\n",
    "        opacity=0.5\n",
    "    ).encode(\n",
    "        x=\"semana\",\n",
    "        y=alt.Y(\"lower:Q\", axis=alt.Axis(title=\"defunciones\")),\n",
    "        #y=\"lower:Q\",\n",
    "        y2=\"upper:Q\"\n",
    "    ),\n",
    "    \n",
    "    alt.Chart(df_expected.reset_index()).mark_area(\n",
    "        opacity=0.3\n",
    "    ).encode(\n",
    "        x=\"semana\",\n",
    "        y=\"lower 2:Q\",\n",
    "        y2=\"upper 2:Q\"\n",
    "    ),\n",
    "    \n",
    "#     alt.Chart(expected.reset_index().rename(columns={0:\"defunciones\"})).mark_line(point=True).encode(\n",
    "#     x = \"semana\",\n",
    "#     y = \"defunciones\"\n",
    "#     ),\n",
    "    # add a rule mark to serve as a guide line\n",
    "    alt.Chart().mark_rule(color='#aaa').encode(\n",
    "        x = alt.X('semana:Q', scale=alt.Scale(domain=(1, 52)), axis=alt.Axis(title='Semanas'), sort=None)\n",
    "    ).transform_filter(label),\n",
    "    \n",
    "    # add circle marks for selected time points, hide unselected points\n",
    "    base.mark_circle().encode(\n",
    "        opacity=alt.condition(label, alt.value(1), alt.value(0))\n",
    "    ).add_selection(label),\n",
    "\n",
    "    # add white stroked text to provide a legible background for labels\n",
    "    base.mark_text(align='left', dx=5, dy=-5, stroke='white', strokeWidth=2).encode(\n",
    "        text='defunciones'\n",
    "    ).transform_filter(label),\n",
    "\n",
    "    # add text labels for stock prices\n",
    "    base.mark_text(align='left', dx=5, dy=-5).encode(\n",
    "        text='defunciones'\n",
    "    ).transform_filter(label),\n",
    "    \n",
    "    data=amended_deaths.drop([i for i in np.arange(2012,2015)]).reset_index().melt(\"index\", value_name=\"defunciones\").rename(columns={\"index\":\"año\"})\n",
    ").properties(\n",
    "    title = f'Defunciones inscritas en Chile por semana (corregido) hasta semana {current_week-1}',\n",
    "    width=600\n",
    ")"
   ]
  },
  {
   "cell_type": "markdown",
   "metadata": {},
   "source": [
    "Fuente: [Ministerio de Ciencia](https://github.com/MinCiencia/Datos-COVID19), [Registro Civil](https://www.registrocivil.cl/)"
   ]
  },
  {
   "cell_type": "code",
   "execution_count": 69,
   "metadata": {
    "colab": {
     "base_uri": "https://localhost:8080/",
     "height": 34
    },
    "colab_type": "code",
    "id": "Jy8aOR9lUmt2",
    "outputId": "ff30ef19-3e92-4cba-c0cf-366bfc9ed1cb"
   },
   "outputs": [
    {
     "data": {
      "text/plain": [
       "Index([2012, 2013, 2014, 2015, 2016, 2017, 2018, 2019, 2020,\n",
       "       'Promedio últimos 5 años'],\n",
       "      dtype='object')"
      ]
     },
     "execution_count": 69,
     "metadata": {},
     "output_type": "execute_result"
    }
   ],
   "source": [
    "#hide\n",
    "amended_deaths.index"
   ]
  },
  {
   "cell_type": "code",
   "execution_count": 70,
   "metadata": {
    "colab": {
     "base_uri": "https://localhost:8080/",
     "height": 34
    },
    "colab_type": "code",
    "id": "xtnqH0PthQcA",
    "outputId": "1a2e97f7-9e1f-42b0-8e60-01c90ea9e576",
    "scrolled": true
   },
   "outputs": [
    {
     "data": {
      "text/plain": [
       "475.7512888324077"
      ]
     },
     "execution_count": 70,
     "metadata": {},
     "output_type": "execute_result"
    }
   ],
   "source": [
    "#hide\n",
    "(amended_deaths.loc[2020,:12] - expected).sum()"
   ]
  },
  {
   "cell_type": "code",
   "execution_count": 71,
   "metadata": {
    "colab": {},
    "colab_type": "code",
    "id": "2IXcwDo4i9Zz"
   },
   "outputs": [],
   "source": [
    "#hide\n",
    "excess_mortality = []\n",
    "for i in np.arange(1,23):\n",
    "    excess_mortality.append((amended_deaths.loc[2020,:i] - expected).sum())"
   ]
  },
  {
   "cell_type": "code",
   "execution_count": 72,
   "metadata": {
    "colab": {},
    "colab_type": "code",
    "id": "JrWzYMKHjTYj"
   },
   "outputs": [
    {
     "data": {
      "text/plain": [
       "0       50.305360\n",
       "1      201.262801\n",
       "2      305.358028\n",
       "3      304.560098\n",
       "4      356.289122\n",
       "5      304.680194\n",
       "6      342.686373\n",
       "7      210.367375\n",
       "8      138.300541\n",
       "9      288.891496\n",
       "10     365.962194\n",
       "11     475.751289\n",
       "12     494.394502\n",
       "13     568.993776\n",
       "14     503.765366\n",
       "15     702.240034\n",
       "16     702.219987\n",
       "17     634.355557\n",
       "18     948.383970\n",
       "19    1221.012227\n",
       "20    1732.327014\n",
       "21    2549.835608\n",
       "dtype: float64"
      ]
     },
     "execution_count": 72,
     "metadata": {},
     "output_type": "execute_result"
    }
   ],
   "source": [
    "#hide\n",
    "excess_mortality = pd.Series(excess_mortality)\n",
    "excess_mortality"
   ]
  },
  {
   "cell_type": "code",
   "execution_count": 73,
   "metadata": {
    "colab": {},
    "colab_type": "code",
    "id": "3yhSSdR6jrPF"
   },
   "outputs": [],
   "source": [
    "#hide\n",
    "casos_raw = pd.read_csv(\n",
    "    \"https://raw.githubusercontent.com/MinCiencia/Datos-COVID19/master/output/producto3/CasosTotalesCumulativo.csv\",\n",
    "    index_col='Region')"
   ]
  },
  {
   "cell_type": "code",
   "execution_count": 74,
   "metadata": {
    "colab": {
     "base_uri": "https://localhost:8080/",
     "height": 225
    },
    "colab_type": "code",
    "id": "7K2JMgn8rrSJ",
    "outputId": "6109ead7-f2e3-4bbd-b135-2dd171864759"
   },
   "outputs": [
    {
     "data": {
      "text/plain": [
       "2020-03-03    0\n",
       "2020-03-04    1\n",
       "Name: Metropolitana, dtype: int64"
      ]
     },
     "execution_count": 74,
     "metadata": {},
     "output_type": "execute_result"
    }
   ],
   "source": [
    "#hide\n",
    "casos_raw.loc[\"Metropolitana\"].head(2)"
   ]
  },
  {
   "cell_type": "code",
   "execution_count": 75,
   "metadata": {
    "colab": {
     "base_uri": "https://localhost:8080/",
     "height": 34
    },
    "colab_type": "code",
    "id": "l4upf3Cmixfw",
    "outputId": "818554ba-f67a-487e-d670-b53e4ec78ce5"
   },
   "outputs": [
    {
     "data": {
      "text/plain": [
       "10"
      ]
     },
     "execution_count": 75,
     "metadata": {},
     "output_type": "execute_result"
    }
   ],
   "source": [
    "#hide\n",
    "_, week_first_case, _ = pd.to_datetime(\"2020-03-03\").isocalendar()\n",
    "week_first_case"
   ]
  },
  {
   "cell_type": "code",
   "execution_count": 76,
   "metadata": {
    "colab": {},
    "colab_type": "code",
    "id": "OrGpiFBKkBUo"
   },
   "outputs": [],
   "source": [
    "#hide\n",
    "deaths_raw = pd.read_csv(\"https://raw.githubusercontent.com/MinCiencia/Datos-COVID19/master/output/producto5/TotalesNacionales_T.csv\")"
   ]
  },
  {
   "cell_type": "code",
   "execution_count": 77,
   "metadata": {},
   "outputs": [
    {
     "data": {
      "text/html": [
       "<div>\n",
       "<style scoped>\n",
       "    .dataframe tbody tr th:only-of-type {\n",
       "        vertical-align: middle;\n",
       "    }\n",
       "\n",
       "    .dataframe tbody tr th {\n",
       "        vertical-align: top;\n",
       "    }\n",
       "\n",
       "    .dataframe thead th {\n",
       "        text-align: right;\n",
       "    }\n",
       "</style>\n",
       "<table border=\"1\" class=\"dataframe\">\n",
       "  <thead>\n",
       "    <tr style=\"text-align: right;\">\n",
       "      <th></th>\n",
       "      <th>Fecha</th>\n",
       "      <th>Casos nuevos con sintomas</th>\n",
       "      <th>Casos totales</th>\n",
       "      <th>Casos recuperados</th>\n",
       "      <th>Fallecidos</th>\n",
       "      <th>Casos activos</th>\n",
       "      <th>Casos nuevos sin sintomas</th>\n",
       "      <th>Casos nuevos totales</th>\n",
       "    </tr>\n",
       "  </thead>\n",
       "  <tbody>\n",
       "    <tr>\n",
       "      <th>19</th>\n",
       "      <td>2020-03-22</td>\n",
       "      <td>95.0</td>\n",
       "      <td>632.0</td>\n",
       "      <td>8.0</td>\n",
       "      <td>1.0</td>\n",
       "      <td>623.0</td>\n",
       "      <td>NaN</td>\n",
       "      <td>95.0</td>\n",
       "    </tr>\n",
       "    <tr>\n",
       "      <th>20</th>\n",
       "      <td>2020-03-23</td>\n",
       "      <td>114.0</td>\n",
       "      <td>746.0</td>\n",
       "      <td>11.0</td>\n",
       "      <td>1.0</td>\n",
       "      <td>734.0</td>\n",
       "      <td>NaN</td>\n",
       "      <td>114.0</td>\n",
       "    </tr>\n",
       "  </tbody>\n",
       "</table>\n",
       "</div>"
      ],
      "text/plain": [
       "         Fecha  Casos nuevos con sintomas  Casos totales  Casos recuperados  \\\n",
       "19  2020-03-22                       95.0          632.0                8.0   \n",
       "20  2020-03-23                      114.0          746.0               11.0   \n",
       "\n",
       "    Fallecidos  Casos activos  Casos nuevos sin sintomas  Casos nuevos totales  \n",
       "19         1.0          623.0                        NaN                  95.0  \n",
       "20         1.0          734.0                        NaN                 114.0  "
      ]
     },
     "execution_count": 77,
     "metadata": {},
     "output_type": "execute_result"
    }
   ],
   "source": [
    "#hide\n",
    "deaths_raw[deaths_raw[\"Fallecidos\"]>0].head(2)"
   ]
  },
  {
   "cell_type": "code",
   "execution_count": 78,
   "metadata": {},
   "outputs": [
    {
     "data": {
      "text/plain": [
       "12"
      ]
     },
     "execution_count": 78,
     "metadata": {},
     "output_type": "execute_result"
    }
   ],
   "source": [
    "#hide\n",
    "_, week_first_death, _ = pd.to_datetime(\"2020-03-22\").isocalendar()\n",
    "week_first_death"
   ]
  },
  {
   "cell_type": "code",
   "execution_count": 152,
   "metadata": {
    "scrolled": true
   },
   "outputs": [
    {
     "data": {
      "text/markdown": [
       "Entre las semanas 12 y 22, hubo un total de 24.712 defunciones inscritas."
      ],
      "text/plain": [
       "<IPython.core.display.Markdown object>"
      ]
     },
     "metadata": {},
     "output_type": "display_data"
    },
    {
     "data": {
      "text/markdown": [
       "El número esperado de defunciones inscritas entre esas semanas es de 22.528, para una tase de crecimiento de defunciones inscritas entre 2019/2020 de 1.51%."
      ],
      "text/plain": [
       "<IPython.core.display.Markdown object>"
      ]
     },
     "metadata": {},
     "output_type": "display_data"
    },
    {
     "data": {
      "text/markdown": [
       "Exceso de mortalidad al 31 de mayo: 2.184."
      ],
      "text/plain": [
       "<IPython.core.display.Markdown object>"
      ]
     },
     "metadata": {},
     "output_type": "display_data"
    }
   ],
   "source": [
    "#hide_input\n",
    "display(Markdown(f\"Entre las semanas 12 y {current_week-1}, hubo un total de {'{:,.0f}'.format(amended_deaths.loc[2020,12:22].sum()).replace(',', '.')} defunciones inscritas.\"))\n",
    "display(Markdown(f\"El número esperado de defunciones inscritas entre esas semanas es de {'{:,.0f}'.format(expected.loc[12:22].sum()).replace(',', '.')}, para una tase de crecimiento de defunciones inscritas entre 2019/2020 de {100*(gr_mean-1):.2f}%.\"))\n",
    "display(Markdown(f\"Exceso de mortalidad al 31 de mayo: {'{:,.0f}'.format((amended_deaths.loc[2020,12:22].sum()-expected.loc[12:22].sum())).replace(',', '.')}.\"))"
   ]
  },
  {
   "cell_type": "code",
   "execution_count": 80,
   "metadata": {
    "colab": {},
    "colab_type": "code",
    "id": "9mHbAAQzipZa"
   },
   "outputs": [],
   "source": [
    "#hide\n",
    "totales_covid19 = pd.read_csv(\n",
    "    \"https://raw.githubusercontent.com/MinCiencia/Datos-COVID19/master/output/producto5/TotalesNacionales_T.csv\",\n",
    "    index_col=\"Fecha\")"
   ]
  },
  {
   "cell_type": "code",
   "execution_count": 81,
   "metadata": {
    "colab": {
     "base_uri": "https://localhost:8080/",
     "height": 255
    },
    "colab_type": "code",
    "id": "BRqrCf1airT2",
    "outputId": "f444ed45-eb90-4123-dbd1-2190a7b98070"
   },
   "outputs": [
    {
     "data": {
      "text/html": [
       "<div>\n",
       "<style scoped>\n",
       "    .dataframe tbody tr th:only-of-type {\n",
       "        vertical-align: middle;\n",
       "    }\n",
       "\n",
       "    .dataframe tbody tr th {\n",
       "        vertical-align: top;\n",
       "    }\n",
       "\n",
       "    .dataframe thead th {\n",
       "        text-align: right;\n",
       "    }\n",
       "</style>\n",
       "<table border=\"1\" class=\"dataframe\">\n",
       "  <thead>\n",
       "    <tr style=\"text-align: right;\">\n",
       "      <th></th>\n",
       "      <th>Casos nuevos con sintomas</th>\n",
       "      <th>Casos totales</th>\n",
       "      <th>Casos recuperados</th>\n",
       "      <th>Fallecidos</th>\n",
       "      <th>Casos activos</th>\n",
       "      <th>Casos nuevos sin sintomas</th>\n",
       "      <th>Casos nuevos totales</th>\n",
       "    </tr>\n",
       "    <tr>\n",
       "      <th>Fecha</th>\n",
       "      <th></th>\n",
       "      <th></th>\n",
       "      <th></th>\n",
       "      <th></th>\n",
       "      <th></th>\n",
       "      <th></th>\n",
       "      <th></th>\n",
       "    </tr>\n",
       "  </thead>\n",
       "  <tbody>\n",
       "    <tr>\n",
       "      <th>2020-03-03</th>\n",
       "      <td>0.0</td>\n",
       "      <td>1.0</td>\n",
       "      <td>0.0</td>\n",
       "      <td>0.0</td>\n",
       "      <td>1.0</td>\n",
       "      <td>NaN</td>\n",
       "      <td>0.0</td>\n",
       "    </tr>\n",
       "    <tr>\n",
       "      <th>2020-03-04</th>\n",
       "      <td>2.0</td>\n",
       "      <td>3.0</td>\n",
       "      <td>0.0</td>\n",
       "      <td>0.0</td>\n",
       "      <td>3.0</td>\n",
       "      <td>NaN</td>\n",
       "      <td>2.0</td>\n",
       "    </tr>\n",
       "  </tbody>\n",
       "</table>\n",
       "</div>"
      ],
      "text/plain": [
       "            Casos nuevos con sintomas  Casos totales  Casos recuperados  \\\n",
       "Fecha                                                                     \n",
       "2020-03-03                        0.0            1.0                0.0   \n",
       "2020-03-04                        2.0            3.0                0.0   \n",
       "\n",
       "            Fallecidos  Casos activos  Casos nuevos sin sintomas  \\\n",
       "Fecha                                                              \n",
       "2020-03-03         0.0            1.0                        NaN   \n",
       "2020-03-04         0.0            3.0                        NaN   \n",
       "\n",
       "            Casos nuevos totales  \n",
       "Fecha                             \n",
       "2020-03-03                   0.0  \n",
       "2020-03-04                   2.0  "
      ]
     },
     "execution_count": 81,
     "metadata": {},
     "output_type": "execute_result"
    }
   ],
   "source": [
    "#hide\n",
    "totales_covid19.head(2)"
   ]
  },
  {
   "cell_type": "code",
   "execution_count": 82,
   "metadata": {
    "colab": {
     "base_uri": "https://localhost:8080/",
     "height": 34
    },
    "colab_type": "code",
    "id": "l4upf3Cmixfw",
    "outputId": "818554ba-f67a-487e-d670-b53e4ec78ce5"
   },
   "outputs": [
    {
     "data": {
      "text/plain": [
       "10"
      ]
     },
     "execution_count": 82,
     "metadata": {},
     "output_type": "execute_result"
    }
   ],
   "source": [
    "#hide\n",
    "_, week_first_case, _ = pd.to_datetime(\"2020-03-03\").isocalendar()\n",
    "week_first_case"
   ]
  },
  {
   "cell_type": "code",
   "execution_count": 149,
   "metadata": {
    "scrolled": false
   },
   "outputs": [
    {
     "data": {
      "text/markdown": [
       "Fallecimientos confirmados por Covid-19 oficiales al 31 de mayo: 1.054."
      ],
      "text/plain": [
       "<IPython.core.display.Markdown object>"
      ]
     },
     "metadata": {},
     "output_type": "display_data"
    }
   ],
   "source": [
    "#hide_input\n",
    "display(Markdown(f\"Fallecimientos confirmados por Covid-19 oficiales al 31 de mayo: {'{:,.0f}'.format(totales_covid19['Fallecidos'].loc['2020-05-31']).replace(',', '.')}.\"))"
   ]
  },
  {
   "cell_type": "code",
   "execution_count": 162,
   "metadata": {},
   "outputs": [],
   "source": [
    "#hide\n",
    "diff = amended_deaths.loc[2020,12:22].sum()-expected.loc[12:22].sum() - totales_covid19['Fallecidos'].loc['2020-05-31']"
   ]
  },
  {
   "cell_type": "code",
   "execution_count": 163,
   "metadata": {},
   "outputs": [
    {
     "data": {
      "text/markdown": [
       "Diferencia: 1.130."
      ],
      "text/plain": [
       "<IPython.core.display.Markdown object>"
      ]
     },
     "metadata": {},
     "output_type": "display_data"
    }
   ],
   "source": [
    "#hide_input\n",
    "display(Markdown(f\"Diferencia: {'{:,.0f}'.format(diff).replace(',', '.')}.\"))"
   ]
  },
  {
   "cell_type": "code",
   "execution_count": 83,
   "metadata": {
    "colab": {},
    "colab_type": "code",
    "id": "3yhSSdR6jrPF"
   },
   "outputs": [],
   "source": [
    "#hide\n",
    "casos_raw = pd.read_csv(\n",
    "    \"https://raw.githubusercontent.com/MinCiencia/Datos-COVID19/master/output/producto3/CasosTotalesCumulativo.csv\",\n",
    "    index_col='Region')"
   ]
  },
  {
   "cell_type": "code",
   "execution_count": 84,
   "metadata": {
    "colab": {
     "base_uri": "https://localhost:8080/",
     "height": 225
    },
    "colab_type": "code",
    "id": "7K2JMgn8rrSJ",
    "outputId": "6109ead7-f2e3-4bbd-b135-2dd171864759"
   },
   "outputs": [
    {
     "data": {
      "text/plain": [
       "2020-03-03    0\n",
       "2020-03-04    1\n",
       "Name: Metropolitana, dtype: int64"
      ]
     },
     "execution_count": 84,
     "metadata": {},
     "output_type": "execute_result"
    }
   ],
   "source": [
    "#hide\n",
    "casos_raw.loc[\"Metropolitana\"].head(2)"
   ]
  },
  {
   "cell_type": "code",
   "execution_count": 85,
   "metadata": {
    "colab": {},
    "colab_type": "code",
    "id": "OrGpiFBKkBUo"
   },
   "outputs": [],
   "source": [
    "#hide\n",
    "deaths_raw = pd.read_csv(\"https://raw.githubusercontent.com/MinCiencia/Datos-COVID19/master/output/producto5/TotalesNacionales_T.csv\")"
   ]
  },
  {
   "cell_type": "code",
   "execution_count": 86,
   "metadata": {},
   "outputs": [
    {
     "data": {
      "text/html": [
       "<div>\n",
       "<style scoped>\n",
       "    .dataframe tbody tr th:only-of-type {\n",
       "        vertical-align: middle;\n",
       "    }\n",
       "\n",
       "    .dataframe tbody tr th {\n",
       "        vertical-align: top;\n",
       "    }\n",
       "\n",
       "    .dataframe thead th {\n",
       "        text-align: right;\n",
       "    }\n",
       "</style>\n",
       "<table border=\"1\" class=\"dataframe\">\n",
       "  <thead>\n",
       "    <tr style=\"text-align: right;\">\n",
       "      <th></th>\n",
       "      <th>Fecha</th>\n",
       "      <th>Casos nuevos con sintomas</th>\n",
       "      <th>Casos totales</th>\n",
       "      <th>Casos recuperados</th>\n",
       "      <th>Fallecidos</th>\n",
       "      <th>Casos activos</th>\n",
       "      <th>Casos nuevos sin sintomas</th>\n",
       "      <th>Casos nuevos totales</th>\n",
       "    </tr>\n",
       "  </thead>\n",
       "  <tbody>\n",
       "    <tr>\n",
       "      <th>19</th>\n",
       "      <td>2020-03-22</td>\n",
       "      <td>95.0</td>\n",
       "      <td>632.0</td>\n",
       "      <td>8.0</td>\n",
       "      <td>1.0</td>\n",
       "      <td>623.0</td>\n",
       "      <td>NaN</td>\n",
       "      <td>95.0</td>\n",
       "    </tr>\n",
       "    <tr>\n",
       "      <th>20</th>\n",
       "      <td>2020-03-23</td>\n",
       "      <td>114.0</td>\n",
       "      <td>746.0</td>\n",
       "      <td>11.0</td>\n",
       "      <td>1.0</td>\n",
       "      <td>734.0</td>\n",
       "      <td>NaN</td>\n",
       "      <td>114.0</td>\n",
       "    </tr>\n",
       "  </tbody>\n",
       "</table>\n",
       "</div>"
      ],
      "text/plain": [
       "         Fecha  Casos nuevos con sintomas  Casos totales  Casos recuperados  \\\n",
       "19  2020-03-22                       95.0          632.0                8.0   \n",
       "20  2020-03-23                      114.0          746.0               11.0   \n",
       "\n",
       "    Fallecidos  Casos activos  Casos nuevos sin sintomas  Casos nuevos totales  \n",
       "19         1.0          623.0                        NaN                  95.0  \n",
       "20         1.0          734.0                        NaN                 114.0  "
      ]
     },
     "execution_count": 86,
     "metadata": {},
     "output_type": "execute_result"
    }
   ],
   "source": [
    "#hide\n",
    "deaths_raw[deaths_raw[\"Fallecidos\"]>0].head(2)"
   ]
  },
  {
   "cell_type": "code",
   "execution_count": 87,
   "metadata": {},
   "outputs": [
    {
     "data": {
      "text/plain": [
       "12"
      ]
     },
     "execution_count": 87,
     "metadata": {},
     "output_type": "execute_result"
    }
   ],
   "source": [
    "#hide\n",
    "_, week_first_death, _ = pd.to_datetime(\"2020-03-22\").isocalendar()\n",
    "week_first_death"
   ]
  },
  {
   "cell_type": "code",
   "execution_count": 88,
   "metadata": {
    "colab": {},
    "colab_type": "code",
    "id": "PFZfMsZDkfxU"
   },
   "outputs": [],
   "source": [
    "#hide\n",
    "data = pd.DataFrame()\n",
    "data_raw = pd.read_csv(\n",
    "    \"https://raw.githubusercontent.com/MinCiencia/Datos-COVID19/master/output/producto4/2020-03-24-CasosConfirmados-totalRegional.csv\",\n",
    "    index_col='Region')\n",
    "data['2020-03-24'] = data_raw['Fallecidos']"
   ]
  },
  {
   "cell_type": "code",
   "execution_count": 141,
   "metadata": {},
   "outputs": [
    {
     "data": {
      "text/plain": [
       "'2020-06-06'"
      ]
     },
     "execution_count": 141,
     "metadata": {},
     "output_type": "execute_result"
    }
   ],
   "source": [
    "#hide\n",
    "update_date = pd.to_datetime('today') - pd.offsets.Hour(19)\n",
    "today = update_date.strftime('%Y-%m-%d')\n",
    "today"
   ]
  },
  {
   "cell_type": "code",
   "execution_count": 142,
   "metadata": {
    "colab": {},
    "colab_type": "code",
    "id": "XWCSiMSqlIZe"
   },
   "outputs": [],
   "source": [
    "#hide\n",
    "first_death_date = '2020-03-24'\n",
    "total_days = (pd.to_datetime(today)-pd.to_datetime(first_death_date)).days"
   ]
  },
  {
   "cell_type": "code",
   "execution_count": 144,
   "metadata": {
    "colab": {},
    "colab_type": "code",
    "id": "ye1c15eRlfsH"
   },
   "outputs": [],
   "source": [
    "#hide\n",
    "# s = \"https://raw.githubusercontent.com/MinCiencia/Datos-COVID19/master/output/producto4/\" + date + \"-CasosConfirmados-totalRegional.csv\"\n",
    "# data_by_date = pd.read_csv(s)\n",
    "# idx_fallecidos = [i for i, x in enumerate(data_by_date.columns.str.contains(\"Fallecidos\", case=False)) if x]"
   ]
  },
  {
   "cell_type": "code",
   "execution_count": 145,
   "metadata": {
    "colab": {},
    "colab_type": "code",
    "id": "ub1SmBWflMAN"
   },
   "outputs": [],
   "source": [
    "#hide\n",
    "for i in np.arange(total_days+1):\n",
    "    date = (pd.to_datetime(first_death_date)+pd.DateOffset(i)).strftime('%Y-%m-%d')\n",
    "    s = \"https://raw.githubusercontent.com/MinCiencia/Datos-COVID19/master/output/producto4/\" + date + \"-CasosConfirmados-totalRegional.csv\"\n",
    "    data_by_date = pd.read_csv(s)\n",
    "    if 'Fallecidos' in data_by_date.columns:\n",
    "        data[date] = data_by_date[\"Fallecidos\"].values\n",
    "    elif 'Casos fallecidos' in data_by_date.columns:\n",
    "        data[date] = data_by_date[\"Casos fallecidos\"].values\n",
    "    elif 'Fallecidos totales' in data_by_date.columns:\n",
    "        data[date] = data_by_date[\"Fallecidos totales\"].values\n",
    "    elif 'Fallecidos totales ' in data_by_date.columns:\n",
    "        data[date] = data_by_date[\"Fallecidos totales \"].values\n",
    "    else:\n",
    "        data[date] = data_by_date[\" Casos fallecidos\"].values"
   ]
  },
  {
   "cell_type": "code",
   "execution_count": 146,
   "metadata": {},
   "outputs": [
    {
     "data": {
      "text/html": [
       "<div>\n",
       "<style scoped>\n",
       "    .dataframe tbody tr th:only-of-type {\n",
       "        vertical-align: middle;\n",
       "    }\n",
       "\n",
       "    .dataframe tbody tr th {\n",
       "        vertical-align: top;\n",
       "    }\n",
       "\n",
       "    .dataframe thead th {\n",
       "        text-align: right;\n",
       "    }\n",
       "</style>\n",
       "<table border=\"1\" class=\"dataframe\">\n",
       "  <thead>\n",
       "    <tr style=\"text-align: right;\">\n",
       "      <th></th>\n",
       "      <th>2020-03-24</th>\n",
       "      <th>2020-03-25</th>\n",
       "      <th>2020-03-26</th>\n",
       "      <th>2020-03-27</th>\n",
       "      <th>2020-03-28</th>\n",
       "      <th>2020-03-29</th>\n",
       "      <th>2020-03-30</th>\n",
       "      <th>2020-03-31</th>\n",
       "      <th>2020-04-01</th>\n",
       "      <th>2020-04-02</th>\n",
       "      <th>...</th>\n",
       "      <th>2020-05-28</th>\n",
       "      <th>2020-05-29</th>\n",
       "      <th>2020-05-30</th>\n",
       "      <th>2020-05-31</th>\n",
       "      <th>2020-06-01</th>\n",
       "      <th>2020-06-02</th>\n",
       "      <th>2020-06-03</th>\n",
       "      <th>2020-06-04</th>\n",
       "      <th>2020-06-05</th>\n",
       "      <th>2020-06-06</th>\n",
       "    </tr>\n",
       "    <tr>\n",
       "      <th>Region</th>\n",
       "      <th></th>\n",
       "      <th></th>\n",
       "      <th></th>\n",
       "      <th></th>\n",
       "      <th></th>\n",
       "      <th></th>\n",
       "      <th></th>\n",
       "      <th></th>\n",
       "      <th></th>\n",
       "      <th></th>\n",
       "      <th></th>\n",
       "      <th></th>\n",
       "      <th></th>\n",
       "      <th></th>\n",
       "      <th></th>\n",
       "      <th></th>\n",
       "      <th></th>\n",
       "      <th></th>\n",
       "      <th></th>\n",
       "      <th></th>\n",
       "      <th></th>\n",
       "    </tr>\n",
       "  </thead>\n",
       "  <tbody>\n",
       "    <tr>\n",
       "      <th>Arica y Parinacota</th>\n",
       "      <td>0</td>\n",
       "      <td>0</td>\n",
       "      <td>0</td>\n",
       "      <td>0</td>\n",
       "      <td>0</td>\n",
       "      <td>0</td>\n",
       "      <td>0</td>\n",
       "      <td>0</td>\n",
       "      <td>0</td>\n",
       "      <td>0</td>\n",
       "      <td>...</td>\n",
       "      <td>7</td>\n",
       "      <td>7</td>\n",
       "      <td>7</td>\n",
       "      <td>7</td>\n",
       "      <td>8</td>\n",
       "      <td>8</td>\n",
       "      <td>8</td>\n",
       "      <td>8</td>\n",
       "      <td>9</td>\n",
       "      <td>9</td>\n",
       "    </tr>\n",
       "    <tr>\n",
       "      <th>Tarapacá</th>\n",
       "      <td>0</td>\n",
       "      <td>0</td>\n",
       "      <td>0</td>\n",
       "      <td>0</td>\n",
       "      <td>0</td>\n",
       "      <td>0</td>\n",
       "      <td>0</td>\n",
       "      <td>0</td>\n",
       "      <td>0</td>\n",
       "      <td>0</td>\n",
       "      <td>...</td>\n",
       "      <td>12</td>\n",
       "      <td>14</td>\n",
       "      <td>18</td>\n",
       "      <td>21</td>\n",
       "      <td>22</td>\n",
       "      <td>23</td>\n",
       "      <td>28</td>\n",
       "      <td>28</td>\n",
       "      <td>28</td>\n",
       "      <td>30</td>\n",
       "    </tr>\n",
       "    <tr>\n",
       "      <th>Antofagasta</th>\n",
       "      <td>0</td>\n",
       "      <td>0</td>\n",
       "      <td>0</td>\n",
       "      <td>0</td>\n",
       "      <td>0</td>\n",
       "      <td>0</td>\n",
       "      <td>0</td>\n",
       "      <td>0</td>\n",
       "      <td>0</td>\n",
       "      <td>0</td>\n",
       "      <td>...</td>\n",
       "      <td>28</td>\n",
       "      <td>28</td>\n",
       "      <td>29</td>\n",
       "      <td>31</td>\n",
       "      <td>32</td>\n",
       "      <td>34</td>\n",
       "      <td>36</td>\n",
       "      <td>38</td>\n",
       "      <td>42</td>\n",
       "      <td>47</td>\n",
       "    </tr>\n",
       "    <tr>\n",
       "      <th>Atacama</th>\n",
       "      <td>0</td>\n",
       "      <td>0</td>\n",
       "      <td>0</td>\n",
       "      <td>0</td>\n",
       "      <td>0</td>\n",
       "      <td>0</td>\n",
       "      <td>0</td>\n",
       "      <td>0</td>\n",
       "      <td>0</td>\n",
       "      <td>0</td>\n",
       "      <td>...</td>\n",
       "      <td>0</td>\n",
       "      <td>0</td>\n",
       "      <td>0</td>\n",
       "      <td>0</td>\n",
       "      <td>0</td>\n",
       "      <td>0</td>\n",
       "      <td>0</td>\n",
       "      <td>0</td>\n",
       "      <td>0</td>\n",
       "      <td>0</td>\n",
       "    </tr>\n",
       "    <tr>\n",
       "      <th>Coquimbo</th>\n",
       "      <td>0</td>\n",
       "      <td>0</td>\n",
       "      <td>0</td>\n",
       "      <td>0</td>\n",
       "      <td>0</td>\n",
       "      <td>0</td>\n",
       "      <td>0</td>\n",
       "      <td>0</td>\n",
       "      <td>0</td>\n",
       "      <td>0</td>\n",
       "      <td>...</td>\n",
       "      <td>2</td>\n",
       "      <td>2</td>\n",
       "      <td>2</td>\n",
       "      <td>2</td>\n",
       "      <td>2</td>\n",
       "      <td>2</td>\n",
       "      <td>4</td>\n",
       "      <td>4</td>\n",
       "      <td>5</td>\n",
       "      <td>5</td>\n",
       "    </tr>\n",
       "    <tr>\n",
       "      <th>Valparaíso</th>\n",
       "      <td>0</td>\n",
       "      <td>0</td>\n",
       "      <td>0</td>\n",
       "      <td>0</td>\n",
       "      <td>0</td>\n",
       "      <td>0</td>\n",
       "      <td>0</td>\n",
       "      <td>1</td>\n",
       "      <td>1</td>\n",
       "      <td>1</td>\n",
       "      <td>...</td>\n",
       "      <td>60</td>\n",
       "      <td>61</td>\n",
       "      <td>63</td>\n",
       "      <td>66</td>\n",
       "      <td>70</td>\n",
       "      <td>72</td>\n",
       "      <td>77</td>\n",
       "      <td>78</td>\n",
       "      <td>88</td>\n",
       "      <td>91</td>\n",
       "    </tr>\n",
       "    <tr>\n",
       "      <th>Metropolitana</th>\n",
       "      <td>2</td>\n",
       "      <td>2</td>\n",
       "      <td>3</td>\n",
       "      <td>3</td>\n",
       "      <td>3</td>\n",
       "      <td>3</td>\n",
       "      <td>3</td>\n",
       "      <td>4</td>\n",
       "      <td>5</td>\n",
       "      <td>6</td>\n",
       "      <td>...</td>\n",
       "      <td>638</td>\n",
       "      <td>685</td>\n",
       "      <td>728</td>\n",
       "      <td>775</td>\n",
       "      <td>824</td>\n",
       "      <td>894</td>\n",
       "      <td>961</td>\n",
       "      <td>1034</td>\n",
       "      <td>1105</td>\n",
       "      <td>1184</td>\n",
       "    </tr>\n",
       "    <tr>\n",
       "      <th>O’Higgins</th>\n",
       "      <td>0</td>\n",
       "      <td>0</td>\n",
       "      <td>0</td>\n",
       "      <td>0</td>\n",
       "      <td>0</td>\n",
       "      <td>0</td>\n",
       "      <td>0</td>\n",
       "      <td>0</td>\n",
       "      <td>0</td>\n",
       "      <td>0</td>\n",
       "      <td>...</td>\n",
       "      <td>14</td>\n",
       "      <td>14</td>\n",
       "      <td>16</td>\n",
       "      <td>18</td>\n",
       "      <td>18</td>\n",
       "      <td>18</td>\n",
       "      <td>20</td>\n",
       "      <td>21</td>\n",
       "      <td>22</td>\n",
       "      <td>25</td>\n",
       "    </tr>\n",
       "    <tr>\n",
       "      <th>Maule</th>\n",
       "      <td>0</td>\n",
       "      <td>0</td>\n",
       "      <td>0</td>\n",
       "      <td>0</td>\n",
       "      <td>0</td>\n",
       "      <td>0</td>\n",
       "      <td>1</td>\n",
       "      <td>1</td>\n",
       "      <td>1</td>\n",
       "      <td>1</td>\n",
       "      <td>...</td>\n",
       "      <td>15</td>\n",
       "      <td>15</td>\n",
       "      <td>15</td>\n",
       "      <td>15</td>\n",
       "      <td>17</td>\n",
       "      <td>17</td>\n",
       "      <td>19</td>\n",
       "      <td>21</td>\n",
       "      <td>24</td>\n",
       "      <td>24</td>\n",
       "    </tr>\n",
       "    <tr>\n",
       "      <th>Ñuble</th>\n",
       "      <td>0</td>\n",
       "      <td>0</td>\n",
       "      <td>0</td>\n",
       "      <td>0</td>\n",
       "      <td>0</td>\n",
       "      <td>0</td>\n",
       "      <td>0</td>\n",
       "      <td>0</td>\n",
       "      <td>0</td>\n",
       "      <td>0</td>\n",
       "      <td>...</td>\n",
       "      <td>22</td>\n",
       "      <td>22</td>\n",
       "      <td>23</td>\n",
       "      <td>23</td>\n",
       "      <td>23</td>\n",
       "      <td>23</td>\n",
       "      <td>24</td>\n",
       "      <td>24</td>\n",
       "      <td>24</td>\n",
       "      <td>24</td>\n",
       "    </tr>\n",
       "    <tr>\n",
       "      <th>Biobío</th>\n",
       "      <td>0</td>\n",
       "      <td>1</td>\n",
       "      <td>1</td>\n",
       "      <td>2</td>\n",
       "      <td>2</td>\n",
       "      <td>2</td>\n",
       "      <td>2</td>\n",
       "      <td>2</td>\n",
       "      <td>2</td>\n",
       "      <td>2</td>\n",
       "      <td>...</td>\n",
       "      <td>10</td>\n",
       "      <td>11</td>\n",
       "      <td>11</td>\n",
       "      <td>11</td>\n",
       "      <td>11</td>\n",
       "      <td>11</td>\n",
       "      <td>11</td>\n",
       "      <td>13</td>\n",
       "      <td>13</td>\n",
       "      <td>13</td>\n",
       "    </tr>\n",
       "    <tr>\n",
       "      <th>Araucanía</th>\n",
       "      <td>0</td>\n",
       "      <td>0</td>\n",
       "      <td>0</td>\n",
       "      <td>0</td>\n",
       "      <td>1</td>\n",
       "      <td>2</td>\n",
       "      <td>2</td>\n",
       "      <td>4</td>\n",
       "      <td>6</td>\n",
       "      <td>7</td>\n",
       "      <td>...</td>\n",
       "      <td>45</td>\n",
       "      <td>47</td>\n",
       "      <td>47</td>\n",
       "      <td>47</td>\n",
       "      <td>47</td>\n",
       "      <td>47</td>\n",
       "      <td>47</td>\n",
       "      <td>47</td>\n",
       "      <td>48</td>\n",
       "      <td>49</td>\n",
       "    </tr>\n",
       "    <tr>\n",
       "      <th>Los Ríos</th>\n",
       "      <td>0</td>\n",
       "      <td>0</td>\n",
       "      <td>0</td>\n",
       "      <td>0</td>\n",
       "      <td>0</td>\n",
       "      <td>0</td>\n",
       "      <td>0</td>\n",
       "      <td>0</td>\n",
       "      <td>1</td>\n",
       "      <td>1</td>\n",
       "      <td>...</td>\n",
       "      <td>6</td>\n",
       "      <td>6</td>\n",
       "      <td>6</td>\n",
       "      <td>6</td>\n",
       "      <td>7</td>\n",
       "      <td>7</td>\n",
       "      <td>8</td>\n",
       "      <td>8</td>\n",
       "      <td>8</td>\n",
       "      <td>8</td>\n",
       "    </tr>\n",
       "    <tr>\n",
       "      <th>Los Lagos</th>\n",
       "      <td>0</td>\n",
       "      <td>0</td>\n",
       "      <td>0</td>\n",
       "      <td>0</td>\n",
       "      <td>0</td>\n",
       "      <td>0</td>\n",
       "      <td>0</td>\n",
       "      <td>0</td>\n",
       "      <td>0</td>\n",
       "      <td>0</td>\n",
       "      <td>...</td>\n",
       "      <td>13</td>\n",
       "      <td>13</td>\n",
       "      <td>13</td>\n",
       "      <td>13</td>\n",
       "      <td>13</td>\n",
       "      <td>13</td>\n",
       "      <td>13</td>\n",
       "      <td>13</td>\n",
       "      <td>13</td>\n",
       "      <td>13</td>\n",
       "    </tr>\n",
       "    <tr>\n",
       "      <th>Aysén</th>\n",
       "      <td>0</td>\n",
       "      <td>0</td>\n",
       "      <td>0</td>\n",
       "      <td>0</td>\n",
       "      <td>0</td>\n",
       "      <td>0</td>\n",
       "      <td>0</td>\n",
       "      <td>0</td>\n",
       "      <td>0</td>\n",
       "      <td>0</td>\n",
       "      <td>...</td>\n",
       "      <td>0</td>\n",
       "      <td>0</td>\n",
       "      <td>0</td>\n",
       "      <td>0</td>\n",
       "      <td>0</td>\n",
       "      <td>0</td>\n",
       "      <td>0</td>\n",
       "      <td>0</td>\n",
       "      <td>0</td>\n",
       "      <td>0</td>\n",
       "    </tr>\n",
       "    <tr>\n",
       "      <th>Magallanes</th>\n",
       "      <td>0</td>\n",
       "      <td>0</td>\n",
       "      <td>0</td>\n",
       "      <td>0</td>\n",
       "      <td>0</td>\n",
       "      <td>0</td>\n",
       "      <td>0</td>\n",
       "      <td>0</td>\n",
       "      <td>0</td>\n",
       "      <td>0</td>\n",
       "      <td>...</td>\n",
       "      <td>18</td>\n",
       "      <td>19</td>\n",
       "      <td>19</td>\n",
       "      <td>19</td>\n",
       "      <td>19</td>\n",
       "      <td>19</td>\n",
       "      <td>19</td>\n",
       "      <td>19</td>\n",
       "      <td>19</td>\n",
       "      <td>19</td>\n",
       "    </tr>\n",
       "    <tr>\n",
       "      <th>Total</th>\n",
       "      <td>2</td>\n",
       "      <td>3</td>\n",
       "      <td>4</td>\n",
       "      <td>5</td>\n",
       "      <td>6</td>\n",
       "      <td>7</td>\n",
       "      <td>8</td>\n",
       "      <td>12</td>\n",
       "      <td>16</td>\n",
       "      <td>18</td>\n",
       "      <td>...</td>\n",
       "      <td>890</td>\n",
       "      <td>944</td>\n",
       "      <td>997</td>\n",
       "      <td>1054</td>\n",
       "      <td>1113</td>\n",
       "      <td>1188</td>\n",
       "      <td>1275</td>\n",
       "      <td>1356</td>\n",
       "      <td>1448</td>\n",
       "      <td>1541</td>\n",
       "    </tr>\n",
       "  </tbody>\n",
       "</table>\n",
       "<p>17 rows × 75 columns</p>\n",
       "</div>"
      ],
      "text/plain": [
       "                    2020-03-24  2020-03-25  2020-03-26  2020-03-27  \\\n",
       "Region                                                               \n",
       "Arica y Parinacota           0           0           0           0   \n",
       "Tarapacá                     0           0           0           0   \n",
       "Antofagasta                  0           0           0           0   \n",
       "Atacama                      0           0           0           0   \n",
       "Coquimbo                     0           0           0           0   \n",
       "Valparaíso                   0           0           0           0   \n",
       "Metropolitana                2           2           3           3   \n",
       "O’Higgins                    0           0           0           0   \n",
       "Maule                        0           0           0           0   \n",
       "Ñuble                        0           0           0           0   \n",
       "Biobío                       0           1           1           2   \n",
       "Araucanía                    0           0           0           0   \n",
       "Los Ríos                     0           0           0           0   \n",
       "Los Lagos                    0           0           0           0   \n",
       "Aysén                        0           0           0           0   \n",
       "Magallanes                   0           0           0           0   \n",
       "Total                        2           3           4           5   \n",
       "\n",
       "                    2020-03-28  2020-03-29  2020-03-30  2020-03-31  \\\n",
       "Region                                                               \n",
       "Arica y Parinacota           0           0           0           0   \n",
       "Tarapacá                     0           0           0           0   \n",
       "Antofagasta                  0           0           0           0   \n",
       "Atacama                      0           0           0           0   \n",
       "Coquimbo                     0           0           0           0   \n",
       "Valparaíso                   0           0           0           1   \n",
       "Metropolitana                3           3           3           4   \n",
       "O’Higgins                    0           0           0           0   \n",
       "Maule                        0           0           1           1   \n",
       "Ñuble                        0           0           0           0   \n",
       "Biobío                       2           2           2           2   \n",
       "Araucanía                    1           2           2           4   \n",
       "Los Ríos                     0           0           0           0   \n",
       "Los Lagos                    0           0           0           0   \n",
       "Aysén                        0           0           0           0   \n",
       "Magallanes                   0           0           0           0   \n",
       "Total                        6           7           8          12   \n",
       "\n",
       "                    2020-04-01  2020-04-02  ...  2020-05-28  2020-05-29  \\\n",
       "Region                                      ...                           \n",
       "Arica y Parinacota           0           0  ...           7           7   \n",
       "Tarapacá                     0           0  ...          12          14   \n",
       "Antofagasta                  0           0  ...          28          28   \n",
       "Atacama                      0           0  ...           0           0   \n",
       "Coquimbo                     0           0  ...           2           2   \n",
       "Valparaíso                   1           1  ...          60          61   \n",
       "Metropolitana                5           6  ...         638         685   \n",
       "O’Higgins                    0           0  ...          14          14   \n",
       "Maule                        1           1  ...          15          15   \n",
       "Ñuble                        0           0  ...          22          22   \n",
       "Biobío                       2           2  ...          10          11   \n",
       "Araucanía                    6           7  ...          45          47   \n",
       "Los Ríos                     1           1  ...           6           6   \n",
       "Los Lagos                    0           0  ...          13          13   \n",
       "Aysén                        0           0  ...           0           0   \n",
       "Magallanes                   0           0  ...          18          19   \n",
       "Total                       16          18  ...         890         944   \n",
       "\n",
       "                    2020-05-30  2020-05-31  2020-06-01  2020-06-02  \\\n",
       "Region                                                               \n",
       "Arica y Parinacota           7           7           8           8   \n",
       "Tarapacá                    18          21          22          23   \n",
       "Antofagasta                 29          31          32          34   \n",
       "Atacama                      0           0           0           0   \n",
       "Coquimbo                     2           2           2           2   \n",
       "Valparaíso                  63          66          70          72   \n",
       "Metropolitana              728         775         824         894   \n",
       "O’Higgins                   16          18          18          18   \n",
       "Maule                       15          15          17          17   \n",
       "Ñuble                       23          23          23          23   \n",
       "Biobío                      11          11          11          11   \n",
       "Araucanía                   47          47          47          47   \n",
       "Los Ríos                     6           6           7           7   \n",
       "Los Lagos                   13          13          13          13   \n",
       "Aysén                        0           0           0           0   \n",
       "Magallanes                  19          19          19          19   \n",
       "Total                      997        1054        1113        1188   \n",
       "\n",
       "                    2020-06-03  2020-06-04  2020-06-05  2020-06-06  \n",
       "Region                                                              \n",
       "Arica y Parinacota           8           8           9           9  \n",
       "Tarapacá                    28          28          28          30  \n",
       "Antofagasta                 36          38          42          47  \n",
       "Atacama                      0           0           0           0  \n",
       "Coquimbo                     4           4           5           5  \n",
       "Valparaíso                  77          78          88          91  \n",
       "Metropolitana              961        1034        1105        1184  \n",
       "O’Higgins                   20          21          22          25  \n",
       "Maule                       19          21          24          24  \n",
       "Ñuble                       24          24          24          24  \n",
       "Biobío                      11          13          13          13  \n",
       "Araucanía                   47          47          48          49  \n",
       "Los Ríos                     8           8           8           8  \n",
       "Los Lagos                   13          13          13          13  \n",
       "Aysén                        0           0           0           0  \n",
       "Magallanes                  19          19          19          19  \n",
       "Total                     1275        1356        1448        1541  \n",
       "\n",
       "[17 rows x 75 columns]"
      ]
     },
     "execution_count": 146,
     "metadata": {},
     "output_type": "execute_result"
    }
   ],
   "source": [
    "#hide\n",
    "data"
   ]
  },
  {
   "cell_type": "markdown",
   "metadata": {},
   "source": [
    "# Exceso de mortalidad en la R.M."
   ]
  },
  {
   "cell_type": "code",
   "execution_count": 192,
   "metadata": {},
   "outputs": [],
   "source": [
    "#hide\n",
    "# Defunciones inscritas en la R.M.\n",
    "deaths = deaths_raw.query(\"Region == 'Metropolitana de Santiago'\").drop(columns=[\"Region\", \"Codigo region\", \"Comuna\", \"Codigo comuna\"]).sum()"
   ]
  },
  {
   "cell_type": "code",
   "execution_count": 193,
   "metadata": {
    "colab": {
     "base_uri": "https://localhost:8080/",
     "height": 34
    },
    "colab_type": "code",
    "id": "LdPJZBSiVsaQ",
    "outputId": "8e954194-4a07-43b9-b7f1-708de285e406"
   },
   "outputs": [
    {
     "data": {
      "text/plain": [
       "'2020-06-05'"
      ]
     },
     "execution_count": 193,
     "metadata": {},
     "output_type": "execute_result"
    }
   ],
   "source": [
    "#hide\n",
    "# sort rows by date/index\n",
    "deaths.index = pd.to_datetime(deaths.index)\n",
    "deaths = deaths.sort_index()\n",
    "last_day = deaths.index[-1]\n",
    "last_day.strftime(\"%Y-%m-%d\")"
   ]
  },
  {
   "cell_type": "code",
   "execution_count": 194,
   "metadata": {
    "colab": {},
    "colab_type": "code",
    "id": "PUH-w_ftbA1j"
   },
   "outputs": [],
   "source": [
    "#hide\n",
    "deaths = (deaths\n",
    "          .reset_index()\n",
    "          .rename(columns={\"index\": \"fecha\", 0: \"fallecidos\"})\n",
    "          )"
   ]
  },
  {
   "cell_type": "code",
   "execution_count": 195,
   "metadata": {
    "colab": {},
    "colab_type": "code",
    "id": "d1lY2mLvbidc"
   },
   "outputs": [],
   "source": [
    "#hide\n",
    "def get_isoyear_isoweek(row):\n",
    "    isoyear, isoweek, _ = row[\"fecha\"].isocalendar()\n",
    "    return pd.Series({\"año\": isoyear, \"semana\": isoweek})"
   ]
  },
  {
   "cell_type": "code",
   "execution_count": 196,
   "metadata": {
    "colab": {},
    "colab_type": "code",
    "id": "JePVFAVAb72z"
   },
   "outputs": [],
   "source": [
    "#hide\n",
    "deaths[[\"año\", \"semana\"]] = deaths.apply(get_isoyear_isoweek, axis=\"columns\")"
   ]
  },
  {
   "cell_type": "code",
   "execution_count": 197,
   "metadata": {
    "colab": {},
    "colab_type": "code",
    "id": "yhZw2DjScERS"
   },
   "outputs": [],
   "source": [
    "#hide\n",
    "deaths_year_week = (deaths\n",
    "                    .drop(columns=[\"fecha\"])\n",
    "                    .groupby([\"año\", \"semana\"])\n",
    "                    .sum()\n",
    "                    [\"fallecidos\"]\n",
    "                    .unstack()\n",
    "                    .astype(\"Float16\")\n",
    "                    )"
   ]
  },
  {
   "cell_type": "code",
   "execution_count": 198,
   "metadata": {
    "colab": {},
    "colab_type": "code",
    "id": "UwjXuH4Gcqgm"
   },
   "outputs": [],
   "source": [
    "#hide\n",
    "deaths_year_week = deaths_year_week.iloc[1:,:-1]"
   ]
  },
  {
   "cell_type": "code",
   "execution_count": 199,
   "metadata": {
    "colab": {
     "base_uri": "https://localhost:8080/",
     "height": 446
    },
    "colab_type": "code",
    "id": "Tt8ggjKdcHJP",
    "outputId": "80519779-6d7b-4e56-a9bc-3a377b75c07a",
    "scrolled": false
   },
   "outputs": [
    {
     "data": {
      "text/html": [
       "<div>\n",
       "<style scoped>\n",
       "    .dataframe tbody tr th:only-of-type {\n",
       "        vertical-align: middle;\n",
       "    }\n",
       "\n",
       "    .dataframe tbody tr th {\n",
       "        vertical-align: top;\n",
       "    }\n",
       "\n",
       "    .dataframe thead th {\n",
       "        text-align: right;\n",
       "    }\n",
       "</style>\n",
       "<table border=\"1\" class=\"dataframe\">\n",
       "  <thead>\n",
       "    <tr style=\"text-align: right;\">\n",
       "      <th>semana</th>\n",
       "      <th>1</th>\n",
       "      <th>2</th>\n",
       "      <th>3</th>\n",
       "      <th>4</th>\n",
       "      <th>5</th>\n",
       "      <th>6</th>\n",
       "      <th>7</th>\n",
       "      <th>8</th>\n",
       "      <th>9</th>\n",
       "      <th>10</th>\n",
       "      <th>...</th>\n",
       "      <th>43</th>\n",
       "      <th>44</th>\n",
       "      <th>45</th>\n",
       "      <th>46</th>\n",
       "      <th>47</th>\n",
       "      <th>48</th>\n",
       "      <th>49</th>\n",
       "      <th>50</th>\n",
       "      <th>51</th>\n",
       "      <th>52</th>\n",
       "    </tr>\n",
       "    <tr>\n",
       "      <th>año</th>\n",
       "      <th></th>\n",
       "      <th></th>\n",
       "      <th></th>\n",
       "      <th></th>\n",
       "      <th></th>\n",
       "      <th></th>\n",
       "      <th></th>\n",
       "      <th></th>\n",
       "      <th></th>\n",
       "      <th></th>\n",
       "      <th></th>\n",
       "      <th></th>\n",
       "      <th></th>\n",
       "      <th></th>\n",
       "      <th></th>\n",
       "      <th></th>\n",
       "      <th></th>\n",
       "      <th></th>\n",
       "      <th></th>\n",
       "      <th></th>\n",
       "      <th></th>\n",
       "    </tr>\n",
       "  </thead>\n",
       "  <tbody>\n",
       "    <tr>\n",
       "      <th>2010</th>\n",
       "      <td>606.0</td>\n",
       "      <td>614.0</td>\n",
       "      <td>685.0</td>\n",
       "      <td>644.0</td>\n",
       "      <td>616.0</td>\n",
       "      <td>599.0</td>\n",
       "      <td>664.0</td>\n",
       "      <td>567.0</td>\n",
       "      <td>677.0</td>\n",
       "      <td>626.0</td>\n",
       "      <td>...</td>\n",
       "      <td>705.0</td>\n",
       "      <td>651.0</td>\n",
       "      <td>625.0</td>\n",
       "      <td>613.0</td>\n",
       "      <td>671.0</td>\n",
       "      <td>601.0</td>\n",
       "      <td>704.0</td>\n",
       "      <td>599.0</td>\n",
       "      <td>622.0</td>\n",
       "      <td>675.0</td>\n",
       "    </tr>\n",
       "    <tr>\n",
       "      <th>2011</th>\n",
       "      <td>682.0</td>\n",
       "      <td>645.0</td>\n",
       "      <td>672.0</td>\n",
       "      <td>722.0</td>\n",
       "      <td>683.0</td>\n",
       "      <td>614.0</td>\n",
       "      <td>561.0</td>\n",
       "      <td>634.0</td>\n",
       "      <td>624.0</td>\n",
       "      <td>551.0</td>\n",
       "      <td>...</td>\n",
       "      <td>651.0</td>\n",
       "      <td>615.0</td>\n",
       "      <td>658.0</td>\n",
       "      <td>627.0</td>\n",
       "      <td>692.0</td>\n",
       "      <td>644.0</td>\n",
       "      <td>638.0</td>\n",
       "      <td>648.0</td>\n",
       "      <td>618.0</td>\n",
       "      <td>714.0</td>\n",
       "    </tr>\n",
       "    <tr>\n",
       "      <th>2012</th>\n",
       "      <td>781.0</td>\n",
       "      <td>675.0</td>\n",
       "      <td>621.0</td>\n",
       "      <td>628.0</td>\n",
       "      <td>705.0</td>\n",
       "      <td>654.0</td>\n",
       "      <td>608.0</td>\n",
       "      <td>589.0</td>\n",
       "      <td>644.0</td>\n",
       "      <td>657.0</td>\n",
       "      <td>...</td>\n",
       "      <td>708.0</td>\n",
       "      <td>723.0</td>\n",
       "      <td>713.0</td>\n",
       "      <td>647.0</td>\n",
       "      <td>665.0</td>\n",
       "      <td>689.0</td>\n",
       "      <td>694.0</td>\n",
       "      <td>645.0</td>\n",
       "      <td>713.0</td>\n",
       "      <td>698.0</td>\n",
       "    </tr>\n",
       "    <tr>\n",
       "      <th>2013</th>\n",
       "      <td>713.0</td>\n",
       "      <td>687.0</td>\n",
       "      <td>627.0</td>\n",
       "      <td>652.0</td>\n",
       "      <td>637.0</td>\n",
       "      <td>714.0</td>\n",
       "      <td>623.0</td>\n",
       "      <td>636.0</td>\n",
       "      <td>691.0</td>\n",
       "      <td>693.0</td>\n",
       "      <td>...</td>\n",
       "      <td>692.0</td>\n",
       "      <td>673.0</td>\n",
       "      <td>693.0</td>\n",
       "      <td>699.0</td>\n",
       "      <td>786.0</td>\n",
       "      <td>648.0</td>\n",
       "      <td>682.0</td>\n",
       "      <td>609.0</td>\n",
       "      <td>731.0</td>\n",
       "      <td>697.0</td>\n",
       "    </tr>\n",
       "    <tr>\n",
       "      <th>2014</th>\n",
       "      <td>701.0</td>\n",
       "      <td>764.0</td>\n",
       "      <td>723.0</td>\n",
       "      <td>682.0</td>\n",
       "      <td>625.0</td>\n",
       "      <td>637.0</td>\n",
       "      <td>629.0</td>\n",
       "      <td>639.0</td>\n",
       "      <td>625.0</td>\n",
       "      <td>605.0</td>\n",
       "      <td>...</td>\n",
       "      <td>741.0</td>\n",
       "      <td>667.0</td>\n",
       "      <td>785.0</td>\n",
       "      <td>761.0</td>\n",
       "      <td>732.0</td>\n",
       "      <td>737.0</td>\n",
       "      <td>684.0</td>\n",
       "      <td>662.0</td>\n",
       "      <td>693.0</td>\n",
       "      <td>713.0</td>\n",
       "    </tr>\n",
       "    <tr>\n",
       "      <th>2015</th>\n",
       "      <td>681.0</td>\n",
       "      <td>749.0</td>\n",
       "      <td>715.0</td>\n",
       "      <td>622.0</td>\n",
       "      <td>673.0</td>\n",
       "      <td>699.0</td>\n",
       "      <td>706.0</td>\n",
       "      <td>685.0</td>\n",
       "      <td>618.0</td>\n",
       "      <td>645.0</td>\n",
       "      <td>...</td>\n",
       "      <td>743.0</td>\n",
       "      <td>654.0</td>\n",
       "      <td>721.0</td>\n",
       "      <td>823.0</td>\n",
       "      <td>763.0</td>\n",
       "      <td>704.0</td>\n",
       "      <td>745.0</td>\n",
       "      <td>726.0</td>\n",
       "      <td>722.0</td>\n",
       "      <td>702.0</td>\n",
       "    </tr>\n",
       "    <tr>\n",
       "      <th>2016</th>\n",
       "      <td>788.0</td>\n",
       "      <td>730.0</td>\n",
       "      <td>720.0</td>\n",
       "      <td>693.0</td>\n",
       "      <td>662.0</td>\n",
       "      <td>609.0</td>\n",
       "      <td>663.0</td>\n",
       "      <td>714.0</td>\n",
       "      <td>729.0</td>\n",
       "      <td>655.0</td>\n",
       "      <td>...</td>\n",
       "      <td>807.0</td>\n",
       "      <td>707.0</td>\n",
       "      <td>719.0</td>\n",
       "      <td>676.0</td>\n",
       "      <td>625.0</td>\n",
       "      <td>671.0</td>\n",
       "      <td>678.0</td>\n",
       "      <td>740.0</td>\n",
       "      <td>617.0</td>\n",
       "      <td>654.0</td>\n",
       "    </tr>\n",
       "    <tr>\n",
       "      <th>2017</th>\n",
       "      <td>754.0</td>\n",
       "      <td>677.0</td>\n",
       "      <td>760.0</td>\n",
       "      <td>812.0</td>\n",
       "      <td>760.0</td>\n",
       "      <td>661.0</td>\n",
       "      <td>667.0</td>\n",
       "      <td>721.0</td>\n",
       "      <td>685.0</td>\n",
       "      <td>643.0</td>\n",
       "      <td>...</td>\n",
       "      <td>720.0</td>\n",
       "      <td>676.0</td>\n",
       "      <td>728.0</td>\n",
       "      <td>678.0</td>\n",
       "      <td>750.0</td>\n",
       "      <td>677.0</td>\n",
       "      <td>669.0</td>\n",
       "      <td>688.0</td>\n",
       "      <td>793.0</td>\n",
       "      <td>783.0</td>\n",
       "    </tr>\n",
       "    <tr>\n",
       "      <th>2018</th>\n",
       "      <td>669.0</td>\n",
       "      <td>691.0</td>\n",
       "      <td>614.0</td>\n",
       "      <td>593.0</td>\n",
       "      <td>685.0</td>\n",
       "      <td>701.0</td>\n",
       "      <td>696.0</td>\n",
       "      <td>687.0</td>\n",
       "      <td>620.0</td>\n",
       "      <td>726.0</td>\n",
       "      <td>...</td>\n",
       "      <td>796.0</td>\n",
       "      <td>701.0</td>\n",
       "      <td>783.0</td>\n",
       "      <td>729.0</td>\n",
       "      <td>775.0</td>\n",
       "      <td>674.0</td>\n",
       "      <td>740.0</td>\n",
       "      <td>696.0</td>\n",
       "      <td>766.0</td>\n",
       "      <td>712.0</td>\n",
       "    </tr>\n",
       "    <tr>\n",
       "      <th>2019</th>\n",
       "      <td>733.0</td>\n",
       "      <td>678.0</td>\n",
       "      <td>668.0</td>\n",
       "      <td>742.0</td>\n",
       "      <td>779.0</td>\n",
       "      <td>757.0</td>\n",
       "      <td>705.0</td>\n",
       "      <td>674.0</td>\n",
       "      <td>720.0</td>\n",
       "      <td>656.0</td>\n",
       "      <td>...</td>\n",
       "      <td>760.0</td>\n",
       "      <td>817.0</td>\n",
       "      <td>793.0</td>\n",
       "      <td>744.0</td>\n",
       "      <td>789.0</td>\n",
       "      <td>740.0</td>\n",
       "      <td>763.0</td>\n",
       "      <td>683.0</td>\n",
       "      <td>707.0</td>\n",
       "      <td>734.0</td>\n",
       "    </tr>\n",
       "    <tr>\n",
       "      <th>2020</th>\n",
       "      <td>825.0</td>\n",
       "      <td>784.0</td>\n",
       "      <td>751.0</td>\n",
       "      <td>724.0</td>\n",
       "      <td>767.0</td>\n",
       "      <td>683.0</td>\n",
       "      <td>706.0</td>\n",
       "      <td>616.0</td>\n",
       "      <td>643.0</td>\n",
       "      <td>808.0</td>\n",
       "      <td>...</td>\n",
       "      <td>NaN</td>\n",
       "      <td>NaN</td>\n",
       "      <td>NaN</td>\n",
       "      <td>NaN</td>\n",
       "      <td>NaN</td>\n",
       "      <td>NaN</td>\n",
       "      <td>NaN</td>\n",
       "      <td>NaN</td>\n",
       "      <td>NaN</td>\n",
       "      <td>NaN</td>\n",
       "    </tr>\n",
       "  </tbody>\n",
       "</table>\n",
       "<p>11 rows × 52 columns</p>\n",
       "</div>"
      ],
      "text/plain": [
       "semana     1      2      3      4      5      6      7      8      9      10  \\\n",
       "año                                                                            \n",
       "2010    606.0  614.0  685.0  644.0  616.0  599.0  664.0  567.0  677.0  626.0   \n",
       "2011    682.0  645.0  672.0  722.0  683.0  614.0  561.0  634.0  624.0  551.0   \n",
       "2012    781.0  675.0  621.0  628.0  705.0  654.0  608.0  589.0  644.0  657.0   \n",
       "2013    713.0  687.0  627.0  652.0  637.0  714.0  623.0  636.0  691.0  693.0   \n",
       "2014    701.0  764.0  723.0  682.0  625.0  637.0  629.0  639.0  625.0  605.0   \n",
       "2015    681.0  749.0  715.0  622.0  673.0  699.0  706.0  685.0  618.0  645.0   \n",
       "2016    788.0  730.0  720.0  693.0  662.0  609.0  663.0  714.0  729.0  655.0   \n",
       "2017    754.0  677.0  760.0  812.0  760.0  661.0  667.0  721.0  685.0  643.0   \n",
       "2018    669.0  691.0  614.0  593.0  685.0  701.0  696.0  687.0  620.0  726.0   \n",
       "2019    733.0  678.0  668.0  742.0  779.0  757.0  705.0  674.0  720.0  656.0   \n",
       "2020    825.0  784.0  751.0  724.0  767.0  683.0  706.0  616.0  643.0  808.0   \n",
       "\n",
       "semana  ...     43     44     45     46     47     48     49     50     51  \\\n",
       "año     ...                                                                  \n",
       "2010    ...  705.0  651.0  625.0  613.0  671.0  601.0  704.0  599.0  622.0   \n",
       "2011    ...  651.0  615.0  658.0  627.0  692.0  644.0  638.0  648.0  618.0   \n",
       "2012    ...  708.0  723.0  713.0  647.0  665.0  689.0  694.0  645.0  713.0   \n",
       "2013    ...  692.0  673.0  693.0  699.0  786.0  648.0  682.0  609.0  731.0   \n",
       "2014    ...  741.0  667.0  785.0  761.0  732.0  737.0  684.0  662.0  693.0   \n",
       "2015    ...  743.0  654.0  721.0  823.0  763.0  704.0  745.0  726.0  722.0   \n",
       "2016    ...  807.0  707.0  719.0  676.0  625.0  671.0  678.0  740.0  617.0   \n",
       "2017    ...  720.0  676.0  728.0  678.0  750.0  677.0  669.0  688.0  793.0   \n",
       "2018    ...  796.0  701.0  783.0  729.0  775.0  674.0  740.0  696.0  766.0   \n",
       "2019    ...  760.0  817.0  793.0  744.0  789.0  740.0  763.0  683.0  707.0   \n",
       "2020    ...    NaN    NaN    NaN    NaN    NaN    NaN    NaN    NaN    NaN   \n",
       "\n",
       "semana     52  \n",
       "año            \n",
       "2010    675.0  \n",
       "2011    714.0  \n",
       "2012    698.0  \n",
       "2013    697.0  \n",
       "2014    713.0  \n",
       "2015    702.0  \n",
       "2016    654.0  \n",
       "2017    783.0  \n",
       "2018    712.0  \n",
       "2019    734.0  \n",
       "2020      NaN  \n",
       "\n",
       "[11 rows x 52 columns]"
      ]
     },
     "execution_count": 199,
     "metadata": {},
     "output_type": "execute_result"
    }
   ],
   "source": [
    "#hide\n",
    "deaths_year_week"
   ]
  },
  {
   "cell_type": "code",
   "execution_count": 200,
   "metadata": {},
   "outputs": [],
   "source": [
    "#hide\n",
    "deaths_year_week.loc[2020,current_week] = np.NaN"
   ]
  },
  {
   "cell_type": "code",
   "execution_count": 201,
   "metadata": {},
   "outputs": [],
   "source": [
    "#hide\n",
    "expected = deaths_year_week.loc[2015:2019].mean()"
   ]
  },
  {
   "cell_type": "code",
   "execution_count": 202,
   "metadata": {},
   "outputs": [],
   "source": [
    "#hide\n",
    "ci = deaths_year_week.loc[2015:2019].std(ddof=1)"
   ]
  },
  {
   "cell_type": "code",
   "execution_count": 203,
   "metadata": {},
   "outputs": [],
   "source": [
    "#hide\n",
    "df_expected = pd.DataFrame()\n",
    "df_expected[\"Expected\"] = expected\n",
    "df_expected[\"lower\"] = expected - ci\n",
    "df_expected[\"upper\"] = expected + ci\n",
    "df_expected[\"lower 2\"] = expected - 2*ci\n",
    "df_expected[\"upper 2\"] = expected + 2*ci"
   ]
  },
  {
   "cell_type": "code",
   "execution_count": 204,
   "metadata": {
    "scrolled": true
   },
   "outputs": [
    {
     "data": {
      "text/html": [
       "<div>\n",
       "<style scoped>\n",
       "    .dataframe tbody tr th:only-of-type {\n",
       "        vertical-align: middle;\n",
       "    }\n",
       "\n",
       "    .dataframe tbody tr th {\n",
       "        vertical-align: top;\n",
       "    }\n",
       "\n",
       "    .dataframe thead th {\n",
       "        text-align: right;\n",
       "    }\n",
       "</style>\n",
       "<table border=\"1\" class=\"dataframe\">\n",
       "  <thead>\n",
       "    <tr style=\"text-align: right;\">\n",
       "      <th></th>\n",
       "      <th>Expected</th>\n",
       "      <th>lower</th>\n",
       "      <th>upper</th>\n",
       "      <th>lower 2</th>\n",
       "      <th>upper 2</th>\n",
       "    </tr>\n",
       "    <tr>\n",
       "      <th>semana</th>\n",
       "      <th></th>\n",
       "      <th></th>\n",
       "      <th></th>\n",
       "      <th></th>\n",
       "      <th></th>\n",
       "    </tr>\n",
       "  </thead>\n",
       "  <tbody>\n",
       "    <tr>\n",
       "      <th>1</th>\n",
       "      <td>725.0</td>\n",
       "      <td>675.0</td>\n",
       "      <td>775.0</td>\n",
       "      <td>625.0</td>\n",
       "      <td>825.0</td>\n",
       "    </tr>\n",
       "    <tr>\n",
       "      <th>2</th>\n",
       "      <td>705.0</td>\n",
       "      <td>672.5</td>\n",
       "      <td>737.5</td>\n",
       "      <td>639.5</td>\n",
       "      <td>770.5</td>\n",
       "    </tr>\n",
       "  </tbody>\n",
       "</table>\n",
       "</div>"
      ],
      "text/plain": [
       "        Expected  lower  upper  lower 2  upper 2\n",
       "semana                                          \n",
       "1          725.0  675.0  775.0    625.0    825.0\n",
       "2          705.0  672.5  737.5    639.5    770.5"
      ]
     },
     "execution_count": 204,
     "metadata": {},
     "output_type": "execute_result"
    }
   ],
   "source": [
    "#hide\n",
    "df_expected.head(2)"
   ]
  },
  {
   "cell_type": "code",
   "execution_count": 205,
   "metadata": {},
   "outputs": [],
   "source": [
    "#hide\n",
    "deaths_year_week = deaths_year_week.T\n",
    "deaths_year_week[\"Promedio últimos 5 años\"] = expected\n",
    "deaths_year_week = deaths_year_week.T"
   ]
  },
  {
   "cell_type": "code",
   "execution_count": 206,
   "metadata": {
    "scrolled": false
   },
   "outputs": [
    {
     "data": {
      "text/html": [
       "\n",
       "<div id=\"altair-viz-818dc287bea94ad69f44d124beadd6a6\"></div>\n",
       "<script type=\"text/javascript\">\n",
       "  (function(spec, embedOpt){\n",
       "    let outputDiv = document.currentScript.previousElementSibling;\n",
       "    if (outputDiv.id !== \"altair-viz-818dc287bea94ad69f44d124beadd6a6\") {\n",
       "      outputDiv = document.getElementById(\"altair-viz-818dc287bea94ad69f44d124beadd6a6\");\n",
       "    }\n",
       "    const paths = {\n",
       "      \"vega\": \"https://cdn.jsdelivr.net/npm//vega@5?noext\",\n",
       "      \"vega-lib\": \"https://cdn.jsdelivr.net/npm//vega-lib?noext\",\n",
       "      \"vega-lite\": \"https://cdn.jsdelivr.net/npm//vega-lite@4.8.1?noext\",\n",
       "      \"vega-embed\": \"https://cdn.jsdelivr.net/npm//vega-embed@6?noext\",\n",
       "    };\n",
       "\n",
       "    function loadScript(lib) {\n",
       "      return new Promise(function(resolve, reject) {\n",
       "        var s = document.createElement('script');\n",
       "        s.src = paths[lib];\n",
       "        s.async = true;\n",
       "        s.onload = () => resolve(paths[lib]);\n",
       "        s.onerror = () => reject(`Error loading script: ${paths[lib]}`);\n",
       "        document.getElementsByTagName(\"head\")[0].appendChild(s);\n",
       "      });\n",
       "    }\n",
       "\n",
       "    function showError(err) {\n",
       "      outputDiv.innerHTML = `<div class=\"error\" style=\"color:red;\">${err}</div>`;\n",
       "      throw err;\n",
       "    }\n",
       "\n",
       "    function displayChart(vegaEmbed) {\n",
       "      vegaEmbed(outputDiv, spec, embedOpt)\n",
       "        .catch(err => showError(`Javascript Error: ${err.message}<br>This usually means there's a typo in your chart specification. See the javascript console for the full traceback.`));\n",
       "    }\n",
       "\n",
       "    if(typeof define === \"function\" && define.amd) {\n",
       "      requirejs.config({paths});\n",
       "      require([\"vega-embed\"], displayChart, err => showError(`Error loading script: ${err.message}`));\n",
       "    } else if (typeof vegaEmbed === \"function\") {\n",
       "      displayChart(vegaEmbed);\n",
       "    } else {\n",
       "      loadScript(\"vega\")\n",
       "        .then(() => loadScript(\"vega-lite\"))\n",
       "        .then(() => loadScript(\"vega-embed\"))\n",
       "        .catch(showError)\n",
       "        .then(() => displayChart(vegaEmbed));\n",
       "    }\n",
       "  })({\"config\": {\"view\": {\"continuousWidth\": 400, \"continuousHeight\": 300}}, \"layer\": [{\"data\": {\"name\": \"data-ecaced64737af6f9f6040e141821c26e\"}, \"mark\": {\"type\": \"line\", \"point\": true}, \"encoding\": {\"color\": {\"type\": \"nominal\", \"field\": \"a\\u00f1o\", \"scale\": {\"domain\": [\"2015\", \"2016\", \"2017\", \"2018\", \"2019\", \"2020\", \"Promedio \\u00faltimos 5 a\\u00f1os\"], \"range\": [\"lightgray\", \"lightgray\", \"lightgray\", \"lightgray\", \"lightgray\", \"red\", \"blue\"]}}, \"x\": {\"type\": \"quantitative\", \"field\": \"semana\", \"scale\": {\"domain\": [1, 52]}}, \"y\": {\"type\": \"quantitative\", \"field\": \"defunciones\", \"scale\": {\"domain\": [0, 2000]}}}}, {\"data\": {\"name\": \"data-899c04c091211f5f13ff1924aff6e121\"}, \"mark\": {\"type\": \"area\", \"opacity\": 0.5}, \"encoding\": {\"x\": {\"type\": \"quantitative\", \"field\": \"semana\", \"scale\": {\"domain\": [1, 52]}}, \"y\": {\"type\": \"quantitative\", \"axis\": {\"title\": \"defunciones\"}, \"field\": \"lower\"}, \"y2\": {\"field\": \"upper\"}}}, {\"data\": {\"name\": \"data-899c04c091211f5f13ff1924aff6e121\"}, \"mark\": {\"type\": \"area\", \"opacity\": 0.3}, \"encoding\": {\"x\": {\"type\": \"quantitative\", \"field\": \"semana\", \"scale\": {\"domain\": [1, 52]}}, \"y\": {\"type\": \"quantitative\", \"field\": \"lower 2\"}, \"y2\": {\"field\": \"upper 2\"}}}, {\"mark\": {\"type\": \"rule\", \"color\": \"#aaa\"}, \"encoding\": {\"x\": {\"type\": \"quantitative\", \"axis\": {\"title\": \"semana\"}, \"field\": \"semana\", \"scale\": {\"domain\": [1, 52]}, \"sort\": null}}, \"transform\": [{\"filter\": {\"selection\": \"selector013\"}}]}, {\"data\": {\"name\": \"data-ecaced64737af6f9f6040e141821c26e\"}, \"mark\": \"circle\", \"encoding\": {\"color\": {\"type\": \"nominal\", \"field\": \"a\\u00f1o\", \"scale\": {\"domain\": [\"2015\", \"2016\", \"2017\", \"2018\", \"2019\", \"2020\", \"Promedio \\u00faltimos 5 a\\u00f1os\"], \"range\": [\"lightgray\", \"lightgray\", \"lightgray\", \"lightgray\", \"lightgray\", \"red\", \"blue\"]}}, \"opacity\": {\"condition\": {\"value\": 1, \"selection\": \"selector013\"}, \"value\": 0}, \"x\": {\"type\": \"quantitative\", \"field\": \"semana\", \"scale\": {\"domain\": [1, 52]}}, \"y\": {\"type\": \"quantitative\", \"field\": \"defunciones\", \"scale\": {\"domain\": [0, 2000]}}}, \"selection\": {\"selector013\": {\"type\": \"single\", \"encodings\": [\"x\"], \"on\": \"mouseover\", \"nearest\": true, \"empty\": \"none\"}}}, {\"data\": {\"name\": \"data-ecaced64737af6f9f6040e141821c26e\"}, \"mark\": {\"type\": \"text\", \"align\": \"left\", \"dx\": 5, \"dy\": -5, \"stroke\": \"white\", \"strokeWidth\": 2}, \"encoding\": {\"color\": {\"type\": \"nominal\", \"field\": \"a\\u00f1o\", \"scale\": {\"domain\": [\"2015\", \"2016\", \"2017\", \"2018\", \"2019\", \"2020\", \"Promedio \\u00faltimos 5 a\\u00f1os\"], \"range\": [\"lightgray\", \"lightgray\", \"lightgray\", \"lightgray\", \"lightgray\", \"red\", \"blue\"]}}, \"text\": {\"type\": \"quantitative\", \"field\": \"defunciones\"}, \"x\": {\"type\": \"quantitative\", \"field\": \"semana\", \"scale\": {\"domain\": [1, 52]}}, \"y\": {\"type\": \"quantitative\", \"field\": \"defunciones\", \"scale\": {\"domain\": [0, 2000]}}}, \"transform\": [{\"filter\": {\"selection\": \"selector013\"}}]}, {\"data\": {\"name\": \"data-ecaced64737af6f9f6040e141821c26e\"}, \"mark\": {\"type\": \"text\", \"align\": \"left\", \"dx\": 5, \"dy\": -5}, \"encoding\": {\"color\": {\"type\": \"nominal\", \"field\": \"a\\u00f1o\", \"scale\": {\"domain\": [\"2015\", \"2016\", \"2017\", \"2018\", \"2019\", \"2020\", \"Promedio \\u00faltimos 5 a\\u00f1os\"], \"range\": [\"lightgray\", \"lightgray\", \"lightgray\", \"lightgray\", \"lightgray\", \"red\", \"blue\"]}}, \"text\": {\"type\": \"quantitative\", \"field\": \"defunciones\"}, \"x\": {\"type\": \"quantitative\", \"field\": \"semana\", \"scale\": {\"domain\": [1, 52]}}, \"y\": {\"type\": \"quantitative\", \"field\": \"defunciones\", \"scale\": {\"domain\": [0, 2000]}}}, \"transform\": [{\"filter\": {\"selection\": \"selector013\"}}]}], \"data\": {\"name\": \"data-ecaced64737af6f9f6040e141821c26e\"}, \"title\": \"Defunciones inscritas en la R.M. por semana (sin corregir) hasta semana 22\", \"width\": 600, \"$schema\": \"https://vega.github.io/schema/vega-lite/v4.8.1.json\", \"datasets\": {\"data-ecaced64737af6f9f6040e141821c26e\": [{\"a\\u00f1o\": 2015, \"semana\": 1, \"defunciones\": 681.0}, {\"a\\u00f1o\": 2016, \"semana\": 1, \"defunciones\": 788.0}, {\"a\\u00f1o\": 2017, \"semana\": 1, \"defunciones\": 754.0}, {\"a\\u00f1o\": 2018, \"semana\": 1, \"defunciones\": 669.0}, {\"a\\u00f1o\": 2019, \"semana\": 1, \"defunciones\": 733.0}, {\"a\\u00f1o\": 2020, \"semana\": 1, \"defunciones\": 825.0}, {\"a\\u00f1o\": \"Promedio \\u00faltimos 5 a\\u00f1os\", \"semana\": 1, \"defunciones\": 725.0}, {\"a\\u00f1o\": 2015, \"semana\": 2, \"defunciones\": 749.0}, {\"a\\u00f1o\": 2016, \"semana\": 2, \"defunciones\": 730.0}, {\"a\\u00f1o\": 2017, \"semana\": 2, \"defunciones\": 677.0}, {\"a\\u00f1o\": 2018, \"semana\": 2, \"defunciones\": 691.0}, {\"a\\u00f1o\": 2019, \"semana\": 2, \"defunciones\": 678.0}, {\"a\\u00f1o\": 2020, \"semana\": 2, \"defunciones\": 784.0}, {\"a\\u00f1o\": \"Promedio \\u00faltimos 5 a\\u00f1os\", \"semana\": 2, \"defunciones\": 705.0}, {\"a\\u00f1o\": 2015, \"semana\": 3, \"defunciones\": 715.0}, {\"a\\u00f1o\": 2016, \"semana\": 3, \"defunciones\": 720.0}, {\"a\\u00f1o\": 2017, \"semana\": 3, \"defunciones\": 760.0}, {\"a\\u00f1o\": 2018, \"semana\": 3, \"defunciones\": 614.0}, {\"a\\u00f1o\": 2019, \"semana\": 3, \"defunciones\": 668.0}, {\"a\\u00f1o\": 2020, \"semana\": 3, \"defunciones\": 751.0}, {\"a\\u00f1o\": \"Promedio \\u00faltimos 5 a\\u00f1os\", \"semana\": 3, \"defunciones\": 695.5}, {\"a\\u00f1o\": 2015, \"semana\": 4, \"defunciones\": 622.0}, {\"a\\u00f1o\": 2016, \"semana\": 4, \"defunciones\": 693.0}, {\"a\\u00f1o\": 2017, \"semana\": 4, \"defunciones\": 812.0}, {\"a\\u00f1o\": 2018, \"semana\": 4, \"defunciones\": 593.0}, {\"a\\u00f1o\": 2019, \"semana\": 4, \"defunciones\": 742.0}, {\"a\\u00f1o\": 2020, \"semana\": 4, \"defunciones\": 724.0}, {\"a\\u00f1o\": \"Promedio \\u00faltimos 5 a\\u00f1os\", \"semana\": 4, \"defunciones\": 692.5}, {\"a\\u00f1o\": 2015, \"semana\": 5, \"defunciones\": 673.0}, {\"a\\u00f1o\": 2016, \"semana\": 5, \"defunciones\": 662.0}, {\"a\\u00f1o\": 2017, \"semana\": 5, \"defunciones\": 760.0}, {\"a\\u00f1o\": 2018, \"semana\": 5, \"defunciones\": 685.0}, {\"a\\u00f1o\": 2019, \"semana\": 5, \"defunciones\": 779.0}, {\"a\\u00f1o\": 2020, \"semana\": 5, \"defunciones\": 767.0}, {\"a\\u00f1o\": \"Promedio \\u00faltimos 5 a\\u00f1os\", \"semana\": 5, \"defunciones\": 712.0}, {\"a\\u00f1o\": 2015, \"semana\": 6, \"defunciones\": 699.0}, {\"a\\u00f1o\": 2016, \"semana\": 6, \"defunciones\": 609.0}, {\"a\\u00f1o\": 2017, \"semana\": 6, \"defunciones\": 661.0}, {\"a\\u00f1o\": 2018, \"semana\": 6, \"defunciones\": 701.0}, {\"a\\u00f1o\": 2019, \"semana\": 6, \"defunciones\": 757.0}, {\"a\\u00f1o\": 2020, \"semana\": 6, \"defunciones\": 683.0}, {\"a\\u00f1o\": \"Promedio \\u00faltimos 5 a\\u00f1os\", \"semana\": 6, \"defunciones\": 685.5}, {\"a\\u00f1o\": 2015, \"semana\": 7, \"defunciones\": 706.0}, {\"a\\u00f1o\": 2016, \"semana\": 7, \"defunciones\": 663.0}, {\"a\\u00f1o\": 2017, \"semana\": 7, \"defunciones\": 667.0}, {\"a\\u00f1o\": 2018, \"semana\": 7, \"defunciones\": 696.0}, {\"a\\u00f1o\": 2019, \"semana\": 7, \"defunciones\": 705.0}, {\"a\\u00f1o\": 2020, \"semana\": 7, \"defunciones\": 706.0}, {\"a\\u00f1o\": \"Promedio \\u00faltimos 5 a\\u00f1os\", \"semana\": 7, \"defunciones\": 687.0}, {\"a\\u00f1o\": 2015, \"semana\": 8, \"defunciones\": 685.0}, {\"a\\u00f1o\": 2016, \"semana\": 8, \"defunciones\": 714.0}, {\"a\\u00f1o\": 2017, \"semana\": 8, \"defunciones\": 721.0}, {\"a\\u00f1o\": 2018, \"semana\": 8, \"defunciones\": 687.0}, {\"a\\u00f1o\": 2019, \"semana\": 8, \"defunciones\": 674.0}, {\"a\\u00f1o\": 2020, \"semana\": 8, \"defunciones\": 616.0}, {\"a\\u00f1o\": \"Promedio \\u00faltimos 5 a\\u00f1os\", \"semana\": 8, \"defunciones\": 696.5}, {\"a\\u00f1o\": 2015, \"semana\": 9, \"defunciones\": 618.0}, {\"a\\u00f1o\": 2016, \"semana\": 9, \"defunciones\": 729.0}, {\"a\\u00f1o\": 2017, \"semana\": 9, \"defunciones\": 685.0}, {\"a\\u00f1o\": 2018, \"semana\": 9, \"defunciones\": 620.0}, {\"a\\u00f1o\": 2019, \"semana\": 9, \"defunciones\": 720.0}, {\"a\\u00f1o\": 2020, \"semana\": 9, \"defunciones\": 643.0}, {\"a\\u00f1o\": \"Promedio \\u00faltimos 5 a\\u00f1os\", \"semana\": 9, \"defunciones\": 674.5}, {\"a\\u00f1o\": 2015, \"semana\": 10, \"defunciones\": 645.0}, {\"a\\u00f1o\": 2016, \"semana\": 10, \"defunciones\": 655.0}, {\"a\\u00f1o\": 2017, \"semana\": 10, \"defunciones\": 643.0}, {\"a\\u00f1o\": 2018, \"semana\": 10, \"defunciones\": 726.0}, {\"a\\u00f1o\": 2019, \"semana\": 10, \"defunciones\": 656.0}, {\"a\\u00f1o\": 2020, \"semana\": 10, \"defunciones\": 808.0}, {\"a\\u00f1o\": \"Promedio \\u00faltimos 5 a\\u00f1os\", \"semana\": 10, \"defunciones\": 665.0}, {\"a\\u00f1o\": 2015, \"semana\": 11, \"defunciones\": 703.0}, {\"a\\u00f1o\": 2016, \"semana\": 11, \"defunciones\": 623.0}, {\"a\\u00f1o\": 2017, \"semana\": 11, \"defunciones\": 661.0}, {\"a\\u00f1o\": 2018, \"semana\": 11, \"defunciones\": 681.0}, {\"a\\u00f1o\": 2019, \"semana\": 11, \"defunciones\": 711.0}, {\"a\\u00f1o\": 2020, \"semana\": 11, \"defunciones\": 717.0}, {\"a\\u00f1o\": \"Promedio \\u00faltimos 5 a\\u00f1os\", \"semana\": 11, \"defunciones\": 676.0}, {\"a\\u00f1o\": 2015, \"semana\": 12, \"defunciones\": 669.0}, {\"a\\u00f1o\": 2016, \"semana\": 12, \"defunciones\": 675.0}, {\"a\\u00f1o\": 2017, \"semana\": 12, \"defunciones\": 666.0}, {\"a\\u00f1o\": 2018, \"semana\": 12, \"defunciones\": 700.0}, {\"a\\u00f1o\": 2019, \"semana\": 12, \"defunciones\": 742.0}, {\"a\\u00f1o\": 2020, \"semana\": 12, \"defunciones\": 719.0}, {\"a\\u00f1o\": \"Promedio \\u00faltimos 5 a\\u00f1os\", \"semana\": 12, \"defunciones\": 690.5}, {\"a\\u00f1o\": 2015, \"semana\": 13, \"defunciones\": 667.0}, {\"a\\u00f1o\": 2016, \"semana\": 13, \"defunciones\": 644.0}, {\"a\\u00f1o\": 2017, \"semana\": 13, \"defunciones\": 692.0}, {\"a\\u00f1o\": 2018, \"semana\": 13, \"defunciones\": 727.0}, {\"a\\u00f1o\": 2019, \"semana\": 13, \"defunciones\": 682.0}, {\"a\\u00f1o\": 2020, \"semana\": 13, \"defunciones\": 707.0}, {\"a\\u00f1o\": \"Promedio \\u00faltimos 5 a\\u00f1os\", \"semana\": 13, \"defunciones\": 682.5}, {\"a\\u00f1o\": 2015, \"semana\": 14, \"defunciones\": 649.0}, {\"a\\u00f1o\": 2016, \"semana\": 14, \"defunciones\": 700.0}, {\"a\\u00f1o\": 2017, \"semana\": 14, \"defunciones\": 728.0}, {\"a\\u00f1o\": 2018, \"semana\": 14, \"defunciones\": 709.0}, {\"a\\u00f1o\": 2019, \"semana\": 14, \"defunciones\": 748.0}, {\"a\\u00f1o\": 2020, \"semana\": 14, \"defunciones\": 754.0}, {\"a\\u00f1o\": \"Promedio \\u00faltimos 5 a\\u00f1os\", \"semana\": 14, \"defunciones\": 706.5}, {\"a\\u00f1o\": 2015, \"semana\": 15, \"defunciones\": 668.0}, {\"a\\u00f1o\": 2016, \"semana\": 15, \"defunciones\": 733.0}, {\"a\\u00f1o\": 2017, \"semana\": 15, \"defunciones\": 744.0}, {\"a\\u00f1o\": 2018, \"semana\": 15, \"defunciones\": 724.0}, {\"a\\u00f1o\": 2019, \"semana\": 15, \"defunciones\": 726.0}, {\"a\\u00f1o\": 2020, \"semana\": 15, \"defunciones\": 787.0}, {\"a\\u00f1o\": \"Promedio \\u00faltimos 5 a\\u00f1os\", \"semana\": 15, \"defunciones\": 719.0}, {\"a\\u00f1o\": 2015, \"semana\": 16, \"defunciones\": 661.0}, {\"a\\u00f1o\": 2016, \"semana\": 16, \"defunciones\": 758.0}, {\"a\\u00f1o\": 2017, \"semana\": 16, \"defunciones\": 745.0}, {\"a\\u00f1o\": 2018, \"semana\": 16, \"defunciones\": 722.0}, {\"a\\u00f1o\": 2019, \"semana\": 16, \"defunciones\": 804.0}, {\"a\\u00f1o\": 2020, \"semana\": 16, \"defunciones\": 778.0}, {\"a\\u00f1o\": \"Promedio \\u00faltimos 5 a\\u00f1os\", \"semana\": 16, \"defunciones\": 738.0}, {\"a\\u00f1o\": 2015, \"semana\": 17, \"defunciones\": 740.0}, {\"a\\u00f1o\": 2016, \"semana\": 17, \"defunciones\": 762.0}, {\"a\\u00f1o\": 2017, \"semana\": 17, \"defunciones\": 741.0}, {\"a\\u00f1o\": 2018, \"semana\": 17, \"defunciones\": 737.0}, {\"a\\u00f1o\": 2019, \"semana\": 17, \"defunciones\": 719.0}, {\"a\\u00f1o\": 2020, \"semana\": 17, \"defunciones\": 790.0}, {\"a\\u00f1o\": \"Promedio \\u00faltimos 5 a\\u00f1os\", \"semana\": 17, \"defunciones\": 740.0}, {\"a\\u00f1o\": 2015, \"semana\": 18, \"defunciones\": 716.0}, {\"a\\u00f1o\": 2016, \"semana\": 18, \"defunciones\": 864.0}, {\"a\\u00f1o\": 2017, \"semana\": 18, \"defunciones\": 802.0}, {\"a\\u00f1o\": 2018, \"semana\": 18, \"defunciones\": 767.0}, {\"a\\u00f1o\": 2019, \"semana\": 18, \"defunciones\": 815.0}, {\"a\\u00f1o\": 2020, \"semana\": 18, \"defunciones\": 741.0}, {\"a\\u00f1o\": \"Promedio \\u00faltimos 5 a\\u00f1os\", \"semana\": 18, \"defunciones\": 793.0}, {\"a\\u00f1o\": 2015, \"semana\": 19, \"defunciones\": 750.0}, {\"a\\u00f1o\": 2016, \"semana\": 19, \"defunciones\": 740.0}, {\"a\\u00f1o\": 2017, \"semana\": 19, \"defunciones\": 739.0}, {\"a\\u00f1o\": 2018, \"semana\": 19, \"defunciones\": 727.0}, {\"a\\u00f1o\": 2019, \"semana\": 19, \"defunciones\": 760.0}, {\"a\\u00f1o\": 2020, \"semana\": 19, \"defunciones\": 950.0}, {\"a\\u00f1o\": \"Promedio \\u00faltimos 5 a\\u00f1os\", \"semana\": 19, \"defunciones\": 743.0}, {\"a\\u00f1o\": 2015, \"semana\": 20, \"defunciones\": 781.0}, {\"a\\u00f1o\": 2016, \"semana\": 20, \"defunciones\": 771.0}, {\"a\\u00f1o\": 2017, \"semana\": 20, \"defunciones\": 790.0}, {\"a\\u00f1o\": 2018, \"semana\": 20, \"defunciones\": 800.0}, {\"a\\u00f1o\": 2019, \"semana\": 20, \"defunciones\": 907.0}, {\"a\\u00f1o\": 2020, \"semana\": 20, \"defunciones\": 1092.0}, {\"a\\u00f1o\": \"Promedio \\u00faltimos 5 a\\u00f1os\", \"semana\": 20, \"defunciones\": 809.5}, {\"a\\u00f1o\": 2015, \"semana\": 21, \"defunciones\": 760.0}, {\"a\\u00f1o\": 2016, \"semana\": 21, \"defunciones\": 780.0}, {\"a\\u00f1o\": 2017, \"semana\": 21, \"defunciones\": 832.0}, {\"a\\u00f1o\": 2018, \"semana\": 21, \"defunciones\": 785.0}, {\"a\\u00f1o\": 2019, \"semana\": 21, \"defunciones\": 898.0}, {\"a\\u00f1o\": 2020, \"semana\": 21, \"defunciones\": 1350.0}, {\"a\\u00f1o\": \"Promedio \\u00faltimos 5 a\\u00f1os\", \"semana\": 21, \"defunciones\": 811.0}, {\"a\\u00f1o\": 2015, \"semana\": 22, \"defunciones\": 847.0}, {\"a\\u00f1o\": 2016, \"semana\": 22, \"defunciones\": 818.0}, {\"a\\u00f1o\": 2017, \"semana\": 22, \"defunciones\": 891.0}, {\"a\\u00f1o\": 2018, \"semana\": 22, \"defunciones\": 820.0}, {\"a\\u00f1o\": 2019, \"semana\": 22, \"defunciones\": 889.0}, {\"a\\u00f1o\": 2020, \"semana\": 22, \"defunciones\": 1787.0}, {\"a\\u00f1o\": \"Promedio \\u00faltimos 5 a\\u00f1os\", \"semana\": 22, \"defunciones\": 853.0}, {\"a\\u00f1o\": 2015, \"semana\": 23, \"defunciones\": 804.0}, {\"a\\u00f1o\": 2016, \"semana\": 23, \"defunciones\": 779.0}, {\"a\\u00f1o\": 2017, \"semana\": 23, \"defunciones\": 930.0}, {\"a\\u00f1o\": 2018, \"semana\": 23, \"defunciones\": 899.0}, {\"a\\u00f1o\": 2019, \"semana\": 23, \"defunciones\": 961.0}, {\"a\\u00f1o\": 2020, \"semana\": 23, \"defunciones\": null}, {\"a\\u00f1o\": \"Promedio \\u00faltimos 5 a\\u00f1os\", \"semana\": 23, \"defunciones\": 874.5}, {\"a\\u00f1o\": 2015, \"semana\": 24, \"defunciones\": 820.0}, {\"a\\u00f1o\": 2016, \"semana\": 24, \"defunciones\": 823.0}, {\"a\\u00f1o\": 2017, \"semana\": 24, \"defunciones\": 1070.0}, {\"a\\u00f1o\": 2018, \"semana\": 24, \"defunciones\": 939.0}, {\"a\\u00f1o\": 2019, \"semana\": 24, \"defunciones\": 948.0}, {\"a\\u00f1o\": 2020, \"semana\": 24, \"defunciones\": null}, {\"a\\u00f1o\": \"Promedio \\u00faltimos 5 a\\u00f1os\", \"semana\": 24, \"defunciones\": 920.0}, {\"a\\u00f1o\": 2015, \"semana\": 25, \"defunciones\": 838.0}, {\"a\\u00f1o\": 2016, \"semana\": 25, \"defunciones\": 887.0}, {\"a\\u00f1o\": 2017, \"semana\": 25, \"defunciones\": 1127.0}, {\"a\\u00f1o\": 2018, \"semana\": 25, \"defunciones\": 865.0}, {\"a\\u00f1o\": 2019, \"semana\": 25, \"defunciones\": 1009.0}, {\"a\\u00f1o\": 2020, \"semana\": 25, \"defunciones\": null}, {\"a\\u00f1o\": \"Promedio \\u00faltimos 5 a\\u00f1os\", \"semana\": 25, \"defunciones\": 945.0}, {\"a\\u00f1o\": 2015, \"semana\": 26, \"defunciones\": 943.0}, {\"a\\u00f1o\": 2016, \"semana\": 26, \"defunciones\": 938.0}, {\"a\\u00f1o\": 2017, \"semana\": 26, \"defunciones\": 895.0}, {\"a\\u00f1o\": 2018, \"semana\": 26, \"defunciones\": 882.0}, {\"a\\u00f1o\": 2019, \"semana\": 26, \"defunciones\": 985.0}, {\"a\\u00f1o\": 2020, \"semana\": 26, \"defunciones\": null}, {\"a\\u00f1o\": \"Promedio \\u00faltimos 5 a\\u00f1os\", \"semana\": 26, \"defunciones\": 929.0}, {\"a\\u00f1o\": 2015, \"semana\": 27, \"defunciones\": 839.0}, {\"a\\u00f1o\": 2016, \"semana\": 27, \"defunciones\": 870.0}, {\"a\\u00f1o\": 2017, \"semana\": 27, \"defunciones\": 1041.0}, {\"a\\u00f1o\": 2018, \"semana\": 27, \"defunciones\": 853.0}, {\"a\\u00f1o\": 2019, \"semana\": 27, \"defunciones\": 1002.0}, {\"a\\u00f1o\": 2020, \"semana\": 27, \"defunciones\": null}, {\"a\\u00f1o\": \"Promedio \\u00faltimos 5 a\\u00f1os\", \"semana\": 27, \"defunciones\": 921.5}, {\"a\\u00f1o\": 2015, \"semana\": 28, \"defunciones\": 889.0}, {\"a\\u00f1o\": 2016, \"semana\": 28, \"defunciones\": 1008.0}, {\"a\\u00f1o\": 2017, \"semana\": 28, \"defunciones\": 936.0}, {\"a\\u00f1o\": 2018, \"semana\": 28, \"defunciones\": 897.0}, {\"a\\u00f1o\": 2019, \"semana\": 28, \"defunciones\": 958.0}, {\"a\\u00f1o\": 2020, \"semana\": 28, \"defunciones\": null}, {\"a\\u00f1o\": \"Promedio \\u00faltimos 5 a\\u00f1os\", \"semana\": 28, \"defunciones\": 937.5}, {\"a\\u00f1o\": 2015, \"semana\": 29, \"defunciones\": 850.0}, {\"a\\u00f1o\": 2016, \"semana\": 29, \"defunciones\": 992.0}, {\"a\\u00f1o\": 2017, \"semana\": 29, \"defunciones\": 969.0}, {\"a\\u00f1o\": 2018, \"semana\": 29, \"defunciones\": 834.0}, {\"a\\u00f1o\": 2019, \"semana\": 29, \"defunciones\": 962.0}, {\"a\\u00f1o\": 2020, \"semana\": 29, \"defunciones\": null}, {\"a\\u00f1o\": \"Promedio \\u00faltimos 5 a\\u00f1os\", \"semana\": 29, \"defunciones\": 921.5}, {\"a\\u00f1o\": 2015, \"semana\": 30, \"defunciones\": 861.0}, {\"a\\u00f1o\": 2016, \"semana\": 30, \"defunciones\": 914.0}, {\"a\\u00f1o\": 2017, \"semana\": 30, \"defunciones\": 874.0}, {\"a\\u00f1o\": 2018, \"semana\": 30, \"defunciones\": 926.0}, {\"a\\u00f1o\": 2019, \"semana\": 30, \"defunciones\": 973.0}, {\"a\\u00f1o\": 2020, \"semana\": 30, \"defunciones\": null}, {\"a\\u00f1o\": \"Promedio \\u00faltimos 5 a\\u00f1os\", \"semana\": 30, \"defunciones\": 909.5}, {\"a\\u00f1o\": 2015, \"semana\": 31, \"defunciones\": 906.0}, {\"a\\u00f1o\": 2016, \"semana\": 31, \"defunciones\": 934.0}, {\"a\\u00f1o\": 2017, \"semana\": 31, \"defunciones\": 895.0}, {\"a\\u00f1o\": 2018, \"semana\": 31, \"defunciones\": 959.0}, {\"a\\u00f1o\": 2019, \"semana\": 31, \"defunciones\": 922.0}, {\"a\\u00f1o\": 2020, \"semana\": 31, \"defunciones\": null}, {\"a\\u00f1o\": \"Promedio \\u00faltimos 5 a\\u00f1os\", \"semana\": 31, \"defunciones\": 923.0}, {\"a\\u00f1o\": 2015, \"semana\": 32, \"defunciones\": 903.0}, {\"a\\u00f1o\": 2016, \"semana\": 32, \"defunciones\": 844.0}, {\"a\\u00f1o\": 2017, \"semana\": 32, \"defunciones\": 850.0}, {\"a\\u00f1o\": 2018, \"semana\": 32, \"defunciones\": 965.0}, {\"a\\u00f1o\": 2019, \"semana\": 32, \"defunciones\": 911.0}, {\"a\\u00f1o\": 2020, \"semana\": 32, \"defunciones\": null}, {\"a\\u00f1o\": \"Promedio \\u00faltimos 5 a\\u00f1os\", \"semana\": 32, \"defunciones\": 894.5}, {\"a\\u00f1o\": 2015, \"semana\": 33, \"defunciones\": 826.0}, {\"a\\u00f1o\": 2016, \"semana\": 33, \"defunciones\": 809.0}, {\"a\\u00f1o\": 2017, \"semana\": 33, \"defunciones\": 883.0}, {\"a\\u00f1o\": 2018, \"semana\": 33, \"defunciones\": 894.0}, {\"a\\u00f1o\": 2019, \"semana\": 33, \"defunciones\": 888.0}, {\"a\\u00f1o\": 2020, \"semana\": 33, \"defunciones\": null}, {\"a\\u00f1o\": \"Promedio \\u00faltimos 5 a\\u00f1os\", \"semana\": 33, \"defunciones\": 860.0}, {\"a\\u00f1o\": 2015, \"semana\": 34, \"defunciones\": 891.0}, {\"a\\u00f1o\": 2016, \"semana\": 34, \"defunciones\": 818.0}, {\"a\\u00f1o\": 2017, \"semana\": 34, \"defunciones\": 825.0}, {\"a\\u00f1o\": 2018, \"semana\": 34, \"defunciones\": 936.0}, {\"a\\u00f1o\": 2019, \"semana\": 34, \"defunciones\": 861.0}, {\"a\\u00f1o\": 2020, \"semana\": 34, \"defunciones\": null}, {\"a\\u00f1o\": \"Promedio \\u00faltimos 5 a\\u00f1os\", \"semana\": 34, \"defunciones\": 866.5}, {\"a\\u00f1o\": 2015, \"semana\": 35, \"defunciones\": 861.0}, {\"a\\u00f1o\": 2016, \"semana\": 35, \"defunciones\": 813.0}, {\"a\\u00f1o\": 2017, \"semana\": 35, \"defunciones\": 835.0}, {\"a\\u00f1o\": 2018, \"semana\": 35, \"defunciones\": 875.0}, {\"a\\u00f1o\": 2019, \"semana\": 35, \"defunciones\": 879.0}, {\"a\\u00f1o\": 2020, \"semana\": 35, \"defunciones\": null}, {\"a\\u00f1o\": \"Promedio \\u00faltimos 5 a\\u00f1os\", \"semana\": 35, \"defunciones\": 853.0}, {\"a\\u00f1o\": 2015, \"semana\": 36, \"defunciones\": 831.0}, {\"a\\u00f1o\": 2016, \"semana\": 36, \"defunciones\": 889.0}, {\"a\\u00f1o\": 2017, \"semana\": 36, \"defunciones\": 807.0}, {\"a\\u00f1o\": 2018, \"semana\": 36, \"defunciones\": 862.0}, {\"a\\u00f1o\": 2019, \"semana\": 36, \"defunciones\": 886.0}, {\"a\\u00f1o\": 2020, \"semana\": 36, \"defunciones\": null}, {\"a\\u00f1o\": \"Promedio \\u00faltimos 5 a\\u00f1os\", \"semana\": 36, \"defunciones\": 855.0}, {\"a\\u00f1o\": 2015, \"semana\": 37, \"defunciones\": 769.0}, {\"a\\u00f1o\": 2016, \"semana\": 37, \"defunciones\": 819.0}, {\"a\\u00f1o\": 2017, \"semana\": 37, \"defunciones\": 868.0}, {\"a\\u00f1o\": 2018, \"semana\": 37, \"defunciones\": 858.0}, {\"a\\u00f1o\": 2019, \"semana\": 37, \"defunciones\": 840.0}, {\"a\\u00f1o\": 2020, \"semana\": 37, \"defunciones\": null}, {\"a\\u00f1o\": \"Promedio \\u00faltimos 5 a\\u00f1os\", \"semana\": 37, \"defunciones\": 830.5}, {\"a\\u00f1o\": 2015, \"semana\": 38, \"defunciones\": 780.0}, {\"a\\u00f1o\": 2016, \"semana\": 38, \"defunciones\": 832.0}, {\"a\\u00f1o\": 2017, \"semana\": 38, \"defunciones\": 763.0}, {\"a\\u00f1o\": 2018, \"semana\": 38, \"defunciones\": 772.0}, {\"a\\u00f1o\": 2019, \"semana\": 38, \"defunciones\": 763.0}, {\"a\\u00f1o\": 2020, \"semana\": 38, \"defunciones\": null}, {\"a\\u00f1o\": \"Promedio \\u00faltimos 5 a\\u00f1os\", \"semana\": 38, \"defunciones\": 782.5}, {\"a\\u00f1o\": 2015, \"semana\": 39, \"defunciones\": 855.0}, {\"a\\u00f1o\": 2016, \"semana\": 39, \"defunciones\": 725.0}, {\"a\\u00f1o\": 2017, \"semana\": 39, \"defunciones\": 828.0}, {\"a\\u00f1o\": 2018, \"semana\": 39, \"defunciones\": 788.0}, {\"a\\u00f1o\": 2019, \"semana\": 39, \"defunciones\": 893.0}, {\"a\\u00f1o\": 2020, \"semana\": 39, \"defunciones\": null}, {\"a\\u00f1o\": \"Promedio \\u00faltimos 5 a\\u00f1os\", \"semana\": 39, \"defunciones\": 817.5}, {\"a\\u00f1o\": 2015, \"semana\": 40, \"defunciones\": 715.0}, {\"a\\u00f1o\": 2016, \"semana\": 40, \"defunciones\": 799.0}, {\"a\\u00f1o\": 2017, \"semana\": 40, \"defunciones\": 838.0}, {\"a\\u00f1o\": 2018, \"semana\": 40, \"defunciones\": 783.0}, {\"a\\u00f1o\": 2019, \"semana\": 40, \"defunciones\": 810.0}, {\"a\\u00f1o\": 2020, \"semana\": 40, \"defunciones\": null}, {\"a\\u00f1o\": \"Promedio \\u00faltimos 5 a\\u00f1os\", \"semana\": 40, \"defunciones\": 789.0}, {\"a\\u00f1o\": 2015, \"semana\": 41, \"defunciones\": 859.0}, {\"a\\u00f1o\": 2016, \"semana\": 41, \"defunciones\": 715.0}, {\"a\\u00f1o\": 2017, \"semana\": 41, \"defunciones\": 763.0}, {\"a\\u00f1o\": 2018, \"semana\": 41, \"defunciones\": 724.0}, {\"a\\u00f1o\": 2019, \"semana\": 41, \"defunciones\": 815.0}, {\"a\\u00f1o\": 2020, \"semana\": 41, \"defunciones\": null}, {\"a\\u00f1o\": \"Promedio \\u00faltimos 5 a\\u00f1os\", \"semana\": 41, \"defunciones\": 775.0}, {\"a\\u00f1o\": 2015, \"semana\": 42, \"defunciones\": 768.0}, {\"a\\u00f1o\": 2016, \"semana\": 42, \"defunciones\": 659.0}, {\"a\\u00f1o\": 2017, \"semana\": 42, \"defunciones\": 778.0}, {\"a\\u00f1o\": 2018, \"semana\": 42, \"defunciones\": 721.0}, {\"a\\u00f1o\": 2019, \"semana\": 42, \"defunciones\": 731.0}, {\"a\\u00f1o\": 2020, \"semana\": 42, \"defunciones\": null}, {\"a\\u00f1o\": \"Promedio \\u00faltimos 5 a\\u00f1os\", \"semana\": 42, \"defunciones\": 731.0}, {\"a\\u00f1o\": 2015, \"semana\": 43, \"defunciones\": 743.0}, {\"a\\u00f1o\": 2016, \"semana\": 43, \"defunciones\": 807.0}, {\"a\\u00f1o\": 2017, \"semana\": 43, \"defunciones\": 720.0}, {\"a\\u00f1o\": 2018, \"semana\": 43, \"defunciones\": 796.0}, {\"a\\u00f1o\": 2019, \"semana\": 43, \"defunciones\": 760.0}, {\"a\\u00f1o\": 2020, \"semana\": 43, \"defunciones\": null}, {\"a\\u00f1o\": \"Promedio \\u00faltimos 5 a\\u00f1os\", \"semana\": 43, \"defunciones\": 765.0}, {\"a\\u00f1o\": 2015, \"semana\": 44, \"defunciones\": 654.0}, {\"a\\u00f1o\": 2016, \"semana\": 44, \"defunciones\": 707.0}, {\"a\\u00f1o\": 2017, \"semana\": 44, \"defunciones\": 676.0}, {\"a\\u00f1o\": 2018, \"semana\": 44, \"defunciones\": 701.0}, {\"a\\u00f1o\": 2019, \"semana\": 44, \"defunciones\": 817.0}, {\"a\\u00f1o\": 2020, \"semana\": 44, \"defunciones\": null}, {\"a\\u00f1o\": \"Promedio \\u00faltimos 5 a\\u00f1os\", \"semana\": 44, \"defunciones\": 711.0}, {\"a\\u00f1o\": 2015, \"semana\": 45, \"defunciones\": 721.0}, {\"a\\u00f1o\": 2016, \"semana\": 45, \"defunciones\": 719.0}, {\"a\\u00f1o\": 2017, \"semana\": 45, \"defunciones\": 728.0}, {\"a\\u00f1o\": 2018, \"semana\": 45, \"defunciones\": 783.0}, {\"a\\u00f1o\": 2019, \"semana\": 45, \"defunciones\": 793.0}, {\"a\\u00f1o\": 2020, \"semana\": 45, \"defunciones\": null}, {\"a\\u00f1o\": \"Promedio \\u00faltimos 5 a\\u00f1os\", \"semana\": 45, \"defunciones\": 749.0}, {\"a\\u00f1o\": 2015, \"semana\": 46, \"defunciones\": 823.0}, {\"a\\u00f1o\": 2016, \"semana\": 46, \"defunciones\": 676.0}, {\"a\\u00f1o\": 2017, \"semana\": 46, \"defunciones\": 678.0}, {\"a\\u00f1o\": 2018, \"semana\": 46, \"defunciones\": 729.0}, {\"a\\u00f1o\": 2019, \"semana\": 46, \"defunciones\": 744.0}, {\"a\\u00f1o\": 2020, \"semana\": 46, \"defunciones\": null}, {\"a\\u00f1o\": \"Promedio \\u00faltimos 5 a\\u00f1os\", \"semana\": 46, \"defunciones\": 729.5}, {\"a\\u00f1o\": 2015, \"semana\": 47, \"defunciones\": 763.0}, {\"a\\u00f1o\": 2016, \"semana\": 47, \"defunciones\": 625.0}, {\"a\\u00f1o\": 2017, \"semana\": 47, \"defunciones\": 750.0}, {\"a\\u00f1o\": 2018, \"semana\": 47, \"defunciones\": 775.0}, {\"a\\u00f1o\": 2019, \"semana\": 47, \"defunciones\": 789.0}, {\"a\\u00f1o\": 2020, \"semana\": 47, \"defunciones\": null}, {\"a\\u00f1o\": \"Promedio \\u00faltimos 5 a\\u00f1os\", \"semana\": 47, \"defunciones\": 740.0}, {\"a\\u00f1o\": 2015, \"semana\": 48, \"defunciones\": 704.0}, {\"a\\u00f1o\": 2016, \"semana\": 48, \"defunciones\": 671.0}, {\"a\\u00f1o\": 2017, \"semana\": 48, \"defunciones\": 677.0}, {\"a\\u00f1o\": 2018, \"semana\": 48, \"defunciones\": 674.0}, {\"a\\u00f1o\": 2019, \"semana\": 48, \"defunciones\": 740.0}, {\"a\\u00f1o\": 2020, \"semana\": 48, \"defunciones\": null}, {\"a\\u00f1o\": \"Promedio \\u00faltimos 5 a\\u00f1os\", \"semana\": 48, \"defunciones\": 693.0}, {\"a\\u00f1o\": 2015, \"semana\": 49, \"defunciones\": 745.0}, {\"a\\u00f1o\": 2016, \"semana\": 49, \"defunciones\": 678.0}, {\"a\\u00f1o\": 2017, \"semana\": 49, \"defunciones\": 669.0}, {\"a\\u00f1o\": 2018, \"semana\": 49, \"defunciones\": 740.0}, {\"a\\u00f1o\": 2019, \"semana\": 49, \"defunciones\": 763.0}, {\"a\\u00f1o\": 2020, \"semana\": 49, \"defunciones\": null}, {\"a\\u00f1o\": \"Promedio \\u00faltimos 5 a\\u00f1os\", \"semana\": 49, \"defunciones\": 719.0}, {\"a\\u00f1o\": 2015, \"semana\": 50, \"defunciones\": 726.0}, {\"a\\u00f1o\": 2016, \"semana\": 50, \"defunciones\": 740.0}, {\"a\\u00f1o\": 2017, \"semana\": 50, \"defunciones\": 688.0}, {\"a\\u00f1o\": 2018, \"semana\": 50, \"defunciones\": 696.0}, {\"a\\u00f1o\": 2019, \"semana\": 50, \"defunciones\": 683.0}, {\"a\\u00f1o\": 2020, \"semana\": 50, \"defunciones\": null}, {\"a\\u00f1o\": \"Promedio \\u00faltimos 5 a\\u00f1os\", \"semana\": 50, \"defunciones\": 706.5}, {\"a\\u00f1o\": 2015, \"semana\": 51, \"defunciones\": 722.0}, {\"a\\u00f1o\": 2016, \"semana\": 51, \"defunciones\": 617.0}, {\"a\\u00f1o\": 2017, \"semana\": 51, \"defunciones\": 793.0}, {\"a\\u00f1o\": 2018, \"semana\": 51, \"defunciones\": 766.0}, {\"a\\u00f1o\": 2019, \"semana\": 51, \"defunciones\": 707.0}, {\"a\\u00f1o\": 2020, \"semana\": 51, \"defunciones\": null}, {\"a\\u00f1o\": \"Promedio \\u00faltimos 5 a\\u00f1os\", \"semana\": 51, \"defunciones\": 721.0}, {\"a\\u00f1o\": 2015, \"semana\": 52, \"defunciones\": 702.0}, {\"a\\u00f1o\": 2016, \"semana\": 52, \"defunciones\": 654.0}, {\"a\\u00f1o\": 2017, \"semana\": 52, \"defunciones\": 783.0}, {\"a\\u00f1o\": 2018, \"semana\": 52, \"defunciones\": 712.0}, {\"a\\u00f1o\": 2019, \"semana\": 52, \"defunciones\": 734.0}, {\"a\\u00f1o\": 2020, \"semana\": 52, \"defunciones\": null}, {\"a\\u00f1o\": \"Promedio \\u00faltimos 5 a\\u00f1os\", \"semana\": 52, \"defunciones\": 717.0}], \"data-899c04c091211f5f13ff1924aff6e121\": [{\"semana\": 1, \"Expected\": 725.0, \"lower\": 675.0, \"upper\": 775.0, \"lower 2\": 625.0, \"upper 2\": 825.0}, {\"semana\": 2, \"Expected\": 705.0, \"lower\": 672.5, \"upper\": 737.5, \"lower 2\": 639.5, \"upper 2\": 770.5}, {\"semana\": 3, \"Expected\": 695.5, \"lower\": 639.5, \"upper\": 751.5, \"lower 2\": 583.5, \"upper 2\": 807.5}, {\"semana\": 4, \"Expected\": 692.5, \"lower\": 603.5, \"upper\": 781.5, \"lower 2\": 515.0, \"upper 2\": 870.0}, {\"semana\": 5, \"Expected\": 712.0, \"lower\": 658.5, \"upper\": 765.5, \"lower 2\": 604.5, \"upper 2\": 819.5}, {\"semana\": 6, \"Expected\": 685.5, \"lower\": 631.0, \"upper\": 740.0, \"lower 2\": 576.0, \"upper 2\": 795.0}, {\"semana\": 7, \"Expected\": 687.0, \"lower\": 666.0, \"upper\": 708.0, \"lower 2\": 645.5, \"upper 2\": 728.5}, {\"semana\": 8, \"Expected\": 696.5, \"lower\": 676.5, \"upper\": 716.5, \"lower 2\": 656.0, \"upper 2\": 737.0}, {\"semana\": 9, \"Expected\": 674.5, \"lower\": 621.5, \"upper\": 727.5, \"lower 2\": 568.0, \"upper 2\": 781.0}, {\"semana\": 10, \"Expected\": 665.0, \"lower\": 630.5, \"upper\": 699.5, \"lower 2\": 596.0, \"upper 2\": 734.0}, {\"semana\": 11, \"Expected\": 676.0, \"lower\": 640.5, \"upper\": 711.5, \"lower 2\": 605.0, \"upper 2\": 747.0}, {\"semana\": 12, \"Expected\": 690.5, \"lower\": 658.5, \"upper\": 722.5, \"lower 2\": 627.0, \"upper 2\": 754.0}, {\"semana\": 13, \"Expected\": 682.5, \"lower\": 651.5, \"upper\": 713.5, \"lower 2\": 621.0, \"upper 2\": 744.0}, {\"semana\": 14, \"Expected\": 706.5, \"lower\": 669.5, \"upper\": 743.5, \"lower 2\": 632.0, \"upper 2\": 781.0}, {\"semana\": 15, \"Expected\": 719.0, \"lower\": 689.5, \"upper\": 748.5, \"lower 2\": 660.0, \"upper 2\": 778.0}, {\"semana\": 16, \"Expected\": 738.0, \"lower\": 685.5, \"upper\": 790.5, \"lower 2\": 633.0, \"upper 2\": 843.0}, {\"semana\": 17, \"Expected\": 740.0, \"lower\": 724.5, \"upper\": 755.5, \"lower 2\": 709.5, \"upper 2\": 770.5}, {\"semana\": 18, \"Expected\": 793.0, \"lower\": 738.0, \"upper\": 848.0, \"lower 2\": 682.5, \"upper 2\": 903.5}, {\"semana\": 19, \"Expected\": 743.0, \"lower\": 730.5, \"upper\": 755.5, \"lower 2\": 718.0, \"upper 2\": 768.0}, {\"semana\": 20, \"Expected\": 809.5, \"lower\": 754.0, \"upper\": 865.0, \"lower 2\": 699.0, \"upper 2\": 920.0}, {\"semana\": 21, \"Expected\": 811.0, \"lower\": 755.5, \"upper\": 866.5, \"lower 2\": 700.5, \"upper 2\": 921.5}, {\"semana\": 22, \"Expected\": 853.0, \"lower\": 817.5, \"upper\": 888.5, \"lower 2\": 781.5, \"upper 2\": 924.5}, {\"semana\": 23, \"Expected\": 874.5, \"lower\": 795.0, \"upper\": 954.0, \"lower 2\": 715.5, \"upper 2\": 1033.0}, {\"semana\": 24, \"Expected\": 920.0, \"lower\": 816.0, \"upper\": 1024.0, \"lower 2\": 712.5, \"upper 2\": 1128.0}, {\"semana\": 25, \"Expected\": 945.0, \"lower\": 824.0, \"upper\": 1066.0, \"lower 2\": 703.0, \"upper 2\": 1187.0}, {\"semana\": 26, \"Expected\": 929.0, \"lower\": 888.0, \"upper\": 970.0, \"lower 2\": 846.5, \"upper 2\": 1011.5}, {\"semana\": 27, \"Expected\": 921.5, \"lower\": 828.0, \"upper\": 1015.0, \"lower 2\": 734.5, \"upper 2\": 1108.0}, {\"semana\": 28, \"Expected\": 937.5, \"lower\": 889.0, \"upper\": 986.0, \"lower 2\": 840.5, \"upper 2\": 1034.0}, {\"semana\": 29, \"Expected\": 921.5, \"lower\": 848.0, \"upper\": 995.0, \"lower 2\": 774.5, \"upper 2\": 1069.0}, {\"semana\": 30, \"Expected\": 909.5, \"lower\": 865.0, \"upper\": 954.0, \"lower 2\": 820.5, \"upper 2\": 998.5}, {\"semana\": 31, \"Expected\": 923.0, \"lower\": 898.0, \"upper\": 948.0, \"lower 2\": 873.0, \"upper 2\": 973.0}, {\"semana\": 32, \"Expected\": 894.5, \"lower\": 845.0, \"upper\": 944.0, \"lower 2\": 795.0, \"upper 2\": 994.0}, {\"semana\": 33, \"Expected\": 860.0, \"lower\": 820.5, \"upper\": 899.5, \"lower 2\": 781.0, \"upper 2\": 939.0}, {\"semana\": 34, \"Expected\": 866.5, \"lower\": 817.5, \"upper\": 915.5, \"lower 2\": 769.0, \"upper 2\": 964.0}, {\"semana\": 35, \"Expected\": 853.0, \"lower\": 825.0, \"upper\": 881.0, \"lower 2\": 797.0, \"upper 2\": 909.0}, {\"semana\": 36, \"Expected\": 855.0, \"lower\": 819.5, \"upper\": 890.5, \"lower 2\": 784.0, \"upper 2\": 926.0}, {\"semana\": 37, \"Expected\": 830.5, \"lower\": 791.0, \"upper\": 870.0, \"lower 2\": 752.0, \"upper 2\": 909.0}, {\"semana\": 38, \"Expected\": 782.5, \"lower\": 753.5, \"upper\": 811.5, \"lower 2\": 725.0, \"upper 2\": 840.0}, {\"semana\": 39, \"Expected\": 817.5, \"lower\": 753.0, \"upper\": 882.0, \"lower 2\": 688.5, \"upper 2\": 946.5}, {\"semana\": 40, \"Expected\": 789.0, \"lower\": 743.0, \"upper\": 835.0, \"lower 2\": 697.0, \"upper 2\": 881.0}, {\"semana\": 41, \"Expected\": 775.0, \"lower\": 714.0, \"upper\": 836.0, \"lower 2\": 652.5, \"upper 2\": 897.5}, {\"semana\": 42, \"Expected\": 731.0, \"lower\": 684.0, \"upper\": 778.0, \"lower 2\": 637.0, \"upper 2\": 825.0}, {\"semana\": 43, \"Expected\": 765.0, \"lower\": 729.0, \"upper\": 801.0, \"lower 2\": 692.5, \"upper 2\": 837.5}, {\"semana\": 44, \"Expected\": 711.0, \"lower\": 648.0, \"upper\": 774.0, \"lower 2\": 585.0, \"upper 2\": 837.0}, {\"semana\": 45, \"Expected\": 749.0, \"lower\": 713.0, \"upper\": 785.0, \"lower 2\": 677.0, \"upper 2\": 821.0}, {\"semana\": 46, \"Expected\": 729.5, \"lower\": 669.5, \"upper\": 789.5, \"lower 2\": 609.0, \"upper 2\": 850.0}, {\"semana\": 47, \"Expected\": 740.0, \"lower\": 674.0, \"upper\": 806.0, \"lower 2\": 608.0, \"upper 2\": 872.0}, {\"semana\": 48, \"Expected\": 693.0, \"lower\": 663.5, \"upper\": 722.5, \"lower 2\": 634.5, \"upper 2\": 751.5}, {\"semana\": 49, \"Expected\": 719.0, \"lower\": 676.5, \"upper\": 761.5, \"lower 2\": 634.0, \"upper 2\": 804.0}, {\"semana\": 50, \"Expected\": 706.5, \"lower\": 681.5, \"upper\": 731.5, \"lower 2\": 656.5, \"upper 2\": 756.5}, {\"semana\": 51, \"Expected\": 721.0, \"lower\": 653.5, \"upper\": 788.5, \"lower 2\": 586.0, \"upper 2\": 856.0}, {\"semana\": 52, \"Expected\": 717.0, \"lower\": 670.0, \"upper\": 764.0, \"lower 2\": 623.0, \"upper 2\": 811.0}]}}, {\"mode\": \"vega-lite\"});\n",
       "</script>"
      ],
      "text/plain": [
       "alt.LayerChart(...)"
      ]
     },
     "execution_count": 206,
     "metadata": {},
     "output_type": "execute_result"
    }
   ],
   "source": [
    "#hide_input\n",
    "label = alt.selection_single(\n",
    "    encodings=['x'], # limit selection to x-axis value\n",
    "    on='mouseover',  # select on mouseover events\n",
    "    nearest=True,    # select data point nearest the cursor\n",
    "    empty='none'     # empty selection includes no data points\n",
    ")\n",
    "\n",
    "base = alt.Chart(deaths_year_week.drop([i for i in np.arange(2010,2015)]).reset_index().melt(\"año\", value_name=\"defunciones\")).mark_line(point=True).encode(\n",
    "    x = alt.X(\"semana:Q\",scale=alt.Scale(domain=(1, 52))),\n",
    "    y = alt.Y(\"defunciones\", scale=alt.Scale(domain=(0,2000))),\n",
    "    color=alt.Color('año:N', scale=alt.Scale(range=['lightgray', 'lightgray', 'lightgray', 'lightgray', 'lightgray', 'red',\"blue\"], \n",
    "                                             domain=[\"2015\", \"2016\", \"2017\", \"2018\", \"2019\", \"2020\", \"Promedio últimos 5 años\"]))\n",
    ")\n",
    "\n",
    "alt.layer(\n",
    "    base, # base line chart\n",
    "    \n",
    "    alt.Chart(df_expected.reset_index()).mark_area(\n",
    "        opacity=0.5\n",
    "    ).encode(\n",
    "        x=alt.X(\"semana\", scale=alt.Scale(domain=(1, 52))),\n",
    "        y=alt.Y(\"lower:Q\", axis=alt.Axis(title=\"defunciones\")),\n",
    "        y2=\"upper:Q\"\n",
    "    ),\n",
    "    \n",
    "    alt.Chart(df_expected.reset_index()).mark_area(\n",
    "        opacity=0.3\n",
    "    ).encode(\n",
    "        x=alt.X(\"semana\", scale=alt.Scale(domain=(1, 52))),\n",
    "        y=\"lower 2:Q\",\n",
    "        y2=\"upper 2:Q\"\n",
    "    ),\n",
    "    # add a rule mark to serve as a guide line\n",
    "    alt.Chart().mark_rule(color='#aaa').encode(\n",
    "        x = alt.X('semana', scale=alt.Scale(domain=(1, 52)), axis=alt.Axis(title='semana'), sort=None)\n",
    "    ).transform_filter(label),\n",
    "    \n",
    "    # add circle marks for selected time points, hide unselected points\n",
    "    base.mark_circle().encode(\n",
    "        opacity=alt.condition(label, alt.value(1), alt.value(0))\n",
    "    ).add_selection(label),\n",
    "\n",
    "    # add white stroked text to provide a legible background for labels\n",
    "    base.mark_text(align='left', dx=5, dy=-5, stroke='white', strokeWidth=2).encode(\n",
    "        text='defunciones'\n",
    "    ).transform_filter(label),\n",
    "\n",
    "    # add text labels for stock prices\n",
    "    base.mark_text(align='left', dx=5, dy=-5).encode(\n",
    "        text='defunciones'\n",
    "    ).transform_filter(label),\n",
    "    \n",
    "    data=deaths_year_week.drop([i for i in np.arange(2010,2015)]).reset_index().melt(\"año\", value_name=\"defunciones\")\n",
    ").properties(\n",
    "    title = f'Defunciones inscritas en la R.M. por semana (sin corregir) hasta semana {current_week-1}',\n",
    "    width=600\n",
    ")"
   ]
  },
  {
   "cell_type": "markdown",
   "metadata": {},
   "source": [
    "Fuente: [Ministerio de Ciencia](https://github.com/MinCiencia/Datos-COVID19), [Registro Civil](https://www.registrocivil.cl/)"
   ]
  },
  {
   "cell_type": "code",
   "execution_count": 207,
   "metadata": {},
   "outputs": [],
   "source": [
    "#hide\n",
    "deaths_year_week = deaths_year_week.drop(\"Promedio últimos 5 años\")"
   ]
  },
  {
   "cell_type": "code",
   "execution_count": 208,
   "metadata": {},
   "outputs": [],
   "source": [
    "#hide\n",
    "n_defunciones = []\n",
    "for year in np.arange(2010,2020):\n",
    "    n_defunciones.append(deaths_year_week.loc[year,:].astype(int).sum())\n",
    "\n",
    "df = pd.DataFrame()\n",
    "df[\"Año\"] = np.arange(2010,2020)\n",
    "df[\"Número de defunciones\"] = n_defunciones \n",
    "df = df.set_index(\"Año\")"
   ]
  },
  {
   "cell_type": "code",
   "execution_count": 209,
   "metadata": {
    "scrolled": true
   },
   "outputs": [
    {
     "name": "stderr",
     "output_type": "stream",
     "text": [
      "/Users/alonsosilva/opt/anaconda3/envs/fastpages/lib/python3.8/site-packages/pandas/core/indexing.py:671: SettingWithCopyWarning: \n",
      "A value is trying to be set on a copy of a slice from a DataFrame\n",
      "\n",
      "See the caveats in the documentation: https://pandas.pydata.org/pandas-docs/stable/user_guide/indexing.html#returning-a-view-versus-a-copy\n",
      "  self._setitem_with_indexer(indexer, value)\n"
     ]
    }
   ],
   "source": [
    "#hide\n",
    "adjustment = 365/366\n",
    "df[\"ajustado a 365 días\"] = df[\"Número de defunciones\"].copy()\n",
    "df[\"ajustado a 365 días\"].loc[2012] *= adjustment\n",
    "df[\"ajustado a 365 días\"].loc[2016] *= adjustment\n",
    "df[\"ajustado a 365 días\"] = df[\"ajustado a 365 días\"].astype(int)"
   ]
  },
  {
   "cell_type": "code",
   "execution_count": 210,
   "metadata": {
    "scrolled": true
   },
   "outputs": [
    {
     "data": {
      "text/plain": [
       "[0.9808015807321567,\n",
       " 1.028095393662202,\n",
       " 1.0085795996186844,\n",
       " 1.0310333963453056,\n",
       " 1.0062388591800357,\n",
       " 0.9991901809439453,\n",
       " 1.0411569536256111,\n",
       " 0.977546949498881,\n",
       " 1.046161503048401]"
      ]
     },
     "execution_count": 210,
     "metadata": {},
     "output_type": "execute_result"
    }
   ],
   "source": [
    "#hide\n",
    "growth_rate = []\n",
    "for year in np.arange(2011, 2020):\n",
    "    growth_rate.append(df[\"ajustado a 365 días\"].loc[year]/df[\"ajustado a 365 días\"].loc[year-1])\n",
    "growth_rate"
   ]
  },
  {
   "cell_type": "code",
   "execution_count": 211,
   "metadata": {},
   "outputs": [
    {
     "name": "stdout",
     "output_type": "stream",
     "text": [
      "Promedio de las tasas de crecimiento anual entre 2012 y 2019: 1.57\n"
     ]
    }
   ],
   "source": [
    "#hide\n",
    "print(f\"Promedio de las tasas de crecimiento anual entre 2012 y 2019: {100*(np.mean(growth_rate[2:])-1):.2f}\")"
   ]
  },
  {
   "cell_type": "code",
   "execution_count": 215,
   "metadata": {
    "colab": {},
    "colab_type": "code",
    "id": "NCz1cigeSEWa"
   },
   "outputs": [],
   "source": [
    "#hide\n",
    "deaths = deaths_raw.query(\"Region == 'Metropolitana de Santiago'\").drop(columns=[\"Region\", \"Codigo region\", \"Comuna\", \"Codigo comuna\"]).sum()\n",
    "n_defunciones = []\n",
    "for year in np.arange(2010,2020):\n",
    "    n_defunciones.append(deaths.loc[f\"{year}-01-01\":f\"{year}-12-31\"].sum())\n",
    "df = pd.DataFrame()\n",
    "df[\"Año\"] = np.arange(2010,2020)\n",
    "df[\"Número de defunciones\"] = n_defunciones \n",
    "df = df.set_index(\"Año\")"
   ]
  },
  {
   "cell_type": "code",
   "execution_count": 216,
   "metadata": {
    "colab": {
     "base_uri": "https://localhost:8080/",
     "height": 104
    },
    "colab_type": "code",
    "id": "c5KMn_M8Spru",
    "outputId": "6b6d19c3-8460-4658-b723-8cf332b64d70"
   },
   "outputs": [
    {
     "name": "stderr",
     "output_type": "stream",
     "text": [
      "/Users/alonsosilva/opt/anaconda3/envs/fastpages/lib/python3.8/site-packages/pandas/core/indexing.py:671: SettingWithCopyWarning: \n",
      "A value is trying to be set on a copy of a slice from a DataFrame\n",
      "\n",
      "See the caveats in the documentation: https://pandas.pydata.org/pandas-docs/stable/user_guide/indexing.html#returning-a-view-versus-a-copy\n",
      "  self._setitem_with_indexer(indexer, value)\n"
     ]
    }
   ],
   "source": [
    "#hide\n",
    "adjustment = 365/366\n",
    "df[\"ajustado a 365 días\"] = df[\"Número de defunciones\"].copy()\n",
    "df[\"ajustado a 365 días\"].loc[2012] *= adjustment\n",
    "df[\"ajustado a 365 días\"].loc[2016] *= adjustment\n",
    "df[\"ajustado a 365 días\"] = df[\"ajustado a 365 días\"].astype(int)"
   ]
  },
  {
   "cell_type": "code",
   "execution_count": 217,
   "metadata": {},
   "outputs": [
    {
     "data": {
      "text/html": [
       "<div>\n",
       "<style scoped>\n",
       "    .dataframe tbody tr th:only-of-type {\n",
       "        vertical-align: middle;\n",
       "    }\n",
       "\n",
       "    .dataframe tbody tr th {\n",
       "        vertical-align: top;\n",
       "    }\n",
       "\n",
       "    .dataframe thead th {\n",
       "        text-align: right;\n",
       "    }\n",
       "</style>\n",
       "<table border=\"1\" class=\"dataframe\">\n",
       "  <thead>\n",
       "    <tr style=\"text-align: right;\">\n",
       "      <th></th>\n",
       "      <th>Número de defunciones</th>\n",
       "      <th>ajustado a 365 días</th>\n",
       "    </tr>\n",
       "    <tr>\n",
       "      <th>Año</th>\n",
       "      <th></th>\n",
       "      <th></th>\n",
       "    </tr>\n",
       "  </thead>\n",
       "  <tbody>\n",
       "    <tr>\n",
       "      <th>2010</th>\n",
       "      <td>37540</td>\n",
       "      <td>37540</td>\n",
       "    </tr>\n",
       "    <tr>\n",
       "      <th>2011</th>\n",
       "      <td>36874</td>\n",
       "      <td>36874</td>\n",
       "    </tr>\n",
       "    <tr>\n",
       "      <th>2012</th>\n",
       "      <td>37990</td>\n",
       "      <td>37886</td>\n",
       "    </tr>\n",
       "    <tr>\n",
       "      <th>2013</th>\n",
       "      <td>38251</td>\n",
       "      <td>38251</td>\n",
       "    </tr>\n",
       "    <tr>\n",
       "      <th>2014</th>\n",
       "      <td>39336</td>\n",
       "      <td>39336</td>\n",
       "    </tr>\n",
       "    <tr>\n",
       "      <th>2015</th>\n",
       "      <td>39642</td>\n",
       "      <td>39642</td>\n",
       "    </tr>\n",
       "    <tr>\n",
       "      <th>2016</th>\n",
       "      <td>39836</td>\n",
       "      <td>39727</td>\n",
       "    </tr>\n",
       "    <tr>\n",
       "      <th>2017</th>\n",
       "      <td>41114</td>\n",
       "      <td>41114</td>\n",
       "    </tr>\n",
       "    <tr>\n",
       "      <th>2018</th>\n",
       "      <td>40319</td>\n",
       "      <td>40319</td>\n",
       "    </tr>\n",
       "    <tr>\n",
       "      <th>2019</th>\n",
       "      <td>42183</td>\n",
       "      <td>42183</td>\n",
       "    </tr>\n",
       "  </tbody>\n",
       "</table>\n",
       "</div>"
      ],
      "text/plain": [
       "      Número de defunciones  ajustado a 365 días\n",
       "Año                                             \n",
       "2010                  37540                37540\n",
       "2011                  36874                36874\n",
       "2012                  37990                37886\n",
       "2013                  38251                38251\n",
       "2014                  39336                39336\n",
       "2015                  39642                39642\n",
       "2016                  39836                39727\n",
       "2017                  41114                41114\n",
       "2018                  40319                40319\n",
       "2019                  42183                42183"
      ]
     },
     "execution_count": 217,
     "metadata": {},
     "output_type": "execute_result"
    }
   ],
   "source": [
    "#hide\n",
    "df"
   ]
  },
  {
   "cell_type": "code",
   "execution_count": 218,
   "metadata": {
    "colab": {},
    "colab_type": "code",
    "id": "hXFPz0z9Ssnh"
   },
   "outputs": [
    {
     "data": {
      "text/plain": [
       "[0.9822589238145978,\n",
       " 1.0274448120627,\n",
       " 1.0096341656548593,\n",
       " 1.02836527149617,\n",
       " 1.0077791336180597,\n",
       " 1.00214419050502,\n",
       " 1.0349132831575503,\n",
       " 0.9806635209417717,\n",
       " 1.0462313053399142]"
      ]
     },
     "execution_count": 218,
     "metadata": {},
     "output_type": "execute_result"
    }
   ],
   "source": [
    "#hide\n",
    "growth_rate = []\n",
    "for year in np.arange(2011, 2020):\n",
    "    growth_rate.append(df[\"ajustado a 365 días\"].loc[year]/df[\"ajustado a 365 días\"].loc[year-1])\n",
    "growth_rate"
   ]
  },
  {
   "cell_type": "code",
   "execution_count": 219,
   "metadata": {
    "colab": {},
    "colab_type": "code",
    "id": "-Nkc1DzZgiwo"
   },
   "outputs": [],
   "source": [
    "#hide\n",
    "growth_rate_percentage = [f\"{100*(r - 1):.2f}%\" for r in growth_rate]"
   ]
  },
  {
   "cell_type": "code",
   "execution_count": 220,
   "metadata": {
    "colab": {},
    "colab_type": "code",
    "id": "Dtui9C8dgplH"
   },
   "outputs": [],
   "source": [
    "#hide\n",
    "df[\"Variación c/r año anterior\"] = [\"-\"]+growth_rate_percentage"
   ]
  },
  {
   "cell_type": "code",
   "execution_count": 221,
   "metadata": {
    "colab": {
     "base_uri": "https://localhost:8080/",
     "height": 34
    },
    "colab_type": "code",
    "id": "CF5n_GwdSv6J",
    "outputId": "f7bf1e2e-0431-4714-c5b0-541221e5a774"
   },
   "outputs": [
    {
     "data": {
      "text/plain": [
       "1.0156758386733349"
      ]
     },
     "execution_count": 221,
     "metadata": {},
     "output_type": "execute_result"
    }
   ],
   "source": [
    "#hide\n",
    "gr_mean = np.mean(growth_rate[2:])\n",
    "gr_mean"
   ]
  },
  {
   "cell_type": "code",
   "execution_count": 222,
   "metadata": {},
   "outputs": [
    {
     "data": {
      "text/plain": [
       "0.022258201400607868"
      ]
     },
     "execution_count": 222,
     "metadata": {},
     "output_type": "execute_result"
    }
   ],
   "source": [
    "#hide\n",
    "gr_std = np.std(growth_rate[2:], ddof=1)\n",
    "gr_std"
   ]
  },
  {
   "cell_type": "code",
   "execution_count": 223,
   "metadata": {
    "colab": {
     "base_uri": "https://localhost:8080/",
     "height": 394
    },
    "colab_type": "code",
    "id": "8aYabPUBgsIA",
    "outputId": "5da6b23e-a90d-4117-f755-b20d04652127"
   },
   "outputs": [
    {
     "data": {
      "text/html": [
       "<div>\n",
       "<style scoped>\n",
       "    .dataframe tbody tr th:only-of-type {\n",
       "        vertical-align: middle;\n",
       "    }\n",
       "\n",
       "    .dataframe tbody tr th {\n",
       "        vertical-align: top;\n",
       "    }\n",
       "\n",
       "    .dataframe thead th {\n",
       "        text-align: right;\n",
       "    }\n",
       "</style>\n",
       "<table border=\"1\" class=\"dataframe\">\n",
       "  <thead>\n",
       "    <tr style=\"text-align: right;\">\n",
       "      <th></th>\n",
       "      <th>Número de defunciones</th>\n",
       "      <th>ajustado a 365 días</th>\n",
       "      <th>Variación c/r año anterior</th>\n",
       "    </tr>\n",
       "    <tr>\n",
       "      <th>Año</th>\n",
       "      <th></th>\n",
       "      <th></th>\n",
       "      <th></th>\n",
       "    </tr>\n",
       "  </thead>\n",
       "  <tbody>\n",
       "    <tr>\n",
       "      <th>2010</th>\n",
       "      <td>37540</td>\n",
       "      <td>37540</td>\n",
       "      <td>-</td>\n",
       "    </tr>\n",
       "    <tr>\n",
       "      <th>2011</th>\n",
       "      <td>36874</td>\n",
       "      <td>36874</td>\n",
       "      <td>-1.77%</td>\n",
       "    </tr>\n",
       "    <tr>\n",
       "      <th>2012</th>\n",
       "      <td>37990</td>\n",
       "      <td>37886</td>\n",
       "      <td>2.74%</td>\n",
       "    </tr>\n",
       "    <tr>\n",
       "      <th>2013</th>\n",
       "      <td>38251</td>\n",
       "      <td>38251</td>\n",
       "      <td>0.96%</td>\n",
       "    </tr>\n",
       "    <tr>\n",
       "      <th>2014</th>\n",
       "      <td>39336</td>\n",
       "      <td>39336</td>\n",
       "      <td>2.84%</td>\n",
       "    </tr>\n",
       "    <tr>\n",
       "      <th>2015</th>\n",
       "      <td>39642</td>\n",
       "      <td>39642</td>\n",
       "      <td>0.78%</td>\n",
       "    </tr>\n",
       "    <tr>\n",
       "      <th>2016</th>\n",
       "      <td>39836</td>\n",
       "      <td>39727</td>\n",
       "      <td>0.21%</td>\n",
       "    </tr>\n",
       "    <tr>\n",
       "      <th>2017</th>\n",
       "      <td>41114</td>\n",
       "      <td>41114</td>\n",
       "      <td>3.49%</td>\n",
       "    </tr>\n",
       "    <tr>\n",
       "      <th>2018</th>\n",
       "      <td>40319</td>\n",
       "      <td>40319</td>\n",
       "      <td>-1.93%</td>\n",
       "    </tr>\n",
       "    <tr>\n",
       "      <th>2019</th>\n",
       "      <td>42183</td>\n",
       "      <td>42183</td>\n",
       "      <td>4.62%</td>\n",
       "    </tr>\n",
       "  </tbody>\n",
       "</table>\n",
       "</div>"
      ],
      "text/plain": [
       "      Número de defunciones  ajustado a 365 días Variación c/r año anterior\n",
       "Año                                                                        \n",
       "2010                  37540                37540                          -\n",
       "2011                  36874                36874                     -1.77%\n",
       "2012                  37990                37886                      2.74%\n",
       "2013                  38251                38251                      0.96%\n",
       "2014                  39336                39336                      2.84%\n",
       "2015                  39642                39642                      0.78%\n",
       "2016                  39836                39727                      0.21%\n",
       "2017                  41114                41114                      3.49%\n",
       "2018                  40319                40319                     -1.93%\n",
       "2019                  42183                42183                      4.62%"
      ]
     },
     "execution_count": 223,
     "metadata": {},
     "output_type": "execute_result"
    }
   ],
   "source": [
    "#hide\n",
    "df"
   ]
  },
  {
   "cell_type": "code",
   "execution_count": 224,
   "metadata": {
    "colab": {
     "base_uri": "https://localhost:8080/",
     "height": 34
    },
    "colab_type": "code",
    "id": "IN4zLoTCg8sA",
    "outputId": "84e42435-2921-4a72-9cbc-2996ab78bfd2"
   },
   "outputs": [
    {
     "name": "stdout",
     "output_type": "stream",
     "text": [
      "Promedio de las tasas de crecimiento anual entre 2012 y 2019: 1.57\n"
     ]
    }
   ],
   "source": [
    "#hide\n",
    "print(f\"Promedio de las tasas de crecimiento anual entre 2012 y 2019: {100*(np.mean(growth_rate[2:])-1):.2f}\")"
   ]
  },
  {
   "cell_type": "code",
   "execution_count": 225,
   "metadata": {},
   "outputs": [],
   "source": [
    "#hide\n",
    "amended_deaths = pd.DataFrame()\n",
    "for year in deaths_year_week.index[2:-1]:\n",
    "    amended_deaths[year] = \\\n",
    "    deaths_year_week.loc[year]*(df.loc[2019,\"Número de defunciones\"]/df.loc[year,\"Número de defunciones\"])*gr_mean\n",
    "amended_deaths[2020] = deaths_year_week.loc[2020,:22]"
   ]
  },
  {
   "cell_type": "code",
   "execution_count": 226,
   "metadata": {
    "colab": {},
    "colab_type": "code",
    "id": "wS28fZ3GSyBY"
   },
   "outputs": [],
   "source": [
    "#hide\n",
    "# amended_deaths = pd.DataFrame()\n",
    "# i = 8\n",
    "# for year in deaths_year_week.index[2:-1]:\n",
    "#     amended_deaths[year] = deaths_year_week.loc[year]*(gr_mean**i)\n",
    "#     i -=1\n",
    "# amended_deaths[2020] = deaths_year_week.loc[2020,:22]*(gr_mean**i)"
   ]
  },
  {
   "cell_type": "code",
   "execution_count": 227,
   "metadata": {
    "colab": {},
    "colab_type": "code",
    "id": "5fhs41KvTsMw"
   },
   "outputs": [
    {
     "data": {
      "text/html": [
       "<div>\n",
       "<style scoped>\n",
       "    .dataframe tbody tr th:only-of-type {\n",
       "        vertical-align: middle;\n",
       "    }\n",
       "\n",
       "    .dataframe tbody tr th {\n",
       "        vertical-align: top;\n",
       "    }\n",
       "\n",
       "    .dataframe thead th {\n",
       "        text-align: right;\n",
       "    }\n",
       "</style>\n",
       "<table border=\"1\" class=\"dataframe\">\n",
       "  <thead>\n",
       "    <tr style=\"text-align: right;\">\n",
       "      <th>semana</th>\n",
       "      <th>1</th>\n",
       "      <th>2</th>\n",
       "      <th>3</th>\n",
       "      <th>4</th>\n",
       "      <th>5</th>\n",
       "      <th>6</th>\n",
       "      <th>7</th>\n",
       "      <th>8</th>\n",
       "      <th>9</th>\n",
       "      <th>10</th>\n",
       "      <th>...</th>\n",
       "      <th>43</th>\n",
       "      <th>44</th>\n",
       "      <th>45</th>\n",
       "      <th>46</th>\n",
       "      <th>47</th>\n",
       "      <th>48</th>\n",
       "      <th>49</th>\n",
       "      <th>50</th>\n",
       "      <th>51</th>\n",
       "      <th>52</th>\n",
       "    </tr>\n",
       "  </thead>\n",
       "  <tbody>\n",
       "    <tr>\n",
       "      <th>2012</th>\n",
       "      <td>880.5</td>\n",
       "      <td>761.0</td>\n",
       "      <td>700.5</td>\n",
       "      <td>708.5</td>\n",
       "      <td>795.0</td>\n",
       "      <td>737.5</td>\n",
       "      <td>685.5</td>\n",
       "      <td>664.0</td>\n",
       "      <td>726.0</td>\n",
       "      <td>741.0</td>\n",
       "      <td>...</td>\n",
       "      <td>798.5</td>\n",
       "      <td>815.5</td>\n",
       "      <td>804.0</td>\n",
       "      <td>729.5</td>\n",
       "      <td>750.0</td>\n",
       "      <td>777.0</td>\n",
       "      <td>782.5</td>\n",
       "      <td>727.0</td>\n",
       "      <td>804.0</td>\n",
       "      <td>787.0</td>\n",
       "    </tr>\n",
       "    <tr>\n",
       "      <th>2013</th>\n",
       "      <td>798.5</td>\n",
       "      <td>769.5</td>\n",
       "      <td>702.5</td>\n",
       "      <td>730.0</td>\n",
       "      <td>713.5</td>\n",
       "      <td>799.5</td>\n",
       "      <td>697.5</td>\n",
       "      <td>712.0</td>\n",
       "      <td>774.0</td>\n",
       "      <td>776.0</td>\n",
       "      <td>...</td>\n",
       "      <td>775.0</td>\n",
       "      <td>753.5</td>\n",
       "      <td>776.0</td>\n",
       "      <td>782.5</td>\n",
       "      <td>880.0</td>\n",
       "      <td>725.5</td>\n",
       "      <td>764.0</td>\n",
       "      <td>682.0</td>\n",
       "      <td>818.5</td>\n",
       "      <td>780.5</td>\n",
       "    </tr>\n",
       "    <tr>\n",
       "      <th>2014</th>\n",
       "      <td>763.0</td>\n",
       "      <td>832.0</td>\n",
       "      <td>787.0</td>\n",
       "      <td>743.0</td>\n",
       "      <td>680.5</td>\n",
       "      <td>693.5</td>\n",
       "      <td>685.0</td>\n",
       "      <td>695.5</td>\n",
       "      <td>680.5</td>\n",
       "      <td>658.5</td>\n",
       "      <td>...</td>\n",
       "      <td>807.0</td>\n",
       "      <td>726.0</td>\n",
       "      <td>854.5</td>\n",
       "      <td>829.0</td>\n",
       "      <td>797.5</td>\n",
       "      <td>803.0</td>\n",
       "      <td>745.0</td>\n",
       "      <td>721.0</td>\n",
       "      <td>754.5</td>\n",
       "      <td>776.5</td>\n",
       "    </tr>\n",
       "    <tr>\n",
       "      <th>2015</th>\n",
       "      <td>736.5</td>\n",
       "      <td>810.0</td>\n",
       "      <td>773.0</td>\n",
       "      <td>672.5</td>\n",
       "      <td>727.5</td>\n",
       "      <td>755.5</td>\n",
       "      <td>763.0</td>\n",
       "      <td>740.5</td>\n",
       "      <td>668.5</td>\n",
       "      <td>697.0</td>\n",
       "      <td>...</td>\n",
       "      <td>803.5</td>\n",
       "      <td>707.0</td>\n",
       "      <td>779.5</td>\n",
       "      <td>889.5</td>\n",
       "      <td>824.5</td>\n",
       "      <td>761.0</td>\n",
       "      <td>805.5</td>\n",
       "      <td>785.0</td>\n",
       "      <td>780.5</td>\n",
       "      <td>758.5</td>\n",
       "    </tr>\n",
       "    <tr>\n",
       "      <th>2016</th>\n",
       "      <td>847.0</td>\n",
       "      <td>785.0</td>\n",
       "      <td>774.0</td>\n",
       "      <td>745.0</td>\n",
       "      <td>712.0</td>\n",
       "      <td>654.5</td>\n",
       "      <td>713.0</td>\n",
       "      <td>768.0</td>\n",
       "      <td>783.5</td>\n",
       "      <td>704.5</td>\n",
       "      <td>...</td>\n",
       "      <td>868.0</td>\n",
       "      <td>760.0</td>\n",
       "      <td>773.0</td>\n",
       "      <td>726.5</td>\n",
       "      <td>672.0</td>\n",
       "      <td>721.5</td>\n",
       "      <td>728.5</td>\n",
       "      <td>795.5</td>\n",
       "      <td>663.0</td>\n",
       "      <td>703.5</td>\n",
       "    </tr>\n",
       "    <tr>\n",
       "      <th>2017</th>\n",
       "      <td>786.0</td>\n",
       "      <td>706.0</td>\n",
       "      <td>792.0</td>\n",
       "      <td>846.5</td>\n",
       "      <td>792.0</td>\n",
       "      <td>689.0</td>\n",
       "      <td>695.0</td>\n",
       "      <td>751.5</td>\n",
       "      <td>714.0</td>\n",
       "      <td>670.5</td>\n",
       "      <td>...</td>\n",
       "      <td>750.5</td>\n",
       "      <td>705.0</td>\n",
       "      <td>758.5</td>\n",
       "      <td>707.0</td>\n",
       "      <td>782.0</td>\n",
       "      <td>706.0</td>\n",
       "      <td>697.0</td>\n",
       "      <td>717.0</td>\n",
       "      <td>826.5</td>\n",
       "      <td>816.0</td>\n",
       "    </tr>\n",
       "    <tr>\n",
       "      <th>2018</th>\n",
       "      <td>710.5</td>\n",
       "      <td>734.0</td>\n",
       "      <td>652.0</td>\n",
       "      <td>629.5</td>\n",
       "      <td>727.5</td>\n",
       "      <td>744.5</td>\n",
       "      <td>739.5</td>\n",
       "      <td>729.5</td>\n",
       "      <td>658.5</td>\n",
       "      <td>771.5</td>\n",
       "      <td>...</td>\n",
       "      <td>845.5</td>\n",
       "      <td>744.5</td>\n",
       "      <td>832.0</td>\n",
       "      <td>774.5</td>\n",
       "      <td>823.0</td>\n",
       "      <td>716.0</td>\n",
       "      <td>786.0</td>\n",
       "      <td>739.5</td>\n",
       "      <td>813.5</td>\n",
       "      <td>756.0</td>\n",
       "    </tr>\n",
       "    <tr>\n",
       "      <th>2019</th>\n",
       "      <td>744.5</td>\n",
       "      <td>688.5</td>\n",
       "      <td>678.5</td>\n",
       "      <td>753.5</td>\n",
       "      <td>791.0</td>\n",
       "      <td>769.0</td>\n",
       "      <td>716.0</td>\n",
       "      <td>684.5</td>\n",
       "      <td>731.0</td>\n",
       "      <td>666.0</td>\n",
       "      <td>...</td>\n",
       "      <td>772.0</td>\n",
       "      <td>830.0</td>\n",
       "      <td>805.5</td>\n",
       "      <td>755.5</td>\n",
       "      <td>801.5</td>\n",
       "      <td>751.5</td>\n",
       "      <td>775.0</td>\n",
       "      <td>693.5</td>\n",
       "      <td>718.0</td>\n",
       "      <td>745.5</td>\n",
       "    </tr>\n",
       "    <tr>\n",
       "      <th>2020</th>\n",
       "      <td>825.0</td>\n",
       "      <td>784.0</td>\n",
       "      <td>751.0</td>\n",
       "      <td>724.0</td>\n",
       "      <td>767.0</td>\n",
       "      <td>683.0</td>\n",
       "      <td>706.0</td>\n",
       "      <td>616.0</td>\n",
       "      <td>643.0</td>\n",
       "      <td>808.0</td>\n",
       "      <td>...</td>\n",
       "      <td>NaN</td>\n",
       "      <td>NaN</td>\n",
       "      <td>NaN</td>\n",
       "      <td>NaN</td>\n",
       "      <td>NaN</td>\n",
       "      <td>NaN</td>\n",
       "      <td>NaN</td>\n",
       "      <td>NaN</td>\n",
       "      <td>NaN</td>\n",
       "      <td>NaN</td>\n",
       "    </tr>\n",
       "  </tbody>\n",
       "</table>\n",
       "<p>9 rows × 52 columns</p>\n",
       "</div>"
      ],
      "text/plain": [
       "semana     1      2      3      4      5      6      7      8      9      10  \\\n",
       "2012    880.5  761.0  700.5  708.5  795.0  737.5  685.5  664.0  726.0  741.0   \n",
       "2013    798.5  769.5  702.5  730.0  713.5  799.5  697.5  712.0  774.0  776.0   \n",
       "2014    763.0  832.0  787.0  743.0  680.5  693.5  685.0  695.5  680.5  658.5   \n",
       "2015    736.5  810.0  773.0  672.5  727.5  755.5  763.0  740.5  668.5  697.0   \n",
       "2016    847.0  785.0  774.0  745.0  712.0  654.5  713.0  768.0  783.5  704.5   \n",
       "2017    786.0  706.0  792.0  846.5  792.0  689.0  695.0  751.5  714.0  670.5   \n",
       "2018    710.5  734.0  652.0  629.5  727.5  744.5  739.5  729.5  658.5  771.5   \n",
       "2019    744.5  688.5  678.5  753.5  791.0  769.0  716.0  684.5  731.0  666.0   \n",
       "2020    825.0  784.0  751.0  724.0  767.0  683.0  706.0  616.0  643.0  808.0   \n",
       "\n",
       "semana  ...     43     44     45     46     47     48     49     50     51  \\\n",
       "2012    ...  798.5  815.5  804.0  729.5  750.0  777.0  782.5  727.0  804.0   \n",
       "2013    ...  775.0  753.5  776.0  782.5  880.0  725.5  764.0  682.0  818.5   \n",
       "2014    ...  807.0  726.0  854.5  829.0  797.5  803.0  745.0  721.0  754.5   \n",
       "2015    ...  803.5  707.0  779.5  889.5  824.5  761.0  805.5  785.0  780.5   \n",
       "2016    ...  868.0  760.0  773.0  726.5  672.0  721.5  728.5  795.5  663.0   \n",
       "2017    ...  750.5  705.0  758.5  707.0  782.0  706.0  697.0  717.0  826.5   \n",
       "2018    ...  845.5  744.5  832.0  774.5  823.0  716.0  786.0  739.5  813.5   \n",
       "2019    ...  772.0  830.0  805.5  755.5  801.5  751.5  775.0  693.5  718.0   \n",
       "2020    ...    NaN    NaN    NaN    NaN    NaN    NaN    NaN    NaN    NaN   \n",
       "\n",
       "semana     52  \n",
       "2012    787.0  \n",
       "2013    780.5  \n",
       "2014    776.5  \n",
       "2015    758.5  \n",
       "2016    703.5  \n",
       "2017    816.0  \n",
       "2018    756.0  \n",
       "2019    745.5  \n",
       "2020      NaN  \n",
       "\n",
       "[9 rows x 52 columns]"
      ]
     },
     "execution_count": 227,
     "metadata": {},
     "output_type": "execute_result"
    }
   ],
   "source": [
    "#hide\n",
    "amended_deaths = amended_deaths.T\n",
    "amended_deaths"
   ]
  },
  {
   "cell_type": "code",
   "execution_count": 228,
   "metadata": {
    "colab": {},
    "colab_type": "code",
    "id": "RaDRbFAlTtdw"
   },
   "outputs": [],
   "source": [
    "#hide\n",
    "expected = amended_deaths.loc[2015:2019].mean()\n",
    "ci = amended_deaths.loc[2015:2019].std(ddof=1)"
   ]
  },
  {
   "cell_type": "code",
   "execution_count": 229,
   "metadata": {},
   "outputs": [],
   "source": [
    "#hide\n",
    "df_expected = pd.DataFrame()\n",
    "df_expected[\"Expected\"] = expected\n",
    "df_expected[\"lower\"] = expected - ci\n",
    "df_expected[\"upper\"] = expected + ci\n",
    "df_expected[\"lower 2\"] = expected - 2*ci\n",
    "df_expected[\"upper 2\"] = expected + 2*ci"
   ]
  },
  {
   "cell_type": "code",
   "execution_count": 230,
   "metadata": {},
   "outputs": [],
   "source": [
    "#hide\n",
    "amended_deaths = amended_deaths.T\n",
    "amended_deaths[\"Promedio últimos 5 años\"] = expected\n",
    "amended_deaths = amended_deaths.T"
   ]
  },
  {
   "cell_type": "code",
   "execution_count": 232,
   "metadata": {
    "scrolled": true
   },
   "outputs": [
    {
     "data": {
      "text/html": [
       "\n",
       "<div id=\"altair-viz-7123d9e5ce134257b7dcbb04552032df\"></div>\n",
       "<script type=\"text/javascript\">\n",
       "  (function(spec, embedOpt){\n",
       "    let outputDiv = document.currentScript.previousElementSibling;\n",
       "    if (outputDiv.id !== \"altair-viz-7123d9e5ce134257b7dcbb04552032df\") {\n",
       "      outputDiv = document.getElementById(\"altair-viz-7123d9e5ce134257b7dcbb04552032df\");\n",
       "    }\n",
       "    const paths = {\n",
       "      \"vega\": \"https://cdn.jsdelivr.net/npm//vega@5?noext\",\n",
       "      \"vega-lib\": \"https://cdn.jsdelivr.net/npm//vega-lib?noext\",\n",
       "      \"vega-lite\": \"https://cdn.jsdelivr.net/npm//vega-lite@4.8.1?noext\",\n",
       "      \"vega-embed\": \"https://cdn.jsdelivr.net/npm//vega-embed@6?noext\",\n",
       "    };\n",
       "\n",
       "    function loadScript(lib) {\n",
       "      return new Promise(function(resolve, reject) {\n",
       "        var s = document.createElement('script');\n",
       "        s.src = paths[lib];\n",
       "        s.async = true;\n",
       "        s.onload = () => resolve(paths[lib]);\n",
       "        s.onerror = () => reject(`Error loading script: ${paths[lib]}`);\n",
       "        document.getElementsByTagName(\"head\")[0].appendChild(s);\n",
       "      });\n",
       "    }\n",
       "\n",
       "    function showError(err) {\n",
       "      outputDiv.innerHTML = `<div class=\"error\" style=\"color:red;\">${err}</div>`;\n",
       "      throw err;\n",
       "    }\n",
       "\n",
       "    function displayChart(vegaEmbed) {\n",
       "      vegaEmbed(outputDiv, spec, embedOpt)\n",
       "        .catch(err => showError(`Javascript Error: ${err.message}<br>This usually means there's a typo in your chart specification. See the javascript console for the full traceback.`));\n",
       "    }\n",
       "\n",
       "    if(typeof define === \"function\" && define.amd) {\n",
       "      requirejs.config({paths});\n",
       "      require([\"vega-embed\"], displayChart, err => showError(`Error loading script: ${err.message}`));\n",
       "    } else if (typeof vegaEmbed === \"function\") {\n",
       "      displayChart(vegaEmbed);\n",
       "    } else {\n",
       "      loadScript(\"vega\")\n",
       "        .then(() => loadScript(\"vega-lite\"))\n",
       "        .then(() => loadScript(\"vega-embed\"))\n",
       "        .catch(showError)\n",
       "        .then(() => displayChart(vegaEmbed));\n",
       "    }\n",
       "  })({\"config\": {\"view\": {\"continuousWidth\": 400, \"continuousHeight\": 300}}, \"layer\": [{\"data\": {\"name\": \"data-0ebb11d3385ad31714e0b16220267194\"}, \"mark\": {\"type\": \"line\", \"point\": true}, \"encoding\": {\"color\": {\"type\": \"nominal\", \"field\": \"a\\u00f1o\", \"scale\": {\"domain\": [\"2015\", \"2016\", \"2017\", \"2018\", \"2019\", \"2020\", \"Promedio \\u00faltimos 5 a\\u00f1os\"], \"range\": [\"lightgray\", \"lightgray\", \"lightgray\", \"lightgray\", \"lightgray\", \"red\", \"blue\"]}}, \"x\": {\"type\": \"quantitative\", \"field\": \"semana\", \"scale\": {\"domain\": [1, 52]}}, \"y\": {\"type\": \"quantitative\", \"field\": \"defunciones\", \"scale\": {\"domain\": [0, 2000]}}}}, {\"data\": {\"name\": \"data-c4d327dd9252a39fa6803dc8e2008932\"}, \"mark\": {\"type\": \"area\", \"opacity\": 0.5}, \"encoding\": {\"x\": {\"type\": \"quantitative\", \"field\": \"semana\"}, \"y\": {\"type\": \"quantitative\", \"axis\": {\"title\": \"defunciones\"}, \"field\": \"lower\"}, \"y2\": {\"field\": \"upper\"}}}, {\"data\": {\"name\": \"data-c4d327dd9252a39fa6803dc8e2008932\"}, \"mark\": {\"type\": \"area\", \"opacity\": 0.3}, \"encoding\": {\"x\": {\"type\": \"quantitative\", \"field\": \"semana\"}, \"y\": {\"type\": \"quantitative\", \"field\": \"lower 2\"}, \"y2\": {\"field\": \"upper 2\"}}}, {\"mark\": {\"type\": \"rule\", \"color\": \"#aaa\"}, \"encoding\": {\"x\": {\"type\": \"quantitative\", \"axis\": {\"title\": \"Semanas\"}, \"field\": \"semana\", \"scale\": {\"domain\": [1, 52]}, \"sort\": null}}, \"transform\": [{\"filter\": {\"selection\": \"selector015\"}}]}, {\"data\": {\"name\": \"data-0ebb11d3385ad31714e0b16220267194\"}, \"mark\": \"circle\", \"encoding\": {\"color\": {\"type\": \"nominal\", \"field\": \"a\\u00f1o\", \"scale\": {\"domain\": [\"2015\", \"2016\", \"2017\", \"2018\", \"2019\", \"2020\", \"Promedio \\u00faltimos 5 a\\u00f1os\"], \"range\": [\"lightgray\", \"lightgray\", \"lightgray\", \"lightgray\", \"lightgray\", \"red\", \"blue\"]}}, \"opacity\": {\"condition\": {\"value\": 1, \"selection\": \"selector015\"}, \"value\": 0}, \"x\": {\"type\": \"quantitative\", \"field\": \"semana\", \"scale\": {\"domain\": [1, 52]}}, \"y\": {\"type\": \"quantitative\", \"field\": \"defunciones\", \"scale\": {\"domain\": [0, 2000]}}}, \"selection\": {\"selector015\": {\"type\": \"single\", \"encodings\": [\"x\"], \"on\": \"mouseover\", \"nearest\": true, \"empty\": \"none\"}}}, {\"data\": {\"name\": \"data-0ebb11d3385ad31714e0b16220267194\"}, \"mark\": {\"type\": \"text\", \"align\": \"left\", \"dx\": 5, \"dy\": -5, \"stroke\": \"white\", \"strokeWidth\": 2}, \"encoding\": {\"color\": {\"type\": \"nominal\", \"field\": \"a\\u00f1o\", \"scale\": {\"domain\": [\"2015\", \"2016\", \"2017\", \"2018\", \"2019\", \"2020\", \"Promedio \\u00faltimos 5 a\\u00f1os\"], \"range\": [\"lightgray\", \"lightgray\", \"lightgray\", \"lightgray\", \"lightgray\", \"red\", \"blue\"]}}, \"text\": {\"type\": \"quantitative\", \"field\": \"defunciones\"}, \"x\": {\"type\": \"quantitative\", \"field\": \"semana\", \"scale\": {\"domain\": [1, 52]}}, \"y\": {\"type\": \"quantitative\", \"field\": \"defunciones\", \"scale\": {\"domain\": [0, 2000]}}}, \"transform\": [{\"filter\": {\"selection\": \"selector015\"}}]}, {\"data\": {\"name\": \"data-0ebb11d3385ad31714e0b16220267194\"}, \"mark\": {\"type\": \"text\", \"align\": \"left\", \"dx\": 5, \"dy\": -5}, \"encoding\": {\"color\": {\"type\": \"nominal\", \"field\": \"a\\u00f1o\", \"scale\": {\"domain\": [\"2015\", \"2016\", \"2017\", \"2018\", \"2019\", \"2020\", \"Promedio \\u00faltimos 5 a\\u00f1os\"], \"range\": [\"lightgray\", \"lightgray\", \"lightgray\", \"lightgray\", \"lightgray\", \"red\", \"blue\"]}}, \"text\": {\"type\": \"quantitative\", \"field\": \"defunciones\"}, \"x\": {\"type\": \"quantitative\", \"field\": \"semana\", \"scale\": {\"domain\": [1, 52]}}, \"y\": {\"type\": \"quantitative\", \"field\": \"defunciones\", \"scale\": {\"domain\": [0, 2000]}}}, \"transform\": [{\"filter\": {\"selection\": \"selector015\"}}]}], \"data\": {\"name\": \"data-0ebb11d3385ad31714e0b16220267194\"}, \"title\": \"Defunciones inscritas en Chile por semana (corregido) hasta semana 22\", \"width\": 600, \"$schema\": \"https://vega.github.io/schema/vega-lite/v4.8.1.json\", \"datasets\": {\"data-0ebb11d3385ad31714e0b16220267194\": [{\"a\\u00f1o\": 2015, \"semana\": 1, \"defunciones\": 736.5}, {\"a\\u00f1o\": 2016, \"semana\": 1, \"defunciones\": 847.0}, {\"a\\u00f1o\": 2017, \"semana\": 1, \"defunciones\": 786.0}, {\"a\\u00f1o\": 2018, \"semana\": 1, \"defunciones\": 710.5}, {\"a\\u00f1o\": 2019, \"semana\": 1, \"defunciones\": 744.5}, {\"a\\u00f1o\": 2020, \"semana\": 1, \"defunciones\": 825.0}, {\"a\\u00f1o\": \"Promedio \\u00faltimos 5 a\\u00f1os\", \"semana\": 1, \"defunciones\": 765.0}, {\"a\\u00f1o\": 2015, \"semana\": 2, \"defunciones\": 810.0}, {\"a\\u00f1o\": 2016, \"semana\": 2, \"defunciones\": 785.0}, {\"a\\u00f1o\": 2017, \"semana\": 2, \"defunciones\": 706.0}, {\"a\\u00f1o\": 2018, \"semana\": 2, \"defunciones\": 734.0}, {\"a\\u00f1o\": 2019, \"semana\": 2, \"defunciones\": 688.5}, {\"a\\u00f1o\": 2020, \"semana\": 2, \"defunciones\": 784.0}, {\"a\\u00f1o\": \"Promedio \\u00faltimos 5 a\\u00f1os\", \"semana\": 2, \"defunciones\": 744.5}, {\"a\\u00f1o\": 2015, \"semana\": 3, \"defunciones\": 773.0}, {\"a\\u00f1o\": 2016, \"semana\": 3, \"defunciones\": 774.0}, {\"a\\u00f1o\": 2017, \"semana\": 3, \"defunciones\": 792.0}, {\"a\\u00f1o\": 2018, \"semana\": 3, \"defunciones\": 652.0}, {\"a\\u00f1o\": 2019, \"semana\": 3, \"defunciones\": 678.5}, {\"a\\u00f1o\": 2020, \"semana\": 3, \"defunciones\": 751.0}, {\"a\\u00f1o\": \"Promedio \\u00faltimos 5 a\\u00f1os\", \"semana\": 3, \"defunciones\": 734.0}, {\"a\\u00f1o\": 2015, \"semana\": 4, \"defunciones\": 672.5}, {\"a\\u00f1o\": 2016, \"semana\": 4, \"defunciones\": 745.0}, {\"a\\u00f1o\": 2017, \"semana\": 4, \"defunciones\": 846.5}, {\"a\\u00f1o\": 2018, \"semana\": 4, \"defunciones\": 629.5}, {\"a\\u00f1o\": 2019, \"semana\": 4, \"defunciones\": 753.5}, {\"a\\u00f1o\": 2020, \"semana\": 4, \"defunciones\": 724.0}, {\"a\\u00f1o\": \"Promedio \\u00faltimos 5 a\\u00f1os\", \"semana\": 4, \"defunciones\": 729.5}, {\"a\\u00f1o\": 2015, \"semana\": 5, \"defunciones\": 727.5}, {\"a\\u00f1o\": 2016, \"semana\": 5, \"defunciones\": 712.0}, {\"a\\u00f1o\": 2017, \"semana\": 5, \"defunciones\": 792.0}, {\"a\\u00f1o\": 2018, \"semana\": 5, \"defunciones\": 727.5}, {\"a\\u00f1o\": 2019, \"semana\": 5, \"defunciones\": 791.0}, {\"a\\u00f1o\": 2020, \"semana\": 5, \"defunciones\": 767.0}, {\"a\\u00f1o\": \"Promedio \\u00faltimos 5 a\\u00f1os\", \"semana\": 5, \"defunciones\": 750.5}, {\"a\\u00f1o\": 2015, \"semana\": 6, \"defunciones\": 755.5}, {\"a\\u00f1o\": 2016, \"semana\": 6, \"defunciones\": 654.5}, {\"a\\u00f1o\": 2017, \"semana\": 6, \"defunciones\": 689.0}, {\"a\\u00f1o\": 2018, \"semana\": 6, \"defunciones\": 744.5}, {\"a\\u00f1o\": 2019, \"semana\": 6, \"defunciones\": 769.0}, {\"a\\u00f1o\": 2020, \"semana\": 6, \"defunciones\": 683.0}, {\"a\\u00f1o\": \"Promedio \\u00faltimos 5 a\\u00f1os\", \"semana\": 6, \"defunciones\": 722.5}, {\"a\\u00f1o\": 2015, \"semana\": 7, \"defunciones\": 763.0}, {\"a\\u00f1o\": 2016, \"semana\": 7, \"defunciones\": 713.0}, {\"a\\u00f1o\": 2017, \"semana\": 7, \"defunciones\": 695.0}, {\"a\\u00f1o\": 2018, \"semana\": 7, \"defunciones\": 739.5}, {\"a\\u00f1o\": 2019, \"semana\": 7, \"defunciones\": 716.0}, {\"a\\u00f1o\": 2020, \"semana\": 7, \"defunciones\": 706.0}, {\"a\\u00f1o\": \"Promedio \\u00faltimos 5 a\\u00f1os\", \"semana\": 7, \"defunciones\": 725.5}, {\"a\\u00f1o\": 2015, \"semana\": 8, \"defunciones\": 740.5}, {\"a\\u00f1o\": 2016, \"semana\": 8, \"defunciones\": 768.0}, {\"a\\u00f1o\": 2017, \"semana\": 8, \"defunciones\": 751.5}, {\"a\\u00f1o\": 2018, \"semana\": 8, \"defunciones\": 729.5}, {\"a\\u00f1o\": 2019, \"semana\": 8, \"defunciones\": 684.5}, {\"a\\u00f1o\": 2020, \"semana\": 8, \"defunciones\": 616.0}, {\"a\\u00f1o\": \"Promedio \\u00faltimos 5 a\\u00f1os\", \"semana\": 8, \"defunciones\": 735.0}, {\"a\\u00f1o\": 2015, \"semana\": 9, \"defunciones\": 668.5}, {\"a\\u00f1o\": 2016, \"semana\": 9, \"defunciones\": 783.5}, {\"a\\u00f1o\": 2017, \"semana\": 9, \"defunciones\": 714.0}, {\"a\\u00f1o\": 2018, \"semana\": 9, \"defunciones\": 658.5}, {\"a\\u00f1o\": 2019, \"semana\": 9, \"defunciones\": 731.0}, {\"a\\u00f1o\": 2020, \"semana\": 9, \"defunciones\": 643.0}, {\"a\\u00f1o\": \"Promedio \\u00faltimos 5 a\\u00f1os\", \"semana\": 9, \"defunciones\": 711.0}, {\"a\\u00f1o\": 2015, \"semana\": 10, \"defunciones\": 697.0}, {\"a\\u00f1o\": 2016, \"semana\": 10, \"defunciones\": 704.5}, {\"a\\u00f1o\": 2017, \"semana\": 10, \"defunciones\": 670.5}, {\"a\\u00f1o\": 2018, \"semana\": 10, \"defunciones\": 771.5}, {\"a\\u00f1o\": 2019, \"semana\": 10, \"defunciones\": 666.0}, {\"a\\u00f1o\": 2020, \"semana\": 10, \"defunciones\": 808.0}, {\"a\\u00f1o\": \"Promedio \\u00faltimos 5 a\\u00f1os\", \"semana\": 10, \"defunciones\": 702.0}, {\"a\\u00f1o\": 2015, \"semana\": 11, \"defunciones\": 760.0}, {\"a\\u00f1o\": 2016, \"semana\": 11, \"defunciones\": 670.0}, {\"a\\u00f1o\": 2017, \"semana\": 11, \"defunciones\": 689.0}, {\"a\\u00f1o\": 2018, \"semana\": 11, \"defunciones\": 723.5}, {\"a\\u00f1o\": 2019, \"semana\": 11, \"defunciones\": 722.0}, {\"a\\u00f1o\": 2020, \"semana\": 11, \"defunciones\": 717.0}, {\"a\\u00f1o\": \"Promedio \\u00faltimos 5 a\\u00f1os\", \"semana\": 11, \"defunciones\": 713.0}, {\"a\\u00f1o\": 2015, \"semana\": 12, \"defunciones\": 723.0}, {\"a\\u00f1o\": 2016, \"semana\": 12, \"defunciones\": 725.5}, {\"a\\u00f1o\": 2017, \"semana\": 12, \"defunciones\": 694.0}, {\"a\\u00f1o\": 2018, \"semana\": 12, \"defunciones\": 743.5}, {\"a\\u00f1o\": 2019, \"semana\": 12, \"defunciones\": 753.5}, {\"a\\u00f1o\": 2020, \"semana\": 12, \"defunciones\": 719.0}, {\"a\\u00f1o\": \"Promedio \\u00faltimos 5 a\\u00f1os\", \"semana\": 12, \"defunciones\": 728.0}, {\"a\\u00f1o\": 2015, \"semana\": 13, \"defunciones\": 721.0}, {\"a\\u00f1o\": 2016, \"semana\": 13, \"defunciones\": 692.0}, {\"a\\u00f1o\": 2017, \"semana\": 13, \"defunciones\": 721.0}, {\"a\\u00f1o\": 2018, \"semana\": 13, \"defunciones\": 772.5}, {\"a\\u00f1o\": 2019, \"semana\": 13, \"defunciones\": 692.5}, {\"a\\u00f1o\": 2020, \"semana\": 13, \"defunciones\": 707.0}, {\"a\\u00f1o\": \"Promedio \\u00faltimos 5 a\\u00f1os\", \"semana\": 13, \"defunciones\": 719.5}, {\"a\\u00f1o\": 2015, \"semana\": 14, \"defunciones\": 702.0}, {\"a\\u00f1o\": 2016, \"semana\": 14, \"defunciones\": 752.5}, {\"a\\u00f1o\": 2017, \"semana\": 14, \"defunciones\": 758.5}, {\"a\\u00f1o\": 2018, \"semana\": 14, \"defunciones\": 753.0}, {\"a\\u00f1o\": 2019, \"semana\": 14, \"defunciones\": 759.5}, {\"a\\u00f1o\": 2020, \"semana\": 14, \"defunciones\": 754.0}, {\"a\\u00f1o\": \"Promedio \\u00faltimos 5 a\\u00f1os\", \"semana\": 14, \"defunciones\": 745.0}, {\"a\\u00f1o\": 2015, \"semana\": 15, \"defunciones\": 722.0}, {\"a\\u00f1o\": 2016, \"semana\": 15, \"defunciones\": 788.0}, {\"a\\u00f1o\": 2017, \"semana\": 15, \"defunciones\": 775.5}, {\"a\\u00f1o\": 2018, \"semana\": 15, \"defunciones\": 769.0}, {\"a\\u00f1o\": 2019, \"semana\": 15, \"defunciones\": 737.5}, {\"a\\u00f1o\": 2020, \"semana\": 15, \"defunciones\": 787.0}, {\"a\\u00f1o\": \"Promedio \\u00faltimos 5 a\\u00f1os\", \"semana\": 15, \"defunciones\": 759.0}, {\"a\\u00f1o\": 2015, \"semana\": 16, \"defunciones\": 714.5}, {\"a\\u00f1o\": 2016, \"semana\": 16, \"defunciones\": 815.0}, {\"a\\u00f1o\": 2017, \"semana\": 16, \"defunciones\": 776.5}, {\"a\\u00f1o\": 2018, \"semana\": 16, \"defunciones\": 767.0}, {\"a\\u00f1o\": 2019, \"semana\": 16, \"defunciones\": 816.5}, {\"a\\u00f1o\": 2020, \"semana\": 16, \"defunciones\": 778.0}, {\"a\\u00f1o\": \"Promedio \\u00faltimos 5 a\\u00f1os\", \"semana\": 16, \"defunciones\": 777.5}, {\"a\\u00f1o\": 2015, \"semana\": 17, \"defunciones\": 800.0}, {\"a\\u00f1o\": 2016, \"semana\": 17, \"defunciones\": 819.0}, {\"a\\u00f1o\": 2017, \"semana\": 17, \"defunciones\": 772.5}, {\"a\\u00f1o\": 2018, \"semana\": 17, \"defunciones\": 783.0}, {\"a\\u00f1o\": 2019, \"semana\": 17, \"defunciones\": 730.0}, {\"a\\u00f1o\": 2020, \"semana\": 17, \"defunciones\": 790.0}, {\"a\\u00f1o\": \"Promedio \\u00faltimos 5 a\\u00f1os\", \"semana\": 17, \"defunciones\": 781.0}, {\"a\\u00f1o\": 2015, \"semana\": 18, \"defunciones\": 774.0}, {\"a\\u00f1o\": 2016, \"semana\": 18, \"defunciones\": 929.0}, {\"a\\u00f1o\": 2017, \"semana\": 18, \"defunciones\": 836.0}, {\"a\\u00f1o\": 2018, \"semana\": 18, \"defunciones\": 814.5}, {\"a\\u00f1o\": 2019, \"semana\": 18, \"defunciones\": 827.5}, {\"a\\u00f1o\": 2020, \"semana\": 18, \"defunciones\": 741.0}, {\"a\\u00f1o\": \"Promedio \\u00faltimos 5 a\\u00f1os\", \"semana\": 18, \"defunciones\": 836.0}, {\"a\\u00f1o\": 2015, \"semana\": 19, \"defunciones\": 811.0}, {\"a\\u00f1o\": 2016, \"semana\": 19, \"defunciones\": 795.5}, {\"a\\u00f1o\": 2017, \"semana\": 19, \"defunciones\": 770.5}, {\"a\\u00f1o\": 2018, \"semana\": 19, \"defunciones\": 772.5}, {\"a\\u00f1o\": 2019, \"semana\": 19, \"defunciones\": 772.0}, {\"a\\u00f1o\": 2020, \"semana\": 19, \"defunciones\": 950.0}, {\"a\\u00f1o\": \"Promedio \\u00faltimos 5 a\\u00f1os\", \"semana\": 19, \"defunciones\": 784.0}, {\"a\\u00f1o\": 2015, \"semana\": 20, \"defunciones\": 844.5}, {\"a\\u00f1o\": 2016, \"semana\": 20, \"defunciones\": 829.0}, {\"a\\u00f1o\": 2017, \"semana\": 20, \"defunciones\": 823.5}, {\"a\\u00f1o\": 2018, \"semana\": 20, \"defunciones\": 849.5}, {\"a\\u00f1o\": 2019, \"semana\": 20, \"defunciones\": 921.0}, {\"a\\u00f1o\": 2020, \"semana\": 20, \"defunciones\": 1092.0}, {\"a\\u00f1o\": \"Promedio \\u00faltimos 5 a\\u00f1os\", \"semana\": 20, \"defunciones\": 853.5}, {\"a\\u00f1o\": 2015, \"semana\": 21, \"defunciones\": 821.5}, {\"a\\u00f1o\": 2016, \"semana\": 21, \"defunciones\": 838.5}, {\"a\\u00f1o\": 2017, \"semana\": 21, \"defunciones\": 867.5}, {\"a\\u00f1o\": 2018, \"semana\": 21, \"defunciones\": 834.0}, {\"a\\u00f1o\": 2019, \"semana\": 21, \"defunciones\": 912.0}, {\"a\\u00f1o\": 2020, \"semana\": 21, \"defunciones\": 1350.0}, {\"a\\u00f1o\": \"Promedio \\u00faltimos 5 a\\u00f1os\", \"semana\": 21, \"defunciones\": 854.5}, {\"a\\u00f1o\": 2015, \"semana\": 22, \"defunciones\": 915.5}, {\"a\\u00f1o\": 2016, \"semana\": 22, \"defunciones\": 879.5}, {\"a\\u00f1o\": 2017, \"semana\": 22, \"defunciones\": 929.0}, {\"a\\u00f1o\": 2018, \"semana\": 22, \"defunciones\": 871.0}, {\"a\\u00f1o\": 2019, \"semana\": 22, \"defunciones\": 903.0}, {\"a\\u00f1o\": 2020, \"semana\": 22, \"defunciones\": 1787.0}, {\"a\\u00f1o\": \"Promedio \\u00faltimos 5 a\\u00f1os\", \"semana\": 22, \"defunciones\": 900.0}, {\"a\\u00f1o\": 2015, \"semana\": 23, \"defunciones\": 869.5}, {\"a\\u00f1o\": 2016, \"semana\": 23, \"defunciones\": 837.5}, {\"a\\u00f1o\": 2017, \"semana\": 23, \"defunciones\": 969.5}, {\"a\\u00f1o\": 2018, \"semana\": 23, \"defunciones\": 955.0}, {\"a\\u00f1o\": 2019, \"semana\": 23, \"defunciones\": 976.0}, {\"a\\u00f1o\": 2020, \"semana\": 23, \"defunciones\": null}, {\"a\\u00f1o\": \"Promedio \\u00faltimos 5 a\\u00f1os\", \"semana\": 23, \"defunciones\": 921.5}, {\"a\\u00f1o\": 2015, \"semana\": 24, \"defunciones\": 886.5}, {\"a\\u00f1o\": 2016, \"semana\": 24, \"defunciones\": 884.5}, {\"a\\u00f1o\": 2017, \"semana\": 24, \"defunciones\": 1115.0}, {\"a\\u00f1o\": 2018, \"semana\": 24, \"defunciones\": 997.5}, {\"a\\u00f1o\": 2019, \"semana\": 24, \"defunciones\": 963.0}, {\"a\\u00f1o\": 2020, \"semana\": 24, \"defunciones\": null}, {\"a\\u00f1o\": \"Promedio \\u00faltimos 5 a\\u00f1os\", \"semana\": 24, \"defunciones\": 969.5}, {\"a\\u00f1o\": 2015, \"semana\": 25, \"defunciones\": 906.0}, {\"a\\u00f1o\": 2016, \"semana\": 25, \"defunciones\": 953.5}, {\"a\\u00f1o\": 2017, \"semana\": 25, \"defunciones\": 1175.0}, {\"a\\u00f1o\": 2018, \"semana\": 25, \"defunciones\": 918.5}, {\"a\\u00f1o\": 2019, \"semana\": 25, \"defunciones\": 1025.0}, {\"a\\u00f1o\": 2020, \"semana\": 25, \"defunciones\": null}, {\"a\\u00f1o\": \"Promedio \\u00faltimos 5 a\\u00f1os\", \"semana\": 25, \"defunciones\": 996.0}, {\"a\\u00f1o\": 2015, \"semana\": 26, \"defunciones\": 1019.5}, {\"a\\u00f1o\": 2016, \"semana\": 26, \"defunciones\": 1008.5}, {\"a\\u00f1o\": 2017, \"semana\": 26, \"defunciones\": 933.0}, {\"a\\u00f1o\": 2018, \"semana\": 26, \"defunciones\": 937.0}, {\"a\\u00f1o\": 2019, \"semana\": 26, \"defunciones\": 1000.5}, {\"a\\u00f1o\": 2020, \"semana\": 26, \"defunciones\": null}, {\"a\\u00f1o\": \"Promedio \\u00faltimos 5 a\\u00f1os\", \"semana\": 26, \"defunciones\": 979.0}, {\"a\\u00f1o\": 2015, \"semana\": 27, \"defunciones\": 907.0}, {\"a\\u00f1o\": 2016, \"semana\": 27, \"defunciones\": 935.5}, {\"a\\u00f1o\": 2017, \"semana\": 27, \"defunciones\": 1085.0}, {\"a\\u00f1o\": 2018, \"semana\": 27, \"defunciones\": 906.0}, {\"a\\u00f1o\": 2019, \"semana\": 27, \"defunciones\": 1017.5}, {\"a\\u00f1o\": 2020, \"semana\": 27, \"defunciones\": null}, {\"a\\u00f1o\": \"Promedio \\u00faltimos 5 a\\u00f1os\", \"semana\": 27, \"defunciones\": 970.5}, {\"a\\u00f1o\": 2015, \"semana\": 28, \"defunciones\": 961.5}, {\"a\\u00f1o\": 2016, \"semana\": 28, \"defunciones\": 1084.0}, {\"a\\u00f1o\": 2017, \"semana\": 28, \"defunciones\": 975.5}, {\"a\\u00f1o\": 2018, \"semana\": 28, \"defunciones\": 952.5}, {\"a\\u00f1o\": 2019, \"semana\": 28, \"defunciones\": 973.0}, {\"a\\u00f1o\": 2020, \"semana\": 28, \"defunciones\": null}, {\"a\\u00f1o\": \"Promedio \\u00faltimos 5 a\\u00f1os\", \"semana\": 28, \"defunciones\": 989.5}, {\"a\\u00f1o\": 2015, \"semana\": 29, \"defunciones\": 919.0}, {\"a\\u00f1o\": 2016, \"semana\": 29, \"defunciones\": 1066.0}, {\"a\\u00f1o\": 2017, \"semana\": 29, \"defunciones\": 1010.0}, {\"a\\u00f1o\": 2018, \"semana\": 29, \"defunciones\": 886.0}, {\"a\\u00f1o\": 2019, \"semana\": 29, \"defunciones\": 977.0}, {\"a\\u00f1o\": 2020, \"semana\": 29, \"defunciones\": null}, {\"a\\u00f1o\": \"Promedio \\u00faltimos 5 a\\u00f1os\", \"semana\": 29, \"defunciones\": 972.0}, {\"a\\u00f1o\": 2015, \"semana\": 30, \"defunciones\": 931.0}, {\"a\\u00f1o\": 2016, \"semana\": 30, \"defunciones\": 982.5}, {\"a\\u00f1o\": 2017, \"semana\": 30, \"defunciones\": 911.0}, {\"a\\u00f1o\": 2018, \"semana\": 30, \"defunciones\": 983.5}, {\"a\\u00f1o\": 2019, \"semana\": 30, \"defunciones\": 988.0}, {\"a\\u00f1o\": 2020, \"semana\": 30, \"defunciones\": null}, {\"a\\u00f1o\": \"Promedio \\u00faltimos 5 a\\u00f1os\", \"semana\": 30, \"defunciones\": 959.0}, {\"a\\u00f1o\": 2015, \"semana\": 31, \"defunciones\": 979.5}, {\"a\\u00f1o\": 2016, \"semana\": 31, \"defunciones\": 1004.0}, {\"a\\u00f1o\": 2017, \"semana\": 31, \"defunciones\": 933.0}, {\"a\\u00f1o\": 2018, \"semana\": 31, \"defunciones\": 1018.5}, {\"a\\u00f1o\": 2019, \"semana\": 31, \"defunciones\": 936.5}, {\"a\\u00f1o\": 2020, \"semana\": 31, \"defunciones\": null}, {\"a\\u00f1o\": \"Promedio \\u00faltimos 5 a\\u00f1os\", \"semana\": 31, \"defunciones\": 974.5}, {\"a\\u00f1o\": 2015, \"semana\": 32, \"defunciones\": 976.0}, {\"a\\u00f1o\": 2016, \"semana\": 32, \"defunciones\": 907.5}, {\"a\\u00f1o\": 2017, \"semana\": 32, \"defunciones\": 886.0}, {\"a\\u00f1o\": 2018, \"semana\": 32, \"defunciones\": 1025.0}, {\"a\\u00f1o\": 2019, \"semana\": 32, \"defunciones\": 925.0}, {\"a\\u00f1o\": 2020, \"semana\": 32, \"defunciones\": null}, {\"a\\u00f1o\": \"Promedio \\u00faltimos 5 a\\u00f1os\", \"semana\": 32, \"defunciones\": 944.0}, {\"a\\u00f1o\": 2015, \"semana\": 33, \"defunciones\": 892.5}, {\"a\\u00f1o\": 2016, \"semana\": 33, \"defunciones\": 870.0}, {\"a\\u00f1o\": 2017, \"semana\": 33, \"defunciones\": 920.5}, {\"a\\u00f1o\": 2018, \"semana\": 33, \"defunciones\": 949.5}, {\"a\\u00f1o\": 2019, \"semana\": 33, \"defunciones\": 902.0}, {\"a\\u00f1o\": 2020, \"semana\": 33, \"defunciones\": null}, {\"a\\u00f1o\": \"Promedio \\u00faltimos 5 a\\u00f1os\", \"semana\": 33, \"defunciones\": 907.0}, {\"a\\u00f1o\": 2015, \"semana\": 34, \"defunciones\": 963.5}, {\"a\\u00f1o\": 2016, \"semana\": 34, \"defunciones\": 879.5}, {\"a\\u00f1o\": 2017, \"semana\": 34, \"defunciones\": 860.0}, {\"a\\u00f1o\": 2018, \"semana\": 34, \"defunciones\": 994.5}, {\"a\\u00f1o\": 2019, \"semana\": 34, \"defunciones\": 874.5}, {\"a\\u00f1o\": 2020, \"semana\": 34, \"defunciones\": null}, {\"a\\u00f1o\": \"Promedio \\u00faltimos 5 a\\u00f1os\", \"semana\": 34, \"defunciones\": 914.5}, {\"a\\u00f1o\": 2015, \"semana\": 35, \"defunciones\": 931.0}, {\"a\\u00f1o\": 2016, \"semana\": 35, \"defunciones\": 874.0}, {\"a\\u00f1o\": 2017, \"semana\": 35, \"defunciones\": 870.5}, {\"a\\u00f1o\": 2018, \"semana\": 35, \"defunciones\": 929.5}, {\"a\\u00f1o\": 2019, \"semana\": 35, \"defunciones\": 892.5}, {\"a\\u00f1o\": 2020, \"semana\": 35, \"defunciones\": null}, {\"a\\u00f1o\": \"Promedio \\u00faltimos 5 a\\u00f1os\", \"semana\": 35, \"defunciones\": 900.0}, {\"a\\u00f1o\": 2015, \"semana\": 36, \"defunciones\": 898.5}, {\"a\\u00f1o\": 2016, \"semana\": 36, \"defunciones\": 955.5}, {\"a\\u00f1o\": 2017, \"semana\": 36, \"defunciones\": 841.5}, {\"a\\u00f1o\": 2018, \"semana\": 36, \"defunciones\": 915.5}, {\"a\\u00f1o\": 2019, \"semana\": 36, \"defunciones\": 900.0}, {\"a\\u00f1o\": 2020, \"semana\": 36, \"defunciones\": null}, {\"a\\u00f1o\": \"Promedio \\u00faltimos 5 a\\u00f1os\", \"semana\": 36, \"defunciones\": 902.5}, {\"a\\u00f1o\": 2015, \"semana\": 37, \"defunciones\": 831.5}, {\"a\\u00f1o\": 2016, \"semana\": 37, \"defunciones\": 880.5}, {\"a\\u00f1o\": 2017, \"semana\": 37, \"defunciones\": 905.0}, {\"a\\u00f1o\": 2018, \"semana\": 37, \"defunciones\": 911.5}, {\"a\\u00f1o\": 2019, \"semana\": 37, \"defunciones\": 853.0}, {\"a\\u00f1o\": 2020, \"semana\": 37, \"defunciones\": null}, {\"a\\u00f1o\": \"Promedio \\u00faltimos 5 a\\u00f1os\", \"semana\": 37, \"defunciones\": 876.0}, {\"a\\u00f1o\": 2015, \"semana\": 38, \"defunciones\": 843.5}, {\"a\\u00f1o\": 2016, \"semana\": 38, \"defunciones\": 895.0}, {\"a\\u00f1o\": 2017, \"semana\": 38, \"defunciones\": 795.0}, {\"a\\u00f1o\": 2018, \"semana\": 38, \"defunciones\": 820.0}, {\"a\\u00f1o\": 2019, \"semana\": 38, \"defunciones\": 775.0}, {\"a\\u00f1o\": 2020, \"semana\": 38, \"defunciones\": null}, {\"a\\u00f1o\": \"Promedio \\u00faltimos 5 a\\u00f1os\", \"semana\": 38, \"defunciones\": 825.5}, {\"a\\u00f1o\": 2015, \"semana\": 39, \"defunciones\": 924.0}, {\"a\\u00f1o\": 2016, \"semana\": 39, \"defunciones\": 779.5}, {\"a\\u00f1o\": 2017, \"semana\": 39, \"defunciones\": 863.5}, {\"a\\u00f1o\": 2018, \"semana\": 39, \"defunciones\": 837.0}, {\"a\\u00f1o\": 2019, \"semana\": 39, \"defunciones\": 907.0}, {\"a\\u00f1o\": 2020, \"semana\": 39, \"defunciones\": null}, {\"a\\u00f1o\": \"Promedio \\u00faltimos 5 a\\u00f1os\", \"semana\": 39, \"defunciones\": 862.5}, {\"a\\u00f1o\": 2015, \"semana\": 40, \"defunciones\": 773.0}, {\"a\\u00f1o\": 2016, \"semana\": 40, \"defunciones\": 859.0}, {\"a\\u00f1o\": 2017, \"semana\": 40, \"defunciones\": 873.5}, {\"a\\u00f1o\": 2018, \"semana\": 40, \"defunciones\": 832.0}, {\"a\\u00f1o\": 2019, \"semana\": 40, \"defunciones\": 822.5}, {\"a\\u00f1o\": 2020, \"semana\": 40, \"defunciones\": null}, {\"a\\u00f1o\": \"Promedio \\u00faltimos 5 a\\u00f1os\", \"semana\": 40, \"defunciones\": 832.0}, {\"a\\u00f1o\": 2015, \"semana\": 41, \"defunciones\": 929.0}, {\"a\\u00f1o\": 2016, \"semana\": 41, \"defunciones\": 769.0}, {\"a\\u00f1o\": 2017, \"semana\": 41, \"defunciones\": 795.0}, {\"a\\u00f1o\": 2018, \"semana\": 41, \"defunciones\": 769.0}, {\"a\\u00f1o\": 2019, \"semana\": 41, \"defunciones\": 827.5}, {\"a\\u00f1o\": 2020, \"semana\": 41, \"defunciones\": null}, {\"a\\u00f1o\": \"Promedio \\u00faltimos 5 a\\u00f1os\", \"semana\": 41, \"defunciones\": 817.5}, {\"a\\u00f1o\": 2015, \"semana\": 42, \"defunciones\": 830.5}, {\"a\\u00f1o\": 2016, \"semana\": 42, \"defunciones\": 708.5}, {\"a\\u00f1o\": 2017, \"semana\": 42, \"defunciones\": 811.0}, {\"a\\u00f1o\": 2018, \"semana\": 42, \"defunciones\": 766.0}, {\"a\\u00f1o\": 2019, \"semana\": 42, \"defunciones\": 742.5}, {\"a\\u00f1o\": 2020, \"semana\": 42, \"defunciones\": null}, {\"a\\u00f1o\": \"Promedio \\u00faltimos 5 a\\u00f1os\", \"semana\": 42, \"defunciones\": 771.5}, {\"a\\u00f1o\": 2015, \"semana\": 43, \"defunciones\": 803.5}, {\"a\\u00f1o\": 2016, \"semana\": 43, \"defunciones\": 868.0}, {\"a\\u00f1o\": 2017, \"semana\": 43, \"defunciones\": 750.5}, {\"a\\u00f1o\": 2018, \"semana\": 43, \"defunciones\": 845.5}, {\"a\\u00f1o\": 2019, \"semana\": 43, \"defunciones\": 772.0}, {\"a\\u00f1o\": 2020, \"semana\": 43, \"defunciones\": null}, {\"a\\u00f1o\": \"Promedio \\u00faltimos 5 a\\u00f1os\", \"semana\": 43, \"defunciones\": 808.0}, {\"a\\u00f1o\": 2015, \"semana\": 44, \"defunciones\": 707.0}, {\"a\\u00f1o\": 2016, \"semana\": 44, \"defunciones\": 760.0}, {\"a\\u00f1o\": 2017, \"semana\": 44, \"defunciones\": 705.0}, {\"a\\u00f1o\": 2018, \"semana\": 44, \"defunciones\": 744.5}, {\"a\\u00f1o\": 2019, \"semana\": 44, \"defunciones\": 830.0}, {\"a\\u00f1o\": 2020, \"semana\": 44, \"defunciones\": null}, {\"a\\u00f1o\": \"Promedio \\u00faltimos 5 a\\u00f1os\", \"semana\": 44, \"defunciones\": 749.0}, {\"a\\u00f1o\": 2015, \"semana\": 45, \"defunciones\": 779.5}, {\"a\\u00f1o\": 2016, \"semana\": 45, \"defunciones\": 773.0}, {\"a\\u00f1o\": 2017, \"semana\": 45, \"defunciones\": 758.5}, {\"a\\u00f1o\": 2018, \"semana\": 45, \"defunciones\": 832.0}, {\"a\\u00f1o\": 2019, \"semana\": 45, \"defunciones\": 805.5}, {\"a\\u00f1o\": 2020, \"semana\": 45, \"defunciones\": null}, {\"a\\u00f1o\": \"Promedio \\u00faltimos 5 a\\u00f1os\", \"semana\": 45, \"defunciones\": 789.5}, {\"a\\u00f1o\": 2015, \"semana\": 46, \"defunciones\": 889.5}, {\"a\\u00f1o\": 2016, \"semana\": 46, \"defunciones\": 726.5}, {\"a\\u00f1o\": 2017, \"semana\": 46, \"defunciones\": 707.0}, {\"a\\u00f1o\": 2018, \"semana\": 46, \"defunciones\": 774.5}, {\"a\\u00f1o\": 2019, \"semana\": 46, \"defunciones\": 755.5}, {\"a\\u00f1o\": 2020, \"semana\": 46, \"defunciones\": null}, {\"a\\u00f1o\": \"Promedio \\u00faltimos 5 a\\u00f1os\", \"semana\": 46, \"defunciones\": 771.0}, {\"a\\u00f1o\": 2015, \"semana\": 47, \"defunciones\": 824.5}, {\"a\\u00f1o\": 2016, \"semana\": 47, \"defunciones\": 672.0}, {\"a\\u00f1o\": 2017, \"semana\": 47, \"defunciones\": 782.0}, {\"a\\u00f1o\": 2018, \"semana\": 47, \"defunciones\": 823.0}, {\"a\\u00f1o\": 2019, \"semana\": 47, \"defunciones\": 801.5}, {\"a\\u00f1o\": 2020, \"semana\": 47, \"defunciones\": null}, {\"a\\u00f1o\": \"Promedio \\u00faltimos 5 a\\u00f1os\", \"semana\": 47, \"defunciones\": 780.5}, {\"a\\u00f1o\": 2015, \"semana\": 48, \"defunciones\": 761.0}, {\"a\\u00f1o\": 2016, \"semana\": 48, \"defunciones\": 721.5}, {\"a\\u00f1o\": 2017, \"semana\": 48, \"defunciones\": 706.0}, {\"a\\u00f1o\": 2018, \"semana\": 48, \"defunciones\": 716.0}, {\"a\\u00f1o\": 2019, \"semana\": 48, \"defunciones\": 751.5}, {\"a\\u00f1o\": 2020, \"semana\": 48, \"defunciones\": null}, {\"a\\u00f1o\": \"Promedio \\u00faltimos 5 a\\u00f1os\", \"semana\": 48, \"defunciones\": 731.0}, {\"a\\u00f1o\": 2015, \"semana\": 49, \"defunciones\": 805.5}, {\"a\\u00f1o\": 2016, \"semana\": 49, \"defunciones\": 728.5}, {\"a\\u00f1o\": 2017, \"semana\": 49, \"defunciones\": 697.0}, {\"a\\u00f1o\": 2018, \"semana\": 49, \"defunciones\": 786.0}, {\"a\\u00f1o\": 2019, \"semana\": 49, \"defunciones\": 775.0}, {\"a\\u00f1o\": 2020, \"semana\": 49, \"defunciones\": null}, {\"a\\u00f1o\": \"Promedio \\u00faltimos 5 a\\u00f1os\", \"semana\": 49, \"defunciones\": 758.5}, {\"a\\u00f1o\": 2015, \"semana\": 50, \"defunciones\": 785.0}, {\"a\\u00f1o\": 2016, \"semana\": 50, \"defunciones\": 795.5}, {\"a\\u00f1o\": 2017, \"semana\": 50, \"defunciones\": 717.0}, {\"a\\u00f1o\": 2018, \"semana\": 50, \"defunciones\": 739.5}, {\"a\\u00f1o\": 2019, \"semana\": 50, \"defunciones\": 693.5}, {\"a\\u00f1o\": 2020, \"semana\": 50, \"defunciones\": null}, {\"a\\u00f1o\": \"Promedio \\u00faltimos 5 a\\u00f1os\", \"semana\": 50, \"defunciones\": 746.0}, {\"a\\u00f1o\": 2015, \"semana\": 51, \"defunciones\": 780.5}, {\"a\\u00f1o\": 2016, \"semana\": 51, \"defunciones\": 663.0}, {\"a\\u00f1o\": 2017, \"semana\": 51, \"defunciones\": 826.5}, {\"a\\u00f1o\": 2018, \"semana\": 51, \"defunciones\": 813.5}, {\"a\\u00f1o\": 2019, \"semana\": 51, \"defunciones\": 718.0}, {\"a\\u00f1o\": 2020, \"semana\": 51, \"defunciones\": null}, {\"a\\u00f1o\": \"Promedio \\u00faltimos 5 a\\u00f1os\", \"semana\": 51, \"defunciones\": 760.5}, {\"a\\u00f1o\": 2015, \"semana\": 52, \"defunciones\": 758.5}, {\"a\\u00f1o\": 2016, \"semana\": 52, \"defunciones\": 703.5}, {\"a\\u00f1o\": 2017, \"semana\": 52, \"defunciones\": 816.0}, {\"a\\u00f1o\": 2018, \"semana\": 52, \"defunciones\": 756.0}, {\"a\\u00f1o\": 2019, \"semana\": 52, \"defunciones\": 745.5}, {\"a\\u00f1o\": 2020, \"semana\": 52, \"defunciones\": null}, {\"a\\u00f1o\": \"Promedio \\u00faltimos 5 a\\u00f1os\", \"semana\": 52, \"defunciones\": 756.0}], \"data-c4d327dd9252a39fa6803dc8e2008932\": [{\"semana\": 1, \"Expected\": 765.0, \"lower\": 711.5, \"upper\": 818.5, \"lower 2\": 658.5, \"upper 2\": 871.5}, {\"semana\": 2, \"Expected\": 744.5, \"lower\": 693.0, \"upper\": 796.0, \"lower 2\": 641.0, \"upper 2\": 848.0}, {\"semana\": 3, \"Expected\": 734.0, \"lower\": 670.0, \"upper\": 798.0, \"lower 2\": 606.5, \"upper 2\": 861.5}, {\"semana\": 4, \"Expected\": 729.5, \"lower\": 646.0, \"upper\": 813.0, \"lower 2\": 563.0, \"upper 2\": 896.0}, {\"semana\": 5, \"Expected\": 750.5, \"lower\": 712.0, \"upper\": 789.0, \"lower 2\": 673.5, \"upper 2\": 827.5}, {\"semana\": 6, \"Expected\": 722.5, \"lower\": 674.0, \"upper\": 771.0, \"lower 2\": 625.0, \"upper 2\": 820.0}, {\"semana\": 7, \"Expected\": 725.5, \"lower\": 699.0, \"upper\": 752.0, \"lower 2\": 673.0, \"upper 2\": 778.0}, {\"semana\": 8, \"Expected\": 735.0, \"lower\": 703.5, \"upper\": 766.5, \"lower 2\": 672.0, \"upper 2\": 798.0}, {\"semana\": 9, \"Expected\": 711.0, \"lower\": 660.5, \"upper\": 761.5, \"lower 2\": 610.0, \"upper 2\": 812.0}, {\"semana\": 10, \"Expected\": 702.0, \"lower\": 659.5, \"upper\": 744.5, \"lower 2\": 617.5, \"upper 2\": 786.5}, {\"semana\": 11, \"Expected\": 713.0, \"lower\": 678.5, \"upper\": 747.5, \"lower 2\": 643.5, \"upper 2\": 782.5}, {\"semana\": 12, \"Expected\": 728.0, \"lower\": 705.0, \"upper\": 751.0, \"lower 2\": 682.5, \"upper 2\": 773.5}, {\"semana\": 13, \"Expected\": 719.5, \"lower\": 686.5, \"upper\": 752.5, \"lower 2\": 654.0, \"upper 2\": 785.0}, {\"semana\": 14, \"Expected\": 745.0, \"lower\": 720.5, \"upper\": 769.5, \"lower 2\": 696.5, \"upper 2\": 793.5}, {\"semana\": 15, \"Expected\": 759.0, \"lower\": 731.5, \"upper\": 786.5, \"lower 2\": 704.0, \"upper 2\": 814.0}, {\"semana\": 16, \"Expected\": 777.5, \"lower\": 735.5, \"upper\": 819.5, \"lower 2\": 694.0, \"upper 2\": 861.0}, {\"semana\": 17, \"Expected\": 781.0, \"lower\": 747.5, \"upper\": 814.5, \"lower 2\": 714.0, \"upper 2\": 848.0}, {\"semana\": 18, \"Expected\": 836.0, \"lower\": 779.0, \"upper\": 893.0, \"lower 2\": 722.0, \"upper 2\": 950.0}, {\"semana\": 19, \"Expected\": 784.0, \"lower\": 766.0, \"upper\": 802.0, \"lower 2\": 747.5, \"upper 2\": 820.5}, {\"semana\": 20, \"Expected\": 853.5, \"lower\": 814.5, \"upper\": 892.5, \"lower 2\": 775.0, \"upper 2\": 932.0}, {\"semana\": 21, \"Expected\": 854.5, \"lower\": 818.5, \"upper\": 890.5, \"lower 2\": 782.0, \"upper 2\": 927.0}, {\"semana\": 22, \"Expected\": 900.0, \"lower\": 876.0, \"upper\": 924.0, \"lower 2\": 851.5, \"upper 2\": 948.5}, {\"semana\": 23, \"Expected\": 921.5, \"lower\": 858.0, \"upper\": 985.0, \"lower 2\": 794.5, \"upper 2\": 1049.0}, {\"semana\": 24, \"Expected\": 969.5, \"lower\": 874.5, \"upper\": 1064.0, \"lower 2\": 779.5, \"upper 2\": 1160.0}, {\"semana\": 25, \"Expected\": 996.0, \"lower\": 885.5, \"upper\": 1106.0, \"lower 2\": 775.0, \"upper 2\": 1217.0}, {\"semana\": 26, \"Expected\": 979.0, \"lower\": 937.5, \"upper\": 1020.5, \"lower 2\": 896.0, \"upper 2\": 1062.0}, {\"semana\": 27, \"Expected\": 970.5, \"lower\": 892.0, \"upper\": 1049.0, \"lower 2\": 813.0, \"upper 2\": 1128.0}, {\"semana\": 28, \"Expected\": 989.5, \"lower\": 936.0, \"upper\": 1043.0, \"lower 2\": 882.0, \"upper 2\": 1097.0}, {\"semana\": 29, \"Expected\": 972.0, \"lower\": 900.5, \"upper\": 1044.0, \"lower 2\": 829.0, \"upper 2\": 1115.0}, {\"semana\": 30, \"Expected\": 959.0, \"lower\": 923.5, \"upper\": 994.5, \"lower 2\": 888.0, \"upper 2\": 1030.0}, {\"semana\": 31, \"Expected\": 974.5, \"lower\": 936.0, \"upper\": 1013.0, \"lower 2\": 897.0, \"upper 2\": 1052.0}, {\"semana\": 32, \"Expected\": 944.0, \"lower\": 888.0, \"upper\": 1000.0, \"lower 2\": 831.5, \"upper 2\": 1056.0}, {\"semana\": 33, \"Expected\": 907.0, \"lower\": 877.0, \"upper\": 937.0, \"lower 2\": 847.0, \"upper 2\": 967.0}, {\"semana\": 34, \"Expected\": 914.5, \"lower\": 854.0, \"upper\": 975.0, \"lower 2\": 793.5, \"upper 2\": 1035.0}, {\"semana\": 35, \"Expected\": 900.0, \"lower\": 870.5, \"upper\": 929.5, \"lower 2\": 841.5, \"upper 2\": 958.5}, {\"semana\": 36, \"Expected\": 902.5, \"lower\": 861.5, \"upper\": 943.5, \"lower 2\": 820.5, \"upper 2\": 984.5}, {\"semana\": 37, \"Expected\": 876.0, \"lower\": 842.0, \"upper\": 910.0, \"lower 2\": 808.0, \"upper 2\": 944.0}, {\"semana\": 38, \"Expected\": 825.5, \"lower\": 779.0, \"upper\": 872.0, \"lower 2\": 732.5, \"upper 2\": 918.5}, {\"semana\": 39, \"Expected\": 862.5, \"lower\": 805.0, \"upper\": 920.0, \"lower 2\": 747.0, \"upper 2\": 978.0}, {\"semana\": 40, \"Expected\": 832.0, \"lower\": 793.0, \"upper\": 871.0, \"lower 2\": 754.5, \"upper 2\": 909.5}, {\"semana\": 41, \"Expected\": 817.5, \"lower\": 751.0, \"upper\": 884.0, \"lower 2\": 684.0, \"upper 2\": 951.0}, {\"semana\": 42, \"Expected\": 771.5, \"lower\": 722.0, \"upper\": 821.0, \"lower 2\": 672.0, \"upper 2\": 871.0}, {\"semana\": 43, \"Expected\": 808.0, \"lower\": 759.0, \"upper\": 857.0, \"lower 2\": 710.0, \"upper 2\": 906.0}, {\"semana\": 44, \"Expected\": 749.0, \"lower\": 698.0, \"upper\": 800.0, \"lower 2\": 647.0, \"upper 2\": 851.0}, {\"semana\": 45, \"Expected\": 789.5, \"lower\": 760.5, \"upper\": 818.5, \"lower 2\": 731.0, \"upper 2\": 848.0}, {\"semana\": 46, \"Expected\": 771.0, \"lower\": 699.5, \"upper\": 842.5, \"lower 2\": 628.0, \"upper 2\": 914.0}, {\"semana\": 47, \"Expected\": 780.5, \"lower\": 717.5, \"upper\": 843.5, \"lower 2\": 654.0, \"upper 2\": 907.0}, {\"semana\": 48, \"Expected\": 731.0, \"lower\": 707.0, \"upper\": 755.0, \"lower 2\": 683.5, \"upper 2\": 778.5}, {\"semana\": 49, \"Expected\": 758.5, \"lower\": 714.0, \"upper\": 803.0, \"lower 2\": 669.5, \"upper 2\": 847.5}, {\"semana\": 50, \"Expected\": 746.0, \"lower\": 702.5, \"upper\": 789.5, \"lower 2\": 659.0, \"upper 2\": 833.0}, {\"semana\": 51, \"Expected\": 760.5, \"lower\": 692.0, \"upper\": 829.0, \"lower 2\": 623.0, \"upper 2\": 898.0}, {\"semana\": 52, \"Expected\": 756.0, \"lower\": 716.0, \"upper\": 796.0, \"lower 2\": 675.5, \"upper 2\": 836.5}]}}, {\"mode\": \"vega-lite\"});\n",
       "</script>"
      ],
      "text/plain": [
       "alt.LayerChart(...)"
      ]
     },
     "execution_count": 232,
     "metadata": {},
     "output_type": "execute_result"
    }
   ],
   "source": [
    "#hide_input\n",
    "label = alt.selection_single(\n",
    "    encodings=['x'], # limit selection to x-axis value\n",
    "    on='mouseover',  # select on mouseover events\n",
    "    nearest=True,    # select data point nearest the cursor\n",
    "    empty='none'     # empty selection includes no data points\n",
    ")\n",
    "\n",
    "base = alt.Chart(amended_deaths.drop([i for i in np.arange(2012,2015)]).reset_index().melt(\"index\", value_name=\"defunciones\").rename(columns={\"index\":\"año\"})).mark_line(point=True).encode(\n",
    "    x = alt.X(\"semana:Q\",scale=alt.Scale(domain=(1, 52))),\n",
    "    y = alt.Y(\"defunciones\", scale=alt.Scale(domain=(0,2000))),\n",
    "    color=alt.Color('año:N', scale=alt.Scale(range=['lightgray', 'lightgray', 'lightgray', 'lightgray', 'lightgray', 'red', 'blue'], \n",
    "                                             domain=[\"2015\", \"2016\", \"2017\", \"2018\", \"2019\", \"2020\", \"Promedio últimos 5 años\"]))\n",
    ")\n",
    "\n",
    "alt.layer(\n",
    "    base, # base line chart\n",
    "    \n",
    "    alt.Chart(df_expected.reset_index()).mark_area(\n",
    "        opacity=0.5\n",
    "    ).encode(\n",
    "        x=\"semana\",\n",
    "        y=alt.Y(\"lower:Q\", axis=alt.Axis(title=\"defunciones\")),\n",
    "        #y=\"lower:Q\",\n",
    "        y2=\"upper:Q\"\n",
    "    ),\n",
    "    \n",
    "    alt.Chart(df_expected.reset_index()).mark_area(\n",
    "        opacity=0.3\n",
    "    ).encode(\n",
    "        x=\"semana\",\n",
    "        y=\"lower 2:Q\",\n",
    "        y2=\"upper 2:Q\"\n",
    "    ),\n",
    "    \n",
    "#     alt.Chart(expected.reset_index().rename(columns={0:\"defunciones\"})).mark_line(point=True).encode(\n",
    "#     x = \"semana\",\n",
    "#     y = \"defunciones\"\n",
    "#     ),\n",
    "    # add a rule mark to serve as a guide line\n",
    "    alt.Chart().mark_rule(color='#aaa').encode(\n",
    "        x = alt.X('semana:Q', scale=alt.Scale(domain=(1, 52)), axis=alt.Axis(title='Semanas'), sort=None)\n",
    "    ).transform_filter(label),\n",
    "    \n",
    "    # add circle marks for selected time points, hide unselected points\n",
    "    base.mark_circle().encode(\n",
    "        opacity=alt.condition(label, alt.value(1), alt.value(0))\n",
    "    ).add_selection(label),\n",
    "\n",
    "    # add white stroked text to provide a legible background for labels\n",
    "    base.mark_text(align='left', dx=5, dy=-5, stroke='white', strokeWidth=2).encode(\n",
    "        text='defunciones'\n",
    "    ).transform_filter(label),\n",
    "\n",
    "    # add text labels for stock prices\n",
    "    base.mark_text(align='left', dx=5, dy=-5).encode(\n",
    "        text='defunciones'\n",
    "    ).transform_filter(label),\n",
    "    \n",
    "    data=amended_deaths.drop([i for i in np.arange(2012,2015)]).reset_index().melt(\"index\", value_name=\"defunciones\").rename(columns={\"index\":\"año\"})\n",
    ").properties(\n",
    "    title = f'Defunciones inscritas en Chile por semana (corregido) hasta semana {current_week-1}',\n",
    "    width=600\n",
    ")"
   ]
  },
  {
   "cell_type": "markdown",
   "metadata": {},
   "source": [
    "Fuente: [Ministerio de Ciencia](https://github.com/MinCiencia/Datos-COVID19), [Registro Civil](https://www.registrocivil.cl/)"
   ]
  },
  {
   "cell_type": "code",
   "execution_count": 234,
   "metadata": {
    "colab": {
     "base_uri": "https://localhost:8080/",
     "height": 34
    },
    "colab_type": "code",
    "id": "xtnqH0PthQcA",
    "outputId": "1a2e97f7-9e1f-42b0-8e60-01c90ea9e576",
    "scrolled": true
   },
   "outputs": [
    {
     "data": {
      "text/plain": [
       "-17.5"
      ]
     },
     "execution_count": 234,
     "metadata": {},
     "output_type": "execute_result"
    }
   ],
   "source": [
    "#hide\n",
    "(amended_deaths.loc[2020,:12] - expected).sum()"
   ]
  },
  {
   "cell_type": "code",
   "execution_count": 235,
   "metadata": {
    "colab": {},
    "colab_type": "code",
    "id": "2IXcwDo4i9Zz"
   },
   "outputs": [],
   "source": [
    "#hide\n",
    "excess_mortality = []\n",
    "for i in np.arange(1,23):\n",
    "    excess_mortality.append((amended_deaths.loc[2020,:i] - expected).sum())"
   ]
  },
  {
   "cell_type": "code",
   "execution_count": 274,
   "metadata": {
    "colab": {},
    "colab_type": "code",
    "id": "JrWzYMKHjTYj"
   },
   "outputs": [
    {
     "data": {
      "text/plain": [
       "0       NaN\n",
       "1      39.5\n",
       "2      17.0\n",
       "3      -5.5\n",
       "4      16.5\n",
       "5     -39.5\n",
       "6     -19.5\n",
       "7    -119.0\n",
       "8     -68.0\n",
       "9     106.0\n",
       "10      4.0\n",
       "11     -9.0\n",
       "12    -12.5\n",
       "13      9.0\n",
       "14     28.0\n",
       "15      0.5\n",
       "16      9.0\n",
       "17    -95.0\n",
       "18    166.0\n",
       "19    238.5\n",
       "20    495.5\n",
       "21    886.5\n",
       "dtype: float64"
      ]
     },
     "execution_count": 274,
     "metadata": {},
     "output_type": "execute_result"
    }
   ],
   "source": [
    "#hide\n",
    "excess_mortality = pd.Series(excess_mortality)\n",
    "excess_mortality.diff()"
   ]
  },
  {
   "cell_type": "code",
   "execution_count": 237,
   "metadata": {
    "colab": {},
    "colab_type": "code",
    "id": "3yhSSdR6jrPF"
   },
   "outputs": [],
   "source": [
    "#hide\n",
    "casos_raw = pd.read_csv(\n",
    "    \"https://raw.githubusercontent.com/MinCiencia/Datos-COVID19/master/output/producto3/CasosTotalesCumulativo.csv\",\n",
    "    index_col='Region')"
   ]
  },
  {
   "cell_type": "code",
   "execution_count": 238,
   "metadata": {
    "colab": {
     "base_uri": "https://localhost:8080/",
     "height": 225
    },
    "colab_type": "code",
    "id": "7K2JMgn8rrSJ",
    "outputId": "6109ead7-f2e3-4bbd-b135-2dd171864759"
   },
   "outputs": [
    {
     "data": {
      "text/plain": [
       "2020-03-03    0\n",
       "2020-03-04    1\n",
       "Name: Metropolitana, dtype: int64"
      ]
     },
     "execution_count": 238,
     "metadata": {},
     "output_type": "execute_result"
    }
   ],
   "source": [
    "#hide\n",
    "casos_raw.loc[\"Metropolitana\"].head(2)"
   ]
  },
  {
   "cell_type": "code",
   "execution_count": 239,
   "metadata": {
    "colab": {
     "base_uri": "https://localhost:8080/",
     "height": 34
    },
    "colab_type": "code",
    "id": "l4upf3Cmixfw",
    "outputId": "818554ba-f67a-487e-d670-b53e4ec78ce5"
   },
   "outputs": [
    {
     "data": {
      "text/plain": [
       "10"
      ]
     },
     "execution_count": 239,
     "metadata": {},
     "output_type": "execute_result"
    }
   ],
   "source": [
    "#hide\n",
    "_, week_first_case, _ = pd.to_datetime(\"2020-03-03\").isocalendar()\n",
    "week_first_case"
   ]
  },
  {
   "cell_type": "code",
   "execution_count": 240,
   "metadata": {
    "colab": {},
    "colab_type": "code",
    "id": "PFZfMsZDkfxU"
   },
   "outputs": [],
   "source": [
    "#hide\n",
    "data = pd.DataFrame()\n",
    "data_raw = pd.read_csv(\n",
    "    \"https://raw.githubusercontent.com/MinCiencia/Datos-COVID19/master/output/producto4/2020-03-24-CasosConfirmados-totalRegional.csv\",\n",
    "    index_col='Region')\n",
    "data['2020-03-24'] = data_raw['Fallecidos']"
   ]
  },
  {
   "cell_type": "code",
   "execution_count": 242,
   "metadata": {},
   "outputs": [
    {
     "data": {
      "text/plain": [
       "'2020-06-06'"
      ]
     },
     "execution_count": 242,
     "metadata": {},
     "output_type": "execute_result"
    }
   ],
   "source": [
    "#hide\n",
    "update_date = pd.to_datetime('today') - pd.offsets.Hour(19)\n",
    "today = update_date.strftime('%Y-%m-%d')\n",
    "today"
   ]
  },
  {
   "cell_type": "code",
   "execution_count": 243,
   "metadata": {
    "colab": {},
    "colab_type": "code",
    "id": "XWCSiMSqlIZe"
   },
   "outputs": [],
   "source": [
    "#hide\n",
    "first_death_date = '2020-03-24'\n",
    "total_days = (pd.to_datetime(today)-pd.to_datetime(first_death_date)).days"
   ]
  },
  {
   "cell_type": "code",
   "execution_count": 244,
   "metadata": {
    "colab": {},
    "colab_type": "code",
    "id": "ub1SmBWflMAN"
   },
   "outputs": [],
   "source": [
    "#hide\n",
    "for i in np.arange(total_days+1):\n",
    "    date = (pd.to_datetime(first_death_date)+pd.DateOffset(i)).strftime('%Y-%m-%d')\n",
    "    s = \"https://raw.githubusercontent.com/MinCiencia/Datos-COVID19/master/output/producto4/\" + date + \"-CasosConfirmados-totalRegional.csv\"\n",
    "    data_by_date = pd.read_csv(s)\n",
    "    if 'Fallecidos' in data_by_date.columns:\n",
    "        data[date] = data_by_date[\"Fallecidos\"].values\n",
    "    elif 'Casos fallecidos' in data_by_date.columns:\n",
    "        data[date] = data_by_date[\"Casos fallecidos\"].values\n",
    "    elif 'Fallecidos totales' in data_by_date.columns:\n",
    "        data[date] = data_by_date[\"Fallecidos totales\"].values\n",
    "    elif 'Fallecidos totales ' in data_by_date.columns:\n",
    "        data[date] = data_by_date[\"Fallecidos totales \"].values\n",
    "    else:\n",
    "        data[date] = data_by_date[\" Casos fallecidos\"].values"
   ]
  },
  {
   "cell_type": "code",
   "execution_count": 246,
   "metadata": {},
   "outputs": [
    {
     "data": {
      "text/plain": [
       "2020-03-24       2\n",
       "2020-03-25       2\n",
       "2020-03-26       3\n",
       "2020-03-27       3\n",
       "2020-03-28       3\n",
       "              ... \n",
       "2020-06-02     894\n",
       "2020-06-03     961\n",
       "2020-06-04    1034\n",
       "2020-06-05    1105\n",
       "2020-06-06    1184\n",
       "Name: Metropolitana, Length: 75, dtype: int64"
      ]
     },
     "execution_count": 246,
     "metadata": {},
     "output_type": "execute_result"
    }
   ],
   "source": [
    "#hide\n",
    "data.loc[\"Metropolitana\"]"
   ]
  },
  {
   "cell_type": "code",
   "execution_count": 247,
   "metadata": {},
   "outputs": [
    {
     "data": {
      "text/plain": [
       "13"
      ]
     },
     "execution_count": 247,
     "metadata": {},
     "output_type": "execute_result"
    }
   ],
   "source": [
    "#hide\n",
    "_, week_first_death, _ = pd.to_datetime(\"2020-03-24\").isocalendar()\n",
    "week_first_death"
   ]
  },
  {
   "cell_type": "code",
   "execution_count": 267,
   "metadata": {
    "scrolled": true
   },
   "outputs": [
    {
     "data": {
      "text/markdown": [
       "En la R.M., entre las semanas 12 y 22 hubo un total de 10.456 defunciones inscritas."
      ],
      "text/plain": [
       "<IPython.core.display.Markdown object>"
      ]
     },
     "metadata": {},
     "output_type": "display_data"
    }
   ],
   "source": [
    "#hide_input\n",
    "display(Markdown(f\"En la R.M., entre las semanas 12 y {current_week-1} hubo un total de {'{:,.0f}'.format(amended_deaths.loc[2020,12:22].sum()).replace(',', '.')} defunciones inscritas.\"))"
   ]
  },
  {
   "cell_type": "code",
   "execution_count": 268,
   "metadata": {},
   "outputs": [
    {
     "data": {
      "text/markdown": [
       "El número esperado de defunciones inscritas entre esas semanas es de 8.736, para una tasa de crecimiento de defunciones inscritas entre 2019/2020 de 1.57% para la R.M."
      ],
      "text/plain": [
       "<IPython.core.display.Markdown object>"
      ]
     },
     "metadata": {},
     "output_type": "display_data"
    }
   ],
   "source": [
    "#hide_input\n",
    "display(Markdown(f\"El número esperado de defunciones inscritas entre esas semanas es de {'{:,.0f}'.format(expected.loc[12:22].sum()).replace(',', '.')}, para una tasa de crecimiento de defunciones inscritas entre 2019/2020 de {100*(gr_mean-1):.2f}% para la R.M.\"))"
   ]
  },
  {
   "cell_type": "code",
   "execution_count": 269,
   "metadata": {
    "scrolled": true
   },
   "outputs": [
    {
     "data": {
      "text/markdown": [
       "Exceso de mortalidad al 31 de mayo: 1.720."
      ],
      "text/plain": [
       "<IPython.core.display.Markdown object>"
      ]
     },
     "metadata": {},
     "output_type": "display_data"
    }
   ],
   "source": [
    "#hide_input\n",
    "display(Markdown(f\"Exceso de mortalidad al 31 de mayo: {'{:,.0f}'.format((amended_deaths.loc[2020,12:22].sum()-expected.loc[12:22].sum())).replace(',', '.')}.\"))"
   ]
  },
  {
   "cell_type": "code",
   "execution_count": 270,
   "metadata": {
    "scrolled": false
   },
   "outputs": [
    {
     "data": {
      "text/markdown": [
       "Fallecimientos confirmados por Covid-19 oficiales al 31 de mayo: 775."
      ],
      "text/plain": [
       "<IPython.core.display.Markdown object>"
      ]
     },
     "metadata": {},
     "output_type": "display_data"
    }
   ],
   "source": [
    "#hide_input\n",
    "display(Markdown(f\"Fallecimientos confirmados por Covid-19 oficiales al 31 de mayo: {'{:,.0f}'.format(data.loc['Metropolitana', '2020-05-31']).replace(',', '.')}.\"))"
   ]
  },
  {
   "cell_type": "code",
   "execution_count": 272,
   "metadata": {},
   "outputs": [],
   "source": [
    "#hide\n",
    "diff = amended_deaths.loc[2020,12:22].sum()-expected.loc[12:22].sum() - data.loc['Metropolitana', '2020-05-31']"
   ]
  },
  {
   "cell_type": "code",
   "execution_count": 273,
   "metadata": {},
   "outputs": [
    {
     "data": {
      "text/markdown": [
       "Diferencia: 945."
      ],
      "text/plain": [
       "<IPython.core.display.Markdown object>"
      ]
     },
     "metadata": {},
     "output_type": "display_data"
    }
   ],
   "source": [
    "#hide_input\n",
    "display(Markdown(f\"Diferencia: {'{:,.0f}'.format(diff).replace(',', '.')}.\"))"
   ]
  },
  {
   "cell_type": "code",
   "execution_count": 263,
   "metadata": {
    "colab": {},
    "colab_type": "code",
    "id": "3yhSSdR6jrPF"
   },
   "outputs": [],
   "source": [
    "#hide\n",
    "casos_raw = pd.read_csv(\n",
    "    \"https://raw.githubusercontent.com/MinCiencia/Datos-COVID19/master/output/producto3/CasosTotalesCumulativo.csv\",\n",
    "    index_col='Region')"
   ]
  },
  {
   "cell_type": "code",
   "execution_count": 264,
   "metadata": {
    "colab": {
     "base_uri": "https://localhost:8080/",
     "height": 225
    },
    "colab_type": "code",
    "id": "7K2JMgn8rrSJ",
    "outputId": "6109ead7-f2e3-4bbd-b135-2dd171864759"
   },
   "outputs": [
    {
     "data": {
      "text/plain": [
       "2020-03-03    0\n",
       "2020-03-04    1\n",
       "Name: Metropolitana, dtype: int64"
      ]
     },
     "execution_count": 264,
     "metadata": {},
     "output_type": "execute_result"
    }
   ],
   "source": [
    "#hide\n",
    "casos_raw.loc[\"Metropolitana\"].head(2)"
   ]
  },
  {
   "cell_type": "code",
   "execution_count": 265,
   "metadata": {},
   "outputs": [
    {
     "data": {
      "text/plain": [
       "10"
      ]
     },
     "execution_count": 265,
     "metadata": {},
     "output_type": "execute_result"
    }
   ],
   "source": [
    "#hide\n",
    "_, week_first_case, _ = pd.to_datetime(\"2020-03-04\").isocalendar()\n",
    "week_first_case"
   ]
  },
  {
   "cell_type": "markdown",
   "metadata": {},
   "source": [
    "Gracias a [Patricio Reyes](https://pareyesv.github.io/) por la ayuda en realizar este trabajo."
   ]
  },
  {
   "cell_type": "code",
   "execution_count": null,
   "metadata": {},
   "outputs": [],
   "source": []
  }
 ],
 "metadata": {
  "colab": {
   "collapsed_sections": [],
   "name": "Excess-mortality-RM.ipynb",
   "provenance": []
  },
  "kernelspec": {
   "display_name": "Python 3",
   "language": "python",
   "name": "python3"
  },
  "language_info": {
   "codemirror_mode": {
    "name": "ipython",
    "version": 3
   },
   "file_extension": ".py",
   "mimetype": "text/x-python",
   "name": "python",
   "nbconvert_exporter": "python",
   "pygments_lexer": "ipython3",
   "version": "3.8.2"
  }
 },
 "nbformat": 4,
 "nbformat_minor": 1
}
