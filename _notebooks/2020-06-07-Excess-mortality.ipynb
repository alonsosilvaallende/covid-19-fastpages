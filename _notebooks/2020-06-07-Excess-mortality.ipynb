{
 "cells": [
  {
   "cell_type": "markdown",
   "metadata": {},
   "source": [
    "# Exceso de mortalidad en Chile\n",
    "> Exceso de mortalidad en Chile\n",
    "\n",
    "- toc: true \n",
    "- badges: true\n",
    "- comments: true\n",
    "- author: Alonso Silva Allende\n",
    "- categories: [jupyter]\n",
    "- image: images/fallecimientos.png"
   ]
  },
  {
   "cell_type": "code",
   "execution_count": 1,
   "metadata": {
    "colab": {},
    "colab_type": "code",
    "id": "1Xxv_8Y9axUI"
   },
   "outputs": [],
   "source": [
    "#hide\n",
    "import numpy as np\n",
    "import pandas as pd\n",
    "import matplotlib.pyplot as plt\n",
    "import altair as alt\n",
    "import datetime"
   ]
  },
  {
   "cell_type": "code",
   "execution_count": 2,
   "metadata": {},
   "outputs": [],
   "source": [
    "#hide\n",
    "from IPython.display import display, Markdown, display_html, HTML"
   ]
  },
  {
   "cell_type": "code",
   "execution_count": 3,
   "metadata": {},
   "outputs": [],
   "source": [
    "#hide\n",
    "update_date = pd.to_datetime('today') - pd.offsets.Hour(19)"
   ]
  },
  {
   "cell_type": "code",
   "execution_count": 4,
   "metadata": {},
   "outputs": [
    {
     "data": {
      "text/markdown": [
       "Última actualización: 13/08/2020."
      ],
      "text/plain": [
       "<IPython.core.display.Markdown object>"
      ]
     },
     "metadata": {},
     "output_type": "display_data"
    }
   ],
   "source": [
    "#hide_input\n",
    "display(Markdown(f\"Última actualización: {update_date.strftime('%d/%m/%Y')}.\"))"
   ]
  },
  {
   "cell_type": "code",
   "execution_count": 5,
   "metadata": {
    "colab": {},
    "colab_type": "code",
    "id": "WNhnjKRPa0AC"
   },
   "outputs": [],
   "source": [
    "#hide\n",
    "deaths_raw = pd.read_csv(\n",
    "    \"https://raw.githubusercontent.com/MinCiencia/Datos-COVID19/master/output/producto32/Defunciones.csv\")"
   ]
  },
  {
   "cell_type": "code",
   "execution_count": 6,
   "metadata": {},
   "outputs": [
    {
     "data": {
      "text/html": [
       "<div>\n",
       "<style scoped>\n",
       "    .dataframe tbody tr th:only-of-type {\n",
       "        vertical-align: middle;\n",
       "    }\n",
       "\n",
       "    .dataframe tbody tr th {\n",
       "        vertical-align: top;\n",
       "    }\n",
       "\n",
       "    .dataframe thead th {\n",
       "        text-align: right;\n",
       "    }\n",
       "</style>\n",
       "<table border=\"1\" class=\"dataframe\">\n",
       "  <thead>\n",
       "    <tr style=\"text-align: right;\">\n",
       "      <th></th>\n",
       "      <th>Region</th>\n",
       "      <th>Codigo region</th>\n",
       "      <th>Comuna</th>\n",
       "      <th>Codigo comuna</th>\n",
       "      <th>2010-01-01</th>\n",
       "      <th>2010-01-02</th>\n",
       "      <th>2010-01-03</th>\n",
       "      <th>2010-01-04</th>\n",
       "      <th>2010-01-05</th>\n",
       "      <th>2010-01-06</th>\n",
       "      <th>...</th>\n",
       "      <th>2020-08-04</th>\n",
       "      <th>2020-08-05</th>\n",
       "      <th>2020-08-06</th>\n",
       "      <th>2020-08-07</th>\n",
       "      <th>2020-08-08</th>\n",
       "      <th>2020-08-09</th>\n",
       "      <th>2020-08-10</th>\n",
       "      <th>2020-08-11</th>\n",
       "      <th>2020-08-12</th>\n",
       "      <th>2020-08-13</th>\n",
       "    </tr>\n",
       "  </thead>\n",
       "  <tbody>\n",
       "    <tr>\n",
       "      <th>0</th>\n",
       "      <td>Antofagasta</td>\n",
       "      <td>2</td>\n",
       "      <td>Antofagasta</td>\n",
       "      <td>2101</td>\n",
       "      <td>0</td>\n",
       "      <td>6</td>\n",
       "      <td>1</td>\n",
       "      <td>8</td>\n",
       "      <td>0</td>\n",
       "      <td>5</td>\n",
       "      <td>...</td>\n",
       "      <td>10</td>\n",
       "      <td>4</td>\n",
       "      <td>8</td>\n",
       "      <td>6</td>\n",
       "      <td>13</td>\n",
       "      <td>4</td>\n",
       "      <td>7</td>\n",
       "      <td>8</td>\n",
       "      <td>9</td>\n",
       "      <td>6</td>\n",
       "    </tr>\n",
       "    <tr>\n",
       "      <th>1</th>\n",
       "      <td>Antofagasta</td>\n",
       "      <td>2</td>\n",
       "      <td>Calama</td>\n",
       "      <td>2201</td>\n",
       "      <td>0</td>\n",
       "      <td>0</td>\n",
       "      <td>0</td>\n",
       "      <td>6</td>\n",
       "      <td>3</td>\n",
       "      <td>4</td>\n",
       "      <td>...</td>\n",
       "      <td>6</td>\n",
       "      <td>5</td>\n",
       "      <td>3</td>\n",
       "      <td>2</td>\n",
       "      <td>0</td>\n",
       "      <td>0</td>\n",
       "      <td>6</td>\n",
       "      <td>6</td>\n",
       "      <td>4</td>\n",
       "      <td>1</td>\n",
       "    </tr>\n",
       "    <tr>\n",
       "      <th>2</th>\n",
       "      <td>Antofagasta</td>\n",
       "      <td>2</td>\n",
       "      <td>María Elena</td>\n",
       "      <td>2302</td>\n",
       "      <td>0</td>\n",
       "      <td>0</td>\n",
       "      <td>0</td>\n",
       "      <td>0</td>\n",
       "      <td>0</td>\n",
       "      <td>0</td>\n",
       "      <td>...</td>\n",
       "      <td>0</td>\n",
       "      <td>0</td>\n",
       "      <td>0</td>\n",
       "      <td>0</td>\n",
       "      <td>0</td>\n",
       "      <td>0</td>\n",
       "      <td>0</td>\n",
       "      <td>0</td>\n",
       "      <td>0</td>\n",
       "      <td>0</td>\n",
       "    </tr>\n",
       "  </tbody>\n",
       "</table>\n",
       "<p>3 rows × 3882 columns</p>\n",
       "</div>"
      ],
      "text/plain": [
       "        Region  Codigo region       Comuna  Codigo comuna  2010-01-01  \\\n",
       "0  Antofagasta              2  Antofagasta           2101           0   \n",
       "1  Antofagasta              2       Calama           2201           0   \n",
       "2  Antofagasta              2  María Elena           2302           0   \n",
       "\n",
       "   2010-01-02  2010-01-03  2010-01-04  2010-01-05  2010-01-06  ...  \\\n",
       "0           6           1           8           0           5  ...   \n",
       "1           0           0           6           3           4  ...   \n",
       "2           0           0           0           0           0  ...   \n",
       "\n",
       "   2020-08-04  2020-08-05  2020-08-06  2020-08-07  2020-08-08  2020-08-09  \\\n",
       "0          10           4           8           6          13           4   \n",
       "1           6           5           3           2           0           0   \n",
       "2           0           0           0           0           0           0   \n",
       "\n",
       "   2020-08-10  2020-08-11  2020-08-12  2020-08-13  \n",
       "0           7           8           9           6  \n",
       "1           6           6           4           1  \n",
       "2           0           0           0           0  \n",
       "\n",
       "[3 rows x 3882 columns]"
      ]
     },
     "execution_count": 6,
     "metadata": {},
     "output_type": "execute_result"
    }
   ],
   "source": [
    "#hide\n",
    "deaths_raw.head(3)"
   ]
  },
  {
   "cell_type": "markdown",
   "metadata": {},
   "source": [
    "# Exceso de mortalidad en Chile"
   ]
  },
  {
   "cell_type": "markdown",
   "metadata": {},
   "source": [
    "Durante una pandemia mundial, la recolección de datos de calidad es un problema de logística complicado. Además, las definiciones de indicadores se han modificado a través del tiempo. Por ejemplo, en Chile, el término \"recuperado\" ha tenido 3 definiciones distintas en dos meses. De igual modo, caso confirmado también ha sido modificado (sintomático vs asintomático) y recientemente fallecido confirmado (con PCR positivo vs en espera de resultado de exámen PCR y con PCR positivo), etc.\n",
    "No hay un indicador perfecto, sin embargo, existe un indicador que es difícil de redefinir: defunciones.\n",
    "\n",
    "El exceso de mortalidad es un cálculo sencillo a partir de los datos de defunciones inscritas en el registro civil: resulta de comparar las muertes de este año con el promedio (ponderado o no) de los años anteriores, semana a semana. En azul, el promedio (ponderado o no), en gris, los años anteriores y en rojo este año. "
   ]
  },
  {
   "cell_type": "code",
   "execution_count": 7,
   "metadata": {
    "colab": {},
    "colab_type": "code",
    "id": "J7b9IXZXVU4y"
   },
   "outputs": [],
   "source": [
    "#hide\n",
    "# Defunciones inscritas en todo Chile\n",
    "deaths = deaths_raw.drop(columns=[\"Region\", \"Codigo region\", \"Comuna\", \"Codigo comuna\"]).sum()"
   ]
  },
  {
   "cell_type": "code",
   "execution_count": 8,
   "metadata": {},
   "outputs": [
    {
     "data": {
      "text/plain": [
       "2010-01-01     88\n",
       "2010-01-02    120\n",
       "2010-01-03     83\n",
       "dtype: int64"
      ]
     },
     "execution_count": 8,
     "metadata": {},
     "output_type": "execute_result"
    }
   ],
   "source": [
    "#hide\n",
    "deaths.head(3)"
   ]
  },
  {
   "cell_type": "code",
   "execution_count": 9,
   "metadata": {
    "colab": {
     "base_uri": "https://localhost:8080/",
     "height": 34
    },
    "colab_type": "code",
    "id": "LdPJZBSiVsaQ",
    "outputId": "8e954194-4a07-43b9-b7f1-708de285e406"
   },
   "outputs": [],
   "source": [
    "#hide\n",
    "# sort rows by date\n",
    "deaths.index = pd.to_datetime(deaths.index)\n",
    "deaths = deaths.sort_index()"
   ]
  },
  {
   "cell_type": "code",
   "execution_count": 10,
   "metadata": {
    "colab": {
     "base_uri": "https://localhost:8080/",
     "height": 34
    },
    "colab_type": "code",
    "id": "LdPJZBSiVsaQ",
    "outputId": "8e954194-4a07-43b9-b7f1-708de285e406"
   },
   "outputs": [
    {
     "data": {
      "text/plain": [
       "'2020-08-13'"
      ]
     },
     "execution_count": 10,
     "metadata": {},
     "output_type": "execute_result"
    }
   ],
   "source": [
    "#hide\n",
    "# last day in the data\n",
    "last_day = deaths.index[-1]\n",
    "last_day.strftime(\"%Y-%m-%d\")"
   ]
  },
  {
   "cell_type": "code",
   "execution_count": 11,
   "metadata": {},
   "outputs": [
    {
     "data": {
      "text/plain": [
       "33"
      ]
     },
     "execution_count": 11,
     "metadata": {},
     "output_type": "execute_result"
    }
   ],
   "source": [
    "#hide\n",
    "# Give three days so that Registro Civil has time to add inscriptions\n",
    "_, current_week, _ = (last_day-pd.DateOffset(1)).isocalendar()\n",
    "current_week"
   ]
  },
  {
   "cell_type": "code",
   "execution_count": 12,
   "metadata": {
    "colab": {},
    "colab_type": "code",
    "id": "PUH-w_ftbA1j"
   },
   "outputs": [],
   "source": [
    "#hide\n",
    "deaths = (deaths\n",
    "          .reset_index()\n",
    "          .rename(columns={\"index\": \"fecha\", 0: \"fallecidos\"})\n",
    "          )"
   ]
  },
  {
   "cell_type": "code",
   "execution_count": 13,
   "metadata": {},
   "outputs": [
    {
     "data": {
      "text/html": [
       "<div>\n",
       "<style scoped>\n",
       "    .dataframe tbody tr th:only-of-type {\n",
       "        vertical-align: middle;\n",
       "    }\n",
       "\n",
       "    .dataframe tbody tr th {\n",
       "        vertical-align: top;\n",
       "    }\n",
       "\n",
       "    .dataframe thead th {\n",
       "        text-align: right;\n",
       "    }\n",
       "</style>\n",
       "<table border=\"1\" class=\"dataframe\">\n",
       "  <thead>\n",
       "    <tr style=\"text-align: right;\">\n",
       "      <th></th>\n",
       "      <th>fecha</th>\n",
       "      <th>fallecidos</th>\n",
       "    </tr>\n",
       "  </thead>\n",
       "  <tbody>\n",
       "    <tr>\n",
       "      <th>0</th>\n",
       "      <td>2010-01-01</td>\n",
       "      <td>88</td>\n",
       "    </tr>\n",
       "    <tr>\n",
       "      <th>1</th>\n",
       "      <td>2010-01-02</td>\n",
       "      <td>120</td>\n",
       "    </tr>\n",
       "    <tr>\n",
       "      <th>2</th>\n",
       "      <td>2010-01-03</td>\n",
       "      <td>83</td>\n",
       "    </tr>\n",
       "  </tbody>\n",
       "</table>\n",
       "</div>"
      ],
      "text/plain": [
       "       fecha  fallecidos\n",
       "0 2010-01-01          88\n",
       "1 2010-01-02         120\n",
       "2 2010-01-03          83"
      ]
     },
     "execution_count": 13,
     "metadata": {},
     "output_type": "execute_result"
    }
   ],
   "source": [
    "#hide\n",
    "deaths.head(3)"
   ]
  },
  {
   "cell_type": "code",
   "execution_count": 14,
   "metadata": {
    "colab": {},
    "colab_type": "code",
    "id": "d1lY2mLvbidc"
   },
   "outputs": [],
   "source": [
    "#hide\n",
    "def get_isoyear_isoweek(row):\n",
    "    isoyear, isoweek, _ = row[\"fecha\"].isocalendar()\n",
    "    return pd.Series({\"año\": isoyear, \"semana\": isoweek})"
   ]
  },
  {
   "cell_type": "code",
   "execution_count": 15,
   "metadata": {
    "colab": {},
    "colab_type": "code",
    "id": "JePVFAVAb72z"
   },
   "outputs": [],
   "source": [
    "#hide\n",
    "deaths[[\"año\", \"semana\"]] = deaths.apply(get_isoyear_isoweek, axis=\"columns\")"
   ]
  },
  {
   "cell_type": "code",
   "execution_count": 16,
   "metadata": {},
   "outputs": [
    {
     "data": {
      "text/html": [
       "<div>\n",
       "<style scoped>\n",
       "    .dataframe tbody tr th:only-of-type {\n",
       "        vertical-align: middle;\n",
       "    }\n",
       "\n",
       "    .dataframe tbody tr th {\n",
       "        vertical-align: top;\n",
       "    }\n",
       "\n",
       "    .dataframe thead th {\n",
       "        text-align: right;\n",
       "    }\n",
       "</style>\n",
       "<table border=\"1\" class=\"dataframe\">\n",
       "  <thead>\n",
       "    <tr style=\"text-align: right;\">\n",
       "      <th></th>\n",
       "      <th>fecha</th>\n",
       "      <th>fallecidos</th>\n",
       "      <th>año</th>\n",
       "      <th>semana</th>\n",
       "    </tr>\n",
       "  </thead>\n",
       "  <tbody>\n",
       "    <tr>\n",
       "      <th>0</th>\n",
       "      <td>2010-01-01</td>\n",
       "      <td>88</td>\n",
       "      <td>2009</td>\n",
       "      <td>53</td>\n",
       "    </tr>\n",
       "    <tr>\n",
       "      <th>1</th>\n",
       "      <td>2010-01-02</td>\n",
       "      <td>120</td>\n",
       "      <td>2009</td>\n",
       "      <td>53</td>\n",
       "    </tr>\n",
       "    <tr>\n",
       "      <th>2</th>\n",
       "      <td>2010-01-03</td>\n",
       "      <td>83</td>\n",
       "      <td>2009</td>\n",
       "      <td>53</td>\n",
       "    </tr>\n",
       "    <tr>\n",
       "      <th>3</th>\n",
       "      <td>2010-01-04</td>\n",
       "      <td>641</td>\n",
       "      <td>2010</td>\n",
       "      <td>1</td>\n",
       "    </tr>\n",
       "    <tr>\n",
       "      <th>4</th>\n",
       "      <td>2010-01-05</td>\n",
       "      <td>275</td>\n",
       "      <td>2010</td>\n",
       "      <td>1</td>\n",
       "    </tr>\n",
       "  </tbody>\n",
       "</table>\n",
       "</div>"
      ],
      "text/plain": [
       "       fecha  fallecidos   año  semana\n",
       "0 2010-01-01          88  2009      53\n",
       "1 2010-01-02         120  2009      53\n",
       "2 2010-01-03          83  2009      53\n",
       "3 2010-01-04         641  2010       1\n",
       "4 2010-01-05         275  2010       1"
      ]
     },
     "execution_count": 16,
     "metadata": {},
     "output_type": "execute_result"
    }
   ],
   "source": [
    "#hide\n",
    "deaths.head()"
   ]
  },
  {
   "cell_type": "code",
   "execution_count": 17,
   "metadata": {
    "colab": {},
    "colab_type": "code",
    "id": "yhZw2DjScERS"
   },
   "outputs": [],
   "source": [
    "#hide\n",
    "deaths_year_week = (deaths\n",
    "                    .drop(columns=[\"fecha\"])\n",
    "                    .groupby([\"año\", \"semana\"])\n",
    "                    .sum()\n",
    "                    [\"fallecidos\"]\n",
    "                    .unstack()\n",
    "                    .astype(\"Float16\")\n",
    "                    )"
   ]
  },
  {
   "cell_type": "code",
   "execution_count": 18,
   "metadata": {
    "scrolled": true
   },
   "outputs": [
    {
     "data": {
      "text/html": [
       "<div>\n",
       "<style scoped>\n",
       "    .dataframe tbody tr th:only-of-type {\n",
       "        vertical-align: middle;\n",
       "    }\n",
       "\n",
       "    .dataframe tbody tr th {\n",
       "        vertical-align: top;\n",
       "    }\n",
       "\n",
       "    .dataframe thead th {\n",
       "        text-align: right;\n",
       "    }\n",
       "</style>\n",
       "<table border=\"1\" class=\"dataframe\">\n",
       "  <thead>\n",
       "    <tr style=\"text-align: right;\">\n",
       "      <th>semana</th>\n",
       "      <th>1</th>\n",
       "      <th>2</th>\n",
       "      <th>3</th>\n",
       "      <th>4</th>\n",
       "      <th>5</th>\n",
       "      <th>6</th>\n",
       "      <th>7</th>\n",
       "      <th>8</th>\n",
       "      <th>9</th>\n",
       "      <th>10</th>\n",
       "      <th>...</th>\n",
       "      <th>44</th>\n",
       "      <th>45</th>\n",
       "      <th>46</th>\n",
       "      <th>47</th>\n",
       "      <th>48</th>\n",
       "      <th>49</th>\n",
       "      <th>50</th>\n",
       "      <th>51</th>\n",
       "      <th>52</th>\n",
       "      <th>53</th>\n",
       "    </tr>\n",
       "    <tr>\n",
       "      <th>año</th>\n",
       "      <th></th>\n",
       "      <th></th>\n",
       "      <th></th>\n",
       "      <th></th>\n",
       "      <th></th>\n",
       "      <th></th>\n",
       "      <th></th>\n",
       "      <th></th>\n",
       "      <th></th>\n",
       "      <th></th>\n",
       "      <th></th>\n",
       "      <th></th>\n",
       "      <th></th>\n",
       "      <th></th>\n",
       "      <th></th>\n",
       "      <th></th>\n",
       "      <th></th>\n",
       "      <th></th>\n",
       "      <th></th>\n",
       "      <th></th>\n",
       "      <th></th>\n",
       "    </tr>\n",
       "  </thead>\n",
       "  <tbody>\n",
       "    <tr>\n",
       "      <th>2016</th>\n",
       "      <td>2116.0</td>\n",
       "      <td>1858.0</td>\n",
       "      <td>1932.0</td>\n",
       "      <td>1863.0</td>\n",
       "      <td>1910.0</td>\n",
       "      <td>1749.0</td>\n",
       "      <td>1724.0</td>\n",
       "      <td>1836.0</td>\n",
       "      <td>1854.0</td>\n",
       "      <td>1765.0</td>\n",
       "      <td>...</td>\n",
       "      <td>1761.0</td>\n",
       "      <td>1927.0</td>\n",
       "      <td>1800.0</td>\n",
       "      <td>1854.0</td>\n",
       "      <td>1874.0</td>\n",
       "      <td>1811.0</td>\n",
       "      <td>1891.0</td>\n",
       "      <td>1788.0</td>\n",
       "      <td>1825.0</td>\n",
       "      <td>NaN</td>\n",
       "    </tr>\n",
       "    <tr>\n",
       "      <th>2017</th>\n",
       "      <td>1874.0</td>\n",
       "      <td>1874.0</td>\n",
       "      <td>1958.0</td>\n",
       "      <td>2110.0</td>\n",
       "      <td>1940.0</td>\n",
       "      <td>1815.0</td>\n",
       "      <td>1854.0</td>\n",
       "      <td>1893.0</td>\n",
       "      <td>1830.0</td>\n",
       "      <td>1731.0</td>\n",
       "      <td>...</td>\n",
       "      <td>1930.0</td>\n",
       "      <td>1973.0</td>\n",
       "      <td>1816.0</td>\n",
       "      <td>1943.0</td>\n",
       "      <td>1907.0</td>\n",
       "      <td>1737.0</td>\n",
       "      <td>2006.0</td>\n",
       "      <td>2023.0</td>\n",
       "      <td>1936.0</td>\n",
       "      <td>NaN</td>\n",
       "    </tr>\n",
       "    <tr>\n",
       "      <th>2018</th>\n",
       "      <td>1861.0</td>\n",
       "      <td>1865.0</td>\n",
       "      <td>1778.0</td>\n",
       "      <td>1779.0</td>\n",
       "      <td>1860.0</td>\n",
       "      <td>1885.0</td>\n",
       "      <td>1868.0</td>\n",
       "      <td>1818.0</td>\n",
       "      <td>1780.0</td>\n",
       "      <td>1904.0</td>\n",
       "      <td>...</td>\n",
       "      <td>1761.0</td>\n",
       "      <td>2226.0</td>\n",
       "      <td>1927.0</td>\n",
       "      <td>1986.0</td>\n",
       "      <td>1906.0</td>\n",
       "      <td>1932.0</td>\n",
       "      <td>1907.0</td>\n",
       "      <td>1980.0</td>\n",
       "      <td>1892.0</td>\n",
       "      <td>NaN</td>\n",
       "    </tr>\n",
       "    <tr>\n",
       "      <th>2019</th>\n",
       "      <td>1939.0</td>\n",
       "      <td>1889.0</td>\n",
       "      <td>1807.0</td>\n",
       "      <td>1943.0</td>\n",
       "      <td>1932.0</td>\n",
       "      <td>2021.0</td>\n",
       "      <td>1893.0</td>\n",
       "      <td>1936.0</td>\n",
       "      <td>1885.0</td>\n",
       "      <td>1804.0</td>\n",
       "      <td>...</td>\n",
       "      <td>1898.0</td>\n",
       "      <td>2222.0</td>\n",
       "      <td>2003.0</td>\n",
       "      <td>2072.0</td>\n",
       "      <td>1960.0</td>\n",
       "      <td>1963.0</td>\n",
       "      <td>1878.0</td>\n",
       "      <td>1893.0</td>\n",
       "      <td>1980.0</td>\n",
       "      <td>NaN</td>\n",
       "    </tr>\n",
       "    <tr>\n",
       "      <th>2020</th>\n",
       "      <td>2060.0</td>\n",
       "      <td>2116.0</td>\n",
       "      <td>2060.0</td>\n",
       "      <td>1987.0</td>\n",
       "      <td>2034.0</td>\n",
       "      <td>1906.0</td>\n",
       "      <td>1959.0</td>\n",
       "      <td>1825.0</td>\n",
       "      <td>1849.0</td>\n",
       "      <td>2020.0</td>\n",
       "      <td>...</td>\n",
       "      <td>NaN</td>\n",
       "      <td>NaN</td>\n",
       "      <td>NaN</td>\n",
       "      <td>NaN</td>\n",
       "      <td>NaN</td>\n",
       "      <td>NaN</td>\n",
       "      <td>NaN</td>\n",
       "      <td>NaN</td>\n",
       "      <td>NaN</td>\n",
       "      <td>NaN</td>\n",
       "    </tr>\n",
       "  </tbody>\n",
       "</table>\n",
       "<p>5 rows × 53 columns</p>\n",
       "</div>"
      ],
      "text/plain": [
       "semana      1       2       3       4       5       6       7       8   \\\n",
       "año                                                                      \n",
       "2016    2116.0  1858.0  1932.0  1863.0  1910.0  1749.0  1724.0  1836.0   \n",
       "2017    1874.0  1874.0  1958.0  2110.0  1940.0  1815.0  1854.0  1893.0   \n",
       "2018    1861.0  1865.0  1778.0  1779.0  1860.0  1885.0  1868.0  1818.0   \n",
       "2019    1939.0  1889.0  1807.0  1943.0  1932.0  2021.0  1893.0  1936.0   \n",
       "2020    2060.0  2116.0  2060.0  1987.0  2034.0  1906.0  1959.0  1825.0   \n",
       "\n",
       "semana      9       10  ...      44      45      46      47      48      49  \\\n",
       "año                     ...                                                   \n",
       "2016    1854.0  1765.0  ...  1761.0  1927.0  1800.0  1854.0  1874.0  1811.0   \n",
       "2017    1830.0  1731.0  ...  1930.0  1973.0  1816.0  1943.0  1907.0  1737.0   \n",
       "2018    1780.0  1904.0  ...  1761.0  2226.0  1927.0  1986.0  1906.0  1932.0   \n",
       "2019    1885.0  1804.0  ...  1898.0  2222.0  2003.0  2072.0  1960.0  1963.0   \n",
       "2020    1849.0  2020.0  ...     NaN     NaN     NaN     NaN     NaN     NaN   \n",
       "\n",
       "semana      50      51      52  53  \n",
       "año                                 \n",
       "2016    1891.0  1788.0  1825.0 NaN  \n",
       "2017    2006.0  2023.0  1936.0 NaN  \n",
       "2018    1907.0  1980.0  1892.0 NaN  \n",
       "2019    1878.0  1893.0  1980.0 NaN  \n",
       "2020       NaN     NaN     NaN NaN  \n",
       "\n",
       "[5 rows x 53 columns]"
      ]
     },
     "execution_count": 18,
     "metadata": {},
     "output_type": "execute_result"
    }
   ],
   "source": [
    "#hide\n",
    "deaths_year_week.tail()"
   ]
  },
  {
   "cell_type": "code",
   "execution_count": 19,
   "metadata": {},
   "outputs": [],
   "source": [
    "#hide\n",
    "deaths_year_week = deaths_year_week.drop(2009)\n",
    "deaths_year_week = deaths_year_week.drop(columns=53)"
   ]
  },
  {
   "cell_type": "code",
   "execution_count": 20,
   "metadata": {},
   "outputs": [
    {
     "data": {
      "text/plain": [
       "(2370.0, 2654.0)"
      ]
     },
     "execution_count": 20,
     "metadata": {},
     "output_type": "execute_result"
    }
   ],
   "source": [
    "#hide\n",
    "deaths_year_week.loc[2019,31], deaths_year_week.loc[2020,31]"
   ]
  },
  {
   "cell_type": "code",
   "execution_count": 21,
   "metadata": {},
   "outputs": [],
   "source": [
    "#hide\n",
    "# Ignore data from current week\n",
    "deaths_year_week.loc[2020,current_week] = np.NaN"
   ]
  },
  {
   "cell_type": "code",
   "execution_count": 22,
   "metadata": {
    "colab": {
     "base_uri": "https://localhost:8080/",
     "height": 446
    },
    "colab_type": "code",
    "id": "Tt8ggjKdcHJP",
    "outputId": "80519779-6d7b-4e56-a9bc-3a377b75c07a",
    "scrolled": false
   },
   "outputs": [
    {
     "data": {
      "text/html": [
       "<div>\n",
       "<style scoped>\n",
       "    .dataframe tbody tr th:only-of-type {\n",
       "        vertical-align: middle;\n",
       "    }\n",
       "\n",
       "    .dataframe tbody tr th {\n",
       "        vertical-align: top;\n",
       "    }\n",
       "\n",
       "    .dataframe thead th {\n",
       "        text-align: right;\n",
       "    }\n",
       "</style>\n",
       "<table border=\"1\" class=\"dataframe\">\n",
       "  <thead>\n",
       "    <tr style=\"text-align: right;\">\n",
       "      <th>semana</th>\n",
       "      <th>1</th>\n",
       "      <th>2</th>\n",
       "      <th>3</th>\n",
       "      <th>4</th>\n",
       "      <th>5</th>\n",
       "      <th>6</th>\n",
       "      <th>7</th>\n",
       "      <th>8</th>\n",
       "      <th>9</th>\n",
       "      <th>10</th>\n",
       "      <th>...</th>\n",
       "      <th>43</th>\n",
       "      <th>44</th>\n",
       "      <th>45</th>\n",
       "      <th>46</th>\n",
       "      <th>47</th>\n",
       "      <th>48</th>\n",
       "      <th>49</th>\n",
       "      <th>50</th>\n",
       "      <th>51</th>\n",
       "      <th>52</th>\n",
       "    </tr>\n",
       "    <tr>\n",
       "      <th>año</th>\n",
       "      <th></th>\n",
       "      <th></th>\n",
       "      <th></th>\n",
       "      <th></th>\n",
       "      <th></th>\n",
       "      <th></th>\n",
       "      <th></th>\n",
       "      <th></th>\n",
       "      <th></th>\n",
       "      <th></th>\n",
       "      <th></th>\n",
       "      <th></th>\n",
       "      <th></th>\n",
       "      <th></th>\n",
       "      <th></th>\n",
       "      <th></th>\n",
       "      <th></th>\n",
       "      <th></th>\n",
       "      <th></th>\n",
       "      <th></th>\n",
       "      <th></th>\n",
       "    </tr>\n",
       "  </thead>\n",
       "  <tbody>\n",
       "    <tr>\n",
       "      <th>2010</th>\n",
       "      <td>1786.0</td>\n",
       "      <td>1672.0</td>\n",
       "      <td>1775.0</td>\n",
       "      <td>1689.0</td>\n",
       "      <td>1687.0</td>\n",
       "      <td>1645.0</td>\n",
       "      <td>1685.0</td>\n",
       "      <td>1641.0</td>\n",
       "      <td>1865.0</td>\n",
       "      <td>1852.0</td>\n",
       "      <td>...</td>\n",
       "      <td>1906.0</td>\n",
       "      <td>1783.0</td>\n",
       "      <td>1722.0</td>\n",
       "      <td>1703.0</td>\n",
       "      <td>1738.0</td>\n",
       "      <td>1617.0</td>\n",
       "      <td>1810.0</td>\n",
       "      <td>1663.0</td>\n",
       "      <td>1725.0</td>\n",
       "      <td>1789.0</td>\n",
       "    </tr>\n",
       "    <tr>\n",
       "      <th>2011</th>\n",
       "      <td>1814.0</td>\n",
       "      <td>1718.0</td>\n",
       "      <td>1743.0</td>\n",
       "      <td>1795.0</td>\n",
       "      <td>1703.0</td>\n",
       "      <td>1618.0</td>\n",
       "      <td>1562.0</td>\n",
       "      <td>1657.0</td>\n",
       "      <td>1679.0</td>\n",
       "      <td>1542.0</td>\n",
       "      <td>...</td>\n",
       "      <td>1837.0</td>\n",
       "      <td>1673.0</td>\n",
       "      <td>1751.0</td>\n",
       "      <td>1714.0</td>\n",
       "      <td>1743.0</td>\n",
       "      <td>1750.0</td>\n",
       "      <td>1720.0</td>\n",
       "      <td>1735.0</td>\n",
       "      <td>1654.0</td>\n",
       "      <td>1911.0</td>\n",
       "    </tr>\n",
       "    <tr>\n",
       "      <th>2012</th>\n",
       "      <td>1937.0</td>\n",
       "      <td>1736.0</td>\n",
       "      <td>1730.0</td>\n",
       "      <td>1717.0</td>\n",
       "      <td>1731.0</td>\n",
       "      <td>1718.0</td>\n",
       "      <td>1669.0</td>\n",
       "      <td>1654.0</td>\n",
       "      <td>1697.0</td>\n",
       "      <td>1767.0</td>\n",
       "      <td>...</td>\n",
       "      <td>1923.0</td>\n",
       "      <td>1670.0</td>\n",
       "      <td>2019.0</td>\n",
       "      <td>1871.0</td>\n",
       "      <td>1728.0</td>\n",
       "      <td>1799.0</td>\n",
       "      <td>1812.0</td>\n",
       "      <td>1657.0</td>\n",
       "      <td>1759.0</td>\n",
       "      <td>1853.0</td>\n",
       "    </tr>\n",
       "  </tbody>\n",
       "</table>\n",
       "<p>3 rows × 52 columns</p>\n",
       "</div>"
      ],
      "text/plain": [
       "semana      1       2       3       4       5       6       7       8   \\\n",
       "año                                                                      \n",
       "2010    1786.0  1672.0  1775.0  1689.0  1687.0  1645.0  1685.0  1641.0   \n",
       "2011    1814.0  1718.0  1743.0  1795.0  1703.0  1618.0  1562.0  1657.0   \n",
       "2012    1937.0  1736.0  1730.0  1717.0  1731.0  1718.0  1669.0  1654.0   \n",
       "\n",
       "semana      9       10  ...      43      44      45      46      47      48  \\\n",
       "año                     ...                                                   \n",
       "2010    1865.0  1852.0  ...  1906.0  1783.0  1722.0  1703.0  1738.0  1617.0   \n",
       "2011    1679.0  1542.0  ...  1837.0  1673.0  1751.0  1714.0  1743.0  1750.0   \n",
       "2012    1697.0  1767.0  ...  1923.0  1670.0  2019.0  1871.0  1728.0  1799.0   \n",
       "\n",
       "semana      49      50      51      52  \n",
       "año                                     \n",
       "2010    1810.0  1663.0  1725.0  1789.0  \n",
       "2011    1720.0  1735.0  1654.0  1911.0  \n",
       "2012    1812.0  1657.0  1759.0  1853.0  \n",
       "\n",
       "[3 rows x 52 columns]"
      ]
     },
     "execution_count": 22,
     "metadata": {},
     "output_type": "execute_result"
    }
   ],
   "source": [
    "#hide\n",
    "deaths_year_week.head(3)"
   ]
  },
  {
   "cell_type": "code",
   "execution_count": 23,
   "metadata": {},
   "outputs": [],
   "source": [
    "#hide\n",
    "# PUCA\n",
    "expected = deaths_year_week.loc[2015:2019].mean()"
   ]
  },
  {
   "cell_type": "code",
   "execution_count": 24,
   "metadata": {},
   "outputs": [],
   "source": [
    "#hide\n",
    "# Experimental standard deviation of PUCA\n",
    "ci = deaths_year_week.loc[2015:2019].std(ddof=1)"
   ]
  },
  {
   "cell_type": "code",
   "execution_count": 25,
   "metadata": {},
   "outputs": [
    {
     "data": {
      "text/markdown": [
       "Exceso de mortalidad (sin corregir): 12.112"
      ],
      "text/plain": [
       "<IPython.core.display.Markdown object>"
      ]
     },
     "metadata": {},
     "output_type": "display_data"
    }
   ],
   "source": [
    "#hide_input\n",
    "exceso = (deaths_year_week.loc[2020,12:current_week-1] - expected).sum()\n",
    "display(Markdown(f\"Exceso de mortalidad (sin corregir): {'{:,.0f}'.format(exceso).replace(',', '.')}\"))"
   ]
  },
  {
   "cell_type": "code",
   "execution_count": 26,
   "metadata": {
    "colab": {},
    "colab_type": "code",
    "id": "9mHbAAQzipZa"
   },
   "outputs": [],
   "source": [
    "#hide\n",
    "totales_covid19 = pd.read_csv(\n",
    "    \"https://raw.githubusercontent.com/MinCiencia/Datos-COVID19/master/output/producto5/TotalesNacionales_T.csv\",\n",
    "    index_col=\"Fecha\")"
   ]
  },
  {
   "cell_type": "code",
   "execution_count": 27,
   "metadata": {
    "colab": {
     "base_uri": "https://localhost:8080/",
     "height": 255
    },
    "colab_type": "code",
    "id": "BRqrCf1airT2",
    "outputId": "f444ed45-eb90-4123-dbd1-2190a7b98070"
   },
   "outputs": [
    {
     "data": {
      "text/html": [
       "<div>\n",
       "<style scoped>\n",
       "    .dataframe tbody tr th:only-of-type {\n",
       "        vertical-align: middle;\n",
       "    }\n",
       "\n",
       "    .dataframe tbody tr th {\n",
       "        vertical-align: top;\n",
       "    }\n",
       "\n",
       "    .dataframe thead th {\n",
       "        text-align: right;\n",
       "    }\n",
       "</style>\n",
       "<table border=\"1\" class=\"dataframe\">\n",
       "  <thead>\n",
       "    <tr style=\"text-align: right;\">\n",
       "      <th></th>\n",
       "      <th>Casos nuevos con sintomas</th>\n",
       "      <th>Casos totales</th>\n",
       "      <th>Casos recuperados</th>\n",
       "      <th>Fallecidos</th>\n",
       "      <th>Casos activos</th>\n",
       "      <th>Casos nuevos sin sintomas</th>\n",
       "      <th>Casos nuevos totales</th>\n",
       "      <th>Casos activos por FD</th>\n",
       "      <th>Casos activos por FIS</th>\n",
       "      <th>Casos recuperados por FIS</th>\n",
       "      <th>Casos recuperados por FD</th>\n",
       "      <th>Casos confirmados recuperados</th>\n",
       "      <th>Casos activos confirmados</th>\n",
       "      <th>Casos probables acumulados</th>\n",
       "      <th>Casos activos probables</th>\n",
       "      <th>Casos nuevos sin notificar</th>\n",
       "    </tr>\n",
       "    <tr>\n",
       "      <th>Fecha</th>\n",
       "      <th></th>\n",
       "      <th></th>\n",
       "      <th></th>\n",
       "      <th></th>\n",
       "      <th></th>\n",
       "      <th></th>\n",
       "      <th></th>\n",
       "      <th></th>\n",
       "      <th></th>\n",
       "      <th></th>\n",
       "      <th></th>\n",
       "      <th></th>\n",
       "      <th></th>\n",
       "      <th></th>\n",
       "      <th></th>\n",
       "      <th></th>\n",
       "    </tr>\n",
       "  </thead>\n",
       "  <tbody>\n",
       "    <tr>\n",
       "      <th>2020-03-02</th>\n",
       "      <td>1.0</td>\n",
       "      <td>1.0</td>\n",
       "      <td>0.0</td>\n",
       "      <td>0.0</td>\n",
       "      <td>1.0</td>\n",
       "      <td>NaN</td>\n",
       "      <td>1.0</td>\n",
       "      <td>1.0</td>\n",
       "      <td>NaN</td>\n",
       "      <td>NaN</td>\n",
       "      <td>0.0</td>\n",
       "      <td>NaN</td>\n",
       "      <td>NaN</td>\n",
       "      <td>NaN</td>\n",
       "      <td>NaN</td>\n",
       "      <td>NaN</td>\n",
       "    </tr>\n",
       "    <tr>\n",
       "      <th>2020-03-03</th>\n",
       "      <td>0.0</td>\n",
       "      <td>1.0</td>\n",
       "      <td>0.0</td>\n",
       "      <td>0.0</td>\n",
       "      <td>1.0</td>\n",
       "      <td>NaN</td>\n",
       "      <td>0.0</td>\n",
       "      <td>1.0</td>\n",
       "      <td>NaN</td>\n",
       "      <td>NaN</td>\n",
       "      <td>0.0</td>\n",
       "      <td>NaN</td>\n",
       "      <td>NaN</td>\n",
       "      <td>NaN</td>\n",
       "      <td>NaN</td>\n",
       "      <td>NaN</td>\n",
       "    </tr>\n",
       "  </tbody>\n",
       "</table>\n",
       "</div>"
      ],
      "text/plain": [
       "            Casos nuevos con sintomas  Casos totales  Casos recuperados  \\\n",
       "Fecha                                                                     \n",
       "2020-03-02                        1.0            1.0                0.0   \n",
       "2020-03-03                        0.0            1.0                0.0   \n",
       "\n",
       "            Fallecidos  Casos activos  Casos nuevos sin sintomas  \\\n",
       "Fecha                                                              \n",
       "2020-03-02         0.0            1.0                        NaN   \n",
       "2020-03-03         0.0            1.0                        NaN   \n",
       "\n",
       "            Casos nuevos totales  Casos activos por FD  Casos activos por FIS  \\\n",
       "Fecha                                                                           \n",
       "2020-03-02                   1.0                   1.0                    NaN   \n",
       "2020-03-03                   0.0                   1.0                    NaN   \n",
       "\n",
       "            Casos recuperados por FIS  Casos recuperados por FD  \\\n",
       "Fecha                                                             \n",
       "2020-03-02                        NaN                       0.0   \n",
       "2020-03-03                        NaN                       0.0   \n",
       "\n",
       "            Casos confirmados recuperados  Casos activos confirmados  \\\n",
       "Fecha                                                                  \n",
       "2020-03-02                            NaN                        NaN   \n",
       "2020-03-03                            NaN                        NaN   \n",
       "\n",
       "            Casos probables acumulados  Casos activos probables  \\\n",
       "Fecha                                                             \n",
       "2020-03-02                         NaN                      NaN   \n",
       "2020-03-03                         NaN                      NaN   \n",
       "\n",
       "            Casos nuevos sin notificar  \n",
       "Fecha                                   \n",
       "2020-03-02                         NaN  \n",
       "2020-03-03                         NaN  "
      ]
     },
     "execution_count": 27,
     "metadata": {},
     "output_type": "execute_result"
    }
   ],
   "source": [
    "#hide\n",
    "totales_covid19.head(2)"
   ]
  },
  {
   "cell_type": "code",
   "execution_count": 28,
   "metadata": {},
   "outputs": [],
   "source": [
    "#hide\n",
    "def iso_year_start(iso_year):\n",
    "    \"The gregorian calendar date of the first day of the given ISO year\"\n",
    "    fourth_jan = datetime.date(iso_year, 1, 4)\n",
    "    delta = datetime.timedelta(fourth_jan.isoweekday()-1)\n",
    "    return fourth_jan - delta "
   ]
  },
  {
   "cell_type": "code",
   "execution_count": 29,
   "metadata": {},
   "outputs": [],
   "source": [
    "#hide\n",
    "def iso_to_gregorian(iso_year, iso_week, iso_day):\n",
    "    \"Gregorian calendar date for the given ISO year, week and day\"\n",
    "    year_start = iso_year_start(iso_year)\n",
    "    return year_start + datetime.timedelta(days=iso_day-1, weeks=iso_week-1)"
   ]
  },
  {
   "cell_type": "code",
   "execution_count": 30,
   "metadata": {},
   "outputs": [],
   "source": [
    "#hide\n",
    "date = iso_to_gregorian(2020, current_week-1, 7)"
   ]
  },
  {
   "cell_type": "code",
   "execution_count": 31,
   "metadata": {
    "scrolled": false
   },
   "outputs": [
    {
     "data": {
      "text/markdown": [
       "Fallecimientos confirmados por Covid-19 oficiales al 09/08: 10.077"
      ],
      "text/plain": [
       "<IPython.core.display.Markdown object>"
      ]
     },
     "metadata": {},
     "output_type": "display_data"
    }
   ],
   "source": [
    "#hide_input\n",
    "display(Markdown(f\"Fallecimientos confirmados por Covid-19 oficiales al {pd.to_datetime(date).strftime('%d/%m')}: {'{:,.0f}'.format(totales_covid19['Fallecidos'].loc[pd.to_datetime(date).strftime('%Y-%m-%d')]).replace(',', '.')}\"))"
   ]
  },
  {
   "cell_type": "code",
   "execution_count": 32,
   "metadata": {},
   "outputs": [
    {
     "data": {
      "text/markdown": [
       "Diferencia: 2.035"
      ],
      "text/plain": [
       "<IPython.core.display.Markdown object>"
      ]
     },
     "metadata": {},
     "output_type": "display_data"
    }
   ],
   "source": [
    "#hide_input\n",
    "diff = (deaths_year_week.loc[2020,12:current_week-1]-expected).sum() - totales_covid19['Fallecidos'].loc[pd.to_datetime(date).strftime('%Y-%m-%d')]\n",
    "display(Markdown(f\"Diferencia: {'{:,.0f}'.format(diff).replace(',', '.')}\"))"
   ]
  },
  {
   "cell_type": "code",
   "execution_count": 33,
   "metadata": {},
   "outputs": [],
   "source": [
    "#hide\n",
    "df_expected = pd.DataFrame()\n",
    "df_expected[\"lower\"] = expected - ci\n",
    "df_expected[\"upper\"] = expected + ci\n",
    "df_expected[\"lower 2\"] = expected - 2*ci\n",
    "df_expected[\"upper 2\"] = expected + 2*ci"
   ]
  },
  {
   "cell_type": "code",
   "execution_count": 34,
   "metadata": {
    "scrolled": true
   },
   "outputs": [
    {
     "data": {
      "text/html": [
       "<div>\n",
       "<style scoped>\n",
       "    .dataframe tbody tr th:only-of-type {\n",
       "        vertical-align: middle;\n",
       "    }\n",
       "\n",
       "    .dataframe tbody tr th {\n",
       "        vertical-align: top;\n",
       "    }\n",
       "\n",
       "    .dataframe thead th {\n",
       "        text-align: right;\n",
       "    }\n",
       "</style>\n",
       "<table border=\"1\" class=\"dataframe\">\n",
       "  <thead>\n",
       "    <tr style=\"text-align: right;\">\n",
       "      <th></th>\n",
       "      <th>lower</th>\n",
       "      <th>upper</th>\n",
       "      <th>lower 2</th>\n",
       "      <th>upper 2</th>\n",
       "    </tr>\n",
       "    <tr>\n",
       "      <th>semana</th>\n",
       "      <th></th>\n",
       "      <th></th>\n",
       "      <th></th>\n",
       "      <th></th>\n",
       "    </tr>\n",
       "  </thead>\n",
       "  <tbody>\n",
       "    <tr>\n",
       "      <th>1</th>\n",
       "      <td>1795.0</td>\n",
       "      <td>2039.0</td>\n",
       "      <td>1673.0</td>\n",
       "      <td>2162.0</td>\n",
       "    </tr>\n",
       "    <tr>\n",
       "      <th>2</th>\n",
       "      <td>1861.0</td>\n",
       "      <td>1889.0</td>\n",
       "      <td>1848.0</td>\n",
       "      <td>1902.0</td>\n",
       "    </tr>\n",
       "  </tbody>\n",
       "</table>\n",
       "</div>"
      ],
      "text/plain": [
       "         lower   upper  lower 2  upper 2\n",
       "semana                                  \n",
       "1       1795.0  2039.0   1673.0   2162.0\n",
       "2       1861.0  1889.0   1848.0   1902.0"
      ]
     },
     "execution_count": 34,
     "metadata": {},
     "output_type": "execute_result"
    }
   ],
   "source": [
    "#hide\n",
    "df_expected.head(2)"
   ]
  },
  {
   "cell_type": "code",
   "execution_count": 35,
   "metadata": {},
   "outputs": [],
   "source": [
    "#hide\n",
    "deaths_year_week = deaths_year_week.T\n",
    "deaths_year_week[\"Promedio últimos 5 años\"] = expected\n",
    "deaths_year_week = deaths_year_week.T"
   ]
  },
  {
   "cell_type": "code",
   "execution_count": 36,
   "metadata": {
    "scrolled": false
   },
   "outputs": [
    {
     "data": {
      "text/html": [
       "\n",
       "<div id=\"altair-viz-6b9ca2a3776b4b408f8a8ce4e9f8172a\"></div>\n",
       "<script type=\"text/javascript\">\n",
       "  (function(spec, embedOpt){\n",
       "    let outputDiv = document.currentScript.previousElementSibling;\n",
       "    if (outputDiv.id !== \"altair-viz-6b9ca2a3776b4b408f8a8ce4e9f8172a\") {\n",
       "      outputDiv = document.getElementById(\"altair-viz-6b9ca2a3776b4b408f8a8ce4e9f8172a\");\n",
       "    }\n",
       "    const paths = {\n",
       "      \"vega\": \"https://cdn.jsdelivr.net/npm//vega@5?noext\",\n",
       "      \"vega-lib\": \"https://cdn.jsdelivr.net/npm//vega-lib?noext\",\n",
       "      \"vega-lite\": \"https://cdn.jsdelivr.net/npm//vega-lite@4.8.1?noext\",\n",
       "      \"vega-embed\": \"https://cdn.jsdelivr.net/npm//vega-embed@6?noext\",\n",
       "    };\n",
       "\n",
       "    function loadScript(lib) {\n",
       "      return new Promise(function(resolve, reject) {\n",
       "        var s = document.createElement('script');\n",
       "        s.src = paths[lib];\n",
       "        s.async = true;\n",
       "        s.onload = () => resolve(paths[lib]);\n",
       "        s.onerror = () => reject(`Error loading script: ${paths[lib]}`);\n",
       "        document.getElementsByTagName(\"head\")[0].appendChild(s);\n",
       "      });\n",
       "    }\n",
       "\n",
       "    function showError(err) {\n",
       "      outputDiv.innerHTML = `<div class=\"error\" style=\"color:red;\">${err}</div>`;\n",
       "      throw err;\n",
       "    }\n",
       "\n",
       "    function displayChart(vegaEmbed) {\n",
       "      vegaEmbed(outputDiv, spec, embedOpt)\n",
       "        .catch(err => showError(`Javascript Error: ${err.message}<br>This usually means there's a typo in your chart specification. See the javascript console for the full traceback.`));\n",
       "    }\n",
       "\n",
       "    if(typeof define === \"function\" && define.amd) {\n",
       "      requirejs.config({paths});\n",
       "      require([\"vega-embed\"], displayChart, err => showError(`Error loading script: ${err.message}`));\n",
       "    } else if (typeof vegaEmbed === \"function\") {\n",
       "      displayChart(vegaEmbed);\n",
       "    } else {\n",
       "      loadScript(\"vega\")\n",
       "        .then(() => loadScript(\"vega-lite\"))\n",
       "        .then(() => loadScript(\"vega-embed\"))\n",
       "        .catch(showError)\n",
       "        .then(() => displayChart(vegaEmbed));\n",
       "    }\n",
       "  })({\"config\": {\"view\": {\"continuousWidth\": 400, \"continuousHeight\": 300}}, \"layer\": [{\"data\": {\"name\": \"data-0583bb694482f3da28ceab995e3ea9e0\"}, \"mark\": {\"type\": \"line\", \"point\": true}, \"encoding\": {\"color\": {\"type\": \"nominal\", \"field\": \"a\\u00f1o\", \"scale\": {\"domain\": [\"2015\", \"2016\", \"2017\", \"2018\", \"2019\", \"2020\", \"Promedio \\u00faltimos 5 a\\u00f1os\"], \"range\": [\"lightgray\", \"lightgray\", \"lightgray\", \"lightgray\", \"lightgray\", \"red\", \"blue\"]}}, \"x\": {\"type\": \"quantitative\", \"field\": \"semana\", \"scale\": {\"domain\": [1, 52]}}, \"y\": {\"type\": \"quantitative\", \"field\": \"defunciones\", \"scale\": {\"domain\": [0, 4000]}}}}, {\"data\": {\"name\": \"data-9d1985f9641f2876fa6991554ca56a44\"}, \"mark\": {\"type\": \"area\", \"opacity\": 0.5}, \"encoding\": {\"x\": {\"type\": \"quantitative\", \"field\": \"semana\", \"scale\": {\"domain\": [1, 52]}}, \"y\": {\"type\": \"quantitative\", \"axis\": {\"title\": \"defunciones\"}, \"field\": \"lower\"}, \"y2\": {\"field\": \"upper\"}}}, {\"data\": {\"name\": \"data-9d1985f9641f2876fa6991554ca56a44\"}, \"mark\": {\"type\": \"area\", \"opacity\": 0.3}, \"encoding\": {\"x\": {\"type\": \"quantitative\", \"field\": \"semana\", \"scale\": {\"domain\": [1, 52]}}, \"y\": {\"type\": \"quantitative\", \"field\": \"lower 2\"}, \"y2\": {\"field\": \"upper 2\"}}}, {\"mark\": {\"type\": \"rule\", \"color\": \"#aaa\"}, \"encoding\": {\"x\": {\"type\": \"quantitative\", \"axis\": {\"title\": \"semana\"}, \"field\": \"semana\", \"scale\": {\"domain\": [1, 52]}, \"sort\": null}}, \"transform\": [{\"filter\": {\"selection\": \"selector001\"}}]}, {\"data\": {\"name\": \"data-0583bb694482f3da28ceab995e3ea9e0\"}, \"mark\": \"circle\", \"encoding\": {\"color\": {\"type\": \"nominal\", \"field\": \"a\\u00f1o\", \"scale\": {\"domain\": [\"2015\", \"2016\", \"2017\", \"2018\", \"2019\", \"2020\", \"Promedio \\u00faltimos 5 a\\u00f1os\"], \"range\": [\"lightgray\", \"lightgray\", \"lightgray\", \"lightgray\", \"lightgray\", \"red\", \"blue\"]}}, \"opacity\": {\"condition\": {\"value\": 1, \"selection\": \"selector001\"}, \"value\": 0}, \"x\": {\"type\": \"quantitative\", \"field\": \"semana\", \"scale\": {\"domain\": [1, 52]}}, \"y\": {\"type\": \"quantitative\", \"field\": \"defunciones\", \"scale\": {\"domain\": [0, 4000]}}}, \"selection\": {\"selector001\": {\"type\": \"single\", \"encodings\": [\"x\"], \"on\": \"mouseover\", \"nearest\": true, \"empty\": \"none\"}}}, {\"data\": {\"name\": \"data-0583bb694482f3da28ceab995e3ea9e0\"}, \"mark\": {\"type\": \"text\", \"align\": \"left\", \"dx\": 5, \"dy\": -5, \"stroke\": \"white\", \"strokeWidth\": 2}, \"encoding\": {\"color\": {\"type\": \"nominal\", \"field\": \"a\\u00f1o\", \"scale\": {\"domain\": [\"2015\", \"2016\", \"2017\", \"2018\", \"2019\", \"2020\", \"Promedio \\u00faltimos 5 a\\u00f1os\"], \"range\": [\"lightgray\", \"lightgray\", \"lightgray\", \"lightgray\", \"lightgray\", \"red\", \"blue\"]}}, \"text\": {\"type\": \"quantitative\", \"field\": \"defunciones\"}, \"x\": {\"type\": \"quantitative\", \"field\": \"semana\", \"scale\": {\"domain\": [1, 52]}}, \"y\": {\"type\": \"quantitative\", \"field\": \"defunciones\", \"scale\": {\"domain\": [0, 4000]}}}, \"transform\": [{\"filter\": {\"selection\": \"selector001\"}}]}, {\"data\": {\"name\": \"data-0583bb694482f3da28ceab995e3ea9e0\"}, \"mark\": {\"type\": \"text\", \"align\": \"left\", \"dx\": 5, \"dy\": -5}, \"encoding\": {\"color\": {\"type\": \"nominal\", \"field\": \"a\\u00f1o\", \"scale\": {\"domain\": [\"2015\", \"2016\", \"2017\", \"2018\", \"2019\", \"2020\", \"Promedio \\u00faltimos 5 a\\u00f1os\"], \"range\": [\"lightgray\", \"lightgray\", \"lightgray\", \"lightgray\", \"lightgray\", \"red\", \"blue\"]}}, \"text\": {\"type\": \"quantitative\", \"field\": \"defunciones\"}, \"x\": {\"type\": \"quantitative\", \"field\": \"semana\", \"scale\": {\"domain\": [1, 52]}}, \"y\": {\"type\": \"quantitative\", \"field\": \"defunciones\", \"scale\": {\"domain\": [0, 4000]}}}, \"transform\": [{\"filter\": {\"selection\": \"selector001\"}}]}], \"data\": {\"name\": \"data-0583bb694482f3da28ceab995e3ea9e0\"}, \"title\": \"Defunciones inscritas en Chile por semana hasta semana 32\", \"width\": 600, \"$schema\": \"https://vega.github.io/schema/vega-lite/v4.8.1.json\", \"datasets\": {\"data-0583bb694482f3da28ceab995e3ea9e0\": [{\"a\\u00f1o\": 2015, \"semana\": 1, \"defunciones\": 1796.0}, {\"a\\u00f1o\": 2016, \"semana\": 1, \"defunciones\": 2116.0}, {\"a\\u00f1o\": 2017, \"semana\": 1, \"defunciones\": 1874.0}, {\"a\\u00f1o\": 2018, \"semana\": 1, \"defunciones\": 1861.0}, {\"a\\u00f1o\": 2019, \"semana\": 1, \"defunciones\": 1939.0}, {\"a\\u00f1o\": 2020, \"semana\": 1, \"defunciones\": 2060.0}, {\"a\\u00f1o\": \"Promedio \\u00faltimos 5 a\\u00f1os\", \"semana\": 1, \"defunciones\": 1917.0}, {\"a\\u00f1o\": 2015, \"semana\": 2, \"defunciones\": 1888.0}, {\"a\\u00f1o\": 2016, \"semana\": 2, \"defunciones\": 1858.0}, {\"a\\u00f1o\": 2017, \"semana\": 2, \"defunciones\": 1874.0}, {\"a\\u00f1o\": 2018, \"semana\": 2, \"defunciones\": 1865.0}, {\"a\\u00f1o\": 2019, \"semana\": 2, \"defunciones\": 1889.0}, {\"a\\u00f1o\": 2020, \"semana\": 2, \"defunciones\": 2116.0}, {\"a\\u00f1o\": \"Promedio \\u00faltimos 5 a\\u00f1os\", \"semana\": 2, \"defunciones\": 1875.0}, {\"a\\u00f1o\": 2015, \"semana\": 3, \"defunciones\": 1852.0}, {\"a\\u00f1o\": 2016, \"semana\": 3, \"defunciones\": 1932.0}, {\"a\\u00f1o\": 2017, \"semana\": 3, \"defunciones\": 1958.0}, {\"a\\u00f1o\": 2018, \"semana\": 3, \"defunciones\": 1778.0}, {\"a\\u00f1o\": 2019, \"semana\": 3, \"defunciones\": 1807.0}, {\"a\\u00f1o\": 2020, \"semana\": 3, \"defunciones\": 2060.0}, {\"a\\u00f1o\": \"Promedio \\u00faltimos 5 a\\u00f1os\", \"semana\": 3, \"defunciones\": 1866.0}, {\"a\\u00f1o\": 2015, \"semana\": 4, \"defunciones\": 1792.0}, {\"a\\u00f1o\": 2016, \"semana\": 4, \"defunciones\": 1863.0}, {\"a\\u00f1o\": 2017, \"semana\": 4, \"defunciones\": 2110.0}, {\"a\\u00f1o\": 2018, \"semana\": 4, \"defunciones\": 1779.0}, {\"a\\u00f1o\": 2019, \"semana\": 4, \"defunciones\": 1943.0}, {\"a\\u00f1o\": 2020, \"semana\": 4, \"defunciones\": 1987.0}, {\"a\\u00f1o\": \"Promedio \\u00faltimos 5 a\\u00f1os\", \"semana\": 4, \"defunciones\": 1898.0}, {\"a\\u00f1o\": 2015, \"semana\": 5, \"defunciones\": 1812.0}, {\"a\\u00f1o\": 2016, \"semana\": 5, \"defunciones\": 1910.0}, {\"a\\u00f1o\": 2017, \"semana\": 5, \"defunciones\": 1940.0}, {\"a\\u00f1o\": 2018, \"semana\": 5, \"defunciones\": 1860.0}, {\"a\\u00f1o\": 2019, \"semana\": 5, \"defunciones\": 1932.0}, {\"a\\u00f1o\": 2020, \"semana\": 5, \"defunciones\": 2034.0}, {\"a\\u00f1o\": \"Promedio \\u00faltimos 5 a\\u00f1os\", \"semana\": 5, \"defunciones\": 1891.0}, {\"a\\u00f1o\": 2015, \"semana\": 6, \"defunciones\": 1875.0}, {\"a\\u00f1o\": 2016, \"semana\": 6, \"defunciones\": 1749.0}, {\"a\\u00f1o\": 2017, \"semana\": 6, \"defunciones\": 1815.0}, {\"a\\u00f1o\": 2018, \"semana\": 6, \"defunciones\": 1885.0}, {\"a\\u00f1o\": 2019, \"semana\": 6, \"defunciones\": 2021.0}, {\"a\\u00f1o\": 2020, \"semana\": 6, \"defunciones\": 1906.0}, {\"a\\u00f1o\": \"Promedio \\u00faltimos 5 a\\u00f1os\", \"semana\": 6, \"defunciones\": 1869.0}, {\"a\\u00f1o\": 2015, \"semana\": 7, \"defunciones\": 1829.0}, {\"a\\u00f1o\": 2016, \"semana\": 7, \"defunciones\": 1724.0}, {\"a\\u00f1o\": 2017, \"semana\": 7, \"defunciones\": 1854.0}, {\"a\\u00f1o\": 2018, \"semana\": 7, \"defunciones\": 1868.0}, {\"a\\u00f1o\": 2019, \"semana\": 7, \"defunciones\": 1893.0}, {\"a\\u00f1o\": 2020, \"semana\": 7, \"defunciones\": 1959.0}, {\"a\\u00f1o\": \"Promedio \\u00faltimos 5 a\\u00f1os\", \"semana\": 7, \"defunciones\": 1834.0}, {\"a\\u00f1o\": 2015, \"semana\": 8, \"defunciones\": 1824.0}, {\"a\\u00f1o\": 2016, \"semana\": 8, \"defunciones\": 1836.0}, {\"a\\u00f1o\": 2017, \"semana\": 8, \"defunciones\": 1893.0}, {\"a\\u00f1o\": 2018, \"semana\": 8, \"defunciones\": 1818.0}, {\"a\\u00f1o\": 2019, \"semana\": 8, \"defunciones\": 1936.0}, {\"a\\u00f1o\": 2020, \"semana\": 8, \"defunciones\": 1825.0}, {\"a\\u00f1o\": \"Promedio \\u00faltimos 5 a\\u00f1os\", \"semana\": 8, \"defunciones\": 1861.0}, {\"a\\u00f1o\": 2015, \"semana\": 9, \"defunciones\": 1844.0}, {\"a\\u00f1o\": 2016, \"semana\": 9, \"defunciones\": 1854.0}, {\"a\\u00f1o\": 2017, \"semana\": 9, \"defunciones\": 1830.0}, {\"a\\u00f1o\": 2018, \"semana\": 9, \"defunciones\": 1780.0}, {\"a\\u00f1o\": 2019, \"semana\": 9, \"defunciones\": 1885.0}, {\"a\\u00f1o\": 2020, \"semana\": 9, \"defunciones\": 1849.0}, {\"a\\u00f1o\": \"Promedio \\u00faltimos 5 a\\u00f1os\", \"semana\": 9, \"defunciones\": 1838.0}, {\"a\\u00f1o\": 2015, \"semana\": 10, \"defunciones\": 1703.0}, {\"a\\u00f1o\": 2016, \"semana\": 10, \"defunciones\": 1765.0}, {\"a\\u00f1o\": 2017, \"semana\": 10, \"defunciones\": 1731.0}, {\"a\\u00f1o\": 2018, \"semana\": 10, \"defunciones\": 1904.0}, {\"a\\u00f1o\": 2019, \"semana\": 10, \"defunciones\": 1804.0}, {\"a\\u00f1o\": 2020, \"semana\": 10, \"defunciones\": 2020.0}, {\"a\\u00f1o\": \"Promedio \\u00faltimos 5 a\\u00f1os\", \"semana\": 10, \"defunciones\": 1782.0}, {\"a\\u00f1o\": 2015, \"semana\": 11, \"defunciones\": 1861.0}, {\"a\\u00f1o\": 2016, \"semana\": 11, \"defunciones\": 1710.0}, {\"a\\u00f1o\": 2017, \"semana\": 11, \"defunciones\": 1747.0}, {\"a\\u00f1o\": 2018, \"semana\": 11, \"defunciones\": 1791.0}, {\"a\\u00f1o\": 2019, \"semana\": 11, \"defunciones\": 1885.0}, {\"a\\u00f1o\": 2020, \"semana\": 11, \"defunciones\": 1963.0}, {\"a\\u00f1o\": \"Promedio \\u00faltimos 5 a\\u00f1os\", \"semana\": 11, \"defunciones\": 1800.0}, {\"a\\u00f1o\": 2015, \"semana\": 12, \"defunciones\": 1803.0}, {\"a\\u00f1o\": 2016, \"semana\": 12, \"defunciones\": 1671.0}, {\"a\\u00f1o\": 2017, \"semana\": 12, \"defunciones\": 1761.0}, {\"a\\u00f1o\": 2018, \"semana\": 12, \"defunciones\": 1848.0}, {\"a\\u00f1o\": 2019, \"semana\": 12, \"defunciones\": 1857.0}, {\"a\\u00f1o\": 2020, \"semana\": 12, \"defunciones\": 1985.0}, {\"a\\u00f1o\": \"Promedio \\u00faltimos 5 a\\u00f1os\", \"semana\": 12, \"defunciones\": 1789.0}, {\"a\\u00f1o\": 2015, \"semana\": 13, \"defunciones\": 1775.0}, {\"a\\u00f1o\": 2016, \"semana\": 13, \"defunciones\": 1851.0}, {\"a\\u00f1o\": 2017, \"semana\": 13, \"defunciones\": 1834.0}, {\"a\\u00f1o\": 2018, \"semana\": 13, \"defunciones\": 1788.0}, {\"a\\u00f1o\": 2019, \"semana\": 13, \"defunciones\": 1842.0}, {\"a\\u00f1o\": 2020, \"semana\": 13, \"defunciones\": 1934.0}, {\"a\\u00f1o\": \"Promedio \\u00faltimos 5 a\\u00f1os\", \"semana\": 13, \"defunciones\": 1818.0}, {\"a\\u00f1o\": 2015, \"semana\": 14, \"defunciones\": 1635.0}, {\"a\\u00f1o\": 2016, \"semana\": 14, \"defunciones\": 1836.0}, {\"a\\u00f1o\": 2017, \"semana\": 14, \"defunciones\": 1868.0}, {\"a\\u00f1o\": 2018, \"semana\": 14, \"defunciones\": 2016.0}, {\"a\\u00f1o\": 2019, \"semana\": 14, \"defunciones\": 1930.0}, {\"a\\u00f1o\": 2020, \"semana\": 14, \"defunciones\": 2015.0}, {\"a\\u00f1o\": \"Promedio \\u00faltimos 5 a\\u00f1os\", \"semana\": 14, \"defunciones\": 1858.0}, {\"a\\u00f1o\": 2015, \"semana\": 15, \"defunciones\": 1920.0}, {\"a\\u00f1o\": 2016, \"semana\": 15, \"defunciones\": 1908.0}, {\"a\\u00f1o\": 2017, \"semana\": 15, \"defunciones\": 1843.0}, {\"a\\u00f1o\": 2018, \"semana\": 15, \"defunciones\": 1969.0}, {\"a\\u00f1o\": 2019, \"semana\": 15, \"defunciones\": 1980.0}, {\"a\\u00f1o\": 2020, \"semana\": 15, \"defunciones\": 1950.0}, {\"a\\u00f1o\": \"Promedio \\u00faltimos 5 a\\u00f1os\", \"semana\": 15, \"defunciones\": 1923.0}, {\"a\\u00f1o\": 2015, \"semana\": 16, \"defunciones\": 1809.0}, {\"a\\u00f1o\": 2016, \"semana\": 16, \"defunciones\": 1880.0}, {\"a\\u00f1o\": 2017, \"semana\": 16, \"defunciones\": 1994.0}, {\"a\\u00f1o\": 2018, \"semana\": 16, \"defunciones\": 1898.0}, {\"a\\u00f1o\": 2019, \"semana\": 16, \"defunciones\": 1913.0}, {\"a\\u00f1o\": 2020, \"semana\": 16, \"defunciones\": 2188.0}, {\"a\\u00f1o\": \"Promedio \\u00faltimos 5 a\\u00f1os\", \"semana\": 16, \"defunciones\": 1898.0}, {\"a\\u00f1o\": 2015, \"semana\": 17, \"defunciones\": 1955.0}, {\"a\\u00f1o\": 2016, \"semana\": 17, \"defunciones\": 1970.0}, {\"a\\u00f1o\": 2017, \"semana\": 17, \"defunciones\": 1958.0}, {\"a\\u00f1o\": 2018, \"semana\": 17, \"defunciones\": 1974.0}, {\"a\\u00f1o\": 2019, \"semana\": 17, \"defunciones\": 2108.0}, {\"a\\u00f1o\": 2020, \"semana\": 17, \"defunciones\": 2092.0}, {\"a\\u00f1o\": \"Promedio \\u00faltimos 5 a\\u00f1os\", \"semana\": 17, \"defunciones\": 1994.0}, {\"a\\u00f1o\": 2015, \"semana\": 18, \"defunciones\": 1805.0}, {\"a\\u00f1o\": 2016, \"semana\": 18, \"defunciones\": 1988.0}, {\"a\\u00f1o\": 2017, \"semana\": 18, \"defunciones\": 1927.0}, {\"a\\u00f1o\": 2018, \"semana\": 18, \"defunciones\": 1960.0}, {\"a\\u00f1o\": 2019, \"semana\": 18, \"defunciones\": 2052.0}, {\"a\\u00f1o\": 2020, \"semana\": 18, \"defunciones\": 1981.0}, {\"a\\u00f1o\": \"Promedio \\u00faltimos 5 a\\u00f1os\", \"semana\": 18, \"defunciones\": 1946.0}, {\"a\\u00f1o\": 2015, \"semana\": 19, \"defunciones\": 2016.0}, {\"a\\u00f1o\": 2016, \"semana\": 19, \"defunciones\": 1910.0}, {\"a\\u00f1o\": 2017, \"semana\": 19, \"defunciones\": 1924.0}, {\"a\\u00f1o\": 2018, \"semana\": 19, \"defunciones\": 1863.0}, {\"a\\u00f1o\": 2019, \"semana\": 19, \"defunciones\": 2048.0}, {\"a\\u00f1o\": 2020, \"semana\": 19, \"defunciones\": 2360.0}, {\"a\\u00f1o\": \"Promedio \\u00faltimos 5 a\\u00f1os\", \"semana\": 19, \"defunciones\": 1952.0}, {\"a\\u00f1o\": 2015, \"semana\": 20, \"defunciones\": 1936.0}, {\"a\\u00f1o\": 2016, \"semana\": 20, \"defunciones\": 2009.0}, {\"a\\u00f1o\": 2017, \"semana\": 20, \"defunciones\": 2015.0}, {\"a\\u00f1o\": 2018, \"semana\": 20, \"defunciones\": 2022.0}, {\"a\\u00f1o\": 2019, \"semana\": 20, \"defunciones\": 2252.0}, {\"a\\u00f1o\": 2020, \"semana\": 20, \"defunciones\": 2432.0}, {\"a\\u00f1o\": \"Promedio \\u00faltimos 5 a\\u00f1os\", \"semana\": 20, \"defunciones\": 2048.0}, {\"a\\u00f1o\": 2015, \"semana\": 21, \"defunciones\": 1943.0}, {\"a\\u00f1o\": 2016, \"semana\": 21, \"defunciones\": 2010.0}, {\"a\\u00f1o\": 2017, \"semana\": 21, \"defunciones\": 2156.0}, {\"a\\u00f1o\": 2018, \"semana\": 21, \"defunciones\": 2052.0}, {\"a\\u00f1o\": 2019, \"semana\": 21, \"defunciones\": 2232.0}, {\"a\\u00f1o\": 2020, \"semana\": 21, \"defunciones\": 2732.0}, {\"a\\u00f1o\": \"Promedio \\u00faltimos 5 a\\u00f1os\", \"semana\": 21, \"defunciones\": 2078.0}, {\"a\\u00f1o\": 2015, \"semana\": 22, \"defunciones\": 2144.0}, {\"a\\u00f1o\": 2016, \"semana\": 22, \"defunciones\": 2056.0}, {\"a\\u00f1o\": 2017, \"semana\": 22, \"defunciones\": 2312.0}, {\"a\\u00f1o\": 2018, \"semana\": 22, \"defunciones\": 2126.0}, {\"a\\u00f1o\": 2019, \"semana\": 22, \"defunciones\": 2374.0}, {\"a\\u00f1o\": 2020, \"semana\": 22, \"defunciones\": 3364.0}, {\"a\\u00f1o\": \"Promedio \\u00faltimos 5 a\\u00f1os\", \"semana\": 22, \"defunciones\": 2204.0}, {\"a\\u00f1o\": 2015, \"semana\": 23, \"defunciones\": 2035.0}, {\"a\\u00f1o\": 2016, \"semana\": 23, \"defunciones\": 2104.0}, {\"a\\u00f1o\": 2017, \"semana\": 23, \"defunciones\": 2356.0}, {\"a\\u00f1o\": 2018, \"semana\": 23, \"defunciones\": 2294.0}, {\"a\\u00f1o\": 2019, \"semana\": 23, \"defunciones\": 2380.0}, {\"a\\u00f1o\": 2020, \"semana\": 23, \"defunciones\": 3740.0}, {\"a\\u00f1o\": \"Promedio \\u00faltimos 5 a\\u00f1os\", \"semana\": 23, \"defunciones\": 2234.0}, {\"a\\u00f1o\": 2015, \"semana\": 24, \"defunciones\": 2068.0}, {\"a\\u00f1o\": 2016, \"semana\": 24, \"defunciones\": 2172.0}, {\"a\\u00f1o\": 2017, \"semana\": 24, \"defunciones\": 2602.0}, {\"a\\u00f1o\": 2018, \"semana\": 24, \"defunciones\": 2400.0}, {\"a\\u00f1o\": 2019, \"semana\": 24, \"defunciones\": 2338.0}, {\"a\\u00f1o\": 2020, \"semana\": 24, \"defunciones\": 3968.0}, {\"a\\u00f1o\": \"Promedio \\u00faltimos 5 a\\u00f1os\", \"semana\": 24, \"defunciones\": 2316.0}, {\"a\\u00f1o\": 2015, \"semana\": 25, \"defunciones\": 2076.0}, {\"a\\u00f1o\": 2016, \"semana\": 25, \"defunciones\": 2328.0}, {\"a\\u00f1o\": 2017, \"semana\": 25, \"defunciones\": 2744.0}, {\"a\\u00f1o\": 2018, \"semana\": 25, \"defunciones\": 2330.0}, {\"a\\u00f1o\": 2019, \"semana\": 25, \"defunciones\": 2512.0}, {\"a\\u00f1o\": 2020, \"semana\": 25, \"defunciones\": 3832.0}, {\"a\\u00f1o\": \"Promedio \\u00faltimos 5 a\\u00f1os\", \"semana\": 25, \"defunciones\": 2398.0}, {\"a\\u00f1o\": 2015, \"semana\": 26, \"defunciones\": 2348.0}, {\"a\\u00f1o\": 2016, \"semana\": 26, \"defunciones\": 2328.0}, {\"a\\u00f1o\": 2017, \"semana\": 26, \"defunciones\": 2376.0}, {\"a\\u00f1o\": 2018, \"semana\": 26, \"defunciones\": 2382.0}, {\"a\\u00f1o\": 2019, \"semana\": 26, \"defunciones\": 2516.0}, {\"a\\u00f1o\": 2020, \"semana\": 26, \"defunciones\": 3732.0}, {\"a\\u00f1o\": \"Promedio \\u00faltimos 5 a\\u00f1os\", \"semana\": 26, \"defunciones\": 2390.0}, {\"a\\u00f1o\": 2015, \"semana\": 27, \"defunciones\": 2124.0}, {\"a\\u00f1o\": 2016, \"semana\": 27, \"defunciones\": 2342.0}, {\"a\\u00f1o\": 2017, \"semana\": 27, \"defunciones\": 2498.0}, {\"a\\u00f1o\": 2018, \"semana\": 27, \"defunciones\": 2280.0}, {\"a\\u00f1o\": 2019, \"semana\": 27, \"defunciones\": 2420.0}, {\"a\\u00f1o\": 2020, \"semana\": 27, \"defunciones\": 3080.0}, {\"a\\u00f1o\": \"Promedio \\u00faltimos 5 a\\u00f1os\", \"semana\": 27, \"defunciones\": 2332.0}, {\"a\\u00f1o\": 2015, \"semana\": 28, \"defunciones\": 2240.0}, {\"a\\u00f1o\": 2016, \"semana\": 28, \"defunciones\": 2470.0}, {\"a\\u00f1o\": 2017, \"semana\": 28, \"defunciones\": 2346.0}, {\"a\\u00f1o\": 2018, \"semana\": 28, \"defunciones\": 2370.0}, {\"a\\u00f1o\": 2019, \"semana\": 28, \"defunciones\": 2446.0}, {\"a\\u00f1o\": 2020, \"semana\": 28, \"defunciones\": 3020.0}, {\"a\\u00f1o\": \"Promedio \\u00faltimos 5 a\\u00f1os\", \"semana\": 28, \"defunciones\": 2374.0}, {\"a\\u00f1o\": 2015, \"semana\": 29, \"defunciones\": 2220.0}, {\"a\\u00f1o\": 2016, \"semana\": 29, \"defunciones\": 2540.0}, {\"a\\u00f1o\": 2017, \"semana\": 29, \"defunciones\": 2458.0}, {\"a\\u00f1o\": 2018, \"semana\": 29, \"defunciones\": 2216.0}, {\"a\\u00f1o\": 2019, \"semana\": 29, \"defunciones\": 2404.0}, {\"a\\u00f1o\": 2020, \"semana\": 29, \"defunciones\": 2782.0}, {\"a\\u00f1o\": \"Promedio \\u00faltimos 5 a\\u00f1os\", \"semana\": 29, \"defunciones\": 2368.0}, {\"a\\u00f1o\": 2015, \"semana\": 30, \"defunciones\": 2300.0}, {\"a\\u00f1o\": 2016, \"semana\": 30, \"defunciones\": 2376.0}, {\"a\\u00f1o\": 2017, \"semana\": 30, \"defunciones\": 2308.0}, {\"a\\u00f1o\": 2018, \"semana\": 30, \"defunciones\": 2506.0}, {\"a\\u00f1o\": 2019, \"semana\": 30, \"defunciones\": 2356.0}, {\"a\\u00f1o\": 2020, \"semana\": 30, \"defunciones\": 2780.0}, {\"a\\u00f1o\": \"Promedio \\u00faltimos 5 a\\u00f1os\", \"semana\": 30, \"defunciones\": 2368.0}, {\"a\\u00f1o\": 2015, \"semana\": 31, \"defunciones\": 2252.0}, {\"a\\u00f1o\": 2016, \"semana\": 31, \"defunciones\": 2298.0}, {\"a\\u00f1o\": 2017, \"semana\": 31, \"defunciones\": 2324.0}, {\"a\\u00f1o\": 2018, \"semana\": 31, \"defunciones\": 2494.0}, {\"a\\u00f1o\": 2019, \"semana\": 31, \"defunciones\": 2370.0}, {\"a\\u00f1o\": 2020, \"semana\": 31, \"defunciones\": 2654.0}, {\"a\\u00f1o\": \"Promedio \\u00faltimos 5 a\\u00f1os\", \"semana\": 31, \"defunciones\": 2348.0}, {\"a\\u00f1o\": 2015, \"semana\": 32, \"defunciones\": 2244.0}, {\"a\\u00f1o\": 2016, \"semana\": 32, \"defunciones\": 2272.0}, {\"a\\u00f1o\": 2017, \"semana\": 32, \"defunciones\": 2244.0}, {\"a\\u00f1o\": 2018, \"semana\": 32, \"defunciones\": 2508.0}, {\"a\\u00f1o\": 2019, \"semana\": 32, \"defunciones\": 2284.0}, {\"a\\u00f1o\": 2020, \"semana\": 32, \"defunciones\": 2440.0}, {\"a\\u00f1o\": \"Promedio \\u00faltimos 5 a\\u00f1os\", \"semana\": 32, \"defunciones\": 2310.0}, {\"a\\u00f1o\": 2015, \"semana\": 33, \"defunciones\": 2152.0}, {\"a\\u00f1o\": 2016, \"semana\": 33, \"defunciones\": 2124.0}, {\"a\\u00f1o\": 2017, \"semana\": 33, \"defunciones\": 2196.0}, {\"a\\u00f1o\": 2018, \"semana\": 33, \"defunciones\": 2332.0}, {\"a\\u00f1o\": 2019, \"semana\": 33, \"defunciones\": 2296.0}, {\"a\\u00f1o\": 2020, \"semana\": 33, \"defunciones\": null}, {\"a\\u00f1o\": \"Promedio \\u00faltimos 5 a\\u00f1os\", \"semana\": 33, \"defunciones\": 2220.0}, {\"a\\u00f1o\": 2015, \"semana\": 34, \"defunciones\": 2180.0}, {\"a\\u00f1o\": 2016, \"semana\": 34, \"defunciones\": 2158.0}, {\"a\\u00f1o\": 2017, \"semana\": 34, \"defunciones\": 2116.0}, {\"a\\u00f1o\": 2018, \"semana\": 34, \"defunciones\": 2350.0}, {\"a\\u00f1o\": 2019, \"semana\": 34, \"defunciones\": 2260.0}, {\"a\\u00f1o\": 2020, \"semana\": 34, \"defunciones\": null}, {\"a\\u00f1o\": \"Promedio \\u00faltimos 5 a\\u00f1os\", \"semana\": 34, \"defunciones\": 2212.0}, {\"a\\u00f1o\": 2015, \"semana\": 35, \"defunciones\": 2192.0}, {\"a\\u00f1o\": 2016, \"semana\": 35, \"defunciones\": 2096.0}, {\"a\\u00f1o\": 2017, \"semana\": 35, \"defunciones\": 2144.0}, {\"a\\u00f1o\": 2018, \"semana\": 35, \"defunciones\": 2284.0}, {\"a\\u00f1o\": 2019, \"semana\": 35, \"defunciones\": 2172.0}, {\"a\\u00f1o\": 2020, \"semana\": 35, \"defunciones\": null}, {\"a\\u00f1o\": \"Promedio \\u00faltimos 5 a\\u00f1os\", \"semana\": 35, \"defunciones\": 2180.0}, {\"a\\u00f1o\": 2015, \"semana\": 36, \"defunciones\": 2160.0}, {\"a\\u00f1o\": 2016, \"semana\": 36, \"defunciones\": 2296.0}, {\"a\\u00f1o\": 2017, \"semana\": 36, \"defunciones\": 2144.0}, {\"a\\u00f1o\": 2018, \"semana\": 36, \"defunciones\": 2224.0}, {\"a\\u00f1o\": 2019, \"semana\": 36, \"defunciones\": 2228.0}, {\"a\\u00f1o\": 2020, \"semana\": 36, \"defunciones\": null}, {\"a\\u00f1o\": \"Promedio \\u00faltimos 5 a\\u00f1os\", \"semana\": 36, \"defunciones\": 2212.0}, {\"a\\u00f1o\": 2015, \"semana\": 37, \"defunciones\": 2054.0}, {\"a\\u00f1o\": 2016, \"semana\": 37, \"defunciones\": 2214.0}, {\"a\\u00f1o\": 2017, \"semana\": 37, \"defunciones\": 2328.0}, {\"a\\u00f1o\": 2018, \"semana\": 37, \"defunciones\": 2296.0}, {\"a\\u00f1o\": 2019, \"semana\": 37, \"defunciones\": 2212.0}, {\"a\\u00f1o\": 2020, \"semana\": 37, \"defunciones\": null}, {\"a\\u00f1o\": \"Promedio \\u00faltimos 5 a\\u00f1os\", \"semana\": 37, \"defunciones\": 2220.0}, {\"a\\u00f1o\": 2015, \"semana\": 38, \"defunciones\": 1963.0}, {\"a\\u00f1o\": 2016, \"semana\": 38, \"defunciones\": 2108.0}, {\"a\\u00f1o\": 2017, \"semana\": 38, \"defunciones\": 2072.0}, {\"a\\u00f1o\": 2018, \"semana\": 38, \"defunciones\": 1979.0}, {\"a\\u00f1o\": 2019, \"semana\": 38, \"defunciones\": 1805.0}, {\"a\\u00f1o\": 2020, \"semana\": 38, \"defunciones\": null}, {\"a\\u00f1o\": \"Promedio \\u00faltimos 5 a\\u00f1os\", \"semana\": 38, \"defunciones\": 1986.0}, {\"a\\u00f1o\": 2015, \"semana\": 39, \"defunciones\": 2468.0}, {\"a\\u00f1o\": 2016, \"semana\": 39, \"defunciones\": 2036.0}, {\"a\\u00f1o\": 2017, \"semana\": 39, \"defunciones\": 2184.0}, {\"a\\u00f1o\": 2018, \"semana\": 39, \"defunciones\": 2184.0}, {\"a\\u00f1o\": 2019, \"semana\": 39, \"defunciones\": 2656.0}, {\"a\\u00f1o\": 2020, \"semana\": 39, \"defunciones\": null}, {\"a\\u00f1o\": \"Promedio \\u00faltimos 5 a\\u00f1os\", \"semana\": 39, \"defunciones\": 2306.0}, {\"a\\u00f1o\": 2015, \"semana\": 40, \"defunciones\": 2048.0}, {\"a\\u00f1o\": 2016, \"semana\": 40, \"defunciones\": 2100.0}, {\"a\\u00f1o\": 2017, \"semana\": 40, \"defunciones\": 2176.0}, {\"a\\u00f1o\": 2018, \"semana\": 40, \"defunciones\": 2094.0}, {\"a\\u00f1o\": 2019, \"semana\": 40, \"defunciones\": 2180.0}, {\"a\\u00f1o\": 2020, \"semana\": 40, \"defunciones\": null}, {\"a\\u00f1o\": \"Promedio \\u00faltimos 5 a\\u00f1os\", \"semana\": 40, \"defunciones\": 2118.0}, {\"a\\u00f1o\": 2015, \"semana\": 41, \"defunciones\": 2124.0}, {\"a\\u00f1o\": 2016, \"semana\": 41, \"defunciones\": 1905.0}, {\"a\\u00f1o\": 2017, \"semana\": 41, \"defunciones\": 1964.0}, {\"a\\u00f1o\": 2018, \"semana\": 41, \"defunciones\": 2044.0}, {\"a\\u00f1o\": 2019, \"semana\": 41, \"defunciones\": 2210.0}, {\"a\\u00f1o\": 2020, \"semana\": 41, \"defunciones\": null}, {\"a\\u00f1o\": \"Promedio \\u00faltimos 5 a\\u00f1os\", \"semana\": 41, \"defunciones\": 2050.0}, {\"a\\u00f1o\": 2015, \"semana\": 42, \"defunciones\": 1934.0}, {\"a\\u00f1o\": 2016, \"semana\": 42, \"defunciones\": 1826.0}, {\"a\\u00f1o\": 2017, \"semana\": 42, \"defunciones\": 1982.0}, {\"a\\u00f1o\": 2018, \"semana\": 42, \"defunciones\": 1902.0}, {\"a\\u00f1o\": 2019, \"semana\": 42, \"defunciones\": 2003.0}, {\"a\\u00f1o\": 2020, \"semana\": 42, \"defunciones\": null}, {\"a\\u00f1o\": \"Promedio \\u00faltimos 5 a\\u00f1os\", \"semana\": 42, \"defunciones\": 1930.0}, {\"a\\u00f1o\": 2015, \"semana\": 43, \"defunciones\": 1992.0}, {\"a\\u00f1o\": 2016, \"semana\": 43, \"defunciones\": 2088.0}, {\"a\\u00f1o\": 2017, \"semana\": 43, \"defunciones\": 1800.0}, {\"a\\u00f1o\": 2018, \"semana\": 43, \"defunciones\": 2064.0}, {\"a\\u00f1o\": 2019, \"semana\": 43, \"defunciones\": 2017.0}, {\"a\\u00f1o\": 2020, \"semana\": 43, \"defunciones\": null}, {\"a\\u00f1o\": \"Promedio \\u00faltimos 5 a\\u00f1os\", \"semana\": 43, \"defunciones\": 1992.0}, {\"a\\u00f1o\": 2015, \"semana\": 44, \"defunciones\": 1619.0}, {\"a\\u00f1o\": 2016, \"semana\": 44, \"defunciones\": 1761.0}, {\"a\\u00f1o\": 2017, \"semana\": 44, \"defunciones\": 1930.0}, {\"a\\u00f1o\": 2018, \"semana\": 44, \"defunciones\": 1761.0}, {\"a\\u00f1o\": 2019, \"semana\": 44, \"defunciones\": 1898.0}, {\"a\\u00f1o\": 2020, \"semana\": 44, \"defunciones\": null}, {\"a\\u00f1o\": \"Promedio \\u00faltimos 5 a\\u00f1os\", \"semana\": 44, \"defunciones\": 1794.0}, {\"a\\u00f1o\": 2015, \"semana\": 45, \"defunciones\": 2028.0}, {\"a\\u00f1o\": 2016, \"semana\": 45, \"defunciones\": 1927.0}, {\"a\\u00f1o\": 2017, \"semana\": 45, \"defunciones\": 1973.0}, {\"a\\u00f1o\": 2018, \"semana\": 45, \"defunciones\": 2226.0}, {\"a\\u00f1o\": 2019, \"semana\": 45, \"defunciones\": 2222.0}, {\"a\\u00f1o\": 2020, \"semana\": 45, \"defunciones\": null}, {\"a\\u00f1o\": \"Promedio \\u00faltimos 5 a\\u00f1os\", \"semana\": 45, \"defunciones\": 2076.0}, {\"a\\u00f1o\": 2015, \"semana\": 46, \"defunciones\": 2236.0}, {\"a\\u00f1o\": 2016, \"semana\": 46, \"defunciones\": 1800.0}, {\"a\\u00f1o\": 2017, \"semana\": 46, \"defunciones\": 1816.0}, {\"a\\u00f1o\": 2018, \"semana\": 46, \"defunciones\": 1927.0}, {\"a\\u00f1o\": 2019, \"semana\": 46, \"defunciones\": 2003.0}, {\"a\\u00f1o\": 2020, \"semana\": 46, \"defunciones\": null}, {\"a\\u00f1o\": \"Promedio \\u00faltimos 5 a\\u00f1os\", \"semana\": 46, \"defunciones\": 1957.0}, {\"a\\u00f1o\": 2015, \"semana\": 47, \"defunciones\": 1949.0}, {\"a\\u00f1o\": 2016, \"semana\": 47, \"defunciones\": 1854.0}, {\"a\\u00f1o\": 2017, \"semana\": 47, \"defunciones\": 1943.0}, {\"a\\u00f1o\": 2018, \"semana\": 47, \"defunciones\": 1986.0}, {\"a\\u00f1o\": 2019, \"semana\": 47, \"defunciones\": 2072.0}, {\"a\\u00f1o\": 2020, \"semana\": 47, \"defunciones\": null}, {\"a\\u00f1o\": \"Promedio \\u00faltimos 5 a\\u00f1os\", \"semana\": 47, \"defunciones\": 1962.0}, {\"a\\u00f1o\": 2015, \"semana\": 48, \"defunciones\": 1863.0}, {\"a\\u00f1o\": 2016, \"semana\": 48, \"defunciones\": 1874.0}, {\"a\\u00f1o\": 2017, \"semana\": 48, \"defunciones\": 1907.0}, {\"a\\u00f1o\": 2018, \"semana\": 48, \"defunciones\": 1906.0}, {\"a\\u00f1o\": 2019, \"semana\": 48, \"defunciones\": 1960.0}, {\"a\\u00f1o\": 2020, \"semana\": 48, \"defunciones\": null}, {\"a\\u00f1o\": \"Promedio \\u00faltimos 5 a\\u00f1os\", \"semana\": 48, \"defunciones\": 1902.0}, {\"a\\u00f1o\": 2015, \"semana\": 49, \"defunciones\": 1960.0}, {\"a\\u00f1o\": 2016, \"semana\": 49, \"defunciones\": 1811.0}, {\"a\\u00f1o\": 2017, \"semana\": 49, \"defunciones\": 1737.0}, {\"a\\u00f1o\": 2018, \"semana\": 49, \"defunciones\": 1932.0}, {\"a\\u00f1o\": 2019, \"semana\": 49, \"defunciones\": 1963.0}, {\"a\\u00f1o\": 2020, \"semana\": 49, \"defunciones\": null}, {\"a\\u00f1o\": \"Promedio \\u00faltimos 5 a\\u00f1os\", \"semana\": 49, \"defunciones\": 1880.0}, {\"a\\u00f1o\": 2015, \"semana\": 50, \"defunciones\": 1915.0}, {\"a\\u00f1o\": 2016, \"semana\": 50, \"defunciones\": 1891.0}, {\"a\\u00f1o\": 2017, \"semana\": 50, \"defunciones\": 2006.0}, {\"a\\u00f1o\": 2018, \"semana\": 50, \"defunciones\": 1907.0}, {\"a\\u00f1o\": 2019, \"semana\": 50, \"defunciones\": 1878.0}, {\"a\\u00f1o\": 2020, \"semana\": 50, \"defunciones\": null}, {\"a\\u00f1o\": \"Promedio \\u00faltimos 5 a\\u00f1os\", \"semana\": 50, \"defunciones\": 1920.0}, {\"a\\u00f1o\": 2015, \"semana\": 51, \"defunciones\": 1879.0}, {\"a\\u00f1o\": 2016, \"semana\": 51, \"defunciones\": 1788.0}, {\"a\\u00f1o\": 2017, \"semana\": 51, \"defunciones\": 2023.0}, {\"a\\u00f1o\": 2018, \"semana\": 51, \"defunciones\": 1980.0}, {\"a\\u00f1o\": 2019, \"semana\": 51, \"defunciones\": 1893.0}, {\"a\\u00f1o\": 2020, \"semana\": 51, \"defunciones\": null}, {\"a\\u00f1o\": \"Promedio \\u00faltimos 5 a\\u00f1os\", \"semana\": 51, \"defunciones\": 1914.0}, {\"a\\u00f1o\": 2015, \"semana\": 52, \"defunciones\": 1768.0}, {\"a\\u00f1o\": 2016, \"semana\": 52, \"defunciones\": 1825.0}, {\"a\\u00f1o\": 2017, \"semana\": 52, \"defunciones\": 1936.0}, {\"a\\u00f1o\": 2018, \"semana\": 52, \"defunciones\": 1892.0}, {\"a\\u00f1o\": 2019, \"semana\": 52, \"defunciones\": 1980.0}, {\"a\\u00f1o\": 2020, \"semana\": 52, \"defunciones\": null}, {\"a\\u00f1o\": \"Promedio \\u00faltimos 5 a\\u00f1os\", \"semana\": 52, \"defunciones\": 1880.0}], \"data-9d1985f9641f2876fa6991554ca56a44\": [{\"semana\": 1, \"lower\": 1795.0, \"upper\": 2039.0, \"lower 2\": 1673.0, \"upper 2\": 2162.0}, {\"semana\": 2, \"lower\": 1861.0, \"upper\": 1889.0, \"lower 2\": 1848.0, \"upper 2\": 1902.0}, {\"semana\": 3, \"lower\": 1788.0, \"upper\": 1944.0, \"lower 2\": 1710.0, \"upper 2\": 2022.0}, {\"semana\": 4, \"lower\": 1762.0, \"upper\": 2034.0, \"lower 2\": 1627.0, \"upper 2\": 2170.0}, {\"semana\": 5, \"lower\": 1837.0, \"upper\": 1945.0, \"lower 2\": 1783.0, \"upper 2\": 1999.0}, {\"semana\": 6, \"lower\": 1768.0, \"upper\": 1970.0, \"lower 2\": 1667.0, \"upper 2\": 2070.0}, {\"semana\": 7, \"lower\": 1768.0, \"upper\": 1900.0, \"lower 2\": 1703.0, \"upper 2\": 1965.0}, {\"semana\": 8, \"lower\": 1810.0, \"upper\": 1912.0, \"lower 2\": 1759.0, \"upper 2\": 1963.0}, {\"semana\": 9, \"lower\": 1800.0, \"upper\": 1876.0, \"lower 2\": 1761.0, \"upper 2\": 1915.0}, {\"semana\": 10, \"lower\": 1704.0, \"upper\": 1860.0, \"lower 2\": 1626.0, \"upper 2\": 1938.0}, {\"semana\": 11, \"lower\": 1726.0, \"upper\": 1874.0, \"lower 2\": 1652.0, \"upper 2\": 1948.0}, {\"semana\": 12, \"lower\": 1713.0, \"upper\": 1865.0, \"lower 2\": 1637.0, \"upper 2\": 1941.0}, {\"semana\": 13, \"lower\": 1784.0, \"upper\": 1852.0, \"lower 2\": 1750.0, \"upper 2\": 1886.0}, {\"semana\": 14, \"lower\": 1716.0, \"upper\": 2000.0, \"lower 2\": 1574.0, \"upper 2\": 2142.0}, {\"semana\": 15, \"lower\": 1868.0, \"upper\": 1978.0, \"lower 2\": 1814.0, \"upper 2\": 2032.0}, {\"semana\": 16, \"lower\": 1832.0, \"upper\": 1964.0, \"lower 2\": 1765.0, \"upper 2\": 2031.0}, {\"semana\": 17, \"lower\": 1929.0, \"upper\": 2058.0, \"lower 2\": 1864.0, \"upper 2\": 2124.0}, {\"semana\": 18, \"lower\": 1855.0, \"upper\": 2037.0, \"lower 2\": 1763.0, \"upper 2\": 2128.0}, {\"semana\": 19, \"lower\": 1875.0, \"upper\": 2029.0, \"lower 2\": 1798.0, \"upper 2\": 2106.0}, {\"semana\": 20, \"lower\": 1928.0, \"upper\": 2168.0, \"lower 2\": 1808.0, \"upper 2\": 2288.0}, {\"semana\": 21, \"lower\": 1963.0, \"upper\": 2194.0, \"lower 2\": 1847.0, \"upper 2\": 2308.0}, {\"semana\": 22, \"lower\": 2070.0, \"upper\": 2338.0, \"lower 2\": 1936.0, \"upper 2\": 2472.0}, {\"semana\": 23, \"lower\": 2078.0, \"upper\": 2390.0, \"lower 2\": 1924.0, \"upper 2\": 2544.0}, {\"semana\": 24, \"lower\": 2108.0, \"upper\": 2524.0, \"lower 2\": 1902.0, \"upper 2\": 2730.0}, {\"semana\": 25, \"lower\": 2150.0, \"upper\": 2646.0, \"lower 2\": 1902.0, \"upper 2\": 2894.0}, {\"semana\": 26, \"lower\": 2316.0, \"upper\": 2464.0, \"lower 2\": 2242.0, \"upper 2\": 2538.0}, {\"semana\": 27, \"lower\": 2190.0, \"upper\": 2474.0, \"lower 2\": 2047.0, \"upper 2\": 2618.0}, {\"semana\": 28, \"lower\": 2282.0, \"upper\": 2466.0, \"lower 2\": 2192.0, \"upper 2\": 2556.0}, {\"semana\": 29, \"lower\": 2224.0, \"upper\": 2512.0, \"lower 2\": 2078.0, \"upper 2\": 2658.0}, {\"semana\": 30, \"lower\": 2286.0, \"upper\": 2450.0, \"lower 2\": 2202.0, \"upper 2\": 2534.0}, {\"semana\": 31, \"lower\": 2256.0, \"upper\": 2440.0, \"lower 2\": 2164.0, \"upper 2\": 2532.0}, {\"semana\": 32, \"lower\": 2198.0, \"upper\": 2422.0, \"lower 2\": 2086.0, \"upper 2\": 2534.0}, {\"semana\": 33, \"lower\": 2130.0, \"upper\": 2310.0, \"lower 2\": 2039.0, \"upper 2\": 2400.0}, {\"semana\": 34, \"lower\": 2120.0, \"upper\": 2304.0, \"lower 2\": 2026.0, \"upper 2\": 2398.0}, {\"semana\": 35, \"lower\": 2110.0, \"upper\": 2250.0, \"lower 2\": 2041.0, \"upper 2\": 2320.0}, {\"semana\": 36, \"lower\": 2152.0, \"upper\": 2272.0, \"lower 2\": 2090.0, \"upper 2\": 2334.0}, {\"semana\": 37, \"lower\": 2114.0, \"upper\": 2326.0, \"lower 2\": 2008.0, \"upper 2\": 2432.0}, {\"semana\": 38, \"lower\": 1868.0, \"upper\": 2104.0, \"lower 2\": 1750.0, \"upper 2\": 2222.0}, {\"semana\": 39, \"lower\": 2056.0, \"upper\": 2556.0, \"lower 2\": 1804.0, \"upper 2\": 2808.0}, {\"semana\": 40, \"lower\": 2060.0, \"upper\": 2176.0, \"lower 2\": 2004.0, \"upper 2\": 2232.0}, {\"semana\": 41, \"lower\": 1928.0, \"upper\": 2172.0, \"lower 2\": 1806.0, \"upper 2\": 2294.0}, {\"semana\": 42, \"lower\": 1860.0, \"upper\": 2000.0, \"lower 2\": 1790.0, \"upper 2\": 2070.0}, {\"semana\": 43, \"lower\": 1878.0, \"upper\": 2106.0, \"lower 2\": 1764.0, \"upper 2\": 2220.0}, {\"semana\": 44, \"lower\": 1669.0, \"upper\": 1919.0, \"lower 2\": 1545.0, \"upper 2\": 2043.0}, {\"semana\": 45, \"lower\": 1936.0, \"upper\": 2216.0, \"lower 2\": 1795.0, \"upper 2\": 2356.0}, {\"semana\": 46, \"lower\": 1780.0, \"upper\": 2134.0, \"lower 2\": 1603.0, \"upper 2\": 2312.0}, {\"semana\": 47, \"lower\": 1883.0, \"upper\": 2041.0, \"lower 2\": 1804.0, \"upper 2\": 2120.0}, {\"semana\": 48, \"lower\": 1864.0, \"upper\": 1940.0, \"lower 2\": 1826.0, \"upper 2\": 1978.0}, {\"semana\": 49, \"lower\": 1778.0, \"upper\": 1982.0, \"lower 2\": 1677.0, \"upper 2\": 2084.0}, {\"semana\": 50, \"lower\": 1870.0, \"upper\": 1970.0, \"lower 2\": 1819.0, \"upper 2\": 2021.0}, {\"semana\": 51, \"lower\": 1822.0, \"upper\": 2006.0, \"lower 2\": 1730.0, \"upper 2\": 2098.0}, {\"semana\": 52, \"lower\": 1795.0, \"upper\": 1965.0, \"lower 2\": 1710.0, \"upper 2\": 2050.0}]}}, {\"mode\": \"vega-lite\"});\n",
       "</script>"
      ],
      "text/plain": [
       "alt.LayerChart(...)"
      ]
     },
     "execution_count": 36,
     "metadata": {},
     "output_type": "execute_result"
    }
   ],
   "source": [
    "#hide_input\n",
    "label = alt.selection_single(\n",
    "    encodings=['x'], # limit selection to x-axis value\n",
    "    on='mouseover',  # select on mouseover events\n",
    "    nearest=True,    # select data point nearest the cursor\n",
    "    empty='none'     # empty selection includes no data points\n",
    ")\n",
    "\n",
    "base = alt.Chart(deaths_year_week.drop([i for i in np.arange(2010,2015)]).reset_index().melt(\"año\", value_name=\"defunciones\")).mark_line(point=True).encode(\n",
    "    x = alt.X(\"semana:Q\",scale=alt.Scale(domain=(1, 52))),\n",
    "    y = alt.Y(\"defunciones\", scale=alt.Scale(domain=(0,4000))),\n",
    "    color=alt.Color('año:N', scale=alt.Scale(range=['lightgray', 'lightgray', 'lightgray', 'lightgray', 'lightgray', 'red',\"blue\"], \n",
    "                                             domain=[\"2015\", \"2016\", \"2017\", \"2018\", \"2019\", \"2020\", \"Promedio últimos 5 años\"]))\n",
    ")\n",
    "\n",
    "alt.layer(\n",
    "    base, # base line chart\n",
    "    \n",
    "    alt.Chart(df_expected.reset_index()).mark_area(\n",
    "        opacity=0.5\n",
    "    ).encode(\n",
    "        x=alt.X(\"semana\", scale=alt.Scale(domain=(1, 52))),\n",
    "        y=alt.Y(\"lower:Q\", axis=alt.Axis(title=\"defunciones\")),\n",
    "        y2=\"upper:Q\"\n",
    "    ),\n",
    "    \n",
    "    alt.Chart(df_expected.reset_index()).mark_area(\n",
    "        opacity=0.3\n",
    "    ).encode(\n",
    "        x=alt.X(\"semana\", scale=alt.Scale(domain=(1, 52))),\n",
    "        y=\"lower 2:Q\",\n",
    "        y2=\"upper 2:Q\"\n",
    "    ),\n",
    "    # add a rule mark to serve as a guide line\n",
    "    alt.Chart().mark_rule(color='#aaa').encode(\n",
    "        x = alt.X('semana:Q', scale=alt.Scale(domain=(1, 52)), axis=alt.Axis(title='semana'), sort=None)\n",
    "    ).transform_filter(label),\n",
    "    \n",
    "    # add circle marks for selected time points, hide unselected points\n",
    "    base.mark_circle().encode(\n",
    "        opacity=alt.condition(label, alt.value(1), alt.value(0))\n",
    "    ).add_selection(label),\n",
    "\n",
    "    # add white stroked text to provide a legible background for labels\n",
    "    base.mark_text(align='left', dx=5, dy=-5, stroke='white', strokeWidth=2).encode(\n",
    "        text='defunciones'\n",
    "    ).transform_filter(label),\n",
    "\n",
    "    # add text labels for stock prices\n",
    "    base.mark_text(align='left', dx=5, dy=-5).encode(\n",
    "        text='defunciones'\n",
    "    ).transform_filter(label),\n",
    "    \n",
    "    data=deaths_year_week.drop([i for i in np.arange(2010,2015)]).reset_index().melt(\"año\", value_name=\"defunciones\")\n",
    ").properties(\n",
    "    title = f'Defunciones inscritas en Chile por semana hasta semana {current_week-1}',\n",
    "    width=600\n",
    ")"
   ]
  },
  {
   "cell_type": "markdown",
   "metadata": {},
   "source": [
    "Fuente: [Ministerio de Ciencia](https://github.com/MinCiencia/Datos-COVID19), [Registro Civil](https://www.registrocivil.cl/)"
   ]
  },
  {
   "cell_type": "code",
   "execution_count": 37,
   "metadata": {},
   "outputs": [],
   "source": [
    "#hide\n",
    "deaths_year_week = deaths_year_week.drop(\"Promedio últimos 5 años\")"
   ]
  },
  {
   "cell_type": "code",
   "execution_count": 38,
   "metadata": {
    "colab": {},
    "colab_type": "code",
    "id": "NCz1cigeSEWa"
   },
   "outputs": [],
   "source": [
    "#hide\n",
    "deaths = deaths_raw.drop(columns=[\"Region\", \"Codigo region\", \"Comuna\", \"Codigo comuna\"]).sum()\n",
    "n_defunciones = []\n",
    "for year in np.arange(2010,2020):\n",
    "    n_defunciones.append(deaths.loc[f\"{year}-01-01\":f\"{year}-12-31\"].sum())"
   ]
  },
  {
   "cell_type": "code",
   "execution_count": 39,
   "metadata": {
    "colab": {},
    "colab_type": "code",
    "id": "NCz1cigeSEWa"
   },
   "outputs": [],
   "source": [
    "#hide\n",
    "df = pd.DataFrame()\n",
    "df[\"Año\"] = np.arange(2010,2020)\n",
    "df[\"Número de defunciones\"] = n_defunciones \n",
    "df = df.set_index(\"Año\")"
   ]
  },
  {
   "cell_type": "code",
   "execution_count": 40,
   "metadata": {
    "colab": {
     "base_uri": "https://localhost:8080/",
     "height": 104
    },
    "colab_type": "code",
    "id": "c5KMn_M8Spru",
    "outputId": "6b6d19c3-8460-4658-b723-8cf332b64d70"
   },
   "outputs": [
    {
     "name": "stderr",
     "output_type": "stream",
     "text": [
      "/Users/alonsosilva/opt/anaconda3/envs/fastpages/lib/python3.8/site-packages/pandas/core/indexing.py:671: SettingWithCopyWarning: \n",
      "A value is trying to be set on a copy of a slice from a DataFrame\n",
      "\n",
      "See the caveats in the documentation: https://pandas.pydata.org/pandas-docs/stable/user_guide/indexing.html#returning-a-view-versus-a-copy\n",
      "  self._setitem_with_indexer(indexer, value)\n"
     ]
    }
   ],
   "source": [
    "#hide\n",
    "adjustment = 365/366\n",
    "df[\"ajustado a 365 días\"] = df[\"Número de defunciones\"].copy()\n",
    "df[\"ajustado a 365 días\"].loc[2012] *= adjustment\n",
    "df[\"ajustado a 365 días\"].loc[2016] *= adjustment\n",
    "df[\"ajustado a 365 días\"] = df[\"ajustado a 365 días\"].astype(int)"
   ]
  },
  {
   "cell_type": "code",
   "execution_count": 41,
   "metadata": {},
   "outputs": [
    {
     "data": {
      "text/html": [
       "<div>\n",
       "<style scoped>\n",
       "    .dataframe tbody tr th:only-of-type {\n",
       "        vertical-align: middle;\n",
       "    }\n",
       "\n",
       "    .dataframe tbody tr th {\n",
       "        vertical-align: top;\n",
       "    }\n",
       "\n",
       "    .dataframe thead th {\n",
       "        text-align: right;\n",
       "    }\n",
       "</style>\n",
       "<table border=\"1\" class=\"dataframe\">\n",
       "  <thead>\n",
       "    <tr style=\"text-align: right;\">\n",
       "      <th></th>\n",
       "      <th>Número de defunciones</th>\n",
       "      <th>ajustado a 365 días</th>\n",
       "    </tr>\n",
       "    <tr>\n",
       "      <th>Año</th>\n",
       "      <th></th>\n",
       "      <th></th>\n",
       "    </tr>\n",
       "  </thead>\n",
       "  <tbody>\n",
       "    <tr>\n",
       "      <th>2010</th>\n",
       "      <td>98178</td>\n",
       "      <td>98178</td>\n",
       "    </tr>\n",
       "    <tr>\n",
       "      <th>2011</th>\n",
       "      <td>95105</td>\n",
       "      <td>95105</td>\n",
       "    </tr>\n",
       "    <tr>\n",
       "      <th>2012</th>\n",
       "      <td>99169</td>\n",
       "      <td>98898</td>\n",
       "    </tr>\n",
       "    <tr>\n",
       "      <th>2013</th>\n",
       "      <td>100286</td>\n",
       "      <td>100286</td>\n",
       "    </tr>\n",
       "    <tr>\n",
       "      <th>2014</th>\n",
       "      <td>102252</td>\n",
       "      <td>102252</td>\n",
       "    </tr>\n",
       "    <tr>\n",
       "      <th>2015</th>\n",
       "      <td>103710</td>\n",
       "      <td>103710</td>\n",
       "    </tr>\n",
       "    <tr>\n",
       "      <th>2016</th>\n",
       "      <td>104390</td>\n",
       "      <td>104104</td>\n",
       "    </tr>\n",
       "    <tr>\n",
       "      <th>2017</th>\n",
       "      <td>106877</td>\n",
       "      <td>106877</td>\n",
       "    </tr>\n",
       "    <tr>\n",
       "      <th>2018</th>\n",
       "      <td>107286</td>\n",
       "      <td>107286</td>\n",
       "    </tr>\n",
       "    <tr>\n",
       "      <th>2019</th>\n",
       "      <td>109837</td>\n",
       "      <td>109837</td>\n",
       "    </tr>\n",
       "  </tbody>\n",
       "</table>\n",
       "</div>"
      ],
      "text/plain": [
       "      Número de defunciones  ajustado a 365 días\n",
       "Año                                             \n",
       "2010                  98178                98178\n",
       "2011                  95105                95105\n",
       "2012                  99169                98898\n",
       "2013                 100286               100286\n",
       "2014                 102252               102252\n",
       "2015                 103710               103710\n",
       "2016                 104390               104104\n",
       "2017                 106877               106877\n",
       "2018                 107286               107286\n",
       "2019                 109837               109837"
      ]
     },
     "execution_count": 41,
     "metadata": {},
     "output_type": "execute_result"
    }
   ],
   "source": [
    "#hide\n",
    "df"
   ]
  },
  {
   "cell_type": "code",
   "execution_count": 42,
   "metadata": {
    "colab": {},
    "colab_type": "code",
    "id": "hXFPz0z9Ssnh"
   },
   "outputs": [
    {
     "data": {
      "text/plain": [
       "[0.9686997086923751,\n",
       " 1.0398822354240052,\n",
       " 1.014034661974964,\n",
       " 1.0196039327523283,\n",
       " 1.0142588898016665,\n",
       " 1.0037990550573714,\n",
       " 1.0266368247137478,\n",
       " 1.0038268289716217,\n",
       " 1.0237775665044833]"
      ]
     },
     "execution_count": 42,
     "metadata": {},
     "output_type": "execute_result"
    }
   ],
   "source": [
    "#hide\n",
    "growth_rate = []\n",
    "for year in np.arange(2011, 2020):\n",
    "    growth_rate.append(df[\"ajustado a 365 días\"].loc[year]/df[\"ajustado a 365 días\"].loc[year-1])\n",
    "growth_rate"
   ]
  },
  {
   "cell_type": "code",
   "execution_count": 43,
   "metadata": {
    "colab": {},
    "colab_type": "code",
    "id": "-Nkc1DzZgiwo"
   },
   "outputs": [],
   "source": [
    "#hide\n",
    "growth_rate_percentage = [f\"{100*(r - 1):.2f}%\" for r in growth_rate]"
   ]
  },
  {
   "cell_type": "code",
   "execution_count": 44,
   "metadata": {
    "colab": {},
    "colab_type": "code",
    "id": "Dtui9C8dgplH"
   },
   "outputs": [],
   "source": [
    "#hide\n",
    "df[\"Variación c/r año anterior\"] = [\"-\"]+growth_rate_percentage"
   ]
  },
  {
   "cell_type": "code",
   "execution_count": 45,
   "metadata": {
    "colab": {
     "base_uri": "https://localhost:8080/",
     "height": 34
    },
    "colab_type": "code",
    "id": "CF5n_GwdSv6J",
    "outputId": "f7bf1e2e-0431-4714-c5b0-541221e5a774"
   },
   "outputs": [
    {
     "data": {
      "text/plain": [
       "1.0151339656823117"
      ]
     },
     "execution_count": 45,
     "metadata": {},
     "output_type": "execute_result"
    }
   ],
   "source": [
    "#hide\n",
    "gr_mean = np.mean(growth_rate[2:])\n",
    "gr_mean"
   ]
  },
  {
   "cell_type": "code",
   "execution_count": 46,
   "metadata": {},
   "outputs": [
    {
     "data": {
      "text/plain": [
       "0.008993645651094097"
      ]
     },
     "execution_count": 46,
     "metadata": {},
     "output_type": "execute_result"
    }
   ],
   "source": [
    "#hide\n",
    "gr_std = np.std(growth_rate[2:], ddof=1)\n",
    "gr_std"
   ]
  },
  {
   "cell_type": "code",
   "execution_count": 47,
   "metadata": {
    "colab": {
     "base_uri": "https://localhost:8080/",
     "height": 394
    },
    "colab_type": "code",
    "id": "8aYabPUBgsIA",
    "outputId": "5da6b23e-a90d-4117-f755-b20d04652127",
    "scrolled": true
   },
   "outputs": [
    {
     "data": {
      "text/html": [
       "<div>\n",
       "<style scoped>\n",
       "    .dataframe tbody tr th:only-of-type {\n",
       "        vertical-align: middle;\n",
       "    }\n",
       "\n",
       "    .dataframe tbody tr th {\n",
       "        vertical-align: top;\n",
       "    }\n",
       "\n",
       "    .dataframe thead th {\n",
       "        text-align: right;\n",
       "    }\n",
       "</style>\n",
       "<table border=\"1\" class=\"dataframe\">\n",
       "  <thead>\n",
       "    <tr style=\"text-align: right;\">\n",
       "      <th></th>\n",
       "      <th>Número de defunciones</th>\n",
       "      <th>ajustado a 365 días</th>\n",
       "      <th>Variación c/r año anterior</th>\n",
       "    </tr>\n",
       "    <tr>\n",
       "      <th>Año</th>\n",
       "      <th></th>\n",
       "      <th></th>\n",
       "      <th></th>\n",
       "    </tr>\n",
       "  </thead>\n",
       "  <tbody>\n",
       "    <tr>\n",
       "      <th>2010</th>\n",
       "      <td>98178</td>\n",
       "      <td>98178</td>\n",
       "      <td>-</td>\n",
       "    </tr>\n",
       "    <tr>\n",
       "      <th>2011</th>\n",
       "      <td>95105</td>\n",
       "      <td>95105</td>\n",
       "      <td>-3.13%</td>\n",
       "    </tr>\n",
       "    <tr>\n",
       "      <th>2012</th>\n",
       "      <td>99169</td>\n",
       "      <td>98898</td>\n",
       "      <td>3.99%</td>\n",
       "    </tr>\n",
       "    <tr>\n",
       "      <th>2013</th>\n",
       "      <td>100286</td>\n",
       "      <td>100286</td>\n",
       "      <td>1.40%</td>\n",
       "    </tr>\n",
       "    <tr>\n",
       "      <th>2014</th>\n",
       "      <td>102252</td>\n",
       "      <td>102252</td>\n",
       "      <td>1.96%</td>\n",
       "    </tr>\n",
       "    <tr>\n",
       "      <th>2015</th>\n",
       "      <td>103710</td>\n",
       "      <td>103710</td>\n",
       "      <td>1.43%</td>\n",
       "    </tr>\n",
       "    <tr>\n",
       "      <th>2016</th>\n",
       "      <td>104390</td>\n",
       "      <td>104104</td>\n",
       "      <td>0.38%</td>\n",
       "    </tr>\n",
       "    <tr>\n",
       "      <th>2017</th>\n",
       "      <td>106877</td>\n",
       "      <td>106877</td>\n",
       "      <td>2.66%</td>\n",
       "    </tr>\n",
       "    <tr>\n",
       "      <th>2018</th>\n",
       "      <td>107286</td>\n",
       "      <td>107286</td>\n",
       "      <td>0.38%</td>\n",
       "    </tr>\n",
       "    <tr>\n",
       "      <th>2019</th>\n",
       "      <td>109837</td>\n",
       "      <td>109837</td>\n",
       "      <td>2.38%</td>\n",
       "    </tr>\n",
       "  </tbody>\n",
       "</table>\n",
       "</div>"
      ],
      "text/plain": [
       "      Número de defunciones  ajustado a 365 días Variación c/r año anterior\n",
       "Año                                                                        \n",
       "2010                  98178                98178                          -\n",
       "2011                  95105                95105                     -3.13%\n",
       "2012                  99169                98898                      3.99%\n",
       "2013                 100286               100286                      1.40%\n",
       "2014                 102252               102252                      1.96%\n",
       "2015                 103710               103710                      1.43%\n",
       "2016                 104390               104104                      0.38%\n",
       "2017                 106877               106877                      2.66%\n",
       "2018                 107286               107286                      0.38%\n",
       "2019                 109837               109837                      2.38%"
      ]
     },
     "execution_count": 47,
     "metadata": {},
     "output_type": "execute_result"
    }
   ],
   "source": [
    "#hide\n",
    "df"
   ]
  },
  {
   "cell_type": "code",
   "execution_count": 48,
   "metadata": {
    "colab": {
     "base_uri": "https://localhost:8080/",
     "height": 34
    },
    "colab_type": "code",
    "id": "IN4zLoTCg8sA",
    "outputId": "84e42435-2921-4a72-9cbc-2996ab78bfd2"
   },
   "outputs": [
    {
     "name": "stdout",
     "output_type": "stream",
     "text": [
      "Promedio de las tasas de crecimiento anual de defunciones inscritas entre 2012 y 2019: 1.51%\n"
     ]
    }
   ],
   "source": [
    "#hide\n",
    "print(f\"Promedio de las tasas de crecimiento anual de defunciones inscritas entre 2012 y 2019: {100*(gr_mean-1):.2f}%\")"
   ]
  },
  {
   "cell_type": "code",
   "execution_count": 49,
   "metadata": {},
   "outputs": [
    {
     "name": "stdout",
     "output_type": "stream",
     "text": [
      "Promedio menos una desviación estándar: 0.61%\n",
      "Promedio más una desviación estándar: 2.41%\n"
     ]
    }
   ],
   "source": [
    "#hide\n",
    "print(f\"Promedio menos una desviación estándar: {100*(gr_mean-gr_std-1):.2f}%\")\n",
    "print(f\"Promedio más una desviación estándar: {100*(gr_mean+gr_std-1):.2f}%\")"
   ]
  },
  {
   "cell_type": "code",
   "execution_count": 50,
   "metadata": {},
   "outputs": [],
   "source": [
    "#hide\n",
    "adjustement = []\n",
    "for year in np.arange(2015, 2020):\n",
    "    adjustement.append((df.loc[2019,'ajustado a 365 días']/df.loc[year,'ajustado a 365 días'])*gr_mean)"
   ]
  },
  {
   "cell_type": "code",
   "execution_count": 51,
   "metadata": {},
   "outputs": [
    {
     "data": {
      "text/plain": [
       "[1.0751062519395245,\n",
       " 1.0710373221840475,\n",
       " 1.0432484948927092,\n",
       " 1.0392713810622827,\n",
       " 1.0151339656823117]"
      ]
     },
     "execution_count": 51,
     "metadata": {},
     "output_type": "execute_result"
    }
   ],
   "source": [
    "#hide\n",
    "adjustement"
   ]
  },
  {
   "cell_type": "code",
   "execution_count": 52,
   "metadata": {},
   "outputs": [],
   "source": [
    "#hide\n",
    "df_adjustement = pd.DataFrame()\n",
    "df_adjustement[\"Año\"] = np.arange(2015,2020)\n",
    "df_adjustement[\"Número de defunciones\"] = np.round(adjustement, decimals=3) \n",
    "df_adjustement = df_adjustement.set_index(\"Año\")"
   ]
  },
  {
   "cell_type": "code",
   "execution_count": 53,
   "metadata": {},
   "outputs": [
    {
     "data": {
      "text/html": [
       "<div>\n",
       "<style scoped>\n",
       "    .dataframe tbody tr th:only-of-type {\n",
       "        vertical-align: middle;\n",
       "    }\n",
       "\n",
       "    .dataframe tbody tr th {\n",
       "        vertical-align: top;\n",
       "    }\n",
       "\n",
       "    .dataframe thead th {\n",
       "        text-align: right;\n",
       "    }\n",
       "</style>\n",
       "<table border=\"1\" class=\"dataframe\">\n",
       "  <thead>\n",
       "    <tr style=\"text-align: right;\">\n",
       "      <th></th>\n",
       "      <th>Número de defunciones</th>\n",
       "    </tr>\n",
       "    <tr>\n",
       "      <th>Año</th>\n",
       "      <th></th>\n",
       "    </tr>\n",
       "  </thead>\n",
       "  <tbody>\n",
       "    <tr>\n",
       "      <th>2015</th>\n",
       "      <td>1.075</td>\n",
       "    </tr>\n",
       "    <tr>\n",
       "      <th>2016</th>\n",
       "      <td>1.071</td>\n",
       "    </tr>\n",
       "    <tr>\n",
       "      <th>2017</th>\n",
       "      <td>1.043</td>\n",
       "    </tr>\n",
       "    <tr>\n",
       "      <th>2018</th>\n",
       "      <td>1.039</td>\n",
       "    </tr>\n",
       "    <tr>\n",
       "      <th>2019</th>\n",
       "      <td>1.015</td>\n",
       "    </tr>\n",
       "  </tbody>\n",
       "</table>\n",
       "</div>"
      ],
      "text/plain": [
       "      Número de defunciones\n",
       "Año                        \n",
       "2015                  1.075\n",
       "2016                  1.071\n",
       "2017                  1.043\n",
       "2018                  1.039\n",
       "2019                  1.015"
      ]
     },
     "execution_count": 53,
     "metadata": {},
     "output_type": "execute_result"
    }
   ],
   "source": [
    "#hide\n",
    "df_adjustement"
   ]
  },
  {
   "cell_type": "code",
   "execution_count": 54,
   "metadata": {},
   "outputs": [],
   "source": [
    "#hide\n",
    "amended_deaths = pd.DataFrame()\n",
    "for year in deaths_year_week.index[2:-1]:\n",
    "    amended_deaths[year] = \\\n",
    "    deaths_year_week.loc[year]*(df.loc[2019,\"ajustado a 365 días\"]/df.loc[year,\"ajustado a 365 días\"])*gr_mean\n",
    "amended_deaths[2020] = deaths_year_week.loc[2020,:]"
   ]
  },
  {
   "cell_type": "code",
   "execution_count": 55,
   "metadata": {
    "colab": {},
    "colab_type": "code",
    "id": "wS28fZ3GSyBY"
   },
   "outputs": [],
   "source": [
    "#hide\n",
    "# amended_deaths = pd.DataFrame()\n",
    "# i = 8\n",
    "# for year in deaths_year_week.index[2:-1]:\n",
    "#     amended_deaths[year] = deaths_year_week.loc[year]*(gr_mean**i)\n",
    "#     i -=1\n",
    "# amended_deaths[2020] = deaths_year_week.loc[2020,:22]*(gr_mean**i)"
   ]
  },
  {
   "cell_type": "code",
   "execution_count": 56,
   "metadata": {},
   "outputs": [
    {
     "data": {
      "text/html": [
       "<div>\n",
       "<style scoped>\n",
       "    .dataframe tbody tr th:only-of-type {\n",
       "        vertical-align: middle;\n",
       "    }\n",
       "\n",
       "    .dataframe tbody tr th {\n",
       "        vertical-align: top;\n",
       "    }\n",
       "\n",
       "    .dataframe thead th {\n",
       "        text-align: right;\n",
       "    }\n",
       "</style>\n",
       "<table border=\"1\" class=\"dataframe\">\n",
       "  <thead>\n",
       "    <tr style=\"text-align: right;\">\n",
       "      <th></th>\n",
       "      <th>2012</th>\n",
       "      <th>2013</th>\n",
       "      <th>2014</th>\n",
       "      <th>2015</th>\n",
       "      <th>2016</th>\n",
       "      <th>2017</th>\n",
       "      <th>2018</th>\n",
       "      <th>2019</th>\n",
       "      <th>2020</th>\n",
       "    </tr>\n",
       "    <tr>\n",
       "      <th>semana</th>\n",
       "      <th></th>\n",
       "      <th></th>\n",
       "      <th></th>\n",
       "      <th></th>\n",
       "      <th></th>\n",
       "      <th></th>\n",
       "      <th></th>\n",
       "      <th></th>\n",
       "      <th></th>\n",
       "    </tr>\n",
       "  </thead>\n",
       "  <tbody>\n",
       "    <tr>\n",
       "      <th>48</th>\n",
       "      <td>2027.0</td>\n",
       "      <td>1952.0</td>\n",
       "      <td>2012.0</td>\n",
       "      <td>2001.0</td>\n",
       "      <td>2005.0</td>\n",
       "      <td>1988.0</td>\n",
       "      <td>1980.0</td>\n",
       "      <td>1989.0</td>\n",
       "      <td>NaN</td>\n",
       "    </tr>\n",
       "    <tr>\n",
       "      <th>49</th>\n",
       "      <td>2041.0</td>\n",
       "      <td>2090.0</td>\n",
       "      <td>2082.0</td>\n",
       "      <td>2104.0</td>\n",
       "      <td>1938.0</td>\n",
       "      <td>1810.0</td>\n",
       "      <td>2006.0</td>\n",
       "      <td>1992.0</td>\n",
       "      <td>NaN</td>\n",
       "    </tr>\n",
       "    <tr>\n",
       "      <th>50</th>\n",
       "      <td>1867.0</td>\n",
       "      <td>1895.0</td>\n",
       "      <td>1902.0</td>\n",
       "      <td>2056.0</td>\n",
       "      <td>2023.0</td>\n",
       "      <td>2090.0</td>\n",
       "      <td>1981.0</td>\n",
       "      <td>1906.0</td>\n",
       "      <td>NaN</td>\n",
       "    </tr>\n",
       "    <tr>\n",
       "      <th>51</th>\n",
       "      <td>1982.0</td>\n",
       "      <td>2130.0</td>\n",
       "      <td>1992.0</td>\n",
       "      <td>2018.0</td>\n",
       "      <td>1914.0</td>\n",
       "      <td>2108.0</td>\n",
       "      <td>2056.0</td>\n",
       "      <td>1921.0</td>\n",
       "      <td>NaN</td>\n",
       "    </tr>\n",
       "    <tr>\n",
       "      <th>52</th>\n",
       "      <td>2088.0</td>\n",
       "      <td>2062.0</td>\n",
       "      <td>1986.0</td>\n",
       "      <td>1899.0</td>\n",
       "      <td>1953.0</td>\n",
       "      <td>2018.0</td>\n",
       "      <td>1964.0</td>\n",
       "      <td>2009.0</td>\n",
       "      <td>NaN</td>\n",
       "    </tr>\n",
       "  </tbody>\n",
       "</table>\n",
       "</div>"
      ],
      "text/plain": [
       "          2012    2013    2014    2015    2016    2017    2018    2019  2020\n",
       "semana                                                                      \n",
       "48      2027.0  1952.0  2012.0  2001.0  2005.0  1988.0  1980.0  1989.0   NaN\n",
       "49      2041.0  2090.0  2082.0  2104.0  1938.0  1810.0  2006.0  1992.0   NaN\n",
       "50      1867.0  1895.0  1902.0  2056.0  2023.0  2090.0  1981.0  1906.0   NaN\n",
       "51      1982.0  2130.0  1992.0  2018.0  1914.0  2108.0  2056.0  1921.0   NaN\n",
       "52      2088.0  2062.0  1986.0  1899.0  1953.0  2018.0  1964.0  2009.0   NaN"
      ]
     },
     "execution_count": 56,
     "metadata": {},
     "output_type": "execute_result"
    }
   ],
   "source": [
    "#hide\n",
    "amended_deaths.tail()"
   ]
  },
  {
   "cell_type": "code",
   "execution_count": 57,
   "metadata": {
    "colab": {},
    "colab_type": "code",
    "id": "5fhs41KvTsMw",
    "scrolled": true
   },
   "outputs": [
    {
     "data": {
      "text/html": [
       "<div>\n",
       "<style scoped>\n",
       "    .dataframe tbody tr th:only-of-type {\n",
       "        vertical-align: middle;\n",
       "    }\n",
       "\n",
       "    .dataframe tbody tr th {\n",
       "        vertical-align: top;\n",
       "    }\n",
       "\n",
       "    .dataframe thead th {\n",
       "        text-align: right;\n",
       "    }\n",
       "</style>\n",
       "<table border=\"1\" class=\"dataframe\">\n",
       "  <thead>\n",
       "    <tr style=\"text-align: right;\">\n",
       "      <th>semana</th>\n",
       "      <th>1</th>\n",
       "      <th>2</th>\n",
       "      <th>3</th>\n",
       "      <th>4</th>\n",
       "      <th>5</th>\n",
       "      <th>6</th>\n",
       "      <th>7</th>\n",
       "      <th>8</th>\n",
       "      <th>9</th>\n",
       "      <th>10</th>\n",
       "      <th>...</th>\n",
       "      <th>43</th>\n",
       "      <th>44</th>\n",
       "      <th>45</th>\n",
       "      <th>46</th>\n",
       "      <th>47</th>\n",
       "      <th>48</th>\n",
       "      <th>49</th>\n",
       "      <th>50</th>\n",
       "      <th>51</th>\n",
       "      <th>52</th>\n",
       "    </tr>\n",
       "  </thead>\n",
       "  <tbody>\n",
       "    <tr>\n",
       "      <th>2016</th>\n",
       "      <td>2264.0</td>\n",
       "      <td>1989.0</td>\n",
       "      <td>2068.0</td>\n",
       "      <td>1994.0</td>\n",
       "      <td>2044.0</td>\n",
       "      <td>1872.0</td>\n",
       "      <td>1845.0</td>\n",
       "      <td>1964.0</td>\n",
       "      <td>1984.0</td>\n",
       "      <td>1889.0</td>\n",
       "      <td>...</td>\n",
       "      <td>2234.0</td>\n",
       "      <td>1884.0</td>\n",
       "      <td>2062.0</td>\n",
       "      <td>1926.0</td>\n",
       "      <td>1984.0</td>\n",
       "      <td>2005.0</td>\n",
       "      <td>1938.0</td>\n",
       "      <td>2023.0</td>\n",
       "      <td>1914.0</td>\n",
       "      <td>1953.0</td>\n",
       "    </tr>\n",
       "    <tr>\n",
       "      <th>2017</th>\n",
       "      <td>1953.0</td>\n",
       "      <td>1953.0</td>\n",
       "      <td>2041.0</td>\n",
       "      <td>2200.0</td>\n",
       "      <td>2022.0</td>\n",
       "      <td>1892.0</td>\n",
       "      <td>1933.0</td>\n",
       "      <td>1973.0</td>\n",
       "      <td>1908.0</td>\n",
       "      <td>1804.0</td>\n",
       "      <td>...</td>\n",
       "      <td>1876.0</td>\n",
       "      <td>2012.0</td>\n",
       "      <td>2056.0</td>\n",
       "      <td>1893.0</td>\n",
       "      <td>2025.0</td>\n",
       "      <td>1988.0</td>\n",
       "      <td>1810.0</td>\n",
       "      <td>2090.0</td>\n",
       "      <td>2108.0</td>\n",
       "      <td>2018.0</td>\n",
       "    </tr>\n",
       "    <tr>\n",
       "      <th>2018</th>\n",
       "      <td>1933.0</td>\n",
       "      <td>1937.0</td>\n",
       "      <td>1847.0</td>\n",
       "      <td>1848.0</td>\n",
       "      <td>1932.0</td>\n",
       "      <td>1957.0</td>\n",
       "      <td>1940.0</td>\n",
       "      <td>1888.0</td>\n",
       "      <td>1849.0</td>\n",
       "      <td>1978.0</td>\n",
       "      <td>...</td>\n",
       "      <td>2142.0</td>\n",
       "      <td>1828.0</td>\n",
       "      <td>2312.0</td>\n",
       "      <td>2001.0</td>\n",
       "      <td>2062.0</td>\n",
       "      <td>1980.0</td>\n",
       "      <td>2006.0</td>\n",
       "      <td>1981.0</td>\n",
       "      <td>2056.0</td>\n",
       "      <td>1964.0</td>\n",
       "    </tr>\n",
       "    <tr>\n",
       "      <th>2019</th>\n",
       "      <td>1967.0</td>\n",
       "      <td>1917.0</td>\n",
       "      <td>1833.0</td>\n",
       "      <td>1971.0</td>\n",
       "      <td>1960.0</td>\n",
       "      <td>2050.0</td>\n",
       "      <td>1921.0</td>\n",
       "      <td>1964.0</td>\n",
       "      <td>1913.0</td>\n",
       "      <td>1830.0</td>\n",
       "      <td>...</td>\n",
       "      <td>2047.0</td>\n",
       "      <td>1926.0</td>\n",
       "      <td>2254.0</td>\n",
       "      <td>2032.0</td>\n",
       "      <td>2102.0</td>\n",
       "      <td>1989.0</td>\n",
       "      <td>1992.0</td>\n",
       "      <td>1906.0</td>\n",
       "      <td>1921.0</td>\n",
       "      <td>2009.0</td>\n",
       "    </tr>\n",
       "    <tr>\n",
       "      <th>2020</th>\n",
       "      <td>2060.0</td>\n",
       "      <td>2116.0</td>\n",
       "      <td>2060.0</td>\n",
       "      <td>1987.0</td>\n",
       "      <td>2034.0</td>\n",
       "      <td>1906.0</td>\n",
       "      <td>1959.0</td>\n",
       "      <td>1825.0</td>\n",
       "      <td>1849.0</td>\n",
       "      <td>2020.0</td>\n",
       "      <td>...</td>\n",
       "      <td>NaN</td>\n",
       "      <td>NaN</td>\n",
       "      <td>NaN</td>\n",
       "      <td>NaN</td>\n",
       "      <td>NaN</td>\n",
       "      <td>NaN</td>\n",
       "      <td>NaN</td>\n",
       "      <td>NaN</td>\n",
       "      <td>NaN</td>\n",
       "      <td>NaN</td>\n",
       "    </tr>\n",
       "  </tbody>\n",
       "</table>\n",
       "<p>5 rows × 52 columns</p>\n",
       "</div>"
      ],
      "text/plain": [
       "semana      1       2       3       4       5       6       7       8   \\\n",
       "2016    2264.0  1989.0  2068.0  1994.0  2044.0  1872.0  1845.0  1964.0   \n",
       "2017    1953.0  1953.0  2041.0  2200.0  2022.0  1892.0  1933.0  1973.0   \n",
       "2018    1933.0  1937.0  1847.0  1848.0  1932.0  1957.0  1940.0  1888.0   \n",
       "2019    1967.0  1917.0  1833.0  1971.0  1960.0  2050.0  1921.0  1964.0   \n",
       "2020    2060.0  2116.0  2060.0  1987.0  2034.0  1906.0  1959.0  1825.0   \n",
       "\n",
       "semana      9       10  ...      43      44      45      46      47      48  \\\n",
       "2016    1984.0  1889.0  ...  2234.0  1884.0  2062.0  1926.0  1984.0  2005.0   \n",
       "2017    1908.0  1804.0  ...  1876.0  2012.0  2056.0  1893.0  2025.0  1988.0   \n",
       "2018    1849.0  1978.0  ...  2142.0  1828.0  2312.0  2001.0  2062.0  1980.0   \n",
       "2019    1913.0  1830.0  ...  2047.0  1926.0  2254.0  2032.0  2102.0  1989.0   \n",
       "2020    1849.0  2020.0  ...     NaN     NaN     NaN     NaN     NaN     NaN   \n",
       "\n",
       "semana      49      50      51      52  \n",
       "2016    1938.0  2023.0  1914.0  1953.0  \n",
       "2017    1810.0  2090.0  2108.0  2018.0  \n",
       "2018    2006.0  1981.0  2056.0  1964.0  \n",
       "2019    1992.0  1906.0  1921.0  2009.0  \n",
       "2020       NaN     NaN     NaN     NaN  \n",
       "\n",
       "[5 rows x 52 columns]"
      ]
     },
     "execution_count": 57,
     "metadata": {},
     "output_type": "execute_result"
    }
   ],
   "source": [
    "#hide\n",
    "amended_deaths = amended_deaths.T\n",
    "amended_deaths.tail()"
   ]
  },
  {
   "cell_type": "code",
   "execution_count": 58,
   "metadata": {
    "colab": {},
    "colab_type": "code",
    "id": "RaDRbFAlTtdw"
   },
   "outputs": [],
   "source": [
    "#hide\n",
    "#PPUCA\n",
    "expected = amended_deaths.loc[2015:2019].mean()\n",
    "ci = amended_deaths.loc[2015:2019].std(ddof=1)"
   ]
  },
  {
   "cell_type": "code",
   "execution_count": 59,
   "metadata": {},
   "outputs": [
    {
     "name": "stdout",
     "output_type": "stream",
     "text": [
      "Exceso de mortalidad (con corrección): 9.984\n"
     ]
    }
   ],
   "source": [
    "#hide\n",
    "exceso = (amended_deaths.loc[2020,12:current_week-1] - expected).sum()\n",
    "print(f\"Exceso de mortalidad (con corrección): {'{:,.0f}'.format(exceso).replace(',', '.')}\")"
   ]
  },
  {
   "cell_type": "code",
   "execution_count": 60,
   "metadata": {},
   "outputs": [],
   "source": [
    "#hide\n",
    "df_expected = pd.DataFrame()\n",
    "df_expected[\"lower\"] = expected - ci\n",
    "df_expected[\"upper\"] = expected + ci\n",
    "df_expected[\"lower 2\"] = expected - 2*ci\n",
    "df_expected[\"upper 2\"] = expected + 2*ci"
   ]
  },
  {
   "cell_type": "code",
   "execution_count": 61,
   "metadata": {},
   "outputs": [],
   "source": [
    "#hide\n",
    "amended_deaths = amended_deaths.T\n",
    "amended_deaths[\"Promedio ponderado últimos 5 años\"] = expected\n",
    "amended_deaths = amended_deaths.T"
   ]
  },
  {
   "cell_type": "code",
   "execution_count": 62,
   "metadata": {
    "scrolled": false
   },
   "outputs": [
    {
     "data": {
      "text/html": [
       "\n",
       "<div id=\"altair-viz-4a6465e863394934a6da899c0f14f82f\"></div>\n",
       "<script type=\"text/javascript\">\n",
       "  (function(spec, embedOpt){\n",
       "    let outputDiv = document.currentScript.previousElementSibling;\n",
       "    if (outputDiv.id !== \"altair-viz-4a6465e863394934a6da899c0f14f82f\") {\n",
       "      outputDiv = document.getElementById(\"altair-viz-4a6465e863394934a6da899c0f14f82f\");\n",
       "    }\n",
       "    const paths = {\n",
       "      \"vega\": \"https://cdn.jsdelivr.net/npm//vega@5?noext\",\n",
       "      \"vega-lib\": \"https://cdn.jsdelivr.net/npm//vega-lib?noext\",\n",
       "      \"vega-lite\": \"https://cdn.jsdelivr.net/npm//vega-lite@4.8.1?noext\",\n",
       "      \"vega-embed\": \"https://cdn.jsdelivr.net/npm//vega-embed@6?noext\",\n",
       "    };\n",
       "\n",
       "    function loadScript(lib) {\n",
       "      return new Promise(function(resolve, reject) {\n",
       "        var s = document.createElement('script');\n",
       "        s.src = paths[lib];\n",
       "        s.async = true;\n",
       "        s.onload = () => resolve(paths[lib]);\n",
       "        s.onerror = () => reject(`Error loading script: ${paths[lib]}`);\n",
       "        document.getElementsByTagName(\"head\")[0].appendChild(s);\n",
       "      });\n",
       "    }\n",
       "\n",
       "    function showError(err) {\n",
       "      outputDiv.innerHTML = `<div class=\"error\" style=\"color:red;\">${err}</div>`;\n",
       "      throw err;\n",
       "    }\n",
       "\n",
       "    function displayChart(vegaEmbed) {\n",
       "      vegaEmbed(outputDiv, spec, embedOpt)\n",
       "        .catch(err => showError(`Javascript Error: ${err.message}<br>This usually means there's a typo in your chart specification. See the javascript console for the full traceback.`));\n",
       "    }\n",
       "\n",
       "    if(typeof define === \"function\" && define.amd) {\n",
       "      requirejs.config({paths});\n",
       "      require([\"vega-embed\"], displayChart, err => showError(`Error loading script: ${err.message}`));\n",
       "    } else if (typeof vegaEmbed === \"function\") {\n",
       "      displayChart(vegaEmbed);\n",
       "    } else {\n",
       "      loadScript(\"vega\")\n",
       "        .then(() => loadScript(\"vega-lite\"))\n",
       "        .then(() => loadScript(\"vega-embed\"))\n",
       "        .catch(showError)\n",
       "        .then(() => displayChart(vegaEmbed));\n",
       "    }\n",
       "  })({\"config\": {\"view\": {\"continuousWidth\": 400, \"continuousHeight\": 300}}, \"layer\": [{\"data\": {\"name\": \"data-864b3d4c1a50283d6ea330f5f484bdc9\"}, \"mark\": {\"type\": \"line\", \"point\": true}, \"encoding\": {\"color\": {\"type\": \"nominal\", \"field\": \"a\\u00f1o\", \"scale\": {\"domain\": [\"2015\", \"2016\", \"2017\", \"2018\", \"2019\", \"2020\", \"Promedio ponderado \\u00faltimos 5 a\\u00f1os\"], \"range\": [\"lightgray\", \"lightgray\", \"lightgray\", \"lightgray\", \"lightgray\", \"red\", \"blue\"]}}, \"x\": {\"type\": \"quantitative\", \"field\": \"semana\", \"scale\": {\"domain\": [1, 52]}}, \"y\": {\"type\": \"quantitative\", \"field\": \"defunciones\", \"scale\": {\"domain\": [0, 3750]}}}}, {\"data\": {\"name\": \"data-cc9a3e80a4d7d5fe0eaf8d1162a4293d\"}, \"mark\": {\"type\": \"area\", \"opacity\": 0.5}, \"encoding\": {\"x\": {\"type\": \"quantitative\", \"field\": \"semana\"}, \"y\": {\"type\": \"quantitative\", \"axis\": {\"title\": \"defunciones\"}, \"field\": \"lower\"}, \"y2\": {\"field\": \"upper\"}}}, {\"data\": {\"name\": \"data-cc9a3e80a4d7d5fe0eaf8d1162a4293d\"}, \"mark\": {\"type\": \"area\", \"opacity\": 0.3}, \"encoding\": {\"x\": {\"type\": \"quantitative\", \"field\": \"semana\"}, \"y\": {\"type\": \"quantitative\", \"field\": \"lower 2\"}, \"y2\": {\"field\": \"upper 2\"}}}, {\"mark\": {\"type\": \"rule\", \"color\": \"#aaa\"}, \"encoding\": {\"x\": {\"type\": \"quantitative\", \"axis\": {\"title\": \"Semanas\"}, \"field\": \"semana\", \"scale\": {\"domain\": [1, 52]}, \"sort\": null}}, \"transform\": [{\"filter\": {\"selection\": \"selector002\"}}]}, {\"data\": {\"name\": \"data-864b3d4c1a50283d6ea330f5f484bdc9\"}, \"mark\": \"circle\", \"encoding\": {\"color\": {\"type\": \"nominal\", \"field\": \"a\\u00f1o\", \"scale\": {\"domain\": [\"2015\", \"2016\", \"2017\", \"2018\", \"2019\", \"2020\", \"Promedio ponderado \\u00faltimos 5 a\\u00f1os\"], \"range\": [\"lightgray\", \"lightgray\", \"lightgray\", \"lightgray\", \"lightgray\", \"red\", \"blue\"]}}, \"opacity\": {\"condition\": {\"value\": 1, \"selection\": \"selector002\"}, \"value\": 0}, \"x\": {\"type\": \"quantitative\", \"field\": \"semana\", \"scale\": {\"domain\": [1, 52]}}, \"y\": {\"type\": \"quantitative\", \"field\": \"defunciones\", \"scale\": {\"domain\": [0, 3750]}}}, \"selection\": {\"selector002\": {\"type\": \"single\", \"encodings\": [\"x\"], \"on\": \"mouseover\", \"nearest\": true, \"empty\": \"none\"}}}, {\"data\": {\"name\": \"data-864b3d4c1a50283d6ea330f5f484bdc9\"}, \"mark\": {\"type\": \"text\", \"align\": \"left\", \"dx\": 5, \"dy\": -5, \"stroke\": \"white\", \"strokeWidth\": 2}, \"encoding\": {\"color\": {\"type\": \"nominal\", \"field\": \"a\\u00f1o\", \"scale\": {\"domain\": [\"2015\", \"2016\", \"2017\", \"2018\", \"2019\", \"2020\", \"Promedio ponderado \\u00faltimos 5 a\\u00f1os\"], \"range\": [\"lightgray\", \"lightgray\", \"lightgray\", \"lightgray\", \"lightgray\", \"red\", \"blue\"]}}, \"text\": {\"type\": \"quantitative\", \"field\": \"defunciones\"}, \"x\": {\"type\": \"quantitative\", \"field\": \"semana\", \"scale\": {\"domain\": [1, 52]}}, \"y\": {\"type\": \"quantitative\", \"field\": \"defunciones\", \"scale\": {\"domain\": [0, 3750]}}}, \"transform\": [{\"filter\": {\"selection\": \"selector002\"}}]}, {\"data\": {\"name\": \"data-864b3d4c1a50283d6ea330f5f484bdc9\"}, \"mark\": {\"type\": \"text\", \"align\": \"left\", \"dx\": 5, \"dy\": -5}, \"encoding\": {\"color\": {\"type\": \"nominal\", \"field\": \"a\\u00f1o\", \"scale\": {\"domain\": [\"2015\", \"2016\", \"2017\", \"2018\", \"2019\", \"2020\", \"Promedio ponderado \\u00faltimos 5 a\\u00f1os\"], \"range\": [\"lightgray\", \"lightgray\", \"lightgray\", \"lightgray\", \"lightgray\", \"red\", \"blue\"]}}, \"text\": {\"type\": \"quantitative\", \"field\": \"defunciones\"}, \"x\": {\"type\": \"quantitative\", \"field\": \"semana\", \"scale\": {\"domain\": [1, 52]}}, \"y\": {\"type\": \"quantitative\", \"field\": \"defunciones\", \"scale\": {\"domain\": [0, 3750]}}}, \"transform\": [{\"filter\": {\"selection\": \"selector002\"}}]}], \"data\": {\"name\": \"data-864b3d4c1a50283d6ea330f5f484bdc9\"}, \"title\": \"Defunciones inscritas en Chile por semana (corregido) hasta semana 32\", \"width\": 600, \"$schema\": \"https://vega.github.io/schema/vega-lite/v4.8.1.json\", \"datasets\": {\"data-864b3d4c1a50283d6ea330f5f484bdc9\": [{\"a\\u00f1o\": 2015, \"semana\": 1, \"defunciones\": 1929.0}, {\"a\\u00f1o\": 2016, \"semana\": 1, \"defunciones\": 2264.0}, {\"a\\u00f1o\": 2017, \"semana\": 1, \"defunciones\": 1953.0}, {\"a\\u00f1o\": 2018, \"semana\": 1, \"defunciones\": 1933.0}, {\"a\\u00f1o\": 2019, \"semana\": 1, \"defunciones\": 1967.0}, {\"a\\u00f1o\": 2020, \"semana\": 1, \"defunciones\": 2060.0}, {\"a\\u00f1o\": \"Promedio ponderado \\u00faltimos 5 a\\u00f1os\", \"semana\": 1, \"defunciones\": 2008.0}, {\"a\\u00f1o\": 2015, \"semana\": 2, \"defunciones\": 2028.0}, {\"a\\u00f1o\": 2016, \"semana\": 2, \"defunciones\": 1989.0}, {\"a\\u00f1o\": 2017, \"semana\": 2, \"defunciones\": 1953.0}, {\"a\\u00f1o\": 2018, \"semana\": 2, \"defunciones\": 1937.0}, {\"a\\u00f1o\": 2019, \"semana\": 2, \"defunciones\": 1917.0}, {\"a\\u00f1o\": 2020, \"semana\": 2, \"defunciones\": 2116.0}, {\"a\\u00f1o\": \"Promedio ponderado \\u00faltimos 5 a\\u00f1os\", \"semana\": 2, \"defunciones\": 1965.0}, {\"a\\u00f1o\": 2015, \"semana\": 3, \"defunciones\": 1990.0}, {\"a\\u00f1o\": 2016, \"semana\": 3, \"defunciones\": 2068.0}, {\"a\\u00f1o\": 2017, \"semana\": 3, \"defunciones\": 2041.0}, {\"a\\u00f1o\": 2018, \"semana\": 3, \"defunciones\": 1847.0}, {\"a\\u00f1o\": 2019, \"semana\": 3, \"defunciones\": 1833.0}, {\"a\\u00f1o\": 2020, \"semana\": 3, \"defunciones\": 2060.0}, {\"a\\u00f1o\": \"Promedio ponderado \\u00faltimos 5 a\\u00f1os\", \"semana\": 3, \"defunciones\": 1957.0}, {\"a\\u00f1o\": 2015, \"semana\": 4, \"defunciones\": 1925.0}, {\"a\\u00f1o\": 2016, \"semana\": 4, \"defunciones\": 1994.0}, {\"a\\u00f1o\": 2017, \"semana\": 4, \"defunciones\": 2200.0}, {\"a\\u00f1o\": 2018, \"semana\": 4, \"defunciones\": 1848.0}, {\"a\\u00f1o\": 2019, \"semana\": 4, \"defunciones\": 1971.0}, {\"a\\u00f1o\": 2020, \"semana\": 4, \"defunciones\": 1987.0}, {\"a\\u00f1o\": \"Promedio ponderado \\u00faltimos 5 a\\u00f1os\", \"semana\": 4, \"defunciones\": 1987.0}, {\"a\\u00f1o\": 2015, \"semana\": 5, \"defunciones\": 1946.0}, {\"a\\u00f1o\": 2016, \"semana\": 5, \"defunciones\": 2044.0}, {\"a\\u00f1o\": 2017, \"semana\": 5, \"defunciones\": 2022.0}, {\"a\\u00f1o\": 2018, \"semana\": 5, \"defunciones\": 1932.0}, {\"a\\u00f1o\": 2019, \"semana\": 5, \"defunciones\": 1960.0}, {\"a\\u00f1o\": 2020, \"semana\": 5, \"defunciones\": 2034.0}, {\"a\\u00f1o\": \"Promedio ponderado \\u00faltimos 5 a\\u00f1os\", \"semana\": 5, \"defunciones\": 1981.0}, {\"a\\u00f1o\": 2015, \"semana\": 6, \"defunciones\": 2014.0}, {\"a\\u00f1o\": 2016, \"semana\": 6, \"defunciones\": 1872.0}, {\"a\\u00f1o\": 2017, \"semana\": 6, \"defunciones\": 1892.0}, {\"a\\u00f1o\": 2018, \"semana\": 6, \"defunciones\": 1957.0}, {\"a\\u00f1o\": 2019, \"semana\": 6, \"defunciones\": 2050.0}, {\"a\\u00f1o\": 2020, \"semana\": 6, \"defunciones\": 1906.0}, {\"a\\u00f1o\": \"Promedio ponderado \\u00faltimos 5 a\\u00f1os\", \"semana\": 6, \"defunciones\": 1957.0}, {\"a\\u00f1o\": 2015, \"semana\": 7, \"defunciones\": 1964.0}, {\"a\\u00f1o\": 2016, \"semana\": 7, \"defunciones\": 1845.0}, {\"a\\u00f1o\": 2017, \"semana\": 7, \"defunciones\": 1933.0}, {\"a\\u00f1o\": 2018, \"semana\": 7, \"defunciones\": 1940.0}, {\"a\\u00f1o\": 2019, \"semana\": 7, \"defunciones\": 1921.0}, {\"a\\u00f1o\": 2020, \"semana\": 7, \"defunciones\": 1959.0}, {\"a\\u00f1o\": \"Promedio ponderado \\u00faltimos 5 a\\u00f1os\", \"semana\": 7, \"defunciones\": 1920.0}, {\"a\\u00f1o\": 2015, \"semana\": 8, \"defunciones\": 1959.0}, {\"a\\u00f1o\": 2016, \"semana\": 8, \"defunciones\": 1964.0}, {\"a\\u00f1o\": 2017, \"semana\": 8, \"defunciones\": 1973.0}, {\"a\\u00f1o\": 2018, \"semana\": 8, \"defunciones\": 1888.0}, {\"a\\u00f1o\": 2019, \"semana\": 8, \"defunciones\": 1964.0}, {\"a\\u00f1o\": 2020, \"semana\": 8, \"defunciones\": 1825.0}, {\"a\\u00f1o\": \"Promedio ponderado \\u00faltimos 5 a\\u00f1os\", \"semana\": 8, \"defunciones\": 1949.0}, {\"a\\u00f1o\": 2015, \"semana\": 9, \"defunciones\": 1981.0}, {\"a\\u00f1o\": 2016, \"semana\": 9, \"defunciones\": 1984.0}, {\"a\\u00f1o\": 2017, \"semana\": 9, \"defunciones\": 1908.0}, {\"a\\u00f1o\": 2018, \"semana\": 9, \"defunciones\": 1849.0}, {\"a\\u00f1o\": 2019, \"semana\": 9, \"defunciones\": 1913.0}, {\"a\\u00f1o\": 2020, \"semana\": 9, \"defunciones\": 1849.0}, {\"a\\u00f1o\": \"Promedio ponderado \\u00faltimos 5 a\\u00f1os\", \"semana\": 9, \"defunciones\": 1926.0}, {\"a\\u00f1o\": 2015, \"semana\": 10, \"defunciones\": 1829.0}, {\"a\\u00f1o\": 2016, \"semana\": 10, \"defunciones\": 1889.0}, {\"a\\u00f1o\": 2017, \"semana\": 10, \"defunciones\": 1804.0}, {\"a\\u00f1o\": 2018, \"semana\": 10, \"defunciones\": 1978.0}, {\"a\\u00f1o\": 2019, \"semana\": 10, \"defunciones\": 1830.0}, {\"a\\u00f1o\": 2020, \"semana\": 10, \"defunciones\": 2020.0}, {\"a\\u00f1o\": \"Promedio ponderado \\u00faltimos 5 a\\u00f1os\", \"semana\": 10, \"defunciones\": 1866.0}, {\"a\\u00f1o\": 2015, \"semana\": 11, \"defunciones\": 1999.0}, {\"a\\u00f1o\": 2016, \"semana\": 11, \"defunciones\": 1830.0}, {\"a\\u00f1o\": 2017, \"semana\": 11, \"defunciones\": 1821.0}, {\"a\\u00f1o\": 2018, \"semana\": 11, \"defunciones\": 1860.0}, {\"a\\u00f1o\": 2019, \"semana\": 11, \"defunciones\": 1913.0}, {\"a\\u00f1o\": 2020, \"semana\": 11, \"defunciones\": 1963.0}, {\"a\\u00f1o\": \"Promedio ponderado \\u00faltimos 5 a\\u00f1os\", \"semana\": 11, \"defunciones\": 1885.0}, {\"a\\u00f1o\": 2015, \"semana\": 12, \"defunciones\": 1937.0}, {\"a\\u00f1o\": 2016, \"semana\": 12, \"defunciones\": 1788.0}, {\"a\\u00f1o\": 2017, \"semana\": 12, \"defunciones\": 1835.0}, {\"a\\u00f1o\": 2018, \"semana\": 12, \"defunciones\": 1919.0}, {\"a\\u00f1o\": 2019, \"semana\": 12, \"defunciones\": 1884.0}, {\"a\\u00f1o\": 2020, \"semana\": 12, \"defunciones\": 1985.0}, {\"a\\u00f1o\": \"Promedio ponderado \\u00faltimos 5 a\\u00f1os\", \"semana\": 12, \"defunciones\": 1872.0}, {\"a\\u00f1o\": 2015, \"semana\": 13, \"defunciones\": 1907.0}, {\"a\\u00f1o\": 2016, \"semana\": 13, \"defunciones\": 1981.0}, {\"a\\u00f1o\": 2017, \"semana\": 13, \"defunciones\": 1912.0}, {\"a\\u00f1o\": 2018, \"semana\": 13, \"defunciones\": 1857.0}, {\"a\\u00f1o\": 2019, \"semana\": 13, \"defunciones\": 1869.0}, {\"a\\u00f1o\": 2020, \"semana\": 13, \"defunciones\": 1934.0}, {\"a\\u00f1o\": \"Promedio ponderado \\u00faltimos 5 a\\u00f1os\", \"semana\": 13, \"defunciones\": 1906.0}, {\"a\\u00f1o\": 2015, \"semana\": 14, \"defunciones\": 1756.0}, {\"a\\u00f1o\": 2016, \"semana\": 14, \"defunciones\": 1964.0}, {\"a\\u00f1o\": 2017, \"semana\": 14, \"defunciones\": 1947.0}, {\"a\\u00f1o\": 2018, \"semana\": 14, \"defunciones\": 2094.0}, {\"a\\u00f1o\": 2019, \"semana\": 14, \"defunciones\": 1958.0}, {\"a\\u00f1o\": 2020, \"semana\": 14, \"defunciones\": 2015.0}, {\"a\\u00f1o\": \"Promedio ponderado \\u00faltimos 5 a\\u00f1os\", \"semana\": 14, \"defunciones\": 1944.0}, {\"a\\u00f1o\": 2015, \"semana\": 15, \"defunciones\": 2062.0}, {\"a\\u00f1o\": 2016, \"semana\": 15, \"defunciones\": 2041.0}, {\"a\\u00f1o\": 2017, \"semana\": 15, \"defunciones\": 1921.0}, {\"a\\u00f1o\": 2018, \"semana\": 15, \"defunciones\": 2045.0}, {\"a\\u00f1o\": 2019, \"semana\": 15, \"defunciones\": 2009.0}, {\"a\\u00f1o\": 2020, \"semana\": 15, \"defunciones\": 1950.0}, {\"a\\u00f1o\": \"Promedio ponderado \\u00faltimos 5 a\\u00f1os\", \"semana\": 15, \"defunciones\": 2016.0}, {\"a\\u00f1o\": 2015, \"semana\": 16, \"defunciones\": 1943.0}, {\"a\\u00f1o\": 2016, \"semana\": 16, \"defunciones\": 2012.0}, {\"a\\u00f1o\": 2017, \"semana\": 16, \"defunciones\": 2078.0}, {\"a\\u00f1o\": 2018, \"semana\": 16, \"defunciones\": 1970.0}, {\"a\\u00f1o\": 2019, \"semana\": 16, \"defunciones\": 1941.0}, {\"a\\u00f1o\": 2020, \"semana\": 16, \"defunciones\": 2188.0}, {\"a\\u00f1o\": \"Promedio ponderado \\u00faltimos 5 a\\u00f1os\", \"semana\": 16, \"defunciones\": 1989.0}, {\"a\\u00f1o\": 2015, \"semana\": 17, \"defunciones\": 2100.0}, {\"a\\u00f1o\": 2016, \"semana\": 17, \"defunciones\": 2108.0}, {\"a\\u00f1o\": 2017, \"semana\": 17, \"defunciones\": 2041.0}, {\"a\\u00f1o\": 2018, \"semana\": 17, \"defunciones\": 2050.0}, {\"a\\u00f1o\": 2019, \"semana\": 17, \"defunciones\": 2138.0}, {\"a\\u00f1o\": 2020, \"semana\": 17, \"defunciones\": 2092.0}, {\"a\\u00f1o\": \"Promedio ponderado \\u00faltimos 5 a\\u00f1os\", \"semana\": 17, \"defunciones\": 2086.0}, {\"a\\u00f1o\": 2015, \"semana\": 18, \"defunciones\": 1939.0}, {\"a\\u00f1o\": 2016, \"semana\": 18, \"defunciones\": 2126.0}, {\"a\\u00f1o\": 2017, \"semana\": 18, \"defunciones\": 2009.0}, {\"a\\u00f1o\": 2018, \"semana\": 18, \"defunciones\": 2035.0}, {\"a\\u00f1o\": 2019, \"semana\": 18, \"defunciones\": 2082.0}, {\"a\\u00f1o\": 2020, \"semana\": 18, \"defunciones\": 1981.0}, {\"a\\u00f1o\": \"Promedio ponderado \\u00faltimos 5 a\\u00f1os\", \"semana\": 18, \"defunciones\": 2038.0}, {\"a\\u00f1o\": 2015, \"semana\": 19, \"defunciones\": 2166.0}, {\"a\\u00f1o\": 2016, \"semana\": 19, \"defunciones\": 2044.0}, {\"a\\u00f1o\": 2017, \"semana\": 19, \"defunciones\": 2006.0}, {\"a\\u00f1o\": 2018, \"semana\": 19, \"defunciones\": 1935.0}, {\"a\\u00f1o\": 2019, \"semana\": 19, \"defunciones\": 2078.0}, {\"a\\u00f1o\": 2020, \"semana\": 19, \"defunciones\": 2360.0}, {\"a\\u00f1o\": \"Promedio ponderado \\u00faltimos 5 a\\u00f1os\", \"semana\": 19, \"defunciones\": 2046.0}, {\"a\\u00f1o\": 2015, \"semana\": 20, \"defunciones\": 2080.0}, {\"a\\u00f1o\": 2016, \"semana\": 20, \"defunciones\": 2150.0}, {\"a\\u00f1o\": 2017, \"semana\": 20, \"defunciones\": 2100.0}, {\"a\\u00f1o\": 2018, \"semana\": 20, \"defunciones\": 2100.0}, {\"a\\u00f1o\": 2019, \"semana\": 20, \"defunciones\": 2284.0}, {\"a\\u00f1o\": 2020, \"semana\": 20, \"defunciones\": 2432.0}, {\"a\\u00f1o\": \"Promedio ponderado \\u00faltimos 5 a\\u00f1os\", \"semana\": 20, \"defunciones\": 2144.0}, {\"a\\u00f1o\": 2015, \"semana\": 21, \"defunciones\": 2086.0}, {\"a\\u00f1o\": 2016, \"semana\": 21, \"defunciones\": 2152.0}, {\"a\\u00f1o\": 2017, \"semana\": 21, \"defunciones\": 2246.0}, {\"a\\u00f1o\": 2018, \"semana\": 21, \"defunciones\": 2130.0}, {\"a\\u00f1o\": 2019, \"semana\": 21, \"defunciones\": 2264.0}, {\"a\\u00f1o\": 2020, \"semana\": 21, \"defunciones\": 2732.0}, {\"a\\u00f1o\": \"Promedio ponderado \\u00faltimos 5 a\\u00f1os\", \"semana\": 21, \"defunciones\": 2176.0}, {\"a\\u00f1o\": 2015, \"semana\": 22, \"defunciones\": 2304.0}, {\"a\\u00f1o\": 2016, \"semana\": 22, \"defunciones\": 2200.0}, {\"a\\u00f1o\": 2017, \"semana\": 22, \"defunciones\": 2410.0}, {\"a\\u00f1o\": 2018, \"semana\": 22, \"defunciones\": 2208.0}, {\"a\\u00f1o\": 2019, \"semana\": 22, \"defunciones\": 2408.0}, {\"a\\u00f1o\": 2020, \"semana\": 22, \"defunciones\": 3364.0}, {\"a\\u00f1o\": \"Promedio ponderado \\u00faltimos 5 a\\u00f1os\", \"semana\": 22, \"defunciones\": 2306.0}, {\"a\\u00f1o\": 2015, \"semana\": 23, \"defunciones\": 2186.0}, {\"a\\u00f1o\": 2016, \"semana\": 23, \"defunciones\": 2252.0}, {\"a\\u00f1o\": 2017, \"semana\": 23, \"defunciones\": 2456.0}, {\"a\\u00f1o\": 2018, \"semana\": 23, \"defunciones\": 2382.0}, {\"a\\u00f1o\": 2019, \"semana\": 23, \"defunciones\": 2414.0}, {\"a\\u00f1o\": 2020, \"semana\": 23, \"defunciones\": 3740.0}, {\"a\\u00f1o\": \"Promedio ponderado \\u00faltimos 5 a\\u00f1os\", \"semana\": 23, \"defunciones\": 2340.0}, {\"a\\u00f1o\": 2015, \"semana\": 24, \"defunciones\": 2222.0}, {\"a\\u00f1o\": 2016, \"semana\": 24, \"defunciones\": 2324.0}, {\"a\\u00f1o\": 2017, \"semana\": 24, \"defunciones\": 2714.0}, {\"a\\u00f1o\": 2018, \"semana\": 24, \"defunciones\": 2492.0}, {\"a\\u00f1o\": 2019, \"semana\": 24, \"defunciones\": 2372.0}, {\"a\\u00f1o\": 2020, \"semana\": 24, \"defunciones\": 3968.0}, {\"a\\u00f1o\": \"Promedio ponderado \\u00faltimos 5 a\\u00f1os\", \"semana\": 24, \"defunciones\": 2422.0}, {\"a\\u00f1o\": 2015, \"semana\": 25, \"defunciones\": 2230.0}, {\"a\\u00f1o\": 2016, \"semana\": 25, \"defunciones\": 2492.0}, {\"a\\u00f1o\": 2017, \"semana\": 25, \"defunciones\": 2862.0}, {\"a\\u00f1o\": 2018, \"semana\": 25, \"defunciones\": 2418.0}, {\"a\\u00f1o\": 2019, \"semana\": 25, \"defunciones\": 2548.0}, {\"a\\u00f1o\": 2020, \"semana\": 25, \"defunciones\": 3832.0}, {\"a\\u00f1o\": \"Promedio ponderado \\u00faltimos 5 a\\u00f1os\", \"semana\": 25, \"defunciones\": 2508.0}, {\"a\\u00f1o\": 2015, \"semana\": 26, \"defunciones\": 2522.0}, {\"a\\u00f1o\": 2016, \"semana\": 26, \"defunciones\": 2492.0}, {\"a\\u00f1o\": 2017, \"semana\": 26, \"defunciones\": 2476.0}, {\"a\\u00f1o\": 2018, \"semana\": 26, \"defunciones\": 2474.0}, {\"a\\u00f1o\": 2019, \"semana\": 26, \"defunciones\": 2552.0}, {\"a\\u00f1o\": 2020, \"semana\": 26, \"defunciones\": 3732.0}, {\"a\\u00f1o\": \"Promedio ponderado \\u00faltimos 5 a\\u00f1os\", \"semana\": 26, \"defunciones\": 2504.0}, {\"a\\u00f1o\": 2015, \"semana\": 27, \"defunciones\": 2280.0}, {\"a\\u00f1o\": 2016, \"semana\": 27, \"defunciones\": 2506.0}, {\"a\\u00f1o\": 2017, \"semana\": 27, \"defunciones\": 2604.0}, {\"a\\u00f1o\": 2018, \"semana\": 27, \"defunciones\": 2368.0}, {\"a\\u00f1o\": 2019, \"semana\": 27, \"defunciones\": 2456.0}, {\"a\\u00f1o\": 2020, \"semana\": 27, \"defunciones\": 3080.0}, {\"a\\u00f1o\": \"Promedio ponderado \\u00faltimos 5 a\\u00f1os\", \"semana\": 27, \"defunciones\": 2444.0}, {\"a\\u00f1o\": 2015, \"semana\": 28, \"defunciones\": 2406.0}, {\"a\\u00f1o\": 2016, \"semana\": 28, \"defunciones\": 2644.0}, {\"a\\u00f1o\": 2017, \"semana\": 28, \"defunciones\": 2446.0}, {\"a\\u00f1o\": 2018, \"semana\": 28, \"defunciones\": 2462.0}, {\"a\\u00f1o\": 2019, \"semana\": 28, \"defunciones\": 2482.0}, {\"a\\u00f1o\": 2020, \"semana\": 28, \"defunciones\": 3020.0}, {\"a\\u00f1o\": \"Promedio ponderado \\u00faltimos 5 a\\u00f1os\", \"semana\": 28, \"defunciones\": 2488.0}, {\"a\\u00f1o\": 2015, \"semana\": 29, \"defunciones\": 2384.0}, {\"a\\u00f1o\": 2016, \"semana\": 29, \"defunciones\": 2718.0}, {\"a\\u00f1o\": 2017, \"semana\": 29, \"defunciones\": 2564.0}, {\"a\\u00f1o\": 2018, \"semana\": 29, \"defunciones\": 2302.0}, {\"a\\u00f1o\": 2019, \"semana\": 29, \"defunciones\": 2440.0}, {\"a\\u00f1o\": 2020, \"semana\": 29, \"defunciones\": 2782.0}, {\"a\\u00f1o\": \"Promedio ponderado \\u00faltimos 5 a\\u00f1os\", \"semana\": 29, \"defunciones\": 2482.0}, {\"a\\u00f1o\": 2015, \"semana\": 30, \"defunciones\": 2470.0}, {\"a\\u00f1o\": 2016, \"semana\": 30, \"defunciones\": 2542.0}, {\"a\\u00f1o\": 2017, \"semana\": 30, \"defunciones\": 2406.0}, {\"a\\u00f1o\": 2018, \"semana\": 30, \"defunciones\": 2602.0}, {\"a\\u00f1o\": 2019, \"semana\": 30, \"defunciones\": 2390.0}, {\"a\\u00f1o\": 2020, \"semana\": 30, \"defunciones\": 2780.0}, {\"a\\u00f1o\": \"Promedio ponderado \\u00faltimos 5 a\\u00f1os\", \"semana\": 30, \"defunciones\": 2482.0}, {\"a\\u00f1o\": 2015, \"semana\": 31, \"defunciones\": 2418.0}, {\"a\\u00f1o\": 2016, \"semana\": 31, \"defunciones\": 2460.0}, {\"a\\u00f1o\": 2017, \"semana\": 31, \"defunciones\": 2422.0}, {\"a\\u00f1o\": 2018, \"semana\": 31, \"defunciones\": 2590.0}, {\"a\\u00f1o\": 2019, \"semana\": 31, \"defunciones\": 2404.0}, {\"a\\u00f1o\": 2020, \"semana\": 31, \"defunciones\": 2654.0}, {\"a\\u00f1o\": \"Promedio ponderado \\u00faltimos 5 a\\u00f1os\", \"semana\": 31, \"defunciones\": 2460.0}, {\"a\\u00f1o\": 2015, \"semana\": 32, \"defunciones\": 2410.0}, {\"a\\u00f1o\": 2016, \"semana\": 32, \"defunciones\": 2432.0}, {\"a\\u00f1o\": 2017, \"semana\": 32, \"defunciones\": 2340.0}, {\"a\\u00f1o\": 2018, \"semana\": 32, \"defunciones\": 2604.0}, {\"a\\u00f1o\": 2019, \"semana\": 32, \"defunciones\": 2318.0}, {\"a\\u00f1o\": 2020, \"semana\": 32, \"defunciones\": 2440.0}, {\"a\\u00f1o\": \"Promedio ponderado \\u00faltimos 5 a\\u00f1os\", \"semana\": 32, \"defunciones\": 2420.0}, {\"a\\u00f1o\": 2015, \"semana\": 33, \"defunciones\": 2312.0}, {\"a\\u00f1o\": 2016, \"semana\": 33, \"defunciones\": 2272.0}, {\"a\\u00f1o\": 2017, \"semana\": 33, \"defunciones\": 2290.0}, {\"a\\u00f1o\": 2018, \"semana\": 33, \"defunciones\": 2420.0}, {\"a\\u00f1o\": 2019, \"semana\": 33, \"defunciones\": 2330.0}, {\"a\\u00f1o\": 2020, \"semana\": 33, \"defunciones\": null}, {\"a\\u00f1o\": \"Promedio ponderado \\u00faltimos 5 a\\u00f1os\", \"semana\": 33, \"defunciones\": 2324.0}, {\"a\\u00f1o\": 2015, \"semana\": 34, \"defunciones\": 2342.0}, {\"a\\u00f1o\": 2016, \"semana\": 34, \"defunciones\": 2310.0}, {\"a\\u00f1o\": 2017, \"semana\": 34, \"defunciones\": 2206.0}, {\"a\\u00f1o\": 2018, \"semana\": 34, \"defunciones\": 2442.0}, {\"a\\u00f1o\": 2019, \"semana\": 34, \"defunciones\": 2294.0}, {\"a\\u00f1o\": 2020, \"semana\": 34, \"defunciones\": null}, {\"a\\u00f1o\": \"Promedio ponderado \\u00faltimos 5 a\\u00f1os\", \"semana\": 34, \"defunciones\": 2318.0}, {\"a\\u00f1o\": 2015, \"semana\": 35, \"defunciones\": 2354.0}, {\"a\\u00f1o\": 2016, \"semana\": 35, \"defunciones\": 2242.0}, {\"a\\u00f1o\": 2017, \"semana\": 35, \"defunciones\": 2234.0}, {\"a\\u00f1o\": 2018, \"semana\": 35, \"defunciones\": 2372.0}, {\"a\\u00f1o\": 2019, \"semana\": 35, \"defunciones\": 2204.0}, {\"a\\u00f1o\": 2020, \"semana\": 35, \"defunciones\": null}, {\"a\\u00f1o\": \"Promedio ponderado \\u00faltimos 5 a\\u00f1os\", \"semana\": 35, \"defunciones\": 2282.0}, {\"a\\u00f1o\": 2015, \"semana\": 36, \"defunciones\": 2320.0}, {\"a\\u00f1o\": 2016, \"semana\": 36, \"defunciones\": 2458.0}, {\"a\\u00f1o\": 2017, \"semana\": 36, \"defunciones\": 2234.0}, {\"a\\u00f1o\": 2018, \"semana\": 36, \"defunciones\": 2310.0}, {\"a\\u00f1o\": 2019, \"semana\": 36, \"defunciones\": 2260.0}, {\"a\\u00f1o\": 2020, \"semana\": 36, \"defunciones\": null}, {\"a\\u00f1o\": \"Promedio ponderado \\u00faltimos 5 a\\u00f1os\", \"semana\": 36, \"defunciones\": 2316.0}, {\"a\\u00f1o\": 2015, \"semana\": 37, \"defunciones\": 2206.0}, {\"a\\u00f1o\": 2016, \"semana\": 37, \"defunciones\": 2370.0}, {\"a\\u00f1o\": 2017, \"semana\": 37, \"defunciones\": 2428.0}, {\"a\\u00f1o\": 2018, \"semana\": 37, \"defunciones\": 2384.0}, {\"a\\u00f1o\": 2019, \"semana\": 37, \"defunciones\": 2244.0}, {\"a\\u00f1o\": 2020, \"semana\": 37, \"defunciones\": null}, {\"a\\u00f1o\": \"Promedio ponderado \\u00faltimos 5 a\\u00f1os\", \"semana\": 37, \"defunciones\": 2326.0}, {\"a\\u00f1o\": 2015, \"semana\": 38, \"defunciones\": 2108.0}, {\"a\\u00f1o\": 2016, \"semana\": 38, \"defunciones\": 2256.0}, {\"a\\u00f1o\": 2017, \"semana\": 38, \"defunciones\": 2160.0}, {\"a\\u00f1o\": 2018, \"semana\": 38, \"defunciones\": 2054.0}, {\"a\\u00f1o\": 2019, \"semana\": 38, \"defunciones\": 1831.0}, {\"a\\u00f1o\": 2020, \"semana\": 38, \"defunciones\": null}, {\"a\\u00f1o\": \"Promedio ponderado \\u00faltimos 5 a\\u00f1os\", \"semana\": 38, \"defunciones\": 2082.0}, {\"a\\u00f1o\": 2015, \"semana\": 39, \"defunciones\": 2650.0}, {\"a\\u00f1o\": 2016, \"semana\": 39, \"defunciones\": 2180.0}, {\"a\\u00f1o\": 2017, \"semana\": 39, \"defunciones\": 2276.0}, {\"a\\u00f1o\": 2018, \"semana\": 39, \"defunciones\": 2268.0}, {\"a\\u00f1o\": 2019, \"semana\": 39, \"defunciones\": 2694.0}, {\"a\\u00f1o\": 2020, \"semana\": 39, \"defunciones\": null}, {\"a\\u00f1o\": \"Promedio ponderado \\u00faltimos 5 a\\u00f1os\", \"semana\": 39, \"defunciones\": 2414.0}, {\"a\\u00f1o\": 2015, \"semana\": 40, \"defunciones\": 2200.0}, {\"a\\u00f1o\": 2016, \"semana\": 40, \"defunciones\": 2246.0}, {\"a\\u00f1o\": 2017, \"semana\": 40, \"defunciones\": 2268.0}, {\"a\\u00f1o\": 2018, \"semana\": 40, \"defunciones\": 2176.0}, {\"a\\u00f1o\": 2019, \"semana\": 40, \"defunciones\": 2212.0}, {\"a\\u00f1o\": 2020, \"semana\": 40, \"defunciones\": null}, {\"a\\u00f1o\": \"Promedio ponderado \\u00faltimos 5 a\\u00f1os\", \"semana\": 40, \"defunciones\": 2220.0}, {\"a\\u00f1o\": 2015, \"semana\": 41, \"defunciones\": 2280.0}, {\"a\\u00f1o\": 2016, \"semana\": 41, \"defunciones\": 2038.0}, {\"a\\u00f1o\": 2017, \"semana\": 41, \"defunciones\": 2048.0}, {\"a\\u00f1o\": 2018, \"semana\": 41, \"defunciones\": 2122.0}, {\"a\\u00f1o\": 2019, \"semana\": 41, \"defunciones\": 2242.0}, {\"a\\u00f1o\": 2020, \"semana\": 41, \"defunciones\": null}, {\"a\\u00f1o\": \"Promedio ponderado \\u00faltimos 5 a\\u00f1os\", \"semana\": 41, \"defunciones\": 2146.0}, {\"a\\u00f1o\": 2015, \"semana\": 42, \"defunciones\": 2076.0}, {\"a\\u00f1o\": 2016, \"semana\": 42, \"defunciones\": 1954.0}, {\"a\\u00f1o\": 2017, \"semana\": 42, \"defunciones\": 2066.0}, {\"a\\u00f1o\": 2018, \"semana\": 42, \"defunciones\": 1976.0}, {\"a\\u00f1o\": 2019, \"semana\": 42, \"defunciones\": 2032.0}, {\"a\\u00f1o\": 2020, \"semana\": 42, \"defunciones\": null}, {\"a\\u00f1o\": \"Promedio ponderado \\u00faltimos 5 a\\u00f1os\", \"semana\": 42, \"defunciones\": 2021.0}, {\"a\\u00f1o\": 2015, \"semana\": 43, \"defunciones\": 2138.0}, {\"a\\u00f1o\": 2016, \"semana\": 43, \"defunciones\": 2234.0}, {\"a\\u00f1o\": 2017, \"semana\": 43, \"defunciones\": 1876.0}, {\"a\\u00f1o\": 2018, \"semana\": 43, \"defunciones\": 2142.0}, {\"a\\u00f1o\": 2019, \"semana\": 43, \"defunciones\": 2047.0}, {\"a\\u00f1o\": 2020, \"semana\": 43, \"defunciones\": null}, {\"a\\u00f1o\": \"Promedio ponderado \\u00faltimos 5 a\\u00f1os\", \"semana\": 43, \"defunciones\": 2088.0}, {\"a\\u00f1o\": 2015, \"semana\": 44, \"defunciones\": 1739.0}, {\"a\\u00f1o\": 2016, \"semana\": 44, \"defunciones\": 1884.0}, {\"a\\u00f1o\": 2017, \"semana\": 44, \"defunciones\": 2012.0}, {\"a\\u00f1o\": 2018, \"semana\": 44, \"defunciones\": 1828.0}, {\"a\\u00f1o\": 2019, \"semana\": 44, \"defunciones\": 1926.0}, {\"a\\u00f1o\": 2020, \"semana\": 44, \"defunciones\": null}, {\"a\\u00f1o\": \"Promedio ponderado \\u00faltimos 5 a\\u00f1os\", \"semana\": 44, \"defunciones\": 1878.0}, {\"a\\u00f1o\": 2015, \"semana\": 45, \"defunciones\": 2178.0}, {\"a\\u00f1o\": 2016, \"semana\": 45, \"defunciones\": 2062.0}, {\"a\\u00f1o\": 2017, \"semana\": 45, \"defunciones\": 2056.0}, {\"a\\u00f1o\": 2018, \"semana\": 45, \"defunciones\": 2312.0}, {\"a\\u00f1o\": 2019, \"semana\": 45, \"defunciones\": 2254.0}, {\"a\\u00f1o\": 2020, \"semana\": 45, \"defunciones\": null}, {\"a\\u00f1o\": \"Promedio ponderado \\u00faltimos 5 a\\u00f1os\", \"semana\": 45, \"defunciones\": 2172.0}, {\"a\\u00f1o\": 2015, \"semana\": 46, \"defunciones\": 2402.0}, {\"a\\u00f1o\": 2016, \"semana\": 46, \"defunciones\": 1926.0}, {\"a\\u00f1o\": 2017, \"semana\": 46, \"defunciones\": 1893.0}, {\"a\\u00f1o\": 2018, \"semana\": 46, \"defunciones\": 2001.0}, {\"a\\u00f1o\": 2019, \"semana\": 46, \"defunciones\": 2032.0}, {\"a\\u00f1o\": 2020, \"semana\": 46, \"defunciones\": null}, {\"a\\u00f1o\": \"Promedio ponderado \\u00faltimos 5 a\\u00f1os\", \"semana\": 46, \"defunciones\": 2052.0}, {\"a\\u00f1o\": 2015, \"semana\": 47, \"defunciones\": 2094.0}, {\"a\\u00f1o\": 2016, \"semana\": 47, \"defunciones\": 1984.0}, {\"a\\u00f1o\": 2017, \"semana\": 47, \"defunciones\": 2025.0}, {\"a\\u00f1o\": 2018, \"semana\": 47, \"defunciones\": 2062.0}, {\"a\\u00f1o\": 2019, \"semana\": 47, \"defunciones\": 2102.0}, {\"a\\u00f1o\": 2020, \"semana\": 47, \"defunciones\": null}, {\"a\\u00f1o\": \"Promedio ponderado \\u00faltimos 5 a\\u00f1os\", \"semana\": 47, \"defunciones\": 2054.0}, {\"a\\u00f1o\": 2015, \"semana\": 48, \"defunciones\": 2001.0}, {\"a\\u00f1o\": 2016, \"semana\": 48, \"defunciones\": 2005.0}, {\"a\\u00f1o\": 2017, \"semana\": 48, \"defunciones\": 1988.0}, {\"a\\u00f1o\": 2018, \"semana\": 48, \"defunciones\": 1980.0}, {\"a\\u00f1o\": 2019, \"semana\": 48, \"defunciones\": 1989.0}, {\"a\\u00f1o\": 2020, \"semana\": 48, \"defunciones\": null}, {\"a\\u00f1o\": \"Promedio ponderado \\u00faltimos 5 a\\u00f1os\", \"semana\": 48, \"defunciones\": 1992.0}, {\"a\\u00f1o\": 2015, \"semana\": 49, \"defunciones\": 2104.0}, {\"a\\u00f1o\": 2016, \"semana\": 49, \"defunciones\": 1938.0}, {\"a\\u00f1o\": 2017, \"semana\": 49, \"defunciones\": 1810.0}, {\"a\\u00f1o\": 2018, \"semana\": 49, \"defunciones\": 2006.0}, {\"a\\u00f1o\": 2019, \"semana\": 49, \"defunciones\": 1992.0}, {\"a\\u00f1o\": 2020, \"semana\": 49, \"defunciones\": null}, {\"a\\u00f1o\": \"Promedio ponderado \\u00faltimos 5 a\\u00f1os\", \"semana\": 49, \"defunciones\": 1970.0}, {\"a\\u00f1o\": 2015, \"semana\": 50, \"defunciones\": 2056.0}, {\"a\\u00f1o\": 2016, \"semana\": 50, \"defunciones\": 2023.0}, {\"a\\u00f1o\": 2017, \"semana\": 50, \"defunciones\": 2090.0}, {\"a\\u00f1o\": 2018, \"semana\": 50, \"defunciones\": 1981.0}, {\"a\\u00f1o\": 2019, \"semana\": 50, \"defunciones\": 1906.0}, {\"a\\u00f1o\": 2020, \"semana\": 50, \"defunciones\": null}, {\"a\\u00f1o\": \"Promedio ponderado \\u00faltimos 5 a\\u00f1os\", \"semana\": 50, \"defunciones\": 2011.0}, {\"a\\u00f1o\": 2015, \"semana\": 51, \"defunciones\": 2018.0}, {\"a\\u00f1o\": 2016, \"semana\": 51, \"defunciones\": 1914.0}, {\"a\\u00f1o\": 2017, \"semana\": 51, \"defunciones\": 2108.0}, {\"a\\u00f1o\": 2018, \"semana\": 51, \"defunciones\": 2056.0}, {\"a\\u00f1o\": 2019, \"semana\": 51, \"defunciones\": 1921.0}, {\"a\\u00f1o\": 2020, \"semana\": 51, \"defunciones\": null}, {\"a\\u00f1o\": \"Promedio ponderado \\u00faltimos 5 a\\u00f1os\", \"semana\": 51, \"defunciones\": 2003.0}, {\"a\\u00f1o\": 2015, \"semana\": 52, \"defunciones\": 1899.0}, {\"a\\u00f1o\": 2016, \"semana\": 52, \"defunciones\": 1953.0}, {\"a\\u00f1o\": 2017, \"semana\": 52, \"defunciones\": 2018.0}, {\"a\\u00f1o\": 2018, \"semana\": 52, \"defunciones\": 1964.0}, {\"a\\u00f1o\": 2019, \"semana\": 52, \"defunciones\": 2009.0}, {\"a\\u00f1o\": 2020, \"semana\": 52, \"defunciones\": null}, {\"a\\u00f1o\": \"Promedio ponderado \\u00faltimos 5 a\\u00f1os\", \"semana\": 52, \"defunciones\": 1970.0}], \"data-cc9a3e80a4d7d5fe0eaf8d1162a4293d\": [{\"semana\": 1, \"lower\": 1865.0, \"upper\": 2152.0, \"lower 2\": 1722.0, \"upper 2\": 2294.0}, {\"semana\": 2, \"lower\": 1921.0, \"upper\": 2009.0, \"lower 2\": 1877.0, \"upper 2\": 2054.0}, {\"semana\": 3, \"lower\": 1848.0, \"upper\": 2066.0, \"lower 2\": 1738.0, \"upper 2\": 2176.0}, {\"semana\": 4, \"lower\": 1856.0, \"upper\": 2118.0, \"lower 2\": 1724.0, \"upper 2\": 2250.0}, {\"semana\": 5, \"lower\": 1932.0, \"upper\": 2030.0, \"lower 2\": 1882.0, \"upper 2\": 2080.0}, {\"semana\": 6, \"lower\": 1881.0, \"upper\": 2033.0, \"lower 2\": 1804.0, \"upper 2\": 2110.0}, {\"semana\": 7, \"lower\": 1875.0, \"upper\": 1965.0, \"lower 2\": 1830.0, \"upper 2\": 2010.0}, {\"semana\": 8, \"lower\": 1914.0, \"upper\": 1984.0, \"lower 2\": 1879.0, \"upper 2\": 2019.0}, {\"semana\": 9, \"lower\": 1869.0, \"upper\": 1983.0, \"lower 2\": 1813.0, \"upper 2\": 2039.0}, {\"semana\": 10, \"lower\": 1796.0, \"upper\": 1936.0, \"lower 2\": 1726.0, \"upper 2\": 2006.0}, {\"semana\": 11, \"lower\": 1812.0, \"upper\": 1958.0, \"lower 2\": 1738.0, \"upper 2\": 2032.0}, {\"semana\": 12, \"lower\": 1811.0, \"upper\": 1933.0, \"lower 2\": 1750.0, \"upper 2\": 1994.0}, {\"semana\": 13, \"lower\": 1857.0, \"upper\": 1955.0, \"lower 2\": 1809.0, \"upper 2\": 2003.0}, {\"semana\": 14, \"lower\": 1823.0, \"upper\": 2064.0, \"lower 2\": 1702.0, \"upper 2\": 2186.0}, {\"semana\": 15, \"lower\": 1960.0, \"upper\": 2072.0, \"lower 2\": 1904.0, \"upper 2\": 2128.0}, {\"semana\": 16, \"lower\": 1932.0, \"upper\": 2046.0, \"lower 2\": 1874.0, \"upper 2\": 2104.0}, {\"semana\": 17, \"lower\": 2045.0, \"upper\": 2126.0, \"lower 2\": 2004.0, \"upper 2\": 2168.0}, {\"semana\": 18, \"lower\": 1967.0, \"upper\": 2110.0, \"lower 2\": 1895.0, \"upper 2\": 2180.0}, {\"semana\": 19, \"lower\": 1960.0, \"upper\": 2132.0, \"lower 2\": 1875.0, \"upper 2\": 2218.0}, {\"semana\": 20, \"lower\": 2060.0, \"upper\": 2228.0, \"lower 2\": 1978.0, \"upper 2\": 2310.0}, {\"semana\": 21, \"lower\": 2100.0, \"upper\": 2252.0, \"lower 2\": 2023.0, \"upper 2\": 2330.0}, {\"semana\": 22, \"lower\": 2204.0, \"upper\": 2408.0, \"lower 2\": 2100.0, \"upper 2\": 2512.0}, {\"semana\": 23, \"lower\": 2226.0, \"upper\": 2454.0, \"lower 2\": 2112.0, \"upper 2\": 2568.0}, {\"semana\": 24, \"lower\": 2234.0, \"upper\": 2610.0, \"lower 2\": 2045.0, \"upper 2\": 2800.0}, {\"semana\": 25, \"lower\": 2278.0, \"upper\": 2738.0, \"lower 2\": 2047.0, \"upper 2\": 2968.0}, {\"semana\": 26, \"lower\": 2470.0, \"upper\": 2538.0, \"lower 2\": 2438.0, \"upper 2\": 2570.0}, {\"semana\": 27, \"lower\": 2320.0, \"upper\": 2568.0, \"lower 2\": 2194.0, \"upper 2\": 2694.0}, {\"semana\": 28, \"lower\": 2396.0, \"upper\": 2580.0, \"lower 2\": 2304.0, \"upper 2\": 2672.0}, {\"semana\": 29, \"lower\": 2320.0, \"upper\": 2644.0, \"lower 2\": 2156.0, \"upper 2\": 2808.0}, {\"semana\": 30, \"lower\": 2392.0, \"upper\": 2572.0, \"lower 2\": 2302.0, \"upper 2\": 2662.0}, {\"semana\": 31, \"lower\": 2384.0, \"upper\": 2536.0, \"lower 2\": 2308.0, \"upper 2\": 2612.0}, {\"semana\": 32, \"lower\": 2308.0, \"upper\": 2532.0, \"lower 2\": 2194.0, \"upper 2\": 2646.0}, {\"semana\": 33, \"lower\": 2266.0, \"upper\": 2382.0, \"lower 2\": 2208.0, \"upper 2\": 2440.0}, {\"semana\": 34, \"lower\": 2232.0, \"upper\": 2404.0, \"lower 2\": 2148.0, \"upper 2\": 2488.0}, {\"semana\": 35, \"lower\": 2206.0, \"upper\": 2358.0, \"lower 2\": 2130.0, \"upper 2\": 2434.0}, {\"semana\": 36, \"lower\": 2230.0, \"upper\": 2402.0, \"lower 2\": 2142.0, \"upper 2\": 2490.0}, {\"semana\": 37, \"lower\": 2230.0, \"upper\": 2422.0, \"lower 2\": 2134.0, \"upper 2\": 2518.0}, {\"semana\": 38, \"lower\": 1923.0, \"upper\": 2240.0, \"lower 2\": 1764.0, \"upper 2\": 2400.0}, {\"semana\": 39, \"lower\": 2174.0, \"upper\": 2654.0, \"lower 2\": 1935.0, \"upper 2\": 2892.0}, {\"semana\": 40, \"lower\": 2184.0, \"upper\": 2256.0, \"lower 2\": 2146.0, \"upper 2\": 2294.0}, {\"semana\": 41, \"lower\": 2035.0, \"upper\": 2256.0, \"lower 2\": 1925.0, \"upper 2\": 2368.0}, {\"semana\": 42, \"lower\": 1967.0, \"upper\": 2076.0, \"lower 2\": 1913.0, \"upper 2\": 2130.0}, {\"semana\": 43, \"lower\": 1953.0, \"upper\": 2224.0, \"lower 2\": 1817.0, \"upper 2\": 2358.0}, {\"semana\": 44, \"lower\": 1775.0, \"upper\": 1981.0, \"lower 2\": 1673.0, \"upper 2\": 2084.0}, {\"semana\": 45, \"lower\": 2058.0, \"upper\": 2286.0, \"lower 2\": 1944.0, \"upper 2\": 2400.0}, {\"semana\": 46, \"lower\": 1848.0, \"upper\": 2256.0, \"lower 2\": 1644.0, \"upper 2\": 2460.0}, {\"semana\": 47, \"lower\": 2005.0, \"upper\": 2104.0, \"lower 2\": 1956.0, \"upper 2\": 2152.0}, {\"semana\": 48, \"lower\": 1982.0, \"upper\": 2002.0, \"lower 2\": 1972.0, \"upper 2\": 2012.0}, {\"semana\": 49, \"lower\": 1862.0, \"upper\": 2078.0, \"lower 2\": 1755.0, \"upper 2\": 2186.0}, {\"semana\": 50, \"lower\": 1940.0, \"upper\": 2082.0, \"lower 2\": 1868.0, \"upper 2\": 2154.0}, {\"semana\": 51, \"lower\": 1918.0, \"upper\": 2088.0, \"lower 2\": 1834.0, \"upper 2\": 2172.0}, {\"semana\": 52, \"lower\": 1922.0, \"upper\": 2018.0, \"lower 2\": 1874.0, \"upper 2\": 2066.0}]}}, {\"mode\": \"vega-lite\"});\n",
       "</script>"
      ],
      "text/plain": [
       "alt.LayerChart(...)"
      ]
     },
     "execution_count": 62,
     "metadata": {},
     "output_type": "execute_result"
    }
   ],
   "source": [
    "#hide_input\n",
    "label = alt.selection_single(\n",
    "    encodings=['x'], # limit selection to x-axis value\n",
    "    on='mouseover',  # select on mouseover events\n",
    "    nearest=True,    # select data point nearest the cursor\n",
    "    empty='none'     # empty selection includes no data points\n",
    ")\n",
    "\n",
    "base = alt.Chart(amended_deaths.drop([i for i in np.arange(2012,2015)]).reset_index().melt(\"index\", value_name=\"defunciones\").rename(columns={\"index\":\"año\"})).mark_line(point=True).encode(\n",
    "    x = alt.X(\"semana:Q\",scale=alt.Scale(domain=(1, 52))),\n",
    "    y = alt.Y(\"defunciones\", scale=alt.Scale(domain=(0,3750))),\n",
    "    color=alt.Color('año:N', scale=alt.Scale(range=['lightgray', 'lightgray', 'lightgray', 'lightgray', 'lightgray', 'red', 'blue'], \n",
    "                                             domain=[\"2015\", \"2016\", \"2017\", \"2018\", \"2019\", \"2020\", \"Promedio ponderado últimos 5 años\"]))\n",
    ")\n",
    "\n",
    "alt.layer(\n",
    "    base, # base line chart\n",
    "    \n",
    "    alt.Chart(df_expected.reset_index()).mark_area(\n",
    "        opacity=0.5\n",
    "    ).encode(\n",
    "        x=\"semana\",\n",
    "        y=alt.Y(\"lower:Q\", axis=alt.Axis(title=\"defunciones\")),\n",
    "        #y=\"lower:Q\",\n",
    "        y2=\"upper:Q\"\n",
    "    ),\n",
    "    \n",
    "    alt.Chart(df_expected.reset_index()).mark_area(\n",
    "        opacity=0.3\n",
    "    ).encode(\n",
    "        x=\"semana\",\n",
    "        y=\"lower 2:Q\",\n",
    "        y2=\"upper 2:Q\"\n",
    "    ),\n",
    "    \n",
    "#     alt.Chart(expected.reset_index().rename(columns={0:\"defunciones\"})).mark_line(point=True).encode(\n",
    "#     x = \"semana\",\n",
    "#     y = \"defunciones\"\n",
    "#     ),\n",
    "    # add a rule mark to serve as a guide line\n",
    "    alt.Chart().mark_rule(color='#aaa').encode(\n",
    "        x = alt.X('semana:Q', scale=alt.Scale(domain=(1, 52)), axis=alt.Axis(title='Semanas'), sort=None)\n",
    "    ).transform_filter(label),\n",
    "    \n",
    "    # add circle marks for selected time points, hide unselected points\n",
    "    base.mark_circle().encode(\n",
    "        opacity=alt.condition(label, alt.value(1), alt.value(0))\n",
    "    ).add_selection(label),\n",
    "\n",
    "    # add white stroked text to provide a legible background for labels\n",
    "    base.mark_text(align='left', dx=5, dy=-5, stroke='white', strokeWidth=2).encode(\n",
    "        text='defunciones'\n",
    "    ).transform_filter(label),\n",
    "\n",
    "    # add text labels for stock prices\n",
    "    base.mark_text(align='left', dx=5, dy=-5).encode(\n",
    "        text='defunciones'\n",
    "    ).transform_filter(label),\n",
    "    \n",
    "    data=amended_deaths.drop([i for i in np.arange(2012,2015)]).reset_index().melt(\"index\", value_name=\"defunciones\").rename(columns={\"index\":\"año\"})\n",
    ").properties(\n",
    "    title = f'Defunciones inscritas en Chile por semana (corregido) hasta semana {current_week-1}',\n",
    "    width=600\n",
    ")"
   ]
  },
  {
   "cell_type": "markdown",
   "metadata": {},
   "source": [
    "Fuente: [Ministerio de Ciencia](https://github.com/MinCiencia/Datos-COVID19), [Registro Civil](https://www.registrocivil.cl/)"
   ]
  },
  {
   "cell_type": "code",
   "execution_count": 63,
   "metadata": {
    "colab": {
     "base_uri": "https://localhost:8080/",
     "height": 34
    },
    "colab_type": "code",
    "id": "xtnqH0PthQcA",
    "outputId": "1a2e97f7-9e1f-42b0-8e60-01c90ea9e576",
    "scrolled": true
   },
   "outputs": [
    {
     "data": {
      "text/plain": [
       "491.0"
      ]
     },
     "execution_count": 63,
     "metadata": {},
     "output_type": "execute_result"
    }
   ],
   "source": [
    "#hide\n",
    "(amended_deaths.loc[2020,:12] - expected).sum()"
   ]
  },
  {
   "cell_type": "code",
   "execution_count": 64,
   "metadata": {
    "colab": {},
    "colab_type": "code",
    "id": "2IXcwDo4i9Zz"
   },
   "outputs": [],
   "source": [
    "#hide\n",
    "excess_mortality = []\n",
    "for i in np.arange(0,current_week-1):\n",
    "    excess_mortality.append((amended_deaths.loc[2020,:i] - expected).sum())"
   ]
  },
  {
   "cell_type": "code",
   "execution_count": 65,
   "metadata": {
    "colab": {},
    "colab_type": "code",
    "id": "JrWzYMKHjTYj"
   },
   "outputs": [
    {
     "data": {
      "text/plain": [
       "0        NaN\n",
       "1       52.0\n",
       "2      151.0\n",
       "3      103.0\n",
       "4        0.0\n",
       "5       53.0\n",
       "6      -51.0\n",
       "7       39.0\n",
       "8     -124.0\n",
       "9      -77.0\n",
       "10     154.0\n",
       "11      78.0\n",
       "12     113.0\n",
       "13      28.0\n",
       "14      71.0\n",
       "15     -66.0\n",
       "16     199.0\n",
       "17       6.0\n",
       "18     -57.0\n",
       "19     314.0\n",
       "20     288.0\n",
       "21     556.0\n",
       "22    1058.0\n",
       "23    1400.0\n",
       "24    1544.0\n",
       "25    1328.0\n",
       "26    1224.0\n",
       "27     640.0\n",
       "28     528.0\n",
       "29     304.0\n",
       "30     296.0\n",
       "31     192.0\n",
       "dtype: float64"
      ]
     },
     "execution_count": 65,
     "metadata": {},
     "output_type": "execute_result"
    }
   ],
   "source": [
    "#hide\n",
    "excess_mortality = pd.Series(excess_mortality)\n",
    "#excess_mortality\n",
    "excess_mortality.diff()"
   ]
  },
  {
   "cell_type": "code",
   "execution_count": 66,
   "metadata": {
    "colab": {},
    "colab_type": "code",
    "id": "3yhSSdR6jrPF"
   },
   "outputs": [],
   "source": [
    "#hide\n",
    "casos_raw = pd.read_csv(\n",
    "    \"https://raw.githubusercontent.com/MinCiencia/Datos-COVID19/master/output/producto3/CasosTotalesCumulativo.csv\",\n",
    "    index_col='Region')"
   ]
  },
  {
   "cell_type": "code",
   "execution_count": 67,
   "metadata": {
    "colab": {
     "base_uri": "https://localhost:8080/",
     "height": 225
    },
    "colab_type": "code",
    "id": "7K2JMgn8rrSJ",
    "outputId": "6109ead7-f2e3-4bbd-b135-2dd171864759"
   },
   "outputs": [
    {
     "data": {
      "text/plain": [
       "2020-03-03    0.0\n",
       "2020-03-04    1.0\n",
       "Name: Metropolitana, dtype: float64"
      ]
     },
     "execution_count": 67,
     "metadata": {},
     "output_type": "execute_result"
    }
   ],
   "source": [
    "#hide\n",
    "casos_raw.loc[\"Metropolitana\"].head(2)"
   ]
  },
  {
   "cell_type": "code",
   "execution_count": 68,
   "metadata": {
    "colab": {
     "base_uri": "https://localhost:8080/",
     "height": 34
    },
    "colab_type": "code",
    "id": "l4upf3Cmixfw",
    "outputId": "818554ba-f67a-487e-d670-b53e4ec78ce5"
   },
   "outputs": [
    {
     "data": {
      "text/plain": [
       "10"
      ]
     },
     "execution_count": 68,
     "metadata": {},
     "output_type": "execute_result"
    }
   ],
   "source": [
    "#hide\n",
    "_, week_first_case, _ = pd.to_datetime(\"2020-03-03\").isocalendar()\n",
    "week_first_case"
   ]
  },
  {
   "cell_type": "code",
   "execution_count": 69,
   "metadata": {
    "colab": {},
    "colab_type": "code",
    "id": "OrGpiFBKkBUo"
   },
   "outputs": [],
   "source": [
    "#hide\n",
    "deaths_raw = pd.read_csv(\n",
    "    \"https://raw.githubusercontent.com/MinCiencia/Datos-COVID19/master/output/producto5/TotalesNacionales_T.csv\")"
   ]
  },
  {
   "cell_type": "code",
   "execution_count": 70,
   "metadata": {},
   "outputs": [
    {
     "data": {
      "text/html": [
       "<div>\n",
       "<style scoped>\n",
       "    .dataframe tbody tr th:only-of-type {\n",
       "        vertical-align: middle;\n",
       "    }\n",
       "\n",
       "    .dataframe tbody tr th {\n",
       "        vertical-align: top;\n",
       "    }\n",
       "\n",
       "    .dataframe thead th {\n",
       "        text-align: right;\n",
       "    }\n",
       "</style>\n",
       "<table border=\"1\" class=\"dataframe\">\n",
       "  <thead>\n",
       "    <tr style=\"text-align: right;\">\n",
       "      <th></th>\n",
       "      <th>Fecha</th>\n",
       "      <th>Casos nuevos con sintomas</th>\n",
       "      <th>Casos totales</th>\n",
       "      <th>Casos recuperados</th>\n",
       "      <th>Fallecidos</th>\n",
       "      <th>Casos activos</th>\n",
       "      <th>Casos nuevos sin sintomas</th>\n",
       "      <th>Casos nuevos totales</th>\n",
       "      <th>Casos activos por FD</th>\n",
       "      <th>Casos activos por FIS</th>\n",
       "      <th>Casos recuperados por FIS</th>\n",
       "      <th>Casos recuperados por FD</th>\n",
       "      <th>Casos confirmados recuperados</th>\n",
       "      <th>Casos activos confirmados</th>\n",
       "      <th>Casos probables acumulados</th>\n",
       "      <th>Casos activos probables</th>\n",
       "      <th>Casos nuevos sin notificar</th>\n",
       "    </tr>\n",
       "  </thead>\n",
       "  <tbody>\n",
       "    <tr>\n",
       "      <th>20</th>\n",
       "      <td>2020-03-22</td>\n",
       "      <td>95.0</td>\n",
       "      <td>632.0</td>\n",
       "      <td>8.0</td>\n",
       "      <td>1.0</td>\n",
       "      <td>623.0</td>\n",
       "      <td>NaN</td>\n",
       "      <td>95.0</td>\n",
       "      <td>623.0</td>\n",
       "      <td>NaN</td>\n",
       "      <td>NaN</td>\n",
       "      <td>8.0</td>\n",
       "      <td>NaN</td>\n",
       "      <td>NaN</td>\n",
       "      <td>NaN</td>\n",
       "      <td>NaN</td>\n",
       "      <td>NaN</td>\n",
       "    </tr>\n",
       "    <tr>\n",
       "      <th>21</th>\n",
       "      <td>2020-03-23</td>\n",
       "      <td>114.0</td>\n",
       "      <td>746.0</td>\n",
       "      <td>11.0</td>\n",
       "      <td>1.0</td>\n",
       "      <td>734.0</td>\n",
       "      <td>NaN</td>\n",
       "      <td>114.0</td>\n",
       "      <td>734.0</td>\n",
       "      <td>NaN</td>\n",
       "      <td>NaN</td>\n",
       "      <td>11.0</td>\n",
       "      <td>NaN</td>\n",
       "      <td>NaN</td>\n",
       "      <td>NaN</td>\n",
       "      <td>NaN</td>\n",
       "      <td>NaN</td>\n",
       "    </tr>\n",
       "  </tbody>\n",
       "</table>\n",
       "</div>"
      ],
      "text/plain": [
       "         Fecha  Casos nuevos con sintomas  Casos totales  Casos recuperados  \\\n",
       "20  2020-03-22                       95.0          632.0                8.0   \n",
       "21  2020-03-23                      114.0          746.0               11.0   \n",
       "\n",
       "    Fallecidos  Casos activos  Casos nuevos sin sintomas  \\\n",
       "20         1.0          623.0                        NaN   \n",
       "21         1.0          734.0                        NaN   \n",
       "\n",
       "    Casos nuevos totales  Casos activos por FD  Casos activos por FIS  \\\n",
       "20                  95.0                 623.0                    NaN   \n",
       "21                 114.0                 734.0                    NaN   \n",
       "\n",
       "    Casos recuperados por FIS  Casos recuperados por FD  \\\n",
       "20                        NaN                       8.0   \n",
       "21                        NaN                      11.0   \n",
       "\n",
       "    Casos confirmados recuperados  Casos activos confirmados  \\\n",
       "20                            NaN                        NaN   \n",
       "21                            NaN                        NaN   \n",
       "\n",
       "    Casos probables acumulados  Casos activos probables  \\\n",
       "20                         NaN                      NaN   \n",
       "21                         NaN                      NaN   \n",
       "\n",
       "    Casos nuevos sin notificar  \n",
       "20                         NaN  \n",
       "21                         NaN  "
      ]
     },
     "execution_count": 70,
     "metadata": {},
     "output_type": "execute_result"
    }
   ],
   "source": [
    "#hide\n",
    "deaths_raw[deaths_raw[\"Fallecidos\"]>0].head(2)"
   ]
  },
  {
   "cell_type": "code",
   "execution_count": 71,
   "metadata": {},
   "outputs": [
    {
     "data": {
      "text/plain": [
       "12"
      ]
     },
     "execution_count": 71,
     "metadata": {},
     "output_type": "execute_result"
    }
   ],
   "source": [
    "#hide\n",
    "_, week_first_death, _ = pd.to_datetime(\"2020-03-22\").isocalendar()\n",
    "week_first_death"
   ]
  },
  {
   "cell_type": "code",
   "execution_count": 72,
   "metadata": {},
   "outputs": [
    {
     "data": {
      "text/markdown": [
       "Entre las semanas 12 y 32, hubo un total de 57.056 defunciones inscritas."
      ],
      "text/plain": [
       "<IPython.core.display.Markdown object>"
      ]
     },
     "metadata": {},
     "output_type": "display_data"
    }
   ],
   "source": [
    "#hide_input\n",
    "display(Markdown(\n",
    "f\"Entre las semanas 12 y {current_week-1}, hubo un total de {'{:,.0f}'.format(amended_deaths.loc[2020,12:current_week-1].sum()).replace(',', '.')} defunciones inscritas.\"))"
   ]
  },
  {
   "cell_type": "code",
   "execution_count": 73,
   "metadata": {},
   "outputs": [
    {
     "data": {
      "text/markdown": [
       "El número esperado de defunciones inscritas entre esas semanas es de 47.072, para una tase de crecimiento de defunciones inscritas entre 2019/2020 de 1.51%."
      ],
      "text/plain": [
       "<IPython.core.display.Markdown object>"
      ]
     },
     "metadata": {},
     "output_type": "display_data"
    }
   ],
   "source": [
    "#hide_input\n",
    "display(Markdown(f\"El número esperado de defunciones inscritas entre esas semanas es de {'{:,.0f}'.format(expected.loc[12:current_week-1].sum()).replace(',', '.')}, para una tase de crecimiento de defunciones inscritas entre 2019/2020 de {100*(gr_mean-1):.2f}%.\"))"
   ]
  },
  {
   "cell_type": "code",
   "execution_count": 74,
   "metadata": {
    "scrolled": true
   },
   "outputs": [
    {
     "data": {
      "text/markdown": [
       "Exceso de mortalidad al 09/08: 9.984"
      ],
      "text/plain": [
       "<IPython.core.display.Markdown object>"
      ]
     },
     "metadata": {},
     "output_type": "display_data"
    }
   ],
   "source": [
    "#hide_input\n",
    "exceso = (amended_deaths.loc[2020,12:current_week-1]-expected).sum()\n",
    "display(Markdown(f\"Exceso de mortalidad al {pd.to_datetime(date).strftime('%d/%m')}: {'{:,.0f}'.format(exceso).replace(',', '.')}\"))"
   ]
  },
  {
   "cell_type": "code",
   "execution_count": 75,
   "metadata": {},
   "outputs": [
    {
     "data": {
      "text/plain": [
       "(1058.0, 1400.0)"
      ]
     },
     "execution_count": 75,
     "metadata": {},
     "output_type": "execute_result"
    }
   ],
   "source": [
    "#hide\n",
    "(amended_deaths.loc[2020,22:22]-expected).sum(), (amended_deaths.loc[2020,23:23]-expected).sum()"
   ]
  },
  {
   "cell_type": "code",
   "execution_count": 76,
   "metadata": {
    "colab": {},
    "colab_type": "code",
    "id": "9mHbAAQzipZa"
   },
   "outputs": [],
   "source": [
    "#hide\n",
    "totales_covid19 = pd.read_csv(\n",
    "    \"https://raw.githubusercontent.com/MinCiencia/Datos-COVID19/master/output/producto5/TotalesNacionales_T.csv\",\n",
    "    index_col=\"Fecha\")"
   ]
  },
  {
   "cell_type": "code",
   "execution_count": 77,
   "metadata": {
    "colab": {
     "base_uri": "https://localhost:8080/",
     "height": 255
    },
    "colab_type": "code",
    "id": "BRqrCf1airT2",
    "outputId": "f444ed45-eb90-4123-dbd1-2190a7b98070"
   },
   "outputs": [
    {
     "data": {
      "text/html": [
       "<div>\n",
       "<style scoped>\n",
       "    .dataframe tbody tr th:only-of-type {\n",
       "        vertical-align: middle;\n",
       "    }\n",
       "\n",
       "    .dataframe tbody tr th {\n",
       "        vertical-align: top;\n",
       "    }\n",
       "\n",
       "    .dataframe thead th {\n",
       "        text-align: right;\n",
       "    }\n",
       "</style>\n",
       "<table border=\"1\" class=\"dataframe\">\n",
       "  <thead>\n",
       "    <tr style=\"text-align: right;\">\n",
       "      <th></th>\n",
       "      <th>Casos nuevos con sintomas</th>\n",
       "      <th>Casos totales</th>\n",
       "      <th>Casos recuperados</th>\n",
       "      <th>Fallecidos</th>\n",
       "      <th>Casos activos</th>\n",
       "      <th>Casos nuevos sin sintomas</th>\n",
       "      <th>Casos nuevos totales</th>\n",
       "      <th>Casos activos por FD</th>\n",
       "      <th>Casos activos por FIS</th>\n",
       "      <th>Casos recuperados por FIS</th>\n",
       "      <th>Casos recuperados por FD</th>\n",
       "      <th>Casos confirmados recuperados</th>\n",
       "      <th>Casos activos confirmados</th>\n",
       "      <th>Casos probables acumulados</th>\n",
       "      <th>Casos activos probables</th>\n",
       "      <th>Casos nuevos sin notificar</th>\n",
       "    </tr>\n",
       "    <tr>\n",
       "      <th>Fecha</th>\n",
       "      <th></th>\n",
       "      <th></th>\n",
       "      <th></th>\n",
       "      <th></th>\n",
       "      <th></th>\n",
       "      <th></th>\n",
       "      <th></th>\n",
       "      <th></th>\n",
       "      <th></th>\n",
       "      <th></th>\n",
       "      <th></th>\n",
       "      <th></th>\n",
       "      <th></th>\n",
       "      <th></th>\n",
       "      <th></th>\n",
       "      <th></th>\n",
       "    </tr>\n",
       "  </thead>\n",
       "  <tbody>\n",
       "    <tr>\n",
       "      <th>2020-03-02</th>\n",
       "      <td>1.0</td>\n",
       "      <td>1.0</td>\n",
       "      <td>0.0</td>\n",
       "      <td>0.0</td>\n",
       "      <td>1.0</td>\n",
       "      <td>NaN</td>\n",
       "      <td>1.0</td>\n",
       "      <td>1.0</td>\n",
       "      <td>NaN</td>\n",
       "      <td>NaN</td>\n",
       "      <td>0.0</td>\n",
       "      <td>NaN</td>\n",
       "      <td>NaN</td>\n",
       "      <td>NaN</td>\n",
       "      <td>NaN</td>\n",
       "      <td>NaN</td>\n",
       "    </tr>\n",
       "    <tr>\n",
       "      <th>2020-03-03</th>\n",
       "      <td>0.0</td>\n",
       "      <td>1.0</td>\n",
       "      <td>0.0</td>\n",
       "      <td>0.0</td>\n",
       "      <td>1.0</td>\n",
       "      <td>NaN</td>\n",
       "      <td>0.0</td>\n",
       "      <td>1.0</td>\n",
       "      <td>NaN</td>\n",
       "      <td>NaN</td>\n",
       "      <td>0.0</td>\n",
       "      <td>NaN</td>\n",
       "      <td>NaN</td>\n",
       "      <td>NaN</td>\n",
       "      <td>NaN</td>\n",
       "      <td>NaN</td>\n",
       "    </tr>\n",
       "  </tbody>\n",
       "</table>\n",
       "</div>"
      ],
      "text/plain": [
       "            Casos nuevos con sintomas  Casos totales  Casos recuperados  \\\n",
       "Fecha                                                                     \n",
       "2020-03-02                        1.0            1.0                0.0   \n",
       "2020-03-03                        0.0            1.0                0.0   \n",
       "\n",
       "            Fallecidos  Casos activos  Casos nuevos sin sintomas  \\\n",
       "Fecha                                                              \n",
       "2020-03-02         0.0            1.0                        NaN   \n",
       "2020-03-03         0.0            1.0                        NaN   \n",
       "\n",
       "            Casos nuevos totales  Casos activos por FD  Casos activos por FIS  \\\n",
       "Fecha                                                                           \n",
       "2020-03-02                   1.0                   1.0                    NaN   \n",
       "2020-03-03                   0.0                   1.0                    NaN   \n",
       "\n",
       "            Casos recuperados por FIS  Casos recuperados por FD  \\\n",
       "Fecha                                                             \n",
       "2020-03-02                        NaN                       0.0   \n",
       "2020-03-03                        NaN                       0.0   \n",
       "\n",
       "            Casos confirmados recuperados  Casos activos confirmados  \\\n",
       "Fecha                                                                  \n",
       "2020-03-02                            NaN                        NaN   \n",
       "2020-03-03                            NaN                        NaN   \n",
       "\n",
       "            Casos probables acumulados  Casos activos probables  \\\n",
       "Fecha                                                             \n",
       "2020-03-02                         NaN                      NaN   \n",
       "2020-03-03                         NaN                      NaN   \n",
       "\n",
       "            Casos nuevos sin notificar  \n",
       "Fecha                                   \n",
       "2020-03-02                         NaN  \n",
       "2020-03-03                         NaN  "
      ]
     },
     "execution_count": 77,
     "metadata": {},
     "output_type": "execute_result"
    }
   ],
   "source": [
    "#hide\n",
    "totales_covid19.head(2)"
   ]
  },
  {
   "cell_type": "code",
   "execution_count": 78,
   "metadata": {
    "scrolled": false
   },
   "outputs": [
    {
     "data": {
      "text/markdown": [
       "Fallecimientos confirmados por Covid-19 oficiales al 09/08: 10.077"
      ],
      "text/plain": [
       "<IPython.core.display.Markdown object>"
      ]
     },
     "metadata": {},
     "output_type": "display_data"
    }
   ],
   "source": [
    "#hide_input\n",
    "display(Markdown(f\"Fallecimientos confirmados por Covid-19 oficiales al {pd.to_datetime(date).strftime('%d/%m')}: {'{:,.0f}'.format(totales_covid19['Fallecidos'].loc[pd.to_datetime(date).strftime('%Y-%m-%d')]).replace(',', '.')}\"))"
   ]
  },
  {
   "cell_type": "code",
   "execution_count": 79,
   "metadata": {},
   "outputs": [],
   "source": [
    "#hide\n",
    "diff = (amended_deaths.loc[2020,12:current_week-1]-expected).sum() - totales_covid19['Fallecidos'].loc[pd.to_datetime(date).strftime('%Y-%m-%d')]"
   ]
  },
  {
   "cell_type": "code",
   "execution_count": 80,
   "metadata": {},
   "outputs": [
    {
     "data": {
      "text/markdown": [
       "Diferencia: -93"
      ],
      "text/plain": [
       "<IPython.core.display.Markdown object>"
      ]
     },
     "metadata": {},
     "output_type": "display_data"
    }
   ],
   "source": [
    "#hide_input\n",
    "display(Markdown(f\"Diferencia: {'{:,.0f}'.format(diff).replace(',', '.')}\"))"
   ]
  },
  {
   "cell_type": "code",
   "execution_count": 81,
   "metadata": {
    "colab": {},
    "colab_type": "code",
    "id": "3yhSSdR6jrPF"
   },
   "outputs": [],
   "source": [
    "#hide\n",
    "casos_raw = pd.read_csv(\n",
    "    \"https://raw.githubusercontent.com/MinCiencia/Datos-COVID19/master/output/producto3/CasosTotalesCumulativo.csv\",\n",
    "    index_col='Region')"
   ]
  },
  {
   "cell_type": "code",
   "execution_count": 82,
   "metadata": {
    "colab": {
     "base_uri": "https://localhost:8080/",
     "height": 225
    },
    "colab_type": "code",
    "id": "7K2JMgn8rrSJ",
    "outputId": "6109ead7-f2e3-4bbd-b135-2dd171864759"
   },
   "outputs": [
    {
     "data": {
      "text/plain": [
       "2020-03-03    0.0\n",
       "2020-03-04    1.0\n",
       "Name: Metropolitana, dtype: float64"
      ]
     },
     "execution_count": 82,
     "metadata": {},
     "output_type": "execute_result"
    }
   ],
   "source": [
    "#hide\n",
    "casos_raw.loc[\"Metropolitana\"].head(2)"
   ]
  },
  {
   "cell_type": "code",
   "execution_count": 83,
   "metadata": {
    "colab": {},
    "colab_type": "code",
    "id": "OrGpiFBKkBUo"
   },
   "outputs": [],
   "source": [
    "#hide\n",
    "deaths_raw = pd.read_csv(\"https://raw.githubusercontent.com/MinCiencia/Datos-COVID19/master/output/producto5/TotalesNacionales_T.csv\")"
   ]
  },
  {
   "cell_type": "code",
   "execution_count": 84,
   "metadata": {},
   "outputs": [
    {
     "data": {
      "text/html": [
       "<div>\n",
       "<style scoped>\n",
       "    .dataframe tbody tr th:only-of-type {\n",
       "        vertical-align: middle;\n",
       "    }\n",
       "\n",
       "    .dataframe tbody tr th {\n",
       "        vertical-align: top;\n",
       "    }\n",
       "\n",
       "    .dataframe thead th {\n",
       "        text-align: right;\n",
       "    }\n",
       "</style>\n",
       "<table border=\"1\" class=\"dataframe\">\n",
       "  <thead>\n",
       "    <tr style=\"text-align: right;\">\n",
       "      <th></th>\n",
       "      <th>Fecha</th>\n",
       "      <th>Casos nuevos con sintomas</th>\n",
       "      <th>Casos totales</th>\n",
       "      <th>Casos recuperados</th>\n",
       "      <th>Fallecidos</th>\n",
       "      <th>Casos activos</th>\n",
       "      <th>Casos nuevos sin sintomas</th>\n",
       "      <th>Casos nuevos totales</th>\n",
       "      <th>Casos activos por FD</th>\n",
       "      <th>Casos activos por FIS</th>\n",
       "      <th>Casos recuperados por FIS</th>\n",
       "      <th>Casos recuperados por FD</th>\n",
       "      <th>Casos confirmados recuperados</th>\n",
       "      <th>Casos activos confirmados</th>\n",
       "      <th>Casos probables acumulados</th>\n",
       "      <th>Casos activos probables</th>\n",
       "      <th>Casos nuevos sin notificar</th>\n",
       "    </tr>\n",
       "  </thead>\n",
       "  <tbody>\n",
       "    <tr>\n",
       "      <th>20</th>\n",
       "      <td>2020-03-22</td>\n",
       "      <td>95.0</td>\n",
       "      <td>632.0</td>\n",
       "      <td>8.0</td>\n",
       "      <td>1.0</td>\n",
       "      <td>623.0</td>\n",
       "      <td>NaN</td>\n",
       "      <td>95.0</td>\n",
       "      <td>623.0</td>\n",
       "      <td>NaN</td>\n",
       "      <td>NaN</td>\n",
       "      <td>8.0</td>\n",
       "      <td>NaN</td>\n",
       "      <td>NaN</td>\n",
       "      <td>NaN</td>\n",
       "      <td>NaN</td>\n",
       "      <td>NaN</td>\n",
       "    </tr>\n",
       "    <tr>\n",
       "      <th>21</th>\n",
       "      <td>2020-03-23</td>\n",
       "      <td>114.0</td>\n",
       "      <td>746.0</td>\n",
       "      <td>11.0</td>\n",
       "      <td>1.0</td>\n",
       "      <td>734.0</td>\n",
       "      <td>NaN</td>\n",
       "      <td>114.0</td>\n",
       "      <td>734.0</td>\n",
       "      <td>NaN</td>\n",
       "      <td>NaN</td>\n",
       "      <td>11.0</td>\n",
       "      <td>NaN</td>\n",
       "      <td>NaN</td>\n",
       "      <td>NaN</td>\n",
       "      <td>NaN</td>\n",
       "      <td>NaN</td>\n",
       "    </tr>\n",
       "  </tbody>\n",
       "</table>\n",
       "</div>"
      ],
      "text/plain": [
       "         Fecha  Casos nuevos con sintomas  Casos totales  Casos recuperados  \\\n",
       "20  2020-03-22                       95.0          632.0                8.0   \n",
       "21  2020-03-23                      114.0          746.0               11.0   \n",
       "\n",
       "    Fallecidos  Casos activos  Casos nuevos sin sintomas  \\\n",
       "20         1.0          623.0                        NaN   \n",
       "21         1.0          734.0                        NaN   \n",
       "\n",
       "    Casos nuevos totales  Casos activos por FD  Casos activos por FIS  \\\n",
       "20                  95.0                 623.0                    NaN   \n",
       "21                 114.0                 734.0                    NaN   \n",
       "\n",
       "    Casos recuperados por FIS  Casos recuperados por FD  \\\n",
       "20                        NaN                       8.0   \n",
       "21                        NaN                      11.0   \n",
       "\n",
       "    Casos confirmados recuperados  Casos activos confirmados  \\\n",
       "20                            NaN                        NaN   \n",
       "21                            NaN                        NaN   \n",
       "\n",
       "    Casos probables acumulados  Casos activos probables  \\\n",
       "20                         NaN                      NaN   \n",
       "21                         NaN                      NaN   \n",
       "\n",
       "    Casos nuevos sin notificar  \n",
       "20                         NaN  \n",
       "21                         NaN  "
      ]
     },
     "execution_count": 84,
     "metadata": {},
     "output_type": "execute_result"
    }
   ],
   "source": [
    "#hide\n",
    "deaths_raw[deaths_raw[\"Fallecidos\"]>0].head(2)"
   ]
  },
  {
   "cell_type": "code",
   "execution_count": 85,
   "metadata": {},
   "outputs": [
    {
     "data": {
      "text/plain": [
       "12"
      ]
     },
     "execution_count": 85,
     "metadata": {},
     "output_type": "execute_result"
    }
   ],
   "source": [
    "#hide\n",
    "_, week_first_death, _ = pd.to_datetime(\"2020-03-22\").isocalendar()\n",
    "week_first_death"
   ]
  },
  {
   "cell_type": "code",
   "execution_count": 86,
   "metadata": {
    "colab": {},
    "colab_type": "code",
    "id": "PFZfMsZDkfxU"
   },
   "outputs": [],
   "source": [
    "#hide\n",
    "data = pd.DataFrame()\n",
    "data_raw = pd.read_csv(\n",
    "    \"https://raw.githubusercontent.com/MinCiencia/Datos-COVID19/master/output/producto4/2020-03-24-CasosConfirmados-totalRegional.csv\",\n",
    "    index_col='Region')\n",
    "data['2020-03-24'] = data_raw['Fallecidos']"
   ]
  },
  {
   "cell_type": "code",
   "execution_count": 87,
   "metadata": {},
   "outputs": [
    {
     "data": {
      "text/plain": [
       "'2020-08-13'"
      ]
     },
     "execution_count": 87,
     "metadata": {},
     "output_type": "execute_result"
    }
   ],
   "source": [
    "#hide\n",
    "update_date = pd.to_datetime('today') - pd.offsets.Hour(19)\n",
    "today = update_date.strftime('%Y-%m-%d')\n",
    "today"
   ]
  },
  {
   "cell_type": "code",
   "execution_count": 88,
   "metadata": {
    "colab": {},
    "colab_type": "code",
    "id": "XWCSiMSqlIZe"
   },
   "outputs": [],
   "source": [
    "#hide\n",
    "first_death_date = '2020-03-24'\n",
    "total_days = (pd.to_datetime(today)-pd.to_datetime(first_death_date)).days"
   ]
  },
  {
   "cell_type": "code",
   "execution_count": 89,
   "metadata": {
    "colab": {},
    "colab_type": "code",
    "id": "ye1c15eRlfsH"
   },
   "outputs": [],
   "source": [
    "#hide\n",
    "# s = \"https://raw.githubusercontent.com/MinCiencia/Datos-COVID19/master/output/producto4/\" + date + \"-CasosConfirmados-totalRegional.csv\"\n",
    "# data_by_date = pd.read_csv(s)\n",
    "# idx_fallecidos = [i for i, x in enumerate(data_by_date.columns.str.contains(\"Fallecidos\", case=False)) if x]"
   ]
  },
  {
   "cell_type": "code",
   "execution_count": 90,
   "metadata": {
    "colab": {},
    "colab_type": "code",
    "id": "ub1SmBWflMAN",
    "scrolled": false
   },
   "outputs": [],
   "source": [
    "#hide\n",
    "for i in np.arange(total_days+1):\n",
    "    date = (pd.to_datetime(first_death_date)+pd.DateOffset(i)).strftime('%Y-%m-%d')\n",
    "#     print(f'{date}')\n",
    "    s = \"https://raw.githubusercontent.com/MinCiencia/Datos-COVID19/master/output/producto4/\" + date + \"-CasosConfirmados-totalRegional.csv\"\n",
    "    data_by_date = pd.read_csv(s)\n",
    "    if 'Fallecidos' in data_by_date.columns:\n",
    "        data[date] = data_by_date[\"Fallecidos\"].values\n",
    "    elif 'Casos fallecidos' in data_by_date.columns:\n",
    "        data[date] = data_by_date[\"Casos fallecidos\"].values\n",
    "    elif 'Fallecidos totales' in data_by_date.columns:\n",
    "        if 'Se desconoce región de origen' in data_by_date[\"Region\"].unique():\n",
    "            data_by_date = data_by_date.set_index(\"Region\").drop(\"Se desconoce región de origen\").reset_index()\n",
    "            data[date] = data_by_date[\"Fallecidos totales\"].values\n",
    "        else:\n",
    "            data[date] = data_by_date[\"Fallecidos totales\"].values\n",
    "    elif 'Fallecidos totales ' in data_by_date.columns:\n",
    "        data[date] = data_by_date[\"Fallecidos totales \"].values\n",
    "    else:\n",
    "        data[date] = data_by_date[\" Casos fallecidos\"].values"
   ]
  },
  {
   "cell_type": "markdown",
   "metadata": {},
   "source": [
    "# Exceso de mortalidad en R.M."
   ]
  },
  {
   "cell_type": "code",
   "execution_count": 91,
   "metadata": {
    "scrolled": true
   },
   "outputs": [],
   "source": [
    "#hide\n",
    "deaths_raw = pd.read_csv(\n",
    "    \"https://raw.githubusercontent.com/MinCiencia/Datos-COVID19/master/output/producto32/Defunciones.csv\")"
   ]
  },
  {
   "cell_type": "code",
   "execution_count": 92,
   "metadata": {},
   "outputs": [],
   "source": [
    "#hide\n",
    "# Defunciones inscritas en la R.M.\n",
    "deaths = deaths_raw.query(\"Region == 'Metropolitana de Santiago'\").drop(columns=[\"Region\", \"Codigo region\", \"Comuna\", \"Codigo comuna\"]).sum()"
   ]
  },
  {
   "cell_type": "code",
   "execution_count": 93,
   "metadata": {
    "colab": {
     "base_uri": "https://localhost:8080/",
     "height": 34
    },
    "colab_type": "code",
    "id": "LdPJZBSiVsaQ",
    "outputId": "8e954194-4a07-43b9-b7f1-708de285e406"
   },
   "outputs": [
    {
     "data": {
      "text/plain": [
       "'2020-08-13'"
      ]
     },
     "execution_count": 93,
     "metadata": {},
     "output_type": "execute_result"
    }
   ],
   "source": [
    "#hide\n",
    "# sort rows by date/index\n",
    "deaths.index = pd.to_datetime(deaths.index)\n",
    "deaths = deaths.sort_index()\n",
    "last_day = deaths.index[-1]\n",
    "last_day.strftime(\"%Y-%m-%d\")"
   ]
  },
  {
   "cell_type": "code",
   "execution_count": 94,
   "metadata": {
    "colab": {},
    "colab_type": "code",
    "id": "PUH-w_ftbA1j"
   },
   "outputs": [],
   "source": [
    "#hide\n",
    "deaths = (deaths\n",
    "          .reset_index()\n",
    "          .rename(columns={\"index\": \"fecha\", 0: \"fallecidos\"})\n",
    "          )"
   ]
  },
  {
   "cell_type": "code",
   "execution_count": 95,
   "metadata": {
    "colab": {},
    "colab_type": "code",
    "id": "d1lY2mLvbidc"
   },
   "outputs": [],
   "source": [
    "#hide\n",
    "def get_isoyear_isoweek(row):\n",
    "    isoyear, isoweek, _ = row[\"fecha\"].isocalendar()\n",
    "    return pd.Series({\"año\": isoyear, \"semana\": isoweek})"
   ]
  },
  {
   "cell_type": "code",
   "execution_count": 96,
   "metadata": {
    "colab": {},
    "colab_type": "code",
    "id": "JePVFAVAb72z"
   },
   "outputs": [],
   "source": [
    "#hide\n",
    "deaths[[\"año\", \"semana\"]] = deaths.apply(get_isoyear_isoweek, axis=\"columns\")"
   ]
  },
  {
   "cell_type": "code",
   "execution_count": 97,
   "metadata": {
    "colab": {},
    "colab_type": "code",
    "id": "yhZw2DjScERS"
   },
   "outputs": [],
   "source": [
    "#hide\n",
    "deaths_year_week = (deaths\n",
    "                    .drop(columns=[\"fecha\"])\n",
    "                    .groupby([\"año\", \"semana\"])\n",
    "                    .sum()\n",
    "                    [\"fallecidos\"]\n",
    "                    .unstack()\n",
    "                    .astype(\"Float16\")\n",
    "                    )"
   ]
  },
  {
   "cell_type": "code",
   "execution_count": 98,
   "metadata": {},
   "outputs": [],
   "source": [
    "#hide\n",
    "deaths_year_week = deaths_year_week.drop(2009)\n",
    "deaths_year_week = deaths_year_week.drop(columns=53)"
   ]
  },
  {
   "cell_type": "code",
   "execution_count": 99,
   "metadata": {},
   "outputs": [
    {
     "data": {
      "text/plain": [
       "semana\n",
       "1      825.0\n",
       "2      784.0\n",
       "3      751.0\n",
       "4      724.0\n",
       "5      767.0\n",
       "6      683.0\n",
       "7      706.0\n",
       "8      621.0\n",
       "9      639.0\n",
       "10     807.0\n",
       "11     717.0\n",
       "12     719.0\n",
       "13     709.0\n",
       "14     754.0\n",
       "15     787.0\n",
       "16     779.0\n",
       "17     790.0\n",
       "18     744.0\n",
       "19     952.0\n",
       "20    1098.0\n",
       "21    1379.0\n",
       "22    1963.0\n",
       "23    2246.0\n",
       "24    2356.0\n",
       "25    2216.0\n",
       "26    1908.0\n",
       "27    1531.0\n",
       "28    1391.0\n",
       "29    1211.0\n",
       "30    1165.0\n",
       "31    1054.0\n",
       "32     983.0\n",
       "33     422.0\n",
       "34       NaN\n",
       "35       NaN\n",
       "36       NaN\n",
       "37       NaN\n",
       "38       NaN\n",
       "39       NaN\n",
       "40       NaN\n",
       "41       NaN\n",
       "42       NaN\n",
       "43       NaN\n",
       "44       NaN\n",
       "45       NaN\n",
       "46       NaN\n",
       "47       NaN\n",
       "48       NaN\n",
       "49       NaN\n",
       "50       NaN\n",
       "51       NaN\n",
       "52       NaN\n",
       "Name: 2020, dtype: float16"
      ]
     },
     "execution_count": 99,
     "metadata": {},
     "output_type": "execute_result"
    }
   ],
   "source": [
    "#hide\n",
    "deaths_year_week.loc[2020]"
   ]
  },
  {
   "cell_type": "code",
   "execution_count": 100,
   "metadata": {},
   "outputs": [],
   "source": [
    "#hide\n",
    "# Ignore data from current week\n",
    "deaths_year_week.loc[2020,current_week] = np.NaN"
   ]
  },
  {
   "cell_type": "code",
   "execution_count": 101,
   "metadata": {},
   "outputs": [],
   "source": [
    "#hide\n",
    "expected = deaths_year_week.loc[2015:2019].mean()"
   ]
  },
  {
   "cell_type": "code",
   "execution_count": 102,
   "metadata": {},
   "outputs": [],
   "source": [
    "#hide\n",
    "ci = deaths_year_week.loc[2015:2019].std(ddof=1)"
   ]
  },
  {
   "cell_type": "code",
   "execution_count": 103,
   "metadata": {},
   "outputs": [],
   "source": [
    "#hide\n",
    "df_expected = pd.DataFrame()\n",
    "df_expected[\"Expected\"] = expected\n",
    "df_expected[\"lower\"] = expected - ci\n",
    "df_expected[\"upper\"] = expected + ci\n",
    "df_expected[\"lower 2\"] = expected - 2*ci\n",
    "df_expected[\"upper 2\"] = expected + 2*ci"
   ]
  },
  {
   "cell_type": "code",
   "execution_count": 104,
   "metadata": {
    "scrolled": true
   },
   "outputs": [
    {
     "data": {
      "text/html": [
       "<div>\n",
       "<style scoped>\n",
       "    .dataframe tbody tr th:only-of-type {\n",
       "        vertical-align: middle;\n",
       "    }\n",
       "\n",
       "    .dataframe tbody tr th {\n",
       "        vertical-align: top;\n",
       "    }\n",
       "\n",
       "    .dataframe thead th {\n",
       "        text-align: right;\n",
       "    }\n",
       "</style>\n",
       "<table border=\"1\" class=\"dataframe\">\n",
       "  <thead>\n",
       "    <tr style=\"text-align: right;\">\n",
       "      <th></th>\n",
       "      <th>Expected</th>\n",
       "      <th>lower</th>\n",
       "      <th>upper</th>\n",
       "      <th>lower 2</th>\n",
       "      <th>upper 2</th>\n",
       "    </tr>\n",
       "    <tr>\n",
       "      <th>semana</th>\n",
       "      <th></th>\n",
       "      <th></th>\n",
       "      <th></th>\n",
       "      <th></th>\n",
       "      <th></th>\n",
       "    </tr>\n",
       "  </thead>\n",
       "  <tbody>\n",
       "    <tr>\n",
       "      <th>20</th>\n",
       "      <td>809.5</td>\n",
       "      <td>754.0</td>\n",
       "      <td>865.0</td>\n",
       "      <td>699.0</td>\n",
       "      <td>920.0</td>\n",
       "    </tr>\n",
       "    <tr>\n",
       "      <th>21</th>\n",
       "      <td>811.0</td>\n",
       "      <td>755.5</td>\n",
       "      <td>866.5</td>\n",
       "      <td>700.5</td>\n",
       "      <td>921.5</td>\n",
       "    </tr>\n",
       "    <tr>\n",
       "      <th>22</th>\n",
       "      <td>853.0</td>\n",
       "      <td>817.5</td>\n",
       "      <td>888.5</td>\n",
       "      <td>781.5</td>\n",
       "      <td>924.5</td>\n",
       "    </tr>\n",
       "    <tr>\n",
       "      <th>23</th>\n",
       "      <td>874.5</td>\n",
       "      <td>795.0</td>\n",
       "      <td>954.0</td>\n",
       "      <td>715.5</td>\n",
       "      <td>1033.0</td>\n",
       "    </tr>\n",
       "    <tr>\n",
       "      <th>24</th>\n",
       "      <td>920.0</td>\n",
       "      <td>816.0</td>\n",
       "      <td>1024.0</td>\n",
       "      <td>712.5</td>\n",
       "      <td>1128.0</td>\n",
       "    </tr>\n",
       "  </tbody>\n",
       "</table>\n",
       "</div>"
      ],
      "text/plain": [
       "        Expected  lower   upper  lower 2  upper 2\n",
       "semana                                           \n",
       "20         809.5  754.0   865.0    699.0    920.0\n",
       "21         811.0  755.5   866.5    700.5    921.5\n",
       "22         853.0  817.5   888.5    781.5    924.5\n",
       "23         874.5  795.0   954.0    715.5   1033.0\n",
       "24         920.0  816.0  1024.0    712.5   1128.0"
      ]
     },
     "execution_count": 104,
     "metadata": {},
     "output_type": "execute_result"
    }
   ],
   "source": [
    "#hide\n",
    "df_expected.loc[20:24]"
   ]
  },
  {
   "cell_type": "code",
   "execution_count": 105,
   "metadata": {},
   "outputs": [],
   "source": [
    "#hide\n",
    "deaths_year_week = deaths_year_week.T\n",
    "deaths_year_week[\"Promedio últimos 5 años\"] = expected\n",
    "deaths_year_week = deaths_year_week.T"
   ]
  },
  {
   "cell_type": "code",
   "execution_count": 106,
   "metadata": {
    "scrolled": false
   },
   "outputs": [
    {
     "data": {
      "text/html": [
       "\n",
       "<div id=\"altair-viz-a060d37c28da48579682ceb144eb5c92\"></div>\n",
       "<script type=\"text/javascript\">\n",
       "  (function(spec, embedOpt){\n",
       "    let outputDiv = document.currentScript.previousElementSibling;\n",
       "    if (outputDiv.id !== \"altair-viz-a060d37c28da48579682ceb144eb5c92\") {\n",
       "      outputDiv = document.getElementById(\"altair-viz-a060d37c28da48579682ceb144eb5c92\");\n",
       "    }\n",
       "    const paths = {\n",
       "      \"vega\": \"https://cdn.jsdelivr.net/npm//vega@5?noext\",\n",
       "      \"vega-lib\": \"https://cdn.jsdelivr.net/npm//vega-lib?noext\",\n",
       "      \"vega-lite\": \"https://cdn.jsdelivr.net/npm//vega-lite@4.8.1?noext\",\n",
       "      \"vega-embed\": \"https://cdn.jsdelivr.net/npm//vega-embed@6?noext\",\n",
       "    };\n",
       "\n",
       "    function loadScript(lib) {\n",
       "      return new Promise(function(resolve, reject) {\n",
       "        var s = document.createElement('script');\n",
       "        s.src = paths[lib];\n",
       "        s.async = true;\n",
       "        s.onload = () => resolve(paths[lib]);\n",
       "        s.onerror = () => reject(`Error loading script: ${paths[lib]}`);\n",
       "        document.getElementsByTagName(\"head\")[0].appendChild(s);\n",
       "      });\n",
       "    }\n",
       "\n",
       "    function showError(err) {\n",
       "      outputDiv.innerHTML = `<div class=\"error\" style=\"color:red;\">${err}</div>`;\n",
       "      throw err;\n",
       "    }\n",
       "\n",
       "    function displayChart(vegaEmbed) {\n",
       "      vegaEmbed(outputDiv, spec, embedOpt)\n",
       "        .catch(err => showError(`Javascript Error: ${err.message}<br>This usually means there's a typo in your chart specification. See the javascript console for the full traceback.`));\n",
       "    }\n",
       "\n",
       "    if(typeof define === \"function\" && define.amd) {\n",
       "      requirejs.config({paths});\n",
       "      require([\"vega-embed\"], displayChart, err => showError(`Error loading script: ${err.message}`));\n",
       "    } else if (typeof vegaEmbed === \"function\") {\n",
       "      displayChart(vegaEmbed);\n",
       "    } else {\n",
       "      loadScript(\"vega\")\n",
       "        .then(() => loadScript(\"vega-lite\"))\n",
       "        .then(() => loadScript(\"vega-embed\"))\n",
       "        .catch(showError)\n",
       "        .then(() => displayChart(vegaEmbed));\n",
       "    }\n",
       "  })({\"config\": {\"view\": {\"continuousWidth\": 400, \"continuousHeight\": 300}}, \"layer\": [{\"data\": {\"name\": \"data-6564d18080e9ed59aca9c8c5ecdf89f8\"}, \"mark\": {\"type\": \"line\", \"point\": true}, \"encoding\": {\"color\": {\"type\": \"nominal\", \"field\": \"a\\u00f1o\", \"scale\": {\"domain\": [\"2015\", \"2016\", \"2017\", \"2018\", \"2019\", \"2020\", \"Promedio \\u00faltimos 5 a\\u00f1os\"], \"range\": [\"lightgray\", \"lightgray\", \"lightgray\", \"lightgray\", \"lightgray\", \"red\", \"blue\"]}}, \"x\": {\"type\": \"quantitative\", \"field\": \"semana\", \"scale\": {\"domain\": [1, 52]}}, \"y\": {\"type\": \"quantitative\", \"field\": \"defunciones\", \"scale\": {\"domain\": [0, 2500]}}}}, {\"data\": {\"name\": \"data-899c04c091211f5f13ff1924aff6e121\"}, \"mark\": {\"type\": \"area\", \"opacity\": 0.5}, \"encoding\": {\"x\": {\"type\": \"quantitative\", \"field\": \"semana\", \"scale\": {\"domain\": [1, 52]}}, \"y\": {\"type\": \"quantitative\", \"axis\": {\"title\": \"defunciones\"}, \"field\": \"lower\"}, \"y2\": {\"field\": \"upper\"}}}, {\"data\": {\"name\": \"data-899c04c091211f5f13ff1924aff6e121\"}, \"mark\": {\"type\": \"area\", \"opacity\": 0.3}, \"encoding\": {\"x\": {\"type\": \"quantitative\", \"field\": \"semana\", \"scale\": {\"domain\": [1, 52]}}, \"y\": {\"type\": \"quantitative\", \"field\": \"lower 2\"}, \"y2\": {\"field\": \"upper 2\"}}}, {\"mark\": {\"type\": \"rule\", \"color\": \"#aaa\"}, \"encoding\": {\"x\": {\"type\": \"quantitative\", \"axis\": {\"title\": \"semana\"}, \"field\": \"semana\", \"scale\": {\"domain\": [1, 52]}, \"sort\": null}}, \"transform\": [{\"filter\": {\"selection\": \"selector003\"}}]}, {\"data\": {\"name\": \"data-6564d18080e9ed59aca9c8c5ecdf89f8\"}, \"mark\": \"circle\", \"encoding\": {\"color\": {\"type\": \"nominal\", \"field\": \"a\\u00f1o\", \"scale\": {\"domain\": [\"2015\", \"2016\", \"2017\", \"2018\", \"2019\", \"2020\", \"Promedio \\u00faltimos 5 a\\u00f1os\"], \"range\": [\"lightgray\", \"lightgray\", \"lightgray\", \"lightgray\", \"lightgray\", \"red\", \"blue\"]}}, \"opacity\": {\"condition\": {\"value\": 1, \"selection\": \"selector003\"}, \"value\": 0}, \"x\": {\"type\": \"quantitative\", \"field\": \"semana\", \"scale\": {\"domain\": [1, 52]}}, \"y\": {\"type\": \"quantitative\", \"field\": \"defunciones\", \"scale\": {\"domain\": [0, 2500]}}}, \"selection\": {\"selector003\": {\"type\": \"single\", \"encodings\": [\"x\"], \"on\": \"mouseover\", \"nearest\": true, \"empty\": \"none\"}}}, {\"data\": {\"name\": \"data-6564d18080e9ed59aca9c8c5ecdf89f8\"}, \"mark\": {\"type\": \"text\", \"align\": \"left\", \"dx\": 5, \"dy\": -5, \"stroke\": \"white\", \"strokeWidth\": 2}, \"encoding\": {\"color\": {\"type\": \"nominal\", \"field\": \"a\\u00f1o\", \"scale\": {\"domain\": [\"2015\", \"2016\", \"2017\", \"2018\", \"2019\", \"2020\", \"Promedio \\u00faltimos 5 a\\u00f1os\"], \"range\": [\"lightgray\", \"lightgray\", \"lightgray\", \"lightgray\", \"lightgray\", \"red\", \"blue\"]}}, \"text\": {\"type\": \"quantitative\", \"field\": \"defunciones\"}, \"x\": {\"type\": \"quantitative\", \"field\": \"semana\", \"scale\": {\"domain\": [1, 52]}}, \"y\": {\"type\": \"quantitative\", \"field\": \"defunciones\", \"scale\": {\"domain\": [0, 2500]}}}, \"transform\": [{\"filter\": {\"selection\": \"selector003\"}}]}, {\"data\": {\"name\": \"data-6564d18080e9ed59aca9c8c5ecdf89f8\"}, \"mark\": {\"type\": \"text\", \"align\": \"left\", \"dx\": 5, \"dy\": -5}, \"encoding\": {\"color\": {\"type\": \"nominal\", \"field\": \"a\\u00f1o\", \"scale\": {\"domain\": [\"2015\", \"2016\", \"2017\", \"2018\", \"2019\", \"2020\", \"Promedio \\u00faltimos 5 a\\u00f1os\"], \"range\": [\"lightgray\", \"lightgray\", \"lightgray\", \"lightgray\", \"lightgray\", \"red\", \"blue\"]}}, \"text\": {\"type\": \"quantitative\", \"field\": \"defunciones\"}, \"x\": {\"type\": \"quantitative\", \"field\": \"semana\", \"scale\": {\"domain\": [1, 52]}}, \"y\": {\"type\": \"quantitative\", \"field\": \"defunciones\", \"scale\": {\"domain\": [0, 2500]}}}, \"transform\": [{\"filter\": {\"selection\": \"selector003\"}}]}], \"data\": {\"name\": \"data-6564d18080e9ed59aca9c8c5ecdf89f8\"}, \"title\": \"Defunciones inscritas en la R.M. por semana (sin corregir) hasta semana 32\", \"width\": 600, \"$schema\": \"https://vega.github.io/schema/vega-lite/v4.8.1.json\", \"datasets\": {\"data-6564d18080e9ed59aca9c8c5ecdf89f8\": [{\"a\\u00f1o\": 2015, \"semana\": 1, \"defunciones\": 681.0}, {\"a\\u00f1o\": 2016, \"semana\": 1, \"defunciones\": 788.0}, {\"a\\u00f1o\": 2017, \"semana\": 1, \"defunciones\": 754.0}, {\"a\\u00f1o\": 2018, \"semana\": 1, \"defunciones\": 669.0}, {\"a\\u00f1o\": 2019, \"semana\": 1, \"defunciones\": 733.0}, {\"a\\u00f1o\": 2020, \"semana\": 1, \"defunciones\": 825.0}, {\"a\\u00f1o\": \"Promedio \\u00faltimos 5 a\\u00f1os\", \"semana\": 1, \"defunciones\": 725.0}, {\"a\\u00f1o\": 2015, \"semana\": 2, \"defunciones\": 749.0}, {\"a\\u00f1o\": 2016, \"semana\": 2, \"defunciones\": 730.0}, {\"a\\u00f1o\": 2017, \"semana\": 2, \"defunciones\": 677.0}, {\"a\\u00f1o\": 2018, \"semana\": 2, \"defunciones\": 691.0}, {\"a\\u00f1o\": 2019, \"semana\": 2, \"defunciones\": 678.0}, {\"a\\u00f1o\": 2020, \"semana\": 2, \"defunciones\": 784.0}, {\"a\\u00f1o\": \"Promedio \\u00faltimos 5 a\\u00f1os\", \"semana\": 2, \"defunciones\": 705.0}, {\"a\\u00f1o\": 2015, \"semana\": 3, \"defunciones\": 715.0}, {\"a\\u00f1o\": 2016, \"semana\": 3, \"defunciones\": 720.0}, {\"a\\u00f1o\": 2017, \"semana\": 3, \"defunciones\": 760.0}, {\"a\\u00f1o\": 2018, \"semana\": 3, \"defunciones\": 614.0}, {\"a\\u00f1o\": 2019, \"semana\": 3, \"defunciones\": 668.0}, {\"a\\u00f1o\": 2020, \"semana\": 3, \"defunciones\": 751.0}, {\"a\\u00f1o\": \"Promedio \\u00faltimos 5 a\\u00f1os\", \"semana\": 3, \"defunciones\": 695.5}, {\"a\\u00f1o\": 2015, \"semana\": 4, \"defunciones\": 622.0}, {\"a\\u00f1o\": 2016, \"semana\": 4, \"defunciones\": 693.0}, {\"a\\u00f1o\": 2017, \"semana\": 4, \"defunciones\": 812.0}, {\"a\\u00f1o\": 2018, \"semana\": 4, \"defunciones\": 593.0}, {\"a\\u00f1o\": 2019, \"semana\": 4, \"defunciones\": 742.0}, {\"a\\u00f1o\": 2020, \"semana\": 4, \"defunciones\": 724.0}, {\"a\\u00f1o\": \"Promedio \\u00faltimos 5 a\\u00f1os\", \"semana\": 4, \"defunciones\": 692.5}, {\"a\\u00f1o\": 2015, \"semana\": 5, \"defunciones\": 673.0}, {\"a\\u00f1o\": 2016, \"semana\": 5, \"defunciones\": 662.0}, {\"a\\u00f1o\": 2017, \"semana\": 5, \"defunciones\": 760.0}, {\"a\\u00f1o\": 2018, \"semana\": 5, \"defunciones\": 685.0}, {\"a\\u00f1o\": 2019, \"semana\": 5, \"defunciones\": 779.0}, {\"a\\u00f1o\": 2020, \"semana\": 5, \"defunciones\": 767.0}, {\"a\\u00f1o\": \"Promedio \\u00faltimos 5 a\\u00f1os\", \"semana\": 5, \"defunciones\": 712.0}, {\"a\\u00f1o\": 2015, \"semana\": 6, \"defunciones\": 699.0}, {\"a\\u00f1o\": 2016, \"semana\": 6, \"defunciones\": 609.0}, {\"a\\u00f1o\": 2017, \"semana\": 6, \"defunciones\": 661.0}, {\"a\\u00f1o\": 2018, \"semana\": 6, \"defunciones\": 701.0}, {\"a\\u00f1o\": 2019, \"semana\": 6, \"defunciones\": 757.0}, {\"a\\u00f1o\": 2020, \"semana\": 6, \"defunciones\": 683.0}, {\"a\\u00f1o\": \"Promedio \\u00faltimos 5 a\\u00f1os\", \"semana\": 6, \"defunciones\": 685.5}, {\"a\\u00f1o\": 2015, \"semana\": 7, \"defunciones\": 706.0}, {\"a\\u00f1o\": 2016, \"semana\": 7, \"defunciones\": 663.0}, {\"a\\u00f1o\": 2017, \"semana\": 7, \"defunciones\": 667.0}, {\"a\\u00f1o\": 2018, \"semana\": 7, \"defunciones\": 696.0}, {\"a\\u00f1o\": 2019, \"semana\": 7, \"defunciones\": 705.0}, {\"a\\u00f1o\": 2020, \"semana\": 7, \"defunciones\": 706.0}, {\"a\\u00f1o\": \"Promedio \\u00faltimos 5 a\\u00f1os\", \"semana\": 7, \"defunciones\": 687.0}, {\"a\\u00f1o\": 2015, \"semana\": 8, \"defunciones\": 685.0}, {\"a\\u00f1o\": 2016, \"semana\": 8, \"defunciones\": 714.0}, {\"a\\u00f1o\": 2017, \"semana\": 8, \"defunciones\": 721.0}, {\"a\\u00f1o\": 2018, \"semana\": 8, \"defunciones\": 687.0}, {\"a\\u00f1o\": 2019, \"semana\": 8, \"defunciones\": 674.0}, {\"a\\u00f1o\": 2020, \"semana\": 8, \"defunciones\": 621.0}, {\"a\\u00f1o\": \"Promedio \\u00faltimos 5 a\\u00f1os\", \"semana\": 8, \"defunciones\": 696.5}, {\"a\\u00f1o\": 2015, \"semana\": 9, \"defunciones\": 618.0}, {\"a\\u00f1o\": 2016, \"semana\": 9, \"defunciones\": 729.0}, {\"a\\u00f1o\": 2017, \"semana\": 9, \"defunciones\": 685.0}, {\"a\\u00f1o\": 2018, \"semana\": 9, \"defunciones\": 620.0}, {\"a\\u00f1o\": 2019, \"semana\": 9, \"defunciones\": 720.0}, {\"a\\u00f1o\": 2020, \"semana\": 9, \"defunciones\": 639.0}, {\"a\\u00f1o\": \"Promedio \\u00faltimos 5 a\\u00f1os\", \"semana\": 9, \"defunciones\": 674.5}, {\"a\\u00f1o\": 2015, \"semana\": 10, \"defunciones\": 645.0}, {\"a\\u00f1o\": 2016, \"semana\": 10, \"defunciones\": 655.0}, {\"a\\u00f1o\": 2017, \"semana\": 10, \"defunciones\": 643.0}, {\"a\\u00f1o\": 2018, \"semana\": 10, \"defunciones\": 726.0}, {\"a\\u00f1o\": 2019, \"semana\": 10, \"defunciones\": 656.0}, {\"a\\u00f1o\": 2020, \"semana\": 10, \"defunciones\": 807.0}, {\"a\\u00f1o\": \"Promedio \\u00faltimos 5 a\\u00f1os\", \"semana\": 10, \"defunciones\": 665.0}, {\"a\\u00f1o\": 2015, \"semana\": 11, \"defunciones\": 703.0}, {\"a\\u00f1o\": 2016, \"semana\": 11, \"defunciones\": 623.0}, {\"a\\u00f1o\": 2017, \"semana\": 11, \"defunciones\": 661.0}, {\"a\\u00f1o\": 2018, \"semana\": 11, \"defunciones\": 681.0}, {\"a\\u00f1o\": 2019, \"semana\": 11, \"defunciones\": 711.0}, {\"a\\u00f1o\": 2020, \"semana\": 11, \"defunciones\": 717.0}, {\"a\\u00f1o\": \"Promedio \\u00faltimos 5 a\\u00f1os\", \"semana\": 11, \"defunciones\": 676.0}, {\"a\\u00f1o\": 2015, \"semana\": 12, \"defunciones\": 669.0}, {\"a\\u00f1o\": 2016, \"semana\": 12, \"defunciones\": 675.0}, {\"a\\u00f1o\": 2017, \"semana\": 12, \"defunciones\": 666.0}, {\"a\\u00f1o\": 2018, \"semana\": 12, \"defunciones\": 700.0}, {\"a\\u00f1o\": 2019, \"semana\": 12, \"defunciones\": 742.0}, {\"a\\u00f1o\": 2020, \"semana\": 12, \"defunciones\": 719.0}, {\"a\\u00f1o\": \"Promedio \\u00faltimos 5 a\\u00f1os\", \"semana\": 12, \"defunciones\": 690.5}, {\"a\\u00f1o\": 2015, \"semana\": 13, \"defunciones\": 667.0}, {\"a\\u00f1o\": 2016, \"semana\": 13, \"defunciones\": 644.0}, {\"a\\u00f1o\": 2017, \"semana\": 13, \"defunciones\": 692.0}, {\"a\\u00f1o\": 2018, \"semana\": 13, \"defunciones\": 727.0}, {\"a\\u00f1o\": 2019, \"semana\": 13, \"defunciones\": 682.0}, {\"a\\u00f1o\": 2020, \"semana\": 13, \"defunciones\": 709.0}, {\"a\\u00f1o\": \"Promedio \\u00faltimos 5 a\\u00f1os\", \"semana\": 13, \"defunciones\": 682.5}, {\"a\\u00f1o\": 2015, \"semana\": 14, \"defunciones\": 649.0}, {\"a\\u00f1o\": 2016, \"semana\": 14, \"defunciones\": 700.0}, {\"a\\u00f1o\": 2017, \"semana\": 14, \"defunciones\": 728.0}, {\"a\\u00f1o\": 2018, \"semana\": 14, \"defunciones\": 709.0}, {\"a\\u00f1o\": 2019, \"semana\": 14, \"defunciones\": 748.0}, {\"a\\u00f1o\": 2020, \"semana\": 14, \"defunciones\": 754.0}, {\"a\\u00f1o\": \"Promedio \\u00faltimos 5 a\\u00f1os\", \"semana\": 14, \"defunciones\": 706.5}, {\"a\\u00f1o\": 2015, \"semana\": 15, \"defunciones\": 668.0}, {\"a\\u00f1o\": 2016, \"semana\": 15, \"defunciones\": 733.0}, {\"a\\u00f1o\": 2017, \"semana\": 15, \"defunciones\": 744.0}, {\"a\\u00f1o\": 2018, \"semana\": 15, \"defunciones\": 724.0}, {\"a\\u00f1o\": 2019, \"semana\": 15, \"defunciones\": 726.0}, {\"a\\u00f1o\": 2020, \"semana\": 15, \"defunciones\": 787.0}, {\"a\\u00f1o\": \"Promedio \\u00faltimos 5 a\\u00f1os\", \"semana\": 15, \"defunciones\": 719.0}, {\"a\\u00f1o\": 2015, \"semana\": 16, \"defunciones\": 661.0}, {\"a\\u00f1o\": 2016, \"semana\": 16, \"defunciones\": 758.0}, {\"a\\u00f1o\": 2017, \"semana\": 16, \"defunciones\": 745.0}, {\"a\\u00f1o\": 2018, \"semana\": 16, \"defunciones\": 722.0}, {\"a\\u00f1o\": 2019, \"semana\": 16, \"defunciones\": 804.0}, {\"a\\u00f1o\": 2020, \"semana\": 16, \"defunciones\": 779.0}, {\"a\\u00f1o\": \"Promedio \\u00faltimos 5 a\\u00f1os\", \"semana\": 16, \"defunciones\": 738.0}, {\"a\\u00f1o\": 2015, \"semana\": 17, \"defunciones\": 740.0}, {\"a\\u00f1o\": 2016, \"semana\": 17, \"defunciones\": 762.0}, {\"a\\u00f1o\": 2017, \"semana\": 17, \"defunciones\": 741.0}, {\"a\\u00f1o\": 2018, \"semana\": 17, \"defunciones\": 737.0}, {\"a\\u00f1o\": 2019, \"semana\": 17, \"defunciones\": 719.0}, {\"a\\u00f1o\": 2020, \"semana\": 17, \"defunciones\": 790.0}, {\"a\\u00f1o\": \"Promedio \\u00faltimos 5 a\\u00f1os\", \"semana\": 17, \"defunciones\": 740.0}, {\"a\\u00f1o\": 2015, \"semana\": 18, \"defunciones\": 716.0}, {\"a\\u00f1o\": 2016, \"semana\": 18, \"defunciones\": 864.0}, {\"a\\u00f1o\": 2017, \"semana\": 18, \"defunciones\": 802.0}, {\"a\\u00f1o\": 2018, \"semana\": 18, \"defunciones\": 767.0}, {\"a\\u00f1o\": 2019, \"semana\": 18, \"defunciones\": 815.0}, {\"a\\u00f1o\": 2020, \"semana\": 18, \"defunciones\": 744.0}, {\"a\\u00f1o\": \"Promedio \\u00faltimos 5 a\\u00f1os\", \"semana\": 18, \"defunciones\": 793.0}, {\"a\\u00f1o\": 2015, \"semana\": 19, \"defunciones\": 750.0}, {\"a\\u00f1o\": 2016, \"semana\": 19, \"defunciones\": 740.0}, {\"a\\u00f1o\": 2017, \"semana\": 19, \"defunciones\": 739.0}, {\"a\\u00f1o\": 2018, \"semana\": 19, \"defunciones\": 727.0}, {\"a\\u00f1o\": 2019, \"semana\": 19, \"defunciones\": 760.0}, {\"a\\u00f1o\": 2020, \"semana\": 19, \"defunciones\": 952.0}, {\"a\\u00f1o\": \"Promedio \\u00faltimos 5 a\\u00f1os\", \"semana\": 19, \"defunciones\": 743.0}, {\"a\\u00f1o\": 2015, \"semana\": 20, \"defunciones\": 781.0}, {\"a\\u00f1o\": 2016, \"semana\": 20, \"defunciones\": 771.0}, {\"a\\u00f1o\": 2017, \"semana\": 20, \"defunciones\": 790.0}, {\"a\\u00f1o\": 2018, \"semana\": 20, \"defunciones\": 800.0}, {\"a\\u00f1o\": 2019, \"semana\": 20, \"defunciones\": 907.0}, {\"a\\u00f1o\": 2020, \"semana\": 20, \"defunciones\": 1098.0}, {\"a\\u00f1o\": \"Promedio \\u00faltimos 5 a\\u00f1os\", \"semana\": 20, \"defunciones\": 809.5}, {\"a\\u00f1o\": 2015, \"semana\": 21, \"defunciones\": 760.0}, {\"a\\u00f1o\": 2016, \"semana\": 21, \"defunciones\": 780.0}, {\"a\\u00f1o\": 2017, \"semana\": 21, \"defunciones\": 832.0}, {\"a\\u00f1o\": 2018, \"semana\": 21, \"defunciones\": 785.0}, {\"a\\u00f1o\": 2019, \"semana\": 21, \"defunciones\": 898.0}, {\"a\\u00f1o\": 2020, \"semana\": 21, \"defunciones\": 1379.0}, {\"a\\u00f1o\": \"Promedio \\u00faltimos 5 a\\u00f1os\", \"semana\": 21, \"defunciones\": 811.0}, {\"a\\u00f1o\": 2015, \"semana\": 22, \"defunciones\": 847.0}, {\"a\\u00f1o\": 2016, \"semana\": 22, \"defunciones\": 818.0}, {\"a\\u00f1o\": 2017, \"semana\": 22, \"defunciones\": 891.0}, {\"a\\u00f1o\": 2018, \"semana\": 22, \"defunciones\": 820.0}, {\"a\\u00f1o\": 2019, \"semana\": 22, \"defunciones\": 889.0}, {\"a\\u00f1o\": 2020, \"semana\": 22, \"defunciones\": 1963.0}, {\"a\\u00f1o\": \"Promedio \\u00faltimos 5 a\\u00f1os\", \"semana\": 22, \"defunciones\": 853.0}, {\"a\\u00f1o\": 2015, \"semana\": 23, \"defunciones\": 804.0}, {\"a\\u00f1o\": 2016, \"semana\": 23, \"defunciones\": 779.0}, {\"a\\u00f1o\": 2017, \"semana\": 23, \"defunciones\": 930.0}, {\"a\\u00f1o\": 2018, \"semana\": 23, \"defunciones\": 899.0}, {\"a\\u00f1o\": 2019, \"semana\": 23, \"defunciones\": 961.0}, {\"a\\u00f1o\": 2020, \"semana\": 23, \"defunciones\": 2246.0}, {\"a\\u00f1o\": \"Promedio \\u00faltimos 5 a\\u00f1os\", \"semana\": 23, \"defunciones\": 874.5}, {\"a\\u00f1o\": 2015, \"semana\": 24, \"defunciones\": 820.0}, {\"a\\u00f1o\": 2016, \"semana\": 24, \"defunciones\": 823.0}, {\"a\\u00f1o\": 2017, \"semana\": 24, \"defunciones\": 1070.0}, {\"a\\u00f1o\": 2018, \"semana\": 24, \"defunciones\": 939.0}, {\"a\\u00f1o\": 2019, \"semana\": 24, \"defunciones\": 948.0}, {\"a\\u00f1o\": 2020, \"semana\": 24, \"defunciones\": 2356.0}, {\"a\\u00f1o\": \"Promedio \\u00faltimos 5 a\\u00f1os\", \"semana\": 24, \"defunciones\": 920.0}, {\"a\\u00f1o\": 2015, \"semana\": 25, \"defunciones\": 838.0}, {\"a\\u00f1o\": 2016, \"semana\": 25, \"defunciones\": 887.0}, {\"a\\u00f1o\": 2017, \"semana\": 25, \"defunciones\": 1127.0}, {\"a\\u00f1o\": 2018, \"semana\": 25, \"defunciones\": 865.0}, {\"a\\u00f1o\": 2019, \"semana\": 25, \"defunciones\": 1009.0}, {\"a\\u00f1o\": 2020, \"semana\": 25, \"defunciones\": 2216.0}, {\"a\\u00f1o\": \"Promedio \\u00faltimos 5 a\\u00f1os\", \"semana\": 25, \"defunciones\": 945.0}, {\"a\\u00f1o\": 2015, \"semana\": 26, \"defunciones\": 943.0}, {\"a\\u00f1o\": 2016, \"semana\": 26, \"defunciones\": 938.0}, {\"a\\u00f1o\": 2017, \"semana\": 26, \"defunciones\": 895.0}, {\"a\\u00f1o\": 2018, \"semana\": 26, \"defunciones\": 882.0}, {\"a\\u00f1o\": 2019, \"semana\": 26, \"defunciones\": 985.0}, {\"a\\u00f1o\": 2020, \"semana\": 26, \"defunciones\": 1908.0}, {\"a\\u00f1o\": \"Promedio \\u00faltimos 5 a\\u00f1os\", \"semana\": 26, \"defunciones\": 929.0}, {\"a\\u00f1o\": 2015, \"semana\": 27, \"defunciones\": 839.0}, {\"a\\u00f1o\": 2016, \"semana\": 27, \"defunciones\": 870.0}, {\"a\\u00f1o\": 2017, \"semana\": 27, \"defunciones\": 1041.0}, {\"a\\u00f1o\": 2018, \"semana\": 27, \"defunciones\": 853.0}, {\"a\\u00f1o\": 2019, \"semana\": 27, \"defunciones\": 1002.0}, {\"a\\u00f1o\": 2020, \"semana\": 27, \"defunciones\": 1531.0}, {\"a\\u00f1o\": \"Promedio \\u00faltimos 5 a\\u00f1os\", \"semana\": 27, \"defunciones\": 921.5}, {\"a\\u00f1o\": 2015, \"semana\": 28, \"defunciones\": 889.0}, {\"a\\u00f1o\": 2016, \"semana\": 28, \"defunciones\": 1008.0}, {\"a\\u00f1o\": 2017, \"semana\": 28, \"defunciones\": 936.0}, {\"a\\u00f1o\": 2018, \"semana\": 28, \"defunciones\": 897.0}, {\"a\\u00f1o\": 2019, \"semana\": 28, \"defunciones\": 958.0}, {\"a\\u00f1o\": 2020, \"semana\": 28, \"defunciones\": 1391.0}, {\"a\\u00f1o\": \"Promedio \\u00faltimos 5 a\\u00f1os\", \"semana\": 28, \"defunciones\": 937.5}, {\"a\\u00f1o\": 2015, \"semana\": 29, \"defunciones\": 850.0}, {\"a\\u00f1o\": 2016, \"semana\": 29, \"defunciones\": 992.0}, {\"a\\u00f1o\": 2017, \"semana\": 29, \"defunciones\": 969.0}, {\"a\\u00f1o\": 2018, \"semana\": 29, \"defunciones\": 834.0}, {\"a\\u00f1o\": 2019, \"semana\": 29, \"defunciones\": 962.0}, {\"a\\u00f1o\": 2020, \"semana\": 29, \"defunciones\": 1211.0}, {\"a\\u00f1o\": \"Promedio \\u00faltimos 5 a\\u00f1os\", \"semana\": 29, \"defunciones\": 921.5}, {\"a\\u00f1o\": 2015, \"semana\": 30, \"defunciones\": 861.0}, {\"a\\u00f1o\": 2016, \"semana\": 30, \"defunciones\": 914.0}, {\"a\\u00f1o\": 2017, \"semana\": 30, \"defunciones\": 874.0}, {\"a\\u00f1o\": 2018, \"semana\": 30, \"defunciones\": 926.0}, {\"a\\u00f1o\": 2019, \"semana\": 30, \"defunciones\": 973.0}, {\"a\\u00f1o\": 2020, \"semana\": 30, \"defunciones\": 1165.0}, {\"a\\u00f1o\": \"Promedio \\u00faltimos 5 a\\u00f1os\", \"semana\": 30, \"defunciones\": 909.5}, {\"a\\u00f1o\": 2015, \"semana\": 31, \"defunciones\": 906.0}, {\"a\\u00f1o\": 2016, \"semana\": 31, \"defunciones\": 934.0}, {\"a\\u00f1o\": 2017, \"semana\": 31, \"defunciones\": 895.0}, {\"a\\u00f1o\": 2018, \"semana\": 31, \"defunciones\": 959.0}, {\"a\\u00f1o\": 2019, \"semana\": 31, \"defunciones\": 922.0}, {\"a\\u00f1o\": 2020, \"semana\": 31, \"defunciones\": 1054.0}, {\"a\\u00f1o\": \"Promedio \\u00faltimos 5 a\\u00f1os\", \"semana\": 31, \"defunciones\": 923.0}, {\"a\\u00f1o\": 2015, \"semana\": 32, \"defunciones\": 903.0}, {\"a\\u00f1o\": 2016, \"semana\": 32, \"defunciones\": 844.0}, {\"a\\u00f1o\": 2017, \"semana\": 32, \"defunciones\": 850.0}, {\"a\\u00f1o\": 2018, \"semana\": 32, \"defunciones\": 965.0}, {\"a\\u00f1o\": 2019, \"semana\": 32, \"defunciones\": 911.0}, {\"a\\u00f1o\": 2020, \"semana\": 32, \"defunciones\": 983.0}, {\"a\\u00f1o\": \"Promedio \\u00faltimos 5 a\\u00f1os\", \"semana\": 32, \"defunciones\": 894.5}, {\"a\\u00f1o\": 2015, \"semana\": 33, \"defunciones\": 826.0}, {\"a\\u00f1o\": 2016, \"semana\": 33, \"defunciones\": 809.0}, {\"a\\u00f1o\": 2017, \"semana\": 33, \"defunciones\": 883.0}, {\"a\\u00f1o\": 2018, \"semana\": 33, \"defunciones\": 894.0}, {\"a\\u00f1o\": 2019, \"semana\": 33, \"defunciones\": 888.0}, {\"a\\u00f1o\": 2020, \"semana\": 33, \"defunciones\": null}, {\"a\\u00f1o\": \"Promedio \\u00faltimos 5 a\\u00f1os\", \"semana\": 33, \"defunciones\": 860.0}, {\"a\\u00f1o\": 2015, \"semana\": 34, \"defunciones\": 891.0}, {\"a\\u00f1o\": 2016, \"semana\": 34, \"defunciones\": 818.0}, {\"a\\u00f1o\": 2017, \"semana\": 34, \"defunciones\": 825.0}, {\"a\\u00f1o\": 2018, \"semana\": 34, \"defunciones\": 936.0}, {\"a\\u00f1o\": 2019, \"semana\": 34, \"defunciones\": 861.0}, {\"a\\u00f1o\": 2020, \"semana\": 34, \"defunciones\": null}, {\"a\\u00f1o\": \"Promedio \\u00faltimos 5 a\\u00f1os\", \"semana\": 34, \"defunciones\": 866.5}, {\"a\\u00f1o\": 2015, \"semana\": 35, \"defunciones\": 861.0}, {\"a\\u00f1o\": 2016, \"semana\": 35, \"defunciones\": 813.0}, {\"a\\u00f1o\": 2017, \"semana\": 35, \"defunciones\": 835.0}, {\"a\\u00f1o\": 2018, \"semana\": 35, \"defunciones\": 875.0}, {\"a\\u00f1o\": 2019, \"semana\": 35, \"defunciones\": 879.0}, {\"a\\u00f1o\": 2020, \"semana\": 35, \"defunciones\": null}, {\"a\\u00f1o\": \"Promedio \\u00faltimos 5 a\\u00f1os\", \"semana\": 35, \"defunciones\": 853.0}, {\"a\\u00f1o\": 2015, \"semana\": 36, \"defunciones\": 831.0}, {\"a\\u00f1o\": 2016, \"semana\": 36, \"defunciones\": 889.0}, {\"a\\u00f1o\": 2017, \"semana\": 36, \"defunciones\": 807.0}, {\"a\\u00f1o\": 2018, \"semana\": 36, \"defunciones\": 862.0}, {\"a\\u00f1o\": 2019, \"semana\": 36, \"defunciones\": 886.0}, {\"a\\u00f1o\": 2020, \"semana\": 36, \"defunciones\": null}, {\"a\\u00f1o\": \"Promedio \\u00faltimos 5 a\\u00f1os\", \"semana\": 36, \"defunciones\": 855.0}, {\"a\\u00f1o\": 2015, \"semana\": 37, \"defunciones\": 769.0}, {\"a\\u00f1o\": 2016, \"semana\": 37, \"defunciones\": 819.0}, {\"a\\u00f1o\": 2017, \"semana\": 37, \"defunciones\": 868.0}, {\"a\\u00f1o\": 2018, \"semana\": 37, \"defunciones\": 858.0}, {\"a\\u00f1o\": 2019, \"semana\": 37, \"defunciones\": 840.0}, {\"a\\u00f1o\": 2020, \"semana\": 37, \"defunciones\": null}, {\"a\\u00f1o\": \"Promedio \\u00faltimos 5 a\\u00f1os\", \"semana\": 37, \"defunciones\": 830.5}, {\"a\\u00f1o\": 2015, \"semana\": 38, \"defunciones\": 780.0}, {\"a\\u00f1o\": 2016, \"semana\": 38, \"defunciones\": 832.0}, {\"a\\u00f1o\": 2017, \"semana\": 38, \"defunciones\": 763.0}, {\"a\\u00f1o\": 2018, \"semana\": 38, \"defunciones\": 772.0}, {\"a\\u00f1o\": 2019, \"semana\": 38, \"defunciones\": 763.0}, {\"a\\u00f1o\": 2020, \"semana\": 38, \"defunciones\": null}, {\"a\\u00f1o\": \"Promedio \\u00faltimos 5 a\\u00f1os\", \"semana\": 38, \"defunciones\": 782.5}, {\"a\\u00f1o\": 2015, \"semana\": 39, \"defunciones\": 855.0}, {\"a\\u00f1o\": 2016, \"semana\": 39, \"defunciones\": 725.0}, {\"a\\u00f1o\": 2017, \"semana\": 39, \"defunciones\": 828.0}, {\"a\\u00f1o\": 2018, \"semana\": 39, \"defunciones\": 788.0}, {\"a\\u00f1o\": 2019, \"semana\": 39, \"defunciones\": 893.0}, {\"a\\u00f1o\": 2020, \"semana\": 39, \"defunciones\": null}, {\"a\\u00f1o\": \"Promedio \\u00faltimos 5 a\\u00f1os\", \"semana\": 39, \"defunciones\": 817.5}, {\"a\\u00f1o\": 2015, \"semana\": 40, \"defunciones\": 715.0}, {\"a\\u00f1o\": 2016, \"semana\": 40, \"defunciones\": 799.0}, {\"a\\u00f1o\": 2017, \"semana\": 40, \"defunciones\": 838.0}, {\"a\\u00f1o\": 2018, \"semana\": 40, \"defunciones\": 783.0}, {\"a\\u00f1o\": 2019, \"semana\": 40, \"defunciones\": 810.0}, {\"a\\u00f1o\": 2020, \"semana\": 40, \"defunciones\": null}, {\"a\\u00f1o\": \"Promedio \\u00faltimos 5 a\\u00f1os\", \"semana\": 40, \"defunciones\": 789.0}, {\"a\\u00f1o\": 2015, \"semana\": 41, \"defunciones\": 859.0}, {\"a\\u00f1o\": 2016, \"semana\": 41, \"defunciones\": 715.0}, {\"a\\u00f1o\": 2017, \"semana\": 41, \"defunciones\": 763.0}, {\"a\\u00f1o\": 2018, \"semana\": 41, \"defunciones\": 724.0}, {\"a\\u00f1o\": 2019, \"semana\": 41, \"defunciones\": 815.0}, {\"a\\u00f1o\": 2020, \"semana\": 41, \"defunciones\": null}, {\"a\\u00f1o\": \"Promedio \\u00faltimos 5 a\\u00f1os\", \"semana\": 41, \"defunciones\": 775.0}, {\"a\\u00f1o\": 2015, \"semana\": 42, \"defunciones\": 768.0}, {\"a\\u00f1o\": 2016, \"semana\": 42, \"defunciones\": 659.0}, {\"a\\u00f1o\": 2017, \"semana\": 42, \"defunciones\": 778.0}, {\"a\\u00f1o\": 2018, \"semana\": 42, \"defunciones\": 721.0}, {\"a\\u00f1o\": 2019, \"semana\": 42, \"defunciones\": 731.0}, {\"a\\u00f1o\": 2020, \"semana\": 42, \"defunciones\": null}, {\"a\\u00f1o\": \"Promedio \\u00faltimos 5 a\\u00f1os\", \"semana\": 42, \"defunciones\": 731.0}, {\"a\\u00f1o\": 2015, \"semana\": 43, \"defunciones\": 743.0}, {\"a\\u00f1o\": 2016, \"semana\": 43, \"defunciones\": 807.0}, {\"a\\u00f1o\": 2017, \"semana\": 43, \"defunciones\": 720.0}, {\"a\\u00f1o\": 2018, \"semana\": 43, \"defunciones\": 796.0}, {\"a\\u00f1o\": 2019, \"semana\": 43, \"defunciones\": 760.0}, {\"a\\u00f1o\": 2020, \"semana\": 43, \"defunciones\": null}, {\"a\\u00f1o\": \"Promedio \\u00faltimos 5 a\\u00f1os\", \"semana\": 43, \"defunciones\": 765.0}, {\"a\\u00f1o\": 2015, \"semana\": 44, \"defunciones\": 654.0}, {\"a\\u00f1o\": 2016, \"semana\": 44, \"defunciones\": 707.0}, {\"a\\u00f1o\": 2017, \"semana\": 44, \"defunciones\": 676.0}, {\"a\\u00f1o\": 2018, \"semana\": 44, \"defunciones\": 701.0}, {\"a\\u00f1o\": 2019, \"semana\": 44, \"defunciones\": 817.0}, {\"a\\u00f1o\": 2020, \"semana\": 44, \"defunciones\": null}, {\"a\\u00f1o\": \"Promedio \\u00faltimos 5 a\\u00f1os\", \"semana\": 44, \"defunciones\": 711.0}, {\"a\\u00f1o\": 2015, \"semana\": 45, \"defunciones\": 721.0}, {\"a\\u00f1o\": 2016, \"semana\": 45, \"defunciones\": 719.0}, {\"a\\u00f1o\": 2017, \"semana\": 45, \"defunciones\": 728.0}, {\"a\\u00f1o\": 2018, \"semana\": 45, \"defunciones\": 783.0}, {\"a\\u00f1o\": 2019, \"semana\": 45, \"defunciones\": 793.0}, {\"a\\u00f1o\": 2020, \"semana\": 45, \"defunciones\": null}, {\"a\\u00f1o\": \"Promedio \\u00faltimos 5 a\\u00f1os\", \"semana\": 45, \"defunciones\": 749.0}, {\"a\\u00f1o\": 2015, \"semana\": 46, \"defunciones\": 823.0}, {\"a\\u00f1o\": 2016, \"semana\": 46, \"defunciones\": 676.0}, {\"a\\u00f1o\": 2017, \"semana\": 46, \"defunciones\": 678.0}, {\"a\\u00f1o\": 2018, \"semana\": 46, \"defunciones\": 729.0}, {\"a\\u00f1o\": 2019, \"semana\": 46, \"defunciones\": 744.0}, {\"a\\u00f1o\": 2020, \"semana\": 46, \"defunciones\": null}, {\"a\\u00f1o\": \"Promedio \\u00faltimos 5 a\\u00f1os\", \"semana\": 46, \"defunciones\": 729.5}, {\"a\\u00f1o\": 2015, \"semana\": 47, \"defunciones\": 763.0}, {\"a\\u00f1o\": 2016, \"semana\": 47, \"defunciones\": 625.0}, {\"a\\u00f1o\": 2017, \"semana\": 47, \"defunciones\": 750.0}, {\"a\\u00f1o\": 2018, \"semana\": 47, \"defunciones\": 775.0}, {\"a\\u00f1o\": 2019, \"semana\": 47, \"defunciones\": 789.0}, {\"a\\u00f1o\": 2020, \"semana\": 47, \"defunciones\": null}, {\"a\\u00f1o\": \"Promedio \\u00faltimos 5 a\\u00f1os\", \"semana\": 47, \"defunciones\": 740.0}, {\"a\\u00f1o\": 2015, \"semana\": 48, \"defunciones\": 704.0}, {\"a\\u00f1o\": 2016, \"semana\": 48, \"defunciones\": 671.0}, {\"a\\u00f1o\": 2017, \"semana\": 48, \"defunciones\": 677.0}, {\"a\\u00f1o\": 2018, \"semana\": 48, \"defunciones\": 674.0}, {\"a\\u00f1o\": 2019, \"semana\": 48, \"defunciones\": 740.0}, {\"a\\u00f1o\": 2020, \"semana\": 48, \"defunciones\": null}, {\"a\\u00f1o\": \"Promedio \\u00faltimos 5 a\\u00f1os\", \"semana\": 48, \"defunciones\": 693.0}, {\"a\\u00f1o\": 2015, \"semana\": 49, \"defunciones\": 745.0}, {\"a\\u00f1o\": 2016, \"semana\": 49, \"defunciones\": 678.0}, {\"a\\u00f1o\": 2017, \"semana\": 49, \"defunciones\": 669.0}, {\"a\\u00f1o\": 2018, \"semana\": 49, \"defunciones\": 740.0}, {\"a\\u00f1o\": 2019, \"semana\": 49, \"defunciones\": 763.0}, {\"a\\u00f1o\": 2020, \"semana\": 49, \"defunciones\": null}, {\"a\\u00f1o\": \"Promedio \\u00faltimos 5 a\\u00f1os\", \"semana\": 49, \"defunciones\": 719.0}, {\"a\\u00f1o\": 2015, \"semana\": 50, \"defunciones\": 726.0}, {\"a\\u00f1o\": 2016, \"semana\": 50, \"defunciones\": 740.0}, {\"a\\u00f1o\": 2017, \"semana\": 50, \"defunciones\": 688.0}, {\"a\\u00f1o\": 2018, \"semana\": 50, \"defunciones\": 696.0}, {\"a\\u00f1o\": 2019, \"semana\": 50, \"defunciones\": 683.0}, {\"a\\u00f1o\": 2020, \"semana\": 50, \"defunciones\": null}, {\"a\\u00f1o\": \"Promedio \\u00faltimos 5 a\\u00f1os\", \"semana\": 50, \"defunciones\": 706.5}, {\"a\\u00f1o\": 2015, \"semana\": 51, \"defunciones\": 722.0}, {\"a\\u00f1o\": 2016, \"semana\": 51, \"defunciones\": 617.0}, {\"a\\u00f1o\": 2017, \"semana\": 51, \"defunciones\": 793.0}, {\"a\\u00f1o\": 2018, \"semana\": 51, \"defunciones\": 766.0}, {\"a\\u00f1o\": 2019, \"semana\": 51, \"defunciones\": 707.0}, {\"a\\u00f1o\": 2020, \"semana\": 51, \"defunciones\": null}, {\"a\\u00f1o\": \"Promedio \\u00faltimos 5 a\\u00f1os\", \"semana\": 51, \"defunciones\": 721.0}, {\"a\\u00f1o\": 2015, \"semana\": 52, \"defunciones\": 702.0}, {\"a\\u00f1o\": 2016, \"semana\": 52, \"defunciones\": 654.0}, {\"a\\u00f1o\": 2017, \"semana\": 52, \"defunciones\": 783.0}, {\"a\\u00f1o\": 2018, \"semana\": 52, \"defunciones\": 712.0}, {\"a\\u00f1o\": 2019, \"semana\": 52, \"defunciones\": 734.0}, {\"a\\u00f1o\": 2020, \"semana\": 52, \"defunciones\": null}, {\"a\\u00f1o\": \"Promedio \\u00faltimos 5 a\\u00f1os\", \"semana\": 52, \"defunciones\": 717.0}], \"data-899c04c091211f5f13ff1924aff6e121\": [{\"semana\": 1, \"Expected\": 725.0, \"lower\": 675.0, \"upper\": 775.0, \"lower 2\": 625.0, \"upper 2\": 825.0}, {\"semana\": 2, \"Expected\": 705.0, \"lower\": 672.5, \"upper\": 737.5, \"lower 2\": 639.5, \"upper 2\": 770.5}, {\"semana\": 3, \"Expected\": 695.5, \"lower\": 639.5, \"upper\": 751.5, \"lower 2\": 583.5, \"upper 2\": 807.5}, {\"semana\": 4, \"Expected\": 692.5, \"lower\": 603.5, \"upper\": 781.5, \"lower 2\": 515.0, \"upper 2\": 870.0}, {\"semana\": 5, \"Expected\": 712.0, \"lower\": 658.5, \"upper\": 765.5, \"lower 2\": 604.5, \"upper 2\": 819.5}, {\"semana\": 6, \"Expected\": 685.5, \"lower\": 631.0, \"upper\": 740.0, \"lower 2\": 576.0, \"upper 2\": 795.0}, {\"semana\": 7, \"Expected\": 687.0, \"lower\": 666.0, \"upper\": 708.0, \"lower 2\": 645.5, \"upper 2\": 728.5}, {\"semana\": 8, \"Expected\": 696.5, \"lower\": 676.5, \"upper\": 716.5, \"lower 2\": 656.0, \"upper 2\": 737.0}, {\"semana\": 9, \"Expected\": 674.5, \"lower\": 621.5, \"upper\": 727.5, \"lower 2\": 568.0, \"upper 2\": 781.0}, {\"semana\": 10, \"Expected\": 665.0, \"lower\": 630.5, \"upper\": 699.5, \"lower 2\": 596.0, \"upper 2\": 734.0}, {\"semana\": 11, \"Expected\": 676.0, \"lower\": 640.5, \"upper\": 711.5, \"lower 2\": 605.0, \"upper 2\": 747.0}, {\"semana\": 12, \"Expected\": 690.5, \"lower\": 658.5, \"upper\": 722.5, \"lower 2\": 627.0, \"upper 2\": 754.0}, {\"semana\": 13, \"Expected\": 682.5, \"lower\": 651.5, \"upper\": 713.5, \"lower 2\": 621.0, \"upper 2\": 744.0}, {\"semana\": 14, \"Expected\": 706.5, \"lower\": 669.5, \"upper\": 743.5, \"lower 2\": 632.0, \"upper 2\": 781.0}, {\"semana\": 15, \"Expected\": 719.0, \"lower\": 689.5, \"upper\": 748.5, \"lower 2\": 660.0, \"upper 2\": 778.0}, {\"semana\": 16, \"Expected\": 738.0, \"lower\": 685.5, \"upper\": 790.5, \"lower 2\": 633.0, \"upper 2\": 843.0}, {\"semana\": 17, \"Expected\": 740.0, \"lower\": 724.5, \"upper\": 755.5, \"lower 2\": 709.5, \"upper 2\": 770.5}, {\"semana\": 18, \"Expected\": 793.0, \"lower\": 738.0, \"upper\": 848.0, \"lower 2\": 682.5, \"upper 2\": 903.5}, {\"semana\": 19, \"Expected\": 743.0, \"lower\": 730.5, \"upper\": 755.5, \"lower 2\": 718.0, \"upper 2\": 768.0}, {\"semana\": 20, \"Expected\": 809.5, \"lower\": 754.0, \"upper\": 865.0, \"lower 2\": 699.0, \"upper 2\": 920.0}, {\"semana\": 21, \"Expected\": 811.0, \"lower\": 755.5, \"upper\": 866.5, \"lower 2\": 700.5, \"upper 2\": 921.5}, {\"semana\": 22, \"Expected\": 853.0, \"lower\": 817.5, \"upper\": 888.5, \"lower 2\": 781.5, \"upper 2\": 924.5}, {\"semana\": 23, \"Expected\": 874.5, \"lower\": 795.0, \"upper\": 954.0, \"lower 2\": 715.5, \"upper 2\": 1033.0}, {\"semana\": 24, \"Expected\": 920.0, \"lower\": 816.0, \"upper\": 1024.0, \"lower 2\": 712.5, \"upper 2\": 1128.0}, {\"semana\": 25, \"Expected\": 945.0, \"lower\": 824.0, \"upper\": 1066.0, \"lower 2\": 703.0, \"upper 2\": 1187.0}, {\"semana\": 26, \"Expected\": 929.0, \"lower\": 888.0, \"upper\": 970.0, \"lower 2\": 846.5, \"upper 2\": 1011.5}, {\"semana\": 27, \"Expected\": 921.5, \"lower\": 828.0, \"upper\": 1015.0, \"lower 2\": 734.5, \"upper 2\": 1108.0}, {\"semana\": 28, \"Expected\": 937.5, \"lower\": 889.0, \"upper\": 986.0, \"lower 2\": 840.5, \"upper 2\": 1034.0}, {\"semana\": 29, \"Expected\": 921.5, \"lower\": 848.0, \"upper\": 995.0, \"lower 2\": 774.5, \"upper 2\": 1069.0}, {\"semana\": 30, \"Expected\": 909.5, \"lower\": 865.0, \"upper\": 954.0, \"lower 2\": 820.5, \"upper 2\": 998.5}, {\"semana\": 31, \"Expected\": 923.0, \"lower\": 898.0, \"upper\": 948.0, \"lower 2\": 873.0, \"upper 2\": 973.0}, {\"semana\": 32, \"Expected\": 894.5, \"lower\": 845.0, \"upper\": 944.0, \"lower 2\": 795.0, \"upper 2\": 994.0}, {\"semana\": 33, \"Expected\": 860.0, \"lower\": 820.5, \"upper\": 899.5, \"lower 2\": 781.0, \"upper 2\": 939.0}, {\"semana\": 34, \"Expected\": 866.5, \"lower\": 817.5, \"upper\": 915.5, \"lower 2\": 769.0, \"upper 2\": 964.0}, {\"semana\": 35, \"Expected\": 853.0, \"lower\": 825.0, \"upper\": 881.0, \"lower 2\": 797.0, \"upper 2\": 909.0}, {\"semana\": 36, \"Expected\": 855.0, \"lower\": 819.5, \"upper\": 890.5, \"lower 2\": 784.0, \"upper 2\": 926.0}, {\"semana\": 37, \"Expected\": 830.5, \"lower\": 791.0, \"upper\": 870.0, \"lower 2\": 752.0, \"upper 2\": 909.0}, {\"semana\": 38, \"Expected\": 782.5, \"lower\": 753.5, \"upper\": 811.5, \"lower 2\": 725.0, \"upper 2\": 840.0}, {\"semana\": 39, \"Expected\": 817.5, \"lower\": 753.0, \"upper\": 882.0, \"lower 2\": 688.5, \"upper 2\": 946.5}, {\"semana\": 40, \"Expected\": 789.0, \"lower\": 743.0, \"upper\": 835.0, \"lower 2\": 697.0, \"upper 2\": 881.0}, {\"semana\": 41, \"Expected\": 775.0, \"lower\": 714.0, \"upper\": 836.0, \"lower 2\": 652.5, \"upper 2\": 897.5}, {\"semana\": 42, \"Expected\": 731.0, \"lower\": 684.0, \"upper\": 778.0, \"lower 2\": 637.0, \"upper 2\": 825.0}, {\"semana\": 43, \"Expected\": 765.0, \"lower\": 729.0, \"upper\": 801.0, \"lower 2\": 692.5, \"upper 2\": 837.5}, {\"semana\": 44, \"Expected\": 711.0, \"lower\": 648.0, \"upper\": 774.0, \"lower 2\": 585.0, \"upper 2\": 837.0}, {\"semana\": 45, \"Expected\": 749.0, \"lower\": 713.0, \"upper\": 785.0, \"lower 2\": 677.0, \"upper 2\": 821.0}, {\"semana\": 46, \"Expected\": 729.5, \"lower\": 669.5, \"upper\": 789.5, \"lower 2\": 609.0, \"upper 2\": 850.0}, {\"semana\": 47, \"Expected\": 740.0, \"lower\": 674.0, \"upper\": 806.0, \"lower 2\": 608.0, \"upper 2\": 872.0}, {\"semana\": 48, \"Expected\": 693.0, \"lower\": 663.5, \"upper\": 722.5, \"lower 2\": 634.5, \"upper 2\": 751.5}, {\"semana\": 49, \"Expected\": 719.0, \"lower\": 676.5, \"upper\": 761.5, \"lower 2\": 634.0, \"upper 2\": 804.0}, {\"semana\": 50, \"Expected\": 706.5, \"lower\": 681.5, \"upper\": 731.5, \"lower 2\": 656.5, \"upper 2\": 756.5}, {\"semana\": 51, \"Expected\": 721.0, \"lower\": 653.5, \"upper\": 788.5, \"lower 2\": 586.0, \"upper 2\": 856.0}, {\"semana\": 52, \"Expected\": 717.0, \"lower\": 670.0, \"upper\": 764.0, \"lower 2\": 623.0, \"upper 2\": 811.0}]}}, {\"mode\": \"vega-lite\"});\n",
       "</script>"
      ],
      "text/plain": [
       "alt.LayerChart(...)"
      ]
     },
     "execution_count": 106,
     "metadata": {},
     "output_type": "execute_result"
    }
   ],
   "source": [
    "#hide_input\n",
    "label = alt.selection_single(\n",
    "    encodings=['x'], # limit selection to x-axis value\n",
    "    on='mouseover',  # select on mouseover events\n",
    "    nearest=True,    # select data point nearest the cursor\n",
    "    empty='none'     # empty selection includes no data points\n",
    ")\n",
    "\n",
    "base = alt.Chart(deaths_year_week.drop([i for i in np.arange(2010,2015)]).reset_index().melt(\"año\", value_name=\"defunciones\")).mark_line(point=True).encode(\n",
    "    x = alt.X(\"semana:Q\",scale=alt.Scale(domain=(1, 52))),\n",
    "    y = alt.Y(\"defunciones\", scale=alt.Scale(domain=(0,2500))),\n",
    "    color=alt.Color('año:N', scale=alt.Scale(range=['lightgray', 'lightgray', 'lightgray', 'lightgray', 'lightgray', 'red',\"blue\"], \n",
    "                                             domain=[\"2015\", \"2016\", \"2017\", \"2018\", \"2019\", \"2020\", \"Promedio últimos 5 años\"]))\n",
    ")\n",
    "\n",
    "alt.layer(\n",
    "    base, # base line chart\n",
    "    \n",
    "    alt.Chart(df_expected.reset_index()).mark_area(\n",
    "        opacity=0.5\n",
    "    ).encode(\n",
    "        x=alt.X(\"semana\", scale=alt.Scale(domain=(1, 52))),\n",
    "        y=alt.Y(\"lower:Q\", axis=alt.Axis(title=\"defunciones\")),\n",
    "        y2=\"upper:Q\"\n",
    "    ),\n",
    "    \n",
    "    alt.Chart(df_expected.reset_index()).mark_area(\n",
    "        opacity=0.3\n",
    "    ).encode(\n",
    "        x=alt.X(\"semana\", scale=alt.Scale(domain=(1, 52))),\n",
    "        y=\"lower 2:Q\",\n",
    "        y2=\"upper 2:Q\"\n",
    "    ),\n",
    "    # add a rule mark to serve as a guide line\n",
    "    alt.Chart().mark_rule(color='#aaa').encode(\n",
    "        x = alt.X('semana', scale=alt.Scale(domain=(1, 52)), axis=alt.Axis(title='semana'), sort=None)\n",
    "    ).transform_filter(label),\n",
    "    \n",
    "    # add circle marks for selected time points, hide unselected points\n",
    "    base.mark_circle().encode(\n",
    "        opacity=alt.condition(label, alt.value(1), alt.value(0))\n",
    "    ).add_selection(label),\n",
    "\n",
    "    # add white stroked text to provide a legible background for labels\n",
    "    base.mark_text(align='left', dx=5, dy=-5, stroke='white', strokeWidth=2).encode(\n",
    "        text='defunciones'\n",
    "    ).transform_filter(label),\n",
    "\n",
    "    # add text labels for stock prices\n",
    "    base.mark_text(align='left', dx=5, dy=-5).encode(\n",
    "        text='defunciones'\n",
    "    ).transform_filter(label),\n",
    "    \n",
    "    data=deaths_year_week.drop([i for i in np.arange(2010,2015)]).reset_index().melt(\"año\", value_name=\"defunciones\")\n",
    ").properties(\n",
    "    title = f'Defunciones inscritas en la R.M. por semana (sin corregir) hasta semana {current_week-1}',\n",
    "    width=600\n",
    ")"
   ]
  },
  {
   "cell_type": "markdown",
   "metadata": {},
   "source": [
    "Fuente: [Ministerio de Ciencia](https://github.com/MinCiencia/Datos-COVID19), [Registro Civil](https://www.registrocivil.cl/)"
   ]
  },
  {
   "cell_type": "code",
   "execution_count": 107,
   "metadata": {},
   "outputs": [],
   "source": [
    "#hide\n",
    "deaths_year_week = deaths_year_week.drop(\"Promedio últimos 5 años\")"
   ]
  },
  {
   "cell_type": "code",
   "execution_count": 108,
   "metadata": {},
   "outputs": [],
   "source": [
    "#hide\n",
    "n_defunciones = []\n",
    "for year in np.arange(2010,2020):\n",
    "    n_defunciones.append(deaths_year_week.loc[year,:].astype(int).sum())"
   ]
  },
  {
   "cell_type": "code",
   "execution_count": 109,
   "metadata": {},
   "outputs": [],
   "source": [
    "#hide\n",
    "df = pd.DataFrame()\n",
    "df[\"Año\"] = np.arange(2010,2020)\n",
    "df[\"Número de defunciones\"] = n_defunciones \n",
    "df = df.set_index(\"Año\")"
   ]
  },
  {
   "cell_type": "code",
   "execution_count": 110,
   "metadata": {
    "scrolled": true
   },
   "outputs": [
    {
     "name": "stderr",
     "output_type": "stream",
     "text": [
      "/Users/alonsosilva/opt/anaconda3/envs/fastpages/lib/python3.8/site-packages/pandas/core/indexing.py:671: SettingWithCopyWarning: \n",
      "A value is trying to be set on a copy of a slice from a DataFrame\n",
      "\n",
      "See the caveats in the documentation: https://pandas.pydata.org/pandas-docs/stable/user_guide/indexing.html#returning-a-view-versus-a-copy\n",
      "  self._setitem_with_indexer(indexer, value)\n"
     ]
    }
   ],
   "source": [
    "#hide\n",
    "adjustment = 365/366\n",
    "df[\"ajustado a 365 días\"] = df[\"Número de defunciones\"].copy()\n",
    "df[\"ajustado a 365 días\"].loc[2012] *= adjustment\n",
    "df[\"ajustado a 365 días\"].loc[2016] *= adjustment\n",
    "df[\"ajustado a 365 días\"] = df[\"ajustado a 365 días\"].astype(int)"
   ]
  },
  {
   "cell_type": "code",
   "execution_count": 111,
   "metadata": {
    "scrolled": true
   },
   "outputs": [
    {
     "data": {
      "text/plain": [
       "[0.9808015807321567,\n",
       " 1.028095393662202,\n",
       " 1.0085795996186844,\n",
       " 1.0310333963453056,\n",
       " 1.0062388591800357,\n",
       " 0.9991901809439453,\n",
       " 1.0411569536256111,\n",
       " 0.977546949498881,\n",
       " 1.046161503048401]"
      ]
     },
     "execution_count": 111,
     "metadata": {},
     "output_type": "execute_result"
    }
   ],
   "source": [
    "#hide\n",
    "growth_rate = []\n",
    "for year in np.arange(2011, 2020):\n",
    "    growth_rate.append(df[\"ajustado a 365 días\"].loc[year]/df[\"ajustado a 365 días\"].loc[year-1])\n",
    "growth_rate"
   ]
  },
  {
   "cell_type": "code",
   "execution_count": 112,
   "metadata": {},
   "outputs": [
    {
     "name": "stdout",
     "output_type": "stream",
     "text": [
      "Promedio de las tasas de crecimiento anual entre 2012 y 2019: 1.57%\n"
     ]
    }
   ],
   "source": [
    "#hide\n",
    "print(f\"Promedio de las tasas de crecimiento anual entre 2012 y 2019: {100*(np.mean(growth_rate[2:])-1):.2f}%\")"
   ]
  },
  {
   "cell_type": "code",
   "execution_count": 113,
   "metadata": {
    "colab": {},
    "colab_type": "code",
    "id": "NCz1cigeSEWa"
   },
   "outputs": [],
   "source": [
    "#hide\n",
    "deaths = deaths_raw.query(\"Region == 'Metropolitana de Santiago'\").drop(columns=[\"Region\", \"Codigo region\", \"Comuna\", \"Codigo comuna\"]).sum()\n",
    "n_defunciones = []\n",
    "for year in np.arange(2010,2020):\n",
    "    n_defunciones.append(deaths.loc[f\"{year}-01-01\":f\"{year}-12-31\"].sum())\n",
    "df = pd.DataFrame()\n",
    "df[\"Año\"] = np.arange(2010,2020)\n",
    "df[\"Número de defunciones\"] = n_defunciones \n",
    "df = df.set_index(\"Año\")"
   ]
  },
  {
   "cell_type": "code",
   "execution_count": 114,
   "metadata": {
    "colab": {
     "base_uri": "https://localhost:8080/",
     "height": 104
    },
    "colab_type": "code",
    "id": "c5KMn_M8Spru",
    "outputId": "6b6d19c3-8460-4658-b723-8cf332b64d70"
   },
   "outputs": [],
   "source": [
    "#hide\n",
    "adjustment = 365/366\n",
    "df[\"ajustado a 365 días\"] = df[\"Número de defunciones\"].copy()\n",
    "df[\"ajustado a 365 días\"].loc[2012] *= adjustment\n",
    "df[\"ajustado a 365 días\"].loc[2016] *= adjustment\n",
    "df[\"ajustado a 365 días\"] = df[\"ajustado a 365 días\"].astype(int)"
   ]
  },
  {
   "cell_type": "code",
   "execution_count": 115,
   "metadata": {},
   "outputs": [
    {
     "data": {
      "text/html": [
       "<div>\n",
       "<style scoped>\n",
       "    .dataframe tbody tr th:only-of-type {\n",
       "        vertical-align: middle;\n",
       "    }\n",
       "\n",
       "    .dataframe tbody tr th {\n",
       "        vertical-align: top;\n",
       "    }\n",
       "\n",
       "    .dataframe thead th {\n",
       "        text-align: right;\n",
       "    }\n",
       "</style>\n",
       "<table border=\"1\" class=\"dataframe\">\n",
       "  <thead>\n",
       "    <tr style=\"text-align: right;\">\n",
       "      <th></th>\n",
       "      <th>Número de defunciones</th>\n",
       "      <th>ajustado a 365 días</th>\n",
       "    </tr>\n",
       "    <tr>\n",
       "      <th>Año</th>\n",
       "      <th></th>\n",
       "      <th></th>\n",
       "    </tr>\n",
       "  </thead>\n",
       "  <tbody>\n",
       "    <tr>\n",
       "      <th>2010</th>\n",
       "      <td>37540</td>\n",
       "      <td>37540</td>\n",
       "    </tr>\n",
       "    <tr>\n",
       "      <th>2011</th>\n",
       "      <td>36874</td>\n",
       "      <td>36874</td>\n",
       "    </tr>\n",
       "    <tr>\n",
       "      <th>2012</th>\n",
       "      <td>37990</td>\n",
       "      <td>37886</td>\n",
       "    </tr>\n",
       "    <tr>\n",
       "      <th>2013</th>\n",
       "      <td>38251</td>\n",
       "      <td>38251</td>\n",
       "    </tr>\n",
       "    <tr>\n",
       "      <th>2014</th>\n",
       "      <td>39336</td>\n",
       "      <td>39336</td>\n",
       "    </tr>\n",
       "    <tr>\n",
       "      <th>2015</th>\n",
       "      <td>39642</td>\n",
       "      <td>39642</td>\n",
       "    </tr>\n",
       "    <tr>\n",
       "      <th>2016</th>\n",
       "      <td>39836</td>\n",
       "      <td>39727</td>\n",
       "    </tr>\n",
       "    <tr>\n",
       "      <th>2017</th>\n",
       "      <td>41114</td>\n",
       "      <td>41114</td>\n",
       "    </tr>\n",
       "    <tr>\n",
       "      <th>2018</th>\n",
       "      <td>40319</td>\n",
       "      <td>40319</td>\n",
       "    </tr>\n",
       "    <tr>\n",
       "      <th>2019</th>\n",
       "      <td>42183</td>\n",
       "      <td>42183</td>\n",
       "    </tr>\n",
       "  </tbody>\n",
       "</table>\n",
       "</div>"
      ],
      "text/plain": [
       "      Número de defunciones  ajustado a 365 días\n",
       "Año                                             \n",
       "2010                  37540                37540\n",
       "2011                  36874                36874\n",
       "2012                  37990                37886\n",
       "2013                  38251                38251\n",
       "2014                  39336                39336\n",
       "2015                  39642                39642\n",
       "2016                  39836                39727\n",
       "2017                  41114                41114\n",
       "2018                  40319                40319\n",
       "2019                  42183                42183"
      ]
     },
     "execution_count": 115,
     "metadata": {},
     "output_type": "execute_result"
    }
   ],
   "source": [
    "#hide\n",
    "df"
   ]
  },
  {
   "cell_type": "code",
   "execution_count": 116,
   "metadata": {
    "colab": {},
    "colab_type": "code",
    "id": "hXFPz0z9Ssnh"
   },
   "outputs": [
    {
     "data": {
      "text/plain": [
       "[0.9822589238145978,\n",
       " 1.0274448120627,\n",
       " 1.0096341656548593,\n",
       " 1.02836527149617,\n",
       " 1.0077791336180597,\n",
       " 1.00214419050502,\n",
       " 1.0349132831575503,\n",
       " 0.9806635209417717,\n",
       " 1.0462313053399142]"
      ]
     },
     "execution_count": 116,
     "metadata": {},
     "output_type": "execute_result"
    }
   ],
   "source": [
    "#hide\n",
    "growth_rate = []\n",
    "for year in np.arange(2011, 2020):\n",
    "    growth_rate.append(df[\"ajustado a 365 días\"].loc[year]/df[\"ajustado a 365 días\"].loc[year-1])\n",
    "growth_rate"
   ]
  },
  {
   "cell_type": "code",
   "execution_count": 117,
   "metadata": {
    "colab": {},
    "colab_type": "code",
    "id": "-Nkc1DzZgiwo"
   },
   "outputs": [],
   "source": [
    "#hide\n",
    "growth_rate_percentage = [f\"{100*(r - 1):.2f}%\" for r in growth_rate]"
   ]
  },
  {
   "cell_type": "code",
   "execution_count": 118,
   "metadata": {
    "colab": {},
    "colab_type": "code",
    "id": "Dtui9C8dgplH"
   },
   "outputs": [],
   "source": [
    "#hide\n",
    "df[\"Variación c/r año anterior\"] = [\"-\"]+growth_rate_percentage"
   ]
  },
  {
   "cell_type": "code",
   "execution_count": 119,
   "metadata": {
    "colab": {
     "base_uri": "https://localhost:8080/",
     "height": 34
    },
    "colab_type": "code",
    "id": "CF5n_GwdSv6J",
    "outputId": "f7bf1e2e-0431-4714-c5b0-541221e5a774"
   },
   "outputs": [
    {
     "data": {
      "text/plain": [
       "1.0156758386733349"
      ]
     },
     "execution_count": 119,
     "metadata": {},
     "output_type": "execute_result"
    }
   ],
   "source": [
    "#hide\n",
    "gr_mean = np.mean(growth_rate[2:])\n",
    "gr_mean"
   ]
  },
  {
   "cell_type": "code",
   "execution_count": 120,
   "metadata": {},
   "outputs": [
    {
     "data": {
      "text/plain": [
       "0.022258201400607868"
      ]
     },
     "execution_count": 120,
     "metadata": {},
     "output_type": "execute_result"
    }
   ],
   "source": [
    "#hide\n",
    "gr_std = np.std(growth_rate[2:], ddof=1)\n",
    "gr_std"
   ]
  },
  {
   "cell_type": "code",
   "execution_count": 121,
   "metadata": {
    "colab": {
     "base_uri": "https://localhost:8080/",
     "height": 394
    },
    "colab_type": "code",
    "id": "8aYabPUBgsIA",
    "outputId": "5da6b23e-a90d-4117-f755-b20d04652127"
   },
   "outputs": [
    {
     "data": {
      "text/html": [
       "<div>\n",
       "<style scoped>\n",
       "    .dataframe tbody tr th:only-of-type {\n",
       "        vertical-align: middle;\n",
       "    }\n",
       "\n",
       "    .dataframe tbody tr th {\n",
       "        vertical-align: top;\n",
       "    }\n",
       "\n",
       "    .dataframe thead th {\n",
       "        text-align: right;\n",
       "    }\n",
       "</style>\n",
       "<table border=\"1\" class=\"dataframe\">\n",
       "  <thead>\n",
       "    <tr style=\"text-align: right;\">\n",
       "      <th></th>\n",
       "      <th>Número de defunciones</th>\n",
       "      <th>ajustado a 365 días</th>\n",
       "      <th>Variación c/r año anterior</th>\n",
       "    </tr>\n",
       "    <tr>\n",
       "      <th>Año</th>\n",
       "      <th></th>\n",
       "      <th></th>\n",
       "      <th></th>\n",
       "    </tr>\n",
       "  </thead>\n",
       "  <tbody>\n",
       "    <tr>\n",
       "      <th>2010</th>\n",
       "      <td>37540</td>\n",
       "      <td>37540</td>\n",
       "      <td>-</td>\n",
       "    </tr>\n",
       "    <tr>\n",
       "      <th>2011</th>\n",
       "      <td>36874</td>\n",
       "      <td>36874</td>\n",
       "      <td>-1.77%</td>\n",
       "    </tr>\n",
       "    <tr>\n",
       "      <th>2012</th>\n",
       "      <td>37990</td>\n",
       "      <td>37886</td>\n",
       "      <td>2.74%</td>\n",
       "    </tr>\n",
       "    <tr>\n",
       "      <th>2013</th>\n",
       "      <td>38251</td>\n",
       "      <td>38251</td>\n",
       "      <td>0.96%</td>\n",
       "    </tr>\n",
       "    <tr>\n",
       "      <th>2014</th>\n",
       "      <td>39336</td>\n",
       "      <td>39336</td>\n",
       "      <td>2.84%</td>\n",
       "    </tr>\n",
       "    <tr>\n",
       "      <th>2015</th>\n",
       "      <td>39642</td>\n",
       "      <td>39642</td>\n",
       "      <td>0.78%</td>\n",
       "    </tr>\n",
       "    <tr>\n",
       "      <th>2016</th>\n",
       "      <td>39836</td>\n",
       "      <td>39727</td>\n",
       "      <td>0.21%</td>\n",
       "    </tr>\n",
       "    <tr>\n",
       "      <th>2017</th>\n",
       "      <td>41114</td>\n",
       "      <td>41114</td>\n",
       "      <td>3.49%</td>\n",
       "    </tr>\n",
       "    <tr>\n",
       "      <th>2018</th>\n",
       "      <td>40319</td>\n",
       "      <td>40319</td>\n",
       "      <td>-1.93%</td>\n",
       "    </tr>\n",
       "    <tr>\n",
       "      <th>2019</th>\n",
       "      <td>42183</td>\n",
       "      <td>42183</td>\n",
       "      <td>4.62%</td>\n",
       "    </tr>\n",
       "  </tbody>\n",
       "</table>\n",
       "</div>"
      ],
      "text/plain": [
       "      Número de defunciones  ajustado a 365 días Variación c/r año anterior\n",
       "Año                                                                        \n",
       "2010                  37540                37540                          -\n",
       "2011                  36874                36874                     -1.77%\n",
       "2012                  37990                37886                      2.74%\n",
       "2013                  38251                38251                      0.96%\n",
       "2014                  39336                39336                      2.84%\n",
       "2015                  39642                39642                      0.78%\n",
       "2016                  39836                39727                      0.21%\n",
       "2017                  41114                41114                      3.49%\n",
       "2018                  40319                40319                     -1.93%\n",
       "2019                  42183                42183                      4.62%"
      ]
     },
     "execution_count": 121,
     "metadata": {},
     "output_type": "execute_result"
    }
   ],
   "source": [
    "#hide\n",
    "df"
   ]
  },
  {
   "cell_type": "code",
   "execution_count": 122,
   "metadata": {
    "colab": {
     "base_uri": "https://localhost:8080/",
     "height": 34
    },
    "colab_type": "code",
    "id": "IN4zLoTCg8sA",
    "outputId": "84e42435-2921-4a72-9cbc-2996ab78bfd2"
   },
   "outputs": [
    {
     "name": "stdout",
     "output_type": "stream",
     "text": [
      "Promedio de las tasas de crecimiento anual entre 2012 y 2019: 1.57\n"
     ]
    }
   ],
   "source": [
    "#hide\n",
    "print(f\"Promedio de las tasas de crecimiento anual entre 2012 y 2019: {100*(np.mean(growth_rate[2:])-1):.2f}\")"
   ]
  },
  {
   "cell_type": "code",
   "execution_count": 123,
   "metadata": {},
   "outputs": [],
   "source": [
    "#hide\n",
    "amended_deaths = pd.DataFrame()\n",
    "for year in deaths_year_week.index[2:-1]:\n",
    "    amended_deaths[year] = \\\n",
    "    deaths_year_week.loc[year]*(df.loc[2019,\"Número de defunciones\"]/df.loc[year,\"Número de defunciones\"])*gr_mean\n",
    "amended_deaths[2020] = deaths_year_week.loc[2020,:current_week-1]"
   ]
  },
  {
   "cell_type": "code",
   "execution_count": 124,
   "metadata": {
    "colab": {},
    "colab_type": "code",
    "id": "wS28fZ3GSyBY"
   },
   "outputs": [],
   "source": [
    "#hide\n",
    "# amended_deaths = pd.DataFrame()\n",
    "# i = 8\n",
    "# for year in deaths_year_week.index[2:-1]:\n",
    "#     amended_deaths[year] = deaths_year_week.loc[year]*(gr_mean**i)\n",
    "#     i -=1\n",
    "# amended_deaths[2020] = deaths_year_week.loc[2020,:22]*(gr_mean**i)"
   ]
  },
  {
   "cell_type": "code",
   "execution_count": 125,
   "metadata": {
    "colab": {},
    "colab_type": "code",
    "id": "5fhs41KvTsMw"
   },
   "outputs": [
    {
     "data": {
      "text/html": [
       "<div>\n",
       "<style scoped>\n",
       "    .dataframe tbody tr th:only-of-type {\n",
       "        vertical-align: middle;\n",
       "    }\n",
       "\n",
       "    .dataframe tbody tr th {\n",
       "        vertical-align: top;\n",
       "    }\n",
       "\n",
       "    .dataframe thead th {\n",
       "        text-align: right;\n",
       "    }\n",
       "</style>\n",
       "<table border=\"1\" class=\"dataframe\">\n",
       "  <thead>\n",
       "    <tr style=\"text-align: right;\">\n",
       "      <th>semana</th>\n",
       "      <th>1</th>\n",
       "      <th>2</th>\n",
       "      <th>3</th>\n",
       "      <th>4</th>\n",
       "      <th>5</th>\n",
       "      <th>6</th>\n",
       "      <th>7</th>\n",
       "      <th>8</th>\n",
       "      <th>9</th>\n",
       "      <th>10</th>\n",
       "      <th>...</th>\n",
       "      <th>43</th>\n",
       "      <th>44</th>\n",
       "      <th>45</th>\n",
       "      <th>46</th>\n",
       "      <th>47</th>\n",
       "      <th>48</th>\n",
       "      <th>49</th>\n",
       "      <th>50</th>\n",
       "      <th>51</th>\n",
       "      <th>52</th>\n",
       "    </tr>\n",
       "  </thead>\n",
       "  <tbody>\n",
       "    <tr>\n",
       "      <th>2012</th>\n",
       "      <td>880.5</td>\n",
       "      <td>761.0</td>\n",
       "      <td>700.5</td>\n",
       "      <td>708.5</td>\n",
       "      <td>795.0</td>\n",
       "      <td>737.5</td>\n",
       "      <td>685.5</td>\n",
       "      <td>664.0</td>\n",
       "      <td>726.0</td>\n",
       "      <td>741.0</td>\n",
       "      <td>...</td>\n",
       "      <td>798.5</td>\n",
       "      <td>815.5</td>\n",
       "      <td>804.0</td>\n",
       "      <td>729.5</td>\n",
       "      <td>750.0</td>\n",
       "      <td>777.0</td>\n",
       "      <td>782.5</td>\n",
       "      <td>727.0</td>\n",
       "      <td>804.0</td>\n",
       "      <td>787.0</td>\n",
       "    </tr>\n",
       "    <tr>\n",
       "      <th>2013</th>\n",
       "      <td>798.5</td>\n",
       "      <td>769.5</td>\n",
       "      <td>702.5</td>\n",
       "      <td>730.0</td>\n",
       "      <td>713.5</td>\n",
       "      <td>799.5</td>\n",
       "      <td>697.5</td>\n",
       "      <td>712.0</td>\n",
       "      <td>774.0</td>\n",
       "      <td>776.0</td>\n",
       "      <td>...</td>\n",
       "      <td>775.0</td>\n",
       "      <td>753.5</td>\n",
       "      <td>776.0</td>\n",
       "      <td>782.5</td>\n",
       "      <td>880.0</td>\n",
       "      <td>725.5</td>\n",
       "      <td>764.0</td>\n",
       "      <td>682.0</td>\n",
       "      <td>818.5</td>\n",
       "      <td>780.5</td>\n",
       "    </tr>\n",
       "    <tr>\n",
       "      <th>2014</th>\n",
       "      <td>763.0</td>\n",
       "      <td>832.0</td>\n",
       "      <td>787.0</td>\n",
       "      <td>743.0</td>\n",
       "      <td>680.5</td>\n",
       "      <td>693.5</td>\n",
       "      <td>685.0</td>\n",
       "      <td>695.5</td>\n",
       "      <td>680.5</td>\n",
       "      <td>658.5</td>\n",
       "      <td>...</td>\n",
       "      <td>807.0</td>\n",
       "      <td>726.0</td>\n",
       "      <td>854.5</td>\n",
       "      <td>829.0</td>\n",
       "      <td>797.5</td>\n",
       "      <td>803.0</td>\n",
       "      <td>745.0</td>\n",
       "      <td>721.0</td>\n",
       "      <td>754.5</td>\n",
       "      <td>776.5</td>\n",
       "    </tr>\n",
       "    <tr>\n",
       "      <th>2015</th>\n",
       "      <td>736.5</td>\n",
       "      <td>810.0</td>\n",
       "      <td>773.0</td>\n",
       "      <td>672.5</td>\n",
       "      <td>727.5</td>\n",
       "      <td>755.5</td>\n",
       "      <td>763.0</td>\n",
       "      <td>740.5</td>\n",
       "      <td>668.5</td>\n",
       "      <td>697.0</td>\n",
       "      <td>...</td>\n",
       "      <td>803.5</td>\n",
       "      <td>707.0</td>\n",
       "      <td>779.5</td>\n",
       "      <td>889.5</td>\n",
       "      <td>824.5</td>\n",
       "      <td>761.0</td>\n",
       "      <td>805.5</td>\n",
       "      <td>785.0</td>\n",
       "      <td>780.5</td>\n",
       "      <td>758.5</td>\n",
       "    </tr>\n",
       "    <tr>\n",
       "      <th>2016</th>\n",
       "      <td>847.0</td>\n",
       "      <td>785.0</td>\n",
       "      <td>774.0</td>\n",
       "      <td>745.0</td>\n",
       "      <td>712.0</td>\n",
       "      <td>654.5</td>\n",
       "      <td>713.0</td>\n",
       "      <td>768.0</td>\n",
       "      <td>783.5</td>\n",
       "      <td>704.5</td>\n",
       "      <td>...</td>\n",
       "      <td>868.0</td>\n",
       "      <td>760.0</td>\n",
       "      <td>773.0</td>\n",
       "      <td>726.5</td>\n",
       "      <td>672.0</td>\n",
       "      <td>721.5</td>\n",
       "      <td>728.5</td>\n",
       "      <td>795.5</td>\n",
       "      <td>663.0</td>\n",
       "      <td>703.5</td>\n",
       "    </tr>\n",
       "    <tr>\n",
       "      <th>2017</th>\n",
       "      <td>786.0</td>\n",
       "      <td>706.0</td>\n",
       "      <td>792.0</td>\n",
       "      <td>846.5</td>\n",
       "      <td>792.0</td>\n",
       "      <td>689.0</td>\n",
       "      <td>695.0</td>\n",
       "      <td>751.5</td>\n",
       "      <td>714.0</td>\n",
       "      <td>670.5</td>\n",
       "      <td>...</td>\n",
       "      <td>750.5</td>\n",
       "      <td>705.0</td>\n",
       "      <td>758.5</td>\n",
       "      <td>707.0</td>\n",
       "      <td>782.0</td>\n",
       "      <td>706.0</td>\n",
       "      <td>697.0</td>\n",
       "      <td>717.0</td>\n",
       "      <td>826.5</td>\n",
       "      <td>816.0</td>\n",
       "    </tr>\n",
       "    <tr>\n",
       "      <th>2018</th>\n",
       "      <td>710.5</td>\n",
       "      <td>734.0</td>\n",
       "      <td>652.0</td>\n",
       "      <td>629.5</td>\n",
       "      <td>727.5</td>\n",
       "      <td>744.5</td>\n",
       "      <td>739.5</td>\n",
       "      <td>729.5</td>\n",
       "      <td>658.5</td>\n",
       "      <td>771.5</td>\n",
       "      <td>...</td>\n",
       "      <td>845.5</td>\n",
       "      <td>744.5</td>\n",
       "      <td>832.0</td>\n",
       "      <td>774.5</td>\n",
       "      <td>823.0</td>\n",
       "      <td>716.0</td>\n",
       "      <td>786.0</td>\n",
       "      <td>739.5</td>\n",
       "      <td>813.5</td>\n",
       "      <td>756.0</td>\n",
       "    </tr>\n",
       "    <tr>\n",
       "      <th>2019</th>\n",
       "      <td>744.5</td>\n",
       "      <td>688.5</td>\n",
       "      <td>678.5</td>\n",
       "      <td>753.5</td>\n",
       "      <td>791.0</td>\n",
       "      <td>769.0</td>\n",
       "      <td>716.0</td>\n",
       "      <td>684.5</td>\n",
       "      <td>731.0</td>\n",
       "      <td>666.0</td>\n",
       "      <td>...</td>\n",
       "      <td>772.0</td>\n",
       "      <td>830.0</td>\n",
       "      <td>805.5</td>\n",
       "      <td>755.5</td>\n",
       "      <td>801.5</td>\n",
       "      <td>751.5</td>\n",
       "      <td>775.0</td>\n",
       "      <td>693.5</td>\n",
       "      <td>718.0</td>\n",
       "      <td>745.5</td>\n",
       "    </tr>\n",
       "    <tr>\n",
       "      <th>2020</th>\n",
       "      <td>825.0</td>\n",
       "      <td>784.0</td>\n",
       "      <td>751.0</td>\n",
       "      <td>724.0</td>\n",
       "      <td>767.0</td>\n",
       "      <td>683.0</td>\n",
       "      <td>706.0</td>\n",
       "      <td>621.0</td>\n",
       "      <td>639.0</td>\n",
       "      <td>807.0</td>\n",
       "      <td>...</td>\n",
       "      <td>NaN</td>\n",
       "      <td>NaN</td>\n",
       "      <td>NaN</td>\n",
       "      <td>NaN</td>\n",
       "      <td>NaN</td>\n",
       "      <td>NaN</td>\n",
       "      <td>NaN</td>\n",
       "      <td>NaN</td>\n",
       "      <td>NaN</td>\n",
       "      <td>NaN</td>\n",
       "    </tr>\n",
       "  </tbody>\n",
       "</table>\n",
       "<p>9 rows × 52 columns</p>\n",
       "</div>"
      ],
      "text/plain": [
       "semana     1      2      3      4      5      6      7      8      9      10  \\\n",
       "2012    880.5  761.0  700.5  708.5  795.0  737.5  685.5  664.0  726.0  741.0   \n",
       "2013    798.5  769.5  702.5  730.0  713.5  799.5  697.5  712.0  774.0  776.0   \n",
       "2014    763.0  832.0  787.0  743.0  680.5  693.5  685.0  695.5  680.5  658.5   \n",
       "2015    736.5  810.0  773.0  672.5  727.5  755.5  763.0  740.5  668.5  697.0   \n",
       "2016    847.0  785.0  774.0  745.0  712.0  654.5  713.0  768.0  783.5  704.5   \n",
       "2017    786.0  706.0  792.0  846.5  792.0  689.0  695.0  751.5  714.0  670.5   \n",
       "2018    710.5  734.0  652.0  629.5  727.5  744.5  739.5  729.5  658.5  771.5   \n",
       "2019    744.5  688.5  678.5  753.5  791.0  769.0  716.0  684.5  731.0  666.0   \n",
       "2020    825.0  784.0  751.0  724.0  767.0  683.0  706.0  621.0  639.0  807.0   \n",
       "\n",
       "semana  ...     43     44     45     46     47     48     49     50     51  \\\n",
       "2012    ...  798.5  815.5  804.0  729.5  750.0  777.0  782.5  727.0  804.0   \n",
       "2013    ...  775.0  753.5  776.0  782.5  880.0  725.5  764.0  682.0  818.5   \n",
       "2014    ...  807.0  726.0  854.5  829.0  797.5  803.0  745.0  721.0  754.5   \n",
       "2015    ...  803.5  707.0  779.5  889.5  824.5  761.0  805.5  785.0  780.5   \n",
       "2016    ...  868.0  760.0  773.0  726.5  672.0  721.5  728.5  795.5  663.0   \n",
       "2017    ...  750.5  705.0  758.5  707.0  782.0  706.0  697.0  717.0  826.5   \n",
       "2018    ...  845.5  744.5  832.0  774.5  823.0  716.0  786.0  739.5  813.5   \n",
       "2019    ...  772.0  830.0  805.5  755.5  801.5  751.5  775.0  693.5  718.0   \n",
       "2020    ...    NaN    NaN    NaN    NaN    NaN    NaN    NaN    NaN    NaN   \n",
       "\n",
       "semana     52  \n",
       "2012    787.0  \n",
       "2013    780.5  \n",
       "2014    776.5  \n",
       "2015    758.5  \n",
       "2016    703.5  \n",
       "2017    816.0  \n",
       "2018    756.0  \n",
       "2019    745.5  \n",
       "2020      NaN  \n",
       "\n",
       "[9 rows x 52 columns]"
      ]
     },
     "execution_count": 125,
     "metadata": {},
     "output_type": "execute_result"
    }
   ],
   "source": [
    "#hide\n",
    "amended_deaths = amended_deaths.T\n",
    "amended_deaths"
   ]
  },
  {
   "cell_type": "code",
   "execution_count": 126,
   "metadata": {
    "colab": {},
    "colab_type": "code",
    "id": "RaDRbFAlTtdw"
   },
   "outputs": [],
   "source": [
    "#hide\n",
    "expected = amended_deaths.loc[2015:2019].mean()\n",
    "ci = amended_deaths.loc[2015:2019].std(ddof=1)"
   ]
  },
  {
   "cell_type": "code",
   "execution_count": 127,
   "metadata": {},
   "outputs": [],
   "source": [
    "#hide\n",
    "df_expected = pd.DataFrame()\n",
    "df_expected[\"Expected\"] = expected\n",
    "df_expected[\"lower\"] = expected - ci\n",
    "df_expected[\"upper\"] = expected + ci\n",
    "df_expected[\"lower 2\"] = expected - 2*ci\n",
    "df_expected[\"upper 2\"] = expected + 2*ci"
   ]
  },
  {
   "cell_type": "code",
   "execution_count": 128,
   "metadata": {},
   "outputs": [],
   "source": [
    "#hide\n",
    "amended_deaths = amended_deaths.T\n",
    "amended_deaths[\"Promedio ponderado últimos 5 años\"] = expected\n",
    "amended_deaths = amended_deaths.T"
   ]
  },
  {
   "cell_type": "code",
   "execution_count": 129,
   "metadata": {
    "scrolled": true
   },
   "outputs": [
    {
     "data": {
      "text/html": [
       "\n",
       "<div id=\"altair-viz-8753065e46864dffadcfaabd0f71836d\"></div>\n",
       "<script type=\"text/javascript\">\n",
       "  (function(spec, embedOpt){\n",
       "    let outputDiv = document.currentScript.previousElementSibling;\n",
       "    if (outputDiv.id !== \"altair-viz-8753065e46864dffadcfaabd0f71836d\") {\n",
       "      outputDiv = document.getElementById(\"altair-viz-8753065e46864dffadcfaabd0f71836d\");\n",
       "    }\n",
       "    const paths = {\n",
       "      \"vega\": \"https://cdn.jsdelivr.net/npm//vega@5?noext\",\n",
       "      \"vega-lib\": \"https://cdn.jsdelivr.net/npm//vega-lib?noext\",\n",
       "      \"vega-lite\": \"https://cdn.jsdelivr.net/npm//vega-lite@4.8.1?noext\",\n",
       "      \"vega-embed\": \"https://cdn.jsdelivr.net/npm//vega-embed@6?noext\",\n",
       "    };\n",
       "\n",
       "    function loadScript(lib) {\n",
       "      return new Promise(function(resolve, reject) {\n",
       "        var s = document.createElement('script');\n",
       "        s.src = paths[lib];\n",
       "        s.async = true;\n",
       "        s.onload = () => resolve(paths[lib]);\n",
       "        s.onerror = () => reject(`Error loading script: ${paths[lib]}`);\n",
       "        document.getElementsByTagName(\"head\")[0].appendChild(s);\n",
       "      });\n",
       "    }\n",
       "\n",
       "    function showError(err) {\n",
       "      outputDiv.innerHTML = `<div class=\"error\" style=\"color:red;\">${err}</div>`;\n",
       "      throw err;\n",
       "    }\n",
       "\n",
       "    function displayChart(vegaEmbed) {\n",
       "      vegaEmbed(outputDiv, spec, embedOpt)\n",
       "        .catch(err => showError(`Javascript Error: ${err.message}<br>This usually means there's a typo in your chart specification. See the javascript console for the full traceback.`));\n",
       "    }\n",
       "\n",
       "    if(typeof define === \"function\" && define.amd) {\n",
       "      requirejs.config({paths});\n",
       "      require([\"vega-embed\"], displayChart, err => showError(`Error loading script: ${err.message}`));\n",
       "    } else if (typeof vegaEmbed === \"function\") {\n",
       "      displayChart(vegaEmbed);\n",
       "    } else {\n",
       "      loadScript(\"vega\")\n",
       "        .then(() => loadScript(\"vega-lite\"))\n",
       "        .then(() => loadScript(\"vega-embed\"))\n",
       "        .catch(showError)\n",
       "        .then(() => displayChart(vegaEmbed));\n",
       "    }\n",
       "  })({\"config\": {\"view\": {\"continuousWidth\": 400, \"continuousHeight\": 300}}, \"layer\": [{\"data\": {\"name\": \"data-4b5dfc62c322b15598de3edb3253360a\"}, \"mark\": {\"type\": \"line\", \"point\": true}, \"encoding\": {\"color\": {\"type\": \"nominal\", \"field\": \"a\\u00f1o\", \"scale\": {\"domain\": [\"2015\", \"2016\", \"2017\", \"2018\", \"2019\", \"2020\", \"Promedio ponderado \\u00faltimos 5 a\\u00f1os\"], \"range\": [\"lightgray\", \"lightgray\", \"lightgray\", \"lightgray\", \"lightgray\", \"red\", \"blue\"]}}, \"x\": {\"type\": \"quantitative\", \"field\": \"semana\", \"scale\": {\"domain\": [1, 52]}}, \"y\": {\"type\": \"quantitative\", \"field\": \"defunciones\", \"scale\": {\"domain\": [0, 2400]}}}}, {\"data\": {\"name\": \"data-c4d327dd9252a39fa6803dc8e2008932\"}, \"mark\": {\"type\": \"area\", \"opacity\": 0.5}, \"encoding\": {\"x\": {\"type\": \"quantitative\", \"field\": \"semana\"}, \"y\": {\"type\": \"quantitative\", \"axis\": {\"title\": \"defunciones\"}, \"field\": \"lower\"}, \"y2\": {\"field\": \"upper\"}}}, {\"data\": {\"name\": \"data-c4d327dd9252a39fa6803dc8e2008932\"}, \"mark\": {\"type\": \"area\", \"opacity\": 0.3}, \"encoding\": {\"x\": {\"type\": \"quantitative\", \"field\": \"semana\"}, \"y\": {\"type\": \"quantitative\", \"field\": \"lower 2\"}, \"y2\": {\"field\": \"upper 2\"}}}, {\"mark\": {\"type\": \"rule\", \"color\": \"#aaa\"}, \"encoding\": {\"x\": {\"type\": \"quantitative\", \"axis\": {\"title\": \"Semanas\"}, \"field\": \"semana\", \"scale\": {\"domain\": [1, 52]}, \"sort\": null}}, \"transform\": [{\"filter\": {\"selection\": \"selector004\"}}]}, {\"data\": {\"name\": \"data-4b5dfc62c322b15598de3edb3253360a\"}, \"mark\": \"circle\", \"encoding\": {\"color\": {\"type\": \"nominal\", \"field\": \"a\\u00f1o\", \"scale\": {\"domain\": [\"2015\", \"2016\", \"2017\", \"2018\", \"2019\", \"2020\", \"Promedio ponderado \\u00faltimos 5 a\\u00f1os\"], \"range\": [\"lightgray\", \"lightgray\", \"lightgray\", \"lightgray\", \"lightgray\", \"red\", \"blue\"]}}, \"opacity\": {\"condition\": {\"value\": 1, \"selection\": \"selector004\"}, \"value\": 0}, \"x\": {\"type\": \"quantitative\", \"field\": \"semana\", \"scale\": {\"domain\": [1, 52]}}, \"y\": {\"type\": \"quantitative\", \"field\": \"defunciones\", \"scale\": {\"domain\": [0, 2400]}}}, \"selection\": {\"selector004\": {\"type\": \"single\", \"encodings\": [\"x\"], \"on\": \"mouseover\", \"nearest\": true, \"empty\": \"none\"}}}, {\"data\": {\"name\": \"data-4b5dfc62c322b15598de3edb3253360a\"}, \"mark\": {\"type\": \"text\", \"align\": \"left\", \"dx\": 5, \"dy\": -5, \"stroke\": \"white\", \"strokeWidth\": 2}, \"encoding\": {\"color\": {\"type\": \"nominal\", \"field\": \"a\\u00f1o\", \"scale\": {\"domain\": [\"2015\", \"2016\", \"2017\", \"2018\", \"2019\", \"2020\", \"Promedio ponderado \\u00faltimos 5 a\\u00f1os\"], \"range\": [\"lightgray\", \"lightgray\", \"lightgray\", \"lightgray\", \"lightgray\", \"red\", \"blue\"]}}, \"text\": {\"type\": \"quantitative\", \"field\": \"defunciones\"}, \"x\": {\"type\": \"quantitative\", \"field\": \"semana\", \"scale\": {\"domain\": [1, 52]}}, \"y\": {\"type\": \"quantitative\", \"field\": \"defunciones\", \"scale\": {\"domain\": [0, 2400]}}}, \"transform\": [{\"filter\": {\"selection\": \"selector004\"}}]}, {\"data\": {\"name\": \"data-4b5dfc62c322b15598de3edb3253360a\"}, \"mark\": {\"type\": \"text\", \"align\": \"left\", \"dx\": 5, \"dy\": -5}, \"encoding\": {\"color\": {\"type\": \"nominal\", \"field\": \"a\\u00f1o\", \"scale\": {\"domain\": [\"2015\", \"2016\", \"2017\", \"2018\", \"2019\", \"2020\", \"Promedio ponderado \\u00faltimos 5 a\\u00f1os\"], \"range\": [\"lightgray\", \"lightgray\", \"lightgray\", \"lightgray\", \"lightgray\", \"red\", \"blue\"]}}, \"text\": {\"type\": \"quantitative\", \"field\": \"defunciones\"}, \"x\": {\"type\": \"quantitative\", \"field\": \"semana\", \"scale\": {\"domain\": [1, 52]}}, \"y\": {\"type\": \"quantitative\", \"field\": \"defunciones\", \"scale\": {\"domain\": [0, 2400]}}}, \"transform\": [{\"filter\": {\"selection\": \"selector004\"}}]}], \"data\": {\"name\": \"data-4b5dfc62c322b15598de3edb3253360a\"}, \"title\": \"Defunciones inscritas en Chile por semana (corregido) hasta semana 32\", \"width\": 600, \"$schema\": \"https://vega.github.io/schema/vega-lite/v4.8.1.json\", \"datasets\": {\"data-4b5dfc62c322b15598de3edb3253360a\": [{\"a\\u00f1o\": 2015, \"semana\": 1, \"defunciones\": 736.5}, {\"a\\u00f1o\": 2016, \"semana\": 1, \"defunciones\": 847.0}, {\"a\\u00f1o\": 2017, \"semana\": 1, \"defunciones\": 786.0}, {\"a\\u00f1o\": 2018, \"semana\": 1, \"defunciones\": 710.5}, {\"a\\u00f1o\": 2019, \"semana\": 1, \"defunciones\": 744.5}, {\"a\\u00f1o\": 2020, \"semana\": 1, \"defunciones\": 825.0}, {\"a\\u00f1o\": \"Promedio ponderado \\u00faltimos 5 a\\u00f1os\", \"semana\": 1, \"defunciones\": 765.0}, {\"a\\u00f1o\": 2015, \"semana\": 2, \"defunciones\": 810.0}, {\"a\\u00f1o\": 2016, \"semana\": 2, \"defunciones\": 785.0}, {\"a\\u00f1o\": 2017, \"semana\": 2, \"defunciones\": 706.0}, {\"a\\u00f1o\": 2018, \"semana\": 2, \"defunciones\": 734.0}, {\"a\\u00f1o\": 2019, \"semana\": 2, \"defunciones\": 688.5}, {\"a\\u00f1o\": 2020, \"semana\": 2, \"defunciones\": 784.0}, {\"a\\u00f1o\": \"Promedio ponderado \\u00faltimos 5 a\\u00f1os\", \"semana\": 2, \"defunciones\": 744.5}, {\"a\\u00f1o\": 2015, \"semana\": 3, \"defunciones\": 773.0}, {\"a\\u00f1o\": 2016, \"semana\": 3, \"defunciones\": 774.0}, {\"a\\u00f1o\": 2017, \"semana\": 3, \"defunciones\": 792.0}, {\"a\\u00f1o\": 2018, \"semana\": 3, \"defunciones\": 652.0}, {\"a\\u00f1o\": 2019, \"semana\": 3, \"defunciones\": 678.5}, {\"a\\u00f1o\": 2020, \"semana\": 3, \"defunciones\": 751.0}, {\"a\\u00f1o\": \"Promedio ponderado \\u00faltimos 5 a\\u00f1os\", \"semana\": 3, \"defunciones\": 734.0}, {\"a\\u00f1o\": 2015, \"semana\": 4, \"defunciones\": 672.5}, {\"a\\u00f1o\": 2016, \"semana\": 4, \"defunciones\": 745.0}, {\"a\\u00f1o\": 2017, \"semana\": 4, \"defunciones\": 846.5}, {\"a\\u00f1o\": 2018, \"semana\": 4, \"defunciones\": 629.5}, {\"a\\u00f1o\": 2019, \"semana\": 4, \"defunciones\": 753.5}, {\"a\\u00f1o\": 2020, \"semana\": 4, \"defunciones\": 724.0}, {\"a\\u00f1o\": \"Promedio ponderado \\u00faltimos 5 a\\u00f1os\", \"semana\": 4, \"defunciones\": 729.5}, {\"a\\u00f1o\": 2015, \"semana\": 5, \"defunciones\": 727.5}, {\"a\\u00f1o\": 2016, \"semana\": 5, \"defunciones\": 712.0}, {\"a\\u00f1o\": 2017, \"semana\": 5, \"defunciones\": 792.0}, {\"a\\u00f1o\": 2018, \"semana\": 5, \"defunciones\": 727.5}, {\"a\\u00f1o\": 2019, \"semana\": 5, \"defunciones\": 791.0}, {\"a\\u00f1o\": 2020, \"semana\": 5, \"defunciones\": 767.0}, {\"a\\u00f1o\": \"Promedio ponderado \\u00faltimos 5 a\\u00f1os\", \"semana\": 5, \"defunciones\": 750.5}, {\"a\\u00f1o\": 2015, \"semana\": 6, \"defunciones\": 755.5}, {\"a\\u00f1o\": 2016, \"semana\": 6, \"defunciones\": 654.5}, {\"a\\u00f1o\": 2017, \"semana\": 6, \"defunciones\": 689.0}, {\"a\\u00f1o\": 2018, \"semana\": 6, \"defunciones\": 744.5}, {\"a\\u00f1o\": 2019, \"semana\": 6, \"defunciones\": 769.0}, {\"a\\u00f1o\": 2020, \"semana\": 6, \"defunciones\": 683.0}, {\"a\\u00f1o\": \"Promedio ponderado \\u00faltimos 5 a\\u00f1os\", \"semana\": 6, \"defunciones\": 722.5}, {\"a\\u00f1o\": 2015, \"semana\": 7, \"defunciones\": 763.0}, {\"a\\u00f1o\": 2016, \"semana\": 7, \"defunciones\": 713.0}, {\"a\\u00f1o\": 2017, \"semana\": 7, \"defunciones\": 695.0}, {\"a\\u00f1o\": 2018, \"semana\": 7, \"defunciones\": 739.5}, {\"a\\u00f1o\": 2019, \"semana\": 7, \"defunciones\": 716.0}, {\"a\\u00f1o\": 2020, \"semana\": 7, \"defunciones\": 706.0}, {\"a\\u00f1o\": \"Promedio ponderado \\u00faltimos 5 a\\u00f1os\", \"semana\": 7, \"defunciones\": 725.5}, {\"a\\u00f1o\": 2015, \"semana\": 8, \"defunciones\": 740.5}, {\"a\\u00f1o\": 2016, \"semana\": 8, \"defunciones\": 768.0}, {\"a\\u00f1o\": 2017, \"semana\": 8, \"defunciones\": 751.5}, {\"a\\u00f1o\": 2018, \"semana\": 8, \"defunciones\": 729.5}, {\"a\\u00f1o\": 2019, \"semana\": 8, \"defunciones\": 684.5}, {\"a\\u00f1o\": 2020, \"semana\": 8, \"defunciones\": 621.0}, {\"a\\u00f1o\": \"Promedio ponderado \\u00faltimos 5 a\\u00f1os\", \"semana\": 8, \"defunciones\": 735.0}, {\"a\\u00f1o\": 2015, \"semana\": 9, \"defunciones\": 668.5}, {\"a\\u00f1o\": 2016, \"semana\": 9, \"defunciones\": 783.5}, {\"a\\u00f1o\": 2017, \"semana\": 9, \"defunciones\": 714.0}, {\"a\\u00f1o\": 2018, \"semana\": 9, \"defunciones\": 658.5}, {\"a\\u00f1o\": 2019, \"semana\": 9, \"defunciones\": 731.0}, {\"a\\u00f1o\": 2020, \"semana\": 9, \"defunciones\": 639.0}, {\"a\\u00f1o\": \"Promedio ponderado \\u00faltimos 5 a\\u00f1os\", \"semana\": 9, \"defunciones\": 711.0}, {\"a\\u00f1o\": 2015, \"semana\": 10, \"defunciones\": 697.0}, {\"a\\u00f1o\": 2016, \"semana\": 10, \"defunciones\": 704.5}, {\"a\\u00f1o\": 2017, \"semana\": 10, \"defunciones\": 670.5}, {\"a\\u00f1o\": 2018, \"semana\": 10, \"defunciones\": 771.5}, {\"a\\u00f1o\": 2019, \"semana\": 10, \"defunciones\": 666.0}, {\"a\\u00f1o\": 2020, \"semana\": 10, \"defunciones\": 807.0}, {\"a\\u00f1o\": \"Promedio ponderado \\u00faltimos 5 a\\u00f1os\", \"semana\": 10, \"defunciones\": 702.0}, {\"a\\u00f1o\": 2015, \"semana\": 11, \"defunciones\": 760.0}, {\"a\\u00f1o\": 2016, \"semana\": 11, \"defunciones\": 670.0}, {\"a\\u00f1o\": 2017, \"semana\": 11, \"defunciones\": 689.0}, {\"a\\u00f1o\": 2018, \"semana\": 11, \"defunciones\": 723.5}, {\"a\\u00f1o\": 2019, \"semana\": 11, \"defunciones\": 722.0}, {\"a\\u00f1o\": 2020, \"semana\": 11, \"defunciones\": 717.0}, {\"a\\u00f1o\": \"Promedio ponderado \\u00faltimos 5 a\\u00f1os\", \"semana\": 11, \"defunciones\": 713.0}, {\"a\\u00f1o\": 2015, \"semana\": 12, \"defunciones\": 723.0}, {\"a\\u00f1o\": 2016, \"semana\": 12, \"defunciones\": 725.5}, {\"a\\u00f1o\": 2017, \"semana\": 12, \"defunciones\": 694.0}, {\"a\\u00f1o\": 2018, \"semana\": 12, \"defunciones\": 743.5}, {\"a\\u00f1o\": 2019, \"semana\": 12, \"defunciones\": 753.5}, {\"a\\u00f1o\": 2020, \"semana\": 12, \"defunciones\": 719.0}, {\"a\\u00f1o\": \"Promedio ponderado \\u00faltimos 5 a\\u00f1os\", \"semana\": 12, \"defunciones\": 728.0}, {\"a\\u00f1o\": 2015, \"semana\": 13, \"defunciones\": 721.0}, {\"a\\u00f1o\": 2016, \"semana\": 13, \"defunciones\": 692.0}, {\"a\\u00f1o\": 2017, \"semana\": 13, \"defunciones\": 721.0}, {\"a\\u00f1o\": 2018, \"semana\": 13, \"defunciones\": 772.5}, {\"a\\u00f1o\": 2019, \"semana\": 13, \"defunciones\": 692.5}, {\"a\\u00f1o\": 2020, \"semana\": 13, \"defunciones\": 709.0}, {\"a\\u00f1o\": \"Promedio ponderado \\u00faltimos 5 a\\u00f1os\", \"semana\": 13, \"defunciones\": 719.5}, {\"a\\u00f1o\": 2015, \"semana\": 14, \"defunciones\": 702.0}, {\"a\\u00f1o\": 2016, \"semana\": 14, \"defunciones\": 752.5}, {\"a\\u00f1o\": 2017, \"semana\": 14, \"defunciones\": 758.5}, {\"a\\u00f1o\": 2018, \"semana\": 14, \"defunciones\": 753.0}, {\"a\\u00f1o\": 2019, \"semana\": 14, \"defunciones\": 759.5}, {\"a\\u00f1o\": 2020, \"semana\": 14, \"defunciones\": 754.0}, {\"a\\u00f1o\": \"Promedio ponderado \\u00faltimos 5 a\\u00f1os\", \"semana\": 14, \"defunciones\": 745.0}, {\"a\\u00f1o\": 2015, \"semana\": 15, \"defunciones\": 722.0}, {\"a\\u00f1o\": 2016, \"semana\": 15, \"defunciones\": 788.0}, {\"a\\u00f1o\": 2017, \"semana\": 15, \"defunciones\": 775.5}, {\"a\\u00f1o\": 2018, \"semana\": 15, \"defunciones\": 769.0}, {\"a\\u00f1o\": 2019, \"semana\": 15, \"defunciones\": 737.5}, {\"a\\u00f1o\": 2020, \"semana\": 15, \"defunciones\": 787.0}, {\"a\\u00f1o\": \"Promedio ponderado \\u00faltimos 5 a\\u00f1os\", \"semana\": 15, \"defunciones\": 759.0}, {\"a\\u00f1o\": 2015, \"semana\": 16, \"defunciones\": 714.5}, {\"a\\u00f1o\": 2016, \"semana\": 16, \"defunciones\": 815.0}, {\"a\\u00f1o\": 2017, \"semana\": 16, \"defunciones\": 776.5}, {\"a\\u00f1o\": 2018, \"semana\": 16, \"defunciones\": 767.0}, {\"a\\u00f1o\": 2019, \"semana\": 16, \"defunciones\": 816.5}, {\"a\\u00f1o\": 2020, \"semana\": 16, \"defunciones\": 779.0}, {\"a\\u00f1o\": \"Promedio ponderado \\u00faltimos 5 a\\u00f1os\", \"semana\": 16, \"defunciones\": 777.5}, {\"a\\u00f1o\": 2015, \"semana\": 17, \"defunciones\": 800.0}, {\"a\\u00f1o\": 2016, \"semana\": 17, \"defunciones\": 819.0}, {\"a\\u00f1o\": 2017, \"semana\": 17, \"defunciones\": 772.5}, {\"a\\u00f1o\": 2018, \"semana\": 17, \"defunciones\": 783.0}, {\"a\\u00f1o\": 2019, \"semana\": 17, \"defunciones\": 730.0}, {\"a\\u00f1o\": 2020, \"semana\": 17, \"defunciones\": 790.0}, {\"a\\u00f1o\": \"Promedio ponderado \\u00faltimos 5 a\\u00f1os\", \"semana\": 17, \"defunciones\": 781.0}, {\"a\\u00f1o\": 2015, \"semana\": 18, \"defunciones\": 774.0}, {\"a\\u00f1o\": 2016, \"semana\": 18, \"defunciones\": 929.0}, {\"a\\u00f1o\": 2017, \"semana\": 18, \"defunciones\": 836.0}, {\"a\\u00f1o\": 2018, \"semana\": 18, \"defunciones\": 814.5}, {\"a\\u00f1o\": 2019, \"semana\": 18, \"defunciones\": 827.5}, {\"a\\u00f1o\": 2020, \"semana\": 18, \"defunciones\": 744.0}, {\"a\\u00f1o\": \"Promedio ponderado \\u00faltimos 5 a\\u00f1os\", \"semana\": 18, \"defunciones\": 836.0}, {\"a\\u00f1o\": 2015, \"semana\": 19, \"defunciones\": 811.0}, {\"a\\u00f1o\": 2016, \"semana\": 19, \"defunciones\": 795.5}, {\"a\\u00f1o\": 2017, \"semana\": 19, \"defunciones\": 770.5}, {\"a\\u00f1o\": 2018, \"semana\": 19, \"defunciones\": 772.5}, {\"a\\u00f1o\": 2019, \"semana\": 19, \"defunciones\": 772.0}, {\"a\\u00f1o\": 2020, \"semana\": 19, \"defunciones\": 952.0}, {\"a\\u00f1o\": \"Promedio ponderado \\u00faltimos 5 a\\u00f1os\", \"semana\": 19, \"defunciones\": 784.0}, {\"a\\u00f1o\": 2015, \"semana\": 20, \"defunciones\": 844.5}, {\"a\\u00f1o\": 2016, \"semana\": 20, \"defunciones\": 829.0}, {\"a\\u00f1o\": 2017, \"semana\": 20, \"defunciones\": 823.5}, {\"a\\u00f1o\": 2018, \"semana\": 20, \"defunciones\": 849.5}, {\"a\\u00f1o\": 2019, \"semana\": 20, \"defunciones\": 921.0}, {\"a\\u00f1o\": 2020, \"semana\": 20, \"defunciones\": 1098.0}, {\"a\\u00f1o\": \"Promedio ponderado \\u00faltimos 5 a\\u00f1os\", \"semana\": 20, \"defunciones\": 853.5}, {\"a\\u00f1o\": 2015, \"semana\": 21, \"defunciones\": 821.5}, {\"a\\u00f1o\": 2016, \"semana\": 21, \"defunciones\": 838.5}, {\"a\\u00f1o\": 2017, \"semana\": 21, \"defunciones\": 867.5}, {\"a\\u00f1o\": 2018, \"semana\": 21, \"defunciones\": 834.0}, {\"a\\u00f1o\": 2019, \"semana\": 21, \"defunciones\": 912.0}, {\"a\\u00f1o\": 2020, \"semana\": 21, \"defunciones\": 1379.0}, {\"a\\u00f1o\": \"Promedio ponderado \\u00faltimos 5 a\\u00f1os\", \"semana\": 21, \"defunciones\": 854.5}, {\"a\\u00f1o\": 2015, \"semana\": 22, \"defunciones\": 915.5}, {\"a\\u00f1o\": 2016, \"semana\": 22, \"defunciones\": 879.5}, {\"a\\u00f1o\": 2017, \"semana\": 22, \"defunciones\": 929.0}, {\"a\\u00f1o\": 2018, \"semana\": 22, \"defunciones\": 871.0}, {\"a\\u00f1o\": 2019, \"semana\": 22, \"defunciones\": 903.0}, {\"a\\u00f1o\": 2020, \"semana\": 22, \"defunciones\": 1963.0}, {\"a\\u00f1o\": \"Promedio ponderado \\u00faltimos 5 a\\u00f1os\", \"semana\": 22, \"defunciones\": 900.0}, {\"a\\u00f1o\": 2015, \"semana\": 23, \"defunciones\": 869.5}, {\"a\\u00f1o\": 2016, \"semana\": 23, \"defunciones\": 837.5}, {\"a\\u00f1o\": 2017, \"semana\": 23, \"defunciones\": 969.5}, {\"a\\u00f1o\": 2018, \"semana\": 23, \"defunciones\": 955.0}, {\"a\\u00f1o\": 2019, \"semana\": 23, \"defunciones\": 976.0}, {\"a\\u00f1o\": 2020, \"semana\": 23, \"defunciones\": 2246.0}, {\"a\\u00f1o\": \"Promedio ponderado \\u00faltimos 5 a\\u00f1os\", \"semana\": 23, \"defunciones\": 921.5}, {\"a\\u00f1o\": 2015, \"semana\": 24, \"defunciones\": 886.5}, {\"a\\u00f1o\": 2016, \"semana\": 24, \"defunciones\": 884.5}, {\"a\\u00f1o\": 2017, \"semana\": 24, \"defunciones\": 1115.0}, {\"a\\u00f1o\": 2018, \"semana\": 24, \"defunciones\": 997.5}, {\"a\\u00f1o\": 2019, \"semana\": 24, \"defunciones\": 963.0}, {\"a\\u00f1o\": 2020, \"semana\": 24, \"defunciones\": 2356.0}, {\"a\\u00f1o\": \"Promedio ponderado \\u00faltimos 5 a\\u00f1os\", \"semana\": 24, \"defunciones\": 969.5}, {\"a\\u00f1o\": 2015, \"semana\": 25, \"defunciones\": 906.0}, {\"a\\u00f1o\": 2016, \"semana\": 25, \"defunciones\": 953.5}, {\"a\\u00f1o\": 2017, \"semana\": 25, \"defunciones\": 1175.0}, {\"a\\u00f1o\": 2018, \"semana\": 25, \"defunciones\": 918.5}, {\"a\\u00f1o\": 2019, \"semana\": 25, \"defunciones\": 1025.0}, {\"a\\u00f1o\": 2020, \"semana\": 25, \"defunciones\": 2216.0}, {\"a\\u00f1o\": \"Promedio ponderado \\u00faltimos 5 a\\u00f1os\", \"semana\": 25, \"defunciones\": 996.0}, {\"a\\u00f1o\": 2015, \"semana\": 26, \"defunciones\": 1019.5}, {\"a\\u00f1o\": 2016, \"semana\": 26, \"defunciones\": 1008.5}, {\"a\\u00f1o\": 2017, \"semana\": 26, \"defunciones\": 933.0}, {\"a\\u00f1o\": 2018, \"semana\": 26, \"defunciones\": 937.0}, {\"a\\u00f1o\": 2019, \"semana\": 26, \"defunciones\": 1000.5}, {\"a\\u00f1o\": 2020, \"semana\": 26, \"defunciones\": 1908.0}, {\"a\\u00f1o\": \"Promedio ponderado \\u00faltimos 5 a\\u00f1os\", \"semana\": 26, \"defunciones\": 979.0}, {\"a\\u00f1o\": 2015, \"semana\": 27, \"defunciones\": 907.0}, {\"a\\u00f1o\": 2016, \"semana\": 27, \"defunciones\": 935.5}, {\"a\\u00f1o\": 2017, \"semana\": 27, \"defunciones\": 1085.0}, {\"a\\u00f1o\": 2018, \"semana\": 27, \"defunciones\": 906.0}, {\"a\\u00f1o\": 2019, \"semana\": 27, \"defunciones\": 1017.5}, {\"a\\u00f1o\": 2020, \"semana\": 27, \"defunciones\": 1531.0}, {\"a\\u00f1o\": \"Promedio ponderado \\u00faltimos 5 a\\u00f1os\", \"semana\": 27, \"defunciones\": 970.5}, {\"a\\u00f1o\": 2015, \"semana\": 28, \"defunciones\": 961.5}, {\"a\\u00f1o\": 2016, \"semana\": 28, \"defunciones\": 1084.0}, {\"a\\u00f1o\": 2017, \"semana\": 28, \"defunciones\": 975.5}, {\"a\\u00f1o\": 2018, \"semana\": 28, \"defunciones\": 952.5}, {\"a\\u00f1o\": 2019, \"semana\": 28, \"defunciones\": 973.0}, {\"a\\u00f1o\": 2020, \"semana\": 28, \"defunciones\": 1391.0}, {\"a\\u00f1o\": \"Promedio ponderado \\u00faltimos 5 a\\u00f1os\", \"semana\": 28, \"defunciones\": 989.5}, {\"a\\u00f1o\": 2015, \"semana\": 29, \"defunciones\": 919.0}, {\"a\\u00f1o\": 2016, \"semana\": 29, \"defunciones\": 1066.0}, {\"a\\u00f1o\": 2017, \"semana\": 29, \"defunciones\": 1010.0}, {\"a\\u00f1o\": 2018, \"semana\": 29, \"defunciones\": 886.0}, {\"a\\u00f1o\": 2019, \"semana\": 29, \"defunciones\": 977.0}, {\"a\\u00f1o\": 2020, \"semana\": 29, \"defunciones\": 1211.0}, {\"a\\u00f1o\": \"Promedio ponderado \\u00faltimos 5 a\\u00f1os\", \"semana\": 29, \"defunciones\": 972.0}, {\"a\\u00f1o\": 2015, \"semana\": 30, \"defunciones\": 931.0}, {\"a\\u00f1o\": 2016, \"semana\": 30, \"defunciones\": 982.5}, {\"a\\u00f1o\": 2017, \"semana\": 30, \"defunciones\": 911.0}, {\"a\\u00f1o\": 2018, \"semana\": 30, \"defunciones\": 983.5}, {\"a\\u00f1o\": 2019, \"semana\": 30, \"defunciones\": 988.0}, {\"a\\u00f1o\": 2020, \"semana\": 30, \"defunciones\": 1165.0}, {\"a\\u00f1o\": \"Promedio ponderado \\u00faltimos 5 a\\u00f1os\", \"semana\": 30, \"defunciones\": 959.0}, {\"a\\u00f1o\": 2015, \"semana\": 31, \"defunciones\": 979.5}, {\"a\\u00f1o\": 2016, \"semana\": 31, \"defunciones\": 1004.0}, {\"a\\u00f1o\": 2017, \"semana\": 31, \"defunciones\": 933.0}, {\"a\\u00f1o\": 2018, \"semana\": 31, \"defunciones\": 1018.5}, {\"a\\u00f1o\": 2019, \"semana\": 31, \"defunciones\": 936.5}, {\"a\\u00f1o\": 2020, \"semana\": 31, \"defunciones\": 1054.0}, {\"a\\u00f1o\": \"Promedio ponderado \\u00faltimos 5 a\\u00f1os\", \"semana\": 31, \"defunciones\": 974.5}, {\"a\\u00f1o\": 2015, \"semana\": 32, \"defunciones\": 976.0}, {\"a\\u00f1o\": 2016, \"semana\": 32, \"defunciones\": 907.5}, {\"a\\u00f1o\": 2017, \"semana\": 32, \"defunciones\": 886.0}, {\"a\\u00f1o\": 2018, \"semana\": 32, \"defunciones\": 1025.0}, {\"a\\u00f1o\": 2019, \"semana\": 32, \"defunciones\": 925.0}, {\"a\\u00f1o\": 2020, \"semana\": 32, \"defunciones\": 983.0}, {\"a\\u00f1o\": \"Promedio ponderado \\u00faltimos 5 a\\u00f1os\", \"semana\": 32, \"defunciones\": 944.0}, {\"a\\u00f1o\": 2015, \"semana\": 33, \"defunciones\": 892.5}, {\"a\\u00f1o\": 2016, \"semana\": 33, \"defunciones\": 870.0}, {\"a\\u00f1o\": 2017, \"semana\": 33, \"defunciones\": 920.5}, {\"a\\u00f1o\": 2018, \"semana\": 33, \"defunciones\": 949.5}, {\"a\\u00f1o\": 2019, \"semana\": 33, \"defunciones\": 902.0}, {\"a\\u00f1o\": 2020, \"semana\": 33, \"defunciones\": null}, {\"a\\u00f1o\": \"Promedio ponderado \\u00faltimos 5 a\\u00f1os\", \"semana\": 33, \"defunciones\": 907.0}, {\"a\\u00f1o\": 2015, \"semana\": 34, \"defunciones\": 963.5}, {\"a\\u00f1o\": 2016, \"semana\": 34, \"defunciones\": 879.5}, {\"a\\u00f1o\": 2017, \"semana\": 34, \"defunciones\": 860.0}, {\"a\\u00f1o\": 2018, \"semana\": 34, \"defunciones\": 994.5}, {\"a\\u00f1o\": 2019, \"semana\": 34, \"defunciones\": 874.5}, {\"a\\u00f1o\": 2020, \"semana\": 34, \"defunciones\": null}, {\"a\\u00f1o\": \"Promedio ponderado \\u00faltimos 5 a\\u00f1os\", \"semana\": 34, \"defunciones\": 914.5}, {\"a\\u00f1o\": 2015, \"semana\": 35, \"defunciones\": 931.0}, {\"a\\u00f1o\": 2016, \"semana\": 35, \"defunciones\": 874.0}, {\"a\\u00f1o\": 2017, \"semana\": 35, \"defunciones\": 870.5}, {\"a\\u00f1o\": 2018, \"semana\": 35, \"defunciones\": 929.5}, {\"a\\u00f1o\": 2019, \"semana\": 35, \"defunciones\": 892.5}, {\"a\\u00f1o\": 2020, \"semana\": 35, \"defunciones\": null}, {\"a\\u00f1o\": \"Promedio ponderado \\u00faltimos 5 a\\u00f1os\", \"semana\": 35, \"defunciones\": 900.0}, {\"a\\u00f1o\": 2015, \"semana\": 36, \"defunciones\": 898.5}, {\"a\\u00f1o\": 2016, \"semana\": 36, \"defunciones\": 955.5}, {\"a\\u00f1o\": 2017, \"semana\": 36, \"defunciones\": 841.5}, {\"a\\u00f1o\": 2018, \"semana\": 36, \"defunciones\": 915.5}, {\"a\\u00f1o\": 2019, \"semana\": 36, \"defunciones\": 900.0}, {\"a\\u00f1o\": 2020, \"semana\": 36, \"defunciones\": null}, {\"a\\u00f1o\": \"Promedio ponderado \\u00faltimos 5 a\\u00f1os\", \"semana\": 36, \"defunciones\": 902.5}, {\"a\\u00f1o\": 2015, \"semana\": 37, \"defunciones\": 831.5}, {\"a\\u00f1o\": 2016, \"semana\": 37, \"defunciones\": 880.5}, {\"a\\u00f1o\": 2017, \"semana\": 37, \"defunciones\": 905.0}, {\"a\\u00f1o\": 2018, \"semana\": 37, \"defunciones\": 911.5}, {\"a\\u00f1o\": 2019, \"semana\": 37, \"defunciones\": 853.0}, {\"a\\u00f1o\": 2020, \"semana\": 37, \"defunciones\": null}, {\"a\\u00f1o\": \"Promedio ponderado \\u00faltimos 5 a\\u00f1os\", \"semana\": 37, \"defunciones\": 876.0}, {\"a\\u00f1o\": 2015, \"semana\": 38, \"defunciones\": 843.5}, {\"a\\u00f1o\": 2016, \"semana\": 38, \"defunciones\": 895.0}, {\"a\\u00f1o\": 2017, \"semana\": 38, \"defunciones\": 795.0}, {\"a\\u00f1o\": 2018, \"semana\": 38, \"defunciones\": 820.0}, {\"a\\u00f1o\": 2019, \"semana\": 38, \"defunciones\": 775.0}, {\"a\\u00f1o\": 2020, \"semana\": 38, \"defunciones\": null}, {\"a\\u00f1o\": \"Promedio ponderado \\u00faltimos 5 a\\u00f1os\", \"semana\": 38, \"defunciones\": 825.5}, {\"a\\u00f1o\": 2015, \"semana\": 39, \"defunciones\": 924.0}, {\"a\\u00f1o\": 2016, \"semana\": 39, \"defunciones\": 779.5}, {\"a\\u00f1o\": 2017, \"semana\": 39, \"defunciones\": 863.5}, {\"a\\u00f1o\": 2018, \"semana\": 39, \"defunciones\": 837.0}, {\"a\\u00f1o\": 2019, \"semana\": 39, \"defunciones\": 907.0}, {\"a\\u00f1o\": 2020, \"semana\": 39, \"defunciones\": null}, {\"a\\u00f1o\": \"Promedio ponderado \\u00faltimos 5 a\\u00f1os\", \"semana\": 39, \"defunciones\": 862.5}, {\"a\\u00f1o\": 2015, \"semana\": 40, \"defunciones\": 773.0}, {\"a\\u00f1o\": 2016, \"semana\": 40, \"defunciones\": 859.0}, {\"a\\u00f1o\": 2017, \"semana\": 40, \"defunciones\": 873.5}, {\"a\\u00f1o\": 2018, \"semana\": 40, \"defunciones\": 832.0}, {\"a\\u00f1o\": 2019, \"semana\": 40, \"defunciones\": 822.5}, {\"a\\u00f1o\": 2020, \"semana\": 40, \"defunciones\": null}, {\"a\\u00f1o\": \"Promedio ponderado \\u00faltimos 5 a\\u00f1os\", \"semana\": 40, \"defunciones\": 832.0}, {\"a\\u00f1o\": 2015, \"semana\": 41, \"defunciones\": 929.0}, {\"a\\u00f1o\": 2016, \"semana\": 41, \"defunciones\": 769.0}, {\"a\\u00f1o\": 2017, \"semana\": 41, \"defunciones\": 795.0}, {\"a\\u00f1o\": 2018, \"semana\": 41, \"defunciones\": 769.0}, {\"a\\u00f1o\": 2019, \"semana\": 41, \"defunciones\": 827.5}, {\"a\\u00f1o\": 2020, \"semana\": 41, \"defunciones\": null}, {\"a\\u00f1o\": \"Promedio ponderado \\u00faltimos 5 a\\u00f1os\", \"semana\": 41, \"defunciones\": 817.5}, {\"a\\u00f1o\": 2015, \"semana\": 42, \"defunciones\": 830.5}, {\"a\\u00f1o\": 2016, \"semana\": 42, \"defunciones\": 708.5}, {\"a\\u00f1o\": 2017, \"semana\": 42, \"defunciones\": 811.0}, {\"a\\u00f1o\": 2018, \"semana\": 42, \"defunciones\": 766.0}, {\"a\\u00f1o\": 2019, \"semana\": 42, \"defunciones\": 742.5}, {\"a\\u00f1o\": 2020, \"semana\": 42, \"defunciones\": null}, {\"a\\u00f1o\": \"Promedio ponderado \\u00faltimos 5 a\\u00f1os\", \"semana\": 42, \"defunciones\": 771.5}, {\"a\\u00f1o\": 2015, \"semana\": 43, \"defunciones\": 803.5}, {\"a\\u00f1o\": 2016, \"semana\": 43, \"defunciones\": 868.0}, {\"a\\u00f1o\": 2017, \"semana\": 43, \"defunciones\": 750.5}, {\"a\\u00f1o\": 2018, \"semana\": 43, \"defunciones\": 845.5}, {\"a\\u00f1o\": 2019, \"semana\": 43, \"defunciones\": 772.0}, {\"a\\u00f1o\": 2020, \"semana\": 43, \"defunciones\": null}, {\"a\\u00f1o\": \"Promedio ponderado \\u00faltimos 5 a\\u00f1os\", \"semana\": 43, \"defunciones\": 808.0}, {\"a\\u00f1o\": 2015, \"semana\": 44, \"defunciones\": 707.0}, {\"a\\u00f1o\": 2016, \"semana\": 44, \"defunciones\": 760.0}, {\"a\\u00f1o\": 2017, \"semana\": 44, \"defunciones\": 705.0}, {\"a\\u00f1o\": 2018, \"semana\": 44, \"defunciones\": 744.5}, {\"a\\u00f1o\": 2019, \"semana\": 44, \"defunciones\": 830.0}, {\"a\\u00f1o\": 2020, \"semana\": 44, \"defunciones\": null}, {\"a\\u00f1o\": \"Promedio ponderado \\u00faltimos 5 a\\u00f1os\", \"semana\": 44, \"defunciones\": 749.0}, {\"a\\u00f1o\": 2015, \"semana\": 45, \"defunciones\": 779.5}, {\"a\\u00f1o\": 2016, \"semana\": 45, \"defunciones\": 773.0}, {\"a\\u00f1o\": 2017, \"semana\": 45, \"defunciones\": 758.5}, {\"a\\u00f1o\": 2018, \"semana\": 45, \"defunciones\": 832.0}, {\"a\\u00f1o\": 2019, \"semana\": 45, \"defunciones\": 805.5}, {\"a\\u00f1o\": 2020, \"semana\": 45, \"defunciones\": null}, {\"a\\u00f1o\": \"Promedio ponderado \\u00faltimos 5 a\\u00f1os\", \"semana\": 45, \"defunciones\": 789.5}, {\"a\\u00f1o\": 2015, \"semana\": 46, \"defunciones\": 889.5}, {\"a\\u00f1o\": 2016, \"semana\": 46, \"defunciones\": 726.5}, {\"a\\u00f1o\": 2017, \"semana\": 46, \"defunciones\": 707.0}, {\"a\\u00f1o\": 2018, \"semana\": 46, \"defunciones\": 774.5}, {\"a\\u00f1o\": 2019, \"semana\": 46, \"defunciones\": 755.5}, {\"a\\u00f1o\": 2020, \"semana\": 46, \"defunciones\": null}, {\"a\\u00f1o\": \"Promedio ponderado \\u00faltimos 5 a\\u00f1os\", \"semana\": 46, \"defunciones\": 771.0}, {\"a\\u00f1o\": 2015, \"semana\": 47, \"defunciones\": 824.5}, {\"a\\u00f1o\": 2016, \"semana\": 47, \"defunciones\": 672.0}, {\"a\\u00f1o\": 2017, \"semana\": 47, \"defunciones\": 782.0}, {\"a\\u00f1o\": 2018, \"semana\": 47, \"defunciones\": 823.0}, {\"a\\u00f1o\": 2019, \"semana\": 47, \"defunciones\": 801.5}, {\"a\\u00f1o\": 2020, \"semana\": 47, \"defunciones\": null}, {\"a\\u00f1o\": \"Promedio ponderado \\u00faltimos 5 a\\u00f1os\", \"semana\": 47, \"defunciones\": 780.5}, {\"a\\u00f1o\": 2015, \"semana\": 48, \"defunciones\": 761.0}, {\"a\\u00f1o\": 2016, \"semana\": 48, \"defunciones\": 721.5}, {\"a\\u00f1o\": 2017, \"semana\": 48, \"defunciones\": 706.0}, {\"a\\u00f1o\": 2018, \"semana\": 48, \"defunciones\": 716.0}, {\"a\\u00f1o\": 2019, \"semana\": 48, \"defunciones\": 751.5}, {\"a\\u00f1o\": 2020, \"semana\": 48, \"defunciones\": null}, {\"a\\u00f1o\": \"Promedio ponderado \\u00faltimos 5 a\\u00f1os\", \"semana\": 48, \"defunciones\": 731.0}, {\"a\\u00f1o\": 2015, \"semana\": 49, \"defunciones\": 805.5}, {\"a\\u00f1o\": 2016, \"semana\": 49, \"defunciones\": 728.5}, {\"a\\u00f1o\": 2017, \"semana\": 49, \"defunciones\": 697.0}, {\"a\\u00f1o\": 2018, \"semana\": 49, \"defunciones\": 786.0}, {\"a\\u00f1o\": 2019, \"semana\": 49, \"defunciones\": 775.0}, {\"a\\u00f1o\": 2020, \"semana\": 49, \"defunciones\": null}, {\"a\\u00f1o\": \"Promedio ponderado \\u00faltimos 5 a\\u00f1os\", \"semana\": 49, \"defunciones\": 758.5}, {\"a\\u00f1o\": 2015, \"semana\": 50, \"defunciones\": 785.0}, {\"a\\u00f1o\": 2016, \"semana\": 50, \"defunciones\": 795.5}, {\"a\\u00f1o\": 2017, \"semana\": 50, \"defunciones\": 717.0}, {\"a\\u00f1o\": 2018, \"semana\": 50, \"defunciones\": 739.5}, {\"a\\u00f1o\": 2019, \"semana\": 50, \"defunciones\": 693.5}, {\"a\\u00f1o\": 2020, \"semana\": 50, \"defunciones\": null}, {\"a\\u00f1o\": \"Promedio ponderado \\u00faltimos 5 a\\u00f1os\", \"semana\": 50, \"defunciones\": 746.0}, {\"a\\u00f1o\": 2015, \"semana\": 51, \"defunciones\": 780.5}, {\"a\\u00f1o\": 2016, \"semana\": 51, \"defunciones\": 663.0}, {\"a\\u00f1o\": 2017, \"semana\": 51, \"defunciones\": 826.5}, {\"a\\u00f1o\": 2018, \"semana\": 51, \"defunciones\": 813.5}, {\"a\\u00f1o\": 2019, \"semana\": 51, \"defunciones\": 718.0}, {\"a\\u00f1o\": 2020, \"semana\": 51, \"defunciones\": null}, {\"a\\u00f1o\": \"Promedio ponderado \\u00faltimos 5 a\\u00f1os\", \"semana\": 51, \"defunciones\": 760.5}, {\"a\\u00f1o\": 2015, \"semana\": 52, \"defunciones\": 758.5}, {\"a\\u00f1o\": 2016, \"semana\": 52, \"defunciones\": 703.5}, {\"a\\u00f1o\": 2017, \"semana\": 52, \"defunciones\": 816.0}, {\"a\\u00f1o\": 2018, \"semana\": 52, \"defunciones\": 756.0}, {\"a\\u00f1o\": 2019, \"semana\": 52, \"defunciones\": 745.5}, {\"a\\u00f1o\": 2020, \"semana\": 52, \"defunciones\": null}, {\"a\\u00f1o\": \"Promedio ponderado \\u00faltimos 5 a\\u00f1os\", \"semana\": 52, \"defunciones\": 756.0}], \"data-c4d327dd9252a39fa6803dc8e2008932\": [{\"semana\": 1, \"Expected\": 765.0, \"lower\": 711.5, \"upper\": 818.5, \"lower 2\": 658.5, \"upper 2\": 871.5}, {\"semana\": 2, \"Expected\": 744.5, \"lower\": 693.0, \"upper\": 796.0, \"lower 2\": 641.0, \"upper 2\": 848.0}, {\"semana\": 3, \"Expected\": 734.0, \"lower\": 670.0, \"upper\": 798.0, \"lower 2\": 606.5, \"upper 2\": 861.5}, {\"semana\": 4, \"Expected\": 729.5, \"lower\": 646.0, \"upper\": 813.0, \"lower 2\": 563.0, \"upper 2\": 896.0}, {\"semana\": 5, \"Expected\": 750.5, \"lower\": 712.0, \"upper\": 789.0, \"lower 2\": 673.5, \"upper 2\": 827.5}, {\"semana\": 6, \"Expected\": 722.5, \"lower\": 674.0, \"upper\": 771.0, \"lower 2\": 625.0, \"upper 2\": 820.0}, {\"semana\": 7, \"Expected\": 725.5, \"lower\": 699.0, \"upper\": 752.0, \"lower 2\": 673.0, \"upper 2\": 778.0}, {\"semana\": 8, \"Expected\": 735.0, \"lower\": 703.5, \"upper\": 766.5, \"lower 2\": 672.0, \"upper 2\": 798.0}, {\"semana\": 9, \"Expected\": 711.0, \"lower\": 660.5, \"upper\": 761.5, \"lower 2\": 610.0, \"upper 2\": 812.0}, {\"semana\": 10, \"Expected\": 702.0, \"lower\": 659.5, \"upper\": 744.5, \"lower 2\": 617.5, \"upper 2\": 786.5}, {\"semana\": 11, \"Expected\": 713.0, \"lower\": 678.5, \"upper\": 747.5, \"lower 2\": 643.5, \"upper 2\": 782.5}, {\"semana\": 12, \"Expected\": 728.0, \"lower\": 705.0, \"upper\": 751.0, \"lower 2\": 682.5, \"upper 2\": 773.5}, {\"semana\": 13, \"Expected\": 719.5, \"lower\": 686.5, \"upper\": 752.5, \"lower 2\": 654.0, \"upper 2\": 785.0}, {\"semana\": 14, \"Expected\": 745.0, \"lower\": 720.5, \"upper\": 769.5, \"lower 2\": 696.5, \"upper 2\": 793.5}, {\"semana\": 15, \"Expected\": 759.0, \"lower\": 731.5, \"upper\": 786.5, \"lower 2\": 704.0, \"upper 2\": 814.0}, {\"semana\": 16, \"Expected\": 777.5, \"lower\": 735.5, \"upper\": 819.5, \"lower 2\": 694.0, \"upper 2\": 861.0}, {\"semana\": 17, \"Expected\": 781.0, \"lower\": 747.5, \"upper\": 814.5, \"lower 2\": 714.0, \"upper 2\": 848.0}, {\"semana\": 18, \"Expected\": 836.0, \"lower\": 779.0, \"upper\": 893.0, \"lower 2\": 722.0, \"upper 2\": 950.0}, {\"semana\": 19, \"Expected\": 784.0, \"lower\": 766.0, \"upper\": 802.0, \"lower 2\": 747.5, \"upper 2\": 820.5}, {\"semana\": 20, \"Expected\": 853.5, \"lower\": 814.5, \"upper\": 892.5, \"lower 2\": 775.0, \"upper 2\": 932.0}, {\"semana\": 21, \"Expected\": 854.5, \"lower\": 818.5, \"upper\": 890.5, \"lower 2\": 782.0, \"upper 2\": 927.0}, {\"semana\": 22, \"Expected\": 900.0, \"lower\": 876.0, \"upper\": 924.0, \"lower 2\": 851.5, \"upper 2\": 948.5}, {\"semana\": 23, \"Expected\": 921.5, \"lower\": 858.0, \"upper\": 985.0, \"lower 2\": 794.5, \"upper 2\": 1049.0}, {\"semana\": 24, \"Expected\": 969.5, \"lower\": 874.5, \"upper\": 1064.0, \"lower 2\": 779.5, \"upper 2\": 1160.0}, {\"semana\": 25, \"Expected\": 996.0, \"lower\": 885.5, \"upper\": 1106.0, \"lower 2\": 775.0, \"upper 2\": 1217.0}, {\"semana\": 26, \"Expected\": 979.0, \"lower\": 937.5, \"upper\": 1020.5, \"lower 2\": 896.0, \"upper 2\": 1062.0}, {\"semana\": 27, \"Expected\": 970.5, \"lower\": 892.0, \"upper\": 1049.0, \"lower 2\": 813.0, \"upper 2\": 1128.0}, {\"semana\": 28, \"Expected\": 989.5, \"lower\": 936.0, \"upper\": 1043.0, \"lower 2\": 882.0, \"upper 2\": 1097.0}, {\"semana\": 29, \"Expected\": 972.0, \"lower\": 900.5, \"upper\": 1044.0, \"lower 2\": 829.0, \"upper 2\": 1115.0}, {\"semana\": 30, \"Expected\": 959.0, \"lower\": 923.5, \"upper\": 994.5, \"lower 2\": 888.0, \"upper 2\": 1030.0}, {\"semana\": 31, \"Expected\": 974.5, \"lower\": 936.0, \"upper\": 1013.0, \"lower 2\": 897.0, \"upper 2\": 1052.0}, {\"semana\": 32, \"Expected\": 944.0, \"lower\": 888.0, \"upper\": 1000.0, \"lower 2\": 831.5, \"upper 2\": 1056.0}, {\"semana\": 33, \"Expected\": 907.0, \"lower\": 877.0, \"upper\": 937.0, \"lower 2\": 847.0, \"upper 2\": 967.0}, {\"semana\": 34, \"Expected\": 914.5, \"lower\": 854.0, \"upper\": 975.0, \"lower 2\": 793.5, \"upper 2\": 1035.0}, {\"semana\": 35, \"Expected\": 900.0, \"lower\": 870.5, \"upper\": 929.5, \"lower 2\": 841.5, \"upper 2\": 958.5}, {\"semana\": 36, \"Expected\": 902.5, \"lower\": 861.5, \"upper\": 943.5, \"lower 2\": 820.5, \"upper 2\": 984.5}, {\"semana\": 37, \"Expected\": 876.0, \"lower\": 842.0, \"upper\": 910.0, \"lower 2\": 808.0, \"upper 2\": 944.0}, {\"semana\": 38, \"Expected\": 825.5, \"lower\": 779.0, \"upper\": 872.0, \"lower 2\": 732.5, \"upper 2\": 918.5}, {\"semana\": 39, \"Expected\": 862.5, \"lower\": 805.0, \"upper\": 920.0, \"lower 2\": 747.0, \"upper 2\": 978.0}, {\"semana\": 40, \"Expected\": 832.0, \"lower\": 793.0, \"upper\": 871.0, \"lower 2\": 754.5, \"upper 2\": 909.5}, {\"semana\": 41, \"Expected\": 817.5, \"lower\": 751.0, \"upper\": 884.0, \"lower 2\": 684.0, \"upper 2\": 951.0}, {\"semana\": 42, \"Expected\": 771.5, \"lower\": 722.0, \"upper\": 821.0, \"lower 2\": 672.0, \"upper 2\": 871.0}, {\"semana\": 43, \"Expected\": 808.0, \"lower\": 759.0, \"upper\": 857.0, \"lower 2\": 710.0, \"upper 2\": 906.0}, {\"semana\": 44, \"Expected\": 749.0, \"lower\": 698.0, \"upper\": 800.0, \"lower 2\": 647.0, \"upper 2\": 851.0}, {\"semana\": 45, \"Expected\": 789.5, \"lower\": 760.5, \"upper\": 818.5, \"lower 2\": 731.0, \"upper 2\": 848.0}, {\"semana\": 46, \"Expected\": 771.0, \"lower\": 699.5, \"upper\": 842.5, \"lower 2\": 628.0, \"upper 2\": 914.0}, {\"semana\": 47, \"Expected\": 780.5, \"lower\": 717.5, \"upper\": 843.5, \"lower 2\": 654.0, \"upper 2\": 907.0}, {\"semana\": 48, \"Expected\": 731.0, \"lower\": 707.0, \"upper\": 755.0, \"lower 2\": 683.5, \"upper 2\": 778.5}, {\"semana\": 49, \"Expected\": 758.5, \"lower\": 714.0, \"upper\": 803.0, \"lower 2\": 669.5, \"upper 2\": 847.5}, {\"semana\": 50, \"Expected\": 746.0, \"lower\": 702.5, \"upper\": 789.5, \"lower 2\": 659.0, \"upper 2\": 833.0}, {\"semana\": 51, \"Expected\": 760.5, \"lower\": 692.0, \"upper\": 829.0, \"lower 2\": 623.0, \"upper 2\": 898.0}, {\"semana\": 52, \"Expected\": 756.0, \"lower\": 716.0, \"upper\": 796.0, \"lower 2\": 675.5, \"upper 2\": 836.5}]}}, {\"mode\": \"vega-lite\"});\n",
       "</script>"
      ],
      "text/plain": [
       "alt.LayerChart(...)"
      ]
     },
     "execution_count": 129,
     "metadata": {},
     "output_type": "execute_result"
    }
   ],
   "source": [
    "#hide_input\n",
    "label = alt.selection_single(\n",
    "    encodings=['x'], # limit selection to x-axis value\n",
    "    on='mouseover',  # select on mouseover events\n",
    "    nearest=True,    # select data point nearest the cursor\n",
    "    empty='none'     # empty selection includes no data points\n",
    ")\n",
    "\n",
    "base = alt.Chart(amended_deaths.drop([i for i in np.arange(2012,2015)]).reset_index().melt(\"index\", value_name=\"defunciones\").rename(columns={\"index\":\"año\"})).mark_line(point=True).encode(\n",
    "    x = alt.X(\"semana:Q\",scale=alt.Scale(domain=(1, 52))),\n",
    "    y = alt.Y(\"defunciones\", scale=alt.Scale(domain=(0,2400))),\n",
    "    color=alt.Color('año:N', scale=alt.Scale(range=['lightgray', 'lightgray', 'lightgray', 'lightgray', 'lightgray', 'red', 'blue'], \n",
    "                                             domain=[\"2015\", \"2016\", \"2017\", \"2018\", \"2019\", \"2020\", \"Promedio ponderado últimos 5 años\"]))\n",
    ")\n",
    "\n",
    "alt.layer(\n",
    "    base, # base line chart\n",
    "    \n",
    "    alt.Chart(df_expected.reset_index()).mark_area(\n",
    "        opacity=0.5\n",
    "    ).encode(\n",
    "        x=\"semana\",\n",
    "        y=alt.Y(\"lower:Q\", axis=alt.Axis(title=\"defunciones\")),\n",
    "        #y=\"lower:Q\",\n",
    "        y2=\"upper:Q\"\n",
    "    ),\n",
    "    \n",
    "    alt.Chart(df_expected.reset_index()).mark_area(\n",
    "        opacity=0.3\n",
    "    ).encode(\n",
    "        x=\"semana\",\n",
    "        y=\"lower 2:Q\",\n",
    "        y2=\"upper 2:Q\"\n",
    "    ),\n",
    "    \n",
    "#     alt.Chart(expected.reset_index().rename(columns={0:\"defunciones\"})).mark_line(point=True).encode(\n",
    "#     x = \"semana\",\n",
    "#     y = \"defunciones\"\n",
    "#     ),\n",
    "    # add a rule mark to serve as a guide line\n",
    "    alt.Chart().mark_rule(color='#aaa').encode(\n",
    "        x = alt.X('semana:Q', scale=alt.Scale(domain=(1, 52)), axis=alt.Axis(title='Semanas'), sort=None)\n",
    "    ).transform_filter(label),\n",
    "    \n",
    "    # add circle marks for selected time points, hide unselected points\n",
    "    base.mark_circle().encode(\n",
    "        opacity=alt.condition(label, alt.value(1), alt.value(0))\n",
    "    ).add_selection(label),\n",
    "\n",
    "    # add white stroked text to provide a legible background for labels\n",
    "    base.mark_text(align='left', dx=5, dy=-5, stroke='white', strokeWidth=2).encode(\n",
    "        text='defunciones'\n",
    "    ).transform_filter(label),\n",
    "\n",
    "    # add text labels for stock prices\n",
    "    base.mark_text(align='left', dx=5, dy=-5).encode(\n",
    "        text='defunciones'\n",
    "    ).transform_filter(label),\n",
    "    \n",
    "    data=amended_deaths.drop([i for i in np.arange(2012,2015)]).reset_index().melt(\"index\", value_name=\"defunciones\").rename(columns={\"index\":\"año\"})\n",
    ").properties(\n",
    "    title = f'Defunciones inscritas en Chile por semana (corregido) hasta semana {current_week-1}',\n",
    "    width=600\n",
    ")"
   ]
  },
  {
   "cell_type": "markdown",
   "metadata": {},
   "source": [
    "Fuente: [Ministerio de Ciencia](https://github.com/MinCiencia/Datos-COVID19), [Registro Civil](https://www.registrocivil.cl/)"
   ]
  },
  {
   "cell_type": "code",
   "execution_count": 130,
   "metadata": {
    "colab": {
     "base_uri": "https://localhost:8080/",
     "height": 34
    },
    "colab_type": "code",
    "id": "xtnqH0PthQcA",
    "outputId": "1a2e97f7-9e1f-42b0-8e60-01c90ea9e576",
    "scrolled": true
   },
   "outputs": [
    {
     "data": {
      "text/plain": [
       "-17.5"
      ]
     },
     "execution_count": 130,
     "metadata": {},
     "output_type": "execute_result"
    }
   ],
   "source": [
    "#hide\n",
    "(amended_deaths.loc[2020,:12] - expected).sum()"
   ]
  },
  {
   "cell_type": "code",
   "execution_count": 131,
   "metadata": {
    "colab": {},
    "colab_type": "code",
    "id": "2IXcwDo4i9Zz"
   },
   "outputs": [],
   "source": [
    "#hide\n",
    "excess_mortality = []\n",
    "for i in np.arange(0,current_week-1):\n",
    "    excess_mortality.append((amended_deaths.loc[2020,:i] - expected).sum())"
   ]
  },
  {
   "cell_type": "code",
   "execution_count": 132,
   "metadata": {
    "colab": {},
    "colab_type": "code",
    "id": "JrWzYMKHjTYj"
   },
   "outputs": [
    {
     "data": {
      "text/plain": [
       "0        NaN\n",
       "1       60.0\n",
       "2       39.5\n",
       "3       17.0\n",
       "4       -5.5\n",
       "5       16.5\n",
       "6      -39.5\n",
       "7      -19.5\n",
       "8     -114.0\n",
       "9      -72.0\n",
       "10     105.0\n",
       "11       4.0\n",
       "12      -9.0\n",
       "13     -10.5\n",
       "14       9.0\n",
       "15      28.0\n",
       "16       1.5\n",
       "17       9.0\n",
       "18     -92.0\n",
       "19     168.0\n",
       "20     244.5\n",
       "21     524.5\n",
       "22    1063.5\n",
       "23    1324.0\n",
       "24    1384.0\n",
       "25    1220.0\n",
       "26     932.0\n",
       "27     560.0\n",
       "28     400.0\n",
       "29     240.0\n",
       "30     204.0\n",
       "31      80.0\n",
       "dtype: float64"
      ]
     },
     "execution_count": 132,
     "metadata": {},
     "output_type": "execute_result"
    }
   ],
   "source": [
    "#hide\n",
    "excess_mortality = pd.Series(excess_mortality)\n",
    "excess_mortality.diff()"
   ]
  },
  {
   "cell_type": "code",
   "execution_count": 133,
   "metadata": {
    "colab": {},
    "colab_type": "code",
    "id": "3yhSSdR6jrPF"
   },
   "outputs": [],
   "source": [
    "#hide\n",
    "casos_raw = pd.read_csv(\n",
    "    \"https://raw.githubusercontent.com/MinCiencia/Datos-COVID19/master/output/producto3/CasosTotalesCumulativo.csv\",\n",
    "    index_col='Region')"
   ]
  },
  {
   "cell_type": "code",
   "execution_count": 134,
   "metadata": {
    "colab": {
     "base_uri": "https://localhost:8080/",
     "height": 225
    },
    "colab_type": "code",
    "id": "7K2JMgn8rrSJ",
    "outputId": "6109ead7-f2e3-4bbd-b135-2dd171864759"
   },
   "outputs": [
    {
     "data": {
      "text/plain": [
       "2020-03-03    0.0\n",
       "2020-03-04    1.0\n",
       "Name: Metropolitana, dtype: float64"
      ]
     },
     "execution_count": 134,
     "metadata": {},
     "output_type": "execute_result"
    }
   ],
   "source": [
    "#hide\n",
    "casos_raw.loc[\"Metropolitana\"].head(2)"
   ]
  },
  {
   "cell_type": "code",
   "execution_count": 135,
   "metadata": {
    "colab": {
     "base_uri": "https://localhost:8080/",
     "height": 34
    },
    "colab_type": "code",
    "id": "l4upf3Cmixfw",
    "outputId": "818554ba-f67a-487e-d670-b53e4ec78ce5"
   },
   "outputs": [
    {
     "data": {
      "text/plain": [
       "10"
      ]
     },
     "execution_count": 135,
     "metadata": {},
     "output_type": "execute_result"
    }
   ],
   "source": [
    "#hide\n",
    "_, week_first_case, _ = pd.to_datetime(\"2020-03-03\").isocalendar()\n",
    "week_first_case"
   ]
  },
  {
   "cell_type": "code",
   "execution_count": 136,
   "metadata": {
    "colab": {},
    "colab_type": "code",
    "id": "PFZfMsZDkfxU"
   },
   "outputs": [],
   "source": [
    "#hide\n",
    "data = pd.DataFrame()\n",
    "data_raw = pd.read_csv(\n",
    "    \"https://raw.githubusercontent.com/MinCiencia/Datos-COVID19/master/output/producto4/2020-03-24-CasosConfirmados-totalRegional.csv\",\n",
    "    index_col='Region')\n",
    "data['2020-03-24'] = data_raw['Fallecidos']"
   ]
  },
  {
   "cell_type": "code",
   "execution_count": 137,
   "metadata": {},
   "outputs": [
    {
     "data": {
      "text/plain": [
       "'2020-08-13'"
      ]
     },
     "execution_count": 137,
     "metadata": {},
     "output_type": "execute_result"
    }
   ],
   "source": [
    "#hide\n",
    "update_date = pd.to_datetime('today') - pd.offsets.Hour(19)\n",
    "today = update_date.strftime('%Y-%m-%d')\n",
    "today"
   ]
  },
  {
   "cell_type": "code",
   "execution_count": 138,
   "metadata": {
    "colab": {},
    "colab_type": "code",
    "id": "XWCSiMSqlIZe"
   },
   "outputs": [],
   "source": [
    "#hide\n",
    "first_death_date = '2020-03-24'\n",
    "total_days = (pd.to_datetime(today)-pd.to_datetime(first_death_date)).days"
   ]
  },
  {
   "cell_type": "code",
   "execution_count": 139,
   "metadata": {
    "colab": {},
    "colab_type": "code",
    "id": "ub1SmBWflMAN"
   },
   "outputs": [],
   "source": [
    "#hide\n",
    "for i in np.arange(total_days+1):\n",
    "    date = (pd.to_datetime(first_death_date)+pd.DateOffset(i)).strftime('%Y-%m-%d')\n",
    "    s = \"https://raw.githubusercontent.com/MinCiencia/Datos-COVID19/master/output/producto4/\" + date + \"-CasosConfirmados-totalRegional.csv\"\n",
    "    data_by_date = pd.read_csv(s)\n",
    "    if 'Fallecidos' in data_by_date.columns:\n",
    "        data[date] = data_by_date[\"Fallecidos\"].values\n",
    "    elif 'Casos fallecidos' in data_by_date.columns:\n",
    "        data[date] = data_by_date[\"Casos fallecidos\"].values\n",
    "    elif 'Fallecidos totales' in data_by_date.columns:\n",
    "        if 'Se desconoce región de origen' in data_by_date[\"Region\"].unique():\n",
    "            data_by_date = data_by_date.set_index(\"Region\").drop(\"Se desconoce región de origen\").reset_index()\n",
    "            data[date] = data_by_date[\"Fallecidos totales\"].values\n",
    "        else:\n",
    "            data[date] = data_by_date[\"Fallecidos totales\"].values\n",
    "    elif 'Fallecidos totales ' in data_by_date.columns:\n",
    "        data[date] = data_by_date[\"Fallecidos totales \"].values\n",
    "    else:\n",
    "        data[date] = data_by_date[\" Casos fallecidos\"].values"
   ]
  },
  {
   "cell_type": "code",
   "execution_count": 140,
   "metadata": {},
   "outputs": [
    {
     "data": {
      "text/plain": [
       "2020-03-24       2.0\n",
       "2020-03-25       2.0\n",
       "2020-03-26       3.0\n",
       "2020-03-27       3.0\n",
       "2020-03-28       3.0\n",
       "               ...  \n",
       "2020-08-09    7909.0\n",
       "2020-08-10    7946.0\n",
       "2020-08-11    7972.0\n",
       "2020-08-12    7992.0\n",
       "2020-08-13    8023.0\n",
       "Name: Metropolitana, Length: 143, dtype: float64"
      ]
     },
     "execution_count": 140,
     "metadata": {},
     "output_type": "execute_result"
    }
   ],
   "source": [
    "#hide\n",
    "data.loc[\"Metropolitana\"]"
   ]
  },
  {
   "cell_type": "code",
   "execution_count": 141,
   "metadata": {},
   "outputs": [
    {
     "data": {
      "text/plain": [
       "13"
      ]
     },
     "execution_count": 141,
     "metadata": {},
     "output_type": "execute_result"
    }
   ],
   "source": [
    "#hide\n",
    "_, week_first_death, _ = pd.to_datetime(\"2020-03-24\").isocalendar()\n",
    "week_first_death"
   ]
  },
  {
   "cell_type": "code",
   "execution_count": 142,
   "metadata": {
    "scrolled": true
   },
   "outputs": [
    {
     "data": {
      "text/markdown": [
       "En la R.M., entre las semanas 12 y 32 hubo un total de 26.736 defunciones inscritas."
      ],
      "text/plain": [
       "<IPython.core.display.Markdown object>"
      ]
     },
     "metadata": {},
     "output_type": "display_data"
    }
   ],
   "source": [
    "#hide_input\n",
    "display(Markdown(f\"En la R.M., entre las semanas 12 y {current_week-1} hubo un total de {'{:,.0f}'.format(amended_deaths.loc[2020,12:current_week-1].sum()).replace(',', '.')} defunciones inscritas.\"))"
   ]
  },
  {
   "cell_type": "code",
   "execution_count": 143,
   "metadata": {},
   "outputs": [
    {
     "data": {
      "text/markdown": [
       "El número esperado de defunciones inscritas entre esas semanas es de 18.416, para una tasa de crecimiento de defunciones inscritas entre 2019/2020 de 1.57% para la R.M."
      ],
      "text/plain": [
       "<IPython.core.display.Markdown object>"
      ]
     },
     "metadata": {},
     "output_type": "display_data"
    }
   ],
   "source": [
    "#hide_input\n",
    "display(Markdown(f\"El número esperado de defunciones inscritas entre esas semanas es de {'{:,.0f}'.format(expected.loc[12:current_week-1].sum()).replace(',', '.')}, para una tasa de crecimiento de defunciones inscritas entre 2019/2020 de {100*(gr_mean-1):.2f}% para la R.M.\"))"
   ]
  },
  {
   "cell_type": "code",
   "execution_count": 144,
   "metadata": {},
   "outputs": [],
   "source": [
    "#hide\n",
    "date = iso_to_gregorian(2020, current_week-1, 7)"
   ]
  },
  {
   "cell_type": "code",
   "execution_count": 145,
   "metadata": {
    "scrolled": true
   },
   "outputs": [
    {
     "data": {
      "text/markdown": [
       "Exceso de mortalidad al 09/08: 8.320"
      ],
      "text/plain": [
       "<IPython.core.display.Markdown object>"
      ]
     },
     "metadata": {},
     "output_type": "display_data"
    }
   ],
   "source": [
    "#hide_input\n",
    "display(Markdown(f\"Exceso de mortalidad al {pd.to_datetime(date).strftime('%d/%m')}: {'{:,.0f}'.format((amended_deaths.loc[2020,12:current_week-1]-expected).sum()).replace(',', '.')}\"))"
   ]
  },
  {
   "cell_type": "code",
   "execution_count": 146,
   "metadata": {
    "scrolled": false
   },
   "outputs": [
    {
     "data": {
      "text/markdown": [
       "Fallecimientos confirmados por Covid-19 oficiales al 09/08: 7.909"
      ],
      "text/plain": [
       "<IPython.core.display.Markdown object>"
      ]
     },
     "metadata": {},
     "output_type": "display_data"
    }
   ],
   "source": [
    "#hide_input\n",
    "display(Markdown(f\"Fallecimientos confirmados por Covid-19 oficiales al {pd.to_datetime(date).strftime('%d/%m')}: {'{:,.0f}'.format(data.loc['Metropolitana', pd.to_datetime(date).strftime('%Y-%m-%d')]).replace(',', '.')}\"))"
   ]
  },
  {
   "cell_type": "code",
   "execution_count": 147,
   "metadata": {},
   "outputs": [],
   "source": [
    "#hide\n",
    "diff = (amended_deaths.loc[2020,12:current_week-1]-expected).sum() - data.loc['Metropolitana', pd.to_datetime(date).strftime('%Y-%m-%d')]"
   ]
  },
  {
   "cell_type": "code",
   "execution_count": 148,
   "metadata": {},
   "outputs": [
    {
     "data": {
      "text/markdown": [
       "Diferencia: 411"
      ],
      "text/plain": [
       "<IPython.core.display.Markdown object>"
      ]
     },
     "metadata": {},
     "output_type": "display_data"
    }
   ],
   "source": [
    "#hide_input\n",
    "display(Markdown(f\"Diferencia: {'{:,.0f}'.format(diff).replace(',', '.')}\"))"
   ]
  },
  {
   "cell_type": "code",
   "execution_count": 149,
   "metadata": {
    "colab": {},
    "colab_type": "code",
    "id": "3yhSSdR6jrPF"
   },
   "outputs": [],
   "source": [
    "#hide\n",
    "# Primer caso en R.M.\n",
    "casos_raw = pd.read_csv(\n",
    "    \"https://raw.githubusercontent.com/MinCiencia/Datos-COVID19/master/output/producto3/CasosTotalesCumulativo.csv\",\n",
    "    index_col='Region')"
   ]
  },
  {
   "cell_type": "code",
   "execution_count": 150,
   "metadata": {
    "colab": {
     "base_uri": "https://localhost:8080/",
     "height": 225
    },
    "colab_type": "code",
    "id": "7K2JMgn8rrSJ",
    "outputId": "6109ead7-f2e3-4bbd-b135-2dd171864759"
   },
   "outputs": [
    {
     "data": {
      "text/plain": [
       "2020-03-03    0.0\n",
       "2020-03-04    1.0\n",
       "Name: Metropolitana, dtype: float64"
      ]
     },
     "execution_count": 150,
     "metadata": {},
     "output_type": "execute_result"
    }
   ],
   "source": [
    "#hide\n",
    "casos_raw.loc[\"Metropolitana\"].head(2)"
   ]
  },
  {
   "cell_type": "code",
   "execution_count": 151,
   "metadata": {},
   "outputs": [
    {
     "data": {
      "text/plain": [
       "10"
      ]
     },
     "execution_count": 151,
     "metadata": {},
     "output_type": "execute_result"
    }
   ],
   "source": [
    "#hide\n",
    "_, week_first_case, _ = pd.to_datetime(\"2020-03-04\").isocalendar()\n",
    "week_first_case"
   ]
  },
  {
   "cell_type": "markdown",
   "metadata": {},
   "source": [
    "Gracias a [Patricio Reyes](https://pareyesv.github.io/) por la ayuda en realizar este trabajo."
   ]
  }
 ],
 "metadata": {
  "colab": {
   "collapsed_sections": [],
   "name": "Excess-mortality-RM.ipynb",
   "provenance": []
  },
  "kernelspec": {
   "display_name": "Python 3",
   "language": "python",
   "name": "python3"
  },
  "language_info": {
   "codemirror_mode": {
    "name": "ipython",
    "version": 3
   },
   "file_extension": ".py",
   "mimetype": "text/x-python",
   "name": "python",
   "nbconvert_exporter": "python",
   "pygments_lexer": "ipython3",
   "version": "3.8.2"
  }
 },
 "nbformat": 4,
 "nbformat_minor": 1
}
