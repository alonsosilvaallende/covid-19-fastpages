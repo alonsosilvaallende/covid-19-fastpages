{
 "cells": [
  {
   "cell_type": "markdown",
   "metadata": {},
   "source": [
    "# \"COVID-19 en Chile: Casos y fallecimientos confirmados diarios\"\n",
    "> Casos confirmados diarios y fallecimientos confirmados diarios\n",
    "\n",
    "- toc: true\n",
    "- badges: true\n",
    "- comments: true\n",
    "- author: Alonso Silva Allende\n",
    "- categories: [jupyter]\n",
    "- image: images/Casos-confirmados-diarios.png"
   ]
  },
  {
   "cell_type": "code",
   "execution_count": 1,
   "metadata": {},
   "outputs": [],
   "source": [
    "#hide\n",
    "import numpy as np\n",
    "import pandas as pd\n",
    "import altair as alt"
   ]
  },
  {
   "cell_type": "code",
   "execution_count": 2,
   "metadata": {},
   "outputs": [],
   "source": [
    "#hide\n",
    "from IPython.display import display, Markdown, display_html, HTML"
   ]
  },
  {
   "cell_type": "code",
   "execution_count": 3,
   "metadata": {},
   "outputs": [],
   "source": [
    "#hide\n",
    "# Window size cases\n",
    "WS_cases = 7"
   ]
  },
  {
   "cell_type": "code",
   "execution_count": 4,
   "metadata": {},
   "outputs": [],
   "source": [
    "#hide\n",
    "casos_raw = pd.read_csv(\n",
    "    \"https://raw.githubusercontent.com/MinCiencia/Datos-COVID19/master/output/producto3/CasosTotalesCumulativo.csv\",\n",
    "    index_col='Region')"
   ]
  },
  {
   "cell_type": "code",
   "execution_count": null,
   "metadata": {},
   "outputs": [],
   "source": []
  },
  {
   "cell_type": "code",
   "execution_count": 5,
   "metadata": {
    "scrolled": true
   },
   "outputs": [],
   "source": [
    "#hide\n",
    "def my_cases_plot(region):\n",
    "    aux1 = casos_raw.loc[region]\n",
    "    aux2 = [t - s for s, t in zip(aux1, aux1.loc['2020-03-04':])]\n",
    "    # Create the dataframe\n",
    "    new_cases = pd.DataFrame()\n",
    "    new_cases[\"Fecha\"] = casos_raw.loc[region].reset_index()[\"index\"].iloc[1:].values\n",
    "    new_cases[\"Casos confirmados\"] = aux2\n",
    "    new_cases[\"Rolling\"] = new_cases[\"Casos confirmados\"].rolling(window=WS_cases).mean()\n",
    "    new_cases[\"Casos confirmados diarios\"] = len(new_cases) * [\"Casos confirmados diarios\"]\n",
    "    new_cases[\"Promedio móvil últimos 7 días\"] = len(new_cases) * [\"Promedio móvil últimos 7 días\"]\n",
    "    # Make the plot\n",
    "    bars = alt.Chart(new_cases).mark_bar(opacity=0.7).encode(\n",
    "        x = alt.X('Fecha:N', axis=alt.Axis(title='Fecha (año-mes-día)')),\n",
    "        y = alt.Y('Casos confirmados:Q', axis=alt.Axis(title='Casos confirmados diarios')),\n",
    "        tooltip = ['Fecha', 'Casos confirmados'],\n",
    "        opacity=alt.Opacity('Casos confirmados diarios', legend=alt.Legend(title=\"\"))\n",
    "    )\n",
    "\n",
    "    line = alt.Chart(new_cases).mark_line(point={\n",
    "        \"filled\": True,\n",
    "        \"fill\": \"#1f77b4\"\n",
    "    }, color=\"#1f77b4\").encode(\n",
    "        x=alt.X('Fecha:N', axis=alt.Axis(title='Fecha (año-mes-día)')),\n",
    "        y = alt.Y('Rolling:Q'),\n",
    "        shape=alt.Shape('Promedio móvil últimos 7 días', legend=alt.Legend(title=\"\"))\n",
    "    )\n",
    "    return bars, line"
   ]
  },
  {
   "cell_type": "code",
   "execution_count": null,
   "metadata": {},
   "outputs": [],
   "source": [
    "alt.Chart(new_cases).mark_bar(opacity=0.7).encode(\n",
    "        x = alt.X('Fecha:N', axis=alt.Axis(title='Fecha (año-mes-día)')),\n",
    "        y = alt.Y('Casos confirmados:Q', axis=alt.Axis(title='Casos confirmados diarios')),\n",
    "        tooltip = ['Fecha', 'Casos confirmados'],\n",
    "        opacity=alt.Opacity('Casos confirmados diarios', legend=alt.Legend(title=\"\"))\n",
    "    )"
   ]
  },
  {
   "cell_type": "markdown",
   "metadata": {},
   "source": [
    "Datos provenientes del [Ministerio de Ciencia](https://github.com/MinCiencia/Datos-COVID19)."
   ]
  },
  {
   "cell_type": "markdown",
   "metadata": {},
   "source": [
    "# Casos confirmados diarios"
   ]
  },
  {
   "cell_type": "markdown",
   "metadata": {},
   "source": [
    "## Chile"
   ]
  },
  {
   "cell_type": "code",
   "execution_count": 6,
   "metadata": {
    "scrolled": true
   },
   "outputs": [],
   "source": [
    "#hide\n",
    "region = \"Total\""
   ]
  },
  {
   "cell_type": "code",
   "execution_count": 7,
   "metadata": {},
   "outputs": [
    {
     "data": {
      "text/html": [
       "\n",
       "<div id=\"altair-viz-de2f1f59fbfd40dcb4d4ae4c1b98b268\"></div>\n",
       "<script type=\"text/javascript\">\n",
       "  (function(spec, embedOpt){\n",
       "    let outputDiv = document.currentScript.previousElementSibling;\n",
       "    if (outputDiv.id !== \"altair-viz-de2f1f59fbfd40dcb4d4ae4c1b98b268\") {\n",
       "      outputDiv = document.getElementById(\"altair-viz-de2f1f59fbfd40dcb4d4ae4c1b98b268\");\n",
       "    }\n",
       "    const paths = {\n",
       "      \"vega\": \"https://cdn.jsdelivr.net/npm//vega@5?noext\",\n",
       "      \"vega-lib\": \"https://cdn.jsdelivr.net/npm//vega-lib?noext\",\n",
       "      \"vega-lite\": \"https://cdn.jsdelivr.net/npm//vega-lite@4.8.1?noext\",\n",
       "      \"vega-embed\": \"https://cdn.jsdelivr.net/npm//vega-embed@6?noext\",\n",
       "    };\n",
       "\n",
       "    function loadScript(lib) {\n",
       "      return new Promise(function(resolve, reject) {\n",
       "        var s = document.createElement('script');\n",
       "        s.src = paths[lib];\n",
       "        s.async = true;\n",
       "        s.onload = () => resolve(paths[lib]);\n",
       "        s.onerror = () => reject(`Error loading script: ${paths[lib]}`);\n",
       "        document.getElementsByTagName(\"head\")[0].appendChild(s);\n",
       "      });\n",
       "    }\n",
       "\n",
       "    function showError(err) {\n",
       "      outputDiv.innerHTML = `<div class=\"error\" style=\"color:red;\">${err}</div>`;\n",
       "      throw err;\n",
       "    }\n",
       "\n",
       "    function displayChart(vegaEmbed) {\n",
       "      vegaEmbed(outputDiv, spec, embedOpt)\n",
       "        .catch(err => showError(`Javascript Error: ${err.message}<br>This usually means there's a typo in your chart specification. See the javascript console for the full traceback.`));\n",
       "    }\n",
       "\n",
       "    if(typeof define === \"function\" && define.amd) {\n",
       "      requirejs.config({paths});\n",
       "      require([\"vega-embed\"], displayChart, err => showError(`Error loading script: ${err.message}`));\n",
       "    } else if (typeof vegaEmbed === \"function\") {\n",
       "      displayChart(vegaEmbed);\n",
       "    } else {\n",
       "      loadScript(\"vega\")\n",
       "        .then(() => loadScript(\"vega-lite\"))\n",
       "        .then(() => loadScript(\"vega-embed\"))\n",
       "        .catch(showError)\n",
       "        .then(() => displayChart(vegaEmbed));\n",
       "    }\n",
       "  })({\"config\": {\"view\": {\"continuousWidth\": 400, \"continuousHeight\": 300}}, \"layer\": [{\"mark\": {\"type\": \"bar\", \"opacity\": 0.7}, \"encoding\": {\"opacity\": {\"type\": \"nominal\", \"field\": \"Casos confirmados diarios\", \"legend\": {\"title\": \"\"}}, \"tooltip\": [{\"type\": \"nominal\", \"field\": \"Fecha\"}, {\"type\": \"quantitative\", \"field\": \"Casos confirmados\"}], \"x\": {\"type\": \"nominal\", \"axis\": {\"title\": \"Fecha (a\\u00f1o-mes-d\\u00eda)\"}, \"field\": \"Fecha\"}, \"y\": {\"type\": \"quantitative\", \"axis\": {\"title\": \"Casos confirmados diarios\"}, \"field\": \"Casos confirmados\"}}}, {\"mark\": {\"type\": \"line\", \"color\": \"#1f77b4\", \"point\": {\"filled\": true, \"fill\": \"#1f77b4\"}}, \"encoding\": {\"shape\": {\"type\": \"nominal\", \"field\": \"Promedio m\\u00f3vil \\u00faltimos 7 d\\u00edas\", \"legend\": {\"title\": \"\"}}, \"x\": {\"type\": \"nominal\", \"axis\": {\"title\": \"Fecha (a\\u00f1o-mes-d\\u00eda)\"}, \"field\": \"Fecha\"}, \"y\": {\"type\": \"quantitative\", \"field\": \"Rolling\"}}}], \"data\": {\"name\": \"data-e47fdbbda9cc98a1cb908fb02fd81de4\"}, \"title\": \"Covid-19 en Chile: Casos confirmados diarios\", \"width\": 600, \"$schema\": \"https://vega.github.io/schema/vega-lite/v4.8.1.json\", \"datasets\": {\"data-e47fdbbda9cc98a1cb908fb02fd81de4\": [{\"Fecha\": \"2020-03-04\", \"Casos confirmados\": 2, \"Rolling\": null, \"Casos confirmados diarios\": \"Casos confirmados diarios\", \"Promedio m\\u00f3vil \\u00faltimos 7 d\\u00edas\": \"Promedio m\\u00f3vil \\u00faltimos 7 d\\u00edas\"}, {\"Fecha\": \"2020-03-05\", \"Casos confirmados\": 1, \"Rolling\": null, \"Casos confirmados diarios\": \"Casos confirmados diarios\", \"Promedio m\\u00f3vil \\u00faltimos 7 d\\u00edas\": \"Promedio m\\u00f3vil \\u00faltimos 7 d\\u00edas\"}, {\"Fecha\": \"2020-03-06\", \"Casos confirmados\": 1, \"Rolling\": null, \"Casos confirmados diarios\": \"Casos confirmados diarios\", \"Promedio m\\u00f3vil \\u00faltimos 7 d\\u00edas\": \"Promedio m\\u00f3vil \\u00faltimos 7 d\\u00edas\"}, {\"Fecha\": \"2020-03-07\", \"Casos confirmados\": 2, \"Rolling\": null, \"Casos confirmados diarios\": \"Casos confirmados diarios\", \"Promedio m\\u00f3vil \\u00faltimos 7 d\\u00edas\": \"Promedio m\\u00f3vil \\u00faltimos 7 d\\u00edas\"}, {\"Fecha\": \"2020-03-08\", \"Casos confirmados\": 3, \"Rolling\": null, \"Casos confirmados diarios\": \"Casos confirmados diarios\", \"Promedio m\\u00f3vil \\u00faltimos 7 d\\u00edas\": \"Promedio m\\u00f3vil \\u00faltimos 7 d\\u00edas\"}, {\"Fecha\": \"2020-03-09\", \"Casos confirmados\": 5, \"Rolling\": null, \"Casos confirmados diarios\": \"Casos confirmados diarios\", \"Promedio m\\u00f3vil \\u00faltimos 7 d\\u00edas\": \"Promedio m\\u00f3vil \\u00faltimos 7 d\\u00edas\"}, {\"Fecha\": \"2020-03-10\", \"Casos confirmados\": 2, \"Rolling\": 2.2857142857142856, \"Casos confirmados diarios\": \"Casos confirmados diarios\", \"Promedio m\\u00f3vil \\u00faltimos 7 d\\u00edas\": \"Promedio m\\u00f3vil \\u00faltimos 7 d\\u00edas\"}, {\"Fecha\": \"2020-03-11\", \"Casos confirmados\": 6, \"Rolling\": 2.857142857142857, \"Casos confirmados diarios\": \"Casos confirmados diarios\", \"Promedio m\\u00f3vil \\u00faltimos 7 d\\u00edas\": \"Promedio m\\u00f3vil \\u00faltimos 7 d\\u00edas\"}, {\"Fecha\": \"2020-03-12\", \"Casos confirmados\": 10, \"Rolling\": 4.142857142857143, \"Casos confirmados diarios\": \"Casos confirmados diarios\", \"Promedio m\\u00f3vil \\u00faltimos 7 d\\u00edas\": \"Promedio m\\u00f3vil \\u00faltimos 7 d\\u00edas\"}, {\"Fecha\": \"2020-03-13\", \"Casos confirmados\": 10, \"Rolling\": 5.428571428571429, \"Casos confirmados diarios\": \"Casos confirmados diarios\", \"Promedio m\\u00f3vil \\u00faltimos 7 d\\u00edas\": \"Promedio m\\u00f3vil \\u00faltimos 7 d\\u00edas\"}, {\"Fecha\": \"2020-03-14\", \"Casos confirmados\": 18, \"Rolling\": 7.714285714285714, \"Casos confirmados diarios\": \"Casos confirmados diarios\", \"Promedio m\\u00f3vil \\u00faltimos 7 d\\u00edas\": \"Promedio m\\u00f3vil \\u00faltimos 7 d\\u00edas\"}, {\"Fecha\": \"2020-03-15\", \"Casos confirmados\": 14, \"Rolling\": 9.285714285714286, \"Casos confirmados diarios\": \"Casos confirmados diarios\", \"Promedio m\\u00f3vil \\u00faltimos 7 d\\u00edas\": \"Promedio m\\u00f3vil \\u00faltimos 7 d\\u00edas\"}, {\"Fecha\": \"2020-03-16\", \"Casos confirmados\": 81, \"Rolling\": 20.142857142857142, \"Casos confirmados diarios\": \"Casos confirmados diarios\", \"Promedio m\\u00f3vil \\u00faltimos 7 d\\u00edas\": \"Promedio m\\u00f3vil \\u00faltimos 7 d\\u00edas\"}, {\"Fecha\": \"2020-03-17\", \"Casos confirmados\": 45, \"Rolling\": 26.285714285714285, \"Casos confirmados diarios\": \"Casos confirmados diarios\", \"Promedio m\\u00f3vil \\u00faltimos 7 d\\u00edas\": \"Promedio m\\u00f3vil \\u00faltimos 7 d\\u00edas\"}, {\"Fecha\": \"2020-03-18\", \"Casos confirmados\": 37, \"Rolling\": 30.714285714285715, \"Casos confirmados diarios\": \"Casos confirmados diarios\", \"Promedio m\\u00f3vil \\u00faltimos 7 d\\u00edas\": \"Promedio m\\u00f3vil \\u00faltimos 7 d\\u00edas\"}, {\"Fecha\": \"2020-03-19\", \"Casos confirmados\": 104, \"Rolling\": 44.142857142857146, \"Casos confirmados diarios\": \"Casos confirmados diarios\", \"Promedio m\\u00f3vil \\u00faltimos 7 d\\u00edas\": \"Promedio m\\u00f3vil \\u00faltimos 7 d\\u00edas\"}, {\"Fecha\": \"2020-03-20\", \"Casos confirmados\": 92, \"Rolling\": 55.857142857142854, \"Casos confirmados diarios\": \"Casos confirmados diarios\", \"Promedio m\\u00f3vil \\u00faltimos 7 d\\u00edas\": \"Promedio m\\u00f3vil \\u00faltimos 7 d\\u00edas\"}, {\"Fecha\": \"2020-03-21\", \"Casos confirmados\": 103, \"Rolling\": 68.0, \"Casos confirmados diarios\": \"Casos confirmados diarios\", \"Promedio m\\u00f3vil \\u00faltimos 7 d\\u00edas\": \"Promedio m\\u00f3vil \\u00faltimos 7 d\\u00edas\"}, {\"Fecha\": \"2020-03-22\", \"Casos confirmados\": 95, \"Rolling\": 79.57142857142857, \"Casos confirmados diarios\": \"Casos confirmados diarios\", \"Promedio m\\u00f3vil \\u00faltimos 7 d\\u00edas\": \"Promedio m\\u00f3vil \\u00faltimos 7 d\\u00edas\"}, {\"Fecha\": \"2020-03-23\", \"Casos confirmados\": 114, \"Rolling\": 84.28571428571429, \"Casos confirmados diarios\": \"Casos confirmados diarios\", \"Promedio m\\u00f3vil \\u00faltimos 7 d\\u00edas\": \"Promedio m\\u00f3vil \\u00faltimos 7 d\\u00edas\"}, {\"Fecha\": \"2020-03-24\", \"Casos confirmados\": 176, \"Rolling\": 103.0, \"Casos confirmados diarios\": \"Casos confirmados diarios\", \"Promedio m\\u00f3vil \\u00faltimos 7 d\\u00edas\": \"Promedio m\\u00f3vil \\u00faltimos 7 d\\u00edas\"}, {\"Fecha\": \"2020-03-25\", \"Casos confirmados\": 220, \"Rolling\": 129.14285714285714, \"Casos confirmados diarios\": \"Casos confirmados diarios\", \"Promedio m\\u00f3vil \\u00faltimos 7 d\\u00edas\": \"Promedio m\\u00f3vil \\u00faltimos 7 d\\u00edas\"}, {\"Fecha\": \"2020-03-26\", \"Casos confirmados\": 164, \"Rolling\": 137.71428571428572, \"Casos confirmados diarios\": \"Casos confirmados diarios\", \"Promedio m\\u00f3vil \\u00faltimos 7 d\\u00edas\": \"Promedio m\\u00f3vil \\u00faltimos 7 d\\u00edas\"}, {\"Fecha\": \"2020-03-27\", \"Casos confirmados\": 304, \"Rolling\": 168.0, \"Casos confirmados diarios\": \"Casos confirmados diarios\", \"Promedio m\\u00f3vil \\u00faltimos 7 d\\u00edas\": \"Promedio m\\u00f3vil \\u00faltimos 7 d\\u00edas\"}, {\"Fecha\": \"2020-03-28\", \"Casos confirmados\": 299, \"Rolling\": 196.0, \"Casos confirmados diarios\": \"Casos confirmados diarios\", \"Promedio m\\u00f3vil \\u00faltimos 7 d\\u00edas\": \"Promedio m\\u00f3vil \\u00faltimos 7 d\\u00edas\"}, {\"Fecha\": \"2020-03-29\", \"Casos confirmados\": 230, \"Rolling\": 215.28571428571428, \"Casos confirmados diarios\": \"Casos confirmados diarios\", \"Promedio m\\u00f3vil \\u00faltimos 7 d\\u00edas\": \"Promedio m\\u00f3vil \\u00faltimos 7 d\\u00edas\"}, {\"Fecha\": \"2020-03-30\", \"Casos confirmados\": 310, \"Rolling\": 243.28571428571428, \"Casos confirmados diarios\": \"Casos confirmados diarios\", \"Promedio m\\u00f3vil \\u00faltimos 7 d\\u00edas\": \"Promedio m\\u00f3vil \\u00faltimos 7 d\\u00edas\"}, {\"Fecha\": \"2020-03-31\", \"Casos confirmados\": 289, \"Rolling\": 259.42857142857144, \"Casos confirmados diarios\": \"Casos confirmados diarios\", \"Promedio m\\u00f3vil \\u00faltimos 7 d\\u00edas\": \"Promedio m\\u00f3vil \\u00faltimos 7 d\\u00edas\"}, {\"Fecha\": \"2020-04-01\", \"Casos confirmados\": 293, \"Rolling\": 269.85714285714283, \"Casos confirmados diarios\": \"Casos confirmados diarios\", \"Promedio m\\u00f3vil \\u00faltimos 7 d\\u00edas\": \"Promedio m\\u00f3vil \\u00faltimos 7 d\\u00edas\"}, {\"Fecha\": \"2020-04-02\", \"Casos confirmados\": 373, \"Rolling\": 299.7142857142857, \"Casos confirmados diarios\": \"Casos confirmados diarios\", \"Promedio m\\u00f3vil \\u00faltimos 7 d\\u00edas\": \"Promedio m\\u00f3vil \\u00faltimos 7 d\\u00edas\"}, {\"Fecha\": \"2020-04-03\", \"Casos confirmados\": 333, \"Rolling\": 303.85714285714283, \"Casos confirmados diarios\": \"Casos confirmados diarios\", \"Promedio m\\u00f3vil \\u00faltimos 7 d\\u00edas\": \"Promedio m\\u00f3vil \\u00faltimos 7 d\\u00edas\"}, {\"Fecha\": \"2020-04-04\", \"Casos confirmados\": 424, \"Rolling\": 321.7142857142857, \"Casos confirmados diarios\": \"Casos confirmados diarios\", \"Promedio m\\u00f3vil \\u00faltimos 7 d\\u00edas\": \"Promedio m\\u00f3vil \\u00faltimos 7 d\\u00edas\"}, {\"Fecha\": \"2020-04-05\", \"Casos confirmados\": 310, \"Rolling\": 333.14285714285717, \"Casos confirmados diarios\": \"Casos confirmados diarios\", \"Promedio m\\u00f3vil \\u00faltimos 7 d\\u00edas\": \"Promedio m\\u00f3vil \\u00faltimos 7 d\\u00edas\"}, {\"Fecha\": \"2020-04-06\", \"Casos confirmados\": 344, \"Rolling\": 338.0, \"Casos confirmados diarios\": \"Casos confirmados diarios\", \"Promedio m\\u00f3vil \\u00faltimos 7 d\\u00edas\": \"Promedio m\\u00f3vil \\u00faltimos 7 d\\u00edas\"}, {\"Fecha\": \"2020-04-07\", \"Casos confirmados\": 301, \"Rolling\": 339.7142857142857, \"Casos confirmados diarios\": \"Casos confirmados diarios\", \"Promedio m\\u00f3vil \\u00faltimos 7 d\\u00edas\": \"Promedio m\\u00f3vil \\u00faltimos 7 d\\u00edas\"}, {\"Fecha\": \"2020-04-08\", \"Casos confirmados\": 430, \"Rolling\": 359.2857142857143, \"Casos confirmados diarios\": \"Casos confirmados diarios\", \"Promedio m\\u00f3vil \\u00faltimos 7 d\\u00edas\": \"Promedio m\\u00f3vil \\u00faltimos 7 d\\u00edas\"}, {\"Fecha\": \"2020-04-09\", \"Casos confirmados\": 426, \"Rolling\": 366.85714285714283, \"Casos confirmados diarios\": \"Casos confirmados diarios\", \"Promedio m\\u00f3vil \\u00faltimos 7 d\\u00edas\": \"Promedio m\\u00f3vil \\u00faltimos 7 d\\u00edas\"}, {\"Fecha\": \"2020-04-10\", \"Casos confirmados\": 529, \"Rolling\": 394.85714285714283, \"Casos confirmados diarios\": \"Casos confirmados diarios\", \"Promedio m\\u00f3vil \\u00faltimos 7 d\\u00edas\": \"Promedio m\\u00f3vil \\u00faltimos 7 d\\u00edas\"}, {\"Fecha\": \"2020-04-11\", \"Casos confirmados\": 426, \"Rolling\": 395.14285714285717, \"Casos confirmados diarios\": \"Casos confirmados diarios\", \"Promedio m\\u00f3vil \\u00faltimos 7 d\\u00edas\": \"Promedio m\\u00f3vil \\u00faltimos 7 d\\u00edas\"}, {\"Fecha\": \"2020-04-12\", \"Casos confirmados\": 286, \"Rolling\": 391.7142857142857, \"Casos confirmados diarios\": \"Casos confirmados diarios\", \"Promedio m\\u00f3vil \\u00faltimos 7 d\\u00edas\": \"Promedio m\\u00f3vil \\u00faltimos 7 d\\u00edas\"}, {\"Fecha\": \"2020-04-13\", \"Casos confirmados\": 312, \"Rolling\": 387.14285714285717, \"Casos confirmados diarios\": \"Casos confirmados diarios\", \"Promedio m\\u00f3vil \\u00faltimos 7 d\\u00edas\": \"Promedio m\\u00f3vil \\u00faltimos 7 d\\u00edas\"}, {\"Fecha\": \"2020-04-14\", \"Casos confirmados\": 392, \"Rolling\": 400.14285714285717, \"Casos confirmados diarios\": \"Casos confirmados diarios\", \"Promedio m\\u00f3vil \\u00faltimos 7 d\\u00edas\": \"Promedio m\\u00f3vil \\u00faltimos 7 d\\u00edas\"}, {\"Fecha\": \"2020-04-15\", \"Casos confirmados\": 356, \"Rolling\": 389.57142857142856, \"Casos confirmados diarios\": \"Casos confirmados diarios\", \"Promedio m\\u00f3vil \\u00faltimos 7 d\\u00edas\": \"Promedio m\\u00f3vil \\u00faltimos 7 d\\u00edas\"}, {\"Fecha\": \"2020-04-16\", \"Casos confirmados\": 534, \"Rolling\": 405.0, \"Casos confirmados diarios\": \"Casos confirmados diarios\", \"Promedio m\\u00f3vil \\u00faltimos 7 d\\u00edas\": \"Promedio m\\u00f3vil \\u00faltimos 7 d\\u00edas\"}, {\"Fecha\": \"2020-04-17\", \"Casos confirmados\": 445, \"Rolling\": 393.0, \"Casos confirmados diarios\": \"Casos confirmados diarios\", \"Promedio m\\u00f3vil \\u00faltimos 7 d\\u00edas\": \"Promedio m\\u00f3vil \\u00faltimos 7 d\\u00edas\"}, {\"Fecha\": \"2020-04-18\", \"Casos confirmados\": 478, \"Rolling\": 400.42857142857144, \"Casos confirmados diarios\": \"Casos confirmados diarios\", \"Promedio m\\u00f3vil \\u00faltimos 7 d\\u00edas\": \"Promedio m\\u00f3vil \\u00faltimos 7 d\\u00edas\"}, {\"Fecha\": \"2020-04-19\", \"Casos confirmados\": 358, \"Rolling\": 410.7142857142857, \"Casos confirmados diarios\": \"Casos confirmados diarios\", \"Promedio m\\u00f3vil \\u00faltimos 7 d\\u00edas\": \"Promedio m\\u00f3vil \\u00faltimos 7 d\\u00edas\"}, {\"Fecha\": \"2020-04-20\", \"Casos confirmados\": 419, \"Rolling\": 426.0, \"Casos confirmados diarios\": \"Casos confirmados diarios\", \"Promedio m\\u00f3vil \\u00faltimos 7 d\\u00edas\": \"Promedio m\\u00f3vil \\u00faltimos 7 d\\u00edas\"}, {\"Fecha\": \"2020-04-21\", \"Casos confirmados\": 325, \"Rolling\": 416.42857142857144, \"Casos confirmados diarios\": \"Casos confirmados diarios\", \"Promedio m\\u00f3vil \\u00faltimos 7 d\\u00edas\": \"Promedio m\\u00f3vil \\u00faltimos 7 d\\u00edas\"}, {\"Fecha\": \"2020-04-22\", \"Casos confirmados\": 464, \"Rolling\": 431.85714285714283, \"Casos confirmados diarios\": \"Casos confirmados diarios\", \"Promedio m\\u00f3vil \\u00faltimos 7 d\\u00edas\": \"Promedio m\\u00f3vil \\u00faltimos 7 d\\u00edas\"}, {\"Fecha\": \"2020-04-23\", \"Casos confirmados\": 516, \"Rolling\": 429.2857142857143, \"Casos confirmados diarios\": \"Casos confirmados diarios\", \"Promedio m\\u00f3vil \\u00faltimos 7 d\\u00edas\": \"Promedio m\\u00f3vil \\u00faltimos 7 d\\u00edas\"}, {\"Fecha\": \"2020-04-24\", \"Casos confirmados\": 494, \"Rolling\": 436.2857142857143, \"Casos confirmados diarios\": \"Casos confirmados diarios\", \"Promedio m\\u00f3vil \\u00faltimos 7 d\\u00edas\": \"Promedio m\\u00f3vil \\u00faltimos 7 d\\u00edas\"}, {\"Fecha\": \"2020-04-25\", \"Casos confirmados\": 552, \"Rolling\": 446.85714285714283, \"Casos confirmados diarios\": \"Casos confirmados diarios\", \"Promedio m\\u00f3vil \\u00faltimos 7 d\\u00edas\": \"Promedio m\\u00f3vil \\u00faltimos 7 d\\u00edas\"}, {\"Fecha\": \"2020-04-26\", \"Casos confirmados\": 473, \"Rolling\": 463.2857142857143, \"Casos confirmados diarios\": \"Casos confirmados diarios\", \"Promedio m\\u00f3vil \\u00faltimos 7 d\\u00edas\": \"Promedio m\\u00f3vil \\u00faltimos 7 d\\u00edas\"}, {\"Fecha\": \"2020-04-27\", \"Casos confirmados\": 482, \"Rolling\": 472.2857142857143, \"Casos confirmados diarios\": \"Casos confirmados diarios\", \"Promedio m\\u00f3vil \\u00faltimos 7 d\\u00edas\": \"Promedio m\\u00f3vil \\u00faltimos 7 d\\u00edas\"}, {\"Fecha\": \"2020-04-28\", \"Casos confirmados\": 552, \"Rolling\": 504.7142857142857, \"Casos confirmados diarios\": \"Casos confirmados diarios\", \"Promedio m\\u00f3vil \\u00faltimos 7 d\\u00edas\": \"Promedio m\\u00f3vil \\u00faltimos 7 d\\u00edas\"}, {\"Fecha\": \"2020-04-29\", \"Casos confirmados\": 770, \"Rolling\": 548.4285714285714, \"Casos confirmados diarios\": \"Casos confirmados diarios\", \"Promedio m\\u00f3vil \\u00faltimos 7 d\\u00edas\": \"Promedio m\\u00f3vil \\u00faltimos 7 d\\u00edas\"}, {\"Fecha\": \"2020-04-30\", \"Casos confirmados\": 888, \"Rolling\": 601.5714285714286, \"Casos confirmados diarios\": \"Casos confirmados diarios\", \"Promedio m\\u00f3vil \\u00faltimos 7 d\\u00edas\": \"Promedio m\\u00f3vil \\u00faltimos 7 d\\u00edas\"}, {\"Fecha\": \"2020-05-01\", \"Casos confirmados\": 985, \"Rolling\": 671.7142857142857, \"Casos confirmados diarios\": \"Casos confirmados diarios\", \"Promedio m\\u00f3vil \\u00faltimos 7 d\\u00edas\": \"Promedio m\\u00f3vil \\u00faltimos 7 d\\u00edas\"}, {\"Fecha\": \"2020-05-02\", \"Casos confirmados\": 1427, \"Rolling\": 796.7142857142857, \"Casos confirmados diarios\": \"Casos confirmados diarios\", \"Promedio m\\u00f3vil \\u00faltimos 7 d\\u00edas\": \"Promedio m\\u00f3vil \\u00faltimos 7 d\\u00edas\"}, {\"Fecha\": \"2020-05-03\", \"Casos confirmados\": 1228, \"Rolling\": 904.5714285714286, \"Casos confirmados diarios\": \"Casos confirmados diarios\", \"Promedio m\\u00f3vil \\u00faltimos 7 d\\u00edas\": \"Promedio m\\u00f3vil \\u00faltimos 7 d\\u00edas\"}, {\"Fecha\": \"2020-05-04\", \"Casos confirmados\": 980, \"Rolling\": 975.7142857142857, \"Casos confirmados diarios\": \"Casos confirmados diarios\", \"Promedio m\\u00f3vil \\u00faltimos 7 d\\u00edas\": \"Promedio m\\u00f3vil \\u00faltimos 7 d\\u00edas\"}, {\"Fecha\": \"2020-05-05\", \"Casos confirmados\": 1373, \"Rolling\": 1093.0, \"Casos confirmados diarios\": \"Casos confirmados diarios\", \"Promedio m\\u00f3vil \\u00faltimos 7 d\\u00edas\": \"Promedio m\\u00f3vil \\u00faltimos 7 d\\u00edas\"}, {\"Fecha\": \"2020-05-06\", \"Casos confirmados\": 1032, \"Rolling\": 1130.4285714285713, \"Casos confirmados diarios\": \"Casos confirmados diarios\", \"Promedio m\\u00f3vil \\u00faltimos 7 d\\u00edas\": \"Promedio m\\u00f3vil \\u00faltimos 7 d\\u00edas\"}, {\"Fecha\": \"2020-05-07\", \"Casos confirmados\": 1533, \"Rolling\": 1222.5714285714287, \"Casos confirmados diarios\": \"Casos confirmados diarios\", \"Promedio m\\u00f3vil \\u00faltimos 7 d\\u00edas\": \"Promedio m\\u00f3vil \\u00faltimos 7 d\\u00edas\"}, {\"Fecha\": \"2020-05-08\", \"Casos confirmados\": 1391, \"Rolling\": 1280.5714285714287, \"Casos confirmados diarios\": \"Casos confirmados diarios\", \"Promedio m\\u00f3vil \\u00faltimos 7 d\\u00edas\": \"Promedio m\\u00f3vil \\u00faltimos 7 d\\u00edas\"}, {\"Fecha\": \"2020-05-09\", \"Casos confirmados\": 1247, \"Rolling\": 1254.857142857143, \"Casos confirmados diarios\": \"Casos confirmados diarios\", \"Promedio m\\u00f3vil \\u00faltimos 7 d\\u00edas\": \"Promedio m\\u00f3vil \\u00faltimos 7 d\\u00edas\"}, {\"Fecha\": \"2020-05-10\", \"Casos confirmados\": 1647, \"Rolling\": 1314.7142857142858, \"Casos confirmados diarios\": \"Casos confirmados diarios\", \"Promedio m\\u00f3vil \\u00faltimos 7 d\\u00edas\": \"Promedio m\\u00f3vil \\u00faltimos 7 d\\u00edas\"}, {\"Fecha\": \"2020-05-11\", \"Casos confirmados\": 1197, \"Rolling\": 1345.7142857142858, \"Casos confirmados diarios\": \"Casos confirmados diarios\", \"Promedio m\\u00f3vil \\u00faltimos 7 d\\u00edas\": \"Promedio m\\u00f3vil \\u00faltimos 7 d\\u00edas\"}, {\"Fecha\": \"2020-05-12\", \"Casos confirmados\": 1658, \"Rolling\": 1386.4285714285713, \"Casos confirmados diarios\": \"Casos confirmados diarios\", \"Promedio m\\u00f3vil \\u00faltimos 7 d\\u00edas\": \"Promedio m\\u00f3vil \\u00faltimos 7 d\\u00edas\"}, {\"Fecha\": \"2020-05-13\", \"Casos confirmados\": 2660, \"Rolling\": 1619.0, \"Casos confirmados diarios\": \"Casos confirmados diarios\", \"Promedio m\\u00f3vil \\u00faltimos 7 d\\u00edas\": \"Promedio m\\u00f3vil \\u00faltimos 7 d\\u00edas\"}, {\"Fecha\": \"2020-05-14\", \"Casos confirmados\": 2659, \"Rolling\": 1779.857142857143, \"Casos confirmados diarios\": \"Casos confirmados diarios\", \"Promedio m\\u00f3vil \\u00faltimos 7 d\\u00edas\": \"Promedio m\\u00f3vil \\u00faltimos 7 d\\u00edas\"}, {\"Fecha\": \"2020-05-15\", \"Casos confirmados\": 2502, \"Rolling\": 1938.5714285714287, \"Casos confirmados diarios\": \"Casos confirmados diarios\", \"Promedio m\\u00f3vil \\u00faltimos 7 d\\u00edas\": \"Promedio m\\u00f3vil \\u00faltimos 7 d\\u00edas\"}, {\"Fecha\": \"2020-05-16\", \"Casos confirmados\": 1886, \"Rolling\": 2029.857142857143, \"Casos confirmados diarios\": \"Casos confirmados diarios\", \"Promedio m\\u00f3vil \\u00faltimos 7 d\\u00edas\": \"Promedio m\\u00f3vil \\u00faltimos 7 d\\u00edas\"}, {\"Fecha\": \"2020-05-17\", \"Casos confirmados\": 2353, \"Rolling\": 2130.714285714286, \"Casos confirmados diarios\": \"Casos confirmados diarios\", \"Promedio m\\u00f3vil \\u00faltimos 7 d\\u00edas\": \"Promedio m\\u00f3vil \\u00faltimos 7 d\\u00edas\"}, {\"Fecha\": \"2020-05-18\", \"Casos confirmados\": 2278, \"Rolling\": 2285.1428571428573, \"Casos confirmados diarios\": \"Casos confirmados diarios\", \"Promedio m\\u00f3vil \\u00faltimos 7 d\\u00edas\": \"Promedio m\\u00f3vil \\u00faltimos 7 d\\u00edas\"}]}}, {\"mode\": \"vega-lite\"});\n",
       "</script>"
      ],
      "text/plain": [
       "alt.LayerChart(...)"
      ]
     },
     "execution_count": 7,
     "metadata": {},
     "output_type": "execute_result"
    }
   ],
   "source": [
    "#hide_input\n",
    "bars, line = my_cases_plot(region)\n",
    "(bars + line).properties(\n",
    "    title=f'Covid-19 en Chile: Casos confirmados diarios',\n",
    "    width=600\n",
    ")"
   ]
  },
  {
   "cell_type": "markdown",
   "metadata": {},
   "source": [
    "## Arica y Parinacota"
   ]
  },
  {
   "cell_type": "code",
   "execution_count": 8,
   "metadata": {},
   "outputs": [],
   "source": [
    "#hide\n",
    "region = \"Arica y Parinacota\""
   ]
  },
  {
   "cell_type": "code",
   "execution_count": 9,
   "metadata": {},
   "outputs": [
    {
     "data": {
      "text/html": [
       "\n",
       "<div id=\"altair-viz-98baaab32b2944beae7a95572554d7c4\"></div>\n",
       "<script type=\"text/javascript\">\n",
       "  (function(spec, embedOpt){\n",
       "    let outputDiv = document.currentScript.previousElementSibling;\n",
       "    if (outputDiv.id !== \"altair-viz-98baaab32b2944beae7a95572554d7c4\") {\n",
       "      outputDiv = document.getElementById(\"altair-viz-98baaab32b2944beae7a95572554d7c4\");\n",
       "    }\n",
       "    const paths = {\n",
       "      \"vega\": \"https://cdn.jsdelivr.net/npm//vega@5?noext\",\n",
       "      \"vega-lib\": \"https://cdn.jsdelivr.net/npm//vega-lib?noext\",\n",
       "      \"vega-lite\": \"https://cdn.jsdelivr.net/npm//vega-lite@4.8.1?noext\",\n",
       "      \"vega-embed\": \"https://cdn.jsdelivr.net/npm//vega-embed@6?noext\",\n",
       "    };\n",
       "\n",
       "    function loadScript(lib) {\n",
       "      return new Promise(function(resolve, reject) {\n",
       "        var s = document.createElement('script');\n",
       "        s.src = paths[lib];\n",
       "        s.async = true;\n",
       "        s.onload = () => resolve(paths[lib]);\n",
       "        s.onerror = () => reject(`Error loading script: ${paths[lib]}`);\n",
       "        document.getElementsByTagName(\"head\")[0].appendChild(s);\n",
       "      });\n",
       "    }\n",
       "\n",
       "    function showError(err) {\n",
       "      outputDiv.innerHTML = `<div class=\"error\" style=\"color:red;\">${err}</div>`;\n",
       "      throw err;\n",
       "    }\n",
       "\n",
       "    function displayChart(vegaEmbed) {\n",
       "      vegaEmbed(outputDiv, spec, embedOpt)\n",
       "        .catch(err => showError(`Javascript Error: ${err.message}<br>This usually means there's a typo in your chart specification. See the javascript console for the full traceback.`));\n",
       "    }\n",
       "\n",
       "    if(typeof define === \"function\" && define.amd) {\n",
       "      requirejs.config({paths});\n",
       "      require([\"vega-embed\"], displayChart, err => showError(`Error loading script: ${err.message}`));\n",
       "    } else if (typeof vegaEmbed === \"function\") {\n",
       "      displayChart(vegaEmbed);\n",
       "    } else {\n",
       "      loadScript(\"vega\")\n",
       "        .then(() => loadScript(\"vega-lite\"))\n",
       "        .then(() => loadScript(\"vega-embed\"))\n",
       "        .catch(showError)\n",
       "        .then(() => displayChart(vegaEmbed));\n",
       "    }\n",
       "  })({\"config\": {\"view\": {\"continuousWidth\": 400, \"continuousHeight\": 300}}, \"layer\": [{\"mark\": {\"type\": \"bar\", \"opacity\": 0.7}, \"encoding\": {\"opacity\": {\"type\": \"nominal\", \"field\": \"Casos confirmados diarios\", \"legend\": {\"title\": \"\"}}, \"tooltip\": [{\"type\": \"nominal\", \"field\": \"Fecha\"}, {\"type\": \"quantitative\", \"field\": \"Casos confirmados\"}], \"x\": {\"type\": \"nominal\", \"axis\": {\"title\": \"Fecha (a\\u00f1o-mes-d\\u00eda)\"}, \"field\": \"Fecha\"}, \"y\": {\"type\": \"quantitative\", \"axis\": {\"title\": \"Casos confirmados diarios\"}, \"field\": \"Casos confirmados\"}}}, {\"mark\": {\"type\": \"line\", \"color\": \"#1f77b4\", \"point\": {\"filled\": true, \"fill\": \"#1f77b4\"}}, \"encoding\": {\"shape\": {\"type\": \"nominal\", \"field\": \"Promedio m\\u00f3vil \\u00faltimos 7 d\\u00edas\", \"legend\": {\"title\": \"\"}}, \"x\": {\"type\": \"nominal\", \"axis\": {\"title\": \"Fecha (a\\u00f1o-mes-d\\u00eda)\"}, \"field\": \"Fecha\"}, \"y\": {\"type\": \"quantitative\", \"field\": \"Rolling\"}}}], \"data\": {\"name\": \"data-07ecd9910b189c8d556f8edc73efe91a\"}, \"title\": \"Covid-19 en Chile: Casos confirmados diarios en Arica y Parinacota\", \"width\": 600, \"$schema\": \"https://vega.github.io/schema/vega-lite/v4.8.1.json\", \"datasets\": {\"data-07ecd9910b189c8d556f8edc73efe91a\": [{\"Fecha\": \"2020-03-04\", \"Casos confirmados\": 0, \"Rolling\": null, \"Casos confirmados diarios\": \"Casos confirmados diarios\", \"Promedio m\\u00f3vil \\u00faltimos 7 d\\u00edas\": \"Promedio m\\u00f3vil \\u00faltimos 7 d\\u00edas\"}, {\"Fecha\": \"2020-03-05\", \"Casos confirmados\": 0, \"Rolling\": null, \"Casos confirmados diarios\": \"Casos confirmados diarios\", \"Promedio m\\u00f3vil \\u00faltimos 7 d\\u00edas\": \"Promedio m\\u00f3vil \\u00faltimos 7 d\\u00edas\"}, {\"Fecha\": \"2020-03-06\", \"Casos confirmados\": 0, \"Rolling\": null, \"Casos confirmados diarios\": \"Casos confirmados diarios\", \"Promedio m\\u00f3vil \\u00faltimos 7 d\\u00edas\": \"Promedio m\\u00f3vil \\u00faltimos 7 d\\u00edas\"}, {\"Fecha\": \"2020-03-07\", \"Casos confirmados\": 0, \"Rolling\": null, \"Casos confirmados diarios\": \"Casos confirmados diarios\", \"Promedio m\\u00f3vil \\u00faltimos 7 d\\u00edas\": \"Promedio m\\u00f3vil \\u00faltimos 7 d\\u00edas\"}, {\"Fecha\": \"2020-03-08\", \"Casos confirmados\": 0, \"Rolling\": null, \"Casos confirmados diarios\": \"Casos confirmados diarios\", \"Promedio m\\u00f3vil \\u00faltimos 7 d\\u00edas\": \"Promedio m\\u00f3vil \\u00faltimos 7 d\\u00edas\"}, {\"Fecha\": \"2020-03-09\", \"Casos confirmados\": 0, \"Rolling\": null, \"Casos confirmados diarios\": \"Casos confirmados diarios\", \"Promedio m\\u00f3vil \\u00faltimos 7 d\\u00edas\": \"Promedio m\\u00f3vil \\u00faltimos 7 d\\u00edas\"}, {\"Fecha\": \"2020-03-10\", \"Casos confirmados\": 0, \"Rolling\": 0.0, \"Casos confirmados diarios\": \"Casos confirmados diarios\", \"Promedio m\\u00f3vil \\u00faltimos 7 d\\u00edas\": \"Promedio m\\u00f3vil \\u00faltimos 7 d\\u00edas\"}, {\"Fecha\": \"2020-03-11\", \"Casos confirmados\": 0, \"Rolling\": 0.0, \"Casos confirmados diarios\": \"Casos confirmados diarios\", \"Promedio m\\u00f3vil \\u00faltimos 7 d\\u00edas\": \"Promedio m\\u00f3vil \\u00faltimos 7 d\\u00edas\"}, {\"Fecha\": \"2020-03-12\", \"Casos confirmados\": 0, \"Rolling\": 0.0, \"Casos confirmados diarios\": \"Casos confirmados diarios\", \"Promedio m\\u00f3vil \\u00faltimos 7 d\\u00edas\": \"Promedio m\\u00f3vil \\u00faltimos 7 d\\u00edas\"}, {\"Fecha\": \"2020-03-13\", \"Casos confirmados\": 0, \"Rolling\": 0.0, \"Casos confirmados diarios\": \"Casos confirmados diarios\", \"Promedio m\\u00f3vil \\u00faltimos 7 d\\u00edas\": \"Promedio m\\u00f3vil \\u00faltimos 7 d\\u00edas\"}, {\"Fecha\": \"2020-03-14\", \"Casos confirmados\": 0, \"Rolling\": 0.0, \"Casos confirmados diarios\": \"Casos confirmados diarios\", \"Promedio m\\u00f3vil \\u00faltimos 7 d\\u00edas\": \"Promedio m\\u00f3vil \\u00faltimos 7 d\\u00edas\"}, {\"Fecha\": \"2020-03-15\", \"Casos confirmados\": 0, \"Rolling\": 0.0, \"Casos confirmados diarios\": \"Casos confirmados diarios\", \"Promedio m\\u00f3vil \\u00faltimos 7 d\\u00edas\": \"Promedio m\\u00f3vil \\u00faltimos 7 d\\u00edas\"}, {\"Fecha\": \"2020-03-16\", \"Casos confirmados\": 0, \"Rolling\": 0.0, \"Casos confirmados diarios\": \"Casos confirmados diarios\", \"Promedio m\\u00f3vil \\u00faltimos 7 d\\u00edas\": \"Promedio m\\u00f3vil \\u00faltimos 7 d\\u00edas\"}, {\"Fecha\": \"2020-03-17\", \"Casos confirmados\": 0, \"Rolling\": 0.0, \"Casos confirmados diarios\": \"Casos confirmados diarios\", \"Promedio m\\u00f3vil \\u00faltimos 7 d\\u00edas\": \"Promedio m\\u00f3vil \\u00faltimos 7 d\\u00edas\"}, {\"Fecha\": \"2020-03-18\", \"Casos confirmados\": 0, \"Rolling\": 0.0, \"Casos confirmados diarios\": \"Casos confirmados diarios\", \"Promedio m\\u00f3vil \\u00faltimos 7 d\\u00edas\": \"Promedio m\\u00f3vil \\u00faltimos 7 d\\u00edas\"}, {\"Fecha\": \"2020-03-19\", \"Casos confirmados\": 1, \"Rolling\": 0.14285714285714285, \"Casos confirmados diarios\": \"Casos confirmados diarios\", \"Promedio m\\u00f3vil \\u00faltimos 7 d\\u00edas\": \"Promedio m\\u00f3vil \\u00faltimos 7 d\\u00edas\"}, {\"Fecha\": \"2020-03-20\", \"Casos confirmados\": 0, \"Rolling\": 0.14285714285714285, \"Casos confirmados diarios\": \"Casos confirmados diarios\", \"Promedio m\\u00f3vil \\u00faltimos 7 d\\u00edas\": \"Promedio m\\u00f3vil \\u00faltimos 7 d\\u00edas\"}, {\"Fecha\": \"2020-03-21\", \"Casos confirmados\": 0, \"Rolling\": 0.14285714285714285, \"Casos confirmados diarios\": \"Casos confirmados diarios\", \"Promedio m\\u00f3vil \\u00faltimos 7 d\\u00edas\": \"Promedio m\\u00f3vil \\u00faltimos 7 d\\u00edas\"}, {\"Fecha\": \"2020-03-22\", \"Casos confirmados\": 1, \"Rolling\": 0.2857142857142857, \"Casos confirmados diarios\": \"Casos confirmados diarios\", \"Promedio m\\u00f3vil \\u00faltimos 7 d\\u00edas\": \"Promedio m\\u00f3vil \\u00faltimos 7 d\\u00edas\"}, {\"Fecha\": \"2020-03-23\", \"Casos confirmados\": 0, \"Rolling\": 0.2857142857142857, \"Casos confirmados diarios\": \"Casos confirmados diarios\", \"Promedio m\\u00f3vil \\u00faltimos 7 d\\u00edas\": \"Promedio m\\u00f3vil \\u00faltimos 7 d\\u00edas\"}, {\"Fecha\": \"2020-03-24\", \"Casos confirmados\": 0, \"Rolling\": 0.2857142857142857, \"Casos confirmados diarios\": \"Casos confirmados diarios\", \"Promedio m\\u00f3vil \\u00faltimos 7 d\\u00edas\": \"Promedio m\\u00f3vil \\u00faltimos 7 d\\u00edas\"}, {\"Fecha\": \"2020-03-25\", \"Casos confirmados\": 0, \"Rolling\": 0.2857142857142857, \"Casos confirmados diarios\": \"Casos confirmados diarios\", \"Promedio m\\u00f3vil \\u00faltimos 7 d\\u00edas\": \"Promedio m\\u00f3vil \\u00faltimos 7 d\\u00edas\"}, {\"Fecha\": \"2020-03-26\", \"Casos confirmados\": 1, \"Rolling\": 0.2857142857142857, \"Casos confirmados diarios\": \"Casos confirmados diarios\", \"Promedio m\\u00f3vil \\u00faltimos 7 d\\u00edas\": \"Promedio m\\u00f3vil \\u00faltimos 7 d\\u00edas\"}, {\"Fecha\": \"2020-03-27\", \"Casos confirmados\": 0, \"Rolling\": 0.2857142857142857, \"Casos confirmados diarios\": \"Casos confirmados diarios\", \"Promedio m\\u00f3vil \\u00faltimos 7 d\\u00edas\": \"Promedio m\\u00f3vil \\u00faltimos 7 d\\u00edas\"}, {\"Fecha\": \"2020-03-28\", \"Casos confirmados\": 0, \"Rolling\": 0.2857142857142857, \"Casos confirmados diarios\": \"Casos confirmados diarios\", \"Promedio m\\u00f3vil \\u00faltimos 7 d\\u00edas\": \"Promedio m\\u00f3vil \\u00faltimos 7 d\\u00edas\"}, {\"Fecha\": \"2020-03-29\", \"Casos confirmados\": 1, \"Rolling\": 0.2857142857142857, \"Casos confirmados diarios\": \"Casos confirmados diarios\", \"Promedio m\\u00f3vil \\u00faltimos 7 d\\u00edas\": \"Promedio m\\u00f3vil \\u00faltimos 7 d\\u00edas\"}, {\"Fecha\": \"2020-03-30\", \"Casos confirmados\": 2, \"Rolling\": 0.5714285714285714, \"Casos confirmados diarios\": \"Casos confirmados diarios\", \"Promedio m\\u00f3vil \\u00faltimos 7 d\\u00edas\": \"Promedio m\\u00f3vil \\u00faltimos 7 d\\u00edas\"}, {\"Fecha\": \"2020-03-31\", \"Casos confirmados\": 0, \"Rolling\": 0.5714285714285714, \"Casos confirmados diarios\": \"Casos confirmados diarios\", \"Promedio m\\u00f3vil \\u00faltimos 7 d\\u00edas\": \"Promedio m\\u00f3vil \\u00faltimos 7 d\\u00edas\"}, {\"Fecha\": \"2020-04-01\", \"Casos confirmados\": 0, \"Rolling\": 0.5714285714285714, \"Casos confirmados diarios\": \"Casos confirmados diarios\", \"Promedio m\\u00f3vil \\u00faltimos 7 d\\u00edas\": \"Promedio m\\u00f3vil \\u00faltimos 7 d\\u00edas\"}, {\"Fecha\": \"2020-04-02\", \"Casos confirmados\": 1, \"Rolling\": 0.5714285714285714, \"Casos confirmados diarios\": \"Casos confirmados diarios\", \"Promedio m\\u00f3vil \\u00faltimos 7 d\\u00edas\": \"Promedio m\\u00f3vil \\u00faltimos 7 d\\u00edas\"}, {\"Fecha\": \"2020-04-03\", \"Casos confirmados\": 5, \"Rolling\": 1.2857142857142858, \"Casos confirmados diarios\": \"Casos confirmados diarios\", \"Promedio m\\u00f3vil \\u00faltimos 7 d\\u00edas\": \"Promedio m\\u00f3vil \\u00faltimos 7 d\\u00edas\"}, {\"Fecha\": \"2020-04-04\", \"Casos confirmados\": 0, \"Rolling\": 1.2857142857142858, \"Casos confirmados diarios\": \"Casos confirmados diarios\", \"Promedio m\\u00f3vil \\u00faltimos 7 d\\u00edas\": \"Promedio m\\u00f3vil \\u00faltimos 7 d\\u00edas\"}, {\"Fecha\": \"2020-04-05\", \"Casos confirmados\": 16, \"Rolling\": 3.4285714285714284, \"Casos confirmados diarios\": \"Casos confirmados diarios\", \"Promedio m\\u00f3vil \\u00faltimos 7 d\\u00edas\": \"Promedio m\\u00f3vil \\u00faltimos 7 d\\u00edas\"}, {\"Fecha\": \"2020-04-06\", \"Casos confirmados\": 13, \"Rolling\": 5.0, \"Casos confirmados diarios\": \"Casos confirmados diarios\", \"Promedio m\\u00f3vil \\u00faltimos 7 d\\u00edas\": \"Promedio m\\u00f3vil \\u00faltimos 7 d\\u00edas\"}, {\"Fecha\": \"2020-04-07\", \"Casos confirmados\": 12, \"Rolling\": 6.714285714285714, \"Casos confirmados diarios\": \"Casos confirmados diarios\", \"Promedio m\\u00f3vil \\u00faltimos 7 d\\u00edas\": \"Promedio m\\u00f3vil \\u00faltimos 7 d\\u00edas\"}, {\"Fecha\": \"2020-04-08\", \"Casos confirmados\": 10, \"Rolling\": 8.142857142857142, \"Casos confirmados diarios\": \"Casos confirmados diarios\", \"Promedio m\\u00f3vil \\u00faltimos 7 d\\u00edas\": \"Promedio m\\u00f3vil \\u00faltimos 7 d\\u00edas\"}, {\"Fecha\": \"2020-04-09\", \"Casos confirmados\": 12, \"Rolling\": 9.714285714285714, \"Casos confirmados diarios\": \"Casos confirmados diarios\", \"Promedio m\\u00f3vil \\u00faltimos 7 d\\u00edas\": \"Promedio m\\u00f3vil \\u00faltimos 7 d\\u00edas\"}, {\"Fecha\": \"2020-04-10\", \"Casos confirmados\": 12, \"Rolling\": 10.714285714285714, \"Casos confirmados diarios\": \"Casos confirmados diarios\", \"Promedio m\\u00f3vil \\u00faltimos 7 d\\u00edas\": \"Promedio m\\u00f3vil \\u00faltimos 7 d\\u00edas\"}, {\"Fecha\": \"2020-04-11\", \"Casos confirmados\": 20, \"Rolling\": 13.571428571428571, \"Casos confirmados diarios\": \"Casos confirmados diarios\", \"Promedio m\\u00f3vil \\u00faltimos 7 d\\u00edas\": \"Promedio m\\u00f3vil \\u00faltimos 7 d\\u00edas\"}, {\"Fecha\": \"2020-04-12\", \"Casos confirmados\": 8, \"Rolling\": 12.428571428571429, \"Casos confirmados diarios\": \"Casos confirmados diarios\", \"Promedio m\\u00f3vil \\u00faltimos 7 d\\u00edas\": \"Promedio m\\u00f3vil \\u00faltimos 7 d\\u00edas\"}, {\"Fecha\": \"2020-04-13\", \"Casos confirmados\": 0, \"Rolling\": 10.571428571428571, \"Casos confirmados diarios\": \"Casos confirmados diarios\", \"Promedio m\\u00f3vil \\u00faltimos 7 d\\u00edas\": \"Promedio m\\u00f3vil \\u00faltimos 7 d\\u00edas\"}, {\"Fecha\": \"2020-04-14\", \"Casos confirmados\": 5, \"Rolling\": 9.571428571428571, \"Casos confirmados diarios\": \"Casos confirmados diarios\", \"Promedio m\\u00f3vil \\u00faltimos 7 d\\u00edas\": \"Promedio m\\u00f3vil \\u00faltimos 7 d\\u00edas\"}, {\"Fecha\": \"2020-04-15\", \"Casos confirmados\": 4, \"Rolling\": 8.714285714285714, \"Casos confirmados diarios\": \"Casos confirmados diarios\", \"Promedio m\\u00f3vil \\u00faltimos 7 d\\u00edas\": \"Promedio m\\u00f3vil \\u00faltimos 7 d\\u00edas\"}, {\"Fecha\": \"2020-04-16\", \"Casos confirmados\": 5, \"Rolling\": 7.714285714285714, \"Casos confirmados diarios\": \"Casos confirmados diarios\", \"Promedio m\\u00f3vil \\u00faltimos 7 d\\u00edas\": \"Promedio m\\u00f3vil \\u00faltimos 7 d\\u00edas\"}, {\"Fecha\": \"2020-04-17\", \"Casos confirmados\": 5, \"Rolling\": 6.714285714285714, \"Casos confirmados diarios\": \"Casos confirmados diarios\", \"Promedio m\\u00f3vil \\u00faltimos 7 d\\u00edas\": \"Promedio m\\u00f3vil \\u00faltimos 7 d\\u00edas\"}, {\"Fecha\": \"2020-04-18\", \"Casos confirmados\": 8, \"Rolling\": 5.0, \"Casos confirmados diarios\": \"Casos confirmados diarios\", \"Promedio m\\u00f3vil \\u00faltimos 7 d\\u00edas\": \"Promedio m\\u00f3vil \\u00faltimos 7 d\\u00edas\"}, {\"Fecha\": \"2020-04-19\", \"Casos confirmados\": 3, \"Rolling\": 4.285714285714286, \"Casos confirmados diarios\": \"Casos confirmados diarios\", \"Promedio m\\u00f3vil \\u00faltimos 7 d\\u00edas\": \"Promedio m\\u00f3vil \\u00faltimos 7 d\\u00edas\"}, {\"Fecha\": \"2020-04-20\", \"Casos confirmados\": 16, \"Rolling\": 6.571428571428571, \"Casos confirmados diarios\": \"Casos confirmados diarios\", \"Promedio m\\u00f3vil \\u00faltimos 7 d\\u00edas\": \"Promedio m\\u00f3vil \\u00faltimos 7 d\\u00edas\"}, {\"Fecha\": \"2020-04-21\", \"Casos confirmados\": 9, \"Rolling\": 7.142857142857143, \"Casos confirmados diarios\": \"Casos confirmados diarios\", \"Promedio m\\u00f3vil \\u00faltimos 7 d\\u00edas\": \"Promedio m\\u00f3vil \\u00faltimos 7 d\\u00edas\"}, {\"Fecha\": \"2020-04-22\", \"Casos confirmados\": 10, \"Rolling\": 8.0, \"Casos confirmados diarios\": \"Casos confirmados diarios\", \"Promedio m\\u00f3vil \\u00faltimos 7 d\\u00edas\": \"Promedio m\\u00f3vil \\u00faltimos 7 d\\u00edas\"}, {\"Fecha\": \"2020-04-23\", \"Casos confirmados\": 30, \"Rolling\": 11.571428571428571, \"Casos confirmados diarios\": \"Casos confirmados diarios\", \"Promedio m\\u00f3vil \\u00faltimos 7 d\\u00edas\": \"Promedio m\\u00f3vil \\u00faltimos 7 d\\u00edas\"}, {\"Fecha\": \"2020-04-24\", \"Casos confirmados\": 29, \"Rolling\": 15.0, \"Casos confirmados diarios\": \"Casos confirmados diarios\", \"Promedio m\\u00f3vil \\u00faltimos 7 d\\u00edas\": \"Promedio m\\u00f3vil \\u00faltimos 7 d\\u00edas\"}, {\"Fecha\": \"2020-04-25\", \"Casos confirmados\": 6, \"Rolling\": 14.714285714285714, \"Casos confirmados diarios\": \"Casos confirmados diarios\", \"Promedio m\\u00f3vil \\u00faltimos 7 d\\u00edas\": \"Promedio m\\u00f3vil \\u00faltimos 7 d\\u00edas\"}, {\"Fecha\": \"2020-04-26\", \"Casos confirmados\": 7, \"Rolling\": 15.285714285714286, \"Casos confirmados diarios\": \"Casos confirmados diarios\", \"Promedio m\\u00f3vil \\u00faltimos 7 d\\u00edas\": \"Promedio m\\u00f3vil \\u00faltimos 7 d\\u00edas\"}, {\"Fecha\": \"2020-04-27\", \"Casos confirmados\": 13, \"Rolling\": 14.857142857142858, \"Casos confirmados diarios\": \"Casos confirmados diarios\", \"Promedio m\\u00f3vil \\u00faltimos 7 d\\u00edas\": \"Promedio m\\u00f3vil \\u00faltimos 7 d\\u00edas\"}, {\"Fecha\": \"2020-04-28\", \"Casos confirmados\": 3, \"Rolling\": 14.0, \"Casos confirmados diarios\": \"Casos confirmados diarios\", \"Promedio m\\u00f3vil \\u00faltimos 7 d\\u00edas\": \"Promedio m\\u00f3vil \\u00faltimos 7 d\\u00edas\"}, {\"Fecha\": \"2020-04-29\", \"Casos confirmados\": 4, \"Rolling\": 13.142857142857142, \"Casos confirmados diarios\": \"Casos confirmados diarios\", \"Promedio m\\u00f3vil \\u00faltimos 7 d\\u00edas\": \"Promedio m\\u00f3vil \\u00faltimos 7 d\\u00edas\"}, {\"Fecha\": \"2020-04-30\", \"Casos confirmados\": 7, \"Rolling\": 9.857142857142858, \"Casos confirmados diarios\": \"Casos confirmados diarios\", \"Promedio m\\u00f3vil \\u00faltimos 7 d\\u00edas\": \"Promedio m\\u00f3vil \\u00faltimos 7 d\\u00edas\"}, {\"Fecha\": \"2020-05-01\", \"Casos confirmados\": 18, \"Rolling\": 8.285714285714286, \"Casos confirmados diarios\": \"Casos confirmados diarios\", \"Promedio m\\u00f3vil \\u00faltimos 7 d\\u00edas\": \"Promedio m\\u00f3vil \\u00faltimos 7 d\\u00edas\"}, {\"Fecha\": \"2020-05-02\", \"Casos confirmados\": 10, \"Rolling\": 8.857142857142858, \"Casos confirmados diarios\": \"Casos confirmados diarios\", \"Promedio m\\u00f3vil \\u00faltimos 7 d\\u00edas\": \"Promedio m\\u00f3vil \\u00faltimos 7 d\\u00edas\"}, {\"Fecha\": \"2020-05-03\", \"Casos confirmados\": 1, \"Rolling\": 8.0, \"Casos confirmados diarios\": \"Casos confirmados diarios\", \"Promedio m\\u00f3vil \\u00faltimos 7 d\\u00edas\": \"Promedio m\\u00f3vil \\u00faltimos 7 d\\u00edas\"}, {\"Fecha\": \"2020-05-04\", \"Casos confirmados\": 0, \"Rolling\": 6.142857142857143, \"Casos confirmados diarios\": \"Casos confirmados diarios\", \"Promedio m\\u00f3vil \\u00faltimos 7 d\\u00edas\": \"Promedio m\\u00f3vil \\u00faltimos 7 d\\u00edas\"}, {\"Fecha\": \"2020-05-05\", \"Casos confirmados\": 7, \"Rolling\": 6.714285714285714, \"Casos confirmados diarios\": \"Casos confirmados diarios\", \"Promedio m\\u00f3vil \\u00faltimos 7 d\\u00edas\": \"Promedio m\\u00f3vil \\u00faltimos 7 d\\u00edas\"}, {\"Fecha\": \"2020-05-06\", \"Casos confirmados\": 3, \"Rolling\": 6.571428571428571, \"Casos confirmados diarios\": \"Casos confirmados diarios\", \"Promedio m\\u00f3vil \\u00faltimos 7 d\\u00edas\": \"Promedio m\\u00f3vil \\u00faltimos 7 d\\u00edas\"}, {\"Fecha\": \"2020-05-07\", \"Casos confirmados\": 7, \"Rolling\": 6.571428571428571, \"Casos confirmados diarios\": \"Casos confirmados diarios\", \"Promedio m\\u00f3vil \\u00faltimos 7 d\\u00edas\": \"Promedio m\\u00f3vil \\u00faltimos 7 d\\u00edas\"}, {\"Fecha\": \"2020-05-08\", \"Casos confirmados\": 2, \"Rolling\": 4.285714285714286, \"Casos confirmados diarios\": \"Casos confirmados diarios\", \"Promedio m\\u00f3vil \\u00faltimos 7 d\\u00edas\": \"Promedio m\\u00f3vil \\u00faltimos 7 d\\u00edas\"}, {\"Fecha\": \"2020-05-09\", \"Casos confirmados\": 10, \"Rolling\": 4.285714285714286, \"Casos confirmados diarios\": \"Casos confirmados diarios\", \"Promedio m\\u00f3vil \\u00faltimos 7 d\\u00edas\": \"Promedio m\\u00f3vil \\u00faltimos 7 d\\u00edas\"}, {\"Fecha\": \"2020-05-10\", \"Casos confirmados\": 3, \"Rolling\": 4.571428571428571, \"Casos confirmados diarios\": \"Casos confirmados diarios\", \"Promedio m\\u00f3vil \\u00faltimos 7 d\\u00edas\": \"Promedio m\\u00f3vil \\u00faltimos 7 d\\u00edas\"}, {\"Fecha\": \"2020-05-11\", \"Casos confirmados\": 11, \"Rolling\": 6.142857142857143, \"Casos confirmados diarios\": \"Casos confirmados diarios\", \"Promedio m\\u00f3vil \\u00faltimos 7 d\\u00edas\": \"Promedio m\\u00f3vil \\u00faltimos 7 d\\u00edas\"}, {\"Fecha\": \"2020-05-12\", \"Casos confirmados\": 0, \"Rolling\": 5.142857142857143, \"Casos confirmados diarios\": \"Casos confirmados diarios\", \"Promedio m\\u00f3vil \\u00faltimos 7 d\\u00edas\": \"Promedio m\\u00f3vil \\u00faltimos 7 d\\u00edas\"}, {\"Fecha\": \"2020-05-13\", \"Casos confirmados\": 8, \"Rolling\": 5.857142857142857, \"Casos confirmados diarios\": \"Casos confirmados diarios\", \"Promedio m\\u00f3vil \\u00faltimos 7 d\\u00edas\": \"Promedio m\\u00f3vil \\u00faltimos 7 d\\u00edas\"}]}}, {\"mode\": \"vega-lite\"});\n",
       "</script>"
      ],
      "text/plain": [
       "alt.LayerChart(...)"
      ]
     },
     "execution_count": 9,
     "metadata": {},
     "output_type": "execute_result"
    }
   ],
   "source": [
    "#hide_input\n",
    "bars, line = my_cases_plot(region)\n",
    "(bars + line).properties(\n",
    "    title=f'Covid-19 en Chile: Casos confirmados diarios en {region}',\n",
    "    width=600\n",
    ")"
   ]
  },
  {
   "cell_type": "markdown",
   "metadata": {},
   "source": [
    "## Tarapacá"
   ]
  },
  {
   "cell_type": "code",
   "execution_count": 10,
   "metadata": {},
   "outputs": [],
   "source": [
    "#hide\n",
    "region = \"Tarapacá\""
   ]
  },
  {
   "cell_type": "code",
   "execution_count": 11,
   "metadata": {},
   "outputs": [
    {
     "data": {
      "text/html": [
       "\n",
       "<div id=\"altair-viz-680df3ff34fd466fb6b39ddf8f68c57f\"></div>\n",
       "<script type=\"text/javascript\">\n",
       "  (function(spec, embedOpt){\n",
       "    let outputDiv = document.currentScript.previousElementSibling;\n",
       "    if (outputDiv.id !== \"altair-viz-680df3ff34fd466fb6b39ddf8f68c57f\") {\n",
       "      outputDiv = document.getElementById(\"altair-viz-680df3ff34fd466fb6b39ddf8f68c57f\");\n",
       "    }\n",
       "    const paths = {\n",
       "      \"vega\": \"https://cdn.jsdelivr.net/npm//vega@5?noext\",\n",
       "      \"vega-lib\": \"https://cdn.jsdelivr.net/npm//vega-lib?noext\",\n",
       "      \"vega-lite\": \"https://cdn.jsdelivr.net/npm//vega-lite@4.8.1?noext\",\n",
       "      \"vega-embed\": \"https://cdn.jsdelivr.net/npm//vega-embed@6?noext\",\n",
       "    };\n",
       "\n",
       "    function loadScript(lib) {\n",
       "      return new Promise(function(resolve, reject) {\n",
       "        var s = document.createElement('script');\n",
       "        s.src = paths[lib];\n",
       "        s.async = true;\n",
       "        s.onload = () => resolve(paths[lib]);\n",
       "        s.onerror = () => reject(`Error loading script: ${paths[lib]}`);\n",
       "        document.getElementsByTagName(\"head\")[0].appendChild(s);\n",
       "      });\n",
       "    }\n",
       "\n",
       "    function showError(err) {\n",
       "      outputDiv.innerHTML = `<div class=\"error\" style=\"color:red;\">${err}</div>`;\n",
       "      throw err;\n",
       "    }\n",
       "\n",
       "    function displayChart(vegaEmbed) {\n",
       "      vegaEmbed(outputDiv, spec, embedOpt)\n",
       "        .catch(err => showError(`Javascript Error: ${err.message}<br>This usually means there's a typo in your chart specification. See the javascript console for the full traceback.`));\n",
       "    }\n",
       "\n",
       "    if(typeof define === \"function\" && define.amd) {\n",
       "      requirejs.config({paths});\n",
       "      require([\"vega-embed\"], displayChart, err => showError(`Error loading script: ${err.message}`));\n",
       "    } else if (typeof vegaEmbed === \"function\") {\n",
       "      displayChart(vegaEmbed);\n",
       "    } else {\n",
       "      loadScript(\"vega\")\n",
       "        .then(() => loadScript(\"vega-lite\"))\n",
       "        .then(() => loadScript(\"vega-embed\"))\n",
       "        .catch(showError)\n",
       "        .then(() => displayChart(vegaEmbed));\n",
       "    }\n",
       "  })({\"config\": {\"view\": {\"continuousWidth\": 400, \"continuousHeight\": 300}}, \"layer\": [{\"mark\": {\"type\": \"bar\", \"opacity\": 0.7}, \"encoding\": {\"opacity\": {\"type\": \"nominal\", \"field\": \"Casos confirmados diarios\", \"legend\": {\"title\": \"\"}}, \"tooltip\": [{\"type\": \"nominal\", \"field\": \"Fecha\"}, {\"type\": \"quantitative\", \"field\": \"Casos confirmados\"}], \"x\": {\"type\": \"nominal\", \"axis\": {\"title\": \"Fecha (a\\u00f1o-mes-d\\u00eda)\"}, \"field\": \"Fecha\"}, \"y\": {\"type\": \"quantitative\", \"axis\": {\"title\": \"Casos confirmados diarios\"}, \"field\": \"Casos confirmados\"}}}, {\"mark\": {\"type\": \"line\", \"color\": \"#1f77b4\", \"point\": {\"filled\": true, \"fill\": \"#1f77b4\"}}, \"encoding\": {\"shape\": {\"type\": \"nominal\", \"field\": \"Promedio m\\u00f3vil \\u00faltimos 7 d\\u00edas\", \"legend\": {\"title\": \"\"}}, \"x\": {\"type\": \"nominal\", \"axis\": {\"title\": \"Fecha (a\\u00f1o-mes-d\\u00eda)\"}, \"field\": \"Fecha\"}, \"y\": {\"type\": \"quantitative\", \"field\": \"Rolling\"}}}], \"data\": {\"name\": \"data-55b0457f838090eecbfc21f69fe0c495\"}, \"title\": \"Covid-19 en Chile: Casos confirmados diarios en Tarapac\\u00e1\", \"width\": 600, \"$schema\": \"https://vega.github.io/schema/vega-lite/v4.8.1.json\", \"datasets\": {\"data-55b0457f838090eecbfc21f69fe0c495\": [{\"Fecha\": \"2020-03-04\", \"Casos confirmados\": 0, \"Rolling\": null, \"Casos confirmados diarios\": \"Casos confirmados diarios\", \"Promedio m\\u00f3vil \\u00faltimos 7 d\\u00edas\": \"Promedio m\\u00f3vil \\u00faltimos 7 d\\u00edas\"}, {\"Fecha\": \"2020-03-05\", \"Casos confirmados\": 0, \"Rolling\": null, \"Casos confirmados diarios\": \"Casos confirmados diarios\", \"Promedio m\\u00f3vil \\u00faltimos 7 d\\u00edas\": \"Promedio m\\u00f3vil \\u00faltimos 7 d\\u00edas\"}, {\"Fecha\": \"2020-03-06\", \"Casos confirmados\": 0, \"Rolling\": null, \"Casos confirmados diarios\": \"Casos confirmados diarios\", \"Promedio m\\u00f3vil \\u00faltimos 7 d\\u00edas\": \"Promedio m\\u00f3vil \\u00faltimos 7 d\\u00edas\"}, {\"Fecha\": \"2020-03-07\", \"Casos confirmados\": 0, \"Rolling\": null, \"Casos confirmados diarios\": \"Casos confirmados diarios\", \"Promedio m\\u00f3vil \\u00faltimos 7 d\\u00edas\": \"Promedio m\\u00f3vil \\u00faltimos 7 d\\u00edas\"}, {\"Fecha\": \"2020-03-08\", \"Casos confirmados\": 0, \"Rolling\": null, \"Casos confirmados diarios\": \"Casos confirmados diarios\", \"Promedio m\\u00f3vil \\u00faltimos 7 d\\u00edas\": \"Promedio m\\u00f3vil \\u00faltimos 7 d\\u00edas\"}, {\"Fecha\": \"2020-03-09\", \"Casos confirmados\": 0, \"Rolling\": null, \"Casos confirmados diarios\": \"Casos confirmados diarios\", \"Promedio m\\u00f3vil \\u00faltimos 7 d\\u00edas\": \"Promedio m\\u00f3vil \\u00faltimos 7 d\\u00edas\"}, {\"Fecha\": \"2020-03-10\", \"Casos confirmados\": 0, \"Rolling\": 0.0, \"Casos confirmados diarios\": \"Casos confirmados diarios\", \"Promedio m\\u00f3vil \\u00faltimos 7 d\\u00edas\": \"Promedio m\\u00f3vil \\u00faltimos 7 d\\u00edas\"}, {\"Fecha\": \"2020-03-11\", \"Casos confirmados\": 0, \"Rolling\": 0.0, \"Casos confirmados diarios\": \"Casos confirmados diarios\", \"Promedio m\\u00f3vil \\u00faltimos 7 d\\u00edas\": \"Promedio m\\u00f3vil \\u00faltimos 7 d\\u00edas\"}, {\"Fecha\": \"2020-03-12\", \"Casos confirmados\": 0, \"Rolling\": 0.0, \"Casos confirmados diarios\": \"Casos confirmados diarios\", \"Promedio m\\u00f3vil \\u00faltimos 7 d\\u00edas\": \"Promedio m\\u00f3vil \\u00faltimos 7 d\\u00edas\"}, {\"Fecha\": \"2020-03-13\", \"Casos confirmados\": 0, \"Rolling\": 0.0, \"Casos confirmados diarios\": \"Casos confirmados diarios\", \"Promedio m\\u00f3vil \\u00faltimos 7 d\\u00edas\": \"Promedio m\\u00f3vil \\u00faltimos 7 d\\u00edas\"}, {\"Fecha\": \"2020-03-14\", \"Casos confirmados\": 0, \"Rolling\": 0.0, \"Casos confirmados diarios\": \"Casos confirmados diarios\", \"Promedio m\\u00f3vil \\u00faltimos 7 d\\u00edas\": \"Promedio m\\u00f3vil \\u00faltimos 7 d\\u00edas\"}, {\"Fecha\": \"2020-03-15\", \"Casos confirmados\": 0, \"Rolling\": 0.0, \"Casos confirmados diarios\": \"Casos confirmados diarios\", \"Promedio m\\u00f3vil \\u00faltimos 7 d\\u00edas\": \"Promedio m\\u00f3vil \\u00faltimos 7 d\\u00edas\"}, {\"Fecha\": \"2020-03-16\", \"Casos confirmados\": 0, \"Rolling\": 0.0, \"Casos confirmados diarios\": \"Casos confirmados diarios\", \"Promedio m\\u00f3vil \\u00faltimos 7 d\\u00edas\": \"Promedio m\\u00f3vil \\u00faltimos 7 d\\u00edas\"}, {\"Fecha\": \"2020-03-17\", \"Casos confirmados\": 0, \"Rolling\": 0.0, \"Casos confirmados diarios\": \"Casos confirmados diarios\", \"Promedio m\\u00f3vil \\u00faltimos 7 d\\u00edas\": \"Promedio m\\u00f3vil \\u00faltimos 7 d\\u00edas\"}, {\"Fecha\": \"2020-03-18\", \"Casos confirmados\": 0, \"Rolling\": 0.0, \"Casos confirmados diarios\": \"Casos confirmados diarios\", \"Promedio m\\u00f3vil \\u00faltimos 7 d\\u00edas\": \"Promedio m\\u00f3vil \\u00faltimos 7 d\\u00edas\"}, {\"Fecha\": \"2020-03-19\", \"Casos confirmados\": 0, \"Rolling\": 0.0, \"Casos confirmados diarios\": \"Casos confirmados diarios\", \"Promedio m\\u00f3vil \\u00faltimos 7 d\\u00edas\": \"Promedio m\\u00f3vil \\u00faltimos 7 d\\u00edas\"}, {\"Fecha\": \"2020-03-20\", \"Casos confirmados\": 0, \"Rolling\": 0.0, \"Casos confirmados diarios\": \"Casos confirmados diarios\", \"Promedio m\\u00f3vil \\u00faltimos 7 d\\u00edas\": \"Promedio m\\u00f3vil \\u00faltimos 7 d\\u00edas\"}, {\"Fecha\": \"2020-03-21\", \"Casos confirmados\": 0, \"Rolling\": 0.0, \"Casos confirmados diarios\": \"Casos confirmados diarios\", \"Promedio m\\u00f3vil \\u00faltimos 7 d\\u00edas\": \"Promedio m\\u00f3vil \\u00faltimos 7 d\\u00edas\"}, {\"Fecha\": \"2020-03-22\", \"Casos confirmados\": 0, \"Rolling\": 0.0, \"Casos confirmados diarios\": \"Casos confirmados diarios\", \"Promedio m\\u00f3vil \\u00faltimos 7 d\\u00edas\": \"Promedio m\\u00f3vil \\u00faltimos 7 d\\u00edas\"}, {\"Fecha\": \"2020-03-23\", \"Casos confirmados\": 1, \"Rolling\": 0.14285714285714285, \"Casos confirmados diarios\": \"Casos confirmados diarios\", \"Promedio m\\u00f3vil \\u00faltimos 7 d\\u00edas\": \"Promedio m\\u00f3vil \\u00faltimos 7 d\\u00edas\"}, {\"Fecha\": \"2020-03-24\", \"Casos confirmados\": 3, \"Rolling\": 0.5714285714285714, \"Casos confirmados diarios\": \"Casos confirmados diarios\", \"Promedio m\\u00f3vil \\u00faltimos 7 d\\u00edas\": \"Promedio m\\u00f3vil \\u00faltimos 7 d\\u00edas\"}, {\"Fecha\": \"2020-03-25\", \"Casos confirmados\": 0, \"Rolling\": 0.5714285714285714, \"Casos confirmados diarios\": \"Casos confirmados diarios\", \"Promedio m\\u00f3vil \\u00faltimos 7 d\\u00edas\": \"Promedio m\\u00f3vil \\u00faltimos 7 d\\u00edas\"}, {\"Fecha\": \"2020-03-26\", \"Casos confirmados\": 1, \"Rolling\": 0.7142857142857143, \"Casos confirmados diarios\": \"Casos confirmados diarios\", \"Promedio m\\u00f3vil \\u00faltimos 7 d\\u00edas\": \"Promedio m\\u00f3vil \\u00faltimos 7 d\\u00edas\"}, {\"Fecha\": \"2020-03-27\", \"Casos confirmados\": 0, \"Rolling\": 0.7142857142857143, \"Casos confirmados diarios\": \"Casos confirmados diarios\", \"Promedio m\\u00f3vil \\u00faltimos 7 d\\u00edas\": \"Promedio m\\u00f3vil \\u00faltimos 7 d\\u00edas\"}, {\"Fecha\": \"2020-03-28\", \"Casos confirmados\": 0, \"Rolling\": 0.7142857142857143, \"Casos confirmados diarios\": \"Casos confirmados diarios\", \"Promedio m\\u00f3vil \\u00faltimos 7 d\\u00edas\": \"Promedio m\\u00f3vil \\u00faltimos 7 d\\u00edas\"}, {\"Fecha\": \"2020-03-29\", \"Casos confirmados\": 1, \"Rolling\": 0.8571428571428571, \"Casos confirmados diarios\": \"Casos confirmados diarios\", \"Promedio m\\u00f3vil \\u00faltimos 7 d\\u00edas\": \"Promedio m\\u00f3vil \\u00faltimos 7 d\\u00edas\"}, {\"Fecha\": \"2020-03-30\", \"Casos confirmados\": 2, \"Rolling\": 1.0, \"Casos confirmados diarios\": \"Casos confirmados diarios\", \"Promedio m\\u00f3vil \\u00faltimos 7 d\\u00edas\": \"Promedio m\\u00f3vil \\u00faltimos 7 d\\u00edas\"}, {\"Fecha\": \"2020-03-31\", \"Casos confirmados\": 2, \"Rolling\": 0.8571428571428571, \"Casos confirmados diarios\": \"Casos confirmados diarios\", \"Promedio m\\u00f3vil \\u00faltimos 7 d\\u00edas\": \"Promedio m\\u00f3vil \\u00faltimos 7 d\\u00edas\"}, {\"Fecha\": \"2020-04-01\", \"Casos confirmados\": 0, \"Rolling\": 0.8571428571428571, \"Casos confirmados diarios\": \"Casos confirmados diarios\", \"Promedio m\\u00f3vil \\u00faltimos 7 d\\u00edas\": \"Promedio m\\u00f3vil \\u00faltimos 7 d\\u00edas\"}, {\"Fecha\": \"2020-04-02\", \"Casos confirmados\": 2, \"Rolling\": 1.0, \"Casos confirmados diarios\": \"Casos confirmados diarios\", \"Promedio m\\u00f3vil \\u00faltimos 7 d\\u00edas\": \"Promedio m\\u00f3vil \\u00faltimos 7 d\\u00edas\"}, {\"Fecha\": \"2020-04-03\", \"Casos confirmados\": 1, \"Rolling\": 1.1428571428571428, \"Casos confirmados diarios\": \"Casos confirmados diarios\", \"Promedio m\\u00f3vil \\u00faltimos 7 d\\u00edas\": \"Promedio m\\u00f3vil \\u00faltimos 7 d\\u00edas\"}, {\"Fecha\": \"2020-04-04\", \"Casos confirmados\": 4, \"Rolling\": 1.7142857142857142, \"Casos confirmados diarios\": \"Casos confirmados diarios\", \"Promedio m\\u00f3vil \\u00faltimos 7 d\\u00edas\": \"Promedio m\\u00f3vil \\u00faltimos 7 d\\u00edas\"}, {\"Fecha\": \"2020-04-05\", \"Casos confirmados\": 3, \"Rolling\": 2.0, \"Casos confirmados diarios\": \"Casos confirmados diarios\", \"Promedio m\\u00f3vil \\u00faltimos 7 d\\u00edas\": \"Promedio m\\u00f3vil \\u00faltimos 7 d\\u00edas\"}, {\"Fecha\": \"2020-04-06\", \"Casos confirmados\": 1, \"Rolling\": 1.8571428571428572, \"Casos confirmados diarios\": \"Casos confirmados diarios\", \"Promedio m\\u00f3vil \\u00faltimos 7 d\\u00edas\": \"Promedio m\\u00f3vil \\u00faltimos 7 d\\u00edas\"}, {\"Fecha\": \"2020-04-07\", \"Casos confirmados\": 2, \"Rolling\": 1.8571428571428572, \"Casos confirmados diarios\": \"Casos confirmados diarios\", \"Promedio m\\u00f3vil \\u00faltimos 7 d\\u00edas\": \"Promedio m\\u00f3vil \\u00faltimos 7 d\\u00edas\"}, {\"Fecha\": \"2020-04-08\", \"Casos confirmados\": 3, \"Rolling\": 2.2857142857142856, \"Casos confirmados diarios\": \"Casos confirmados diarios\", \"Promedio m\\u00f3vil \\u00faltimos 7 d\\u00edas\": \"Promedio m\\u00f3vil \\u00faltimos 7 d\\u00edas\"}, {\"Fecha\": \"2020-04-09\", \"Casos confirmados\": 3, \"Rolling\": 2.4285714285714284, \"Casos confirmados diarios\": \"Casos confirmados diarios\", \"Promedio m\\u00f3vil \\u00faltimos 7 d\\u00edas\": \"Promedio m\\u00f3vil \\u00faltimos 7 d\\u00edas\"}, {\"Fecha\": \"2020-04-10\", \"Casos confirmados\": 6, \"Rolling\": 3.142857142857143, \"Casos confirmados diarios\": \"Casos confirmados diarios\", \"Promedio m\\u00f3vil \\u00faltimos 7 d\\u00edas\": \"Promedio m\\u00f3vil \\u00faltimos 7 d\\u00edas\"}, {\"Fecha\": \"2020-04-11\", \"Casos confirmados\": 3, \"Rolling\": 3.0, \"Casos confirmados diarios\": \"Casos confirmados diarios\", \"Promedio m\\u00f3vil \\u00faltimos 7 d\\u00edas\": \"Promedio m\\u00f3vil \\u00faltimos 7 d\\u00edas\"}, {\"Fecha\": \"2020-04-12\", \"Casos confirmados\": 8, \"Rolling\": 3.7142857142857144, \"Casos confirmados diarios\": \"Casos confirmados diarios\", \"Promedio m\\u00f3vil \\u00faltimos 7 d\\u00edas\": \"Promedio m\\u00f3vil \\u00faltimos 7 d\\u00edas\"}, {\"Fecha\": \"2020-04-13\", \"Casos confirmados\": 6, \"Rolling\": 4.428571428571429, \"Casos confirmados diarios\": \"Casos confirmados diarios\", \"Promedio m\\u00f3vil \\u00faltimos 7 d\\u00edas\": \"Promedio m\\u00f3vil \\u00faltimos 7 d\\u00edas\"}, {\"Fecha\": \"2020-04-14\", \"Casos confirmados\": 10, \"Rolling\": 5.571428571428571, \"Casos confirmados diarios\": \"Casos confirmados diarios\", \"Promedio m\\u00f3vil \\u00faltimos 7 d\\u00edas\": \"Promedio m\\u00f3vil \\u00faltimos 7 d\\u00edas\"}, {\"Fecha\": \"2020-04-15\", \"Casos confirmados\": 0, \"Rolling\": 5.142857142857143, \"Casos confirmados diarios\": \"Casos confirmados diarios\", \"Promedio m\\u00f3vil \\u00faltimos 7 d\\u00edas\": \"Promedio m\\u00f3vil \\u00faltimos 7 d\\u00edas\"}, {\"Fecha\": \"2020-04-16\", \"Casos confirmados\": 4, \"Rolling\": 5.285714285714286, \"Casos confirmados diarios\": \"Casos confirmados diarios\", \"Promedio m\\u00f3vil \\u00faltimos 7 d\\u00edas\": \"Promedio m\\u00f3vil \\u00faltimos 7 d\\u00edas\"}, {\"Fecha\": \"2020-04-17\", \"Casos confirmados\": 7, \"Rolling\": 5.428571428571429, \"Casos confirmados diarios\": \"Casos confirmados diarios\", \"Promedio m\\u00f3vil \\u00faltimos 7 d\\u00edas\": \"Promedio m\\u00f3vil \\u00faltimos 7 d\\u00edas\"}, {\"Fecha\": \"2020-04-18\", \"Casos confirmados\": 8, \"Rolling\": 6.142857142857143, \"Casos confirmados diarios\": \"Casos confirmados diarios\", \"Promedio m\\u00f3vil \\u00faltimos 7 d\\u00edas\": \"Promedio m\\u00f3vil \\u00faltimos 7 d\\u00edas\"}, {\"Fecha\": \"2020-04-19\", \"Casos confirmados\": 9, \"Rolling\": 6.285714285714286, \"Casos confirmados diarios\": \"Casos confirmados diarios\", \"Promedio m\\u00f3vil \\u00faltimos 7 d\\u00edas\": \"Promedio m\\u00f3vil \\u00faltimos 7 d\\u00edas\"}, {\"Fecha\": \"2020-04-20\", \"Casos confirmados\": 3, \"Rolling\": 5.857142857142857, \"Casos confirmados diarios\": \"Casos confirmados diarios\", \"Promedio m\\u00f3vil \\u00faltimos 7 d\\u00edas\": \"Promedio m\\u00f3vil \\u00faltimos 7 d\\u00edas\"}, {\"Fecha\": \"2020-04-21\", \"Casos confirmados\": 11, \"Rolling\": 6.0, \"Casos confirmados diarios\": \"Casos confirmados diarios\", \"Promedio m\\u00f3vil \\u00faltimos 7 d\\u00edas\": \"Promedio m\\u00f3vil \\u00faltimos 7 d\\u00edas\"}, {\"Fecha\": \"2020-04-22\", \"Casos confirmados\": 10, \"Rolling\": 7.428571428571429, \"Casos confirmados diarios\": \"Casos confirmados diarios\", \"Promedio m\\u00f3vil \\u00faltimos 7 d\\u00edas\": \"Promedio m\\u00f3vil \\u00faltimos 7 d\\u00edas\"}, {\"Fecha\": \"2020-04-23\", \"Casos confirmados\": 14, \"Rolling\": 8.857142857142858, \"Casos confirmados diarios\": \"Casos confirmados diarios\", \"Promedio m\\u00f3vil \\u00faltimos 7 d\\u00edas\": \"Promedio m\\u00f3vil \\u00faltimos 7 d\\u00edas\"}, {\"Fecha\": \"2020-04-24\", \"Casos confirmados\": 6, \"Rolling\": 8.714285714285714, \"Casos confirmados diarios\": \"Casos confirmados diarios\", \"Promedio m\\u00f3vil \\u00faltimos 7 d\\u00edas\": \"Promedio m\\u00f3vil \\u00faltimos 7 d\\u00edas\"}, {\"Fecha\": \"2020-04-25\", \"Casos confirmados\": 9, \"Rolling\": 8.857142857142858, \"Casos confirmados diarios\": \"Casos confirmados diarios\", \"Promedio m\\u00f3vil \\u00faltimos 7 d\\u00edas\": \"Promedio m\\u00f3vil \\u00faltimos 7 d\\u00edas\"}, {\"Fecha\": \"2020-04-26\", \"Casos confirmados\": 13, \"Rolling\": 9.428571428571429, \"Casos confirmados diarios\": \"Casos confirmados diarios\", \"Promedio m\\u00f3vil \\u00faltimos 7 d\\u00edas\": \"Promedio m\\u00f3vil \\u00faltimos 7 d\\u00edas\"}, {\"Fecha\": \"2020-04-27\", \"Casos confirmados\": 8, \"Rolling\": 10.142857142857142, \"Casos confirmados diarios\": \"Casos confirmados diarios\", \"Promedio m\\u00f3vil \\u00faltimos 7 d\\u00edas\": \"Promedio m\\u00f3vil \\u00faltimos 7 d\\u00edas\"}, {\"Fecha\": \"2020-04-28\", \"Casos confirmados\": 5, \"Rolling\": 9.285714285714286, \"Casos confirmados diarios\": \"Casos confirmados diarios\", \"Promedio m\\u00f3vil \\u00faltimos 7 d\\u00edas\": \"Promedio m\\u00f3vil \\u00faltimos 7 d\\u00edas\"}, {\"Fecha\": \"2020-04-29\", \"Casos confirmados\": 14, \"Rolling\": 9.857142857142858, \"Casos confirmados diarios\": \"Casos confirmados diarios\", \"Promedio m\\u00f3vil \\u00faltimos 7 d\\u00edas\": \"Promedio m\\u00f3vil \\u00faltimos 7 d\\u00edas\"}, {\"Fecha\": \"2020-04-30\", \"Casos confirmados\": 15, \"Rolling\": 10.0, \"Casos confirmados diarios\": \"Casos confirmados diarios\", \"Promedio m\\u00f3vil \\u00faltimos 7 d\\u00edas\": \"Promedio m\\u00f3vil \\u00faltimos 7 d\\u00edas\"}, {\"Fecha\": \"2020-05-01\", \"Casos confirmados\": 2, \"Rolling\": 9.428571428571429, \"Casos confirmados diarios\": \"Casos confirmados diarios\", \"Promedio m\\u00f3vil \\u00faltimos 7 d\\u00edas\": \"Promedio m\\u00f3vil \\u00faltimos 7 d\\u00edas\"}, {\"Fecha\": \"2020-05-02\", \"Casos confirmados\": 12, \"Rolling\": 9.857142857142858, \"Casos confirmados diarios\": \"Casos confirmados diarios\", \"Promedio m\\u00f3vil \\u00faltimos 7 d\\u00edas\": \"Promedio m\\u00f3vil \\u00faltimos 7 d\\u00edas\"}, {\"Fecha\": \"2020-05-03\", \"Casos confirmados\": 60, \"Rolling\": 16.571428571428573, \"Casos confirmados diarios\": \"Casos confirmados diarios\", \"Promedio m\\u00f3vil \\u00faltimos 7 d\\u00edas\": \"Promedio m\\u00f3vil \\u00faltimos 7 d\\u00edas\"}, {\"Fecha\": \"2020-05-04\", \"Casos confirmados\": 23, \"Rolling\": 18.714285714285715, \"Casos confirmados diarios\": \"Casos confirmados diarios\", \"Promedio m\\u00f3vil \\u00faltimos 7 d\\u00edas\": \"Promedio m\\u00f3vil \\u00faltimos 7 d\\u00edas\"}, {\"Fecha\": \"2020-05-05\", \"Casos confirmados\": 27, \"Rolling\": 21.857142857142858, \"Casos confirmados diarios\": \"Casos confirmados diarios\", \"Promedio m\\u00f3vil \\u00faltimos 7 d\\u00edas\": \"Promedio m\\u00f3vil \\u00faltimos 7 d\\u00edas\"}, {\"Fecha\": \"2020-05-06\", \"Casos confirmados\": 17, \"Rolling\": 22.285714285714285, \"Casos confirmados diarios\": \"Casos confirmados diarios\", \"Promedio m\\u00f3vil \\u00faltimos 7 d\\u00edas\": \"Promedio m\\u00f3vil \\u00faltimos 7 d\\u00edas\"}, {\"Fecha\": \"2020-05-07\", \"Casos confirmados\": 78, \"Rolling\": 31.285714285714285, \"Casos confirmados diarios\": \"Casos confirmados diarios\", \"Promedio m\\u00f3vil \\u00faltimos 7 d\\u00edas\": \"Promedio m\\u00f3vil \\u00faltimos 7 d\\u00edas\"}, {\"Fecha\": \"2020-05-08\", \"Casos confirmados\": 42, \"Rolling\": 37.0, \"Casos confirmados diarios\": \"Casos confirmados diarios\", \"Promedio m\\u00f3vil \\u00faltimos 7 d\\u00edas\": \"Promedio m\\u00f3vil \\u00faltimos 7 d\\u00edas\"}, {\"Fecha\": \"2020-05-09\", \"Casos confirmados\": 26, \"Rolling\": 39.0, \"Casos confirmados diarios\": \"Casos confirmados diarios\", \"Promedio m\\u00f3vil \\u00faltimos 7 d\\u00edas\": \"Promedio m\\u00f3vil \\u00faltimos 7 d\\u00edas\"}, {\"Fecha\": \"2020-05-10\", \"Casos confirmados\": 35, \"Rolling\": 35.42857142857143, \"Casos confirmados diarios\": \"Casos confirmados diarios\", \"Promedio m\\u00f3vil \\u00faltimos 7 d\\u00edas\": \"Promedio m\\u00f3vil \\u00faltimos 7 d\\u00edas\"}, {\"Fecha\": \"2020-05-11\", \"Casos confirmados\": 27, \"Rolling\": 36.0, \"Casos confirmados diarios\": \"Casos confirmados diarios\", \"Promedio m\\u00f3vil \\u00faltimos 7 d\\u00edas\": \"Promedio m\\u00f3vil \\u00faltimos 7 d\\u00edas\"}, {\"Fecha\": \"2020-05-12\", \"Casos confirmados\": 31, \"Rolling\": 36.57142857142857, \"Casos confirmados diarios\": \"Casos confirmados diarios\", \"Promedio m\\u00f3vil \\u00faltimos 7 d\\u00edas\": \"Promedio m\\u00f3vil \\u00faltimos 7 d\\u00edas\"}, {\"Fecha\": \"2020-05-13\", \"Casos confirmados\": 37, \"Rolling\": 39.42857142857143, \"Casos confirmados diarios\": \"Casos confirmados diarios\", \"Promedio m\\u00f3vil \\u00faltimos 7 d\\u00edas\": \"Promedio m\\u00f3vil \\u00faltimos 7 d\\u00edas\"}]}}, {\"mode\": \"vega-lite\"});\n",
       "</script>"
      ],
      "text/plain": [
       "alt.LayerChart(...)"
      ]
     },
     "execution_count": 11,
     "metadata": {},
     "output_type": "execute_result"
    }
   ],
   "source": [
    "#hide_input\n",
    "bars, line = my_cases_plot(region)\n",
    "(bars + line).properties(\n",
    "    title=f'Covid-19 en Chile: Casos confirmados diarios en {region}',\n",
    "    width=600\n",
    ")"
   ]
  },
  {
   "cell_type": "markdown",
   "metadata": {},
   "source": [
    "## Antofagasta"
   ]
  },
  {
   "cell_type": "code",
   "execution_count": 12,
   "metadata": {},
   "outputs": [],
   "source": [
    "#hide\n",
    "region = \"Antofagasta\""
   ]
  },
  {
   "cell_type": "code",
   "execution_count": 13,
   "metadata": {},
   "outputs": [
    {
     "data": {
      "text/html": [
       "\n",
       "<div id=\"altair-viz-4022172e064841f194f2919d3cdfbc88\"></div>\n",
       "<script type=\"text/javascript\">\n",
       "  (function(spec, embedOpt){\n",
       "    let outputDiv = document.currentScript.previousElementSibling;\n",
       "    if (outputDiv.id !== \"altair-viz-4022172e064841f194f2919d3cdfbc88\") {\n",
       "      outputDiv = document.getElementById(\"altair-viz-4022172e064841f194f2919d3cdfbc88\");\n",
       "    }\n",
       "    const paths = {\n",
       "      \"vega\": \"https://cdn.jsdelivr.net/npm//vega@5?noext\",\n",
       "      \"vega-lib\": \"https://cdn.jsdelivr.net/npm//vega-lib?noext\",\n",
       "      \"vega-lite\": \"https://cdn.jsdelivr.net/npm//vega-lite@4.8.1?noext\",\n",
       "      \"vega-embed\": \"https://cdn.jsdelivr.net/npm//vega-embed@6?noext\",\n",
       "    };\n",
       "\n",
       "    function loadScript(lib) {\n",
       "      return new Promise(function(resolve, reject) {\n",
       "        var s = document.createElement('script');\n",
       "        s.src = paths[lib];\n",
       "        s.async = true;\n",
       "        s.onload = () => resolve(paths[lib]);\n",
       "        s.onerror = () => reject(`Error loading script: ${paths[lib]}`);\n",
       "        document.getElementsByTagName(\"head\")[0].appendChild(s);\n",
       "      });\n",
       "    }\n",
       "\n",
       "    function showError(err) {\n",
       "      outputDiv.innerHTML = `<div class=\"error\" style=\"color:red;\">${err}</div>`;\n",
       "      throw err;\n",
       "    }\n",
       "\n",
       "    function displayChart(vegaEmbed) {\n",
       "      vegaEmbed(outputDiv, spec, embedOpt)\n",
       "        .catch(err => showError(`Javascript Error: ${err.message}<br>This usually means there's a typo in your chart specification. See the javascript console for the full traceback.`));\n",
       "    }\n",
       "\n",
       "    if(typeof define === \"function\" && define.amd) {\n",
       "      requirejs.config({paths});\n",
       "      require([\"vega-embed\"], displayChart, err => showError(`Error loading script: ${err.message}`));\n",
       "    } else if (typeof vegaEmbed === \"function\") {\n",
       "      displayChart(vegaEmbed);\n",
       "    } else {\n",
       "      loadScript(\"vega\")\n",
       "        .then(() => loadScript(\"vega-lite\"))\n",
       "        .then(() => loadScript(\"vega-embed\"))\n",
       "        .catch(showError)\n",
       "        .then(() => displayChart(vegaEmbed));\n",
       "    }\n",
       "  })({\"config\": {\"view\": {\"continuousWidth\": 400, \"continuousHeight\": 300}}, \"layer\": [{\"mark\": {\"type\": \"bar\", \"opacity\": 0.7}, \"encoding\": {\"opacity\": {\"type\": \"nominal\", \"field\": \"Casos confirmados diarios\", \"legend\": {\"title\": \"\"}}, \"tooltip\": [{\"type\": \"nominal\", \"field\": \"Fecha\"}, {\"type\": \"quantitative\", \"field\": \"Casos confirmados\"}], \"x\": {\"type\": \"nominal\", \"axis\": {\"title\": \"Fecha (a\\u00f1o-mes-d\\u00eda)\"}, \"field\": \"Fecha\"}, \"y\": {\"type\": \"quantitative\", \"axis\": {\"title\": \"Casos confirmados diarios\"}, \"field\": \"Casos confirmados\"}}}, {\"mark\": {\"type\": \"line\", \"color\": \"#1f77b4\", \"point\": {\"filled\": true, \"fill\": \"#1f77b4\"}}, \"encoding\": {\"shape\": {\"type\": \"nominal\", \"field\": \"Promedio m\\u00f3vil \\u00faltimos 7 d\\u00edas\", \"legend\": {\"title\": \"\"}}, \"x\": {\"type\": \"nominal\", \"axis\": {\"title\": \"Fecha (a\\u00f1o-mes-d\\u00eda)\"}, \"field\": \"Fecha\"}, \"y\": {\"type\": \"quantitative\", \"field\": \"Rolling\"}}}], \"data\": {\"name\": \"data-9ba8c969d4520b6accb70f3753797afc\"}, \"title\": \"Covid-19 en Chile: Casos confirmados diarios en Antofagasta\", \"width\": 600, \"$schema\": \"https://vega.github.io/schema/vega-lite/v4.8.1.json\", \"datasets\": {\"data-9ba8c969d4520b6accb70f3753797afc\": [{\"Fecha\": \"2020-03-04\", \"Casos confirmados\": 0, \"Rolling\": null, \"Casos confirmados diarios\": \"Casos confirmados diarios\", \"Promedio m\\u00f3vil \\u00faltimos 7 d\\u00edas\": \"Promedio m\\u00f3vil \\u00faltimos 7 d\\u00edas\"}, {\"Fecha\": \"2020-03-05\", \"Casos confirmados\": 0, \"Rolling\": null, \"Casos confirmados diarios\": \"Casos confirmados diarios\", \"Promedio m\\u00f3vil \\u00faltimos 7 d\\u00edas\": \"Promedio m\\u00f3vil \\u00faltimos 7 d\\u00edas\"}, {\"Fecha\": \"2020-03-06\", \"Casos confirmados\": 0, \"Rolling\": null, \"Casos confirmados diarios\": \"Casos confirmados diarios\", \"Promedio m\\u00f3vil \\u00faltimos 7 d\\u00edas\": \"Promedio m\\u00f3vil \\u00faltimos 7 d\\u00edas\"}, {\"Fecha\": \"2020-03-07\", \"Casos confirmados\": 0, \"Rolling\": null, \"Casos confirmados diarios\": \"Casos confirmados diarios\", \"Promedio m\\u00f3vil \\u00faltimos 7 d\\u00edas\": \"Promedio m\\u00f3vil \\u00faltimos 7 d\\u00edas\"}, {\"Fecha\": \"2020-03-08\", \"Casos confirmados\": 0, \"Rolling\": null, \"Casos confirmados diarios\": \"Casos confirmados diarios\", \"Promedio m\\u00f3vil \\u00faltimos 7 d\\u00edas\": \"Promedio m\\u00f3vil \\u00faltimos 7 d\\u00edas\"}, {\"Fecha\": \"2020-03-09\", \"Casos confirmados\": 0, \"Rolling\": null, \"Casos confirmados diarios\": \"Casos confirmados diarios\", \"Promedio m\\u00f3vil \\u00faltimos 7 d\\u00edas\": \"Promedio m\\u00f3vil \\u00faltimos 7 d\\u00edas\"}, {\"Fecha\": \"2020-03-10\", \"Casos confirmados\": 0, \"Rolling\": 0.0, \"Casos confirmados diarios\": \"Casos confirmados diarios\", \"Promedio m\\u00f3vil \\u00faltimos 7 d\\u00edas\": \"Promedio m\\u00f3vil \\u00faltimos 7 d\\u00edas\"}, {\"Fecha\": \"2020-03-11\", \"Casos confirmados\": 0, \"Rolling\": 0.0, \"Casos confirmados diarios\": \"Casos confirmados diarios\", \"Promedio m\\u00f3vil \\u00faltimos 7 d\\u00edas\": \"Promedio m\\u00f3vil \\u00faltimos 7 d\\u00edas\"}, {\"Fecha\": \"2020-03-12\", \"Casos confirmados\": 0, \"Rolling\": 0.0, \"Casos confirmados diarios\": \"Casos confirmados diarios\", \"Promedio m\\u00f3vil \\u00faltimos 7 d\\u00edas\": \"Promedio m\\u00f3vil \\u00faltimos 7 d\\u00edas\"}, {\"Fecha\": \"2020-03-13\", \"Casos confirmados\": 0, \"Rolling\": 0.0, \"Casos confirmados diarios\": \"Casos confirmados diarios\", \"Promedio m\\u00f3vil \\u00faltimos 7 d\\u00edas\": \"Promedio m\\u00f3vil \\u00faltimos 7 d\\u00edas\"}, {\"Fecha\": \"2020-03-14\", \"Casos confirmados\": 2, \"Rolling\": 0.2857142857142857, \"Casos confirmados diarios\": \"Casos confirmados diarios\", \"Promedio m\\u00f3vil \\u00faltimos 7 d\\u00edas\": \"Promedio m\\u00f3vil \\u00faltimos 7 d\\u00edas\"}, {\"Fecha\": \"2020-03-15\", \"Casos confirmados\": 0, \"Rolling\": 0.2857142857142857, \"Casos confirmados diarios\": \"Casos confirmados diarios\", \"Promedio m\\u00f3vil \\u00faltimos 7 d\\u00edas\": \"Promedio m\\u00f3vil \\u00faltimos 7 d\\u00edas\"}, {\"Fecha\": \"2020-03-16\", \"Casos confirmados\": 0, \"Rolling\": 0.2857142857142857, \"Casos confirmados diarios\": \"Casos confirmados diarios\", \"Promedio m\\u00f3vil \\u00faltimos 7 d\\u00edas\": \"Promedio m\\u00f3vil \\u00faltimos 7 d\\u00edas\"}, {\"Fecha\": \"2020-03-17\", \"Casos confirmados\": 0, \"Rolling\": 0.2857142857142857, \"Casos confirmados diarios\": \"Casos confirmados diarios\", \"Promedio m\\u00f3vil \\u00faltimos 7 d\\u00edas\": \"Promedio m\\u00f3vil \\u00faltimos 7 d\\u00edas\"}, {\"Fecha\": \"2020-03-18\", \"Casos confirmados\": 0, \"Rolling\": 0.2857142857142857, \"Casos confirmados diarios\": \"Casos confirmados diarios\", \"Promedio m\\u00f3vil \\u00faltimos 7 d\\u00edas\": \"Promedio m\\u00f3vil \\u00faltimos 7 d\\u00edas\"}, {\"Fecha\": \"2020-03-19\", \"Casos confirmados\": 0, \"Rolling\": 0.2857142857142857, \"Casos confirmados diarios\": \"Casos confirmados diarios\", \"Promedio m\\u00f3vil \\u00faltimos 7 d\\u00edas\": \"Promedio m\\u00f3vil \\u00faltimos 7 d\\u00edas\"}, {\"Fecha\": \"2020-03-20\", \"Casos confirmados\": 4, \"Rolling\": 0.8571428571428571, \"Casos confirmados diarios\": \"Casos confirmados diarios\", \"Promedio m\\u00f3vil \\u00faltimos 7 d\\u00edas\": \"Promedio m\\u00f3vil \\u00faltimos 7 d\\u00edas\"}, {\"Fecha\": \"2020-03-21\", \"Casos confirmados\": 4, \"Rolling\": 1.1428571428571428, \"Casos confirmados diarios\": \"Casos confirmados diarios\", \"Promedio m\\u00f3vil \\u00faltimos 7 d\\u00edas\": \"Promedio m\\u00f3vil \\u00faltimos 7 d\\u00edas\"}, {\"Fecha\": \"2020-03-22\", \"Casos confirmados\": 1, \"Rolling\": 1.2857142857142858, \"Casos confirmados diarios\": \"Casos confirmados diarios\", \"Promedio m\\u00f3vil \\u00faltimos 7 d\\u00edas\": \"Promedio m\\u00f3vil \\u00faltimos 7 d\\u00edas\"}, {\"Fecha\": \"2020-03-23\", \"Casos confirmados\": 0, \"Rolling\": 1.2857142857142858, \"Casos confirmados diarios\": \"Casos confirmados diarios\", \"Promedio m\\u00f3vil \\u00faltimos 7 d\\u00edas\": \"Promedio m\\u00f3vil \\u00faltimos 7 d\\u00edas\"}, {\"Fecha\": \"2020-03-24\", \"Casos confirmados\": 2, \"Rolling\": 1.5714285714285714, \"Casos confirmados diarios\": \"Casos confirmados diarios\", \"Promedio m\\u00f3vil \\u00faltimos 7 d\\u00edas\": \"Promedio m\\u00f3vil \\u00faltimos 7 d\\u00edas\"}, {\"Fecha\": \"2020-03-25\", \"Casos confirmados\": 6, \"Rolling\": 2.4285714285714284, \"Casos confirmados diarios\": \"Casos confirmados diarios\", \"Promedio m\\u00f3vil \\u00faltimos 7 d\\u00edas\": \"Promedio m\\u00f3vil \\u00faltimos 7 d\\u00edas\"}, {\"Fecha\": \"2020-03-26\", \"Casos confirmados\": 1, \"Rolling\": 2.5714285714285716, \"Casos confirmados diarios\": \"Casos confirmados diarios\", \"Promedio m\\u00f3vil \\u00faltimos 7 d\\u00edas\": \"Promedio m\\u00f3vil \\u00faltimos 7 d\\u00edas\"}, {\"Fecha\": \"2020-03-27\", \"Casos confirmados\": 1, \"Rolling\": 2.142857142857143, \"Casos confirmados diarios\": \"Casos confirmados diarios\", \"Promedio m\\u00f3vil \\u00faltimos 7 d\\u00edas\": \"Promedio m\\u00f3vil \\u00faltimos 7 d\\u00edas\"}, {\"Fecha\": \"2020-03-28\", \"Casos confirmados\": 4, \"Rolling\": 2.142857142857143, \"Casos confirmados diarios\": \"Casos confirmados diarios\", \"Promedio m\\u00f3vil \\u00faltimos 7 d\\u00edas\": \"Promedio m\\u00f3vil \\u00faltimos 7 d\\u00edas\"}, {\"Fecha\": \"2020-03-29\", \"Casos confirmados\": 2, \"Rolling\": 2.2857142857142856, \"Casos confirmados diarios\": \"Casos confirmados diarios\", \"Promedio m\\u00f3vil \\u00faltimos 7 d\\u00edas\": \"Promedio m\\u00f3vil \\u00faltimos 7 d\\u00edas\"}, {\"Fecha\": \"2020-03-30\", \"Casos confirmados\": 8, \"Rolling\": 3.4285714285714284, \"Casos confirmados diarios\": \"Casos confirmados diarios\", \"Promedio m\\u00f3vil \\u00faltimos 7 d\\u00edas\": \"Promedio m\\u00f3vil \\u00faltimos 7 d\\u00edas\"}, {\"Fecha\": \"2020-03-31\", \"Casos confirmados\": 0, \"Rolling\": 3.142857142857143, \"Casos confirmados diarios\": \"Casos confirmados diarios\", \"Promedio m\\u00f3vil \\u00faltimos 7 d\\u00edas\": \"Promedio m\\u00f3vil \\u00faltimos 7 d\\u00edas\"}, {\"Fecha\": \"2020-04-01\", \"Casos confirmados\": 4, \"Rolling\": 2.857142857142857, \"Casos confirmados diarios\": \"Casos confirmados diarios\", \"Promedio m\\u00f3vil \\u00faltimos 7 d\\u00edas\": \"Promedio m\\u00f3vil \\u00faltimos 7 d\\u00edas\"}, {\"Fecha\": \"2020-04-02\", \"Casos confirmados\": 8, \"Rolling\": 3.857142857142857, \"Casos confirmados diarios\": \"Casos confirmados diarios\", \"Promedio m\\u00f3vil \\u00faltimos 7 d\\u00edas\": \"Promedio m\\u00f3vil \\u00faltimos 7 d\\u00edas\"}, {\"Fecha\": \"2020-04-03\", \"Casos confirmados\": 7, \"Rolling\": 4.714285714285714, \"Casos confirmados diarios\": \"Casos confirmados diarios\", \"Promedio m\\u00f3vil \\u00faltimos 7 d\\u00edas\": \"Promedio m\\u00f3vil \\u00faltimos 7 d\\u00edas\"}, {\"Fecha\": \"2020-04-04\", \"Casos confirmados\": 1, \"Rolling\": 4.285714285714286, \"Casos confirmados diarios\": \"Casos confirmados diarios\", \"Promedio m\\u00f3vil \\u00faltimos 7 d\\u00edas\": \"Promedio m\\u00f3vil \\u00faltimos 7 d\\u00edas\"}, {\"Fecha\": \"2020-04-05\", \"Casos confirmados\": 5, \"Rolling\": 4.714285714285714, \"Casos confirmados diarios\": \"Casos confirmados diarios\", \"Promedio m\\u00f3vil \\u00faltimos 7 d\\u00edas\": \"Promedio m\\u00f3vil \\u00faltimos 7 d\\u00edas\"}, {\"Fecha\": \"2020-04-06\", \"Casos confirmados\": 8, \"Rolling\": 4.714285714285714, \"Casos confirmados diarios\": \"Casos confirmados diarios\", \"Promedio m\\u00f3vil \\u00faltimos 7 d\\u00edas\": \"Promedio m\\u00f3vil \\u00faltimos 7 d\\u00edas\"}, {\"Fecha\": \"2020-04-07\", \"Casos confirmados\": 1, \"Rolling\": 4.857142857142857, \"Casos confirmados diarios\": \"Casos confirmados diarios\", \"Promedio m\\u00f3vil \\u00faltimos 7 d\\u00edas\": \"Promedio m\\u00f3vil \\u00faltimos 7 d\\u00edas\"}, {\"Fecha\": \"2020-04-08\", \"Casos confirmados\": 8, \"Rolling\": 5.428571428571429, \"Casos confirmados diarios\": \"Casos confirmados diarios\", \"Promedio m\\u00f3vil \\u00faltimos 7 d\\u00edas\": \"Promedio m\\u00f3vil \\u00faltimos 7 d\\u00edas\"}, {\"Fecha\": \"2020-04-09\", \"Casos confirmados\": 15, \"Rolling\": 6.428571428571429, \"Casos confirmados diarios\": \"Casos confirmados diarios\", \"Promedio m\\u00f3vil \\u00faltimos 7 d\\u00edas\": \"Promedio m\\u00f3vil \\u00faltimos 7 d\\u00edas\"}, {\"Fecha\": \"2020-04-10\", \"Casos confirmados\": 18, \"Rolling\": 8.0, \"Casos confirmados diarios\": \"Casos confirmados diarios\", \"Promedio m\\u00f3vil \\u00faltimos 7 d\\u00edas\": \"Promedio m\\u00f3vil \\u00faltimos 7 d\\u00edas\"}, {\"Fecha\": \"2020-04-11\", \"Casos confirmados\": 7, \"Rolling\": 8.857142857142858, \"Casos confirmados diarios\": \"Casos confirmados diarios\", \"Promedio m\\u00f3vil \\u00faltimos 7 d\\u00edas\": \"Promedio m\\u00f3vil \\u00faltimos 7 d\\u00edas\"}, {\"Fecha\": \"2020-04-12\", \"Casos confirmados\": 21, \"Rolling\": 11.142857142857142, \"Casos confirmados diarios\": \"Casos confirmados diarios\", \"Promedio m\\u00f3vil \\u00faltimos 7 d\\u00edas\": \"Promedio m\\u00f3vil \\u00faltimos 7 d\\u00edas\"}, {\"Fecha\": \"2020-04-13\", \"Casos confirmados\": 11, \"Rolling\": 11.571428571428571, \"Casos confirmados diarios\": \"Casos confirmados diarios\", \"Promedio m\\u00f3vil \\u00faltimos 7 d\\u00edas\": \"Promedio m\\u00f3vil \\u00faltimos 7 d\\u00edas\"}, {\"Fecha\": \"2020-04-14\", \"Casos confirmados\": 6, \"Rolling\": 12.285714285714286, \"Casos confirmados diarios\": \"Casos confirmados diarios\", \"Promedio m\\u00f3vil \\u00faltimos 7 d\\u00edas\": \"Promedio m\\u00f3vil \\u00faltimos 7 d\\u00edas\"}, {\"Fecha\": \"2020-04-15\", \"Casos confirmados\": 21, \"Rolling\": 14.142857142857142, \"Casos confirmados diarios\": \"Casos confirmados diarios\", \"Promedio m\\u00f3vil \\u00faltimos 7 d\\u00edas\": \"Promedio m\\u00f3vil \\u00faltimos 7 d\\u00edas\"}, {\"Fecha\": \"2020-04-16\", \"Casos confirmados\": 16, \"Rolling\": 14.285714285714286, \"Casos confirmados diarios\": \"Casos confirmados diarios\", \"Promedio m\\u00f3vil \\u00faltimos 7 d\\u00edas\": \"Promedio m\\u00f3vil \\u00faltimos 7 d\\u00edas\"}, {\"Fecha\": \"2020-04-17\", \"Casos confirmados\": 19, \"Rolling\": 14.428571428571429, \"Casos confirmados diarios\": \"Casos confirmados diarios\", \"Promedio m\\u00f3vil \\u00faltimos 7 d\\u00edas\": \"Promedio m\\u00f3vil \\u00faltimos 7 d\\u00edas\"}, {\"Fecha\": \"2020-04-18\", \"Casos confirmados\": 15, \"Rolling\": 15.571428571428571, \"Casos confirmados diarios\": \"Casos confirmados diarios\", \"Promedio m\\u00f3vil \\u00faltimos 7 d\\u00edas\": \"Promedio m\\u00f3vil \\u00faltimos 7 d\\u00edas\"}, {\"Fecha\": \"2020-04-19\", \"Casos confirmados\": 23, \"Rolling\": 15.857142857142858, \"Casos confirmados diarios\": \"Casos confirmados diarios\", \"Promedio m\\u00f3vil \\u00faltimos 7 d\\u00edas\": \"Promedio m\\u00f3vil \\u00faltimos 7 d\\u00edas\"}, {\"Fecha\": \"2020-04-20\", \"Casos confirmados\": 14, \"Rolling\": 16.285714285714285, \"Casos confirmados diarios\": \"Casos confirmados diarios\", \"Promedio m\\u00f3vil \\u00faltimos 7 d\\u00edas\": \"Promedio m\\u00f3vil \\u00faltimos 7 d\\u00edas\"}, {\"Fecha\": \"2020-04-21\", \"Casos confirmados\": 28, \"Rolling\": 19.428571428571427, \"Casos confirmados diarios\": \"Casos confirmados diarios\", \"Promedio m\\u00f3vil \\u00faltimos 7 d\\u00edas\": \"Promedio m\\u00f3vil \\u00faltimos 7 d\\u00edas\"}, {\"Fecha\": \"2020-04-22\", \"Casos confirmados\": 35, \"Rolling\": 21.428571428571427, \"Casos confirmados diarios\": \"Casos confirmados diarios\", \"Promedio m\\u00f3vil \\u00faltimos 7 d\\u00edas\": \"Promedio m\\u00f3vil \\u00faltimos 7 d\\u00edas\"}, {\"Fecha\": \"2020-04-23\", \"Casos confirmados\": 14, \"Rolling\": 21.142857142857142, \"Casos confirmados diarios\": \"Casos confirmados diarios\", \"Promedio m\\u00f3vil \\u00faltimos 7 d\\u00edas\": \"Promedio m\\u00f3vil \\u00faltimos 7 d\\u00edas\"}, {\"Fecha\": \"2020-04-24\", \"Casos confirmados\": 26, \"Rolling\": 22.142857142857142, \"Casos confirmados diarios\": \"Casos confirmados diarios\", \"Promedio m\\u00f3vil \\u00faltimos 7 d\\u00edas\": \"Promedio m\\u00f3vil \\u00faltimos 7 d\\u00edas\"}, {\"Fecha\": \"2020-04-25\", \"Casos confirmados\": 25, \"Rolling\": 23.571428571428573, \"Casos confirmados diarios\": \"Casos confirmados diarios\", \"Promedio m\\u00f3vil \\u00faltimos 7 d\\u00edas\": \"Promedio m\\u00f3vil \\u00faltimos 7 d\\u00edas\"}, {\"Fecha\": \"2020-04-26\", \"Casos confirmados\": 52, \"Rolling\": 27.714285714285715, \"Casos confirmados diarios\": \"Casos confirmados diarios\", \"Promedio m\\u00f3vil \\u00faltimos 7 d\\u00edas\": \"Promedio m\\u00f3vil \\u00faltimos 7 d\\u00edas\"}, {\"Fecha\": \"2020-04-27\", \"Casos confirmados\": 14, \"Rolling\": 27.714285714285715, \"Casos confirmados diarios\": \"Casos confirmados diarios\", \"Promedio m\\u00f3vil \\u00faltimos 7 d\\u00edas\": \"Promedio m\\u00f3vil \\u00faltimos 7 d\\u00edas\"}, {\"Fecha\": \"2020-04-28\", \"Casos confirmados\": 24, \"Rolling\": 27.142857142857142, \"Casos confirmados diarios\": \"Casos confirmados diarios\", \"Promedio m\\u00f3vil \\u00faltimos 7 d\\u00edas\": \"Promedio m\\u00f3vil \\u00faltimos 7 d\\u00edas\"}, {\"Fecha\": \"2020-04-29\", \"Casos confirmados\": 33, \"Rolling\": 26.857142857142858, \"Casos confirmados diarios\": \"Casos confirmados diarios\", \"Promedio m\\u00f3vil \\u00faltimos 7 d\\u00edas\": \"Promedio m\\u00f3vil \\u00faltimos 7 d\\u00edas\"}, {\"Fecha\": \"2020-04-30\", \"Casos confirmados\": 32, \"Rolling\": 29.428571428571427, \"Casos confirmados diarios\": \"Casos confirmados diarios\", \"Promedio m\\u00f3vil \\u00faltimos 7 d\\u00edas\": \"Promedio m\\u00f3vil \\u00faltimos 7 d\\u00edas\"}, {\"Fecha\": \"2020-05-01\", \"Casos confirmados\": 43, \"Rolling\": 31.857142857142858, \"Casos confirmados diarios\": \"Casos confirmados diarios\", \"Promedio m\\u00f3vil \\u00faltimos 7 d\\u00edas\": \"Promedio m\\u00f3vil \\u00faltimos 7 d\\u00edas\"}, {\"Fecha\": \"2020-05-02\", \"Casos confirmados\": 90, \"Rolling\": 41.142857142857146, \"Casos confirmados diarios\": \"Casos confirmados diarios\", \"Promedio m\\u00f3vil \\u00faltimos 7 d\\u00edas\": \"Promedio m\\u00f3vil \\u00faltimos 7 d\\u00edas\"}, {\"Fecha\": \"2020-05-03\", \"Casos confirmados\": 61, \"Rolling\": 42.42857142857143, \"Casos confirmados diarios\": \"Casos confirmados diarios\", \"Promedio m\\u00f3vil \\u00faltimos 7 d\\u00edas\": \"Promedio m\\u00f3vil \\u00faltimos 7 d\\u00edas\"}, {\"Fecha\": \"2020-05-04\", \"Casos confirmados\": 20, \"Rolling\": 43.285714285714285, \"Casos confirmados diarios\": \"Casos confirmados diarios\", \"Promedio m\\u00f3vil \\u00faltimos 7 d\\u00edas\": \"Promedio m\\u00f3vil \\u00faltimos 7 d\\u00edas\"}, {\"Fecha\": \"2020-05-05\", \"Casos confirmados\": 51, \"Rolling\": 47.142857142857146, \"Casos confirmados diarios\": \"Casos confirmados diarios\", \"Promedio m\\u00f3vil \\u00faltimos 7 d\\u00edas\": \"Promedio m\\u00f3vil \\u00faltimos 7 d\\u00edas\"}, {\"Fecha\": \"2020-05-06\", \"Casos confirmados\": 44, \"Rolling\": 48.714285714285715, \"Casos confirmados diarios\": \"Casos confirmados diarios\", \"Promedio m\\u00f3vil \\u00faltimos 7 d\\u00edas\": \"Promedio m\\u00f3vil \\u00faltimos 7 d\\u00edas\"}, {\"Fecha\": \"2020-05-07\", \"Casos confirmados\": 40, \"Rolling\": 49.857142857142854, \"Casos confirmados diarios\": \"Casos confirmados diarios\", \"Promedio m\\u00f3vil \\u00faltimos 7 d\\u00edas\": \"Promedio m\\u00f3vil \\u00faltimos 7 d\\u00edas\"}, {\"Fecha\": \"2020-05-08\", \"Casos confirmados\": 28, \"Rolling\": 47.714285714285715, \"Casos confirmados diarios\": \"Casos confirmados diarios\", \"Promedio m\\u00f3vil \\u00faltimos 7 d\\u00edas\": \"Promedio m\\u00f3vil \\u00faltimos 7 d\\u00edas\"}, {\"Fecha\": \"2020-05-09\", \"Casos confirmados\": 24, \"Rolling\": 38.285714285714285, \"Casos confirmados diarios\": \"Casos confirmados diarios\", \"Promedio m\\u00f3vil \\u00faltimos 7 d\\u00edas\": \"Promedio m\\u00f3vil \\u00faltimos 7 d\\u00edas\"}, {\"Fecha\": \"2020-05-10\", \"Casos confirmados\": 31, \"Rolling\": 34.0, \"Casos confirmados diarios\": \"Casos confirmados diarios\", \"Promedio m\\u00f3vil \\u00faltimos 7 d\\u00edas\": \"Promedio m\\u00f3vil \\u00faltimos 7 d\\u00edas\"}, {\"Fecha\": \"2020-05-11\", \"Casos confirmados\": 36, \"Rolling\": 36.285714285714285, \"Casos confirmados diarios\": \"Casos confirmados diarios\", \"Promedio m\\u00f3vil \\u00faltimos 7 d\\u00edas\": \"Promedio m\\u00f3vil \\u00faltimos 7 d\\u00edas\"}, {\"Fecha\": \"2020-05-12\", \"Casos confirmados\": 95, \"Rolling\": 42.57142857142857, \"Casos confirmados diarios\": \"Casos confirmados diarios\", \"Promedio m\\u00f3vil \\u00faltimos 7 d\\u00edas\": \"Promedio m\\u00f3vil \\u00faltimos 7 d\\u00edas\"}, {\"Fecha\": \"2020-05-13\", \"Casos confirmados\": 107, \"Rolling\": 51.57142857142857, \"Casos confirmados diarios\": \"Casos confirmados diarios\", \"Promedio m\\u00f3vil \\u00faltimos 7 d\\u00edas\": \"Promedio m\\u00f3vil \\u00faltimos 7 d\\u00edas\"}]}}, {\"mode\": \"vega-lite\"});\n",
       "</script>"
      ],
      "text/plain": [
       "alt.LayerChart(...)"
      ]
     },
     "execution_count": 13,
     "metadata": {},
     "output_type": "execute_result"
    }
   ],
   "source": [
    "#hide_input\n",
    "bars, line = my_cases_plot(region)\n",
    "(bars + line).properties(\n",
    "    title=f'Covid-19 en Chile: Casos confirmados diarios en {region}',\n",
    "    width=600\n",
    ")"
   ]
  },
  {
   "cell_type": "markdown",
   "metadata": {},
   "source": [
    "## Atacama"
   ]
  },
  {
   "cell_type": "code",
   "execution_count": 14,
   "metadata": {},
   "outputs": [],
   "source": [
    "#hide\n",
    "region = \"Atacama\""
   ]
  },
  {
   "cell_type": "code",
   "execution_count": 15,
   "metadata": {},
   "outputs": [
    {
     "data": {
      "text/html": [
       "\n",
       "<div id=\"altair-viz-701deb8b851e47f99b24b4780e553fa7\"></div>\n",
       "<script type=\"text/javascript\">\n",
       "  (function(spec, embedOpt){\n",
       "    let outputDiv = document.currentScript.previousElementSibling;\n",
       "    if (outputDiv.id !== \"altair-viz-701deb8b851e47f99b24b4780e553fa7\") {\n",
       "      outputDiv = document.getElementById(\"altair-viz-701deb8b851e47f99b24b4780e553fa7\");\n",
       "    }\n",
       "    const paths = {\n",
       "      \"vega\": \"https://cdn.jsdelivr.net/npm//vega@5?noext\",\n",
       "      \"vega-lib\": \"https://cdn.jsdelivr.net/npm//vega-lib?noext\",\n",
       "      \"vega-lite\": \"https://cdn.jsdelivr.net/npm//vega-lite@4.8.1?noext\",\n",
       "      \"vega-embed\": \"https://cdn.jsdelivr.net/npm//vega-embed@6?noext\",\n",
       "    };\n",
       "\n",
       "    function loadScript(lib) {\n",
       "      return new Promise(function(resolve, reject) {\n",
       "        var s = document.createElement('script');\n",
       "        s.src = paths[lib];\n",
       "        s.async = true;\n",
       "        s.onload = () => resolve(paths[lib]);\n",
       "        s.onerror = () => reject(`Error loading script: ${paths[lib]}`);\n",
       "        document.getElementsByTagName(\"head\")[0].appendChild(s);\n",
       "      });\n",
       "    }\n",
       "\n",
       "    function showError(err) {\n",
       "      outputDiv.innerHTML = `<div class=\"error\" style=\"color:red;\">${err}</div>`;\n",
       "      throw err;\n",
       "    }\n",
       "\n",
       "    function displayChart(vegaEmbed) {\n",
       "      vegaEmbed(outputDiv, spec, embedOpt)\n",
       "        .catch(err => showError(`Javascript Error: ${err.message}<br>This usually means there's a typo in your chart specification. See the javascript console for the full traceback.`));\n",
       "    }\n",
       "\n",
       "    if(typeof define === \"function\" && define.amd) {\n",
       "      requirejs.config({paths});\n",
       "      require([\"vega-embed\"], displayChart, err => showError(`Error loading script: ${err.message}`));\n",
       "    } else if (typeof vegaEmbed === \"function\") {\n",
       "      displayChart(vegaEmbed);\n",
       "    } else {\n",
       "      loadScript(\"vega\")\n",
       "        .then(() => loadScript(\"vega-lite\"))\n",
       "        .then(() => loadScript(\"vega-embed\"))\n",
       "        .catch(showError)\n",
       "        .then(() => displayChart(vegaEmbed));\n",
       "    }\n",
       "  })({\"config\": {\"view\": {\"continuousWidth\": 400, \"continuousHeight\": 300}}, \"layer\": [{\"mark\": {\"type\": \"bar\", \"opacity\": 0.7}, \"encoding\": {\"opacity\": {\"type\": \"nominal\", \"field\": \"Casos confirmados diarios\", \"legend\": {\"title\": \"\"}}, \"tooltip\": [{\"type\": \"nominal\", \"field\": \"Fecha\"}, {\"type\": \"quantitative\", \"field\": \"Casos confirmados\"}], \"x\": {\"type\": \"nominal\", \"axis\": {\"title\": \"Fecha (a\\u00f1o-mes-d\\u00eda)\"}, \"field\": \"Fecha\"}, \"y\": {\"type\": \"quantitative\", \"axis\": {\"title\": \"Casos confirmados diarios\"}, \"field\": \"Casos confirmados\"}}}, {\"mark\": {\"type\": \"line\", \"color\": \"#1f77b4\", \"point\": {\"filled\": true, \"fill\": \"#1f77b4\"}}, \"encoding\": {\"shape\": {\"type\": \"nominal\", \"field\": \"Promedio m\\u00f3vil \\u00faltimos 7 d\\u00edas\", \"legend\": {\"title\": \"\"}}, \"x\": {\"type\": \"nominal\", \"axis\": {\"title\": \"Fecha (a\\u00f1o-mes-d\\u00eda)\"}, \"field\": \"Fecha\"}, \"y\": {\"type\": \"quantitative\", \"field\": \"Rolling\"}}}], \"data\": {\"name\": \"data-92304c7d39343333764ad5152292a5e1\"}, \"title\": \"Covid-19 en Chile: Casos confirmados diarios en Atacama\", \"width\": 600, \"$schema\": \"https://vega.github.io/schema/vega-lite/v4.8.1.json\", \"datasets\": {\"data-92304c7d39343333764ad5152292a5e1\": [{\"Fecha\": \"2020-03-04\", \"Casos confirmados\": 0, \"Rolling\": null, \"Casos confirmados diarios\": \"Casos confirmados diarios\", \"Promedio m\\u00f3vil \\u00faltimos 7 d\\u00edas\": \"Promedio m\\u00f3vil \\u00faltimos 7 d\\u00edas\"}, {\"Fecha\": \"2020-03-05\", \"Casos confirmados\": 0, \"Rolling\": null, \"Casos confirmados diarios\": \"Casos confirmados diarios\", \"Promedio m\\u00f3vil \\u00faltimos 7 d\\u00edas\": \"Promedio m\\u00f3vil \\u00faltimos 7 d\\u00edas\"}, {\"Fecha\": \"2020-03-06\", \"Casos confirmados\": 0, \"Rolling\": null, \"Casos confirmados diarios\": \"Casos confirmados diarios\", \"Promedio m\\u00f3vil \\u00faltimos 7 d\\u00edas\": \"Promedio m\\u00f3vil \\u00faltimos 7 d\\u00edas\"}, {\"Fecha\": \"2020-03-07\", \"Casos confirmados\": 0, \"Rolling\": null, \"Casos confirmados diarios\": \"Casos confirmados diarios\", \"Promedio m\\u00f3vil \\u00faltimos 7 d\\u00edas\": \"Promedio m\\u00f3vil \\u00faltimos 7 d\\u00edas\"}, {\"Fecha\": \"2020-03-08\", \"Casos confirmados\": 0, \"Rolling\": null, \"Casos confirmados diarios\": \"Casos confirmados diarios\", \"Promedio m\\u00f3vil \\u00faltimos 7 d\\u00edas\": \"Promedio m\\u00f3vil \\u00faltimos 7 d\\u00edas\"}, {\"Fecha\": \"2020-03-09\", \"Casos confirmados\": 0, \"Rolling\": null, \"Casos confirmados diarios\": \"Casos confirmados diarios\", \"Promedio m\\u00f3vil \\u00faltimos 7 d\\u00edas\": \"Promedio m\\u00f3vil \\u00faltimos 7 d\\u00edas\"}, {\"Fecha\": \"2020-03-10\", \"Casos confirmados\": 0, \"Rolling\": 0.0, \"Casos confirmados diarios\": \"Casos confirmados diarios\", \"Promedio m\\u00f3vil \\u00faltimos 7 d\\u00edas\": \"Promedio m\\u00f3vil \\u00faltimos 7 d\\u00edas\"}, {\"Fecha\": \"2020-03-11\", \"Casos confirmados\": 0, \"Rolling\": 0.0, \"Casos confirmados diarios\": \"Casos confirmados diarios\", \"Promedio m\\u00f3vil \\u00faltimos 7 d\\u00edas\": \"Promedio m\\u00f3vil \\u00faltimos 7 d\\u00edas\"}, {\"Fecha\": \"2020-03-12\", \"Casos confirmados\": 0, \"Rolling\": 0.0, \"Casos confirmados diarios\": \"Casos confirmados diarios\", \"Promedio m\\u00f3vil \\u00faltimos 7 d\\u00edas\": \"Promedio m\\u00f3vil \\u00faltimos 7 d\\u00edas\"}, {\"Fecha\": \"2020-03-13\", \"Casos confirmados\": 0, \"Rolling\": 0.0, \"Casos confirmados diarios\": \"Casos confirmados diarios\", \"Promedio m\\u00f3vil \\u00faltimos 7 d\\u00edas\": \"Promedio m\\u00f3vil \\u00faltimos 7 d\\u00edas\"}, {\"Fecha\": \"2020-03-14\", \"Casos confirmados\": 1, \"Rolling\": 0.14285714285714285, \"Casos confirmados diarios\": \"Casos confirmados diarios\", \"Promedio m\\u00f3vil \\u00faltimos 7 d\\u00edas\": \"Promedio m\\u00f3vil \\u00faltimos 7 d\\u00edas\"}, {\"Fecha\": \"2020-03-15\", \"Casos confirmados\": 0, \"Rolling\": 0.14285714285714285, \"Casos confirmados diarios\": \"Casos confirmados diarios\", \"Promedio m\\u00f3vil \\u00faltimos 7 d\\u00edas\": \"Promedio m\\u00f3vil \\u00faltimos 7 d\\u00edas\"}, {\"Fecha\": \"2020-03-16\", \"Casos confirmados\": 0, \"Rolling\": 0.14285714285714285, \"Casos confirmados diarios\": \"Casos confirmados diarios\", \"Promedio m\\u00f3vil \\u00faltimos 7 d\\u00edas\": \"Promedio m\\u00f3vil \\u00faltimos 7 d\\u00edas\"}, {\"Fecha\": \"2020-03-17\", \"Casos confirmados\": 0, \"Rolling\": 0.14285714285714285, \"Casos confirmados diarios\": \"Casos confirmados diarios\", \"Promedio m\\u00f3vil \\u00faltimos 7 d\\u00edas\": \"Promedio m\\u00f3vil \\u00faltimos 7 d\\u00edas\"}, {\"Fecha\": \"2020-03-18\", \"Casos confirmados\": 0, \"Rolling\": 0.14285714285714285, \"Casos confirmados diarios\": \"Casos confirmados diarios\", \"Promedio m\\u00f3vil \\u00faltimos 7 d\\u00edas\": \"Promedio m\\u00f3vil \\u00faltimos 7 d\\u00edas\"}, {\"Fecha\": \"2020-03-19\", \"Casos confirmados\": 0, \"Rolling\": 0.14285714285714285, \"Casos confirmados diarios\": \"Casos confirmados diarios\", \"Promedio m\\u00f3vil \\u00faltimos 7 d\\u00edas\": \"Promedio m\\u00f3vil \\u00faltimos 7 d\\u00edas\"}, {\"Fecha\": \"2020-03-20\", \"Casos confirmados\": 0, \"Rolling\": 0.14285714285714285, \"Casos confirmados diarios\": \"Casos confirmados diarios\", \"Promedio m\\u00f3vil \\u00faltimos 7 d\\u00edas\": \"Promedio m\\u00f3vil \\u00faltimos 7 d\\u00edas\"}, {\"Fecha\": \"2020-03-21\", \"Casos confirmados\": 0, \"Rolling\": 0.0, \"Casos confirmados diarios\": \"Casos confirmados diarios\", \"Promedio m\\u00f3vil \\u00faltimos 7 d\\u00edas\": \"Promedio m\\u00f3vil \\u00faltimos 7 d\\u00edas\"}, {\"Fecha\": \"2020-03-22\", \"Casos confirmados\": 0, \"Rolling\": 0.0, \"Casos confirmados diarios\": \"Casos confirmados diarios\", \"Promedio m\\u00f3vil \\u00faltimos 7 d\\u00edas\": \"Promedio m\\u00f3vil \\u00faltimos 7 d\\u00edas\"}, {\"Fecha\": \"2020-03-23\", \"Casos confirmados\": 0, \"Rolling\": 0.0, \"Casos confirmados diarios\": \"Casos confirmados diarios\", \"Promedio m\\u00f3vil \\u00faltimos 7 d\\u00edas\": \"Promedio m\\u00f3vil \\u00faltimos 7 d\\u00edas\"}, {\"Fecha\": \"2020-03-24\", \"Casos confirmados\": 0, \"Rolling\": 0.0, \"Casos confirmados diarios\": \"Casos confirmados diarios\", \"Promedio m\\u00f3vil \\u00faltimos 7 d\\u00edas\": \"Promedio m\\u00f3vil \\u00faltimos 7 d\\u00edas\"}, {\"Fecha\": \"2020-03-25\", \"Casos confirmados\": 0, \"Rolling\": 0.0, \"Casos confirmados diarios\": \"Casos confirmados diarios\", \"Promedio m\\u00f3vil \\u00faltimos 7 d\\u00edas\": \"Promedio m\\u00f3vil \\u00faltimos 7 d\\u00edas\"}, {\"Fecha\": \"2020-03-26\", \"Casos confirmados\": 0, \"Rolling\": 0.0, \"Casos confirmados diarios\": \"Casos confirmados diarios\", \"Promedio m\\u00f3vil \\u00faltimos 7 d\\u00edas\": \"Promedio m\\u00f3vil \\u00faltimos 7 d\\u00edas\"}, {\"Fecha\": \"2020-03-27\", \"Casos confirmados\": 0, \"Rolling\": 0.0, \"Casos confirmados diarios\": \"Casos confirmados diarios\", \"Promedio m\\u00f3vil \\u00faltimos 7 d\\u00edas\": \"Promedio m\\u00f3vil \\u00faltimos 7 d\\u00edas\"}, {\"Fecha\": \"2020-03-28\", \"Casos confirmados\": 0, \"Rolling\": 0.0, \"Casos confirmados diarios\": \"Casos confirmados diarios\", \"Promedio m\\u00f3vil \\u00faltimos 7 d\\u00edas\": \"Promedio m\\u00f3vil \\u00faltimos 7 d\\u00edas\"}, {\"Fecha\": \"2020-03-29\", \"Casos confirmados\": 1, \"Rolling\": 0.14285714285714285, \"Casos confirmados diarios\": \"Casos confirmados diarios\", \"Promedio m\\u00f3vil \\u00faltimos 7 d\\u00edas\": \"Promedio m\\u00f3vil \\u00faltimos 7 d\\u00edas\"}, {\"Fecha\": \"2020-03-30\", \"Casos confirmados\": 0, \"Rolling\": 0.14285714285714285, \"Casos confirmados diarios\": \"Casos confirmados diarios\", \"Promedio m\\u00f3vil \\u00faltimos 7 d\\u00edas\": \"Promedio m\\u00f3vil \\u00faltimos 7 d\\u00edas\"}, {\"Fecha\": \"2020-03-31\", \"Casos confirmados\": 0, \"Rolling\": 0.14285714285714285, \"Casos confirmados diarios\": \"Casos confirmados diarios\", \"Promedio m\\u00f3vil \\u00faltimos 7 d\\u00edas\": \"Promedio m\\u00f3vil \\u00faltimos 7 d\\u00edas\"}, {\"Fecha\": \"2020-04-01\", \"Casos confirmados\": 1, \"Rolling\": 0.2857142857142857, \"Casos confirmados diarios\": \"Casos confirmados diarios\", \"Promedio m\\u00f3vil \\u00faltimos 7 d\\u00edas\": \"Promedio m\\u00f3vil \\u00faltimos 7 d\\u00edas\"}, {\"Fecha\": \"2020-04-02\", \"Casos confirmados\": 0, \"Rolling\": 0.2857142857142857, \"Casos confirmados diarios\": \"Casos confirmados diarios\", \"Promedio m\\u00f3vil \\u00faltimos 7 d\\u00edas\": \"Promedio m\\u00f3vil \\u00faltimos 7 d\\u00edas\"}, {\"Fecha\": \"2020-04-03\", \"Casos confirmados\": 2, \"Rolling\": 0.5714285714285714, \"Casos confirmados diarios\": \"Casos confirmados diarios\", \"Promedio m\\u00f3vil \\u00faltimos 7 d\\u00edas\": \"Promedio m\\u00f3vil \\u00faltimos 7 d\\u00edas\"}, {\"Fecha\": \"2020-04-04\", \"Casos confirmados\": 0, \"Rolling\": 0.5714285714285714, \"Casos confirmados diarios\": \"Casos confirmados diarios\", \"Promedio m\\u00f3vil \\u00faltimos 7 d\\u00edas\": \"Promedio m\\u00f3vil \\u00faltimos 7 d\\u00edas\"}, {\"Fecha\": \"2020-04-05\", \"Casos confirmados\": 0, \"Rolling\": 0.42857142857142855, \"Casos confirmados diarios\": \"Casos confirmados diarios\", \"Promedio m\\u00f3vil \\u00faltimos 7 d\\u00edas\": \"Promedio m\\u00f3vil \\u00faltimos 7 d\\u00edas\"}, {\"Fecha\": \"2020-04-06\", \"Casos confirmados\": 0, \"Rolling\": 0.42857142857142855, \"Casos confirmados diarios\": \"Casos confirmados diarios\", \"Promedio m\\u00f3vil \\u00faltimos 7 d\\u00edas\": \"Promedio m\\u00f3vil \\u00faltimos 7 d\\u00edas\"}, {\"Fecha\": \"2020-04-07\", \"Casos confirmados\": 1, \"Rolling\": 0.5714285714285714, \"Casos confirmados diarios\": \"Casos confirmados diarios\", \"Promedio m\\u00f3vil \\u00faltimos 7 d\\u00edas\": \"Promedio m\\u00f3vil \\u00faltimos 7 d\\u00edas\"}, {\"Fecha\": \"2020-04-08\", \"Casos confirmados\": 2, \"Rolling\": 0.7142857142857143, \"Casos confirmados diarios\": \"Casos confirmados diarios\", \"Promedio m\\u00f3vil \\u00faltimos 7 d\\u00edas\": \"Promedio m\\u00f3vil \\u00faltimos 7 d\\u00edas\"}, {\"Fecha\": \"2020-04-09\", \"Casos confirmados\": 2, \"Rolling\": 1.0, \"Casos confirmados diarios\": \"Casos confirmados diarios\", \"Promedio m\\u00f3vil \\u00faltimos 7 d\\u00edas\": \"Promedio m\\u00f3vil \\u00faltimos 7 d\\u00edas\"}, {\"Fecha\": \"2020-04-10\", \"Casos confirmados\": 3, \"Rolling\": 1.1428571428571428, \"Casos confirmados diarios\": \"Casos confirmados diarios\", \"Promedio m\\u00f3vil \\u00faltimos 7 d\\u00edas\": \"Promedio m\\u00f3vil \\u00faltimos 7 d\\u00edas\"}, {\"Fecha\": \"2020-04-11\", \"Casos confirmados\": 0, \"Rolling\": 1.1428571428571428, \"Casos confirmados diarios\": \"Casos confirmados diarios\", \"Promedio m\\u00f3vil \\u00faltimos 7 d\\u00edas\": \"Promedio m\\u00f3vil \\u00faltimos 7 d\\u00edas\"}, {\"Fecha\": \"2020-04-12\", \"Casos confirmados\": 0, \"Rolling\": 1.1428571428571428, \"Casos confirmados diarios\": \"Casos confirmados diarios\", \"Promedio m\\u00f3vil \\u00faltimos 7 d\\u00edas\": \"Promedio m\\u00f3vil \\u00faltimos 7 d\\u00edas\"}, {\"Fecha\": \"2020-04-13\", \"Casos confirmados\": 0, \"Rolling\": 1.1428571428571428, \"Casos confirmados diarios\": \"Casos confirmados diarios\", \"Promedio m\\u00f3vil \\u00faltimos 7 d\\u00edas\": \"Promedio m\\u00f3vil \\u00faltimos 7 d\\u00edas\"}, {\"Fecha\": \"2020-04-14\", \"Casos confirmados\": 0, \"Rolling\": 1.0, \"Casos confirmados diarios\": \"Casos confirmados diarios\", \"Promedio m\\u00f3vil \\u00faltimos 7 d\\u00edas\": \"Promedio m\\u00f3vil \\u00faltimos 7 d\\u00edas\"}, {\"Fecha\": \"2020-04-15\", \"Casos confirmados\": 0, \"Rolling\": 0.7142857142857143, \"Casos confirmados diarios\": \"Casos confirmados diarios\", \"Promedio m\\u00f3vil \\u00faltimos 7 d\\u00edas\": \"Promedio m\\u00f3vil \\u00faltimos 7 d\\u00edas\"}, {\"Fecha\": \"2020-04-16\", \"Casos confirmados\": 0, \"Rolling\": 0.42857142857142855, \"Casos confirmados diarios\": \"Casos confirmados diarios\", \"Promedio m\\u00f3vil \\u00faltimos 7 d\\u00edas\": \"Promedio m\\u00f3vil \\u00faltimos 7 d\\u00edas\"}, {\"Fecha\": \"2020-04-17\", \"Casos confirmados\": 0, \"Rolling\": 0.0, \"Casos confirmados diarios\": \"Casos confirmados diarios\", \"Promedio m\\u00f3vil \\u00faltimos 7 d\\u00edas\": \"Promedio m\\u00f3vil \\u00faltimos 7 d\\u00edas\"}, {\"Fecha\": \"2020-04-18\", \"Casos confirmados\": 0, \"Rolling\": 0.0, \"Casos confirmados diarios\": \"Casos confirmados diarios\", \"Promedio m\\u00f3vil \\u00faltimos 7 d\\u00edas\": \"Promedio m\\u00f3vil \\u00faltimos 7 d\\u00edas\"}, {\"Fecha\": \"2020-04-19\", \"Casos confirmados\": 0, \"Rolling\": 0.0, \"Casos confirmados diarios\": \"Casos confirmados diarios\", \"Promedio m\\u00f3vil \\u00faltimos 7 d\\u00edas\": \"Promedio m\\u00f3vil \\u00faltimos 7 d\\u00edas\"}, {\"Fecha\": \"2020-04-20\", \"Casos confirmados\": 0, \"Rolling\": 0.0, \"Casos confirmados diarios\": \"Casos confirmados diarios\", \"Promedio m\\u00f3vil \\u00faltimos 7 d\\u00edas\": \"Promedio m\\u00f3vil \\u00faltimos 7 d\\u00edas\"}, {\"Fecha\": \"2020-04-21\", \"Casos confirmados\": 0, \"Rolling\": 0.0, \"Casos confirmados diarios\": \"Casos confirmados diarios\", \"Promedio m\\u00f3vil \\u00faltimos 7 d\\u00edas\": \"Promedio m\\u00f3vil \\u00faltimos 7 d\\u00edas\"}, {\"Fecha\": \"2020-04-22\", \"Casos confirmados\": 0, \"Rolling\": 0.0, \"Casos confirmados diarios\": \"Casos confirmados diarios\", \"Promedio m\\u00f3vil \\u00faltimos 7 d\\u00edas\": \"Promedio m\\u00f3vil \\u00faltimos 7 d\\u00edas\"}, {\"Fecha\": \"2020-04-23\", \"Casos confirmados\": 5, \"Rolling\": 0.7142857142857143, \"Casos confirmados diarios\": \"Casos confirmados diarios\", \"Promedio m\\u00f3vil \\u00faltimos 7 d\\u00edas\": \"Promedio m\\u00f3vil \\u00faltimos 7 d\\u00edas\"}, {\"Fecha\": \"2020-04-24\", \"Casos confirmados\": 3, \"Rolling\": 1.1428571428571428, \"Casos confirmados diarios\": \"Casos confirmados diarios\", \"Promedio m\\u00f3vil \\u00faltimos 7 d\\u00edas\": \"Promedio m\\u00f3vil \\u00faltimos 7 d\\u00edas\"}, {\"Fecha\": \"2020-04-25\", \"Casos confirmados\": 3, \"Rolling\": 1.5714285714285714, \"Casos confirmados diarios\": \"Casos confirmados diarios\", \"Promedio m\\u00f3vil \\u00faltimos 7 d\\u00edas\": \"Promedio m\\u00f3vil \\u00faltimos 7 d\\u00edas\"}, {\"Fecha\": \"2020-04-26\", \"Casos confirmados\": 5, \"Rolling\": 2.2857142857142856, \"Casos confirmados diarios\": \"Casos confirmados diarios\", \"Promedio m\\u00f3vil \\u00faltimos 7 d\\u00edas\": \"Promedio m\\u00f3vil \\u00faltimos 7 d\\u00edas\"}, {\"Fecha\": \"2020-04-27\", \"Casos confirmados\": 6, \"Rolling\": 3.142857142857143, \"Casos confirmados diarios\": \"Casos confirmados diarios\", \"Promedio m\\u00f3vil \\u00faltimos 7 d\\u00edas\": \"Promedio m\\u00f3vil \\u00faltimos 7 d\\u00edas\"}, {\"Fecha\": \"2020-04-28\", \"Casos confirmados\": 0, \"Rolling\": 3.142857142857143, \"Casos confirmados diarios\": \"Casos confirmados diarios\", \"Promedio m\\u00f3vil \\u00faltimos 7 d\\u00edas\": \"Promedio m\\u00f3vil \\u00faltimos 7 d\\u00edas\"}, {\"Fecha\": \"2020-04-29\", \"Casos confirmados\": 7, \"Rolling\": 4.142857142857143, \"Casos confirmados diarios\": \"Casos confirmados diarios\", \"Promedio m\\u00f3vil \\u00faltimos 7 d\\u00edas\": \"Promedio m\\u00f3vil \\u00faltimos 7 d\\u00edas\"}, {\"Fecha\": \"2020-04-30\", \"Casos confirmados\": 1, \"Rolling\": 3.5714285714285716, \"Casos confirmados diarios\": \"Casos confirmados diarios\", \"Promedio m\\u00f3vil \\u00faltimos 7 d\\u00edas\": \"Promedio m\\u00f3vil \\u00faltimos 7 d\\u00edas\"}, {\"Fecha\": \"2020-05-01\", \"Casos confirmados\": 0, \"Rolling\": 3.142857142857143, \"Casos confirmados diarios\": \"Casos confirmados diarios\", \"Promedio m\\u00f3vil \\u00faltimos 7 d\\u00edas\": \"Promedio m\\u00f3vil \\u00faltimos 7 d\\u00edas\"}, {\"Fecha\": \"2020-05-02\", \"Casos confirmados\": 16, \"Rolling\": 5.0, \"Casos confirmados diarios\": \"Casos confirmados diarios\", \"Promedio m\\u00f3vil \\u00faltimos 7 d\\u00edas\": \"Promedio m\\u00f3vil \\u00faltimos 7 d\\u00edas\"}, {\"Fecha\": \"2020-05-03\", \"Casos confirmados\": 8, \"Rolling\": 5.428571428571429, \"Casos confirmados diarios\": \"Casos confirmados diarios\", \"Promedio m\\u00f3vil \\u00faltimos 7 d\\u00edas\": \"Promedio m\\u00f3vil \\u00faltimos 7 d\\u00edas\"}, {\"Fecha\": \"2020-05-04\", \"Casos confirmados\": 3, \"Rolling\": 5.0, \"Casos confirmados diarios\": \"Casos confirmados diarios\", \"Promedio m\\u00f3vil \\u00faltimos 7 d\\u00edas\": \"Promedio m\\u00f3vil \\u00faltimos 7 d\\u00edas\"}, {\"Fecha\": \"2020-05-05\", \"Casos confirmados\": 8, \"Rolling\": 6.142857142857143, \"Casos confirmados diarios\": \"Casos confirmados diarios\", \"Promedio m\\u00f3vil \\u00faltimos 7 d\\u00edas\": \"Promedio m\\u00f3vil \\u00faltimos 7 d\\u00edas\"}, {\"Fecha\": \"2020-05-06\", \"Casos confirmados\": 2, \"Rolling\": 5.428571428571429, \"Casos confirmados diarios\": \"Casos confirmados diarios\", \"Promedio m\\u00f3vil \\u00faltimos 7 d\\u00edas\": \"Promedio m\\u00f3vil \\u00faltimos 7 d\\u00edas\"}, {\"Fecha\": \"2020-05-07\", \"Casos confirmados\": 7, \"Rolling\": 6.285714285714286, \"Casos confirmados diarios\": \"Casos confirmados diarios\", \"Promedio m\\u00f3vil \\u00faltimos 7 d\\u00edas\": \"Promedio m\\u00f3vil \\u00faltimos 7 d\\u00edas\"}, {\"Fecha\": \"2020-05-08\", \"Casos confirmados\": 1, \"Rolling\": 6.428571428571429, \"Casos confirmados diarios\": \"Casos confirmados diarios\", \"Promedio m\\u00f3vil \\u00faltimos 7 d\\u00edas\": \"Promedio m\\u00f3vil \\u00faltimos 7 d\\u00edas\"}, {\"Fecha\": \"2020-05-09\", \"Casos confirmados\": 29, \"Rolling\": 8.285714285714286, \"Casos confirmados diarios\": \"Casos confirmados diarios\", \"Promedio m\\u00f3vil \\u00faltimos 7 d\\u00edas\": \"Promedio m\\u00f3vil \\u00faltimos 7 d\\u00edas\"}, {\"Fecha\": \"2020-05-10\", \"Casos confirmados\": 7, \"Rolling\": 8.142857142857142, \"Casos confirmados diarios\": \"Casos confirmados diarios\", \"Promedio m\\u00f3vil \\u00faltimos 7 d\\u00edas\": \"Promedio m\\u00f3vil \\u00faltimos 7 d\\u00edas\"}, {\"Fecha\": \"2020-05-11\", \"Casos confirmados\": 9, \"Rolling\": 9.0, \"Casos confirmados diarios\": \"Casos confirmados diarios\", \"Promedio m\\u00f3vil \\u00faltimos 7 d\\u00edas\": \"Promedio m\\u00f3vil \\u00faltimos 7 d\\u00edas\"}, {\"Fecha\": \"2020-05-12\", \"Casos confirmados\": 1, \"Rolling\": 8.0, \"Casos confirmados diarios\": \"Casos confirmados diarios\", \"Promedio m\\u00f3vil \\u00faltimos 7 d\\u00edas\": \"Promedio m\\u00f3vil \\u00faltimos 7 d\\u00edas\"}, {\"Fecha\": \"2020-05-13\", \"Casos confirmados\": 5, \"Rolling\": 8.428571428571429, \"Casos confirmados diarios\": \"Casos confirmados diarios\", \"Promedio m\\u00f3vil \\u00faltimos 7 d\\u00edas\": \"Promedio m\\u00f3vil \\u00faltimos 7 d\\u00edas\"}]}}, {\"mode\": \"vega-lite\"});\n",
       "</script>"
      ],
      "text/plain": [
       "alt.LayerChart(...)"
      ]
     },
     "execution_count": 15,
     "metadata": {},
     "output_type": "execute_result"
    }
   ],
   "source": [
    "#hide_input\n",
    "bars, line = my_cases_plot(region)\n",
    "(bars + line).properties(\n",
    "    title=f'Covid-19 en Chile: Casos confirmados diarios en {region}',\n",
    "    width=600\n",
    ")"
   ]
  },
  {
   "cell_type": "markdown",
   "metadata": {},
   "source": [
    "## Coquimbo"
   ]
  },
  {
   "cell_type": "code",
   "execution_count": 16,
   "metadata": {},
   "outputs": [],
   "source": [
    "#hide\n",
    "region = \"Coquimbo\""
   ]
  },
  {
   "cell_type": "code",
   "execution_count": 17,
   "metadata": {},
   "outputs": [
    {
     "data": {
      "text/html": [
       "\n",
       "<div id=\"altair-viz-5133faa9328b42ec9df2b80cfd929822\"></div>\n",
       "<script type=\"text/javascript\">\n",
       "  (function(spec, embedOpt){\n",
       "    let outputDiv = document.currentScript.previousElementSibling;\n",
       "    if (outputDiv.id !== \"altair-viz-5133faa9328b42ec9df2b80cfd929822\") {\n",
       "      outputDiv = document.getElementById(\"altair-viz-5133faa9328b42ec9df2b80cfd929822\");\n",
       "    }\n",
       "    const paths = {\n",
       "      \"vega\": \"https://cdn.jsdelivr.net/npm//vega@5?noext\",\n",
       "      \"vega-lib\": \"https://cdn.jsdelivr.net/npm//vega-lib?noext\",\n",
       "      \"vega-lite\": \"https://cdn.jsdelivr.net/npm//vega-lite@4.8.1?noext\",\n",
       "      \"vega-embed\": \"https://cdn.jsdelivr.net/npm//vega-embed@6?noext\",\n",
       "    };\n",
       "\n",
       "    function loadScript(lib) {\n",
       "      return new Promise(function(resolve, reject) {\n",
       "        var s = document.createElement('script');\n",
       "        s.src = paths[lib];\n",
       "        s.async = true;\n",
       "        s.onload = () => resolve(paths[lib]);\n",
       "        s.onerror = () => reject(`Error loading script: ${paths[lib]}`);\n",
       "        document.getElementsByTagName(\"head\")[0].appendChild(s);\n",
       "      });\n",
       "    }\n",
       "\n",
       "    function showError(err) {\n",
       "      outputDiv.innerHTML = `<div class=\"error\" style=\"color:red;\">${err}</div>`;\n",
       "      throw err;\n",
       "    }\n",
       "\n",
       "    function displayChart(vegaEmbed) {\n",
       "      vegaEmbed(outputDiv, spec, embedOpt)\n",
       "        .catch(err => showError(`Javascript Error: ${err.message}<br>This usually means there's a typo in your chart specification. See the javascript console for the full traceback.`));\n",
       "    }\n",
       "\n",
       "    if(typeof define === \"function\" && define.amd) {\n",
       "      requirejs.config({paths});\n",
       "      require([\"vega-embed\"], displayChart, err => showError(`Error loading script: ${err.message}`));\n",
       "    } else if (typeof vegaEmbed === \"function\") {\n",
       "      displayChart(vegaEmbed);\n",
       "    } else {\n",
       "      loadScript(\"vega\")\n",
       "        .then(() => loadScript(\"vega-lite\"))\n",
       "        .then(() => loadScript(\"vega-embed\"))\n",
       "        .catch(showError)\n",
       "        .then(() => displayChart(vegaEmbed));\n",
       "    }\n",
       "  })({\"config\": {\"view\": {\"continuousWidth\": 400, \"continuousHeight\": 300}}, \"layer\": [{\"mark\": {\"type\": \"bar\", \"opacity\": 0.7}, \"encoding\": {\"opacity\": {\"type\": \"nominal\", \"field\": \"Casos confirmados diarios\", \"legend\": {\"title\": \"\"}}, \"tooltip\": [{\"type\": \"nominal\", \"field\": \"Fecha\"}, {\"type\": \"quantitative\", \"field\": \"Casos confirmados\"}], \"x\": {\"type\": \"nominal\", \"axis\": {\"title\": \"Fecha (a\\u00f1o-mes-d\\u00eda)\"}, \"field\": \"Fecha\"}, \"y\": {\"type\": \"quantitative\", \"axis\": {\"title\": \"Casos confirmados diarios\"}, \"field\": \"Casos confirmados\"}}}, {\"mark\": {\"type\": \"line\", \"color\": \"#1f77b4\", \"point\": {\"filled\": true, \"fill\": \"#1f77b4\"}}, \"encoding\": {\"shape\": {\"type\": \"nominal\", \"field\": \"Promedio m\\u00f3vil \\u00faltimos 7 d\\u00edas\", \"legend\": {\"title\": \"\"}}, \"x\": {\"type\": \"nominal\", \"axis\": {\"title\": \"Fecha (a\\u00f1o-mes-d\\u00eda)\"}, \"field\": \"Fecha\"}, \"y\": {\"type\": \"quantitative\", \"field\": \"Rolling\"}}}], \"data\": {\"name\": \"data-fec1ac1dbfaf456b118d422d29d304f7\"}, \"title\": \"Covid-19 en Chile: Casos confirmados diarios en Coquimbo\", \"width\": 600, \"$schema\": \"https://vega.github.io/schema/vega-lite/v4.8.1.json\", \"datasets\": {\"data-fec1ac1dbfaf456b118d422d29d304f7\": [{\"Fecha\": \"2020-03-04\", \"Casos confirmados\": 0, \"Rolling\": null, \"Casos confirmados diarios\": \"Casos confirmados diarios\", \"Promedio m\\u00f3vil \\u00faltimos 7 d\\u00edas\": \"Promedio m\\u00f3vil \\u00faltimos 7 d\\u00edas\"}, {\"Fecha\": \"2020-03-05\", \"Casos confirmados\": 0, \"Rolling\": null, \"Casos confirmados diarios\": \"Casos confirmados diarios\", \"Promedio m\\u00f3vil \\u00faltimos 7 d\\u00edas\": \"Promedio m\\u00f3vil \\u00faltimos 7 d\\u00edas\"}, {\"Fecha\": \"2020-03-06\", \"Casos confirmados\": 0, \"Rolling\": null, \"Casos confirmados diarios\": \"Casos confirmados diarios\", \"Promedio m\\u00f3vil \\u00faltimos 7 d\\u00edas\": \"Promedio m\\u00f3vil \\u00faltimos 7 d\\u00edas\"}, {\"Fecha\": \"2020-03-07\", \"Casos confirmados\": 0, \"Rolling\": null, \"Casos confirmados diarios\": \"Casos confirmados diarios\", \"Promedio m\\u00f3vil \\u00faltimos 7 d\\u00edas\": \"Promedio m\\u00f3vil \\u00faltimos 7 d\\u00edas\"}, {\"Fecha\": \"2020-03-08\", \"Casos confirmados\": 0, \"Rolling\": null, \"Casos confirmados diarios\": \"Casos confirmados diarios\", \"Promedio m\\u00f3vil \\u00faltimos 7 d\\u00edas\": \"Promedio m\\u00f3vil \\u00faltimos 7 d\\u00edas\"}, {\"Fecha\": \"2020-03-09\", \"Casos confirmados\": 0, \"Rolling\": null, \"Casos confirmados diarios\": \"Casos confirmados diarios\", \"Promedio m\\u00f3vil \\u00faltimos 7 d\\u00edas\": \"Promedio m\\u00f3vil \\u00faltimos 7 d\\u00edas\"}, {\"Fecha\": \"2020-03-10\", \"Casos confirmados\": 0, \"Rolling\": 0.0, \"Casos confirmados diarios\": \"Casos confirmados diarios\", \"Promedio m\\u00f3vil \\u00faltimos 7 d\\u00edas\": \"Promedio m\\u00f3vil \\u00faltimos 7 d\\u00edas\"}, {\"Fecha\": \"2020-03-11\", \"Casos confirmados\": 0, \"Rolling\": 0.0, \"Casos confirmados diarios\": \"Casos confirmados diarios\", \"Promedio m\\u00f3vil \\u00faltimos 7 d\\u00edas\": \"Promedio m\\u00f3vil \\u00faltimos 7 d\\u00edas\"}, {\"Fecha\": \"2020-03-12\", \"Casos confirmados\": 0, \"Rolling\": 0.0, \"Casos confirmados diarios\": \"Casos confirmados diarios\", \"Promedio m\\u00f3vil \\u00faltimos 7 d\\u00edas\": \"Promedio m\\u00f3vil \\u00faltimos 7 d\\u00edas\"}, {\"Fecha\": \"2020-03-13\", \"Casos confirmados\": 0, \"Rolling\": 0.0, \"Casos confirmados diarios\": \"Casos confirmados diarios\", \"Promedio m\\u00f3vil \\u00faltimos 7 d\\u00edas\": \"Promedio m\\u00f3vil \\u00faltimos 7 d\\u00edas\"}, {\"Fecha\": \"2020-03-14\", \"Casos confirmados\": 0, \"Rolling\": 0.0, \"Casos confirmados diarios\": \"Casos confirmados diarios\", \"Promedio m\\u00f3vil \\u00faltimos 7 d\\u00edas\": \"Promedio m\\u00f3vil \\u00faltimos 7 d\\u00edas\"}, {\"Fecha\": \"2020-03-15\", \"Casos confirmados\": 0, \"Rolling\": 0.0, \"Casos confirmados diarios\": \"Casos confirmados diarios\", \"Promedio m\\u00f3vil \\u00faltimos 7 d\\u00edas\": \"Promedio m\\u00f3vil \\u00faltimos 7 d\\u00edas\"}, {\"Fecha\": \"2020-03-16\", \"Casos confirmados\": 0, \"Rolling\": 0.0, \"Casos confirmados diarios\": \"Casos confirmados diarios\", \"Promedio m\\u00f3vil \\u00faltimos 7 d\\u00edas\": \"Promedio m\\u00f3vil \\u00faltimos 7 d\\u00edas\"}, {\"Fecha\": \"2020-03-17\", \"Casos confirmados\": 0, \"Rolling\": 0.0, \"Casos confirmados diarios\": \"Casos confirmados diarios\", \"Promedio m\\u00f3vil \\u00faltimos 7 d\\u00edas\": \"Promedio m\\u00f3vil \\u00faltimos 7 d\\u00edas\"}, {\"Fecha\": \"2020-03-18\", \"Casos confirmados\": 0, \"Rolling\": 0.0, \"Casos confirmados diarios\": \"Casos confirmados diarios\", \"Promedio m\\u00f3vil \\u00faltimos 7 d\\u00edas\": \"Promedio m\\u00f3vil \\u00faltimos 7 d\\u00edas\"}, {\"Fecha\": \"2020-03-19\", \"Casos confirmados\": 2, \"Rolling\": 0.2857142857142857, \"Casos confirmados diarios\": \"Casos confirmados diarios\", \"Promedio m\\u00f3vil \\u00faltimos 7 d\\u00edas\": \"Promedio m\\u00f3vil \\u00faltimos 7 d\\u00edas\"}, {\"Fecha\": \"2020-03-20\", \"Casos confirmados\": 1, \"Rolling\": 0.42857142857142855, \"Casos confirmados diarios\": \"Casos confirmados diarios\", \"Promedio m\\u00f3vil \\u00faltimos 7 d\\u00edas\": \"Promedio m\\u00f3vil \\u00faltimos 7 d\\u00edas\"}, {\"Fecha\": \"2020-03-21\", \"Casos confirmados\": 0, \"Rolling\": 0.42857142857142855, \"Casos confirmados diarios\": \"Casos confirmados diarios\", \"Promedio m\\u00f3vil \\u00faltimos 7 d\\u00edas\": \"Promedio m\\u00f3vil \\u00faltimos 7 d\\u00edas\"}, {\"Fecha\": \"2020-03-22\", \"Casos confirmados\": 2, \"Rolling\": 0.7142857142857143, \"Casos confirmados diarios\": \"Casos confirmados diarios\", \"Promedio m\\u00f3vil \\u00faltimos 7 d\\u00edas\": \"Promedio m\\u00f3vil \\u00faltimos 7 d\\u00edas\"}, {\"Fecha\": \"2020-03-23\", \"Casos confirmados\": 1, \"Rolling\": 0.8571428571428571, \"Casos confirmados diarios\": \"Casos confirmados diarios\", \"Promedio m\\u00f3vil \\u00faltimos 7 d\\u00edas\": \"Promedio m\\u00f3vil \\u00faltimos 7 d\\u00edas\"}, {\"Fecha\": \"2020-03-24\", \"Casos confirmados\": 5, \"Rolling\": 1.5714285714285714, \"Casos confirmados diarios\": \"Casos confirmados diarios\", \"Promedio m\\u00f3vil \\u00faltimos 7 d\\u00edas\": \"Promedio m\\u00f3vil \\u00faltimos 7 d\\u00edas\"}, {\"Fecha\": \"2020-03-25\", \"Casos confirmados\": 1, \"Rolling\": 1.7142857142857142, \"Casos confirmados diarios\": \"Casos confirmados diarios\", \"Promedio m\\u00f3vil \\u00faltimos 7 d\\u00edas\": \"Promedio m\\u00f3vil \\u00faltimos 7 d\\u00edas\"}, {\"Fecha\": \"2020-03-26\", \"Casos confirmados\": 1, \"Rolling\": 1.5714285714285714, \"Casos confirmados diarios\": \"Casos confirmados diarios\", \"Promedio m\\u00f3vil \\u00faltimos 7 d\\u00edas\": \"Promedio m\\u00f3vil \\u00faltimos 7 d\\u00edas\"}, {\"Fecha\": \"2020-03-27\", \"Casos confirmados\": 1, \"Rolling\": 1.5714285714285714, \"Casos confirmados diarios\": \"Casos confirmados diarios\", \"Promedio m\\u00f3vil \\u00faltimos 7 d\\u00edas\": \"Promedio m\\u00f3vil \\u00faltimos 7 d\\u00edas\"}, {\"Fecha\": \"2020-03-28\", \"Casos confirmados\": 1, \"Rolling\": 1.7142857142857142, \"Casos confirmados diarios\": \"Casos confirmados diarios\", \"Promedio m\\u00f3vil \\u00faltimos 7 d\\u00edas\": \"Promedio m\\u00f3vil \\u00faltimos 7 d\\u00edas\"}, {\"Fecha\": \"2020-03-29\", \"Casos confirmados\": 3, \"Rolling\": 1.8571428571428572, \"Casos confirmados diarios\": \"Casos confirmados diarios\", \"Promedio m\\u00f3vil \\u00faltimos 7 d\\u00edas\": \"Promedio m\\u00f3vil \\u00faltimos 7 d\\u00edas\"}, {\"Fecha\": \"2020-03-30\", \"Casos confirmados\": 9, \"Rolling\": 3.0, \"Casos confirmados diarios\": \"Casos confirmados diarios\", \"Promedio m\\u00f3vil \\u00faltimos 7 d\\u00edas\": \"Promedio m\\u00f3vil \\u00faltimos 7 d\\u00edas\"}, {\"Fecha\": \"2020-03-31\", \"Casos confirmados\": 1, \"Rolling\": 2.4285714285714284, \"Casos confirmados diarios\": \"Casos confirmados diarios\", \"Promedio m\\u00f3vil \\u00faltimos 7 d\\u00edas\": \"Promedio m\\u00f3vil \\u00faltimos 7 d\\u00edas\"}, {\"Fecha\": \"2020-04-01\", \"Casos confirmados\": 2, \"Rolling\": 2.5714285714285716, \"Casos confirmados diarios\": \"Casos confirmados diarios\", \"Promedio m\\u00f3vil \\u00faltimos 7 d\\u00edas\": \"Promedio m\\u00f3vil \\u00faltimos 7 d\\u00edas\"}, {\"Fecha\": \"2020-04-02\", \"Casos confirmados\": 4, \"Rolling\": 3.0, \"Casos confirmados diarios\": \"Casos confirmados diarios\", \"Promedio m\\u00f3vil \\u00faltimos 7 d\\u00edas\": \"Promedio m\\u00f3vil \\u00faltimos 7 d\\u00edas\"}, {\"Fecha\": \"2020-04-03\", \"Casos confirmados\": 1, \"Rolling\": 3.0, \"Casos confirmados diarios\": \"Casos confirmados diarios\", \"Promedio m\\u00f3vil \\u00faltimos 7 d\\u00edas\": \"Promedio m\\u00f3vil \\u00faltimos 7 d\\u00edas\"}, {\"Fecha\": \"2020-04-04\", \"Casos confirmados\": 9, \"Rolling\": 4.142857142857143, \"Casos confirmados diarios\": \"Casos confirmados diarios\", \"Promedio m\\u00f3vil \\u00faltimos 7 d\\u00edas\": \"Promedio m\\u00f3vil \\u00faltimos 7 d\\u00edas\"}, {\"Fecha\": \"2020-04-05\", \"Casos confirmados\": 6, \"Rolling\": 4.571428571428571, \"Casos confirmados diarios\": \"Casos confirmados diarios\", \"Promedio m\\u00f3vil \\u00faltimos 7 d\\u00edas\": \"Promedio m\\u00f3vil \\u00faltimos 7 d\\u00edas\"}, {\"Fecha\": \"2020-04-06\", \"Casos confirmados\": 1, \"Rolling\": 3.4285714285714284, \"Casos confirmados diarios\": \"Casos confirmados diarios\", \"Promedio m\\u00f3vil \\u00faltimos 7 d\\u00edas\": \"Promedio m\\u00f3vil \\u00faltimos 7 d\\u00edas\"}, {\"Fecha\": \"2020-04-07\", \"Casos confirmados\": 1, \"Rolling\": 3.4285714285714284, \"Casos confirmados diarios\": \"Casos confirmados diarios\", \"Promedio m\\u00f3vil \\u00faltimos 7 d\\u00edas\": \"Promedio m\\u00f3vil \\u00faltimos 7 d\\u00edas\"}, {\"Fecha\": \"2020-04-08\", \"Casos confirmados\": 4, \"Rolling\": 3.7142857142857144, \"Casos confirmados diarios\": \"Casos confirmados diarios\", \"Promedio m\\u00f3vil \\u00faltimos 7 d\\u00edas\": \"Promedio m\\u00f3vil \\u00faltimos 7 d\\u00edas\"}, {\"Fecha\": \"2020-04-09\", \"Casos confirmados\": 5, \"Rolling\": 3.857142857142857, \"Casos confirmados diarios\": \"Casos confirmados diarios\", \"Promedio m\\u00f3vil \\u00faltimos 7 d\\u00edas\": \"Promedio m\\u00f3vil \\u00faltimos 7 d\\u00edas\"}, {\"Fecha\": \"2020-04-10\", \"Casos confirmados\": 0, \"Rolling\": 3.7142857142857144, \"Casos confirmados diarios\": \"Casos confirmados diarios\", \"Promedio m\\u00f3vil \\u00faltimos 7 d\\u00edas\": \"Promedio m\\u00f3vil \\u00faltimos 7 d\\u00edas\"}, {\"Fecha\": \"2020-04-11\", \"Casos confirmados\": 3, \"Rolling\": 2.857142857142857, \"Casos confirmados diarios\": \"Casos confirmados diarios\", \"Promedio m\\u00f3vil \\u00faltimos 7 d\\u00edas\": \"Promedio m\\u00f3vil \\u00faltimos 7 d\\u00edas\"}, {\"Fecha\": \"2020-04-12\", \"Casos confirmados\": 2, \"Rolling\": 2.2857142857142856, \"Casos confirmados diarios\": \"Casos confirmados diarios\", \"Promedio m\\u00f3vil \\u00faltimos 7 d\\u00edas\": \"Promedio m\\u00f3vil \\u00faltimos 7 d\\u00edas\"}, {\"Fecha\": \"2020-04-13\", \"Casos confirmados\": 0, \"Rolling\": 2.142857142857143, \"Casos confirmados diarios\": \"Casos confirmados diarios\", \"Promedio m\\u00f3vil \\u00faltimos 7 d\\u00edas\": \"Promedio m\\u00f3vil \\u00faltimos 7 d\\u00edas\"}, {\"Fecha\": \"2020-04-14\", \"Casos confirmados\": 0, \"Rolling\": 2.0, \"Casos confirmados diarios\": \"Casos confirmados diarios\", \"Promedio m\\u00f3vil \\u00faltimos 7 d\\u00edas\": \"Promedio m\\u00f3vil \\u00faltimos 7 d\\u00edas\"}, {\"Fecha\": \"2020-04-15\", \"Casos confirmados\": 0, \"Rolling\": 1.4285714285714286, \"Casos confirmados diarios\": \"Casos confirmados diarios\", \"Promedio m\\u00f3vil \\u00faltimos 7 d\\u00edas\": \"Promedio m\\u00f3vil \\u00faltimos 7 d\\u00edas\"}, {\"Fecha\": \"2020-04-16\", \"Casos confirmados\": 2, \"Rolling\": 1.0, \"Casos confirmados diarios\": \"Casos confirmados diarios\", \"Promedio m\\u00f3vil \\u00faltimos 7 d\\u00edas\": \"Promedio m\\u00f3vil \\u00faltimos 7 d\\u00edas\"}, {\"Fecha\": \"2020-04-17\", \"Casos confirmados\": 0, \"Rolling\": 1.0, \"Casos confirmados diarios\": \"Casos confirmados diarios\", \"Promedio m\\u00f3vil \\u00faltimos 7 d\\u00edas\": \"Promedio m\\u00f3vil \\u00faltimos 7 d\\u00edas\"}, {\"Fecha\": \"2020-04-18\", \"Casos confirmados\": 0, \"Rolling\": 0.5714285714285714, \"Casos confirmados diarios\": \"Casos confirmados diarios\", \"Promedio m\\u00f3vil \\u00faltimos 7 d\\u00edas\": \"Promedio m\\u00f3vil \\u00faltimos 7 d\\u00edas\"}, {\"Fecha\": \"2020-04-19\", \"Casos confirmados\": 0, \"Rolling\": 0.2857142857142857, \"Casos confirmados diarios\": \"Casos confirmados diarios\", \"Promedio m\\u00f3vil \\u00faltimos 7 d\\u00edas\": \"Promedio m\\u00f3vil \\u00faltimos 7 d\\u00edas\"}, {\"Fecha\": \"2020-04-20\", \"Casos confirmados\": 1, \"Rolling\": 0.42857142857142855, \"Casos confirmados diarios\": \"Casos confirmados diarios\", \"Promedio m\\u00f3vil \\u00faltimos 7 d\\u00edas\": \"Promedio m\\u00f3vil \\u00faltimos 7 d\\u00edas\"}, {\"Fecha\": \"2020-04-21\", \"Casos confirmados\": 0, \"Rolling\": 0.42857142857142855, \"Casos confirmados diarios\": \"Casos confirmados diarios\", \"Promedio m\\u00f3vil \\u00faltimos 7 d\\u00edas\": \"Promedio m\\u00f3vil \\u00faltimos 7 d\\u00edas\"}, {\"Fecha\": \"2020-04-22\", \"Casos confirmados\": 1, \"Rolling\": 0.5714285714285714, \"Casos confirmados diarios\": \"Casos confirmados diarios\", \"Promedio m\\u00f3vil \\u00faltimos 7 d\\u00edas\": \"Promedio m\\u00f3vil \\u00faltimos 7 d\\u00edas\"}, {\"Fecha\": \"2020-04-23\", \"Casos confirmados\": 0, \"Rolling\": 0.2857142857142857, \"Casos confirmados diarios\": \"Casos confirmados diarios\", \"Promedio m\\u00f3vil \\u00faltimos 7 d\\u00edas\": \"Promedio m\\u00f3vil \\u00faltimos 7 d\\u00edas\"}, {\"Fecha\": \"2020-04-24\", \"Casos confirmados\": 2, \"Rolling\": 0.5714285714285714, \"Casos confirmados diarios\": \"Casos confirmados diarios\", \"Promedio m\\u00f3vil \\u00faltimos 7 d\\u00edas\": \"Promedio m\\u00f3vil \\u00faltimos 7 d\\u00edas\"}, {\"Fecha\": \"2020-04-25\", \"Casos confirmados\": 1, \"Rolling\": 0.7142857142857143, \"Casos confirmados diarios\": \"Casos confirmados diarios\", \"Promedio m\\u00f3vil \\u00faltimos 7 d\\u00edas\": \"Promedio m\\u00f3vil \\u00faltimos 7 d\\u00edas\"}, {\"Fecha\": \"2020-04-26\", \"Casos confirmados\": 0, \"Rolling\": 0.7142857142857143, \"Casos confirmados diarios\": \"Casos confirmados diarios\", \"Promedio m\\u00f3vil \\u00faltimos 7 d\\u00edas\": \"Promedio m\\u00f3vil \\u00faltimos 7 d\\u00edas\"}, {\"Fecha\": \"2020-04-27\", \"Casos confirmados\": 1, \"Rolling\": 0.7142857142857143, \"Casos confirmados diarios\": \"Casos confirmados diarios\", \"Promedio m\\u00f3vil \\u00faltimos 7 d\\u00edas\": \"Promedio m\\u00f3vil \\u00faltimos 7 d\\u00edas\"}, {\"Fecha\": \"2020-04-28\", \"Casos confirmados\": 0, \"Rolling\": 0.7142857142857143, \"Casos confirmados diarios\": \"Casos confirmados diarios\", \"Promedio m\\u00f3vil \\u00faltimos 7 d\\u00edas\": \"Promedio m\\u00f3vil \\u00faltimos 7 d\\u00edas\"}, {\"Fecha\": \"2020-04-29\", \"Casos confirmados\": 2, \"Rolling\": 0.8571428571428571, \"Casos confirmados diarios\": \"Casos confirmados diarios\", \"Promedio m\\u00f3vil \\u00faltimos 7 d\\u00edas\": \"Promedio m\\u00f3vil \\u00faltimos 7 d\\u00edas\"}, {\"Fecha\": \"2020-04-30\", \"Casos confirmados\": 0, \"Rolling\": 0.8571428571428571, \"Casos confirmados diarios\": \"Casos confirmados diarios\", \"Promedio m\\u00f3vil \\u00faltimos 7 d\\u00edas\": \"Promedio m\\u00f3vil \\u00faltimos 7 d\\u00edas\"}, {\"Fecha\": \"2020-05-01\", \"Casos confirmados\": 1, \"Rolling\": 0.7142857142857143, \"Casos confirmados diarios\": \"Casos confirmados diarios\", \"Promedio m\\u00f3vil \\u00faltimos 7 d\\u00edas\": \"Promedio m\\u00f3vil \\u00faltimos 7 d\\u00edas\"}, {\"Fecha\": \"2020-05-02\", \"Casos confirmados\": 1, \"Rolling\": 0.7142857142857143, \"Casos confirmados diarios\": \"Casos confirmados diarios\", \"Promedio m\\u00f3vil \\u00faltimos 7 d\\u00edas\": \"Promedio m\\u00f3vil \\u00faltimos 7 d\\u00edas\"}, {\"Fecha\": \"2020-05-03\", \"Casos confirmados\": 10, \"Rolling\": 2.142857142857143, \"Casos confirmados diarios\": \"Casos confirmados diarios\", \"Promedio m\\u00f3vil \\u00faltimos 7 d\\u00edas\": \"Promedio m\\u00f3vil \\u00faltimos 7 d\\u00edas\"}, {\"Fecha\": \"2020-05-04\", \"Casos confirmados\": 3, \"Rolling\": 2.4285714285714284, \"Casos confirmados diarios\": \"Casos confirmados diarios\", \"Promedio m\\u00f3vil \\u00faltimos 7 d\\u00edas\": \"Promedio m\\u00f3vil \\u00faltimos 7 d\\u00edas\"}, {\"Fecha\": \"2020-05-05\", \"Casos confirmados\": 6, \"Rolling\": 3.2857142857142856, \"Casos confirmados diarios\": \"Casos confirmados diarios\", \"Promedio m\\u00f3vil \\u00faltimos 7 d\\u00edas\": \"Promedio m\\u00f3vil \\u00faltimos 7 d\\u00edas\"}, {\"Fecha\": \"2020-05-06\", \"Casos confirmados\": 0, \"Rolling\": 3.0, \"Casos confirmados diarios\": \"Casos confirmados diarios\", \"Promedio m\\u00f3vil \\u00faltimos 7 d\\u00edas\": \"Promedio m\\u00f3vil \\u00faltimos 7 d\\u00edas\"}, {\"Fecha\": \"2020-05-07\", \"Casos confirmados\": 3, \"Rolling\": 3.4285714285714284, \"Casos confirmados diarios\": \"Casos confirmados diarios\", \"Promedio m\\u00f3vil \\u00faltimos 7 d\\u00edas\": \"Promedio m\\u00f3vil \\u00faltimos 7 d\\u00edas\"}, {\"Fecha\": \"2020-05-08\", \"Casos confirmados\": 11, \"Rolling\": 4.857142857142857, \"Casos confirmados diarios\": \"Casos confirmados diarios\", \"Promedio m\\u00f3vil \\u00faltimos 7 d\\u00edas\": \"Promedio m\\u00f3vil \\u00faltimos 7 d\\u00edas\"}, {\"Fecha\": \"2020-05-09\", \"Casos confirmados\": 18, \"Rolling\": 7.285714285714286, \"Casos confirmados diarios\": \"Casos confirmados diarios\", \"Promedio m\\u00f3vil \\u00faltimos 7 d\\u00edas\": \"Promedio m\\u00f3vil \\u00faltimos 7 d\\u00edas\"}, {\"Fecha\": \"2020-05-10\", \"Casos confirmados\": 6, \"Rolling\": 6.714285714285714, \"Casos confirmados diarios\": \"Casos confirmados diarios\", \"Promedio m\\u00f3vil \\u00faltimos 7 d\\u00edas\": \"Promedio m\\u00f3vil \\u00faltimos 7 d\\u00edas\"}, {\"Fecha\": \"2020-05-11\", \"Casos confirmados\": 5, \"Rolling\": 7.0, \"Casos confirmados diarios\": \"Casos confirmados diarios\", \"Promedio m\\u00f3vil \\u00faltimos 7 d\\u00edas\": \"Promedio m\\u00f3vil \\u00faltimos 7 d\\u00edas\"}, {\"Fecha\": \"2020-05-12\", \"Casos confirmados\": 8, \"Rolling\": 7.285714285714286, \"Casos confirmados diarios\": \"Casos confirmados diarios\", \"Promedio m\\u00f3vil \\u00faltimos 7 d\\u00edas\": \"Promedio m\\u00f3vil \\u00faltimos 7 d\\u00edas\"}, {\"Fecha\": \"2020-05-13\", \"Casos confirmados\": 5, \"Rolling\": 8.0, \"Casos confirmados diarios\": \"Casos confirmados diarios\", \"Promedio m\\u00f3vil \\u00faltimos 7 d\\u00edas\": \"Promedio m\\u00f3vil \\u00faltimos 7 d\\u00edas\"}]}}, {\"mode\": \"vega-lite\"});\n",
       "</script>"
      ],
      "text/plain": [
       "alt.LayerChart(...)"
      ]
     },
     "execution_count": 17,
     "metadata": {},
     "output_type": "execute_result"
    }
   ],
   "source": [
    "#hide_input\n",
    "bars, line = my_cases_plot(region)\n",
    "(bars + line).properties(\n",
    "    title=f'Covid-19 en Chile: Casos confirmados diarios en {region}',\n",
    "    width=600\n",
    ")"
   ]
  },
  {
   "cell_type": "markdown",
   "metadata": {},
   "source": [
    "## Valparaíso"
   ]
  },
  {
   "cell_type": "code",
   "execution_count": 18,
   "metadata": {},
   "outputs": [],
   "source": [
    "#hide\n",
    "region = \"Valparaíso\""
   ]
  },
  {
   "cell_type": "code",
   "execution_count": 19,
   "metadata": {},
   "outputs": [
    {
     "data": {
      "text/html": [
       "\n",
       "<div id=\"altair-viz-7dbef86a900e4db0bcb918b9f6155a9d\"></div>\n",
       "<script type=\"text/javascript\">\n",
       "  (function(spec, embedOpt){\n",
       "    let outputDiv = document.currentScript.previousElementSibling;\n",
       "    if (outputDiv.id !== \"altair-viz-7dbef86a900e4db0bcb918b9f6155a9d\") {\n",
       "      outputDiv = document.getElementById(\"altair-viz-7dbef86a900e4db0bcb918b9f6155a9d\");\n",
       "    }\n",
       "    const paths = {\n",
       "      \"vega\": \"https://cdn.jsdelivr.net/npm//vega@5?noext\",\n",
       "      \"vega-lib\": \"https://cdn.jsdelivr.net/npm//vega-lib?noext\",\n",
       "      \"vega-lite\": \"https://cdn.jsdelivr.net/npm//vega-lite@4.8.1?noext\",\n",
       "      \"vega-embed\": \"https://cdn.jsdelivr.net/npm//vega-embed@6?noext\",\n",
       "    };\n",
       "\n",
       "    function loadScript(lib) {\n",
       "      return new Promise(function(resolve, reject) {\n",
       "        var s = document.createElement('script');\n",
       "        s.src = paths[lib];\n",
       "        s.async = true;\n",
       "        s.onload = () => resolve(paths[lib]);\n",
       "        s.onerror = () => reject(`Error loading script: ${paths[lib]}`);\n",
       "        document.getElementsByTagName(\"head\")[0].appendChild(s);\n",
       "      });\n",
       "    }\n",
       "\n",
       "    function showError(err) {\n",
       "      outputDiv.innerHTML = `<div class=\"error\" style=\"color:red;\">${err}</div>`;\n",
       "      throw err;\n",
       "    }\n",
       "\n",
       "    function displayChart(vegaEmbed) {\n",
       "      vegaEmbed(outputDiv, spec, embedOpt)\n",
       "        .catch(err => showError(`Javascript Error: ${err.message}<br>This usually means there's a typo in your chart specification. See the javascript console for the full traceback.`));\n",
       "    }\n",
       "\n",
       "    if(typeof define === \"function\" && define.amd) {\n",
       "      requirejs.config({paths});\n",
       "      require([\"vega-embed\"], displayChart, err => showError(`Error loading script: ${err.message}`));\n",
       "    } else if (typeof vegaEmbed === \"function\") {\n",
       "      displayChart(vegaEmbed);\n",
       "    } else {\n",
       "      loadScript(\"vega\")\n",
       "        .then(() => loadScript(\"vega-lite\"))\n",
       "        .then(() => loadScript(\"vega-embed\"))\n",
       "        .catch(showError)\n",
       "        .then(() => displayChart(vegaEmbed));\n",
       "    }\n",
       "  })({\"config\": {\"view\": {\"continuousWidth\": 400, \"continuousHeight\": 300}}, \"layer\": [{\"mark\": {\"type\": \"bar\", \"opacity\": 0.7}, \"encoding\": {\"opacity\": {\"type\": \"nominal\", \"field\": \"Casos confirmados diarios\", \"legend\": {\"title\": \"\"}}, \"tooltip\": [{\"type\": \"nominal\", \"field\": \"Fecha\"}, {\"type\": \"quantitative\", \"field\": \"Casos confirmados\"}], \"x\": {\"type\": \"nominal\", \"axis\": {\"title\": \"Fecha (a\\u00f1o-mes-d\\u00eda)\"}, \"field\": \"Fecha\"}, \"y\": {\"type\": \"quantitative\", \"axis\": {\"title\": \"Casos confirmados diarios\"}, \"field\": \"Casos confirmados\"}}}, {\"mark\": {\"type\": \"line\", \"color\": \"#1f77b4\", \"point\": {\"filled\": true, \"fill\": \"#1f77b4\"}}, \"encoding\": {\"shape\": {\"type\": \"nominal\", \"field\": \"Promedio m\\u00f3vil \\u00faltimos 7 d\\u00edas\", \"legend\": {\"title\": \"\"}}, \"x\": {\"type\": \"nominal\", \"axis\": {\"title\": \"Fecha (a\\u00f1o-mes-d\\u00eda)\"}, \"field\": \"Fecha\"}, \"y\": {\"type\": \"quantitative\", \"field\": \"Rolling\"}}}], \"data\": {\"name\": \"data-4a26121e7752cdbe5e1d52ab1d8e4b79\"}, \"title\": \"Covid-19 en Chile: Casos confirmados diarios en Valpara\\u00edso\", \"width\": 600, \"$schema\": \"https://vega.github.io/schema/vega-lite/v4.8.1.json\", \"datasets\": {\"data-4a26121e7752cdbe5e1d52ab1d8e4b79\": [{\"Fecha\": \"2020-03-04\", \"Casos confirmados\": 0, \"Rolling\": null, \"Casos confirmados diarios\": \"Casos confirmados diarios\", \"Promedio m\\u00f3vil \\u00faltimos 7 d\\u00edas\": \"Promedio m\\u00f3vil \\u00faltimos 7 d\\u00edas\"}, {\"Fecha\": \"2020-03-05\", \"Casos confirmados\": 0, \"Rolling\": null, \"Casos confirmados diarios\": \"Casos confirmados diarios\", \"Promedio m\\u00f3vil \\u00faltimos 7 d\\u00edas\": \"Promedio m\\u00f3vil \\u00faltimos 7 d\\u00edas\"}, {\"Fecha\": \"2020-03-06\", \"Casos confirmados\": 0, \"Rolling\": null, \"Casos confirmados diarios\": \"Casos confirmados diarios\", \"Promedio m\\u00f3vil \\u00faltimos 7 d\\u00edas\": \"Promedio m\\u00f3vil \\u00faltimos 7 d\\u00edas\"}, {\"Fecha\": \"2020-03-07\", \"Casos confirmados\": 0, \"Rolling\": null, \"Casos confirmados diarios\": \"Casos confirmados diarios\", \"Promedio m\\u00f3vil \\u00faltimos 7 d\\u00edas\": \"Promedio m\\u00f3vil \\u00faltimos 7 d\\u00edas\"}, {\"Fecha\": \"2020-03-08\", \"Casos confirmados\": 0, \"Rolling\": null, \"Casos confirmados diarios\": \"Casos confirmados diarios\", \"Promedio m\\u00f3vil \\u00faltimos 7 d\\u00edas\": \"Promedio m\\u00f3vil \\u00faltimos 7 d\\u00edas\"}, {\"Fecha\": \"2020-03-09\", \"Casos confirmados\": 0, \"Rolling\": null, \"Casos confirmados diarios\": \"Casos confirmados diarios\", \"Promedio m\\u00f3vil \\u00faltimos 7 d\\u00edas\": \"Promedio m\\u00f3vil \\u00faltimos 7 d\\u00edas\"}, {\"Fecha\": \"2020-03-10\", \"Casos confirmados\": 0, \"Rolling\": 0.0, \"Casos confirmados diarios\": \"Casos confirmados diarios\", \"Promedio m\\u00f3vil \\u00faltimos 7 d\\u00edas\": \"Promedio m\\u00f3vil \\u00faltimos 7 d\\u00edas\"}, {\"Fecha\": \"2020-03-11\", \"Casos confirmados\": 0, \"Rolling\": 0.0, \"Casos confirmados diarios\": \"Casos confirmados diarios\", \"Promedio m\\u00f3vil \\u00faltimos 7 d\\u00edas\": \"Promedio m\\u00f3vil \\u00faltimos 7 d\\u00edas\"}, {\"Fecha\": \"2020-03-12\", \"Casos confirmados\": 0, \"Rolling\": 0.0, \"Casos confirmados diarios\": \"Casos confirmados diarios\", \"Promedio m\\u00f3vil \\u00faltimos 7 d\\u00edas\": \"Promedio m\\u00f3vil \\u00faltimos 7 d\\u00edas\"}, {\"Fecha\": \"2020-03-13\", \"Casos confirmados\": 0, \"Rolling\": 0.0, \"Casos confirmados diarios\": \"Casos confirmados diarios\", \"Promedio m\\u00f3vil \\u00faltimos 7 d\\u00edas\": \"Promedio m\\u00f3vil \\u00faltimos 7 d\\u00edas\"}, {\"Fecha\": \"2020-03-14\", \"Casos confirmados\": 0, \"Rolling\": 0.0, \"Casos confirmados diarios\": \"Casos confirmados diarios\", \"Promedio m\\u00f3vil \\u00faltimos 7 d\\u00edas\": \"Promedio m\\u00f3vil \\u00faltimos 7 d\\u00edas\"}, {\"Fecha\": \"2020-03-15\", \"Casos confirmados\": 0, \"Rolling\": 0.0, \"Casos confirmados diarios\": \"Casos confirmados diarios\", \"Promedio m\\u00f3vil \\u00faltimos 7 d\\u00edas\": \"Promedio m\\u00f3vil \\u00faltimos 7 d\\u00edas\"}, {\"Fecha\": \"2020-03-16\", \"Casos confirmados\": 1, \"Rolling\": 0.14285714285714285, \"Casos confirmados diarios\": \"Casos confirmados diarios\", \"Promedio m\\u00f3vil \\u00faltimos 7 d\\u00edas\": \"Promedio m\\u00f3vil \\u00faltimos 7 d\\u00edas\"}, {\"Fecha\": \"2020-03-17\", \"Casos confirmados\": 0, \"Rolling\": 0.14285714285714285, \"Casos confirmados diarios\": \"Casos confirmados diarios\", \"Promedio m\\u00f3vil \\u00faltimos 7 d\\u00edas\": \"Promedio m\\u00f3vil \\u00faltimos 7 d\\u00edas\"}, {\"Fecha\": \"2020-03-18\", \"Casos confirmados\": 0, \"Rolling\": 0.14285714285714285, \"Casos confirmados diarios\": \"Casos confirmados diarios\", \"Promedio m\\u00f3vil \\u00faltimos 7 d\\u00edas\": \"Promedio m\\u00f3vil \\u00faltimos 7 d\\u00edas\"}, {\"Fecha\": \"2020-03-19\", \"Casos confirmados\": 3, \"Rolling\": 0.5714285714285714, \"Casos confirmados diarios\": \"Casos confirmados diarios\", \"Promedio m\\u00f3vil \\u00faltimos 7 d\\u00edas\": \"Promedio m\\u00f3vil \\u00faltimos 7 d\\u00edas\"}, {\"Fecha\": \"2020-03-20\", \"Casos confirmados\": 1, \"Rolling\": 0.7142857142857143, \"Casos confirmados diarios\": \"Casos confirmados diarios\", \"Promedio m\\u00f3vil \\u00faltimos 7 d\\u00edas\": \"Promedio m\\u00f3vil \\u00faltimos 7 d\\u00edas\"}, {\"Fecha\": \"2020-03-21\", \"Casos confirmados\": 8, \"Rolling\": 1.8571428571428572, \"Casos confirmados diarios\": \"Casos confirmados diarios\", \"Promedio m\\u00f3vil \\u00faltimos 7 d\\u00edas\": \"Promedio m\\u00f3vil \\u00faltimos 7 d\\u00edas\"}, {\"Fecha\": \"2020-03-22\", \"Casos confirmados\": 3, \"Rolling\": 2.2857142857142856, \"Casos confirmados diarios\": \"Casos confirmados diarios\", \"Promedio m\\u00f3vil \\u00faltimos 7 d\\u00edas\": \"Promedio m\\u00f3vil \\u00faltimos 7 d\\u00edas\"}, {\"Fecha\": \"2020-03-23\", \"Casos confirmados\": 3, \"Rolling\": 2.5714285714285716, \"Casos confirmados diarios\": \"Casos confirmados diarios\", \"Promedio m\\u00f3vil \\u00faltimos 7 d\\u00edas\": \"Promedio m\\u00f3vil \\u00faltimos 7 d\\u00edas\"}, {\"Fecha\": \"2020-03-24\", \"Casos confirmados\": 6, \"Rolling\": 3.4285714285714284, \"Casos confirmados diarios\": \"Casos confirmados diarios\", \"Promedio m\\u00f3vil \\u00faltimos 7 d\\u00edas\": \"Promedio m\\u00f3vil \\u00faltimos 7 d\\u00edas\"}, {\"Fecha\": \"2020-03-25\", \"Casos confirmados\": 7, \"Rolling\": 4.428571428571429, \"Casos confirmados diarios\": \"Casos confirmados diarios\", \"Promedio m\\u00f3vil \\u00faltimos 7 d\\u00edas\": \"Promedio m\\u00f3vil \\u00faltimos 7 d\\u00edas\"}, {\"Fecha\": \"2020-03-26\", \"Casos confirmados\": 12, \"Rolling\": 5.714285714285714, \"Casos confirmados diarios\": \"Casos confirmados diarios\", \"Promedio m\\u00f3vil \\u00faltimos 7 d\\u00edas\": \"Promedio m\\u00f3vil \\u00faltimos 7 d\\u00edas\"}, {\"Fecha\": \"2020-03-27\", \"Casos confirmados\": 5, \"Rolling\": 6.285714285714286, \"Casos confirmados diarios\": \"Casos confirmados diarios\", \"Promedio m\\u00f3vil \\u00faltimos 7 d\\u00edas\": \"Promedio m\\u00f3vil \\u00faltimos 7 d\\u00edas\"}, {\"Fecha\": \"2020-03-28\", \"Casos confirmados\": 22, \"Rolling\": 8.285714285714286, \"Casos confirmados diarios\": \"Casos confirmados diarios\", \"Promedio m\\u00f3vil \\u00faltimos 7 d\\u00edas\": \"Promedio m\\u00f3vil \\u00faltimos 7 d\\u00edas\"}, {\"Fecha\": \"2020-03-29\", \"Casos confirmados\": 9, \"Rolling\": 9.142857142857142, \"Casos confirmados diarios\": \"Casos confirmados diarios\", \"Promedio m\\u00f3vil \\u00faltimos 7 d\\u00edas\": \"Promedio m\\u00f3vil \\u00faltimos 7 d\\u00edas\"}, {\"Fecha\": \"2020-03-30\", \"Casos confirmados\": 28, \"Rolling\": 12.714285714285714, \"Casos confirmados diarios\": \"Casos confirmados diarios\", \"Promedio m\\u00f3vil \\u00faltimos 7 d\\u00edas\": \"Promedio m\\u00f3vil \\u00faltimos 7 d\\u00edas\"}, {\"Fecha\": \"2020-03-31\", \"Casos confirmados\": 7, \"Rolling\": 12.857142857142858, \"Casos confirmados diarios\": \"Casos confirmados diarios\", \"Promedio m\\u00f3vil \\u00faltimos 7 d\\u00edas\": \"Promedio m\\u00f3vil \\u00faltimos 7 d\\u00edas\"}, {\"Fecha\": \"2020-04-01\", \"Casos confirmados\": 21, \"Rolling\": 14.857142857142858, \"Casos confirmados diarios\": \"Casos confirmados diarios\", \"Promedio m\\u00f3vil \\u00faltimos 7 d\\u00edas\": \"Promedio m\\u00f3vil \\u00faltimos 7 d\\u00edas\"}, {\"Fecha\": \"2020-04-02\", \"Casos confirmados\": 20, \"Rolling\": 16.0, \"Casos confirmados diarios\": \"Casos confirmados diarios\", \"Promedio m\\u00f3vil \\u00faltimos 7 d\\u00edas\": \"Promedio m\\u00f3vil \\u00faltimos 7 d\\u00edas\"}, {\"Fecha\": \"2020-04-03\", \"Casos confirmados\": 20, \"Rolling\": 18.142857142857142, \"Casos confirmados diarios\": \"Casos confirmados diarios\", \"Promedio m\\u00f3vil \\u00faltimos 7 d\\u00edas\": \"Promedio m\\u00f3vil \\u00faltimos 7 d\\u00edas\"}, {\"Fecha\": \"2020-04-04\", \"Casos confirmados\": 9, \"Rolling\": 16.285714285714285, \"Casos confirmados diarios\": \"Casos confirmados diarios\", \"Promedio m\\u00f3vil \\u00faltimos 7 d\\u00edas\": \"Promedio m\\u00f3vil \\u00faltimos 7 d\\u00edas\"}, {\"Fecha\": \"2020-04-05\", \"Casos confirmados\": 6, \"Rolling\": 15.857142857142858, \"Casos confirmados diarios\": \"Casos confirmados diarios\", \"Promedio m\\u00f3vil \\u00faltimos 7 d\\u00edas\": \"Promedio m\\u00f3vil \\u00faltimos 7 d\\u00edas\"}, {\"Fecha\": \"2020-04-06\", \"Casos confirmados\": 7, \"Rolling\": 12.857142857142858, \"Casos confirmados diarios\": \"Casos confirmados diarios\", \"Promedio m\\u00f3vil \\u00faltimos 7 d\\u00edas\": \"Promedio m\\u00f3vil \\u00faltimos 7 d\\u00edas\"}, {\"Fecha\": \"2020-04-07\", \"Casos confirmados\": 16, \"Rolling\": 14.142857142857142, \"Casos confirmados diarios\": \"Casos confirmados diarios\", \"Promedio m\\u00f3vil \\u00faltimos 7 d\\u00edas\": \"Promedio m\\u00f3vil \\u00faltimos 7 d\\u00edas\"}, {\"Fecha\": \"2020-04-08\", \"Casos confirmados\": 11, \"Rolling\": 12.714285714285714, \"Casos confirmados diarios\": \"Casos confirmados diarios\", \"Promedio m\\u00f3vil \\u00faltimos 7 d\\u00edas\": \"Promedio m\\u00f3vil \\u00faltimos 7 d\\u00edas\"}, {\"Fecha\": \"2020-04-09\", \"Casos confirmados\": 5, \"Rolling\": 10.571428571428571, \"Casos confirmados diarios\": \"Casos confirmados diarios\", \"Promedio m\\u00f3vil \\u00faltimos 7 d\\u00edas\": \"Promedio m\\u00f3vil \\u00faltimos 7 d\\u00edas\"}, {\"Fecha\": \"2020-04-10\", \"Casos confirmados\": 11, \"Rolling\": 9.285714285714286, \"Casos confirmados diarios\": \"Casos confirmados diarios\", \"Promedio m\\u00f3vil \\u00faltimos 7 d\\u00edas\": \"Promedio m\\u00f3vil \\u00faltimos 7 d\\u00edas\"}, {\"Fecha\": \"2020-04-11\", \"Casos confirmados\": 7, \"Rolling\": 9.0, \"Casos confirmados diarios\": \"Casos confirmados diarios\", \"Promedio m\\u00f3vil \\u00faltimos 7 d\\u00edas\": \"Promedio m\\u00f3vil \\u00faltimos 7 d\\u00edas\"}, {\"Fecha\": \"2020-04-12\", \"Casos confirmados\": 6, \"Rolling\": 9.0, \"Casos confirmados diarios\": \"Casos confirmados diarios\", \"Promedio m\\u00f3vil \\u00faltimos 7 d\\u00edas\": \"Promedio m\\u00f3vil \\u00faltimos 7 d\\u00edas\"}, {\"Fecha\": \"2020-04-13\", \"Casos confirmados\": 19, \"Rolling\": 10.714285714285714, \"Casos confirmados diarios\": \"Casos confirmados diarios\", \"Promedio m\\u00f3vil \\u00faltimos 7 d\\u00edas\": \"Promedio m\\u00f3vil \\u00faltimos 7 d\\u00edas\"}, {\"Fecha\": \"2020-04-14\", \"Casos confirmados\": 12, \"Rolling\": 10.142857142857142, \"Casos confirmados diarios\": \"Casos confirmados diarios\", \"Promedio m\\u00f3vil \\u00faltimos 7 d\\u00edas\": \"Promedio m\\u00f3vil \\u00faltimos 7 d\\u00edas\"}, {\"Fecha\": \"2020-04-15\", \"Casos confirmados\": 14, \"Rolling\": 10.571428571428571, \"Casos confirmados diarios\": \"Casos confirmados diarios\", \"Promedio m\\u00f3vil \\u00faltimos 7 d\\u00edas\": \"Promedio m\\u00f3vil \\u00faltimos 7 d\\u00edas\"}, {\"Fecha\": \"2020-04-16\", \"Casos confirmados\": 31, \"Rolling\": 14.285714285714286, \"Casos confirmados diarios\": \"Casos confirmados diarios\", \"Promedio m\\u00f3vil \\u00faltimos 7 d\\u00edas\": \"Promedio m\\u00f3vil \\u00faltimos 7 d\\u00edas\"}, {\"Fecha\": \"2020-04-17\", \"Casos confirmados\": 15, \"Rolling\": 14.857142857142858, \"Casos confirmados diarios\": \"Casos confirmados diarios\", \"Promedio m\\u00f3vil \\u00faltimos 7 d\\u00edas\": \"Promedio m\\u00f3vil \\u00faltimos 7 d\\u00edas\"}, {\"Fecha\": \"2020-04-18\", \"Casos confirmados\": 14, \"Rolling\": 15.857142857142858, \"Casos confirmados diarios\": \"Casos confirmados diarios\", \"Promedio m\\u00f3vil \\u00faltimos 7 d\\u00edas\": \"Promedio m\\u00f3vil \\u00faltimos 7 d\\u00edas\"}, {\"Fecha\": \"2020-04-19\", \"Casos confirmados\": 22, \"Rolling\": 18.142857142857142, \"Casos confirmados diarios\": \"Casos confirmados diarios\", \"Promedio m\\u00f3vil \\u00faltimos 7 d\\u00edas\": \"Promedio m\\u00f3vil \\u00faltimos 7 d\\u00edas\"}, {\"Fecha\": \"2020-04-20\", \"Casos confirmados\": 7, \"Rolling\": 16.428571428571427, \"Casos confirmados diarios\": \"Casos confirmados diarios\", \"Promedio m\\u00f3vil \\u00faltimos 7 d\\u00edas\": \"Promedio m\\u00f3vil \\u00faltimos 7 d\\u00edas\"}, {\"Fecha\": \"2020-04-21\", \"Casos confirmados\": 15, \"Rolling\": 16.857142857142858, \"Casos confirmados diarios\": \"Casos confirmados diarios\", \"Promedio m\\u00f3vil \\u00faltimos 7 d\\u00edas\": \"Promedio m\\u00f3vil \\u00faltimos 7 d\\u00edas\"}, {\"Fecha\": \"2020-04-22\", \"Casos confirmados\": 18, \"Rolling\": 17.428571428571427, \"Casos confirmados diarios\": \"Casos confirmados diarios\", \"Promedio m\\u00f3vil \\u00faltimos 7 d\\u00edas\": \"Promedio m\\u00f3vil \\u00faltimos 7 d\\u00edas\"}, {\"Fecha\": \"2020-04-23\", \"Casos confirmados\": 8, \"Rolling\": 14.142857142857142, \"Casos confirmados diarios\": \"Casos confirmados diarios\", \"Promedio m\\u00f3vil \\u00faltimos 7 d\\u00edas\": \"Promedio m\\u00f3vil \\u00faltimos 7 d\\u00edas\"}, {\"Fecha\": \"2020-04-24\", \"Casos confirmados\": 7, \"Rolling\": 13.0, \"Casos confirmados diarios\": \"Casos confirmados diarios\", \"Promedio m\\u00f3vil \\u00faltimos 7 d\\u00edas\": \"Promedio m\\u00f3vil \\u00faltimos 7 d\\u00edas\"}, {\"Fecha\": \"2020-04-25\", \"Casos confirmados\": 18, \"Rolling\": 13.571428571428571, \"Casos confirmados diarios\": \"Casos confirmados diarios\", \"Promedio m\\u00f3vil \\u00faltimos 7 d\\u00edas\": \"Promedio m\\u00f3vil \\u00faltimos 7 d\\u00edas\"}, {\"Fecha\": \"2020-04-26\", \"Casos confirmados\": 6, \"Rolling\": 11.285714285714286, \"Casos confirmados diarios\": \"Casos confirmados diarios\", \"Promedio m\\u00f3vil \\u00faltimos 7 d\\u00edas\": \"Promedio m\\u00f3vil \\u00faltimos 7 d\\u00edas\"}, {\"Fecha\": \"2020-04-27\", \"Casos confirmados\": 25, \"Rolling\": 13.857142857142858, \"Casos confirmados diarios\": \"Casos confirmados diarios\", \"Promedio m\\u00f3vil \\u00faltimos 7 d\\u00edas\": \"Promedio m\\u00f3vil \\u00faltimos 7 d\\u00edas\"}, {\"Fecha\": \"2020-04-28\", \"Casos confirmados\": 8, \"Rolling\": 12.857142857142858, \"Casos confirmados diarios\": \"Casos confirmados diarios\", \"Promedio m\\u00f3vil \\u00faltimos 7 d\\u00edas\": \"Promedio m\\u00f3vil \\u00faltimos 7 d\\u00edas\"}, {\"Fecha\": \"2020-04-29\", \"Casos confirmados\": 33, \"Rolling\": 15.0, \"Casos confirmados diarios\": \"Casos confirmados diarios\", \"Promedio m\\u00f3vil \\u00faltimos 7 d\\u00edas\": \"Promedio m\\u00f3vil \\u00faltimos 7 d\\u00edas\"}, {\"Fecha\": \"2020-04-30\", \"Casos confirmados\": 33, \"Rolling\": 18.571428571428573, \"Casos confirmados diarios\": \"Casos confirmados diarios\", \"Promedio m\\u00f3vil \\u00faltimos 7 d\\u00edas\": \"Promedio m\\u00f3vil \\u00faltimos 7 d\\u00edas\"}, {\"Fecha\": \"2020-05-01\", \"Casos confirmados\": 9, \"Rolling\": 18.857142857142858, \"Casos confirmados diarios\": \"Casos confirmados diarios\", \"Promedio m\\u00f3vil \\u00faltimos 7 d\\u00edas\": \"Promedio m\\u00f3vil \\u00faltimos 7 d\\u00edas\"}, {\"Fecha\": \"2020-05-02\", \"Casos confirmados\": 46, \"Rolling\": 22.857142857142858, \"Casos confirmados diarios\": \"Casos confirmados diarios\", \"Promedio m\\u00f3vil \\u00faltimos 7 d\\u00edas\": \"Promedio m\\u00f3vil \\u00faltimos 7 d\\u00edas\"}, {\"Fecha\": \"2020-05-03\", \"Casos confirmados\": 24, \"Rolling\": 25.428571428571427, \"Casos confirmados diarios\": \"Casos confirmados diarios\", \"Promedio m\\u00f3vil \\u00faltimos 7 d\\u00edas\": \"Promedio m\\u00f3vil \\u00faltimos 7 d\\u00edas\"}, {\"Fecha\": \"2020-05-04\", \"Casos confirmados\": 18, \"Rolling\": 24.428571428571427, \"Casos confirmados diarios\": \"Casos confirmados diarios\", \"Promedio m\\u00f3vil \\u00faltimos 7 d\\u00edas\": \"Promedio m\\u00f3vil \\u00faltimos 7 d\\u00edas\"}, {\"Fecha\": \"2020-05-05\", \"Casos confirmados\": 31, \"Rolling\": 27.714285714285715, \"Casos confirmados diarios\": \"Casos confirmados diarios\", \"Promedio m\\u00f3vil \\u00faltimos 7 d\\u00edas\": \"Promedio m\\u00f3vil \\u00faltimos 7 d\\u00edas\"}, {\"Fecha\": \"2020-05-06\", \"Casos confirmados\": 29, \"Rolling\": 27.142857142857142, \"Casos confirmados diarios\": \"Casos confirmados diarios\", \"Promedio m\\u00f3vil \\u00faltimos 7 d\\u00edas\": \"Promedio m\\u00f3vil \\u00faltimos 7 d\\u00edas\"}, {\"Fecha\": \"2020-05-07\", \"Casos confirmados\": 65, \"Rolling\": 31.714285714285715, \"Casos confirmados diarios\": \"Casos confirmados diarios\", \"Promedio m\\u00f3vil \\u00faltimos 7 d\\u00edas\": \"Promedio m\\u00f3vil \\u00faltimos 7 d\\u00edas\"}, {\"Fecha\": \"2020-05-08\", \"Casos confirmados\": 47, \"Rolling\": 37.142857142857146, \"Casos confirmados diarios\": \"Casos confirmados diarios\", \"Promedio m\\u00f3vil \\u00faltimos 7 d\\u00edas\": \"Promedio m\\u00f3vil \\u00faltimos 7 d\\u00edas\"}, {\"Fecha\": \"2020-05-09\", \"Casos confirmados\": 50, \"Rolling\": 37.714285714285715, \"Casos confirmados diarios\": \"Casos confirmados diarios\", \"Promedio m\\u00f3vil \\u00faltimos 7 d\\u00edas\": \"Promedio m\\u00f3vil \\u00faltimos 7 d\\u00edas\"}, {\"Fecha\": \"2020-05-10\", \"Casos confirmados\": 55, \"Rolling\": 42.142857142857146, \"Casos confirmados diarios\": \"Casos confirmados diarios\", \"Promedio m\\u00f3vil \\u00faltimos 7 d\\u00edas\": \"Promedio m\\u00f3vil \\u00faltimos 7 d\\u00edas\"}, {\"Fecha\": \"2020-05-11\", \"Casos confirmados\": 37, \"Rolling\": 44.857142857142854, \"Casos confirmados diarios\": \"Casos confirmados diarios\", \"Promedio m\\u00f3vil \\u00faltimos 7 d\\u00edas\": \"Promedio m\\u00f3vil \\u00faltimos 7 d\\u00edas\"}, {\"Fecha\": \"2020-05-12\", \"Casos confirmados\": 59, \"Rolling\": 48.857142857142854, \"Casos confirmados diarios\": \"Casos confirmados diarios\", \"Promedio m\\u00f3vil \\u00faltimos 7 d\\u00edas\": \"Promedio m\\u00f3vil \\u00faltimos 7 d\\u00edas\"}, {\"Fecha\": \"2020-05-13\", \"Casos confirmados\": 94, \"Rolling\": 58.142857142857146, \"Casos confirmados diarios\": \"Casos confirmados diarios\", \"Promedio m\\u00f3vil \\u00faltimos 7 d\\u00edas\": \"Promedio m\\u00f3vil \\u00faltimos 7 d\\u00edas\"}]}}, {\"mode\": \"vega-lite\"});\n",
       "</script>"
      ],
      "text/plain": [
       "alt.LayerChart(...)"
      ]
     },
     "execution_count": 19,
     "metadata": {},
     "output_type": "execute_result"
    }
   ],
   "source": [
    "#hide_input\n",
    "bars, line = my_cases_plot(region)\n",
    "(bars + line).properties(\n",
    "    title=f'Covid-19 en Chile: Casos confirmados diarios en {region}',\n",
    "    width=600\n",
    ")"
   ]
  },
  {
   "cell_type": "markdown",
   "metadata": {},
   "source": [
    "## Metropolitana"
   ]
  },
  {
   "cell_type": "code",
   "execution_count": 20,
   "metadata": {},
   "outputs": [],
   "source": [
    "#hide\n",
    "region = \"Metropolitana\""
   ]
  },
  {
   "cell_type": "code",
   "execution_count": 21,
   "metadata": {},
   "outputs": [
    {
     "data": {
      "text/html": [
       "\n",
       "<div id=\"altair-viz-c0279576bfa242a99834b098d47782b1\"></div>\n",
       "<script type=\"text/javascript\">\n",
       "  (function(spec, embedOpt){\n",
       "    let outputDiv = document.currentScript.previousElementSibling;\n",
       "    if (outputDiv.id !== \"altair-viz-c0279576bfa242a99834b098d47782b1\") {\n",
       "      outputDiv = document.getElementById(\"altair-viz-c0279576bfa242a99834b098d47782b1\");\n",
       "    }\n",
       "    const paths = {\n",
       "      \"vega\": \"https://cdn.jsdelivr.net/npm//vega@5?noext\",\n",
       "      \"vega-lib\": \"https://cdn.jsdelivr.net/npm//vega-lib?noext\",\n",
       "      \"vega-lite\": \"https://cdn.jsdelivr.net/npm//vega-lite@4.8.1?noext\",\n",
       "      \"vega-embed\": \"https://cdn.jsdelivr.net/npm//vega-embed@6?noext\",\n",
       "    };\n",
       "\n",
       "    function loadScript(lib) {\n",
       "      return new Promise(function(resolve, reject) {\n",
       "        var s = document.createElement('script');\n",
       "        s.src = paths[lib];\n",
       "        s.async = true;\n",
       "        s.onload = () => resolve(paths[lib]);\n",
       "        s.onerror = () => reject(`Error loading script: ${paths[lib]}`);\n",
       "        document.getElementsByTagName(\"head\")[0].appendChild(s);\n",
       "      });\n",
       "    }\n",
       "\n",
       "    function showError(err) {\n",
       "      outputDiv.innerHTML = `<div class=\"error\" style=\"color:red;\">${err}</div>`;\n",
       "      throw err;\n",
       "    }\n",
       "\n",
       "    function displayChart(vegaEmbed) {\n",
       "      vegaEmbed(outputDiv, spec, embedOpt)\n",
       "        .catch(err => showError(`Javascript Error: ${err.message}<br>This usually means there's a typo in your chart specification. See the javascript console for the full traceback.`));\n",
       "    }\n",
       "\n",
       "    if(typeof define === \"function\" && define.amd) {\n",
       "      requirejs.config({paths});\n",
       "      require([\"vega-embed\"], displayChart, err => showError(`Error loading script: ${err.message}`));\n",
       "    } else if (typeof vegaEmbed === \"function\") {\n",
       "      displayChart(vegaEmbed);\n",
       "    } else {\n",
       "      loadScript(\"vega\")\n",
       "        .then(() => loadScript(\"vega-lite\"))\n",
       "        .then(() => loadScript(\"vega-embed\"))\n",
       "        .catch(showError)\n",
       "        .then(() => displayChart(vegaEmbed));\n",
       "    }\n",
       "  })({\"config\": {\"view\": {\"continuousWidth\": 400, \"continuousHeight\": 300}}, \"layer\": [{\"mark\": {\"type\": \"bar\", \"opacity\": 0.7}, \"encoding\": {\"opacity\": {\"type\": \"nominal\", \"field\": \"Casos confirmados diarios\", \"legend\": {\"title\": \"\"}}, \"tooltip\": [{\"type\": \"nominal\", \"field\": \"Fecha\"}, {\"type\": \"quantitative\", \"field\": \"Casos confirmados\"}], \"x\": {\"type\": \"nominal\", \"axis\": {\"title\": \"Fecha (a\\u00f1o-mes-d\\u00eda)\"}, \"field\": \"Fecha\"}, \"y\": {\"type\": \"quantitative\", \"axis\": {\"title\": \"Casos confirmados diarios\"}, \"field\": \"Casos confirmados\"}}}, {\"mark\": {\"type\": \"line\", \"color\": \"#1f77b4\", \"point\": {\"filled\": true, \"fill\": \"#1f77b4\"}}, \"encoding\": {\"shape\": {\"type\": \"nominal\", \"field\": \"Promedio m\\u00f3vil \\u00faltimos 7 d\\u00edas\", \"legend\": {\"title\": \"\"}}, \"x\": {\"type\": \"nominal\", \"axis\": {\"title\": \"Fecha (a\\u00f1o-mes-d\\u00eda)\"}, \"field\": \"Fecha\"}, \"y\": {\"type\": \"quantitative\", \"field\": \"Rolling\"}}}], \"data\": {\"name\": \"data-f1d2992e30831855def7c2e5486bdeeb\"}, \"title\": \"Covid-19 en Chile: Casos confirmados diarios en Metropolitana\", \"width\": 600, \"$schema\": \"https://vega.github.io/schema/vega-lite/v4.8.1.json\", \"datasets\": {\"data-f1d2992e30831855def7c2e5486bdeeb\": [{\"Fecha\": \"2020-03-04\", \"Casos confirmados\": 1, \"Rolling\": null, \"Casos confirmados diarios\": \"Casos confirmados diarios\", \"Promedio m\\u00f3vil \\u00faltimos 7 d\\u00edas\": \"Promedio m\\u00f3vil \\u00faltimos 7 d\\u00edas\"}, {\"Fecha\": \"2020-03-05\", \"Casos confirmados\": 1, \"Rolling\": null, \"Casos confirmados diarios\": \"Casos confirmados diarios\", \"Promedio m\\u00f3vil \\u00faltimos 7 d\\u00edas\": \"Promedio m\\u00f3vil \\u00faltimos 7 d\\u00edas\"}, {\"Fecha\": \"2020-03-06\", \"Casos confirmados\": 1, \"Rolling\": null, \"Casos confirmados diarios\": \"Casos confirmados diarios\", \"Promedio m\\u00f3vil \\u00faltimos 7 d\\u00edas\": \"Promedio m\\u00f3vil \\u00faltimos 7 d\\u00edas\"}, {\"Fecha\": \"2020-03-07\", \"Casos confirmados\": 1, \"Rolling\": null, \"Casos confirmados diarios\": \"Casos confirmados diarios\", \"Promedio m\\u00f3vil \\u00faltimos 7 d\\u00edas\": \"Promedio m\\u00f3vil \\u00faltimos 7 d\\u00edas\"}, {\"Fecha\": \"2020-03-08\", \"Casos confirmados\": 2, \"Rolling\": null, \"Casos confirmados diarios\": \"Casos confirmados diarios\", \"Promedio m\\u00f3vil \\u00faltimos 7 d\\u00edas\": \"Promedio m\\u00f3vil \\u00faltimos 7 d\\u00edas\"}, {\"Fecha\": \"2020-03-09\", \"Casos confirmados\": 3, \"Rolling\": null, \"Casos confirmados diarios\": \"Casos confirmados diarios\", \"Promedio m\\u00f3vil \\u00faltimos 7 d\\u00edas\": \"Promedio m\\u00f3vil \\u00faltimos 7 d\\u00edas\"}, {\"Fecha\": \"2020-03-10\", \"Casos confirmados\": 1, \"Rolling\": 1.4285714285714286, \"Casos confirmados diarios\": \"Casos confirmados diarios\", \"Promedio m\\u00f3vil \\u00faltimos 7 d\\u00edas\": \"Promedio m\\u00f3vil \\u00faltimos 7 d\\u00edas\"}, {\"Fecha\": \"2020-03-11\", \"Casos confirmados\": 4, \"Rolling\": 1.8571428571428572, \"Casos confirmados diarios\": \"Casos confirmados diarios\", \"Promedio m\\u00f3vil \\u00faltimos 7 d\\u00edas\": \"Promedio m\\u00f3vil \\u00faltimos 7 d\\u00edas\"}, {\"Fecha\": \"2020-03-12\", \"Casos confirmados\": 9, \"Rolling\": 3.0, \"Casos confirmados diarios\": \"Casos confirmados diarios\", \"Promedio m\\u00f3vil \\u00faltimos 7 d\\u00edas\": \"Promedio m\\u00f3vil \\u00faltimos 7 d\\u00edas\"}, {\"Fecha\": \"2020-03-13\", \"Casos confirmados\": 6, \"Rolling\": 3.7142857142857144, \"Casos confirmados diarios\": \"Casos confirmados diarios\", \"Promedio m\\u00f3vil \\u00faltimos 7 d\\u00edas\": \"Promedio m\\u00f3vil \\u00faltimos 7 d\\u00edas\"}, {\"Fecha\": \"2020-03-14\", \"Casos confirmados\": 11, \"Rolling\": 5.142857142857143, \"Casos confirmados diarios\": \"Casos confirmados diarios\", \"Promedio m\\u00f3vil \\u00faltimos 7 d\\u00edas\": \"Promedio m\\u00f3vil \\u00faltimos 7 d\\u00edas\"}, {\"Fecha\": \"2020-03-15\", \"Casos confirmados\": 14, \"Rolling\": 6.857142857142857, \"Casos confirmados diarios\": \"Casos confirmados diarios\", \"Promedio m\\u00f3vil \\u00faltimos 7 d\\u00edas\": \"Promedio m\\u00f3vil \\u00faltimos 7 d\\u00edas\"}, {\"Fecha\": \"2020-03-16\", \"Casos confirmados\": 69, \"Rolling\": 16.285714285714285, \"Casos confirmados diarios\": \"Casos confirmados diarios\", \"Promedio m\\u00f3vil \\u00faltimos 7 d\\u00edas\": \"Promedio m\\u00f3vil \\u00faltimos 7 d\\u00edas\"}, {\"Fecha\": \"2020-03-17\", \"Casos confirmados\": 29, \"Rolling\": 20.285714285714285, \"Casos confirmados diarios\": \"Casos confirmados diarios\", \"Promedio m\\u00f3vil \\u00faltimos 7 d\\u00edas\": \"Promedio m\\u00f3vil \\u00faltimos 7 d\\u00edas\"}, {\"Fecha\": \"2020-03-18\", \"Casos confirmados\": 22, \"Rolling\": 22.857142857142858, \"Casos confirmados diarios\": \"Casos confirmados diarios\", \"Promedio m\\u00f3vil \\u00faltimos 7 d\\u00edas\": \"Promedio m\\u00f3vil \\u00faltimos 7 d\\u00edas\"}, {\"Fecha\": \"2020-03-19\", \"Casos confirmados\": 73, \"Rolling\": 32.0, \"Casos confirmados diarios\": \"Casos confirmados diarios\", \"Promedio m\\u00f3vil \\u00faltimos 7 d\\u00edas\": \"Promedio m\\u00f3vil \\u00faltimos 7 d\\u00edas\"}, {\"Fecha\": \"2020-03-20\", \"Casos confirmados\": 57, \"Rolling\": 39.285714285714285, \"Casos confirmados diarios\": \"Casos confirmados diarios\", \"Promedio m\\u00f3vil \\u00faltimos 7 d\\u00edas\": \"Promedio m\\u00f3vil \\u00faltimos 7 d\\u00edas\"}, {\"Fecha\": \"2020-03-21\", \"Casos confirmados\": 55, \"Rolling\": 45.57142857142857, \"Casos confirmados diarios\": \"Casos confirmados diarios\", \"Promedio m\\u00f3vil \\u00faltimos 7 d\\u00edas\": \"Promedio m\\u00f3vil \\u00faltimos 7 d\\u00edas\"}, {\"Fecha\": \"2020-03-22\", \"Casos confirmados\": 50, \"Rolling\": 50.714285714285715, \"Casos confirmados diarios\": \"Casos confirmados diarios\", \"Promedio m\\u00f3vil \\u00faltimos 7 d\\u00edas\": \"Promedio m\\u00f3vil \\u00faltimos 7 d\\u00edas\"}, {\"Fecha\": \"2020-03-23\", \"Casos confirmados\": 50, \"Rolling\": 48.0, \"Casos confirmados diarios\": \"Casos confirmados diarios\", \"Promedio m\\u00f3vil \\u00faltimos 7 d\\u00edas\": \"Promedio m\\u00f3vil \\u00faltimos 7 d\\u00edas\"}, {\"Fecha\": \"2020-03-24\", \"Casos confirmados\": 81, \"Rolling\": 55.42857142857143, \"Casos confirmados diarios\": \"Casos confirmados diarios\", \"Promedio m\\u00f3vil \\u00faltimos 7 d\\u00edas\": \"Promedio m\\u00f3vil \\u00faltimos 7 d\\u00edas\"}, {\"Fecha\": \"2020-03-25\", \"Casos confirmados\": 142, \"Rolling\": 72.57142857142857, \"Casos confirmados diarios\": \"Casos confirmados diarios\", \"Promedio m\\u00f3vil \\u00faltimos 7 d\\u00edas\": \"Promedio m\\u00f3vil \\u00faltimos 7 d\\u00edas\"}, {\"Fecha\": \"2020-03-26\", \"Casos confirmados\": 64, \"Rolling\": 71.28571428571429, \"Casos confirmados diarios\": \"Casos confirmados diarios\", \"Promedio m\\u00f3vil \\u00faltimos 7 d\\u00edas\": \"Promedio m\\u00f3vil \\u00faltimos 7 d\\u00edas\"}, {\"Fecha\": \"2020-03-27\", \"Casos confirmados\": 192, \"Rolling\": 90.57142857142857, \"Casos confirmados diarios\": \"Casos confirmados diarios\", \"Promedio m\\u00f3vil \\u00faltimos 7 d\\u00edas\": \"Promedio m\\u00f3vil \\u00faltimos 7 d\\u00edas\"}, {\"Fecha\": \"2020-03-28\", \"Casos confirmados\": 146, \"Rolling\": 103.57142857142857, \"Casos confirmados diarios\": \"Casos confirmados diarios\", \"Promedio m\\u00f3vil \\u00faltimos 7 d\\u00edas\": \"Promedio m\\u00f3vil \\u00faltimos 7 d\\u00edas\"}, {\"Fecha\": \"2020-03-29\", \"Casos confirmados\": 83, \"Rolling\": 108.28571428571429, \"Casos confirmados diarios\": \"Casos confirmados diarios\", \"Promedio m\\u00f3vil \\u00faltimos 7 d\\u00edas\": \"Promedio m\\u00f3vil \\u00faltimos 7 d\\u00edas\"}, {\"Fecha\": \"2020-03-30\", \"Casos confirmados\": 128, \"Rolling\": 119.42857142857143, \"Casos confirmados diarios\": \"Casos confirmados diarios\", \"Promedio m\\u00f3vil \\u00faltimos 7 d\\u00edas\": \"Promedio m\\u00f3vil \\u00faltimos 7 d\\u00edas\"}, {\"Fecha\": \"2020-03-31\", \"Casos confirmados\": 125, \"Rolling\": 125.71428571428571, \"Casos confirmados diarios\": \"Casos confirmados diarios\", \"Promedio m\\u00f3vil \\u00faltimos 7 d\\u00edas\": \"Promedio m\\u00f3vil \\u00faltimos 7 d\\u00edas\"}, {\"Fecha\": \"2020-04-01\", \"Casos confirmados\": 101, \"Rolling\": 119.85714285714286, \"Casos confirmados diarios\": \"Casos confirmados diarios\", \"Promedio m\\u00f3vil \\u00faltimos 7 d\\u00edas\": \"Promedio m\\u00f3vil \\u00faltimos 7 d\\u00edas\"}, {\"Fecha\": \"2020-04-02\", \"Casos confirmados\": 115, \"Rolling\": 127.14285714285714, \"Casos confirmados diarios\": \"Casos confirmados diarios\", \"Promedio m\\u00f3vil \\u00faltimos 7 d\\u00edas\": \"Promedio m\\u00f3vil \\u00faltimos 7 d\\u00edas\"}, {\"Fecha\": \"2020-04-03\", \"Casos confirmados\": 106, \"Rolling\": 114.85714285714286, \"Casos confirmados diarios\": \"Casos confirmados diarios\", \"Promedio m\\u00f3vil \\u00faltimos 7 d\\u00edas\": \"Promedio m\\u00f3vil \\u00faltimos 7 d\\u00edas\"}, {\"Fecha\": \"2020-04-04\", \"Casos confirmados\": 215, \"Rolling\": 124.71428571428571, \"Casos confirmados diarios\": \"Casos confirmados diarios\", \"Promedio m\\u00f3vil \\u00faltimos 7 d\\u00edas\": \"Promedio m\\u00f3vil \\u00faltimos 7 d\\u00edas\"}, {\"Fecha\": \"2020-04-05\", \"Casos confirmados\": 145, \"Rolling\": 133.57142857142858, \"Casos confirmados diarios\": \"Casos confirmados diarios\", \"Promedio m\\u00f3vil \\u00faltimos 7 d\\u00edas\": \"Promedio m\\u00f3vil \\u00faltimos 7 d\\u00edas\"}, {\"Fecha\": \"2020-04-06\", \"Casos confirmados\": 142, \"Rolling\": 135.57142857142858, \"Casos confirmados diarios\": \"Casos confirmados diarios\", \"Promedio m\\u00f3vil \\u00faltimos 7 d\\u00edas\": \"Promedio m\\u00f3vil \\u00faltimos 7 d\\u00edas\"}, {\"Fecha\": \"2020-04-07\", \"Casos confirmados\": 106, \"Rolling\": 132.85714285714286, \"Casos confirmados diarios\": \"Casos confirmados diarios\", \"Promedio m\\u00f3vil \\u00faltimos 7 d\\u00edas\": \"Promedio m\\u00f3vil \\u00faltimos 7 d\\u00edas\"}, {\"Fecha\": \"2020-04-08\", \"Casos confirmados\": 198, \"Rolling\": 146.71428571428572, \"Casos confirmados diarios\": \"Casos confirmados diarios\", \"Promedio m\\u00f3vil \\u00faltimos 7 d\\u00edas\": \"Promedio m\\u00f3vil \\u00faltimos 7 d\\u00edas\"}, {\"Fecha\": \"2020-04-09\", \"Casos confirmados\": 284, \"Rolling\": 170.85714285714286, \"Casos confirmados diarios\": \"Casos confirmados diarios\", \"Promedio m\\u00f3vil \\u00faltimos 7 d\\u00edas\": \"Promedio m\\u00f3vil \\u00faltimos 7 d\\u00edas\"}, {\"Fecha\": \"2020-04-10\", \"Casos confirmados\": 361, \"Rolling\": 207.28571428571428, \"Casos confirmados diarios\": \"Casos confirmados diarios\", \"Promedio m\\u00f3vil \\u00faltimos 7 d\\u00edas\": \"Promedio m\\u00f3vil \\u00faltimos 7 d\\u00edas\"}, {\"Fecha\": \"2020-04-11\", \"Casos confirmados\": 255, \"Rolling\": 213.0, \"Casos confirmados diarios\": \"Casos confirmados diarios\", \"Promedio m\\u00f3vil \\u00faltimos 7 d\\u00edas\": \"Promedio m\\u00f3vil \\u00faltimos 7 d\\u00edas\"}, {\"Fecha\": \"2020-04-12\", \"Casos confirmados\": 151, \"Rolling\": 213.85714285714286, \"Casos confirmados diarios\": \"Casos confirmados diarios\", \"Promedio m\\u00f3vil \\u00faltimos 7 d\\u00edas\": \"Promedio m\\u00f3vil \\u00faltimos 7 d\\u00edas\"}, {\"Fecha\": \"2020-04-13\", \"Casos confirmados\": 204, \"Rolling\": 222.71428571428572, \"Casos confirmados diarios\": \"Casos confirmados diarios\", \"Promedio m\\u00f3vil \\u00faltimos 7 d\\u00edas\": \"Promedio m\\u00f3vil \\u00faltimos 7 d\\u00edas\"}, {\"Fecha\": \"2020-04-14\", \"Casos confirmados\": 283, \"Rolling\": 248.0, \"Casos confirmados diarios\": \"Casos confirmados diarios\", \"Promedio m\\u00f3vil \\u00faltimos 7 d\\u00edas\": \"Promedio m\\u00f3vil \\u00faltimos 7 d\\u00edas\"}, {\"Fecha\": \"2020-04-15\", \"Casos confirmados\": 248, \"Rolling\": 255.14285714285714, \"Casos confirmados diarios\": \"Casos confirmados diarios\", \"Promedio m\\u00f3vil \\u00faltimos 7 d\\u00edas\": \"Promedio m\\u00f3vil \\u00faltimos 7 d\\u00edas\"}, {\"Fecha\": \"2020-04-16\", \"Casos confirmados\": 348, \"Rolling\": 264.2857142857143, \"Casos confirmados diarios\": \"Casos confirmados diarios\", \"Promedio m\\u00f3vil \\u00faltimos 7 d\\u00edas\": \"Promedio m\\u00f3vil \\u00faltimos 7 d\\u00edas\"}, {\"Fecha\": \"2020-04-17\", \"Casos confirmados\": 233, \"Rolling\": 246.0, \"Casos confirmados diarios\": \"Casos confirmados diarios\", \"Promedio m\\u00f3vil \\u00faltimos 7 d\\u00edas\": \"Promedio m\\u00f3vil \\u00faltimos 7 d\\u00edas\"}, {\"Fecha\": \"2020-04-18\", \"Casos confirmados\": 277, \"Rolling\": 249.14285714285714, \"Casos confirmados diarios\": \"Casos confirmados diarios\", \"Promedio m\\u00f3vil \\u00faltimos 7 d\\u00edas\": \"Promedio m\\u00f3vil \\u00faltimos 7 d\\u00edas\"}, {\"Fecha\": \"2020-04-19\", \"Casos confirmados\": 189, \"Rolling\": 254.57142857142858, \"Casos confirmados diarios\": \"Casos confirmados diarios\", \"Promedio m\\u00f3vil \\u00faltimos 7 d\\u00edas\": \"Promedio m\\u00f3vil \\u00faltimos 7 d\\u00edas\"}, {\"Fecha\": \"2020-04-20\", \"Casos confirmados\": 262, \"Rolling\": 262.85714285714283, \"Casos confirmados diarios\": \"Casos confirmados diarios\", \"Promedio m\\u00f3vil \\u00faltimos 7 d\\u00edas\": \"Promedio m\\u00f3vil \\u00faltimos 7 d\\u00edas\"}, {\"Fecha\": \"2020-04-21\", \"Casos confirmados\": 145, \"Rolling\": 243.14285714285714, \"Casos confirmados diarios\": \"Casos confirmados diarios\", \"Promedio m\\u00f3vil \\u00faltimos 7 d\\u00edas\": \"Promedio m\\u00f3vil \\u00faltimos 7 d\\u00edas\"}, {\"Fecha\": \"2020-04-22\", \"Casos confirmados\": 295, \"Rolling\": 249.85714285714286, \"Casos confirmados diarios\": \"Casos confirmados diarios\", \"Promedio m\\u00f3vil \\u00faltimos 7 d\\u00edas\": \"Promedio m\\u00f3vil \\u00faltimos 7 d\\u00edas\"}, {\"Fecha\": \"2020-04-23\", \"Casos confirmados\": 351, \"Rolling\": 250.28571428571428, \"Casos confirmados diarios\": \"Casos confirmados diarios\", \"Promedio m\\u00f3vil \\u00faltimos 7 d\\u00edas\": \"Promedio m\\u00f3vil \\u00faltimos 7 d\\u00edas\"}, {\"Fecha\": \"2020-04-24\", \"Casos confirmados\": 327, \"Rolling\": 263.7142857142857, \"Casos confirmados diarios\": \"Casos confirmados diarios\", \"Promedio m\\u00f3vil \\u00faltimos 7 d\\u00edas\": \"Promedio m\\u00f3vil \\u00faltimos 7 d\\u00edas\"}, {\"Fecha\": \"2020-04-25\", \"Casos confirmados\": 404, \"Rolling\": 281.85714285714283, \"Casos confirmados diarios\": \"Casos confirmados diarios\", \"Promedio m\\u00f3vil \\u00faltimos 7 d\\u00edas\": \"Promedio m\\u00f3vil \\u00faltimos 7 d\\u00edas\"}, {\"Fecha\": \"2020-04-26\", \"Casos confirmados\": 331, \"Rolling\": 302.14285714285717, \"Casos confirmados diarios\": \"Casos confirmados diarios\", \"Promedio m\\u00f3vil \\u00faltimos 7 d\\u00edas\": \"Promedio m\\u00f3vil \\u00faltimos 7 d\\u00edas\"}, {\"Fecha\": \"2020-04-27\", \"Casos confirmados\": 362, \"Rolling\": 316.42857142857144, \"Casos confirmados diarios\": \"Casos confirmados diarios\", \"Promedio m\\u00f3vil \\u00faltimos 7 d\\u00edas\": \"Promedio m\\u00f3vil \\u00faltimos 7 d\\u00edas\"}, {\"Fecha\": \"2020-04-28\", \"Casos confirmados\": 442, \"Rolling\": 358.85714285714283, \"Casos confirmados diarios\": \"Casos confirmados diarios\", \"Promedio m\\u00f3vil \\u00faltimos 7 d\\u00edas\": \"Promedio m\\u00f3vil \\u00faltimos 7 d\\u00edas\"}, {\"Fecha\": \"2020-04-29\", \"Casos confirmados\": 589, \"Rolling\": 400.85714285714283, \"Casos confirmados diarios\": \"Casos confirmados diarios\", \"Promedio m\\u00f3vil \\u00faltimos 7 d\\u00edas\": \"Promedio m\\u00f3vil \\u00faltimos 7 d\\u00edas\"}, {\"Fecha\": \"2020-04-30\", \"Casos confirmados\": 736, \"Rolling\": 455.85714285714283, \"Casos confirmados diarios\": \"Casos confirmados diarios\", \"Promedio m\\u00f3vil \\u00faltimos 7 d\\u00edas\": \"Promedio m\\u00f3vil \\u00faltimos 7 d\\u00edas\"}, {\"Fecha\": \"2020-05-01\", \"Casos confirmados\": 891, \"Rolling\": 536.4285714285714, \"Casos confirmados diarios\": \"Casos confirmados diarios\", \"Promedio m\\u00f3vil \\u00faltimos 7 d\\u00edas\": \"Promedio m\\u00f3vil \\u00faltimos 7 d\\u00edas\"}, {\"Fecha\": \"2020-05-02\", \"Casos confirmados\": 1145, \"Rolling\": 642.2857142857143, \"Casos confirmados diarios\": \"Casos confirmados diarios\", \"Promedio m\\u00f3vil \\u00faltimos 7 d\\u00edas\": \"Promedio m\\u00f3vil \\u00faltimos 7 d\\u00edas\"}, {\"Fecha\": \"2020-05-03\", \"Casos confirmados\": 995, \"Rolling\": 737.1428571428571, \"Casos confirmados diarios\": \"Casos confirmados diarios\", \"Promedio m\\u00f3vil \\u00faltimos 7 d\\u00edas\": \"Promedio m\\u00f3vil \\u00faltimos 7 d\\u00edas\"}, {\"Fecha\": \"2020-05-04\", \"Casos confirmados\": 872, \"Rolling\": 810.0, \"Casos confirmados diarios\": \"Casos confirmados diarios\", \"Promedio m\\u00f3vil \\u00faltimos 7 d\\u00edas\": \"Promedio m\\u00f3vil \\u00faltimos 7 d\\u00edas\"}, {\"Fecha\": \"2020-05-05\", \"Casos confirmados\": 1179, \"Rolling\": 915.2857142857143, \"Casos confirmados diarios\": \"Casos confirmados diarios\", \"Promedio m\\u00f3vil \\u00faltimos 7 d\\u00edas\": \"Promedio m\\u00f3vil \\u00faltimos 7 d\\u00edas\"}, {\"Fecha\": \"2020-05-06\", \"Casos confirmados\": 875, \"Rolling\": 956.1428571428571, \"Casos confirmados diarios\": \"Casos confirmados diarios\", \"Promedio m\\u00f3vil \\u00faltimos 7 d\\u00edas\": \"Promedio m\\u00f3vil \\u00faltimos 7 d\\u00edas\"}, {\"Fecha\": \"2020-05-07\", \"Casos confirmados\": 1246, \"Rolling\": 1029.0, \"Casos confirmados diarios\": \"Casos confirmados diarios\", \"Promedio m\\u00f3vil \\u00faltimos 7 d\\u00edas\": \"Promedio m\\u00f3vil \\u00faltimos 7 d\\u00edas\"}, {\"Fecha\": \"2020-05-08\", \"Casos confirmados\": 1151, \"Rolling\": 1066.142857142857, \"Casos confirmados diarios\": \"Casos confirmados diarios\", \"Promedio m\\u00f3vil \\u00faltimos 7 d\\u00edas\": \"Promedio m\\u00f3vil \\u00faltimos 7 d\\u00edas\"}, {\"Fecha\": \"2020-05-09\", \"Casos confirmados\": 978, \"Rolling\": 1042.2857142857142, \"Casos confirmados diarios\": \"Casos confirmados diarios\", \"Promedio m\\u00f3vil \\u00faltimos 7 d\\u00edas\": \"Promedio m\\u00f3vil \\u00faltimos 7 d\\u00edas\"}, {\"Fecha\": \"2020-05-10\", \"Casos confirmados\": 1396, \"Rolling\": 1099.5714285714287, \"Casos confirmados diarios\": \"Casos confirmados diarios\", \"Promedio m\\u00f3vil \\u00faltimos 7 d\\u00edas\": \"Promedio m\\u00f3vil \\u00faltimos 7 d\\u00edas\"}, {\"Fecha\": \"2020-05-11\", \"Casos confirmados\": 964, \"Rolling\": 1112.7142857142858, \"Casos confirmados diarios\": \"Casos confirmados diarios\", \"Promedio m\\u00f3vil \\u00faltimos 7 d\\u00edas\": \"Promedio m\\u00f3vil \\u00faltimos 7 d\\u00edas\"}, {\"Fecha\": \"2020-05-12\", \"Casos confirmados\": 1392, \"Rolling\": 1143.142857142857, \"Casos confirmados diarios\": \"Casos confirmados diarios\", \"Promedio m\\u00f3vil \\u00faltimos 7 d\\u00edas\": \"Promedio m\\u00f3vil \\u00faltimos 7 d\\u00edas\"}, {\"Fecha\": \"2020-05-13\", \"Casos confirmados\": 2256, \"Rolling\": 1340.4285714285713, \"Casos confirmados diarios\": \"Casos confirmados diarios\", \"Promedio m\\u00f3vil \\u00faltimos 7 d\\u00edas\": \"Promedio m\\u00f3vil \\u00faltimos 7 d\\u00edas\"}]}}, {\"mode\": \"vega-lite\"});\n",
       "</script>"
      ],
      "text/plain": [
       "alt.LayerChart(...)"
      ]
     },
     "execution_count": 21,
     "metadata": {},
     "output_type": "execute_result"
    }
   ],
   "source": [
    "#hide_input\n",
    "bars, line = my_cases_plot(region)\n",
    "(bars + line).properties(\n",
    "    title=f'Covid-19 en Chile: Casos confirmados diarios en {region}',\n",
    "    width=600\n",
    ")"
   ]
  },
  {
   "cell_type": "markdown",
   "metadata": {},
   "source": [
    "## O'Higgins"
   ]
  },
  {
   "cell_type": "code",
   "execution_count": 22,
   "metadata": {
    "scrolled": true
   },
   "outputs": [],
   "source": [
    "#hide\n",
    "region = \"O’Higgins\""
   ]
  },
  {
   "cell_type": "code",
   "execution_count": 23,
   "metadata": {},
   "outputs": [
    {
     "data": {
      "text/html": [
       "\n",
       "<div id=\"altair-viz-749af03cfaac48c9b32e994a9b1eceed\"></div>\n",
       "<script type=\"text/javascript\">\n",
       "  (function(spec, embedOpt){\n",
       "    let outputDiv = document.currentScript.previousElementSibling;\n",
       "    if (outputDiv.id !== \"altair-viz-749af03cfaac48c9b32e994a9b1eceed\") {\n",
       "      outputDiv = document.getElementById(\"altair-viz-749af03cfaac48c9b32e994a9b1eceed\");\n",
       "    }\n",
       "    const paths = {\n",
       "      \"vega\": \"https://cdn.jsdelivr.net/npm//vega@5?noext\",\n",
       "      \"vega-lib\": \"https://cdn.jsdelivr.net/npm//vega-lib?noext\",\n",
       "      \"vega-lite\": \"https://cdn.jsdelivr.net/npm//vega-lite@4.8.1?noext\",\n",
       "      \"vega-embed\": \"https://cdn.jsdelivr.net/npm//vega-embed@6?noext\",\n",
       "    };\n",
       "\n",
       "    function loadScript(lib) {\n",
       "      return new Promise(function(resolve, reject) {\n",
       "        var s = document.createElement('script');\n",
       "        s.src = paths[lib];\n",
       "        s.async = true;\n",
       "        s.onload = () => resolve(paths[lib]);\n",
       "        s.onerror = () => reject(`Error loading script: ${paths[lib]}`);\n",
       "        document.getElementsByTagName(\"head\")[0].appendChild(s);\n",
       "      });\n",
       "    }\n",
       "\n",
       "    function showError(err) {\n",
       "      outputDiv.innerHTML = `<div class=\"error\" style=\"color:red;\">${err}</div>`;\n",
       "      throw err;\n",
       "    }\n",
       "\n",
       "    function displayChart(vegaEmbed) {\n",
       "      vegaEmbed(outputDiv, spec, embedOpt)\n",
       "        .catch(err => showError(`Javascript Error: ${err.message}<br>This usually means there's a typo in your chart specification. See the javascript console for the full traceback.`));\n",
       "    }\n",
       "\n",
       "    if(typeof define === \"function\" && define.amd) {\n",
       "      requirejs.config({paths});\n",
       "      require([\"vega-embed\"], displayChart, err => showError(`Error loading script: ${err.message}`));\n",
       "    } else if (typeof vegaEmbed === \"function\") {\n",
       "      displayChart(vegaEmbed);\n",
       "    } else {\n",
       "      loadScript(\"vega\")\n",
       "        .then(() => loadScript(\"vega-lite\"))\n",
       "        .then(() => loadScript(\"vega-embed\"))\n",
       "        .catch(showError)\n",
       "        .then(() => displayChart(vegaEmbed));\n",
       "    }\n",
       "  })({\"config\": {\"view\": {\"continuousWidth\": 400, \"continuousHeight\": 300}}, \"layer\": [{\"mark\": {\"type\": \"bar\", \"opacity\": 0.7}, \"encoding\": {\"opacity\": {\"type\": \"nominal\", \"field\": \"Casos confirmados diarios\", \"legend\": {\"title\": \"\"}}, \"tooltip\": [{\"type\": \"nominal\", \"field\": \"Fecha\"}, {\"type\": \"quantitative\", \"field\": \"Casos confirmados\"}], \"x\": {\"type\": \"nominal\", \"axis\": {\"title\": \"Fecha (a\\u00f1o-mes-d\\u00eda)\"}, \"field\": \"Fecha\"}, \"y\": {\"type\": \"quantitative\", \"axis\": {\"title\": \"Casos confirmados diarios\"}, \"field\": \"Casos confirmados\"}}}, {\"mark\": {\"type\": \"line\", \"color\": \"#1f77b4\", \"point\": {\"filled\": true, \"fill\": \"#1f77b4\"}}, \"encoding\": {\"shape\": {\"type\": \"nominal\", \"field\": \"Promedio m\\u00f3vil \\u00faltimos 7 d\\u00edas\", \"legend\": {\"title\": \"\"}}, \"x\": {\"type\": \"nominal\", \"axis\": {\"title\": \"Fecha (a\\u00f1o-mes-d\\u00eda)\"}, \"field\": \"Fecha\"}, \"y\": {\"type\": \"quantitative\", \"field\": \"Rolling\"}}}], \"data\": {\"name\": \"data-d3ea5d80ff647d220837f03a76e2b2d2\"}, \"title\": \"Covid-19 en Chile: Casos confirmados diarios en O\\u2019Higgins\", \"width\": 600, \"$schema\": \"https://vega.github.io/schema/vega-lite/v4.8.1.json\", \"datasets\": {\"data-d3ea5d80ff647d220837f03a76e2b2d2\": [{\"Fecha\": \"2020-03-04\", \"Casos confirmados\": 0, \"Rolling\": null, \"Casos confirmados diarios\": \"Casos confirmados diarios\", \"Promedio m\\u00f3vil \\u00faltimos 7 d\\u00edas\": \"Promedio m\\u00f3vil \\u00faltimos 7 d\\u00edas\"}, {\"Fecha\": \"2020-03-05\", \"Casos confirmados\": 0, \"Rolling\": null, \"Casos confirmados diarios\": \"Casos confirmados diarios\", \"Promedio m\\u00f3vil \\u00faltimos 7 d\\u00edas\": \"Promedio m\\u00f3vil \\u00faltimos 7 d\\u00edas\"}, {\"Fecha\": \"2020-03-06\", \"Casos confirmados\": 0, \"Rolling\": null, \"Casos confirmados diarios\": \"Casos confirmados diarios\", \"Promedio m\\u00f3vil \\u00faltimos 7 d\\u00edas\": \"Promedio m\\u00f3vil \\u00faltimos 7 d\\u00edas\"}, {\"Fecha\": \"2020-03-07\", \"Casos confirmados\": 0, \"Rolling\": null, \"Casos confirmados diarios\": \"Casos confirmados diarios\", \"Promedio m\\u00f3vil \\u00faltimos 7 d\\u00edas\": \"Promedio m\\u00f3vil \\u00faltimos 7 d\\u00edas\"}, {\"Fecha\": \"2020-03-08\", \"Casos confirmados\": 0, \"Rolling\": null, \"Casos confirmados diarios\": \"Casos confirmados diarios\", \"Promedio m\\u00f3vil \\u00faltimos 7 d\\u00edas\": \"Promedio m\\u00f3vil \\u00faltimos 7 d\\u00edas\"}, {\"Fecha\": \"2020-03-09\", \"Casos confirmados\": 0, \"Rolling\": null, \"Casos confirmados diarios\": \"Casos confirmados diarios\", \"Promedio m\\u00f3vil \\u00faltimos 7 d\\u00edas\": \"Promedio m\\u00f3vil \\u00faltimos 7 d\\u00edas\"}, {\"Fecha\": \"2020-03-10\", \"Casos confirmados\": 0, \"Rolling\": 0.0, \"Casos confirmados diarios\": \"Casos confirmados diarios\", \"Promedio m\\u00f3vil \\u00faltimos 7 d\\u00edas\": \"Promedio m\\u00f3vil \\u00faltimos 7 d\\u00edas\"}, {\"Fecha\": \"2020-03-11\", \"Casos confirmados\": 0, \"Rolling\": 0.0, \"Casos confirmados diarios\": \"Casos confirmados diarios\", \"Promedio m\\u00f3vil \\u00faltimos 7 d\\u00edas\": \"Promedio m\\u00f3vil \\u00faltimos 7 d\\u00edas\"}, {\"Fecha\": \"2020-03-12\", \"Casos confirmados\": 0, \"Rolling\": 0.0, \"Casos confirmados diarios\": \"Casos confirmados diarios\", \"Promedio m\\u00f3vil \\u00faltimos 7 d\\u00edas\": \"Promedio m\\u00f3vil \\u00faltimos 7 d\\u00edas\"}, {\"Fecha\": \"2020-03-13\", \"Casos confirmados\": 0, \"Rolling\": 0.0, \"Casos confirmados diarios\": \"Casos confirmados diarios\", \"Promedio m\\u00f3vil \\u00faltimos 7 d\\u00edas\": \"Promedio m\\u00f3vil \\u00faltimos 7 d\\u00edas\"}, {\"Fecha\": \"2020-03-14\", \"Casos confirmados\": 0, \"Rolling\": 0.0, \"Casos confirmados diarios\": \"Casos confirmados diarios\", \"Promedio m\\u00f3vil \\u00faltimos 7 d\\u00edas\": \"Promedio m\\u00f3vil \\u00faltimos 7 d\\u00edas\"}, {\"Fecha\": \"2020-03-15\", \"Casos confirmados\": 0, \"Rolling\": 0.0, \"Casos confirmados diarios\": \"Casos confirmados diarios\", \"Promedio m\\u00f3vil \\u00faltimos 7 d\\u00edas\": \"Promedio m\\u00f3vil \\u00faltimos 7 d\\u00edas\"}, {\"Fecha\": \"2020-03-16\", \"Casos confirmados\": 0, \"Rolling\": 0.0, \"Casos confirmados diarios\": \"Casos confirmados diarios\", \"Promedio m\\u00f3vil \\u00faltimos 7 d\\u00edas\": \"Promedio m\\u00f3vil \\u00faltimos 7 d\\u00edas\"}, {\"Fecha\": \"2020-03-17\", \"Casos confirmados\": 0, \"Rolling\": 0.0, \"Casos confirmados diarios\": \"Casos confirmados diarios\", \"Promedio m\\u00f3vil \\u00faltimos 7 d\\u00edas\": \"Promedio m\\u00f3vil \\u00faltimos 7 d\\u00edas\"}, {\"Fecha\": \"2020-03-18\", \"Casos confirmados\": 0, \"Rolling\": 0.0, \"Casos confirmados diarios\": \"Casos confirmados diarios\", \"Promedio m\\u00f3vil \\u00faltimos 7 d\\u00edas\": \"Promedio m\\u00f3vil \\u00faltimos 7 d\\u00edas\"}, {\"Fecha\": \"2020-03-19\", \"Casos confirmados\": 2, \"Rolling\": 0.2857142857142857, \"Casos confirmados diarios\": \"Casos confirmados diarios\", \"Promedio m\\u00f3vil \\u00faltimos 7 d\\u00edas\": \"Promedio m\\u00f3vil \\u00faltimos 7 d\\u00edas\"}, {\"Fecha\": \"2020-03-20\", \"Casos confirmados\": 4, \"Rolling\": 0.8571428571428571, \"Casos confirmados diarios\": \"Casos confirmados diarios\", \"Promedio m\\u00f3vil \\u00faltimos 7 d\\u00edas\": \"Promedio m\\u00f3vil \\u00faltimos 7 d\\u00edas\"}, {\"Fecha\": \"2020-03-21\", \"Casos confirmados\": 1, \"Rolling\": 1.0, \"Casos confirmados diarios\": \"Casos confirmados diarios\", \"Promedio m\\u00f3vil \\u00faltimos 7 d\\u00edas\": \"Promedio m\\u00f3vil \\u00faltimos 7 d\\u00edas\"}, {\"Fecha\": \"2020-03-22\", \"Casos confirmados\": 1, \"Rolling\": 1.1428571428571428, \"Casos confirmados diarios\": \"Casos confirmados diarios\", \"Promedio m\\u00f3vil \\u00faltimos 7 d\\u00edas\": \"Promedio m\\u00f3vil \\u00faltimos 7 d\\u00edas\"}, {\"Fecha\": \"2020-03-23\", \"Casos confirmados\": 0, \"Rolling\": 1.1428571428571428, \"Casos confirmados diarios\": \"Casos confirmados diarios\", \"Promedio m\\u00f3vil \\u00faltimos 7 d\\u00edas\": \"Promedio m\\u00f3vil \\u00faltimos 7 d\\u00edas\"}, {\"Fecha\": \"2020-03-24\", \"Casos confirmados\": 1, \"Rolling\": 1.2857142857142858, \"Casos confirmados diarios\": \"Casos confirmados diarios\", \"Promedio m\\u00f3vil \\u00faltimos 7 d\\u00edas\": \"Promedio m\\u00f3vil \\u00faltimos 7 d\\u00edas\"}, {\"Fecha\": \"2020-03-25\", \"Casos confirmados\": 2, \"Rolling\": 1.5714285714285714, \"Casos confirmados diarios\": \"Casos confirmados diarios\", \"Promedio m\\u00f3vil \\u00faltimos 7 d\\u00edas\": \"Promedio m\\u00f3vil \\u00faltimos 7 d\\u00edas\"}, {\"Fecha\": \"2020-03-26\", \"Casos confirmados\": 3, \"Rolling\": 1.7142857142857142, \"Casos confirmados diarios\": \"Casos confirmados diarios\", \"Promedio m\\u00f3vil \\u00faltimos 7 d\\u00edas\": \"Promedio m\\u00f3vil \\u00faltimos 7 d\\u00edas\"}, {\"Fecha\": \"2020-03-27\", \"Casos confirmados\": 2, \"Rolling\": 1.4285714285714286, \"Casos confirmados diarios\": \"Casos confirmados diarios\", \"Promedio m\\u00f3vil \\u00faltimos 7 d\\u00edas\": \"Promedio m\\u00f3vil \\u00faltimos 7 d\\u00edas\"}, {\"Fecha\": \"2020-03-28\", \"Casos confirmados\": 4, \"Rolling\": 1.8571428571428572, \"Casos confirmados diarios\": \"Casos confirmados diarios\", \"Promedio m\\u00f3vil \\u00faltimos 7 d\\u00edas\": \"Promedio m\\u00f3vil \\u00faltimos 7 d\\u00edas\"}, {\"Fecha\": \"2020-03-29\", \"Casos confirmados\": 1, \"Rolling\": 1.8571428571428572, \"Casos confirmados diarios\": \"Casos confirmados diarios\", \"Promedio m\\u00f3vil \\u00faltimos 7 d\\u00edas\": \"Promedio m\\u00f3vil \\u00faltimos 7 d\\u00edas\"}, {\"Fecha\": \"2020-03-30\", \"Casos confirmados\": 0, \"Rolling\": 1.8571428571428572, \"Casos confirmados diarios\": \"Casos confirmados diarios\", \"Promedio m\\u00f3vil \\u00faltimos 7 d\\u00edas\": \"Promedio m\\u00f3vil \\u00faltimos 7 d\\u00edas\"}, {\"Fecha\": \"2020-03-31\", \"Casos confirmados\": 2, \"Rolling\": 2.0, \"Casos confirmados diarios\": \"Casos confirmados diarios\", \"Promedio m\\u00f3vil \\u00faltimos 7 d\\u00edas\": \"Promedio m\\u00f3vil \\u00faltimos 7 d\\u00edas\"}, {\"Fecha\": \"2020-04-01\", \"Casos confirmados\": 3, \"Rolling\": 2.142857142857143, \"Casos confirmados diarios\": \"Casos confirmados diarios\", \"Promedio m\\u00f3vil \\u00faltimos 7 d\\u00edas\": \"Promedio m\\u00f3vil \\u00faltimos 7 d\\u00edas\"}, {\"Fecha\": \"2020-04-02\", \"Casos confirmados\": 6, \"Rolling\": 2.5714285714285716, \"Casos confirmados diarios\": \"Casos confirmados diarios\", \"Promedio m\\u00f3vil \\u00faltimos 7 d\\u00edas\": \"Promedio m\\u00f3vil \\u00faltimos 7 d\\u00edas\"}, {\"Fecha\": \"2020-04-03\", \"Casos confirmados\": 1, \"Rolling\": 2.4285714285714284, \"Casos confirmados diarios\": \"Casos confirmados diarios\", \"Promedio m\\u00f3vil \\u00faltimos 7 d\\u00edas\": \"Promedio m\\u00f3vil \\u00faltimos 7 d\\u00edas\"}, {\"Fecha\": \"2020-04-04\", \"Casos confirmados\": 5, \"Rolling\": 2.5714285714285716, \"Casos confirmados diarios\": \"Casos confirmados diarios\", \"Promedio m\\u00f3vil \\u00faltimos 7 d\\u00edas\": \"Promedio m\\u00f3vil \\u00faltimos 7 d\\u00edas\"}, {\"Fecha\": \"2020-04-05\", \"Casos confirmados\": 3, \"Rolling\": 2.857142857142857, \"Casos confirmados diarios\": \"Casos confirmados diarios\", \"Promedio m\\u00f3vil \\u00faltimos 7 d\\u00edas\": \"Promedio m\\u00f3vil \\u00faltimos 7 d\\u00edas\"}, {\"Fecha\": \"2020-04-06\", \"Casos confirmados\": 1, \"Rolling\": 3.0, \"Casos confirmados diarios\": \"Casos confirmados diarios\", \"Promedio m\\u00f3vil \\u00faltimos 7 d\\u00edas\": \"Promedio m\\u00f3vil \\u00faltimos 7 d\\u00edas\"}, {\"Fecha\": \"2020-04-07\", \"Casos confirmados\": 0, \"Rolling\": 2.7142857142857144, \"Casos confirmados diarios\": \"Casos confirmados diarios\", \"Promedio m\\u00f3vil \\u00faltimos 7 d\\u00edas\": \"Promedio m\\u00f3vil \\u00faltimos 7 d\\u00edas\"}, {\"Fecha\": \"2020-04-08\", \"Casos confirmados\": 1, \"Rolling\": 2.4285714285714284, \"Casos confirmados diarios\": \"Casos confirmados diarios\", \"Promedio m\\u00f3vil \\u00faltimos 7 d\\u00edas\": \"Promedio m\\u00f3vil \\u00faltimos 7 d\\u00edas\"}, {\"Fecha\": \"2020-04-09\", \"Casos confirmados\": 1, \"Rolling\": 1.7142857142857142, \"Casos confirmados diarios\": \"Casos confirmados diarios\", \"Promedio m\\u00f3vil \\u00faltimos 7 d\\u00edas\": \"Promedio m\\u00f3vil \\u00faltimos 7 d\\u00edas\"}, {\"Fecha\": \"2020-04-10\", \"Casos confirmados\": 0, \"Rolling\": 1.5714285714285714, \"Casos confirmados diarios\": \"Casos confirmados diarios\", \"Promedio m\\u00f3vil \\u00faltimos 7 d\\u00edas\": \"Promedio m\\u00f3vil \\u00faltimos 7 d\\u00edas\"}, {\"Fecha\": \"2020-04-11\", \"Casos confirmados\": 1, \"Rolling\": 1.0, \"Casos confirmados diarios\": \"Casos confirmados diarios\", \"Promedio m\\u00f3vil \\u00faltimos 7 d\\u00edas\": \"Promedio m\\u00f3vil \\u00faltimos 7 d\\u00edas\"}, {\"Fecha\": \"2020-04-12\", \"Casos confirmados\": 1, \"Rolling\": 0.7142857142857143, \"Casos confirmados diarios\": \"Casos confirmados diarios\", \"Promedio m\\u00f3vil \\u00faltimos 7 d\\u00edas\": \"Promedio m\\u00f3vil \\u00faltimos 7 d\\u00edas\"}, {\"Fecha\": \"2020-04-13\", \"Casos confirmados\": 2, \"Rolling\": 0.8571428571428571, \"Casos confirmados diarios\": \"Casos confirmados diarios\", \"Promedio m\\u00f3vil \\u00faltimos 7 d\\u00edas\": \"Promedio m\\u00f3vil \\u00faltimos 7 d\\u00edas\"}, {\"Fecha\": \"2020-04-14\", \"Casos confirmados\": 5, \"Rolling\": 1.5714285714285714, \"Casos confirmados diarios\": \"Casos confirmados diarios\", \"Promedio m\\u00f3vil \\u00faltimos 7 d\\u00edas\": \"Promedio m\\u00f3vil \\u00faltimos 7 d\\u00edas\"}, {\"Fecha\": \"2020-04-15\", \"Casos confirmados\": 1, \"Rolling\": 1.5714285714285714, \"Casos confirmados diarios\": \"Casos confirmados diarios\", \"Promedio m\\u00f3vil \\u00faltimos 7 d\\u00edas\": \"Promedio m\\u00f3vil \\u00faltimos 7 d\\u00edas\"}, {\"Fecha\": \"2020-04-16\", \"Casos confirmados\": 0, \"Rolling\": 1.4285714285714286, \"Casos confirmados diarios\": \"Casos confirmados diarios\", \"Promedio m\\u00f3vil \\u00faltimos 7 d\\u00edas\": \"Promedio m\\u00f3vil \\u00faltimos 7 d\\u00edas\"}, {\"Fecha\": \"2020-04-17\", \"Casos confirmados\": 1, \"Rolling\": 1.5714285714285714, \"Casos confirmados diarios\": \"Casos confirmados diarios\", \"Promedio m\\u00f3vil \\u00faltimos 7 d\\u00edas\": \"Promedio m\\u00f3vil \\u00faltimos 7 d\\u00edas\"}, {\"Fecha\": \"2020-04-18\", \"Casos confirmados\": 0, \"Rolling\": 1.4285714285714286, \"Casos confirmados diarios\": \"Casos confirmados diarios\", \"Promedio m\\u00f3vil \\u00faltimos 7 d\\u00edas\": \"Promedio m\\u00f3vil \\u00faltimos 7 d\\u00edas\"}, {\"Fecha\": \"2020-04-19\", \"Casos confirmados\": 0, \"Rolling\": 1.2857142857142858, \"Casos confirmados diarios\": \"Casos confirmados diarios\", \"Promedio m\\u00f3vil \\u00faltimos 7 d\\u00edas\": \"Promedio m\\u00f3vil \\u00faltimos 7 d\\u00edas\"}, {\"Fecha\": \"2020-04-20\", \"Casos confirmados\": 1, \"Rolling\": 1.1428571428571428, \"Casos confirmados diarios\": \"Casos confirmados diarios\", \"Promedio m\\u00f3vil \\u00faltimos 7 d\\u00edas\": \"Promedio m\\u00f3vil \\u00faltimos 7 d\\u00edas\"}, {\"Fecha\": \"2020-04-21\", \"Casos confirmados\": 1, \"Rolling\": 0.5714285714285714, \"Casos confirmados diarios\": \"Casos confirmados diarios\", \"Promedio m\\u00f3vil \\u00faltimos 7 d\\u00edas\": \"Promedio m\\u00f3vil \\u00faltimos 7 d\\u00edas\"}, {\"Fecha\": \"2020-04-22\", \"Casos confirmados\": 2, \"Rolling\": 0.7142857142857143, \"Casos confirmados diarios\": \"Casos confirmados diarios\", \"Promedio m\\u00f3vil \\u00faltimos 7 d\\u00edas\": \"Promedio m\\u00f3vil \\u00faltimos 7 d\\u00edas\"}, {\"Fecha\": \"2020-04-23\", \"Casos confirmados\": 17, \"Rolling\": 3.142857142857143, \"Casos confirmados diarios\": \"Casos confirmados diarios\", \"Promedio m\\u00f3vil \\u00faltimos 7 d\\u00edas\": \"Promedio m\\u00f3vil \\u00faltimos 7 d\\u00edas\"}, {\"Fecha\": \"2020-04-24\", \"Casos confirmados\": 5, \"Rolling\": 3.7142857142857144, \"Casos confirmados diarios\": \"Casos confirmados diarios\", \"Promedio m\\u00f3vil \\u00faltimos 7 d\\u00edas\": \"Promedio m\\u00f3vil \\u00faltimos 7 d\\u00edas\"}, {\"Fecha\": \"2020-04-25\", \"Casos confirmados\": 4, \"Rolling\": 4.285714285714286, \"Casos confirmados diarios\": \"Casos confirmados diarios\", \"Promedio m\\u00f3vil \\u00faltimos 7 d\\u00edas\": \"Promedio m\\u00f3vil \\u00faltimos 7 d\\u00edas\"}, {\"Fecha\": \"2020-04-26\", \"Casos confirmados\": 7, \"Rolling\": 5.285714285714286, \"Casos confirmados diarios\": \"Casos confirmados diarios\", \"Promedio m\\u00f3vil \\u00faltimos 7 d\\u00edas\": \"Promedio m\\u00f3vil \\u00faltimos 7 d\\u00edas\"}, {\"Fecha\": \"2020-04-27\", \"Casos confirmados\": 2, \"Rolling\": 5.428571428571429, \"Casos confirmados diarios\": \"Casos confirmados diarios\", \"Promedio m\\u00f3vil \\u00faltimos 7 d\\u00edas\": \"Promedio m\\u00f3vil \\u00faltimos 7 d\\u00edas\"}, {\"Fecha\": \"2020-04-28\", \"Casos confirmados\": 3, \"Rolling\": 5.714285714285714, \"Casos confirmados diarios\": \"Casos confirmados diarios\", \"Promedio m\\u00f3vil \\u00faltimos 7 d\\u00edas\": \"Promedio m\\u00f3vil \\u00faltimos 7 d\\u00edas\"}, {\"Fecha\": \"2020-04-29\", \"Casos confirmados\": 7, \"Rolling\": 6.428571428571429, \"Casos confirmados diarios\": \"Casos confirmados diarios\", \"Promedio m\\u00f3vil \\u00faltimos 7 d\\u00edas\": \"Promedio m\\u00f3vil \\u00faltimos 7 d\\u00edas\"}, {\"Fecha\": \"2020-04-30\", \"Casos confirmados\": 4, \"Rolling\": 4.571428571428571, \"Casos confirmados diarios\": \"Casos confirmados diarios\", \"Promedio m\\u00f3vil \\u00faltimos 7 d\\u00edas\": \"Promedio m\\u00f3vil \\u00faltimos 7 d\\u00edas\"}, {\"Fecha\": \"2020-05-01\", \"Casos confirmados\": 1, \"Rolling\": 4.0, \"Casos confirmados diarios\": \"Casos confirmados diarios\", \"Promedio m\\u00f3vil \\u00faltimos 7 d\\u00edas\": \"Promedio m\\u00f3vil \\u00faltimos 7 d\\u00edas\"}, {\"Fecha\": \"2020-05-02\", \"Casos confirmados\": 11, \"Rolling\": 5.0, \"Casos confirmados diarios\": \"Casos confirmados diarios\", \"Promedio m\\u00f3vil \\u00faltimos 7 d\\u00edas\": \"Promedio m\\u00f3vil \\u00faltimos 7 d\\u00edas\"}, {\"Fecha\": \"2020-05-03\", \"Casos confirmados\": 5, \"Rolling\": 4.714285714285714, \"Casos confirmados diarios\": \"Casos confirmados diarios\", \"Promedio m\\u00f3vil \\u00faltimos 7 d\\u00edas\": \"Promedio m\\u00f3vil \\u00faltimos 7 d\\u00edas\"}, {\"Fecha\": \"2020-05-04\", \"Casos confirmados\": 6, \"Rolling\": 5.285714285714286, \"Casos confirmados diarios\": \"Casos confirmados diarios\", \"Promedio m\\u00f3vil \\u00faltimos 7 d\\u00edas\": \"Promedio m\\u00f3vil \\u00faltimos 7 d\\u00edas\"}, {\"Fecha\": \"2020-05-05\", \"Casos confirmados\": 5, \"Rolling\": 5.571428571428571, \"Casos confirmados diarios\": \"Casos confirmados diarios\", \"Promedio m\\u00f3vil \\u00faltimos 7 d\\u00edas\": \"Promedio m\\u00f3vil \\u00faltimos 7 d\\u00edas\"}, {\"Fecha\": \"2020-05-06\", \"Casos confirmados\": 9, \"Rolling\": 5.857142857142857, \"Casos confirmados diarios\": \"Casos confirmados diarios\", \"Promedio m\\u00f3vil \\u00faltimos 7 d\\u00edas\": \"Promedio m\\u00f3vil \\u00faltimos 7 d\\u00edas\"}, {\"Fecha\": \"2020-05-07\", \"Casos confirmados\": 6, \"Rolling\": 6.142857142857143, \"Casos confirmados diarios\": \"Casos confirmados diarios\", \"Promedio m\\u00f3vil \\u00faltimos 7 d\\u00edas\": \"Promedio m\\u00f3vil \\u00faltimos 7 d\\u00edas\"}, {\"Fecha\": \"2020-05-08\", \"Casos confirmados\": 16, \"Rolling\": 8.285714285714286, \"Casos confirmados diarios\": \"Casos confirmados diarios\", \"Promedio m\\u00f3vil \\u00faltimos 7 d\\u00edas\": \"Promedio m\\u00f3vil \\u00faltimos 7 d\\u00edas\"}, {\"Fecha\": \"2020-05-09\", \"Casos confirmados\": 15, \"Rolling\": 8.857142857142858, \"Casos confirmados diarios\": \"Casos confirmados diarios\", \"Promedio m\\u00f3vil \\u00faltimos 7 d\\u00edas\": \"Promedio m\\u00f3vil \\u00faltimos 7 d\\u00edas\"}, {\"Fecha\": \"2020-05-10\", \"Casos confirmados\": 13, \"Rolling\": 10.0, \"Casos confirmados diarios\": \"Casos confirmados diarios\", \"Promedio m\\u00f3vil \\u00faltimos 7 d\\u00edas\": \"Promedio m\\u00f3vil \\u00faltimos 7 d\\u00edas\"}, {\"Fecha\": \"2020-05-11\", \"Casos confirmados\": 21, \"Rolling\": 12.142857142857142, \"Casos confirmados diarios\": \"Casos confirmados diarios\", \"Promedio m\\u00f3vil \\u00faltimos 7 d\\u00edas\": \"Promedio m\\u00f3vil \\u00faltimos 7 d\\u00edas\"}, {\"Fecha\": \"2020-05-12\", \"Casos confirmados\": 8, \"Rolling\": 12.571428571428571, \"Casos confirmados diarios\": \"Casos confirmados diarios\", \"Promedio m\\u00f3vil \\u00faltimos 7 d\\u00edas\": \"Promedio m\\u00f3vil \\u00faltimos 7 d\\u00edas\"}, {\"Fecha\": \"2020-05-13\", \"Casos confirmados\": 24, \"Rolling\": 14.714285714285714, \"Casos confirmados diarios\": \"Casos confirmados diarios\", \"Promedio m\\u00f3vil \\u00faltimos 7 d\\u00edas\": \"Promedio m\\u00f3vil \\u00faltimos 7 d\\u00edas\"}]}}, {\"mode\": \"vega-lite\"});\n",
       "</script>"
      ],
      "text/plain": [
       "alt.LayerChart(...)"
      ]
     },
     "execution_count": 23,
     "metadata": {},
     "output_type": "execute_result"
    }
   ],
   "source": [
    "#hide_input\n",
    "bars, line = my_cases_plot(region)\n",
    "(bars + line).properties(\n",
    "    title=f'Covid-19 en Chile: Casos confirmados diarios en {region}',\n",
    "    width=600\n",
    ")"
   ]
  },
  {
   "cell_type": "markdown",
   "metadata": {},
   "source": [
    "## Maule"
   ]
  },
  {
   "cell_type": "code",
   "execution_count": 24,
   "metadata": {
    "scrolled": true
   },
   "outputs": [],
   "source": [
    "#hide\n",
    "region = \"Maule\""
   ]
  },
  {
   "cell_type": "code",
   "execution_count": 25,
   "metadata": {},
   "outputs": [
    {
     "data": {
      "text/html": [
       "\n",
       "<div id=\"altair-viz-20af38127b0644bfa0db318cc286b103\"></div>\n",
       "<script type=\"text/javascript\">\n",
       "  (function(spec, embedOpt){\n",
       "    let outputDiv = document.currentScript.previousElementSibling;\n",
       "    if (outputDiv.id !== \"altair-viz-20af38127b0644bfa0db318cc286b103\") {\n",
       "      outputDiv = document.getElementById(\"altair-viz-20af38127b0644bfa0db318cc286b103\");\n",
       "    }\n",
       "    const paths = {\n",
       "      \"vega\": \"https://cdn.jsdelivr.net/npm//vega@5?noext\",\n",
       "      \"vega-lib\": \"https://cdn.jsdelivr.net/npm//vega-lib?noext\",\n",
       "      \"vega-lite\": \"https://cdn.jsdelivr.net/npm//vega-lite@4.8.1?noext\",\n",
       "      \"vega-embed\": \"https://cdn.jsdelivr.net/npm//vega-embed@6?noext\",\n",
       "    };\n",
       "\n",
       "    function loadScript(lib) {\n",
       "      return new Promise(function(resolve, reject) {\n",
       "        var s = document.createElement('script');\n",
       "        s.src = paths[lib];\n",
       "        s.async = true;\n",
       "        s.onload = () => resolve(paths[lib]);\n",
       "        s.onerror = () => reject(`Error loading script: ${paths[lib]}`);\n",
       "        document.getElementsByTagName(\"head\")[0].appendChild(s);\n",
       "      });\n",
       "    }\n",
       "\n",
       "    function showError(err) {\n",
       "      outputDiv.innerHTML = `<div class=\"error\" style=\"color:red;\">${err}</div>`;\n",
       "      throw err;\n",
       "    }\n",
       "\n",
       "    function displayChart(vegaEmbed) {\n",
       "      vegaEmbed(outputDiv, spec, embedOpt)\n",
       "        .catch(err => showError(`Javascript Error: ${err.message}<br>This usually means there's a typo in your chart specification. See the javascript console for the full traceback.`));\n",
       "    }\n",
       "\n",
       "    if(typeof define === \"function\" && define.amd) {\n",
       "      requirejs.config({paths});\n",
       "      require([\"vega-embed\"], displayChart, err => showError(`Error loading script: ${err.message}`));\n",
       "    } else if (typeof vegaEmbed === \"function\") {\n",
       "      displayChart(vegaEmbed);\n",
       "    } else {\n",
       "      loadScript(\"vega\")\n",
       "        .then(() => loadScript(\"vega-lite\"))\n",
       "        .then(() => loadScript(\"vega-embed\"))\n",
       "        .catch(showError)\n",
       "        .then(() => displayChart(vegaEmbed));\n",
       "    }\n",
       "  })({\"config\": {\"view\": {\"continuousWidth\": 400, \"continuousHeight\": 300}}, \"layer\": [{\"mark\": {\"type\": \"bar\", \"opacity\": 0.7}, \"encoding\": {\"opacity\": {\"type\": \"nominal\", \"field\": \"Casos confirmados diarios\", \"legend\": {\"title\": \"\"}}, \"tooltip\": [{\"type\": \"nominal\", \"field\": \"Fecha\"}, {\"type\": \"quantitative\", \"field\": \"Casos confirmados\"}], \"x\": {\"type\": \"nominal\", \"axis\": {\"title\": \"Fecha (a\\u00f1o-mes-d\\u00eda)\"}, \"field\": \"Fecha\"}, \"y\": {\"type\": \"quantitative\", \"axis\": {\"title\": \"Casos confirmados diarios\"}, \"field\": \"Casos confirmados\"}}}, {\"mark\": {\"type\": \"line\", \"color\": \"#1f77b4\", \"point\": {\"filled\": true, \"fill\": \"#1f77b4\"}}, \"encoding\": {\"shape\": {\"type\": \"nominal\", \"field\": \"Promedio m\\u00f3vil \\u00faltimos 7 d\\u00edas\", \"legend\": {\"title\": \"\"}}, \"x\": {\"type\": \"nominal\", \"axis\": {\"title\": \"Fecha (a\\u00f1o-mes-d\\u00eda)\"}, \"field\": \"Fecha\"}, \"y\": {\"type\": \"quantitative\", \"field\": \"Rolling\"}}}], \"data\": {\"name\": \"data-a84ca085fe78292c88e4f8affb67faaa\"}, \"title\": \"Covid-19 en Chile: Casos confirmados diarios en Maule\", \"width\": 600, \"$schema\": \"https://vega.github.io/schema/vega-lite/v4.8.1.json\", \"datasets\": {\"data-a84ca085fe78292c88e4f8affb67faaa\": [{\"Fecha\": \"2020-03-04\", \"Casos confirmados\": 1, \"Rolling\": null, \"Casos confirmados diarios\": \"Casos confirmados diarios\", \"Promedio m\\u00f3vil \\u00faltimos 7 d\\u00edas\": \"Promedio m\\u00f3vil \\u00faltimos 7 d\\u00edas\"}, {\"Fecha\": \"2020-03-05\", \"Casos confirmados\": 0, \"Rolling\": null, \"Casos confirmados diarios\": \"Casos confirmados diarios\", \"Promedio m\\u00f3vil \\u00faltimos 7 d\\u00edas\": \"Promedio m\\u00f3vil \\u00faltimos 7 d\\u00edas\"}, {\"Fecha\": \"2020-03-06\", \"Casos confirmados\": 0, \"Rolling\": null, \"Casos confirmados diarios\": \"Casos confirmados diarios\", \"Promedio m\\u00f3vil \\u00faltimos 7 d\\u00edas\": \"Promedio m\\u00f3vil \\u00faltimos 7 d\\u00edas\"}, {\"Fecha\": \"2020-03-07\", \"Casos confirmados\": 0, \"Rolling\": null, \"Casos confirmados diarios\": \"Casos confirmados diarios\", \"Promedio m\\u00f3vil \\u00faltimos 7 d\\u00edas\": \"Promedio m\\u00f3vil \\u00faltimos 7 d\\u00edas\"}, {\"Fecha\": \"2020-03-08\", \"Casos confirmados\": 1, \"Rolling\": null, \"Casos confirmados diarios\": \"Casos confirmados diarios\", \"Promedio m\\u00f3vil \\u00faltimos 7 d\\u00edas\": \"Promedio m\\u00f3vil \\u00faltimos 7 d\\u00edas\"}, {\"Fecha\": \"2020-03-09\", \"Casos confirmados\": 1, \"Rolling\": null, \"Casos confirmados diarios\": \"Casos confirmados diarios\", \"Promedio m\\u00f3vil \\u00faltimos 7 d\\u00edas\": \"Promedio m\\u00f3vil \\u00faltimos 7 d\\u00edas\"}, {\"Fecha\": \"2020-03-10\", \"Casos confirmados\": 1, \"Rolling\": 0.5714285714285714, \"Casos confirmados diarios\": \"Casos confirmados diarios\", \"Promedio m\\u00f3vil \\u00faltimos 7 d\\u00edas\": \"Promedio m\\u00f3vil \\u00faltimos 7 d\\u00edas\"}, {\"Fecha\": \"2020-03-11\", \"Casos confirmados\": 2, \"Rolling\": 0.7142857142857143, \"Casos confirmados diarios\": \"Casos confirmados diarios\", \"Promedio m\\u00f3vil \\u00faltimos 7 d\\u00edas\": \"Promedio m\\u00f3vil \\u00faltimos 7 d\\u00edas\"}, {\"Fecha\": \"2020-03-12\", \"Casos confirmados\": 0, \"Rolling\": 0.7142857142857143, \"Casos confirmados diarios\": \"Casos confirmados diarios\", \"Promedio m\\u00f3vil \\u00faltimos 7 d\\u00edas\": \"Promedio m\\u00f3vil \\u00faltimos 7 d\\u00edas\"}, {\"Fecha\": \"2020-03-13\", \"Casos confirmados\": 1, \"Rolling\": 0.8571428571428571, \"Casos confirmados diarios\": \"Casos confirmados diarios\", \"Promedio m\\u00f3vil \\u00faltimos 7 d\\u00edas\": \"Promedio m\\u00f3vil \\u00faltimos 7 d\\u00edas\"}, {\"Fecha\": \"2020-03-14\", \"Casos confirmados\": 1, \"Rolling\": 1.0, \"Casos confirmados diarios\": \"Casos confirmados diarios\", \"Promedio m\\u00f3vil \\u00faltimos 7 d\\u00edas\": \"Promedio m\\u00f3vil \\u00faltimos 7 d\\u00edas\"}, {\"Fecha\": \"2020-03-15\", \"Casos confirmados\": 0, \"Rolling\": 0.8571428571428571, \"Casos confirmados diarios\": \"Casos confirmados diarios\", \"Promedio m\\u00f3vil \\u00faltimos 7 d\\u00edas\": \"Promedio m\\u00f3vil \\u00faltimos 7 d\\u00edas\"}, {\"Fecha\": \"2020-03-16\", \"Casos confirmados\": 0, \"Rolling\": 0.7142857142857143, \"Casos confirmados diarios\": \"Casos confirmados diarios\", \"Promedio m\\u00f3vil \\u00faltimos 7 d\\u00edas\": \"Promedio m\\u00f3vil \\u00faltimos 7 d\\u00edas\"}, {\"Fecha\": \"2020-03-17\", \"Casos confirmados\": 0, \"Rolling\": 0.5714285714285714, \"Casos confirmados diarios\": \"Casos confirmados diarios\", \"Promedio m\\u00f3vil \\u00faltimos 7 d\\u00edas\": \"Promedio m\\u00f3vil \\u00faltimos 7 d\\u00edas\"}, {\"Fecha\": \"2020-03-18\", \"Casos confirmados\": 2, \"Rolling\": 0.5714285714285714, \"Casos confirmados diarios\": \"Casos confirmados diarios\", \"Promedio m\\u00f3vil \\u00faltimos 7 d\\u00edas\": \"Promedio m\\u00f3vil \\u00faltimos 7 d\\u00edas\"}, {\"Fecha\": \"2020-03-19\", \"Casos confirmados\": 3, \"Rolling\": 1.0, \"Casos confirmados diarios\": \"Casos confirmados diarios\", \"Promedio m\\u00f3vil \\u00faltimos 7 d\\u00edas\": \"Promedio m\\u00f3vil \\u00faltimos 7 d\\u00edas\"}, {\"Fecha\": \"2020-03-20\", \"Casos confirmados\": 0, \"Rolling\": 0.8571428571428571, \"Casos confirmados diarios\": \"Casos confirmados diarios\", \"Promedio m\\u00f3vil \\u00faltimos 7 d\\u00edas\": \"Promedio m\\u00f3vil \\u00faltimos 7 d\\u00edas\"}, {\"Fecha\": \"2020-03-21\", \"Casos confirmados\": 1, \"Rolling\": 0.8571428571428571, \"Casos confirmados diarios\": \"Casos confirmados diarios\", \"Promedio m\\u00f3vil \\u00faltimos 7 d\\u00edas\": \"Promedio m\\u00f3vil \\u00faltimos 7 d\\u00edas\"}, {\"Fecha\": \"2020-03-22\", \"Casos confirmados\": 10, \"Rolling\": 2.2857142857142856, \"Casos confirmados diarios\": \"Casos confirmados diarios\", \"Promedio m\\u00f3vil \\u00faltimos 7 d\\u00edas\": \"Promedio m\\u00f3vil \\u00faltimos 7 d\\u00edas\"}, {\"Fecha\": \"2020-03-23\", \"Casos confirmados\": 3, \"Rolling\": 2.7142857142857144, \"Casos confirmados diarios\": \"Casos confirmados diarios\", \"Promedio m\\u00f3vil \\u00faltimos 7 d\\u00edas\": \"Promedio m\\u00f3vil \\u00faltimos 7 d\\u00edas\"}, {\"Fecha\": \"2020-03-24\", \"Casos confirmados\": 1, \"Rolling\": 2.857142857142857, \"Casos confirmados diarios\": \"Casos confirmados diarios\", \"Promedio m\\u00f3vil \\u00faltimos 7 d\\u00edas\": \"Promedio m\\u00f3vil \\u00faltimos 7 d\\u00edas\"}, {\"Fecha\": \"2020-03-25\", \"Casos confirmados\": 1, \"Rolling\": 2.7142857142857144, \"Casos confirmados diarios\": \"Casos confirmados diarios\", \"Promedio m\\u00f3vil \\u00faltimos 7 d\\u00edas\": \"Promedio m\\u00f3vil \\u00faltimos 7 d\\u00edas\"}, {\"Fecha\": \"2020-03-26\", \"Casos confirmados\": 1, \"Rolling\": 2.4285714285714284, \"Casos confirmados diarios\": \"Casos confirmados diarios\", \"Promedio m\\u00f3vil \\u00faltimos 7 d\\u00edas\": \"Promedio m\\u00f3vil \\u00faltimos 7 d\\u00edas\"}, {\"Fecha\": \"2020-03-27\", \"Casos confirmados\": 1, \"Rolling\": 2.5714285714285716, \"Casos confirmados diarios\": \"Casos confirmados diarios\", \"Promedio m\\u00f3vil \\u00faltimos 7 d\\u00edas\": \"Promedio m\\u00f3vil \\u00faltimos 7 d\\u00edas\"}, {\"Fecha\": \"2020-03-28\", \"Casos confirmados\": 5, \"Rolling\": 3.142857142857143, \"Casos confirmados diarios\": \"Casos confirmados diarios\", \"Promedio m\\u00f3vil \\u00faltimos 7 d\\u00edas\": \"Promedio m\\u00f3vil \\u00faltimos 7 d\\u00edas\"}, {\"Fecha\": \"2020-03-29\", \"Casos confirmados\": 5, \"Rolling\": 2.4285714285714284, \"Casos confirmados diarios\": \"Casos confirmados diarios\", \"Promedio m\\u00f3vil \\u00faltimos 7 d\\u00edas\": \"Promedio m\\u00f3vil \\u00faltimos 7 d\\u00edas\"}, {\"Fecha\": \"2020-03-30\", \"Casos confirmados\": 12, \"Rolling\": 3.7142857142857144, \"Casos confirmados diarios\": \"Casos confirmados diarios\", \"Promedio m\\u00f3vil \\u00faltimos 7 d\\u00edas\": \"Promedio m\\u00f3vil \\u00faltimos 7 d\\u00edas\"}, {\"Fecha\": \"2020-03-31\", \"Casos confirmados\": 8, \"Rolling\": 4.714285714285714, \"Casos confirmados diarios\": \"Casos confirmados diarios\", \"Promedio m\\u00f3vil \\u00faltimos 7 d\\u00edas\": \"Promedio m\\u00f3vil \\u00faltimos 7 d\\u00edas\"}, {\"Fecha\": \"2020-04-01\", \"Casos confirmados\": 9, \"Rolling\": 5.857142857142857, \"Casos confirmados diarios\": \"Casos confirmados diarios\", \"Promedio m\\u00f3vil \\u00faltimos 7 d\\u00edas\": \"Promedio m\\u00f3vil \\u00faltimos 7 d\\u00edas\"}, {\"Fecha\": \"2020-04-02\", \"Casos confirmados\": 11, \"Rolling\": 7.285714285714286, \"Casos confirmados diarios\": \"Casos confirmados diarios\", \"Promedio m\\u00f3vil \\u00faltimos 7 d\\u00edas\": \"Promedio m\\u00f3vil \\u00faltimos 7 d\\u00edas\"}, {\"Fecha\": \"2020-04-03\", \"Casos confirmados\": 7, \"Rolling\": 8.142857142857142, \"Casos confirmados diarios\": \"Casos confirmados diarios\", \"Promedio m\\u00f3vil \\u00faltimos 7 d\\u00edas\": \"Promedio m\\u00f3vil \\u00faltimos 7 d\\u00edas\"}, {\"Fecha\": \"2020-04-04\", \"Casos confirmados\": 8, \"Rolling\": 8.571428571428571, \"Casos confirmados diarios\": \"Casos confirmados diarios\", \"Promedio m\\u00f3vil \\u00faltimos 7 d\\u00edas\": \"Promedio m\\u00f3vil \\u00faltimos 7 d\\u00edas\"}, {\"Fecha\": \"2020-04-05\", \"Casos confirmados\": 6, \"Rolling\": 8.714285714285714, \"Casos confirmados diarios\": \"Casos confirmados diarios\", \"Promedio m\\u00f3vil \\u00faltimos 7 d\\u00edas\": \"Promedio m\\u00f3vil \\u00faltimos 7 d\\u00edas\"}, {\"Fecha\": \"2020-04-06\", \"Casos confirmados\": 5, \"Rolling\": 7.714285714285714, \"Casos confirmados diarios\": \"Casos confirmados diarios\", \"Promedio m\\u00f3vil \\u00faltimos 7 d\\u00edas\": \"Promedio m\\u00f3vil \\u00faltimos 7 d\\u00edas\"}, {\"Fecha\": \"2020-04-07\", \"Casos confirmados\": 0, \"Rolling\": 6.571428571428571, \"Casos confirmados diarios\": \"Casos confirmados diarios\", \"Promedio m\\u00f3vil \\u00faltimos 7 d\\u00edas\": \"Promedio m\\u00f3vil \\u00faltimos 7 d\\u00edas\"}, {\"Fecha\": \"2020-04-08\", \"Casos confirmados\": 11, \"Rolling\": 6.857142857142857, \"Casos confirmados diarios\": \"Casos confirmados diarios\", \"Promedio m\\u00f3vil \\u00faltimos 7 d\\u00edas\": \"Promedio m\\u00f3vil \\u00faltimos 7 d\\u00edas\"}, {\"Fecha\": \"2020-04-09\", \"Casos confirmados\": 9, \"Rolling\": 6.571428571428571, \"Casos confirmados diarios\": \"Casos confirmados diarios\", \"Promedio m\\u00f3vil \\u00faltimos 7 d\\u00edas\": \"Promedio m\\u00f3vil \\u00faltimos 7 d\\u00edas\"}, {\"Fecha\": \"2020-04-10\", \"Casos confirmados\": 3, \"Rolling\": 6.0, \"Casos confirmados diarios\": \"Casos confirmados diarios\", \"Promedio m\\u00f3vil \\u00faltimos 7 d\\u00edas\": \"Promedio m\\u00f3vil \\u00faltimos 7 d\\u00edas\"}, {\"Fecha\": \"2020-04-11\", \"Casos confirmados\": 3, \"Rolling\": 5.285714285714286, \"Casos confirmados diarios\": \"Casos confirmados diarios\", \"Promedio m\\u00f3vil \\u00faltimos 7 d\\u00edas\": \"Promedio m\\u00f3vil \\u00faltimos 7 d\\u00edas\"}, {\"Fecha\": \"2020-04-12\", \"Casos confirmados\": 4, \"Rolling\": 5.0, \"Casos confirmados diarios\": \"Casos confirmados diarios\", \"Promedio m\\u00f3vil \\u00faltimos 7 d\\u00edas\": \"Promedio m\\u00f3vil \\u00faltimos 7 d\\u00edas\"}, {\"Fecha\": \"2020-04-13\", \"Casos confirmados\": 3, \"Rolling\": 4.714285714285714, \"Casos confirmados diarios\": \"Casos confirmados diarios\", \"Promedio m\\u00f3vil \\u00faltimos 7 d\\u00edas\": \"Promedio m\\u00f3vil \\u00faltimos 7 d\\u00edas\"}, {\"Fecha\": \"2020-04-14\", \"Casos confirmados\": 1, \"Rolling\": 4.857142857142857, \"Casos confirmados diarios\": \"Casos confirmados diarios\", \"Promedio m\\u00f3vil \\u00faltimos 7 d\\u00edas\": \"Promedio m\\u00f3vil \\u00faltimos 7 d\\u00edas\"}, {\"Fecha\": \"2020-04-15\", \"Casos confirmados\": 10, \"Rolling\": 4.714285714285714, \"Casos confirmados diarios\": \"Casos confirmados diarios\", \"Promedio m\\u00f3vil \\u00faltimos 7 d\\u00edas\": \"Promedio m\\u00f3vil \\u00faltimos 7 d\\u00edas\"}, {\"Fecha\": \"2020-04-16\", \"Casos confirmados\": 15, \"Rolling\": 5.571428571428571, \"Casos confirmados diarios\": \"Casos confirmados diarios\", \"Promedio m\\u00f3vil \\u00faltimos 7 d\\u00edas\": \"Promedio m\\u00f3vil \\u00faltimos 7 d\\u00edas\"}, {\"Fecha\": \"2020-04-17\", \"Casos confirmados\": 56, \"Rolling\": 13.142857142857142, \"Casos confirmados diarios\": \"Casos confirmados diarios\", \"Promedio m\\u00f3vil \\u00faltimos 7 d\\u00edas\": \"Promedio m\\u00f3vil \\u00faltimos 7 d\\u00edas\"}, {\"Fecha\": \"2020-04-18\", \"Casos confirmados\": 53, \"Rolling\": 20.285714285714285, \"Casos confirmados diarios\": \"Casos confirmados diarios\", \"Promedio m\\u00f3vil \\u00faltimos 7 d\\u00edas\": \"Promedio m\\u00f3vil \\u00faltimos 7 d\\u00edas\"}, {\"Fecha\": \"2020-04-19\", \"Casos confirmados\": 26, \"Rolling\": 23.428571428571427, \"Casos confirmados diarios\": \"Casos confirmados diarios\", \"Promedio m\\u00f3vil \\u00faltimos 7 d\\u00edas\": \"Promedio m\\u00f3vil \\u00faltimos 7 d\\u00edas\"}, {\"Fecha\": \"2020-04-20\", \"Casos confirmados\": 2, \"Rolling\": 23.285714285714285, \"Casos confirmados diarios\": \"Casos confirmados diarios\", \"Promedio m\\u00f3vil \\u00faltimos 7 d\\u00edas\": \"Promedio m\\u00f3vil \\u00faltimos 7 d\\u00edas\"}, {\"Fecha\": \"2020-04-21\", \"Casos confirmados\": 12, \"Rolling\": 24.857142857142858, \"Casos confirmados diarios\": \"Casos confirmados diarios\", \"Promedio m\\u00f3vil \\u00faltimos 7 d\\u00edas\": \"Promedio m\\u00f3vil \\u00faltimos 7 d\\u00edas\"}, {\"Fecha\": \"2020-04-22\", \"Casos confirmados\": 12, \"Rolling\": 25.142857142857142, \"Casos confirmados diarios\": \"Casos confirmados diarios\", \"Promedio m\\u00f3vil \\u00faltimos 7 d\\u00edas\": \"Promedio m\\u00f3vil \\u00faltimos 7 d\\u00edas\"}, {\"Fecha\": \"2020-04-23\", \"Casos confirmados\": 5, \"Rolling\": 23.714285714285715, \"Casos confirmados diarios\": \"Casos confirmados diarios\", \"Promedio m\\u00f3vil \\u00faltimos 7 d\\u00edas\": \"Promedio m\\u00f3vil \\u00faltimos 7 d\\u00edas\"}, {\"Fecha\": \"2020-04-24\", \"Casos confirmados\": 16, \"Rolling\": 18.0, \"Casos confirmados diarios\": \"Casos confirmados diarios\", \"Promedio m\\u00f3vil \\u00faltimos 7 d\\u00edas\": \"Promedio m\\u00f3vil \\u00faltimos 7 d\\u00edas\"}, {\"Fecha\": \"2020-04-25\", \"Casos confirmados\": 1, \"Rolling\": 10.571428571428571, \"Casos confirmados diarios\": \"Casos confirmados diarios\", \"Promedio m\\u00f3vil \\u00faltimos 7 d\\u00edas\": \"Promedio m\\u00f3vil \\u00faltimos 7 d\\u00edas\"}, {\"Fecha\": \"2020-04-26\", \"Casos confirmados\": 4, \"Rolling\": 7.428571428571429, \"Casos confirmados diarios\": \"Casos confirmados diarios\", \"Promedio m\\u00f3vil \\u00faltimos 7 d\\u00edas\": \"Promedio m\\u00f3vil \\u00faltimos 7 d\\u00edas\"}, {\"Fecha\": \"2020-04-27\", \"Casos confirmados\": 9, \"Rolling\": 8.428571428571429, \"Casos confirmados diarios\": \"Casos confirmados diarios\", \"Promedio m\\u00f3vil \\u00faltimos 7 d\\u00edas\": \"Promedio m\\u00f3vil \\u00faltimos 7 d\\u00edas\"}, {\"Fecha\": \"2020-04-28\", \"Casos confirmados\": 21, \"Rolling\": 9.714285714285714, \"Casos confirmados diarios\": \"Casos confirmados diarios\", \"Promedio m\\u00f3vil \\u00faltimos 7 d\\u00edas\": \"Promedio m\\u00f3vil \\u00faltimos 7 d\\u00edas\"}, {\"Fecha\": \"2020-04-29\", \"Casos confirmados\": 8, \"Rolling\": 9.142857142857142, \"Casos confirmados diarios\": \"Casos confirmados diarios\", \"Promedio m\\u00f3vil \\u00faltimos 7 d\\u00edas\": \"Promedio m\\u00f3vil \\u00faltimos 7 d\\u00edas\"}, {\"Fecha\": \"2020-04-30\", \"Casos confirmados\": 1, \"Rolling\": 8.571428571428571, \"Casos confirmados diarios\": \"Casos confirmados diarios\", \"Promedio m\\u00f3vil \\u00faltimos 7 d\\u00edas\": \"Promedio m\\u00f3vil \\u00faltimos 7 d\\u00edas\"}, {\"Fecha\": \"2020-05-01\", \"Casos confirmados\": 1, \"Rolling\": 6.428571428571429, \"Casos confirmados diarios\": \"Casos confirmados diarios\", \"Promedio m\\u00f3vil \\u00faltimos 7 d\\u00edas\": \"Promedio m\\u00f3vil \\u00faltimos 7 d\\u00edas\"}, {\"Fecha\": \"2020-05-02\", \"Casos confirmados\": 2, \"Rolling\": 6.571428571428571, \"Casos confirmados diarios\": \"Casos confirmados diarios\", \"Promedio m\\u00f3vil \\u00faltimos 7 d\\u00edas\": \"Promedio m\\u00f3vil \\u00faltimos 7 d\\u00edas\"}, {\"Fecha\": \"2020-05-03\", \"Casos confirmados\": 1, \"Rolling\": 6.142857142857143, \"Casos confirmados diarios\": \"Casos confirmados diarios\", \"Promedio m\\u00f3vil \\u00faltimos 7 d\\u00edas\": \"Promedio m\\u00f3vil \\u00faltimos 7 d\\u00edas\"}, {\"Fecha\": \"2020-05-04\", \"Casos confirmados\": 2, \"Rolling\": 5.142857142857143, \"Casos confirmados diarios\": \"Casos confirmados diarios\", \"Promedio m\\u00f3vil \\u00faltimos 7 d\\u00edas\": \"Promedio m\\u00f3vil \\u00faltimos 7 d\\u00edas\"}, {\"Fecha\": \"2020-05-05\", \"Casos confirmados\": 9, \"Rolling\": 3.4285714285714284, \"Casos confirmados diarios\": \"Casos confirmados diarios\", \"Promedio m\\u00f3vil \\u00faltimos 7 d\\u00edas\": \"Promedio m\\u00f3vil \\u00faltimos 7 d\\u00edas\"}, {\"Fecha\": \"2020-05-06\", \"Casos confirmados\": 0, \"Rolling\": 2.2857142857142856, \"Casos confirmados diarios\": \"Casos confirmados diarios\", \"Promedio m\\u00f3vil \\u00faltimos 7 d\\u00edas\": \"Promedio m\\u00f3vil \\u00faltimos 7 d\\u00edas\"}, {\"Fecha\": \"2020-05-07\", \"Casos confirmados\": 6, \"Rolling\": 3.0, \"Casos confirmados diarios\": \"Casos confirmados diarios\", \"Promedio m\\u00f3vil \\u00faltimos 7 d\\u00edas\": \"Promedio m\\u00f3vil \\u00faltimos 7 d\\u00edas\"}, {\"Fecha\": \"2020-05-08\", \"Casos confirmados\": 11, \"Rolling\": 4.428571428571429, \"Casos confirmados diarios\": \"Casos confirmados diarios\", \"Promedio m\\u00f3vil \\u00faltimos 7 d\\u00edas\": \"Promedio m\\u00f3vil \\u00faltimos 7 d\\u00edas\"}, {\"Fecha\": \"2020-05-09\", \"Casos confirmados\": 7, \"Rolling\": 5.142857142857143, \"Casos confirmados diarios\": \"Casos confirmados diarios\", \"Promedio m\\u00f3vil \\u00faltimos 7 d\\u00edas\": \"Promedio m\\u00f3vil \\u00faltimos 7 d\\u00edas\"}, {\"Fecha\": \"2020-05-10\", \"Casos confirmados\": 9, \"Rolling\": 6.285714285714286, \"Casos confirmados diarios\": \"Casos confirmados diarios\", \"Promedio m\\u00f3vil \\u00faltimos 7 d\\u00edas\": \"Promedio m\\u00f3vil \\u00faltimos 7 d\\u00edas\"}, {\"Fecha\": \"2020-05-11\", \"Casos confirmados\": 13, \"Rolling\": 7.857142857142857, \"Casos confirmados diarios\": \"Casos confirmados diarios\", \"Promedio m\\u00f3vil \\u00faltimos 7 d\\u00edas\": \"Promedio m\\u00f3vil \\u00faltimos 7 d\\u00edas\"}, {\"Fecha\": \"2020-05-12\", \"Casos confirmados\": 12, \"Rolling\": 8.285714285714286, \"Casos confirmados diarios\": \"Casos confirmados diarios\", \"Promedio m\\u00f3vil \\u00faltimos 7 d\\u00edas\": \"Promedio m\\u00f3vil \\u00faltimos 7 d\\u00edas\"}, {\"Fecha\": \"2020-05-13\", \"Casos confirmados\": 19, \"Rolling\": 11.0, \"Casos confirmados diarios\": \"Casos confirmados diarios\", \"Promedio m\\u00f3vil \\u00faltimos 7 d\\u00edas\": \"Promedio m\\u00f3vil \\u00faltimos 7 d\\u00edas\"}]}}, {\"mode\": \"vega-lite\"});\n",
       "</script>"
      ],
      "text/plain": [
       "alt.LayerChart(...)"
      ]
     },
     "execution_count": 25,
     "metadata": {},
     "output_type": "execute_result"
    }
   ],
   "source": [
    "#hide_input\n",
    "bars, line = my_cases_plot(region)\n",
    "(bars + line).properties(\n",
    "    title=f'Covid-19 en Chile: Casos confirmados diarios en {region}',\n",
    "    width=600\n",
    ")"
   ]
  },
  {
   "cell_type": "markdown",
   "metadata": {},
   "source": [
    "## Ñuble"
   ]
  },
  {
   "cell_type": "code",
   "execution_count": 26,
   "metadata": {
    "scrolled": true
   },
   "outputs": [],
   "source": [
    "#hide\n",
    "region = \"Ñuble\""
   ]
  },
  {
   "cell_type": "code",
   "execution_count": 27,
   "metadata": {},
   "outputs": [
    {
     "data": {
      "text/html": [
       "\n",
       "<div id=\"altair-viz-21a165c9d5a14316b026b3b784050609\"></div>\n",
       "<script type=\"text/javascript\">\n",
       "  (function(spec, embedOpt){\n",
       "    let outputDiv = document.currentScript.previousElementSibling;\n",
       "    if (outputDiv.id !== \"altair-viz-21a165c9d5a14316b026b3b784050609\") {\n",
       "      outputDiv = document.getElementById(\"altair-viz-21a165c9d5a14316b026b3b784050609\");\n",
       "    }\n",
       "    const paths = {\n",
       "      \"vega\": \"https://cdn.jsdelivr.net/npm//vega@5?noext\",\n",
       "      \"vega-lib\": \"https://cdn.jsdelivr.net/npm//vega-lib?noext\",\n",
       "      \"vega-lite\": \"https://cdn.jsdelivr.net/npm//vega-lite@4.8.1?noext\",\n",
       "      \"vega-embed\": \"https://cdn.jsdelivr.net/npm//vega-embed@6?noext\",\n",
       "    };\n",
       "\n",
       "    function loadScript(lib) {\n",
       "      return new Promise(function(resolve, reject) {\n",
       "        var s = document.createElement('script');\n",
       "        s.src = paths[lib];\n",
       "        s.async = true;\n",
       "        s.onload = () => resolve(paths[lib]);\n",
       "        s.onerror = () => reject(`Error loading script: ${paths[lib]}`);\n",
       "        document.getElementsByTagName(\"head\")[0].appendChild(s);\n",
       "      });\n",
       "    }\n",
       "\n",
       "    function showError(err) {\n",
       "      outputDiv.innerHTML = `<div class=\"error\" style=\"color:red;\">${err}</div>`;\n",
       "      throw err;\n",
       "    }\n",
       "\n",
       "    function displayChart(vegaEmbed) {\n",
       "      vegaEmbed(outputDiv, spec, embedOpt)\n",
       "        .catch(err => showError(`Javascript Error: ${err.message}<br>This usually means there's a typo in your chart specification. See the javascript console for the full traceback.`));\n",
       "    }\n",
       "\n",
       "    if(typeof define === \"function\" && define.amd) {\n",
       "      requirejs.config({paths});\n",
       "      require([\"vega-embed\"], displayChart, err => showError(`Error loading script: ${err.message}`));\n",
       "    } else if (typeof vegaEmbed === \"function\") {\n",
       "      displayChart(vegaEmbed);\n",
       "    } else {\n",
       "      loadScript(\"vega\")\n",
       "        .then(() => loadScript(\"vega-lite\"))\n",
       "        .then(() => loadScript(\"vega-embed\"))\n",
       "        .catch(showError)\n",
       "        .then(() => displayChart(vegaEmbed));\n",
       "    }\n",
       "  })({\"config\": {\"view\": {\"continuousWidth\": 400, \"continuousHeight\": 300}}, \"layer\": [{\"mark\": {\"type\": \"bar\", \"opacity\": 0.7}, \"encoding\": {\"opacity\": {\"type\": \"nominal\", \"field\": \"Casos confirmados diarios\", \"legend\": {\"title\": \"\"}}, \"tooltip\": [{\"type\": \"nominal\", \"field\": \"Fecha\"}, {\"type\": \"quantitative\", \"field\": \"Casos confirmados\"}], \"x\": {\"type\": \"nominal\", \"axis\": {\"title\": \"Fecha (a\\u00f1o-mes-d\\u00eda)\"}, \"field\": \"Fecha\"}, \"y\": {\"type\": \"quantitative\", \"axis\": {\"title\": \"Casos confirmados diarios\"}, \"field\": \"Casos confirmados\"}}}, {\"mark\": {\"type\": \"line\", \"color\": \"#1f77b4\", \"point\": {\"filled\": true, \"fill\": \"#1f77b4\"}}, \"encoding\": {\"shape\": {\"type\": \"nominal\", \"field\": \"Promedio m\\u00f3vil \\u00faltimos 7 d\\u00edas\", \"legend\": {\"title\": \"\"}}, \"x\": {\"type\": \"nominal\", \"axis\": {\"title\": \"Fecha (a\\u00f1o-mes-d\\u00eda)\"}, \"field\": \"Fecha\"}, \"y\": {\"type\": \"quantitative\", \"field\": \"Rolling\"}}}], \"data\": {\"name\": \"data-125e0224d0e9877d432534e29bdb2f71\"}, \"title\": \"Covid-19 en Chile: Casos confirmados diarios en \\u00d1uble\", \"width\": 600, \"$schema\": \"https://vega.github.io/schema/vega-lite/v4.8.1.json\", \"datasets\": {\"data-125e0224d0e9877d432534e29bdb2f71\": [{\"Fecha\": \"2020-03-04\", \"Casos confirmados\": 0, \"Rolling\": null, \"Casos confirmados diarios\": \"Casos confirmados diarios\", \"Promedio m\\u00f3vil \\u00faltimos 7 d\\u00edas\": \"Promedio m\\u00f3vil \\u00faltimos 7 d\\u00edas\"}, {\"Fecha\": \"2020-03-05\", \"Casos confirmados\": 0, \"Rolling\": null, \"Casos confirmados diarios\": \"Casos confirmados diarios\", \"Promedio m\\u00f3vil \\u00faltimos 7 d\\u00edas\": \"Promedio m\\u00f3vil \\u00faltimos 7 d\\u00edas\"}, {\"Fecha\": \"2020-03-06\", \"Casos confirmados\": 0, \"Rolling\": null, \"Casos confirmados diarios\": \"Casos confirmados diarios\", \"Promedio m\\u00f3vil \\u00faltimos 7 d\\u00edas\": \"Promedio m\\u00f3vil \\u00faltimos 7 d\\u00edas\"}, {\"Fecha\": \"2020-03-07\", \"Casos confirmados\": 0, \"Rolling\": null, \"Casos confirmados diarios\": \"Casos confirmados diarios\", \"Promedio m\\u00f3vil \\u00faltimos 7 d\\u00edas\": \"Promedio m\\u00f3vil \\u00faltimos 7 d\\u00edas\"}, {\"Fecha\": \"2020-03-08\", \"Casos confirmados\": 0, \"Rolling\": null, \"Casos confirmados diarios\": \"Casos confirmados diarios\", \"Promedio m\\u00f3vil \\u00faltimos 7 d\\u00edas\": \"Promedio m\\u00f3vil \\u00faltimos 7 d\\u00edas\"}, {\"Fecha\": \"2020-03-09\", \"Casos confirmados\": 0, \"Rolling\": null, \"Casos confirmados diarios\": \"Casos confirmados diarios\", \"Promedio m\\u00f3vil \\u00faltimos 7 d\\u00edas\": \"Promedio m\\u00f3vil \\u00faltimos 7 d\\u00edas\"}, {\"Fecha\": \"2020-03-10\", \"Casos confirmados\": 0, \"Rolling\": 0.0, \"Casos confirmados diarios\": \"Casos confirmados diarios\", \"Promedio m\\u00f3vil \\u00faltimos 7 d\\u00edas\": \"Promedio m\\u00f3vil \\u00faltimos 7 d\\u00edas\"}, {\"Fecha\": \"2020-03-11\", \"Casos confirmados\": 0, \"Rolling\": 0.0, \"Casos confirmados diarios\": \"Casos confirmados diarios\", \"Promedio m\\u00f3vil \\u00faltimos 7 d\\u00edas\": \"Promedio m\\u00f3vil \\u00faltimos 7 d\\u00edas\"}, {\"Fecha\": \"2020-03-12\", \"Casos confirmados\": 1, \"Rolling\": 0.14285714285714285, \"Casos confirmados diarios\": \"Casos confirmados diarios\", \"Promedio m\\u00f3vil \\u00faltimos 7 d\\u00edas\": \"Promedio m\\u00f3vil \\u00faltimos 7 d\\u00edas\"}, {\"Fecha\": \"2020-03-13\", \"Casos confirmados\": 1, \"Rolling\": 0.2857142857142857, \"Casos confirmados diarios\": \"Casos confirmados diarios\", \"Promedio m\\u00f3vil \\u00faltimos 7 d\\u00edas\": \"Promedio m\\u00f3vil \\u00faltimos 7 d\\u00edas\"}, {\"Fecha\": \"2020-03-14\", \"Casos confirmados\": 2, \"Rolling\": 0.5714285714285714, \"Casos confirmados diarios\": \"Casos confirmados diarios\", \"Promedio m\\u00f3vil \\u00faltimos 7 d\\u00edas\": \"Promedio m\\u00f3vil \\u00faltimos 7 d\\u00edas\"}, {\"Fecha\": \"2020-03-15\", \"Casos confirmados\": 0, \"Rolling\": 0.5714285714285714, \"Casos confirmados diarios\": \"Casos confirmados diarios\", \"Promedio m\\u00f3vil \\u00faltimos 7 d\\u00edas\": \"Promedio m\\u00f3vil \\u00faltimos 7 d\\u00edas\"}, {\"Fecha\": \"2020-03-16\", \"Casos confirmados\": 8, \"Rolling\": 1.7142857142857142, \"Casos confirmados diarios\": \"Casos confirmados diarios\", \"Promedio m\\u00f3vil \\u00faltimos 7 d\\u00edas\": \"Promedio m\\u00f3vil \\u00faltimos 7 d\\u00edas\"}, {\"Fecha\": \"2020-03-17\", \"Casos confirmados\": 14, \"Rolling\": 3.7142857142857144, \"Casos confirmados diarios\": \"Casos confirmados diarios\", \"Promedio m\\u00f3vil \\u00faltimos 7 d\\u00edas\": \"Promedio m\\u00f3vil \\u00faltimos 7 d\\u00edas\"}, {\"Fecha\": \"2020-03-18\", \"Casos confirmados\": 0, \"Rolling\": 3.7142857142857144, \"Casos confirmados diarios\": \"Casos confirmados diarios\", \"Promedio m\\u00f3vil \\u00faltimos 7 d\\u00edas\": \"Promedio m\\u00f3vil \\u00faltimos 7 d\\u00edas\"}, {\"Fecha\": \"2020-03-19\", \"Casos confirmados\": 2, \"Rolling\": 3.857142857142857, \"Casos confirmados diarios\": \"Casos confirmados diarios\", \"Promedio m\\u00f3vil \\u00faltimos 7 d\\u00edas\": \"Promedio m\\u00f3vil \\u00faltimos 7 d\\u00edas\"}, {\"Fecha\": \"2020-03-20\", \"Casos confirmados\": 16, \"Rolling\": 6.0, \"Casos confirmados diarios\": \"Casos confirmados diarios\", \"Promedio m\\u00f3vil \\u00faltimos 7 d\\u00edas\": \"Promedio m\\u00f3vil \\u00faltimos 7 d\\u00edas\"}, {\"Fecha\": \"2020-03-21\", \"Casos confirmados\": 14, \"Rolling\": 7.714285714285714, \"Casos confirmados diarios\": \"Casos confirmados diarios\", \"Promedio m\\u00f3vil \\u00faltimos 7 d\\u00edas\": \"Promedio m\\u00f3vil \\u00faltimos 7 d\\u00edas\"}, {\"Fecha\": \"2020-03-22\", \"Casos confirmados\": 6, \"Rolling\": 8.571428571428571, \"Casos confirmados diarios\": \"Casos confirmados diarios\", \"Promedio m\\u00f3vil \\u00faltimos 7 d\\u00edas\": \"Promedio m\\u00f3vil \\u00faltimos 7 d\\u00edas\"}, {\"Fecha\": \"2020-03-23\", \"Casos confirmados\": 17, \"Rolling\": 9.857142857142858, \"Casos confirmados diarios\": \"Casos confirmados diarios\", \"Promedio m\\u00f3vil \\u00faltimos 7 d\\u00edas\": \"Promedio m\\u00f3vil \\u00faltimos 7 d\\u00edas\"}, {\"Fecha\": \"2020-03-24\", \"Casos confirmados\": 24, \"Rolling\": 11.285714285714286, \"Casos confirmados diarios\": \"Casos confirmados diarios\", \"Promedio m\\u00f3vil \\u00faltimos 7 d\\u00edas\": \"Promedio m\\u00f3vil \\u00faltimos 7 d\\u00edas\"}, {\"Fecha\": \"2020-03-25\", \"Casos confirmados\": 6, \"Rolling\": 12.142857142857142, \"Casos confirmados diarios\": \"Casos confirmados diarios\", \"Promedio m\\u00f3vil \\u00faltimos 7 d\\u00edas\": \"Promedio m\\u00f3vil \\u00faltimos 7 d\\u00edas\"}, {\"Fecha\": \"2020-03-26\", \"Casos confirmados\": 3, \"Rolling\": 12.285714285714286, \"Casos confirmados diarios\": \"Casos confirmados diarios\", \"Promedio m\\u00f3vil \\u00faltimos 7 d\\u00edas\": \"Promedio m\\u00f3vil \\u00faltimos 7 d\\u00edas\"}, {\"Fecha\": \"2020-03-27\", \"Casos confirmados\": 30, \"Rolling\": 14.285714285714286, \"Casos confirmados diarios\": \"Casos confirmados diarios\", \"Promedio m\\u00f3vil \\u00faltimos 7 d\\u00edas\": \"Promedio m\\u00f3vil \\u00faltimos 7 d\\u00edas\"}, {\"Fecha\": \"2020-03-28\", \"Casos confirmados\": 28, \"Rolling\": 16.285714285714285, \"Casos confirmados diarios\": \"Casos confirmados diarios\", \"Promedio m\\u00f3vil \\u00faltimos 7 d\\u00edas\": \"Promedio m\\u00f3vil \\u00faltimos 7 d\\u00edas\"}, {\"Fecha\": \"2020-03-29\", \"Casos confirmados\": 25, \"Rolling\": 19.0, \"Casos confirmados diarios\": \"Casos confirmados diarios\", \"Promedio m\\u00f3vil \\u00faltimos 7 d\\u00edas\": \"Promedio m\\u00f3vil \\u00faltimos 7 d\\u00edas\"}, {\"Fecha\": \"2020-03-30\", \"Casos confirmados\": 32, \"Rolling\": 21.142857142857142, \"Casos confirmados diarios\": \"Casos confirmados diarios\", \"Promedio m\\u00f3vil \\u00faltimos 7 d\\u00edas\": \"Promedio m\\u00f3vil \\u00faltimos 7 d\\u00edas\"}, {\"Fecha\": \"2020-03-31\", \"Casos confirmados\": 16, \"Rolling\": 20.0, \"Casos confirmados diarios\": \"Casos confirmados diarios\", \"Promedio m\\u00f3vil \\u00faltimos 7 d\\u00edas\": \"Promedio m\\u00f3vil \\u00faltimos 7 d\\u00edas\"}, {\"Fecha\": \"2020-04-01\", \"Casos confirmados\": 14, \"Rolling\": 21.142857142857142, \"Casos confirmados diarios\": \"Casos confirmados diarios\", \"Promedio m\\u00f3vil \\u00faltimos 7 d\\u00edas\": \"Promedio m\\u00f3vil \\u00faltimos 7 d\\u00edas\"}, {\"Fecha\": \"2020-04-02\", \"Casos confirmados\": 82, \"Rolling\": 32.42857142857143, \"Casos confirmados diarios\": \"Casos confirmados diarios\", \"Promedio m\\u00f3vil \\u00faltimos 7 d\\u00edas\": \"Promedio m\\u00f3vil \\u00faltimos 7 d\\u00edas\"}, {\"Fecha\": \"2020-04-03\", \"Casos confirmados\": 29, \"Rolling\": 32.285714285714285, \"Casos confirmados diarios\": \"Casos confirmados diarios\", \"Promedio m\\u00f3vil \\u00faltimos 7 d\\u00edas\": \"Promedio m\\u00f3vil \\u00faltimos 7 d\\u00edas\"}, {\"Fecha\": \"2020-04-04\", \"Casos confirmados\": 31, \"Rolling\": 32.714285714285715, \"Casos confirmados diarios\": \"Casos confirmados diarios\", \"Promedio m\\u00f3vil \\u00faltimos 7 d\\u00edas\": \"Promedio m\\u00f3vil \\u00faltimos 7 d\\u00edas\"}, {\"Fecha\": \"2020-04-05\", \"Casos confirmados\": 24, \"Rolling\": 32.57142857142857, \"Casos confirmados diarios\": \"Casos confirmados diarios\", \"Promedio m\\u00f3vil \\u00faltimos 7 d\\u00edas\": \"Promedio m\\u00f3vil \\u00faltimos 7 d\\u00edas\"}, {\"Fecha\": \"2020-04-06\", \"Casos confirmados\": 49, \"Rolling\": 35.0, \"Casos confirmados diarios\": \"Casos confirmados diarios\", \"Promedio m\\u00f3vil \\u00faltimos 7 d\\u00edas\": \"Promedio m\\u00f3vil \\u00faltimos 7 d\\u00edas\"}, {\"Fecha\": \"2020-04-07\", \"Casos confirmados\": 48, \"Rolling\": 39.57142857142857, \"Casos confirmados diarios\": \"Casos confirmados diarios\", \"Promedio m\\u00f3vil \\u00faltimos 7 d\\u00edas\": \"Promedio m\\u00f3vil \\u00faltimos 7 d\\u00edas\"}, {\"Fecha\": \"2020-04-08\", \"Casos confirmados\": 39, \"Rolling\": 43.142857142857146, \"Casos confirmados diarios\": \"Casos confirmados diarios\", \"Promedio m\\u00f3vil \\u00faltimos 7 d\\u00edas\": \"Promedio m\\u00f3vil \\u00faltimos 7 d\\u00edas\"}, {\"Fecha\": \"2020-04-09\", \"Casos confirmados\": 10, \"Rolling\": 32.857142857142854, \"Casos confirmados diarios\": \"Casos confirmados diarios\", \"Promedio m\\u00f3vil \\u00faltimos 7 d\\u00edas\": \"Promedio m\\u00f3vil \\u00faltimos 7 d\\u00edas\"}, {\"Fecha\": \"2020-04-10\", \"Casos confirmados\": 18, \"Rolling\": 31.285714285714285, \"Casos confirmados diarios\": \"Casos confirmados diarios\", \"Promedio m\\u00f3vil \\u00faltimos 7 d\\u00edas\": \"Promedio m\\u00f3vil \\u00faltimos 7 d\\u00edas\"}, {\"Fecha\": \"2020-04-11\", \"Casos confirmados\": 17, \"Rolling\": 29.285714285714285, \"Casos confirmados diarios\": \"Casos confirmados diarios\", \"Promedio m\\u00f3vil \\u00faltimos 7 d\\u00edas\": \"Promedio m\\u00f3vil \\u00faltimos 7 d\\u00edas\"}, {\"Fecha\": \"2020-04-12\", \"Casos confirmados\": 7, \"Rolling\": 26.857142857142858, \"Casos confirmados diarios\": \"Casos confirmados diarios\", \"Promedio m\\u00f3vil \\u00faltimos 7 d\\u00edas\": \"Promedio m\\u00f3vil \\u00faltimos 7 d\\u00edas\"}, {\"Fecha\": \"2020-04-13\", \"Casos confirmados\": 5, \"Rolling\": 20.571428571428573, \"Casos confirmados diarios\": \"Casos confirmados diarios\", \"Promedio m\\u00f3vil \\u00faltimos 7 d\\u00edas\": \"Promedio m\\u00f3vil \\u00faltimos 7 d\\u00edas\"}, {\"Fecha\": \"2020-04-14\", \"Casos confirmados\": 4, \"Rolling\": 14.285714285714286, \"Casos confirmados diarios\": \"Casos confirmados diarios\", \"Promedio m\\u00f3vil \\u00faltimos 7 d\\u00edas\": \"Promedio m\\u00f3vil \\u00faltimos 7 d\\u00edas\"}, {\"Fecha\": \"2020-04-15\", \"Casos confirmados\": 12, \"Rolling\": 10.428571428571429, \"Casos confirmados diarios\": \"Casos confirmados diarios\", \"Promedio m\\u00f3vil \\u00faltimos 7 d\\u00edas\": \"Promedio m\\u00f3vil \\u00faltimos 7 d\\u00edas\"}, {\"Fecha\": \"2020-04-16\", \"Casos confirmados\": 5, \"Rolling\": 9.714285714285714, \"Casos confirmados diarios\": \"Casos confirmados diarios\", \"Promedio m\\u00f3vil \\u00faltimos 7 d\\u00edas\": \"Promedio m\\u00f3vil \\u00faltimos 7 d\\u00edas\"}, {\"Fecha\": \"2020-04-17\", \"Casos confirmados\": 17, \"Rolling\": 9.571428571428571, \"Casos confirmados diarios\": \"Casos confirmados diarios\", \"Promedio m\\u00f3vil \\u00faltimos 7 d\\u00edas\": \"Promedio m\\u00f3vil \\u00faltimos 7 d\\u00edas\"}, {\"Fecha\": \"2020-04-18\", \"Casos confirmados\": 11, \"Rolling\": 8.714285714285714, \"Casos confirmados diarios\": \"Casos confirmados diarios\", \"Promedio m\\u00f3vil \\u00faltimos 7 d\\u00edas\": \"Promedio m\\u00f3vil \\u00faltimos 7 d\\u00edas\"}, {\"Fecha\": \"2020-04-19\", \"Casos confirmados\": 11, \"Rolling\": 9.285714285714286, \"Casos confirmados diarios\": \"Casos confirmados diarios\", \"Promedio m\\u00f3vil \\u00faltimos 7 d\\u00edas\": \"Promedio m\\u00f3vil \\u00faltimos 7 d\\u00edas\"}, {\"Fecha\": \"2020-04-20\", \"Casos confirmados\": 9, \"Rolling\": 9.857142857142858, \"Casos confirmados diarios\": \"Casos confirmados diarios\", \"Promedio m\\u00f3vil \\u00faltimos 7 d\\u00edas\": \"Promedio m\\u00f3vil \\u00faltimos 7 d\\u00edas\"}, {\"Fecha\": \"2020-04-21\", \"Casos confirmados\": 7, \"Rolling\": 10.285714285714286, \"Casos confirmados diarios\": \"Casos confirmados diarios\", \"Promedio m\\u00f3vil \\u00faltimos 7 d\\u00edas\": \"Promedio m\\u00f3vil \\u00faltimos 7 d\\u00edas\"}, {\"Fecha\": \"2020-04-22\", \"Casos confirmados\": 9, \"Rolling\": 9.857142857142858, \"Casos confirmados diarios\": \"Casos confirmados diarios\", \"Promedio m\\u00f3vil \\u00faltimos 7 d\\u00edas\": \"Promedio m\\u00f3vil \\u00faltimos 7 d\\u00edas\"}, {\"Fecha\": \"2020-04-23\", \"Casos confirmados\": 5, \"Rolling\": 9.857142857142858, \"Casos confirmados diarios\": \"Casos confirmados diarios\", \"Promedio m\\u00f3vil \\u00faltimos 7 d\\u00edas\": \"Promedio m\\u00f3vil \\u00faltimos 7 d\\u00edas\"}, {\"Fecha\": \"2020-04-24\", \"Casos confirmados\": 7, \"Rolling\": 8.428571428571429, \"Casos confirmados diarios\": \"Casos confirmados diarios\", \"Promedio m\\u00f3vil \\u00faltimos 7 d\\u00edas\": \"Promedio m\\u00f3vil \\u00faltimos 7 d\\u00edas\"}, {\"Fecha\": \"2020-04-25\", \"Casos confirmados\": 10, \"Rolling\": 8.285714285714286, \"Casos confirmados diarios\": \"Casos confirmados diarios\", \"Promedio m\\u00f3vil \\u00faltimos 7 d\\u00edas\": \"Promedio m\\u00f3vil \\u00faltimos 7 d\\u00edas\"}, {\"Fecha\": \"2020-04-26\", \"Casos confirmados\": 6, \"Rolling\": 7.571428571428571, \"Casos confirmados diarios\": \"Casos confirmados diarios\", \"Promedio m\\u00f3vil \\u00faltimos 7 d\\u00edas\": \"Promedio m\\u00f3vil \\u00faltimos 7 d\\u00edas\"}, {\"Fecha\": \"2020-04-27\", \"Casos confirmados\": 10, \"Rolling\": 7.714285714285714, \"Casos confirmados diarios\": \"Casos confirmados diarios\", \"Promedio m\\u00f3vil \\u00faltimos 7 d\\u00edas\": \"Promedio m\\u00f3vil \\u00faltimos 7 d\\u00edas\"}, {\"Fecha\": \"2020-04-28\", \"Casos confirmados\": 6, \"Rolling\": 7.571428571428571, \"Casos confirmados diarios\": \"Casos confirmados diarios\", \"Promedio m\\u00f3vil \\u00faltimos 7 d\\u00edas\": \"Promedio m\\u00f3vil \\u00faltimos 7 d\\u00edas\"}, {\"Fecha\": \"2020-04-29\", \"Casos confirmados\": 14, \"Rolling\": 8.285714285714286, \"Casos confirmados diarios\": \"Casos confirmados diarios\", \"Promedio m\\u00f3vil \\u00faltimos 7 d\\u00edas\": \"Promedio m\\u00f3vil \\u00faltimos 7 d\\u00edas\"}, {\"Fecha\": \"2020-04-30\", \"Casos confirmados\": 7, \"Rolling\": 8.571428571428571, \"Casos confirmados diarios\": \"Casos confirmados diarios\", \"Promedio m\\u00f3vil \\u00faltimos 7 d\\u00edas\": \"Promedio m\\u00f3vil \\u00faltimos 7 d\\u00edas\"}, {\"Fecha\": \"2020-05-01\", \"Casos confirmados\": 0, \"Rolling\": 7.571428571428571, \"Casos confirmados diarios\": \"Casos confirmados diarios\", \"Promedio m\\u00f3vil \\u00faltimos 7 d\\u00edas\": \"Promedio m\\u00f3vil \\u00faltimos 7 d\\u00edas\"}, {\"Fecha\": \"2020-05-02\", \"Casos confirmados\": 8, \"Rolling\": 7.285714285714286, \"Casos confirmados diarios\": \"Casos confirmados diarios\", \"Promedio m\\u00f3vil \\u00faltimos 7 d\\u00edas\": \"Promedio m\\u00f3vil \\u00faltimos 7 d\\u00edas\"}, {\"Fecha\": \"2020-05-03\", \"Casos confirmados\": 10, \"Rolling\": 7.857142857142857, \"Casos confirmados diarios\": \"Casos confirmados diarios\", \"Promedio m\\u00f3vil \\u00faltimos 7 d\\u00edas\": \"Promedio m\\u00f3vil \\u00faltimos 7 d\\u00edas\"}, {\"Fecha\": \"2020-05-04\", \"Casos confirmados\": 1, \"Rolling\": 6.571428571428571, \"Casos confirmados diarios\": \"Casos confirmados diarios\", \"Promedio m\\u00f3vil \\u00faltimos 7 d\\u00edas\": \"Promedio m\\u00f3vil \\u00faltimos 7 d\\u00edas\"}, {\"Fecha\": \"2020-05-05\", \"Casos confirmados\": 2, \"Rolling\": 6.0, \"Casos confirmados diarios\": \"Casos confirmados diarios\", \"Promedio m\\u00f3vil \\u00faltimos 7 d\\u00edas\": \"Promedio m\\u00f3vil \\u00faltimos 7 d\\u00edas\"}, {\"Fecha\": \"2020-05-06\", \"Casos confirmados\": 2, \"Rolling\": 4.285714285714286, \"Casos confirmados diarios\": \"Casos confirmados diarios\", \"Promedio m\\u00f3vil \\u00faltimos 7 d\\u00edas\": \"Promedio m\\u00f3vil \\u00faltimos 7 d\\u00edas\"}, {\"Fecha\": \"2020-05-07\", \"Casos confirmados\": 2, \"Rolling\": 3.5714285714285716, \"Casos confirmados diarios\": \"Casos confirmados diarios\", \"Promedio m\\u00f3vil \\u00faltimos 7 d\\u00edas\": \"Promedio m\\u00f3vil \\u00faltimos 7 d\\u00edas\"}, {\"Fecha\": \"2020-05-08\", \"Casos confirmados\": 1, \"Rolling\": 3.7142857142857144, \"Casos confirmados diarios\": \"Casos confirmados diarios\", \"Promedio m\\u00f3vil \\u00faltimos 7 d\\u00edas\": \"Promedio m\\u00f3vil \\u00faltimos 7 d\\u00edas\"}, {\"Fecha\": \"2020-05-09\", \"Casos confirmados\": 7, \"Rolling\": 3.5714285714285716, \"Casos confirmados diarios\": \"Casos confirmados diarios\", \"Promedio m\\u00f3vil \\u00faltimos 7 d\\u00edas\": \"Promedio m\\u00f3vil \\u00faltimos 7 d\\u00edas\"}, {\"Fecha\": \"2020-05-10\", \"Casos confirmados\": 11, \"Rolling\": 3.7142857142857144, \"Casos confirmados diarios\": \"Casos confirmados diarios\", \"Promedio m\\u00f3vil \\u00faltimos 7 d\\u00edas\": \"Promedio m\\u00f3vil \\u00faltimos 7 d\\u00edas\"}, {\"Fecha\": \"2020-05-11\", \"Casos confirmados\": 2, \"Rolling\": 3.857142857142857, \"Casos confirmados diarios\": \"Casos confirmados diarios\", \"Promedio m\\u00f3vil \\u00faltimos 7 d\\u00edas\": \"Promedio m\\u00f3vil \\u00faltimos 7 d\\u00edas\"}, {\"Fecha\": \"2020-05-12\", \"Casos confirmados\": 12, \"Rolling\": 5.285714285714286, \"Casos confirmados diarios\": \"Casos confirmados diarios\", \"Promedio m\\u00f3vil \\u00faltimos 7 d\\u00edas\": \"Promedio m\\u00f3vil \\u00faltimos 7 d\\u00edas\"}, {\"Fecha\": \"2020-05-13\", \"Casos confirmados\": 13, \"Rolling\": 6.857142857142857, \"Casos confirmados diarios\": \"Casos confirmados diarios\", \"Promedio m\\u00f3vil \\u00faltimos 7 d\\u00edas\": \"Promedio m\\u00f3vil \\u00faltimos 7 d\\u00edas\"}]}}, {\"mode\": \"vega-lite\"});\n",
       "</script>"
      ],
      "text/plain": [
       "alt.LayerChart(...)"
      ]
     },
     "execution_count": 27,
     "metadata": {},
     "output_type": "execute_result"
    }
   ],
   "source": [
    "#hide_input\n",
    "bars, line = my_cases_plot(region)\n",
    "(bars + line).properties(\n",
    "    title=f'Covid-19 en Chile: Casos confirmados diarios en {region}',\n",
    "    width=600\n",
    ")"
   ]
  },
  {
   "cell_type": "markdown",
   "metadata": {},
   "source": [
    "## Biobío"
   ]
  },
  {
   "cell_type": "code",
   "execution_count": 28,
   "metadata": {
    "scrolled": true
   },
   "outputs": [],
   "source": [
    "#hide\n",
    "region = \"Biobío\""
   ]
  },
  {
   "cell_type": "code",
   "execution_count": 29,
   "metadata": {},
   "outputs": [
    {
     "data": {
      "text/html": [
       "\n",
       "<div id=\"altair-viz-9d4a0101af6d4cf3951989d2d7b7783d\"></div>\n",
       "<script type=\"text/javascript\">\n",
       "  (function(spec, embedOpt){\n",
       "    let outputDiv = document.currentScript.previousElementSibling;\n",
       "    if (outputDiv.id !== \"altair-viz-9d4a0101af6d4cf3951989d2d7b7783d\") {\n",
       "      outputDiv = document.getElementById(\"altair-viz-9d4a0101af6d4cf3951989d2d7b7783d\");\n",
       "    }\n",
       "    const paths = {\n",
       "      \"vega\": \"https://cdn.jsdelivr.net/npm//vega@5?noext\",\n",
       "      \"vega-lib\": \"https://cdn.jsdelivr.net/npm//vega-lib?noext\",\n",
       "      \"vega-lite\": \"https://cdn.jsdelivr.net/npm//vega-lite@4.8.1?noext\",\n",
       "      \"vega-embed\": \"https://cdn.jsdelivr.net/npm//vega-embed@6?noext\",\n",
       "    };\n",
       "\n",
       "    function loadScript(lib) {\n",
       "      return new Promise(function(resolve, reject) {\n",
       "        var s = document.createElement('script');\n",
       "        s.src = paths[lib];\n",
       "        s.async = true;\n",
       "        s.onload = () => resolve(paths[lib]);\n",
       "        s.onerror = () => reject(`Error loading script: ${paths[lib]}`);\n",
       "        document.getElementsByTagName(\"head\")[0].appendChild(s);\n",
       "      });\n",
       "    }\n",
       "\n",
       "    function showError(err) {\n",
       "      outputDiv.innerHTML = `<div class=\"error\" style=\"color:red;\">${err}</div>`;\n",
       "      throw err;\n",
       "    }\n",
       "\n",
       "    function displayChart(vegaEmbed) {\n",
       "      vegaEmbed(outputDiv, spec, embedOpt)\n",
       "        .catch(err => showError(`Javascript Error: ${err.message}<br>This usually means there's a typo in your chart specification. See the javascript console for the full traceback.`));\n",
       "    }\n",
       "\n",
       "    if(typeof define === \"function\" && define.amd) {\n",
       "      requirejs.config({paths});\n",
       "      require([\"vega-embed\"], displayChart, err => showError(`Error loading script: ${err.message}`));\n",
       "    } else if (typeof vegaEmbed === \"function\") {\n",
       "      displayChart(vegaEmbed);\n",
       "    } else {\n",
       "      loadScript(\"vega\")\n",
       "        .then(() => loadScript(\"vega-lite\"))\n",
       "        .then(() => loadScript(\"vega-embed\"))\n",
       "        .catch(showError)\n",
       "        .then(() => displayChart(vegaEmbed));\n",
       "    }\n",
       "  })({\"config\": {\"view\": {\"continuousWidth\": 400, \"continuousHeight\": 300}}, \"layer\": [{\"mark\": {\"type\": \"bar\", \"opacity\": 0.7}, \"encoding\": {\"opacity\": {\"type\": \"nominal\", \"field\": \"Casos confirmados diarios\", \"legend\": {\"title\": \"\"}}, \"tooltip\": [{\"type\": \"nominal\", \"field\": \"Fecha\"}, {\"type\": \"quantitative\", \"field\": \"Casos confirmados\"}], \"x\": {\"type\": \"nominal\", \"axis\": {\"title\": \"Fecha (a\\u00f1o-mes-d\\u00eda)\"}, \"field\": \"Fecha\"}, \"y\": {\"type\": \"quantitative\", \"axis\": {\"title\": \"Casos confirmados diarios\"}, \"field\": \"Casos confirmados\"}}}, {\"mark\": {\"type\": \"line\", \"color\": \"#1f77b4\", \"point\": {\"filled\": true, \"fill\": \"#1f77b4\"}}, \"encoding\": {\"shape\": {\"type\": \"nominal\", \"field\": \"Promedio m\\u00f3vil \\u00faltimos 7 d\\u00edas\", \"legend\": {\"title\": \"\"}}, \"x\": {\"type\": \"nominal\", \"axis\": {\"title\": \"Fecha (a\\u00f1o-mes-d\\u00eda)\"}, \"field\": \"Fecha\"}, \"y\": {\"type\": \"quantitative\", \"field\": \"Rolling\"}}}], \"data\": {\"name\": \"data-51c234aa2619ea85e6ce7228f3fd1008\"}, \"title\": \"Covid-19 en Chile: Casos confirmados diarios en Biob\\u00edo\", \"width\": 600, \"$schema\": \"https://vega.github.io/schema/vega-lite/v4.8.1.json\", \"datasets\": {\"data-51c234aa2619ea85e6ce7228f3fd1008\": [{\"Fecha\": \"2020-03-04\", \"Casos confirmados\": 0, \"Rolling\": null, \"Casos confirmados diarios\": \"Casos confirmados diarios\", \"Promedio m\\u00f3vil \\u00faltimos 7 d\\u00edas\": \"Promedio m\\u00f3vil \\u00faltimos 7 d\\u00edas\"}, {\"Fecha\": \"2020-03-05\", \"Casos confirmados\": 0, \"Rolling\": null, \"Casos confirmados diarios\": \"Casos confirmados diarios\", \"Promedio m\\u00f3vil \\u00faltimos 7 d\\u00edas\": \"Promedio m\\u00f3vil \\u00faltimos 7 d\\u00edas\"}, {\"Fecha\": \"2020-03-06\", \"Casos confirmados\": 0, \"Rolling\": null, \"Casos confirmados diarios\": \"Casos confirmados diarios\", \"Promedio m\\u00f3vil \\u00faltimos 7 d\\u00edas\": \"Promedio m\\u00f3vil \\u00faltimos 7 d\\u00edas\"}, {\"Fecha\": \"2020-03-07\", \"Casos confirmados\": 0, \"Rolling\": null, \"Casos confirmados diarios\": \"Casos confirmados diarios\", \"Promedio m\\u00f3vil \\u00faltimos 7 d\\u00edas\": \"Promedio m\\u00f3vil \\u00faltimos 7 d\\u00edas\"}, {\"Fecha\": \"2020-03-08\", \"Casos confirmados\": 0, \"Rolling\": null, \"Casos confirmados diarios\": \"Casos confirmados diarios\", \"Promedio m\\u00f3vil \\u00faltimos 7 d\\u00edas\": \"Promedio m\\u00f3vil \\u00faltimos 7 d\\u00edas\"}, {\"Fecha\": \"2020-03-09\", \"Casos confirmados\": 1, \"Rolling\": null, \"Casos confirmados diarios\": \"Casos confirmados diarios\", \"Promedio m\\u00f3vil \\u00faltimos 7 d\\u00edas\": \"Promedio m\\u00f3vil \\u00faltimos 7 d\\u00edas\"}, {\"Fecha\": \"2020-03-10\", \"Casos confirmados\": 0, \"Rolling\": 0.14285714285714285, \"Casos confirmados diarios\": \"Casos confirmados diarios\", \"Promedio m\\u00f3vil \\u00faltimos 7 d\\u00edas\": \"Promedio m\\u00f3vil \\u00faltimos 7 d\\u00edas\"}, {\"Fecha\": \"2020-03-11\", \"Casos confirmados\": 0, \"Rolling\": 0.14285714285714285, \"Casos confirmados diarios\": \"Casos confirmados diarios\", \"Promedio m\\u00f3vil \\u00faltimos 7 d\\u00edas\": \"Promedio m\\u00f3vil \\u00faltimos 7 d\\u00edas\"}, {\"Fecha\": \"2020-03-12\", \"Casos confirmados\": 0, \"Rolling\": 0.14285714285714285, \"Casos confirmados diarios\": \"Casos confirmados diarios\", \"Promedio m\\u00f3vil \\u00faltimos 7 d\\u00edas\": \"Promedio m\\u00f3vil \\u00faltimos 7 d\\u00edas\"}, {\"Fecha\": \"2020-03-13\", \"Casos confirmados\": 2, \"Rolling\": 0.42857142857142855, \"Casos confirmados diarios\": \"Casos confirmados diarios\", \"Promedio m\\u00f3vil \\u00faltimos 7 d\\u00edas\": \"Promedio m\\u00f3vil \\u00faltimos 7 d\\u00edas\"}, {\"Fecha\": \"2020-03-14\", \"Casos confirmados\": 0, \"Rolling\": 0.42857142857142855, \"Casos confirmados diarios\": \"Casos confirmados diarios\", \"Promedio m\\u00f3vil \\u00faltimos 7 d\\u00edas\": \"Promedio m\\u00f3vil \\u00faltimos 7 d\\u00edas\"}, {\"Fecha\": \"2020-03-15\", \"Casos confirmados\": 0, \"Rolling\": 0.42857142857142855, \"Casos confirmados diarios\": \"Casos confirmados diarios\", \"Promedio m\\u00f3vil \\u00faltimos 7 d\\u00edas\": \"Promedio m\\u00f3vil \\u00faltimos 7 d\\u00edas\"}, {\"Fecha\": \"2020-03-16\", \"Casos confirmados\": 1, \"Rolling\": 0.42857142857142855, \"Casos confirmados diarios\": \"Casos confirmados diarios\", \"Promedio m\\u00f3vil \\u00faltimos 7 d\\u00edas\": \"Promedio m\\u00f3vil \\u00faltimos 7 d\\u00edas\"}, {\"Fecha\": \"2020-03-17\", \"Casos confirmados\": 0, \"Rolling\": 0.42857142857142855, \"Casos confirmados diarios\": \"Casos confirmados diarios\", \"Promedio m\\u00f3vil \\u00faltimos 7 d\\u00edas\": \"Promedio m\\u00f3vil \\u00faltimos 7 d\\u00edas\"}, {\"Fecha\": \"2020-03-18\", \"Casos confirmados\": 3, \"Rolling\": 0.8571428571428571, \"Casos confirmados diarios\": \"Casos confirmados diarios\", \"Promedio m\\u00f3vil \\u00faltimos 7 d\\u00edas\": \"Promedio m\\u00f3vil \\u00faltimos 7 d\\u00edas\"}, {\"Fecha\": \"2020-03-19\", \"Casos confirmados\": 7, \"Rolling\": 1.8571428571428572, \"Casos confirmados diarios\": \"Casos confirmados diarios\", \"Promedio m\\u00f3vil \\u00faltimos 7 d\\u00edas\": \"Promedio m\\u00f3vil \\u00faltimos 7 d\\u00edas\"}, {\"Fecha\": \"2020-03-20\", \"Casos confirmados\": 5, \"Rolling\": 2.2857142857142856, \"Casos confirmados diarios\": \"Casos confirmados diarios\", \"Promedio m\\u00f3vil \\u00faltimos 7 d\\u00edas\": \"Promedio m\\u00f3vil \\u00faltimos 7 d\\u00edas\"}, {\"Fecha\": \"2020-03-21\", \"Casos confirmados\": 11, \"Rolling\": 3.857142857142857, \"Casos confirmados diarios\": \"Casos confirmados diarios\", \"Promedio m\\u00f3vil \\u00faltimos 7 d\\u00edas\": \"Promedio m\\u00f3vil \\u00faltimos 7 d\\u00edas\"}, {\"Fecha\": \"2020-03-22\", \"Casos confirmados\": 5, \"Rolling\": 4.571428571428571, \"Casos confirmados diarios\": \"Casos confirmados diarios\", \"Promedio m\\u00f3vil \\u00faltimos 7 d\\u00edas\": \"Promedio m\\u00f3vil \\u00faltimos 7 d\\u00edas\"}, {\"Fecha\": \"2020-03-23\", \"Casos confirmados\": 11, \"Rolling\": 6.0, \"Casos confirmados diarios\": \"Casos confirmados diarios\", \"Promedio m\\u00f3vil \\u00faltimos 7 d\\u00edas\": \"Promedio m\\u00f3vil \\u00faltimos 7 d\\u00edas\"}, {\"Fecha\": \"2020-03-24\", \"Casos confirmados\": 27, \"Rolling\": 9.857142857142858, \"Casos confirmados diarios\": \"Casos confirmados diarios\", \"Promedio m\\u00f3vil \\u00faltimos 7 d\\u00edas\": \"Promedio m\\u00f3vil \\u00faltimos 7 d\\u00edas\"}, {\"Fecha\": \"2020-03-25\", \"Casos confirmados\": 22, \"Rolling\": 12.571428571428571, \"Casos confirmados diarios\": \"Casos confirmados diarios\", \"Promedio m\\u00f3vil \\u00faltimos 7 d\\u00edas\": \"Promedio m\\u00f3vil \\u00faltimos 7 d\\u00edas\"}, {\"Fecha\": \"2020-03-26\", \"Casos confirmados\": 14, \"Rolling\": 13.571428571428571, \"Casos confirmados diarios\": \"Casos confirmados diarios\", \"Promedio m\\u00f3vil \\u00faltimos 7 d\\u00edas\": \"Promedio m\\u00f3vil \\u00faltimos 7 d\\u00edas\"}, {\"Fecha\": \"2020-03-27\", \"Casos confirmados\": 26, \"Rolling\": 16.571428571428573, \"Casos confirmados diarios\": \"Casos confirmados diarios\", \"Promedio m\\u00f3vil \\u00faltimos 7 d\\u00edas\": \"Promedio m\\u00f3vil \\u00faltimos 7 d\\u00edas\"}, {\"Fecha\": \"2020-03-28\", \"Casos confirmados\": 16, \"Rolling\": 17.285714285714285, \"Casos confirmados diarios\": \"Casos confirmados diarios\", \"Promedio m\\u00f3vil \\u00faltimos 7 d\\u00edas\": \"Promedio m\\u00f3vil \\u00faltimos 7 d\\u00edas\"}, {\"Fecha\": \"2020-03-29\", \"Casos confirmados\": 34, \"Rolling\": 21.428571428571427, \"Casos confirmados diarios\": \"Casos confirmados diarios\", \"Promedio m\\u00f3vil \\u00faltimos 7 d\\u00edas\": \"Promedio m\\u00f3vil \\u00faltimos 7 d\\u00edas\"}, {\"Fecha\": \"2020-03-30\", \"Casos confirmados\": 16, \"Rolling\": 22.142857142857142, \"Casos confirmados diarios\": \"Casos confirmados diarios\", \"Promedio m\\u00f3vil \\u00faltimos 7 d\\u00edas\": \"Promedio m\\u00f3vil \\u00faltimos 7 d\\u00edas\"}, {\"Fecha\": \"2020-03-31\", \"Casos confirmados\": 15, \"Rolling\": 20.428571428571427, \"Casos confirmados diarios\": \"Casos confirmados diarios\", \"Promedio m\\u00f3vil \\u00faltimos 7 d\\u00edas\": \"Promedio m\\u00f3vil \\u00faltimos 7 d\\u00edas\"}, {\"Fecha\": \"2020-04-01\", \"Casos confirmados\": 24, \"Rolling\": 20.714285714285715, \"Casos confirmados diarios\": \"Casos confirmados diarios\", \"Promedio m\\u00f3vil \\u00faltimos 7 d\\u00edas\": \"Promedio m\\u00f3vil \\u00faltimos 7 d\\u00edas\"}, {\"Fecha\": \"2020-04-02\", \"Casos confirmados\": 35, \"Rolling\": 23.714285714285715, \"Casos confirmados diarios\": \"Casos confirmados diarios\", \"Promedio m\\u00f3vil \\u00faltimos 7 d\\u00edas\": \"Promedio m\\u00f3vil \\u00faltimos 7 d\\u00edas\"}, {\"Fecha\": \"2020-04-03\", \"Casos confirmados\": 27, \"Rolling\": 23.857142857142858, \"Casos confirmados diarios\": \"Casos confirmados diarios\", \"Promedio m\\u00f3vil \\u00faltimos 7 d\\u00edas\": \"Promedio m\\u00f3vil \\u00faltimos 7 d\\u00edas\"}, {\"Fecha\": \"2020-04-04\", \"Casos confirmados\": 45, \"Rolling\": 28.0, \"Casos confirmados diarios\": \"Casos confirmados diarios\", \"Promedio m\\u00f3vil \\u00faltimos 7 d\\u00edas\": \"Promedio m\\u00f3vil \\u00faltimos 7 d\\u00edas\"}, {\"Fecha\": \"2020-04-05\", \"Casos confirmados\": 18, \"Rolling\": 25.714285714285715, \"Casos confirmados diarios\": \"Casos confirmados diarios\", \"Promedio m\\u00f3vil \\u00faltimos 7 d\\u00edas\": \"Promedio m\\u00f3vil \\u00faltimos 7 d\\u00edas\"}, {\"Fecha\": \"2020-04-06\", \"Casos confirmados\": 18, \"Rolling\": 26.0, \"Casos confirmados diarios\": \"Casos confirmados diarios\", \"Promedio m\\u00f3vil \\u00faltimos 7 d\\u00edas\": \"Promedio m\\u00f3vil \\u00faltimos 7 d\\u00edas\"}, {\"Fecha\": \"2020-04-07\", \"Casos confirmados\": 27, \"Rolling\": 27.714285714285715, \"Casos confirmados diarios\": \"Casos confirmados diarios\", \"Promedio m\\u00f3vil \\u00faltimos 7 d\\u00edas\": \"Promedio m\\u00f3vil \\u00faltimos 7 d\\u00edas\"}, {\"Fecha\": \"2020-04-08\", \"Casos confirmados\": 29, \"Rolling\": 28.428571428571427, \"Casos confirmados diarios\": \"Casos confirmados diarios\", \"Promedio m\\u00f3vil \\u00faltimos 7 d\\u00edas\": \"Promedio m\\u00f3vil \\u00faltimos 7 d\\u00edas\"}, {\"Fecha\": \"2020-04-09\", \"Casos confirmados\": 21, \"Rolling\": 26.428571428571427, \"Casos confirmados diarios\": \"Casos confirmados diarios\", \"Promedio m\\u00f3vil \\u00faltimos 7 d\\u00edas\": \"Promedio m\\u00f3vil \\u00faltimos 7 d\\u00edas\"}, {\"Fecha\": \"2020-04-10\", \"Casos confirmados\": 14, \"Rolling\": 24.571428571428573, \"Casos confirmados diarios\": \"Casos confirmados diarios\", \"Promedio m\\u00f3vil \\u00faltimos 7 d\\u00edas\": \"Promedio m\\u00f3vil \\u00faltimos 7 d\\u00edas\"}, {\"Fecha\": \"2020-04-11\", \"Casos confirmados\": 16, \"Rolling\": 20.428571428571427, \"Casos confirmados diarios\": \"Casos confirmados diarios\", \"Promedio m\\u00f3vil \\u00faltimos 7 d\\u00edas\": \"Promedio m\\u00f3vil \\u00faltimos 7 d\\u00edas\"}, {\"Fecha\": \"2020-04-12\", \"Casos confirmados\": 10, \"Rolling\": 19.285714285714285, \"Casos confirmados diarios\": \"Casos confirmados diarios\", \"Promedio m\\u00f3vil \\u00faltimos 7 d\\u00edas\": \"Promedio m\\u00f3vil \\u00faltimos 7 d\\u00edas\"}, {\"Fecha\": \"2020-04-13\", \"Casos confirmados\": 12, \"Rolling\": 18.428571428571427, \"Casos confirmados diarios\": \"Casos confirmados diarios\", \"Promedio m\\u00f3vil \\u00faltimos 7 d\\u00edas\": \"Promedio m\\u00f3vil \\u00faltimos 7 d\\u00edas\"}, {\"Fecha\": \"2020-04-14\", \"Casos confirmados\": 16, \"Rolling\": 16.857142857142858, \"Casos confirmados diarios\": \"Casos confirmados diarios\", \"Promedio m\\u00f3vil \\u00faltimos 7 d\\u00edas\": \"Promedio m\\u00f3vil \\u00faltimos 7 d\\u00edas\"}, {\"Fecha\": \"2020-04-15\", \"Casos confirmados\": 14, \"Rolling\": 14.714285714285714, \"Casos confirmados diarios\": \"Casos confirmados diarios\", \"Promedio m\\u00f3vil \\u00faltimos 7 d\\u00edas\": \"Promedio m\\u00f3vil \\u00faltimos 7 d\\u00edas\"}, {\"Fecha\": \"2020-04-16\", \"Casos confirmados\": 17, \"Rolling\": 14.142857142857142, \"Casos confirmados diarios\": \"Casos confirmados diarios\", \"Promedio m\\u00f3vil \\u00faltimos 7 d\\u00edas\": \"Promedio m\\u00f3vil \\u00faltimos 7 d\\u00edas\"}, {\"Fecha\": \"2020-04-17\", \"Casos confirmados\": 19, \"Rolling\": 14.857142857142858, \"Casos confirmados diarios\": \"Casos confirmados diarios\", \"Promedio m\\u00f3vil \\u00faltimos 7 d\\u00edas\": \"Promedio m\\u00f3vil \\u00faltimos 7 d\\u00edas\"}, {\"Fecha\": \"2020-04-18\", \"Casos confirmados\": 28, \"Rolling\": 16.571428571428573, \"Casos confirmados diarios\": \"Casos confirmados diarios\", \"Promedio m\\u00f3vil \\u00faltimos 7 d\\u00edas\": \"Promedio m\\u00f3vil \\u00faltimos 7 d\\u00edas\"}, {\"Fecha\": \"2020-04-19\", \"Casos confirmados\": 10, \"Rolling\": 16.571428571428573, \"Casos confirmados diarios\": \"Casos confirmados diarios\", \"Promedio m\\u00f3vil \\u00faltimos 7 d\\u00edas\": \"Promedio m\\u00f3vil \\u00faltimos 7 d\\u00edas\"}, {\"Fecha\": \"2020-04-20\", \"Casos confirmados\": 10, \"Rolling\": 16.285714285714285, \"Casos confirmados diarios\": \"Casos confirmados diarios\", \"Promedio m\\u00f3vil \\u00faltimos 7 d\\u00edas\": \"Promedio m\\u00f3vil \\u00faltimos 7 d\\u00edas\"}, {\"Fecha\": \"2020-04-21\", \"Casos confirmados\": 10, \"Rolling\": 15.428571428571429, \"Casos confirmados diarios\": \"Casos confirmados diarios\", \"Promedio m\\u00f3vil \\u00faltimos 7 d\\u00edas\": \"Promedio m\\u00f3vil \\u00faltimos 7 d\\u00edas\"}, {\"Fecha\": \"2020-04-22\", \"Casos confirmados\": 22, \"Rolling\": 16.571428571428573, \"Casos confirmados diarios\": \"Casos confirmados diarios\", \"Promedio m\\u00f3vil \\u00faltimos 7 d\\u00edas\": \"Promedio m\\u00f3vil \\u00faltimos 7 d\\u00edas\"}, {\"Fecha\": \"2020-04-23\", \"Casos confirmados\": 17, \"Rolling\": 16.571428571428573, \"Casos confirmados diarios\": \"Casos confirmados diarios\", \"Promedio m\\u00f3vil \\u00faltimos 7 d\\u00edas\": \"Promedio m\\u00f3vil \\u00faltimos 7 d\\u00edas\"}, {\"Fecha\": \"2020-04-24\", \"Casos confirmados\": 8, \"Rolling\": 15.0, \"Casos confirmados diarios\": \"Casos confirmados diarios\", \"Promedio m\\u00f3vil \\u00faltimos 7 d\\u00edas\": \"Promedio m\\u00f3vil \\u00faltimos 7 d\\u00edas\"}, {\"Fecha\": \"2020-04-25\", \"Casos confirmados\": 13, \"Rolling\": 12.857142857142858, \"Casos confirmados diarios\": \"Casos confirmados diarios\", \"Promedio m\\u00f3vil \\u00faltimos 7 d\\u00edas\": \"Promedio m\\u00f3vil \\u00faltimos 7 d\\u00edas\"}, {\"Fecha\": \"2020-04-26\", \"Casos confirmados\": 7, \"Rolling\": 12.428571428571429, \"Casos confirmados diarios\": \"Casos confirmados diarios\", \"Promedio m\\u00f3vil \\u00faltimos 7 d\\u00edas\": \"Promedio m\\u00f3vil \\u00faltimos 7 d\\u00edas\"}, {\"Fecha\": \"2020-04-27\", \"Casos confirmados\": 3, \"Rolling\": 11.428571428571429, \"Casos confirmados diarios\": \"Casos confirmados diarios\", \"Promedio m\\u00f3vil \\u00faltimos 7 d\\u00edas\": \"Promedio m\\u00f3vil \\u00faltimos 7 d\\u00edas\"}, {\"Fecha\": \"2020-04-28\", \"Casos confirmados\": 3, \"Rolling\": 10.428571428571429, \"Casos confirmados diarios\": \"Casos confirmados diarios\", \"Promedio m\\u00f3vil \\u00faltimos 7 d\\u00edas\": \"Promedio m\\u00f3vil \\u00faltimos 7 d\\u00edas\"}, {\"Fecha\": \"2020-04-29\", \"Casos confirmados\": 10, \"Rolling\": 8.714285714285714, \"Casos confirmados diarios\": \"Casos confirmados diarios\", \"Promedio m\\u00f3vil \\u00faltimos 7 d\\u00edas\": \"Promedio m\\u00f3vil \\u00faltimos 7 d\\u00edas\"}, {\"Fecha\": \"2020-04-30\", \"Casos confirmados\": 8, \"Rolling\": 7.428571428571429, \"Casos confirmados diarios\": \"Casos confirmados diarios\", \"Promedio m\\u00f3vil \\u00faltimos 7 d\\u00edas\": \"Promedio m\\u00f3vil \\u00faltimos 7 d\\u00edas\"}, {\"Fecha\": \"2020-05-01\", \"Casos confirmados\": 2, \"Rolling\": 6.571428571428571, \"Casos confirmados diarios\": \"Casos confirmados diarios\", \"Promedio m\\u00f3vil \\u00faltimos 7 d\\u00edas\": \"Promedio m\\u00f3vil \\u00faltimos 7 d\\u00edas\"}, {\"Fecha\": \"2020-05-02\", \"Casos confirmados\": 22, \"Rolling\": 7.857142857142857, \"Casos confirmados diarios\": \"Casos confirmados diarios\", \"Promedio m\\u00f3vil \\u00faltimos 7 d\\u00edas\": \"Promedio m\\u00f3vil \\u00faltimos 7 d\\u00edas\"}, {\"Fecha\": \"2020-05-03\", \"Casos confirmados\": 8, \"Rolling\": 8.0, \"Casos confirmados diarios\": \"Casos confirmados diarios\", \"Promedio m\\u00f3vil \\u00faltimos 7 d\\u00edas\": \"Promedio m\\u00f3vil \\u00faltimos 7 d\\u00edas\"}, {\"Fecha\": \"2020-05-04\", \"Casos confirmados\": 3, \"Rolling\": 8.0, \"Casos confirmados diarios\": \"Casos confirmados diarios\", \"Promedio m\\u00f3vil \\u00faltimos 7 d\\u00edas\": \"Promedio m\\u00f3vil \\u00faltimos 7 d\\u00edas\"}, {\"Fecha\": \"2020-05-05\", \"Casos confirmados\": 12, \"Rolling\": 9.285714285714286, \"Casos confirmados diarios\": \"Casos confirmados diarios\", \"Promedio m\\u00f3vil \\u00faltimos 7 d\\u00edas\": \"Promedio m\\u00f3vil \\u00faltimos 7 d\\u00edas\"}, {\"Fecha\": \"2020-05-06\", \"Casos confirmados\": 15, \"Rolling\": 10.0, \"Casos confirmados diarios\": \"Casos confirmados diarios\", \"Promedio m\\u00f3vil \\u00faltimos 7 d\\u00edas\": \"Promedio m\\u00f3vil \\u00faltimos 7 d\\u00edas\"}, {\"Fecha\": \"2020-05-07\", \"Casos confirmados\": 25, \"Rolling\": 12.428571428571429, \"Casos confirmados diarios\": \"Casos confirmados diarios\", \"Promedio m\\u00f3vil \\u00faltimos 7 d\\u00edas\": \"Promedio m\\u00f3vil \\u00faltimos 7 d\\u00edas\"}, {\"Fecha\": \"2020-05-08\", \"Casos confirmados\": 28, \"Rolling\": 16.142857142857142, \"Casos confirmados diarios\": \"Casos confirmados diarios\", \"Promedio m\\u00f3vil \\u00faltimos 7 d\\u00edas\": \"Promedio m\\u00f3vil \\u00faltimos 7 d\\u00edas\"}, {\"Fecha\": \"2020-05-09\", \"Casos confirmados\": 40, \"Rolling\": 18.714285714285715, \"Casos confirmados diarios\": \"Casos confirmados diarios\", \"Promedio m\\u00f3vil \\u00faltimos 7 d\\u00edas\": \"Promedio m\\u00f3vil \\u00faltimos 7 d\\u00edas\"}, {\"Fecha\": \"2020-05-10\", \"Casos confirmados\": 17, \"Rolling\": 20.0, \"Casos confirmados diarios\": \"Casos confirmados diarios\", \"Promedio m\\u00f3vil \\u00faltimos 7 d\\u00edas\": \"Promedio m\\u00f3vil \\u00faltimos 7 d\\u00edas\"}, {\"Fecha\": \"2020-05-11\", \"Casos confirmados\": 33, \"Rolling\": 24.285714285714285, \"Casos confirmados diarios\": \"Casos confirmados diarios\", \"Promedio m\\u00f3vil \\u00faltimos 7 d\\u00edas\": \"Promedio m\\u00f3vil \\u00faltimos 7 d\\u00edas\"}, {\"Fecha\": \"2020-05-12\", \"Casos confirmados\": 10, \"Rolling\": 24.0, \"Casos confirmados diarios\": \"Casos confirmados diarios\", \"Promedio m\\u00f3vil \\u00faltimos 7 d\\u00edas\": \"Promedio m\\u00f3vil \\u00faltimos 7 d\\u00edas\"}, {\"Fecha\": \"2020-05-13\", \"Casos confirmados\": 33, \"Rolling\": 26.571428571428573, \"Casos confirmados diarios\": \"Casos confirmados diarios\", \"Promedio m\\u00f3vil \\u00faltimos 7 d\\u00edas\": \"Promedio m\\u00f3vil \\u00faltimos 7 d\\u00edas\"}]}}, {\"mode\": \"vega-lite\"});\n",
       "</script>"
      ],
      "text/plain": [
       "alt.LayerChart(...)"
      ]
     },
     "execution_count": 29,
     "metadata": {},
     "output_type": "execute_result"
    }
   ],
   "source": [
    "#hide_input\n",
    "bars, line = my_cases_plot(region)\n",
    "(bars + line).properties(\n",
    "    title=f'Covid-19 en Chile: Casos confirmados diarios en {region}',\n",
    "    width=600\n",
    ")"
   ]
  },
  {
   "cell_type": "markdown",
   "metadata": {},
   "source": [
    "## Araucanía"
   ]
  },
  {
   "cell_type": "code",
   "execution_count": 30,
   "metadata": {
    "scrolled": false
   },
   "outputs": [],
   "source": [
    "#hide\n",
    "region = \"Araucanía\""
   ]
  },
  {
   "cell_type": "code",
   "execution_count": 31,
   "metadata": {},
   "outputs": [
    {
     "data": {
      "text/html": [
       "\n",
       "<div id=\"altair-viz-2ae3470051a84f89bb8c3778a97027e1\"></div>\n",
       "<script type=\"text/javascript\">\n",
       "  (function(spec, embedOpt){\n",
       "    let outputDiv = document.currentScript.previousElementSibling;\n",
       "    if (outputDiv.id !== \"altair-viz-2ae3470051a84f89bb8c3778a97027e1\") {\n",
       "      outputDiv = document.getElementById(\"altair-viz-2ae3470051a84f89bb8c3778a97027e1\");\n",
       "    }\n",
       "    const paths = {\n",
       "      \"vega\": \"https://cdn.jsdelivr.net/npm//vega@5?noext\",\n",
       "      \"vega-lib\": \"https://cdn.jsdelivr.net/npm//vega-lib?noext\",\n",
       "      \"vega-lite\": \"https://cdn.jsdelivr.net/npm//vega-lite@4.8.1?noext\",\n",
       "      \"vega-embed\": \"https://cdn.jsdelivr.net/npm//vega-embed@6?noext\",\n",
       "    };\n",
       "\n",
       "    function loadScript(lib) {\n",
       "      return new Promise(function(resolve, reject) {\n",
       "        var s = document.createElement('script');\n",
       "        s.src = paths[lib];\n",
       "        s.async = true;\n",
       "        s.onload = () => resolve(paths[lib]);\n",
       "        s.onerror = () => reject(`Error loading script: ${paths[lib]}`);\n",
       "        document.getElementsByTagName(\"head\")[0].appendChild(s);\n",
       "      });\n",
       "    }\n",
       "\n",
       "    function showError(err) {\n",
       "      outputDiv.innerHTML = `<div class=\"error\" style=\"color:red;\">${err}</div>`;\n",
       "      throw err;\n",
       "    }\n",
       "\n",
       "    function displayChart(vegaEmbed) {\n",
       "      vegaEmbed(outputDiv, spec, embedOpt)\n",
       "        .catch(err => showError(`Javascript Error: ${err.message}<br>This usually means there's a typo in your chart specification. See the javascript console for the full traceback.`));\n",
       "    }\n",
       "\n",
       "    if(typeof define === \"function\" && define.amd) {\n",
       "      requirejs.config({paths});\n",
       "      require([\"vega-embed\"], displayChart, err => showError(`Error loading script: ${err.message}`));\n",
       "    } else if (typeof vegaEmbed === \"function\") {\n",
       "      displayChart(vegaEmbed);\n",
       "    } else {\n",
       "      loadScript(\"vega\")\n",
       "        .then(() => loadScript(\"vega-lite\"))\n",
       "        .then(() => loadScript(\"vega-embed\"))\n",
       "        .catch(showError)\n",
       "        .then(() => displayChart(vegaEmbed));\n",
       "    }\n",
       "  })({\"config\": {\"view\": {\"continuousWidth\": 400, \"continuousHeight\": 300}}, \"layer\": [{\"mark\": {\"type\": \"bar\", \"opacity\": 0.7}, \"encoding\": {\"opacity\": {\"type\": \"nominal\", \"field\": \"Casos confirmados diarios\", \"legend\": {\"title\": \"\"}}, \"tooltip\": [{\"type\": \"nominal\", \"field\": \"Fecha\"}, {\"type\": \"quantitative\", \"field\": \"Casos confirmados\"}], \"x\": {\"type\": \"nominal\", \"axis\": {\"title\": \"Fecha (a\\u00f1o-mes-d\\u00eda)\"}, \"field\": \"Fecha\"}, \"y\": {\"type\": \"quantitative\", \"axis\": {\"title\": \"Casos confirmados diarios\"}, \"field\": \"Casos confirmados\"}}}, {\"mark\": {\"type\": \"line\", \"color\": \"#1f77b4\", \"point\": {\"filled\": true, \"fill\": \"#1f77b4\"}}, \"encoding\": {\"shape\": {\"type\": \"nominal\", \"field\": \"Promedio m\\u00f3vil \\u00faltimos 7 d\\u00edas\", \"legend\": {\"title\": \"\"}}, \"x\": {\"type\": \"nominal\", \"axis\": {\"title\": \"Fecha (a\\u00f1o-mes-d\\u00eda)\"}, \"field\": \"Fecha\"}, \"y\": {\"type\": \"quantitative\", \"field\": \"Rolling\"}}}], \"data\": {\"name\": \"data-096848e019690c0d45cf4eeb90bb98f2\"}, \"title\": \"Covid-19 en Chile: Casos confirmados diarios en Araucan\\u00eda\", \"width\": 600, \"$schema\": \"https://vega.github.io/schema/vega-lite/v4.8.1.json\", \"datasets\": {\"data-096848e019690c0d45cf4eeb90bb98f2\": [{\"Fecha\": \"2020-03-04\", \"Casos confirmados\": 0, \"Rolling\": null, \"Casos confirmados diarios\": \"Casos confirmados diarios\", \"Promedio m\\u00f3vil \\u00faltimos 7 d\\u00edas\": \"Promedio m\\u00f3vil \\u00faltimos 7 d\\u00edas\"}, {\"Fecha\": \"2020-03-05\", \"Casos confirmados\": 0, \"Rolling\": null, \"Casos confirmados diarios\": \"Casos confirmados diarios\", \"Promedio m\\u00f3vil \\u00faltimos 7 d\\u00edas\": \"Promedio m\\u00f3vil \\u00faltimos 7 d\\u00edas\"}, {\"Fecha\": \"2020-03-06\", \"Casos confirmados\": 0, \"Rolling\": null, \"Casos confirmados diarios\": \"Casos confirmados diarios\", \"Promedio m\\u00f3vil \\u00faltimos 7 d\\u00edas\": \"Promedio m\\u00f3vil \\u00faltimos 7 d\\u00edas\"}, {\"Fecha\": \"2020-03-07\", \"Casos confirmados\": 0, \"Rolling\": null, \"Casos confirmados diarios\": \"Casos confirmados diarios\", \"Promedio m\\u00f3vil \\u00faltimos 7 d\\u00edas\": \"Promedio m\\u00f3vil \\u00faltimos 7 d\\u00edas\"}, {\"Fecha\": \"2020-03-08\", \"Casos confirmados\": 0, \"Rolling\": null, \"Casos confirmados diarios\": \"Casos confirmados diarios\", \"Promedio m\\u00f3vil \\u00faltimos 7 d\\u00edas\": \"Promedio m\\u00f3vil \\u00faltimos 7 d\\u00edas\"}, {\"Fecha\": \"2020-03-09\", \"Casos confirmados\": 0, \"Rolling\": null, \"Casos confirmados diarios\": \"Casos confirmados diarios\", \"Promedio m\\u00f3vil \\u00faltimos 7 d\\u00edas\": \"Promedio m\\u00f3vil \\u00faltimos 7 d\\u00edas\"}, {\"Fecha\": \"2020-03-10\", \"Casos confirmados\": 0, \"Rolling\": 0.0, \"Casos confirmados diarios\": \"Casos confirmados diarios\", \"Promedio m\\u00f3vil \\u00faltimos 7 d\\u00edas\": \"Promedio m\\u00f3vil \\u00faltimos 7 d\\u00edas\"}, {\"Fecha\": \"2020-03-11\", \"Casos confirmados\": 0, \"Rolling\": 0.0, \"Casos confirmados diarios\": \"Casos confirmados diarios\", \"Promedio m\\u00f3vil \\u00faltimos 7 d\\u00edas\": \"Promedio m\\u00f3vil \\u00faltimos 7 d\\u00edas\"}, {\"Fecha\": \"2020-03-12\", \"Casos confirmados\": 0, \"Rolling\": 0.0, \"Casos confirmados diarios\": \"Casos confirmados diarios\", \"Promedio m\\u00f3vil \\u00faltimos 7 d\\u00edas\": \"Promedio m\\u00f3vil \\u00faltimos 7 d\\u00edas\"}, {\"Fecha\": \"2020-03-13\", \"Casos confirmados\": 0, \"Rolling\": 0.0, \"Casos confirmados diarios\": \"Casos confirmados diarios\", \"Promedio m\\u00f3vil \\u00faltimos 7 d\\u00edas\": \"Promedio m\\u00f3vil \\u00faltimos 7 d\\u00edas\"}, {\"Fecha\": \"2020-03-14\", \"Casos confirmados\": 0, \"Rolling\": 0.0, \"Casos confirmados diarios\": \"Casos confirmados diarios\", \"Promedio m\\u00f3vil \\u00faltimos 7 d\\u00edas\": \"Promedio m\\u00f3vil \\u00faltimos 7 d\\u00edas\"}, {\"Fecha\": \"2020-03-15\", \"Casos confirmados\": 0, \"Rolling\": 0.0, \"Casos confirmados diarios\": \"Casos confirmados diarios\", \"Promedio m\\u00f3vil \\u00faltimos 7 d\\u00edas\": \"Promedio m\\u00f3vil \\u00faltimos 7 d\\u00edas\"}, {\"Fecha\": \"2020-03-16\", \"Casos confirmados\": 1, \"Rolling\": 0.14285714285714285, \"Casos confirmados diarios\": \"Casos confirmados diarios\", \"Promedio m\\u00f3vil \\u00faltimos 7 d\\u00edas\": \"Promedio m\\u00f3vil \\u00faltimos 7 d\\u00edas\"}, {\"Fecha\": \"2020-03-17\", \"Casos confirmados\": 0, \"Rolling\": 0.14285714285714285, \"Casos confirmados diarios\": \"Casos confirmados diarios\", \"Promedio m\\u00f3vil \\u00faltimos 7 d\\u00edas\": \"Promedio m\\u00f3vil \\u00faltimos 7 d\\u00edas\"}, {\"Fecha\": \"2020-03-18\", \"Casos confirmados\": 3, \"Rolling\": 0.5714285714285714, \"Casos confirmados diarios\": \"Casos confirmados diarios\", \"Promedio m\\u00f3vil \\u00faltimos 7 d\\u00edas\": \"Promedio m\\u00f3vil \\u00faltimos 7 d\\u00edas\"}, {\"Fecha\": \"2020-03-19\", \"Casos confirmados\": 3, \"Rolling\": 1.0, \"Casos confirmados diarios\": \"Casos confirmados diarios\", \"Promedio m\\u00f3vil \\u00faltimos 7 d\\u00edas\": \"Promedio m\\u00f3vil \\u00faltimos 7 d\\u00edas\"}, {\"Fecha\": \"2020-03-20\", \"Casos confirmados\": 2, \"Rolling\": 1.2857142857142858, \"Casos confirmados diarios\": \"Casos confirmados diarios\", \"Promedio m\\u00f3vil \\u00faltimos 7 d\\u00edas\": \"Promedio m\\u00f3vil \\u00faltimos 7 d\\u00edas\"}, {\"Fecha\": \"2020-03-21\", \"Casos confirmados\": 6, \"Rolling\": 2.142857142857143, \"Casos confirmados diarios\": \"Casos confirmados diarios\", \"Promedio m\\u00f3vil \\u00faltimos 7 d\\u00edas\": \"Promedio m\\u00f3vil \\u00faltimos 7 d\\u00edas\"}, {\"Fecha\": \"2020-03-22\", \"Casos confirmados\": 12, \"Rolling\": 3.857142857142857, \"Casos confirmados diarios\": \"Casos confirmados diarios\", \"Promedio m\\u00f3vil \\u00faltimos 7 d\\u00edas\": \"Promedio m\\u00f3vil \\u00faltimos 7 d\\u00edas\"}, {\"Fecha\": \"2020-03-23\", \"Casos confirmados\": 13, \"Rolling\": 5.571428571428571, \"Casos confirmados diarios\": \"Casos confirmados diarios\", \"Promedio m\\u00f3vil \\u00faltimos 7 d\\u00edas\": \"Promedio m\\u00f3vil \\u00faltimos 7 d\\u00edas\"}, {\"Fecha\": \"2020-03-24\", \"Casos confirmados\": 19, \"Rolling\": 8.285714285714286, \"Casos confirmados diarios\": \"Casos confirmados diarios\", \"Promedio m\\u00f3vil \\u00faltimos 7 d\\u00edas\": \"Promedio m\\u00f3vil \\u00faltimos 7 d\\u00edas\"}, {\"Fecha\": \"2020-03-25\", \"Casos confirmados\": 15, \"Rolling\": 10.0, \"Casos confirmados diarios\": \"Casos confirmados diarios\", \"Promedio m\\u00f3vil \\u00faltimos 7 d\\u00edas\": \"Promedio m\\u00f3vil \\u00faltimos 7 d\\u00edas\"}, {\"Fecha\": \"2020-03-26\", \"Casos confirmados\": 37, \"Rolling\": 14.857142857142858, \"Casos confirmados diarios\": \"Casos confirmados diarios\", \"Promedio m\\u00f3vil \\u00faltimos 7 d\\u00edas\": \"Promedio m\\u00f3vil \\u00faltimos 7 d\\u00edas\"}, {\"Fecha\": \"2020-03-27\", \"Casos confirmados\": 32, \"Rolling\": 19.142857142857142, \"Casos confirmados diarios\": \"Casos confirmados diarios\", \"Promedio m\\u00f3vil \\u00faltimos 7 d\\u00edas\": \"Promedio m\\u00f3vil \\u00faltimos 7 d\\u00edas\"}, {\"Fecha\": \"2020-03-28\", \"Casos confirmados\": 34, \"Rolling\": 23.142857142857142, \"Casos confirmados diarios\": \"Casos confirmados diarios\", \"Promedio m\\u00f3vil \\u00faltimos 7 d\\u00edas\": \"Promedio m\\u00f3vil \\u00faltimos 7 d\\u00edas\"}, {\"Fecha\": \"2020-03-29\", \"Casos confirmados\": 28, \"Rolling\": 25.428571428571427, \"Casos confirmados diarios\": \"Casos confirmados diarios\", \"Promedio m\\u00f3vil \\u00faltimos 7 d\\u00edas\": \"Promedio m\\u00f3vil \\u00faltimos 7 d\\u00edas\"}, {\"Fecha\": \"2020-03-30\", \"Casos confirmados\": 42, \"Rolling\": 29.571428571428573, \"Casos confirmados diarios\": \"Casos confirmados diarios\", \"Promedio m\\u00f3vil \\u00faltimos 7 d\\u00edas\": \"Promedio m\\u00f3vil \\u00faltimos 7 d\\u00edas\"}, {\"Fecha\": \"2020-03-31\", \"Casos confirmados\": 55, \"Rolling\": 34.714285714285715, \"Casos confirmados diarios\": \"Casos confirmados diarios\", \"Promedio m\\u00f3vil \\u00faltimos 7 d\\u00edas\": \"Promedio m\\u00f3vil \\u00faltimos 7 d\\u00edas\"}, {\"Fecha\": \"2020-04-01\", \"Casos confirmados\": 41, \"Rolling\": 38.42857142857143, \"Casos confirmados diarios\": \"Casos confirmados diarios\", \"Promedio m\\u00f3vil \\u00faltimos 7 d\\u00edas\": \"Promedio m\\u00f3vil \\u00faltimos 7 d\\u00edas\"}, {\"Fecha\": \"2020-04-02\", \"Casos confirmados\": 46, \"Rolling\": 39.714285714285715, \"Casos confirmados diarios\": \"Casos confirmados diarios\", \"Promedio m\\u00f3vil \\u00faltimos 7 d\\u00edas\": \"Promedio m\\u00f3vil \\u00faltimos 7 d\\u00edas\"}, {\"Fecha\": \"2020-04-03\", \"Casos confirmados\": 43, \"Rolling\": 41.285714285714285, \"Casos confirmados diarios\": \"Casos confirmados diarios\", \"Promedio m\\u00f3vil \\u00faltimos 7 d\\u00edas\": \"Promedio m\\u00f3vil \\u00faltimos 7 d\\u00edas\"}, {\"Fecha\": \"2020-04-04\", \"Casos confirmados\": 45, \"Rolling\": 42.857142857142854, \"Casos confirmados diarios\": \"Casos confirmados diarios\", \"Promedio m\\u00f3vil \\u00faltimos 7 d\\u00edas\": \"Promedio m\\u00f3vil \\u00faltimos 7 d\\u00edas\"}, {\"Fecha\": \"2020-04-05\", \"Casos confirmados\": 32, \"Rolling\": 43.42857142857143, \"Casos confirmados diarios\": \"Casos confirmados diarios\", \"Promedio m\\u00f3vil \\u00faltimos 7 d\\u00edas\": \"Promedio m\\u00f3vil \\u00faltimos 7 d\\u00edas\"}, {\"Fecha\": \"2020-04-06\", \"Casos confirmados\": 53, \"Rolling\": 45.0, \"Casos confirmados diarios\": \"Casos confirmados diarios\", \"Promedio m\\u00f3vil \\u00faltimos 7 d\\u00edas\": \"Promedio m\\u00f3vil \\u00faltimos 7 d\\u00edas\"}, {\"Fecha\": \"2020-04-07\", \"Casos confirmados\": 50, \"Rolling\": 44.285714285714285, \"Casos confirmados diarios\": \"Casos confirmados diarios\", \"Promedio m\\u00f3vil \\u00faltimos 7 d\\u00edas\": \"Promedio m\\u00f3vil \\u00faltimos 7 d\\u00edas\"}, {\"Fecha\": \"2020-04-08\", \"Casos confirmados\": 57, \"Rolling\": 46.57142857142857, \"Casos confirmados diarios\": \"Casos confirmados diarios\", \"Promedio m\\u00f3vil \\u00faltimos 7 d\\u00edas\": \"Promedio m\\u00f3vil \\u00faltimos 7 d\\u00edas\"}, {\"Fecha\": \"2020-04-09\", \"Casos confirmados\": 20, \"Rolling\": 42.857142857142854, \"Casos confirmados diarios\": \"Casos confirmados diarios\", \"Promedio m\\u00f3vil \\u00faltimos 7 d\\u00edas\": \"Promedio m\\u00f3vil \\u00faltimos 7 d\\u00edas\"}, {\"Fecha\": \"2020-04-10\", \"Casos confirmados\": 23, \"Rolling\": 40.0, \"Casos confirmados diarios\": \"Casos confirmados diarios\", \"Promedio m\\u00f3vil \\u00faltimos 7 d\\u00edas\": \"Promedio m\\u00f3vil \\u00faltimos 7 d\\u00edas\"}, {\"Fecha\": \"2020-04-11\", \"Casos confirmados\": 27, \"Rolling\": 37.42857142857143, \"Casos confirmados diarios\": \"Casos confirmados diarios\", \"Promedio m\\u00f3vil \\u00faltimos 7 d\\u00edas\": \"Promedio m\\u00f3vil \\u00faltimos 7 d\\u00edas\"}, {\"Fecha\": \"2020-04-12\", \"Casos confirmados\": 36, \"Rolling\": 38.0, \"Casos confirmados diarios\": \"Casos confirmados diarios\", \"Promedio m\\u00f3vil \\u00faltimos 7 d\\u00edas\": \"Promedio m\\u00f3vil \\u00faltimos 7 d\\u00edas\"}, {\"Fecha\": \"2020-04-13\", \"Casos confirmados\": 20, \"Rolling\": 33.285714285714285, \"Casos confirmados diarios\": \"Casos confirmados diarios\", \"Promedio m\\u00f3vil \\u00faltimos 7 d\\u00edas\": \"Promedio m\\u00f3vil \\u00faltimos 7 d\\u00edas\"}, {\"Fecha\": \"2020-04-14\", \"Casos confirmados\": 21, \"Rolling\": 29.142857142857142, \"Casos confirmados diarios\": \"Casos confirmados diarios\", \"Promedio m\\u00f3vil \\u00faltimos 7 d\\u00edas\": \"Promedio m\\u00f3vil \\u00faltimos 7 d\\u00edas\"}, {\"Fecha\": \"2020-04-15\", \"Casos confirmados\": 10, \"Rolling\": 22.428571428571427, \"Casos confirmados diarios\": \"Casos confirmados diarios\", \"Promedio m\\u00f3vil \\u00faltimos 7 d\\u00edas\": \"Promedio m\\u00f3vil \\u00faltimos 7 d\\u00edas\"}, {\"Fecha\": \"2020-04-16\", \"Casos confirmados\": 56, \"Rolling\": 27.571428571428573, \"Casos confirmados diarios\": \"Casos confirmados diarios\", \"Promedio m\\u00f3vil \\u00faltimos 7 d\\u00edas\": \"Promedio m\\u00f3vil \\u00faltimos 7 d\\u00edas\"}, {\"Fecha\": \"2020-04-17\", \"Casos confirmados\": 25, \"Rolling\": 27.857142857142858, \"Casos confirmados diarios\": \"Casos confirmados diarios\", \"Promedio m\\u00f3vil \\u00faltimos 7 d\\u00edas\": \"Promedio m\\u00f3vil \\u00faltimos 7 d\\u00edas\"}, {\"Fecha\": \"2020-04-18\", \"Casos confirmados\": 37, \"Rolling\": 29.285714285714285, \"Casos confirmados diarios\": \"Casos confirmados diarios\", \"Promedio m\\u00f3vil \\u00faltimos 7 d\\u00edas\": \"Promedio m\\u00f3vil \\u00faltimos 7 d\\u00edas\"}, {\"Fecha\": \"2020-04-19\", \"Casos confirmados\": 28, \"Rolling\": 28.142857142857142, \"Casos confirmados diarios\": \"Casos confirmados diarios\", \"Promedio m\\u00f3vil \\u00faltimos 7 d\\u00edas\": \"Promedio m\\u00f3vil \\u00faltimos 7 d\\u00edas\"}, {\"Fecha\": \"2020-04-20\", \"Casos confirmados\": 73, \"Rolling\": 35.714285714285715, \"Casos confirmados diarios\": \"Casos confirmados diarios\", \"Promedio m\\u00f3vil \\u00faltimos 7 d\\u00edas\": \"Promedio m\\u00f3vil \\u00faltimos 7 d\\u00edas\"}, {\"Fecha\": \"2020-04-21\", \"Casos confirmados\": 47, \"Rolling\": 39.42857142857143, \"Casos confirmados diarios\": \"Casos confirmados diarios\", \"Promedio m\\u00f3vil \\u00faltimos 7 d\\u00edas\": \"Promedio m\\u00f3vil \\u00faltimos 7 d\\u00edas\"}, {\"Fecha\": \"2020-04-22\", \"Casos confirmados\": 21, \"Rolling\": 41.0, \"Casos confirmados diarios\": \"Casos confirmados diarios\", \"Promedio m\\u00f3vil \\u00faltimos 7 d\\u00edas\": \"Promedio m\\u00f3vil \\u00faltimos 7 d\\u00edas\"}, {\"Fecha\": \"2020-04-23\", \"Casos confirmados\": 29, \"Rolling\": 37.142857142857146, \"Casos confirmados diarios\": \"Casos confirmados diarios\", \"Promedio m\\u00f3vil \\u00faltimos 7 d\\u00edas\": \"Promedio m\\u00f3vil \\u00faltimos 7 d\\u00edas\"}, {\"Fecha\": \"2020-04-24\", \"Casos confirmados\": 42, \"Rolling\": 39.57142857142857, \"Casos confirmados diarios\": \"Casos confirmados diarios\", \"Promedio m\\u00f3vil \\u00faltimos 7 d\\u00edas\": \"Promedio m\\u00f3vil \\u00faltimos 7 d\\u00edas\"}, {\"Fecha\": \"2020-04-25\", \"Casos confirmados\": 19, \"Rolling\": 37.0, \"Casos confirmados diarios\": \"Casos confirmados diarios\", \"Promedio m\\u00f3vil \\u00faltimos 7 d\\u00edas\": \"Promedio m\\u00f3vil \\u00faltimos 7 d\\u00edas\"}, {\"Fecha\": \"2020-04-26\", \"Casos confirmados\": 13, \"Rolling\": 34.857142857142854, \"Casos confirmados diarios\": \"Casos confirmados diarios\", \"Promedio m\\u00f3vil \\u00faltimos 7 d\\u00edas\": \"Promedio m\\u00f3vil \\u00faltimos 7 d\\u00edas\"}, {\"Fecha\": \"2020-04-27\", \"Casos confirmados\": 20, \"Rolling\": 27.285714285714285, \"Casos confirmados diarios\": \"Casos confirmados diarios\", \"Promedio m\\u00f3vil \\u00faltimos 7 d\\u00edas\": \"Promedio m\\u00f3vil \\u00faltimos 7 d\\u00edas\"}, {\"Fecha\": \"2020-04-28\", \"Casos confirmados\": 15, \"Rolling\": 22.714285714285715, \"Casos confirmados diarios\": \"Casos confirmados diarios\", \"Promedio m\\u00f3vil \\u00faltimos 7 d\\u00edas\": \"Promedio m\\u00f3vil \\u00faltimos 7 d\\u00edas\"}, {\"Fecha\": \"2020-04-29\", \"Casos confirmados\": 22, \"Rolling\": 22.857142857142858, \"Casos confirmados diarios\": \"Casos confirmados diarios\", \"Promedio m\\u00f3vil \\u00faltimos 7 d\\u00edas\": \"Promedio m\\u00f3vil \\u00faltimos 7 d\\u00edas\"}, {\"Fecha\": \"2020-04-30\", \"Casos confirmados\": 20, \"Rolling\": 21.571428571428573, \"Casos confirmados diarios\": \"Casos confirmados diarios\", \"Promedio m\\u00f3vil \\u00faltimos 7 d\\u00edas\": \"Promedio m\\u00f3vil \\u00faltimos 7 d\\u00edas\"}, {\"Fecha\": \"2020-05-01\", \"Casos confirmados\": 2, \"Rolling\": 15.857142857142858, \"Casos confirmados diarios\": \"Casos confirmados diarios\", \"Promedio m\\u00f3vil \\u00faltimos 7 d\\u00edas\": \"Promedio m\\u00f3vil \\u00faltimos 7 d\\u00edas\"}, {\"Fecha\": \"2020-05-02\", \"Casos confirmados\": 19, \"Rolling\": 15.857142857142858, \"Casos confirmados diarios\": \"Casos confirmados diarios\", \"Promedio m\\u00f3vil \\u00faltimos 7 d\\u00edas\": \"Promedio m\\u00f3vil \\u00faltimos 7 d\\u00edas\"}, {\"Fecha\": \"2020-05-03\", \"Casos confirmados\": 14, \"Rolling\": 16.0, \"Casos confirmados diarios\": \"Casos confirmados diarios\", \"Promedio m\\u00f3vil \\u00faltimos 7 d\\u00edas\": \"Promedio m\\u00f3vil \\u00faltimos 7 d\\u00edas\"}, {\"Fecha\": \"2020-05-04\", \"Casos confirmados\": 3, \"Rolling\": 13.571428571428571, \"Casos confirmados diarios\": \"Casos confirmados diarios\", \"Promedio m\\u00f3vil \\u00faltimos 7 d\\u00edas\": \"Promedio m\\u00f3vil \\u00faltimos 7 d\\u00edas\"}, {\"Fecha\": \"2020-05-05\", \"Casos confirmados\": 21, \"Rolling\": 14.428571428571429, \"Casos confirmados diarios\": \"Casos confirmados diarios\", \"Promedio m\\u00f3vil \\u00faltimos 7 d\\u00edas\": \"Promedio m\\u00f3vil \\u00faltimos 7 d\\u00edas\"}, {\"Fecha\": \"2020-05-06\", \"Casos confirmados\": 10, \"Rolling\": 12.714285714285714, \"Casos confirmados diarios\": \"Casos confirmados diarios\", \"Promedio m\\u00f3vil \\u00faltimos 7 d\\u00edas\": \"Promedio m\\u00f3vil \\u00faltimos 7 d\\u00edas\"}, {\"Fecha\": \"2020-05-07\", \"Casos confirmados\": 23, \"Rolling\": 13.142857142857142, \"Casos confirmados diarios\": \"Casos confirmados diarios\", \"Promedio m\\u00f3vil \\u00faltimos 7 d\\u00edas\": \"Promedio m\\u00f3vil \\u00faltimos 7 d\\u00edas\"}, {\"Fecha\": \"2020-05-08\", \"Casos confirmados\": 18, \"Rolling\": 15.428571428571429, \"Casos confirmados diarios\": \"Casos confirmados diarios\", \"Promedio m\\u00f3vil \\u00faltimos 7 d\\u00edas\": \"Promedio m\\u00f3vil \\u00faltimos 7 d\\u00edas\"}, {\"Fecha\": \"2020-05-09\", \"Casos confirmados\": 15, \"Rolling\": 14.857142857142858, \"Casos confirmados diarios\": \"Casos confirmados diarios\", \"Promedio m\\u00f3vil \\u00faltimos 7 d\\u00edas\": \"Promedio m\\u00f3vil \\u00faltimos 7 d\\u00edas\"}, {\"Fecha\": \"2020-05-10\", \"Casos confirmados\": 36, \"Rolling\": 18.0, \"Casos confirmados diarios\": \"Casos confirmados diarios\", \"Promedio m\\u00f3vil \\u00faltimos 7 d\\u00edas\": \"Promedio m\\u00f3vil \\u00faltimos 7 d\\u00edas\"}, {\"Fecha\": \"2020-05-11\", \"Casos confirmados\": 12, \"Rolling\": 19.285714285714285, \"Casos confirmados diarios\": \"Casos confirmados diarios\", \"Promedio m\\u00f3vil \\u00faltimos 7 d\\u00edas\": \"Promedio m\\u00f3vil \\u00faltimos 7 d\\u00edas\"}, {\"Fecha\": \"2020-05-12\", \"Casos confirmados\": 16, \"Rolling\": 18.571428571428573, \"Casos confirmados diarios\": \"Casos confirmados diarios\", \"Promedio m\\u00f3vil \\u00faltimos 7 d\\u00edas\": \"Promedio m\\u00f3vil \\u00faltimos 7 d\\u00edas\"}, {\"Fecha\": \"2020-05-13\", \"Casos confirmados\": 13, \"Rolling\": 19.0, \"Casos confirmados diarios\": \"Casos confirmados diarios\", \"Promedio m\\u00f3vil \\u00faltimos 7 d\\u00edas\": \"Promedio m\\u00f3vil \\u00faltimos 7 d\\u00edas\"}]}}, {\"mode\": \"vega-lite\"});\n",
       "</script>"
      ],
      "text/plain": [
       "alt.LayerChart(...)"
      ]
     },
     "execution_count": 31,
     "metadata": {},
     "output_type": "execute_result"
    }
   ],
   "source": [
    "#hide_input\n",
    "bars, line = my_cases_plot(region)\n",
    "(bars + line).properties(\n",
    "    title=f'Covid-19 en Chile: Casos confirmados diarios en {region}',\n",
    "    width=600\n",
    ")"
   ]
  },
  {
   "cell_type": "markdown",
   "metadata": {},
   "source": [
    "## Los Ríos"
   ]
  },
  {
   "cell_type": "code",
   "execution_count": 32,
   "metadata": {
    "scrolled": true
   },
   "outputs": [],
   "source": [
    "#hide\n",
    "region = \"Los Ríos\""
   ]
  },
  {
   "cell_type": "code",
   "execution_count": 33,
   "metadata": {},
   "outputs": [
    {
     "data": {
      "text/html": [
       "\n",
       "<div id=\"altair-viz-141ec7324f7148beb839109e084784c5\"></div>\n",
       "<script type=\"text/javascript\">\n",
       "  (function(spec, embedOpt){\n",
       "    let outputDiv = document.currentScript.previousElementSibling;\n",
       "    if (outputDiv.id !== \"altair-viz-141ec7324f7148beb839109e084784c5\") {\n",
       "      outputDiv = document.getElementById(\"altair-viz-141ec7324f7148beb839109e084784c5\");\n",
       "    }\n",
       "    const paths = {\n",
       "      \"vega\": \"https://cdn.jsdelivr.net/npm//vega@5?noext\",\n",
       "      \"vega-lib\": \"https://cdn.jsdelivr.net/npm//vega-lib?noext\",\n",
       "      \"vega-lite\": \"https://cdn.jsdelivr.net/npm//vega-lite@4.8.1?noext\",\n",
       "      \"vega-embed\": \"https://cdn.jsdelivr.net/npm//vega-embed@6?noext\",\n",
       "    };\n",
       "\n",
       "    function loadScript(lib) {\n",
       "      return new Promise(function(resolve, reject) {\n",
       "        var s = document.createElement('script');\n",
       "        s.src = paths[lib];\n",
       "        s.async = true;\n",
       "        s.onload = () => resolve(paths[lib]);\n",
       "        s.onerror = () => reject(`Error loading script: ${paths[lib]}`);\n",
       "        document.getElementsByTagName(\"head\")[0].appendChild(s);\n",
       "      });\n",
       "    }\n",
       "\n",
       "    function showError(err) {\n",
       "      outputDiv.innerHTML = `<div class=\"error\" style=\"color:red;\">${err}</div>`;\n",
       "      throw err;\n",
       "    }\n",
       "\n",
       "    function displayChart(vegaEmbed) {\n",
       "      vegaEmbed(outputDiv, spec, embedOpt)\n",
       "        .catch(err => showError(`Javascript Error: ${err.message}<br>This usually means there's a typo in your chart specification. See the javascript console for the full traceback.`));\n",
       "    }\n",
       "\n",
       "    if(typeof define === \"function\" && define.amd) {\n",
       "      requirejs.config({paths});\n",
       "      require([\"vega-embed\"], displayChart, err => showError(`Error loading script: ${err.message}`));\n",
       "    } else if (typeof vegaEmbed === \"function\") {\n",
       "      displayChart(vegaEmbed);\n",
       "    } else {\n",
       "      loadScript(\"vega\")\n",
       "        .then(() => loadScript(\"vega-lite\"))\n",
       "        .then(() => loadScript(\"vega-embed\"))\n",
       "        .catch(showError)\n",
       "        .then(() => displayChart(vegaEmbed));\n",
       "    }\n",
       "  })({\"config\": {\"view\": {\"continuousWidth\": 400, \"continuousHeight\": 300}}, \"layer\": [{\"mark\": {\"type\": \"bar\", \"opacity\": 0.7}, \"encoding\": {\"opacity\": {\"type\": \"nominal\", \"field\": \"Casos confirmados diarios\", \"legend\": {\"title\": \"\"}}, \"tooltip\": [{\"type\": \"nominal\", \"field\": \"Fecha\"}, {\"type\": \"quantitative\", \"field\": \"Casos confirmados\"}], \"x\": {\"type\": \"nominal\", \"axis\": {\"title\": \"Fecha (a\\u00f1o-mes-d\\u00eda)\"}, \"field\": \"Fecha\"}, \"y\": {\"type\": \"quantitative\", \"axis\": {\"title\": \"Casos confirmados diarios\"}, \"field\": \"Casos confirmados\"}}}, {\"mark\": {\"type\": \"line\", \"color\": \"#1f77b4\", \"point\": {\"filled\": true, \"fill\": \"#1f77b4\"}}, \"encoding\": {\"shape\": {\"type\": \"nominal\", \"field\": \"Promedio m\\u00f3vil \\u00faltimos 7 d\\u00edas\", \"legend\": {\"title\": \"\"}}, \"x\": {\"type\": \"nominal\", \"axis\": {\"title\": \"Fecha (a\\u00f1o-mes-d\\u00eda)\"}, \"field\": \"Fecha\"}, \"y\": {\"type\": \"quantitative\", \"field\": \"Rolling\"}}}], \"data\": {\"name\": \"data-94b33f1e00994ea481dc9f8d3144722b\"}, \"title\": \"Covid-19 en Chile: Casos confirmados diarios en Los R\\u00edos\", \"width\": 600, \"$schema\": \"https://vega.github.io/schema/vega-lite/v4.8.1.json\", \"datasets\": {\"data-94b33f1e00994ea481dc9f8d3144722b\": [{\"Fecha\": \"2020-03-04\", \"Casos confirmados\": 0, \"Rolling\": null, \"Casos confirmados diarios\": \"Casos confirmados diarios\", \"Promedio m\\u00f3vil \\u00faltimos 7 d\\u00edas\": \"Promedio m\\u00f3vil \\u00faltimos 7 d\\u00edas\"}, {\"Fecha\": \"2020-03-05\", \"Casos confirmados\": 0, \"Rolling\": null, \"Casos confirmados diarios\": \"Casos confirmados diarios\", \"Promedio m\\u00f3vil \\u00faltimos 7 d\\u00edas\": \"Promedio m\\u00f3vil \\u00faltimos 7 d\\u00edas\"}, {\"Fecha\": \"2020-03-06\", \"Casos confirmados\": 0, \"Rolling\": null, \"Casos confirmados diarios\": \"Casos confirmados diarios\", \"Promedio m\\u00f3vil \\u00faltimos 7 d\\u00edas\": \"Promedio m\\u00f3vil \\u00faltimos 7 d\\u00edas\"}, {\"Fecha\": \"2020-03-07\", \"Casos confirmados\": 0, \"Rolling\": null, \"Casos confirmados diarios\": \"Casos confirmados diarios\", \"Promedio m\\u00f3vil \\u00faltimos 7 d\\u00edas\": \"Promedio m\\u00f3vil \\u00faltimos 7 d\\u00edas\"}, {\"Fecha\": \"2020-03-08\", \"Casos confirmados\": 0, \"Rolling\": null, \"Casos confirmados diarios\": \"Casos confirmados diarios\", \"Promedio m\\u00f3vil \\u00faltimos 7 d\\u00edas\": \"Promedio m\\u00f3vil \\u00faltimos 7 d\\u00edas\"}, {\"Fecha\": \"2020-03-09\", \"Casos confirmados\": 0, \"Rolling\": null, \"Casos confirmados diarios\": \"Casos confirmados diarios\", \"Promedio m\\u00f3vil \\u00faltimos 7 d\\u00edas\": \"Promedio m\\u00f3vil \\u00faltimos 7 d\\u00edas\"}, {\"Fecha\": \"2020-03-10\", \"Casos confirmados\": 0, \"Rolling\": 0.0, \"Casos confirmados diarios\": \"Casos confirmados diarios\", \"Promedio m\\u00f3vil \\u00faltimos 7 d\\u00edas\": \"Promedio m\\u00f3vil \\u00faltimos 7 d\\u00edas\"}, {\"Fecha\": \"2020-03-11\", \"Casos confirmados\": 0, \"Rolling\": 0.0, \"Casos confirmados diarios\": \"Casos confirmados diarios\", \"Promedio m\\u00f3vil \\u00faltimos 7 d\\u00edas\": \"Promedio m\\u00f3vil \\u00faltimos 7 d\\u00edas\"}, {\"Fecha\": \"2020-03-12\", \"Casos confirmados\": 0, \"Rolling\": 0.0, \"Casos confirmados diarios\": \"Casos confirmados diarios\", \"Promedio m\\u00f3vil \\u00faltimos 7 d\\u00edas\": \"Promedio m\\u00f3vil \\u00faltimos 7 d\\u00edas\"}, {\"Fecha\": \"2020-03-13\", \"Casos confirmados\": 0, \"Rolling\": 0.0, \"Casos confirmados diarios\": \"Casos confirmados diarios\", \"Promedio m\\u00f3vil \\u00faltimos 7 d\\u00edas\": \"Promedio m\\u00f3vil \\u00faltimos 7 d\\u00edas\"}, {\"Fecha\": \"2020-03-14\", \"Casos confirmados\": 0, \"Rolling\": 0.0, \"Casos confirmados diarios\": \"Casos confirmados diarios\", \"Promedio m\\u00f3vil \\u00faltimos 7 d\\u00edas\": \"Promedio m\\u00f3vil \\u00faltimos 7 d\\u00edas\"}, {\"Fecha\": \"2020-03-15\", \"Casos confirmados\": 0, \"Rolling\": 0.0, \"Casos confirmados diarios\": \"Casos confirmados diarios\", \"Promedio m\\u00f3vil \\u00faltimos 7 d\\u00edas\": \"Promedio m\\u00f3vil \\u00faltimos 7 d\\u00edas\"}, {\"Fecha\": \"2020-03-16\", \"Casos confirmados\": 1, \"Rolling\": 0.14285714285714285, \"Casos confirmados diarios\": \"Casos confirmados diarios\", \"Promedio m\\u00f3vil \\u00faltimos 7 d\\u00edas\": \"Promedio m\\u00f3vil \\u00faltimos 7 d\\u00edas\"}, {\"Fecha\": \"2020-03-17\", \"Casos confirmados\": 0, \"Rolling\": 0.14285714285714285, \"Casos confirmados diarios\": \"Casos confirmados diarios\", \"Promedio m\\u00f3vil \\u00faltimos 7 d\\u00edas\": \"Promedio m\\u00f3vil \\u00faltimos 7 d\\u00edas\"}, {\"Fecha\": \"2020-03-18\", \"Casos confirmados\": 0, \"Rolling\": 0.14285714285714285, \"Casos confirmados diarios\": \"Casos confirmados diarios\", \"Promedio m\\u00f3vil \\u00faltimos 7 d\\u00edas\": \"Promedio m\\u00f3vil \\u00faltimos 7 d\\u00edas\"}, {\"Fecha\": \"2020-03-19\", \"Casos confirmados\": 0, \"Rolling\": 0.14285714285714285, \"Casos confirmados diarios\": \"Casos confirmados diarios\", \"Promedio m\\u00f3vil \\u00faltimos 7 d\\u00edas\": \"Promedio m\\u00f3vil \\u00faltimos 7 d\\u00edas\"}, {\"Fecha\": \"2020-03-20\", \"Casos confirmados\": 0, \"Rolling\": 0.14285714285714285, \"Casos confirmados diarios\": \"Casos confirmados diarios\", \"Promedio m\\u00f3vil \\u00faltimos 7 d\\u00edas\": \"Promedio m\\u00f3vil \\u00faltimos 7 d\\u00edas\"}, {\"Fecha\": \"2020-03-21\", \"Casos confirmados\": 0, \"Rolling\": 0.14285714285714285, \"Casos confirmados diarios\": \"Casos confirmados diarios\", \"Promedio m\\u00f3vil \\u00faltimos 7 d\\u00edas\": \"Promedio m\\u00f3vil \\u00faltimos 7 d\\u00edas\"}, {\"Fecha\": \"2020-03-22\", \"Casos confirmados\": 0, \"Rolling\": 0.14285714285714285, \"Casos confirmados diarios\": \"Casos confirmados diarios\", \"Promedio m\\u00f3vil \\u00faltimos 7 d\\u00edas\": \"Promedio m\\u00f3vil \\u00faltimos 7 d\\u00edas\"}, {\"Fecha\": \"2020-03-23\", \"Casos confirmados\": 3, \"Rolling\": 0.42857142857142855, \"Casos confirmados diarios\": \"Casos confirmados diarios\", \"Promedio m\\u00f3vil \\u00faltimos 7 d\\u00edas\": \"Promedio m\\u00f3vil \\u00faltimos 7 d\\u00edas\"}, {\"Fecha\": \"2020-03-24\", \"Casos confirmados\": 2, \"Rolling\": 0.7142857142857143, \"Casos confirmados diarios\": \"Casos confirmados diarios\", \"Promedio m\\u00f3vil \\u00faltimos 7 d\\u00edas\": \"Promedio m\\u00f3vil \\u00faltimos 7 d\\u00edas\"}, {\"Fecha\": \"2020-03-25\", \"Casos confirmados\": 5, \"Rolling\": 1.4285714285714286, \"Casos confirmados diarios\": \"Casos confirmados diarios\", \"Promedio m\\u00f3vil \\u00faltimos 7 d\\u00edas\": \"Promedio m\\u00f3vil \\u00faltimos 7 d\\u00edas\"}, {\"Fecha\": \"2020-03-26\", \"Casos confirmados\": 3, \"Rolling\": 1.8571428571428572, \"Casos confirmados diarios\": \"Casos confirmados diarios\", \"Promedio m\\u00f3vil \\u00faltimos 7 d\\u00edas\": \"Promedio m\\u00f3vil \\u00faltimos 7 d\\u00edas\"}, {\"Fecha\": \"2020-03-27\", \"Casos confirmados\": 8, \"Rolling\": 3.0, \"Casos confirmados diarios\": \"Casos confirmados diarios\", \"Promedio m\\u00f3vil \\u00faltimos 7 d\\u00edas\": \"Promedio m\\u00f3vil \\u00faltimos 7 d\\u00edas\"}, {\"Fecha\": \"2020-03-28\", \"Casos confirmados\": 5, \"Rolling\": 3.7142857142857144, \"Casos confirmados diarios\": \"Casos confirmados diarios\", \"Promedio m\\u00f3vil \\u00faltimos 7 d\\u00edas\": \"Promedio m\\u00f3vil \\u00faltimos 7 d\\u00edas\"}, {\"Fecha\": \"2020-03-29\", \"Casos confirmados\": 13, \"Rolling\": 5.571428571428571, \"Casos confirmados diarios\": \"Casos confirmados diarios\", \"Promedio m\\u00f3vil \\u00faltimos 7 d\\u00edas\": \"Promedio m\\u00f3vil \\u00faltimos 7 d\\u00edas\"}, {\"Fecha\": \"2020-03-30\", \"Casos confirmados\": 7, \"Rolling\": 6.142857142857143, \"Casos confirmados diarios\": \"Casos confirmados diarios\", \"Promedio m\\u00f3vil \\u00faltimos 7 d\\u00edas\": \"Promedio m\\u00f3vil \\u00faltimos 7 d\\u00edas\"}, {\"Fecha\": \"2020-03-31\", \"Casos confirmados\": 11, \"Rolling\": 7.428571428571429, \"Casos confirmados diarios\": \"Casos confirmados diarios\", \"Promedio m\\u00f3vil \\u00faltimos 7 d\\u00edas\": \"Promedio m\\u00f3vil \\u00faltimos 7 d\\u00edas\"}, {\"Fecha\": \"2020-04-01\", \"Casos confirmados\": 6, \"Rolling\": 7.571428571428571, \"Casos confirmados diarios\": \"Casos confirmados diarios\", \"Promedio m\\u00f3vil \\u00faltimos 7 d\\u00edas\": \"Promedio m\\u00f3vil \\u00faltimos 7 d\\u00edas\"}, {\"Fecha\": \"2020-04-02\", \"Casos confirmados\": 4, \"Rolling\": 7.714285714285714, \"Casos confirmados diarios\": \"Casos confirmados diarios\", \"Promedio m\\u00f3vil \\u00faltimos 7 d\\u00edas\": \"Promedio m\\u00f3vil \\u00faltimos 7 d\\u00edas\"}, {\"Fecha\": \"2020-04-03\", \"Casos confirmados\": 10, \"Rolling\": 8.0, \"Casos confirmados diarios\": \"Casos confirmados diarios\", \"Promedio m\\u00f3vil \\u00faltimos 7 d\\u00edas\": \"Promedio m\\u00f3vil \\u00faltimos 7 d\\u00edas\"}, {\"Fecha\": \"2020-04-04\", \"Casos confirmados\": 11, \"Rolling\": 8.857142857142858, \"Casos confirmados diarios\": \"Casos confirmados diarios\", \"Promedio m\\u00f3vil \\u00faltimos 7 d\\u00edas\": \"Promedio m\\u00f3vil \\u00faltimos 7 d\\u00edas\"}, {\"Fecha\": \"2020-04-05\", \"Casos confirmados\": 10, \"Rolling\": 8.428571428571429, \"Casos confirmados diarios\": \"Casos confirmados diarios\", \"Promedio m\\u00f3vil \\u00faltimos 7 d\\u00edas\": \"Promedio m\\u00f3vil \\u00faltimos 7 d\\u00edas\"}, {\"Fecha\": \"2020-04-06\", \"Casos confirmados\": 5, \"Rolling\": 8.142857142857142, \"Casos confirmados diarios\": \"Casos confirmados diarios\", \"Promedio m\\u00f3vil \\u00faltimos 7 d\\u00edas\": \"Promedio m\\u00f3vil \\u00faltimos 7 d\\u00edas\"}, {\"Fecha\": \"2020-04-07\", \"Casos confirmados\": 5, \"Rolling\": 7.285714285714286, \"Casos confirmados diarios\": \"Casos confirmados diarios\", \"Promedio m\\u00f3vil \\u00faltimos 7 d\\u00edas\": \"Promedio m\\u00f3vil \\u00faltimos 7 d\\u00edas\"}, {\"Fecha\": \"2020-04-08\", \"Casos confirmados\": 5, \"Rolling\": 7.142857142857143, \"Casos confirmados diarios\": \"Casos confirmados diarios\", \"Promedio m\\u00f3vil \\u00faltimos 7 d\\u00edas\": \"Promedio m\\u00f3vil \\u00faltimos 7 d\\u00edas\"}, {\"Fecha\": \"2020-04-09\", \"Casos confirmados\": 4, \"Rolling\": 7.142857142857143, \"Casos confirmados diarios\": \"Casos confirmados diarios\", \"Promedio m\\u00f3vil \\u00faltimos 7 d\\u00edas\": \"Promedio m\\u00f3vil \\u00faltimos 7 d\\u00edas\"}, {\"Fecha\": \"2020-04-10\", \"Casos confirmados\": 6, \"Rolling\": 6.571428571428571, \"Casos confirmados diarios\": \"Casos confirmados diarios\", \"Promedio m\\u00f3vil \\u00faltimos 7 d\\u00edas\": \"Promedio m\\u00f3vil \\u00faltimos 7 d\\u00edas\"}, {\"Fecha\": \"2020-04-11\", \"Casos confirmados\": 6, \"Rolling\": 5.857142857142857, \"Casos confirmados diarios\": \"Casos confirmados diarios\", \"Promedio m\\u00f3vil \\u00faltimos 7 d\\u00edas\": \"Promedio m\\u00f3vil \\u00faltimos 7 d\\u00edas\"}, {\"Fecha\": \"2020-04-12\", \"Casos confirmados\": 5, \"Rolling\": 5.142857142857143, \"Casos confirmados diarios\": \"Casos confirmados diarios\", \"Promedio m\\u00f3vil \\u00faltimos 7 d\\u00edas\": \"Promedio m\\u00f3vil \\u00faltimos 7 d\\u00edas\"}, {\"Fecha\": \"2020-04-13\", \"Casos confirmados\": 3, \"Rolling\": 4.857142857142857, \"Casos confirmados diarios\": \"Casos confirmados diarios\", \"Promedio m\\u00f3vil \\u00faltimos 7 d\\u00edas\": \"Promedio m\\u00f3vil \\u00faltimos 7 d\\u00edas\"}, {\"Fecha\": \"2020-04-14\", \"Casos confirmados\": 10, \"Rolling\": 5.571428571428571, \"Casos confirmados diarios\": \"Casos confirmados diarios\", \"Promedio m\\u00f3vil \\u00faltimos 7 d\\u00edas\": \"Promedio m\\u00f3vil \\u00faltimos 7 d\\u00edas\"}, {\"Fecha\": \"2020-04-15\", \"Casos confirmados\": 2, \"Rolling\": 5.142857142857143, \"Casos confirmados diarios\": \"Casos confirmados diarios\", \"Promedio m\\u00f3vil \\u00faltimos 7 d\\u00edas\": \"Promedio m\\u00f3vil \\u00faltimos 7 d\\u00edas\"}, {\"Fecha\": \"2020-04-16\", \"Casos confirmados\": 3, \"Rolling\": 5.0, \"Casos confirmados diarios\": \"Casos confirmados diarios\", \"Promedio m\\u00f3vil \\u00faltimos 7 d\\u00edas\": \"Promedio m\\u00f3vil \\u00faltimos 7 d\\u00edas\"}, {\"Fecha\": \"2020-04-17\", \"Casos confirmados\": 1, \"Rolling\": 4.285714285714286, \"Casos confirmados diarios\": \"Casos confirmados diarios\", \"Promedio m\\u00f3vil \\u00faltimos 7 d\\u00edas\": \"Promedio m\\u00f3vil \\u00faltimos 7 d\\u00edas\"}, {\"Fecha\": \"2020-04-18\", \"Casos confirmados\": 2, \"Rolling\": 3.7142857142857144, \"Casos confirmados diarios\": \"Casos confirmados diarios\", \"Promedio m\\u00f3vil \\u00faltimos 7 d\\u00edas\": \"Promedio m\\u00f3vil \\u00faltimos 7 d\\u00edas\"}, {\"Fecha\": \"2020-04-19\", \"Casos confirmados\": 1, \"Rolling\": 3.142857142857143, \"Casos confirmados diarios\": \"Casos confirmados diarios\", \"Promedio m\\u00f3vil \\u00faltimos 7 d\\u00edas\": \"Promedio m\\u00f3vil \\u00faltimos 7 d\\u00edas\"}, {\"Fecha\": \"2020-04-20\", \"Casos confirmados\": 5, \"Rolling\": 3.4285714285714284, \"Casos confirmados diarios\": \"Casos confirmados diarios\", \"Promedio m\\u00f3vil \\u00faltimos 7 d\\u00edas\": \"Promedio m\\u00f3vil \\u00faltimos 7 d\\u00edas\"}, {\"Fecha\": \"2020-04-21\", \"Casos confirmados\": 5, \"Rolling\": 2.7142857142857144, \"Casos confirmados diarios\": \"Casos confirmados diarios\", \"Promedio m\\u00f3vil \\u00faltimos 7 d\\u00edas\": \"Promedio m\\u00f3vil \\u00faltimos 7 d\\u00edas\"}, {\"Fecha\": \"2020-04-22\", \"Casos confirmados\": 4, \"Rolling\": 3.0, \"Casos confirmados diarios\": \"Casos confirmados diarios\", \"Promedio m\\u00f3vil \\u00faltimos 7 d\\u00edas\": \"Promedio m\\u00f3vil \\u00faltimos 7 d\\u00edas\"}, {\"Fecha\": \"2020-04-23\", \"Casos confirmados\": 2, \"Rolling\": 2.857142857142857, \"Casos confirmados diarios\": \"Casos confirmados diarios\", \"Promedio m\\u00f3vil \\u00faltimos 7 d\\u00edas\": \"Promedio m\\u00f3vil \\u00faltimos 7 d\\u00edas\"}, {\"Fecha\": \"2020-04-24\", \"Casos confirmados\": 1, \"Rolling\": 2.857142857142857, \"Casos confirmados diarios\": \"Casos confirmados diarios\", \"Promedio m\\u00f3vil \\u00faltimos 7 d\\u00edas\": \"Promedio m\\u00f3vil \\u00faltimos 7 d\\u00edas\"}, {\"Fecha\": \"2020-04-25\", \"Casos confirmados\": 3, \"Rolling\": 3.0, \"Casos confirmados diarios\": \"Casos confirmados diarios\", \"Promedio m\\u00f3vil \\u00faltimos 7 d\\u00edas\": \"Promedio m\\u00f3vil \\u00faltimos 7 d\\u00edas\"}, {\"Fecha\": \"2020-04-26\", \"Casos confirmados\": 1, \"Rolling\": 3.0, \"Casos confirmados diarios\": \"Casos confirmados diarios\", \"Promedio m\\u00f3vil \\u00faltimos 7 d\\u00edas\": \"Promedio m\\u00f3vil \\u00faltimos 7 d\\u00edas\"}, {\"Fecha\": \"2020-04-27\", \"Casos confirmados\": 2, \"Rolling\": 2.5714285714285716, \"Casos confirmados diarios\": \"Casos confirmados diarios\", \"Promedio m\\u00f3vil \\u00faltimos 7 d\\u00edas\": \"Promedio m\\u00f3vil \\u00faltimos 7 d\\u00edas\"}, {\"Fecha\": \"2020-04-28\", \"Casos confirmados\": 0, \"Rolling\": 1.8571428571428572, \"Casos confirmados diarios\": \"Casos confirmados diarios\", \"Promedio m\\u00f3vil \\u00faltimos 7 d\\u00edas\": \"Promedio m\\u00f3vil \\u00faltimos 7 d\\u00edas\"}, {\"Fecha\": \"2020-04-29\", \"Casos confirmados\": 2, \"Rolling\": 1.5714285714285714, \"Casos confirmados diarios\": \"Casos confirmados diarios\", \"Promedio m\\u00f3vil \\u00faltimos 7 d\\u00edas\": \"Promedio m\\u00f3vil \\u00faltimos 7 d\\u00edas\"}, {\"Fecha\": \"2020-04-30\", \"Casos confirmados\": 7, \"Rolling\": 2.2857142857142856, \"Casos confirmados diarios\": \"Casos confirmados diarios\", \"Promedio m\\u00f3vil \\u00faltimos 7 d\\u00edas\": \"Promedio m\\u00f3vil \\u00faltimos 7 d\\u00edas\"}, {\"Fecha\": \"2020-05-01\", \"Casos confirmados\": 0, \"Rolling\": 2.142857142857143, \"Casos confirmados diarios\": \"Casos confirmados diarios\", \"Promedio m\\u00f3vil \\u00faltimos 7 d\\u00edas\": \"Promedio m\\u00f3vil \\u00faltimos 7 d\\u00edas\"}, {\"Fecha\": \"2020-05-02\", \"Casos confirmados\": 7, \"Rolling\": 2.7142857142857144, \"Casos confirmados diarios\": \"Casos confirmados diarios\", \"Promedio m\\u00f3vil \\u00faltimos 7 d\\u00edas\": \"Promedio m\\u00f3vil \\u00faltimos 7 d\\u00edas\"}, {\"Fecha\": \"2020-05-03\", \"Casos confirmados\": 2, \"Rolling\": 2.857142857142857, \"Casos confirmados diarios\": \"Casos confirmados diarios\", \"Promedio m\\u00f3vil \\u00faltimos 7 d\\u00edas\": \"Promedio m\\u00f3vil \\u00faltimos 7 d\\u00edas\"}, {\"Fecha\": \"2020-05-04\", \"Casos confirmados\": 1, \"Rolling\": 2.7142857142857144, \"Casos confirmados diarios\": \"Casos confirmados diarios\", \"Promedio m\\u00f3vil \\u00faltimos 7 d\\u00edas\": \"Promedio m\\u00f3vil \\u00faltimos 7 d\\u00edas\"}, {\"Fecha\": \"2020-05-05\", \"Casos confirmados\": 0, \"Rolling\": 2.7142857142857144, \"Casos confirmados diarios\": \"Casos confirmados diarios\", \"Promedio m\\u00f3vil \\u00faltimos 7 d\\u00edas\": \"Promedio m\\u00f3vil \\u00faltimos 7 d\\u00edas\"}, {\"Fecha\": \"2020-05-06\", \"Casos confirmados\": 1, \"Rolling\": 2.5714285714285716, \"Casos confirmados diarios\": \"Casos confirmados diarios\", \"Promedio m\\u00f3vil \\u00faltimos 7 d\\u00edas\": \"Promedio m\\u00f3vil \\u00faltimos 7 d\\u00edas\"}, {\"Fecha\": \"2020-05-07\", \"Casos confirmados\": 2, \"Rolling\": 1.8571428571428572, \"Casos confirmados diarios\": \"Casos confirmados diarios\", \"Promedio m\\u00f3vil \\u00faltimos 7 d\\u00edas\": \"Promedio m\\u00f3vil \\u00faltimos 7 d\\u00edas\"}, {\"Fecha\": \"2020-05-08\", \"Casos confirmados\": 1, \"Rolling\": 2.0, \"Casos confirmados diarios\": \"Casos confirmados diarios\", \"Promedio m\\u00f3vil \\u00faltimos 7 d\\u00edas\": \"Promedio m\\u00f3vil \\u00faltimos 7 d\\u00edas\"}, {\"Fecha\": \"2020-05-09\", \"Casos confirmados\": 3, \"Rolling\": 1.4285714285714286, \"Casos confirmados diarios\": \"Casos confirmados diarios\", \"Promedio m\\u00f3vil \\u00faltimos 7 d\\u00edas\": \"Promedio m\\u00f3vil \\u00faltimos 7 d\\u00edas\"}, {\"Fecha\": \"2020-05-10\", \"Casos confirmados\": 0, \"Rolling\": 1.1428571428571428, \"Casos confirmados diarios\": \"Casos confirmados diarios\", \"Promedio m\\u00f3vil \\u00faltimos 7 d\\u00edas\": \"Promedio m\\u00f3vil \\u00faltimos 7 d\\u00edas\"}, {\"Fecha\": \"2020-05-11\", \"Casos confirmados\": 2, \"Rolling\": 1.2857142857142858, \"Casos confirmados diarios\": \"Casos confirmados diarios\", \"Promedio m\\u00f3vil \\u00faltimos 7 d\\u00edas\": \"Promedio m\\u00f3vil \\u00faltimos 7 d\\u00edas\"}, {\"Fecha\": \"2020-05-12\", \"Casos confirmados\": 3, \"Rolling\": 1.7142857142857142, \"Casos confirmados diarios\": \"Casos confirmados diarios\", \"Promedio m\\u00f3vil \\u00faltimos 7 d\\u00edas\": \"Promedio m\\u00f3vil \\u00faltimos 7 d\\u00edas\"}, {\"Fecha\": \"2020-05-13\", \"Casos confirmados\": 1, \"Rolling\": 1.7142857142857142, \"Casos confirmados diarios\": \"Casos confirmados diarios\", \"Promedio m\\u00f3vil \\u00faltimos 7 d\\u00edas\": \"Promedio m\\u00f3vil \\u00faltimos 7 d\\u00edas\"}]}}, {\"mode\": \"vega-lite\"});\n",
       "</script>"
      ],
      "text/plain": [
       "alt.LayerChart(...)"
      ]
     },
     "execution_count": 33,
     "metadata": {},
     "output_type": "execute_result"
    }
   ],
   "source": [
    "#hide_input\n",
    "bars, line = my_cases_plot(region)\n",
    "(bars + line).properties(\n",
    "    title=f'Covid-19 en Chile: Casos confirmados diarios en {region}',\n",
    "    width=600\n",
    ")"
   ]
  },
  {
   "cell_type": "markdown",
   "metadata": {},
   "source": [
    "## Los Lagos"
   ]
  },
  {
   "cell_type": "code",
   "execution_count": 34,
   "metadata": {
    "scrolled": false
   },
   "outputs": [],
   "source": [
    "#hide\n",
    "region = \"Los Lagos\""
   ]
  },
  {
   "cell_type": "code",
   "execution_count": 35,
   "metadata": {},
   "outputs": [
    {
     "data": {
      "text/html": [
       "\n",
       "<div id=\"altair-viz-147397966bed42ebb384b356a12816af\"></div>\n",
       "<script type=\"text/javascript\">\n",
       "  (function(spec, embedOpt){\n",
       "    let outputDiv = document.currentScript.previousElementSibling;\n",
       "    if (outputDiv.id !== \"altair-viz-147397966bed42ebb384b356a12816af\") {\n",
       "      outputDiv = document.getElementById(\"altair-viz-147397966bed42ebb384b356a12816af\");\n",
       "    }\n",
       "    const paths = {\n",
       "      \"vega\": \"https://cdn.jsdelivr.net/npm//vega@5?noext\",\n",
       "      \"vega-lib\": \"https://cdn.jsdelivr.net/npm//vega-lib?noext\",\n",
       "      \"vega-lite\": \"https://cdn.jsdelivr.net/npm//vega-lite@4.8.1?noext\",\n",
       "      \"vega-embed\": \"https://cdn.jsdelivr.net/npm//vega-embed@6?noext\",\n",
       "    };\n",
       "\n",
       "    function loadScript(lib) {\n",
       "      return new Promise(function(resolve, reject) {\n",
       "        var s = document.createElement('script');\n",
       "        s.src = paths[lib];\n",
       "        s.async = true;\n",
       "        s.onload = () => resolve(paths[lib]);\n",
       "        s.onerror = () => reject(`Error loading script: ${paths[lib]}`);\n",
       "        document.getElementsByTagName(\"head\")[0].appendChild(s);\n",
       "      });\n",
       "    }\n",
       "\n",
       "    function showError(err) {\n",
       "      outputDiv.innerHTML = `<div class=\"error\" style=\"color:red;\">${err}</div>`;\n",
       "      throw err;\n",
       "    }\n",
       "\n",
       "    function displayChart(vegaEmbed) {\n",
       "      vegaEmbed(outputDiv, spec, embedOpt)\n",
       "        .catch(err => showError(`Javascript Error: ${err.message}<br>This usually means there's a typo in your chart specification. See the javascript console for the full traceback.`));\n",
       "    }\n",
       "\n",
       "    if(typeof define === \"function\" && define.amd) {\n",
       "      requirejs.config({paths});\n",
       "      require([\"vega-embed\"], displayChart, err => showError(`Error loading script: ${err.message}`));\n",
       "    } else if (typeof vegaEmbed === \"function\") {\n",
       "      displayChart(vegaEmbed);\n",
       "    } else {\n",
       "      loadScript(\"vega\")\n",
       "        .then(() => loadScript(\"vega-lite\"))\n",
       "        .then(() => loadScript(\"vega-embed\"))\n",
       "        .catch(showError)\n",
       "        .then(() => displayChart(vegaEmbed));\n",
       "    }\n",
       "  })({\"config\": {\"view\": {\"continuousWidth\": 400, \"continuousHeight\": 300}}, \"layer\": [{\"mark\": {\"type\": \"bar\", \"opacity\": 0.7}, \"encoding\": {\"opacity\": {\"type\": \"nominal\", \"field\": \"Casos confirmados diarios\", \"legend\": {\"title\": \"\"}}, \"tooltip\": [{\"type\": \"nominal\", \"field\": \"Fecha\"}, {\"type\": \"quantitative\", \"field\": \"Casos confirmados\"}], \"x\": {\"type\": \"nominal\", \"axis\": {\"title\": \"Fecha (a\\u00f1o-mes-d\\u00eda)\"}, \"field\": \"Fecha\"}, \"y\": {\"type\": \"quantitative\", \"axis\": {\"title\": \"Casos confirmados diarios\"}, \"field\": \"Casos confirmados\"}}}, {\"mark\": {\"type\": \"line\", \"color\": \"#1f77b4\", \"point\": {\"filled\": true, \"fill\": \"#1f77b4\"}}, \"encoding\": {\"shape\": {\"type\": \"nominal\", \"field\": \"Promedio m\\u00f3vil \\u00faltimos 7 d\\u00edas\", \"legend\": {\"title\": \"\"}}, \"x\": {\"type\": \"nominal\", \"axis\": {\"title\": \"Fecha (a\\u00f1o-mes-d\\u00eda)\"}, \"field\": \"Fecha\"}, \"y\": {\"type\": \"quantitative\", \"field\": \"Rolling\"}}}], \"data\": {\"name\": \"data-dc5e34f02fece3fe8ca7e77dd80777c0\"}, \"title\": \"Covid-19 en Chile: Casos confirmados diarios en Los Lagos\", \"width\": 600, \"$schema\": \"https://vega.github.io/schema/vega-lite/v4.8.1.json\", \"datasets\": {\"data-dc5e34f02fece3fe8ca7e77dd80777c0\": [{\"Fecha\": \"2020-03-04\", \"Casos confirmados\": 0, \"Rolling\": null, \"Casos confirmados diarios\": \"Casos confirmados diarios\", \"Promedio m\\u00f3vil \\u00faltimos 7 d\\u00edas\": \"Promedio m\\u00f3vil \\u00faltimos 7 d\\u00edas\"}, {\"Fecha\": \"2020-03-05\", \"Casos confirmados\": 0, \"Rolling\": null, \"Casos confirmados diarios\": \"Casos confirmados diarios\", \"Promedio m\\u00f3vil \\u00faltimos 7 d\\u00edas\": \"Promedio m\\u00f3vil \\u00faltimos 7 d\\u00edas\"}, {\"Fecha\": \"2020-03-06\", \"Casos confirmados\": 0, \"Rolling\": null, \"Casos confirmados diarios\": \"Casos confirmados diarios\", \"Promedio m\\u00f3vil \\u00faltimos 7 d\\u00edas\": \"Promedio m\\u00f3vil \\u00faltimos 7 d\\u00edas\"}, {\"Fecha\": \"2020-03-07\", \"Casos confirmados\": 1, \"Rolling\": null, \"Casos confirmados diarios\": \"Casos confirmados diarios\", \"Promedio m\\u00f3vil \\u00faltimos 7 d\\u00edas\": \"Promedio m\\u00f3vil \\u00faltimos 7 d\\u00edas\"}, {\"Fecha\": \"2020-03-08\", \"Casos confirmados\": 0, \"Rolling\": null, \"Casos confirmados diarios\": \"Casos confirmados diarios\", \"Promedio m\\u00f3vil \\u00faltimos 7 d\\u00edas\": \"Promedio m\\u00f3vil \\u00faltimos 7 d\\u00edas\"}, {\"Fecha\": \"2020-03-09\", \"Casos confirmados\": 0, \"Rolling\": null, \"Casos confirmados diarios\": \"Casos confirmados diarios\", \"Promedio m\\u00f3vil \\u00faltimos 7 d\\u00edas\": \"Promedio m\\u00f3vil \\u00faltimos 7 d\\u00edas\"}, {\"Fecha\": \"2020-03-10\", \"Casos confirmados\": 0, \"Rolling\": 0.14285714285714285, \"Casos confirmados diarios\": \"Casos confirmados diarios\", \"Promedio m\\u00f3vil \\u00faltimos 7 d\\u00edas\": \"Promedio m\\u00f3vil \\u00faltimos 7 d\\u00edas\"}, {\"Fecha\": \"2020-03-11\", \"Casos confirmados\": 0, \"Rolling\": 0.14285714285714285, \"Casos confirmados diarios\": \"Casos confirmados diarios\", \"Promedio m\\u00f3vil \\u00faltimos 7 d\\u00edas\": \"Promedio m\\u00f3vil \\u00faltimos 7 d\\u00edas\"}, {\"Fecha\": \"2020-03-12\", \"Casos confirmados\": 0, \"Rolling\": 0.14285714285714285, \"Casos confirmados diarios\": \"Casos confirmados diarios\", \"Promedio m\\u00f3vil \\u00faltimos 7 d\\u00edas\": \"Promedio m\\u00f3vil \\u00faltimos 7 d\\u00edas\"}, {\"Fecha\": \"2020-03-13\", \"Casos confirmados\": 0, \"Rolling\": 0.14285714285714285, \"Casos confirmados diarios\": \"Casos confirmados diarios\", \"Promedio m\\u00f3vil \\u00faltimos 7 d\\u00edas\": \"Promedio m\\u00f3vil \\u00faltimos 7 d\\u00edas\"}, {\"Fecha\": \"2020-03-14\", \"Casos confirmados\": 0, \"Rolling\": 0.0, \"Casos confirmados diarios\": \"Casos confirmados diarios\", \"Promedio m\\u00f3vil \\u00faltimos 7 d\\u00edas\": \"Promedio m\\u00f3vil \\u00faltimos 7 d\\u00edas\"}, {\"Fecha\": \"2020-03-15\", \"Casos confirmados\": 0, \"Rolling\": 0.0, \"Casos confirmados diarios\": \"Casos confirmados diarios\", \"Promedio m\\u00f3vil \\u00faltimos 7 d\\u00edas\": \"Promedio m\\u00f3vil \\u00faltimos 7 d\\u00edas\"}, {\"Fecha\": \"2020-03-16\", \"Casos confirmados\": 0, \"Rolling\": 0.0, \"Casos confirmados diarios\": \"Casos confirmados diarios\", \"Promedio m\\u00f3vil \\u00faltimos 7 d\\u00edas\": \"Promedio m\\u00f3vil \\u00faltimos 7 d\\u00edas\"}, {\"Fecha\": \"2020-03-17\", \"Casos confirmados\": 0, \"Rolling\": 0.0, \"Casos confirmados diarios\": \"Casos confirmados diarios\", \"Promedio m\\u00f3vil \\u00faltimos 7 d\\u00edas\": \"Promedio m\\u00f3vil \\u00faltimos 7 d\\u00edas\"}, {\"Fecha\": \"2020-03-18\", \"Casos confirmados\": 7, \"Rolling\": 1.0, \"Casos confirmados diarios\": \"Casos confirmados diarios\", \"Promedio m\\u00f3vil \\u00faltimos 7 d\\u00edas\": \"Promedio m\\u00f3vil \\u00faltimos 7 d\\u00edas\"}, {\"Fecha\": \"2020-03-19\", \"Casos confirmados\": 8, \"Rolling\": 2.142857142857143, \"Casos confirmados diarios\": \"Casos confirmados diarios\", \"Promedio m\\u00f3vil \\u00faltimos 7 d\\u00edas\": \"Promedio m\\u00f3vil \\u00faltimos 7 d\\u00edas\"}, {\"Fecha\": \"2020-03-20\", \"Casos confirmados\": 2, \"Rolling\": 2.4285714285714284, \"Casos confirmados diarios\": \"Casos confirmados diarios\", \"Promedio m\\u00f3vil \\u00faltimos 7 d\\u00edas\": \"Promedio m\\u00f3vil \\u00faltimos 7 d\\u00edas\"}, {\"Fecha\": \"2020-03-21\", \"Casos confirmados\": 2, \"Rolling\": 2.7142857142857144, \"Casos confirmados diarios\": \"Casos confirmados diarios\", \"Promedio m\\u00f3vil \\u00faltimos 7 d\\u00edas\": \"Promedio m\\u00f3vil \\u00faltimos 7 d\\u00edas\"}, {\"Fecha\": \"2020-03-22\", \"Casos confirmados\": 3, \"Rolling\": 3.142857142857143, \"Casos confirmados diarios\": \"Casos confirmados diarios\", \"Promedio m\\u00f3vil \\u00faltimos 7 d\\u00edas\": \"Promedio m\\u00f3vil \\u00faltimos 7 d\\u00edas\"}, {\"Fecha\": \"2020-03-23\", \"Casos confirmados\": 10, \"Rolling\": 4.571428571428571, \"Casos confirmados diarios\": \"Casos confirmados diarios\", \"Promedio m\\u00f3vil \\u00faltimos 7 d\\u00edas\": \"Promedio m\\u00f3vil \\u00faltimos 7 d\\u00edas\"}, {\"Fecha\": \"2020-03-24\", \"Casos confirmados\": 3, \"Rolling\": 5.0, \"Casos confirmados diarios\": \"Casos confirmados diarios\", \"Promedio m\\u00f3vil \\u00faltimos 7 d\\u00edas\": \"Promedio m\\u00f3vil \\u00faltimos 7 d\\u00edas\"}, {\"Fecha\": \"2020-03-25\", \"Casos confirmados\": 8, \"Rolling\": 5.142857142857143, \"Casos confirmados diarios\": \"Casos confirmados diarios\", \"Promedio m\\u00f3vil \\u00faltimos 7 d\\u00edas\": \"Promedio m\\u00f3vil \\u00faltimos 7 d\\u00edas\"}, {\"Fecha\": \"2020-03-26\", \"Casos confirmados\": 16, \"Rolling\": 6.285714285714286, \"Casos confirmados diarios\": \"Casos confirmados diarios\", \"Promedio m\\u00f3vil \\u00faltimos 7 d\\u00edas\": \"Promedio m\\u00f3vil \\u00faltimos 7 d\\u00edas\"}, {\"Fecha\": \"2020-03-27\", \"Casos confirmados\": 3, \"Rolling\": 6.428571428571429, \"Casos confirmados diarios\": \"Casos confirmados diarios\", \"Promedio m\\u00f3vil \\u00faltimos 7 d\\u00edas\": \"Promedio m\\u00f3vil \\u00faltimos 7 d\\u00edas\"}, {\"Fecha\": \"2020-03-28\", \"Casos confirmados\": 30, \"Rolling\": 10.428571428571429, \"Casos confirmados diarios\": \"Casos confirmados diarios\", \"Promedio m\\u00f3vil \\u00faltimos 7 d\\u00edas\": \"Promedio m\\u00f3vil \\u00faltimos 7 d\\u00edas\"}, {\"Fecha\": \"2020-03-29\", \"Casos confirmados\": 11, \"Rolling\": 11.571428571428571, \"Casos confirmados diarios\": \"Casos confirmados diarios\", \"Promedio m\\u00f3vil \\u00faltimos 7 d\\u00edas\": \"Promedio m\\u00f3vil \\u00faltimos 7 d\\u00edas\"}, {\"Fecha\": \"2020-03-30\", \"Casos confirmados\": 24, \"Rolling\": 13.571428571428571, \"Casos confirmados diarios\": \"Casos confirmados diarios\", \"Promedio m\\u00f3vil \\u00faltimos 7 d\\u00edas\": \"Promedio m\\u00f3vil \\u00faltimos 7 d\\u00edas\"}, {\"Fecha\": \"2020-03-31\", \"Casos confirmados\": 23, \"Rolling\": 16.428571428571427, \"Casos confirmados diarios\": \"Casos confirmados diarios\", \"Promedio m\\u00f3vil \\u00faltimos 7 d\\u00edas\": \"Promedio m\\u00f3vil \\u00faltimos 7 d\\u00edas\"}, {\"Fecha\": \"2020-04-01\", \"Casos confirmados\": 30, \"Rolling\": 19.571428571428573, \"Casos confirmados diarios\": \"Casos confirmados diarios\", \"Promedio m\\u00f3vil \\u00faltimos 7 d\\u00edas\": \"Promedio m\\u00f3vil \\u00faltimos 7 d\\u00edas\"}, {\"Fecha\": \"2020-04-02\", \"Casos confirmados\": 22, \"Rolling\": 20.428571428571427, \"Casos confirmados diarios\": \"Casos confirmados diarios\", \"Promedio m\\u00f3vil \\u00faltimos 7 d\\u00edas\": \"Promedio m\\u00f3vil \\u00faltimos 7 d\\u00edas\"}, {\"Fecha\": \"2020-04-03\", \"Casos confirmados\": 31, \"Rolling\": 24.428571428571427, \"Casos confirmados diarios\": \"Casos confirmados diarios\", \"Promedio m\\u00f3vil \\u00faltimos 7 d\\u00edas\": \"Promedio m\\u00f3vil \\u00faltimos 7 d\\u00edas\"}, {\"Fecha\": \"2020-04-04\", \"Casos confirmados\": 25, \"Rolling\": 23.714285714285715, \"Casos confirmados diarios\": \"Casos confirmados diarios\", \"Promedio m\\u00f3vil \\u00faltimos 7 d\\u00edas\": \"Promedio m\\u00f3vil \\u00faltimos 7 d\\u00edas\"}, {\"Fecha\": \"2020-04-05\", \"Casos confirmados\": 17, \"Rolling\": 24.571428571428573, \"Casos confirmados diarios\": \"Casos confirmados diarios\", \"Promedio m\\u00f3vil \\u00faltimos 7 d\\u00edas\": \"Promedio m\\u00f3vil \\u00faltimos 7 d\\u00edas\"}, {\"Fecha\": \"2020-04-06\", \"Casos confirmados\": 10, \"Rolling\": 22.571428571428573, \"Casos confirmados diarios\": \"Casos confirmados diarios\", \"Promedio m\\u00f3vil \\u00faltimos 7 d\\u00edas\": \"Promedio m\\u00f3vil \\u00faltimos 7 d\\u00edas\"}, {\"Fecha\": \"2020-04-07\", \"Casos confirmados\": 13, \"Rolling\": 21.142857142857142, \"Casos confirmados diarios\": \"Casos confirmados diarios\", \"Promedio m\\u00f3vil \\u00faltimos 7 d\\u00edas\": \"Promedio m\\u00f3vil \\u00faltimos 7 d\\u00edas\"}, {\"Fecha\": \"2020-04-08\", \"Casos confirmados\": 26, \"Rolling\": 20.571428571428573, \"Casos confirmados diarios\": \"Casos confirmados diarios\", \"Promedio m\\u00f3vil \\u00faltimos 7 d\\u00edas\": \"Promedio m\\u00f3vil \\u00faltimos 7 d\\u00edas\"}, {\"Fecha\": \"2020-04-09\", \"Casos confirmados\": 15, \"Rolling\": 19.571428571428573, \"Casos confirmados diarios\": \"Casos confirmados diarios\", \"Promedio m\\u00f3vil \\u00faltimos 7 d\\u00edas\": \"Promedio m\\u00f3vil \\u00faltimos 7 d\\u00edas\"}, {\"Fecha\": \"2020-04-10\", \"Casos confirmados\": 9, \"Rolling\": 16.428571428571427, \"Casos confirmados diarios\": \"Casos confirmados diarios\", \"Promedio m\\u00f3vil \\u00faltimos 7 d\\u00edas\": \"Promedio m\\u00f3vil \\u00faltimos 7 d\\u00edas\"}, {\"Fecha\": \"2020-04-11\", \"Casos confirmados\": 15, \"Rolling\": 15.0, \"Casos confirmados diarios\": \"Casos confirmados diarios\", \"Promedio m\\u00f3vil \\u00faltimos 7 d\\u00edas\": \"Promedio m\\u00f3vil \\u00faltimos 7 d\\u00edas\"}, {\"Fecha\": \"2020-04-12\", \"Casos confirmados\": 8, \"Rolling\": 13.714285714285714, \"Casos confirmados diarios\": \"Casos confirmados diarios\", \"Promedio m\\u00f3vil \\u00faltimos 7 d\\u00edas\": \"Promedio m\\u00f3vil \\u00faltimos 7 d\\u00edas\"}, {\"Fecha\": \"2020-04-13\", \"Casos confirmados\": 8, \"Rolling\": 13.428571428571429, \"Casos confirmados diarios\": \"Casos confirmados diarios\", \"Promedio m\\u00f3vil \\u00faltimos 7 d\\u00edas\": \"Promedio m\\u00f3vil \\u00faltimos 7 d\\u00edas\"}, {\"Fecha\": \"2020-04-14\", \"Casos confirmados\": 5, \"Rolling\": 12.285714285714286, \"Casos confirmados diarios\": \"Casos confirmados diarios\", \"Promedio m\\u00f3vil \\u00faltimos 7 d\\u00edas\": \"Promedio m\\u00f3vil \\u00faltimos 7 d\\u00edas\"}, {\"Fecha\": \"2020-04-15\", \"Casos confirmados\": 5, \"Rolling\": 9.285714285714286, \"Casos confirmados diarios\": \"Casos confirmados diarios\", \"Promedio m\\u00f3vil \\u00faltimos 7 d\\u00edas\": \"Promedio m\\u00f3vil \\u00faltimos 7 d\\u00edas\"}, {\"Fecha\": \"2020-04-16\", \"Casos confirmados\": 9, \"Rolling\": 8.428571428571429, \"Casos confirmados diarios\": \"Casos confirmados diarios\", \"Promedio m\\u00f3vil \\u00faltimos 7 d\\u00edas\": \"Promedio m\\u00f3vil \\u00faltimos 7 d\\u00edas\"}, {\"Fecha\": \"2020-04-17\", \"Casos confirmados\": 13, \"Rolling\": 9.0, \"Casos confirmados diarios\": \"Casos confirmados diarios\", \"Promedio m\\u00f3vil \\u00faltimos 7 d\\u00edas\": \"Promedio m\\u00f3vil \\u00faltimos 7 d\\u00edas\"}, {\"Fecha\": \"2020-04-18\", \"Casos confirmados\": 4, \"Rolling\": 7.428571428571429, \"Casos confirmados diarios\": \"Casos confirmados diarios\", \"Promedio m\\u00f3vil \\u00faltimos 7 d\\u00edas\": \"Promedio m\\u00f3vil \\u00faltimos 7 d\\u00edas\"}, {\"Fecha\": \"2020-04-19\", \"Casos confirmados\": 5, \"Rolling\": 7.0, \"Casos confirmados diarios\": \"Casos confirmados diarios\", \"Promedio m\\u00f3vil \\u00faltimos 7 d\\u00edas\": \"Promedio m\\u00f3vil \\u00faltimos 7 d\\u00edas\"}, {\"Fecha\": \"2020-04-20\", \"Casos confirmados\": 3, \"Rolling\": 6.285714285714286, \"Casos confirmados diarios\": \"Casos confirmados diarios\", \"Promedio m\\u00f3vil \\u00faltimos 7 d\\u00edas\": \"Promedio m\\u00f3vil \\u00faltimos 7 d\\u00edas\"}, {\"Fecha\": \"2020-04-21\", \"Casos confirmados\": 8, \"Rolling\": 6.714285714285714, \"Casos confirmados diarios\": \"Casos confirmados diarios\", \"Promedio m\\u00f3vil \\u00faltimos 7 d\\u00edas\": \"Promedio m\\u00f3vil \\u00faltimos 7 d\\u00edas\"}, {\"Fecha\": \"2020-04-22\", \"Casos confirmados\": 13, \"Rolling\": 7.857142857142857, \"Casos confirmados diarios\": \"Casos confirmados diarios\", \"Promedio m\\u00f3vil \\u00faltimos 7 d\\u00edas\": \"Promedio m\\u00f3vil \\u00faltimos 7 d\\u00edas\"}, {\"Fecha\": \"2020-04-23\", \"Casos confirmados\": 9, \"Rolling\": 7.857142857142857, \"Casos confirmados diarios\": \"Casos confirmados diarios\", \"Promedio m\\u00f3vil \\u00faltimos 7 d\\u00edas\": \"Promedio m\\u00f3vil \\u00faltimos 7 d\\u00edas\"}, {\"Fecha\": \"2020-04-24\", \"Casos confirmados\": 6, \"Rolling\": 6.857142857142857, \"Casos confirmados diarios\": \"Casos confirmados diarios\", \"Promedio m\\u00f3vil \\u00faltimos 7 d\\u00edas\": \"Promedio m\\u00f3vil \\u00faltimos 7 d\\u00edas\"}, {\"Fecha\": \"2020-04-25\", \"Casos confirmados\": 5, \"Rolling\": 7.0, \"Casos confirmados diarios\": \"Casos confirmados diarios\", \"Promedio m\\u00f3vil \\u00faltimos 7 d\\u00edas\": \"Promedio m\\u00f3vil \\u00faltimos 7 d\\u00edas\"}, {\"Fecha\": \"2020-04-26\", \"Casos confirmados\": 8, \"Rolling\": 7.428571428571429, \"Casos confirmados diarios\": \"Casos confirmados diarios\", \"Promedio m\\u00f3vil \\u00faltimos 7 d\\u00edas\": \"Promedio m\\u00f3vil \\u00faltimos 7 d\\u00edas\"}, {\"Fecha\": \"2020-04-27\", \"Casos confirmados\": 4, \"Rolling\": 7.571428571428571, \"Casos confirmados diarios\": \"Casos confirmados diarios\", \"Promedio m\\u00f3vil \\u00faltimos 7 d\\u00edas\": \"Promedio m\\u00f3vil \\u00faltimos 7 d\\u00edas\"}, {\"Fecha\": \"2020-04-28\", \"Casos confirmados\": 0, \"Rolling\": 6.428571428571429, \"Casos confirmados diarios\": \"Casos confirmados diarios\", \"Promedio m\\u00f3vil \\u00faltimos 7 d\\u00edas\": \"Promedio m\\u00f3vil \\u00faltimos 7 d\\u00edas\"}, {\"Fecha\": \"2020-04-29\", \"Casos confirmados\": 4, \"Rolling\": 5.142857142857143, \"Casos confirmados diarios\": \"Casos confirmados diarios\", \"Promedio m\\u00f3vil \\u00faltimos 7 d\\u00edas\": \"Promedio m\\u00f3vil \\u00faltimos 7 d\\u00edas\"}, {\"Fecha\": \"2020-04-30\", \"Casos confirmados\": 6, \"Rolling\": 4.714285714285714, \"Casos confirmados diarios\": \"Casos confirmados diarios\", \"Promedio m\\u00f3vil \\u00faltimos 7 d\\u00edas\": \"Promedio m\\u00f3vil \\u00faltimos 7 d\\u00edas\"}, {\"Fecha\": \"2020-05-01\", \"Casos confirmados\": 14, \"Rolling\": 5.857142857142857, \"Casos confirmados diarios\": \"Casos confirmados diarios\", \"Promedio m\\u00f3vil \\u00faltimos 7 d\\u00edas\": \"Promedio m\\u00f3vil \\u00faltimos 7 d\\u00edas\"}, {\"Fecha\": \"2020-05-02\", \"Casos confirmados\": 12, \"Rolling\": 6.857142857142857, \"Casos confirmados diarios\": \"Casos confirmados diarios\", \"Promedio m\\u00f3vil \\u00faltimos 7 d\\u00edas\": \"Promedio m\\u00f3vil \\u00faltimos 7 d\\u00edas\"}, {\"Fecha\": \"2020-05-03\", \"Casos confirmados\": 4, \"Rolling\": 6.285714285714286, \"Casos confirmados diarios\": \"Casos confirmados diarios\", \"Promedio m\\u00f3vil \\u00faltimos 7 d\\u00edas\": \"Promedio m\\u00f3vil \\u00faltimos 7 d\\u00edas\"}, {\"Fecha\": \"2020-05-04\", \"Casos confirmados\": 7, \"Rolling\": 6.714285714285714, \"Casos confirmados diarios\": \"Casos confirmados diarios\", \"Promedio m\\u00f3vil \\u00faltimos 7 d\\u00edas\": \"Promedio m\\u00f3vil \\u00faltimos 7 d\\u00edas\"}, {\"Fecha\": \"2020-05-05\", \"Casos confirmados\": 1, \"Rolling\": 6.857142857142857, \"Casos confirmados diarios\": \"Casos confirmados diarios\", \"Promedio m\\u00f3vil \\u00faltimos 7 d\\u00edas\": \"Promedio m\\u00f3vil \\u00faltimos 7 d\\u00edas\"}, {\"Fecha\": \"2020-05-06\", \"Casos confirmados\": 16, \"Rolling\": 8.571428571428571, \"Casos confirmados diarios\": \"Casos confirmados diarios\", \"Promedio m\\u00f3vil \\u00faltimos 7 d\\u00edas\": \"Promedio m\\u00f3vil \\u00faltimos 7 d\\u00edas\"}, {\"Fecha\": \"2020-05-07\", \"Casos confirmados\": 4, \"Rolling\": 8.285714285714286, \"Casos confirmados diarios\": \"Casos confirmados diarios\", \"Promedio m\\u00f3vil \\u00faltimos 7 d\\u00edas\": \"Promedio m\\u00f3vil \\u00faltimos 7 d\\u00edas\"}, {\"Fecha\": \"2020-05-08\", \"Casos confirmados\": 3, \"Rolling\": 6.714285714285714, \"Casos confirmados diarios\": \"Casos confirmados diarios\", \"Promedio m\\u00f3vil \\u00faltimos 7 d\\u00edas\": \"Promedio m\\u00f3vil \\u00faltimos 7 d\\u00edas\"}, {\"Fecha\": \"2020-05-09\", \"Casos confirmados\": 11, \"Rolling\": 6.571428571428571, \"Casos confirmados diarios\": \"Casos confirmados diarios\", \"Promedio m\\u00f3vil \\u00faltimos 7 d\\u00edas\": \"Promedio m\\u00f3vil \\u00faltimos 7 d\\u00edas\"}, {\"Fecha\": \"2020-05-10\", \"Casos confirmados\": 16, \"Rolling\": 8.285714285714286, \"Casos confirmados diarios\": \"Casos confirmados diarios\", \"Promedio m\\u00f3vil \\u00faltimos 7 d\\u00edas\": \"Promedio m\\u00f3vil \\u00faltimos 7 d\\u00edas\"}, {\"Fecha\": \"2020-05-11\", \"Casos confirmados\": 17, \"Rolling\": 9.714285714285714, \"Casos confirmados diarios\": \"Casos confirmados diarios\", \"Promedio m\\u00f3vil \\u00faltimos 7 d\\u00edas\": \"Promedio m\\u00f3vil \\u00faltimos 7 d\\u00edas\"}, {\"Fecha\": \"2020-05-12\", \"Casos confirmados\": 2, \"Rolling\": 9.857142857142858, \"Casos confirmados diarios\": \"Casos confirmados diarios\", \"Promedio m\\u00f3vil \\u00faltimos 7 d\\u00edas\": \"Promedio m\\u00f3vil \\u00faltimos 7 d\\u00edas\"}, {\"Fecha\": \"2020-05-13\", \"Casos confirmados\": 34, \"Rolling\": 12.428571428571429, \"Casos confirmados diarios\": \"Casos confirmados diarios\", \"Promedio m\\u00f3vil \\u00faltimos 7 d\\u00edas\": \"Promedio m\\u00f3vil \\u00faltimos 7 d\\u00edas\"}]}}, {\"mode\": \"vega-lite\"});\n",
       "</script>"
      ],
      "text/plain": [
       "alt.LayerChart(...)"
      ]
     },
     "execution_count": 35,
     "metadata": {},
     "output_type": "execute_result"
    }
   ],
   "source": [
    "#hide_input\n",
    "bars, line = my_cases_plot(region)\n",
    "(bars + line).properties(\n",
    "    title=f'Covid-19 en Chile: Casos confirmados diarios en {region}',\n",
    "    width=600\n",
    ")"
   ]
  },
  {
   "cell_type": "markdown",
   "metadata": {},
   "source": [
    "## Aysén"
   ]
  },
  {
   "cell_type": "code",
   "execution_count": 36,
   "metadata": {
    "scrolled": true
   },
   "outputs": [],
   "source": [
    "#hide\n",
    "region = \"Aysén\""
   ]
  },
  {
   "cell_type": "code",
   "execution_count": 37,
   "metadata": {},
   "outputs": [
    {
     "data": {
      "text/html": [
       "\n",
       "<div id=\"altair-viz-c523f3b2f02143b5812bb00203f1eb07\"></div>\n",
       "<script type=\"text/javascript\">\n",
       "  (function(spec, embedOpt){\n",
       "    let outputDiv = document.currentScript.previousElementSibling;\n",
       "    if (outputDiv.id !== \"altair-viz-c523f3b2f02143b5812bb00203f1eb07\") {\n",
       "      outputDiv = document.getElementById(\"altair-viz-c523f3b2f02143b5812bb00203f1eb07\");\n",
       "    }\n",
       "    const paths = {\n",
       "      \"vega\": \"https://cdn.jsdelivr.net/npm//vega@5?noext\",\n",
       "      \"vega-lib\": \"https://cdn.jsdelivr.net/npm//vega-lib?noext\",\n",
       "      \"vega-lite\": \"https://cdn.jsdelivr.net/npm//vega-lite@4.8.1?noext\",\n",
       "      \"vega-embed\": \"https://cdn.jsdelivr.net/npm//vega-embed@6?noext\",\n",
       "    };\n",
       "\n",
       "    function loadScript(lib) {\n",
       "      return new Promise(function(resolve, reject) {\n",
       "        var s = document.createElement('script');\n",
       "        s.src = paths[lib];\n",
       "        s.async = true;\n",
       "        s.onload = () => resolve(paths[lib]);\n",
       "        s.onerror = () => reject(`Error loading script: ${paths[lib]}`);\n",
       "        document.getElementsByTagName(\"head\")[0].appendChild(s);\n",
       "      });\n",
       "    }\n",
       "\n",
       "    function showError(err) {\n",
       "      outputDiv.innerHTML = `<div class=\"error\" style=\"color:red;\">${err}</div>`;\n",
       "      throw err;\n",
       "    }\n",
       "\n",
       "    function displayChart(vegaEmbed) {\n",
       "      vegaEmbed(outputDiv, spec, embedOpt)\n",
       "        .catch(err => showError(`Javascript Error: ${err.message}<br>This usually means there's a typo in your chart specification. See the javascript console for the full traceback.`));\n",
       "    }\n",
       "\n",
       "    if(typeof define === \"function\" && define.amd) {\n",
       "      requirejs.config({paths});\n",
       "      require([\"vega-embed\"], displayChart, err => showError(`Error loading script: ${err.message}`));\n",
       "    } else if (typeof vegaEmbed === \"function\") {\n",
       "      displayChart(vegaEmbed);\n",
       "    } else {\n",
       "      loadScript(\"vega\")\n",
       "        .then(() => loadScript(\"vega-lite\"))\n",
       "        .then(() => loadScript(\"vega-embed\"))\n",
       "        .catch(showError)\n",
       "        .then(() => displayChart(vegaEmbed));\n",
       "    }\n",
       "  })({\"config\": {\"view\": {\"continuousWidth\": 400, \"continuousHeight\": 300}}, \"layer\": [{\"mark\": {\"type\": \"bar\", \"opacity\": 0.7}, \"encoding\": {\"opacity\": {\"type\": \"nominal\", \"field\": \"Casos confirmados diarios\", \"legend\": {\"title\": \"\"}}, \"tooltip\": [{\"type\": \"nominal\", \"field\": \"Fecha\"}, {\"type\": \"quantitative\", \"field\": \"Casos confirmados\"}], \"x\": {\"type\": \"nominal\", \"axis\": {\"title\": \"Fecha (a\\u00f1o-mes-d\\u00eda)\"}, \"field\": \"Fecha\"}, \"y\": {\"type\": \"quantitative\", \"axis\": {\"title\": \"Casos confirmados diarios\"}, \"field\": \"Casos confirmados\"}}}, {\"mark\": {\"type\": \"line\", \"color\": \"#1f77b4\", \"point\": {\"filled\": true, \"fill\": \"#1f77b4\"}}, \"encoding\": {\"shape\": {\"type\": \"nominal\", \"field\": \"Promedio m\\u00f3vil \\u00faltimos 7 d\\u00edas\", \"legend\": {\"title\": \"\"}}, \"x\": {\"type\": \"nominal\", \"axis\": {\"title\": \"Fecha (a\\u00f1o-mes-d\\u00eda)\"}, \"field\": \"Fecha\"}, \"y\": {\"type\": \"quantitative\", \"field\": \"Rolling\"}}}], \"data\": {\"name\": \"data-f94682002e80f21dd95890d7e8f806ad\"}, \"title\": \"Covid-19 en Chile: Casos confirmados diarios en Ays\\u00e9n\", \"width\": 600, \"$schema\": \"https://vega.github.io/schema/vega-lite/v4.8.1.json\", \"datasets\": {\"data-f94682002e80f21dd95890d7e8f806ad\": [{\"Fecha\": \"2020-03-04\", \"Casos confirmados\": 0, \"Rolling\": null, \"Casos confirmados diarios\": \"Casos confirmados diarios\", \"Promedio m\\u00f3vil \\u00faltimos 7 d\\u00edas\": \"Promedio m\\u00f3vil \\u00faltimos 7 d\\u00edas\"}, {\"Fecha\": \"2020-03-05\", \"Casos confirmados\": 0, \"Rolling\": null, \"Casos confirmados diarios\": \"Casos confirmados diarios\", \"Promedio m\\u00f3vil \\u00faltimos 7 d\\u00edas\": \"Promedio m\\u00f3vil \\u00faltimos 7 d\\u00edas\"}, {\"Fecha\": \"2020-03-06\", \"Casos confirmados\": 0, \"Rolling\": null, \"Casos confirmados diarios\": \"Casos confirmados diarios\", \"Promedio m\\u00f3vil \\u00faltimos 7 d\\u00edas\": \"Promedio m\\u00f3vil \\u00faltimos 7 d\\u00edas\"}, {\"Fecha\": \"2020-03-07\", \"Casos confirmados\": 0, \"Rolling\": null, \"Casos confirmados diarios\": \"Casos confirmados diarios\", \"Promedio m\\u00f3vil \\u00faltimos 7 d\\u00edas\": \"Promedio m\\u00f3vil \\u00faltimos 7 d\\u00edas\"}, {\"Fecha\": \"2020-03-08\", \"Casos confirmados\": 0, \"Rolling\": null, \"Casos confirmados diarios\": \"Casos confirmados diarios\", \"Promedio m\\u00f3vil \\u00faltimos 7 d\\u00edas\": \"Promedio m\\u00f3vil \\u00faltimos 7 d\\u00edas\"}, {\"Fecha\": \"2020-03-09\", \"Casos confirmados\": 0, \"Rolling\": null, \"Casos confirmados diarios\": \"Casos confirmados diarios\", \"Promedio m\\u00f3vil \\u00faltimos 7 d\\u00edas\": \"Promedio m\\u00f3vil \\u00faltimos 7 d\\u00edas\"}, {\"Fecha\": \"2020-03-10\", \"Casos confirmados\": 0, \"Rolling\": 0.0, \"Casos confirmados diarios\": \"Casos confirmados diarios\", \"Promedio m\\u00f3vil \\u00faltimos 7 d\\u00edas\": \"Promedio m\\u00f3vil \\u00faltimos 7 d\\u00edas\"}, {\"Fecha\": \"2020-03-11\", \"Casos confirmados\": 0, \"Rolling\": 0.0, \"Casos confirmados diarios\": \"Casos confirmados diarios\", \"Promedio m\\u00f3vil \\u00faltimos 7 d\\u00edas\": \"Promedio m\\u00f3vil \\u00faltimos 7 d\\u00edas\"}, {\"Fecha\": \"2020-03-12\", \"Casos confirmados\": 0, \"Rolling\": 0.0, \"Casos confirmados diarios\": \"Casos confirmados diarios\", \"Promedio m\\u00f3vil \\u00faltimos 7 d\\u00edas\": \"Promedio m\\u00f3vil \\u00faltimos 7 d\\u00edas\"}, {\"Fecha\": \"2020-03-13\", \"Casos confirmados\": 0, \"Rolling\": 0.0, \"Casos confirmados diarios\": \"Casos confirmados diarios\", \"Promedio m\\u00f3vil \\u00faltimos 7 d\\u00edas\": \"Promedio m\\u00f3vil \\u00faltimos 7 d\\u00edas\"}, {\"Fecha\": \"2020-03-14\", \"Casos confirmados\": 1, \"Rolling\": 0.14285714285714285, \"Casos confirmados diarios\": \"Casos confirmados diarios\", \"Promedio m\\u00f3vil \\u00faltimos 7 d\\u00edas\": \"Promedio m\\u00f3vil \\u00faltimos 7 d\\u00edas\"}, {\"Fecha\": \"2020-03-15\", \"Casos confirmados\": 0, \"Rolling\": 0.14285714285714285, \"Casos confirmados diarios\": \"Casos confirmados diarios\", \"Promedio m\\u00f3vil \\u00faltimos 7 d\\u00edas\": \"Promedio m\\u00f3vil \\u00faltimos 7 d\\u00edas\"}, {\"Fecha\": \"2020-03-16\", \"Casos confirmados\": 0, \"Rolling\": 0.14285714285714285, \"Casos confirmados diarios\": \"Casos confirmados diarios\", \"Promedio m\\u00f3vil \\u00faltimos 7 d\\u00edas\": \"Promedio m\\u00f3vil \\u00faltimos 7 d\\u00edas\"}, {\"Fecha\": \"2020-03-17\", \"Casos confirmados\": 0, \"Rolling\": 0.14285714285714285, \"Casos confirmados diarios\": \"Casos confirmados diarios\", \"Promedio m\\u00f3vil \\u00faltimos 7 d\\u00edas\": \"Promedio m\\u00f3vil \\u00faltimos 7 d\\u00edas\"}, {\"Fecha\": \"2020-03-18\", \"Casos confirmados\": 0, \"Rolling\": 0.14285714285714285, \"Casos confirmados diarios\": \"Casos confirmados diarios\", \"Promedio m\\u00f3vil \\u00faltimos 7 d\\u00edas\": \"Promedio m\\u00f3vil \\u00faltimos 7 d\\u00edas\"}, {\"Fecha\": \"2020-03-19\", \"Casos confirmados\": 0, \"Rolling\": 0.14285714285714285, \"Casos confirmados diarios\": \"Casos confirmados diarios\", \"Promedio m\\u00f3vil \\u00faltimos 7 d\\u00edas\": \"Promedio m\\u00f3vil \\u00faltimos 7 d\\u00edas\"}, {\"Fecha\": \"2020-03-20\", \"Casos confirmados\": 0, \"Rolling\": 0.14285714285714285, \"Casos confirmados diarios\": \"Casos confirmados diarios\", \"Promedio m\\u00f3vil \\u00faltimos 7 d\\u00edas\": \"Promedio m\\u00f3vil \\u00faltimos 7 d\\u00edas\"}, {\"Fecha\": \"2020-03-21\", \"Casos confirmados\": 0, \"Rolling\": 0.0, \"Casos confirmados diarios\": \"Casos confirmados diarios\", \"Promedio m\\u00f3vil \\u00faltimos 7 d\\u00edas\": \"Promedio m\\u00f3vil \\u00faltimos 7 d\\u00edas\"}, {\"Fecha\": \"2020-03-22\", \"Casos confirmados\": 0, \"Rolling\": 0.0, \"Casos confirmados diarios\": \"Casos confirmados diarios\", \"Promedio m\\u00f3vil \\u00faltimos 7 d\\u00edas\": \"Promedio m\\u00f3vil \\u00faltimos 7 d\\u00edas\"}, {\"Fecha\": \"2020-03-23\", \"Casos confirmados\": 0, \"Rolling\": 0.0, \"Casos confirmados diarios\": \"Casos confirmados diarios\", \"Promedio m\\u00f3vil \\u00faltimos 7 d\\u00edas\": \"Promedio m\\u00f3vil \\u00faltimos 7 d\\u00edas\"}, {\"Fecha\": \"2020-03-24\", \"Casos confirmados\": 0, \"Rolling\": 0.0, \"Casos confirmados diarios\": \"Casos confirmados diarios\", \"Promedio m\\u00f3vil \\u00faltimos 7 d\\u00edas\": \"Promedio m\\u00f3vil \\u00faltimos 7 d\\u00edas\"}, {\"Fecha\": \"2020-03-25\", \"Casos confirmados\": 0, \"Rolling\": 0.0, \"Casos confirmados diarios\": \"Casos confirmados diarios\", \"Promedio m\\u00f3vil \\u00faltimos 7 d\\u00edas\": \"Promedio m\\u00f3vil \\u00faltimos 7 d\\u00edas\"}, {\"Fecha\": \"2020-03-26\", \"Casos confirmados\": 1, \"Rolling\": 0.14285714285714285, \"Casos confirmados diarios\": \"Casos confirmados diarios\", \"Promedio m\\u00f3vil \\u00faltimos 7 d\\u00edas\": \"Promedio m\\u00f3vil \\u00faltimos 7 d\\u00edas\"}, {\"Fecha\": \"2020-03-27\", \"Casos confirmados\": 0, \"Rolling\": 0.14285714285714285, \"Casos confirmados diarios\": \"Casos confirmados diarios\", \"Promedio m\\u00f3vil \\u00faltimos 7 d\\u00edas\": \"Promedio m\\u00f3vil \\u00faltimos 7 d\\u00edas\"}, {\"Fecha\": \"2020-03-28\", \"Casos confirmados\": 0, \"Rolling\": 0.14285714285714285, \"Casos confirmados diarios\": \"Casos confirmados diarios\", \"Promedio m\\u00f3vil \\u00faltimos 7 d\\u00edas\": \"Promedio m\\u00f3vil \\u00faltimos 7 d\\u00edas\"}, {\"Fecha\": \"2020-03-29\", \"Casos confirmados\": 0, \"Rolling\": 0.14285714285714285, \"Casos confirmados diarios\": \"Casos confirmados diarios\", \"Promedio m\\u00f3vil \\u00faltimos 7 d\\u00edas\": \"Promedio m\\u00f3vil \\u00faltimos 7 d\\u00edas\"}, {\"Fecha\": \"2020-03-30\", \"Casos confirmados\": 0, \"Rolling\": 0.14285714285714285, \"Casos confirmados diarios\": \"Casos confirmados diarios\", \"Promedio m\\u00f3vil \\u00faltimos 7 d\\u00edas\": \"Promedio m\\u00f3vil \\u00faltimos 7 d\\u00edas\"}, {\"Fecha\": \"2020-03-31\", \"Casos confirmados\": 0, \"Rolling\": 0.14285714285714285, \"Casos confirmados diarios\": \"Casos confirmados diarios\", \"Promedio m\\u00f3vil \\u00faltimos 7 d\\u00edas\": \"Promedio m\\u00f3vil \\u00faltimos 7 d\\u00edas\"}, {\"Fecha\": \"2020-04-01\", \"Casos confirmados\": 1, \"Rolling\": 0.2857142857142857, \"Casos confirmados diarios\": \"Casos confirmados diarios\", \"Promedio m\\u00f3vil \\u00faltimos 7 d\\u00edas\": \"Promedio m\\u00f3vil \\u00faltimos 7 d\\u00edas\"}, {\"Fecha\": \"2020-04-02\", \"Casos confirmados\": 2, \"Rolling\": 0.42857142857142855, \"Casos confirmados diarios\": \"Casos confirmados diarios\", \"Promedio m\\u00f3vil \\u00faltimos 7 d\\u00edas\": \"Promedio m\\u00f3vil \\u00faltimos 7 d\\u00edas\"}, {\"Fecha\": \"2020-04-03\", \"Casos confirmados\": 1, \"Rolling\": 0.5714285714285714, \"Casos confirmados diarios\": \"Casos confirmados diarios\", \"Promedio m\\u00f3vil \\u00faltimos 7 d\\u00edas\": \"Promedio m\\u00f3vil \\u00faltimos 7 d\\u00edas\"}, {\"Fecha\": \"2020-04-04\", \"Casos confirmados\": 0, \"Rolling\": 0.5714285714285714, \"Casos confirmados diarios\": \"Casos confirmados diarios\", \"Promedio m\\u00f3vil \\u00faltimos 7 d\\u00edas\": \"Promedio m\\u00f3vil \\u00faltimos 7 d\\u00edas\"}, {\"Fecha\": \"2020-04-05\", \"Casos confirmados\": 1, \"Rolling\": 0.7142857142857143, \"Casos confirmados diarios\": \"Casos confirmados diarios\", \"Promedio m\\u00f3vil \\u00faltimos 7 d\\u00edas\": \"Promedio m\\u00f3vil \\u00faltimos 7 d\\u00edas\"}, {\"Fecha\": \"2020-04-06\", \"Casos confirmados\": 0, \"Rolling\": 0.7142857142857143, \"Casos confirmados diarios\": \"Casos confirmados diarios\", \"Promedio m\\u00f3vil \\u00faltimos 7 d\\u00edas\": \"Promedio m\\u00f3vil \\u00faltimos 7 d\\u00edas\"}, {\"Fecha\": \"2020-04-07\", \"Casos confirmados\": 0, \"Rolling\": 0.7142857142857143, \"Casos confirmados diarios\": \"Casos confirmados diarios\", \"Promedio m\\u00f3vil \\u00faltimos 7 d\\u00edas\": \"Promedio m\\u00f3vil \\u00faltimos 7 d\\u00edas\"}, {\"Fecha\": \"2020-04-08\", \"Casos confirmados\": 0, \"Rolling\": 0.5714285714285714, \"Casos confirmados diarios\": \"Casos confirmados diarios\", \"Promedio m\\u00f3vil \\u00faltimos 7 d\\u00edas\": \"Promedio m\\u00f3vil \\u00faltimos 7 d\\u00edas\"}, {\"Fecha\": \"2020-04-09\", \"Casos confirmados\": 0, \"Rolling\": 0.2857142857142857, \"Casos confirmados diarios\": \"Casos confirmados diarios\", \"Promedio m\\u00f3vil \\u00faltimos 7 d\\u00edas\": \"Promedio m\\u00f3vil \\u00faltimos 7 d\\u00edas\"}, {\"Fecha\": \"2020-04-10\", \"Casos confirmados\": 0, \"Rolling\": 0.14285714285714285, \"Casos confirmados diarios\": \"Casos confirmados diarios\", \"Promedio m\\u00f3vil \\u00faltimos 7 d\\u00edas\": \"Promedio m\\u00f3vil \\u00faltimos 7 d\\u00edas\"}, {\"Fecha\": \"2020-04-11\", \"Casos confirmados\": 0, \"Rolling\": 0.14285714285714285, \"Casos confirmados diarios\": \"Casos confirmados diarios\", \"Promedio m\\u00f3vil \\u00faltimos 7 d\\u00edas\": \"Promedio m\\u00f3vil \\u00faltimos 7 d\\u00edas\"}, {\"Fecha\": \"2020-04-12\", \"Casos confirmados\": 0, \"Rolling\": 0.0, \"Casos confirmados diarios\": \"Casos confirmados diarios\", \"Promedio m\\u00f3vil \\u00faltimos 7 d\\u00edas\": \"Promedio m\\u00f3vil \\u00faltimos 7 d\\u00edas\"}, {\"Fecha\": \"2020-04-13\", \"Casos confirmados\": 0, \"Rolling\": 0.0, \"Casos confirmados diarios\": \"Casos confirmados diarios\", \"Promedio m\\u00f3vil \\u00faltimos 7 d\\u00edas\": \"Promedio m\\u00f3vil \\u00faltimos 7 d\\u00edas\"}, {\"Fecha\": \"2020-04-14\", \"Casos confirmados\": 0, \"Rolling\": 0.0, \"Casos confirmados diarios\": \"Casos confirmados diarios\", \"Promedio m\\u00f3vil \\u00faltimos 7 d\\u00edas\": \"Promedio m\\u00f3vil \\u00faltimos 7 d\\u00edas\"}, {\"Fecha\": \"2020-04-15\", \"Casos confirmados\": 0, \"Rolling\": 0.0, \"Casos confirmados diarios\": \"Casos confirmados diarios\", \"Promedio m\\u00f3vil \\u00faltimos 7 d\\u00edas\": \"Promedio m\\u00f3vil \\u00faltimos 7 d\\u00edas\"}, {\"Fecha\": \"2020-04-16\", \"Casos confirmados\": 0, \"Rolling\": 0.0, \"Casos confirmados diarios\": \"Casos confirmados diarios\", \"Promedio m\\u00f3vil \\u00faltimos 7 d\\u00edas\": \"Promedio m\\u00f3vil \\u00faltimos 7 d\\u00edas\"}, {\"Fecha\": \"2020-04-17\", \"Casos confirmados\": 0, \"Rolling\": 0.0, \"Casos confirmados diarios\": \"Casos confirmados diarios\", \"Promedio m\\u00f3vil \\u00faltimos 7 d\\u00edas\": \"Promedio m\\u00f3vil \\u00faltimos 7 d\\u00edas\"}, {\"Fecha\": \"2020-04-18\", \"Casos confirmados\": 0, \"Rolling\": 0.0, \"Casos confirmados diarios\": \"Casos confirmados diarios\", \"Promedio m\\u00f3vil \\u00faltimos 7 d\\u00edas\": \"Promedio m\\u00f3vil \\u00faltimos 7 d\\u00edas\"}, {\"Fecha\": \"2020-04-19\", \"Casos confirmados\": 0, \"Rolling\": 0.0, \"Casos confirmados diarios\": \"Casos confirmados diarios\", \"Promedio m\\u00f3vil \\u00faltimos 7 d\\u00edas\": \"Promedio m\\u00f3vil \\u00faltimos 7 d\\u00edas\"}, {\"Fecha\": \"2020-04-20\", \"Casos confirmados\": 0, \"Rolling\": 0.0, \"Casos confirmados diarios\": \"Casos confirmados diarios\", \"Promedio m\\u00f3vil \\u00faltimos 7 d\\u00edas\": \"Promedio m\\u00f3vil \\u00faltimos 7 d\\u00edas\"}, {\"Fecha\": \"2020-04-21\", \"Casos confirmados\": 0, \"Rolling\": 0.0, \"Casos confirmados diarios\": \"Casos confirmados diarios\", \"Promedio m\\u00f3vil \\u00faltimos 7 d\\u00edas\": \"Promedio m\\u00f3vil \\u00faltimos 7 d\\u00edas\"}, {\"Fecha\": \"2020-04-22\", \"Casos confirmados\": 0, \"Rolling\": 0.0, \"Casos confirmados diarios\": \"Casos confirmados diarios\", \"Promedio m\\u00f3vil \\u00faltimos 7 d\\u00edas\": \"Promedio m\\u00f3vil \\u00faltimos 7 d\\u00edas\"}, {\"Fecha\": \"2020-04-23\", \"Casos confirmados\": 0, \"Rolling\": 0.0, \"Casos confirmados diarios\": \"Casos confirmados diarios\", \"Promedio m\\u00f3vil \\u00faltimos 7 d\\u00edas\": \"Promedio m\\u00f3vil \\u00faltimos 7 d\\u00edas\"}, {\"Fecha\": \"2020-04-24\", \"Casos confirmados\": 0, \"Rolling\": 0.0, \"Casos confirmados diarios\": \"Casos confirmados diarios\", \"Promedio m\\u00f3vil \\u00faltimos 7 d\\u00edas\": \"Promedio m\\u00f3vil \\u00faltimos 7 d\\u00edas\"}, {\"Fecha\": \"2020-04-25\", \"Casos confirmados\": 0, \"Rolling\": 0.0, \"Casos confirmados diarios\": \"Casos confirmados diarios\", \"Promedio m\\u00f3vil \\u00faltimos 7 d\\u00edas\": \"Promedio m\\u00f3vil \\u00faltimos 7 d\\u00edas\"}, {\"Fecha\": \"2020-04-26\", \"Casos confirmados\": 0, \"Rolling\": 0.0, \"Casos confirmados diarios\": \"Casos confirmados diarios\", \"Promedio m\\u00f3vil \\u00faltimos 7 d\\u00edas\": \"Promedio m\\u00f3vil \\u00faltimos 7 d\\u00edas\"}, {\"Fecha\": \"2020-04-27\", \"Casos confirmados\": 0, \"Rolling\": 0.0, \"Casos confirmados diarios\": \"Casos confirmados diarios\", \"Promedio m\\u00f3vil \\u00faltimos 7 d\\u00edas\": \"Promedio m\\u00f3vil \\u00faltimos 7 d\\u00edas\"}, {\"Fecha\": \"2020-04-28\", \"Casos confirmados\": 0, \"Rolling\": 0.0, \"Casos confirmados diarios\": \"Casos confirmados diarios\", \"Promedio m\\u00f3vil \\u00faltimos 7 d\\u00edas\": \"Promedio m\\u00f3vil \\u00faltimos 7 d\\u00edas\"}, {\"Fecha\": \"2020-04-29\", \"Casos confirmados\": 0, \"Rolling\": 0.0, \"Casos confirmados diarios\": \"Casos confirmados diarios\", \"Promedio m\\u00f3vil \\u00faltimos 7 d\\u00edas\": \"Promedio m\\u00f3vil \\u00faltimos 7 d\\u00edas\"}, {\"Fecha\": \"2020-04-30\", \"Casos confirmados\": 0, \"Rolling\": 0.0, \"Casos confirmados diarios\": \"Casos confirmados diarios\", \"Promedio m\\u00f3vil \\u00faltimos 7 d\\u00edas\": \"Promedio m\\u00f3vil \\u00faltimos 7 d\\u00edas\"}, {\"Fecha\": \"2020-05-01\", \"Casos confirmados\": 0, \"Rolling\": 0.0, \"Casos confirmados diarios\": \"Casos confirmados diarios\", \"Promedio m\\u00f3vil \\u00faltimos 7 d\\u00edas\": \"Promedio m\\u00f3vil \\u00faltimos 7 d\\u00edas\"}, {\"Fecha\": \"2020-05-02\", \"Casos confirmados\": 0, \"Rolling\": 0.0, \"Casos confirmados diarios\": \"Casos confirmados diarios\", \"Promedio m\\u00f3vil \\u00faltimos 7 d\\u00edas\": \"Promedio m\\u00f3vil \\u00faltimos 7 d\\u00edas\"}, {\"Fecha\": \"2020-05-03\", \"Casos confirmados\": 0, \"Rolling\": 0.0, \"Casos confirmados diarios\": \"Casos confirmados diarios\", \"Promedio m\\u00f3vil \\u00faltimos 7 d\\u00edas\": \"Promedio m\\u00f3vil \\u00faltimos 7 d\\u00edas\"}, {\"Fecha\": \"2020-05-04\", \"Casos confirmados\": 0, \"Rolling\": 0.0, \"Casos confirmados diarios\": \"Casos confirmados diarios\", \"Promedio m\\u00f3vil \\u00faltimos 7 d\\u00edas\": \"Promedio m\\u00f3vil \\u00faltimos 7 d\\u00edas\"}, {\"Fecha\": \"2020-05-05\", \"Casos confirmados\": 0, \"Rolling\": 0.0, \"Casos confirmados diarios\": \"Casos confirmados diarios\", \"Promedio m\\u00f3vil \\u00faltimos 7 d\\u00edas\": \"Promedio m\\u00f3vil \\u00faltimos 7 d\\u00edas\"}, {\"Fecha\": \"2020-05-06\", \"Casos confirmados\": 0, \"Rolling\": 0.0, \"Casos confirmados diarios\": \"Casos confirmados diarios\", \"Promedio m\\u00f3vil \\u00faltimos 7 d\\u00edas\": \"Promedio m\\u00f3vil \\u00faltimos 7 d\\u00edas\"}, {\"Fecha\": \"2020-05-07\", \"Casos confirmados\": 1, \"Rolling\": 0.14285714285714285, \"Casos confirmados diarios\": \"Casos confirmados diarios\", \"Promedio m\\u00f3vil \\u00faltimos 7 d\\u00edas\": \"Promedio m\\u00f3vil \\u00faltimos 7 d\\u00edas\"}, {\"Fecha\": \"2020-05-08\", \"Casos confirmados\": 0, \"Rolling\": 0.14285714285714285, \"Casos confirmados diarios\": \"Casos confirmados diarios\", \"Promedio m\\u00f3vil \\u00faltimos 7 d\\u00edas\": \"Promedio m\\u00f3vil \\u00faltimos 7 d\\u00edas\"}, {\"Fecha\": \"2020-05-09\", \"Casos confirmados\": 0, \"Rolling\": 0.14285714285714285, \"Casos confirmados diarios\": \"Casos confirmados diarios\", \"Promedio m\\u00f3vil \\u00faltimos 7 d\\u00edas\": \"Promedio m\\u00f3vil \\u00faltimos 7 d\\u00edas\"}, {\"Fecha\": \"2020-05-10\", \"Casos confirmados\": 0, \"Rolling\": 0.14285714285714285, \"Casos confirmados diarios\": \"Casos confirmados diarios\", \"Promedio m\\u00f3vil \\u00faltimos 7 d\\u00edas\": \"Promedio m\\u00f3vil \\u00faltimos 7 d\\u00edas\"}, {\"Fecha\": \"2020-05-11\", \"Casos confirmados\": 0, \"Rolling\": 0.14285714285714285, \"Casos confirmados diarios\": \"Casos confirmados diarios\", \"Promedio m\\u00f3vil \\u00faltimos 7 d\\u00edas\": \"Promedio m\\u00f3vil \\u00faltimos 7 d\\u00edas\"}, {\"Fecha\": \"2020-05-12\", \"Casos confirmados\": 0, \"Rolling\": 0.14285714285714285, \"Casos confirmados diarios\": \"Casos confirmados diarios\", \"Promedio m\\u00f3vil \\u00faltimos 7 d\\u00edas\": \"Promedio m\\u00f3vil \\u00faltimos 7 d\\u00edas\"}, {\"Fecha\": \"2020-05-13\", \"Casos confirmados\": 0, \"Rolling\": 0.14285714285714285, \"Casos confirmados diarios\": \"Casos confirmados diarios\", \"Promedio m\\u00f3vil \\u00faltimos 7 d\\u00edas\": \"Promedio m\\u00f3vil \\u00faltimos 7 d\\u00edas\"}]}}, {\"mode\": \"vega-lite\"});\n",
       "</script>"
      ],
      "text/plain": [
       "alt.LayerChart(...)"
      ]
     },
     "execution_count": 37,
     "metadata": {},
     "output_type": "execute_result"
    }
   ],
   "source": [
    "#hide_input\n",
    "bars, line = my_cases_plot(region)\n",
    "(bars + line).properties(\n",
    "    title=f'Covid-19 en Chile: Casos confirmados diarios en {region}',\n",
    "    width=600\n",
    ")"
   ]
  },
  {
   "cell_type": "markdown",
   "metadata": {},
   "source": [
    "## Magallanes"
   ]
  },
  {
   "cell_type": "code",
   "execution_count": 38,
   "metadata": {
    "scrolled": true
   },
   "outputs": [],
   "source": [
    "#hide\n",
    "region = \"Magallanes\""
   ]
  },
  {
   "cell_type": "code",
   "execution_count": 39,
   "metadata": {},
   "outputs": [
    {
     "data": {
      "text/html": [
       "\n",
       "<div id=\"altair-viz-52795d833142432886a8bbe6b857f5f3\"></div>\n",
       "<script type=\"text/javascript\">\n",
       "  (function(spec, embedOpt){\n",
       "    let outputDiv = document.currentScript.previousElementSibling;\n",
       "    if (outputDiv.id !== \"altair-viz-52795d833142432886a8bbe6b857f5f3\") {\n",
       "      outputDiv = document.getElementById(\"altair-viz-52795d833142432886a8bbe6b857f5f3\");\n",
       "    }\n",
       "    const paths = {\n",
       "      \"vega\": \"https://cdn.jsdelivr.net/npm//vega@5?noext\",\n",
       "      \"vega-lib\": \"https://cdn.jsdelivr.net/npm//vega-lib?noext\",\n",
       "      \"vega-lite\": \"https://cdn.jsdelivr.net/npm//vega-lite@4.8.1?noext\",\n",
       "      \"vega-embed\": \"https://cdn.jsdelivr.net/npm//vega-embed@6?noext\",\n",
       "    };\n",
       "\n",
       "    function loadScript(lib) {\n",
       "      return new Promise(function(resolve, reject) {\n",
       "        var s = document.createElement('script');\n",
       "        s.src = paths[lib];\n",
       "        s.async = true;\n",
       "        s.onload = () => resolve(paths[lib]);\n",
       "        s.onerror = () => reject(`Error loading script: ${paths[lib]}`);\n",
       "        document.getElementsByTagName(\"head\")[0].appendChild(s);\n",
       "      });\n",
       "    }\n",
       "\n",
       "    function showError(err) {\n",
       "      outputDiv.innerHTML = `<div class=\"error\" style=\"color:red;\">${err}</div>`;\n",
       "      throw err;\n",
       "    }\n",
       "\n",
       "    function displayChart(vegaEmbed) {\n",
       "      vegaEmbed(outputDiv, spec, embedOpt)\n",
       "        .catch(err => showError(`Javascript Error: ${err.message}<br>This usually means there's a typo in your chart specification. See the javascript console for the full traceback.`));\n",
       "    }\n",
       "\n",
       "    if(typeof define === \"function\" && define.amd) {\n",
       "      requirejs.config({paths});\n",
       "      require([\"vega-embed\"], displayChart, err => showError(`Error loading script: ${err.message}`));\n",
       "    } else if (typeof vegaEmbed === \"function\") {\n",
       "      displayChart(vegaEmbed);\n",
       "    } else {\n",
       "      loadScript(\"vega\")\n",
       "        .then(() => loadScript(\"vega-lite\"))\n",
       "        .then(() => loadScript(\"vega-embed\"))\n",
       "        .catch(showError)\n",
       "        .then(() => displayChart(vegaEmbed));\n",
       "    }\n",
       "  })({\"config\": {\"view\": {\"continuousWidth\": 400, \"continuousHeight\": 300}}, \"layer\": [{\"mark\": {\"type\": \"bar\", \"opacity\": 0.7}, \"encoding\": {\"opacity\": {\"type\": \"nominal\", \"field\": \"Casos confirmados diarios\", \"legend\": {\"title\": \"\"}}, \"tooltip\": [{\"type\": \"nominal\", \"field\": \"Fecha\"}, {\"type\": \"quantitative\", \"field\": \"Casos confirmados\"}], \"x\": {\"type\": \"nominal\", \"axis\": {\"title\": \"Fecha (a\\u00f1o-mes-d\\u00eda)\"}, \"field\": \"Fecha\"}, \"y\": {\"type\": \"quantitative\", \"axis\": {\"title\": \"Casos confirmados diarios\"}, \"field\": \"Casos confirmados\"}}}, {\"mark\": {\"type\": \"line\", \"color\": \"#1f77b4\", \"point\": {\"filled\": true, \"fill\": \"#1f77b4\"}}, \"encoding\": {\"shape\": {\"type\": \"nominal\", \"field\": \"Promedio m\\u00f3vil \\u00faltimos 7 d\\u00edas\", \"legend\": {\"title\": \"\"}}, \"x\": {\"type\": \"nominal\", \"axis\": {\"title\": \"Fecha (a\\u00f1o-mes-d\\u00eda)\"}, \"field\": \"Fecha\"}, \"y\": {\"type\": \"quantitative\", \"field\": \"Rolling\"}}}], \"data\": {\"name\": \"data-82366650aea0900642ac1aa1bacece84\"}, \"title\": \"Covid-19 en Chile: Casos confirmados diarios en Magallanes\", \"width\": 600, \"$schema\": \"https://vega.github.io/schema/vega-lite/v4.8.1.json\", \"datasets\": {\"data-82366650aea0900642ac1aa1bacece84\": [{\"Fecha\": \"2020-03-04\", \"Casos confirmados\": 0, \"Rolling\": null, \"Casos confirmados diarios\": \"Casos confirmados diarios\", \"Promedio m\\u00f3vil \\u00faltimos 7 d\\u00edas\": \"Promedio m\\u00f3vil \\u00faltimos 7 d\\u00edas\"}, {\"Fecha\": \"2020-03-05\", \"Casos confirmados\": 0, \"Rolling\": null, \"Casos confirmados diarios\": \"Casos confirmados diarios\", \"Promedio m\\u00f3vil \\u00faltimos 7 d\\u00edas\": \"Promedio m\\u00f3vil \\u00faltimos 7 d\\u00edas\"}, {\"Fecha\": \"2020-03-06\", \"Casos confirmados\": 0, \"Rolling\": null, \"Casos confirmados diarios\": \"Casos confirmados diarios\", \"Promedio m\\u00f3vil \\u00faltimos 7 d\\u00edas\": \"Promedio m\\u00f3vil \\u00faltimos 7 d\\u00edas\"}, {\"Fecha\": \"2020-03-07\", \"Casos confirmados\": 0, \"Rolling\": null, \"Casos confirmados diarios\": \"Casos confirmados diarios\", \"Promedio m\\u00f3vil \\u00faltimos 7 d\\u00edas\": \"Promedio m\\u00f3vil \\u00faltimos 7 d\\u00edas\"}, {\"Fecha\": \"2020-03-08\", \"Casos confirmados\": 0, \"Rolling\": null, \"Casos confirmados diarios\": \"Casos confirmados diarios\", \"Promedio m\\u00f3vil \\u00faltimos 7 d\\u00edas\": \"Promedio m\\u00f3vil \\u00faltimos 7 d\\u00edas\"}, {\"Fecha\": \"2020-03-09\", \"Casos confirmados\": 0, \"Rolling\": null, \"Casos confirmados diarios\": \"Casos confirmados diarios\", \"Promedio m\\u00f3vil \\u00faltimos 7 d\\u00edas\": \"Promedio m\\u00f3vil \\u00faltimos 7 d\\u00edas\"}, {\"Fecha\": \"2020-03-10\", \"Casos confirmados\": 0, \"Rolling\": 0.0, \"Casos confirmados diarios\": \"Casos confirmados diarios\", \"Promedio m\\u00f3vil \\u00faltimos 7 d\\u00edas\": \"Promedio m\\u00f3vil \\u00faltimos 7 d\\u00edas\"}, {\"Fecha\": \"2020-03-11\", \"Casos confirmados\": 0, \"Rolling\": 0.0, \"Casos confirmados diarios\": \"Casos confirmados diarios\", \"Promedio m\\u00f3vil \\u00faltimos 7 d\\u00edas\": \"Promedio m\\u00f3vil \\u00faltimos 7 d\\u00edas\"}, {\"Fecha\": \"2020-03-12\", \"Casos confirmados\": 0, \"Rolling\": 0.0, \"Casos confirmados diarios\": \"Casos confirmados diarios\", \"Promedio m\\u00f3vil \\u00faltimos 7 d\\u00edas\": \"Promedio m\\u00f3vil \\u00faltimos 7 d\\u00edas\"}, {\"Fecha\": \"2020-03-13\", \"Casos confirmados\": 0, \"Rolling\": 0.0, \"Casos confirmados diarios\": \"Casos confirmados diarios\", \"Promedio m\\u00f3vil \\u00faltimos 7 d\\u00edas\": \"Promedio m\\u00f3vil \\u00faltimos 7 d\\u00edas\"}, {\"Fecha\": \"2020-03-14\", \"Casos confirmados\": 0, \"Rolling\": 0.0, \"Casos confirmados diarios\": \"Casos confirmados diarios\", \"Promedio m\\u00f3vil \\u00faltimos 7 d\\u00edas\": \"Promedio m\\u00f3vil \\u00faltimos 7 d\\u00edas\"}, {\"Fecha\": \"2020-03-15\", \"Casos confirmados\": 0, \"Rolling\": 0.0, \"Casos confirmados diarios\": \"Casos confirmados diarios\", \"Promedio m\\u00f3vil \\u00faltimos 7 d\\u00edas\": \"Promedio m\\u00f3vil \\u00faltimos 7 d\\u00edas\"}, {\"Fecha\": \"2020-03-16\", \"Casos confirmados\": 0, \"Rolling\": 0.0, \"Casos confirmados diarios\": \"Casos confirmados diarios\", \"Promedio m\\u00f3vil \\u00faltimos 7 d\\u00edas\": \"Promedio m\\u00f3vil \\u00faltimos 7 d\\u00edas\"}, {\"Fecha\": \"2020-03-17\", \"Casos confirmados\": 2, \"Rolling\": 0.2857142857142857, \"Casos confirmados diarios\": \"Casos confirmados diarios\", \"Promedio m\\u00f3vil \\u00faltimos 7 d\\u00edas\": \"Promedio m\\u00f3vil \\u00faltimos 7 d\\u00edas\"}, {\"Fecha\": \"2020-03-18\", \"Casos confirmados\": 0, \"Rolling\": 0.2857142857142857, \"Casos confirmados diarios\": \"Casos confirmados diarios\", \"Promedio m\\u00f3vil \\u00faltimos 7 d\\u00edas\": \"Promedio m\\u00f3vil \\u00faltimos 7 d\\u00edas\"}, {\"Fecha\": \"2020-03-19\", \"Casos confirmados\": 0, \"Rolling\": 0.2857142857142857, \"Casos confirmados diarios\": \"Casos confirmados diarios\", \"Promedio m\\u00f3vil \\u00faltimos 7 d\\u00edas\": \"Promedio m\\u00f3vil \\u00faltimos 7 d\\u00edas\"}, {\"Fecha\": \"2020-03-20\", \"Casos confirmados\": 0, \"Rolling\": 0.2857142857142857, \"Casos confirmados diarios\": \"Casos confirmados diarios\", \"Promedio m\\u00f3vil \\u00faltimos 7 d\\u00edas\": \"Promedio m\\u00f3vil \\u00faltimos 7 d\\u00edas\"}, {\"Fecha\": \"2020-03-21\", \"Casos confirmados\": 1, \"Rolling\": 0.42857142857142855, \"Casos confirmados diarios\": \"Casos confirmados diarios\", \"Promedio m\\u00f3vil \\u00faltimos 7 d\\u00edas\": \"Promedio m\\u00f3vil \\u00faltimos 7 d\\u00edas\"}, {\"Fecha\": \"2020-03-22\", \"Casos confirmados\": 1, \"Rolling\": 0.5714285714285714, \"Casos confirmados diarios\": \"Casos confirmados diarios\", \"Promedio m\\u00f3vil \\u00faltimos 7 d\\u00edas\": \"Promedio m\\u00f3vil \\u00faltimos 7 d\\u00edas\"}, {\"Fecha\": \"2020-03-23\", \"Casos confirmados\": 2, \"Rolling\": 0.8571428571428571, \"Casos confirmados diarios\": \"Casos confirmados diarios\", \"Promedio m\\u00f3vil \\u00faltimos 7 d\\u00edas\": \"Promedio m\\u00f3vil \\u00faltimos 7 d\\u00edas\"}, {\"Fecha\": \"2020-03-24\", \"Casos confirmados\": 2, \"Rolling\": 0.8571428571428571, \"Casos confirmados diarios\": \"Casos confirmados diarios\", \"Promedio m\\u00f3vil \\u00faltimos 7 d\\u00edas\": \"Promedio m\\u00f3vil \\u00faltimos 7 d\\u00edas\"}, {\"Fecha\": \"2020-03-25\", \"Casos confirmados\": 5, \"Rolling\": 1.5714285714285714, \"Casos confirmados diarios\": \"Casos confirmados diarios\", \"Promedio m\\u00f3vil \\u00faltimos 7 d\\u00edas\": \"Promedio m\\u00f3vil \\u00faltimos 7 d\\u00edas\"}, {\"Fecha\": \"2020-03-26\", \"Casos confirmados\": 6, \"Rolling\": 2.4285714285714284, \"Casos confirmados diarios\": \"Casos confirmados diarios\", \"Promedio m\\u00f3vil \\u00faltimos 7 d\\u00edas\": \"Promedio m\\u00f3vil \\u00faltimos 7 d\\u00edas\"}, {\"Fecha\": \"2020-03-27\", \"Casos confirmados\": 3, \"Rolling\": 2.857142857142857, \"Casos confirmados diarios\": \"Casos confirmados diarios\", \"Promedio m\\u00f3vil \\u00faltimos 7 d\\u00edas\": \"Promedio m\\u00f3vil \\u00faltimos 7 d\\u00edas\"}, {\"Fecha\": \"2020-03-28\", \"Casos confirmados\": 4, \"Rolling\": 3.2857142857142856, \"Casos confirmados diarios\": \"Casos confirmados diarios\", \"Promedio m\\u00f3vil \\u00faltimos 7 d\\u00edas\": \"Promedio m\\u00f3vil \\u00faltimos 7 d\\u00edas\"}, {\"Fecha\": \"2020-03-29\", \"Casos confirmados\": 13, \"Rolling\": 5.0, \"Casos confirmados diarios\": \"Casos confirmados diarios\", \"Promedio m\\u00f3vil \\u00faltimos 7 d\\u00edas\": \"Promedio m\\u00f3vil \\u00faltimos 7 d\\u00edas\"}, {\"Fecha\": \"2020-03-30\", \"Casos confirmados\": 0, \"Rolling\": 4.714285714285714, \"Casos confirmados diarios\": \"Casos confirmados diarios\", \"Promedio m\\u00f3vil \\u00faltimos 7 d\\u00edas\": \"Promedio m\\u00f3vil \\u00faltimos 7 d\\u00edas\"}, {\"Fecha\": \"2020-03-31\", \"Casos confirmados\": 24, \"Rolling\": 7.857142857142857, \"Casos confirmados diarios\": \"Casos confirmados diarios\", \"Promedio m\\u00f3vil \\u00faltimos 7 d\\u00edas\": \"Promedio m\\u00f3vil \\u00faltimos 7 d\\u00edas\"}, {\"Fecha\": \"2020-04-01\", \"Casos confirmados\": 36, \"Rolling\": 12.285714285714286, \"Casos confirmados diarios\": \"Casos confirmados diarios\", \"Promedio m\\u00f3vil \\u00faltimos 7 d\\u00edas\": \"Promedio m\\u00f3vil \\u00faltimos 7 d\\u00edas\"}, {\"Fecha\": \"2020-04-02\", \"Casos confirmados\": 15, \"Rolling\": 13.571428571428571, \"Casos confirmados diarios\": \"Casos confirmados diarios\", \"Promedio m\\u00f3vil \\u00faltimos 7 d\\u00edas\": \"Promedio m\\u00f3vil \\u00faltimos 7 d\\u00edas\"}, {\"Fecha\": \"2020-04-03\", \"Casos confirmados\": 42, \"Rolling\": 19.142857142857142, \"Casos confirmados diarios\": \"Casos confirmados diarios\", \"Promedio m\\u00f3vil \\u00faltimos 7 d\\u00edas\": \"Promedio m\\u00f3vil \\u00faltimos 7 d\\u00edas\"}, {\"Fecha\": \"2020-04-04\", \"Casos confirmados\": 16, \"Rolling\": 20.857142857142858, \"Casos confirmados diarios\": \"Casos confirmados diarios\", \"Promedio m\\u00f3vil \\u00faltimos 7 d\\u00edas\": \"Promedio m\\u00f3vil \\u00faltimos 7 d\\u00edas\"}, {\"Fecha\": \"2020-04-05\", \"Casos confirmados\": 18, \"Rolling\": 21.571428571428573, \"Casos confirmados diarios\": \"Casos confirmados diarios\", \"Promedio m\\u00f3vil \\u00faltimos 7 d\\u00edas\": \"Promedio m\\u00f3vil \\u00faltimos 7 d\\u00edas\"}, {\"Fecha\": \"2020-04-06\", \"Casos confirmados\": 31, \"Rolling\": 26.0, \"Casos confirmados diarios\": \"Casos confirmados diarios\", \"Promedio m\\u00f3vil \\u00faltimos 7 d\\u00edas\": \"Promedio m\\u00f3vil \\u00faltimos 7 d\\u00edas\"}, {\"Fecha\": \"2020-04-07\", \"Casos confirmados\": 19, \"Rolling\": 25.285714285714285, \"Casos confirmados diarios\": \"Casos confirmados diarios\", \"Promedio m\\u00f3vil \\u00faltimos 7 d\\u00edas\": \"Promedio m\\u00f3vil \\u00faltimos 7 d\\u00edas\"}, {\"Fecha\": \"2020-04-08\", \"Casos confirmados\": 26, \"Rolling\": 23.857142857142858, \"Casos confirmados diarios\": \"Casos confirmados diarios\", \"Promedio m\\u00f3vil \\u00faltimos 7 d\\u00edas\": \"Promedio m\\u00f3vil \\u00faltimos 7 d\\u00edas\"}, {\"Fecha\": \"2020-04-09\", \"Casos confirmados\": 20, \"Rolling\": 24.571428571428573, \"Casos confirmados diarios\": \"Casos confirmados diarios\", \"Promedio m\\u00f3vil \\u00faltimos 7 d\\u00edas\": \"Promedio m\\u00f3vil \\u00faltimos 7 d\\u00edas\"}, {\"Fecha\": \"2020-04-10\", \"Casos confirmados\": 45, \"Rolling\": 25.0, \"Casos confirmados diarios\": \"Casos confirmados diarios\", \"Promedio m\\u00f3vil \\u00faltimos 7 d\\u00edas\": \"Promedio m\\u00f3vil \\u00faltimos 7 d\\u00edas\"}, {\"Fecha\": \"2020-04-11\", \"Casos confirmados\": 46, \"Rolling\": 29.285714285714285, \"Casos confirmados diarios\": \"Casos confirmados diarios\", \"Promedio m\\u00f3vil \\u00faltimos 7 d\\u00edas\": \"Promedio m\\u00f3vil \\u00faltimos 7 d\\u00edas\"}, {\"Fecha\": \"2020-04-12\", \"Casos confirmados\": 19, \"Rolling\": 29.428571428571427, \"Casos confirmados diarios\": \"Casos confirmados diarios\", \"Promedio m\\u00f3vil \\u00faltimos 7 d\\u00edas\": \"Promedio m\\u00f3vil \\u00faltimos 7 d\\u00edas\"}, {\"Fecha\": \"2020-04-13\", \"Casos confirmados\": 19, \"Rolling\": 27.714285714285715, \"Casos confirmados diarios\": \"Casos confirmados diarios\", \"Promedio m\\u00f3vil \\u00faltimos 7 d\\u00edas\": \"Promedio m\\u00f3vil \\u00faltimos 7 d\\u00edas\"}, {\"Fecha\": \"2020-04-14\", \"Casos confirmados\": 14, \"Rolling\": 27.0, \"Casos confirmados diarios\": \"Casos confirmados diarios\", \"Promedio m\\u00f3vil \\u00faltimos 7 d\\u00edas\": \"Promedio m\\u00f3vil \\u00faltimos 7 d\\u00edas\"}, {\"Fecha\": \"2020-04-15\", \"Casos confirmados\": 15, \"Rolling\": 25.428571428571427, \"Casos confirmados diarios\": \"Casos confirmados diarios\", \"Promedio m\\u00f3vil \\u00faltimos 7 d\\u00edas\": \"Promedio m\\u00f3vil \\u00faltimos 7 d\\u00edas\"}, {\"Fecha\": \"2020-04-16\", \"Casos confirmados\": 23, \"Rolling\": 25.857142857142858, \"Casos confirmados diarios\": \"Casos confirmados diarios\", \"Promedio m\\u00f3vil \\u00faltimos 7 d\\u00edas\": \"Promedio m\\u00f3vil \\u00faltimos 7 d\\u00edas\"}, {\"Fecha\": \"2020-04-17\", \"Casos confirmados\": 34, \"Rolling\": 24.285714285714285, \"Casos confirmados diarios\": \"Casos confirmados diarios\", \"Promedio m\\u00f3vil \\u00faltimos 7 d\\u00edas\": \"Promedio m\\u00f3vil \\u00faltimos 7 d\\u00edas\"}, {\"Fecha\": \"2020-04-18\", \"Casos confirmados\": 21, \"Rolling\": 20.714285714285715, \"Casos confirmados diarios\": \"Casos confirmados diarios\", \"Promedio m\\u00f3vil \\u00faltimos 7 d\\u00edas\": \"Promedio m\\u00f3vil \\u00faltimos 7 d\\u00edas\"}, {\"Fecha\": \"2020-04-19\", \"Casos confirmados\": 31, \"Rolling\": 22.428571428571427, \"Casos confirmados diarios\": \"Casos confirmados diarios\", \"Promedio m\\u00f3vil \\u00faltimos 7 d\\u00edas\": \"Promedio m\\u00f3vil \\u00faltimos 7 d\\u00edas\"}, {\"Fecha\": \"2020-04-20\", \"Casos confirmados\": 13, \"Rolling\": 21.571428571428573, \"Casos confirmados diarios\": \"Casos confirmados diarios\", \"Promedio m\\u00f3vil \\u00faltimos 7 d\\u00edas\": \"Promedio m\\u00f3vil \\u00faltimos 7 d\\u00edas\"}, {\"Fecha\": \"2020-04-21\", \"Casos confirmados\": 27, \"Rolling\": 23.428571428571427, \"Casos confirmados diarios\": \"Casos confirmados diarios\", \"Promedio m\\u00f3vil \\u00faltimos 7 d\\u00edas\": \"Promedio m\\u00f3vil \\u00faltimos 7 d\\u00edas\"}, {\"Fecha\": \"2020-04-22\", \"Casos confirmados\": 12, \"Rolling\": 23.0, \"Casos confirmados diarios\": \"Casos confirmados diarios\", \"Promedio m\\u00f3vil \\u00faltimos 7 d\\u00edas\": \"Promedio m\\u00f3vil \\u00faltimos 7 d\\u00edas\"}, {\"Fecha\": \"2020-04-23\", \"Casos confirmados\": 10, \"Rolling\": 21.142857142857142, \"Casos confirmados diarios\": \"Casos confirmados diarios\", \"Promedio m\\u00f3vil \\u00faltimos 7 d\\u00edas\": \"Promedio m\\u00f3vil \\u00faltimos 7 d\\u00edas\"}, {\"Fecha\": \"2020-04-24\", \"Casos confirmados\": 9, \"Rolling\": 17.571428571428573, \"Casos confirmados diarios\": \"Casos confirmados diarios\", \"Promedio m\\u00f3vil \\u00faltimos 7 d\\u00edas\": \"Promedio m\\u00f3vil \\u00faltimos 7 d\\u00edas\"}, {\"Fecha\": \"2020-04-25\", \"Casos confirmados\": 31, \"Rolling\": 19.0, \"Casos confirmados diarios\": \"Casos confirmados diarios\", \"Promedio m\\u00f3vil \\u00faltimos 7 d\\u00edas\": \"Promedio m\\u00f3vil \\u00faltimos 7 d\\u00edas\"}, {\"Fecha\": \"2020-04-26\", \"Casos confirmados\": 13, \"Rolling\": 16.428571428571427, \"Casos confirmados diarios\": \"Casos confirmados diarios\", \"Promedio m\\u00f3vil \\u00faltimos 7 d\\u00edas\": \"Promedio m\\u00f3vil \\u00faltimos 7 d\\u00edas\"}, {\"Fecha\": \"2020-04-27\", \"Casos confirmados\": 3, \"Rolling\": 15.0, \"Casos confirmados diarios\": \"Casos confirmados diarios\", \"Promedio m\\u00f3vil \\u00faltimos 7 d\\u00edas\": \"Promedio m\\u00f3vil \\u00faltimos 7 d\\u00edas\"}, {\"Fecha\": \"2020-04-28\", \"Casos confirmados\": 22, \"Rolling\": 14.285714285714286, \"Casos confirmados diarios\": \"Casos confirmados diarios\", \"Promedio m\\u00f3vil \\u00faltimos 7 d\\u00edas\": \"Promedio m\\u00f3vil \\u00faltimos 7 d\\u00edas\"}, {\"Fecha\": \"2020-04-29\", \"Casos confirmados\": 21, \"Rolling\": 15.571428571428571, \"Casos confirmados diarios\": \"Casos confirmados diarios\", \"Promedio m\\u00f3vil \\u00faltimos 7 d\\u00edas\": \"Promedio m\\u00f3vil \\u00faltimos 7 d\\u00edas\"}, {\"Fecha\": \"2020-04-30\", \"Casos confirmados\": 11, \"Rolling\": 15.714285714285714, \"Casos confirmados diarios\": \"Casos confirmados diarios\", \"Promedio m\\u00f3vil \\u00faltimos 7 d\\u00edas\": \"Promedio m\\u00f3vil \\u00faltimos 7 d\\u00edas\"}, {\"Fecha\": \"2020-05-01\", \"Casos confirmados\": 1, \"Rolling\": 14.571428571428571, \"Casos confirmados diarios\": \"Casos confirmados diarios\", \"Promedio m\\u00f3vil \\u00faltimos 7 d\\u00edas\": \"Promedio m\\u00f3vil \\u00faltimos 7 d\\u00edas\"}, {\"Fecha\": \"2020-05-02\", \"Casos confirmados\": 26, \"Rolling\": 13.857142857142858, \"Casos confirmados diarios\": \"Casos confirmados diarios\", \"Promedio m\\u00f3vil \\u00faltimos 7 d\\u00edas\": \"Promedio m\\u00f3vil \\u00faltimos 7 d\\u00edas\"}, {\"Fecha\": \"2020-05-03\", \"Casos confirmados\": 25, \"Rolling\": 15.571428571428571, \"Casos confirmados diarios\": \"Casos confirmados diarios\", \"Promedio m\\u00f3vil \\u00faltimos 7 d\\u00edas\": \"Promedio m\\u00f3vil \\u00faltimos 7 d\\u00edas\"}, {\"Fecha\": \"2020-05-04\", \"Casos confirmados\": 18, \"Rolling\": 17.714285714285715, \"Casos confirmados diarios\": \"Casos confirmados diarios\", \"Promedio m\\u00f3vil \\u00faltimos 7 d\\u00edas\": \"Promedio m\\u00f3vil \\u00faltimos 7 d\\u00edas\"}, {\"Fecha\": \"2020-05-05\", \"Casos confirmados\": 14, \"Rolling\": 16.571428571428573, \"Casos confirmados diarios\": \"Casos confirmados diarios\", \"Promedio m\\u00f3vil \\u00faltimos 7 d\\u00edas\": \"Promedio m\\u00f3vil \\u00faltimos 7 d\\u00edas\"}, {\"Fecha\": \"2020-05-06\", \"Casos confirmados\": 9, \"Rolling\": 14.857142857142858, \"Casos confirmados diarios\": \"Casos confirmados diarios\", \"Promedio m\\u00f3vil \\u00faltimos 7 d\\u00edas\": \"Promedio m\\u00f3vil \\u00faltimos 7 d\\u00edas\"}, {\"Fecha\": \"2020-05-07\", \"Casos confirmados\": 18, \"Rolling\": 15.857142857142858, \"Casos confirmados diarios\": \"Casos confirmados diarios\", \"Promedio m\\u00f3vil \\u00faltimos 7 d\\u00edas\": \"Promedio m\\u00f3vil \\u00faltimos 7 d\\u00edas\"}, {\"Fecha\": \"2020-05-08\", \"Casos confirmados\": 31, \"Rolling\": 20.142857142857142, \"Casos confirmados diarios\": \"Casos confirmados diarios\", \"Promedio m\\u00f3vil \\u00faltimos 7 d\\u00edas\": \"Promedio m\\u00f3vil \\u00faltimos 7 d\\u00edas\"}, {\"Fecha\": \"2020-05-09\", \"Casos confirmados\": 14, \"Rolling\": 18.428571428571427, \"Casos confirmados diarios\": \"Casos confirmados diarios\", \"Promedio m\\u00f3vil \\u00faltimos 7 d\\u00edas\": \"Promedio m\\u00f3vil \\u00faltimos 7 d\\u00edas\"}, {\"Fecha\": \"2020-05-10\", \"Casos confirmados\": 12, \"Rolling\": 16.571428571428573, \"Casos confirmados diarios\": \"Casos confirmados diarios\", \"Promedio m\\u00f3vil \\u00faltimos 7 d\\u00edas\": \"Promedio m\\u00f3vil \\u00faltimos 7 d\\u00edas\"}, {\"Fecha\": \"2020-05-11\", \"Casos confirmados\": 8, \"Rolling\": 15.142857142857142, \"Casos confirmados diarios\": \"Casos confirmados diarios\", \"Promedio m\\u00f3vil \\u00faltimos 7 d\\u00edas\": \"Promedio m\\u00f3vil \\u00faltimos 7 d\\u00edas\"}, {\"Fecha\": \"2020-05-12\", \"Casos confirmados\": 9, \"Rolling\": 14.428571428571429, \"Casos confirmados diarios\": \"Casos confirmados diarios\", \"Promedio m\\u00f3vil \\u00faltimos 7 d\\u00edas\": \"Promedio m\\u00f3vil \\u00faltimos 7 d\\u00edas\"}, {\"Fecha\": \"2020-05-13\", \"Casos confirmados\": 11, \"Rolling\": 14.714285714285714, \"Casos confirmados diarios\": \"Casos confirmados diarios\", \"Promedio m\\u00f3vil \\u00faltimos 7 d\\u00edas\": \"Promedio m\\u00f3vil \\u00faltimos 7 d\\u00edas\"}]}}, {\"mode\": \"vega-lite\"});\n",
       "</script>"
      ],
      "text/plain": [
       "alt.LayerChart(...)"
      ]
     },
     "execution_count": 39,
     "metadata": {},
     "output_type": "execute_result"
    }
   ],
   "source": [
    "#hide_input\n",
    "bars, line = my_cases_plot(region)\n",
    "(bars + line).properties(\n",
    "    title=f'Covid-19 en Chile: Casos confirmados diarios en {region}',\n",
    "    width=600\n",
    ")"
   ]
  },
  {
   "cell_type": "markdown",
   "metadata": {},
   "source": [
    "# Fallecimientos confirmados diarios"
   ]
  },
  {
   "cell_type": "code",
   "execution_count": 40,
   "metadata": {},
   "outputs": [
    {
     "data": {
      "text/plain": [
       "'2020-05-13'"
      ]
     },
     "execution_count": 40,
     "metadata": {},
     "output_type": "execute_result"
    }
   ],
   "source": [
    "#hide\n",
    "update_date = pd.to_datetime('today') - pd.offsets.Hour(19)\n",
    "today = update_date.strftime('%Y-%m-%d')\n",
    "today"
   ]
  },
  {
   "cell_type": "code",
   "execution_count": 41,
   "metadata": {},
   "outputs": [],
   "source": [
    "#hide\n",
    "data = pd.DataFrame()\n",
    "data_raw = pd.read_csv(\n",
    "    \"https://raw.githubusercontent.com/MinCiencia/Datos-COVID19/master/output/producto4/2020-03-24-CasosConfirmados-totalRegional.csv\",\n",
    "    index_col='Region')\n",
    "data['2020-03-24'] = data_raw['Fallecidos']"
   ]
  },
  {
   "cell_type": "code",
   "execution_count": 42,
   "metadata": {},
   "outputs": [],
   "source": [
    "#hide\n",
    "first_death_date = '2020-03-24'\n",
    "total_days = (pd.to_datetime(today)-pd.to_datetime(first_death_date)).days"
   ]
  },
  {
   "cell_type": "code",
   "execution_count": 43,
   "metadata": {},
   "outputs": [],
   "source": [
    "#hide\n",
    "for i in np.arange(total_days+1):\n",
    "  date = (pd.to_datetime(first_death_date)+pd.DateOffset(i)).strftime('%Y-%m-%d')\n",
    "  s = \"https://raw.githubusercontent.com/MinCiencia/Datos-COVID19/master/output/producto4/\" + date + \"-CasosConfirmados-totalRegional.csv\"\n",
    "  data_by_date = pd.read_csv(s)\n",
    "  if 'Fallecidos' in data_by_date.columns:\n",
    "    data[date] = data_by_date[\"Fallecidos\"].values\n",
    "  elif 'Casos fallecidos' in data_by_date.columns:\n",
    "    data[date] = data_by_date[\"Casos fallecidos\"].values\n",
    "  else:\n",
    "    data[date] = data_by_date[\" Casos fallecidos\"].values"
   ]
  },
  {
   "cell_type": "code",
   "execution_count": 44,
   "metadata": {},
   "outputs": [],
   "source": [
    "#hide\n",
    "WS_deaths = 7"
   ]
  },
  {
   "cell_type": "code",
   "execution_count": 45,
   "metadata": {},
   "outputs": [],
   "source": [
    "#hide\n",
    "def my_deaths_plot(region):\n",
    "    aux1 = data.loc[region]\n",
    "    aux2 = [t - s for s, t in zip(aux1, aux1.loc['2020-03-25':])]\n",
    "    new_deaths = pd.DataFrame()\n",
    "    new_deaths[\"Dates\"] = data.loc[\"Total\"].reset_index()[\"index\"].iloc[1:].values\n",
    "    new_deaths[\"New_deaths\"] = aux2\n",
    "    new_deaths[\"Rolling\"] = new_deaths[\"New_deaths\"].rolling(window=WS_deaths).mean()\n",
    "    new_deaths[\"Fallecimientos confirmados diarios\"] = len(new_deaths) * [\"Fallecimientos confirmados diarios\"]\n",
    "    new_deaths[\"Promedio móvil últimos 7 días\"] = len(new_deaths) * [\"Promedio móvil últimos 7 días\"]\n",
    "    bars = alt.Chart(new_deaths).mark_bar(opacity=0.7, color='firebrick').encode(\n",
    "        x = alt.X('Dates:N', axis=alt.Axis(title='Fecha (año-mes-día)')),\n",
    "        y = alt.Y('New_deaths:Q', axis=alt.Axis(title='Fallecimientos confirmados diarios')),\n",
    "        tooltip = ['Dates', 'New_deaths'],\n",
    "        opacity=alt.Opacity('Fallecimientos confirmados diarios', legend=alt.Legend(title=\"\"))\n",
    "    )\n",
    "\n",
    "    line = alt.Chart(new_deaths).mark_line(point={\n",
    "          \"filled\": True,\n",
    "          \"fill\": \"firebrick\"\n",
    "        }, color='firebrick').encode(\n",
    "        x=alt.X('Dates:N', axis=alt.Axis(title='Fecha (año-mes-día)')),\n",
    "        y = alt.Y('Rolling:Q'),\n",
    "        shape=alt.Shape('Promedio móvil últimos 7 días', legend=alt.Legend(title=\"\"))\n",
    "    )\n",
    "    return bars, line"
   ]
  },
  {
   "cell_type": "markdown",
   "metadata": {},
   "source": [
    "## Chile"
   ]
  },
  {
   "cell_type": "code",
   "execution_count": 46,
   "metadata": {},
   "outputs": [],
   "source": [
    "#hide\n",
    "region = \"Total\""
   ]
  },
  {
   "cell_type": "code",
   "execution_count": 47,
   "metadata": {},
   "outputs": [
    {
     "data": {
      "text/html": [
       "\n",
       "<div id=\"altair-viz-739cf0c66b8f4fd5a4e9cc2b0e14ed50\"></div>\n",
       "<script type=\"text/javascript\">\n",
       "  (function(spec, embedOpt){\n",
       "    let outputDiv = document.currentScript.previousElementSibling;\n",
       "    if (outputDiv.id !== \"altair-viz-739cf0c66b8f4fd5a4e9cc2b0e14ed50\") {\n",
       "      outputDiv = document.getElementById(\"altair-viz-739cf0c66b8f4fd5a4e9cc2b0e14ed50\");\n",
       "    }\n",
       "    const paths = {\n",
       "      \"vega\": \"https://cdn.jsdelivr.net/npm//vega@5?noext\",\n",
       "      \"vega-lib\": \"https://cdn.jsdelivr.net/npm//vega-lib?noext\",\n",
       "      \"vega-lite\": \"https://cdn.jsdelivr.net/npm//vega-lite@4.8.1?noext\",\n",
       "      \"vega-embed\": \"https://cdn.jsdelivr.net/npm//vega-embed@6?noext\",\n",
       "    };\n",
       "\n",
       "    function loadScript(lib) {\n",
       "      return new Promise(function(resolve, reject) {\n",
       "        var s = document.createElement('script');\n",
       "        s.src = paths[lib];\n",
       "        s.async = true;\n",
       "        s.onload = () => resolve(paths[lib]);\n",
       "        s.onerror = () => reject(`Error loading script: ${paths[lib]}`);\n",
       "        document.getElementsByTagName(\"head\")[0].appendChild(s);\n",
       "      });\n",
       "    }\n",
       "\n",
       "    function showError(err) {\n",
       "      outputDiv.innerHTML = `<div class=\"error\" style=\"color:red;\">${err}</div>`;\n",
       "      throw err;\n",
       "    }\n",
       "\n",
       "    function displayChart(vegaEmbed) {\n",
       "      vegaEmbed(outputDiv, spec, embedOpt)\n",
       "        .catch(err => showError(`Javascript Error: ${err.message}<br>This usually means there's a typo in your chart specification. See the javascript console for the full traceback.`));\n",
       "    }\n",
       "\n",
       "    if(typeof define === \"function\" && define.amd) {\n",
       "      requirejs.config({paths});\n",
       "      require([\"vega-embed\"], displayChart, err => showError(`Error loading script: ${err.message}`));\n",
       "    } else if (typeof vegaEmbed === \"function\") {\n",
       "      displayChart(vegaEmbed);\n",
       "    } else {\n",
       "      loadScript(\"vega\")\n",
       "        .then(() => loadScript(\"vega-lite\"))\n",
       "        .then(() => loadScript(\"vega-embed\"))\n",
       "        .catch(showError)\n",
       "        .then(() => displayChart(vegaEmbed));\n",
       "    }\n",
       "  })({\"config\": {\"view\": {\"continuousWidth\": 400, \"continuousHeight\": 300}}, \"layer\": [{\"mark\": {\"type\": \"bar\", \"color\": \"firebrick\", \"opacity\": 0.7}, \"encoding\": {\"opacity\": {\"type\": \"nominal\", \"field\": \"Fallecimientos confirmados diarios\", \"legend\": {\"title\": \"\"}}, \"tooltip\": [{\"type\": \"nominal\", \"field\": \"Dates\"}, {\"type\": \"quantitative\", \"field\": \"New_deaths\"}], \"x\": {\"type\": \"nominal\", \"axis\": {\"title\": \"Fecha (a\\u00f1o-mes-d\\u00eda)\"}, \"field\": \"Dates\"}, \"y\": {\"type\": \"quantitative\", \"axis\": {\"title\": \"Fallecimientos confirmados diarios\"}, \"field\": \"New_deaths\"}}}, {\"mark\": {\"type\": \"line\", \"color\": \"firebrick\", \"point\": {\"filled\": true, \"fill\": \"firebrick\"}}, \"encoding\": {\"shape\": {\"type\": \"nominal\", \"field\": \"Promedio m\\u00f3vil \\u00faltimos 7 d\\u00edas\", \"legend\": {\"title\": \"\"}}, \"x\": {\"type\": \"nominal\", \"axis\": {\"title\": \"Fecha (a\\u00f1o-mes-d\\u00eda)\"}, \"field\": \"Dates\"}, \"y\": {\"type\": \"quantitative\", \"field\": \"Rolling\"}}}], \"data\": {\"name\": \"data-e8e198c2f961a97b924e0a41e3cd7093\"}, \"title\": \"Covid-19 en Chile: Fallecimientos confirmados diarios en Chile\", \"width\": 600, \"$schema\": \"https://vega.github.io/schema/vega-lite/v4.8.1.json\", \"datasets\": {\"data-e8e198c2f961a97b924e0a41e3cd7093\": [{\"Dates\": \"2020-03-25\", \"New_deaths\": 1, \"Rolling\": null, \"Fallecimientos confirmados diarios\": \"Fallecimientos confirmados diarios\", \"Promedio m\\u00f3vil \\u00faltimos 7 d\\u00edas\": \"Promedio m\\u00f3vil \\u00faltimos 7 d\\u00edas\"}, {\"Dates\": \"2020-03-26\", \"New_deaths\": 1, \"Rolling\": null, \"Fallecimientos confirmados diarios\": \"Fallecimientos confirmados diarios\", \"Promedio m\\u00f3vil \\u00faltimos 7 d\\u00edas\": \"Promedio m\\u00f3vil \\u00faltimos 7 d\\u00edas\"}, {\"Dates\": \"2020-03-27\", \"New_deaths\": 1, \"Rolling\": null, \"Fallecimientos confirmados diarios\": \"Fallecimientos confirmados diarios\", \"Promedio m\\u00f3vil \\u00faltimos 7 d\\u00edas\": \"Promedio m\\u00f3vil \\u00faltimos 7 d\\u00edas\"}, {\"Dates\": \"2020-03-28\", \"New_deaths\": 1, \"Rolling\": null, \"Fallecimientos confirmados diarios\": \"Fallecimientos confirmados diarios\", \"Promedio m\\u00f3vil \\u00faltimos 7 d\\u00edas\": \"Promedio m\\u00f3vil \\u00faltimos 7 d\\u00edas\"}, {\"Dates\": \"2020-03-29\", \"New_deaths\": 1, \"Rolling\": null, \"Fallecimientos confirmados diarios\": \"Fallecimientos confirmados diarios\", \"Promedio m\\u00f3vil \\u00faltimos 7 d\\u00edas\": \"Promedio m\\u00f3vil \\u00faltimos 7 d\\u00edas\"}, {\"Dates\": \"2020-03-30\", \"New_deaths\": 1, \"Rolling\": null, \"Fallecimientos confirmados diarios\": \"Fallecimientos confirmados diarios\", \"Promedio m\\u00f3vil \\u00faltimos 7 d\\u00edas\": \"Promedio m\\u00f3vil \\u00faltimos 7 d\\u00edas\"}, {\"Dates\": \"2020-03-31\", \"New_deaths\": 4, \"Rolling\": 1.4285714285714286, \"Fallecimientos confirmados diarios\": \"Fallecimientos confirmados diarios\", \"Promedio m\\u00f3vil \\u00faltimos 7 d\\u00edas\": \"Promedio m\\u00f3vil \\u00faltimos 7 d\\u00edas\"}, {\"Dates\": \"2020-04-01\", \"New_deaths\": 4, \"Rolling\": 1.8571428571428572, \"Fallecimientos confirmados diarios\": \"Fallecimientos confirmados diarios\", \"Promedio m\\u00f3vil \\u00faltimos 7 d\\u00edas\": \"Promedio m\\u00f3vil \\u00faltimos 7 d\\u00edas\"}, {\"Dates\": \"2020-04-02\", \"New_deaths\": 2, \"Rolling\": 2.0, \"Fallecimientos confirmados diarios\": \"Fallecimientos confirmados diarios\", \"Promedio m\\u00f3vil \\u00faltimos 7 d\\u00edas\": \"Promedio m\\u00f3vil \\u00faltimos 7 d\\u00edas\"}, {\"Dates\": \"2020-04-03\", \"New_deaths\": 4, \"Rolling\": 2.4285714285714284, \"Fallecimientos confirmados diarios\": \"Fallecimientos confirmados diarios\", \"Promedio m\\u00f3vil \\u00faltimos 7 d\\u00edas\": \"Promedio m\\u00f3vil \\u00faltimos 7 d\\u00edas\"}, {\"Dates\": \"2020-04-04\", \"New_deaths\": 5, \"Rolling\": 3.0, \"Fallecimientos confirmados diarios\": \"Fallecimientos confirmados diarios\", \"Promedio m\\u00f3vil \\u00faltimos 7 d\\u00edas\": \"Promedio m\\u00f3vil \\u00faltimos 7 d\\u00edas\"}, {\"Dates\": \"2020-04-05\", \"New_deaths\": 7, \"Rolling\": 3.857142857142857, \"Fallecimientos confirmados diarios\": \"Fallecimientos confirmados diarios\", \"Promedio m\\u00f3vil \\u00faltimos 7 d\\u00edas\": \"Promedio m\\u00f3vil \\u00faltimos 7 d\\u00edas\"}, {\"Dates\": \"2020-04-06\", \"New_deaths\": 3, \"Rolling\": 4.142857142857143, \"Fallecimientos confirmados diarios\": \"Fallecimientos confirmados diarios\", \"Promedio m\\u00f3vil \\u00faltimos 7 d\\u00edas\": \"Promedio m\\u00f3vil \\u00faltimos 7 d\\u00edas\"}, {\"Dates\": \"2020-04-07\", \"New_deaths\": 6, \"Rolling\": 4.428571428571429, \"Fallecimientos confirmados diarios\": \"Fallecimientos confirmados diarios\", \"Promedio m\\u00f3vil \\u00faltimos 7 d\\u00edas\": \"Promedio m\\u00f3vil \\u00faltimos 7 d\\u00edas\"}, {\"Dates\": \"2020-04-08\", \"New_deaths\": 5, \"Rolling\": 4.571428571428571, \"Fallecimientos confirmados diarios\": \"Fallecimientos confirmados diarios\", \"Promedio m\\u00f3vil \\u00faltimos 7 d\\u00edas\": \"Promedio m\\u00f3vil \\u00faltimos 7 d\\u00edas\"}, {\"Dates\": \"2020-04-09\", \"New_deaths\": 9, \"Rolling\": 5.571428571428571, \"Fallecimientos confirmados diarios\": \"Fallecimientos confirmados diarios\", \"Promedio m\\u00f3vil \\u00faltimos 7 d\\u00edas\": \"Promedio m\\u00f3vil \\u00faltimos 7 d\\u00edas\"}, {\"Dates\": \"2020-04-10\", \"New_deaths\": 8, \"Rolling\": 6.142857142857143, \"Fallecimientos confirmados diarios\": \"Fallecimientos confirmados diarios\", \"Promedio m\\u00f3vil \\u00faltimos 7 d\\u00edas\": \"Promedio m\\u00f3vil \\u00faltimos 7 d\\u00edas\"}, {\"Dates\": \"2020-04-11\", \"New_deaths\": 8, \"Rolling\": 6.571428571428571, \"Fallecimientos confirmados diarios\": \"Fallecimientos confirmados diarios\", \"Promedio m\\u00f3vil \\u00faltimos 7 d\\u00edas\": \"Promedio m\\u00f3vil \\u00faltimos 7 d\\u00edas\"}, {\"Dates\": \"2020-04-12\", \"New_deaths\": 7, \"Rolling\": 6.571428571428571, \"Fallecimientos confirmados diarios\": \"Fallecimientos confirmados diarios\", \"Promedio m\\u00f3vil \\u00faltimos 7 d\\u00edas\": \"Promedio m\\u00f3vil \\u00faltimos 7 d\\u00edas\"}, {\"Dates\": \"2020-04-13\", \"New_deaths\": 2, \"Rolling\": 6.428571428571429, \"Fallecimientos confirmados diarios\": \"Fallecimientos confirmados diarios\", \"Promedio m\\u00f3vil \\u00faltimos 7 d\\u00edas\": \"Promedio m\\u00f3vil \\u00faltimos 7 d\\u00edas\"}, {\"Dates\": \"2020-04-14\", \"New_deaths\": 10, \"Rolling\": 7.0, \"Fallecimientos confirmados diarios\": \"Fallecimientos confirmados diarios\", \"Promedio m\\u00f3vil \\u00faltimos 7 d\\u00edas\": \"Promedio m\\u00f3vil \\u00faltimos 7 d\\u00edas\"}, {\"Dates\": \"2020-04-15\", \"New_deaths\": 2, \"Rolling\": 6.571428571428571, \"Fallecimientos confirmados diarios\": \"Fallecimientos confirmados diarios\", \"Promedio m\\u00f3vil \\u00faltimos 7 d\\u00edas\": \"Promedio m\\u00f3vil \\u00faltimos 7 d\\u00edas\"}, {\"Dates\": \"2020-04-16\", \"New_deaths\": 11, \"Rolling\": 6.857142857142857, \"Fallecimientos confirmados diarios\": \"Fallecimientos confirmados diarios\", \"Promedio m\\u00f3vil \\u00faltimos 7 d\\u00edas\": \"Promedio m\\u00f3vil \\u00faltimos 7 d\\u00edas\"}, {\"Dates\": \"2020-04-17\", \"New_deaths\": 11, \"Rolling\": 7.285714285714286, \"Fallecimientos confirmados diarios\": \"Fallecimientos confirmados diarios\", \"Promedio m\\u00f3vil \\u00faltimos 7 d\\u00edas\": \"Promedio m\\u00f3vil \\u00faltimos 7 d\\u00edas\"}, {\"Dates\": \"2020-04-18\", \"New_deaths\": 10, \"Rolling\": 7.571428571428571, \"Fallecimientos confirmados diarios\": \"Fallecimientos confirmados diarios\", \"Promedio m\\u00f3vil \\u00faltimos 7 d\\u00edas\": \"Promedio m\\u00f3vil \\u00faltimos 7 d\\u00edas\"}, {\"Dates\": \"2020-04-19\", \"New_deaths\": 7, \"Rolling\": 7.571428571428571, \"Fallecimientos confirmados diarios\": \"Fallecimientos confirmados diarios\", \"Promedio m\\u00f3vil \\u00faltimos 7 d\\u00edas\": \"Promedio m\\u00f3vil \\u00faltimos 7 d\\u00edas\"}, {\"Dates\": \"2020-04-20\", \"New_deaths\": 6, \"Rolling\": 8.142857142857142, \"Fallecimientos confirmados diarios\": \"Fallecimientos confirmados diarios\", \"Promedio m\\u00f3vil \\u00faltimos 7 d\\u00edas\": \"Promedio m\\u00f3vil \\u00faltimos 7 d\\u00edas\"}, {\"Dates\": \"2020-04-21\", \"New_deaths\": 8, \"Rolling\": 7.857142857142857, \"Fallecimientos confirmados diarios\": \"Fallecimientos confirmados diarios\", \"Promedio m\\u00f3vil \\u00faltimos 7 d\\u00edas\": \"Promedio m\\u00f3vil \\u00faltimos 7 d\\u00edas\"}, {\"Dates\": \"2020-04-22\", \"New_deaths\": 13, \"Rolling\": 9.428571428571429, \"Fallecimientos confirmados diarios\": \"Fallecimientos confirmados diarios\", \"Promedio m\\u00f3vil \\u00faltimos 7 d\\u00edas\": \"Promedio m\\u00f3vil \\u00faltimos 7 d\\u00edas\"}, {\"Dates\": \"2020-04-23\", \"New_deaths\": 8, \"Rolling\": 9.0, \"Fallecimientos confirmados diarios\": \"Fallecimientos confirmados diarios\", \"Promedio m\\u00f3vil \\u00faltimos 7 d\\u00edas\": \"Promedio m\\u00f3vil \\u00faltimos 7 d\\u00edas\"}, {\"Dates\": \"2020-04-24\", \"New_deaths\": 6, \"Rolling\": 8.285714285714286, \"Fallecimientos confirmados diarios\": \"Fallecimientos confirmados diarios\", \"Promedio m\\u00f3vil \\u00faltimos 7 d\\u00edas\": \"Promedio m\\u00f3vil \\u00faltimos 7 d\\u00edas\"}, {\"Dates\": \"2020-04-25\", \"New_deaths\": 7, \"Rolling\": 7.857142857142857, \"Fallecimientos confirmados diarios\": \"Fallecimientos confirmados diarios\", \"Promedio m\\u00f3vil \\u00faltimos 7 d\\u00edas\": \"Promedio m\\u00f3vil \\u00faltimos 7 d\\u00edas\"}, {\"Dates\": \"2020-04-26\", \"New_deaths\": 8, \"Rolling\": 8.0, \"Fallecimientos confirmados diarios\": \"Fallecimientos confirmados diarios\", \"Promedio m\\u00f3vil \\u00faltimos 7 d\\u00edas\": \"Promedio m\\u00f3vil \\u00faltimos 7 d\\u00edas\"}, {\"Dates\": \"2020-04-27\", \"New_deaths\": 9, \"Rolling\": 8.428571428571429, \"Fallecimientos confirmados diarios\": \"Fallecimientos confirmados diarios\", \"Promedio m\\u00f3vil \\u00faltimos 7 d\\u00edas\": \"Promedio m\\u00f3vil \\u00faltimos 7 d\\u00edas\"}, {\"Dates\": \"2020-04-28\", \"New_deaths\": 9, \"Rolling\": 8.571428571428571, \"Fallecimientos confirmados diarios\": \"Fallecimientos confirmados diarios\", \"Promedio m\\u00f3vil \\u00faltimos 7 d\\u00edas\": \"Promedio m\\u00f3vil \\u00faltimos 7 d\\u00edas\"}, {\"Dates\": \"2020-04-29\", \"New_deaths\": 9, \"Rolling\": 8.0, \"Fallecimientos confirmados diarios\": \"Fallecimientos confirmados diarios\", \"Promedio m\\u00f3vil \\u00faltimos 7 d\\u00edas\": \"Promedio m\\u00f3vil \\u00faltimos 7 d\\u00edas\"}, {\"Dates\": \"2020-04-30\", \"New_deaths\": 11, \"Rolling\": 8.428571428571429, \"Fallecimientos confirmados diarios\": \"Fallecimientos confirmados diarios\", \"Promedio m\\u00f3vil \\u00faltimos 7 d\\u00edas\": \"Promedio m\\u00f3vil \\u00faltimos 7 d\\u00edas\"}, {\"Dates\": \"2020-05-01\", \"New_deaths\": 7, \"Rolling\": 8.571428571428571, \"Fallecimientos confirmados diarios\": \"Fallecimientos confirmados diarios\", \"Promedio m\\u00f3vil \\u00faltimos 7 d\\u00edas\": \"Promedio m\\u00f3vil \\u00faltimos 7 d\\u00edas\"}, {\"Dates\": \"2020-05-02\", \"New_deaths\": 13, \"Rolling\": 9.428571428571429, \"Fallecimientos confirmados diarios\": \"Fallecimientos confirmados diarios\", \"Promedio m\\u00f3vil \\u00faltimos 7 d\\u00edas\": \"Promedio m\\u00f3vil \\u00faltimos 7 d\\u00edas\"}, {\"Dates\": \"2020-05-03\", \"New_deaths\": 13, \"Rolling\": 10.142857142857142, \"Fallecimientos confirmados diarios\": \"Fallecimientos confirmados diarios\", \"Promedio m\\u00f3vil \\u00faltimos 7 d\\u00edas\": \"Promedio m\\u00f3vil \\u00faltimos 7 d\\u00edas\"}, {\"Dates\": \"2020-05-04\", \"New_deaths\": 10, \"Rolling\": 10.285714285714286, \"Fallecimientos confirmados diarios\": \"Fallecimientos confirmados diarios\", \"Promedio m\\u00f3vil \\u00faltimos 7 d\\u00edas\": \"Promedio m\\u00f3vil \\u00faltimos 7 d\\u00edas\"}, {\"Dates\": \"2020-05-05\", \"New_deaths\": 5, \"Rolling\": 9.714285714285714, \"Fallecimientos confirmados diarios\": \"Fallecimientos confirmados diarios\", \"Promedio m\\u00f3vil \\u00faltimos 7 d\\u00edas\": \"Promedio m\\u00f3vil \\u00faltimos 7 d\\u00edas\"}, {\"Dates\": \"2020-05-06\", \"New_deaths\": 6, \"Rolling\": 9.285714285714286, \"Fallecimientos confirmados diarios\": \"Fallecimientos confirmados diarios\", \"Promedio m\\u00f3vil \\u00faltimos 7 d\\u00edas\": \"Promedio m\\u00f3vil \\u00faltimos 7 d\\u00edas\"}, {\"Dates\": \"2020-05-07\", \"New_deaths\": 4, \"Rolling\": 8.285714285714286, \"Fallecimientos confirmados diarios\": \"Fallecimientos confirmados diarios\", \"Promedio m\\u00f3vil \\u00faltimos 7 d\\u00edas\": \"Promedio m\\u00f3vil \\u00faltimos 7 d\\u00edas\"}, {\"Dates\": \"2020-05-08\", \"New_deaths\": 9, \"Rolling\": 8.571428571428571, \"Fallecimientos confirmados diarios\": \"Fallecimientos confirmados diarios\", \"Promedio m\\u00f3vil \\u00faltimos 7 d\\u00edas\": \"Promedio m\\u00f3vil \\u00faltimos 7 d\\u00edas\"}, {\"Dates\": \"2020-05-09\", \"New_deaths\": 10, \"Rolling\": 8.142857142857142, \"Fallecimientos confirmados diarios\": \"Fallecimientos confirmados diarios\", \"Promedio m\\u00f3vil \\u00faltimos 7 d\\u00edas\": \"Promedio m\\u00f3vil \\u00faltimos 7 d\\u00edas\"}, {\"Dates\": \"2020-05-10\", \"New_deaths\": 8, \"Rolling\": 7.428571428571429, \"Fallecimientos confirmados diarios\": \"Fallecimientos confirmados diarios\", \"Promedio m\\u00f3vil \\u00faltimos 7 d\\u00edas\": \"Promedio m\\u00f3vil \\u00faltimos 7 d\\u00edas\"}, {\"Dates\": \"2020-05-11\", \"New_deaths\": 11, \"Rolling\": 7.571428571428571, \"Fallecimientos confirmados diarios\": \"Fallecimientos confirmados diarios\", \"Promedio m\\u00f3vil \\u00faltimos 7 d\\u00edas\": \"Promedio m\\u00f3vil \\u00faltimos 7 d\\u00edas\"}, {\"Dates\": \"2020-05-12\", \"New_deaths\": 12, \"Rolling\": 8.571428571428571, \"Fallecimientos confirmados diarios\": \"Fallecimientos confirmados diarios\", \"Promedio m\\u00f3vil \\u00faltimos 7 d\\u00edas\": \"Promedio m\\u00f3vil \\u00faltimos 7 d\\u00edas\"}, {\"Dates\": \"2020-05-13\", \"New_deaths\": 11, \"Rolling\": 9.285714285714286, \"Fallecimientos confirmados diarios\": \"Fallecimientos confirmados diarios\", \"Promedio m\\u00f3vil \\u00faltimos 7 d\\u00edas\": \"Promedio m\\u00f3vil \\u00faltimos 7 d\\u00edas\"}]}}, {\"mode\": \"vega-lite\"});\n",
       "</script>"
      ],
      "text/plain": [
       "alt.LayerChart(...)"
      ]
     },
     "execution_count": 47,
     "metadata": {},
     "output_type": "execute_result"
    }
   ],
   "source": [
    "#hide_input\n",
    "bars, line = my_deaths_plot(region)\n",
    "(bars + line).properties(\n",
    "    title=f'Covid-19 en Chile: Fallecimientos confirmados diarios en Chile',\n",
    "    width=600\n",
    ")"
   ]
  },
  {
   "cell_type": "markdown",
   "metadata": {},
   "source": [
    "## Arica y Parinacota"
   ]
  },
  {
   "cell_type": "code",
   "execution_count": 48,
   "metadata": {
    "scrolled": true
   },
   "outputs": [],
   "source": [
    "#hide\n",
    "region = \"Arica y Parinacota\""
   ]
  },
  {
   "cell_type": "code",
   "execution_count": 49,
   "metadata": {},
   "outputs": [
    {
     "data": {
      "text/html": [
       "\n",
       "<div id=\"altair-viz-25b4422c12624ed6a5174947a3ed8da9\"></div>\n",
       "<script type=\"text/javascript\">\n",
       "  (function(spec, embedOpt){\n",
       "    let outputDiv = document.currentScript.previousElementSibling;\n",
       "    if (outputDiv.id !== \"altair-viz-25b4422c12624ed6a5174947a3ed8da9\") {\n",
       "      outputDiv = document.getElementById(\"altair-viz-25b4422c12624ed6a5174947a3ed8da9\");\n",
       "    }\n",
       "    const paths = {\n",
       "      \"vega\": \"https://cdn.jsdelivr.net/npm//vega@5?noext\",\n",
       "      \"vega-lib\": \"https://cdn.jsdelivr.net/npm//vega-lib?noext\",\n",
       "      \"vega-lite\": \"https://cdn.jsdelivr.net/npm//vega-lite@4.8.1?noext\",\n",
       "      \"vega-embed\": \"https://cdn.jsdelivr.net/npm//vega-embed@6?noext\",\n",
       "    };\n",
       "\n",
       "    function loadScript(lib) {\n",
       "      return new Promise(function(resolve, reject) {\n",
       "        var s = document.createElement('script');\n",
       "        s.src = paths[lib];\n",
       "        s.async = true;\n",
       "        s.onload = () => resolve(paths[lib]);\n",
       "        s.onerror = () => reject(`Error loading script: ${paths[lib]}`);\n",
       "        document.getElementsByTagName(\"head\")[0].appendChild(s);\n",
       "      });\n",
       "    }\n",
       "\n",
       "    function showError(err) {\n",
       "      outputDiv.innerHTML = `<div class=\"error\" style=\"color:red;\">${err}</div>`;\n",
       "      throw err;\n",
       "    }\n",
       "\n",
       "    function displayChart(vegaEmbed) {\n",
       "      vegaEmbed(outputDiv, spec, embedOpt)\n",
       "        .catch(err => showError(`Javascript Error: ${err.message}<br>This usually means there's a typo in your chart specification. See the javascript console for the full traceback.`));\n",
       "    }\n",
       "\n",
       "    if(typeof define === \"function\" && define.amd) {\n",
       "      requirejs.config({paths});\n",
       "      require([\"vega-embed\"], displayChart, err => showError(`Error loading script: ${err.message}`));\n",
       "    } else if (typeof vegaEmbed === \"function\") {\n",
       "      displayChart(vegaEmbed);\n",
       "    } else {\n",
       "      loadScript(\"vega\")\n",
       "        .then(() => loadScript(\"vega-lite\"))\n",
       "        .then(() => loadScript(\"vega-embed\"))\n",
       "        .catch(showError)\n",
       "        .then(() => displayChart(vegaEmbed));\n",
       "    }\n",
       "  })({\"config\": {\"view\": {\"continuousWidth\": 400, \"continuousHeight\": 300}}, \"layer\": [{\"mark\": {\"type\": \"bar\", \"color\": \"firebrick\", \"opacity\": 0.7}, \"encoding\": {\"opacity\": {\"type\": \"nominal\", \"field\": \"Fallecimientos confirmados diarios\", \"legend\": {\"title\": \"\"}}, \"tooltip\": [{\"type\": \"nominal\", \"field\": \"Dates\"}, {\"type\": \"quantitative\", \"field\": \"New_deaths\"}], \"x\": {\"type\": \"nominal\", \"axis\": {\"title\": \"Fecha (a\\u00f1o-mes-d\\u00eda)\"}, \"field\": \"Dates\"}, \"y\": {\"type\": \"quantitative\", \"axis\": {\"title\": \"Fallecimientos confirmados diarios\"}, \"field\": \"New_deaths\"}}}, {\"mark\": {\"type\": \"line\", \"color\": \"firebrick\", \"point\": {\"filled\": true, \"fill\": \"firebrick\"}}, \"encoding\": {\"shape\": {\"type\": \"nominal\", \"field\": \"Promedio m\\u00f3vil \\u00faltimos 7 d\\u00edas\", \"legend\": {\"title\": \"\"}}, \"x\": {\"type\": \"nominal\", \"axis\": {\"title\": \"Fecha (a\\u00f1o-mes-d\\u00eda)\"}, \"field\": \"Dates\"}, \"y\": {\"type\": \"quantitative\", \"field\": \"Rolling\"}}}], \"data\": {\"name\": \"data-41b470c585b262f776727589fb199d74\"}, \"title\": \"Covid-19 en Chile: Fallecimientos confirmados diarios en Arica y Parinacota\", \"width\": 600, \"$schema\": \"https://vega.github.io/schema/vega-lite/v4.8.1.json\", \"datasets\": {\"data-41b470c585b262f776727589fb199d74\": [{\"Dates\": \"2020-03-25\", \"New_deaths\": 0, \"Rolling\": null, \"Fallecimientos confirmados diarios\": \"Fallecimientos confirmados diarios\", \"Promedio m\\u00f3vil \\u00faltimos 7 d\\u00edas\": \"Promedio m\\u00f3vil \\u00faltimos 7 d\\u00edas\"}, {\"Dates\": \"2020-03-26\", \"New_deaths\": 0, \"Rolling\": null, \"Fallecimientos confirmados diarios\": \"Fallecimientos confirmados diarios\", \"Promedio m\\u00f3vil \\u00faltimos 7 d\\u00edas\": \"Promedio m\\u00f3vil \\u00faltimos 7 d\\u00edas\"}, {\"Dates\": \"2020-03-27\", \"New_deaths\": 0, \"Rolling\": null, \"Fallecimientos confirmados diarios\": \"Fallecimientos confirmados diarios\", \"Promedio m\\u00f3vil \\u00faltimos 7 d\\u00edas\": \"Promedio m\\u00f3vil \\u00faltimos 7 d\\u00edas\"}, {\"Dates\": \"2020-03-28\", \"New_deaths\": 0, \"Rolling\": null, \"Fallecimientos confirmados diarios\": \"Fallecimientos confirmados diarios\", \"Promedio m\\u00f3vil \\u00faltimos 7 d\\u00edas\": \"Promedio m\\u00f3vil \\u00faltimos 7 d\\u00edas\"}, {\"Dates\": \"2020-03-29\", \"New_deaths\": 0, \"Rolling\": null, \"Fallecimientos confirmados diarios\": \"Fallecimientos confirmados diarios\", \"Promedio m\\u00f3vil \\u00faltimos 7 d\\u00edas\": \"Promedio m\\u00f3vil \\u00faltimos 7 d\\u00edas\"}, {\"Dates\": \"2020-03-30\", \"New_deaths\": 0, \"Rolling\": null, \"Fallecimientos confirmados diarios\": \"Fallecimientos confirmados diarios\", \"Promedio m\\u00f3vil \\u00faltimos 7 d\\u00edas\": \"Promedio m\\u00f3vil \\u00faltimos 7 d\\u00edas\"}, {\"Dates\": \"2020-03-31\", \"New_deaths\": 0, \"Rolling\": 0.0, \"Fallecimientos confirmados diarios\": \"Fallecimientos confirmados diarios\", \"Promedio m\\u00f3vil \\u00faltimos 7 d\\u00edas\": \"Promedio m\\u00f3vil \\u00faltimos 7 d\\u00edas\"}, {\"Dates\": \"2020-04-01\", \"New_deaths\": 0, \"Rolling\": 0.0, \"Fallecimientos confirmados diarios\": \"Fallecimientos confirmados diarios\", \"Promedio m\\u00f3vil \\u00faltimos 7 d\\u00edas\": \"Promedio m\\u00f3vil \\u00faltimos 7 d\\u00edas\"}, {\"Dates\": \"2020-04-02\", \"New_deaths\": 0, \"Rolling\": 0.0, \"Fallecimientos confirmados diarios\": \"Fallecimientos confirmados diarios\", \"Promedio m\\u00f3vil \\u00faltimos 7 d\\u00edas\": \"Promedio m\\u00f3vil \\u00faltimos 7 d\\u00edas\"}, {\"Dates\": \"2020-04-03\", \"New_deaths\": 0, \"Rolling\": 0.0, \"Fallecimientos confirmados diarios\": \"Fallecimientos confirmados diarios\", \"Promedio m\\u00f3vil \\u00faltimos 7 d\\u00edas\": \"Promedio m\\u00f3vil \\u00faltimos 7 d\\u00edas\"}, {\"Dates\": \"2020-04-04\", \"New_deaths\": 0, \"Rolling\": 0.0, \"Fallecimientos confirmados diarios\": \"Fallecimientos confirmados diarios\", \"Promedio m\\u00f3vil \\u00faltimos 7 d\\u00edas\": \"Promedio m\\u00f3vil \\u00faltimos 7 d\\u00edas\"}, {\"Dates\": \"2020-04-05\", \"New_deaths\": 0, \"Rolling\": 0.0, \"Fallecimientos confirmados diarios\": \"Fallecimientos confirmados diarios\", \"Promedio m\\u00f3vil \\u00faltimos 7 d\\u00edas\": \"Promedio m\\u00f3vil \\u00faltimos 7 d\\u00edas\"}, {\"Dates\": \"2020-04-06\", \"New_deaths\": 0, \"Rolling\": 0.0, \"Fallecimientos confirmados diarios\": \"Fallecimientos confirmados diarios\", \"Promedio m\\u00f3vil \\u00faltimos 7 d\\u00edas\": \"Promedio m\\u00f3vil \\u00faltimos 7 d\\u00edas\"}, {\"Dates\": \"2020-04-07\", \"New_deaths\": 0, \"Rolling\": 0.0, \"Fallecimientos confirmados diarios\": \"Fallecimientos confirmados diarios\", \"Promedio m\\u00f3vil \\u00faltimos 7 d\\u00edas\": \"Promedio m\\u00f3vil \\u00faltimos 7 d\\u00edas\"}, {\"Dates\": \"2020-04-08\", \"New_deaths\": 0, \"Rolling\": 0.0, \"Fallecimientos confirmados diarios\": \"Fallecimientos confirmados diarios\", \"Promedio m\\u00f3vil \\u00faltimos 7 d\\u00edas\": \"Promedio m\\u00f3vil \\u00faltimos 7 d\\u00edas\"}, {\"Dates\": \"2020-04-09\", \"New_deaths\": 0, \"Rolling\": 0.0, \"Fallecimientos confirmados diarios\": \"Fallecimientos confirmados diarios\", \"Promedio m\\u00f3vil \\u00faltimos 7 d\\u00edas\": \"Promedio m\\u00f3vil \\u00faltimos 7 d\\u00edas\"}, {\"Dates\": \"2020-04-10\", \"New_deaths\": 0, \"Rolling\": 0.0, \"Fallecimientos confirmados diarios\": \"Fallecimientos confirmados diarios\", \"Promedio m\\u00f3vil \\u00faltimos 7 d\\u00edas\": \"Promedio m\\u00f3vil \\u00faltimos 7 d\\u00edas\"}, {\"Dates\": \"2020-04-11\", \"New_deaths\": 0, \"Rolling\": 0.0, \"Fallecimientos confirmados diarios\": \"Fallecimientos confirmados diarios\", \"Promedio m\\u00f3vil \\u00faltimos 7 d\\u00edas\": \"Promedio m\\u00f3vil \\u00faltimos 7 d\\u00edas\"}, {\"Dates\": \"2020-04-12\", \"New_deaths\": 1, \"Rolling\": 0.14285714285714285, \"Fallecimientos confirmados diarios\": \"Fallecimientos confirmados diarios\", \"Promedio m\\u00f3vil \\u00faltimos 7 d\\u00edas\": \"Promedio m\\u00f3vil \\u00faltimos 7 d\\u00edas\"}, {\"Dates\": \"2020-04-13\", \"New_deaths\": 0, \"Rolling\": 0.14285714285714285, \"Fallecimientos confirmados diarios\": \"Fallecimientos confirmados diarios\", \"Promedio m\\u00f3vil \\u00faltimos 7 d\\u00edas\": \"Promedio m\\u00f3vil \\u00faltimos 7 d\\u00edas\"}, {\"Dates\": \"2020-04-14\", \"New_deaths\": 0, \"Rolling\": 0.14285714285714285, \"Fallecimientos confirmados diarios\": \"Fallecimientos confirmados diarios\", \"Promedio m\\u00f3vil \\u00faltimos 7 d\\u00edas\": \"Promedio m\\u00f3vil \\u00faltimos 7 d\\u00edas\"}, {\"Dates\": \"2020-04-15\", \"New_deaths\": 0, \"Rolling\": 0.14285714285714285, \"Fallecimientos confirmados diarios\": \"Fallecimientos confirmados diarios\", \"Promedio m\\u00f3vil \\u00faltimos 7 d\\u00edas\": \"Promedio m\\u00f3vil \\u00faltimos 7 d\\u00edas\"}, {\"Dates\": \"2020-04-16\", \"New_deaths\": 0, \"Rolling\": 0.14285714285714285, \"Fallecimientos confirmados diarios\": \"Fallecimientos confirmados diarios\", \"Promedio m\\u00f3vil \\u00faltimos 7 d\\u00edas\": \"Promedio m\\u00f3vil \\u00faltimos 7 d\\u00edas\"}, {\"Dates\": \"2020-04-17\", \"New_deaths\": 1, \"Rolling\": 0.2857142857142857, \"Fallecimientos confirmados diarios\": \"Fallecimientos confirmados diarios\", \"Promedio m\\u00f3vil \\u00faltimos 7 d\\u00edas\": \"Promedio m\\u00f3vil \\u00faltimos 7 d\\u00edas\"}, {\"Dates\": \"2020-04-18\", \"New_deaths\": 0, \"Rolling\": 0.2857142857142857, \"Fallecimientos confirmados diarios\": \"Fallecimientos confirmados diarios\", \"Promedio m\\u00f3vil \\u00faltimos 7 d\\u00edas\": \"Promedio m\\u00f3vil \\u00faltimos 7 d\\u00edas\"}, {\"Dates\": \"2020-04-19\", \"New_deaths\": 0, \"Rolling\": 0.14285714285714285, \"Fallecimientos confirmados diarios\": \"Fallecimientos confirmados diarios\", \"Promedio m\\u00f3vil \\u00faltimos 7 d\\u00edas\": \"Promedio m\\u00f3vil \\u00faltimos 7 d\\u00edas\"}, {\"Dates\": \"2020-04-20\", \"New_deaths\": 0, \"Rolling\": 0.14285714285714285, \"Fallecimientos confirmados diarios\": \"Fallecimientos confirmados diarios\", \"Promedio m\\u00f3vil \\u00faltimos 7 d\\u00edas\": \"Promedio m\\u00f3vil \\u00faltimos 7 d\\u00edas\"}, {\"Dates\": \"2020-04-21\", \"New_deaths\": 0, \"Rolling\": 0.14285714285714285, \"Fallecimientos confirmados diarios\": \"Fallecimientos confirmados diarios\", \"Promedio m\\u00f3vil \\u00faltimos 7 d\\u00edas\": \"Promedio m\\u00f3vil \\u00faltimos 7 d\\u00edas\"}, {\"Dates\": \"2020-04-22\", \"New_deaths\": 0, \"Rolling\": 0.14285714285714285, \"Fallecimientos confirmados diarios\": \"Fallecimientos confirmados diarios\", \"Promedio m\\u00f3vil \\u00faltimos 7 d\\u00edas\": \"Promedio m\\u00f3vil \\u00faltimos 7 d\\u00edas\"}, {\"Dates\": \"2020-04-23\", \"New_deaths\": 0, \"Rolling\": 0.14285714285714285, \"Fallecimientos confirmados diarios\": \"Fallecimientos confirmados diarios\", \"Promedio m\\u00f3vil \\u00faltimos 7 d\\u00edas\": \"Promedio m\\u00f3vil \\u00faltimos 7 d\\u00edas\"}, {\"Dates\": \"2020-04-24\", \"New_deaths\": 1, \"Rolling\": 0.14285714285714285, \"Fallecimientos confirmados diarios\": \"Fallecimientos confirmados diarios\", \"Promedio m\\u00f3vil \\u00faltimos 7 d\\u00edas\": \"Promedio m\\u00f3vil \\u00faltimos 7 d\\u00edas\"}, {\"Dates\": \"2020-04-25\", \"New_deaths\": 0, \"Rolling\": 0.14285714285714285, \"Fallecimientos confirmados diarios\": \"Fallecimientos confirmados diarios\", \"Promedio m\\u00f3vil \\u00faltimos 7 d\\u00edas\": \"Promedio m\\u00f3vil \\u00faltimos 7 d\\u00edas\"}, {\"Dates\": \"2020-04-26\", \"New_deaths\": 0, \"Rolling\": 0.14285714285714285, \"Fallecimientos confirmados diarios\": \"Fallecimientos confirmados diarios\", \"Promedio m\\u00f3vil \\u00faltimos 7 d\\u00edas\": \"Promedio m\\u00f3vil \\u00faltimos 7 d\\u00edas\"}, {\"Dates\": \"2020-04-27\", \"New_deaths\": 0, \"Rolling\": 0.14285714285714285, \"Fallecimientos confirmados diarios\": \"Fallecimientos confirmados diarios\", \"Promedio m\\u00f3vil \\u00faltimos 7 d\\u00edas\": \"Promedio m\\u00f3vil \\u00faltimos 7 d\\u00edas\"}, {\"Dates\": \"2020-04-28\", \"New_deaths\": 0, \"Rolling\": 0.14285714285714285, \"Fallecimientos confirmados diarios\": \"Fallecimientos confirmados diarios\", \"Promedio m\\u00f3vil \\u00faltimos 7 d\\u00edas\": \"Promedio m\\u00f3vil \\u00faltimos 7 d\\u00edas\"}, {\"Dates\": \"2020-04-29\", \"New_deaths\": 1, \"Rolling\": 0.2857142857142857, \"Fallecimientos confirmados diarios\": \"Fallecimientos confirmados diarios\", \"Promedio m\\u00f3vil \\u00faltimos 7 d\\u00edas\": \"Promedio m\\u00f3vil \\u00faltimos 7 d\\u00edas\"}, {\"Dates\": \"2020-04-30\", \"New_deaths\": 0, \"Rolling\": 0.2857142857142857, \"Fallecimientos confirmados diarios\": \"Fallecimientos confirmados diarios\", \"Promedio m\\u00f3vil \\u00faltimos 7 d\\u00edas\": \"Promedio m\\u00f3vil \\u00faltimos 7 d\\u00edas\"}, {\"Dates\": \"2020-05-01\", \"New_deaths\": 0, \"Rolling\": 0.14285714285714285, \"Fallecimientos confirmados diarios\": \"Fallecimientos confirmados diarios\", \"Promedio m\\u00f3vil \\u00faltimos 7 d\\u00edas\": \"Promedio m\\u00f3vil \\u00faltimos 7 d\\u00edas\"}, {\"Dates\": \"2020-05-02\", \"New_deaths\": 0, \"Rolling\": 0.14285714285714285, \"Fallecimientos confirmados diarios\": \"Fallecimientos confirmados diarios\", \"Promedio m\\u00f3vil \\u00faltimos 7 d\\u00edas\": \"Promedio m\\u00f3vil \\u00faltimos 7 d\\u00edas\"}, {\"Dates\": \"2020-05-03\", \"New_deaths\": 0, \"Rolling\": 0.14285714285714285, \"Fallecimientos confirmados diarios\": \"Fallecimientos confirmados diarios\", \"Promedio m\\u00f3vil \\u00faltimos 7 d\\u00edas\": \"Promedio m\\u00f3vil \\u00faltimos 7 d\\u00edas\"}, {\"Dates\": \"2020-05-04\", \"New_deaths\": 0, \"Rolling\": 0.14285714285714285, \"Fallecimientos confirmados diarios\": \"Fallecimientos confirmados diarios\", \"Promedio m\\u00f3vil \\u00faltimos 7 d\\u00edas\": \"Promedio m\\u00f3vil \\u00faltimos 7 d\\u00edas\"}, {\"Dates\": \"2020-05-05\", \"New_deaths\": 0, \"Rolling\": 0.14285714285714285, \"Fallecimientos confirmados diarios\": \"Fallecimientos confirmados diarios\", \"Promedio m\\u00f3vil \\u00faltimos 7 d\\u00edas\": \"Promedio m\\u00f3vil \\u00faltimos 7 d\\u00edas\"}, {\"Dates\": \"2020-05-06\", \"New_deaths\": 1, \"Rolling\": 0.14285714285714285, \"Fallecimientos confirmados diarios\": \"Fallecimientos confirmados diarios\", \"Promedio m\\u00f3vil \\u00faltimos 7 d\\u00edas\": \"Promedio m\\u00f3vil \\u00faltimos 7 d\\u00edas\"}, {\"Dates\": \"2020-05-07\", \"New_deaths\": 1, \"Rolling\": 0.2857142857142857, \"Fallecimientos confirmados diarios\": \"Fallecimientos confirmados diarios\", \"Promedio m\\u00f3vil \\u00faltimos 7 d\\u00edas\": \"Promedio m\\u00f3vil \\u00faltimos 7 d\\u00edas\"}, {\"Dates\": \"2020-05-08\", \"New_deaths\": 0, \"Rolling\": 0.2857142857142857, \"Fallecimientos confirmados diarios\": \"Fallecimientos confirmados diarios\", \"Promedio m\\u00f3vil \\u00faltimos 7 d\\u00edas\": \"Promedio m\\u00f3vil \\u00faltimos 7 d\\u00edas\"}, {\"Dates\": \"2020-05-09\", \"New_deaths\": 0, \"Rolling\": 0.2857142857142857, \"Fallecimientos confirmados diarios\": \"Fallecimientos confirmados diarios\", \"Promedio m\\u00f3vil \\u00faltimos 7 d\\u00edas\": \"Promedio m\\u00f3vil \\u00faltimos 7 d\\u00edas\"}, {\"Dates\": \"2020-05-10\", \"New_deaths\": 0, \"Rolling\": 0.2857142857142857, \"Fallecimientos confirmados diarios\": \"Fallecimientos confirmados diarios\", \"Promedio m\\u00f3vil \\u00faltimos 7 d\\u00edas\": \"Promedio m\\u00f3vil \\u00faltimos 7 d\\u00edas\"}, {\"Dates\": \"2020-05-11\", \"New_deaths\": 1, \"Rolling\": 0.42857142857142855, \"Fallecimientos confirmados diarios\": \"Fallecimientos confirmados diarios\", \"Promedio m\\u00f3vil \\u00faltimos 7 d\\u00edas\": \"Promedio m\\u00f3vil \\u00faltimos 7 d\\u00edas\"}, {\"Dates\": \"2020-05-12\", \"New_deaths\": 0, \"Rolling\": 0.42857142857142855, \"Fallecimientos confirmados diarios\": \"Fallecimientos confirmados diarios\", \"Promedio m\\u00f3vil \\u00faltimos 7 d\\u00edas\": \"Promedio m\\u00f3vil \\u00faltimos 7 d\\u00edas\"}, {\"Dates\": \"2020-05-13\", \"New_deaths\": 0, \"Rolling\": 0.2857142857142857, \"Fallecimientos confirmados diarios\": \"Fallecimientos confirmados diarios\", \"Promedio m\\u00f3vil \\u00faltimos 7 d\\u00edas\": \"Promedio m\\u00f3vil \\u00faltimos 7 d\\u00edas\"}]}}, {\"mode\": \"vega-lite\"});\n",
       "</script>"
      ],
      "text/plain": [
       "alt.LayerChart(...)"
      ]
     },
     "execution_count": 49,
     "metadata": {},
     "output_type": "execute_result"
    }
   ],
   "source": [
    "#hide_input\n",
    "bars, line = my_deaths_plot(region)\n",
    "(bars + line).properties(\n",
    "    title=f'Covid-19 en Chile: Fallecimientos confirmados diarios en {region}',\n",
    "    width=600\n",
    ")"
   ]
  },
  {
   "cell_type": "markdown",
   "metadata": {},
   "source": [
    "## Tarapacá"
   ]
  },
  {
   "cell_type": "code",
   "execution_count": 50,
   "metadata": {
    "scrolled": true
   },
   "outputs": [],
   "source": [
    "#hide\n",
    "region = \"Tarapacá\""
   ]
  },
  {
   "cell_type": "code",
   "execution_count": 51,
   "metadata": {},
   "outputs": [
    {
     "data": {
      "text/html": [
       "\n",
       "<div id=\"altair-viz-ddc123ab8ec741c3aa4c32769171034b\"></div>\n",
       "<script type=\"text/javascript\">\n",
       "  (function(spec, embedOpt){\n",
       "    let outputDiv = document.currentScript.previousElementSibling;\n",
       "    if (outputDiv.id !== \"altair-viz-ddc123ab8ec741c3aa4c32769171034b\") {\n",
       "      outputDiv = document.getElementById(\"altair-viz-ddc123ab8ec741c3aa4c32769171034b\");\n",
       "    }\n",
       "    const paths = {\n",
       "      \"vega\": \"https://cdn.jsdelivr.net/npm//vega@5?noext\",\n",
       "      \"vega-lib\": \"https://cdn.jsdelivr.net/npm//vega-lib?noext\",\n",
       "      \"vega-lite\": \"https://cdn.jsdelivr.net/npm//vega-lite@4.8.1?noext\",\n",
       "      \"vega-embed\": \"https://cdn.jsdelivr.net/npm//vega-embed@6?noext\",\n",
       "    };\n",
       "\n",
       "    function loadScript(lib) {\n",
       "      return new Promise(function(resolve, reject) {\n",
       "        var s = document.createElement('script');\n",
       "        s.src = paths[lib];\n",
       "        s.async = true;\n",
       "        s.onload = () => resolve(paths[lib]);\n",
       "        s.onerror = () => reject(`Error loading script: ${paths[lib]}`);\n",
       "        document.getElementsByTagName(\"head\")[0].appendChild(s);\n",
       "      });\n",
       "    }\n",
       "\n",
       "    function showError(err) {\n",
       "      outputDiv.innerHTML = `<div class=\"error\" style=\"color:red;\">${err}</div>`;\n",
       "      throw err;\n",
       "    }\n",
       "\n",
       "    function displayChart(vegaEmbed) {\n",
       "      vegaEmbed(outputDiv, spec, embedOpt)\n",
       "        .catch(err => showError(`Javascript Error: ${err.message}<br>This usually means there's a typo in your chart specification. See the javascript console for the full traceback.`));\n",
       "    }\n",
       "\n",
       "    if(typeof define === \"function\" && define.amd) {\n",
       "      requirejs.config({paths});\n",
       "      require([\"vega-embed\"], displayChart, err => showError(`Error loading script: ${err.message}`));\n",
       "    } else if (typeof vegaEmbed === \"function\") {\n",
       "      displayChart(vegaEmbed);\n",
       "    } else {\n",
       "      loadScript(\"vega\")\n",
       "        .then(() => loadScript(\"vega-lite\"))\n",
       "        .then(() => loadScript(\"vega-embed\"))\n",
       "        .catch(showError)\n",
       "        .then(() => displayChart(vegaEmbed));\n",
       "    }\n",
       "  })({\"config\": {\"view\": {\"continuousWidth\": 400, \"continuousHeight\": 300}}, \"layer\": [{\"mark\": {\"type\": \"bar\", \"color\": \"firebrick\", \"opacity\": 0.7}, \"encoding\": {\"opacity\": {\"type\": \"nominal\", \"field\": \"Fallecimientos confirmados diarios\", \"legend\": {\"title\": \"\"}}, \"tooltip\": [{\"type\": \"nominal\", \"field\": \"Dates\"}, {\"type\": \"quantitative\", \"field\": \"New_deaths\"}], \"x\": {\"type\": \"nominal\", \"axis\": {\"title\": \"Fecha (a\\u00f1o-mes-d\\u00eda)\"}, \"field\": \"Dates\"}, \"y\": {\"type\": \"quantitative\", \"axis\": {\"title\": \"Fallecimientos confirmados diarios\"}, \"field\": \"New_deaths\"}}}, {\"mark\": {\"type\": \"line\", \"color\": \"firebrick\", \"point\": {\"filled\": true, \"fill\": \"firebrick\"}}, \"encoding\": {\"shape\": {\"type\": \"nominal\", \"field\": \"Promedio m\\u00f3vil \\u00faltimos 7 d\\u00edas\", \"legend\": {\"title\": \"\"}}, \"x\": {\"type\": \"nominal\", \"axis\": {\"title\": \"Fecha (a\\u00f1o-mes-d\\u00eda)\"}, \"field\": \"Dates\"}, \"y\": {\"type\": \"quantitative\", \"field\": \"Rolling\"}}}], \"data\": {\"name\": \"data-27bfe8a395e52502ba73c385314ee787\"}, \"title\": \"Covid-19 en Chile: Fallecimientos confirmados diarios en Tarapac\\u00e1\", \"width\": 600, \"$schema\": \"https://vega.github.io/schema/vega-lite/v4.8.1.json\", \"datasets\": {\"data-27bfe8a395e52502ba73c385314ee787\": [{\"Dates\": \"2020-03-25\", \"New_deaths\": 0, \"Rolling\": null, \"Fallecimientos confirmados diarios\": \"Fallecimientos confirmados diarios\", \"Promedio m\\u00f3vil \\u00faltimos 7 d\\u00edas\": \"Promedio m\\u00f3vil \\u00faltimos 7 d\\u00edas\"}, {\"Dates\": \"2020-03-26\", \"New_deaths\": 0, \"Rolling\": null, \"Fallecimientos confirmados diarios\": \"Fallecimientos confirmados diarios\", \"Promedio m\\u00f3vil \\u00faltimos 7 d\\u00edas\": \"Promedio m\\u00f3vil \\u00faltimos 7 d\\u00edas\"}, {\"Dates\": \"2020-03-27\", \"New_deaths\": 0, \"Rolling\": null, \"Fallecimientos confirmados diarios\": \"Fallecimientos confirmados diarios\", \"Promedio m\\u00f3vil \\u00faltimos 7 d\\u00edas\": \"Promedio m\\u00f3vil \\u00faltimos 7 d\\u00edas\"}, {\"Dates\": \"2020-03-28\", \"New_deaths\": 0, \"Rolling\": null, \"Fallecimientos confirmados diarios\": \"Fallecimientos confirmados diarios\", \"Promedio m\\u00f3vil \\u00faltimos 7 d\\u00edas\": \"Promedio m\\u00f3vil \\u00faltimos 7 d\\u00edas\"}, {\"Dates\": \"2020-03-29\", \"New_deaths\": 0, \"Rolling\": null, \"Fallecimientos confirmados diarios\": \"Fallecimientos confirmados diarios\", \"Promedio m\\u00f3vil \\u00faltimos 7 d\\u00edas\": \"Promedio m\\u00f3vil \\u00faltimos 7 d\\u00edas\"}, {\"Dates\": \"2020-03-30\", \"New_deaths\": 0, \"Rolling\": null, \"Fallecimientos confirmados diarios\": \"Fallecimientos confirmados diarios\", \"Promedio m\\u00f3vil \\u00faltimos 7 d\\u00edas\": \"Promedio m\\u00f3vil \\u00faltimos 7 d\\u00edas\"}, {\"Dates\": \"2020-03-31\", \"New_deaths\": 0, \"Rolling\": 0.0, \"Fallecimientos confirmados diarios\": \"Fallecimientos confirmados diarios\", \"Promedio m\\u00f3vil \\u00faltimos 7 d\\u00edas\": \"Promedio m\\u00f3vil \\u00faltimos 7 d\\u00edas\"}, {\"Dates\": \"2020-04-01\", \"New_deaths\": 0, \"Rolling\": 0.0, \"Fallecimientos confirmados diarios\": \"Fallecimientos confirmados diarios\", \"Promedio m\\u00f3vil \\u00faltimos 7 d\\u00edas\": \"Promedio m\\u00f3vil \\u00faltimos 7 d\\u00edas\"}, {\"Dates\": \"2020-04-02\", \"New_deaths\": 0, \"Rolling\": 0.0, \"Fallecimientos confirmados diarios\": \"Fallecimientos confirmados diarios\", \"Promedio m\\u00f3vil \\u00faltimos 7 d\\u00edas\": \"Promedio m\\u00f3vil \\u00faltimos 7 d\\u00edas\"}, {\"Dates\": \"2020-04-03\", \"New_deaths\": 0, \"Rolling\": 0.0, \"Fallecimientos confirmados diarios\": \"Fallecimientos confirmados diarios\", \"Promedio m\\u00f3vil \\u00faltimos 7 d\\u00edas\": \"Promedio m\\u00f3vil \\u00faltimos 7 d\\u00edas\"}, {\"Dates\": \"2020-04-04\", \"New_deaths\": 0, \"Rolling\": 0.0, \"Fallecimientos confirmados diarios\": \"Fallecimientos confirmados diarios\", \"Promedio m\\u00f3vil \\u00faltimos 7 d\\u00edas\": \"Promedio m\\u00f3vil \\u00faltimos 7 d\\u00edas\"}, {\"Dates\": \"2020-04-05\", \"New_deaths\": 0, \"Rolling\": 0.0, \"Fallecimientos confirmados diarios\": \"Fallecimientos confirmados diarios\", \"Promedio m\\u00f3vil \\u00faltimos 7 d\\u00edas\": \"Promedio m\\u00f3vil \\u00faltimos 7 d\\u00edas\"}, {\"Dates\": \"2020-04-06\", \"New_deaths\": 0, \"Rolling\": 0.0, \"Fallecimientos confirmados diarios\": \"Fallecimientos confirmados diarios\", \"Promedio m\\u00f3vil \\u00faltimos 7 d\\u00edas\": \"Promedio m\\u00f3vil \\u00faltimos 7 d\\u00edas\"}, {\"Dates\": \"2020-04-07\", \"New_deaths\": 0, \"Rolling\": 0.0, \"Fallecimientos confirmados diarios\": \"Fallecimientos confirmados diarios\", \"Promedio m\\u00f3vil \\u00faltimos 7 d\\u00edas\": \"Promedio m\\u00f3vil \\u00faltimos 7 d\\u00edas\"}, {\"Dates\": \"2020-04-08\", \"New_deaths\": 0, \"Rolling\": 0.0, \"Fallecimientos confirmados diarios\": \"Fallecimientos confirmados diarios\", \"Promedio m\\u00f3vil \\u00faltimos 7 d\\u00edas\": \"Promedio m\\u00f3vil \\u00faltimos 7 d\\u00edas\"}, {\"Dates\": \"2020-04-09\", \"New_deaths\": 0, \"Rolling\": 0.0, \"Fallecimientos confirmados diarios\": \"Fallecimientos confirmados diarios\", \"Promedio m\\u00f3vil \\u00faltimos 7 d\\u00edas\": \"Promedio m\\u00f3vil \\u00faltimos 7 d\\u00edas\"}, {\"Dates\": \"2020-04-10\", \"New_deaths\": 0, \"Rolling\": 0.0, \"Fallecimientos confirmados diarios\": \"Fallecimientos confirmados diarios\", \"Promedio m\\u00f3vil \\u00faltimos 7 d\\u00edas\": \"Promedio m\\u00f3vil \\u00faltimos 7 d\\u00edas\"}, {\"Dates\": \"2020-04-11\", \"New_deaths\": 0, \"Rolling\": 0.0, \"Fallecimientos confirmados diarios\": \"Fallecimientos confirmados diarios\", \"Promedio m\\u00f3vil \\u00faltimos 7 d\\u00edas\": \"Promedio m\\u00f3vil \\u00faltimos 7 d\\u00edas\"}, {\"Dates\": \"2020-04-12\", \"New_deaths\": 0, \"Rolling\": 0.0, \"Fallecimientos confirmados diarios\": \"Fallecimientos confirmados diarios\", \"Promedio m\\u00f3vil \\u00faltimos 7 d\\u00edas\": \"Promedio m\\u00f3vil \\u00faltimos 7 d\\u00edas\"}, {\"Dates\": \"2020-04-13\", \"New_deaths\": 0, \"Rolling\": 0.0, \"Fallecimientos confirmados diarios\": \"Fallecimientos confirmados diarios\", \"Promedio m\\u00f3vil \\u00faltimos 7 d\\u00edas\": \"Promedio m\\u00f3vil \\u00faltimos 7 d\\u00edas\"}, {\"Dates\": \"2020-04-14\", \"New_deaths\": 0, \"Rolling\": 0.0, \"Fallecimientos confirmados diarios\": \"Fallecimientos confirmados diarios\", \"Promedio m\\u00f3vil \\u00faltimos 7 d\\u00edas\": \"Promedio m\\u00f3vil \\u00faltimos 7 d\\u00edas\"}, {\"Dates\": \"2020-04-15\", \"New_deaths\": 0, \"Rolling\": 0.0, \"Fallecimientos confirmados diarios\": \"Fallecimientos confirmados diarios\", \"Promedio m\\u00f3vil \\u00faltimos 7 d\\u00edas\": \"Promedio m\\u00f3vil \\u00faltimos 7 d\\u00edas\"}, {\"Dates\": \"2020-04-16\", \"New_deaths\": 0, \"Rolling\": 0.0, \"Fallecimientos confirmados diarios\": \"Fallecimientos confirmados diarios\", \"Promedio m\\u00f3vil \\u00faltimos 7 d\\u00edas\": \"Promedio m\\u00f3vil \\u00faltimos 7 d\\u00edas\"}, {\"Dates\": \"2020-04-17\", \"New_deaths\": 0, \"Rolling\": 0.0, \"Fallecimientos confirmados diarios\": \"Fallecimientos confirmados diarios\", \"Promedio m\\u00f3vil \\u00faltimos 7 d\\u00edas\": \"Promedio m\\u00f3vil \\u00faltimos 7 d\\u00edas\"}, {\"Dates\": \"2020-04-18\", \"New_deaths\": 0, \"Rolling\": 0.0, \"Fallecimientos confirmados diarios\": \"Fallecimientos confirmados diarios\", \"Promedio m\\u00f3vil \\u00faltimos 7 d\\u00edas\": \"Promedio m\\u00f3vil \\u00faltimos 7 d\\u00edas\"}, {\"Dates\": \"2020-04-19\", \"New_deaths\": 0, \"Rolling\": 0.0, \"Fallecimientos confirmados diarios\": \"Fallecimientos confirmados diarios\", \"Promedio m\\u00f3vil \\u00faltimos 7 d\\u00edas\": \"Promedio m\\u00f3vil \\u00faltimos 7 d\\u00edas\"}, {\"Dates\": \"2020-04-20\", \"New_deaths\": 0, \"Rolling\": 0.0, \"Fallecimientos confirmados diarios\": \"Fallecimientos confirmados diarios\", \"Promedio m\\u00f3vil \\u00faltimos 7 d\\u00edas\": \"Promedio m\\u00f3vil \\u00faltimos 7 d\\u00edas\"}, {\"Dates\": \"2020-04-21\", \"New_deaths\": 0, \"Rolling\": 0.0, \"Fallecimientos confirmados diarios\": \"Fallecimientos confirmados diarios\", \"Promedio m\\u00f3vil \\u00faltimos 7 d\\u00edas\": \"Promedio m\\u00f3vil \\u00faltimos 7 d\\u00edas\"}, {\"Dates\": \"2020-04-22\", \"New_deaths\": 0, \"Rolling\": 0.0, \"Fallecimientos confirmados diarios\": \"Fallecimientos confirmados diarios\", \"Promedio m\\u00f3vil \\u00faltimos 7 d\\u00edas\": \"Promedio m\\u00f3vil \\u00faltimos 7 d\\u00edas\"}, {\"Dates\": \"2020-04-23\", \"New_deaths\": 0, \"Rolling\": 0.0, \"Fallecimientos confirmados diarios\": \"Fallecimientos confirmados diarios\", \"Promedio m\\u00f3vil \\u00faltimos 7 d\\u00edas\": \"Promedio m\\u00f3vil \\u00faltimos 7 d\\u00edas\"}, {\"Dates\": \"2020-04-24\", \"New_deaths\": 0, \"Rolling\": 0.0, \"Fallecimientos confirmados diarios\": \"Fallecimientos confirmados diarios\", \"Promedio m\\u00f3vil \\u00faltimos 7 d\\u00edas\": \"Promedio m\\u00f3vil \\u00faltimos 7 d\\u00edas\"}, {\"Dates\": \"2020-04-25\", \"New_deaths\": 1, \"Rolling\": 0.14285714285714285, \"Fallecimientos confirmados diarios\": \"Fallecimientos confirmados diarios\", \"Promedio m\\u00f3vil \\u00faltimos 7 d\\u00edas\": \"Promedio m\\u00f3vil \\u00faltimos 7 d\\u00edas\"}, {\"Dates\": \"2020-04-26\", \"New_deaths\": 0, \"Rolling\": 0.14285714285714285, \"Fallecimientos confirmados diarios\": \"Fallecimientos confirmados diarios\", \"Promedio m\\u00f3vil \\u00faltimos 7 d\\u00edas\": \"Promedio m\\u00f3vil \\u00faltimos 7 d\\u00edas\"}, {\"Dates\": \"2020-04-27\", \"New_deaths\": 0, \"Rolling\": 0.14285714285714285, \"Fallecimientos confirmados diarios\": \"Fallecimientos confirmados diarios\", \"Promedio m\\u00f3vil \\u00faltimos 7 d\\u00edas\": \"Promedio m\\u00f3vil \\u00faltimos 7 d\\u00edas\"}, {\"Dates\": \"2020-04-28\", \"New_deaths\": 0, \"Rolling\": 0.14285714285714285, \"Fallecimientos confirmados diarios\": \"Fallecimientos confirmados diarios\", \"Promedio m\\u00f3vil \\u00faltimos 7 d\\u00edas\": \"Promedio m\\u00f3vil \\u00faltimos 7 d\\u00edas\"}, {\"Dates\": \"2020-04-29\", \"New_deaths\": 0, \"Rolling\": 0.14285714285714285, \"Fallecimientos confirmados diarios\": \"Fallecimientos confirmados diarios\", \"Promedio m\\u00f3vil \\u00faltimos 7 d\\u00edas\": \"Promedio m\\u00f3vil \\u00faltimos 7 d\\u00edas\"}, {\"Dates\": \"2020-04-30\", \"New_deaths\": 0, \"Rolling\": 0.14285714285714285, \"Fallecimientos confirmados diarios\": \"Fallecimientos confirmados diarios\", \"Promedio m\\u00f3vil \\u00faltimos 7 d\\u00edas\": \"Promedio m\\u00f3vil \\u00faltimos 7 d\\u00edas\"}, {\"Dates\": \"2020-05-01\", \"New_deaths\": 0, \"Rolling\": 0.14285714285714285, \"Fallecimientos confirmados diarios\": \"Fallecimientos confirmados diarios\", \"Promedio m\\u00f3vil \\u00faltimos 7 d\\u00edas\": \"Promedio m\\u00f3vil \\u00faltimos 7 d\\u00edas\"}, {\"Dates\": \"2020-05-02\", \"New_deaths\": 0, \"Rolling\": 0.0, \"Fallecimientos confirmados diarios\": \"Fallecimientos confirmados diarios\", \"Promedio m\\u00f3vil \\u00faltimos 7 d\\u00edas\": \"Promedio m\\u00f3vil \\u00faltimos 7 d\\u00edas\"}, {\"Dates\": \"2020-05-03\", \"New_deaths\": 0, \"Rolling\": 0.0, \"Fallecimientos confirmados diarios\": \"Fallecimientos confirmados diarios\", \"Promedio m\\u00f3vil \\u00faltimos 7 d\\u00edas\": \"Promedio m\\u00f3vil \\u00faltimos 7 d\\u00edas\"}, {\"Dates\": \"2020-05-04\", \"New_deaths\": 0, \"Rolling\": 0.0, \"Fallecimientos confirmados diarios\": \"Fallecimientos confirmados diarios\", \"Promedio m\\u00f3vil \\u00faltimos 7 d\\u00edas\": \"Promedio m\\u00f3vil \\u00faltimos 7 d\\u00edas\"}, {\"Dates\": \"2020-05-05\", \"New_deaths\": 0, \"Rolling\": 0.0, \"Fallecimientos confirmados diarios\": \"Fallecimientos confirmados diarios\", \"Promedio m\\u00f3vil \\u00faltimos 7 d\\u00edas\": \"Promedio m\\u00f3vil \\u00faltimos 7 d\\u00edas\"}, {\"Dates\": \"2020-05-06\", \"New_deaths\": 0, \"Rolling\": 0.0, \"Fallecimientos confirmados diarios\": \"Fallecimientos confirmados diarios\", \"Promedio m\\u00f3vil \\u00faltimos 7 d\\u00edas\": \"Promedio m\\u00f3vil \\u00faltimos 7 d\\u00edas\"}, {\"Dates\": \"2020-05-07\", \"New_deaths\": 0, \"Rolling\": 0.0, \"Fallecimientos confirmados diarios\": \"Fallecimientos confirmados diarios\", \"Promedio m\\u00f3vil \\u00faltimos 7 d\\u00edas\": \"Promedio m\\u00f3vil \\u00faltimos 7 d\\u00edas\"}, {\"Dates\": \"2020-05-08\", \"New_deaths\": 0, \"Rolling\": 0.0, \"Fallecimientos confirmados diarios\": \"Fallecimientos confirmados diarios\", \"Promedio m\\u00f3vil \\u00faltimos 7 d\\u00edas\": \"Promedio m\\u00f3vil \\u00faltimos 7 d\\u00edas\"}, {\"Dates\": \"2020-05-09\", \"New_deaths\": 0, \"Rolling\": 0.0, \"Fallecimientos confirmados diarios\": \"Fallecimientos confirmados diarios\", \"Promedio m\\u00f3vil \\u00faltimos 7 d\\u00edas\": \"Promedio m\\u00f3vil \\u00faltimos 7 d\\u00edas\"}, {\"Dates\": \"2020-05-10\", \"New_deaths\": 0, \"Rolling\": 0.0, \"Fallecimientos confirmados diarios\": \"Fallecimientos confirmados diarios\", \"Promedio m\\u00f3vil \\u00faltimos 7 d\\u00edas\": \"Promedio m\\u00f3vil \\u00faltimos 7 d\\u00edas\"}, {\"Dates\": \"2020-05-11\", \"New_deaths\": 0, \"Rolling\": 0.0, \"Fallecimientos confirmados diarios\": \"Fallecimientos confirmados diarios\", \"Promedio m\\u00f3vil \\u00faltimos 7 d\\u00edas\": \"Promedio m\\u00f3vil \\u00faltimos 7 d\\u00edas\"}, {\"Dates\": \"2020-05-12\", \"New_deaths\": 0, \"Rolling\": 0.0, \"Fallecimientos confirmados diarios\": \"Fallecimientos confirmados diarios\", \"Promedio m\\u00f3vil \\u00faltimos 7 d\\u00edas\": \"Promedio m\\u00f3vil \\u00faltimos 7 d\\u00edas\"}, {\"Dates\": \"2020-05-13\", \"New_deaths\": 0, \"Rolling\": 0.0, \"Fallecimientos confirmados diarios\": \"Fallecimientos confirmados diarios\", \"Promedio m\\u00f3vil \\u00faltimos 7 d\\u00edas\": \"Promedio m\\u00f3vil \\u00faltimos 7 d\\u00edas\"}]}}, {\"mode\": \"vega-lite\"});\n",
       "</script>"
      ],
      "text/plain": [
       "alt.LayerChart(...)"
      ]
     },
     "execution_count": 51,
     "metadata": {},
     "output_type": "execute_result"
    }
   ],
   "source": [
    "#hide_input\n",
    "bars, line = my_deaths_plot(region)\n",
    "(bars + line).properties(\n",
    "    title=f'Covid-19 en Chile: Fallecimientos confirmados diarios en {region}',\n",
    "    width=600\n",
    ")"
   ]
  },
  {
   "cell_type": "markdown",
   "metadata": {},
   "source": [
    "## Antofagasta"
   ]
  },
  {
   "cell_type": "code",
   "execution_count": 52,
   "metadata": {
    "scrolled": true
   },
   "outputs": [],
   "source": [
    "#hide\n",
    "region = \"Antofagasta\""
   ]
  },
  {
   "cell_type": "code",
   "execution_count": 53,
   "metadata": {},
   "outputs": [
    {
     "data": {
      "text/html": [
       "\n",
       "<div id=\"altair-viz-7d2187df738a43d689a4cbc111bf709a\"></div>\n",
       "<script type=\"text/javascript\">\n",
       "  (function(spec, embedOpt){\n",
       "    let outputDiv = document.currentScript.previousElementSibling;\n",
       "    if (outputDiv.id !== \"altair-viz-7d2187df738a43d689a4cbc111bf709a\") {\n",
       "      outputDiv = document.getElementById(\"altair-viz-7d2187df738a43d689a4cbc111bf709a\");\n",
       "    }\n",
       "    const paths = {\n",
       "      \"vega\": \"https://cdn.jsdelivr.net/npm//vega@5?noext\",\n",
       "      \"vega-lib\": \"https://cdn.jsdelivr.net/npm//vega-lib?noext\",\n",
       "      \"vega-lite\": \"https://cdn.jsdelivr.net/npm//vega-lite@4.8.1?noext\",\n",
       "      \"vega-embed\": \"https://cdn.jsdelivr.net/npm//vega-embed@6?noext\",\n",
       "    };\n",
       "\n",
       "    function loadScript(lib) {\n",
       "      return new Promise(function(resolve, reject) {\n",
       "        var s = document.createElement('script');\n",
       "        s.src = paths[lib];\n",
       "        s.async = true;\n",
       "        s.onload = () => resolve(paths[lib]);\n",
       "        s.onerror = () => reject(`Error loading script: ${paths[lib]}`);\n",
       "        document.getElementsByTagName(\"head\")[0].appendChild(s);\n",
       "      });\n",
       "    }\n",
       "\n",
       "    function showError(err) {\n",
       "      outputDiv.innerHTML = `<div class=\"error\" style=\"color:red;\">${err}</div>`;\n",
       "      throw err;\n",
       "    }\n",
       "\n",
       "    function displayChart(vegaEmbed) {\n",
       "      vegaEmbed(outputDiv, spec, embedOpt)\n",
       "        .catch(err => showError(`Javascript Error: ${err.message}<br>This usually means there's a typo in your chart specification. See the javascript console for the full traceback.`));\n",
       "    }\n",
       "\n",
       "    if(typeof define === \"function\" && define.amd) {\n",
       "      requirejs.config({paths});\n",
       "      require([\"vega-embed\"], displayChart, err => showError(`Error loading script: ${err.message}`));\n",
       "    } else if (typeof vegaEmbed === \"function\") {\n",
       "      displayChart(vegaEmbed);\n",
       "    } else {\n",
       "      loadScript(\"vega\")\n",
       "        .then(() => loadScript(\"vega-lite\"))\n",
       "        .then(() => loadScript(\"vega-embed\"))\n",
       "        .catch(showError)\n",
       "        .then(() => displayChart(vegaEmbed));\n",
       "    }\n",
       "  })({\"config\": {\"view\": {\"continuousWidth\": 400, \"continuousHeight\": 300}}, \"layer\": [{\"mark\": {\"type\": \"bar\", \"color\": \"firebrick\", \"opacity\": 0.7}, \"encoding\": {\"opacity\": {\"type\": \"nominal\", \"field\": \"Fallecimientos confirmados diarios\", \"legend\": {\"title\": \"\"}}, \"tooltip\": [{\"type\": \"nominal\", \"field\": \"Dates\"}, {\"type\": \"quantitative\", \"field\": \"New_deaths\"}], \"x\": {\"type\": \"nominal\", \"axis\": {\"title\": \"Fecha (a\\u00f1o-mes-d\\u00eda)\"}, \"field\": \"Dates\"}, \"y\": {\"type\": \"quantitative\", \"axis\": {\"title\": \"Fallecimientos confirmados diarios\"}, \"field\": \"New_deaths\"}}}, {\"mark\": {\"type\": \"line\", \"color\": \"firebrick\", \"point\": {\"filled\": true, \"fill\": \"firebrick\"}}, \"encoding\": {\"shape\": {\"type\": \"nominal\", \"field\": \"Promedio m\\u00f3vil \\u00faltimos 7 d\\u00edas\", \"legend\": {\"title\": \"\"}}, \"x\": {\"type\": \"nominal\", \"axis\": {\"title\": \"Fecha (a\\u00f1o-mes-d\\u00eda)\"}, \"field\": \"Dates\"}, \"y\": {\"type\": \"quantitative\", \"field\": \"Rolling\"}}}], \"data\": {\"name\": \"data-4b03b49075c72485809f427b3c5a535e\"}, \"title\": \"Covid-19 en Chile: Fallecimientos confirmados diarios en Antofagasta\", \"width\": 600, \"$schema\": \"https://vega.github.io/schema/vega-lite/v4.8.1.json\", \"datasets\": {\"data-4b03b49075c72485809f427b3c5a535e\": [{\"Dates\": \"2020-03-25\", \"New_deaths\": 0, \"Rolling\": null, \"Fallecimientos confirmados diarios\": \"Fallecimientos confirmados diarios\", \"Promedio m\\u00f3vil \\u00faltimos 7 d\\u00edas\": \"Promedio m\\u00f3vil \\u00faltimos 7 d\\u00edas\"}, {\"Dates\": \"2020-03-26\", \"New_deaths\": 0, \"Rolling\": null, \"Fallecimientos confirmados diarios\": \"Fallecimientos confirmados diarios\", \"Promedio m\\u00f3vil \\u00faltimos 7 d\\u00edas\": \"Promedio m\\u00f3vil \\u00faltimos 7 d\\u00edas\"}, {\"Dates\": \"2020-03-27\", \"New_deaths\": 0, \"Rolling\": null, \"Fallecimientos confirmados diarios\": \"Fallecimientos confirmados diarios\", \"Promedio m\\u00f3vil \\u00faltimos 7 d\\u00edas\": \"Promedio m\\u00f3vil \\u00faltimos 7 d\\u00edas\"}, {\"Dates\": \"2020-03-28\", \"New_deaths\": 0, \"Rolling\": null, \"Fallecimientos confirmados diarios\": \"Fallecimientos confirmados diarios\", \"Promedio m\\u00f3vil \\u00faltimos 7 d\\u00edas\": \"Promedio m\\u00f3vil \\u00faltimos 7 d\\u00edas\"}, {\"Dates\": \"2020-03-29\", \"New_deaths\": 0, \"Rolling\": null, \"Fallecimientos confirmados diarios\": \"Fallecimientos confirmados diarios\", \"Promedio m\\u00f3vil \\u00faltimos 7 d\\u00edas\": \"Promedio m\\u00f3vil \\u00faltimos 7 d\\u00edas\"}, {\"Dates\": \"2020-03-30\", \"New_deaths\": 0, \"Rolling\": null, \"Fallecimientos confirmados diarios\": \"Fallecimientos confirmados diarios\", \"Promedio m\\u00f3vil \\u00faltimos 7 d\\u00edas\": \"Promedio m\\u00f3vil \\u00faltimos 7 d\\u00edas\"}, {\"Dates\": \"2020-03-31\", \"New_deaths\": 0, \"Rolling\": 0.0, \"Fallecimientos confirmados diarios\": \"Fallecimientos confirmados diarios\", \"Promedio m\\u00f3vil \\u00faltimos 7 d\\u00edas\": \"Promedio m\\u00f3vil \\u00faltimos 7 d\\u00edas\"}, {\"Dates\": \"2020-04-01\", \"New_deaths\": 0, \"Rolling\": 0.0, \"Fallecimientos confirmados diarios\": \"Fallecimientos confirmados diarios\", \"Promedio m\\u00f3vil \\u00faltimos 7 d\\u00edas\": \"Promedio m\\u00f3vil \\u00faltimos 7 d\\u00edas\"}, {\"Dates\": \"2020-04-02\", \"New_deaths\": 0, \"Rolling\": 0.0, \"Fallecimientos confirmados diarios\": \"Fallecimientos confirmados diarios\", \"Promedio m\\u00f3vil \\u00faltimos 7 d\\u00edas\": \"Promedio m\\u00f3vil \\u00faltimos 7 d\\u00edas\"}, {\"Dates\": \"2020-04-03\", \"New_deaths\": 0, \"Rolling\": 0.0, \"Fallecimientos confirmados diarios\": \"Fallecimientos confirmados diarios\", \"Promedio m\\u00f3vil \\u00faltimos 7 d\\u00edas\": \"Promedio m\\u00f3vil \\u00faltimos 7 d\\u00edas\"}, {\"Dates\": \"2020-04-04\", \"New_deaths\": 0, \"Rolling\": 0.0, \"Fallecimientos confirmados diarios\": \"Fallecimientos confirmados diarios\", \"Promedio m\\u00f3vil \\u00faltimos 7 d\\u00edas\": \"Promedio m\\u00f3vil \\u00faltimos 7 d\\u00edas\"}, {\"Dates\": \"2020-04-05\", \"New_deaths\": 0, \"Rolling\": 0.0, \"Fallecimientos confirmados diarios\": \"Fallecimientos confirmados diarios\", \"Promedio m\\u00f3vil \\u00faltimos 7 d\\u00edas\": \"Promedio m\\u00f3vil \\u00faltimos 7 d\\u00edas\"}, {\"Dates\": \"2020-04-06\", \"New_deaths\": 0, \"Rolling\": 0.0, \"Fallecimientos confirmados diarios\": \"Fallecimientos confirmados diarios\", \"Promedio m\\u00f3vil \\u00faltimos 7 d\\u00edas\": \"Promedio m\\u00f3vil \\u00faltimos 7 d\\u00edas\"}, {\"Dates\": \"2020-04-07\", \"New_deaths\": 1, \"Rolling\": 0.14285714285714285, \"Fallecimientos confirmados diarios\": \"Fallecimientos confirmados diarios\", \"Promedio m\\u00f3vil \\u00faltimos 7 d\\u00edas\": \"Promedio m\\u00f3vil \\u00faltimos 7 d\\u00edas\"}, {\"Dates\": \"2020-04-08\", \"New_deaths\": 0, \"Rolling\": 0.14285714285714285, \"Fallecimientos confirmados diarios\": \"Fallecimientos confirmados diarios\", \"Promedio m\\u00f3vil \\u00faltimos 7 d\\u00edas\": \"Promedio m\\u00f3vil \\u00faltimos 7 d\\u00edas\"}, {\"Dates\": \"2020-04-09\", \"New_deaths\": 0, \"Rolling\": 0.14285714285714285, \"Fallecimientos confirmados diarios\": \"Fallecimientos confirmados diarios\", \"Promedio m\\u00f3vil \\u00faltimos 7 d\\u00edas\": \"Promedio m\\u00f3vil \\u00faltimos 7 d\\u00edas\"}, {\"Dates\": \"2020-04-10\", \"New_deaths\": 0, \"Rolling\": 0.14285714285714285, \"Fallecimientos confirmados diarios\": \"Fallecimientos confirmados diarios\", \"Promedio m\\u00f3vil \\u00faltimos 7 d\\u00edas\": \"Promedio m\\u00f3vil \\u00faltimos 7 d\\u00edas\"}, {\"Dates\": \"2020-04-11\", \"New_deaths\": 0, \"Rolling\": 0.14285714285714285, \"Fallecimientos confirmados diarios\": \"Fallecimientos confirmados diarios\", \"Promedio m\\u00f3vil \\u00faltimos 7 d\\u00edas\": \"Promedio m\\u00f3vil \\u00faltimos 7 d\\u00edas\"}, {\"Dates\": \"2020-04-12\", \"New_deaths\": 0, \"Rolling\": 0.14285714285714285, \"Fallecimientos confirmados diarios\": \"Fallecimientos confirmados diarios\", \"Promedio m\\u00f3vil \\u00faltimos 7 d\\u00edas\": \"Promedio m\\u00f3vil \\u00faltimos 7 d\\u00edas\"}, {\"Dates\": \"2020-04-13\", \"New_deaths\": 0, \"Rolling\": 0.14285714285714285, \"Fallecimientos confirmados diarios\": \"Fallecimientos confirmados diarios\", \"Promedio m\\u00f3vil \\u00faltimos 7 d\\u00edas\": \"Promedio m\\u00f3vil \\u00faltimos 7 d\\u00edas\"}, {\"Dates\": \"2020-04-14\", \"New_deaths\": 0, \"Rolling\": 0.0, \"Fallecimientos confirmados diarios\": \"Fallecimientos confirmados diarios\", \"Promedio m\\u00f3vil \\u00faltimos 7 d\\u00edas\": \"Promedio m\\u00f3vil \\u00faltimos 7 d\\u00edas\"}, {\"Dates\": \"2020-04-15\", \"New_deaths\": 0, \"Rolling\": 0.0, \"Fallecimientos confirmados diarios\": \"Fallecimientos confirmados diarios\", \"Promedio m\\u00f3vil \\u00faltimos 7 d\\u00edas\": \"Promedio m\\u00f3vil \\u00faltimos 7 d\\u00edas\"}, {\"Dates\": \"2020-04-16\", \"New_deaths\": 0, \"Rolling\": 0.0, \"Fallecimientos confirmados diarios\": \"Fallecimientos confirmados diarios\", \"Promedio m\\u00f3vil \\u00faltimos 7 d\\u00edas\": \"Promedio m\\u00f3vil \\u00faltimos 7 d\\u00edas\"}, {\"Dates\": \"2020-04-17\", \"New_deaths\": 0, \"Rolling\": 0.0, \"Fallecimientos confirmados diarios\": \"Fallecimientos confirmados diarios\", \"Promedio m\\u00f3vil \\u00faltimos 7 d\\u00edas\": \"Promedio m\\u00f3vil \\u00faltimos 7 d\\u00edas\"}, {\"Dates\": \"2020-04-18\", \"New_deaths\": 0, \"Rolling\": 0.0, \"Fallecimientos confirmados diarios\": \"Fallecimientos confirmados diarios\", \"Promedio m\\u00f3vil \\u00faltimos 7 d\\u00edas\": \"Promedio m\\u00f3vil \\u00faltimos 7 d\\u00edas\"}, {\"Dates\": \"2020-04-19\", \"New_deaths\": 0, \"Rolling\": 0.0, \"Fallecimientos confirmados diarios\": \"Fallecimientos confirmados diarios\", \"Promedio m\\u00f3vil \\u00faltimos 7 d\\u00edas\": \"Promedio m\\u00f3vil \\u00faltimos 7 d\\u00edas\"}, {\"Dates\": \"2020-04-20\", \"New_deaths\": 0, \"Rolling\": 0.0, \"Fallecimientos confirmados diarios\": \"Fallecimientos confirmados diarios\", \"Promedio m\\u00f3vil \\u00faltimos 7 d\\u00edas\": \"Promedio m\\u00f3vil \\u00faltimos 7 d\\u00edas\"}, {\"Dates\": \"2020-04-21\", \"New_deaths\": 0, \"Rolling\": 0.0, \"Fallecimientos confirmados diarios\": \"Fallecimientos confirmados diarios\", \"Promedio m\\u00f3vil \\u00faltimos 7 d\\u00edas\": \"Promedio m\\u00f3vil \\u00faltimos 7 d\\u00edas\"}, {\"Dates\": \"2020-04-22\", \"New_deaths\": 1, \"Rolling\": 0.14285714285714285, \"Fallecimientos confirmados diarios\": \"Fallecimientos confirmados diarios\", \"Promedio m\\u00f3vil \\u00faltimos 7 d\\u00edas\": \"Promedio m\\u00f3vil \\u00faltimos 7 d\\u00edas\"}, {\"Dates\": \"2020-04-23\", \"New_deaths\": 0, \"Rolling\": 0.14285714285714285, \"Fallecimientos confirmados diarios\": \"Fallecimientos confirmados diarios\", \"Promedio m\\u00f3vil \\u00faltimos 7 d\\u00edas\": \"Promedio m\\u00f3vil \\u00faltimos 7 d\\u00edas\"}, {\"Dates\": \"2020-04-24\", \"New_deaths\": 0, \"Rolling\": 0.14285714285714285, \"Fallecimientos confirmados diarios\": \"Fallecimientos confirmados diarios\", \"Promedio m\\u00f3vil \\u00faltimos 7 d\\u00edas\": \"Promedio m\\u00f3vil \\u00faltimos 7 d\\u00edas\"}, {\"Dates\": \"2020-04-25\", \"New_deaths\": 1, \"Rolling\": 0.2857142857142857, \"Fallecimientos confirmados diarios\": \"Fallecimientos confirmados diarios\", \"Promedio m\\u00f3vil \\u00faltimos 7 d\\u00edas\": \"Promedio m\\u00f3vil \\u00faltimos 7 d\\u00edas\"}, {\"Dates\": \"2020-04-26\", \"New_deaths\": 1, \"Rolling\": 0.42857142857142855, \"Fallecimientos confirmados diarios\": \"Fallecimientos confirmados diarios\", \"Promedio m\\u00f3vil \\u00faltimos 7 d\\u00edas\": \"Promedio m\\u00f3vil \\u00faltimos 7 d\\u00edas\"}, {\"Dates\": \"2020-04-27\", \"New_deaths\": 0, \"Rolling\": 0.42857142857142855, \"Fallecimientos confirmados diarios\": \"Fallecimientos confirmados diarios\", \"Promedio m\\u00f3vil \\u00faltimos 7 d\\u00edas\": \"Promedio m\\u00f3vil \\u00faltimos 7 d\\u00edas\"}, {\"Dates\": \"2020-04-28\", \"New_deaths\": 0, \"Rolling\": 0.42857142857142855, \"Fallecimientos confirmados diarios\": \"Fallecimientos confirmados diarios\", \"Promedio m\\u00f3vil \\u00faltimos 7 d\\u00edas\": \"Promedio m\\u00f3vil \\u00faltimos 7 d\\u00edas\"}, {\"Dates\": \"2020-04-29\", \"New_deaths\": 0, \"Rolling\": 0.2857142857142857, \"Fallecimientos confirmados diarios\": \"Fallecimientos confirmados diarios\", \"Promedio m\\u00f3vil \\u00faltimos 7 d\\u00edas\": \"Promedio m\\u00f3vil \\u00faltimos 7 d\\u00edas\"}, {\"Dates\": \"2020-04-30\", \"New_deaths\": 1, \"Rolling\": 0.42857142857142855, \"Fallecimientos confirmados diarios\": \"Fallecimientos confirmados diarios\", \"Promedio m\\u00f3vil \\u00faltimos 7 d\\u00edas\": \"Promedio m\\u00f3vil \\u00faltimos 7 d\\u00edas\"}, {\"Dates\": \"2020-05-01\", \"New_deaths\": 2, \"Rolling\": 0.7142857142857143, \"Fallecimientos confirmados diarios\": \"Fallecimientos confirmados diarios\", \"Promedio m\\u00f3vil \\u00faltimos 7 d\\u00edas\": \"Promedio m\\u00f3vil \\u00faltimos 7 d\\u00edas\"}, {\"Dates\": \"2020-05-02\", \"New_deaths\": 0, \"Rolling\": 0.5714285714285714, \"Fallecimientos confirmados diarios\": \"Fallecimientos confirmados diarios\", \"Promedio m\\u00f3vil \\u00faltimos 7 d\\u00edas\": \"Promedio m\\u00f3vil \\u00faltimos 7 d\\u00edas\"}, {\"Dates\": \"2020-05-03\", \"New_deaths\": 0, \"Rolling\": 0.42857142857142855, \"Fallecimientos confirmados diarios\": \"Fallecimientos confirmados diarios\", \"Promedio m\\u00f3vil \\u00faltimos 7 d\\u00edas\": \"Promedio m\\u00f3vil \\u00faltimos 7 d\\u00edas\"}, {\"Dates\": \"2020-05-04\", \"New_deaths\": 0, \"Rolling\": 0.42857142857142855, \"Fallecimientos confirmados diarios\": \"Fallecimientos confirmados diarios\", \"Promedio m\\u00f3vil \\u00faltimos 7 d\\u00edas\": \"Promedio m\\u00f3vil \\u00faltimos 7 d\\u00edas\"}, {\"Dates\": \"2020-05-05\", \"New_deaths\": 0, \"Rolling\": 0.42857142857142855, \"Fallecimientos confirmados diarios\": \"Fallecimientos confirmados diarios\", \"Promedio m\\u00f3vil \\u00faltimos 7 d\\u00edas\": \"Promedio m\\u00f3vil \\u00faltimos 7 d\\u00edas\"}, {\"Dates\": \"2020-05-06\", \"New_deaths\": 0, \"Rolling\": 0.42857142857142855, \"Fallecimientos confirmados diarios\": \"Fallecimientos confirmados diarios\", \"Promedio m\\u00f3vil \\u00faltimos 7 d\\u00edas\": \"Promedio m\\u00f3vil \\u00faltimos 7 d\\u00edas\"}, {\"Dates\": \"2020-05-07\", \"New_deaths\": 0, \"Rolling\": 0.2857142857142857, \"Fallecimientos confirmados diarios\": \"Fallecimientos confirmados diarios\", \"Promedio m\\u00f3vil \\u00faltimos 7 d\\u00edas\": \"Promedio m\\u00f3vil \\u00faltimos 7 d\\u00edas\"}, {\"Dates\": \"2020-05-08\", \"New_deaths\": 2, \"Rolling\": 0.2857142857142857, \"Fallecimientos confirmados diarios\": \"Fallecimientos confirmados diarios\", \"Promedio m\\u00f3vil \\u00faltimos 7 d\\u00edas\": \"Promedio m\\u00f3vil \\u00faltimos 7 d\\u00edas\"}, {\"Dates\": \"2020-05-09\", \"New_deaths\": 1, \"Rolling\": 0.42857142857142855, \"Fallecimientos confirmados diarios\": \"Fallecimientos confirmados diarios\", \"Promedio m\\u00f3vil \\u00faltimos 7 d\\u00edas\": \"Promedio m\\u00f3vil \\u00faltimos 7 d\\u00edas\"}, {\"Dates\": \"2020-05-10\", \"New_deaths\": 0, \"Rolling\": 0.42857142857142855, \"Fallecimientos confirmados diarios\": \"Fallecimientos confirmados diarios\", \"Promedio m\\u00f3vil \\u00faltimos 7 d\\u00edas\": \"Promedio m\\u00f3vil \\u00faltimos 7 d\\u00edas\"}, {\"Dates\": \"2020-05-11\", \"New_deaths\": 0, \"Rolling\": 0.42857142857142855, \"Fallecimientos confirmados diarios\": \"Fallecimientos confirmados diarios\", \"Promedio m\\u00f3vil \\u00faltimos 7 d\\u00edas\": \"Promedio m\\u00f3vil \\u00faltimos 7 d\\u00edas\"}, {\"Dates\": \"2020-05-12\", \"New_deaths\": 0, \"Rolling\": 0.42857142857142855, \"Fallecimientos confirmados diarios\": \"Fallecimientos confirmados diarios\", \"Promedio m\\u00f3vil \\u00faltimos 7 d\\u00edas\": \"Promedio m\\u00f3vil \\u00faltimos 7 d\\u00edas\"}, {\"Dates\": \"2020-05-13\", \"New_deaths\": 1, \"Rolling\": 0.5714285714285714, \"Fallecimientos confirmados diarios\": \"Fallecimientos confirmados diarios\", \"Promedio m\\u00f3vil \\u00faltimos 7 d\\u00edas\": \"Promedio m\\u00f3vil \\u00faltimos 7 d\\u00edas\"}]}}, {\"mode\": \"vega-lite\"});\n",
       "</script>"
      ],
      "text/plain": [
       "alt.LayerChart(...)"
      ]
     },
     "execution_count": 53,
     "metadata": {},
     "output_type": "execute_result"
    }
   ],
   "source": [
    "#hide_input\n",
    "bars, line = my_deaths_plot(region)\n",
    "(bars + line).properties(\n",
    "    title=f'Covid-19 en Chile: Fallecimientos confirmados diarios en {region}',\n",
    "    width=600\n",
    ")"
   ]
  },
  {
   "cell_type": "markdown",
   "metadata": {},
   "source": [
    "## Atacama"
   ]
  },
  {
   "cell_type": "code",
   "execution_count": 54,
   "metadata": {
    "scrolled": true
   },
   "outputs": [],
   "source": [
    "#hide\n",
    "region = \"Atacama\""
   ]
  },
  {
   "cell_type": "code",
   "execution_count": 55,
   "metadata": {
    "scrolled": true
   },
   "outputs": [
    {
     "data": {
      "text/markdown": [
       "No hay fallecimientos confirmados hasta el 13/05/2020."
      ],
      "text/plain": [
       "<IPython.core.display.Markdown object>"
      ]
     },
     "metadata": {},
     "output_type": "display_data"
    }
   ],
   "source": [
    "#hide_input\n",
    "if data.loc[region].sum() == 0:\n",
    "    display(Markdown(f\"No hay fallecimientos confirmados hasta el {pd.to_datetime(today).strftime('%d/%m/%Y')}.\"))\n",
    "else:\n",
    "    bars, line = my_deaths_plot(region)\n",
    "    (bars + line).properties(\n",
    "        title=f'Covid-19 en Chile: Fallecimientos confirmados diarios en {region}',\n",
    "        width=600\n",
    "    )"
   ]
  },
  {
   "cell_type": "markdown",
   "metadata": {},
   "source": [
    "## Coquimbo"
   ]
  },
  {
   "cell_type": "code",
   "execution_count": 56,
   "metadata": {
    "scrolled": true
   },
   "outputs": [],
   "source": [
    "#hide\n",
    "region = \"Coquimbo\""
   ]
  },
  {
   "cell_type": "code",
   "execution_count": 57,
   "metadata": {
    "scrolled": true
   },
   "outputs": [],
   "source": [
    "#hide_input\n",
    "if data.loc[region].sum() == 0:\n",
    "    display(Markdown(f\"No hay fallecimientos confirmados hasta el {pd.to_datetime(today).strftime('%d/%m/%Y')}.\"))\n",
    "else:\n",
    "    bars, line = my_deaths_plot(region)\n",
    "    (bars + line).properties(\n",
    "        title=f'Covid-19 en Chile: Fallecimientos confirmados diarios en {region}',\n",
    "        width=600\n",
    "    )"
   ]
  },
  {
   "cell_type": "markdown",
   "metadata": {},
   "source": [
    "## Valparaíso"
   ]
  },
  {
   "cell_type": "code",
   "execution_count": 58,
   "metadata": {
    "scrolled": false
   },
   "outputs": [],
   "source": [
    "#hide\n",
    "region = \"Valparaíso\""
   ]
  },
  {
   "cell_type": "code",
   "execution_count": 59,
   "metadata": {},
   "outputs": [
    {
     "data": {
      "text/html": [
       "\n",
       "<div id=\"altair-viz-77e0a09340254c1591a2ea4ccca1acae\"></div>\n",
       "<script type=\"text/javascript\">\n",
       "  (function(spec, embedOpt){\n",
       "    let outputDiv = document.currentScript.previousElementSibling;\n",
       "    if (outputDiv.id !== \"altair-viz-77e0a09340254c1591a2ea4ccca1acae\") {\n",
       "      outputDiv = document.getElementById(\"altair-viz-77e0a09340254c1591a2ea4ccca1acae\");\n",
       "    }\n",
       "    const paths = {\n",
       "      \"vega\": \"https://cdn.jsdelivr.net/npm//vega@5?noext\",\n",
       "      \"vega-lib\": \"https://cdn.jsdelivr.net/npm//vega-lib?noext\",\n",
       "      \"vega-lite\": \"https://cdn.jsdelivr.net/npm//vega-lite@4.8.1?noext\",\n",
       "      \"vega-embed\": \"https://cdn.jsdelivr.net/npm//vega-embed@6?noext\",\n",
       "    };\n",
       "\n",
       "    function loadScript(lib) {\n",
       "      return new Promise(function(resolve, reject) {\n",
       "        var s = document.createElement('script');\n",
       "        s.src = paths[lib];\n",
       "        s.async = true;\n",
       "        s.onload = () => resolve(paths[lib]);\n",
       "        s.onerror = () => reject(`Error loading script: ${paths[lib]}`);\n",
       "        document.getElementsByTagName(\"head\")[0].appendChild(s);\n",
       "      });\n",
       "    }\n",
       "\n",
       "    function showError(err) {\n",
       "      outputDiv.innerHTML = `<div class=\"error\" style=\"color:red;\">${err}</div>`;\n",
       "      throw err;\n",
       "    }\n",
       "\n",
       "    function displayChart(vegaEmbed) {\n",
       "      vegaEmbed(outputDiv, spec, embedOpt)\n",
       "        .catch(err => showError(`Javascript Error: ${err.message}<br>This usually means there's a typo in your chart specification. See the javascript console for the full traceback.`));\n",
       "    }\n",
       "\n",
       "    if(typeof define === \"function\" && define.amd) {\n",
       "      requirejs.config({paths});\n",
       "      require([\"vega-embed\"], displayChart, err => showError(`Error loading script: ${err.message}`));\n",
       "    } else if (typeof vegaEmbed === \"function\") {\n",
       "      displayChart(vegaEmbed);\n",
       "    } else {\n",
       "      loadScript(\"vega\")\n",
       "        .then(() => loadScript(\"vega-lite\"))\n",
       "        .then(() => loadScript(\"vega-embed\"))\n",
       "        .catch(showError)\n",
       "        .then(() => displayChart(vegaEmbed));\n",
       "    }\n",
       "  })({\"config\": {\"view\": {\"continuousWidth\": 400, \"continuousHeight\": 300}}, \"layer\": [{\"mark\": {\"type\": \"bar\", \"color\": \"firebrick\", \"opacity\": 0.7}, \"encoding\": {\"opacity\": {\"type\": \"nominal\", \"field\": \"Fallecimientos confirmados diarios\", \"legend\": {\"title\": \"\"}}, \"tooltip\": [{\"type\": \"nominal\", \"field\": \"Dates\"}, {\"type\": \"quantitative\", \"field\": \"New_deaths\"}], \"x\": {\"type\": \"nominal\", \"axis\": {\"title\": \"Fecha (a\\u00f1o-mes-d\\u00eda)\"}, \"field\": \"Dates\"}, \"y\": {\"type\": \"quantitative\", \"axis\": {\"title\": \"Fallecimientos confirmados diarios\"}, \"field\": \"New_deaths\"}}}, {\"mark\": {\"type\": \"line\", \"color\": \"firebrick\", \"point\": {\"filled\": true, \"fill\": \"firebrick\"}}, \"encoding\": {\"shape\": {\"type\": \"nominal\", \"field\": \"Promedio m\\u00f3vil \\u00faltimos 7 d\\u00edas\", \"legend\": {\"title\": \"\"}}, \"x\": {\"type\": \"nominal\", \"axis\": {\"title\": \"Fecha (a\\u00f1o-mes-d\\u00eda)\"}, \"field\": \"Dates\"}, \"y\": {\"type\": \"quantitative\", \"field\": \"Rolling\"}}}], \"data\": {\"name\": \"data-004028943338479ad2ab2be171f04fed\"}, \"title\": \"Covid-19 en Chile: Fallecimientos confirmados diarios en Valpara\\u00edso\", \"width\": 600, \"$schema\": \"https://vega.github.io/schema/vega-lite/v4.8.1.json\", \"datasets\": {\"data-004028943338479ad2ab2be171f04fed\": [{\"Dates\": \"2020-03-25\", \"New_deaths\": 0, \"Rolling\": null, \"Fallecimientos confirmados diarios\": \"Fallecimientos confirmados diarios\", \"Promedio m\\u00f3vil \\u00faltimos 7 d\\u00edas\": \"Promedio m\\u00f3vil \\u00faltimos 7 d\\u00edas\"}, {\"Dates\": \"2020-03-26\", \"New_deaths\": 0, \"Rolling\": null, \"Fallecimientos confirmados diarios\": \"Fallecimientos confirmados diarios\", \"Promedio m\\u00f3vil \\u00faltimos 7 d\\u00edas\": \"Promedio m\\u00f3vil \\u00faltimos 7 d\\u00edas\"}, {\"Dates\": \"2020-03-27\", \"New_deaths\": 0, \"Rolling\": null, \"Fallecimientos confirmados diarios\": \"Fallecimientos confirmados diarios\", \"Promedio m\\u00f3vil \\u00faltimos 7 d\\u00edas\": \"Promedio m\\u00f3vil \\u00faltimos 7 d\\u00edas\"}, {\"Dates\": \"2020-03-28\", \"New_deaths\": 0, \"Rolling\": null, \"Fallecimientos confirmados diarios\": \"Fallecimientos confirmados diarios\", \"Promedio m\\u00f3vil \\u00faltimos 7 d\\u00edas\": \"Promedio m\\u00f3vil \\u00faltimos 7 d\\u00edas\"}, {\"Dates\": \"2020-03-29\", \"New_deaths\": 0, \"Rolling\": null, \"Fallecimientos confirmados diarios\": \"Fallecimientos confirmados diarios\", \"Promedio m\\u00f3vil \\u00faltimos 7 d\\u00edas\": \"Promedio m\\u00f3vil \\u00faltimos 7 d\\u00edas\"}, {\"Dates\": \"2020-03-30\", \"New_deaths\": 0, \"Rolling\": null, \"Fallecimientos confirmados diarios\": \"Fallecimientos confirmados diarios\", \"Promedio m\\u00f3vil \\u00faltimos 7 d\\u00edas\": \"Promedio m\\u00f3vil \\u00faltimos 7 d\\u00edas\"}, {\"Dates\": \"2020-03-31\", \"New_deaths\": 1, \"Rolling\": 0.14285714285714285, \"Fallecimientos confirmados diarios\": \"Fallecimientos confirmados diarios\", \"Promedio m\\u00f3vil \\u00faltimos 7 d\\u00edas\": \"Promedio m\\u00f3vil \\u00faltimos 7 d\\u00edas\"}, {\"Dates\": \"2020-04-01\", \"New_deaths\": 0, \"Rolling\": 0.14285714285714285, \"Fallecimientos confirmados diarios\": \"Fallecimientos confirmados diarios\", \"Promedio m\\u00f3vil \\u00faltimos 7 d\\u00edas\": \"Promedio m\\u00f3vil \\u00faltimos 7 d\\u00edas\"}, {\"Dates\": \"2020-04-02\", \"New_deaths\": 0, \"Rolling\": 0.14285714285714285, \"Fallecimientos confirmados diarios\": \"Fallecimientos confirmados diarios\", \"Promedio m\\u00f3vil \\u00faltimos 7 d\\u00edas\": \"Promedio m\\u00f3vil \\u00faltimos 7 d\\u00edas\"}, {\"Dates\": \"2020-04-03\", \"New_deaths\": 0, \"Rolling\": 0.14285714285714285, \"Fallecimientos confirmados diarios\": \"Fallecimientos confirmados diarios\", \"Promedio m\\u00f3vil \\u00faltimos 7 d\\u00edas\": \"Promedio m\\u00f3vil \\u00faltimos 7 d\\u00edas\"}, {\"Dates\": \"2020-04-04\", \"New_deaths\": 0, \"Rolling\": 0.14285714285714285, \"Fallecimientos confirmados diarios\": \"Fallecimientos confirmados diarios\", \"Promedio m\\u00f3vil \\u00faltimos 7 d\\u00edas\": \"Promedio m\\u00f3vil \\u00faltimos 7 d\\u00edas\"}, {\"Dates\": \"2020-04-05\", \"New_deaths\": 0, \"Rolling\": 0.14285714285714285, \"Fallecimientos confirmados diarios\": \"Fallecimientos confirmados diarios\", \"Promedio m\\u00f3vil \\u00faltimos 7 d\\u00edas\": \"Promedio m\\u00f3vil \\u00faltimos 7 d\\u00edas\"}, {\"Dates\": \"2020-04-06\", \"New_deaths\": 0, \"Rolling\": 0.14285714285714285, \"Fallecimientos confirmados diarios\": \"Fallecimientos confirmados diarios\", \"Promedio m\\u00f3vil \\u00faltimos 7 d\\u00edas\": \"Promedio m\\u00f3vil \\u00faltimos 7 d\\u00edas\"}, {\"Dates\": \"2020-04-07\", \"New_deaths\": 0, \"Rolling\": 0.0, \"Fallecimientos confirmados diarios\": \"Fallecimientos confirmados diarios\", \"Promedio m\\u00f3vil \\u00faltimos 7 d\\u00edas\": \"Promedio m\\u00f3vil \\u00faltimos 7 d\\u00edas\"}, {\"Dates\": \"2020-04-08\", \"New_deaths\": 1, \"Rolling\": 0.14285714285714285, \"Fallecimientos confirmados diarios\": \"Fallecimientos confirmados diarios\", \"Promedio m\\u00f3vil \\u00faltimos 7 d\\u00edas\": \"Promedio m\\u00f3vil \\u00faltimos 7 d\\u00edas\"}, {\"Dates\": \"2020-04-09\", \"New_deaths\": 0, \"Rolling\": 0.14285714285714285, \"Fallecimientos confirmados diarios\": \"Fallecimientos confirmados diarios\", \"Promedio m\\u00f3vil \\u00faltimos 7 d\\u00edas\": \"Promedio m\\u00f3vil \\u00faltimos 7 d\\u00edas\"}, {\"Dates\": \"2020-04-10\", \"New_deaths\": 0, \"Rolling\": 0.14285714285714285, \"Fallecimientos confirmados diarios\": \"Fallecimientos confirmados diarios\", \"Promedio m\\u00f3vil \\u00faltimos 7 d\\u00edas\": \"Promedio m\\u00f3vil \\u00faltimos 7 d\\u00edas\"}, {\"Dates\": \"2020-04-11\", \"New_deaths\": 0, \"Rolling\": 0.14285714285714285, \"Fallecimientos confirmados diarios\": \"Fallecimientos confirmados diarios\", \"Promedio m\\u00f3vil \\u00faltimos 7 d\\u00edas\": \"Promedio m\\u00f3vil \\u00faltimos 7 d\\u00edas\"}, {\"Dates\": \"2020-04-12\", \"New_deaths\": 0, \"Rolling\": 0.14285714285714285, \"Fallecimientos confirmados diarios\": \"Fallecimientos confirmados diarios\", \"Promedio m\\u00f3vil \\u00faltimos 7 d\\u00edas\": \"Promedio m\\u00f3vil \\u00faltimos 7 d\\u00edas\"}, {\"Dates\": \"2020-04-13\", \"New_deaths\": 0, \"Rolling\": 0.14285714285714285, \"Fallecimientos confirmados diarios\": \"Fallecimientos confirmados diarios\", \"Promedio m\\u00f3vil \\u00faltimos 7 d\\u00edas\": \"Promedio m\\u00f3vil \\u00faltimos 7 d\\u00edas\"}, {\"Dates\": \"2020-04-14\", \"New_deaths\": 0, \"Rolling\": 0.14285714285714285, \"Fallecimientos confirmados diarios\": \"Fallecimientos confirmados diarios\", \"Promedio m\\u00f3vil \\u00faltimos 7 d\\u00edas\": \"Promedio m\\u00f3vil \\u00faltimos 7 d\\u00edas\"}, {\"Dates\": \"2020-04-15\", \"New_deaths\": 0, \"Rolling\": 0.0, \"Fallecimientos confirmados diarios\": \"Fallecimientos confirmados diarios\", \"Promedio m\\u00f3vil \\u00faltimos 7 d\\u00edas\": \"Promedio m\\u00f3vil \\u00faltimos 7 d\\u00edas\"}, {\"Dates\": \"2020-04-16\", \"New_deaths\": 2, \"Rolling\": 0.2857142857142857, \"Fallecimientos confirmados diarios\": \"Fallecimientos confirmados diarios\", \"Promedio m\\u00f3vil \\u00faltimos 7 d\\u00edas\": \"Promedio m\\u00f3vil \\u00faltimos 7 d\\u00edas\"}, {\"Dates\": \"2020-04-17\", \"New_deaths\": 0, \"Rolling\": 0.2857142857142857, \"Fallecimientos confirmados diarios\": \"Fallecimientos confirmados diarios\", \"Promedio m\\u00f3vil \\u00faltimos 7 d\\u00edas\": \"Promedio m\\u00f3vil \\u00faltimos 7 d\\u00edas\"}, {\"Dates\": \"2020-04-18\", \"New_deaths\": 0, \"Rolling\": 0.2857142857142857, \"Fallecimientos confirmados diarios\": \"Fallecimientos confirmados diarios\", \"Promedio m\\u00f3vil \\u00faltimos 7 d\\u00edas\": \"Promedio m\\u00f3vil \\u00faltimos 7 d\\u00edas\"}, {\"Dates\": \"2020-04-19\", \"New_deaths\": 1, \"Rolling\": 0.42857142857142855, \"Fallecimientos confirmados diarios\": \"Fallecimientos confirmados diarios\", \"Promedio m\\u00f3vil \\u00faltimos 7 d\\u00edas\": \"Promedio m\\u00f3vil \\u00faltimos 7 d\\u00edas\"}, {\"Dates\": \"2020-04-20\", \"New_deaths\": 0, \"Rolling\": 0.42857142857142855, \"Fallecimientos confirmados diarios\": \"Fallecimientos confirmados diarios\", \"Promedio m\\u00f3vil \\u00faltimos 7 d\\u00edas\": \"Promedio m\\u00f3vil \\u00faltimos 7 d\\u00edas\"}, {\"Dates\": \"2020-04-21\", \"New_deaths\": 1, \"Rolling\": 0.5714285714285714, \"Fallecimientos confirmados diarios\": \"Fallecimientos confirmados diarios\", \"Promedio m\\u00f3vil \\u00faltimos 7 d\\u00edas\": \"Promedio m\\u00f3vil \\u00faltimos 7 d\\u00edas\"}, {\"Dates\": \"2020-04-22\", \"New_deaths\": 1, \"Rolling\": 0.7142857142857143, \"Fallecimientos confirmados diarios\": \"Fallecimientos confirmados diarios\", \"Promedio m\\u00f3vil \\u00faltimos 7 d\\u00edas\": \"Promedio m\\u00f3vil \\u00faltimos 7 d\\u00edas\"}, {\"Dates\": \"2020-04-23\", \"New_deaths\": 0, \"Rolling\": 0.42857142857142855, \"Fallecimientos confirmados diarios\": \"Fallecimientos confirmados diarios\", \"Promedio m\\u00f3vil \\u00faltimos 7 d\\u00edas\": \"Promedio m\\u00f3vil \\u00faltimos 7 d\\u00edas\"}, {\"Dates\": \"2020-04-24\", \"New_deaths\": 1, \"Rolling\": 0.5714285714285714, \"Fallecimientos confirmados diarios\": \"Fallecimientos confirmados diarios\", \"Promedio m\\u00f3vil \\u00faltimos 7 d\\u00edas\": \"Promedio m\\u00f3vil \\u00faltimos 7 d\\u00edas\"}, {\"Dates\": \"2020-04-25\", \"New_deaths\": 1, \"Rolling\": 0.7142857142857143, \"Fallecimientos confirmados diarios\": \"Fallecimientos confirmados diarios\", \"Promedio m\\u00f3vil \\u00faltimos 7 d\\u00edas\": \"Promedio m\\u00f3vil \\u00faltimos 7 d\\u00edas\"}, {\"Dates\": \"2020-04-26\", \"New_deaths\": 0, \"Rolling\": 0.5714285714285714, \"Fallecimientos confirmados diarios\": \"Fallecimientos confirmados diarios\", \"Promedio m\\u00f3vil \\u00faltimos 7 d\\u00edas\": \"Promedio m\\u00f3vil \\u00faltimos 7 d\\u00edas\"}, {\"Dates\": \"2020-04-27\", \"New_deaths\": 0, \"Rolling\": 0.5714285714285714, \"Fallecimientos confirmados diarios\": \"Fallecimientos confirmados diarios\", \"Promedio m\\u00f3vil \\u00faltimos 7 d\\u00edas\": \"Promedio m\\u00f3vil \\u00faltimos 7 d\\u00edas\"}, {\"Dates\": \"2020-04-28\", \"New_deaths\": 1, \"Rolling\": 0.5714285714285714, \"Fallecimientos confirmados diarios\": \"Fallecimientos confirmados diarios\", \"Promedio m\\u00f3vil \\u00faltimos 7 d\\u00edas\": \"Promedio m\\u00f3vil \\u00faltimos 7 d\\u00edas\"}, {\"Dates\": \"2020-04-29\", \"New_deaths\": 2, \"Rolling\": 0.7142857142857143, \"Fallecimientos confirmados diarios\": \"Fallecimientos confirmados diarios\", \"Promedio m\\u00f3vil \\u00faltimos 7 d\\u00edas\": \"Promedio m\\u00f3vil \\u00faltimos 7 d\\u00edas\"}, {\"Dates\": \"2020-04-30\", \"New_deaths\": 0, \"Rolling\": 0.7142857142857143, \"Fallecimientos confirmados diarios\": \"Fallecimientos confirmados diarios\", \"Promedio m\\u00f3vil \\u00faltimos 7 d\\u00edas\": \"Promedio m\\u00f3vil \\u00faltimos 7 d\\u00edas\"}, {\"Dates\": \"2020-05-01\", \"New_deaths\": 0, \"Rolling\": 0.5714285714285714, \"Fallecimientos confirmados diarios\": \"Fallecimientos confirmados diarios\", \"Promedio m\\u00f3vil \\u00faltimos 7 d\\u00edas\": \"Promedio m\\u00f3vil \\u00faltimos 7 d\\u00edas\"}, {\"Dates\": \"2020-05-02\", \"New_deaths\": 1, \"Rolling\": 0.5714285714285714, \"Fallecimientos confirmados diarios\": \"Fallecimientos confirmados diarios\", \"Promedio m\\u00f3vil \\u00faltimos 7 d\\u00edas\": \"Promedio m\\u00f3vil \\u00faltimos 7 d\\u00edas\"}, {\"Dates\": \"2020-05-03\", \"New_deaths\": 0, \"Rolling\": 0.5714285714285714, \"Fallecimientos confirmados diarios\": \"Fallecimientos confirmados diarios\", \"Promedio m\\u00f3vil \\u00faltimos 7 d\\u00edas\": \"Promedio m\\u00f3vil \\u00faltimos 7 d\\u00edas\"}, {\"Dates\": \"2020-05-04\", \"New_deaths\": 0, \"Rolling\": 0.5714285714285714, \"Fallecimientos confirmados diarios\": \"Fallecimientos confirmados diarios\", \"Promedio m\\u00f3vil \\u00faltimos 7 d\\u00edas\": \"Promedio m\\u00f3vil \\u00faltimos 7 d\\u00edas\"}, {\"Dates\": \"2020-05-05\", \"New_deaths\": 2, \"Rolling\": 0.7142857142857143, \"Fallecimientos confirmados diarios\": \"Fallecimientos confirmados diarios\", \"Promedio m\\u00f3vil \\u00faltimos 7 d\\u00edas\": \"Promedio m\\u00f3vil \\u00faltimos 7 d\\u00edas\"}, {\"Dates\": \"2020-05-06\", \"New_deaths\": 1, \"Rolling\": 0.5714285714285714, \"Fallecimientos confirmados diarios\": \"Fallecimientos confirmados diarios\", \"Promedio m\\u00f3vil \\u00faltimos 7 d\\u00edas\": \"Promedio m\\u00f3vil \\u00faltimos 7 d\\u00edas\"}, {\"Dates\": \"2020-05-07\", \"New_deaths\": 1, \"Rolling\": 0.7142857142857143, \"Fallecimientos confirmados diarios\": \"Fallecimientos confirmados diarios\", \"Promedio m\\u00f3vil \\u00faltimos 7 d\\u00edas\": \"Promedio m\\u00f3vil \\u00faltimos 7 d\\u00edas\"}, {\"Dates\": \"2020-05-08\", \"New_deaths\": 1, \"Rolling\": 0.8571428571428571, \"Fallecimientos confirmados diarios\": \"Fallecimientos confirmados diarios\", \"Promedio m\\u00f3vil \\u00faltimos 7 d\\u00edas\": \"Promedio m\\u00f3vil \\u00faltimos 7 d\\u00edas\"}, {\"Dates\": \"2020-05-09\", \"New_deaths\": 1, \"Rolling\": 0.8571428571428571, \"Fallecimientos confirmados diarios\": \"Fallecimientos confirmados diarios\", \"Promedio m\\u00f3vil \\u00faltimos 7 d\\u00edas\": \"Promedio m\\u00f3vil \\u00faltimos 7 d\\u00edas\"}, {\"Dates\": \"2020-05-10\", \"New_deaths\": 1, \"Rolling\": 1.0, \"Fallecimientos confirmados diarios\": \"Fallecimientos confirmados diarios\", \"Promedio m\\u00f3vil \\u00faltimos 7 d\\u00edas\": \"Promedio m\\u00f3vil \\u00faltimos 7 d\\u00edas\"}, {\"Dates\": \"2020-05-11\", \"New_deaths\": 1, \"Rolling\": 1.1428571428571428, \"Fallecimientos confirmados diarios\": \"Fallecimientos confirmados diarios\", \"Promedio m\\u00f3vil \\u00faltimos 7 d\\u00edas\": \"Promedio m\\u00f3vil \\u00faltimos 7 d\\u00edas\"}, {\"Dates\": \"2020-05-12\", \"New_deaths\": 2, \"Rolling\": 1.1428571428571428, \"Fallecimientos confirmados diarios\": \"Fallecimientos confirmados diarios\", \"Promedio m\\u00f3vil \\u00faltimos 7 d\\u00edas\": \"Promedio m\\u00f3vil \\u00faltimos 7 d\\u00edas\"}, {\"Dates\": \"2020-05-13\", \"New_deaths\": 1, \"Rolling\": 1.1428571428571428, \"Fallecimientos confirmados diarios\": \"Fallecimientos confirmados diarios\", \"Promedio m\\u00f3vil \\u00faltimos 7 d\\u00edas\": \"Promedio m\\u00f3vil \\u00faltimos 7 d\\u00edas\"}]}}, {\"mode\": \"vega-lite\"});\n",
       "</script>"
      ],
      "text/plain": [
       "alt.LayerChart(...)"
      ]
     },
     "execution_count": 59,
     "metadata": {},
     "output_type": "execute_result"
    }
   ],
   "source": [
    "#hide_input\n",
    "bars, line = my_deaths_plot(region)\n",
    "(bars + line).properties(\n",
    "    title=f'Covid-19 en Chile: Fallecimientos confirmados diarios en {region}',\n",
    "    width=600\n",
    ")"
   ]
  },
  {
   "cell_type": "markdown",
   "metadata": {},
   "source": [
    "## Metropolitana"
   ]
  },
  {
   "cell_type": "code",
   "execution_count": 60,
   "metadata": {
    "scrolled": true
   },
   "outputs": [],
   "source": [
    "#hide\n",
    "region = \"Metropolitana\""
   ]
  },
  {
   "cell_type": "code",
   "execution_count": 61,
   "metadata": {},
   "outputs": [
    {
     "data": {
      "text/html": [
       "\n",
       "<div id=\"altair-viz-6701418248614aaeb214480120a4f72c\"></div>\n",
       "<script type=\"text/javascript\">\n",
       "  (function(spec, embedOpt){\n",
       "    let outputDiv = document.currentScript.previousElementSibling;\n",
       "    if (outputDiv.id !== \"altair-viz-6701418248614aaeb214480120a4f72c\") {\n",
       "      outputDiv = document.getElementById(\"altair-viz-6701418248614aaeb214480120a4f72c\");\n",
       "    }\n",
       "    const paths = {\n",
       "      \"vega\": \"https://cdn.jsdelivr.net/npm//vega@5?noext\",\n",
       "      \"vega-lib\": \"https://cdn.jsdelivr.net/npm//vega-lib?noext\",\n",
       "      \"vega-lite\": \"https://cdn.jsdelivr.net/npm//vega-lite@4.8.1?noext\",\n",
       "      \"vega-embed\": \"https://cdn.jsdelivr.net/npm//vega-embed@6?noext\",\n",
       "    };\n",
       "\n",
       "    function loadScript(lib) {\n",
       "      return new Promise(function(resolve, reject) {\n",
       "        var s = document.createElement('script');\n",
       "        s.src = paths[lib];\n",
       "        s.async = true;\n",
       "        s.onload = () => resolve(paths[lib]);\n",
       "        s.onerror = () => reject(`Error loading script: ${paths[lib]}`);\n",
       "        document.getElementsByTagName(\"head\")[0].appendChild(s);\n",
       "      });\n",
       "    }\n",
       "\n",
       "    function showError(err) {\n",
       "      outputDiv.innerHTML = `<div class=\"error\" style=\"color:red;\">${err}</div>`;\n",
       "      throw err;\n",
       "    }\n",
       "\n",
       "    function displayChart(vegaEmbed) {\n",
       "      vegaEmbed(outputDiv, spec, embedOpt)\n",
       "        .catch(err => showError(`Javascript Error: ${err.message}<br>This usually means there's a typo in your chart specification. See the javascript console for the full traceback.`));\n",
       "    }\n",
       "\n",
       "    if(typeof define === \"function\" && define.amd) {\n",
       "      requirejs.config({paths});\n",
       "      require([\"vega-embed\"], displayChart, err => showError(`Error loading script: ${err.message}`));\n",
       "    } else if (typeof vegaEmbed === \"function\") {\n",
       "      displayChart(vegaEmbed);\n",
       "    } else {\n",
       "      loadScript(\"vega\")\n",
       "        .then(() => loadScript(\"vega-lite\"))\n",
       "        .then(() => loadScript(\"vega-embed\"))\n",
       "        .catch(showError)\n",
       "        .then(() => displayChart(vegaEmbed));\n",
       "    }\n",
       "  })({\"config\": {\"view\": {\"continuousWidth\": 400, \"continuousHeight\": 300}}, \"layer\": [{\"mark\": {\"type\": \"bar\", \"color\": \"firebrick\", \"opacity\": 0.7}, \"encoding\": {\"opacity\": {\"type\": \"nominal\", \"field\": \"Fallecimientos confirmados diarios\", \"legend\": {\"title\": \"\"}}, \"tooltip\": [{\"type\": \"nominal\", \"field\": \"Dates\"}, {\"type\": \"quantitative\", \"field\": \"New_deaths\"}], \"x\": {\"type\": \"nominal\", \"axis\": {\"title\": \"Fecha (a\\u00f1o-mes-d\\u00eda)\"}, \"field\": \"Dates\"}, \"y\": {\"type\": \"quantitative\", \"axis\": {\"title\": \"Fallecimientos confirmados diarios\"}, \"field\": \"New_deaths\"}}}, {\"mark\": {\"type\": \"line\", \"color\": \"firebrick\", \"point\": {\"filled\": true, \"fill\": \"firebrick\"}}, \"encoding\": {\"shape\": {\"type\": \"nominal\", \"field\": \"Promedio m\\u00f3vil \\u00faltimos 7 d\\u00edas\", \"legend\": {\"title\": \"\"}}, \"x\": {\"type\": \"nominal\", \"axis\": {\"title\": \"Fecha (a\\u00f1o-mes-d\\u00eda)\"}, \"field\": \"Dates\"}, \"y\": {\"type\": \"quantitative\", \"field\": \"Rolling\"}}}], \"data\": {\"name\": \"data-506a1168756897dd36dec165e01b8c7e\"}, \"title\": \"Covid-19 en Chile: Fallecimientos confirmados diarios en Metropolitana\", \"width\": 600, \"$schema\": \"https://vega.github.io/schema/vega-lite/v4.8.1.json\", \"datasets\": {\"data-506a1168756897dd36dec165e01b8c7e\": [{\"Dates\": \"2020-03-25\", \"New_deaths\": 0, \"Rolling\": null, \"Fallecimientos confirmados diarios\": \"Fallecimientos confirmados diarios\", \"Promedio m\\u00f3vil \\u00faltimos 7 d\\u00edas\": \"Promedio m\\u00f3vil \\u00faltimos 7 d\\u00edas\"}, {\"Dates\": \"2020-03-26\", \"New_deaths\": 1, \"Rolling\": null, \"Fallecimientos confirmados diarios\": \"Fallecimientos confirmados diarios\", \"Promedio m\\u00f3vil \\u00faltimos 7 d\\u00edas\": \"Promedio m\\u00f3vil \\u00faltimos 7 d\\u00edas\"}, {\"Dates\": \"2020-03-27\", \"New_deaths\": 0, \"Rolling\": null, \"Fallecimientos confirmados diarios\": \"Fallecimientos confirmados diarios\", \"Promedio m\\u00f3vil \\u00faltimos 7 d\\u00edas\": \"Promedio m\\u00f3vil \\u00faltimos 7 d\\u00edas\"}, {\"Dates\": \"2020-03-28\", \"New_deaths\": 0, \"Rolling\": null, \"Fallecimientos confirmados diarios\": \"Fallecimientos confirmados diarios\", \"Promedio m\\u00f3vil \\u00faltimos 7 d\\u00edas\": \"Promedio m\\u00f3vil \\u00faltimos 7 d\\u00edas\"}, {\"Dates\": \"2020-03-29\", \"New_deaths\": 0, \"Rolling\": null, \"Fallecimientos confirmados diarios\": \"Fallecimientos confirmados diarios\", \"Promedio m\\u00f3vil \\u00faltimos 7 d\\u00edas\": \"Promedio m\\u00f3vil \\u00faltimos 7 d\\u00edas\"}, {\"Dates\": \"2020-03-30\", \"New_deaths\": 0, \"Rolling\": null, \"Fallecimientos confirmados diarios\": \"Fallecimientos confirmados diarios\", \"Promedio m\\u00f3vil \\u00faltimos 7 d\\u00edas\": \"Promedio m\\u00f3vil \\u00faltimos 7 d\\u00edas\"}, {\"Dates\": \"2020-03-31\", \"New_deaths\": 1, \"Rolling\": 0.2857142857142857, \"Fallecimientos confirmados diarios\": \"Fallecimientos confirmados diarios\", \"Promedio m\\u00f3vil \\u00faltimos 7 d\\u00edas\": \"Promedio m\\u00f3vil \\u00faltimos 7 d\\u00edas\"}, {\"Dates\": \"2020-04-01\", \"New_deaths\": 1, \"Rolling\": 0.42857142857142855, \"Fallecimientos confirmados diarios\": \"Fallecimientos confirmados diarios\", \"Promedio m\\u00f3vil \\u00faltimos 7 d\\u00edas\": \"Promedio m\\u00f3vil \\u00faltimos 7 d\\u00edas\"}, {\"Dates\": \"2020-04-02\", \"New_deaths\": 1, \"Rolling\": 0.42857142857142855, \"Fallecimientos confirmados diarios\": \"Fallecimientos confirmados diarios\", \"Promedio m\\u00f3vil \\u00faltimos 7 d\\u00edas\": \"Promedio m\\u00f3vil \\u00faltimos 7 d\\u00edas\"}, {\"Dates\": \"2020-04-03\", \"New_deaths\": 2, \"Rolling\": 0.7142857142857143, \"Fallecimientos confirmados diarios\": \"Fallecimientos confirmados diarios\", \"Promedio m\\u00f3vil \\u00faltimos 7 d\\u00edas\": \"Promedio m\\u00f3vil \\u00faltimos 7 d\\u00edas\"}, {\"Dates\": \"2020-04-04\", \"New_deaths\": 1, \"Rolling\": 0.8571428571428571, \"Fallecimientos confirmados diarios\": \"Fallecimientos confirmados diarios\", \"Promedio m\\u00f3vil \\u00faltimos 7 d\\u00edas\": \"Promedio m\\u00f3vil \\u00faltimos 7 d\\u00edas\"}, {\"Dates\": \"2020-04-05\", \"New_deaths\": 1, \"Rolling\": 1.0, \"Fallecimientos confirmados diarios\": \"Fallecimientos confirmados diarios\", \"Promedio m\\u00f3vil \\u00faltimos 7 d\\u00edas\": \"Promedio m\\u00f3vil \\u00faltimos 7 d\\u00edas\"}, {\"Dates\": \"2020-04-06\", \"New_deaths\": 0, \"Rolling\": 1.0, \"Fallecimientos confirmados diarios\": \"Fallecimientos confirmados diarios\", \"Promedio m\\u00f3vil \\u00faltimos 7 d\\u00edas\": \"Promedio m\\u00f3vil \\u00faltimos 7 d\\u00edas\"}, {\"Dates\": \"2020-04-07\", \"New_deaths\": 2, \"Rolling\": 1.1428571428571428, \"Fallecimientos confirmados diarios\": \"Fallecimientos confirmados diarios\", \"Promedio m\\u00f3vil \\u00faltimos 7 d\\u00edas\": \"Promedio m\\u00f3vil \\u00faltimos 7 d\\u00edas\"}, {\"Dates\": \"2020-04-08\", \"New_deaths\": 2, \"Rolling\": 1.2857142857142858, \"Fallecimientos confirmados diarios\": \"Fallecimientos confirmados diarios\", \"Promedio m\\u00f3vil \\u00faltimos 7 d\\u00edas\": \"Promedio m\\u00f3vil \\u00faltimos 7 d\\u00edas\"}, {\"Dates\": \"2020-04-09\", \"New_deaths\": 7, \"Rolling\": 2.142857142857143, \"Fallecimientos confirmados diarios\": \"Fallecimientos confirmados diarios\", \"Promedio m\\u00f3vil \\u00faltimos 7 d\\u00edas\": \"Promedio m\\u00f3vil \\u00faltimos 7 d\\u00edas\"}, {\"Dates\": \"2020-04-10\", \"New_deaths\": 8, \"Rolling\": 3.0, \"Fallecimientos confirmados diarios\": \"Fallecimientos confirmados diarios\", \"Promedio m\\u00f3vil \\u00faltimos 7 d\\u00edas\": \"Promedio m\\u00f3vil \\u00faltimos 7 d\\u00edas\"}, {\"Dates\": \"2020-04-11\", \"New_deaths\": 3, \"Rolling\": 3.2857142857142856, \"Fallecimientos confirmados diarios\": \"Fallecimientos confirmados diarios\", \"Promedio m\\u00f3vil \\u00faltimos 7 d\\u00edas\": \"Promedio m\\u00f3vil \\u00faltimos 7 d\\u00edas\"}, {\"Dates\": \"2020-04-12\", \"New_deaths\": 3, \"Rolling\": 3.5714285714285716, \"Fallecimientos confirmados diarios\": \"Fallecimientos confirmados diarios\", \"Promedio m\\u00f3vil \\u00faltimos 7 d\\u00edas\": \"Promedio m\\u00f3vil \\u00faltimos 7 d\\u00edas\"}, {\"Dates\": \"2020-04-13\", \"New_deaths\": 1, \"Rolling\": 3.7142857142857144, \"Fallecimientos confirmados diarios\": \"Fallecimientos confirmados diarios\", \"Promedio m\\u00f3vil \\u00faltimos 7 d\\u00edas\": \"Promedio m\\u00f3vil \\u00faltimos 7 d\\u00edas\"}, {\"Dates\": \"2020-04-14\", \"New_deaths\": 4, \"Rolling\": 4.0, \"Fallecimientos confirmados diarios\": \"Fallecimientos confirmados diarios\", \"Promedio m\\u00f3vil \\u00faltimos 7 d\\u00edas\": \"Promedio m\\u00f3vil \\u00faltimos 7 d\\u00edas\"}, {\"Dates\": \"2020-04-15\", \"New_deaths\": 1, \"Rolling\": 3.857142857142857, \"Fallecimientos confirmados diarios\": \"Fallecimientos confirmados diarios\", \"Promedio m\\u00f3vil \\u00faltimos 7 d\\u00edas\": \"Promedio m\\u00f3vil \\u00faltimos 7 d\\u00edas\"}, {\"Dates\": \"2020-04-16\", \"New_deaths\": 7, \"Rolling\": 3.857142857142857, \"Fallecimientos confirmados diarios\": \"Fallecimientos confirmados diarios\", \"Promedio m\\u00f3vil \\u00faltimos 7 d\\u00edas\": \"Promedio m\\u00f3vil \\u00faltimos 7 d\\u00edas\"}, {\"Dates\": \"2020-04-17\", \"New_deaths\": 3, \"Rolling\": 3.142857142857143, \"Fallecimientos confirmados diarios\": \"Fallecimientos confirmados diarios\", \"Promedio m\\u00f3vil \\u00faltimos 7 d\\u00edas\": \"Promedio m\\u00f3vil \\u00faltimos 7 d\\u00edas\"}, {\"Dates\": \"2020-04-18\", \"New_deaths\": 7, \"Rolling\": 3.7142857142857144, \"Fallecimientos confirmados diarios\": \"Fallecimientos confirmados diarios\", \"Promedio m\\u00f3vil \\u00faltimos 7 d\\u00edas\": \"Promedio m\\u00f3vil \\u00faltimos 7 d\\u00edas\"}, {\"Dates\": \"2020-04-19\", \"New_deaths\": 5, \"Rolling\": 4.0, \"Fallecimientos confirmados diarios\": \"Fallecimientos confirmados diarios\", \"Promedio m\\u00f3vil \\u00faltimos 7 d\\u00edas\": \"Promedio m\\u00f3vil \\u00faltimos 7 d\\u00edas\"}, {\"Dates\": \"2020-04-20\", \"New_deaths\": 4, \"Rolling\": 4.428571428571429, \"Fallecimientos confirmados diarios\": \"Fallecimientos confirmados diarios\", \"Promedio m\\u00f3vil \\u00faltimos 7 d\\u00edas\": \"Promedio m\\u00f3vil \\u00faltimos 7 d\\u00edas\"}, {\"Dates\": \"2020-04-21\", \"New_deaths\": 2, \"Rolling\": 4.142857142857143, \"Fallecimientos confirmados diarios\": \"Fallecimientos confirmados diarios\", \"Promedio m\\u00f3vil \\u00faltimos 7 d\\u00edas\": \"Promedio m\\u00f3vil \\u00faltimos 7 d\\u00edas\"}, {\"Dates\": \"2020-04-22\", \"New_deaths\": 9, \"Rolling\": 5.285714285714286, \"Fallecimientos confirmados diarios\": \"Fallecimientos confirmados diarios\", \"Promedio m\\u00f3vil \\u00faltimos 7 d\\u00edas\": \"Promedio m\\u00f3vil \\u00faltimos 7 d\\u00edas\"}, {\"Dates\": \"2020-04-23\", \"New_deaths\": 7, \"Rolling\": 5.285714285714286, \"Fallecimientos confirmados diarios\": \"Fallecimientos confirmados diarios\", \"Promedio m\\u00f3vil \\u00faltimos 7 d\\u00edas\": \"Promedio m\\u00f3vil \\u00faltimos 7 d\\u00edas\"}, {\"Dates\": \"2020-04-24\", \"New_deaths\": 1, \"Rolling\": 5.0, \"Fallecimientos confirmados diarios\": \"Fallecimientos confirmados diarios\", \"Promedio m\\u00f3vil \\u00faltimos 7 d\\u00edas\": \"Promedio m\\u00f3vil \\u00faltimos 7 d\\u00edas\"}, {\"Dates\": \"2020-04-25\", \"New_deaths\": 3, \"Rolling\": 4.428571428571429, \"Fallecimientos confirmados diarios\": \"Fallecimientos confirmados diarios\", \"Promedio m\\u00f3vil \\u00faltimos 7 d\\u00edas\": \"Promedio m\\u00f3vil \\u00faltimos 7 d\\u00edas\"}, {\"Dates\": \"2020-04-26\", \"New_deaths\": 2, \"Rolling\": 4.0, \"Fallecimientos confirmados diarios\": \"Fallecimientos confirmados diarios\", \"Promedio m\\u00f3vil \\u00faltimos 7 d\\u00edas\": \"Promedio m\\u00f3vil \\u00faltimos 7 d\\u00edas\"}, {\"Dates\": \"2020-04-27\", \"New_deaths\": 4, \"Rolling\": 4.0, \"Fallecimientos confirmados diarios\": \"Fallecimientos confirmados diarios\", \"Promedio m\\u00f3vil \\u00faltimos 7 d\\u00edas\": \"Promedio m\\u00f3vil \\u00faltimos 7 d\\u00edas\"}, {\"Dates\": \"2020-04-28\", \"New_deaths\": 5, \"Rolling\": 4.428571428571429, \"Fallecimientos confirmados diarios\": \"Fallecimientos confirmados diarios\", \"Promedio m\\u00f3vil \\u00faltimos 7 d\\u00edas\": \"Promedio m\\u00f3vil \\u00faltimos 7 d\\u00edas\"}, {\"Dates\": \"2020-04-29\", \"New_deaths\": 4, \"Rolling\": 3.7142857142857144, \"Fallecimientos confirmados diarios\": \"Fallecimientos confirmados diarios\", \"Promedio m\\u00f3vil \\u00faltimos 7 d\\u00edas\": \"Promedio m\\u00f3vil \\u00faltimos 7 d\\u00edas\"}, {\"Dates\": \"2020-04-30\", \"New_deaths\": 6, \"Rolling\": 3.5714285714285716, \"Fallecimientos confirmados diarios\": \"Fallecimientos confirmados diarios\", \"Promedio m\\u00f3vil \\u00faltimos 7 d\\u00edas\": \"Promedio m\\u00f3vil \\u00faltimos 7 d\\u00edas\"}, {\"Dates\": \"2020-05-01\", \"New_deaths\": 4, \"Rolling\": 4.0, \"Fallecimientos confirmados diarios\": \"Fallecimientos confirmados diarios\", \"Promedio m\\u00f3vil \\u00faltimos 7 d\\u00edas\": \"Promedio m\\u00f3vil \\u00faltimos 7 d\\u00edas\"}, {\"Dates\": \"2020-05-02\", \"New_deaths\": 8, \"Rolling\": 4.714285714285714, \"Fallecimientos confirmados diarios\": \"Fallecimientos confirmados diarios\", \"Promedio m\\u00f3vil \\u00faltimos 7 d\\u00edas\": \"Promedio m\\u00f3vil \\u00faltimos 7 d\\u00edas\"}, {\"Dates\": \"2020-05-03\", \"New_deaths\": 13, \"Rolling\": 6.285714285714286, \"Fallecimientos confirmados diarios\": \"Fallecimientos confirmados diarios\", \"Promedio m\\u00f3vil \\u00faltimos 7 d\\u00edas\": \"Promedio m\\u00f3vil \\u00faltimos 7 d\\u00edas\"}, {\"Dates\": \"2020-05-04\", \"New_deaths\": 8, \"Rolling\": 6.857142857142857, \"Fallecimientos confirmados diarios\": \"Fallecimientos confirmados diarios\", \"Promedio m\\u00f3vil \\u00faltimos 7 d\\u00edas\": \"Promedio m\\u00f3vil \\u00faltimos 7 d\\u00edas\"}, {\"Dates\": \"2020-05-05\", \"New_deaths\": 3, \"Rolling\": 6.571428571428571, \"Fallecimientos confirmados diarios\": \"Fallecimientos confirmados diarios\", \"Promedio m\\u00f3vil \\u00faltimos 7 d\\u00edas\": \"Promedio m\\u00f3vil \\u00faltimos 7 d\\u00edas\"}, {\"Dates\": \"2020-05-06\", \"New_deaths\": 4, \"Rolling\": 6.571428571428571, \"Fallecimientos confirmados diarios\": \"Fallecimientos confirmados diarios\", \"Promedio m\\u00f3vil \\u00faltimos 7 d\\u00edas\": \"Promedio m\\u00f3vil \\u00faltimos 7 d\\u00edas\"}, {\"Dates\": \"2020-05-07\", \"New_deaths\": 2, \"Rolling\": 6.0, \"Fallecimientos confirmados diarios\": \"Fallecimientos confirmados diarios\", \"Promedio m\\u00f3vil \\u00faltimos 7 d\\u00edas\": \"Promedio m\\u00f3vil \\u00faltimos 7 d\\u00edas\"}, {\"Dates\": \"2020-05-08\", \"New_deaths\": 5, \"Rolling\": 6.142857142857143, \"Fallecimientos confirmados diarios\": \"Fallecimientos confirmados diarios\", \"Promedio m\\u00f3vil \\u00faltimos 7 d\\u00edas\": \"Promedio m\\u00f3vil \\u00faltimos 7 d\\u00edas\"}, {\"Dates\": \"2020-05-09\", \"New_deaths\": 6, \"Rolling\": 5.857142857142857, \"Fallecimientos confirmados diarios\": \"Fallecimientos confirmados diarios\", \"Promedio m\\u00f3vil \\u00faltimos 7 d\\u00edas\": \"Promedio m\\u00f3vil \\u00faltimos 7 d\\u00edas\"}, {\"Dates\": \"2020-05-10\", \"New_deaths\": 3, \"Rolling\": 4.428571428571429, \"Fallecimientos confirmados diarios\": \"Fallecimientos confirmados diarios\", \"Promedio m\\u00f3vil \\u00faltimos 7 d\\u00edas\": \"Promedio m\\u00f3vil \\u00faltimos 7 d\\u00edas\"}, {\"Dates\": \"2020-05-11\", \"New_deaths\": 6, \"Rolling\": 4.142857142857143, \"Fallecimientos confirmados diarios\": \"Fallecimientos confirmados diarios\", \"Promedio m\\u00f3vil \\u00faltimos 7 d\\u00edas\": \"Promedio m\\u00f3vil \\u00faltimos 7 d\\u00edas\"}, {\"Dates\": \"2020-05-12\", \"New_deaths\": 6, \"Rolling\": 4.571428571428571, \"Fallecimientos confirmados diarios\": \"Fallecimientos confirmados diarios\", \"Promedio m\\u00f3vil \\u00faltimos 7 d\\u00edas\": \"Promedio m\\u00f3vil \\u00faltimos 7 d\\u00edas\"}, {\"Dates\": \"2020-05-13\", \"New_deaths\": 6, \"Rolling\": 4.857142857142857, \"Fallecimientos confirmados diarios\": \"Fallecimientos confirmados diarios\", \"Promedio m\\u00f3vil \\u00faltimos 7 d\\u00edas\": \"Promedio m\\u00f3vil \\u00faltimos 7 d\\u00edas\"}]}}, {\"mode\": \"vega-lite\"});\n",
       "</script>"
      ],
      "text/plain": [
       "alt.LayerChart(...)"
      ]
     },
     "execution_count": 61,
     "metadata": {},
     "output_type": "execute_result"
    }
   ],
   "source": [
    "#hide_input\n",
    "bars, line = my_deaths_plot(region)\n",
    "(bars + line).properties(\n",
    "    title=f'Covid-19 en Chile: Fallecimientos confirmados diarios en {region}',\n",
    "    width=600\n",
    ")"
   ]
  },
  {
   "cell_type": "markdown",
   "metadata": {},
   "source": [
    "## O’Higgins"
   ]
  },
  {
   "cell_type": "code",
   "execution_count": 62,
   "metadata": {
    "scrolled": true
   },
   "outputs": [],
   "source": [
    "#hide\n",
    "region = \"O’Higgins\""
   ]
  },
  {
   "cell_type": "code",
   "execution_count": 63,
   "metadata": {},
   "outputs": [
    {
     "data": {
      "text/html": [
       "\n",
       "<div id=\"altair-viz-542a68a189034575a5b836bda52f8470\"></div>\n",
       "<script type=\"text/javascript\">\n",
       "  (function(spec, embedOpt){\n",
       "    let outputDiv = document.currentScript.previousElementSibling;\n",
       "    if (outputDiv.id !== \"altair-viz-542a68a189034575a5b836bda52f8470\") {\n",
       "      outputDiv = document.getElementById(\"altair-viz-542a68a189034575a5b836bda52f8470\");\n",
       "    }\n",
       "    const paths = {\n",
       "      \"vega\": \"https://cdn.jsdelivr.net/npm//vega@5?noext\",\n",
       "      \"vega-lib\": \"https://cdn.jsdelivr.net/npm//vega-lib?noext\",\n",
       "      \"vega-lite\": \"https://cdn.jsdelivr.net/npm//vega-lite@4.8.1?noext\",\n",
       "      \"vega-embed\": \"https://cdn.jsdelivr.net/npm//vega-embed@6?noext\",\n",
       "    };\n",
       "\n",
       "    function loadScript(lib) {\n",
       "      return new Promise(function(resolve, reject) {\n",
       "        var s = document.createElement('script');\n",
       "        s.src = paths[lib];\n",
       "        s.async = true;\n",
       "        s.onload = () => resolve(paths[lib]);\n",
       "        s.onerror = () => reject(`Error loading script: ${paths[lib]}`);\n",
       "        document.getElementsByTagName(\"head\")[0].appendChild(s);\n",
       "      });\n",
       "    }\n",
       "\n",
       "    function showError(err) {\n",
       "      outputDiv.innerHTML = `<div class=\"error\" style=\"color:red;\">${err}</div>`;\n",
       "      throw err;\n",
       "    }\n",
       "\n",
       "    function displayChart(vegaEmbed) {\n",
       "      vegaEmbed(outputDiv, spec, embedOpt)\n",
       "        .catch(err => showError(`Javascript Error: ${err.message}<br>This usually means there's a typo in your chart specification. See the javascript console for the full traceback.`));\n",
       "    }\n",
       "\n",
       "    if(typeof define === \"function\" && define.amd) {\n",
       "      requirejs.config({paths});\n",
       "      require([\"vega-embed\"], displayChart, err => showError(`Error loading script: ${err.message}`));\n",
       "    } else if (typeof vegaEmbed === \"function\") {\n",
       "      displayChart(vegaEmbed);\n",
       "    } else {\n",
       "      loadScript(\"vega\")\n",
       "        .then(() => loadScript(\"vega-lite\"))\n",
       "        .then(() => loadScript(\"vega-embed\"))\n",
       "        .catch(showError)\n",
       "        .then(() => displayChart(vegaEmbed));\n",
       "    }\n",
       "  })({\"config\": {\"view\": {\"continuousWidth\": 400, \"continuousHeight\": 300}}, \"layer\": [{\"mark\": {\"type\": \"bar\", \"color\": \"firebrick\", \"opacity\": 0.7}, \"encoding\": {\"opacity\": {\"type\": \"nominal\", \"field\": \"Fallecimientos confirmados diarios\", \"legend\": {\"title\": \"\"}}, \"tooltip\": [{\"type\": \"nominal\", \"field\": \"Dates\"}, {\"type\": \"quantitative\", \"field\": \"New_deaths\"}], \"x\": {\"type\": \"nominal\", \"axis\": {\"title\": \"Fecha (a\\u00f1o-mes-d\\u00eda)\"}, \"field\": \"Dates\"}, \"y\": {\"type\": \"quantitative\", \"axis\": {\"title\": \"Fallecimientos confirmados diarios\"}, \"field\": \"New_deaths\"}}}, {\"mark\": {\"type\": \"line\", \"color\": \"firebrick\", \"point\": {\"filled\": true, \"fill\": \"firebrick\"}}, \"encoding\": {\"shape\": {\"type\": \"nominal\", \"field\": \"Promedio m\\u00f3vil \\u00faltimos 7 d\\u00edas\", \"legend\": {\"title\": \"\"}}, \"x\": {\"type\": \"nominal\", \"axis\": {\"title\": \"Fecha (a\\u00f1o-mes-d\\u00eda)\"}, \"field\": \"Dates\"}, \"y\": {\"type\": \"quantitative\", \"field\": \"Rolling\"}}}], \"data\": {\"name\": \"data-5a31a349ecf4540bb3adbf2c6f349dcb\"}, \"title\": \"Covid-19 en Chile: Fallecimientos confirmados diarios en O\\u2019Higgins\", \"width\": 600, \"$schema\": \"https://vega.github.io/schema/vega-lite/v4.8.1.json\", \"datasets\": {\"data-5a31a349ecf4540bb3adbf2c6f349dcb\": [{\"Dates\": \"2020-03-25\", \"New_deaths\": 0, \"Rolling\": null, \"Fallecimientos confirmados diarios\": \"Fallecimientos confirmados diarios\", \"Promedio m\\u00f3vil \\u00faltimos 7 d\\u00edas\": \"Promedio m\\u00f3vil \\u00faltimos 7 d\\u00edas\"}, {\"Dates\": \"2020-03-26\", \"New_deaths\": 0, \"Rolling\": null, \"Fallecimientos confirmados diarios\": \"Fallecimientos confirmados diarios\", \"Promedio m\\u00f3vil \\u00faltimos 7 d\\u00edas\": \"Promedio m\\u00f3vil \\u00faltimos 7 d\\u00edas\"}, {\"Dates\": \"2020-03-27\", \"New_deaths\": 0, \"Rolling\": null, \"Fallecimientos confirmados diarios\": \"Fallecimientos confirmados diarios\", \"Promedio m\\u00f3vil \\u00faltimos 7 d\\u00edas\": \"Promedio m\\u00f3vil \\u00faltimos 7 d\\u00edas\"}, {\"Dates\": \"2020-03-28\", \"New_deaths\": 0, \"Rolling\": null, \"Fallecimientos confirmados diarios\": \"Fallecimientos confirmados diarios\", \"Promedio m\\u00f3vil \\u00faltimos 7 d\\u00edas\": \"Promedio m\\u00f3vil \\u00faltimos 7 d\\u00edas\"}, {\"Dates\": \"2020-03-29\", \"New_deaths\": 0, \"Rolling\": null, \"Fallecimientos confirmados diarios\": \"Fallecimientos confirmados diarios\", \"Promedio m\\u00f3vil \\u00faltimos 7 d\\u00edas\": \"Promedio m\\u00f3vil \\u00faltimos 7 d\\u00edas\"}, {\"Dates\": \"2020-03-30\", \"New_deaths\": 0, \"Rolling\": null, \"Fallecimientos confirmados diarios\": \"Fallecimientos confirmados diarios\", \"Promedio m\\u00f3vil \\u00faltimos 7 d\\u00edas\": \"Promedio m\\u00f3vil \\u00faltimos 7 d\\u00edas\"}, {\"Dates\": \"2020-03-31\", \"New_deaths\": 0, \"Rolling\": 0.0, \"Fallecimientos confirmados diarios\": \"Fallecimientos confirmados diarios\", \"Promedio m\\u00f3vil \\u00faltimos 7 d\\u00edas\": \"Promedio m\\u00f3vil \\u00faltimos 7 d\\u00edas\"}, {\"Dates\": \"2020-04-01\", \"New_deaths\": 0, \"Rolling\": 0.0, \"Fallecimientos confirmados diarios\": \"Fallecimientos confirmados diarios\", \"Promedio m\\u00f3vil \\u00faltimos 7 d\\u00edas\": \"Promedio m\\u00f3vil \\u00faltimos 7 d\\u00edas\"}, {\"Dates\": \"2020-04-02\", \"New_deaths\": 0, \"Rolling\": 0.0, \"Fallecimientos confirmados diarios\": \"Fallecimientos confirmados diarios\", \"Promedio m\\u00f3vil \\u00faltimos 7 d\\u00edas\": \"Promedio m\\u00f3vil \\u00faltimos 7 d\\u00edas\"}, {\"Dates\": \"2020-04-03\", \"New_deaths\": 0, \"Rolling\": 0.0, \"Fallecimientos confirmados diarios\": \"Fallecimientos confirmados diarios\", \"Promedio m\\u00f3vil \\u00faltimos 7 d\\u00edas\": \"Promedio m\\u00f3vil \\u00faltimos 7 d\\u00edas\"}, {\"Dates\": \"2020-04-04\", \"New_deaths\": 0, \"Rolling\": 0.0, \"Fallecimientos confirmados diarios\": \"Fallecimientos confirmados diarios\", \"Promedio m\\u00f3vil \\u00faltimos 7 d\\u00edas\": \"Promedio m\\u00f3vil \\u00faltimos 7 d\\u00edas\"}, {\"Dates\": \"2020-04-05\", \"New_deaths\": 0, \"Rolling\": 0.0, \"Fallecimientos confirmados diarios\": \"Fallecimientos confirmados diarios\", \"Promedio m\\u00f3vil \\u00faltimos 7 d\\u00edas\": \"Promedio m\\u00f3vil \\u00faltimos 7 d\\u00edas\"}, {\"Dates\": \"2020-04-06\", \"New_deaths\": 0, \"Rolling\": 0.0, \"Fallecimientos confirmados diarios\": \"Fallecimientos confirmados diarios\", \"Promedio m\\u00f3vil \\u00faltimos 7 d\\u00edas\": \"Promedio m\\u00f3vil \\u00faltimos 7 d\\u00edas\"}, {\"Dates\": \"2020-04-07\", \"New_deaths\": 0, \"Rolling\": 0.0, \"Fallecimientos confirmados diarios\": \"Fallecimientos confirmados diarios\", \"Promedio m\\u00f3vil \\u00faltimos 7 d\\u00edas\": \"Promedio m\\u00f3vil \\u00faltimos 7 d\\u00edas\"}, {\"Dates\": \"2020-04-08\", \"New_deaths\": 0, \"Rolling\": 0.0, \"Fallecimientos confirmados diarios\": \"Fallecimientos confirmados diarios\", \"Promedio m\\u00f3vil \\u00faltimos 7 d\\u00edas\": \"Promedio m\\u00f3vil \\u00faltimos 7 d\\u00edas\"}, {\"Dates\": \"2020-04-09\", \"New_deaths\": 0, \"Rolling\": 0.0, \"Fallecimientos confirmados diarios\": \"Fallecimientos confirmados diarios\", \"Promedio m\\u00f3vil \\u00faltimos 7 d\\u00edas\": \"Promedio m\\u00f3vil \\u00faltimos 7 d\\u00edas\"}, {\"Dates\": \"2020-04-10\", \"New_deaths\": 0, \"Rolling\": 0.0, \"Fallecimientos confirmados diarios\": \"Fallecimientos confirmados diarios\", \"Promedio m\\u00f3vil \\u00faltimos 7 d\\u00edas\": \"Promedio m\\u00f3vil \\u00faltimos 7 d\\u00edas\"}, {\"Dates\": \"2020-04-11\", \"New_deaths\": 0, \"Rolling\": 0.0, \"Fallecimientos confirmados diarios\": \"Fallecimientos confirmados diarios\", \"Promedio m\\u00f3vil \\u00faltimos 7 d\\u00edas\": \"Promedio m\\u00f3vil \\u00faltimos 7 d\\u00edas\"}, {\"Dates\": \"2020-04-12\", \"New_deaths\": 0, \"Rolling\": 0.0, \"Fallecimientos confirmados diarios\": \"Fallecimientos confirmados diarios\", \"Promedio m\\u00f3vil \\u00faltimos 7 d\\u00edas\": \"Promedio m\\u00f3vil \\u00faltimos 7 d\\u00edas\"}, {\"Dates\": \"2020-04-13\", \"New_deaths\": 0, \"Rolling\": 0.0, \"Fallecimientos confirmados diarios\": \"Fallecimientos confirmados diarios\", \"Promedio m\\u00f3vil \\u00faltimos 7 d\\u00edas\": \"Promedio m\\u00f3vil \\u00faltimos 7 d\\u00edas\"}, {\"Dates\": \"2020-04-14\", \"New_deaths\": 0, \"Rolling\": 0.0, \"Fallecimientos confirmados diarios\": \"Fallecimientos confirmados diarios\", \"Promedio m\\u00f3vil \\u00faltimos 7 d\\u00edas\": \"Promedio m\\u00f3vil \\u00faltimos 7 d\\u00edas\"}, {\"Dates\": \"2020-04-15\", \"New_deaths\": 0, \"Rolling\": 0.0, \"Fallecimientos confirmados diarios\": \"Fallecimientos confirmados diarios\", \"Promedio m\\u00f3vil \\u00faltimos 7 d\\u00edas\": \"Promedio m\\u00f3vil \\u00faltimos 7 d\\u00edas\"}, {\"Dates\": \"2020-04-16\", \"New_deaths\": 0, \"Rolling\": 0.0, \"Fallecimientos confirmados diarios\": \"Fallecimientos confirmados diarios\", \"Promedio m\\u00f3vil \\u00faltimos 7 d\\u00edas\": \"Promedio m\\u00f3vil \\u00faltimos 7 d\\u00edas\"}, {\"Dates\": \"2020-04-17\", \"New_deaths\": 0, \"Rolling\": 0.0, \"Fallecimientos confirmados diarios\": \"Fallecimientos confirmados diarios\", \"Promedio m\\u00f3vil \\u00faltimos 7 d\\u00edas\": \"Promedio m\\u00f3vil \\u00faltimos 7 d\\u00edas\"}, {\"Dates\": \"2020-04-18\", \"New_deaths\": 0, \"Rolling\": 0.0, \"Fallecimientos confirmados diarios\": \"Fallecimientos confirmados diarios\", \"Promedio m\\u00f3vil \\u00faltimos 7 d\\u00edas\": \"Promedio m\\u00f3vil \\u00faltimos 7 d\\u00edas\"}, {\"Dates\": \"2020-04-19\", \"New_deaths\": 0, \"Rolling\": 0.0, \"Fallecimientos confirmados diarios\": \"Fallecimientos confirmados diarios\", \"Promedio m\\u00f3vil \\u00faltimos 7 d\\u00edas\": \"Promedio m\\u00f3vil \\u00faltimos 7 d\\u00edas\"}, {\"Dates\": \"2020-04-20\", \"New_deaths\": 0, \"Rolling\": 0.0, \"Fallecimientos confirmados diarios\": \"Fallecimientos confirmados diarios\", \"Promedio m\\u00f3vil \\u00faltimos 7 d\\u00edas\": \"Promedio m\\u00f3vil \\u00faltimos 7 d\\u00edas\"}, {\"Dates\": \"2020-04-21\", \"New_deaths\": 1, \"Rolling\": 0.14285714285714285, \"Fallecimientos confirmados diarios\": \"Fallecimientos confirmados diarios\", \"Promedio m\\u00f3vil \\u00faltimos 7 d\\u00edas\": \"Promedio m\\u00f3vil \\u00faltimos 7 d\\u00edas\"}, {\"Dates\": \"2020-04-22\", \"New_deaths\": 0, \"Rolling\": 0.14285714285714285, \"Fallecimientos confirmados diarios\": \"Fallecimientos confirmados diarios\", \"Promedio m\\u00f3vil \\u00faltimos 7 d\\u00edas\": \"Promedio m\\u00f3vil \\u00faltimos 7 d\\u00edas\"}, {\"Dates\": \"2020-04-23\", \"New_deaths\": 0, \"Rolling\": 0.14285714285714285, \"Fallecimientos confirmados diarios\": \"Fallecimientos confirmados diarios\", \"Promedio m\\u00f3vil \\u00faltimos 7 d\\u00edas\": \"Promedio m\\u00f3vil \\u00faltimos 7 d\\u00edas\"}, {\"Dates\": \"2020-04-24\", \"New_deaths\": 0, \"Rolling\": 0.14285714285714285, \"Fallecimientos confirmados diarios\": \"Fallecimientos confirmados diarios\", \"Promedio m\\u00f3vil \\u00faltimos 7 d\\u00edas\": \"Promedio m\\u00f3vil \\u00faltimos 7 d\\u00edas\"}, {\"Dates\": \"2020-04-25\", \"New_deaths\": 0, \"Rolling\": 0.14285714285714285, \"Fallecimientos confirmados diarios\": \"Fallecimientos confirmados diarios\", \"Promedio m\\u00f3vil \\u00faltimos 7 d\\u00edas\": \"Promedio m\\u00f3vil \\u00faltimos 7 d\\u00edas\"}, {\"Dates\": \"2020-04-26\", \"New_deaths\": 0, \"Rolling\": 0.14285714285714285, \"Fallecimientos confirmados diarios\": \"Fallecimientos confirmados diarios\", \"Promedio m\\u00f3vil \\u00faltimos 7 d\\u00edas\": \"Promedio m\\u00f3vil \\u00faltimos 7 d\\u00edas\"}, {\"Dates\": \"2020-04-27\", \"New_deaths\": 0, \"Rolling\": 0.14285714285714285, \"Fallecimientos confirmados diarios\": \"Fallecimientos confirmados diarios\", \"Promedio m\\u00f3vil \\u00faltimos 7 d\\u00edas\": \"Promedio m\\u00f3vil \\u00faltimos 7 d\\u00edas\"}, {\"Dates\": \"2020-04-28\", \"New_deaths\": 0, \"Rolling\": 0.0, \"Fallecimientos confirmados diarios\": \"Fallecimientos confirmados diarios\", \"Promedio m\\u00f3vil \\u00faltimos 7 d\\u00edas\": \"Promedio m\\u00f3vil \\u00faltimos 7 d\\u00edas\"}, {\"Dates\": \"2020-04-29\", \"New_deaths\": 0, \"Rolling\": 0.0, \"Fallecimientos confirmados diarios\": \"Fallecimientos confirmados diarios\", \"Promedio m\\u00f3vil \\u00faltimos 7 d\\u00edas\": \"Promedio m\\u00f3vil \\u00faltimos 7 d\\u00edas\"}, {\"Dates\": \"2020-04-30\", \"New_deaths\": 0, \"Rolling\": 0.0, \"Fallecimientos confirmados diarios\": \"Fallecimientos confirmados diarios\", \"Promedio m\\u00f3vil \\u00faltimos 7 d\\u00edas\": \"Promedio m\\u00f3vil \\u00faltimos 7 d\\u00edas\"}, {\"Dates\": \"2020-05-01\", \"New_deaths\": 0, \"Rolling\": 0.0, \"Fallecimientos confirmados diarios\": \"Fallecimientos confirmados diarios\", \"Promedio m\\u00f3vil \\u00faltimos 7 d\\u00edas\": \"Promedio m\\u00f3vil \\u00faltimos 7 d\\u00edas\"}, {\"Dates\": \"2020-05-02\", \"New_deaths\": 2, \"Rolling\": 0.2857142857142857, \"Fallecimientos confirmados diarios\": \"Fallecimientos confirmados diarios\", \"Promedio m\\u00f3vil \\u00faltimos 7 d\\u00edas\": \"Promedio m\\u00f3vil \\u00faltimos 7 d\\u00edas\"}, {\"Dates\": \"2020-05-03\", \"New_deaths\": 0, \"Rolling\": 0.2857142857142857, \"Fallecimientos confirmados diarios\": \"Fallecimientos confirmados diarios\", \"Promedio m\\u00f3vil \\u00faltimos 7 d\\u00edas\": \"Promedio m\\u00f3vil \\u00faltimos 7 d\\u00edas\"}, {\"Dates\": \"2020-05-04\", \"New_deaths\": 0, \"Rolling\": 0.2857142857142857, \"Fallecimientos confirmados diarios\": \"Fallecimientos confirmados diarios\", \"Promedio m\\u00f3vil \\u00faltimos 7 d\\u00edas\": \"Promedio m\\u00f3vil \\u00faltimos 7 d\\u00edas\"}, {\"Dates\": \"2020-05-05\", \"New_deaths\": 0, \"Rolling\": 0.2857142857142857, \"Fallecimientos confirmados diarios\": \"Fallecimientos confirmados diarios\", \"Promedio m\\u00f3vil \\u00faltimos 7 d\\u00edas\": \"Promedio m\\u00f3vil \\u00faltimos 7 d\\u00edas\"}, {\"Dates\": \"2020-05-06\", \"New_deaths\": 0, \"Rolling\": 0.2857142857142857, \"Fallecimientos confirmados diarios\": \"Fallecimientos confirmados diarios\", \"Promedio m\\u00f3vil \\u00faltimos 7 d\\u00edas\": \"Promedio m\\u00f3vil \\u00faltimos 7 d\\u00edas\"}, {\"Dates\": \"2020-05-07\", \"New_deaths\": 0, \"Rolling\": 0.2857142857142857, \"Fallecimientos confirmados diarios\": \"Fallecimientos confirmados diarios\", \"Promedio m\\u00f3vil \\u00faltimos 7 d\\u00edas\": \"Promedio m\\u00f3vil \\u00faltimos 7 d\\u00edas\"}, {\"Dates\": \"2020-05-08\", \"New_deaths\": 0, \"Rolling\": 0.2857142857142857, \"Fallecimientos confirmados diarios\": \"Fallecimientos confirmados diarios\", \"Promedio m\\u00f3vil \\u00faltimos 7 d\\u00edas\": \"Promedio m\\u00f3vil \\u00faltimos 7 d\\u00edas\"}, {\"Dates\": \"2020-05-09\", \"New_deaths\": 0, \"Rolling\": 0.0, \"Fallecimientos confirmados diarios\": \"Fallecimientos confirmados diarios\", \"Promedio m\\u00f3vil \\u00faltimos 7 d\\u00edas\": \"Promedio m\\u00f3vil \\u00faltimos 7 d\\u00edas\"}, {\"Dates\": \"2020-05-10\", \"New_deaths\": 0, \"Rolling\": 0.0, \"Fallecimientos confirmados diarios\": \"Fallecimientos confirmados diarios\", \"Promedio m\\u00f3vil \\u00faltimos 7 d\\u00edas\": \"Promedio m\\u00f3vil \\u00faltimos 7 d\\u00edas\"}, {\"Dates\": \"2020-05-11\", \"New_deaths\": 1, \"Rolling\": 0.14285714285714285, \"Fallecimientos confirmados diarios\": \"Fallecimientos confirmados diarios\", \"Promedio m\\u00f3vil \\u00faltimos 7 d\\u00edas\": \"Promedio m\\u00f3vil \\u00faltimos 7 d\\u00edas\"}, {\"Dates\": \"2020-05-12\", \"New_deaths\": 0, \"Rolling\": 0.14285714285714285, \"Fallecimientos confirmados diarios\": \"Fallecimientos confirmados diarios\", \"Promedio m\\u00f3vil \\u00faltimos 7 d\\u00edas\": \"Promedio m\\u00f3vil \\u00faltimos 7 d\\u00edas\"}, {\"Dates\": \"2020-05-13\", \"New_deaths\": 0, \"Rolling\": 0.14285714285714285, \"Fallecimientos confirmados diarios\": \"Fallecimientos confirmados diarios\", \"Promedio m\\u00f3vil \\u00faltimos 7 d\\u00edas\": \"Promedio m\\u00f3vil \\u00faltimos 7 d\\u00edas\"}]}}, {\"mode\": \"vega-lite\"});\n",
       "</script>"
      ],
      "text/plain": [
       "alt.LayerChart(...)"
      ]
     },
     "execution_count": 63,
     "metadata": {},
     "output_type": "execute_result"
    }
   ],
   "source": [
    "#hide_input\n",
    "bars, line = my_deaths_plot(region)\n",
    "(bars + line).properties(\n",
    "    title=f'Covid-19 en Chile: Fallecimientos confirmados diarios en {region}',\n",
    "    width=600\n",
    ")"
   ]
  },
  {
   "cell_type": "markdown",
   "metadata": {},
   "source": [
    "## Maule"
   ]
  },
  {
   "cell_type": "code",
   "execution_count": 64,
   "metadata": {
    "scrolled": true
   },
   "outputs": [],
   "source": [
    "#hide\n",
    "region = \"Maule\""
   ]
  },
  {
   "cell_type": "code",
   "execution_count": 65,
   "metadata": {},
   "outputs": [
    {
     "data": {
      "text/html": [
       "\n",
       "<div id=\"altair-viz-3771433c0c26438285331a9ed4a9bc26\"></div>\n",
       "<script type=\"text/javascript\">\n",
       "  (function(spec, embedOpt){\n",
       "    let outputDiv = document.currentScript.previousElementSibling;\n",
       "    if (outputDiv.id !== \"altair-viz-3771433c0c26438285331a9ed4a9bc26\") {\n",
       "      outputDiv = document.getElementById(\"altair-viz-3771433c0c26438285331a9ed4a9bc26\");\n",
       "    }\n",
       "    const paths = {\n",
       "      \"vega\": \"https://cdn.jsdelivr.net/npm//vega@5?noext\",\n",
       "      \"vega-lib\": \"https://cdn.jsdelivr.net/npm//vega-lib?noext\",\n",
       "      \"vega-lite\": \"https://cdn.jsdelivr.net/npm//vega-lite@4.8.1?noext\",\n",
       "      \"vega-embed\": \"https://cdn.jsdelivr.net/npm//vega-embed@6?noext\",\n",
       "    };\n",
       "\n",
       "    function loadScript(lib) {\n",
       "      return new Promise(function(resolve, reject) {\n",
       "        var s = document.createElement('script');\n",
       "        s.src = paths[lib];\n",
       "        s.async = true;\n",
       "        s.onload = () => resolve(paths[lib]);\n",
       "        s.onerror = () => reject(`Error loading script: ${paths[lib]}`);\n",
       "        document.getElementsByTagName(\"head\")[0].appendChild(s);\n",
       "      });\n",
       "    }\n",
       "\n",
       "    function showError(err) {\n",
       "      outputDiv.innerHTML = `<div class=\"error\" style=\"color:red;\">${err}</div>`;\n",
       "      throw err;\n",
       "    }\n",
       "\n",
       "    function displayChart(vegaEmbed) {\n",
       "      vegaEmbed(outputDiv, spec, embedOpt)\n",
       "        .catch(err => showError(`Javascript Error: ${err.message}<br>This usually means there's a typo in your chart specification. See the javascript console for the full traceback.`));\n",
       "    }\n",
       "\n",
       "    if(typeof define === \"function\" && define.amd) {\n",
       "      requirejs.config({paths});\n",
       "      require([\"vega-embed\"], displayChart, err => showError(`Error loading script: ${err.message}`));\n",
       "    } else if (typeof vegaEmbed === \"function\") {\n",
       "      displayChart(vegaEmbed);\n",
       "    } else {\n",
       "      loadScript(\"vega\")\n",
       "        .then(() => loadScript(\"vega-lite\"))\n",
       "        .then(() => loadScript(\"vega-embed\"))\n",
       "        .catch(showError)\n",
       "        .then(() => displayChart(vegaEmbed));\n",
       "    }\n",
       "  })({\"config\": {\"view\": {\"continuousWidth\": 400, \"continuousHeight\": 300}}, \"layer\": [{\"mark\": {\"type\": \"bar\", \"color\": \"firebrick\", \"opacity\": 0.7}, \"encoding\": {\"opacity\": {\"type\": \"nominal\", \"field\": \"Fallecimientos confirmados diarios\", \"legend\": {\"title\": \"\"}}, \"tooltip\": [{\"type\": \"nominal\", \"field\": \"Dates\"}, {\"type\": \"quantitative\", \"field\": \"New_deaths\"}], \"x\": {\"type\": \"nominal\", \"axis\": {\"title\": \"Fecha (a\\u00f1o-mes-d\\u00eda)\"}, \"field\": \"Dates\"}, \"y\": {\"type\": \"quantitative\", \"axis\": {\"title\": \"Fallecimientos confirmados diarios\"}, \"field\": \"New_deaths\"}}}, {\"mark\": {\"type\": \"line\", \"color\": \"firebrick\", \"point\": {\"filled\": true, \"fill\": \"firebrick\"}}, \"encoding\": {\"shape\": {\"type\": \"nominal\", \"field\": \"Promedio m\\u00f3vil \\u00faltimos 7 d\\u00edas\", \"legend\": {\"title\": \"\"}}, \"x\": {\"type\": \"nominal\", \"axis\": {\"title\": \"Fecha (a\\u00f1o-mes-d\\u00eda)\"}, \"field\": \"Dates\"}, \"y\": {\"type\": \"quantitative\", \"field\": \"Rolling\"}}}], \"data\": {\"name\": \"data-d1a86d9ff3c20038558b040bb3d3ee6b\"}, \"title\": \"Covid-19 en Chile: Fallecimientos confirmados diarios en Maule\", \"width\": 600, \"$schema\": \"https://vega.github.io/schema/vega-lite/v4.8.1.json\", \"datasets\": {\"data-d1a86d9ff3c20038558b040bb3d3ee6b\": [{\"Dates\": \"2020-03-25\", \"New_deaths\": 0, \"Rolling\": null, \"Fallecimientos confirmados diarios\": \"Fallecimientos confirmados diarios\", \"Promedio m\\u00f3vil \\u00faltimos 7 d\\u00edas\": \"Promedio m\\u00f3vil \\u00faltimos 7 d\\u00edas\"}, {\"Dates\": \"2020-03-26\", \"New_deaths\": 0, \"Rolling\": null, \"Fallecimientos confirmados diarios\": \"Fallecimientos confirmados diarios\", \"Promedio m\\u00f3vil \\u00faltimos 7 d\\u00edas\": \"Promedio m\\u00f3vil \\u00faltimos 7 d\\u00edas\"}, {\"Dates\": \"2020-03-27\", \"New_deaths\": 0, \"Rolling\": null, \"Fallecimientos confirmados diarios\": \"Fallecimientos confirmados diarios\", \"Promedio m\\u00f3vil \\u00faltimos 7 d\\u00edas\": \"Promedio m\\u00f3vil \\u00faltimos 7 d\\u00edas\"}, {\"Dates\": \"2020-03-28\", \"New_deaths\": 0, \"Rolling\": null, \"Fallecimientos confirmados diarios\": \"Fallecimientos confirmados diarios\", \"Promedio m\\u00f3vil \\u00faltimos 7 d\\u00edas\": \"Promedio m\\u00f3vil \\u00faltimos 7 d\\u00edas\"}, {\"Dates\": \"2020-03-29\", \"New_deaths\": 0, \"Rolling\": null, \"Fallecimientos confirmados diarios\": \"Fallecimientos confirmados diarios\", \"Promedio m\\u00f3vil \\u00faltimos 7 d\\u00edas\": \"Promedio m\\u00f3vil \\u00faltimos 7 d\\u00edas\"}, {\"Dates\": \"2020-03-30\", \"New_deaths\": 1, \"Rolling\": null, \"Fallecimientos confirmados diarios\": \"Fallecimientos confirmados diarios\", \"Promedio m\\u00f3vil \\u00faltimos 7 d\\u00edas\": \"Promedio m\\u00f3vil \\u00faltimos 7 d\\u00edas\"}, {\"Dates\": \"2020-03-31\", \"New_deaths\": 0, \"Rolling\": 0.14285714285714285, \"Fallecimientos confirmados diarios\": \"Fallecimientos confirmados diarios\", \"Promedio m\\u00f3vil \\u00faltimos 7 d\\u00edas\": \"Promedio m\\u00f3vil \\u00faltimos 7 d\\u00edas\"}, {\"Dates\": \"2020-04-01\", \"New_deaths\": 0, \"Rolling\": 0.14285714285714285, \"Fallecimientos confirmados diarios\": \"Fallecimientos confirmados diarios\", \"Promedio m\\u00f3vil \\u00faltimos 7 d\\u00edas\": \"Promedio m\\u00f3vil \\u00faltimos 7 d\\u00edas\"}, {\"Dates\": \"2020-04-02\", \"New_deaths\": 0, \"Rolling\": 0.14285714285714285, \"Fallecimientos confirmados diarios\": \"Fallecimientos confirmados diarios\", \"Promedio m\\u00f3vil \\u00faltimos 7 d\\u00edas\": \"Promedio m\\u00f3vil \\u00faltimos 7 d\\u00edas\"}, {\"Dates\": \"2020-04-03\", \"New_deaths\": 0, \"Rolling\": 0.14285714285714285, \"Fallecimientos confirmados diarios\": \"Fallecimientos confirmados diarios\", \"Promedio m\\u00f3vil \\u00faltimos 7 d\\u00edas\": \"Promedio m\\u00f3vil \\u00faltimos 7 d\\u00edas\"}, {\"Dates\": \"2020-04-04\", \"New_deaths\": 0, \"Rolling\": 0.14285714285714285, \"Fallecimientos confirmados diarios\": \"Fallecimientos confirmados diarios\", \"Promedio m\\u00f3vil \\u00faltimos 7 d\\u00edas\": \"Promedio m\\u00f3vil \\u00faltimos 7 d\\u00edas\"}, {\"Dates\": \"2020-04-05\", \"New_deaths\": 0, \"Rolling\": 0.14285714285714285, \"Fallecimientos confirmados diarios\": \"Fallecimientos confirmados diarios\", \"Promedio m\\u00f3vil \\u00faltimos 7 d\\u00edas\": \"Promedio m\\u00f3vil \\u00faltimos 7 d\\u00edas\"}, {\"Dates\": \"2020-04-06\", \"New_deaths\": 0, \"Rolling\": 0.0, \"Fallecimientos confirmados diarios\": \"Fallecimientos confirmados diarios\", \"Promedio m\\u00f3vil \\u00faltimos 7 d\\u00edas\": \"Promedio m\\u00f3vil \\u00faltimos 7 d\\u00edas\"}, {\"Dates\": \"2020-04-07\", \"New_deaths\": 1, \"Rolling\": 0.14285714285714285, \"Fallecimientos confirmados diarios\": \"Fallecimientos confirmados diarios\", \"Promedio m\\u00f3vil \\u00faltimos 7 d\\u00edas\": \"Promedio m\\u00f3vil \\u00faltimos 7 d\\u00edas\"}, {\"Dates\": \"2020-04-08\", \"New_deaths\": 0, \"Rolling\": 0.14285714285714285, \"Fallecimientos confirmados diarios\": \"Fallecimientos confirmados diarios\", \"Promedio m\\u00f3vil \\u00faltimos 7 d\\u00edas\": \"Promedio m\\u00f3vil \\u00faltimos 7 d\\u00edas\"}, {\"Dates\": \"2020-04-09\", \"New_deaths\": 0, \"Rolling\": 0.14285714285714285, \"Fallecimientos confirmados diarios\": \"Fallecimientos confirmados diarios\", \"Promedio m\\u00f3vil \\u00faltimos 7 d\\u00edas\": \"Promedio m\\u00f3vil \\u00faltimos 7 d\\u00edas\"}, {\"Dates\": \"2020-04-10\", \"New_deaths\": 0, \"Rolling\": 0.14285714285714285, \"Fallecimientos confirmados diarios\": \"Fallecimientos confirmados diarios\", \"Promedio m\\u00f3vil \\u00faltimos 7 d\\u00edas\": \"Promedio m\\u00f3vil \\u00faltimos 7 d\\u00edas\"}, {\"Dates\": \"2020-04-11\", \"New_deaths\": 1, \"Rolling\": 0.2857142857142857, \"Fallecimientos confirmados diarios\": \"Fallecimientos confirmados diarios\", \"Promedio m\\u00f3vil \\u00faltimos 7 d\\u00edas\": \"Promedio m\\u00f3vil \\u00faltimos 7 d\\u00edas\"}, {\"Dates\": \"2020-04-12\", \"New_deaths\": 0, \"Rolling\": 0.2857142857142857, \"Fallecimientos confirmados diarios\": \"Fallecimientos confirmados diarios\", \"Promedio m\\u00f3vil \\u00faltimos 7 d\\u00edas\": \"Promedio m\\u00f3vil \\u00faltimos 7 d\\u00edas\"}, {\"Dates\": \"2020-04-13\", \"New_deaths\": 0, \"Rolling\": 0.2857142857142857, \"Fallecimientos confirmados diarios\": \"Fallecimientos confirmados diarios\", \"Promedio m\\u00f3vil \\u00faltimos 7 d\\u00edas\": \"Promedio m\\u00f3vil \\u00faltimos 7 d\\u00edas\"}, {\"Dates\": \"2020-04-14\", \"New_deaths\": 1, \"Rolling\": 0.2857142857142857, \"Fallecimientos confirmados diarios\": \"Fallecimientos confirmados diarios\", \"Promedio m\\u00f3vil \\u00faltimos 7 d\\u00edas\": \"Promedio m\\u00f3vil \\u00faltimos 7 d\\u00edas\"}, {\"Dates\": \"2020-04-15\", \"New_deaths\": 0, \"Rolling\": 0.2857142857142857, \"Fallecimientos confirmados diarios\": \"Fallecimientos confirmados diarios\", \"Promedio m\\u00f3vil \\u00faltimos 7 d\\u00edas\": \"Promedio m\\u00f3vil \\u00faltimos 7 d\\u00edas\"}, {\"Dates\": \"2020-04-16\", \"New_deaths\": 0, \"Rolling\": 0.2857142857142857, \"Fallecimientos confirmados diarios\": \"Fallecimientos confirmados diarios\", \"Promedio m\\u00f3vil \\u00faltimos 7 d\\u00edas\": \"Promedio m\\u00f3vil \\u00faltimos 7 d\\u00edas\"}, {\"Dates\": \"2020-04-17\", \"New_deaths\": 3, \"Rolling\": 0.7142857142857143, \"Fallecimientos confirmados diarios\": \"Fallecimientos confirmados diarios\", \"Promedio m\\u00f3vil \\u00faltimos 7 d\\u00edas\": \"Promedio m\\u00f3vil \\u00faltimos 7 d\\u00edas\"}, {\"Dates\": \"2020-04-18\", \"New_deaths\": 1, \"Rolling\": 0.7142857142857143, \"Fallecimientos confirmados diarios\": \"Fallecimientos confirmados diarios\", \"Promedio m\\u00f3vil \\u00faltimos 7 d\\u00edas\": \"Promedio m\\u00f3vil \\u00faltimos 7 d\\u00edas\"}, {\"Dates\": \"2020-04-19\", \"New_deaths\": 0, \"Rolling\": 0.7142857142857143, \"Fallecimientos confirmados diarios\": \"Fallecimientos confirmados diarios\", \"Promedio m\\u00f3vil \\u00faltimos 7 d\\u00edas\": \"Promedio m\\u00f3vil \\u00faltimos 7 d\\u00edas\"}, {\"Dates\": \"2020-04-20\", \"New_deaths\": 2, \"Rolling\": 1.0, \"Fallecimientos confirmados diarios\": \"Fallecimientos confirmados diarios\", \"Promedio m\\u00f3vil \\u00faltimos 7 d\\u00edas\": \"Promedio m\\u00f3vil \\u00faltimos 7 d\\u00edas\"}, {\"Dates\": \"2020-04-21\", \"New_deaths\": 0, \"Rolling\": 0.8571428571428571, \"Fallecimientos confirmados diarios\": \"Fallecimientos confirmados diarios\", \"Promedio m\\u00f3vil \\u00faltimos 7 d\\u00edas\": \"Promedio m\\u00f3vil \\u00faltimos 7 d\\u00edas\"}, {\"Dates\": \"2020-04-22\", \"New_deaths\": 0, \"Rolling\": 0.8571428571428571, \"Fallecimientos confirmados diarios\": \"Fallecimientos confirmados diarios\", \"Promedio m\\u00f3vil \\u00faltimos 7 d\\u00edas\": \"Promedio m\\u00f3vil \\u00faltimos 7 d\\u00edas\"}, {\"Dates\": \"2020-04-23\", \"New_deaths\": 0, \"Rolling\": 0.8571428571428571, \"Fallecimientos confirmados diarios\": \"Fallecimientos confirmados diarios\", \"Promedio m\\u00f3vil \\u00faltimos 7 d\\u00edas\": \"Promedio m\\u00f3vil \\u00faltimos 7 d\\u00edas\"}, {\"Dates\": \"2020-04-24\", \"New_deaths\": 0, \"Rolling\": 0.42857142857142855, \"Fallecimientos confirmados diarios\": \"Fallecimientos confirmados diarios\", \"Promedio m\\u00f3vil \\u00faltimos 7 d\\u00edas\": \"Promedio m\\u00f3vil \\u00faltimos 7 d\\u00edas\"}, {\"Dates\": \"2020-04-25\", \"New_deaths\": 0, \"Rolling\": 0.2857142857142857, \"Fallecimientos confirmados diarios\": \"Fallecimientos confirmados diarios\", \"Promedio m\\u00f3vil \\u00faltimos 7 d\\u00edas\": \"Promedio m\\u00f3vil \\u00faltimos 7 d\\u00edas\"}, {\"Dates\": \"2020-04-26\", \"New_deaths\": 1, \"Rolling\": 0.42857142857142855, \"Fallecimientos confirmados diarios\": \"Fallecimientos confirmados diarios\", \"Promedio m\\u00f3vil \\u00faltimos 7 d\\u00edas\": \"Promedio m\\u00f3vil \\u00faltimos 7 d\\u00edas\"}, {\"Dates\": \"2020-04-27\", \"New_deaths\": 1, \"Rolling\": 0.2857142857142857, \"Fallecimientos confirmados diarios\": \"Fallecimientos confirmados diarios\", \"Promedio m\\u00f3vil \\u00faltimos 7 d\\u00edas\": \"Promedio m\\u00f3vil \\u00faltimos 7 d\\u00edas\"}, {\"Dates\": \"2020-04-28\", \"New_deaths\": 0, \"Rolling\": 0.2857142857142857, \"Fallecimientos confirmados diarios\": \"Fallecimientos confirmados diarios\", \"Promedio m\\u00f3vil \\u00faltimos 7 d\\u00edas\": \"Promedio m\\u00f3vil \\u00faltimos 7 d\\u00edas\"}, {\"Dates\": \"2020-04-29\", \"New_deaths\": 1, \"Rolling\": 0.42857142857142855, \"Fallecimientos confirmados diarios\": \"Fallecimientos confirmados diarios\", \"Promedio m\\u00f3vil \\u00faltimos 7 d\\u00edas\": \"Promedio m\\u00f3vil \\u00faltimos 7 d\\u00edas\"}, {\"Dates\": \"2020-04-30\", \"New_deaths\": 0, \"Rolling\": 0.42857142857142855, \"Fallecimientos confirmados diarios\": \"Fallecimientos confirmados diarios\", \"Promedio m\\u00f3vil \\u00faltimos 7 d\\u00edas\": \"Promedio m\\u00f3vil \\u00faltimos 7 d\\u00edas\"}, {\"Dates\": \"2020-05-01\", \"New_deaths\": 0, \"Rolling\": 0.42857142857142855, \"Fallecimientos confirmados diarios\": \"Fallecimientos confirmados diarios\", \"Promedio m\\u00f3vil \\u00faltimos 7 d\\u00edas\": \"Promedio m\\u00f3vil \\u00faltimos 7 d\\u00edas\"}, {\"Dates\": \"2020-05-02\", \"New_deaths\": 0, \"Rolling\": 0.42857142857142855, \"Fallecimientos confirmados diarios\": \"Fallecimientos confirmados diarios\", \"Promedio m\\u00f3vil \\u00faltimos 7 d\\u00edas\": \"Promedio m\\u00f3vil \\u00faltimos 7 d\\u00edas\"}, {\"Dates\": \"2020-05-03\", \"New_deaths\": 0, \"Rolling\": 0.2857142857142857, \"Fallecimientos confirmados diarios\": \"Fallecimientos confirmados diarios\", \"Promedio m\\u00f3vil \\u00faltimos 7 d\\u00edas\": \"Promedio m\\u00f3vil \\u00faltimos 7 d\\u00edas\"}, {\"Dates\": \"2020-05-04\", \"New_deaths\": 0, \"Rolling\": 0.14285714285714285, \"Fallecimientos confirmados diarios\": \"Fallecimientos confirmados diarios\", \"Promedio m\\u00f3vil \\u00faltimos 7 d\\u00edas\": \"Promedio m\\u00f3vil \\u00faltimos 7 d\\u00edas\"}, {\"Dates\": \"2020-05-05\", \"New_deaths\": 0, \"Rolling\": 0.14285714285714285, \"Fallecimientos confirmados diarios\": \"Fallecimientos confirmados diarios\", \"Promedio m\\u00f3vil \\u00faltimos 7 d\\u00edas\": \"Promedio m\\u00f3vil \\u00faltimos 7 d\\u00edas\"}, {\"Dates\": \"2020-05-06\", \"New_deaths\": 0, \"Rolling\": 0.0, \"Fallecimientos confirmados diarios\": \"Fallecimientos confirmados diarios\", \"Promedio m\\u00f3vil \\u00faltimos 7 d\\u00edas\": \"Promedio m\\u00f3vil \\u00faltimos 7 d\\u00edas\"}, {\"Dates\": \"2020-05-07\", \"New_deaths\": 0, \"Rolling\": 0.0, \"Fallecimientos confirmados diarios\": \"Fallecimientos confirmados diarios\", \"Promedio m\\u00f3vil \\u00faltimos 7 d\\u00edas\": \"Promedio m\\u00f3vil \\u00faltimos 7 d\\u00edas\"}, {\"Dates\": \"2020-05-08\", \"New_deaths\": 0, \"Rolling\": 0.0, \"Fallecimientos confirmados diarios\": \"Fallecimientos confirmados diarios\", \"Promedio m\\u00f3vil \\u00faltimos 7 d\\u00edas\": \"Promedio m\\u00f3vil \\u00faltimos 7 d\\u00edas\"}, {\"Dates\": \"2020-05-09\", \"New_deaths\": 1, \"Rolling\": 0.14285714285714285, \"Fallecimientos confirmados diarios\": \"Fallecimientos confirmados diarios\", \"Promedio m\\u00f3vil \\u00faltimos 7 d\\u00edas\": \"Promedio m\\u00f3vil \\u00faltimos 7 d\\u00edas\"}, {\"Dates\": \"2020-05-10\", \"New_deaths\": 0, \"Rolling\": 0.14285714285714285, \"Fallecimientos confirmados diarios\": \"Fallecimientos confirmados diarios\", \"Promedio m\\u00f3vil \\u00faltimos 7 d\\u00edas\": \"Promedio m\\u00f3vil \\u00faltimos 7 d\\u00edas\"}, {\"Dates\": \"2020-05-11\", \"New_deaths\": 0, \"Rolling\": 0.14285714285714285, \"Fallecimientos confirmados diarios\": \"Fallecimientos confirmados diarios\", \"Promedio m\\u00f3vil \\u00faltimos 7 d\\u00edas\": \"Promedio m\\u00f3vil \\u00faltimos 7 d\\u00edas\"}, {\"Dates\": \"2020-05-12\", \"New_deaths\": 0, \"Rolling\": 0.14285714285714285, \"Fallecimientos confirmados diarios\": \"Fallecimientos confirmados diarios\", \"Promedio m\\u00f3vil \\u00faltimos 7 d\\u00edas\": \"Promedio m\\u00f3vil \\u00faltimos 7 d\\u00edas\"}, {\"Dates\": \"2020-05-13\", \"New_deaths\": 0, \"Rolling\": 0.14285714285714285, \"Fallecimientos confirmados diarios\": \"Fallecimientos confirmados diarios\", \"Promedio m\\u00f3vil \\u00faltimos 7 d\\u00edas\": \"Promedio m\\u00f3vil \\u00faltimos 7 d\\u00edas\"}]}}, {\"mode\": \"vega-lite\"});\n",
       "</script>"
      ],
      "text/plain": [
       "alt.LayerChart(...)"
      ]
     },
     "execution_count": 65,
     "metadata": {},
     "output_type": "execute_result"
    }
   ],
   "source": [
    "#hide_input\n",
    "bars, line = my_deaths_plot(region)\n",
    "(bars + line).properties(\n",
    "    title=f'Covid-19 en Chile: Fallecimientos confirmados diarios en {region}',\n",
    "    width=600\n",
    ")"
   ]
  },
  {
   "cell_type": "markdown",
   "metadata": {},
   "source": [
    "## Ñuble"
   ]
  },
  {
   "cell_type": "code",
   "execution_count": 66,
   "metadata": {
    "scrolled": true
   },
   "outputs": [],
   "source": [
    "#hide\n",
    "region = \"Ñuble\""
   ]
  },
  {
   "cell_type": "code",
   "execution_count": 67,
   "metadata": {},
   "outputs": [
    {
     "data": {
      "text/html": [
       "\n",
       "<div id=\"altair-viz-dffcf9292e2e44fd95691526b7a5c665\"></div>\n",
       "<script type=\"text/javascript\">\n",
       "  (function(spec, embedOpt){\n",
       "    let outputDiv = document.currentScript.previousElementSibling;\n",
       "    if (outputDiv.id !== \"altair-viz-dffcf9292e2e44fd95691526b7a5c665\") {\n",
       "      outputDiv = document.getElementById(\"altair-viz-dffcf9292e2e44fd95691526b7a5c665\");\n",
       "    }\n",
       "    const paths = {\n",
       "      \"vega\": \"https://cdn.jsdelivr.net/npm//vega@5?noext\",\n",
       "      \"vega-lib\": \"https://cdn.jsdelivr.net/npm//vega-lib?noext\",\n",
       "      \"vega-lite\": \"https://cdn.jsdelivr.net/npm//vega-lite@4.8.1?noext\",\n",
       "      \"vega-embed\": \"https://cdn.jsdelivr.net/npm//vega-embed@6?noext\",\n",
       "    };\n",
       "\n",
       "    function loadScript(lib) {\n",
       "      return new Promise(function(resolve, reject) {\n",
       "        var s = document.createElement('script');\n",
       "        s.src = paths[lib];\n",
       "        s.async = true;\n",
       "        s.onload = () => resolve(paths[lib]);\n",
       "        s.onerror = () => reject(`Error loading script: ${paths[lib]}`);\n",
       "        document.getElementsByTagName(\"head\")[0].appendChild(s);\n",
       "      });\n",
       "    }\n",
       "\n",
       "    function showError(err) {\n",
       "      outputDiv.innerHTML = `<div class=\"error\" style=\"color:red;\">${err}</div>`;\n",
       "      throw err;\n",
       "    }\n",
       "\n",
       "    function displayChart(vegaEmbed) {\n",
       "      vegaEmbed(outputDiv, spec, embedOpt)\n",
       "        .catch(err => showError(`Javascript Error: ${err.message}<br>This usually means there's a typo in your chart specification. See the javascript console for the full traceback.`));\n",
       "    }\n",
       "\n",
       "    if(typeof define === \"function\" && define.amd) {\n",
       "      requirejs.config({paths});\n",
       "      require([\"vega-embed\"], displayChart, err => showError(`Error loading script: ${err.message}`));\n",
       "    } else if (typeof vegaEmbed === \"function\") {\n",
       "      displayChart(vegaEmbed);\n",
       "    } else {\n",
       "      loadScript(\"vega\")\n",
       "        .then(() => loadScript(\"vega-lite\"))\n",
       "        .then(() => loadScript(\"vega-embed\"))\n",
       "        .catch(showError)\n",
       "        .then(() => displayChart(vegaEmbed));\n",
       "    }\n",
       "  })({\"config\": {\"view\": {\"continuousWidth\": 400, \"continuousHeight\": 300}}, \"layer\": [{\"mark\": {\"type\": \"bar\", \"color\": \"firebrick\", \"opacity\": 0.7}, \"encoding\": {\"opacity\": {\"type\": \"nominal\", \"field\": \"Fallecimientos confirmados diarios\", \"legend\": {\"title\": \"\"}}, \"tooltip\": [{\"type\": \"nominal\", \"field\": \"Dates\"}, {\"type\": \"quantitative\", \"field\": \"New_deaths\"}], \"x\": {\"type\": \"nominal\", \"axis\": {\"title\": \"Fecha (a\\u00f1o-mes-d\\u00eda)\"}, \"field\": \"Dates\"}, \"y\": {\"type\": \"quantitative\", \"axis\": {\"title\": \"Fallecimientos confirmados diarios\"}, \"field\": \"New_deaths\"}}}, {\"mark\": {\"type\": \"line\", \"color\": \"firebrick\", \"point\": {\"filled\": true, \"fill\": \"firebrick\"}}, \"encoding\": {\"shape\": {\"type\": \"nominal\", \"field\": \"Promedio m\\u00f3vil \\u00faltimos 7 d\\u00edas\", \"legend\": {\"title\": \"\"}}, \"x\": {\"type\": \"nominal\", \"axis\": {\"title\": \"Fecha (a\\u00f1o-mes-d\\u00eda)\"}, \"field\": \"Dates\"}, \"y\": {\"type\": \"quantitative\", \"field\": \"Rolling\"}}}], \"data\": {\"name\": \"data-6a761db456768ec34c81585995168303\"}, \"title\": \"Covid-19 en Chile: Fallecimientos confirmados diarios en \\u00d1uble\", \"width\": 600, \"$schema\": \"https://vega.github.io/schema/vega-lite/v4.8.1.json\", \"datasets\": {\"data-6a761db456768ec34c81585995168303\": [{\"Dates\": \"2020-03-25\", \"New_deaths\": 0, \"Rolling\": null, \"Fallecimientos confirmados diarios\": \"Fallecimientos confirmados diarios\", \"Promedio m\\u00f3vil \\u00faltimos 7 d\\u00edas\": \"Promedio m\\u00f3vil \\u00faltimos 7 d\\u00edas\"}, {\"Dates\": \"2020-03-26\", \"New_deaths\": 0, \"Rolling\": null, \"Fallecimientos confirmados diarios\": \"Fallecimientos confirmados diarios\", \"Promedio m\\u00f3vil \\u00faltimos 7 d\\u00edas\": \"Promedio m\\u00f3vil \\u00faltimos 7 d\\u00edas\"}, {\"Dates\": \"2020-03-27\", \"New_deaths\": 0, \"Rolling\": null, \"Fallecimientos confirmados diarios\": \"Fallecimientos confirmados diarios\", \"Promedio m\\u00f3vil \\u00faltimos 7 d\\u00edas\": \"Promedio m\\u00f3vil \\u00faltimos 7 d\\u00edas\"}, {\"Dates\": \"2020-03-28\", \"New_deaths\": 0, \"Rolling\": null, \"Fallecimientos confirmados diarios\": \"Fallecimientos confirmados diarios\", \"Promedio m\\u00f3vil \\u00faltimos 7 d\\u00edas\": \"Promedio m\\u00f3vil \\u00faltimos 7 d\\u00edas\"}, {\"Dates\": \"2020-03-29\", \"New_deaths\": 0, \"Rolling\": null, \"Fallecimientos confirmados diarios\": \"Fallecimientos confirmados diarios\", \"Promedio m\\u00f3vil \\u00faltimos 7 d\\u00edas\": \"Promedio m\\u00f3vil \\u00faltimos 7 d\\u00edas\"}, {\"Dates\": \"2020-03-30\", \"New_deaths\": 0, \"Rolling\": null, \"Fallecimientos confirmados diarios\": \"Fallecimientos confirmados diarios\", \"Promedio m\\u00f3vil \\u00faltimos 7 d\\u00edas\": \"Promedio m\\u00f3vil \\u00faltimos 7 d\\u00edas\"}, {\"Dates\": \"2020-03-31\", \"New_deaths\": 0, \"Rolling\": 0.0, \"Fallecimientos confirmados diarios\": \"Fallecimientos confirmados diarios\", \"Promedio m\\u00f3vil \\u00faltimos 7 d\\u00edas\": \"Promedio m\\u00f3vil \\u00faltimos 7 d\\u00edas\"}, {\"Dates\": \"2020-04-01\", \"New_deaths\": 0, \"Rolling\": 0.0, \"Fallecimientos confirmados diarios\": \"Fallecimientos confirmados diarios\", \"Promedio m\\u00f3vil \\u00faltimos 7 d\\u00edas\": \"Promedio m\\u00f3vil \\u00faltimos 7 d\\u00edas\"}, {\"Dates\": \"2020-04-02\", \"New_deaths\": 0, \"Rolling\": 0.0, \"Fallecimientos confirmados diarios\": \"Fallecimientos confirmados diarios\", \"Promedio m\\u00f3vil \\u00faltimos 7 d\\u00edas\": \"Promedio m\\u00f3vil \\u00faltimos 7 d\\u00edas\"}, {\"Dates\": \"2020-04-03\", \"New_deaths\": 1, \"Rolling\": 0.14285714285714285, \"Fallecimientos confirmados diarios\": \"Fallecimientos confirmados diarios\", \"Promedio m\\u00f3vil \\u00faltimos 7 d\\u00edas\": \"Promedio m\\u00f3vil \\u00faltimos 7 d\\u00edas\"}, {\"Dates\": \"2020-04-04\", \"New_deaths\": 1, \"Rolling\": 0.2857142857142857, \"Fallecimientos confirmados diarios\": \"Fallecimientos confirmados diarios\", \"Promedio m\\u00f3vil \\u00faltimos 7 d\\u00edas\": \"Promedio m\\u00f3vil \\u00faltimos 7 d\\u00edas\"}, {\"Dates\": \"2020-04-05\", \"New_deaths\": 1, \"Rolling\": 0.42857142857142855, \"Fallecimientos confirmados diarios\": \"Fallecimientos confirmados diarios\", \"Promedio m\\u00f3vil \\u00faltimos 7 d\\u00edas\": \"Promedio m\\u00f3vil \\u00faltimos 7 d\\u00edas\"}, {\"Dates\": \"2020-04-06\", \"New_deaths\": 1, \"Rolling\": 0.5714285714285714, \"Fallecimientos confirmados diarios\": \"Fallecimientos confirmados diarios\", \"Promedio m\\u00f3vil \\u00faltimos 7 d\\u00edas\": \"Promedio m\\u00f3vil \\u00faltimos 7 d\\u00edas\"}, {\"Dates\": \"2020-04-07\", \"New_deaths\": 1, \"Rolling\": 0.7142857142857143, \"Fallecimientos confirmados diarios\": \"Fallecimientos confirmados diarios\", \"Promedio m\\u00f3vil \\u00faltimos 7 d\\u00edas\": \"Promedio m\\u00f3vil \\u00faltimos 7 d\\u00edas\"}, {\"Dates\": \"2020-04-08\", \"New_deaths\": 0, \"Rolling\": 0.7142857142857143, \"Fallecimientos confirmados diarios\": \"Fallecimientos confirmados diarios\", \"Promedio m\\u00f3vil \\u00faltimos 7 d\\u00edas\": \"Promedio m\\u00f3vil \\u00faltimos 7 d\\u00edas\"}, {\"Dates\": \"2020-04-09\", \"New_deaths\": 1, \"Rolling\": 0.8571428571428571, \"Fallecimientos confirmados diarios\": \"Fallecimientos confirmados diarios\", \"Promedio m\\u00f3vil \\u00faltimos 7 d\\u00edas\": \"Promedio m\\u00f3vil \\u00faltimos 7 d\\u00edas\"}, {\"Dates\": \"2020-04-10\", \"New_deaths\": 0, \"Rolling\": 0.7142857142857143, \"Fallecimientos confirmados diarios\": \"Fallecimientos confirmados diarios\", \"Promedio m\\u00f3vil \\u00faltimos 7 d\\u00edas\": \"Promedio m\\u00f3vil \\u00faltimos 7 d\\u00edas\"}, {\"Dates\": \"2020-04-11\", \"New_deaths\": 0, \"Rolling\": 0.5714285714285714, \"Fallecimientos confirmados diarios\": \"Fallecimientos confirmados diarios\", \"Promedio m\\u00f3vil \\u00faltimos 7 d\\u00edas\": \"Promedio m\\u00f3vil \\u00faltimos 7 d\\u00edas\"}, {\"Dates\": \"2020-04-12\", \"New_deaths\": 1, \"Rolling\": 0.5714285714285714, \"Fallecimientos confirmados diarios\": \"Fallecimientos confirmados diarios\", \"Promedio m\\u00f3vil \\u00faltimos 7 d\\u00edas\": \"Promedio m\\u00f3vil \\u00faltimos 7 d\\u00edas\"}, {\"Dates\": \"2020-04-13\", \"New_deaths\": 0, \"Rolling\": 0.42857142857142855, \"Fallecimientos confirmados diarios\": \"Fallecimientos confirmados diarios\", \"Promedio m\\u00f3vil \\u00faltimos 7 d\\u00edas\": \"Promedio m\\u00f3vil \\u00faltimos 7 d\\u00edas\"}, {\"Dates\": \"2020-04-14\", \"New_deaths\": 1, \"Rolling\": 0.42857142857142855, \"Fallecimientos confirmados diarios\": \"Fallecimientos confirmados diarios\", \"Promedio m\\u00f3vil \\u00faltimos 7 d\\u00edas\": \"Promedio m\\u00f3vil \\u00faltimos 7 d\\u00edas\"}, {\"Dates\": \"2020-04-15\", \"New_deaths\": 0, \"Rolling\": 0.42857142857142855, \"Fallecimientos confirmados diarios\": \"Fallecimientos confirmados diarios\", \"Promedio m\\u00f3vil \\u00faltimos 7 d\\u00edas\": \"Promedio m\\u00f3vil \\u00faltimos 7 d\\u00edas\"}, {\"Dates\": \"2020-04-16\", \"New_deaths\": 2, \"Rolling\": 0.5714285714285714, \"Fallecimientos confirmados diarios\": \"Fallecimientos confirmados diarios\", \"Promedio m\\u00f3vil \\u00faltimos 7 d\\u00edas\": \"Promedio m\\u00f3vil \\u00faltimos 7 d\\u00edas\"}, {\"Dates\": \"2020-04-17\", \"New_deaths\": 1, \"Rolling\": 0.7142857142857143, \"Fallecimientos confirmados diarios\": \"Fallecimientos confirmados diarios\", \"Promedio m\\u00f3vil \\u00faltimos 7 d\\u00edas\": \"Promedio m\\u00f3vil \\u00faltimos 7 d\\u00edas\"}, {\"Dates\": \"2020-04-18\", \"New_deaths\": 1, \"Rolling\": 0.8571428571428571, \"Fallecimientos confirmados diarios\": \"Fallecimientos confirmados diarios\", \"Promedio m\\u00f3vil \\u00faltimos 7 d\\u00edas\": \"Promedio m\\u00f3vil \\u00faltimos 7 d\\u00edas\"}, {\"Dates\": \"2020-04-19\", \"New_deaths\": 1, \"Rolling\": 0.8571428571428571, \"Fallecimientos confirmados diarios\": \"Fallecimientos confirmados diarios\", \"Promedio m\\u00f3vil \\u00faltimos 7 d\\u00edas\": \"Promedio m\\u00f3vil \\u00faltimos 7 d\\u00edas\"}, {\"Dates\": \"2020-04-20\", \"New_deaths\": 0, \"Rolling\": 0.8571428571428571, \"Fallecimientos confirmados diarios\": \"Fallecimientos confirmados diarios\", \"Promedio m\\u00f3vil \\u00faltimos 7 d\\u00edas\": \"Promedio m\\u00f3vil \\u00faltimos 7 d\\u00edas\"}, {\"Dates\": \"2020-04-21\", \"New_deaths\": 0, \"Rolling\": 0.7142857142857143, \"Fallecimientos confirmados diarios\": \"Fallecimientos confirmados diarios\", \"Promedio m\\u00f3vil \\u00faltimos 7 d\\u00edas\": \"Promedio m\\u00f3vil \\u00faltimos 7 d\\u00edas\"}, {\"Dates\": \"2020-04-22\", \"New_deaths\": 0, \"Rolling\": 0.7142857142857143, \"Fallecimientos confirmados diarios\": \"Fallecimientos confirmados diarios\", \"Promedio m\\u00f3vil \\u00faltimos 7 d\\u00edas\": \"Promedio m\\u00f3vil \\u00faltimos 7 d\\u00edas\"}, {\"Dates\": \"2020-04-23\", \"New_deaths\": 0, \"Rolling\": 0.42857142857142855, \"Fallecimientos confirmados diarios\": \"Fallecimientos confirmados diarios\", \"Promedio m\\u00f3vil \\u00faltimos 7 d\\u00edas\": \"Promedio m\\u00f3vil \\u00faltimos 7 d\\u00edas\"}, {\"Dates\": \"2020-04-24\", \"New_deaths\": 1, \"Rolling\": 0.42857142857142855, \"Fallecimientos confirmados diarios\": \"Fallecimientos confirmados diarios\", \"Promedio m\\u00f3vil \\u00faltimos 7 d\\u00edas\": \"Promedio m\\u00f3vil \\u00faltimos 7 d\\u00edas\"}, {\"Dates\": \"2020-04-25\", \"New_deaths\": 0, \"Rolling\": 0.2857142857142857, \"Fallecimientos confirmados diarios\": \"Fallecimientos confirmados diarios\", \"Promedio m\\u00f3vil \\u00faltimos 7 d\\u00edas\": \"Promedio m\\u00f3vil \\u00faltimos 7 d\\u00edas\"}, {\"Dates\": \"2020-04-26\", \"New_deaths\": 0, \"Rolling\": 0.14285714285714285, \"Fallecimientos confirmados diarios\": \"Fallecimientos confirmados diarios\", \"Promedio m\\u00f3vil \\u00faltimos 7 d\\u00edas\": \"Promedio m\\u00f3vil \\u00faltimos 7 d\\u00edas\"}, {\"Dates\": \"2020-04-27\", \"New_deaths\": 0, \"Rolling\": 0.14285714285714285, \"Fallecimientos confirmados diarios\": \"Fallecimientos confirmados diarios\", \"Promedio m\\u00f3vil \\u00faltimos 7 d\\u00edas\": \"Promedio m\\u00f3vil \\u00faltimos 7 d\\u00edas\"}, {\"Dates\": \"2020-04-28\", \"New_deaths\": 0, \"Rolling\": 0.14285714285714285, \"Fallecimientos confirmados diarios\": \"Fallecimientos confirmados diarios\", \"Promedio m\\u00f3vil \\u00faltimos 7 d\\u00edas\": \"Promedio m\\u00f3vil \\u00faltimos 7 d\\u00edas\"}, {\"Dates\": \"2020-04-29\", \"New_deaths\": 0, \"Rolling\": 0.14285714285714285, \"Fallecimientos confirmados diarios\": \"Fallecimientos confirmados diarios\", \"Promedio m\\u00f3vil \\u00faltimos 7 d\\u00edas\": \"Promedio m\\u00f3vil \\u00faltimos 7 d\\u00edas\"}, {\"Dates\": \"2020-04-30\", \"New_deaths\": 0, \"Rolling\": 0.14285714285714285, \"Fallecimientos confirmados diarios\": \"Fallecimientos confirmados diarios\", \"Promedio m\\u00f3vil \\u00faltimos 7 d\\u00edas\": \"Promedio m\\u00f3vil \\u00faltimos 7 d\\u00edas\"}, {\"Dates\": \"2020-05-01\", \"New_deaths\": 0, \"Rolling\": 0.0, \"Fallecimientos confirmados diarios\": \"Fallecimientos confirmados diarios\", \"Promedio m\\u00f3vil \\u00faltimos 7 d\\u00edas\": \"Promedio m\\u00f3vil \\u00faltimos 7 d\\u00edas\"}, {\"Dates\": \"2020-05-02\", \"New_deaths\": 2, \"Rolling\": 0.2857142857142857, \"Fallecimientos confirmados diarios\": \"Fallecimientos confirmados diarios\", \"Promedio m\\u00f3vil \\u00faltimos 7 d\\u00edas\": \"Promedio m\\u00f3vil \\u00faltimos 7 d\\u00edas\"}, {\"Dates\": \"2020-05-03\", \"New_deaths\": 0, \"Rolling\": 0.2857142857142857, \"Fallecimientos confirmados diarios\": \"Fallecimientos confirmados diarios\", \"Promedio m\\u00f3vil \\u00faltimos 7 d\\u00edas\": \"Promedio m\\u00f3vil \\u00faltimos 7 d\\u00edas\"}, {\"Dates\": \"2020-05-04\", \"New_deaths\": 1, \"Rolling\": 0.42857142857142855, \"Fallecimientos confirmados diarios\": \"Fallecimientos confirmados diarios\", \"Promedio m\\u00f3vil \\u00faltimos 7 d\\u00edas\": \"Promedio m\\u00f3vil \\u00faltimos 7 d\\u00edas\"}, {\"Dates\": \"2020-05-05\", \"New_deaths\": 0, \"Rolling\": 0.42857142857142855, \"Fallecimientos confirmados diarios\": \"Fallecimientos confirmados diarios\", \"Promedio m\\u00f3vil \\u00faltimos 7 d\\u00edas\": \"Promedio m\\u00f3vil \\u00faltimos 7 d\\u00edas\"}, {\"Dates\": \"2020-05-06\", \"New_deaths\": 0, \"Rolling\": 0.42857142857142855, \"Fallecimientos confirmados diarios\": \"Fallecimientos confirmados diarios\", \"Promedio m\\u00f3vil \\u00faltimos 7 d\\u00edas\": \"Promedio m\\u00f3vil \\u00faltimos 7 d\\u00edas\"}, {\"Dates\": \"2020-05-07\", \"New_deaths\": 0, \"Rolling\": 0.42857142857142855, \"Fallecimientos confirmados diarios\": \"Fallecimientos confirmados diarios\", \"Promedio m\\u00f3vil \\u00faltimos 7 d\\u00edas\": \"Promedio m\\u00f3vil \\u00faltimos 7 d\\u00edas\"}, {\"Dates\": \"2020-05-08\", \"New_deaths\": 1, \"Rolling\": 0.5714285714285714, \"Fallecimientos confirmados diarios\": \"Fallecimientos confirmados diarios\", \"Promedio m\\u00f3vil \\u00faltimos 7 d\\u00edas\": \"Promedio m\\u00f3vil \\u00faltimos 7 d\\u00edas\"}, {\"Dates\": \"2020-05-09\", \"New_deaths\": 0, \"Rolling\": 0.2857142857142857, \"Fallecimientos confirmados diarios\": \"Fallecimientos confirmados diarios\", \"Promedio m\\u00f3vil \\u00faltimos 7 d\\u00edas\": \"Promedio m\\u00f3vil \\u00faltimos 7 d\\u00edas\"}, {\"Dates\": \"2020-05-10\", \"New_deaths\": 0, \"Rolling\": 0.2857142857142857, \"Fallecimientos confirmados diarios\": \"Fallecimientos confirmados diarios\", \"Promedio m\\u00f3vil \\u00faltimos 7 d\\u00edas\": \"Promedio m\\u00f3vil \\u00faltimos 7 d\\u00edas\"}, {\"Dates\": \"2020-05-11\", \"New_deaths\": 0, \"Rolling\": 0.14285714285714285, \"Fallecimientos confirmados diarios\": \"Fallecimientos confirmados diarios\", \"Promedio m\\u00f3vil \\u00faltimos 7 d\\u00edas\": \"Promedio m\\u00f3vil \\u00faltimos 7 d\\u00edas\"}, {\"Dates\": \"2020-05-12\", \"New_deaths\": 1, \"Rolling\": 0.2857142857142857, \"Fallecimientos confirmados diarios\": \"Fallecimientos confirmados diarios\", \"Promedio m\\u00f3vil \\u00faltimos 7 d\\u00edas\": \"Promedio m\\u00f3vil \\u00faltimos 7 d\\u00edas\"}, {\"Dates\": \"2020-05-13\", \"New_deaths\": 0, \"Rolling\": 0.2857142857142857, \"Fallecimientos confirmados diarios\": \"Fallecimientos confirmados diarios\", \"Promedio m\\u00f3vil \\u00faltimos 7 d\\u00edas\": \"Promedio m\\u00f3vil \\u00faltimos 7 d\\u00edas\"}]}}, {\"mode\": \"vega-lite\"});\n",
       "</script>"
      ],
      "text/plain": [
       "alt.LayerChart(...)"
      ]
     },
     "execution_count": 67,
     "metadata": {},
     "output_type": "execute_result"
    }
   ],
   "source": [
    "#hide_input\n",
    "bars, line = my_deaths_plot(region)\n",
    "(bars + line).properties(\n",
    "    title=f'Covid-19 en Chile: Fallecimientos confirmados diarios en {region}',\n",
    "    width=600\n",
    ")"
   ]
  },
  {
   "cell_type": "markdown",
   "metadata": {},
   "source": [
    "## Biobío"
   ]
  },
  {
   "cell_type": "code",
   "execution_count": 68,
   "metadata": {
    "scrolled": true
   },
   "outputs": [],
   "source": [
    "#hide\n",
    "region = \"Biobío\""
   ]
  },
  {
   "cell_type": "code",
   "execution_count": 69,
   "metadata": {},
   "outputs": [
    {
     "data": {
      "text/html": [
       "\n",
       "<div id=\"altair-viz-5c5814f2a29e416db210954d02f617b7\"></div>\n",
       "<script type=\"text/javascript\">\n",
       "  (function(spec, embedOpt){\n",
       "    let outputDiv = document.currentScript.previousElementSibling;\n",
       "    if (outputDiv.id !== \"altair-viz-5c5814f2a29e416db210954d02f617b7\") {\n",
       "      outputDiv = document.getElementById(\"altair-viz-5c5814f2a29e416db210954d02f617b7\");\n",
       "    }\n",
       "    const paths = {\n",
       "      \"vega\": \"https://cdn.jsdelivr.net/npm//vega@5?noext\",\n",
       "      \"vega-lib\": \"https://cdn.jsdelivr.net/npm//vega-lib?noext\",\n",
       "      \"vega-lite\": \"https://cdn.jsdelivr.net/npm//vega-lite@4.8.1?noext\",\n",
       "      \"vega-embed\": \"https://cdn.jsdelivr.net/npm//vega-embed@6?noext\",\n",
       "    };\n",
       "\n",
       "    function loadScript(lib) {\n",
       "      return new Promise(function(resolve, reject) {\n",
       "        var s = document.createElement('script');\n",
       "        s.src = paths[lib];\n",
       "        s.async = true;\n",
       "        s.onload = () => resolve(paths[lib]);\n",
       "        s.onerror = () => reject(`Error loading script: ${paths[lib]}`);\n",
       "        document.getElementsByTagName(\"head\")[0].appendChild(s);\n",
       "      });\n",
       "    }\n",
       "\n",
       "    function showError(err) {\n",
       "      outputDiv.innerHTML = `<div class=\"error\" style=\"color:red;\">${err}</div>`;\n",
       "      throw err;\n",
       "    }\n",
       "\n",
       "    function displayChart(vegaEmbed) {\n",
       "      vegaEmbed(outputDiv, spec, embedOpt)\n",
       "        .catch(err => showError(`Javascript Error: ${err.message}<br>This usually means there's a typo in your chart specification. See the javascript console for the full traceback.`));\n",
       "    }\n",
       "\n",
       "    if(typeof define === \"function\" && define.amd) {\n",
       "      requirejs.config({paths});\n",
       "      require([\"vega-embed\"], displayChart, err => showError(`Error loading script: ${err.message}`));\n",
       "    } else if (typeof vegaEmbed === \"function\") {\n",
       "      displayChart(vegaEmbed);\n",
       "    } else {\n",
       "      loadScript(\"vega\")\n",
       "        .then(() => loadScript(\"vega-lite\"))\n",
       "        .then(() => loadScript(\"vega-embed\"))\n",
       "        .catch(showError)\n",
       "        .then(() => displayChart(vegaEmbed));\n",
       "    }\n",
       "  })({\"config\": {\"view\": {\"continuousWidth\": 400, \"continuousHeight\": 300}}, \"layer\": [{\"mark\": {\"type\": \"bar\", \"color\": \"firebrick\", \"opacity\": 0.7}, \"encoding\": {\"opacity\": {\"type\": \"nominal\", \"field\": \"Fallecimientos confirmados diarios\", \"legend\": {\"title\": \"\"}}, \"tooltip\": [{\"type\": \"nominal\", \"field\": \"Dates\"}, {\"type\": \"quantitative\", \"field\": \"New_deaths\"}], \"x\": {\"type\": \"nominal\", \"axis\": {\"title\": \"Fecha (a\\u00f1o-mes-d\\u00eda)\"}, \"field\": \"Dates\"}, \"y\": {\"type\": \"quantitative\", \"axis\": {\"title\": \"Fallecimientos confirmados diarios\"}, \"field\": \"New_deaths\"}}}, {\"mark\": {\"type\": \"line\", \"color\": \"firebrick\", \"point\": {\"filled\": true, \"fill\": \"firebrick\"}}, \"encoding\": {\"shape\": {\"type\": \"nominal\", \"field\": \"Promedio m\\u00f3vil \\u00faltimos 7 d\\u00edas\", \"legend\": {\"title\": \"\"}}, \"x\": {\"type\": \"nominal\", \"axis\": {\"title\": \"Fecha (a\\u00f1o-mes-d\\u00eda)\"}, \"field\": \"Dates\"}, \"y\": {\"type\": \"quantitative\", \"field\": \"Rolling\"}}}], \"data\": {\"name\": \"data-e4fe121789d30c0636f1fbf595522a2a\"}, \"title\": \"Covid-19 en Chile: Fallecimientos confirmados diarios en Biob\\u00edo\", \"width\": 600, \"$schema\": \"https://vega.github.io/schema/vega-lite/v4.8.1.json\", \"datasets\": {\"data-e4fe121789d30c0636f1fbf595522a2a\": [{\"Dates\": \"2020-03-25\", \"New_deaths\": 1, \"Rolling\": null, \"Fallecimientos confirmados diarios\": \"Fallecimientos confirmados diarios\", \"Promedio m\\u00f3vil \\u00faltimos 7 d\\u00edas\": \"Promedio m\\u00f3vil \\u00faltimos 7 d\\u00edas\"}, {\"Dates\": \"2020-03-26\", \"New_deaths\": 0, \"Rolling\": null, \"Fallecimientos confirmados diarios\": \"Fallecimientos confirmados diarios\", \"Promedio m\\u00f3vil \\u00faltimos 7 d\\u00edas\": \"Promedio m\\u00f3vil \\u00faltimos 7 d\\u00edas\"}, {\"Dates\": \"2020-03-27\", \"New_deaths\": 1, \"Rolling\": null, \"Fallecimientos confirmados diarios\": \"Fallecimientos confirmados diarios\", \"Promedio m\\u00f3vil \\u00faltimos 7 d\\u00edas\": \"Promedio m\\u00f3vil \\u00faltimos 7 d\\u00edas\"}, {\"Dates\": \"2020-03-28\", \"New_deaths\": 0, \"Rolling\": null, \"Fallecimientos confirmados diarios\": \"Fallecimientos confirmados diarios\", \"Promedio m\\u00f3vil \\u00faltimos 7 d\\u00edas\": \"Promedio m\\u00f3vil \\u00faltimos 7 d\\u00edas\"}, {\"Dates\": \"2020-03-29\", \"New_deaths\": 0, \"Rolling\": null, \"Fallecimientos confirmados diarios\": \"Fallecimientos confirmados diarios\", \"Promedio m\\u00f3vil \\u00faltimos 7 d\\u00edas\": \"Promedio m\\u00f3vil \\u00faltimos 7 d\\u00edas\"}, {\"Dates\": \"2020-03-30\", \"New_deaths\": 0, \"Rolling\": null, \"Fallecimientos confirmados diarios\": \"Fallecimientos confirmados diarios\", \"Promedio m\\u00f3vil \\u00faltimos 7 d\\u00edas\": \"Promedio m\\u00f3vil \\u00faltimos 7 d\\u00edas\"}, {\"Dates\": \"2020-03-31\", \"New_deaths\": 0, \"Rolling\": 0.2857142857142857, \"Fallecimientos confirmados diarios\": \"Fallecimientos confirmados diarios\", \"Promedio m\\u00f3vil \\u00faltimos 7 d\\u00edas\": \"Promedio m\\u00f3vil \\u00faltimos 7 d\\u00edas\"}, {\"Dates\": \"2020-04-01\", \"New_deaths\": 0, \"Rolling\": 0.14285714285714285, \"Fallecimientos confirmados diarios\": \"Fallecimientos confirmados diarios\", \"Promedio m\\u00f3vil \\u00faltimos 7 d\\u00edas\": \"Promedio m\\u00f3vil \\u00faltimos 7 d\\u00edas\"}, {\"Dates\": \"2020-04-02\", \"New_deaths\": 0, \"Rolling\": 0.14285714285714285, \"Fallecimientos confirmados diarios\": \"Fallecimientos confirmados diarios\", \"Promedio m\\u00f3vil \\u00faltimos 7 d\\u00edas\": \"Promedio m\\u00f3vil \\u00faltimos 7 d\\u00edas\"}, {\"Dates\": \"2020-04-03\", \"New_deaths\": 0, \"Rolling\": 0.0, \"Fallecimientos confirmados diarios\": \"Fallecimientos confirmados diarios\", \"Promedio m\\u00f3vil \\u00faltimos 7 d\\u00edas\": \"Promedio m\\u00f3vil \\u00faltimos 7 d\\u00edas\"}, {\"Dates\": \"2020-04-04\", \"New_deaths\": 0, \"Rolling\": 0.0, \"Fallecimientos confirmados diarios\": \"Fallecimientos confirmados diarios\", \"Promedio m\\u00f3vil \\u00faltimos 7 d\\u00edas\": \"Promedio m\\u00f3vil \\u00faltimos 7 d\\u00edas\"}, {\"Dates\": \"2020-04-05\", \"New_deaths\": 0, \"Rolling\": 0.0, \"Fallecimientos confirmados diarios\": \"Fallecimientos confirmados diarios\", \"Promedio m\\u00f3vil \\u00faltimos 7 d\\u00edas\": \"Promedio m\\u00f3vil \\u00faltimos 7 d\\u00edas\"}, {\"Dates\": \"2020-04-06\", \"New_deaths\": 0, \"Rolling\": 0.0, \"Fallecimientos confirmados diarios\": \"Fallecimientos confirmados diarios\", \"Promedio m\\u00f3vil \\u00faltimos 7 d\\u00edas\": \"Promedio m\\u00f3vil \\u00faltimos 7 d\\u00edas\"}, {\"Dates\": \"2020-04-07\", \"New_deaths\": 0, \"Rolling\": 0.0, \"Fallecimientos confirmados diarios\": \"Fallecimientos confirmados diarios\", \"Promedio m\\u00f3vil \\u00faltimos 7 d\\u00edas\": \"Promedio m\\u00f3vil \\u00faltimos 7 d\\u00edas\"}, {\"Dates\": \"2020-04-08\", \"New_deaths\": 0, \"Rolling\": 0.0, \"Fallecimientos confirmados diarios\": \"Fallecimientos confirmados diarios\", \"Promedio m\\u00f3vil \\u00faltimos 7 d\\u00edas\": \"Promedio m\\u00f3vil \\u00faltimos 7 d\\u00edas\"}, {\"Dates\": \"2020-04-09\", \"New_deaths\": 0, \"Rolling\": 0.0, \"Fallecimientos confirmados diarios\": \"Fallecimientos confirmados diarios\", \"Promedio m\\u00f3vil \\u00faltimos 7 d\\u00edas\": \"Promedio m\\u00f3vil \\u00faltimos 7 d\\u00edas\"}, {\"Dates\": \"2020-04-10\", \"New_deaths\": 0, \"Rolling\": 0.0, \"Fallecimientos confirmados diarios\": \"Fallecimientos confirmados diarios\", \"Promedio m\\u00f3vil \\u00faltimos 7 d\\u00edas\": \"Promedio m\\u00f3vil \\u00faltimos 7 d\\u00edas\"}, {\"Dates\": \"2020-04-11\", \"New_deaths\": 0, \"Rolling\": 0.0, \"Fallecimientos confirmados diarios\": \"Fallecimientos confirmados diarios\", \"Promedio m\\u00f3vil \\u00faltimos 7 d\\u00edas\": \"Promedio m\\u00f3vil \\u00faltimos 7 d\\u00edas\"}, {\"Dates\": \"2020-04-12\", \"New_deaths\": 0, \"Rolling\": 0.0, \"Fallecimientos confirmados diarios\": \"Fallecimientos confirmados diarios\", \"Promedio m\\u00f3vil \\u00faltimos 7 d\\u00edas\": \"Promedio m\\u00f3vil \\u00faltimos 7 d\\u00edas\"}, {\"Dates\": \"2020-04-13\", \"New_deaths\": 0, \"Rolling\": 0.0, \"Fallecimientos confirmados diarios\": \"Fallecimientos confirmados diarios\", \"Promedio m\\u00f3vil \\u00faltimos 7 d\\u00edas\": \"Promedio m\\u00f3vil \\u00faltimos 7 d\\u00edas\"}, {\"Dates\": \"2020-04-14\", \"New_deaths\": 0, \"Rolling\": 0.0, \"Fallecimientos confirmados diarios\": \"Fallecimientos confirmados diarios\", \"Promedio m\\u00f3vil \\u00faltimos 7 d\\u00edas\": \"Promedio m\\u00f3vil \\u00faltimos 7 d\\u00edas\"}, {\"Dates\": \"2020-04-15\", \"New_deaths\": 0, \"Rolling\": 0.0, \"Fallecimientos confirmados diarios\": \"Fallecimientos confirmados diarios\", \"Promedio m\\u00f3vil \\u00faltimos 7 d\\u00edas\": \"Promedio m\\u00f3vil \\u00faltimos 7 d\\u00edas\"}, {\"Dates\": \"2020-04-16\", \"New_deaths\": 0, \"Rolling\": 0.0, \"Fallecimientos confirmados diarios\": \"Fallecimientos confirmados diarios\", \"Promedio m\\u00f3vil \\u00faltimos 7 d\\u00edas\": \"Promedio m\\u00f3vil \\u00faltimos 7 d\\u00edas\"}, {\"Dates\": \"2020-04-17\", \"New_deaths\": 1, \"Rolling\": 0.14285714285714285, \"Fallecimientos confirmados diarios\": \"Fallecimientos confirmados diarios\", \"Promedio m\\u00f3vil \\u00faltimos 7 d\\u00edas\": \"Promedio m\\u00f3vil \\u00faltimos 7 d\\u00edas\"}, {\"Dates\": \"2020-04-18\", \"New_deaths\": 0, \"Rolling\": 0.14285714285714285, \"Fallecimientos confirmados diarios\": \"Fallecimientos confirmados diarios\", \"Promedio m\\u00f3vil \\u00faltimos 7 d\\u00edas\": \"Promedio m\\u00f3vil \\u00faltimos 7 d\\u00edas\"}, {\"Dates\": \"2020-04-19\", \"New_deaths\": 0, \"Rolling\": 0.14285714285714285, \"Fallecimientos confirmados diarios\": \"Fallecimientos confirmados diarios\", \"Promedio m\\u00f3vil \\u00faltimos 7 d\\u00edas\": \"Promedio m\\u00f3vil \\u00faltimos 7 d\\u00edas\"}, {\"Dates\": \"2020-04-20\", \"New_deaths\": 0, \"Rolling\": 0.14285714285714285, \"Fallecimientos confirmados diarios\": \"Fallecimientos confirmados diarios\", \"Promedio m\\u00f3vil \\u00faltimos 7 d\\u00edas\": \"Promedio m\\u00f3vil \\u00faltimos 7 d\\u00edas\"}, {\"Dates\": \"2020-04-21\", \"New_deaths\": 1, \"Rolling\": 0.2857142857142857, \"Fallecimientos confirmados diarios\": \"Fallecimientos confirmados diarios\", \"Promedio m\\u00f3vil \\u00faltimos 7 d\\u00edas\": \"Promedio m\\u00f3vil \\u00faltimos 7 d\\u00edas\"}, {\"Dates\": \"2020-04-22\", \"New_deaths\": 1, \"Rolling\": 0.42857142857142855, \"Fallecimientos confirmados diarios\": \"Fallecimientos confirmados diarios\", \"Promedio m\\u00f3vil \\u00faltimos 7 d\\u00edas\": \"Promedio m\\u00f3vil \\u00faltimos 7 d\\u00edas\"}, {\"Dates\": \"2020-04-23\", \"New_deaths\": 0, \"Rolling\": 0.42857142857142855, \"Fallecimientos confirmados diarios\": \"Fallecimientos confirmados diarios\", \"Promedio m\\u00f3vil \\u00faltimos 7 d\\u00edas\": \"Promedio m\\u00f3vil \\u00faltimos 7 d\\u00edas\"}, {\"Dates\": \"2020-04-24\", \"New_deaths\": 0, \"Rolling\": 0.2857142857142857, \"Fallecimientos confirmados diarios\": \"Fallecimientos confirmados diarios\", \"Promedio m\\u00f3vil \\u00faltimos 7 d\\u00edas\": \"Promedio m\\u00f3vil \\u00faltimos 7 d\\u00edas\"}, {\"Dates\": \"2020-04-25\", \"New_deaths\": 0, \"Rolling\": 0.2857142857142857, \"Fallecimientos confirmados diarios\": \"Fallecimientos confirmados diarios\", \"Promedio m\\u00f3vil \\u00faltimos 7 d\\u00edas\": \"Promedio m\\u00f3vil \\u00faltimos 7 d\\u00edas\"}, {\"Dates\": \"2020-04-26\", \"New_deaths\": 1, \"Rolling\": 0.42857142857142855, \"Fallecimientos confirmados diarios\": \"Fallecimientos confirmados diarios\", \"Promedio m\\u00f3vil \\u00faltimos 7 d\\u00edas\": \"Promedio m\\u00f3vil \\u00faltimos 7 d\\u00edas\"}, {\"Dates\": \"2020-04-27\", \"New_deaths\": 0, \"Rolling\": 0.42857142857142855, \"Fallecimientos confirmados diarios\": \"Fallecimientos confirmados diarios\", \"Promedio m\\u00f3vil \\u00faltimos 7 d\\u00edas\": \"Promedio m\\u00f3vil \\u00faltimos 7 d\\u00edas\"}, {\"Dates\": \"2020-04-28\", \"New_deaths\": 1, \"Rolling\": 0.42857142857142855, \"Fallecimientos confirmados diarios\": \"Fallecimientos confirmados diarios\", \"Promedio m\\u00f3vil \\u00faltimos 7 d\\u00edas\": \"Promedio m\\u00f3vil \\u00faltimos 7 d\\u00edas\"}, {\"Dates\": \"2020-04-29\", \"New_deaths\": 0, \"Rolling\": 0.2857142857142857, \"Fallecimientos confirmados diarios\": \"Fallecimientos confirmados diarios\", \"Promedio m\\u00f3vil \\u00faltimos 7 d\\u00edas\": \"Promedio m\\u00f3vil \\u00faltimos 7 d\\u00edas\"}, {\"Dates\": \"2020-04-30\", \"New_deaths\": 0, \"Rolling\": 0.2857142857142857, \"Fallecimientos confirmados diarios\": \"Fallecimientos confirmados diarios\", \"Promedio m\\u00f3vil \\u00faltimos 7 d\\u00edas\": \"Promedio m\\u00f3vil \\u00faltimos 7 d\\u00edas\"}, {\"Dates\": \"2020-05-01\", \"New_deaths\": 0, \"Rolling\": 0.2857142857142857, \"Fallecimientos confirmados diarios\": \"Fallecimientos confirmados diarios\", \"Promedio m\\u00f3vil \\u00faltimos 7 d\\u00edas\": \"Promedio m\\u00f3vil \\u00faltimos 7 d\\u00edas\"}, {\"Dates\": \"2020-05-02\", \"New_deaths\": 0, \"Rolling\": 0.2857142857142857, \"Fallecimientos confirmados diarios\": \"Fallecimientos confirmados diarios\", \"Promedio m\\u00f3vil \\u00faltimos 7 d\\u00edas\": \"Promedio m\\u00f3vil \\u00faltimos 7 d\\u00edas\"}, {\"Dates\": \"2020-05-03\", \"New_deaths\": 0, \"Rolling\": 0.14285714285714285, \"Fallecimientos confirmados diarios\": \"Fallecimientos confirmados diarios\", \"Promedio m\\u00f3vil \\u00faltimos 7 d\\u00edas\": \"Promedio m\\u00f3vil \\u00faltimos 7 d\\u00edas\"}, {\"Dates\": \"2020-05-04\", \"New_deaths\": 1, \"Rolling\": 0.2857142857142857, \"Fallecimientos confirmados diarios\": \"Fallecimientos confirmados diarios\", \"Promedio m\\u00f3vil \\u00faltimos 7 d\\u00edas\": \"Promedio m\\u00f3vil \\u00faltimos 7 d\\u00edas\"}, {\"Dates\": \"2020-05-05\", \"New_deaths\": 0, \"Rolling\": 0.14285714285714285, \"Fallecimientos confirmados diarios\": \"Fallecimientos confirmados diarios\", \"Promedio m\\u00f3vil \\u00faltimos 7 d\\u00edas\": \"Promedio m\\u00f3vil \\u00faltimos 7 d\\u00edas\"}, {\"Dates\": \"2020-05-06\", \"New_deaths\": 0, \"Rolling\": 0.14285714285714285, \"Fallecimientos confirmados diarios\": \"Fallecimientos confirmados diarios\", \"Promedio m\\u00f3vil \\u00faltimos 7 d\\u00edas\": \"Promedio m\\u00f3vil \\u00faltimos 7 d\\u00edas\"}, {\"Dates\": \"2020-05-07\", \"New_deaths\": 0, \"Rolling\": 0.14285714285714285, \"Fallecimientos confirmados diarios\": \"Fallecimientos confirmados diarios\", \"Promedio m\\u00f3vil \\u00faltimos 7 d\\u00edas\": \"Promedio m\\u00f3vil \\u00faltimos 7 d\\u00edas\"}, {\"Dates\": \"2020-05-08\", \"New_deaths\": 0, \"Rolling\": 0.14285714285714285, \"Fallecimientos confirmados diarios\": \"Fallecimientos confirmados diarios\", \"Promedio m\\u00f3vil \\u00faltimos 7 d\\u00edas\": \"Promedio m\\u00f3vil \\u00faltimos 7 d\\u00edas\"}, {\"Dates\": \"2020-05-09\", \"New_deaths\": 0, \"Rolling\": 0.14285714285714285, \"Fallecimientos confirmados diarios\": \"Fallecimientos confirmados diarios\", \"Promedio m\\u00f3vil \\u00faltimos 7 d\\u00edas\": \"Promedio m\\u00f3vil \\u00faltimos 7 d\\u00edas\"}, {\"Dates\": \"2020-05-10\", \"New_deaths\": 0, \"Rolling\": 0.14285714285714285, \"Fallecimientos confirmados diarios\": \"Fallecimientos confirmados diarios\", \"Promedio m\\u00f3vil \\u00faltimos 7 d\\u00edas\": \"Promedio m\\u00f3vil \\u00faltimos 7 d\\u00edas\"}, {\"Dates\": \"2020-05-11\", \"New_deaths\": 0, \"Rolling\": 0.0, \"Fallecimientos confirmados diarios\": \"Fallecimientos confirmados diarios\", \"Promedio m\\u00f3vil \\u00faltimos 7 d\\u00edas\": \"Promedio m\\u00f3vil \\u00faltimos 7 d\\u00edas\"}, {\"Dates\": \"2020-05-12\", \"New_deaths\": 1, \"Rolling\": 0.14285714285714285, \"Fallecimientos confirmados diarios\": \"Fallecimientos confirmados diarios\", \"Promedio m\\u00f3vil \\u00faltimos 7 d\\u00edas\": \"Promedio m\\u00f3vil \\u00faltimos 7 d\\u00edas\"}, {\"Dates\": \"2020-05-13\", \"New_deaths\": 0, \"Rolling\": 0.14285714285714285, \"Fallecimientos confirmados diarios\": \"Fallecimientos confirmados diarios\", \"Promedio m\\u00f3vil \\u00faltimos 7 d\\u00edas\": \"Promedio m\\u00f3vil \\u00faltimos 7 d\\u00edas\"}]}}, {\"mode\": \"vega-lite\"});\n",
       "</script>"
      ],
      "text/plain": [
       "alt.LayerChart(...)"
      ]
     },
     "execution_count": 69,
     "metadata": {},
     "output_type": "execute_result"
    }
   ],
   "source": [
    "#hide_input\n",
    "bars, line = my_deaths_plot(region)\n",
    "(bars + line).properties(\n",
    "    title=f'Covid-19 en Chile: Fallecimientos confirmados diarios en {region}',\n",
    "    width=600\n",
    ")"
   ]
  },
  {
   "cell_type": "markdown",
   "metadata": {},
   "source": [
    "## Araucanía"
   ]
  },
  {
   "cell_type": "code",
   "execution_count": 70,
   "metadata": {
    "scrolled": true
   },
   "outputs": [],
   "source": [
    "#hide\n",
    "region = \"Araucanía\""
   ]
  },
  {
   "cell_type": "code",
   "execution_count": 71,
   "metadata": {},
   "outputs": [
    {
     "data": {
      "text/html": [
       "\n",
       "<div id=\"altair-viz-464c23a5d7d9416986c19c70bc83631a\"></div>\n",
       "<script type=\"text/javascript\">\n",
       "  (function(spec, embedOpt){\n",
       "    let outputDiv = document.currentScript.previousElementSibling;\n",
       "    if (outputDiv.id !== \"altair-viz-464c23a5d7d9416986c19c70bc83631a\") {\n",
       "      outputDiv = document.getElementById(\"altair-viz-464c23a5d7d9416986c19c70bc83631a\");\n",
       "    }\n",
       "    const paths = {\n",
       "      \"vega\": \"https://cdn.jsdelivr.net/npm//vega@5?noext\",\n",
       "      \"vega-lib\": \"https://cdn.jsdelivr.net/npm//vega-lib?noext\",\n",
       "      \"vega-lite\": \"https://cdn.jsdelivr.net/npm//vega-lite@4.8.1?noext\",\n",
       "      \"vega-embed\": \"https://cdn.jsdelivr.net/npm//vega-embed@6?noext\",\n",
       "    };\n",
       "\n",
       "    function loadScript(lib) {\n",
       "      return new Promise(function(resolve, reject) {\n",
       "        var s = document.createElement('script');\n",
       "        s.src = paths[lib];\n",
       "        s.async = true;\n",
       "        s.onload = () => resolve(paths[lib]);\n",
       "        s.onerror = () => reject(`Error loading script: ${paths[lib]}`);\n",
       "        document.getElementsByTagName(\"head\")[0].appendChild(s);\n",
       "      });\n",
       "    }\n",
       "\n",
       "    function showError(err) {\n",
       "      outputDiv.innerHTML = `<div class=\"error\" style=\"color:red;\">${err}</div>`;\n",
       "      throw err;\n",
       "    }\n",
       "\n",
       "    function displayChart(vegaEmbed) {\n",
       "      vegaEmbed(outputDiv, spec, embedOpt)\n",
       "        .catch(err => showError(`Javascript Error: ${err.message}<br>This usually means there's a typo in your chart specification. See the javascript console for the full traceback.`));\n",
       "    }\n",
       "\n",
       "    if(typeof define === \"function\" && define.amd) {\n",
       "      requirejs.config({paths});\n",
       "      require([\"vega-embed\"], displayChart, err => showError(`Error loading script: ${err.message}`));\n",
       "    } else if (typeof vegaEmbed === \"function\") {\n",
       "      displayChart(vegaEmbed);\n",
       "    } else {\n",
       "      loadScript(\"vega\")\n",
       "        .then(() => loadScript(\"vega-lite\"))\n",
       "        .then(() => loadScript(\"vega-embed\"))\n",
       "        .catch(showError)\n",
       "        .then(() => displayChart(vegaEmbed));\n",
       "    }\n",
       "  })({\"config\": {\"view\": {\"continuousWidth\": 400, \"continuousHeight\": 300}}, \"layer\": [{\"mark\": {\"type\": \"bar\", \"color\": \"firebrick\", \"opacity\": 0.7}, \"encoding\": {\"opacity\": {\"type\": \"nominal\", \"field\": \"Fallecimientos confirmados diarios\", \"legend\": {\"title\": \"\"}}, \"tooltip\": [{\"type\": \"nominal\", \"field\": \"Dates\"}, {\"type\": \"quantitative\", \"field\": \"New_deaths\"}], \"x\": {\"type\": \"nominal\", \"axis\": {\"title\": \"Fecha (a\\u00f1o-mes-d\\u00eda)\"}, \"field\": \"Dates\"}, \"y\": {\"type\": \"quantitative\", \"axis\": {\"title\": \"Fallecimientos confirmados diarios\"}, \"field\": \"New_deaths\"}}}, {\"mark\": {\"type\": \"line\", \"color\": \"firebrick\", \"point\": {\"filled\": true, \"fill\": \"firebrick\"}}, \"encoding\": {\"shape\": {\"type\": \"nominal\", \"field\": \"Promedio m\\u00f3vil \\u00faltimos 7 d\\u00edas\", \"legend\": {\"title\": \"\"}}, \"x\": {\"type\": \"nominal\", \"axis\": {\"title\": \"Fecha (a\\u00f1o-mes-d\\u00eda)\"}, \"field\": \"Dates\"}, \"y\": {\"type\": \"quantitative\", \"field\": \"Rolling\"}}}], \"data\": {\"name\": \"data-d2901d84bbc099a782616af276df068b\"}, \"title\": \"Covid-19 en Chile: Fallecimientos confirmados diarios en Araucan\\u00eda\", \"width\": 600, \"$schema\": \"https://vega.github.io/schema/vega-lite/v4.8.1.json\", \"datasets\": {\"data-d2901d84bbc099a782616af276df068b\": [{\"Dates\": \"2020-03-25\", \"New_deaths\": 0, \"Rolling\": null, \"Fallecimientos confirmados diarios\": \"Fallecimientos confirmados diarios\", \"Promedio m\\u00f3vil \\u00faltimos 7 d\\u00edas\": \"Promedio m\\u00f3vil \\u00faltimos 7 d\\u00edas\"}, {\"Dates\": \"2020-03-26\", \"New_deaths\": 0, \"Rolling\": null, \"Fallecimientos confirmados diarios\": \"Fallecimientos confirmados diarios\", \"Promedio m\\u00f3vil \\u00faltimos 7 d\\u00edas\": \"Promedio m\\u00f3vil \\u00faltimos 7 d\\u00edas\"}, {\"Dates\": \"2020-03-27\", \"New_deaths\": 0, \"Rolling\": null, \"Fallecimientos confirmados diarios\": \"Fallecimientos confirmados diarios\", \"Promedio m\\u00f3vil \\u00faltimos 7 d\\u00edas\": \"Promedio m\\u00f3vil \\u00faltimos 7 d\\u00edas\"}, {\"Dates\": \"2020-03-28\", \"New_deaths\": 1, \"Rolling\": null, \"Fallecimientos confirmados diarios\": \"Fallecimientos confirmados diarios\", \"Promedio m\\u00f3vil \\u00faltimos 7 d\\u00edas\": \"Promedio m\\u00f3vil \\u00faltimos 7 d\\u00edas\"}, {\"Dates\": \"2020-03-29\", \"New_deaths\": 1, \"Rolling\": null, \"Fallecimientos confirmados diarios\": \"Fallecimientos confirmados diarios\", \"Promedio m\\u00f3vil \\u00faltimos 7 d\\u00edas\": \"Promedio m\\u00f3vil \\u00faltimos 7 d\\u00edas\"}, {\"Dates\": \"2020-03-30\", \"New_deaths\": 0, \"Rolling\": null, \"Fallecimientos confirmados diarios\": \"Fallecimientos confirmados diarios\", \"Promedio m\\u00f3vil \\u00faltimos 7 d\\u00edas\": \"Promedio m\\u00f3vil \\u00faltimos 7 d\\u00edas\"}, {\"Dates\": \"2020-03-31\", \"New_deaths\": 2, \"Rolling\": 0.5714285714285714, \"Fallecimientos confirmados diarios\": \"Fallecimientos confirmados diarios\", \"Promedio m\\u00f3vil \\u00faltimos 7 d\\u00edas\": \"Promedio m\\u00f3vil \\u00faltimos 7 d\\u00edas\"}, {\"Dates\": \"2020-04-01\", \"New_deaths\": 2, \"Rolling\": 0.8571428571428571, \"Fallecimientos confirmados diarios\": \"Fallecimientos confirmados diarios\", \"Promedio m\\u00f3vil \\u00faltimos 7 d\\u00edas\": \"Promedio m\\u00f3vil \\u00faltimos 7 d\\u00edas\"}, {\"Dates\": \"2020-04-02\", \"New_deaths\": 1, \"Rolling\": 1.0, \"Fallecimientos confirmados diarios\": \"Fallecimientos confirmados diarios\", \"Promedio m\\u00f3vil \\u00faltimos 7 d\\u00edas\": \"Promedio m\\u00f3vil \\u00faltimos 7 d\\u00edas\"}, {\"Dates\": \"2020-04-03\", \"New_deaths\": 0, \"Rolling\": 1.0, \"Fallecimientos confirmados diarios\": \"Fallecimientos confirmados diarios\", \"Promedio m\\u00f3vil \\u00faltimos 7 d\\u00edas\": \"Promedio m\\u00f3vil \\u00faltimos 7 d\\u00edas\"}, {\"Dates\": \"2020-04-04\", \"New_deaths\": 2, \"Rolling\": 1.1428571428571428, \"Fallecimientos confirmados diarios\": \"Fallecimientos confirmados diarios\", \"Promedio m\\u00f3vil \\u00faltimos 7 d\\u00edas\": \"Promedio m\\u00f3vil \\u00faltimos 7 d\\u00edas\"}, {\"Dates\": \"2020-04-05\", \"New_deaths\": 4, \"Rolling\": 1.5714285714285714, \"Fallecimientos confirmados diarios\": \"Fallecimientos confirmados diarios\", \"Promedio m\\u00f3vil \\u00faltimos 7 d\\u00edas\": \"Promedio m\\u00f3vil \\u00faltimos 7 d\\u00edas\"}, {\"Dates\": \"2020-04-06\", \"New_deaths\": 1, \"Rolling\": 1.7142857142857142, \"Fallecimientos confirmados diarios\": \"Fallecimientos confirmados diarios\", \"Promedio m\\u00f3vil \\u00faltimos 7 d\\u00edas\": \"Promedio m\\u00f3vil \\u00faltimos 7 d\\u00edas\"}, {\"Dates\": \"2020-04-07\", \"New_deaths\": 0, \"Rolling\": 1.4285714285714286, \"Fallecimientos confirmados diarios\": \"Fallecimientos confirmados diarios\", \"Promedio m\\u00f3vil \\u00faltimos 7 d\\u00edas\": \"Promedio m\\u00f3vil \\u00faltimos 7 d\\u00edas\"}, {\"Dates\": \"2020-04-08\", \"New_deaths\": 1, \"Rolling\": 1.2857142857142858, \"Fallecimientos confirmados diarios\": \"Fallecimientos confirmados diarios\", \"Promedio m\\u00f3vil \\u00faltimos 7 d\\u00edas\": \"Promedio m\\u00f3vil \\u00faltimos 7 d\\u00edas\"}, {\"Dates\": \"2020-04-09\", \"New_deaths\": 1, \"Rolling\": 1.2857142857142858, \"Fallecimientos confirmados diarios\": \"Fallecimientos confirmados diarios\", \"Promedio m\\u00f3vil \\u00faltimos 7 d\\u00edas\": \"Promedio m\\u00f3vil \\u00faltimos 7 d\\u00edas\"}, {\"Dates\": \"2020-04-10\", \"New_deaths\": 0, \"Rolling\": 1.2857142857142858, \"Fallecimientos confirmados diarios\": \"Fallecimientos confirmados diarios\", \"Promedio m\\u00f3vil \\u00faltimos 7 d\\u00edas\": \"Promedio m\\u00f3vil \\u00faltimos 7 d\\u00edas\"}, {\"Dates\": \"2020-04-11\", \"New_deaths\": 1, \"Rolling\": 1.1428571428571428, \"Fallecimientos confirmados diarios\": \"Fallecimientos confirmados diarios\", \"Promedio m\\u00f3vil \\u00faltimos 7 d\\u00edas\": \"Promedio m\\u00f3vil \\u00faltimos 7 d\\u00edas\"}, {\"Dates\": \"2020-04-12\", \"New_deaths\": 0, \"Rolling\": 0.5714285714285714, \"Fallecimientos confirmados diarios\": \"Fallecimientos confirmados diarios\", \"Promedio m\\u00f3vil \\u00faltimos 7 d\\u00edas\": \"Promedio m\\u00f3vil \\u00faltimos 7 d\\u00edas\"}, {\"Dates\": \"2020-04-13\", \"New_deaths\": 0, \"Rolling\": 0.42857142857142855, \"Fallecimientos confirmados diarios\": \"Fallecimientos confirmados diarios\", \"Promedio m\\u00f3vil \\u00faltimos 7 d\\u00edas\": \"Promedio m\\u00f3vil \\u00faltimos 7 d\\u00edas\"}, {\"Dates\": \"2020-04-14\", \"New_deaths\": 3, \"Rolling\": 0.8571428571428571, \"Fallecimientos confirmados diarios\": \"Fallecimientos confirmados diarios\", \"Promedio m\\u00f3vil \\u00faltimos 7 d\\u00edas\": \"Promedio m\\u00f3vil \\u00faltimos 7 d\\u00edas\"}, {\"Dates\": \"2020-04-15\", \"New_deaths\": 1, \"Rolling\": 0.8571428571428571, \"Fallecimientos confirmados diarios\": \"Fallecimientos confirmados diarios\", \"Promedio m\\u00f3vil \\u00faltimos 7 d\\u00edas\": \"Promedio m\\u00f3vil \\u00faltimos 7 d\\u00edas\"}, {\"Dates\": \"2020-04-16\", \"New_deaths\": 0, \"Rolling\": 0.7142857142857143, \"Fallecimientos confirmados diarios\": \"Fallecimientos confirmados diarios\", \"Promedio m\\u00f3vil \\u00faltimos 7 d\\u00edas\": \"Promedio m\\u00f3vil \\u00faltimos 7 d\\u00edas\"}, {\"Dates\": \"2020-04-17\", \"New_deaths\": 1, \"Rolling\": 0.8571428571428571, \"Fallecimientos confirmados diarios\": \"Fallecimientos confirmados diarios\", \"Promedio m\\u00f3vil \\u00faltimos 7 d\\u00edas\": \"Promedio m\\u00f3vil \\u00faltimos 7 d\\u00edas\"}, {\"Dates\": \"2020-04-18\", \"New_deaths\": 1, \"Rolling\": 0.8571428571428571, \"Fallecimientos confirmados diarios\": \"Fallecimientos confirmados diarios\", \"Promedio m\\u00f3vil \\u00faltimos 7 d\\u00edas\": \"Promedio m\\u00f3vil \\u00faltimos 7 d\\u00edas\"}, {\"Dates\": \"2020-04-19\", \"New_deaths\": 0, \"Rolling\": 0.8571428571428571, \"Fallecimientos confirmados diarios\": \"Fallecimientos confirmados diarios\", \"Promedio m\\u00f3vil \\u00faltimos 7 d\\u00edas\": \"Promedio m\\u00f3vil \\u00faltimos 7 d\\u00edas\"}, {\"Dates\": \"2020-04-20\", \"New_deaths\": 0, \"Rolling\": 0.8571428571428571, \"Fallecimientos confirmados diarios\": \"Fallecimientos confirmados diarios\", \"Promedio m\\u00f3vil \\u00faltimos 7 d\\u00edas\": \"Promedio m\\u00f3vil \\u00faltimos 7 d\\u00edas\"}, {\"Dates\": \"2020-04-21\", \"New_deaths\": 2, \"Rolling\": 0.7142857142857143, \"Fallecimientos confirmados diarios\": \"Fallecimientos confirmados diarios\", \"Promedio m\\u00f3vil \\u00faltimos 7 d\\u00edas\": \"Promedio m\\u00f3vil \\u00faltimos 7 d\\u00edas\"}, {\"Dates\": \"2020-04-22\", \"New_deaths\": 1, \"Rolling\": 0.7142857142857143, \"Fallecimientos confirmados diarios\": \"Fallecimientos confirmados diarios\", \"Promedio m\\u00f3vil \\u00faltimos 7 d\\u00edas\": \"Promedio m\\u00f3vil \\u00faltimos 7 d\\u00edas\"}, {\"Dates\": \"2020-04-23\", \"New_deaths\": 0, \"Rolling\": 0.7142857142857143, \"Fallecimientos confirmados diarios\": \"Fallecimientos confirmados diarios\", \"Promedio m\\u00f3vil \\u00faltimos 7 d\\u00edas\": \"Promedio m\\u00f3vil \\u00faltimos 7 d\\u00edas\"}, {\"Dates\": \"2020-04-24\", \"New_deaths\": 0, \"Rolling\": 0.5714285714285714, \"Fallecimientos confirmados diarios\": \"Fallecimientos confirmados diarios\", \"Promedio m\\u00f3vil \\u00faltimos 7 d\\u00edas\": \"Promedio m\\u00f3vil \\u00faltimos 7 d\\u00edas\"}, {\"Dates\": \"2020-04-25\", \"New_deaths\": 1, \"Rolling\": 0.5714285714285714, \"Fallecimientos confirmados diarios\": \"Fallecimientos confirmados diarios\", \"Promedio m\\u00f3vil \\u00faltimos 7 d\\u00edas\": \"Promedio m\\u00f3vil \\u00faltimos 7 d\\u00edas\"}, {\"Dates\": \"2020-04-26\", \"New_deaths\": 2, \"Rolling\": 0.8571428571428571, \"Fallecimientos confirmados diarios\": \"Fallecimientos confirmados diarios\", \"Promedio m\\u00f3vil \\u00faltimos 7 d\\u00edas\": \"Promedio m\\u00f3vil \\u00faltimos 7 d\\u00edas\"}, {\"Dates\": \"2020-04-27\", \"New_deaths\": 3, \"Rolling\": 1.2857142857142858, \"Fallecimientos confirmados diarios\": \"Fallecimientos confirmados diarios\", \"Promedio m\\u00f3vil \\u00faltimos 7 d\\u00edas\": \"Promedio m\\u00f3vil \\u00faltimos 7 d\\u00edas\"}, {\"Dates\": \"2020-04-28\", \"New_deaths\": 0, \"Rolling\": 1.0, \"Fallecimientos confirmados diarios\": \"Fallecimientos confirmados diarios\", \"Promedio m\\u00f3vil \\u00faltimos 7 d\\u00edas\": \"Promedio m\\u00f3vil \\u00faltimos 7 d\\u00edas\"}, {\"Dates\": \"2020-04-29\", \"New_deaths\": 0, \"Rolling\": 0.8571428571428571, \"Fallecimientos confirmados diarios\": \"Fallecimientos confirmados diarios\", \"Promedio m\\u00f3vil \\u00faltimos 7 d\\u00edas\": \"Promedio m\\u00f3vil \\u00faltimos 7 d\\u00edas\"}, {\"Dates\": \"2020-04-30\", \"New_deaths\": 3, \"Rolling\": 1.2857142857142858, \"Fallecimientos confirmados diarios\": \"Fallecimientos confirmados diarios\", \"Promedio m\\u00f3vil \\u00faltimos 7 d\\u00edas\": \"Promedio m\\u00f3vil \\u00faltimos 7 d\\u00edas\"}, {\"Dates\": \"2020-05-01\", \"New_deaths\": 1, \"Rolling\": 1.4285714285714286, \"Fallecimientos confirmados diarios\": \"Fallecimientos confirmados diarios\", \"Promedio m\\u00f3vil \\u00faltimos 7 d\\u00edas\": \"Promedio m\\u00f3vil \\u00faltimos 7 d\\u00edas\"}, {\"Dates\": \"2020-05-02\", \"New_deaths\": 0, \"Rolling\": 1.2857142857142858, \"Fallecimientos confirmados diarios\": \"Fallecimientos confirmados diarios\", \"Promedio m\\u00f3vil \\u00faltimos 7 d\\u00edas\": \"Promedio m\\u00f3vil \\u00faltimos 7 d\\u00edas\"}, {\"Dates\": \"2020-05-03\", \"New_deaths\": 0, \"Rolling\": 1.0, \"Fallecimientos confirmados diarios\": \"Fallecimientos confirmados diarios\", \"Promedio m\\u00f3vil \\u00faltimos 7 d\\u00edas\": \"Promedio m\\u00f3vil \\u00faltimos 7 d\\u00edas\"}, {\"Dates\": \"2020-05-04\", \"New_deaths\": 0, \"Rolling\": 0.5714285714285714, \"Fallecimientos confirmados diarios\": \"Fallecimientos confirmados diarios\", \"Promedio m\\u00f3vil \\u00faltimos 7 d\\u00edas\": \"Promedio m\\u00f3vil \\u00faltimos 7 d\\u00edas\"}, {\"Dates\": \"2020-05-05\", \"New_deaths\": 0, \"Rolling\": 0.5714285714285714, \"Fallecimientos confirmados diarios\": \"Fallecimientos confirmados diarios\", \"Promedio m\\u00f3vil \\u00faltimos 7 d\\u00edas\": \"Promedio m\\u00f3vil \\u00faltimos 7 d\\u00edas\"}, {\"Dates\": \"2020-05-06\", \"New_deaths\": 0, \"Rolling\": 0.5714285714285714, \"Fallecimientos confirmados diarios\": \"Fallecimientos confirmados diarios\", \"Promedio m\\u00f3vil \\u00faltimos 7 d\\u00edas\": \"Promedio m\\u00f3vil \\u00faltimos 7 d\\u00edas\"}, {\"Dates\": \"2020-05-07\", \"New_deaths\": 0, \"Rolling\": 0.14285714285714285, \"Fallecimientos confirmados diarios\": \"Fallecimientos confirmados diarios\", \"Promedio m\\u00f3vil \\u00faltimos 7 d\\u00edas\": \"Promedio m\\u00f3vil \\u00faltimos 7 d\\u00edas\"}, {\"Dates\": \"2020-05-08\", \"New_deaths\": 0, \"Rolling\": 0.0, \"Fallecimientos confirmados diarios\": \"Fallecimientos confirmados diarios\", \"Promedio m\\u00f3vil \\u00faltimos 7 d\\u00edas\": \"Promedio m\\u00f3vil \\u00faltimos 7 d\\u00edas\"}, {\"Dates\": \"2020-05-09\", \"New_deaths\": 0, \"Rolling\": 0.0, \"Fallecimientos confirmados diarios\": \"Fallecimientos confirmados diarios\", \"Promedio m\\u00f3vil \\u00faltimos 7 d\\u00edas\": \"Promedio m\\u00f3vil \\u00faltimos 7 d\\u00edas\"}, {\"Dates\": \"2020-05-10\", \"New_deaths\": 1, \"Rolling\": 0.14285714285714285, \"Fallecimientos confirmados diarios\": \"Fallecimientos confirmados diarios\", \"Promedio m\\u00f3vil \\u00faltimos 7 d\\u00edas\": \"Promedio m\\u00f3vil \\u00faltimos 7 d\\u00edas\"}, {\"Dates\": \"2020-05-11\", \"New_deaths\": 1, \"Rolling\": 0.2857142857142857, \"Fallecimientos confirmados diarios\": \"Fallecimientos confirmados diarios\", \"Promedio m\\u00f3vil \\u00faltimos 7 d\\u00edas\": \"Promedio m\\u00f3vil \\u00faltimos 7 d\\u00edas\"}, {\"Dates\": \"2020-05-12\", \"New_deaths\": 1, \"Rolling\": 0.42857142857142855, \"Fallecimientos confirmados diarios\": \"Fallecimientos confirmados diarios\", \"Promedio m\\u00f3vil \\u00faltimos 7 d\\u00edas\": \"Promedio m\\u00f3vil \\u00faltimos 7 d\\u00edas\"}, {\"Dates\": \"2020-05-13\", \"New_deaths\": 0, \"Rolling\": 0.42857142857142855, \"Fallecimientos confirmados diarios\": \"Fallecimientos confirmados diarios\", \"Promedio m\\u00f3vil \\u00faltimos 7 d\\u00edas\": \"Promedio m\\u00f3vil \\u00faltimos 7 d\\u00edas\"}]}}, {\"mode\": \"vega-lite\"});\n",
       "</script>"
      ],
      "text/plain": [
       "alt.LayerChart(...)"
      ]
     },
     "execution_count": 71,
     "metadata": {},
     "output_type": "execute_result"
    }
   ],
   "source": [
    "#hide_input\n",
    "bars, line = my_deaths_plot(region)\n",
    "(bars + line).properties(\n",
    "    title=f'Covid-19 en Chile: Fallecimientos confirmados diarios en {region}',\n",
    "    width=600\n",
    ")"
   ]
  },
  {
   "cell_type": "markdown",
   "metadata": {},
   "source": [
    "## Los Ríos"
   ]
  },
  {
   "cell_type": "code",
   "execution_count": 72,
   "metadata": {
    "scrolled": true
   },
   "outputs": [],
   "source": [
    "#hide\n",
    "region = \"Los Ríos\""
   ]
  },
  {
   "cell_type": "code",
   "execution_count": 73,
   "metadata": {},
   "outputs": [
    {
     "data": {
      "text/html": [
       "\n",
       "<div id=\"altair-viz-5d1167f5253a45db8ed271549c224533\"></div>\n",
       "<script type=\"text/javascript\">\n",
       "  (function(spec, embedOpt){\n",
       "    let outputDiv = document.currentScript.previousElementSibling;\n",
       "    if (outputDiv.id !== \"altair-viz-5d1167f5253a45db8ed271549c224533\") {\n",
       "      outputDiv = document.getElementById(\"altair-viz-5d1167f5253a45db8ed271549c224533\");\n",
       "    }\n",
       "    const paths = {\n",
       "      \"vega\": \"https://cdn.jsdelivr.net/npm//vega@5?noext\",\n",
       "      \"vega-lib\": \"https://cdn.jsdelivr.net/npm//vega-lib?noext\",\n",
       "      \"vega-lite\": \"https://cdn.jsdelivr.net/npm//vega-lite@4.8.1?noext\",\n",
       "      \"vega-embed\": \"https://cdn.jsdelivr.net/npm//vega-embed@6?noext\",\n",
       "    };\n",
       "\n",
       "    function loadScript(lib) {\n",
       "      return new Promise(function(resolve, reject) {\n",
       "        var s = document.createElement('script');\n",
       "        s.src = paths[lib];\n",
       "        s.async = true;\n",
       "        s.onload = () => resolve(paths[lib]);\n",
       "        s.onerror = () => reject(`Error loading script: ${paths[lib]}`);\n",
       "        document.getElementsByTagName(\"head\")[0].appendChild(s);\n",
       "      });\n",
       "    }\n",
       "\n",
       "    function showError(err) {\n",
       "      outputDiv.innerHTML = `<div class=\"error\" style=\"color:red;\">${err}</div>`;\n",
       "      throw err;\n",
       "    }\n",
       "\n",
       "    function displayChart(vegaEmbed) {\n",
       "      vegaEmbed(outputDiv, spec, embedOpt)\n",
       "        .catch(err => showError(`Javascript Error: ${err.message}<br>This usually means there's a typo in your chart specification. See the javascript console for the full traceback.`));\n",
       "    }\n",
       "\n",
       "    if(typeof define === \"function\" && define.amd) {\n",
       "      requirejs.config({paths});\n",
       "      require([\"vega-embed\"], displayChart, err => showError(`Error loading script: ${err.message}`));\n",
       "    } else if (typeof vegaEmbed === \"function\") {\n",
       "      displayChart(vegaEmbed);\n",
       "    } else {\n",
       "      loadScript(\"vega\")\n",
       "        .then(() => loadScript(\"vega-lite\"))\n",
       "        .then(() => loadScript(\"vega-embed\"))\n",
       "        .catch(showError)\n",
       "        .then(() => displayChart(vegaEmbed));\n",
       "    }\n",
       "  })({\"config\": {\"view\": {\"continuousWidth\": 400, \"continuousHeight\": 300}}, \"layer\": [{\"mark\": {\"type\": \"bar\", \"color\": \"firebrick\", \"opacity\": 0.7}, \"encoding\": {\"opacity\": {\"type\": \"nominal\", \"field\": \"Fallecimientos confirmados diarios\", \"legend\": {\"title\": \"\"}}, \"tooltip\": [{\"type\": \"nominal\", \"field\": \"Dates\"}, {\"type\": \"quantitative\", \"field\": \"New_deaths\"}], \"x\": {\"type\": \"nominal\", \"axis\": {\"title\": \"Fecha (a\\u00f1o-mes-d\\u00eda)\"}, \"field\": \"Dates\"}, \"y\": {\"type\": \"quantitative\", \"axis\": {\"title\": \"Fallecimientos confirmados diarios\"}, \"field\": \"New_deaths\"}}}, {\"mark\": {\"type\": \"line\", \"color\": \"firebrick\", \"point\": {\"filled\": true, \"fill\": \"firebrick\"}}, \"encoding\": {\"shape\": {\"type\": \"nominal\", \"field\": \"Promedio m\\u00f3vil \\u00faltimos 7 d\\u00edas\", \"legend\": {\"title\": \"\"}}, \"x\": {\"type\": \"nominal\", \"axis\": {\"title\": \"Fecha (a\\u00f1o-mes-d\\u00eda)\"}, \"field\": \"Dates\"}, \"y\": {\"type\": \"quantitative\", \"field\": \"Rolling\"}}}], \"data\": {\"name\": \"data-31133844226b9143ef4dc5a9d88a3c08\"}, \"title\": \"Covid-19 en Chile: Fallecimientos confirmados diarios en Los R\\u00edos\", \"width\": 600, \"$schema\": \"https://vega.github.io/schema/vega-lite/v4.8.1.json\", \"datasets\": {\"data-31133844226b9143ef4dc5a9d88a3c08\": [{\"Dates\": \"2020-03-25\", \"New_deaths\": 0, \"Rolling\": null, \"Fallecimientos confirmados diarios\": \"Fallecimientos confirmados diarios\", \"Promedio m\\u00f3vil \\u00faltimos 7 d\\u00edas\": \"Promedio m\\u00f3vil \\u00faltimos 7 d\\u00edas\"}, {\"Dates\": \"2020-03-26\", \"New_deaths\": 0, \"Rolling\": null, \"Fallecimientos confirmados diarios\": \"Fallecimientos confirmados diarios\", \"Promedio m\\u00f3vil \\u00faltimos 7 d\\u00edas\": \"Promedio m\\u00f3vil \\u00faltimos 7 d\\u00edas\"}, {\"Dates\": \"2020-03-27\", \"New_deaths\": 0, \"Rolling\": null, \"Fallecimientos confirmados diarios\": \"Fallecimientos confirmados diarios\", \"Promedio m\\u00f3vil \\u00faltimos 7 d\\u00edas\": \"Promedio m\\u00f3vil \\u00faltimos 7 d\\u00edas\"}, {\"Dates\": \"2020-03-28\", \"New_deaths\": 0, \"Rolling\": null, \"Fallecimientos confirmados diarios\": \"Fallecimientos confirmados diarios\", \"Promedio m\\u00f3vil \\u00faltimos 7 d\\u00edas\": \"Promedio m\\u00f3vil \\u00faltimos 7 d\\u00edas\"}, {\"Dates\": \"2020-03-29\", \"New_deaths\": 0, \"Rolling\": null, \"Fallecimientos confirmados diarios\": \"Fallecimientos confirmados diarios\", \"Promedio m\\u00f3vil \\u00faltimos 7 d\\u00edas\": \"Promedio m\\u00f3vil \\u00faltimos 7 d\\u00edas\"}, {\"Dates\": \"2020-03-30\", \"New_deaths\": 0, \"Rolling\": null, \"Fallecimientos confirmados diarios\": \"Fallecimientos confirmados diarios\", \"Promedio m\\u00f3vil \\u00faltimos 7 d\\u00edas\": \"Promedio m\\u00f3vil \\u00faltimos 7 d\\u00edas\"}, {\"Dates\": \"2020-03-31\", \"New_deaths\": 0, \"Rolling\": 0.0, \"Fallecimientos confirmados diarios\": \"Fallecimientos confirmados diarios\", \"Promedio m\\u00f3vil \\u00faltimos 7 d\\u00edas\": \"Promedio m\\u00f3vil \\u00faltimos 7 d\\u00edas\"}, {\"Dates\": \"2020-04-01\", \"New_deaths\": 1, \"Rolling\": 0.14285714285714285, \"Fallecimientos confirmados diarios\": \"Fallecimientos confirmados diarios\", \"Promedio m\\u00f3vil \\u00faltimos 7 d\\u00edas\": \"Promedio m\\u00f3vil \\u00faltimos 7 d\\u00edas\"}, {\"Dates\": \"2020-04-02\", \"New_deaths\": 0, \"Rolling\": 0.14285714285714285, \"Fallecimientos confirmados diarios\": \"Fallecimientos confirmados diarios\", \"Promedio m\\u00f3vil \\u00faltimos 7 d\\u00edas\": \"Promedio m\\u00f3vil \\u00faltimos 7 d\\u00edas\"}, {\"Dates\": \"2020-04-03\", \"New_deaths\": 0, \"Rolling\": 0.14285714285714285, \"Fallecimientos confirmados diarios\": \"Fallecimientos confirmados diarios\", \"Promedio m\\u00f3vil \\u00faltimos 7 d\\u00edas\": \"Promedio m\\u00f3vil \\u00faltimos 7 d\\u00edas\"}, {\"Dates\": \"2020-04-04\", \"New_deaths\": 0, \"Rolling\": 0.14285714285714285, \"Fallecimientos confirmados diarios\": \"Fallecimientos confirmados diarios\", \"Promedio m\\u00f3vil \\u00faltimos 7 d\\u00edas\": \"Promedio m\\u00f3vil \\u00faltimos 7 d\\u00edas\"}, {\"Dates\": \"2020-04-05\", \"New_deaths\": 0, \"Rolling\": 0.14285714285714285, \"Fallecimientos confirmados diarios\": \"Fallecimientos confirmados diarios\", \"Promedio m\\u00f3vil \\u00faltimos 7 d\\u00edas\": \"Promedio m\\u00f3vil \\u00faltimos 7 d\\u00edas\"}, {\"Dates\": \"2020-04-06\", \"New_deaths\": 0, \"Rolling\": 0.14285714285714285, \"Fallecimientos confirmados diarios\": \"Fallecimientos confirmados diarios\", \"Promedio m\\u00f3vil \\u00faltimos 7 d\\u00edas\": \"Promedio m\\u00f3vil \\u00faltimos 7 d\\u00edas\"}, {\"Dates\": \"2020-04-07\", \"New_deaths\": 1, \"Rolling\": 0.2857142857142857, \"Fallecimientos confirmados diarios\": \"Fallecimientos confirmados diarios\", \"Promedio m\\u00f3vil \\u00faltimos 7 d\\u00edas\": \"Promedio m\\u00f3vil \\u00faltimos 7 d\\u00edas\"}, {\"Dates\": \"2020-04-08\", \"New_deaths\": 0, \"Rolling\": 0.14285714285714285, \"Fallecimientos confirmados diarios\": \"Fallecimientos confirmados diarios\", \"Promedio m\\u00f3vil \\u00faltimos 7 d\\u00edas\": \"Promedio m\\u00f3vil \\u00faltimos 7 d\\u00edas\"}, {\"Dates\": \"2020-04-09\", \"New_deaths\": 0, \"Rolling\": 0.14285714285714285, \"Fallecimientos confirmados diarios\": \"Fallecimientos confirmados diarios\", \"Promedio m\\u00f3vil \\u00faltimos 7 d\\u00edas\": \"Promedio m\\u00f3vil \\u00faltimos 7 d\\u00edas\"}, {\"Dates\": \"2020-04-10\", \"New_deaths\": 0, \"Rolling\": 0.14285714285714285, \"Fallecimientos confirmados diarios\": \"Fallecimientos confirmados diarios\", \"Promedio m\\u00f3vil \\u00faltimos 7 d\\u00edas\": \"Promedio m\\u00f3vil \\u00faltimos 7 d\\u00edas\"}, {\"Dates\": \"2020-04-11\", \"New_deaths\": 0, \"Rolling\": 0.14285714285714285, \"Fallecimientos confirmados diarios\": \"Fallecimientos confirmados diarios\", \"Promedio m\\u00f3vil \\u00faltimos 7 d\\u00edas\": \"Promedio m\\u00f3vil \\u00faltimos 7 d\\u00edas\"}, {\"Dates\": \"2020-04-12\", \"New_deaths\": 1, \"Rolling\": 0.2857142857142857, \"Fallecimientos confirmados diarios\": \"Fallecimientos confirmados diarios\", \"Promedio m\\u00f3vil \\u00faltimos 7 d\\u00edas\": \"Promedio m\\u00f3vil \\u00faltimos 7 d\\u00edas\"}, {\"Dates\": \"2020-04-13\", \"New_deaths\": 0, \"Rolling\": 0.2857142857142857, \"Fallecimientos confirmados diarios\": \"Fallecimientos confirmados diarios\", \"Promedio m\\u00f3vil \\u00faltimos 7 d\\u00edas\": \"Promedio m\\u00f3vil \\u00faltimos 7 d\\u00edas\"}, {\"Dates\": \"2020-04-14\", \"New_deaths\": 0, \"Rolling\": 0.14285714285714285, \"Fallecimientos confirmados diarios\": \"Fallecimientos confirmados diarios\", \"Promedio m\\u00f3vil \\u00faltimos 7 d\\u00edas\": \"Promedio m\\u00f3vil \\u00faltimos 7 d\\u00edas\"}, {\"Dates\": \"2020-04-15\", \"New_deaths\": 0, \"Rolling\": 0.14285714285714285, \"Fallecimientos confirmados diarios\": \"Fallecimientos confirmados diarios\", \"Promedio m\\u00f3vil \\u00faltimos 7 d\\u00edas\": \"Promedio m\\u00f3vil \\u00faltimos 7 d\\u00edas\"}, {\"Dates\": \"2020-04-16\", \"New_deaths\": 0, \"Rolling\": 0.14285714285714285, \"Fallecimientos confirmados diarios\": \"Fallecimientos confirmados diarios\", \"Promedio m\\u00f3vil \\u00faltimos 7 d\\u00edas\": \"Promedio m\\u00f3vil \\u00faltimos 7 d\\u00edas\"}, {\"Dates\": \"2020-04-17\", \"New_deaths\": 0, \"Rolling\": 0.14285714285714285, \"Fallecimientos confirmados diarios\": \"Fallecimientos confirmados diarios\", \"Promedio m\\u00f3vil \\u00faltimos 7 d\\u00edas\": \"Promedio m\\u00f3vil \\u00faltimos 7 d\\u00edas\"}, {\"Dates\": \"2020-04-18\", \"New_deaths\": 0, \"Rolling\": 0.14285714285714285, \"Fallecimientos confirmados diarios\": \"Fallecimientos confirmados diarios\", \"Promedio m\\u00f3vil \\u00faltimos 7 d\\u00edas\": \"Promedio m\\u00f3vil \\u00faltimos 7 d\\u00edas\"}, {\"Dates\": \"2020-04-19\", \"New_deaths\": 0, \"Rolling\": 0.0, \"Fallecimientos confirmados diarios\": \"Fallecimientos confirmados diarios\", \"Promedio m\\u00f3vil \\u00faltimos 7 d\\u00edas\": \"Promedio m\\u00f3vil \\u00faltimos 7 d\\u00edas\"}, {\"Dates\": \"2020-04-20\", \"New_deaths\": 0, \"Rolling\": 0.0, \"Fallecimientos confirmados diarios\": \"Fallecimientos confirmados diarios\", \"Promedio m\\u00f3vil \\u00faltimos 7 d\\u00edas\": \"Promedio m\\u00f3vil \\u00faltimos 7 d\\u00edas\"}, {\"Dates\": \"2020-04-21\", \"New_deaths\": 0, \"Rolling\": 0.0, \"Fallecimientos confirmados diarios\": \"Fallecimientos confirmados diarios\", \"Promedio m\\u00f3vil \\u00faltimos 7 d\\u00edas\": \"Promedio m\\u00f3vil \\u00faltimos 7 d\\u00edas\"}, {\"Dates\": \"2020-04-22\", \"New_deaths\": 0, \"Rolling\": 0.0, \"Fallecimientos confirmados diarios\": \"Fallecimientos confirmados diarios\", \"Promedio m\\u00f3vil \\u00faltimos 7 d\\u00edas\": \"Promedio m\\u00f3vil \\u00faltimos 7 d\\u00edas\"}, {\"Dates\": \"2020-04-23\", \"New_deaths\": 0, \"Rolling\": 0.0, \"Fallecimientos confirmados diarios\": \"Fallecimientos confirmados diarios\", \"Promedio m\\u00f3vil \\u00faltimos 7 d\\u00edas\": \"Promedio m\\u00f3vil \\u00faltimos 7 d\\u00edas\"}, {\"Dates\": \"2020-04-24\", \"New_deaths\": 0, \"Rolling\": 0.0, \"Fallecimientos confirmados diarios\": \"Fallecimientos confirmados diarios\", \"Promedio m\\u00f3vil \\u00faltimos 7 d\\u00edas\": \"Promedio m\\u00f3vil \\u00faltimos 7 d\\u00edas\"}, {\"Dates\": \"2020-04-25\", \"New_deaths\": 0, \"Rolling\": 0.0, \"Fallecimientos confirmados diarios\": \"Fallecimientos confirmados diarios\", \"Promedio m\\u00f3vil \\u00faltimos 7 d\\u00edas\": \"Promedio m\\u00f3vil \\u00faltimos 7 d\\u00edas\"}, {\"Dates\": \"2020-04-26\", \"New_deaths\": 0, \"Rolling\": 0.0, \"Fallecimientos confirmados diarios\": \"Fallecimientos confirmados diarios\", \"Promedio m\\u00f3vil \\u00faltimos 7 d\\u00edas\": \"Promedio m\\u00f3vil \\u00faltimos 7 d\\u00edas\"}, {\"Dates\": \"2020-04-27\", \"New_deaths\": 0, \"Rolling\": 0.0, \"Fallecimientos confirmados diarios\": \"Fallecimientos confirmados diarios\", \"Promedio m\\u00f3vil \\u00faltimos 7 d\\u00edas\": \"Promedio m\\u00f3vil \\u00faltimos 7 d\\u00edas\"}, {\"Dates\": \"2020-04-28\", \"New_deaths\": 1, \"Rolling\": 0.14285714285714285, \"Fallecimientos confirmados diarios\": \"Fallecimientos confirmados diarios\", \"Promedio m\\u00f3vil \\u00faltimos 7 d\\u00edas\": \"Promedio m\\u00f3vil \\u00faltimos 7 d\\u00edas\"}, {\"Dates\": \"2020-04-29\", \"New_deaths\": 0, \"Rolling\": 0.14285714285714285, \"Fallecimientos confirmados diarios\": \"Fallecimientos confirmados diarios\", \"Promedio m\\u00f3vil \\u00faltimos 7 d\\u00edas\": \"Promedio m\\u00f3vil \\u00faltimos 7 d\\u00edas\"}, {\"Dates\": \"2020-04-30\", \"New_deaths\": 0, \"Rolling\": 0.14285714285714285, \"Fallecimientos confirmados diarios\": \"Fallecimientos confirmados diarios\", \"Promedio m\\u00f3vil \\u00faltimos 7 d\\u00edas\": \"Promedio m\\u00f3vil \\u00faltimos 7 d\\u00edas\"}, {\"Dates\": \"2020-05-01\", \"New_deaths\": 0, \"Rolling\": 0.14285714285714285, \"Fallecimientos confirmados diarios\": \"Fallecimientos confirmados diarios\", \"Promedio m\\u00f3vil \\u00faltimos 7 d\\u00edas\": \"Promedio m\\u00f3vil \\u00faltimos 7 d\\u00edas\"}, {\"Dates\": \"2020-05-02\", \"New_deaths\": 0, \"Rolling\": 0.14285714285714285, \"Fallecimientos confirmados diarios\": \"Fallecimientos confirmados diarios\", \"Promedio m\\u00f3vil \\u00faltimos 7 d\\u00edas\": \"Promedio m\\u00f3vil \\u00faltimos 7 d\\u00edas\"}, {\"Dates\": \"2020-05-03\", \"New_deaths\": 0, \"Rolling\": 0.14285714285714285, \"Fallecimientos confirmados diarios\": \"Fallecimientos confirmados diarios\", \"Promedio m\\u00f3vil \\u00faltimos 7 d\\u00edas\": \"Promedio m\\u00f3vil \\u00faltimos 7 d\\u00edas\"}, {\"Dates\": \"2020-05-04\", \"New_deaths\": 0, \"Rolling\": 0.14285714285714285, \"Fallecimientos confirmados diarios\": \"Fallecimientos confirmados diarios\", \"Promedio m\\u00f3vil \\u00faltimos 7 d\\u00edas\": \"Promedio m\\u00f3vil \\u00faltimos 7 d\\u00edas\"}, {\"Dates\": \"2020-05-05\", \"New_deaths\": 0, \"Rolling\": 0.0, \"Fallecimientos confirmados diarios\": \"Fallecimientos confirmados diarios\", \"Promedio m\\u00f3vil \\u00faltimos 7 d\\u00edas\": \"Promedio m\\u00f3vil \\u00faltimos 7 d\\u00edas\"}, {\"Dates\": \"2020-05-06\", \"New_deaths\": 0, \"Rolling\": 0.0, \"Fallecimientos confirmados diarios\": \"Fallecimientos confirmados diarios\", \"Promedio m\\u00f3vil \\u00faltimos 7 d\\u00edas\": \"Promedio m\\u00f3vil \\u00faltimos 7 d\\u00edas\"}, {\"Dates\": \"2020-05-07\", \"New_deaths\": 0, \"Rolling\": 0.0, \"Fallecimientos confirmados diarios\": \"Fallecimientos confirmados diarios\", \"Promedio m\\u00f3vil \\u00faltimos 7 d\\u00edas\": \"Promedio m\\u00f3vil \\u00faltimos 7 d\\u00edas\"}, {\"Dates\": \"2020-05-08\", \"New_deaths\": 0, \"Rolling\": 0.0, \"Fallecimientos confirmados diarios\": \"Fallecimientos confirmados diarios\", \"Promedio m\\u00f3vil \\u00faltimos 7 d\\u00edas\": \"Promedio m\\u00f3vil \\u00faltimos 7 d\\u00edas\"}, {\"Dates\": \"2020-05-09\", \"New_deaths\": 1, \"Rolling\": 0.14285714285714285, \"Fallecimientos confirmados diarios\": \"Fallecimientos confirmados diarios\", \"Promedio m\\u00f3vil \\u00faltimos 7 d\\u00edas\": \"Promedio m\\u00f3vil \\u00faltimos 7 d\\u00edas\"}, {\"Dates\": \"2020-05-10\", \"New_deaths\": 0, \"Rolling\": 0.14285714285714285, \"Fallecimientos confirmados diarios\": \"Fallecimientos confirmados diarios\", \"Promedio m\\u00f3vil \\u00faltimos 7 d\\u00edas\": \"Promedio m\\u00f3vil \\u00faltimos 7 d\\u00edas\"}, {\"Dates\": \"2020-05-11\", \"New_deaths\": 0, \"Rolling\": 0.14285714285714285, \"Fallecimientos confirmados diarios\": \"Fallecimientos confirmados diarios\", \"Promedio m\\u00f3vil \\u00faltimos 7 d\\u00edas\": \"Promedio m\\u00f3vil \\u00faltimos 7 d\\u00edas\"}, {\"Dates\": \"2020-05-12\", \"New_deaths\": 0, \"Rolling\": 0.14285714285714285, \"Fallecimientos confirmados diarios\": \"Fallecimientos confirmados diarios\", \"Promedio m\\u00f3vil \\u00faltimos 7 d\\u00edas\": \"Promedio m\\u00f3vil \\u00faltimos 7 d\\u00edas\"}, {\"Dates\": \"2020-05-13\", \"New_deaths\": 1, \"Rolling\": 0.2857142857142857, \"Fallecimientos confirmados diarios\": \"Fallecimientos confirmados diarios\", \"Promedio m\\u00f3vil \\u00faltimos 7 d\\u00edas\": \"Promedio m\\u00f3vil \\u00faltimos 7 d\\u00edas\"}]}}, {\"mode\": \"vega-lite\"});\n",
       "</script>"
      ],
      "text/plain": [
       "alt.LayerChart(...)"
      ]
     },
     "execution_count": 73,
     "metadata": {},
     "output_type": "execute_result"
    }
   ],
   "source": [
    "#hide_input\n",
    "bars, line = my_deaths_plot(region)\n",
    "(bars + line).properties(\n",
    "    title=f'Covid-19 en Chile: Fallecimientos confirmados diarios en {region}',\n",
    "    width=600\n",
    ")"
   ]
  },
  {
   "cell_type": "markdown",
   "metadata": {},
   "source": [
    "## Los Lagos"
   ]
  },
  {
   "cell_type": "code",
   "execution_count": 74,
   "metadata": {
    "scrolled": true
   },
   "outputs": [],
   "source": [
    "#hide\n",
    "region = \"Los Lagos\""
   ]
  },
  {
   "cell_type": "code",
   "execution_count": 75,
   "metadata": {},
   "outputs": [
    {
     "data": {
      "text/html": [
       "\n",
       "<div id=\"altair-viz-ed5994180bf2493790cbff36f8a9e37c\"></div>\n",
       "<script type=\"text/javascript\">\n",
       "  (function(spec, embedOpt){\n",
       "    let outputDiv = document.currentScript.previousElementSibling;\n",
       "    if (outputDiv.id !== \"altair-viz-ed5994180bf2493790cbff36f8a9e37c\") {\n",
       "      outputDiv = document.getElementById(\"altair-viz-ed5994180bf2493790cbff36f8a9e37c\");\n",
       "    }\n",
       "    const paths = {\n",
       "      \"vega\": \"https://cdn.jsdelivr.net/npm//vega@5?noext\",\n",
       "      \"vega-lib\": \"https://cdn.jsdelivr.net/npm//vega-lib?noext\",\n",
       "      \"vega-lite\": \"https://cdn.jsdelivr.net/npm//vega-lite@4.8.1?noext\",\n",
       "      \"vega-embed\": \"https://cdn.jsdelivr.net/npm//vega-embed@6?noext\",\n",
       "    };\n",
       "\n",
       "    function loadScript(lib) {\n",
       "      return new Promise(function(resolve, reject) {\n",
       "        var s = document.createElement('script');\n",
       "        s.src = paths[lib];\n",
       "        s.async = true;\n",
       "        s.onload = () => resolve(paths[lib]);\n",
       "        s.onerror = () => reject(`Error loading script: ${paths[lib]}`);\n",
       "        document.getElementsByTagName(\"head\")[0].appendChild(s);\n",
       "      });\n",
       "    }\n",
       "\n",
       "    function showError(err) {\n",
       "      outputDiv.innerHTML = `<div class=\"error\" style=\"color:red;\">${err}</div>`;\n",
       "      throw err;\n",
       "    }\n",
       "\n",
       "    function displayChart(vegaEmbed) {\n",
       "      vegaEmbed(outputDiv, spec, embedOpt)\n",
       "        .catch(err => showError(`Javascript Error: ${err.message}<br>This usually means there's a typo in your chart specification. See the javascript console for the full traceback.`));\n",
       "    }\n",
       "\n",
       "    if(typeof define === \"function\" && define.amd) {\n",
       "      requirejs.config({paths});\n",
       "      require([\"vega-embed\"], displayChart, err => showError(`Error loading script: ${err.message}`));\n",
       "    } else if (typeof vegaEmbed === \"function\") {\n",
       "      displayChart(vegaEmbed);\n",
       "    } else {\n",
       "      loadScript(\"vega\")\n",
       "        .then(() => loadScript(\"vega-lite\"))\n",
       "        .then(() => loadScript(\"vega-embed\"))\n",
       "        .catch(showError)\n",
       "        .then(() => displayChart(vegaEmbed));\n",
       "    }\n",
       "  })({\"config\": {\"view\": {\"continuousWidth\": 400, \"continuousHeight\": 300}}, \"layer\": [{\"mark\": {\"type\": \"bar\", \"color\": \"firebrick\", \"opacity\": 0.7}, \"encoding\": {\"opacity\": {\"type\": \"nominal\", \"field\": \"Fallecimientos confirmados diarios\", \"legend\": {\"title\": \"\"}}, \"tooltip\": [{\"type\": \"nominal\", \"field\": \"Dates\"}, {\"type\": \"quantitative\", \"field\": \"New_deaths\"}], \"x\": {\"type\": \"nominal\", \"axis\": {\"title\": \"Fecha (a\\u00f1o-mes-d\\u00eda)\"}, \"field\": \"Dates\"}, \"y\": {\"type\": \"quantitative\", \"axis\": {\"title\": \"Fallecimientos confirmados diarios\"}, \"field\": \"New_deaths\"}}}, {\"mark\": {\"type\": \"line\", \"color\": \"firebrick\", \"point\": {\"filled\": true, \"fill\": \"firebrick\"}}, \"encoding\": {\"shape\": {\"type\": \"nominal\", \"field\": \"Promedio m\\u00f3vil \\u00faltimos 7 d\\u00edas\", \"legend\": {\"title\": \"\"}}, \"x\": {\"type\": \"nominal\", \"axis\": {\"title\": \"Fecha (a\\u00f1o-mes-d\\u00eda)\"}, \"field\": \"Dates\"}, \"y\": {\"type\": \"quantitative\", \"field\": \"Rolling\"}}}], \"data\": {\"name\": \"data-dfc830dcf1b815af3e5f80fcab6bbbb7\"}, \"title\": \"Covid-19 en Chile: Fallecimientos confirmados diarios en Los Lagos\", \"width\": 600, \"$schema\": \"https://vega.github.io/schema/vega-lite/v4.8.1.json\", \"datasets\": {\"data-dfc830dcf1b815af3e5f80fcab6bbbb7\": [{\"Dates\": \"2020-03-25\", \"New_deaths\": 0, \"Rolling\": null, \"Fallecimientos confirmados diarios\": \"Fallecimientos confirmados diarios\", \"Promedio m\\u00f3vil \\u00faltimos 7 d\\u00edas\": \"Promedio m\\u00f3vil \\u00faltimos 7 d\\u00edas\"}, {\"Dates\": \"2020-03-26\", \"New_deaths\": 0, \"Rolling\": null, \"Fallecimientos confirmados diarios\": \"Fallecimientos confirmados diarios\", \"Promedio m\\u00f3vil \\u00faltimos 7 d\\u00edas\": \"Promedio m\\u00f3vil \\u00faltimos 7 d\\u00edas\"}, {\"Dates\": \"2020-03-27\", \"New_deaths\": 0, \"Rolling\": null, \"Fallecimientos confirmados diarios\": \"Fallecimientos confirmados diarios\", \"Promedio m\\u00f3vil \\u00faltimos 7 d\\u00edas\": \"Promedio m\\u00f3vil \\u00faltimos 7 d\\u00edas\"}, {\"Dates\": \"2020-03-28\", \"New_deaths\": 0, \"Rolling\": null, \"Fallecimientos confirmados diarios\": \"Fallecimientos confirmados diarios\", \"Promedio m\\u00f3vil \\u00faltimos 7 d\\u00edas\": \"Promedio m\\u00f3vil \\u00faltimos 7 d\\u00edas\"}, {\"Dates\": \"2020-03-29\", \"New_deaths\": 0, \"Rolling\": null, \"Fallecimientos confirmados diarios\": \"Fallecimientos confirmados diarios\", \"Promedio m\\u00f3vil \\u00faltimos 7 d\\u00edas\": \"Promedio m\\u00f3vil \\u00faltimos 7 d\\u00edas\"}, {\"Dates\": \"2020-03-30\", \"New_deaths\": 0, \"Rolling\": null, \"Fallecimientos confirmados diarios\": \"Fallecimientos confirmados diarios\", \"Promedio m\\u00f3vil \\u00faltimos 7 d\\u00edas\": \"Promedio m\\u00f3vil \\u00faltimos 7 d\\u00edas\"}, {\"Dates\": \"2020-03-31\", \"New_deaths\": 0, \"Rolling\": 0.0, \"Fallecimientos confirmados diarios\": \"Fallecimientos confirmados diarios\", \"Promedio m\\u00f3vil \\u00faltimos 7 d\\u00edas\": \"Promedio m\\u00f3vil \\u00faltimos 7 d\\u00edas\"}, {\"Dates\": \"2020-04-01\", \"New_deaths\": 0, \"Rolling\": 0.0, \"Fallecimientos confirmados diarios\": \"Fallecimientos confirmados diarios\", \"Promedio m\\u00f3vil \\u00faltimos 7 d\\u00edas\": \"Promedio m\\u00f3vil \\u00faltimos 7 d\\u00edas\"}, {\"Dates\": \"2020-04-02\", \"New_deaths\": 0, \"Rolling\": 0.0, \"Fallecimientos confirmados diarios\": \"Fallecimientos confirmados diarios\", \"Promedio m\\u00f3vil \\u00faltimos 7 d\\u00edas\": \"Promedio m\\u00f3vil \\u00faltimos 7 d\\u00edas\"}, {\"Dates\": \"2020-04-03\", \"New_deaths\": 0, \"Rolling\": 0.0, \"Fallecimientos confirmados diarios\": \"Fallecimientos confirmados diarios\", \"Promedio m\\u00f3vil \\u00faltimos 7 d\\u00edas\": \"Promedio m\\u00f3vil \\u00faltimos 7 d\\u00edas\"}, {\"Dates\": \"2020-04-04\", \"New_deaths\": 0, \"Rolling\": 0.0, \"Fallecimientos confirmados diarios\": \"Fallecimientos confirmados diarios\", \"Promedio m\\u00f3vil \\u00faltimos 7 d\\u00edas\": \"Promedio m\\u00f3vil \\u00faltimos 7 d\\u00edas\"}, {\"Dates\": \"2020-04-05\", \"New_deaths\": 1, \"Rolling\": 0.14285714285714285, \"Fallecimientos confirmados diarios\": \"Fallecimientos confirmados diarios\", \"Promedio m\\u00f3vil \\u00faltimos 7 d\\u00edas\": \"Promedio m\\u00f3vil \\u00faltimos 7 d\\u00edas\"}, {\"Dates\": \"2020-04-06\", \"New_deaths\": 1, \"Rolling\": 0.2857142857142857, \"Fallecimientos confirmados diarios\": \"Fallecimientos confirmados diarios\", \"Promedio m\\u00f3vil \\u00faltimos 7 d\\u00edas\": \"Promedio m\\u00f3vil \\u00faltimos 7 d\\u00edas\"}, {\"Dates\": \"2020-04-07\", \"New_deaths\": 0, \"Rolling\": 0.2857142857142857, \"Fallecimientos confirmados diarios\": \"Fallecimientos confirmados diarios\", \"Promedio m\\u00f3vil \\u00faltimos 7 d\\u00edas\": \"Promedio m\\u00f3vil \\u00faltimos 7 d\\u00edas\"}, {\"Dates\": \"2020-04-08\", \"New_deaths\": 0, \"Rolling\": 0.2857142857142857, \"Fallecimientos confirmados diarios\": \"Fallecimientos confirmados diarios\", \"Promedio m\\u00f3vil \\u00faltimos 7 d\\u00edas\": \"Promedio m\\u00f3vil \\u00faltimos 7 d\\u00edas\"}, {\"Dates\": \"2020-04-09\", \"New_deaths\": 0, \"Rolling\": 0.2857142857142857, \"Fallecimientos confirmados diarios\": \"Fallecimientos confirmados diarios\", \"Promedio m\\u00f3vil \\u00faltimos 7 d\\u00edas\": \"Promedio m\\u00f3vil \\u00faltimos 7 d\\u00edas\"}, {\"Dates\": \"2020-04-10\", \"New_deaths\": 0, \"Rolling\": 0.2857142857142857, \"Fallecimientos confirmados diarios\": \"Fallecimientos confirmados diarios\", \"Promedio m\\u00f3vil \\u00faltimos 7 d\\u00edas\": \"Promedio m\\u00f3vil \\u00faltimos 7 d\\u00edas\"}, {\"Dates\": \"2020-04-11\", \"New_deaths\": 3, \"Rolling\": 0.7142857142857143, \"Fallecimientos confirmados diarios\": \"Fallecimientos confirmados diarios\", \"Promedio m\\u00f3vil \\u00faltimos 7 d\\u00edas\": \"Promedio m\\u00f3vil \\u00faltimos 7 d\\u00edas\"}, {\"Dates\": \"2020-04-12\", \"New_deaths\": 0, \"Rolling\": 0.5714285714285714, \"Fallecimientos confirmados diarios\": \"Fallecimientos confirmados diarios\", \"Promedio m\\u00f3vil \\u00faltimos 7 d\\u00edas\": \"Promedio m\\u00f3vil \\u00faltimos 7 d\\u00edas\"}, {\"Dates\": \"2020-04-13\", \"New_deaths\": 0, \"Rolling\": 0.42857142857142855, \"Fallecimientos confirmados diarios\": \"Fallecimientos confirmados diarios\", \"Promedio m\\u00f3vil \\u00faltimos 7 d\\u00edas\": \"Promedio m\\u00f3vil \\u00faltimos 7 d\\u00edas\"}, {\"Dates\": \"2020-04-14\", \"New_deaths\": 0, \"Rolling\": 0.42857142857142855, \"Fallecimientos confirmados diarios\": \"Fallecimientos confirmados diarios\", \"Promedio m\\u00f3vil \\u00faltimos 7 d\\u00edas\": \"Promedio m\\u00f3vil \\u00faltimos 7 d\\u00edas\"}, {\"Dates\": \"2020-04-15\", \"New_deaths\": 0, \"Rolling\": 0.42857142857142855, \"Fallecimientos confirmados diarios\": \"Fallecimientos confirmados diarios\", \"Promedio m\\u00f3vil \\u00faltimos 7 d\\u00edas\": \"Promedio m\\u00f3vil \\u00faltimos 7 d\\u00edas\"}, {\"Dates\": \"2020-04-16\", \"New_deaths\": 0, \"Rolling\": 0.42857142857142855, \"Fallecimientos confirmados diarios\": \"Fallecimientos confirmados diarios\", \"Promedio m\\u00f3vil \\u00faltimos 7 d\\u00edas\": \"Promedio m\\u00f3vil \\u00faltimos 7 d\\u00edas\"}, {\"Dates\": \"2020-04-17\", \"New_deaths\": 1, \"Rolling\": 0.5714285714285714, \"Fallecimientos confirmados diarios\": \"Fallecimientos confirmados diarios\", \"Promedio m\\u00f3vil \\u00faltimos 7 d\\u00edas\": \"Promedio m\\u00f3vil \\u00faltimos 7 d\\u00edas\"}, {\"Dates\": \"2020-04-18\", \"New_deaths\": 0, \"Rolling\": 0.14285714285714285, \"Fallecimientos confirmados diarios\": \"Fallecimientos confirmados diarios\", \"Promedio m\\u00f3vil \\u00faltimos 7 d\\u00edas\": \"Promedio m\\u00f3vil \\u00faltimos 7 d\\u00edas\"}, {\"Dates\": \"2020-04-19\", \"New_deaths\": 0, \"Rolling\": 0.14285714285714285, \"Fallecimientos confirmados diarios\": \"Fallecimientos confirmados diarios\", \"Promedio m\\u00f3vil \\u00faltimos 7 d\\u00edas\": \"Promedio m\\u00f3vil \\u00faltimos 7 d\\u00edas\"}, {\"Dates\": \"2020-04-20\", \"New_deaths\": 0, \"Rolling\": 0.14285714285714285, \"Fallecimientos confirmados diarios\": \"Fallecimientos confirmados diarios\", \"Promedio m\\u00f3vil \\u00faltimos 7 d\\u00edas\": \"Promedio m\\u00f3vil \\u00faltimos 7 d\\u00edas\"}, {\"Dates\": \"2020-04-21\", \"New_deaths\": 0, \"Rolling\": 0.14285714285714285, \"Fallecimientos confirmados diarios\": \"Fallecimientos confirmados diarios\", \"Promedio m\\u00f3vil \\u00faltimos 7 d\\u00edas\": \"Promedio m\\u00f3vil \\u00faltimos 7 d\\u00edas\"}, {\"Dates\": \"2020-04-22\", \"New_deaths\": 0, \"Rolling\": 0.14285714285714285, \"Fallecimientos confirmados diarios\": \"Fallecimientos confirmados diarios\", \"Promedio m\\u00f3vil \\u00faltimos 7 d\\u00edas\": \"Promedio m\\u00f3vil \\u00faltimos 7 d\\u00edas\"}, {\"Dates\": \"2020-04-23\", \"New_deaths\": 1, \"Rolling\": 0.2857142857142857, \"Fallecimientos confirmados diarios\": \"Fallecimientos confirmados diarios\", \"Promedio m\\u00f3vil \\u00faltimos 7 d\\u00edas\": \"Promedio m\\u00f3vil \\u00faltimos 7 d\\u00edas\"}, {\"Dates\": \"2020-04-24\", \"New_deaths\": 1, \"Rolling\": 0.2857142857142857, \"Fallecimientos confirmados diarios\": \"Fallecimientos confirmados diarios\", \"Promedio m\\u00f3vil \\u00faltimos 7 d\\u00edas\": \"Promedio m\\u00f3vil \\u00faltimos 7 d\\u00edas\"}, {\"Dates\": \"2020-04-25\", \"New_deaths\": 0, \"Rolling\": 0.2857142857142857, \"Fallecimientos confirmados diarios\": \"Fallecimientos confirmados diarios\", \"Promedio m\\u00f3vil \\u00faltimos 7 d\\u00edas\": \"Promedio m\\u00f3vil \\u00faltimos 7 d\\u00edas\"}, {\"Dates\": \"2020-04-26\", \"New_deaths\": 0, \"Rolling\": 0.2857142857142857, \"Fallecimientos confirmados diarios\": \"Fallecimientos confirmados diarios\", \"Promedio m\\u00f3vil \\u00faltimos 7 d\\u00edas\": \"Promedio m\\u00f3vil \\u00faltimos 7 d\\u00edas\"}, {\"Dates\": \"2020-04-27\", \"New_deaths\": 0, \"Rolling\": 0.2857142857142857, \"Fallecimientos confirmados diarios\": \"Fallecimientos confirmados diarios\", \"Promedio m\\u00f3vil \\u00faltimos 7 d\\u00edas\": \"Promedio m\\u00f3vil \\u00faltimos 7 d\\u00edas\"}, {\"Dates\": \"2020-04-28\", \"New_deaths\": 1, \"Rolling\": 0.42857142857142855, \"Fallecimientos confirmados diarios\": \"Fallecimientos confirmados diarios\", \"Promedio m\\u00f3vil \\u00faltimos 7 d\\u00edas\": \"Promedio m\\u00f3vil \\u00faltimos 7 d\\u00edas\"}, {\"Dates\": \"2020-04-29\", \"New_deaths\": 0, \"Rolling\": 0.42857142857142855, \"Fallecimientos confirmados diarios\": \"Fallecimientos confirmados diarios\", \"Promedio m\\u00f3vil \\u00faltimos 7 d\\u00edas\": \"Promedio m\\u00f3vil \\u00faltimos 7 d\\u00edas\"}, {\"Dates\": \"2020-04-30\", \"New_deaths\": 1, \"Rolling\": 0.42857142857142855, \"Fallecimientos confirmados diarios\": \"Fallecimientos confirmados diarios\", \"Promedio m\\u00f3vil \\u00faltimos 7 d\\u00edas\": \"Promedio m\\u00f3vil \\u00faltimos 7 d\\u00edas\"}, {\"Dates\": \"2020-05-01\", \"New_deaths\": 0, \"Rolling\": 0.2857142857142857, \"Fallecimientos confirmados diarios\": \"Fallecimientos confirmados diarios\", \"Promedio m\\u00f3vil \\u00faltimos 7 d\\u00edas\": \"Promedio m\\u00f3vil \\u00faltimos 7 d\\u00edas\"}, {\"Dates\": \"2020-05-02\", \"New_deaths\": 0, \"Rolling\": 0.2857142857142857, \"Fallecimientos confirmados diarios\": \"Fallecimientos confirmados diarios\", \"Promedio m\\u00f3vil \\u00faltimos 7 d\\u00edas\": \"Promedio m\\u00f3vil \\u00faltimos 7 d\\u00edas\"}, {\"Dates\": \"2020-05-03\", \"New_deaths\": 0, \"Rolling\": 0.2857142857142857, \"Fallecimientos confirmados diarios\": \"Fallecimientos confirmados diarios\", \"Promedio m\\u00f3vil \\u00faltimos 7 d\\u00edas\": \"Promedio m\\u00f3vil \\u00faltimos 7 d\\u00edas\"}, {\"Dates\": \"2020-05-04\", \"New_deaths\": 0, \"Rolling\": 0.2857142857142857, \"Fallecimientos confirmados diarios\": \"Fallecimientos confirmados diarios\", \"Promedio m\\u00f3vil \\u00faltimos 7 d\\u00edas\": \"Promedio m\\u00f3vil \\u00faltimos 7 d\\u00edas\"}, {\"Dates\": \"2020-05-05\", \"New_deaths\": 0, \"Rolling\": 0.14285714285714285, \"Fallecimientos confirmados diarios\": \"Fallecimientos confirmados diarios\", \"Promedio m\\u00f3vil \\u00faltimos 7 d\\u00edas\": \"Promedio m\\u00f3vil \\u00faltimos 7 d\\u00edas\"}, {\"Dates\": \"2020-05-06\", \"New_deaths\": 0, \"Rolling\": 0.14285714285714285, \"Fallecimientos confirmados diarios\": \"Fallecimientos confirmados diarios\", \"Promedio m\\u00f3vil \\u00faltimos 7 d\\u00edas\": \"Promedio m\\u00f3vil \\u00faltimos 7 d\\u00edas\"}, {\"Dates\": \"2020-05-07\", \"New_deaths\": 0, \"Rolling\": 0.0, \"Fallecimientos confirmados diarios\": \"Fallecimientos confirmados diarios\", \"Promedio m\\u00f3vil \\u00faltimos 7 d\\u00edas\": \"Promedio m\\u00f3vil \\u00faltimos 7 d\\u00edas\"}, {\"Dates\": \"2020-05-08\", \"New_deaths\": 0, \"Rolling\": 0.0, \"Fallecimientos confirmados diarios\": \"Fallecimientos confirmados diarios\", \"Promedio m\\u00f3vil \\u00faltimos 7 d\\u00edas\": \"Promedio m\\u00f3vil \\u00faltimos 7 d\\u00edas\"}, {\"Dates\": \"2020-05-09\", \"New_deaths\": 0, \"Rolling\": 0.0, \"Fallecimientos confirmados diarios\": \"Fallecimientos confirmados diarios\", \"Promedio m\\u00f3vil \\u00faltimos 7 d\\u00edas\": \"Promedio m\\u00f3vil \\u00faltimos 7 d\\u00edas\"}, {\"Dates\": \"2020-05-10\", \"New_deaths\": 0, \"Rolling\": 0.0, \"Fallecimientos confirmados diarios\": \"Fallecimientos confirmados diarios\", \"Promedio m\\u00f3vil \\u00faltimos 7 d\\u00edas\": \"Promedio m\\u00f3vil \\u00faltimos 7 d\\u00edas\"}, {\"Dates\": \"2020-05-11\", \"New_deaths\": 0, \"Rolling\": 0.0, \"Fallecimientos confirmados diarios\": \"Fallecimientos confirmados diarios\", \"Promedio m\\u00f3vil \\u00faltimos 7 d\\u00edas\": \"Promedio m\\u00f3vil \\u00faltimos 7 d\\u00edas\"}, {\"Dates\": \"2020-05-12\", \"New_deaths\": 1, \"Rolling\": 0.14285714285714285, \"Fallecimientos confirmados diarios\": \"Fallecimientos confirmados diarios\", \"Promedio m\\u00f3vil \\u00faltimos 7 d\\u00edas\": \"Promedio m\\u00f3vil \\u00faltimos 7 d\\u00edas\"}, {\"Dates\": \"2020-05-13\", \"New_deaths\": 0, \"Rolling\": 0.14285714285714285, \"Fallecimientos confirmados diarios\": \"Fallecimientos confirmados diarios\", \"Promedio m\\u00f3vil \\u00faltimos 7 d\\u00edas\": \"Promedio m\\u00f3vil \\u00faltimos 7 d\\u00edas\"}]}}, {\"mode\": \"vega-lite\"});\n",
       "</script>"
      ],
      "text/plain": [
       "alt.LayerChart(...)"
      ]
     },
     "execution_count": 75,
     "metadata": {},
     "output_type": "execute_result"
    }
   ],
   "source": [
    "#hide_input\n",
    "bars, line = my_deaths_plot(region)\n",
    "(bars + line).properties(\n",
    "    title=f'Covid-19 en Chile: Fallecimientos confirmados diarios en {region}',\n",
    "    width=600\n",
    ")"
   ]
  },
  {
   "cell_type": "markdown",
   "metadata": {},
   "source": [
    "## Aysén"
   ]
  },
  {
   "cell_type": "code",
   "execution_count": 76,
   "metadata": {
    "scrolled": true
   },
   "outputs": [],
   "source": [
    "#hide\n",
    "region = \"Aysén\""
   ]
  },
  {
   "cell_type": "code",
   "execution_count": 77,
   "metadata": {
    "scrolled": false
   },
   "outputs": [
    {
     "data": {
      "text/markdown": [
       "No hay fallecimientos confirmados hasta el 13/05/2020."
      ],
      "text/plain": [
       "<IPython.core.display.Markdown object>"
      ]
     },
     "metadata": {},
     "output_type": "display_data"
    }
   ],
   "source": [
    "#hide_input\n",
    "if data.loc[region].sum() == 0:\n",
    "    display(Markdown(f\"No hay fallecimientos confirmados hasta el {pd.to_datetime(today).strftime('%d/%m/%Y')}.\"))\n",
    "else:\n",
    "    bars, line = my_deaths_plot(region)\n",
    "    (bars + line).properties(\n",
    "        title=f'Covid-19 en Chile: Fallecimientos confirmados diarios en {region}',\n",
    "        width=600\n",
    "    )"
   ]
  },
  {
   "cell_type": "markdown",
   "metadata": {},
   "source": [
    "## Magallanes"
   ]
  },
  {
   "cell_type": "code",
   "execution_count": 78,
   "metadata": {
    "scrolled": true
   },
   "outputs": [],
   "source": [
    "#hide\n",
    "region = \"Magallanes\""
   ]
  },
  {
   "cell_type": "code",
   "execution_count": 79,
   "metadata": {
    "scrolled": true
   },
   "outputs": [
    {
     "data": {
      "text/html": [
       "\n",
       "<div id=\"altair-viz-6bcd804f580d487ba0ea56b19e41a95d\"></div>\n",
       "<script type=\"text/javascript\">\n",
       "  (function(spec, embedOpt){\n",
       "    let outputDiv = document.currentScript.previousElementSibling;\n",
       "    if (outputDiv.id !== \"altair-viz-6bcd804f580d487ba0ea56b19e41a95d\") {\n",
       "      outputDiv = document.getElementById(\"altair-viz-6bcd804f580d487ba0ea56b19e41a95d\");\n",
       "    }\n",
       "    const paths = {\n",
       "      \"vega\": \"https://cdn.jsdelivr.net/npm//vega@5?noext\",\n",
       "      \"vega-lib\": \"https://cdn.jsdelivr.net/npm//vega-lib?noext\",\n",
       "      \"vega-lite\": \"https://cdn.jsdelivr.net/npm//vega-lite@4.8.1?noext\",\n",
       "      \"vega-embed\": \"https://cdn.jsdelivr.net/npm//vega-embed@6?noext\",\n",
       "    };\n",
       "\n",
       "    function loadScript(lib) {\n",
       "      return new Promise(function(resolve, reject) {\n",
       "        var s = document.createElement('script');\n",
       "        s.src = paths[lib];\n",
       "        s.async = true;\n",
       "        s.onload = () => resolve(paths[lib]);\n",
       "        s.onerror = () => reject(`Error loading script: ${paths[lib]}`);\n",
       "        document.getElementsByTagName(\"head\")[0].appendChild(s);\n",
       "      });\n",
       "    }\n",
       "\n",
       "    function showError(err) {\n",
       "      outputDiv.innerHTML = `<div class=\"error\" style=\"color:red;\">${err}</div>`;\n",
       "      throw err;\n",
       "    }\n",
       "\n",
       "    function displayChart(vegaEmbed) {\n",
       "      vegaEmbed(outputDiv, spec, embedOpt)\n",
       "        .catch(err => showError(`Javascript Error: ${err.message}<br>This usually means there's a typo in your chart specification. See the javascript console for the full traceback.`));\n",
       "    }\n",
       "\n",
       "    if(typeof define === \"function\" && define.amd) {\n",
       "      requirejs.config({paths});\n",
       "      require([\"vega-embed\"], displayChart, err => showError(`Error loading script: ${err.message}`));\n",
       "    } else if (typeof vegaEmbed === \"function\") {\n",
       "      displayChart(vegaEmbed);\n",
       "    } else {\n",
       "      loadScript(\"vega\")\n",
       "        .then(() => loadScript(\"vega-lite\"))\n",
       "        .then(() => loadScript(\"vega-embed\"))\n",
       "        .catch(showError)\n",
       "        .then(() => displayChart(vegaEmbed));\n",
       "    }\n",
       "  })({\"config\": {\"view\": {\"continuousWidth\": 400, \"continuousHeight\": 300}}, \"layer\": [{\"mark\": {\"type\": \"bar\", \"color\": \"firebrick\", \"opacity\": 0.7}, \"encoding\": {\"opacity\": {\"type\": \"nominal\", \"field\": \"Fallecimientos confirmados diarios\", \"legend\": {\"title\": \"\"}}, \"tooltip\": [{\"type\": \"nominal\", \"field\": \"Dates\"}, {\"type\": \"quantitative\", \"field\": \"New_deaths\"}], \"x\": {\"type\": \"nominal\", \"axis\": {\"title\": \"Fecha (a\\u00f1o-mes-d\\u00eda)\"}, \"field\": \"Dates\"}, \"y\": {\"type\": \"quantitative\", \"axis\": {\"title\": \"Fallecimientos confirmados diarios\"}, \"field\": \"New_deaths\"}}}, {\"mark\": {\"type\": \"line\", \"color\": \"firebrick\", \"point\": {\"filled\": true, \"fill\": \"firebrick\"}}, \"encoding\": {\"shape\": {\"type\": \"nominal\", \"field\": \"Promedio m\\u00f3vil \\u00faltimos 7 d\\u00edas\", \"legend\": {\"title\": \"\"}}, \"x\": {\"type\": \"nominal\", \"axis\": {\"title\": \"Fecha (a\\u00f1o-mes-d\\u00eda)\"}, \"field\": \"Dates\"}, \"y\": {\"type\": \"quantitative\", \"field\": \"Rolling\"}}}], \"data\": {\"name\": \"data-32c4062db214f8ae00ccd79d9be8156b\"}, \"title\": \"Covid-19 en Chile: Fallecimientos confirmados diarios en Magallanes\", \"width\": 600, \"$schema\": \"https://vega.github.io/schema/vega-lite/v4.8.1.json\", \"datasets\": {\"data-32c4062db214f8ae00ccd79d9be8156b\": [{\"Dates\": \"2020-03-25\", \"New_deaths\": 0, \"Rolling\": null, \"Fallecimientos confirmados diarios\": \"Fallecimientos confirmados diarios\", \"Promedio m\\u00f3vil \\u00faltimos 7 d\\u00edas\": \"Promedio m\\u00f3vil \\u00faltimos 7 d\\u00edas\"}, {\"Dates\": \"2020-03-26\", \"New_deaths\": 0, \"Rolling\": null, \"Fallecimientos confirmados diarios\": \"Fallecimientos confirmados diarios\", \"Promedio m\\u00f3vil \\u00faltimos 7 d\\u00edas\": \"Promedio m\\u00f3vil \\u00faltimos 7 d\\u00edas\"}, {\"Dates\": \"2020-03-27\", \"New_deaths\": 0, \"Rolling\": null, \"Fallecimientos confirmados diarios\": \"Fallecimientos confirmados diarios\", \"Promedio m\\u00f3vil \\u00faltimos 7 d\\u00edas\": \"Promedio m\\u00f3vil \\u00faltimos 7 d\\u00edas\"}, {\"Dates\": \"2020-03-28\", \"New_deaths\": 0, \"Rolling\": null, \"Fallecimientos confirmados diarios\": \"Fallecimientos confirmados diarios\", \"Promedio m\\u00f3vil \\u00faltimos 7 d\\u00edas\": \"Promedio m\\u00f3vil \\u00faltimos 7 d\\u00edas\"}, {\"Dates\": \"2020-03-29\", \"New_deaths\": 0, \"Rolling\": null, \"Fallecimientos confirmados diarios\": \"Fallecimientos confirmados diarios\", \"Promedio m\\u00f3vil \\u00faltimos 7 d\\u00edas\": \"Promedio m\\u00f3vil \\u00faltimos 7 d\\u00edas\"}, {\"Dates\": \"2020-03-30\", \"New_deaths\": 0, \"Rolling\": null, \"Fallecimientos confirmados diarios\": \"Fallecimientos confirmados diarios\", \"Promedio m\\u00f3vil \\u00faltimos 7 d\\u00edas\": \"Promedio m\\u00f3vil \\u00faltimos 7 d\\u00edas\"}, {\"Dates\": \"2020-03-31\", \"New_deaths\": 0, \"Rolling\": 0.0, \"Fallecimientos confirmados diarios\": \"Fallecimientos confirmados diarios\", \"Promedio m\\u00f3vil \\u00faltimos 7 d\\u00edas\": \"Promedio m\\u00f3vil \\u00faltimos 7 d\\u00edas\"}, {\"Dates\": \"2020-04-01\", \"New_deaths\": 0, \"Rolling\": 0.0, \"Fallecimientos confirmados diarios\": \"Fallecimientos confirmados diarios\", \"Promedio m\\u00f3vil \\u00faltimos 7 d\\u00edas\": \"Promedio m\\u00f3vil \\u00faltimos 7 d\\u00edas\"}, {\"Dates\": \"2020-04-02\", \"New_deaths\": 0, \"Rolling\": 0.0, \"Fallecimientos confirmados diarios\": \"Fallecimientos confirmados diarios\", \"Promedio m\\u00f3vil \\u00faltimos 7 d\\u00edas\": \"Promedio m\\u00f3vil \\u00faltimos 7 d\\u00edas\"}, {\"Dates\": \"2020-04-03\", \"New_deaths\": 1, \"Rolling\": 0.14285714285714285, \"Fallecimientos confirmados diarios\": \"Fallecimientos confirmados diarios\", \"Promedio m\\u00f3vil \\u00faltimos 7 d\\u00edas\": \"Promedio m\\u00f3vil \\u00faltimos 7 d\\u00edas\"}, {\"Dates\": \"2020-04-04\", \"New_deaths\": 1, \"Rolling\": 0.2857142857142857, \"Fallecimientos confirmados diarios\": \"Fallecimientos confirmados diarios\", \"Promedio m\\u00f3vil \\u00faltimos 7 d\\u00edas\": \"Promedio m\\u00f3vil \\u00faltimos 7 d\\u00edas\"}, {\"Dates\": \"2020-04-05\", \"New_deaths\": 0, \"Rolling\": 0.2857142857142857, \"Fallecimientos confirmados diarios\": \"Fallecimientos confirmados diarios\", \"Promedio m\\u00f3vil \\u00faltimos 7 d\\u00edas\": \"Promedio m\\u00f3vil \\u00faltimos 7 d\\u00edas\"}, {\"Dates\": \"2020-04-06\", \"New_deaths\": 0, \"Rolling\": 0.2857142857142857, \"Fallecimientos confirmados diarios\": \"Fallecimientos confirmados diarios\", \"Promedio m\\u00f3vil \\u00faltimos 7 d\\u00edas\": \"Promedio m\\u00f3vil \\u00faltimos 7 d\\u00edas\"}, {\"Dates\": \"2020-04-07\", \"New_deaths\": 0, \"Rolling\": 0.2857142857142857, \"Fallecimientos confirmados diarios\": \"Fallecimientos confirmados diarios\", \"Promedio m\\u00f3vil \\u00faltimos 7 d\\u00edas\": \"Promedio m\\u00f3vil \\u00faltimos 7 d\\u00edas\"}, {\"Dates\": \"2020-04-08\", \"New_deaths\": 1, \"Rolling\": 0.42857142857142855, \"Fallecimientos confirmados diarios\": \"Fallecimientos confirmados diarios\", \"Promedio m\\u00f3vil \\u00faltimos 7 d\\u00edas\": \"Promedio m\\u00f3vil \\u00faltimos 7 d\\u00edas\"}, {\"Dates\": \"2020-04-09\", \"New_deaths\": 0, \"Rolling\": 0.42857142857142855, \"Fallecimientos confirmados diarios\": \"Fallecimientos confirmados diarios\", \"Promedio m\\u00f3vil \\u00faltimos 7 d\\u00edas\": \"Promedio m\\u00f3vil \\u00faltimos 7 d\\u00edas\"}, {\"Dates\": \"2020-04-10\", \"New_deaths\": 0, \"Rolling\": 0.2857142857142857, \"Fallecimientos confirmados diarios\": \"Fallecimientos confirmados diarios\", \"Promedio m\\u00f3vil \\u00faltimos 7 d\\u00edas\": \"Promedio m\\u00f3vil \\u00faltimos 7 d\\u00edas\"}, {\"Dates\": \"2020-04-11\", \"New_deaths\": 0, \"Rolling\": 0.14285714285714285, \"Fallecimientos confirmados diarios\": \"Fallecimientos confirmados diarios\", \"Promedio m\\u00f3vil \\u00faltimos 7 d\\u00edas\": \"Promedio m\\u00f3vil \\u00faltimos 7 d\\u00edas\"}, {\"Dates\": \"2020-04-12\", \"New_deaths\": 1, \"Rolling\": 0.2857142857142857, \"Fallecimientos confirmados diarios\": \"Fallecimientos confirmados diarios\", \"Promedio m\\u00f3vil \\u00faltimos 7 d\\u00edas\": \"Promedio m\\u00f3vil \\u00faltimos 7 d\\u00edas\"}, {\"Dates\": \"2020-04-13\", \"New_deaths\": 1, \"Rolling\": 0.42857142857142855, \"Fallecimientos confirmados diarios\": \"Fallecimientos confirmados diarios\", \"Promedio m\\u00f3vil \\u00faltimos 7 d\\u00edas\": \"Promedio m\\u00f3vil \\u00faltimos 7 d\\u00edas\"}, {\"Dates\": \"2020-04-14\", \"New_deaths\": 1, \"Rolling\": 0.5714285714285714, \"Fallecimientos confirmados diarios\": \"Fallecimientos confirmados diarios\", \"Promedio m\\u00f3vil \\u00faltimos 7 d\\u00edas\": \"Promedio m\\u00f3vil \\u00faltimos 7 d\\u00edas\"}, {\"Dates\": \"2020-04-15\", \"New_deaths\": 0, \"Rolling\": 0.42857142857142855, \"Fallecimientos confirmados diarios\": \"Fallecimientos confirmados diarios\", \"Promedio m\\u00f3vil \\u00faltimos 7 d\\u00edas\": \"Promedio m\\u00f3vil \\u00faltimos 7 d\\u00edas\"}, {\"Dates\": \"2020-04-16\", \"New_deaths\": 0, \"Rolling\": 0.42857142857142855, \"Fallecimientos confirmados diarios\": \"Fallecimientos confirmados diarios\", \"Promedio m\\u00f3vil \\u00faltimos 7 d\\u00edas\": \"Promedio m\\u00f3vil \\u00faltimos 7 d\\u00edas\"}, {\"Dates\": \"2020-04-17\", \"New_deaths\": 0, \"Rolling\": 0.42857142857142855, \"Fallecimientos confirmados diarios\": \"Fallecimientos confirmados diarios\", \"Promedio m\\u00f3vil \\u00faltimos 7 d\\u00edas\": \"Promedio m\\u00f3vil \\u00faltimos 7 d\\u00edas\"}, {\"Dates\": \"2020-04-18\", \"New_deaths\": 0, \"Rolling\": 0.42857142857142855, \"Fallecimientos confirmados diarios\": \"Fallecimientos confirmados diarios\", \"Promedio m\\u00f3vil \\u00faltimos 7 d\\u00edas\": \"Promedio m\\u00f3vil \\u00faltimos 7 d\\u00edas\"}, {\"Dates\": \"2020-04-19\", \"New_deaths\": 0, \"Rolling\": 0.2857142857142857, \"Fallecimientos confirmados diarios\": \"Fallecimientos confirmados diarios\", \"Promedio m\\u00f3vil \\u00faltimos 7 d\\u00edas\": \"Promedio m\\u00f3vil \\u00faltimos 7 d\\u00edas\"}, {\"Dates\": \"2020-04-20\", \"New_deaths\": 0, \"Rolling\": 0.14285714285714285, \"Fallecimientos confirmados diarios\": \"Fallecimientos confirmados diarios\", \"Promedio m\\u00f3vil \\u00faltimos 7 d\\u00edas\": \"Promedio m\\u00f3vil \\u00faltimos 7 d\\u00edas\"}, {\"Dates\": \"2020-04-21\", \"New_deaths\": 1, \"Rolling\": 0.14285714285714285, \"Fallecimientos confirmados diarios\": \"Fallecimientos confirmados diarios\", \"Promedio m\\u00f3vil \\u00faltimos 7 d\\u00edas\": \"Promedio m\\u00f3vil \\u00faltimos 7 d\\u00edas\"}, {\"Dates\": \"2020-04-22\", \"New_deaths\": 0, \"Rolling\": 0.14285714285714285, \"Fallecimientos confirmados diarios\": \"Fallecimientos confirmados diarios\", \"Promedio m\\u00f3vil \\u00faltimos 7 d\\u00edas\": \"Promedio m\\u00f3vil \\u00faltimos 7 d\\u00edas\"}, {\"Dates\": \"2020-04-23\", \"New_deaths\": 0, \"Rolling\": 0.14285714285714285, \"Fallecimientos confirmados diarios\": \"Fallecimientos confirmados diarios\", \"Promedio m\\u00f3vil \\u00faltimos 7 d\\u00edas\": \"Promedio m\\u00f3vil \\u00faltimos 7 d\\u00edas\"}, {\"Dates\": \"2020-04-24\", \"New_deaths\": 1, \"Rolling\": 0.2857142857142857, \"Fallecimientos confirmados diarios\": \"Fallecimientos confirmados diarios\", \"Promedio m\\u00f3vil \\u00faltimos 7 d\\u00edas\": \"Promedio m\\u00f3vil \\u00faltimos 7 d\\u00edas\"}, {\"Dates\": \"2020-04-25\", \"New_deaths\": 0, \"Rolling\": 0.2857142857142857, \"Fallecimientos confirmados diarios\": \"Fallecimientos confirmados diarios\", \"Promedio m\\u00f3vil \\u00faltimos 7 d\\u00edas\": \"Promedio m\\u00f3vil \\u00faltimos 7 d\\u00edas\"}, {\"Dates\": \"2020-04-26\", \"New_deaths\": 1, \"Rolling\": 0.42857142857142855, \"Fallecimientos confirmados diarios\": \"Fallecimientos confirmados diarios\", \"Promedio m\\u00f3vil \\u00faltimos 7 d\\u00edas\": \"Promedio m\\u00f3vil \\u00faltimos 7 d\\u00edas\"}, {\"Dates\": \"2020-04-27\", \"New_deaths\": 1, \"Rolling\": 0.5714285714285714, \"Fallecimientos confirmados diarios\": \"Fallecimientos confirmados diarios\", \"Promedio m\\u00f3vil \\u00faltimos 7 d\\u00edas\": \"Promedio m\\u00f3vil \\u00faltimos 7 d\\u00edas\"}, {\"Dates\": \"2020-04-28\", \"New_deaths\": 0, \"Rolling\": 0.42857142857142855, \"Fallecimientos confirmados diarios\": \"Fallecimientos confirmados diarios\", \"Promedio m\\u00f3vil \\u00faltimos 7 d\\u00edas\": \"Promedio m\\u00f3vil \\u00faltimos 7 d\\u00edas\"}, {\"Dates\": \"2020-04-29\", \"New_deaths\": 1, \"Rolling\": 0.5714285714285714, \"Fallecimientos confirmados diarios\": \"Fallecimientos confirmados diarios\", \"Promedio m\\u00f3vil \\u00faltimos 7 d\\u00edas\": \"Promedio m\\u00f3vil \\u00faltimos 7 d\\u00edas\"}, {\"Dates\": \"2020-04-30\", \"New_deaths\": 0, \"Rolling\": 0.5714285714285714, \"Fallecimientos confirmados diarios\": \"Fallecimientos confirmados diarios\", \"Promedio m\\u00f3vil \\u00faltimos 7 d\\u00edas\": \"Promedio m\\u00f3vil \\u00faltimos 7 d\\u00edas\"}, {\"Dates\": \"2020-05-01\", \"New_deaths\": 0, \"Rolling\": 0.42857142857142855, \"Fallecimientos confirmados diarios\": \"Fallecimientos confirmados diarios\", \"Promedio m\\u00f3vil \\u00faltimos 7 d\\u00edas\": \"Promedio m\\u00f3vil \\u00faltimos 7 d\\u00edas\"}, {\"Dates\": \"2020-05-02\", \"New_deaths\": 0, \"Rolling\": 0.42857142857142855, \"Fallecimientos confirmados diarios\": \"Fallecimientos confirmados diarios\", \"Promedio m\\u00f3vil \\u00faltimos 7 d\\u00edas\": \"Promedio m\\u00f3vil \\u00faltimos 7 d\\u00edas\"}, {\"Dates\": \"2020-05-03\", \"New_deaths\": 0, \"Rolling\": 0.2857142857142857, \"Fallecimientos confirmados diarios\": \"Fallecimientos confirmados diarios\", \"Promedio m\\u00f3vil \\u00faltimos 7 d\\u00edas\": \"Promedio m\\u00f3vil \\u00faltimos 7 d\\u00edas\"}, {\"Dates\": \"2020-05-04\", \"New_deaths\": 0, \"Rolling\": 0.14285714285714285, \"Fallecimientos confirmados diarios\": \"Fallecimientos confirmados diarios\", \"Promedio m\\u00f3vil \\u00faltimos 7 d\\u00edas\": \"Promedio m\\u00f3vil \\u00faltimos 7 d\\u00edas\"}, {\"Dates\": \"2020-05-05\", \"New_deaths\": 0, \"Rolling\": 0.14285714285714285, \"Fallecimientos confirmados diarios\": \"Fallecimientos confirmados diarios\", \"Promedio m\\u00f3vil \\u00faltimos 7 d\\u00edas\": \"Promedio m\\u00f3vil \\u00faltimos 7 d\\u00edas\"}, {\"Dates\": \"2020-05-06\", \"New_deaths\": 0, \"Rolling\": 0.0, \"Fallecimientos confirmados diarios\": \"Fallecimientos confirmados diarios\", \"Promedio m\\u00f3vil \\u00faltimos 7 d\\u00edas\": \"Promedio m\\u00f3vil \\u00faltimos 7 d\\u00edas\"}, {\"Dates\": \"2020-05-07\", \"New_deaths\": 0, \"Rolling\": 0.0, \"Fallecimientos confirmados diarios\": \"Fallecimientos confirmados diarios\", \"Promedio m\\u00f3vil \\u00faltimos 7 d\\u00edas\": \"Promedio m\\u00f3vil \\u00faltimos 7 d\\u00edas\"}, {\"Dates\": \"2020-05-08\", \"New_deaths\": 0, \"Rolling\": 0.0, \"Fallecimientos confirmados diarios\": \"Fallecimientos confirmados diarios\", \"Promedio m\\u00f3vil \\u00faltimos 7 d\\u00edas\": \"Promedio m\\u00f3vil \\u00faltimos 7 d\\u00edas\"}, {\"Dates\": \"2020-05-09\", \"New_deaths\": 0, \"Rolling\": 0.0, \"Fallecimientos confirmados diarios\": \"Fallecimientos confirmados diarios\", \"Promedio m\\u00f3vil \\u00faltimos 7 d\\u00edas\": \"Promedio m\\u00f3vil \\u00faltimos 7 d\\u00edas\"}, {\"Dates\": \"2020-05-10\", \"New_deaths\": 2, \"Rolling\": 0.2857142857142857, \"Fallecimientos confirmados diarios\": \"Fallecimientos confirmados diarios\", \"Promedio m\\u00f3vil \\u00faltimos 7 d\\u00edas\": \"Promedio m\\u00f3vil \\u00faltimos 7 d\\u00edas\"}, {\"Dates\": \"2020-05-11\", \"New_deaths\": 1, \"Rolling\": 0.42857142857142855, \"Fallecimientos confirmados diarios\": \"Fallecimientos confirmados diarios\", \"Promedio m\\u00f3vil \\u00faltimos 7 d\\u00edas\": \"Promedio m\\u00f3vil \\u00faltimos 7 d\\u00edas\"}, {\"Dates\": \"2020-05-12\", \"New_deaths\": 0, \"Rolling\": 0.42857142857142855, \"Fallecimientos confirmados diarios\": \"Fallecimientos confirmados diarios\", \"Promedio m\\u00f3vil \\u00faltimos 7 d\\u00edas\": \"Promedio m\\u00f3vil \\u00faltimos 7 d\\u00edas\"}, {\"Dates\": \"2020-05-13\", \"New_deaths\": 2, \"Rolling\": 0.7142857142857143, \"Fallecimientos confirmados diarios\": \"Fallecimientos confirmados diarios\", \"Promedio m\\u00f3vil \\u00faltimos 7 d\\u00edas\": \"Promedio m\\u00f3vil \\u00faltimos 7 d\\u00edas\"}]}}, {\"mode\": \"vega-lite\"});\n",
       "</script>"
      ],
      "text/plain": [
       "alt.LayerChart(...)"
      ]
     },
     "execution_count": 79,
     "metadata": {},
     "output_type": "execute_result"
    }
   ],
   "source": [
    "#hide_input\n",
    "bars, line = my_deaths_plot(region)\n",
    "(bars + line).properties(\n",
    "    title=f'Covid-19 en Chile: Fallecimientos confirmados diarios en {region}',\n",
    "    width=600\n",
    ")"
   ]
  },
  {
   "cell_type": "code",
   "execution_count": null,
   "metadata": {},
   "outputs": [],
   "source": []
  }
 ],
 "metadata": {
  "kernelspec": {
   "display_name": "Python 3",
   "language": "python",
   "name": "python3"
  },
  "language_info": {
   "codemirror_mode": {
    "name": "ipython",
    "version": 3
   },
   "file_extension": ".py",
   "mimetype": "text/x-python",
   "name": "python",
   "nbconvert_exporter": "python",
   "pygments_lexer": "ipython3",
   "version": "3.8.2"
  }
 },
 "nbformat": 4,
 "nbformat_minor": 2
}
