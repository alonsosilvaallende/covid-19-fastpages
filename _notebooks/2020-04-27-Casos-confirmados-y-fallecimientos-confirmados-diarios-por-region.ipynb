{
 "cells": [
  {
   "cell_type": "markdown",
   "metadata": {},
   "source": [
    "# \"COVID-19 en Chile: Casos y fallecimientos confirmados diarios\"\n",
    "> Casos confirmados diarios y fallecimientos confirmados diarios\n",
    "\n",
    "- toc: false\n",
    "- badges: true\n",
    "- comments: true\n",
    "- author: Alonso Silva Allende\n",
    "- categories: [jupyter]\n",
    "- image: images/Casos-confirmados-diarios.png"
   ]
  },
  {
   "cell_type": "code",
   "execution_count": 1,
   "metadata": {},
   "outputs": [],
   "source": [
    "#hide\n",
    "import pandas as pd\n",
    "import matplotlib.pyplot as plt\n",
    "import altair as alt\n",
    "import numpy as np"
   ]
  },
  {
   "cell_type": "code",
   "execution_count": 2,
   "metadata": {},
   "outputs": [],
   "source": [
    "#hide\n",
    "from IPython.display import display_html, HTML"
   ]
  },
  {
   "cell_type": "code",
   "execution_count": 3,
   "metadata": {},
   "outputs": [],
   "source": [
    "#hide\n",
    "# Window size cases\n",
    "WS_cases = 7"
   ]
  },
  {
   "cell_type": "code",
   "execution_count": 4,
   "metadata": {},
   "outputs": [],
   "source": [
    "#hide\n",
    "casos_raw = pd.read_csv(\n",
    "    \"https://raw.githubusercontent.com/MinCiencia/Datos-COVID19/master/output/producto3/CasosTotalesCumulativo.csv\",\n",
    "    index_col='Region')"
   ]
  },
  {
   "cell_type": "code",
   "execution_count": 5,
   "metadata": {
    "scrolled": true
   },
   "outputs": [],
   "source": [
    "#hide\n",
    "def my_cases_plot(region):\n",
    "    aux1 = casos_raw.loc[region]\n",
    "    aux2 = [t - s for s, t in zip(aux1, aux1.loc['2020-03-04':])]\n",
    "    # Create the dataframe\n",
    "    new_cases = pd.DataFrame()\n",
    "    new_cases[\"Fecha\"] = casos_raw.loc[region].reset_index()[\"index\"].iloc[1:].values\n",
    "    new_cases[\"Casos confirmados\"] = aux2\n",
    "    new_cases[\"Rolling\"] = new_cases[\"Casos confirmados\"].rolling(window=WS_cases).mean()\n",
    "    new_cases[\"Casos confirmados diarios\"] = len(new_cases) * [\"Casos confirmados diarios\"]\n",
    "    new_cases[\"Promedio móvil últimos 7 días\"] = len(new_cases) * [\"Promedio móvil últimos 7 días\"]\n",
    "    # Make the plot\n",
    "    bars = alt.Chart(new_cases).mark_bar(opacity=0.7).encode(\n",
    "        x = alt.X('Fecha:N', axis=alt.Axis(title='Fecha (año-mes-día)')),\n",
    "        y = alt.Y('Casos confirmados:Q', axis=alt.Axis(title='Casos confirmados diarios')),\n",
    "        tooltip = ['Fecha', 'Casos confirmados'],\n",
    "        opacity=alt.Opacity('Casos confirmados diarios', legend=alt.Legend(title=\"\"))\n",
    "    )\n",
    "\n",
    "    line = alt.Chart(new_cases).mark_line(point={\n",
    "        \"filled\": True,\n",
    "        \"fill\": \"#1f77b4\"\n",
    "    }, color=\"#1f77b4\").encode(\n",
    "        x=alt.X('Fecha:N', axis=alt.Axis(title='Fecha (año-mes-día)')),\n",
    "        y = alt.Y('Rolling:Q'),\n",
    "        shape=alt.Shape('Promedio móvil últimos 7 días', legend=alt.Legend(title=\"\"))\n",
    "    )\n",
    "    return bars, line"
   ]
  },
  {
   "cell_type": "markdown",
   "metadata": {},
   "source": [
    "Datos provenientes del [Ministerio de Ciencia](https://github.com/MinCiencia/Datos-COVID19)."
   ]
  },
  {
   "cell_type": "markdown",
   "metadata": {},
   "source": [
    "# Casos confirmados diarios"
   ]
  },
  {
   "cell_type": "markdown",
   "metadata": {},
   "source": [
    "## Chile"
   ]
  },
  {
   "cell_type": "code",
   "execution_count": 6,
   "metadata": {
    "scrolled": true
   },
   "outputs": [],
   "source": [
    "#hide\n",
    "region = \"Total\""
   ]
  },
  {
   "cell_type": "code",
   "execution_count": 7,
   "metadata": {},
   "outputs": [
    {
     "data": {
      "text/html": [
       "\n",
       "<div id=\"altair-viz-5a2d7df29586471e98c2665d90261edb\"></div>\n",
       "<script type=\"text/javascript\">\n",
       "  (function(spec, embedOpt){\n",
       "    let outputDiv = document.currentScript.previousElementSibling;\n",
       "    if (outputDiv.id !== \"altair-viz-5a2d7df29586471e98c2665d90261edb\") {\n",
       "      outputDiv = document.getElementById(\"altair-viz-5a2d7df29586471e98c2665d90261edb\");\n",
       "    }\n",
       "    const paths = {\n",
       "      \"vega\": \"https://cdn.jsdelivr.net/npm//vega@5?noext\",\n",
       "      \"vega-lib\": \"https://cdn.jsdelivr.net/npm//vega-lib?noext\",\n",
       "      \"vega-lite\": \"https://cdn.jsdelivr.net/npm//vega-lite@4.8.1?noext\",\n",
       "      \"vega-embed\": \"https://cdn.jsdelivr.net/npm//vega-embed@6?noext\",\n",
       "    };\n",
       "\n",
       "    function loadScript(lib) {\n",
       "      return new Promise(function(resolve, reject) {\n",
       "        var s = document.createElement('script');\n",
       "        s.src = paths[lib];\n",
       "        s.async = true;\n",
       "        s.onload = () => resolve(paths[lib]);\n",
       "        s.onerror = () => reject(`Error loading script: ${paths[lib]}`);\n",
       "        document.getElementsByTagName(\"head\")[0].appendChild(s);\n",
       "      });\n",
       "    }\n",
       "\n",
       "    function showError(err) {\n",
       "      outputDiv.innerHTML = `<div class=\"error\" style=\"color:red;\">${err}</div>`;\n",
       "      throw err;\n",
       "    }\n",
       "\n",
       "    function displayChart(vegaEmbed) {\n",
       "      vegaEmbed(outputDiv, spec, embedOpt)\n",
       "        .catch(err => showError(`Javascript Error: ${err.message}<br>This usually means there's a typo in your chart specification. See the javascript console for the full traceback.`));\n",
       "    }\n",
       "\n",
       "    if(typeof define === \"function\" && define.amd) {\n",
       "      requirejs.config({paths});\n",
       "      require([\"vega-embed\"], displayChart, err => showError(`Error loading script: ${err.message}`));\n",
       "    } else if (typeof vegaEmbed === \"function\") {\n",
       "      displayChart(vegaEmbed);\n",
       "    } else {\n",
       "      loadScript(\"vega\")\n",
       "        .then(() => loadScript(\"vega-lite\"))\n",
       "        .then(() => loadScript(\"vega-embed\"))\n",
       "        .catch(showError)\n",
       "        .then(() => displayChart(vegaEmbed));\n",
       "    }\n",
       "  })({\"config\": {\"view\": {\"continuousWidth\": 400, \"continuousHeight\": 300}}, \"layer\": [{\"mark\": {\"type\": \"bar\", \"opacity\": 0.7}, \"encoding\": {\"opacity\": {\"type\": \"nominal\", \"field\": \"Casos confirmados diarios\", \"legend\": {\"title\": \"\"}}, \"tooltip\": [{\"type\": \"nominal\", \"field\": \"Fecha\"}, {\"type\": \"quantitative\", \"field\": \"Casos confirmados\"}], \"x\": {\"type\": \"nominal\", \"axis\": {\"title\": \"Fecha (a\\u00f1o-mes-d\\u00eda)\"}, \"field\": \"Fecha\"}, \"y\": {\"type\": \"quantitative\", \"axis\": {\"title\": \"Casos confirmados diarios\"}, \"field\": \"Casos confirmados\"}}}, {\"mark\": {\"type\": \"line\", \"color\": \"#1f77b4\", \"point\": {\"filled\": true, \"fill\": \"#1f77b4\"}}, \"encoding\": {\"shape\": {\"type\": \"nominal\", \"field\": \"Promedio m\\u00f3vil \\u00faltimos 7 d\\u00edas\", \"legend\": {\"title\": \"\"}}, \"x\": {\"type\": \"nominal\", \"axis\": {\"title\": \"Fecha (a\\u00f1o-mes-d\\u00eda)\"}, \"field\": \"Fecha\"}, \"y\": {\"type\": \"quantitative\", \"field\": \"Rolling\"}}}], \"data\": {\"name\": \"data-4b6066379bfc5f5a1c20cc4046e53d00\"}, \"title\": \"Covid-19 en Chile: Casos confirmados diarios en Chile\", \"width\": 600, \"$schema\": \"https://vega.github.io/schema/vega-lite/v4.8.1.json\", \"datasets\": {\"data-4b6066379bfc5f5a1c20cc4046e53d00\": [{\"Fecha\": \"2020-03-04\", \"Casos confirmados\": 2, \"Rolling\": null, \"Casos confirmados diarios\": \"Casos confirmados diarios\", \"Promedio m\\u00f3vil \\u00faltimos 7 d\\u00edas\": \"Promedio m\\u00f3vil \\u00faltimos 7 d\\u00edas\"}, {\"Fecha\": \"2020-03-05\", \"Casos confirmados\": 1, \"Rolling\": null, \"Casos confirmados diarios\": \"Casos confirmados diarios\", \"Promedio m\\u00f3vil \\u00faltimos 7 d\\u00edas\": \"Promedio m\\u00f3vil \\u00faltimos 7 d\\u00edas\"}, {\"Fecha\": \"2020-03-06\", \"Casos confirmados\": 1, \"Rolling\": null, \"Casos confirmados diarios\": \"Casos confirmados diarios\", \"Promedio m\\u00f3vil \\u00faltimos 7 d\\u00edas\": \"Promedio m\\u00f3vil \\u00faltimos 7 d\\u00edas\"}, {\"Fecha\": \"2020-03-07\", \"Casos confirmados\": 2, \"Rolling\": null, \"Casos confirmados diarios\": \"Casos confirmados diarios\", \"Promedio m\\u00f3vil \\u00faltimos 7 d\\u00edas\": \"Promedio m\\u00f3vil \\u00faltimos 7 d\\u00edas\"}, {\"Fecha\": \"2020-03-08\", \"Casos confirmados\": 3, \"Rolling\": null, \"Casos confirmados diarios\": \"Casos confirmados diarios\", \"Promedio m\\u00f3vil \\u00faltimos 7 d\\u00edas\": \"Promedio m\\u00f3vil \\u00faltimos 7 d\\u00edas\"}, {\"Fecha\": \"2020-03-09\", \"Casos confirmados\": 5, \"Rolling\": null, \"Casos confirmados diarios\": \"Casos confirmados diarios\", \"Promedio m\\u00f3vil \\u00faltimos 7 d\\u00edas\": \"Promedio m\\u00f3vil \\u00faltimos 7 d\\u00edas\"}, {\"Fecha\": \"2020-03-10\", \"Casos confirmados\": 2, \"Rolling\": 2.2857142857142856, \"Casos confirmados diarios\": \"Casos confirmados diarios\", \"Promedio m\\u00f3vil \\u00faltimos 7 d\\u00edas\": \"Promedio m\\u00f3vil \\u00faltimos 7 d\\u00edas\"}, {\"Fecha\": \"2020-03-11\", \"Casos confirmados\": 6, \"Rolling\": 2.857142857142857, \"Casos confirmados diarios\": \"Casos confirmados diarios\", \"Promedio m\\u00f3vil \\u00faltimos 7 d\\u00edas\": \"Promedio m\\u00f3vil \\u00faltimos 7 d\\u00edas\"}, {\"Fecha\": \"2020-03-12\", \"Casos confirmados\": 10, \"Rolling\": 4.142857142857143, \"Casos confirmados diarios\": \"Casos confirmados diarios\", \"Promedio m\\u00f3vil \\u00faltimos 7 d\\u00edas\": \"Promedio m\\u00f3vil \\u00faltimos 7 d\\u00edas\"}, {\"Fecha\": \"2020-03-13\", \"Casos confirmados\": 10, \"Rolling\": 5.428571428571429, \"Casos confirmados diarios\": \"Casos confirmados diarios\", \"Promedio m\\u00f3vil \\u00faltimos 7 d\\u00edas\": \"Promedio m\\u00f3vil \\u00faltimos 7 d\\u00edas\"}, {\"Fecha\": \"2020-03-14\", \"Casos confirmados\": 18, \"Rolling\": 7.714285714285714, \"Casos confirmados diarios\": \"Casos confirmados diarios\", \"Promedio m\\u00f3vil \\u00faltimos 7 d\\u00edas\": \"Promedio m\\u00f3vil \\u00faltimos 7 d\\u00edas\"}, {\"Fecha\": \"2020-03-15\", \"Casos confirmados\": 14, \"Rolling\": 9.285714285714286, \"Casos confirmados diarios\": \"Casos confirmados diarios\", \"Promedio m\\u00f3vil \\u00faltimos 7 d\\u00edas\": \"Promedio m\\u00f3vil \\u00faltimos 7 d\\u00edas\"}, {\"Fecha\": \"2020-03-16\", \"Casos confirmados\": 81, \"Rolling\": 20.142857142857142, \"Casos confirmados diarios\": \"Casos confirmados diarios\", \"Promedio m\\u00f3vil \\u00faltimos 7 d\\u00edas\": \"Promedio m\\u00f3vil \\u00faltimos 7 d\\u00edas\"}, {\"Fecha\": \"2020-03-17\", \"Casos confirmados\": 45, \"Rolling\": 26.285714285714285, \"Casos confirmados diarios\": \"Casos confirmados diarios\", \"Promedio m\\u00f3vil \\u00faltimos 7 d\\u00edas\": \"Promedio m\\u00f3vil \\u00faltimos 7 d\\u00edas\"}, {\"Fecha\": \"2020-03-18\", \"Casos confirmados\": 37, \"Rolling\": 30.714285714285715, \"Casos confirmados diarios\": \"Casos confirmados diarios\", \"Promedio m\\u00f3vil \\u00faltimos 7 d\\u00edas\": \"Promedio m\\u00f3vil \\u00faltimos 7 d\\u00edas\"}, {\"Fecha\": \"2020-03-19\", \"Casos confirmados\": 104, \"Rolling\": 44.142857142857146, \"Casos confirmados diarios\": \"Casos confirmados diarios\", \"Promedio m\\u00f3vil \\u00faltimos 7 d\\u00edas\": \"Promedio m\\u00f3vil \\u00faltimos 7 d\\u00edas\"}, {\"Fecha\": \"2020-03-20\", \"Casos confirmados\": 92, \"Rolling\": 55.857142857142854, \"Casos confirmados diarios\": \"Casos confirmados diarios\", \"Promedio m\\u00f3vil \\u00faltimos 7 d\\u00edas\": \"Promedio m\\u00f3vil \\u00faltimos 7 d\\u00edas\"}, {\"Fecha\": \"2020-03-21\", \"Casos confirmados\": 103, \"Rolling\": 68.0, \"Casos confirmados diarios\": \"Casos confirmados diarios\", \"Promedio m\\u00f3vil \\u00faltimos 7 d\\u00edas\": \"Promedio m\\u00f3vil \\u00faltimos 7 d\\u00edas\"}, {\"Fecha\": \"2020-03-22\", \"Casos confirmados\": 95, \"Rolling\": 79.57142857142857, \"Casos confirmados diarios\": \"Casos confirmados diarios\", \"Promedio m\\u00f3vil \\u00faltimos 7 d\\u00edas\": \"Promedio m\\u00f3vil \\u00faltimos 7 d\\u00edas\"}, {\"Fecha\": \"2020-03-23\", \"Casos confirmados\": 114, \"Rolling\": 84.28571428571429, \"Casos confirmados diarios\": \"Casos confirmados diarios\", \"Promedio m\\u00f3vil \\u00faltimos 7 d\\u00edas\": \"Promedio m\\u00f3vil \\u00faltimos 7 d\\u00edas\"}, {\"Fecha\": \"2020-03-24\", \"Casos confirmados\": 176, \"Rolling\": 103.0, \"Casos confirmados diarios\": \"Casos confirmados diarios\", \"Promedio m\\u00f3vil \\u00faltimos 7 d\\u00edas\": \"Promedio m\\u00f3vil \\u00faltimos 7 d\\u00edas\"}, {\"Fecha\": \"2020-03-25\", \"Casos confirmados\": 220, \"Rolling\": 129.14285714285714, \"Casos confirmados diarios\": \"Casos confirmados diarios\", \"Promedio m\\u00f3vil \\u00faltimos 7 d\\u00edas\": \"Promedio m\\u00f3vil \\u00faltimos 7 d\\u00edas\"}, {\"Fecha\": \"2020-03-26\", \"Casos confirmados\": 164, \"Rolling\": 137.71428571428572, \"Casos confirmados diarios\": \"Casos confirmados diarios\", \"Promedio m\\u00f3vil \\u00faltimos 7 d\\u00edas\": \"Promedio m\\u00f3vil \\u00faltimos 7 d\\u00edas\"}, {\"Fecha\": \"2020-03-27\", \"Casos confirmados\": 304, \"Rolling\": 168.0, \"Casos confirmados diarios\": \"Casos confirmados diarios\", \"Promedio m\\u00f3vil \\u00faltimos 7 d\\u00edas\": \"Promedio m\\u00f3vil \\u00faltimos 7 d\\u00edas\"}, {\"Fecha\": \"2020-03-28\", \"Casos confirmados\": 299, \"Rolling\": 196.0, \"Casos confirmados diarios\": \"Casos confirmados diarios\", \"Promedio m\\u00f3vil \\u00faltimos 7 d\\u00edas\": \"Promedio m\\u00f3vil \\u00faltimos 7 d\\u00edas\"}, {\"Fecha\": \"2020-03-29\", \"Casos confirmados\": 230, \"Rolling\": 215.28571428571428, \"Casos confirmados diarios\": \"Casos confirmados diarios\", \"Promedio m\\u00f3vil \\u00faltimos 7 d\\u00edas\": \"Promedio m\\u00f3vil \\u00faltimos 7 d\\u00edas\"}, {\"Fecha\": \"2020-03-30\", \"Casos confirmados\": 310, \"Rolling\": 243.28571428571428, \"Casos confirmados diarios\": \"Casos confirmados diarios\", \"Promedio m\\u00f3vil \\u00faltimos 7 d\\u00edas\": \"Promedio m\\u00f3vil \\u00faltimos 7 d\\u00edas\"}, {\"Fecha\": \"2020-03-31\", \"Casos confirmados\": 289, \"Rolling\": 259.42857142857144, \"Casos confirmados diarios\": \"Casos confirmados diarios\", \"Promedio m\\u00f3vil \\u00faltimos 7 d\\u00edas\": \"Promedio m\\u00f3vil \\u00faltimos 7 d\\u00edas\"}, {\"Fecha\": \"2020-04-01\", \"Casos confirmados\": 293, \"Rolling\": 269.85714285714283, \"Casos confirmados diarios\": \"Casos confirmados diarios\", \"Promedio m\\u00f3vil \\u00faltimos 7 d\\u00edas\": \"Promedio m\\u00f3vil \\u00faltimos 7 d\\u00edas\"}, {\"Fecha\": \"2020-04-02\", \"Casos confirmados\": 373, \"Rolling\": 299.7142857142857, \"Casos confirmados diarios\": \"Casos confirmados diarios\", \"Promedio m\\u00f3vil \\u00faltimos 7 d\\u00edas\": \"Promedio m\\u00f3vil \\u00faltimos 7 d\\u00edas\"}, {\"Fecha\": \"2020-04-03\", \"Casos confirmados\": 333, \"Rolling\": 303.85714285714283, \"Casos confirmados diarios\": \"Casos confirmados diarios\", \"Promedio m\\u00f3vil \\u00faltimos 7 d\\u00edas\": \"Promedio m\\u00f3vil \\u00faltimos 7 d\\u00edas\"}, {\"Fecha\": \"2020-04-04\", \"Casos confirmados\": 424, \"Rolling\": 321.7142857142857, \"Casos confirmados diarios\": \"Casos confirmados diarios\", \"Promedio m\\u00f3vil \\u00faltimos 7 d\\u00edas\": \"Promedio m\\u00f3vil \\u00faltimos 7 d\\u00edas\"}, {\"Fecha\": \"2020-04-05\", \"Casos confirmados\": 310, \"Rolling\": 333.14285714285717, \"Casos confirmados diarios\": \"Casos confirmados diarios\", \"Promedio m\\u00f3vil \\u00faltimos 7 d\\u00edas\": \"Promedio m\\u00f3vil \\u00faltimos 7 d\\u00edas\"}, {\"Fecha\": \"2020-04-06\", \"Casos confirmados\": 344, \"Rolling\": 338.0, \"Casos confirmados diarios\": \"Casos confirmados diarios\", \"Promedio m\\u00f3vil \\u00faltimos 7 d\\u00edas\": \"Promedio m\\u00f3vil \\u00faltimos 7 d\\u00edas\"}, {\"Fecha\": \"2020-04-07\", \"Casos confirmados\": 301, \"Rolling\": 339.7142857142857, \"Casos confirmados diarios\": \"Casos confirmados diarios\", \"Promedio m\\u00f3vil \\u00faltimos 7 d\\u00edas\": \"Promedio m\\u00f3vil \\u00faltimos 7 d\\u00edas\"}, {\"Fecha\": \"2020-04-08\", \"Casos confirmados\": 430, \"Rolling\": 359.2857142857143, \"Casos confirmados diarios\": \"Casos confirmados diarios\", \"Promedio m\\u00f3vil \\u00faltimos 7 d\\u00edas\": \"Promedio m\\u00f3vil \\u00faltimos 7 d\\u00edas\"}, {\"Fecha\": \"2020-04-09\", \"Casos confirmados\": 426, \"Rolling\": 366.85714285714283, \"Casos confirmados diarios\": \"Casos confirmados diarios\", \"Promedio m\\u00f3vil \\u00faltimos 7 d\\u00edas\": \"Promedio m\\u00f3vil \\u00faltimos 7 d\\u00edas\"}, {\"Fecha\": \"2020-04-10\", \"Casos confirmados\": 529, \"Rolling\": 394.85714285714283, \"Casos confirmados diarios\": \"Casos confirmados diarios\", \"Promedio m\\u00f3vil \\u00faltimos 7 d\\u00edas\": \"Promedio m\\u00f3vil \\u00faltimos 7 d\\u00edas\"}, {\"Fecha\": \"2020-04-11\", \"Casos confirmados\": 426, \"Rolling\": 395.14285714285717, \"Casos confirmados diarios\": \"Casos confirmados diarios\", \"Promedio m\\u00f3vil \\u00faltimos 7 d\\u00edas\": \"Promedio m\\u00f3vil \\u00faltimos 7 d\\u00edas\"}, {\"Fecha\": \"2020-04-12\", \"Casos confirmados\": 286, \"Rolling\": 391.7142857142857, \"Casos confirmados diarios\": \"Casos confirmados diarios\", \"Promedio m\\u00f3vil \\u00faltimos 7 d\\u00edas\": \"Promedio m\\u00f3vil \\u00faltimos 7 d\\u00edas\"}, {\"Fecha\": \"2020-04-13\", \"Casos confirmados\": 312, \"Rolling\": 387.14285714285717, \"Casos confirmados diarios\": \"Casos confirmados diarios\", \"Promedio m\\u00f3vil \\u00faltimos 7 d\\u00edas\": \"Promedio m\\u00f3vil \\u00faltimos 7 d\\u00edas\"}, {\"Fecha\": \"2020-04-14\", \"Casos confirmados\": 392, \"Rolling\": 400.14285714285717, \"Casos confirmados diarios\": \"Casos confirmados diarios\", \"Promedio m\\u00f3vil \\u00faltimos 7 d\\u00edas\": \"Promedio m\\u00f3vil \\u00faltimos 7 d\\u00edas\"}, {\"Fecha\": \"2020-04-15\", \"Casos confirmados\": 356, \"Rolling\": 389.57142857142856, \"Casos confirmados diarios\": \"Casos confirmados diarios\", \"Promedio m\\u00f3vil \\u00faltimos 7 d\\u00edas\": \"Promedio m\\u00f3vil \\u00faltimos 7 d\\u00edas\"}, {\"Fecha\": \"2020-04-16\", \"Casos confirmados\": 534, \"Rolling\": 405.0, \"Casos confirmados diarios\": \"Casos confirmados diarios\", \"Promedio m\\u00f3vil \\u00faltimos 7 d\\u00edas\": \"Promedio m\\u00f3vil \\u00faltimos 7 d\\u00edas\"}, {\"Fecha\": \"2020-04-17\", \"Casos confirmados\": 445, \"Rolling\": 393.0, \"Casos confirmados diarios\": \"Casos confirmados diarios\", \"Promedio m\\u00f3vil \\u00faltimos 7 d\\u00edas\": \"Promedio m\\u00f3vil \\u00faltimos 7 d\\u00edas\"}, {\"Fecha\": \"2020-04-18\", \"Casos confirmados\": 478, \"Rolling\": 400.42857142857144, \"Casos confirmados diarios\": \"Casos confirmados diarios\", \"Promedio m\\u00f3vil \\u00faltimos 7 d\\u00edas\": \"Promedio m\\u00f3vil \\u00faltimos 7 d\\u00edas\"}, {\"Fecha\": \"2020-04-19\", \"Casos confirmados\": 358, \"Rolling\": 410.7142857142857, \"Casos confirmados diarios\": \"Casos confirmados diarios\", \"Promedio m\\u00f3vil \\u00faltimos 7 d\\u00edas\": \"Promedio m\\u00f3vil \\u00faltimos 7 d\\u00edas\"}, {\"Fecha\": \"2020-04-20\", \"Casos confirmados\": 419, \"Rolling\": 426.0, \"Casos confirmados diarios\": \"Casos confirmados diarios\", \"Promedio m\\u00f3vil \\u00faltimos 7 d\\u00edas\": \"Promedio m\\u00f3vil \\u00faltimos 7 d\\u00edas\"}, {\"Fecha\": \"2020-04-21\", \"Casos confirmados\": 325, \"Rolling\": 416.42857142857144, \"Casos confirmados diarios\": \"Casos confirmados diarios\", \"Promedio m\\u00f3vil \\u00faltimos 7 d\\u00edas\": \"Promedio m\\u00f3vil \\u00faltimos 7 d\\u00edas\"}, {\"Fecha\": \"2020-04-22\", \"Casos confirmados\": 464, \"Rolling\": 431.85714285714283, \"Casos confirmados diarios\": \"Casos confirmados diarios\", \"Promedio m\\u00f3vil \\u00faltimos 7 d\\u00edas\": \"Promedio m\\u00f3vil \\u00faltimos 7 d\\u00edas\"}, {\"Fecha\": \"2020-04-23\", \"Casos confirmados\": 516, \"Rolling\": 429.2857142857143, \"Casos confirmados diarios\": \"Casos confirmados diarios\", \"Promedio m\\u00f3vil \\u00faltimos 7 d\\u00edas\": \"Promedio m\\u00f3vil \\u00faltimos 7 d\\u00edas\"}, {\"Fecha\": \"2020-04-24\", \"Casos confirmados\": 494, \"Rolling\": 436.2857142857143, \"Casos confirmados diarios\": \"Casos confirmados diarios\", \"Promedio m\\u00f3vil \\u00faltimos 7 d\\u00edas\": \"Promedio m\\u00f3vil \\u00faltimos 7 d\\u00edas\"}, {\"Fecha\": \"2020-04-25\", \"Casos confirmados\": 552, \"Rolling\": 446.85714285714283, \"Casos confirmados diarios\": \"Casos confirmados diarios\", \"Promedio m\\u00f3vil \\u00faltimos 7 d\\u00edas\": \"Promedio m\\u00f3vil \\u00faltimos 7 d\\u00edas\"}, {\"Fecha\": \"2020-04-26\", \"Casos confirmados\": 473, \"Rolling\": 463.2857142857143, \"Casos confirmados diarios\": \"Casos confirmados diarios\", \"Promedio m\\u00f3vil \\u00faltimos 7 d\\u00edas\": \"Promedio m\\u00f3vil \\u00faltimos 7 d\\u00edas\"}]}}, {\"mode\": \"vega-lite\"});\n",
       "</script>"
      ],
      "text/plain": [
       "alt.LayerChart(...)"
      ]
     },
     "execution_count": 7,
     "metadata": {},
     "output_type": "execute_result"
    }
   ],
   "source": [
    "#hide_input\n",
    "bars, line = my_cases_plot(region)\n",
    "(bars + line).properties(\n",
    "    title=f'Covid-19 en Chile: Casos confirmados diarios en Chile',\n",
    "    width=600\n",
    ")"
   ]
  },
  {
   "cell_type": "markdown",
   "metadata": {},
   "source": [
    "## Arica y Parinacota"
   ]
  },
  {
   "cell_type": "code",
   "execution_count": 8,
   "metadata": {},
   "outputs": [],
   "source": [
    "#hide\n",
    "region = \"Arica y Parinacota\""
   ]
  },
  {
   "cell_type": "code",
   "execution_count": 9,
   "metadata": {},
   "outputs": [
    {
     "data": {
      "text/html": [
       "\n",
       "<div id=\"altair-viz-a120e1070a8d4fceaaf60ff0410b8d25\"></div>\n",
       "<script type=\"text/javascript\">\n",
       "  (function(spec, embedOpt){\n",
       "    let outputDiv = document.currentScript.previousElementSibling;\n",
       "    if (outputDiv.id !== \"altair-viz-a120e1070a8d4fceaaf60ff0410b8d25\") {\n",
       "      outputDiv = document.getElementById(\"altair-viz-a120e1070a8d4fceaaf60ff0410b8d25\");\n",
       "    }\n",
       "    const paths = {\n",
       "      \"vega\": \"https://cdn.jsdelivr.net/npm//vega@5?noext\",\n",
       "      \"vega-lib\": \"https://cdn.jsdelivr.net/npm//vega-lib?noext\",\n",
       "      \"vega-lite\": \"https://cdn.jsdelivr.net/npm//vega-lite@4.8.1?noext\",\n",
       "      \"vega-embed\": \"https://cdn.jsdelivr.net/npm//vega-embed@6?noext\",\n",
       "    };\n",
       "\n",
       "    function loadScript(lib) {\n",
       "      return new Promise(function(resolve, reject) {\n",
       "        var s = document.createElement('script');\n",
       "        s.src = paths[lib];\n",
       "        s.async = true;\n",
       "        s.onload = () => resolve(paths[lib]);\n",
       "        s.onerror = () => reject(`Error loading script: ${paths[lib]}`);\n",
       "        document.getElementsByTagName(\"head\")[0].appendChild(s);\n",
       "      });\n",
       "    }\n",
       "\n",
       "    function showError(err) {\n",
       "      outputDiv.innerHTML = `<div class=\"error\" style=\"color:red;\">${err}</div>`;\n",
       "      throw err;\n",
       "    }\n",
       "\n",
       "    function displayChart(vegaEmbed) {\n",
       "      vegaEmbed(outputDiv, spec, embedOpt)\n",
       "        .catch(err => showError(`Javascript Error: ${err.message}<br>This usually means there's a typo in your chart specification. See the javascript console for the full traceback.`));\n",
       "    }\n",
       "\n",
       "    if(typeof define === \"function\" && define.amd) {\n",
       "      requirejs.config({paths});\n",
       "      require([\"vega-embed\"], displayChart, err => showError(`Error loading script: ${err.message}`));\n",
       "    } else if (typeof vegaEmbed === \"function\") {\n",
       "      displayChart(vegaEmbed);\n",
       "    } else {\n",
       "      loadScript(\"vega\")\n",
       "        .then(() => loadScript(\"vega-lite\"))\n",
       "        .then(() => loadScript(\"vega-embed\"))\n",
       "        .catch(showError)\n",
       "        .then(() => displayChart(vegaEmbed));\n",
       "    }\n",
       "  })({\"config\": {\"view\": {\"continuousWidth\": 400, \"continuousHeight\": 300}}, \"layer\": [{\"mark\": {\"type\": \"bar\", \"opacity\": 0.7}, \"encoding\": {\"opacity\": {\"type\": \"nominal\", \"field\": \"Casos confirmados diarios\", \"legend\": {\"title\": \"\"}}, \"tooltip\": [{\"type\": \"nominal\", \"field\": \"Fecha\"}, {\"type\": \"quantitative\", \"field\": \"Casos confirmados\"}], \"x\": {\"type\": \"nominal\", \"axis\": {\"title\": \"Fecha (a\\u00f1o-mes-d\\u00eda)\"}, \"field\": \"Fecha\"}, \"y\": {\"type\": \"quantitative\", \"axis\": {\"title\": \"Casos confirmados diarios\"}, \"field\": \"Casos confirmados\"}}}, {\"mark\": {\"type\": \"line\", \"color\": \"#1f77b4\", \"point\": {\"filled\": true, \"fill\": \"#1f77b4\"}}, \"encoding\": {\"shape\": {\"type\": \"nominal\", \"field\": \"Promedio m\\u00f3vil \\u00faltimos 7 d\\u00edas\", \"legend\": {\"title\": \"\"}}, \"x\": {\"type\": \"nominal\", \"axis\": {\"title\": \"Fecha (a\\u00f1o-mes-d\\u00eda)\"}, \"field\": \"Fecha\"}, \"y\": {\"type\": \"quantitative\", \"field\": \"Rolling\"}}}], \"data\": {\"name\": \"data-cb4090c87c7937b33ff17ab5aa867568\"}, \"title\": \"Covid-19 en Chile: Casos confirmados diarios en Arica y Parinacota\", \"width\": 600, \"$schema\": \"https://vega.github.io/schema/vega-lite/v4.8.1.json\", \"datasets\": {\"data-cb4090c87c7937b33ff17ab5aa867568\": [{\"Fecha\": \"2020-03-04\", \"Casos confirmados\": 0, \"Rolling\": null, \"Casos confirmados diarios\": \"Casos confirmados diarios\", \"Promedio m\\u00f3vil \\u00faltimos 7 d\\u00edas\": \"Promedio m\\u00f3vil \\u00faltimos 7 d\\u00edas\"}, {\"Fecha\": \"2020-03-05\", \"Casos confirmados\": 0, \"Rolling\": null, \"Casos confirmados diarios\": \"Casos confirmados diarios\", \"Promedio m\\u00f3vil \\u00faltimos 7 d\\u00edas\": \"Promedio m\\u00f3vil \\u00faltimos 7 d\\u00edas\"}, {\"Fecha\": \"2020-03-06\", \"Casos confirmados\": 0, \"Rolling\": null, \"Casos confirmados diarios\": \"Casos confirmados diarios\", \"Promedio m\\u00f3vil \\u00faltimos 7 d\\u00edas\": \"Promedio m\\u00f3vil \\u00faltimos 7 d\\u00edas\"}, {\"Fecha\": \"2020-03-07\", \"Casos confirmados\": 0, \"Rolling\": null, \"Casos confirmados diarios\": \"Casos confirmados diarios\", \"Promedio m\\u00f3vil \\u00faltimos 7 d\\u00edas\": \"Promedio m\\u00f3vil \\u00faltimos 7 d\\u00edas\"}, {\"Fecha\": \"2020-03-08\", \"Casos confirmados\": 0, \"Rolling\": null, \"Casos confirmados diarios\": \"Casos confirmados diarios\", \"Promedio m\\u00f3vil \\u00faltimos 7 d\\u00edas\": \"Promedio m\\u00f3vil \\u00faltimos 7 d\\u00edas\"}, {\"Fecha\": \"2020-03-09\", \"Casos confirmados\": 0, \"Rolling\": null, \"Casos confirmados diarios\": \"Casos confirmados diarios\", \"Promedio m\\u00f3vil \\u00faltimos 7 d\\u00edas\": \"Promedio m\\u00f3vil \\u00faltimos 7 d\\u00edas\"}, {\"Fecha\": \"2020-03-10\", \"Casos confirmados\": 0, \"Rolling\": 0.0, \"Casos confirmados diarios\": \"Casos confirmados diarios\", \"Promedio m\\u00f3vil \\u00faltimos 7 d\\u00edas\": \"Promedio m\\u00f3vil \\u00faltimos 7 d\\u00edas\"}, {\"Fecha\": \"2020-03-11\", \"Casos confirmados\": 0, \"Rolling\": 0.0, \"Casos confirmados diarios\": \"Casos confirmados diarios\", \"Promedio m\\u00f3vil \\u00faltimos 7 d\\u00edas\": \"Promedio m\\u00f3vil \\u00faltimos 7 d\\u00edas\"}, {\"Fecha\": \"2020-03-12\", \"Casos confirmados\": 0, \"Rolling\": 0.0, \"Casos confirmados diarios\": \"Casos confirmados diarios\", \"Promedio m\\u00f3vil \\u00faltimos 7 d\\u00edas\": \"Promedio m\\u00f3vil \\u00faltimos 7 d\\u00edas\"}, {\"Fecha\": \"2020-03-13\", \"Casos confirmados\": 0, \"Rolling\": 0.0, \"Casos confirmados diarios\": \"Casos confirmados diarios\", \"Promedio m\\u00f3vil \\u00faltimos 7 d\\u00edas\": \"Promedio m\\u00f3vil \\u00faltimos 7 d\\u00edas\"}, {\"Fecha\": \"2020-03-14\", \"Casos confirmados\": 0, \"Rolling\": 0.0, \"Casos confirmados diarios\": \"Casos confirmados diarios\", \"Promedio m\\u00f3vil \\u00faltimos 7 d\\u00edas\": \"Promedio m\\u00f3vil \\u00faltimos 7 d\\u00edas\"}, {\"Fecha\": \"2020-03-15\", \"Casos confirmados\": 0, \"Rolling\": 0.0, \"Casos confirmados diarios\": \"Casos confirmados diarios\", \"Promedio m\\u00f3vil \\u00faltimos 7 d\\u00edas\": \"Promedio m\\u00f3vil \\u00faltimos 7 d\\u00edas\"}, {\"Fecha\": \"2020-03-16\", \"Casos confirmados\": 0, \"Rolling\": 0.0, \"Casos confirmados diarios\": \"Casos confirmados diarios\", \"Promedio m\\u00f3vil \\u00faltimos 7 d\\u00edas\": \"Promedio m\\u00f3vil \\u00faltimos 7 d\\u00edas\"}, {\"Fecha\": \"2020-03-17\", \"Casos confirmados\": 0, \"Rolling\": 0.0, \"Casos confirmados diarios\": \"Casos confirmados diarios\", \"Promedio m\\u00f3vil \\u00faltimos 7 d\\u00edas\": \"Promedio m\\u00f3vil \\u00faltimos 7 d\\u00edas\"}, {\"Fecha\": \"2020-03-18\", \"Casos confirmados\": 0, \"Rolling\": 0.0, \"Casos confirmados diarios\": \"Casos confirmados diarios\", \"Promedio m\\u00f3vil \\u00faltimos 7 d\\u00edas\": \"Promedio m\\u00f3vil \\u00faltimos 7 d\\u00edas\"}, {\"Fecha\": \"2020-03-19\", \"Casos confirmados\": 1, \"Rolling\": 0.14285714285714285, \"Casos confirmados diarios\": \"Casos confirmados diarios\", \"Promedio m\\u00f3vil \\u00faltimos 7 d\\u00edas\": \"Promedio m\\u00f3vil \\u00faltimos 7 d\\u00edas\"}, {\"Fecha\": \"2020-03-20\", \"Casos confirmados\": 0, \"Rolling\": 0.14285714285714285, \"Casos confirmados diarios\": \"Casos confirmados diarios\", \"Promedio m\\u00f3vil \\u00faltimos 7 d\\u00edas\": \"Promedio m\\u00f3vil \\u00faltimos 7 d\\u00edas\"}, {\"Fecha\": \"2020-03-21\", \"Casos confirmados\": 0, \"Rolling\": 0.14285714285714285, \"Casos confirmados diarios\": \"Casos confirmados diarios\", \"Promedio m\\u00f3vil \\u00faltimos 7 d\\u00edas\": \"Promedio m\\u00f3vil \\u00faltimos 7 d\\u00edas\"}, {\"Fecha\": \"2020-03-22\", \"Casos confirmados\": 1, \"Rolling\": 0.2857142857142857, \"Casos confirmados diarios\": \"Casos confirmados diarios\", \"Promedio m\\u00f3vil \\u00faltimos 7 d\\u00edas\": \"Promedio m\\u00f3vil \\u00faltimos 7 d\\u00edas\"}, {\"Fecha\": \"2020-03-23\", \"Casos confirmados\": 0, \"Rolling\": 0.2857142857142857, \"Casos confirmados diarios\": \"Casos confirmados diarios\", \"Promedio m\\u00f3vil \\u00faltimos 7 d\\u00edas\": \"Promedio m\\u00f3vil \\u00faltimos 7 d\\u00edas\"}, {\"Fecha\": \"2020-03-24\", \"Casos confirmados\": 0, \"Rolling\": 0.2857142857142857, \"Casos confirmados diarios\": \"Casos confirmados diarios\", \"Promedio m\\u00f3vil \\u00faltimos 7 d\\u00edas\": \"Promedio m\\u00f3vil \\u00faltimos 7 d\\u00edas\"}, {\"Fecha\": \"2020-03-25\", \"Casos confirmados\": 0, \"Rolling\": 0.2857142857142857, \"Casos confirmados diarios\": \"Casos confirmados diarios\", \"Promedio m\\u00f3vil \\u00faltimos 7 d\\u00edas\": \"Promedio m\\u00f3vil \\u00faltimos 7 d\\u00edas\"}, {\"Fecha\": \"2020-03-26\", \"Casos confirmados\": 1, \"Rolling\": 0.2857142857142857, \"Casos confirmados diarios\": \"Casos confirmados diarios\", \"Promedio m\\u00f3vil \\u00faltimos 7 d\\u00edas\": \"Promedio m\\u00f3vil \\u00faltimos 7 d\\u00edas\"}, {\"Fecha\": \"2020-03-27\", \"Casos confirmados\": 0, \"Rolling\": 0.2857142857142857, \"Casos confirmados diarios\": \"Casos confirmados diarios\", \"Promedio m\\u00f3vil \\u00faltimos 7 d\\u00edas\": \"Promedio m\\u00f3vil \\u00faltimos 7 d\\u00edas\"}, {\"Fecha\": \"2020-03-28\", \"Casos confirmados\": 0, \"Rolling\": 0.2857142857142857, \"Casos confirmados diarios\": \"Casos confirmados diarios\", \"Promedio m\\u00f3vil \\u00faltimos 7 d\\u00edas\": \"Promedio m\\u00f3vil \\u00faltimos 7 d\\u00edas\"}, {\"Fecha\": \"2020-03-29\", \"Casos confirmados\": 1, \"Rolling\": 0.2857142857142857, \"Casos confirmados diarios\": \"Casos confirmados diarios\", \"Promedio m\\u00f3vil \\u00faltimos 7 d\\u00edas\": \"Promedio m\\u00f3vil \\u00faltimos 7 d\\u00edas\"}, {\"Fecha\": \"2020-03-30\", \"Casos confirmados\": 2, \"Rolling\": 0.5714285714285714, \"Casos confirmados diarios\": \"Casos confirmados diarios\", \"Promedio m\\u00f3vil \\u00faltimos 7 d\\u00edas\": \"Promedio m\\u00f3vil \\u00faltimos 7 d\\u00edas\"}, {\"Fecha\": \"2020-03-31\", \"Casos confirmados\": 0, \"Rolling\": 0.5714285714285714, \"Casos confirmados diarios\": \"Casos confirmados diarios\", \"Promedio m\\u00f3vil \\u00faltimos 7 d\\u00edas\": \"Promedio m\\u00f3vil \\u00faltimos 7 d\\u00edas\"}, {\"Fecha\": \"2020-04-01\", \"Casos confirmados\": 0, \"Rolling\": 0.5714285714285714, \"Casos confirmados diarios\": \"Casos confirmados diarios\", \"Promedio m\\u00f3vil \\u00faltimos 7 d\\u00edas\": \"Promedio m\\u00f3vil \\u00faltimos 7 d\\u00edas\"}, {\"Fecha\": \"2020-04-02\", \"Casos confirmados\": 1, \"Rolling\": 0.5714285714285714, \"Casos confirmados diarios\": \"Casos confirmados diarios\", \"Promedio m\\u00f3vil \\u00faltimos 7 d\\u00edas\": \"Promedio m\\u00f3vil \\u00faltimos 7 d\\u00edas\"}, {\"Fecha\": \"2020-04-03\", \"Casos confirmados\": 5, \"Rolling\": 1.2857142857142858, \"Casos confirmados diarios\": \"Casos confirmados diarios\", \"Promedio m\\u00f3vil \\u00faltimos 7 d\\u00edas\": \"Promedio m\\u00f3vil \\u00faltimos 7 d\\u00edas\"}, {\"Fecha\": \"2020-04-04\", \"Casos confirmados\": 0, \"Rolling\": 1.2857142857142858, \"Casos confirmados diarios\": \"Casos confirmados diarios\", \"Promedio m\\u00f3vil \\u00faltimos 7 d\\u00edas\": \"Promedio m\\u00f3vil \\u00faltimos 7 d\\u00edas\"}, {\"Fecha\": \"2020-04-05\", \"Casos confirmados\": 16, \"Rolling\": 3.4285714285714284, \"Casos confirmados diarios\": \"Casos confirmados diarios\", \"Promedio m\\u00f3vil \\u00faltimos 7 d\\u00edas\": \"Promedio m\\u00f3vil \\u00faltimos 7 d\\u00edas\"}, {\"Fecha\": \"2020-04-06\", \"Casos confirmados\": 13, \"Rolling\": 5.0, \"Casos confirmados diarios\": \"Casos confirmados diarios\", \"Promedio m\\u00f3vil \\u00faltimos 7 d\\u00edas\": \"Promedio m\\u00f3vil \\u00faltimos 7 d\\u00edas\"}, {\"Fecha\": \"2020-04-07\", \"Casos confirmados\": 12, \"Rolling\": 6.714285714285714, \"Casos confirmados diarios\": \"Casos confirmados diarios\", \"Promedio m\\u00f3vil \\u00faltimos 7 d\\u00edas\": \"Promedio m\\u00f3vil \\u00faltimos 7 d\\u00edas\"}, {\"Fecha\": \"2020-04-08\", \"Casos confirmados\": 10, \"Rolling\": 8.142857142857142, \"Casos confirmados diarios\": \"Casos confirmados diarios\", \"Promedio m\\u00f3vil \\u00faltimos 7 d\\u00edas\": \"Promedio m\\u00f3vil \\u00faltimos 7 d\\u00edas\"}, {\"Fecha\": \"2020-04-09\", \"Casos confirmados\": 12, \"Rolling\": 9.714285714285714, \"Casos confirmados diarios\": \"Casos confirmados diarios\", \"Promedio m\\u00f3vil \\u00faltimos 7 d\\u00edas\": \"Promedio m\\u00f3vil \\u00faltimos 7 d\\u00edas\"}, {\"Fecha\": \"2020-04-10\", \"Casos confirmados\": 12, \"Rolling\": 10.714285714285714, \"Casos confirmados diarios\": \"Casos confirmados diarios\", \"Promedio m\\u00f3vil \\u00faltimos 7 d\\u00edas\": \"Promedio m\\u00f3vil \\u00faltimos 7 d\\u00edas\"}, {\"Fecha\": \"2020-04-11\", \"Casos confirmados\": 20, \"Rolling\": 13.571428571428571, \"Casos confirmados diarios\": \"Casos confirmados diarios\", \"Promedio m\\u00f3vil \\u00faltimos 7 d\\u00edas\": \"Promedio m\\u00f3vil \\u00faltimos 7 d\\u00edas\"}, {\"Fecha\": \"2020-04-12\", \"Casos confirmados\": 8, \"Rolling\": 12.428571428571429, \"Casos confirmados diarios\": \"Casos confirmados diarios\", \"Promedio m\\u00f3vil \\u00faltimos 7 d\\u00edas\": \"Promedio m\\u00f3vil \\u00faltimos 7 d\\u00edas\"}, {\"Fecha\": \"2020-04-13\", \"Casos confirmados\": 0, \"Rolling\": 10.571428571428571, \"Casos confirmados diarios\": \"Casos confirmados diarios\", \"Promedio m\\u00f3vil \\u00faltimos 7 d\\u00edas\": \"Promedio m\\u00f3vil \\u00faltimos 7 d\\u00edas\"}, {\"Fecha\": \"2020-04-14\", \"Casos confirmados\": 5, \"Rolling\": 9.571428571428571, \"Casos confirmados diarios\": \"Casos confirmados diarios\", \"Promedio m\\u00f3vil \\u00faltimos 7 d\\u00edas\": \"Promedio m\\u00f3vil \\u00faltimos 7 d\\u00edas\"}, {\"Fecha\": \"2020-04-15\", \"Casos confirmados\": 4, \"Rolling\": 8.714285714285714, \"Casos confirmados diarios\": \"Casos confirmados diarios\", \"Promedio m\\u00f3vil \\u00faltimos 7 d\\u00edas\": \"Promedio m\\u00f3vil \\u00faltimos 7 d\\u00edas\"}, {\"Fecha\": \"2020-04-16\", \"Casos confirmados\": 5, \"Rolling\": 7.714285714285714, \"Casos confirmados diarios\": \"Casos confirmados diarios\", \"Promedio m\\u00f3vil \\u00faltimos 7 d\\u00edas\": \"Promedio m\\u00f3vil \\u00faltimos 7 d\\u00edas\"}, {\"Fecha\": \"2020-04-17\", \"Casos confirmados\": 5, \"Rolling\": 6.714285714285714, \"Casos confirmados diarios\": \"Casos confirmados diarios\", \"Promedio m\\u00f3vil \\u00faltimos 7 d\\u00edas\": \"Promedio m\\u00f3vil \\u00faltimos 7 d\\u00edas\"}, {\"Fecha\": \"2020-04-18\", \"Casos confirmados\": 8, \"Rolling\": 5.0, \"Casos confirmados diarios\": \"Casos confirmados diarios\", \"Promedio m\\u00f3vil \\u00faltimos 7 d\\u00edas\": \"Promedio m\\u00f3vil \\u00faltimos 7 d\\u00edas\"}, {\"Fecha\": \"2020-04-19\", \"Casos confirmados\": 3, \"Rolling\": 4.285714285714286, \"Casos confirmados diarios\": \"Casos confirmados diarios\", \"Promedio m\\u00f3vil \\u00faltimos 7 d\\u00edas\": \"Promedio m\\u00f3vil \\u00faltimos 7 d\\u00edas\"}, {\"Fecha\": \"2020-04-20\", \"Casos confirmados\": 16, \"Rolling\": 6.571428571428571, \"Casos confirmados diarios\": \"Casos confirmados diarios\", \"Promedio m\\u00f3vil \\u00faltimos 7 d\\u00edas\": \"Promedio m\\u00f3vil \\u00faltimos 7 d\\u00edas\"}, {\"Fecha\": \"2020-04-21\", \"Casos confirmados\": 9, \"Rolling\": 7.142857142857143, \"Casos confirmados diarios\": \"Casos confirmados diarios\", \"Promedio m\\u00f3vil \\u00faltimos 7 d\\u00edas\": \"Promedio m\\u00f3vil \\u00faltimos 7 d\\u00edas\"}, {\"Fecha\": \"2020-04-22\", \"Casos confirmados\": 10, \"Rolling\": 8.0, \"Casos confirmados diarios\": \"Casos confirmados diarios\", \"Promedio m\\u00f3vil \\u00faltimos 7 d\\u00edas\": \"Promedio m\\u00f3vil \\u00faltimos 7 d\\u00edas\"}, {\"Fecha\": \"2020-04-23\", \"Casos confirmados\": 30, \"Rolling\": 11.571428571428571, \"Casos confirmados diarios\": \"Casos confirmados diarios\", \"Promedio m\\u00f3vil \\u00faltimos 7 d\\u00edas\": \"Promedio m\\u00f3vil \\u00faltimos 7 d\\u00edas\"}, {\"Fecha\": \"2020-04-24\", \"Casos confirmados\": 29, \"Rolling\": 15.0, \"Casos confirmados diarios\": \"Casos confirmados diarios\", \"Promedio m\\u00f3vil \\u00faltimos 7 d\\u00edas\": \"Promedio m\\u00f3vil \\u00faltimos 7 d\\u00edas\"}, {\"Fecha\": \"2020-04-25\", \"Casos confirmados\": 6, \"Rolling\": 14.714285714285714, \"Casos confirmados diarios\": \"Casos confirmados diarios\", \"Promedio m\\u00f3vil \\u00faltimos 7 d\\u00edas\": \"Promedio m\\u00f3vil \\u00faltimos 7 d\\u00edas\"}, {\"Fecha\": \"2020-04-26\", \"Casos confirmados\": 7, \"Rolling\": 15.285714285714286, \"Casos confirmados diarios\": \"Casos confirmados diarios\", \"Promedio m\\u00f3vil \\u00faltimos 7 d\\u00edas\": \"Promedio m\\u00f3vil \\u00faltimos 7 d\\u00edas\"}]}}, {\"mode\": \"vega-lite\"});\n",
       "</script>"
      ],
      "text/plain": [
       "alt.LayerChart(...)"
      ]
     },
     "execution_count": 9,
     "metadata": {},
     "output_type": "execute_result"
    }
   ],
   "source": [
    "#hide_input\n",
    "bars, line = my_cases_plot(region)\n",
    "(bars + line).properties(\n",
    "    title=f'Covid-19 en Chile: Casos confirmados diarios en {region}',\n",
    "    width=600\n",
    ")"
   ]
  },
  {
   "cell_type": "markdown",
   "metadata": {},
   "source": [
    "## Tarapacá"
   ]
  },
  {
   "cell_type": "code",
   "execution_count": 10,
   "metadata": {},
   "outputs": [],
   "source": [
    "#hide\n",
    "region = \"Tarapacá\""
   ]
  },
  {
   "cell_type": "code",
   "execution_count": 11,
   "metadata": {},
   "outputs": [
    {
     "data": {
      "text/html": [
       "\n",
       "<div id=\"altair-viz-e06afd7848f548d8b1986bc1f4a880a2\"></div>\n",
       "<script type=\"text/javascript\">\n",
       "  (function(spec, embedOpt){\n",
       "    let outputDiv = document.currentScript.previousElementSibling;\n",
       "    if (outputDiv.id !== \"altair-viz-e06afd7848f548d8b1986bc1f4a880a2\") {\n",
       "      outputDiv = document.getElementById(\"altair-viz-e06afd7848f548d8b1986bc1f4a880a2\");\n",
       "    }\n",
       "    const paths = {\n",
       "      \"vega\": \"https://cdn.jsdelivr.net/npm//vega@5?noext\",\n",
       "      \"vega-lib\": \"https://cdn.jsdelivr.net/npm//vega-lib?noext\",\n",
       "      \"vega-lite\": \"https://cdn.jsdelivr.net/npm//vega-lite@4.8.1?noext\",\n",
       "      \"vega-embed\": \"https://cdn.jsdelivr.net/npm//vega-embed@6?noext\",\n",
       "    };\n",
       "\n",
       "    function loadScript(lib) {\n",
       "      return new Promise(function(resolve, reject) {\n",
       "        var s = document.createElement('script');\n",
       "        s.src = paths[lib];\n",
       "        s.async = true;\n",
       "        s.onload = () => resolve(paths[lib]);\n",
       "        s.onerror = () => reject(`Error loading script: ${paths[lib]}`);\n",
       "        document.getElementsByTagName(\"head\")[0].appendChild(s);\n",
       "      });\n",
       "    }\n",
       "\n",
       "    function showError(err) {\n",
       "      outputDiv.innerHTML = `<div class=\"error\" style=\"color:red;\">${err}</div>`;\n",
       "      throw err;\n",
       "    }\n",
       "\n",
       "    function displayChart(vegaEmbed) {\n",
       "      vegaEmbed(outputDiv, spec, embedOpt)\n",
       "        .catch(err => showError(`Javascript Error: ${err.message}<br>This usually means there's a typo in your chart specification. See the javascript console for the full traceback.`));\n",
       "    }\n",
       "\n",
       "    if(typeof define === \"function\" && define.amd) {\n",
       "      requirejs.config({paths});\n",
       "      require([\"vega-embed\"], displayChart, err => showError(`Error loading script: ${err.message}`));\n",
       "    } else if (typeof vegaEmbed === \"function\") {\n",
       "      displayChart(vegaEmbed);\n",
       "    } else {\n",
       "      loadScript(\"vega\")\n",
       "        .then(() => loadScript(\"vega-lite\"))\n",
       "        .then(() => loadScript(\"vega-embed\"))\n",
       "        .catch(showError)\n",
       "        .then(() => displayChart(vegaEmbed));\n",
       "    }\n",
       "  })({\"config\": {\"view\": {\"continuousWidth\": 400, \"continuousHeight\": 300}}, \"layer\": [{\"mark\": {\"type\": \"bar\", \"opacity\": 0.7}, \"encoding\": {\"opacity\": {\"type\": \"nominal\", \"field\": \"Casos confirmados diarios\", \"legend\": {\"title\": \"\"}}, \"tooltip\": [{\"type\": \"nominal\", \"field\": \"Fecha\"}, {\"type\": \"quantitative\", \"field\": \"Casos confirmados\"}], \"x\": {\"type\": \"nominal\", \"axis\": {\"title\": \"Fecha (a\\u00f1o-mes-d\\u00eda)\"}, \"field\": \"Fecha\"}, \"y\": {\"type\": \"quantitative\", \"axis\": {\"title\": \"Casos confirmados diarios\"}, \"field\": \"Casos confirmados\"}}}, {\"mark\": {\"type\": \"line\", \"color\": \"#1f77b4\", \"point\": {\"filled\": true, \"fill\": \"#1f77b4\"}}, \"encoding\": {\"shape\": {\"type\": \"nominal\", \"field\": \"Promedio m\\u00f3vil \\u00faltimos 7 d\\u00edas\", \"legend\": {\"title\": \"\"}}, \"x\": {\"type\": \"nominal\", \"axis\": {\"title\": \"Fecha (a\\u00f1o-mes-d\\u00eda)\"}, \"field\": \"Fecha\"}, \"y\": {\"type\": \"quantitative\", \"field\": \"Rolling\"}}}], \"data\": {\"name\": \"data-9e7d670b0e5c0cb0619d88413194bdac\"}, \"title\": \"Covid-19 en Chile: Casos confirmados diarios en Tarapac\\u00e1\", \"width\": 600, \"$schema\": \"https://vega.github.io/schema/vega-lite/v4.8.1.json\", \"datasets\": {\"data-9e7d670b0e5c0cb0619d88413194bdac\": [{\"Fecha\": \"2020-03-04\", \"Casos confirmados\": 0, \"Rolling\": null, \"Casos confirmados diarios\": \"Casos confirmados diarios\", \"Promedio m\\u00f3vil \\u00faltimos 7 d\\u00edas\": \"Promedio m\\u00f3vil \\u00faltimos 7 d\\u00edas\"}, {\"Fecha\": \"2020-03-05\", \"Casos confirmados\": 0, \"Rolling\": null, \"Casos confirmados diarios\": \"Casos confirmados diarios\", \"Promedio m\\u00f3vil \\u00faltimos 7 d\\u00edas\": \"Promedio m\\u00f3vil \\u00faltimos 7 d\\u00edas\"}, {\"Fecha\": \"2020-03-06\", \"Casos confirmados\": 0, \"Rolling\": null, \"Casos confirmados diarios\": \"Casos confirmados diarios\", \"Promedio m\\u00f3vil \\u00faltimos 7 d\\u00edas\": \"Promedio m\\u00f3vil \\u00faltimos 7 d\\u00edas\"}, {\"Fecha\": \"2020-03-07\", \"Casos confirmados\": 0, \"Rolling\": null, \"Casos confirmados diarios\": \"Casos confirmados diarios\", \"Promedio m\\u00f3vil \\u00faltimos 7 d\\u00edas\": \"Promedio m\\u00f3vil \\u00faltimos 7 d\\u00edas\"}, {\"Fecha\": \"2020-03-08\", \"Casos confirmados\": 0, \"Rolling\": null, \"Casos confirmados diarios\": \"Casos confirmados diarios\", \"Promedio m\\u00f3vil \\u00faltimos 7 d\\u00edas\": \"Promedio m\\u00f3vil \\u00faltimos 7 d\\u00edas\"}, {\"Fecha\": \"2020-03-09\", \"Casos confirmados\": 0, \"Rolling\": null, \"Casos confirmados diarios\": \"Casos confirmados diarios\", \"Promedio m\\u00f3vil \\u00faltimos 7 d\\u00edas\": \"Promedio m\\u00f3vil \\u00faltimos 7 d\\u00edas\"}, {\"Fecha\": \"2020-03-10\", \"Casos confirmados\": 0, \"Rolling\": 0.0, \"Casos confirmados diarios\": \"Casos confirmados diarios\", \"Promedio m\\u00f3vil \\u00faltimos 7 d\\u00edas\": \"Promedio m\\u00f3vil \\u00faltimos 7 d\\u00edas\"}, {\"Fecha\": \"2020-03-11\", \"Casos confirmados\": 0, \"Rolling\": 0.0, \"Casos confirmados diarios\": \"Casos confirmados diarios\", \"Promedio m\\u00f3vil \\u00faltimos 7 d\\u00edas\": \"Promedio m\\u00f3vil \\u00faltimos 7 d\\u00edas\"}, {\"Fecha\": \"2020-03-12\", \"Casos confirmados\": 0, \"Rolling\": 0.0, \"Casos confirmados diarios\": \"Casos confirmados diarios\", \"Promedio m\\u00f3vil \\u00faltimos 7 d\\u00edas\": \"Promedio m\\u00f3vil \\u00faltimos 7 d\\u00edas\"}, {\"Fecha\": \"2020-03-13\", \"Casos confirmados\": 0, \"Rolling\": 0.0, \"Casos confirmados diarios\": \"Casos confirmados diarios\", \"Promedio m\\u00f3vil \\u00faltimos 7 d\\u00edas\": \"Promedio m\\u00f3vil \\u00faltimos 7 d\\u00edas\"}, {\"Fecha\": \"2020-03-14\", \"Casos confirmados\": 0, \"Rolling\": 0.0, \"Casos confirmados diarios\": \"Casos confirmados diarios\", \"Promedio m\\u00f3vil \\u00faltimos 7 d\\u00edas\": \"Promedio m\\u00f3vil \\u00faltimos 7 d\\u00edas\"}, {\"Fecha\": \"2020-03-15\", \"Casos confirmados\": 0, \"Rolling\": 0.0, \"Casos confirmados diarios\": \"Casos confirmados diarios\", \"Promedio m\\u00f3vil \\u00faltimos 7 d\\u00edas\": \"Promedio m\\u00f3vil \\u00faltimos 7 d\\u00edas\"}, {\"Fecha\": \"2020-03-16\", \"Casos confirmados\": 0, \"Rolling\": 0.0, \"Casos confirmados diarios\": \"Casos confirmados diarios\", \"Promedio m\\u00f3vil \\u00faltimos 7 d\\u00edas\": \"Promedio m\\u00f3vil \\u00faltimos 7 d\\u00edas\"}, {\"Fecha\": \"2020-03-17\", \"Casos confirmados\": 0, \"Rolling\": 0.0, \"Casos confirmados diarios\": \"Casos confirmados diarios\", \"Promedio m\\u00f3vil \\u00faltimos 7 d\\u00edas\": \"Promedio m\\u00f3vil \\u00faltimos 7 d\\u00edas\"}, {\"Fecha\": \"2020-03-18\", \"Casos confirmados\": 0, \"Rolling\": 0.0, \"Casos confirmados diarios\": \"Casos confirmados diarios\", \"Promedio m\\u00f3vil \\u00faltimos 7 d\\u00edas\": \"Promedio m\\u00f3vil \\u00faltimos 7 d\\u00edas\"}, {\"Fecha\": \"2020-03-19\", \"Casos confirmados\": 0, \"Rolling\": 0.0, \"Casos confirmados diarios\": \"Casos confirmados diarios\", \"Promedio m\\u00f3vil \\u00faltimos 7 d\\u00edas\": \"Promedio m\\u00f3vil \\u00faltimos 7 d\\u00edas\"}, {\"Fecha\": \"2020-03-20\", \"Casos confirmados\": 0, \"Rolling\": 0.0, \"Casos confirmados diarios\": \"Casos confirmados diarios\", \"Promedio m\\u00f3vil \\u00faltimos 7 d\\u00edas\": \"Promedio m\\u00f3vil \\u00faltimos 7 d\\u00edas\"}, {\"Fecha\": \"2020-03-21\", \"Casos confirmados\": 0, \"Rolling\": 0.0, \"Casos confirmados diarios\": \"Casos confirmados diarios\", \"Promedio m\\u00f3vil \\u00faltimos 7 d\\u00edas\": \"Promedio m\\u00f3vil \\u00faltimos 7 d\\u00edas\"}, {\"Fecha\": \"2020-03-22\", \"Casos confirmados\": 0, \"Rolling\": 0.0, \"Casos confirmados diarios\": \"Casos confirmados diarios\", \"Promedio m\\u00f3vil \\u00faltimos 7 d\\u00edas\": \"Promedio m\\u00f3vil \\u00faltimos 7 d\\u00edas\"}, {\"Fecha\": \"2020-03-23\", \"Casos confirmados\": 1, \"Rolling\": 0.14285714285714285, \"Casos confirmados diarios\": \"Casos confirmados diarios\", \"Promedio m\\u00f3vil \\u00faltimos 7 d\\u00edas\": \"Promedio m\\u00f3vil \\u00faltimos 7 d\\u00edas\"}, {\"Fecha\": \"2020-03-24\", \"Casos confirmados\": 3, \"Rolling\": 0.5714285714285714, \"Casos confirmados diarios\": \"Casos confirmados diarios\", \"Promedio m\\u00f3vil \\u00faltimos 7 d\\u00edas\": \"Promedio m\\u00f3vil \\u00faltimos 7 d\\u00edas\"}, {\"Fecha\": \"2020-03-25\", \"Casos confirmados\": 0, \"Rolling\": 0.5714285714285714, \"Casos confirmados diarios\": \"Casos confirmados diarios\", \"Promedio m\\u00f3vil \\u00faltimos 7 d\\u00edas\": \"Promedio m\\u00f3vil \\u00faltimos 7 d\\u00edas\"}, {\"Fecha\": \"2020-03-26\", \"Casos confirmados\": 1, \"Rolling\": 0.7142857142857143, \"Casos confirmados diarios\": \"Casos confirmados diarios\", \"Promedio m\\u00f3vil \\u00faltimos 7 d\\u00edas\": \"Promedio m\\u00f3vil \\u00faltimos 7 d\\u00edas\"}, {\"Fecha\": \"2020-03-27\", \"Casos confirmados\": 0, \"Rolling\": 0.7142857142857143, \"Casos confirmados diarios\": \"Casos confirmados diarios\", \"Promedio m\\u00f3vil \\u00faltimos 7 d\\u00edas\": \"Promedio m\\u00f3vil \\u00faltimos 7 d\\u00edas\"}, {\"Fecha\": \"2020-03-28\", \"Casos confirmados\": 0, \"Rolling\": 0.7142857142857143, \"Casos confirmados diarios\": \"Casos confirmados diarios\", \"Promedio m\\u00f3vil \\u00faltimos 7 d\\u00edas\": \"Promedio m\\u00f3vil \\u00faltimos 7 d\\u00edas\"}, {\"Fecha\": \"2020-03-29\", \"Casos confirmados\": 1, \"Rolling\": 0.8571428571428571, \"Casos confirmados diarios\": \"Casos confirmados diarios\", \"Promedio m\\u00f3vil \\u00faltimos 7 d\\u00edas\": \"Promedio m\\u00f3vil \\u00faltimos 7 d\\u00edas\"}, {\"Fecha\": \"2020-03-30\", \"Casos confirmados\": 2, \"Rolling\": 1.0, \"Casos confirmados diarios\": \"Casos confirmados diarios\", \"Promedio m\\u00f3vil \\u00faltimos 7 d\\u00edas\": \"Promedio m\\u00f3vil \\u00faltimos 7 d\\u00edas\"}, {\"Fecha\": \"2020-03-31\", \"Casos confirmados\": 2, \"Rolling\": 0.8571428571428571, \"Casos confirmados diarios\": \"Casos confirmados diarios\", \"Promedio m\\u00f3vil \\u00faltimos 7 d\\u00edas\": \"Promedio m\\u00f3vil \\u00faltimos 7 d\\u00edas\"}, {\"Fecha\": \"2020-04-01\", \"Casos confirmados\": 0, \"Rolling\": 0.8571428571428571, \"Casos confirmados diarios\": \"Casos confirmados diarios\", \"Promedio m\\u00f3vil \\u00faltimos 7 d\\u00edas\": \"Promedio m\\u00f3vil \\u00faltimos 7 d\\u00edas\"}, {\"Fecha\": \"2020-04-02\", \"Casos confirmados\": 2, \"Rolling\": 1.0, \"Casos confirmados diarios\": \"Casos confirmados diarios\", \"Promedio m\\u00f3vil \\u00faltimos 7 d\\u00edas\": \"Promedio m\\u00f3vil \\u00faltimos 7 d\\u00edas\"}, {\"Fecha\": \"2020-04-03\", \"Casos confirmados\": 1, \"Rolling\": 1.1428571428571428, \"Casos confirmados diarios\": \"Casos confirmados diarios\", \"Promedio m\\u00f3vil \\u00faltimos 7 d\\u00edas\": \"Promedio m\\u00f3vil \\u00faltimos 7 d\\u00edas\"}, {\"Fecha\": \"2020-04-04\", \"Casos confirmados\": 4, \"Rolling\": 1.7142857142857142, \"Casos confirmados diarios\": \"Casos confirmados diarios\", \"Promedio m\\u00f3vil \\u00faltimos 7 d\\u00edas\": \"Promedio m\\u00f3vil \\u00faltimos 7 d\\u00edas\"}, {\"Fecha\": \"2020-04-05\", \"Casos confirmados\": 3, \"Rolling\": 2.0, \"Casos confirmados diarios\": \"Casos confirmados diarios\", \"Promedio m\\u00f3vil \\u00faltimos 7 d\\u00edas\": \"Promedio m\\u00f3vil \\u00faltimos 7 d\\u00edas\"}, {\"Fecha\": \"2020-04-06\", \"Casos confirmados\": 1, \"Rolling\": 1.8571428571428572, \"Casos confirmados diarios\": \"Casos confirmados diarios\", \"Promedio m\\u00f3vil \\u00faltimos 7 d\\u00edas\": \"Promedio m\\u00f3vil \\u00faltimos 7 d\\u00edas\"}, {\"Fecha\": \"2020-04-07\", \"Casos confirmados\": 2, \"Rolling\": 1.8571428571428572, \"Casos confirmados diarios\": \"Casos confirmados diarios\", \"Promedio m\\u00f3vil \\u00faltimos 7 d\\u00edas\": \"Promedio m\\u00f3vil \\u00faltimos 7 d\\u00edas\"}, {\"Fecha\": \"2020-04-08\", \"Casos confirmados\": 3, \"Rolling\": 2.2857142857142856, \"Casos confirmados diarios\": \"Casos confirmados diarios\", \"Promedio m\\u00f3vil \\u00faltimos 7 d\\u00edas\": \"Promedio m\\u00f3vil \\u00faltimos 7 d\\u00edas\"}, {\"Fecha\": \"2020-04-09\", \"Casos confirmados\": 3, \"Rolling\": 2.4285714285714284, \"Casos confirmados diarios\": \"Casos confirmados diarios\", \"Promedio m\\u00f3vil \\u00faltimos 7 d\\u00edas\": \"Promedio m\\u00f3vil \\u00faltimos 7 d\\u00edas\"}, {\"Fecha\": \"2020-04-10\", \"Casos confirmados\": 6, \"Rolling\": 3.142857142857143, \"Casos confirmados diarios\": \"Casos confirmados diarios\", \"Promedio m\\u00f3vil \\u00faltimos 7 d\\u00edas\": \"Promedio m\\u00f3vil \\u00faltimos 7 d\\u00edas\"}, {\"Fecha\": \"2020-04-11\", \"Casos confirmados\": 3, \"Rolling\": 3.0, \"Casos confirmados diarios\": \"Casos confirmados diarios\", \"Promedio m\\u00f3vil \\u00faltimos 7 d\\u00edas\": \"Promedio m\\u00f3vil \\u00faltimos 7 d\\u00edas\"}, {\"Fecha\": \"2020-04-12\", \"Casos confirmados\": 8, \"Rolling\": 3.7142857142857144, \"Casos confirmados diarios\": \"Casos confirmados diarios\", \"Promedio m\\u00f3vil \\u00faltimos 7 d\\u00edas\": \"Promedio m\\u00f3vil \\u00faltimos 7 d\\u00edas\"}, {\"Fecha\": \"2020-04-13\", \"Casos confirmados\": 6, \"Rolling\": 4.428571428571429, \"Casos confirmados diarios\": \"Casos confirmados diarios\", \"Promedio m\\u00f3vil \\u00faltimos 7 d\\u00edas\": \"Promedio m\\u00f3vil \\u00faltimos 7 d\\u00edas\"}, {\"Fecha\": \"2020-04-14\", \"Casos confirmados\": 10, \"Rolling\": 5.571428571428571, \"Casos confirmados diarios\": \"Casos confirmados diarios\", \"Promedio m\\u00f3vil \\u00faltimos 7 d\\u00edas\": \"Promedio m\\u00f3vil \\u00faltimos 7 d\\u00edas\"}, {\"Fecha\": \"2020-04-15\", \"Casos confirmados\": 0, \"Rolling\": 5.142857142857143, \"Casos confirmados diarios\": \"Casos confirmados diarios\", \"Promedio m\\u00f3vil \\u00faltimos 7 d\\u00edas\": \"Promedio m\\u00f3vil \\u00faltimos 7 d\\u00edas\"}, {\"Fecha\": \"2020-04-16\", \"Casos confirmados\": 4, \"Rolling\": 5.285714285714286, \"Casos confirmados diarios\": \"Casos confirmados diarios\", \"Promedio m\\u00f3vil \\u00faltimos 7 d\\u00edas\": \"Promedio m\\u00f3vil \\u00faltimos 7 d\\u00edas\"}, {\"Fecha\": \"2020-04-17\", \"Casos confirmados\": 7, \"Rolling\": 5.428571428571429, \"Casos confirmados diarios\": \"Casos confirmados diarios\", \"Promedio m\\u00f3vil \\u00faltimos 7 d\\u00edas\": \"Promedio m\\u00f3vil \\u00faltimos 7 d\\u00edas\"}, {\"Fecha\": \"2020-04-18\", \"Casos confirmados\": 8, \"Rolling\": 6.142857142857143, \"Casos confirmados diarios\": \"Casos confirmados diarios\", \"Promedio m\\u00f3vil \\u00faltimos 7 d\\u00edas\": \"Promedio m\\u00f3vil \\u00faltimos 7 d\\u00edas\"}, {\"Fecha\": \"2020-04-19\", \"Casos confirmados\": 9, \"Rolling\": 6.285714285714286, \"Casos confirmados diarios\": \"Casos confirmados diarios\", \"Promedio m\\u00f3vil \\u00faltimos 7 d\\u00edas\": \"Promedio m\\u00f3vil \\u00faltimos 7 d\\u00edas\"}, {\"Fecha\": \"2020-04-20\", \"Casos confirmados\": 3, \"Rolling\": 5.857142857142857, \"Casos confirmados diarios\": \"Casos confirmados diarios\", \"Promedio m\\u00f3vil \\u00faltimos 7 d\\u00edas\": \"Promedio m\\u00f3vil \\u00faltimos 7 d\\u00edas\"}, {\"Fecha\": \"2020-04-21\", \"Casos confirmados\": 11, \"Rolling\": 6.0, \"Casos confirmados diarios\": \"Casos confirmados diarios\", \"Promedio m\\u00f3vil \\u00faltimos 7 d\\u00edas\": \"Promedio m\\u00f3vil \\u00faltimos 7 d\\u00edas\"}, {\"Fecha\": \"2020-04-22\", \"Casos confirmados\": 10, \"Rolling\": 7.428571428571429, \"Casos confirmados diarios\": \"Casos confirmados diarios\", \"Promedio m\\u00f3vil \\u00faltimos 7 d\\u00edas\": \"Promedio m\\u00f3vil \\u00faltimos 7 d\\u00edas\"}, {\"Fecha\": \"2020-04-23\", \"Casos confirmados\": 14, \"Rolling\": 8.857142857142858, \"Casos confirmados diarios\": \"Casos confirmados diarios\", \"Promedio m\\u00f3vil \\u00faltimos 7 d\\u00edas\": \"Promedio m\\u00f3vil \\u00faltimos 7 d\\u00edas\"}, {\"Fecha\": \"2020-04-24\", \"Casos confirmados\": 6, \"Rolling\": 8.714285714285714, \"Casos confirmados diarios\": \"Casos confirmados diarios\", \"Promedio m\\u00f3vil \\u00faltimos 7 d\\u00edas\": \"Promedio m\\u00f3vil \\u00faltimos 7 d\\u00edas\"}, {\"Fecha\": \"2020-04-25\", \"Casos confirmados\": 9, \"Rolling\": 8.857142857142858, \"Casos confirmados diarios\": \"Casos confirmados diarios\", \"Promedio m\\u00f3vil \\u00faltimos 7 d\\u00edas\": \"Promedio m\\u00f3vil \\u00faltimos 7 d\\u00edas\"}, {\"Fecha\": \"2020-04-26\", \"Casos confirmados\": 13, \"Rolling\": 9.428571428571429, \"Casos confirmados diarios\": \"Casos confirmados diarios\", \"Promedio m\\u00f3vil \\u00faltimos 7 d\\u00edas\": \"Promedio m\\u00f3vil \\u00faltimos 7 d\\u00edas\"}]}}, {\"mode\": \"vega-lite\"});\n",
       "</script>"
      ],
      "text/plain": [
       "alt.LayerChart(...)"
      ]
     },
     "execution_count": 11,
     "metadata": {},
     "output_type": "execute_result"
    }
   ],
   "source": [
    "#hide_input\n",
    "bars, line = my_cases_plot(region)\n",
    "(bars + line).properties(\n",
    "    title=f'Covid-19 en Chile: Casos confirmados diarios en {region}',\n",
    "    width=600\n",
    ")"
   ]
  },
  {
   "cell_type": "markdown",
   "metadata": {},
   "source": [
    "## Antofagasta"
   ]
  },
  {
   "cell_type": "code",
   "execution_count": 12,
   "metadata": {},
   "outputs": [],
   "source": [
    "#hide\n",
    "region = \"Antofagasta\""
   ]
  },
  {
   "cell_type": "code",
   "execution_count": 13,
   "metadata": {},
   "outputs": [
    {
     "data": {
      "text/html": [
       "\n",
       "<div id=\"altair-viz-9820a56af21940218f30c349dccd9fba\"></div>\n",
       "<script type=\"text/javascript\">\n",
       "  (function(spec, embedOpt){\n",
       "    let outputDiv = document.currentScript.previousElementSibling;\n",
       "    if (outputDiv.id !== \"altair-viz-9820a56af21940218f30c349dccd9fba\") {\n",
       "      outputDiv = document.getElementById(\"altair-viz-9820a56af21940218f30c349dccd9fba\");\n",
       "    }\n",
       "    const paths = {\n",
       "      \"vega\": \"https://cdn.jsdelivr.net/npm//vega@5?noext\",\n",
       "      \"vega-lib\": \"https://cdn.jsdelivr.net/npm//vega-lib?noext\",\n",
       "      \"vega-lite\": \"https://cdn.jsdelivr.net/npm//vega-lite@4.8.1?noext\",\n",
       "      \"vega-embed\": \"https://cdn.jsdelivr.net/npm//vega-embed@6?noext\",\n",
       "    };\n",
       "\n",
       "    function loadScript(lib) {\n",
       "      return new Promise(function(resolve, reject) {\n",
       "        var s = document.createElement('script');\n",
       "        s.src = paths[lib];\n",
       "        s.async = true;\n",
       "        s.onload = () => resolve(paths[lib]);\n",
       "        s.onerror = () => reject(`Error loading script: ${paths[lib]}`);\n",
       "        document.getElementsByTagName(\"head\")[0].appendChild(s);\n",
       "      });\n",
       "    }\n",
       "\n",
       "    function showError(err) {\n",
       "      outputDiv.innerHTML = `<div class=\"error\" style=\"color:red;\">${err}</div>`;\n",
       "      throw err;\n",
       "    }\n",
       "\n",
       "    function displayChart(vegaEmbed) {\n",
       "      vegaEmbed(outputDiv, spec, embedOpt)\n",
       "        .catch(err => showError(`Javascript Error: ${err.message}<br>This usually means there's a typo in your chart specification. See the javascript console for the full traceback.`));\n",
       "    }\n",
       "\n",
       "    if(typeof define === \"function\" && define.amd) {\n",
       "      requirejs.config({paths});\n",
       "      require([\"vega-embed\"], displayChart, err => showError(`Error loading script: ${err.message}`));\n",
       "    } else if (typeof vegaEmbed === \"function\") {\n",
       "      displayChart(vegaEmbed);\n",
       "    } else {\n",
       "      loadScript(\"vega\")\n",
       "        .then(() => loadScript(\"vega-lite\"))\n",
       "        .then(() => loadScript(\"vega-embed\"))\n",
       "        .catch(showError)\n",
       "        .then(() => displayChart(vegaEmbed));\n",
       "    }\n",
       "  })({\"config\": {\"view\": {\"continuousWidth\": 400, \"continuousHeight\": 300}}, \"layer\": [{\"mark\": {\"type\": \"bar\", \"opacity\": 0.7}, \"encoding\": {\"opacity\": {\"type\": \"nominal\", \"field\": \"Casos confirmados diarios\", \"legend\": {\"title\": \"\"}}, \"tooltip\": [{\"type\": \"nominal\", \"field\": \"Fecha\"}, {\"type\": \"quantitative\", \"field\": \"Casos confirmados\"}], \"x\": {\"type\": \"nominal\", \"axis\": {\"title\": \"Fecha (a\\u00f1o-mes-d\\u00eda)\"}, \"field\": \"Fecha\"}, \"y\": {\"type\": \"quantitative\", \"axis\": {\"title\": \"Casos confirmados diarios\"}, \"field\": \"Casos confirmados\"}}}, {\"mark\": {\"type\": \"line\", \"color\": \"#1f77b4\", \"point\": {\"filled\": true, \"fill\": \"#1f77b4\"}}, \"encoding\": {\"shape\": {\"type\": \"nominal\", \"field\": \"Promedio m\\u00f3vil \\u00faltimos 7 d\\u00edas\", \"legend\": {\"title\": \"\"}}, \"x\": {\"type\": \"nominal\", \"axis\": {\"title\": \"Fecha (a\\u00f1o-mes-d\\u00eda)\"}, \"field\": \"Fecha\"}, \"y\": {\"type\": \"quantitative\", \"field\": \"Rolling\"}}}], \"data\": {\"name\": \"data-31694e823b10869e682f23ec57e908bc\"}, \"title\": \"Covid-19 en Chile: Casos confirmados diarios en Antofagasta\", \"width\": 600, \"$schema\": \"https://vega.github.io/schema/vega-lite/v4.8.1.json\", \"datasets\": {\"data-31694e823b10869e682f23ec57e908bc\": [{\"Fecha\": \"2020-03-04\", \"Casos confirmados\": 0, \"Rolling\": null, \"Casos confirmados diarios\": \"Casos confirmados diarios\", \"Promedio m\\u00f3vil \\u00faltimos 7 d\\u00edas\": \"Promedio m\\u00f3vil \\u00faltimos 7 d\\u00edas\"}, {\"Fecha\": \"2020-03-05\", \"Casos confirmados\": 0, \"Rolling\": null, \"Casos confirmados diarios\": \"Casos confirmados diarios\", \"Promedio m\\u00f3vil \\u00faltimos 7 d\\u00edas\": \"Promedio m\\u00f3vil \\u00faltimos 7 d\\u00edas\"}, {\"Fecha\": \"2020-03-06\", \"Casos confirmados\": 0, \"Rolling\": null, \"Casos confirmados diarios\": \"Casos confirmados diarios\", \"Promedio m\\u00f3vil \\u00faltimos 7 d\\u00edas\": \"Promedio m\\u00f3vil \\u00faltimos 7 d\\u00edas\"}, {\"Fecha\": \"2020-03-07\", \"Casos confirmados\": 0, \"Rolling\": null, \"Casos confirmados diarios\": \"Casos confirmados diarios\", \"Promedio m\\u00f3vil \\u00faltimos 7 d\\u00edas\": \"Promedio m\\u00f3vil \\u00faltimos 7 d\\u00edas\"}, {\"Fecha\": \"2020-03-08\", \"Casos confirmados\": 0, \"Rolling\": null, \"Casos confirmados diarios\": \"Casos confirmados diarios\", \"Promedio m\\u00f3vil \\u00faltimos 7 d\\u00edas\": \"Promedio m\\u00f3vil \\u00faltimos 7 d\\u00edas\"}, {\"Fecha\": \"2020-03-09\", \"Casos confirmados\": 0, \"Rolling\": null, \"Casos confirmados diarios\": \"Casos confirmados diarios\", \"Promedio m\\u00f3vil \\u00faltimos 7 d\\u00edas\": \"Promedio m\\u00f3vil \\u00faltimos 7 d\\u00edas\"}, {\"Fecha\": \"2020-03-10\", \"Casos confirmados\": 0, \"Rolling\": 0.0, \"Casos confirmados diarios\": \"Casos confirmados diarios\", \"Promedio m\\u00f3vil \\u00faltimos 7 d\\u00edas\": \"Promedio m\\u00f3vil \\u00faltimos 7 d\\u00edas\"}, {\"Fecha\": \"2020-03-11\", \"Casos confirmados\": 0, \"Rolling\": 0.0, \"Casos confirmados diarios\": \"Casos confirmados diarios\", \"Promedio m\\u00f3vil \\u00faltimos 7 d\\u00edas\": \"Promedio m\\u00f3vil \\u00faltimos 7 d\\u00edas\"}, {\"Fecha\": \"2020-03-12\", \"Casos confirmados\": 0, \"Rolling\": 0.0, \"Casos confirmados diarios\": \"Casos confirmados diarios\", \"Promedio m\\u00f3vil \\u00faltimos 7 d\\u00edas\": \"Promedio m\\u00f3vil \\u00faltimos 7 d\\u00edas\"}, {\"Fecha\": \"2020-03-13\", \"Casos confirmados\": 0, \"Rolling\": 0.0, \"Casos confirmados diarios\": \"Casos confirmados diarios\", \"Promedio m\\u00f3vil \\u00faltimos 7 d\\u00edas\": \"Promedio m\\u00f3vil \\u00faltimos 7 d\\u00edas\"}, {\"Fecha\": \"2020-03-14\", \"Casos confirmados\": 2, \"Rolling\": 0.2857142857142857, \"Casos confirmados diarios\": \"Casos confirmados diarios\", \"Promedio m\\u00f3vil \\u00faltimos 7 d\\u00edas\": \"Promedio m\\u00f3vil \\u00faltimos 7 d\\u00edas\"}, {\"Fecha\": \"2020-03-15\", \"Casos confirmados\": 0, \"Rolling\": 0.2857142857142857, \"Casos confirmados diarios\": \"Casos confirmados diarios\", \"Promedio m\\u00f3vil \\u00faltimos 7 d\\u00edas\": \"Promedio m\\u00f3vil \\u00faltimos 7 d\\u00edas\"}, {\"Fecha\": \"2020-03-16\", \"Casos confirmados\": 0, \"Rolling\": 0.2857142857142857, \"Casos confirmados diarios\": \"Casos confirmados diarios\", \"Promedio m\\u00f3vil \\u00faltimos 7 d\\u00edas\": \"Promedio m\\u00f3vil \\u00faltimos 7 d\\u00edas\"}, {\"Fecha\": \"2020-03-17\", \"Casos confirmados\": 0, \"Rolling\": 0.2857142857142857, \"Casos confirmados diarios\": \"Casos confirmados diarios\", \"Promedio m\\u00f3vil \\u00faltimos 7 d\\u00edas\": \"Promedio m\\u00f3vil \\u00faltimos 7 d\\u00edas\"}, {\"Fecha\": \"2020-03-18\", \"Casos confirmados\": 0, \"Rolling\": 0.2857142857142857, \"Casos confirmados diarios\": \"Casos confirmados diarios\", \"Promedio m\\u00f3vil \\u00faltimos 7 d\\u00edas\": \"Promedio m\\u00f3vil \\u00faltimos 7 d\\u00edas\"}, {\"Fecha\": \"2020-03-19\", \"Casos confirmados\": 0, \"Rolling\": 0.2857142857142857, \"Casos confirmados diarios\": \"Casos confirmados diarios\", \"Promedio m\\u00f3vil \\u00faltimos 7 d\\u00edas\": \"Promedio m\\u00f3vil \\u00faltimos 7 d\\u00edas\"}, {\"Fecha\": \"2020-03-20\", \"Casos confirmados\": 4, \"Rolling\": 0.8571428571428571, \"Casos confirmados diarios\": \"Casos confirmados diarios\", \"Promedio m\\u00f3vil \\u00faltimos 7 d\\u00edas\": \"Promedio m\\u00f3vil \\u00faltimos 7 d\\u00edas\"}, {\"Fecha\": \"2020-03-21\", \"Casos confirmados\": 4, \"Rolling\": 1.1428571428571428, \"Casos confirmados diarios\": \"Casos confirmados diarios\", \"Promedio m\\u00f3vil \\u00faltimos 7 d\\u00edas\": \"Promedio m\\u00f3vil \\u00faltimos 7 d\\u00edas\"}, {\"Fecha\": \"2020-03-22\", \"Casos confirmados\": 1, \"Rolling\": 1.2857142857142858, \"Casos confirmados diarios\": \"Casos confirmados diarios\", \"Promedio m\\u00f3vil \\u00faltimos 7 d\\u00edas\": \"Promedio m\\u00f3vil \\u00faltimos 7 d\\u00edas\"}, {\"Fecha\": \"2020-03-23\", \"Casos confirmados\": 0, \"Rolling\": 1.2857142857142858, \"Casos confirmados diarios\": \"Casos confirmados diarios\", \"Promedio m\\u00f3vil \\u00faltimos 7 d\\u00edas\": \"Promedio m\\u00f3vil \\u00faltimos 7 d\\u00edas\"}, {\"Fecha\": \"2020-03-24\", \"Casos confirmados\": 2, \"Rolling\": 1.5714285714285714, \"Casos confirmados diarios\": \"Casos confirmados diarios\", \"Promedio m\\u00f3vil \\u00faltimos 7 d\\u00edas\": \"Promedio m\\u00f3vil \\u00faltimos 7 d\\u00edas\"}, {\"Fecha\": \"2020-03-25\", \"Casos confirmados\": 6, \"Rolling\": 2.4285714285714284, \"Casos confirmados diarios\": \"Casos confirmados diarios\", \"Promedio m\\u00f3vil \\u00faltimos 7 d\\u00edas\": \"Promedio m\\u00f3vil \\u00faltimos 7 d\\u00edas\"}, {\"Fecha\": \"2020-03-26\", \"Casos confirmados\": 1, \"Rolling\": 2.5714285714285716, \"Casos confirmados diarios\": \"Casos confirmados diarios\", \"Promedio m\\u00f3vil \\u00faltimos 7 d\\u00edas\": \"Promedio m\\u00f3vil \\u00faltimos 7 d\\u00edas\"}, {\"Fecha\": \"2020-03-27\", \"Casos confirmados\": 1, \"Rolling\": 2.142857142857143, \"Casos confirmados diarios\": \"Casos confirmados diarios\", \"Promedio m\\u00f3vil \\u00faltimos 7 d\\u00edas\": \"Promedio m\\u00f3vil \\u00faltimos 7 d\\u00edas\"}, {\"Fecha\": \"2020-03-28\", \"Casos confirmados\": 4, \"Rolling\": 2.142857142857143, \"Casos confirmados diarios\": \"Casos confirmados diarios\", \"Promedio m\\u00f3vil \\u00faltimos 7 d\\u00edas\": \"Promedio m\\u00f3vil \\u00faltimos 7 d\\u00edas\"}, {\"Fecha\": \"2020-03-29\", \"Casos confirmados\": 2, \"Rolling\": 2.2857142857142856, \"Casos confirmados diarios\": \"Casos confirmados diarios\", \"Promedio m\\u00f3vil \\u00faltimos 7 d\\u00edas\": \"Promedio m\\u00f3vil \\u00faltimos 7 d\\u00edas\"}, {\"Fecha\": \"2020-03-30\", \"Casos confirmados\": 8, \"Rolling\": 3.4285714285714284, \"Casos confirmados diarios\": \"Casos confirmados diarios\", \"Promedio m\\u00f3vil \\u00faltimos 7 d\\u00edas\": \"Promedio m\\u00f3vil \\u00faltimos 7 d\\u00edas\"}, {\"Fecha\": \"2020-03-31\", \"Casos confirmados\": 0, \"Rolling\": 3.142857142857143, \"Casos confirmados diarios\": \"Casos confirmados diarios\", \"Promedio m\\u00f3vil \\u00faltimos 7 d\\u00edas\": \"Promedio m\\u00f3vil \\u00faltimos 7 d\\u00edas\"}, {\"Fecha\": \"2020-04-01\", \"Casos confirmados\": 4, \"Rolling\": 2.857142857142857, \"Casos confirmados diarios\": \"Casos confirmados diarios\", \"Promedio m\\u00f3vil \\u00faltimos 7 d\\u00edas\": \"Promedio m\\u00f3vil \\u00faltimos 7 d\\u00edas\"}, {\"Fecha\": \"2020-04-02\", \"Casos confirmados\": 8, \"Rolling\": 3.857142857142857, \"Casos confirmados diarios\": \"Casos confirmados diarios\", \"Promedio m\\u00f3vil \\u00faltimos 7 d\\u00edas\": \"Promedio m\\u00f3vil \\u00faltimos 7 d\\u00edas\"}, {\"Fecha\": \"2020-04-03\", \"Casos confirmados\": 7, \"Rolling\": 4.714285714285714, \"Casos confirmados diarios\": \"Casos confirmados diarios\", \"Promedio m\\u00f3vil \\u00faltimos 7 d\\u00edas\": \"Promedio m\\u00f3vil \\u00faltimos 7 d\\u00edas\"}, {\"Fecha\": \"2020-04-04\", \"Casos confirmados\": 1, \"Rolling\": 4.285714285714286, \"Casos confirmados diarios\": \"Casos confirmados diarios\", \"Promedio m\\u00f3vil \\u00faltimos 7 d\\u00edas\": \"Promedio m\\u00f3vil \\u00faltimos 7 d\\u00edas\"}, {\"Fecha\": \"2020-04-05\", \"Casos confirmados\": 5, \"Rolling\": 4.714285714285714, \"Casos confirmados diarios\": \"Casos confirmados diarios\", \"Promedio m\\u00f3vil \\u00faltimos 7 d\\u00edas\": \"Promedio m\\u00f3vil \\u00faltimos 7 d\\u00edas\"}, {\"Fecha\": \"2020-04-06\", \"Casos confirmados\": 8, \"Rolling\": 4.714285714285714, \"Casos confirmados diarios\": \"Casos confirmados diarios\", \"Promedio m\\u00f3vil \\u00faltimos 7 d\\u00edas\": \"Promedio m\\u00f3vil \\u00faltimos 7 d\\u00edas\"}, {\"Fecha\": \"2020-04-07\", \"Casos confirmados\": 1, \"Rolling\": 4.857142857142857, \"Casos confirmados diarios\": \"Casos confirmados diarios\", \"Promedio m\\u00f3vil \\u00faltimos 7 d\\u00edas\": \"Promedio m\\u00f3vil \\u00faltimos 7 d\\u00edas\"}, {\"Fecha\": \"2020-04-08\", \"Casos confirmados\": 8, \"Rolling\": 5.428571428571429, \"Casos confirmados diarios\": \"Casos confirmados diarios\", \"Promedio m\\u00f3vil \\u00faltimos 7 d\\u00edas\": \"Promedio m\\u00f3vil \\u00faltimos 7 d\\u00edas\"}, {\"Fecha\": \"2020-04-09\", \"Casos confirmados\": 15, \"Rolling\": 6.428571428571429, \"Casos confirmados diarios\": \"Casos confirmados diarios\", \"Promedio m\\u00f3vil \\u00faltimos 7 d\\u00edas\": \"Promedio m\\u00f3vil \\u00faltimos 7 d\\u00edas\"}, {\"Fecha\": \"2020-04-10\", \"Casos confirmados\": 18, \"Rolling\": 8.0, \"Casos confirmados diarios\": \"Casos confirmados diarios\", \"Promedio m\\u00f3vil \\u00faltimos 7 d\\u00edas\": \"Promedio m\\u00f3vil \\u00faltimos 7 d\\u00edas\"}, {\"Fecha\": \"2020-04-11\", \"Casos confirmados\": 7, \"Rolling\": 8.857142857142858, \"Casos confirmados diarios\": \"Casos confirmados diarios\", \"Promedio m\\u00f3vil \\u00faltimos 7 d\\u00edas\": \"Promedio m\\u00f3vil \\u00faltimos 7 d\\u00edas\"}, {\"Fecha\": \"2020-04-12\", \"Casos confirmados\": 21, \"Rolling\": 11.142857142857142, \"Casos confirmados diarios\": \"Casos confirmados diarios\", \"Promedio m\\u00f3vil \\u00faltimos 7 d\\u00edas\": \"Promedio m\\u00f3vil \\u00faltimos 7 d\\u00edas\"}, {\"Fecha\": \"2020-04-13\", \"Casos confirmados\": 11, \"Rolling\": 11.571428571428571, \"Casos confirmados diarios\": \"Casos confirmados diarios\", \"Promedio m\\u00f3vil \\u00faltimos 7 d\\u00edas\": \"Promedio m\\u00f3vil \\u00faltimos 7 d\\u00edas\"}, {\"Fecha\": \"2020-04-14\", \"Casos confirmados\": 6, \"Rolling\": 12.285714285714286, \"Casos confirmados diarios\": \"Casos confirmados diarios\", \"Promedio m\\u00f3vil \\u00faltimos 7 d\\u00edas\": \"Promedio m\\u00f3vil \\u00faltimos 7 d\\u00edas\"}, {\"Fecha\": \"2020-04-15\", \"Casos confirmados\": 21, \"Rolling\": 14.142857142857142, \"Casos confirmados diarios\": \"Casos confirmados diarios\", \"Promedio m\\u00f3vil \\u00faltimos 7 d\\u00edas\": \"Promedio m\\u00f3vil \\u00faltimos 7 d\\u00edas\"}, {\"Fecha\": \"2020-04-16\", \"Casos confirmados\": 16, \"Rolling\": 14.285714285714286, \"Casos confirmados diarios\": \"Casos confirmados diarios\", \"Promedio m\\u00f3vil \\u00faltimos 7 d\\u00edas\": \"Promedio m\\u00f3vil \\u00faltimos 7 d\\u00edas\"}, {\"Fecha\": \"2020-04-17\", \"Casos confirmados\": 19, \"Rolling\": 14.428571428571429, \"Casos confirmados diarios\": \"Casos confirmados diarios\", \"Promedio m\\u00f3vil \\u00faltimos 7 d\\u00edas\": \"Promedio m\\u00f3vil \\u00faltimos 7 d\\u00edas\"}, {\"Fecha\": \"2020-04-18\", \"Casos confirmados\": 15, \"Rolling\": 15.571428571428571, \"Casos confirmados diarios\": \"Casos confirmados diarios\", \"Promedio m\\u00f3vil \\u00faltimos 7 d\\u00edas\": \"Promedio m\\u00f3vil \\u00faltimos 7 d\\u00edas\"}, {\"Fecha\": \"2020-04-19\", \"Casos confirmados\": 23, \"Rolling\": 15.857142857142858, \"Casos confirmados diarios\": \"Casos confirmados diarios\", \"Promedio m\\u00f3vil \\u00faltimos 7 d\\u00edas\": \"Promedio m\\u00f3vil \\u00faltimos 7 d\\u00edas\"}, {\"Fecha\": \"2020-04-20\", \"Casos confirmados\": 14, \"Rolling\": 16.285714285714285, \"Casos confirmados diarios\": \"Casos confirmados diarios\", \"Promedio m\\u00f3vil \\u00faltimos 7 d\\u00edas\": \"Promedio m\\u00f3vil \\u00faltimos 7 d\\u00edas\"}, {\"Fecha\": \"2020-04-21\", \"Casos confirmados\": 28, \"Rolling\": 19.428571428571427, \"Casos confirmados diarios\": \"Casos confirmados diarios\", \"Promedio m\\u00f3vil \\u00faltimos 7 d\\u00edas\": \"Promedio m\\u00f3vil \\u00faltimos 7 d\\u00edas\"}, {\"Fecha\": \"2020-04-22\", \"Casos confirmados\": 35, \"Rolling\": 21.428571428571427, \"Casos confirmados diarios\": \"Casos confirmados diarios\", \"Promedio m\\u00f3vil \\u00faltimos 7 d\\u00edas\": \"Promedio m\\u00f3vil \\u00faltimos 7 d\\u00edas\"}, {\"Fecha\": \"2020-04-23\", \"Casos confirmados\": 14, \"Rolling\": 21.142857142857142, \"Casos confirmados diarios\": \"Casos confirmados diarios\", \"Promedio m\\u00f3vil \\u00faltimos 7 d\\u00edas\": \"Promedio m\\u00f3vil \\u00faltimos 7 d\\u00edas\"}, {\"Fecha\": \"2020-04-24\", \"Casos confirmados\": 26, \"Rolling\": 22.142857142857142, \"Casos confirmados diarios\": \"Casos confirmados diarios\", \"Promedio m\\u00f3vil \\u00faltimos 7 d\\u00edas\": \"Promedio m\\u00f3vil \\u00faltimos 7 d\\u00edas\"}, {\"Fecha\": \"2020-04-25\", \"Casos confirmados\": 25, \"Rolling\": 23.571428571428573, \"Casos confirmados diarios\": \"Casos confirmados diarios\", \"Promedio m\\u00f3vil \\u00faltimos 7 d\\u00edas\": \"Promedio m\\u00f3vil \\u00faltimos 7 d\\u00edas\"}, {\"Fecha\": \"2020-04-26\", \"Casos confirmados\": 52, \"Rolling\": 27.714285714285715, \"Casos confirmados diarios\": \"Casos confirmados diarios\", \"Promedio m\\u00f3vil \\u00faltimos 7 d\\u00edas\": \"Promedio m\\u00f3vil \\u00faltimos 7 d\\u00edas\"}]}}, {\"mode\": \"vega-lite\"});\n",
       "</script>"
      ],
      "text/plain": [
       "alt.LayerChart(...)"
      ]
     },
     "execution_count": 13,
     "metadata": {},
     "output_type": "execute_result"
    }
   ],
   "source": [
    "#hide_input\n",
    "bars, line = my_cases_plot(region)\n",
    "(bars + line).properties(\n",
    "    title=f'Covid-19 en Chile: Casos confirmados diarios en {region}',\n",
    "    width=600\n",
    ")"
   ]
  },
  {
   "cell_type": "markdown",
   "metadata": {},
   "source": [
    "## Atacama"
   ]
  },
  {
   "cell_type": "code",
   "execution_count": 14,
   "metadata": {},
   "outputs": [],
   "source": [
    "#hide\n",
    "region = \"Atacama\""
   ]
  },
  {
   "cell_type": "code",
   "execution_count": 15,
   "metadata": {},
   "outputs": [
    {
     "data": {
      "text/html": [
       "\n",
       "<div id=\"altair-viz-3530a9fce4234dbfbfa4948be42add8f\"></div>\n",
       "<script type=\"text/javascript\">\n",
       "  (function(spec, embedOpt){\n",
       "    let outputDiv = document.currentScript.previousElementSibling;\n",
       "    if (outputDiv.id !== \"altair-viz-3530a9fce4234dbfbfa4948be42add8f\") {\n",
       "      outputDiv = document.getElementById(\"altair-viz-3530a9fce4234dbfbfa4948be42add8f\");\n",
       "    }\n",
       "    const paths = {\n",
       "      \"vega\": \"https://cdn.jsdelivr.net/npm//vega@5?noext\",\n",
       "      \"vega-lib\": \"https://cdn.jsdelivr.net/npm//vega-lib?noext\",\n",
       "      \"vega-lite\": \"https://cdn.jsdelivr.net/npm//vega-lite@4.8.1?noext\",\n",
       "      \"vega-embed\": \"https://cdn.jsdelivr.net/npm//vega-embed@6?noext\",\n",
       "    };\n",
       "\n",
       "    function loadScript(lib) {\n",
       "      return new Promise(function(resolve, reject) {\n",
       "        var s = document.createElement('script');\n",
       "        s.src = paths[lib];\n",
       "        s.async = true;\n",
       "        s.onload = () => resolve(paths[lib]);\n",
       "        s.onerror = () => reject(`Error loading script: ${paths[lib]}`);\n",
       "        document.getElementsByTagName(\"head\")[0].appendChild(s);\n",
       "      });\n",
       "    }\n",
       "\n",
       "    function showError(err) {\n",
       "      outputDiv.innerHTML = `<div class=\"error\" style=\"color:red;\">${err}</div>`;\n",
       "      throw err;\n",
       "    }\n",
       "\n",
       "    function displayChart(vegaEmbed) {\n",
       "      vegaEmbed(outputDiv, spec, embedOpt)\n",
       "        .catch(err => showError(`Javascript Error: ${err.message}<br>This usually means there's a typo in your chart specification. See the javascript console for the full traceback.`));\n",
       "    }\n",
       "\n",
       "    if(typeof define === \"function\" && define.amd) {\n",
       "      requirejs.config({paths});\n",
       "      require([\"vega-embed\"], displayChart, err => showError(`Error loading script: ${err.message}`));\n",
       "    } else if (typeof vegaEmbed === \"function\") {\n",
       "      displayChart(vegaEmbed);\n",
       "    } else {\n",
       "      loadScript(\"vega\")\n",
       "        .then(() => loadScript(\"vega-lite\"))\n",
       "        .then(() => loadScript(\"vega-embed\"))\n",
       "        .catch(showError)\n",
       "        .then(() => displayChart(vegaEmbed));\n",
       "    }\n",
       "  })({\"config\": {\"view\": {\"continuousWidth\": 400, \"continuousHeight\": 300}}, \"layer\": [{\"mark\": {\"type\": \"bar\", \"opacity\": 0.7}, \"encoding\": {\"opacity\": {\"type\": \"nominal\", \"field\": \"Casos confirmados diarios\", \"legend\": {\"title\": \"\"}}, \"tooltip\": [{\"type\": \"nominal\", \"field\": \"Fecha\"}, {\"type\": \"quantitative\", \"field\": \"Casos confirmados\"}], \"x\": {\"type\": \"nominal\", \"axis\": {\"title\": \"Fecha (a\\u00f1o-mes-d\\u00eda)\"}, \"field\": \"Fecha\"}, \"y\": {\"type\": \"quantitative\", \"axis\": {\"title\": \"Casos confirmados diarios\"}, \"field\": \"Casos confirmados\"}}}, {\"mark\": {\"type\": \"line\", \"color\": \"#1f77b4\", \"point\": {\"filled\": true, \"fill\": \"#1f77b4\"}}, \"encoding\": {\"shape\": {\"type\": \"nominal\", \"field\": \"Promedio m\\u00f3vil \\u00faltimos 7 d\\u00edas\", \"legend\": {\"title\": \"\"}}, \"x\": {\"type\": \"nominal\", \"axis\": {\"title\": \"Fecha (a\\u00f1o-mes-d\\u00eda)\"}, \"field\": \"Fecha\"}, \"y\": {\"type\": \"quantitative\", \"field\": \"Rolling\"}}}], \"data\": {\"name\": \"data-9493117464b9497548857b810ba8e9d3\"}, \"title\": \"Covid-19 en Chile: Casos confirmados diarios en Atacama\", \"width\": 600, \"$schema\": \"https://vega.github.io/schema/vega-lite/v4.8.1.json\", \"datasets\": {\"data-9493117464b9497548857b810ba8e9d3\": [{\"Fecha\": \"2020-03-04\", \"Casos confirmados\": 0, \"Rolling\": null, \"Casos confirmados diarios\": \"Casos confirmados diarios\", \"Promedio m\\u00f3vil \\u00faltimos 7 d\\u00edas\": \"Promedio m\\u00f3vil \\u00faltimos 7 d\\u00edas\"}, {\"Fecha\": \"2020-03-05\", \"Casos confirmados\": 0, \"Rolling\": null, \"Casos confirmados diarios\": \"Casos confirmados diarios\", \"Promedio m\\u00f3vil \\u00faltimos 7 d\\u00edas\": \"Promedio m\\u00f3vil \\u00faltimos 7 d\\u00edas\"}, {\"Fecha\": \"2020-03-06\", \"Casos confirmados\": 0, \"Rolling\": null, \"Casos confirmados diarios\": \"Casos confirmados diarios\", \"Promedio m\\u00f3vil \\u00faltimos 7 d\\u00edas\": \"Promedio m\\u00f3vil \\u00faltimos 7 d\\u00edas\"}, {\"Fecha\": \"2020-03-07\", \"Casos confirmados\": 0, \"Rolling\": null, \"Casos confirmados diarios\": \"Casos confirmados diarios\", \"Promedio m\\u00f3vil \\u00faltimos 7 d\\u00edas\": \"Promedio m\\u00f3vil \\u00faltimos 7 d\\u00edas\"}, {\"Fecha\": \"2020-03-08\", \"Casos confirmados\": 0, \"Rolling\": null, \"Casos confirmados diarios\": \"Casos confirmados diarios\", \"Promedio m\\u00f3vil \\u00faltimos 7 d\\u00edas\": \"Promedio m\\u00f3vil \\u00faltimos 7 d\\u00edas\"}, {\"Fecha\": \"2020-03-09\", \"Casos confirmados\": 0, \"Rolling\": null, \"Casos confirmados diarios\": \"Casos confirmados diarios\", \"Promedio m\\u00f3vil \\u00faltimos 7 d\\u00edas\": \"Promedio m\\u00f3vil \\u00faltimos 7 d\\u00edas\"}, {\"Fecha\": \"2020-03-10\", \"Casos confirmados\": 0, \"Rolling\": 0.0, \"Casos confirmados diarios\": \"Casos confirmados diarios\", \"Promedio m\\u00f3vil \\u00faltimos 7 d\\u00edas\": \"Promedio m\\u00f3vil \\u00faltimos 7 d\\u00edas\"}, {\"Fecha\": \"2020-03-11\", \"Casos confirmados\": 0, \"Rolling\": 0.0, \"Casos confirmados diarios\": \"Casos confirmados diarios\", \"Promedio m\\u00f3vil \\u00faltimos 7 d\\u00edas\": \"Promedio m\\u00f3vil \\u00faltimos 7 d\\u00edas\"}, {\"Fecha\": \"2020-03-12\", \"Casos confirmados\": 0, \"Rolling\": 0.0, \"Casos confirmados diarios\": \"Casos confirmados diarios\", \"Promedio m\\u00f3vil \\u00faltimos 7 d\\u00edas\": \"Promedio m\\u00f3vil \\u00faltimos 7 d\\u00edas\"}, {\"Fecha\": \"2020-03-13\", \"Casos confirmados\": 0, \"Rolling\": 0.0, \"Casos confirmados diarios\": \"Casos confirmados diarios\", \"Promedio m\\u00f3vil \\u00faltimos 7 d\\u00edas\": \"Promedio m\\u00f3vil \\u00faltimos 7 d\\u00edas\"}, {\"Fecha\": \"2020-03-14\", \"Casos confirmados\": 1, \"Rolling\": 0.14285714285714285, \"Casos confirmados diarios\": \"Casos confirmados diarios\", \"Promedio m\\u00f3vil \\u00faltimos 7 d\\u00edas\": \"Promedio m\\u00f3vil \\u00faltimos 7 d\\u00edas\"}, {\"Fecha\": \"2020-03-15\", \"Casos confirmados\": 0, \"Rolling\": 0.14285714285714285, \"Casos confirmados diarios\": \"Casos confirmados diarios\", \"Promedio m\\u00f3vil \\u00faltimos 7 d\\u00edas\": \"Promedio m\\u00f3vil \\u00faltimos 7 d\\u00edas\"}, {\"Fecha\": \"2020-03-16\", \"Casos confirmados\": 0, \"Rolling\": 0.14285714285714285, \"Casos confirmados diarios\": \"Casos confirmados diarios\", \"Promedio m\\u00f3vil \\u00faltimos 7 d\\u00edas\": \"Promedio m\\u00f3vil \\u00faltimos 7 d\\u00edas\"}, {\"Fecha\": \"2020-03-17\", \"Casos confirmados\": 0, \"Rolling\": 0.14285714285714285, \"Casos confirmados diarios\": \"Casos confirmados diarios\", \"Promedio m\\u00f3vil \\u00faltimos 7 d\\u00edas\": \"Promedio m\\u00f3vil \\u00faltimos 7 d\\u00edas\"}, {\"Fecha\": \"2020-03-18\", \"Casos confirmados\": 0, \"Rolling\": 0.14285714285714285, \"Casos confirmados diarios\": \"Casos confirmados diarios\", \"Promedio m\\u00f3vil \\u00faltimos 7 d\\u00edas\": \"Promedio m\\u00f3vil \\u00faltimos 7 d\\u00edas\"}, {\"Fecha\": \"2020-03-19\", \"Casos confirmados\": 0, \"Rolling\": 0.14285714285714285, \"Casos confirmados diarios\": \"Casos confirmados diarios\", \"Promedio m\\u00f3vil \\u00faltimos 7 d\\u00edas\": \"Promedio m\\u00f3vil \\u00faltimos 7 d\\u00edas\"}, {\"Fecha\": \"2020-03-20\", \"Casos confirmados\": 0, \"Rolling\": 0.14285714285714285, \"Casos confirmados diarios\": \"Casos confirmados diarios\", \"Promedio m\\u00f3vil \\u00faltimos 7 d\\u00edas\": \"Promedio m\\u00f3vil \\u00faltimos 7 d\\u00edas\"}, {\"Fecha\": \"2020-03-21\", \"Casos confirmados\": 0, \"Rolling\": 0.0, \"Casos confirmados diarios\": \"Casos confirmados diarios\", \"Promedio m\\u00f3vil \\u00faltimos 7 d\\u00edas\": \"Promedio m\\u00f3vil \\u00faltimos 7 d\\u00edas\"}, {\"Fecha\": \"2020-03-22\", \"Casos confirmados\": 0, \"Rolling\": 0.0, \"Casos confirmados diarios\": \"Casos confirmados diarios\", \"Promedio m\\u00f3vil \\u00faltimos 7 d\\u00edas\": \"Promedio m\\u00f3vil \\u00faltimos 7 d\\u00edas\"}, {\"Fecha\": \"2020-03-23\", \"Casos confirmados\": 0, \"Rolling\": 0.0, \"Casos confirmados diarios\": \"Casos confirmados diarios\", \"Promedio m\\u00f3vil \\u00faltimos 7 d\\u00edas\": \"Promedio m\\u00f3vil \\u00faltimos 7 d\\u00edas\"}, {\"Fecha\": \"2020-03-24\", \"Casos confirmados\": 0, \"Rolling\": 0.0, \"Casos confirmados diarios\": \"Casos confirmados diarios\", \"Promedio m\\u00f3vil \\u00faltimos 7 d\\u00edas\": \"Promedio m\\u00f3vil \\u00faltimos 7 d\\u00edas\"}, {\"Fecha\": \"2020-03-25\", \"Casos confirmados\": 0, \"Rolling\": 0.0, \"Casos confirmados diarios\": \"Casos confirmados diarios\", \"Promedio m\\u00f3vil \\u00faltimos 7 d\\u00edas\": \"Promedio m\\u00f3vil \\u00faltimos 7 d\\u00edas\"}, {\"Fecha\": \"2020-03-26\", \"Casos confirmados\": 0, \"Rolling\": 0.0, \"Casos confirmados diarios\": \"Casos confirmados diarios\", \"Promedio m\\u00f3vil \\u00faltimos 7 d\\u00edas\": \"Promedio m\\u00f3vil \\u00faltimos 7 d\\u00edas\"}, {\"Fecha\": \"2020-03-27\", \"Casos confirmados\": 0, \"Rolling\": 0.0, \"Casos confirmados diarios\": \"Casos confirmados diarios\", \"Promedio m\\u00f3vil \\u00faltimos 7 d\\u00edas\": \"Promedio m\\u00f3vil \\u00faltimos 7 d\\u00edas\"}, {\"Fecha\": \"2020-03-28\", \"Casos confirmados\": 0, \"Rolling\": 0.0, \"Casos confirmados diarios\": \"Casos confirmados diarios\", \"Promedio m\\u00f3vil \\u00faltimos 7 d\\u00edas\": \"Promedio m\\u00f3vil \\u00faltimos 7 d\\u00edas\"}, {\"Fecha\": \"2020-03-29\", \"Casos confirmados\": 1, \"Rolling\": 0.14285714285714285, \"Casos confirmados diarios\": \"Casos confirmados diarios\", \"Promedio m\\u00f3vil \\u00faltimos 7 d\\u00edas\": \"Promedio m\\u00f3vil \\u00faltimos 7 d\\u00edas\"}, {\"Fecha\": \"2020-03-30\", \"Casos confirmados\": 0, \"Rolling\": 0.14285714285714285, \"Casos confirmados diarios\": \"Casos confirmados diarios\", \"Promedio m\\u00f3vil \\u00faltimos 7 d\\u00edas\": \"Promedio m\\u00f3vil \\u00faltimos 7 d\\u00edas\"}, {\"Fecha\": \"2020-03-31\", \"Casos confirmados\": 0, \"Rolling\": 0.14285714285714285, \"Casos confirmados diarios\": \"Casos confirmados diarios\", \"Promedio m\\u00f3vil \\u00faltimos 7 d\\u00edas\": \"Promedio m\\u00f3vil \\u00faltimos 7 d\\u00edas\"}, {\"Fecha\": \"2020-04-01\", \"Casos confirmados\": 1, \"Rolling\": 0.2857142857142857, \"Casos confirmados diarios\": \"Casos confirmados diarios\", \"Promedio m\\u00f3vil \\u00faltimos 7 d\\u00edas\": \"Promedio m\\u00f3vil \\u00faltimos 7 d\\u00edas\"}, {\"Fecha\": \"2020-04-02\", \"Casos confirmados\": 0, \"Rolling\": 0.2857142857142857, \"Casos confirmados diarios\": \"Casos confirmados diarios\", \"Promedio m\\u00f3vil \\u00faltimos 7 d\\u00edas\": \"Promedio m\\u00f3vil \\u00faltimos 7 d\\u00edas\"}, {\"Fecha\": \"2020-04-03\", \"Casos confirmados\": 2, \"Rolling\": 0.5714285714285714, \"Casos confirmados diarios\": \"Casos confirmados diarios\", \"Promedio m\\u00f3vil \\u00faltimos 7 d\\u00edas\": \"Promedio m\\u00f3vil \\u00faltimos 7 d\\u00edas\"}, {\"Fecha\": \"2020-04-04\", \"Casos confirmados\": 0, \"Rolling\": 0.5714285714285714, \"Casos confirmados diarios\": \"Casos confirmados diarios\", \"Promedio m\\u00f3vil \\u00faltimos 7 d\\u00edas\": \"Promedio m\\u00f3vil \\u00faltimos 7 d\\u00edas\"}, {\"Fecha\": \"2020-04-05\", \"Casos confirmados\": 0, \"Rolling\": 0.42857142857142855, \"Casos confirmados diarios\": \"Casos confirmados diarios\", \"Promedio m\\u00f3vil \\u00faltimos 7 d\\u00edas\": \"Promedio m\\u00f3vil \\u00faltimos 7 d\\u00edas\"}, {\"Fecha\": \"2020-04-06\", \"Casos confirmados\": 0, \"Rolling\": 0.42857142857142855, \"Casos confirmados diarios\": \"Casos confirmados diarios\", \"Promedio m\\u00f3vil \\u00faltimos 7 d\\u00edas\": \"Promedio m\\u00f3vil \\u00faltimos 7 d\\u00edas\"}, {\"Fecha\": \"2020-04-07\", \"Casos confirmados\": 1, \"Rolling\": 0.5714285714285714, \"Casos confirmados diarios\": \"Casos confirmados diarios\", \"Promedio m\\u00f3vil \\u00faltimos 7 d\\u00edas\": \"Promedio m\\u00f3vil \\u00faltimos 7 d\\u00edas\"}, {\"Fecha\": \"2020-04-08\", \"Casos confirmados\": 2, \"Rolling\": 0.7142857142857143, \"Casos confirmados diarios\": \"Casos confirmados diarios\", \"Promedio m\\u00f3vil \\u00faltimos 7 d\\u00edas\": \"Promedio m\\u00f3vil \\u00faltimos 7 d\\u00edas\"}, {\"Fecha\": \"2020-04-09\", \"Casos confirmados\": 2, \"Rolling\": 1.0, \"Casos confirmados diarios\": \"Casos confirmados diarios\", \"Promedio m\\u00f3vil \\u00faltimos 7 d\\u00edas\": \"Promedio m\\u00f3vil \\u00faltimos 7 d\\u00edas\"}, {\"Fecha\": \"2020-04-10\", \"Casos confirmados\": 3, \"Rolling\": 1.1428571428571428, \"Casos confirmados diarios\": \"Casos confirmados diarios\", \"Promedio m\\u00f3vil \\u00faltimos 7 d\\u00edas\": \"Promedio m\\u00f3vil \\u00faltimos 7 d\\u00edas\"}, {\"Fecha\": \"2020-04-11\", \"Casos confirmados\": 0, \"Rolling\": 1.1428571428571428, \"Casos confirmados diarios\": \"Casos confirmados diarios\", \"Promedio m\\u00f3vil \\u00faltimos 7 d\\u00edas\": \"Promedio m\\u00f3vil \\u00faltimos 7 d\\u00edas\"}, {\"Fecha\": \"2020-04-12\", \"Casos confirmados\": 0, \"Rolling\": 1.1428571428571428, \"Casos confirmados diarios\": \"Casos confirmados diarios\", \"Promedio m\\u00f3vil \\u00faltimos 7 d\\u00edas\": \"Promedio m\\u00f3vil \\u00faltimos 7 d\\u00edas\"}, {\"Fecha\": \"2020-04-13\", \"Casos confirmados\": 0, \"Rolling\": 1.1428571428571428, \"Casos confirmados diarios\": \"Casos confirmados diarios\", \"Promedio m\\u00f3vil \\u00faltimos 7 d\\u00edas\": \"Promedio m\\u00f3vil \\u00faltimos 7 d\\u00edas\"}, {\"Fecha\": \"2020-04-14\", \"Casos confirmados\": 0, \"Rolling\": 1.0, \"Casos confirmados diarios\": \"Casos confirmados diarios\", \"Promedio m\\u00f3vil \\u00faltimos 7 d\\u00edas\": \"Promedio m\\u00f3vil \\u00faltimos 7 d\\u00edas\"}, {\"Fecha\": \"2020-04-15\", \"Casos confirmados\": 0, \"Rolling\": 0.7142857142857143, \"Casos confirmados diarios\": \"Casos confirmados diarios\", \"Promedio m\\u00f3vil \\u00faltimos 7 d\\u00edas\": \"Promedio m\\u00f3vil \\u00faltimos 7 d\\u00edas\"}, {\"Fecha\": \"2020-04-16\", \"Casos confirmados\": 0, \"Rolling\": 0.42857142857142855, \"Casos confirmados diarios\": \"Casos confirmados diarios\", \"Promedio m\\u00f3vil \\u00faltimos 7 d\\u00edas\": \"Promedio m\\u00f3vil \\u00faltimos 7 d\\u00edas\"}, {\"Fecha\": \"2020-04-17\", \"Casos confirmados\": 0, \"Rolling\": 0.0, \"Casos confirmados diarios\": \"Casos confirmados diarios\", \"Promedio m\\u00f3vil \\u00faltimos 7 d\\u00edas\": \"Promedio m\\u00f3vil \\u00faltimos 7 d\\u00edas\"}, {\"Fecha\": \"2020-04-18\", \"Casos confirmados\": 0, \"Rolling\": 0.0, \"Casos confirmados diarios\": \"Casos confirmados diarios\", \"Promedio m\\u00f3vil \\u00faltimos 7 d\\u00edas\": \"Promedio m\\u00f3vil \\u00faltimos 7 d\\u00edas\"}, {\"Fecha\": \"2020-04-19\", \"Casos confirmados\": 0, \"Rolling\": 0.0, \"Casos confirmados diarios\": \"Casos confirmados diarios\", \"Promedio m\\u00f3vil \\u00faltimos 7 d\\u00edas\": \"Promedio m\\u00f3vil \\u00faltimos 7 d\\u00edas\"}, {\"Fecha\": \"2020-04-20\", \"Casos confirmados\": 0, \"Rolling\": 0.0, \"Casos confirmados diarios\": \"Casos confirmados diarios\", \"Promedio m\\u00f3vil \\u00faltimos 7 d\\u00edas\": \"Promedio m\\u00f3vil \\u00faltimos 7 d\\u00edas\"}, {\"Fecha\": \"2020-04-21\", \"Casos confirmados\": 0, \"Rolling\": 0.0, \"Casos confirmados diarios\": \"Casos confirmados diarios\", \"Promedio m\\u00f3vil \\u00faltimos 7 d\\u00edas\": \"Promedio m\\u00f3vil \\u00faltimos 7 d\\u00edas\"}, {\"Fecha\": \"2020-04-22\", \"Casos confirmados\": 0, \"Rolling\": 0.0, \"Casos confirmados diarios\": \"Casos confirmados diarios\", \"Promedio m\\u00f3vil \\u00faltimos 7 d\\u00edas\": \"Promedio m\\u00f3vil \\u00faltimos 7 d\\u00edas\"}, {\"Fecha\": \"2020-04-23\", \"Casos confirmados\": 5, \"Rolling\": 0.7142857142857143, \"Casos confirmados diarios\": \"Casos confirmados diarios\", \"Promedio m\\u00f3vil \\u00faltimos 7 d\\u00edas\": \"Promedio m\\u00f3vil \\u00faltimos 7 d\\u00edas\"}, {\"Fecha\": \"2020-04-24\", \"Casos confirmados\": 3, \"Rolling\": 1.1428571428571428, \"Casos confirmados diarios\": \"Casos confirmados diarios\", \"Promedio m\\u00f3vil \\u00faltimos 7 d\\u00edas\": \"Promedio m\\u00f3vil \\u00faltimos 7 d\\u00edas\"}, {\"Fecha\": \"2020-04-25\", \"Casos confirmados\": 3, \"Rolling\": 1.5714285714285714, \"Casos confirmados diarios\": \"Casos confirmados diarios\", \"Promedio m\\u00f3vil \\u00faltimos 7 d\\u00edas\": \"Promedio m\\u00f3vil \\u00faltimos 7 d\\u00edas\"}, {\"Fecha\": \"2020-04-26\", \"Casos confirmados\": 5, \"Rolling\": 2.2857142857142856, \"Casos confirmados diarios\": \"Casos confirmados diarios\", \"Promedio m\\u00f3vil \\u00faltimos 7 d\\u00edas\": \"Promedio m\\u00f3vil \\u00faltimos 7 d\\u00edas\"}]}}, {\"mode\": \"vega-lite\"});\n",
       "</script>"
      ],
      "text/plain": [
       "alt.LayerChart(...)"
      ]
     },
     "execution_count": 15,
     "metadata": {},
     "output_type": "execute_result"
    }
   ],
   "source": [
    "#hide_input\n",
    "bars, line = my_cases_plot(region)\n",
    "(bars + line).properties(\n",
    "    title=f'Covid-19 en Chile: Casos confirmados diarios en {region}',\n",
    "    width=600\n",
    ")"
   ]
  },
  {
   "cell_type": "markdown",
   "metadata": {},
   "source": [
    "## Coquimbo"
   ]
  },
  {
   "cell_type": "code",
   "execution_count": 16,
   "metadata": {},
   "outputs": [],
   "source": [
    "#hide\n",
    "region = \"Coquimbo\""
   ]
  },
  {
   "cell_type": "code",
   "execution_count": 17,
   "metadata": {},
   "outputs": [
    {
     "data": {
      "text/html": [
       "\n",
       "<div id=\"altair-viz-9a13e0c797434ca384306a62c583e506\"></div>\n",
       "<script type=\"text/javascript\">\n",
       "  (function(spec, embedOpt){\n",
       "    let outputDiv = document.currentScript.previousElementSibling;\n",
       "    if (outputDiv.id !== \"altair-viz-9a13e0c797434ca384306a62c583e506\") {\n",
       "      outputDiv = document.getElementById(\"altair-viz-9a13e0c797434ca384306a62c583e506\");\n",
       "    }\n",
       "    const paths = {\n",
       "      \"vega\": \"https://cdn.jsdelivr.net/npm//vega@5?noext\",\n",
       "      \"vega-lib\": \"https://cdn.jsdelivr.net/npm//vega-lib?noext\",\n",
       "      \"vega-lite\": \"https://cdn.jsdelivr.net/npm//vega-lite@4.8.1?noext\",\n",
       "      \"vega-embed\": \"https://cdn.jsdelivr.net/npm//vega-embed@6?noext\",\n",
       "    };\n",
       "\n",
       "    function loadScript(lib) {\n",
       "      return new Promise(function(resolve, reject) {\n",
       "        var s = document.createElement('script');\n",
       "        s.src = paths[lib];\n",
       "        s.async = true;\n",
       "        s.onload = () => resolve(paths[lib]);\n",
       "        s.onerror = () => reject(`Error loading script: ${paths[lib]}`);\n",
       "        document.getElementsByTagName(\"head\")[0].appendChild(s);\n",
       "      });\n",
       "    }\n",
       "\n",
       "    function showError(err) {\n",
       "      outputDiv.innerHTML = `<div class=\"error\" style=\"color:red;\">${err}</div>`;\n",
       "      throw err;\n",
       "    }\n",
       "\n",
       "    function displayChart(vegaEmbed) {\n",
       "      vegaEmbed(outputDiv, spec, embedOpt)\n",
       "        .catch(err => showError(`Javascript Error: ${err.message}<br>This usually means there's a typo in your chart specification. See the javascript console for the full traceback.`));\n",
       "    }\n",
       "\n",
       "    if(typeof define === \"function\" && define.amd) {\n",
       "      requirejs.config({paths});\n",
       "      require([\"vega-embed\"], displayChart, err => showError(`Error loading script: ${err.message}`));\n",
       "    } else if (typeof vegaEmbed === \"function\") {\n",
       "      displayChart(vegaEmbed);\n",
       "    } else {\n",
       "      loadScript(\"vega\")\n",
       "        .then(() => loadScript(\"vega-lite\"))\n",
       "        .then(() => loadScript(\"vega-embed\"))\n",
       "        .catch(showError)\n",
       "        .then(() => displayChart(vegaEmbed));\n",
       "    }\n",
       "  })({\"config\": {\"view\": {\"continuousWidth\": 400, \"continuousHeight\": 300}}, \"layer\": [{\"mark\": {\"type\": \"bar\", \"opacity\": 0.7}, \"encoding\": {\"opacity\": {\"type\": \"nominal\", \"field\": \"Casos confirmados diarios\", \"legend\": {\"title\": \"\"}}, \"tooltip\": [{\"type\": \"nominal\", \"field\": \"Fecha\"}, {\"type\": \"quantitative\", \"field\": \"Casos confirmados\"}], \"x\": {\"type\": \"nominal\", \"axis\": {\"title\": \"Fecha (a\\u00f1o-mes-d\\u00eda)\"}, \"field\": \"Fecha\"}, \"y\": {\"type\": \"quantitative\", \"axis\": {\"title\": \"Casos confirmados diarios\"}, \"field\": \"Casos confirmados\"}}}, {\"mark\": {\"type\": \"line\", \"color\": \"#1f77b4\", \"point\": {\"filled\": true, \"fill\": \"#1f77b4\"}}, \"encoding\": {\"shape\": {\"type\": \"nominal\", \"field\": \"Promedio m\\u00f3vil \\u00faltimos 7 d\\u00edas\", \"legend\": {\"title\": \"\"}}, \"x\": {\"type\": \"nominal\", \"axis\": {\"title\": \"Fecha (a\\u00f1o-mes-d\\u00eda)\"}, \"field\": \"Fecha\"}, \"y\": {\"type\": \"quantitative\", \"field\": \"Rolling\"}}}], \"data\": {\"name\": \"data-ac97d2fd48b7a83a9c0d1ea3bb5fa519\"}, \"title\": \"Covid-19 en Chile: Casos confirmados diarios en Coquimbo\", \"width\": 600, \"$schema\": \"https://vega.github.io/schema/vega-lite/v4.8.1.json\", \"datasets\": {\"data-ac97d2fd48b7a83a9c0d1ea3bb5fa519\": [{\"Fecha\": \"2020-03-04\", \"Casos confirmados\": 0, \"Rolling\": null, \"Casos confirmados diarios\": \"Casos confirmados diarios\", \"Promedio m\\u00f3vil \\u00faltimos 7 d\\u00edas\": \"Promedio m\\u00f3vil \\u00faltimos 7 d\\u00edas\"}, {\"Fecha\": \"2020-03-05\", \"Casos confirmados\": 0, \"Rolling\": null, \"Casos confirmados diarios\": \"Casos confirmados diarios\", \"Promedio m\\u00f3vil \\u00faltimos 7 d\\u00edas\": \"Promedio m\\u00f3vil \\u00faltimos 7 d\\u00edas\"}, {\"Fecha\": \"2020-03-06\", \"Casos confirmados\": 0, \"Rolling\": null, \"Casos confirmados diarios\": \"Casos confirmados diarios\", \"Promedio m\\u00f3vil \\u00faltimos 7 d\\u00edas\": \"Promedio m\\u00f3vil \\u00faltimos 7 d\\u00edas\"}, {\"Fecha\": \"2020-03-07\", \"Casos confirmados\": 0, \"Rolling\": null, \"Casos confirmados diarios\": \"Casos confirmados diarios\", \"Promedio m\\u00f3vil \\u00faltimos 7 d\\u00edas\": \"Promedio m\\u00f3vil \\u00faltimos 7 d\\u00edas\"}, {\"Fecha\": \"2020-03-08\", \"Casos confirmados\": 0, \"Rolling\": null, \"Casos confirmados diarios\": \"Casos confirmados diarios\", \"Promedio m\\u00f3vil \\u00faltimos 7 d\\u00edas\": \"Promedio m\\u00f3vil \\u00faltimos 7 d\\u00edas\"}, {\"Fecha\": \"2020-03-09\", \"Casos confirmados\": 0, \"Rolling\": null, \"Casos confirmados diarios\": \"Casos confirmados diarios\", \"Promedio m\\u00f3vil \\u00faltimos 7 d\\u00edas\": \"Promedio m\\u00f3vil \\u00faltimos 7 d\\u00edas\"}, {\"Fecha\": \"2020-03-10\", \"Casos confirmados\": 0, \"Rolling\": 0.0, \"Casos confirmados diarios\": \"Casos confirmados diarios\", \"Promedio m\\u00f3vil \\u00faltimos 7 d\\u00edas\": \"Promedio m\\u00f3vil \\u00faltimos 7 d\\u00edas\"}, {\"Fecha\": \"2020-03-11\", \"Casos confirmados\": 0, \"Rolling\": 0.0, \"Casos confirmados diarios\": \"Casos confirmados diarios\", \"Promedio m\\u00f3vil \\u00faltimos 7 d\\u00edas\": \"Promedio m\\u00f3vil \\u00faltimos 7 d\\u00edas\"}, {\"Fecha\": \"2020-03-12\", \"Casos confirmados\": 0, \"Rolling\": 0.0, \"Casos confirmados diarios\": \"Casos confirmados diarios\", \"Promedio m\\u00f3vil \\u00faltimos 7 d\\u00edas\": \"Promedio m\\u00f3vil \\u00faltimos 7 d\\u00edas\"}, {\"Fecha\": \"2020-03-13\", \"Casos confirmados\": 0, \"Rolling\": 0.0, \"Casos confirmados diarios\": \"Casos confirmados diarios\", \"Promedio m\\u00f3vil \\u00faltimos 7 d\\u00edas\": \"Promedio m\\u00f3vil \\u00faltimos 7 d\\u00edas\"}, {\"Fecha\": \"2020-03-14\", \"Casos confirmados\": 0, \"Rolling\": 0.0, \"Casos confirmados diarios\": \"Casos confirmados diarios\", \"Promedio m\\u00f3vil \\u00faltimos 7 d\\u00edas\": \"Promedio m\\u00f3vil \\u00faltimos 7 d\\u00edas\"}, {\"Fecha\": \"2020-03-15\", \"Casos confirmados\": 0, \"Rolling\": 0.0, \"Casos confirmados diarios\": \"Casos confirmados diarios\", \"Promedio m\\u00f3vil \\u00faltimos 7 d\\u00edas\": \"Promedio m\\u00f3vil \\u00faltimos 7 d\\u00edas\"}, {\"Fecha\": \"2020-03-16\", \"Casos confirmados\": 0, \"Rolling\": 0.0, \"Casos confirmados diarios\": \"Casos confirmados diarios\", \"Promedio m\\u00f3vil \\u00faltimos 7 d\\u00edas\": \"Promedio m\\u00f3vil \\u00faltimos 7 d\\u00edas\"}, {\"Fecha\": \"2020-03-17\", \"Casos confirmados\": 0, \"Rolling\": 0.0, \"Casos confirmados diarios\": \"Casos confirmados diarios\", \"Promedio m\\u00f3vil \\u00faltimos 7 d\\u00edas\": \"Promedio m\\u00f3vil \\u00faltimos 7 d\\u00edas\"}, {\"Fecha\": \"2020-03-18\", \"Casos confirmados\": 0, \"Rolling\": 0.0, \"Casos confirmados diarios\": \"Casos confirmados diarios\", \"Promedio m\\u00f3vil \\u00faltimos 7 d\\u00edas\": \"Promedio m\\u00f3vil \\u00faltimos 7 d\\u00edas\"}, {\"Fecha\": \"2020-03-19\", \"Casos confirmados\": 2, \"Rolling\": 0.2857142857142857, \"Casos confirmados diarios\": \"Casos confirmados diarios\", \"Promedio m\\u00f3vil \\u00faltimos 7 d\\u00edas\": \"Promedio m\\u00f3vil \\u00faltimos 7 d\\u00edas\"}, {\"Fecha\": \"2020-03-20\", \"Casos confirmados\": 1, \"Rolling\": 0.42857142857142855, \"Casos confirmados diarios\": \"Casos confirmados diarios\", \"Promedio m\\u00f3vil \\u00faltimos 7 d\\u00edas\": \"Promedio m\\u00f3vil \\u00faltimos 7 d\\u00edas\"}, {\"Fecha\": \"2020-03-21\", \"Casos confirmados\": 0, \"Rolling\": 0.42857142857142855, \"Casos confirmados diarios\": \"Casos confirmados diarios\", \"Promedio m\\u00f3vil \\u00faltimos 7 d\\u00edas\": \"Promedio m\\u00f3vil \\u00faltimos 7 d\\u00edas\"}, {\"Fecha\": \"2020-03-22\", \"Casos confirmados\": 2, \"Rolling\": 0.7142857142857143, \"Casos confirmados diarios\": \"Casos confirmados diarios\", \"Promedio m\\u00f3vil \\u00faltimos 7 d\\u00edas\": \"Promedio m\\u00f3vil \\u00faltimos 7 d\\u00edas\"}, {\"Fecha\": \"2020-03-23\", \"Casos confirmados\": 1, \"Rolling\": 0.8571428571428571, \"Casos confirmados diarios\": \"Casos confirmados diarios\", \"Promedio m\\u00f3vil \\u00faltimos 7 d\\u00edas\": \"Promedio m\\u00f3vil \\u00faltimos 7 d\\u00edas\"}, {\"Fecha\": \"2020-03-24\", \"Casos confirmados\": 5, \"Rolling\": 1.5714285714285714, \"Casos confirmados diarios\": \"Casos confirmados diarios\", \"Promedio m\\u00f3vil \\u00faltimos 7 d\\u00edas\": \"Promedio m\\u00f3vil \\u00faltimos 7 d\\u00edas\"}, {\"Fecha\": \"2020-03-25\", \"Casos confirmados\": 1, \"Rolling\": 1.7142857142857142, \"Casos confirmados diarios\": \"Casos confirmados diarios\", \"Promedio m\\u00f3vil \\u00faltimos 7 d\\u00edas\": \"Promedio m\\u00f3vil \\u00faltimos 7 d\\u00edas\"}, {\"Fecha\": \"2020-03-26\", \"Casos confirmados\": 1, \"Rolling\": 1.5714285714285714, \"Casos confirmados diarios\": \"Casos confirmados diarios\", \"Promedio m\\u00f3vil \\u00faltimos 7 d\\u00edas\": \"Promedio m\\u00f3vil \\u00faltimos 7 d\\u00edas\"}, {\"Fecha\": \"2020-03-27\", \"Casos confirmados\": 1, \"Rolling\": 1.5714285714285714, \"Casos confirmados diarios\": \"Casos confirmados diarios\", \"Promedio m\\u00f3vil \\u00faltimos 7 d\\u00edas\": \"Promedio m\\u00f3vil \\u00faltimos 7 d\\u00edas\"}, {\"Fecha\": \"2020-03-28\", \"Casos confirmados\": 1, \"Rolling\": 1.7142857142857142, \"Casos confirmados diarios\": \"Casos confirmados diarios\", \"Promedio m\\u00f3vil \\u00faltimos 7 d\\u00edas\": \"Promedio m\\u00f3vil \\u00faltimos 7 d\\u00edas\"}, {\"Fecha\": \"2020-03-29\", \"Casos confirmados\": 3, \"Rolling\": 1.8571428571428572, \"Casos confirmados diarios\": \"Casos confirmados diarios\", \"Promedio m\\u00f3vil \\u00faltimos 7 d\\u00edas\": \"Promedio m\\u00f3vil \\u00faltimos 7 d\\u00edas\"}, {\"Fecha\": \"2020-03-30\", \"Casos confirmados\": 9, \"Rolling\": 3.0, \"Casos confirmados diarios\": \"Casos confirmados diarios\", \"Promedio m\\u00f3vil \\u00faltimos 7 d\\u00edas\": \"Promedio m\\u00f3vil \\u00faltimos 7 d\\u00edas\"}, {\"Fecha\": \"2020-03-31\", \"Casos confirmados\": 1, \"Rolling\": 2.4285714285714284, \"Casos confirmados diarios\": \"Casos confirmados diarios\", \"Promedio m\\u00f3vil \\u00faltimos 7 d\\u00edas\": \"Promedio m\\u00f3vil \\u00faltimos 7 d\\u00edas\"}, {\"Fecha\": \"2020-04-01\", \"Casos confirmados\": 2, \"Rolling\": 2.5714285714285716, \"Casos confirmados diarios\": \"Casos confirmados diarios\", \"Promedio m\\u00f3vil \\u00faltimos 7 d\\u00edas\": \"Promedio m\\u00f3vil \\u00faltimos 7 d\\u00edas\"}, {\"Fecha\": \"2020-04-02\", \"Casos confirmados\": 4, \"Rolling\": 3.0, \"Casos confirmados diarios\": \"Casos confirmados diarios\", \"Promedio m\\u00f3vil \\u00faltimos 7 d\\u00edas\": \"Promedio m\\u00f3vil \\u00faltimos 7 d\\u00edas\"}, {\"Fecha\": \"2020-04-03\", \"Casos confirmados\": 1, \"Rolling\": 3.0, \"Casos confirmados diarios\": \"Casos confirmados diarios\", \"Promedio m\\u00f3vil \\u00faltimos 7 d\\u00edas\": \"Promedio m\\u00f3vil \\u00faltimos 7 d\\u00edas\"}, {\"Fecha\": \"2020-04-04\", \"Casos confirmados\": 9, \"Rolling\": 4.142857142857143, \"Casos confirmados diarios\": \"Casos confirmados diarios\", \"Promedio m\\u00f3vil \\u00faltimos 7 d\\u00edas\": \"Promedio m\\u00f3vil \\u00faltimos 7 d\\u00edas\"}, {\"Fecha\": \"2020-04-05\", \"Casos confirmados\": 6, \"Rolling\": 4.571428571428571, \"Casos confirmados diarios\": \"Casos confirmados diarios\", \"Promedio m\\u00f3vil \\u00faltimos 7 d\\u00edas\": \"Promedio m\\u00f3vil \\u00faltimos 7 d\\u00edas\"}, {\"Fecha\": \"2020-04-06\", \"Casos confirmados\": 1, \"Rolling\": 3.4285714285714284, \"Casos confirmados diarios\": \"Casos confirmados diarios\", \"Promedio m\\u00f3vil \\u00faltimos 7 d\\u00edas\": \"Promedio m\\u00f3vil \\u00faltimos 7 d\\u00edas\"}, {\"Fecha\": \"2020-04-07\", \"Casos confirmados\": 1, \"Rolling\": 3.4285714285714284, \"Casos confirmados diarios\": \"Casos confirmados diarios\", \"Promedio m\\u00f3vil \\u00faltimos 7 d\\u00edas\": \"Promedio m\\u00f3vil \\u00faltimos 7 d\\u00edas\"}, {\"Fecha\": \"2020-04-08\", \"Casos confirmados\": 4, \"Rolling\": 3.7142857142857144, \"Casos confirmados diarios\": \"Casos confirmados diarios\", \"Promedio m\\u00f3vil \\u00faltimos 7 d\\u00edas\": \"Promedio m\\u00f3vil \\u00faltimos 7 d\\u00edas\"}, {\"Fecha\": \"2020-04-09\", \"Casos confirmados\": 5, \"Rolling\": 3.857142857142857, \"Casos confirmados diarios\": \"Casos confirmados diarios\", \"Promedio m\\u00f3vil \\u00faltimos 7 d\\u00edas\": \"Promedio m\\u00f3vil \\u00faltimos 7 d\\u00edas\"}, {\"Fecha\": \"2020-04-10\", \"Casos confirmados\": 0, \"Rolling\": 3.7142857142857144, \"Casos confirmados diarios\": \"Casos confirmados diarios\", \"Promedio m\\u00f3vil \\u00faltimos 7 d\\u00edas\": \"Promedio m\\u00f3vil \\u00faltimos 7 d\\u00edas\"}, {\"Fecha\": \"2020-04-11\", \"Casos confirmados\": 3, \"Rolling\": 2.857142857142857, \"Casos confirmados diarios\": \"Casos confirmados diarios\", \"Promedio m\\u00f3vil \\u00faltimos 7 d\\u00edas\": \"Promedio m\\u00f3vil \\u00faltimos 7 d\\u00edas\"}, {\"Fecha\": \"2020-04-12\", \"Casos confirmados\": 2, \"Rolling\": 2.2857142857142856, \"Casos confirmados diarios\": \"Casos confirmados diarios\", \"Promedio m\\u00f3vil \\u00faltimos 7 d\\u00edas\": \"Promedio m\\u00f3vil \\u00faltimos 7 d\\u00edas\"}, {\"Fecha\": \"2020-04-13\", \"Casos confirmados\": 0, \"Rolling\": 2.142857142857143, \"Casos confirmados diarios\": \"Casos confirmados diarios\", \"Promedio m\\u00f3vil \\u00faltimos 7 d\\u00edas\": \"Promedio m\\u00f3vil \\u00faltimos 7 d\\u00edas\"}, {\"Fecha\": \"2020-04-14\", \"Casos confirmados\": 0, \"Rolling\": 2.0, \"Casos confirmados diarios\": \"Casos confirmados diarios\", \"Promedio m\\u00f3vil \\u00faltimos 7 d\\u00edas\": \"Promedio m\\u00f3vil \\u00faltimos 7 d\\u00edas\"}, {\"Fecha\": \"2020-04-15\", \"Casos confirmados\": 0, \"Rolling\": 1.4285714285714286, \"Casos confirmados diarios\": \"Casos confirmados diarios\", \"Promedio m\\u00f3vil \\u00faltimos 7 d\\u00edas\": \"Promedio m\\u00f3vil \\u00faltimos 7 d\\u00edas\"}, {\"Fecha\": \"2020-04-16\", \"Casos confirmados\": 2, \"Rolling\": 1.0, \"Casos confirmados diarios\": \"Casos confirmados diarios\", \"Promedio m\\u00f3vil \\u00faltimos 7 d\\u00edas\": \"Promedio m\\u00f3vil \\u00faltimos 7 d\\u00edas\"}, {\"Fecha\": \"2020-04-17\", \"Casos confirmados\": 0, \"Rolling\": 1.0, \"Casos confirmados diarios\": \"Casos confirmados diarios\", \"Promedio m\\u00f3vil \\u00faltimos 7 d\\u00edas\": \"Promedio m\\u00f3vil \\u00faltimos 7 d\\u00edas\"}, {\"Fecha\": \"2020-04-18\", \"Casos confirmados\": 0, \"Rolling\": 0.5714285714285714, \"Casos confirmados diarios\": \"Casos confirmados diarios\", \"Promedio m\\u00f3vil \\u00faltimos 7 d\\u00edas\": \"Promedio m\\u00f3vil \\u00faltimos 7 d\\u00edas\"}, {\"Fecha\": \"2020-04-19\", \"Casos confirmados\": 0, \"Rolling\": 0.2857142857142857, \"Casos confirmados diarios\": \"Casos confirmados diarios\", \"Promedio m\\u00f3vil \\u00faltimos 7 d\\u00edas\": \"Promedio m\\u00f3vil \\u00faltimos 7 d\\u00edas\"}, {\"Fecha\": \"2020-04-20\", \"Casos confirmados\": 1, \"Rolling\": 0.42857142857142855, \"Casos confirmados diarios\": \"Casos confirmados diarios\", \"Promedio m\\u00f3vil \\u00faltimos 7 d\\u00edas\": \"Promedio m\\u00f3vil \\u00faltimos 7 d\\u00edas\"}, {\"Fecha\": \"2020-04-21\", \"Casos confirmados\": 0, \"Rolling\": 0.42857142857142855, \"Casos confirmados diarios\": \"Casos confirmados diarios\", \"Promedio m\\u00f3vil \\u00faltimos 7 d\\u00edas\": \"Promedio m\\u00f3vil \\u00faltimos 7 d\\u00edas\"}, {\"Fecha\": \"2020-04-22\", \"Casos confirmados\": 1, \"Rolling\": 0.5714285714285714, \"Casos confirmados diarios\": \"Casos confirmados diarios\", \"Promedio m\\u00f3vil \\u00faltimos 7 d\\u00edas\": \"Promedio m\\u00f3vil \\u00faltimos 7 d\\u00edas\"}, {\"Fecha\": \"2020-04-23\", \"Casos confirmados\": 0, \"Rolling\": 0.2857142857142857, \"Casos confirmados diarios\": \"Casos confirmados diarios\", \"Promedio m\\u00f3vil \\u00faltimos 7 d\\u00edas\": \"Promedio m\\u00f3vil \\u00faltimos 7 d\\u00edas\"}, {\"Fecha\": \"2020-04-24\", \"Casos confirmados\": 2, \"Rolling\": 0.5714285714285714, \"Casos confirmados diarios\": \"Casos confirmados diarios\", \"Promedio m\\u00f3vil \\u00faltimos 7 d\\u00edas\": \"Promedio m\\u00f3vil \\u00faltimos 7 d\\u00edas\"}, {\"Fecha\": \"2020-04-25\", \"Casos confirmados\": 1, \"Rolling\": 0.7142857142857143, \"Casos confirmados diarios\": \"Casos confirmados diarios\", \"Promedio m\\u00f3vil \\u00faltimos 7 d\\u00edas\": \"Promedio m\\u00f3vil \\u00faltimos 7 d\\u00edas\"}, {\"Fecha\": \"2020-04-26\", \"Casos confirmados\": 0, \"Rolling\": 0.7142857142857143, \"Casos confirmados diarios\": \"Casos confirmados diarios\", \"Promedio m\\u00f3vil \\u00faltimos 7 d\\u00edas\": \"Promedio m\\u00f3vil \\u00faltimos 7 d\\u00edas\"}]}}, {\"mode\": \"vega-lite\"});\n",
       "</script>"
      ],
      "text/plain": [
       "alt.LayerChart(...)"
      ]
     },
     "execution_count": 17,
     "metadata": {},
     "output_type": "execute_result"
    }
   ],
   "source": [
    "#hide_input\n",
    "bars, line = my_cases_plot(region)\n",
    "(bars + line).properties(\n",
    "    title=f'Covid-19 en Chile: Casos confirmados diarios en {region}',\n",
    "    width=600\n",
    ")"
   ]
  },
  {
   "cell_type": "markdown",
   "metadata": {},
   "source": [
    "## Valparaíso"
   ]
  },
  {
   "cell_type": "code",
   "execution_count": 18,
   "metadata": {},
   "outputs": [],
   "source": [
    "#hide\n",
    "region = \"Valparaíso\""
   ]
  },
  {
   "cell_type": "code",
   "execution_count": 19,
   "metadata": {},
   "outputs": [
    {
     "data": {
      "text/html": [
       "\n",
       "<div id=\"altair-viz-c199ce1b9d0643a1ac948b95edb6b730\"></div>\n",
       "<script type=\"text/javascript\">\n",
       "  (function(spec, embedOpt){\n",
       "    let outputDiv = document.currentScript.previousElementSibling;\n",
       "    if (outputDiv.id !== \"altair-viz-c199ce1b9d0643a1ac948b95edb6b730\") {\n",
       "      outputDiv = document.getElementById(\"altair-viz-c199ce1b9d0643a1ac948b95edb6b730\");\n",
       "    }\n",
       "    const paths = {\n",
       "      \"vega\": \"https://cdn.jsdelivr.net/npm//vega@5?noext\",\n",
       "      \"vega-lib\": \"https://cdn.jsdelivr.net/npm//vega-lib?noext\",\n",
       "      \"vega-lite\": \"https://cdn.jsdelivr.net/npm//vega-lite@4.8.1?noext\",\n",
       "      \"vega-embed\": \"https://cdn.jsdelivr.net/npm//vega-embed@6?noext\",\n",
       "    };\n",
       "\n",
       "    function loadScript(lib) {\n",
       "      return new Promise(function(resolve, reject) {\n",
       "        var s = document.createElement('script');\n",
       "        s.src = paths[lib];\n",
       "        s.async = true;\n",
       "        s.onload = () => resolve(paths[lib]);\n",
       "        s.onerror = () => reject(`Error loading script: ${paths[lib]}`);\n",
       "        document.getElementsByTagName(\"head\")[0].appendChild(s);\n",
       "      });\n",
       "    }\n",
       "\n",
       "    function showError(err) {\n",
       "      outputDiv.innerHTML = `<div class=\"error\" style=\"color:red;\">${err}</div>`;\n",
       "      throw err;\n",
       "    }\n",
       "\n",
       "    function displayChart(vegaEmbed) {\n",
       "      vegaEmbed(outputDiv, spec, embedOpt)\n",
       "        .catch(err => showError(`Javascript Error: ${err.message}<br>This usually means there's a typo in your chart specification. See the javascript console for the full traceback.`));\n",
       "    }\n",
       "\n",
       "    if(typeof define === \"function\" && define.amd) {\n",
       "      requirejs.config({paths});\n",
       "      require([\"vega-embed\"], displayChart, err => showError(`Error loading script: ${err.message}`));\n",
       "    } else if (typeof vegaEmbed === \"function\") {\n",
       "      displayChart(vegaEmbed);\n",
       "    } else {\n",
       "      loadScript(\"vega\")\n",
       "        .then(() => loadScript(\"vega-lite\"))\n",
       "        .then(() => loadScript(\"vega-embed\"))\n",
       "        .catch(showError)\n",
       "        .then(() => displayChart(vegaEmbed));\n",
       "    }\n",
       "  })({\"config\": {\"view\": {\"continuousWidth\": 400, \"continuousHeight\": 300}}, \"layer\": [{\"mark\": {\"type\": \"bar\", \"opacity\": 0.7}, \"encoding\": {\"opacity\": {\"type\": \"nominal\", \"field\": \"Casos confirmados diarios\", \"legend\": {\"title\": \"\"}}, \"tooltip\": [{\"type\": \"nominal\", \"field\": \"Fecha\"}, {\"type\": \"quantitative\", \"field\": \"Casos confirmados\"}], \"x\": {\"type\": \"nominal\", \"axis\": {\"title\": \"Fecha (a\\u00f1o-mes-d\\u00eda)\"}, \"field\": \"Fecha\"}, \"y\": {\"type\": \"quantitative\", \"axis\": {\"title\": \"Casos confirmados diarios\"}, \"field\": \"Casos confirmados\"}}}, {\"mark\": {\"type\": \"line\", \"color\": \"#1f77b4\", \"point\": {\"filled\": true, \"fill\": \"#1f77b4\"}}, \"encoding\": {\"shape\": {\"type\": \"nominal\", \"field\": \"Promedio m\\u00f3vil \\u00faltimos 7 d\\u00edas\", \"legend\": {\"title\": \"\"}}, \"x\": {\"type\": \"nominal\", \"axis\": {\"title\": \"Fecha (a\\u00f1o-mes-d\\u00eda)\"}, \"field\": \"Fecha\"}, \"y\": {\"type\": \"quantitative\", \"field\": \"Rolling\"}}}], \"data\": {\"name\": \"data-afd06c0d349d07daba83c5fda3c9e059\"}, \"title\": \"Covid-19 en Chile: Casos confirmados diarios en Valpara\\u00edso\", \"width\": 600, \"$schema\": \"https://vega.github.io/schema/vega-lite/v4.8.1.json\", \"datasets\": {\"data-afd06c0d349d07daba83c5fda3c9e059\": [{\"Fecha\": \"2020-03-04\", \"Casos confirmados\": 0, \"Rolling\": null, \"Casos confirmados diarios\": \"Casos confirmados diarios\", \"Promedio m\\u00f3vil \\u00faltimos 7 d\\u00edas\": \"Promedio m\\u00f3vil \\u00faltimos 7 d\\u00edas\"}, {\"Fecha\": \"2020-03-05\", \"Casos confirmados\": 0, \"Rolling\": null, \"Casos confirmados diarios\": \"Casos confirmados diarios\", \"Promedio m\\u00f3vil \\u00faltimos 7 d\\u00edas\": \"Promedio m\\u00f3vil \\u00faltimos 7 d\\u00edas\"}, {\"Fecha\": \"2020-03-06\", \"Casos confirmados\": 0, \"Rolling\": null, \"Casos confirmados diarios\": \"Casos confirmados diarios\", \"Promedio m\\u00f3vil \\u00faltimos 7 d\\u00edas\": \"Promedio m\\u00f3vil \\u00faltimos 7 d\\u00edas\"}, {\"Fecha\": \"2020-03-07\", \"Casos confirmados\": 0, \"Rolling\": null, \"Casos confirmados diarios\": \"Casos confirmados diarios\", \"Promedio m\\u00f3vil \\u00faltimos 7 d\\u00edas\": \"Promedio m\\u00f3vil \\u00faltimos 7 d\\u00edas\"}, {\"Fecha\": \"2020-03-08\", \"Casos confirmados\": 0, \"Rolling\": null, \"Casos confirmados diarios\": \"Casos confirmados diarios\", \"Promedio m\\u00f3vil \\u00faltimos 7 d\\u00edas\": \"Promedio m\\u00f3vil \\u00faltimos 7 d\\u00edas\"}, {\"Fecha\": \"2020-03-09\", \"Casos confirmados\": 0, \"Rolling\": null, \"Casos confirmados diarios\": \"Casos confirmados diarios\", \"Promedio m\\u00f3vil \\u00faltimos 7 d\\u00edas\": \"Promedio m\\u00f3vil \\u00faltimos 7 d\\u00edas\"}, {\"Fecha\": \"2020-03-10\", \"Casos confirmados\": 0, \"Rolling\": 0.0, \"Casos confirmados diarios\": \"Casos confirmados diarios\", \"Promedio m\\u00f3vil \\u00faltimos 7 d\\u00edas\": \"Promedio m\\u00f3vil \\u00faltimos 7 d\\u00edas\"}, {\"Fecha\": \"2020-03-11\", \"Casos confirmados\": 0, \"Rolling\": 0.0, \"Casos confirmados diarios\": \"Casos confirmados diarios\", \"Promedio m\\u00f3vil \\u00faltimos 7 d\\u00edas\": \"Promedio m\\u00f3vil \\u00faltimos 7 d\\u00edas\"}, {\"Fecha\": \"2020-03-12\", \"Casos confirmados\": 0, \"Rolling\": 0.0, \"Casos confirmados diarios\": \"Casos confirmados diarios\", \"Promedio m\\u00f3vil \\u00faltimos 7 d\\u00edas\": \"Promedio m\\u00f3vil \\u00faltimos 7 d\\u00edas\"}, {\"Fecha\": \"2020-03-13\", \"Casos confirmados\": 0, \"Rolling\": 0.0, \"Casos confirmados diarios\": \"Casos confirmados diarios\", \"Promedio m\\u00f3vil \\u00faltimos 7 d\\u00edas\": \"Promedio m\\u00f3vil \\u00faltimos 7 d\\u00edas\"}, {\"Fecha\": \"2020-03-14\", \"Casos confirmados\": 0, \"Rolling\": 0.0, \"Casos confirmados diarios\": \"Casos confirmados diarios\", \"Promedio m\\u00f3vil \\u00faltimos 7 d\\u00edas\": \"Promedio m\\u00f3vil \\u00faltimos 7 d\\u00edas\"}, {\"Fecha\": \"2020-03-15\", \"Casos confirmados\": 0, \"Rolling\": 0.0, \"Casos confirmados diarios\": \"Casos confirmados diarios\", \"Promedio m\\u00f3vil \\u00faltimos 7 d\\u00edas\": \"Promedio m\\u00f3vil \\u00faltimos 7 d\\u00edas\"}, {\"Fecha\": \"2020-03-16\", \"Casos confirmados\": 1, \"Rolling\": 0.14285714285714285, \"Casos confirmados diarios\": \"Casos confirmados diarios\", \"Promedio m\\u00f3vil \\u00faltimos 7 d\\u00edas\": \"Promedio m\\u00f3vil \\u00faltimos 7 d\\u00edas\"}, {\"Fecha\": \"2020-03-17\", \"Casos confirmados\": 0, \"Rolling\": 0.14285714285714285, \"Casos confirmados diarios\": \"Casos confirmados diarios\", \"Promedio m\\u00f3vil \\u00faltimos 7 d\\u00edas\": \"Promedio m\\u00f3vil \\u00faltimos 7 d\\u00edas\"}, {\"Fecha\": \"2020-03-18\", \"Casos confirmados\": 0, \"Rolling\": 0.14285714285714285, \"Casos confirmados diarios\": \"Casos confirmados diarios\", \"Promedio m\\u00f3vil \\u00faltimos 7 d\\u00edas\": \"Promedio m\\u00f3vil \\u00faltimos 7 d\\u00edas\"}, {\"Fecha\": \"2020-03-19\", \"Casos confirmados\": 3, \"Rolling\": 0.5714285714285714, \"Casos confirmados diarios\": \"Casos confirmados diarios\", \"Promedio m\\u00f3vil \\u00faltimos 7 d\\u00edas\": \"Promedio m\\u00f3vil \\u00faltimos 7 d\\u00edas\"}, {\"Fecha\": \"2020-03-20\", \"Casos confirmados\": 1, \"Rolling\": 0.7142857142857143, \"Casos confirmados diarios\": \"Casos confirmados diarios\", \"Promedio m\\u00f3vil \\u00faltimos 7 d\\u00edas\": \"Promedio m\\u00f3vil \\u00faltimos 7 d\\u00edas\"}, {\"Fecha\": \"2020-03-21\", \"Casos confirmados\": 8, \"Rolling\": 1.8571428571428572, \"Casos confirmados diarios\": \"Casos confirmados diarios\", \"Promedio m\\u00f3vil \\u00faltimos 7 d\\u00edas\": \"Promedio m\\u00f3vil \\u00faltimos 7 d\\u00edas\"}, {\"Fecha\": \"2020-03-22\", \"Casos confirmados\": 3, \"Rolling\": 2.2857142857142856, \"Casos confirmados diarios\": \"Casos confirmados diarios\", \"Promedio m\\u00f3vil \\u00faltimos 7 d\\u00edas\": \"Promedio m\\u00f3vil \\u00faltimos 7 d\\u00edas\"}, {\"Fecha\": \"2020-03-23\", \"Casos confirmados\": 3, \"Rolling\": 2.5714285714285716, \"Casos confirmados diarios\": \"Casos confirmados diarios\", \"Promedio m\\u00f3vil \\u00faltimos 7 d\\u00edas\": \"Promedio m\\u00f3vil \\u00faltimos 7 d\\u00edas\"}, {\"Fecha\": \"2020-03-24\", \"Casos confirmados\": 6, \"Rolling\": 3.4285714285714284, \"Casos confirmados diarios\": \"Casos confirmados diarios\", \"Promedio m\\u00f3vil \\u00faltimos 7 d\\u00edas\": \"Promedio m\\u00f3vil \\u00faltimos 7 d\\u00edas\"}, {\"Fecha\": \"2020-03-25\", \"Casos confirmados\": 7, \"Rolling\": 4.428571428571429, \"Casos confirmados diarios\": \"Casos confirmados diarios\", \"Promedio m\\u00f3vil \\u00faltimos 7 d\\u00edas\": \"Promedio m\\u00f3vil \\u00faltimos 7 d\\u00edas\"}, {\"Fecha\": \"2020-03-26\", \"Casos confirmados\": 12, \"Rolling\": 5.714285714285714, \"Casos confirmados diarios\": \"Casos confirmados diarios\", \"Promedio m\\u00f3vil \\u00faltimos 7 d\\u00edas\": \"Promedio m\\u00f3vil \\u00faltimos 7 d\\u00edas\"}, {\"Fecha\": \"2020-03-27\", \"Casos confirmados\": 5, \"Rolling\": 6.285714285714286, \"Casos confirmados diarios\": \"Casos confirmados diarios\", \"Promedio m\\u00f3vil \\u00faltimos 7 d\\u00edas\": \"Promedio m\\u00f3vil \\u00faltimos 7 d\\u00edas\"}, {\"Fecha\": \"2020-03-28\", \"Casos confirmados\": 22, \"Rolling\": 8.285714285714286, \"Casos confirmados diarios\": \"Casos confirmados diarios\", \"Promedio m\\u00f3vil \\u00faltimos 7 d\\u00edas\": \"Promedio m\\u00f3vil \\u00faltimos 7 d\\u00edas\"}, {\"Fecha\": \"2020-03-29\", \"Casos confirmados\": 9, \"Rolling\": 9.142857142857142, \"Casos confirmados diarios\": \"Casos confirmados diarios\", \"Promedio m\\u00f3vil \\u00faltimos 7 d\\u00edas\": \"Promedio m\\u00f3vil \\u00faltimos 7 d\\u00edas\"}, {\"Fecha\": \"2020-03-30\", \"Casos confirmados\": 28, \"Rolling\": 12.714285714285714, \"Casos confirmados diarios\": \"Casos confirmados diarios\", \"Promedio m\\u00f3vil \\u00faltimos 7 d\\u00edas\": \"Promedio m\\u00f3vil \\u00faltimos 7 d\\u00edas\"}, {\"Fecha\": \"2020-03-31\", \"Casos confirmados\": 7, \"Rolling\": 12.857142857142858, \"Casos confirmados diarios\": \"Casos confirmados diarios\", \"Promedio m\\u00f3vil \\u00faltimos 7 d\\u00edas\": \"Promedio m\\u00f3vil \\u00faltimos 7 d\\u00edas\"}, {\"Fecha\": \"2020-04-01\", \"Casos confirmados\": 21, \"Rolling\": 14.857142857142858, \"Casos confirmados diarios\": \"Casos confirmados diarios\", \"Promedio m\\u00f3vil \\u00faltimos 7 d\\u00edas\": \"Promedio m\\u00f3vil \\u00faltimos 7 d\\u00edas\"}, {\"Fecha\": \"2020-04-02\", \"Casos confirmados\": 20, \"Rolling\": 16.0, \"Casos confirmados diarios\": \"Casos confirmados diarios\", \"Promedio m\\u00f3vil \\u00faltimos 7 d\\u00edas\": \"Promedio m\\u00f3vil \\u00faltimos 7 d\\u00edas\"}, {\"Fecha\": \"2020-04-03\", \"Casos confirmados\": 20, \"Rolling\": 18.142857142857142, \"Casos confirmados diarios\": \"Casos confirmados diarios\", \"Promedio m\\u00f3vil \\u00faltimos 7 d\\u00edas\": \"Promedio m\\u00f3vil \\u00faltimos 7 d\\u00edas\"}, {\"Fecha\": \"2020-04-04\", \"Casos confirmados\": 9, \"Rolling\": 16.285714285714285, \"Casos confirmados diarios\": \"Casos confirmados diarios\", \"Promedio m\\u00f3vil \\u00faltimos 7 d\\u00edas\": \"Promedio m\\u00f3vil \\u00faltimos 7 d\\u00edas\"}, {\"Fecha\": \"2020-04-05\", \"Casos confirmados\": 6, \"Rolling\": 15.857142857142858, \"Casos confirmados diarios\": \"Casos confirmados diarios\", \"Promedio m\\u00f3vil \\u00faltimos 7 d\\u00edas\": \"Promedio m\\u00f3vil \\u00faltimos 7 d\\u00edas\"}, {\"Fecha\": \"2020-04-06\", \"Casos confirmados\": 7, \"Rolling\": 12.857142857142858, \"Casos confirmados diarios\": \"Casos confirmados diarios\", \"Promedio m\\u00f3vil \\u00faltimos 7 d\\u00edas\": \"Promedio m\\u00f3vil \\u00faltimos 7 d\\u00edas\"}, {\"Fecha\": \"2020-04-07\", \"Casos confirmados\": 16, \"Rolling\": 14.142857142857142, \"Casos confirmados diarios\": \"Casos confirmados diarios\", \"Promedio m\\u00f3vil \\u00faltimos 7 d\\u00edas\": \"Promedio m\\u00f3vil \\u00faltimos 7 d\\u00edas\"}, {\"Fecha\": \"2020-04-08\", \"Casos confirmados\": 11, \"Rolling\": 12.714285714285714, \"Casos confirmados diarios\": \"Casos confirmados diarios\", \"Promedio m\\u00f3vil \\u00faltimos 7 d\\u00edas\": \"Promedio m\\u00f3vil \\u00faltimos 7 d\\u00edas\"}, {\"Fecha\": \"2020-04-09\", \"Casos confirmados\": 5, \"Rolling\": 10.571428571428571, \"Casos confirmados diarios\": \"Casos confirmados diarios\", \"Promedio m\\u00f3vil \\u00faltimos 7 d\\u00edas\": \"Promedio m\\u00f3vil \\u00faltimos 7 d\\u00edas\"}, {\"Fecha\": \"2020-04-10\", \"Casos confirmados\": 11, \"Rolling\": 9.285714285714286, \"Casos confirmados diarios\": \"Casos confirmados diarios\", \"Promedio m\\u00f3vil \\u00faltimos 7 d\\u00edas\": \"Promedio m\\u00f3vil \\u00faltimos 7 d\\u00edas\"}, {\"Fecha\": \"2020-04-11\", \"Casos confirmados\": 7, \"Rolling\": 9.0, \"Casos confirmados diarios\": \"Casos confirmados diarios\", \"Promedio m\\u00f3vil \\u00faltimos 7 d\\u00edas\": \"Promedio m\\u00f3vil \\u00faltimos 7 d\\u00edas\"}, {\"Fecha\": \"2020-04-12\", \"Casos confirmados\": 6, \"Rolling\": 9.0, \"Casos confirmados diarios\": \"Casos confirmados diarios\", \"Promedio m\\u00f3vil \\u00faltimos 7 d\\u00edas\": \"Promedio m\\u00f3vil \\u00faltimos 7 d\\u00edas\"}, {\"Fecha\": \"2020-04-13\", \"Casos confirmados\": 19, \"Rolling\": 10.714285714285714, \"Casos confirmados diarios\": \"Casos confirmados diarios\", \"Promedio m\\u00f3vil \\u00faltimos 7 d\\u00edas\": \"Promedio m\\u00f3vil \\u00faltimos 7 d\\u00edas\"}, {\"Fecha\": \"2020-04-14\", \"Casos confirmados\": 12, \"Rolling\": 10.142857142857142, \"Casos confirmados diarios\": \"Casos confirmados diarios\", \"Promedio m\\u00f3vil \\u00faltimos 7 d\\u00edas\": \"Promedio m\\u00f3vil \\u00faltimos 7 d\\u00edas\"}, {\"Fecha\": \"2020-04-15\", \"Casos confirmados\": 14, \"Rolling\": 10.571428571428571, \"Casos confirmados diarios\": \"Casos confirmados diarios\", \"Promedio m\\u00f3vil \\u00faltimos 7 d\\u00edas\": \"Promedio m\\u00f3vil \\u00faltimos 7 d\\u00edas\"}, {\"Fecha\": \"2020-04-16\", \"Casos confirmados\": 31, \"Rolling\": 14.285714285714286, \"Casos confirmados diarios\": \"Casos confirmados diarios\", \"Promedio m\\u00f3vil \\u00faltimos 7 d\\u00edas\": \"Promedio m\\u00f3vil \\u00faltimos 7 d\\u00edas\"}, {\"Fecha\": \"2020-04-17\", \"Casos confirmados\": 15, \"Rolling\": 14.857142857142858, \"Casos confirmados diarios\": \"Casos confirmados diarios\", \"Promedio m\\u00f3vil \\u00faltimos 7 d\\u00edas\": \"Promedio m\\u00f3vil \\u00faltimos 7 d\\u00edas\"}, {\"Fecha\": \"2020-04-18\", \"Casos confirmados\": 14, \"Rolling\": 15.857142857142858, \"Casos confirmados diarios\": \"Casos confirmados diarios\", \"Promedio m\\u00f3vil \\u00faltimos 7 d\\u00edas\": \"Promedio m\\u00f3vil \\u00faltimos 7 d\\u00edas\"}, {\"Fecha\": \"2020-04-19\", \"Casos confirmados\": 22, \"Rolling\": 18.142857142857142, \"Casos confirmados diarios\": \"Casos confirmados diarios\", \"Promedio m\\u00f3vil \\u00faltimos 7 d\\u00edas\": \"Promedio m\\u00f3vil \\u00faltimos 7 d\\u00edas\"}, {\"Fecha\": \"2020-04-20\", \"Casos confirmados\": 7, \"Rolling\": 16.428571428571427, \"Casos confirmados diarios\": \"Casos confirmados diarios\", \"Promedio m\\u00f3vil \\u00faltimos 7 d\\u00edas\": \"Promedio m\\u00f3vil \\u00faltimos 7 d\\u00edas\"}, {\"Fecha\": \"2020-04-21\", \"Casos confirmados\": 15, \"Rolling\": 16.857142857142858, \"Casos confirmados diarios\": \"Casos confirmados diarios\", \"Promedio m\\u00f3vil \\u00faltimos 7 d\\u00edas\": \"Promedio m\\u00f3vil \\u00faltimos 7 d\\u00edas\"}, {\"Fecha\": \"2020-04-22\", \"Casos confirmados\": 18, \"Rolling\": 17.428571428571427, \"Casos confirmados diarios\": \"Casos confirmados diarios\", \"Promedio m\\u00f3vil \\u00faltimos 7 d\\u00edas\": \"Promedio m\\u00f3vil \\u00faltimos 7 d\\u00edas\"}, {\"Fecha\": \"2020-04-23\", \"Casos confirmados\": 8, \"Rolling\": 14.142857142857142, \"Casos confirmados diarios\": \"Casos confirmados diarios\", \"Promedio m\\u00f3vil \\u00faltimos 7 d\\u00edas\": \"Promedio m\\u00f3vil \\u00faltimos 7 d\\u00edas\"}, {\"Fecha\": \"2020-04-24\", \"Casos confirmados\": 7, \"Rolling\": 13.0, \"Casos confirmados diarios\": \"Casos confirmados diarios\", \"Promedio m\\u00f3vil \\u00faltimos 7 d\\u00edas\": \"Promedio m\\u00f3vil \\u00faltimos 7 d\\u00edas\"}, {\"Fecha\": \"2020-04-25\", \"Casos confirmados\": 18, \"Rolling\": 13.571428571428571, \"Casos confirmados diarios\": \"Casos confirmados diarios\", \"Promedio m\\u00f3vil \\u00faltimos 7 d\\u00edas\": \"Promedio m\\u00f3vil \\u00faltimos 7 d\\u00edas\"}, {\"Fecha\": \"2020-04-26\", \"Casos confirmados\": 6, \"Rolling\": 11.285714285714286, \"Casos confirmados diarios\": \"Casos confirmados diarios\", \"Promedio m\\u00f3vil \\u00faltimos 7 d\\u00edas\": \"Promedio m\\u00f3vil \\u00faltimos 7 d\\u00edas\"}]}}, {\"mode\": \"vega-lite\"});\n",
       "</script>"
      ],
      "text/plain": [
       "alt.LayerChart(...)"
      ]
     },
     "execution_count": 19,
     "metadata": {},
     "output_type": "execute_result"
    }
   ],
   "source": [
    "#hide_input\n",
    "bars, line = my_cases_plot(region)\n",
    "(bars + line).properties(\n",
    "    title=f'Covid-19 en Chile: Casos confirmados diarios en {region}',\n",
    "    width=600\n",
    ")"
   ]
  },
  {
   "cell_type": "markdown",
   "metadata": {},
   "source": [
    "## Metropolitana"
   ]
  },
  {
   "cell_type": "code",
   "execution_count": 20,
   "metadata": {},
   "outputs": [],
   "source": [
    "#hide\n",
    "region = \"Metropolitana\""
   ]
  },
  {
   "cell_type": "code",
   "execution_count": 21,
   "metadata": {},
   "outputs": [
    {
     "data": {
      "text/html": [
       "\n",
       "<div id=\"altair-viz-da36d21094e542e29ae69e3c2e516f6c\"></div>\n",
       "<script type=\"text/javascript\">\n",
       "  (function(spec, embedOpt){\n",
       "    let outputDiv = document.currentScript.previousElementSibling;\n",
       "    if (outputDiv.id !== \"altair-viz-da36d21094e542e29ae69e3c2e516f6c\") {\n",
       "      outputDiv = document.getElementById(\"altair-viz-da36d21094e542e29ae69e3c2e516f6c\");\n",
       "    }\n",
       "    const paths = {\n",
       "      \"vega\": \"https://cdn.jsdelivr.net/npm//vega@5?noext\",\n",
       "      \"vega-lib\": \"https://cdn.jsdelivr.net/npm//vega-lib?noext\",\n",
       "      \"vega-lite\": \"https://cdn.jsdelivr.net/npm//vega-lite@4.8.1?noext\",\n",
       "      \"vega-embed\": \"https://cdn.jsdelivr.net/npm//vega-embed@6?noext\",\n",
       "    };\n",
       "\n",
       "    function loadScript(lib) {\n",
       "      return new Promise(function(resolve, reject) {\n",
       "        var s = document.createElement('script');\n",
       "        s.src = paths[lib];\n",
       "        s.async = true;\n",
       "        s.onload = () => resolve(paths[lib]);\n",
       "        s.onerror = () => reject(`Error loading script: ${paths[lib]}`);\n",
       "        document.getElementsByTagName(\"head\")[0].appendChild(s);\n",
       "      });\n",
       "    }\n",
       "\n",
       "    function showError(err) {\n",
       "      outputDiv.innerHTML = `<div class=\"error\" style=\"color:red;\">${err}</div>`;\n",
       "      throw err;\n",
       "    }\n",
       "\n",
       "    function displayChart(vegaEmbed) {\n",
       "      vegaEmbed(outputDiv, spec, embedOpt)\n",
       "        .catch(err => showError(`Javascript Error: ${err.message}<br>This usually means there's a typo in your chart specification. See the javascript console for the full traceback.`));\n",
       "    }\n",
       "\n",
       "    if(typeof define === \"function\" && define.amd) {\n",
       "      requirejs.config({paths});\n",
       "      require([\"vega-embed\"], displayChart, err => showError(`Error loading script: ${err.message}`));\n",
       "    } else if (typeof vegaEmbed === \"function\") {\n",
       "      displayChart(vegaEmbed);\n",
       "    } else {\n",
       "      loadScript(\"vega\")\n",
       "        .then(() => loadScript(\"vega-lite\"))\n",
       "        .then(() => loadScript(\"vega-embed\"))\n",
       "        .catch(showError)\n",
       "        .then(() => displayChart(vegaEmbed));\n",
       "    }\n",
       "  })({\"config\": {\"view\": {\"continuousWidth\": 400, \"continuousHeight\": 300}}, \"layer\": [{\"mark\": {\"type\": \"bar\", \"opacity\": 0.7}, \"encoding\": {\"opacity\": {\"type\": \"nominal\", \"field\": \"Casos confirmados diarios\", \"legend\": {\"title\": \"\"}}, \"tooltip\": [{\"type\": \"nominal\", \"field\": \"Fecha\"}, {\"type\": \"quantitative\", \"field\": \"Casos confirmados\"}], \"x\": {\"type\": \"nominal\", \"axis\": {\"title\": \"Fecha (a\\u00f1o-mes-d\\u00eda)\"}, \"field\": \"Fecha\"}, \"y\": {\"type\": \"quantitative\", \"axis\": {\"title\": \"Casos confirmados diarios\"}, \"field\": \"Casos confirmados\"}}}, {\"mark\": {\"type\": \"line\", \"color\": \"#1f77b4\", \"point\": {\"filled\": true, \"fill\": \"#1f77b4\"}}, \"encoding\": {\"shape\": {\"type\": \"nominal\", \"field\": \"Promedio m\\u00f3vil \\u00faltimos 7 d\\u00edas\", \"legend\": {\"title\": \"\"}}, \"x\": {\"type\": \"nominal\", \"axis\": {\"title\": \"Fecha (a\\u00f1o-mes-d\\u00eda)\"}, \"field\": \"Fecha\"}, \"y\": {\"type\": \"quantitative\", \"field\": \"Rolling\"}}}], \"data\": {\"name\": \"data-bfa67db6d0614dd757e492357618941c\"}, \"title\": \"Covid-19 en Chile: Casos confirmados diarios en Metropolitana\", \"width\": 600, \"$schema\": \"https://vega.github.io/schema/vega-lite/v4.8.1.json\", \"datasets\": {\"data-bfa67db6d0614dd757e492357618941c\": [{\"Fecha\": \"2020-03-04\", \"Casos confirmados\": 1, \"Rolling\": null, \"Casos confirmados diarios\": \"Casos confirmados diarios\", \"Promedio m\\u00f3vil \\u00faltimos 7 d\\u00edas\": \"Promedio m\\u00f3vil \\u00faltimos 7 d\\u00edas\"}, {\"Fecha\": \"2020-03-05\", \"Casos confirmados\": 1, \"Rolling\": null, \"Casos confirmados diarios\": \"Casos confirmados diarios\", \"Promedio m\\u00f3vil \\u00faltimos 7 d\\u00edas\": \"Promedio m\\u00f3vil \\u00faltimos 7 d\\u00edas\"}, {\"Fecha\": \"2020-03-06\", \"Casos confirmados\": 1, \"Rolling\": null, \"Casos confirmados diarios\": \"Casos confirmados diarios\", \"Promedio m\\u00f3vil \\u00faltimos 7 d\\u00edas\": \"Promedio m\\u00f3vil \\u00faltimos 7 d\\u00edas\"}, {\"Fecha\": \"2020-03-07\", \"Casos confirmados\": 1, \"Rolling\": null, \"Casos confirmados diarios\": \"Casos confirmados diarios\", \"Promedio m\\u00f3vil \\u00faltimos 7 d\\u00edas\": \"Promedio m\\u00f3vil \\u00faltimos 7 d\\u00edas\"}, {\"Fecha\": \"2020-03-08\", \"Casos confirmados\": 2, \"Rolling\": null, \"Casos confirmados diarios\": \"Casos confirmados diarios\", \"Promedio m\\u00f3vil \\u00faltimos 7 d\\u00edas\": \"Promedio m\\u00f3vil \\u00faltimos 7 d\\u00edas\"}, {\"Fecha\": \"2020-03-09\", \"Casos confirmados\": 3, \"Rolling\": null, \"Casos confirmados diarios\": \"Casos confirmados diarios\", \"Promedio m\\u00f3vil \\u00faltimos 7 d\\u00edas\": \"Promedio m\\u00f3vil \\u00faltimos 7 d\\u00edas\"}, {\"Fecha\": \"2020-03-10\", \"Casos confirmados\": 1, \"Rolling\": 1.4285714285714286, \"Casos confirmados diarios\": \"Casos confirmados diarios\", \"Promedio m\\u00f3vil \\u00faltimos 7 d\\u00edas\": \"Promedio m\\u00f3vil \\u00faltimos 7 d\\u00edas\"}, {\"Fecha\": \"2020-03-11\", \"Casos confirmados\": 4, \"Rolling\": 1.8571428571428572, \"Casos confirmados diarios\": \"Casos confirmados diarios\", \"Promedio m\\u00f3vil \\u00faltimos 7 d\\u00edas\": \"Promedio m\\u00f3vil \\u00faltimos 7 d\\u00edas\"}, {\"Fecha\": \"2020-03-12\", \"Casos confirmados\": 9, \"Rolling\": 3.0, \"Casos confirmados diarios\": \"Casos confirmados diarios\", \"Promedio m\\u00f3vil \\u00faltimos 7 d\\u00edas\": \"Promedio m\\u00f3vil \\u00faltimos 7 d\\u00edas\"}, {\"Fecha\": \"2020-03-13\", \"Casos confirmados\": 6, \"Rolling\": 3.7142857142857144, \"Casos confirmados diarios\": \"Casos confirmados diarios\", \"Promedio m\\u00f3vil \\u00faltimos 7 d\\u00edas\": \"Promedio m\\u00f3vil \\u00faltimos 7 d\\u00edas\"}, {\"Fecha\": \"2020-03-14\", \"Casos confirmados\": 11, \"Rolling\": 5.142857142857143, \"Casos confirmados diarios\": \"Casos confirmados diarios\", \"Promedio m\\u00f3vil \\u00faltimos 7 d\\u00edas\": \"Promedio m\\u00f3vil \\u00faltimos 7 d\\u00edas\"}, {\"Fecha\": \"2020-03-15\", \"Casos confirmados\": 14, \"Rolling\": 6.857142857142857, \"Casos confirmados diarios\": \"Casos confirmados diarios\", \"Promedio m\\u00f3vil \\u00faltimos 7 d\\u00edas\": \"Promedio m\\u00f3vil \\u00faltimos 7 d\\u00edas\"}, {\"Fecha\": \"2020-03-16\", \"Casos confirmados\": 69, \"Rolling\": 16.285714285714285, \"Casos confirmados diarios\": \"Casos confirmados diarios\", \"Promedio m\\u00f3vil \\u00faltimos 7 d\\u00edas\": \"Promedio m\\u00f3vil \\u00faltimos 7 d\\u00edas\"}, {\"Fecha\": \"2020-03-17\", \"Casos confirmados\": 29, \"Rolling\": 20.285714285714285, \"Casos confirmados diarios\": \"Casos confirmados diarios\", \"Promedio m\\u00f3vil \\u00faltimos 7 d\\u00edas\": \"Promedio m\\u00f3vil \\u00faltimos 7 d\\u00edas\"}, {\"Fecha\": \"2020-03-18\", \"Casos confirmados\": 22, \"Rolling\": 22.857142857142858, \"Casos confirmados diarios\": \"Casos confirmados diarios\", \"Promedio m\\u00f3vil \\u00faltimos 7 d\\u00edas\": \"Promedio m\\u00f3vil \\u00faltimos 7 d\\u00edas\"}, {\"Fecha\": \"2020-03-19\", \"Casos confirmados\": 73, \"Rolling\": 32.0, \"Casos confirmados diarios\": \"Casos confirmados diarios\", \"Promedio m\\u00f3vil \\u00faltimos 7 d\\u00edas\": \"Promedio m\\u00f3vil \\u00faltimos 7 d\\u00edas\"}, {\"Fecha\": \"2020-03-20\", \"Casos confirmados\": 57, \"Rolling\": 39.285714285714285, \"Casos confirmados diarios\": \"Casos confirmados diarios\", \"Promedio m\\u00f3vil \\u00faltimos 7 d\\u00edas\": \"Promedio m\\u00f3vil \\u00faltimos 7 d\\u00edas\"}, {\"Fecha\": \"2020-03-21\", \"Casos confirmados\": 55, \"Rolling\": 45.57142857142857, \"Casos confirmados diarios\": \"Casos confirmados diarios\", \"Promedio m\\u00f3vil \\u00faltimos 7 d\\u00edas\": \"Promedio m\\u00f3vil \\u00faltimos 7 d\\u00edas\"}, {\"Fecha\": \"2020-03-22\", \"Casos confirmados\": 50, \"Rolling\": 50.714285714285715, \"Casos confirmados diarios\": \"Casos confirmados diarios\", \"Promedio m\\u00f3vil \\u00faltimos 7 d\\u00edas\": \"Promedio m\\u00f3vil \\u00faltimos 7 d\\u00edas\"}, {\"Fecha\": \"2020-03-23\", \"Casos confirmados\": 50, \"Rolling\": 48.0, \"Casos confirmados diarios\": \"Casos confirmados diarios\", \"Promedio m\\u00f3vil \\u00faltimos 7 d\\u00edas\": \"Promedio m\\u00f3vil \\u00faltimos 7 d\\u00edas\"}, {\"Fecha\": \"2020-03-24\", \"Casos confirmados\": 81, \"Rolling\": 55.42857142857143, \"Casos confirmados diarios\": \"Casos confirmados diarios\", \"Promedio m\\u00f3vil \\u00faltimos 7 d\\u00edas\": \"Promedio m\\u00f3vil \\u00faltimos 7 d\\u00edas\"}, {\"Fecha\": \"2020-03-25\", \"Casos confirmados\": 142, \"Rolling\": 72.57142857142857, \"Casos confirmados diarios\": \"Casos confirmados diarios\", \"Promedio m\\u00f3vil \\u00faltimos 7 d\\u00edas\": \"Promedio m\\u00f3vil \\u00faltimos 7 d\\u00edas\"}, {\"Fecha\": \"2020-03-26\", \"Casos confirmados\": 64, \"Rolling\": 71.28571428571429, \"Casos confirmados diarios\": \"Casos confirmados diarios\", \"Promedio m\\u00f3vil \\u00faltimos 7 d\\u00edas\": \"Promedio m\\u00f3vil \\u00faltimos 7 d\\u00edas\"}, {\"Fecha\": \"2020-03-27\", \"Casos confirmados\": 192, \"Rolling\": 90.57142857142857, \"Casos confirmados diarios\": \"Casos confirmados diarios\", \"Promedio m\\u00f3vil \\u00faltimos 7 d\\u00edas\": \"Promedio m\\u00f3vil \\u00faltimos 7 d\\u00edas\"}, {\"Fecha\": \"2020-03-28\", \"Casos confirmados\": 146, \"Rolling\": 103.57142857142857, \"Casos confirmados diarios\": \"Casos confirmados diarios\", \"Promedio m\\u00f3vil \\u00faltimos 7 d\\u00edas\": \"Promedio m\\u00f3vil \\u00faltimos 7 d\\u00edas\"}, {\"Fecha\": \"2020-03-29\", \"Casos confirmados\": 83, \"Rolling\": 108.28571428571429, \"Casos confirmados diarios\": \"Casos confirmados diarios\", \"Promedio m\\u00f3vil \\u00faltimos 7 d\\u00edas\": \"Promedio m\\u00f3vil \\u00faltimos 7 d\\u00edas\"}, {\"Fecha\": \"2020-03-30\", \"Casos confirmados\": 128, \"Rolling\": 119.42857142857143, \"Casos confirmados diarios\": \"Casos confirmados diarios\", \"Promedio m\\u00f3vil \\u00faltimos 7 d\\u00edas\": \"Promedio m\\u00f3vil \\u00faltimos 7 d\\u00edas\"}, {\"Fecha\": \"2020-03-31\", \"Casos confirmados\": 125, \"Rolling\": 125.71428571428571, \"Casos confirmados diarios\": \"Casos confirmados diarios\", \"Promedio m\\u00f3vil \\u00faltimos 7 d\\u00edas\": \"Promedio m\\u00f3vil \\u00faltimos 7 d\\u00edas\"}, {\"Fecha\": \"2020-04-01\", \"Casos confirmados\": 101, \"Rolling\": 119.85714285714286, \"Casos confirmados diarios\": \"Casos confirmados diarios\", \"Promedio m\\u00f3vil \\u00faltimos 7 d\\u00edas\": \"Promedio m\\u00f3vil \\u00faltimos 7 d\\u00edas\"}, {\"Fecha\": \"2020-04-02\", \"Casos confirmados\": 115, \"Rolling\": 127.14285714285714, \"Casos confirmados diarios\": \"Casos confirmados diarios\", \"Promedio m\\u00f3vil \\u00faltimos 7 d\\u00edas\": \"Promedio m\\u00f3vil \\u00faltimos 7 d\\u00edas\"}, {\"Fecha\": \"2020-04-03\", \"Casos confirmados\": 106, \"Rolling\": 114.85714285714286, \"Casos confirmados diarios\": \"Casos confirmados diarios\", \"Promedio m\\u00f3vil \\u00faltimos 7 d\\u00edas\": \"Promedio m\\u00f3vil \\u00faltimos 7 d\\u00edas\"}, {\"Fecha\": \"2020-04-04\", \"Casos confirmados\": 215, \"Rolling\": 124.71428571428571, \"Casos confirmados diarios\": \"Casos confirmados diarios\", \"Promedio m\\u00f3vil \\u00faltimos 7 d\\u00edas\": \"Promedio m\\u00f3vil \\u00faltimos 7 d\\u00edas\"}, {\"Fecha\": \"2020-04-05\", \"Casos confirmados\": 145, \"Rolling\": 133.57142857142858, \"Casos confirmados diarios\": \"Casos confirmados diarios\", \"Promedio m\\u00f3vil \\u00faltimos 7 d\\u00edas\": \"Promedio m\\u00f3vil \\u00faltimos 7 d\\u00edas\"}, {\"Fecha\": \"2020-04-06\", \"Casos confirmados\": 142, \"Rolling\": 135.57142857142858, \"Casos confirmados diarios\": \"Casos confirmados diarios\", \"Promedio m\\u00f3vil \\u00faltimos 7 d\\u00edas\": \"Promedio m\\u00f3vil \\u00faltimos 7 d\\u00edas\"}, {\"Fecha\": \"2020-04-07\", \"Casos confirmados\": 106, \"Rolling\": 132.85714285714286, \"Casos confirmados diarios\": \"Casos confirmados diarios\", \"Promedio m\\u00f3vil \\u00faltimos 7 d\\u00edas\": \"Promedio m\\u00f3vil \\u00faltimos 7 d\\u00edas\"}, {\"Fecha\": \"2020-04-08\", \"Casos confirmados\": 198, \"Rolling\": 146.71428571428572, \"Casos confirmados diarios\": \"Casos confirmados diarios\", \"Promedio m\\u00f3vil \\u00faltimos 7 d\\u00edas\": \"Promedio m\\u00f3vil \\u00faltimos 7 d\\u00edas\"}, {\"Fecha\": \"2020-04-09\", \"Casos confirmados\": 284, \"Rolling\": 170.85714285714286, \"Casos confirmados diarios\": \"Casos confirmados diarios\", \"Promedio m\\u00f3vil \\u00faltimos 7 d\\u00edas\": \"Promedio m\\u00f3vil \\u00faltimos 7 d\\u00edas\"}, {\"Fecha\": \"2020-04-10\", \"Casos confirmados\": 361, \"Rolling\": 207.28571428571428, \"Casos confirmados diarios\": \"Casos confirmados diarios\", \"Promedio m\\u00f3vil \\u00faltimos 7 d\\u00edas\": \"Promedio m\\u00f3vil \\u00faltimos 7 d\\u00edas\"}, {\"Fecha\": \"2020-04-11\", \"Casos confirmados\": 255, \"Rolling\": 213.0, \"Casos confirmados diarios\": \"Casos confirmados diarios\", \"Promedio m\\u00f3vil \\u00faltimos 7 d\\u00edas\": \"Promedio m\\u00f3vil \\u00faltimos 7 d\\u00edas\"}, {\"Fecha\": \"2020-04-12\", \"Casos confirmados\": 151, \"Rolling\": 213.85714285714286, \"Casos confirmados diarios\": \"Casos confirmados diarios\", \"Promedio m\\u00f3vil \\u00faltimos 7 d\\u00edas\": \"Promedio m\\u00f3vil \\u00faltimos 7 d\\u00edas\"}, {\"Fecha\": \"2020-04-13\", \"Casos confirmados\": 204, \"Rolling\": 222.71428571428572, \"Casos confirmados diarios\": \"Casos confirmados diarios\", \"Promedio m\\u00f3vil \\u00faltimos 7 d\\u00edas\": \"Promedio m\\u00f3vil \\u00faltimos 7 d\\u00edas\"}, {\"Fecha\": \"2020-04-14\", \"Casos confirmados\": 283, \"Rolling\": 248.0, \"Casos confirmados diarios\": \"Casos confirmados diarios\", \"Promedio m\\u00f3vil \\u00faltimos 7 d\\u00edas\": \"Promedio m\\u00f3vil \\u00faltimos 7 d\\u00edas\"}, {\"Fecha\": \"2020-04-15\", \"Casos confirmados\": 248, \"Rolling\": 255.14285714285714, \"Casos confirmados diarios\": \"Casos confirmados diarios\", \"Promedio m\\u00f3vil \\u00faltimos 7 d\\u00edas\": \"Promedio m\\u00f3vil \\u00faltimos 7 d\\u00edas\"}, {\"Fecha\": \"2020-04-16\", \"Casos confirmados\": 348, \"Rolling\": 264.2857142857143, \"Casos confirmados diarios\": \"Casos confirmados diarios\", \"Promedio m\\u00f3vil \\u00faltimos 7 d\\u00edas\": \"Promedio m\\u00f3vil \\u00faltimos 7 d\\u00edas\"}, {\"Fecha\": \"2020-04-17\", \"Casos confirmados\": 233, \"Rolling\": 246.0, \"Casos confirmados diarios\": \"Casos confirmados diarios\", \"Promedio m\\u00f3vil \\u00faltimos 7 d\\u00edas\": \"Promedio m\\u00f3vil \\u00faltimos 7 d\\u00edas\"}, {\"Fecha\": \"2020-04-18\", \"Casos confirmados\": 277, \"Rolling\": 249.14285714285714, \"Casos confirmados diarios\": \"Casos confirmados diarios\", \"Promedio m\\u00f3vil \\u00faltimos 7 d\\u00edas\": \"Promedio m\\u00f3vil \\u00faltimos 7 d\\u00edas\"}, {\"Fecha\": \"2020-04-19\", \"Casos confirmados\": 189, \"Rolling\": 254.57142857142858, \"Casos confirmados diarios\": \"Casos confirmados diarios\", \"Promedio m\\u00f3vil \\u00faltimos 7 d\\u00edas\": \"Promedio m\\u00f3vil \\u00faltimos 7 d\\u00edas\"}, {\"Fecha\": \"2020-04-20\", \"Casos confirmados\": 262, \"Rolling\": 262.85714285714283, \"Casos confirmados diarios\": \"Casos confirmados diarios\", \"Promedio m\\u00f3vil \\u00faltimos 7 d\\u00edas\": \"Promedio m\\u00f3vil \\u00faltimos 7 d\\u00edas\"}, {\"Fecha\": \"2020-04-21\", \"Casos confirmados\": 145, \"Rolling\": 243.14285714285714, \"Casos confirmados diarios\": \"Casos confirmados diarios\", \"Promedio m\\u00f3vil \\u00faltimos 7 d\\u00edas\": \"Promedio m\\u00f3vil \\u00faltimos 7 d\\u00edas\"}, {\"Fecha\": \"2020-04-22\", \"Casos confirmados\": 295, \"Rolling\": 249.85714285714286, \"Casos confirmados diarios\": \"Casos confirmados diarios\", \"Promedio m\\u00f3vil \\u00faltimos 7 d\\u00edas\": \"Promedio m\\u00f3vil \\u00faltimos 7 d\\u00edas\"}, {\"Fecha\": \"2020-04-23\", \"Casos confirmados\": 351, \"Rolling\": 250.28571428571428, \"Casos confirmados diarios\": \"Casos confirmados diarios\", \"Promedio m\\u00f3vil \\u00faltimos 7 d\\u00edas\": \"Promedio m\\u00f3vil \\u00faltimos 7 d\\u00edas\"}, {\"Fecha\": \"2020-04-24\", \"Casos confirmados\": 327, \"Rolling\": 263.7142857142857, \"Casos confirmados diarios\": \"Casos confirmados diarios\", \"Promedio m\\u00f3vil \\u00faltimos 7 d\\u00edas\": \"Promedio m\\u00f3vil \\u00faltimos 7 d\\u00edas\"}, {\"Fecha\": \"2020-04-25\", \"Casos confirmados\": 404, \"Rolling\": 281.85714285714283, \"Casos confirmados diarios\": \"Casos confirmados diarios\", \"Promedio m\\u00f3vil \\u00faltimos 7 d\\u00edas\": \"Promedio m\\u00f3vil \\u00faltimos 7 d\\u00edas\"}, {\"Fecha\": \"2020-04-26\", \"Casos confirmados\": 331, \"Rolling\": 302.14285714285717, \"Casos confirmados diarios\": \"Casos confirmados diarios\", \"Promedio m\\u00f3vil \\u00faltimos 7 d\\u00edas\": \"Promedio m\\u00f3vil \\u00faltimos 7 d\\u00edas\"}]}}, {\"mode\": \"vega-lite\"});\n",
       "</script>"
      ],
      "text/plain": [
       "alt.LayerChart(...)"
      ]
     },
     "execution_count": 21,
     "metadata": {},
     "output_type": "execute_result"
    }
   ],
   "source": [
    "#hide_input\n",
    "bars, line = my_cases_plot(region)\n",
    "(bars + line).properties(\n",
    "    title=f'Covid-19 en Chile: Casos confirmados diarios en {region}',\n",
    "    width=600\n",
    ")"
   ]
  },
  {
   "cell_type": "markdown",
   "metadata": {},
   "source": [
    "## O'Higgins"
   ]
  },
  {
   "cell_type": "code",
   "execution_count": 22,
   "metadata": {
    "scrolled": true
   },
   "outputs": [],
   "source": [
    "#hide\n",
    "region = \"O’Higgins\""
   ]
  },
  {
   "cell_type": "code",
   "execution_count": 23,
   "metadata": {},
   "outputs": [
    {
     "data": {
      "text/html": [
       "\n",
       "<div id=\"altair-viz-eb51e46f55f3408c877e42462e01b688\"></div>\n",
       "<script type=\"text/javascript\">\n",
       "  (function(spec, embedOpt){\n",
       "    let outputDiv = document.currentScript.previousElementSibling;\n",
       "    if (outputDiv.id !== \"altair-viz-eb51e46f55f3408c877e42462e01b688\") {\n",
       "      outputDiv = document.getElementById(\"altair-viz-eb51e46f55f3408c877e42462e01b688\");\n",
       "    }\n",
       "    const paths = {\n",
       "      \"vega\": \"https://cdn.jsdelivr.net/npm//vega@5?noext\",\n",
       "      \"vega-lib\": \"https://cdn.jsdelivr.net/npm//vega-lib?noext\",\n",
       "      \"vega-lite\": \"https://cdn.jsdelivr.net/npm//vega-lite@4.8.1?noext\",\n",
       "      \"vega-embed\": \"https://cdn.jsdelivr.net/npm//vega-embed@6?noext\",\n",
       "    };\n",
       "\n",
       "    function loadScript(lib) {\n",
       "      return new Promise(function(resolve, reject) {\n",
       "        var s = document.createElement('script');\n",
       "        s.src = paths[lib];\n",
       "        s.async = true;\n",
       "        s.onload = () => resolve(paths[lib]);\n",
       "        s.onerror = () => reject(`Error loading script: ${paths[lib]}`);\n",
       "        document.getElementsByTagName(\"head\")[0].appendChild(s);\n",
       "      });\n",
       "    }\n",
       "\n",
       "    function showError(err) {\n",
       "      outputDiv.innerHTML = `<div class=\"error\" style=\"color:red;\">${err}</div>`;\n",
       "      throw err;\n",
       "    }\n",
       "\n",
       "    function displayChart(vegaEmbed) {\n",
       "      vegaEmbed(outputDiv, spec, embedOpt)\n",
       "        .catch(err => showError(`Javascript Error: ${err.message}<br>This usually means there's a typo in your chart specification. See the javascript console for the full traceback.`));\n",
       "    }\n",
       "\n",
       "    if(typeof define === \"function\" && define.amd) {\n",
       "      requirejs.config({paths});\n",
       "      require([\"vega-embed\"], displayChart, err => showError(`Error loading script: ${err.message}`));\n",
       "    } else if (typeof vegaEmbed === \"function\") {\n",
       "      displayChart(vegaEmbed);\n",
       "    } else {\n",
       "      loadScript(\"vega\")\n",
       "        .then(() => loadScript(\"vega-lite\"))\n",
       "        .then(() => loadScript(\"vega-embed\"))\n",
       "        .catch(showError)\n",
       "        .then(() => displayChart(vegaEmbed));\n",
       "    }\n",
       "  })({\"config\": {\"view\": {\"continuousWidth\": 400, \"continuousHeight\": 300}}, \"layer\": [{\"mark\": {\"type\": \"bar\", \"opacity\": 0.7}, \"encoding\": {\"opacity\": {\"type\": \"nominal\", \"field\": \"Casos confirmados diarios\", \"legend\": {\"title\": \"\"}}, \"tooltip\": [{\"type\": \"nominal\", \"field\": \"Fecha\"}, {\"type\": \"quantitative\", \"field\": \"Casos confirmados\"}], \"x\": {\"type\": \"nominal\", \"axis\": {\"title\": \"Fecha (a\\u00f1o-mes-d\\u00eda)\"}, \"field\": \"Fecha\"}, \"y\": {\"type\": \"quantitative\", \"axis\": {\"title\": \"Casos confirmados diarios\"}, \"field\": \"Casos confirmados\"}}}, {\"mark\": {\"type\": \"line\", \"color\": \"#1f77b4\", \"point\": {\"filled\": true, \"fill\": \"#1f77b4\"}}, \"encoding\": {\"shape\": {\"type\": \"nominal\", \"field\": \"Promedio m\\u00f3vil \\u00faltimos 7 d\\u00edas\", \"legend\": {\"title\": \"\"}}, \"x\": {\"type\": \"nominal\", \"axis\": {\"title\": \"Fecha (a\\u00f1o-mes-d\\u00eda)\"}, \"field\": \"Fecha\"}, \"y\": {\"type\": \"quantitative\", \"field\": \"Rolling\"}}}], \"data\": {\"name\": \"data-318820630fe6e01865f5864a3ecead11\"}, \"title\": \"Covid-19 en Chile: Casos confirmados diarios en O\\u2019Higgins\", \"width\": 600, \"$schema\": \"https://vega.github.io/schema/vega-lite/v4.8.1.json\", \"datasets\": {\"data-318820630fe6e01865f5864a3ecead11\": [{\"Fecha\": \"2020-03-04\", \"Casos confirmados\": 0, \"Rolling\": null, \"Casos confirmados diarios\": \"Casos confirmados diarios\", \"Promedio m\\u00f3vil \\u00faltimos 7 d\\u00edas\": \"Promedio m\\u00f3vil \\u00faltimos 7 d\\u00edas\"}, {\"Fecha\": \"2020-03-05\", \"Casos confirmados\": 0, \"Rolling\": null, \"Casos confirmados diarios\": \"Casos confirmados diarios\", \"Promedio m\\u00f3vil \\u00faltimos 7 d\\u00edas\": \"Promedio m\\u00f3vil \\u00faltimos 7 d\\u00edas\"}, {\"Fecha\": \"2020-03-06\", \"Casos confirmados\": 0, \"Rolling\": null, \"Casos confirmados diarios\": \"Casos confirmados diarios\", \"Promedio m\\u00f3vil \\u00faltimos 7 d\\u00edas\": \"Promedio m\\u00f3vil \\u00faltimos 7 d\\u00edas\"}, {\"Fecha\": \"2020-03-07\", \"Casos confirmados\": 0, \"Rolling\": null, \"Casos confirmados diarios\": \"Casos confirmados diarios\", \"Promedio m\\u00f3vil \\u00faltimos 7 d\\u00edas\": \"Promedio m\\u00f3vil \\u00faltimos 7 d\\u00edas\"}, {\"Fecha\": \"2020-03-08\", \"Casos confirmados\": 0, \"Rolling\": null, \"Casos confirmados diarios\": \"Casos confirmados diarios\", \"Promedio m\\u00f3vil \\u00faltimos 7 d\\u00edas\": \"Promedio m\\u00f3vil \\u00faltimos 7 d\\u00edas\"}, {\"Fecha\": \"2020-03-09\", \"Casos confirmados\": 0, \"Rolling\": null, \"Casos confirmados diarios\": \"Casos confirmados diarios\", \"Promedio m\\u00f3vil \\u00faltimos 7 d\\u00edas\": \"Promedio m\\u00f3vil \\u00faltimos 7 d\\u00edas\"}, {\"Fecha\": \"2020-03-10\", \"Casos confirmados\": 0, \"Rolling\": 0.0, \"Casos confirmados diarios\": \"Casos confirmados diarios\", \"Promedio m\\u00f3vil \\u00faltimos 7 d\\u00edas\": \"Promedio m\\u00f3vil \\u00faltimos 7 d\\u00edas\"}, {\"Fecha\": \"2020-03-11\", \"Casos confirmados\": 0, \"Rolling\": 0.0, \"Casos confirmados diarios\": \"Casos confirmados diarios\", \"Promedio m\\u00f3vil \\u00faltimos 7 d\\u00edas\": \"Promedio m\\u00f3vil \\u00faltimos 7 d\\u00edas\"}, {\"Fecha\": \"2020-03-12\", \"Casos confirmados\": 0, \"Rolling\": 0.0, \"Casos confirmados diarios\": \"Casos confirmados diarios\", \"Promedio m\\u00f3vil \\u00faltimos 7 d\\u00edas\": \"Promedio m\\u00f3vil \\u00faltimos 7 d\\u00edas\"}, {\"Fecha\": \"2020-03-13\", \"Casos confirmados\": 0, \"Rolling\": 0.0, \"Casos confirmados diarios\": \"Casos confirmados diarios\", \"Promedio m\\u00f3vil \\u00faltimos 7 d\\u00edas\": \"Promedio m\\u00f3vil \\u00faltimos 7 d\\u00edas\"}, {\"Fecha\": \"2020-03-14\", \"Casos confirmados\": 0, \"Rolling\": 0.0, \"Casos confirmados diarios\": \"Casos confirmados diarios\", \"Promedio m\\u00f3vil \\u00faltimos 7 d\\u00edas\": \"Promedio m\\u00f3vil \\u00faltimos 7 d\\u00edas\"}, {\"Fecha\": \"2020-03-15\", \"Casos confirmados\": 0, \"Rolling\": 0.0, \"Casos confirmados diarios\": \"Casos confirmados diarios\", \"Promedio m\\u00f3vil \\u00faltimos 7 d\\u00edas\": \"Promedio m\\u00f3vil \\u00faltimos 7 d\\u00edas\"}, {\"Fecha\": \"2020-03-16\", \"Casos confirmados\": 0, \"Rolling\": 0.0, \"Casos confirmados diarios\": \"Casos confirmados diarios\", \"Promedio m\\u00f3vil \\u00faltimos 7 d\\u00edas\": \"Promedio m\\u00f3vil \\u00faltimos 7 d\\u00edas\"}, {\"Fecha\": \"2020-03-17\", \"Casos confirmados\": 0, \"Rolling\": 0.0, \"Casos confirmados diarios\": \"Casos confirmados diarios\", \"Promedio m\\u00f3vil \\u00faltimos 7 d\\u00edas\": \"Promedio m\\u00f3vil \\u00faltimos 7 d\\u00edas\"}, {\"Fecha\": \"2020-03-18\", \"Casos confirmados\": 0, \"Rolling\": 0.0, \"Casos confirmados diarios\": \"Casos confirmados diarios\", \"Promedio m\\u00f3vil \\u00faltimos 7 d\\u00edas\": \"Promedio m\\u00f3vil \\u00faltimos 7 d\\u00edas\"}, {\"Fecha\": \"2020-03-19\", \"Casos confirmados\": 2, \"Rolling\": 0.2857142857142857, \"Casos confirmados diarios\": \"Casos confirmados diarios\", \"Promedio m\\u00f3vil \\u00faltimos 7 d\\u00edas\": \"Promedio m\\u00f3vil \\u00faltimos 7 d\\u00edas\"}, {\"Fecha\": \"2020-03-20\", \"Casos confirmados\": 4, \"Rolling\": 0.8571428571428571, \"Casos confirmados diarios\": \"Casos confirmados diarios\", \"Promedio m\\u00f3vil \\u00faltimos 7 d\\u00edas\": \"Promedio m\\u00f3vil \\u00faltimos 7 d\\u00edas\"}, {\"Fecha\": \"2020-03-21\", \"Casos confirmados\": 1, \"Rolling\": 1.0, \"Casos confirmados diarios\": \"Casos confirmados diarios\", \"Promedio m\\u00f3vil \\u00faltimos 7 d\\u00edas\": \"Promedio m\\u00f3vil \\u00faltimos 7 d\\u00edas\"}, {\"Fecha\": \"2020-03-22\", \"Casos confirmados\": 1, \"Rolling\": 1.1428571428571428, \"Casos confirmados diarios\": \"Casos confirmados diarios\", \"Promedio m\\u00f3vil \\u00faltimos 7 d\\u00edas\": \"Promedio m\\u00f3vil \\u00faltimos 7 d\\u00edas\"}, {\"Fecha\": \"2020-03-23\", \"Casos confirmados\": 0, \"Rolling\": 1.1428571428571428, \"Casos confirmados diarios\": \"Casos confirmados diarios\", \"Promedio m\\u00f3vil \\u00faltimos 7 d\\u00edas\": \"Promedio m\\u00f3vil \\u00faltimos 7 d\\u00edas\"}, {\"Fecha\": \"2020-03-24\", \"Casos confirmados\": 1, \"Rolling\": 1.2857142857142858, \"Casos confirmados diarios\": \"Casos confirmados diarios\", \"Promedio m\\u00f3vil \\u00faltimos 7 d\\u00edas\": \"Promedio m\\u00f3vil \\u00faltimos 7 d\\u00edas\"}, {\"Fecha\": \"2020-03-25\", \"Casos confirmados\": 2, \"Rolling\": 1.5714285714285714, \"Casos confirmados diarios\": \"Casos confirmados diarios\", \"Promedio m\\u00f3vil \\u00faltimos 7 d\\u00edas\": \"Promedio m\\u00f3vil \\u00faltimos 7 d\\u00edas\"}, {\"Fecha\": \"2020-03-26\", \"Casos confirmados\": 3, \"Rolling\": 1.7142857142857142, \"Casos confirmados diarios\": \"Casos confirmados diarios\", \"Promedio m\\u00f3vil \\u00faltimos 7 d\\u00edas\": \"Promedio m\\u00f3vil \\u00faltimos 7 d\\u00edas\"}, {\"Fecha\": \"2020-03-27\", \"Casos confirmados\": 2, \"Rolling\": 1.4285714285714286, \"Casos confirmados diarios\": \"Casos confirmados diarios\", \"Promedio m\\u00f3vil \\u00faltimos 7 d\\u00edas\": \"Promedio m\\u00f3vil \\u00faltimos 7 d\\u00edas\"}, {\"Fecha\": \"2020-03-28\", \"Casos confirmados\": 4, \"Rolling\": 1.8571428571428572, \"Casos confirmados diarios\": \"Casos confirmados diarios\", \"Promedio m\\u00f3vil \\u00faltimos 7 d\\u00edas\": \"Promedio m\\u00f3vil \\u00faltimos 7 d\\u00edas\"}, {\"Fecha\": \"2020-03-29\", \"Casos confirmados\": 1, \"Rolling\": 1.8571428571428572, \"Casos confirmados diarios\": \"Casos confirmados diarios\", \"Promedio m\\u00f3vil \\u00faltimos 7 d\\u00edas\": \"Promedio m\\u00f3vil \\u00faltimos 7 d\\u00edas\"}, {\"Fecha\": \"2020-03-30\", \"Casos confirmados\": 0, \"Rolling\": 1.8571428571428572, \"Casos confirmados diarios\": \"Casos confirmados diarios\", \"Promedio m\\u00f3vil \\u00faltimos 7 d\\u00edas\": \"Promedio m\\u00f3vil \\u00faltimos 7 d\\u00edas\"}, {\"Fecha\": \"2020-03-31\", \"Casos confirmados\": 2, \"Rolling\": 2.0, \"Casos confirmados diarios\": \"Casos confirmados diarios\", \"Promedio m\\u00f3vil \\u00faltimos 7 d\\u00edas\": \"Promedio m\\u00f3vil \\u00faltimos 7 d\\u00edas\"}, {\"Fecha\": \"2020-04-01\", \"Casos confirmados\": 3, \"Rolling\": 2.142857142857143, \"Casos confirmados diarios\": \"Casos confirmados diarios\", \"Promedio m\\u00f3vil \\u00faltimos 7 d\\u00edas\": \"Promedio m\\u00f3vil \\u00faltimos 7 d\\u00edas\"}, {\"Fecha\": \"2020-04-02\", \"Casos confirmados\": 6, \"Rolling\": 2.5714285714285716, \"Casos confirmados diarios\": \"Casos confirmados diarios\", \"Promedio m\\u00f3vil \\u00faltimos 7 d\\u00edas\": \"Promedio m\\u00f3vil \\u00faltimos 7 d\\u00edas\"}, {\"Fecha\": \"2020-04-03\", \"Casos confirmados\": 1, \"Rolling\": 2.4285714285714284, \"Casos confirmados diarios\": \"Casos confirmados diarios\", \"Promedio m\\u00f3vil \\u00faltimos 7 d\\u00edas\": \"Promedio m\\u00f3vil \\u00faltimos 7 d\\u00edas\"}, {\"Fecha\": \"2020-04-04\", \"Casos confirmados\": 5, \"Rolling\": 2.5714285714285716, \"Casos confirmados diarios\": \"Casos confirmados diarios\", \"Promedio m\\u00f3vil \\u00faltimos 7 d\\u00edas\": \"Promedio m\\u00f3vil \\u00faltimos 7 d\\u00edas\"}, {\"Fecha\": \"2020-04-05\", \"Casos confirmados\": 3, \"Rolling\": 2.857142857142857, \"Casos confirmados diarios\": \"Casos confirmados diarios\", \"Promedio m\\u00f3vil \\u00faltimos 7 d\\u00edas\": \"Promedio m\\u00f3vil \\u00faltimos 7 d\\u00edas\"}, {\"Fecha\": \"2020-04-06\", \"Casos confirmados\": 1, \"Rolling\": 3.0, \"Casos confirmados diarios\": \"Casos confirmados diarios\", \"Promedio m\\u00f3vil \\u00faltimos 7 d\\u00edas\": \"Promedio m\\u00f3vil \\u00faltimos 7 d\\u00edas\"}, {\"Fecha\": \"2020-04-07\", \"Casos confirmados\": 0, \"Rolling\": 2.7142857142857144, \"Casos confirmados diarios\": \"Casos confirmados diarios\", \"Promedio m\\u00f3vil \\u00faltimos 7 d\\u00edas\": \"Promedio m\\u00f3vil \\u00faltimos 7 d\\u00edas\"}, {\"Fecha\": \"2020-04-08\", \"Casos confirmados\": 1, \"Rolling\": 2.4285714285714284, \"Casos confirmados diarios\": \"Casos confirmados diarios\", \"Promedio m\\u00f3vil \\u00faltimos 7 d\\u00edas\": \"Promedio m\\u00f3vil \\u00faltimos 7 d\\u00edas\"}, {\"Fecha\": \"2020-04-09\", \"Casos confirmados\": 1, \"Rolling\": 1.7142857142857142, \"Casos confirmados diarios\": \"Casos confirmados diarios\", \"Promedio m\\u00f3vil \\u00faltimos 7 d\\u00edas\": \"Promedio m\\u00f3vil \\u00faltimos 7 d\\u00edas\"}, {\"Fecha\": \"2020-04-10\", \"Casos confirmados\": 0, \"Rolling\": 1.5714285714285714, \"Casos confirmados diarios\": \"Casos confirmados diarios\", \"Promedio m\\u00f3vil \\u00faltimos 7 d\\u00edas\": \"Promedio m\\u00f3vil \\u00faltimos 7 d\\u00edas\"}, {\"Fecha\": \"2020-04-11\", \"Casos confirmados\": 1, \"Rolling\": 1.0, \"Casos confirmados diarios\": \"Casos confirmados diarios\", \"Promedio m\\u00f3vil \\u00faltimos 7 d\\u00edas\": \"Promedio m\\u00f3vil \\u00faltimos 7 d\\u00edas\"}, {\"Fecha\": \"2020-04-12\", \"Casos confirmados\": 1, \"Rolling\": 0.7142857142857143, \"Casos confirmados diarios\": \"Casos confirmados diarios\", \"Promedio m\\u00f3vil \\u00faltimos 7 d\\u00edas\": \"Promedio m\\u00f3vil \\u00faltimos 7 d\\u00edas\"}, {\"Fecha\": \"2020-04-13\", \"Casos confirmados\": 2, \"Rolling\": 0.8571428571428571, \"Casos confirmados diarios\": \"Casos confirmados diarios\", \"Promedio m\\u00f3vil \\u00faltimos 7 d\\u00edas\": \"Promedio m\\u00f3vil \\u00faltimos 7 d\\u00edas\"}, {\"Fecha\": \"2020-04-14\", \"Casos confirmados\": 5, \"Rolling\": 1.5714285714285714, \"Casos confirmados diarios\": \"Casos confirmados diarios\", \"Promedio m\\u00f3vil \\u00faltimos 7 d\\u00edas\": \"Promedio m\\u00f3vil \\u00faltimos 7 d\\u00edas\"}, {\"Fecha\": \"2020-04-15\", \"Casos confirmados\": 1, \"Rolling\": 1.5714285714285714, \"Casos confirmados diarios\": \"Casos confirmados diarios\", \"Promedio m\\u00f3vil \\u00faltimos 7 d\\u00edas\": \"Promedio m\\u00f3vil \\u00faltimos 7 d\\u00edas\"}, {\"Fecha\": \"2020-04-16\", \"Casos confirmados\": 0, \"Rolling\": 1.4285714285714286, \"Casos confirmados diarios\": \"Casos confirmados diarios\", \"Promedio m\\u00f3vil \\u00faltimos 7 d\\u00edas\": \"Promedio m\\u00f3vil \\u00faltimos 7 d\\u00edas\"}, {\"Fecha\": \"2020-04-17\", \"Casos confirmados\": 1, \"Rolling\": 1.5714285714285714, \"Casos confirmados diarios\": \"Casos confirmados diarios\", \"Promedio m\\u00f3vil \\u00faltimos 7 d\\u00edas\": \"Promedio m\\u00f3vil \\u00faltimos 7 d\\u00edas\"}, {\"Fecha\": \"2020-04-18\", \"Casos confirmados\": 0, \"Rolling\": 1.4285714285714286, \"Casos confirmados diarios\": \"Casos confirmados diarios\", \"Promedio m\\u00f3vil \\u00faltimos 7 d\\u00edas\": \"Promedio m\\u00f3vil \\u00faltimos 7 d\\u00edas\"}, {\"Fecha\": \"2020-04-19\", \"Casos confirmados\": 0, \"Rolling\": 1.2857142857142858, \"Casos confirmados diarios\": \"Casos confirmados diarios\", \"Promedio m\\u00f3vil \\u00faltimos 7 d\\u00edas\": \"Promedio m\\u00f3vil \\u00faltimos 7 d\\u00edas\"}, {\"Fecha\": \"2020-04-20\", \"Casos confirmados\": 1, \"Rolling\": 1.1428571428571428, \"Casos confirmados diarios\": \"Casos confirmados diarios\", \"Promedio m\\u00f3vil \\u00faltimos 7 d\\u00edas\": \"Promedio m\\u00f3vil \\u00faltimos 7 d\\u00edas\"}, {\"Fecha\": \"2020-04-21\", \"Casos confirmados\": 1, \"Rolling\": 0.5714285714285714, \"Casos confirmados diarios\": \"Casos confirmados diarios\", \"Promedio m\\u00f3vil \\u00faltimos 7 d\\u00edas\": \"Promedio m\\u00f3vil \\u00faltimos 7 d\\u00edas\"}, {\"Fecha\": \"2020-04-22\", \"Casos confirmados\": 2, \"Rolling\": 0.7142857142857143, \"Casos confirmados diarios\": \"Casos confirmados diarios\", \"Promedio m\\u00f3vil \\u00faltimos 7 d\\u00edas\": \"Promedio m\\u00f3vil \\u00faltimos 7 d\\u00edas\"}, {\"Fecha\": \"2020-04-23\", \"Casos confirmados\": 17, \"Rolling\": 3.142857142857143, \"Casos confirmados diarios\": \"Casos confirmados diarios\", \"Promedio m\\u00f3vil \\u00faltimos 7 d\\u00edas\": \"Promedio m\\u00f3vil \\u00faltimos 7 d\\u00edas\"}, {\"Fecha\": \"2020-04-24\", \"Casos confirmados\": 5, \"Rolling\": 3.7142857142857144, \"Casos confirmados diarios\": \"Casos confirmados diarios\", \"Promedio m\\u00f3vil \\u00faltimos 7 d\\u00edas\": \"Promedio m\\u00f3vil \\u00faltimos 7 d\\u00edas\"}, {\"Fecha\": \"2020-04-25\", \"Casos confirmados\": 4, \"Rolling\": 4.285714285714286, \"Casos confirmados diarios\": \"Casos confirmados diarios\", \"Promedio m\\u00f3vil \\u00faltimos 7 d\\u00edas\": \"Promedio m\\u00f3vil \\u00faltimos 7 d\\u00edas\"}, {\"Fecha\": \"2020-04-26\", \"Casos confirmados\": 7, \"Rolling\": 5.285714285714286, \"Casos confirmados diarios\": \"Casos confirmados diarios\", \"Promedio m\\u00f3vil \\u00faltimos 7 d\\u00edas\": \"Promedio m\\u00f3vil \\u00faltimos 7 d\\u00edas\"}]}}, {\"mode\": \"vega-lite\"});\n",
       "</script>"
      ],
      "text/plain": [
       "alt.LayerChart(...)"
      ]
     },
     "execution_count": 23,
     "metadata": {},
     "output_type": "execute_result"
    }
   ],
   "source": [
    "#hide_input\n",
    "bars, line = my_cases_plot(region)\n",
    "(bars + line).properties(\n",
    "    title=f'Covid-19 en Chile: Casos confirmados diarios en {region}',\n",
    "    width=600\n",
    ")"
   ]
  },
  {
   "cell_type": "markdown",
   "metadata": {},
   "source": [
    "## Maule"
   ]
  },
  {
   "cell_type": "code",
   "execution_count": 24,
   "metadata": {
    "scrolled": true
   },
   "outputs": [],
   "source": [
    "#hide\n",
    "region = \"Maule\""
   ]
  },
  {
   "cell_type": "code",
   "execution_count": 25,
   "metadata": {},
   "outputs": [
    {
     "data": {
      "text/html": [
       "\n",
       "<div id=\"altair-viz-34925e5efbe246f990517ef9c45d8f6f\"></div>\n",
       "<script type=\"text/javascript\">\n",
       "  (function(spec, embedOpt){\n",
       "    let outputDiv = document.currentScript.previousElementSibling;\n",
       "    if (outputDiv.id !== \"altair-viz-34925e5efbe246f990517ef9c45d8f6f\") {\n",
       "      outputDiv = document.getElementById(\"altair-viz-34925e5efbe246f990517ef9c45d8f6f\");\n",
       "    }\n",
       "    const paths = {\n",
       "      \"vega\": \"https://cdn.jsdelivr.net/npm//vega@5?noext\",\n",
       "      \"vega-lib\": \"https://cdn.jsdelivr.net/npm//vega-lib?noext\",\n",
       "      \"vega-lite\": \"https://cdn.jsdelivr.net/npm//vega-lite@4.8.1?noext\",\n",
       "      \"vega-embed\": \"https://cdn.jsdelivr.net/npm//vega-embed@6?noext\",\n",
       "    };\n",
       "\n",
       "    function loadScript(lib) {\n",
       "      return new Promise(function(resolve, reject) {\n",
       "        var s = document.createElement('script');\n",
       "        s.src = paths[lib];\n",
       "        s.async = true;\n",
       "        s.onload = () => resolve(paths[lib]);\n",
       "        s.onerror = () => reject(`Error loading script: ${paths[lib]}`);\n",
       "        document.getElementsByTagName(\"head\")[0].appendChild(s);\n",
       "      });\n",
       "    }\n",
       "\n",
       "    function showError(err) {\n",
       "      outputDiv.innerHTML = `<div class=\"error\" style=\"color:red;\">${err}</div>`;\n",
       "      throw err;\n",
       "    }\n",
       "\n",
       "    function displayChart(vegaEmbed) {\n",
       "      vegaEmbed(outputDiv, spec, embedOpt)\n",
       "        .catch(err => showError(`Javascript Error: ${err.message}<br>This usually means there's a typo in your chart specification. See the javascript console for the full traceback.`));\n",
       "    }\n",
       "\n",
       "    if(typeof define === \"function\" && define.amd) {\n",
       "      requirejs.config({paths});\n",
       "      require([\"vega-embed\"], displayChart, err => showError(`Error loading script: ${err.message}`));\n",
       "    } else if (typeof vegaEmbed === \"function\") {\n",
       "      displayChart(vegaEmbed);\n",
       "    } else {\n",
       "      loadScript(\"vega\")\n",
       "        .then(() => loadScript(\"vega-lite\"))\n",
       "        .then(() => loadScript(\"vega-embed\"))\n",
       "        .catch(showError)\n",
       "        .then(() => displayChart(vegaEmbed));\n",
       "    }\n",
       "  })({\"config\": {\"view\": {\"continuousWidth\": 400, \"continuousHeight\": 300}}, \"layer\": [{\"mark\": {\"type\": \"bar\", \"opacity\": 0.7}, \"encoding\": {\"opacity\": {\"type\": \"nominal\", \"field\": \"Casos confirmados diarios\", \"legend\": {\"title\": \"\"}}, \"tooltip\": [{\"type\": \"nominal\", \"field\": \"Fecha\"}, {\"type\": \"quantitative\", \"field\": \"Casos confirmados\"}], \"x\": {\"type\": \"nominal\", \"axis\": {\"title\": \"Fecha (a\\u00f1o-mes-d\\u00eda)\"}, \"field\": \"Fecha\"}, \"y\": {\"type\": \"quantitative\", \"axis\": {\"title\": \"Casos confirmados diarios\"}, \"field\": \"Casos confirmados\"}}}, {\"mark\": {\"type\": \"line\", \"color\": \"#1f77b4\", \"point\": {\"filled\": true, \"fill\": \"#1f77b4\"}}, \"encoding\": {\"shape\": {\"type\": \"nominal\", \"field\": \"Promedio m\\u00f3vil \\u00faltimos 7 d\\u00edas\", \"legend\": {\"title\": \"\"}}, \"x\": {\"type\": \"nominal\", \"axis\": {\"title\": \"Fecha (a\\u00f1o-mes-d\\u00eda)\"}, \"field\": \"Fecha\"}, \"y\": {\"type\": \"quantitative\", \"field\": \"Rolling\"}}}], \"data\": {\"name\": \"data-43ef3c5426804cc97b6d61cb23946686\"}, \"title\": \"Covid-19 en Chile: Casos confirmados diarios en Maule\", \"width\": 600, \"$schema\": \"https://vega.github.io/schema/vega-lite/v4.8.1.json\", \"datasets\": {\"data-43ef3c5426804cc97b6d61cb23946686\": [{\"Fecha\": \"2020-03-04\", \"Casos confirmados\": 1, \"Rolling\": null, \"Casos confirmados diarios\": \"Casos confirmados diarios\", \"Promedio m\\u00f3vil \\u00faltimos 7 d\\u00edas\": \"Promedio m\\u00f3vil \\u00faltimos 7 d\\u00edas\"}, {\"Fecha\": \"2020-03-05\", \"Casos confirmados\": 0, \"Rolling\": null, \"Casos confirmados diarios\": \"Casos confirmados diarios\", \"Promedio m\\u00f3vil \\u00faltimos 7 d\\u00edas\": \"Promedio m\\u00f3vil \\u00faltimos 7 d\\u00edas\"}, {\"Fecha\": \"2020-03-06\", \"Casos confirmados\": 0, \"Rolling\": null, \"Casos confirmados diarios\": \"Casos confirmados diarios\", \"Promedio m\\u00f3vil \\u00faltimos 7 d\\u00edas\": \"Promedio m\\u00f3vil \\u00faltimos 7 d\\u00edas\"}, {\"Fecha\": \"2020-03-07\", \"Casos confirmados\": 0, \"Rolling\": null, \"Casos confirmados diarios\": \"Casos confirmados diarios\", \"Promedio m\\u00f3vil \\u00faltimos 7 d\\u00edas\": \"Promedio m\\u00f3vil \\u00faltimos 7 d\\u00edas\"}, {\"Fecha\": \"2020-03-08\", \"Casos confirmados\": 1, \"Rolling\": null, \"Casos confirmados diarios\": \"Casos confirmados diarios\", \"Promedio m\\u00f3vil \\u00faltimos 7 d\\u00edas\": \"Promedio m\\u00f3vil \\u00faltimos 7 d\\u00edas\"}, {\"Fecha\": \"2020-03-09\", \"Casos confirmados\": 1, \"Rolling\": null, \"Casos confirmados diarios\": \"Casos confirmados diarios\", \"Promedio m\\u00f3vil \\u00faltimos 7 d\\u00edas\": \"Promedio m\\u00f3vil \\u00faltimos 7 d\\u00edas\"}, {\"Fecha\": \"2020-03-10\", \"Casos confirmados\": 1, \"Rolling\": 0.5714285714285714, \"Casos confirmados diarios\": \"Casos confirmados diarios\", \"Promedio m\\u00f3vil \\u00faltimos 7 d\\u00edas\": \"Promedio m\\u00f3vil \\u00faltimos 7 d\\u00edas\"}, {\"Fecha\": \"2020-03-11\", \"Casos confirmados\": 2, \"Rolling\": 0.7142857142857143, \"Casos confirmados diarios\": \"Casos confirmados diarios\", \"Promedio m\\u00f3vil \\u00faltimos 7 d\\u00edas\": \"Promedio m\\u00f3vil \\u00faltimos 7 d\\u00edas\"}, {\"Fecha\": \"2020-03-12\", \"Casos confirmados\": 0, \"Rolling\": 0.7142857142857143, \"Casos confirmados diarios\": \"Casos confirmados diarios\", \"Promedio m\\u00f3vil \\u00faltimos 7 d\\u00edas\": \"Promedio m\\u00f3vil \\u00faltimos 7 d\\u00edas\"}, {\"Fecha\": \"2020-03-13\", \"Casos confirmados\": 1, \"Rolling\": 0.8571428571428571, \"Casos confirmados diarios\": \"Casos confirmados diarios\", \"Promedio m\\u00f3vil \\u00faltimos 7 d\\u00edas\": \"Promedio m\\u00f3vil \\u00faltimos 7 d\\u00edas\"}, {\"Fecha\": \"2020-03-14\", \"Casos confirmados\": 1, \"Rolling\": 1.0, \"Casos confirmados diarios\": \"Casos confirmados diarios\", \"Promedio m\\u00f3vil \\u00faltimos 7 d\\u00edas\": \"Promedio m\\u00f3vil \\u00faltimos 7 d\\u00edas\"}, {\"Fecha\": \"2020-03-15\", \"Casos confirmados\": 0, \"Rolling\": 0.8571428571428571, \"Casos confirmados diarios\": \"Casos confirmados diarios\", \"Promedio m\\u00f3vil \\u00faltimos 7 d\\u00edas\": \"Promedio m\\u00f3vil \\u00faltimos 7 d\\u00edas\"}, {\"Fecha\": \"2020-03-16\", \"Casos confirmados\": 0, \"Rolling\": 0.7142857142857143, \"Casos confirmados diarios\": \"Casos confirmados diarios\", \"Promedio m\\u00f3vil \\u00faltimos 7 d\\u00edas\": \"Promedio m\\u00f3vil \\u00faltimos 7 d\\u00edas\"}, {\"Fecha\": \"2020-03-17\", \"Casos confirmados\": 0, \"Rolling\": 0.5714285714285714, \"Casos confirmados diarios\": \"Casos confirmados diarios\", \"Promedio m\\u00f3vil \\u00faltimos 7 d\\u00edas\": \"Promedio m\\u00f3vil \\u00faltimos 7 d\\u00edas\"}, {\"Fecha\": \"2020-03-18\", \"Casos confirmados\": 2, \"Rolling\": 0.5714285714285714, \"Casos confirmados diarios\": \"Casos confirmados diarios\", \"Promedio m\\u00f3vil \\u00faltimos 7 d\\u00edas\": \"Promedio m\\u00f3vil \\u00faltimos 7 d\\u00edas\"}, {\"Fecha\": \"2020-03-19\", \"Casos confirmados\": 3, \"Rolling\": 1.0, \"Casos confirmados diarios\": \"Casos confirmados diarios\", \"Promedio m\\u00f3vil \\u00faltimos 7 d\\u00edas\": \"Promedio m\\u00f3vil \\u00faltimos 7 d\\u00edas\"}, {\"Fecha\": \"2020-03-20\", \"Casos confirmados\": 0, \"Rolling\": 0.8571428571428571, \"Casos confirmados diarios\": \"Casos confirmados diarios\", \"Promedio m\\u00f3vil \\u00faltimos 7 d\\u00edas\": \"Promedio m\\u00f3vil \\u00faltimos 7 d\\u00edas\"}, {\"Fecha\": \"2020-03-21\", \"Casos confirmados\": 1, \"Rolling\": 0.8571428571428571, \"Casos confirmados diarios\": \"Casos confirmados diarios\", \"Promedio m\\u00f3vil \\u00faltimos 7 d\\u00edas\": \"Promedio m\\u00f3vil \\u00faltimos 7 d\\u00edas\"}, {\"Fecha\": \"2020-03-22\", \"Casos confirmados\": 10, \"Rolling\": 2.2857142857142856, \"Casos confirmados diarios\": \"Casos confirmados diarios\", \"Promedio m\\u00f3vil \\u00faltimos 7 d\\u00edas\": \"Promedio m\\u00f3vil \\u00faltimos 7 d\\u00edas\"}, {\"Fecha\": \"2020-03-23\", \"Casos confirmados\": 3, \"Rolling\": 2.7142857142857144, \"Casos confirmados diarios\": \"Casos confirmados diarios\", \"Promedio m\\u00f3vil \\u00faltimos 7 d\\u00edas\": \"Promedio m\\u00f3vil \\u00faltimos 7 d\\u00edas\"}, {\"Fecha\": \"2020-03-24\", \"Casos confirmados\": 1, \"Rolling\": 2.857142857142857, \"Casos confirmados diarios\": \"Casos confirmados diarios\", \"Promedio m\\u00f3vil \\u00faltimos 7 d\\u00edas\": \"Promedio m\\u00f3vil \\u00faltimos 7 d\\u00edas\"}, {\"Fecha\": \"2020-03-25\", \"Casos confirmados\": 1, \"Rolling\": 2.7142857142857144, \"Casos confirmados diarios\": \"Casos confirmados diarios\", \"Promedio m\\u00f3vil \\u00faltimos 7 d\\u00edas\": \"Promedio m\\u00f3vil \\u00faltimos 7 d\\u00edas\"}, {\"Fecha\": \"2020-03-26\", \"Casos confirmados\": 1, \"Rolling\": 2.4285714285714284, \"Casos confirmados diarios\": \"Casos confirmados diarios\", \"Promedio m\\u00f3vil \\u00faltimos 7 d\\u00edas\": \"Promedio m\\u00f3vil \\u00faltimos 7 d\\u00edas\"}, {\"Fecha\": \"2020-03-27\", \"Casos confirmados\": 1, \"Rolling\": 2.5714285714285716, \"Casos confirmados diarios\": \"Casos confirmados diarios\", \"Promedio m\\u00f3vil \\u00faltimos 7 d\\u00edas\": \"Promedio m\\u00f3vil \\u00faltimos 7 d\\u00edas\"}, {\"Fecha\": \"2020-03-28\", \"Casos confirmados\": 5, \"Rolling\": 3.142857142857143, \"Casos confirmados diarios\": \"Casos confirmados diarios\", \"Promedio m\\u00f3vil \\u00faltimos 7 d\\u00edas\": \"Promedio m\\u00f3vil \\u00faltimos 7 d\\u00edas\"}, {\"Fecha\": \"2020-03-29\", \"Casos confirmados\": 5, \"Rolling\": 2.4285714285714284, \"Casos confirmados diarios\": \"Casos confirmados diarios\", \"Promedio m\\u00f3vil \\u00faltimos 7 d\\u00edas\": \"Promedio m\\u00f3vil \\u00faltimos 7 d\\u00edas\"}, {\"Fecha\": \"2020-03-30\", \"Casos confirmados\": 12, \"Rolling\": 3.7142857142857144, \"Casos confirmados diarios\": \"Casos confirmados diarios\", \"Promedio m\\u00f3vil \\u00faltimos 7 d\\u00edas\": \"Promedio m\\u00f3vil \\u00faltimos 7 d\\u00edas\"}, {\"Fecha\": \"2020-03-31\", \"Casos confirmados\": 8, \"Rolling\": 4.714285714285714, \"Casos confirmados diarios\": \"Casos confirmados diarios\", \"Promedio m\\u00f3vil \\u00faltimos 7 d\\u00edas\": \"Promedio m\\u00f3vil \\u00faltimos 7 d\\u00edas\"}, {\"Fecha\": \"2020-04-01\", \"Casos confirmados\": 9, \"Rolling\": 5.857142857142857, \"Casos confirmados diarios\": \"Casos confirmados diarios\", \"Promedio m\\u00f3vil \\u00faltimos 7 d\\u00edas\": \"Promedio m\\u00f3vil \\u00faltimos 7 d\\u00edas\"}, {\"Fecha\": \"2020-04-02\", \"Casos confirmados\": 11, \"Rolling\": 7.285714285714286, \"Casos confirmados diarios\": \"Casos confirmados diarios\", \"Promedio m\\u00f3vil \\u00faltimos 7 d\\u00edas\": \"Promedio m\\u00f3vil \\u00faltimos 7 d\\u00edas\"}, {\"Fecha\": \"2020-04-03\", \"Casos confirmados\": 7, \"Rolling\": 8.142857142857142, \"Casos confirmados diarios\": \"Casos confirmados diarios\", \"Promedio m\\u00f3vil \\u00faltimos 7 d\\u00edas\": \"Promedio m\\u00f3vil \\u00faltimos 7 d\\u00edas\"}, {\"Fecha\": \"2020-04-04\", \"Casos confirmados\": 8, \"Rolling\": 8.571428571428571, \"Casos confirmados diarios\": \"Casos confirmados diarios\", \"Promedio m\\u00f3vil \\u00faltimos 7 d\\u00edas\": \"Promedio m\\u00f3vil \\u00faltimos 7 d\\u00edas\"}, {\"Fecha\": \"2020-04-05\", \"Casos confirmados\": 6, \"Rolling\": 8.714285714285714, \"Casos confirmados diarios\": \"Casos confirmados diarios\", \"Promedio m\\u00f3vil \\u00faltimos 7 d\\u00edas\": \"Promedio m\\u00f3vil \\u00faltimos 7 d\\u00edas\"}, {\"Fecha\": \"2020-04-06\", \"Casos confirmados\": 5, \"Rolling\": 7.714285714285714, \"Casos confirmados diarios\": \"Casos confirmados diarios\", \"Promedio m\\u00f3vil \\u00faltimos 7 d\\u00edas\": \"Promedio m\\u00f3vil \\u00faltimos 7 d\\u00edas\"}, {\"Fecha\": \"2020-04-07\", \"Casos confirmados\": 0, \"Rolling\": 6.571428571428571, \"Casos confirmados diarios\": \"Casos confirmados diarios\", \"Promedio m\\u00f3vil \\u00faltimos 7 d\\u00edas\": \"Promedio m\\u00f3vil \\u00faltimos 7 d\\u00edas\"}, {\"Fecha\": \"2020-04-08\", \"Casos confirmados\": 11, \"Rolling\": 6.857142857142857, \"Casos confirmados diarios\": \"Casos confirmados diarios\", \"Promedio m\\u00f3vil \\u00faltimos 7 d\\u00edas\": \"Promedio m\\u00f3vil \\u00faltimos 7 d\\u00edas\"}, {\"Fecha\": \"2020-04-09\", \"Casos confirmados\": 9, \"Rolling\": 6.571428571428571, \"Casos confirmados diarios\": \"Casos confirmados diarios\", \"Promedio m\\u00f3vil \\u00faltimos 7 d\\u00edas\": \"Promedio m\\u00f3vil \\u00faltimos 7 d\\u00edas\"}, {\"Fecha\": \"2020-04-10\", \"Casos confirmados\": 3, \"Rolling\": 6.0, \"Casos confirmados diarios\": \"Casos confirmados diarios\", \"Promedio m\\u00f3vil \\u00faltimos 7 d\\u00edas\": \"Promedio m\\u00f3vil \\u00faltimos 7 d\\u00edas\"}, {\"Fecha\": \"2020-04-11\", \"Casos confirmados\": 3, \"Rolling\": 5.285714285714286, \"Casos confirmados diarios\": \"Casos confirmados diarios\", \"Promedio m\\u00f3vil \\u00faltimos 7 d\\u00edas\": \"Promedio m\\u00f3vil \\u00faltimos 7 d\\u00edas\"}, {\"Fecha\": \"2020-04-12\", \"Casos confirmados\": 4, \"Rolling\": 5.0, \"Casos confirmados diarios\": \"Casos confirmados diarios\", \"Promedio m\\u00f3vil \\u00faltimos 7 d\\u00edas\": \"Promedio m\\u00f3vil \\u00faltimos 7 d\\u00edas\"}, {\"Fecha\": \"2020-04-13\", \"Casos confirmados\": 3, \"Rolling\": 4.714285714285714, \"Casos confirmados diarios\": \"Casos confirmados diarios\", \"Promedio m\\u00f3vil \\u00faltimos 7 d\\u00edas\": \"Promedio m\\u00f3vil \\u00faltimos 7 d\\u00edas\"}, {\"Fecha\": \"2020-04-14\", \"Casos confirmados\": 1, \"Rolling\": 4.857142857142857, \"Casos confirmados diarios\": \"Casos confirmados diarios\", \"Promedio m\\u00f3vil \\u00faltimos 7 d\\u00edas\": \"Promedio m\\u00f3vil \\u00faltimos 7 d\\u00edas\"}, {\"Fecha\": \"2020-04-15\", \"Casos confirmados\": 10, \"Rolling\": 4.714285714285714, \"Casos confirmados diarios\": \"Casos confirmados diarios\", \"Promedio m\\u00f3vil \\u00faltimos 7 d\\u00edas\": \"Promedio m\\u00f3vil \\u00faltimos 7 d\\u00edas\"}, {\"Fecha\": \"2020-04-16\", \"Casos confirmados\": 15, \"Rolling\": 5.571428571428571, \"Casos confirmados diarios\": \"Casos confirmados diarios\", \"Promedio m\\u00f3vil \\u00faltimos 7 d\\u00edas\": \"Promedio m\\u00f3vil \\u00faltimos 7 d\\u00edas\"}, {\"Fecha\": \"2020-04-17\", \"Casos confirmados\": 56, \"Rolling\": 13.142857142857142, \"Casos confirmados diarios\": \"Casos confirmados diarios\", \"Promedio m\\u00f3vil \\u00faltimos 7 d\\u00edas\": \"Promedio m\\u00f3vil \\u00faltimos 7 d\\u00edas\"}, {\"Fecha\": \"2020-04-18\", \"Casos confirmados\": 53, \"Rolling\": 20.285714285714285, \"Casos confirmados diarios\": \"Casos confirmados diarios\", \"Promedio m\\u00f3vil \\u00faltimos 7 d\\u00edas\": \"Promedio m\\u00f3vil \\u00faltimos 7 d\\u00edas\"}, {\"Fecha\": \"2020-04-19\", \"Casos confirmados\": 26, \"Rolling\": 23.428571428571427, \"Casos confirmados diarios\": \"Casos confirmados diarios\", \"Promedio m\\u00f3vil \\u00faltimos 7 d\\u00edas\": \"Promedio m\\u00f3vil \\u00faltimos 7 d\\u00edas\"}, {\"Fecha\": \"2020-04-20\", \"Casos confirmados\": 2, \"Rolling\": 23.285714285714285, \"Casos confirmados diarios\": \"Casos confirmados diarios\", \"Promedio m\\u00f3vil \\u00faltimos 7 d\\u00edas\": \"Promedio m\\u00f3vil \\u00faltimos 7 d\\u00edas\"}, {\"Fecha\": \"2020-04-21\", \"Casos confirmados\": 12, \"Rolling\": 24.857142857142858, \"Casos confirmados diarios\": \"Casos confirmados diarios\", \"Promedio m\\u00f3vil \\u00faltimos 7 d\\u00edas\": \"Promedio m\\u00f3vil \\u00faltimos 7 d\\u00edas\"}, {\"Fecha\": \"2020-04-22\", \"Casos confirmados\": 12, \"Rolling\": 25.142857142857142, \"Casos confirmados diarios\": \"Casos confirmados diarios\", \"Promedio m\\u00f3vil \\u00faltimos 7 d\\u00edas\": \"Promedio m\\u00f3vil \\u00faltimos 7 d\\u00edas\"}, {\"Fecha\": \"2020-04-23\", \"Casos confirmados\": 5, \"Rolling\": 23.714285714285715, \"Casos confirmados diarios\": \"Casos confirmados diarios\", \"Promedio m\\u00f3vil \\u00faltimos 7 d\\u00edas\": \"Promedio m\\u00f3vil \\u00faltimos 7 d\\u00edas\"}, {\"Fecha\": \"2020-04-24\", \"Casos confirmados\": 16, \"Rolling\": 18.0, \"Casos confirmados diarios\": \"Casos confirmados diarios\", \"Promedio m\\u00f3vil \\u00faltimos 7 d\\u00edas\": \"Promedio m\\u00f3vil \\u00faltimos 7 d\\u00edas\"}, {\"Fecha\": \"2020-04-25\", \"Casos confirmados\": 1, \"Rolling\": 10.571428571428571, \"Casos confirmados diarios\": \"Casos confirmados diarios\", \"Promedio m\\u00f3vil \\u00faltimos 7 d\\u00edas\": \"Promedio m\\u00f3vil \\u00faltimos 7 d\\u00edas\"}, {\"Fecha\": \"2020-04-26\", \"Casos confirmados\": 4, \"Rolling\": 7.428571428571429, \"Casos confirmados diarios\": \"Casos confirmados diarios\", \"Promedio m\\u00f3vil \\u00faltimos 7 d\\u00edas\": \"Promedio m\\u00f3vil \\u00faltimos 7 d\\u00edas\"}]}}, {\"mode\": \"vega-lite\"});\n",
       "</script>"
      ],
      "text/plain": [
       "alt.LayerChart(...)"
      ]
     },
     "execution_count": 25,
     "metadata": {},
     "output_type": "execute_result"
    }
   ],
   "source": [
    "#hide_input\n",
    "bars, line = my_cases_plot(region)\n",
    "(bars + line).properties(\n",
    "    title=f'Covid-19 en Chile: Casos confirmados diarios en {region}',\n",
    "    width=600\n",
    ")"
   ]
  },
  {
   "cell_type": "markdown",
   "metadata": {},
   "source": [
    "## Ñuble"
   ]
  },
  {
   "cell_type": "code",
   "execution_count": 26,
   "metadata": {
    "scrolled": true
   },
   "outputs": [],
   "source": [
    "#hide\n",
    "region = \"Ñuble\""
   ]
  },
  {
   "cell_type": "code",
   "execution_count": 27,
   "metadata": {},
   "outputs": [
    {
     "data": {
      "text/html": [
       "\n",
       "<div id=\"altair-viz-287aa8c513004779875cd2aed391da6e\"></div>\n",
       "<script type=\"text/javascript\">\n",
       "  (function(spec, embedOpt){\n",
       "    let outputDiv = document.currentScript.previousElementSibling;\n",
       "    if (outputDiv.id !== \"altair-viz-287aa8c513004779875cd2aed391da6e\") {\n",
       "      outputDiv = document.getElementById(\"altair-viz-287aa8c513004779875cd2aed391da6e\");\n",
       "    }\n",
       "    const paths = {\n",
       "      \"vega\": \"https://cdn.jsdelivr.net/npm//vega@5?noext\",\n",
       "      \"vega-lib\": \"https://cdn.jsdelivr.net/npm//vega-lib?noext\",\n",
       "      \"vega-lite\": \"https://cdn.jsdelivr.net/npm//vega-lite@4.8.1?noext\",\n",
       "      \"vega-embed\": \"https://cdn.jsdelivr.net/npm//vega-embed@6?noext\",\n",
       "    };\n",
       "\n",
       "    function loadScript(lib) {\n",
       "      return new Promise(function(resolve, reject) {\n",
       "        var s = document.createElement('script');\n",
       "        s.src = paths[lib];\n",
       "        s.async = true;\n",
       "        s.onload = () => resolve(paths[lib]);\n",
       "        s.onerror = () => reject(`Error loading script: ${paths[lib]}`);\n",
       "        document.getElementsByTagName(\"head\")[0].appendChild(s);\n",
       "      });\n",
       "    }\n",
       "\n",
       "    function showError(err) {\n",
       "      outputDiv.innerHTML = `<div class=\"error\" style=\"color:red;\">${err}</div>`;\n",
       "      throw err;\n",
       "    }\n",
       "\n",
       "    function displayChart(vegaEmbed) {\n",
       "      vegaEmbed(outputDiv, spec, embedOpt)\n",
       "        .catch(err => showError(`Javascript Error: ${err.message}<br>This usually means there's a typo in your chart specification. See the javascript console for the full traceback.`));\n",
       "    }\n",
       "\n",
       "    if(typeof define === \"function\" && define.amd) {\n",
       "      requirejs.config({paths});\n",
       "      require([\"vega-embed\"], displayChart, err => showError(`Error loading script: ${err.message}`));\n",
       "    } else if (typeof vegaEmbed === \"function\") {\n",
       "      displayChart(vegaEmbed);\n",
       "    } else {\n",
       "      loadScript(\"vega\")\n",
       "        .then(() => loadScript(\"vega-lite\"))\n",
       "        .then(() => loadScript(\"vega-embed\"))\n",
       "        .catch(showError)\n",
       "        .then(() => displayChart(vegaEmbed));\n",
       "    }\n",
       "  })({\"config\": {\"view\": {\"continuousWidth\": 400, \"continuousHeight\": 300}}, \"layer\": [{\"mark\": {\"type\": \"bar\", \"opacity\": 0.7}, \"encoding\": {\"opacity\": {\"type\": \"nominal\", \"field\": \"Casos confirmados diarios\", \"legend\": {\"title\": \"\"}}, \"tooltip\": [{\"type\": \"nominal\", \"field\": \"Fecha\"}, {\"type\": \"quantitative\", \"field\": \"Casos confirmados\"}], \"x\": {\"type\": \"nominal\", \"axis\": {\"title\": \"Fecha (a\\u00f1o-mes-d\\u00eda)\"}, \"field\": \"Fecha\"}, \"y\": {\"type\": \"quantitative\", \"axis\": {\"title\": \"Casos confirmados diarios\"}, \"field\": \"Casos confirmados\"}}}, {\"mark\": {\"type\": \"line\", \"color\": \"#1f77b4\", \"point\": {\"filled\": true, \"fill\": \"#1f77b4\"}}, \"encoding\": {\"shape\": {\"type\": \"nominal\", \"field\": \"Promedio m\\u00f3vil \\u00faltimos 7 d\\u00edas\", \"legend\": {\"title\": \"\"}}, \"x\": {\"type\": \"nominal\", \"axis\": {\"title\": \"Fecha (a\\u00f1o-mes-d\\u00eda)\"}, \"field\": \"Fecha\"}, \"y\": {\"type\": \"quantitative\", \"field\": \"Rolling\"}}}], \"data\": {\"name\": \"data-c83741669f9c83066689968c3cd6f838\"}, \"title\": \"Covid-19 en Chile: Casos confirmados diarios en \\u00d1uble\", \"width\": 600, \"$schema\": \"https://vega.github.io/schema/vega-lite/v4.8.1.json\", \"datasets\": {\"data-c83741669f9c83066689968c3cd6f838\": [{\"Fecha\": \"2020-03-04\", \"Casos confirmados\": 0, \"Rolling\": null, \"Casos confirmados diarios\": \"Casos confirmados diarios\", \"Promedio m\\u00f3vil \\u00faltimos 7 d\\u00edas\": \"Promedio m\\u00f3vil \\u00faltimos 7 d\\u00edas\"}, {\"Fecha\": \"2020-03-05\", \"Casos confirmados\": 0, \"Rolling\": null, \"Casos confirmados diarios\": \"Casos confirmados diarios\", \"Promedio m\\u00f3vil \\u00faltimos 7 d\\u00edas\": \"Promedio m\\u00f3vil \\u00faltimos 7 d\\u00edas\"}, {\"Fecha\": \"2020-03-06\", \"Casos confirmados\": 0, \"Rolling\": null, \"Casos confirmados diarios\": \"Casos confirmados diarios\", \"Promedio m\\u00f3vil \\u00faltimos 7 d\\u00edas\": \"Promedio m\\u00f3vil \\u00faltimos 7 d\\u00edas\"}, {\"Fecha\": \"2020-03-07\", \"Casos confirmados\": 0, \"Rolling\": null, \"Casos confirmados diarios\": \"Casos confirmados diarios\", \"Promedio m\\u00f3vil \\u00faltimos 7 d\\u00edas\": \"Promedio m\\u00f3vil \\u00faltimos 7 d\\u00edas\"}, {\"Fecha\": \"2020-03-08\", \"Casos confirmados\": 0, \"Rolling\": null, \"Casos confirmados diarios\": \"Casos confirmados diarios\", \"Promedio m\\u00f3vil \\u00faltimos 7 d\\u00edas\": \"Promedio m\\u00f3vil \\u00faltimos 7 d\\u00edas\"}, {\"Fecha\": \"2020-03-09\", \"Casos confirmados\": 0, \"Rolling\": null, \"Casos confirmados diarios\": \"Casos confirmados diarios\", \"Promedio m\\u00f3vil \\u00faltimos 7 d\\u00edas\": \"Promedio m\\u00f3vil \\u00faltimos 7 d\\u00edas\"}, {\"Fecha\": \"2020-03-10\", \"Casos confirmados\": 0, \"Rolling\": 0.0, \"Casos confirmados diarios\": \"Casos confirmados diarios\", \"Promedio m\\u00f3vil \\u00faltimos 7 d\\u00edas\": \"Promedio m\\u00f3vil \\u00faltimos 7 d\\u00edas\"}, {\"Fecha\": \"2020-03-11\", \"Casos confirmados\": 0, \"Rolling\": 0.0, \"Casos confirmados diarios\": \"Casos confirmados diarios\", \"Promedio m\\u00f3vil \\u00faltimos 7 d\\u00edas\": \"Promedio m\\u00f3vil \\u00faltimos 7 d\\u00edas\"}, {\"Fecha\": \"2020-03-12\", \"Casos confirmados\": 1, \"Rolling\": 0.14285714285714285, \"Casos confirmados diarios\": \"Casos confirmados diarios\", \"Promedio m\\u00f3vil \\u00faltimos 7 d\\u00edas\": \"Promedio m\\u00f3vil \\u00faltimos 7 d\\u00edas\"}, {\"Fecha\": \"2020-03-13\", \"Casos confirmados\": 1, \"Rolling\": 0.2857142857142857, \"Casos confirmados diarios\": \"Casos confirmados diarios\", \"Promedio m\\u00f3vil \\u00faltimos 7 d\\u00edas\": \"Promedio m\\u00f3vil \\u00faltimos 7 d\\u00edas\"}, {\"Fecha\": \"2020-03-14\", \"Casos confirmados\": 2, \"Rolling\": 0.5714285714285714, \"Casos confirmados diarios\": \"Casos confirmados diarios\", \"Promedio m\\u00f3vil \\u00faltimos 7 d\\u00edas\": \"Promedio m\\u00f3vil \\u00faltimos 7 d\\u00edas\"}, {\"Fecha\": \"2020-03-15\", \"Casos confirmados\": 0, \"Rolling\": 0.5714285714285714, \"Casos confirmados diarios\": \"Casos confirmados diarios\", \"Promedio m\\u00f3vil \\u00faltimos 7 d\\u00edas\": \"Promedio m\\u00f3vil \\u00faltimos 7 d\\u00edas\"}, {\"Fecha\": \"2020-03-16\", \"Casos confirmados\": 8, \"Rolling\": 1.7142857142857142, \"Casos confirmados diarios\": \"Casos confirmados diarios\", \"Promedio m\\u00f3vil \\u00faltimos 7 d\\u00edas\": \"Promedio m\\u00f3vil \\u00faltimos 7 d\\u00edas\"}, {\"Fecha\": \"2020-03-17\", \"Casos confirmados\": 14, \"Rolling\": 3.7142857142857144, \"Casos confirmados diarios\": \"Casos confirmados diarios\", \"Promedio m\\u00f3vil \\u00faltimos 7 d\\u00edas\": \"Promedio m\\u00f3vil \\u00faltimos 7 d\\u00edas\"}, {\"Fecha\": \"2020-03-18\", \"Casos confirmados\": 0, \"Rolling\": 3.7142857142857144, \"Casos confirmados diarios\": \"Casos confirmados diarios\", \"Promedio m\\u00f3vil \\u00faltimos 7 d\\u00edas\": \"Promedio m\\u00f3vil \\u00faltimos 7 d\\u00edas\"}, {\"Fecha\": \"2020-03-19\", \"Casos confirmados\": 2, \"Rolling\": 3.857142857142857, \"Casos confirmados diarios\": \"Casos confirmados diarios\", \"Promedio m\\u00f3vil \\u00faltimos 7 d\\u00edas\": \"Promedio m\\u00f3vil \\u00faltimos 7 d\\u00edas\"}, {\"Fecha\": \"2020-03-20\", \"Casos confirmados\": 16, \"Rolling\": 6.0, \"Casos confirmados diarios\": \"Casos confirmados diarios\", \"Promedio m\\u00f3vil \\u00faltimos 7 d\\u00edas\": \"Promedio m\\u00f3vil \\u00faltimos 7 d\\u00edas\"}, {\"Fecha\": \"2020-03-21\", \"Casos confirmados\": 14, \"Rolling\": 7.714285714285714, \"Casos confirmados diarios\": \"Casos confirmados diarios\", \"Promedio m\\u00f3vil \\u00faltimos 7 d\\u00edas\": \"Promedio m\\u00f3vil \\u00faltimos 7 d\\u00edas\"}, {\"Fecha\": \"2020-03-22\", \"Casos confirmados\": 6, \"Rolling\": 8.571428571428571, \"Casos confirmados diarios\": \"Casos confirmados diarios\", \"Promedio m\\u00f3vil \\u00faltimos 7 d\\u00edas\": \"Promedio m\\u00f3vil \\u00faltimos 7 d\\u00edas\"}, {\"Fecha\": \"2020-03-23\", \"Casos confirmados\": 17, \"Rolling\": 9.857142857142858, \"Casos confirmados diarios\": \"Casos confirmados diarios\", \"Promedio m\\u00f3vil \\u00faltimos 7 d\\u00edas\": \"Promedio m\\u00f3vil \\u00faltimos 7 d\\u00edas\"}, {\"Fecha\": \"2020-03-24\", \"Casos confirmados\": 24, \"Rolling\": 11.285714285714286, \"Casos confirmados diarios\": \"Casos confirmados diarios\", \"Promedio m\\u00f3vil \\u00faltimos 7 d\\u00edas\": \"Promedio m\\u00f3vil \\u00faltimos 7 d\\u00edas\"}, {\"Fecha\": \"2020-03-25\", \"Casos confirmados\": 6, \"Rolling\": 12.142857142857142, \"Casos confirmados diarios\": \"Casos confirmados diarios\", \"Promedio m\\u00f3vil \\u00faltimos 7 d\\u00edas\": \"Promedio m\\u00f3vil \\u00faltimos 7 d\\u00edas\"}, {\"Fecha\": \"2020-03-26\", \"Casos confirmados\": 3, \"Rolling\": 12.285714285714286, \"Casos confirmados diarios\": \"Casos confirmados diarios\", \"Promedio m\\u00f3vil \\u00faltimos 7 d\\u00edas\": \"Promedio m\\u00f3vil \\u00faltimos 7 d\\u00edas\"}, {\"Fecha\": \"2020-03-27\", \"Casos confirmados\": 30, \"Rolling\": 14.285714285714286, \"Casos confirmados diarios\": \"Casos confirmados diarios\", \"Promedio m\\u00f3vil \\u00faltimos 7 d\\u00edas\": \"Promedio m\\u00f3vil \\u00faltimos 7 d\\u00edas\"}, {\"Fecha\": \"2020-03-28\", \"Casos confirmados\": 28, \"Rolling\": 16.285714285714285, \"Casos confirmados diarios\": \"Casos confirmados diarios\", \"Promedio m\\u00f3vil \\u00faltimos 7 d\\u00edas\": \"Promedio m\\u00f3vil \\u00faltimos 7 d\\u00edas\"}, {\"Fecha\": \"2020-03-29\", \"Casos confirmados\": 25, \"Rolling\": 19.0, \"Casos confirmados diarios\": \"Casos confirmados diarios\", \"Promedio m\\u00f3vil \\u00faltimos 7 d\\u00edas\": \"Promedio m\\u00f3vil \\u00faltimos 7 d\\u00edas\"}, {\"Fecha\": \"2020-03-30\", \"Casos confirmados\": 32, \"Rolling\": 21.142857142857142, \"Casos confirmados diarios\": \"Casos confirmados diarios\", \"Promedio m\\u00f3vil \\u00faltimos 7 d\\u00edas\": \"Promedio m\\u00f3vil \\u00faltimos 7 d\\u00edas\"}, {\"Fecha\": \"2020-03-31\", \"Casos confirmados\": 16, \"Rolling\": 20.0, \"Casos confirmados diarios\": \"Casos confirmados diarios\", \"Promedio m\\u00f3vil \\u00faltimos 7 d\\u00edas\": \"Promedio m\\u00f3vil \\u00faltimos 7 d\\u00edas\"}, {\"Fecha\": \"2020-04-01\", \"Casos confirmados\": 14, \"Rolling\": 21.142857142857142, \"Casos confirmados diarios\": \"Casos confirmados diarios\", \"Promedio m\\u00f3vil \\u00faltimos 7 d\\u00edas\": \"Promedio m\\u00f3vil \\u00faltimos 7 d\\u00edas\"}, {\"Fecha\": \"2020-04-02\", \"Casos confirmados\": 82, \"Rolling\": 32.42857142857143, \"Casos confirmados diarios\": \"Casos confirmados diarios\", \"Promedio m\\u00f3vil \\u00faltimos 7 d\\u00edas\": \"Promedio m\\u00f3vil \\u00faltimos 7 d\\u00edas\"}, {\"Fecha\": \"2020-04-03\", \"Casos confirmados\": 29, \"Rolling\": 32.285714285714285, \"Casos confirmados diarios\": \"Casos confirmados diarios\", \"Promedio m\\u00f3vil \\u00faltimos 7 d\\u00edas\": \"Promedio m\\u00f3vil \\u00faltimos 7 d\\u00edas\"}, {\"Fecha\": \"2020-04-04\", \"Casos confirmados\": 31, \"Rolling\": 32.714285714285715, \"Casos confirmados diarios\": \"Casos confirmados diarios\", \"Promedio m\\u00f3vil \\u00faltimos 7 d\\u00edas\": \"Promedio m\\u00f3vil \\u00faltimos 7 d\\u00edas\"}, {\"Fecha\": \"2020-04-05\", \"Casos confirmados\": 24, \"Rolling\": 32.57142857142857, \"Casos confirmados diarios\": \"Casos confirmados diarios\", \"Promedio m\\u00f3vil \\u00faltimos 7 d\\u00edas\": \"Promedio m\\u00f3vil \\u00faltimos 7 d\\u00edas\"}, {\"Fecha\": \"2020-04-06\", \"Casos confirmados\": 49, \"Rolling\": 35.0, \"Casos confirmados diarios\": \"Casos confirmados diarios\", \"Promedio m\\u00f3vil \\u00faltimos 7 d\\u00edas\": \"Promedio m\\u00f3vil \\u00faltimos 7 d\\u00edas\"}, {\"Fecha\": \"2020-04-07\", \"Casos confirmados\": 48, \"Rolling\": 39.57142857142857, \"Casos confirmados diarios\": \"Casos confirmados diarios\", \"Promedio m\\u00f3vil \\u00faltimos 7 d\\u00edas\": \"Promedio m\\u00f3vil \\u00faltimos 7 d\\u00edas\"}, {\"Fecha\": \"2020-04-08\", \"Casos confirmados\": 39, \"Rolling\": 43.142857142857146, \"Casos confirmados diarios\": \"Casos confirmados diarios\", \"Promedio m\\u00f3vil \\u00faltimos 7 d\\u00edas\": \"Promedio m\\u00f3vil \\u00faltimos 7 d\\u00edas\"}, {\"Fecha\": \"2020-04-09\", \"Casos confirmados\": 10, \"Rolling\": 32.857142857142854, \"Casos confirmados diarios\": \"Casos confirmados diarios\", \"Promedio m\\u00f3vil \\u00faltimos 7 d\\u00edas\": \"Promedio m\\u00f3vil \\u00faltimos 7 d\\u00edas\"}, {\"Fecha\": \"2020-04-10\", \"Casos confirmados\": 18, \"Rolling\": 31.285714285714285, \"Casos confirmados diarios\": \"Casos confirmados diarios\", \"Promedio m\\u00f3vil \\u00faltimos 7 d\\u00edas\": \"Promedio m\\u00f3vil \\u00faltimos 7 d\\u00edas\"}, {\"Fecha\": \"2020-04-11\", \"Casos confirmados\": 17, \"Rolling\": 29.285714285714285, \"Casos confirmados diarios\": \"Casos confirmados diarios\", \"Promedio m\\u00f3vil \\u00faltimos 7 d\\u00edas\": \"Promedio m\\u00f3vil \\u00faltimos 7 d\\u00edas\"}, {\"Fecha\": \"2020-04-12\", \"Casos confirmados\": 7, \"Rolling\": 26.857142857142858, \"Casos confirmados diarios\": \"Casos confirmados diarios\", \"Promedio m\\u00f3vil \\u00faltimos 7 d\\u00edas\": \"Promedio m\\u00f3vil \\u00faltimos 7 d\\u00edas\"}, {\"Fecha\": \"2020-04-13\", \"Casos confirmados\": 5, \"Rolling\": 20.571428571428573, \"Casos confirmados diarios\": \"Casos confirmados diarios\", \"Promedio m\\u00f3vil \\u00faltimos 7 d\\u00edas\": \"Promedio m\\u00f3vil \\u00faltimos 7 d\\u00edas\"}, {\"Fecha\": \"2020-04-14\", \"Casos confirmados\": 4, \"Rolling\": 14.285714285714286, \"Casos confirmados diarios\": \"Casos confirmados diarios\", \"Promedio m\\u00f3vil \\u00faltimos 7 d\\u00edas\": \"Promedio m\\u00f3vil \\u00faltimos 7 d\\u00edas\"}, {\"Fecha\": \"2020-04-15\", \"Casos confirmados\": 12, \"Rolling\": 10.428571428571429, \"Casos confirmados diarios\": \"Casos confirmados diarios\", \"Promedio m\\u00f3vil \\u00faltimos 7 d\\u00edas\": \"Promedio m\\u00f3vil \\u00faltimos 7 d\\u00edas\"}, {\"Fecha\": \"2020-04-16\", \"Casos confirmados\": 5, \"Rolling\": 9.714285714285714, \"Casos confirmados diarios\": \"Casos confirmados diarios\", \"Promedio m\\u00f3vil \\u00faltimos 7 d\\u00edas\": \"Promedio m\\u00f3vil \\u00faltimos 7 d\\u00edas\"}, {\"Fecha\": \"2020-04-17\", \"Casos confirmados\": 17, \"Rolling\": 9.571428571428571, \"Casos confirmados diarios\": \"Casos confirmados diarios\", \"Promedio m\\u00f3vil \\u00faltimos 7 d\\u00edas\": \"Promedio m\\u00f3vil \\u00faltimos 7 d\\u00edas\"}, {\"Fecha\": \"2020-04-18\", \"Casos confirmados\": 11, \"Rolling\": 8.714285714285714, \"Casos confirmados diarios\": \"Casos confirmados diarios\", \"Promedio m\\u00f3vil \\u00faltimos 7 d\\u00edas\": \"Promedio m\\u00f3vil \\u00faltimos 7 d\\u00edas\"}, {\"Fecha\": \"2020-04-19\", \"Casos confirmados\": 11, \"Rolling\": 9.285714285714286, \"Casos confirmados diarios\": \"Casos confirmados diarios\", \"Promedio m\\u00f3vil \\u00faltimos 7 d\\u00edas\": \"Promedio m\\u00f3vil \\u00faltimos 7 d\\u00edas\"}, {\"Fecha\": \"2020-04-20\", \"Casos confirmados\": 9, \"Rolling\": 9.857142857142858, \"Casos confirmados diarios\": \"Casos confirmados diarios\", \"Promedio m\\u00f3vil \\u00faltimos 7 d\\u00edas\": \"Promedio m\\u00f3vil \\u00faltimos 7 d\\u00edas\"}, {\"Fecha\": \"2020-04-21\", \"Casos confirmados\": 7, \"Rolling\": 10.285714285714286, \"Casos confirmados diarios\": \"Casos confirmados diarios\", \"Promedio m\\u00f3vil \\u00faltimos 7 d\\u00edas\": \"Promedio m\\u00f3vil \\u00faltimos 7 d\\u00edas\"}, {\"Fecha\": \"2020-04-22\", \"Casos confirmados\": 9, \"Rolling\": 9.857142857142858, \"Casos confirmados diarios\": \"Casos confirmados diarios\", \"Promedio m\\u00f3vil \\u00faltimos 7 d\\u00edas\": \"Promedio m\\u00f3vil \\u00faltimos 7 d\\u00edas\"}, {\"Fecha\": \"2020-04-23\", \"Casos confirmados\": 5, \"Rolling\": 9.857142857142858, \"Casos confirmados diarios\": \"Casos confirmados diarios\", \"Promedio m\\u00f3vil \\u00faltimos 7 d\\u00edas\": \"Promedio m\\u00f3vil \\u00faltimos 7 d\\u00edas\"}, {\"Fecha\": \"2020-04-24\", \"Casos confirmados\": 7, \"Rolling\": 8.428571428571429, \"Casos confirmados diarios\": \"Casos confirmados diarios\", \"Promedio m\\u00f3vil \\u00faltimos 7 d\\u00edas\": \"Promedio m\\u00f3vil \\u00faltimos 7 d\\u00edas\"}, {\"Fecha\": \"2020-04-25\", \"Casos confirmados\": 10, \"Rolling\": 8.285714285714286, \"Casos confirmados diarios\": \"Casos confirmados diarios\", \"Promedio m\\u00f3vil \\u00faltimos 7 d\\u00edas\": \"Promedio m\\u00f3vil \\u00faltimos 7 d\\u00edas\"}, {\"Fecha\": \"2020-04-26\", \"Casos confirmados\": 6, \"Rolling\": 7.571428571428571, \"Casos confirmados diarios\": \"Casos confirmados diarios\", \"Promedio m\\u00f3vil \\u00faltimos 7 d\\u00edas\": \"Promedio m\\u00f3vil \\u00faltimos 7 d\\u00edas\"}]}}, {\"mode\": \"vega-lite\"});\n",
       "</script>"
      ],
      "text/plain": [
       "alt.LayerChart(...)"
      ]
     },
     "execution_count": 27,
     "metadata": {},
     "output_type": "execute_result"
    }
   ],
   "source": [
    "#hide_input\n",
    "bars, line = my_cases_plot(region)\n",
    "(bars + line).properties(\n",
    "    title=f'Covid-19 en Chile: Casos confirmados diarios en {region}',\n",
    "    width=600\n",
    ")"
   ]
  },
  {
   "cell_type": "markdown",
   "metadata": {},
   "source": [
    "## Biobío"
   ]
  },
  {
   "cell_type": "code",
   "execution_count": 28,
   "metadata": {
    "scrolled": true
   },
   "outputs": [],
   "source": [
    "#hide\n",
    "region = \"Biobío\""
   ]
  },
  {
   "cell_type": "code",
   "execution_count": 29,
   "metadata": {},
   "outputs": [
    {
     "data": {
      "text/html": [
       "\n",
       "<div id=\"altair-viz-56eb489881f94ec6a875cba2a6cfd869\"></div>\n",
       "<script type=\"text/javascript\">\n",
       "  (function(spec, embedOpt){\n",
       "    let outputDiv = document.currentScript.previousElementSibling;\n",
       "    if (outputDiv.id !== \"altair-viz-56eb489881f94ec6a875cba2a6cfd869\") {\n",
       "      outputDiv = document.getElementById(\"altair-viz-56eb489881f94ec6a875cba2a6cfd869\");\n",
       "    }\n",
       "    const paths = {\n",
       "      \"vega\": \"https://cdn.jsdelivr.net/npm//vega@5?noext\",\n",
       "      \"vega-lib\": \"https://cdn.jsdelivr.net/npm//vega-lib?noext\",\n",
       "      \"vega-lite\": \"https://cdn.jsdelivr.net/npm//vega-lite@4.8.1?noext\",\n",
       "      \"vega-embed\": \"https://cdn.jsdelivr.net/npm//vega-embed@6?noext\",\n",
       "    };\n",
       "\n",
       "    function loadScript(lib) {\n",
       "      return new Promise(function(resolve, reject) {\n",
       "        var s = document.createElement('script');\n",
       "        s.src = paths[lib];\n",
       "        s.async = true;\n",
       "        s.onload = () => resolve(paths[lib]);\n",
       "        s.onerror = () => reject(`Error loading script: ${paths[lib]}`);\n",
       "        document.getElementsByTagName(\"head\")[0].appendChild(s);\n",
       "      });\n",
       "    }\n",
       "\n",
       "    function showError(err) {\n",
       "      outputDiv.innerHTML = `<div class=\"error\" style=\"color:red;\">${err}</div>`;\n",
       "      throw err;\n",
       "    }\n",
       "\n",
       "    function displayChart(vegaEmbed) {\n",
       "      vegaEmbed(outputDiv, spec, embedOpt)\n",
       "        .catch(err => showError(`Javascript Error: ${err.message}<br>This usually means there's a typo in your chart specification. See the javascript console for the full traceback.`));\n",
       "    }\n",
       "\n",
       "    if(typeof define === \"function\" && define.amd) {\n",
       "      requirejs.config({paths});\n",
       "      require([\"vega-embed\"], displayChart, err => showError(`Error loading script: ${err.message}`));\n",
       "    } else if (typeof vegaEmbed === \"function\") {\n",
       "      displayChart(vegaEmbed);\n",
       "    } else {\n",
       "      loadScript(\"vega\")\n",
       "        .then(() => loadScript(\"vega-lite\"))\n",
       "        .then(() => loadScript(\"vega-embed\"))\n",
       "        .catch(showError)\n",
       "        .then(() => displayChart(vegaEmbed));\n",
       "    }\n",
       "  })({\"config\": {\"view\": {\"continuousWidth\": 400, \"continuousHeight\": 300}}, \"layer\": [{\"mark\": {\"type\": \"bar\", \"opacity\": 0.7}, \"encoding\": {\"opacity\": {\"type\": \"nominal\", \"field\": \"Casos confirmados diarios\", \"legend\": {\"title\": \"\"}}, \"tooltip\": [{\"type\": \"nominal\", \"field\": \"Fecha\"}, {\"type\": \"quantitative\", \"field\": \"Casos confirmados\"}], \"x\": {\"type\": \"nominal\", \"axis\": {\"title\": \"Fecha (a\\u00f1o-mes-d\\u00eda)\"}, \"field\": \"Fecha\"}, \"y\": {\"type\": \"quantitative\", \"axis\": {\"title\": \"Casos confirmados diarios\"}, \"field\": \"Casos confirmados\"}}}, {\"mark\": {\"type\": \"line\", \"color\": \"#1f77b4\", \"point\": {\"filled\": true, \"fill\": \"#1f77b4\"}}, \"encoding\": {\"shape\": {\"type\": \"nominal\", \"field\": \"Promedio m\\u00f3vil \\u00faltimos 7 d\\u00edas\", \"legend\": {\"title\": \"\"}}, \"x\": {\"type\": \"nominal\", \"axis\": {\"title\": \"Fecha (a\\u00f1o-mes-d\\u00eda)\"}, \"field\": \"Fecha\"}, \"y\": {\"type\": \"quantitative\", \"field\": \"Rolling\"}}}], \"data\": {\"name\": \"data-d7673d8a5e95083a2cb2795c3383ff3f\"}, \"title\": \"Covid-19 en Chile: Casos confirmados diarios en Biob\\u00edo\", \"width\": 600, \"$schema\": \"https://vega.github.io/schema/vega-lite/v4.8.1.json\", \"datasets\": {\"data-d7673d8a5e95083a2cb2795c3383ff3f\": [{\"Fecha\": \"2020-03-04\", \"Casos confirmados\": 0, \"Rolling\": null, \"Casos confirmados diarios\": \"Casos confirmados diarios\", \"Promedio m\\u00f3vil \\u00faltimos 7 d\\u00edas\": \"Promedio m\\u00f3vil \\u00faltimos 7 d\\u00edas\"}, {\"Fecha\": \"2020-03-05\", \"Casos confirmados\": 0, \"Rolling\": null, \"Casos confirmados diarios\": \"Casos confirmados diarios\", \"Promedio m\\u00f3vil \\u00faltimos 7 d\\u00edas\": \"Promedio m\\u00f3vil \\u00faltimos 7 d\\u00edas\"}, {\"Fecha\": \"2020-03-06\", \"Casos confirmados\": 0, \"Rolling\": null, \"Casos confirmados diarios\": \"Casos confirmados diarios\", \"Promedio m\\u00f3vil \\u00faltimos 7 d\\u00edas\": \"Promedio m\\u00f3vil \\u00faltimos 7 d\\u00edas\"}, {\"Fecha\": \"2020-03-07\", \"Casos confirmados\": 0, \"Rolling\": null, \"Casos confirmados diarios\": \"Casos confirmados diarios\", \"Promedio m\\u00f3vil \\u00faltimos 7 d\\u00edas\": \"Promedio m\\u00f3vil \\u00faltimos 7 d\\u00edas\"}, {\"Fecha\": \"2020-03-08\", \"Casos confirmados\": 0, \"Rolling\": null, \"Casos confirmados diarios\": \"Casos confirmados diarios\", \"Promedio m\\u00f3vil \\u00faltimos 7 d\\u00edas\": \"Promedio m\\u00f3vil \\u00faltimos 7 d\\u00edas\"}, {\"Fecha\": \"2020-03-09\", \"Casos confirmados\": 1, \"Rolling\": null, \"Casos confirmados diarios\": \"Casos confirmados diarios\", \"Promedio m\\u00f3vil \\u00faltimos 7 d\\u00edas\": \"Promedio m\\u00f3vil \\u00faltimos 7 d\\u00edas\"}, {\"Fecha\": \"2020-03-10\", \"Casos confirmados\": 0, \"Rolling\": 0.14285714285714285, \"Casos confirmados diarios\": \"Casos confirmados diarios\", \"Promedio m\\u00f3vil \\u00faltimos 7 d\\u00edas\": \"Promedio m\\u00f3vil \\u00faltimos 7 d\\u00edas\"}, {\"Fecha\": \"2020-03-11\", \"Casos confirmados\": 0, \"Rolling\": 0.14285714285714285, \"Casos confirmados diarios\": \"Casos confirmados diarios\", \"Promedio m\\u00f3vil \\u00faltimos 7 d\\u00edas\": \"Promedio m\\u00f3vil \\u00faltimos 7 d\\u00edas\"}, {\"Fecha\": \"2020-03-12\", \"Casos confirmados\": 0, \"Rolling\": 0.14285714285714285, \"Casos confirmados diarios\": \"Casos confirmados diarios\", \"Promedio m\\u00f3vil \\u00faltimos 7 d\\u00edas\": \"Promedio m\\u00f3vil \\u00faltimos 7 d\\u00edas\"}, {\"Fecha\": \"2020-03-13\", \"Casos confirmados\": 2, \"Rolling\": 0.42857142857142855, \"Casos confirmados diarios\": \"Casos confirmados diarios\", \"Promedio m\\u00f3vil \\u00faltimos 7 d\\u00edas\": \"Promedio m\\u00f3vil \\u00faltimos 7 d\\u00edas\"}, {\"Fecha\": \"2020-03-14\", \"Casos confirmados\": 0, \"Rolling\": 0.42857142857142855, \"Casos confirmados diarios\": \"Casos confirmados diarios\", \"Promedio m\\u00f3vil \\u00faltimos 7 d\\u00edas\": \"Promedio m\\u00f3vil \\u00faltimos 7 d\\u00edas\"}, {\"Fecha\": \"2020-03-15\", \"Casos confirmados\": 0, \"Rolling\": 0.42857142857142855, \"Casos confirmados diarios\": \"Casos confirmados diarios\", \"Promedio m\\u00f3vil \\u00faltimos 7 d\\u00edas\": \"Promedio m\\u00f3vil \\u00faltimos 7 d\\u00edas\"}, {\"Fecha\": \"2020-03-16\", \"Casos confirmados\": 1, \"Rolling\": 0.42857142857142855, \"Casos confirmados diarios\": \"Casos confirmados diarios\", \"Promedio m\\u00f3vil \\u00faltimos 7 d\\u00edas\": \"Promedio m\\u00f3vil \\u00faltimos 7 d\\u00edas\"}, {\"Fecha\": \"2020-03-17\", \"Casos confirmados\": 0, \"Rolling\": 0.42857142857142855, \"Casos confirmados diarios\": \"Casos confirmados diarios\", \"Promedio m\\u00f3vil \\u00faltimos 7 d\\u00edas\": \"Promedio m\\u00f3vil \\u00faltimos 7 d\\u00edas\"}, {\"Fecha\": \"2020-03-18\", \"Casos confirmados\": 3, \"Rolling\": 0.8571428571428571, \"Casos confirmados diarios\": \"Casos confirmados diarios\", \"Promedio m\\u00f3vil \\u00faltimos 7 d\\u00edas\": \"Promedio m\\u00f3vil \\u00faltimos 7 d\\u00edas\"}, {\"Fecha\": \"2020-03-19\", \"Casos confirmados\": 7, \"Rolling\": 1.8571428571428572, \"Casos confirmados diarios\": \"Casos confirmados diarios\", \"Promedio m\\u00f3vil \\u00faltimos 7 d\\u00edas\": \"Promedio m\\u00f3vil \\u00faltimos 7 d\\u00edas\"}, {\"Fecha\": \"2020-03-20\", \"Casos confirmados\": 5, \"Rolling\": 2.2857142857142856, \"Casos confirmados diarios\": \"Casos confirmados diarios\", \"Promedio m\\u00f3vil \\u00faltimos 7 d\\u00edas\": \"Promedio m\\u00f3vil \\u00faltimos 7 d\\u00edas\"}, {\"Fecha\": \"2020-03-21\", \"Casos confirmados\": 11, \"Rolling\": 3.857142857142857, \"Casos confirmados diarios\": \"Casos confirmados diarios\", \"Promedio m\\u00f3vil \\u00faltimos 7 d\\u00edas\": \"Promedio m\\u00f3vil \\u00faltimos 7 d\\u00edas\"}, {\"Fecha\": \"2020-03-22\", \"Casos confirmados\": 5, \"Rolling\": 4.571428571428571, \"Casos confirmados diarios\": \"Casos confirmados diarios\", \"Promedio m\\u00f3vil \\u00faltimos 7 d\\u00edas\": \"Promedio m\\u00f3vil \\u00faltimos 7 d\\u00edas\"}, {\"Fecha\": \"2020-03-23\", \"Casos confirmados\": 11, \"Rolling\": 6.0, \"Casos confirmados diarios\": \"Casos confirmados diarios\", \"Promedio m\\u00f3vil \\u00faltimos 7 d\\u00edas\": \"Promedio m\\u00f3vil \\u00faltimos 7 d\\u00edas\"}, {\"Fecha\": \"2020-03-24\", \"Casos confirmados\": 27, \"Rolling\": 9.857142857142858, \"Casos confirmados diarios\": \"Casos confirmados diarios\", \"Promedio m\\u00f3vil \\u00faltimos 7 d\\u00edas\": \"Promedio m\\u00f3vil \\u00faltimos 7 d\\u00edas\"}, {\"Fecha\": \"2020-03-25\", \"Casos confirmados\": 22, \"Rolling\": 12.571428571428571, \"Casos confirmados diarios\": \"Casos confirmados diarios\", \"Promedio m\\u00f3vil \\u00faltimos 7 d\\u00edas\": \"Promedio m\\u00f3vil \\u00faltimos 7 d\\u00edas\"}, {\"Fecha\": \"2020-03-26\", \"Casos confirmados\": 14, \"Rolling\": 13.571428571428571, \"Casos confirmados diarios\": \"Casos confirmados diarios\", \"Promedio m\\u00f3vil \\u00faltimos 7 d\\u00edas\": \"Promedio m\\u00f3vil \\u00faltimos 7 d\\u00edas\"}, {\"Fecha\": \"2020-03-27\", \"Casos confirmados\": 26, \"Rolling\": 16.571428571428573, \"Casos confirmados diarios\": \"Casos confirmados diarios\", \"Promedio m\\u00f3vil \\u00faltimos 7 d\\u00edas\": \"Promedio m\\u00f3vil \\u00faltimos 7 d\\u00edas\"}, {\"Fecha\": \"2020-03-28\", \"Casos confirmados\": 16, \"Rolling\": 17.285714285714285, \"Casos confirmados diarios\": \"Casos confirmados diarios\", \"Promedio m\\u00f3vil \\u00faltimos 7 d\\u00edas\": \"Promedio m\\u00f3vil \\u00faltimos 7 d\\u00edas\"}, {\"Fecha\": \"2020-03-29\", \"Casos confirmados\": 34, \"Rolling\": 21.428571428571427, \"Casos confirmados diarios\": \"Casos confirmados diarios\", \"Promedio m\\u00f3vil \\u00faltimos 7 d\\u00edas\": \"Promedio m\\u00f3vil \\u00faltimos 7 d\\u00edas\"}, {\"Fecha\": \"2020-03-30\", \"Casos confirmados\": 16, \"Rolling\": 22.142857142857142, \"Casos confirmados diarios\": \"Casos confirmados diarios\", \"Promedio m\\u00f3vil \\u00faltimos 7 d\\u00edas\": \"Promedio m\\u00f3vil \\u00faltimos 7 d\\u00edas\"}, {\"Fecha\": \"2020-03-31\", \"Casos confirmados\": 15, \"Rolling\": 20.428571428571427, \"Casos confirmados diarios\": \"Casos confirmados diarios\", \"Promedio m\\u00f3vil \\u00faltimos 7 d\\u00edas\": \"Promedio m\\u00f3vil \\u00faltimos 7 d\\u00edas\"}, {\"Fecha\": \"2020-04-01\", \"Casos confirmados\": 24, \"Rolling\": 20.714285714285715, \"Casos confirmados diarios\": \"Casos confirmados diarios\", \"Promedio m\\u00f3vil \\u00faltimos 7 d\\u00edas\": \"Promedio m\\u00f3vil \\u00faltimos 7 d\\u00edas\"}, {\"Fecha\": \"2020-04-02\", \"Casos confirmados\": 35, \"Rolling\": 23.714285714285715, \"Casos confirmados diarios\": \"Casos confirmados diarios\", \"Promedio m\\u00f3vil \\u00faltimos 7 d\\u00edas\": \"Promedio m\\u00f3vil \\u00faltimos 7 d\\u00edas\"}, {\"Fecha\": \"2020-04-03\", \"Casos confirmados\": 27, \"Rolling\": 23.857142857142858, \"Casos confirmados diarios\": \"Casos confirmados diarios\", \"Promedio m\\u00f3vil \\u00faltimos 7 d\\u00edas\": \"Promedio m\\u00f3vil \\u00faltimos 7 d\\u00edas\"}, {\"Fecha\": \"2020-04-04\", \"Casos confirmados\": 45, \"Rolling\": 28.0, \"Casos confirmados diarios\": \"Casos confirmados diarios\", \"Promedio m\\u00f3vil \\u00faltimos 7 d\\u00edas\": \"Promedio m\\u00f3vil \\u00faltimos 7 d\\u00edas\"}, {\"Fecha\": \"2020-04-05\", \"Casos confirmados\": 18, \"Rolling\": 25.714285714285715, \"Casos confirmados diarios\": \"Casos confirmados diarios\", \"Promedio m\\u00f3vil \\u00faltimos 7 d\\u00edas\": \"Promedio m\\u00f3vil \\u00faltimos 7 d\\u00edas\"}, {\"Fecha\": \"2020-04-06\", \"Casos confirmados\": 18, \"Rolling\": 26.0, \"Casos confirmados diarios\": \"Casos confirmados diarios\", \"Promedio m\\u00f3vil \\u00faltimos 7 d\\u00edas\": \"Promedio m\\u00f3vil \\u00faltimos 7 d\\u00edas\"}, {\"Fecha\": \"2020-04-07\", \"Casos confirmados\": 27, \"Rolling\": 27.714285714285715, \"Casos confirmados diarios\": \"Casos confirmados diarios\", \"Promedio m\\u00f3vil \\u00faltimos 7 d\\u00edas\": \"Promedio m\\u00f3vil \\u00faltimos 7 d\\u00edas\"}, {\"Fecha\": \"2020-04-08\", \"Casos confirmados\": 29, \"Rolling\": 28.428571428571427, \"Casos confirmados diarios\": \"Casos confirmados diarios\", \"Promedio m\\u00f3vil \\u00faltimos 7 d\\u00edas\": \"Promedio m\\u00f3vil \\u00faltimos 7 d\\u00edas\"}, {\"Fecha\": \"2020-04-09\", \"Casos confirmados\": 21, \"Rolling\": 26.428571428571427, \"Casos confirmados diarios\": \"Casos confirmados diarios\", \"Promedio m\\u00f3vil \\u00faltimos 7 d\\u00edas\": \"Promedio m\\u00f3vil \\u00faltimos 7 d\\u00edas\"}, {\"Fecha\": \"2020-04-10\", \"Casos confirmados\": 14, \"Rolling\": 24.571428571428573, \"Casos confirmados diarios\": \"Casos confirmados diarios\", \"Promedio m\\u00f3vil \\u00faltimos 7 d\\u00edas\": \"Promedio m\\u00f3vil \\u00faltimos 7 d\\u00edas\"}, {\"Fecha\": \"2020-04-11\", \"Casos confirmados\": 16, \"Rolling\": 20.428571428571427, \"Casos confirmados diarios\": \"Casos confirmados diarios\", \"Promedio m\\u00f3vil \\u00faltimos 7 d\\u00edas\": \"Promedio m\\u00f3vil \\u00faltimos 7 d\\u00edas\"}, {\"Fecha\": \"2020-04-12\", \"Casos confirmados\": 10, \"Rolling\": 19.285714285714285, \"Casos confirmados diarios\": \"Casos confirmados diarios\", \"Promedio m\\u00f3vil \\u00faltimos 7 d\\u00edas\": \"Promedio m\\u00f3vil \\u00faltimos 7 d\\u00edas\"}, {\"Fecha\": \"2020-04-13\", \"Casos confirmados\": 12, \"Rolling\": 18.428571428571427, \"Casos confirmados diarios\": \"Casos confirmados diarios\", \"Promedio m\\u00f3vil \\u00faltimos 7 d\\u00edas\": \"Promedio m\\u00f3vil \\u00faltimos 7 d\\u00edas\"}, {\"Fecha\": \"2020-04-14\", \"Casos confirmados\": 16, \"Rolling\": 16.857142857142858, \"Casos confirmados diarios\": \"Casos confirmados diarios\", \"Promedio m\\u00f3vil \\u00faltimos 7 d\\u00edas\": \"Promedio m\\u00f3vil \\u00faltimos 7 d\\u00edas\"}, {\"Fecha\": \"2020-04-15\", \"Casos confirmados\": 14, \"Rolling\": 14.714285714285714, \"Casos confirmados diarios\": \"Casos confirmados diarios\", \"Promedio m\\u00f3vil \\u00faltimos 7 d\\u00edas\": \"Promedio m\\u00f3vil \\u00faltimos 7 d\\u00edas\"}, {\"Fecha\": \"2020-04-16\", \"Casos confirmados\": 17, \"Rolling\": 14.142857142857142, \"Casos confirmados diarios\": \"Casos confirmados diarios\", \"Promedio m\\u00f3vil \\u00faltimos 7 d\\u00edas\": \"Promedio m\\u00f3vil \\u00faltimos 7 d\\u00edas\"}, {\"Fecha\": \"2020-04-17\", \"Casos confirmados\": 19, \"Rolling\": 14.857142857142858, \"Casos confirmados diarios\": \"Casos confirmados diarios\", \"Promedio m\\u00f3vil \\u00faltimos 7 d\\u00edas\": \"Promedio m\\u00f3vil \\u00faltimos 7 d\\u00edas\"}, {\"Fecha\": \"2020-04-18\", \"Casos confirmados\": 28, \"Rolling\": 16.571428571428573, \"Casos confirmados diarios\": \"Casos confirmados diarios\", \"Promedio m\\u00f3vil \\u00faltimos 7 d\\u00edas\": \"Promedio m\\u00f3vil \\u00faltimos 7 d\\u00edas\"}, {\"Fecha\": \"2020-04-19\", \"Casos confirmados\": 10, \"Rolling\": 16.571428571428573, \"Casos confirmados diarios\": \"Casos confirmados diarios\", \"Promedio m\\u00f3vil \\u00faltimos 7 d\\u00edas\": \"Promedio m\\u00f3vil \\u00faltimos 7 d\\u00edas\"}, {\"Fecha\": \"2020-04-20\", \"Casos confirmados\": 10, \"Rolling\": 16.285714285714285, \"Casos confirmados diarios\": \"Casos confirmados diarios\", \"Promedio m\\u00f3vil \\u00faltimos 7 d\\u00edas\": \"Promedio m\\u00f3vil \\u00faltimos 7 d\\u00edas\"}, {\"Fecha\": \"2020-04-21\", \"Casos confirmados\": 10, \"Rolling\": 15.428571428571429, \"Casos confirmados diarios\": \"Casos confirmados diarios\", \"Promedio m\\u00f3vil \\u00faltimos 7 d\\u00edas\": \"Promedio m\\u00f3vil \\u00faltimos 7 d\\u00edas\"}, {\"Fecha\": \"2020-04-22\", \"Casos confirmados\": 22, \"Rolling\": 16.571428571428573, \"Casos confirmados diarios\": \"Casos confirmados diarios\", \"Promedio m\\u00f3vil \\u00faltimos 7 d\\u00edas\": \"Promedio m\\u00f3vil \\u00faltimos 7 d\\u00edas\"}, {\"Fecha\": \"2020-04-23\", \"Casos confirmados\": 17, \"Rolling\": 16.571428571428573, \"Casos confirmados diarios\": \"Casos confirmados diarios\", \"Promedio m\\u00f3vil \\u00faltimos 7 d\\u00edas\": \"Promedio m\\u00f3vil \\u00faltimos 7 d\\u00edas\"}, {\"Fecha\": \"2020-04-24\", \"Casos confirmados\": 8, \"Rolling\": 15.0, \"Casos confirmados diarios\": \"Casos confirmados diarios\", \"Promedio m\\u00f3vil \\u00faltimos 7 d\\u00edas\": \"Promedio m\\u00f3vil \\u00faltimos 7 d\\u00edas\"}, {\"Fecha\": \"2020-04-25\", \"Casos confirmados\": 13, \"Rolling\": 12.857142857142858, \"Casos confirmados diarios\": \"Casos confirmados diarios\", \"Promedio m\\u00f3vil \\u00faltimos 7 d\\u00edas\": \"Promedio m\\u00f3vil \\u00faltimos 7 d\\u00edas\"}, {\"Fecha\": \"2020-04-26\", \"Casos confirmados\": 7, \"Rolling\": 12.428571428571429, \"Casos confirmados diarios\": \"Casos confirmados diarios\", \"Promedio m\\u00f3vil \\u00faltimos 7 d\\u00edas\": \"Promedio m\\u00f3vil \\u00faltimos 7 d\\u00edas\"}]}}, {\"mode\": \"vega-lite\"});\n",
       "</script>"
      ],
      "text/plain": [
       "alt.LayerChart(...)"
      ]
     },
     "execution_count": 29,
     "metadata": {},
     "output_type": "execute_result"
    }
   ],
   "source": [
    "#hide_input\n",
    "bars, line = my_cases_plot(region)\n",
    "(bars + line).properties(\n",
    "    title=f'Covid-19 en Chile: Casos confirmados diarios en {region}',\n",
    "    width=600\n",
    ")"
   ]
  },
  {
   "cell_type": "markdown",
   "metadata": {},
   "source": [
    "## Araucanía"
   ]
  },
  {
   "cell_type": "code",
   "execution_count": 30,
   "metadata": {
    "scrolled": false
   },
   "outputs": [],
   "source": [
    "#hide\n",
    "region = \"Araucanía\""
   ]
  },
  {
   "cell_type": "code",
   "execution_count": 31,
   "metadata": {},
   "outputs": [
    {
     "data": {
      "text/html": [
       "\n",
       "<div id=\"altair-viz-a6d92062aa3b4217b1c8101041187beb\"></div>\n",
       "<script type=\"text/javascript\">\n",
       "  (function(spec, embedOpt){\n",
       "    let outputDiv = document.currentScript.previousElementSibling;\n",
       "    if (outputDiv.id !== \"altair-viz-a6d92062aa3b4217b1c8101041187beb\") {\n",
       "      outputDiv = document.getElementById(\"altair-viz-a6d92062aa3b4217b1c8101041187beb\");\n",
       "    }\n",
       "    const paths = {\n",
       "      \"vega\": \"https://cdn.jsdelivr.net/npm//vega@5?noext\",\n",
       "      \"vega-lib\": \"https://cdn.jsdelivr.net/npm//vega-lib?noext\",\n",
       "      \"vega-lite\": \"https://cdn.jsdelivr.net/npm//vega-lite@4.8.1?noext\",\n",
       "      \"vega-embed\": \"https://cdn.jsdelivr.net/npm//vega-embed@6?noext\",\n",
       "    };\n",
       "\n",
       "    function loadScript(lib) {\n",
       "      return new Promise(function(resolve, reject) {\n",
       "        var s = document.createElement('script');\n",
       "        s.src = paths[lib];\n",
       "        s.async = true;\n",
       "        s.onload = () => resolve(paths[lib]);\n",
       "        s.onerror = () => reject(`Error loading script: ${paths[lib]}`);\n",
       "        document.getElementsByTagName(\"head\")[0].appendChild(s);\n",
       "      });\n",
       "    }\n",
       "\n",
       "    function showError(err) {\n",
       "      outputDiv.innerHTML = `<div class=\"error\" style=\"color:red;\">${err}</div>`;\n",
       "      throw err;\n",
       "    }\n",
       "\n",
       "    function displayChart(vegaEmbed) {\n",
       "      vegaEmbed(outputDiv, spec, embedOpt)\n",
       "        .catch(err => showError(`Javascript Error: ${err.message}<br>This usually means there's a typo in your chart specification. See the javascript console for the full traceback.`));\n",
       "    }\n",
       "\n",
       "    if(typeof define === \"function\" && define.amd) {\n",
       "      requirejs.config({paths});\n",
       "      require([\"vega-embed\"], displayChart, err => showError(`Error loading script: ${err.message}`));\n",
       "    } else if (typeof vegaEmbed === \"function\") {\n",
       "      displayChart(vegaEmbed);\n",
       "    } else {\n",
       "      loadScript(\"vega\")\n",
       "        .then(() => loadScript(\"vega-lite\"))\n",
       "        .then(() => loadScript(\"vega-embed\"))\n",
       "        .catch(showError)\n",
       "        .then(() => displayChart(vegaEmbed));\n",
       "    }\n",
       "  })({\"config\": {\"view\": {\"continuousWidth\": 400, \"continuousHeight\": 300}}, \"layer\": [{\"mark\": {\"type\": \"bar\", \"opacity\": 0.7}, \"encoding\": {\"opacity\": {\"type\": \"nominal\", \"field\": \"Casos confirmados diarios\", \"legend\": {\"title\": \"\"}}, \"tooltip\": [{\"type\": \"nominal\", \"field\": \"Fecha\"}, {\"type\": \"quantitative\", \"field\": \"Casos confirmados\"}], \"x\": {\"type\": \"nominal\", \"axis\": {\"title\": \"Fecha (a\\u00f1o-mes-d\\u00eda)\"}, \"field\": \"Fecha\"}, \"y\": {\"type\": \"quantitative\", \"axis\": {\"title\": \"Casos confirmados diarios\"}, \"field\": \"Casos confirmados\"}}}, {\"mark\": {\"type\": \"line\", \"color\": \"#1f77b4\", \"point\": {\"filled\": true, \"fill\": \"#1f77b4\"}}, \"encoding\": {\"shape\": {\"type\": \"nominal\", \"field\": \"Promedio m\\u00f3vil \\u00faltimos 7 d\\u00edas\", \"legend\": {\"title\": \"\"}}, \"x\": {\"type\": \"nominal\", \"axis\": {\"title\": \"Fecha (a\\u00f1o-mes-d\\u00eda)\"}, \"field\": \"Fecha\"}, \"y\": {\"type\": \"quantitative\", \"field\": \"Rolling\"}}}], \"data\": {\"name\": \"data-f9beca3198c3575f04e998d6d997db38\"}, \"title\": \"Covid-19 en Chile: Casos confirmados diarios en Araucan\\u00eda\", \"width\": 600, \"$schema\": \"https://vega.github.io/schema/vega-lite/v4.8.1.json\", \"datasets\": {\"data-f9beca3198c3575f04e998d6d997db38\": [{\"Fecha\": \"2020-03-04\", \"Casos confirmados\": 0, \"Rolling\": null, \"Casos confirmados diarios\": \"Casos confirmados diarios\", \"Promedio m\\u00f3vil \\u00faltimos 7 d\\u00edas\": \"Promedio m\\u00f3vil \\u00faltimos 7 d\\u00edas\"}, {\"Fecha\": \"2020-03-05\", \"Casos confirmados\": 0, \"Rolling\": null, \"Casos confirmados diarios\": \"Casos confirmados diarios\", \"Promedio m\\u00f3vil \\u00faltimos 7 d\\u00edas\": \"Promedio m\\u00f3vil \\u00faltimos 7 d\\u00edas\"}, {\"Fecha\": \"2020-03-06\", \"Casos confirmados\": 0, \"Rolling\": null, \"Casos confirmados diarios\": \"Casos confirmados diarios\", \"Promedio m\\u00f3vil \\u00faltimos 7 d\\u00edas\": \"Promedio m\\u00f3vil \\u00faltimos 7 d\\u00edas\"}, {\"Fecha\": \"2020-03-07\", \"Casos confirmados\": 0, \"Rolling\": null, \"Casos confirmados diarios\": \"Casos confirmados diarios\", \"Promedio m\\u00f3vil \\u00faltimos 7 d\\u00edas\": \"Promedio m\\u00f3vil \\u00faltimos 7 d\\u00edas\"}, {\"Fecha\": \"2020-03-08\", \"Casos confirmados\": 0, \"Rolling\": null, \"Casos confirmados diarios\": \"Casos confirmados diarios\", \"Promedio m\\u00f3vil \\u00faltimos 7 d\\u00edas\": \"Promedio m\\u00f3vil \\u00faltimos 7 d\\u00edas\"}, {\"Fecha\": \"2020-03-09\", \"Casos confirmados\": 0, \"Rolling\": null, \"Casos confirmados diarios\": \"Casos confirmados diarios\", \"Promedio m\\u00f3vil \\u00faltimos 7 d\\u00edas\": \"Promedio m\\u00f3vil \\u00faltimos 7 d\\u00edas\"}, {\"Fecha\": \"2020-03-10\", \"Casos confirmados\": 0, \"Rolling\": 0.0, \"Casos confirmados diarios\": \"Casos confirmados diarios\", \"Promedio m\\u00f3vil \\u00faltimos 7 d\\u00edas\": \"Promedio m\\u00f3vil \\u00faltimos 7 d\\u00edas\"}, {\"Fecha\": \"2020-03-11\", \"Casos confirmados\": 0, \"Rolling\": 0.0, \"Casos confirmados diarios\": \"Casos confirmados diarios\", \"Promedio m\\u00f3vil \\u00faltimos 7 d\\u00edas\": \"Promedio m\\u00f3vil \\u00faltimos 7 d\\u00edas\"}, {\"Fecha\": \"2020-03-12\", \"Casos confirmados\": 0, \"Rolling\": 0.0, \"Casos confirmados diarios\": \"Casos confirmados diarios\", \"Promedio m\\u00f3vil \\u00faltimos 7 d\\u00edas\": \"Promedio m\\u00f3vil \\u00faltimos 7 d\\u00edas\"}, {\"Fecha\": \"2020-03-13\", \"Casos confirmados\": 0, \"Rolling\": 0.0, \"Casos confirmados diarios\": \"Casos confirmados diarios\", \"Promedio m\\u00f3vil \\u00faltimos 7 d\\u00edas\": \"Promedio m\\u00f3vil \\u00faltimos 7 d\\u00edas\"}, {\"Fecha\": \"2020-03-14\", \"Casos confirmados\": 0, \"Rolling\": 0.0, \"Casos confirmados diarios\": \"Casos confirmados diarios\", \"Promedio m\\u00f3vil \\u00faltimos 7 d\\u00edas\": \"Promedio m\\u00f3vil \\u00faltimos 7 d\\u00edas\"}, {\"Fecha\": \"2020-03-15\", \"Casos confirmados\": 0, \"Rolling\": 0.0, \"Casos confirmados diarios\": \"Casos confirmados diarios\", \"Promedio m\\u00f3vil \\u00faltimos 7 d\\u00edas\": \"Promedio m\\u00f3vil \\u00faltimos 7 d\\u00edas\"}, {\"Fecha\": \"2020-03-16\", \"Casos confirmados\": 1, \"Rolling\": 0.14285714285714285, \"Casos confirmados diarios\": \"Casos confirmados diarios\", \"Promedio m\\u00f3vil \\u00faltimos 7 d\\u00edas\": \"Promedio m\\u00f3vil \\u00faltimos 7 d\\u00edas\"}, {\"Fecha\": \"2020-03-17\", \"Casos confirmados\": 0, \"Rolling\": 0.14285714285714285, \"Casos confirmados diarios\": \"Casos confirmados diarios\", \"Promedio m\\u00f3vil \\u00faltimos 7 d\\u00edas\": \"Promedio m\\u00f3vil \\u00faltimos 7 d\\u00edas\"}, {\"Fecha\": \"2020-03-18\", \"Casos confirmados\": 3, \"Rolling\": 0.5714285714285714, \"Casos confirmados diarios\": \"Casos confirmados diarios\", \"Promedio m\\u00f3vil \\u00faltimos 7 d\\u00edas\": \"Promedio m\\u00f3vil \\u00faltimos 7 d\\u00edas\"}, {\"Fecha\": \"2020-03-19\", \"Casos confirmados\": 3, \"Rolling\": 1.0, \"Casos confirmados diarios\": \"Casos confirmados diarios\", \"Promedio m\\u00f3vil \\u00faltimos 7 d\\u00edas\": \"Promedio m\\u00f3vil \\u00faltimos 7 d\\u00edas\"}, {\"Fecha\": \"2020-03-20\", \"Casos confirmados\": 2, \"Rolling\": 1.2857142857142858, \"Casos confirmados diarios\": \"Casos confirmados diarios\", \"Promedio m\\u00f3vil \\u00faltimos 7 d\\u00edas\": \"Promedio m\\u00f3vil \\u00faltimos 7 d\\u00edas\"}, {\"Fecha\": \"2020-03-21\", \"Casos confirmados\": 6, \"Rolling\": 2.142857142857143, \"Casos confirmados diarios\": \"Casos confirmados diarios\", \"Promedio m\\u00f3vil \\u00faltimos 7 d\\u00edas\": \"Promedio m\\u00f3vil \\u00faltimos 7 d\\u00edas\"}, {\"Fecha\": \"2020-03-22\", \"Casos confirmados\": 12, \"Rolling\": 3.857142857142857, \"Casos confirmados diarios\": \"Casos confirmados diarios\", \"Promedio m\\u00f3vil \\u00faltimos 7 d\\u00edas\": \"Promedio m\\u00f3vil \\u00faltimos 7 d\\u00edas\"}, {\"Fecha\": \"2020-03-23\", \"Casos confirmados\": 13, \"Rolling\": 5.571428571428571, \"Casos confirmados diarios\": \"Casos confirmados diarios\", \"Promedio m\\u00f3vil \\u00faltimos 7 d\\u00edas\": \"Promedio m\\u00f3vil \\u00faltimos 7 d\\u00edas\"}, {\"Fecha\": \"2020-03-24\", \"Casos confirmados\": 19, \"Rolling\": 8.285714285714286, \"Casos confirmados diarios\": \"Casos confirmados diarios\", \"Promedio m\\u00f3vil \\u00faltimos 7 d\\u00edas\": \"Promedio m\\u00f3vil \\u00faltimos 7 d\\u00edas\"}, {\"Fecha\": \"2020-03-25\", \"Casos confirmados\": 15, \"Rolling\": 10.0, \"Casos confirmados diarios\": \"Casos confirmados diarios\", \"Promedio m\\u00f3vil \\u00faltimos 7 d\\u00edas\": \"Promedio m\\u00f3vil \\u00faltimos 7 d\\u00edas\"}, {\"Fecha\": \"2020-03-26\", \"Casos confirmados\": 37, \"Rolling\": 14.857142857142858, \"Casos confirmados diarios\": \"Casos confirmados diarios\", \"Promedio m\\u00f3vil \\u00faltimos 7 d\\u00edas\": \"Promedio m\\u00f3vil \\u00faltimos 7 d\\u00edas\"}, {\"Fecha\": \"2020-03-27\", \"Casos confirmados\": 32, \"Rolling\": 19.142857142857142, \"Casos confirmados diarios\": \"Casos confirmados diarios\", \"Promedio m\\u00f3vil \\u00faltimos 7 d\\u00edas\": \"Promedio m\\u00f3vil \\u00faltimos 7 d\\u00edas\"}, {\"Fecha\": \"2020-03-28\", \"Casos confirmados\": 34, \"Rolling\": 23.142857142857142, \"Casos confirmados diarios\": \"Casos confirmados diarios\", \"Promedio m\\u00f3vil \\u00faltimos 7 d\\u00edas\": \"Promedio m\\u00f3vil \\u00faltimos 7 d\\u00edas\"}, {\"Fecha\": \"2020-03-29\", \"Casos confirmados\": 28, \"Rolling\": 25.428571428571427, \"Casos confirmados diarios\": \"Casos confirmados diarios\", \"Promedio m\\u00f3vil \\u00faltimos 7 d\\u00edas\": \"Promedio m\\u00f3vil \\u00faltimos 7 d\\u00edas\"}, {\"Fecha\": \"2020-03-30\", \"Casos confirmados\": 42, \"Rolling\": 29.571428571428573, \"Casos confirmados diarios\": \"Casos confirmados diarios\", \"Promedio m\\u00f3vil \\u00faltimos 7 d\\u00edas\": \"Promedio m\\u00f3vil \\u00faltimos 7 d\\u00edas\"}, {\"Fecha\": \"2020-03-31\", \"Casos confirmados\": 55, \"Rolling\": 34.714285714285715, \"Casos confirmados diarios\": \"Casos confirmados diarios\", \"Promedio m\\u00f3vil \\u00faltimos 7 d\\u00edas\": \"Promedio m\\u00f3vil \\u00faltimos 7 d\\u00edas\"}, {\"Fecha\": \"2020-04-01\", \"Casos confirmados\": 41, \"Rolling\": 38.42857142857143, \"Casos confirmados diarios\": \"Casos confirmados diarios\", \"Promedio m\\u00f3vil \\u00faltimos 7 d\\u00edas\": \"Promedio m\\u00f3vil \\u00faltimos 7 d\\u00edas\"}, {\"Fecha\": \"2020-04-02\", \"Casos confirmados\": 46, \"Rolling\": 39.714285714285715, \"Casos confirmados diarios\": \"Casos confirmados diarios\", \"Promedio m\\u00f3vil \\u00faltimos 7 d\\u00edas\": \"Promedio m\\u00f3vil \\u00faltimos 7 d\\u00edas\"}, {\"Fecha\": \"2020-04-03\", \"Casos confirmados\": 43, \"Rolling\": 41.285714285714285, \"Casos confirmados diarios\": \"Casos confirmados diarios\", \"Promedio m\\u00f3vil \\u00faltimos 7 d\\u00edas\": \"Promedio m\\u00f3vil \\u00faltimos 7 d\\u00edas\"}, {\"Fecha\": \"2020-04-04\", \"Casos confirmados\": 45, \"Rolling\": 42.857142857142854, \"Casos confirmados diarios\": \"Casos confirmados diarios\", \"Promedio m\\u00f3vil \\u00faltimos 7 d\\u00edas\": \"Promedio m\\u00f3vil \\u00faltimos 7 d\\u00edas\"}, {\"Fecha\": \"2020-04-05\", \"Casos confirmados\": 32, \"Rolling\": 43.42857142857143, \"Casos confirmados diarios\": \"Casos confirmados diarios\", \"Promedio m\\u00f3vil \\u00faltimos 7 d\\u00edas\": \"Promedio m\\u00f3vil \\u00faltimos 7 d\\u00edas\"}, {\"Fecha\": \"2020-04-06\", \"Casos confirmados\": 53, \"Rolling\": 45.0, \"Casos confirmados diarios\": \"Casos confirmados diarios\", \"Promedio m\\u00f3vil \\u00faltimos 7 d\\u00edas\": \"Promedio m\\u00f3vil \\u00faltimos 7 d\\u00edas\"}, {\"Fecha\": \"2020-04-07\", \"Casos confirmados\": 50, \"Rolling\": 44.285714285714285, \"Casos confirmados diarios\": \"Casos confirmados diarios\", \"Promedio m\\u00f3vil \\u00faltimos 7 d\\u00edas\": \"Promedio m\\u00f3vil \\u00faltimos 7 d\\u00edas\"}, {\"Fecha\": \"2020-04-08\", \"Casos confirmados\": 57, \"Rolling\": 46.57142857142857, \"Casos confirmados diarios\": \"Casos confirmados diarios\", \"Promedio m\\u00f3vil \\u00faltimos 7 d\\u00edas\": \"Promedio m\\u00f3vil \\u00faltimos 7 d\\u00edas\"}, {\"Fecha\": \"2020-04-09\", \"Casos confirmados\": 20, \"Rolling\": 42.857142857142854, \"Casos confirmados diarios\": \"Casos confirmados diarios\", \"Promedio m\\u00f3vil \\u00faltimos 7 d\\u00edas\": \"Promedio m\\u00f3vil \\u00faltimos 7 d\\u00edas\"}, {\"Fecha\": \"2020-04-10\", \"Casos confirmados\": 23, \"Rolling\": 40.0, \"Casos confirmados diarios\": \"Casos confirmados diarios\", \"Promedio m\\u00f3vil \\u00faltimos 7 d\\u00edas\": \"Promedio m\\u00f3vil \\u00faltimos 7 d\\u00edas\"}, {\"Fecha\": \"2020-04-11\", \"Casos confirmados\": 27, \"Rolling\": 37.42857142857143, \"Casos confirmados diarios\": \"Casos confirmados diarios\", \"Promedio m\\u00f3vil \\u00faltimos 7 d\\u00edas\": \"Promedio m\\u00f3vil \\u00faltimos 7 d\\u00edas\"}, {\"Fecha\": \"2020-04-12\", \"Casos confirmados\": 36, \"Rolling\": 38.0, \"Casos confirmados diarios\": \"Casos confirmados diarios\", \"Promedio m\\u00f3vil \\u00faltimos 7 d\\u00edas\": \"Promedio m\\u00f3vil \\u00faltimos 7 d\\u00edas\"}, {\"Fecha\": \"2020-04-13\", \"Casos confirmados\": 20, \"Rolling\": 33.285714285714285, \"Casos confirmados diarios\": \"Casos confirmados diarios\", \"Promedio m\\u00f3vil \\u00faltimos 7 d\\u00edas\": \"Promedio m\\u00f3vil \\u00faltimos 7 d\\u00edas\"}, {\"Fecha\": \"2020-04-14\", \"Casos confirmados\": 21, \"Rolling\": 29.142857142857142, \"Casos confirmados diarios\": \"Casos confirmados diarios\", \"Promedio m\\u00f3vil \\u00faltimos 7 d\\u00edas\": \"Promedio m\\u00f3vil \\u00faltimos 7 d\\u00edas\"}, {\"Fecha\": \"2020-04-15\", \"Casos confirmados\": 10, \"Rolling\": 22.428571428571427, \"Casos confirmados diarios\": \"Casos confirmados diarios\", \"Promedio m\\u00f3vil \\u00faltimos 7 d\\u00edas\": \"Promedio m\\u00f3vil \\u00faltimos 7 d\\u00edas\"}, {\"Fecha\": \"2020-04-16\", \"Casos confirmados\": 56, \"Rolling\": 27.571428571428573, \"Casos confirmados diarios\": \"Casos confirmados diarios\", \"Promedio m\\u00f3vil \\u00faltimos 7 d\\u00edas\": \"Promedio m\\u00f3vil \\u00faltimos 7 d\\u00edas\"}, {\"Fecha\": \"2020-04-17\", \"Casos confirmados\": 25, \"Rolling\": 27.857142857142858, \"Casos confirmados diarios\": \"Casos confirmados diarios\", \"Promedio m\\u00f3vil \\u00faltimos 7 d\\u00edas\": \"Promedio m\\u00f3vil \\u00faltimos 7 d\\u00edas\"}, {\"Fecha\": \"2020-04-18\", \"Casos confirmados\": 37, \"Rolling\": 29.285714285714285, \"Casos confirmados diarios\": \"Casos confirmados diarios\", \"Promedio m\\u00f3vil \\u00faltimos 7 d\\u00edas\": \"Promedio m\\u00f3vil \\u00faltimos 7 d\\u00edas\"}, {\"Fecha\": \"2020-04-19\", \"Casos confirmados\": 28, \"Rolling\": 28.142857142857142, \"Casos confirmados diarios\": \"Casos confirmados diarios\", \"Promedio m\\u00f3vil \\u00faltimos 7 d\\u00edas\": \"Promedio m\\u00f3vil \\u00faltimos 7 d\\u00edas\"}, {\"Fecha\": \"2020-04-20\", \"Casos confirmados\": 73, \"Rolling\": 35.714285714285715, \"Casos confirmados diarios\": \"Casos confirmados diarios\", \"Promedio m\\u00f3vil \\u00faltimos 7 d\\u00edas\": \"Promedio m\\u00f3vil \\u00faltimos 7 d\\u00edas\"}, {\"Fecha\": \"2020-04-21\", \"Casos confirmados\": 47, \"Rolling\": 39.42857142857143, \"Casos confirmados diarios\": \"Casos confirmados diarios\", \"Promedio m\\u00f3vil \\u00faltimos 7 d\\u00edas\": \"Promedio m\\u00f3vil \\u00faltimos 7 d\\u00edas\"}, {\"Fecha\": \"2020-04-22\", \"Casos confirmados\": 21, \"Rolling\": 41.0, \"Casos confirmados diarios\": \"Casos confirmados diarios\", \"Promedio m\\u00f3vil \\u00faltimos 7 d\\u00edas\": \"Promedio m\\u00f3vil \\u00faltimos 7 d\\u00edas\"}, {\"Fecha\": \"2020-04-23\", \"Casos confirmados\": 29, \"Rolling\": 37.142857142857146, \"Casos confirmados diarios\": \"Casos confirmados diarios\", \"Promedio m\\u00f3vil \\u00faltimos 7 d\\u00edas\": \"Promedio m\\u00f3vil \\u00faltimos 7 d\\u00edas\"}, {\"Fecha\": \"2020-04-24\", \"Casos confirmados\": 42, \"Rolling\": 39.57142857142857, \"Casos confirmados diarios\": \"Casos confirmados diarios\", \"Promedio m\\u00f3vil \\u00faltimos 7 d\\u00edas\": \"Promedio m\\u00f3vil \\u00faltimos 7 d\\u00edas\"}, {\"Fecha\": \"2020-04-25\", \"Casos confirmados\": 19, \"Rolling\": 37.0, \"Casos confirmados diarios\": \"Casos confirmados diarios\", \"Promedio m\\u00f3vil \\u00faltimos 7 d\\u00edas\": \"Promedio m\\u00f3vil \\u00faltimos 7 d\\u00edas\"}, {\"Fecha\": \"2020-04-26\", \"Casos confirmados\": 13, \"Rolling\": 34.857142857142854, \"Casos confirmados diarios\": \"Casos confirmados diarios\", \"Promedio m\\u00f3vil \\u00faltimos 7 d\\u00edas\": \"Promedio m\\u00f3vil \\u00faltimos 7 d\\u00edas\"}]}}, {\"mode\": \"vega-lite\"});\n",
       "</script>"
      ],
      "text/plain": [
       "alt.LayerChart(...)"
      ]
     },
     "execution_count": 31,
     "metadata": {},
     "output_type": "execute_result"
    }
   ],
   "source": [
    "#hide_input\n",
    "bars, line = my_cases_plot(region)\n",
    "(bars + line).properties(\n",
    "    title=f'Covid-19 en Chile: Casos confirmados diarios en {region}',\n",
    "    width=600\n",
    ")"
   ]
  },
  {
   "cell_type": "markdown",
   "metadata": {},
   "source": [
    "## Los Ríos"
   ]
  },
  {
   "cell_type": "code",
   "execution_count": 32,
   "metadata": {
    "scrolled": true
   },
   "outputs": [],
   "source": [
    "#hide\n",
    "region = \"Los Ríos\""
   ]
  },
  {
   "cell_type": "code",
   "execution_count": 33,
   "metadata": {},
   "outputs": [
    {
     "data": {
      "text/html": [
       "\n",
       "<div id=\"altair-viz-7fd357e9bc164d479b8e68fd28168d01\"></div>\n",
       "<script type=\"text/javascript\">\n",
       "  (function(spec, embedOpt){\n",
       "    let outputDiv = document.currentScript.previousElementSibling;\n",
       "    if (outputDiv.id !== \"altair-viz-7fd357e9bc164d479b8e68fd28168d01\") {\n",
       "      outputDiv = document.getElementById(\"altair-viz-7fd357e9bc164d479b8e68fd28168d01\");\n",
       "    }\n",
       "    const paths = {\n",
       "      \"vega\": \"https://cdn.jsdelivr.net/npm//vega@5?noext\",\n",
       "      \"vega-lib\": \"https://cdn.jsdelivr.net/npm//vega-lib?noext\",\n",
       "      \"vega-lite\": \"https://cdn.jsdelivr.net/npm//vega-lite@4.8.1?noext\",\n",
       "      \"vega-embed\": \"https://cdn.jsdelivr.net/npm//vega-embed@6?noext\",\n",
       "    };\n",
       "\n",
       "    function loadScript(lib) {\n",
       "      return new Promise(function(resolve, reject) {\n",
       "        var s = document.createElement('script');\n",
       "        s.src = paths[lib];\n",
       "        s.async = true;\n",
       "        s.onload = () => resolve(paths[lib]);\n",
       "        s.onerror = () => reject(`Error loading script: ${paths[lib]}`);\n",
       "        document.getElementsByTagName(\"head\")[0].appendChild(s);\n",
       "      });\n",
       "    }\n",
       "\n",
       "    function showError(err) {\n",
       "      outputDiv.innerHTML = `<div class=\"error\" style=\"color:red;\">${err}</div>`;\n",
       "      throw err;\n",
       "    }\n",
       "\n",
       "    function displayChart(vegaEmbed) {\n",
       "      vegaEmbed(outputDiv, spec, embedOpt)\n",
       "        .catch(err => showError(`Javascript Error: ${err.message}<br>This usually means there's a typo in your chart specification. See the javascript console for the full traceback.`));\n",
       "    }\n",
       "\n",
       "    if(typeof define === \"function\" && define.amd) {\n",
       "      requirejs.config({paths});\n",
       "      require([\"vega-embed\"], displayChart, err => showError(`Error loading script: ${err.message}`));\n",
       "    } else if (typeof vegaEmbed === \"function\") {\n",
       "      displayChart(vegaEmbed);\n",
       "    } else {\n",
       "      loadScript(\"vega\")\n",
       "        .then(() => loadScript(\"vega-lite\"))\n",
       "        .then(() => loadScript(\"vega-embed\"))\n",
       "        .catch(showError)\n",
       "        .then(() => displayChart(vegaEmbed));\n",
       "    }\n",
       "  })({\"config\": {\"view\": {\"continuousWidth\": 400, \"continuousHeight\": 300}}, \"layer\": [{\"mark\": {\"type\": \"bar\", \"opacity\": 0.7}, \"encoding\": {\"opacity\": {\"type\": \"nominal\", \"field\": \"Casos confirmados diarios\", \"legend\": {\"title\": \"\"}}, \"tooltip\": [{\"type\": \"nominal\", \"field\": \"Fecha\"}, {\"type\": \"quantitative\", \"field\": \"Casos confirmados\"}], \"x\": {\"type\": \"nominal\", \"axis\": {\"title\": \"Fecha (a\\u00f1o-mes-d\\u00eda)\"}, \"field\": \"Fecha\"}, \"y\": {\"type\": \"quantitative\", \"axis\": {\"title\": \"Casos confirmados diarios\"}, \"field\": \"Casos confirmados\"}}}, {\"mark\": {\"type\": \"line\", \"color\": \"#1f77b4\", \"point\": {\"filled\": true, \"fill\": \"#1f77b4\"}}, \"encoding\": {\"shape\": {\"type\": \"nominal\", \"field\": \"Promedio m\\u00f3vil \\u00faltimos 7 d\\u00edas\", \"legend\": {\"title\": \"\"}}, \"x\": {\"type\": \"nominal\", \"axis\": {\"title\": \"Fecha (a\\u00f1o-mes-d\\u00eda)\"}, \"field\": \"Fecha\"}, \"y\": {\"type\": \"quantitative\", \"field\": \"Rolling\"}}}], \"data\": {\"name\": \"data-08af9851f6dcf06596262e9bd197bcd7\"}, \"title\": \"Covid-19 en Chile: Casos confirmados diarios en Los R\\u00edos\", \"width\": 600, \"$schema\": \"https://vega.github.io/schema/vega-lite/v4.8.1.json\", \"datasets\": {\"data-08af9851f6dcf06596262e9bd197bcd7\": [{\"Fecha\": \"2020-03-04\", \"Casos confirmados\": 0, \"Rolling\": null, \"Casos confirmados diarios\": \"Casos confirmados diarios\", \"Promedio m\\u00f3vil \\u00faltimos 7 d\\u00edas\": \"Promedio m\\u00f3vil \\u00faltimos 7 d\\u00edas\"}, {\"Fecha\": \"2020-03-05\", \"Casos confirmados\": 0, \"Rolling\": null, \"Casos confirmados diarios\": \"Casos confirmados diarios\", \"Promedio m\\u00f3vil \\u00faltimos 7 d\\u00edas\": \"Promedio m\\u00f3vil \\u00faltimos 7 d\\u00edas\"}, {\"Fecha\": \"2020-03-06\", \"Casos confirmados\": 0, \"Rolling\": null, \"Casos confirmados diarios\": \"Casos confirmados diarios\", \"Promedio m\\u00f3vil \\u00faltimos 7 d\\u00edas\": \"Promedio m\\u00f3vil \\u00faltimos 7 d\\u00edas\"}, {\"Fecha\": \"2020-03-07\", \"Casos confirmados\": 0, \"Rolling\": null, \"Casos confirmados diarios\": \"Casos confirmados diarios\", \"Promedio m\\u00f3vil \\u00faltimos 7 d\\u00edas\": \"Promedio m\\u00f3vil \\u00faltimos 7 d\\u00edas\"}, {\"Fecha\": \"2020-03-08\", \"Casos confirmados\": 0, \"Rolling\": null, \"Casos confirmados diarios\": \"Casos confirmados diarios\", \"Promedio m\\u00f3vil \\u00faltimos 7 d\\u00edas\": \"Promedio m\\u00f3vil \\u00faltimos 7 d\\u00edas\"}, {\"Fecha\": \"2020-03-09\", \"Casos confirmados\": 0, \"Rolling\": null, \"Casos confirmados diarios\": \"Casos confirmados diarios\", \"Promedio m\\u00f3vil \\u00faltimos 7 d\\u00edas\": \"Promedio m\\u00f3vil \\u00faltimos 7 d\\u00edas\"}, {\"Fecha\": \"2020-03-10\", \"Casos confirmados\": 0, \"Rolling\": 0.0, \"Casos confirmados diarios\": \"Casos confirmados diarios\", \"Promedio m\\u00f3vil \\u00faltimos 7 d\\u00edas\": \"Promedio m\\u00f3vil \\u00faltimos 7 d\\u00edas\"}, {\"Fecha\": \"2020-03-11\", \"Casos confirmados\": 0, \"Rolling\": 0.0, \"Casos confirmados diarios\": \"Casos confirmados diarios\", \"Promedio m\\u00f3vil \\u00faltimos 7 d\\u00edas\": \"Promedio m\\u00f3vil \\u00faltimos 7 d\\u00edas\"}, {\"Fecha\": \"2020-03-12\", \"Casos confirmados\": 0, \"Rolling\": 0.0, \"Casos confirmados diarios\": \"Casos confirmados diarios\", \"Promedio m\\u00f3vil \\u00faltimos 7 d\\u00edas\": \"Promedio m\\u00f3vil \\u00faltimos 7 d\\u00edas\"}, {\"Fecha\": \"2020-03-13\", \"Casos confirmados\": 0, \"Rolling\": 0.0, \"Casos confirmados diarios\": \"Casos confirmados diarios\", \"Promedio m\\u00f3vil \\u00faltimos 7 d\\u00edas\": \"Promedio m\\u00f3vil \\u00faltimos 7 d\\u00edas\"}, {\"Fecha\": \"2020-03-14\", \"Casos confirmados\": 0, \"Rolling\": 0.0, \"Casos confirmados diarios\": \"Casos confirmados diarios\", \"Promedio m\\u00f3vil \\u00faltimos 7 d\\u00edas\": \"Promedio m\\u00f3vil \\u00faltimos 7 d\\u00edas\"}, {\"Fecha\": \"2020-03-15\", \"Casos confirmados\": 0, \"Rolling\": 0.0, \"Casos confirmados diarios\": \"Casos confirmados diarios\", \"Promedio m\\u00f3vil \\u00faltimos 7 d\\u00edas\": \"Promedio m\\u00f3vil \\u00faltimos 7 d\\u00edas\"}, {\"Fecha\": \"2020-03-16\", \"Casos confirmados\": 1, \"Rolling\": 0.14285714285714285, \"Casos confirmados diarios\": \"Casos confirmados diarios\", \"Promedio m\\u00f3vil \\u00faltimos 7 d\\u00edas\": \"Promedio m\\u00f3vil \\u00faltimos 7 d\\u00edas\"}, {\"Fecha\": \"2020-03-17\", \"Casos confirmados\": 0, \"Rolling\": 0.14285714285714285, \"Casos confirmados diarios\": \"Casos confirmados diarios\", \"Promedio m\\u00f3vil \\u00faltimos 7 d\\u00edas\": \"Promedio m\\u00f3vil \\u00faltimos 7 d\\u00edas\"}, {\"Fecha\": \"2020-03-18\", \"Casos confirmados\": 0, \"Rolling\": 0.14285714285714285, \"Casos confirmados diarios\": \"Casos confirmados diarios\", \"Promedio m\\u00f3vil \\u00faltimos 7 d\\u00edas\": \"Promedio m\\u00f3vil \\u00faltimos 7 d\\u00edas\"}, {\"Fecha\": \"2020-03-19\", \"Casos confirmados\": 0, \"Rolling\": 0.14285714285714285, \"Casos confirmados diarios\": \"Casos confirmados diarios\", \"Promedio m\\u00f3vil \\u00faltimos 7 d\\u00edas\": \"Promedio m\\u00f3vil \\u00faltimos 7 d\\u00edas\"}, {\"Fecha\": \"2020-03-20\", \"Casos confirmados\": 0, \"Rolling\": 0.14285714285714285, \"Casos confirmados diarios\": \"Casos confirmados diarios\", \"Promedio m\\u00f3vil \\u00faltimos 7 d\\u00edas\": \"Promedio m\\u00f3vil \\u00faltimos 7 d\\u00edas\"}, {\"Fecha\": \"2020-03-21\", \"Casos confirmados\": 0, \"Rolling\": 0.14285714285714285, \"Casos confirmados diarios\": \"Casos confirmados diarios\", \"Promedio m\\u00f3vil \\u00faltimos 7 d\\u00edas\": \"Promedio m\\u00f3vil \\u00faltimos 7 d\\u00edas\"}, {\"Fecha\": \"2020-03-22\", \"Casos confirmados\": 0, \"Rolling\": 0.14285714285714285, \"Casos confirmados diarios\": \"Casos confirmados diarios\", \"Promedio m\\u00f3vil \\u00faltimos 7 d\\u00edas\": \"Promedio m\\u00f3vil \\u00faltimos 7 d\\u00edas\"}, {\"Fecha\": \"2020-03-23\", \"Casos confirmados\": 3, \"Rolling\": 0.42857142857142855, \"Casos confirmados diarios\": \"Casos confirmados diarios\", \"Promedio m\\u00f3vil \\u00faltimos 7 d\\u00edas\": \"Promedio m\\u00f3vil \\u00faltimos 7 d\\u00edas\"}, {\"Fecha\": \"2020-03-24\", \"Casos confirmados\": 2, \"Rolling\": 0.7142857142857143, \"Casos confirmados diarios\": \"Casos confirmados diarios\", \"Promedio m\\u00f3vil \\u00faltimos 7 d\\u00edas\": \"Promedio m\\u00f3vil \\u00faltimos 7 d\\u00edas\"}, {\"Fecha\": \"2020-03-25\", \"Casos confirmados\": 5, \"Rolling\": 1.4285714285714286, \"Casos confirmados diarios\": \"Casos confirmados diarios\", \"Promedio m\\u00f3vil \\u00faltimos 7 d\\u00edas\": \"Promedio m\\u00f3vil \\u00faltimos 7 d\\u00edas\"}, {\"Fecha\": \"2020-03-26\", \"Casos confirmados\": 3, \"Rolling\": 1.8571428571428572, \"Casos confirmados diarios\": \"Casos confirmados diarios\", \"Promedio m\\u00f3vil \\u00faltimos 7 d\\u00edas\": \"Promedio m\\u00f3vil \\u00faltimos 7 d\\u00edas\"}, {\"Fecha\": \"2020-03-27\", \"Casos confirmados\": 8, \"Rolling\": 3.0, \"Casos confirmados diarios\": \"Casos confirmados diarios\", \"Promedio m\\u00f3vil \\u00faltimos 7 d\\u00edas\": \"Promedio m\\u00f3vil \\u00faltimos 7 d\\u00edas\"}, {\"Fecha\": \"2020-03-28\", \"Casos confirmados\": 5, \"Rolling\": 3.7142857142857144, \"Casos confirmados diarios\": \"Casos confirmados diarios\", \"Promedio m\\u00f3vil \\u00faltimos 7 d\\u00edas\": \"Promedio m\\u00f3vil \\u00faltimos 7 d\\u00edas\"}, {\"Fecha\": \"2020-03-29\", \"Casos confirmados\": 13, \"Rolling\": 5.571428571428571, \"Casos confirmados diarios\": \"Casos confirmados diarios\", \"Promedio m\\u00f3vil \\u00faltimos 7 d\\u00edas\": \"Promedio m\\u00f3vil \\u00faltimos 7 d\\u00edas\"}, {\"Fecha\": \"2020-03-30\", \"Casos confirmados\": 7, \"Rolling\": 6.142857142857143, \"Casos confirmados diarios\": \"Casos confirmados diarios\", \"Promedio m\\u00f3vil \\u00faltimos 7 d\\u00edas\": \"Promedio m\\u00f3vil \\u00faltimos 7 d\\u00edas\"}, {\"Fecha\": \"2020-03-31\", \"Casos confirmados\": 11, \"Rolling\": 7.428571428571429, \"Casos confirmados diarios\": \"Casos confirmados diarios\", \"Promedio m\\u00f3vil \\u00faltimos 7 d\\u00edas\": \"Promedio m\\u00f3vil \\u00faltimos 7 d\\u00edas\"}, {\"Fecha\": \"2020-04-01\", \"Casos confirmados\": 6, \"Rolling\": 7.571428571428571, \"Casos confirmados diarios\": \"Casos confirmados diarios\", \"Promedio m\\u00f3vil \\u00faltimos 7 d\\u00edas\": \"Promedio m\\u00f3vil \\u00faltimos 7 d\\u00edas\"}, {\"Fecha\": \"2020-04-02\", \"Casos confirmados\": 4, \"Rolling\": 7.714285714285714, \"Casos confirmados diarios\": \"Casos confirmados diarios\", \"Promedio m\\u00f3vil \\u00faltimos 7 d\\u00edas\": \"Promedio m\\u00f3vil \\u00faltimos 7 d\\u00edas\"}, {\"Fecha\": \"2020-04-03\", \"Casos confirmados\": 10, \"Rolling\": 8.0, \"Casos confirmados diarios\": \"Casos confirmados diarios\", \"Promedio m\\u00f3vil \\u00faltimos 7 d\\u00edas\": \"Promedio m\\u00f3vil \\u00faltimos 7 d\\u00edas\"}, {\"Fecha\": \"2020-04-04\", \"Casos confirmados\": 11, \"Rolling\": 8.857142857142858, \"Casos confirmados diarios\": \"Casos confirmados diarios\", \"Promedio m\\u00f3vil \\u00faltimos 7 d\\u00edas\": \"Promedio m\\u00f3vil \\u00faltimos 7 d\\u00edas\"}, {\"Fecha\": \"2020-04-05\", \"Casos confirmados\": 10, \"Rolling\": 8.428571428571429, \"Casos confirmados diarios\": \"Casos confirmados diarios\", \"Promedio m\\u00f3vil \\u00faltimos 7 d\\u00edas\": \"Promedio m\\u00f3vil \\u00faltimos 7 d\\u00edas\"}, {\"Fecha\": \"2020-04-06\", \"Casos confirmados\": 5, \"Rolling\": 8.142857142857142, \"Casos confirmados diarios\": \"Casos confirmados diarios\", \"Promedio m\\u00f3vil \\u00faltimos 7 d\\u00edas\": \"Promedio m\\u00f3vil \\u00faltimos 7 d\\u00edas\"}, {\"Fecha\": \"2020-04-07\", \"Casos confirmados\": 5, \"Rolling\": 7.285714285714286, \"Casos confirmados diarios\": \"Casos confirmados diarios\", \"Promedio m\\u00f3vil \\u00faltimos 7 d\\u00edas\": \"Promedio m\\u00f3vil \\u00faltimos 7 d\\u00edas\"}, {\"Fecha\": \"2020-04-08\", \"Casos confirmados\": 5, \"Rolling\": 7.142857142857143, \"Casos confirmados diarios\": \"Casos confirmados diarios\", \"Promedio m\\u00f3vil \\u00faltimos 7 d\\u00edas\": \"Promedio m\\u00f3vil \\u00faltimos 7 d\\u00edas\"}, {\"Fecha\": \"2020-04-09\", \"Casos confirmados\": 4, \"Rolling\": 7.142857142857143, \"Casos confirmados diarios\": \"Casos confirmados diarios\", \"Promedio m\\u00f3vil \\u00faltimos 7 d\\u00edas\": \"Promedio m\\u00f3vil \\u00faltimos 7 d\\u00edas\"}, {\"Fecha\": \"2020-04-10\", \"Casos confirmados\": 6, \"Rolling\": 6.571428571428571, \"Casos confirmados diarios\": \"Casos confirmados diarios\", \"Promedio m\\u00f3vil \\u00faltimos 7 d\\u00edas\": \"Promedio m\\u00f3vil \\u00faltimos 7 d\\u00edas\"}, {\"Fecha\": \"2020-04-11\", \"Casos confirmados\": 6, \"Rolling\": 5.857142857142857, \"Casos confirmados diarios\": \"Casos confirmados diarios\", \"Promedio m\\u00f3vil \\u00faltimos 7 d\\u00edas\": \"Promedio m\\u00f3vil \\u00faltimos 7 d\\u00edas\"}, {\"Fecha\": \"2020-04-12\", \"Casos confirmados\": 5, \"Rolling\": 5.142857142857143, \"Casos confirmados diarios\": \"Casos confirmados diarios\", \"Promedio m\\u00f3vil \\u00faltimos 7 d\\u00edas\": \"Promedio m\\u00f3vil \\u00faltimos 7 d\\u00edas\"}, {\"Fecha\": \"2020-04-13\", \"Casos confirmados\": 3, \"Rolling\": 4.857142857142857, \"Casos confirmados diarios\": \"Casos confirmados diarios\", \"Promedio m\\u00f3vil \\u00faltimos 7 d\\u00edas\": \"Promedio m\\u00f3vil \\u00faltimos 7 d\\u00edas\"}, {\"Fecha\": \"2020-04-14\", \"Casos confirmados\": 10, \"Rolling\": 5.571428571428571, \"Casos confirmados diarios\": \"Casos confirmados diarios\", \"Promedio m\\u00f3vil \\u00faltimos 7 d\\u00edas\": \"Promedio m\\u00f3vil \\u00faltimos 7 d\\u00edas\"}, {\"Fecha\": \"2020-04-15\", \"Casos confirmados\": 2, \"Rolling\": 5.142857142857143, \"Casos confirmados diarios\": \"Casos confirmados diarios\", \"Promedio m\\u00f3vil \\u00faltimos 7 d\\u00edas\": \"Promedio m\\u00f3vil \\u00faltimos 7 d\\u00edas\"}, {\"Fecha\": \"2020-04-16\", \"Casos confirmados\": 3, \"Rolling\": 5.0, \"Casos confirmados diarios\": \"Casos confirmados diarios\", \"Promedio m\\u00f3vil \\u00faltimos 7 d\\u00edas\": \"Promedio m\\u00f3vil \\u00faltimos 7 d\\u00edas\"}, {\"Fecha\": \"2020-04-17\", \"Casos confirmados\": 1, \"Rolling\": 4.285714285714286, \"Casos confirmados diarios\": \"Casos confirmados diarios\", \"Promedio m\\u00f3vil \\u00faltimos 7 d\\u00edas\": \"Promedio m\\u00f3vil \\u00faltimos 7 d\\u00edas\"}, {\"Fecha\": \"2020-04-18\", \"Casos confirmados\": 2, \"Rolling\": 3.7142857142857144, \"Casos confirmados diarios\": \"Casos confirmados diarios\", \"Promedio m\\u00f3vil \\u00faltimos 7 d\\u00edas\": \"Promedio m\\u00f3vil \\u00faltimos 7 d\\u00edas\"}, {\"Fecha\": \"2020-04-19\", \"Casos confirmados\": 1, \"Rolling\": 3.142857142857143, \"Casos confirmados diarios\": \"Casos confirmados diarios\", \"Promedio m\\u00f3vil \\u00faltimos 7 d\\u00edas\": \"Promedio m\\u00f3vil \\u00faltimos 7 d\\u00edas\"}, {\"Fecha\": \"2020-04-20\", \"Casos confirmados\": 5, \"Rolling\": 3.4285714285714284, \"Casos confirmados diarios\": \"Casos confirmados diarios\", \"Promedio m\\u00f3vil \\u00faltimos 7 d\\u00edas\": \"Promedio m\\u00f3vil \\u00faltimos 7 d\\u00edas\"}, {\"Fecha\": \"2020-04-21\", \"Casos confirmados\": 5, \"Rolling\": 2.7142857142857144, \"Casos confirmados diarios\": \"Casos confirmados diarios\", \"Promedio m\\u00f3vil \\u00faltimos 7 d\\u00edas\": \"Promedio m\\u00f3vil \\u00faltimos 7 d\\u00edas\"}, {\"Fecha\": \"2020-04-22\", \"Casos confirmados\": 4, \"Rolling\": 3.0, \"Casos confirmados diarios\": \"Casos confirmados diarios\", \"Promedio m\\u00f3vil \\u00faltimos 7 d\\u00edas\": \"Promedio m\\u00f3vil \\u00faltimos 7 d\\u00edas\"}, {\"Fecha\": \"2020-04-23\", \"Casos confirmados\": 2, \"Rolling\": 2.857142857142857, \"Casos confirmados diarios\": \"Casos confirmados diarios\", \"Promedio m\\u00f3vil \\u00faltimos 7 d\\u00edas\": \"Promedio m\\u00f3vil \\u00faltimos 7 d\\u00edas\"}, {\"Fecha\": \"2020-04-24\", \"Casos confirmados\": 1, \"Rolling\": 2.857142857142857, \"Casos confirmados diarios\": \"Casos confirmados diarios\", \"Promedio m\\u00f3vil \\u00faltimos 7 d\\u00edas\": \"Promedio m\\u00f3vil \\u00faltimos 7 d\\u00edas\"}, {\"Fecha\": \"2020-04-25\", \"Casos confirmados\": 3, \"Rolling\": 3.0, \"Casos confirmados diarios\": \"Casos confirmados diarios\", \"Promedio m\\u00f3vil \\u00faltimos 7 d\\u00edas\": \"Promedio m\\u00f3vil \\u00faltimos 7 d\\u00edas\"}, {\"Fecha\": \"2020-04-26\", \"Casos confirmados\": 1, \"Rolling\": 3.0, \"Casos confirmados diarios\": \"Casos confirmados diarios\", \"Promedio m\\u00f3vil \\u00faltimos 7 d\\u00edas\": \"Promedio m\\u00f3vil \\u00faltimos 7 d\\u00edas\"}]}}, {\"mode\": \"vega-lite\"});\n",
       "</script>"
      ],
      "text/plain": [
       "alt.LayerChart(...)"
      ]
     },
     "execution_count": 33,
     "metadata": {},
     "output_type": "execute_result"
    }
   ],
   "source": [
    "#hide_input\n",
    "bars, line = my_cases_plot(region)\n",
    "(bars + line).properties(\n",
    "    title=f'Covid-19 en Chile: Casos confirmados diarios en {region}',\n",
    "    width=600\n",
    ")"
   ]
  },
  {
   "cell_type": "markdown",
   "metadata": {},
   "source": [
    "## Los Lagos"
   ]
  },
  {
   "cell_type": "code",
   "execution_count": 34,
   "metadata": {
    "scrolled": false
   },
   "outputs": [],
   "source": [
    "#hide\n",
    "region = \"Los Lagos\""
   ]
  },
  {
   "cell_type": "code",
   "execution_count": 35,
   "metadata": {},
   "outputs": [
    {
     "data": {
      "text/html": [
       "\n",
       "<div id=\"altair-viz-fec4a085141d4337a303a76468f26c77\"></div>\n",
       "<script type=\"text/javascript\">\n",
       "  (function(spec, embedOpt){\n",
       "    let outputDiv = document.currentScript.previousElementSibling;\n",
       "    if (outputDiv.id !== \"altair-viz-fec4a085141d4337a303a76468f26c77\") {\n",
       "      outputDiv = document.getElementById(\"altair-viz-fec4a085141d4337a303a76468f26c77\");\n",
       "    }\n",
       "    const paths = {\n",
       "      \"vega\": \"https://cdn.jsdelivr.net/npm//vega@5?noext\",\n",
       "      \"vega-lib\": \"https://cdn.jsdelivr.net/npm//vega-lib?noext\",\n",
       "      \"vega-lite\": \"https://cdn.jsdelivr.net/npm//vega-lite@4.8.1?noext\",\n",
       "      \"vega-embed\": \"https://cdn.jsdelivr.net/npm//vega-embed@6?noext\",\n",
       "    };\n",
       "\n",
       "    function loadScript(lib) {\n",
       "      return new Promise(function(resolve, reject) {\n",
       "        var s = document.createElement('script');\n",
       "        s.src = paths[lib];\n",
       "        s.async = true;\n",
       "        s.onload = () => resolve(paths[lib]);\n",
       "        s.onerror = () => reject(`Error loading script: ${paths[lib]}`);\n",
       "        document.getElementsByTagName(\"head\")[0].appendChild(s);\n",
       "      });\n",
       "    }\n",
       "\n",
       "    function showError(err) {\n",
       "      outputDiv.innerHTML = `<div class=\"error\" style=\"color:red;\">${err}</div>`;\n",
       "      throw err;\n",
       "    }\n",
       "\n",
       "    function displayChart(vegaEmbed) {\n",
       "      vegaEmbed(outputDiv, spec, embedOpt)\n",
       "        .catch(err => showError(`Javascript Error: ${err.message}<br>This usually means there's a typo in your chart specification. See the javascript console for the full traceback.`));\n",
       "    }\n",
       "\n",
       "    if(typeof define === \"function\" && define.amd) {\n",
       "      requirejs.config({paths});\n",
       "      require([\"vega-embed\"], displayChart, err => showError(`Error loading script: ${err.message}`));\n",
       "    } else if (typeof vegaEmbed === \"function\") {\n",
       "      displayChart(vegaEmbed);\n",
       "    } else {\n",
       "      loadScript(\"vega\")\n",
       "        .then(() => loadScript(\"vega-lite\"))\n",
       "        .then(() => loadScript(\"vega-embed\"))\n",
       "        .catch(showError)\n",
       "        .then(() => displayChart(vegaEmbed));\n",
       "    }\n",
       "  })({\"config\": {\"view\": {\"continuousWidth\": 400, \"continuousHeight\": 300}}, \"layer\": [{\"mark\": {\"type\": \"bar\", \"opacity\": 0.7}, \"encoding\": {\"opacity\": {\"type\": \"nominal\", \"field\": \"Casos confirmados diarios\", \"legend\": {\"title\": \"\"}}, \"tooltip\": [{\"type\": \"nominal\", \"field\": \"Fecha\"}, {\"type\": \"quantitative\", \"field\": \"Casos confirmados\"}], \"x\": {\"type\": \"nominal\", \"axis\": {\"title\": \"Fecha (a\\u00f1o-mes-d\\u00eda)\"}, \"field\": \"Fecha\"}, \"y\": {\"type\": \"quantitative\", \"axis\": {\"title\": \"Casos confirmados diarios\"}, \"field\": \"Casos confirmados\"}}}, {\"mark\": {\"type\": \"line\", \"color\": \"#1f77b4\", \"point\": {\"filled\": true, \"fill\": \"#1f77b4\"}}, \"encoding\": {\"shape\": {\"type\": \"nominal\", \"field\": \"Promedio m\\u00f3vil \\u00faltimos 7 d\\u00edas\", \"legend\": {\"title\": \"\"}}, \"x\": {\"type\": \"nominal\", \"axis\": {\"title\": \"Fecha (a\\u00f1o-mes-d\\u00eda)\"}, \"field\": \"Fecha\"}, \"y\": {\"type\": \"quantitative\", \"field\": \"Rolling\"}}}], \"data\": {\"name\": \"data-835df34341e2e309cdccd5031c04e8ab\"}, \"title\": \"Covid-19 en Chile: Casos confirmados diarios en Los Lagos\", \"width\": 600, \"$schema\": \"https://vega.github.io/schema/vega-lite/v4.8.1.json\", \"datasets\": {\"data-835df34341e2e309cdccd5031c04e8ab\": [{\"Fecha\": \"2020-03-04\", \"Casos confirmados\": 0, \"Rolling\": null, \"Casos confirmados diarios\": \"Casos confirmados diarios\", \"Promedio m\\u00f3vil \\u00faltimos 7 d\\u00edas\": \"Promedio m\\u00f3vil \\u00faltimos 7 d\\u00edas\"}, {\"Fecha\": \"2020-03-05\", \"Casos confirmados\": 0, \"Rolling\": null, \"Casos confirmados diarios\": \"Casos confirmados diarios\", \"Promedio m\\u00f3vil \\u00faltimos 7 d\\u00edas\": \"Promedio m\\u00f3vil \\u00faltimos 7 d\\u00edas\"}, {\"Fecha\": \"2020-03-06\", \"Casos confirmados\": 0, \"Rolling\": null, \"Casos confirmados diarios\": \"Casos confirmados diarios\", \"Promedio m\\u00f3vil \\u00faltimos 7 d\\u00edas\": \"Promedio m\\u00f3vil \\u00faltimos 7 d\\u00edas\"}, {\"Fecha\": \"2020-03-07\", \"Casos confirmados\": 1, \"Rolling\": null, \"Casos confirmados diarios\": \"Casos confirmados diarios\", \"Promedio m\\u00f3vil \\u00faltimos 7 d\\u00edas\": \"Promedio m\\u00f3vil \\u00faltimos 7 d\\u00edas\"}, {\"Fecha\": \"2020-03-08\", \"Casos confirmados\": 0, \"Rolling\": null, \"Casos confirmados diarios\": \"Casos confirmados diarios\", \"Promedio m\\u00f3vil \\u00faltimos 7 d\\u00edas\": \"Promedio m\\u00f3vil \\u00faltimos 7 d\\u00edas\"}, {\"Fecha\": \"2020-03-09\", \"Casos confirmados\": 0, \"Rolling\": null, \"Casos confirmados diarios\": \"Casos confirmados diarios\", \"Promedio m\\u00f3vil \\u00faltimos 7 d\\u00edas\": \"Promedio m\\u00f3vil \\u00faltimos 7 d\\u00edas\"}, {\"Fecha\": \"2020-03-10\", \"Casos confirmados\": 0, \"Rolling\": 0.14285714285714285, \"Casos confirmados diarios\": \"Casos confirmados diarios\", \"Promedio m\\u00f3vil \\u00faltimos 7 d\\u00edas\": \"Promedio m\\u00f3vil \\u00faltimos 7 d\\u00edas\"}, {\"Fecha\": \"2020-03-11\", \"Casos confirmados\": 0, \"Rolling\": 0.14285714285714285, \"Casos confirmados diarios\": \"Casos confirmados diarios\", \"Promedio m\\u00f3vil \\u00faltimos 7 d\\u00edas\": \"Promedio m\\u00f3vil \\u00faltimos 7 d\\u00edas\"}, {\"Fecha\": \"2020-03-12\", \"Casos confirmados\": 0, \"Rolling\": 0.14285714285714285, \"Casos confirmados diarios\": \"Casos confirmados diarios\", \"Promedio m\\u00f3vil \\u00faltimos 7 d\\u00edas\": \"Promedio m\\u00f3vil \\u00faltimos 7 d\\u00edas\"}, {\"Fecha\": \"2020-03-13\", \"Casos confirmados\": 0, \"Rolling\": 0.14285714285714285, \"Casos confirmados diarios\": \"Casos confirmados diarios\", \"Promedio m\\u00f3vil \\u00faltimos 7 d\\u00edas\": \"Promedio m\\u00f3vil \\u00faltimos 7 d\\u00edas\"}, {\"Fecha\": \"2020-03-14\", \"Casos confirmados\": 0, \"Rolling\": 0.0, \"Casos confirmados diarios\": \"Casos confirmados diarios\", \"Promedio m\\u00f3vil \\u00faltimos 7 d\\u00edas\": \"Promedio m\\u00f3vil \\u00faltimos 7 d\\u00edas\"}, {\"Fecha\": \"2020-03-15\", \"Casos confirmados\": 0, \"Rolling\": 0.0, \"Casos confirmados diarios\": \"Casos confirmados diarios\", \"Promedio m\\u00f3vil \\u00faltimos 7 d\\u00edas\": \"Promedio m\\u00f3vil \\u00faltimos 7 d\\u00edas\"}, {\"Fecha\": \"2020-03-16\", \"Casos confirmados\": 0, \"Rolling\": 0.0, \"Casos confirmados diarios\": \"Casos confirmados diarios\", \"Promedio m\\u00f3vil \\u00faltimos 7 d\\u00edas\": \"Promedio m\\u00f3vil \\u00faltimos 7 d\\u00edas\"}, {\"Fecha\": \"2020-03-17\", \"Casos confirmados\": 0, \"Rolling\": 0.0, \"Casos confirmados diarios\": \"Casos confirmados diarios\", \"Promedio m\\u00f3vil \\u00faltimos 7 d\\u00edas\": \"Promedio m\\u00f3vil \\u00faltimos 7 d\\u00edas\"}, {\"Fecha\": \"2020-03-18\", \"Casos confirmados\": 7, \"Rolling\": 1.0, \"Casos confirmados diarios\": \"Casos confirmados diarios\", \"Promedio m\\u00f3vil \\u00faltimos 7 d\\u00edas\": \"Promedio m\\u00f3vil \\u00faltimos 7 d\\u00edas\"}, {\"Fecha\": \"2020-03-19\", \"Casos confirmados\": 8, \"Rolling\": 2.142857142857143, \"Casos confirmados diarios\": \"Casos confirmados diarios\", \"Promedio m\\u00f3vil \\u00faltimos 7 d\\u00edas\": \"Promedio m\\u00f3vil \\u00faltimos 7 d\\u00edas\"}, {\"Fecha\": \"2020-03-20\", \"Casos confirmados\": 2, \"Rolling\": 2.4285714285714284, \"Casos confirmados diarios\": \"Casos confirmados diarios\", \"Promedio m\\u00f3vil \\u00faltimos 7 d\\u00edas\": \"Promedio m\\u00f3vil \\u00faltimos 7 d\\u00edas\"}, {\"Fecha\": \"2020-03-21\", \"Casos confirmados\": 2, \"Rolling\": 2.7142857142857144, \"Casos confirmados diarios\": \"Casos confirmados diarios\", \"Promedio m\\u00f3vil \\u00faltimos 7 d\\u00edas\": \"Promedio m\\u00f3vil \\u00faltimos 7 d\\u00edas\"}, {\"Fecha\": \"2020-03-22\", \"Casos confirmados\": 3, \"Rolling\": 3.142857142857143, \"Casos confirmados diarios\": \"Casos confirmados diarios\", \"Promedio m\\u00f3vil \\u00faltimos 7 d\\u00edas\": \"Promedio m\\u00f3vil \\u00faltimos 7 d\\u00edas\"}, {\"Fecha\": \"2020-03-23\", \"Casos confirmados\": 10, \"Rolling\": 4.571428571428571, \"Casos confirmados diarios\": \"Casos confirmados diarios\", \"Promedio m\\u00f3vil \\u00faltimos 7 d\\u00edas\": \"Promedio m\\u00f3vil \\u00faltimos 7 d\\u00edas\"}, {\"Fecha\": \"2020-03-24\", \"Casos confirmados\": 3, \"Rolling\": 5.0, \"Casos confirmados diarios\": \"Casos confirmados diarios\", \"Promedio m\\u00f3vil \\u00faltimos 7 d\\u00edas\": \"Promedio m\\u00f3vil \\u00faltimos 7 d\\u00edas\"}, {\"Fecha\": \"2020-03-25\", \"Casos confirmados\": 8, \"Rolling\": 5.142857142857143, \"Casos confirmados diarios\": \"Casos confirmados diarios\", \"Promedio m\\u00f3vil \\u00faltimos 7 d\\u00edas\": \"Promedio m\\u00f3vil \\u00faltimos 7 d\\u00edas\"}, {\"Fecha\": \"2020-03-26\", \"Casos confirmados\": 16, \"Rolling\": 6.285714285714286, \"Casos confirmados diarios\": \"Casos confirmados diarios\", \"Promedio m\\u00f3vil \\u00faltimos 7 d\\u00edas\": \"Promedio m\\u00f3vil \\u00faltimos 7 d\\u00edas\"}, {\"Fecha\": \"2020-03-27\", \"Casos confirmados\": 3, \"Rolling\": 6.428571428571429, \"Casos confirmados diarios\": \"Casos confirmados diarios\", \"Promedio m\\u00f3vil \\u00faltimos 7 d\\u00edas\": \"Promedio m\\u00f3vil \\u00faltimos 7 d\\u00edas\"}, {\"Fecha\": \"2020-03-28\", \"Casos confirmados\": 30, \"Rolling\": 10.428571428571429, \"Casos confirmados diarios\": \"Casos confirmados diarios\", \"Promedio m\\u00f3vil \\u00faltimos 7 d\\u00edas\": \"Promedio m\\u00f3vil \\u00faltimos 7 d\\u00edas\"}, {\"Fecha\": \"2020-03-29\", \"Casos confirmados\": 11, \"Rolling\": 11.571428571428571, \"Casos confirmados diarios\": \"Casos confirmados diarios\", \"Promedio m\\u00f3vil \\u00faltimos 7 d\\u00edas\": \"Promedio m\\u00f3vil \\u00faltimos 7 d\\u00edas\"}, {\"Fecha\": \"2020-03-30\", \"Casos confirmados\": 24, \"Rolling\": 13.571428571428571, \"Casos confirmados diarios\": \"Casos confirmados diarios\", \"Promedio m\\u00f3vil \\u00faltimos 7 d\\u00edas\": \"Promedio m\\u00f3vil \\u00faltimos 7 d\\u00edas\"}, {\"Fecha\": \"2020-03-31\", \"Casos confirmados\": 23, \"Rolling\": 16.428571428571427, \"Casos confirmados diarios\": \"Casos confirmados diarios\", \"Promedio m\\u00f3vil \\u00faltimos 7 d\\u00edas\": \"Promedio m\\u00f3vil \\u00faltimos 7 d\\u00edas\"}, {\"Fecha\": \"2020-04-01\", \"Casos confirmados\": 30, \"Rolling\": 19.571428571428573, \"Casos confirmados diarios\": \"Casos confirmados diarios\", \"Promedio m\\u00f3vil \\u00faltimos 7 d\\u00edas\": \"Promedio m\\u00f3vil \\u00faltimos 7 d\\u00edas\"}, {\"Fecha\": \"2020-04-02\", \"Casos confirmados\": 22, \"Rolling\": 20.428571428571427, \"Casos confirmados diarios\": \"Casos confirmados diarios\", \"Promedio m\\u00f3vil \\u00faltimos 7 d\\u00edas\": \"Promedio m\\u00f3vil \\u00faltimos 7 d\\u00edas\"}, {\"Fecha\": \"2020-04-03\", \"Casos confirmados\": 31, \"Rolling\": 24.428571428571427, \"Casos confirmados diarios\": \"Casos confirmados diarios\", \"Promedio m\\u00f3vil \\u00faltimos 7 d\\u00edas\": \"Promedio m\\u00f3vil \\u00faltimos 7 d\\u00edas\"}, {\"Fecha\": \"2020-04-04\", \"Casos confirmados\": 25, \"Rolling\": 23.714285714285715, \"Casos confirmados diarios\": \"Casos confirmados diarios\", \"Promedio m\\u00f3vil \\u00faltimos 7 d\\u00edas\": \"Promedio m\\u00f3vil \\u00faltimos 7 d\\u00edas\"}, {\"Fecha\": \"2020-04-05\", \"Casos confirmados\": 17, \"Rolling\": 24.571428571428573, \"Casos confirmados diarios\": \"Casos confirmados diarios\", \"Promedio m\\u00f3vil \\u00faltimos 7 d\\u00edas\": \"Promedio m\\u00f3vil \\u00faltimos 7 d\\u00edas\"}, {\"Fecha\": \"2020-04-06\", \"Casos confirmados\": 10, \"Rolling\": 22.571428571428573, \"Casos confirmados diarios\": \"Casos confirmados diarios\", \"Promedio m\\u00f3vil \\u00faltimos 7 d\\u00edas\": \"Promedio m\\u00f3vil \\u00faltimos 7 d\\u00edas\"}, {\"Fecha\": \"2020-04-07\", \"Casos confirmados\": 13, \"Rolling\": 21.142857142857142, \"Casos confirmados diarios\": \"Casos confirmados diarios\", \"Promedio m\\u00f3vil \\u00faltimos 7 d\\u00edas\": \"Promedio m\\u00f3vil \\u00faltimos 7 d\\u00edas\"}, {\"Fecha\": \"2020-04-08\", \"Casos confirmados\": 26, \"Rolling\": 20.571428571428573, \"Casos confirmados diarios\": \"Casos confirmados diarios\", \"Promedio m\\u00f3vil \\u00faltimos 7 d\\u00edas\": \"Promedio m\\u00f3vil \\u00faltimos 7 d\\u00edas\"}, {\"Fecha\": \"2020-04-09\", \"Casos confirmados\": 15, \"Rolling\": 19.571428571428573, \"Casos confirmados diarios\": \"Casos confirmados diarios\", \"Promedio m\\u00f3vil \\u00faltimos 7 d\\u00edas\": \"Promedio m\\u00f3vil \\u00faltimos 7 d\\u00edas\"}, {\"Fecha\": \"2020-04-10\", \"Casos confirmados\": 9, \"Rolling\": 16.428571428571427, \"Casos confirmados diarios\": \"Casos confirmados diarios\", \"Promedio m\\u00f3vil \\u00faltimos 7 d\\u00edas\": \"Promedio m\\u00f3vil \\u00faltimos 7 d\\u00edas\"}, {\"Fecha\": \"2020-04-11\", \"Casos confirmados\": 15, \"Rolling\": 15.0, \"Casos confirmados diarios\": \"Casos confirmados diarios\", \"Promedio m\\u00f3vil \\u00faltimos 7 d\\u00edas\": \"Promedio m\\u00f3vil \\u00faltimos 7 d\\u00edas\"}, {\"Fecha\": \"2020-04-12\", \"Casos confirmados\": 8, \"Rolling\": 13.714285714285714, \"Casos confirmados diarios\": \"Casos confirmados diarios\", \"Promedio m\\u00f3vil \\u00faltimos 7 d\\u00edas\": \"Promedio m\\u00f3vil \\u00faltimos 7 d\\u00edas\"}, {\"Fecha\": \"2020-04-13\", \"Casos confirmados\": 8, \"Rolling\": 13.428571428571429, \"Casos confirmados diarios\": \"Casos confirmados diarios\", \"Promedio m\\u00f3vil \\u00faltimos 7 d\\u00edas\": \"Promedio m\\u00f3vil \\u00faltimos 7 d\\u00edas\"}, {\"Fecha\": \"2020-04-14\", \"Casos confirmados\": 5, \"Rolling\": 12.285714285714286, \"Casos confirmados diarios\": \"Casos confirmados diarios\", \"Promedio m\\u00f3vil \\u00faltimos 7 d\\u00edas\": \"Promedio m\\u00f3vil \\u00faltimos 7 d\\u00edas\"}, {\"Fecha\": \"2020-04-15\", \"Casos confirmados\": 5, \"Rolling\": 9.285714285714286, \"Casos confirmados diarios\": \"Casos confirmados diarios\", \"Promedio m\\u00f3vil \\u00faltimos 7 d\\u00edas\": \"Promedio m\\u00f3vil \\u00faltimos 7 d\\u00edas\"}, {\"Fecha\": \"2020-04-16\", \"Casos confirmados\": 9, \"Rolling\": 8.428571428571429, \"Casos confirmados diarios\": \"Casos confirmados diarios\", \"Promedio m\\u00f3vil \\u00faltimos 7 d\\u00edas\": \"Promedio m\\u00f3vil \\u00faltimos 7 d\\u00edas\"}, {\"Fecha\": \"2020-04-17\", \"Casos confirmados\": 13, \"Rolling\": 9.0, \"Casos confirmados diarios\": \"Casos confirmados diarios\", \"Promedio m\\u00f3vil \\u00faltimos 7 d\\u00edas\": \"Promedio m\\u00f3vil \\u00faltimos 7 d\\u00edas\"}, {\"Fecha\": \"2020-04-18\", \"Casos confirmados\": 4, \"Rolling\": 7.428571428571429, \"Casos confirmados diarios\": \"Casos confirmados diarios\", \"Promedio m\\u00f3vil \\u00faltimos 7 d\\u00edas\": \"Promedio m\\u00f3vil \\u00faltimos 7 d\\u00edas\"}, {\"Fecha\": \"2020-04-19\", \"Casos confirmados\": 5, \"Rolling\": 7.0, \"Casos confirmados diarios\": \"Casos confirmados diarios\", \"Promedio m\\u00f3vil \\u00faltimos 7 d\\u00edas\": \"Promedio m\\u00f3vil \\u00faltimos 7 d\\u00edas\"}, {\"Fecha\": \"2020-04-20\", \"Casos confirmados\": 3, \"Rolling\": 6.285714285714286, \"Casos confirmados diarios\": \"Casos confirmados diarios\", \"Promedio m\\u00f3vil \\u00faltimos 7 d\\u00edas\": \"Promedio m\\u00f3vil \\u00faltimos 7 d\\u00edas\"}, {\"Fecha\": \"2020-04-21\", \"Casos confirmados\": 8, \"Rolling\": 6.714285714285714, \"Casos confirmados diarios\": \"Casos confirmados diarios\", \"Promedio m\\u00f3vil \\u00faltimos 7 d\\u00edas\": \"Promedio m\\u00f3vil \\u00faltimos 7 d\\u00edas\"}, {\"Fecha\": \"2020-04-22\", \"Casos confirmados\": 13, \"Rolling\": 7.857142857142857, \"Casos confirmados diarios\": \"Casos confirmados diarios\", \"Promedio m\\u00f3vil \\u00faltimos 7 d\\u00edas\": \"Promedio m\\u00f3vil \\u00faltimos 7 d\\u00edas\"}, {\"Fecha\": \"2020-04-23\", \"Casos confirmados\": 9, \"Rolling\": 7.857142857142857, \"Casos confirmados diarios\": \"Casos confirmados diarios\", \"Promedio m\\u00f3vil \\u00faltimos 7 d\\u00edas\": \"Promedio m\\u00f3vil \\u00faltimos 7 d\\u00edas\"}, {\"Fecha\": \"2020-04-24\", \"Casos confirmados\": 6, \"Rolling\": 6.857142857142857, \"Casos confirmados diarios\": \"Casos confirmados diarios\", \"Promedio m\\u00f3vil \\u00faltimos 7 d\\u00edas\": \"Promedio m\\u00f3vil \\u00faltimos 7 d\\u00edas\"}, {\"Fecha\": \"2020-04-25\", \"Casos confirmados\": 5, \"Rolling\": 7.0, \"Casos confirmados diarios\": \"Casos confirmados diarios\", \"Promedio m\\u00f3vil \\u00faltimos 7 d\\u00edas\": \"Promedio m\\u00f3vil \\u00faltimos 7 d\\u00edas\"}, {\"Fecha\": \"2020-04-26\", \"Casos confirmados\": 8, \"Rolling\": 7.428571428571429, \"Casos confirmados diarios\": \"Casos confirmados diarios\", \"Promedio m\\u00f3vil \\u00faltimos 7 d\\u00edas\": \"Promedio m\\u00f3vil \\u00faltimos 7 d\\u00edas\"}]}}, {\"mode\": \"vega-lite\"});\n",
       "</script>"
      ],
      "text/plain": [
       "alt.LayerChart(...)"
      ]
     },
     "execution_count": 35,
     "metadata": {},
     "output_type": "execute_result"
    }
   ],
   "source": [
    "#hide_input\n",
    "bars, line = my_cases_plot(region)\n",
    "(bars + line).properties(\n",
    "    title=f'Covid-19 en Chile: Casos confirmados diarios en {region}',\n",
    "    width=600\n",
    ")"
   ]
  },
  {
   "cell_type": "markdown",
   "metadata": {},
   "source": [
    "## Aysén"
   ]
  },
  {
   "cell_type": "code",
   "execution_count": 36,
   "metadata": {
    "scrolled": true
   },
   "outputs": [],
   "source": [
    "#hide\n",
    "region = \"Aysén\""
   ]
  },
  {
   "cell_type": "code",
   "execution_count": 37,
   "metadata": {},
   "outputs": [
    {
     "data": {
      "text/html": [
       "\n",
       "<div id=\"altair-viz-eafa011ce0f04a0cbc6a9f9e4fe953c9\"></div>\n",
       "<script type=\"text/javascript\">\n",
       "  (function(spec, embedOpt){\n",
       "    let outputDiv = document.currentScript.previousElementSibling;\n",
       "    if (outputDiv.id !== \"altair-viz-eafa011ce0f04a0cbc6a9f9e4fe953c9\") {\n",
       "      outputDiv = document.getElementById(\"altair-viz-eafa011ce0f04a0cbc6a9f9e4fe953c9\");\n",
       "    }\n",
       "    const paths = {\n",
       "      \"vega\": \"https://cdn.jsdelivr.net/npm//vega@5?noext\",\n",
       "      \"vega-lib\": \"https://cdn.jsdelivr.net/npm//vega-lib?noext\",\n",
       "      \"vega-lite\": \"https://cdn.jsdelivr.net/npm//vega-lite@4.8.1?noext\",\n",
       "      \"vega-embed\": \"https://cdn.jsdelivr.net/npm//vega-embed@6?noext\",\n",
       "    };\n",
       "\n",
       "    function loadScript(lib) {\n",
       "      return new Promise(function(resolve, reject) {\n",
       "        var s = document.createElement('script');\n",
       "        s.src = paths[lib];\n",
       "        s.async = true;\n",
       "        s.onload = () => resolve(paths[lib]);\n",
       "        s.onerror = () => reject(`Error loading script: ${paths[lib]}`);\n",
       "        document.getElementsByTagName(\"head\")[0].appendChild(s);\n",
       "      });\n",
       "    }\n",
       "\n",
       "    function showError(err) {\n",
       "      outputDiv.innerHTML = `<div class=\"error\" style=\"color:red;\">${err}</div>`;\n",
       "      throw err;\n",
       "    }\n",
       "\n",
       "    function displayChart(vegaEmbed) {\n",
       "      vegaEmbed(outputDiv, spec, embedOpt)\n",
       "        .catch(err => showError(`Javascript Error: ${err.message}<br>This usually means there's a typo in your chart specification. See the javascript console for the full traceback.`));\n",
       "    }\n",
       "\n",
       "    if(typeof define === \"function\" && define.amd) {\n",
       "      requirejs.config({paths});\n",
       "      require([\"vega-embed\"], displayChart, err => showError(`Error loading script: ${err.message}`));\n",
       "    } else if (typeof vegaEmbed === \"function\") {\n",
       "      displayChart(vegaEmbed);\n",
       "    } else {\n",
       "      loadScript(\"vega\")\n",
       "        .then(() => loadScript(\"vega-lite\"))\n",
       "        .then(() => loadScript(\"vega-embed\"))\n",
       "        .catch(showError)\n",
       "        .then(() => displayChart(vegaEmbed));\n",
       "    }\n",
       "  })({\"config\": {\"view\": {\"continuousWidth\": 400, \"continuousHeight\": 300}}, \"layer\": [{\"mark\": {\"type\": \"bar\", \"opacity\": 0.7}, \"encoding\": {\"opacity\": {\"type\": \"nominal\", \"field\": \"Casos confirmados diarios\", \"legend\": {\"title\": \"\"}}, \"tooltip\": [{\"type\": \"nominal\", \"field\": \"Fecha\"}, {\"type\": \"quantitative\", \"field\": \"Casos confirmados\"}], \"x\": {\"type\": \"nominal\", \"axis\": {\"title\": \"Fecha (a\\u00f1o-mes-d\\u00eda)\"}, \"field\": \"Fecha\"}, \"y\": {\"type\": \"quantitative\", \"axis\": {\"title\": \"Casos confirmados diarios\"}, \"field\": \"Casos confirmados\"}}}, {\"mark\": {\"type\": \"line\", \"color\": \"#1f77b4\", \"point\": {\"filled\": true, \"fill\": \"#1f77b4\"}}, \"encoding\": {\"shape\": {\"type\": \"nominal\", \"field\": \"Promedio m\\u00f3vil \\u00faltimos 7 d\\u00edas\", \"legend\": {\"title\": \"\"}}, \"x\": {\"type\": \"nominal\", \"axis\": {\"title\": \"Fecha (a\\u00f1o-mes-d\\u00eda)\"}, \"field\": \"Fecha\"}, \"y\": {\"type\": \"quantitative\", \"field\": \"Rolling\"}}}], \"data\": {\"name\": \"data-6dbe4c3734e95b5d2320d9851b10aa84\"}, \"title\": \"Covid-19 en Chile: Casos confirmados diarios en Ays\\u00e9n\", \"width\": 600, \"$schema\": \"https://vega.github.io/schema/vega-lite/v4.8.1.json\", \"datasets\": {\"data-6dbe4c3734e95b5d2320d9851b10aa84\": [{\"Fecha\": \"2020-03-04\", \"Casos confirmados\": 0, \"Rolling\": null, \"Casos confirmados diarios\": \"Casos confirmados diarios\", \"Promedio m\\u00f3vil \\u00faltimos 7 d\\u00edas\": \"Promedio m\\u00f3vil \\u00faltimos 7 d\\u00edas\"}, {\"Fecha\": \"2020-03-05\", \"Casos confirmados\": 0, \"Rolling\": null, \"Casos confirmados diarios\": \"Casos confirmados diarios\", \"Promedio m\\u00f3vil \\u00faltimos 7 d\\u00edas\": \"Promedio m\\u00f3vil \\u00faltimos 7 d\\u00edas\"}, {\"Fecha\": \"2020-03-06\", \"Casos confirmados\": 0, \"Rolling\": null, \"Casos confirmados diarios\": \"Casos confirmados diarios\", \"Promedio m\\u00f3vil \\u00faltimos 7 d\\u00edas\": \"Promedio m\\u00f3vil \\u00faltimos 7 d\\u00edas\"}, {\"Fecha\": \"2020-03-07\", \"Casos confirmados\": 0, \"Rolling\": null, \"Casos confirmados diarios\": \"Casos confirmados diarios\", \"Promedio m\\u00f3vil \\u00faltimos 7 d\\u00edas\": \"Promedio m\\u00f3vil \\u00faltimos 7 d\\u00edas\"}, {\"Fecha\": \"2020-03-08\", \"Casos confirmados\": 0, \"Rolling\": null, \"Casos confirmados diarios\": \"Casos confirmados diarios\", \"Promedio m\\u00f3vil \\u00faltimos 7 d\\u00edas\": \"Promedio m\\u00f3vil \\u00faltimos 7 d\\u00edas\"}, {\"Fecha\": \"2020-03-09\", \"Casos confirmados\": 0, \"Rolling\": null, \"Casos confirmados diarios\": \"Casos confirmados diarios\", \"Promedio m\\u00f3vil \\u00faltimos 7 d\\u00edas\": \"Promedio m\\u00f3vil \\u00faltimos 7 d\\u00edas\"}, {\"Fecha\": \"2020-03-10\", \"Casos confirmados\": 0, \"Rolling\": 0.0, \"Casos confirmados diarios\": \"Casos confirmados diarios\", \"Promedio m\\u00f3vil \\u00faltimos 7 d\\u00edas\": \"Promedio m\\u00f3vil \\u00faltimos 7 d\\u00edas\"}, {\"Fecha\": \"2020-03-11\", \"Casos confirmados\": 0, \"Rolling\": 0.0, \"Casos confirmados diarios\": \"Casos confirmados diarios\", \"Promedio m\\u00f3vil \\u00faltimos 7 d\\u00edas\": \"Promedio m\\u00f3vil \\u00faltimos 7 d\\u00edas\"}, {\"Fecha\": \"2020-03-12\", \"Casos confirmados\": 0, \"Rolling\": 0.0, \"Casos confirmados diarios\": \"Casos confirmados diarios\", \"Promedio m\\u00f3vil \\u00faltimos 7 d\\u00edas\": \"Promedio m\\u00f3vil \\u00faltimos 7 d\\u00edas\"}, {\"Fecha\": \"2020-03-13\", \"Casos confirmados\": 0, \"Rolling\": 0.0, \"Casos confirmados diarios\": \"Casos confirmados diarios\", \"Promedio m\\u00f3vil \\u00faltimos 7 d\\u00edas\": \"Promedio m\\u00f3vil \\u00faltimos 7 d\\u00edas\"}, {\"Fecha\": \"2020-03-14\", \"Casos confirmados\": 1, \"Rolling\": 0.14285714285714285, \"Casos confirmados diarios\": \"Casos confirmados diarios\", \"Promedio m\\u00f3vil \\u00faltimos 7 d\\u00edas\": \"Promedio m\\u00f3vil \\u00faltimos 7 d\\u00edas\"}, {\"Fecha\": \"2020-03-15\", \"Casos confirmados\": 0, \"Rolling\": 0.14285714285714285, \"Casos confirmados diarios\": \"Casos confirmados diarios\", \"Promedio m\\u00f3vil \\u00faltimos 7 d\\u00edas\": \"Promedio m\\u00f3vil \\u00faltimos 7 d\\u00edas\"}, {\"Fecha\": \"2020-03-16\", \"Casos confirmados\": 0, \"Rolling\": 0.14285714285714285, \"Casos confirmados diarios\": \"Casos confirmados diarios\", \"Promedio m\\u00f3vil \\u00faltimos 7 d\\u00edas\": \"Promedio m\\u00f3vil \\u00faltimos 7 d\\u00edas\"}, {\"Fecha\": \"2020-03-17\", \"Casos confirmados\": 0, \"Rolling\": 0.14285714285714285, \"Casos confirmados diarios\": \"Casos confirmados diarios\", \"Promedio m\\u00f3vil \\u00faltimos 7 d\\u00edas\": \"Promedio m\\u00f3vil \\u00faltimos 7 d\\u00edas\"}, {\"Fecha\": \"2020-03-18\", \"Casos confirmados\": 0, \"Rolling\": 0.14285714285714285, \"Casos confirmados diarios\": \"Casos confirmados diarios\", \"Promedio m\\u00f3vil \\u00faltimos 7 d\\u00edas\": \"Promedio m\\u00f3vil \\u00faltimos 7 d\\u00edas\"}, {\"Fecha\": \"2020-03-19\", \"Casos confirmados\": 0, \"Rolling\": 0.14285714285714285, \"Casos confirmados diarios\": \"Casos confirmados diarios\", \"Promedio m\\u00f3vil \\u00faltimos 7 d\\u00edas\": \"Promedio m\\u00f3vil \\u00faltimos 7 d\\u00edas\"}, {\"Fecha\": \"2020-03-20\", \"Casos confirmados\": 0, \"Rolling\": 0.14285714285714285, \"Casos confirmados diarios\": \"Casos confirmados diarios\", \"Promedio m\\u00f3vil \\u00faltimos 7 d\\u00edas\": \"Promedio m\\u00f3vil \\u00faltimos 7 d\\u00edas\"}, {\"Fecha\": \"2020-03-21\", \"Casos confirmados\": 0, \"Rolling\": 0.0, \"Casos confirmados diarios\": \"Casos confirmados diarios\", \"Promedio m\\u00f3vil \\u00faltimos 7 d\\u00edas\": \"Promedio m\\u00f3vil \\u00faltimos 7 d\\u00edas\"}, {\"Fecha\": \"2020-03-22\", \"Casos confirmados\": 0, \"Rolling\": 0.0, \"Casos confirmados diarios\": \"Casos confirmados diarios\", \"Promedio m\\u00f3vil \\u00faltimos 7 d\\u00edas\": \"Promedio m\\u00f3vil \\u00faltimos 7 d\\u00edas\"}, {\"Fecha\": \"2020-03-23\", \"Casos confirmados\": 0, \"Rolling\": 0.0, \"Casos confirmados diarios\": \"Casos confirmados diarios\", \"Promedio m\\u00f3vil \\u00faltimos 7 d\\u00edas\": \"Promedio m\\u00f3vil \\u00faltimos 7 d\\u00edas\"}, {\"Fecha\": \"2020-03-24\", \"Casos confirmados\": 0, \"Rolling\": 0.0, \"Casos confirmados diarios\": \"Casos confirmados diarios\", \"Promedio m\\u00f3vil \\u00faltimos 7 d\\u00edas\": \"Promedio m\\u00f3vil \\u00faltimos 7 d\\u00edas\"}, {\"Fecha\": \"2020-03-25\", \"Casos confirmados\": 0, \"Rolling\": 0.0, \"Casos confirmados diarios\": \"Casos confirmados diarios\", \"Promedio m\\u00f3vil \\u00faltimos 7 d\\u00edas\": \"Promedio m\\u00f3vil \\u00faltimos 7 d\\u00edas\"}, {\"Fecha\": \"2020-03-26\", \"Casos confirmados\": 1, \"Rolling\": 0.14285714285714285, \"Casos confirmados diarios\": \"Casos confirmados diarios\", \"Promedio m\\u00f3vil \\u00faltimos 7 d\\u00edas\": \"Promedio m\\u00f3vil \\u00faltimos 7 d\\u00edas\"}, {\"Fecha\": \"2020-03-27\", \"Casos confirmados\": 0, \"Rolling\": 0.14285714285714285, \"Casos confirmados diarios\": \"Casos confirmados diarios\", \"Promedio m\\u00f3vil \\u00faltimos 7 d\\u00edas\": \"Promedio m\\u00f3vil \\u00faltimos 7 d\\u00edas\"}, {\"Fecha\": \"2020-03-28\", \"Casos confirmados\": 0, \"Rolling\": 0.14285714285714285, \"Casos confirmados diarios\": \"Casos confirmados diarios\", \"Promedio m\\u00f3vil \\u00faltimos 7 d\\u00edas\": \"Promedio m\\u00f3vil \\u00faltimos 7 d\\u00edas\"}, {\"Fecha\": \"2020-03-29\", \"Casos confirmados\": 0, \"Rolling\": 0.14285714285714285, \"Casos confirmados diarios\": \"Casos confirmados diarios\", \"Promedio m\\u00f3vil \\u00faltimos 7 d\\u00edas\": \"Promedio m\\u00f3vil \\u00faltimos 7 d\\u00edas\"}, {\"Fecha\": \"2020-03-30\", \"Casos confirmados\": 0, \"Rolling\": 0.14285714285714285, \"Casos confirmados diarios\": \"Casos confirmados diarios\", \"Promedio m\\u00f3vil \\u00faltimos 7 d\\u00edas\": \"Promedio m\\u00f3vil \\u00faltimos 7 d\\u00edas\"}, {\"Fecha\": \"2020-03-31\", \"Casos confirmados\": 0, \"Rolling\": 0.14285714285714285, \"Casos confirmados diarios\": \"Casos confirmados diarios\", \"Promedio m\\u00f3vil \\u00faltimos 7 d\\u00edas\": \"Promedio m\\u00f3vil \\u00faltimos 7 d\\u00edas\"}, {\"Fecha\": \"2020-04-01\", \"Casos confirmados\": 1, \"Rolling\": 0.2857142857142857, \"Casos confirmados diarios\": \"Casos confirmados diarios\", \"Promedio m\\u00f3vil \\u00faltimos 7 d\\u00edas\": \"Promedio m\\u00f3vil \\u00faltimos 7 d\\u00edas\"}, {\"Fecha\": \"2020-04-02\", \"Casos confirmados\": 2, \"Rolling\": 0.42857142857142855, \"Casos confirmados diarios\": \"Casos confirmados diarios\", \"Promedio m\\u00f3vil \\u00faltimos 7 d\\u00edas\": \"Promedio m\\u00f3vil \\u00faltimos 7 d\\u00edas\"}, {\"Fecha\": \"2020-04-03\", \"Casos confirmados\": 1, \"Rolling\": 0.5714285714285714, \"Casos confirmados diarios\": \"Casos confirmados diarios\", \"Promedio m\\u00f3vil \\u00faltimos 7 d\\u00edas\": \"Promedio m\\u00f3vil \\u00faltimos 7 d\\u00edas\"}, {\"Fecha\": \"2020-04-04\", \"Casos confirmados\": 0, \"Rolling\": 0.5714285714285714, \"Casos confirmados diarios\": \"Casos confirmados diarios\", \"Promedio m\\u00f3vil \\u00faltimos 7 d\\u00edas\": \"Promedio m\\u00f3vil \\u00faltimos 7 d\\u00edas\"}, {\"Fecha\": \"2020-04-05\", \"Casos confirmados\": 1, \"Rolling\": 0.7142857142857143, \"Casos confirmados diarios\": \"Casos confirmados diarios\", \"Promedio m\\u00f3vil \\u00faltimos 7 d\\u00edas\": \"Promedio m\\u00f3vil \\u00faltimos 7 d\\u00edas\"}, {\"Fecha\": \"2020-04-06\", \"Casos confirmados\": 0, \"Rolling\": 0.7142857142857143, \"Casos confirmados diarios\": \"Casos confirmados diarios\", \"Promedio m\\u00f3vil \\u00faltimos 7 d\\u00edas\": \"Promedio m\\u00f3vil \\u00faltimos 7 d\\u00edas\"}, {\"Fecha\": \"2020-04-07\", \"Casos confirmados\": 0, \"Rolling\": 0.7142857142857143, \"Casos confirmados diarios\": \"Casos confirmados diarios\", \"Promedio m\\u00f3vil \\u00faltimos 7 d\\u00edas\": \"Promedio m\\u00f3vil \\u00faltimos 7 d\\u00edas\"}, {\"Fecha\": \"2020-04-08\", \"Casos confirmados\": 0, \"Rolling\": 0.5714285714285714, \"Casos confirmados diarios\": \"Casos confirmados diarios\", \"Promedio m\\u00f3vil \\u00faltimos 7 d\\u00edas\": \"Promedio m\\u00f3vil \\u00faltimos 7 d\\u00edas\"}, {\"Fecha\": \"2020-04-09\", \"Casos confirmados\": 0, \"Rolling\": 0.2857142857142857, \"Casos confirmados diarios\": \"Casos confirmados diarios\", \"Promedio m\\u00f3vil \\u00faltimos 7 d\\u00edas\": \"Promedio m\\u00f3vil \\u00faltimos 7 d\\u00edas\"}, {\"Fecha\": \"2020-04-10\", \"Casos confirmados\": 0, \"Rolling\": 0.14285714285714285, \"Casos confirmados diarios\": \"Casos confirmados diarios\", \"Promedio m\\u00f3vil \\u00faltimos 7 d\\u00edas\": \"Promedio m\\u00f3vil \\u00faltimos 7 d\\u00edas\"}, {\"Fecha\": \"2020-04-11\", \"Casos confirmados\": 0, \"Rolling\": 0.14285714285714285, \"Casos confirmados diarios\": \"Casos confirmados diarios\", \"Promedio m\\u00f3vil \\u00faltimos 7 d\\u00edas\": \"Promedio m\\u00f3vil \\u00faltimos 7 d\\u00edas\"}, {\"Fecha\": \"2020-04-12\", \"Casos confirmados\": 0, \"Rolling\": 0.0, \"Casos confirmados diarios\": \"Casos confirmados diarios\", \"Promedio m\\u00f3vil \\u00faltimos 7 d\\u00edas\": \"Promedio m\\u00f3vil \\u00faltimos 7 d\\u00edas\"}, {\"Fecha\": \"2020-04-13\", \"Casos confirmados\": 0, \"Rolling\": 0.0, \"Casos confirmados diarios\": \"Casos confirmados diarios\", \"Promedio m\\u00f3vil \\u00faltimos 7 d\\u00edas\": \"Promedio m\\u00f3vil \\u00faltimos 7 d\\u00edas\"}, {\"Fecha\": \"2020-04-14\", \"Casos confirmados\": 0, \"Rolling\": 0.0, \"Casos confirmados diarios\": \"Casos confirmados diarios\", \"Promedio m\\u00f3vil \\u00faltimos 7 d\\u00edas\": \"Promedio m\\u00f3vil \\u00faltimos 7 d\\u00edas\"}, {\"Fecha\": \"2020-04-15\", \"Casos confirmados\": 0, \"Rolling\": 0.0, \"Casos confirmados diarios\": \"Casos confirmados diarios\", \"Promedio m\\u00f3vil \\u00faltimos 7 d\\u00edas\": \"Promedio m\\u00f3vil \\u00faltimos 7 d\\u00edas\"}, {\"Fecha\": \"2020-04-16\", \"Casos confirmados\": 0, \"Rolling\": 0.0, \"Casos confirmados diarios\": \"Casos confirmados diarios\", \"Promedio m\\u00f3vil \\u00faltimos 7 d\\u00edas\": \"Promedio m\\u00f3vil \\u00faltimos 7 d\\u00edas\"}, {\"Fecha\": \"2020-04-17\", \"Casos confirmados\": 0, \"Rolling\": 0.0, \"Casos confirmados diarios\": \"Casos confirmados diarios\", \"Promedio m\\u00f3vil \\u00faltimos 7 d\\u00edas\": \"Promedio m\\u00f3vil \\u00faltimos 7 d\\u00edas\"}, {\"Fecha\": \"2020-04-18\", \"Casos confirmados\": 0, \"Rolling\": 0.0, \"Casos confirmados diarios\": \"Casos confirmados diarios\", \"Promedio m\\u00f3vil \\u00faltimos 7 d\\u00edas\": \"Promedio m\\u00f3vil \\u00faltimos 7 d\\u00edas\"}, {\"Fecha\": \"2020-04-19\", \"Casos confirmados\": 0, \"Rolling\": 0.0, \"Casos confirmados diarios\": \"Casos confirmados diarios\", \"Promedio m\\u00f3vil \\u00faltimos 7 d\\u00edas\": \"Promedio m\\u00f3vil \\u00faltimos 7 d\\u00edas\"}, {\"Fecha\": \"2020-04-20\", \"Casos confirmados\": 0, \"Rolling\": 0.0, \"Casos confirmados diarios\": \"Casos confirmados diarios\", \"Promedio m\\u00f3vil \\u00faltimos 7 d\\u00edas\": \"Promedio m\\u00f3vil \\u00faltimos 7 d\\u00edas\"}, {\"Fecha\": \"2020-04-21\", \"Casos confirmados\": 0, \"Rolling\": 0.0, \"Casos confirmados diarios\": \"Casos confirmados diarios\", \"Promedio m\\u00f3vil \\u00faltimos 7 d\\u00edas\": \"Promedio m\\u00f3vil \\u00faltimos 7 d\\u00edas\"}, {\"Fecha\": \"2020-04-22\", \"Casos confirmados\": 0, \"Rolling\": 0.0, \"Casos confirmados diarios\": \"Casos confirmados diarios\", \"Promedio m\\u00f3vil \\u00faltimos 7 d\\u00edas\": \"Promedio m\\u00f3vil \\u00faltimos 7 d\\u00edas\"}, {\"Fecha\": \"2020-04-23\", \"Casos confirmados\": 0, \"Rolling\": 0.0, \"Casos confirmados diarios\": \"Casos confirmados diarios\", \"Promedio m\\u00f3vil \\u00faltimos 7 d\\u00edas\": \"Promedio m\\u00f3vil \\u00faltimos 7 d\\u00edas\"}, {\"Fecha\": \"2020-04-24\", \"Casos confirmados\": 0, \"Rolling\": 0.0, \"Casos confirmados diarios\": \"Casos confirmados diarios\", \"Promedio m\\u00f3vil \\u00faltimos 7 d\\u00edas\": \"Promedio m\\u00f3vil \\u00faltimos 7 d\\u00edas\"}, {\"Fecha\": \"2020-04-25\", \"Casos confirmados\": 0, \"Rolling\": 0.0, \"Casos confirmados diarios\": \"Casos confirmados diarios\", \"Promedio m\\u00f3vil \\u00faltimos 7 d\\u00edas\": \"Promedio m\\u00f3vil \\u00faltimos 7 d\\u00edas\"}, {\"Fecha\": \"2020-04-26\", \"Casos confirmados\": 0, \"Rolling\": 0.0, \"Casos confirmados diarios\": \"Casos confirmados diarios\", \"Promedio m\\u00f3vil \\u00faltimos 7 d\\u00edas\": \"Promedio m\\u00f3vil \\u00faltimos 7 d\\u00edas\"}]}}, {\"mode\": \"vega-lite\"});\n",
       "</script>"
      ],
      "text/plain": [
       "alt.LayerChart(...)"
      ]
     },
     "execution_count": 37,
     "metadata": {},
     "output_type": "execute_result"
    }
   ],
   "source": [
    "#hide_input\n",
    "bars, line = my_cases_plot(region)\n",
    "(bars + line).properties(\n",
    "    title=f'Covid-19 en Chile: Casos confirmados diarios en {region}',\n",
    "    width=600\n",
    ")"
   ]
  },
  {
   "cell_type": "markdown",
   "metadata": {},
   "source": [
    "## Magallanes"
   ]
  },
  {
   "cell_type": "code",
   "execution_count": 38,
   "metadata": {
    "scrolled": true
   },
   "outputs": [],
   "source": [
    "#hide\n",
    "region = \"Magallanes\""
   ]
  },
  {
   "cell_type": "code",
   "execution_count": 39,
   "metadata": {},
   "outputs": [
    {
     "data": {
      "text/html": [
       "\n",
       "<div id=\"altair-viz-9afb33f0a10e462199b91ed2863754fc\"></div>\n",
       "<script type=\"text/javascript\">\n",
       "  (function(spec, embedOpt){\n",
       "    let outputDiv = document.currentScript.previousElementSibling;\n",
       "    if (outputDiv.id !== \"altair-viz-9afb33f0a10e462199b91ed2863754fc\") {\n",
       "      outputDiv = document.getElementById(\"altair-viz-9afb33f0a10e462199b91ed2863754fc\");\n",
       "    }\n",
       "    const paths = {\n",
       "      \"vega\": \"https://cdn.jsdelivr.net/npm//vega@5?noext\",\n",
       "      \"vega-lib\": \"https://cdn.jsdelivr.net/npm//vega-lib?noext\",\n",
       "      \"vega-lite\": \"https://cdn.jsdelivr.net/npm//vega-lite@4.8.1?noext\",\n",
       "      \"vega-embed\": \"https://cdn.jsdelivr.net/npm//vega-embed@6?noext\",\n",
       "    };\n",
       "\n",
       "    function loadScript(lib) {\n",
       "      return new Promise(function(resolve, reject) {\n",
       "        var s = document.createElement('script');\n",
       "        s.src = paths[lib];\n",
       "        s.async = true;\n",
       "        s.onload = () => resolve(paths[lib]);\n",
       "        s.onerror = () => reject(`Error loading script: ${paths[lib]}`);\n",
       "        document.getElementsByTagName(\"head\")[0].appendChild(s);\n",
       "      });\n",
       "    }\n",
       "\n",
       "    function showError(err) {\n",
       "      outputDiv.innerHTML = `<div class=\"error\" style=\"color:red;\">${err}</div>`;\n",
       "      throw err;\n",
       "    }\n",
       "\n",
       "    function displayChart(vegaEmbed) {\n",
       "      vegaEmbed(outputDiv, spec, embedOpt)\n",
       "        .catch(err => showError(`Javascript Error: ${err.message}<br>This usually means there's a typo in your chart specification. See the javascript console for the full traceback.`));\n",
       "    }\n",
       "\n",
       "    if(typeof define === \"function\" && define.amd) {\n",
       "      requirejs.config({paths});\n",
       "      require([\"vega-embed\"], displayChart, err => showError(`Error loading script: ${err.message}`));\n",
       "    } else if (typeof vegaEmbed === \"function\") {\n",
       "      displayChart(vegaEmbed);\n",
       "    } else {\n",
       "      loadScript(\"vega\")\n",
       "        .then(() => loadScript(\"vega-lite\"))\n",
       "        .then(() => loadScript(\"vega-embed\"))\n",
       "        .catch(showError)\n",
       "        .then(() => displayChart(vegaEmbed));\n",
       "    }\n",
       "  })({\"config\": {\"view\": {\"continuousWidth\": 400, \"continuousHeight\": 300}}, \"layer\": [{\"mark\": {\"type\": \"bar\", \"opacity\": 0.7}, \"encoding\": {\"opacity\": {\"type\": \"nominal\", \"field\": \"Casos confirmados diarios\", \"legend\": {\"title\": \"\"}}, \"tooltip\": [{\"type\": \"nominal\", \"field\": \"Fecha\"}, {\"type\": \"quantitative\", \"field\": \"Casos confirmados\"}], \"x\": {\"type\": \"nominal\", \"axis\": {\"title\": \"Fecha (a\\u00f1o-mes-d\\u00eda)\"}, \"field\": \"Fecha\"}, \"y\": {\"type\": \"quantitative\", \"axis\": {\"title\": \"Casos confirmados diarios\"}, \"field\": \"Casos confirmados\"}}}, {\"mark\": {\"type\": \"line\", \"color\": \"#1f77b4\", \"point\": {\"filled\": true, \"fill\": \"#1f77b4\"}}, \"encoding\": {\"shape\": {\"type\": \"nominal\", \"field\": \"Promedio m\\u00f3vil \\u00faltimos 7 d\\u00edas\", \"legend\": {\"title\": \"\"}}, \"x\": {\"type\": \"nominal\", \"axis\": {\"title\": \"Fecha (a\\u00f1o-mes-d\\u00eda)\"}, \"field\": \"Fecha\"}, \"y\": {\"type\": \"quantitative\", \"field\": \"Rolling\"}}}], \"data\": {\"name\": \"data-a07ea2a5c583af0f6dc796b8b0a884a8\"}, \"title\": \"Covid-19 en Chile: Casos confirmados diarios en Magallanes\", \"width\": 600, \"$schema\": \"https://vega.github.io/schema/vega-lite/v4.8.1.json\", \"datasets\": {\"data-a07ea2a5c583af0f6dc796b8b0a884a8\": [{\"Fecha\": \"2020-03-04\", \"Casos confirmados\": 0, \"Rolling\": null, \"Casos confirmados diarios\": \"Casos confirmados diarios\", \"Promedio m\\u00f3vil \\u00faltimos 7 d\\u00edas\": \"Promedio m\\u00f3vil \\u00faltimos 7 d\\u00edas\"}, {\"Fecha\": \"2020-03-05\", \"Casos confirmados\": 0, \"Rolling\": null, \"Casos confirmados diarios\": \"Casos confirmados diarios\", \"Promedio m\\u00f3vil \\u00faltimos 7 d\\u00edas\": \"Promedio m\\u00f3vil \\u00faltimos 7 d\\u00edas\"}, {\"Fecha\": \"2020-03-06\", \"Casos confirmados\": 0, \"Rolling\": null, \"Casos confirmados diarios\": \"Casos confirmados diarios\", \"Promedio m\\u00f3vil \\u00faltimos 7 d\\u00edas\": \"Promedio m\\u00f3vil \\u00faltimos 7 d\\u00edas\"}, {\"Fecha\": \"2020-03-07\", \"Casos confirmados\": 0, \"Rolling\": null, \"Casos confirmados diarios\": \"Casos confirmados diarios\", \"Promedio m\\u00f3vil \\u00faltimos 7 d\\u00edas\": \"Promedio m\\u00f3vil \\u00faltimos 7 d\\u00edas\"}, {\"Fecha\": \"2020-03-08\", \"Casos confirmados\": 0, \"Rolling\": null, \"Casos confirmados diarios\": \"Casos confirmados diarios\", \"Promedio m\\u00f3vil \\u00faltimos 7 d\\u00edas\": \"Promedio m\\u00f3vil \\u00faltimos 7 d\\u00edas\"}, {\"Fecha\": \"2020-03-09\", \"Casos confirmados\": 0, \"Rolling\": null, \"Casos confirmados diarios\": \"Casos confirmados diarios\", \"Promedio m\\u00f3vil \\u00faltimos 7 d\\u00edas\": \"Promedio m\\u00f3vil \\u00faltimos 7 d\\u00edas\"}, {\"Fecha\": \"2020-03-10\", \"Casos confirmados\": 0, \"Rolling\": 0.0, \"Casos confirmados diarios\": \"Casos confirmados diarios\", \"Promedio m\\u00f3vil \\u00faltimos 7 d\\u00edas\": \"Promedio m\\u00f3vil \\u00faltimos 7 d\\u00edas\"}, {\"Fecha\": \"2020-03-11\", \"Casos confirmados\": 0, \"Rolling\": 0.0, \"Casos confirmados diarios\": \"Casos confirmados diarios\", \"Promedio m\\u00f3vil \\u00faltimos 7 d\\u00edas\": \"Promedio m\\u00f3vil \\u00faltimos 7 d\\u00edas\"}, {\"Fecha\": \"2020-03-12\", \"Casos confirmados\": 0, \"Rolling\": 0.0, \"Casos confirmados diarios\": \"Casos confirmados diarios\", \"Promedio m\\u00f3vil \\u00faltimos 7 d\\u00edas\": \"Promedio m\\u00f3vil \\u00faltimos 7 d\\u00edas\"}, {\"Fecha\": \"2020-03-13\", \"Casos confirmados\": 0, \"Rolling\": 0.0, \"Casos confirmados diarios\": \"Casos confirmados diarios\", \"Promedio m\\u00f3vil \\u00faltimos 7 d\\u00edas\": \"Promedio m\\u00f3vil \\u00faltimos 7 d\\u00edas\"}, {\"Fecha\": \"2020-03-14\", \"Casos confirmados\": 0, \"Rolling\": 0.0, \"Casos confirmados diarios\": \"Casos confirmados diarios\", \"Promedio m\\u00f3vil \\u00faltimos 7 d\\u00edas\": \"Promedio m\\u00f3vil \\u00faltimos 7 d\\u00edas\"}, {\"Fecha\": \"2020-03-15\", \"Casos confirmados\": 0, \"Rolling\": 0.0, \"Casos confirmados diarios\": \"Casos confirmados diarios\", \"Promedio m\\u00f3vil \\u00faltimos 7 d\\u00edas\": \"Promedio m\\u00f3vil \\u00faltimos 7 d\\u00edas\"}, {\"Fecha\": \"2020-03-16\", \"Casos confirmados\": 0, \"Rolling\": 0.0, \"Casos confirmados diarios\": \"Casos confirmados diarios\", \"Promedio m\\u00f3vil \\u00faltimos 7 d\\u00edas\": \"Promedio m\\u00f3vil \\u00faltimos 7 d\\u00edas\"}, {\"Fecha\": \"2020-03-17\", \"Casos confirmados\": 2, \"Rolling\": 0.2857142857142857, \"Casos confirmados diarios\": \"Casos confirmados diarios\", \"Promedio m\\u00f3vil \\u00faltimos 7 d\\u00edas\": \"Promedio m\\u00f3vil \\u00faltimos 7 d\\u00edas\"}, {\"Fecha\": \"2020-03-18\", \"Casos confirmados\": 0, \"Rolling\": 0.2857142857142857, \"Casos confirmados diarios\": \"Casos confirmados diarios\", \"Promedio m\\u00f3vil \\u00faltimos 7 d\\u00edas\": \"Promedio m\\u00f3vil \\u00faltimos 7 d\\u00edas\"}, {\"Fecha\": \"2020-03-19\", \"Casos confirmados\": 0, \"Rolling\": 0.2857142857142857, \"Casos confirmados diarios\": \"Casos confirmados diarios\", \"Promedio m\\u00f3vil \\u00faltimos 7 d\\u00edas\": \"Promedio m\\u00f3vil \\u00faltimos 7 d\\u00edas\"}, {\"Fecha\": \"2020-03-20\", \"Casos confirmados\": 0, \"Rolling\": 0.2857142857142857, \"Casos confirmados diarios\": \"Casos confirmados diarios\", \"Promedio m\\u00f3vil \\u00faltimos 7 d\\u00edas\": \"Promedio m\\u00f3vil \\u00faltimos 7 d\\u00edas\"}, {\"Fecha\": \"2020-03-21\", \"Casos confirmados\": 1, \"Rolling\": 0.42857142857142855, \"Casos confirmados diarios\": \"Casos confirmados diarios\", \"Promedio m\\u00f3vil \\u00faltimos 7 d\\u00edas\": \"Promedio m\\u00f3vil \\u00faltimos 7 d\\u00edas\"}, {\"Fecha\": \"2020-03-22\", \"Casos confirmados\": 1, \"Rolling\": 0.5714285714285714, \"Casos confirmados diarios\": \"Casos confirmados diarios\", \"Promedio m\\u00f3vil \\u00faltimos 7 d\\u00edas\": \"Promedio m\\u00f3vil \\u00faltimos 7 d\\u00edas\"}, {\"Fecha\": \"2020-03-23\", \"Casos confirmados\": 2, \"Rolling\": 0.8571428571428571, \"Casos confirmados diarios\": \"Casos confirmados diarios\", \"Promedio m\\u00f3vil \\u00faltimos 7 d\\u00edas\": \"Promedio m\\u00f3vil \\u00faltimos 7 d\\u00edas\"}, {\"Fecha\": \"2020-03-24\", \"Casos confirmados\": 2, \"Rolling\": 0.8571428571428571, \"Casos confirmados diarios\": \"Casos confirmados diarios\", \"Promedio m\\u00f3vil \\u00faltimos 7 d\\u00edas\": \"Promedio m\\u00f3vil \\u00faltimos 7 d\\u00edas\"}, {\"Fecha\": \"2020-03-25\", \"Casos confirmados\": 5, \"Rolling\": 1.5714285714285714, \"Casos confirmados diarios\": \"Casos confirmados diarios\", \"Promedio m\\u00f3vil \\u00faltimos 7 d\\u00edas\": \"Promedio m\\u00f3vil \\u00faltimos 7 d\\u00edas\"}, {\"Fecha\": \"2020-03-26\", \"Casos confirmados\": 6, \"Rolling\": 2.4285714285714284, \"Casos confirmados diarios\": \"Casos confirmados diarios\", \"Promedio m\\u00f3vil \\u00faltimos 7 d\\u00edas\": \"Promedio m\\u00f3vil \\u00faltimos 7 d\\u00edas\"}, {\"Fecha\": \"2020-03-27\", \"Casos confirmados\": 3, \"Rolling\": 2.857142857142857, \"Casos confirmados diarios\": \"Casos confirmados diarios\", \"Promedio m\\u00f3vil \\u00faltimos 7 d\\u00edas\": \"Promedio m\\u00f3vil \\u00faltimos 7 d\\u00edas\"}, {\"Fecha\": \"2020-03-28\", \"Casos confirmados\": 4, \"Rolling\": 3.2857142857142856, \"Casos confirmados diarios\": \"Casos confirmados diarios\", \"Promedio m\\u00f3vil \\u00faltimos 7 d\\u00edas\": \"Promedio m\\u00f3vil \\u00faltimos 7 d\\u00edas\"}, {\"Fecha\": \"2020-03-29\", \"Casos confirmados\": 13, \"Rolling\": 5.0, \"Casos confirmados diarios\": \"Casos confirmados diarios\", \"Promedio m\\u00f3vil \\u00faltimos 7 d\\u00edas\": \"Promedio m\\u00f3vil \\u00faltimos 7 d\\u00edas\"}, {\"Fecha\": \"2020-03-30\", \"Casos confirmados\": 0, \"Rolling\": 4.714285714285714, \"Casos confirmados diarios\": \"Casos confirmados diarios\", \"Promedio m\\u00f3vil \\u00faltimos 7 d\\u00edas\": \"Promedio m\\u00f3vil \\u00faltimos 7 d\\u00edas\"}, {\"Fecha\": \"2020-03-31\", \"Casos confirmados\": 24, \"Rolling\": 7.857142857142857, \"Casos confirmados diarios\": \"Casos confirmados diarios\", \"Promedio m\\u00f3vil \\u00faltimos 7 d\\u00edas\": \"Promedio m\\u00f3vil \\u00faltimos 7 d\\u00edas\"}, {\"Fecha\": \"2020-04-01\", \"Casos confirmados\": 36, \"Rolling\": 12.285714285714286, \"Casos confirmados diarios\": \"Casos confirmados diarios\", \"Promedio m\\u00f3vil \\u00faltimos 7 d\\u00edas\": \"Promedio m\\u00f3vil \\u00faltimos 7 d\\u00edas\"}, {\"Fecha\": \"2020-04-02\", \"Casos confirmados\": 15, \"Rolling\": 13.571428571428571, \"Casos confirmados diarios\": \"Casos confirmados diarios\", \"Promedio m\\u00f3vil \\u00faltimos 7 d\\u00edas\": \"Promedio m\\u00f3vil \\u00faltimos 7 d\\u00edas\"}, {\"Fecha\": \"2020-04-03\", \"Casos confirmados\": 42, \"Rolling\": 19.142857142857142, \"Casos confirmados diarios\": \"Casos confirmados diarios\", \"Promedio m\\u00f3vil \\u00faltimos 7 d\\u00edas\": \"Promedio m\\u00f3vil \\u00faltimos 7 d\\u00edas\"}, {\"Fecha\": \"2020-04-04\", \"Casos confirmados\": 16, \"Rolling\": 20.857142857142858, \"Casos confirmados diarios\": \"Casos confirmados diarios\", \"Promedio m\\u00f3vil \\u00faltimos 7 d\\u00edas\": \"Promedio m\\u00f3vil \\u00faltimos 7 d\\u00edas\"}, {\"Fecha\": \"2020-04-05\", \"Casos confirmados\": 18, \"Rolling\": 21.571428571428573, \"Casos confirmados diarios\": \"Casos confirmados diarios\", \"Promedio m\\u00f3vil \\u00faltimos 7 d\\u00edas\": \"Promedio m\\u00f3vil \\u00faltimos 7 d\\u00edas\"}, {\"Fecha\": \"2020-04-06\", \"Casos confirmados\": 31, \"Rolling\": 26.0, \"Casos confirmados diarios\": \"Casos confirmados diarios\", \"Promedio m\\u00f3vil \\u00faltimos 7 d\\u00edas\": \"Promedio m\\u00f3vil \\u00faltimos 7 d\\u00edas\"}, {\"Fecha\": \"2020-04-07\", \"Casos confirmados\": 19, \"Rolling\": 25.285714285714285, \"Casos confirmados diarios\": \"Casos confirmados diarios\", \"Promedio m\\u00f3vil \\u00faltimos 7 d\\u00edas\": \"Promedio m\\u00f3vil \\u00faltimos 7 d\\u00edas\"}, {\"Fecha\": \"2020-04-08\", \"Casos confirmados\": 26, \"Rolling\": 23.857142857142858, \"Casos confirmados diarios\": \"Casos confirmados diarios\", \"Promedio m\\u00f3vil \\u00faltimos 7 d\\u00edas\": \"Promedio m\\u00f3vil \\u00faltimos 7 d\\u00edas\"}, {\"Fecha\": \"2020-04-09\", \"Casos confirmados\": 20, \"Rolling\": 24.571428571428573, \"Casos confirmados diarios\": \"Casos confirmados diarios\", \"Promedio m\\u00f3vil \\u00faltimos 7 d\\u00edas\": \"Promedio m\\u00f3vil \\u00faltimos 7 d\\u00edas\"}, {\"Fecha\": \"2020-04-10\", \"Casos confirmados\": 45, \"Rolling\": 25.0, \"Casos confirmados diarios\": \"Casos confirmados diarios\", \"Promedio m\\u00f3vil \\u00faltimos 7 d\\u00edas\": \"Promedio m\\u00f3vil \\u00faltimos 7 d\\u00edas\"}, {\"Fecha\": \"2020-04-11\", \"Casos confirmados\": 46, \"Rolling\": 29.285714285714285, \"Casos confirmados diarios\": \"Casos confirmados diarios\", \"Promedio m\\u00f3vil \\u00faltimos 7 d\\u00edas\": \"Promedio m\\u00f3vil \\u00faltimos 7 d\\u00edas\"}, {\"Fecha\": \"2020-04-12\", \"Casos confirmados\": 19, \"Rolling\": 29.428571428571427, \"Casos confirmados diarios\": \"Casos confirmados diarios\", \"Promedio m\\u00f3vil \\u00faltimos 7 d\\u00edas\": \"Promedio m\\u00f3vil \\u00faltimos 7 d\\u00edas\"}, {\"Fecha\": \"2020-04-13\", \"Casos confirmados\": 19, \"Rolling\": 27.714285714285715, \"Casos confirmados diarios\": \"Casos confirmados diarios\", \"Promedio m\\u00f3vil \\u00faltimos 7 d\\u00edas\": \"Promedio m\\u00f3vil \\u00faltimos 7 d\\u00edas\"}, {\"Fecha\": \"2020-04-14\", \"Casos confirmados\": 14, \"Rolling\": 27.0, \"Casos confirmados diarios\": \"Casos confirmados diarios\", \"Promedio m\\u00f3vil \\u00faltimos 7 d\\u00edas\": \"Promedio m\\u00f3vil \\u00faltimos 7 d\\u00edas\"}, {\"Fecha\": \"2020-04-15\", \"Casos confirmados\": 15, \"Rolling\": 25.428571428571427, \"Casos confirmados diarios\": \"Casos confirmados diarios\", \"Promedio m\\u00f3vil \\u00faltimos 7 d\\u00edas\": \"Promedio m\\u00f3vil \\u00faltimos 7 d\\u00edas\"}, {\"Fecha\": \"2020-04-16\", \"Casos confirmados\": 23, \"Rolling\": 25.857142857142858, \"Casos confirmados diarios\": \"Casos confirmados diarios\", \"Promedio m\\u00f3vil \\u00faltimos 7 d\\u00edas\": \"Promedio m\\u00f3vil \\u00faltimos 7 d\\u00edas\"}, {\"Fecha\": \"2020-04-17\", \"Casos confirmados\": 34, \"Rolling\": 24.285714285714285, \"Casos confirmados diarios\": \"Casos confirmados diarios\", \"Promedio m\\u00f3vil \\u00faltimos 7 d\\u00edas\": \"Promedio m\\u00f3vil \\u00faltimos 7 d\\u00edas\"}, {\"Fecha\": \"2020-04-18\", \"Casos confirmados\": 21, \"Rolling\": 20.714285714285715, \"Casos confirmados diarios\": \"Casos confirmados diarios\", \"Promedio m\\u00f3vil \\u00faltimos 7 d\\u00edas\": \"Promedio m\\u00f3vil \\u00faltimos 7 d\\u00edas\"}, {\"Fecha\": \"2020-04-19\", \"Casos confirmados\": 31, \"Rolling\": 22.428571428571427, \"Casos confirmados diarios\": \"Casos confirmados diarios\", \"Promedio m\\u00f3vil \\u00faltimos 7 d\\u00edas\": \"Promedio m\\u00f3vil \\u00faltimos 7 d\\u00edas\"}, {\"Fecha\": \"2020-04-20\", \"Casos confirmados\": 13, \"Rolling\": 21.571428571428573, \"Casos confirmados diarios\": \"Casos confirmados diarios\", \"Promedio m\\u00f3vil \\u00faltimos 7 d\\u00edas\": \"Promedio m\\u00f3vil \\u00faltimos 7 d\\u00edas\"}, {\"Fecha\": \"2020-04-21\", \"Casos confirmados\": 27, \"Rolling\": 23.428571428571427, \"Casos confirmados diarios\": \"Casos confirmados diarios\", \"Promedio m\\u00f3vil \\u00faltimos 7 d\\u00edas\": \"Promedio m\\u00f3vil \\u00faltimos 7 d\\u00edas\"}, {\"Fecha\": \"2020-04-22\", \"Casos confirmados\": 12, \"Rolling\": 23.0, \"Casos confirmados diarios\": \"Casos confirmados diarios\", \"Promedio m\\u00f3vil \\u00faltimos 7 d\\u00edas\": \"Promedio m\\u00f3vil \\u00faltimos 7 d\\u00edas\"}, {\"Fecha\": \"2020-04-23\", \"Casos confirmados\": 10, \"Rolling\": 21.142857142857142, \"Casos confirmados diarios\": \"Casos confirmados diarios\", \"Promedio m\\u00f3vil \\u00faltimos 7 d\\u00edas\": \"Promedio m\\u00f3vil \\u00faltimos 7 d\\u00edas\"}, {\"Fecha\": \"2020-04-24\", \"Casos confirmados\": 9, \"Rolling\": 17.571428571428573, \"Casos confirmados diarios\": \"Casos confirmados diarios\", \"Promedio m\\u00f3vil \\u00faltimos 7 d\\u00edas\": \"Promedio m\\u00f3vil \\u00faltimos 7 d\\u00edas\"}, {\"Fecha\": \"2020-04-25\", \"Casos confirmados\": 31, \"Rolling\": 19.0, \"Casos confirmados diarios\": \"Casos confirmados diarios\", \"Promedio m\\u00f3vil \\u00faltimos 7 d\\u00edas\": \"Promedio m\\u00f3vil \\u00faltimos 7 d\\u00edas\"}, {\"Fecha\": \"2020-04-26\", \"Casos confirmados\": 13, \"Rolling\": 16.428571428571427, \"Casos confirmados diarios\": \"Casos confirmados diarios\", \"Promedio m\\u00f3vil \\u00faltimos 7 d\\u00edas\": \"Promedio m\\u00f3vil \\u00faltimos 7 d\\u00edas\"}]}}, {\"mode\": \"vega-lite\"});\n",
       "</script>"
      ],
      "text/plain": [
       "alt.LayerChart(...)"
      ]
     },
     "execution_count": 39,
     "metadata": {},
     "output_type": "execute_result"
    }
   ],
   "source": [
    "#hide_input\n",
    "bars, line = my_cases_plot(region)\n",
    "(bars + line).properties(\n",
    "    title=f'Covid-19 en Chile: Casos confirmados diarios en {region}',\n",
    "    width=600\n",
    ")"
   ]
  },
  {
   "cell_type": "markdown",
   "metadata": {},
   "source": [
    "# Fallecimientos confirmados diarios"
   ]
  },
  {
   "cell_type": "code",
   "execution_count": 40,
   "metadata": {},
   "outputs": [
    {
     "data": {
      "text/plain": [
       "'2020-04-26'"
      ]
     },
     "execution_count": 40,
     "metadata": {},
     "output_type": "execute_result"
    }
   ],
   "source": [
    "#hide\n",
    "update_date = pd.to_datetime('today') - pd.offsets.Hour(19)\n",
    "today = update_date.strftime('%Y-%m-%d')\n",
    "today"
   ]
  },
  {
   "cell_type": "code",
   "execution_count": 41,
   "metadata": {},
   "outputs": [],
   "source": [
    "#hide\n",
    "data = pd.DataFrame()\n",
    "data_raw = pd.read_csv(\n",
    "    \"https://raw.githubusercontent.com/MinCiencia/Datos-COVID19/master/output/producto4/2020-03-24-CasosConfirmados-totalRegional.csv\",\n",
    "    index_col='Region')\n",
    "data['2020-03-24'] = data_raw['Fallecidos']"
   ]
  },
  {
   "cell_type": "code",
   "execution_count": 42,
   "metadata": {},
   "outputs": [],
   "source": [
    "#hide\n",
    "first_death_date = '2020-03-24'\n",
    "total_days = (pd.to_datetime(today)-pd.to_datetime(first_death_date)).days"
   ]
  },
  {
   "cell_type": "code",
   "execution_count": 43,
   "metadata": {},
   "outputs": [],
   "source": [
    "#hide\n",
    "for i in np.arange(total_days+1):\n",
    "  date = (pd.to_datetime(first_death_date)+pd.DateOffset(i)).strftime('%Y-%m-%d')\n",
    "  s = \"https://raw.githubusercontent.com/MinCiencia/Datos-COVID19/master/output/producto4/\" + date + \"-CasosConfirmados-totalRegional.csv\"\n",
    "  data_by_date = pd.read_csv(s)\n",
    "  if 'Fallecidos' in data_by_date.columns:\n",
    "    data[date] = data_by_date[\"Fallecidos\"].values\n",
    "  elif 'Casos fallecidos' in data_by_date.columns:\n",
    "    data[date] = data_by_date[\"Casos fallecidos\"].values\n",
    "  else:\n",
    "    data[date] = data_by_date[\" Casos fallecidos\"].values"
   ]
  },
  {
   "cell_type": "code",
   "execution_count": 44,
   "metadata": {},
   "outputs": [],
   "source": [
    "#hide\n",
    "WS_deaths = 7"
   ]
  },
  {
   "cell_type": "code",
   "execution_count": 45,
   "metadata": {},
   "outputs": [],
   "source": [
    "#hide\n",
    "def my_deaths_plot(region):\n",
    "    aux1 = data.loc[region]\n",
    "    aux2 = [t - s for s, t in zip(aux1, aux1.loc['2020-03-25':])]\n",
    "    new_deaths = pd.DataFrame()\n",
    "    new_deaths[\"Dates\"] = data.loc[\"Total\"].reset_index()[\"index\"].iloc[1:].values\n",
    "    new_deaths[\"New_deaths\"] = aux2\n",
    "    new_deaths[\"Rolling\"] = new_deaths[\"New_deaths\"].rolling(window=WS_deaths).mean()\n",
    "    new_deaths[\"Fallecimientos confirmados diarios\"] = len(new_deaths) * [\"Fallecimientos confirmados diarios\"]\n",
    "    new_deaths[\"Promedio móvil últimos 7 días\"] = len(new_deaths) * [\"Promedio móvil últimos 7 días\"]\n",
    "    bars = alt.Chart(new_deaths).mark_bar(opacity=0.7, color='firebrick').encode(\n",
    "        x = alt.X('Dates:N', axis=alt.Axis(title='Fecha (año-mes-día)')),\n",
    "        y = alt.Y('New_deaths:Q', axis=alt.Axis(title='Fallecimientos confirmados diarios')),\n",
    "        tooltip = ['Dates', 'New_deaths'],\n",
    "        opacity=alt.Opacity('Fallecimientos confirmados diarios', legend=alt.Legend(title=\"\"))\n",
    "    )\n",
    "\n",
    "    line = alt.Chart(new_deaths).mark_line(point={\n",
    "          \"filled\": True,\n",
    "          \"fill\": \"firebrick\"\n",
    "        }, color='firebrick').encode(\n",
    "        x=alt.X('Dates:N', axis=alt.Axis(title='Fecha (año-mes-día)')),\n",
    "        y = alt.Y('Rolling:Q'),\n",
    "        shape=alt.Shape('Promedio móvil últimos 7 días', legend=alt.Legend(title=\"\"))\n",
    "    )\n",
    "    return bars, line"
   ]
  },
  {
   "cell_type": "markdown",
   "metadata": {},
   "source": [
    "## Chile"
   ]
  },
  {
   "cell_type": "code",
   "execution_count": 46,
   "metadata": {},
   "outputs": [],
   "source": [
    "#hide\n",
    "region = \"Total\""
   ]
  },
  {
   "cell_type": "code",
   "execution_count": 47,
   "metadata": {},
   "outputs": [
    {
     "data": {
      "text/html": [
       "\n",
       "<div id=\"altair-viz-e6dac01ca8cf4b71865799932bf1751d\"></div>\n",
       "<script type=\"text/javascript\">\n",
       "  (function(spec, embedOpt){\n",
       "    let outputDiv = document.currentScript.previousElementSibling;\n",
       "    if (outputDiv.id !== \"altair-viz-e6dac01ca8cf4b71865799932bf1751d\") {\n",
       "      outputDiv = document.getElementById(\"altair-viz-e6dac01ca8cf4b71865799932bf1751d\");\n",
       "    }\n",
       "    const paths = {\n",
       "      \"vega\": \"https://cdn.jsdelivr.net/npm//vega@5?noext\",\n",
       "      \"vega-lib\": \"https://cdn.jsdelivr.net/npm//vega-lib?noext\",\n",
       "      \"vega-lite\": \"https://cdn.jsdelivr.net/npm//vega-lite@4.8.1?noext\",\n",
       "      \"vega-embed\": \"https://cdn.jsdelivr.net/npm//vega-embed@6?noext\",\n",
       "    };\n",
       "\n",
       "    function loadScript(lib) {\n",
       "      return new Promise(function(resolve, reject) {\n",
       "        var s = document.createElement('script');\n",
       "        s.src = paths[lib];\n",
       "        s.async = true;\n",
       "        s.onload = () => resolve(paths[lib]);\n",
       "        s.onerror = () => reject(`Error loading script: ${paths[lib]}`);\n",
       "        document.getElementsByTagName(\"head\")[0].appendChild(s);\n",
       "      });\n",
       "    }\n",
       "\n",
       "    function showError(err) {\n",
       "      outputDiv.innerHTML = `<div class=\"error\" style=\"color:red;\">${err}</div>`;\n",
       "      throw err;\n",
       "    }\n",
       "\n",
       "    function displayChart(vegaEmbed) {\n",
       "      vegaEmbed(outputDiv, spec, embedOpt)\n",
       "        .catch(err => showError(`Javascript Error: ${err.message}<br>This usually means there's a typo in your chart specification. See the javascript console for the full traceback.`));\n",
       "    }\n",
       "\n",
       "    if(typeof define === \"function\" && define.amd) {\n",
       "      requirejs.config({paths});\n",
       "      require([\"vega-embed\"], displayChart, err => showError(`Error loading script: ${err.message}`));\n",
       "    } else if (typeof vegaEmbed === \"function\") {\n",
       "      displayChart(vegaEmbed);\n",
       "    } else {\n",
       "      loadScript(\"vega\")\n",
       "        .then(() => loadScript(\"vega-lite\"))\n",
       "        .then(() => loadScript(\"vega-embed\"))\n",
       "        .catch(showError)\n",
       "        .then(() => displayChart(vegaEmbed));\n",
       "    }\n",
       "  })({\"config\": {\"view\": {\"continuousWidth\": 400, \"continuousHeight\": 300}}, \"layer\": [{\"mark\": {\"type\": \"bar\", \"color\": \"firebrick\", \"opacity\": 0.7}, \"encoding\": {\"opacity\": {\"type\": \"nominal\", \"field\": \"Fallecimientos confirmados diarios\", \"legend\": {\"title\": \"\"}}, \"tooltip\": [{\"type\": \"nominal\", \"field\": \"Dates\"}, {\"type\": \"quantitative\", \"field\": \"New_deaths\"}], \"x\": {\"type\": \"nominal\", \"axis\": {\"title\": \"Fecha (a\\u00f1o-mes-d\\u00eda)\"}, \"field\": \"Dates\"}, \"y\": {\"type\": \"quantitative\", \"axis\": {\"title\": \"Fallecimientos confirmados diarios\"}, \"field\": \"New_deaths\"}}}, {\"mark\": {\"type\": \"line\", \"color\": \"firebrick\", \"point\": {\"filled\": true, \"fill\": \"firebrick\"}}, \"encoding\": {\"shape\": {\"type\": \"nominal\", \"field\": \"Promedio m\\u00f3vil \\u00faltimos 7 d\\u00edas\", \"legend\": {\"title\": \"\"}}, \"x\": {\"type\": \"nominal\", \"axis\": {\"title\": \"Fecha (a\\u00f1o-mes-d\\u00eda)\"}, \"field\": \"Dates\"}, \"y\": {\"type\": \"quantitative\", \"field\": \"Rolling\"}}}], \"data\": {\"name\": \"data-8f4059e569236d8239719a10074ecdc5\"}, \"title\": \"Covid-19 en Chile: Fallecimientos confirmados diarios en Chile\", \"width\": 600, \"$schema\": \"https://vega.github.io/schema/vega-lite/v4.8.1.json\", \"datasets\": {\"data-8f4059e569236d8239719a10074ecdc5\": [{\"Dates\": \"2020-03-25\", \"New_deaths\": 1, \"Rolling\": null, \"Fallecimientos confirmados diarios\": \"Fallecimientos confirmados diarios\", \"Promedio m\\u00f3vil \\u00faltimos 7 d\\u00edas\": \"Promedio m\\u00f3vil \\u00faltimos 7 d\\u00edas\"}, {\"Dates\": \"2020-03-26\", \"New_deaths\": 1, \"Rolling\": null, \"Fallecimientos confirmados diarios\": \"Fallecimientos confirmados diarios\", \"Promedio m\\u00f3vil \\u00faltimos 7 d\\u00edas\": \"Promedio m\\u00f3vil \\u00faltimos 7 d\\u00edas\"}, {\"Dates\": \"2020-03-27\", \"New_deaths\": 1, \"Rolling\": null, \"Fallecimientos confirmados diarios\": \"Fallecimientos confirmados diarios\", \"Promedio m\\u00f3vil \\u00faltimos 7 d\\u00edas\": \"Promedio m\\u00f3vil \\u00faltimos 7 d\\u00edas\"}, {\"Dates\": \"2020-03-28\", \"New_deaths\": 1, \"Rolling\": null, \"Fallecimientos confirmados diarios\": \"Fallecimientos confirmados diarios\", \"Promedio m\\u00f3vil \\u00faltimos 7 d\\u00edas\": \"Promedio m\\u00f3vil \\u00faltimos 7 d\\u00edas\"}, {\"Dates\": \"2020-03-29\", \"New_deaths\": 1, \"Rolling\": null, \"Fallecimientos confirmados diarios\": \"Fallecimientos confirmados diarios\", \"Promedio m\\u00f3vil \\u00faltimos 7 d\\u00edas\": \"Promedio m\\u00f3vil \\u00faltimos 7 d\\u00edas\"}, {\"Dates\": \"2020-03-30\", \"New_deaths\": 1, \"Rolling\": null, \"Fallecimientos confirmados diarios\": \"Fallecimientos confirmados diarios\", \"Promedio m\\u00f3vil \\u00faltimos 7 d\\u00edas\": \"Promedio m\\u00f3vil \\u00faltimos 7 d\\u00edas\"}, {\"Dates\": \"2020-03-31\", \"New_deaths\": 4, \"Rolling\": 1.4285714285714286, \"Fallecimientos confirmados diarios\": \"Fallecimientos confirmados diarios\", \"Promedio m\\u00f3vil \\u00faltimos 7 d\\u00edas\": \"Promedio m\\u00f3vil \\u00faltimos 7 d\\u00edas\"}, {\"Dates\": \"2020-04-01\", \"New_deaths\": 4, \"Rolling\": 1.8571428571428572, \"Fallecimientos confirmados diarios\": \"Fallecimientos confirmados diarios\", \"Promedio m\\u00f3vil \\u00faltimos 7 d\\u00edas\": \"Promedio m\\u00f3vil \\u00faltimos 7 d\\u00edas\"}, {\"Dates\": \"2020-04-02\", \"New_deaths\": 2, \"Rolling\": 2.0, \"Fallecimientos confirmados diarios\": \"Fallecimientos confirmados diarios\", \"Promedio m\\u00f3vil \\u00faltimos 7 d\\u00edas\": \"Promedio m\\u00f3vil \\u00faltimos 7 d\\u00edas\"}, {\"Dates\": \"2020-04-03\", \"New_deaths\": 4, \"Rolling\": 2.4285714285714284, \"Fallecimientos confirmados diarios\": \"Fallecimientos confirmados diarios\", \"Promedio m\\u00f3vil \\u00faltimos 7 d\\u00edas\": \"Promedio m\\u00f3vil \\u00faltimos 7 d\\u00edas\"}, {\"Dates\": \"2020-04-04\", \"New_deaths\": 5, \"Rolling\": 3.0, \"Fallecimientos confirmados diarios\": \"Fallecimientos confirmados diarios\", \"Promedio m\\u00f3vil \\u00faltimos 7 d\\u00edas\": \"Promedio m\\u00f3vil \\u00faltimos 7 d\\u00edas\"}, {\"Dates\": \"2020-04-05\", \"New_deaths\": 7, \"Rolling\": 3.857142857142857, \"Fallecimientos confirmados diarios\": \"Fallecimientos confirmados diarios\", \"Promedio m\\u00f3vil \\u00faltimos 7 d\\u00edas\": \"Promedio m\\u00f3vil \\u00faltimos 7 d\\u00edas\"}, {\"Dates\": \"2020-04-06\", \"New_deaths\": 3, \"Rolling\": 4.142857142857143, \"Fallecimientos confirmados diarios\": \"Fallecimientos confirmados diarios\", \"Promedio m\\u00f3vil \\u00faltimos 7 d\\u00edas\": \"Promedio m\\u00f3vil \\u00faltimos 7 d\\u00edas\"}, {\"Dates\": \"2020-04-07\", \"New_deaths\": 6, \"Rolling\": 4.428571428571429, \"Fallecimientos confirmados diarios\": \"Fallecimientos confirmados diarios\", \"Promedio m\\u00f3vil \\u00faltimos 7 d\\u00edas\": \"Promedio m\\u00f3vil \\u00faltimos 7 d\\u00edas\"}, {\"Dates\": \"2020-04-08\", \"New_deaths\": 5, \"Rolling\": 4.571428571428571, \"Fallecimientos confirmados diarios\": \"Fallecimientos confirmados diarios\", \"Promedio m\\u00f3vil \\u00faltimos 7 d\\u00edas\": \"Promedio m\\u00f3vil \\u00faltimos 7 d\\u00edas\"}, {\"Dates\": \"2020-04-09\", \"New_deaths\": 9, \"Rolling\": 5.571428571428571, \"Fallecimientos confirmados diarios\": \"Fallecimientos confirmados diarios\", \"Promedio m\\u00f3vil \\u00faltimos 7 d\\u00edas\": \"Promedio m\\u00f3vil \\u00faltimos 7 d\\u00edas\"}, {\"Dates\": \"2020-04-10\", \"New_deaths\": 8, \"Rolling\": 6.142857142857143, \"Fallecimientos confirmados diarios\": \"Fallecimientos confirmados diarios\", \"Promedio m\\u00f3vil \\u00faltimos 7 d\\u00edas\": \"Promedio m\\u00f3vil \\u00faltimos 7 d\\u00edas\"}, {\"Dates\": \"2020-04-11\", \"New_deaths\": 8, \"Rolling\": 6.571428571428571, \"Fallecimientos confirmados diarios\": \"Fallecimientos confirmados diarios\", \"Promedio m\\u00f3vil \\u00faltimos 7 d\\u00edas\": \"Promedio m\\u00f3vil \\u00faltimos 7 d\\u00edas\"}, {\"Dates\": \"2020-04-12\", \"New_deaths\": 7, \"Rolling\": 6.571428571428571, \"Fallecimientos confirmados diarios\": \"Fallecimientos confirmados diarios\", \"Promedio m\\u00f3vil \\u00faltimos 7 d\\u00edas\": \"Promedio m\\u00f3vil \\u00faltimos 7 d\\u00edas\"}, {\"Dates\": \"2020-04-13\", \"New_deaths\": 2, \"Rolling\": 6.428571428571429, \"Fallecimientos confirmados diarios\": \"Fallecimientos confirmados diarios\", \"Promedio m\\u00f3vil \\u00faltimos 7 d\\u00edas\": \"Promedio m\\u00f3vil \\u00faltimos 7 d\\u00edas\"}, {\"Dates\": \"2020-04-14\", \"New_deaths\": 10, \"Rolling\": 7.0, \"Fallecimientos confirmados diarios\": \"Fallecimientos confirmados diarios\", \"Promedio m\\u00f3vil \\u00faltimos 7 d\\u00edas\": \"Promedio m\\u00f3vil \\u00faltimos 7 d\\u00edas\"}, {\"Dates\": \"2020-04-15\", \"New_deaths\": 2, \"Rolling\": 6.571428571428571, \"Fallecimientos confirmados diarios\": \"Fallecimientos confirmados diarios\", \"Promedio m\\u00f3vil \\u00faltimos 7 d\\u00edas\": \"Promedio m\\u00f3vil \\u00faltimos 7 d\\u00edas\"}, {\"Dates\": \"2020-04-16\", \"New_deaths\": 11, \"Rolling\": 6.857142857142857, \"Fallecimientos confirmados diarios\": \"Fallecimientos confirmados diarios\", \"Promedio m\\u00f3vil \\u00faltimos 7 d\\u00edas\": \"Promedio m\\u00f3vil \\u00faltimos 7 d\\u00edas\"}, {\"Dates\": \"2020-04-17\", \"New_deaths\": 11, \"Rolling\": 7.285714285714286, \"Fallecimientos confirmados diarios\": \"Fallecimientos confirmados diarios\", \"Promedio m\\u00f3vil \\u00faltimos 7 d\\u00edas\": \"Promedio m\\u00f3vil \\u00faltimos 7 d\\u00edas\"}, {\"Dates\": \"2020-04-18\", \"New_deaths\": 10, \"Rolling\": 7.571428571428571, \"Fallecimientos confirmados diarios\": \"Fallecimientos confirmados diarios\", \"Promedio m\\u00f3vil \\u00faltimos 7 d\\u00edas\": \"Promedio m\\u00f3vil \\u00faltimos 7 d\\u00edas\"}, {\"Dates\": \"2020-04-19\", \"New_deaths\": 7, \"Rolling\": 7.571428571428571, \"Fallecimientos confirmados diarios\": \"Fallecimientos confirmados diarios\", \"Promedio m\\u00f3vil \\u00faltimos 7 d\\u00edas\": \"Promedio m\\u00f3vil \\u00faltimos 7 d\\u00edas\"}, {\"Dates\": \"2020-04-20\", \"New_deaths\": 6, \"Rolling\": 8.142857142857142, \"Fallecimientos confirmados diarios\": \"Fallecimientos confirmados diarios\", \"Promedio m\\u00f3vil \\u00faltimos 7 d\\u00edas\": \"Promedio m\\u00f3vil \\u00faltimos 7 d\\u00edas\"}, {\"Dates\": \"2020-04-21\", \"New_deaths\": 8, \"Rolling\": 7.857142857142857, \"Fallecimientos confirmados diarios\": \"Fallecimientos confirmados diarios\", \"Promedio m\\u00f3vil \\u00faltimos 7 d\\u00edas\": \"Promedio m\\u00f3vil \\u00faltimos 7 d\\u00edas\"}, {\"Dates\": \"2020-04-22\", \"New_deaths\": 13, \"Rolling\": 9.428571428571429, \"Fallecimientos confirmados diarios\": \"Fallecimientos confirmados diarios\", \"Promedio m\\u00f3vil \\u00faltimos 7 d\\u00edas\": \"Promedio m\\u00f3vil \\u00faltimos 7 d\\u00edas\"}, {\"Dates\": \"2020-04-23\", \"New_deaths\": 8, \"Rolling\": 9.0, \"Fallecimientos confirmados diarios\": \"Fallecimientos confirmados diarios\", \"Promedio m\\u00f3vil \\u00faltimos 7 d\\u00edas\": \"Promedio m\\u00f3vil \\u00faltimos 7 d\\u00edas\"}, {\"Dates\": \"2020-04-24\", \"New_deaths\": 6, \"Rolling\": 8.285714285714286, \"Fallecimientos confirmados diarios\": \"Fallecimientos confirmados diarios\", \"Promedio m\\u00f3vil \\u00faltimos 7 d\\u00edas\": \"Promedio m\\u00f3vil \\u00faltimos 7 d\\u00edas\"}, {\"Dates\": \"2020-04-25\", \"New_deaths\": 7, \"Rolling\": 7.857142857142857, \"Fallecimientos confirmados diarios\": \"Fallecimientos confirmados diarios\", \"Promedio m\\u00f3vil \\u00faltimos 7 d\\u00edas\": \"Promedio m\\u00f3vil \\u00faltimos 7 d\\u00edas\"}, {\"Dates\": \"2020-04-26\", \"New_deaths\": 8, \"Rolling\": 8.0, \"Fallecimientos confirmados diarios\": \"Fallecimientos confirmados diarios\", \"Promedio m\\u00f3vil \\u00faltimos 7 d\\u00edas\": \"Promedio m\\u00f3vil \\u00faltimos 7 d\\u00edas\"}]}}, {\"mode\": \"vega-lite\"});\n",
       "</script>"
      ],
      "text/plain": [
       "alt.LayerChart(...)"
      ]
     },
     "execution_count": 47,
     "metadata": {},
     "output_type": "execute_result"
    }
   ],
   "source": [
    "#hide_input\n",
    "bars, line = my_deaths_plot(region)\n",
    "(bars + line).properties(\n",
    "    title=f'Covid-19 en Chile: Fallecimientos confirmados diarios en Chile',\n",
    "    width=600\n",
    ")"
   ]
  },
  {
   "cell_type": "markdown",
   "metadata": {},
   "source": [
    "## Arica y Parinacota"
   ]
  },
  {
   "cell_type": "code",
   "execution_count": 48,
   "metadata": {
    "scrolled": true
   },
   "outputs": [],
   "source": [
    "#hide\n",
    "region = \"Arica y Parinacota\""
   ]
  },
  {
   "cell_type": "code",
   "execution_count": 49,
   "metadata": {},
   "outputs": [
    {
     "data": {
      "text/html": [
       "\n",
       "<div id=\"altair-viz-db9b30ef4ea24cf99e0ce61c4dbcf1cd\"></div>\n",
       "<script type=\"text/javascript\">\n",
       "  (function(spec, embedOpt){\n",
       "    let outputDiv = document.currentScript.previousElementSibling;\n",
       "    if (outputDiv.id !== \"altair-viz-db9b30ef4ea24cf99e0ce61c4dbcf1cd\") {\n",
       "      outputDiv = document.getElementById(\"altair-viz-db9b30ef4ea24cf99e0ce61c4dbcf1cd\");\n",
       "    }\n",
       "    const paths = {\n",
       "      \"vega\": \"https://cdn.jsdelivr.net/npm//vega@5?noext\",\n",
       "      \"vega-lib\": \"https://cdn.jsdelivr.net/npm//vega-lib?noext\",\n",
       "      \"vega-lite\": \"https://cdn.jsdelivr.net/npm//vega-lite@4.8.1?noext\",\n",
       "      \"vega-embed\": \"https://cdn.jsdelivr.net/npm//vega-embed@6?noext\",\n",
       "    };\n",
       "\n",
       "    function loadScript(lib) {\n",
       "      return new Promise(function(resolve, reject) {\n",
       "        var s = document.createElement('script');\n",
       "        s.src = paths[lib];\n",
       "        s.async = true;\n",
       "        s.onload = () => resolve(paths[lib]);\n",
       "        s.onerror = () => reject(`Error loading script: ${paths[lib]}`);\n",
       "        document.getElementsByTagName(\"head\")[0].appendChild(s);\n",
       "      });\n",
       "    }\n",
       "\n",
       "    function showError(err) {\n",
       "      outputDiv.innerHTML = `<div class=\"error\" style=\"color:red;\">${err}</div>`;\n",
       "      throw err;\n",
       "    }\n",
       "\n",
       "    function displayChart(vegaEmbed) {\n",
       "      vegaEmbed(outputDiv, spec, embedOpt)\n",
       "        .catch(err => showError(`Javascript Error: ${err.message}<br>This usually means there's a typo in your chart specification. See the javascript console for the full traceback.`));\n",
       "    }\n",
       "\n",
       "    if(typeof define === \"function\" && define.amd) {\n",
       "      requirejs.config({paths});\n",
       "      require([\"vega-embed\"], displayChart, err => showError(`Error loading script: ${err.message}`));\n",
       "    } else if (typeof vegaEmbed === \"function\") {\n",
       "      displayChart(vegaEmbed);\n",
       "    } else {\n",
       "      loadScript(\"vega\")\n",
       "        .then(() => loadScript(\"vega-lite\"))\n",
       "        .then(() => loadScript(\"vega-embed\"))\n",
       "        .catch(showError)\n",
       "        .then(() => displayChart(vegaEmbed));\n",
       "    }\n",
       "  })({\"config\": {\"view\": {\"continuousWidth\": 400, \"continuousHeight\": 300}}, \"layer\": [{\"mark\": {\"type\": \"bar\", \"color\": \"firebrick\", \"opacity\": 0.7}, \"encoding\": {\"opacity\": {\"type\": \"nominal\", \"field\": \"Fallecimientos confirmados diarios\", \"legend\": {\"title\": \"\"}}, \"tooltip\": [{\"type\": \"nominal\", \"field\": \"Dates\"}, {\"type\": \"quantitative\", \"field\": \"New_deaths\"}], \"x\": {\"type\": \"nominal\", \"axis\": {\"title\": \"Fecha (a\\u00f1o-mes-d\\u00eda)\"}, \"field\": \"Dates\"}, \"y\": {\"type\": \"quantitative\", \"axis\": {\"title\": \"Fallecimientos confirmados diarios\"}, \"field\": \"New_deaths\"}}}, {\"mark\": {\"type\": \"line\", \"color\": \"firebrick\", \"point\": {\"filled\": true, \"fill\": \"firebrick\"}}, \"encoding\": {\"shape\": {\"type\": \"nominal\", \"field\": \"Promedio m\\u00f3vil \\u00faltimos 7 d\\u00edas\", \"legend\": {\"title\": \"\"}}, \"x\": {\"type\": \"nominal\", \"axis\": {\"title\": \"Fecha (a\\u00f1o-mes-d\\u00eda)\"}, \"field\": \"Dates\"}, \"y\": {\"type\": \"quantitative\", \"field\": \"Rolling\"}}}], \"data\": {\"name\": \"data-df1ea9f1fdd35ecfe17dd15d2ac90636\"}, \"title\": \"Covid-19 en Chile: Fallecimientos confirmados diarios en Arica y Parinacota\", \"width\": 600, \"$schema\": \"https://vega.github.io/schema/vega-lite/v4.8.1.json\", \"datasets\": {\"data-df1ea9f1fdd35ecfe17dd15d2ac90636\": [{\"Dates\": \"2020-03-25\", \"New_deaths\": 0, \"Rolling\": null, \"Fallecimientos confirmados diarios\": \"Fallecimientos confirmados diarios\", \"Promedio m\\u00f3vil \\u00faltimos 7 d\\u00edas\": \"Promedio m\\u00f3vil \\u00faltimos 7 d\\u00edas\"}, {\"Dates\": \"2020-03-26\", \"New_deaths\": 0, \"Rolling\": null, \"Fallecimientos confirmados diarios\": \"Fallecimientos confirmados diarios\", \"Promedio m\\u00f3vil \\u00faltimos 7 d\\u00edas\": \"Promedio m\\u00f3vil \\u00faltimos 7 d\\u00edas\"}, {\"Dates\": \"2020-03-27\", \"New_deaths\": 0, \"Rolling\": null, \"Fallecimientos confirmados diarios\": \"Fallecimientos confirmados diarios\", \"Promedio m\\u00f3vil \\u00faltimos 7 d\\u00edas\": \"Promedio m\\u00f3vil \\u00faltimos 7 d\\u00edas\"}, {\"Dates\": \"2020-03-28\", \"New_deaths\": 0, \"Rolling\": null, \"Fallecimientos confirmados diarios\": \"Fallecimientos confirmados diarios\", \"Promedio m\\u00f3vil \\u00faltimos 7 d\\u00edas\": \"Promedio m\\u00f3vil \\u00faltimos 7 d\\u00edas\"}, {\"Dates\": \"2020-03-29\", \"New_deaths\": 0, \"Rolling\": null, \"Fallecimientos confirmados diarios\": \"Fallecimientos confirmados diarios\", \"Promedio m\\u00f3vil \\u00faltimos 7 d\\u00edas\": \"Promedio m\\u00f3vil \\u00faltimos 7 d\\u00edas\"}, {\"Dates\": \"2020-03-30\", \"New_deaths\": 0, \"Rolling\": null, \"Fallecimientos confirmados diarios\": \"Fallecimientos confirmados diarios\", \"Promedio m\\u00f3vil \\u00faltimos 7 d\\u00edas\": \"Promedio m\\u00f3vil \\u00faltimos 7 d\\u00edas\"}, {\"Dates\": \"2020-03-31\", \"New_deaths\": 0, \"Rolling\": 0.0, \"Fallecimientos confirmados diarios\": \"Fallecimientos confirmados diarios\", \"Promedio m\\u00f3vil \\u00faltimos 7 d\\u00edas\": \"Promedio m\\u00f3vil \\u00faltimos 7 d\\u00edas\"}, {\"Dates\": \"2020-04-01\", \"New_deaths\": 0, \"Rolling\": 0.0, \"Fallecimientos confirmados diarios\": \"Fallecimientos confirmados diarios\", \"Promedio m\\u00f3vil \\u00faltimos 7 d\\u00edas\": \"Promedio m\\u00f3vil \\u00faltimos 7 d\\u00edas\"}, {\"Dates\": \"2020-04-02\", \"New_deaths\": 0, \"Rolling\": 0.0, \"Fallecimientos confirmados diarios\": \"Fallecimientos confirmados diarios\", \"Promedio m\\u00f3vil \\u00faltimos 7 d\\u00edas\": \"Promedio m\\u00f3vil \\u00faltimos 7 d\\u00edas\"}, {\"Dates\": \"2020-04-03\", \"New_deaths\": 0, \"Rolling\": 0.0, \"Fallecimientos confirmados diarios\": \"Fallecimientos confirmados diarios\", \"Promedio m\\u00f3vil \\u00faltimos 7 d\\u00edas\": \"Promedio m\\u00f3vil \\u00faltimos 7 d\\u00edas\"}, {\"Dates\": \"2020-04-04\", \"New_deaths\": 0, \"Rolling\": 0.0, \"Fallecimientos confirmados diarios\": \"Fallecimientos confirmados diarios\", \"Promedio m\\u00f3vil \\u00faltimos 7 d\\u00edas\": \"Promedio m\\u00f3vil \\u00faltimos 7 d\\u00edas\"}, {\"Dates\": \"2020-04-05\", \"New_deaths\": 0, \"Rolling\": 0.0, \"Fallecimientos confirmados diarios\": \"Fallecimientos confirmados diarios\", \"Promedio m\\u00f3vil \\u00faltimos 7 d\\u00edas\": \"Promedio m\\u00f3vil \\u00faltimos 7 d\\u00edas\"}, {\"Dates\": \"2020-04-06\", \"New_deaths\": 0, \"Rolling\": 0.0, \"Fallecimientos confirmados diarios\": \"Fallecimientos confirmados diarios\", \"Promedio m\\u00f3vil \\u00faltimos 7 d\\u00edas\": \"Promedio m\\u00f3vil \\u00faltimos 7 d\\u00edas\"}, {\"Dates\": \"2020-04-07\", \"New_deaths\": 0, \"Rolling\": 0.0, \"Fallecimientos confirmados diarios\": \"Fallecimientos confirmados diarios\", \"Promedio m\\u00f3vil \\u00faltimos 7 d\\u00edas\": \"Promedio m\\u00f3vil \\u00faltimos 7 d\\u00edas\"}, {\"Dates\": \"2020-04-08\", \"New_deaths\": 0, \"Rolling\": 0.0, \"Fallecimientos confirmados diarios\": \"Fallecimientos confirmados diarios\", \"Promedio m\\u00f3vil \\u00faltimos 7 d\\u00edas\": \"Promedio m\\u00f3vil \\u00faltimos 7 d\\u00edas\"}, {\"Dates\": \"2020-04-09\", \"New_deaths\": 0, \"Rolling\": 0.0, \"Fallecimientos confirmados diarios\": \"Fallecimientos confirmados diarios\", \"Promedio m\\u00f3vil \\u00faltimos 7 d\\u00edas\": \"Promedio m\\u00f3vil \\u00faltimos 7 d\\u00edas\"}, {\"Dates\": \"2020-04-10\", \"New_deaths\": 0, \"Rolling\": 0.0, \"Fallecimientos confirmados diarios\": \"Fallecimientos confirmados diarios\", \"Promedio m\\u00f3vil \\u00faltimos 7 d\\u00edas\": \"Promedio m\\u00f3vil \\u00faltimos 7 d\\u00edas\"}, {\"Dates\": \"2020-04-11\", \"New_deaths\": 0, \"Rolling\": 0.0, \"Fallecimientos confirmados diarios\": \"Fallecimientos confirmados diarios\", \"Promedio m\\u00f3vil \\u00faltimos 7 d\\u00edas\": \"Promedio m\\u00f3vil \\u00faltimos 7 d\\u00edas\"}, {\"Dates\": \"2020-04-12\", \"New_deaths\": 1, \"Rolling\": 0.14285714285714285, \"Fallecimientos confirmados diarios\": \"Fallecimientos confirmados diarios\", \"Promedio m\\u00f3vil \\u00faltimos 7 d\\u00edas\": \"Promedio m\\u00f3vil \\u00faltimos 7 d\\u00edas\"}, {\"Dates\": \"2020-04-13\", \"New_deaths\": 0, \"Rolling\": 0.14285714285714285, \"Fallecimientos confirmados diarios\": \"Fallecimientos confirmados diarios\", \"Promedio m\\u00f3vil \\u00faltimos 7 d\\u00edas\": \"Promedio m\\u00f3vil \\u00faltimos 7 d\\u00edas\"}, {\"Dates\": \"2020-04-14\", \"New_deaths\": 0, \"Rolling\": 0.14285714285714285, \"Fallecimientos confirmados diarios\": \"Fallecimientos confirmados diarios\", \"Promedio m\\u00f3vil \\u00faltimos 7 d\\u00edas\": \"Promedio m\\u00f3vil \\u00faltimos 7 d\\u00edas\"}, {\"Dates\": \"2020-04-15\", \"New_deaths\": 0, \"Rolling\": 0.14285714285714285, \"Fallecimientos confirmados diarios\": \"Fallecimientos confirmados diarios\", \"Promedio m\\u00f3vil \\u00faltimos 7 d\\u00edas\": \"Promedio m\\u00f3vil \\u00faltimos 7 d\\u00edas\"}, {\"Dates\": \"2020-04-16\", \"New_deaths\": 0, \"Rolling\": 0.14285714285714285, \"Fallecimientos confirmados diarios\": \"Fallecimientos confirmados diarios\", \"Promedio m\\u00f3vil \\u00faltimos 7 d\\u00edas\": \"Promedio m\\u00f3vil \\u00faltimos 7 d\\u00edas\"}, {\"Dates\": \"2020-04-17\", \"New_deaths\": 1, \"Rolling\": 0.2857142857142857, \"Fallecimientos confirmados diarios\": \"Fallecimientos confirmados diarios\", \"Promedio m\\u00f3vil \\u00faltimos 7 d\\u00edas\": \"Promedio m\\u00f3vil \\u00faltimos 7 d\\u00edas\"}, {\"Dates\": \"2020-04-18\", \"New_deaths\": 0, \"Rolling\": 0.2857142857142857, \"Fallecimientos confirmados diarios\": \"Fallecimientos confirmados diarios\", \"Promedio m\\u00f3vil \\u00faltimos 7 d\\u00edas\": \"Promedio m\\u00f3vil \\u00faltimos 7 d\\u00edas\"}, {\"Dates\": \"2020-04-19\", \"New_deaths\": 0, \"Rolling\": 0.14285714285714285, \"Fallecimientos confirmados diarios\": \"Fallecimientos confirmados diarios\", \"Promedio m\\u00f3vil \\u00faltimos 7 d\\u00edas\": \"Promedio m\\u00f3vil \\u00faltimos 7 d\\u00edas\"}, {\"Dates\": \"2020-04-20\", \"New_deaths\": 0, \"Rolling\": 0.14285714285714285, \"Fallecimientos confirmados diarios\": \"Fallecimientos confirmados diarios\", \"Promedio m\\u00f3vil \\u00faltimos 7 d\\u00edas\": \"Promedio m\\u00f3vil \\u00faltimos 7 d\\u00edas\"}, {\"Dates\": \"2020-04-21\", \"New_deaths\": 0, \"Rolling\": 0.14285714285714285, \"Fallecimientos confirmados diarios\": \"Fallecimientos confirmados diarios\", \"Promedio m\\u00f3vil \\u00faltimos 7 d\\u00edas\": \"Promedio m\\u00f3vil \\u00faltimos 7 d\\u00edas\"}, {\"Dates\": \"2020-04-22\", \"New_deaths\": 0, \"Rolling\": 0.14285714285714285, \"Fallecimientos confirmados diarios\": \"Fallecimientos confirmados diarios\", \"Promedio m\\u00f3vil \\u00faltimos 7 d\\u00edas\": \"Promedio m\\u00f3vil \\u00faltimos 7 d\\u00edas\"}, {\"Dates\": \"2020-04-23\", \"New_deaths\": 0, \"Rolling\": 0.14285714285714285, \"Fallecimientos confirmados diarios\": \"Fallecimientos confirmados diarios\", \"Promedio m\\u00f3vil \\u00faltimos 7 d\\u00edas\": \"Promedio m\\u00f3vil \\u00faltimos 7 d\\u00edas\"}, {\"Dates\": \"2020-04-24\", \"New_deaths\": 1, \"Rolling\": 0.14285714285714285, \"Fallecimientos confirmados diarios\": \"Fallecimientos confirmados diarios\", \"Promedio m\\u00f3vil \\u00faltimos 7 d\\u00edas\": \"Promedio m\\u00f3vil \\u00faltimos 7 d\\u00edas\"}, {\"Dates\": \"2020-04-25\", \"New_deaths\": 0, \"Rolling\": 0.14285714285714285, \"Fallecimientos confirmados diarios\": \"Fallecimientos confirmados diarios\", \"Promedio m\\u00f3vil \\u00faltimos 7 d\\u00edas\": \"Promedio m\\u00f3vil \\u00faltimos 7 d\\u00edas\"}, {\"Dates\": \"2020-04-26\", \"New_deaths\": 0, \"Rolling\": 0.14285714285714285, \"Fallecimientos confirmados diarios\": \"Fallecimientos confirmados diarios\", \"Promedio m\\u00f3vil \\u00faltimos 7 d\\u00edas\": \"Promedio m\\u00f3vil \\u00faltimos 7 d\\u00edas\"}]}}, {\"mode\": \"vega-lite\"});\n",
       "</script>"
      ],
      "text/plain": [
       "alt.LayerChart(...)"
      ]
     },
     "execution_count": 49,
     "metadata": {},
     "output_type": "execute_result"
    }
   ],
   "source": [
    "#hide_input\n",
    "bars, line = my_deaths_plot(region)\n",
    "(bars + line).properties(\n",
    "    title=f'Covid-19 en Chile: Fallecimientos confirmados diarios en {region}',\n",
    "    width=600\n",
    ")"
   ]
  },
  {
   "cell_type": "markdown",
   "metadata": {},
   "source": [
    "## Tarapacá"
   ]
  },
  {
   "cell_type": "code",
   "execution_count": 50,
   "metadata": {
    "scrolled": true
   },
   "outputs": [],
   "source": [
    "#hide\n",
    "region = \"Tarapacá\""
   ]
  },
  {
   "cell_type": "code",
   "execution_count": 51,
   "metadata": {},
   "outputs": [
    {
     "data": {
      "text/html": [
       "\n",
       "<div id=\"altair-viz-a376a964f33843efbe365d6f56ea39b5\"></div>\n",
       "<script type=\"text/javascript\">\n",
       "  (function(spec, embedOpt){\n",
       "    let outputDiv = document.currentScript.previousElementSibling;\n",
       "    if (outputDiv.id !== \"altair-viz-a376a964f33843efbe365d6f56ea39b5\") {\n",
       "      outputDiv = document.getElementById(\"altair-viz-a376a964f33843efbe365d6f56ea39b5\");\n",
       "    }\n",
       "    const paths = {\n",
       "      \"vega\": \"https://cdn.jsdelivr.net/npm//vega@5?noext\",\n",
       "      \"vega-lib\": \"https://cdn.jsdelivr.net/npm//vega-lib?noext\",\n",
       "      \"vega-lite\": \"https://cdn.jsdelivr.net/npm//vega-lite@4.8.1?noext\",\n",
       "      \"vega-embed\": \"https://cdn.jsdelivr.net/npm//vega-embed@6?noext\",\n",
       "    };\n",
       "\n",
       "    function loadScript(lib) {\n",
       "      return new Promise(function(resolve, reject) {\n",
       "        var s = document.createElement('script');\n",
       "        s.src = paths[lib];\n",
       "        s.async = true;\n",
       "        s.onload = () => resolve(paths[lib]);\n",
       "        s.onerror = () => reject(`Error loading script: ${paths[lib]}`);\n",
       "        document.getElementsByTagName(\"head\")[0].appendChild(s);\n",
       "      });\n",
       "    }\n",
       "\n",
       "    function showError(err) {\n",
       "      outputDiv.innerHTML = `<div class=\"error\" style=\"color:red;\">${err}</div>`;\n",
       "      throw err;\n",
       "    }\n",
       "\n",
       "    function displayChart(vegaEmbed) {\n",
       "      vegaEmbed(outputDiv, spec, embedOpt)\n",
       "        .catch(err => showError(`Javascript Error: ${err.message}<br>This usually means there's a typo in your chart specification. See the javascript console for the full traceback.`));\n",
       "    }\n",
       "\n",
       "    if(typeof define === \"function\" && define.amd) {\n",
       "      requirejs.config({paths});\n",
       "      require([\"vega-embed\"], displayChart, err => showError(`Error loading script: ${err.message}`));\n",
       "    } else if (typeof vegaEmbed === \"function\") {\n",
       "      displayChart(vegaEmbed);\n",
       "    } else {\n",
       "      loadScript(\"vega\")\n",
       "        .then(() => loadScript(\"vega-lite\"))\n",
       "        .then(() => loadScript(\"vega-embed\"))\n",
       "        .catch(showError)\n",
       "        .then(() => displayChart(vegaEmbed));\n",
       "    }\n",
       "  })({\"config\": {\"view\": {\"continuousWidth\": 400, \"continuousHeight\": 300}}, \"layer\": [{\"mark\": {\"type\": \"bar\", \"color\": \"firebrick\", \"opacity\": 0.7}, \"encoding\": {\"opacity\": {\"type\": \"nominal\", \"field\": \"Fallecimientos confirmados diarios\", \"legend\": {\"title\": \"\"}}, \"tooltip\": [{\"type\": \"nominal\", \"field\": \"Dates\"}, {\"type\": \"quantitative\", \"field\": \"New_deaths\"}], \"x\": {\"type\": \"nominal\", \"axis\": {\"title\": \"Fecha (a\\u00f1o-mes-d\\u00eda)\"}, \"field\": \"Dates\"}, \"y\": {\"type\": \"quantitative\", \"axis\": {\"title\": \"Fallecimientos confirmados diarios\"}, \"field\": \"New_deaths\"}}}, {\"mark\": {\"type\": \"line\", \"color\": \"firebrick\", \"point\": {\"filled\": true, \"fill\": \"firebrick\"}}, \"encoding\": {\"shape\": {\"type\": \"nominal\", \"field\": \"Promedio m\\u00f3vil \\u00faltimos 7 d\\u00edas\", \"legend\": {\"title\": \"\"}}, \"x\": {\"type\": \"nominal\", \"axis\": {\"title\": \"Fecha (a\\u00f1o-mes-d\\u00eda)\"}, \"field\": \"Dates\"}, \"y\": {\"type\": \"quantitative\", \"field\": \"Rolling\"}}}], \"data\": {\"name\": \"data-2a85ed3d4c73e467a9bd5a419dab1faf\"}, \"title\": \"Covid-19 en Chile: Fallecimientos confirmados diarios en Tarapac\\u00e1\", \"width\": 600, \"$schema\": \"https://vega.github.io/schema/vega-lite/v4.8.1.json\", \"datasets\": {\"data-2a85ed3d4c73e467a9bd5a419dab1faf\": [{\"Dates\": \"2020-03-25\", \"New_deaths\": 0, \"Rolling\": null, \"Fallecimientos confirmados diarios\": \"Fallecimientos confirmados diarios\", \"Promedio m\\u00f3vil \\u00faltimos 7 d\\u00edas\": \"Promedio m\\u00f3vil \\u00faltimos 7 d\\u00edas\"}, {\"Dates\": \"2020-03-26\", \"New_deaths\": 0, \"Rolling\": null, \"Fallecimientos confirmados diarios\": \"Fallecimientos confirmados diarios\", \"Promedio m\\u00f3vil \\u00faltimos 7 d\\u00edas\": \"Promedio m\\u00f3vil \\u00faltimos 7 d\\u00edas\"}, {\"Dates\": \"2020-03-27\", \"New_deaths\": 0, \"Rolling\": null, \"Fallecimientos confirmados diarios\": \"Fallecimientos confirmados diarios\", \"Promedio m\\u00f3vil \\u00faltimos 7 d\\u00edas\": \"Promedio m\\u00f3vil \\u00faltimos 7 d\\u00edas\"}, {\"Dates\": \"2020-03-28\", \"New_deaths\": 0, \"Rolling\": null, \"Fallecimientos confirmados diarios\": \"Fallecimientos confirmados diarios\", \"Promedio m\\u00f3vil \\u00faltimos 7 d\\u00edas\": \"Promedio m\\u00f3vil \\u00faltimos 7 d\\u00edas\"}, {\"Dates\": \"2020-03-29\", \"New_deaths\": 0, \"Rolling\": null, \"Fallecimientos confirmados diarios\": \"Fallecimientos confirmados diarios\", \"Promedio m\\u00f3vil \\u00faltimos 7 d\\u00edas\": \"Promedio m\\u00f3vil \\u00faltimos 7 d\\u00edas\"}, {\"Dates\": \"2020-03-30\", \"New_deaths\": 0, \"Rolling\": null, \"Fallecimientos confirmados diarios\": \"Fallecimientos confirmados diarios\", \"Promedio m\\u00f3vil \\u00faltimos 7 d\\u00edas\": \"Promedio m\\u00f3vil \\u00faltimos 7 d\\u00edas\"}, {\"Dates\": \"2020-03-31\", \"New_deaths\": 0, \"Rolling\": 0.0, \"Fallecimientos confirmados diarios\": \"Fallecimientos confirmados diarios\", \"Promedio m\\u00f3vil \\u00faltimos 7 d\\u00edas\": \"Promedio m\\u00f3vil \\u00faltimos 7 d\\u00edas\"}, {\"Dates\": \"2020-04-01\", \"New_deaths\": 0, \"Rolling\": 0.0, \"Fallecimientos confirmados diarios\": \"Fallecimientos confirmados diarios\", \"Promedio m\\u00f3vil \\u00faltimos 7 d\\u00edas\": \"Promedio m\\u00f3vil \\u00faltimos 7 d\\u00edas\"}, {\"Dates\": \"2020-04-02\", \"New_deaths\": 0, \"Rolling\": 0.0, \"Fallecimientos confirmados diarios\": \"Fallecimientos confirmados diarios\", \"Promedio m\\u00f3vil \\u00faltimos 7 d\\u00edas\": \"Promedio m\\u00f3vil \\u00faltimos 7 d\\u00edas\"}, {\"Dates\": \"2020-04-03\", \"New_deaths\": 0, \"Rolling\": 0.0, \"Fallecimientos confirmados diarios\": \"Fallecimientos confirmados diarios\", \"Promedio m\\u00f3vil \\u00faltimos 7 d\\u00edas\": \"Promedio m\\u00f3vil \\u00faltimos 7 d\\u00edas\"}, {\"Dates\": \"2020-04-04\", \"New_deaths\": 0, \"Rolling\": 0.0, \"Fallecimientos confirmados diarios\": \"Fallecimientos confirmados diarios\", \"Promedio m\\u00f3vil \\u00faltimos 7 d\\u00edas\": \"Promedio m\\u00f3vil \\u00faltimos 7 d\\u00edas\"}, {\"Dates\": \"2020-04-05\", \"New_deaths\": 0, \"Rolling\": 0.0, \"Fallecimientos confirmados diarios\": \"Fallecimientos confirmados diarios\", \"Promedio m\\u00f3vil \\u00faltimos 7 d\\u00edas\": \"Promedio m\\u00f3vil \\u00faltimos 7 d\\u00edas\"}, {\"Dates\": \"2020-04-06\", \"New_deaths\": 0, \"Rolling\": 0.0, \"Fallecimientos confirmados diarios\": \"Fallecimientos confirmados diarios\", \"Promedio m\\u00f3vil \\u00faltimos 7 d\\u00edas\": \"Promedio m\\u00f3vil \\u00faltimos 7 d\\u00edas\"}, {\"Dates\": \"2020-04-07\", \"New_deaths\": 0, \"Rolling\": 0.0, \"Fallecimientos confirmados diarios\": \"Fallecimientos confirmados diarios\", \"Promedio m\\u00f3vil \\u00faltimos 7 d\\u00edas\": \"Promedio m\\u00f3vil \\u00faltimos 7 d\\u00edas\"}, {\"Dates\": \"2020-04-08\", \"New_deaths\": 0, \"Rolling\": 0.0, \"Fallecimientos confirmados diarios\": \"Fallecimientos confirmados diarios\", \"Promedio m\\u00f3vil \\u00faltimos 7 d\\u00edas\": \"Promedio m\\u00f3vil \\u00faltimos 7 d\\u00edas\"}, {\"Dates\": \"2020-04-09\", \"New_deaths\": 0, \"Rolling\": 0.0, \"Fallecimientos confirmados diarios\": \"Fallecimientos confirmados diarios\", \"Promedio m\\u00f3vil \\u00faltimos 7 d\\u00edas\": \"Promedio m\\u00f3vil \\u00faltimos 7 d\\u00edas\"}, {\"Dates\": \"2020-04-10\", \"New_deaths\": 0, \"Rolling\": 0.0, \"Fallecimientos confirmados diarios\": \"Fallecimientos confirmados diarios\", \"Promedio m\\u00f3vil \\u00faltimos 7 d\\u00edas\": \"Promedio m\\u00f3vil \\u00faltimos 7 d\\u00edas\"}, {\"Dates\": \"2020-04-11\", \"New_deaths\": 0, \"Rolling\": 0.0, \"Fallecimientos confirmados diarios\": \"Fallecimientos confirmados diarios\", \"Promedio m\\u00f3vil \\u00faltimos 7 d\\u00edas\": \"Promedio m\\u00f3vil \\u00faltimos 7 d\\u00edas\"}, {\"Dates\": \"2020-04-12\", \"New_deaths\": 0, \"Rolling\": 0.0, \"Fallecimientos confirmados diarios\": \"Fallecimientos confirmados diarios\", \"Promedio m\\u00f3vil \\u00faltimos 7 d\\u00edas\": \"Promedio m\\u00f3vil \\u00faltimos 7 d\\u00edas\"}, {\"Dates\": \"2020-04-13\", \"New_deaths\": 0, \"Rolling\": 0.0, \"Fallecimientos confirmados diarios\": \"Fallecimientos confirmados diarios\", \"Promedio m\\u00f3vil \\u00faltimos 7 d\\u00edas\": \"Promedio m\\u00f3vil \\u00faltimos 7 d\\u00edas\"}, {\"Dates\": \"2020-04-14\", \"New_deaths\": 0, \"Rolling\": 0.0, \"Fallecimientos confirmados diarios\": \"Fallecimientos confirmados diarios\", \"Promedio m\\u00f3vil \\u00faltimos 7 d\\u00edas\": \"Promedio m\\u00f3vil \\u00faltimos 7 d\\u00edas\"}, {\"Dates\": \"2020-04-15\", \"New_deaths\": 0, \"Rolling\": 0.0, \"Fallecimientos confirmados diarios\": \"Fallecimientos confirmados diarios\", \"Promedio m\\u00f3vil \\u00faltimos 7 d\\u00edas\": \"Promedio m\\u00f3vil \\u00faltimos 7 d\\u00edas\"}, {\"Dates\": \"2020-04-16\", \"New_deaths\": 0, \"Rolling\": 0.0, \"Fallecimientos confirmados diarios\": \"Fallecimientos confirmados diarios\", \"Promedio m\\u00f3vil \\u00faltimos 7 d\\u00edas\": \"Promedio m\\u00f3vil \\u00faltimos 7 d\\u00edas\"}, {\"Dates\": \"2020-04-17\", \"New_deaths\": 0, \"Rolling\": 0.0, \"Fallecimientos confirmados diarios\": \"Fallecimientos confirmados diarios\", \"Promedio m\\u00f3vil \\u00faltimos 7 d\\u00edas\": \"Promedio m\\u00f3vil \\u00faltimos 7 d\\u00edas\"}, {\"Dates\": \"2020-04-18\", \"New_deaths\": 0, \"Rolling\": 0.0, \"Fallecimientos confirmados diarios\": \"Fallecimientos confirmados diarios\", \"Promedio m\\u00f3vil \\u00faltimos 7 d\\u00edas\": \"Promedio m\\u00f3vil \\u00faltimos 7 d\\u00edas\"}, {\"Dates\": \"2020-04-19\", \"New_deaths\": 0, \"Rolling\": 0.0, \"Fallecimientos confirmados diarios\": \"Fallecimientos confirmados diarios\", \"Promedio m\\u00f3vil \\u00faltimos 7 d\\u00edas\": \"Promedio m\\u00f3vil \\u00faltimos 7 d\\u00edas\"}, {\"Dates\": \"2020-04-20\", \"New_deaths\": 0, \"Rolling\": 0.0, \"Fallecimientos confirmados diarios\": \"Fallecimientos confirmados diarios\", \"Promedio m\\u00f3vil \\u00faltimos 7 d\\u00edas\": \"Promedio m\\u00f3vil \\u00faltimos 7 d\\u00edas\"}, {\"Dates\": \"2020-04-21\", \"New_deaths\": 0, \"Rolling\": 0.0, \"Fallecimientos confirmados diarios\": \"Fallecimientos confirmados diarios\", \"Promedio m\\u00f3vil \\u00faltimos 7 d\\u00edas\": \"Promedio m\\u00f3vil \\u00faltimos 7 d\\u00edas\"}, {\"Dates\": \"2020-04-22\", \"New_deaths\": 0, \"Rolling\": 0.0, \"Fallecimientos confirmados diarios\": \"Fallecimientos confirmados diarios\", \"Promedio m\\u00f3vil \\u00faltimos 7 d\\u00edas\": \"Promedio m\\u00f3vil \\u00faltimos 7 d\\u00edas\"}, {\"Dates\": \"2020-04-23\", \"New_deaths\": 0, \"Rolling\": 0.0, \"Fallecimientos confirmados diarios\": \"Fallecimientos confirmados diarios\", \"Promedio m\\u00f3vil \\u00faltimos 7 d\\u00edas\": \"Promedio m\\u00f3vil \\u00faltimos 7 d\\u00edas\"}, {\"Dates\": \"2020-04-24\", \"New_deaths\": 0, \"Rolling\": 0.0, \"Fallecimientos confirmados diarios\": \"Fallecimientos confirmados diarios\", \"Promedio m\\u00f3vil \\u00faltimos 7 d\\u00edas\": \"Promedio m\\u00f3vil \\u00faltimos 7 d\\u00edas\"}, {\"Dates\": \"2020-04-25\", \"New_deaths\": 1, \"Rolling\": 0.14285714285714285, \"Fallecimientos confirmados diarios\": \"Fallecimientos confirmados diarios\", \"Promedio m\\u00f3vil \\u00faltimos 7 d\\u00edas\": \"Promedio m\\u00f3vil \\u00faltimos 7 d\\u00edas\"}, {\"Dates\": \"2020-04-26\", \"New_deaths\": 0, \"Rolling\": 0.14285714285714285, \"Fallecimientos confirmados diarios\": \"Fallecimientos confirmados diarios\", \"Promedio m\\u00f3vil \\u00faltimos 7 d\\u00edas\": \"Promedio m\\u00f3vil \\u00faltimos 7 d\\u00edas\"}]}}, {\"mode\": \"vega-lite\"});\n",
       "</script>"
      ],
      "text/plain": [
       "alt.LayerChart(...)"
      ]
     },
     "execution_count": 51,
     "metadata": {},
     "output_type": "execute_result"
    }
   ],
   "source": [
    "#hide_input\n",
    "bars, line = my_deaths_plot(region)\n",
    "(bars + line).properties(\n",
    "    title=f'Covid-19 en Chile: Fallecimientos confirmados diarios en {region}',\n",
    "    width=600\n",
    ")"
   ]
  },
  {
   "cell_type": "markdown",
   "metadata": {},
   "source": [
    "## Antofagasta"
   ]
  },
  {
   "cell_type": "code",
   "execution_count": 52,
   "metadata": {
    "scrolled": true
   },
   "outputs": [],
   "source": [
    "#hide\n",
    "region = \"Antofagasta\""
   ]
  },
  {
   "cell_type": "code",
   "execution_count": 53,
   "metadata": {},
   "outputs": [
    {
     "data": {
      "text/html": [
       "\n",
       "<div id=\"altair-viz-ab4991d038874b1badbaa09a1dafc77e\"></div>\n",
       "<script type=\"text/javascript\">\n",
       "  (function(spec, embedOpt){\n",
       "    let outputDiv = document.currentScript.previousElementSibling;\n",
       "    if (outputDiv.id !== \"altair-viz-ab4991d038874b1badbaa09a1dafc77e\") {\n",
       "      outputDiv = document.getElementById(\"altair-viz-ab4991d038874b1badbaa09a1dafc77e\");\n",
       "    }\n",
       "    const paths = {\n",
       "      \"vega\": \"https://cdn.jsdelivr.net/npm//vega@5?noext\",\n",
       "      \"vega-lib\": \"https://cdn.jsdelivr.net/npm//vega-lib?noext\",\n",
       "      \"vega-lite\": \"https://cdn.jsdelivr.net/npm//vega-lite@4.8.1?noext\",\n",
       "      \"vega-embed\": \"https://cdn.jsdelivr.net/npm//vega-embed@6?noext\",\n",
       "    };\n",
       "\n",
       "    function loadScript(lib) {\n",
       "      return new Promise(function(resolve, reject) {\n",
       "        var s = document.createElement('script');\n",
       "        s.src = paths[lib];\n",
       "        s.async = true;\n",
       "        s.onload = () => resolve(paths[lib]);\n",
       "        s.onerror = () => reject(`Error loading script: ${paths[lib]}`);\n",
       "        document.getElementsByTagName(\"head\")[0].appendChild(s);\n",
       "      });\n",
       "    }\n",
       "\n",
       "    function showError(err) {\n",
       "      outputDiv.innerHTML = `<div class=\"error\" style=\"color:red;\">${err}</div>`;\n",
       "      throw err;\n",
       "    }\n",
       "\n",
       "    function displayChart(vegaEmbed) {\n",
       "      vegaEmbed(outputDiv, spec, embedOpt)\n",
       "        .catch(err => showError(`Javascript Error: ${err.message}<br>This usually means there's a typo in your chart specification. See the javascript console for the full traceback.`));\n",
       "    }\n",
       "\n",
       "    if(typeof define === \"function\" && define.amd) {\n",
       "      requirejs.config({paths});\n",
       "      require([\"vega-embed\"], displayChart, err => showError(`Error loading script: ${err.message}`));\n",
       "    } else if (typeof vegaEmbed === \"function\") {\n",
       "      displayChart(vegaEmbed);\n",
       "    } else {\n",
       "      loadScript(\"vega\")\n",
       "        .then(() => loadScript(\"vega-lite\"))\n",
       "        .then(() => loadScript(\"vega-embed\"))\n",
       "        .catch(showError)\n",
       "        .then(() => displayChart(vegaEmbed));\n",
       "    }\n",
       "  })({\"config\": {\"view\": {\"continuousWidth\": 400, \"continuousHeight\": 300}}, \"layer\": [{\"mark\": {\"type\": \"bar\", \"color\": \"firebrick\", \"opacity\": 0.7}, \"encoding\": {\"opacity\": {\"type\": \"nominal\", \"field\": \"Fallecimientos confirmados diarios\", \"legend\": {\"title\": \"\"}}, \"tooltip\": [{\"type\": \"nominal\", \"field\": \"Dates\"}, {\"type\": \"quantitative\", \"field\": \"New_deaths\"}], \"x\": {\"type\": \"nominal\", \"axis\": {\"title\": \"Fecha (a\\u00f1o-mes-d\\u00eda)\"}, \"field\": \"Dates\"}, \"y\": {\"type\": \"quantitative\", \"axis\": {\"title\": \"Fallecimientos confirmados diarios\"}, \"field\": \"New_deaths\"}}}, {\"mark\": {\"type\": \"line\", \"color\": \"firebrick\", \"point\": {\"filled\": true, \"fill\": \"firebrick\"}}, \"encoding\": {\"shape\": {\"type\": \"nominal\", \"field\": \"Promedio m\\u00f3vil \\u00faltimos 7 d\\u00edas\", \"legend\": {\"title\": \"\"}}, \"x\": {\"type\": \"nominal\", \"axis\": {\"title\": \"Fecha (a\\u00f1o-mes-d\\u00eda)\"}, \"field\": \"Dates\"}, \"y\": {\"type\": \"quantitative\", \"field\": \"Rolling\"}}}], \"data\": {\"name\": \"data-e57a8ed378bb76ec624ac1f2e9e9f4f6\"}, \"title\": \"Covid-19 en Chile: Fallecimientos confirmados diarios en Antofagasta\", \"width\": 600, \"$schema\": \"https://vega.github.io/schema/vega-lite/v4.8.1.json\", \"datasets\": {\"data-e57a8ed378bb76ec624ac1f2e9e9f4f6\": [{\"Dates\": \"2020-03-25\", \"New_deaths\": 0, \"Rolling\": null, \"Fallecimientos confirmados diarios\": \"Fallecimientos confirmados diarios\", \"Promedio m\\u00f3vil \\u00faltimos 7 d\\u00edas\": \"Promedio m\\u00f3vil \\u00faltimos 7 d\\u00edas\"}, {\"Dates\": \"2020-03-26\", \"New_deaths\": 0, \"Rolling\": null, \"Fallecimientos confirmados diarios\": \"Fallecimientos confirmados diarios\", \"Promedio m\\u00f3vil \\u00faltimos 7 d\\u00edas\": \"Promedio m\\u00f3vil \\u00faltimos 7 d\\u00edas\"}, {\"Dates\": \"2020-03-27\", \"New_deaths\": 0, \"Rolling\": null, \"Fallecimientos confirmados diarios\": \"Fallecimientos confirmados diarios\", \"Promedio m\\u00f3vil \\u00faltimos 7 d\\u00edas\": \"Promedio m\\u00f3vil \\u00faltimos 7 d\\u00edas\"}, {\"Dates\": \"2020-03-28\", \"New_deaths\": 0, \"Rolling\": null, \"Fallecimientos confirmados diarios\": \"Fallecimientos confirmados diarios\", \"Promedio m\\u00f3vil \\u00faltimos 7 d\\u00edas\": \"Promedio m\\u00f3vil \\u00faltimos 7 d\\u00edas\"}, {\"Dates\": \"2020-03-29\", \"New_deaths\": 0, \"Rolling\": null, \"Fallecimientos confirmados diarios\": \"Fallecimientos confirmados diarios\", \"Promedio m\\u00f3vil \\u00faltimos 7 d\\u00edas\": \"Promedio m\\u00f3vil \\u00faltimos 7 d\\u00edas\"}, {\"Dates\": \"2020-03-30\", \"New_deaths\": 0, \"Rolling\": null, \"Fallecimientos confirmados diarios\": \"Fallecimientos confirmados diarios\", \"Promedio m\\u00f3vil \\u00faltimos 7 d\\u00edas\": \"Promedio m\\u00f3vil \\u00faltimos 7 d\\u00edas\"}, {\"Dates\": \"2020-03-31\", \"New_deaths\": 0, \"Rolling\": 0.0, \"Fallecimientos confirmados diarios\": \"Fallecimientos confirmados diarios\", \"Promedio m\\u00f3vil \\u00faltimos 7 d\\u00edas\": \"Promedio m\\u00f3vil \\u00faltimos 7 d\\u00edas\"}, {\"Dates\": \"2020-04-01\", \"New_deaths\": 0, \"Rolling\": 0.0, \"Fallecimientos confirmados diarios\": \"Fallecimientos confirmados diarios\", \"Promedio m\\u00f3vil \\u00faltimos 7 d\\u00edas\": \"Promedio m\\u00f3vil \\u00faltimos 7 d\\u00edas\"}, {\"Dates\": \"2020-04-02\", \"New_deaths\": 0, \"Rolling\": 0.0, \"Fallecimientos confirmados diarios\": \"Fallecimientos confirmados diarios\", \"Promedio m\\u00f3vil \\u00faltimos 7 d\\u00edas\": \"Promedio m\\u00f3vil \\u00faltimos 7 d\\u00edas\"}, {\"Dates\": \"2020-04-03\", \"New_deaths\": 0, \"Rolling\": 0.0, \"Fallecimientos confirmados diarios\": \"Fallecimientos confirmados diarios\", \"Promedio m\\u00f3vil \\u00faltimos 7 d\\u00edas\": \"Promedio m\\u00f3vil \\u00faltimos 7 d\\u00edas\"}, {\"Dates\": \"2020-04-04\", \"New_deaths\": 0, \"Rolling\": 0.0, \"Fallecimientos confirmados diarios\": \"Fallecimientos confirmados diarios\", \"Promedio m\\u00f3vil \\u00faltimos 7 d\\u00edas\": \"Promedio m\\u00f3vil \\u00faltimos 7 d\\u00edas\"}, {\"Dates\": \"2020-04-05\", \"New_deaths\": 0, \"Rolling\": 0.0, \"Fallecimientos confirmados diarios\": \"Fallecimientos confirmados diarios\", \"Promedio m\\u00f3vil \\u00faltimos 7 d\\u00edas\": \"Promedio m\\u00f3vil \\u00faltimos 7 d\\u00edas\"}, {\"Dates\": \"2020-04-06\", \"New_deaths\": 0, \"Rolling\": 0.0, \"Fallecimientos confirmados diarios\": \"Fallecimientos confirmados diarios\", \"Promedio m\\u00f3vil \\u00faltimos 7 d\\u00edas\": \"Promedio m\\u00f3vil \\u00faltimos 7 d\\u00edas\"}, {\"Dates\": \"2020-04-07\", \"New_deaths\": 1, \"Rolling\": 0.14285714285714285, \"Fallecimientos confirmados diarios\": \"Fallecimientos confirmados diarios\", \"Promedio m\\u00f3vil \\u00faltimos 7 d\\u00edas\": \"Promedio m\\u00f3vil \\u00faltimos 7 d\\u00edas\"}, {\"Dates\": \"2020-04-08\", \"New_deaths\": 0, \"Rolling\": 0.14285714285714285, \"Fallecimientos confirmados diarios\": \"Fallecimientos confirmados diarios\", \"Promedio m\\u00f3vil \\u00faltimos 7 d\\u00edas\": \"Promedio m\\u00f3vil \\u00faltimos 7 d\\u00edas\"}, {\"Dates\": \"2020-04-09\", \"New_deaths\": 0, \"Rolling\": 0.14285714285714285, \"Fallecimientos confirmados diarios\": \"Fallecimientos confirmados diarios\", \"Promedio m\\u00f3vil \\u00faltimos 7 d\\u00edas\": \"Promedio m\\u00f3vil \\u00faltimos 7 d\\u00edas\"}, {\"Dates\": \"2020-04-10\", \"New_deaths\": 0, \"Rolling\": 0.14285714285714285, \"Fallecimientos confirmados diarios\": \"Fallecimientos confirmados diarios\", \"Promedio m\\u00f3vil \\u00faltimos 7 d\\u00edas\": \"Promedio m\\u00f3vil \\u00faltimos 7 d\\u00edas\"}, {\"Dates\": \"2020-04-11\", \"New_deaths\": 0, \"Rolling\": 0.14285714285714285, \"Fallecimientos confirmados diarios\": \"Fallecimientos confirmados diarios\", \"Promedio m\\u00f3vil \\u00faltimos 7 d\\u00edas\": \"Promedio m\\u00f3vil \\u00faltimos 7 d\\u00edas\"}, {\"Dates\": \"2020-04-12\", \"New_deaths\": 0, \"Rolling\": 0.14285714285714285, \"Fallecimientos confirmados diarios\": \"Fallecimientos confirmados diarios\", \"Promedio m\\u00f3vil \\u00faltimos 7 d\\u00edas\": \"Promedio m\\u00f3vil \\u00faltimos 7 d\\u00edas\"}, {\"Dates\": \"2020-04-13\", \"New_deaths\": 0, \"Rolling\": 0.14285714285714285, \"Fallecimientos confirmados diarios\": \"Fallecimientos confirmados diarios\", \"Promedio m\\u00f3vil \\u00faltimos 7 d\\u00edas\": \"Promedio m\\u00f3vil \\u00faltimos 7 d\\u00edas\"}, {\"Dates\": \"2020-04-14\", \"New_deaths\": 0, \"Rolling\": 0.0, \"Fallecimientos confirmados diarios\": \"Fallecimientos confirmados diarios\", \"Promedio m\\u00f3vil \\u00faltimos 7 d\\u00edas\": \"Promedio m\\u00f3vil \\u00faltimos 7 d\\u00edas\"}, {\"Dates\": \"2020-04-15\", \"New_deaths\": 0, \"Rolling\": 0.0, \"Fallecimientos confirmados diarios\": \"Fallecimientos confirmados diarios\", \"Promedio m\\u00f3vil \\u00faltimos 7 d\\u00edas\": \"Promedio m\\u00f3vil \\u00faltimos 7 d\\u00edas\"}, {\"Dates\": \"2020-04-16\", \"New_deaths\": 0, \"Rolling\": 0.0, \"Fallecimientos confirmados diarios\": \"Fallecimientos confirmados diarios\", \"Promedio m\\u00f3vil \\u00faltimos 7 d\\u00edas\": \"Promedio m\\u00f3vil \\u00faltimos 7 d\\u00edas\"}, {\"Dates\": \"2020-04-17\", \"New_deaths\": 0, \"Rolling\": 0.0, \"Fallecimientos confirmados diarios\": \"Fallecimientos confirmados diarios\", \"Promedio m\\u00f3vil \\u00faltimos 7 d\\u00edas\": \"Promedio m\\u00f3vil \\u00faltimos 7 d\\u00edas\"}, {\"Dates\": \"2020-04-18\", \"New_deaths\": 0, \"Rolling\": 0.0, \"Fallecimientos confirmados diarios\": \"Fallecimientos confirmados diarios\", \"Promedio m\\u00f3vil \\u00faltimos 7 d\\u00edas\": \"Promedio m\\u00f3vil \\u00faltimos 7 d\\u00edas\"}, {\"Dates\": \"2020-04-19\", \"New_deaths\": 0, \"Rolling\": 0.0, \"Fallecimientos confirmados diarios\": \"Fallecimientos confirmados diarios\", \"Promedio m\\u00f3vil \\u00faltimos 7 d\\u00edas\": \"Promedio m\\u00f3vil \\u00faltimos 7 d\\u00edas\"}, {\"Dates\": \"2020-04-20\", \"New_deaths\": 0, \"Rolling\": 0.0, \"Fallecimientos confirmados diarios\": \"Fallecimientos confirmados diarios\", \"Promedio m\\u00f3vil \\u00faltimos 7 d\\u00edas\": \"Promedio m\\u00f3vil \\u00faltimos 7 d\\u00edas\"}, {\"Dates\": \"2020-04-21\", \"New_deaths\": 0, \"Rolling\": 0.0, \"Fallecimientos confirmados diarios\": \"Fallecimientos confirmados diarios\", \"Promedio m\\u00f3vil \\u00faltimos 7 d\\u00edas\": \"Promedio m\\u00f3vil \\u00faltimos 7 d\\u00edas\"}, {\"Dates\": \"2020-04-22\", \"New_deaths\": 1, \"Rolling\": 0.14285714285714285, \"Fallecimientos confirmados diarios\": \"Fallecimientos confirmados diarios\", \"Promedio m\\u00f3vil \\u00faltimos 7 d\\u00edas\": \"Promedio m\\u00f3vil \\u00faltimos 7 d\\u00edas\"}, {\"Dates\": \"2020-04-23\", \"New_deaths\": 0, \"Rolling\": 0.14285714285714285, \"Fallecimientos confirmados diarios\": \"Fallecimientos confirmados diarios\", \"Promedio m\\u00f3vil \\u00faltimos 7 d\\u00edas\": \"Promedio m\\u00f3vil \\u00faltimos 7 d\\u00edas\"}, {\"Dates\": \"2020-04-24\", \"New_deaths\": 0, \"Rolling\": 0.14285714285714285, \"Fallecimientos confirmados diarios\": \"Fallecimientos confirmados diarios\", \"Promedio m\\u00f3vil \\u00faltimos 7 d\\u00edas\": \"Promedio m\\u00f3vil \\u00faltimos 7 d\\u00edas\"}, {\"Dates\": \"2020-04-25\", \"New_deaths\": 1, \"Rolling\": 0.2857142857142857, \"Fallecimientos confirmados diarios\": \"Fallecimientos confirmados diarios\", \"Promedio m\\u00f3vil \\u00faltimos 7 d\\u00edas\": \"Promedio m\\u00f3vil \\u00faltimos 7 d\\u00edas\"}, {\"Dates\": \"2020-04-26\", \"New_deaths\": 1, \"Rolling\": 0.42857142857142855, \"Fallecimientos confirmados diarios\": \"Fallecimientos confirmados diarios\", \"Promedio m\\u00f3vil \\u00faltimos 7 d\\u00edas\": \"Promedio m\\u00f3vil \\u00faltimos 7 d\\u00edas\"}]}}, {\"mode\": \"vega-lite\"});\n",
       "</script>"
      ],
      "text/plain": [
       "alt.LayerChart(...)"
      ]
     },
     "execution_count": 53,
     "metadata": {},
     "output_type": "execute_result"
    }
   ],
   "source": [
    "#hide_input\n",
    "bars, line = my_deaths_plot(region)\n",
    "(bars + line).properties(\n",
    "    title=f'Covid-19 en Chile: Fallecimientos confirmados diarios en {region}',\n",
    "    width=600\n",
    ")"
   ]
  },
  {
   "cell_type": "markdown",
   "metadata": {},
   "source": [
    "## Atacama"
   ]
  },
  {
   "cell_type": "code",
   "execution_count": 78,
   "metadata": {
    "scrolled": true
   },
   "outputs": [],
   "source": [
    "#hide\n",
    "region = \"Atacama\""
   ]
  },
  {
   "cell_type": "code",
   "execution_count": 79,
   "metadata": {
    "scrolled": true
   },
   "outputs": [
    {
     "data": {
      "text/html": [
       "\n",
       "<div id=\"altair-viz-5bc207dccb1340a5ab255b4bacf71ba0\"></div>\n",
       "<script type=\"text/javascript\">\n",
       "  (function(spec, embedOpt){\n",
       "    let outputDiv = document.currentScript.previousElementSibling;\n",
       "    if (outputDiv.id !== \"altair-viz-5bc207dccb1340a5ab255b4bacf71ba0\") {\n",
       "      outputDiv = document.getElementById(\"altair-viz-5bc207dccb1340a5ab255b4bacf71ba0\");\n",
       "    }\n",
       "    const paths = {\n",
       "      \"vega\": \"https://cdn.jsdelivr.net/npm//vega@5?noext\",\n",
       "      \"vega-lib\": \"https://cdn.jsdelivr.net/npm//vega-lib?noext\",\n",
       "      \"vega-lite\": \"https://cdn.jsdelivr.net/npm//vega-lite@4.8.1?noext\",\n",
       "      \"vega-embed\": \"https://cdn.jsdelivr.net/npm//vega-embed@6?noext\",\n",
       "    };\n",
       "\n",
       "    function loadScript(lib) {\n",
       "      return new Promise(function(resolve, reject) {\n",
       "        var s = document.createElement('script');\n",
       "        s.src = paths[lib];\n",
       "        s.async = true;\n",
       "        s.onload = () => resolve(paths[lib]);\n",
       "        s.onerror = () => reject(`Error loading script: ${paths[lib]}`);\n",
       "        document.getElementsByTagName(\"head\")[0].appendChild(s);\n",
       "      });\n",
       "    }\n",
       "\n",
       "    function showError(err) {\n",
       "      outputDiv.innerHTML = `<div class=\"error\" style=\"color:red;\">${err}</div>`;\n",
       "      throw err;\n",
       "    }\n",
       "\n",
       "    function displayChart(vegaEmbed) {\n",
       "      vegaEmbed(outputDiv, spec, embedOpt)\n",
       "        .catch(err => showError(`Javascript Error: ${err.message}<br>This usually means there's a typo in your chart specification. See the javascript console for the full traceback.`));\n",
       "    }\n",
       "\n",
       "    if(typeof define === \"function\" && define.amd) {\n",
       "      requirejs.config({paths});\n",
       "      require([\"vega-embed\"], displayChart, err => showError(`Error loading script: ${err.message}`));\n",
       "    } else if (typeof vegaEmbed === \"function\") {\n",
       "      displayChart(vegaEmbed);\n",
       "    } else {\n",
       "      loadScript(\"vega\")\n",
       "        .then(() => loadScript(\"vega-lite\"))\n",
       "        .then(() => loadScript(\"vega-embed\"))\n",
       "        .catch(showError)\n",
       "        .then(() => displayChart(vegaEmbed));\n",
       "    }\n",
       "  })({\"config\": {\"view\": {\"continuousWidth\": 400, \"continuousHeight\": 300}}, \"layer\": [{\"mark\": {\"type\": \"bar\", \"color\": \"firebrick\", \"opacity\": 0.7}, \"encoding\": {\"opacity\": {\"type\": \"nominal\", \"field\": \"Fallecimientos confirmados diarios\", \"legend\": {\"title\": \"\"}}, \"tooltip\": [{\"type\": \"nominal\", \"field\": \"Dates\"}, {\"type\": \"quantitative\", \"field\": \"New_deaths\"}], \"x\": {\"type\": \"nominal\", \"axis\": {\"title\": \"Fecha (a\\u00f1o-mes-d\\u00eda)\"}, \"field\": \"Dates\"}, \"y\": {\"type\": \"quantitative\", \"axis\": {\"title\": \"Fallecimientos confirmados diarios\"}, \"field\": \"New_deaths\"}}}, {\"mark\": {\"type\": \"line\", \"color\": \"firebrick\", \"point\": {\"filled\": true, \"fill\": \"firebrick\"}}, \"encoding\": {\"shape\": {\"type\": \"nominal\", \"field\": \"Promedio m\\u00f3vil \\u00faltimos 7 d\\u00edas\", \"legend\": {\"title\": \"\"}}, \"x\": {\"type\": \"nominal\", \"axis\": {\"title\": \"Fecha (a\\u00f1o-mes-d\\u00eda)\"}, \"field\": \"Dates\"}, \"y\": {\"type\": \"quantitative\", \"field\": \"Rolling\"}}}], \"data\": {\"name\": \"data-fd76c7d37961c122c25565fbf5ed2eaa\"}, \"title\": \"Covid-19 en Chile: Fallecimientos confirmados diarios en Atacama\", \"width\": 600, \"$schema\": \"https://vega.github.io/schema/vega-lite/v4.8.1.json\", \"datasets\": {\"data-fd76c7d37961c122c25565fbf5ed2eaa\": [{\"Dates\": \"2020-03-25\", \"New_deaths\": 0, \"Rolling\": null, \"Fallecimientos confirmados diarios\": \"Fallecimientos confirmados diarios\", \"Promedio m\\u00f3vil \\u00faltimos 7 d\\u00edas\": \"Promedio m\\u00f3vil \\u00faltimos 7 d\\u00edas\"}, {\"Dates\": \"2020-03-26\", \"New_deaths\": 0, \"Rolling\": null, \"Fallecimientos confirmados diarios\": \"Fallecimientos confirmados diarios\", \"Promedio m\\u00f3vil \\u00faltimos 7 d\\u00edas\": \"Promedio m\\u00f3vil \\u00faltimos 7 d\\u00edas\"}, {\"Dates\": \"2020-03-27\", \"New_deaths\": 0, \"Rolling\": null, \"Fallecimientos confirmados diarios\": \"Fallecimientos confirmados diarios\", \"Promedio m\\u00f3vil \\u00faltimos 7 d\\u00edas\": \"Promedio m\\u00f3vil \\u00faltimos 7 d\\u00edas\"}, {\"Dates\": \"2020-03-28\", \"New_deaths\": 0, \"Rolling\": null, \"Fallecimientos confirmados diarios\": \"Fallecimientos confirmados diarios\", \"Promedio m\\u00f3vil \\u00faltimos 7 d\\u00edas\": \"Promedio m\\u00f3vil \\u00faltimos 7 d\\u00edas\"}, {\"Dates\": \"2020-03-29\", \"New_deaths\": 0, \"Rolling\": null, \"Fallecimientos confirmados diarios\": \"Fallecimientos confirmados diarios\", \"Promedio m\\u00f3vil \\u00faltimos 7 d\\u00edas\": \"Promedio m\\u00f3vil \\u00faltimos 7 d\\u00edas\"}, {\"Dates\": \"2020-03-30\", \"New_deaths\": 0, \"Rolling\": null, \"Fallecimientos confirmados diarios\": \"Fallecimientos confirmados diarios\", \"Promedio m\\u00f3vil \\u00faltimos 7 d\\u00edas\": \"Promedio m\\u00f3vil \\u00faltimos 7 d\\u00edas\"}, {\"Dates\": \"2020-03-31\", \"New_deaths\": 0, \"Rolling\": 0.0, \"Fallecimientos confirmados diarios\": \"Fallecimientos confirmados diarios\", \"Promedio m\\u00f3vil \\u00faltimos 7 d\\u00edas\": \"Promedio m\\u00f3vil \\u00faltimos 7 d\\u00edas\"}, {\"Dates\": \"2020-04-01\", \"New_deaths\": 0, \"Rolling\": 0.0, \"Fallecimientos confirmados diarios\": \"Fallecimientos confirmados diarios\", \"Promedio m\\u00f3vil \\u00faltimos 7 d\\u00edas\": \"Promedio m\\u00f3vil \\u00faltimos 7 d\\u00edas\"}, {\"Dates\": \"2020-04-02\", \"New_deaths\": 0, \"Rolling\": 0.0, \"Fallecimientos confirmados diarios\": \"Fallecimientos confirmados diarios\", \"Promedio m\\u00f3vil \\u00faltimos 7 d\\u00edas\": \"Promedio m\\u00f3vil \\u00faltimos 7 d\\u00edas\"}, {\"Dates\": \"2020-04-03\", \"New_deaths\": 0, \"Rolling\": 0.0, \"Fallecimientos confirmados diarios\": \"Fallecimientos confirmados diarios\", \"Promedio m\\u00f3vil \\u00faltimos 7 d\\u00edas\": \"Promedio m\\u00f3vil \\u00faltimos 7 d\\u00edas\"}, {\"Dates\": \"2020-04-04\", \"New_deaths\": 0, \"Rolling\": 0.0, \"Fallecimientos confirmados diarios\": \"Fallecimientos confirmados diarios\", \"Promedio m\\u00f3vil \\u00faltimos 7 d\\u00edas\": \"Promedio m\\u00f3vil \\u00faltimos 7 d\\u00edas\"}, {\"Dates\": \"2020-04-05\", \"New_deaths\": 0, \"Rolling\": 0.0, \"Fallecimientos confirmados diarios\": \"Fallecimientos confirmados diarios\", \"Promedio m\\u00f3vil \\u00faltimos 7 d\\u00edas\": \"Promedio m\\u00f3vil \\u00faltimos 7 d\\u00edas\"}, {\"Dates\": \"2020-04-06\", \"New_deaths\": 0, \"Rolling\": 0.0, \"Fallecimientos confirmados diarios\": \"Fallecimientos confirmados diarios\", \"Promedio m\\u00f3vil \\u00faltimos 7 d\\u00edas\": \"Promedio m\\u00f3vil \\u00faltimos 7 d\\u00edas\"}, {\"Dates\": \"2020-04-07\", \"New_deaths\": 0, \"Rolling\": 0.0, \"Fallecimientos confirmados diarios\": \"Fallecimientos confirmados diarios\", \"Promedio m\\u00f3vil \\u00faltimos 7 d\\u00edas\": \"Promedio m\\u00f3vil \\u00faltimos 7 d\\u00edas\"}, {\"Dates\": \"2020-04-08\", \"New_deaths\": 0, \"Rolling\": 0.0, \"Fallecimientos confirmados diarios\": \"Fallecimientos confirmados diarios\", \"Promedio m\\u00f3vil \\u00faltimos 7 d\\u00edas\": \"Promedio m\\u00f3vil \\u00faltimos 7 d\\u00edas\"}, {\"Dates\": \"2020-04-09\", \"New_deaths\": 0, \"Rolling\": 0.0, \"Fallecimientos confirmados diarios\": \"Fallecimientos confirmados diarios\", \"Promedio m\\u00f3vil \\u00faltimos 7 d\\u00edas\": \"Promedio m\\u00f3vil \\u00faltimos 7 d\\u00edas\"}, {\"Dates\": \"2020-04-10\", \"New_deaths\": 0, \"Rolling\": 0.0, \"Fallecimientos confirmados diarios\": \"Fallecimientos confirmados diarios\", \"Promedio m\\u00f3vil \\u00faltimos 7 d\\u00edas\": \"Promedio m\\u00f3vil \\u00faltimos 7 d\\u00edas\"}, {\"Dates\": \"2020-04-11\", \"New_deaths\": 0, \"Rolling\": 0.0, \"Fallecimientos confirmados diarios\": \"Fallecimientos confirmados diarios\", \"Promedio m\\u00f3vil \\u00faltimos 7 d\\u00edas\": \"Promedio m\\u00f3vil \\u00faltimos 7 d\\u00edas\"}, {\"Dates\": \"2020-04-12\", \"New_deaths\": 0, \"Rolling\": 0.0, \"Fallecimientos confirmados diarios\": \"Fallecimientos confirmados diarios\", \"Promedio m\\u00f3vil \\u00faltimos 7 d\\u00edas\": \"Promedio m\\u00f3vil \\u00faltimos 7 d\\u00edas\"}, {\"Dates\": \"2020-04-13\", \"New_deaths\": 0, \"Rolling\": 0.0, \"Fallecimientos confirmados diarios\": \"Fallecimientos confirmados diarios\", \"Promedio m\\u00f3vil \\u00faltimos 7 d\\u00edas\": \"Promedio m\\u00f3vil \\u00faltimos 7 d\\u00edas\"}, {\"Dates\": \"2020-04-14\", \"New_deaths\": 0, \"Rolling\": 0.0, \"Fallecimientos confirmados diarios\": \"Fallecimientos confirmados diarios\", \"Promedio m\\u00f3vil \\u00faltimos 7 d\\u00edas\": \"Promedio m\\u00f3vil \\u00faltimos 7 d\\u00edas\"}, {\"Dates\": \"2020-04-15\", \"New_deaths\": 0, \"Rolling\": 0.0, \"Fallecimientos confirmados diarios\": \"Fallecimientos confirmados diarios\", \"Promedio m\\u00f3vil \\u00faltimos 7 d\\u00edas\": \"Promedio m\\u00f3vil \\u00faltimos 7 d\\u00edas\"}, {\"Dates\": \"2020-04-16\", \"New_deaths\": 0, \"Rolling\": 0.0, \"Fallecimientos confirmados diarios\": \"Fallecimientos confirmados diarios\", \"Promedio m\\u00f3vil \\u00faltimos 7 d\\u00edas\": \"Promedio m\\u00f3vil \\u00faltimos 7 d\\u00edas\"}, {\"Dates\": \"2020-04-17\", \"New_deaths\": 0, \"Rolling\": 0.0, \"Fallecimientos confirmados diarios\": \"Fallecimientos confirmados diarios\", \"Promedio m\\u00f3vil \\u00faltimos 7 d\\u00edas\": \"Promedio m\\u00f3vil \\u00faltimos 7 d\\u00edas\"}, {\"Dates\": \"2020-04-18\", \"New_deaths\": 0, \"Rolling\": 0.0, \"Fallecimientos confirmados diarios\": \"Fallecimientos confirmados diarios\", \"Promedio m\\u00f3vil \\u00faltimos 7 d\\u00edas\": \"Promedio m\\u00f3vil \\u00faltimos 7 d\\u00edas\"}, {\"Dates\": \"2020-04-19\", \"New_deaths\": 0, \"Rolling\": 0.0, \"Fallecimientos confirmados diarios\": \"Fallecimientos confirmados diarios\", \"Promedio m\\u00f3vil \\u00faltimos 7 d\\u00edas\": \"Promedio m\\u00f3vil \\u00faltimos 7 d\\u00edas\"}, {\"Dates\": \"2020-04-20\", \"New_deaths\": 0, \"Rolling\": 0.0, \"Fallecimientos confirmados diarios\": \"Fallecimientos confirmados diarios\", \"Promedio m\\u00f3vil \\u00faltimos 7 d\\u00edas\": \"Promedio m\\u00f3vil \\u00faltimos 7 d\\u00edas\"}, {\"Dates\": \"2020-04-21\", \"New_deaths\": 0, \"Rolling\": 0.0, \"Fallecimientos confirmados diarios\": \"Fallecimientos confirmados diarios\", \"Promedio m\\u00f3vil \\u00faltimos 7 d\\u00edas\": \"Promedio m\\u00f3vil \\u00faltimos 7 d\\u00edas\"}, {\"Dates\": \"2020-04-22\", \"New_deaths\": 0, \"Rolling\": 0.0, \"Fallecimientos confirmados diarios\": \"Fallecimientos confirmados diarios\", \"Promedio m\\u00f3vil \\u00faltimos 7 d\\u00edas\": \"Promedio m\\u00f3vil \\u00faltimos 7 d\\u00edas\"}, {\"Dates\": \"2020-04-23\", \"New_deaths\": 0, \"Rolling\": 0.0, \"Fallecimientos confirmados diarios\": \"Fallecimientos confirmados diarios\", \"Promedio m\\u00f3vil \\u00faltimos 7 d\\u00edas\": \"Promedio m\\u00f3vil \\u00faltimos 7 d\\u00edas\"}, {\"Dates\": \"2020-04-24\", \"New_deaths\": 0, \"Rolling\": 0.0, \"Fallecimientos confirmados diarios\": \"Fallecimientos confirmados diarios\", \"Promedio m\\u00f3vil \\u00faltimos 7 d\\u00edas\": \"Promedio m\\u00f3vil \\u00faltimos 7 d\\u00edas\"}, {\"Dates\": \"2020-04-25\", \"New_deaths\": 0, \"Rolling\": 0.0, \"Fallecimientos confirmados diarios\": \"Fallecimientos confirmados diarios\", \"Promedio m\\u00f3vil \\u00faltimos 7 d\\u00edas\": \"Promedio m\\u00f3vil \\u00faltimos 7 d\\u00edas\"}, {\"Dates\": \"2020-04-26\", \"New_deaths\": 0, \"Rolling\": 0.0, \"Fallecimientos confirmados diarios\": \"Fallecimientos confirmados diarios\", \"Promedio m\\u00f3vil \\u00faltimos 7 d\\u00edas\": \"Promedio m\\u00f3vil \\u00faltimos 7 d\\u00edas\"}]}}, {\"mode\": \"vega-lite\"});\n",
       "</script>"
      ],
      "text/plain": [
       "alt.LayerChart(...)"
      ]
     },
     "execution_count": 79,
     "metadata": {},
     "output_type": "execute_result"
    }
   ],
   "source": [
    "#hide_input\n",
    "bars, line = my_deaths_plot(region)\n",
    "(bars + line).properties(\n",
    "    title=f'Covid-19 en Chile: Fallecimientos confirmados diarios en {region}',\n",
    "    width=600\n",
    ")"
   ]
  },
  {
   "cell_type": "markdown",
   "metadata": {},
   "source": [
    "## Coquimbo"
   ]
  },
  {
   "cell_type": "code",
   "execution_count": 76,
   "metadata": {
    "scrolled": true
   },
   "outputs": [],
   "source": [
    "#hide\n",
    "region = \"Coquimbo\""
   ]
  },
  {
   "cell_type": "code",
   "execution_count": 77,
   "metadata": {
    "scrolled": true
   },
   "outputs": [
    {
     "data": {
      "text/html": [
       "\n",
       "<div id=\"altair-viz-ef5ee28f6a814b0195ca77f96cc3d651\"></div>\n",
       "<script type=\"text/javascript\">\n",
       "  (function(spec, embedOpt){\n",
       "    let outputDiv = document.currentScript.previousElementSibling;\n",
       "    if (outputDiv.id !== \"altair-viz-ef5ee28f6a814b0195ca77f96cc3d651\") {\n",
       "      outputDiv = document.getElementById(\"altair-viz-ef5ee28f6a814b0195ca77f96cc3d651\");\n",
       "    }\n",
       "    const paths = {\n",
       "      \"vega\": \"https://cdn.jsdelivr.net/npm//vega@5?noext\",\n",
       "      \"vega-lib\": \"https://cdn.jsdelivr.net/npm//vega-lib?noext\",\n",
       "      \"vega-lite\": \"https://cdn.jsdelivr.net/npm//vega-lite@4.8.1?noext\",\n",
       "      \"vega-embed\": \"https://cdn.jsdelivr.net/npm//vega-embed@6?noext\",\n",
       "    };\n",
       "\n",
       "    function loadScript(lib) {\n",
       "      return new Promise(function(resolve, reject) {\n",
       "        var s = document.createElement('script');\n",
       "        s.src = paths[lib];\n",
       "        s.async = true;\n",
       "        s.onload = () => resolve(paths[lib]);\n",
       "        s.onerror = () => reject(`Error loading script: ${paths[lib]}`);\n",
       "        document.getElementsByTagName(\"head\")[0].appendChild(s);\n",
       "      });\n",
       "    }\n",
       "\n",
       "    function showError(err) {\n",
       "      outputDiv.innerHTML = `<div class=\"error\" style=\"color:red;\">${err}</div>`;\n",
       "      throw err;\n",
       "    }\n",
       "\n",
       "    function displayChart(vegaEmbed) {\n",
       "      vegaEmbed(outputDiv, spec, embedOpt)\n",
       "        .catch(err => showError(`Javascript Error: ${err.message}<br>This usually means there's a typo in your chart specification. See the javascript console for the full traceback.`));\n",
       "    }\n",
       "\n",
       "    if(typeof define === \"function\" && define.amd) {\n",
       "      requirejs.config({paths});\n",
       "      require([\"vega-embed\"], displayChart, err => showError(`Error loading script: ${err.message}`));\n",
       "    } else if (typeof vegaEmbed === \"function\") {\n",
       "      displayChart(vegaEmbed);\n",
       "    } else {\n",
       "      loadScript(\"vega\")\n",
       "        .then(() => loadScript(\"vega-lite\"))\n",
       "        .then(() => loadScript(\"vega-embed\"))\n",
       "        .catch(showError)\n",
       "        .then(() => displayChart(vegaEmbed));\n",
       "    }\n",
       "  })({\"config\": {\"view\": {\"continuousWidth\": 400, \"continuousHeight\": 300}}, \"layer\": [{\"mark\": {\"type\": \"bar\", \"color\": \"firebrick\", \"opacity\": 0.7}, \"encoding\": {\"opacity\": {\"type\": \"nominal\", \"field\": \"Fallecimientos confirmados diarios\", \"legend\": {\"title\": \"\"}}, \"tooltip\": [{\"type\": \"nominal\", \"field\": \"Dates\"}, {\"type\": \"quantitative\", \"field\": \"New_deaths\"}], \"x\": {\"type\": \"nominal\", \"axis\": {\"title\": \"Fecha (a\\u00f1o-mes-d\\u00eda)\"}, \"field\": \"Dates\"}, \"y\": {\"type\": \"quantitative\", \"axis\": {\"title\": \"Fallecimientos confirmados diarios\"}, \"field\": \"New_deaths\"}}}, {\"mark\": {\"type\": \"line\", \"color\": \"firebrick\", \"point\": {\"filled\": true, \"fill\": \"firebrick\"}}, \"encoding\": {\"shape\": {\"type\": \"nominal\", \"field\": \"Promedio m\\u00f3vil \\u00faltimos 7 d\\u00edas\", \"legend\": {\"title\": \"\"}}, \"x\": {\"type\": \"nominal\", \"axis\": {\"title\": \"Fecha (a\\u00f1o-mes-d\\u00eda)\"}, \"field\": \"Dates\"}, \"y\": {\"type\": \"quantitative\", \"field\": \"Rolling\"}}}], \"data\": {\"name\": \"data-fd76c7d37961c122c25565fbf5ed2eaa\"}, \"title\": \"Covid-19 en Chile: Fallecimientos confirmados diarios en Coquimbo\", \"width\": 600, \"$schema\": \"https://vega.github.io/schema/vega-lite/v4.8.1.json\", \"datasets\": {\"data-fd76c7d37961c122c25565fbf5ed2eaa\": [{\"Dates\": \"2020-03-25\", \"New_deaths\": 0, \"Rolling\": null, \"Fallecimientos confirmados diarios\": \"Fallecimientos confirmados diarios\", \"Promedio m\\u00f3vil \\u00faltimos 7 d\\u00edas\": \"Promedio m\\u00f3vil \\u00faltimos 7 d\\u00edas\"}, {\"Dates\": \"2020-03-26\", \"New_deaths\": 0, \"Rolling\": null, \"Fallecimientos confirmados diarios\": \"Fallecimientos confirmados diarios\", \"Promedio m\\u00f3vil \\u00faltimos 7 d\\u00edas\": \"Promedio m\\u00f3vil \\u00faltimos 7 d\\u00edas\"}, {\"Dates\": \"2020-03-27\", \"New_deaths\": 0, \"Rolling\": null, \"Fallecimientos confirmados diarios\": \"Fallecimientos confirmados diarios\", \"Promedio m\\u00f3vil \\u00faltimos 7 d\\u00edas\": \"Promedio m\\u00f3vil \\u00faltimos 7 d\\u00edas\"}, {\"Dates\": \"2020-03-28\", \"New_deaths\": 0, \"Rolling\": null, \"Fallecimientos confirmados diarios\": \"Fallecimientos confirmados diarios\", \"Promedio m\\u00f3vil \\u00faltimos 7 d\\u00edas\": \"Promedio m\\u00f3vil \\u00faltimos 7 d\\u00edas\"}, {\"Dates\": \"2020-03-29\", \"New_deaths\": 0, \"Rolling\": null, \"Fallecimientos confirmados diarios\": \"Fallecimientos confirmados diarios\", \"Promedio m\\u00f3vil \\u00faltimos 7 d\\u00edas\": \"Promedio m\\u00f3vil \\u00faltimos 7 d\\u00edas\"}, {\"Dates\": \"2020-03-30\", \"New_deaths\": 0, \"Rolling\": null, \"Fallecimientos confirmados diarios\": \"Fallecimientos confirmados diarios\", \"Promedio m\\u00f3vil \\u00faltimos 7 d\\u00edas\": \"Promedio m\\u00f3vil \\u00faltimos 7 d\\u00edas\"}, {\"Dates\": \"2020-03-31\", \"New_deaths\": 0, \"Rolling\": 0.0, \"Fallecimientos confirmados diarios\": \"Fallecimientos confirmados diarios\", \"Promedio m\\u00f3vil \\u00faltimos 7 d\\u00edas\": \"Promedio m\\u00f3vil \\u00faltimos 7 d\\u00edas\"}, {\"Dates\": \"2020-04-01\", \"New_deaths\": 0, \"Rolling\": 0.0, \"Fallecimientos confirmados diarios\": \"Fallecimientos confirmados diarios\", \"Promedio m\\u00f3vil \\u00faltimos 7 d\\u00edas\": \"Promedio m\\u00f3vil \\u00faltimos 7 d\\u00edas\"}, {\"Dates\": \"2020-04-02\", \"New_deaths\": 0, \"Rolling\": 0.0, \"Fallecimientos confirmados diarios\": \"Fallecimientos confirmados diarios\", \"Promedio m\\u00f3vil \\u00faltimos 7 d\\u00edas\": \"Promedio m\\u00f3vil \\u00faltimos 7 d\\u00edas\"}, {\"Dates\": \"2020-04-03\", \"New_deaths\": 0, \"Rolling\": 0.0, \"Fallecimientos confirmados diarios\": \"Fallecimientos confirmados diarios\", \"Promedio m\\u00f3vil \\u00faltimos 7 d\\u00edas\": \"Promedio m\\u00f3vil \\u00faltimos 7 d\\u00edas\"}, {\"Dates\": \"2020-04-04\", \"New_deaths\": 0, \"Rolling\": 0.0, \"Fallecimientos confirmados diarios\": \"Fallecimientos confirmados diarios\", \"Promedio m\\u00f3vil \\u00faltimos 7 d\\u00edas\": \"Promedio m\\u00f3vil \\u00faltimos 7 d\\u00edas\"}, {\"Dates\": \"2020-04-05\", \"New_deaths\": 0, \"Rolling\": 0.0, \"Fallecimientos confirmados diarios\": \"Fallecimientos confirmados diarios\", \"Promedio m\\u00f3vil \\u00faltimos 7 d\\u00edas\": \"Promedio m\\u00f3vil \\u00faltimos 7 d\\u00edas\"}, {\"Dates\": \"2020-04-06\", \"New_deaths\": 0, \"Rolling\": 0.0, \"Fallecimientos confirmados diarios\": \"Fallecimientos confirmados diarios\", \"Promedio m\\u00f3vil \\u00faltimos 7 d\\u00edas\": \"Promedio m\\u00f3vil \\u00faltimos 7 d\\u00edas\"}, {\"Dates\": \"2020-04-07\", \"New_deaths\": 0, \"Rolling\": 0.0, \"Fallecimientos confirmados diarios\": \"Fallecimientos confirmados diarios\", \"Promedio m\\u00f3vil \\u00faltimos 7 d\\u00edas\": \"Promedio m\\u00f3vil \\u00faltimos 7 d\\u00edas\"}, {\"Dates\": \"2020-04-08\", \"New_deaths\": 0, \"Rolling\": 0.0, \"Fallecimientos confirmados diarios\": \"Fallecimientos confirmados diarios\", \"Promedio m\\u00f3vil \\u00faltimos 7 d\\u00edas\": \"Promedio m\\u00f3vil \\u00faltimos 7 d\\u00edas\"}, {\"Dates\": \"2020-04-09\", \"New_deaths\": 0, \"Rolling\": 0.0, \"Fallecimientos confirmados diarios\": \"Fallecimientos confirmados diarios\", \"Promedio m\\u00f3vil \\u00faltimos 7 d\\u00edas\": \"Promedio m\\u00f3vil \\u00faltimos 7 d\\u00edas\"}, {\"Dates\": \"2020-04-10\", \"New_deaths\": 0, \"Rolling\": 0.0, \"Fallecimientos confirmados diarios\": \"Fallecimientos confirmados diarios\", \"Promedio m\\u00f3vil \\u00faltimos 7 d\\u00edas\": \"Promedio m\\u00f3vil \\u00faltimos 7 d\\u00edas\"}, {\"Dates\": \"2020-04-11\", \"New_deaths\": 0, \"Rolling\": 0.0, \"Fallecimientos confirmados diarios\": \"Fallecimientos confirmados diarios\", \"Promedio m\\u00f3vil \\u00faltimos 7 d\\u00edas\": \"Promedio m\\u00f3vil \\u00faltimos 7 d\\u00edas\"}, {\"Dates\": \"2020-04-12\", \"New_deaths\": 0, \"Rolling\": 0.0, \"Fallecimientos confirmados diarios\": \"Fallecimientos confirmados diarios\", \"Promedio m\\u00f3vil \\u00faltimos 7 d\\u00edas\": \"Promedio m\\u00f3vil \\u00faltimos 7 d\\u00edas\"}, {\"Dates\": \"2020-04-13\", \"New_deaths\": 0, \"Rolling\": 0.0, \"Fallecimientos confirmados diarios\": \"Fallecimientos confirmados diarios\", \"Promedio m\\u00f3vil \\u00faltimos 7 d\\u00edas\": \"Promedio m\\u00f3vil \\u00faltimos 7 d\\u00edas\"}, {\"Dates\": \"2020-04-14\", \"New_deaths\": 0, \"Rolling\": 0.0, \"Fallecimientos confirmados diarios\": \"Fallecimientos confirmados diarios\", \"Promedio m\\u00f3vil \\u00faltimos 7 d\\u00edas\": \"Promedio m\\u00f3vil \\u00faltimos 7 d\\u00edas\"}, {\"Dates\": \"2020-04-15\", \"New_deaths\": 0, \"Rolling\": 0.0, \"Fallecimientos confirmados diarios\": \"Fallecimientos confirmados diarios\", \"Promedio m\\u00f3vil \\u00faltimos 7 d\\u00edas\": \"Promedio m\\u00f3vil \\u00faltimos 7 d\\u00edas\"}, {\"Dates\": \"2020-04-16\", \"New_deaths\": 0, \"Rolling\": 0.0, \"Fallecimientos confirmados diarios\": \"Fallecimientos confirmados diarios\", \"Promedio m\\u00f3vil \\u00faltimos 7 d\\u00edas\": \"Promedio m\\u00f3vil \\u00faltimos 7 d\\u00edas\"}, {\"Dates\": \"2020-04-17\", \"New_deaths\": 0, \"Rolling\": 0.0, \"Fallecimientos confirmados diarios\": \"Fallecimientos confirmados diarios\", \"Promedio m\\u00f3vil \\u00faltimos 7 d\\u00edas\": \"Promedio m\\u00f3vil \\u00faltimos 7 d\\u00edas\"}, {\"Dates\": \"2020-04-18\", \"New_deaths\": 0, \"Rolling\": 0.0, \"Fallecimientos confirmados diarios\": \"Fallecimientos confirmados diarios\", \"Promedio m\\u00f3vil \\u00faltimos 7 d\\u00edas\": \"Promedio m\\u00f3vil \\u00faltimos 7 d\\u00edas\"}, {\"Dates\": \"2020-04-19\", \"New_deaths\": 0, \"Rolling\": 0.0, \"Fallecimientos confirmados diarios\": \"Fallecimientos confirmados diarios\", \"Promedio m\\u00f3vil \\u00faltimos 7 d\\u00edas\": \"Promedio m\\u00f3vil \\u00faltimos 7 d\\u00edas\"}, {\"Dates\": \"2020-04-20\", \"New_deaths\": 0, \"Rolling\": 0.0, \"Fallecimientos confirmados diarios\": \"Fallecimientos confirmados diarios\", \"Promedio m\\u00f3vil \\u00faltimos 7 d\\u00edas\": \"Promedio m\\u00f3vil \\u00faltimos 7 d\\u00edas\"}, {\"Dates\": \"2020-04-21\", \"New_deaths\": 0, \"Rolling\": 0.0, \"Fallecimientos confirmados diarios\": \"Fallecimientos confirmados diarios\", \"Promedio m\\u00f3vil \\u00faltimos 7 d\\u00edas\": \"Promedio m\\u00f3vil \\u00faltimos 7 d\\u00edas\"}, {\"Dates\": \"2020-04-22\", \"New_deaths\": 0, \"Rolling\": 0.0, \"Fallecimientos confirmados diarios\": \"Fallecimientos confirmados diarios\", \"Promedio m\\u00f3vil \\u00faltimos 7 d\\u00edas\": \"Promedio m\\u00f3vil \\u00faltimos 7 d\\u00edas\"}, {\"Dates\": \"2020-04-23\", \"New_deaths\": 0, \"Rolling\": 0.0, \"Fallecimientos confirmados diarios\": \"Fallecimientos confirmados diarios\", \"Promedio m\\u00f3vil \\u00faltimos 7 d\\u00edas\": \"Promedio m\\u00f3vil \\u00faltimos 7 d\\u00edas\"}, {\"Dates\": \"2020-04-24\", \"New_deaths\": 0, \"Rolling\": 0.0, \"Fallecimientos confirmados diarios\": \"Fallecimientos confirmados diarios\", \"Promedio m\\u00f3vil \\u00faltimos 7 d\\u00edas\": \"Promedio m\\u00f3vil \\u00faltimos 7 d\\u00edas\"}, {\"Dates\": \"2020-04-25\", \"New_deaths\": 0, \"Rolling\": 0.0, \"Fallecimientos confirmados diarios\": \"Fallecimientos confirmados diarios\", \"Promedio m\\u00f3vil \\u00faltimos 7 d\\u00edas\": \"Promedio m\\u00f3vil \\u00faltimos 7 d\\u00edas\"}, {\"Dates\": \"2020-04-26\", \"New_deaths\": 0, \"Rolling\": 0.0, \"Fallecimientos confirmados diarios\": \"Fallecimientos confirmados diarios\", \"Promedio m\\u00f3vil \\u00faltimos 7 d\\u00edas\": \"Promedio m\\u00f3vil \\u00faltimos 7 d\\u00edas\"}]}}, {\"mode\": \"vega-lite\"});\n",
       "</script>"
      ],
      "text/plain": [
       "alt.LayerChart(...)"
      ]
     },
     "execution_count": 77,
     "metadata": {},
     "output_type": "execute_result"
    }
   ],
   "source": [
    "#hide_input\n",
    "bars, line = my_deaths_plot(region)\n",
    "(bars + line).properties(\n",
    "    title=f'Covid-19 en Chile: Fallecimientos confirmados diarios en {region}',\n",
    "    width=600\n",
    ")"
   ]
  },
  {
   "cell_type": "markdown",
   "metadata": {},
   "source": [
    "## Valparaíso"
   ]
  },
  {
   "cell_type": "code",
   "execution_count": 54,
   "metadata": {
    "scrolled": false
   },
   "outputs": [],
   "source": [
    "#hide\n",
    "region = \"Valparaíso\""
   ]
  },
  {
   "cell_type": "code",
   "execution_count": 55,
   "metadata": {},
   "outputs": [
    {
     "data": {
      "text/html": [
       "\n",
       "<div id=\"altair-viz-09b08955997a4cbaa72eead008652d59\"></div>\n",
       "<script type=\"text/javascript\">\n",
       "  (function(spec, embedOpt){\n",
       "    let outputDiv = document.currentScript.previousElementSibling;\n",
       "    if (outputDiv.id !== \"altair-viz-09b08955997a4cbaa72eead008652d59\") {\n",
       "      outputDiv = document.getElementById(\"altair-viz-09b08955997a4cbaa72eead008652d59\");\n",
       "    }\n",
       "    const paths = {\n",
       "      \"vega\": \"https://cdn.jsdelivr.net/npm//vega@5?noext\",\n",
       "      \"vega-lib\": \"https://cdn.jsdelivr.net/npm//vega-lib?noext\",\n",
       "      \"vega-lite\": \"https://cdn.jsdelivr.net/npm//vega-lite@4.8.1?noext\",\n",
       "      \"vega-embed\": \"https://cdn.jsdelivr.net/npm//vega-embed@6?noext\",\n",
       "    };\n",
       "\n",
       "    function loadScript(lib) {\n",
       "      return new Promise(function(resolve, reject) {\n",
       "        var s = document.createElement('script');\n",
       "        s.src = paths[lib];\n",
       "        s.async = true;\n",
       "        s.onload = () => resolve(paths[lib]);\n",
       "        s.onerror = () => reject(`Error loading script: ${paths[lib]}`);\n",
       "        document.getElementsByTagName(\"head\")[0].appendChild(s);\n",
       "      });\n",
       "    }\n",
       "\n",
       "    function showError(err) {\n",
       "      outputDiv.innerHTML = `<div class=\"error\" style=\"color:red;\">${err}</div>`;\n",
       "      throw err;\n",
       "    }\n",
       "\n",
       "    function displayChart(vegaEmbed) {\n",
       "      vegaEmbed(outputDiv, spec, embedOpt)\n",
       "        .catch(err => showError(`Javascript Error: ${err.message}<br>This usually means there's a typo in your chart specification. See the javascript console for the full traceback.`));\n",
       "    }\n",
       "\n",
       "    if(typeof define === \"function\" && define.amd) {\n",
       "      requirejs.config({paths});\n",
       "      require([\"vega-embed\"], displayChart, err => showError(`Error loading script: ${err.message}`));\n",
       "    } else if (typeof vegaEmbed === \"function\") {\n",
       "      displayChart(vegaEmbed);\n",
       "    } else {\n",
       "      loadScript(\"vega\")\n",
       "        .then(() => loadScript(\"vega-lite\"))\n",
       "        .then(() => loadScript(\"vega-embed\"))\n",
       "        .catch(showError)\n",
       "        .then(() => displayChart(vegaEmbed));\n",
       "    }\n",
       "  })({\"config\": {\"view\": {\"continuousWidth\": 400, \"continuousHeight\": 300}}, \"layer\": [{\"mark\": {\"type\": \"bar\", \"color\": \"firebrick\", \"opacity\": 0.7}, \"encoding\": {\"opacity\": {\"type\": \"nominal\", \"field\": \"Fallecimientos confirmados diarios\", \"legend\": {\"title\": \"\"}}, \"tooltip\": [{\"type\": \"nominal\", \"field\": \"Dates\"}, {\"type\": \"quantitative\", \"field\": \"New_deaths\"}], \"x\": {\"type\": \"nominal\", \"axis\": {\"title\": \"Fecha (a\\u00f1o-mes-d\\u00eda)\"}, \"field\": \"Dates\"}, \"y\": {\"type\": \"quantitative\", \"axis\": {\"title\": \"Fallecimientos confirmados diarios\"}, \"field\": \"New_deaths\"}}}, {\"mark\": {\"type\": \"line\", \"color\": \"firebrick\", \"point\": {\"filled\": true, \"fill\": \"firebrick\"}}, \"encoding\": {\"shape\": {\"type\": \"nominal\", \"field\": \"Promedio m\\u00f3vil \\u00faltimos 7 d\\u00edas\", \"legend\": {\"title\": \"\"}}, \"x\": {\"type\": \"nominal\", \"axis\": {\"title\": \"Fecha (a\\u00f1o-mes-d\\u00eda)\"}, \"field\": \"Dates\"}, \"y\": {\"type\": \"quantitative\", \"field\": \"Rolling\"}}}], \"data\": {\"name\": \"data-2183954bffea6a58cbadc88cd593d008\"}, \"title\": \"Covid-19 en Chile: Fallecimientos confirmados diarios en Valpara\\u00edso\", \"width\": 600, \"$schema\": \"https://vega.github.io/schema/vega-lite/v4.8.1.json\", \"datasets\": {\"data-2183954bffea6a58cbadc88cd593d008\": [{\"Dates\": \"2020-03-25\", \"New_deaths\": 0, \"Rolling\": null, \"Fallecimientos confirmados diarios\": \"Fallecimientos confirmados diarios\", \"Promedio m\\u00f3vil \\u00faltimos 7 d\\u00edas\": \"Promedio m\\u00f3vil \\u00faltimos 7 d\\u00edas\"}, {\"Dates\": \"2020-03-26\", \"New_deaths\": 0, \"Rolling\": null, \"Fallecimientos confirmados diarios\": \"Fallecimientos confirmados diarios\", \"Promedio m\\u00f3vil \\u00faltimos 7 d\\u00edas\": \"Promedio m\\u00f3vil \\u00faltimos 7 d\\u00edas\"}, {\"Dates\": \"2020-03-27\", \"New_deaths\": 0, \"Rolling\": null, \"Fallecimientos confirmados diarios\": \"Fallecimientos confirmados diarios\", \"Promedio m\\u00f3vil \\u00faltimos 7 d\\u00edas\": \"Promedio m\\u00f3vil \\u00faltimos 7 d\\u00edas\"}, {\"Dates\": \"2020-03-28\", \"New_deaths\": 0, \"Rolling\": null, \"Fallecimientos confirmados diarios\": \"Fallecimientos confirmados diarios\", \"Promedio m\\u00f3vil \\u00faltimos 7 d\\u00edas\": \"Promedio m\\u00f3vil \\u00faltimos 7 d\\u00edas\"}, {\"Dates\": \"2020-03-29\", \"New_deaths\": 0, \"Rolling\": null, \"Fallecimientos confirmados diarios\": \"Fallecimientos confirmados diarios\", \"Promedio m\\u00f3vil \\u00faltimos 7 d\\u00edas\": \"Promedio m\\u00f3vil \\u00faltimos 7 d\\u00edas\"}, {\"Dates\": \"2020-03-30\", \"New_deaths\": 0, \"Rolling\": null, \"Fallecimientos confirmados diarios\": \"Fallecimientos confirmados diarios\", \"Promedio m\\u00f3vil \\u00faltimos 7 d\\u00edas\": \"Promedio m\\u00f3vil \\u00faltimos 7 d\\u00edas\"}, {\"Dates\": \"2020-03-31\", \"New_deaths\": 1, \"Rolling\": 0.14285714285714285, \"Fallecimientos confirmados diarios\": \"Fallecimientos confirmados diarios\", \"Promedio m\\u00f3vil \\u00faltimos 7 d\\u00edas\": \"Promedio m\\u00f3vil \\u00faltimos 7 d\\u00edas\"}, {\"Dates\": \"2020-04-01\", \"New_deaths\": 0, \"Rolling\": 0.14285714285714285, \"Fallecimientos confirmados diarios\": \"Fallecimientos confirmados diarios\", \"Promedio m\\u00f3vil \\u00faltimos 7 d\\u00edas\": \"Promedio m\\u00f3vil \\u00faltimos 7 d\\u00edas\"}, {\"Dates\": \"2020-04-02\", \"New_deaths\": 0, \"Rolling\": 0.14285714285714285, \"Fallecimientos confirmados diarios\": \"Fallecimientos confirmados diarios\", \"Promedio m\\u00f3vil \\u00faltimos 7 d\\u00edas\": \"Promedio m\\u00f3vil \\u00faltimos 7 d\\u00edas\"}, {\"Dates\": \"2020-04-03\", \"New_deaths\": 0, \"Rolling\": 0.14285714285714285, \"Fallecimientos confirmados diarios\": \"Fallecimientos confirmados diarios\", \"Promedio m\\u00f3vil \\u00faltimos 7 d\\u00edas\": \"Promedio m\\u00f3vil \\u00faltimos 7 d\\u00edas\"}, {\"Dates\": \"2020-04-04\", \"New_deaths\": 0, \"Rolling\": 0.14285714285714285, \"Fallecimientos confirmados diarios\": \"Fallecimientos confirmados diarios\", \"Promedio m\\u00f3vil \\u00faltimos 7 d\\u00edas\": \"Promedio m\\u00f3vil \\u00faltimos 7 d\\u00edas\"}, {\"Dates\": \"2020-04-05\", \"New_deaths\": 0, \"Rolling\": 0.14285714285714285, \"Fallecimientos confirmados diarios\": \"Fallecimientos confirmados diarios\", \"Promedio m\\u00f3vil \\u00faltimos 7 d\\u00edas\": \"Promedio m\\u00f3vil \\u00faltimos 7 d\\u00edas\"}, {\"Dates\": \"2020-04-06\", \"New_deaths\": 0, \"Rolling\": 0.14285714285714285, \"Fallecimientos confirmados diarios\": \"Fallecimientos confirmados diarios\", \"Promedio m\\u00f3vil \\u00faltimos 7 d\\u00edas\": \"Promedio m\\u00f3vil \\u00faltimos 7 d\\u00edas\"}, {\"Dates\": \"2020-04-07\", \"New_deaths\": 0, \"Rolling\": 0.0, \"Fallecimientos confirmados diarios\": \"Fallecimientos confirmados diarios\", \"Promedio m\\u00f3vil \\u00faltimos 7 d\\u00edas\": \"Promedio m\\u00f3vil \\u00faltimos 7 d\\u00edas\"}, {\"Dates\": \"2020-04-08\", \"New_deaths\": 1, \"Rolling\": 0.14285714285714285, \"Fallecimientos confirmados diarios\": \"Fallecimientos confirmados diarios\", \"Promedio m\\u00f3vil \\u00faltimos 7 d\\u00edas\": \"Promedio m\\u00f3vil \\u00faltimos 7 d\\u00edas\"}, {\"Dates\": \"2020-04-09\", \"New_deaths\": 0, \"Rolling\": 0.14285714285714285, \"Fallecimientos confirmados diarios\": \"Fallecimientos confirmados diarios\", \"Promedio m\\u00f3vil \\u00faltimos 7 d\\u00edas\": \"Promedio m\\u00f3vil \\u00faltimos 7 d\\u00edas\"}, {\"Dates\": \"2020-04-10\", \"New_deaths\": 0, \"Rolling\": 0.14285714285714285, \"Fallecimientos confirmados diarios\": \"Fallecimientos confirmados diarios\", \"Promedio m\\u00f3vil \\u00faltimos 7 d\\u00edas\": \"Promedio m\\u00f3vil \\u00faltimos 7 d\\u00edas\"}, {\"Dates\": \"2020-04-11\", \"New_deaths\": 0, \"Rolling\": 0.14285714285714285, \"Fallecimientos confirmados diarios\": \"Fallecimientos confirmados diarios\", \"Promedio m\\u00f3vil \\u00faltimos 7 d\\u00edas\": \"Promedio m\\u00f3vil \\u00faltimos 7 d\\u00edas\"}, {\"Dates\": \"2020-04-12\", \"New_deaths\": 0, \"Rolling\": 0.14285714285714285, \"Fallecimientos confirmados diarios\": \"Fallecimientos confirmados diarios\", \"Promedio m\\u00f3vil \\u00faltimos 7 d\\u00edas\": \"Promedio m\\u00f3vil \\u00faltimos 7 d\\u00edas\"}, {\"Dates\": \"2020-04-13\", \"New_deaths\": 0, \"Rolling\": 0.14285714285714285, \"Fallecimientos confirmados diarios\": \"Fallecimientos confirmados diarios\", \"Promedio m\\u00f3vil \\u00faltimos 7 d\\u00edas\": \"Promedio m\\u00f3vil \\u00faltimos 7 d\\u00edas\"}, {\"Dates\": \"2020-04-14\", \"New_deaths\": 0, \"Rolling\": 0.14285714285714285, \"Fallecimientos confirmados diarios\": \"Fallecimientos confirmados diarios\", \"Promedio m\\u00f3vil \\u00faltimos 7 d\\u00edas\": \"Promedio m\\u00f3vil \\u00faltimos 7 d\\u00edas\"}, {\"Dates\": \"2020-04-15\", \"New_deaths\": 0, \"Rolling\": 0.0, \"Fallecimientos confirmados diarios\": \"Fallecimientos confirmados diarios\", \"Promedio m\\u00f3vil \\u00faltimos 7 d\\u00edas\": \"Promedio m\\u00f3vil \\u00faltimos 7 d\\u00edas\"}, {\"Dates\": \"2020-04-16\", \"New_deaths\": 2, \"Rolling\": 0.2857142857142857, \"Fallecimientos confirmados diarios\": \"Fallecimientos confirmados diarios\", \"Promedio m\\u00f3vil \\u00faltimos 7 d\\u00edas\": \"Promedio m\\u00f3vil \\u00faltimos 7 d\\u00edas\"}, {\"Dates\": \"2020-04-17\", \"New_deaths\": 0, \"Rolling\": 0.2857142857142857, \"Fallecimientos confirmados diarios\": \"Fallecimientos confirmados diarios\", \"Promedio m\\u00f3vil \\u00faltimos 7 d\\u00edas\": \"Promedio m\\u00f3vil \\u00faltimos 7 d\\u00edas\"}, {\"Dates\": \"2020-04-18\", \"New_deaths\": 0, \"Rolling\": 0.2857142857142857, \"Fallecimientos confirmados diarios\": \"Fallecimientos confirmados diarios\", \"Promedio m\\u00f3vil \\u00faltimos 7 d\\u00edas\": \"Promedio m\\u00f3vil \\u00faltimos 7 d\\u00edas\"}, {\"Dates\": \"2020-04-19\", \"New_deaths\": 1, \"Rolling\": 0.42857142857142855, \"Fallecimientos confirmados diarios\": \"Fallecimientos confirmados diarios\", \"Promedio m\\u00f3vil \\u00faltimos 7 d\\u00edas\": \"Promedio m\\u00f3vil \\u00faltimos 7 d\\u00edas\"}, {\"Dates\": \"2020-04-20\", \"New_deaths\": 0, \"Rolling\": 0.42857142857142855, \"Fallecimientos confirmados diarios\": \"Fallecimientos confirmados diarios\", \"Promedio m\\u00f3vil \\u00faltimos 7 d\\u00edas\": \"Promedio m\\u00f3vil \\u00faltimos 7 d\\u00edas\"}, {\"Dates\": \"2020-04-21\", \"New_deaths\": 1, \"Rolling\": 0.5714285714285714, \"Fallecimientos confirmados diarios\": \"Fallecimientos confirmados diarios\", \"Promedio m\\u00f3vil \\u00faltimos 7 d\\u00edas\": \"Promedio m\\u00f3vil \\u00faltimos 7 d\\u00edas\"}, {\"Dates\": \"2020-04-22\", \"New_deaths\": 1, \"Rolling\": 0.7142857142857143, \"Fallecimientos confirmados diarios\": \"Fallecimientos confirmados diarios\", \"Promedio m\\u00f3vil \\u00faltimos 7 d\\u00edas\": \"Promedio m\\u00f3vil \\u00faltimos 7 d\\u00edas\"}, {\"Dates\": \"2020-04-23\", \"New_deaths\": 0, \"Rolling\": 0.42857142857142855, \"Fallecimientos confirmados diarios\": \"Fallecimientos confirmados diarios\", \"Promedio m\\u00f3vil \\u00faltimos 7 d\\u00edas\": \"Promedio m\\u00f3vil \\u00faltimos 7 d\\u00edas\"}, {\"Dates\": \"2020-04-24\", \"New_deaths\": 1, \"Rolling\": 0.5714285714285714, \"Fallecimientos confirmados diarios\": \"Fallecimientos confirmados diarios\", \"Promedio m\\u00f3vil \\u00faltimos 7 d\\u00edas\": \"Promedio m\\u00f3vil \\u00faltimos 7 d\\u00edas\"}, {\"Dates\": \"2020-04-25\", \"New_deaths\": 1, \"Rolling\": 0.7142857142857143, \"Fallecimientos confirmados diarios\": \"Fallecimientos confirmados diarios\", \"Promedio m\\u00f3vil \\u00faltimos 7 d\\u00edas\": \"Promedio m\\u00f3vil \\u00faltimos 7 d\\u00edas\"}, {\"Dates\": \"2020-04-26\", \"New_deaths\": 0, \"Rolling\": 0.5714285714285714, \"Fallecimientos confirmados diarios\": \"Fallecimientos confirmados diarios\", \"Promedio m\\u00f3vil \\u00faltimos 7 d\\u00edas\": \"Promedio m\\u00f3vil \\u00faltimos 7 d\\u00edas\"}]}}, {\"mode\": \"vega-lite\"});\n",
       "</script>"
      ],
      "text/plain": [
       "alt.LayerChart(...)"
      ]
     },
     "execution_count": 55,
     "metadata": {},
     "output_type": "execute_result"
    }
   ],
   "source": [
    "#hide_input\n",
    "bars, line = my_deaths_plot(region)\n",
    "(bars + line).properties(\n",
    "    title=f'Covid-19 en Chile: Fallecimientos confirmados diarios en {region}',\n",
    "    width=600\n",
    ")"
   ]
  },
  {
   "cell_type": "markdown",
   "metadata": {},
   "source": [
    "## Metropolitana"
   ]
  },
  {
   "cell_type": "code",
   "execution_count": 56,
   "metadata": {
    "scrolled": true
   },
   "outputs": [],
   "source": [
    "#hide\n",
    "region = \"Metropolitana\""
   ]
  },
  {
   "cell_type": "code",
   "execution_count": 57,
   "metadata": {},
   "outputs": [
    {
     "data": {
      "text/html": [
       "\n",
       "<div id=\"altair-viz-50aef80fe6bd47fd8a9c1771f221e2aa\"></div>\n",
       "<script type=\"text/javascript\">\n",
       "  (function(spec, embedOpt){\n",
       "    let outputDiv = document.currentScript.previousElementSibling;\n",
       "    if (outputDiv.id !== \"altair-viz-50aef80fe6bd47fd8a9c1771f221e2aa\") {\n",
       "      outputDiv = document.getElementById(\"altair-viz-50aef80fe6bd47fd8a9c1771f221e2aa\");\n",
       "    }\n",
       "    const paths = {\n",
       "      \"vega\": \"https://cdn.jsdelivr.net/npm//vega@5?noext\",\n",
       "      \"vega-lib\": \"https://cdn.jsdelivr.net/npm//vega-lib?noext\",\n",
       "      \"vega-lite\": \"https://cdn.jsdelivr.net/npm//vega-lite@4.8.1?noext\",\n",
       "      \"vega-embed\": \"https://cdn.jsdelivr.net/npm//vega-embed@6?noext\",\n",
       "    };\n",
       "\n",
       "    function loadScript(lib) {\n",
       "      return new Promise(function(resolve, reject) {\n",
       "        var s = document.createElement('script');\n",
       "        s.src = paths[lib];\n",
       "        s.async = true;\n",
       "        s.onload = () => resolve(paths[lib]);\n",
       "        s.onerror = () => reject(`Error loading script: ${paths[lib]}`);\n",
       "        document.getElementsByTagName(\"head\")[0].appendChild(s);\n",
       "      });\n",
       "    }\n",
       "\n",
       "    function showError(err) {\n",
       "      outputDiv.innerHTML = `<div class=\"error\" style=\"color:red;\">${err}</div>`;\n",
       "      throw err;\n",
       "    }\n",
       "\n",
       "    function displayChart(vegaEmbed) {\n",
       "      vegaEmbed(outputDiv, spec, embedOpt)\n",
       "        .catch(err => showError(`Javascript Error: ${err.message}<br>This usually means there's a typo in your chart specification. See the javascript console for the full traceback.`));\n",
       "    }\n",
       "\n",
       "    if(typeof define === \"function\" && define.amd) {\n",
       "      requirejs.config({paths});\n",
       "      require([\"vega-embed\"], displayChart, err => showError(`Error loading script: ${err.message}`));\n",
       "    } else if (typeof vegaEmbed === \"function\") {\n",
       "      displayChart(vegaEmbed);\n",
       "    } else {\n",
       "      loadScript(\"vega\")\n",
       "        .then(() => loadScript(\"vega-lite\"))\n",
       "        .then(() => loadScript(\"vega-embed\"))\n",
       "        .catch(showError)\n",
       "        .then(() => displayChart(vegaEmbed));\n",
       "    }\n",
       "  })({\"config\": {\"view\": {\"continuousWidth\": 400, \"continuousHeight\": 300}}, \"layer\": [{\"mark\": {\"type\": \"bar\", \"color\": \"firebrick\", \"opacity\": 0.7}, \"encoding\": {\"opacity\": {\"type\": \"nominal\", \"field\": \"Fallecimientos confirmados diarios\", \"legend\": {\"title\": \"\"}}, \"tooltip\": [{\"type\": \"nominal\", \"field\": \"Dates\"}, {\"type\": \"quantitative\", \"field\": \"New_deaths\"}], \"x\": {\"type\": \"nominal\", \"axis\": {\"title\": \"Fecha (a\\u00f1o-mes-d\\u00eda)\"}, \"field\": \"Dates\"}, \"y\": {\"type\": \"quantitative\", \"axis\": {\"title\": \"Fallecimientos confirmados diarios\"}, \"field\": \"New_deaths\"}}}, {\"mark\": {\"type\": \"line\", \"color\": \"firebrick\", \"point\": {\"filled\": true, \"fill\": \"firebrick\"}}, \"encoding\": {\"shape\": {\"type\": \"nominal\", \"field\": \"Promedio m\\u00f3vil \\u00faltimos 7 d\\u00edas\", \"legend\": {\"title\": \"\"}}, \"x\": {\"type\": \"nominal\", \"axis\": {\"title\": \"Fecha (a\\u00f1o-mes-d\\u00eda)\"}, \"field\": \"Dates\"}, \"y\": {\"type\": \"quantitative\", \"field\": \"Rolling\"}}}], \"data\": {\"name\": \"data-bf90cb9a202dbd2449cea6c35079e551\"}, \"title\": \"Covid-19 en Chile: Fallecimientos confirmados diarios en Metropolitana\", \"width\": 600, \"$schema\": \"https://vega.github.io/schema/vega-lite/v4.8.1.json\", \"datasets\": {\"data-bf90cb9a202dbd2449cea6c35079e551\": [{\"Dates\": \"2020-03-25\", \"New_deaths\": 0, \"Rolling\": null, \"Fallecimientos confirmados diarios\": \"Fallecimientos confirmados diarios\", \"Promedio m\\u00f3vil \\u00faltimos 7 d\\u00edas\": \"Promedio m\\u00f3vil \\u00faltimos 7 d\\u00edas\"}, {\"Dates\": \"2020-03-26\", \"New_deaths\": 1, \"Rolling\": null, \"Fallecimientos confirmados diarios\": \"Fallecimientos confirmados diarios\", \"Promedio m\\u00f3vil \\u00faltimos 7 d\\u00edas\": \"Promedio m\\u00f3vil \\u00faltimos 7 d\\u00edas\"}, {\"Dates\": \"2020-03-27\", \"New_deaths\": 0, \"Rolling\": null, \"Fallecimientos confirmados diarios\": \"Fallecimientos confirmados diarios\", \"Promedio m\\u00f3vil \\u00faltimos 7 d\\u00edas\": \"Promedio m\\u00f3vil \\u00faltimos 7 d\\u00edas\"}, {\"Dates\": \"2020-03-28\", \"New_deaths\": 0, \"Rolling\": null, \"Fallecimientos confirmados diarios\": \"Fallecimientos confirmados diarios\", \"Promedio m\\u00f3vil \\u00faltimos 7 d\\u00edas\": \"Promedio m\\u00f3vil \\u00faltimos 7 d\\u00edas\"}, {\"Dates\": \"2020-03-29\", \"New_deaths\": 0, \"Rolling\": null, \"Fallecimientos confirmados diarios\": \"Fallecimientos confirmados diarios\", \"Promedio m\\u00f3vil \\u00faltimos 7 d\\u00edas\": \"Promedio m\\u00f3vil \\u00faltimos 7 d\\u00edas\"}, {\"Dates\": \"2020-03-30\", \"New_deaths\": 0, \"Rolling\": null, \"Fallecimientos confirmados diarios\": \"Fallecimientos confirmados diarios\", \"Promedio m\\u00f3vil \\u00faltimos 7 d\\u00edas\": \"Promedio m\\u00f3vil \\u00faltimos 7 d\\u00edas\"}, {\"Dates\": \"2020-03-31\", \"New_deaths\": 1, \"Rolling\": 0.2857142857142857, \"Fallecimientos confirmados diarios\": \"Fallecimientos confirmados diarios\", \"Promedio m\\u00f3vil \\u00faltimos 7 d\\u00edas\": \"Promedio m\\u00f3vil \\u00faltimos 7 d\\u00edas\"}, {\"Dates\": \"2020-04-01\", \"New_deaths\": 1, \"Rolling\": 0.42857142857142855, \"Fallecimientos confirmados diarios\": \"Fallecimientos confirmados diarios\", \"Promedio m\\u00f3vil \\u00faltimos 7 d\\u00edas\": \"Promedio m\\u00f3vil \\u00faltimos 7 d\\u00edas\"}, {\"Dates\": \"2020-04-02\", \"New_deaths\": 1, \"Rolling\": 0.42857142857142855, \"Fallecimientos confirmados diarios\": \"Fallecimientos confirmados diarios\", \"Promedio m\\u00f3vil \\u00faltimos 7 d\\u00edas\": \"Promedio m\\u00f3vil \\u00faltimos 7 d\\u00edas\"}, {\"Dates\": \"2020-04-03\", \"New_deaths\": 2, \"Rolling\": 0.7142857142857143, \"Fallecimientos confirmados diarios\": \"Fallecimientos confirmados diarios\", \"Promedio m\\u00f3vil \\u00faltimos 7 d\\u00edas\": \"Promedio m\\u00f3vil \\u00faltimos 7 d\\u00edas\"}, {\"Dates\": \"2020-04-04\", \"New_deaths\": 1, \"Rolling\": 0.8571428571428571, \"Fallecimientos confirmados diarios\": \"Fallecimientos confirmados diarios\", \"Promedio m\\u00f3vil \\u00faltimos 7 d\\u00edas\": \"Promedio m\\u00f3vil \\u00faltimos 7 d\\u00edas\"}, {\"Dates\": \"2020-04-05\", \"New_deaths\": 1, \"Rolling\": 1.0, \"Fallecimientos confirmados diarios\": \"Fallecimientos confirmados diarios\", \"Promedio m\\u00f3vil \\u00faltimos 7 d\\u00edas\": \"Promedio m\\u00f3vil \\u00faltimos 7 d\\u00edas\"}, {\"Dates\": \"2020-04-06\", \"New_deaths\": 0, \"Rolling\": 1.0, \"Fallecimientos confirmados diarios\": \"Fallecimientos confirmados diarios\", \"Promedio m\\u00f3vil \\u00faltimos 7 d\\u00edas\": \"Promedio m\\u00f3vil \\u00faltimos 7 d\\u00edas\"}, {\"Dates\": \"2020-04-07\", \"New_deaths\": 2, \"Rolling\": 1.1428571428571428, \"Fallecimientos confirmados diarios\": \"Fallecimientos confirmados diarios\", \"Promedio m\\u00f3vil \\u00faltimos 7 d\\u00edas\": \"Promedio m\\u00f3vil \\u00faltimos 7 d\\u00edas\"}, {\"Dates\": \"2020-04-08\", \"New_deaths\": 2, \"Rolling\": 1.2857142857142858, \"Fallecimientos confirmados diarios\": \"Fallecimientos confirmados diarios\", \"Promedio m\\u00f3vil \\u00faltimos 7 d\\u00edas\": \"Promedio m\\u00f3vil \\u00faltimos 7 d\\u00edas\"}, {\"Dates\": \"2020-04-09\", \"New_deaths\": 7, \"Rolling\": 2.142857142857143, \"Fallecimientos confirmados diarios\": \"Fallecimientos confirmados diarios\", \"Promedio m\\u00f3vil \\u00faltimos 7 d\\u00edas\": \"Promedio m\\u00f3vil \\u00faltimos 7 d\\u00edas\"}, {\"Dates\": \"2020-04-10\", \"New_deaths\": 8, \"Rolling\": 3.0, \"Fallecimientos confirmados diarios\": \"Fallecimientos confirmados diarios\", \"Promedio m\\u00f3vil \\u00faltimos 7 d\\u00edas\": \"Promedio m\\u00f3vil \\u00faltimos 7 d\\u00edas\"}, {\"Dates\": \"2020-04-11\", \"New_deaths\": 3, \"Rolling\": 3.2857142857142856, \"Fallecimientos confirmados diarios\": \"Fallecimientos confirmados diarios\", \"Promedio m\\u00f3vil \\u00faltimos 7 d\\u00edas\": \"Promedio m\\u00f3vil \\u00faltimos 7 d\\u00edas\"}, {\"Dates\": \"2020-04-12\", \"New_deaths\": 3, \"Rolling\": 3.5714285714285716, \"Fallecimientos confirmados diarios\": \"Fallecimientos confirmados diarios\", \"Promedio m\\u00f3vil \\u00faltimos 7 d\\u00edas\": \"Promedio m\\u00f3vil \\u00faltimos 7 d\\u00edas\"}, {\"Dates\": \"2020-04-13\", \"New_deaths\": 1, \"Rolling\": 3.7142857142857144, \"Fallecimientos confirmados diarios\": \"Fallecimientos confirmados diarios\", \"Promedio m\\u00f3vil \\u00faltimos 7 d\\u00edas\": \"Promedio m\\u00f3vil \\u00faltimos 7 d\\u00edas\"}, {\"Dates\": \"2020-04-14\", \"New_deaths\": 4, \"Rolling\": 4.0, \"Fallecimientos confirmados diarios\": \"Fallecimientos confirmados diarios\", \"Promedio m\\u00f3vil \\u00faltimos 7 d\\u00edas\": \"Promedio m\\u00f3vil \\u00faltimos 7 d\\u00edas\"}, {\"Dates\": \"2020-04-15\", \"New_deaths\": 1, \"Rolling\": 3.857142857142857, \"Fallecimientos confirmados diarios\": \"Fallecimientos confirmados diarios\", \"Promedio m\\u00f3vil \\u00faltimos 7 d\\u00edas\": \"Promedio m\\u00f3vil \\u00faltimos 7 d\\u00edas\"}, {\"Dates\": \"2020-04-16\", \"New_deaths\": 7, \"Rolling\": 3.857142857142857, \"Fallecimientos confirmados diarios\": \"Fallecimientos confirmados diarios\", \"Promedio m\\u00f3vil \\u00faltimos 7 d\\u00edas\": \"Promedio m\\u00f3vil \\u00faltimos 7 d\\u00edas\"}, {\"Dates\": \"2020-04-17\", \"New_deaths\": 3, \"Rolling\": 3.142857142857143, \"Fallecimientos confirmados diarios\": \"Fallecimientos confirmados diarios\", \"Promedio m\\u00f3vil \\u00faltimos 7 d\\u00edas\": \"Promedio m\\u00f3vil \\u00faltimos 7 d\\u00edas\"}, {\"Dates\": \"2020-04-18\", \"New_deaths\": 7, \"Rolling\": 3.7142857142857144, \"Fallecimientos confirmados diarios\": \"Fallecimientos confirmados diarios\", \"Promedio m\\u00f3vil \\u00faltimos 7 d\\u00edas\": \"Promedio m\\u00f3vil \\u00faltimos 7 d\\u00edas\"}, {\"Dates\": \"2020-04-19\", \"New_deaths\": 5, \"Rolling\": 4.0, \"Fallecimientos confirmados diarios\": \"Fallecimientos confirmados diarios\", \"Promedio m\\u00f3vil \\u00faltimos 7 d\\u00edas\": \"Promedio m\\u00f3vil \\u00faltimos 7 d\\u00edas\"}, {\"Dates\": \"2020-04-20\", \"New_deaths\": 4, \"Rolling\": 4.428571428571429, \"Fallecimientos confirmados diarios\": \"Fallecimientos confirmados diarios\", \"Promedio m\\u00f3vil \\u00faltimos 7 d\\u00edas\": \"Promedio m\\u00f3vil \\u00faltimos 7 d\\u00edas\"}, {\"Dates\": \"2020-04-21\", \"New_deaths\": 2, \"Rolling\": 4.142857142857143, \"Fallecimientos confirmados diarios\": \"Fallecimientos confirmados diarios\", \"Promedio m\\u00f3vil \\u00faltimos 7 d\\u00edas\": \"Promedio m\\u00f3vil \\u00faltimos 7 d\\u00edas\"}, {\"Dates\": \"2020-04-22\", \"New_deaths\": 9, \"Rolling\": 5.285714285714286, \"Fallecimientos confirmados diarios\": \"Fallecimientos confirmados diarios\", \"Promedio m\\u00f3vil \\u00faltimos 7 d\\u00edas\": \"Promedio m\\u00f3vil \\u00faltimos 7 d\\u00edas\"}, {\"Dates\": \"2020-04-23\", \"New_deaths\": 7, \"Rolling\": 5.285714285714286, \"Fallecimientos confirmados diarios\": \"Fallecimientos confirmados diarios\", \"Promedio m\\u00f3vil \\u00faltimos 7 d\\u00edas\": \"Promedio m\\u00f3vil \\u00faltimos 7 d\\u00edas\"}, {\"Dates\": \"2020-04-24\", \"New_deaths\": 1, \"Rolling\": 5.0, \"Fallecimientos confirmados diarios\": \"Fallecimientos confirmados diarios\", \"Promedio m\\u00f3vil \\u00faltimos 7 d\\u00edas\": \"Promedio m\\u00f3vil \\u00faltimos 7 d\\u00edas\"}, {\"Dates\": \"2020-04-25\", \"New_deaths\": 3, \"Rolling\": 4.428571428571429, \"Fallecimientos confirmados diarios\": \"Fallecimientos confirmados diarios\", \"Promedio m\\u00f3vil \\u00faltimos 7 d\\u00edas\": \"Promedio m\\u00f3vil \\u00faltimos 7 d\\u00edas\"}, {\"Dates\": \"2020-04-26\", \"New_deaths\": 2, \"Rolling\": 4.0, \"Fallecimientos confirmados diarios\": \"Fallecimientos confirmados diarios\", \"Promedio m\\u00f3vil \\u00faltimos 7 d\\u00edas\": \"Promedio m\\u00f3vil \\u00faltimos 7 d\\u00edas\"}]}}, {\"mode\": \"vega-lite\"});\n",
       "</script>"
      ],
      "text/plain": [
       "alt.LayerChart(...)"
      ]
     },
     "execution_count": 57,
     "metadata": {},
     "output_type": "execute_result"
    }
   ],
   "source": [
    "#hide_input\n",
    "bars, line = my_deaths_plot(region)\n",
    "(bars + line).properties(\n",
    "    title=f'Covid-19 en Chile: Fallecimientos confirmados diarios en {region}',\n",
    "    width=600\n",
    ")"
   ]
  },
  {
   "cell_type": "markdown",
   "metadata": {},
   "source": [
    "## O’Higgins"
   ]
  },
  {
   "cell_type": "code",
   "execution_count": 58,
   "metadata": {
    "scrolled": true
   },
   "outputs": [],
   "source": [
    "#hide\n",
    "region = \"O’Higgins\""
   ]
  },
  {
   "cell_type": "code",
   "execution_count": 59,
   "metadata": {},
   "outputs": [
    {
     "data": {
      "text/html": [
       "\n",
       "<div id=\"altair-viz-b252c20b18704d75b4cff221aef09aea\"></div>\n",
       "<script type=\"text/javascript\">\n",
       "  (function(spec, embedOpt){\n",
       "    let outputDiv = document.currentScript.previousElementSibling;\n",
       "    if (outputDiv.id !== \"altair-viz-b252c20b18704d75b4cff221aef09aea\") {\n",
       "      outputDiv = document.getElementById(\"altair-viz-b252c20b18704d75b4cff221aef09aea\");\n",
       "    }\n",
       "    const paths = {\n",
       "      \"vega\": \"https://cdn.jsdelivr.net/npm//vega@5?noext\",\n",
       "      \"vega-lib\": \"https://cdn.jsdelivr.net/npm//vega-lib?noext\",\n",
       "      \"vega-lite\": \"https://cdn.jsdelivr.net/npm//vega-lite@4.8.1?noext\",\n",
       "      \"vega-embed\": \"https://cdn.jsdelivr.net/npm//vega-embed@6?noext\",\n",
       "    };\n",
       "\n",
       "    function loadScript(lib) {\n",
       "      return new Promise(function(resolve, reject) {\n",
       "        var s = document.createElement('script');\n",
       "        s.src = paths[lib];\n",
       "        s.async = true;\n",
       "        s.onload = () => resolve(paths[lib]);\n",
       "        s.onerror = () => reject(`Error loading script: ${paths[lib]}`);\n",
       "        document.getElementsByTagName(\"head\")[0].appendChild(s);\n",
       "      });\n",
       "    }\n",
       "\n",
       "    function showError(err) {\n",
       "      outputDiv.innerHTML = `<div class=\"error\" style=\"color:red;\">${err}</div>`;\n",
       "      throw err;\n",
       "    }\n",
       "\n",
       "    function displayChart(vegaEmbed) {\n",
       "      vegaEmbed(outputDiv, spec, embedOpt)\n",
       "        .catch(err => showError(`Javascript Error: ${err.message}<br>This usually means there's a typo in your chart specification. See the javascript console for the full traceback.`));\n",
       "    }\n",
       "\n",
       "    if(typeof define === \"function\" && define.amd) {\n",
       "      requirejs.config({paths});\n",
       "      require([\"vega-embed\"], displayChart, err => showError(`Error loading script: ${err.message}`));\n",
       "    } else if (typeof vegaEmbed === \"function\") {\n",
       "      displayChart(vegaEmbed);\n",
       "    } else {\n",
       "      loadScript(\"vega\")\n",
       "        .then(() => loadScript(\"vega-lite\"))\n",
       "        .then(() => loadScript(\"vega-embed\"))\n",
       "        .catch(showError)\n",
       "        .then(() => displayChart(vegaEmbed));\n",
       "    }\n",
       "  })({\"config\": {\"view\": {\"continuousWidth\": 400, \"continuousHeight\": 300}}, \"layer\": [{\"mark\": {\"type\": \"bar\", \"color\": \"firebrick\", \"opacity\": 0.7}, \"encoding\": {\"opacity\": {\"type\": \"nominal\", \"field\": \"Fallecimientos confirmados diarios\", \"legend\": {\"title\": \"\"}}, \"tooltip\": [{\"type\": \"nominal\", \"field\": \"Dates\"}, {\"type\": \"quantitative\", \"field\": \"New_deaths\"}], \"x\": {\"type\": \"nominal\", \"axis\": {\"title\": \"Fecha (a\\u00f1o-mes-d\\u00eda)\"}, \"field\": \"Dates\"}, \"y\": {\"type\": \"quantitative\", \"axis\": {\"title\": \"Fallecimientos confirmados diarios\"}, \"field\": \"New_deaths\"}}}, {\"mark\": {\"type\": \"line\", \"color\": \"firebrick\", \"point\": {\"filled\": true, \"fill\": \"firebrick\"}}, \"encoding\": {\"shape\": {\"type\": \"nominal\", \"field\": \"Promedio m\\u00f3vil \\u00faltimos 7 d\\u00edas\", \"legend\": {\"title\": \"\"}}, \"x\": {\"type\": \"nominal\", \"axis\": {\"title\": \"Fecha (a\\u00f1o-mes-d\\u00eda)\"}, \"field\": \"Dates\"}, \"y\": {\"type\": \"quantitative\", \"field\": \"Rolling\"}}}], \"data\": {\"name\": \"data-e2b6a52ac86e4ff4c4ef07dfd1183453\"}, \"title\": \"Covid-19 en Chile: Fallecimientos confirmados diarios en O\\u2019Higgins\", \"width\": 600, \"$schema\": \"https://vega.github.io/schema/vega-lite/v4.8.1.json\", \"datasets\": {\"data-e2b6a52ac86e4ff4c4ef07dfd1183453\": [{\"Dates\": \"2020-03-25\", \"New_deaths\": 0, \"Rolling\": null, \"Fallecimientos confirmados diarios\": \"Fallecimientos confirmados diarios\", \"Promedio m\\u00f3vil \\u00faltimos 7 d\\u00edas\": \"Promedio m\\u00f3vil \\u00faltimos 7 d\\u00edas\"}, {\"Dates\": \"2020-03-26\", \"New_deaths\": 0, \"Rolling\": null, \"Fallecimientos confirmados diarios\": \"Fallecimientos confirmados diarios\", \"Promedio m\\u00f3vil \\u00faltimos 7 d\\u00edas\": \"Promedio m\\u00f3vil \\u00faltimos 7 d\\u00edas\"}, {\"Dates\": \"2020-03-27\", \"New_deaths\": 0, \"Rolling\": null, \"Fallecimientos confirmados diarios\": \"Fallecimientos confirmados diarios\", \"Promedio m\\u00f3vil \\u00faltimos 7 d\\u00edas\": \"Promedio m\\u00f3vil \\u00faltimos 7 d\\u00edas\"}, {\"Dates\": \"2020-03-28\", \"New_deaths\": 0, \"Rolling\": null, \"Fallecimientos confirmados diarios\": \"Fallecimientos confirmados diarios\", \"Promedio m\\u00f3vil \\u00faltimos 7 d\\u00edas\": \"Promedio m\\u00f3vil \\u00faltimos 7 d\\u00edas\"}, {\"Dates\": \"2020-03-29\", \"New_deaths\": 0, \"Rolling\": null, \"Fallecimientos confirmados diarios\": \"Fallecimientos confirmados diarios\", \"Promedio m\\u00f3vil \\u00faltimos 7 d\\u00edas\": \"Promedio m\\u00f3vil \\u00faltimos 7 d\\u00edas\"}, {\"Dates\": \"2020-03-30\", \"New_deaths\": 0, \"Rolling\": null, \"Fallecimientos confirmados diarios\": \"Fallecimientos confirmados diarios\", \"Promedio m\\u00f3vil \\u00faltimos 7 d\\u00edas\": \"Promedio m\\u00f3vil \\u00faltimos 7 d\\u00edas\"}, {\"Dates\": \"2020-03-31\", \"New_deaths\": 0, \"Rolling\": 0.0, \"Fallecimientos confirmados diarios\": \"Fallecimientos confirmados diarios\", \"Promedio m\\u00f3vil \\u00faltimos 7 d\\u00edas\": \"Promedio m\\u00f3vil \\u00faltimos 7 d\\u00edas\"}, {\"Dates\": \"2020-04-01\", \"New_deaths\": 0, \"Rolling\": 0.0, \"Fallecimientos confirmados diarios\": \"Fallecimientos confirmados diarios\", \"Promedio m\\u00f3vil \\u00faltimos 7 d\\u00edas\": \"Promedio m\\u00f3vil \\u00faltimos 7 d\\u00edas\"}, {\"Dates\": \"2020-04-02\", \"New_deaths\": 0, \"Rolling\": 0.0, \"Fallecimientos confirmados diarios\": \"Fallecimientos confirmados diarios\", \"Promedio m\\u00f3vil \\u00faltimos 7 d\\u00edas\": \"Promedio m\\u00f3vil \\u00faltimos 7 d\\u00edas\"}, {\"Dates\": \"2020-04-03\", \"New_deaths\": 0, \"Rolling\": 0.0, \"Fallecimientos confirmados diarios\": \"Fallecimientos confirmados diarios\", \"Promedio m\\u00f3vil \\u00faltimos 7 d\\u00edas\": \"Promedio m\\u00f3vil \\u00faltimos 7 d\\u00edas\"}, {\"Dates\": \"2020-04-04\", \"New_deaths\": 0, \"Rolling\": 0.0, \"Fallecimientos confirmados diarios\": \"Fallecimientos confirmados diarios\", \"Promedio m\\u00f3vil \\u00faltimos 7 d\\u00edas\": \"Promedio m\\u00f3vil \\u00faltimos 7 d\\u00edas\"}, {\"Dates\": \"2020-04-05\", \"New_deaths\": 0, \"Rolling\": 0.0, \"Fallecimientos confirmados diarios\": \"Fallecimientos confirmados diarios\", \"Promedio m\\u00f3vil \\u00faltimos 7 d\\u00edas\": \"Promedio m\\u00f3vil \\u00faltimos 7 d\\u00edas\"}, {\"Dates\": \"2020-04-06\", \"New_deaths\": 0, \"Rolling\": 0.0, \"Fallecimientos confirmados diarios\": \"Fallecimientos confirmados diarios\", \"Promedio m\\u00f3vil \\u00faltimos 7 d\\u00edas\": \"Promedio m\\u00f3vil \\u00faltimos 7 d\\u00edas\"}, {\"Dates\": \"2020-04-07\", \"New_deaths\": 0, \"Rolling\": 0.0, \"Fallecimientos confirmados diarios\": \"Fallecimientos confirmados diarios\", \"Promedio m\\u00f3vil \\u00faltimos 7 d\\u00edas\": \"Promedio m\\u00f3vil \\u00faltimos 7 d\\u00edas\"}, {\"Dates\": \"2020-04-08\", \"New_deaths\": 0, \"Rolling\": 0.0, \"Fallecimientos confirmados diarios\": \"Fallecimientos confirmados diarios\", \"Promedio m\\u00f3vil \\u00faltimos 7 d\\u00edas\": \"Promedio m\\u00f3vil \\u00faltimos 7 d\\u00edas\"}, {\"Dates\": \"2020-04-09\", \"New_deaths\": 0, \"Rolling\": 0.0, \"Fallecimientos confirmados diarios\": \"Fallecimientos confirmados diarios\", \"Promedio m\\u00f3vil \\u00faltimos 7 d\\u00edas\": \"Promedio m\\u00f3vil \\u00faltimos 7 d\\u00edas\"}, {\"Dates\": \"2020-04-10\", \"New_deaths\": 0, \"Rolling\": 0.0, \"Fallecimientos confirmados diarios\": \"Fallecimientos confirmados diarios\", \"Promedio m\\u00f3vil \\u00faltimos 7 d\\u00edas\": \"Promedio m\\u00f3vil \\u00faltimos 7 d\\u00edas\"}, {\"Dates\": \"2020-04-11\", \"New_deaths\": 0, \"Rolling\": 0.0, \"Fallecimientos confirmados diarios\": \"Fallecimientos confirmados diarios\", \"Promedio m\\u00f3vil \\u00faltimos 7 d\\u00edas\": \"Promedio m\\u00f3vil \\u00faltimos 7 d\\u00edas\"}, {\"Dates\": \"2020-04-12\", \"New_deaths\": 0, \"Rolling\": 0.0, \"Fallecimientos confirmados diarios\": \"Fallecimientos confirmados diarios\", \"Promedio m\\u00f3vil \\u00faltimos 7 d\\u00edas\": \"Promedio m\\u00f3vil \\u00faltimos 7 d\\u00edas\"}, {\"Dates\": \"2020-04-13\", \"New_deaths\": 0, \"Rolling\": 0.0, \"Fallecimientos confirmados diarios\": \"Fallecimientos confirmados diarios\", \"Promedio m\\u00f3vil \\u00faltimos 7 d\\u00edas\": \"Promedio m\\u00f3vil \\u00faltimos 7 d\\u00edas\"}, {\"Dates\": \"2020-04-14\", \"New_deaths\": 0, \"Rolling\": 0.0, \"Fallecimientos confirmados diarios\": \"Fallecimientos confirmados diarios\", \"Promedio m\\u00f3vil \\u00faltimos 7 d\\u00edas\": \"Promedio m\\u00f3vil \\u00faltimos 7 d\\u00edas\"}, {\"Dates\": \"2020-04-15\", \"New_deaths\": 0, \"Rolling\": 0.0, \"Fallecimientos confirmados diarios\": \"Fallecimientos confirmados diarios\", \"Promedio m\\u00f3vil \\u00faltimos 7 d\\u00edas\": \"Promedio m\\u00f3vil \\u00faltimos 7 d\\u00edas\"}, {\"Dates\": \"2020-04-16\", \"New_deaths\": 0, \"Rolling\": 0.0, \"Fallecimientos confirmados diarios\": \"Fallecimientos confirmados diarios\", \"Promedio m\\u00f3vil \\u00faltimos 7 d\\u00edas\": \"Promedio m\\u00f3vil \\u00faltimos 7 d\\u00edas\"}, {\"Dates\": \"2020-04-17\", \"New_deaths\": 0, \"Rolling\": 0.0, \"Fallecimientos confirmados diarios\": \"Fallecimientos confirmados diarios\", \"Promedio m\\u00f3vil \\u00faltimos 7 d\\u00edas\": \"Promedio m\\u00f3vil \\u00faltimos 7 d\\u00edas\"}, {\"Dates\": \"2020-04-18\", \"New_deaths\": 0, \"Rolling\": 0.0, \"Fallecimientos confirmados diarios\": \"Fallecimientos confirmados diarios\", \"Promedio m\\u00f3vil \\u00faltimos 7 d\\u00edas\": \"Promedio m\\u00f3vil \\u00faltimos 7 d\\u00edas\"}, {\"Dates\": \"2020-04-19\", \"New_deaths\": 0, \"Rolling\": 0.0, \"Fallecimientos confirmados diarios\": \"Fallecimientos confirmados diarios\", \"Promedio m\\u00f3vil \\u00faltimos 7 d\\u00edas\": \"Promedio m\\u00f3vil \\u00faltimos 7 d\\u00edas\"}, {\"Dates\": \"2020-04-20\", \"New_deaths\": 0, \"Rolling\": 0.0, \"Fallecimientos confirmados diarios\": \"Fallecimientos confirmados diarios\", \"Promedio m\\u00f3vil \\u00faltimos 7 d\\u00edas\": \"Promedio m\\u00f3vil \\u00faltimos 7 d\\u00edas\"}, {\"Dates\": \"2020-04-21\", \"New_deaths\": 1, \"Rolling\": 0.14285714285714285, \"Fallecimientos confirmados diarios\": \"Fallecimientos confirmados diarios\", \"Promedio m\\u00f3vil \\u00faltimos 7 d\\u00edas\": \"Promedio m\\u00f3vil \\u00faltimos 7 d\\u00edas\"}, {\"Dates\": \"2020-04-22\", \"New_deaths\": 0, \"Rolling\": 0.14285714285714285, \"Fallecimientos confirmados diarios\": \"Fallecimientos confirmados diarios\", \"Promedio m\\u00f3vil \\u00faltimos 7 d\\u00edas\": \"Promedio m\\u00f3vil \\u00faltimos 7 d\\u00edas\"}, {\"Dates\": \"2020-04-23\", \"New_deaths\": 0, \"Rolling\": 0.14285714285714285, \"Fallecimientos confirmados diarios\": \"Fallecimientos confirmados diarios\", \"Promedio m\\u00f3vil \\u00faltimos 7 d\\u00edas\": \"Promedio m\\u00f3vil \\u00faltimos 7 d\\u00edas\"}, {\"Dates\": \"2020-04-24\", \"New_deaths\": 0, \"Rolling\": 0.14285714285714285, \"Fallecimientos confirmados diarios\": \"Fallecimientos confirmados diarios\", \"Promedio m\\u00f3vil \\u00faltimos 7 d\\u00edas\": \"Promedio m\\u00f3vil \\u00faltimos 7 d\\u00edas\"}, {\"Dates\": \"2020-04-25\", \"New_deaths\": 0, \"Rolling\": 0.14285714285714285, \"Fallecimientos confirmados diarios\": \"Fallecimientos confirmados diarios\", \"Promedio m\\u00f3vil \\u00faltimos 7 d\\u00edas\": \"Promedio m\\u00f3vil \\u00faltimos 7 d\\u00edas\"}, {\"Dates\": \"2020-04-26\", \"New_deaths\": 0, \"Rolling\": 0.14285714285714285, \"Fallecimientos confirmados diarios\": \"Fallecimientos confirmados diarios\", \"Promedio m\\u00f3vil \\u00faltimos 7 d\\u00edas\": \"Promedio m\\u00f3vil \\u00faltimos 7 d\\u00edas\"}]}}, {\"mode\": \"vega-lite\"});\n",
       "</script>"
      ],
      "text/plain": [
       "alt.LayerChart(...)"
      ]
     },
     "execution_count": 59,
     "metadata": {},
     "output_type": "execute_result"
    }
   ],
   "source": [
    "#hide_input\n",
    "bars, line = my_deaths_plot(region)\n",
    "(bars + line).properties(\n",
    "    title=f'Covid-19 en Chile: Fallecimientos confirmados diarios en {region}',\n",
    "    width=600\n",
    ")"
   ]
  },
  {
   "cell_type": "markdown",
   "metadata": {},
   "source": [
    "## Maule"
   ]
  },
  {
   "cell_type": "code",
   "execution_count": 60,
   "metadata": {
    "scrolled": true
   },
   "outputs": [],
   "source": [
    "#hide\n",
    "region = \"Maule\""
   ]
  },
  {
   "cell_type": "code",
   "execution_count": 61,
   "metadata": {},
   "outputs": [
    {
     "data": {
      "text/html": [
       "\n",
       "<div id=\"altair-viz-5171ac6a1dd24c3bb1b51ec29e0eccae\"></div>\n",
       "<script type=\"text/javascript\">\n",
       "  (function(spec, embedOpt){\n",
       "    let outputDiv = document.currentScript.previousElementSibling;\n",
       "    if (outputDiv.id !== \"altair-viz-5171ac6a1dd24c3bb1b51ec29e0eccae\") {\n",
       "      outputDiv = document.getElementById(\"altair-viz-5171ac6a1dd24c3bb1b51ec29e0eccae\");\n",
       "    }\n",
       "    const paths = {\n",
       "      \"vega\": \"https://cdn.jsdelivr.net/npm//vega@5?noext\",\n",
       "      \"vega-lib\": \"https://cdn.jsdelivr.net/npm//vega-lib?noext\",\n",
       "      \"vega-lite\": \"https://cdn.jsdelivr.net/npm//vega-lite@4.8.1?noext\",\n",
       "      \"vega-embed\": \"https://cdn.jsdelivr.net/npm//vega-embed@6?noext\",\n",
       "    };\n",
       "\n",
       "    function loadScript(lib) {\n",
       "      return new Promise(function(resolve, reject) {\n",
       "        var s = document.createElement('script');\n",
       "        s.src = paths[lib];\n",
       "        s.async = true;\n",
       "        s.onload = () => resolve(paths[lib]);\n",
       "        s.onerror = () => reject(`Error loading script: ${paths[lib]}`);\n",
       "        document.getElementsByTagName(\"head\")[0].appendChild(s);\n",
       "      });\n",
       "    }\n",
       "\n",
       "    function showError(err) {\n",
       "      outputDiv.innerHTML = `<div class=\"error\" style=\"color:red;\">${err}</div>`;\n",
       "      throw err;\n",
       "    }\n",
       "\n",
       "    function displayChart(vegaEmbed) {\n",
       "      vegaEmbed(outputDiv, spec, embedOpt)\n",
       "        .catch(err => showError(`Javascript Error: ${err.message}<br>This usually means there's a typo in your chart specification. See the javascript console for the full traceback.`));\n",
       "    }\n",
       "\n",
       "    if(typeof define === \"function\" && define.amd) {\n",
       "      requirejs.config({paths});\n",
       "      require([\"vega-embed\"], displayChart, err => showError(`Error loading script: ${err.message}`));\n",
       "    } else if (typeof vegaEmbed === \"function\") {\n",
       "      displayChart(vegaEmbed);\n",
       "    } else {\n",
       "      loadScript(\"vega\")\n",
       "        .then(() => loadScript(\"vega-lite\"))\n",
       "        .then(() => loadScript(\"vega-embed\"))\n",
       "        .catch(showError)\n",
       "        .then(() => displayChart(vegaEmbed));\n",
       "    }\n",
       "  })({\"config\": {\"view\": {\"continuousWidth\": 400, \"continuousHeight\": 300}}, \"layer\": [{\"mark\": {\"type\": \"bar\", \"color\": \"firebrick\", \"opacity\": 0.7}, \"encoding\": {\"opacity\": {\"type\": \"nominal\", \"field\": \"Fallecimientos confirmados diarios\", \"legend\": {\"title\": \"\"}}, \"tooltip\": [{\"type\": \"nominal\", \"field\": \"Dates\"}, {\"type\": \"quantitative\", \"field\": \"New_deaths\"}], \"x\": {\"type\": \"nominal\", \"axis\": {\"title\": \"Fecha (a\\u00f1o-mes-d\\u00eda)\"}, \"field\": \"Dates\"}, \"y\": {\"type\": \"quantitative\", \"axis\": {\"title\": \"Fallecimientos confirmados diarios\"}, \"field\": \"New_deaths\"}}}, {\"mark\": {\"type\": \"line\", \"color\": \"firebrick\", \"point\": {\"filled\": true, \"fill\": \"firebrick\"}}, \"encoding\": {\"shape\": {\"type\": \"nominal\", \"field\": \"Promedio m\\u00f3vil \\u00faltimos 7 d\\u00edas\", \"legend\": {\"title\": \"\"}}, \"x\": {\"type\": \"nominal\", \"axis\": {\"title\": \"Fecha (a\\u00f1o-mes-d\\u00eda)\"}, \"field\": \"Dates\"}, \"y\": {\"type\": \"quantitative\", \"field\": \"Rolling\"}}}], \"data\": {\"name\": \"data-69efe7dbacbb644c6ee93e230c0557a3\"}, \"title\": \"Covid-19 en Chile: Fallecimientos confirmados diarios en Maule\", \"width\": 600, \"$schema\": \"https://vega.github.io/schema/vega-lite/v4.8.1.json\", \"datasets\": {\"data-69efe7dbacbb644c6ee93e230c0557a3\": [{\"Dates\": \"2020-03-25\", \"New_deaths\": 0, \"Rolling\": null, \"Fallecimientos confirmados diarios\": \"Fallecimientos confirmados diarios\", \"Promedio m\\u00f3vil \\u00faltimos 7 d\\u00edas\": \"Promedio m\\u00f3vil \\u00faltimos 7 d\\u00edas\"}, {\"Dates\": \"2020-03-26\", \"New_deaths\": 0, \"Rolling\": null, \"Fallecimientos confirmados diarios\": \"Fallecimientos confirmados diarios\", \"Promedio m\\u00f3vil \\u00faltimos 7 d\\u00edas\": \"Promedio m\\u00f3vil \\u00faltimos 7 d\\u00edas\"}, {\"Dates\": \"2020-03-27\", \"New_deaths\": 0, \"Rolling\": null, \"Fallecimientos confirmados diarios\": \"Fallecimientos confirmados diarios\", \"Promedio m\\u00f3vil \\u00faltimos 7 d\\u00edas\": \"Promedio m\\u00f3vil \\u00faltimos 7 d\\u00edas\"}, {\"Dates\": \"2020-03-28\", \"New_deaths\": 0, \"Rolling\": null, \"Fallecimientos confirmados diarios\": \"Fallecimientos confirmados diarios\", \"Promedio m\\u00f3vil \\u00faltimos 7 d\\u00edas\": \"Promedio m\\u00f3vil \\u00faltimos 7 d\\u00edas\"}, {\"Dates\": \"2020-03-29\", \"New_deaths\": 0, \"Rolling\": null, \"Fallecimientos confirmados diarios\": \"Fallecimientos confirmados diarios\", \"Promedio m\\u00f3vil \\u00faltimos 7 d\\u00edas\": \"Promedio m\\u00f3vil \\u00faltimos 7 d\\u00edas\"}, {\"Dates\": \"2020-03-30\", \"New_deaths\": 1, \"Rolling\": null, \"Fallecimientos confirmados diarios\": \"Fallecimientos confirmados diarios\", \"Promedio m\\u00f3vil \\u00faltimos 7 d\\u00edas\": \"Promedio m\\u00f3vil \\u00faltimos 7 d\\u00edas\"}, {\"Dates\": \"2020-03-31\", \"New_deaths\": 0, \"Rolling\": 0.14285714285714285, \"Fallecimientos confirmados diarios\": \"Fallecimientos confirmados diarios\", \"Promedio m\\u00f3vil \\u00faltimos 7 d\\u00edas\": \"Promedio m\\u00f3vil \\u00faltimos 7 d\\u00edas\"}, {\"Dates\": \"2020-04-01\", \"New_deaths\": 0, \"Rolling\": 0.14285714285714285, \"Fallecimientos confirmados diarios\": \"Fallecimientos confirmados diarios\", \"Promedio m\\u00f3vil \\u00faltimos 7 d\\u00edas\": \"Promedio m\\u00f3vil \\u00faltimos 7 d\\u00edas\"}, {\"Dates\": \"2020-04-02\", \"New_deaths\": 0, \"Rolling\": 0.14285714285714285, \"Fallecimientos confirmados diarios\": \"Fallecimientos confirmados diarios\", \"Promedio m\\u00f3vil \\u00faltimos 7 d\\u00edas\": \"Promedio m\\u00f3vil \\u00faltimos 7 d\\u00edas\"}, {\"Dates\": \"2020-04-03\", \"New_deaths\": 0, \"Rolling\": 0.14285714285714285, \"Fallecimientos confirmados diarios\": \"Fallecimientos confirmados diarios\", \"Promedio m\\u00f3vil \\u00faltimos 7 d\\u00edas\": \"Promedio m\\u00f3vil \\u00faltimos 7 d\\u00edas\"}, {\"Dates\": \"2020-04-04\", \"New_deaths\": 0, \"Rolling\": 0.14285714285714285, \"Fallecimientos confirmados diarios\": \"Fallecimientos confirmados diarios\", \"Promedio m\\u00f3vil \\u00faltimos 7 d\\u00edas\": \"Promedio m\\u00f3vil \\u00faltimos 7 d\\u00edas\"}, {\"Dates\": \"2020-04-05\", \"New_deaths\": 0, \"Rolling\": 0.14285714285714285, \"Fallecimientos confirmados diarios\": \"Fallecimientos confirmados diarios\", \"Promedio m\\u00f3vil \\u00faltimos 7 d\\u00edas\": \"Promedio m\\u00f3vil \\u00faltimos 7 d\\u00edas\"}, {\"Dates\": \"2020-04-06\", \"New_deaths\": 0, \"Rolling\": 0.0, \"Fallecimientos confirmados diarios\": \"Fallecimientos confirmados diarios\", \"Promedio m\\u00f3vil \\u00faltimos 7 d\\u00edas\": \"Promedio m\\u00f3vil \\u00faltimos 7 d\\u00edas\"}, {\"Dates\": \"2020-04-07\", \"New_deaths\": 1, \"Rolling\": 0.14285714285714285, \"Fallecimientos confirmados diarios\": \"Fallecimientos confirmados diarios\", \"Promedio m\\u00f3vil \\u00faltimos 7 d\\u00edas\": \"Promedio m\\u00f3vil \\u00faltimos 7 d\\u00edas\"}, {\"Dates\": \"2020-04-08\", \"New_deaths\": 0, \"Rolling\": 0.14285714285714285, \"Fallecimientos confirmados diarios\": \"Fallecimientos confirmados diarios\", \"Promedio m\\u00f3vil \\u00faltimos 7 d\\u00edas\": \"Promedio m\\u00f3vil \\u00faltimos 7 d\\u00edas\"}, {\"Dates\": \"2020-04-09\", \"New_deaths\": 0, \"Rolling\": 0.14285714285714285, \"Fallecimientos confirmados diarios\": \"Fallecimientos confirmados diarios\", \"Promedio m\\u00f3vil \\u00faltimos 7 d\\u00edas\": \"Promedio m\\u00f3vil \\u00faltimos 7 d\\u00edas\"}, {\"Dates\": \"2020-04-10\", \"New_deaths\": 0, \"Rolling\": 0.14285714285714285, \"Fallecimientos confirmados diarios\": \"Fallecimientos confirmados diarios\", \"Promedio m\\u00f3vil \\u00faltimos 7 d\\u00edas\": \"Promedio m\\u00f3vil \\u00faltimos 7 d\\u00edas\"}, {\"Dates\": \"2020-04-11\", \"New_deaths\": 1, \"Rolling\": 0.2857142857142857, \"Fallecimientos confirmados diarios\": \"Fallecimientos confirmados diarios\", \"Promedio m\\u00f3vil \\u00faltimos 7 d\\u00edas\": \"Promedio m\\u00f3vil \\u00faltimos 7 d\\u00edas\"}, {\"Dates\": \"2020-04-12\", \"New_deaths\": 0, \"Rolling\": 0.2857142857142857, \"Fallecimientos confirmados diarios\": \"Fallecimientos confirmados diarios\", \"Promedio m\\u00f3vil \\u00faltimos 7 d\\u00edas\": \"Promedio m\\u00f3vil \\u00faltimos 7 d\\u00edas\"}, {\"Dates\": \"2020-04-13\", \"New_deaths\": 0, \"Rolling\": 0.2857142857142857, \"Fallecimientos confirmados diarios\": \"Fallecimientos confirmados diarios\", \"Promedio m\\u00f3vil \\u00faltimos 7 d\\u00edas\": \"Promedio m\\u00f3vil \\u00faltimos 7 d\\u00edas\"}, {\"Dates\": \"2020-04-14\", \"New_deaths\": 1, \"Rolling\": 0.2857142857142857, \"Fallecimientos confirmados diarios\": \"Fallecimientos confirmados diarios\", \"Promedio m\\u00f3vil \\u00faltimos 7 d\\u00edas\": \"Promedio m\\u00f3vil \\u00faltimos 7 d\\u00edas\"}, {\"Dates\": \"2020-04-15\", \"New_deaths\": 0, \"Rolling\": 0.2857142857142857, \"Fallecimientos confirmados diarios\": \"Fallecimientos confirmados diarios\", \"Promedio m\\u00f3vil \\u00faltimos 7 d\\u00edas\": \"Promedio m\\u00f3vil \\u00faltimos 7 d\\u00edas\"}, {\"Dates\": \"2020-04-16\", \"New_deaths\": 0, \"Rolling\": 0.2857142857142857, \"Fallecimientos confirmados diarios\": \"Fallecimientos confirmados diarios\", \"Promedio m\\u00f3vil \\u00faltimos 7 d\\u00edas\": \"Promedio m\\u00f3vil \\u00faltimos 7 d\\u00edas\"}, {\"Dates\": \"2020-04-17\", \"New_deaths\": 3, \"Rolling\": 0.7142857142857143, \"Fallecimientos confirmados diarios\": \"Fallecimientos confirmados diarios\", \"Promedio m\\u00f3vil \\u00faltimos 7 d\\u00edas\": \"Promedio m\\u00f3vil \\u00faltimos 7 d\\u00edas\"}, {\"Dates\": \"2020-04-18\", \"New_deaths\": 1, \"Rolling\": 0.7142857142857143, \"Fallecimientos confirmados diarios\": \"Fallecimientos confirmados diarios\", \"Promedio m\\u00f3vil \\u00faltimos 7 d\\u00edas\": \"Promedio m\\u00f3vil \\u00faltimos 7 d\\u00edas\"}, {\"Dates\": \"2020-04-19\", \"New_deaths\": 0, \"Rolling\": 0.7142857142857143, \"Fallecimientos confirmados diarios\": \"Fallecimientos confirmados diarios\", \"Promedio m\\u00f3vil \\u00faltimos 7 d\\u00edas\": \"Promedio m\\u00f3vil \\u00faltimos 7 d\\u00edas\"}, {\"Dates\": \"2020-04-20\", \"New_deaths\": 2, \"Rolling\": 1.0, \"Fallecimientos confirmados diarios\": \"Fallecimientos confirmados diarios\", \"Promedio m\\u00f3vil \\u00faltimos 7 d\\u00edas\": \"Promedio m\\u00f3vil \\u00faltimos 7 d\\u00edas\"}, {\"Dates\": \"2020-04-21\", \"New_deaths\": 0, \"Rolling\": 0.8571428571428571, \"Fallecimientos confirmados diarios\": \"Fallecimientos confirmados diarios\", \"Promedio m\\u00f3vil \\u00faltimos 7 d\\u00edas\": \"Promedio m\\u00f3vil \\u00faltimos 7 d\\u00edas\"}, {\"Dates\": \"2020-04-22\", \"New_deaths\": 0, \"Rolling\": 0.8571428571428571, \"Fallecimientos confirmados diarios\": \"Fallecimientos confirmados diarios\", \"Promedio m\\u00f3vil \\u00faltimos 7 d\\u00edas\": \"Promedio m\\u00f3vil \\u00faltimos 7 d\\u00edas\"}, {\"Dates\": \"2020-04-23\", \"New_deaths\": 0, \"Rolling\": 0.8571428571428571, \"Fallecimientos confirmados diarios\": \"Fallecimientos confirmados diarios\", \"Promedio m\\u00f3vil \\u00faltimos 7 d\\u00edas\": \"Promedio m\\u00f3vil \\u00faltimos 7 d\\u00edas\"}, {\"Dates\": \"2020-04-24\", \"New_deaths\": 0, \"Rolling\": 0.42857142857142855, \"Fallecimientos confirmados diarios\": \"Fallecimientos confirmados diarios\", \"Promedio m\\u00f3vil \\u00faltimos 7 d\\u00edas\": \"Promedio m\\u00f3vil \\u00faltimos 7 d\\u00edas\"}, {\"Dates\": \"2020-04-25\", \"New_deaths\": 0, \"Rolling\": 0.2857142857142857, \"Fallecimientos confirmados diarios\": \"Fallecimientos confirmados diarios\", \"Promedio m\\u00f3vil \\u00faltimos 7 d\\u00edas\": \"Promedio m\\u00f3vil \\u00faltimos 7 d\\u00edas\"}, {\"Dates\": \"2020-04-26\", \"New_deaths\": 1, \"Rolling\": 0.42857142857142855, \"Fallecimientos confirmados diarios\": \"Fallecimientos confirmados diarios\", \"Promedio m\\u00f3vil \\u00faltimos 7 d\\u00edas\": \"Promedio m\\u00f3vil \\u00faltimos 7 d\\u00edas\"}]}}, {\"mode\": \"vega-lite\"});\n",
       "</script>"
      ],
      "text/plain": [
       "alt.LayerChart(...)"
      ]
     },
     "execution_count": 61,
     "metadata": {},
     "output_type": "execute_result"
    }
   ],
   "source": [
    "#hide_input\n",
    "bars, line = my_deaths_plot(region)\n",
    "(bars + line).properties(\n",
    "    title=f'Covid-19 en Chile: Fallecimientos confirmados diarios en {region}',\n",
    "    width=600\n",
    ")"
   ]
  },
  {
   "cell_type": "markdown",
   "metadata": {},
   "source": [
    "## Ñuble"
   ]
  },
  {
   "cell_type": "code",
   "execution_count": 62,
   "metadata": {
    "scrolled": true
   },
   "outputs": [],
   "source": [
    "#hide\n",
    "region = \"Ñuble\""
   ]
  },
  {
   "cell_type": "code",
   "execution_count": 63,
   "metadata": {},
   "outputs": [
    {
     "data": {
      "text/html": [
       "\n",
       "<div id=\"altair-viz-8ca734fe7af749bf9710d17d899f1dfd\"></div>\n",
       "<script type=\"text/javascript\">\n",
       "  (function(spec, embedOpt){\n",
       "    let outputDiv = document.currentScript.previousElementSibling;\n",
       "    if (outputDiv.id !== \"altair-viz-8ca734fe7af749bf9710d17d899f1dfd\") {\n",
       "      outputDiv = document.getElementById(\"altair-viz-8ca734fe7af749bf9710d17d899f1dfd\");\n",
       "    }\n",
       "    const paths = {\n",
       "      \"vega\": \"https://cdn.jsdelivr.net/npm//vega@5?noext\",\n",
       "      \"vega-lib\": \"https://cdn.jsdelivr.net/npm//vega-lib?noext\",\n",
       "      \"vega-lite\": \"https://cdn.jsdelivr.net/npm//vega-lite@4.8.1?noext\",\n",
       "      \"vega-embed\": \"https://cdn.jsdelivr.net/npm//vega-embed@6?noext\",\n",
       "    };\n",
       "\n",
       "    function loadScript(lib) {\n",
       "      return new Promise(function(resolve, reject) {\n",
       "        var s = document.createElement('script');\n",
       "        s.src = paths[lib];\n",
       "        s.async = true;\n",
       "        s.onload = () => resolve(paths[lib]);\n",
       "        s.onerror = () => reject(`Error loading script: ${paths[lib]}`);\n",
       "        document.getElementsByTagName(\"head\")[0].appendChild(s);\n",
       "      });\n",
       "    }\n",
       "\n",
       "    function showError(err) {\n",
       "      outputDiv.innerHTML = `<div class=\"error\" style=\"color:red;\">${err}</div>`;\n",
       "      throw err;\n",
       "    }\n",
       "\n",
       "    function displayChart(vegaEmbed) {\n",
       "      vegaEmbed(outputDiv, spec, embedOpt)\n",
       "        .catch(err => showError(`Javascript Error: ${err.message}<br>This usually means there's a typo in your chart specification. See the javascript console for the full traceback.`));\n",
       "    }\n",
       "\n",
       "    if(typeof define === \"function\" && define.amd) {\n",
       "      requirejs.config({paths});\n",
       "      require([\"vega-embed\"], displayChart, err => showError(`Error loading script: ${err.message}`));\n",
       "    } else if (typeof vegaEmbed === \"function\") {\n",
       "      displayChart(vegaEmbed);\n",
       "    } else {\n",
       "      loadScript(\"vega\")\n",
       "        .then(() => loadScript(\"vega-lite\"))\n",
       "        .then(() => loadScript(\"vega-embed\"))\n",
       "        .catch(showError)\n",
       "        .then(() => displayChart(vegaEmbed));\n",
       "    }\n",
       "  })({\"config\": {\"view\": {\"continuousWidth\": 400, \"continuousHeight\": 300}}, \"layer\": [{\"mark\": {\"type\": \"bar\", \"color\": \"firebrick\", \"opacity\": 0.7}, \"encoding\": {\"opacity\": {\"type\": \"nominal\", \"field\": \"Fallecimientos confirmados diarios\", \"legend\": {\"title\": \"\"}}, \"tooltip\": [{\"type\": \"nominal\", \"field\": \"Dates\"}, {\"type\": \"quantitative\", \"field\": \"New_deaths\"}], \"x\": {\"type\": \"nominal\", \"axis\": {\"title\": \"Fecha (a\\u00f1o-mes-d\\u00eda)\"}, \"field\": \"Dates\"}, \"y\": {\"type\": \"quantitative\", \"axis\": {\"title\": \"Fallecimientos confirmados diarios\"}, \"field\": \"New_deaths\"}}}, {\"mark\": {\"type\": \"line\", \"color\": \"firebrick\", \"point\": {\"filled\": true, \"fill\": \"firebrick\"}}, \"encoding\": {\"shape\": {\"type\": \"nominal\", \"field\": \"Promedio m\\u00f3vil \\u00faltimos 7 d\\u00edas\", \"legend\": {\"title\": \"\"}}, \"x\": {\"type\": \"nominal\", \"axis\": {\"title\": \"Fecha (a\\u00f1o-mes-d\\u00eda)\"}, \"field\": \"Dates\"}, \"y\": {\"type\": \"quantitative\", \"field\": \"Rolling\"}}}], \"data\": {\"name\": \"data-7612e5d005cf954368e9c1564e9a2f7b\"}, \"title\": \"Covid-19 en Chile: Fallecimientos confirmados diarios en \\u00d1uble\", \"width\": 600, \"$schema\": \"https://vega.github.io/schema/vega-lite/v4.8.1.json\", \"datasets\": {\"data-7612e5d005cf954368e9c1564e9a2f7b\": [{\"Dates\": \"2020-03-25\", \"New_deaths\": 0, \"Rolling\": null, \"Fallecimientos confirmados diarios\": \"Fallecimientos confirmados diarios\", \"Promedio m\\u00f3vil \\u00faltimos 7 d\\u00edas\": \"Promedio m\\u00f3vil \\u00faltimos 7 d\\u00edas\"}, {\"Dates\": \"2020-03-26\", \"New_deaths\": 0, \"Rolling\": null, \"Fallecimientos confirmados diarios\": \"Fallecimientos confirmados diarios\", \"Promedio m\\u00f3vil \\u00faltimos 7 d\\u00edas\": \"Promedio m\\u00f3vil \\u00faltimos 7 d\\u00edas\"}, {\"Dates\": \"2020-03-27\", \"New_deaths\": 0, \"Rolling\": null, \"Fallecimientos confirmados diarios\": \"Fallecimientos confirmados diarios\", \"Promedio m\\u00f3vil \\u00faltimos 7 d\\u00edas\": \"Promedio m\\u00f3vil \\u00faltimos 7 d\\u00edas\"}, {\"Dates\": \"2020-03-28\", \"New_deaths\": 0, \"Rolling\": null, \"Fallecimientos confirmados diarios\": \"Fallecimientos confirmados diarios\", \"Promedio m\\u00f3vil \\u00faltimos 7 d\\u00edas\": \"Promedio m\\u00f3vil \\u00faltimos 7 d\\u00edas\"}, {\"Dates\": \"2020-03-29\", \"New_deaths\": 0, \"Rolling\": null, \"Fallecimientos confirmados diarios\": \"Fallecimientos confirmados diarios\", \"Promedio m\\u00f3vil \\u00faltimos 7 d\\u00edas\": \"Promedio m\\u00f3vil \\u00faltimos 7 d\\u00edas\"}, {\"Dates\": \"2020-03-30\", \"New_deaths\": 0, \"Rolling\": null, \"Fallecimientos confirmados diarios\": \"Fallecimientos confirmados diarios\", \"Promedio m\\u00f3vil \\u00faltimos 7 d\\u00edas\": \"Promedio m\\u00f3vil \\u00faltimos 7 d\\u00edas\"}, {\"Dates\": \"2020-03-31\", \"New_deaths\": 0, \"Rolling\": 0.0, \"Fallecimientos confirmados diarios\": \"Fallecimientos confirmados diarios\", \"Promedio m\\u00f3vil \\u00faltimos 7 d\\u00edas\": \"Promedio m\\u00f3vil \\u00faltimos 7 d\\u00edas\"}, {\"Dates\": \"2020-04-01\", \"New_deaths\": 0, \"Rolling\": 0.0, \"Fallecimientos confirmados diarios\": \"Fallecimientos confirmados diarios\", \"Promedio m\\u00f3vil \\u00faltimos 7 d\\u00edas\": \"Promedio m\\u00f3vil \\u00faltimos 7 d\\u00edas\"}, {\"Dates\": \"2020-04-02\", \"New_deaths\": 0, \"Rolling\": 0.0, \"Fallecimientos confirmados diarios\": \"Fallecimientos confirmados diarios\", \"Promedio m\\u00f3vil \\u00faltimos 7 d\\u00edas\": \"Promedio m\\u00f3vil \\u00faltimos 7 d\\u00edas\"}, {\"Dates\": \"2020-04-03\", \"New_deaths\": 1, \"Rolling\": 0.14285714285714285, \"Fallecimientos confirmados diarios\": \"Fallecimientos confirmados diarios\", \"Promedio m\\u00f3vil \\u00faltimos 7 d\\u00edas\": \"Promedio m\\u00f3vil \\u00faltimos 7 d\\u00edas\"}, {\"Dates\": \"2020-04-04\", \"New_deaths\": 1, \"Rolling\": 0.2857142857142857, \"Fallecimientos confirmados diarios\": \"Fallecimientos confirmados diarios\", \"Promedio m\\u00f3vil \\u00faltimos 7 d\\u00edas\": \"Promedio m\\u00f3vil \\u00faltimos 7 d\\u00edas\"}, {\"Dates\": \"2020-04-05\", \"New_deaths\": 1, \"Rolling\": 0.42857142857142855, \"Fallecimientos confirmados diarios\": \"Fallecimientos confirmados diarios\", \"Promedio m\\u00f3vil \\u00faltimos 7 d\\u00edas\": \"Promedio m\\u00f3vil \\u00faltimos 7 d\\u00edas\"}, {\"Dates\": \"2020-04-06\", \"New_deaths\": 1, \"Rolling\": 0.5714285714285714, \"Fallecimientos confirmados diarios\": \"Fallecimientos confirmados diarios\", \"Promedio m\\u00f3vil \\u00faltimos 7 d\\u00edas\": \"Promedio m\\u00f3vil \\u00faltimos 7 d\\u00edas\"}, {\"Dates\": \"2020-04-07\", \"New_deaths\": 1, \"Rolling\": 0.7142857142857143, \"Fallecimientos confirmados diarios\": \"Fallecimientos confirmados diarios\", \"Promedio m\\u00f3vil \\u00faltimos 7 d\\u00edas\": \"Promedio m\\u00f3vil \\u00faltimos 7 d\\u00edas\"}, {\"Dates\": \"2020-04-08\", \"New_deaths\": 0, \"Rolling\": 0.7142857142857143, \"Fallecimientos confirmados diarios\": \"Fallecimientos confirmados diarios\", \"Promedio m\\u00f3vil \\u00faltimos 7 d\\u00edas\": \"Promedio m\\u00f3vil \\u00faltimos 7 d\\u00edas\"}, {\"Dates\": \"2020-04-09\", \"New_deaths\": 1, \"Rolling\": 0.8571428571428571, \"Fallecimientos confirmados diarios\": \"Fallecimientos confirmados diarios\", \"Promedio m\\u00f3vil \\u00faltimos 7 d\\u00edas\": \"Promedio m\\u00f3vil \\u00faltimos 7 d\\u00edas\"}, {\"Dates\": \"2020-04-10\", \"New_deaths\": 0, \"Rolling\": 0.7142857142857143, \"Fallecimientos confirmados diarios\": \"Fallecimientos confirmados diarios\", \"Promedio m\\u00f3vil \\u00faltimos 7 d\\u00edas\": \"Promedio m\\u00f3vil \\u00faltimos 7 d\\u00edas\"}, {\"Dates\": \"2020-04-11\", \"New_deaths\": 0, \"Rolling\": 0.5714285714285714, \"Fallecimientos confirmados diarios\": \"Fallecimientos confirmados diarios\", \"Promedio m\\u00f3vil \\u00faltimos 7 d\\u00edas\": \"Promedio m\\u00f3vil \\u00faltimos 7 d\\u00edas\"}, {\"Dates\": \"2020-04-12\", \"New_deaths\": 1, \"Rolling\": 0.5714285714285714, \"Fallecimientos confirmados diarios\": \"Fallecimientos confirmados diarios\", \"Promedio m\\u00f3vil \\u00faltimos 7 d\\u00edas\": \"Promedio m\\u00f3vil \\u00faltimos 7 d\\u00edas\"}, {\"Dates\": \"2020-04-13\", \"New_deaths\": 0, \"Rolling\": 0.42857142857142855, \"Fallecimientos confirmados diarios\": \"Fallecimientos confirmados diarios\", \"Promedio m\\u00f3vil \\u00faltimos 7 d\\u00edas\": \"Promedio m\\u00f3vil \\u00faltimos 7 d\\u00edas\"}, {\"Dates\": \"2020-04-14\", \"New_deaths\": 1, \"Rolling\": 0.42857142857142855, \"Fallecimientos confirmados diarios\": \"Fallecimientos confirmados diarios\", \"Promedio m\\u00f3vil \\u00faltimos 7 d\\u00edas\": \"Promedio m\\u00f3vil \\u00faltimos 7 d\\u00edas\"}, {\"Dates\": \"2020-04-15\", \"New_deaths\": 0, \"Rolling\": 0.42857142857142855, \"Fallecimientos confirmados diarios\": \"Fallecimientos confirmados diarios\", \"Promedio m\\u00f3vil \\u00faltimos 7 d\\u00edas\": \"Promedio m\\u00f3vil \\u00faltimos 7 d\\u00edas\"}, {\"Dates\": \"2020-04-16\", \"New_deaths\": 2, \"Rolling\": 0.5714285714285714, \"Fallecimientos confirmados diarios\": \"Fallecimientos confirmados diarios\", \"Promedio m\\u00f3vil \\u00faltimos 7 d\\u00edas\": \"Promedio m\\u00f3vil \\u00faltimos 7 d\\u00edas\"}, {\"Dates\": \"2020-04-17\", \"New_deaths\": 1, \"Rolling\": 0.7142857142857143, \"Fallecimientos confirmados diarios\": \"Fallecimientos confirmados diarios\", \"Promedio m\\u00f3vil \\u00faltimos 7 d\\u00edas\": \"Promedio m\\u00f3vil \\u00faltimos 7 d\\u00edas\"}, {\"Dates\": \"2020-04-18\", \"New_deaths\": 1, \"Rolling\": 0.8571428571428571, \"Fallecimientos confirmados diarios\": \"Fallecimientos confirmados diarios\", \"Promedio m\\u00f3vil \\u00faltimos 7 d\\u00edas\": \"Promedio m\\u00f3vil \\u00faltimos 7 d\\u00edas\"}, {\"Dates\": \"2020-04-19\", \"New_deaths\": 1, \"Rolling\": 0.8571428571428571, \"Fallecimientos confirmados diarios\": \"Fallecimientos confirmados diarios\", \"Promedio m\\u00f3vil \\u00faltimos 7 d\\u00edas\": \"Promedio m\\u00f3vil \\u00faltimos 7 d\\u00edas\"}, {\"Dates\": \"2020-04-20\", \"New_deaths\": 0, \"Rolling\": 0.8571428571428571, \"Fallecimientos confirmados diarios\": \"Fallecimientos confirmados diarios\", \"Promedio m\\u00f3vil \\u00faltimos 7 d\\u00edas\": \"Promedio m\\u00f3vil \\u00faltimos 7 d\\u00edas\"}, {\"Dates\": \"2020-04-21\", \"New_deaths\": 0, \"Rolling\": 0.7142857142857143, \"Fallecimientos confirmados diarios\": \"Fallecimientos confirmados diarios\", \"Promedio m\\u00f3vil \\u00faltimos 7 d\\u00edas\": \"Promedio m\\u00f3vil \\u00faltimos 7 d\\u00edas\"}, {\"Dates\": \"2020-04-22\", \"New_deaths\": 0, \"Rolling\": 0.7142857142857143, \"Fallecimientos confirmados diarios\": \"Fallecimientos confirmados diarios\", \"Promedio m\\u00f3vil \\u00faltimos 7 d\\u00edas\": \"Promedio m\\u00f3vil \\u00faltimos 7 d\\u00edas\"}, {\"Dates\": \"2020-04-23\", \"New_deaths\": 0, \"Rolling\": 0.42857142857142855, \"Fallecimientos confirmados diarios\": \"Fallecimientos confirmados diarios\", \"Promedio m\\u00f3vil \\u00faltimos 7 d\\u00edas\": \"Promedio m\\u00f3vil \\u00faltimos 7 d\\u00edas\"}, {\"Dates\": \"2020-04-24\", \"New_deaths\": 1, \"Rolling\": 0.42857142857142855, \"Fallecimientos confirmados diarios\": \"Fallecimientos confirmados diarios\", \"Promedio m\\u00f3vil \\u00faltimos 7 d\\u00edas\": \"Promedio m\\u00f3vil \\u00faltimos 7 d\\u00edas\"}, {\"Dates\": \"2020-04-25\", \"New_deaths\": 0, \"Rolling\": 0.2857142857142857, \"Fallecimientos confirmados diarios\": \"Fallecimientos confirmados diarios\", \"Promedio m\\u00f3vil \\u00faltimos 7 d\\u00edas\": \"Promedio m\\u00f3vil \\u00faltimos 7 d\\u00edas\"}, {\"Dates\": \"2020-04-26\", \"New_deaths\": 0, \"Rolling\": 0.14285714285714285, \"Fallecimientos confirmados diarios\": \"Fallecimientos confirmados diarios\", \"Promedio m\\u00f3vil \\u00faltimos 7 d\\u00edas\": \"Promedio m\\u00f3vil \\u00faltimos 7 d\\u00edas\"}]}}, {\"mode\": \"vega-lite\"});\n",
       "</script>"
      ],
      "text/plain": [
       "alt.LayerChart(...)"
      ]
     },
     "execution_count": 63,
     "metadata": {},
     "output_type": "execute_result"
    }
   ],
   "source": [
    "#hide_input\n",
    "bars, line = my_deaths_plot(region)\n",
    "(bars + line).properties(\n",
    "    title=f'Covid-19 en Chile: Fallecimientos confirmados diarios en {region}',\n",
    "    width=600\n",
    ")"
   ]
  },
  {
   "cell_type": "markdown",
   "metadata": {},
   "source": [
    "## Biobío"
   ]
  },
  {
   "cell_type": "code",
   "execution_count": 64,
   "metadata": {
    "scrolled": true
   },
   "outputs": [],
   "source": [
    "#hide\n",
    "region = \"Biobío\""
   ]
  },
  {
   "cell_type": "code",
   "execution_count": 65,
   "metadata": {},
   "outputs": [
    {
     "data": {
      "text/html": [
       "\n",
       "<div id=\"altair-viz-50b2793335534203995cee67bfcda16b\"></div>\n",
       "<script type=\"text/javascript\">\n",
       "  (function(spec, embedOpt){\n",
       "    let outputDiv = document.currentScript.previousElementSibling;\n",
       "    if (outputDiv.id !== \"altair-viz-50b2793335534203995cee67bfcda16b\") {\n",
       "      outputDiv = document.getElementById(\"altair-viz-50b2793335534203995cee67bfcda16b\");\n",
       "    }\n",
       "    const paths = {\n",
       "      \"vega\": \"https://cdn.jsdelivr.net/npm//vega@5?noext\",\n",
       "      \"vega-lib\": \"https://cdn.jsdelivr.net/npm//vega-lib?noext\",\n",
       "      \"vega-lite\": \"https://cdn.jsdelivr.net/npm//vega-lite@4.8.1?noext\",\n",
       "      \"vega-embed\": \"https://cdn.jsdelivr.net/npm//vega-embed@6?noext\",\n",
       "    };\n",
       "\n",
       "    function loadScript(lib) {\n",
       "      return new Promise(function(resolve, reject) {\n",
       "        var s = document.createElement('script');\n",
       "        s.src = paths[lib];\n",
       "        s.async = true;\n",
       "        s.onload = () => resolve(paths[lib]);\n",
       "        s.onerror = () => reject(`Error loading script: ${paths[lib]}`);\n",
       "        document.getElementsByTagName(\"head\")[0].appendChild(s);\n",
       "      });\n",
       "    }\n",
       "\n",
       "    function showError(err) {\n",
       "      outputDiv.innerHTML = `<div class=\"error\" style=\"color:red;\">${err}</div>`;\n",
       "      throw err;\n",
       "    }\n",
       "\n",
       "    function displayChart(vegaEmbed) {\n",
       "      vegaEmbed(outputDiv, spec, embedOpt)\n",
       "        .catch(err => showError(`Javascript Error: ${err.message}<br>This usually means there's a typo in your chart specification. See the javascript console for the full traceback.`));\n",
       "    }\n",
       "\n",
       "    if(typeof define === \"function\" && define.amd) {\n",
       "      requirejs.config({paths});\n",
       "      require([\"vega-embed\"], displayChart, err => showError(`Error loading script: ${err.message}`));\n",
       "    } else if (typeof vegaEmbed === \"function\") {\n",
       "      displayChart(vegaEmbed);\n",
       "    } else {\n",
       "      loadScript(\"vega\")\n",
       "        .then(() => loadScript(\"vega-lite\"))\n",
       "        .then(() => loadScript(\"vega-embed\"))\n",
       "        .catch(showError)\n",
       "        .then(() => displayChart(vegaEmbed));\n",
       "    }\n",
       "  })({\"config\": {\"view\": {\"continuousWidth\": 400, \"continuousHeight\": 300}}, \"layer\": [{\"mark\": {\"type\": \"bar\", \"color\": \"firebrick\", \"opacity\": 0.7}, \"encoding\": {\"opacity\": {\"type\": \"nominal\", \"field\": \"Fallecimientos confirmados diarios\", \"legend\": {\"title\": \"\"}}, \"tooltip\": [{\"type\": \"nominal\", \"field\": \"Dates\"}, {\"type\": \"quantitative\", \"field\": \"New_deaths\"}], \"x\": {\"type\": \"nominal\", \"axis\": {\"title\": \"Fecha (a\\u00f1o-mes-d\\u00eda)\"}, \"field\": \"Dates\"}, \"y\": {\"type\": \"quantitative\", \"axis\": {\"title\": \"Fallecimientos confirmados diarios\"}, \"field\": \"New_deaths\"}}}, {\"mark\": {\"type\": \"line\", \"color\": \"firebrick\", \"point\": {\"filled\": true, \"fill\": \"firebrick\"}}, \"encoding\": {\"shape\": {\"type\": \"nominal\", \"field\": \"Promedio m\\u00f3vil \\u00faltimos 7 d\\u00edas\", \"legend\": {\"title\": \"\"}}, \"x\": {\"type\": \"nominal\", \"axis\": {\"title\": \"Fecha (a\\u00f1o-mes-d\\u00eda)\"}, \"field\": \"Dates\"}, \"y\": {\"type\": \"quantitative\", \"field\": \"Rolling\"}}}], \"data\": {\"name\": \"data-17d2cff6b4262f26147d8504f021db7e\"}, \"title\": \"Covid-19 en Chile: Fallecimientos confirmados diarios en Biob\\u00edo\", \"width\": 600, \"$schema\": \"https://vega.github.io/schema/vega-lite/v4.8.1.json\", \"datasets\": {\"data-17d2cff6b4262f26147d8504f021db7e\": [{\"Dates\": \"2020-03-25\", \"New_deaths\": 1, \"Rolling\": null, \"Fallecimientos confirmados diarios\": \"Fallecimientos confirmados diarios\", \"Promedio m\\u00f3vil \\u00faltimos 7 d\\u00edas\": \"Promedio m\\u00f3vil \\u00faltimos 7 d\\u00edas\"}, {\"Dates\": \"2020-03-26\", \"New_deaths\": 0, \"Rolling\": null, \"Fallecimientos confirmados diarios\": \"Fallecimientos confirmados diarios\", \"Promedio m\\u00f3vil \\u00faltimos 7 d\\u00edas\": \"Promedio m\\u00f3vil \\u00faltimos 7 d\\u00edas\"}, {\"Dates\": \"2020-03-27\", \"New_deaths\": 1, \"Rolling\": null, \"Fallecimientos confirmados diarios\": \"Fallecimientos confirmados diarios\", \"Promedio m\\u00f3vil \\u00faltimos 7 d\\u00edas\": \"Promedio m\\u00f3vil \\u00faltimos 7 d\\u00edas\"}, {\"Dates\": \"2020-03-28\", \"New_deaths\": 0, \"Rolling\": null, \"Fallecimientos confirmados diarios\": \"Fallecimientos confirmados diarios\", \"Promedio m\\u00f3vil \\u00faltimos 7 d\\u00edas\": \"Promedio m\\u00f3vil \\u00faltimos 7 d\\u00edas\"}, {\"Dates\": \"2020-03-29\", \"New_deaths\": 0, \"Rolling\": null, \"Fallecimientos confirmados diarios\": \"Fallecimientos confirmados diarios\", \"Promedio m\\u00f3vil \\u00faltimos 7 d\\u00edas\": \"Promedio m\\u00f3vil \\u00faltimos 7 d\\u00edas\"}, {\"Dates\": \"2020-03-30\", \"New_deaths\": 0, \"Rolling\": null, \"Fallecimientos confirmados diarios\": \"Fallecimientos confirmados diarios\", \"Promedio m\\u00f3vil \\u00faltimos 7 d\\u00edas\": \"Promedio m\\u00f3vil \\u00faltimos 7 d\\u00edas\"}, {\"Dates\": \"2020-03-31\", \"New_deaths\": 0, \"Rolling\": 0.2857142857142857, \"Fallecimientos confirmados diarios\": \"Fallecimientos confirmados diarios\", \"Promedio m\\u00f3vil \\u00faltimos 7 d\\u00edas\": \"Promedio m\\u00f3vil \\u00faltimos 7 d\\u00edas\"}, {\"Dates\": \"2020-04-01\", \"New_deaths\": 0, \"Rolling\": 0.14285714285714285, \"Fallecimientos confirmados diarios\": \"Fallecimientos confirmados diarios\", \"Promedio m\\u00f3vil \\u00faltimos 7 d\\u00edas\": \"Promedio m\\u00f3vil \\u00faltimos 7 d\\u00edas\"}, {\"Dates\": \"2020-04-02\", \"New_deaths\": 0, \"Rolling\": 0.14285714285714285, \"Fallecimientos confirmados diarios\": \"Fallecimientos confirmados diarios\", \"Promedio m\\u00f3vil \\u00faltimos 7 d\\u00edas\": \"Promedio m\\u00f3vil \\u00faltimos 7 d\\u00edas\"}, {\"Dates\": \"2020-04-03\", \"New_deaths\": 0, \"Rolling\": 0.0, \"Fallecimientos confirmados diarios\": \"Fallecimientos confirmados diarios\", \"Promedio m\\u00f3vil \\u00faltimos 7 d\\u00edas\": \"Promedio m\\u00f3vil \\u00faltimos 7 d\\u00edas\"}, {\"Dates\": \"2020-04-04\", \"New_deaths\": 0, \"Rolling\": 0.0, \"Fallecimientos confirmados diarios\": \"Fallecimientos confirmados diarios\", \"Promedio m\\u00f3vil \\u00faltimos 7 d\\u00edas\": \"Promedio m\\u00f3vil \\u00faltimos 7 d\\u00edas\"}, {\"Dates\": \"2020-04-05\", \"New_deaths\": 0, \"Rolling\": 0.0, \"Fallecimientos confirmados diarios\": \"Fallecimientos confirmados diarios\", \"Promedio m\\u00f3vil \\u00faltimos 7 d\\u00edas\": \"Promedio m\\u00f3vil \\u00faltimos 7 d\\u00edas\"}, {\"Dates\": \"2020-04-06\", \"New_deaths\": 0, \"Rolling\": 0.0, \"Fallecimientos confirmados diarios\": \"Fallecimientos confirmados diarios\", \"Promedio m\\u00f3vil \\u00faltimos 7 d\\u00edas\": \"Promedio m\\u00f3vil \\u00faltimos 7 d\\u00edas\"}, {\"Dates\": \"2020-04-07\", \"New_deaths\": 0, \"Rolling\": 0.0, \"Fallecimientos confirmados diarios\": \"Fallecimientos confirmados diarios\", \"Promedio m\\u00f3vil \\u00faltimos 7 d\\u00edas\": \"Promedio m\\u00f3vil \\u00faltimos 7 d\\u00edas\"}, {\"Dates\": \"2020-04-08\", \"New_deaths\": 0, \"Rolling\": 0.0, \"Fallecimientos confirmados diarios\": \"Fallecimientos confirmados diarios\", \"Promedio m\\u00f3vil \\u00faltimos 7 d\\u00edas\": \"Promedio m\\u00f3vil \\u00faltimos 7 d\\u00edas\"}, {\"Dates\": \"2020-04-09\", \"New_deaths\": 0, \"Rolling\": 0.0, \"Fallecimientos confirmados diarios\": \"Fallecimientos confirmados diarios\", \"Promedio m\\u00f3vil \\u00faltimos 7 d\\u00edas\": \"Promedio m\\u00f3vil \\u00faltimos 7 d\\u00edas\"}, {\"Dates\": \"2020-04-10\", \"New_deaths\": 0, \"Rolling\": 0.0, \"Fallecimientos confirmados diarios\": \"Fallecimientos confirmados diarios\", \"Promedio m\\u00f3vil \\u00faltimos 7 d\\u00edas\": \"Promedio m\\u00f3vil \\u00faltimos 7 d\\u00edas\"}, {\"Dates\": \"2020-04-11\", \"New_deaths\": 0, \"Rolling\": 0.0, \"Fallecimientos confirmados diarios\": \"Fallecimientos confirmados diarios\", \"Promedio m\\u00f3vil \\u00faltimos 7 d\\u00edas\": \"Promedio m\\u00f3vil \\u00faltimos 7 d\\u00edas\"}, {\"Dates\": \"2020-04-12\", \"New_deaths\": 0, \"Rolling\": 0.0, \"Fallecimientos confirmados diarios\": \"Fallecimientos confirmados diarios\", \"Promedio m\\u00f3vil \\u00faltimos 7 d\\u00edas\": \"Promedio m\\u00f3vil \\u00faltimos 7 d\\u00edas\"}, {\"Dates\": \"2020-04-13\", \"New_deaths\": 0, \"Rolling\": 0.0, \"Fallecimientos confirmados diarios\": \"Fallecimientos confirmados diarios\", \"Promedio m\\u00f3vil \\u00faltimos 7 d\\u00edas\": \"Promedio m\\u00f3vil \\u00faltimos 7 d\\u00edas\"}, {\"Dates\": \"2020-04-14\", \"New_deaths\": 0, \"Rolling\": 0.0, \"Fallecimientos confirmados diarios\": \"Fallecimientos confirmados diarios\", \"Promedio m\\u00f3vil \\u00faltimos 7 d\\u00edas\": \"Promedio m\\u00f3vil \\u00faltimos 7 d\\u00edas\"}, {\"Dates\": \"2020-04-15\", \"New_deaths\": 0, \"Rolling\": 0.0, \"Fallecimientos confirmados diarios\": \"Fallecimientos confirmados diarios\", \"Promedio m\\u00f3vil \\u00faltimos 7 d\\u00edas\": \"Promedio m\\u00f3vil \\u00faltimos 7 d\\u00edas\"}, {\"Dates\": \"2020-04-16\", \"New_deaths\": 0, \"Rolling\": 0.0, \"Fallecimientos confirmados diarios\": \"Fallecimientos confirmados diarios\", \"Promedio m\\u00f3vil \\u00faltimos 7 d\\u00edas\": \"Promedio m\\u00f3vil \\u00faltimos 7 d\\u00edas\"}, {\"Dates\": \"2020-04-17\", \"New_deaths\": 1, \"Rolling\": 0.14285714285714285, \"Fallecimientos confirmados diarios\": \"Fallecimientos confirmados diarios\", \"Promedio m\\u00f3vil \\u00faltimos 7 d\\u00edas\": \"Promedio m\\u00f3vil \\u00faltimos 7 d\\u00edas\"}, {\"Dates\": \"2020-04-18\", \"New_deaths\": 0, \"Rolling\": 0.14285714285714285, \"Fallecimientos confirmados diarios\": \"Fallecimientos confirmados diarios\", \"Promedio m\\u00f3vil \\u00faltimos 7 d\\u00edas\": \"Promedio m\\u00f3vil \\u00faltimos 7 d\\u00edas\"}, {\"Dates\": \"2020-04-19\", \"New_deaths\": 0, \"Rolling\": 0.14285714285714285, \"Fallecimientos confirmados diarios\": \"Fallecimientos confirmados diarios\", \"Promedio m\\u00f3vil \\u00faltimos 7 d\\u00edas\": \"Promedio m\\u00f3vil \\u00faltimos 7 d\\u00edas\"}, {\"Dates\": \"2020-04-20\", \"New_deaths\": 0, \"Rolling\": 0.14285714285714285, \"Fallecimientos confirmados diarios\": \"Fallecimientos confirmados diarios\", \"Promedio m\\u00f3vil \\u00faltimos 7 d\\u00edas\": \"Promedio m\\u00f3vil \\u00faltimos 7 d\\u00edas\"}, {\"Dates\": \"2020-04-21\", \"New_deaths\": 1, \"Rolling\": 0.2857142857142857, \"Fallecimientos confirmados diarios\": \"Fallecimientos confirmados diarios\", \"Promedio m\\u00f3vil \\u00faltimos 7 d\\u00edas\": \"Promedio m\\u00f3vil \\u00faltimos 7 d\\u00edas\"}, {\"Dates\": \"2020-04-22\", \"New_deaths\": 1, \"Rolling\": 0.42857142857142855, \"Fallecimientos confirmados diarios\": \"Fallecimientos confirmados diarios\", \"Promedio m\\u00f3vil \\u00faltimos 7 d\\u00edas\": \"Promedio m\\u00f3vil \\u00faltimos 7 d\\u00edas\"}, {\"Dates\": \"2020-04-23\", \"New_deaths\": 0, \"Rolling\": 0.42857142857142855, \"Fallecimientos confirmados diarios\": \"Fallecimientos confirmados diarios\", \"Promedio m\\u00f3vil \\u00faltimos 7 d\\u00edas\": \"Promedio m\\u00f3vil \\u00faltimos 7 d\\u00edas\"}, {\"Dates\": \"2020-04-24\", \"New_deaths\": 0, \"Rolling\": 0.2857142857142857, \"Fallecimientos confirmados diarios\": \"Fallecimientos confirmados diarios\", \"Promedio m\\u00f3vil \\u00faltimos 7 d\\u00edas\": \"Promedio m\\u00f3vil \\u00faltimos 7 d\\u00edas\"}, {\"Dates\": \"2020-04-25\", \"New_deaths\": 0, \"Rolling\": 0.2857142857142857, \"Fallecimientos confirmados diarios\": \"Fallecimientos confirmados diarios\", \"Promedio m\\u00f3vil \\u00faltimos 7 d\\u00edas\": \"Promedio m\\u00f3vil \\u00faltimos 7 d\\u00edas\"}, {\"Dates\": \"2020-04-26\", \"New_deaths\": 1, \"Rolling\": 0.42857142857142855, \"Fallecimientos confirmados diarios\": \"Fallecimientos confirmados diarios\", \"Promedio m\\u00f3vil \\u00faltimos 7 d\\u00edas\": \"Promedio m\\u00f3vil \\u00faltimos 7 d\\u00edas\"}]}}, {\"mode\": \"vega-lite\"});\n",
       "</script>"
      ],
      "text/plain": [
       "alt.LayerChart(...)"
      ]
     },
     "execution_count": 65,
     "metadata": {},
     "output_type": "execute_result"
    }
   ],
   "source": [
    "#hide_input\n",
    "bars, line = my_deaths_plot(region)\n",
    "(bars + line).properties(\n",
    "    title=f'Covid-19 en Chile: Fallecimientos confirmados diarios en {region}',\n",
    "    width=600\n",
    ")"
   ]
  },
  {
   "cell_type": "markdown",
   "metadata": {},
   "source": [
    "## Araucanía"
   ]
  },
  {
   "cell_type": "code",
   "execution_count": 66,
   "metadata": {
    "scrolled": true
   },
   "outputs": [],
   "source": [
    "#hide\n",
    "region = \"Araucanía\""
   ]
  },
  {
   "cell_type": "code",
   "execution_count": 67,
   "metadata": {},
   "outputs": [
    {
     "data": {
      "text/html": [
       "\n",
       "<div id=\"altair-viz-bc18cb7842ed459dab140abf623ca489\"></div>\n",
       "<script type=\"text/javascript\">\n",
       "  (function(spec, embedOpt){\n",
       "    let outputDiv = document.currentScript.previousElementSibling;\n",
       "    if (outputDiv.id !== \"altair-viz-bc18cb7842ed459dab140abf623ca489\") {\n",
       "      outputDiv = document.getElementById(\"altair-viz-bc18cb7842ed459dab140abf623ca489\");\n",
       "    }\n",
       "    const paths = {\n",
       "      \"vega\": \"https://cdn.jsdelivr.net/npm//vega@5?noext\",\n",
       "      \"vega-lib\": \"https://cdn.jsdelivr.net/npm//vega-lib?noext\",\n",
       "      \"vega-lite\": \"https://cdn.jsdelivr.net/npm//vega-lite@4.8.1?noext\",\n",
       "      \"vega-embed\": \"https://cdn.jsdelivr.net/npm//vega-embed@6?noext\",\n",
       "    };\n",
       "\n",
       "    function loadScript(lib) {\n",
       "      return new Promise(function(resolve, reject) {\n",
       "        var s = document.createElement('script');\n",
       "        s.src = paths[lib];\n",
       "        s.async = true;\n",
       "        s.onload = () => resolve(paths[lib]);\n",
       "        s.onerror = () => reject(`Error loading script: ${paths[lib]}`);\n",
       "        document.getElementsByTagName(\"head\")[0].appendChild(s);\n",
       "      });\n",
       "    }\n",
       "\n",
       "    function showError(err) {\n",
       "      outputDiv.innerHTML = `<div class=\"error\" style=\"color:red;\">${err}</div>`;\n",
       "      throw err;\n",
       "    }\n",
       "\n",
       "    function displayChart(vegaEmbed) {\n",
       "      vegaEmbed(outputDiv, spec, embedOpt)\n",
       "        .catch(err => showError(`Javascript Error: ${err.message}<br>This usually means there's a typo in your chart specification. See the javascript console for the full traceback.`));\n",
       "    }\n",
       "\n",
       "    if(typeof define === \"function\" && define.amd) {\n",
       "      requirejs.config({paths});\n",
       "      require([\"vega-embed\"], displayChart, err => showError(`Error loading script: ${err.message}`));\n",
       "    } else if (typeof vegaEmbed === \"function\") {\n",
       "      displayChart(vegaEmbed);\n",
       "    } else {\n",
       "      loadScript(\"vega\")\n",
       "        .then(() => loadScript(\"vega-lite\"))\n",
       "        .then(() => loadScript(\"vega-embed\"))\n",
       "        .catch(showError)\n",
       "        .then(() => displayChart(vegaEmbed));\n",
       "    }\n",
       "  })({\"config\": {\"view\": {\"continuousWidth\": 400, \"continuousHeight\": 300}}, \"layer\": [{\"mark\": {\"type\": \"bar\", \"color\": \"firebrick\", \"opacity\": 0.7}, \"encoding\": {\"opacity\": {\"type\": \"nominal\", \"field\": \"Fallecimientos confirmados diarios\", \"legend\": {\"title\": \"\"}}, \"tooltip\": [{\"type\": \"nominal\", \"field\": \"Dates\"}, {\"type\": \"quantitative\", \"field\": \"New_deaths\"}], \"x\": {\"type\": \"nominal\", \"axis\": {\"title\": \"Fecha (a\\u00f1o-mes-d\\u00eda)\"}, \"field\": \"Dates\"}, \"y\": {\"type\": \"quantitative\", \"axis\": {\"title\": \"Fallecimientos confirmados diarios\"}, \"field\": \"New_deaths\"}}}, {\"mark\": {\"type\": \"line\", \"color\": \"firebrick\", \"point\": {\"filled\": true, \"fill\": \"firebrick\"}}, \"encoding\": {\"shape\": {\"type\": \"nominal\", \"field\": \"Promedio m\\u00f3vil \\u00faltimos 7 d\\u00edas\", \"legend\": {\"title\": \"\"}}, \"x\": {\"type\": \"nominal\", \"axis\": {\"title\": \"Fecha (a\\u00f1o-mes-d\\u00eda)\"}, \"field\": \"Dates\"}, \"y\": {\"type\": \"quantitative\", \"field\": \"Rolling\"}}}], \"data\": {\"name\": \"data-f8e2badc3feb63300fdaeb18145eb942\"}, \"title\": \"Covid-19 en Chile: Fallecimientos confirmados diarios en Araucan\\u00eda\", \"width\": 600, \"$schema\": \"https://vega.github.io/schema/vega-lite/v4.8.1.json\", \"datasets\": {\"data-f8e2badc3feb63300fdaeb18145eb942\": [{\"Dates\": \"2020-03-25\", \"New_deaths\": 0, \"Rolling\": null, \"Fallecimientos confirmados diarios\": \"Fallecimientos confirmados diarios\", \"Promedio m\\u00f3vil \\u00faltimos 7 d\\u00edas\": \"Promedio m\\u00f3vil \\u00faltimos 7 d\\u00edas\"}, {\"Dates\": \"2020-03-26\", \"New_deaths\": 0, \"Rolling\": null, \"Fallecimientos confirmados diarios\": \"Fallecimientos confirmados diarios\", \"Promedio m\\u00f3vil \\u00faltimos 7 d\\u00edas\": \"Promedio m\\u00f3vil \\u00faltimos 7 d\\u00edas\"}, {\"Dates\": \"2020-03-27\", \"New_deaths\": 0, \"Rolling\": null, \"Fallecimientos confirmados diarios\": \"Fallecimientos confirmados diarios\", \"Promedio m\\u00f3vil \\u00faltimos 7 d\\u00edas\": \"Promedio m\\u00f3vil \\u00faltimos 7 d\\u00edas\"}, {\"Dates\": \"2020-03-28\", \"New_deaths\": 1, \"Rolling\": null, \"Fallecimientos confirmados diarios\": \"Fallecimientos confirmados diarios\", \"Promedio m\\u00f3vil \\u00faltimos 7 d\\u00edas\": \"Promedio m\\u00f3vil \\u00faltimos 7 d\\u00edas\"}, {\"Dates\": \"2020-03-29\", \"New_deaths\": 1, \"Rolling\": null, \"Fallecimientos confirmados diarios\": \"Fallecimientos confirmados diarios\", \"Promedio m\\u00f3vil \\u00faltimos 7 d\\u00edas\": \"Promedio m\\u00f3vil \\u00faltimos 7 d\\u00edas\"}, {\"Dates\": \"2020-03-30\", \"New_deaths\": 0, \"Rolling\": null, \"Fallecimientos confirmados diarios\": \"Fallecimientos confirmados diarios\", \"Promedio m\\u00f3vil \\u00faltimos 7 d\\u00edas\": \"Promedio m\\u00f3vil \\u00faltimos 7 d\\u00edas\"}, {\"Dates\": \"2020-03-31\", \"New_deaths\": 2, \"Rolling\": 0.5714285714285714, \"Fallecimientos confirmados diarios\": \"Fallecimientos confirmados diarios\", \"Promedio m\\u00f3vil \\u00faltimos 7 d\\u00edas\": \"Promedio m\\u00f3vil \\u00faltimos 7 d\\u00edas\"}, {\"Dates\": \"2020-04-01\", \"New_deaths\": 2, \"Rolling\": 0.8571428571428571, \"Fallecimientos confirmados diarios\": \"Fallecimientos confirmados diarios\", \"Promedio m\\u00f3vil \\u00faltimos 7 d\\u00edas\": \"Promedio m\\u00f3vil \\u00faltimos 7 d\\u00edas\"}, {\"Dates\": \"2020-04-02\", \"New_deaths\": 1, \"Rolling\": 1.0, \"Fallecimientos confirmados diarios\": \"Fallecimientos confirmados diarios\", \"Promedio m\\u00f3vil \\u00faltimos 7 d\\u00edas\": \"Promedio m\\u00f3vil \\u00faltimos 7 d\\u00edas\"}, {\"Dates\": \"2020-04-03\", \"New_deaths\": 0, \"Rolling\": 1.0, \"Fallecimientos confirmados diarios\": \"Fallecimientos confirmados diarios\", \"Promedio m\\u00f3vil \\u00faltimos 7 d\\u00edas\": \"Promedio m\\u00f3vil \\u00faltimos 7 d\\u00edas\"}, {\"Dates\": \"2020-04-04\", \"New_deaths\": 2, \"Rolling\": 1.1428571428571428, \"Fallecimientos confirmados diarios\": \"Fallecimientos confirmados diarios\", \"Promedio m\\u00f3vil \\u00faltimos 7 d\\u00edas\": \"Promedio m\\u00f3vil \\u00faltimos 7 d\\u00edas\"}, {\"Dates\": \"2020-04-05\", \"New_deaths\": 4, \"Rolling\": 1.5714285714285714, \"Fallecimientos confirmados diarios\": \"Fallecimientos confirmados diarios\", \"Promedio m\\u00f3vil \\u00faltimos 7 d\\u00edas\": \"Promedio m\\u00f3vil \\u00faltimos 7 d\\u00edas\"}, {\"Dates\": \"2020-04-06\", \"New_deaths\": 1, \"Rolling\": 1.7142857142857142, \"Fallecimientos confirmados diarios\": \"Fallecimientos confirmados diarios\", \"Promedio m\\u00f3vil \\u00faltimos 7 d\\u00edas\": \"Promedio m\\u00f3vil \\u00faltimos 7 d\\u00edas\"}, {\"Dates\": \"2020-04-07\", \"New_deaths\": 0, \"Rolling\": 1.4285714285714286, \"Fallecimientos confirmados diarios\": \"Fallecimientos confirmados diarios\", \"Promedio m\\u00f3vil \\u00faltimos 7 d\\u00edas\": \"Promedio m\\u00f3vil \\u00faltimos 7 d\\u00edas\"}, {\"Dates\": \"2020-04-08\", \"New_deaths\": 1, \"Rolling\": 1.2857142857142858, \"Fallecimientos confirmados diarios\": \"Fallecimientos confirmados diarios\", \"Promedio m\\u00f3vil \\u00faltimos 7 d\\u00edas\": \"Promedio m\\u00f3vil \\u00faltimos 7 d\\u00edas\"}, {\"Dates\": \"2020-04-09\", \"New_deaths\": 1, \"Rolling\": 1.2857142857142858, \"Fallecimientos confirmados diarios\": \"Fallecimientos confirmados diarios\", \"Promedio m\\u00f3vil \\u00faltimos 7 d\\u00edas\": \"Promedio m\\u00f3vil \\u00faltimos 7 d\\u00edas\"}, {\"Dates\": \"2020-04-10\", \"New_deaths\": 0, \"Rolling\": 1.2857142857142858, \"Fallecimientos confirmados diarios\": \"Fallecimientos confirmados diarios\", \"Promedio m\\u00f3vil \\u00faltimos 7 d\\u00edas\": \"Promedio m\\u00f3vil \\u00faltimos 7 d\\u00edas\"}, {\"Dates\": \"2020-04-11\", \"New_deaths\": 1, \"Rolling\": 1.1428571428571428, \"Fallecimientos confirmados diarios\": \"Fallecimientos confirmados diarios\", \"Promedio m\\u00f3vil \\u00faltimos 7 d\\u00edas\": \"Promedio m\\u00f3vil \\u00faltimos 7 d\\u00edas\"}, {\"Dates\": \"2020-04-12\", \"New_deaths\": 0, \"Rolling\": 0.5714285714285714, \"Fallecimientos confirmados diarios\": \"Fallecimientos confirmados diarios\", \"Promedio m\\u00f3vil \\u00faltimos 7 d\\u00edas\": \"Promedio m\\u00f3vil \\u00faltimos 7 d\\u00edas\"}, {\"Dates\": \"2020-04-13\", \"New_deaths\": 0, \"Rolling\": 0.42857142857142855, \"Fallecimientos confirmados diarios\": \"Fallecimientos confirmados diarios\", \"Promedio m\\u00f3vil \\u00faltimos 7 d\\u00edas\": \"Promedio m\\u00f3vil \\u00faltimos 7 d\\u00edas\"}, {\"Dates\": \"2020-04-14\", \"New_deaths\": 3, \"Rolling\": 0.8571428571428571, \"Fallecimientos confirmados diarios\": \"Fallecimientos confirmados diarios\", \"Promedio m\\u00f3vil \\u00faltimos 7 d\\u00edas\": \"Promedio m\\u00f3vil \\u00faltimos 7 d\\u00edas\"}, {\"Dates\": \"2020-04-15\", \"New_deaths\": 1, \"Rolling\": 0.8571428571428571, \"Fallecimientos confirmados diarios\": \"Fallecimientos confirmados diarios\", \"Promedio m\\u00f3vil \\u00faltimos 7 d\\u00edas\": \"Promedio m\\u00f3vil \\u00faltimos 7 d\\u00edas\"}, {\"Dates\": \"2020-04-16\", \"New_deaths\": 0, \"Rolling\": 0.7142857142857143, \"Fallecimientos confirmados diarios\": \"Fallecimientos confirmados diarios\", \"Promedio m\\u00f3vil \\u00faltimos 7 d\\u00edas\": \"Promedio m\\u00f3vil \\u00faltimos 7 d\\u00edas\"}, {\"Dates\": \"2020-04-17\", \"New_deaths\": 1, \"Rolling\": 0.8571428571428571, \"Fallecimientos confirmados diarios\": \"Fallecimientos confirmados diarios\", \"Promedio m\\u00f3vil \\u00faltimos 7 d\\u00edas\": \"Promedio m\\u00f3vil \\u00faltimos 7 d\\u00edas\"}, {\"Dates\": \"2020-04-18\", \"New_deaths\": 1, \"Rolling\": 0.8571428571428571, \"Fallecimientos confirmados diarios\": \"Fallecimientos confirmados diarios\", \"Promedio m\\u00f3vil \\u00faltimos 7 d\\u00edas\": \"Promedio m\\u00f3vil \\u00faltimos 7 d\\u00edas\"}, {\"Dates\": \"2020-04-19\", \"New_deaths\": 0, \"Rolling\": 0.8571428571428571, \"Fallecimientos confirmados diarios\": \"Fallecimientos confirmados diarios\", \"Promedio m\\u00f3vil \\u00faltimos 7 d\\u00edas\": \"Promedio m\\u00f3vil \\u00faltimos 7 d\\u00edas\"}, {\"Dates\": \"2020-04-20\", \"New_deaths\": 0, \"Rolling\": 0.8571428571428571, \"Fallecimientos confirmados diarios\": \"Fallecimientos confirmados diarios\", \"Promedio m\\u00f3vil \\u00faltimos 7 d\\u00edas\": \"Promedio m\\u00f3vil \\u00faltimos 7 d\\u00edas\"}, {\"Dates\": \"2020-04-21\", \"New_deaths\": 2, \"Rolling\": 0.7142857142857143, \"Fallecimientos confirmados diarios\": \"Fallecimientos confirmados diarios\", \"Promedio m\\u00f3vil \\u00faltimos 7 d\\u00edas\": \"Promedio m\\u00f3vil \\u00faltimos 7 d\\u00edas\"}, {\"Dates\": \"2020-04-22\", \"New_deaths\": 1, \"Rolling\": 0.7142857142857143, \"Fallecimientos confirmados diarios\": \"Fallecimientos confirmados diarios\", \"Promedio m\\u00f3vil \\u00faltimos 7 d\\u00edas\": \"Promedio m\\u00f3vil \\u00faltimos 7 d\\u00edas\"}, {\"Dates\": \"2020-04-23\", \"New_deaths\": 0, \"Rolling\": 0.7142857142857143, \"Fallecimientos confirmados diarios\": \"Fallecimientos confirmados diarios\", \"Promedio m\\u00f3vil \\u00faltimos 7 d\\u00edas\": \"Promedio m\\u00f3vil \\u00faltimos 7 d\\u00edas\"}, {\"Dates\": \"2020-04-24\", \"New_deaths\": 0, \"Rolling\": 0.5714285714285714, \"Fallecimientos confirmados diarios\": \"Fallecimientos confirmados diarios\", \"Promedio m\\u00f3vil \\u00faltimos 7 d\\u00edas\": \"Promedio m\\u00f3vil \\u00faltimos 7 d\\u00edas\"}, {\"Dates\": \"2020-04-25\", \"New_deaths\": 1, \"Rolling\": 0.5714285714285714, \"Fallecimientos confirmados diarios\": \"Fallecimientos confirmados diarios\", \"Promedio m\\u00f3vil \\u00faltimos 7 d\\u00edas\": \"Promedio m\\u00f3vil \\u00faltimos 7 d\\u00edas\"}, {\"Dates\": \"2020-04-26\", \"New_deaths\": 2, \"Rolling\": 0.8571428571428571, \"Fallecimientos confirmados diarios\": \"Fallecimientos confirmados diarios\", \"Promedio m\\u00f3vil \\u00faltimos 7 d\\u00edas\": \"Promedio m\\u00f3vil \\u00faltimos 7 d\\u00edas\"}]}}, {\"mode\": \"vega-lite\"});\n",
       "</script>"
      ],
      "text/plain": [
       "alt.LayerChart(...)"
      ]
     },
     "execution_count": 67,
     "metadata": {},
     "output_type": "execute_result"
    }
   ],
   "source": [
    "#hide_input\n",
    "bars, line = my_deaths_plot(region)\n",
    "(bars + line).properties(\n",
    "    title=f'Covid-19 en Chile: Fallecimientos confirmados diarios en {region}',\n",
    "    width=600\n",
    ")"
   ]
  },
  {
   "cell_type": "markdown",
   "metadata": {},
   "source": [
    "## Los Ríos"
   ]
  },
  {
   "cell_type": "code",
   "execution_count": 68,
   "metadata": {
    "scrolled": true
   },
   "outputs": [],
   "source": [
    "#hide\n",
    "region = \"Los Ríos\""
   ]
  },
  {
   "cell_type": "code",
   "execution_count": 69,
   "metadata": {},
   "outputs": [
    {
     "data": {
      "text/html": [
       "\n",
       "<div id=\"altair-viz-3785c1edbde8447db908767ded8fc7b4\"></div>\n",
       "<script type=\"text/javascript\">\n",
       "  (function(spec, embedOpt){\n",
       "    let outputDiv = document.currentScript.previousElementSibling;\n",
       "    if (outputDiv.id !== \"altair-viz-3785c1edbde8447db908767ded8fc7b4\") {\n",
       "      outputDiv = document.getElementById(\"altair-viz-3785c1edbde8447db908767ded8fc7b4\");\n",
       "    }\n",
       "    const paths = {\n",
       "      \"vega\": \"https://cdn.jsdelivr.net/npm//vega@5?noext\",\n",
       "      \"vega-lib\": \"https://cdn.jsdelivr.net/npm//vega-lib?noext\",\n",
       "      \"vega-lite\": \"https://cdn.jsdelivr.net/npm//vega-lite@4.8.1?noext\",\n",
       "      \"vega-embed\": \"https://cdn.jsdelivr.net/npm//vega-embed@6?noext\",\n",
       "    };\n",
       "\n",
       "    function loadScript(lib) {\n",
       "      return new Promise(function(resolve, reject) {\n",
       "        var s = document.createElement('script');\n",
       "        s.src = paths[lib];\n",
       "        s.async = true;\n",
       "        s.onload = () => resolve(paths[lib]);\n",
       "        s.onerror = () => reject(`Error loading script: ${paths[lib]}`);\n",
       "        document.getElementsByTagName(\"head\")[0].appendChild(s);\n",
       "      });\n",
       "    }\n",
       "\n",
       "    function showError(err) {\n",
       "      outputDiv.innerHTML = `<div class=\"error\" style=\"color:red;\">${err}</div>`;\n",
       "      throw err;\n",
       "    }\n",
       "\n",
       "    function displayChart(vegaEmbed) {\n",
       "      vegaEmbed(outputDiv, spec, embedOpt)\n",
       "        .catch(err => showError(`Javascript Error: ${err.message}<br>This usually means there's a typo in your chart specification. See the javascript console for the full traceback.`));\n",
       "    }\n",
       "\n",
       "    if(typeof define === \"function\" && define.amd) {\n",
       "      requirejs.config({paths});\n",
       "      require([\"vega-embed\"], displayChart, err => showError(`Error loading script: ${err.message}`));\n",
       "    } else if (typeof vegaEmbed === \"function\") {\n",
       "      displayChart(vegaEmbed);\n",
       "    } else {\n",
       "      loadScript(\"vega\")\n",
       "        .then(() => loadScript(\"vega-lite\"))\n",
       "        .then(() => loadScript(\"vega-embed\"))\n",
       "        .catch(showError)\n",
       "        .then(() => displayChart(vegaEmbed));\n",
       "    }\n",
       "  })({\"config\": {\"view\": {\"continuousWidth\": 400, \"continuousHeight\": 300}}, \"layer\": [{\"mark\": {\"type\": \"bar\", \"color\": \"firebrick\", \"opacity\": 0.7}, \"encoding\": {\"opacity\": {\"type\": \"nominal\", \"field\": \"Fallecimientos confirmados diarios\", \"legend\": {\"title\": \"\"}}, \"tooltip\": [{\"type\": \"nominal\", \"field\": \"Dates\"}, {\"type\": \"quantitative\", \"field\": \"New_deaths\"}], \"x\": {\"type\": \"nominal\", \"axis\": {\"title\": \"Fecha (a\\u00f1o-mes-d\\u00eda)\"}, \"field\": \"Dates\"}, \"y\": {\"type\": \"quantitative\", \"axis\": {\"title\": \"Fallecimientos confirmados diarios\"}, \"field\": \"New_deaths\"}}}, {\"mark\": {\"type\": \"line\", \"color\": \"firebrick\", \"point\": {\"filled\": true, \"fill\": \"firebrick\"}}, \"encoding\": {\"shape\": {\"type\": \"nominal\", \"field\": \"Promedio m\\u00f3vil \\u00faltimos 7 d\\u00edas\", \"legend\": {\"title\": \"\"}}, \"x\": {\"type\": \"nominal\", \"axis\": {\"title\": \"Fecha (a\\u00f1o-mes-d\\u00eda)\"}, \"field\": \"Dates\"}, \"y\": {\"type\": \"quantitative\", \"field\": \"Rolling\"}}}], \"data\": {\"name\": \"data-12c1924ba26517c16e54f393fe233fd4\"}, \"title\": \"Covid-19 en Chile: Fallecimientos confirmados diarios en Los R\\u00edos\", \"width\": 600, \"$schema\": \"https://vega.github.io/schema/vega-lite/v4.8.1.json\", \"datasets\": {\"data-12c1924ba26517c16e54f393fe233fd4\": [{\"Dates\": \"2020-03-25\", \"New_deaths\": 0, \"Rolling\": null, \"Fallecimientos confirmados diarios\": \"Fallecimientos confirmados diarios\", \"Promedio m\\u00f3vil \\u00faltimos 7 d\\u00edas\": \"Promedio m\\u00f3vil \\u00faltimos 7 d\\u00edas\"}, {\"Dates\": \"2020-03-26\", \"New_deaths\": 0, \"Rolling\": null, \"Fallecimientos confirmados diarios\": \"Fallecimientos confirmados diarios\", \"Promedio m\\u00f3vil \\u00faltimos 7 d\\u00edas\": \"Promedio m\\u00f3vil \\u00faltimos 7 d\\u00edas\"}, {\"Dates\": \"2020-03-27\", \"New_deaths\": 0, \"Rolling\": null, \"Fallecimientos confirmados diarios\": \"Fallecimientos confirmados diarios\", \"Promedio m\\u00f3vil \\u00faltimos 7 d\\u00edas\": \"Promedio m\\u00f3vil \\u00faltimos 7 d\\u00edas\"}, {\"Dates\": \"2020-03-28\", \"New_deaths\": 0, \"Rolling\": null, \"Fallecimientos confirmados diarios\": \"Fallecimientos confirmados diarios\", \"Promedio m\\u00f3vil \\u00faltimos 7 d\\u00edas\": \"Promedio m\\u00f3vil \\u00faltimos 7 d\\u00edas\"}, {\"Dates\": \"2020-03-29\", \"New_deaths\": 0, \"Rolling\": null, \"Fallecimientos confirmados diarios\": \"Fallecimientos confirmados diarios\", \"Promedio m\\u00f3vil \\u00faltimos 7 d\\u00edas\": \"Promedio m\\u00f3vil \\u00faltimos 7 d\\u00edas\"}, {\"Dates\": \"2020-03-30\", \"New_deaths\": 0, \"Rolling\": null, \"Fallecimientos confirmados diarios\": \"Fallecimientos confirmados diarios\", \"Promedio m\\u00f3vil \\u00faltimos 7 d\\u00edas\": \"Promedio m\\u00f3vil \\u00faltimos 7 d\\u00edas\"}, {\"Dates\": \"2020-03-31\", \"New_deaths\": 0, \"Rolling\": 0.0, \"Fallecimientos confirmados diarios\": \"Fallecimientos confirmados diarios\", \"Promedio m\\u00f3vil \\u00faltimos 7 d\\u00edas\": \"Promedio m\\u00f3vil \\u00faltimos 7 d\\u00edas\"}, {\"Dates\": \"2020-04-01\", \"New_deaths\": 1, \"Rolling\": 0.14285714285714285, \"Fallecimientos confirmados diarios\": \"Fallecimientos confirmados diarios\", \"Promedio m\\u00f3vil \\u00faltimos 7 d\\u00edas\": \"Promedio m\\u00f3vil \\u00faltimos 7 d\\u00edas\"}, {\"Dates\": \"2020-04-02\", \"New_deaths\": 0, \"Rolling\": 0.14285714285714285, \"Fallecimientos confirmados diarios\": \"Fallecimientos confirmados diarios\", \"Promedio m\\u00f3vil \\u00faltimos 7 d\\u00edas\": \"Promedio m\\u00f3vil \\u00faltimos 7 d\\u00edas\"}, {\"Dates\": \"2020-04-03\", \"New_deaths\": 0, \"Rolling\": 0.14285714285714285, \"Fallecimientos confirmados diarios\": \"Fallecimientos confirmados diarios\", \"Promedio m\\u00f3vil \\u00faltimos 7 d\\u00edas\": \"Promedio m\\u00f3vil \\u00faltimos 7 d\\u00edas\"}, {\"Dates\": \"2020-04-04\", \"New_deaths\": 0, \"Rolling\": 0.14285714285714285, \"Fallecimientos confirmados diarios\": \"Fallecimientos confirmados diarios\", \"Promedio m\\u00f3vil \\u00faltimos 7 d\\u00edas\": \"Promedio m\\u00f3vil \\u00faltimos 7 d\\u00edas\"}, {\"Dates\": \"2020-04-05\", \"New_deaths\": 0, \"Rolling\": 0.14285714285714285, \"Fallecimientos confirmados diarios\": \"Fallecimientos confirmados diarios\", \"Promedio m\\u00f3vil \\u00faltimos 7 d\\u00edas\": \"Promedio m\\u00f3vil \\u00faltimos 7 d\\u00edas\"}, {\"Dates\": \"2020-04-06\", \"New_deaths\": 0, \"Rolling\": 0.14285714285714285, \"Fallecimientos confirmados diarios\": \"Fallecimientos confirmados diarios\", \"Promedio m\\u00f3vil \\u00faltimos 7 d\\u00edas\": \"Promedio m\\u00f3vil \\u00faltimos 7 d\\u00edas\"}, {\"Dates\": \"2020-04-07\", \"New_deaths\": 1, \"Rolling\": 0.2857142857142857, \"Fallecimientos confirmados diarios\": \"Fallecimientos confirmados diarios\", \"Promedio m\\u00f3vil \\u00faltimos 7 d\\u00edas\": \"Promedio m\\u00f3vil \\u00faltimos 7 d\\u00edas\"}, {\"Dates\": \"2020-04-08\", \"New_deaths\": 0, \"Rolling\": 0.14285714285714285, \"Fallecimientos confirmados diarios\": \"Fallecimientos confirmados diarios\", \"Promedio m\\u00f3vil \\u00faltimos 7 d\\u00edas\": \"Promedio m\\u00f3vil \\u00faltimos 7 d\\u00edas\"}, {\"Dates\": \"2020-04-09\", \"New_deaths\": 0, \"Rolling\": 0.14285714285714285, \"Fallecimientos confirmados diarios\": \"Fallecimientos confirmados diarios\", \"Promedio m\\u00f3vil \\u00faltimos 7 d\\u00edas\": \"Promedio m\\u00f3vil \\u00faltimos 7 d\\u00edas\"}, {\"Dates\": \"2020-04-10\", \"New_deaths\": 0, \"Rolling\": 0.14285714285714285, \"Fallecimientos confirmados diarios\": \"Fallecimientos confirmados diarios\", \"Promedio m\\u00f3vil \\u00faltimos 7 d\\u00edas\": \"Promedio m\\u00f3vil \\u00faltimos 7 d\\u00edas\"}, {\"Dates\": \"2020-04-11\", \"New_deaths\": 0, \"Rolling\": 0.14285714285714285, \"Fallecimientos confirmados diarios\": \"Fallecimientos confirmados diarios\", \"Promedio m\\u00f3vil \\u00faltimos 7 d\\u00edas\": \"Promedio m\\u00f3vil \\u00faltimos 7 d\\u00edas\"}, {\"Dates\": \"2020-04-12\", \"New_deaths\": 1, \"Rolling\": 0.2857142857142857, \"Fallecimientos confirmados diarios\": \"Fallecimientos confirmados diarios\", \"Promedio m\\u00f3vil \\u00faltimos 7 d\\u00edas\": \"Promedio m\\u00f3vil \\u00faltimos 7 d\\u00edas\"}, {\"Dates\": \"2020-04-13\", \"New_deaths\": 0, \"Rolling\": 0.2857142857142857, \"Fallecimientos confirmados diarios\": \"Fallecimientos confirmados diarios\", \"Promedio m\\u00f3vil \\u00faltimos 7 d\\u00edas\": \"Promedio m\\u00f3vil \\u00faltimos 7 d\\u00edas\"}, {\"Dates\": \"2020-04-14\", \"New_deaths\": 0, \"Rolling\": 0.14285714285714285, \"Fallecimientos confirmados diarios\": \"Fallecimientos confirmados diarios\", \"Promedio m\\u00f3vil \\u00faltimos 7 d\\u00edas\": \"Promedio m\\u00f3vil \\u00faltimos 7 d\\u00edas\"}, {\"Dates\": \"2020-04-15\", \"New_deaths\": 0, \"Rolling\": 0.14285714285714285, \"Fallecimientos confirmados diarios\": \"Fallecimientos confirmados diarios\", \"Promedio m\\u00f3vil \\u00faltimos 7 d\\u00edas\": \"Promedio m\\u00f3vil \\u00faltimos 7 d\\u00edas\"}, {\"Dates\": \"2020-04-16\", \"New_deaths\": 0, \"Rolling\": 0.14285714285714285, \"Fallecimientos confirmados diarios\": \"Fallecimientos confirmados diarios\", \"Promedio m\\u00f3vil \\u00faltimos 7 d\\u00edas\": \"Promedio m\\u00f3vil \\u00faltimos 7 d\\u00edas\"}, {\"Dates\": \"2020-04-17\", \"New_deaths\": 0, \"Rolling\": 0.14285714285714285, \"Fallecimientos confirmados diarios\": \"Fallecimientos confirmados diarios\", \"Promedio m\\u00f3vil \\u00faltimos 7 d\\u00edas\": \"Promedio m\\u00f3vil \\u00faltimos 7 d\\u00edas\"}, {\"Dates\": \"2020-04-18\", \"New_deaths\": 0, \"Rolling\": 0.14285714285714285, \"Fallecimientos confirmados diarios\": \"Fallecimientos confirmados diarios\", \"Promedio m\\u00f3vil \\u00faltimos 7 d\\u00edas\": \"Promedio m\\u00f3vil \\u00faltimos 7 d\\u00edas\"}, {\"Dates\": \"2020-04-19\", \"New_deaths\": 0, \"Rolling\": 0.0, \"Fallecimientos confirmados diarios\": \"Fallecimientos confirmados diarios\", \"Promedio m\\u00f3vil \\u00faltimos 7 d\\u00edas\": \"Promedio m\\u00f3vil \\u00faltimos 7 d\\u00edas\"}, {\"Dates\": \"2020-04-20\", \"New_deaths\": 0, \"Rolling\": 0.0, \"Fallecimientos confirmados diarios\": \"Fallecimientos confirmados diarios\", \"Promedio m\\u00f3vil \\u00faltimos 7 d\\u00edas\": \"Promedio m\\u00f3vil \\u00faltimos 7 d\\u00edas\"}, {\"Dates\": \"2020-04-21\", \"New_deaths\": 0, \"Rolling\": 0.0, \"Fallecimientos confirmados diarios\": \"Fallecimientos confirmados diarios\", \"Promedio m\\u00f3vil \\u00faltimos 7 d\\u00edas\": \"Promedio m\\u00f3vil \\u00faltimos 7 d\\u00edas\"}, {\"Dates\": \"2020-04-22\", \"New_deaths\": 0, \"Rolling\": 0.0, \"Fallecimientos confirmados diarios\": \"Fallecimientos confirmados diarios\", \"Promedio m\\u00f3vil \\u00faltimos 7 d\\u00edas\": \"Promedio m\\u00f3vil \\u00faltimos 7 d\\u00edas\"}, {\"Dates\": \"2020-04-23\", \"New_deaths\": 0, \"Rolling\": 0.0, \"Fallecimientos confirmados diarios\": \"Fallecimientos confirmados diarios\", \"Promedio m\\u00f3vil \\u00faltimos 7 d\\u00edas\": \"Promedio m\\u00f3vil \\u00faltimos 7 d\\u00edas\"}, {\"Dates\": \"2020-04-24\", \"New_deaths\": 0, \"Rolling\": 0.0, \"Fallecimientos confirmados diarios\": \"Fallecimientos confirmados diarios\", \"Promedio m\\u00f3vil \\u00faltimos 7 d\\u00edas\": \"Promedio m\\u00f3vil \\u00faltimos 7 d\\u00edas\"}, {\"Dates\": \"2020-04-25\", \"New_deaths\": 0, \"Rolling\": 0.0, \"Fallecimientos confirmados diarios\": \"Fallecimientos confirmados diarios\", \"Promedio m\\u00f3vil \\u00faltimos 7 d\\u00edas\": \"Promedio m\\u00f3vil \\u00faltimos 7 d\\u00edas\"}, {\"Dates\": \"2020-04-26\", \"New_deaths\": 0, \"Rolling\": 0.0, \"Fallecimientos confirmados diarios\": \"Fallecimientos confirmados diarios\", \"Promedio m\\u00f3vil \\u00faltimos 7 d\\u00edas\": \"Promedio m\\u00f3vil \\u00faltimos 7 d\\u00edas\"}]}}, {\"mode\": \"vega-lite\"});\n",
       "</script>"
      ],
      "text/plain": [
       "alt.LayerChart(...)"
      ]
     },
     "execution_count": 69,
     "metadata": {},
     "output_type": "execute_result"
    }
   ],
   "source": [
    "#hide_input\n",
    "bars, line = my_deaths_plot(region)\n",
    "(bars + line).properties(\n",
    "    title=f'Covid-19 en Chile: Fallecimientos confirmados diarios en {region}',\n",
    "    width=600\n",
    ")"
   ]
  },
  {
   "cell_type": "markdown",
   "metadata": {},
   "source": [
    "## Los Lagos"
   ]
  },
  {
   "cell_type": "code",
   "execution_count": 70,
   "metadata": {
    "scrolled": true
   },
   "outputs": [],
   "source": [
    "#hide\n",
    "region = \"Los Lagos\""
   ]
  },
  {
   "cell_type": "code",
   "execution_count": 71,
   "metadata": {},
   "outputs": [
    {
     "data": {
      "text/html": [
       "\n",
       "<div id=\"altair-viz-649752edeb7b4ded86cd4527e4130a5e\"></div>\n",
       "<script type=\"text/javascript\">\n",
       "  (function(spec, embedOpt){\n",
       "    let outputDiv = document.currentScript.previousElementSibling;\n",
       "    if (outputDiv.id !== \"altair-viz-649752edeb7b4ded86cd4527e4130a5e\") {\n",
       "      outputDiv = document.getElementById(\"altair-viz-649752edeb7b4ded86cd4527e4130a5e\");\n",
       "    }\n",
       "    const paths = {\n",
       "      \"vega\": \"https://cdn.jsdelivr.net/npm//vega@5?noext\",\n",
       "      \"vega-lib\": \"https://cdn.jsdelivr.net/npm//vega-lib?noext\",\n",
       "      \"vega-lite\": \"https://cdn.jsdelivr.net/npm//vega-lite@4.8.1?noext\",\n",
       "      \"vega-embed\": \"https://cdn.jsdelivr.net/npm//vega-embed@6?noext\",\n",
       "    };\n",
       "\n",
       "    function loadScript(lib) {\n",
       "      return new Promise(function(resolve, reject) {\n",
       "        var s = document.createElement('script');\n",
       "        s.src = paths[lib];\n",
       "        s.async = true;\n",
       "        s.onload = () => resolve(paths[lib]);\n",
       "        s.onerror = () => reject(`Error loading script: ${paths[lib]}`);\n",
       "        document.getElementsByTagName(\"head\")[0].appendChild(s);\n",
       "      });\n",
       "    }\n",
       "\n",
       "    function showError(err) {\n",
       "      outputDiv.innerHTML = `<div class=\"error\" style=\"color:red;\">${err}</div>`;\n",
       "      throw err;\n",
       "    }\n",
       "\n",
       "    function displayChart(vegaEmbed) {\n",
       "      vegaEmbed(outputDiv, spec, embedOpt)\n",
       "        .catch(err => showError(`Javascript Error: ${err.message}<br>This usually means there's a typo in your chart specification. See the javascript console for the full traceback.`));\n",
       "    }\n",
       "\n",
       "    if(typeof define === \"function\" && define.amd) {\n",
       "      requirejs.config({paths});\n",
       "      require([\"vega-embed\"], displayChart, err => showError(`Error loading script: ${err.message}`));\n",
       "    } else if (typeof vegaEmbed === \"function\") {\n",
       "      displayChart(vegaEmbed);\n",
       "    } else {\n",
       "      loadScript(\"vega\")\n",
       "        .then(() => loadScript(\"vega-lite\"))\n",
       "        .then(() => loadScript(\"vega-embed\"))\n",
       "        .catch(showError)\n",
       "        .then(() => displayChart(vegaEmbed));\n",
       "    }\n",
       "  })({\"config\": {\"view\": {\"continuousWidth\": 400, \"continuousHeight\": 300}}, \"layer\": [{\"mark\": {\"type\": \"bar\", \"color\": \"firebrick\", \"opacity\": 0.7}, \"encoding\": {\"opacity\": {\"type\": \"nominal\", \"field\": \"Fallecimientos confirmados diarios\", \"legend\": {\"title\": \"\"}}, \"tooltip\": [{\"type\": \"nominal\", \"field\": \"Dates\"}, {\"type\": \"quantitative\", \"field\": \"New_deaths\"}], \"x\": {\"type\": \"nominal\", \"axis\": {\"title\": \"Fecha (a\\u00f1o-mes-d\\u00eda)\"}, \"field\": \"Dates\"}, \"y\": {\"type\": \"quantitative\", \"axis\": {\"title\": \"Fallecimientos confirmados diarios\"}, \"field\": \"New_deaths\"}}}, {\"mark\": {\"type\": \"line\", \"color\": \"firebrick\", \"point\": {\"filled\": true, \"fill\": \"firebrick\"}}, \"encoding\": {\"shape\": {\"type\": \"nominal\", \"field\": \"Promedio m\\u00f3vil \\u00faltimos 7 d\\u00edas\", \"legend\": {\"title\": \"\"}}, \"x\": {\"type\": \"nominal\", \"axis\": {\"title\": \"Fecha (a\\u00f1o-mes-d\\u00eda)\"}, \"field\": \"Dates\"}, \"y\": {\"type\": \"quantitative\", \"field\": \"Rolling\"}}}], \"data\": {\"name\": \"data-f813df7fb23f29f8100cab0ca1a4c305\"}, \"title\": \"Covid-19 en Chile: Fallecimientos confirmados diarios en Los Lagos\", \"width\": 600, \"$schema\": \"https://vega.github.io/schema/vega-lite/v4.8.1.json\", \"datasets\": {\"data-f813df7fb23f29f8100cab0ca1a4c305\": [{\"Dates\": \"2020-03-25\", \"New_deaths\": 0, \"Rolling\": null, \"Fallecimientos confirmados diarios\": \"Fallecimientos confirmados diarios\", \"Promedio m\\u00f3vil \\u00faltimos 7 d\\u00edas\": \"Promedio m\\u00f3vil \\u00faltimos 7 d\\u00edas\"}, {\"Dates\": \"2020-03-26\", \"New_deaths\": 0, \"Rolling\": null, \"Fallecimientos confirmados diarios\": \"Fallecimientos confirmados diarios\", \"Promedio m\\u00f3vil \\u00faltimos 7 d\\u00edas\": \"Promedio m\\u00f3vil \\u00faltimos 7 d\\u00edas\"}, {\"Dates\": \"2020-03-27\", \"New_deaths\": 0, \"Rolling\": null, \"Fallecimientos confirmados diarios\": \"Fallecimientos confirmados diarios\", \"Promedio m\\u00f3vil \\u00faltimos 7 d\\u00edas\": \"Promedio m\\u00f3vil \\u00faltimos 7 d\\u00edas\"}, {\"Dates\": \"2020-03-28\", \"New_deaths\": 0, \"Rolling\": null, \"Fallecimientos confirmados diarios\": \"Fallecimientos confirmados diarios\", \"Promedio m\\u00f3vil \\u00faltimos 7 d\\u00edas\": \"Promedio m\\u00f3vil \\u00faltimos 7 d\\u00edas\"}, {\"Dates\": \"2020-03-29\", \"New_deaths\": 0, \"Rolling\": null, \"Fallecimientos confirmados diarios\": \"Fallecimientos confirmados diarios\", \"Promedio m\\u00f3vil \\u00faltimos 7 d\\u00edas\": \"Promedio m\\u00f3vil \\u00faltimos 7 d\\u00edas\"}, {\"Dates\": \"2020-03-30\", \"New_deaths\": 0, \"Rolling\": null, \"Fallecimientos confirmados diarios\": \"Fallecimientos confirmados diarios\", \"Promedio m\\u00f3vil \\u00faltimos 7 d\\u00edas\": \"Promedio m\\u00f3vil \\u00faltimos 7 d\\u00edas\"}, {\"Dates\": \"2020-03-31\", \"New_deaths\": 0, \"Rolling\": 0.0, \"Fallecimientos confirmados diarios\": \"Fallecimientos confirmados diarios\", \"Promedio m\\u00f3vil \\u00faltimos 7 d\\u00edas\": \"Promedio m\\u00f3vil \\u00faltimos 7 d\\u00edas\"}, {\"Dates\": \"2020-04-01\", \"New_deaths\": 0, \"Rolling\": 0.0, \"Fallecimientos confirmados diarios\": \"Fallecimientos confirmados diarios\", \"Promedio m\\u00f3vil \\u00faltimos 7 d\\u00edas\": \"Promedio m\\u00f3vil \\u00faltimos 7 d\\u00edas\"}, {\"Dates\": \"2020-04-02\", \"New_deaths\": 0, \"Rolling\": 0.0, \"Fallecimientos confirmados diarios\": \"Fallecimientos confirmados diarios\", \"Promedio m\\u00f3vil \\u00faltimos 7 d\\u00edas\": \"Promedio m\\u00f3vil \\u00faltimos 7 d\\u00edas\"}, {\"Dates\": \"2020-04-03\", \"New_deaths\": 0, \"Rolling\": 0.0, \"Fallecimientos confirmados diarios\": \"Fallecimientos confirmados diarios\", \"Promedio m\\u00f3vil \\u00faltimos 7 d\\u00edas\": \"Promedio m\\u00f3vil \\u00faltimos 7 d\\u00edas\"}, {\"Dates\": \"2020-04-04\", \"New_deaths\": 0, \"Rolling\": 0.0, \"Fallecimientos confirmados diarios\": \"Fallecimientos confirmados diarios\", \"Promedio m\\u00f3vil \\u00faltimos 7 d\\u00edas\": \"Promedio m\\u00f3vil \\u00faltimos 7 d\\u00edas\"}, {\"Dates\": \"2020-04-05\", \"New_deaths\": 1, \"Rolling\": 0.14285714285714285, \"Fallecimientos confirmados diarios\": \"Fallecimientos confirmados diarios\", \"Promedio m\\u00f3vil \\u00faltimos 7 d\\u00edas\": \"Promedio m\\u00f3vil \\u00faltimos 7 d\\u00edas\"}, {\"Dates\": \"2020-04-06\", \"New_deaths\": 1, \"Rolling\": 0.2857142857142857, \"Fallecimientos confirmados diarios\": \"Fallecimientos confirmados diarios\", \"Promedio m\\u00f3vil \\u00faltimos 7 d\\u00edas\": \"Promedio m\\u00f3vil \\u00faltimos 7 d\\u00edas\"}, {\"Dates\": \"2020-04-07\", \"New_deaths\": 0, \"Rolling\": 0.2857142857142857, \"Fallecimientos confirmados diarios\": \"Fallecimientos confirmados diarios\", \"Promedio m\\u00f3vil \\u00faltimos 7 d\\u00edas\": \"Promedio m\\u00f3vil \\u00faltimos 7 d\\u00edas\"}, {\"Dates\": \"2020-04-08\", \"New_deaths\": 0, \"Rolling\": 0.2857142857142857, \"Fallecimientos confirmados diarios\": \"Fallecimientos confirmados diarios\", \"Promedio m\\u00f3vil \\u00faltimos 7 d\\u00edas\": \"Promedio m\\u00f3vil \\u00faltimos 7 d\\u00edas\"}, {\"Dates\": \"2020-04-09\", \"New_deaths\": 0, \"Rolling\": 0.2857142857142857, \"Fallecimientos confirmados diarios\": \"Fallecimientos confirmados diarios\", \"Promedio m\\u00f3vil \\u00faltimos 7 d\\u00edas\": \"Promedio m\\u00f3vil \\u00faltimos 7 d\\u00edas\"}, {\"Dates\": \"2020-04-10\", \"New_deaths\": 0, \"Rolling\": 0.2857142857142857, \"Fallecimientos confirmados diarios\": \"Fallecimientos confirmados diarios\", \"Promedio m\\u00f3vil \\u00faltimos 7 d\\u00edas\": \"Promedio m\\u00f3vil \\u00faltimos 7 d\\u00edas\"}, {\"Dates\": \"2020-04-11\", \"New_deaths\": 3, \"Rolling\": 0.7142857142857143, \"Fallecimientos confirmados diarios\": \"Fallecimientos confirmados diarios\", \"Promedio m\\u00f3vil \\u00faltimos 7 d\\u00edas\": \"Promedio m\\u00f3vil \\u00faltimos 7 d\\u00edas\"}, {\"Dates\": \"2020-04-12\", \"New_deaths\": 0, \"Rolling\": 0.5714285714285714, \"Fallecimientos confirmados diarios\": \"Fallecimientos confirmados diarios\", \"Promedio m\\u00f3vil \\u00faltimos 7 d\\u00edas\": \"Promedio m\\u00f3vil \\u00faltimos 7 d\\u00edas\"}, {\"Dates\": \"2020-04-13\", \"New_deaths\": 0, \"Rolling\": 0.42857142857142855, \"Fallecimientos confirmados diarios\": \"Fallecimientos confirmados diarios\", \"Promedio m\\u00f3vil \\u00faltimos 7 d\\u00edas\": \"Promedio m\\u00f3vil \\u00faltimos 7 d\\u00edas\"}, {\"Dates\": \"2020-04-14\", \"New_deaths\": 0, \"Rolling\": 0.42857142857142855, \"Fallecimientos confirmados diarios\": \"Fallecimientos confirmados diarios\", \"Promedio m\\u00f3vil \\u00faltimos 7 d\\u00edas\": \"Promedio m\\u00f3vil \\u00faltimos 7 d\\u00edas\"}, {\"Dates\": \"2020-04-15\", \"New_deaths\": 0, \"Rolling\": 0.42857142857142855, \"Fallecimientos confirmados diarios\": \"Fallecimientos confirmados diarios\", \"Promedio m\\u00f3vil \\u00faltimos 7 d\\u00edas\": \"Promedio m\\u00f3vil \\u00faltimos 7 d\\u00edas\"}, {\"Dates\": \"2020-04-16\", \"New_deaths\": 0, \"Rolling\": 0.42857142857142855, \"Fallecimientos confirmados diarios\": \"Fallecimientos confirmados diarios\", \"Promedio m\\u00f3vil \\u00faltimos 7 d\\u00edas\": \"Promedio m\\u00f3vil \\u00faltimos 7 d\\u00edas\"}, {\"Dates\": \"2020-04-17\", \"New_deaths\": 1, \"Rolling\": 0.5714285714285714, \"Fallecimientos confirmados diarios\": \"Fallecimientos confirmados diarios\", \"Promedio m\\u00f3vil \\u00faltimos 7 d\\u00edas\": \"Promedio m\\u00f3vil \\u00faltimos 7 d\\u00edas\"}, {\"Dates\": \"2020-04-18\", \"New_deaths\": 0, \"Rolling\": 0.14285714285714285, \"Fallecimientos confirmados diarios\": \"Fallecimientos confirmados diarios\", \"Promedio m\\u00f3vil \\u00faltimos 7 d\\u00edas\": \"Promedio m\\u00f3vil \\u00faltimos 7 d\\u00edas\"}, {\"Dates\": \"2020-04-19\", \"New_deaths\": 0, \"Rolling\": 0.14285714285714285, \"Fallecimientos confirmados diarios\": \"Fallecimientos confirmados diarios\", \"Promedio m\\u00f3vil \\u00faltimos 7 d\\u00edas\": \"Promedio m\\u00f3vil \\u00faltimos 7 d\\u00edas\"}, {\"Dates\": \"2020-04-20\", \"New_deaths\": 0, \"Rolling\": 0.14285714285714285, \"Fallecimientos confirmados diarios\": \"Fallecimientos confirmados diarios\", \"Promedio m\\u00f3vil \\u00faltimos 7 d\\u00edas\": \"Promedio m\\u00f3vil \\u00faltimos 7 d\\u00edas\"}, {\"Dates\": \"2020-04-21\", \"New_deaths\": 0, \"Rolling\": 0.14285714285714285, \"Fallecimientos confirmados diarios\": \"Fallecimientos confirmados diarios\", \"Promedio m\\u00f3vil \\u00faltimos 7 d\\u00edas\": \"Promedio m\\u00f3vil \\u00faltimos 7 d\\u00edas\"}, {\"Dates\": \"2020-04-22\", \"New_deaths\": 0, \"Rolling\": 0.14285714285714285, \"Fallecimientos confirmados diarios\": \"Fallecimientos confirmados diarios\", \"Promedio m\\u00f3vil \\u00faltimos 7 d\\u00edas\": \"Promedio m\\u00f3vil \\u00faltimos 7 d\\u00edas\"}, {\"Dates\": \"2020-04-23\", \"New_deaths\": 1, \"Rolling\": 0.2857142857142857, \"Fallecimientos confirmados diarios\": \"Fallecimientos confirmados diarios\", \"Promedio m\\u00f3vil \\u00faltimos 7 d\\u00edas\": \"Promedio m\\u00f3vil \\u00faltimos 7 d\\u00edas\"}, {\"Dates\": \"2020-04-24\", \"New_deaths\": 1, \"Rolling\": 0.2857142857142857, \"Fallecimientos confirmados diarios\": \"Fallecimientos confirmados diarios\", \"Promedio m\\u00f3vil \\u00faltimos 7 d\\u00edas\": \"Promedio m\\u00f3vil \\u00faltimos 7 d\\u00edas\"}, {\"Dates\": \"2020-04-25\", \"New_deaths\": 0, \"Rolling\": 0.2857142857142857, \"Fallecimientos confirmados diarios\": \"Fallecimientos confirmados diarios\", \"Promedio m\\u00f3vil \\u00faltimos 7 d\\u00edas\": \"Promedio m\\u00f3vil \\u00faltimos 7 d\\u00edas\"}, {\"Dates\": \"2020-04-26\", \"New_deaths\": 0, \"Rolling\": 0.2857142857142857, \"Fallecimientos confirmados diarios\": \"Fallecimientos confirmados diarios\", \"Promedio m\\u00f3vil \\u00faltimos 7 d\\u00edas\": \"Promedio m\\u00f3vil \\u00faltimos 7 d\\u00edas\"}]}}, {\"mode\": \"vega-lite\"});\n",
       "</script>"
      ],
      "text/plain": [
       "alt.LayerChart(...)"
      ]
     },
     "execution_count": 71,
     "metadata": {},
     "output_type": "execute_result"
    }
   ],
   "source": [
    "#hide_input\n",
    "bars, line = my_deaths_plot(region)\n",
    "(bars + line).properties(\n",
    "    title=f'Covid-19 en Chile: Fallecimientos confirmados diarios en {region}',\n",
    "    width=600\n",
    ")"
   ]
  },
  {
   "cell_type": "markdown",
   "metadata": {},
   "source": [
    "## Aysén"
   ]
  },
  {
   "cell_type": "code",
   "execution_count": 74,
   "metadata": {
    "scrolled": true
   },
   "outputs": [],
   "source": [
    "#hide\n",
    "region = \"Aysén\""
   ]
  },
  {
   "cell_type": "code",
   "execution_count": 75,
   "metadata": {
    "scrolled": false
   },
   "outputs": [
    {
     "data": {
      "text/html": [
       "\n",
       "<div id=\"altair-viz-8bf451902c5046c9931505e9087b0d36\"></div>\n",
       "<script type=\"text/javascript\">\n",
       "  (function(spec, embedOpt){\n",
       "    let outputDiv = document.currentScript.previousElementSibling;\n",
       "    if (outputDiv.id !== \"altair-viz-8bf451902c5046c9931505e9087b0d36\") {\n",
       "      outputDiv = document.getElementById(\"altair-viz-8bf451902c5046c9931505e9087b0d36\");\n",
       "    }\n",
       "    const paths = {\n",
       "      \"vega\": \"https://cdn.jsdelivr.net/npm//vega@5?noext\",\n",
       "      \"vega-lib\": \"https://cdn.jsdelivr.net/npm//vega-lib?noext\",\n",
       "      \"vega-lite\": \"https://cdn.jsdelivr.net/npm//vega-lite@4.8.1?noext\",\n",
       "      \"vega-embed\": \"https://cdn.jsdelivr.net/npm//vega-embed@6?noext\",\n",
       "    };\n",
       "\n",
       "    function loadScript(lib) {\n",
       "      return new Promise(function(resolve, reject) {\n",
       "        var s = document.createElement('script');\n",
       "        s.src = paths[lib];\n",
       "        s.async = true;\n",
       "        s.onload = () => resolve(paths[lib]);\n",
       "        s.onerror = () => reject(`Error loading script: ${paths[lib]}`);\n",
       "        document.getElementsByTagName(\"head\")[0].appendChild(s);\n",
       "      });\n",
       "    }\n",
       "\n",
       "    function showError(err) {\n",
       "      outputDiv.innerHTML = `<div class=\"error\" style=\"color:red;\">${err}</div>`;\n",
       "      throw err;\n",
       "    }\n",
       "\n",
       "    function displayChart(vegaEmbed) {\n",
       "      vegaEmbed(outputDiv, spec, embedOpt)\n",
       "        .catch(err => showError(`Javascript Error: ${err.message}<br>This usually means there's a typo in your chart specification. See the javascript console for the full traceback.`));\n",
       "    }\n",
       "\n",
       "    if(typeof define === \"function\" && define.amd) {\n",
       "      requirejs.config({paths});\n",
       "      require([\"vega-embed\"], displayChart, err => showError(`Error loading script: ${err.message}`));\n",
       "    } else if (typeof vegaEmbed === \"function\") {\n",
       "      displayChart(vegaEmbed);\n",
       "    } else {\n",
       "      loadScript(\"vega\")\n",
       "        .then(() => loadScript(\"vega-lite\"))\n",
       "        .then(() => loadScript(\"vega-embed\"))\n",
       "        .catch(showError)\n",
       "        .then(() => displayChart(vegaEmbed));\n",
       "    }\n",
       "  })({\"config\": {\"view\": {\"continuousWidth\": 400, \"continuousHeight\": 300}}, \"layer\": [{\"mark\": {\"type\": \"bar\", \"color\": \"firebrick\", \"opacity\": 0.7}, \"encoding\": {\"opacity\": {\"type\": \"nominal\", \"field\": \"Fallecimientos confirmados diarios\", \"legend\": {\"title\": \"\"}}, \"tooltip\": [{\"type\": \"nominal\", \"field\": \"Dates\"}, {\"type\": \"quantitative\", \"field\": \"New_deaths\"}], \"x\": {\"type\": \"nominal\", \"axis\": {\"title\": \"Fecha (a\\u00f1o-mes-d\\u00eda)\"}, \"field\": \"Dates\"}, \"y\": {\"type\": \"quantitative\", \"axis\": {\"title\": \"Fallecimientos confirmados diarios\"}, \"field\": \"New_deaths\"}}}, {\"mark\": {\"type\": \"line\", \"color\": \"firebrick\", \"point\": {\"filled\": true, \"fill\": \"firebrick\"}}, \"encoding\": {\"shape\": {\"type\": \"nominal\", \"field\": \"Promedio m\\u00f3vil \\u00faltimos 7 d\\u00edas\", \"legend\": {\"title\": \"\"}}, \"x\": {\"type\": \"nominal\", \"axis\": {\"title\": \"Fecha (a\\u00f1o-mes-d\\u00eda)\"}, \"field\": \"Dates\"}, \"y\": {\"type\": \"quantitative\", \"field\": \"Rolling\"}}}], \"data\": {\"name\": \"data-fd76c7d37961c122c25565fbf5ed2eaa\"}, \"title\": \"Covid-19 en Chile: Fallecimientos confirmados diarios en Ays\\u00e9n\", \"width\": 600, \"$schema\": \"https://vega.github.io/schema/vega-lite/v4.8.1.json\", \"datasets\": {\"data-fd76c7d37961c122c25565fbf5ed2eaa\": [{\"Dates\": \"2020-03-25\", \"New_deaths\": 0, \"Rolling\": null, \"Fallecimientos confirmados diarios\": \"Fallecimientos confirmados diarios\", \"Promedio m\\u00f3vil \\u00faltimos 7 d\\u00edas\": \"Promedio m\\u00f3vil \\u00faltimos 7 d\\u00edas\"}, {\"Dates\": \"2020-03-26\", \"New_deaths\": 0, \"Rolling\": null, \"Fallecimientos confirmados diarios\": \"Fallecimientos confirmados diarios\", \"Promedio m\\u00f3vil \\u00faltimos 7 d\\u00edas\": \"Promedio m\\u00f3vil \\u00faltimos 7 d\\u00edas\"}, {\"Dates\": \"2020-03-27\", \"New_deaths\": 0, \"Rolling\": null, \"Fallecimientos confirmados diarios\": \"Fallecimientos confirmados diarios\", \"Promedio m\\u00f3vil \\u00faltimos 7 d\\u00edas\": \"Promedio m\\u00f3vil \\u00faltimos 7 d\\u00edas\"}, {\"Dates\": \"2020-03-28\", \"New_deaths\": 0, \"Rolling\": null, \"Fallecimientos confirmados diarios\": \"Fallecimientos confirmados diarios\", \"Promedio m\\u00f3vil \\u00faltimos 7 d\\u00edas\": \"Promedio m\\u00f3vil \\u00faltimos 7 d\\u00edas\"}, {\"Dates\": \"2020-03-29\", \"New_deaths\": 0, \"Rolling\": null, \"Fallecimientos confirmados diarios\": \"Fallecimientos confirmados diarios\", \"Promedio m\\u00f3vil \\u00faltimos 7 d\\u00edas\": \"Promedio m\\u00f3vil \\u00faltimos 7 d\\u00edas\"}, {\"Dates\": \"2020-03-30\", \"New_deaths\": 0, \"Rolling\": null, \"Fallecimientos confirmados diarios\": \"Fallecimientos confirmados diarios\", \"Promedio m\\u00f3vil \\u00faltimos 7 d\\u00edas\": \"Promedio m\\u00f3vil \\u00faltimos 7 d\\u00edas\"}, {\"Dates\": \"2020-03-31\", \"New_deaths\": 0, \"Rolling\": 0.0, \"Fallecimientos confirmados diarios\": \"Fallecimientos confirmados diarios\", \"Promedio m\\u00f3vil \\u00faltimos 7 d\\u00edas\": \"Promedio m\\u00f3vil \\u00faltimos 7 d\\u00edas\"}, {\"Dates\": \"2020-04-01\", \"New_deaths\": 0, \"Rolling\": 0.0, \"Fallecimientos confirmados diarios\": \"Fallecimientos confirmados diarios\", \"Promedio m\\u00f3vil \\u00faltimos 7 d\\u00edas\": \"Promedio m\\u00f3vil \\u00faltimos 7 d\\u00edas\"}, {\"Dates\": \"2020-04-02\", \"New_deaths\": 0, \"Rolling\": 0.0, \"Fallecimientos confirmados diarios\": \"Fallecimientos confirmados diarios\", \"Promedio m\\u00f3vil \\u00faltimos 7 d\\u00edas\": \"Promedio m\\u00f3vil \\u00faltimos 7 d\\u00edas\"}, {\"Dates\": \"2020-04-03\", \"New_deaths\": 0, \"Rolling\": 0.0, \"Fallecimientos confirmados diarios\": \"Fallecimientos confirmados diarios\", \"Promedio m\\u00f3vil \\u00faltimos 7 d\\u00edas\": \"Promedio m\\u00f3vil \\u00faltimos 7 d\\u00edas\"}, {\"Dates\": \"2020-04-04\", \"New_deaths\": 0, \"Rolling\": 0.0, \"Fallecimientos confirmados diarios\": \"Fallecimientos confirmados diarios\", \"Promedio m\\u00f3vil \\u00faltimos 7 d\\u00edas\": \"Promedio m\\u00f3vil \\u00faltimos 7 d\\u00edas\"}, {\"Dates\": \"2020-04-05\", \"New_deaths\": 0, \"Rolling\": 0.0, \"Fallecimientos confirmados diarios\": \"Fallecimientos confirmados diarios\", \"Promedio m\\u00f3vil \\u00faltimos 7 d\\u00edas\": \"Promedio m\\u00f3vil \\u00faltimos 7 d\\u00edas\"}, {\"Dates\": \"2020-04-06\", \"New_deaths\": 0, \"Rolling\": 0.0, \"Fallecimientos confirmados diarios\": \"Fallecimientos confirmados diarios\", \"Promedio m\\u00f3vil \\u00faltimos 7 d\\u00edas\": \"Promedio m\\u00f3vil \\u00faltimos 7 d\\u00edas\"}, {\"Dates\": \"2020-04-07\", \"New_deaths\": 0, \"Rolling\": 0.0, \"Fallecimientos confirmados diarios\": \"Fallecimientos confirmados diarios\", \"Promedio m\\u00f3vil \\u00faltimos 7 d\\u00edas\": \"Promedio m\\u00f3vil \\u00faltimos 7 d\\u00edas\"}, {\"Dates\": \"2020-04-08\", \"New_deaths\": 0, \"Rolling\": 0.0, \"Fallecimientos confirmados diarios\": \"Fallecimientos confirmados diarios\", \"Promedio m\\u00f3vil \\u00faltimos 7 d\\u00edas\": \"Promedio m\\u00f3vil \\u00faltimos 7 d\\u00edas\"}, {\"Dates\": \"2020-04-09\", \"New_deaths\": 0, \"Rolling\": 0.0, \"Fallecimientos confirmados diarios\": \"Fallecimientos confirmados diarios\", \"Promedio m\\u00f3vil \\u00faltimos 7 d\\u00edas\": \"Promedio m\\u00f3vil \\u00faltimos 7 d\\u00edas\"}, {\"Dates\": \"2020-04-10\", \"New_deaths\": 0, \"Rolling\": 0.0, \"Fallecimientos confirmados diarios\": \"Fallecimientos confirmados diarios\", \"Promedio m\\u00f3vil \\u00faltimos 7 d\\u00edas\": \"Promedio m\\u00f3vil \\u00faltimos 7 d\\u00edas\"}, {\"Dates\": \"2020-04-11\", \"New_deaths\": 0, \"Rolling\": 0.0, \"Fallecimientos confirmados diarios\": \"Fallecimientos confirmados diarios\", \"Promedio m\\u00f3vil \\u00faltimos 7 d\\u00edas\": \"Promedio m\\u00f3vil \\u00faltimos 7 d\\u00edas\"}, {\"Dates\": \"2020-04-12\", \"New_deaths\": 0, \"Rolling\": 0.0, \"Fallecimientos confirmados diarios\": \"Fallecimientos confirmados diarios\", \"Promedio m\\u00f3vil \\u00faltimos 7 d\\u00edas\": \"Promedio m\\u00f3vil \\u00faltimos 7 d\\u00edas\"}, {\"Dates\": \"2020-04-13\", \"New_deaths\": 0, \"Rolling\": 0.0, \"Fallecimientos confirmados diarios\": \"Fallecimientos confirmados diarios\", \"Promedio m\\u00f3vil \\u00faltimos 7 d\\u00edas\": \"Promedio m\\u00f3vil \\u00faltimos 7 d\\u00edas\"}, {\"Dates\": \"2020-04-14\", \"New_deaths\": 0, \"Rolling\": 0.0, \"Fallecimientos confirmados diarios\": \"Fallecimientos confirmados diarios\", \"Promedio m\\u00f3vil \\u00faltimos 7 d\\u00edas\": \"Promedio m\\u00f3vil \\u00faltimos 7 d\\u00edas\"}, {\"Dates\": \"2020-04-15\", \"New_deaths\": 0, \"Rolling\": 0.0, \"Fallecimientos confirmados diarios\": \"Fallecimientos confirmados diarios\", \"Promedio m\\u00f3vil \\u00faltimos 7 d\\u00edas\": \"Promedio m\\u00f3vil \\u00faltimos 7 d\\u00edas\"}, {\"Dates\": \"2020-04-16\", \"New_deaths\": 0, \"Rolling\": 0.0, \"Fallecimientos confirmados diarios\": \"Fallecimientos confirmados diarios\", \"Promedio m\\u00f3vil \\u00faltimos 7 d\\u00edas\": \"Promedio m\\u00f3vil \\u00faltimos 7 d\\u00edas\"}, {\"Dates\": \"2020-04-17\", \"New_deaths\": 0, \"Rolling\": 0.0, \"Fallecimientos confirmados diarios\": \"Fallecimientos confirmados diarios\", \"Promedio m\\u00f3vil \\u00faltimos 7 d\\u00edas\": \"Promedio m\\u00f3vil \\u00faltimos 7 d\\u00edas\"}, {\"Dates\": \"2020-04-18\", \"New_deaths\": 0, \"Rolling\": 0.0, \"Fallecimientos confirmados diarios\": \"Fallecimientos confirmados diarios\", \"Promedio m\\u00f3vil \\u00faltimos 7 d\\u00edas\": \"Promedio m\\u00f3vil \\u00faltimos 7 d\\u00edas\"}, {\"Dates\": \"2020-04-19\", \"New_deaths\": 0, \"Rolling\": 0.0, \"Fallecimientos confirmados diarios\": \"Fallecimientos confirmados diarios\", \"Promedio m\\u00f3vil \\u00faltimos 7 d\\u00edas\": \"Promedio m\\u00f3vil \\u00faltimos 7 d\\u00edas\"}, {\"Dates\": \"2020-04-20\", \"New_deaths\": 0, \"Rolling\": 0.0, \"Fallecimientos confirmados diarios\": \"Fallecimientos confirmados diarios\", \"Promedio m\\u00f3vil \\u00faltimos 7 d\\u00edas\": \"Promedio m\\u00f3vil \\u00faltimos 7 d\\u00edas\"}, {\"Dates\": \"2020-04-21\", \"New_deaths\": 0, \"Rolling\": 0.0, \"Fallecimientos confirmados diarios\": \"Fallecimientos confirmados diarios\", \"Promedio m\\u00f3vil \\u00faltimos 7 d\\u00edas\": \"Promedio m\\u00f3vil \\u00faltimos 7 d\\u00edas\"}, {\"Dates\": \"2020-04-22\", \"New_deaths\": 0, \"Rolling\": 0.0, \"Fallecimientos confirmados diarios\": \"Fallecimientos confirmados diarios\", \"Promedio m\\u00f3vil \\u00faltimos 7 d\\u00edas\": \"Promedio m\\u00f3vil \\u00faltimos 7 d\\u00edas\"}, {\"Dates\": \"2020-04-23\", \"New_deaths\": 0, \"Rolling\": 0.0, \"Fallecimientos confirmados diarios\": \"Fallecimientos confirmados diarios\", \"Promedio m\\u00f3vil \\u00faltimos 7 d\\u00edas\": \"Promedio m\\u00f3vil \\u00faltimos 7 d\\u00edas\"}, {\"Dates\": \"2020-04-24\", \"New_deaths\": 0, \"Rolling\": 0.0, \"Fallecimientos confirmados diarios\": \"Fallecimientos confirmados diarios\", \"Promedio m\\u00f3vil \\u00faltimos 7 d\\u00edas\": \"Promedio m\\u00f3vil \\u00faltimos 7 d\\u00edas\"}, {\"Dates\": \"2020-04-25\", \"New_deaths\": 0, \"Rolling\": 0.0, \"Fallecimientos confirmados diarios\": \"Fallecimientos confirmados diarios\", \"Promedio m\\u00f3vil \\u00faltimos 7 d\\u00edas\": \"Promedio m\\u00f3vil \\u00faltimos 7 d\\u00edas\"}, {\"Dates\": \"2020-04-26\", \"New_deaths\": 0, \"Rolling\": 0.0, \"Fallecimientos confirmados diarios\": \"Fallecimientos confirmados diarios\", \"Promedio m\\u00f3vil \\u00faltimos 7 d\\u00edas\": \"Promedio m\\u00f3vil \\u00faltimos 7 d\\u00edas\"}]}}, {\"mode\": \"vega-lite\"});\n",
       "</script>"
      ],
      "text/plain": [
       "alt.LayerChart(...)"
      ]
     },
     "execution_count": 75,
     "metadata": {},
     "output_type": "execute_result"
    }
   ],
   "source": [
    "#hide_input\n",
    "bars, line = my_deaths_plot(region)\n",
    "(bars + line).properties(\n",
    "    title=f'Covid-19 en Chile: Fallecimientos confirmados diarios en {region}',\n",
    "    width=600\n",
    ")"
   ]
  },
  {
   "cell_type": "markdown",
   "metadata": {},
   "source": [
    "## Magallanes"
   ]
  },
  {
   "cell_type": "code",
   "execution_count": 72,
   "metadata": {
    "scrolled": true
   },
   "outputs": [],
   "source": [
    "#hide\n",
    "region = \"Magallanes\""
   ]
  },
  {
   "cell_type": "code",
   "execution_count": 73,
   "metadata": {
    "scrolled": true
   },
   "outputs": [
    {
     "data": {
      "text/html": [
       "\n",
       "<div id=\"altair-viz-a686c007b4294b7eb0a09419d8b1c5b8\"></div>\n",
       "<script type=\"text/javascript\">\n",
       "  (function(spec, embedOpt){\n",
       "    let outputDiv = document.currentScript.previousElementSibling;\n",
       "    if (outputDiv.id !== \"altair-viz-a686c007b4294b7eb0a09419d8b1c5b8\") {\n",
       "      outputDiv = document.getElementById(\"altair-viz-a686c007b4294b7eb0a09419d8b1c5b8\");\n",
       "    }\n",
       "    const paths = {\n",
       "      \"vega\": \"https://cdn.jsdelivr.net/npm//vega@5?noext\",\n",
       "      \"vega-lib\": \"https://cdn.jsdelivr.net/npm//vega-lib?noext\",\n",
       "      \"vega-lite\": \"https://cdn.jsdelivr.net/npm//vega-lite@4.8.1?noext\",\n",
       "      \"vega-embed\": \"https://cdn.jsdelivr.net/npm//vega-embed@6?noext\",\n",
       "    };\n",
       "\n",
       "    function loadScript(lib) {\n",
       "      return new Promise(function(resolve, reject) {\n",
       "        var s = document.createElement('script');\n",
       "        s.src = paths[lib];\n",
       "        s.async = true;\n",
       "        s.onload = () => resolve(paths[lib]);\n",
       "        s.onerror = () => reject(`Error loading script: ${paths[lib]}`);\n",
       "        document.getElementsByTagName(\"head\")[0].appendChild(s);\n",
       "      });\n",
       "    }\n",
       "\n",
       "    function showError(err) {\n",
       "      outputDiv.innerHTML = `<div class=\"error\" style=\"color:red;\">${err}</div>`;\n",
       "      throw err;\n",
       "    }\n",
       "\n",
       "    function displayChart(vegaEmbed) {\n",
       "      vegaEmbed(outputDiv, spec, embedOpt)\n",
       "        .catch(err => showError(`Javascript Error: ${err.message}<br>This usually means there's a typo in your chart specification. See the javascript console for the full traceback.`));\n",
       "    }\n",
       "\n",
       "    if(typeof define === \"function\" && define.amd) {\n",
       "      requirejs.config({paths});\n",
       "      require([\"vega-embed\"], displayChart, err => showError(`Error loading script: ${err.message}`));\n",
       "    } else if (typeof vegaEmbed === \"function\") {\n",
       "      displayChart(vegaEmbed);\n",
       "    } else {\n",
       "      loadScript(\"vega\")\n",
       "        .then(() => loadScript(\"vega-lite\"))\n",
       "        .then(() => loadScript(\"vega-embed\"))\n",
       "        .catch(showError)\n",
       "        .then(() => displayChart(vegaEmbed));\n",
       "    }\n",
       "  })({\"config\": {\"view\": {\"continuousWidth\": 400, \"continuousHeight\": 300}}, \"layer\": [{\"mark\": {\"type\": \"bar\", \"color\": \"firebrick\", \"opacity\": 0.7}, \"encoding\": {\"opacity\": {\"type\": \"nominal\", \"field\": \"Fallecimientos confirmados diarios\", \"legend\": {\"title\": \"\"}}, \"tooltip\": [{\"type\": \"nominal\", \"field\": \"Dates\"}, {\"type\": \"quantitative\", \"field\": \"New_deaths\"}], \"x\": {\"type\": \"nominal\", \"axis\": {\"title\": \"Fecha (a\\u00f1o-mes-d\\u00eda)\"}, \"field\": \"Dates\"}, \"y\": {\"type\": \"quantitative\", \"axis\": {\"title\": \"Fallecimientos confirmados diarios\"}, \"field\": \"New_deaths\"}}}, {\"mark\": {\"type\": \"line\", \"color\": \"firebrick\", \"point\": {\"filled\": true, \"fill\": \"firebrick\"}}, \"encoding\": {\"shape\": {\"type\": \"nominal\", \"field\": \"Promedio m\\u00f3vil \\u00faltimos 7 d\\u00edas\", \"legend\": {\"title\": \"\"}}, \"x\": {\"type\": \"nominal\", \"axis\": {\"title\": \"Fecha (a\\u00f1o-mes-d\\u00eda)\"}, \"field\": \"Dates\"}, \"y\": {\"type\": \"quantitative\", \"field\": \"Rolling\"}}}], \"data\": {\"name\": \"data-7d1d5e14c6ee0ec90009a13b2d335e97\"}, \"title\": \"Covid-19 en Chile: Fallecimientos confirmados diarios en Magallanes\", \"width\": 600, \"$schema\": \"https://vega.github.io/schema/vega-lite/v4.8.1.json\", \"datasets\": {\"data-7d1d5e14c6ee0ec90009a13b2d335e97\": [{\"Dates\": \"2020-03-25\", \"New_deaths\": 0, \"Rolling\": null, \"Fallecimientos confirmados diarios\": \"Fallecimientos confirmados diarios\", \"Promedio m\\u00f3vil \\u00faltimos 7 d\\u00edas\": \"Promedio m\\u00f3vil \\u00faltimos 7 d\\u00edas\"}, {\"Dates\": \"2020-03-26\", \"New_deaths\": 0, \"Rolling\": null, \"Fallecimientos confirmados diarios\": \"Fallecimientos confirmados diarios\", \"Promedio m\\u00f3vil \\u00faltimos 7 d\\u00edas\": \"Promedio m\\u00f3vil \\u00faltimos 7 d\\u00edas\"}, {\"Dates\": \"2020-03-27\", \"New_deaths\": 0, \"Rolling\": null, \"Fallecimientos confirmados diarios\": \"Fallecimientos confirmados diarios\", \"Promedio m\\u00f3vil \\u00faltimos 7 d\\u00edas\": \"Promedio m\\u00f3vil \\u00faltimos 7 d\\u00edas\"}, {\"Dates\": \"2020-03-28\", \"New_deaths\": 0, \"Rolling\": null, \"Fallecimientos confirmados diarios\": \"Fallecimientos confirmados diarios\", \"Promedio m\\u00f3vil \\u00faltimos 7 d\\u00edas\": \"Promedio m\\u00f3vil \\u00faltimos 7 d\\u00edas\"}, {\"Dates\": \"2020-03-29\", \"New_deaths\": 0, \"Rolling\": null, \"Fallecimientos confirmados diarios\": \"Fallecimientos confirmados diarios\", \"Promedio m\\u00f3vil \\u00faltimos 7 d\\u00edas\": \"Promedio m\\u00f3vil \\u00faltimos 7 d\\u00edas\"}, {\"Dates\": \"2020-03-30\", \"New_deaths\": 0, \"Rolling\": null, \"Fallecimientos confirmados diarios\": \"Fallecimientos confirmados diarios\", \"Promedio m\\u00f3vil \\u00faltimos 7 d\\u00edas\": \"Promedio m\\u00f3vil \\u00faltimos 7 d\\u00edas\"}, {\"Dates\": \"2020-03-31\", \"New_deaths\": 0, \"Rolling\": 0.0, \"Fallecimientos confirmados diarios\": \"Fallecimientos confirmados diarios\", \"Promedio m\\u00f3vil \\u00faltimos 7 d\\u00edas\": \"Promedio m\\u00f3vil \\u00faltimos 7 d\\u00edas\"}, {\"Dates\": \"2020-04-01\", \"New_deaths\": 0, \"Rolling\": 0.0, \"Fallecimientos confirmados diarios\": \"Fallecimientos confirmados diarios\", \"Promedio m\\u00f3vil \\u00faltimos 7 d\\u00edas\": \"Promedio m\\u00f3vil \\u00faltimos 7 d\\u00edas\"}, {\"Dates\": \"2020-04-02\", \"New_deaths\": 0, \"Rolling\": 0.0, \"Fallecimientos confirmados diarios\": \"Fallecimientos confirmados diarios\", \"Promedio m\\u00f3vil \\u00faltimos 7 d\\u00edas\": \"Promedio m\\u00f3vil \\u00faltimos 7 d\\u00edas\"}, {\"Dates\": \"2020-04-03\", \"New_deaths\": 1, \"Rolling\": 0.14285714285714285, \"Fallecimientos confirmados diarios\": \"Fallecimientos confirmados diarios\", \"Promedio m\\u00f3vil \\u00faltimos 7 d\\u00edas\": \"Promedio m\\u00f3vil \\u00faltimos 7 d\\u00edas\"}, {\"Dates\": \"2020-04-04\", \"New_deaths\": 1, \"Rolling\": 0.2857142857142857, \"Fallecimientos confirmados diarios\": \"Fallecimientos confirmados diarios\", \"Promedio m\\u00f3vil \\u00faltimos 7 d\\u00edas\": \"Promedio m\\u00f3vil \\u00faltimos 7 d\\u00edas\"}, {\"Dates\": \"2020-04-05\", \"New_deaths\": 0, \"Rolling\": 0.2857142857142857, \"Fallecimientos confirmados diarios\": \"Fallecimientos confirmados diarios\", \"Promedio m\\u00f3vil \\u00faltimos 7 d\\u00edas\": \"Promedio m\\u00f3vil \\u00faltimos 7 d\\u00edas\"}, {\"Dates\": \"2020-04-06\", \"New_deaths\": 0, \"Rolling\": 0.2857142857142857, \"Fallecimientos confirmados diarios\": \"Fallecimientos confirmados diarios\", \"Promedio m\\u00f3vil \\u00faltimos 7 d\\u00edas\": \"Promedio m\\u00f3vil \\u00faltimos 7 d\\u00edas\"}, {\"Dates\": \"2020-04-07\", \"New_deaths\": 0, \"Rolling\": 0.2857142857142857, \"Fallecimientos confirmados diarios\": \"Fallecimientos confirmados diarios\", \"Promedio m\\u00f3vil \\u00faltimos 7 d\\u00edas\": \"Promedio m\\u00f3vil \\u00faltimos 7 d\\u00edas\"}, {\"Dates\": \"2020-04-08\", \"New_deaths\": 1, \"Rolling\": 0.42857142857142855, \"Fallecimientos confirmados diarios\": \"Fallecimientos confirmados diarios\", \"Promedio m\\u00f3vil \\u00faltimos 7 d\\u00edas\": \"Promedio m\\u00f3vil \\u00faltimos 7 d\\u00edas\"}, {\"Dates\": \"2020-04-09\", \"New_deaths\": 0, \"Rolling\": 0.42857142857142855, \"Fallecimientos confirmados diarios\": \"Fallecimientos confirmados diarios\", \"Promedio m\\u00f3vil \\u00faltimos 7 d\\u00edas\": \"Promedio m\\u00f3vil \\u00faltimos 7 d\\u00edas\"}, {\"Dates\": \"2020-04-10\", \"New_deaths\": 0, \"Rolling\": 0.2857142857142857, \"Fallecimientos confirmados diarios\": \"Fallecimientos confirmados diarios\", \"Promedio m\\u00f3vil \\u00faltimos 7 d\\u00edas\": \"Promedio m\\u00f3vil \\u00faltimos 7 d\\u00edas\"}, {\"Dates\": \"2020-04-11\", \"New_deaths\": 0, \"Rolling\": 0.14285714285714285, \"Fallecimientos confirmados diarios\": \"Fallecimientos confirmados diarios\", \"Promedio m\\u00f3vil \\u00faltimos 7 d\\u00edas\": \"Promedio m\\u00f3vil \\u00faltimos 7 d\\u00edas\"}, {\"Dates\": \"2020-04-12\", \"New_deaths\": 1, \"Rolling\": 0.2857142857142857, \"Fallecimientos confirmados diarios\": \"Fallecimientos confirmados diarios\", \"Promedio m\\u00f3vil \\u00faltimos 7 d\\u00edas\": \"Promedio m\\u00f3vil \\u00faltimos 7 d\\u00edas\"}, {\"Dates\": \"2020-04-13\", \"New_deaths\": 1, \"Rolling\": 0.42857142857142855, \"Fallecimientos confirmados diarios\": \"Fallecimientos confirmados diarios\", \"Promedio m\\u00f3vil \\u00faltimos 7 d\\u00edas\": \"Promedio m\\u00f3vil \\u00faltimos 7 d\\u00edas\"}, {\"Dates\": \"2020-04-14\", \"New_deaths\": 1, \"Rolling\": 0.5714285714285714, \"Fallecimientos confirmados diarios\": \"Fallecimientos confirmados diarios\", \"Promedio m\\u00f3vil \\u00faltimos 7 d\\u00edas\": \"Promedio m\\u00f3vil \\u00faltimos 7 d\\u00edas\"}, {\"Dates\": \"2020-04-15\", \"New_deaths\": 0, \"Rolling\": 0.42857142857142855, \"Fallecimientos confirmados diarios\": \"Fallecimientos confirmados diarios\", \"Promedio m\\u00f3vil \\u00faltimos 7 d\\u00edas\": \"Promedio m\\u00f3vil \\u00faltimos 7 d\\u00edas\"}, {\"Dates\": \"2020-04-16\", \"New_deaths\": 0, \"Rolling\": 0.42857142857142855, \"Fallecimientos confirmados diarios\": \"Fallecimientos confirmados diarios\", \"Promedio m\\u00f3vil \\u00faltimos 7 d\\u00edas\": \"Promedio m\\u00f3vil \\u00faltimos 7 d\\u00edas\"}, {\"Dates\": \"2020-04-17\", \"New_deaths\": 0, \"Rolling\": 0.42857142857142855, \"Fallecimientos confirmados diarios\": \"Fallecimientos confirmados diarios\", \"Promedio m\\u00f3vil \\u00faltimos 7 d\\u00edas\": \"Promedio m\\u00f3vil \\u00faltimos 7 d\\u00edas\"}, {\"Dates\": \"2020-04-18\", \"New_deaths\": 0, \"Rolling\": 0.42857142857142855, \"Fallecimientos confirmados diarios\": \"Fallecimientos confirmados diarios\", \"Promedio m\\u00f3vil \\u00faltimos 7 d\\u00edas\": \"Promedio m\\u00f3vil \\u00faltimos 7 d\\u00edas\"}, {\"Dates\": \"2020-04-19\", \"New_deaths\": 0, \"Rolling\": 0.2857142857142857, \"Fallecimientos confirmados diarios\": \"Fallecimientos confirmados diarios\", \"Promedio m\\u00f3vil \\u00faltimos 7 d\\u00edas\": \"Promedio m\\u00f3vil \\u00faltimos 7 d\\u00edas\"}, {\"Dates\": \"2020-04-20\", \"New_deaths\": 0, \"Rolling\": 0.14285714285714285, \"Fallecimientos confirmados diarios\": \"Fallecimientos confirmados diarios\", \"Promedio m\\u00f3vil \\u00faltimos 7 d\\u00edas\": \"Promedio m\\u00f3vil \\u00faltimos 7 d\\u00edas\"}, {\"Dates\": \"2020-04-21\", \"New_deaths\": 1, \"Rolling\": 0.14285714285714285, \"Fallecimientos confirmados diarios\": \"Fallecimientos confirmados diarios\", \"Promedio m\\u00f3vil \\u00faltimos 7 d\\u00edas\": \"Promedio m\\u00f3vil \\u00faltimos 7 d\\u00edas\"}, {\"Dates\": \"2020-04-22\", \"New_deaths\": 0, \"Rolling\": 0.14285714285714285, \"Fallecimientos confirmados diarios\": \"Fallecimientos confirmados diarios\", \"Promedio m\\u00f3vil \\u00faltimos 7 d\\u00edas\": \"Promedio m\\u00f3vil \\u00faltimos 7 d\\u00edas\"}, {\"Dates\": \"2020-04-23\", \"New_deaths\": 0, \"Rolling\": 0.14285714285714285, \"Fallecimientos confirmados diarios\": \"Fallecimientos confirmados diarios\", \"Promedio m\\u00f3vil \\u00faltimos 7 d\\u00edas\": \"Promedio m\\u00f3vil \\u00faltimos 7 d\\u00edas\"}, {\"Dates\": \"2020-04-24\", \"New_deaths\": 1, \"Rolling\": 0.2857142857142857, \"Fallecimientos confirmados diarios\": \"Fallecimientos confirmados diarios\", \"Promedio m\\u00f3vil \\u00faltimos 7 d\\u00edas\": \"Promedio m\\u00f3vil \\u00faltimos 7 d\\u00edas\"}, {\"Dates\": \"2020-04-25\", \"New_deaths\": 0, \"Rolling\": 0.2857142857142857, \"Fallecimientos confirmados diarios\": \"Fallecimientos confirmados diarios\", \"Promedio m\\u00f3vil \\u00faltimos 7 d\\u00edas\": \"Promedio m\\u00f3vil \\u00faltimos 7 d\\u00edas\"}, {\"Dates\": \"2020-04-26\", \"New_deaths\": 1, \"Rolling\": 0.42857142857142855, \"Fallecimientos confirmados diarios\": \"Fallecimientos confirmados diarios\", \"Promedio m\\u00f3vil \\u00faltimos 7 d\\u00edas\": \"Promedio m\\u00f3vil \\u00faltimos 7 d\\u00edas\"}]}}, {\"mode\": \"vega-lite\"});\n",
       "</script>"
      ],
      "text/plain": [
       "alt.LayerChart(...)"
      ]
     },
     "execution_count": 73,
     "metadata": {},
     "output_type": "execute_result"
    }
   ],
   "source": [
    "#hide_input\n",
    "bars, line = my_deaths_plot(region)\n",
    "(bars + line).properties(\n",
    "    title=f'Covid-19 en Chile: Fallecimientos confirmados diarios en {region}',\n",
    "    width=600\n",
    ")"
   ]
  },
  {
   "cell_type": "code",
   "execution_count": null,
   "metadata": {},
   "outputs": [],
   "source": []
  }
 ],
 "metadata": {
  "kernelspec": {
   "display_name": "Python 3",
   "language": "python",
   "name": "python3"
  },
  "language_info": {
   "codemirror_mode": {
    "name": "ipython",
    "version": 3
   },
   "file_extension": ".py",
   "mimetype": "text/x-python",
   "name": "python",
   "nbconvert_exporter": "python",
   "pygments_lexer": "ipython3",
   "version": "3.7.5"
  }
 },
 "nbformat": 4,
 "nbformat_minor": 2
}
