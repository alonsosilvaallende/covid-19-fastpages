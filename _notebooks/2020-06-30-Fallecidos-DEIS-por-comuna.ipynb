{
 "cells": [
  {
   "cell_type": "markdown",
   "metadata": {},
   "source": [
    "# \"Fallecidos DEIS por comuna\"\n",
    "> Fallecidos DEIS por comuna.\n",
    "\n",
    "- toc: true \n",
    "- badges: true\n",
    "- comments: true\n",
    "- author: Alonso Silva Allende\n",
    "- categories: [jupyter]\n",
    "- image: images/diagram.png"
   ]
  },
  {
   "cell_type": "code",
   "execution_count": 1,
   "metadata": {},
   "outputs": [],
   "source": [
    "#hide\n",
    "import numpy as np\n",
    "import pandas as pd\n",
    "import altair as alt\n",
    "from IPython.display import display, Markdown, display_html, HTML"
   ]
  },
  {
   "cell_type": "code",
   "execution_count": 5,
   "metadata": {},
   "outputs": [],
   "source": [
    "#hide\n",
    "update_date = pd.to_datetime('today') - pd.offsets.Hour(19)"
   ]
  },
  {
   "cell_type": "code",
   "execution_count": 6,
   "metadata": {},
   "outputs": [
    {
     "data": {
      "text/markdown": [
       "Última actualización: 29/06/2020."
      ],
      "text/plain": [
       "<IPython.core.display.Markdown object>"
      ]
     },
     "metadata": {},
     "output_type": "display_data"
    }
   ],
   "source": [
    "#hide_input\n",
    "display(Markdown(f\"Última actualización: {update_date.strftime('%d/%m/%Y')}.\"))"
   ]
  },
  {
   "cell_type": "code",
   "execution_count": 3,
   "metadata": {},
   "outputs": [],
   "source": [
    "#hide\n",
    "data_raw = pd.read_csv(\n",
    "    \"https://raw.githubusercontent.com/alonsosilvaallende/COVID-19/master/data/DEIS_causa_COVID.csv\")"
   ]
  },
  {
   "cell_type": "markdown",
   "metadata": {},
   "source": [
    "# Fallecidos DEIS por comuna"
   ]
  },
  {
   "cell_type": "code",
   "execution_count": 4,
   "metadata": {},
   "outputs": [],
   "source": [
    "#hide\n",
    "data_raw = data_raw.drop(columns=\"año\")"
   ]
  },
  {
   "cell_type": "code",
   "execution_count": 8,
   "metadata": {},
   "outputs": [],
   "source": [
    "#hide\n",
    "data_RM = data_raw.query(\"region=='Metropolitana de Santiago'\")"
   ]
  },
  {
   "cell_type": "code",
   "execution_count": 10,
   "metadata": {},
   "outputs": [],
   "source": [
    "#hide\n",
    "confirmed_deaths = pd.Series(dtype=\"float64\")\n",
    "suspected_deaths = pd.Series(dtype='float64')\n",
    "for comuna in data_RM[\"comuna\"].unique():\n",
    "    confirmed_deaths[f\"{comuna}\"] = len(data_raw[(data_raw[\"código_detalle\"] == 'U07.1') & (data_raw[\"comuna\"] == f'{comuna}')])\n",
    "    suspected_deaths[f\"{comuna}\"] = len(data_raw[(data_raw[\"código_detalle\"] == 'U07.2') & (data_raw[\"comuna\"] == f'{comuna}')])"
   ]
  },
  {
   "cell_type": "code",
   "execution_count": 11,
   "metadata": {},
   "outputs": [],
   "source": [
    "#hide\n",
    "deaths = pd.DataFrame()\n",
    "deaths[\"Comuna\"] = data_RM[\"comuna\"].unique()\n",
    "deaths = deaths.set_index(\"Comuna\")"
   ]
  },
  {
   "cell_type": "code",
   "execution_count": 12,
   "metadata": {},
   "outputs": [],
   "source": [
    "#hide\n",
    "deaths[\"COVID Confirmado\"] = confirmed_deaths\n",
    "deaths[\"COVID Sospechoso\"] = suspected_deaths"
   ]
  },
  {
   "cell_type": "code",
   "execution_count": 13,
   "metadata": {},
   "outputs": [],
   "source": [
    "#hide\n",
    "deaths_long_format = deaths.reset_index().melt(\"Comuna\", var_name=\"Causa\", value_name=\"Fallecidos\")"
   ]
  },
  {
   "cell_type": "code",
   "execution_count": 25,
   "metadata": {},
   "outputs": [
    {
     "data": {
      "text/html": [
       "\n",
       "<div id=\"altair-viz-808b9e51e95b408f9e8b1979550c9174\"></div>\n",
       "<script type=\"text/javascript\">\n",
       "  (function(spec, embedOpt){\n",
       "    let outputDiv = document.currentScript.previousElementSibling;\n",
       "    if (outputDiv.id !== \"altair-viz-808b9e51e95b408f9e8b1979550c9174\") {\n",
       "      outputDiv = document.getElementById(\"altair-viz-808b9e51e95b408f9e8b1979550c9174\");\n",
       "    }\n",
       "    const paths = {\n",
       "      \"vega\": \"https://cdn.jsdelivr.net/npm//vega@5?noext\",\n",
       "      \"vega-lib\": \"https://cdn.jsdelivr.net/npm//vega-lib?noext\",\n",
       "      \"vega-lite\": \"https://cdn.jsdelivr.net/npm//vega-lite@4.8.1?noext\",\n",
       "      \"vega-embed\": \"https://cdn.jsdelivr.net/npm//vega-embed@6?noext\",\n",
       "    };\n",
       "\n",
       "    function loadScript(lib) {\n",
       "      return new Promise(function(resolve, reject) {\n",
       "        var s = document.createElement('script');\n",
       "        s.src = paths[lib];\n",
       "        s.async = true;\n",
       "        s.onload = () => resolve(paths[lib]);\n",
       "        s.onerror = () => reject(`Error loading script: ${paths[lib]}`);\n",
       "        document.getElementsByTagName(\"head\")[0].appendChild(s);\n",
       "      });\n",
       "    }\n",
       "\n",
       "    function showError(err) {\n",
       "      outputDiv.innerHTML = `<div class=\"error\" style=\"color:red;\">${err}</div>`;\n",
       "      throw err;\n",
       "    }\n",
       "\n",
       "    function displayChart(vegaEmbed) {\n",
       "      vegaEmbed(outputDiv, spec, embedOpt)\n",
       "        .catch(err => showError(`Javascript Error: ${err.message}<br>This usually means there's a typo in your chart specification. See the javascript console for the full traceback.`));\n",
       "    }\n",
       "\n",
       "    if(typeof define === \"function\" && define.amd) {\n",
       "      requirejs.config({paths});\n",
       "      require([\"vega-embed\"], displayChart, err => showError(`Error loading script: ${err.message}`));\n",
       "    } else if (typeof vegaEmbed === \"function\") {\n",
       "      displayChart(vegaEmbed);\n",
       "    } else {\n",
       "      loadScript(\"vega\")\n",
       "        .then(() => loadScript(\"vega-lite\"))\n",
       "        .then(() => loadScript(\"vega-embed\"))\n",
       "        .catch(showError)\n",
       "        .then(() => displayChart(vegaEmbed));\n",
       "    }\n",
       "  })({\"config\": {\"view\": {\"continuousWidth\": 400, \"continuousHeight\": 300}}, \"layer\": [{\"mark\": {\"type\": \"bar\", \"opacity\": 0.7, \"size\": 25}, \"encoding\": {\"color\": {\"type\": \"nominal\", \"field\": \"Causa\", \"sort\": [\"Confirmado\", \"Sospechoso\"]}, \"order\": {\"type\": \"nominal\", \"field\": \"Causa\"}, \"tooltip\": [{\"type\": \"nominal\", \"field\": \"Comuna\"}, {\"type\": \"quantitative\", \"field\": \"Fallecidos\"}], \"x\": {\"type\": \"quantitative\", \"field\": \"Fallecidos\", \"stack\": \"zero\"}, \"y\": {\"type\": \"nominal\", \"field\": \"Comuna\", \"sort\": \"-x\"}}}, {\"mark\": {\"type\": \"text\", \"color\": \"#636363\", \"dx\": -11, \"dy\": 0}, \"encoding\": {\"color\": {\"type\": \"nominal\", \"field\": \"Causa\", \"sort\": [\"Confirmado\", \"Sospechoso\"]}, \"order\": {\"type\": \"nominal\", \"field\": \"Causa\"}, \"text\": {\"type\": \"quantitative\", \"field\": \"Fallecidos\", \"format\": \",.0f\"}, \"x\": {\"type\": \"quantitative\", \"field\": \"Fallecidos\", \"stack\": \"zero\"}, \"y\": {\"type\": \"nominal\", \"field\": \"Comuna\", \"sort\": \"-x\"}}}], \"data\": {\"name\": \"data-4284dc0c2f700538c3af9a66127b57c5\"}, \"height\": {\"step\": 30}, \"title\": \"Total fallecidos DEIS por comuna de la R.M. al 28/06\", \"width\": 600, \"$schema\": \"https://vega.github.io/schema/vega-lite/v4.8.1.json\", \"datasets\": {\"data-4284dc0c2f700538c3af9a66127b57c5\": [{\"Comuna\": \"Santiago\", \"Causa\": \"COVID Confirmado\", \"Fallecidos\": 168}, {\"Comuna\": \"El Monte\", \"Causa\": \"COVID Confirmado\", \"Fallecidos\": 21}, {\"Comuna\": \"Melipilla\", \"Causa\": \"COVID Confirmado\", \"Fallecidos\": 58}, {\"Comuna\": \"Las Condes\", \"Causa\": \"COVID Confirmado\", \"Fallecidos\": 193}, {\"Comuna\": \"La Reina\", \"Causa\": \"COVID Confirmado\", \"Fallecidos\": 49}, {\"Comuna\": \"Pirque\", \"Causa\": \"COVID Confirmado\", \"Fallecidos\": 7}, {\"Comuna\": \"Conchal\\u00ed\", \"Causa\": \"COVID Confirmado\", \"Fallecidos\": 138}, {\"Comuna\": \"Colina\", \"Causa\": \"COVID Confirmado\", \"Fallecidos\": 63}, {\"Comuna\": \"Lo Barnechea\", \"Causa\": \"COVID Confirmado\", \"Fallecidos\": 42}, {\"Comuna\": \"La Cisterna\", \"Causa\": \"COVID Confirmado\", \"Fallecidos\": 86}, {\"Comuna\": \"Paine\", \"Causa\": \"COVID Confirmado\", \"Fallecidos\": 19}, {\"Comuna\": \"San Bernardo\", \"Causa\": \"COVID Confirmado\", \"Fallecidos\": 207}, {\"Comuna\": \"San Ram\\u00f3n\", \"Causa\": \"COVID Confirmado\", \"Fallecidos\": 120}, {\"Comuna\": \"Providencia\", \"Causa\": \"COVID Confirmado\", \"Fallecidos\": 91}, {\"Comuna\": \"Pedro Aguirre Cerda\", \"Causa\": \"COVID Confirmado\", \"Fallecidos\": 131}, {\"Comuna\": \"Macul\", \"Causa\": \"COVID Confirmado\", \"Fallecidos\": 102}, {\"Comuna\": \"Estaci\\u00f3n Central\", \"Causa\": \"COVID Confirmado\", \"Fallecidos\": 92}, {\"Comuna\": \"Huechuraba\", \"Causa\": \"COVID Confirmado\", \"Fallecidos\": 100}, {\"Comuna\": \"Recoleta\", \"Causa\": \"COVID Confirmado\", \"Fallecidos\": 231}, {\"Comuna\": \"San Miguel\", \"Causa\": \"COVID Confirmado\", \"Fallecidos\": 112}, {\"Comuna\": \"Pudahuel\", \"Causa\": \"COVID Confirmado\", \"Fallecidos\": 155}, {\"Comuna\": \"Isla de Maipo\", \"Causa\": \"COVID Confirmado\", \"Fallecidos\": 11}, {\"Comuna\": \"Pe\\u00f1aflor\", \"Causa\": \"COVID Confirmado\", \"Fallecidos\": 65}, {\"Comuna\": \"Buin\", \"Causa\": \"COVID Confirmado\", \"Fallecidos\": 58}, {\"Comuna\": \"La Pintana\", \"Causa\": \"COVID Confirmado\", \"Fallecidos\": 177}, {\"Comuna\": \"\\u00d1u\\u00f1oa\", \"Causa\": \"COVID Confirmado\", \"Fallecidos\": 149}, {\"Comuna\": \"Vitacura\", \"Causa\": \"COVID Confirmado\", \"Fallecidos\": 42}, {\"Comuna\": \"Independencia\", \"Causa\": \"COVID Confirmado\", \"Fallecidos\": 172}, {\"Comuna\": \"San Joaqu\\u00edn\", \"Causa\": \"COVID Confirmado\", \"Fallecidos\": 85}, {\"Comuna\": \"La Granja\", \"Causa\": \"COVID Confirmado\", \"Fallecidos\": 129}, {\"Comuna\": \"La Florida\", \"Causa\": \"COVID Confirmado\", \"Fallecidos\": 263}, {\"Comuna\": \"Cerro Navia\", \"Causa\": \"COVID Confirmado\", \"Fallecidos\": 180}, {\"Comuna\": \"Pe\\u00f1alol\\u00e9n\", \"Causa\": \"COVID Confirmado\", \"Fallecidos\": 201}, {\"Comuna\": \"Maip\\u00fa\", \"Causa\": \"COVID Confirmado\", \"Fallecidos\": 257}, {\"Comuna\": \"Lo Espejo\", \"Causa\": \"COVID Confirmado\", \"Fallecidos\": 107}, {\"Comuna\": \"Quinta Normal\", \"Causa\": \"COVID Confirmado\", \"Fallecidos\": 108}, {\"Comuna\": \"Cerrillos\", \"Causa\": \"COVID Confirmado\", \"Fallecidos\": 37}, {\"Comuna\": \"Alhu\\u00e9\", \"Causa\": \"COVID Confirmado\", \"Fallecidos\": 2}, {\"Comuna\": \"Renca\", \"Causa\": \"COVID Confirmado\", \"Fallecidos\": 122}, {\"Comuna\": \"El Bosque\", \"Causa\": \"COVID Confirmado\", \"Fallecidos\": 117}, {\"Comuna\": \"Quilicura\", \"Causa\": \"COVID Confirmado\", \"Fallecidos\": 103}, {\"Comuna\": \"Mar\\u00eda Pinto\", \"Causa\": \"COVID Confirmado\", \"Fallecidos\": 2}, {\"Comuna\": \"Lo Prado\", \"Causa\": \"COVID Confirmado\", \"Fallecidos\": 87}, {\"Comuna\": \"Puente Alto\", \"Causa\": \"COVID Confirmado\", \"Fallecidos\": 375}, {\"Comuna\": \"Talagante\", \"Causa\": \"COVID Confirmado\", \"Fallecidos\": 37}, {\"Comuna\": \"Curacav\\u00ed\", \"Causa\": \"COVID Confirmado\", \"Fallecidos\": 10}, {\"Comuna\": \"Padre Hurtado\", \"Causa\": \"COVID Confirmado\", \"Fallecidos\": 33}, {\"Comuna\": \"Calera de Tango\", \"Causa\": \"COVID Confirmado\", \"Fallecidos\": 5}, {\"Comuna\": \"San Jos\\u00e9 de Maipo\", \"Causa\": \"COVID Confirmado\", \"Fallecidos\": 5}, {\"Comuna\": \"Lampa\", \"Causa\": \"COVID Confirmado\", \"Fallecidos\": 40}, {\"Comuna\": \"San Pedro\", \"Causa\": \"COVID Confirmado\", \"Fallecidos\": 2}, {\"Comuna\": \"Tiltil\", \"Causa\": \"COVID Confirmado\", \"Fallecidos\": 7}, {\"Comuna\": \"Santiago\", \"Causa\": \"COVID Sospechoso\", \"Fallecidos\": 143}, {\"Comuna\": \"El Monte\", \"Causa\": \"COVID Sospechoso\", \"Fallecidos\": 11}, {\"Comuna\": \"Melipilla\", \"Causa\": \"COVID Sospechoso\", \"Fallecidos\": 20}, {\"Comuna\": \"Las Condes\", \"Causa\": \"COVID Sospechoso\", \"Fallecidos\": 49}, {\"Comuna\": \"La Reina\", \"Causa\": \"COVID Sospechoso\", \"Fallecidos\": 13}, {\"Comuna\": \"Pirque\", \"Causa\": \"COVID Sospechoso\", \"Fallecidos\": 7}, {\"Comuna\": \"Conchal\\u00ed\", \"Causa\": \"COVID Sospechoso\", \"Fallecidos\": 61}, {\"Comuna\": \"Colina\", \"Causa\": \"COVID Sospechoso\", \"Fallecidos\": 22}, {\"Comuna\": \"Lo Barnechea\", \"Causa\": \"COVID Sospechoso\", \"Fallecidos\": 12}, {\"Comuna\": \"La Cisterna\", \"Causa\": \"COVID Sospechoso\", \"Fallecidos\": 29}, {\"Comuna\": \"Paine\", \"Causa\": \"COVID Sospechoso\", \"Fallecidos\": 9}, {\"Comuna\": \"San Bernardo\", \"Causa\": \"COVID Sospechoso\", \"Fallecidos\": 59}, {\"Comuna\": \"San Ram\\u00f3n\", \"Causa\": \"COVID Sospechoso\", \"Fallecidos\": 46}, {\"Comuna\": \"Providencia\", \"Causa\": \"COVID Sospechoso\", \"Fallecidos\": 30}, {\"Comuna\": \"Pedro Aguirre Cerda\", \"Causa\": \"COVID Sospechoso\", \"Fallecidos\": 38}, {\"Comuna\": \"Macul\", \"Causa\": \"COVID Sospechoso\", \"Fallecidos\": 22}, {\"Comuna\": \"Estaci\\u00f3n Central\", \"Causa\": \"COVID Sospechoso\", \"Fallecidos\": 58}, {\"Comuna\": \"Huechuraba\", \"Causa\": \"COVID Sospechoso\", \"Fallecidos\": 32}, {\"Comuna\": \"Recoleta\", \"Causa\": \"COVID Sospechoso\", \"Fallecidos\": 63}, {\"Comuna\": \"San Miguel\", \"Causa\": \"COVID Sospechoso\", \"Fallecidos\": 32}, {\"Comuna\": \"Pudahuel\", \"Causa\": \"COVID Sospechoso\", \"Fallecidos\": 29}, {\"Comuna\": \"Isla de Maipo\", \"Causa\": \"COVID Sospechoso\", \"Fallecidos\": 6}, {\"Comuna\": \"Pe\\u00f1aflor\", \"Causa\": \"COVID Sospechoso\", \"Fallecidos\": 14}, {\"Comuna\": \"Buin\", \"Causa\": \"COVID Sospechoso\", \"Fallecidos\": 11}, {\"Comuna\": \"La Pintana\", \"Causa\": \"COVID Sospechoso\", \"Fallecidos\": 87}, {\"Comuna\": \"\\u00d1u\\u00f1oa\", \"Causa\": \"COVID Sospechoso\", \"Fallecidos\": 65}, {\"Comuna\": \"Vitacura\", \"Causa\": \"COVID Sospechoso\", \"Fallecidos\": 11}, {\"Comuna\": \"Independencia\", \"Causa\": \"COVID Sospechoso\", \"Fallecidos\": 53}, {\"Comuna\": \"San Joaqu\\u00edn\", \"Causa\": \"COVID Sospechoso\", \"Fallecidos\": 29}, {\"Comuna\": \"La Granja\", \"Causa\": \"COVID Sospechoso\", \"Fallecidos\": 45}, {\"Comuna\": \"La Florida\", \"Causa\": \"COVID Sospechoso\", \"Fallecidos\": 84}, {\"Comuna\": \"Cerro Navia\", \"Causa\": \"COVID Sospechoso\", \"Fallecidos\": 68}, {\"Comuna\": \"Pe\\u00f1alol\\u00e9n\", \"Causa\": \"COVID Sospechoso\", \"Fallecidos\": 46}, {\"Comuna\": \"Maip\\u00fa\", \"Causa\": \"COVID Sospechoso\", \"Fallecidos\": 143}, {\"Comuna\": \"Lo Espejo\", \"Causa\": \"COVID Sospechoso\", \"Fallecidos\": 29}, {\"Comuna\": \"Quinta Normal\", \"Causa\": \"COVID Sospechoso\", \"Fallecidos\": 36}, {\"Comuna\": \"Cerrillos\", \"Causa\": \"COVID Sospechoso\", \"Fallecidos\": 14}, {\"Comuna\": \"Alhu\\u00e9\", \"Causa\": \"COVID Sospechoso\", \"Fallecidos\": 0}, {\"Comuna\": \"Renca\", \"Causa\": \"COVID Sospechoso\", \"Fallecidos\": 34}, {\"Comuna\": \"El Bosque\", \"Causa\": \"COVID Sospechoso\", \"Fallecidos\": 51}, {\"Comuna\": \"Quilicura\", \"Causa\": \"COVID Sospechoso\", \"Fallecidos\": 22}, {\"Comuna\": \"Mar\\u00eda Pinto\", \"Causa\": \"COVID Sospechoso\", \"Fallecidos\": 1}, {\"Comuna\": \"Lo Prado\", \"Causa\": \"COVID Sospechoso\", \"Fallecidos\": 20}, {\"Comuna\": \"Puente Alto\", \"Causa\": \"COVID Sospechoso\", \"Fallecidos\": 107}, {\"Comuna\": \"Talagante\", \"Causa\": \"COVID Sospechoso\", \"Fallecidos\": 12}, {\"Comuna\": \"Curacav\\u00ed\", \"Causa\": \"COVID Sospechoso\", \"Fallecidos\": 1}, {\"Comuna\": \"Padre Hurtado\", \"Causa\": \"COVID Sospechoso\", \"Fallecidos\": 10}, {\"Comuna\": \"Calera de Tango\", \"Causa\": \"COVID Sospechoso\", \"Fallecidos\": 3}, {\"Comuna\": \"San Jos\\u00e9 de Maipo\", \"Causa\": \"COVID Sospechoso\", \"Fallecidos\": 7}, {\"Comuna\": \"Lampa\", \"Causa\": \"COVID Sospechoso\", \"Fallecidos\": 20}, {\"Comuna\": \"San Pedro\", \"Causa\": \"COVID Sospechoso\", \"Fallecidos\": 0}, {\"Comuna\": \"Tiltil\", \"Causa\": \"COVID Sospechoso\", \"Fallecidos\": 1}]}}, {\"mode\": \"vega-lite\"});\n",
       "</script>"
      ],
      "text/plain": [
       "alt.LayerChart(...)"
      ]
     },
     "execution_count": 25,
     "metadata": {},
     "output_type": "execute_result"
    }
   ],
   "source": [
    "#hide_input\n",
    "bars = alt.Chart(deaths_long_format).mark_bar(opacity=0.7, size=25).encode(\n",
    "    x = alt.X('Fallecidos:Q', stack='zero'),\n",
    "    y = alt.Y('Comuna', sort='-x'),\n",
    "    tooltip = ['Comuna', 'Fallecidos'],\n",
    "    color = alt.Color('Causa', sort=['Confirmado','Sospechoso']),\n",
    "    order = alt.Order('Causa')\n",
    ")\n",
    "\n",
    "text = alt.Chart(deaths_long_format).mark_text(dx=-11, dy=0, color=\"#636363\").encode(\n",
    "     x=alt.X('Fallecidos:Q', stack='zero'),\n",
    "     y=alt.Y('Comuna', sort='-x'),\n",
    "     color=alt.Color('Causa', sort=['Confirmado','Sospechoso']),\n",
    "     order = alt.Order(\"Causa\"),\n",
    "     text=alt.Text(\"Fallecidos\", format=',.0f')\n",
    ")\n",
    "(bars+text).properties(\n",
    "    title = f\"Total fallecidos DEIS por comuna de la R.M. al {pd.to_datetime('2020-06-28').strftime('%d/%m')}\",\n",
    "    width = 600,\n",
    "    height = alt.Step(30)\n",
    ")"
   ]
  },
  {
   "cell_type": "code",
   "execution_count": null,
   "metadata": {},
   "outputs": [],
   "source": []
  }
 ],
 "metadata": {
  "kernelspec": {
   "display_name": "Python 3",
   "language": "python",
   "name": "python3"
  },
  "language_info": {
   "codemirror_mode": {
    "name": "ipython",
    "version": 3
   },
   "file_extension": ".py",
   "mimetype": "text/x-python",
   "name": "python",
   "nbconvert_exporter": "python",
   "pygments_lexer": "ipython3",
   "version": "3.8.2"
  }
 },
 "nbformat": 4,
 "nbformat_minor": 4
}
